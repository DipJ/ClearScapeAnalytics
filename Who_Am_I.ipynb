{
 "cells": [
  {
   "cell_type": "code",
   "execution_count": null,
   "id": "aef2543f-79b9-4b46-b545-683ec7c69327",
   "metadata": {},
   "outputs": [],
   "source": [
    "# This routine will valiate your logon and default database.\n",
    "# It is also useful for making your machine look active, preventing being suspended\n",
    "\n",
    "import getpass\n",
    "from teradataml import *\n",
    "\n",
    "try:\n",
    "    password = globals()[\"password\"]\n",
    "    remove_context()\n",
    "except:\n",
    "    password = getpass.getpass(prompt='\\\\nEnter password for user DemoNow: ')\n",
    "    eng = create_context(host = 'host.docker.internal', username='demo_user', password = password)\n",
    "  \n",
    "qry = '''Select cast((current_timestamp (format 'E3bMM/DDbHH:MI:SS')) as varchar(20)) as \"Time\" , database, user, session;'''\n",
    "df_sql = pd.read_sql(qry, eng)\n",
    "df_sql"
   ]
  }
 ],
 "metadata": {
  "kernelspec": {
   "display_name": "Python 3 (ipykernel)",
   "language": "python",
   "name": "python3"
  },
  "language_info": {
   "codemirror_mode": {
    "name": "ipython",
    "version": 3
   },
   "file_extension": ".py",
   "mimetype": "text/x-python",
   "name": "python",
   "nbconvert_exporter": "python",
   "pygments_lexer": "ipython3",
   "version": "3.9.10"
  }
 },
 "nbformat": 4,
 "nbformat_minor": 5
}
