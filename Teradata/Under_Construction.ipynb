{
 "cells": [
  {
   "cell_type": "markdown",
   "id": "196b3822-1ee1-4fdb-86bd-dac6dd603a68",
   "metadata": {},
   "source": [
    "### Under Construction Notebook\n",
    "\n",
    "The following notebooks are not on the index for one or more reasons.\n",
    "\n",
    "[Parkinsons Disease Prediction](../UseCases/.Parkinsons_Disease_Prediction/Parkinsons_Disease_Prediction_PY_SQL.ipynb)\n",
    "Accuracy with current version of Decision Forest prediction\n",
    "\n",
    "[Grocery Recommender using Bert](../UseCases/.BERT_Grocery_Recommender/BERT_Grocery_Recommender.ipynb) Still under development. Uses CSV files not present. Need to get data from cloud\n",
    "\n",
    "ModelOps has been installed and notebooks created that have not been standardized.  For testing purposes, you can switch to the branch containing the notebooks created to accompany ModelOps. Note that if you have changed and saved any of the standard notebooks, the first switch below may fail due to version conflicts.  The second one will force the switch, however it is uncertain if your work will be overlaid.  The final swtich will put you back on main (to view the damage)"
   ]
  },
  {
   "cell_type": "markdown",
   "id": "f2548306-ea94-423b-9ed4-4fa327469b97",
   "metadata": {},
   "source": [
    "#### Switch to ModelOps without force"
   ]
  },
  {
   "cell_type": "code",
   "execution_count": null,
   "id": "02325ebb-ac34-4eb2-a349-2f0dd4e18770",
   "metadata": {},
   "outputs": [],
   "source": [
    "!git switch modelops_v0"
   ]
  },
  {
   "cell_type": "markdown",
   "id": "0d0eb3a1-9f4b-4854-8ac2-a3f598e626a9",
   "metadata": {},
   "source": [
    "#### Switch to ModelOps forcing without regard to any changes you made to other notebooks"
   ]
  },
  {
   "cell_type": "code",
   "execution_count": null,
   "id": "ee85fd6c-3b11-4d54-bb37-b4fdff62d1ae",
   "metadata": {},
   "outputs": [],
   "source": [
    "!git switch modelops_v0 -f"
   ]
  },
  {
   "cell_type": "markdown",
   "id": "8641c0a7-8793-4627-a43e-4645bad28c5f",
   "metadata": {},
   "source": [
    "After you have switched to ModelOps, the ModelOps directory will appear under UseCases in the file navigator on the left. It has not been added to the Table of Contents on the right. "
   ]
  },
  {
   "cell_type": "markdown",
   "id": "0d99dc89-1a7f-4df3-a7b1-da1dab10bf49",
   "metadata": {},
   "source": [
    "#### Switch back to main (the default branch)"
   ]
  },
  {
   "cell_type": "code",
   "execution_count": null,
   "id": "435a8a97-23db-431d-92f3-b03ab84ef8c9",
   "metadata": {},
   "outputs": [],
   "source": [
    "!git switch main"
   ]
  }
 ],
 "metadata": {
  "kernelspec": {
   "display_name": "Python 3 (ipykernel)",
   "language": "python",
   "name": "python3"
  },
  "language_info": {
   "codemirror_mode": {
    "name": "ipython",
    "version": 3
   },
   "file_extension": ".py",
   "mimetype": "text/x-python",
   "name": "python",
   "nbconvert_exporter": "python",
   "pygments_lexer": "ipython3",
   "version": "3.9.10"
  }
 },
 "nbformat": 4,
 "nbformat_minor": 5
}
