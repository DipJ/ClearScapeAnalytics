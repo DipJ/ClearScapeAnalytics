{
 "cells": [
  {
   "cell_type": "markdown",
   "id": "governmental-imagination",
   "metadata": {},
   "source": [
    "<header style=\"padding:1px;background:#f9f9f9;border-top:3px solid #00b2b1\"><img id=\"Teradata-logo\" src=\"https://www.teradata.com/Teradata/Images/Rebrand/Teradata_logo-two_color.png\" alt=\"Teradata\" width=\"220\" align=\"right\" />\n",
    "\n",
    "<b style = 'font-size:28px;font-family:Arial;color:#E37C4D'>Sharing Your Demonstrations</b>\n",
    "</header>"
   ]
  },
  {
   "cell_type": "markdown",
   "id": "worldwide-plumbing",
   "metadata": {},
   "source": [
    "You have learned by following the examples of others.  Consider \"paying it forward\" by submitting your creative work for others to use. If you follow some basic practices in the development of your demonstration, it will be much easier to submit and for us to re-publish.<img src=\"Sharing_Demo.jpg\" style=\"float: right; margin-left: 10px; height: 50px; width: auto;\" />\n",
    "\n",
    "<b>It is as easy as 1-2-3:</b> 1) Put your demo files in a folder, 2) put your data/objects in a database, 3) Grant us access and send us an e-mail\n",
    "\n",
    "You may choose to submit anonymously or list your name, with or without contact information. With contact information, you may get improvements or corrections to your demonstration and likely praise for your good work. \n",
    "\n",
    "## Organizing Your Demo\n",
    "Your demonstration may use multiple files and/or your Jupyter notebook may include graphics. It is best to create a directory for your demonstration and put all of the files including the notebook within that directory. We generally make the directory name the same as the Jupyter Notebook, but without the .ipynb suffix.  Example:\n",
    "-    UseCases\n",
    "-        ...\n",
    "-        My_Demo\n",
    "-            My_Demo.ipynb\n",
    "-            images\n",
    "-               My_Demo.jpg           (thumbnail of a major output)\n",
    "-               Picture1.jpg\n",
    "-               Picture2.jpg\n",
    "-            data\n",
    "-               Sample.csv\n",
    "-         ...\n",
    "\n",
    "## Suggested Outline Of Your Notebook\n",
    "- It is best to start with a paragraph describing the business situation and how this demonstration addresses that business situation.\n",
    "- If your notebook has more than a few steps, provide a high level outline of the steps you will be going through. This is high level.  Each step in the notebook may take multiple queries or code blocks. \n",
    "- Provide a description before each code block of what that code block will be doing. If your notebook is more than 20 steps, you may want to put a heading from your high level overview of the notebook using the markdown ## marker before that step name so the user can easily jump to areas of interest\n",
    "- If you have reference information about the functions or citations of the data source or algorithms, include a list of those citations at the end of your notebook\n",
    "- Finally, you may want to list yourself as the author and provide the reader a little background about you. \n",
    "\n",
    "## Organizing The Data Used In Your Demo\n",
    "<b>Let's keep this simple.</b> Create a database under demo_user that has your tables, views, and any other objects needed for your notebook.  Example:\n",
    "- create database my_demo as perm = 2 * 1024**3;\n",
    "\n",
    "When you are ready to submit, grant access to demo_monitor. (We don't have access to your data and can't use DBC to get access to your data)\n",
    "- grant select on my_demo to demo_monitor;\n"
   ]
  },
  {
   "cell_type": "markdown",
   "id": "published-truck",
   "metadata": {},
   "source": [
    "## Submitting Your Demonstration\n",
    "\n",
    "[Click Here to Submit](mailto:SC230208@teradata.com?subject=ClearScape%20Analytics%20Demo%20Submission)\n",
    "\n",
    "Be sure to include \n",
    "- the name of the database and name of the folder containing your demo\n",
    "- the source of the data. We need to ensure that we have rights to publish the data.\n",
    "- whether you want to remain anonymous or if we may give you and your organization credit for your good work\n",
    "\n",
    "## What we will do\n",
    "- We will use SCP to make a copy of the folder containing your demo.  \n",
    "- We will upload data from your database to the cloud\n",
    "- We will see if we can install your demo and data on a new machine\n",
    "- We will curate the demo to ensure it is usable by the general public\n",
    "- If you've given us permission to give you credit, we will let you review the results of the curation\n",
    "\n",
    "We may come back to you to have you give the demo to us on a recorded Team session so we understand how to deliver it. (We aren't experts on everything)"
   ]
  },
  {
   "cell_type": "code",
   "execution_count": null,
   "id": "decbbc43-7d01-4d09-8ead-d9503079a467",
   "metadata": {},
   "outputs": [],
   "source": []
  }
 ],
 "metadata": {
  "kernelspec": {
   "display_name": "Teradata SQL",
   "language": "Teradata SQL",
   "name": "teradatasql"
  },
  "language_info": {
   "codemirror_mode": "Teradata SQL",
   "file_extension": ".tdrs",
   "mimetype": "application/vnd.teradata.resultset",
   "name": "Teradata SQL",
   "nbconvert_exporter": "",
   "pygments_lexer": "",
   "version": "16.20"
  }
 },
 "nbformat": 4,
 "nbformat_minor": 5
}
