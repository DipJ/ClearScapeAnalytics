{
 "cells": [
  {
   "cell_type": "markdown",
   "id": "48d6e33b-d103-4a4f-839a-7b13b76567fa",
   "metadata": {},
   "source": [
    "<header style=\"padding:1px;background:#f9f9f9;border-top:3px solid #00b2b1\"><img id=\"Teradata-logo\" src=\"https://www.teradata.com/Teradata/Images/Rebrand/Teradata_logo-two_color.png\" alt=\"Teradata\" width=\"220\" align=\"right\" />\n",
    "\n",
    "<b style = 'font-size:28px;font-family:Arial;color:#E37C4D'>Submitting Demos to ClearScape Analytics Experience</b>\n",
    "</header>"
   ]
  },
  {
   "cell_type": "markdown",
   "id": "24bea28e-c67d-421c-bb0c-b485c1b045e4",
   "metadata": {},
   "source": [
    "<p style='font-size:16px;font-family:Arial;'>\n",
    "    This video provides an overview of the steps to creating and submitting a demonstration for publication on ClearScape Analytics Experience.\n",
    "    <b>It is as easy as 1-2-3:</b>\n",
    "</p>\n",
    "\n",
    "<ol style='font-size:16px;font-family:Arial;'>\n",
    "    <li>Put your demo files in a folder,</li>\n",
    "    <li>Put your data/objects in a database,</li>\n",
    "    <li>Grant us access and send us an e-mail</li>\n",
    "</ol>\n",
    "\n",
    "<p style='font-size:16px;font-family:Arial;'>\n",
    "    Run Time: 1:53 <i>(you can click on icons on lower right to maximize screen or change playback speed)</i>\n",
    "</p>\n",
    "\n",
    "<video controls width=\"800\" height=\"500\" src=\"https://storage.googleapis.com/clearscape_analytics_videos/Submitting_Demos_To_Publish.mp4\" />"
   ]
  },
  {
   "cell_type": "markdown",
   "id": "5012b70c-ee30-403b-99f9-6a25e7903eac",
   "metadata": {},
   "source": [
    "<footer style=\"padding:10px;background:#f9f9f9;border-bottom:3px solid #394851\">©2023 Teradata. All Rights Reserved</footer>"
   ]
  }
 ],
 "metadata": {
  "kernelspec": {
   "display_name": "Teradata SQL",
   "language": "Teradata SQL",
   "name": "teradatasql"
  },
  "language_info": {
   "codemirror_mode": "Teradata SQL",
   "file_extension": ".tdrs",
   "mimetype": "application/vnd.teradata.resultset",
   "name": "Teradata SQL",
   "nbconvert_exporter": "",
   "pygments_lexer": "",
   "version": "16.20"
  }
 },
 "nbformat": 4,
 "nbformat_minor": 5
}
