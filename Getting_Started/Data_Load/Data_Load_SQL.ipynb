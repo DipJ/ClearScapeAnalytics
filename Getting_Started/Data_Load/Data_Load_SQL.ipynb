{
 "cells": [
  {
   "cell_type": "markdown",
   "id": "14997a75-9741-42e7-8e96-a4534fc3cdd8",
   "metadata": {},
   "source": [
    "<header style=\"padding:1px;background:#f9f9f9;border-top:3px solid #00b2b1\"><img id=\"Teradata-logo\" src=\"https://www.teradata.com/Teradata/Images/Rebrand/Teradata_logo-two_color.png\" alt=\"Teradata\" width=\"220\" align=\"right\" />\n",
    "\n",
    "<b style = 'font-size:28px;font-family:Arial;color:#E37C4D'>Load data to Vantage</b>\n",
    "</header>\n",
    "\n",
    "<p style = 'font-size:16px;font-family:Arial'>Welcome to this introductory guide. This guide will walk you through steps  are needed to load data in Teradata from ipython SQL kernel.  A more extensive notebook with more commands can be found online in the Teradata Vantage Modules for Jupyter <a href = 'https://teradata.github.io/jupyterextensions/#/'>Here.</a></p>\n",
    "\n",
    "<hr>\n",
    "<p style = 'font-size:16px;font-family:Arial'>For help on available \"magic\" commands in the Teradata SQL plugin, run the following cell:</p>"
   ]
  },
  {
   "cell_type": "markdown",
   "id": "1c61a6e4-34d8-47aa-b964-d00b954155b0",
   "metadata": {},
   "source": [
    "<h1 style = 'font-size:28px;font-family:Arial;color:#E37C4D'>1. Connect to Vantage</h1>\n",
    "<p style = 'font-size:18px;font-family:Arial;'> <b>Let's start by connecting to the Teradata system </b></p>\n",
    "<p style = 'font-size:16px;font-family:Arial'>You will be prompted to provide the password. Enter your password, press Enter, then use down arrow to go to next cell.</p>"
   ]
  },
  {
   "cell_type": "code",
   "execution_count": null,
   "id": "09c37e53-e9c8-49f5-8e17-ee4c4d673bb2",
   "metadata": {},
   "outputs": [],
   "source": [
    "%connect local, hidewarnings=true"
   ]
  },
  {
   "cell_type": "markdown",
   "id": "bf989a3e-ccd5-4697-a218-db0b1f59dab7",
   "metadata": {},
   "source": [
    "<p style = 'font-size:18px;font-family:Arial;color:#E37C4D'> <b>Load data from file present locally </b></p>"
   ]
  },
  {
   "cell_type": "markdown",
   "id": "6a50743f-bc2d-4110-a7d1-07960eae166f",
   "metadata": {},
   "source": [
    "<p style = 'font-size:16px;font-family:Arial'>Apart from the standard Teradata utilities for data load i.e TPT; Teradata SQL plugin for jupyter has a magic command to load data into the database. "
   ]
  },
  {
   "cell_type": "code",
   "execution_count": null,
   "id": "d12604c4-bdfe-4484-a9b0-8a8e8c428046",
   "metadata": {},
   "outputs": [],
   "source": [
    "%help dataload"
   ]
  },
  {
   "cell_type": "code",
   "execution_count": null,
   "id": "9e7d4ad8-86b6-4f69-a9b3-cfa012e911fb",
   "metadata": {},
   "outputs": [],
   "source": [
    "CREATE MULTISET TABLE DEMO_USER.Retail_Data \n",
    "       (InvoiceNo VARCHAR(10) CHARACTER SET UNICODE NOT CASESPECIFIC,\n",
    "        StockCode VARCHAR(10) CHARACTER SET UNICODE NOT CASESPECIFIC,\n",
    "        Description VARCHAR(40) CHARACTER SET UNICODE NOT CASESPECIFIC,\n",
    "        Quantity BIGINT,\n",
    "        InvoiceDate TIMESTAMP(6),\n",
    "        UnitPrice FLOAT,\n",
    "        CustomerID FLOAT,\n",
    "        Country VARCHAR(25) CHARACTER SET UNICODE NOT CASESPECIFIC)\n",
    "  PRIMARY INDEX ( InvoiceNo );"
   ]
  },
  {
   "cell_type": "code",
   "execution_count": null,
   "id": "48822e89-8b4c-4934-bc8d-6d91c957537c",
   "metadata": {},
   "outputs": [],
   "source": [
    "%dataload DATABASE=demo_user, TABLE=Retail_Data, skiprows=1,FILEPATH=Getting_Started/Data_Load/Retail_Data_sample.csv"
   ]
  },
  {
   "cell_type": "markdown",
   "id": "e495f240-2058-4d1c-ba53-0ceec3a25fbe",
   "metadata": {},
   "source": [
    "<p style = 'font-size:16px;font-family:Arial'>Let's check the count and sample records loaded. "
   ]
  },
  {
   "cell_type": "code",
   "execution_count": null,
   "id": "ebb42ac2-6580-4e32-8150-38efe75969e9",
   "metadata": {},
   "outputs": [],
   "source": [
    "select count(*) from DEMO_USER.Retail_Data;"
   ]
  },
  {
   "cell_type": "code",
   "execution_count": null,
   "id": "b45a863c-9087-4ebf-a6c0-26d9b5e2d40a",
   "metadata": {},
   "outputs": [],
   "source": [
    "select * from DEMO_USER.Retail_Data sample 10;"
   ]
  },
  {
   "cell_type": "markdown",
   "id": "614576d8-fc00-4e98-a546-fa06cb726453",
   "metadata": {},
   "source": [
    "<p style = 'font-size:18px;font-family:Arial;color:#E37C4D'> <b>Load data from file present in cloud </b></p>"
   ]
  },
  {
   "cell_type": "markdown",
   "id": "79abc5c7-4334-4e13-b774-3e82013845b1",
   "metadata": {},
   "source": [
    "<p style = 'font-size:16px;font-family:Arial'>We can access and load files present in cloud via Vantage's NOS (Native Object Store). For this we need the access id and key for authentication and the location off the file. Please refer <a href ='https://docs.teradata.com/r/Enterprise_IntelliFlex_VMware/Teradata-VantageTM-Native-Object-Store-Getting-Started-Guide-17.20/Reading-Data/Examples-For-Business-Analysts/Sampling-External-Data-In-Place-Using-READ_NOS'>NOS user guide</a>  for more information.<br>\n",
    "  First of all we need to create Authorization to access the file.  "
   ]
  },
  {
   "cell_type": "code",
   "execution_count": null,
   "id": "1e0d2ee2-3fec-45ba-bf79-e65de6ed4704",
   "metadata": {},
   "outputs": [],
   "source": [
    "/* The command to create authorization is below, we already have the authorization created. */\n",
    "\n",
    "/*\n",
    "CREATE AUTHORIZATION <name> AS DEFINER TRUSTED\n",
    "USER '<access_key>'\n",
    "PASSWORD '<password>';\n",
    "\n",
    "*/"
   ]
  },
  {
   "cell_type": "code",
   "execution_count": null,
   "id": "f9b95c53-4cd8-47bc-adbe-59a5ba6b38f7",
   "metadata": {},
   "outputs": [],
   "source": [
    "SHOW AUTHORIZATION gs_tables_db.auth"
   ]
  },
  {
   "cell_type": "markdown",
   "id": "eb936d88-fd45-4783-bf33-680c7f8d2bec",
   "metadata": {},
   "source": [
    "<p style = 'font-size:16px;font-family:Arial'>\n",
    "Our file Retail_Data_sample.csv is located at /gs/storage.googleapis.com/clearscape_analytics_demo_data/Data_Load/<br>\n",
    "<p style = 'font-size:18px;font-family:Arial;color:#E37C4D'><b>Sampling External Data</b><br>\n",
    "<p style = 'font-size:16px;font-family:Arial'>We can preview the contents of an external object store by using below command.<br><b>Using Read_NOS    "
   ]
  },
  {
   "cell_type": "code",
   "execution_count": null,
   "id": "102bc99e-5b1b-4a1c-8a89-1cf7f0badd9c",
   "metadata": {},
   "outputs": [],
   "source": [
    "SELECT TOP 2 * FROM (\n",
    "LOCATION='/gs/storage.googleapis.com/clearscape_analytics_demo_data/Data_Load/'\n",
    "AUTHORIZATION=gs_tables_db.auth \n",
    ") AS D;"
   ]
  },
  {
   "cell_type": "markdown",
   "id": "867ae638-3be5-4050-8860-2a83a15b967c",
   "metadata": {},
   "source": [
    "<p style = 'font-size:16px;font-family:Arial'> Please keep in mind:\n",
    "<ul style = 'font-size:16px;font-family:Arial'><li>TOP does not return the same results each time it is run.</li>\n",
    "<li>TOP may return records with only a subset of attributes because not all records in different objects contain all of the same attributes.</li>\n",
    "    </ul>"
   ]
  },
  {
   "cell_type": "markdown",
   "id": "538e0fe4-505d-480d-a389-dc8fde213b41",
   "metadata": {},
   "source": [
    "<p style = 'font-size:16px;font-family:Arial'><b>Using Foreign Table</b>"
   ]
  },
  {
   "cell_type": "code",
   "execution_count": null,
   "id": "660777d2-389e-4d65-9f1a-cdbe8e0e01a6",
   "metadata": {},
   "outputs": [],
   "source": [
    "CREATE FOREIGN TABLE Retail_Data_FT\n",
    ", EXTERNAL SECURITY  gs_tables_db.auth\n",
    "USING (LOCATION('/gs/storage.googleapis.com/clearscape_analytics_demo_data/Data_Load/') );"
   ]
  },
  {
   "cell_type": "code",
   "execution_count": null,
   "id": "da76f1d5-6860-4ca8-b61b-1374e76247b2",
   "metadata": {},
   "outputs": [],
   "source": [
    "select top 5* from Retail_Data_FT;"
   ]
  },
  {
   "cell_type": "markdown",
   "id": "e68d964e-3d1e-489f-9604-8c92e33b7e70",
   "metadata": {},
   "source": [
    "<p style = 'font-size:18px;font-family:Arial;color:#E37C4D'><b>Loading External Data in permanent table</b><br>\n",
    "<p style = 'font-size:16px;font-family:Arial'>If we want to copy data from cloud to permanent table in database we can use the below command"
   ]
  },
  {
   "cell_type": "code",
   "execution_count": null,
   "id": "a8098486-0c98-4a69-bdb6-f66b733920e5",
   "metadata": {},
   "outputs": [],
   "source": [
    "CREATE MULTISET TABLE DEMO_USER.Retail_Data_Perm \n",
    "       (InvoiceNo VARCHAR(10) CHARACTER SET UNICODE NOT CASESPECIFIC,\n",
    "        StockCode VARCHAR(10) CHARACTER SET UNICODE NOT CASESPECIFIC,\n",
    "        Description VARCHAR(40) CHARACTER SET UNICODE NOT CASESPECIFIC,\n",
    "        Quantity BIGINT,\n",
    "        InvoiceDate TIMESTAMP(6),\n",
    "        UnitPrice FLOAT,\n",
    "        CustomerID FLOAT,\n",
    "        Country VARCHAR(25) CHARACTER SET UNICODE NOT CASESPECIFIC)\n",
    "  PRIMARY INDEX ( InvoiceNo );"
   ]
  },
  {
   "cell_type": "code",
   "execution_count": null,
   "id": "a2acc7b6-24cf-459e-88f1-a8c804628095",
   "metadata": {},
   "outputs": [],
   "source": [
    "Insert DEMO_USER.Retail_Data_Perm \n",
    "SELECT InvoiceNo \n",
    ",StockCode \n",
    ",Description \n",
    ",Quantity \n",
    ",InvoiceDate \n",
    ",UnitPrice \n",
    ",CustomerID \n",
    ",Country\n",
    "FROM (\n",
    "LOCATION='/gs/storage.googleapis.com/clearscape_analytics_demo_data/Data_Load/'\n",
    "AUTHORIZATION= gs_tables_db.auth\n",
    ") AS d\n"
   ]
  },
  {
   "cell_type": "code",
   "execution_count": null,
   "id": "a1ca1988-6466-4e8d-a7d5-68c734778644",
   "metadata": {},
   "outputs": [],
   "source": [
    "select top 5* from Retail_Data_Perm;"
   ]
  },
  {
   "cell_type": "markdown",
   "id": "71d2319e-b4ff-44a6-b67d-cab7c70f3b09",
   "metadata": {},
   "source": [
    " <p style = 'font-size:16px;font-family:Arial'> To load other file formats like json and parquet please refer <a href ='https://docs.teradata.com/r/Enterprise_IntelliFlex_VMware/Teradata-VantageTM-Native-Object-Store-Getting-Started-Guide-17.20/Reading-Data/Examples-For-Business-Analysts/Sampling-External-Data-In-Place-Using-READ_NOS'>NOS user guide</a> "
   ]
  },
  {
   "cell_type": "markdown",
   "id": "c10bfe3f-667d-4cfa-89c9-70ae1424e0af",
   "metadata": {},
   "source": [
    "<p style = 'font-size:18px;font-family:Arial;color:#E37C4D'><b>Clean up</b>"
   ]
  },
  {
   "cell_type": "code",
   "execution_count": null,
   "id": "7c70a1d4-84e6-47cf-b1c1-ed0709dd5225",
   "metadata": {},
   "outputs": [],
   "source": [
    "DROP TABLE DEMO_USER.Retail_Data;"
   ]
  },
  {
   "cell_type": "code",
   "execution_count": null,
   "id": "cf8259f6-5ea8-46b2-9bb9-2e81e626261e",
   "metadata": {},
   "outputs": [],
   "source": [
    "DROP TABLE DEMO_USER.Retail_Data_FT;"
   ]
  },
  {
   "cell_type": "code",
   "execution_count": null,
   "id": "ea0284d7-5645-46a1-a977-d550e2c79ff2",
   "metadata": {},
   "outputs": [],
   "source": [
    "DROP TABLE DEMO_USER.Retail_Data_Perm;"
   ]
  },
  {
   "cell_type": "markdown",
   "id": "53cbc994-e90c-4038-923c-102cf23f99fb",
   "metadata": {},
   "source": [
    "<footer style=\"padding:10px;background:#f9f9f9;border-bottom:3px solid #394851\">©2023 Teradata. All Rights Reserved</footer>"
   ]
  }
 ],
 "metadata": {
  "kernelspec": {
   "display_name": "Teradata SQL",
   "language": "Teradata SQL",
   "name": "teradatasql"
  },
  "language_info": {
   "codemirror_mode": "Teradata SQL",
   "file_extension": ".tdrs",
   "mimetype": "application/vnd.teradata.resultset",
   "name": "Teradata SQL",
   "nbconvert_exporter": "",
   "pygments_lexer": "",
   "version": "16.20"
  }
 },
 "nbformat": 4,
 "nbformat_minor": 5
}
