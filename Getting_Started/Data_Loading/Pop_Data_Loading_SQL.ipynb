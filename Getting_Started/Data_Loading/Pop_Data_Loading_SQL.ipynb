{
 "cells": [
  {
   "cell_type": "markdown",
   "id": "f7789559-0f7b-4cce-9b5a-6f20dc487b30",
   "metadata": {},
   "source": [
    "<header>\n",
    "   <p  style='font-size:36px;font-family:Arial; color:#F0F0F0; background-color: #00233c; padding-left: 20pt; padding-top: 20pt;padding-bottom: 10pt; padding-right: 20pt;'>\n",
    "       Load data to Vantage\n",
    "  <br>\n",
    "       <img id=\"teradata-logo\" src=\"https://storage.googleapis.com/clearscape_analytics_demo_data/DEMO_Logo/teradata.svg\" alt=\"Teradata\" style=\"width: 125px; height: auto; margin-top: 20pt;\">\n",
    "    </p>\n",
    "</header>\n"
   ]
  },
  {
   "cell_type": "markdown",
   "id": "c2228940-90f4-4be1-83e4-4e5df01d47ba",
   "metadata": {},
   "source": [
    "<p style = 'font-size:16px;font-family:Arial;color:#00233C'>Welcome to this introductory guide. This guide will walk you through steps  are needed to load data in Teradata from ipython SQL kernel.  A more extensive notebook with more commands can be found online in the Teradata Vantage Modules for Jupyter <a href = 'https://github.com/Teradata/jupyterextensions/blob/master/notebooks/sql/DataLoad.ipynb'>Here.</a>  "
   ]
  },
  {
   "cell_type": "markdown",
   "id": "46349866-bb4b-4e3d-92d9-6546119017dd",
   "metadata": {},
   "source": [
    "<hr style=\"height:2px;border:none;background-color:#00233C;\">\n",
    "<p style = 'font-size:16px;font-family:Arial;color:#00233C'>For help on available \"magic\" commands in the Teradata SQL plugin, run the following cell:</p>"
   ]
  },
  {
   "cell_type": "code",
   "execution_count": 1,
   "id": "511059b8-29a6-46bf-9fe2-1d878861c38d",
   "metadata": {},
   "outputs": [
    {
     "data": {
      "text/markdown": [
       "%help **command** - Display detailed help for one magic command (without %).</br>\n",
       "%help **all** - Display detailed help for all magic commands.</br>\n",
       "%help **snippets** - Display the list of SQL command Snippets.</br>\n",
       "%help **rowcount** - Display the current rowcount value.</br>\n",
       "%help **currentdb** - Display the current database for the user.</br>\n",
       "%help **hidewarnings** - Display the current hide warnings value.</br>\n",
       "#### Notation conventions: Items in [] are optional, all others are required.  Parameter names are not case sensitive.</br>\n",
       "#### Magic Commands:</br>\n",
       "**%addconnect** - Add a Teradata Vantage database connection specification.</br>**%connect** - Connect to a Vantage system and/or make the connection active.</br>**%disconnect** - Disconnect from a Vantage system.</br>**%rmconnect** - Remove a connection specification.</br>**%chconnect** - Change a connection specification.</br>**%lsconnect** - List the known connections.</br>**%chart** - Display a Vega-Lite visualization of a query result set or an existing Vega or VegaLite chart.</br>**%table** - Display a previous result set as a table.</br>**%meta** - Display metadata of a previous result set.</br>**%dataload** - Load a CSV file into a database table.</br>**%history** - Display a table or the details of previously executed commands.\n",
       "\t\tIf a single history item is specified, the details for that item will be displayed.</br>**%rmhistory** - Remove one or more history items and associated result set(s).</br>**%var** - Define one or more variables for use in SQL statements and magic commands.</br>**%lsvar** - List one or more variables. If no names are provided, list all defined variables.</br>**%rmvar** - Remove one or more defined variables.</br>**%pyinfo** - Display information about the version of Python installed on the Vantage system.</br>**%rinfo** - Display information about the version of R installed on the Vantage system.</br>**%runsto** - Run a Script Table Operator.</br>**%installfile** - Install a file onto the Vantage system.</br>**%rmfile** - Remove a file that has been installed on the Vantage system.</br>**%showfile** - Display the contents of a file that has been installed on the Vantage system.</br>**%loglevel** - Set the logging level for the Teradata SQL kernel.</br>**%lsmagic** - List the supported magic commands.</br>**%quickref** - Display help for magic commands.</br>**%help** - Display help for magic commands.</br>**%savecolumn** - Save a BLOB column data to a file.</br>"
      ]
     },
     "execution_count": 1,
     "metadata": {
      "application/vnd.teradata.resultset": "helpdata"
     },
     "output_type": "execute_result"
    }
   ],
   "source": [
    "%help"
   ]
  },
  {
   "cell_type": "markdown",
   "id": "1c61a6e4-34d8-47aa-b964-d00b954155b0",
   "metadata": {},
   "source": [
    "<hr style=\"height:2px;border:none;background-color:#00233C;\">\n",
    "<b style = 'font-size:20px;font-family:Arial;color:#00233C'>1. Connect to Vantage</b>\n",
    "<p style = 'font-size:16px;font-family:Arial;color:#00233C'>You will be prompted to provide the password. Enter your password, press Enter, then use down arrow to go to next cell.</p>"
   ]
  },
  {
   "cell_type": "code",
   "execution_count": 2,
   "id": "09c37e53-e9c8-49f5-8e17-ee4c4d673bb2",
   "metadata": {},
   "outputs": [
    {
     "name": "stdin",
     "output_type": "stream",
     "text": [
      "Password: ········\n"
     ]
    },
    {
     "name": "stdout",
     "output_type": "stream",
     "text": [
      "Success: 'local' connection established and activated for user 'demo_user', with default database 'demo_user'\n"
     ]
    }
   ],
   "source": [
    "%connect local, hidewarnings=true"
   ]
  },
  {
   "cell_type": "markdown",
   "id": "bf989a3e-ccd5-4697-a218-db0b1f59dab7",
   "metadata": {},
   "source": [
    "<hr style=\"height:2px;border:none;background-color:#00233C;\">\n",
    "<p style = 'font-size:20px;font-family:Arial;color:#00233C'> <b>2. Load data from file present locally </b></p>"
   ]
  },
  {
   "cell_type": "markdown",
   "id": "6a50743f-bc2d-4110-a7d1-07960eae166f",
   "metadata": {},
   "source": [
    "<p style = 'font-size:16px;font-family:Arial;color:#00233C'>Apart from the standard Teradata utilities for data load i.e TPT; Teradata SQL plugin for Jupyter has a magic command to load data into the database.</p>"
   ]
  },
  {
   "cell_type": "code",
   "execution_count": 3,
   "id": "d12604c4-bdfe-4484-a9b0-8a8e8c428046",
   "metadata": {},
   "outputs": [
    {
     "data": {
      "text/markdown": [
       "#### %dataload\n",
       "Load a CSV file into a database table.\n",
       "\n",
       "%dataload table=&lt;TableName&gt;, filepath=&lt;Path to CSV file&gt; [,database=&lt;DatabaseName&gt;][, batchsize=&lt;Rows per Batch&gt;] [, autocommit=&lt;True&gt;] [, mode=&lt;batch|fast&gt;] [, skiprows=&lt;rows to skip at the start of file&gt;]\n",
       "\n",
       "* **database** is optional. if not specified, the default database of the current session is used.\n",
       "* The **filepath** is relative to the JupyterLab workspace (where JupyterLab was launched).\n",
       "* You can specify an absolute file path by starting the path with the OS specific directory notation.\n",
       "* **batchsize** specifies the number of rows per batch.\n",
       "  * Valid values are between 1 and 16383 for batch load. The default value is 5000 for batch load and 100000 for fast load.\n",
       "* **autocommit** indicates whether to commit each batch load.\n",
       "  * The default value is false (only commit when all batches have run). When autocommit is set to false and an error occurs, a rollback is performed.\n",
       "  * When autocommit is set to true and an error occurs, any rows loaded will NOT be rolled back.\n",
       "  * Set autocommit to true when a Database error is returned indicating the load has exceeded the maximum number of rowhash locks allowed.\n",
       "  * autocommit is always turned off for fast load.\n",
       "* **mode** specifies whether to use batch load or fast load. Fast load supports quick loading of large amounts of data.\n",
       "  * It is recommended to use fast load only for large files with at least 100,000 rows.\n",
       "  * The default mode is batch load for files with less than 100,000 rows. Fast load is used for large files with at least 100,000 rows.\n",
       "  * The destination table must be empty to use fast load.\n",
       "  * FastLoad cannot load into a volatile table or global temporary table.\n",
       "  * Please make sure there is enough space in database before loading data. If you encounter \"No more room in database\" error using fast load, please make more space, drop and recreate the table, and then retry fast load.\n",
       "  * For more information on fast load, please refer to github.com/Teradata/python-driver#fastload\n",
       "* **skiprows** specifies number of rows to skip at start of the CSV file.\n",
       "* The maximum number of rows that the **%dataload** magic will load is currently set to 100,000 rows for batch load and 500,000 for fast load.  Loading will stop when the maximum is reached.\n",
       "* The data must be in the proper format to insert into the columns of your table. Specifically, data types must match and any data constraints must be met. \n",
       "No pre-processing of the data file is performed.\n",
       "* If an error occurs while attempting to load your data and autocommit is false, the entire load operation will be rolled back. \n",
       "* The status of your dataload is stored in the Teradata SQL History."
      ]
     },
     "execution_count": 3,
     "metadata": {
      "application/vnd.teradata.resultset": "helpdata"
     },
     "output_type": "execute_result"
    }
   ],
   "source": [
    "%help dataload"
   ]
  },
  {
   "cell_type": "markdown",
   "id": "bbbcfb56-2212-424a-8c10-e59e15d43297",
   "metadata": {},
   "source": [
    "<p style = 'font-size:16px;font-family:Arial;color:#00233C'>The data we will be loading for this example is in CSV format. The following is a sample of the header followed by the first 5 rows:</p>\n",
    "\n",
    "<p style = 'font-size:12px;font-family:Courier'>\n",
    "InvoiceNo,StockCode,Description,Quantity,InvoiceDate,UnitPrice,CustomerID,Country<br>\n",
    "536365,85123A,WHITE HANGING HEART T-LIGHT HOLDER,6,2010-01-12 08:26:00,2.55,17850.0,United Kingdom<br>\n",
    "536365,71053,WHITE METAL LANTERN,6,2010-01-12 08:26:00,3.39,17850.0,United Kingdom<br>\n",
    "536365,84406B,CREAM CUPID HEARTS COAT HANGER,8,2010-01-12 08:26:00,2.75,17850.0,United Kingdom<br>\n",
    "536365,84029G,KNITTED UNION FLAG HOT WATER BOTTLE,6,2010-01-12 08:26:00,3.39,17850.0,United Kingdom<br>\n",
    "536365,84029E,RED WOOLLY HOTTIE WHITE HEART.,6,2010-01-12 08:26:00,3.39,17850.0,United Kingdom<br>\n",
    "</p>\n",
    "\n",
    "<p style = 'font-size:16px;font-family:Arial;color:#00233C'>We will need to create a table that matches the columns of the data in our file.</p"
   ]
  },
  {
   "cell_type": "code",
   "execution_count": 4,
   "id": "9e7d4ad8-86b6-4f69-a9b3-cfa012e911fb",
   "metadata": {},
   "outputs": [
    {
     "data": {
      "text/plain": [
       "Success: 0 rows affected"
      ]
     },
     "execution_count": 4,
     "metadata": {
      "application/vnd.teradata.resultset": ""
     },
     "output_type": "execute_result"
    }
   ],
   "source": [
    "CREATE MULTISET TABLE DEMO_USER.Retail_Data \n",
    "       (InvoiceNo VARCHAR(10) CHARACTER SET UNICODE NOT CASESPECIFIC,\n",
    "        StockCode VARCHAR(10) CHARACTER SET UNICODE NOT CASESPECIFIC,\n",
    "        Description VARCHAR(40) CHARACTER SET UNICODE NOT CASESPECIFIC,\n",
    "        Quantity BIGINT,\n",
    "        InvoiceDate TIMESTAMP(6),\n",
    "        UnitPrice FLOAT,\n",
    "        CustomerID FLOAT,\n",
    "        Country VARCHAR(25) CHARACTER SET UNICODE NOT CASESPECIFIC)\n",
    "  PRIMARY INDEX ( InvoiceNo );"
   ]
  },
  {
   "cell_type": "code",
   "execution_count": 5,
   "id": "48822e89-8b4c-4934-bc8d-6d91c957537c",
   "metadata": {},
   "outputs": [
    {
     "name": "stdout",
     "output_type": "stream",
     "text": [
      "Using database: demo_user\n",
      "2023-12-21T11:59:14.024 Start Batch Loading...\n",
      "  \u001b[36m\u001b[m   \n",
      "Data Load: Number Rows Loaded = 500, Elapsed Time = 00:00:00.334, History ID = 442\n",
      "Success Loading Data: from file,'/home/jovyan/JupyterLabRoot/Getting_Started/Data_Loading/Retail_Data_sample.csv', into table, demo_user.Retail_Data."
     ]
    }
   ],
   "source": [
    "%dataload DATABASE = demo_user, TABLE = Retail_Data, skiprows = 1,\n",
    "FILEPATH = Getting_Started/Data_Loading/Retail_Data_sample.csv"
   ]
  },
  {
   "cell_type": "markdown",
   "id": "e495f240-2058-4d1c-ba53-0ceec3a25fbe",
   "metadata": {},
   "source": [
    "<p style = 'font-size:16px;font-family:Arial;color:#00233C'>Let's check the count and sample records loaded. </p>\n"
   ]
  },
  {
   "cell_type": "code",
   "execution_count": 6,
   "id": "ebb42ac2-6580-4e32-8150-38efe75969e9",
   "metadata": {},
   "outputs": [
    {
     "data": {
      "application/vnd.teradata.resultset": "\"Count(*)\"\n\"500\"",
      "text/html": [
       "<div class = \"td-resultset-table-div\" style = \"max-height: 100%; overflow-y: auto\">\n",
       "      <table class=\"tdhistory506009\"><style>\n",
       "      table.tdhistory506009 { display: block !important; min-height: 105px !important; overflow: auto !important; height: 105px !important; width: 100% !important; border: 1px solid rgb(207, 207, 207) !important; border-collapse: collapse !important; ; color: var(--jp-ui-font-color1) !important; }\n",
       "      th.tdhistory506009 { border: 1px solid rgb(198,198,198) !important; border-collapse: collapse !important; ; padding: 2px 5px !important; ; font-size: 13px !important; ; text-align: center !important; white-space: normal !important; color: var(--jp-ui-font-color1) !important; }\n",
       "      th.tdhistory506009:last-child { text-align: left !important; }\n",
       "      tbody.tdhistory506009 tr:nth-child(even) { background: rgba(243, 243, 243, 0.75) !important; }\n",
       "      tbody.tdhistory506009 tr:nth-child(odd) { background: var(--jp-ui-inverse-font-color1) !important; }\n",
       "      td.tdhistory506009 { border: 1px solid rgb(207, 207, 207) !important; border-collapse: collapse !important; ; padding: 2px 5px !important; ; font-size: 13px !important; ; text-align: left !important;          white-space: nowrap !important; overflow:hidden !important; text-overflow:ellipsis !important;; }\n",
       "    </style><thead><tr style= \"background: rgba(243, 243, 243, 0.75)\"><th class=\"tdhistory506009\"></th><th class=\"tdhistory506009\">Count(*)</th></tr></thead><tbody class=\"tdhistory506009 resultset-body\"><tr><th class=\"tdhistory506009\" style= \"background: rgba(243, 243, 243, 0.75)\">1</th><td class=\"tdhistory506009\">500</td></tr></tbody></table></div>"
      ]
     },
     "execution_count": 6,
     "metadata": {
      "application/vnd.teradata.resultset": "{\"resultSetID\":\"/home/jovyan/JupyterLabRoot/Teradata/Resultsets/2023.12.21_11.59.14.217_UTC\",\"historyID\":443,\"chunkID\":\"00001\",\"sessionid\":\"\",\"portnum\":\"\",\"dockermode\":\"docker\",\"totalRowCount\":1,\"chunkCount\":0,\"rowLimit\":0,\"columnMetadata\":[{\"columnName\":\"Count(*)\",\"columnTypeName\":\"INTEGER\"}]}"
     },
     "output_type": "execute_result"
    }
   ],
   "source": [
    "SELECT COUNT(*) FROM Retail_Data;"
   ]
  },
  {
   "cell_type": "code",
   "execution_count": 7,
   "id": "b45a863c-9087-4ebf-a6c0-26d9b5e2d40a",
   "metadata": {},
   "outputs": [
    {
     "data": {
      "application/vnd.teradata.resultset": "\"InvoiceNo\",\"StockCode\",\"Description\",\"Quantity\",\"InvoiceDate\",\"UnitPrice\",\"CustomerID\",\"Country\"\n\"536380\",\"22961\",\"JAM MAKING SET PRINTED\",\"24\",\"2010-01-12 09:41:00.000000\",\"1.4500000476837158\",\"17809\",\"United Kingdom\"\n\"536387\",\"79321\",\"CHILLI LIGHTS\",\"192\",\"2010-01-12 09:58:00.000000\",\"3.819999933242798\",\"16029\",\"United Kingdom\"\n\"536387\",\"22780\",\"LIGHT GARLAND BUTTERFILES PINK\",\"192\",\"2010-01-12 09:58:00.000000\",\"3.369999885559082\",\"16029\",\"United Kingdom\"\n\"536376\",\"22114\",\"HOT WATER BOTTLE TEA AND SYMPATHY\",\"48\",\"2010-01-12 09:32:00.000000\",\"3.450000047683716\",\"15291\",\"United Kingdom\"\n\"536376\",\"21733\",\"RED HANGING HEART T-LIGHT HOLDER\",\"64\",\"2010-01-12 09:32:00.000000\",\"2.549999952316284\",\"15291\",\"United Kingdom\"",
      "text/html": [
       "<div class = \"td-resultset-table-div\" style = \"max-height: 100%; overflow-y: auto\">\n",
       "      <table class=\"tdhistory983643\"><style>\n",
       "      table.tdhistory983643 { display: block !important; min-height: 189px !important; overflow: auto !important; height: 189px !important; width: 100% !important; border: 1px solid rgb(207, 207, 207) !important; border-collapse: collapse !important; ; color: var(--jp-ui-font-color1) !important; }\n",
       "      th.tdhistory983643 { border: 1px solid rgb(198,198,198) !important; border-collapse: collapse !important; ; padding: 2px 5px !important; ; font-size: 13px !important; ; text-align: center !important; white-space: normal !important; color: var(--jp-ui-font-color1) !important; }\n",
       "      th.tdhistory983643:last-child { text-align: left !important; }\n",
       "      tbody.tdhistory983643 tr:nth-child(even) { background: rgba(243, 243, 243, 0.75) !important; }\n",
       "      tbody.tdhistory983643 tr:nth-child(odd) { background: var(--jp-ui-inverse-font-color1) !important; }\n",
       "      td.tdhistory983643 { border: 1px solid rgb(207, 207, 207) !important; border-collapse: collapse !important; ; padding: 2px 5px !important; ; font-size: 13px !important; ; text-align: left !important;          white-space: nowrap !important; overflow:hidden !important; text-overflow:ellipsis !important;; }\n",
       "    </style><thead><tr style= \"background: rgba(243, 243, 243, 0.75)\"><th class=\"tdhistory983643\"></th><th class=\"tdhistory983643\">InvoiceNo</th><th class=\"tdhistory983643\">StockCode</th><th class=\"tdhistory983643\">Description</th><th class=\"tdhistory983643\">Quantity</th><th class=\"tdhistory983643\">InvoiceDate</th><th class=\"tdhistory983643\">UnitPrice</th><th class=\"tdhistory983643\">CustomerID</th><th class=\"tdhistory983643\">Country</th></tr></thead><tbody class=\"tdhistory983643 resultset-body\"><tr><th class=\"tdhistory983643\" style= \"background: rgba(243, 243, 243, 0.75)\">1</th><td class=\"tdhistory983643\">536380</td><td class=\"tdhistory983643\">22961</td><td class=\"tdhistory983643\">JAM MAKING SET PRINTED</td><td class=\"tdhistory983643\">24</td><td class=\"tdhistory983643\">2010-01-12 09:41:00.000000</td><td class=\"tdhistory983643\">1.4500000476837158</td><td class=\"tdhistory983643\">17809</td><td class=\"tdhistory983643\">United Kingdom</td></tr><tr><th class=\"tdhistory983643\" style= \"background: rgba(243, 243, 243, 0.75)\">2</th><td class=\"tdhistory983643\">536387</td><td class=\"tdhistory983643\">79321</td><td class=\"tdhistory983643\">CHILLI LIGHTS</td><td class=\"tdhistory983643\">192</td><td class=\"tdhistory983643\">2010-01-12 09:58:00.000000</td><td class=\"tdhistory983643\">3.819999933242798</td><td class=\"tdhistory983643\">16029</td><td class=\"tdhistory983643\">United Kingdom</td></tr><tr><th class=\"tdhistory983643\" style= \"background: rgba(243, 243, 243, 0.75)\">3</th><td class=\"tdhistory983643\">536387</td><td class=\"tdhistory983643\">22780</td><td class=\"tdhistory983643\">LIGHT GARLAND BUTTERFILES PINK</td><td class=\"tdhistory983643\">192</td><td class=\"tdhistory983643\">2010-01-12 09:58:00.000000</td><td class=\"tdhistory983643\">3.369999885559082</td><td class=\"tdhistory983643\">16029</td><td class=\"tdhistory983643\">United Kingdom</td></tr><tr><th class=\"tdhistory983643\" style= \"background: rgba(243, 243, 243, 0.75)\">4</th><td class=\"tdhistory983643\">536376</td><td class=\"tdhistory983643\">22114</td><td class=\"tdhistory983643\">HOT WATER BOTTLE TEA AND SYMPATHY</td><td class=\"tdhistory983643\">48</td><td class=\"tdhistory983643\">2010-01-12 09:32:00.000000</td><td class=\"tdhistory983643\">3.450000047683716</td><td class=\"tdhistory983643\">15291</td><td class=\"tdhistory983643\">United Kingdom</td></tr><tr><th class=\"tdhistory983643\" style= \"background: rgba(243, 243, 243, 0.75)\">5</th><td class=\"tdhistory983643\">536376</td><td class=\"tdhistory983643\">21733</td><td class=\"tdhistory983643\">RED HANGING HEART T-LIGHT HOLDER</td><td class=\"tdhistory983643\">64</td><td class=\"tdhistory983643\">2010-01-12 09:32:00.000000</td><td class=\"tdhistory983643\">2.549999952316284</td><td class=\"tdhistory983643\">15291</td><td class=\"tdhistory983643\">United Kingdom</td></tr></tbody></table></div>"
      ]
     },
     "execution_count": 7,
     "metadata": {
      "application/vnd.teradata.resultset": "{\"resultSetID\":\"/home/jovyan/JupyterLabRoot/Teradata/Resultsets/2023.12.21_11.59.14.316_UTC\",\"historyID\":444,\"chunkID\":\"00001\",\"sessionid\":\"\",\"portnum\":\"\",\"dockermode\":\"docker\",\"totalRowCount\":5,\"chunkCount\":0,\"rowLimit\":0,\"columnMetadata\":[{\"columnName\":\"InvoiceNo\",\"columnTypeName\":\"VARCHAR\",\"length\":10,\"scale\":10},{\"columnNumber\":1,\"columnName\":\"StockCode\",\"columnTypeName\":\"VARCHAR\",\"length\":10,\"scale\":10},{\"columnNumber\":2,\"columnName\":\"Description\",\"columnTypeName\":\"VARCHAR\",\"length\":40,\"scale\":40},{\"columnNumber\":3,\"columnName\":\"Quantity\",\"columnTypeName\":\"BIGINT\"},{\"columnNumber\":4,\"columnName\":\"InvoiceDate\",\"columnTypeName\":\"TIMESTAMP\",\"length\":6,\"scale\":6},{\"columnNumber\":5,\"columnName\":\"UnitPrice\",\"columnTypeName\":\"FLOAT\"},{\"columnNumber\":6,\"columnName\":\"CustomerID\",\"columnTypeName\":\"FLOAT\"},{\"columnNumber\":7,\"columnName\":\"Country\",\"columnTypeName\":\"VARCHAR\",\"length\":25,\"scale\":25}]}"
     },
     "output_type": "execute_result"
    }
   ],
   "source": [
    "SELECT TOP 5 * FROM Retail_Data;"
   ]
  },
  {
   "cell_type": "markdown",
   "id": "614576d8-fc00-4e98-a546-fa06cb726453",
   "metadata": {},
   "source": [
    "<hr style=\"height:2px;border:none;background-color:#00233C;\">\n",
    "<p style = 'font-size:20px;font-family:Arial;color:#00233C'> <b>3. Load data from file present in cloud </b></p>"
   ]
  },
  {
   "cell_type": "markdown",
   "id": "79abc5c7-4334-4e13-b774-3e82013845b1",
   "metadata": {},
   "source": [
    "<p style = 'font-size:16px;font-family:Arial;color:#00233C'>We can access and load files present in cloud via Vantage's NOS (Native Object Store). For this we need the access id and key for authentication and the location off the file. Please refer <a href ='https://docs.teradata.com/r/Enterprise_IntelliFlex_VMware/Teradata-VantageTM-Native-Object-Store-Getting-Started-Guide-17.20/Reading-Data/Examples-For-Business-Analysts/Sampling-External-Data-In-Place-Using-READ_NOS'>NOS user guide</a>  for more information.<br>\n",
    "  First of all we need to create an Authorization object to access the file. </p> \n",
    "\n",
    "<p style = 'font-size:16px;font-family:Arial;color:#00233C'>The command template to create an authorization object is below. If you are loading data from your cloud storage, you would need to substitute for the values in the {  } brackets. </p>\n",
    "\n",
    "<p style = 'font-size:12px;font-family:Courier'> CREATE AUTHORIZATION {name} AS DEFINER TRUSTED<br>\n",
    "USER '{access_key}'<br>\n",
    "PASSWORD '{password}';<br>\n",
    "</p>\n",
    "<p style = 'font-size:16px;font-family:Arial;color:#00233C'> For the examples below, we will use an authorization we created previously. </p>"
   ]
  },
  {
   "cell_type": "code",
   "execution_count": 8,
   "id": "f9b95c53-4cd8-47bc-adbe-59a5ba6b38f7",
   "metadata": {},
   "outputs": [
    {
     "data": {
      "application/vnd.teradata.resultset": "\"Request Text\"\n\"CREATE AUTHORIZATION gs_tables_db.auth \r USER 'GOOGFZE5HQCA6XCOHVQKZWQR';\"",
      "text/html": [
       "<div class = \"td-resultset-table-div\" style = \"max-height: 100%; overflow-y: auto\">\n",
       "      <table class=\"tdhistory681313\"><style>\n",
       "      table.tdhistory681313 { display: block !important; min-height: 105px !important; overflow: auto !important; height: 105px !important; width: 100% !important; border: 1px solid rgb(207, 207, 207) !important; border-collapse: collapse !important; ; color: var(--jp-ui-font-color1) !important; }\n",
       "      th.tdhistory681313 { border: 1px solid rgb(198,198,198) !important; border-collapse: collapse !important; ; padding: 2px 5px !important; ; font-size: 13px !important; ; text-align: center !important; white-space: normal !important; color: var(--jp-ui-font-color1) !important; }\n",
       "      th.tdhistory681313:last-child { text-align: left !important; }\n",
       "      tbody.tdhistory681313 tr:nth-child(even) { background: rgba(243, 243, 243, 0.75) !important; }\n",
       "      tbody.tdhistory681313 tr:nth-child(odd) { background: var(--jp-ui-inverse-font-color1) !important; }\n",
       "      td.tdhistory681313 { border: 1px solid rgb(207, 207, 207) !important; border-collapse: collapse !important; ; padding: 2px 5px !important; ; font-size: 13px !important; ; text-align: left !important;          white-space: nowrap !important; overflow:hidden !important; text-overflow:ellipsis !important;; }\n",
       "    </style><thead><tr style= \"background: rgba(243, 243, 243, 0.75)\"><th class=\"tdhistory681313\"></th><th class=\"tdhistory681313\">Request Text</th></tr></thead><tbody class=\"tdhistory681313 resultset-body\"><tr><th class=\"tdhistory681313\" style= \"background: rgba(243, 243, 243, 0.75)\">1</th><td class=\"tdhistory681313\">CREATE AUTHORIZATION gs_tables_db.auth \r",
       " USER 'GOOGFZE5HQCA6XCOHVQKZWQR';</td></tr></tbody></table></div>"
      ]
     },
     "execution_count": 8,
     "metadata": {
      "application/vnd.teradata.resultset": "{\"resultSetID\":\"/home/jovyan/JupyterLabRoot/Teradata/Resultsets/2023.12.21_11.59.14.352_UTC\",\"historyID\":445,\"chunkID\":\"00001\",\"sessionid\":\"\",\"portnum\":\"\",\"dockermode\":\"docker\",\"totalRowCount\":1,\"chunkCount\":0,\"rowLimit\":0,\"columnMetadata\":[{\"columnName\":\"Request Text\",\"columnTypeName\":\"VARCHAR\",\"length\":31744,\"scale\":31744}]}"
     },
     "output_type": "execute_result"
    }
   ],
   "source": [
    "SHOW AUTHORIZATION gs_tables_db.auth"
   ]
  },
  {
   "cell_type": "markdown",
   "id": "eb936d88-fd45-4783-bf33-680c7f8d2bec",
   "metadata": {},
   "source": [
    "<hr style=\"height:1px;border:none;background-color:#00233C;\">\n",
    "\n",
    "<p style = 'font-size:18px;font-family:Arial;color:#00233C'><b>3.1 Sampling External Data</b><br>\n",
    "\n",
    "<p style = 'font-size:16px;font-family:Arial;color:#00233C'>\n",
    "Our file Retail_Data_sample.csv is located at /gs/storage.googleapis.com/clearscape_analytics_demo_data/Data_Load/<br>\n",
    "<p style = 'font-size:16px;font-family:Arial;color:#00233C'>We can preview the contents of an external object store by using the command below. The location string is prefixed indicating where the data is located.\n",
    "<ul>\n",
    "    <li> \"/gs\" - to access files in google cloud storage, used below</li>\n",
    "    <li> \"/s3\" - to access AWS buckets (Used in the UseCases/Deep_History_via_Object_Store)</li>\n",
    "    <li> \"/az\" - to access Azure blob storage</li>\n",
    "</ul>"
   ]
  },
  {
   "cell_type": "code",
   "execution_count": 9,
   "id": "102bc99e-5b1b-4a1c-8a89-1cf7f0badd9c",
   "metadata": {},
   "outputs": [
    {
     "data": {
      "application/vnd.teradata.resultset": "\"Location\",\"Column1\",\"Column2\",\"Column3\"\n\"/GS/storage.googleapis.com/clearscape_analytics_demo_data/Data_Load/random_data.csv\",\"252\",\"384\",\"931\"\n\"/GS/storage.googleapis.com/clearscape_analytics_demo_data/Data_Load/random_data.csv\",\"453\",\"289\",\"403\"",
      "text/html": [
       "<div class = \"td-resultset-table-div\" style = \"max-height: 100%; overflow-y: auto\">\n",
       "      <table class=\"tdhistory982124\"><style>\n",
       "      table.tdhistory982124 { display: block !important; min-height: 126px !important; overflow: auto !important; height: 126px !important; width: 100% !important; border: 1px solid rgb(207, 207, 207) !important; border-collapse: collapse !important; ; color: var(--jp-ui-font-color1) !important; }\n",
       "      th.tdhistory982124 { border: 1px solid rgb(198,198,198) !important; border-collapse: collapse !important; ; padding: 2px 5px !important; ; font-size: 13px !important; ; text-align: center !important; white-space: normal !important; color: var(--jp-ui-font-color1) !important; }\n",
       "      th.tdhistory982124:last-child { text-align: left !important; }\n",
       "      tbody.tdhistory982124 tr:nth-child(even) { background: rgba(243, 243, 243, 0.75) !important; }\n",
       "      tbody.tdhistory982124 tr:nth-child(odd) { background: var(--jp-ui-inverse-font-color1) !important; }\n",
       "      td.tdhistory982124 { border: 1px solid rgb(207, 207, 207) !important; border-collapse: collapse !important; ; padding: 2px 5px !important; ; font-size: 13px !important; ; text-align: left !important;          white-space: nowrap !important; overflow:hidden !important; text-overflow:ellipsis !important;; }\n",
       "    </style><thead><tr style= \"background: rgba(243, 243, 243, 0.75)\"><th class=\"tdhistory982124\"></th><th class=\"tdhistory982124\">Location</th><th class=\"tdhistory982124\">Column1</th><th class=\"tdhistory982124\">Column2</th><th class=\"tdhistory982124\">Column3</th></tr></thead><tbody class=\"tdhistory982124 resultset-body\"><tr><th class=\"tdhistory982124\" style= \"background: rgba(243, 243, 243, 0.75)\">1</th><td class=\"tdhistory982124\">/GS/storage.googleapis.com/clearscape_analytics_demo_data/Data_Load/random_data.csv</td><td class=\"tdhistory982124\">252</td><td class=\"tdhistory982124\">384</td><td class=\"tdhistory982124\">931</td></tr><tr><th class=\"tdhistory982124\" style= \"background: rgba(243, 243, 243, 0.75)\">2</th><td class=\"tdhistory982124\">/GS/storage.googleapis.com/clearscape_analytics_demo_data/Data_Load/random_data.csv</td><td class=\"tdhistory982124\">453</td><td class=\"tdhistory982124\">289</td><td class=\"tdhistory982124\">403</td></tr></tbody></table></div>"
      ]
     },
     "execution_count": 9,
     "metadata": {
      "application/vnd.teradata.resultset": "{\"resultSetID\":\"/home/jovyan/JupyterLabRoot/Teradata/Resultsets/2023.12.21_12.07.57.313_UTC\",\"historyID\":446,\"chunkID\":\"00001\",\"sessionid\":\"\",\"portnum\":\"\",\"dockermode\":\"docker\",\"totalRowCount\":2,\"chunkCount\":0,\"rowLimit\":0,\"columnMetadata\":[{\"columnName\":\"Location\",\"columnTypeName\":\"VARCHAR\",\"length\":2048,\"scale\":2048},{\"columnNumber\":1,\"columnName\":\"Column1\",\"columnTypeName\":\"SMALLINT\"},{\"columnNumber\":2,\"columnName\":\"Column2\",\"columnTypeName\":\"SMALLINT\"},{\"columnNumber\":3,\"columnName\":\"Column3\",\"columnTypeName\":\"SMALLINT\"}]}"
     },
     "output_type": "execute_result"
    }
   ],
   "source": [
    "SELECT TOP 2 * FROM (\n",
    "LOCATION = '/gs/storage.googleapis.com/clearscape_analytics_demo_data/Data_Load/'\n",
    "AUTHORIZATION = gs_tables_db.auth \n",
    ") AS D;"
   ]
  },
  {
   "cell_type": "markdown",
   "id": "867ae638-3be5-4050-8860-2a83a15b967c",
   "metadata": {},
   "source": [
    "<p style = 'font-size:16px;font-family:Arial;color:#00233C'> Please keep in mind:\n",
    "<ul style = 'font-size:16px;font-family:Arial;color:#00233C'><li>TOP does not return the same results each time it is run.</li>\n",
    "<li>TOP may return records with only a subset of attributes because not all records in different objects contain all of the same attributes.</li>\n",
    "    </ul>"
   ]
  },
  {
   "cell_type": "markdown",
   "id": "538e0fe4-505d-480d-a389-dc8fde213b41",
   "metadata": {},
   "source": [
    "<hr style=\"height:1px;border:none;background-color:#00233C;\">\n",
    "<p style = 'font-size:18px;font-family:Arial;color:#00233C'><b>3.2 Using Foreign Table</b>"
   ]
  },
  {
   "cell_type": "code",
   "execution_count": 10,
   "id": "660777d2-389e-4d65-9f1a-cdbe8e0e01a6",
   "metadata": {},
   "outputs": [
    {
     "data": {
      "text/plain": [
       "Success: 0 rows affected"
      ]
     },
     "execution_count": 10,
     "metadata": {
      "application/vnd.teradata.resultset": ""
     },
     "output_type": "execute_result"
    }
   ],
   "source": [
    "CREATE FOREIGN TABLE Retail_Data_FT,\n",
    "EXTERNAL SECURITY  gs_tables_db.auth\n",
    "USING (LOCATION('/gs/storage.googleapis.com/clearscape_analytics_demo_data/Data_Load/'));"
   ]
  },
  {
   "cell_type": "code",
   "execution_count": 11,
   "id": "da76f1d5-6860-4ca8-b61b-1374e76247b2",
   "metadata": {},
   "outputs": [
    {
     "data": {
      "application/vnd.teradata.resultset": "\"Location\",\"Column1\",\"Column2\",\"Column3\"\n\"/GS/storage.googleapis.com/clearscape_analytics_demo_data/Data_Load/random_data.csv\",\"320\",\"583\",\"976\"\n\"/GS/storage.googleapis.com/clearscape_analytics_demo_data/Data_Load/random_data.csv\",\"987\",\"467\",\"918\"\n\"/GS/storage.googleapis.com/clearscape_analytics_demo_data/Data_Load/random_data.csv\",\"876\",\"762\",\"817\"\n\"/GS/storage.googleapis.com/clearscape_analytics_demo_data/Data_Load/random_data.csv\",\"252\",\"384\",\"931\"\n\"/GS/storage.googleapis.com/clearscape_analytics_demo_data/Data_Load/random_data.csv\",\"453\",\"289\",\"403\"",
      "text/html": [
       "<div class = \"td-resultset-table-div\" style = \"max-height: 100%; overflow-y: auto\">\n",
       "      <table class=\"tdhistory614642\"><style>\n",
       "      table.tdhistory614642 { display: block !important; min-height: 189px !important; overflow: auto !important; height: 189px !important; width: 100% !important; border: 1px solid rgb(207, 207, 207) !important; border-collapse: collapse !important; ; color: var(--jp-ui-font-color1) !important; }\n",
       "      th.tdhistory614642 { border: 1px solid rgb(198,198,198) !important; border-collapse: collapse !important; ; padding: 2px 5px !important; ; font-size: 13px !important; ; text-align: center !important; white-space: normal !important; color: var(--jp-ui-font-color1) !important; }\n",
       "      th.tdhistory614642:last-child { text-align: left !important; }\n",
       "      tbody.tdhistory614642 tr:nth-child(even) { background: rgba(243, 243, 243, 0.75) !important; }\n",
       "      tbody.tdhistory614642 tr:nth-child(odd) { background: var(--jp-ui-inverse-font-color1) !important; }\n",
       "      td.tdhistory614642 { border: 1px solid rgb(207, 207, 207) !important; border-collapse: collapse !important; ; padding: 2px 5px !important; ; font-size: 13px !important; ; text-align: left !important;          white-space: nowrap !important; overflow:hidden !important; text-overflow:ellipsis !important;; }\n",
       "    </style><thead><tr style= \"background: rgba(243, 243, 243, 0.75)\"><th class=\"tdhistory614642\"></th><th class=\"tdhistory614642\">Location</th><th class=\"tdhistory614642\">Column1</th><th class=\"tdhistory614642\">Column2</th><th class=\"tdhistory614642\">Column3</th></tr></thead><tbody class=\"tdhistory614642 resultset-body\"><tr><th class=\"tdhistory614642\" style= \"background: rgba(243, 243, 243, 0.75)\">1</th><td class=\"tdhistory614642\">/GS/storage.googleapis.com/clearscape_analytics_demo_data/Data_Load/random_data.csv</td><td class=\"tdhistory614642\">320</td><td class=\"tdhistory614642\">583</td><td class=\"tdhistory614642\">976</td></tr><tr><th class=\"tdhistory614642\" style= \"background: rgba(243, 243, 243, 0.75)\">2</th><td class=\"tdhistory614642\">/GS/storage.googleapis.com/clearscape_analytics_demo_data/Data_Load/random_data.csv</td><td class=\"tdhistory614642\">987</td><td class=\"tdhistory614642\">467</td><td class=\"tdhistory614642\">918</td></tr><tr><th class=\"tdhistory614642\" style= \"background: rgba(243, 243, 243, 0.75)\">3</th><td class=\"tdhistory614642\">/GS/storage.googleapis.com/clearscape_analytics_demo_data/Data_Load/random_data.csv</td><td class=\"tdhistory614642\">876</td><td class=\"tdhistory614642\">762</td><td class=\"tdhistory614642\">817</td></tr><tr><th class=\"tdhistory614642\" style= \"background: rgba(243, 243, 243, 0.75)\">4</th><td class=\"tdhistory614642\">/GS/storage.googleapis.com/clearscape_analytics_demo_data/Data_Load/random_data.csv</td><td class=\"tdhistory614642\">252</td><td class=\"tdhistory614642\">384</td><td class=\"tdhistory614642\">931</td></tr><tr><th class=\"tdhistory614642\" style= \"background: rgba(243, 243, 243, 0.75)\">5</th><td class=\"tdhistory614642\">/GS/storage.googleapis.com/clearscape_analytics_demo_data/Data_Load/random_data.csv</td><td class=\"tdhistory614642\">453</td><td class=\"tdhistory614642\">289</td><td class=\"tdhistory614642\">403</td></tr></tbody></table></div>"
      ]
     },
     "execution_count": 11,
     "metadata": {
      "application/vnd.teradata.resultset": "{\"resultSetID\":\"/home/jovyan/JupyterLabRoot/Teradata/Resultsets/2023.12.21_12.17.46.843_UTC\",\"historyID\":500,\"chunkID\":\"00001\",\"sessionid\":\"\",\"portnum\":\"\",\"dockermode\":\"docker\",\"totalRowCount\":5,\"chunkCount\":0,\"rowLimit\":0,\"columnMetadata\":[{\"columnName\":\"Location\",\"columnTypeName\":\"VARCHAR\",\"length\":2048,\"scale\":2048},{\"columnNumber\":1,\"columnName\":\"Column1\",\"columnTypeName\":\"SMALLINT\"},{\"columnNumber\":2,\"columnName\":\"Column2\",\"columnTypeName\":\"SMALLINT\"},{\"columnNumber\":3,\"columnName\":\"Column3\",\"columnTypeName\":\"SMALLINT\"}]}"
     },
     "output_type": "execute_result"
    }
   ],
   "source": [
    "SELECT TOP 5 * FROM Retail_Data_FT;"
   ]
  },
  {
   "cell_type": "markdown",
   "id": "e68d964e-3d1e-489f-9604-8c92e33b7e70",
   "metadata": {},
   "source": [
    "<hr style=\"height:1px;border:none;background-color:#00233C;\">\n",
    "<p style = 'font-size:18px;font-family:Arial;color:#00233C'><b>3.3 Loading External Data in permanent table</b><br>\n",
    "<p style = 'font-size:16px;font-family:Arial;color:#00233C'>If we want to copy data from cloud to permanent table in database we can use the below command"
   ]
  },
  {
   "cell_type": "code",
   "execution_count": 12,
   "id": "a8098486-0c98-4a69-bdb6-f66b733920e5",
   "metadata": {},
   "outputs": [
    {
     "data": {
      "text/plain": [
       "Success: 0 rows affected"
      ]
     },
     "execution_count": 12,
     "metadata": {
      "application/vnd.teradata.resultset": ""
     },
     "output_type": "execute_result"
    }
   ],
   "source": [
    "CREATE MULTISET TABLE DEMO_USER.Retail_Data_Perm \n",
    "       (InvoiceNo VARCHAR(10) CHARACTER SET UNICODE NOT CASESPECIFIC,\n",
    "        StockCode VARCHAR(10) CHARACTER SET UNICODE NOT CASESPECIFIC,\n",
    "        Description VARCHAR(40) CHARACTER SET UNICODE NOT CASESPECIFIC,\n",
    "        Quantity BIGINT,\n",
    "        InvoiceDate TIMESTAMP(6),\n",
    "        UnitPrice FLOAT,\n",
    "        CustomerID FLOAT,\n",
    "        Country VARCHAR(25) CHARACTER SET UNICODE NOT CASESPECIFIC)\n",
    "  PRIMARY INDEX ( InvoiceNo );"
   ]
  },
  {
   "cell_type": "code",
   "execution_count": 13,
   "id": "a2acc7b6-24cf-459e-88f1-a8c804628095",
   "metadata": {},
   "outputs": [
    {
     "data": {
      "text/plain": [
       "Success: 500 rows affected"
      ]
     },
     "execution_count": 13,
     "metadata": {
      "application/vnd.teradata.resultset": ""
     },
     "output_type": "execute_result"
    }
   ],
   "source": [
    "INSERT DEMO_USER.Retail_Data_Perm \n",
    "SELECT\n",
    "    InvoiceNo,\n",
    "    StockCode,\n",
    "    Description,\n",
    "    Quantity,\n",
    "    InvoiceDate,\n",
    "    UnitPrice,\n",
    "    CustomerID,\n",
    "    Country\n",
    "FROM (\n",
    "    LOCATION = '/gs/storage.googleapis.com/clearscape_analytics_demo_data/Data_Load/Retail_Data_sample.csv'\n",
    "AUTHORIZATION = gs_tables_db.auth\n",
    ") AS d;"
   ]
  },
  {
   "cell_type": "code",
   "execution_count": 14,
   "id": "a1ca1988-6466-4e8d-a7d5-68c734778644",
   "metadata": {},
   "outputs": [
    {
     "data": {
      "application/vnd.teradata.resultset": "\"InvoiceNo\",\"StockCode\",\"Description\",\"Quantity\",\"InvoiceDate\",\"UnitPrice\",\"CustomerID\",\"Country\"\n\"536387\",\"22466\",\"FAIRY TALE COTTAGE NIGHTLIGHT\",\"432\",\"2010-01-12 09:58:00.000000\",\"1.45\",\"16029\",\"United Kingdom\"\n\"C536379\",\"D\",\"Discount\",\"-1\",\"2010-01-12 09:41:00.000000\",\"27.5\",\"14527\",\"United Kingdom\"\n\"536395\",\"22867\",\"HAND WARMER BIRD DESIGN\",\"48\",\"2010-01-12 10:47:00.000000\",\"2.1\",\"13767\",\"United Kingdom\"\n\"536376\",\"21733\",\"RED HANGING HEART T-LIGHT HOLDER\",\"64\",\"2010-01-12 09:32:00.000000\",\"2.55\",\"15291\",\"United Kingdom\"\n\"536376\",\"22114\",\"HOT WATER BOTTLE TEA AND SYMPATHY\",\"48\",\"2010-01-12 09:32:00.000000\",\"3.45\",\"15291\",\"United Kingdom\"",
      "text/html": [
       "<div class = \"td-resultset-table-div\" style = \"max-height: 100%; overflow-y: auto\">\n",
       "      <table class=\"tdhistory488861\"><style>\n",
       "      table.tdhistory488861 { display: block !important; min-height: 189px !important; overflow: auto !important; height: 189px !important; width: 100% !important; border: 1px solid rgb(207, 207, 207) !important; border-collapse: collapse !important; ; color: var(--jp-ui-font-color1) !important; }\n",
       "      th.tdhistory488861 { border: 1px solid rgb(198,198,198) !important; border-collapse: collapse !important; ; padding: 2px 5px !important; ; font-size: 13px !important; ; text-align: center !important; white-space: normal !important; color: var(--jp-ui-font-color1) !important; }\n",
       "      th.tdhistory488861:last-child { text-align: left !important; }\n",
       "      tbody.tdhistory488861 tr:nth-child(even) { background: rgba(243, 243, 243, 0.75) !important; }\n",
       "      tbody.tdhistory488861 tr:nth-child(odd) { background: var(--jp-ui-inverse-font-color1) !important; }\n",
       "      td.tdhistory488861 { border: 1px solid rgb(207, 207, 207) !important; border-collapse: collapse !important; ; padding: 2px 5px !important; ; font-size: 13px !important; ; text-align: left !important;          white-space: nowrap !important; overflow:hidden !important; text-overflow:ellipsis !important;; }\n",
       "    </style><thead><tr style= \"background: rgba(243, 243, 243, 0.75)\"><th class=\"tdhistory488861\"></th><th class=\"tdhistory488861\">InvoiceNo</th><th class=\"tdhistory488861\">StockCode</th><th class=\"tdhistory488861\">Description</th><th class=\"tdhistory488861\">Quantity</th><th class=\"tdhistory488861\">InvoiceDate</th><th class=\"tdhistory488861\">UnitPrice</th><th class=\"tdhistory488861\">CustomerID</th><th class=\"tdhistory488861\">Country</th></tr></thead><tbody class=\"tdhistory488861 resultset-body\"><tr><th class=\"tdhistory488861\" style= \"background: rgba(243, 243, 243, 0.75)\">1</th><td class=\"tdhistory488861\">536387</td><td class=\"tdhistory488861\">22466</td><td class=\"tdhistory488861\">FAIRY TALE COTTAGE NIGHTLIGHT</td><td class=\"tdhistory488861\">432</td><td class=\"tdhistory488861\">2010-01-12 09:58:00.000000</td><td class=\"tdhistory488861\">1.45</td><td class=\"tdhistory488861\">16029</td><td class=\"tdhistory488861\">United Kingdom</td></tr><tr><th class=\"tdhistory488861\" style= \"background: rgba(243, 243, 243, 0.75)\">2</th><td class=\"tdhistory488861\">C536379</td><td class=\"tdhistory488861\">D</td><td class=\"tdhistory488861\">Discount</td><td class=\"tdhistory488861\">-1</td><td class=\"tdhistory488861\">2010-01-12 09:41:00.000000</td><td class=\"tdhistory488861\">27.5</td><td class=\"tdhistory488861\">14527</td><td class=\"tdhistory488861\">United Kingdom</td></tr><tr><th class=\"tdhistory488861\" style= \"background: rgba(243, 243, 243, 0.75)\">3</th><td class=\"tdhistory488861\">536395</td><td class=\"tdhistory488861\">22867</td><td class=\"tdhistory488861\">HAND WARMER BIRD DESIGN</td><td class=\"tdhistory488861\">48</td><td class=\"tdhistory488861\">2010-01-12 10:47:00.000000</td><td class=\"tdhistory488861\">2.1</td><td class=\"tdhistory488861\">13767</td><td class=\"tdhistory488861\">United Kingdom</td></tr><tr><th class=\"tdhistory488861\" style= \"background: rgba(243, 243, 243, 0.75)\">4</th><td class=\"tdhistory488861\">536376</td><td class=\"tdhistory488861\">21733</td><td class=\"tdhistory488861\">RED HANGING HEART T-LIGHT HOLDER</td><td class=\"tdhistory488861\">64</td><td class=\"tdhistory488861\">2010-01-12 09:32:00.000000</td><td class=\"tdhistory488861\">2.55</td><td class=\"tdhistory488861\">15291</td><td class=\"tdhistory488861\">United Kingdom</td></tr><tr><th class=\"tdhistory488861\" style= \"background: rgba(243, 243, 243, 0.75)\">5</th><td class=\"tdhistory488861\">536376</td><td class=\"tdhistory488861\">22114</td><td class=\"tdhistory488861\">HOT WATER BOTTLE TEA AND SYMPATHY</td><td class=\"tdhistory488861\">48</td><td class=\"tdhistory488861\">2010-01-12 09:32:00.000000</td><td class=\"tdhistory488861\">3.45</td><td class=\"tdhistory488861\">15291</td><td class=\"tdhistory488861\">United Kingdom</td></tr></tbody></table></div>"
      ]
     },
     "execution_count": 14,
     "metadata": {
      "application/vnd.teradata.resultset": "{\"resultSetID\":\"/home/jovyan/JupyterLabRoot/Teradata/Resultsets/2023.12.21_12.17.49.964_UTC\",\"historyID\":503,\"chunkID\":\"00001\",\"sessionid\":\"\",\"portnum\":\"\",\"dockermode\":\"docker\",\"totalRowCount\":5,\"chunkCount\":0,\"rowLimit\":0,\"columnMetadata\":[{\"columnName\":\"InvoiceNo\",\"columnTypeName\":\"VARCHAR\",\"length\":10,\"scale\":10},{\"columnNumber\":1,\"columnName\":\"StockCode\",\"columnTypeName\":\"VARCHAR\",\"length\":10,\"scale\":10},{\"columnNumber\":2,\"columnName\":\"Description\",\"columnTypeName\":\"VARCHAR\",\"length\":40,\"scale\":40},{\"columnNumber\":3,\"columnName\":\"Quantity\",\"columnTypeName\":\"BIGINT\"},{\"columnNumber\":4,\"columnName\":\"InvoiceDate\",\"columnTypeName\":\"TIMESTAMP\",\"length\":6,\"scale\":6},{\"columnNumber\":5,\"columnName\":\"UnitPrice\",\"columnTypeName\":\"FLOAT\"},{\"columnNumber\":6,\"columnName\":\"CustomerID\",\"columnTypeName\":\"FLOAT\"},{\"columnNumber\":7,\"columnName\":\"Country\",\"columnTypeName\":\"VARCHAR\",\"length\":25,\"scale\":25}]}"
     },
     "output_type": "execute_result"
    }
   ],
   "source": [
    "SELECT TOP 5 * FROM Retail_Data_Perm;"
   ]
  },
  {
   "cell_type": "markdown",
   "id": "06550d31-3484-4d97-a752-56e7370c6557",
   "metadata": {},
   "source": [
    "<hr style=\"height:1px;border:none;background-color:#00233C;\">\n",
    "<p style = 'font-size:18px;font-family:Arial;color:#00233C'><b>3.4 Parquet Data on AWS</b><br>\n",
    "<p style = 'font-size:16px;font-family:Arial;color:#00233C'>As mentioned previously, several of the demonstration notebooks access data on AWS. One of them is:</p>\n",
    "\n",
    "[Deep History via Object Store](../../UseCases/Deep_History_via_Object_Store/Deep_History_via_Object_Store_SQL.ipynb)\n",
    "\n",
    "<p style = 'font-size:16px;font-family:Arial;color:#00233C'>The data it accesses is in parquet format. Storage of data in the cloud is frequently broken up into multiple files to allow parallel reading of the data for performance and to allow some partitioning of the data using the directory hierarchy (in this case by year). The data is public so it can be accessed without an Authorization object. The data for that demo is in 28 files which we can view with the following command. </p>"
   ]
  },
  {
   "cell_type": "code",
   "execution_count": 15,
   "id": "25a60f4e-a5fa-47d4-9d98-7a9c5db8f999",
   "metadata": {},
   "outputs": [
    {
     "data": {
      "application/vnd.teradata.resultset": "\"Location\",\"ObjectLength\"\n\"/S3/s3.amazonaws.com/clearscape-analytics-datasets/sales_fact_offload/2010/2010/object_33_0_1.parquet                                                                                                                                                                                                                                                                                                                                                                                                                                                                                                                                                                                                                                                                                        \",\"12484548\"\n\"/S3/s3.amazonaws.com/clearscape-analytics-datasets/sales_fact_offload/2011/2011/object_33_0_1.parquet                                                                                                                                                                                                                                                                                                                                                                                                                                                                                                                                                                                                                                                                                        \",\"16564887\"\n\"/S3/s3.amazonaws.com/clearscape-analytics-datasets/sales_fact_offload/2011/2011/object_33_0_2.parquet                                                                                                                                                                                                                                                                                                                                                                                                                                                                                                                                                                                                                                                                                        \",\"1242222\"\n\"/S3/s3.amazonaws.com/clearscape-analytics-datasets/sales_fact_offload/2012/2012/object_33_2_1.parquet                                                                                                                                                                                                                                                                                                                                                                                                                                                                                                                                                                                                                                                                                        \",\"16561265\"\n\"/S3/s3.amazonaws.com/clearscape-analytics-datasets/sales_fact_offload/2012/2012/object_33_2_2.parquet                                                                                                                                                                                                                                                                                                                                                                                                                                                                                                                                                                                                                                                                                        \",\"15091468\"",
      "text/html": [
       "<div class = \"td-resultset-table-div\" style = \"max-height: 100%; overflow-y: auto\">\n",
       "      <table class=\"tdhistory629511\"><style>\n",
       "      table.tdhistory629511 { display: block !important; min-height: 189px !important; overflow: auto !important; height: 189px !important; width: 100% !important; border: 1px solid rgb(207, 207, 207) !important; border-collapse: collapse !important; ; color: var(--jp-ui-font-color1) !important; }\n",
       "      th.tdhistory629511 { border: 1px solid rgb(198,198,198) !important; border-collapse: collapse !important; ; padding: 2px 5px !important; ; font-size: 13px !important; ; text-align: center !important; white-space: normal !important; color: var(--jp-ui-font-color1) !important; }\n",
       "      th.tdhistory629511:last-child { text-align: left !important; }\n",
       "      tbody.tdhistory629511 tr:nth-child(even) { background: rgba(243, 243, 243, 0.75) !important; }\n",
       "      tbody.tdhistory629511 tr:nth-child(odd) { background: var(--jp-ui-inverse-font-color1) !important; }\n",
       "      td.tdhistory629511 { border: 1px solid rgb(207, 207, 207) !important; border-collapse: collapse !important; ; padding: 2px 5px !important; ; font-size: 13px !important; ; text-align: left !important;          white-space: nowrap !important; overflow:hidden !important; text-overflow:ellipsis !important;; }\n",
       "    </style><thead><tr style= \"background: rgba(243, 243, 243, 0.75)\"><th class=\"tdhistory629511\"></th><th class=\"tdhistory629511\">Location</th><th class=\"tdhistory629511\">ObjectLength</th></tr></thead><tbody class=\"tdhistory629511 resultset-body\"><tr><th class=\"tdhistory629511\" style= \"background: rgba(243, 243, 243, 0.75)\">1</th><td class=\"tdhistory629511\">/S3/s3.amazonaws.com/clearscape-analytics-datasets/sales_fact_offload/2010/2010/object_33_0_1.parquet                                                                                                                                                                                                                                                                                                                                                                                                                                                                                                                                                                                                                                                                                        </td><td class=\"tdhistory629511\">12484548</td></tr><tr><th class=\"tdhistory629511\" style= \"background: rgba(243, 243, 243, 0.75)\">2</th><td class=\"tdhistory629511\">/S3/s3.amazonaws.com/clearscape-analytics-datasets/sales_fact_offload/2011/2011/object_33_0_1.parquet                                                                                                                                                                                                                                                                                                                                                                                                                                                                                                                                                                                                                                                                                        </td><td class=\"tdhistory629511\">16564887</td></tr><tr><th class=\"tdhistory629511\" style= \"background: rgba(243, 243, 243, 0.75)\">3</th><td class=\"tdhistory629511\">/S3/s3.amazonaws.com/clearscape-analytics-datasets/sales_fact_offload/2011/2011/object_33_0_2.parquet                                                                                                                                                                                                                                                                                                                                                                                                                                                                                                                                                                                                                                                                                        </td><td class=\"tdhistory629511\">1242222</td></tr><tr><th class=\"tdhistory629511\" style= \"background: rgba(243, 243, 243, 0.75)\">4</th><td class=\"tdhistory629511\">/S3/s3.amazonaws.com/clearscape-analytics-datasets/sales_fact_offload/2012/2012/object_33_2_1.parquet                                                                                                                                                                                                                                                                                                                                                                                                                                                                                                                                                                                                                                                                                        </td><td class=\"tdhistory629511\">16561265</td></tr><tr><th class=\"tdhistory629511\" style= \"background: rgba(243, 243, 243, 0.75)\">5</th><td class=\"tdhistory629511\">/S3/s3.amazonaws.com/clearscape-analytics-datasets/sales_fact_offload/2012/2012/object_33_2_2.parquet                                                                                                                                                                                                                                                                                                                                                                                                                                                                                                                                                                                                                                                                                        </td><td class=\"tdhistory629511\">15091468</td></tr></tbody></table></div>"
      ]
     },
     "execution_count": 15,
     "metadata": {
      "application/vnd.teradata.resultset": "{\"resultSetID\":\"/home/jovyan/JupyterLabRoot/Teradata/Resultsets/2023.12.21_12.17.50.601_UTC\",\"historyID\":504,\"chunkID\":\"00001\",\"sessionid\":\"\",\"portnum\":\"\",\"dockermode\":\"docker\",\"totalRowCount\":5,\"chunkCount\":0,\"rowLimit\":0,\"columnMetadata\":[{\"columnName\":\"Location\",\"columnTypeName\":\"CHAR\",\"length\":255,\"scale\":255},{\"columnNumber\":1,\"columnName\":\"ObjectLength\",\"columnTypeName\":\"BIGINT\"}]}"
     },
     "output_type": "execute_result"
    }
   ],
   "source": [
    "SELECT TOP 5 location(char(255)), ObjectLength \n",
    "FROM read_nos (\n",
    "USING \n",
    " LOCATION  ('/s3/s3.amazonaws.com/clearscape-analytics-datasets/sales_fact_offload/') \n",
    " RETURNTYPE ('NOSREAD_KEYS')\n",
    ") AS d \n",
    "ORDER BY 1;"
   ]
  },
  {
   "cell_type": "markdown",
   "id": "76de62c4-2a68-46a8-a620-2095ab77fc78",
   "metadata": {},
   "source": [
    "<p style = 'font-size:16px;font-family:Arial;color:#00233C'>The definition of the data can be read using the RETURNTYPE 'NOSREAD_PARQUET_SCHEMA'.   In this case we are only going to reference 1 file out of the set for performance.  We will specify FULLSCAN 'TRUE' to read through all rows to determine the maximum column length for varchar columns (if any ... at least for 1 file).  </p>"
   ]
  },
  {
   "cell_type": "code",
   "execution_count": 16,
   "id": "cd9ea7bc-1e6f-4213-902a-df4a941cbc2f",
   "metadata": {},
   "outputs": [
    {
     "data": {
      "application/vnd.teradata.resultset": "\"ColPosition\",\"Name\",\"TdatDataType\",\"PhysicalType\",\"LogicalType\",\"Precision\",\"Scale\",\"MinLength\",\"MaxLength\",\"NullFound\",\"FileType\",\"Location\"\n\"3\",\"sales_date\",\"DATE\",\"INT32\",\"DATE\",\"0\",\"0\",\"0\",\"0\",\"1\",\"parquet\",\"/S3/s3.amazonaws.com/clearscape-analytics-datasets/sales_fact_offload/2010/2010/object_33_0_1.parquet\"\n\"5\",\"store_id\",\"INTEGER\",\"INT32\",\"NONE\",\"0\",\"0\",\"0\",\"0\",\"1\",\"parquet\",\"/S3/s3.amazonaws.com/clearscape-analytics-datasets/sales_fact_offload/2010/2010/object_33_0_1.parquet\"\n\"4\",\"customer_id\",\"INTEGER\",\"INT32\",\"NONE\",\"0\",\"0\",\"0\",\"0\",\"1\",\"parquet\",\"/S3/s3.amazonaws.com/clearscape-analytics-datasets/sales_fact_offload/2010/2010/object_33_0_1.parquet\"\n\"2\",\"TheMonth\",\"INTEGER\",\"INT32\",\"NONE\",\"0\",\"0\",\"0\",\"0\",\"1\",\"parquet\",\"/S3/s3.amazonaws.com/clearscape-analytics-datasets/sales_fact_offload/2010/2010/object_33_0_1.parquet\"\n\"1\",\"TheYear\",\"INTEGER\",\"INT32\",\"NONE\",\"0\",\"0\",\"0\",\"0\",\"1\",\"parquet\",\"/S3/s3.amazonaws.com/clearscape-analytics-datasets/sales_fact_offload/2010/2010/object_33_0_1.parquet\"",
      "text/html": [
       "<div class = \"td-resultset-table-div\" style = \"max-height: 100%; overflow-y: auto\">\n",
       "      <table class=\"tdhistory364921\"><style>\n",
       "      table.tdhistory364921 { display: block !important; min-height: 189px !important; overflow: auto !important; height: 189px !important; width: 100% !important; border: 1px solid rgb(207, 207, 207) !important; border-collapse: collapse !important; ; color: var(--jp-ui-font-color1) !important; }\n",
       "      th.tdhistory364921 { border: 1px solid rgb(198,198,198) !important; border-collapse: collapse !important; ; padding: 2px 5px !important; ; font-size: 13px !important; ; text-align: center !important; white-space: normal !important; color: var(--jp-ui-font-color1) !important; }\n",
       "      th.tdhistory364921:last-child { text-align: left !important; }\n",
       "      tbody.tdhistory364921 tr:nth-child(even) { background: rgba(243, 243, 243, 0.75) !important; }\n",
       "      tbody.tdhistory364921 tr:nth-child(odd) { background: var(--jp-ui-inverse-font-color1) !important; }\n",
       "      td.tdhistory364921 { border: 1px solid rgb(207, 207, 207) !important; border-collapse: collapse !important; ; padding: 2px 5px !important; ; font-size: 13px !important; ; text-align: left !important;          white-space: nowrap !important; overflow:hidden !important; text-overflow:ellipsis !important;; }\n",
       "    </style><thead><tr style= \"background: rgba(243, 243, 243, 0.75)\"><th class=\"tdhistory364921\"></th><th class=\"tdhistory364921\">ColPosition</th><th class=\"tdhistory364921\">Name</th><th class=\"tdhistory364921\">TdatDataType</th><th class=\"tdhistory364921\">PhysicalType</th><th class=\"tdhistory364921\">LogicalType</th><th class=\"tdhistory364921\">Precision</th><th class=\"tdhistory364921\">Scale</th><th class=\"tdhistory364921\">MinLength</th><th class=\"tdhistory364921\">MaxLength</th><th class=\"tdhistory364921\">NullFound</th><th class=\"tdhistory364921\">FileType</th><th class=\"tdhistory364921\">Location</th></tr></thead><tbody class=\"tdhistory364921 resultset-body\"><tr><th class=\"tdhistory364921\" style= \"background: rgba(243, 243, 243, 0.75)\">1</th><td class=\"tdhistory364921\">3</td><td class=\"tdhistory364921\">sales_date</td><td class=\"tdhistory364921\">DATE</td><td class=\"tdhistory364921\">INT32</td><td class=\"tdhistory364921\">DATE</td><td class=\"tdhistory364921\">0</td><td class=\"tdhistory364921\">0</td><td class=\"tdhistory364921\">0</td><td class=\"tdhistory364921\">0</td><td class=\"tdhistory364921\">1</td><td class=\"tdhistory364921\">parquet</td><td class=\"tdhistory364921\">/S3/s3.amazonaws.com/clearscape-analytics-datasets/sales_fact_offload/2010/2010/object_33_0_1.parquet</td></tr><tr><th class=\"tdhistory364921\" style= \"background: rgba(243, 243, 243, 0.75)\">2</th><td class=\"tdhistory364921\">5</td><td class=\"tdhistory364921\">store_id</td><td class=\"tdhistory364921\">INTEGER</td><td class=\"tdhistory364921\">INT32</td><td class=\"tdhistory364921\">NONE</td><td class=\"tdhistory364921\">0</td><td class=\"tdhistory364921\">0</td><td class=\"tdhistory364921\">0</td><td class=\"tdhistory364921\">0</td><td class=\"tdhistory364921\">1</td><td class=\"tdhistory364921\">parquet</td><td class=\"tdhistory364921\">/S3/s3.amazonaws.com/clearscape-analytics-datasets/sales_fact_offload/2010/2010/object_33_0_1.parquet</td></tr><tr><th class=\"tdhistory364921\" style= \"background: rgba(243, 243, 243, 0.75)\">3</th><td class=\"tdhistory364921\">4</td><td class=\"tdhistory364921\">customer_id</td><td class=\"tdhistory364921\">INTEGER</td><td class=\"tdhistory364921\">INT32</td><td class=\"tdhistory364921\">NONE</td><td class=\"tdhistory364921\">0</td><td class=\"tdhistory364921\">0</td><td class=\"tdhistory364921\">0</td><td class=\"tdhistory364921\">0</td><td class=\"tdhistory364921\">1</td><td class=\"tdhistory364921\">parquet</td><td class=\"tdhistory364921\">/S3/s3.amazonaws.com/clearscape-analytics-datasets/sales_fact_offload/2010/2010/object_33_0_1.parquet</td></tr><tr><th class=\"tdhistory364921\" style= \"background: rgba(243, 243, 243, 0.75)\">4</th><td class=\"tdhistory364921\">2</td><td class=\"tdhistory364921\">TheMonth</td><td class=\"tdhistory364921\">INTEGER</td><td class=\"tdhistory364921\">INT32</td><td class=\"tdhistory364921\">NONE</td><td class=\"tdhistory364921\">0</td><td class=\"tdhistory364921\">0</td><td class=\"tdhistory364921\">0</td><td class=\"tdhistory364921\">0</td><td class=\"tdhistory364921\">1</td><td class=\"tdhistory364921\">parquet</td><td class=\"tdhistory364921\">/S3/s3.amazonaws.com/clearscape-analytics-datasets/sales_fact_offload/2010/2010/object_33_0_1.parquet</td></tr><tr><th class=\"tdhistory364921\" style= \"background: rgba(243, 243, 243, 0.75)\">5</th><td class=\"tdhistory364921\">1</td><td class=\"tdhistory364921\">TheYear</td><td class=\"tdhistory364921\">INTEGER</td><td class=\"tdhistory364921\">INT32</td><td class=\"tdhistory364921\">NONE</td><td class=\"tdhistory364921\">0</td><td class=\"tdhistory364921\">0</td><td class=\"tdhistory364921\">0</td><td class=\"tdhistory364921\">0</td><td class=\"tdhistory364921\">1</td><td class=\"tdhistory364921\">parquet</td><td class=\"tdhistory364921\">/S3/s3.amazonaws.com/clearscape-analytics-datasets/sales_fact_offload/2010/2010/object_33_0_1.parquet</td></tr></tbody></table></div>"
      ]
     },
     "execution_count": 16,
     "metadata": {
      "application/vnd.teradata.resultset": "{\"resultSetID\":\"/home/jovyan/JupyterLabRoot/Teradata/Resultsets/2023.12.21_12.17.51.437_UTC\",\"historyID\":505,\"chunkID\":\"00001\",\"sessionid\":\"\",\"portnum\":\"\",\"dockermode\":\"docker\",\"totalRowCount\":5,\"chunkCount\":0,\"rowLimit\":0,\"columnMetadata\":[{\"columnName\":\"ColPosition\",\"columnTypeName\":\"SMALLINT\"},{\"columnNumber\":1,\"columnName\":\"Name\",\"columnTypeName\":\"VARCHAR\",\"length\":1024,\"scale\":1024},{\"columnNumber\":2,\"columnName\":\"TdatDataType\",\"columnTypeName\":\"VARCHAR\",\"length\":1024,\"scale\":1024},{\"columnNumber\":3,\"columnName\":\"PhysicalType\",\"columnTypeName\":\"VARCHAR\",\"length\":1024,\"scale\":1024},{\"columnNumber\":4,\"columnName\":\"LogicalType\",\"columnTypeName\":\"VARCHAR\",\"length\":1024,\"scale\":1024},{\"columnNumber\":5,\"columnName\":\"Precision\",\"columnTypeName\":\"INTEGER\"},{\"columnNumber\":6,\"columnName\":\"Scale\",\"columnTypeName\":\"INTEGER\"},{\"columnNumber\":7,\"columnName\":\"MinLength\",\"columnTypeName\":\"INTEGER\"},{\"columnNumber\":8,\"columnName\":\"MaxLength\",\"columnTypeName\":\"INTEGER\"},{\"columnNumber\":9,\"columnName\":\"NullFound\",\"columnTypeName\":\"BYTEINT\"},{\"columnNumber\":10,\"columnName\":\"FileType\",\"columnTypeName\":\"VARCHAR\",\"length\":128,\"scale\":128},{\"columnNumber\":11,\"columnName\":\"Location\",\"columnTypeName\":\"VARCHAR\",\"length\":2048,\"scale\":2048}]}"
     },
     "output_type": "execute_result"
    }
   ],
   "source": [
    "SELECT TOP 5 * FROM READ_NOS (\n",
    "      USING\n",
    "      LOCATION  ('/s3/s3.amazonaws.com/clearscape-analytics-datasets/sales_fact_offload/2010/2010/object_33_0_1.parquet')\n",
    "      RETURNTYPE ('NOSREAD_PARQUET_SCHEMA')\n",
    "      FULLSCAN ('TRUE')\n",
    "      )\n",
    "AS d;"
   ]
  },
  {
   "cell_type": "markdown",
   "id": "790a97d6-cd98-42f9-b71e-4cf4d562aebc",
   "metadata": {},
   "source": [
    "<p style = 'font-size:16px;font-family:Arial;color:#00233C'>Again, to see a sample of the data, we will only reference one file.  If you remove \"2010/2010/object_33_0_1.parquet\" from the location below, it will run a bit longer.</p>"
   ]
  },
  {
   "cell_type": "code",
   "execution_count": 17,
   "id": "1e8e8ecc-4ec3-44be-be99-d88a587b522f",
   "metadata": {},
   "outputs": [
    {
     "data": {
      "application/vnd.teradata.resultset": "\"Location\",\"TheYear\",\"TheMonth\",\"sales_date\",\"customer_id\",\"store_id\",\"basket_id\",\"product_id\",\"sales_quantity\",\"discount_amount\"\n\"/S3/s3.amazonaws.com/clearscape-analytics-datasets/sales_fact_offload/2013/2013/object_33_0_2.parquet\",\"2013\",\"11\",\"2013-11-08\",\"1599\",\"9\",\"31115999\",\"23\",\"3\",\"0.0475902\"\n\"/S3/s3.amazonaws.com/clearscape-analytics-datasets/sales_fact_offload/2011/2011/object_33_0_1.parquet\",\"2011\",\"8\",\"2011-08-10\",\"2517\",\"7\",\"3625177\",\"60\",\"3\",\"0.164221\"\n\"/S3/s3.amazonaws.com/clearscape-analytics-datasets/sales_fact_offload/2011/2011/object_33_0_1.parquet\",\"2011\",\"8\",\"2011-08-10\",\"2517\",\"7\",\"3625177\",\"60\",\"3\",\"0.164221\"\n\"/S3/s3.amazonaws.com/clearscape-analytics-datasets/sales_fact_offload/2018/2018/object_33_0_7.parquet\",\"2018\",\"5\",\"2018-05-11\",\"4182\",\"2\",\"12741822\",\"49\",\"10\",\"0.150882\"\n\"/S3/s3.amazonaws.com/clearscape-analytics-datasets/sales_fact_offload/2018/2018/object_33_0_7.parquet\",\"2018\",\"5\",\"2018-05-30\",\"4182\",\"2\",\"10841822\",\"35\",\"7\",\"0.0672583\"",
      "text/html": [
       "<div class = \"td-resultset-table-div\" style = \"max-height: 100%; overflow-y: auto\">\n",
       "      <table class=\"tdhistory103820\"><style>\n",
       "      table.tdhistory103820 { display: block !important; min-height: 189px !important; overflow: auto !important; height: 189px !important; width: 100% !important; border: 1px solid rgb(207, 207, 207) !important; border-collapse: collapse !important; ; color: var(--jp-ui-font-color1) !important; }\n",
       "      th.tdhistory103820 { border: 1px solid rgb(198,198,198) !important; border-collapse: collapse !important; ; padding: 2px 5px !important; ; font-size: 13px !important; ; text-align: center !important; white-space: normal !important; color: var(--jp-ui-font-color1) !important; }\n",
       "      th.tdhistory103820:last-child { text-align: left !important; }\n",
       "      tbody.tdhistory103820 tr:nth-child(even) { background: rgba(243, 243, 243, 0.75) !important; }\n",
       "      tbody.tdhistory103820 tr:nth-child(odd) { background: var(--jp-ui-inverse-font-color1) !important; }\n",
       "      td.tdhistory103820 { border: 1px solid rgb(207, 207, 207) !important; border-collapse: collapse !important; ; padding: 2px 5px !important; ; font-size: 13px !important; ; text-align: left !important;          white-space: nowrap !important; overflow:hidden !important; text-overflow:ellipsis !important;; }\n",
       "    </style><thead><tr style= \"background: rgba(243, 243, 243, 0.75)\"><th class=\"tdhistory103820\"></th><th class=\"tdhistory103820\">Location</th><th class=\"tdhistory103820\">TheYear</th><th class=\"tdhistory103820\">TheMonth</th><th class=\"tdhistory103820\">sales_date</th><th class=\"tdhistory103820\">customer_id</th><th class=\"tdhistory103820\">store_id</th><th class=\"tdhistory103820\">basket_id</th><th class=\"tdhistory103820\">product_id</th><th class=\"tdhistory103820\">sales_quantity</th><th class=\"tdhistory103820\">discount_amount</th></tr></thead><tbody class=\"tdhistory103820 resultset-body\"><tr><th class=\"tdhistory103820\" style= \"background: rgba(243, 243, 243, 0.75)\">1</th><td class=\"tdhistory103820\">/S3/s3.amazonaws.com/clearscape-analytics-datasets/sales_fact_offload/2013/2013/object_33_0_2.parquet</td><td class=\"tdhistory103820\">2013</td><td class=\"tdhistory103820\">11</td><td class=\"tdhistory103820\">2013-11-08</td><td class=\"tdhistory103820\">1599</td><td class=\"tdhistory103820\">9</td><td class=\"tdhistory103820\">31115999</td><td class=\"tdhistory103820\">23</td><td class=\"tdhistory103820\">3</td><td class=\"tdhistory103820\">0.0475902</td></tr><tr><th class=\"tdhistory103820\" style= \"background: rgba(243, 243, 243, 0.75)\">2</th><td class=\"tdhistory103820\">/S3/s3.amazonaws.com/clearscape-analytics-datasets/sales_fact_offload/2011/2011/object_33_0_1.parquet</td><td class=\"tdhistory103820\">2011</td><td class=\"tdhistory103820\">8</td><td class=\"tdhistory103820\">2011-08-10</td><td class=\"tdhistory103820\">2517</td><td class=\"tdhistory103820\">7</td><td class=\"tdhistory103820\">3625177</td><td class=\"tdhistory103820\">60</td><td class=\"tdhistory103820\">3</td><td class=\"tdhistory103820\">0.164221</td></tr><tr><th class=\"tdhistory103820\" style= \"background: rgba(243, 243, 243, 0.75)\">3</th><td class=\"tdhistory103820\">/S3/s3.amazonaws.com/clearscape-analytics-datasets/sales_fact_offload/2011/2011/object_33_0_1.parquet</td><td class=\"tdhistory103820\">2011</td><td class=\"tdhistory103820\">8</td><td class=\"tdhistory103820\">2011-08-10</td><td class=\"tdhistory103820\">2517</td><td class=\"tdhistory103820\">7</td><td class=\"tdhistory103820\">3625177</td><td class=\"tdhistory103820\">60</td><td class=\"tdhistory103820\">3</td><td class=\"tdhistory103820\">0.164221</td></tr><tr><th class=\"tdhistory103820\" style= \"background: rgba(243, 243, 243, 0.75)\">4</th><td class=\"tdhistory103820\">/S3/s3.amazonaws.com/clearscape-analytics-datasets/sales_fact_offload/2018/2018/object_33_0_7.parquet</td><td class=\"tdhistory103820\">2018</td><td class=\"tdhistory103820\">5</td><td class=\"tdhistory103820\">2018-05-11</td><td class=\"tdhistory103820\">4182</td><td class=\"tdhistory103820\">2</td><td class=\"tdhistory103820\">12741822</td><td class=\"tdhistory103820\">49</td><td class=\"tdhistory103820\">10</td><td class=\"tdhistory103820\">0.150882</td></tr><tr><th class=\"tdhistory103820\" style= \"background: rgba(243, 243, 243, 0.75)\">5</th><td class=\"tdhistory103820\">/S3/s3.amazonaws.com/clearscape-analytics-datasets/sales_fact_offload/2018/2018/object_33_0_7.parquet</td><td class=\"tdhistory103820\">2018</td><td class=\"tdhistory103820\">5</td><td class=\"tdhistory103820\">2018-05-30</td><td class=\"tdhistory103820\">4182</td><td class=\"tdhistory103820\">2</td><td class=\"tdhistory103820\">10841822</td><td class=\"tdhistory103820\">35</td><td class=\"tdhistory103820\">7</td><td class=\"tdhistory103820\">0.0672583</td></tr></tbody></table></div>"
      ]
     },
     "execution_count": 17,
     "metadata": {
      "application/vnd.teradata.resultset": "{\"resultSetID\":\"/home/jovyan/JupyterLabRoot/Teradata/Resultsets/2023.12.21_12.18.18.701_UTC\",\"historyID\":506,\"chunkID\":\"00001\",\"sessionid\":\"\",\"portnum\":\"\",\"dockermode\":\"docker\",\"totalRowCount\":5,\"chunkCount\":0,\"rowLimit\":0,\"columnMetadata\":[{\"columnName\":\"Location\",\"columnTypeName\":\"VARCHAR\",\"length\":2048,\"scale\":2048},{\"columnNumber\":1,\"columnName\":\"TheYear\",\"columnTypeName\":\"INTEGER\"},{\"columnNumber\":2,\"columnName\":\"TheMonth\",\"columnTypeName\":\"INTEGER\"},{\"columnNumber\":3,\"columnName\":\"sales_date\",\"columnTypeName\":\"DATE\"},{\"columnNumber\":4,\"columnName\":\"customer_id\",\"columnTypeName\":\"INTEGER\"},{\"columnNumber\":5,\"columnName\":\"store_id\",\"columnTypeName\":\"INTEGER\"},{\"columnNumber\":6,\"columnName\":\"basket_id\",\"columnTypeName\":\"INTEGER\"},{\"columnNumber\":7,\"columnName\":\"product_id\",\"columnTypeName\":\"INTEGER\"},{\"columnNumber\":8,\"columnName\":\"sales_quantity\",\"columnTypeName\":\"INTEGER\"},{\"columnNumber\":9,\"columnName\":\"discount_amount\",\"columnTypeName\":\"FLOAT\"}]}"
     },
     "output_type": "execute_result"
    }
   ],
   "source": [
    "SELECT TOP 5 * FROM READ_NOS (\n",
    "      USING\n",
    "      LOCATION  ('/s3/s3.amazonaws.com/clearscape-analytics-datasets/sales_fact_offload/') --2010/2010/object_33_0_1.parquet')\n",
    "      RETURNTYPE ('NOSREAD_RECORD')\n",
    "      )\n",
    "AS d;"
   ]
  },
  {
   "cell_type": "markdown",
   "id": "a22e8986-4e4b-4f29-8fff-bd217c060816",
   "metadata": {},
   "source": [
    "<p style = 'font-size:16px;font-family:Arial;color:#00233C'>The creating of a foreign table or loading into a local table from Parquet on the AWS cloud is similar to the process described above.  For the full example, see the UseCase:</p>\n",
    "\n",
    "[Deep History via Object Store](../../UseCases/Deep_History_via_Object_Store/Deep_History_via_Object_Store_SQL.ipynb)"
   ]
  },
  {
   "cell_type": "markdown",
   "id": "71d2319e-b4ff-44a6-b67d-cab7c70f3b09",
   "metadata": {},
   "source": [
    " <p style = 'font-size:16px;font-family:Arial;color:#00233C'> To load other file formats like json or more details about parquet, please refer to: <a href ='https://docs.teradata.com/r/Enterprise_IntelliFlex_VMware/Teradata-VantageTM-Native-Object-Store-Getting-Started-Guide-17.20/Reading-Data/Examples-For-Business-Analysts/Sampling-External-Data-In-Place-Using-READ_NOS'>NOS user guide</a> </p>"
   ]
  },
  {
   "cell_type": "markdown",
   "id": "c10bfe3f-667d-4cfa-89c9-70ae1424e0af",
   "metadata": {},
   "source": [
    "<hr style=\"height:2px;border:none;background-color:#00233C;\">\n",
    "<p style = 'font-size:20px;font-family:Arial;color:#00233C'><b>4. Cleanup</b>"
   ]
  },
  {
   "cell_type": "code",
   "execution_count": 18,
   "id": "7c70a1d4-84e6-47cf-b1c1-ed0709dd5225",
   "metadata": {},
   "outputs": [
    {
     "data": {
      "text/plain": [
       "Success: 22 rows affected"
      ]
     },
     "execution_count": 18,
     "metadata": {
      "application/vnd.teradata.resultset": ""
     },
     "output_type": "execute_result"
    }
   ],
   "source": [
    "DROP TABLE Retail_Data;"
   ]
  },
  {
   "cell_type": "code",
   "execution_count": 19,
   "id": "cf8259f6-5ea8-46b2-9bb9-2e81e626261e",
   "metadata": {},
   "outputs": [
    {
     "data": {
      "text/plain": [
       "Success: 27 rows affected"
      ]
     },
     "execution_count": 19,
     "metadata": {
      "application/vnd.teradata.resultset": ""
     },
     "output_type": "execute_result"
    }
   ],
   "source": [
    "DROP TABLE Retail_Data_FT;"
   ]
  },
  {
   "cell_type": "code",
   "execution_count": 20,
   "id": "ea0284d7-5645-46a1-a977-d550e2c79ff2",
   "metadata": {},
   "outputs": [
    {
     "data": {
      "text/plain": [
       "Success: 22 rows affected"
      ]
     },
     "execution_count": 20,
     "metadata": {
      "application/vnd.teradata.resultset": ""
     },
     "output_type": "execute_result"
    }
   ],
   "source": [
    "DROP TABLE Retail_Data_Perm;"
   ]
  },
  {
   "cell_type": "markdown",
   "id": "53cbc994-e90c-4038-923c-102cf23f99fb",
   "metadata": {},
   "source": [
    "<footer style=\"padding-bottom:35px; background:#f9f9f9; border-bottom:3px solid #00233C\">\n",
    "    <div style=\"float:left;margin-top:14px\">ClearScape Analytics™</div>\n",
    "    <div style=\"float:right;\">\n",
    "        <div style=\"float:left; margin-top:14px\">\n",
    "            Copyright © Teradata Corporation - 2023. All Rights Reserved\n",
    "        </div>\n",
    "    </div>\n",
    "</footer>"
   ]
  }
 ],
 "metadata": {
  "kernelspec": {
   "display_name": "Teradata SQL",
   "language": "Teradata SQL",
   "name": "teradatasql"
  },
  "language_info": {
   "codemirror_mode": "Teradata SQL",
   "file_extension": ".tdrs",
   "mimetype": "application/vnd.teradata.resultset",
   "name": "Teradata SQL",
   "nbconvert_exporter": "",
   "pygments_lexer": "",
   "version": "16.20"
  }
 },
 "nbformat": 4,
 "nbformat_minor": 5
}
