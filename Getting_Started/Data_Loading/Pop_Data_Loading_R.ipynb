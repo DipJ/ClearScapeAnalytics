{
 "cells": [
  {
   "cell_type": "markdown",
   "id": "a4e39bcc-d920-4702-a10f-c91e891f3a41",
   "metadata": {},
   "source": [
    "<header>\n",
    "   <p  style='font-size:36px;font-family:Arial; color:#F0F0F0; background-color: #00233c; padding-left: 20pt; padding-top: 20pt;padding-bottom: 10pt; padding-right: 20pt;'>\n",
    "       Load data to Vantage in R\n",
    "  <br>\n",
    "       <img id=\"teradata-logo\" src=\"https://storage.googleapis.com/clearscape_analytics_demo_data/DEMO_Logo/teradata.svg\" alt=\"Teradata\" style=\"width: 125px; height: auto; margin-top: 20pt;\">\n",
    "    </p>\n",
    "</header>"
   ]
  },
  {
   "cell_type": "markdown",
   "id": "167af906-3de1-48c6-aa22-9aacfb92f426",
   "metadata": {},
   "source": [
    "<p style = 'font-size:20px;font-family:Arial;color:#00233C'><b>Introduction:</b></p>\n",
    "<p style = 'font-size:16px;font-family:Arial;color:#00233C'>Welcome to this introductory guide. This guide will walk you through steps are needed to load data in Teradata using R.</p>"
   ]
  },
  {
   "cell_type": "markdown",
   "id": "7ae89b75-0e01-4e7d-bd46-4e6527ec37b8",
   "metadata": {},
   "source": [
    "<hr style=\"height:2px;border:none;background-color:#00233C;\">\n",
    "<b style = 'font-size:20px;font-family:Arial;color:#00233C'>1. Configuring the Environment</b>\n",
    "<p style = 'font-size:16px;font-family:Arial;color:#00233C'>Here, we import the required libraries, set environment variables and environment paths (if required).</p>"
   ]
  },
  {
   "cell_type": "code",
   "execution_count": 1,
   "id": "337c4b4b-304a-451b-a190-f0e1a3b9cb1c",
   "metadata": {},
   "outputs": [],
   "source": [
    "suppressMessages({\n",
    "    library(tdplyr, quietly = T)\n",
    "    library(dbplyr, quietly = T)\n",
    "    library(dplyr, quietly = T)\n",
    "    library(DBI, quietly = T)\n",
    "    require(readr, quietly = T)\n",
    "})"
   ]
  },
  {
   "cell_type": "markdown",
   "id": "ff362808-4c97-4f3a-b3e5-c1e7e03b7273",
   "metadata": {},
   "source": [
    "<hr style=\"height:2px;border:none;background-color:#00233C;\">\n",
    "<b style = 'font-size:20px;font-family:Arial;color:#00233C'>2. Connect to Vantage</b>\n",
    "<p style = 'font-size:16px;font-family:Arial;color:#00233C'>You will be prompted to provide the password. Enter your password, press Enter, then use down arrow to go to next cell.</p>"
   ]
  },
  {
   "cell_type": "code",
   "execution_count": 2,
   "id": "eea8d4bf-ef1d-4c19-92c0-c39e7355a27f",
   "metadata": {},
   "outputs": [
    {
     "name": "stdin",
     "output_type": "stream",
     "text": [
      "Enter your password:  ········\n"
     ]
    },
    {
     "data": {
      "text/plain": [
       "<Teradata Native Driver Connection>\n",
       "  DEMO_USER@host.docker.internal\n",
       "  Database: DEMO_USER\n",
       "  Teradata Version: 17.20.03.26\n",
       "<TeradataConnection Driver=20.0.0.15 Database=17.20.03.26 Host=host.docker.internal uConnHandle=1>"
      ]
     },
     "metadata": {},
     "output_type": "display_data"
    }
   ],
   "source": [
    "td_create_context(\n",
    "    host = 'host.docker.internal',\n",
    "    uid = \"demo_user\",\n",
    "    pwd = getPass(\"Enter your password: \"),\n",
    "    dType = \"NATIVE\",\n",
    "    logmech = \"TD2\"\n",
    ")"
   ]
  },
  {
   "cell_type": "code",
   "execution_count": 3,
   "id": "e521a59c-22a6-49f4-b595-a2bedbbe037c",
   "metadata": {},
   "outputs": [
    {
     "data": {
      "text/plain": [
       "<Teradata Native Driver Connection>\n",
       "  DEMO_USER@host.docker.internal\n",
       "  Database: DEMO_USER\n",
       "  Teradata Version: 17.20.03.26\n",
       "<TeradataConnection Driver=20.0.0.15 Database=17.20.03.26 Host=host.docker.internal uConnHandle=1>"
      ]
     },
     "metadata": {},
     "output_type": "display_data"
    }
   ],
   "source": [
    "eng = td_get_context()$connection\n",
    "eng"
   ]
  },
  {
   "cell_type": "code",
   "execution_count": 4,
   "id": "397ab263-f861-4552-9324-02caa4ef110c",
   "metadata": {},
   "outputs": [
    {
     "data": {
      "text/html": [
       "1"
      ],
      "text/latex": [
       "1"
      ],
      "text/markdown": [
       "1"
      ],
      "text/plain": [
       "[1] 1"
      ]
     },
     "metadata": {},
     "output_type": "display_data"
    }
   ],
   "source": [
    "dbExecute(eng, \"SET query_band='DEMO=PP_Data_Loading_R.ipynb;' UPDATE FOR SESSION;\") "
   ]
  },
  {
   "cell_type": "code",
   "execution_count": 5,
   "id": "69553032-1594-4779-9ce1-a067669bab13",
   "metadata": {},
   "outputs": [],
   "source": [
    "# display_analytic_functions()"
   ]
  },
  {
   "cell_type": "markdown",
   "id": "47954dcd-f8b8-4d48-b1e4-df756edcf3f9",
   "metadata": {},
   "source": [
    "<hr style='height:2px;border:none;background-color:#00233C;'>\n",
    "<p style = 'font-size:20px;font-family:Arial;color:#00233c'><b>3. Load data from csv file</b></p>"
   ]
  },
  {
   "cell_type": "markdown",
   "id": "ac5247e9-a0c0-4c48-9079-a5426b123074",
   "metadata": {},
   "source": [
    "<p style = 'font-size:16px;font-family:Arial;color:#00233C'>\n",
    "    The data we will be loading for this example is in CSV format. The following is a sample of the header followed by the first 5 rows:\n",
    "</p>\n",
    "\n",
    "<p style='font-size:12px;font-family:Courier;;color:#00233C'>\n",
    "    InvoiceNo,StockCode,Description,Quantity,InvoiceDate,UnitPrice,CustomerID,Country<br>\n",
    "    536365,85123A,WHITE HANGING HEART T-LIGHT HOLDER,6,2010-01-12 08:26:00,2.55,17850.0,United Kingdom<br>\n",
    "    536365,71053,WHITE METAL LANTERN,6,2010-01-12 08:26:00,3.39,17850.0,United Kingdom<br>\n",
    "    536365,84406B,CREAM CUPID HEARTS COAT HANGER,8,2010-01-12 08:26:00,2.75,17850.0,United Kingdom<br>\n",
    "    536365,84029G,KNITTED UNION FLAG HOT WATER BOTTLE,6,2010-01-12 08:26:00,3.39,17850.0,United Kingdom<br>\n",
    "    536365,84029E,RED WOOLLY HOTTIE WHITE HEART.,6,2010-01-12 08:26:00,3.39,17850.0,United Kingdom<br>\n",
    "</p>\n",
    "\n",
    "<p style = 'font-size:16px;font-family:Arial;color:#00233C'>\n",
    "    To load data in Teradata using R, we'll use <code>read.csv()</code> function from R. The dataframe will interpret the first row as column names.\n",
    "</p>"
   ]
  },
  {
   "cell_type": "code",
   "execution_count": 6,
   "id": "98e6bbb7-bf44-4bf0-88b8-579cfb7a3e16",
   "metadata": {},
   "outputs": [],
   "source": [
    "df = read.csv('./Retail_Data_sample.csv')"
   ]
  },
  {
   "cell_type": "markdown",
   "id": "50ffba61-4f3d-436e-8914-a5346aeddc3b",
   "metadata": {},
   "source": [
    "<p style = 'font-size:16px;font-family:Arial;color:#00233C'>The <code>dim()</code> function in R is used to retrieve the dimensions of an array, matrix, or data frame.</p>"
   ]
  },
  {
   "cell_type": "code",
   "execution_count": 7,
   "id": "8c5d5775-05b0-4e06-8f82-4da50438c61c",
   "metadata": {},
   "outputs": [
    {
     "data": {
      "text/html": [
       "<style>\n",
       ".list-inline {list-style: none; margin:0; padding: 0}\n",
       ".list-inline>li {display: inline-block}\n",
       ".list-inline>li:not(:last-child)::after {content: \"\\00b7\"; padding: 0 .5ex}\n",
       "</style>\n",
       "<ol class=list-inline><li>500</li><li>8</li></ol>\n"
      ],
      "text/latex": [
       "\\begin{enumerate*}\n",
       "\\item 500\n",
       "\\item 8\n",
       "\\end{enumerate*}\n"
      ],
      "text/markdown": [
       "1. 500\n",
       "2. 8\n",
       "\n",
       "\n"
      ],
      "text/plain": [
       "[1] 500   8"
      ]
     },
     "metadata": {},
     "output_type": "display_data"
    }
   ],
   "source": [
    "dim(df)"
   ]
  },
  {
   "cell_type": "markdown",
   "id": "4e5d5f3a-a70f-4f2e-9133-3be1fcb1440b",
   "metadata": {},
   "source": [
    "<p style = 'font-size:16px;font-family:Arial;color:#00233C'>The <code>sapply()</code> function in R is part of the apply family and allows you to apply a function to each element of a list, vector, or data frame.</p>"
   ]
  },
  {
   "cell_type": "code",
   "execution_count": 8,
   "id": "5ce9bdf5-c9dc-4683-b6c4-8e5c3f4b62ee",
   "metadata": {},
   "outputs": [
    {
     "data": {
      "text/html": [
       "<style>\n",
       ".dl-inline {width: auto; margin:0; padding: 0}\n",
       ".dl-inline>dt, .dl-inline>dd {float: none; width: auto; display: inline-block}\n",
       ".dl-inline>dt::after {content: \":\\0020\"; padding-right: .5ex}\n",
       ".dl-inline>dt:not(:first-of-type) {padding-left: .5ex}\n",
       "</style><dl class=dl-inline><dt>InvoiceNo</dt><dd>'character'</dd><dt>StockCode</dt><dd>'character'</dd><dt>Description</dt><dd>'character'</dd><dt>Quantity</dt><dd>'integer'</dd><dt>InvoiceDate</dt><dd>'character'</dd><dt>UnitPrice</dt><dd>'numeric'</dd><dt>CustomerID</dt><dd>'numeric'</dd><dt>Country</dt><dd>'character'</dd></dl>\n"
      ],
      "text/latex": [
       "\\begin{description*}\n",
       "\\item[InvoiceNo] 'character'\n",
       "\\item[StockCode] 'character'\n",
       "\\item[Description] 'character'\n",
       "\\item[Quantity] 'integer'\n",
       "\\item[InvoiceDate] 'character'\n",
       "\\item[UnitPrice] 'numeric'\n",
       "\\item[CustomerID] 'numeric'\n",
       "\\item[Country] 'character'\n",
       "\\end{description*}\n"
      ],
      "text/markdown": [
       "InvoiceNo\n",
       ":   'character'StockCode\n",
       ":   'character'Description\n",
       ":   'character'Quantity\n",
       ":   'integer'InvoiceDate\n",
       ":   'character'UnitPrice\n",
       ":   'numeric'CustomerID\n",
       ":   'numeric'Country\n",
       ":   'character'\n",
       "\n"
      ],
      "text/plain": [
       "  InvoiceNo   StockCode Description    Quantity InvoiceDate   UnitPrice \n",
       "\"character\" \"character\" \"character\"   \"integer\" \"character\"   \"numeric\" \n",
       " CustomerID     Country \n",
       "  \"numeric\" \"character\" "
      ]
     },
     "metadata": {},
     "output_type": "display_data"
    }
   ],
   "source": [
    "sapply(df, class)"
   ]
  },
  {
   "cell_type": "code",
   "execution_count": 9,
   "id": "62131c28-1f88-43d1-bde4-f3d4cf10ae04",
   "metadata": {},
   "outputs": [
    {
     "data": {
      "text/html": [
       "<table class=\"dataframe\">\n",
       "<caption>A data.frame: 5 × 8</caption>\n",
       "<thead>\n",
       "\t<tr><th></th><th scope=col>InvoiceNo</th><th scope=col>StockCode</th><th scope=col>Description</th><th scope=col>Quantity</th><th scope=col>InvoiceDate</th><th scope=col>UnitPrice</th><th scope=col>CustomerID</th><th scope=col>Country</th></tr>\n",
       "\t<tr><th></th><th scope=col>&lt;chr&gt;</th><th scope=col>&lt;chr&gt;</th><th scope=col>&lt;chr&gt;</th><th scope=col>&lt;int&gt;</th><th scope=col>&lt;chr&gt;</th><th scope=col>&lt;dbl&gt;</th><th scope=col>&lt;dbl&gt;</th><th scope=col>&lt;chr&gt;</th></tr>\n",
       "</thead>\n",
       "<tbody>\n",
       "\t<tr><th scope=row>1</th><td>536365</td><td>85123A</td><td>WHITE HANGING HEART T-LIGHT HOLDER </td><td>6</td><td>2010-01-12 08:26:00</td><td>2.55</td><td>17850</td><td>United Kingdom</td></tr>\n",
       "\t<tr><th scope=row>2</th><td>536365</td><td>71053 </td><td>WHITE METAL LANTERN                </td><td>6</td><td>2010-01-12 08:26:00</td><td>3.39</td><td>17850</td><td>United Kingdom</td></tr>\n",
       "\t<tr><th scope=row>3</th><td>536365</td><td>84406B</td><td>CREAM CUPID HEARTS COAT HANGER     </td><td>8</td><td>2010-01-12 08:26:00</td><td>2.75</td><td>17850</td><td>United Kingdom</td></tr>\n",
       "\t<tr><th scope=row>4</th><td>536365</td><td>84029G</td><td>KNITTED UNION FLAG HOT WATER BOTTLE</td><td>6</td><td>2010-01-12 08:26:00</td><td>3.39</td><td>17850</td><td>United Kingdom</td></tr>\n",
       "\t<tr><th scope=row>5</th><td>536365</td><td>84029E</td><td>RED WOOLLY HOTTIE WHITE HEART.     </td><td>6</td><td>2010-01-12 08:26:00</td><td>3.39</td><td>17850</td><td>United Kingdom</td></tr>\n",
       "</tbody>\n",
       "</table>\n"
      ],
      "text/latex": [
       "A data.frame: 5 × 8\n",
       "\\begin{tabular}{r|llllllll}\n",
       "  & InvoiceNo & StockCode & Description & Quantity & InvoiceDate & UnitPrice & CustomerID & Country\\\\\n",
       "  & <chr> & <chr> & <chr> & <int> & <chr> & <dbl> & <dbl> & <chr>\\\\\n",
       "\\hline\n",
       "\t1 & 536365 & 85123A & WHITE HANGING HEART T-LIGHT HOLDER  & 6 & 2010-01-12 08:26:00 & 2.55 & 17850 & United Kingdom\\\\\n",
       "\t2 & 536365 & 71053  & WHITE METAL LANTERN                 & 6 & 2010-01-12 08:26:00 & 3.39 & 17850 & United Kingdom\\\\\n",
       "\t3 & 536365 & 84406B & CREAM CUPID HEARTS COAT HANGER      & 8 & 2010-01-12 08:26:00 & 2.75 & 17850 & United Kingdom\\\\\n",
       "\t4 & 536365 & 84029G & KNITTED UNION FLAG HOT WATER BOTTLE & 6 & 2010-01-12 08:26:00 & 3.39 & 17850 & United Kingdom\\\\\n",
       "\t5 & 536365 & 84029E & RED WOOLLY HOTTIE WHITE HEART.      & 6 & 2010-01-12 08:26:00 & 3.39 & 17850 & United Kingdom\\\\\n",
       "\\end{tabular}\n"
      ],
      "text/markdown": [
       "\n",
       "A data.frame: 5 × 8\n",
       "\n",
       "| <!--/--> | InvoiceNo &lt;chr&gt; | StockCode &lt;chr&gt; | Description &lt;chr&gt; | Quantity &lt;int&gt; | InvoiceDate &lt;chr&gt; | UnitPrice &lt;dbl&gt; | CustomerID &lt;dbl&gt; | Country &lt;chr&gt; |\n",
       "|---|---|---|---|---|---|---|---|---|\n",
       "| 1 | 536365 | 85123A | WHITE HANGING HEART T-LIGHT HOLDER  | 6 | 2010-01-12 08:26:00 | 2.55 | 17850 | United Kingdom |\n",
       "| 2 | 536365 | 71053  | WHITE METAL LANTERN                 | 6 | 2010-01-12 08:26:00 | 3.39 | 17850 | United Kingdom |\n",
       "| 3 | 536365 | 84406B | CREAM CUPID HEARTS COAT HANGER      | 8 | 2010-01-12 08:26:00 | 2.75 | 17850 | United Kingdom |\n",
       "| 4 | 536365 | 84029G | KNITTED UNION FLAG HOT WATER BOTTLE | 6 | 2010-01-12 08:26:00 | 3.39 | 17850 | United Kingdom |\n",
       "| 5 | 536365 | 84029E | RED WOOLLY HOTTIE WHITE HEART.      | 6 | 2010-01-12 08:26:00 | 3.39 | 17850 | United Kingdom |\n",
       "\n"
      ],
      "text/plain": [
       "  InvoiceNo StockCode Description                         Quantity\n",
       "1 536365    85123A    WHITE HANGING HEART T-LIGHT HOLDER  6       \n",
       "2 536365    71053     WHITE METAL LANTERN                 6       \n",
       "3 536365    84406B    CREAM CUPID HEARTS COAT HANGER      8       \n",
       "4 536365    84029G    KNITTED UNION FLAG HOT WATER BOTTLE 6       \n",
       "5 536365    84029E    RED WOOLLY HOTTIE WHITE HEART.      6       \n",
       "  InvoiceDate         UnitPrice CustomerID Country       \n",
       "1 2010-01-12 08:26:00 2.55      17850      United Kingdom\n",
       "2 2010-01-12 08:26:00 3.39      17850      United Kingdom\n",
       "3 2010-01-12 08:26:00 2.75      17850      United Kingdom\n",
       "4 2010-01-12 08:26:00 3.39      17850      United Kingdom\n",
       "5 2010-01-12 08:26:00 3.39      17850      United Kingdom"
      ]
     },
     "metadata": {},
     "output_type": "display_data"
    }
   ],
   "source": [
    "head(df, n = 5)"
   ]
  },
  {
   "cell_type": "code",
   "execution_count": 10,
   "id": "42dcec3b-b615-4103-b482-3c29d8453f71",
   "metadata": {},
   "outputs": [
    {
     "data": {
      "text/html": [
       "'data.frame'"
      ],
      "text/latex": [
       "'data.frame'"
      ],
      "text/markdown": [
       "'data.frame'"
      ],
      "text/plain": [
       "[1] \"data.frame\""
      ]
     },
     "metadata": {},
     "output_type": "display_data"
    }
   ],
   "source": [
    "class(df)"
   ]
  },
  {
   "cell_type": "markdown",
   "id": "2e8d2a0f-ce19-4e67-af4f-72a18dc0fbaa",
   "metadata": {},
   "source": [
    "<p style = 'font-size:16px;font-family:Arial;color:#00233C'>Once the data is loaded in the R dataframe, we can copy it to Vantage using the <code>copy_to()</code> function."
   ]
  },
  {
   "cell_type": "code",
   "execution_count": 11,
   "id": "5c88925e-0817-4a52-88b6-41387e322645",
   "metadata": {},
   "outputs": [],
   "source": [
    "copy_to(\n",
    "    eng,\n",
    "    df,\n",
    "    name = 'Retail_Data',\n",
    "    overwrite = TRUE\n",
    ")"
   ]
  },
  {
   "cell_type": "markdown",
   "id": "fbc3be66-c630-416e-a845-dd47daa3bacc",
   "metadata": {},
   "source": [
    "<p style = 'font-size:16px;font-family:Arial;color:#00233C'>Let us check the table created"
   ]
  },
  {
   "cell_type": "code",
   "execution_count": 12,
   "id": "f02ff092-2d32-4231-a714-0add7148ba35",
   "metadata": {},
   "outputs": [
    {
     "data": {
      "text/plain": [
       "\u001b[90m# Source:   SQL [5 x 8]\u001b[39m\n",
       "\u001b[90m# Database: Teradata\u001b[39m\n",
       "  InvoiceNo StockCode Description      Quantity InvoiceDate UnitPrice CustomerID\n",
       "  \u001b[3m\u001b[90m<chr>\u001b[39m\u001b[23m     \u001b[3m\u001b[90m<chr>\u001b[39m\u001b[23m     \u001b[3m\u001b[90m<chr>\u001b[39m\u001b[23m               \u001b[3m\u001b[90m<int>\u001b[39m\u001b[23m \u001b[3m\u001b[90m<chr>\u001b[39m\u001b[23m           \u001b[3m\u001b[90m<dbl>\u001b[39m\u001b[23m      \u001b[3m\u001b[90m<dbl>\u001b[39m\u001b[23m\n",
       "\u001b[90m1\u001b[39m 536365    84406B    CREAM CUPID HEA…        8 2010-01-12…      2.75      \u001b[4m1\u001b[24m\u001b[4m7\u001b[24m850\n",
       "\u001b[90m2\u001b[39m 536365    84029E    RED WOOLLY HOTT…        6 2010-01-12…      3.39      \u001b[4m1\u001b[24m\u001b[4m7\u001b[24m850\n",
       "\u001b[90m3\u001b[39m 536365    84029G    KNITTED UNION F…        6 2010-01-12…      3.39      \u001b[4m1\u001b[24m\u001b[4m7\u001b[24m850\n",
       "\u001b[90m4\u001b[39m 536365    71053     WHITE METAL LAN…        6 2010-01-12…      3.39      \u001b[4m1\u001b[24m\u001b[4m7\u001b[24m850\n",
       "\u001b[90m5\u001b[39m 536365    85123A    WHITE HANGING H…        6 2010-01-12…      2.55      \u001b[4m1\u001b[24m\u001b[4m7\u001b[24m850\n",
       "\u001b[90m# ℹ 1 more variable: Country <chr>\u001b[39m"
      ]
     },
     "metadata": {},
     "output_type": "display_data"
    }
   ],
   "source": [
    "tdf <- tbl(eng, in_schema(\"demo_user\", \"Retail_Data\"))\n",
    "head(tdf, n = 5)"
   ]
  },
  {
   "cell_type": "code",
   "execution_count": 13,
   "id": "988f3427-2297-49f4-8426-bab7bf6810bb",
   "metadata": {},
   "outputs": [
    {
     "data": {
      "text/html": [
       "<style>\n",
       ".list-inline {list-style: none; margin:0; padding: 0}\n",
       ".list-inline>li {display: inline-block}\n",
       ".list-inline>li:not(:last-child)::after {content: \"\\00b7\"; padding: 0 .5ex}\n",
       "</style>\n",
       "<ol class=list-inline><li>'tbl_teradata'</li><li>'tbl_dbi'</li><li>'tbl_sql'</li><li>'tbl_lazy'</li><li>'tbl'</li></ol>\n"
      ],
      "text/latex": [
       "\\begin{enumerate*}\n",
       "\\item 'tbl\\_teradata'\n",
       "\\item 'tbl\\_dbi'\n",
       "\\item 'tbl\\_sql'\n",
       "\\item 'tbl\\_lazy'\n",
       "\\item 'tbl'\n",
       "\\end{enumerate*}\n"
      ],
      "text/markdown": [
       "1. 'tbl_teradata'\n",
       "2. 'tbl_dbi'\n",
       "3. 'tbl_sql'\n",
       "4. 'tbl_lazy'\n",
       "5. 'tbl'\n",
       "\n",
       "\n"
      ],
      "text/plain": [
       "[1] \"tbl_teradata\" \"tbl_dbi\"      \"tbl_sql\"      \"tbl_lazy\"     \"tbl\"         "
      ]
     },
     "metadata": {},
     "output_type": "display_data"
    }
   ],
   "source": [
    "class(tdf)"
   ]
  },
  {
   "cell_type": "markdown",
   "id": "70b9c0e9-d5de-44e3-aa60-b8b17a54b07f",
   "metadata": {},
   "source": [
    "<hr style='height:2px;border:none;background-color:#00233C;'>\n",
    "<p style = 'font-size:20px;font-family:Arial;color:#00233c'> <b>4. Load data from zip file</b></p>"
   ]
  },
  {
   "cell_type": "markdown",
   "id": "8208afa4-e1fd-4168-a011-485c5a648303",
   "metadata": {},
   "source": [
    "<p style = 'font-size:16px;font-family:Arial;'> We can load zip file in R dataframe using the <code>read_csv()</code> from <code>readr</code> module</p>"
   ]
  },
  {
   "cell_type": "code",
   "execution_count": 14,
   "id": "21cbef23-6513-4f71-9cc4-286f381fa535",
   "metadata": {},
   "outputs": [
    {
     "data": {
      "text/html": [
       "<table class=\"dataframe\">\n",
       "<caption>A tibble: 5 × 8</caption>\n",
       "<thead>\n",
       "\t<tr><th scope=col>InvoiceNo</th><th scope=col>StockCode</th><th scope=col>Description</th><th scope=col>Quantity</th><th scope=col>InvoiceDate</th><th scope=col>UnitPrice</th><th scope=col>CustomerID</th><th scope=col>Country</th></tr>\n",
       "\t<tr><th scope=col>&lt;chr&gt;</th><th scope=col>&lt;chr&gt;</th><th scope=col>&lt;chr&gt;</th><th scope=col>&lt;dbl&gt;</th><th scope=col>&lt;dttm&gt;</th><th scope=col>&lt;dbl&gt;</th><th scope=col>&lt;dbl&gt;</th><th scope=col>&lt;chr&gt;</th></tr>\n",
       "</thead>\n",
       "<tbody>\n",
       "\t<tr><td>536365</td><td>85123A</td><td>WHITE HANGING HEART T-LIGHT HOLDER </td><td>6</td><td>2010-01-12 08:26:00</td><td>2.55</td><td>17850</td><td>United Kingdom</td></tr>\n",
       "\t<tr><td>536365</td><td>71053 </td><td>WHITE METAL LANTERN                </td><td>6</td><td>2010-01-12 08:26:00</td><td>3.39</td><td>17850</td><td>United Kingdom</td></tr>\n",
       "\t<tr><td>536365</td><td>84406B</td><td>CREAM CUPID HEARTS COAT HANGER     </td><td>8</td><td>2010-01-12 08:26:00</td><td>2.75</td><td>17850</td><td>United Kingdom</td></tr>\n",
       "\t<tr><td>536365</td><td>84029G</td><td>KNITTED UNION FLAG HOT WATER BOTTLE</td><td>6</td><td>2010-01-12 08:26:00</td><td>3.39</td><td>17850</td><td>United Kingdom</td></tr>\n",
       "\t<tr><td>536365</td><td>84029E</td><td>RED WOOLLY HOTTIE WHITE HEART.     </td><td>6</td><td>2010-01-12 08:26:00</td><td>3.39</td><td>17850</td><td>United Kingdom</td></tr>\n",
       "</tbody>\n",
       "</table>\n"
      ],
      "text/latex": [
       "A tibble: 5 × 8\n",
       "\\begin{tabular}{llllllll}\n",
       " InvoiceNo & StockCode & Description & Quantity & InvoiceDate & UnitPrice & CustomerID & Country\\\\\n",
       " <chr> & <chr> & <chr> & <dbl> & <dttm> & <dbl> & <dbl> & <chr>\\\\\n",
       "\\hline\n",
       "\t 536365 & 85123A & WHITE HANGING HEART T-LIGHT HOLDER  & 6 & 2010-01-12 08:26:00 & 2.55 & 17850 & United Kingdom\\\\\n",
       "\t 536365 & 71053  & WHITE METAL LANTERN                 & 6 & 2010-01-12 08:26:00 & 3.39 & 17850 & United Kingdom\\\\\n",
       "\t 536365 & 84406B & CREAM CUPID HEARTS COAT HANGER      & 8 & 2010-01-12 08:26:00 & 2.75 & 17850 & United Kingdom\\\\\n",
       "\t 536365 & 84029G & KNITTED UNION FLAG HOT WATER BOTTLE & 6 & 2010-01-12 08:26:00 & 3.39 & 17850 & United Kingdom\\\\\n",
       "\t 536365 & 84029E & RED WOOLLY HOTTIE WHITE HEART.      & 6 & 2010-01-12 08:26:00 & 3.39 & 17850 & United Kingdom\\\\\n",
       "\\end{tabular}\n"
      ],
      "text/markdown": [
       "\n",
       "A tibble: 5 × 8\n",
       "\n",
       "| InvoiceNo &lt;chr&gt; | StockCode &lt;chr&gt; | Description &lt;chr&gt; | Quantity &lt;dbl&gt; | InvoiceDate &lt;dttm&gt; | UnitPrice &lt;dbl&gt; | CustomerID &lt;dbl&gt; | Country &lt;chr&gt; |\n",
       "|---|---|---|---|---|---|---|---|\n",
       "| 536365 | 85123A | WHITE HANGING HEART T-LIGHT HOLDER  | 6 | 2010-01-12 08:26:00 | 2.55 | 17850 | United Kingdom |\n",
       "| 536365 | 71053  | WHITE METAL LANTERN                 | 6 | 2010-01-12 08:26:00 | 3.39 | 17850 | United Kingdom |\n",
       "| 536365 | 84406B | CREAM CUPID HEARTS COAT HANGER      | 8 | 2010-01-12 08:26:00 | 2.75 | 17850 | United Kingdom |\n",
       "| 536365 | 84029G | KNITTED UNION FLAG HOT WATER BOTTLE | 6 | 2010-01-12 08:26:00 | 3.39 | 17850 | United Kingdom |\n",
       "| 536365 | 84029E | RED WOOLLY HOTTIE WHITE HEART.      | 6 | 2010-01-12 08:26:00 | 3.39 | 17850 | United Kingdom |\n",
       "\n"
      ],
      "text/plain": [
       "  InvoiceNo StockCode Description                         Quantity\n",
       "1 536365    85123A    WHITE HANGING HEART T-LIGHT HOLDER  6       \n",
       "2 536365    71053     WHITE METAL LANTERN                 6       \n",
       "3 536365    84406B    CREAM CUPID HEARTS COAT HANGER      8       \n",
       "4 536365    84029G    KNITTED UNION FLAG HOT WATER BOTTLE 6       \n",
       "5 536365    84029E    RED WOOLLY HOTTIE WHITE HEART.      6       \n",
       "  InvoiceDate         UnitPrice CustomerID Country       \n",
       "1 2010-01-12 08:26:00 2.55      17850      United Kingdom\n",
       "2 2010-01-12 08:26:00 3.39      17850      United Kingdom\n",
       "3 2010-01-12 08:26:00 2.75      17850      United Kingdom\n",
       "4 2010-01-12 08:26:00 3.39      17850      United Kingdom\n",
       "5 2010-01-12 08:26:00 3.39      17850      United Kingdom"
      ]
     },
     "metadata": {},
     "output_type": "display_data"
    }
   ],
   "source": [
    "data <- read_csv(\"Retail_Data_sample.zip\", show_col_types = FALSE)\n",
    "head(data, n = 5)"
   ]
  },
  {
   "cell_type": "code",
   "execution_count": 15,
   "id": "40e44252-0d28-4f8b-bdea-51cd8fafe9d8",
   "metadata": {},
   "outputs": [],
   "source": [
    "copy_to(\n",
    "    eng,\n",
    "    data,\n",
    "    name = 'Retail_Data_zip',\n",
    "    overwrite = TRUE\n",
    ")"
   ]
  },
  {
   "cell_type": "code",
   "execution_count": 16,
   "id": "d0fa364c-ff2d-425e-b270-1df08f1fd266",
   "metadata": {},
   "outputs": [
    {
     "data": {
      "text/plain": [
       "\u001b[90m# Source:   SQL [5 x 8]\u001b[39m\n",
       "\u001b[90m# Database: Teradata\u001b[39m\n",
       "  InvoiceNo StockCode Description         Quantity InvoiceDate         UnitPrice\n",
       "  \u001b[3m\u001b[90m<chr>\u001b[39m\u001b[23m     \u001b[3m\u001b[90m<chr>\u001b[39m\u001b[23m     \u001b[3m\u001b[90m<chr>\u001b[39m\u001b[23m                  \u001b[3m\u001b[90m<dbl>\u001b[39m\u001b[23m \u001b[3m\u001b[90m<dttm>\u001b[39m\u001b[23m                  \u001b[3m\u001b[90m<dbl>\u001b[39m\u001b[23m\n",
       "\u001b[90m1\u001b[39m 536365    84406B    CREAM CUPID HEARTS…        8 2010-01-12 \u001b[90m08:26:00\u001b[39m      2.75\n",
       "\u001b[90m2\u001b[39m 536365    84029E    RED WOOLLY HOTTIE …        6 2010-01-12 \u001b[90m08:26:00\u001b[39m      3.39\n",
       "\u001b[90m3\u001b[39m 536365    84029G    KNITTED UNION FLAG…        6 2010-01-12 \u001b[90m08:26:00\u001b[39m      3.39\n",
       "\u001b[90m4\u001b[39m 536365    71053     WHITE METAL LANTERN        6 2010-01-12 \u001b[90m08:26:00\u001b[39m      3.39\n",
       "\u001b[90m5\u001b[39m 536365    85123A    WHITE HANGING HEAR…        6 2010-01-12 \u001b[90m08:26:00\u001b[39m      2.55\n",
       "\u001b[90m# ℹ 2 more variables: CustomerID <dbl>, Country <chr>\u001b[39m"
      ]
     },
     "metadata": {},
     "output_type": "display_data"
    }
   ],
   "source": [
    "tdf_zip <- tbl(eng, in_schema(\"demo_user\", \"Retail_Data_zip\"))\n",
    "head(tdf_zip, n = 5)"
   ]
  },
  {
   "cell_type": "markdown",
   "id": "8a7f85b3-0d0c-4fc6-b951-db1169c3c617",
   "metadata": {},
   "source": [
    "<hr style=\"height:2px;border:none;background-color:#00233C;\">\n",
    "<b style = 'font-size:20px;font-family:Arial;color:#00233C'>5. Cleanup</b>"
   ]
  },
  {
   "cell_type": "markdown",
   "id": "0df11f4e-0f29-4e51-8599-461591d8120c",
   "metadata": {},
   "source": [
    "<p style = 'font-size:18px;font-family:Arial;color:#00233C'><b>Work Tables</b></p>\n",
    "<p style = 'font-size:16px;font-family:Arial;color:#00233C'>Cleanup work tables to prevent errors next time.</p>"
   ]
  },
  {
   "cell_type": "code",
   "execution_count": 17,
   "id": "42fd1deb-79b5-498c-9104-74d987a84db0",
   "metadata": {},
   "outputs": [],
   "source": [
    "tables <- c('Retail_Data', 'Retail_Data_zip')\n",
    "\n",
    "# Loop through the list of tables and execute the drop table command for each table\n",
    "for (table in tables) {\n",
    "    tryCatch(\n",
    "        db_drop_table(eng, table)\n",
    "    )\n",
    "}"
   ]
  },
  {
   "cell_type": "markdown",
   "id": "192f73ea-dc24-4382-8a52-2e9f1a8fdb2a",
   "metadata": {},
   "source": [
    "<p style = 'font-size:16px;font-family:Arial;color:#00233C'>The following code will remove context.</p>"
   ]
  },
  {
   "cell_type": "code",
   "execution_count": 18,
   "id": "a7c8a977-6d72-4053-8acf-b4b6970975d0",
   "metadata": {},
   "outputs": [],
   "source": [
    "td_remove_context()"
   ]
  },
  {
   "cell_type": "markdown",
   "id": "70cb0fb7-a50e-4967-9c3f-a00d2f07c43f",
   "metadata": {},
   "source": [
    "<hr style=\"height:2px;border:none;background-color:#00233C;\">\n",
    "<p style = 'font-size:16px;font-family:Arial;color:#00233C'><b>Links:</b></p>\n",
    "<ul style = 'font-size:16px;font-family:Arial'>\n",
    "    <li>Teradata® Package for R Function Reference: <a href = 'https://docs.teradata.com/search/all?query=Teradata+Package+for+R+Function+Reference&content-lang=en-US'>here</a></li>\n",
    "</ul>"
   ]
  },
  {
   "cell_type": "markdown",
   "id": "1a6946c0-00ca-45dd-8a3e-317067451420",
   "metadata": {},
   "source": [
    "<footer style=\"padding-bottom:35px; background:#f9f9f9; border-bottom:3px solid #00233C\">\n",
    "    <div style=\"float:left;margin-top:14px\">ClearScape Analytics™</div>\n",
    "    <div style=\"float:right;\">\n",
    "        <div style=\"float:left; margin-top:14px\">\n",
    "            Copyright © Teradata Corporation - 2024. All Rights Reserved\n",
    "        </div>\n",
    "    </div>\n",
    "</footer>"
   ]
  }
 ],
 "metadata": {
  "kernelspec": {
   "display_name": "R",
   "language": "R",
   "name": "ir"
  },
  "language_info": {
   "codemirror_mode": "r",
   "file_extension": ".r",
   "mimetype": "text/x-r-source",
   "name": "R",
   "pygments_lexer": "r",
   "version": "4.1.3"
  }
 },
 "nbformat": 4,
 "nbformat_minor": 5
}
