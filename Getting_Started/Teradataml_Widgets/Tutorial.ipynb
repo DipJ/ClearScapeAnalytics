{
 "cells": [
  {
   "cell_type": "markdown",
   "id": "bcd75fce-45ce-4a11-8988-262df0fcc2b5",
   "metadata": {},
   "source": [
    "<header>\n",
    "   <p  style='font-size:36px;font-family:Arial; color:#F0F0F0; background-color: #00233c; padding-left: 20pt; padding-top: 20pt;padding-bottom: 10pt; padding-right: 20pt;'>\n",
    "       Teradataml Widgets\n",
    "  <br>\n",
    "       <img id=\"teradata-logo\" src=\"https://storage.googleapis.com/clearscape_analytics_demo_data/DEMO_Logo/teradata.svg\" alt=\"Teradata\" style=\"width: 125px; height: auto; margin-top: 20pt;\">\n",
    "    </p>\n",
    "</header>"
   ]
  },
  {
   "cell_type": "markdown",
   "id": "63ee8d25-5364-445b-8b2c-52c7d709c872",
   "metadata": {},
   "source": [
    "<hr style=\"height:2px;border:none;background-color:#00233C;\">\n",
    "<b style = 'font-size:20px;font-family:Arial;color:#00233C'>1. Initiate a connection to Vantage</b>"
   ]
  },
  {
   "cell_type": "markdown",
   "id": "4203bda2",
   "metadata": {
    "tags": []
   },
   "source": [
    "<p style = 'font-size:16px;font-family:Arial;color:#00233C'>Below is the basic setup of the notebook with just the mandatory parameters for analytic_functions.Ui</p>\n",
    "\n",
    "<ol style = 'font-size:16px;font-family:Arial;color:#00233C'>\n",
    "    <li>Import the notebook using the code: </li>\n",
    "        <code>from teradatamlwidgets.analytic_functions.Ui import *</code>\n",
    "    <li>Set up the inputs, this is a list with whichever input table is desired. The schema name is attached to this i.e. “dssDB.company1_stock”, dssDB is the schema and company1_stock is the table name.</li>\n",
    "    <li>Set up the output name of the function. The schema name is also attached here. This will save the output to the execution of the function to this table name chosen under the schema name. This is optional, if not specified, a name will be generated at random.</li>\n",
    "</ol>"
   ]
  },
  {
   "cell_type": "markdown",
   "id": "7790c722",
   "metadata": {},
   "source": [
    "<p style = 'font-size:16px;font-family:Arial;color:#00233C'>After running the notebook cell below, a login screen shows. This login screen has a place for the Host, Username, Password, Schema, and VALIB.</p>\n",
    "\n",
    "<p style = 'font-size:16px;font-family:Arial;color:#00233C'>Once you type in this information, click Login. After this you will see the notebook interface, click on the bar with the down arrow to see the list of all the UAF, VAL, and SQLE functions to choose from.</p>"
   ]
  },
  {
   "cell_type": "code",
   "execution_count": null,
   "id": "57105370",
   "metadata": {
    "scrolled": true
   },
   "outputs": [],
   "source": [
    "%load_ext autoreload\n",
    "%autoreload 2\n",
    "import sys\n",
    "from teradatamlwidgets.analytic_functions.Ui import *\n",
    "\n",
    "inputs = [\"ibm_stock\", \"titanic\"]\n",
    "outputs = [\"Project_OutMovingAverage1\"]\n",
    "ui = Ui(\n",
    "    outputs = outputs,\n",
    "    inputs = inputs\n",
    ")"
   ]
  },
  {
   "cell_type": "markdown",
   "id": "9b9f9d5b",
   "metadata": {},
   "source": [
    "<hr style=\"height:2px;border:none;background-color:#00233C;\">\n",
    "<b style = 'font-size:20px;font-family:Arial;color:#00233C'>2. Load Tables</b>\n",
    "\n",
    "<p style = 'font-size:16px;font-family:Arial;color:#00233C'>In this example we will load some tables using teradataml. As we have already logged in, we can call teradataml load functions:</p>"
   ]
  },
  {
   "cell_type": "code",
   "execution_count": null,
   "id": "de8de54e",
   "metadata": {},
   "outputs": [],
   "source": [
    "from teradataml import *\n",
    "\n",
    "# Load the example data.\n",
    "load_example_data(\"movavg\", \"ibm_stock\")\n",
    "load_example_data(\"teradataml\", \"titanic\")"
   ]
  },
  {
   "cell_type": "markdown",
   "id": "6c2c6c7c-bbfb-46cf-a171-9ba178d14e41",
   "metadata": {},
   "source": [
    "<hr style=\"height:2px;border:none;background-color:#00233C;\">\n",
    "<div style=\"background-color:#f5f5f5;padding:10px;\">\n",
    "  <p style=\"font-size:20px;font-family:Arial;color:#00233C;\"><b>Notebook Toolbar Button Functionality</b></p>\n",
    "\n",
    "  <ul style=\"font-size:16px;font-family:Arial;color:#00233C;\">\n",
    "    <li><b>Execute: </b>Click this button once you are ready to execute the function after choosing the appropriate desired values for the parameters. It will display as a table with the first couple of rows.</li>\n",
    "    <li><b>Query: </b>Click this button if you want to see the query created based on the parameters chosen for the function before you execute the query.</li>\n",
    "    <li><b>Reset: </b>Click this button if you want to reset the function to the defaults i.e. remove the values you have chosen and restart from scratch.</li>\n",
    "    <li><b>Log Out: </b>Click this button if you want to log out, which will take you to the login dialog.</li>\n",
    "    <li><b>OPTIONAL: Load and Save</b></li>\n",
    "    <ul style=\"font-size:16px;font-family:Arial;color:#00233C;\">\n",
    "      <li>The buttons Load and Save will only show if the 'export_settings' is included in the constructor of analytic_functions.Ui.</li>\n",
    "      <li>If this is your first time using this file, then once all the values are entered as desired, click the “Save” button to save the choices out to that specified file name. This way, when you re-run the cell (and include the export_settings filename), the saved values will automatically appear when the cell is run.</li>\n",
    "      <li>If you then make changes on top of this file, and you want to revert back to the original values saved to the file, click the “Load” button.</li>\n",
    "      <li>If you make changes on top of this file and want to save it to the new chosen values, click the “Save” button, which will rewrite the contents inside the file to the new chosen values.</li>\n",
    "    </ul>\n",
    "  </ul>\n",
    "</div>\n"
   ]
  },
  {
   "cell_type": "markdown",
   "id": "a5f35691",
   "metadata": {},
   "source": [
    "<hr style=\"height:2px;border:none;background-color:#00233C;\">\n",
    "<b style = 'font-size:20px;font-family:Arial;color:#00233C'>3. SQLE Example: Moving Average</b>"
   ]
  },
  {
   "cell_type": "markdown",
   "id": "995f705b",
   "metadata": {},
   "source": [
    "<p style = 'font-size:16px;font-family:Arial;color:#00233C'>For the function “MovingAverage”, set the parameters for the function to the following in this example:</p>\n",
    "\n",
    "<ul style = 'font-size:16px;font-family:Arial;color:#00233C'>\n",
    "    <li>In the _Required Tab_, the <b>Table</b> is “ibm_stock”, Data Partition option is not used because Data By and Order By have no values.</li>\n",
    "    <li>In the _Optional Tab_, <b>TargetColumns</b> is set to “stockprice”, <b>IncludeFirst</b> is True, Alpha is 0.22, <b>StartRows</b> is 3, <b>WindowSize</b> is 11, and <b>MavgType</b> is “M”.</li>\n",
    "</ul>"
   ]
  },
  {
   "cell_type": "code",
   "execution_count": null,
   "id": "37fd8c02",
   "metadata": {},
   "outputs": [],
   "source": [
    "inputs = [\"ibm_stock\"]\n",
    "outputs = [\"Project_OutMovingAverageTest\"]\n",
    "ui = Ui(\n",
    "    function = 'MovingAverage',\n",
    "    outputs = outputs,\n",
    "    inputs = inputs\n",
    ")"
   ]
  },
  {
   "cell_type": "markdown",
   "id": "08a4b761",
   "metadata": {},
   "source": [
    "<p style = 'font-size:16px;font-family:Arial;color:#00233C'>As explained in OPTIONAL: Load and Save section above, if the export_settings is set to a json, it will automatically load the parameters that are set in that JSON. You can then modify the parameters if needed and click Save button which will update the JSON accordingly.</p>\n",
    "\n",
    "<p style = 'font-size:16px;font-family:Arial;color:#00233C'>In this example notice there is \"export_settings\" added in the constructor of analytic_functions.UI, this way you simply have to run the cell and the parameters will already be set.</p>\n",
    "\n",
    "<p style = 'font-size:16px;font-family:Arial;color:#00233C'>The parameters this time are already set to the following below:</p>\n",
    "<ul style = 'font-size:16px;font-family:Arial;color:#00233C'>\n",
    "    <li>In the _Required Tab_, the <b>Table</b> is “ibm_stock”, Data Partition option is not used because Data By and Order By have no values.</li>\n",
    "    <li>In the _Optional Tab_, <b>TargetColumns</b> is set to “stockprice”, <b>IncludeFirst</b> is True, <b>Alpha</b> is 0.22, <b>StartRows</b> is 3, <b>WindowSize</b> is 11, and <b>MavgType</b> is “M”.</li>"
   ]
  },
  {
   "cell_type": "markdown",
   "id": "9bdbcd2b",
   "metadata": {},
   "source": [
    "<hr style=\"height:2px;border:none;background-color:#00233C;\">\n",
    "<b style = 'font-size:20px;font-family:Arial;color:#00233C'>4. SQLE Example: Moving Average with parameters from a file</b>"
   ]
  },
  {
   "cell_type": "code",
   "execution_count": null,
   "id": "ed56c1ec",
   "metadata": {},
   "outputs": [],
   "source": [
    "inputs = [\"ibm_stock\"]\n",
    "outputs = [\"Project_OutMovingAverageTest\"]\n",
    "ui = Ui(\n",
    "    function = 'MovingAverage',\n",
    "    outputs = outputs,\n",
    "    inputs = inputs,\n",
    "    export_settings = \"MovingAverage.json\"\n",
    ")"
   ]
  },
  {
   "cell_type": "markdown",
   "id": "e792dcc1",
   "metadata": {},
   "source": [
    "<p style = 'font-size:16px;font-family:Arial;color:#00233C'>In order to access the full output table, use the command ui.get_output_dataframe()</p>"
   ]
  },
  {
   "cell_type": "code",
   "execution_count": null,
   "id": "80757c77",
   "metadata": {
    "scrolled": true
   },
   "outputs": [],
   "source": [
    "df = ui.get_output_dataframe()\n",
    "df"
   ]
  },
  {
   "cell_type": "markdown",
   "id": "b725d036",
   "metadata": {},
   "source": [
    "<hr style=\"height:2px;border:none;background-color:#00233C;\">\n",
    "<b style = 'font-size:20px;font-family:Arial;color:#00233C'>5. Pipeline Structure</b>"
   ]
  },
  {
   "cell_type": "markdown",
   "id": "47009045",
   "metadata": {},
   "source": [
    "<b style = 'font-size:18px;font-family:Arial;color:#00233C'>5.1 VAL Example: Linear Regression</b>"
   ]
  },
  {
   "cell_type": "markdown",
   "id": "7d62b2aa",
   "metadata": {},
   "source": [
    "<p style = 'font-size:16px;font-family:Arial;color:#00233C'>The VAL examples of Linear Regression and then Linear Regression Predict demonstrates the possible pipeline structure. In other words we will create Linear Regression VAL output that will be used as an input to Linear Regression VAL Predict.</p>\n",
    "\n",
    "<p style = 'font-size:16px;font-family:Arial;color:#00233C'>The code below has the input, output, function name, and file name specified already. The filename will automatically populate the function with the parameters.</p>"
   ]
  },
  {
   "cell_type": "markdown",
   "id": "66504e6c",
   "metadata": {},
   "source": [
    "<p style = 'font-size:16px;font-family:Arial;color:#00233C'>After running the cell, the parameters as mentioned before are already filled out.</p>\n",
    "\n",
    "<ul style = 'font-size:16px;font-family:Arial;color:#00233C'>\n",
    "    <li>In the _Required Tab_, the input <b>Table</b> is “titanic”, the <b>InputColumns</b> are “age” and “p_class”, and <b>Response Column</b> is “fare”.</li>\n",
    "    <li>In the _Optional Tab_, has no Group By Columns, and no check box selected for the parameters. The <b>Condition Index Threshold</b> is set to 37, the <b>Entrance Criterion</b> and <b>Remove Criterion</b> is 3.84, and the <b>Variance Proportion Threshold</b> is 0.5.</li>"
   ]
  },
  {
   "cell_type": "code",
   "execution_count": null,
   "id": "8975be26",
   "metadata": {},
   "outputs": [],
   "source": [
    "inputs = [\"dssDB.titanic\"]\n",
    "outputs = [\"dssDB.Project_OutLinearRegression\"]\n",
    "ui = Ui(\n",
    "    outputs = outputs,\n",
    "    function = \"Linear Regression VAL\",\n",
    "    inputs = inputs,\n",
    "    export_settings = \"LinReg.json\"\n",
    ")"
   ]
  },
  {
   "cell_type": "markdown",
   "id": "c20c6839",
   "metadata": {},
   "source": [
    "<p style = 'font-size:16px;font-family:Arial;color:#00233C'>After you click Execute, you see the resulting table. We want to use this table as the input to Linear Regression Predict VAL.</p>"
   ]
  },
  {
   "cell_type": "markdown",
   "id": "6a22a431",
   "metadata": {},
   "source": [
    "<hr style=\"height:1px;border:none;background-color:#00233C;\">\n",
    "<b style = 'font-size:18px;font-family:Arial;color:#00233C'>5.2 VAL Example: Linear Regression Predict</b>"
   ]
  },
  {
   "cell_type": "markdown",
   "id": "678fc8e6",
   "metadata": {},
   "source": [
    "<p style = 'font-size:16px;font-family:Arial;color:#00233C'>This is step 2 of the pipeline structure.</p>\n",
    " \n",
    "<p style = 'font-size:16px;font-family:Arial;color:#00233C'>Notice that the input is Titanic but ALSO has “dssDB. Project_OutLinearRegression”, this was the output table name we specified in the previous cell for Linear Regression VAL.</p>\n",
    "\n",
    "<p style = 'font-size:16px;font-family:Arial;color:#00233C'>Once again, the export_settings has the saved values for the different parameters.</p>\n",
    "\n",
    "<ul style = 'font-size:16px;font-family:Arial;color:#00233C'>\n",
    "    <li>In the _Required Tab_, has the <b>input_A_role</b> set to “titanic” and has <b>linear_regression table</b> set to “Project_OutLinearRegression” which is the output from the cell before.</li>\n",
    "    <li>In the _Optional Tab_, has <b>Index Columns</b> set to “SURVIVED”, <b>Response Column</b> is set to “fare” and <b>Accumulate</b> is set to “age” and “p_class”.</li>"
   ]
  },
  {
   "cell_type": "code",
   "execution_count": null,
   "id": "a88bccb4",
   "metadata": {},
   "outputs": [],
   "source": [
    "inputs = [\"dssDB.titanic\", \"dssDB.Project_OutLinearRegression\"]\n",
    "outputs = [\"dssDB.Project_OutLinearRegressionPredict\"]\n",
    "ui2 = Ui(outputs=outputs,\n",
    "        function=\"Linear Regression Predict VAL\", \n",
    "        inputs=inputs,  \n",
    "        export_settings=\"LinRegPredict.json\")"
   ]
  },
  {
   "cell_type": "markdown",
   "id": "ebc976b8",
   "metadata": {},
   "source": [
    "<p style = 'font-size:16px;font-family:Arial;color:#00233C'>After executing, the final resulting table of Linear Regression Predict VAL is shown, which was based on the Linear Regression VAL function we created first.</p>"
   ]
  },
  {
   "cell_type": "markdown",
   "id": "a45bdbd4-227f-4791-a99b-943638f37b19",
   "metadata": {},
   "source": [
    "<hr style=\"height:2px;border:none;background-color:#00233C;\">"
   ]
  },
  {
   "cell_type": "markdown",
   "id": "6b2b80ef-5d88-4c90-850a-88ab1ea4de43",
   "metadata": {},
   "source": [
    "<div style=\"background-color:#f5f5f5;padding:10px;\">\n",
    "<b style = 'font-size:20px;font-family:Arial;color:#00233C'>Class: analytic_functions.Ui</b>\n",
    "<br><br>\n",
    "\n",
    "<b style = 'font-size:18px;font-family:Arial;color:#00233C'>Constructor</b>\n",
    "\n",
    "<table border=\"1\" style=\"border-collapse:collapse;font-family:Arial;color:#00233C\">\n",
    "  <tr>\n",
    "    <th>Argument</th>\n",
    "    <th>Type</th>\n",
    "    <th>Required</th>\n",
    "    <th>Description</th>\n",
    "    <th>Example</th>\n",
    "  </tr>\n",
    "  <tr>\n",
    "    <td>outputs</td>\n",
    "    <td>List String</td>\n",
    "    <td>Optional</td>\n",
    "    <td>A list with output table(s) name. For however many tables the function outputs, it requires that many names to assign to each output table name. It can be written as <i>table_name</i> or <i>schema_name.table_name</i> (schema is optional). If not specified, a name will be generated at random.</td>\n",
    "    <td>outputs = [\"dssDB\".\"my_output\", \"my_test\"]</td>\n",
    "  </tr>\n",
    "  <tr>\n",
    "    <td>inputs</td>\n",
    "    <td>List String</td>\n",
    "    <td>Mandatory</td>\n",
    "    <td>Option 1: A list with whichever input table(s) is desired. The tables that are listed will be the options for you to choose from when you choose the function. Written as <i>table_name</i> or <i>schema_name.table_name</i> (schema is optional). Option 2: A teradataml dataframe.</td>\n",
    "    <td>inputs = [\"dssDB\".\"company1_stock\", \"titanic\"] OR inputs = [DataFrame(\"company1_stock\")]</td>\n",
    "  </tr>\n",
    "  <tr>\n",
    "    <td>function</td>\n",
    "    <td>String</td>\n",
    "    <td>Optional</td>\n",
    "    <td>If a specific function is desired to be selected immediately when the UI shows up, then include the function name.</td>\n",
    "    <td>function=\"Linear Regression VAL\"</td>\n",
    "  </tr>\n",
    "  <tr>\n",
    "    <td>export_settings</td>\n",
    "    <td>String</td>\n",
    "    <td>Optional</td>\n",
    "    <td>In order to load and save your chosen parameters to a file, then set this filename export_settings.</td>\n",
    "    <td>export_settings=\"MyLinReg.json\"</td>\n",
    "  </tr>\n",
    "</table>\n",
    "\n",
    "\n",
    "<b style = 'font-size:18px;font-family:Arial;color:#00233C'>Method : get_output_dataframe</b>\n",
    "\n",
    "<table border=\"1\" style=\"border-collapse:collapse;font-family:Arial;color:#00233C;\">\n",
    "  <tr>\n",
    "    <th>Argument</th>\n",
    "    <th>Type</th>\n",
    "    <th>Required</th>\n",
    "    <th>Description</th>\n",
    "    <th>Example</th>\n",
    "  </tr>\n",
    "  <tr>\n",
    "    <td>output_index</td>\n",
    "    <td>Int</td>\n",
    "    <td>Optional (Default: 0)</td>\n",
    "    <td>Use this function to get the full output result table.</td>\n",
    "    <td>dataframe = ui.get_output_dataframe()</td>\n",
    "  </tr>\n",
    "</table>\n",
    "\n",
    "<p style = 'font-size:16px;font-family:Arial;color:#00233C'><b>Return Value: </b>Type: teradataml.DataFrame. Returns the output of the function as a teradataml DataFrame.</p>\n",
    "</div>"
   ]
  },
  {
   "cell_type": "markdown",
   "id": "66ff20ab-7999-4146-a36b-25e2f7bb25ab",
   "metadata": {},
   "source": [
    "<footer style=\"padding-bottom:35px; background:#f9f9f9; border-bottom:3px solid #00233C\">\n",
    "    <div style=\"float:left;margin-top:14px\">ClearScape Analytics™</div>\n",
    "    <div style=\"float:right;\">\n",
    "        <div style=\"float:left; margin-top:14px\">\n",
    "            Copyright © Teradata Corporation - 2024. All Rights Reserved\n",
    "        </div>\n",
    "    </div>\n",
    "</footer>"
   ]
  }
 ],
 "metadata": {
  "kernelspec": {
   "display_name": "Python 3 (ipykernel)",
   "language": "python",
   "name": "python3"
  },
  "language_info": {
   "codemirror_mode": {
    "name": "ipython",
    "version": 3
   },
   "file_extension": ".py",
   "mimetype": "text/x-python",
   "name": "python",
   "nbconvert_exporter": "python",
   "pygments_lexer": "ipython3",
   "version": "3.9.10"
  }
 },
 "nbformat": 4,
 "nbformat_minor": 5
}
