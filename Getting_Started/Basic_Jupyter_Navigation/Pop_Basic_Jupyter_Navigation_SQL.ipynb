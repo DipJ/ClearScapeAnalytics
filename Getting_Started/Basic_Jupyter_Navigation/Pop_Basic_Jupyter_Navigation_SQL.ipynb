{
 "cells": [
  {
   "cell_type": "markdown",
   "id": "8154dccb-1747-4184-ac2a-f1b7392824f6",
   "metadata": {},
   "source": [
    "<header>\n",
    "   <p  style='font-size:36px;font-family:Arial; color:#F0F0F0; background-color: #00233c; padding-left: 20pt; padding-top: 20pt;padding-bottom: 10pt; padding-right: 20pt;'>\n",
    "       Getting Started - Jupyter Basic Navigation\n",
    "  <br>\n",
    "       <img id=\"teradata-logo\" src=\"https://storage.googleapis.com/clearscape_analytics_demo_data/DEMO_Logo/teradata.svg\" alt=\"Teradata\" style=\"width: 125px; height: auto; margin-top: 20pt;\">\n",
    "    </p>\n",
    "</header>"
   ]
  },
  {
   "cell_type": "markdown",
   "id": "ea64295a",
   "metadata": {},
   "source": [
    "<p style = 'font-size:20px;font-family:Arial;color:#00233c'><b>Introduction</b></p>\n",
    "<p style = 'font-size:16px;font-family:Arial;color:#00233c'>Jupyter is an open source application that supports creating notebooks with cells containing documentation and instructions intermixed with queries. While Jupyter was originally created for Python, it is an open framework to which we have added Teradata modules to simplify the execution of queries. \n",
    "<br>\n",
    "<br>\n",
    "A Jupyter notebook consist of text describing what will happen on the next step and blocks of code. You press \"<b>Shift + Enter</b>\" to move from block to block, executing code as you go.  \n",
    "</p>"
   ]
  },
  {
   "cell_type": "markdown",
   "id": "26d580e5-751f-4d05-8627-7884666937f1",
   "metadata": {},
   "source": [
    "<p style='font-size:20px;font-family:Arial;color:#00233c'><b>Jupyter User Interface</b></p>\n",
    "\n",
    "<p style = 'font-size:16px;font-family:Arial;color:#00233C'>Below is a sample Jupyter screen. Steps in the image below:</p>\n",
    "\n",
    "<ul style='font-size:16px;font-family:Arial;color:#00233c'>\n",
    "    <li><b>Step 1</b>: You may have multiple tabs open for different notebooks. One of those may be README.md which is an index by topic to the notebooks.</li>\n",
    "    <li><b>Step 2</b>: If not using the README.md index, at the left is a file navigator of all notebooks and files in the Jupyter notebook.</li>\n",
    "</ul>\n",
    "\n",
    "<img src='images/jupyter_window.jpg' alt='Jupyter Screen' />\n",
    "\n",
    "<ul style='font-size:16px;font-family:Arial;color:#00233c'>\n",
    "    <li><b>Step 3:</b> The current step is marked with a blue line and an important set of brackets [ ] to indicate if the step has been executed. There are 3 possible conditions:\n",
    "        <ul>\n",
    "            <li>The following step hasn't been executed yet... the brackets are empty\n",
    "                <br>\n",
    "                <img src='images/not_run_step.jpg' alt='Not Run' />\n",
    "            </li>\n",
    "            <li>This step is currently executing since there is an * between the brackets\n",
    "                <br>\n",
    "                <img src='images/running_step.jpg' alt='Running' />\n",
    "            </li>\n",
    "            <li>This step has been executed, as in this example, it was the 1st step and there is an output window below it.\n",
    "                <br>\n",
    "                <img src='images/completed_step.jpg' alt='Completed' />\n",
    "            </li>\n",
    "        </ul>\n",
    "    </li>\n",
    "    <li><b>Step 4:</b> In the lower left of the screen indicates what software executes the command blocks and the status of that command processing. Example:\n",
    "        <br><code style='font-family: monospace;'>Teradata SQL | IDLE or Teradata SQL | Running</code>\n",
    "    </li>\n",
    "    <li><b>Step 5:</b> In the upper right corner is also an indication of the command processor and a circle that is empty when the processing is idle and filled in when processing is active.</li>\n",
    "</ul>"
   ]
  },
  {
   "cell_type": "markdown",
   "id": "anticipated-welding",
   "metadata": {},
   "source": [
    "<hr style='height:2px;border:none;background-color:#00233C;'>\n",
    "<p style='font-size:18px;font-family:Arial;color:#00233c;'><b>Connect to Vantage</b></p>\n",
    "<p style='font-size:16px;font-family:Arial;color:#00233c'>\n",
    "Below is a simple command window to connect to a database. If the brackets <b>[ ]</b> indicate it has been run before, you can clear any output window (error or success message) by selecting \"<b>Kernel/Restart Kernel and Clear Outputs</b>\" at the top of the screen. If you've already connected, you may not get a password prompt, so select \"<b>Kernel/Restart Kernel and clear all outputs</b>\". You provide the password when you created your environment.\n",
    "</p>"
   ]
  },
  {
   "cell_type": "code",
   "execution_count": 2,
   "id": "later-hunger",
   "metadata": {
    "vscode": {
     "languageId": "teradata sql"
    }
   },
   "outputs": [
    {
     "name": "stdin",
     "output_type": "stream",
     "text": [
      "Password: ·········\n"
     ]
    },
    {
     "name": "stdout",
     "output_type": "stream",
     "text": [
      "Success: 'local' connection established and activated for user 'demo_user', with default database 'demo_user'\n"
     ]
    }
   ],
   "source": [
    "%connect local, hidewarnings=true"
   ]
  },
  {
   "cell_type": "markdown",
   "id": "138070c9-fe81-4bd3-93fe-5fdff930c8ad",
   "metadata": {},
   "source": [
    "<p style='font-size:16px;font-family:Arial;color:#00233c'>\n",
    "    Cells that prompt for information may leave you on that cell. Once you have entered the password and pressed the <b>Enter</b> key, \n",
    "    you will need to mouse click on the next cell or use the <b>down arrow</b> and press <b>Enter</b> to continue. Then you can just press <b>Shift+Enter</b> to step through the queries.\n",
    "</p>"
   ]
  },
  {
   "cell_type": "code",
   "execution_count": 3,
   "id": "7b0ef89b-8540-42a8-bc52-d6f6d388f487",
   "metadata": {
    "vscode": {
     "languageId": "teradata sql"
    }
   },
   "outputs": [
    {
     "data": {
      "application/vnd.teradata.resultset": "\"Current TimeStamp(6)\"\n\"2023-12-22 00:34:46.380000-05:00\"",
      "text/html": [
       "<div class = \"td-resultset-table-div\" style = \"max-height: 100%; overflow-y: auto\">\n",
       "      <table class=\"tdhistory204491\"><style>\n",
       "      table.tdhistory204491 { display: block !important; min-height: 105px !important; overflow: auto !important; height: 105px !important; width: 100% !important; border: 1px solid rgb(207, 207, 207) !important; border-collapse: collapse !important; ; color: var(--jp-ui-font-color1) !important; }\n",
       "      th.tdhistory204491 { border: 1px solid rgb(198,198,198) !important; border-collapse: collapse !important; ; padding: 2px 5px !important; ; font-size: 13px !important; ; text-align: center !important; white-space: normal !important; color: var(--jp-ui-font-color1) !important; }\n",
       "      th.tdhistory204491:last-child { text-align: left !important; }\n",
       "      tbody.tdhistory204491 tr:nth-child(even) { background: rgba(243, 243, 243, 0.75) !important; }\n",
       "      tbody.tdhistory204491 tr:nth-child(odd) { background: var(--jp-ui-inverse-font-color1) !important; }\n",
       "      td.tdhistory204491 { border: 1px solid rgb(207, 207, 207) !important; border-collapse: collapse !important; ; padding: 2px 5px !important; ; font-size: 13px !important; ; text-align: left !important;          white-space: nowrap !important; overflow:hidden !important; text-overflow:ellipsis !important;; }\n",
       "    </style><thead><tr style= \"background: rgba(243, 243, 243, 0.75)\"><th class=\"tdhistory204491\"></th><th class=\"tdhistory204491\">Current TimeStamp(6)</th></tr></thead><tbody class=\"tdhistory204491 resultset-body\"><tr><th class=\"tdhistory204491\" style= \"background: rgba(243, 243, 243, 0.75)\">1</th><td class=\"tdhistory204491\">2023-12-22 00:34:46.380000-05:00</td></tr></tbody></table></div>"
      ]
     },
     "execution_count": 3,
     "metadata": {
      "application/vnd.teradata.resultset": "{\"resultSetID\":\"/home/jovyan/JupyterLabRoot/Teradata/Resultsets/2023.12.22_05.34.46.417_UTC\",\"historyID\":20,\"chunkID\":\"00001\",\"sessionid\":\"\",\"portnum\":\"\",\"dockermode\":\"docker\",\"totalRowCount\":1,\"chunkCount\":0,\"rowLimit\":0,\"columnMetadata\":[{\"columnName\":\"Current TimeStamp(6)\",\"columnTypeName\":\"TIMESTAMP WITH TIME ZONE\",\"length\":6,\"scale\":6}]}"
     },
     "output_type": "execute_result"
    }
   ],
   "source": [
    "SELECT current_timestamp;"
   ]
  },
  {
   "cell_type": "markdown",
   "id": "8fa0ce78-d9cc-49a1-a089-d925b13ca3ea",
   "metadata": {},
   "source": [
    "<p style='font-size:16px;font-family:Arial;color:#00233c'>and then <b>Shift + Enter</b> for the next step.</p>"
   ]
  },
  {
   "cell_type": "code",
   "execution_count": 4,
   "id": "12a963b9-2365-46a5-a969-9c3be25a148e",
   "metadata": {
    "vscode": {
     "languageId": "teradata sql"
    }
   },
   "outputs": [
    {
     "data": {
      "application/vnd.teradata.resultset": "\"I_can_add\"\n\"4\"",
      "text/html": [
       "<div class = \"td-resultset-table-div\" style = \"max-height: 100%; overflow-y: auto\">\n",
       "      <table class=\"tdhistory861718\"><style>\n",
       "      table.tdhistory861718 { display: block !important; min-height: 105px !important; overflow: auto !important; height: 105px !important; width: 100% !important; border: 1px solid rgb(207, 207, 207) !important; border-collapse: collapse !important; ; color: var(--jp-ui-font-color1) !important; }\n",
       "      th.tdhistory861718 { border: 1px solid rgb(198,198,198) !important; border-collapse: collapse !important; ; padding: 2px 5px !important; ; font-size: 13px !important; ; text-align: center !important; white-space: normal !important; color: var(--jp-ui-font-color1) !important; }\n",
       "      th.tdhistory861718:last-child { text-align: left !important; }\n",
       "      tbody.tdhistory861718 tr:nth-child(even) { background: rgba(243, 243, 243, 0.75) !important; }\n",
       "      tbody.tdhistory861718 tr:nth-child(odd) { background: var(--jp-ui-inverse-font-color1) !important; }\n",
       "      td.tdhistory861718 { border: 1px solid rgb(207, 207, 207) !important; border-collapse: collapse !important; ; padding: 2px 5px !important; ; font-size: 13px !important; ; text-align: left !important;          white-space: nowrap !important; overflow:hidden !important; text-overflow:ellipsis !important;; }\n",
       "    </style><thead><tr style= \"background: rgba(243, 243, 243, 0.75)\"><th class=\"tdhistory861718\"></th><th class=\"tdhistory861718\">I_can_add</th></tr></thead><tbody class=\"tdhistory861718 resultset-body\"><tr><th class=\"tdhistory861718\" style= \"background: rgba(243, 243, 243, 0.75)\">1</th><td class=\"tdhistory861718\">4</td></tr></tbody></table></div>"
      ]
     },
     "execution_count": 4,
     "metadata": {
      "application/vnd.teradata.resultset": "{\"resultSetID\":\"/home/jovyan/JupyterLabRoot/Teradata/Resultsets/2023.12.22_05.34.47.115_UTC\",\"historyID\":21,\"chunkID\":\"00001\",\"sessionid\":\"\",\"portnum\":\"\",\"dockermode\":\"docker\",\"totalRowCount\":1,\"chunkCount\":0,\"rowLimit\":0,\"columnMetadata\":[{\"columnName\":\"I_can_add\",\"columnTypeName\":\"INTEGER\"}]}"
     },
     "output_type": "execute_result"
    }
   ],
   "source": [
    "SELECT 2+2 AS I_can_add;"
   ]
  },
  {
   "cell_type": "markdown",
   "id": "05ed5f46-e896-4740-86d7-bc687d38cd6a",
   "metadata": {},
   "source": [
    "<p style='font-size:16px;font-family:Arial;color:#00233c'>There are other \"Getting Started notebooks in the \"Getting Started\" directory that will dive deeper into using this demonstration environment.</p>"
   ]
  },
  {
   "cell_type": "markdown",
   "id": "b9ddbda0-99ab-46af-9754-7ac333cf5d5a",
   "metadata": {},
   "source": [
    "<footer style=\"padding-bottom:35px; background:#f9f9f9; border-bottom:3px solid #00233C\">\n",
    "    <div style=\"float:left;margin-top:14px\">ClearScape Analytics™</div>\n",
    "    <div style=\"float:right;\">\n",
    "        <div style=\"float:left; margin-top:14px\">\n",
    "            Copyright © Teradata Corporation - 2023. All Rights Reserved\n",
    "        </div>\n",
    "    </div>\n",
    "</footer>"
   ]
  }
 ],
 "metadata": {
  "kernelspec": {
   "display_name": "Teradata SQL",
   "language": "Teradata SQL",
   "name": "teradatasql"
  },
  "language_info": {
   "codemirror_mode": "Teradata SQL",
   "file_extension": ".tdrs",
   "mimetype": "application/vnd.teradata.resultset",
   "name": "Teradata SQL",
   "nbconvert_exporter": "",
   "pygments_lexer": "",
   "version": "16.20"
  }
 },
 "nbformat": 4,
 "nbformat_minor": 5
}
