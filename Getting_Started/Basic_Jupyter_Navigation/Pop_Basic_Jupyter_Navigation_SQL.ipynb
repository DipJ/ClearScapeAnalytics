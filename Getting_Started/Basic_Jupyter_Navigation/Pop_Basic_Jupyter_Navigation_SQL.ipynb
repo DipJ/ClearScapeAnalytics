{
 "cells": [
  {
   "cell_type": "markdown",
   "id": "robust-width",
   "metadata": {},
   "source": [
    "<header style=\"padding:1px;background:#f9f9f9;border-top:3px solid #00b2b1\"><img id=\"Teradata-logo\" src=\"https://www.teradata.com/Teradata/Images/Rebrand/Teradata_logo-two_color.png\" alt=\"Teradata\" width=\"220\" align=\"right\" />\n",
    "\n",
    "<b style = 'font-size:28px;font-family:Arial;color:#E37C4D'>Getting Started - Jupyter Basic Navigation</b>\n",
    "</header>\n",
    "\n",
    "\n",
    "<p style = 'font-size:20px;font-family:Arial;color:#E37C4D'><b>Introduction</b></p>\n",
    "\n",
    "Jupyter is an open source application that supports creating notebooks with cells containing documentation and instructions intermixed with queries. While Jupyter was originally created for Python, it is an open framework to which we have added Teradata modules to simplify the execution of queries. \n",
    "\n",
    "A Jupyter notebook consist of text describing what will happen on the next step and blocks of code. You press \"<b>Shift + Enter</b>\" to move from block to block, executing code as you go.  \n",
    "\n",
    "<p style = 'font-size:20px;font-family:Arial;color:#E37C4D'><b>Jupyter User Interface</b></p>\n",
    "Below is a sample Jupyter screen. Steps in the image below:\n",
    "\n",
    "* step 1: You may have multiple tabs open for different note books.  One of those may be README.md which is an index by topic to the notebooks.\n",
    "* step 2: If not using the README.md index, at the left is a file navigator of all notebooks and files in the jupyter notebook.\n",
    "<br>"
   ]
  },
  {
   "cell_type": "markdown",
   "id": "periodic-finance",
   "metadata": {},
   "source": [
    " ![](images/jupyter_window.jpg)"
   ]
  },
  {
   "cell_type": "markdown",
   "id": "commercial-engineering",
   "metadata": {},
   "source": [
    "* Step 3: The current step is marked with a blue line an an important set of brackets \\[ \\] to indicate if the step has been executed.  There are 3 possible conditions:\n",
    "\n",
    "      The following step hasn't been executed yet ... the brackets are empty  \n",
    "    ![](images/not_run_step.jpg) \n",
    "\n",
    "      This step is currently executing since there is an * between the brackets  \n",
    "    ![](images/running_step.jpg)\n",
    "\n",
    "      This step has been executed, as in this example, it was the 1st step and there is an output window below it.   \n",
    "   ![](images/completed_step.jpg)\n",
    "  \n",
    "* Step 4: In the lower left of the screen indicates what software executes the command blocks and the status of that command processing.  Example:\n",
    "      Teradata SQL | IDLE  or Teradata SQL | Running\n",
    ".\n",
    "* Step 5: In the upper right corner is also an indication of the command processor and a circle that is empty when the processing is idle and filled in when processing is active."
   ]
  },
  {
   "cell_type": "markdown",
   "id": "anticipated-welding",
   "metadata": {},
   "source": [
    "Below is a simple command window to connect to a database.  If the brackets \\[ \\] indicate it has been run before, you can clear any output window (error or success message) by selecting \"<b>Kernel/Restart Kernel and Clear Outputs</b>\" at the top of the screen.  If you've already connected, you may not get a password prompt, so select \"Kernel/Restart Kernal and clear all outputs\".   ... You provide the password when you created your environment. "
   ]
  },
  {
   "cell_type": "code",
   "execution_count": 1,
   "id": "later-hunger",
   "metadata": {},
   "outputs": [
    {
     "name": "stdin",
     "output_type": "stream",
     "text": [
      "Password: ········\n"
     ]
    },
    {
     "name": "stdout",
     "output_type": "stream",
     "text": [
      "Success: 'local' connection established and activated for user 'demo_user', with default database 'demo_user'\n"
     ]
    }
   ],
   "source": [
    "%connect local, hidewarnings=true"
   ]
  },
  {
   "cell_type": "markdown",
   "id": "138070c9-fe81-4bd3-93fe-5fdff930c8ad",
   "metadata": {},
   "source": [
    "Cells that prompt for information may leave you on that cell. Once you have entered the password and pressed the <b>Enter</b> key, \n",
    "you will need to mouse click on the next cell or use the <b>down arrow</b> and press <b>Enter</b> to continue.   Then you can just press <b>Shift+Enter</b> to step through the queries. "
   ]
  },
  {
   "cell_type": "code",
   "execution_count": 2,
   "id": "7b0ef89b-8540-42a8-bc52-d6f6d388f487",
   "metadata": {},
   "outputs": [
    {
     "data": {
      "application/vnd.teradata.resultset": "\"Current TimeStamp(6)\"\n\"2023-06-26 09:23:41.500000-04:00\"",
      "text/html": [
       "<div class = \"td-resultset-table-div\" style = \"max-height: 100%; overflow-y: auto\">\n",
       "      <table class=\"tdhistory355807\"><style>\n",
       "      table.tdhistory355807 { display: block !important; min-height: 105px !important; overflow: auto !important; height: 105px !important; width: 100% !important; border: 1px solid rgb(207, 207, 207) !important; border-collapse: collapse !important; ; color: var(--jp-ui-font-color1) !important; }\n",
       "      th.tdhistory355807 { border: 1px solid rgb(198,198,198) !important; border-collapse: collapse !important; ; padding: 2px 5px !important; ; font-size: 13px !important; ; text-align: center !important; white-space: normal !important; color: var(--jp-ui-font-color1) !important; }\n",
       "      th.tdhistory355807:last-child { text-align: left !important; }\n",
       "      tbody.tdhistory355807 tr:nth-child(even) { background: rgba(243, 243, 243, 0.75) !important; }\n",
       "      tbody.tdhistory355807 tr:nth-child(odd) { background: var(--jp-ui-inverse-font-color1) !important; }\n",
       "      td.tdhistory355807 { border: 1px solid rgb(207, 207, 207) !important; border-collapse: collapse !important; ; padding: 2px 5px !important; ; font-size: 13px !important; ; text-align: left !important;          white-space: nowrap !important; overflow:hidden !important; text-overflow:ellipsis !important;; }\n",
       "    </style><thead><tr style= \"background: rgba(243, 243, 243, 0.75)\"><th class=\"tdhistory355807\"></th><th class=\"tdhistory355807\">Current TimeStamp(6)</th></tr></thead><tbody class=\"tdhistory355807 resultset-body\"><tr><th class=\"tdhistory355807\" style= \"background: rgba(243, 243, 243, 0.75)\">1</th><td class=\"tdhistory355807\">2023-06-26 09:23:41.500000-04:00</td></tr></tbody></table></div>"
      ]
     },
     "execution_count": 2,
     "metadata": {
      "application/vnd.teradata.resultset": "{\"resultSetID\":\"/home/jovyan/JupyterLabRoot/Teradata/Resultsets/2023.06.26_13.23.41.514_UTC\",\"historyID\":20,\"chunkID\":\"00001\",\"sessionid\":\"\",\"portnum\":\"\",\"dockermode\":\"docker\",\"totalRowCount\":1,\"chunkCount\":0,\"rowLimit\":0,\"columnMetadata\":[{\"columnName\":\"Current TimeStamp(6)\",\"columnTypeName\":\"TIMESTAMP WITH TIME ZONE\",\"length\":6,\"scale\":6}]}"
     },
     "output_type": "execute_result"
    }
   ],
   "source": [
    "select current_timestamp;"
   ]
  },
  {
   "cell_type": "markdown",
   "id": "8fa0ce78-d9cc-49a1-a089-d925b13ca3ea",
   "metadata": {},
   "source": [
    "and then <b>Shift + Enter</b> for the next step. "
   ]
  },
  {
   "cell_type": "code",
   "execution_count": 3,
   "id": "12a963b9-2365-46a5-a969-9c3be25a148e",
   "metadata": {},
   "outputs": [
    {
     "data": {
      "application/vnd.teradata.resultset": "\"I_can_add\"\n\"4\"",
      "text/html": [
       "<div class = \"td-resultset-table-div\" style = \"max-height: 100%; overflow-y: auto\">\n",
       "      <table class=\"tdhistory392921\"><style>\n",
       "      table.tdhistory392921 { display: block !important; min-height: 105px !important; overflow: auto !important; height: 105px !important; width: 100% !important; border: 1px solid rgb(207, 207, 207) !important; border-collapse: collapse !important; ; color: var(--jp-ui-font-color1) !important; }\n",
       "      th.tdhistory392921 { border: 1px solid rgb(198,198,198) !important; border-collapse: collapse !important; ; padding: 2px 5px !important; ; font-size: 13px !important; ; text-align: center !important; white-space: normal !important; color: var(--jp-ui-font-color1) !important; }\n",
       "      th.tdhistory392921:last-child { text-align: left !important; }\n",
       "      tbody.tdhistory392921 tr:nth-child(even) { background: rgba(243, 243, 243, 0.75) !important; }\n",
       "      tbody.tdhistory392921 tr:nth-child(odd) { background: var(--jp-ui-inverse-font-color1) !important; }\n",
       "      td.tdhistory392921 { border: 1px solid rgb(207, 207, 207) !important; border-collapse: collapse !important; ; padding: 2px 5px !important; ; font-size: 13px !important; ; text-align: left !important;          white-space: nowrap !important; overflow:hidden !important; text-overflow:ellipsis !important;; }\n",
       "    </style><thead><tr style= \"background: rgba(243, 243, 243, 0.75)\"><th class=\"tdhistory392921\"></th><th class=\"tdhistory392921\">I_can_add</th></tr></thead><tbody class=\"tdhistory392921 resultset-body\"><tr><th class=\"tdhistory392921\" style= \"background: rgba(243, 243, 243, 0.75)\">1</th><td class=\"tdhistory392921\">4</td></tr></tbody></table></div>"
      ]
     },
     "execution_count": 3,
     "metadata": {
      "application/vnd.teradata.resultset": "{\"resultSetID\":\"/home/jovyan/JupyterLabRoot/Teradata/Resultsets/2023.06.26_13.23.43.602_UTC\",\"historyID\":21,\"chunkID\":\"00001\",\"sessionid\":\"\",\"portnum\":\"\",\"dockermode\":\"docker\",\"totalRowCount\":1,\"chunkCount\":0,\"rowLimit\":0,\"columnMetadata\":[{\"columnName\":\"I_can_add\",\"columnTypeName\":\"INTEGER\"}]}"
     },
     "output_type": "execute_result"
    }
   ],
   "source": [
    "select 2+2 as I_can_add"
   ]
  },
  {
   "cell_type": "markdown",
   "id": "02333013-9955-437d-b374-dca4769b7360",
   "metadata": {},
   "source": [
    "There are other \"Getting Started notebooks in the \"Getting Started\" directory that will dive deeper into using this demonstration environment\n",
    "\n",
    "<footer style=\"padding:10px;background:#f9f9f9;border-bottom:3px solid #394851\">Copyright © Teradata Corporation - 2023. All Rights Reserved.</footer>"
   ]
  }
 ],
 "metadata": {
  "kernelspec": {
   "display_name": "Teradata SQL",
   "language": "Teradata SQL",
   "name": "teradatasql"
  },
  "language_info": {
   "codemirror_mode": "Teradata SQL",
   "file_extension": ".tdrs",
   "mimetype": "application/vnd.teradata.resultset",
   "name": "Teradata SQL",
   "nbconvert_exporter": "",
   "pygments_lexer": "",
   "version": "16.20"
  }
 },
 "nbformat": 4,
 "nbformat_minor": 5
}
