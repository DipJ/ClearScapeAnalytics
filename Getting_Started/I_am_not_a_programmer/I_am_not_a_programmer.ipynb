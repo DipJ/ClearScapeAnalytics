{
 "cells": [
  {
   "cell_type": "markdown",
   "id": "e5129976-e837-4ad3-b9c3-ccf95de17776",
   "metadata": {},
   "source": [
    "<header style=\"padding:1px;background:#f9f9f9;border-top:3px solid #00b2b1\"><img id=\"Teradata-logo\" src=\"https://www.teradata.com/Teradata/Images/Rebrand/Teradata_logo-two_color.png\" alt=\"Teradata\" width=\"220\" align=\"right\" />\n",
    "\n",
    "<b style = 'font-size:28px;font-family:Arial;color:#E37C4D'>I am not a programmer ... That's OK!</b>\n",
    "</header>\n",
    "\n",
    "<p style = 'font-size:16px;font-family:Arial'>The demonstrations implemented with Jupyter notebooks in ClearScape Analytics Experience contain:\n",
    "<ul>\n",
    "    <li> Description of a business or analytics Use Case </li>\n",
    "    <li> Step-by-step analysis of the problem with:</li>\n",
    "    <ul>\n",
    "        <li> Description of what is about to happen</li>\n",
    "        <li> The pre-written code which you can run using the Shift + Enter Key</li>\n",
    "        <li> The code will produce a table or graphic display (chart, map, etc)</li>\n",
    "        <li> The output is generally followed with a description of what the table or graphic display means</li>\n",
    "    </ul>\n",
    "</ul>\n",
    "</p>\n",
    "<p style = 'font-size:16px;font-family:Arial'>Not everyone is a Data Scientist or programmer that comes to this site. Some just want to see what ClearScape Analytics and Vantage can do, so you can just run the code in the notebooks with Shift+Enter keys. You can read the descriptions of how the analysis is done and look at \"the pretty pictures\".   If you are adventurous, the descriptions in the demos may suggest simple modification you can make to the code.</p>\n",
    "<p style = 'font-size:16px;font-family:Arial'><b>Don't worry!! ... do it!!</b>\n",
    "Your environment isn't shared with anyone else and if you screw things up, you can close the notebook without saving.  If you managed to make a massive mistake, delete your environment and create a new one.  You don't need to tell anyone and we won't either!<br> ;) </p> \n",
    "<p style = 'font-size:16px;font-family:Arial'> The notebooks in \"First Time User\" will provide you basic information about navigating around Jupyter and understanding the indicators in Jupyter about what is running. The other notebooks in \"Getting Started\" assume you want to do some development which is not needed if all you want to do is to see what ClearScape Analytics and Vantage can do.</p>\n",
    "<p style = 'font-size:16px;font-family:Arial'>Don't worry about breaking anything!</p>\n",
    "<p style = 'font-size:20px;font-family:Arial'> <b>Have Fun Exploring!!!</b></p>"
   ]
  }
 ],
 "metadata": {
  "kernelspec": {
   "display_name": "Teradata SQL",
   "language": "Teradata SQL",
   "name": "teradatasql"
  },
  "language_info": {
   "codemirror_mode": "Teradata SQL",
   "file_extension": ".tdrs",
   "mimetype": "application/vnd.teradata.resultset",
   "name": "Teradata SQL",
   "nbconvert_exporter": "",
   "pygments_lexer": "",
   "version": "16.20"
  }
 },
 "nbformat": 4,
 "nbformat_minor": 5
}
