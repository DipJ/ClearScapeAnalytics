{
 "cells": [
  {
   "cell_type": "markdown",
   "metadata": {},
   "source": [
    "<header>\n",
    "   <p  style='font-size:36px;font-family:Arial; color:#F0F0F0; background-color: #00233c; padding-left: 20pt; padding-top: 20pt;padding-bottom: 10pt; padding-right: 20pt;'>\n",
    "       Vantage SQL Plugin Basics\n",
    "  <br>\n",
    "       <img id=\"teradata-logo\" src=\"https://storage.googleapis.com/clearscape_analytics_demo_data/DEMO_Logo/teradata.svg\" alt=\"Teradata\" style=\"width: 125px; height: auto; margin-top: 20pt;\">\n",
    "    </p>\n",
    "</header>\n",
    "\n",
    "<p style = 'font-size:16px;font-family:Arial;color:#00233C'>Welcome to this introductory guide. This guide will walk you through your first SQL queries.  A more extensive notebook with more commands can be found online in the Teradata Vantage Modules for Jupyter <a href = 'https://teradata.github.io/jupyterextensions/#/'>Here.</a></p>"
   ]
  },
  {
   "cell_type": "markdown",
   "metadata": {},
   "source": [
    "<hr style=\"height:1px;border:none;background-color:#00233C;\">\n",
    "<p style = 'font-size:16px;font-family:Arial;color:#00233C'>For help on available \"magic\" commands in the Teradata SQL plugin, run the following cell:</p>"
   ]
  },
  {
   "cell_type": "code",
   "execution_count": 1,
   "metadata": {},
   "outputs": [
    {
     "data": {
      "text/markdown": [
       "%help **command** - Display detailed help for one magic command (without %).</br>\n",
       "%help **all** - Display detailed help for all magic commands.</br>\n",
       "%help **snippets** - Display the list of SQL command Snippets.</br>\n",
       "%help **rowcount** - Display the current rowcount value.</br>\n",
       "%help **currentdb** - Display the current database for the user.</br>\n",
       "%help **hidewarnings** - Display the current hide warnings value.</br>\n",
       "#### Notation conventions: Items in [] are optional, all others are required.  Parameter names are not case sensitive.</br>\n",
       "#### Magic Commands:</br>\n",
       "**%addconnect** - Add a Teradata Vantage database connection specification.</br>**%connect** - Connect to a Vantage system and/or make the connection active.</br>**%disconnect** - Disconnect from a Vantage system.</br>**%rmconnect** - Remove a connection specification.</br>**%chconnect** - Change a connection specification.</br>**%lsconnect** - List the known connections.</br>**%chart** - Display a Vega-Lite visualization of a query result set or an existing Vega or VegaLite chart.</br>**%table** - Display a previous result set as a table.</br>**%meta** - Display metadata of a previous result set.</br>**%dataload** - Load a CSV file into a database table.</br>**%history** - Display a table or the details of previously executed commands.\n",
       "\t\tIf a single history item is specified, the details for that item will be displayed.</br>**%rmhistory** - Remove one or more history items and associated result set(s).</br>**%var** - Define one or more variables for use in SQL statements and magic commands.</br>**%lsvar** - List one or more variables. If no names are provided, list all defined variables.</br>**%rmvar** - Remove one or more defined variables.</br>**%pyinfo** - Display information about the version of Python installed on the Vantage system.</br>**%rinfo** - Display information about the version of R installed on the Vantage system.</br>**%runsto** - Run a Script Table Operator.</br>**%installfile** - Install a file onto the Vantage system.</br>**%rmfile** - Remove a file that has been installed on the Vantage system.</br>**%showfile** - Display the contents of a file that has been installed on the Vantage system.</br>**%loglevel** - Set the logging level for the Teradata SQL kernel.</br>**%lsmagic** - List the supported magic commands.</br>**%quickref** - Display help for magic commands.</br>**%help** - Display help for magic commands.</br>**%savecolumn** - Save a BLOB column data to a file.</br>"
      ]
     },
     "execution_count": 1,
     "metadata": {
      "application/vnd.teradata.resultset": "helpdata"
     },
     "output_type": "execute_result"
    }
   ],
   "source": [
    "%help"
   ]
  },
  {
   "cell_type": "markdown",
   "metadata": {},
   "source": [
    "<hr style=\"height:2px;border:none;background-color:#00233C;\">\n",
    "<p style = 'font-size:20px;font-family:Arial;color:#00233C'><b>Object Browser</b></p>\n",
    "\n",
    "<p style = 'font-size:16px;font-family:Arial;color:#00233C'>Included with the plugin is a browser that allows you to view the databases and tables on your ClearScape Analytics Experience platform.  Note that if you haven't run any demos or haven't used the data dictionary, you will only see system tables.</p>\n",
    "\n",
    "<ol style = 'font-size:16px;font-family:Arial;color:#00233C'>\n",
    "    <li>Select <b>File/New Launcher</b> or if there is a launcher t to a launcher (new or existing)</li>\n",
    "<li>Click Navigator</li>\n",
    "<li>Select database profile</li>\n",
    "</ol>\n"
   ]
  },
  {
   "cell_type": "markdown",
   "metadata": {},
   "source": [
    "<hr style=\"height:2px;border:none;background-color:#00233C;\">\n",
    "<p style = 'font-size:20px;font-family:Arial;color:#00233C'><b>Introduction to SQL</b></p>\n",
    "\n",
    "<p style = 'font-size:16px;font-family:Arial;color:#00233C'>This page is a Jupyter Notebook. Looking at the top-right corner, you can see that it is running a *Teradata SQL* kernel. Other kernel include R and Python. This means that any command on this notebook will have to be a SQL statement.</p>\n",
    "\n",
    "<p style = 'font-size:16px;font-family:Arial;color:#00233C'>The first step with any SQL editor or Jupyter Notebook is to connect to a Teradata system.</p>\n",
    "\n",
    "<p style = 'font-size:16px;font-family:Arial;color:#00233C'>If this notebook is being run from the Vantage LIVE image, three connections should already be set up; representing connections to Transcend Production, Transcend AWS, and Vantage LIVE (Azure).  The below command will list configured connections</p>"
   ]
  },
  {
   "cell_type": "code",
   "execution_count": 2,
   "metadata": {},
   "outputs": [
    {
     "name": "stdout",
     "output_type": "stream",
     "text": [
      "Disconnected: NAME=local, USER=demo_user, HOST=host.docker.internal, DATABASE=demo_user\n"
     ]
    }
   ],
   "source": [
    "%lsconnect"
   ]
  },
  {
   "cell_type": "code",
   "execution_count": 3,
   "metadata": {},
   "outputs": [
    {
     "name": "stdin",
     "output_type": "stream",
     "text": [
      "Password: ········\n"
     ]
    },
    {
     "name": "stdout",
     "output_type": "stream",
     "text": [
      "Success: 'local' connection established and activated for user 'demo_user', with default database 'demo_user'\n"
     ]
    }
   ],
   "source": [
    "%connect local, hidewarnings=true"
   ]
  },
  {
   "cell_type": "markdown",
   "metadata": {},
   "source": [
    "<p style = 'font-size:16px;font-family:Arial;color:#00233C'>You are connected if the last command returned `Success:... connection established`</p>"
   ]
  },
  {
   "cell_type": "markdown",
   "metadata": {},
   "source": [
    "<p style = 'font-size:16px;font-family:Arial;color:#00233C'>The most simple SQL you can run is to calculate a formula, for example 2+2. Click on the cell below and press Shift-Return to execute its content. The result is saved in the Teradata directory mentioned above with the exact path below which can be accessed/downloaded from the file browser on the left.</p>"
   ]
  },
  {
   "cell_type": "code",
   "execution_count": 4,
   "metadata": {},
   "outputs": [
    {
     "data": {
      "application/vnd.teradata.resultset": "\"(2+5)\"\n\"7\"",
      "text/html": [
       "<div class = \"td-resultset-table-div\" style = \"max-height: 100%; overflow-y: auto\">\n",
       "      <table class=\"tdhistory920909\"><style>\n",
       "      table.tdhistory920909 { display: block !important; min-height: 105px !important; overflow: auto !important; height: 105px !important; width: 100% !important; border: 1px solid rgb(207, 207, 207) !important; border-collapse: collapse !important; ; color: var(--jp-ui-font-color1) !important; }\n",
       "      th.tdhistory920909 { border: 1px solid rgb(198,198,198) !important; border-collapse: collapse !important; ; padding: 2px 5px !important; ; font-size: 13px !important; ; text-align: center !important; white-space: normal !important; color: var(--jp-ui-font-color1) !important; }\n",
       "      th.tdhistory920909:last-child { text-align: left !important; }\n",
       "      tbody.tdhistory920909 tr:nth-child(even) { background: rgba(243, 243, 243, 0.75) !important; }\n",
       "      tbody.tdhistory920909 tr:nth-child(odd) { background: var(--jp-ui-inverse-font-color1) !important; }\n",
       "      td.tdhistory920909 { border: 1px solid rgb(207, 207, 207) !important; border-collapse: collapse !important; ; padding: 2px 5px !important; ; font-size: 13px !important; ; text-align: left !important;          white-space: nowrap !important; overflow:hidden !important; text-overflow:ellipsis !important;; }\n",
       "    </style><thead><tr style= \"background: rgba(243, 243, 243, 0.75)\"><th class=\"tdhistory920909\"></th><th class=\"tdhistory920909\">(2+5)</th></tr></thead><tbody class=\"tdhistory920909 resultset-body\"><tr><th class=\"tdhistory920909\" style= \"background: rgba(243, 243, 243, 0.75)\">1</th><td class=\"tdhistory920909\">7</td></tr></tbody></table></div>"
      ]
     },
     "execution_count": 4,
     "metadata": {
      "application/vnd.teradata.resultset": "{\"resultSetID\":\"/home/jovyan/JupyterLabRoot/Teradata/Resultsets/2023.12.21_05.42.45.493_UTC\",\"historyID\":236,\"chunkID\":\"00001\",\"sessionid\":\"\",\"portnum\":\"\",\"dockermode\":\"docker\",\"totalRowCount\":1,\"chunkCount\":0,\"rowLimit\":0,\"columnMetadata\":[{\"columnName\":\"(2+5)\",\"columnTypeName\":\"INTEGER\"}]}"
     },
     "output_type": "execute_result"
    }
   ],
   "source": [
    "SELECT 2+5"
   ]
  },
  {
   "cell_type": "markdown",
   "metadata": {},
   "source": [
    "<p style = 'font-size:16px;font-family:Arial;color:#00233C'>Now, let's run your first real SQL query. Click in the cell below and press Shift+Return to execute it. It will retrieve ten rows from a table named DBC.TablesV</p>"
   ]
  },
  {
   "cell_type": "code",
   "execution_count": 5,
   "metadata": {},
   "outputs": [
    {
     "data": {
      "application/vnd.teradata.resultset": "\"DataBaseName\",\"TableName\",\"Version\",\"TableKind\",\"ProtectionType\",\"JournalFlag\",\"CreatorName\",\"RequestText\",\"CommentString\",\"ParentCount\",\"ChildCount\",\"NamedTblCheckCount\",\"UnnamedTblCheckExist\",\"PrimaryKeyIndexId\",\"RepStatus\",\"CreateTimeStamp\",\"LastAlterName\",\"LastAlterTimeStamp\",\"RequestTxtOverflow\",\"AccessCount\",\"LastAccessTimeStamp\",\"UtilVersion\",\"QueueFlag\",\"CommitOpt\",\"TransLog\",\"CheckOpt\",\"TemporalProperty\",\"ResolvedCurrent_Date\",\"ResolvedCurrent_Timestamp\",\"SystemDefinedJI\",\"VTQualifier\",\"TTQualifier\",\"PIColumnCount\",\"PartitioningLevels\",\"LoadProperty\",\"CurrentLoadId\",\"LoadIdLayout\",\"DelayedJI\",\"LastArchiveId\",\"LastFullArchiveId\",\"BlockSize\",\"FreeSpacePercent\",\"MergeBlockRatio\",\"CheckSum\",\"BlockCompression\",\"BlockCompressionAlgorithm\",\"BlockCompressionLevel\",\"TableHeaderFormat\",\"RowSizeFormat\",\"MapName\",\"ColocationName\",\"TVMFlavor\",\"FastAlterTable\",\"IncrementalRestoreEnabled\",\"AuthName\"\n\"DBC\",\"Table_LevelConstraintsX\",\"1\",\"V \",\"F \",\"NN  \",\"DBC\",\"REPLACE VIEW DBC.Table_LevelConstraintsX\rAS\rSELECT CAST(SUBSTRING(TRANSLATE(Dbase.DatabaseName USING UNICODE_TO_LOCALE\r                      WITH ERROR) FROM 1 FOR 30) AS CHAR(30)) (NAMED DatabaseName),\r       CAST(SUBSTRING(TRANSLATE(tvm.TVMName USING UNICODE_TO_LOCALE WITH ERROR) FROM 1 FOR 30)\r            AS CHAR(30)) (named TableName),\r       CAST(SUBSTRING(TRANSLATE(TableConstraints.Name USING UNICODE_TO_LOCALE\r                      WITH ERROR) FROM 1 FOR 30) AS CHAR(30)) (named ConstraintName),\r       TRANSLATE(TableConstraints.TableCheck USING UNICODE_TO_LOCALE\r                 WITH ERROR) (named ConstraintText),\r       CAST(SUBSTRING(TRANSLATE(DB1.DatabaseName USING UNICODE_TO_LOCALE WITH ERROR) FROM 1 FOR 30)\r            AS CHAR(30)) (named CreatorName),\r       TableConstraints.CreateTimeStamp,\r       TableConstraints.VTCheckType, \r       TableConstraints.TTCheckType \rFROM  DBC.TableConstraints\r         LEFT OUTER JOIN DBC.Dbase DB1\r                      ON DBC.TableConstraints.CreateUID = DB1.DatabaseID,\r      DBC.Dbase, DBC.TVM\rWHERE TableConstraints.DbaseId= Dbase.DatabaseId\rAND   TableConstraints.TVMId = TVM.TVMId\rAND   ConstraintType = 'C' \rAND   ( (tvm.tvmid IN\r            (/* IDs of tables accessible to the USER */\r                SELECT tvm.tvmid\r                FROM   tvm, dbase, accessrights\r                WHERE  tvm.tvmid <> '000000000000'xb\r                AND    dbase.DataBaseNameI = USER\r                AND (\r                        /* User has right on all in TVMs DB */\r                        (tvm.DatabaseId = accessrights.DatabaseId AND\r                        accessrights.tvmid = '000000000000'xb AND\r                        accessrights.UserId = dbase.DatabaseId)\r                    )\r                UNION\r                SELECT tvm.tvmid\r                FROM   tvm, dbase, owners\r                WHERE  tvm.tvmid <> '000000000000'xb\r                AND    dbase.DataBaseNameI = USER\r                AND (\r                        /* User owns TVMs DB */\r                        (tvm.DatabaseId = owners.owneeid AND\r                        owners.ownerid = dbase.DatabaseId)\r                    )                    \r                UNION\r                SELECT tvm.tvmid\r                FROM   tvm, dbase\r                WHERE  tvm.tvmid <> '000000000000'xb\r                AND    dbase.DataBaseNameI = USER\r                AND    /* User *IS* TVMs DB */\r                        (tvm.DatabaseId = dbase.DatabaseId)\r                UNION\r                SELECT tvm.tvmid\r                FROM   tvm, dbase, accessrights\r                WHERE  tvm.tvmid <> '000000000000'xb\r                AND    dbase.DataBaseNameI = USER\r                AND (\r                        /* User has right on this specific TVM */\r                        (tvm.tvmid = accessrights.tvmid AND\r                        accessrights.UserId=dbase.DatabaseId)\r                    )\r            )\r        )\r        OR (tvm.tvmid IN\r             (/* IDs of tables accessible to USER's roles */\r              SELECT tvm.tvmid\r              FROM   TVM, ACCESSRIGHTS, ROLES\r              WHERE  TVM.tvmid       <> '000000000000'xb\r              AND    Roles.RoleId    =  AccessRights.UserId\r              AND    ROLE IS NOT NULL\r              AND    AccessRights.UserId IN \r               (SELECT RoleAccr.RoleId \r                FROM   DBC.Roles RoleAccr)\r              AND    (\r                 /* Role has right on all in TVMs DB */\r                 (tvm.DatabaseId      = accessrights.DatabaseId AND\r                  accessrights.tvmid  = '000000000000'xb)\r               )\r              AND    (  \r                (UPPER(ROLE) <> 'ALL'  AND\r                  /* Restrict to rights granted to current role */\r                  /* and the roles nested within current role   */\r                   (Roles.RoleId =\r                    (SELECT CurRole.RoleId\r                     FROM   DBC.Roles CurRole\r                     WHERE  CurRole.RoleNameI = ROLE)\r                    OR\r                    Roles.RoleId  IN\r                     (SELECT RG.RoleId\r                      FROM   DBC.RoleGrants RG,\r                             DBC.Roles      CurRole\r                      WHERE  RG.GranteeId = CurRole.RoleId AND\r                             CurRole.RoleNameI = ROLE))\r                )\r                OR\r                (UPPER(ROLE) = 'ALL'  AND\r                  /* The current role is ALL. Restrict to rights from */\r                  /* the roles directly granted to current user and   */\r                  /* nested roles within them */\r                  (Roles.RoleId  IN\r                   (SELECT UsrRG.RoleId\r                    FROM   DBC.RoleGrants UsrRG,\r                           DBC.Dbase      UserDB\r                    WHERE  UsrRG.GranteeId = UserDB.DatabaseId AND\r                           UserDB.DatabaseNameI = USER)\r                   OR    \r                   Roles.RoleId  IN\r                   (SELECT  RG.RoleId\r                    FROM    DBC.RoleGrants RG\r                    WHERE   RG.GranteeId in \r                            (SELECT UsrRG.RoleId\r                             FROM   DBC.RoleGrants UsrRG,\r                                    DBC.Dbase      UserDB\r                             WHERE  UsrRG.GranteeId = UserDB.DatabaseId AND\r                                    UserDB.DatabaseNameI = USER)))\r                ))\r         UNION ALL\r         SELECT tvm.tvmid\r              FROM   TVM, ACCESSRIGHTS, ROLES\r              WHERE  TVM.tvmid       <> '000000000000'xb\r              AND    Roles.RoleId    =  AccessRights.UserId\r              AND    ROLE IS NOT NULL\r              AND    AccessRights.UserId IN\r               (SELECT RoleAccr.RoleId\r                FROM   DBC.Roles RoleAccr)\r              AND    (\r                 /* Role has right on this specific TVM */\r                 (tvm.tvmid           = accessrights.tvmid)\r               )\r              AND    (\r                (UPPER(ROLE) <> 'ALL'  AND\r                  /* Restrict to rights granted to current role */\r                  /* and the roles nested within current role   */\r                   (Roles.RoleId =\r                    (SELECT CurRole.RoleId\r                     FROM   DBC.Roles CurRole\r                     WHERE  CurRole.RoleNameI = ROLE)\r                    OR\r                    Roles.RoleId  IN\r                     (SELECT RG.RoleId\r                      FROM   DBC.RoleGrants RG,\r                             DBC.Roles      CurRole\r                      WHERE  RG.GranteeId = CurRole.RoleId AND\r                             CurRole.RoleNameI = ROLE))\r                )\r                OR\r                (UPPER(ROLE) = 'ALL'  AND\r                  /* The current role is ALL. Restrict to rights from */\r                  /* the roles directly granted to current user and   */\r                  /* nested roles within them */\r                  (Roles.RoleId  IN\r                   (SELECT UsrRG.RoleId\r                    FROM   DBC.RoleGrants UsrRG,\r                           DBC.Dbase      UserDB\r                    WHERE  UsrRG.GranteeId = UserDB.DatabaseId AND\r                           UserDB.DatabaseNameI = USER)\r                   OR\r                   Roles.RoleId  IN\r                   (SELECT  RG.RoleId\r                    FROM    DBC.RoleGrants RG\r                    WHERE   RG.GranteeId in\r                            (SELECT UsrRG.RoleId\r                             FROM   DBC.RoleGrants UsrRG,\r                                    DBC.Dbase      UserDB\r                             WHERE  UsrRG.GranteeId = UserDB.DatabaseId AND\r                                    UserDB.DatabaseNameI = USER)))\r                )))\r        )\r      ) WITH CHECK OPTION;\",\"The Table_LevelConstraints view provides information about table constraints for the requesting user. The columns names are: DatabaseName, TableName, ConstraintName, ConstraintText, CreatorName and CreateTimeStamp.\",\"0\",\"0\",\"0\",\"N \",\"\",\"\",\"2023-12-18 09:51:46\",\"DBC\",\"2023-12-18 09:52:32\",\"\",\"\",\"\",\"\",\"N \",\"N \",\"Y \",\"Y \",\"N \",\"\",\"\",\"N \",\"\",\"\",\"0\",\"0\",\"\",\"\",\"\",\"\",\"\",\"\",\"\",\"\",\"\",\"\",\"\",\"\",\"\",\"\",\"0\",\"\",\"\",\"\",\"\",\"\",\"\"\n\"TD_SYSFNLIB\",\"DayNumber_Of_Year\",\"1\",\"F \",\"F \",\"N   \",\"DBC\",\"\",\"\",\"0\",\"0\",\"0\",\"N \",\"0\",\"\",\"2023-12-18 10:07:01\",\"DBC\",\"2023-12-18 10:07:01\",\"\",\"\",\"\",\"\",\"N \",\"N \",\"Y \",\"N \",\"\",\"\",\"\",\"\",\"\",\"\",\"0\",\"0\",\"\",\"\",\"\",\"\",\"\",\"\",\"\",\"\",\"\",\"\",\"\",\"\",\"\",\"\",\"0\",\"TD_DataDictionaryMap\",\"\",\"\",\"\",\"\",\"\"\n\"SYSSPATIAL\",\"ST_GeomFromWKBSRID_blob\",\"4\",\"F \",\"F \",\"N   \",\"DBC\",\"REPLACE FUNCTION SYSSPATIAL.ST_GeomFromWKB( awkb BLOB AS LOCATOR, srid INTEGER )\r    RETURNS ST_Geometry\r    LANGUAGE CPP\r    DETERMINISTIC\r    NO SQL\r    SPECIFIC ST_GeomFromWKBSRID_blob\r    EXTERNAL NAME 'SL!udflib';\",\"\",\"0\",\"0\",\"0\",\"N \",\"0\",\"\",\"2023-12-18 10:01:32\",\"DBC\",\"2023-12-18 10:02:05\",\"\",\"\",\"\",\"\",\"N \",\"N \",\"Y \",\"N \",\"N \",\"\",\"\",\"N \",\"\",\"\",\"0\",\"0\",\"\",\"\",\"\",\"\",\"\",\"\",\"\",\"\",\"\",\"\",\"\",\"\",\"\",\"\",\"1\",\"TD_DataDictionaryMap\",\"\",\"\",\"\",\"\",\"\"\n\"SYSSPATIAL\",\"SpheroidalDistanceDefault\",\"4\",\"F \",\"F \",\"N   \",\"DBC\",\"REPLACE FUNCTION SYSSPATIAL.SpheroidalDistance\r(\r    lat1 FLOAT, lon1 FLOAT,\r    lat2 FLOAT, lon2 FLOAT\r)\r    RETURNS FLOAT\r    LANGUAGE CPP\r    DETERMINISTIC\r    SPECIFIC SpheroidalDistanceDefault\r    NO SQL\r    EXTERNAL NAME 'SL!udflib';\",\"\",\"0\",\"0\",\"0\",\"N \",\"0\",\"\",\"2023-12-18 10:01:33\",\"DBC\",\"2023-12-18 10:02:06\",\"\",\"\",\"\",\"\",\"N \",\"N \",\"Y \",\"N \",\"N \",\"\",\"\",\"N \",\"\",\"\",\"0\",\"0\",\"\",\"\",\"\",\"\",\"\",\"\",\"\",\"\",\"\",\"\",\"\",\"\",\"\",\"\",\"1\",\"TD_DataDictionaryMap\",\"\",\"\",\"\",\"\",\"\"\n\"SYSLIB\",\"DBSRetryableErrors_TBF\",\"4\",\"R \",\"F \",\"N   \",\"DBC\",\"REPLACE FUNCTION SYSLIB.DBSRetryableErrors_TBF ()\rRETURNS TABLE ( ErrorCode SMALLINT )\rLANGUAGE C\rNO SQL\rDETERMINISTIC\rPARAMETER STYLE SQL\rEXTERNAL NAME 'SL!udflib';\",\"\",\"0\",\"0\",\"0\",\"N \",\"0\",\"\",\"2023-12-18 09:49:20\",\"DBC\",\"2023-12-18 09:51:18\",\"\",\"\",\"\",\"\",\"N \",\"N \",\"Y \",\"N \",\"N \",\"\",\"\",\"N \",\"\",\"\",\"0\",\"0\",\"\",\"\",\"\",\"\",\"\",\"\",\"\",\"\",\"\",\"\",\"\",\"\",\"\",\"\",\"1\",\"TD_DataDictionaryMap\",\"\",\"\",\"\",\"\",\"\"",
      "text/html": [
       "<div class = \"td-resultset-table-div\" style = \"max-height: 100%; overflow-y: auto\">\n",
       "      <table class=\"tdhistory461830\"><style>\n",
       "      table.tdhistory461830 { display: block !important; min-height: 189px !important; overflow: auto !important; height: 189px !important; width: 100% !important; border: 1px solid rgb(207, 207, 207) !important; border-collapse: collapse !important; ; color: var(--jp-ui-font-color1) !important; }\n",
       "      th.tdhistory461830 { border: 1px solid rgb(198,198,198) !important; border-collapse: collapse !important; ; padding: 2px 5px !important; ; font-size: 13px !important; ; text-align: center !important; white-space: normal !important; color: var(--jp-ui-font-color1) !important; }\n",
       "      th.tdhistory461830:last-child { text-align: left !important; }\n",
       "      tbody.tdhistory461830 tr:nth-child(even) { background: rgba(243, 243, 243, 0.75) !important; }\n",
       "      tbody.tdhistory461830 tr:nth-child(odd) { background: var(--jp-ui-inverse-font-color1) !important; }\n",
       "      td.tdhistory461830 { border: 1px solid rgb(207, 207, 207) !important; border-collapse: collapse !important; ; padding: 2px 5px !important; ; font-size: 13px !important; ; text-align: left !important;          white-space: nowrap !important; overflow:hidden !important; text-overflow:ellipsis !important;; }\n",
       "    </style><thead><tr style= \"background: rgba(243, 243, 243, 0.75)\"><th class=\"tdhistory461830\"></th><th class=\"tdhistory461830\">DataBaseName</th><th class=\"tdhistory461830\">TableName</th><th class=\"tdhistory461830\">Version</th><th class=\"tdhistory461830\">TableKind</th><th class=\"tdhistory461830\">ProtectionType</th><th class=\"tdhistory461830\">JournalFlag</th><th class=\"tdhistory461830\">CreatorName</th><th class=\"tdhistory461830\">RequestText</th><th class=\"tdhistory461830\">CommentString</th><th class=\"tdhistory461830\">ParentCount</th><th class=\"tdhistory461830\">ChildCount</th><th class=\"tdhistory461830\">NamedTblCheckCount</th><th class=\"tdhistory461830\">UnnamedTblCheckExist</th><th class=\"tdhistory461830\">PrimaryKeyIndexId</th><th class=\"tdhistory461830\">RepStatus</th><th class=\"tdhistory461830\">CreateTimeStamp</th><th class=\"tdhistory461830\">LastAlterName</th><th class=\"tdhistory461830\">LastAlterTimeStamp</th><th class=\"tdhistory461830\">RequestTxtOverflow</th><th class=\"tdhistory461830\">AccessCount</th><th class=\"tdhistory461830\">LastAccessTimeStamp</th><th class=\"tdhistory461830\">UtilVersion</th><th class=\"tdhistory461830\">QueueFlag</th><th class=\"tdhistory461830\">CommitOpt</th><th class=\"tdhistory461830\">TransLog</th><th class=\"tdhistory461830\">CheckOpt</th><th class=\"tdhistory461830\">TemporalProperty</th><th class=\"tdhistory461830\">ResolvedCurrent_Date</th><th class=\"tdhistory461830\">ResolvedCurrent_Timestamp</th><th class=\"tdhistory461830\">SystemDefinedJI</th><th class=\"tdhistory461830\">VTQualifier</th><th class=\"tdhistory461830\">TTQualifier</th><th class=\"tdhistory461830\">PIColumnCount</th><th class=\"tdhistory461830\">PartitioningLevels</th><th class=\"tdhistory461830\">LoadProperty</th><th class=\"tdhistory461830\">CurrentLoadId</th><th class=\"tdhistory461830\">LoadIdLayout</th><th class=\"tdhistory461830\">DelayedJI</th><th class=\"tdhistory461830\">LastArchiveId</th><th class=\"tdhistory461830\">LastFullArchiveId</th><th class=\"tdhistory461830\">BlockSize</th><th class=\"tdhistory461830\">FreeSpacePercent</th><th class=\"tdhistory461830\">MergeBlockRatio</th><th class=\"tdhistory461830\">CheckSum</th><th class=\"tdhistory461830\">BlockCompression</th><th class=\"tdhistory461830\">BlockCompressionAlgorithm</th><th class=\"tdhistory461830\">BlockCompressionLevel</th><th class=\"tdhistory461830\">TableHeaderFormat</th><th class=\"tdhistory461830\">RowSizeFormat</th><th class=\"tdhistory461830\">MapName</th><th class=\"tdhistory461830\">ColocationName</th><th class=\"tdhistory461830\">TVMFlavor</th><th class=\"tdhistory461830\">FastAlterTable</th><th class=\"tdhistory461830\">IncrementalRestoreEnabled</th><th class=\"tdhistory461830\">AuthName</th></tr></thead><tbody class=\"tdhistory461830 resultset-body\"><tr><th class=\"tdhistory461830\" style= \"background: rgba(243, 243, 243, 0.75)\">1</th><td class=\"tdhistory461830\">DBC</td><td class=\"tdhistory461830\">Table_LevelConstraintsX</td><td class=\"tdhistory461830\">1</td><td class=\"tdhistory461830\">V </td><td class=\"tdhistory461830\">F </td><td class=\"tdhistory461830\">NN  </td><td class=\"tdhistory461830\">DBC</td><td class=\"tdhistory461830\">REPLACE VIEW DBC.Table_LevelConstraintsX\r",
       "AS\r",
       "SELECT CAST(SUBSTRING(TRANSLATE(Dbase.DatabaseName USING UNICODE_TO_LOCALE\r",
       "                      WITH ERROR) FROM 1 FOR 30) AS CHAR(30)) (NAMED DatabaseName),\r",
       "       CAST(SUBSTRING(TRANSLATE(tvm.TVMName USING UNICODE_TO_LOCALE WITH ERROR) FROM 1 FOR 30)\r",
       "            AS CHAR(30)) (named TableName),\r",
       "       CAST(SUBSTRING(TRANSLATE(TableConstraints.Name USING UNICODE_TO_LOCALE\r",
       "                      WITH ERROR) FROM 1 FOR 30) AS CHAR(30)) (named ConstraintName),\r",
       "       TRANSLATE(TableConstraints.TableCheck USING UNICODE_TO_LOCALE\r",
       "                 WITH ERROR) (named ConstraintText),\r",
       "       CAST(SUBSTRING(TRANSLATE(DB1.DatabaseName USING UNICODE_TO_LOCALE WITH ERROR) FROM 1 FOR 30)\r",
       "            AS CHAR(30)) (named CreatorName),\r",
       "       TableConstraints.CreateTimeStamp,\r",
       "       TableConstraints.VTCheckType, \r",
       "       TableConstraints.TTCheckType \r",
       "FROM  DBC.TableConstraints\r",
       "         LEFT OUTER JOIN DBC.Dbase DB1\r",
       "                      ON DBC.TableConstraints.CreateUID = DB1.DatabaseID,\r",
       "      DBC.Dbase, DBC.TVM\r",
       "WHERE TableConstraints.DbaseId= Dbase.DatabaseId\r",
       "AND   TableConstraints.TVMId = TVM.TVMId\r",
       "AND   ConstraintType = 'C' \r",
       "AND   ( (tvm.tvmid IN\r",
       "            (/* IDs of tables accessible to the USER */\r",
       "                SELECT tvm.tvmid\r",
       "                FROM   tvm, dbase, accessrights\r",
       "                WHERE  tvm.tvmid <> '000000000000'xb\r",
       "                AND    dbase.DataBaseNameI = USER\r",
       "                AND (\r",
       "                        /* User has right on all in TVMs DB */\r",
       "                        (tvm.DatabaseId = accessrights.DatabaseId AND\r",
       "                        accessrights.tvmid = '000000000000'xb AND\r",
       "                        accessrights.UserId = dbase.DatabaseId)\r",
       "                    )\r",
       "                UNION\r",
       "                SELECT tvm.tvmid\r",
       "                FROM   tvm, dbase, owners\r",
       "                WHERE  tvm.tvmid <> '000000000000'xb\r",
       "                AND    dbase.DataBaseNameI = USER\r",
       "                AND (\r",
       "                        /* User owns TVMs DB */\r",
       "                        (tvm.DatabaseId = owners.owneeid AND\r",
       "                        owners.ownerid = dbase.DatabaseId)\r",
       "                    )                    \r",
       "                UNION\r",
       "                SELECT tvm.tvmid\r",
       "                FROM   tvm, dbase\r",
       "                WHERE  tvm.tvmid <> '000000000000'xb\r",
       "                AND    dbase.DataBaseNameI = USER\r",
       "                AND    /* User *IS* TVMs DB */\r",
       "                        (tvm.DatabaseId = dbase.DatabaseId)\r",
       "                UNION\r",
       "                SELECT tvm.tvmid\r",
       "                FROM   tvm, dbase, accessrights\r",
       "                WHERE  tvm.tvmid <> '000000000000'xb\r",
       "                AND    dbase.DataBaseNameI = USER\r",
       "                AND (\r",
       "                        /* User has right on this specific TVM */\r",
       "                        (tvm.tvmid = accessrights.tvmid AND\r",
       "                        accessrights.UserId=dbase.DatabaseId)\r",
       "                    )\r",
       "            )\r",
       "        )\r",
       "        OR (tvm.tvmid IN\r",
       "             (/* IDs of tables accessible to USER's roles */\r",
       "              SELECT tvm.tvmid\r",
       "              FROM   TVM, ACCESSRIGHTS, ROLES\r",
       "              WHERE  TVM.tvmid       <> '000000000000'xb\r",
       "              AND    Roles.RoleId    =  AccessRights.UserId\r",
       "              AND    ROLE IS NOT NULL\r",
       "              AND    AccessRights.UserId IN \r",
       "               (SELECT RoleAccr.RoleId \r",
       "                FROM   DBC.Roles RoleAccr)\r",
       "              AND    (\r",
       "                 /* Role has right on all in TVMs DB */\r",
       "                 (tvm.DatabaseId      = accessrights.DatabaseId AND\r",
       "                  accessrights.tvmid  = '000000000000'xb)\r",
       "               )\r",
       "              AND    (  \r",
       "                (UPPER(ROLE) <> 'ALL'  AND\r",
       "                  /* Restrict to rights granted to current role */\r",
       "                  /* and the roles nested within current role   */\r",
       "                   (Roles.RoleId =\r",
       "                    (SELECT CurRole.RoleId\r",
       "                     FROM   DBC.Roles CurRole\r",
       "                     WHERE  CurRole.RoleNameI = ROLE)\r",
       "                    OR\r",
       "                    Roles.RoleId  IN\r",
       "                     (SELECT RG.RoleId\r",
       "                      FROM   DBC.RoleGrants RG,\r",
       "                             DBC.Roles      CurRole\r",
       "                      WHERE  RG.GranteeId = CurRole.RoleId AND\r",
       "                             CurRole.RoleNameI = ROLE))\r",
       "                )\r",
       "                OR\r",
       "                (UPPER(ROLE) = 'ALL'  AND\r",
       "                  /* The current role is ALL. Restrict to rights from */\r",
       "                  /* the roles directly granted to current user and   */\r",
       "                  /* nested roles within them */\r",
       "                  (Roles.RoleId  IN\r",
       "                   (SELECT UsrRG.RoleId\r",
       "                    FROM   DBC.RoleGrants UsrRG,\r",
       "                           DBC.Dbase      UserDB\r",
       "                    WHERE  UsrRG.GranteeId = UserDB.DatabaseId AND\r",
       "                           UserDB.DatabaseNameI = USER)\r",
       "                   OR    \r",
       "                   Roles.RoleId  IN\r",
       "                   (SELECT  RG.RoleId\r",
       "                    FROM    DBC.RoleGrants RG\r",
       "                    WHERE   RG.GranteeId in \r",
       "                            (SELECT UsrRG.RoleId\r",
       "                             FROM   DBC.RoleGrants UsrRG,\r",
       "                                    DBC.Dbase      UserDB\r",
       "                             WHERE  UsrRG.GranteeId = UserDB.DatabaseId AND\r",
       "                                    UserDB.DatabaseNameI = USER)))\r",
       "                ))\r",
       "         UNION ALL\r",
       "         SELECT tvm.tvmid\r",
       "              FROM   TVM, ACCESSRIGHTS, ROLES\r",
       "              WHERE  TVM.tvmid       <> '000000000000'xb\r",
       "              AND    Roles.RoleId    =  AccessRights.UserId\r",
       "              AND    ROLE IS NOT NULL\r",
       "              AND    AccessRights.UserId IN\r",
       "               (SELECT RoleAccr.RoleId\r",
       "                FROM   DBC.Roles RoleAccr)\r",
       "              AND    (\r",
       "                 /* Role has right on this specific TVM */\r",
       "                 (tvm.tvmid           = accessrights.tvmid)\r",
       "               )\r",
       "              AND    (\r",
       "                (UPPER(ROLE) <> 'ALL'  AND\r",
       "                  /* Restrict to rights granted to current role */\r",
       "                  /* and the roles nested within current role   */\r",
       "                   (Roles.RoleId =\r",
       "                    (SELECT CurRole.RoleId\r",
       "                     FROM   DBC.Roles CurRole\r",
       "                     WHERE  CurRole.RoleNameI = ROLE)\r",
       "                    OR\r",
       "                    Roles.RoleId  IN\r",
       "                     (SELECT RG.RoleId\r",
       "                      FROM   DBC.RoleGrants RG,\r",
       "                             DBC.Roles      CurRole\r",
       "                      WHERE  RG.GranteeId = CurRole.RoleId AND\r",
       "                             CurRole.RoleNameI = ROLE))\r",
       "                )\r",
       "                OR\r",
       "                (UPPER(ROLE) = 'ALL'  AND\r",
       "                  /* The current role is ALL. Restrict to rights from */\r",
       "                  /* the roles directly granted to current user and   */\r",
       "                  /* nested roles within them */\r",
       "                  (Roles.RoleId  IN\r",
       "                   (SELECT UsrRG.RoleId\r",
       "                    FROM   DBC.RoleGrants UsrRG,\r",
       "                           DBC.Dbase      UserDB\r",
       "                    WHERE  UsrRG.GranteeId = UserDB.DatabaseId AND\r",
       "                           UserDB.DatabaseNameI = USER)\r",
       "                   OR\r",
       "                   Roles.RoleId  IN\r",
       "                   (SELECT  RG.RoleId\r",
       "                    FROM    DBC.RoleGrants RG\r",
       "                    WHERE   RG.GranteeId in\r",
       "                            (SELECT UsrRG.RoleId\r",
       "                             FROM   DBC.RoleGrants UsrRG,\r",
       "                                    DBC.Dbase      UserDB\r",
       "                             WHERE  UsrRG.GranteeId = UserDB.DatabaseId AND\r",
       "                                    UserDB.DatabaseNameI = USER)))\r",
       "                )))\r",
       "        )\r",
       "      ) WITH CHECK OPTION;</td><td class=\"tdhistory461830\">The Table_LevelConstraints view provides information about table constraints for the requesting user. The columns names are: DatabaseName, TableName, ConstraintName, ConstraintText, CreatorName and CreateTimeStamp.</td><td class=\"tdhistory461830\">0</td><td class=\"tdhistory461830\">0</td><td class=\"tdhistory461830\">0</td><td class=\"tdhistory461830\">N </td><td class=\"tdhistory461830\"></td><td class=\"tdhistory461830\"></td><td class=\"tdhistory461830\">2023-12-18 09:51:46</td><td class=\"tdhistory461830\">DBC</td><td class=\"tdhistory461830\">2023-12-18 09:52:32</td><td class=\"tdhistory461830\"></td><td class=\"tdhistory461830\"></td><td class=\"tdhistory461830\"></td><td class=\"tdhistory461830\"></td><td class=\"tdhistory461830\">N </td><td class=\"tdhistory461830\">N </td><td class=\"tdhistory461830\">Y </td><td class=\"tdhistory461830\">Y </td><td class=\"tdhistory461830\">N </td><td class=\"tdhistory461830\"></td><td class=\"tdhistory461830\"></td><td class=\"tdhistory461830\">N </td><td class=\"tdhistory461830\"></td><td class=\"tdhistory461830\"></td><td class=\"tdhistory461830\">0</td><td class=\"tdhistory461830\">0</td><td class=\"tdhistory461830\"></td><td class=\"tdhistory461830\"></td><td class=\"tdhistory461830\"></td><td class=\"tdhistory461830\"></td><td class=\"tdhistory461830\"></td><td class=\"tdhistory461830\"></td><td class=\"tdhistory461830\"></td><td class=\"tdhistory461830\"></td><td class=\"tdhistory461830\"></td><td class=\"tdhistory461830\"></td><td class=\"tdhistory461830\"></td><td class=\"tdhistory461830\"></td><td class=\"tdhistory461830\"></td><td class=\"tdhistory461830\"></td><td class=\"tdhistory461830\">0</td><td class=\"tdhistory461830\"></td><td class=\"tdhistory461830\"></td><td class=\"tdhistory461830\"></td><td class=\"tdhistory461830\"></td><td class=\"tdhistory461830\"></td><td class=\"tdhistory461830\"></td></tr><tr><th class=\"tdhistory461830\" style= \"background: rgba(243, 243, 243, 0.75)\">2</th><td class=\"tdhistory461830\">TD_SYSFNLIB</td><td class=\"tdhistory461830\">DayNumber_Of_Year</td><td class=\"tdhistory461830\">1</td><td class=\"tdhistory461830\">F </td><td class=\"tdhistory461830\">F </td><td class=\"tdhistory461830\">N   </td><td class=\"tdhistory461830\">DBC</td><td class=\"tdhistory461830\"></td><td class=\"tdhistory461830\"></td><td class=\"tdhistory461830\">0</td><td class=\"tdhistory461830\">0</td><td class=\"tdhistory461830\">0</td><td class=\"tdhistory461830\">N </td><td class=\"tdhistory461830\">0</td><td class=\"tdhistory461830\"></td><td class=\"tdhistory461830\">2023-12-18 10:07:01</td><td class=\"tdhistory461830\">DBC</td><td class=\"tdhistory461830\">2023-12-18 10:07:01</td><td class=\"tdhistory461830\"></td><td class=\"tdhistory461830\"></td><td class=\"tdhistory461830\"></td><td class=\"tdhistory461830\"></td><td class=\"tdhistory461830\">N </td><td class=\"tdhistory461830\">N </td><td class=\"tdhistory461830\">Y </td><td class=\"tdhistory461830\">N </td><td class=\"tdhistory461830\"></td><td class=\"tdhistory461830\"></td><td class=\"tdhistory461830\"></td><td class=\"tdhistory461830\"></td><td class=\"tdhistory461830\"></td><td class=\"tdhistory461830\"></td><td class=\"tdhistory461830\">0</td><td class=\"tdhistory461830\">0</td><td class=\"tdhistory461830\"></td><td class=\"tdhistory461830\"></td><td class=\"tdhistory461830\"></td><td class=\"tdhistory461830\"></td><td class=\"tdhistory461830\"></td><td class=\"tdhistory461830\"></td><td class=\"tdhistory461830\"></td><td class=\"tdhistory461830\"></td><td class=\"tdhistory461830\"></td><td class=\"tdhistory461830\"></td><td class=\"tdhistory461830\"></td><td class=\"tdhistory461830\"></td><td class=\"tdhistory461830\"></td><td class=\"tdhistory461830\"></td><td class=\"tdhistory461830\">0</td><td class=\"tdhistory461830\">TD_DataDictionaryMap</td><td class=\"tdhistory461830\"></td><td class=\"tdhistory461830\"></td><td class=\"tdhistory461830\"></td><td class=\"tdhistory461830\"></td><td class=\"tdhistory461830\"></td></tr><tr><th class=\"tdhistory461830\" style= \"background: rgba(243, 243, 243, 0.75)\">3</th><td class=\"tdhistory461830\">SYSSPATIAL</td><td class=\"tdhistory461830\">ST_GeomFromWKBSRID_blob</td><td class=\"tdhistory461830\">4</td><td class=\"tdhistory461830\">F </td><td class=\"tdhistory461830\">F </td><td class=\"tdhistory461830\">N   </td><td class=\"tdhistory461830\">DBC</td><td class=\"tdhistory461830\">REPLACE FUNCTION SYSSPATIAL.ST_GeomFromWKB( awkb BLOB AS LOCATOR, srid INTEGER )\r",
       "    RETURNS ST_Geometry\r",
       "    LANGUAGE CPP\r",
       "    DETERMINISTIC\r",
       "    NO SQL\r",
       "    SPECIFIC ST_GeomFromWKBSRID_blob\r",
       "    EXTERNAL NAME 'SL!udflib';</td><td class=\"tdhistory461830\"></td><td class=\"tdhistory461830\">0</td><td class=\"tdhistory461830\">0</td><td class=\"tdhistory461830\">0</td><td class=\"tdhistory461830\">N </td><td class=\"tdhistory461830\">0</td><td class=\"tdhistory461830\"></td><td class=\"tdhistory461830\">2023-12-18 10:01:32</td><td class=\"tdhistory461830\">DBC</td><td class=\"tdhistory461830\">2023-12-18 10:02:05</td><td class=\"tdhistory461830\"></td><td class=\"tdhistory461830\"></td><td class=\"tdhistory461830\"></td><td class=\"tdhistory461830\"></td><td class=\"tdhistory461830\">N </td><td class=\"tdhistory461830\">N </td><td class=\"tdhistory461830\">Y </td><td class=\"tdhistory461830\">N </td><td class=\"tdhistory461830\">N </td><td class=\"tdhistory461830\"></td><td class=\"tdhistory461830\"></td><td class=\"tdhistory461830\">N </td><td class=\"tdhistory461830\"></td><td class=\"tdhistory461830\"></td><td class=\"tdhistory461830\">0</td><td class=\"tdhistory461830\">0</td><td class=\"tdhistory461830\"></td><td class=\"tdhistory461830\"></td><td class=\"tdhistory461830\"></td><td class=\"tdhistory461830\"></td><td class=\"tdhistory461830\"></td><td class=\"tdhistory461830\"></td><td class=\"tdhistory461830\"></td><td class=\"tdhistory461830\"></td><td class=\"tdhistory461830\"></td><td class=\"tdhistory461830\"></td><td class=\"tdhistory461830\"></td><td class=\"tdhistory461830\"></td><td class=\"tdhistory461830\"></td><td class=\"tdhistory461830\"></td><td class=\"tdhistory461830\">1</td><td class=\"tdhistory461830\">TD_DataDictionaryMap</td><td class=\"tdhistory461830\"></td><td class=\"tdhistory461830\"></td><td class=\"tdhistory461830\"></td><td class=\"tdhistory461830\"></td><td class=\"tdhistory461830\"></td></tr><tr><th class=\"tdhistory461830\" style= \"background: rgba(243, 243, 243, 0.75)\">4</th><td class=\"tdhistory461830\">SYSSPATIAL</td><td class=\"tdhistory461830\">SpheroidalDistanceDefault</td><td class=\"tdhistory461830\">4</td><td class=\"tdhistory461830\">F </td><td class=\"tdhistory461830\">F </td><td class=\"tdhistory461830\">N   </td><td class=\"tdhistory461830\">DBC</td><td class=\"tdhistory461830\">REPLACE FUNCTION SYSSPATIAL.SpheroidalDistance\r",
       "(\r",
       "    lat1 FLOAT, lon1 FLOAT,\r",
       "    lat2 FLOAT, lon2 FLOAT\r",
       ")\r",
       "    RETURNS FLOAT\r",
       "    LANGUAGE CPP\r",
       "    DETERMINISTIC\r",
       "    SPECIFIC SpheroidalDistanceDefault\r",
       "    NO SQL\r",
       "    EXTERNAL NAME 'SL!udflib';</td><td class=\"tdhistory461830\"></td><td class=\"tdhistory461830\">0</td><td class=\"tdhistory461830\">0</td><td class=\"tdhistory461830\">0</td><td class=\"tdhistory461830\">N </td><td class=\"tdhistory461830\">0</td><td class=\"tdhistory461830\"></td><td class=\"tdhistory461830\">2023-12-18 10:01:33</td><td class=\"tdhistory461830\">DBC</td><td class=\"tdhistory461830\">2023-12-18 10:02:06</td><td class=\"tdhistory461830\"></td><td class=\"tdhistory461830\"></td><td class=\"tdhistory461830\"></td><td class=\"tdhistory461830\"></td><td class=\"tdhistory461830\">N </td><td class=\"tdhistory461830\">N </td><td class=\"tdhistory461830\">Y </td><td class=\"tdhistory461830\">N </td><td class=\"tdhistory461830\">N </td><td class=\"tdhistory461830\"></td><td class=\"tdhistory461830\"></td><td class=\"tdhistory461830\">N </td><td class=\"tdhistory461830\"></td><td class=\"tdhistory461830\"></td><td class=\"tdhistory461830\">0</td><td class=\"tdhistory461830\">0</td><td class=\"tdhistory461830\"></td><td class=\"tdhistory461830\"></td><td class=\"tdhistory461830\"></td><td class=\"tdhistory461830\"></td><td class=\"tdhistory461830\"></td><td class=\"tdhistory461830\"></td><td class=\"tdhistory461830\"></td><td class=\"tdhistory461830\"></td><td class=\"tdhistory461830\"></td><td class=\"tdhistory461830\"></td><td class=\"tdhistory461830\"></td><td class=\"tdhistory461830\"></td><td class=\"tdhistory461830\"></td><td class=\"tdhistory461830\"></td><td class=\"tdhistory461830\">1</td><td class=\"tdhistory461830\">TD_DataDictionaryMap</td><td class=\"tdhistory461830\"></td><td class=\"tdhistory461830\"></td><td class=\"tdhistory461830\"></td><td class=\"tdhistory461830\"></td><td class=\"tdhistory461830\"></td></tr><tr><th class=\"tdhistory461830\" style= \"background: rgba(243, 243, 243, 0.75)\">5</th><td class=\"tdhistory461830\">SYSLIB</td><td class=\"tdhistory461830\">DBSRetryableErrors_TBF</td><td class=\"tdhistory461830\">4</td><td class=\"tdhistory461830\">R </td><td class=\"tdhistory461830\">F </td><td class=\"tdhistory461830\">N   </td><td class=\"tdhistory461830\">DBC</td><td class=\"tdhistory461830\">REPLACE FUNCTION SYSLIB.DBSRetryableErrors_TBF ()\r",
       "RETURNS TABLE ( ErrorCode SMALLINT )\r",
       "LANGUAGE C\r",
       "NO SQL\r",
       "DETERMINISTIC\r",
       "PARAMETER STYLE SQL\r",
       "EXTERNAL NAME 'SL!udflib';</td><td class=\"tdhistory461830\"></td><td class=\"tdhistory461830\">0</td><td class=\"tdhistory461830\">0</td><td class=\"tdhistory461830\">0</td><td class=\"tdhistory461830\">N </td><td class=\"tdhistory461830\">0</td><td class=\"tdhistory461830\"></td><td class=\"tdhistory461830\">2023-12-18 09:49:20</td><td class=\"tdhistory461830\">DBC</td><td class=\"tdhistory461830\">2023-12-18 09:51:18</td><td class=\"tdhistory461830\"></td><td class=\"tdhistory461830\"></td><td class=\"tdhistory461830\"></td><td class=\"tdhistory461830\"></td><td class=\"tdhistory461830\">N </td><td class=\"tdhistory461830\">N </td><td class=\"tdhistory461830\">Y </td><td class=\"tdhistory461830\">N </td><td class=\"tdhistory461830\">N </td><td class=\"tdhistory461830\"></td><td class=\"tdhistory461830\"></td><td class=\"tdhistory461830\">N </td><td class=\"tdhistory461830\"></td><td class=\"tdhistory461830\"></td><td class=\"tdhistory461830\">0</td><td class=\"tdhistory461830\">0</td><td class=\"tdhistory461830\"></td><td class=\"tdhistory461830\"></td><td class=\"tdhistory461830\"></td><td class=\"tdhistory461830\"></td><td class=\"tdhistory461830\"></td><td class=\"tdhistory461830\"></td><td class=\"tdhistory461830\"></td><td class=\"tdhistory461830\"></td><td class=\"tdhistory461830\"></td><td class=\"tdhistory461830\"></td><td class=\"tdhistory461830\"></td><td class=\"tdhistory461830\"></td><td class=\"tdhistory461830\"></td><td class=\"tdhistory461830\"></td><td class=\"tdhistory461830\">1</td><td class=\"tdhistory461830\">TD_DataDictionaryMap</td><td class=\"tdhistory461830\"></td><td class=\"tdhistory461830\"></td><td class=\"tdhistory461830\"></td><td class=\"tdhistory461830\"></td><td class=\"tdhistory461830\"></td></tr></tbody></table></div>"
      ]
     },
     "execution_count": 5,
     "metadata": {
      "application/vnd.teradata.resultset": "{\"resultSetID\":\"/home/jovyan/JupyterLabRoot/Teradata/Resultsets/2023.12.21_05.42.46.355_UTC\",\"historyID\":237,\"chunkID\":\"00001\",\"sessionid\":\"\",\"portnum\":\"\",\"dockermode\":\"docker\",\"totalRowCount\":5,\"chunkCount\":0,\"rowLimit\":0,\"columnMetadata\":[{\"columnName\":\"DataBaseName\",\"columnTypeName\":\"VARCHAR\",\"length\":128,\"scale\":128},{\"columnNumber\":1,\"columnName\":\"TableName\",\"columnTypeName\":\"VARCHAR\",\"length\":128,\"scale\":128},{\"columnNumber\":2,\"columnName\":\"Version\",\"columnTypeName\":\"SMALLINT\"},{\"columnNumber\":3,\"columnName\":\"TableKind\",\"columnTypeName\":\"CHAR\",\"length\":1,\"scale\":1},{\"columnNumber\":4,\"columnName\":\"ProtectionType\",\"columnTypeName\":\"CHAR\",\"length\":1,\"scale\":1},{\"columnNumber\":5,\"columnName\":\"JournalFlag\",\"columnTypeName\":\"CHAR\",\"length\":2,\"scale\":2},{\"columnNumber\":6,\"columnName\":\"CreatorName\",\"columnTypeName\":\"VARCHAR\",\"length\":128,\"scale\":128},{\"columnNumber\":7,\"columnName\":\"RequestText\",\"columnTypeName\":\"VARCHAR\",\"length\":12500,\"scale\":12500},{\"columnNumber\":8,\"columnName\":\"CommentString\",\"columnTypeName\":\"VARCHAR\",\"length\":255,\"scale\":255},{\"columnNumber\":9,\"columnName\":\"ParentCount\",\"columnTypeName\":\"SMALLINT\"},{\"columnNumber\":10,\"columnName\":\"ChildCount\",\"columnTypeName\":\"SMALLINT\"},{\"columnNumber\":11,\"columnName\":\"NamedTblCheckCount\",\"columnTypeName\":\"SMALLINT\"},{\"columnNumber\":12,\"columnName\":\"UnnamedTblCheckExist\",\"columnTypeName\":\"CHAR\",\"length\":1,\"scale\":1},{\"columnNumber\":13,\"columnName\":\"PrimaryKeyIndexId\",\"columnTypeName\":\"SMALLINT\"},{\"columnNumber\":14,\"columnName\":\"RepStatus\",\"columnTypeName\":\"CHAR\",\"length\":1,\"scale\":1},{\"columnNumber\":15,\"columnName\":\"CreateTimeStamp\",\"columnTypeName\":\"TIMESTAMP\"},{\"columnNumber\":16,\"columnName\":\"LastAlterName\",\"columnTypeName\":\"VARCHAR\",\"length\":128,\"scale\":128},{\"columnNumber\":17,\"columnName\":\"LastAlterTimeStamp\",\"columnTypeName\":\"TIMESTAMP\"},{\"columnNumber\":18,\"columnName\":\"RequestTxtOverflow\",\"columnTypeName\":\"CHAR\",\"length\":1,\"scale\":1},{\"columnNumber\":19,\"columnName\":\"AccessCount\",\"columnTypeName\":\"BIGINT\"},{\"columnNumber\":20,\"columnName\":\"LastAccessTimeStamp\",\"columnTypeName\":\"TIMESTAMP\"},{\"columnNumber\":21,\"columnName\":\"UtilVersion\",\"columnTypeName\":\"SMALLINT\"},{\"columnNumber\":22,\"columnName\":\"QueueFlag\",\"columnTypeName\":\"CHAR\",\"length\":1,\"scale\":1},{\"columnNumber\":23,\"columnName\":\"CommitOpt\",\"columnTypeName\":\"CHAR\",\"length\":1,\"scale\":1},{\"columnNumber\":24,\"columnName\":\"TransLog\",\"columnTypeName\":\"CHAR\",\"length\":1,\"scale\":1},{\"columnNumber\":25,\"columnName\":\"CheckOpt\",\"columnTypeName\":\"CHAR\",\"length\":1,\"scale\":1},{\"columnNumber\":26,\"columnName\":\"TemporalProperty\",\"columnTypeName\":\"CHAR\",\"length\":1,\"scale\":1},{\"columnNumber\":27,\"columnName\":\"ResolvedCurrent_Date\",\"columnTypeName\":\"DATE\"},{\"columnNumber\":28,\"columnName\":\"ResolvedCurrent_Timestamp\",\"columnTypeName\":\"TIMESTAMP WITH TIME ZONE\",\"length\":6,\"scale\":6},{\"columnNumber\":29,\"columnName\":\"SystemDefinedJI\",\"columnTypeName\":\"CHAR\",\"length\":1,\"scale\":1},{\"columnNumber\":30,\"columnName\":\"VTQualifier\",\"columnTypeName\":\"CHAR\",\"length\":1,\"scale\":1},{\"columnNumber\":31,\"columnName\":\"TTQualifier\",\"columnTypeName\":\"CHAR\",\"length\":1,\"scale\":1},{\"columnNumber\":32,\"columnName\":\"PIColumnCount\",\"columnTypeName\":\"SMALLINT\"},{\"columnNumber\":33,\"columnName\":\"PartitioningLevels\",\"columnTypeName\":\"SMALLINT\"},{\"columnNumber\":34,\"columnName\":\"LoadProperty\",\"columnTypeName\":\"CHAR\",\"length\":1,\"scale\":1},{\"columnNumber\":35,\"columnName\":\"CurrentLoadId\",\"columnTypeName\":\"INTEGER\"},{\"columnNumber\":36,\"columnName\":\"LoadIdLayout\",\"columnTypeName\":\"CHAR\",\"length\":1,\"scale\":1},{\"columnNumber\":37,\"columnName\":\"DelayedJI\",\"columnTypeName\":\"CHAR\",\"length\":1,\"scale\":1},{\"columnNumber\":38,\"columnName\":\"LastArchiveId\",\"columnTypeName\":\"BIGINT\"},{\"columnNumber\":39,\"columnName\":\"LastFullArchiveId\",\"columnTypeName\":\"BIGINT\"},{\"columnNumber\":40,\"columnName\":\"BlockSize\",\"columnTypeName\":\"INTEGER\"},{\"columnNumber\":41,\"columnName\":\"FreeSpacePercent\",\"columnTypeName\":\"BYTEINT\"},{\"columnNumber\":42,\"columnName\":\"MergeBlockRatio\",\"columnTypeName\":\"BYTEINT\"},{\"columnNumber\":43,\"columnName\":\"CheckSum\",\"columnTypeName\":\"CHAR\",\"length\":1,\"scale\":1},{\"columnNumber\":44,\"columnName\":\"BlockCompression\",\"columnTypeName\":\"VARCHAR\",\"length\":8,\"scale\":8},{\"columnNumber\":45,\"columnName\":\"BlockCompressionAlgorithm\",\"columnTypeName\":\"VARCHAR\",\"length\":7,\"scale\":7},{\"columnNumber\":46,\"columnName\":\"BlockCompressionLevel\",\"columnTypeName\":\"VARCHAR\",\"length\":7,\"scale\":7},{\"columnNumber\":47,\"columnName\":\"TableHeaderFormat\",\"columnTypeName\":\"CHAR\",\"length\":1,\"scale\":1},{\"columnNumber\":48,\"columnName\":\"RowSizeFormat\",\"columnTypeName\":\"VARCHAR\",\"length\":1,\"scale\":1},{\"columnNumber\":49,\"columnName\":\"MapName\",\"columnTypeName\":\"VARCHAR\",\"length\":128,\"scale\":128},{\"columnNumber\":50,\"columnName\":\"ColocationName\",\"columnTypeName\":\"VARCHAR\",\"length\":128,\"scale\":128},{\"columnNumber\":51,\"columnName\":\"TVMFlavor\",\"columnTypeName\":\"CHAR\",\"length\":1,\"scale\":1},{\"columnNumber\":52,\"columnName\":\"FastAlterTable\",\"columnTypeName\":\"CHAR\",\"length\":1,\"scale\":1},{\"columnNumber\":53,\"columnName\":\"IncrementalRestoreEnabled\",\"columnTypeName\":\"INTEGER\"},{\"columnNumber\":54,\"columnName\":\"AuthName\",\"columnTypeName\":\"VARCHAR\",\"length\":128,\"scale\":128}]}"
     },
     "output_type": "execute_result"
    }
   ],
   "source": [
    "SELECT TOP 5 * FROM DBC.TablesV;"
   ]
  },
  {
   "cell_type": "markdown",
   "metadata": {},
   "source": [
    "<p style = 'font-size:16px;font-family:Arial;color:#00233C'>\n",
    "    This is the simplest high-level SQL query. <b>SELECT</b> is a SQL keyword that starts the first section on defining the columns we wan to extract. <b>FROM</b> is a SQL keyword that starts the source data section. <b>DBC.TablesV</b> is the table we want to extract all the columns.</p>\n",
    "\n",
    "<p style = 'font-size:16px;font-family:Arial;color:#00233C'>\n",
    "    Instead of \"shift+Enter\", one can also click on the <b>Execute</b> button (triangular Play button in the top toolbar) will run the SQL query on our Vantage environment</p>\n",
    "\n",
    "<p style = 'font-size:16px;font-family:Arial;color:#00233C'>After a few seconds you will find the results in the result window. You can select any cell, type Ctrl-C to copy the data, and then Ctrl-P in Excel to paste the data for further analysis (filtering, pivoting, etc.).</p>\n",
    "\n",
    "<p style = 'font-size:16px;font-family:Arial;color:#00233C'>The results include the following columns:</p>\n",
    "\n",
    "<ul style = 'font-size:16px;font-family:Arial;color:#00233C'>\n",
    "    <li>DatabaseName, name of the database a table is in</li>\n",
    "<li>TableName, name of the table</li>\n",
    "<li>Version</li>\n",
    "<li>TableKind</li>\n",
    "<li>ProtectionType</li>\n",
    "<li>JournalFlag</li>\n",
    "<li>CreatorName</li>\n",
    "<li>RequestText</li>\n",
    "<li>CommentString</li>\n",
    "<li>ParentCount</li>\n",
    "<li>ChildCount</li>\n",
    "<li>...</li>\n",
    "</ul>\n",
    "\n",
    "<p style = 'font-size:16px;font-family:Arial;color:#00233C'>To select specific columns, we define them in the <b>SELECT</b> statement delimitated by a comma. For readability, we will enter each one on a new line and use a nice tabular form:</p>"
   ]
  },
  {
   "cell_type": "code",
   "execution_count": 6,
   "metadata": {},
   "outputs": [
    {
     "data": {
      "application/vnd.teradata.resultset": "\"TableName\",\"DataBaseName\"\n\"pima_patient_features\",\"modelops\"\n\"byte2int\",\"GLOBAL_FUNCTIONS\"\n\"ESCREPEAT\",\"SYSJDBC\"\n\"pima_patient_predictions\",\"modelops\"\n\"aoa_statistics_metadata\",\"modelops\"",
      "text/html": [
       "<div class = \"td-resultset-table-div\" style = \"max-height: 100%; overflow-y: auto\">\n",
       "      <table class=\"tdhistory766664\"><style>\n",
       "      table.tdhistory766664 { display: block !important; min-height: 189px !important; overflow: auto !important; height: 189px !important; width: 100% !important; border: 1px solid rgb(207, 207, 207) !important; border-collapse: collapse !important; ; color: var(--jp-ui-font-color1) !important; }\n",
       "      th.tdhistory766664 { border: 1px solid rgb(198,198,198) !important; border-collapse: collapse !important; ; padding: 2px 5px !important; ; font-size: 13px !important; ; text-align: center !important; white-space: normal !important; color: var(--jp-ui-font-color1) !important; }\n",
       "      th.tdhistory766664:last-child { text-align: left !important; }\n",
       "      tbody.tdhistory766664 tr:nth-child(even) { background: rgba(243, 243, 243, 0.75) !important; }\n",
       "      tbody.tdhistory766664 tr:nth-child(odd) { background: var(--jp-ui-inverse-font-color1) !important; }\n",
       "      td.tdhistory766664 { border: 1px solid rgb(207, 207, 207) !important; border-collapse: collapse !important; ; padding: 2px 5px !important; ; font-size: 13px !important; ; text-align: left !important;          white-space: nowrap !important; overflow:hidden !important; text-overflow:ellipsis !important;; }\n",
       "    </style><thead><tr style= \"background: rgba(243, 243, 243, 0.75)\"><th class=\"tdhistory766664\"></th><th class=\"tdhistory766664\">TableName</th><th class=\"tdhistory766664\">DataBaseName</th></tr></thead><tbody class=\"tdhistory766664 resultset-body\"><tr><th class=\"tdhistory766664\" style= \"background: rgba(243, 243, 243, 0.75)\">1</th><td class=\"tdhistory766664\">pima_patient_features</td><td class=\"tdhistory766664\">modelops</td></tr><tr><th class=\"tdhistory766664\" style= \"background: rgba(243, 243, 243, 0.75)\">2</th><td class=\"tdhistory766664\">byte2int</td><td class=\"tdhistory766664\">GLOBAL_FUNCTIONS</td></tr><tr><th class=\"tdhistory766664\" style= \"background: rgba(243, 243, 243, 0.75)\">3</th><td class=\"tdhistory766664\">ESCREPEAT</td><td class=\"tdhistory766664\">SYSJDBC</td></tr><tr><th class=\"tdhistory766664\" style= \"background: rgba(243, 243, 243, 0.75)\">4</th><td class=\"tdhistory766664\">pima_patient_predictions</td><td class=\"tdhistory766664\">modelops</td></tr><tr><th class=\"tdhistory766664\" style= \"background: rgba(243, 243, 243, 0.75)\">5</th><td class=\"tdhistory766664\">aoa_statistics_metadata</td><td class=\"tdhistory766664\">modelops</td></tr></tbody></table></div>"
      ]
     },
     "execution_count": 6,
     "metadata": {
      "application/vnd.teradata.resultset": "{\"resultSetID\":\"/home/jovyan/JupyterLabRoot/Teradata/Resultsets/2023.12.21_05.42.46.538_UTC\",\"historyID\":238,\"chunkID\":\"00001\",\"sessionid\":\"\",\"portnum\":\"\",\"dockermode\":\"docker\",\"totalRowCount\":5,\"chunkCount\":0,\"rowLimit\":0,\"columnMetadata\":[{\"columnName\":\"TableName\",\"columnTypeName\":\"VARCHAR\",\"length\":128,\"scale\":128},{\"columnNumber\":1,\"columnName\":\"DataBaseName\",\"columnTypeName\":\"VARCHAR\",\"length\":128,\"scale\":128}]}"
     },
     "output_type": "execute_result"
    }
   ],
   "source": [
    "SELECT TOP 5 TableName, DatabaseName FROM DBC.TablesV;"
   ]
  },
  {
   "cell_type": "markdown",
   "metadata": {},
   "source": [
    "<hr style=\"height:2px;border:none;background-color:#00233C;\">\n",
    "<p style = 'font-size:20px;font-family:Arial;color:#00233C'><b>Ordering</b></p>\n",
    "\n",
    "<p style = 'font-size:16px;font-family:Arial;color:#00233C'>We can order the data by Name:</p>"
   ]
  },
  {
   "cell_type": "code",
   "execution_count": 7,
   "metadata": {},
   "outputs": [
    {
     "data": {
      "application/vnd.teradata.resultset": "\"TableName\",\"DataBaseName\"\n\"AbortCollect\",\"TDStats\"\n\"AbortListSessions\",\"SYSLIB\"\n\"AbortSessions\",\"SYSLIB\"\n\"AccessLog\",\"DBC\"\n\"AccessLogV\",\"DBC\"",
      "text/html": [
       "<div class = \"td-resultset-table-div\" style = \"max-height: 100%; overflow-y: auto\">\n",
       "      <table class=\"tdhistory998243\"><style>\n",
       "      table.tdhistory998243 { display: block !important; min-height: 189px !important; overflow: auto !important; height: 189px !important; width: 100% !important; border: 1px solid rgb(207, 207, 207) !important; border-collapse: collapse !important; ; color: var(--jp-ui-font-color1) !important; }\n",
       "      th.tdhistory998243 { border: 1px solid rgb(198,198,198) !important; border-collapse: collapse !important; ; padding: 2px 5px !important; ; font-size: 13px !important; ; text-align: center !important; white-space: normal !important; color: var(--jp-ui-font-color1) !important; }\n",
       "      th.tdhistory998243:last-child { text-align: left !important; }\n",
       "      tbody.tdhistory998243 tr:nth-child(even) { background: rgba(243, 243, 243, 0.75) !important; }\n",
       "      tbody.tdhistory998243 tr:nth-child(odd) { background: var(--jp-ui-inverse-font-color1) !important; }\n",
       "      td.tdhistory998243 { border: 1px solid rgb(207, 207, 207) !important; border-collapse: collapse !important; ; padding: 2px 5px !important; ; font-size: 13px !important; ; text-align: left !important;          white-space: nowrap !important; overflow:hidden !important; text-overflow:ellipsis !important;; }\n",
       "    </style><thead><tr style= \"background: rgba(243, 243, 243, 0.75)\"><th class=\"tdhistory998243\"></th><th class=\"tdhistory998243\">TableName</th><th class=\"tdhistory998243\">DataBaseName</th></tr></thead><tbody class=\"tdhistory998243 resultset-body\"><tr><th class=\"tdhistory998243\" style= \"background: rgba(243, 243, 243, 0.75)\">1</th><td class=\"tdhistory998243\">AbortCollect</td><td class=\"tdhistory998243\">TDStats</td></tr><tr><th class=\"tdhistory998243\" style= \"background: rgba(243, 243, 243, 0.75)\">2</th><td class=\"tdhistory998243\">AbortListSessions</td><td class=\"tdhistory998243\">SYSLIB</td></tr><tr><th class=\"tdhistory998243\" style= \"background: rgba(243, 243, 243, 0.75)\">3</th><td class=\"tdhistory998243\">AbortSessions</td><td class=\"tdhistory998243\">SYSLIB</td></tr><tr><th class=\"tdhistory998243\" style= \"background: rgba(243, 243, 243, 0.75)\">4</th><td class=\"tdhistory998243\">AccessLog</td><td class=\"tdhistory998243\">DBC</td></tr><tr><th class=\"tdhistory998243\" style= \"background: rgba(243, 243, 243, 0.75)\">5</th><td class=\"tdhistory998243\">AccessLogV</td><td class=\"tdhistory998243\">DBC</td></tr></tbody></table></div>"
      ]
     },
     "execution_count": 7,
     "metadata": {
      "application/vnd.teradata.resultset": "{\"resultSetID\":\"/home/jovyan/JupyterLabRoot/Teradata/Resultsets/2023.12.21_05.42.46.936_UTC\",\"historyID\":239,\"chunkID\":\"00001\",\"sessionid\":\"\",\"portnum\":\"\",\"dockermode\":\"docker\",\"totalRowCount\":5,\"chunkCount\":0,\"rowLimit\":0,\"columnMetadata\":[{\"columnName\":\"TableName\",\"columnTypeName\":\"VARCHAR\",\"length\":128,\"scale\":128},{\"columnNumber\":1,\"columnName\":\"DataBaseName\",\"columnTypeName\":\"VARCHAR\",\"length\":128,\"scale\":128}]}"
     },
     "output_type": "execute_result"
    }
   ],
   "source": [
    "SELECT TOP 5 TableName, DatabaseName FROM DBC.TablesV ORDER BY TableName;"
   ]
  },
  {
   "cell_type": "markdown",
   "metadata": {},
   "source": [
    "<p style = 'font-size:16px;font-family:Arial;color:#00233C'>We added here the SQL keyword <b>ORDER BY</b> followed by the column on which we want to order the data.</p>\n",
    "\n",
    "<p style = 'font-size:16px;font-family:Arial;color:#00233C'>To order in descending order, we add the SQL keyword <b>DESC</b> next to the column name:</p>"
   ]
  },
  {
   "cell_type": "code",
   "execution_count": 8,
   "metadata": {},
   "outputs": [
    {
     "data": {
      "application/vnd.teradata.resultset": "\"TableName\",\"DataBaseName\"\n\"_val_ks_out1\",\"demo_user\"\n\"_val_chisquare_out\",\"demo_user\"\n\"_val_binomial_example4\",\"demo_user\"\n\"_val_binomial_example2\",\"demo_user\"\n\"_TWM_1_TO_1_AFFINITY\",\"demo_user\"",
      "text/html": [
       "<div class = \"td-resultset-table-div\" style = \"max-height: 100%; overflow-y: auto\">\n",
       "      <table class=\"tdhistory228244\"><style>\n",
       "      table.tdhistory228244 { display: block !important; min-height: 189px !important; overflow: auto !important; height: 189px !important; width: 100% !important; border: 1px solid rgb(207, 207, 207) !important; border-collapse: collapse !important; ; color: var(--jp-ui-font-color1) !important; }\n",
       "      th.tdhistory228244 { border: 1px solid rgb(198,198,198) !important; border-collapse: collapse !important; ; padding: 2px 5px !important; ; font-size: 13px !important; ; text-align: center !important; white-space: normal !important; color: var(--jp-ui-font-color1) !important; }\n",
       "      th.tdhistory228244:last-child { text-align: left !important; }\n",
       "      tbody.tdhistory228244 tr:nth-child(even) { background: rgba(243, 243, 243, 0.75) !important; }\n",
       "      tbody.tdhistory228244 tr:nth-child(odd) { background: var(--jp-ui-inverse-font-color1) !important; }\n",
       "      td.tdhistory228244 { border: 1px solid rgb(207, 207, 207) !important; border-collapse: collapse !important; ; padding: 2px 5px !important; ; font-size: 13px !important; ; text-align: left !important;          white-space: nowrap !important; overflow:hidden !important; text-overflow:ellipsis !important;; }\n",
       "    </style><thead><tr style= \"background: rgba(243, 243, 243, 0.75)\"><th class=\"tdhistory228244\"></th><th class=\"tdhistory228244\">TableName</th><th class=\"tdhistory228244\">DataBaseName</th></tr></thead><tbody class=\"tdhistory228244 resultset-body\"><tr><th class=\"tdhistory228244\" style= \"background: rgba(243, 243, 243, 0.75)\">1</th><td class=\"tdhistory228244\">_val_ks_out1</td><td class=\"tdhistory228244\">demo_user</td></tr><tr><th class=\"tdhistory228244\" style= \"background: rgba(243, 243, 243, 0.75)\">2</th><td class=\"tdhistory228244\">_val_chisquare_out</td><td class=\"tdhistory228244\">demo_user</td></tr><tr><th class=\"tdhistory228244\" style= \"background: rgba(243, 243, 243, 0.75)\">3</th><td class=\"tdhistory228244\">_val_binomial_example4</td><td class=\"tdhistory228244\">demo_user</td></tr><tr><th class=\"tdhistory228244\" style= \"background: rgba(243, 243, 243, 0.75)\">4</th><td class=\"tdhistory228244\">_val_binomial_example2</td><td class=\"tdhistory228244\">demo_user</td></tr><tr><th class=\"tdhistory228244\" style= \"background: rgba(243, 243, 243, 0.75)\">5</th><td class=\"tdhistory228244\">_TWM_1_TO_1_AFFINITY</td><td class=\"tdhistory228244\">demo_user</td></tr></tbody></table></div>"
      ]
     },
     "execution_count": 8,
     "metadata": {
      "application/vnd.teradata.resultset": "{\"resultSetID\":\"/home/jovyan/JupyterLabRoot/Teradata/Resultsets/2023.12.21_05.42.47.091_UTC\",\"historyID\":240,\"chunkID\":\"00001\",\"sessionid\":\"\",\"portnum\":\"\",\"dockermode\":\"docker\",\"totalRowCount\":5,\"chunkCount\":0,\"rowLimit\":0,\"columnMetadata\":[{\"columnName\":\"TableName\",\"columnTypeName\":\"VARCHAR\",\"length\":128,\"scale\":128},{\"columnNumber\":1,\"columnName\":\"DataBaseName\",\"columnTypeName\":\"VARCHAR\",\"length\":128,\"scale\":128}]}"
     },
     "output_type": "execute_result"
    }
   ],
   "source": [
    "SELECT TOP 5 TableName, DatabaseName FROM DBC.TablesV ORDER BY TableName DESC;"
   ]
  },
  {
   "cell_type": "markdown",
   "metadata": {},
   "source": [
    "<p style = 'font-size:16px;font-family:Arial;color:#00233C'>We can order using multiple columns, for example:</p>"
   ]
  },
  {
   "cell_type": "code",
   "execution_count": 9,
   "metadata": {},
   "outputs": [
    {
     "data": {
      "application/vnd.teradata.resultset": "\"DataBaseName\",\"TableName\",\"Version\",\"TableKind\",\"ProtectionType\",\"JournalFlag\",\"CreatorName\",\"RequestText\",\"CommentString\",\"ParentCount\",\"ChildCount\",\"NamedTblCheckCount\",\"UnnamedTblCheckExist\",\"PrimaryKeyIndexId\",\"RepStatus\",\"CreateTimeStamp\",\"LastAlterName\",\"LastAlterTimeStamp\",\"RequestTxtOverflow\",\"AccessCount\",\"LastAccessTimeStamp\",\"UtilVersion\",\"QueueFlag\",\"CommitOpt\",\"TransLog\",\"CheckOpt\",\"TemporalProperty\",\"ResolvedCurrent_Date\",\"ResolvedCurrent_Timestamp\",\"SystemDefinedJI\",\"VTQualifier\",\"TTQualifier\",\"PIColumnCount\",\"PartitioningLevels\",\"LoadProperty\",\"CurrentLoadId\",\"LoadIdLayout\",\"DelayedJI\",\"LastArchiveId\",\"LastFullArchiveId\",\"BlockSize\",\"FreeSpacePercent\",\"MergeBlockRatio\",\"CheckSum\",\"BlockCompression\",\"BlockCompressionAlgorithm\",\"BlockCompressionLevel\",\"TableHeaderFormat\",\"RowSizeFormat\",\"MapName\",\"ColocationName\",\"TVMFlavor\",\"FastAlterTable\",\"IncrementalRestoreEnabled\",\"AuthName\"\n\"val\",\"accounts\",\"1\",\"T \",\"F \",\"NN  \",\"val\",\"CREATE SET TABLE accounts\r      ,NO BEFORE JOURNAL\r      ,NO AFTER JOURNAL\r      (\racct_nbr CHAR(16) CHARACTER SET LATIN NOT CASESPECIFIC NOT NULL\r,cust_id INTEGER\r,acct_type CHAR(2) CHARACTER SET LATIN NOT CASESPECIFIC\r,account_active CHAR(1) CHARACTER SET LATIN NOT CASESPECIFIC\r,acct_start_date DATE FORMAT 'YYYY-MM-DD'\r,acct_end_date DATE FORMAT 'YYYY-MM-DD'\r,starting_balance DECIMAL(9,2)\r,ending_balance DECIMAL(9,2)\r\r       )\r UNIQUE PRIMARY INDEX ( acct_nbr );\",\"\",\"0\",\"0\",\"0\",\"N \",\"\",\"\",\"2023-12-18 10:14:23\",\"val\",\"2023-12-18 10:14:23\",\"\",\"\",\"\",\"1\",\"N \",\"N \",\"Y \",\"N \",\"N \",\"\",\"\",\"N \",\"\",\"\",\"1\",\"0\",\"\",\"\",\"\",\"\",\"\",\"\",\"\",\"\",\"\",\"\",\"DEFAULT\",\"DEFAULT\",\"DEFAULT\",\"0 \",\"0\",\"TD_Map1\",\"\",\"\",\"\",\"\",\"\"\n\"val\",\"checking_acct\",\"1\",\"T \",\"F \",\"NN  \",\"val\",\"CREATE SET TABLE checking_acct\r      ,NO BEFORE JOURNAL\r      ,NO AFTER JOURNAL\r      (\rcust_id INTEGER NOT NULL\r,acct_nbr CHAR(16) CHARACTER SET LATIN NOT CASESPECIFIC\r,minimum_balance INTEGER\r,per_check_fee DECIMAL(9,2) FORMAT '--Z(6)9.99'\r,account_active CHAR(1) CHARACTER SET LATIN NOT CASESPECIFIC\r,acct_start_date DATE FORMAT 'YYYYMMDD'\r,acct_end_date DATE FORMAT 'YYYYMMDD'\r,starting_balance DECIMAL(9,2) FORMAT '--Z(6)9.99'\r,ending_balance DECIMAL(9,2) FORMAT '--Z(6)9.99'\r\r       )\r UNIQUE PRIMARY INDEX ( cust_id );\",\"\",\"0\",\"0\",\"0\",\"N \",\"\",\"\",\"2023-12-18 10:14:23\",\"val\",\"2023-12-18 10:14:23\",\"\",\"\",\"\",\"1\",\"N \",\"N \",\"Y \",\"N \",\"N \",\"\",\"\",\"N \",\"\",\"\",\"1\",\"0\",\"\",\"\",\"\",\"\",\"\",\"\",\"\",\"\",\"\",\"\",\"DEFAULT\",\"DEFAULT\",\"DEFAULT\",\"0 \",\"0\",\"TD_Map1\",\"\",\"\",\"\",\"\",\"\"\n\"val\",\"checking_tran\",\"1\",\"T \",\"F \",\"NN  \",\"val\",\"CREATE SET TABLE checking_tran\r      ,NO BEFORE JOURNAL\r      ,NO AFTER JOURNAL\r      (\rcust_id INTEGER\r,tran_id INTEGER\r,tran_amt DECIMAL(9,2) FORMAT '--Z(6)9.99'\r,principal_amt DECIMAL(9,2) FORMAT '--Z(6)9.99'\r,interest_amt DECIMAL(9,2) FORMAT '--Z(6)9.99'\r,new_balance DECIMAL(9,2) FORMAT '--Z(6)9.99'\r,tran_date DATE FORMAT 'YYYYMMDD'\r,tran_time CHAR(6) CHARACTER SET LATIN NOT CASESPECIFIC\r,channel CHAR(1) CHARACTER SET LATIN NOT CASESPECIFIC\r,tran_code CHAR(2) CHARACTER SET LATIN NOT CASESPECIFIC\r\r       )\r UNIQUE PRIMARY INDEX ( cust_id,tran_id );\",\"\",\"0\",\"0\",\"0\",\"N \",\"\",\"\",\"2023-12-18 10:14:23\",\"val\",\"2023-12-18 10:14:23\",\"\",\"\",\"\",\"1\",\"N \",\"N \",\"Y \",\"N \",\"N \",\"\",\"\",\"N \",\"\",\"\",\"2\",\"0\",\"\",\"\",\"\",\"\",\"\",\"\",\"\",\"\",\"\",\"\",\"DEFAULT\",\"DEFAULT\",\"DEFAULT\",\"0 \",\"0\",\"TD_Map1\",\"\",\"\",\"\",\"\",\"\"\n\"val\",\"credit_acct\",\"1\",\"T \",\"F \",\"NN  \",\"val\",\"CREATE SET TABLE credit_acct\r      ,NO BEFORE JOURNAL\r      ,NO AFTER JOURNAL\r      (\rcust_id INTEGER\r,acct_nbr CHAR(16) CHARACTER SET LATIN NOT CASESPECIFIC\r,credit_limit INTEGER\r,credit_rating SMALLINT\r,account_active CHAR(1) CHARACTER SET LATIN NOT CASESPECIFIC\r,acct_start_date DATE FORMAT 'YYYYMMDD'\r,acct_end_date DATE FORMAT 'YYYYMMDD'\r,starting_balance DECIMAL(9,2) FORMAT '--Z(6)9.99'\r,ending_balance DECIMAL(9,2) FORMAT '--Z(6)9.99'\r\r       )\r UNIQUE PRIMARY INDEX ( cust_id );\",\"\",\"0\",\"0\",\"0\",\"N \",\"\",\"\",\"2023-12-18 10:14:25\",\"val\",\"2023-12-18 10:14:25\",\"\",\"\",\"\",\"1\",\"N \",\"N \",\"Y \",\"N \",\"N \",\"\",\"\",\"N \",\"\",\"\",\"1\",\"0\",\"\",\"\",\"\",\"\",\"\",\"\",\"\",\"\",\"\",\"\",\"DEFAULT\",\"DEFAULT\",\"DEFAULT\",\"0 \",\"0\",\"TD_Map1\",\"\",\"\",\"\",\"\",\"\"\n\"val\",\"credit_tran\",\"1\",\"T \",\"F \",\"NN  \",\"val\",\"CREATE SET TABLE credit_tran\r      ,NO BEFORE JOURNAL\r      ,NO AFTER JOURNAL\r      (\rcust_id INTEGER\r,tran_id INTEGER\r,tran_amt DECIMAL(9,2) FORMAT '--Z(6)9.99'\r,principal_amt DECIMAL(9,2) FORMAT '--Z(6)9.99'\r,interest_amt DECIMAL(9,2) FORMAT '--Z(6)9.99'\r,new_balance DECIMAL(9,2) FORMAT '--Z(6)9.99'\r,tran_date DATE FORMAT 'YYYYMMDD'\r,tran_time CHAR(6) CHARACTER SET LATIN NOT CASESPECIFIC\r,channel CHAR(1) CHARACTER SET LATIN NOT CASESPECIFIC\r,tran_code CHAR(2) CHARACTER SET LATIN NOT CASESPECIFIC\r\r       )\r UNIQUE PRIMARY INDEX ( cust_id,tran_id );\",\"\",\"0\",\"0\",\"0\",\"N \",\"\",\"\",\"2023-12-18 10:14:25\",\"val\",\"2023-12-18 10:14:25\",\"\",\"\",\"\",\"1\",\"N \",\"N \",\"Y \",\"N \",\"N \",\"\",\"\",\"N \",\"\",\"\",\"2\",\"0\",\"\",\"\",\"\",\"\",\"\",\"\",\"\",\"\",\"\",\"\",\"DEFAULT\",\"DEFAULT\",\"DEFAULT\",\"0 \",\"0\",\"TD_Map1\",\"\",\"\",\"\",\"\",\"\"",
      "text/html": [
       "<div class = \"td-resultset-table-div\" style = \"max-height: 100%; overflow-y: auto\">\n",
       "      <table class=\"tdhistory583673\"><style>\n",
       "      table.tdhistory583673 { display: block !important; min-height: 189px !important; overflow: auto !important; height: 189px !important; width: 100% !important; border: 1px solid rgb(207, 207, 207) !important; border-collapse: collapse !important; ; color: var(--jp-ui-font-color1) !important; }\n",
       "      th.tdhistory583673 { border: 1px solid rgb(198,198,198) !important; border-collapse: collapse !important; ; padding: 2px 5px !important; ; font-size: 13px !important; ; text-align: center !important; white-space: normal !important; color: var(--jp-ui-font-color1) !important; }\n",
       "      th.tdhistory583673:last-child { text-align: left !important; }\n",
       "      tbody.tdhistory583673 tr:nth-child(even) { background: rgba(243, 243, 243, 0.75) !important; }\n",
       "      tbody.tdhistory583673 tr:nth-child(odd) { background: var(--jp-ui-inverse-font-color1) !important; }\n",
       "      td.tdhistory583673 { border: 1px solid rgb(207, 207, 207) !important; border-collapse: collapse !important; ; padding: 2px 5px !important; ; font-size: 13px !important; ; text-align: left !important;          white-space: nowrap !important; overflow:hidden !important; text-overflow:ellipsis !important;; }\n",
       "    </style><thead><tr style= \"background: rgba(243, 243, 243, 0.75)\"><th class=\"tdhistory583673\"></th><th class=\"tdhistory583673\">DataBaseName</th><th class=\"tdhistory583673\">TableName</th><th class=\"tdhistory583673\">Version</th><th class=\"tdhistory583673\">TableKind</th><th class=\"tdhistory583673\">ProtectionType</th><th class=\"tdhistory583673\">JournalFlag</th><th class=\"tdhistory583673\">CreatorName</th><th class=\"tdhistory583673\">RequestText</th><th class=\"tdhistory583673\">CommentString</th><th class=\"tdhistory583673\">ParentCount</th><th class=\"tdhistory583673\">ChildCount</th><th class=\"tdhistory583673\">NamedTblCheckCount</th><th class=\"tdhistory583673\">UnnamedTblCheckExist</th><th class=\"tdhistory583673\">PrimaryKeyIndexId</th><th class=\"tdhistory583673\">RepStatus</th><th class=\"tdhistory583673\">CreateTimeStamp</th><th class=\"tdhistory583673\">LastAlterName</th><th class=\"tdhistory583673\">LastAlterTimeStamp</th><th class=\"tdhistory583673\">RequestTxtOverflow</th><th class=\"tdhistory583673\">AccessCount</th><th class=\"tdhistory583673\">LastAccessTimeStamp</th><th class=\"tdhistory583673\">UtilVersion</th><th class=\"tdhistory583673\">QueueFlag</th><th class=\"tdhistory583673\">CommitOpt</th><th class=\"tdhistory583673\">TransLog</th><th class=\"tdhistory583673\">CheckOpt</th><th class=\"tdhistory583673\">TemporalProperty</th><th class=\"tdhistory583673\">ResolvedCurrent_Date</th><th class=\"tdhistory583673\">ResolvedCurrent_Timestamp</th><th class=\"tdhistory583673\">SystemDefinedJI</th><th class=\"tdhistory583673\">VTQualifier</th><th class=\"tdhistory583673\">TTQualifier</th><th class=\"tdhistory583673\">PIColumnCount</th><th class=\"tdhistory583673\">PartitioningLevels</th><th class=\"tdhistory583673\">LoadProperty</th><th class=\"tdhistory583673\">CurrentLoadId</th><th class=\"tdhistory583673\">LoadIdLayout</th><th class=\"tdhistory583673\">DelayedJI</th><th class=\"tdhistory583673\">LastArchiveId</th><th class=\"tdhistory583673\">LastFullArchiveId</th><th class=\"tdhistory583673\">BlockSize</th><th class=\"tdhistory583673\">FreeSpacePercent</th><th class=\"tdhistory583673\">MergeBlockRatio</th><th class=\"tdhistory583673\">CheckSum</th><th class=\"tdhistory583673\">BlockCompression</th><th class=\"tdhistory583673\">BlockCompressionAlgorithm</th><th class=\"tdhistory583673\">BlockCompressionLevel</th><th class=\"tdhistory583673\">TableHeaderFormat</th><th class=\"tdhistory583673\">RowSizeFormat</th><th class=\"tdhistory583673\">MapName</th><th class=\"tdhistory583673\">ColocationName</th><th class=\"tdhistory583673\">TVMFlavor</th><th class=\"tdhistory583673\">FastAlterTable</th><th class=\"tdhistory583673\">IncrementalRestoreEnabled</th><th class=\"tdhistory583673\">AuthName</th></tr></thead><tbody class=\"tdhistory583673 resultset-body\"><tr><th class=\"tdhistory583673\" style= \"background: rgba(243, 243, 243, 0.75)\">1</th><td class=\"tdhistory583673\">val</td><td class=\"tdhistory583673\">accounts</td><td class=\"tdhistory583673\">1</td><td class=\"tdhistory583673\">T </td><td class=\"tdhistory583673\">F </td><td class=\"tdhistory583673\">NN  </td><td class=\"tdhistory583673\">val</td><td class=\"tdhistory583673\">CREATE SET TABLE accounts\r",
       "      ,NO BEFORE JOURNAL\r",
       "      ,NO AFTER JOURNAL\r",
       "      (\r",
       "acct_nbr CHAR(16) CHARACTER SET LATIN NOT CASESPECIFIC NOT NULL\r",
       ",cust_id INTEGER\r",
       ",acct_type CHAR(2) CHARACTER SET LATIN NOT CASESPECIFIC\r",
       ",account_active CHAR(1) CHARACTER SET LATIN NOT CASESPECIFIC\r",
       ",acct_start_date DATE FORMAT 'YYYY-MM-DD'\r",
       ",acct_end_date DATE FORMAT 'YYYY-MM-DD'\r",
       ",starting_balance DECIMAL(9,2)\r",
       ",ending_balance DECIMAL(9,2)\r",
       "\r",
       "       )\r",
       " UNIQUE PRIMARY INDEX ( acct_nbr );</td><td class=\"tdhistory583673\"></td><td class=\"tdhistory583673\">0</td><td class=\"tdhistory583673\">0</td><td class=\"tdhistory583673\">0</td><td class=\"tdhistory583673\">N </td><td class=\"tdhistory583673\"></td><td class=\"tdhistory583673\"></td><td class=\"tdhistory583673\">2023-12-18 10:14:23</td><td class=\"tdhistory583673\">val</td><td class=\"tdhistory583673\">2023-12-18 10:14:23</td><td class=\"tdhistory583673\"></td><td class=\"tdhistory583673\"></td><td class=\"tdhistory583673\"></td><td class=\"tdhistory583673\">1</td><td class=\"tdhistory583673\">N </td><td class=\"tdhistory583673\">N </td><td class=\"tdhistory583673\">Y </td><td class=\"tdhistory583673\">N </td><td class=\"tdhistory583673\">N </td><td class=\"tdhistory583673\"></td><td class=\"tdhistory583673\"></td><td class=\"tdhistory583673\">N </td><td class=\"tdhistory583673\"></td><td class=\"tdhistory583673\"></td><td class=\"tdhistory583673\">1</td><td class=\"tdhistory583673\">0</td><td class=\"tdhistory583673\"></td><td class=\"tdhistory583673\"></td><td class=\"tdhistory583673\"></td><td class=\"tdhistory583673\"></td><td class=\"tdhistory583673\"></td><td class=\"tdhistory583673\"></td><td class=\"tdhistory583673\"></td><td class=\"tdhistory583673\"></td><td class=\"tdhistory583673\"></td><td class=\"tdhistory583673\"></td><td class=\"tdhistory583673\">DEFAULT</td><td class=\"tdhistory583673\">DEFAULT</td><td class=\"tdhistory583673\">DEFAULT</td><td class=\"tdhistory583673\">0 </td><td class=\"tdhistory583673\">0</td><td class=\"tdhistory583673\">TD_Map1</td><td class=\"tdhistory583673\"></td><td class=\"tdhistory583673\"></td><td class=\"tdhistory583673\"></td><td class=\"tdhistory583673\"></td><td class=\"tdhistory583673\"></td></tr><tr><th class=\"tdhistory583673\" style= \"background: rgba(243, 243, 243, 0.75)\">2</th><td class=\"tdhistory583673\">val</td><td class=\"tdhistory583673\">checking_acct</td><td class=\"tdhistory583673\">1</td><td class=\"tdhistory583673\">T </td><td class=\"tdhistory583673\">F </td><td class=\"tdhistory583673\">NN  </td><td class=\"tdhistory583673\">val</td><td class=\"tdhistory583673\">CREATE SET TABLE checking_acct\r",
       "      ,NO BEFORE JOURNAL\r",
       "      ,NO AFTER JOURNAL\r",
       "      (\r",
       "cust_id INTEGER NOT NULL\r",
       ",acct_nbr CHAR(16) CHARACTER SET LATIN NOT CASESPECIFIC\r",
       ",minimum_balance INTEGER\r",
       ",per_check_fee DECIMAL(9,2) FORMAT '--Z(6)9.99'\r",
       ",account_active CHAR(1) CHARACTER SET LATIN NOT CASESPECIFIC\r",
       ",acct_start_date DATE FORMAT 'YYYYMMDD'\r",
       ",acct_end_date DATE FORMAT 'YYYYMMDD'\r",
       ",starting_balance DECIMAL(9,2) FORMAT '--Z(6)9.99'\r",
       ",ending_balance DECIMAL(9,2) FORMAT '--Z(6)9.99'\r",
       "\r",
       "       )\r",
       " UNIQUE PRIMARY INDEX ( cust_id );</td><td class=\"tdhistory583673\"></td><td class=\"tdhistory583673\">0</td><td class=\"tdhistory583673\">0</td><td class=\"tdhistory583673\">0</td><td class=\"tdhistory583673\">N </td><td class=\"tdhistory583673\"></td><td class=\"tdhistory583673\"></td><td class=\"tdhistory583673\">2023-12-18 10:14:23</td><td class=\"tdhistory583673\">val</td><td class=\"tdhistory583673\">2023-12-18 10:14:23</td><td class=\"tdhistory583673\"></td><td class=\"tdhistory583673\"></td><td class=\"tdhistory583673\"></td><td class=\"tdhistory583673\">1</td><td class=\"tdhistory583673\">N </td><td class=\"tdhistory583673\">N </td><td class=\"tdhistory583673\">Y </td><td class=\"tdhistory583673\">N </td><td class=\"tdhistory583673\">N </td><td class=\"tdhistory583673\"></td><td class=\"tdhistory583673\"></td><td class=\"tdhistory583673\">N </td><td class=\"tdhistory583673\"></td><td class=\"tdhistory583673\"></td><td class=\"tdhistory583673\">1</td><td class=\"tdhistory583673\">0</td><td class=\"tdhistory583673\"></td><td class=\"tdhistory583673\"></td><td class=\"tdhistory583673\"></td><td class=\"tdhistory583673\"></td><td class=\"tdhistory583673\"></td><td class=\"tdhistory583673\"></td><td class=\"tdhistory583673\"></td><td class=\"tdhistory583673\"></td><td class=\"tdhistory583673\"></td><td class=\"tdhistory583673\"></td><td class=\"tdhistory583673\">DEFAULT</td><td class=\"tdhistory583673\">DEFAULT</td><td class=\"tdhistory583673\">DEFAULT</td><td class=\"tdhistory583673\">0 </td><td class=\"tdhistory583673\">0</td><td class=\"tdhistory583673\">TD_Map1</td><td class=\"tdhistory583673\"></td><td class=\"tdhistory583673\"></td><td class=\"tdhistory583673\"></td><td class=\"tdhistory583673\"></td><td class=\"tdhistory583673\"></td></tr><tr><th class=\"tdhistory583673\" style= \"background: rgba(243, 243, 243, 0.75)\">3</th><td class=\"tdhistory583673\">val</td><td class=\"tdhistory583673\">checking_tran</td><td class=\"tdhistory583673\">1</td><td class=\"tdhistory583673\">T </td><td class=\"tdhistory583673\">F </td><td class=\"tdhistory583673\">NN  </td><td class=\"tdhistory583673\">val</td><td class=\"tdhistory583673\">CREATE SET TABLE checking_tran\r",
       "      ,NO BEFORE JOURNAL\r",
       "      ,NO AFTER JOURNAL\r",
       "      (\r",
       "cust_id INTEGER\r",
       ",tran_id INTEGER\r",
       ",tran_amt DECIMAL(9,2) FORMAT '--Z(6)9.99'\r",
       ",principal_amt DECIMAL(9,2) FORMAT '--Z(6)9.99'\r",
       ",interest_amt DECIMAL(9,2) FORMAT '--Z(6)9.99'\r",
       ",new_balance DECIMAL(9,2) FORMAT '--Z(6)9.99'\r",
       ",tran_date DATE FORMAT 'YYYYMMDD'\r",
       ",tran_time CHAR(6) CHARACTER SET LATIN NOT CASESPECIFIC\r",
       ",channel CHAR(1) CHARACTER SET LATIN NOT CASESPECIFIC\r",
       ",tran_code CHAR(2) CHARACTER SET LATIN NOT CASESPECIFIC\r",
       "\r",
       "       )\r",
       " UNIQUE PRIMARY INDEX ( cust_id,tran_id );</td><td class=\"tdhistory583673\"></td><td class=\"tdhistory583673\">0</td><td class=\"tdhistory583673\">0</td><td class=\"tdhistory583673\">0</td><td class=\"tdhistory583673\">N </td><td class=\"tdhistory583673\"></td><td class=\"tdhistory583673\"></td><td class=\"tdhistory583673\">2023-12-18 10:14:23</td><td class=\"tdhistory583673\">val</td><td class=\"tdhistory583673\">2023-12-18 10:14:23</td><td class=\"tdhistory583673\"></td><td class=\"tdhistory583673\"></td><td class=\"tdhistory583673\"></td><td class=\"tdhistory583673\">1</td><td class=\"tdhistory583673\">N </td><td class=\"tdhistory583673\">N </td><td class=\"tdhistory583673\">Y </td><td class=\"tdhistory583673\">N </td><td class=\"tdhistory583673\">N </td><td class=\"tdhistory583673\"></td><td class=\"tdhistory583673\"></td><td class=\"tdhistory583673\">N </td><td class=\"tdhistory583673\"></td><td class=\"tdhistory583673\"></td><td class=\"tdhistory583673\">2</td><td class=\"tdhistory583673\">0</td><td class=\"tdhistory583673\"></td><td class=\"tdhistory583673\"></td><td class=\"tdhistory583673\"></td><td class=\"tdhistory583673\"></td><td class=\"tdhistory583673\"></td><td class=\"tdhistory583673\"></td><td class=\"tdhistory583673\"></td><td class=\"tdhistory583673\"></td><td class=\"tdhistory583673\"></td><td class=\"tdhistory583673\"></td><td class=\"tdhistory583673\">DEFAULT</td><td class=\"tdhistory583673\">DEFAULT</td><td class=\"tdhistory583673\">DEFAULT</td><td class=\"tdhistory583673\">0 </td><td class=\"tdhistory583673\">0</td><td class=\"tdhistory583673\">TD_Map1</td><td class=\"tdhistory583673\"></td><td class=\"tdhistory583673\"></td><td class=\"tdhistory583673\"></td><td class=\"tdhistory583673\"></td><td class=\"tdhistory583673\"></td></tr><tr><th class=\"tdhistory583673\" style= \"background: rgba(243, 243, 243, 0.75)\">4</th><td class=\"tdhistory583673\">val</td><td class=\"tdhistory583673\">credit_acct</td><td class=\"tdhistory583673\">1</td><td class=\"tdhistory583673\">T </td><td class=\"tdhistory583673\">F </td><td class=\"tdhistory583673\">NN  </td><td class=\"tdhistory583673\">val</td><td class=\"tdhistory583673\">CREATE SET TABLE credit_acct\r",
       "      ,NO BEFORE JOURNAL\r",
       "      ,NO AFTER JOURNAL\r",
       "      (\r",
       "cust_id INTEGER\r",
       ",acct_nbr CHAR(16) CHARACTER SET LATIN NOT CASESPECIFIC\r",
       ",credit_limit INTEGER\r",
       ",credit_rating SMALLINT\r",
       ",account_active CHAR(1) CHARACTER SET LATIN NOT CASESPECIFIC\r",
       ",acct_start_date DATE FORMAT 'YYYYMMDD'\r",
       ",acct_end_date DATE FORMAT 'YYYYMMDD'\r",
       ",starting_balance DECIMAL(9,2) FORMAT '--Z(6)9.99'\r",
       ",ending_balance DECIMAL(9,2) FORMAT '--Z(6)9.99'\r",
       "\r",
       "       )\r",
       " UNIQUE PRIMARY INDEX ( cust_id );</td><td class=\"tdhistory583673\"></td><td class=\"tdhistory583673\">0</td><td class=\"tdhistory583673\">0</td><td class=\"tdhistory583673\">0</td><td class=\"tdhistory583673\">N </td><td class=\"tdhistory583673\"></td><td class=\"tdhistory583673\"></td><td class=\"tdhistory583673\">2023-12-18 10:14:25</td><td class=\"tdhistory583673\">val</td><td class=\"tdhistory583673\">2023-12-18 10:14:25</td><td class=\"tdhistory583673\"></td><td class=\"tdhistory583673\"></td><td class=\"tdhistory583673\"></td><td class=\"tdhistory583673\">1</td><td class=\"tdhistory583673\">N </td><td class=\"tdhistory583673\">N </td><td class=\"tdhistory583673\">Y </td><td class=\"tdhistory583673\">N </td><td class=\"tdhistory583673\">N </td><td class=\"tdhistory583673\"></td><td class=\"tdhistory583673\"></td><td class=\"tdhistory583673\">N </td><td class=\"tdhistory583673\"></td><td class=\"tdhistory583673\"></td><td class=\"tdhistory583673\">1</td><td class=\"tdhistory583673\">0</td><td class=\"tdhistory583673\"></td><td class=\"tdhistory583673\"></td><td class=\"tdhistory583673\"></td><td class=\"tdhistory583673\"></td><td class=\"tdhistory583673\"></td><td class=\"tdhistory583673\"></td><td class=\"tdhistory583673\"></td><td class=\"tdhistory583673\"></td><td class=\"tdhistory583673\"></td><td class=\"tdhistory583673\"></td><td class=\"tdhistory583673\">DEFAULT</td><td class=\"tdhistory583673\">DEFAULT</td><td class=\"tdhistory583673\">DEFAULT</td><td class=\"tdhistory583673\">0 </td><td class=\"tdhistory583673\">0</td><td class=\"tdhistory583673\">TD_Map1</td><td class=\"tdhistory583673\"></td><td class=\"tdhistory583673\"></td><td class=\"tdhistory583673\"></td><td class=\"tdhistory583673\"></td><td class=\"tdhistory583673\"></td></tr><tr><th class=\"tdhistory583673\" style= \"background: rgba(243, 243, 243, 0.75)\">5</th><td class=\"tdhistory583673\">val</td><td class=\"tdhistory583673\">credit_tran</td><td class=\"tdhistory583673\">1</td><td class=\"tdhistory583673\">T </td><td class=\"tdhistory583673\">F </td><td class=\"tdhistory583673\">NN  </td><td class=\"tdhistory583673\">val</td><td class=\"tdhistory583673\">CREATE SET TABLE credit_tran\r",
       "      ,NO BEFORE JOURNAL\r",
       "      ,NO AFTER JOURNAL\r",
       "      (\r",
       "cust_id INTEGER\r",
       ",tran_id INTEGER\r",
       ",tran_amt DECIMAL(9,2) FORMAT '--Z(6)9.99'\r",
       ",principal_amt DECIMAL(9,2) FORMAT '--Z(6)9.99'\r",
       ",interest_amt DECIMAL(9,2) FORMAT '--Z(6)9.99'\r",
       ",new_balance DECIMAL(9,2) FORMAT '--Z(6)9.99'\r",
       ",tran_date DATE FORMAT 'YYYYMMDD'\r",
       ",tran_time CHAR(6) CHARACTER SET LATIN NOT CASESPECIFIC\r",
       ",channel CHAR(1) CHARACTER SET LATIN NOT CASESPECIFIC\r",
       ",tran_code CHAR(2) CHARACTER SET LATIN NOT CASESPECIFIC\r",
       "\r",
       "       )\r",
       " UNIQUE PRIMARY INDEX ( cust_id,tran_id );</td><td class=\"tdhistory583673\"></td><td class=\"tdhistory583673\">0</td><td class=\"tdhistory583673\">0</td><td class=\"tdhistory583673\">0</td><td class=\"tdhistory583673\">N </td><td class=\"tdhistory583673\"></td><td class=\"tdhistory583673\"></td><td class=\"tdhistory583673\">2023-12-18 10:14:25</td><td class=\"tdhistory583673\">val</td><td class=\"tdhistory583673\">2023-12-18 10:14:25</td><td class=\"tdhistory583673\"></td><td class=\"tdhistory583673\"></td><td class=\"tdhistory583673\"></td><td class=\"tdhistory583673\">1</td><td class=\"tdhistory583673\">N </td><td class=\"tdhistory583673\">N </td><td class=\"tdhistory583673\">Y </td><td class=\"tdhistory583673\">N </td><td class=\"tdhistory583673\">N </td><td class=\"tdhistory583673\"></td><td class=\"tdhistory583673\"></td><td class=\"tdhistory583673\">N </td><td class=\"tdhistory583673\"></td><td class=\"tdhistory583673\"></td><td class=\"tdhistory583673\">2</td><td class=\"tdhistory583673\">0</td><td class=\"tdhistory583673\"></td><td class=\"tdhistory583673\"></td><td class=\"tdhistory583673\"></td><td class=\"tdhistory583673\"></td><td class=\"tdhistory583673\"></td><td class=\"tdhistory583673\"></td><td class=\"tdhistory583673\"></td><td class=\"tdhistory583673\"></td><td class=\"tdhistory583673\"></td><td class=\"tdhistory583673\"></td><td class=\"tdhistory583673\">DEFAULT</td><td class=\"tdhistory583673\">DEFAULT</td><td class=\"tdhistory583673\">DEFAULT</td><td class=\"tdhistory583673\">0 </td><td class=\"tdhistory583673\">0</td><td class=\"tdhistory583673\">TD_Map1</td><td class=\"tdhistory583673\"></td><td class=\"tdhistory583673\"></td><td class=\"tdhistory583673\"></td><td class=\"tdhistory583673\"></td><td class=\"tdhistory583673\"></td></tr></tbody></table></div>"
      ]
     },
     "execution_count": 9,
     "metadata": {
      "application/vnd.teradata.resultset": "{\"resultSetID\":\"/home/jovyan/JupyterLabRoot/Teradata/Resultsets/2023.12.21_05.42.47.581_UTC\",\"historyID\":241,\"chunkID\":\"00001\",\"sessionid\":\"\",\"portnum\":\"\",\"dockermode\":\"docker\",\"totalRowCount\":5,\"chunkCount\":0,\"rowLimit\":0,\"columnMetadata\":[{\"columnName\":\"DataBaseName\",\"columnTypeName\":\"VARCHAR\",\"length\":128,\"scale\":128},{\"columnNumber\":1,\"columnName\":\"TableName\",\"columnTypeName\":\"VARCHAR\",\"length\":128,\"scale\":128},{\"columnNumber\":2,\"columnName\":\"Version\",\"columnTypeName\":\"SMALLINT\"},{\"columnNumber\":3,\"columnName\":\"TableKind\",\"columnTypeName\":\"CHAR\",\"length\":1,\"scale\":1},{\"columnNumber\":4,\"columnName\":\"ProtectionType\",\"columnTypeName\":\"CHAR\",\"length\":1,\"scale\":1},{\"columnNumber\":5,\"columnName\":\"JournalFlag\",\"columnTypeName\":\"CHAR\",\"length\":2,\"scale\":2},{\"columnNumber\":6,\"columnName\":\"CreatorName\",\"columnTypeName\":\"VARCHAR\",\"length\":128,\"scale\":128},{\"columnNumber\":7,\"columnName\":\"RequestText\",\"columnTypeName\":\"VARCHAR\",\"length\":12500,\"scale\":12500},{\"columnNumber\":8,\"columnName\":\"CommentString\",\"columnTypeName\":\"VARCHAR\",\"length\":255,\"scale\":255},{\"columnNumber\":9,\"columnName\":\"ParentCount\",\"columnTypeName\":\"SMALLINT\"},{\"columnNumber\":10,\"columnName\":\"ChildCount\",\"columnTypeName\":\"SMALLINT\"},{\"columnNumber\":11,\"columnName\":\"NamedTblCheckCount\",\"columnTypeName\":\"SMALLINT\"},{\"columnNumber\":12,\"columnName\":\"UnnamedTblCheckExist\",\"columnTypeName\":\"CHAR\",\"length\":1,\"scale\":1},{\"columnNumber\":13,\"columnName\":\"PrimaryKeyIndexId\",\"columnTypeName\":\"SMALLINT\"},{\"columnNumber\":14,\"columnName\":\"RepStatus\",\"columnTypeName\":\"CHAR\",\"length\":1,\"scale\":1},{\"columnNumber\":15,\"columnName\":\"CreateTimeStamp\",\"columnTypeName\":\"TIMESTAMP\"},{\"columnNumber\":16,\"columnName\":\"LastAlterName\",\"columnTypeName\":\"VARCHAR\",\"length\":128,\"scale\":128},{\"columnNumber\":17,\"columnName\":\"LastAlterTimeStamp\",\"columnTypeName\":\"TIMESTAMP\"},{\"columnNumber\":18,\"columnName\":\"RequestTxtOverflow\",\"columnTypeName\":\"CHAR\",\"length\":1,\"scale\":1},{\"columnNumber\":19,\"columnName\":\"AccessCount\",\"columnTypeName\":\"BIGINT\"},{\"columnNumber\":20,\"columnName\":\"LastAccessTimeStamp\",\"columnTypeName\":\"TIMESTAMP\"},{\"columnNumber\":21,\"columnName\":\"UtilVersion\",\"columnTypeName\":\"SMALLINT\"},{\"columnNumber\":22,\"columnName\":\"QueueFlag\",\"columnTypeName\":\"CHAR\",\"length\":1,\"scale\":1},{\"columnNumber\":23,\"columnName\":\"CommitOpt\",\"columnTypeName\":\"CHAR\",\"length\":1,\"scale\":1},{\"columnNumber\":24,\"columnName\":\"TransLog\",\"columnTypeName\":\"CHAR\",\"length\":1,\"scale\":1},{\"columnNumber\":25,\"columnName\":\"CheckOpt\",\"columnTypeName\":\"CHAR\",\"length\":1,\"scale\":1},{\"columnNumber\":26,\"columnName\":\"TemporalProperty\",\"columnTypeName\":\"CHAR\",\"length\":1,\"scale\":1},{\"columnNumber\":27,\"columnName\":\"ResolvedCurrent_Date\",\"columnTypeName\":\"DATE\"},{\"columnNumber\":28,\"columnName\":\"ResolvedCurrent_Timestamp\",\"columnTypeName\":\"TIMESTAMP WITH TIME ZONE\",\"length\":6,\"scale\":6},{\"columnNumber\":29,\"columnName\":\"SystemDefinedJI\",\"columnTypeName\":\"CHAR\",\"length\":1,\"scale\":1},{\"columnNumber\":30,\"columnName\":\"VTQualifier\",\"columnTypeName\":\"CHAR\",\"length\":1,\"scale\":1},{\"columnNumber\":31,\"columnName\":\"TTQualifier\",\"columnTypeName\":\"CHAR\",\"length\":1,\"scale\":1},{\"columnNumber\":32,\"columnName\":\"PIColumnCount\",\"columnTypeName\":\"SMALLINT\"},{\"columnNumber\":33,\"columnName\":\"PartitioningLevels\",\"columnTypeName\":\"SMALLINT\"},{\"columnNumber\":34,\"columnName\":\"LoadProperty\",\"columnTypeName\":\"CHAR\",\"length\":1,\"scale\":1},{\"columnNumber\":35,\"columnName\":\"CurrentLoadId\",\"columnTypeName\":\"INTEGER\"},{\"columnNumber\":36,\"columnName\":\"LoadIdLayout\",\"columnTypeName\":\"CHAR\",\"length\":1,\"scale\":1},{\"columnNumber\":37,\"columnName\":\"DelayedJI\",\"columnTypeName\":\"CHAR\",\"length\":1,\"scale\":1},{\"columnNumber\":38,\"columnName\":\"LastArchiveId\",\"columnTypeName\":\"BIGINT\"},{\"columnNumber\":39,\"columnName\":\"LastFullArchiveId\",\"columnTypeName\":\"BIGINT\"},{\"columnNumber\":40,\"columnName\":\"BlockSize\",\"columnTypeName\":\"INTEGER\"},{\"columnNumber\":41,\"columnName\":\"FreeSpacePercent\",\"columnTypeName\":\"BYTEINT\"},{\"columnNumber\":42,\"columnName\":\"MergeBlockRatio\",\"columnTypeName\":\"BYTEINT\"},{\"columnNumber\":43,\"columnName\":\"CheckSum\",\"columnTypeName\":\"CHAR\",\"length\":1,\"scale\":1},{\"columnNumber\":44,\"columnName\":\"BlockCompression\",\"columnTypeName\":\"VARCHAR\",\"length\":8,\"scale\":8},{\"columnNumber\":45,\"columnName\":\"BlockCompressionAlgorithm\",\"columnTypeName\":\"VARCHAR\",\"length\":7,\"scale\":7},{\"columnNumber\":46,\"columnName\":\"BlockCompressionLevel\",\"columnTypeName\":\"VARCHAR\",\"length\":7,\"scale\":7},{\"columnNumber\":47,\"columnName\":\"TableHeaderFormat\",\"columnTypeName\":\"CHAR\",\"length\":1,\"scale\":1},{\"columnNumber\":48,\"columnName\":\"RowSizeFormat\",\"columnTypeName\":\"VARCHAR\",\"length\":1,\"scale\":1},{\"columnNumber\":49,\"columnName\":\"MapName\",\"columnTypeName\":\"VARCHAR\",\"length\":128,\"scale\":128},{\"columnNumber\":50,\"columnName\":\"ColocationName\",\"columnTypeName\":\"VARCHAR\",\"length\":128,\"scale\":128},{\"columnNumber\":51,\"columnName\":\"TVMFlavor\",\"columnTypeName\":\"CHAR\",\"length\":1,\"scale\":1},{\"columnNumber\":52,\"columnName\":\"FastAlterTable\",\"columnTypeName\":\"CHAR\",\"length\":1,\"scale\":1},{\"columnNumber\":53,\"columnName\":\"IncrementalRestoreEnabled\",\"columnTypeName\":\"INTEGER\"},{\"columnNumber\":54,\"columnName\":\"AuthName\",\"columnTypeName\":\"VARCHAR\",\"length\":128,\"scale\":128}]}"
     },
     "output_type": "execute_result"
    }
   ],
   "source": [
    "SELECT\n",
    "    TOP 5 *\n",
    "FROM\n",
    "    DBC.TablesV\n",
    "ORDER BY DatabaseName DESC, TableName "
   ]
  },
  {
   "cell_type": "markdown",
   "metadata": {},
   "source": [
    "<hr style=\"height:2px;border:none;background-color:#00233C;\">\n",
    "<p style = 'font-size:20px;font-family:Arial;color:#00233C'><b>Filtering</b></p>\n",
    "\n",
    "<p style = 'font-size:16px;font-family:Arial;color:#00233C'>We can filter for specific value with the SQL keyword <b>WHERE</b>. For example:</p>"
   ]
  },
  {
   "cell_type": "code",
   "execution_count": 10,
   "metadata": {},
   "outputs": [
    {
     "data": {
      "application/vnd.teradata.resultset": "\"DataBaseName\",\"TableName\",\"Version\",\"TableKind\",\"ProtectionType\",\"JournalFlag\",\"CreatorName\",\"RequestText\",\"CommentString\",\"ParentCount\",\"ChildCount\",\"NamedTblCheckCount\",\"UnnamedTblCheckExist\",\"PrimaryKeyIndexId\",\"RepStatus\",\"CreateTimeStamp\",\"LastAlterName\",\"LastAlterTimeStamp\",\"RequestTxtOverflow\",\"AccessCount\",\"LastAccessTimeStamp\",\"UtilVersion\",\"QueueFlag\",\"CommitOpt\",\"TransLog\",\"CheckOpt\",\"TemporalProperty\",\"ResolvedCurrent_Date\",\"ResolvedCurrent_Timestamp\",\"SystemDefinedJI\",\"VTQualifier\",\"TTQualifier\",\"PIColumnCount\",\"PartitioningLevels\",\"LoadProperty\",\"CurrentLoadId\",\"LoadIdLayout\",\"DelayedJI\",\"LastArchiveId\",\"LastFullArchiveId\",\"BlockSize\",\"FreeSpacePercent\",\"MergeBlockRatio\",\"CheckSum\",\"BlockCompression\",\"BlockCompressionAlgorithm\",\"BlockCompressionLevel\",\"TableHeaderFormat\",\"RowSizeFormat\",\"MapName\",\"ColocationName\",\"TVMFlavor\",\"FastAlterTable\",\"IncrementalRestoreEnabled\",\"AuthName\"\n\"val\",\"accounts\",\"1\",\"T \",\"F \",\"NN  \",\"val\",\"CREATE SET TABLE accounts\r      ,NO BEFORE JOURNAL\r      ,NO AFTER JOURNAL\r      (\racct_nbr CHAR(16) CHARACTER SET LATIN NOT CASESPECIFIC NOT NULL\r,cust_id INTEGER\r,acct_type CHAR(2) CHARACTER SET LATIN NOT CASESPECIFIC\r,account_active CHAR(1) CHARACTER SET LATIN NOT CASESPECIFIC\r,acct_start_date DATE FORMAT 'YYYY-MM-DD'\r,acct_end_date DATE FORMAT 'YYYY-MM-DD'\r,starting_balance DECIMAL(9,2)\r,ending_balance DECIMAL(9,2)\r\r       )\r UNIQUE PRIMARY INDEX ( acct_nbr );\",\"\",\"0\",\"0\",\"0\",\"N \",\"\",\"\",\"2023-12-18 10:14:23\",\"val\",\"2023-12-18 10:14:23\",\"\",\"\",\"\",\"1\",\"N \",\"N \",\"Y \",\"N \",\"N \",\"\",\"\",\"N \",\"\",\"\",\"1\",\"0\",\"\",\"\",\"\",\"\",\"\",\"\",\"\",\"\",\"\",\"\",\"DEFAULT\",\"DEFAULT\",\"DEFAULT\",\"0 \",\"0\",\"TD_Map1\",\"\",\"\",\"\",\"\",\"\"\n\"val\",\"checking_acct\",\"1\",\"T \",\"F \",\"NN  \",\"val\",\"CREATE SET TABLE checking_acct\r      ,NO BEFORE JOURNAL\r      ,NO AFTER JOURNAL\r      (\rcust_id INTEGER NOT NULL\r,acct_nbr CHAR(16) CHARACTER SET LATIN NOT CASESPECIFIC\r,minimum_balance INTEGER\r,per_check_fee DECIMAL(9,2) FORMAT '--Z(6)9.99'\r,account_active CHAR(1) CHARACTER SET LATIN NOT CASESPECIFIC\r,acct_start_date DATE FORMAT 'YYYYMMDD'\r,acct_end_date DATE FORMAT 'YYYYMMDD'\r,starting_balance DECIMAL(9,2) FORMAT '--Z(6)9.99'\r,ending_balance DECIMAL(9,2) FORMAT '--Z(6)9.99'\r\r       )\r UNIQUE PRIMARY INDEX ( cust_id );\",\"\",\"0\",\"0\",\"0\",\"N \",\"\",\"\",\"2023-12-18 10:14:23\",\"val\",\"2023-12-18 10:14:23\",\"\",\"\",\"\",\"1\",\"N \",\"N \",\"Y \",\"N \",\"N \",\"\",\"\",\"N \",\"\",\"\",\"1\",\"0\",\"\",\"\",\"\",\"\",\"\",\"\",\"\",\"\",\"\",\"\",\"DEFAULT\",\"DEFAULT\",\"DEFAULT\",\"0 \",\"0\",\"TD_Map1\",\"\",\"\",\"\",\"\",\"\"\n\"val\",\"checking_tran\",\"1\",\"T \",\"F \",\"NN  \",\"val\",\"CREATE SET TABLE checking_tran\r      ,NO BEFORE JOURNAL\r      ,NO AFTER JOURNAL\r      (\rcust_id INTEGER\r,tran_id INTEGER\r,tran_amt DECIMAL(9,2) FORMAT '--Z(6)9.99'\r,principal_amt DECIMAL(9,2) FORMAT '--Z(6)9.99'\r,interest_amt DECIMAL(9,2) FORMAT '--Z(6)9.99'\r,new_balance DECIMAL(9,2) FORMAT '--Z(6)9.99'\r,tran_date DATE FORMAT 'YYYYMMDD'\r,tran_time CHAR(6) CHARACTER SET LATIN NOT CASESPECIFIC\r,channel CHAR(1) CHARACTER SET LATIN NOT CASESPECIFIC\r,tran_code CHAR(2) CHARACTER SET LATIN NOT CASESPECIFIC\r\r       )\r UNIQUE PRIMARY INDEX ( cust_id,tran_id );\",\"\",\"0\",\"0\",\"0\",\"N \",\"\",\"\",\"2023-12-18 10:14:23\",\"val\",\"2023-12-18 10:14:23\",\"\",\"\",\"\",\"1\",\"N \",\"N \",\"Y \",\"N \",\"N \",\"\",\"\",\"N \",\"\",\"\",\"2\",\"0\",\"\",\"\",\"\",\"\",\"\",\"\",\"\",\"\",\"\",\"\",\"DEFAULT\",\"DEFAULT\",\"DEFAULT\",\"0 \",\"0\",\"TD_Map1\",\"\",\"\",\"\",\"\",\"\"\n\"val\",\"credit_acct\",\"1\",\"T \",\"F \",\"NN  \",\"val\",\"CREATE SET TABLE credit_acct\r      ,NO BEFORE JOURNAL\r      ,NO AFTER JOURNAL\r      (\rcust_id INTEGER\r,acct_nbr CHAR(16) CHARACTER SET LATIN NOT CASESPECIFIC\r,credit_limit INTEGER\r,credit_rating SMALLINT\r,account_active CHAR(1) CHARACTER SET LATIN NOT CASESPECIFIC\r,acct_start_date DATE FORMAT 'YYYYMMDD'\r,acct_end_date DATE FORMAT 'YYYYMMDD'\r,starting_balance DECIMAL(9,2) FORMAT '--Z(6)9.99'\r,ending_balance DECIMAL(9,2) FORMAT '--Z(6)9.99'\r\r       )\r UNIQUE PRIMARY INDEX ( cust_id );\",\"\",\"0\",\"0\",\"0\",\"N \",\"\",\"\",\"2023-12-18 10:14:25\",\"val\",\"2023-12-18 10:14:25\",\"\",\"\",\"\",\"1\",\"N \",\"N \",\"Y \",\"N \",\"N \",\"\",\"\",\"N \",\"\",\"\",\"1\",\"0\",\"\",\"\",\"\",\"\",\"\",\"\",\"\",\"\",\"\",\"\",\"DEFAULT\",\"DEFAULT\",\"DEFAULT\",\"0 \",\"0\",\"TD_Map1\",\"\",\"\",\"\",\"\",\"\"\n\"val\",\"credit_tran\",\"1\",\"T \",\"F \",\"NN  \",\"val\",\"CREATE SET TABLE credit_tran\r      ,NO BEFORE JOURNAL\r      ,NO AFTER JOURNAL\r      (\rcust_id INTEGER\r,tran_id INTEGER\r,tran_amt DECIMAL(9,2) FORMAT '--Z(6)9.99'\r,principal_amt DECIMAL(9,2) FORMAT '--Z(6)9.99'\r,interest_amt DECIMAL(9,2) FORMAT '--Z(6)9.99'\r,new_balance DECIMAL(9,2) FORMAT '--Z(6)9.99'\r,tran_date DATE FORMAT 'YYYYMMDD'\r,tran_time CHAR(6) CHARACTER SET LATIN NOT CASESPECIFIC\r,channel CHAR(1) CHARACTER SET LATIN NOT CASESPECIFIC\r,tran_code CHAR(2) CHARACTER SET LATIN NOT CASESPECIFIC\r\r       )\r UNIQUE PRIMARY INDEX ( cust_id,tran_id );\",\"\",\"0\",\"0\",\"0\",\"N \",\"\",\"\",\"2023-12-18 10:14:25\",\"val\",\"2023-12-18 10:14:25\",\"\",\"\",\"\",\"1\",\"N \",\"N \",\"Y \",\"N \",\"N \",\"\",\"\",\"N \",\"\",\"\",\"2\",\"0\",\"\",\"\",\"\",\"\",\"\",\"\",\"\",\"\",\"\",\"\",\"DEFAULT\",\"DEFAULT\",\"DEFAULT\",\"0 \",\"0\",\"TD_Map1\",\"\",\"\",\"\",\"\",\"\"",
      "text/html": [
       "<div class = \"td-resultset-table-div\" style = \"max-height: 100%; overflow-y: auto\">\n",
       "      <table class=\"tdhistory500084\"><style>\n",
       "      table.tdhistory500084 { display: block !important; min-height: 189px !important; overflow: auto !important; height: 189px !important; width: 100% !important; border: 1px solid rgb(207, 207, 207) !important; border-collapse: collapse !important; ; color: var(--jp-ui-font-color1) !important; }\n",
       "      th.tdhistory500084 { border: 1px solid rgb(198,198,198) !important; border-collapse: collapse !important; ; padding: 2px 5px !important; ; font-size: 13px !important; ; text-align: center !important; white-space: normal !important; color: var(--jp-ui-font-color1) !important; }\n",
       "      th.tdhistory500084:last-child { text-align: left !important; }\n",
       "      tbody.tdhistory500084 tr:nth-child(even) { background: rgba(243, 243, 243, 0.75) !important; }\n",
       "      tbody.tdhistory500084 tr:nth-child(odd) { background: var(--jp-ui-inverse-font-color1) !important; }\n",
       "      td.tdhistory500084 { border: 1px solid rgb(207, 207, 207) !important; border-collapse: collapse !important; ; padding: 2px 5px !important; ; font-size: 13px !important; ; text-align: left !important;          white-space: nowrap !important; overflow:hidden !important; text-overflow:ellipsis !important;; }\n",
       "    </style><thead><tr style= \"background: rgba(243, 243, 243, 0.75)\"><th class=\"tdhistory500084\"></th><th class=\"tdhistory500084\">DataBaseName</th><th class=\"tdhistory500084\">TableName</th><th class=\"tdhistory500084\">Version</th><th class=\"tdhistory500084\">TableKind</th><th class=\"tdhistory500084\">ProtectionType</th><th class=\"tdhistory500084\">JournalFlag</th><th class=\"tdhistory500084\">CreatorName</th><th class=\"tdhistory500084\">RequestText</th><th class=\"tdhistory500084\">CommentString</th><th class=\"tdhistory500084\">ParentCount</th><th class=\"tdhistory500084\">ChildCount</th><th class=\"tdhistory500084\">NamedTblCheckCount</th><th class=\"tdhistory500084\">UnnamedTblCheckExist</th><th class=\"tdhistory500084\">PrimaryKeyIndexId</th><th class=\"tdhistory500084\">RepStatus</th><th class=\"tdhistory500084\">CreateTimeStamp</th><th class=\"tdhistory500084\">LastAlterName</th><th class=\"tdhistory500084\">LastAlterTimeStamp</th><th class=\"tdhistory500084\">RequestTxtOverflow</th><th class=\"tdhistory500084\">AccessCount</th><th class=\"tdhistory500084\">LastAccessTimeStamp</th><th class=\"tdhistory500084\">UtilVersion</th><th class=\"tdhistory500084\">QueueFlag</th><th class=\"tdhistory500084\">CommitOpt</th><th class=\"tdhistory500084\">TransLog</th><th class=\"tdhistory500084\">CheckOpt</th><th class=\"tdhistory500084\">TemporalProperty</th><th class=\"tdhistory500084\">ResolvedCurrent_Date</th><th class=\"tdhistory500084\">ResolvedCurrent_Timestamp</th><th class=\"tdhistory500084\">SystemDefinedJI</th><th class=\"tdhistory500084\">VTQualifier</th><th class=\"tdhistory500084\">TTQualifier</th><th class=\"tdhistory500084\">PIColumnCount</th><th class=\"tdhistory500084\">PartitioningLevels</th><th class=\"tdhistory500084\">LoadProperty</th><th class=\"tdhistory500084\">CurrentLoadId</th><th class=\"tdhistory500084\">LoadIdLayout</th><th class=\"tdhistory500084\">DelayedJI</th><th class=\"tdhistory500084\">LastArchiveId</th><th class=\"tdhistory500084\">LastFullArchiveId</th><th class=\"tdhistory500084\">BlockSize</th><th class=\"tdhistory500084\">FreeSpacePercent</th><th class=\"tdhistory500084\">MergeBlockRatio</th><th class=\"tdhistory500084\">CheckSum</th><th class=\"tdhistory500084\">BlockCompression</th><th class=\"tdhistory500084\">BlockCompressionAlgorithm</th><th class=\"tdhistory500084\">BlockCompressionLevel</th><th class=\"tdhistory500084\">TableHeaderFormat</th><th class=\"tdhistory500084\">RowSizeFormat</th><th class=\"tdhistory500084\">MapName</th><th class=\"tdhistory500084\">ColocationName</th><th class=\"tdhistory500084\">TVMFlavor</th><th class=\"tdhistory500084\">FastAlterTable</th><th class=\"tdhistory500084\">IncrementalRestoreEnabled</th><th class=\"tdhistory500084\">AuthName</th></tr></thead><tbody class=\"tdhistory500084 resultset-body\"><tr><th class=\"tdhistory500084\" style= \"background: rgba(243, 243, 243, 0.75)\">1</th><td class=\"tdhistory500084\">val</td><td class=\"tdhistory500084\">accounts</td><td class=\"tdhistory500084\">1</td><td class=\"tdhistory500084\">T </td><td class=\"tdhistory500084\">F </td><td class=\"tdhistory500084\">NN  </td><td class=\"tdhistory500084\">val</td><td class=\"tdhistory500084\">CREATE SET TABLE accounts\r",
       "      ,NO BEFORE JOURNAL\r",
       "      ,NO AFTER JOURNAL\r",
       "      (\r",
       "acct_nbr CHAR(16) CHARACTER SET LATIN NOT CASESPECIFIC NOT NULL\r",
       ",cust_id INTEGER\r",
       ",acct_type CHAR(2) CHARACTER SET LATIN NOT CASESPECIFIC\r",
       ",account_active CHAR(1) CHARACTER SET LATIN NOT CASESPECIFIC\r",
       ",acct_start_date DATE FORMAT 'YYYY-MM-DD'\r",
       ",acct_end_date DATE FORMAT 'YYYY-MM-DD'\r",
       ",starting_balance DECIMAL(9,2)\r",
       ",ending_balance DECIMAL(9,2)\r",
       "\r",
       "       )\r",
       " UNIQUE PRIMARY INDEX ( acct_nbr );</td><td class=\"tdhistory500084\"></td><td class=\"tdhistory500084\">0</td><td class=\"tdhistory500084\">0</td><td class=\"tdhistory500084\">0</td><td class=\"tdhistory500084\">N </td><td class=\"tdhistory500084\"></td><td class=\"tdhistory500084\"></td><td class=\"tdhistory500084\">2023-12-18 10:14:23</td><td class=\"tdhistory500084\">val</td><td class=\"tdhistory500084\">2023-12-18 10:14:23</td><td class=\"tdhistory500084\"></td><td class=\"tdhistory500084\"></td><td class=\"tdhistory500084\"></td><td class=\"tdhistory500084\">1</td><td class=\"tdhistory500084\">N </td><td class=\"tdhistory500084\">N </td><td class=\"tdhistory500084\">Y </td><td class=\"tdhistory500084\">N </td><td class=\"tdhistory500084\">N </td><td class=\"tdhistory500084\"></td><td class=\"tdhistory500084\"></td><td class=\"tdhistory500084\">N </td><td class=\"tdhistory500084\"></td><td class=\"tdhistory500084\"></td><td class=\"tdhistory500084\">1</td><td class=\"tdhistory500084\">0</td><td class=\"tdhistory500084\"></td><td class=\"tdhistory500084\"></td><td class=\"tdhistory500084\"></td><td class=\"tdhistory500084\"></td><td class=\"tdhistory500084\"></td><td class=\"tdhistory500084\"></td><td class=\"tdhistory500084\"></td><td class=\"tdhistory500084\"></td><td class=\"tdhistory500084\"></td><td class=\"tdhistory500084\"></td><td class=\"tdhistory500084\">DEFAULT</td><td class=\"tdhistory500084\">DEFAULT</td><td class=\"tdhistory500084\">DEFAULT</td><td class=\"tdhistory500084\">0 </td><td class=\"tdhistory500084\">0</td><td class=\"tdhistory500084\">TD_Map1</td><td class=\"tdhistory500084\"></td><td class=\"tdhistory500084\"></td><td class=\"tdhistory500084\"></td><td class=\"tdhistory500084\"></td><td class=\"tdhistory500084\"></td></tr><tr><th class=\"tdhistory500084\" style= \"background: rgba(243, 243, 243, 0.75)\">2</th><td class=\"tdhistory500084\">val</td><td class=\"tdhistory500084\">checking_acct</td><td class=\"tdhistory500084\">1</td><td class=\"tdhistory500084\">T </td><td class=\"tdhistory500084\">F </td><td class=\"tdhistory500084\">NN  </td><td class=\"tdhistory500084\">val</td><td class=\"tdhistory500084\">CREATE SET TABLE checking_acct\r",
       "      ,NO BEFORE JOURNAL\r",
       "      ,NO AFTER JOURNAL\r",
       "      (\r",
       "cust_id INTEGER NOT NULL\r",
       ",acct_nbr CHAR(16) CHARACTER SET LATIN NOT CASESPECIFIC\r",
       ",minimum_balance INTEGER\r",
       ",per_check_fee DECIMAL(9,2) FORMAT '--Z(6)9.99'\r",
       ",account_active CHAR(1) CHARACTER SET LATIN NOT CASESPECIFIC\r",
       ",acct_start_date DATE FORMAT 'YYYYMMDD'\r",
       ",acct_end_date DATE FORMAT 'YYYYMMDD'\r",
       ",starting_balance DECIMAL(9,2) FORMAT '--Z(6)9.99'\r",
       ",ending_balance DECIMAL(9,2) FORMAT '--Z(6)9.99'\r",
       "\r",
       "       )\r",
       " UNIQUE PRIMARY INDEX ( cust_id );</td><td class=\"tdhistory500084\"></td><td class=\"tdhistory500084\">0</td><td class=\"tdhistory500084\">0</td><td class=\"tdhistory500084\">0</td><td class=\"tdhistory500084\">N </td><td class=\"tdhistory500084\"></td><td class=\"tdhistory500084\"></td><td class=\"tdhistory500084\">2023-12-18 10:14:23</td><td class=\"tdhistory500084\">val</td><td class=\"tdhistory500084\">2023-12-18 10:14:23</td><td class=\"tdhistory500084\"></td><td class=\"tdhistory500084\"></td><td class=\"tdhistory500084\"></td><td class=\"tdhistory500084\">1</td><td class=\"tdhistory500084\">N </td><td class=\"tdhistory500084\">N </td><td class=\"tdhistory500084\">Y </td><td class=\"tdhistory500084\">N </td><td class=\"tdhistory500084\">N </td><td class=\"tdhistory500084\"></td><td class=\"tdhistory500084\"></td><td class=\"tdhistory500084\">N </td><td class=\"tdhistory500084\"></td><td class=\"tdhistory500084\"></td><td class=\"tdhistory500084\">1</td><td class=\"tdhistory500084\">0</td><td class=\"tdhistory500084\"></td><td class=\"tdhistory500084\"></td><td class=\"tdhistory500084\"></td><td class=\"tdhistory500084\"></td><td class=\"tdhistory500084\"></td><td class=\"tdhistory500084\"></td><td class=\"tdhistory500084\"></td><td class=\"tdhistory500084\"></td><td class=\"tdhistory500084\"></td><td class=\"tdhistory500084\"></td><td class=\"tdhistory500084\">DEFAULT</td><td class=\"tdhistory500084\">DEFAULT</td><td class=\"tdhistory500084\">DEFAULT</td><td class=\"tdhistory500084\">0 </td><td class=\"tdhistory500084\">0</td><td class=\"tdhistory500084\">TD_Map1</td><td class=\"tdhistory500084\"></td><td class=\"tdhistory500084\"></td><td class=\"tdhistory500084\"></td><td class=\"tdhistory500084\"></td><td class=\"tdhistory500084\"></td></tr><tr><th class=\"tdhistory500084\" style= \"background: rgba(243, 243, 243, 0.75)\">3</th><td class=\"tdhistory500084\">val</td><td class=\"tdhistory500084\">checking_tran</td><td class=\"tdhistory500084\">1</td><td class=\"tdhistory500084\">T </td><td class=\"tdhistory500084\">F </td><td class=\"tdhistory500084\">NN  </td><td class=\"tdhistory500084\">val</td><td class=\"tdhistory500084\">CREATE SET TABLE checking_tran\r",
       "      ,NO BEFORE JOURNAL\r",
       "      ,NO AFTER JOURNAL\r",
       "      (\r",
       "cust_id INTEGER\r",
       ",tran_id INTEGER\r",
       ",tran_amt DECIMAL(9,2) FORMAT '--Z(6)9.99'\r",
       ",principal_amt DECIMAL(9,2) FORMAT '--Z(6)9.99'\r",
       ",interest_amt DECIMAL(9,2) FORMAT '--Z(6)9.99'\r",
       ",new_balance DECIMAL(9,2) FORMAT '--Z(6)9.99'\r",
       ",tran_date DATE FORMAT 'YYYYMMDD'\r",
       ",tran_time CHAR(6) CHARACTER SET LATIN NOT CASESPECIFIC\r",
       ",channel CHAR(1) CHARACTER SET LATIN NOT CASESPECIFIC\r",
       ",tran_code CHAR(2) CHARACTER SET LATIN NOT CASESPECIFIC\r",
       "\r",
       "       )\r",
       " UNIQUE PRIMARY INDEX ( cust_id,tran_id );</td><td class=\"tdhistory500084\"></td><td class=\"tdhistory500084\">0</td><td class=\"tdhistory500084\">0</td><td class=\"tdhistory500084\">0</td><td class=\"tdhistory500084\">N </td><td class=\"tdhistory500084\"></td><td class=\"tdhistory500084\"></td><td class=\"tdhistory500084\">2023-12-18 10:14:23</td><td class=\"tdhistory500084\">val</td><td class=\"tdhistory500084\">2023-12-18 10:14:23</td><td class=\"tdhistory500084\"></td><td class=\"tdhistory500084\"></td><td class=\"tdhistory500084\"></td><td class=\"tdhistory500084\">1</td><td class=\"tdhistory500084\">N </td><td class=\"tdhistory500084\">N </td><td class=\"tdhistory500084\">Y </td><td class=\"tdhistory500084\">N </td><td class=\"tdhistory500084\">N </td><td class=\"tdhistory500084\"></td><td class=\"tdhistory500084\"></td><td class=\"tdhistory500084\">N </td><td class=\"tdhistory500084\"></td><td class=\"tdhistory500084\"></td><td class=\"tdhistory500084\">2</td><td class=\"tdhistory500084\">0</td><td class=\"tdhistory500084\"></td><td class=\"tdhistory500084\"></td><td class=\"tdhistory500084\"></td><td class=\"tdhistory500084\"></td><td class=\"tdhistory500084\"></td><td class=\"tdhistory500084\"></td><td class=\"tdhistory500084\"></td><td class=\"tdhistory500084\"></td><td class=\"tdhistory500084\"></td><td class=\"tdhistory500084\"></td><td class=\"tdhistory500084\">DEFAULT</td><td class=\"tdhistory500084\">DEFAULT</td><td class=\"tdhistory500084\">DEFAULT</td><td class=\"tdhistory500084\">0 </td><td class=\"tdhistory500084\">0</td><td class=\"tdhistory500084\">TD_Map1</td><td class=\"tdhistory500084\"></td><td class=\"tdhistory500084\"></td><td class=\"tdhistory500084\"></td><td class=\"tdhistory500084\"></td><td class=\"tdhistory500084\"></td></tr><tr><th class=\"tdhistory500084\" style= \"background: rgba(243, 243, 243, 0.75)\">4</th><td class=\"tdhistory500084\">val</td><td class=\"tdhistory500084\">credit_acct</td><td class=\"tdhistory500084\">1</td><td class=\"tdhistory500084\">T </td><td class=\"tdhistory500084\">F </td><td class=\"tdhistory500084\">NN  </td><td class=\"tdhistory500084\">val</td><td class=\"tdhistory500084\">CREATE SET TABLE credit_acct\r",
       "      ,NO BEFORE JOURNAL\r",
       "      ,NO AFTER JOURNAL\r",
       "      (\r",
       "cust_id INTEGER\r",
       ",acct_nbr CHAR(16) CHARACTER SET LATIN NOT CASESPECIFIC\r",
       ",credit_limit INTEGER\r",
       ",credit_rating SMALLINT\r",
       ",account_active CHAR(1) CHARACTER SET LATIN NOT CASESPECIFIC\r",
       ",acct_start_date DATE FORMAT 'YYYYMMDD'\r",
       ",acct_end_date DATE FORMAT 'YYYYMMDD'\r",
       ",starting_balance DECIMAL(9,2) FORMAT '--Z(6)9.99'\r",
       ",ending_balance DECIMAL(9,2) FORMAT '--Z(6)9.99'\r",
       "\r",
       "       )\r",
       " UNIQUE PRIMARY INDEX ( cust_id );</td><td class=\"tdhistory500084\"></td><td class=\"tdhistory500084\">0</td><td class=\"tdhistory500084\">0</td><td class=\"tdhistory500084\">0</td><td class=\"tdhistory500084\">N </td><td class=\"tdhistory500084\"></td><td class=\"tdhistory500084\"></td><td class=\"tdhistory500084\">2023-12-18 10:14:25</td><td class=\"tdhistory500084\">val</td><td class=\"tdhistory500084\">2023-12-18 10:14:25</td><td class=\"tdhistory500084\"></td><td class=\"tdhistory500084\"></td><td class=\"tdhistory500084\"></td><td class=\"tdhistory500084\">1</td><td class=\"tdhistory500084\">N </td><td class=\"tdhistory500084\">N </td><td class=\"tdhistory500084\">Y </td><td class=\"tdhistory500084\">N </td><td class=\"tdhistory500084\">N </td><td class=\"tdhistory500084\"></td><td class=\"tdhistory500084\"></td><td class=\"tdhistory500084\">N </td><td class=\"tdhistory500084\"></td><td class=\"tdhistory500084\"></td><td class=\"tdhistory500084\">1</td><td class=\"tdhistory500084\">0</td><td class=\"tdhistory500084\"></td><td class=\"tdhistory500084\"></td><td class=\"tdhistory500084\"></td><td class=\"tdhistory500084\"></td><td class=\"tdhistory500084\"></td><td class=\"tdhistory500084\"></td><td class=\"tdhistory500084\"></td><td class=\"tdhistory500084\"></td><td class=\"tdhistory500084\"></td><td class=\"tdhistory500084\"></td><td class=\"tdhistory500084\">DEFAULT</td><td class=\"tdhistory500084\">DEFAULT</td><td class=\"tdhistory500084\">DEFAULT</td><td class=\"tdhistory500084\">0 </td><td class=\"tdhistory500084\">0</td><td class=\"tdhistory500084\">TD_Map1</td><td class=\"tdhistory500084\"></td><td class=\"tdhistory500084\"></td><td class=\"tdhistory500084\"></td><td class=\"tdhistory500084\"></td><td class=\"tdhistory500084\"></td></tr><tr><th class=\"tdhistory500084\" style= \"background: rgba(243, 243, 243, 0.75)\">5</th><td class=\"tdhistory500084\">val</td><td class=\"tdhistory500084\">credit_tran</td><td class=\"tdhistory500084\">1</td><td class=\"tdhistory500084\">T </td><td class=\"tdhistory500084\">F </td><td class=\"tdhistory500084\">NN  </td><td class=\"tdhistory500084\">val</td><td class=\"tdhistory500084\">CREATE SET TABLE credit_tran\r",
       "      ,NO BEFORE JOURNAL\r",
       "      ,NO AFTER JOURNAL\r",
       "      (\r",
       "cust_id INTEGER\r",
       ",tran_id INTEGER\r",
       ",tran_amt DECIMAL(9,2) FORMAT '--Z(6)9.99'\r",
       ",principal_amt DECIMAL(9,2) FORMAT '--Z(6)9.99'\r",
       ",interest_amt DECIMAL(9,2) FORMAT '--Z(6)9.99'\r",
       ",new_balance DECIMAL(9,2) FORMAT '--Z(6)9.99'\r",
       ",tran_date DATE FORMAT 'YYYYMMDD'\r",
       ",tran_time CHAR(6) CHARACTER SET LATIN NOT CASESPECIFIC\r",
       ",channel CHAR(1) CHARACTER SET LATIN NOT CASESPECIFIC\r",
       ",tran_code CHAR(2) CHARACTER SET LATIN NOT CASESPECIFIC\r",
       "\r",
       "       )\r",
       " UNIQUE PRIMARY INDEX ( cust_id,tran_id );</td><td class=\"tdhistory500084\"></td><td class=\"tdhistory500084\">0</td><td class=\"tdhistory500084\">0</td><td class=\"tdhistory500084\">0</td><td class=\"tdhistory500084\">N </td><td class=\"tdhistory500084\"></td><td class=\"tdhistory500084\"></td><td class=\"tdhistory500084\">2023-12-18 10:14:25</td><td class=\"tdhistory500084\">val</td><td class=\"tdhistory500084\">2023-12-18 10:14:25</td><td class=\"tdhistory500084\"></td><td class=\"tdhistory500084\"></td><td class=\"tdhistory500084\"></td><td class=\"tdhistory500084\">1</td><td class=\"tdhistory500084\">N </td><td class=\"tdhistory500084\">N </td><td class=\"tdhistory500084\">Y </td><td class=\"tdhistory500084\">N </td><td class=\"tdhistory500084\">N </td><td class=\"tdhistory500084\"></td><td class=\"tdhistory500084\"></td><td class=\"tdhistory500084\">N </td><td class=\"tdhistory500084\"></td><td class=\"tdhistory500084\"></td><td class=\"tdhistory500084\">2</td><td class=\"tdhistory500084\">0</td><td class=\"tdhistory500084\"></td><td class=\"tdhistory500084\"></td><td class=\"tdhistory500084\"></td><td class=\"tdhistory500084\"></td><td class=\"tdhistory500084\"></td><td class=\"tdhistory500084\"></td><td class=\"tdhistory500084\"></td><td class=\"tdhistory500084\"></td><td class=\"tdhistory500084\"></td><td class=\"tdhistory500084\"></td><td class=\"tdhistory500084\">DEFAULT</td><td class=\"tdhistory500084\">DEFAULT</td><td class=\"tdhistory500084\">DEFAULT</td><td class=\"tdhistory500084\">0 </td><td class=\"tdhistory500084\">0</td><td class=\"tdhistory500084\">TD_Map1</td><td class=\"tdhistory500084\"></td><td class=\"tdhistory500084\"></td><td class=\"tdhistory500084\"></td><td class=\"tdhistory500084\"></td><td class=\"tdhistory500084\"></td></tr></tbody></table></div>"
      ]
     },
     "execution_count": 10,
     "metadata": {
      "application/vnd.teradata.resultset": "{\"resultSetID\":\"/home/jovyan/JupyterLabRoot/Teradata/Resultsets/2023.12.21_05.42.47.981_UTC\",\"historyID\":242,\"chunkID\":\"00001\",\"sessionid\":\"\",\"portnum\":\"\",\"dockermode\":\"docker\",\"totalRowCount\":5,\"chunkCount\":0,\"rowLimit\":0,\"columnMetadata\":[{\"columnName\":\"DataBaseName\",\"columnTypeName\":\"VARCHAR\",\"length\":128,\"scale\":128},{\"columnNumber\":1,\"columnName\":\"TableName\",\"columnTypeName\":\"VARCHAR\",\"length\":128,\"scale\":128},{\"columnNumber\":2,\"columnName\":\"Version\",\"columnTypeName\":\"SMALLINT\"},{\"columnNumber\":3,\"columnName\":\"TableKind\",\"columnTypeName\":\"CHAR\",\"length\":1,\"scale\":1},{\"columnNumber\":4,\"columnName\":\"ProtectionType\",\"columnTypeName\":\"CHAR\",\"length\":1,\"scale\":1},{\"columnNumber\":5,\"columnName\":\"JournalFlag\",\"columnTypeName\":\"CHAR\",\"length\":2,\"scale\":2},{\"columnNumber\":6,\"columnName\":\"CreatorName\",\"columnTypeName\":\"VARCHAR\",\"length\":128,\"scale\":128},{\"columnNumber\":7,\"columnName\":\"RequestText\",\"columnTypeName\":\"VARCHAR\",\"length\":12500,\"scale\":12500},{\"columnNumber\":8,\"columnName\":\"CommentString\",\"columnTypeName\":\"VARCHAR\",\"length\":255,\"scale\":255},{\"columnNumber\":9,\"columnName\":\"ParentCount\",\"columnTypeName\":\"SMALLINT\"},{\"columnNumber\":10,\"columnName\":\"ChildCount\",\"columnTypeName\":\"SMALLINT\"},{\"columnNumber\":11,\"columnName\":\"NamedTblCheckCount\",\"columnTypeName\":\"SMALLINT\"},{\"columnNumber\":12,\"columnName\":\"UnnamedTblCheckExist\",\"columnTypeName\":\"CHAR\",\"length\":1,\"scale\":1},{\"columnNumber\":13,\"columnName\":\"PrimaryKeyIndexId\",\"columnTypeName\":\"SMALLINT\"},{\"columnNumber\":14,\"columnName\":\"RepStatus\",\"columnTypeName\":\"CHAR\",\"length\":1,\"scale\":1},{\"columnNumber\":15,\"columnName\":\"CreateTimeStamp\",\"columnTypeName\":\"TIMESTAMP\"},{\"columnNumber\":16,\"columnName\":\"LastAlterName\",\"columnTypeName\":\"VARCHAR\",\"length\":128,\"scale\":128},{\"columnNumber\":17,\"columnName\":\"LastAlterTimeStamp\",\"columnTypeName\":\"TIMESTAMP\"},{\"columnNumber\":18,\"columnName\":\"RequestTxtOverflow\",\"columnTypeName\":\"CHAR\",\"length\":1,\"scale\":1},{\"columnNumber\":19,\"columnName\":\"AccessCount\",\"columnTypeName\":\"BIGINT\"},{\"columnNumber\":20,\"columnName\":\"LastAccessTimeStamp\",\"columnTypeName\":\"TIMESTAMP\"},{\"columnNumber\":21,\"columnName\":\"UtilVersion\",\"columnTypeName\":\"SMALLINT\"},{\"columnNumber\":22,\"columnName\":\"QueueFlag\",\"columnTypeName\":\"CHAR\",\"length\":1,\"scale\":1},{\"columnNumber\":23,\"columnName\":\"CommitOpt\",\"columnTypeName\":\"CHAR\",\"length\":1,\"scale\":1},{\"columnNumber\":24,\"columnName\":\"TransLog\",\"columnTypeName\":\"CHAR\",\"length\":1,\"scale\":1},{\"columnNumber\":25,\"columnName\":\"CheckOpt\",\"columnTypeName\":\"CHAR\",\"length\":1,\"scale\":1},{\"columnNumber\":26,\"columnName\":\"TemporalProperty\",\"columnTypeName\":\"CHAR\",\"length\":1,\"scale\":1},{\"columnNumber\":27,\"columnName\":\"ResolvedCurrent_Date\",\"columnTypeName\":\"DATE\"},{\"columnNumber\":28,\"columnName\":\"ResolvedCurrent_Timestamp\",\"columnTypeName\":\"TIMESTAMP WITH TIME ZONE\",\"length\":6,\"scale\":6},{\"columnNumber\":29,\"columnName\":\"SystemDefinedJI\",\"columnTypeName\":\"CHAR\",\"length\":1,\"scale\":1},{\"columnNumber\":30,\"columnName\":\"VTQualifier\",\"columnTypeName\":\"CHAR\",\"length\":1,\"scale\":1},{\"columnNumber\":31,\"columnName\":\"TTQualifier\",\"columnTypeName\":\"CHAR\",\"length\":1,\"scale\":1},{\"columnNumber\":32,\"columnName\":\"PIColumnCount\",\"columnTypeName\":\"SMALLINT\"},{\"columnNumber\":33,\"columnName\":\"PartitioningLevels\",\"columnTypeName\":\"SMALLINT\"},{\"columnNumber\":34,\"columnName\":\"LoadProperty\",\"columnTypeName\":\"CHAR\",\"length\":1,\"scale\":1},{\"columnNumber\":35,\"columnName\":\"CurrentLoadId\",\"columnTypeName\":\"INTEGER\"},{\"columnNumber\":36,\"columnName\":\"LoadIdLayout\",\"columnTypeName\":\"CHAR\",\"length\":1,\"scale\":1},{\"columnNumber\":37,\"columnName\":\"DelayedJI\",\"columnTypeName\":\"CHAR\",\"length\":1,\"scale\":1},{\"columnNumber\":38,\"columnName\":\"LastArchiveId\",\"columnTypeName\":\"BIGINT\"},{\"columnNumber\":39,\"columnName\":\"LastFullArchiveId\",\"columnTypeName\":\"BIGINT\"},{\"columnNumber\":40,\"columnName\":\"BlockSize\",\"columnTypeName\":\"INTEGER\"},{\"columnNumber\":41,\"columnName\":\"FreeSpacePercent\",\"columnTypeName\":\"BYTEINT\"},{\"columnNumber\":42,\"columnName\":\"MergeBlockRatio\",\"columnTypeName\":\"BYTEINT\"},{\"columnNumber\":43,\"columnName\":\"CheckSum\",\"columnTypeName\":\"CHAR\",\"length\":1,\"scale\":1},{\"columnNumber\":44,\"columnName\":\"BlockCompression\",\"columnTypeName\":\"VARCHAR\",\"length\":8,\"scale\":8},{\"columnNumber\":45,\"columnName\":\"BlockCompressionAlgorithm\",\"columnTypeName\":\"VARCHAR\",\"length\":7,\"scale\":7},{\"columnNumber\":46,\"columnName\":\"BlockCompressionLevel\",\"columnTypeName\":\"VARCHAR\",\"length\":7,\"scale\":7},{\"columnNumber\":47,\"columnName\":\"TableHeaderFormat\",\"columnTypeName\":\"CHAR\",\"length\":1,\"scale\":1},{\"columnNumber\":48,\"columnName\":\"RowSizeFormat\",\"columnTypeName\":\"VARCHAR\",\"length\":1,\"scale\":1},{\"columnNumber\":49,\"columnName\":\"MapName\",\"columnTypeName\":\"VARCHAR\",\"length\":128,\"scale\":128},{\"columnNumber\":50,\"columnName\":\"ColocationName\",\"columnTypeName\":\"VARCHAR\",\"length\":128,\"scale\":128},{\"columnNumber\":51,\"columnName\":\"TVMFlavor\",\"columnTypeName\":\"CHAR\",\"length\":1,\"scale\":1},{\"columnNumber\":52,\"columnName\":\"FastAlterTable\",\"columnTypeName\":\"CHAR\",\"length\":1,\"scale\":1},{\"columnNumber\":53,\"columnName\":\"IncrementalRestoreEnabled\",\"columnTypeName\":\"INTEGER\"},{\"columnNumber\":54,\"columnName\":\"AuthName\",\"columnTypeName\":\"VARCHAR\",\"length\":128,\"scale\":128}]}"
     },
     "output_type": "execute_result"
    }
   ],
   "source": [
    "SELECT TOP 5 * FROM DBC.TablesV\n",
    "WHERE TableKind = 'T'\n",
    "ORDER BY DatabaseName DESC, TableName "
   ]
  },
  {
   "cell_type": "markdown",
   "metadata": {},
   "source": [
    "<p style = 'font-size:16px;font-family:Arial;color:#00233C'>We use the SQL keyword **AND** and **OR** with parenthesis to define any logic. For example, to select only the CreatorName of DBC OR SYSADM:</p>"
   ]
  },
  {
   "cell_type": "code",
   "execution_count": 11,
   "metadata": {},
   "outputs": [
    {
     "data": {
      "application/vnd.teradata.resultset": "\"DataBaseName\",\"TableName\",\"Version\",\"TableKind\",\"ProtectionType\",\"JournalFlag\",\"CreatorName\",\"RequestText\",\"CommentString\",\"ParentCount\",\"ChildCount\",\"NamedTblCheckCount\",\"UnnamedTblCheckExist\",\"PrimaryKeyIndexId\",\"RepStatus\",\"CreateTimeStamp\",\"LastAlterName\",\"LastAlterTimeStamp\",\"RequestTxtOverflow\",\"AccessCount\",\"LastAccessTimeStamp\",\"UtilVersion\",\"QueueFlag\",\"CommitOpt\",\"TransLog\",\"CheckOpt\",\"TemporalProperty\",\"ResolvedCurrent_Date\",\"ResolvedCurrent_Timestamp\",\"SystemDefinedJI\",\"VTQualifier\",\"TTQualifier\",\"PIColumnCount\",\"PartitioningLevels\",\"LoadProperty\",\"CurrentLoadId\",\"LoadIdLayout\",\"DelayedJI\",\"LastArchiveId\",\"LastFullArchiveId\",\"BlockSize\",\"FreeSpacePercent\",\"MergeBlockRatio\",\"CheckSum\",\"BlockCompression\",\"BlockCompressionAlgorithm\",\"BlockCompressionLevel\",\"TableHeaderFormat\",\"RowSizeFormat\",\"MapName\",\"ColocationName\",\"TVMFlavor\",\"FastAlterTable\",\"IncrementalRestoreEnabled\",\"AuthName\"\n\"TD_SERVER_DB\",\"TD_PushProfileInfo\",\"1\",\"T \",\"F \",\"NN  \",\"DBC\",\"CREATE SET TABLE TD_SERVER_DB.TD_PushProfileInfo, FALLBACK,\r     NO BEFORE JOURNAL,\r     NO AFTER JOURNAL,\r     CHECKSUM = DEFAULT,\r     DEFAULT MERGEBLOCKRATIO\r     (\r      PushProfileID INTEGER NOT NULL,\r      PushProfileName VARCHAR(128) CHARACTER SET UNICODE NOT CASESPECIFIC NOT NULL,\r      RemoteSystemFlavour VARCHAR(128) CHARACTER SET UNICODE NOT CASESPECIFIC NOT NULL,\r      RemoteSystemVersion VARCHAR(128) CHARACTER SET UNICODE NOT CASESPECIFIC NOT NULL,\r      Hosttype VARCHAR(64) CHARACTER SET UNICODE NOT CASESPECIFIC NOT NULL,\r      RemoteMapping JSON(8388096) CHARACTER SET UNICODE,\r      RemoteMappingInternal VARBYTE(30000),\r      ProfileInstallVersion INTEGER NOT NULL)\rUNIQUE PRIMARY INDEX (PushProfileName),\rUNIQUE INDEX(PushProfileID);\",\"The TD_SERVER_DB.TD_PushProfileInfo controls the operations that can be push to remote databases.\",\"0\",\"0\",\"0\",\"N \",\"\",\"\",\"2023-12-18 10:09:05\",\"DBC\",\"2023-12-18 10:09:05\",\"\",\"\",\"\",\"1\",\"N \",\"N \",\"Y \",\"N \",\"N \",\"\",\"\",\"N \",\"\",\"\",\"1\",\"0\",\"\",\"\",\"\",\"\",\"\",\"\",\"\",\"\",\"60\",\"\",\"DEFAULT\",\"DEFAULT\",\"DEFAULT\",\"0 \",\"0\",\"TD_Map1\",\"\",\"\",\"\",\"\",\"\"\n\"TD_ANALYTICS_DB\",\"METADATA_OBJECTS\",\"1\",\"T \",\"F \",\"NN  \",\"DBC\",\"CREATE TABLE TD_ANALYTICS_DB.METADATA_OBJECTS(\r    ObjectName VARCHAR(128) CHARACTER SET UNICODE,\r    ObjectType   VARCHAR(100) CHARACTER SET UNICODE,\r    VarcharCol   VARCHAR(32000) CHARACTER SET UNICODE,\r    ClobCol      CLOB CHARACTER SET UNICODE,\r    VarbyteCol   VARBYTE(64000),\r    BlobCol      BLOB,\r    JsonCol      JSON INLINE LENGTH 32000 CHARACTER SET UNICODE,\r    DatasetCol   DATASET INLINE LENGTH 64000 STORAGE FORMAT AVRO,\r\r    CHECK (\r        (VarcharCol IS NOT NULL AND ClobCol IS NULL AND VarbyteCol IS NULL AND BlobCol IS NULL AND JsonCol IS NULL AND DatasetCol IS NULL) OR\r        (VarcharCol IS NULL AND ClobCol IS NOT NULL AND VarbyteCol IS NULL AND BlobCol IS NULL AND JsonCol IS NULL AND DatasetCol IS NULL) OR\r        (VarcharCol IS NULL AND ClobCol IS NULL AND VarbyteCol IS NOT NULL AND BlobCol IS NULL AND JsonCol IS NULL AND DatasetCol IS NULL) OR\r        (VarcharCol IS NULL AND ClobCol IS NULL AND VarbyteCol IS NULL AND BlobCol IS NOT NULL AND JsonCol IS NULL AND DatasetCol IS NULL) OR\r        (VarcharCol IS NULL AND ClobCol IS NULL AND VarbyteCol IS NULL AND BlobCol IS NULL AND JsonCol IS NOT NULL AND DatasetCol IS NULL) OR\r        (VarcharCol IS NULL AND ClobCol IS NULL AND VarbyteCol IS NULL AND BlobCol IS NULL AND JsonCol IS NULL AND DatasetCol IS NOT NULL) )\r\r)UNIQUE PRIMARY INDEX(ObjectName);\",\"Table to store metadata object which will be use by analytic functions.\",\"0\",\"0\",\"0\",\"Y \",\"\",\"\",\"2023-12-18 10:02:44\",\"DBC\",\"2023-12-18 10:02:44\",\"\",\"\",\"\",\"1\",\"N \",\"N \",\"Y \",\"N \",\"N \",\"\",\"\",\"N \",\"\",\"\",\"1\",\"0\",\"\",\"\",\"\",\"\",\"\",\"\",\"\",\"\",\"\",\"\",\"DEFAULT\",\"DEFAULT\",\"DEFAULT\",\"0 \",\"1\",\"TD_Map1\",\"\",\"\",\"\",\"\",\"\"\n\"tdwm\",\"Actions\",\"1\",\"T \",\"F \",\"NN  \",\"DBC\",\"CREATE TABLE Actions (  ActionId    INTEGER NOT NULL, CreateDate  INTEGER NOT NULL, CreateTime  INTEGER FORMAT '99:99:99' NOT NULL, RemoveDate  INTEGER NOT NULL, RemoveTime  INTEGER FORMAT '99:99:99' NOT NULL, Description VARCHAR(80) CHARACTER SET UNICODE, ConfigId    INTEGER NOT NULL, ParentId    INTEGER NOT NULL, VersionNo   INTEGER NOT NULL, ActionName  VARCHAR(30) CHARACTER SET UNICODE NOT NULL, ActionType  VARCHAR(10) CHARACTER SET UNICODE NOT NULL, SysConId    INTEGER, OpEnvId     INTEGER, ActionValue INTEGER, ActionInfo  VARCHAR(120) CHARACTER SET UNICODE) PRIMARY INDEX (ActionId);\",\"\",\"0\",\"0\",\"0\",\"N \",\"\",\"\",\"2023-12-18 10:10:54\",\"DBC\",\"2023-12-18 10:10:54\",\"\",\"\",\"\",\"1\",\"N \",\"N \",\"Y \",\"N \",\"N \",\"\",\"\",\"N \",\"\",\"\",\"1\",\"0\",\"\",\"\",\"\",\"\",\"\",\"\",\"\",\"\",\"\",\"\",\"DEFAULT\",\"DEFAULT\",\"DEFAULT\",\"0 \",\"0\",\"TD_Map1\",\"\",\"\",\"\",\"\",\"\"\n\"tdwm\",\"AllocGroups\",\"1\",\"T \",\"F \",\"NN  \",\"DBC\",\"CREATE TABLE AllocGroups (  AllocGroupId  INTEGER NOT NULL, CreateDate  INTEGER NOT NULL, CreateTime  INTEGER FORMAT '99:99:99' NOT NULL, RemoveDate  INTEGER NOT NULL, RemoveTime  INTEGER FORMAT '99:99:99' NOT NULL, Description VARCHAR(80) CHARACTER SET UNICODE, ConfigId    INTEGER NOT NULL, ParentId    INTEGER NOT NULL, VersionNo   INTEGER NOT NULL, RscPartitionId  INTEGER NOT NULL, AGName      VARCHAR(16) CHARACTER SET UNICODE NOT NULL, AGNumber    INTEGER, SlgPriority INTEGER) PRIMARY INDEX (AllocGroupId);\",\"\",\"0\",\"0\",\"0\",\"N \",\"\",\"\",\"2023-12-18 10:10:57\",\"DBC\",\"2023-12-18 10:10:57\",\"\",\"\",\"\",\"1\",\"N \",\"N \",\"Y \",\"N \",\"N \",\"\",\"\",\"N \",\"\",\"\",\"1\",\"0\",\"\",\"\",\"\",\"\",\"\",\"\",\"\",\"\",\"\",\"\",\"DEFAULT\",\"DEFAULT\",\"DEFAULT\",\"0 \",\"0\",\"TD_Map1\",\"\",\"\",\"\",\"\",\"\"\n\"tdwm\",\"AllocGroupStates\",\"1\",\"T \",\"F \",\"NN  \",\"DBC\",\"CREATE TABLE AllocGroupStates (  AllocGroupId  INTEGER NOT NULL, StateId     INTEGER NOT NULL, CreateDate  INTEGER NOT NULL, CreateTime  INTEGER FORMAT '99:99:99' NOT NULL, RemoveDate  INTEGER NOT NULL, RemoveTime  INTEGER FORMAT '99:99:99' NOT NULL, Description VARCHAR(80) CHARACTER SET UNICODE, ConfigId    INTEGER NOT NULL, ParentId    INTEGER NOT NULL, VersionNo   INTEGER NOT NULL, Expedited   INTEGER DEFAULT 0, AGWeight    INTEGER, CpuLimit    INTEGER) PRIMARY INDEX (AllocGroupId, StateId);\",\"\",\"0\",\"0\",\"0\",\"N \",\"\",\"\",\"2023-12-18 10:10:57\",\"DBC\",\"2023-12-18 10:10:57\",\"\",\"\",\"\",\"1\",\"N \",\"N \",\"Y \",\"N \",\"N \",\"\",\"\",\"N \",\"\",\"\",\"2\",\"0\",\"\",\"\",\"\",\"\",\"\",\"\",\"\",\"\",\"\",\"\",\"DEFAULT\",\"DEFAULT\",\"DEFAULT\",\"0 \",\"0\",\"TD_Map1\",\"\",\"\",\"\",\"\",\"\"",
      "text/html": [
       "<div class = \"td-resultset-table-div\" style = \"max-height: 100%; overflow-y: auto\">\n",
       "      <table class=\"tdhistory540972\"><style>\n",
       "      table.tdhistory540972 { display: block !important; min-height: 189px !important; overflow: auto !important; height: 189px !important; width: 100% !important; border: 1px solid rgb(207, 207, 207) !important; border-collapse: collapse !important; ; color: var(--jp-ui-font-color1) !important; }\n",
       "      th.tdhistory540972 { border: 1px solid rgb(198,198,198) !important; border-collapse: collapse !important; ; padding: 2px 5px !important; ; font-size: 13px !important; ; text-align: center !important; white-space: normal !important; color: var(--jp-ui-font-color1) !important; }\n",
       "      th.tdhistory540972:last-child { text-align: left !important; }\n",
       "      tbody.tdhistory540972 tr:nth-child(even) { background: rgba(243, 243, 243, 0.75) !important; }\n",
       "      tbody.tdhistory540972 tr:nth-child(odd) { background: var(--jp-ui-inverse-font-color1) !important; }\n",
       "      td.tdhistory540972 { border: 1px solid rgb(207, 207, 207) !important; border-collapse: collapse !important; ; padding: 2px 5px !important; ; font-size: 13px !important; ; text-align: left !important;          white-space: nowrap !important; overflow:hidden !important; text-overflow:ellipsis !important;; }\n",
       "    </style><thead><tr style= \"background: rgba(243, 243, 243, 0.75)\"><th class=\"tdhistory540972\"></th><th class=\"tdhistory540972\">DataBaseName</th><th class=\"tdhistory540972\">TableName</th><th class=\"tdhistory540972\">Version</th><th class=\"tdhistory540972\">TableKind</th><th class=\"tdhistory540972\">ProtectionType</th><th class=\"tdhistory540972\">JournalFlag</th><th class=\"tdhistory540972\">CreatorName</th><th class=\"tdhistory540972\">RequestText</th><th class=\"tdhistory540972\">CommentString</th><th class=\"tdhistory540972\">ParentCount</th><th class=\"tdhistory540972\">ChildCount</th><th class=\"tdhistory540972\">NamedTblCheckCount</th><th class=\"tdhistory540972\">UnnamedTblCheckExist</th><th class=\"tdhistory540972\">PrimaryKeyIndexId</th><th class=\"tdhistory540972\">RepStatus</th><th class=\"tdhistory540972\">CreateTimeStamp</th><th class=\"tdhistory540972\">LastAlterName</th><th class=\"tdhistory540972\">LastAlterTimeStamp</th><th class=\"tdhistory540972\">RequestTxtOverflow</th><th class=\"tdhistory540972\">AccessCount</th><th class=\"tdhistory540972\">LastAccessTimeStamp</th><th class=\"tdhistory540972\">UtilVersion</th><th class=\"tdhistory540972\">QueueFlag</th><th class=\"tdhistory540972\">CommitOpt</th><th class=\"tdhistory540972\">TransLog</th><th class=\"tdhistory540972\">CheckOpt</th><th class=\"tdhistory540972\">TemporalProperty</th><th class=\"tdhistory540972\">ResolvedCurrent_Date</th><th class=\"tdhistory540972\">ResolvedCurrent_Timestamp</th><th class=\"tdhistory540972\">SystemDefinedJI</th><th class=\"tdhistory540972\">VTQualifier</th><th class=\"tdhistory540972\">TTQualifier</th><th class=\"tdhistory540972\">PIColumnCount</th><th class=\"tdhistory540972\">PartitioningLevels</th><th class=\"tdhistory540972\">LoadProperty</th><th class=\"tdhistory540972\">CurrentLoadId</th><th class=\"tdhistory540972\">LoadIdLayout</th><th class=\"tdhistory540972\">DelayedJI</th><th class=\"tdhistory540972\">LastArchiveId</th><th class=\"tdhistory540972\">LastFullArchiveId</th><th class=\"tdhistory540972\">BlockSize</th><th class=\"tdhistory540972\">FreeSpacePercent</th><th class=\"tdhistory540972\">MergeBlockRatio</th><th class=\"tdhistory540972\">CheckSum</th><th class=\"tdhistory540972\">BlockCompression</th><th class=\"tdhistory540972\">BlockCompressionAlgorithm</th><th class=\"tdhistory540972\">BlockCompressionLevel</th><th class=\"tdhistory540972\">TableHeaderFormat</th><th class=\"tdhistory540972\">RowSizeFormat</th><th class=\"tdhistory540972\">MapName</th><th class=\"tdhistory540972\">ColocationName</th><th class=\"tdhistory540972\">TVMFlavor</th><th class=\"tdhistory540972\">FastAlterTable</th><th class=\"tdhistory540972\">IncrementalRestoreEnabled</th><th class=\"tdhistory540972\">AuthName</th></tr></thead><tbody class=\"tdhistory540972 resultset-body\"><tr><th class=\"tdhistory540972\" style= \"background: rgba(243, 243, 243, 0.75)\">1</th><td class=\"tdhistory540972\">TD_SERVER_DB</td><td class=\"tdhistory540972\">TD_PushProfileInfo</td><td class=\"tdhistory540972\">1</td><td class=\"tdhistory540972\">T </td><td class=\"tdhistory540972\">F </td><td class=\"tdhistory540972\">NN  </td><td class=\"tdhistory540972\">DBC</td><td class=\"tdhistory540972\">CREATE SET TABLE TD_SERVER_DB.TD_PushProfileInfo, FALLBACK,\r",
       "     NO BEFORE JOURNAL,\r",
       "     NO AFTER JOURNAL,\r",
       "     CHECKSUM = DEFAULT,\r",
       "     DEFAULT MERGEBLOCKRATIO\r",
       "     (\r",
       "      PushProfileID INTEGER NOT NULL,\r",
       "      PushProfileName VARCHAR(128) CHARACTER SET UNICODE NOT CASESPECIFIC NOT NULL,\r",
       "      RemoteSystemFlavour VARCHAR(128) CHARACTER SET UNICODE NOT CASESPECIFIC NOT NULL,\r",
       "      RemoteSystemVersion VARCHAR(128) CHARACTER SET UNICODE NOT CASESPECIFIC NOT NULL,\r",
       "      Hosttype VARCHAR(64) CHARACTER SET UNICODE NOT CASESPECIFIC NOT NULL,\r",
       "      RemoteMapping JSON(8388096) CHARACTER SET UNICODE,\r",
       "      RemoteMappingInternal VARBYTE(30000),\r",
       "      ProfileInstallVersion INTEGER NOT NULL)\r",
       "UNIQUE PRIMARY INDEX (PushProfileName),\r",
       "UNIQUE INDEX(PushProfileID);</td><td class=\"tdhistory540972\">The TD_SERVER_DB.TD_PushProfileInfo controls the operations that can be push to remote databases.</td><td class=\"tdhistory540972\">0</td><td class=\"tdhistory540972\">0</td><td class=\"tdhistory540972\">0</td><td class=\"tdhistory540972\">N </td><td class=\"tdhistory540972\"></td><td class=\"tdhistory540972\"></td><td class=\"tdhistory540972\">2023-12-18 10:09:05</td><td class=\"tdhistory540972\">DBC</td><td class=\"tdhistory540972\">2023-12-18 10:09:05</td><td class=\"tdhistory540972\"></td><td class=\"tdhistory540972\"></td><td class=\"tdhistory540972\"></td><td class=\"tdhistory540972\">1</td><td class=\"tdhistory540972\">N </td><td class=\"tdhistory540972\">N </td><td class=\"tdhistory540972\">Y </td><td class=\"tdhistory540972\">N </td><td class=\"tdhistory540972\">N </td><td class=\"tdhistory540972\"></td><td class=\"tdhistory540972\"></td><td class=\"tdhistory540972\">N </td><td class=\"tdhistory540972\"></td><td class=\"tdhistory540972\"></td><td class=\"tdhistory540972\">1</td><td class=\"tdhistory540972\">0</td><td class=\"tdhistory540972\"></td><td class=\"tdhistory540972\"></td><td class=\"tdhistory540972\"></td><td class=\"tdhistory540972\"></td><td class=\"tdhistory540972\"></td><td class=\"tdhistory540972\"></td><td class=\"tdhistory540972\"></td><td class=\"tdhistory540972\"></td><td class=\"tdhistory540972\">60</td><td class=\"tdhistory540972\"></td><td class=\"tdhistory540972\">DEFAULT</td><td class=\"tdhistory540972\">DEFAULT</td><td class=\"tdhistory540972\">DEFAULT</td><td class=\"tdhistory540972\">0 </td><td class=\"tdhistory540972\">0</td><td class=\"tdhistory540972\">TD_Map1</td><td class=\"tdhistory540972\"></td><td class=\"tdhistory540972\"></td><td class=\"tdhistory540972\"></td><td class=\"tdhistory540972\"></td><td class=\"tdhistory540972\"></td></tr><tr><th class=\"tdhistory540972\" style= \"background: rgba(243, 243, 243, 0.75)\">2</th><td class=\"tdhistory540972\">TD_ANALYTICS_DB</td><td class=\"tdhistory540972\">METADATA_OBJECTS</td><td class=\"tdhistory540972\">1</td><td class=\"tdhistory540972\">T </td><td class=\"tdhistory540972\">F </td><td class=\"tdhistory540972\">NN  </td><td class=\"tdhistory540972\">DBC</td><td class=\"tdhistory540972\">CREATE TABLE TD_ANALYTICS_DB.METADATA_OBJECTS(\r",
       "    ObjectName VARCHAR(128) CHARACTER SET UNICODE,\r",
       "    ObjectType   VARCHAR(100) CHARACTER SET UNICODE,\r",
       "    VarcharCol   VARCHAR(32000) CHARACTER SET UNICODE,\r",
       "    ClobCol      CLOB CHARACTER SET UNICODE,\r",
       "    VarbyteCol   VARBYTE(64000),\r",
       "    BlobCol      BLOB,\r",
       "    JsonCol      JSON INLINE LENGTH 32000 CHARACTER SET UNICODE,\r",
       "    DatasetCol   DATASET INLINE LENGTH 64000 STORAGE FORMAT AVRO,\r",
       "\r",
       "    CHECK (\r",
       "        (VarcharCol IS NOT NULL AND ClobCol IS NULL AND VarbyteCol IS NULL AND BlobCol IS NULL AND JsonCol IS NULL AND DatasetCol IS NULL) OR\r",
       "        (VarcharCol IS NULL AND ClobCol IS NOT NULL AND VarbyteCol IS NULL AND BlobCol IS NULL AND JsonCol IS NULL AND DatasetCol IS NULL) OR\r",
       "        (VarcharCol IS NULL AND ClobCol IS NULL AND VarbyteCol IS NOT NULL AND BlobCol IS NULL AND JsonCol IS NULL AND DatasetCol IS NULL) OR\r",
       "        (VarcharCol IS NULL AND ClobCol IS NULL AND VarbyteCol IS NULL AND BlobCol IS NOT NULL AND JsonCol IS NULL AND DatasetCol IS NULL) OR\r",
       "        (VarcharCol IS NULL AND ClobCol IS NULL AND VarbyteCol IS NULL AND BlobCol IS NULL AND JsonCol IS NOT NULL AND DatasetCol IS NULL) OR\r",
       "        (VarcharCol IS NULL AND ClobCol IS NULL AND VarbyteCol IS NULL AND BlobCol IS NULL AND JsonCol IS NULL AND DatasetCol IS NOT NULL) )\r",
       "\r",
       ")UNIQUE PRIMARY INDEX(ObjectName);</td><td class=\"tdhistory540972\">Table to store metadata object which will be use by analytic functions.</td><td class=\"tdhistory540972\">0</td><td class=\"tdhistory540972\">0</td><td class=\"tdhistory540972\">0</td><td class=\"tdhistory540972\">Y </td><td class=\"tdhistory540972\"></td><td class=\"tdhistory540972\"></td><td class=\"tdhistory540972\">2023-12-18 10:02:44</td><td class=\"tdhistory540972\">DBC</td><td class=\"tdhistory540972\">2023-12-18 10:02:44</td><td class=\"tdhistory540972\"></td><td class=\"tdhistory540972\"></td><td class=\"tdhistory540972\"></td><td class=\"tdhistory540972\">1</td><td class=\"tdhistory540972\">N </td><td class=\"tdhistory540972\">N </td><td class=\"tdhistory540972\">Y </td><td class=\"tdhistory540972\">N </td><td class=\"tdhistory540972\">N </td><td class=\"tdhistory540972\"></td><td class=\"tdhistory540972\"></td><td class=\"tdhistory540972\">N </td><td class=\"tdhistory540972\"></td><td class=\"tdhistory540972\"></td><td class=\"tdhistory540972\">1</td><td class=\"tdhistory540972\">0</td><td class=\"tdhistory540972\"></td><td class=\"tdhistory540972\"></td><td class=\"tdhistory540972\"></td><td class=\"tdhistory540972\"></td><td class=\"tdhistory540972\"></td><td class=\"tdhistory540972\"></td><td class=\"tdhistory540972\"></td><td class=\"tdhistory540972\"></td><td class=\"tdhistory540972\"></td><td class=\"tdhistory540972\"></td><td class=\"tdhistory540972\">DEFAULT</td><td class=\"tdhistory540972\">DEFAULT</td><td class=\"tdhistory540972\">DEFAULT</td><td class=\"tdhistory540972\">0 </td><td class=\"tdhistory540972\">1</td><td class=\"tdhistory540972\">TD_Map1</td><td class=\"tdhistory540972\"></td><td class=\"tdhistory540972\"></td><td class=\"tdhistory540972\"></td><td class=\"tdhistory540972\"></td><td class=\"tdhistory540972\"></td></tr><tr><th class=\"tdhistory540972\" style= \"background: rgba(243, 243, 243, 0.75)\">3</th><td class=\"tdhistory540972\">tdwm</td><td class=\"tdhistory540972\">Actions</td><td class=\"tdhistory540972\">1</td><td class=\"tdhistory540972\">T </td><td class=\"tdhistory540972\">F </td><td class=\"tdhistory540972\">NN  </td><td class=\"tdhistory540972\">DBC</td><td class=\"tdhistory540972\">CREATE TABLE Actions (  ActionId    INTEGER NOT NULL, CreateDate  INTEGER NOT NULL, CreateTime  INTEGER FORMAT '99:99:99' NOT NULL, RemoveDate  INTEGER NOT NULL, RemoveTime  INTEGER FORMAT '99:99:99' NOT NULL, Description VARCHAR(80) CHARACTER SET UNICODE, ConfigId    INTEGER NOT NULL, ParentId    INTEGER NOT NULL, VersionNo   INTEGER NOT NULL, ActionName  VARCHAR(30) CHARACTER SET UNICODE NOT NULL, ActionType  VARCHAR(10) CHARACTER SET UNICODE NOT NULL, SysConId    INTEGER, OpEnvId     INTEGER, ActionValue INTEGER, ActionInfo  VARCHAR(120) CHARACTER SET UNICODE) PRIMARY INDEX (ActionId);</td><td class=\"tdhistory540972\"></td><td class=\"tdhistory540972\">0</td><td class=\"tdhistory540972\">0</td><td class=\"tdhistory540972\">0</td><td class=\"tdhistory540972\">N </td><td class=\"tdhistory540972\"></td><td class=\"tdhistory540972\"></td><td class=\"tdhistory540972\">2023-12-18 10:10:54</td><td class=\"tdhistory540972\">DBC</td><td class=\"tdhistory540972\">2023-12-18 10:10:54</td><td class=\"tdhistory540972\"></td><td class=\"tdhistory540972\"></td><td class=\"tdhistory540972\"></td><td class=\"tdhistory540972\">1</td><td class=\"tdhistory540972\">N </td><td class=\"tdhistory540972\">N </td><td class=\"tdhistory540972\">Y </td><td class=\"tdhistory540972\">N </td><td class=\"tdhistory540972\">N </td><td class=\"tdhistory540972\"></td><td class=\"tdhistory540972\"></td><td class=\"tdhistory540972\">N </td><td class=\"tdhistory540972\"></td><td class=\"tdhistory540972\"></td><td class=\"tdhistory540972\">1</td><td class=\"tdhistory540972\">0</td><td class=\"tdhistory540972\"></td><td class=\"tdhistory540972\"></td><td class=\"tdhistory540972\"></td><td class=\"tdhistory540972\"></td><td class=\"tdhistory540972\"></td><td class=\"tdhistory540972\"></td><td class=\"tdhistory540972\"></td><td class=\"tdhistory540972\"></td><td class=\"tdhistory540972\"></td><td class=\"tdhistory540972\"></td><td class=\"tdhistory540972\">DEFAULT</td><td class=\"tdhistory540972\">DEFAULT</td><td class=\"tdhistory540972\">DEFAULT</td><td class=\"tdhistory540972\">0 </td><td class=\"tdhistory540972\">0</td><td class=\"tdhistory540972\">TD_Map1</td><td class=\"tdhistory540972\"></td><td class=\"tdhistory540972\"></td><td class=\"tdhistory540972\"></td><td class=\"tdhistory540972\"></td><td class=\"tdhistory540972\"></td></tr><tr><th class=\"tdhistory540972\" style= \"background: rgba(243, 243, 243, 0.75)\">4</th><td class=\"tdhistory540972\">tdwm</td><td class=\"tdhistory540972\">AllocGroups</td><td class=\"tdhistory540972\">1</td><td class=\"tdhistory540972\">T </td><td class=\"tdhistory540972\">F </td><td class=\"tdhistory540972\">NN  </td><td class=\"tdhistory540972\">DBC</td><td class=\"tdhistory540972\">CREATE TABLE AllocGroups (  AllocGroupId  INTEGER NOT NULL, CreateDate  INTEGER NOT NULL, CreateTime  INTEGER FORMAT '99:99:99' NOT NULL, RemoveDate  INTEGER NOT NULL, RemoveTime  INTEGER FORMAT '99:99:99' NOT NULL, Description VARCHAR(80) CHARACTER SET UNICODE, ConfigId    INTEGER NOT NULL, ParentId    INTEGER NOT NULL, VersionNo   INTEGER NOT NULL, RscPartitionId  INTEGER NOT NULL, AGName      VARCHAR(16) CHARACTER SET UNICODE NOT NULL, AGNumber    INTEGER, SlgPriority INTEGER) PRIMARY INDEX (AllocGroupId);</td><td class=\"tdhistory540972\"></td><td class=\"tdhistory540972\">0</td><td class=\"tdhistory540972\">0</td><td class=\"tdhistory540972\">0</td><td class=\"tdhistory540972\">N </td><td class=\"tdhistory540972\"></td><td class=\"tdhistory540972\"></td><td class=\"tdhistory540972\">2023-12-18 10:10:57</td><td class=\"tdhistory540972\">DBC</td><td class=\"tdhistory540972\">2023-12-18 10:10:57</td><td class=\"tdhistory540972\"></td><td class=\"tdhistory540972\"></td><td class=\"tdhistory540972\"></td><td class=\"tdhistory540972\">1</td><td class=\"tdhistory540972\">N </td><td class=\"tdhistory540972\">N </td><td class=\"tdhistory540972\">Y </td><td class=\"tdhistory540972\">N </td><td class=\"tdhistory540972\">N </td><td class=\"tdhistory540972\"></td><td class=\"tdhistory540972\"></td><td class=\"tdhistory540972\">N </td><td class=\"tdhistory540972\"></td><td class=\"tdhistory540972\"></td><td class=\"tdhistory540972\">1</td><td class=\"tdhistory540972\">0</td><td class=\"tdhistory540972\"></td><td class=\"tdhistory540972\"></td><td class=\"tdhistory540972\"></td><td class=\"tdhistory540972\"></td><td class=\"tdhistory540972\"></td><td class=\"tdhistory540972\"></td><td class=\"tdhistory540972\"></td><td class=\"tdhistory540972\"></td><td class=\"tdhistory540972\"></td><td class=\"tdhistory540972\"></td><td class=\"tdhistory540972\">DEFAULT</td><td class=\"tdhistory540972\">DEFAULT</td><td class=\"tdhistory540972\">DEFAULT</td><td class=\"tdhistory540972\">0 </td><td class=\"tdhistory540972\">0</td><td class=\"tdhistory540972\">TD_Map1</td><td class=\"tdhistory540972\"></td><td class=\"tdhistory540972\"></td><td class=\"tdhistory540972\"></td><td class=\"tdhistory540972\"></td><td class=\"tdhistory540972\"></td></tr><tr><th class=\"tdhistory540972\" style= \"background: rgba(243, 243, 243, 0.75)\">5</th><td class=\"tdhistory540972\">tdwm</td><td class=\"tdhistory540972\">AllocGroupStates</td><td class=\"tdhistory540972\">1</td><td class=\"tdhistory540972\">T </td><td class=\"tdhistory540972\">F </td><td class=\"tdhistory540972\">NN  </td><td class=\"tdhistory540972\">DBC</td><td class=\"tdhistory540972\">CREATE TABLE AllocGroupStates (  AllocGroupId  INTEGER NOT NULL, StateId     INTEGER NOT NULL, CreateDate  INTEGER NOT NULL, CreateTime  INTEGER FORMAT '99:99:99' NOT NULL, RemoveDate  INTEGER NOT NULL, RemoveTime  INTEGER FORMAT '99:99:99' NOT NULL, Description VARCHAR(80) CHARACTER SET UNICODE, ConfigId    INTEGER NOT NULL, ParentId    INTEGER NOT NULL, VersionNo   INTEGER NOT NULL, Expedited   INTEGER DEFAULT 0, AGWeight    INTEGER, CpuLimit    INTEGER) PRIMARY INDEX (AllocGroupId, StateId);</td><td class=\"tdhistory540972\"></td><td class=\"tdhistory540972\">0</td><td class=\"tdhistory540972\">0</td><td class=\"tdhistory540972\">0</td><td class=\"tdhistory540972\">N </td><td class=\"tdhistory540972\"></td><td class=\"tdhistory540972\"></td><td class=\"tdhistory540972\">2023-12-18 10:10:57</td><td class=\"tdhistory540972\">DBC</td><td class=\"tdhistory540972\">2023-12-18 10:10:57</td><td class=\"tdhistory540972\"></td><td class=\"tdhistory540972\"></td><td class=\"tdhistory540972\"></td><td class=\"tdhistory540972\">1</td><td class=\"tdhistory540972\">N </td><td class=\"tdhistory540972\">N </td><td class=\"tdhistory540972\">Y </td><td class=\"tdhistory540972\">N </td><td class=\"tdhistory540972\">N </td><td class=\"tdhistory540972\"></td><td class=\"tdhistory540972\"></td><td class=\"tdhistory540972\">N </td><td class=\"tdhistory540972\"></td><td class=\"tdhistory540972\"></td><td class=\"tdhistory540972\">2</td><td class=\"tdhistory540972\">0</td><td class=\"tdhistory540972\"></td><td class=\"tdhistory540972\"></td><td class=\"tdhistory540972\"></td><td class=\"tdhistory540972\"></td><td class=\"tdhistory540972\"></td><td class=\"tdhistory540972\"></td><td class=\"tdhistory540972\"></td><td class=\"tdhistory540972\"></td><td class=\"tdhistory540972\"></td><td class=\"tdhistory540972\"></td><td class=\"tdhistory540972\">DEFAULT</td><td class=\"tdhistory540972\">DEFAULT</td><td class=\"tdhistory540972\">DEFAULT</td><td class=\"tdhistory540972\">0 </td><td class=\"tdhistory540972\">0</td><td class=\"tdhistory540972\">TD_Map1</td><td class=\"tdhistory540972\"></td><td class=\"tdhistory540972\"></td><td class=\"tdhistory540972\"></td><td class=\"tdhistory540972\"></td><td class=\"tdhistory540972\"></td></tr></tbody></table></div>"
      ]
     },
     "execution_count": 11,
     "metadata": {
      "application/vnd.teradata.resultset": "{\"resultSetID\":\"/home/jovyan/JupyterLabRoot/Teradata/Resultsets/2023.12.21_05.42.48.453_UTC\",\"historyID\":243,\"chunkID\":\"00001\",\"sessionid\":\"\",\"portnum\":\"\",\"dockermode\":\"docker\",\"totalRowCount\":5,\"chunkCount\":0,\"rowLimit\":0,\"columnMetadata\":[{\"columnName\":\"DataBaseName\",\"columnTypeName\":\"VARCHAR\",\"length\":128,\"scale\":128},{\"columnNumber\":1,\"columnName\":\"TableName\",\"columnTypeName\":\"VARCHAR\",\"length\":128,\"scale\":128},{\"columnNumber\":2,\"columnName\":\"Version\",\"columnTypeName\":\"SMALLINT\"},{\"columnNumber\":3,\"columnName\":\"TableKind\",\"columnTypeName\":\"CHAR\",\"length\":1,\"scale\":1},{\"columnNumber\":4,\"columnName\":\"ProtectionType\",\"columnTypeName\":\"CHAR\",\"length\":1,\"scale\":1},{\"columnNumber\":5,\"columnName\":\"JournalFlag\",\"columnTypeName\":\"CHAR\",\"length\":2,\"scale\":2},{\"columnNumber\":6,\"columnName\":\"CreatorName\",\"columnTypeName\":\"VARCHAR\",\"length\":128,\"scale\":128},{\"columnNumber\":7,\"columnName\":\"RequestText\",\"columnTypeName\":\"VARCHAR\",\"length\":12500,\"scale\":12500},{\"columnNumber\":8,\"columnName\":\"CommentString\",\"columnTypeName\":\"VARCHAR\",\"length\":255,\"scale\":255},{\"columnNumber\":9,\"columnName\":\"ParentCount\",\"columnTypeName\":\"SMALLINT\"},{\"columnNumber\":10,\"columnName\":\"ChildCount\",\"columnTypeName\":\"SMALLINT\"},{\"columnNumber\":11,\"columnName\":\"NamedTblCheckCount\",\"columnTypeName\":\"SMALLINT\"},{\"columnNumber\":12,\"columnName\":\"UnnamedTblCheckExist\",\"columnTypeName\":\"CHAR\",\"length\":1,\"scale\":1},{\"columnNumber\":13,\"columnName\":\"PrimaryKeyIndexId\",\"columnTypeName\":\"SMALLINT\"},{\"columnNumber\":14,\"columnName\":\"RepStatus\",\"columnTypeName\":\"CHAR\",\"length\":1,\"scale\":1},{\"columnNumber\":15,\"columnName\":\"CreateTimeStamp\",\"columnTypeName\":\"TIMESTAMP\"},{\"columnNumber\":16,\"columnName\":\"LastAlterName\",\"columnTypeName\":\"VARCHAR\",\"length\":128,\"scale\":128},{\"columnNumber\":17,\"columnName\":\"LastAlterTimeStamp\",\"columnTypeName\":\"TIMESTAMP\"},{\"columnNumber\":18,\"columnName\":\"RequestTxtOverflow\",\"columnTypeName\":\"CHAR\",\"length\":1,\"scale\":1},{\"columnNumber\":19,\"columnName\":\"AccessCount\",\"columnTypeName\":\"BIGINT\"},{\"columnNumber\":20,\"columnName\":\"LastAccessTimeStamp\",\"columnTypeName\":\"TIMESTAMP\"},{\"columnNumber\":21,\"columnName\":\"UtilVersion\",\"columnTypeName\":\"SMALLINT\"},{\"columnNumber\":22,\"columnName\":\"QueueFlag\",\"columnTypeName\":\"CHAR\",\"length\":1,\"scale\":1},{\"columnNumber\":23,\"columnName\":\"CommitOpt\",\"columnTypeName\":\"CHAR\",\"length\":1,\"scale\":1},{\"columnNumber\":24,\"columnName\":\"TransLog\",\"columnTypeName\":\"CHAR\",\"length\":1,\"scale\":1},{\"columnNumber\":25,\"columnName\":\"CheckOpt\",\"columnTypeName\":\"CHAR\",\"length\":1,\"scale\":1},{\"columnNumber\":26,\"columnName\":\"TemporalProperty\",\"columnTypeName\":\"CHAR\",\"length\":1,\"scale\":1},{\"columnNumber\":27,\"columnName\":\"ResolvedCurrent_Date\",\"columnTypeName\":\"DATE\"},{\"columnNumber\":28,\"columnName\":\"ResolvedCurrent_Timestamp\",\"columnTypeName\":\"TIMESTAMP WITH TIME ZONE\",\"length\":6,\"scale\":6},{\"columnNumber\":29,\"columnName\":\"SystemDefinedJI\",\"columnTypeName\":\"CHAR\",\"length\":1,\"scale\":1},{\"columnNumber\":30,\"columnName\":\"VTQualifier\",\"columnTypeName\":\"CHAR\",\"length\":1,\"scale\":1},{\"columnNumber\":31,\"columnName\":\"TTQualifier\",\"columnTypeName\":\"CHAR\",\"length\":1,\"scale\":1},{\"columnNumber\":32,\"columnName\":\"PIColumnCount\",\"columnTypeName\":\"SMALLINT\"},{\"columnNumber\":33,\"columnName\":\"PartitioningLevels\",\"columnTypeName\":\"SMALLINT\"},{\"columnNumber\":34,\"columnName\":\"LoadProperty\",\"columnTypeName\":\"CHAR\",\"length\":1,\"scale\":1},{\"columnNumber\":35,\"columnName\":\"CurrentLoadId\",\"columnTypeName\":\"INTEGER\"},{\"columnNumber\":36,\"columnName\":\"LoadIdLayout\",\"columnTypeName\":\"CHAR\",\"length\":1,\"scale\":1},{\"columnNumber\":37,\"columnName\":\"DelayedJI\",\"columnTypeName\":\"CHAR\",\"length\":1,\"scale\":1},{\"columnNumber\":38,\"columnName\":\"LastArchiveId\",\"columnTypeName\":\"BIGINT\"},{\"columnNumber\":39,\"columnName\":\"LastFullArchiveId\",\"columnTypeName\":\"BIGINT\"},{\"columnNumber\":40,\"columnName\":\"BlockSize\",\"columnTypeName\":\"INTEGER\"},{\"columnNumber\":41,\"columnName\":\"FreeSpacePercent\",\"columnTypeName\":\"BYTEINT\"},{\"columnNumber\":42,\"columnName\":\"MergeBlockRatio\",\"columnTypeName\":\"BYTEINT\"},{\"columnNumber\":43,\"columnName\":\"CheckSum\",\"columnTypeName\":\"CHAR\",\"length\":1,\"scale\":1},{\"columnNumber\":44,\"columnName\":\"BlockCompression\",\"columnTypeName\":\"VARCHAR\",\"length\":8,\"scale\":8},{\"columnNumber\":45,\"columnName\":\"BlockCompressionAlgorithm\",\"columnTypeName\":\"VARCHAR\",\"length\":7,\"scale\":7},{\"columnNumber\":46,\"columnName\":\"BlockCompressionLevel\",\"columnTypeName\":\"VARCHAR\",\"length\":7,\"scale\":7},{\"columnNumber\":47,\"columnName\":\"TableHeaderFormat\",\"columnTypeName\":\"CHAR\",\"length\":1,\"scale\":1},{\"columnNumber\":48,\"columnName\":\"RowSizeFormat\",\"columnTypeName\":\"VARCHAR\",\"length\":1,\"scale\":1},{\"columnNumber\":49,\"columnName\":\"MapName\",\"columnTypeName\":\"VARCHAR\",\"length\":128,\"scale\":128},{\"columnNumber\":50,\"columnName\":\"ColocationName\",\"columnTypeName\":\"VARCHAR\",\"length\":128,\"scale\":128},{\"columnNumber\":51,\"columnName\":\"TVMFlavor\",\"columnTypeName\":\"CHAR\",\"length\":1,\"scale\":1},{\"columnNumber\":52,\"columnName\":\"FastAlterTable\",\"columnTypeName\":\"CHAR\",\"length\":1,\"scale\":1},{\"columnNumber\":53,\"columnName\":\"IncrementalRestoreEnabled\",\"columnTypeName\":\"INTEGER\"},{\"columnNumber\":54,\"columnName\":\"AuthName\",\"columnTypeName\":\"VARCHAR\",\"length\":128,\"scale\":128}]}"
     },
     "output_type": "execute_result"
    }
   ],
   "source": [
    "SELECT TOP 5 * FROM DBC.TablesV\n",
    "WHERE (TableKind = 'T' AND CreatorName = 'DBC')\n",
    "  OR (TableKind = 'T' AND CreatorName = 'SYSADM')\n",
    "ORDER BY DatabaseName DESC, TableName "
   ]
  },
  {
   "cell_type": "markdown",
   "metadata": {},
   "source": [
    "<hr style=\"height:2px;border:none;background-color:#00233C;\">\n",
    "<p style = 'font-size:20px;font-family:Arial;color:#00233C'><b>Aggregation</b></p>\n",
    "\n",
    "<p style = 'font-size:16px;font-family:Arial;color:#00233C'>We can aggregate multiple rows together in a similar way as pivot tables work in Excel. For example, to count how many object (tables, views, macros, stored procedures, functions, etc) we have with the same name in Vantage, we would do:</p>\n"
   ]
  },
  {
   "cell_type": "code",
   "execution_count": 12,
   "metadata": {},
   "outputs": [
    {
     "data": {
      "application/vnd.teradata.resultset": "\"DataBaseName\",\"ObjectCount\"\n\"DBC\",\"872\"\n\"dbcmngr\",\"2\"\n\"DemoNow_Monitor\",\"1\"\n\"DEMO_GraphAnalysis\",\"1\"\n\"DEMO_GraphAnalysis_db\",\"1\"",
      "text/html": [
       "<div class = \"td-resultset-table-div\" style = \"max-height: 100%; overflow-y: auto\">\n",
       "      <table class=\"tdhistory615014\"><style>\n",
       "      table.tdhistory615014 { display: block !important; min-height: 189px !important; overflow: auto !important; height: 189px !important; width: 100% !important; border: 1px solid rgb(207, 207, 207) !important; border-collapse: collapse !important; ; color: var(--jp-ui-font-color1) !important; }\n",
       "      th.tdhistory615014 { border: 1px solid rgb(198,198,198) !important; border-collapse: collapse !important; ; padding: 2px 5px !important; ; font-size: 13px !important; ; text-align: center !important; white-space: normal !important; color: var(--jp-ui-font-color1) !important; }\n",
       "      th.tdhistory615014:last-child { text-align: left !important; }\n",
       "      tbody.tdhistory615014 tr:nth-child(even) { background: rgba(243, 243, 243, 0.75) !important; }\n",
       "      tbody.tdhistory615014 tr:nth-child(odd) { background: var(--jp-ui-inverse-font-color1) !important; }\n",
       "      td.tdhistory615014 { border: 1px solid rgb(207, 207, 207) !important; border-collapse: collapse !important; ; padding: 2px 5px !important; ; font-size: 13px !important; ; text-align: left !important;          white-space: nowrap !important; overflow:hidden !important; text-overflow:ellipsis !important;; }\n",
       "    </style><thead><tr style= \"background: rgba(243, 243, 243, 0.75)\"><th class=\"tdhistory615014\"></th><th class=\"tdhistory615014\">DataBaseName</th><th class=\"tdhistory615014\">ObjectCount</th></tr></thead><tbody class=\"tdhistory615014 resultset-body\"><tr><th class=\"tdhistory615014\" style= \"background: rgba(243, 243, 243, 0.75)\">1</th><td class=\"tdhistory615014\">DBC</td><td class=\"tdhistory615014\">872</td></tr><tr><th class=\"tdhistory615014\" style= \"background: rgba(243, 243, 243, 0.75)\">2</th><td class=\"tdhistory615014\">dbcmngr</td><td class=\"tdhistory615014\">2</td></tr><tr><th class=\"tdhistory615014\" style= \"background: rgba(243, 243, 243, 0.75)\">3</th><td class=\"tdhistory615014\">DemoNow_Monitor</td><td class=\"tdhistory615014\">1</td></tr><tr><th class=\"tdhistory615014\" style= \"background: rgba(243, 243, 243, 0.75)\">4</th><td class=\"tdhistory615014\">DEMO_GraphAnalysis</td><td class=\"tdhistory615014\">1</td></tr><tr><th class=\"tdhistory615014\" style= \"background: rgba(243, 243, 243, 0.75)\">5</th><td class=\"tdhistory615014\">DEMO_GraphAnalysis_db</td><td class=\"tdhistory615014\">1</td></tr></tbody></table></div>"
      ]
     },
     "execution_count": 12,
     "metadata": {
      "application/vnd.teradata.resultset": "{\"resultSetID\":\"/home/jovyan/JupyterLabRoot/Teradata/Resultsets/2023.12.21_05.42.48.774_UTC\",\"historyID\":244,\"chunkID\":\"00001\",\"sessionid\":\"\",\"portnum\":\"\",\"dockermode\":\"docker\",\"totalRowCount\":5,\"chunkCount\":0,\"rowLimit\":0,\"columnMetadata\":[{\"columnName\":\"DataBaseName\",\"columnTypeName\":\"VARCHAR\",\"length\":128,\"scale\":128},{\"columnNumber\":1,\"columnName\":\"ObjectCount\",\"columnTypeName\":\"INTEGER\"}]}"
     },
     "output_type": "execute_result"
    }
   ],
   "source": [
    "SELECT TOP 5 DatabaseName, count(*) as ObjectCount FROM DBC.TablesV\n",
    "GROUP BY DatabaseName  \n",
    "ORDER BY DatabaseName"
   ]
  },
  {
   "cell_type": "markdown",
   "metadata": {},
   "source": [
    "\n",
    "<p style = 'font-size:16px;font-family:Arial;color:#00233C'>In the <b>SELECT</b> example below, we use a sub query to aggregate object size within a database, then we use functions to get the minimum and maximum object size and count for each database.  (The counts are different from above because views and macros take no space).</p>\n",
    "\n",
    "<p style = 'font-size:16px;font-family:Arial;color:#00233C'>There are multiple aggregation functions:</p>\n",
    "\n",
    "<ul style = 'font-size:16px;font-family:Arial;color:#00233C'>\n",
    "    <li>SUM(X) to sum all the X values</li>\n",
    "<li>AVG(X) for the average of X</li>\n",
    "<li>MIN(X) for the smallest X value</li>\n",
    "<li>MAX(X) for the largest X value</li>\n",
    "</ul>\n",
    "\n",
    "<p style = 'font-size:16px;font-family:Arial;color:#00233C'>For example:</p>"
   ]
  },
  {
   "cell_type": "code",
   "execution_count": 13,
   "metadata": {},
   "outputs": [
    {
     "data": {
      "application/vnd.teradata.resultset": "\"DataBaseName\",\"MinSize\",\"MaxSize\",\"#Objects_Using_Space\"\n\"DBC\",\"53248\",\"142737408\",\"189\"\n\"dbcmngr\",\"65536\",\"65536\",\"2\"\n\"DemoNow_Monitor\",\"98304\",\"98304\",\"1\"\n\"DEMO_GraphAnalysis_db\",\"196608\",\"196608\",\"1\"\n\"demo_user\",\"98304\",\"2088960\",\"52\"",
      "text/html": [
       "<div class = \"td-resultset-table-div\" style = \"max-height: 100%; overflow-y: auto\">\n",
       "      <table class=\"tdhistory644769\"><style>\n",
       "      table.tdhistory644769 { display: block !important; min-height: 189px !important; overflow: auto !important; height: 189px !important; width: 100% !important; border: 1px solid rgb(207, 207, 207) !important; border-collapse: collapse !important; ; color: var(--jp-ui-font-color1) !important; }\n",
       "      th.tdhistory644769 { border: 1px solid rgb(198,198,198) !important; border-collapse: collapse !important; ; padding: 2px 5px !important; ; font-size: 13px !important; ; text-align: center !important; white-space: normal !important; color: var(--jp-ui-font-color1) !important; }\n",
       "      th.tdhistory644769:last-child { text-align: left !important; }\n",
       "      tbody.tdhistory644769 tr:nth-child(even) { background: rgba(243, 243, 243, 0.75) !important; }\n",
       "      tbody.tdhistory644769 tr:nth-child(odd) { background: var(--jp-ui-inverse-font-color1) !important; }\n",
       "      td.tdhistory644769 { border: 1px solid rgb(207, 207, 207) !important; border-collapse: collapse !important; ; padding: 2px 5px !important; ; font-size: 13px !important; ; text-align: left !important;          white-space: nowrap !important; overflow:hidden !important; text-overflow:ellipsis !important;; }\n",
       "    </style><thead><tr style= \"background: rgba(243, 243, 243, 0.75)\"><th class=\"tdhistory644769\"></th><th class=\"tdhistory644769\">DataBaseName</th><th class=\"tdhistory644769\">MinSize</th><th class=\"tdhistory644769\">MaxSize</th><th class=\"tdhistory644769\">#Objects_Using_Space</th></tr></thead><tbody class=\"tdhistory644769 resultset-body\"><tr><th class=\"tdhistory644769\" style= \"background: rgba(243, 243, 243, 0.75)\">1</th><td class=\"tdhistory644769\">DBC</td><td class=\"tdhistory644769\">53248</td><td class=\"tdhistory644769\">142737408</td><td class=\"tdhistory644769\">189</td></tr><tr><th class=\"tdhistory644769\" style= \"background: rgba(243, 243, 243, 0.75)\">2</th><td class=\"tdhistory644769\">dbcmngr</td><td class=\"tdhistory644769\">65536</td><td class=\"tdhistory644769\">65536</td><td class=\"tdhistory644769\">2</td></tr><tr><th class=\"tdhistory644769\" style= \"background: rgba(243, 243, 243, 0.75)\">3</th><td class=\"tdhistory644769\">DemoNow_Monitor</td><td class=\"tdhistory644769\">98304</td><td class=\"tdhistory644769\">98304</td><td class=\"tdhistory644769\">1</td></tr><tr><th class=\"tdhistory644769\" style= \"background: rgba(243, 243, 243, 0.75)\">4</th><td class=\"tdhistory644769\">DEMO_GraphAnalysis_db</td><td class=\"tdhistory644769\">196608</td><td class=\"tdhistory644769\">196608</td><td class=\"tdhistory644769\">1</td></tr><tr><th class=\"tdhistory644769\" style= \"background: rgba(243, 243, 243, 0.75)\">5</th><td class=\"tdhistory644769\">demo_user</td><td class=\"tdhistory644769\">98304</td><td class=\"tdhistory644769\">2088960</td><td class=\"tdhistory644769\">52</td></tr></tbody></table></div>"
      ]
     },
     "execution_count": 13,
     "metadata": {
      "application/vnd.teradata.resultset": "{\"resultSetID\":\"/home/jovyan/JupyterLabRoot/Teradata/Resultsets/2023.12.21_05.42.49.482_UTC\",\"historyID\":245,\"chunkID\":\"00001\",\"sessionid\":\"\",\"portnum\":\"\",\"dockermode\":\"docker\",\"totalRowCount\":5,\"chunkCount\":0,\"rowLimit\":0,\"columnMetadata\":[{\"columnName\":\"DataBaseName\",\"columnTypeName\":\"VARCHAR\",\"length\":128,\"scale\":128},{\"columnNumber\":1,\"columnName\":\"MinSize\",\"columnTypeName\":\"BIGINT\"},{\"columnNumber\":2,\"columnName\":\"MaxSize\",\"columnTypeName\":\"BIGINT\"},{\"columnNumber\":3,\"columnName\":\"#Objects_Using_Space\",\"columnTypeName\":\"INTEGER\"}]}"
     },
     "output_type": "execute_result"
    }
   ],
   "source": [
    "SELECT\n",
    "    TOP 5 databasename,\n",
    "    MIN(TableBytes)  AS MinSize,\n",
    "    MAX(TableBytes)  AS MaxSize,\n",
    "    COUNT(*) AS #Objects_Using_Space\n",
    "FROM (\n",
    "    SELECT\n",
    "        DatabaseName,\n",
    "        TableName,\n",
    "        Sum(CurrentPerm) AS TableBytes   \n",
    "        FROM DBC.TablesizeV\n",
    "        GROUP By DatabaseName, Tablename\n",
    "    ) AS Subtotals \n",
    "GROUP BY DatabaseName order by DatabaseName;"
   ]
  },
  {
   "cell_type": "markdown",
   "metadata": {},
   "source": [
    "<p style = 'font-size:16px;font-family:Arial;color:#00233C'>For courageous readers, you can also try the following aggregation functions:</p>\n",
    "\n",
    "<ul style = 'font-size:16px;font-family:Arial;color:#00233C'>\n",
    "<li>STDDEV_POP(X) and STDDEV_SAMP(X) to measure the standard deviation of the X distribution (for the full population, and for a sampled population)\n",
    "<li>VAR_POP(X) and VAR_SAMP(X) to measure the variance of the X distribution (for the full population, and for a sampled population)\n",
    "<li>COVAR_POP(X,Y) and COVAR_SAMP(X,Y) to measure the covariance between X and Y (for the full population, and for a sampled population)\n",
    "<li>CORR(X,Y) to measure the correlation between the columns X and Y\n",
    "<li>KURTOSIS(X) to measure the kurtosis of the X distribution **minus** 3 (the tailed ness of the distribution, it should be around 0 for a Normal/Gaussian distribution)\n",
    "<li>SKEW(X) to measure the skewness of the X distribution (the asymmetry of the distribution, it should be around 0 for a Normal/Gaussian distribution) \n",
    "</ul>\n"
   ]
  },
  {
   "cell_type": "markdown",
   "metadata": {},
   "source": [
    "<footer style=\"padding-bottom:35px; background:#f9f9f9; border-bottom:3px solid #00233C\">\n",
    "    <div style=\"float:left;margin-top:14px\">ClearScape Analytics™</div>\n",
    "    <div style=\"float:right;\">\n",
    "        <div style=\"float:left; margin-top:14px\">\n",
    "            Copyright © Teradata Corporation - 2023. All Rights Reserved\n",
    "        </div>\n",
    "    </div>\n",
    "</footer>"
   ]
  }
 ],
 "metadata": {
  "kernelspec": {
   "display_name": "Teradata SQL",
   "language": "Teradata SQL",
   "name": "teradatasql"
  },
  "language_info": {
   "codemirror_mode": "Teradata SQL",
   "file_extension": ".tdrs",
   "mimetype": "application/vnd.teradata.resultset",
   "name": "Teradata SQL",
   "nbconvert_exporter": "",
   "pygments_lexer": "",
   "version": "16.20"
  }
 },
 "nbformat": 4,
 "nbformat_minor": 4
}
