{
 "cells": [
  {
   "cell_type": "markdown",
   "metadata": {},
   "source": [
    "<header>\n",
    "   <p  style='font-size:36px;font-family:Arial; color:#F0F0F0; background-color: #00233c; padding-left: 20pt; padding-top: 20pt;padding-bottom: 10pt; padding-right: 20pt;'>\n",
    "       Vantage SQL Plugin Basics\n",
    "  <br>\n",
    "       <img id=\"teradata-logo\" src=\"https://storage.googleapis.com/clearscape_analytics_demo_data/DEMO_Logo/teradata.svg\" alt=\"Teradata\" style=\"width: 125px; height: auto; margin-top: 20pt;\">\n",
    "    </p>\n",
    "</header>\n",
    "\n",
    "<p style = 'font-size:16px;font-family:Arial;color:#00233C'>Welcome to this introductory guide. This guide will walk you through your first SQL queries.  A more extensive notebook with more commands can be found online in the Teradata Vantage Modules for Jupyter <a href = 'https://teradata.github.io/jupyterextensions/#/'>Here.</a></p>"
   ]
  },
  {
   "cell_type": "markdown",
   "metadata": {},
   "source": [
    "<hr style=\"height:1px;border:none;background-color:#00233C;\">\n",
    "<p style = 'font-size:16px;font-family:Arial;color:#00233C'>For help on available \"magic\" commands in the Teradata SQL plugin, run the following cell:</p>"
   ]
  },
  {
   "cell_type": "code",
   "execution_count": 1,
   "metadata": {},
   "outputs": [
    {
     "data": {
      "text/markdown": [
       "%help **command** - Display detailed help for one magic command (without %).</br>\n",
       "%help **all** - Display detailed help for all magic commands.</br>\n",
       "%help **snippets** - Display the list of SQL command Snippets.</br>\n",
       "%help **rowcount** - Display the current rowcount value.</br>\n",
       "%help **currentdb** - Display the current database for the user.</br>\n",
       "%help **hidewarnings** - Display the current hide warnings value.</br>\n",
       "#### Notation conventions: Items in [] are optional, all others are required.  Parameter names are not case sensitive.</br>\n",
       "#### Magic Commands:</br>\n",
       "**%addconnect** - Add a Teradata Vantage database connection specification.</br>**%connect** - Connect to a Vantage system and/or make the connection active.</br>**%disconnect** - Disconnect from a Vantage system.</br>**%rmconnect** - Remove a connection specification.</br>**%chconnect** - Change a connection specification.</br>**%lsconnect** - List the known connections.</br>**%chart** - Display a Vega-Lite visualization of a query result set or an existing Vega or VegaLite chart.</br>**%table** - Display a previous result set as a table.</br>**%meta** - Display metadata of a previous result set.</br>**%dataload** - Load a CSV file into a database table.</br>**%history** - Display a table or the details of previously executed commands.\n",
       "\t\tIf a single history item is specified, the details for that item will be displayed.</br>**%rmhistory** - Remove one or more history items and associated result set(s).</br>**%var** - Define one or more variables for use in SQL statements and magic commands.</br>**%lsvar** - List one or more variables. If no names are provided, list all defined variables.</br>**%rmvar** - Remove one or more defined variables.</br>**%pyinfo** - Display information about the version of Python installed on the Vantage system.</br>**%rinfo** - Display information about the version of R installed on the Vantage system.</br>**%runsto** - Run a Script Table Operator.</br>**%installfile** - Install a file onto the Vantage system.</br>**%rmfile** - Remove a file that has been installed on the Vantage system.</br>**%showfile** - Display the contents of a file that has been installed on the Vantage system.</br>**%loglevel** - Set the logging level for the Teradata SQL kernel.</br>**%lsmagic** - List the supported magic commands.</br>**%quickref** - Display help for magic commands.</br>**%help** - Display help for magic commands.</br>**%savecolumn** - Save a BLOB column data to a file.</br>"
      ]
     },
     "execution_count": 1,
     "metadata": {
      "application/vnd.teradata.resultset": "helpdata"
     },
     "output_type": "execute_result"
    }
   ],
   "source": [
    "%help"
   ]
  },
  {
   "cell_type": "markdown",
   "metadata": {},
   "source": [
    "<hr style=\"height:2px;border:none;background-color:#00233C;\">\n",
    "<p style = 'font-size:20px;font-family:Arial;color:#00233C'><b>Object Browser</b></p>\n",
    "\n",
    "<p style = 'font-size:16px;font-family:Arial;color:#00233C'>Included with the plugin is a browser that allows you to view the databases and tables on your ClearScape Analytics Experience platform.  Note that if you haven't run any demos or haven't used the data dictionary, you will only see system tables.</p>\n",
    "\n",
    "<ol style = 'font-size:16px;font-family:Arial;color:#00233C'>\n",
    "    <li>Select <b>File/New Launcher</b> or if there is a launcher t to a launcher (new or existing)</li>\n",
    "<li>Click Navigator</li>\n",
    "<li>Select database profile</li>\n",
    "</ol>\n"
   ]
  },
  {
   "cell_type": "markdown",
   "metadata": {},
   "source": [
    "<hr style=\"height:2px;border:none;background-color:#00233C;\">\n",
    "<p style = 'font-size:20px;font-family:Arial;color:#00233C'><b>Introduction to SQL</b></p>\n",
    "\n",
    "<p style = 'font-size:16px;font-family:Arial;color:#00233C'>This page is a Jupyter Notebook. Looking at the top-right corner, you can see that it is running a *Teradata SQL* kernel. Other kernel include R and Python. This means that any command on this notebook will have to be a SQL statement.</p>\n",
    "\n",
    "<p style = 'font-size:16px;font-family:Arial;color:#00233C'>The first step with any SQL editor or Jupyter Notebook is to connect to a Teradata system.</p>\n",
    "\n",
    "<p style = 'font-size:16px;font-family:Arial;color:#00233C'>If this notebook is being run from the Vantage LIVE image, three connections should already be set up; representing connections to Transcend Production, Transcend AWS, and Vantage LIVE (Azure).  The below command will list configured connections</p>"
   ]
  },
  {
   "cell_type": "code",
   "execution_count": 2,
   "metadata": {},
   "outputs": [
    {
     "name": "stdout",
     "output_type": "stream",
     "text": [
      "Disconnected: NAME=local, USER=demo_user, HOST=host.docker.internal, DATABASE=demo_user\n"
     ]
    }
   ],
   "source": [
    "%lsconnect"
   ]
  },
  {
   "cell_type": "code",
   "execution_count": 3,
   "metadata": {},
   "outputs": [
    {
     "name": "stdin",
     "output_type": "stream",
     "text": [
      "Password: ········\n"
     ]
    },
    {
     "name": "stdout",
     "output_type": "stream",
     "text": [
      "Success: 'local' connection established and activated for user 'demo_user', with default database 'demo_user'\n"
     ]
    }
   ],
   "source": [
    "%connect local, hidewarnings=true"
   ]
  },
  {
   "cell_type": "markdown",
   "metadata": {},
   "source": [
    "<p style = 'font-size:16px;font-family:Arial;color:#00233C'>You are connected if the last command returned `Success:... connection established`</p>"
   ]
  },
  {
   "cell_type": "markdown",
   "metadata": {},
   "source": [
    "<p style = 'font-size:16px;font-family:Arial;color:#00233C'>The most simple SQL you can run is to calculate a formula, for example 2+2. Click on the cell below and press Shift-Return to execute its content. The result is saved in the Teradata directory mentioned above with the exact path below which can be accessed/downloaded from the file browser on the left.</p>"
   ]
  },
  {
   "cell_type": "code",
   "execution_count": 4,
   "metadata": {},
   "outputs": [
    {
     "data": {
      "application/vnd.teradata.resultset": "\"(2+5)\"\n\"7\"",
      "text/html": [
       "<div class = \"td-resultset-table-div\" style = \"max-height: 100%; overflow-y: auto\">\n",
       "      <table class=\"tdhistory194892\"><style>\n",
       "      table.tdhistory194892 { display: block !important; min-height: 105px !important; overflow: auto !important; height: 105px !important; width: 100% !important; border: 1px solid rgb(207, 207, 207) !important; border-collapse: collapse !important; ; color: var(--jp-ui-font-color1) !important; }\n",
       "      th.tdhistory194892 { border: 1px solid rgb(198,198,198) !important; border-collapse: collapse !important; ; padding: 2px 5px !important; ; font-size: 13px !important; ; text-align: center !important; white-space: normal !important; color: var(--jp-ui-font-color1) !important; }\n",
       "      th.tdhistory194892:last-child { text-align: left !important; }\n",
       "      tbody.tdhistory194892 tr:nth-child(even) { background: rgba(243, 243, 243, 0.75) !important; }\n",
       "      tbody.tdhistory194892 tr:nth-child(odd) { background: var(--jp-ui-inverse-font-color1) !important; }\n",
       "      td.tdhistory194892 { border: 1px solid rgb(207, 207, 207) !important; border-collapse: collapse !important; ; padding: 2px 5px !important; ; font-size: 13px !important; ; text-align: left !important;          white-space: nowrap !important; overflow:hidden !important; text-overflow:ellipsis !important;; }\n",
       "    </style><thead><tr style= \"background: rgba(243, 243, 243, 0.75)\"><th class=\"tdhistory194892\"></th><th class=\"tdhistory194892\">(2+5)</th></tr></thead><tbody class=\"tdhistory194892 resultset-body\"><tr><th class=\"tdhistory194892\" style= \"background: rgba(243, 243, 243, 0.75)\">1</th><td class=\"tdhistory194892\">7</td></tr></tbody></table></div>"
      ]
     },
     "execution_count": 4,
     "metadata": {
      "application/vnd.teradata.resultset": "{\"resultSetID\":\"/home/jovyan/JupyterLabRoot/Teradata/Resultsets/2024.09.09_06.27.16.004_UTC\",\"historyID\":613,\"chunkID\":\"00001\",\"sessionid\":\"\",\"portnum\":\"\",\"dockermode\":\"docker\",\"totalRowCount\":1,\"chunkCount\":0,\"rowLimit\":0,\"columnMetadata\":[{\"columnName\":\"(2+5)\",\"columnTypeName\":\"INTEGER\"}]}"
     },
     "output_type": "execute_result"
    }
   ],
   "source": [
    "SELECT 2+5"
   ]
  },
  {
   "cell_type": "markdown",
   "metadata": {},
   "source": [
    "<p style = 'font-size:16px;font-family:Arial;color:#00233C'>Now, let's run your first real SQL query. Click in the cell below and press Shift+Return to execute it. It will retrieve ten rows from a table named DBC.TablesV</p>"
   ]
  },
  {
   "cell_type": "code",
   "execution_count": 5,
   "metadata": {},
   "outputs": [
    {
     "data": {
      "application/vnd.teradata.resultset": "\"DataBaseName\",\"TableName\",\"Version\",\"TableKind\",\"ProtectionType\",\"JournalFlag\",\"CreatorName\",\"RequestText\",\"CommentString\",\"ParentCount\",\"ChildCount\",\"NamedTblCheckCount\",\"UnnamedTblCheckExist\",\"PrimaryKeyIndexId\",\"RepStatus\",\"CreateTimeStamp\",\"LastAlterName\",\"LastAlterTimeStamp\",\"RequestTxtOverflow\",\"AccessCount\",\"LastAccessTimeStamp\",\"UtilVersion\",\"QueueFlag\",\"CommitOpt\",\"TransLog\",\"CheckOpt\",\"TemporalProperty\",\"ResolvedCurrent_Date\",\"ResolvedCurrent_Timestamp\",\"SystemDefinedJI\",\"VTQualifier\",\"TTQualifier\",\"PIColumnCount\",\"PartitioningLevels\",\"LoadProperty\",\"CurrentLoadId\",\"LoadIdLayout\",\"DelayedJI\",\"LastArchiveId\",\"LastFullArchiveId\",\"BlockSize\",\"FreeSpacePercent\",\"MergeBlockRatio\",\"CheckSum\",\"BlockCompression\",\"BlockCompressionAlgorithm\",\"BlockCompressionLevel\",\"TableHeaderFormat\",\"RowSizeFormat\",\"MapName\",\"ColocationName\",\"TVMFlavor\",\"FastAlterTable\",\"IncrementalRestoreEnabled\",\"AuthName\"\n\"DBC\",\"Table_LevelConstraintsX\",\"1\",\"V \",\"F \",\"NN  \",\"DBC\",\"REPLACE VIEW DBC.Table_LevelConstraintsX\rAS\rSELECT CAST(SUBSTRING(TRANSLATE(Dbase.DatabaseName USING UNICODE_TO_LOCALE\r                      WITH ERROR) FROM 1 FOR 30) AS CHAR(30)) (NAMED DatabaseName),\r       CAST(SUBSTRING(TRANSLATE(tvm.TVMName USING UNICODE_TO_LOCALE WITH ERROR) FROM 1 FOR 30)\r            AS CHAR(30)) (named TableName),\r       CAST(SUBSTRING(TRANSLATE(TableConstraints.Name USING UNICODE_TO_LOCALE\r                      WITH ERROR) FROM 1 FOR 30) AS CHAR(30)) (named ConstraintName),\r       TRANSLATE(TableConstraints.TableCheck USING UNICODE_TO_LOCALE\r                 WITH ERROR) (named ConstraintText),\r       CAST(SUBSTRING(TRANSLATE(DB1.DatabaseName USING UNICODE_TO_LOCALE WITH ERROR) FROM 1 FOR 30)\r            AS CHAR(30)) (named CreatorName),\r       TableConstraints.CreateTimeStamp,\r       TableConstraints.VTCheckType, \r       TableConstraints.TTCheckType \rFROM  DBC.TableConstraints\r         LEFT OUTER JOIN DBC.Dbase DB1\r                      ON DBC.TableConstraints.CreateUID = DB1.DatabaseID,\r      DBC.Dbase, DBC.TVM\rWHERE TableConstraints.DbaseId= Dbase.DatabaseId\rAND   TableConstraints.TVMId = TVM.TVMId\rAND   ConstraintType = 'C' \rAND   ( (tvm.tvmid IN\r            (/* IDs of tables accessible to the USER */\r                SELECT tvm.tvmid\r                FROM   tvm, dbase, accessrights\r                WHERE  tvm.tvmid <> '000000000000'xb\r                AND    dbase.DataBaseNameI = USER\r                AND (\r                        /* User has right on all in TVMs DB */\r                        (tvm.DatabaseId = accessrights.DatabaseId AND\r                        accessrights.tvmid = '000000000000'xb AND\r                        accessrights.UserId = dbase.DatabaseId)\r                    )\r                UNION\r                SELECT tvm.tvmid\r                FROM   tvm, dbase, owners\r                WHERE  tvm.tvmid <> '000000000000'xb\r                AND    dbase.DataBaseNameI = USER\r                AND (\r                        /* User owns TVMs DB */\r                        (tvm.DatabaseId = owners.owneeid AND\r                        owners.ownerid = dbase.DatabaseId)\r                    )                    \r                UNION\r                SELECT tvm.tvmid\r                FROM   tvm, dbase\r                WHERE  tvm.tvmid <> '000000000000'xb\r                AND    dbase.DataBaseNameI = USER\r                AND    /* User *IS* TVMs DB */\r                        (tvm.DatabaseId = dbase.DatabaseId)\r                UNION\r                SELECT tvm.tvmid\r                FROM   tvm, dbase, accessrights\r                WHERE  tvm.tvmid <> '000000000000'xb\r                AND    dbase.DataBaseNameI = USER\r                AND (\r                        /* User has right on this specific TVM */\r                        (tvm.tvmid = accessrights.tvmid AND\r                        accessrights.UserId=dbase.DatabaseId)\r                    )\r            )\r        )\r        OR (tvm.tvmid IN\r             (/* IDs of tables accessible to USER's roles */\r              SELECT tvm.tvmid\r              FROM   TVM, ACCESSRIGHTS, ROLES\r              WHERE  TVM.tvmid       <> '000000000000'xb\r              AND    Roles.RoleId    =  AccessRights.UserId\r              AND    ROLE IS NOT NULL\r              AND    AccessRights.UserId IN \r               (SELECT RoleAccr.RoleId \r                FROM   DBC.Roles RoleAccr)\r              AND    (\r                 /* Role has right on all in TVMs DB */\r                 (tvm.DatabaseId      = accessrights.DatabaseId AND\r                  accessrights.tvmid  = '000000000000'xb)\r               )\r              AND    (  \r                (UPPER(ROLE) <> 'ALL'  AND\r                  /* Restrict to rights granted to current role */\r                  /* and the roles nested within current role   */\r                   (Roles.RoleId =\r                    (SELECT CurRole.RoleId\r                     FROM   DBC.Roles CurRole\r                     WHERE  CurRole.RoleNameI = ROLE)\r                    OR\r                    Roles.RoleId  IN\r                     (SELECT RG.RoleId\r                      FROM   DBC.RoleGrants RG,\r                             DBC.Roles      CurRole\r                      WHERE  RG.GranteeId = CurRole.RoleId AND\r                             CurRole.RoleNameI = ROLE))\r                )\r                OR\r                (UPPER(ROLE) = 'ALL'  AND\r                  /* The current role is ALL. Restrict to rights from */\r                  /* the roles directly granted to current user and   */\r                  /* nested roles within them */\r                  (Roles.RoleId  IN\r                   (SELECT UsrRG.RoleId\r                    FROM   DBC.RoleGrants UsrRG,\r                           DBC.Dbase      UserDB\r                    WHERE  UsrRG.GranteeId = UserDB.DatabaseId AND\r                           UserDB.DatabaseNameI = USER)\r                   OR    \r                   Roles.RoleId  IN\r                   (SELECT  RG.RoleId\r                    FROM    DBC.RoleGrants RG\r                    WHERE   RG.GranteeId in \r                            (SELECT UsrRG.RoleId\r                             FROM   DBC.RoleGrants UsrRG,\r                                    DBC.Dbase      UserDB\r                             WHERE  UsrRG.GranteeId = UserDB.DatabaseId AND\r                                    UserDB.DatabaseNameI = USER)))\r                ))\r         UNION ALL\r         SELECT tvm.tvmid\r              FROM   TVM, ACCESSRIGHTS, ROLES\r              WHERE  TVM.tvmid       <> '000000000000'xb\r              AND    Roles.RoleId    =  AccessRights.UserId\r              AND    ROLE IS NOT NULL\r              AND    AccessRights.UserId IN\r               (SELECT RoleAccr.RoleId\r                FROM   DBC.Roles RoleAccr)\r              AND    (\r                 /* Role has right on this specific TVM */\r                 (tvm.tvmid           = accessrights.tvmid)\r               )\r              AND    (\r                (UPPER(ROLE) <> 'ALL'  AND\r                  /* Restrict to rights granted to current role */\r                  /* and the roles nested within current role   */\r                   (Roles.RoleId =\r                    (SELECT CurRole.RoleId\r                     FROM   DBC.Roles CurRole\r                     WHERE  CurRole.RoleNameI = ROLE)\r                    OR\r                    Roles.RoleId  IN\r                     (SELECT RG.RoleId\r                      FROM   DBC.RoleGrants RG,\r                             DBC.Roles      CurRole\r                      WHERE  RG.GranteeId = CurRole.RoleId AND\r                             CurRole.RoleNameI = ROLE))\r                )\r                OR\r                (UPPER(ROLE) = 'ALL'  AND\r                  /* The current role is ALL. Restrict to rights from */\r                  /* the roles directly granted to current user and   */\r                  /* nested roles within them */\r                  (Roles.RoleId  IN\r                   (SELECT UsrRG.RoleId\r                    FROM   DBC.RoleGrants UsrRG,\r                           DBC.Dbase      UserDB\r                    WHERE  UsrRG.GranteeId = UserDB.DatabaseId AND\r                           UserDB.DatabaseNameI = USER)\r                   OR\r                   Roles.RoleId  IN\r                   (SELECT  RG.RoleId\r                    FROM    DBC.RoleGrants RG\r                    WHERE   RG.GranteeId in\r                            (SELECT UsrRG.RoleId\r                             FROM   DBC.RoleGrants UsrRG,\r                                    DBC.Dbase      UserDB\r                             WHERE  UsrRG.GranteeId = UserDB.DatabaseId AND\r                                    UserDB.DatabaseNameI = USER)))\r                )))\r        )\r      ) WITH CHECK OPTION;\",\"The Table_LevelConstraints view provides information about table constraints for the requesting user. The columns names are: DatabaseName, TableName, ConstraintName, ConstraintText, CreatorName and CreateTimeStamp.\",\"0\",\"0\",\"0\",\"N \",\"\",\"\",\"2024-08-22 11:18:28\",\"DBC\",\"2024-08-22 11:58:06\",\"\",\"\",\"\",\"\",\"N \",\"N \",\"Y \",\"Y \",\"N \",\"\",\"\",\"N \",\"\",\"\",\"0\",\"0\",\"\",\"\",\"\",\"\",\"\",\"\",\"\",\"\",\"\",\"\",\"\",\"\",\"\",\"\",\"0\",\"\",\"\",\"\",\"\",\"\",\"\"\n\"SYSUDTLIB\",\"JSON_COMBINE_UJL_RESULT\",\"1\",\"H \",\"F \",\"N   \",\"DBC\",\"\",\"\",\"0\",\"0\",\"0\",\"N \",\"0\",\"\",\"2024-08-22 11:28:14\",\"DBC\",\"2024-08-22 11:28:14\",\"\",\"\",\"\",\"\",\"N \",\"N \",\"Y \",\"N \",\"N \",\"\",\"\",\"N \",\"\",\"\",\"0\",\"0\",\"\",\"\",\"\",\"\",\"\",\"\",\"\",\"\",\"\",\"\",\"\",\"\",\"\",\"\",\"0\",\"TD_DataDictionaryMap\",\"\",\"\",\"\",\"\",\"\"\n\"TD_SYSFNLIB\",\"SHIFTRIGHT_I\",\"1\",\"F \",\"F \",\"N   \",\"DBC\",\"\",\"\",\"0\",\"0\",\"0\",\"N \",\"0\",\"\",\"2024-08-22 11:22:41\",\"DBC\",\"2024-08-22 11:22:41\",\"\",\"\",\"\",\"\",\"N \",\"N \",\"Y \",\"N \",\"\",\"\",\"\",\"\",\"\",\"\",\"0\",\"0\",\"\",\"\",\"\",\"\",\"\",\"\",\"\",\"\",\"\",\"\",\"\",\"\",\"\",\"\",\"0\",\"TD_DataDictionaryMap\",\"\",\"\",\"\",\"\",\"\"\n\"SYSSPATIAL\",\"SpheroidalDistanceDefault\",\"6\",\"F \",\"F \",\"N   \",\"DBC\",\"REPLACE FUNCTION SYSSPATIAL.SpheroidalDistance\r(\r    lat1 FLOAT, lon1 FLOAT,\r    lat2 FLOAT, lon2 FLOAT\r)\r    RETURNS FLOAT\r    LANGUAGE CPP\r    DETERMINISTIC\r    SPECIFIC SpheroidalDistanceDefault\r    NO SQL\r    EXTERNAL NAME 'SL!udflib';\",\"\",\"0\",\"0\",\"0\",\"N \",\"0\",\"\",\"2024-08-22 11:27:29\",\"DBC\",\"2024-08-22 12:05:15\",\"\",\"\",\"\",\"\",\"N \",\"N \",\"Y \",\"N \",\"N \",\"\",\"\",\"N \",\"\",\"\",\"0\",\"0\",\"\",\"\",\"\",\"\",\"\",\"\",\"\",\"\",\"\",\"\",\"\",\"\",\"\",\"\",\"1\",\"TD_DataDictionaryMap\",\"\",\"\",\"\",\"\",\"\"\n\"SYSLIB\",\"DBSRetryableErrors_TBF\",\"6\",\"R \",\"F \",\"N   \",\"DBC\",\"REPLACE FUNCTION SYSLIB.DBSRetryableErrors_TBF ()\rRETURNS TABLE ( ErrorCode SMALLINT )\rLANGUAGE C\rNO SQL\rDETERMINISTIC\rPARAMETER STYLE SQL\rEXTERNAL NAME 'SL!udflib';\",\"\",\"0\",\"0\",\"0\",\"N \",\"0\",\"\",\"2024-08-22 11:16:34\",\"DBC\",\"2024-08-22 11:56:55\",\"\",\"\",\"\",\"\",\"N \",\"N \",\"Y \",\"N \",\"N \",\"\",\"\",\"N \",\"\",\"\",\"0\",\"0\",\"\",\"\",\"\",\"\",\"\",\"\",\"\",\"\",\"\",\"\",\"\",\"\",\"\",\"\",\"1\",\"TD_DataDictionaryMap\",\"\",\"\",\"\",\"\",\"\"",
      "text/html": [
       "<div class = \"td-resultset-table-div\" style = \"max-height: 100%; overflow-y: auto\">\n",
       "      <table class=\"tdhistory676512\"><style>\n",
       "      table.tdhistory676512 { display: block !important; min-height: 189px !important; overflow: auto !important; height: 189px !important; width: 100% !important; border: 1px solid rgb(207, 207, 207) !important; border-collapse: collapse !important; ; color: var(--jp-ui-font-color1) !important; }\n",
       "      th.tdhistory676512 { border: 1px solid rgb(198,198,198) !important; border-collapse: collapse !important; ; padding: 2px 5px !important; ; font-size: 13px !important; ; text-align: center !important; white-space: normal !important; color: var(--jp-ui-font-color1) !important; }\n",
       "      th.tdhistory676512:last-child { text-align: left !important; }\n",
       "      tbody.tdhistory676512 tr:nth-child(even) { background: rgba(243, 243, 243, 0.75) !important; }\n",
       "      tbody.tdhistory676512 tr:nth-child(odd) { background: var(--jp-ui-inverse-font-color1) !important; }\n",
       "      td.tdhistory676512 { border: 1px solid rgb(207, 207, 207) !important; border-collapse: collapse !important; ; padding: 2px 5px !important; ; font-size: 13px !important; ; text-align: left !important;          white-space: nowrap !important; overflow:hidden !important; text-overflow:ellipsis !important;; }\n",
       "    </style><thead><tr style= \"background: rgba(243, 243, 243, 0.75)\"><th class=\"tdhistory676512\"></th><th class=\"tdhistory676512\">DataBaseName</th><th class=\"tdhistory676512\">TableName</th><th class=\"tdhistory676512\">Version</th><th class=\"tdhistory676512\">TableKind</th><th class=\"tdhistory676512\">ProtectionType</th><th class=\"tdhistory676512\">JournalFlag</th><th class=\"tdhistory676512\">CreatorName</th><th class=\"tdhistory676512\">RequestText</th><th class=\"tdhistory676512\">CommentString</th><th class=\"tdhistory676512\">ParentCount</th><th class=\"tdhistory676512\">ChildCount</th><th class=\"tdhistory676512\">NamedTblCheckCount</th><th class=\"tdhistory676512\">UnnamedTblCheckExist</th><th class=\"tdhistory676512\">PrimaryKeyIndexId</th><th class=\"tdhistory676512\">RepStatus</th><th class=\"tdhistory676512\">CreateTimeStamp</th><th class=\"tdhistory676512\">LastAlterName</th><th class=\"tdhistory676512\">LastAlterTimeStamp</th><th class=\"tdhistory676512\">RequestTxtOverflow</th><th class=\"tdhistory676512\">AccessCount</th><th class=\"tdhistory676512\">LastAccessTimeStamp</th><th class=\"tdhistory676512\">UtilVersion</th><th class=\"tdhistory676512\">QueueFlag</th><th class=\"tdhistory676512\">CommitOpt</th><th class=\"tdhistory676512\">TransLog</th><th class=\"tdhistory676512\">CheckOpt</th><th class=\"tdhistory676512\">TemporalProperty</th><th class=\"tdhistory676512\">ResolvedCurrent_Date</th><th class=\"tdhistory676512\">ResolvedCurrent_Timestamp</th><th class=\"tdhistory676512\">SystemDefinedJI</th><th class=\"tdhistory676512\">VTQualifier</th><th class=\"tdhistory676512\">TTQualifier</th><th class=\"tdhistory676512\">PIColumnCount</th><th class=\"tdhistory676512\">PartitioningLevels</th><th class=\"tdhistory676512\">LoadProperty</th><th class=\"tdhistory676512\">CurrentLoadId</th><th class=\"tdhistory676512\">LoadIdLayout</th><th class=\"tdhistory676512\">DelayedJI</th><th class=\"tdhistory676512\">LastArchiveId</th><th class=\"tdhistory676512\">LastFullArchiveId</th><th class=\"tdhistory676512\">BlockSize</th><th class=\"tdhistory676512\">FreeSpacePercent</th><th class=\"tdhistory676512\">MergeBlockRatio</th><th class=\"tdhistory676512\">CheckSum</th><th class=\"tdhistory676512\">BlockCompression</th><th class=\"tdhistory676512\">BlockCompressionAlgorithm</th><th class=\"tdhistory676512\">BlockCompressionLevel</th><th class=\"tdhistory676512\">TableHeaderFormat</th><th class=\"tdhistory676512\">RowSizeFormat</th><th class=\"tdhistory676512\">MapName</th><th class=\"tdhistory676512\">ColocationName</th><th class=\"tdhistory676512\">TVMFlavor</th><th class=\"tdhistory676512\">FastAlterTable</th><th class=\"tdhistory676512\">IncrementalRestoreEnabled</th><th class=\"tdhistory676512\">AuthName</th></tr></thead><tbody class=\"tdhistory676512 resultset-body\"><tr><th class=\"tdhistory676512\" style= \"background: rgba(243, 243, 243, 0.75)\">1</th><td class=\"tdhistory676512\">DBC</td><td class=\"tdhistory676512\">Table_LevelConstraintsX</td><td class=\"tdhistory676512\">1</td><td class=\"tdhistory676512\">V </td><td class=\"tdhistory676512\">F </td><td class=\"tdhistory676512\">NN  </td><td class=\"tdhistory676512\">DBC</td><td class=\"tdhistory676512\">REPLACE VIEW DBC.Table_LevelConstraintsX\r",
       "AS\r",
       "SELECT CAST(SUBSTRING(TRANSLATE(Dbase.DatabaseName USING UNICODE_TO_LOCALE\r",
       "                      WITH ERROR) FROM 1 FOR 30) AS CHAR(30)) (NAMED DatabaseName),\r",
       "       CAST(SUBSTRING(TRANSLATE(tvm.TVMName USING UNICODE_TO_LOCALE WITH ERROR) FROM 1 FOR 30)\r",
       "            AS CHAR(30)) (named TableName),\r",
       "       CAST(SUBSTRING(TRANSLATE(TableConstraints.Name USING UNICODE_TO_LOCALE\r",
       "                      WITH ERROR) FROM 1 FOR 30) AS CHAR(30)) (named ConstraintName),\r",
       "       TRANSLATE(TableConstraints.TableCheck USING UNICODE_TO_LOCALE\r",
       "                 WITH ERROR) (named ConstraintText),\r",
       "       CAST(SUBSTRING(TRANSLATE(DB1.DatabaseName USING UNICODE_TO_LOCALE WITH ERROR) FROM 1 FOR 30)\r",
       "            AS CHAR(30)) (named CreatorName),\r",
       "       TableConstraints.CreateTimeStamp,\r",
       "       TableConstraints.VTCheckType, \r",
       "       TableConstraints.TTCheckType \r",
       "FROM  DBC.TableConstraints\r",
       "         LEFT OUTER JOIN DBC.Dbase DB1\r",
       "                      ON DBC.TableConstraints.CreateUID = DB1.DatabaseID,\r",
       "      DBC.Dbase, DBC.TVM\r",
       "WHERE TableConstraints.DbaseId= Dbase.DatabaseId\r",
       "AND   TableConstraints.TVMId = TVM.TVMId\r",
       "AND   ConstraintType = 'C' \r",
       "AND   ( (tvm.tvmid IN\r",
       "            (/* IDs of tables accessible to the USER */\r",
       "                SELECT tvm.tvmid\r",
       "                FROM   tvm, dbase, accessrights\r",
       "                WHERE  tvm.tvmid <> '000000000000'xb\r",
       "                AND    dbase.DataBaseNameI = USER\r",
       "                AND (\r",
       "                        /* User has right on all in TVMs DB */\r",
       "                        (tvm.DatabaseId = accessrights.DatabaseId AND\r",
       "                        accessrights.tvmid = '000000000000'xb AND\r",
       "                        accessrights.UserId = dbase.DatabaseId)\r",
       "                    )\r",
       "                UNION\r",
       "                SELECT tvm.tvmid\r",
       "                FROM   tvm, dbase, owners\r",
       "                WHERE  tvm.tvmid <> '000000000000'xb\r",
       "                AND    dbase.DataBaseNameI = USER\r",
       "                AND (\r",
       "                        /* User owns TVMs DB */\r",
       "                        (tvm.DatabaseId = owners.owneeid AND\r",
       "                        owners.ownerid = dbase.DatabaseId)\r",
       "                    )                    \r",
       "                UNION\r",
       "                SELECT tvm.tvmid\r",
       "                FROM   tvm, dbase\r",
       "                WHERE  tvm.tvmid <> '000000000000'xb\r",
       "                AND    dbase.DataBaseNameI = USER\r",
       "                AND    /* User *IS* TVMs DB */\r",
       "                        (tvm.DatabaseId = dbase.DatabaseId)\r",
       "                UNION\r",
       "                SELECT tvm.tvmid\r",
       "                FROM   tvm, dbase, accessrights\r",
       "                WHERE  tvm.tvmid <> '000000000000'xb\r",
       "                AND    dbase.DataBaseNameI = USER\r",
       "                AND (\r",
       "                        /* User has right on this specific TVM */\r",
       "                        (tvm.tvmid = accessrights.tvmid AND\r",
       "                        accessrights.UserId=dbase.DatabaseId)\r",
       "                    )\r",
       "            )\r",
       "        )\r",
       "        OR (tvm.tvmid IN\r",
       "             (/* IDs of tables accessible to USER's roles */\r",
       "              SELECT tvm.tvmid\r",
       "              FROM   TVM, ACCESSRIGHTS, ROLES\r",
       "              WHERE  TVM.tvmid       <> '000000000000'xb\r",
       "              AND    Roles.RoleId    =  AccessRights.UserId\r",
       "              AND    ROLE IS NOT NULL\r",
       "              AND    AccessRights.UserId IN \r",
       "               (SELECT RoleAccr.RoleId \r",
       "                FROM   DBC.Roles RoleAccr)\r",
       "              AND    (\r",
       "                 /* Role has right on all in TVMs DB */\r",
       "                 (tvm.DatabaseId      = accessrights.DatabaseId AND\r",
       "                  accessrights.tvmid  = '000000000000'xb)\r",
       "               )\r",
       "              AND    (  \r",
       "                (UPPER(ROLE) <> 'ALL'  AND\r",
       "                  /* Restrict to rights granted to current role */\r",
       "                  /* and the roles nested within current role   */\r",
       "                   (Roles.RoleId =\r",
       "                    (SELECT CurRole.RoleId\r",
       "                     FROM   DBC.Roles CurRole\r",
       "                     WHERE  CurRole.RoleNameI = ROLE)\r",
       "                    OR\r",
       "                    Roles.RoleId  IN\r",
       "                     (SELECT RG.RoleId\r",
       "                      FROM   DBC.RoleGrants RG,\r",
       "                             DBC.Roles      CurRole\r",
       "                      WHERE  RG.GranteeId = CurRole.RoleId AND\r",
       "                             CurRole.RoleNameI = ROLE))\r",
       "                )\r",
       "                OR\r",
       "                (UPPER(ROLE) = 'ALL'  AND\r",
       "                  /* The current role is ALL. Restrict to rights from */\r",
       "                  /* the roles directly granted to current user and   */\r",
       "                  /* nested roles within them */\r",
       "                  (Roles.RoleId  IN\r",
       "                   (SELECT UsrRG.RoleId\r",
       "                    FROM   DBC.RoleGrants UsrRG,\r",
       "                           DBC.Dbase      UserDB\r",
       "                    WHERE  UsrRG.GranteeId = UserDB.DatabaseId AND\r",
       "                           UserDB.DatabaseNameI = USER)\r",
       "                   OR    \r",
       "                   Roles.RoleId  IN\r",
       "                   (SELECT  RG.RoleId\r",
       "                    FROM    DBC.RoleGrants RG\r",
       "                    WHERE   RG.GranteeId in \r",
       "                            (SELECT UsrRG.RoleId\r",
       "                             FROM   DBC.RoleGrants UsrRG,\r",
       "                                    DBC.Dbase      UserDB\r",
       "                             WHERE  UsrRG.GranteeId = UserDB.DatabaseId AND\r",
       "                                    UserDB.DatabaseNameI = USER)))\r",
       "                ))\r",
       "         UNION ALL\r",
       "         SELECT tvm.tvmid\r",
       "              FROM   TVM, ACCESSRIGHTS, ROLES\r",
       "              WHERE  TVM.tvmid       <> '000000000000'xb\r",
       "              AND    Roles.RoleId    =  AccessRights.UserId\r",
       "              AND    ROLE IS NOT NULL\r",
       "              AND    AccessRights.UserId IN\r",
       "               (SELECT RoleAccr.RoleId\r",
       "                FROM   DBC.Roles RoleAccr)\r",
       "              AND    (\r",
       "                 /* Role has right on this specific TVM */\r",
       "                 (tvm.tvmid           = accessrights.tvmid)\r",
       "               )\r",
       "              AND    (\r",
       "                (UPPER(ROLE) <> 'ALL'  AND\r",
       "                  /* Restrict to rights granted to current role */\r",
       "                  /* and the roles nested within current role   */\r",
       "                   (Roles.RoleId =\r",
       "                    (SELECT CurRole.RoleId\r",
       "                     FROM   DBC.Roles CurRole\r",
       "                     WHERE  CurRole.RoleNameI = ROLE)\r",
       "                    OR\r",
       "                    Roles.RoleId  IN\r",
       "                     (SELECT RG.RoleId\r",
       "                      FROM   DBC.RoleGrants RG,\r",
       "                             DBC.Roles      CurRole\r",
       "                      WHERE  RG.GranteeId = CurRole.RoleId AND\r",
       "                             CurRole.RoleNameI = ROLE))\r",
       "                )\r",
       "                OR\r",
       "                (UPPER(ROLE) = 'ALL'  AND\r",
       "                  /* The current role is ALL. Restrict to rights from */\r",
       "                  /* the roles directly granted to current user and   */\r",
       "                  /* nested roles within them */\r",
       "                  (Roles.RoleId  IN\r",
       "                   (SELECT UsrRG.RoleId\r",
       "                    FROM   DBC.RoleGrants UsrRG,\r",
       "                           DBC.Dbase      UserDB\r",
       "                    WHERE  UsrRG.GranteeId = UserDB.DatabaseId AND\r",
       "                           UserDB.DatabaseNameI = USER)\r",
       "                   OR\r",
       "                   Roles.RoleId  IN\r",
       "                   (SELECT  RG.RoleId\r",
       "                    FROM    DBC.RoleGrants RG\r",
       "                    WHERE   RG.GranteeId in\r",
       "                            (SELECT UsrRG.RoleId\r",
       "                             FROM   DBC.RoleGrants UsrRG,\r",
       "                                    DBC.Dbase      UserDB\r",
       "                             WHERE  UsrRG.GranteeId = UserDB.DatabaseId AND\r",
       "                                    UserDB.DatabaseNameI = USER)))\r",
       "                )))\r",
       "        )\r",
       "      ) WITH CHECK OPTION;</td><td class=\"tdhistory676512\">The Table_LevelConstraints view provides information about table constraints for the requesting user. The columns names are: DatabaseName, TableName, ConstraintName, ConstraintText, CreatorName and CreateTimeStamp.</td><td class=\"tdhistory676512\">0</td><td class=\"tdhistory676512\">0</td><td class=\"tdhistory676512\">0</td><td class=\"tdhistory676512\">N </td><td class=\"tdhistory676512\"></td><td class=\"tdhistory676512\"></td><td class=\"tdhistory676512\">2024-08-22 11:18:28</td><td class=\"tdhistory676512\">DBC</td><td class=\"tdhistory676512\">2024-08-22 11:58:06</td><td class=\"tdhistory676512\"></td><td class=\"tdhistory676512\"></td><td class=\"tdhistory676512\"></td><td class=\"tdhistory676512\"></td><td class=\"tdhistory676512\">N </td><td class=\"tdhistory676512\">N </td><td class=\"tdhistory676512\">Y </td><td class=\"tdhistory676512\">Y </td><td class=\"tdhistory676512\">N </td><td class=\"tdhistory676512\"></td><td class=\"tdhistory676512\"></td><td class=\"tdhistory676512\">N </td><td class=\"tdhistory676512\"></td><td class=\"tdhistory676512\"></td><td class=\"tdhistory676512\">0</td><td class=\"tdhistory676512\">0</td><td class=\"tdhistory676512\"></td><td class=\"tdhistory676512\"></td><td class=\"tdhistory676512\"></td><td class=\"tdhistory676512\"></td><td class=\"tdhistory676512\"></td><td class=\"tdhistory676512\"></td><td class=\"tdhistory676512\"></td><td class=\"tdhistory676512\"></td><td class=\"tdhistory676512\"></td><td class=\"tdhistory676512\"></td><td class=\"tdhistory676512\"></td><td class=\"tdhistory676512\"></td><td class=\"tdhistory676512\"></td><td class=\"tdhistory676512\"></td><td class=\"tdhistory676512\">0</td><td class=\"tdhistory676512\"></td><td class=\"tdhistory676512\"></td><td class=\"tdhistory676512\"></td><td class=\"tdhistory676512\"></td><td class=\"tdhistory676512\"></td><td class=\"tdhistory676512\"></td></tr><tr><th class=\"tdhistory676512\" style= \"background: rgba(243, 243, 243, 0.75)\">2</th><td class=\"tdhistory676512\">SYSUDTLIB</td><td class=\"tdhistory676512\">JSON_COMBINE_UJL_RESULT</td><td class=\"tdhistory676512\">1</td><td class=\"tdhistory676512\">H </td><td class=\"tdhistory676512\">F </td><td class=\"tdhistory676512\">N   </td><td class=\"tdhistory676512\">DBC</td><td class=\"tdhistory676512\"></td><td class=\"tdhistory676512\"></td><td class=\"tdhistory676512\">0</td><td class=\"tdhistory676512\">0</td><td class=\"tdhistory676512\">0</td><td class=\"tdhistory676512\">N </td><td class=\"tdhistory676512\">0</td><td class=\"tdhistory676512\"></td><td class=\"tdhistory676512\">2024-08-22 11:28:14</td><td class=\"tdhistory676512\">DBC</td><td class=\"tdhistory676512\">2024-08-22 11:28:14</td><td class=\"tdhistory676512\"></td><td class=\"tdhistory676512\"></td><td class=\"tdhistory676512\"></td><td class=\"tdhistory676512\"></td><td class=\"tdhistory676512\">N </td><td class=\"tdhistory676512\">N </td><td class=\"tdhistory676512\">Y </td><td class=\"tdhistory676512\">N </td><td class=\"tdhistory676512\">N </td><td class=\"tdhistory676512\"></td><td class=\"tdhistory676512\"></td><td class=\"tdhistory676512\">N </td><td class=\"tdhistory676512\"></td><td class=\"tdhistory676512\"></td><td class=\"tdhistory676512\">0</td><td class=\"tdhistory676512\">0</td><td class=\"tdhistory676512\"></td><td class=\"tdhistory676512\"></td><td class=\"tdhistory676512\"></td><td class=\"tdhistory676512\"></td><td class=\"tdhistory676512\"></td><td class=\"tdhistory676512\"></td><td class=\"tdhistory676512\"></td><td class=\"tdhistory676512\"></td><td class=\"tdhistory676512\"></td><td class=\"tdhistory676512\"></td><td class=\"tdhistory676512\"></td><td class=\"tdhistory676512\"></td><td class=\"tdhistory676512\"></td><td class=\"tdhistory676512\"></td><td class=\"tdhistory676512\">0</td><td class=\"tdhistory676512\">TD_DataDictionaryMap</td><td class=\"tdhistory676512\"></td><td class=\"tdhistory676512\"></td><td class=\"tdhistory676512\"></td><td class=\"tdhistory676512\"></td><td class=\"tdhistory676512\"></td></tr><tr><th class=\"tdhistory676512\" style= \"background: rgba(243, 243, 243, 0.75)\">3</th><td class=\"tdhistory676512\">TD_SYSFNLIB</td><td class=\"tdhistory676512\">SHIFTRIGHT_I</td><td class=\"tdhistory676512\">1</td><td class=\"tdhistory676512\">F </td><td class=\"tdhistory676512\">F </td><td class=\"tdhistory676512\">N   </td><td class=\"tdhistory676512\">DBC</td><td class=\"tdhistory676512\"></td><td class=\"tdhistory676512\"></td><td class=\"tdhistory676512\">0</td><td class=\"tdhistory676512\">0</td><td class=\"tdhistory676512\">0</td><td class=\"tdhistory676512\">N </td><td class=\"tdhistory676512\">0</td><td class=\"tdhistory676512\"></td><td class=\"tdhistory676512\">2024-08-22 11:22:41</td><td class=\"tdhistory676512\">DBC</td><td class=\"tdhistory676512\">2024-08-22 11:22:41</td><td class=\"tdhistory676512\"></td><td class=\"tdhistory676512\"></td><td class=\"tdhistory676512\"></td><td class=\"tdhistory676512\"></td><td class=\"tdhistory676512\">N </td><td class=\"tdhistory676512\">N </td><td class=\"tdhistory676512\">Y </td><td class=\"tdhistory676512\">N </td><td class=\"tdhistory676512\"></td><td class=\"tdhistory676512\"></td><td class=\"tdhistory676512\"></td><td class=\"tdhistory676512\"></td><td class=\"tdhistory676512\"></td><td class=\"tdhistory676512\"></td><td class=\"tdhistory676512\">0</td><td class=\"tdhistory676512\">0</td><td class=\"tdhistory676512\"></td><td class=\"tdhistory676512\"></td><td class=\"tdhistory676512\"></td><td class=\"tdhistory676512\"></td><td class=\"tdhistory676512\"></td><td class=\"tdhistory676512\"></td><td class=\"tdhistory676512\"></td><td class=\"tdhistory676512\"></td><td class=\"tdhistory676512\"></td><td class=\"tdhistory676512\"></td><td class=\"tdhistory676512\"></td><td class=\"tdhistory676512\"></td><td class=\"tdhistory676512\"></td><td class=\"tdhistory676512\"></td><td class=\"tdhistory676512\">0</td><td class=\"tdhistory676512\">TD_DataDictionaryMap</td><td class=\"tdhistory676512\"></td><td class=\"tdhistory676512\"></td><td class=\"tdhistory676512\"></td><td class=\"tdhistory676512\"></td><td class=\"tdhistory676512\"></td></tr><tr><th class=\"tdhistory676512\" style= \"background: rgba(243, 243, 243, 0.75)\">4</th><td class=\"tdhistory676512\">SYSSPATIAL</td><td class=\"tdhistory676512\">SpheroidalDistanceDefault</td><td class=\"tdhistory676512\">6</td><td class=\"tdhistory676512\">F </td><td class=\"tdhistory676512\">F </td><td class=\"tdhistory676512\">N   </td><td class=\"tdhistory676512\">DBC</td><td class=\"tdhistory676512\">REPLACE FUNCTION SYSSPATIAL.SpheroidalDistance\r",
       "(\r",
       "    lat1 FLOAT, lon1 FLOAT,\r",
       "    lat2 FLOAT, lon2 FLOAT\r",
       ")\r",
       "    RETURNS FLOAT\r",
       "    LANGUAGE CPP\r",
       "    DETERMINISTIC\r",
       "    SPECIFIC SpheroidalDistanceDefault\r",
       "    NO SQL\r",
       "    EXTERNAL NAME 'SL!udflib';</td><td class=\"tdhistory676512\"></td><td class=\"tdhistory676512\">0</td><td class=\"tdhistory676512\">0</td><td class=\"tdhistory676512\">0</td><td class=\"tdhistory676512\">N </td><td class=\"tdhistory676512\">0</td><td class=\"tdhistory676512\"></td><td class=\"tdhistory676512\">2024-08-22 11:27:29</td><td class=\"tdhistory676512\">DBC</td><td class=\"tdhistory676512\">2024-08-22 12:05:15</td><td class=\"tdhistory676512\"></td><td class=\"tdhistory676512\"></td><td class=\"tdhistory676512\"></td><td class=\"tdhistory676512\"></td><td class=\"tdhistory676512\">N </td><td class=\"tdhistory676512\">N </td><td class=\"tdhistory676512\">Y </td><td class=\"tdhistory676512\">N </td><td class=\"tdhistory676512\">N </td><td class=\"tdhistory676512\"></td><td class=\"tdhistory676512\"></td><td class=\"tdhistory676512\">N </td><td class=\"tdhistory676512\"></td><td class=\"tdhistory676512\"></td><td class=\"tdhistory676512\">0</td><td class=\"tdhistory676512\">0</td><td class=\"tdhistory676512\"></td><td class=\"tdhistory676512\"></td><td class=\"tdhistory676512\"></td><td class=\"tdhistory676512\"></td><td class=\"tdhistory676512\"></td><td class=\"tdhistory676512\"></td><td class=\"tdhistory676512\"></td><td class=\"tdhistory676512\"></td><td class=\"tdhistory676512\"></td><td class=\"tdhistory676512\"></td><td class=\"tdhistory676512\"></td><td class=\"tdhistory676512\"></td><td class=\"tdhistory676512\"></td><td class=\"tdhistory676512\"></td><td class=\"tdhistory676512\">1</td><td class=\"tdhistory676512\">TD_DataDictionaryMap</td><td class=\"tdhistory676512\"></td><td class=\"tdhistory676512\"></td><td class=\"tdhistory676512\"></td><td class=\"tdhistory676512\"></td><td class=\"tdhistory676512\"></td></tr><tr><th class=\"tdhistory676512\" style= \"background: rgba(243, 243, 243, 0.75)\">5</th><td class=\"tdhistory676512\">SYSLIB</td><td class=\"tdhistory676512\">DBSRetryableErrors_TBF</td><td class=\"tdhistory676512\">6</td><td class=\"tdhistory676512\">R </td><td class=\"tdhistory676512\">F </td><td class=\"tdhistory676512\">N   </td><td class=\"tdhistory676512\">DBC</td><td class=\"tdhistory676512\">REPLACE FUNCTION SYSLIB.DBSRetryableErrors_TBF ()\r",
       "RETURNS TABLE ( ErrorCode SMALLINT )\r",
       "LANGUAGE C\r",
       "NO SQL\r",
       "DETERMINISTIC\r",
       "PARAMETER STYLE SQL\r",
       "EXTERNAL NAME 'SL!udflib';</td><td class=\"tdhistory676512\"></td><td class=\"tdhistory676512\">0</td><td class=\"tdhistory676512\">0</td><td class=\"tdhistory676512\">0</td><td class=\"tdhistory676512\">N </td><td class=\"tdhistory676512\">0</td><td class=\"tdhistory676512\"></td><td class=\"tdhistory676512\">2024-08-22 11:16:34</td><td class=\"tdhistory676512\">DBC</td><td class=\"tdhistory676512\">2024-08-22 11:56:55</td><td class=\"tdhistory676512\"></td><td class=\"tdhistory676512\"></td><td class=\"tdhistory676512\"></td><td class=\"tdhistory676512\"></td><td class=\"tdhistory676512\">N </td><td class=\"tdhistory676512\">N </td><td class=\"tdhistory676512\">Y </td><td class=\"tdhistory676512\">N </td><td class=\"tdhistory676512\">N </td><td class=\"tdhistory676512\"></td><td class=\"tdhistory676512\"></td><td class=\"tdhistory676512\">N </td><td class=\"tdhistory676512\"></td><td class=\"tdhistory676512\"></td><td class=\"tdhistory676512\">0</td><td class=\"tdhistory676512\">0</td><td class=\"tdhistory676512\"></td><td class=\"tdhistory676512\"></td><td class=\"tdhistory676512\"></td><td class=\"tdhistory676512\"></td><td class=\"tdhistory676512\"></td><td class=\"tdhistory676512\"></td><td class=\"tdhistory676512\"></td><td class=\"tdhistory676512\"></td><td class=\"tdhistory676512\"></td><td class=\"tdhistory676512\"></td><td class=\"tdhistory676512\"></td><td class=\"tdhistory676512\"></td><td class=\"tdhistory676512\"></td><td class=\"tdhistory676512\"></td><td class=\"tdhistory676512\">1</td><td class=\"tdhistory676512\">TD_DataDictionaryMap</td><td class=\"tdhistory676512\"></td><td class=\"tdhistory676512\"></td><td class=\"tdhistory676512\"></td><td class=\"tdhistory676512\"></td><td class=\"tdhistory676512\"></td></tr></tbody></table></div>"
      ]
     },
     "execution_count": 5,
     "metadata": {
      "application/vnd.teradata.resultset": "{\"resultSetID\":\"/home/jovyan/JupyterLabRoot/Teradata/Resultsets/2024.09.09_06.27.16.541_UTC\",\"historyID\":614,\"chunkID\":\"00001\",\"sessionid\":\"\",\"portnum\":\"\",\"dockermode\":\"docker\",\"totalRowCount\":5,\"chunkCount\":0,\"rowLimit\":0,\"columnMetadata\":[{\"columnName\":\"DataBaseName\",\"columnTypeName\":\"VARCHAR\",\"length\":128,\"scale\":128},{\"columnNumber\":1,\"columnName\":\"TableName\",\"columnTypeName\":\"VARCHAR\",\"length\":128,\"scale\":128},{\"columnNumber\":2,\"columnName\":\"Version\",\"columnTypeName\":\"SMALLINT\"},{\"columnNumber\":3,\"columnName\":\"TableKind\",\"columnTypeName\":\"CHAR\",\"length\":1,\"scale\":1},{\"columnNumber\":4,\"columnName\":\"ProtectionType\",\"columnTypeName\":\"CHAR\",\"length\":1,\"scale\":1},{\"columnNumber\":5,\"columnName\":\"JournalFlag\",\"columnTypeName\":\"CHAR\",\"length\":2,\"scale\":2},{\"columnNumber\":6,\"columnName\":\"CreatorName\",\"columnTypeName\":\"VARCHAR\",\"length\":128,\"scale\":128},{\"columnNumber\":7,\"columnName\":\"RequestText\",\"columnTypeName\":\"VARCHAR\",\"length\":12500,\"scale\":12500},{\"columnNumber\":8,\"columnName\":\"CommentString\",\"columnTypeName\":\"VARCHAR\",\"length\":255,\"scale\":255},{\"columnNumber\":9,\"columnName\":\"ParentCount\",\"columnTypeName\":\"SMALLINT\"},{\"columnNumber\":10,\"columnName\":\"ChildCount\",\"columnTypeName\":\"SMALLINT\"},{\"columnNumber\":11,\"columnName\":\"NamedTblCheckCount\",\"columnTypeName\":\"SMALLINT\"},{\"columnNumber\":12,\"columnName\":\"UnnamedTblCheckExist\",\"columnTypeName\":\"CHAR\",\"length\":1,\"scale\":1},{\"columnNumber\":13,\"columnName\":\"PrimaryKeyIndexId\",\"columnTypeName\":\"SMALLINT\"},{\"columnNumber\":14,\"columnName\":\"RepStatus\",\"columnTypeName\":\"CHAR\",\"length\":1,\"scale\":1},{\"columnNumber\":15,\"columnName\":\"CreateTimeStamp\",\"columnTypeName\":\"TIMESTAMP\"},{\"columnNumber\":16,\"columnName\":\"LastAlterName\",\"columnTypeName\":\"VARCHAR\",\"length\":128,\"scale\":128},{\"columnNumber\":17,\"columnName\":\"LastAlterTimeStamp\",\"columnTypeName\":\"TIMESTAMP\"},{\"columnNumber\":18,\"columnName\":\"RequestTxtOverflow\",\"columnTypeName\":\"CHAR\",\"length\":1,\"scale\":1},{\"columnNumber\":19,\"columnName\":\"AccessCount\",\"columnTypeName\":\"BIGINT\"},{\"columnNumber\":20,\"columnName\":\"LastAccessTimeStamp\",\"columnTypeName\":\"TIMESTAMP\"},{\"columnNumber\":21,\"columnName\":\"UtilVersion\",\"columnTypeName\":\"SMALLINT\"},{\"columnNumber\":22,\"columnName\":\"QueueFlag\",\"columnTypeName\":\"CHAR\",\"length\":1,\"scale\":1},{\"columnNumber\":23,\"columnName\":\"CommitOpt\",\"columnTypeName\":\"CHAR\",\"length\":1,\"scale\":1},{\"columnNumber\":24,\"columnName\":\"TransLog\",\"columnTypeName\":\"CHAR\",\"length\":1,\"scale\":1},{\"columnNumber\":25,\"columnName\":\"CheckOpt\",\"columnTypeName\":\"CHAR\",\"length\":1,\"scale\":1},{\"columnNumber\":26,\"columnName\":\"TemporalProperty\",\"columnTypeName\":\"CHAR\",\"length\":1,\"scale\":1},{\"columnNumber\":27,\"columnName\":\"ResolvedCurrent_Date\",\"columnTypeName\":\"DATE\"},{\"columnNumber\":28,\"columnName\":\"ResolvedCurrent_Timestamp\",\"columnTypeName\":\"TIMESTAMP WITH TIME ZONE\",\"length\":6,\"scale\":6},{\"columnNumber\":29,\"columnName\":\"SystemDefinedJI\",\"columnTypeName\":\"CHAR\",\"length\":1,\"scale\":1},{\"columnNumber\":30,\"columnName\":\"VTQualifier\",\"columnTypeName\":\"CHAR\",\"length\":1,\"scale\":1},{\"columnNumber\":31,\"columnName\":\"TTQualifier\",\"columnTypeName\":\"CHAR\",\"length\":1,\"scale\":1},{\"columnNumber\":32,\"columnName\":\"PIColumnCount\",\"columnTypeName\":\"SMALLINT\"},{\"columnNumber\":33,\"columnName\":\"PartitioningLevels\",\"columnTypeName\":\"SMALLINT\"},{\"columnNumber\":34,\"columnName\":\"LoadProperty\",\"columnTypeName\":\"CHAR\",\"length\":1,\"scale\":1},{\"columnNumber\":35,\"columnName\":\"CurrentLoadId\",\"columnTypeName\":\"INTEGER\"},{\"columnNumber\":36,\"columnName\":\"LoadIdLayout\",\"columnTypeName\":\"CHAR\",\"length\":1,\"scale\":1},{\"columnNumber\":37,\"columnName\":\"DelayedJI\",\"columnTypeName\":\"CHAR\",\"length\":1,\"scale\":1},{\"columnNumber\":38,\"columnName\":\"LastArchiveId\",\"columnTypeName\":\"BIGINT\"},{\"columnNumber\":39,\"columnName\":\"LastFullArchiveId\",\"columnTypeName\":\"BIGINT\"},{\"columnNumber\":40,\"columnName\":\"BlockSize\",\"columnTypeName\":\"INTEGER\"},{\"columnNumber\":41,\"columnName\":\"FreeSpacePercent\",\"columnTypeName\":\"BYTEINT\"},{\"columnNumber\":42,\"columnName\":\"MergeBlockRatio\",\"columnTypeName\":\"BYTEINT\"},{\"columnNumber\":43,\"columnName\":\"CheckSum\",\"columnTypeName\":\"CHAR\",\"length\":1,\"scale\":1},{\"columnNumber\":44,\"columnName\":\"BlockCompression\",\"columnTypeName\":\"VARCHAR\",\"length\":8,\"scale\":8},{\"columnNumber\":45,\"columnName\":\"BlockCompressionAlgorithm\",\"columnTypeName\":\"VARCHAR\",\"length\":7,\"scale\":7},{\"columnNumber\":46,\"columnName\":\"BlockCompressionLevel\",\"columnTypeName\":\"VARCHAR\",\"length\":7,\"scale\":7},{\"columnNumber\":47,\"columnName\":\"TableHeaderFormat\",\"columnTypeName\":\"CHAR\",\"length\":1,\"scale\":1},{\"columnNumber\":48,\"columnName\":\"RowSizeFormat\",\"columnTypeName\":\"VARCHAR\",\"length\":1,\"scale\":1},{\"columnNumber\":49,\"columnName\":\"MapName\",\"columnTypeName\":\"VARCHAR\",\"length\":128,\"scale\":128},{\"columnNumber\":50,\"columnName\":\"ColocationName\",\"columnTypeName\":\"VARCHAR\",\"length\":128,\"scale\":128},{\"columnNumber\":51,\"columnName\":\"TVMFlavor\",\"columnTypeName\":\"CHAR\",\"length\":1,\"scale\":1},{\"columnNumber\":52,\"columnName\":\"FastAlterTable\",\"columnTypeName\":\"CHAR\",\"length\":1,\"scale\":1},{\"columnNumber\":53,\"columnName\":\"IncrementalRestoreEnabled\",\"columnTypeName\":\"INTEGER\"},{\"columnNumber\":54,\"columnName\":\"AuthName\",\"columnTypeName\":\"VARCHAR\",\"length\":128,\"scale\":128}]}"
     },
     "output_type": "execute_result"
    }
   ],
   "source": [
    "SELECT TOP 5 * FROM DBC.TablesV;"
   ]
  },
  {
   "cell_type": "markdown",
   "metadata": {},
   "source": [
    "<p style = 'font-size:16px;font-family:Arial;color:#00233C'>\n",
    "    This is the simplest high-level SQL query. <b>SELECT</b> is a SQL keyword that starts the first section on defining the columns we wan to extract. <b>FROM</b> is a SQL keyword that starts the source data section. <b>DBC.TablesV</b> is the table we want to extract all the columns.</p>\n",
    "\n",
    "<p style = 'font-size:16px;font-family:Arial;color:#00233C'>\n",
    "    Instead of \"shift+Enter\", one can also click on the <b>Execute</b> button (triangular Play button in the top toolbar) will run the SQL query on our Vantage environment</p>\n",
    "\n",
    "<p style = 'font-size:16px;font-family:Arial;color:#00233C'>After a few seconds you will find the results in the result window. You can select any cell, type Ctrl-C to copy the data, and then Ctrl-P in Excel to paste the data for further analysis (filtering, pivoting, etc.).</p>\n",
    "\n",
    "<p style = 'font-size:16px;font-family:Arial;color:#00233C'>The results include the following columns:</p>\n",
    "\n",
    "<ul style = 'font-size:16px;font-family:Arial;color:#00233C'>\n",
    "    <li>DatabaseName, name of the database a table is in</li>\n",
    "<li>TableName, name of the table</li>\n",
    "<li>Version</li>\n",
    "<li>TableKind</li>\n",
    "<li>ProtectionType</li>\n",
    "<li>JournalFlag</li>\n",
    "<li>CreatorName</li>\n",
    "<li>RequestText</li>\n",
    "<li>CommentString</li>\n",
    "<li>ParentCount</li>\n",
    "<li>ChildCount</li>\n",
    "<li>...</li>\n",
    "</ul>\n",
    "\n",
    "<p style = 'font-size:16px;font-family:Arial;color:#00233C'>To select specific columns, we define them in the <b>SELECT</b> statement delimitated by a comma. For readability, we will enter each one on a new line and use a nice tabular form:</p>"
   ]
  },
  {
   "cell_type": "code",
   "execution_count": 6,
   "metadata": {},
   "outputs": [
    {
     "data": {
      "application/vnd.teradata.resultset": "\"TableName\",\"DataBaseName\"\n\"byte2int\",\"GLOBAL_FUNCTIONS\"\n\"ESCINSERT\",\"SYSJDBC\"\n\"XSLT_SHRED_BATCH\",\"TD_SYSXML\"\n\"XSLT_SHRED\",\"TD_SYSXML\"\n\"xml_gettabdef\",\"TD_SYSXML\"",
      "text/html": [
       "<div class = \"td-resultset-table-div\" style = \"max-height: 100%; overflow-y: auto\">\n",
       "      <table class=\"tdhistory108057\"><style>\n",
       "      table.tdhistory108057 { display: block !important; min-height: 189px !important; overflow: auto !important; height: 189px !important; width: 100% !important; border: 1px solid rgb(207, 207, 207) !important; border-collapse: collapse !important; ; color: var(--jp-ui-font-color1) !important; }\n",
       "      th.tdhistory108057 { border: 1px solid rgb(198,198,198) !important; border-collapse: collapse !important; ; padding: 2px 5px !important; ; font-size: 13px !important; ; text-align: center !important; white-space: normal !important; color: var(--jp-ui-font-color1) !important; }\n",
       "      th.tdhistory108057:last-child { text-align: left !important; }\n",
       "      tbody.tdhistory108057 tr:nth-child(even) { background: rgba(243, 243, 243, 0.75) !important; }\n",
       "      tbody.tdhistory108057 tr:nth-child(odd) { background: var(--jp-ui-inverse-font-color1) !important; }\n",
       "      td.tdhistory108057 { border: 1px solid rgb(207, 207, 207) !important; border-collapse: collapse !important; ; padding: 2px 5px !important; ; font-size: 13px !important; ; text-align: left !important;          white-space: nowrap !important; overflow:hidden !important; text-overflow:ellipsis !important;; }\n",
       "    </style><thead><tr style= \"background: rgba(243, 243, 243, 0.75)\"><th class=\"tdhistory108057\"></th><th class=\"tdhistory108057\">TableName</th><th class=\"tdhistory108057\">DataBaseName</th></tr></thead><tbody class=\"tdhistory108057 resultset-body\"><tr><th class=\"tdhistory108057\" style= \"background: rgba(243, 243, 243, 0.75)\">1</th><td class=\"tdhistory108057\">byte2int</td><td class=\"tdhistory108057\">GLOBAL_FUNCTIONS</td></tr><tr><th class=\"tdhistory108057\" style= \"background: rgba(243, 243, 243, 0.75)\">2</th><td class=\"tdhistory108057\">ESCINSERT</td><td class=\"tdhistory108057\">SYSJDBC</td></tr><tr><th class=\"tdhistory108057\" style= \"background: rgba(243, 243, 243, 0.75)\">3</th><td class=\"tdhistory108057\">XSLT_SHRED_BATCH</td><td class=\"tdhistory108057\">TD_SYSXML</td></tr><tr><th class=\"tdhistory108057\" style= \"background: rgba(243, 243, 243, 0.75)\">4</th><td class=\"tdhistory108057\">XSLT_SHRED</td><td class=\"tdhistory108057\">TD_SYSXML</td></tr><tr><th class=\"tdhistory108057\" style= \"background: rgba(243, 243, 243, 0.75)\">5</th><td class=\"tdhistory108057\">xml_gettabdef</td><td class=\"tdhistory108057\">TD_SYSXML</td></tr></tbody></table></div>"
      ]
     },
     "execution_count": 6,
     "metadata": {
      "application/vnd.teradata.resultset": "{\"resultSetID\":\"/home/jovyan/JupyterLabRoot/Teradata/Resultsets/2024.09.09_06.27.16.747_UTC\",\"historyID\":615,\"chunkID\":\"00001\",\"sessionid\":\"\",\"portnum\":\"\",\"dockermode\":\"docker\",\"totalRowCount\":5,\"chunkCount\":0,\"rowLimit\":0,\"columnMetadata\":[{\"columnName\":\"TableName\",\"columnTypeName\":\"VARCHAR\",\"length\":128,\"scale\":128},{\"columnNumber\":1,\"columnName\":\"DataBaseName\",\"columnTypeName\":\"VARCHAR\",\"length\":128,\"scale\":128}]}"
     },
     "output_type": "execute_result"
    }
   ],
   "source": [
    "SELECT TOP 5 TableName, DatabaseName FROM DBC.TablesV;"
   ]
  },
  {
   "cell_type": "markdown",
   "metadata": {},
   "source": [
    "<hr style=\"height:2px;border:none;background-color:#00233C;\">\n",
    "<p style = 'font-size:20px;font-family:Arial;color:#00233C'><b>Ordering</b></p>\n",
    "\n",
    "<p style = 'font-size:16px;font-family:Arial;color:#00233C'>We can order the data by Name:</p>"
   ]
  },
  {
   "cell_type": "code",
   "execution_count": 7,
   "metadata": {},
   "outputs": [
    {
     "data": {
      "application/vnd.teradata.resultset": "\"TableName\",\"DataBaseName\"\n\"AbortCollect\",\"TDStats\"\n\"AbortListSessions\",\"SYSLIB\"\n\"AbortSessions\",\"SYSLIB\"\n\"AccessLog\",\"DBC\"\n\"AccessLogV\",\"DBC\"",
      "text/html": [
       "<div class = \"td-resultset-table-div\" style = \"max-height: 100%; overflow-y: auto\">\n",
       "      <table class=\"tdhistory627784\"><style>\n",
       "      table.tdhistory627784 { display: block !important; min-height: 189px !important; overflow: auto !important; height: 189px !important; width: 100% !important; border: 1px solid rgb(207, 207, 207) !important; border-collapse: collapse !important; ; color: var(--jp-ui-font-color1) !important; }\n",
       "      th.tdhistory627784 { border: 1px solid rgb(198,198,198) !important; border-collapse: collapse !important; ; padding: 2px 5px !important; ; font-size: 13px !important; ; text-align: center !important; white-space: normal !important; color: var(--jp-ui-font-color1) !important; }\n",
       "      th.tdhistory627784:last-child { text-align: left !important; }\n",
       "      tbody.tdhistory627784 tr:nth-child(even) { background: rgba(243, 243, 243, 0.75) !important; }\n",
       "      tbody.tdhistory627784 tr:nth-child(odd) { background: var(--jp-ui-inverse-font-color1) !important; }\n",
       "      td.tdhistory627784 { border: 1px solid rgb(207, 207, 207) !important; border-collapse: collapse !important; ; padding: 2px 5px !important; ; font-size: 13px !important; ; text-align: left !important;          white-space: nowrap !important; overflow:hidden !important; text-overflow:ellipsis !important;; }\n",
       "    </style><thead><tr style= \"background: rgba(243, 243, 243, 0.75)\"><th class=\"tdhistory627784\"></th><th class=\"tdhistory627784\">TableName</th><th class=\"tdhistory627784\">DataBaseName</th></tr></thead><tbody class=\"tdhistory627784 resultset-body\"><tr><th class=\"tdhistory627784\" style= \"background: rgba(243, 243, 243, 0.75)\">1</th><td class=\"tdhistory627784\">AbortCollect</td><td class=\"tdhistory627784\">TDStats</td></tr><tr><th class=\"tdhistory627784\" style= \"background: rgba(243, 243, 243, 0.75)\">2</th><td class=\"tdhistory627784\">AbortListSessions</td><td class=\"tdhistory627784\">SYSLIB</td></tr><tr><th class=\"tdhistory627784\" style= \"background: rgba(243, 243, 243, 0.75)\">3</th><td class=\"tdhistory627784\">AbortSessions</td><td class=\"tdhistory627784\">SYSLIB</td></tr><tr><th class=\"tdhistory627784\" style= \"background: rgba(243, 243, 243, 0.75)\">4</th><td class=\"tdhistory627784\">AccessLog</td><td class=\"tdhistory627784\">DBC</td></tr><tr><th class=\"tdhistory627784\" style= \"background: rgba(243, 243, 243, 0.75)\">5</th><td class=\"tdhistory627784\">AccessLogV</td><td class=\"tdhistory627784\">DBC</td></tr></tbody></table></div>"
      ]
     },
     "execution_count": 7,
     "metadata": {
      "application/vnd.teradata.resultset": "{\"resultSetID\":\"/home/jovyan/JupyterLabRoot/Teradata/Resultsets/2024.09.09_06.27.16.899_UTC\",\"historyID\":616,\"chunkID\":\"00001\",\"sessionid\":\"\",\"portnum\":\"\",\"dockermode\":\"docker\",\"totalRowCount\":5,\"chunkCount\":0,\"rowLimit\":0,\"columnMetadata\":[{\"columnName\":\"TableName\",\"columnTypeName\":\"VARCHAR\",\"length\":128,\"scale\":128},{\"columnNumber\":1,\"columnName\":\"DataBaseName\",\"columnTypeName\":\"VARCHAR\",\"length\":128,\"scale\":128}]}"
     },
     "output_type": "execute_result"
    }
   ],
   "source": [
    "SELECT TOP 5 TableName, DatabaseName FROM DBC.TablesV ORDER BY TableName;"
   ]
  },
  {
   "cell_type": "markdown",
   "metadata": {},
   "source": [
    "<p style = 'font-size:16px;font-family:Arial;color:#00233C'>We added here the SQL keyword <b>ORDER BY</b> followed by the column on which we want to order the data.</p>\n",
    "\n",
    "<p style = 'font-size:16px;font-family:Arial;color:#00233C'>To order in descending order, we add the SQL keyword <b>DESC</b> next to the column name:</p>"
   ]
  },
  {
   "cell_type": "code",
   "execution_count": 8,
   "metadata": {},
   "outputs": [
    {
     "data": {
      "application/vnd.teradata.resultset": "\"TableName\",\"DataBaseName\"\n\"_val_ks_out1\",\"demo_user\"\n\"_val_chisquare_out\",\"demo_user\"\n\"_val_binomial_example4\",\"demo_user\"\n\"_val_binomial_example2\",\"demo_user\"\n\"_TWM_1_TO_1_AFFINITY\",\"demo_user\"",
      "text/html": [
       "<div class = \"td-resultset-table-div\" style = \"max-height: 100%; overflow-y: auto\">\n",
       "      <table class=\"tdhistory204868\"><style>\n",
       "      table.tdhistory204868 { display: block !important; min-height: 189px !important; overflow: auto !important; height: 189px !important; width: 100% !important; border: 1px solid rgb(207, 207, 207) !important; border-collapse: collapse !important; ; color: var(--jp-ui-font-color1) !important; }\n",
       "      th.tdhistory204868 { border: 1px solid rgb(198,198,198) !important; border-collapse: collapse !important; ; padding: 2px 5px !important; ; font-size: 13px !important; ; text-align: center !important; white-space: normal !important; color: var(--jp-ui-font-color1) !important; }\n",
       "      th.tdhistory204868:last-child { text-align: left !important; }\n",
       "      tbody.tdhistory204868 tr:nth-child(even) { background: rgba(243, 243, 243, 0.75) !important; }\n",
       "      tbody.tdhistory204868 tr:nth-child(odd) { background: var(--jp-ui-inverse-font-color1) !important; }\n",
       "      td.tdhistory204868 { border: 1px solid rgb(207, 207, 207) !important; border-collapse: collapse !important; ; padding: 2px 5px !important; ; font-size: 13px !important; ; text-align: left !important;          white-space: nowrap !important; overflow:hidden !important; text-overflow:ellipsis !important;; }\n",
       "    </style><thead><tr style= \"background: rgba(243, 243, 243, 0.75)\"><th class=\"tdhistory204868\"></th><th class=\"tdhistory204868\">TableName</th><th class=\"tdhistory204868\">DataBaseName</th></tr></thead><tbody class=\"tdhistory204868 resultset-body\"><tr><th class=\"tdhistory204868\" style= \"background: rgba(243, 243, 243, 0.75)\">1</th><td class=\"tdhistory204868\">_val_ks_out1</td><td class=\"tdhistory204868\">demo_user</td></tr><tr><th class=\"tdhistory204868\" style= \"background: rgba(243, 243, 243, 0.75)\">2</th><td class=\"tdhistory204868\">_val_chisquare_out</td><td class=\"tdhistory204868\">demo_user</td></tr><tr><th class=\"tdhistory204868\" style= \"background: rgba(243, 243, 243, 0.75)\">3</th><td class=\"tdhistory204868\">_val_binomial_example4</td><td class=\"tdhistory204868\">demo_user</td></tr><tr><th class=\"tdhistory204868\" style= \"background: rgba(243, 243, 243, 0.75)\">4</th><td class=\"tdhistory204868\">_val_binomial_example2</td><td class=\"tdhistory204868\">demo_user</td></tr><tr><th class=\"tdhistory204868\" style= \"background: rgba(243, 243, 243, 0.75)\">5</th><td class=\"tdhistory204868\">_TWM_1_TO_1_AFFINITY</td><td class=\"tdhistory204868\">demo_user</td></tr></tbody></table></div>"
      ]
     },
     "execution_count": 8,
     "metadata": {
      "application/vnd.teradata.resultset": "{\"resultSetID\":\"/home/jovyan/JupyterLabRoot/Teradata/Resultsets/2024.09.09_06.27.17.049_UTC\",\"historyID\":617,\"chunkID\":\"00001\",\"sessionid\":\"\",\"portnum\":\"\",\"dockermode\":\"docker\",\"totalRowCount\":5,\"chunkCount\":0,\"rowLimit\":0,\"columnMetadata\":[{\"columnName\":\"TableName\",\"columnTypeName\":\"VARCHAR\",\"length\":128,\"scale\":128},{\"columnNumber\":1,\"columnName\":\"DataBaseName\",\"columnTypeName\":\"VARCHAR\",\"length\":128,\"scale\":128}]}"
     },
     "output_type": "execute_result"
    }
   ],
   "source": [
    "SELECT TOP 5 TableName, DatabaseName FROM DBC.TablesV ORDER BY TableName DESC;"
   ]
  },
  {
   "cell_type": "markdown",
   "metadata": {},
   "source": [
    "<p style = 'font-size:16px;font-family:Arial;color:#00233C'>We can order using multiple columns, for example:</p>"
   ]
  },
  {
   "cell_type": "code",
   "execution_count": 9,
   "metadata": {},
   "outputs": [
    {
     "data": {
      "application/vnd.teradata.resultset": "\"DataBaseName\",\"TableName\",\"Version\",\"TableKind\",\"ProtectionType\",\"JournalFlag\",\"CreatorName\",\"RequestText\",\"CommentString\",\"ParentCount\",\"ChildCount\",\"NamedTblCheckCount\",\"UnnamedTblCheckExist\",\"PrimaryKeyIndexId\",\"RepStatus\",\"CreateTimeStamp\",\"LastAlterName\",\"LastAlterTimeStamp\",\"RequestTxtOverflow\",\"AccessCount\",\"LastAccessTimeStamp\",\"UtilVersion\",\"QueueFlag\",\"CommitOpt\",\"TransLog\",\"CheckOpt\",\"TemporalProperty\",\"ResolvedCurrent_Date\",\"ResolvedCurrent_Timestamp\",\"SystemDefinedJI\",\"VTQualifier\",\"TTQualifier\",\"PIColumnCount\",\"PartitioningLevels\",\"LoadProperty\",\"CurrentLoadId\",\"LoadIdLayout\",\"DelayedJI\",\"LastArchiveId\",\"LastFullArchiveId\",\"BlockSize\",\"FreeSpacePercent\",\"MergeBlockRatio\",\"CheckSum\",\"BlockCompression\",\"BlockCompressionAlgorithm\",\"BlockCompressionLevel\",\"TableHeaderFormat\",\"RowSizeFormat\",\"MapName\",\"ColocationName\",\"TVMFlavor\",\"FastAlterTable\",\"IncrementalRestoreEnabled\",\"AuthName\"\n\"val\",\"accounts\",\"1\",\"T \",\"F \",\"NN  \",\"val\",\"CREATE SET TABLE accounts\r      ,NO BEFORE JOURNAL\r      ,NO AFTER JOURNAL\r      (\racct_nbr CHAR(16) CHARACTER SET LATIN NOT CASESPECIFIC NOT NULL\r,cust_id INTEGER\r,acct_type CHAR(2) CHARACTER SET LATIN NOT CASESPECIFIC\r,account_active CHAR(1) CHARACTER SET LATIN NOT CASESPECIFIC\r,acct_start_date DATE FORMAT 'YYYY-MM-DD'\r,acct_end_date DATE FORMAT 'YYYY-MM-DD'\r,starting_balance DECIMAL(9,2)\r,ending_balance DECIMAL(9,2)\r\r       )\r UNIQUE PRIMARY INDEX ( acct_nbr );\",\"\",\"0\",\"0\",\"0\",\"N \",\"\",\"\",\"2024-08-22 11:42:34\",\"val\",\"2024-08-22 11:42:34\",\"\",\"\",\"\",\"1\",\"N \",\"N \",\"Y \",\"N \",\"N \",\"\",\"\",\"N \",\"\",\"\",\"1\",\"0\",\"\",\"\",\"\",\"\",\"\",\"\",\"\",\"\",\"\",\"\",\"DEFAULT\",\"DEFAULT\",\"DEFAULT\",\"0 \",\"0\",\"TD_Map1\",\"\",\"\",\"\",\"\",\"\"\n\"val\",\"checking_acct\",\"1\",\"T \",\"F \",\"NN  \",\"val\",\"CREATE SET TABLE checking_acct\r      ,NO BEFORE JOURNAL\r      ,NO AFTER JOURNAL\r      (\rcust_id INTEGER NOT NULL\r,acct_nbr CHAR(16) CHARACTER SET LATIN NOT CASESPECIFIC\r,minimum_balance INTEGER\r,per_check_fee DECIMAL(9,2) FORMAT '--Z(6)9.99'\r,account_active CHAR(1) CHARACTER SET LATIN NOT CASESPECIFIC\r,acct_start_date DATE FORMAT 'YYYYMMDD'\r,acct_end_date DATE FORMAT 'YYYYMMDD'\r,starting_balance DECIMAL(9,2) FORMAT '--Z(6)9.99'\r,ending_balance DECIMAL(9,2) FORMAT '--Z(6)9.99'\r\r       )\r UNIQUE PRIMARY INDEX ( cust_id );\",\"\",\"0\",\"0\",\"0\",\"N \",\"\",\"\",\"2024-08-22 11:42:34\",\"val\",\"2024-08-22 11:42:34\",\"\",\"\",\"\",\"1\",\"N \",\"N \",\"Y \",\"N \",\"N \",\"\",\"\",\"N \",\"\",\"\",\"1\",\"0\",\"\",\"\",\"\",\"\",\"\",\"\",\"\",\"\",\"\",\"\",\"DEFAULT\",\"DEFAULT\",\"DEFAULT\",\"0 \",\"0\",\"TD_Map1\",\"\",\"\",\"\",\"\",\"\"\n\"val\",\"checking_tran\",\"1\",\"T \",\"F \",\"NN  \",\"val\",\"CREATE SET TABLE checking_tran\r      ,NO BEFORE JOURNAL\r      ,NO AFTER JOURNAL\r      (\rcust_id INTEGER\r,tran_id INTEGER\r,tran_amt DECIMAL(9,2) FORMAT '--Z(6)9.99'\r,principal_amt DECIMAL(9,2) FORMAT '--Z(6)9.99'\r,interest_amt DECIMAL(9,2) FORMAT '--Z(6)9.99'\r,new_balance DECIMAL(9,2) FORMAT '--Z(6)9.99'\r,tran_date DATE FORMAT 'YYYYMMDD'\r,tran_time CHAR(6) CHARACTER SET LATIN NOT CASESPECIFIC\r,channel CHAR(1) CHARACTER SET LATIN NOT CASESPECIFIC\r,tran_code CHAR(2) CHARACTER SET LATIN NOT CASESPECIFIC\r\r       )\r UNIQUE PRIMARY INDEX ( cust_id,tran_id );\",\"\",\"0\",\"0\",\"0\",\"N \",\"\",\"\",\"2024-08-22 11:42:35\",\"val\",\"2024-08-22 11:42:35\",\"\",\"\",\"\",\"1\",\"N \",\"N \",\"Y \",\"N \",\"N \",\"\",\"\",\"N \",\"\",\"\",\"2\",\"0\",\"\",\"\",\"\",\"\",\"\",\"\",\"\",\"\",\"\",\"\",\"DEFAULT\",\"DEFAULT\",\"DEFAULT\",\"0 \",\"0\",\"TD_Map1\",\"\",\"\",\"\",\"\",\"\"\n\"val\",\"credit_acct\",\"1\",\"T \",\"F \",\"NN  \",\"val\",\"CREATE SET TABLE credit_acct\r      ,NO BEFORE JOURNAL\r      ,NO AFTER JOURNAL\r      (\rcust_id INTEGER\r,acct_nbr CHAR(16) CHARACTER SET LATIN NOT CASESPECIFIC\r,credit_limit INTEGER\r,credit_rating SMALLINT\r,account_active CHAR(1) CHARACTER SET LATIN NOT CASESPECIFIC\r,acct_start_date DATE FORMAT 'YYYYMMDD'\r,acct_end_date DATE FORMAT 'YYYYMMDD'\r,starting_balance DECIMAL(9,2) FORMAT '--Z(6)9.99'\r,ending_balance DECIMAL(9,2) FORMAT '--Z(6)9.99'\r\r       )\r UNIQUE PRIMARY INDEX ( cust_id );\",\"\",\"0\",\"0\",\"0\",\"N \",\"\",\"\",\"2024-08-22 11:42:36\",\"val\",\"2024-08-22 11:42:36\",\"\",\"\",\"\",\"1\",\"N \",\"N \",\"Y \",\"N \",\"N \",\"\",\"\",\"N \",\"\",\"\",\"1\",\"0\",\"\",\"\",\"\",\"\",\"\",\"\",\"\",\"\",\"\",\"\",\"DEFAULT\",\"DEFAULT\",\"DEFAULT\",\"0 \",\"0\",\"TD_Map1\",\"\",\"\",\"\",\"\",\"\"\n\"val\",\"credit_tran\",\"1\",\"T \",\"F \",\"NN  \",\"val\",\"CREATE SET TABLE credit_tran\r      ,NO BEFORE JOURNAL\r      ,NO AFTER JOURNAL\r      (\rcust_id INTEGER\r,tran_id INTEGER\r,tran_amt DECIMAL(9,2) FORMAT '--Z(6)9.99'\r,principal_amt DECIMAL(9,2) FORMAT '--Z(6)9.99'\r,interest_amt DECIMAL(9,2) FORMAT '--Z(6)9.99'\r,new_balance DECIMAL(9,2) FORMAT '--Z(6)9.99'\r,tran_date DATE FORMAT 'YYYYMMDD'\r,tran_time CHAR(6) CHARACTER SET LATIN NOT CASESPECIFIC\r,channel CHAR(1) CHARACTER SET LATIN NOT CASESPECIFIC\r,tran_code CHAR(2) CHARACTER SET LATIN NOT CASESPECIFIC\r\r       )\r UNIQUE PRIMARY INDEX ( cust_id,tran_id );\",\"\",\"0\",\"0\",\"0\",\"N \",\"\",\"\",\"2024-08-22 11:42:36\",\"val\",\"2024-08-22 11:42:36\",\"\",\"\",\"\",\"1\",\"N \",\"N \",\"Y \",\"N \",\"N \",\"\",\"\",\"N \",\"\",\"\",\"2\",\"0\",\"\",\"\",\"\",\"\",\"\",\"\",\"\",\"\",\"\",\"\",\"DEFAULT\",\"DEFAULT\",\"DEFAULT\",\"0 \",\"0\",\"TD_Map1\",\"\",\"\",\"\",\"\",\"\"",
      "text/html": [
       "<div class = \"td-resultset-table-div\" style = \"max-height: 100%; overflow-y: auto\">\n",
       "      <table class=\"tdhistory711540\"><style>\n",
       "      table.tdhistory711540 { display: block !important; min-height: 189px !important; overflow: auto !important; height: 189px !important; width: 100% !important; border: 1px solid rgb(207, 207, 207) !important; border-collapse: collapse !important; ; color: var(--jp-ui-font-color1) !important; }\n",
       "      th.tdhistory711540 { border: 1px solid rgb(198,198,198) !important; border-collapse: collapse !important; ; padding: 2px 5px !important; ; font-size: 13px !important; ; text-align: center !important; white-space: normal !important; color: var(--jp-ui-font-color1) !important; }\n",
       "      th.tdhistory711540:last-child { text-align: left !important; }\n",
       "      tbody.tdhistory711540 tr:nth-child(even) { background: rgba(243, 243, 243, 0.75) !important; }\n",
       "      tbody.tdhistory711540 tr:nth-child(odd) { background: var(--jp-ui-inverse-font-color1) !important; }\n",
       "      td.tdhistory711540 { border: 1px solid rgb(207, 207, 207) !important; border-collapse: collapse !important; ; padding: 2px 5px !important; ; font-size: 13px !important; ; text-align: left !important;          white-space: nowrap !important; overflow:hidden !important; text-overflow:ellipsis !important;; }\n",
       "    </style><thead><tr style= \"background: rgba(243, 243, 243, 0.75)\"><th class=\"tdhistory711540\"></th><th class=\"tdhistory711540\">DataBaseName</th><th class=\"tdhistory711540\">TableName</th><th class=\"tdhistory711540\">Version</th><th class=\"tdhistory711540\">TableKind</th><th class=\"tdhistory711540\">ProtectionType</th><th class=\"tdhistory711540\">JournalFlag</th><th class=\"tdhistory711540\">CreatorName</th><th class=\"tdhistory711540\">RequestText</th><th class=\"tdhistory711540\">CommentString</th><th class=\"tdhistory711540\">ParentCount</th><th class=\"tdhistory711540\">ChildCount</th><th class=\"tdhistory711540\">NamedTblCheckCount</th><th class=\"tdhistory711540\">UnnamedTblCheckExist</th><th class=\"tdhistory711540\">PrimaryKeyIndexId</th><th class=\"tdhistory711540\">RepStatus</th><th class=\"tdhistory711540\">CreateTimeStamp</th><th class=\"tdhistory711540\">LastAlterName</th><th class=\"tdhistory711540\">LastAlterTimeStamp</th><th class=\"tdhistory711540\">RequestTxtOverflow</th><th class=\"tdhistory711540\">AccessCount</th><th class=\"tdhistory711540\">LastAccessTimeStamp</th><th class=\"tdhistory711540\">UtilVersion</th><th class=\"tdhistory711540\">QueueFlag</th><th class=\"tdhistory711540\">CommitOpt</th><th class=\"tdhistory711540\">TransLog</th><th class=\"tdhistory711540\">CheckOpt</th><th class=\"tdhistory711540\">TemporalProperty</th><th class=\"tdhistory711540\">ResolvedCurrent_Date</th><th class=\"tdhistory711540\">ResolvedCurrent_Timestamp</th><th class=\"tdhistory711540\">SystemDefinedJI</th><th class=\"tdhistory711540\">VTQualifier</th><th class=\"tdhistory711540\">TTQualifier</th><th class=\"tdhistory711540\">PIColumnCount</th><th class=\"tdhistory711540\">PartitioningLevels</th><th class=\"tdhistory711540\">LoadProperty</th><th class=\"tdhistory711540\">CurrentLoadId</th><th class=\"tdhistory711540\">LoadIdLayout</th><th class=\"tdhistory711540\">DelayedJI</th><th class=\"tdhistory711540\">LastArchiveId</th><th class=\"tdhistory711540\">LastFullArchiveId</th><th class=\"tdhistory711540\">BlockSize</th><th class=\"tdhistory711540\">FreeSpacePercent</th><th class=\"tdhistory711540\">MergeBlockRatio</th><th class=\"tdhistory711540\">CheckSum</th><th class=\"tdhistory711540\">BlockCompression</th><th class=\"tdhistory711540\">BlockCompressionAlgorithm</th><th class=\"tdhistory711540\">BlockCompressionLevel</th><th class=\"tdhistory711540\">TableHeaderFormat</th><th class=\"tdhistory711540\">RowSizeFormat</th><th class=\"tdhistory711540\">MapName</th><th class=\"tdhistory711540\">ColocationName</th><th class=\"tdhistory711540\">TVMFlavor</th><th class=\"tdhistory711540\">FastAlterTable</th><th class=\"tdhistory711540\">IncrementalRestoreEnabled</th><th class=\"tdhistory711540\">AuthName</th></tr></thead><tbody class=\"tdhistory711540 resultset-body\"><tr><th class=\"tdhistory711540\" style= \"background: rgba(243, 243, 243, 0.75)\">1</th><td class=\"tdhistory711540\">val</td><td class=\"tdhistory711540\">accounts</td><td class=\"tdhistory711540\">1</td><td class=\"tdhistory711540\">T </td><td class=\"tdhistory711540\">F </td><td class=\"tdhistory711540\">NN  </td><td class=\"tdhistory711540\">val</td><td class=\"tdhistory711540\">CREATE SET TABLE accounts\r",
       "      ,NO BEFORE JOURNAL\r",
       "      ,NO AFTER JOURNAL\r",
       "      (\r",
       "acct_nbr CHAR(16) CHARACTER SET LATIN NOT CASESPECIFIC NOT NULL\r",
       ",cust_id INTEGER\r",
       ",acct_type CHAR(2) CHARACTER SET LATIN NOT CASESPECIFIC\r",
       ",account_active CHAR(1) CHARACTER SET LATIN NOT CASESPECIFIC\r",
       ",acct_start_date DATE FORMAT 'YYYY-MM-DD'\r",
       ",acct_end_date DATE FORMAT 'YYYY-MM-DD'\r",
       ",starting_balance DECIMAL(9,2)\r",
       ",ending_balance DECIMAL(9,2)\r",
       "\r",
       "       )\r",
       " UNIQUE PRIMARY INDEX ( acct_nbr );</td><td class=\"tdhistory711540\"></td><td class=\"tdhistory711540\">0</td><td class=\"tdhistory711540\">0</td><td class=\"tdhistory711540\">0</td><td class=\"tdhistory711540\">N </td><td class=\"tdhistory711540\"></td><td class=\"tdhistory711540\"></td><td class=\"tdhistory711540\">2024-08-22 11:42:34</td><td class=\"tdhistory711540\">val</td><td class=\"tdhistory711540\">2024-08-22 11:42:34</td><td class=\"tdhistory711540\"></td><td class=\"tdhistory711540\"></td><td class=\"tdhistory711540\"></td><td class=\"tdhistory711540\">1</td><td class=\"tdhistory711540\">N </td><td class=\"tdhistory711540\">N </td><td class=\"tdhistory711540\">Y </td><td class=\"tdhistory711540\">N </td><td class=\"tdhistory711540\">N </td><td class=\"tdhistory711540\"></td><td class=\"tdhistory711540\"></td><td class=\"tdhistory711540\">N </td><td class=\"tdhistory711540\"></td><td class=\"tdhistory711540\"></td><td class=\"tdhistory711540\">1</td><td class=\"tdhistory711540\">0</td><td class=\"tdhistory711540\"></td><td class=\"tdhistory711540\"></td><td class=\"tdhistory711540\"></td><td class=\"tdhistory711540\"></td><td class=\"tdhistory711540\"></td><td class=\"tdhistory711540\"></td><td class=\"tdhistory711540\"></td><td class=\"tdhistory711540\"></td><td class=\"tdhistory711540\"></td><td class=\"tdhistory711540\"></td><td class=\"tdhistory711540\">DEFAULT</td><td class=\"tdhistory711540\">DEFAULT</td><td class=\"tdhistory711540\">DEFAULT</td><td class=\"tdhistory711540\">0 </td><td class=\"tdhistory711540\">0</td><td class=\"tdhistory711540\">TD_Map1</td><td class=\"tdhistory711540\"></td><td class=\"tdhistory711540\"></td><td class=\"tdhistory711540\"></td><td class=\"tdhistory711540\"></td><td class=\"tdhistory711540\"></td></tr><tr><th class=\"tdhistory711540\" style= \"background: rgba(243, 243, 243, 0.75)\">2</th><td class=\"tdhistory711540\">val</td><td class=\"tdhistory711540\">checking_acct</td><td class=\"tdhistory711540\">1</td><td class=\"tdhistory711540\">T </td><td class=\"tdhistory711540\">F </td><td class=\"tdhistory711540\">NN  </td><td class=\"tdhistory711540\">val</td><td class=\"tdhistory711540\">CREATE SET TABLE checking_acct\r",
       "      ,NO BEFORE JOURNAL\r",
       "      ,NO AFTER JOURNAL\r",
       "      (\r",
       "cust_id INTEGER NOT NULL\r",
       ",acct_nbr CHAR(16) CHARACTER SET LATIN NOT CASESPECIFIC\r",
       ",minimum_balance INTEGER\r",
       ",per_check_fee DECIMAL(9,2) FORMAT '--Z(6)9.99'\r",
       ",account_active CHAR(1) CHARACTER SET LATIN NOT CASESPECIFIC\r",
       ",acct_start_date DATE FORMAT 'YYYYMMDD'\r",
       ",acct_end_date DATE FORMAT 'YYYYMMDD'\r",
       ",starting_balance DECIMAL(9,2) FORMAT '--Z(6)9.99'\r",
       ",ending_balance DECIMAL(9,2) FORMAT '--Z(6)9.99'\r",
       "\r",
       "       )\r",
       " UNIQUE PRIMARY INDEX ( cust_id );</td><td class=\"tdhistory711540\"></td><td class=\"tdhistory711540\">0</td><td class=\"tdhistory711540\">0</td><td class=\"tdhistory711540\">0</td><td class=\"tdhistory711540\">N </td><td class=\"tdhistory711540\"></td><td class=\"tdhistory711540\"></td><td class=\"tdhistory711540\">2024-08-22 11:42:34</td><td class=\"tdhistory711540\">val</td><td class=\"tdhistory711540\">2024-08-22 11:42:34</td><td class=\"tdhistory711540\"></td><td class=\"tdhistory711540\"></td><td class=\"tdhistory711540\"></td><td class=\"tdhistory711540\">1</td><td class=\"tdhistory711540\">N </td><td class=\"tdhistory711540\">N </td><td class=\"tdhistory711540\">Y </td><td class=\"tdhistory711540\">N </td><td class=\"tdhistory711540\">N </td><td class=\"tdhistory711540\"></td><td class=\"tdhistory711540\"></td><td class=\"tdhistory711540\">N </td><td class=\"tdhistory711540\"></td><td class=\"tdhistory711540\"></td><td class=\"tdhistory711540\">1</td><td class=\"tdhistory711540\">0</td><td class=\"tdhistory711540\"></td><td class=\"tdhistory711540\"></td><td class=\"tdhistory711540\"></td><td class=\"tdhistory711540\"></td><td class=\"tdhistory711540\"></td><td class=\"tdhistory711540\"></td><td class=\"tdhistory711540\"></td><td class=\"tdhistory711540\"></td><td class=\"tdhistory711540\"></td><td class=\"tdhistory711540\"></td><td class=\"tdhistory711540\">DEFAULT</td><td class=\"tdhistory711540\">DEFAULT</td><td class=\"tdhistory711540\">DEFAULT</td><td class=\"tdhistory711540\">0 </td><td class=\"tdhistory711540\">0</td><td class=\"tdhistory711540\">TD_Map1</td><td class=\"tdhistory711540\"></td><td class=\"tdhistory711540\"></td><td class=\"tdhistory711540\"></td><td class=\"tdhistory711540\"></td><td class=\"tdhistory711540\"></td></tr><tr><th class=\"tdhistory711540\" style= \"background: rgba(243, 243, 243, 0.75)\">3</th><td class=\"tdhistory711540\">val</td><td class=\"tdhistory711540\">checking_tran</td><td class=\"tdhistory711540\">1</td><td class=\"tdhistory711540\">T </td><td class=\"tdhistory711540\">F </td><td class=\"tdhistory711540\">NN  </td><td class=\"tdhistory711540\">val</td><td class=\"tdhistory711540\">CREATE SET TABLE checking_tran\r",
       "      ,NO BEFORE JOURNAL\r",
       "      ,NO AFTER JOURNAL\r",
       "      (\r",
       "cust_id INTEGER\r",
       ",tran_id INTEGER\r",
       ",tran_amt DECIMAL(9,2) FORMAT '--Z(6)9.99'\r",
       ",principal_amt DECIMAL(9,2) FORMAT '--Z(6)9.99'\r",
       ",interest_amt DECIMAL(9,2) FORMAT '--Z(6)9.99'\r",
       ",new_balance DECIMAL(9,2) FORMAT '--Z(6)9.99'\r",
       ",tran_date DATE FORMAT 'YYYYMMDD'\r",
       ",tran_time CHAR(6) CHARACTER SET LATIN NOT CASESPECIFIC\r",
       ",channel CHAR(1) CHARACTER SET LATIN NOT CASESPECIFIC\r",
       ",tran_code CHAR(2) CHARACTER SET LATIN NOT CASESPECIFIC\r",
       "\r",
       "       )\r",
       " UNIQUE PRIMARY INDEX ( cust_id,tran_id );</td><td class=\"tdhistory711540\"></td><td class=\"tdhistory711540\">0</td><td class=\"tdhistory711540\">0</td><td class=\"tdhistory711540\">0</td><td class=\"tdhistory711540\">N </td><td class=\"tdhistory711540\"></td><td class=\"tdhistory711540\"></td><td class=\"tdhistory711540\">2024-08-22 11:42:35</td><td class=\"tdhistory711540\">val</td><td class=\"tdhistory711540\">2024-08-22 11:42:35</td><td class=\"tdhistory711540\"></td><td class=\"tdhistory711540\"></td><td class=\"tdhistory711540\"></td><td class=\"tdhistory711540\">1</td><td class=\"tdhistory711540\">N </td><td class=\"tdhistory711540\">N </td><td class=\"tdhistory711540\">Y </td><td class=\"tdhistory711540\">N </td><td class=\"tdhistory711540\">N </td><td class=\"tdhistory711540\"></td><td class=\"tdhistory711540\"></td><td class=\"tdhistory711540\">N </td><td class=\"tdhistory711540\"></td><td class=\"tdhistory711540\"></td><td class=\"tdhistory711540\">2</td><td class=\"tdhistory711540\">0</td><td class=\"tdhistory711540\"></td><td class=\"tdhistory711540\"></td><td class=\"tdhistory711540\"></td><td class=\"tdhistory711540\"></td><td class=\"tdhistory711540\"></td><td class=\"tdhistory711540\"></td><td class=\"tdhistory711540\"></td><td class=\"tdhistory711540\"></td><td class=\"tdhistory711540\"></td><td class=\"tdhistory711540\"></td><td class=\"tdhistory711540\">DEFAULT</td><td class=\"tdhistory711540\">DEFAULT</td><td class=\"tdhistory711540\">DEFAULT</td><td class=\"tdhistory711540\">0 </td><td class=\"tdhistory711540\">0</td><td class=\"tdhistory711540\">TD_Map1</td><td class=\"tdhistory711540\"></td><td class=\"tdhistory711540\"></td><td class=\"tdhistory711540\"></td><td class=\"tdhistory711540\"></td><td class=\"tdhistory711540\"></td></tr><tr><th class=\"tdhistory711540\" style= \"background: rgba(243, 243, 243, 0.75)\">4</th><td class=\"tdhistory711540\">val</td><td class=\"tdhistory711540\">credit_acct</td><td class=\"tdhistory711540\">1</td><td class=\"tdhistory711540\">T </td><td class=\"tdhistory711540\">F </td><td class=\"tdhistory711540\">NN  </td><td class=\"tdhistory711540\">val</td><td class=\"tdhistory711540\">CREATE SET TABLE credit_acct\r",
       "      ,NO BEFORE JOURNAL\r",
       "      ,NO AFTER JOURNAL\r",
       "      (\r",
       "cust_id INTEGER\r",
       ",acct_nbr CHAR(16) CHARACTER SET LATIN NOT CASESPECIFIC\r",
       ",credit_limit INTEGER\r",
       ",credit_rating SMALLINT\r",
       ",account_active CHAR(1) CHARACTER SET LATIN NOT CASESPECIFIC\r",
       ",acct_start_date DATE FORMAT 'YYYYMMDD'\r",
       ",acct_end_date DATE FORMAT 'YYYYMMDD'\r",
       ",starting_balance DECIMAL(9,2) FORMAT '--Z(6)9.99'\r",
       ",ending_balance DECIMAL(9,2) FORMAT '--Z(6)9.99'\r",
       "\r",
       "       )\r",
       " UNIQUE PRIMARY INDEX ( cust_id );</td><td class=\"tdhistory711540\"></td><td class=\"tdhistory711540\">0</td><td class=\"tdhistory711540\">0</td><td class=\"tdhistory711540\">0</td><td class=\"tdhistory711540\">N </td><td class=\"tdhistory711540\"></td><td class=\"tdhistory711540\"></td><td class=\"tdhistory711540\">2024-08-22 11:42:36</td><td class=\"tdhistory711540\">val</td><td class=\"tdhistory711540\">2024-08-22 11:42:36</td><td class=\"tdhistory711540\"></td><td class=\"tdhistory711540\"></td><td class=\"tdhistory711540\"></td><td class=\"tdhistory711540\">1</td><td class=\"tdhistory711540\">N </td><td class=\"tdhistory711540\">N </td><td class=\"tdhistory711540\">Y </td><td class=\"tdhistory711540\">N </td><td class=\"tdhistory711540\">N </td><td class=\"tdhistory711540\"></td><td class=\"tdhistory711540\"></td><td class=\"tdhistory711540\">N </td><td class=\"tdhistory711540\"></td><td class=\"tdhistory711540\"></td><td class=\"tdhistory711540\">1</td><td class=\"tdhistory711540\">0</td><td class=\"tdhistory711540\"></td><td class=\"tdhistory711540\"></td><td class=\"tdhistory711540\"></td><td class=\"tdhistory711540\"></td><td class=\"tdhistory711540\"></td><td class=\"tdhistory711540\"></td><td class=\"tdhistory711540\"></td><td class=\"tdhistory711540\"></td><td class=\"tdhistory711540\"></td><td class=\"tdhistory711540\"></td><td class=\"tdhistory711540\">DEFAULT</td><td class=\"tdhistory711540\">DEFAULT</td><td class=\"tdhistory711540\">DEFAULT</td><td class=\"tdhistory711540\">0 </td><td class=\"tdhistory711540\">0</td><td class=\"tdhistory711540\">TD_Map1</td><td class=\"tdhistory711540\"></td><td class=\"tdhistory711540\"></td><td class=\"tdhistory711540\"></td><td class=\"tdhistory711540\"></td><td class=\"tdhistory711540\"></td></tr><tr><th class=\"tdhistory711540\" style= \"background: rgba(243, 243, 243, 0.75)\">5</th><td class=\"tdhistory711540\">val</td><td class=\"tdhistory711540\">credit_tran</td><td class=\"tdhistory711540\">1</td><td class=\"tdhistory711540\">T </td><td class=\"tdhistory711540\">F </td><td class=\"tdhistory711540\">NN  </td><td class=\"tdhistory711540\">val</td><td class=\"tdhistory711540\">CREATE SET TABLE credit_tran\r",
       "      ,NO BEFORE JOURNAL\r",
       "      ,NO AFTER JOURNAL\r",
       "      (\r",
       "cust_id INTEGER\r",
       ",tran_id INTEGER\r",
       ",tran_amt DECIMAL(9,2) FORMAT '--Z(6)9.99'\r",
       ",principal_amt DECIMAL(9,2) FORMAT '--Z(6)9.99'\r",
       ",interest_amt DECIMAL(9,2) FORMAT '--Z(6)9.99'\r",
       ",new_balance DECIMAL(9,2) FORMAT '--Z(6)9.99'\r",
       ",tran_date DATE FORMAT 'YYYYMMDD'\r",
       ",tran_time CHAR(6) CHARACTER SET LATIN NOT CASESPECIFIC\r",
       ",channel CHAR(1) CHARACTER SET LATIN NOT CASESPECIFIC\r",
       ",tran_code CHAR(2) CHARACTER SET LATIN NOT CASESPECIFIC\r",
       "\r",
       "       )\r",
       " UNIQUE PRIMARY INDEX ( cust_id,tran_id );</td><td class=\"tdhistory711540\"></td><td class=\"tdhistory711540\">0</td><td class=\"tdhistory711540\">0</td><td class=\"tdhistory711540\">0</td><td class=\"tdhistory711540\">N </td><td class=\"tdhistory711540\"></td><td class=\"tdhistory711540\"></td><td class=\"tdhistory711540\">2024-08-22 11:42:36</td><td class=\"tdhistory711540\">val</td><td class=\"tdhistory711540\">2024-08-22 11:42:36</td><td class=\"tdhistory711540\"></td><td class=\"tdhistory711540\"></td><td class=\"tdhistory711540\"></td><td class=\"tdhistory711540\">1</td><td class=\"tdhistory711540\">N </td><td class=\"tdhistory711540\">N </td><td class=\"tdhistory711540\">Y </td><td class=\"tdhistory711540\">N </td><td class=\"tdhistory711540\">N </td><td class=\"tdhistory711540\"></td><td class=\"tdhistory711540\"></td><td class=\"tdhistory711540\">N </td><td class=\"tdhistory711540\"></td><td class=\"tdhistory711540\"></td><td class=\"tdhistory711540\">2</td><td class=\"tdhistory711540\">0</td><td class=\"tdhistory711540\"></td><td class=\"tdhistory711540\"></td><td class=\"tdhistory711540\"></td><td class=\"tdhistory711540\"></td><td class=\"tdhistory711540\"></td><td class=\"tdhistory711540\"></td><td class=\"tdhistory711540\"></td><td class=\"tdhistory711540\"></td><td class=\"tdhistory711540\"></td><td class=\"tdhistory711540\"></td><td class=\"tdhistory711540\">DEFAULT</td><td class=\"tdhistory711540\">DEFAULT</td><td class=\"tdhistory711540\">DEFAULT</td><td class=\"tdhistory711540\">0 </td><td class=\"tdhistory711540\">0</td><td class=\"tdhistory711540\">TD_Map1</td><td class=\"tdhistory711540\"></td><td class=\"tdhistory711540\"></td><td class=\"tdhistory711540\"></td><td class=\"tdhistory711540\"></td><td class=\"tdhistory711540\"></td></tr></tbody></table></div>"
      ]
     },
     "execution_count": 9,
     "metadata": {
      "application/vnd.teradata.resultset": "{\"resultSetID\":\"/home/jovyan/JupyterLabRoot/Teradata/Resultsets/2024.09.09_06.27.17.509_UTC\",\"historyID\":618,\"chunkID\":\"00001\",\"sessionid\":\"\",\"portnum\":\"\",\"dockermode\":\"docker\",\"totalRowCount\":5,\"chunkCount\":0,\"rowLimit\":0,\"columnMetadata\":[{\"columnName\":\"DataBaseName\",\"columnTypeName\":\"VARCHAR\",\"length\":128,\"scale\":128},{\"columnNumber\":1,\"columnName\":\"TableName\",\"columnTypeName\":\"VARCHAR\",\"length\":128,\"scale\":128},{\"columnNumber\":2,\"columnName\":\"Version\",\"columnTypeName\":\"SMALLINT\"},{\"columnNumber\":3,\"columnName\":\"TableKind\",\"columnTypeName\":\"CHAR\",\"length\":1,\"scale\":1},{\"columnNumber\":4,\"columnName\":\"ProtectionType\",\"columnTypeName\":\"CHAR\",\"length\":1,\"scale\":1},{\"columnNumber\":5,\"columnName\":\"JournalFlag\",\"columnTypeName\":\"CHAR\",\"length\":2,\"scale\":2},{\"columnNumber\":6,\"columnName\":\"CreatorName\",\"columnTypeName\":\"VARCHAR\",\"length\":128,\"scale\":128},{\"columnNumber\":7,\"columnName\":\"RequestText\",\"columnTypeName\":\"VARCHAR\",\"length\":12500,\"scale\":12500},{\"columnNumber\":8,\"columnName\":\"CommentString\",\"columnTypeName\":\"VARCHAR\",\"length\":255,\"scale\":255},{\"columnNumber\":9,\"columnName\":\"ParentCount\",\"columnTypeName\":\"SMALLINT\"},{\"columnNumber\":10,\"columnName\":\"ChildCount\",\"columnTypeName\":\"SMALLINT\"},{\"columnNumber\":11,\"columnName\":\"NamedTblCheckCount\",\"columnTypeName\":\"SMALLINT\"},{\"columnNumber\":12,\"columnName\":\"UnnamedTblCheckExist\",\"columnTypeName\":\"CHAR\",\"length\":1,\"scale\":1},{\"columnNumber\":13,\"columnName\":\"PrimaryKeyIndexId\",\"columnTypeName\":\"SMALLINT\"},{\"columnNumber\":14,\"columnName\":\"RepStatus\",\"columnTypeName\":\"CHAR\",\"length\":1,\"scale\":1},{\"columnNumber\":15,\"columnName\":\"CreateTimeStamp\",\"columnTypeName\":\"TIMESTAMP\"},{\"columnNumber\":16,\"columnName\":\"LastAlterName\",\"columnTypeName\":\"VARCHAR\",\"length\":128,\"scale\":128},{\"columnNumber\":17,\"columnName\":\"LastAlterTimeStamp\",\"columnTypeName\":\"TIMESTAMP\"},{\"columnNumber\":18,\"columnName\":\"RequestTxtOverflow\",\"columnTypeName\":\"CHAR\",\"length\":1,\"scale\":1},{\"columnNumber\":19,\"columnName\":\"AccessCount\",\"columnTypeName\":\"BIGINT\"},{\"columnNumber\":20,\"columnName\":\"LastAccessTimeStamp\",\"columnTypeName\":\"TIMESTAMP\"},{\"columnNumber\":21,\"columnName\":\"UtilVersion\",\"columnTypeName\":\"SMALLINT\"},{\"columnNumber\":22,\"columnName\":\"QueueFlag\",\"columnTypeName\":\"CHAR\",\"length\":1,\"scale\":1},{\"columnNumber\":23,\"columnName\":\"CommitOpt\",\"columnTypeName\":\"CHAR\",\"length\":1,\"scale\":1},{\"columnNumber\":24,\"columnName\":\"TransLog\",\"columnTypeName\":\"CHAR\",\"length\":1,\"scale\":1},{\"columnNumber\":25,\"columnName\":\"CheckOpt\",\"columnTypeName\":\"CHAR\",\"length\":1,\"scale\":1},{\"columnNumber\":26,\"columnName\":\"TemporalProperty\",\"columnTypeName\":\"CHAR\",\"length\":1,\"scale\":1},{\"columnNumber\":27,\"columnName\":\"ResolvedCurrent_Date\",\"columnTypeName\":\"DATE\"},{\"columnNumber\":28,\"columnName\":\"ResolvedCurrent_Timestamp\",\"columnTypeName\":\"TIMESTAMP WITH TIME ZONE\",\"length\":6,\"scale\":6},{\"columnNumber\":29,\"columnName\":\"SystemDefinedJI\",\"columnTypeName\":\"CHAR\",\"length\":1,\"scale\":1},{\"columnNumber\":30,\"columnName\":\"VTQualifier\",\"columnTypeName\":\"CHAR\",\"length\":1,\"scale\":1},{\"columnNumber\":31,\"columnName\":\"TTQualifier\",\"columnTypeName\":\"CHAR\",\"length\":1,\"scale\":1},{\"columnNumber\":32,\"columnName\":\"PIColumnCount\",\"columnTypeName\":\"SMALLINT\"},{\"columnNumber\":33,\"columnName\":\"PartitioningLevels\",\"columnTypeName\":\"SMALLINT\"},{\"columnNumber\":34,\"columnName\":\"LoadProperty\",\"columnTypeName\":\"CHAR\",\"length\":1,\"scale\":1},{\"columnNumber\":35,\"columnName\":\"CurrentLoadId\",\"columnTypeName\":\"INTEGER\"},{\"columnNumber\":36,\"columnName\":\"LoadIdLayout\",\"columnTypeName\":\"CHAR\",\"length\":1,\"scale\":1},{\"columnNumber\":37,\"columnName\":\"DelayedJI\",\"columnTypeName\":\"CHAR\",\"length\":1,\"scale\":1},{\"columnNumber\":38,\"columnName\":\"LastArchiveId\",\"columnTypeName\":\"BIGINT\"},{\"columnNumber\":39,\"columnName\":\"LastFullArchiveId\",\"columnTypeName\":\"BIGINT\"},{\"columnNumber\":40,\"columnName\":\"BlockSize\",\"columnTypeName\":\"INTEGER\"},{\"columnNumber\":41,\"columnName\":\"FreeSpacePercent\",\"columnTypeName\":\"BYTEINT\"},{\"columnNumber\":42,\"columnName\":\"MergeBlockRatio\",\"columnTypeName\":\"BYTEINT\"},{\"columnNumber\":43,\"columnName\":\"CheckSum\",\"columnTypeName\":\"CHAR\",\"length\":1,\"scale\":1},{\"columnNumber\":44,\"columnName\":\"BlockCompression\",\"columnTypeName\":\"VARCHAR\",\"length\":8,\"scale\":8},{\"columnNumber\":45,\"columnName\":\"BlockCompressionAlgorithm\",\"columnTypeName\":\"VARCHAR\",\"length\":7,\"scale\":7},{\"columnNumber\":46,\"columnName\":\"BlockCompressionLevel\",\"columnTypeName\":\"VARCHAR\",\"length\":7,\"scale\":7},{\"columnNumber\":47,\"columnName\":\"TableHeaderFormat\",\"columnTypeName\":\"CHAR\",\"length\":1,\"scale\":1},{\"columnNumber\":48,\"columnName\":\"RowSizeFormat\",\"columnTypeName\":\"VARCHAR\",\"length\":1,\"scale\":1},{\"columnNumber\":49,\"columnName\":\"MapName\",\"columnTypeName\":\"VARCHAR\",\"length\":128,\"scale\":128},{\"columnNumber\":50,\"columnName\":\"ColocationName\",\"columnTypeName\":\"VARCHAR\",\"length\":128,\"scale\":128},{\"columnNumber\":51,\"columnName\":\"TVMFlavor\",\"columnTypeName\":\"CHAR\",\"length\":1,\"scale\":1},{\"columnNumber\":52,\"columnName\":\"FastAlterTable\",\"columnTypeName\":\"CHAR\",\"length\":1,\"scale\":1},{\"columnNumber\":53,\"columnName\":\"IncrementalRestoreEnabled\",\"columnTypeName\":\"INTEGER\"},{\"columnNumber\":54,\"columnName\":\"AuthName\",\"columnTypeName\":\"VARCHAR\",\"length\":128,\"scale\":128}]}"
     },
     "output_type": "execute_result"
    }
   ],
   "source": [
    "SELECT\n",
    "    TOP 5 *\n",
    "FROM\n",
    "    DBC.TablesV\n",
    "ORDER BY DatabaseName DESC, TableName "
   ]
  },
  {
   "cell_type": "markdown",
   "metadata": {},
   "source": [
    "<hr style=\"height:2px;border:none;background-color:#00233C;\">\n",
    "<p style = 'font-size:20px;font-family:Arial;color:#00233C'><b>Filtering</b></p>\n",
    "\n",
    "<p style = 'font-size:16px;font-family:Arial;color:#00233C'>We can filter for specific value with the SQL keyword <b>WHERE</b>. For example:</p>"
   ]
  },
  {
   "cell_type": "code",
   "execution_count": 10,
   "metadata": {},
   "outputs": [
    {
     "data": {
      "application/vnd.teradata.resultset": "\"DataBaseName\",\"TableName\",\"Version\",\"TableKind\",\"ProtectionType\",\"JournalFlag\",\"CreatorName\",\"RequestText\",\"CommentString\",\"ParentCount\",\"ChildCount\",\"NamedTblCheckCount\",\"UnnamedTblCheckExist\",\"PrimaryKeyIndexId\",\"RepStatus\",\"CreateTimeStamp\",\"LastAlterName\",\"LastAlterTimeStamp\",\"RequestTxtOverflow\",\"AccessCount\",\"LastAccessTimeStamp\",\"UtilVersion\",\"QueueFlag\",\"CommitOpt\",\"TransLog\",\"CheckOpt\",\"TemporalProperty\",\"ResolvedCurrent_Date\",\"ResolvedCurrent_Timestamp\",\"SystemDefinedJI\",\"VTQualifier\",\"TTQualifier\",\"PIColumnCount\",\"PartitioningLevels\",\"LoadProperty\",\"CurrentLoadId\",\"LoadIdLayout\",\"DelayedJI\",\"LastArchiveId\",\"LastFullArchiveId\",\"BlockSize\",\"FreeSpacePercent\",\"MergeBlockRatio\",\"CheckSum\",\"BlockCompression\",\"BlockCompressionAlgorithm\",\"BlockCompressionLevel\",\"TableHeaderFormat\",\"RowSizeFormat\",\"MapName\",\"ColocationName\",\"TVMFlavor\",\"FastAlterTable\",\"IncrementalRestoreEnabled\",\"AuthName\"\n\"val\",\"accounts\",\"1\",\"T \",\"F \",\"NN  \",\"val\",\"CREATE SET TABLE accounts\r      ,NO BEFORE JOURNAL\r      ,NO AFTER JOURNAL\r      (\racct_nbr CHAR(16) CHARACTER SET LATIN NOT CASESPECIFIC NOT NULL\r,cust_id INTEGER\r,acct_type CHAR(2) CHARACTER SET LATIN NOT CASESPECIFIC\r,account_active CHAR(1) CHARACTER SET LATIN NOT CASESPECIFIC\r,acct_start_date DATE FORMAT 'YYYY-MM-DD'\r,acct_end_date DATE FORMAT 'YYYY-MM-DD'\r,starting_balance DECIMAL(9,2)\r,ending_balance DECIMAL(9,2)\r\r       )\r UNIQUE PRIMARY INDEX ( acct_nbr );\",\"\",\"0\",\"0\",\"0\",\"N \",\"\",\"\",\"2024-08-22 11:42:34\",\"val\",\"2024-08-22 11:42:34\",\"\",\"\",\"\",\"1\",\"N \",\"N \",\"Y \",\"N \",\"N \",\"\",\"\",\"N \",\"\",\"\",\"1\",\"0\",\"\",\"\",\"\",\"\",\"\",\"\",\"\",\"\",\"\",\"\",\"DEFAULT\",\"DEFAULT\",\"DEFAULT\",\"0 \",\"0\",\"TD_Map1\",\"\",\"\",\"\",\"\",\"\"\n\"val\",\"checking_acct\",\"1\",\"T \",\"F \",\"NN  \",\"val\",\"CREATE SET TABLE checking_acct\r      ,NO BEFORE JOURNAL\r      ,NO AFTER JOURNAL\r      (\rcust_id INTEGER NOT NULL\r,acct_nbr CHAR(16) CHARACTER SET LATIN NOT CASESPECIFIC\r,minimum_balance INTEGER\r,per_check_fee DECIMAL(9,2) FORMAT '--Z(6)9.99'\r,account_active CHAR(1) CHARACTER SET LATIN NOT CASESPECIFIC\r,acct_start_date DATE FORMAT 'YYYYMMDD'\r,acct_end_date DATE FORMAT 'YYYYMMDD'\r,starting_balance DECIMAL(9,2) FORMAT '--Z(6)9.99'\r,ending_balance DECIMAL(9,2) FORMAT '--Z(6)9.99'\r\r       )\r UNIQUE PRIMARY INDEX ( cust_id );\",\"\",\"0\",\"0\",\"0\",\"N \",\"\",\"\",\"2024-08-22 11:42:34\",\"val\",\"2024-08-22 11:42:34\",\"\",\"\",\"\",\"1\",\"N \",\"N \",\"Y \",\"N \",\"N \",\"\",\"\",\"N \",\"\",\"\",\"1\",\"0\",\"\",\"\",\"\",\"\",\"\",\"\",\"\",\"\",\"\",\"\",\"DEFAULT\",\"DEFAULT\",\"DEFAULT\",\"0 \",\"0\",\"TD_Map1\",\"\",\"\",\"\",\"\",\"\"\n\"val\",\"checking_tran\",\"1\",\"T \",\"F \",\"NN  \",\"val\",\"CREATE SET TABLE checking_tran\r      ,NO BEFORE JOURNAL\r      ,NO AFTER JOURNAL\r      (\rcust_id INTEGER\r,tran_id INTEGER\r,tran_amt DECIMAL(9,2) FORMAT '--Z(6)9.99'\r,principal_amt DECIMAL(9,2) FORMAT '--Z(6)9.99'\r,interest_amt DECIMAL(9,2) FORMAT '--Z(6)9.99'\r,new_balance DECIMAL(9,2) FORMAT '--Z(6)9.99'\r,tran_date DATE FORMAT 'YYYYMMDD'\r,tran_time CHAR(6) CHARACTER SET LATIN NOT CASESPECIFIC\r,channel CHAR(1) CHARACTER SET LATIN NOT CASESPECIFIC\r,tran_code CHAR(2) CHARACTER SET LATIN NOT CASESPECIFIC\r\r       )\r UNIQUE PRIMARY INDEX ( cust_id,tran_id );\",\"\",\"0\",\"0\",\"0\",\"N \",\"\",\"\",\"2024-08-22 11:42:35\",\"val\",\"2024-08-22 11:42:35\",\"\",\"\",\"\",\"1\",\"N \",\"N \",\"Y \",\"N \",\"N \",\"\",\"\",\"N \",\"\",\"\",\"2\",\"0\",\"\",\"\",\"\",\"\",\"\",\"\",\"\",\"\",\"\",\"\",\"DEFAULT\",\"DEFAULT\",\"DEFAULT\",\"0 \",\"0\",\"TD_Map1\",\"\",\"\",\"\",\"\",\"\"\n\"val\",\"credit_acct\",\"1\",\"T \",\"F \",\"NN  \",\"val\",\"CREATE SET TABLE credit_acct\r      ,NO BEFORE JOURNAL\r      ,NO AFTER JOURNAL\r      (\rcust_id INTEGER\r,acct_nbr CHAR(16) CHARACTER SET LATIN NOT CASESPECIFIC\r,credit_limit INTEGER\r,credit_rating SMALLINT\r,account_active CHAR(1) CHARACTER SET LATIN NOT CASESPECIFIC\r,acct_start_date DATE FORMAT 'YYYYMMDD'\r,acct_end_date DATE FORMAT 'YYYYMMDD'\r,starting_balance DECIMAL(9,2) FORMAT '--Z(6)9.99'\r,ending_balance DECIMAL(9,2) FORMAT '--Z(6)9.99'\r\r       )\r UNIQUE PRIMARY INDEX ( cust_id );\",\"\",\"0\",\"0\",\"0\",\"N \",\"\",\"\",\"2024-08-22 11:42:36\",\"val\",\"2024-08-22 11:42:36\",\"\",\"\",\"\",\"1\",\"N \",\"N \",\"Y \",\"N \",\"N \",\"\",\"\",\"N \",\"\",\"\",\"1\",\"0\",\"\",\"\",\"\",\"\",\"\",\"\",\"\",\"\",\"\",\"\",\"DEFAULT\",\"DEFAULT\",\"DEFAULT\",\"0 \",\"0\",\"TD_Map1\",\"\",\"\",\"\",\"\",\"\"\n\"val\",\"credit_tran\",\"1\",\"T \",\"F \",\"NN  \",\"val\",\"CREATE SET TABLE credit_tran\r      ,NO BEFORE JOURNAL\r      ,NO AFTER JOURNAL\r      (\rcust_id INTEGER\r,tran_id INTEGER\r,tran_amt DECIMAL(9,2) FORMAT '--Z(6)9.99'\r,principal_amt DECIMAL(9,2) FORMAT '--Z(6)9.99'\r,interest_amt DECIMAL(9,2) FORMAT '--Z(6)9.99'\r,new_balance DECIMAL(9,2) FORMAT '--Z(6)9.99'\r,tran_date DATE FORMAT 'YYYYMMDD'\r,tran_time CHAR(6) CHARACTER SET LATIN NOT CASESPECIFIC\r,channel CHAR(1) CHARACTER SET LATIN NOT CASESPECIFIC\r,tran_code CHAR(2) CHARACTER SET LATIN NOT CASESPECIFIC\r\r       )\r UNIQUE PRIMARY INDEX ( cust_id,tran_id );\",\"\",\"0\",\"0\",\"0\",\"N \",\"\",\"\",\"2024-08-22 11:42:36\",\"val\",\"2024-08-22 11:42:36\",\"\",\"\",\"\",\"1\",\"N \",\"N \",\"Y \",\"N \",\"N \",\"\",\"\",\"N \",\"\",\"\",\"2\",\"0\",\"\",\"\",\"\",\"\",\"\",\"\",\"\",\"\",\"\",\"\",\"DEFAULT\",\"DEFAULT\",\"DEFAULT\",\"0 \",\"0\",\"TD_Map1\",\"\",\"\",\"\",\"\",\"\"",
      "text/html": [
       "<div class = \"td-resultset-table-div\" style = \"max-height: 100%; overflow-y: auto\">\n",
       "      <table class=\"tdhistory891416\"><style>\n",
       "      table.tdhistory891416 { display: block !important; min-height: 189px !important; overflow: auto !important; height: 189px !important; width: 100% !important; border: 1px solid rgb(207, 207, 207) !important; border-collapse: collapse !important; ; color: var(--jp-ui-font-color1) !important; }\n",
       "      th.tdhistory891416 { border: 1px solid rgb(198,198,198) !important; border-collapse: collapse !important; ; padding: 2px 5px !important; ; font-size: 13px !important; ; text-align: center !important; white-space: normal !important; color: var(--jp-ui-font-color1) !important; }\n",
       "      th.tdhistory891416:last-child { text-align: left !important; }\n",
       "      tbody.tdhistory891416 tr:nth-child(even) { background: rgba(243, 243, 243, 0.75) !important; }\n",
       "      tbody.tdhistory891416 tr:nth-child(odd) { background: var(--jp-ui-inverse-font-color1) !important; }\n",
       "      td.tdhistory891416 { border: 1px solid rgb(207, 207, 207) !important; border-collapse: collapse !important; ; padding: 2px 5px !important; ; font-size: 13px !important; ; text-align: left !important;          white-space: nowrap !important; overflow:hidden !important; text-overflow:ellipsis !important;; }\n",
       "    </style><thead><tr style= \"background: rgba(243, 243, 243, 0.75)\"><th class=\"tdhistory891416\"></th><th class=\"tdhistory891416\">DataBaseName</th><th class=\"tdhistory891416\">TableName</th><th class=\"tdhistory891416\">Version</th><th class=\"tdhistory891416\">TableKind</th><th class=\"tdhistory891416\">ProtectionType</th><th class=\"tdhistory891416\">JournalFlag</th><th class=\"tdhistory891416\">CreatorName</th><th class=\"tdhistory891416\">RequestText</th><th class=\"tdhistory891416\">CommentString</th><th class=\"tdhistory891416\">ParentCount</th><th class=\"tdhistory891416\">ChildCount</th><th class=\"tdhistory891416\">NamedTblCheckCount</th><th class=\"tdhistory891416\">UnnamedTblCheckExist</th><th class=\"tdhistory891416\">PrimaryKeyIndexId</th><th class=\"tdhistory891416\">RepStatus</th><th class=\"tdhistory891416\">CreateTimeStamp</th><th class=\"tdhistory891416\">LastAlterName</th><th class=\"tdhistory891416\">LastAlterTimeStamp</th><th class=\"tdhistory891416\">RequestTxtOverflow</th><th class=\"tdhistory891416\">AccessCount</th><th class=\"tdhistory891416\">LastAccessTimeStamp</th><th class=\"tdhistory891416\">UtilVersion</th><th class=\"tdhistory891416\">QueueFlag</th><th class=\"tdhistory891416\">CommitOpt</th><th class=\"tdhistory891416\">TransLog</th><th class=\"tdhistory891416\">CheckOpt</th><th class=\"tdhistory891416\">TemporalProperty</th><th class=\"tdhistory891416\">ResolvedCurrent_Date</th><th class=\"tdhistory891416\">ResolvedCurrent_Timestamp</th><th class=\"tdhistory891416\">SystemDefinedJI</th><th class=\"tdhistory891416\">VTQualifier</th><th class=\"tdhistory891416\">TTQualifier</th><th class=\"tdhistory891416\">PIColumnCount</th><th class=\"tdhistory891416\">PartitioningLevels</th><th class=\"tdhistory891416\">LoadProperty</th><th class=\"tdhistory891416\">CurrentLoadId</th><th class=\"tdhistory891416\">LoadIdLayout</th><th class=\"tdhistory891416\">DelayedJI</th><th class=\"tdhistory891416\">LastArchiveId</th><th class=\"tdhistory891416\">LastFullArchiveId</th><th class=\"tdhistory891416\">BlockSize</th><th class=\"tdhistory891416\">FreeSpacePercent</th><th class=\"tdhistory891416\">MergeBlockRatio</th><th class=\"tdhistory891416\">CheckSum</th><th class=\"tdhistory891416\">BlockCompression</th><th class=\"tdhistory891416\">BlockCompressionAlgorithm</th><th class=\"tdhistory891416\">BlockCompressionLevel</th><th class=\"tdhistory891416\">TableHeaderFormat</th><th class=\"tdhistory891416\">RowSizeFormat</th><th class=\"tdhistory891416\">MapName</th><th class=\"tdhistory891416\">ColocationName</th><th class=\"tdhistory891416\">TVMFlavor</th><th class=\"tdhistory891416\">FastAlterTable</th><th class=\"tdhistory891416\">IncrementalRestoreEnabled</th><th class=\"tdhistory891416\">AuthName</th></tr></thead><tbody class=\"tdhistory891416 resultset-body\"><tr><th class=\"tdhistory891416\" style= \"background: rgba(243, 243, 243, 0.75)\">1</th><td class=\"tdhistory891416\">val</td><td class=\"tdhistory891416\">accounts</td><td class=\"tdhistory891416\">1</td><td class=\"tdhistory891416\">T </td><td class=\"tdhistory891416\">F </td><td class=\"tdhistory891416\">NN  </td><td class=\"tdhistory891416\">val</td><td class=\"tdhistory891416\">CREATE SET TABLE accounts\r",
       "      ,NO BEFORE JOURNAL\r",
       "      ,NO AFTER JOURNAL\r",
       "      (\r",
       "acct_nbr CHAR(16) CHARACTER SET LATIN NOT CASESPECIFIC NOT NULL\r",
       ",cust_id INTEGER\r",
       ",acct_type CHAR(2) CHARACTER SET LATIN NOT CASESPECIFIC\r",
       ",account_active CHAR(1) CHARACTER SET LATIN NOT CASESPECIFIC\r",
       ",acct_start_date DATE FORMAT 'YYYY-MM-DD'\r",
       ",acct_end_date DATE FORMAT 'YYYY-MM-DD'\r",
       ",starting_balance DECIMAL(9,2)\r",
       ",ending_balance DECIMAL(9,2)\r",
       "\r",
       "       )\r",
       " UNIQUE PRIMARY INDEX ( acct_nbr );</td><td class=\"tdhistory891416\"></td><td class=\"tdhistory891416\">0</td><td class=\"tdhistory891416\">0</td><td class=\"tdhistory891416\">0</td><td class=\"tdhistory891416\">N </td><td class=\"tdhistory891416\"></td><td class=\"tdhistory891416\"></td><td class=\"tdhistory891416\">2024-08-22 11:42:34</td><td class=\"tdhistory891416\">val</td><td class=\"tdhistory891416\">2024-08-22 11:42:34</td><td class=\"tdhistory891416\"></td><td class=\"tdhistory891416\"></td><td class=\"tdhistory891416\"></td><td class=\"tdhistory891416\">1</td><td class=\"tdhistory891416\">N </td><td class=\"tdhistory891416\">N </td><td class=\"tdhistory891416\">Y </td><td class=\"tdhistory891416\">N </td><td class=\"tdhistory891416\">N </td><td class=\"tdhistory891416\"></td><td class=\"tdhistory891416\"></td><td class=\"tdhistory891416\">N </td><td class=\"tdhistory891416\"></td><td class=\"tdhistory891416\"></td><td class=\"tdhistory891416\">1</td><td class=\"tdhistory891416\">0</td><td class=\"tdhistory891416\"></td><td class=\"tdhistory891416\"></td><td class=\"tdhistory891416\"></td><td class=\"tdhistory891416\"></td><td class=\"tdhistory891416\"></td><td class=\"tdhistory891416\"></td><td class=\"tdhistory891416\"></td><td class=\"tdhistory891416\"></td><td class=\"tdhistory891416\"></td><td class=\"tdhistory891416\"></td><td class=\"tdhistory891416\">DEFAULT</td><td class=\"tdhistory891416\">DEFAULT</td><td class=\"tdhistory891416\">DEFAULT</td><td class=\"tdhistory891416\">0 </td><td class=\"tdhistory891416\">0</td><td class=\"tdhistory891416\">TD_Map1</td><td class=\"tdhistory891416\"></td><td class=\"tdhistory891416\"></td><td class=\"tdhistory891416\"></td><td class=\"tdhistory891416\"></td><td class=\"tdhistory891416\"></td></tr><tr><th class=\"tdhistory891416\" style= \"background: rgba(243, 243, 243, 0.75)\">2</th><td class=\"tdhistory891416\">val</td><td class=\"tdhistory891416\">checking_acct</td><td class=\"tdhistory891416\">1</td><td class=\"tdhistory891416\">T </td><td class=\"tdhistory891416\">F </td><td class=\"tdhistory891416\">NN  </td><td class=\"tdhistory891416\">val</td><td class=\"tdhistory891416\">CREATE SET TABLE checking_acct\r",
       "      ,NO BEFORE JOURNAL\r",
       "      ,NO AFTER JOURNAL\r",
       "      (\r",
       "cust_id INTEGER NOT NULL\r",
       ",acct_nbr CHAR(16) CHARACTER SET LATIN NOT CASESPECIFIC\r",
       ",minimum_balance INTEGER\r",
       ",per_check_fee DECIMAL(9,2) FORMAT '--Z(6)9.99'\r",
       ",account_active CHAR(1) CHARACTER SET LATIN NOT CASESPECIFIC\r",
       ",acct_start_date DATE FORMAT 'YYYYMMDD'\r",
       ",acct_end_date DATE FORMAT 'YYYYMMDD'\r",
       ",starting_balance DECIMAL(9,2) FORMAT '--Z(6)9.99'\r",
       ",ending_balance DECIMAL(9,2) FORMAT '--Z(6)9.99'\r",
       "\r",
       "       )\r",
       " UNIQUE PRIMARY INDEX ( cust_id );</td><td class=\"tdhistory891416\"></td><td class=\"tdhistory891416\">0</td><td class=\"tdhistory891416\">0</td><td class=\"tdhistory891416\">0</td><td class=\"tdhistory891416\">N </td><td class=\"tdhistory891416\"></td><td class=\"tdhistory891416\"></td><td class=\"tdhistory891416\">2024-08-22 11:42:34</td><td class=\"tdhistory891416\">val</td><td class=\"tdhistory891416\">2024-08-22 11:42:34</td><td class=\"tdhistory891416\"></td><td class=\"tdhistory891416\"></td><td class=\"tdhistory891416\"></td><td class=\"tdhistory891416\">1</td><td class=\"tdhistory891416\">N </td><td class=\"tdhistory891416\">N </td><td class=\"tdhistory891416\">Y </td><td class=\"tdhistory891416\">N </td><td class=\"tdhistory891416\">N </td><td class=\"tdhistory891416\"></td><td class=\"tdhistory891416\"></td><td class=\"tdhistory891416\">N </td><td class=\"tdhistory891416\"></td><td class=\"tdhistory891416\"></td><td class=\"tdhistory891416\">1</td><td class=\"tdhistory891416\">0</td><td class=\"tdhistory891416\"></td><td class=\"tdhistory891416\"></td><td class=\"tdhistory891416\"></td><td class=\"tdhistory891416\"></td><td class=\"tdhistory891416\"></td><td class=\"tdhistory891416\"></td><td class=\"tdhistory891416\"></td><td class=\"tdhistory891416\"></td><td class=\"tdhistory891416\"></td><td class=\"tdhistory891416\"></td><td class=\"tdhistory891416\">DEFAULT</td><td class=\"tdhistory891416\">DEFAULT</td><td class=\"tdhistory891416\">DEFAULT</td><td class=\"tdhistory891416\">0 </td><td class=\"tdhistory891416\">0</td><td class=\"tdhistory891416\">TD_Map1</td><td class=\"tdhistory891416\"></td><td class=\"tdhistory891416\"></td><td class=\"tdhistory891416\"></td><td class=\"tdhistory891416\"></td><td class=\"tdhistory891416\"></td></tr><tr><th class=\"tdhistory891416\" style= \"background: rgba(243, 243, 243, 0.75)\">3</th><td class=\"tdhistory891416\">val</td><td class=\"tdhistory891416\">checking_tran</td><td class=\"tdhistory891416\">1</td><td class=\"tdhistory891416\">T </td><td class=\"tdhistory891416\">F </td><td class=\"tdhistory891416\">NN  </td><td class=\"tdhistory891416\">val</td><td class=\"tdhistory891416\">CREATE SET TABLE checking_tran\r",
       "      ,NO BEFORE JOURNAL\r",
       "      ,NO AFTER JOURNAL\r",
       "      (\r",
       "cust_id INTEGER\r",
       ",tran_id INTEGER\r",
       ",tran_amt DECIMAL(9,2) FORMAT '--Z(6)9.99'\r",
       ",principal_amt DECIMAL(9,2) FORMAT '--Z(6)9.99'\r",
       ",interest_amt DECIMAL(9,2) FORMAT '--Z(6)9.99'\r",
       ",new_balance DECIMAL(9,2) FORMAT '--Z(6)9.99'\r",
       ",tran_date DATE FORMAT 'YYYYMMDD'\r",
       ",tran_time CHAR(6) CHARACTER SET LATIN NOT CASESPECIFIC\r",
       ",channel CHAR(1) CHARACTER SET LATIN NOT CASESPECIFIC\r",
       ",tran_code CHAR(2) CHARACTER SET LATIN NOT CASESPECIFIC\r",
       "\r",
       "       )\r",
       " UNIQUE PRIMARY INDEX ( cust_id,tran_id );</td><td class=\"tdhistory891416\"></td><td class=\"tdhistory891416\">0</td><td class=\"tdhistory891416\">0</td><td class=\"tdhistory891416\">0</td><td class=\"tdhistory891416\">N </td><td class=\"tdhistory891416\"></td><td class=\"tdhistory891416\"></td><td class=\"tdhistory891416\">2024-08-22 11:42:35</td><td class=\"tdhistory891416\">val</td><td class=\"tdhistory891416\">2024-08-22 11:42:35</td><td class=\"tdhistory891416\"></td><td class=\"tdhistory891416\"></td><td class=\"tdhistory891416\"></td><td class=\"tdhistory891416\">1</td><td class=\"tdhistory891416\">N </td><td class=\"tdhistory891416\">N </td><td class=\"tdhistory891416\">Y </td><td class=\"tdhistory891416\">N </td><td class=\"tdhistory891416\">N </td><td class=\"tdhistory891416\"></td><td class=\"tdhistory891416\"></td><td class=\"tdhistory891416\">N </td><td class=\"tdhistory891416\"></td><td class=\"tdhistory891416\"></td><td class=\"tdhistory891416\">2</td><td class=\"tdhistory891416\">0</td><td class=\"tdhistory891416\"></td><td class=\"tdhistory891416\"></td><td class=\"tdhistory891416\"></td><td class=\"tdhistory891416\"></td><td class=\"tdhistory891416\"></td><td class=\"tdhistory891416\"></td><td class=\"tdhistory891416\"></td><td class=\"tdhistory891416\"></td><td class=\"tdhistory891416\"></td><td class=\"tdhistory891416\"></td><td class=\"tdhistory891416\">DEFAULT</td><td class=\"tdhistory891416\">DEFAULT</td><td class=\"tdhistory891416\">DEFAULT</td><td class=\"tdhistory891416\">0 </td><td class=\"tdhistory891416\">0</td><td class=\"tdhistory891416\">TD_Map1</td><td class=\"tdhistory891416\"></td><td class=\"tdhistory891416\"></td><td class=\"tdhistory891416\"></td><td class=\"tdhistory891416\"></td><td class=\"tdhistory891416\"></td></tr><tr><th class=\"tdhistory891416\" style= \"background: rgba(243, 243, 243, 0.75)\">4</th><td class=\"tdhistory891416\">val</td><td class=\"tdhistory891416\">credit_acct</td><td class=\"tdhistory891416\">1</td><td class=\"tdhistory891416\">T </td><td class=\"tdhistory891416\">F </td><td class=\"tdhistory891416\">NN  </td><td class=\"tdhistory891416\">val</td><td class=\"tdhistory891416\">CREATE SET TABLE credit_acct\r",
       "      ,NO BEFORE JOURNAL\r",
       "      ,NO AFTER JOURNAL\r",
       "      (\r",
       "cust_id INTEGER\r",
       ",acct_nbr CHAR(16) CHARACTER SET LATIN NOT CASESPECIFIC\r",
       ",credit_limit INTEGER\r",
       ",credit_rating SMALLINT\r",
       ",account_active CHAR(1) CHARACTER SET LATIN NOT CASESPECIFIC\r",
       ",acct_start_date DATE FORMAT 'YYYYMMDD'\r",
       ",acct_end_date DATE FORMAT 'YYYYMMDD'\r",
       ",starting_balance DECIMAL(9,2) FORMAT '--Z(6)9.99'\r",
       ",ending_balance DECIMAL(9,2) FORMAT '--Z(6)9.99'\r",
       "\r",
       "       )\r",
       " UNIQUE PRIMARY INDEX ( cust_id );</td><td class=\"tdhistory891416\"></td><td class=\"tdhistory891416\">0</td><td class=\"tdhistory891416\">0</td><td class=\"tdhistory891416\">0</td><td class=\"tdhistory891416\">N </td><td class=\"tdhistory891416\"></td><td class=\"tdhistory891416\"></td><td class=\"tdhistory891416\">2024-08-22 11:42:36</td><td class=\"tdhistory891416\">val</td><td class=\"tdhistory891416\">2024-08-22 11:42:36</td><td class=\"tdhistory891416\"></td><td class=\"tdhistory891416\"></td><td class=\"tdhistory891416\"></td><td class=\"tdhistory891416\">1</td><td class=\"tdhistory891416\">N </td><td class=\"tdhistory891416\">N </td><td class=\"tdhistory891416\">Y </td><td class=\"tdhistory891416\">N </td><td class=\"tdhistory891416\">N </td><td class=\"tdhistory891416\"></td><td class=\"tdhistory891416\"></td><td class=\"tdhistory891416\">N </td><td class=\"tdhistory891416\"></td><td class=\"tdhistory891416\"></td><td class=\"tdhistory891416\">1</td><td class=\"tdhistory891416\">0</td><td class=\"tdhistory891416\"></td><td class=\"tdhistory891416\"></td><td class=\"tdhistory891416\"></td><td class=\"tdhistory891416\"></td><td class=\"tdhistory891416\"></td><td class=\"tdhistory891416\"></td><td class=\"tdhistory891416\"></td><td class=\"tdhistory891416\"></td><td class=\"tdhistory891416\"></td><td class=\"tdhistory891416\"></td><td class=\"tdhistory891416\">DEFAULT</td><td class=\"tdhistory891416\">DEFAULT</td><td class=\"tdhistory891416\">DEFAULT</td><td class=\"tdhistory891416\">0 </td><td class=\"tdhistory891416\">0</td><td class=\"tdhistory891416\">TD_Map1</td><td class=\"tdhistory891416\"></td><td class=\"tdhistory891416\"></td><td class=\"tdhistory891416\"></td><td class=\"tdhistory891416\"></td><td class=\"tdhistory891416\"></td></tr><tr><th class=\"tdhistory891416\" style= \"background: rgba(243, 243, 243, 0.75)\">5</th><td class=\"tdhistory891416\">val</td><td class=\"tdhistory891416\">credit_tran</td><td class=\"tdhistory891416\">1</td><td class=\"tdhistory891416\">T </td><td class=\"tdhistory891416\">F </td><td class=\"tdhistory891416\">NN  </td><td class=\"tdhistory891416\">val</td><td class=\"tdhistory891416\">CREATE SET TABLE credit_tran\r",
       "      ,NO BEFORE JOURNAL\r",
       "      ,NO AFTER JOURNAL\r",
       "      (\r",
       "cust_id INTEGER\r",
       ",tran_id INTEGER\r",
       ",tran_amt DECIMAL(9,2) FORMAT '--Z(6)9.99'\r",
       ",principal_amt DECIMAL(9,2) FORMAT '--Z(6)9.99'\r",
       ",interest_amt DECIMAL(9,2) FORMAT '--Z(6)9.99'\r",
       ",new_balance DECIMAL(9,2) FORMAT '--Z(6)9.99'\r",
       ",tran_date DATE FORMAT 'YYYYMMDD'\r",
       ",tran_time CHAR(6) CHARACTER SET LATIN NOT CASESPECIFIC\r",
       ",channel CHAR(1) CHARACTER SET LATIN NOT CASESPECIFIC\r",
       ",tran_code CHAR(2) CHARACTER SET LATIN NOT CASESPECIFIC\r",
       "\r",
       "       )\r",
       " UNIQUE PRIMARY INDEX ( cust_id,tran_id );</td><td class=\"tdhistory891416\"></td><td class=\"tdhistory891416\">0</td><td class=\"tdhistory891416\">0</td><td class=\"tdhistory891416\">0</td><td class=\"tdhistory891416\">N </td><td class=\"tdhistory891416\"></td><td class=\"tdhistory891416\"></td><td class=\"tdhistory891416\">2024-08-22 11:42:36</td><td class=\"tdhistory891416\">val</td><td class=\"tdhistory891416\">2024-08-22 11:42:36</td><td class=\"tdhistory891416\"></td><td class=\"tdhistory891416\"></td><td class=\"tdhistory891416\"></td><td class=\"tdhistory891416\">1</td><td class=\"tdhistory891416\">N </td><td class=\"tdhistory891416\">N </td><td class=\"tdhistory891416\">Y </td><td class=\"tdhistory891416\">N </td><td class=\"tdhistory891416\">N </td><td class=\"tdhistory891416\"></td><td class=\"tdhistory891416\"></td><td class=\"tdhistory891416\">N </td><td class=\"tdhistory891416\"></td><td class=\"tdhistory891416\"></td><td class=\"tdhistory891416\">2</td><td class=\"tdhistory891416\">0</td><td class=\"tdhistory891416\"></td><td class=\"tdhistory891416\"></td><td class=\"tdhistory891416\"></td><td class=\"tdhistory891416\"></td><td class=\"tdhistory891416\"></td><td class=\"tdhistory891416\"></td><td class=\"tdhistory891416\"></td><td class=\"tdhistory891416\"></td><td class=\"tdhistory891416\"></td><td class=\"tdhistory891416\"></td><td class=\"tdhistory891416\">DEFAULT</td><td class=\"tdhistory891416\">DEFAULT</td><td class=\"tdhistory891416\">DEFAULT</td><td class=\"tdhistory891416\">0 </td><td class=\"tdhistory891416\">0</td><td class=\"tdhistory891416\">TD_Map1</td><td class=\"tdhistory891416\"></td><td class=\"tdhistory891416\"></td><td class=\"tdhistory891416\"></td><td class=\"tdhistory891416\"></td><td class=\"tdhistory891416\"></td></tr></tbody></table></div>"
      ]
     },
     "execution_count": 10,
     "metadata": {
      "application/vnd.teradata.resultset": "{\"resultSetID\":\"/home/jovyan/JupyterLabRoot/Teradata/Resultsets/2024.09.09_06.27.17.896_UTC\",\"historyID\":619,\"chunkID\":\"00001\",\"sessionid\":\"\",\"portnum\":\"\",\"dockermode\":\"docker\",\"totalRowCount\":5,\"chunkCount\":0,\"rowLimit\":0,\"columnMetadata\":[{\"columnName\":\"DataBaseName\",\"columnTypeName\":\"VARCHAR\",\"length\":128,\"scale\":128},{\"columnNumber\":1,\"columnName\":\"TableName\",\"columnTypeName\":\"VARCHAR\",\"length\":128,\"scale\":128},{\"columnNumber\":2,\"columnName\":\"Version\",\"columnTypeName\":\"SMALLINT\"},{\"columnNumber\":3,\"columnName\":\"TableKind\",\"columnTypeName\":\"CHAR\",\"length\":1,\"scale\":1},{\"columnNumber\":4,\"columnName\":\"ProtectionType\",\"columnTypeName\":\"CHAR\",\"length\":1,\"scale\":1},{\"columnNumber\":5,\"columnName\":\"JournalFlag\",\"columnTypeName\":\"CHAR\",\"length\":2,\"scale\":2},{\"columnNumber\":6,\"columnName\":\"CreatorName\",\"columnTypeName\":\"VARCHAR\",\"length\":128,\"scale\":128},{\"columnNumber\":7,\"columnName\":\"RequestText\",\"columnTypeName\":\"VARCHAR\",\"length\":12500,\"scale\":12500},{\"columnNumber\":8,\"columnName\":\"CommentString\",\"columnTypeName\":\"VARCHAR\",\"length\":255,\"scale\":255},{\"columnNumber\":9,\"columnName\":\"ParentCount\",\"columnTypeName\":\"SMALLINT\"},{\"columnNumber\":10,\"columnName\":\"ChildCount\",\"columnTypeName\":\"SMALLINT\"},{\"columnNumber\":11,\"columnName\":\"NamedTblCheckCount\",\"columnTypeName\":\"SMALLINT\"},{\"columnNumber\":12,\"columnName\":\"UnnamedTblCheckExist\",\"columnTypeName\":\"CHAR\",\"length\":1,\"scale\":1},{\"columnNumber\":13,\"columnName\":\"PrimaryKeyIndexId\",\"columnTypeName\":\"SMALLINT\"},{\"columnNumber\":14,\"columnName\":\"RepStatus\",\"columnTypeName\":\"CHAR\",\"length\":1,\"scale\":1},{\"columnNumber\":15,\"columnName\":\"CreateTimeStamp\",\"columnTypeName\":\"TIMESTAMP\"},{\"columnNumber\":16,\"columnName\":\"LastAlterName\",\"columnTypeName\":\"VARCHAR\",\"length\":128,\"scale\":128},{\"columnNumber\":17,\"columnName\":\"LastAlterTimeStamp\",\"columnTypeName\":\"TIMESTAMP\"},{\"columnNumber\":18,\"columnName\":\"RequestTxtOverflow\",\"columnTypeName\":\"CHAR\",\"length\":1,\"scale\":1},{\"columnNumber\":19,\"columnName\":\"AccessCount\",\"columnTypeName\":\"BIGINT\"},{\"columnNumber\":20,\"columnName\":\"LastAccessTimeStamp\",\"columnTypeName\":\"TIMESTAMP\"},{\"columnNumber\":21,\"columnName\":\"UtilVersion\",\"columnTypeName\":\"SMALLINT\"},{\"columnNumber\":22,\"columnName\":\"QueueFlag\",\"columnTypeName\":\"CHAR\",\"length\":1,\"scale\":1},{\"columnNumber\":23,\"columnName\":\"CommitOpt\",\"columnTypeName\":\"CHAR\",\"length\":1,\"scale\":1},{\"columnNumber\":24,\"columnName\":\"TransLog\",\"columnTypeName\":\"CHAR\",\"length\":1,\"scale\":1},{\"columnNumber\":25,\"columnName\":\"CheckOpt\",\"columnTypeName\":\"CHAR\",\"length\":1,\"scale\":1},{\"columnNumber\":26,\"columnName\":\"TemporalProperty\",\"columnTypeName\":\"CHAR\",\"length\":1,\"scale\":1},{\"columnNumber\":27,\"columnName\":\"ResolvedCurrent_Date\",\"columnTypeName\":\"DATE\"},{\"columnNumber\":28,\"columnName\":\"ResolvedCurrent_Timestamp\",\"columnTypeName\":\"TIMESTAMP WITH TIME ZONE\",\"length\":6,\"scale\":6},{\"columnNumber\":29,\"columnName\":\"SystemDefinedJI\",\"columnTypeName\":\"CHAR\",\"length\":1,\"scale\":1},{\"columnNumber\":30,\"columnName\":\"VTQualifier\",\"columnTypeName\":\"CHAR\",\"length\":1,\"scale\":1},{\"columnNumber\":31,\"columnName\":\"TTQualifier\",\"columnTypeName\":\"CHAR\",\"length\":1,\"scale\":1},{\"columnNumber\":32,\"columnName\":\"PIColumnCount\",\"columnTypeName\":\"SMALLINT\"},{\"columnNumber\":33,\"columnName\":\"PartitioningLevels\",\"columnTypeName\":\"SMALLINT\"},{\"columnNumber\":34,\"columnName\":\"LoadProperty\",\"columnTypeName\":\"CHAR\",\"length\":1,\"scale\":1},{\"columnNumber\":35,\"columnName\":\"CurrentLoadId\",\"columnTypeName\":\"INTEGER\"},{\"columnNumber\":36,\"columnName\":\"LoadIdLayout\",\"columnTypeName\":\"CHAR\",\"length\":1,\"scale\":1},{\"columnNumber\":37,\"columnName\":\"DelayedJI\",\"columnTypeName\":\"CHAR\",\"length\":1,\"scale\":1},{\"columnNumber\":38,\"columnName\":\"LastArchiveId\",\"columnTypeName\":\"BIGINT\"},{\"columnNumber\":39,\"columnName\":\"LastFullArchiveId\",\"columnTypeName\":\"BIGINT\"},{\"columnNumber\":40,\"columnName\":\"BlockSize\",\"columnTypeName\":\"INTEGER\"},{\"columnNumber\":41,\"columnName\":\"FreeSpacePercent\",\"columnTypeName\":\"BYTEINT\"},{\"columnNumber\":42,\"columnName\":\"MergeBlockRatio\",\"columnTypeName\":\"BYTEINT\"},{\"columnNumber\":43,\"columnName\":\"CheckSum\",\"columnTypeName\":\"CHAR\",\"length\":1,\"scale\":1},{\"columnNumber\":44,\"columnName\":\"BlockCompression\",\"columnTypeName\":\"VARCHAR\",\"length\":8,\"scale\":8},{\"columnNumber\":45,\"columnName\":\"BlockCompressionAlgorithm\",\"columnTypeName\":\"VARCHAR\",\"length\":7,\"scale\":7},{\"columnNumber\":46,\"columnName\":\"BlockCompressionLevel\",\"columnTypeName\":\"VARCHAR\",\"length\":7,\"scale\":7},{\"columnNumber\":47,\"columnName\":\"TableHeaderFormat\",\"columnTypeName\":\"CHAR\",\"length\":1,\"scale\":1},{\"columnNumber\":48,\"columnName\":\"RowSizeFormat\",\"columnTypeName\":\"VARCHAR\",\"length\":1,\"scale\":1},{\"columnNumber\":49,\"columnName\":\"MapName\",\"columnTypeName\":\"VARCHAR\",\"length\":128,\"scale\":128},{\"columnNumber\":50,\"columnName\":\"ColocationName\",\"columnTypeName\":\"VARCHAR\",\"length\":128,\"scale\":128},{\"columnNumber\":51,\"columnName\":\"TVMFlavor\",\"columnTypeName\":\"CHAR\",\"length\":1,\"scale\":1},{\"columnNumber\":52,\"columnName\":\"FastAlterTable\",\"columnTypeName\":\"CHAR\",\"length\":1,\"scale\":1},{\"columnNumber\":53,\"columnName\":\"IncrementalRestoreEnabled\",\"columnTypeName\":\"INTEGER\"},{\"columnNumber\":54,\"columnName\":\"AuthName\",\"columnTypeName\":\"VARCHAR\",\"length\":128,\"scale\":128}]}"
     },
     "output_type": "execute_result"
    }
   ],
   "source": [
    "SELECT TOP 5 * FROM DBC.TablesV\n",
    "WHERE TableKind = 'T'\n",
    "ORDER BY DatabaseName DESC, TableName "
   ]
  },
  {
   "cell_type": "markdown",
   "metadata": {},
   "source": [
    "<p style = 'font-size:16px;font-family:Arial;color:#00233C'>We use the SQL keyword **AND** and **OR** with parenthesis to define any logic. For example, to select only the CreatorName of DBC OR SYSADM:</p>"
   ]
  },
  {
   "cell_type": "code",
   "execution_count": 11,
   "metadata": {},
   "outputs": [
    {
     "data": {
      "application/vnd.teradata.resultset": "\"DataBaseName\",\"TableName\",\"Version\",\"TableKind\",\"ProtectionType\",\"JournalFlag\",\"CreatorName\",\"RequestText\",\"CommentString\",\"ParentCount\",\"ChildCount\",\"NamedTblCheckCount\",\"UnnamedTblCheckExist\",\"PrimaryKeyIndexId\",\"RepStatus\",\"CreateTimeStamp\",\"LastAlterName\",\"LastAlterTimeStamp\",\"RequestTxtOverflow\",\"AccessCount\",\"LastAccessTimeStamp\",\"UtilVersion\",\"QueueFlag\",\"CommitOpt\",\"TransLog\",\"CheckOpt\",\"TemporalProperty\",\"ResolvedCurrent_Date\",\"ResolvedCurrent_Timestamp\",\"SystemDefinedJI\",\"VTQualifier\",\"TTQualifier\",\"PIColumnCount\",\"PartitioningLevels\",\"LoadProperty\",\"CurrentLoadId\",\"LoadIdLayout\",\"DelayedJI\",\"LastArchiveId\",\"LastFullArchiveId\",\"BlockSize\",\"FreeSpacePercent\",\"MergeBlockRatio\",\"CheckSum\",\"BlockCompression\",\"BlockCompressionAlgorithm\",\"BlockCompressionLevel\",\"TableHeaderFormat\",\"RowSizeFormat\",\"MapName\",\"ColocationName\",\"TVMFlavor\",\"FastAlterTable\",\"IncrementalRestoreEnabled\",\"AuthName\"\n\"TD_SERVER_DB\",\"TD_PushProfileInfo\",\"1\",\"T \",\"F \",\"NN  \",\"DBC\",\"CREATE SET TABLE TD_SERVER_DB.TD_PushProfileInfo, FALLBACK,\r     NO BEFORE JOURNAL,\r     NO AFTER JOURNAL,\r     CHECKSUM = DEFAULT,\r     DEFAULT MERGEBLOCKRATIO\r     (\r      PushProfileID INTEGER NOT NULL,\r      PushProfileName VARCHAR(128) CHARACTER SET UNICODE NOT CASESPECIFIC NOT NULL,\r      RemoteSystemFlavour VARCHAR(128) CHARACTER SET UNICODE NOT CASESPECIFIC NOT NULL,\r      RemoteSystemVersion VARCHAR(128) CHARACTER SET UNICODE NOT CASESPECIFIC NOT NULL,\r      Hosttype VARCHAR(64) CHARACTER SET UNICODE NOT CASESPECIFIC NOT NULL,\r      RemoteMapping JSON(8388096) CHARACTER SET UNICODE,\r      RemoteMappingInternal VARBYTE(30000),\r      ProfileInstallVersion INTEGER NOT NULL)\rUNIQUE PRIMARY INDEX (PushProfileName),\rUNIQUE INDEX(PushProfileID);\",\"The TD_SERVER_DB.TD_PushProfileInfo controls the operations that can be push to remote databases.\",\"0\",\"0\",\"0\",\"N \",\"\",\"\",\"2024-08-22 12:09:28\",\"DBC\",\"2024-08-22 12:09:28\",\"\",\"\",\"\",\"1\",\"N \",\"N \",\"Y \",\"N \",\"N \",\"\",\"\",\"N \",\"\",\"\",\"1\",\"0\",\"\",\"\",\"\",\"\",\"\",\"\",\"\",\"\",\"60\",\"\",\"DEFAULT\",\"DEFAULT\",\"DEFAULT\",\"0 \",\"0\",\"TD_Map1\",\"\",\"\",\"\",\"\",\"\"\n\"TD_ANALYTICS_DB\",\"METADATA_OBJECTS\",\"1\",\"T \",\"F \",\"NN  \",\"DBC\",\"CREATE TABLE TD_ANALYTICS_DB.METADATA_OBJECTS(\r    ObjectName VARCHAR(128) CHARACTER SET UNICODE,\r    ObjectType   VARCHAR(100) CHARACTER SET UNICODE,\r    VarcharCol   VARCHAR(32000) CHARACTER SET UNICODE,\r    ClobCol      CLOB CHARACTER SET UNICODE,\r    VarbyteCol   VARBYTE(64000),\r    BlobCol      BLOB,\r    JsonCol      JSON INLINE LENGTH 32000 CHARACTER SET UNICODE,\r    DatasetCol   DATASET INLINE LENGTH 64000 STORAGE FORMAT AVRO,\r\r    CHECK (\r        (VarcharCol IS NOT NULL AND ClobCol IS NULL AND VarbyteCol IS NULL AND BlobCol IS NULL AND JsonCol IS NULL AND DatasetCol IS NULL) OR\r        (VarcharCol IS NULL AND ClobCol IS NOT NULL AND VarbyteCol IS NULL AND BlobCol IS NULL AND JsonCol IS NULL AND DatasetCol IS NULL) OR\r        (VarcharCol IS NULL AND ClobCol IS NULL AND VarbyteCol IS NOT NULL AND BlobCol IS NULL AND JsonCol IS NULL AND DatasetCol IS NULL) OR\r        (VarcharCol IS NULL AND ClobCol IS NULL AND VarbyteCol IS NULL AND BlobCol IS NOT NULL AND JsonCol IS NULL AND DatasetCol IS NULL) OR\r        (VarcharCol IS NULL AND ClobCol IS NULL AND VarbyteCol IS NULL AND BlobCol IS NULL AND JsonCol IS NOT NULL AND DatasetCol IS NULL) OR\r        (VarcharCol IS NULL AND ClobCol IS NULL AND VarbyteCol IS NULL AND BlobCol IS NULL AND JsonCol IS NULL AND DatasetCol IS NOT NULL) )\r\r)UNIQUE PRIMARY INDEX(ObjectName);\",\"Table to store metadata object which will be use by analytic functions.\",\"0\",\"0\",\"0\",\"Y \",\"\",\"\",\"2024-08-22 11:28:56\",\"DBC\",\"2024-08-22 11:28:56\",\"\",\"\",\"\",\"1\",\"N \",\"N \",\"Y \",\"N \",\"N \",\"\",\"\",\"N \",\"\",\"\",\"1\",\"0\",\"\",\"\",\"\",\"\",\"\",\"\",\"\",\"\",\"\",\"\",\"DEFAULT\",\"DEFAULT\",\"DEFAULT\",\"0 \",\"1\",\"TD_Map1\",\"\",\"\",\"\",\"\",\"\"\n\"tdwm\",\"Actions\",\"1\",\"T \",\"F \",\"NN  \",\"DBC\",\"CREATE TABLE Actions (  ActionId    INTEGER NOT NULL, CreateDate  INTEGER NOT NULL, CreateTime  INTEGER FORMAT '99:99:99' NOT NULL, RemoveDate  INTEGER NOT NULL, RemoveTime  INTEGER FORMAT '99:99:99' NOT NULL, Description VARCHAR(80) CHARACTER SET UNICODE, ConfigId    INTEGER NOT NULL, ParentId    INTEGER NOT NULL, VersionNo   INTEGER NOT NULL, ActionName  VARCHAR(30) CHARACTER SET UNICODE NOT NULL, ActionType  VARCHAR(10) CHARACTER SET UNICODE NOT NULL, SysConId    INTEGER, OpEnvId     INTEGER, ActionValue INTEGER, ActionInfo  VARCHAR(120) CHARACTER SET UNICODE) PRIMARY INDEX (ActionId);\",\"\",\"0\",\"0\",\"0\",\"N \",\"\",\"\",\"2024-08-22 11:37:15\",\"DBC\",\"2024-08-22 11:37:15\",\"\",\"\",\"\",\"1\",\"N \",\"N \",\"Y \",\"N \",\"N \",\"\",\"\",\"N \",\"\",\"\",\"1\",\"0\",\"\",\"\",\"\",\"\",\"\",\"\",\"\",\"\",\"\",\"\",\"DEFAULT\",\"DEFAULT\",\"DEFAULT\",\"0 \",\"0\",\"TD_Map1\",\"\",\"\",\"\",\"\",\"\"\n\"tdwm\",\"AllocGroups\",\"1\",\"T \",\"F \",\"NN  \",\"DBC\",\"CREATE TABLE AllocGroups (  AllocGroupId  INTEGER NOT NULL, CreateDate  INTEGER NOT NULL, CreateTime  INTEGER FORMAT '99:99:99' NOT NULL, RemoveDate  INTEGER NOT NULL, RemoveTime  INTEGER FORMAT '99:99:99' NOT NULL, Description VARCHAR(80) CHARACTER SET UNICODE, ConfigId    INTEGER NOT NULL, ParentId    INTEGER NOT NULL, VersionNo   INTEGER NOT NULL, RscPartitionId  INTEGER NOT NULL, AGName      VARCHAR(16) CHARACTER SET UNICODE NOT NULL, AGNumber    INTEGER, SlgPriority INTEGER) PRIMARY INDEX (AllocGroupId);\",\"\",\"0\",\"0\",\"0\",\"N \",\"\",\"\",\"2024-08-22 11:37:19\",\"DBC\",\"2024-08-22 11:37:19\",\"\",\"\",\"\",\"1\",\"N \",\"N \",\"Y \",\"N \",\"N \",\"\",\"\",\"N \",\"\",\"\",\"1\",\"0\",\"\",\"\",\"\",\"\",\"\",\"\",\"\",\"\",\"\",\"\",\"DEFAULT\",\"DEFAULT\",\"DEFAULT\",\"0 \",\"0\",\"TD_Map1\",\"\",\"\",\"\",\"\",\"\"\n\"tdwm\",\"AllocGroupStates\",\"1\",\"T \",\"F \",\"NN  \",\"DBC\",\"CREATE TABLE AllocGroupStates (  AllocGroupId  INTEGER NOT NULL, StateId     INTEGER NOT NULL, CreateDate  INTEGER NOT NULL, CreateTime  INTEGER FORMAT '99:99:99' NOT NULL, RemoveDate  INTEGER NOT NULL, RemoveTime  INTEGER FORMAT '99:99:99' NOT NULL, Description VARCHAR(80) CHARACTER SET UNICODE, ConfigId    INTEGER NOT NULL, ParentId    INTEGER NOT NULL, VersionNo   INTEGER NOT NULL, Expedited   INTEGER DEFAULT 0, AGWeight    INTEGER, CpuLimit    INTEGER) PRIMARY INDEX (AllocGroupId, StateId);\",\"\",\"0\",\"0\",\"0\",\"N \",\"\",\"\",\"2024-08-22 11:37:19\",\"DBC\",\"2024-08-22 11:37:19\",\"\",\"\",\"\",\"1\",\"N \",\"N \",\"Y \",\"N \",\"N \",\"\",\"\",\"N \",\"\",\"\",\"2\",\"0\",\"\",\"\",\"\",\"\",\"\",\"\",\"\",\"\",\"\",\"\",\"DEFAULT\",\"DEFAULT\",\"DEFAULT\",\"0 \",\"0\",\"TD_Map1\",\"\",\"\",\"\",\"\",\"\"",
      "text/html": [
       "<div class = \"td-resultset-table-div\" style = \"max-height: 100%; overflow-y: auto\">\n",
       "      <table class=\"tdhistory12836\"><style>\n",
       "      table.tdhistory12836 { display: block !important; min-height: 189px !important; overflow: auto !important; height: 189px !important; width: 100% !important; border: 1px solid rgb(207, 207, 207) !important; border-collapse: collapse !important; ; color: var(--jp-ui-font-color1) !important; }\n",
       "      th.tdhistory12836 { border: 1px solid rgb(198,198,198) !important; border-collapse: collapse !important; ; padding: 2px 5px !important; ; font-size: 13px !important; ; text-align: center !important; white-space: normal !important; color: var(--jp-ui-font-color1) !important; }\n",
       "      th.tdhistory12836:last-child { text-align: left !important; }\n",
       "      tbody.tdhistory12836 tr:nth-child(even) { background: rgba(243, 243, 243, 0.75) !important; }\n",
       "      tbody.tdhistory12836 tr:nth-child(odd) { background: var(--jp-ui-inverse-font-color1) !important; }\n",
       "      td.tdhistory12836 { border: 1px solid rgb(207, 207, 207) !important; border-collapse: collapse !important; ; padding: 2px 5px !important; ; font-size: 13px !important; ; text-align: left !important;          white-space: nowrap !important; overflow:hidden !important; text-overflow:ellipsis !important;; }\n",
       "    </style><thead><tr style= \"background: rgba(243, 243, 243, 0.75)\"><th class=\"tdhistory12836\"></th><th class=\"tdhistory12836\">DataBaseName</th><th class=\"tdhistory12836\">TableName</th><th class=\"tdhistory12836\">Version</th><th class=\"tdhistory12836\">TableKind</th><th class=\"tdhistory12836\">ProtectionType</th><th class=\"tdhistory12836\">JournalFlag</th><th class=\"tdhistory12836\">CreatorName</th><th class=\"tdhistory12836\">RequestText</th><th class=\"tdhistory12836\">CommentString</th><th class=\"tdhistory12836\">ParentCount</th><th class=\"tdhistory12836\">ChildCount</th><th class=\"tdhistory12836\">NamedTblCheckCount</th><th class=\"tdhistory12836\">UnnamedTblCheckExist</th><th class=\"tdhistory12836\">PrimaryKeyIndexId</th><th class=\"tdhistory12836\">RepStatus</th><th class=\"tdhistory12836\">CreateTimeStamp</th><th class=\"tdhistory12836\">LastAlterName</th><th class=\"tdhistory12836\">LastAlterTimeStamp</th><th class=\"tdhistory12836\">RequestTxtOverflow</th><th class=\"tdhistory12836\">AccessCount</th><th class=\"tdhistory12836\">LastAccessTimeStamp</th><th class=\"tdhistory12836\">UtilVersion</th><th class=\"tdhistory12836\">QueueFlag</th><th class=\"tdhistory12836\">CommitOpt</th><th class=\"tdhistory12836\">TransLog</th><th class=\"tdhistory12836\">CheckOpt</th><th class=\"tdhistory12836\">TemporalProperty</th><th class=\"tdhistory12836\">ResolvedCurrent_Date</th><th class=\"tdhistory12836\">ResolvedCurrent_Timestamp</th><th class=\"tdhistory12836\">SystemDefinedJI</th><th class=\"tdhistory12836\">VTQualifier</th><th class=\"tdhistory12836\">TTQualifier</th><th class=\"tdhistory12836\">PIColumnCount</th><th class=\"tdhistory12836\">PartitioningLevels</th><th class=\"tdhistory12836\">LoadProperty</th><th class=\"tdhistory12836\">CurrentLoadId</th><th class=\"tdhistory12836\">LoadIdLayout</th><th class=\"tdhistory12836\">DelayedJI</th><th class=\"tdhistory12836\">LastArchiveId</th><th class=\"tdhistory12836\">LastFullArchiveId</th><th class=\"tdhistory12836\">BlockSize</th><th class=\"tdhistory12836\">FreeSpacePercent</th><th class=\"tdhistory12836\">MergeBlockRatio</th><th class=\"tdhistory12836\">CheckSum</th><th class=\"tdhistory12836\">BlockCompression</th><th class=\"tdhistory12836\">BlockCompressionAlgorithm</th><th class=\"tdhistory12836\">BlockCompressionLevel</th><th class=\"tdhistory12836\">TableHeaderFormat</th><th class=\"tdhistory12836\">RowSizeFormat</th><th class=\"tdhistory12836\">MapName</th><th class=\"tdhistory12836\">ColocationName</th><th class=\"tdhistory12836\">TVMFlavor</th><th class=\"tdhistory12836\">FastAlterTable</th><th class=\"tdhistory12836\">IncrementalRestoreEnabled</th><th class=\"tdhistory12836\">AuthName</th></tr></thead><tbody class=\"tdhistory12836 resultset-body\"><tr><th class=\"tdhistory12836\" style= \"background: rgba(243, 243, 243, 0.75)\">1</th><td class=\"tdhistory12836\">TD_SERVER_DB</td><td class=\"tdhistory12836\">TD_PushProfileInfo</td><td class=\"tdhistory12836\">1</td><td class=\"tdhistory12836\">T </td><td class=\"tdhistory12836\">F </td><td class=\"tdhistory12836\">NN  </td><td class=\"tdhistory12836\">DBC</td><td class=\"tdhistory12836\">CREATE SET TABLE TD_SERVER_DB.TD_PushProfileInfo, FALLBACK,\r",
       "     NO BEFORE JOURNAL,\r",
       "     NO AFTER JOURNAL,\r",
       "     CHECKSUM = DEFAULT,\r",
       "     DEFAULT MERGEBLOCKRATIO\r",
       "     (\r",
       "      PushProfileID INTEGER NOT NULL,\r",
       "      PushProfileName VARCHAR(128) CHARACTER SET UNICODE NOT CASESPECIFIC NOT NULL,\r",
       "      RemoteSystemFlavour VARCHAR(128) CHARACTER SET UNICODE NOT CASESPECIFIC NOT NULL,\r",
       "      RemoteSystemVersion VARCHAR(128) CHARACTER SET UNICODE NOT CASESPECIFIC NOT NULL,\r",
       "      Hosttype VARCHAR(64) CHARACTER SET UNICODE NOT CASESPECIFIC NOT NULL,\r",
       "      RemoteMapping JSON(8388096) CHARACTER SET UNICODE,\r",
       "      RemoteMappingInternal VARBYTE(30000),\r",
       "      ProfileInstallVersion INTEGER NOT NULL)\r",
       "UNIQUE PRIMARY INDEX (PushProfileName),\r",
       "UNIQUE INDEX(PushProfileID);</td><td class=\"tdhistory12836\">The TD_SERVER_DB.TD_PushProfileInfo controls the operations that can be push to remote databases.</td><td class=\"tdhistory12836\">0</td><td class=\"tdhistory12836\">0</td><td class=\"tdhistory12836\">0</td><td class=\"tdhistory12836\">N </td><td class=\"tdhistory12836\"></td><td class=\"tdhistory12836\"></td><td class=\"tdhistory12836\">2024-08-22 12:09:28</td><td class=\"tdhistory12836\">DBC</td><td class=\"tdhistory12836\">2024-08-22 12:09:28</td><td class=\"tdhistory12836\"></td><td class=\"tdhistory12836\"></td><td class=\"tdhistory12836\"></td><td class=\"tdhistory12836\">1</td><td class=\"tdhistory12836\">N </td><td class=\"tdhistory12836\">N </td><td class=\"tdhistory12836\">Y </td><td class=\"tdhistory12836\">N </td><td class=\"tdhistory12836\">N </td><td class=\"tdhistory12836\"></td><td class=\"tdhistory12836\"></td><td class=\"tdhistory12836\">N </td><td class=\"tdhistory12836\"></td><td class=\"tdhistory12836\"></td><td class=\"tdhistory12836\">1</td><td class=\"tdhistory12836\">0</td><td class=\"tdhistory12836\"></td><td class=\"tdhistory12836\"></td><td class=\"tdhistory12836\"></td><td class=\"tdhistory12836\"></td><td class=\"tdhistory12836\"></td><td class=\"tdhistory12836\"></td><td class=\"tdhistory12836\"></td><td class=\"tdhistory12836\"></td><td class=\"tdhistory12836\">60</td><td class=\"tdhistory12836\"></td><td class=\"tdhistory12836\">DEFAULT</td><td class=\"tdhistory12836\">DEFAULT</td><td class=\"tdhistory12836\">DEFAULT</td><td class=\"tdhistory12836\">0 </td><td class=\"tdhistory12836\">0</td><td class=\"tdhistory12836\">TD_Map1</td><td class=\"tdhistory12836\"></td><td class=\"tdhistory12836\"></td><td class=\"tdhistory12836\"></td><td class=\"tdhistory12836\"></td><td class=\"tdhistory12836\"></td></tr><tr><th class=\"tdhistory12836\" style= \"background: rgba(243, 243, 243, 0.75)\">2</th><td class=\"tdhistory12836\">TD_ANALYTICS_DB</td><td class=\"tdhistory12836\">METADATA_OBJECTS</td><td class=\"tdhistory12836\">1</td><td class=\"tdhistory12836\">T </td><td class=\"tdhistory12836\">F </td><td class=\"tdhistory12836\">NN  </td><td class=\"tdhistory12836\">DBC</td><td class=\"tdhistory12836\">CREATE TABLE TD_ANALYTICS_DB.METADATA_OBJECTS(\r",
       "    ObjectName VARCHAR(128) CHARACTER SET UNICODE,\r",
       "    ObjectType   VARCHAR(100) CHARACTER SET UNICODE,\r",
       "    VarcharCol   VARCHAR(32000) CHARACTER SET UNICODE,\r",
       "    ClobCol      CLOB CHARACTER SET UNICODE,\r",
       "    VarbyteCol   VARBYTE(64000),\r",
       "    BlobCol      BLOB,\r",
       "    JsonCol      JSON INLINE LENGTH 32000 CHARACTER SET UNICODE,\r",
       "    DatasetCol   DATASET INLINE LENGTH 64000 STORAGE FORMAT AVRO,\r",
       "\r",
       "    CHECK (\r",
       "        (VarcharCol IS NOT NULL AND ClobCol IS NULL AND VarbyteCol IS NULL AND BlobCol IS NULL AND JsonCol IS NULL AND DatasetCol IS NULL) OR\r",
       "        (VarcharCol IS NULL AND ClobCol IS NOT NULL AND VarbyteCol IS NULL AND BlobCol IS NULL AND JsonCol IS NULL AND DatasetCol IS NULL) OR\r",
       "        (VarcharCol IS NULL AND ClobCol IS NULL AND VarbyteCol IS NOT NULL AND BlobCol IS NULL AND JsonCol IS NULL AND DatasetCol IS NULL) OR\r",
       "        (VarcharCol IS NULL AND ClobCol IS NULL AND VarbyteCol IS NULL AND BlobCol IS NOT NULL AND JsonCol IS NULL AND DatasetCol IS NULL) OR\r",
       "        (VarcharCol IS NULL AND ClobCol IS NULL AND VarbyteCol IS NULL AND BlobCol IS NULL AND JsonCol IS NOT NULL AND DatasetCol IS NULL) OR\r",
       "        (VarcharCol IS NULL AND ClobCol IS NULL AND VarbyteCol IS NULL AND BlobCol IS NULL AND JsonCol IS NULL AND DatasetCol IS NOT NULL) )\r",
       "\r",
       ")UNIQUE PRIMARY INDEX(ObjectName);</td><td class=\"tdhistory12836\">Table to store metadata object which will be use by analytic functions.</td><td class=\"tdhistory12836\">0</td><td class=\"tdhistory12836\">0</td><td class=\"tdhistory12836\">0</td><td class=\"tdhistory12836\">Y </td><td class=\"tdhistory12836\"></td><td class=\"tdhistory12836\"></td><td class=\"tdhistory12836\">2024-08-22 11:28:56</td><td class=\"tdhistory12836\">DBC</td><td class=\"tdhistory12836\">2024-08-22 11:28:56</td><td class=\"tdhistory12836\"></td><td class=\"tdhistory12836\"></td><td class=\"tdhistory12836\"></td><td class=\"tdhistory12836\">1</td><td class=\"tdhistory12836\">N </td><td class=\"tdhistory12836\">N </td><td class=\"tdhistory12836\">Y </td><td class=\"tdhistory12836\">N </td><td class=\"tdhistory12836\">N </td><td class=\"tdhistory12836\"></td><td class=\"tdhistory12836\"></td><td class=\"tdhistory12836\">N </td><td class=\"tdhistory12836\"></td><td class=\"tdhistory12836\"></td><td class=\"tdhistory12836\">1</td><td class=\"tdhistory12836\">0</td><td class=\"tdhistory12836\"></td><td class=\"tdhistory12836\"></td><td class=\"tdhistory12836\"></td><td class=\"tdhistory12836\"></td><td class=\"tdhistory12836\"></td><td class=\"tdhistory12836\"></td><td class=\"tdhistory12836\"></td><td class=\"tdhistory12836\"></td><td class=\"tdhistory12836\"></td><td class=\"tdhistory12836\"></td><td class=\"tdhistory12836\">DEFAULT</td><td class=\"tdhistory12836\">DEFAULT</td><td class=\"tdhistory12836\">DEFAULT</td><td class=\"tdhistory12836\">0 </td><td class=\"tdhistory12836\">1</td><td class=\"tdhistory12836\">TD_Map1</td><td class=\"tdhistory12836\"></td><td class=\"tdhistory12836\"></td><td class=\"tdhistory12836\"></td><td class=\"tdhistory12836\"></td><td class=\"tdhistory12836\"></td></tr><tr><th class=\"tdhistory12836\" style= \"background: rgba(243, 243, 243, 0.75)\">3</th><td class=\"tdhistory12836\">tdwm</td><td class=\"tdhistory12836\">Actions</td><td class=\"tdhistory12836\">1</td><td class=\"tdhistory12836\">T </td><td class=\"tdhistory12836\">F </td><td class=\"tdhistory12836\">NN  </td><td class=\"tdhistory12836\">DBC</td><td class=\"tdhistory12836\">CREATE TABLE Actions (  ActionId    INTEGER NOT NULL, CreateDate  INTEGER NOT NULL, CreateTime  INTEGER FORMAT '99:99:99' NOT NULL, RemoveDate  INTEGER NOT NULL, RemoveTime  INTEGER FORMAT '99:99:99' NOT NULL, Description VARCHAR(80) CHARACTER SET UNICODE, ConfigId    INTEGER NOT NULL, ParentId    INTEGER NOT NULL, VersionNo   INTEGER NOT NULL, ActionName  VARCHAR(30) CHARACTER SET UNICODE NOT NULL, ActionType  VARCHAR(10) CHARACTER SET UNICODE NOT NULL, SysConId    INTEGER, OpEnvId     INTEGER, ActionValue INTEGER, ActionInfo  VARCHAR(120) CHARACTER SET UNICODE) PRIMARY INDEX (ActionId);</td><td class=\"tdhistory12836\"></td><td class=\"tdhistory12836\">0</td><td class=\"tdhistory12836\">0</td><td class=\"tdhistory12836\">0</td><td class=\"tdhistory12836\">N </td><td class=\"tdhistory12836\"></td><td class=\"tdhistory12836\"></td><td class=\"tdhistory12836\">2024-08-22 11:37:15</td><td class=\"tdhistory12836\">DBC</td><td class=\"tdhistory12836\">2024-08-22 11:37:15</td><td class=\"tdhistory12836\"></td><td class=\"tdhistory12836\"></td><td class=\"tdhistory12836\"></td><td class=\"tdhistory12836\">1</td><td class=\"tdhistory12836\">N </td><td class=\"tdhistory12836\">N </td><td class=\"tdhistory12836\">Y </td><td class=\"tdhistory12836\">N </td><td class=\"tdhistory12836\">N </td><td class=\"tdhistory12836\"></td><td class=\"tdhistory12836\"></td><td class=\"tdhistory12836\">N </td><td class=\"tdhistory12836\"></td><td class=\"tdhistory12836\"></td><td class=\"tdhistory12836\">1</td><td class=\"tdhistory12836\">0</td><td class=\"tdhistory12836\"></td><td class=\"tdhistory12836\"></td><td class=\"tdhistory12836\"></td><td class=\"tdhistory12836\"></td><td class=\"tdhistory12836\"></td><td class=\"tdhistory12836\"></td><td class=\"tdhistory12836\"></td><td class=\"tdhistory12836\"></td><td class=\"tdhistory12836\"></td><td class=\"tdhistory12836\"></td><td class=\"tdhistory12836\">DEFAULT</td><td class=\"tdhistory12836\">DEFAULT</td><td class=\"tdhistory12836\">DEFAULT</td><td class=\"tdhistory12836\">0 </td><td class=\"tdhistory12836\">0</td><td class=\"tdhistory12836\">TD_Map1</td><td class=\"tdhistory12836\"></td><td class=\"tdhistory12836\"></td><td class=\"tdhistory12836\"></td><td class=\"tdhistory12836\"></td><td class=\"tdhistory12836\"></td></tr><tr><th class=\"tdhistory12836\" style= \"background: rgba(243, 243, 243, 0.75)\">4</th><td class=\"tdhistory12836\">tdwm</td><td class=\"tdhistory12836\">AllocGroups</td><td class=\"tdhistory12836\">1</td><td class=\"tdhistory12836\">T </td><td class=\"tdhistory12836\">F </td><td class=\"tdhistory12836\">NN  </td><td class=\"tdhistory12836\">DBC</td><td class=\"tdhistory12836\">CREATE TABLE AllocGroups (  AllocGroupId  INTEGER NOT NULL, CreateDate  INTEGER NOT NULL, CreateTime  INTEGER FORMAT '99:99:99' NOT NULL, RemoveDate  INTEGER NOT NULL, RemoveTime  INTEGER FORMAT '99:99:99' NOT NULL, Description VARCHAR(80) CHARACTER SET UNICODE, ConfigId    INTEGER NOT NULL, ParentId    INTEGER NOT NULL, VersionNo   INTEGER NOT NULL, RscPartitionId  INTEGER NOT NULL, AGName      VARCHAR(16) CHARACTER SET UNICODE NOT NULL, AGNumber    INTEGER, SlgPriority INTEGER) PRIMARY INDEX (AllocGroupId);</td><td class=\"tdhistory12836\"></td><td class=\"tdhistory12836\">0</td><td class=\"tdhistory12836\">0</td><td class=\"tdhistory12836\">0</td><td class=\"tdhistory12836\">N </td><td class=\"tdhistory12836\"></td><td class=\"tdhistory12836\"></td><td class=\"tdhistory12836\">2024-08-22 11:37:19</td><td class=\"tdhistory12836\">DBC</td><td class=\"tdhistory12836\">2024-08-22 11:37:19</td><td class=\"tdhistory12836\"></td><td class=\"tdhistory12836\"></td><td class=\"tdhistory12836\"></td><td class=\"tdhistory12836\">1</td><td class=\"tdhistory12836\">N </td><td class=\"tdhistory12836\">N </td><td class=\"tdhistory12836\">Y </td><td class=\"tdhistory12836\">N </td><td class=\"tdhistory12836\">N </td><td class=\"tdhistory12836\"></td><td class=\"tdhistory12836\"></td><td class=\"tdhistory12836\">N </td><td class=\"tdhistory12836\"></td><td class=\"tdhistory12836\"></td><td class=\"tdhistory12836\">1</td><td class=\"tdhistory12836\">0</td><td class=\"tdhistory12836\"></td><td class=\"tdhistory12836\"></td><td class=\"tdhistory12836\"></td><td class=\"tdhistory12836\"></td><td class=\"tdhistory12836\"></td><td class=\"tdhistory12836\"></td><td class=\"tdhistory12836\"></td><td class=\"tdhistory12836\"></td><td class=\"tdhistory12836\"></td><td class=\"tdhistory12836\"></td><td class=\"tdhistory12836\">DEFAULT</td><td class=\"tdhistory12836\">DEFAULT</td><td class=\"tdhistory12836\">DEFAULT</td><td class=\"tdhistory12836\">0 </td><td class=\"tdhistory12836\">0</td><td class=\"tdhistory12836\">TD_Map1</td><td class=\"tdhistory12836\"></td><td class=\"tdhistory12836\"></td><td class=\"tdhistory12836\"></td><td class=\"tdhistory12836\"></td><td class=\"tdhistory12836\"></td></tr><tr><th class=\"tdhistory12836\" style= \"background: rgba(243, 243, 243, 0.75)\">5</th><td class=\"tdhistory12836\">tdwm</td><td class=\"tdhistory12836\">AllocGroupStates</td><td class=\"tdhistory12836\">1</td><td class=\"tdhistory12836\">T </td><td class=\"tdhistory12836\">F </td><td class=\"tdhistory12836\">NN  </td><td class=\"tdhistory12836\">DBC</td><td class=\"tdhistory12836\">CREATE TABLE AllocGroupStates (  AllocGroupId  INTEGER NOT NULL, StateId     INTEGER NOT NULL, CreateDate  INTEGER NOT NULL, CreateTime  INTEGER FORMAT '99:99:99' NOT NULL, RemoveDate  INTEGER NOT NULL, RemoveTime  INTEGER FORMAT '99:99:99' NOT NULL, Description VARCHAR(80) CHARACTER SET UNICODE, ConfigId    INTEGER NOT NULL, ParentId    INTEGER NOT NULL, VersionNo   INTEGER NOT NULL, Expedited   INTEGER DEFAULT 0, AGWeight    INTEGER, CpuLimit    INTEGER) PRIMARY INDEX (AllocGroupId, StateId);</td><td class=\"tdhistory12836\"></td><td class=\"tdhistory12836\">0</td><td class=\"tdhistory12836\">0</td><td class=\"tdhistory12836\">0</td><td class=\"tdhistory12836\">N </td><td class=\"tdhistory12836\"></td><td class=\"tdhistory12836\"></td><td class=\"tdhistory12836\">2024-08-22 11:37:19</td><td class=\"tdhistory12836\">DBC</td><td class=\"tdhistory12836\">2024-08-22 11:37:19</td><td class=\"tdhistory12836\"></td><td class=\"tdhistory12836\"></td><td class=\"tdhistory12836\"></td><td class=\"tdhistory12836\">1</td><td class=\"tdhistory12836\">N </td><td class=\"tdhistory12836\">N </td><td class=\"tdhistory12836\">Y </td><td class=\"tdhistory12836\">N </td><td class=\"tdhistory12836\">N </td><td class=\"tdhistory12836\"></td><td class=\"tdhistory12836\"></td><td class=\"tdhistory12836\">N </td><td class=\"tdhistory12836\"></td><td class=\"tdhistory12836\"></td><td class=\"tdhistory12836\">2</td><td class=\"tdhistory12836\">0</td><td class=\"tdhistory12836\"></td><td class=\"tdhistory12836\"></td><td class=\"tdhistory12836\"></td><td class=\"tdhistory12836\"></td><td class=\"tdhistory12836\"></td><td class=\"tdhistory12836\"></td><td class=\"tdhistory12836\"></td><td class=\"tdhistory12836\"></td><td class=\"tdhistory12836\"></td><td class=\"tdhistory12836\"></td><td class=\"tdhistory12836\">DEFAULT</td><td class=\"tdhistory12836\">DEFAULT</td><td class=\"tdhistory12836\">DEFAULT</td><td class=\"tdhistory12836\">0 </td><td class=\"tdhistory12836\">0</td><td class=\"tdhistory12836\">TD_Map1</td><td class=\"tdhistory12836\"></td><td class=\"tdhistory12836\"></td><td class=\"tdhistory12836\"></td><td class=\"tdhistory12836\"></td><td class=\"tdhistory12836\"></td></tr></tbody></table></div>"
      ]
     },
     "execution_count": 11,
     "metadata": {
      "application/vnd.teradata.resultset": "{\"resultSetID\":\"/home/jovyan/JupyterLabRoot/Teradata/Resultsets/2024.09.09_06.27.18.291_UTC\",\"historyID\":620,\"chunkID\":\"00001\",\"sessionid\":\"\",\"portnum\":\"\",\"dockermode\":\"docker\",\"totalRowCount\":5,\"chunkCount\":0,\"rowLimit\":0,\"columnMetadata\":[{\"columnName\":\"DataBaseName\",\"columnTypeName\":\"VARCHAR\",\"length\":128,\"scale\":128},{\"columnNumber\":1,\"columnName\":\"TableName\",\"columnTypeName\":\"VARCHAR\",\"length\":128,\"scale\":128},{\"columnNumber\":2,\"columnName\":\"Version\",\"columnTypeName\":\"SMALLINT\"},{\"columnNumber\":3,\"columnName\":\"TableKind\",\"columnTypeName\":\"CHAR\",\"length\":1,\"scale\":1},{\"columnNumber\":4,\"columnName\":\"ProtectionType\",\"columnTypeName\":\"CHAR\",\"length\":1,\"scale\":1},{\"columnNumber\":5,\"columnName\":\"JournalFlag\",\"columnTypeName\":\"CHAR\",\"length\":2,\"scale\":2},{\"columnNumber\":6,\"columnName\":\"CreatorName\",\"columnTypeName\":\"VARCHAR\",\"length\":128,\"scale\":128},{\"columnNumber\":7,\"columnName\":\"RequestText\",\"columnTypeName\":\"VARCHAR\",\"length\":12500,\"scale\":12500},{\"columnNumber\":8,\"columnName\":\"CommentString\",\"columnTypeName\":\"VARCHAR\",\"length\":255,\"scale\":255},{\"columnNumber\":9,\"columnName\":\"ParentCount\",\"columnTypeName\":\"SMALLINT\"},{\"columnNumber\":10,\"columnName\":\"ChildCount\",\"columnTypeName\":\"SMALLINT\"},{\"columnNumber\":11,\"columnName\":\"NamedTblCheckCount\",\"columnTypeName\":\"SMALLINT\"},{\"columnNumber\":12,\"columnName\":\"UnnamedTblCheckExist\",\"columnTypeName\":\"CHAR\",\"length\":1,\"scale\":1},{\"columnNumber\":13,\"columnName\":\"PrimaryKeyIndexId\",\"columnTypeName\":\"SMALLINT\"},{\"columnNumber\":14,\"columnName\":\"RepStatus\",\"columnTypeName\":\"CHAR\",\"length\":1,\"scale\":1},{\"columnNumber\":15,\"columnName\":\"CreateTimeStamp\",\"columnTypeName\":\"TIMESTAMP\"},{\"columnNumber\":16,\"columnName\":\"LastAlterName\",\"columnTypeName\":\"VARCHAR\",\"length\":128,\"scale\":128},{\"columnNumber\":17,\"columnName\":\"LastAlterTimeStamp\",\"columnTypeName\":\"TIMESTAMP\"},{\"columnNumber\":18,\"columnName\":\"RequestTxtOverflow\",\"columnTypeName\":\"CHAR\",\"length\":1,\"scale\":1},{\"columnNumber\":19,\"columnName\":\"AccessCount\",\"columnTypeName\":\"BIGINT\"},{\"columnNumber\":20,\"columnName\":\"LastAccessTimeStamp\",\"columnTypeName\":\"TIMESTAMP\"},{\"columnNumber\":21,\"columnName\":\"UtilVersion\",\"columnTypeName\":\"SMALLINT\"},{\"columnNumber\":22,\"columnName\":\"QueueFlag\",\"columnTypeName\":\"CHAR\",\"length\":1,\"scale\":1},{\"columnNumber\":23,\"columnName\":\"CommitOpt\",\"columnTypeName\":\"CHAR\",\"length\":1,\"scale\":1},{\"columnNumber\":24,\"columnName\":\"TransLog\",\"columnTypeName\":\"CHAR\",\"length\":1,\"scale\":1},{\"columnNumber\":25,\"columnName\":\"CheckOpt\",\"columnTypeName\":\"CHAR\",\"length\":1,\"scale\":1},{\"columnNumber\":26,\"columnName\":\"TemporalProperty\",\"columnTypeName\":\"CHAR\",\"length\":1,\"scale\":1},{\"columnNumber\":27,\"columnName\":\"ResolvedCurrent_Date\",\"columnTypeName\":\"DATE\"},{\"columnNumber\":28,\"columnName\":\"ResolvedCurrent_Timestamp\",\"columnTypeName\":\"TIMESTAMP WITH TIME ZONE\",\"length\":6,\"scale\":6},{\"columnNumber\":29,\"columnName\":\"SystemDefinedJI\",\"columnTypeName\":\"CHAR\",\"length\":1,\"scale\":1},{\"columnNumber\":30,\"columnName\":\"VTQualifier\",\"columnTypeName\":\"CHAR\",\"length\":1,\"scale\":1},{\"columnNumber\":31,\"columnName\":\"TTQualifier\",\"columnTypeName\":\"CHAR\",\"length\":1,\"scale\":1},{\"columnNumber\":32,\"columnName\":\"PIColumnCount\",\"columnTypeName\":\"SMALLINT\"},{\"columnNumber\":33,\"columnName\":\"PartitioningLevels\",\"columnTypeName\":\"SMALLINT\"},{\"columnNumber\":34,\"columnName\":\"LoadProperty\",\"columnTypeName\":\"CHAR\",\"length\":1,\"scale\":1},{\"columnNumber\":35,\"columnName\":\"CurrentLoadId\",\"columnTypeName\":\"INTEGER\"},{\"columnNumber\":36,\"columnName\":\"LoadIdLayout\",\"columnTypeName\":\"CHAR\",\"length\":1,\"scale\":1},{\"columnNumber\":37,\"columnName\":\"DelayedJI\",\"columnTypeName\":\"CHAR\",\"length\":1,\"scale\":1},{\"columnNumber\":38,\"columnName\":\"LastArchiveId\",\"columnTypeName\":\"BIGINT\"},{\"columnNumber\":39,\"columnName\":\"LastFullArchiveId\",\"columnTypeName\":\"BIGINT\"},{\"columnNumber\":40,\"columnName\":\"BlockSize\",\"columnTypeName\":\"INTEGER\"},{\"columnNumber\":41,\"columnName\":\"FreeSpacePercent\",\"columnTypeName\":\"BYTEINT\"},{\"columnNumber\":42,\"columnName\":\"MergeBlockRatio\",\"columnTypeName\":\"BYTEINT\"},{\"columnNumber\":43,\"columnName\":\"CheckSum\",\"columnTypeName\":\"CHAR\",\"length\":1,\"scale\":1},{\"columnNumber\":44,\"columnName\":\"BlockCompression\",\"columnTypeName\":\"VARCHAR\",\"length\":8,\"scale\":8},{\"columnNumber\":45,\"columnName\":\"BlockCompressionAlgorithm\",\"columnTypeName\":\"VARCHAR\",\"length\":7,\"scale\":7},{\"columnNumber\":46,\"columnName\":\"BlockCompressionLevel\",\"columnTypeName\":\"VARCHAR\",\"length\":7,\"scale\":7},{\"columnNumber\":47,\"columnName\":\"TableHeaderFormat\",\"columnTypeName\":\"CHAR\",\"length\":1,\"scale\":1},{\"columnNumber\":48,\"columnName\":\"RowSizeFormat\",\"columnTypeName\":\"VARCHAR\",\"length\":1,\"scale\":1},{\"columnNumber\":49,\"columnName\":\"MapName\",\"columnTypeName\":\"VARCHAR\",\"length\":128,\"scale\":128},{\"columnNumber\":50,\"columnName\":\"ColocationName\",\"columnTypeName\":\"VARCHAR\",\"length\":128,\"scale\":128},{\"columnNumber\":51,\"columnName\":\"TVMFlavor\",\"columnTypeName\":\"CHAR\",\"length\":1,\"scale\":1},{\"columnNumber\":52,\"columnName\":\"FastAlterTable\",\"columnTypeName\":\"CHAR\",\"length\":1,\"scale\":1},{\"columnNumber\":53,\"columnName\":\"IncrementalRestoreEnabled\",\"columnTypeName\":\"INTEGER\"},{\"columnNumber\":54,\"columnName\":\"AuthName\",\"columnTypeName\":\"VARCHAR\",\"length\":128,\"scale\":128}]}"
     },
     "output_type": "execute_result"
    }
   ],
   "source": [
    "SELECT TOP 5 * FROM DBC.TablesV\n",
    "WHERE (TableKind = 'T' AND CreatorName = 'DBC')\n",
    "  OR (TableKind = 'T' AND CreatorName = 'SYSADM')\n",
    "ORDER BY DatabaseName DESC, TableName "
   ]
  },
  {
   "cell_type": "markdown",
   "metadata": {},
   "source": [
    "<hr style=\"height:2px;border:none;background-color:#00233C;\">\n",
    "<p style = 'font-size:20px;font-family:Arial;color:#00233C'><b>Aggregation</b></p>\n",
    "\n",
    "<p style = 'font-size:16px;font-family:Arial;color:#00233C'>We can aggregate multiple rows together in a similar way as pivot tables work in Excel. For example, to count how many object (tables, views, macros, stored procedures, functions, etc) we have with the same name in Vantage, we would do:</p>\n"
   ]
  },
  {
   "cell_type": "code",
   "execution_count": 12,
   "metadata": {},
   "outputs": [
    {
     "data": {
      "application/vnd.teradata.resultset": "\"DataBaseName\",\"ObjectCount\"\n\"DBC\",\"872\"\n\"dbcmngr\",\"2\"\n\"DemoNow_Monitor\",\"1\"\n\"demo_user\",\"90\"\n\"GLOBAL_FUNCTIONS\",\"1\"",
      "text/html": [
       "<div class = \"td-resultset-table-div\" style = \"max-height: 100%; overflow-y: auto\">\n",
       "      <table class=\"tdhistory598550\"><style>\n",
       "      table.tdhistory598550 { display: block !important; min-height: 189px !important; overflow: auto !important; height: 189px !important; width: 100% !important; border: 1px solid rgb(207, 207, 207) !important; border-collapse: collapse !important; ; color: var(--jp-ui-font-color1) !important; }\n",
       "      th.tdhistory598550 { border: 1px solid rgb(198,198,198) !important; border-collapse: collapse !important; ; padding: 2px 5px !important; ; font-size: 13px !important; ; text-align: center !important; white-space: normal !important; color: var(--jp-ui-font-color1) !important; }\n",
       "      th.tdhistory598550:last-child { text-align: left !important; }\n",
       "      tbody.tdhistory598550 tr:nth-child(even) { background: rgba(243, 243, 243, 0.75) !important; }\n",
       "      tbody.tdhistory598550 tr:nth-child(odd) { background: var(--jp-ui-inverse-font-color1) !important; }\n",
       "      td.tdhistory598550 { border: 1px solid rgb(207, 207, 207) !important; border-collapse: collapse !important; ; padding: 2px 5px !important; ; font-size: 13px !important; ; text-align: left !important;          white-space: nowrap !important; overflow:hidden !important; text-overflow:ellipsis !important;; }\n",
       "    </style><thead><tr style= \"background: rgba(243, 243, 243, 0.75)\"><th class=\"tdhistory598550\"></th><th class=\"tdhistory598550\">DataBaseName</th><th class=\"tdhistory598550\">ObjectCount</th></tr></thead><tbody class=\"tdhistory598550 resultset-body\"><tr><th class=\"tdhistory598550\" style= \"background: rgba(243, 243, 243, 0.75)\">1</th><td class=\"tdhistory598550\">DBC</td><td class=\"tdhistory598550\">872</td></tr><tr><th class=\"tdhistory598550\" style= \"background: rgba(243, 243, 243, 0.75)\">2</th><td class=\"tdhistory598550\">dbcmngr</td><td class=\"tdhistory598550\">2</td></tr><tr><th class=\"tdhistory598550\" style= \"background: rgba(243, 243, 243, 0.75)\">3</th><td class=\"tdhistory598550\">DemoNow_Monitor</td><td class=\"tdhistory598550\">1</td></tr><tr><th class=\"tdhistory598550\" style= \"background: rgba(243, 243, 243, 0.75)\">4</th><td class=\"tdhistory598550\">demo_user</td><td class=\"tdhistory598550\">90</td></tr><tr><th class=\"tdhistory598550\" style= \"background: rgba(243, 243, 243, 0.75)\">5</th><td class=\"tdhistory598550\">GLOBAL_FUNCTIONS</td><td class=\"tdhistory598550\">1</td></tr></tbody></table></div>"
      ]
     },
     "execution_count": 12,
     "metadata": {
      "application/vnd.teradata.resultset": "{\"resultSetID\":\"/home/jovyan/JupyterLabRoot/Teradata/Resultsets/2024.09.09_06.27.18.574_UTC\",\"historyID\":621,\"chunkID\":\"00001\",\"sessionid\":\"\",\"portnum\":\"\",\"dockermode\":\"docker\",\"totalRowCount\":5,\"chunkCount\":0,\"rowLimit\":0,\"columnMetadata\":[{\"columnName\":\"DataBaseName\",\"columnTypeName\":\"VARCHAR\",\"length\":128,\"scale\":128},{\"columnNumber\":1,\"columnName\":\"ObjectCount\",\"columnTypeName\":\"INTEGER\"}]}"
     },
     "output_type": "execute_result"
    }
   ],
   "source": [
    "SELECT TOP 5 DatabaseName, count(*) as ObjectCount FROM DBC.TablesV\n",
    "GROUP BY DatabaseName  \n",
    "ORDER BY DatabaseName"
   ]
  },
  {
   "cell_type": "markdown",
   "metadata": {},
   "source": [
    "\n",
    "<p style = 'font-size:16px;font-family:Arial;color:#00233C'>In the <b>SELECT</b> example below, we use a sub query to aggregate object size within a database, then we use functions to get the minimum and maximum object size and count for each database.  (The counts are different from above because views and macros take no space).</p>\n",
    "\n",
    "<p style = 'font-size:16px;font-family:Arial;color:#00233C'>There are multiple aggregation functions:</p>\n",
    "\n",
    "<ul style = 'font-size:16px;font-family:Arial;color:#00233C'>\n",
    "    <li>SUM(X) to sum all the X values</li>\n",
    "<li>AVG(X) for the average of X</li>\n",
    "<li>MIN(X) for the smallest X value</li>\n",
    "<li>MAX(X) for the largest X value</li>\n",
    "</ul>\n",
    "\n",
    "<p style = 'font-size:16px;font-family:Arial;color:#00233C'>For example:</p>"
   ]
  },
  {
   "cell_type": "code",
   "execution_count": 13,
   "metadata": {},
   "outputs": [
    {
     "data": {
      "application/vnd.teradata.resultset": "\"DataBaseName\",\"MinSize\",\"MaxSize\",\"#Objects_Using_Space\"\n\"DBC\",\"65536\",\"145539072\",\"189\"\n\"dbcmngr\",\"65536\",\"65536\",\"2\"\n\"DemoNow_Monitor\",\"98304\",\"98304\",\"1\"\n\"demo_user\",\"98304\",\"2097152\",\"59\"\n\"GLOBAL_FUNCTIONS\",\"131072\",\"131072\",\"1\"",
      "text/html": [
       "<div class = \"td-resultset-table-div\" style = \"max-height: 100%; overflow-y: auto\">\n",
       "      <table class=\"tdhistory724100\"><style>\n",
       "      table.tdhistory724100 { display: block !important; min-height: 189px !important; overflow: auto !important; height: 189px !important; width: 100% !important; border: 1px solid rgb(207, 207, 207) !important; border-collapse: collapse !important; ; color: var(--jp-ui-font-color1) !important; }\n",
       "      th.tdhistory724100 { border: 1px solid rgb(198,198,198) !important; border-collapse: collapse !important; ; padding: 2px 5px !important; ; font-size: 13px !important; ; text-align: center !important; white-space: normal !important; color: var(--jp-ui-font-color1) !important; }\n",
       "      th.tdhistory724100:last-child { text-align: left !important; }\n",
       "      tbody.tdhistory724100 tr:nth-child(even) { background: rgba(243, 243, 243, 0.75) !important; }\n",
       "      tbody.tdhistory724100 tr:nth-child(odd) { background: var(--jp-ui-inverse-font-color1) !important; }\n",
       "      td.tdhistory724100 { border: 1px solid rgb(207, 207, 207) !important; border-collapse: collapse !important; ; padding: 2px 5px !important; ; font-size: 13px !important; ; text-align: left !important;          white-space: nowrap !important; overflow:hidden !important; text-overflow:ellipsis !important;; }\n",
       "    </style><thead><tr style= \"background: rgba(243, 243, 243, 0.75)\"><th class=\"tdhistory724100\"></th><th class=\"tdhistory724100\">DataBaseName</th><th class=\"tdhistory724100\">MinSize</th><th class=\"tdhistory724100\">MaxSize</th><th class=\"tdhistory724100\">#Objects_Using_Space</th></tr></thead><tbody class=\"tdhistory724100 resultset-body\"><tr><th class=\"tdhistory724100\" style= \"background: rgba(243, 243, 243, 0.75)\">1</th><td class=\"tdhistory724100\">DBC</td><td class=\"tdhistory724100\">65536</td><td class=\"tdhistory724100\">145539072</td><td class=\"tdhistory724100\">189</td></tr><tr><th class=\"tdhistory724100\" style= \"background: rgba(243, 243, 243, 0.75)\">2</th><td class=\"tdhistory724100\">dbcmngr</td><td class=\"tdhistory724100\">65536</td><td class=\"tdhistory724100\">65536</td><td class=\"tdhistory724100\">2</td></tr><tr><th class=\"tdhistory724100\" style= \"background: rgba(243, 243, 243, 0.75)\">3</th><td class=\"tdhistory724100\">DemoNow_Monitor</td><td class=\"tdhistory724100\">98304</td><td class=\"tdhistory724100\">98304</td><td class=\"tdhistory724100\">1</td></tr><tr><th class=\"tdhistory724100\" style= \"background: rgba(243, 243, 243, 0.75)\">4</th><td class=\"tdhistory724100\">demo_user</td><td class=\"tdhistory724100\">98304</td><td class=\"tdhistory724100\">2097152</td><td class=\"tdhistory724100\">59</td></tr><tr><th class=\"tdhistory724100\" style= \"background: rgba(243, 243, 243, 0.75)\">5</th><td class=\"tdhistory724100\">GLOBAL_FUNCTIONS</td><td class=\"tdhistory724100\">131072</td><td class=\"tdhistory724100\">131072</td><td class=\"tdhistory724100\">1</td></tr></tbody></table></div>"
      ]
     },
     "execution_count": 13,
     "metadata": {
      "application/vnd.teradata.resultset": "{\"resultSetID\":\"/home/jovyan/JupyterLabRoot/Teradata/Resultsets/2024.09.09_06.27.19.254_UTC\",\"historyID\":622,\"chunkID\":\"00001\",\"sessionid\":\"\",\"portnum\":\"\",\"dockermode\":\"docker\",\"totalRowCount\":5,\"chunkCount\":0,\"rowLimit\":0,\"columnMetadata\":[{\"columnName\":\"DataBaseName\",\"columnTypeName\":\"VARCHAR\",\"length\":128,\"scale\":128},{\"columnNumber\":1,\"columnName\":\"MinSize\",\"columnTypeName\":\"BIGINT\"},{\"columnNumber\":2,\"columnName\":\"MaxSize\",\"columnTypeName\":\"BIGINT\"},{\"columnNumber\":3,\"columnName\":\"#Objects_Using_Space\",\"columnTypeName\":\"INTEGER\"}]}"
     },
     "output_type": "execute_result"
    }
   ],
   "source": [
    "SELECT\n",
    "    TOP 5 databasename,\n",
    "    MIN(TableBytes)  AS MinSize,\n",
    "    MAX(TableBytes)  AS MaxSize,\n",
    "    COUNT(*) AS #Objects_Using_Space\n",
    "FROM (\n",
    "    SELECT\n",
    "        DatabaseName,\n",
    "        TableName,\n",
    "        Sum(CurrentPerm) AS TableBytes   \n",
    "        FROM DBC.TablesizeV\n",
    "        GROUP By DatabaseName, Tablename\n",
    "    ) AS Subtotals \n",
    "GROUP BY DatabaseName order by DatabaseName;"
   ]
  },
  {
   "cell_type": "markdown",
   "metadata": {},
   "source": [
    "<p style = 'font-size:16px;font-family:Arial;color:#00233C'>For courageous readers, you can also try the following aggregation functions:</p>\n",
    "\n",
    "<ul style = 'font-size:16px;font-family:Arial;color:#00233C'>\n",
    "<li>STDDEV_POP(X) and STDDEV_SAMP(X) to measure the standard deviation of the X distribution (for the full population, and for a sampled population)\n",
    "<li>VAR_POP(X) and VAR_SAMP(X) to measure the variance of the X distribution (for the full population, and for a sampled population)\n",
    "<li>COVAR_POP(X,Y) and COVAR_SAMP(X,Y) to measure the covariance between X and Y (for the full population, and for a sampled population)\n",
    "<li>CORR(X,Y) to measure the correlation between the columns X and Y\n",
    "<li>KURTOSIS(X) to measure the kurtosis of the X distribution **minus** 3 (the tailed ness of the distribution, it should be around 0 for a Normal/Gaussian distribution)\n",
    "<li>SKEW(X) to measure the skewness of the X distribution (the asymmetry of the distribution, it should be around 0 for a Normal/Gaussian distribution) \n",
    "</ul>\n"
   ]
  },
  {
   "cell_type": "markdown",
   "metadata": {},
   "source": [
    "<footer style=\"padding-bottom:35px; background:#f9f9f9; border-bottom:3px solid #00233C\">\n",
    "    <div style=\"float:left;margin-top:14px\">ClearScape Analytics™</div>\n",
    "    <div style=\"float:right;\">\n",
    "        <div style=\"float:left; margin-top:14px\">\n",
    "            Copyright © Teradata Corporation - 2023. All Rights Reserved\n",
    "        </div>\n",
    "    </div>\n",
    "</footer>"
   ]
  }
 ],
 "metadata": {
  "kernelspec": {
   "display_name": "Teradata SQL",
   "language": "Teradata SQL",
   "name": "teradatasql"
  },
  "language_info": {
   "codemirror_mode": "Teradata SQL",
   "file_extension": ".tdrs",
   "mimetype": "application/vnd.teradata.resultset",
   "name": "Teradata SQL",
   "nbconvert_exporter": "",
   "pygments_lexer": "",
   "version": "16.20"
  }
 },
 "nbformat": 4,
 "nbformat_minor": 4
}
