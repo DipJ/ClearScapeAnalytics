{
 "cells": [
  {
   "cell_type": "markdown",
   "id": "fa4768da-8e10-4914-bb2e-35e5e3ca4296",
   "metadata": {},
   "source": [
    "<header style=\"padding:1px;background:#f9f9f9;border-top:3px solid #00b2b1\"><img id=\"Teradata-logo\" src=\"https://www.teradata.com/Teradata/Images/Rebrand/Teradata_logo-two_color.png\" alt=\"Teradata\" width=\"220\" align=\"right\" />\n",
    "\n",
    "<b style = 'font-size:28px;font-family:Arial;color:#E37C4D'>DBQL Usage</b>\n",
    "</header>\n",
    "\n",
    "<p style = 'font-size:20px;font-family:Arial;color:#E37C4D'><b>Introduction</b></p>\n",
    "\n",
    "<p style = 'font-size:16px;font-family:Arial'>Database Query Logging (DBQL) is used to track query behaviour in Teradata Vantage. Like other system tables, the predefined DBQL logs are created as relational tables in DBC during normal Teradata Database installation. However, while most system tables are populated automatically, you control whether or not to populate the DBQL tables. If you choose not to use the feature, the tables remain empty.\n",
    "<br>\n",
    "<p style = 'font-size:16px;font-family:Arial'><b>When to Use DBQL</b>\n",
    "<p style = 'font-size:16px;font-family:Arial'>Use DBQL to:\n",
    "\n",
    "<li style = 'font-size:16px;font-family:Arial'>Capture query/statement counts and response times. You can look in the DBQL logs to see if this is the first time this query has been broken and what the historical pattern of its execution has been.</li>\n",
    "<li style = 'font-size:16px;font-family:Arial'>Validate that nonunique secondary indexes (NUSIs) are actually used. You can free up space and improve table update performance by deleting NUSIs.</li>\n",
    "<li style = 'font-size:16px;font-family:Arial'>Determine which aggregate join indexes (AJIs) are used the most. This allows you to make a cost-benefit analysis on their AJIs, comparing usage against size and time to build.</li>\n",
    "<li style = 'font-size:16px;font-family:Arial'>Analyze SQL text and process steps. View the SQL text that inadvertently wiped out the system using DBQL historical data and then attempt to rebuild the lost data.</li>\n",
    "<li style = 'font-size:16px;font-family:Arial'>Log optimizer queries as XML documents.</li>\n",
    "<li style = 'font-size:16px;font-family:Arial'>Make further refinements to workload groups and scheduling.</li>\n",
    "<li style = 'font-size:16px;font-family:Arial'>Discover potential application improvements.</li>\n",
    "<li style = 'font-size:16px;font-family:Arial'>Understand basic workload trends, such as growth patterns and workload mix, and identify outliers.</li>\n",
    "<li style = 'font-size:16px;font-family:Arial'>Determine whether the query has redrive protection and if the request was redriven after a database failure.</li>\n",
    "</p>    \n",
    "<br>\n",
    "<p style = 'font-size:16px;font-family:Arial'>DBQL provides a series of predefined tables and views that can store historical records of queries and their duration, performance, and target activity based on rules you specify. DBQL is flexible enough to log information on the variety of SQL requests, from short transactions to longer-running analysis and mining queries that run on Teradata Database. You can log information for an application name, a user or group of users, or a list of accounts.\n",
    "</p>\n",
    "\n",
    "\n",
    "<p style = 'font-size:16px;font-family:Arial'><a href = 'https://docs.teradata.com/r/Teradata-VantageTM-Database-Administration/March-2019/Tracking-Query-Behavior-with-Database-Query-Logging-Operational-DBAs'>Link to the DBQL documentation</a></p>"
   ]
  },
  {
   "cell_type": "markdown",
   "id": "b38db9ad-5372-418d-a44d-d3e5833349f7",
   "metadata": {},
   "source": [
    "<p style = 'font-size:20px;font-family:Arial;color:#E37C4D'><b>1. Connect to Vantage</b></p>"
   ]
  },
  {
   "cell_type": "markdown",
   "id": "1363ba9f-7d22-4f7c-903f-2990f3b5ebad",
   "metadata": {},
   "source": [
    "<p style = 'font-size:18px;font-family:Arial;color:#E37C4D'> <b>Let's start by connecting to the Vantage system </b></p>\n",
    "<p style = 'font-size:16px;font-family:Arial'>You will be prompted to provide the password. Enter your password, press Enter, then use down arrow to go to next cell.</p>"
   ]
  },
  {
   "cell_type": "code",
   "execution_count": null,
   "id": "a8162484-25b9-4cfd-8165-3c8ec9ab7dd6",
   "metadata": {},
   "outputs": [],
   "source": [
    "%connect local, hidewarnings=true"
   ]
  },
  {
   "cell_type": "markdown",
   "id": "301a06b2-61de-462e-ab62-383d554e83bb",
   "metadata": {},
   "source": [
    "<p style = 'font-size:16px;font-family:Arial'>Setup for execution of notebook. Begin running steps with Shift + Enter keys.</p>"
   ]
  },
  {
   "cell_type": "code",
   "execution_count": null,
   "id": "0b5ab954-394f-485a-b445-0675e3ebee0c",
   "metadata": {},
   "outputs": [],
   "source": [
    "Set query_band='DEMO=DBQLUsage.ipynb;' update for session;"
   ]
  },
  {
   "cell_type": "markdown",
   "id": "1b501b1f-3327-4acc-b59e-a2ce39233856",
   "metadata": {},
   "source": [
    "<p style = 'font-size:20px;font-family:Arial;color:#E37C4D'><b>2. Session Details</b></p>\n",
    "<p style = 'font-size:18px;font-family:Arial'>First let us get the different sessions and Demos executed</p>\n"
   ]
  },
  {
   "cell_type": "code",
   "execution_count": null,
   "id": "47d879c3-ebd2-47c5-bac5-4ad659eb6bf6",
   "metadata": {},
   "outputs": [],
   "source": [
    "SELECT SessionNO,LogonPENO,LogonTime, l.UserName,queryband,\n",
    "SUBSTR(queryband,INDEX(queryband,'DEMO=')+5,INDEX(queryband,';')) as DemoName,  PEState, AMPState FROM TABLE ( syslib.monitorsession(-1,'*',0)) AS x \n",
    "\t\tinner join dbc.qrylog l ON Sessionid = SessionNO and queryband like '%DEMO=%' order by AMPState;"
   ]
  },
  {
   "cell_type": "markdown",
   "id": "c94f5bd4-db68-443e-affe-f4905a626c8f",
   "metadata": {},
   "source": [
    "<p style = 'font-size:18px;font-family:Arial'>From the above output please select a session for which we want to go ahead with the further analysis.</p>\n",
    "<br>\n",
    "<p style = 'font-size:20px;font-family:Arial;color:#E37C4D'><b>3. DBQL Log Table</b></p>\n",
    "<p style = 'font-size:16px;font-family:Arial'>Replace the <b>SessionIdParam</b> in the below query with the session we want to analyze further. </p>"
   ]
  },
  {
   "cell_type": "code",
   "execution_count": null,
   "id": "3aee1338-ef47-460d-9e69-8cbce10aa8ea",
   "metadata": {},
   "outputs": [],
   "source": [
    "select sessionid, queryband,starttime, querytext, NumSteps,AmpCPUTime, TotalIOCount,\n",
    "cast((firstresptime - starttime second(4)) as decimal(8,2)) as RunSecs from dbc.qrylog \n",
    "\t\twhere sessionid=2501 ---SessionIdParam \n",
    "    order by RunSecs DESC;"
   ]
  },
  {
   "cell_type": "markdown",
   "id": "77a20a0e-a021-4dcf-916c-bbef1e74de9d",
   "metadata": {},
   "source": [
    "<p style = 'font-size:18px;font-family:Arial'>The above output shows all queries executed in the Session you have selected. The first query is the query taking highest execution time and the last query is the query taking least time to execute.</p>\n",
    "<br>\n",
    "<p style = 'font-size:20px;font-family:Arial;color:#E37C4D'><b>3. NOS fields in DBQL log table</b></p>\n",
    "<p style = 'font-size:16px;font-family:Arial'>The dbc.qrylog view has many other columns which can be used for other Analysis. Like the NOS columns as shown in the query below.</p>\n",
    "<p style = 'font-size:16px;font-family:Arial'>Replace the <b>SessionIdParam</b> in the below query with the same sessionId we used in the above query. </p>"
   ]
  },
  {
   "cell_type": "code",
   "execution_count": null,
   "id": "c7d3a79b-3702-495b-bdd3-a6e390f675a8",
   "metadata": {},
   "outputs": [],
   "source": [
    "Select SessionId,starttime,NosRecordsSkipped,NosMaxIOWaitTime,NosRecordsReturnedKB,NosPhysReadIO,NosFilesSkipped,\n",
    "NosTables,NosTotalIOWaitTime,NosCPUTime,NosRecordsReturned,NosPhysReadIOKB,NosFiles from dbc.dbqlogtbl \n",
    "where sessionid=2501 ---SessionIdParam\n",
    "order by 2,1;"
   ]
  },
  {
   "cell_type": "markdown",
   "id": "8e9d074c-1695-440d-afa5-b898070a1449",
   "metadata": {},
   "source": [
    "<p style = 'font-size:18px;font-family:Arial'>The above output shows all queries executed in the Session using the NOS functionality. </p>\n",
    "<p style = 'font-size:20px;font-family:Arial;color:#E37C4D'><b>4. DBQL log table Details</b></p>\n",
    "<p style = 'font-size:16px;font-family:Arial'>The dbc.qrylog view is a view on the dbqlogtbl which has many different columns. Default rows are stored in the DBC.DBQLogTbl table, the foundation of the DBQL feature. The default is one default row per query.</p>\n",
    "\n",
    "<p style = 'font-size:16px;font-family:Arial'><b>The Default Row</b></p>\n",
    "<p style = 'font-size:16px;font-family:Arial'>The fields of the default row provide general query information that is usually adequate for investigating a query that is interfering with performance. When no options are specified, a default row includes:</p>\n",
    "\n",
    "<li style = 'font-size:16px;font-family:Arial'>User ID and user name under which the session being logged was initiated</li>\n",
    "<li style = 'font-size:16px;font-family:Arial'>Unique ID for the process, session, and host (client) connection</li>\n",
    "<li style = 'font-size:16px;font-family:Arial'>Account string, expanded as appropriate, that was current when the query completed</li>\n",
    "<li style = 'font-size:16px;font-family:Arial'>First 200 characters of the query SQL statement</li>\n",
    "<li style = 'font-size:16px;font-family:Arial'>CPU and I/O statistics</li>\n",
    "<li style = 'font-size:16px;font-family:Arial'>Default database name that was current when the query completed</li>\n",
    "</p>\n",
    "<p style = 'font-size:16px;font-family:Arial'>Please find the details of the columns in the DBQL table <a href = 'https://docs.teradata.com/r/Teradata-Database-Administration/April-2018/Tracking-Query-Behavior-with-Database-Query-Logging-Operational-DBAs/Main-Log-Table-DBQLogTbl'>here</a>. Execute the below query to check the column details from the DBQLogTbl</a></p>"
   ]
  },
  {
   "cell_type": "code",
   "execution_count": null,
   "id": "f26258b4-433e-4ace-b588-a8ab50fe4a21",
   "metadata": {},
   "outputs": [],
   "source": [
    "select ColumnName, ColumnFormat, ColumnType, ColumnLength from dbc.ColumnsV where tablename = 'DBQLogtbl' order by ColumnName"
   ]
  },
  {
   "cell_type": "markdown",
   "id": "b93d46d2-4ead-43da-9f38-01c85bd2c1ff",
   "metadata": {},
   "source": [
    "<p style = 'font-size:20px;font-family:Arial;color:#E37C4D'><b>5. Other DBQL tables</b></p>\n",
    "<p style = 'font-size:16px;font-family:Arial'>Apart from the DBQLogTbl there are other DBQL tables which can be used for complete analysis of the system. The DBQL tables are created in database DBC by the DIP utility during installation. For details, see “Database Initialization Program (DIP)” in Teradata Vantage™ - Database Utilities. The tables are empty until you run a BEGIN QUERY LOGGING or REPLACE QUERY LOGGING request with the required option, as shown in the following table.</p>"
   ]
  },
  {
   "cell_type": "markdown",
   "id": "e54139b1-97f6-474a-8e83-24b1eb8f82d4",
   "metadata": {},
   "source": [
    "<table style ='font-size:14px;font-family:Arial'> <tr><th>Dictionary Table</th>\n",
    "    <th>Purpose</th>\n",
    "    <th>Method Used To Populate</th>\n",
    "  </tr>\n",
    "  <tr>\n",
    "    <td>DBQLExplainTbl</td>\n",
    "    <td>Contains the explain information in an unformatted string without line breaks.</td>  \n",
    "    <td>The EXPLAIN option.</td>\n",
    "  </tr>\n",
    "  <tr>\n",
    "    <td>DBQLogTbl</td>\n",
    "    <td>Is the main table containing information about queries being logged.</td>  \n",
    "    <td>A BEGIN QUERY LOGGING or REPLACE QUERY LOGGING request. No option is required.</td>\n",
    "  </tr>\n",
    "  <tr>\n",
    "    <td>DBQLObjTbl</td>\n",
    "    <td>Stores information on the target objects of the query being logged. One row is logged for each object referenced by the query.</td>  \n",
    "    <td>The OBJECT option.</td>\n",
    "  </tr>\n",
    "  <tr>\n",
    "    <td>DBQLParamTbl</td>\n",
    "    <td>Logs the parameter variable name, type, position, and value for each parameter in a parameterized request. This table contains confidential user information and should only be accessed by personnel trusted with the DBC password.</td>  \n",
    "    <td>The PARAMINFO option.</td>\n",
    "  </tr>\n",
    "  <tr>\n",
    "    <td>DBQLRuleCountTbl</td>\n",
    "    <td>Stores the cardinality of DBQLRuleTbl (for internal use only).</td>  \n",
    "    <td>A BEGIN QUERY LOGGING request.</td>\n",
    "  </tr>  \n",
    "  <tr>\n",
    "    <td>DBQLRuleTbl</td>\n",
    "    <td>Stores the rules resulting from each BEGIN QUERY LOGGING or REPLACE QUERY statement.\n",
    "One row exists for each set of username, account string, and application name specified in the BEGIN QUERY LOGGING and REPLACE QUERY LOGGING statements.\n",
    "\n",
    "The END QUERY LOGGING statement removes rows from the rule table.\n",
    "\n",
    "This table is for internal use only.</td>  \n",
    "    <td>A BEGIN QUERY LOGGING or REPLACE QUERY LOGGING request.</td>\n",
    "  </tr>\n",
    "  <tr>\n",
    "    <td>DBQLSQLTbl</td>\n",
    "    <td>Stores the full SQL text of the query. One query string may require more than one row.</td>\n",
    "    <td>The WITH SQL option.</td>\n",
    "  </tr>\n",
    "  <tr>\n",
    "    <td>DBQLStepTbl</td>\n",
    "    <td>Stores information about each processing step used to satisfy the query. One row is logged for each step, including parallel steps.</td>  \n",
    "    <td>The WITH STEPINFO option.</td>\n",
    "  </tr> \n",
    "  <tr>\n",
    "    <td>DBQLSummaryTbl</td>\n",
    "    <td>Stores information about queries that meet the criteria for a rule specifying the LIMIT SUMMARY or LIMIT THRESHOLD option.</td>\n",
    "    <td>The LIMIT SUMMARY or LIMIT THRESHOLD option.</td>\n",
    "  </tr>\n",
    "  <tr>\n",
    "    <td>DBQLUtilityTbl</td>\n",
    "    <td>Each row stores information about one completed load/export or Data Stream Architecture job.</td>  \n",
    "    <td>The WITH UTILITYINFO option.</td>\n",
    "  </tr>\n",
    "  <tr>\n",
    "    <td>DBQLXMLLockTbl</td>\n",
    "    <td>Logs lock delays from the Lock Manager in the AMPs in XML format.</td>\n",
    "    <td>The WITH LOCK option.</td>\n",
    "  </tr>\n",
    "  <tr>\n",
    "    <td>DBQLXMLTbl</td>\n",
    "    <td>Stores the query plan for all DML statements and statistics usage information in an XML document.</td>  \n",
    "    <td>The WITH XMLPLAN option or the WITH [DETAILED] STATSUSAGE option. You can also specify these options together.</td>\n",
    "  </tr> \n",
    "</table>\n",
    "\n",
    "<p style = 'font-size:16px;font-family:Arial'>Please find the details of the DBQL tables <a href = 'https://docs.teradata.com/r/Teradata-VantageTM-Database-Administration/March-2019/Tracking-Query-Behavior-with-Database-Query-Logging-Operational-DBAs/DBQL-Tables'>here.</a></p>"
   ]
  },
  {
   "cell_type": "markdown",
   "id": "e6bdb6f7-93ea-46e2-b565-1d74baa4e7ad",
   "metadata": {},
   "source": [
    "<p style = 'font-size:20px;font-family:Arial;color:#E37C4D'><b>6. Check Query performance using DBQL log table</b></p>\n",
    "<p style = 'font-size:16px;font-family:Arial'>The DBQL table is used to check the performance of the queries. Let's check the queries from the session we are analyzing above.</p>"
   ]
  },
  {
   "cell_type": "code",
   "execution_count": null,
   "id": "b9e10571-9990-4699-945e-2c2d226ede61",
   "metadata": {},
   "outputs": [],
   "source": [
    "select sessionid, queryid, queryband,starttime, querytext, NumSteps,AmpCPUTime, TotalIOCount,\n",
    "cast((firstresptime - starttime second(4)) as decimal(8,2)) as RunSecs from dbc.qrylog \n",
    "where sessionid=2501 ---SessionIdParam \n",
    "order by Runsecs desc; "
   ]
  },
  {
   "cell_type": "markdown",
   "id": "55db30de-8e3d-4d48-a806-690d08ab26d0",
   "metadata": {
    "tags": []
   },
   "source": [
    "<p style = 'font-size:18px;font-family:Arial'>The above output shows all queries executed in the Session you have selected. The first query is the query taking highest execution time and the last query is the query taking least time to execute.</p>\n",
    "<br>\n",
    "<p style = 'font-size:20px;font-family:Arial;color:#E37C4D'><b>7. DBQL Step table usage</b></p>\n",
    "<p style = 'font-size:16px;font-family:Arial'>We will further continue the analysis by checking the step details of the longest running query by replacing the parameter <b>SampleQueryId</b> with the actual QueryId from the output above.</p>"
   ]
  },
  {
   "cell_type": "code",
   "execution_count": null,
   "id": "3934e21d-8144-4b44-9fd1-0c16e709fa73",
   "metadata": {},
   "outputs": [],
   "source": [
    "select\n",
    "ql.queryid, qls.StepStartTime,\n",
    "CAST( EXTRACT (SECOND FROM FirstRespTime) + (EXTRACT (MINUTE FROM FirstRespTime) * 60 ) + (EXTRACT (HOUR FROM FirstRespTime) *60*60 ) + (86400 * (CAST ( FirstRespTime AS DATE) - CAST ( starttime AS DATE) ) )\n",
    "- (EXTRACT (SECOND FROM starttime) + (EXTRACT (MINUTE FROM starttime) * 60 ) + (EXTRACT (HOUR FROM starttime) *60*60 ) ) AS INTEGER) QryRunSecs , \n",
    "CAST(ql.AmpCpuTime AS DECIMAL(18,3)) QryCpu , \n",
    "ql.totaliocount  QryIO,\n",
    "ql.spoolusage Qryspool,\n",
    "qls.StepLev1Num + .1 * qls.StepLev2Num (Decimal(4,1)) as sNum,\n",
    "qls.StepName as Stp,\n",
    "\n",
    "\n",
    "/* run time metrics */\n",
    "qls.EstProcTime,\n",
    "CAST( EXTRACT (SECOND FROM StepStopTime) + (EXTRACT (MINUTE FROM StepStopTime) * 60 ) + (EXTRACT (HOUR FROM StepStopTime) *60*60 ) + (86400 * (CAST ( StepStopTime AS DATE) - CAST ( StepStartTime AS DATE) ) )\n",
    "- (EXTRACT (SECOND FROM StepStartTime) + (EXTRACT (MINUTE FROM StepStartTime) * 60 ) + (EXTRACT (HOUR FROM StepStartTime) *60*60 ) ) AS INTEGER)  StepSecs,\n",
    "\n",
    "/* cpu metrics */\n",
    " ZEROIFNULL(CAST(qls.EstCPUCost AS DECIMAL(38,1)) ) EstCpu , \n",
    " CAST(qls.CPUTIME AS DECIMAL(38,1)) ActCpu,\n",
    "CAST( (qls.maxampcputime * qls.numofactiveamps) AS DECIMAL(38,1))  StepImpCpu , \n",
    "\n",
    "/* IO metrics */\n",
    "ZEROIFNULL(qls.EstIOCost) EstIO,\n",
    "qls.IOcount\n",
    ", qls.MaxAmpIO* qls.NumOfActiveAmps StepImpIO ,  \n",
    "\n",
    "/* PJI metrics */\n",
    "ZEROIFNULL(CAST ( qls.CPUTIME * 1000.0 / NULLIFZERO(qls.IOCOUNT ) AS DECIMAL(38,1) ) )StepPJI,\n",
    "\n",
    "/* Spool metrics */\n",
    "qls.SpoolUsage/1000000 StepSpool_M , \n",
    "qls.MaxAmpSpool * qls.NumOfActiveAmps / 1000000 StepImpSpoolMB , \n",
    "\n",
    "/* PE  metrics */\n",
    "ZEROIFNULL(ActCpu/NULLIFZERO(StepImpCpu)) StepPE,\n",
    "\n",
    "/* row estimates  */  \n",
    "qls.EstRowCount,\n",
    "qls.RowCount,\n",
    "qls.RowCount/nullifzero(qls.EstRowCount) as RowVsEst,\n",
    "qls.RowsWComprColumns/nullifzero(qls.RowCount) as CompPct,\n",
    "\n",
    "/* Skew metrics */\n",
    "(1- qls.CpuTime/ nullifzero(qls.NumOfActiveAmps*qls.maxampcputime)) * 100  as CpuSkewPct, \n",
    "(1- qls.IOCount/ nullifzero(qls.NumOfActiveAmps*qls.maxampio)) * 100  as IOSkewPct, \n",
    "(1-qls.spoolusage/nullifzero(qls.NumOfActiveAmps*qls.MaxAmpSpool)) * 100 as SpoolSkewPct,\n",
    "qls.numcombinedpartitions\n",
    "\n",
    "FROM dbc.dbqlogtbl ql\n",
    "INNER JOIN dbc.dbqlsteptbl qls\n",
    "ON  ql.queryid = qls.queryid\n",
    "AND ql.procid = qls.procid\n",
    "WHERE ql.queryid = 307191304473102746 ---SampleQueryId\n",
    "order by qls.queryid,sNum                ;"
   ]
  },
  {
   "cell_type": "markdown",
   "id": "b9e0136c-6be9-430f-98a8-c91815c9fdd7",
   "metadata": {
    "tags": []
   },
   "source": [
    "<p style = 'font-size:18px;font-family:Arial'>The above output shows all the steps for the query we are analyzing. Further to check the details of each step we can check the explain plan of the query using the DBQLExplainTbl as shown in the query below .</p>\n",
    "<br>\n",
    "<p style = 'font-size:20px;font-family:Arial;color:#E37C4D'><b>8. DBQL Explain table usage</b></p>\n",
    "<p style = 'font-size:16px;font-family:Arial'>Run the below query by replacing the parameter <b>SampleQueryId</b> with the actual QueryId from the output above.</p>"
   ]
  },
  {
   "cell_type": "code",
   "execution_count": null,
   "id": "d3a524cc-c2cd-41be-8d5e-a3b744862a84",
   "metadata": {},
   "outputs": [],
   "source": [
    "Select QueryId, ExplainText from dbc.dbqlexplaintbl where queryid = 307191304473102746 ---SampleQueryId\n",
    ";"
   ]
  },
  {
   "cell_type": "markdown",
   "id": "53cf267d-ac3c-4be6-b91f-2d60897a4505",
   "metadata": {
    "tags": []
   },
   "source": [
    "<p style = 'font-size:18px;font-family:Arial'>Double Click on the cell showing the Explain Text to check the complete Explain Plan of the Query.</p>\n",
    "<br>\n",
    "<p style = 'font-size:20px;font-family:Arial;color:#E37C4D'><b>9. Information on other DBQL Tables and other Documentation Links</b></p>\n",
    "<p style = 'font-size:16px;font-family:Arial'>Apart from these main tables like the DBQL log, Step and Explain tables, other DBQL tables can also be used similarly to check the overall performance of the system. Click <a href = 'https://docs.teradata.com/r/Teradata-VantageTM-Database-Administration/March-2019/Tracking-Query-Behavior-with-Database-Query-Logging-Operational-DBAs/DBQL-Tables'>here</a> for additional Information on different DBQL Tables,</p>\n",
    "    \n",
    "<p style = 'font-size:16px;font-family:Arial'>Below are some links for the documents</p>\n",
    "\n",
    "<table style ='font-size:14px;font-family:Arial'> \n",
    "  <tr>\n",
    "    <th>Link</th>\n",
    "    <th>Description</th>\n",
    "    \n",
    "  </tr>\n",
    "  <tr>\n",
    "    <td><a href = 'https://docs.teradata.com/'>TD Docs (HTML)</a></td>\n",
    "    <td>Teradata documentation (HTML).</td>  \n",
    "    \n",
    "  </tr>\n",
    "  <tr>\n",
    "    <td><a href = 'http://www.info.teradata.com'>TD Docs (PDF)</a></td>\n",
    "    <td>Teradata documentation (HTML).</td>  \n",
    "    \n",
    "  </tr>\n",
    "  <tr>\n",
    "    <td><a href = 'https://access.teradata.com'>TD Docs One Stop Source</a></td>\n",
    "    <td>One stop source for Teradata community, product information, and software downloads.\n",
    "Log in for customer access to:\n",
    "        Support\n",
    "        Software updates\n",
    "        Knowledge articles\n",
    "        Orange Books</td>  \n",
    "    \n",
    "  </tr>\n",
    "  <tr>\n",
    "    <td><a href = 'http://www.teradata.com/products-and-services/TEN'>TEN</a></td>\n",
    "    <td>Teradata education network.</td>  \n",
    "    \n",
    "  </tr>\n",
    "  <tr>\n",
    "    <td><a href = 'https://community.teradata.com'>Teradata Community</a></td>\n",
    "    <td>Link to Teradata community (also available from the customer portal).</td>  \n",
    "    \n",
    "  </tr>  \n",
    "</table>\n"
   ]
  },
  {
   "cell_type": "markdown",
   "id": "2f9af722-8902-4ff4-8a0c-47de1b0d9b53",
   "metadata": {},
   "source": [
    "<footer style=\"padding:10px;background:#f9f9f9;border-bottom:3px solid #394851\">©2023 Teradata. All Rights Reserved</footer>"
   ]
  }
 ],
 "metadata": {
  "kernelspec": {
   "display_name": "Teradata SQL",
   "language": "Teradata SQL",
   "name": "teradatasql"
  },
  "language_info": {
   "codemirror_mode": "Teradata SQL",
   "file_extension": ".tdrs",
   "mimetype": "application/vnd.teradata.resultset",
   "name": "Teradata SQL",
   "nbconvert_exporter": "",
   "pygments_lexer": "",
   "version": "16.20"
  }
 },
 "nbformat": 4,
 "nbformat_minor": 5
}
