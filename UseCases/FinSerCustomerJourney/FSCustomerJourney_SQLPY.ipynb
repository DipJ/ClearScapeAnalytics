{
 "cells": [
  {
   "cell_type": "markdown",
   "metadata": {},
   "source": [
    "<header style=\"padding:1px;background:#f9f9f9;border-top:3px solid #00b2b1\"><img id=\"Teradata-logo\" src=\"https://www.teradata.com/Teradata/Images/Rebrand/Teradata_logo-two_color.png\" alt=\"Teradata\" width=\"220\" align=\"right\" />\n",
    "\n",
    "<b style = 'font-size:28px;font-family:Arial;color:#E37C4D'>Financial Services Customer Journey</b>\n",
    "</header>    \n"
   ]
  },
  {
   "cell_type": "markdown",
   "metadata": {},
   "source": [
    "<p style = 'font-size:20px;font-family:Arial;color:#E37C4D'><b>Introduction </b></p>\n",
    "\n",
    "<p style = 'font-size:16px;font-family:Arial'>In this use case we will show several different analytic techniques to analyze various aspects of a customer journey using Vantage. Specifically we will use the Attribution and nPath functions.<p>\n",
    "\n",
    "<p style = 'font-size:16px;font-family:Arial'>Here is an overview of the scenario we will be covering: </p>\n",
    "\n",
    "<p style = 'font-size:16px;font-family:Arial'>We want to look at the important interactions customers have with a retail bank. We would like to show how we can use Vantage to discover new insights across various steps in a customer journey.</p>\n",
    "\n",
    "<p style = 'font-size:16px;font-family:Arial'>Starting with <b>customer acquisition</b>, how do we:</p>\n",
    "<ol style = 'font-size:16px;font-family:Arial'>\n",
    "    <li>Find new customers</li>\n",
    "    <li>Measure marketing attribution</li>\n",
    "<li>How can we increase ROI and maximize marketing effectiveness, minimize the time to conversion?</li>\n",
    "</ol>\n",
    "<p style = 'font-size:16px;font-family:Arial'>Next we will look at <b>customer adoption</b>:</p>\n",
    "<p style = 'font-size:16px;font-family:Arial'>\n",
    "What leads customers to additional high end products such as wealth management accounts?\n",
    "    </p>\n",
    "<p style = 'font-size:16px;font-family:Arial'>Customers interact with the bank in many ways both online and offline\n",
    "There are many different data sources such as in-branch interactions with tellers, online banking, email, call center logs etc. It is necessary to look at <b>all</b> of them to see the full picture.</p>\n",
    "\n",
    "<p style = 'font-size:16px;font-family:Arial'>Vantage is very adept at aggregating data sources, it has built in connectivity to various cloud object stores as well as QueryGrid connectors directly to Hadoop, Oracle and more.\n",
    "We will be using a dataset aggregated from all of these channels. Other demos cover the integration and aggregation steps, but this is out of scope in our case.</p>\n",
    "\n",
    "<p style = 'font-size:16px;font-family:Arial'>We will see later that the insights we find are coming from these various channels both online AND offline.</p>"
   ]
  },
  {
   "cell_type": "markdown",
   "metadata": {},
   "source": [
    "<p style = 'font-size:20px;font-family:Arial;color:#E37C4D'> <b>1. Connect to Vantage </b></p>\n",
    "<p style = 'font-size:16px;font-family:Arial'>You will be prompted to provide the password. Enter your password, press Enter, then use down arrow to go to next cell.</p>"
   ]
  },
  {
   "cell_type": "code",
   "execution_count": null,
   "metadata": {},
   "outputs": [],
   "source": [
    "%%capture\n",
    "!pip install tdnpathviz"
   ]
  },
  {
   "cell_type": "markdown",
   "metadata": {},
   "source": [
    "<p style = 'font-size:16px;font-family:Arial'><b>Please make sure to restart the kernel after executing above line. </b></p>\n",
    "<p style = 'font-size:16px;font-family:Arial'>Import the libraries mentioned in the below cell.</p>"
   ]
  },
  {
   "cell_type": "code",
   "execution_count": null,
   "metadata": {},
   "outputs": [],
   "source": [
    "import time\n",
    "from teradataml import * \n",
    "import getpass\n",
    "import warnings\n",
    "warnings.filterwarnings('ignore')\n",
    "import matplotlib.pyplot as plt\n",
    "import seaborn as sns\n",
    "display.max_rows = 5"
   ]
  },
  {
   "cell_type": "markdown",
   "metadata": {},
   "source": [
    "<p style = 'font-size:16px;font-family:Arial'>You will be prompted to provide the password. Enter your password, press the Enter key, then use down arrow to go to next cell. Begin running steps with Shift + Enter keys.</p>"
   ]
  },
  {
   "cell_type": "code",
   "execution_count": null,
   "metadata": {},
   "outputs": [],
   "source": [
    "%run -i ../startup.ipynb\n",
    "eng = create_context(host = 'host.docker.internal', username='demo_user', password = password)\n",
    "print(eng)\n",
    "eng.execute('''SET query_band='DEMO=FSCustomerJourney_SQLPY.ipynb;' UPDATE FOR SESSION; ''')"
   ]
  },
  {
   "cell_type": "markdown",
   "metadata": {},
   "source": [
    "<hr>\n",
    "<p style = 'font-size:20px;font-family:Arial;color:#E37C4D'><b>2. Getting Data for This Demo</b></p>\n",
    "<p style = 'font-size:16px;font-family:Arial'>We have provided data for this demo on cloud storage.  You have the option of either running the demo using foreign tables to access the data without using any storage on your environment or downloading the data to local storage which may yield somewhat faster execution, but there could be considerations of available storage.  There are two statements in the following cell, and one is commented out.  You may switch which mode you choose by changing the comment string. \n"
   ]
  },
  {
   "cell_type": "code",
   "execution_count": null,
   "metadata": {},
   "outputs": [],
   "source": [
    "%run -i ../run_procedure.py \"call get_data('DEMO_Financial_cloud');\"\n",
    " # Takes about 35 seconds\n",
    "#%run -i ../run_procedure.py \"call get_data('DEMO_Financial_local');\"\n",
    " # Takes about 100 seconds"
   ]
  },
  {
   "cell_type": "markdown",
   "metadata": {},
   "source": [
    "<p style = 'font-size:16px;font-family:Arial'>Optional step – if you want to see status of databases/tables created and space used.</p>\n"
   ]
  },
  {
   "cell_type": "code",
   "execution_count": null,
   "metadata": {},
   "outputs": [],
   "source": [
    "%run -i ../run_procedure.py \"call space_report();\""
   ]
  },
  {
   "cell_type": "markdown",
   "metadata": {},
   "source": [
    "<hr>\n",
    "<p style = 'font-size:20px;font-family:Arial;color:#E37C4D'><b>3. Data Exploration.</b></p>\n",
    "<p style = 'font-size:16px;font-family:Arial'>Let's start by looking at the raw data and other details of the dataset.</p>\n",
    "<p style = 'font-size:16px;font-family:Arial'><b><i>*Please scroll down to the end of the notebook for detailed column descriptions of the dataset.</i></b></p>"
   ]
  },
  {
   "cell_type": "code",
   "execution_count": null,
   "metadata": {},
   "outputs": [],
   "source": [
    "Custdf = DataFrame(in_schema('DEMO_Financial', 'Customer_journey'))\n",
    "Custdf"
   ]
  },
  {
   "cell_type": "code",
   "execution_count": null,
   "metadata": {},
   "outputs": [],
   "source": [
    "Custdf.shape"
   ]
  },
  {
   "cell_type": "code",
   "execution_count": null,
   "metadata": {},
   "outputs": [],
   "source": [
    "Custdf.info()"
   ]
  },
  {
   "cell_type": "markdown",
   "metadata": {},
   "source": [
    "<hr>\n",
    "<p style = 'font-size:20px;font-family:Arial;color:#E37C4D'><b>4. Customer Acquisition</b></p>\n",
    "\n",
    "<p style = 'font-size:16px;font-family:Arial'>This is the first part of our journey. We will focus on the opening of a credit card account. We want to figure out where our customers are coming from and how can we maximize our marketing return on investment (ROI)?\n",
    "Attribution modeling describes various methods marketers use to properly break up and assign conversion credits to various different channels in case users take multiple website visits, via multiple channels, to arrive at the ultimate conversion behavior. We will use the powerful marketing Attribution function in Vantage to look at the multi-channel data.</p>\n",
    "\n",
    "<p style = 'font-size:16px;font-family:Arial'>This will allow us to quantify marketing effectiveness of both our promotions and channels (online and offline). Which promotions are most effective? Using this information we can then optimize marketing spend and placement.</p>"
   ]
  },
  {
   "cell_type": "markdown",
   "metadata": {},
   "source": [
    "<p style = 'font-size:16px;font-family:Arial'>We will create some tables that allow us to send large numbers of parameters programmatically to the Attribution analytic function.</p>"
   ]
  },
  {
   "cell_type": "code",
   "execution_count": null,
   "metadata": {},
   "outputs": [],
   "source": [
    "qry = '''CREATE TABLE FSCJ_conversion_events\n",
    "   (conversion_event   VARCHAR(55))\n",
    "NO PRIMARY INDEX;'''\n",
    "\n",
    "\n",
    "try:\n",
    "    eng.execute(qry)\n",
    "except:\n",
    "    eng.execute('DROP TABLE FSCJ_conversion_events;')\n",
    "    eng.execute(qry)"
   ]
  },
  {
   "cell_type": "markdown",
   "metadata": {},
   "source": [
    "<p style = 'font-size:16px;font-family:Arial'>We want to find when people have booked accounts both online and offline and use that as our success criteria: </p>"
   ]
  },
  {
   "cell_type": "code",
   "execution_count": null,
   "metadata": {},
   "outputs": [],
   "source": [
    "qry = '''INSERT INTO FSCJ_conversion_events VALUES('ACCOUNT_BOOKED_ONLINE');\n",
    "INSERT INTO FSCJ_conversion_events VALUES('ACCOUNT_BOOKED_OFFLINE');'''\n",
    "\n",
    "eng.execute(qry)"
   ]
  },
  {
   "cell_type": "markdown",
   "metadata": {},
   "source": [
    "<p style = 'font-size:16px;font-family:Arial'>Vantage allows us to specify what type of attribution models we would like to apply. In this case we will keep it simple and choose a basic 'UNIFORM' strategy.</p>\n",
    "\n",
    "<p style = 'font-size:16px;font-family:Arial'>UNIFORM or Linear attribution provides a look at your marketing strategy as a whole.This model is especially useful if you need to maintain awareness throughout the entire journey of the customer. Credit for conversion is split evenly among all the channels a customer interacts with i.e each point in the conversion path will share equal credit.</p>"
   ]
  },
  {
   "cell_type": "code",
   "execution_count": null,
   "metadata": {},
   "outputs": [],
   "source": [
    "qry = '''CREATE TABLE FSCJ_attribution_model\n",
    "   (id    INTEGER,\n",
    "    model VARCHAR(100))\n",
    "NO PRIMARY INDEX;'''\n",
    "\n",
    "try:\n",
    "    eng.execute(qry)\n",
    "except:\n",
    "    eng.execute('DROP TABLE FSCJ_attribution_model;')\n",
    "    eng.execute(qry)"
   ]
  },
  {
   "cell_type": "code",
   "execution_count": null,
   "metadata": {},
   "outputs": [],
   "source": [
    "qry = '''INSERT INTO FSCJ_attribution_model VALUES(0, 'SIMPLE');\n",
    "INSERT INTO FSCJ_attribution_model VALUES(1, 'UNIFORM:NA');'''\n",
    "\n",
    "eng.execute(qry)"
   ]
  },
  {
   "cell_type": "markdown",
   "metadata": {},
   "source": [
    "<p style = 'font-size:16px;font-family:Arial'>Now we are ready to invoke the Attribution function on our dataset. The dataset has all kinds of cross channel customer interactions we can analyse.</p>"
   ]
  },
  {
   "cell_type": "code",
   "execution_count": null,
   "metadata": {},
   "outputs": [],
   "source": [
    "qry = '''CREATE TABLE FSCJ_marketing_attribution AS (\n",
    "    SELECT * FROM Attribution (\n",
    "                ON (\n",
    "          SELECT\n",
    "                customer_identifier, interaction_timestamp, \n",
    "                TRANSLATE(interaction_type USING UNICODE_TO_LATIN) AS interaction_type, customer_days_active, \n",
    "                customer_type, marketing_placement, marketing_description, marketing_category,\n",
    "                interaction_type || product_category AS interaction_product\n",
    "            FROM DEMO_Financial.Customer_Journey\n",
    "            WHERE\n",
    "                interaction_type IN ('ACCOUNT_BOOKED_OFFLINE','ACCOUNT_BOOKED_ONLINE','CLICK','REFERRAL','BROWSE')\n",
    "                AND product_category <> '-1'\n",
    "        ) \n",
    "        PARTITION BY customer_identifier\n",
    "        ORDER BY interaction_timestamp\n",
    "        ON FSCJ_conversion_events AS ConversionEventTable DIMENSION\n",
    "        ON FSCJ_attribution_model AS FirstModel DIMENSION\n",
    "\t\tUSING\n",
    "        EventColumn ('interaction_type')\n",
    "        TimestampColumn ('interaction_timestamp')\n",
    "        WindowSize('rows:10')\n",
    "    ) as attrib)\n",
    "    WITH DATA;'''\n",
    "\n",
    "try:\n",
    "    eng.execute(qry)\n",
    "except:\n",
    "    eng.execute('DROP TABLE FSCJ_marketing_attribution;')\n",
    "    eng.execute(qry)\n"
   ]
  },
  {
   "cell_type": "markdown",
   "metadata": {},
   "source": [
    "<p style = 'font-size:16px;font-family:Arial'>Marketing attribution aims to identify the events leading to the opening of a credit card account and assign value to them. The specific conversion events in the data are 'ACCOUNT_BOOKED_ONLINE', 'ACCOUNT_BOOKED_OFFLINE'. Thus calculating the most influential events and channels that are driving customer acquisition. The attribution function in Vantage supports a variety of standard attribution models. Using Vantage we can quickly see how changes to the attribution model/parameters will affect our analyses!</p>\n",
    "\n",
    "<p style = 'font-size:16px;font-family:Arial'>Now let's get some summary statistics from the results:</p>"
   ]
  },
  {
   "cell_type": "code",
   "execution_count": null,
   "metadata": {},
   "outputs": [],
   "source": [
    "query1='''SELECT marketing_description, AVG(attribution) AS avg_attrib, SUM(attribution) AS sum_attrib, \n",
    "AVG(-time_to_conversion)/3600 AS time_to_conversion FROM FSCJ_marketing_attribution \n",
    "WHERE marketing_description like ('%PROMOTION%')---NOT IN('-1') \n",
    "GROUP BY marketing_description;'''\n",
    "\n",
    "AvgAttrdf=DataFrame.from_query(query1)"
   ]
  },
  {
   "cell_type": "code",
   "execution_count": null,
   "metadata": {},
   "outputs": [],
   "source": [
    "AvgAttrdf_plot=AvgAttrdf.to_pandas()\n",
    "AvgAttrdf_plot"
   ]
  },
  {
   "cell_type": "code",
   "execution_count": null,
   "metadata": {},
   "outputs": [],
   "source": [
    "fig, ax = plt.subplots(1,1,figsize=(17,7))\n",
    "ax=sns.barplot(data=AvgAttrdf_plot, x=\"avg_attrib\", y=\"MARKETING_DESCRIPTION\")\n",
    "ax.set_title('Average Attribution by Type of Promotion')\n",
    "ax.set_xlabel('Average Attribution')\n",
    "ax.set_ylabel('Marketing Description')\n",
    "plt.show()"
   ]
  },
  {
   "cell_type": "markdown",
   "metadata": {},
   "source": [
    "<p style = 'font-size:16px;font-family:Arial'>The above visualization is centered around the various promotions we have run. The larger the bar the more influence they had towards a customer opening an account. </p>\n",
    "<p style = 'font-size:16px;font-family:Arial'> The Average attribution is the percentage for each type of promotion and will always sum upto 100% for all exevts.</p> \n"
   ]
  },
  {
   "cell_type": "code",
   "execution_count": null,
   "metadata": {},
   "outputs": [],
   "source": [
    "fig, ax = plt.subplots(1,1,figsize=(17,7))\n",
    "ax=sns.barplot(data=AvgAttrdf_plot, x=\"sum_attrib\", y=\"MARKETING_DESCRIPTION\")\n",
    "ax.set_title('Total Attribution by Type of Promotion')\n",
    "ax.set_xlabel('Total Attribution')\n",
    "ax.set_ylabel('Marketting Description')\n",
    "plt.show()"
   ]
  },
  {
   "cell_type": "markdown",
   "metadata": {},
   "source": [
    "<p style = 'font-size:16px;font-family:Arial'>The chart above shows the total attribution score the promotion had. So, the biggest drivers of signups will be the longest. Here the OTHER PROMOTIONS followed by REWARDS CARD PROMOTION and then AIRLINE CARD PROMOTION. The total attribution is the score that was given to each type of promotion.</p>\n",
    "\n"
   ]
  },
  {
   "cell_type": "code",
   "execution_count": null,
   "metadata": {},
   "outputs": [],
   "source": [
    "fig, ax = plt.subplots(1,1,figsize=(17,7))\n",
    "ax=sns.barplot(data=AvgAttrdf_plot, x=\"time_to_conversion\", y=\"MARKETING_DESCRIPTION\")\n",
    "ax.set_title('Time to Conversion')\n",
    "ax.set_xlabel('Time')\n",
    "ax.set_ylabel('Marketting Description')\n",
    "plt.show()"
   ]
  },
  {
   "cell_type": "markdown",
   "metadata": {},
   "source": [
    "<p style = 'font-size:16px;font-family:Arial'>The above chart shows time to conversion, so how many hours on average that promotion took place before the user went ahead and signed up. The shorter time - the faster people took action. We can see that the Gold Card Promotion II did overall the best, followed by the Hotel card and MoneySupermarket.com promotions.  </p>"
   ]
  },
  {
   "cell_type": "markdown",
   "metadata": {},
   "source": [
    "<p style = 'font-size:20px;font-family:Arial;color:#E37C4D'><b>5. Channel analysis</b></p>\n",
    "\n",
    "\n",
    "<p style = 'font-size:16px;font-family:Arial'>We have different promotions and advertising networks, now let's take a look at the traction we are getting with the various promotions across different channels:</p>"
   ]
  },
  {
   "cell_type": "code",
   "execution_count": null,
   "metadata": {},
   "outputs": [],
   "source": [
    "query2='''SELECT marketing_category, marketing_placement, SUM(attribution) AS total_attribution \n",
    "FROM FSCJ_marketing_attribution \n",
    "WHERE marketing_description  like ('%PROMOTION%')\n",
    "GROUP BY 1, 2;'''\n",
    "\n",
    "MarketAttrdf=DataFrame.from_query(query2)"
   ]
  },
  {
   "cell_type": "code",
   "execution_count": null,
   "metadata": {},
   "outputs": [],
   "source": [
    "MarketAttrdf_plot=MarketAttrdf.to_pandas()\n",
    "MarketAttrdf_plot"
   ]
  },
  {
   "cell_type": "code",
   "execution_count": null,
   "metadata": {},
   "outputs": [],
   "source": [
    "fig, ax = plt.subplots(1,1,figsize=(17,7))\n",
    "ax=sns.barplot(data=MarketAttrdf_plot, x=\"total_attribution\", y=\"MARKETING_PLACEMENT\",ci=None)\n",
    "ax.set_title('Channel Performance')\n",
    "ax.set_ylabel('Marketing Channel')\n",
    "ax.set_xlabel('Total Attribution')\n",
    "# plt.figure(figsize=(8,6))\n",
    "plt.show()"
   ]
  },
  {
   "cell_type": "markdown",
   "metadata": {},
   "source": [
    "<p style = 'font-size:16px;font-family:Arial'>In the above chart we can see that the HOMEPAGE BANNER has resulted into maximum attribution and is the most effective.</p>\n",
    "\n",
    "<p style = 'font-size:16px;font-family:Arial'>The next visual is centered around the various channels where we ran our marketing. The length of the bar shows the overall total attribution to that channel. The colors correspond to the promotions that we looked at in the top view, so we can see which promotions were on which channels and the performance of each. In the data resultset you can see that there is email, in branch (offline) as well as web. </p>\n",
    "\n",
    "<p style = 'font-size:16px;font-family:Arial'>For the digital channels - overall we can see that the homepage ads did the best followed by email and Google searches. </p>\n",
    "\n",
    "<p style = 'font-size:16px;font-family:Arial'>The Top chart shows the Average Attributions for various kinds of promotions. The size of the circle increases with the value of Average Attribution. The biggest drivers are the promotions that have the largest circle size. </p>\n",
    "\n",
    "\n",
    "<p style = 'font-size:14px;font-family:Arial'><i>**When we hover the mouse over the circle we can see the type of promotion along with the values of attribution.<i></p>\n",
    "\n"
   ]
  },
  {
   "cell_type": "code",
   "execution_count": null,
   "metadata": {
    "tags": []
   },
   "outputs": [],
   "source": [
    "import plotly.express as px\n",
    "ax=px.scatter(AvgAttrdf_plot, x=\"avg_attrib\", y=\"time_to_conversion\",\n",
    "              size=\"avg_attrib\",size_max = 70,color=\"MARKETING_DESCRIPTION\",hover_data=['MARKETING_DESCRIPTION'],\n",
    "              width=900, height=400, \n",
    "             labels={\n",
    "                     \"avg_attrib\": \"Average  Attribution\",\n",
    "                     \"time_to_conversion\": \"Time to Conversion\"\n",
    "                      })\n",
    "ax.update_layout(showlegend=False)\n",
    "ax.update_layout(title_text='Channel Performance', title_x=0.5)\n",
    "ax.show()"
   ]
  },
  {
   "cell_type": "markdown",
   "metadata": {},
   "source": [
    "\n",
    "<p style = 'font-size:16px;font-family:Arial'>The chart below with vertical lines shows the various channels and the colours of the bars indicate the type of promotion. Larger the size of the coloured bar , more the contribution of that promotion using the specified channel. </p>\n"
   ]
  },
  {
   "cell_type": "code",
   "execution_count": null,
   "metadata": {},
   "outputs": [],
   "source": [
    "import plotly.express as px\n",
    "fig = px.bar(MarketAttrdf_plot, y=\"total_attribution\", x=\"MARKETING_CATEGORY\", \n",
    "             color='MARKETING_PLACEMENT', orientation='v',\n",
    "             height=600,width=900,\n",
    "             title='Attribution Summary')\n",
    "fig.update_layout(title_text='Attribution Summary', title_x=0.5)\n",
    "fig.update_xaxes(title='Marketing Category',tickangle=-45)\n",
    "fig.update_yaxes(title='Total Attribution')\n",
    "fig.update_traces(width=0.5)\n",
    "fig.show()"
   ]
  },
  {
   "cell_type": "markdown",
   "metadata": {},
   "source": [
    "<p style = 'font-size:16px;font-family:Arial'>Now we can see the promotions and their success across the various channels. We can see an interesting insight that the Money Supermarket promotion and the Gold Card Promotion II were our most effective promotions. It is interesting to compare Gold Card II to the first Gold Card Promotion. Looking down at our channels we can see that the first Gold Card promotion was only run over email and the Gold Card Promotion II was run on multiple channels and it was a lot more effective for the same exact product. </p>\n",
    "\n",
    "<p style = 'font-size:16px;font-family:Arial'>Using this dashboard and the power of Vantage can easily compare the different promotions and we can also see that we did a special promotion on MoneySupermarket.com that was particularly effective. This was only run on that particular channel and had both a quick time to conversion as well as strong average attribution.</p>\n",
    "\n",
    "<p style = 'font-size:16px;font-family:Arial'>We can also look at some other ones. We can see that we did a Rewards Card promotion that did well across channels but was particularly effective through in branch referrals. The airline card promotion did the best on the homepage and Google vs. the other channels.</p>"
   ]
  },
  {
   "cell_type": "markdown",
   "metadata": {},
   "source": [
    "<b style = 'font-size:20px;font-family:Arial;color:#E37C4D'>6. Path To Adoption</b>\n",
    "\n",
    "<p style = 'font-size:16px;font-family:Arial'>We want to see how our customers are opening higher end accounts such as wealth management. Many retail banks have found wealth management to be a key profit center so they are looking to build their business in this area.</p>\n",
    "<p style = 'font-size:16px;font-family:Arial'>Pathing is the process of discovering a sequence of antecedent actions that occur prior to a specific event of interest on sessionized data. Pathing discovers the most salient patterns across a group of individuals or entities based on which further actions are considered. Pathing allows you to provide an explanation of the relation and the relative importance of each factor.</p>\n",
    "\n",
    "<p style = 'font-size:16px;font-family:Arial'>The `NPATH` function provides a flexible pattern-matching capability that lets you specify complex patterns in the input data and define the values that are output for each matched input set. So we can use powerful nPath analytic function in Vantage to do pattern/time series analysis that is very hard to do in simple SQL. We want to see the common paths that customers take when they go to open a wealth management account. We will also look at the affiliation between the other accounts that wealth management customers hold. </p>\n",
    "\n",
    "<p style = 'font-size:16px;font-family:Arial'>In the code here you can see a few key points:</p>\n",
    "<li style = 'font-size:16px;font-family:Arial'>We are concatenating the interaction and the product category to make unique events </li>\n",
    "<li style = 'font-size:16px;font-family:Arial'>We are ignoring the starting / completing of the wealth management application because everyone does that by definition and in this case we want to reduce the noise. Further analysis could be done later on incomplete applications or other scenarios.</li>\n",
    "<li style = 'font-size:16px;font-family:Arial'>The __'PATTERN'__ we are searching for is 4 events followed by opening (ACCOUNT_BOOKED) a Wealth Management account.</li>\n",
    "<li style = 'font-size:16px;font-family:Arial'>The __'SYMBOLS'__ we are using is anything but opening a wealth management account is 'EVENT' and opening said account is 'ADOPTION' </li>\n",
    "</p>\n",
    "<br>\n",
    "<p style = 'font-size:16px;font-family:Arial'><b>**The below nPath query may take around 25-30 seconds as it creates path for all customers. Each visualization of the nPath output which is a Sankey chart takes around 40-50 seconds to create the chart.</b></p>"
   ]
  },
  {
   "cell_type": "code",
   "execution_count": null,
   "metadata": {},
   "outputs": [],
   "source": [
    "query3='''\n",
    "\t    SELECT * FROM nPath (\n",
    "        ON (\n",
    "\t    SELECT customer_identifier, interaction_timestamp, interaction_type, product_category, interaction_type || '_' || product_category AS event, \n",
    "                marketing_category, marketing_description, marketing_placement, sales_channel, \n",
    "                conversion_sales, conversion_cost, conversion_margin\n",
    "            FROM DEMO_Financial.Customer_Journey\n",
    "            WHERE\n",
    "                product_category <> '-1'\n",
    "                AND interaction_type || '_' || product_category <> 'STARTS_APPLICATION_WEALTH MANAGEMENT'\n",
    "                AND interaction_type || '_' || product_category <> 'COMPLETE_APPLICATION_WEALTH MANAGEMENT'\n",
    "        )\n",
    "        PARTITION BY customer_identifier\n",
    "        ORDER BY interaction_timestamp\n",
    "        USING\n",
    "        MODE (NONOVERLAPPING)\n",
    "        -- Limit to a depth of 4\n",
    "        PATTERN ('(EVENT){4}.ADOPTION')\n",
    "        SYMBOLS (\n",
    "            event NOT LIKE 'ACCOUNT_BOOKED%_WEALTH MANAGEMENT' AS EVENT,\n",
    "            event LIKE 'ACCOUNT_BOOKED%' AND product_category = 'WEALTH MANAGEMENT' AS ADOPTION\n",
    "        )\n",
    "        RESULT (\n",
    "            ACCUMULATE( event OF ANY(EVENT,ADOPTION) )  AS interaction_type_list,\n",
    "            COUNT( event OF ANY(EVENT,ADOPTION) )       AS click_depth,\n",
    "\n",
    "            FIRST( customer_identifier of ADOPTION )  AS customer_identifier,\n",
    "            FIRST( product_category OF ADOPTION )     AS product_category\n",
    "        )\n",
    "    ) a;'''\n",
    "\n",
    "nPathdf=DataFrame.from_query(query3)\n",
    "nPathdf"
   ]
  },
  {
   "cell_type": "markdown",
   "metadata": {},
   "source": [
    "<p style = 'font-size:18px;font-family:Arial;'>A visualization of this gives us lots of insight into the most common paths that users are taking when opening Wealth Management accounts. A Sankey Diagram was created using the output(interacion_type_list) of the nPath function used in the query above.</p>\n"
   ]
  },
  {
   "cell_type": "code",
   "execution_count": null,
   "metadata": {
    "tags": []
   },
   "outputs": [],
   "source": [
    "from tdnpathviz.visualizations import plot_first_main_paths"
   ]
  },
  {
   "cell_type": "code",
   "execution_count": null,
   "metadata": {},
   "outputs": [],
   "source": [
    "%%time\n",
    "plot_first_main_paths(nPathdf,path_column='interaction_type_list',id_column='customer_identifier')"
   ]
  },
  {
   "cell_type": "markdown",
   "metadata": {},
   "source": [
    "<p style = 'font-size:16px;font-family:Arial'>To check the details of any path or node we can move the mouse pointer over it and check details. For example if you move the pointer over the dark Green path having the largest width at the TOP going towards the right most node(Compare Wealth Management) it shows count of <b>40. </b> Which means there are 40 customers who followed that path starting from Complete Application CD ---> Account booked Online CD ---> Browse Wealth Management CD ---> Compare Wealth Management CD.</p>\n",
    "\n",
    "<p style = 'font-size:16px;font-family:Arial'>When the pointer is moved over a Node, for example when the pointer is on the long purple Node at the right top <b>Browse Wealth Management </b>  it shows <b>incoming flow count: 6 and outgoing flow count: 6</b> which means that there are 6 different events which lead to Browse Wealth Management and there are 6 different event which different customers do after browse wealth mangement event. Similarly other nodes and paths can be analyzed.</p>\n",
    "\n",
    "<p style = 'font-size:16px;font-family:Arial;'>We can filter it down to the most popular paths: We will group the paths and get the number of customers for each path.</p>\n"
   ]
  },
  {
   "cell_type": "code",
   "execution_count": null,
   "metadata": {},
   "outputs": [],
   "source": [
    "nPathdf_group=nPathdf.groupby(\"interaction_type_list\")\\\n",
    "                .count()\\\n",
    "                .sort('count_customer_identifier',ascending=False)\n",
    "nPathdf_group"
   ]
  },
  {
   "cell_type": "markdown",
   "metadata": {},
   "source": [
    "<p style = 'font-size:16px;font-family:Arial;'>We can filter and get the most popular paths: We will filter and show only paths having nummber of customers >= 16.</p>\n"
   ]
  },
  {
   "cell_type": "code",
   "execution_count": null,
   "metadata": {},
   "outputs": [],
   "source": [
    "count_cust=nPathdf_group.count_customer_identifier\n",
    "nPathdf_group_plot=nPathdf_group[count_cust >= 16]"
   ]
  },
  {
   "cell_type": "code",
   "execution_count": null,
   "metadata": {},
   "outputs": [],
   "source": [
    "%%time\n",
    "plot_first_main_paths(nPathdf_group_plot,path_column='interaction_type_list',id_column='count_customer_identifier')"
   ]
  },
  {
   "cell_type": "markdown",
   "metadata": {},
   "source": [
    "<p style = 'font-size:16px;font-family:Arial;'>In the above diagram We can filtered by looking for at least 16 customers on a path.  Of course, this notebook is just working with small data to demonstrate the functionality. In a real-world data volume, you’d be filtering for paths repeated hundreds or thousands of time. </p>\n",
    "  \n",
    "<p style = 'font-size:16px;font-family:Arial;'>So let’s start by looking at the drivers of wealth management accounts online. We can see that the ‘Compare’ tool that the bank has on its’ website is a main step in opening an account. This allows you to compare its’ wealth management offerings to its competitors and this is proving to be very compelling. So, customers are browsing the offerings then using the compare tool and ultimately booking. </p>\n",
    "\n",
    "<p style = 'font-size:16px;font-family:Arial;'>The other main drivers of online account signups are people signing up for an auto-savings plan. So, people that are savings minded tend to open wealth management accounts. Also, general browsing the offerings and opening a CD appear to be secondary paths as well. </p>\n",
    "\n",
    "<p style = 'font-size:16px;font-family:Arial;'>Moving to offline - which we can see has different drivers. It appears to be predominately people that are opening other types of accounts as well such as CDs and Brokerage - both online and offline. We can see that the main path to booking a wealth management account offline is from in-branch referrals. So, people go into a branch and are opening another type of account and they are referred to opening a wealth management account as well!</p>"
   ]
  },
  {
   "cell_type": "markdown",
   "metadata": {},
   "source": [
    "<p style = 'font-size:20px;font-family:Arial;color:#E37C4D'><b>7. Cleanup </b></p>\n",
    "<p style = 'font-size:18px;font-family:Arial;color:#E37C4D'><b>Work Tables</b></p>\n",
    "<p style = 'font-size:16px;font-family:Arial'>Cleanup work tables to prevent errors next time.</p>"
   ]
  },
  {
   "cell_type": "code",
   "execution_count": null,
   "metadata": {},
   "outputs": [],
   "source": [
    "eng.execute('''DROP TABLE FSCJ_conversion_events;''')"
   ]
  },
  {
   "cell_type": "code",
   "execution_count": null,
   "metadata": {},
   "outputs": [],
   "source": [
    "eng.execute('''DROP TABLE FSCJ_attribution_model;''')"
   ]
  },
  {
   "cell_type": "code",
   "execution_count": null,
   "metadata": {},
   "outputs": [],
   "source": [
    "eng.execute('''DROP TABLE FSCJ_marketing_attribution;''')"
   ]
  },
  {
   "cell_type": "markdown",
   "metadata": {},
   "source": [
    "<p style = 'font-size:18px;font-family:Arial;color:#E37C4D'> <b>Databases and Tables </b></p>\n",
    "<p style = 'font-size:16px;font-family:Arial'>The following code will clean up tables and databases created above.</p>"
   ]
  },
  {
   "cell_type": "code",
   "execution_count": null,
   "metadata": {
    "tags": []
   },
   "outputs": [],
   "source": [
    "%run -i ../run_procedure.py \"call remove_data('DEMO_Financial');\" \n",
    "#Takes about 10 seconds, optional if you want to use the data later"
   ]
  },
  {
   "cell_type": "code",
   "execution_count": null,
   "metadata": {},
   "outputs": [],
   "source": [
    "remove_context()"
   ]
  },
  {
   "cell_type": "markdown",
   "metadata": {},
   "source": [
    "<b style = 'font-size:20px;font-family:Arial;color:#E37C4D'>8. Dataset</b>\n",
    "\n",
    "<p style = 'font-size:16px;font-family:Arial;'>The data for this use case is stored in the `FSCustomerJourney` database. </p>\n",
    "\n",
    "<b style = 'font-size:20px;font-family:Arial;color:#E37C4D'>Integrated Contact History </b>\n",
    "\n",
    "<p style = 'font-size:16px;font-family:Arial'>The data for this use case is taken from Customer_Journey table(Details below) from the DEMO_FSCustomerJourney Database. It is data from various source systems and channels already combined and put into one big table. This is all of the customer interactions, in a customer system this might be a view on top of various source tables.</p>\n",
    "\n",
    "`Customer_Journey`\n",
    "\n",
    "- `customer_skey`: customer key\n",
    "- `customer_identifier`: unique customer identifier\n",
    "- `customer_cookie`: cookie placed on customers device\n",
    "- `customer_online_id`: boolean - does the customer have an online account\n",
    "- `customer_offline_id`: customer account number\n",
    "- `customer_type`: is this a high value customer or just a vistor browsing the website?\n",
    "- `customer_days_active`: how long has the customer been active\n",
    "- `interaction_session_number`: session identifier\n",
    "- `interaction_timestamp`: timestamp for this event\n",
    "- `interaction_source`: channel this event is from (online / offline, in branch etc.)\n",
    "- `interaction_type`: type of event\n",
    "- `sales_channel`: channel a sales event was in\n",
    "- `conversion_id`: sales conversion identifier\n",
    "- `product_category`: what type of product the event concerned (checking, savings, cd etc..)\n",
    "- `product_type`: unused\n",
    "- `conversion_sales`: unused\n",
    "- `conversion_cost`: unused\n",
    "- `conversion_margin`: unused\n",
    "- `conversion_units`: unused\n",
    "- `marketing_code`: marketing identifier\n",
    "- `marketing_category`: marketing channel (inbranch, website, email etc..)\n",
    "- `marketing_description`: marketing campaign name\n",
    "- `marketing_placement`: specific marketing outlet (Google, Bloomberg.com etc..)\n",
    "- `mobile_flag`: boolean was on a mobile device\n",
    "- `updt`: unused"
   ]
  },
  {
   "cell_type": "markdown",
   "metadata": {},
   "source": [
    "<footer style=\"padding:10px;background:#f9f9f9;border-bottom:3px solid #394851\">Copyright © Teradata Corporation - 2023. All Rights Reserved.</footer>"
   ]
  }
 ],
 "metadata": {
  "kernelspec": {
   "display_name": "Python 3 (ipykernel)",
   "language": "python",
   "name": "python3"
  },
  "language_info": {
   "codemirror_mode": {
    "name": "ipython",
    "version": 3
   },
   "file_extension": ".py",
   "mimetype": "text/x-python",
   "name": "python",
   "nbconvert_exporter": "python",
   "pygments_lexer": "ipython3",
   "version": "3.9.10"
  }
 },
 "nbformat": 4,
 "nbformat_minor": 4
}
