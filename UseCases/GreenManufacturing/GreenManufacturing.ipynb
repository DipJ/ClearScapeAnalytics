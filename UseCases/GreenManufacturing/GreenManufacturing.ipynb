{
 "cells": [
  {
   "cell_type": "markdown",
   "id": "ccb0e42b-1d06-4ae0-91ec-e06fd55d6d3d",
   "metadata": {},
   "source": [
    "<header style=\"padding:1px;background:#f9f9f9;border-top:3px solid #00b2b1\"><img id=\"Teradata-logo\" src=\"https://www.teradata.com/Teradata/Images/Rebrand/Teradata_logo-two_color.png\" alt=\"Teradata\" width=\"220\" align=\"right\" />\n",
    "\n",
    "<b style = 'font-size:28px;font-family:Arial;color:#E37C4D'>Green Manufacturing for vehicles</b>\n",
    "</header>\n",
    "\n",
    "<p style = 'font-size:20px;font-family:Arial;color:#E37C4D'><b>Introduction</b></p>\n",
    "\n",
    "<p style = 'font-size:16px;font-family:Arial'>Since the first automobile, the Real Wheel Motor Company has stood for important automotive innovations. These include, for example, the passenger safety cell with crumple zone, the airbag and intelligent assistance systems. Real Wheel Motor Company applies for nearly 2000 patents per year, making the brand the European leader among premium car makers. These cars are leaders in the premium car industry. With a huge selection of features and options, customers can choose the customized models of their dreams.</p>\n",
    "\n",
    "<p style = 'font-size:16px;font-family:Arial'>To ensure the safety and reliability of each and every unique car configuration before they hit the road, the engineers have developed a robust testing system. But, optimizing the speed of their testing system for so many possible feature combinations is complex and time-consuming without a powerful algorithmic approach. As one of the world’s biggest manufacturers of premium cars, safety and efficiency are paramount on their production lines.</p>\n",
    "\n",
    "<p style = 'font-size:16px;font-family:Arial'>The goal is to work with a dataset representing different permutations of Real Wheel Motor Company car features to predict the time it takes to pass testing. This will contribute to speedier testing, resulting in lower carbon dioxide emissions without reducing the standards of the company cars.</p>\n",
    "\n",
    "<p style = 'font-size:16px;font-family:Arial'>This dataset contains an anonymized set of variables, each representing a custom feature in a car. For example, a variable could be 4WD, added air suspension, or a head-up display. The ground truth is labelled ‘y’ and represents the time (in seconds) that the car took to pass testing for each variable.\n",
    "</p>\n",
    "\n",
    "\n",
    "</header>"
   ]
  },
  {
   "cell_type": "markdown",
   "id": "d66c9b40-011f-4903-a3ce-3621f83470f2",
   "metadata": {
    "tags": []
   },
   "source": [
    "<p style = 'font-size:20px;font-family:Arial;color:#E37C4D'><b>1. Start by connecting to the Vantage system.</b></p>\n"
   ]
  },
  {
   "cell_type": "markdown",
   "id": "dc6694c3-bc4b-4ff5-9960-8d564783e888",
   "metadata": {},
   "source": [
    "<p style = 'font-size:16px;font-family:Arial'>In the section, we import the required libraries and set environment variables and environment paths (if required).</p>"
   ]
  },
  {
   "cell_type": "code",
   "execution_count": null,
   "id": "707f0705-e1cd-4089-8823-c15404f1445a",
   "metadata": {},
   "outputs": [],
   "source": [
    "%%capture\n",
    "# # '%%capture' suppresses the display of installation steps of the following packages\n",
    "!pip install xgboost==1.7.3\n",
    "#!pip install colorlover\n",
    "#!pip install teradataml --upgrade teradataml"
   ]
  },
  {
   "cell_type": "markdown",
   "id": "c22e76b4-c312-4281-a52e-d5eb91674e09",
   "metadata": {},
   "source": [
    "<p style = 'font-size:18px;font-family:Arial'><b>**RESTART kernel after installing XGBoost</b></p>\n",
    "<p style = 'font-size:16px;font-family:Arial'>The above statements may need to be uncommented if you run the notebooks on a platform other than ClearScape Analytics Experience that does not have the libraries installed.  If you uncomment those installs, be sure to restart the kernel after executing those lines. </p>"
   ]
  },
  {
   "cell_type": "code",
   "execution_count": null,
   "id": "a393e50b-2226-436e-8dee-4a320a84aae7",
   "metadata": {},
   "outputs": [],
   "source": [
    "import json\n",
    "import getpass\n",
    "import pandas as pd\n",
    "\n",
    "from teradataml.dataframe.dataframe import DataFrame\n",
    "from teradataml import *\n",
    "\n",
    "import numpy as np # linear algebra\n",
    "import matplotlib.pyplot as plt\n",
    "import seaborn as sns\n",
    "from sklearn import preprocessing\n",
    "color = sns.color_palette()\n",
    "import xgboost as xgb\n",
    "\n",
    "%matplotlib inline\n",
    "\n",
    "\n",
    "from plotly.offline import download_plotlyjs, init_notebook_mode, plot, iplot\n",
    "from collections import defaultdict\n",
    "import plotly.offline as offline\n",
    "import colorlover as cl\n",
    "offline.init_notebook_mode()\n",
    "\n",
    "warnings.filterwarnings('ignore')\n",
    "warnings.simplefilter(action='ignore', category=DeprecationWarning)\n",
    "warnings.simplefilter(action='ignore', category=RuntimeWarning)\n",
    "warnings.simplefilter(action='ignore', category=FutureWarning)"
   ]
  },
  {
   "cell_type": "markdown",
   "id": "250f03f1-65de-4a7b-b5bc-87efaed7f11d",
   "metadata": {},
   "source": [
    "<p style = 'font-size:16px;font-family:Arial'>You will be prompted to provide the password. Enter your password, press the Enter key, then use down arrow to go to next cell. Begin running steps with Shift + Enter keys.</p>"
   ]
  },
  {
   "cell_type": "code",
   "execution_count": null,
   "id": "6a6712e3-20f2-4192-98c7-430f20d08fb9",
   "metadata": {},
   "outputs": [],
   "source": [
    "%run -i ../startup.ipynb\n",
    "eng = create_context(host = 'host.docker.internal', username='demo_user', password = password)\n",
    "print(eng)\n",
    "eng.execute('''SET query_band='DEMO=GreenManufacturing.ipynb;' UPDATE FOR SESSION; ''')"
   ]
  },
  {
   "cell_type": "markdown",
   "id": "9746e656-3028-4abd-9278-af179bdd2963",
   "metadata": {},
   "source": [
    "<b style = 'font-size:20px;font-family:Arial;color:#E37C4D'>2. Getting Data for This Demo\n",
    "<p style = 'font-size:16px;font-family:Arial'>We have provided data for this demo on cloud storage.  You have the option of either running the demo using foreign tables to access the data without using any storage on your environment or downloading the data to local storage which may yield somewhat faster execution, but there could be considerations of available storage.  There are two statements in the following cell, and one is commented out.  You may switch which mode you choose by changing the comment string.</p>    \n",
    "<p style = 'font-size:16px;font-family:Arial'><b>** Note : Due to the large number of columns the initial table creation and data loading make take more time.</b></p>"
   ]
  },
  {
   "cell_type": "code",
   "execution_count": null,
   "id": "000f88a3-c62c-45e5-a083-81f1931df590",
   "metadata": {},
   "outputs": [],
   "source": [
    "#%run -i ../run_procedure.py \"call get_data('DEMO_GreenManufacturing_cloud');\"\n",
    " # Takes about 50 seconds\n",
    "%run -i ../run_procedure.py \"call get_data('DEMO_GreenManufacturing_local');\"\n",
    " # Takes about 3 minutes 30 seconds"
   ]
  },
  {
   "cell_type": "markdown",
   "id": "f4122e51-c891-4c48-bec9-4f364e178f46",
   "metadata": {},
   "source": [
    "<p style = 'font-size:16px;font-family:Arial'>Next is an optional step – if you want to see status of databases/tables created and space used.</p>"
   ]
  },
  {
   "cell_type": "code",
   "execution_count": null,
   "id": "1a295649-45ea-4cb1-ace9-ecc1c1f8cd78",
   "metadata": {},
   "outputs": [],
   "source": [
    "%run -i ../run_procedure.py \"call space_report();\""
   ]
  },
  {
   "cell_type": "markdown",
   "id": "a3479e16-ac99-48ba-9aec-6d5eda6c4d96",
   "metadata": {},
   "source": [
    "<hr>\n",
    "<p style = 'font-size:20px;font-family:Arial;color:#E37C4D'><b>3. Analyze the raw data set</b></p>\n",
    "\n",
    "<p style = 'font-size:16px;font-family:Arial'>Create a DataFrame to get the data from the table created.</p>\n",
    "<p style = 'font-size:16px;font-family:Arial'><b><i>** Note : There may be a warning message due to a large number of columns in the dataframe. It's a Warning and not an error. Please ignore the warning</i></b></p>\n",
    "\n"
   ]
  },
  {
   "cell_type": "code",
   "execution_count": null,
   "id": "b5bfab48-052f-4d10-9547-47e321ac2274",
   "metadata": {},
   "outputs": [],
   "source": [
    "datadf = DataFrame(in_schema('DEMO_GreenManufacturing', 'Manufacturing_Data'))\n",
    "datadf"
   ]
  },
  {
   "cell_type": "markdown",
   "id": "1f9b4a74-0383-41fa-a884-00fd703c193c",
   "metadata": {},
   "source": [
    "<p style = 'font-size:16px;font-family:Arial'>The ID column is the ID of the cars, 'y' is the time in seconds which the car took to pass testing for each variable. The variables X0-X8 are categorical variables and the remaining are numerical variables having values of 0 and 1. These are the variables which impact the value of 'y'.</p>\n"
   ]
  },
  {
   "cell_type": "markdown",
   "id": "21ac4d49-3b81-421b-8b7d-a9a7d3c5f553",
   "metadata": {},
   "source": [
    "<hr>\n",
    "<p style = 'font-size:20px;font-family:Arial;color:#E37C4D'><b>4. Check the impact of Categorical variables on target variable 'y'</b></p>\n",
    "\n",
    "<p style = 'font-size:16px;font-family:Arial'>Create a DataFrame to get the data from the table created.</p>\n",
    "\n",
    "\n"
   ]
  },
  {
   "cell_type": "code",
   "execution_count": null,
   "id": "bb9d8382-ad00-49c2-a52c-c37501a8f276",
   "metadata": {},
   "outputs": [],
   "source": [
    "train_df=datadf.to_pandas().reset_index()"
   ]
  },
  {
   "cell_type": "code",
   "execution_count": null,
   "id": "ec1de150-7f1b-4958-b23e-7fa109fa2e55",
   "metadata": {},
   "outputs": [],
   "source": [
    "var_name = \"X0\"\n",
    "col_order = np.sort(train_df[var_name].unique()).tolist()\n",
    "plt.figure(figsize=(12,6))\n",
    "# sns.stripplot(x=var_name, y='y', data=train_df, order=col_order)\n",
    "sns.countplot(x=var_name, data=train_df, order=col_order)\n",
    "plt.xlabel(var_name, fontsize=12)\n",
    "plt.ylabel('y', fontsize=12)\n",
    "plt.title(\"Distribution of y variable with \"+var_name, fontsize=15)\n",
    "plt.show()"
   ]
  },
  {
   "cell_type": "code",
   "execution_count": null,
   "id": "a6ab88ef-9a91-4d4d-8d47-fb4494861621",
   "metadata": {},
   "outputs": [],
   "source": [
    "var_name = \"X1\"\n",
    "col_order = np.sort(train_df[var_name].unique()).tolist()\n",
    "plt.figure(figsize=(12,6))\n",
    "sns.stripplot(x=var_name, y='y', data=train_df, order=col_order)\n",
    "plt.xlabel(var_name, fontsize=12)\n",
    "plt.ylabel('y', fontsize=12)\n",
    "plt.title(\"Distribution of y variable with \"+var_name, fontsize=15)\n",
    "plt.show()"
   ]
  },
  {
   "cell_type": "code",
   "execution_count": null,
   "id": "47da1621-cc48-4885-92d6-32d3f7a9c24b",
   "metadata": {},
   "outputs": [],
   "source": [
    "var_name = \"X2\"\n",
    "col_order = np.sort(train_df[var_name].unique()).tolist()\n",
    "plt.figure(figsize=(12,6))\n",
    "sns.boxplot(x=var_name, y='y', data=train_df, order=col_order)\n",
    "plt.xlabel(var_name, fontsize=12)\n",
    "plt.ylabel('y', fontsize=12)\n",
    "plt.title(\"Distribution of y variable with \"+var_name, fontsize=15)\n",
    "plt.show()"
   ]
  },
  {
   "cell_type": "code",
   "execution_count": null,
   "id": "abadca04-df20-47e2-9f3c-8ee7f20429b9",
   "metadata": {},
   "outputs": [],
   "source": [
    "var_name = \"X3\"\n",
    "col_order = np.sort(train_df[var_name].unique()).tolist()\n",
    "plt.figure(figsize=(12,6))\n",
    "sns.violinplot(x=var_name, y='y', data=train_df, order=col_order)\n",
    "plt.xlabel(var_name, fontsize=12)\n",
    "plt.ylabel('y', fontsize=12)\n",
    "plt.title(\"Distribution of y variable with \"+var_name, fontsize=15)\n",
    "plt.show()"
   ]
  },
  {
   "cell_type": "code",
   "execution_count": null,
   "id": "9bddc45c-d32f-44b7-aac4-b82817fc4e18",
   "metadata": {},
   "outputs": [],
   "source": [
    "var_name = \"X4\"\n",
    "col_order = np.sort(train_df[var_name].unique()).tolist()\n",
    "plt.figure(figsize=(12,6))\n",
    "sns.violinplot(x=var_name, y='y', data=train_df, order=col_order)\n",
    "plt.xlabel(var_name, fontsize=12)\n",
    "plt.ylabel('y', fontsize=12)\n",
    "plt.title(\"Distribution of y variable with \"+var_name, fontsize=15)\n",
    "plt.show()"
   ]
  },
  {
   "cell_type": "code",
   "execution_count": null,
   "id": "f7868ab3-06f2-4f32-99b1-5355341b4fd1",
   "metadata": {},
   "outputs": [],
   "source": [
    "var_name = \"X5\"\n",
    "col_order = np.sort(train_df[var_name].unique()).tolist()\n",
    "plt.figure(figsize=(12,6))\n",
    "sns.boxplot(x=var_name, y='y', data=train_df, order=col_order)\n",
    "plt.xlabel(var_name, fontsize=12)\n",
    "plt.ylabel('y', fontsize=12)\n",
    "plt.title(\"Distribution of y variable with \"+var_name, fontsize=15)\n",
    "plt.show()"
   ]
  },
  {
   "cell_type": "code",
   "execution_count": null,
   "id": "12f019de-1bb0-4095-90b3-b875741be1e8",
   "metadata": {},
   "outputs": [],
   "source": [
    "var_name = \"X6\"\n",
    "col_order = np.sort(train_df[var_name].unique()).tolist()\n",
    "plt.figure(figsize=(12,6))\n",
    "sns.boxplot(x=var_name, y='y', data=train_df, order=col_order)\n",
    "plt.xlabel(var_name, fontsize=12)\n",
    "plt.ylabel('y', fontsize=12)\n",
    "plt.title(\"Distribution of y variable with \"+var_name, fontsize=15)\n",
    "plt.show()"
   ]
  },
  {
   "cell_type": "code",
   "execution_count": null,
   "id": "adac4a66-bee1-4b1c-8146-6cf2447c66df",
   "metadata": {},
   "outputs": [],
   "source": [
    "var_name = \"X8\"\n",
    "col_order = np.sort(train_df[var_name].unique()).tolist()\n",
    "plt.figure(figsize=(12,6))\n",
    "sns.barplot(x=var_name, y='y', data=train_df, order=col_order)\n",
    "plt.xlabel(var_name, fontsize=12)\n",
    "plt.ylabel('y', fontsize=12)\n",
    "plt.title(\"Distribution of y variable with \"+var_name, fontsize=15)\n",
    "plt.show()"
   ]
  },
  {
   "cell_type": "code",
   "execution_count": null,
   "id": "729b69f2-d98e-4a87-8012-5166f72b9c02",
   "metadata": {},
   "outputs": [],
   "source": [
    "var_name = \"ID\"\n",
    "plt.figure(figsize=(12,6))\n",
    "sns.regplot(x=var_name, y='y', data=train_df, scatter_kws={'alpha':0.5, 's':30})\n",
    "# sns.barplot(x=var_name, y='y', data=train_df)\n",
    "plt.xlabel(var_name, fontsize=12)\n",
    "plt.ylabel('y', fontsize=12)\n",
    "plt.title(\"Distribution of y variable with \"+var_name, fontsize=15)\n",
    "plt.show()"
   ]
  },
  {
   "cell_type": "markdown",
   "id": "8e11993c-bad6-4f3f-956a-d46bd70a02e4",
   "metadata": {},
   "source": [
    "<p style = 'font-size:16px;font-family:Arial'>After the initial analysis done on the variables and the value of y based on these variables, let's go ahead and try to predict the value of Y using these variables. Below are some steps that should be done before using any prediction model.</p>"
   ]
  },
  {
   "cell_type": "markdown",
   "id": "0f7a9ed0-0571-451e-a095-271f8bc14bf0",
   "metadata": {},
   "source": [
    "<hr>\n",
    "<p style = 'font-size:20px;font-family:Arial;color:#E37C4D'><b>5. Check the importance of various features on target variable 'y'</b></p>\n",
    "\n",
    "<p style = 'font-size:16px;font-family:Arial'>We are using the python xgboost model to check the feature importance.</p>\n",
    "\n",
    "\n"
   ]
  },
  {
   "cell_type": "code",
   "execution_count": null,
   "id": "0631e179-e487-44c2-a2e5-a03897fc8a99",
   "metadata": {},
   "outputs": [],
   "source": [
    "warnings.simplefilter(action='ignore', category=UserWarning)\n",
    "for f in [\"X0\", \"X1\", \"X2\", \"X3\", \"X4\", \"X5\", \"X6\", \"X8\"]:\n",
    "        lbl = preprocessing.LabelEncoder()\n",
    "        lbl.fit(list(train_df[f].values)) \n",
    "        train_df[f] = lbl.transform(list(train_df[f].values))\n",
    "        \n",
    "train_y = train_df['y'].values\n",
    "train_X = train_df.drop([\"ID\", \"y\"], axis=1)\n",
    "\n",
    "\n",
    "def xgb_r2_score(preds, dtrain):\n",
    "    labels = dtrain.get_label()\n",
    "    return 'r2', r2_score(labels, preds)\n",
    "\n",
    "xgb_params = {\n",
    "    'eta': 0.05,\n",
    "    'max_depth': 6,\n",
    "    'subsample': 0.7,\n",
    "    'colsample_bytree': 0.7,\n",
    "    'objective': 'reg:linear',\n",
    "    'silent': 1\n",
    "}\n",
    "dtrain = xgb.DMatrix(train_X, train_y, feature_names=train_X.columns.values)\n",
    "model = xgb.train(dict(xgb_params, silent=0), dtrain, num_boost_round=100, feval=xgb_r2_score, maximize=True)\n",
    "\n",
    "# plot the important features #\n",
    "fig, ax = plt.subplots(figsize=(12,18))\n",
    "xgb.plot_importance(model, max_num_features=50, height=0.8, ax=ax)\n",
    "plt.show()"
   ]
  },
  {
   "cell_type": "markdown",
   "id": "034b2900-451f-4bf7-96ef-9079c2d49095",
   "metadata": {},
   "source": [
    "<hr>\n",
    "<p style = 'font-size:20px;font-family:Arial;color:#E37C4D'><b>6. OrdinalEncoding of the categorical variables</b></p>\n",
    "\n",
    "<p style = 'font-size:16px;font-family:Arial'>Ordinal encoding is used when the variables in the data are ordinal, ordinal encoding converts each label into integer values and the encoded data represents the sequence of labels.</p>\n",
    "<p style = 'font-size:16px;font-family:Arial'>Since the variables X0-X8 are categorical, we will need to convert them into numerical to use them in different models. We are using the OrdinalEncoding for this conversion. The <b>TD_OrdinalEncodingFit</b> function identifies distinct categorical values from the input table or a user defined list and returns the distinct categorical values along with the ordinal value for each category.</p>\n",
    "\n",
    "<p style = 'font-size:16px;font-family:Arial'>The Ordinal encoding will be done for both the Train and Test Datasets.</p>\n",
    "\n"
   ]
  },
  {
   "cell_type": "code",
   "execution_count": null,
   "id": "8576758c-c5d9-4116-b284-0374e5311116",
   "metadata": {},
   "outputs": [],
   "source": [
    "# Ordinal encoding for Dataset\n",
    "query = '''Select * from TD_OrdinalEncodingFit (ON \n",
    "DEMO_GreenManufacturing.Manufacturing_Data AS INPUTTABLE\n",
    "OUT volatile table outputtable(Ordinal_fit_output)\n",
    "USING TargetColumn('X0','X1','X2','X3','X4','X5','X6','X8')) as dt;\n",
    "'''\n",
    "try:\n",
    "    eng.execute(query)\n",
    "except:\n",
    "    eng.execute('DROP TABLE Ordinal_fit_output;')\n",
    "    eng.execute(query)\n",
    "\n"
   ]
  },
  {
   "cell_type": "markdown",
   "id": "0b1cb130-a672-4225-9878-4134af5105e7",
   "metadata": {},
   "source": [
    "<p style = 'font-size:16px;font-family:Arial'>Ordinal encoding transform is used on the ordinal encoding fit data to get the numerical values for the categorical values.</p>\n",
    "<p style = 'font-size:16px;font-family:Arial'>The <b>TD_OrdinalEncodingTransform</b> function maps the categorical value to a specified ordinal value using the TD_OrdinalEncodingFit output.</p>\n",
    "\n",
    "\n"
   ]
  },
  {
   "cell_type": "code",
   "execution_count": null,
   "id": "dfb30881-5486-496e-8da4-bfb7d2b8e9de",
   "metadata": {},
   "outputs": [],
   "source": [
    "# Ordinal Transform for Dataset\n",
    "query = '''Create multiset table Ordinal_transform_output as  (SELECT * FROM TD_OrdinalEncodingTransform (\n",
    "ON DEMO_GreenManufacturing.Manufacturing_Data  AS InputTable\n",
    "ON Ordinal_fit_output AS FitTable DIMENSION\n",
    "USING\n",
    "Accumulate ('id','y')\n",
    ") as dt) with data primary index(\"ID\");\n",
    "'''\n",
    "try:\n",
    "    eng.execute(query)\n",
    "except:\n",
    "    eng.execute('DROP TABLE Ordinal_transform_output;')\n",
    "    eng.execute(query)"
   ]
  },
  {
   "cell_type": "code",
   "execution_count": null,
   "id": "4accdaec-dd2e-4419-bdfa-71d7654338c4",
   "metadata": {},
   "outputs": [],
   "source": [
    "pd.read_sql('SELECT * FROM Ordinal_transform_output', eng)"
   ]
  },
  {
   "cell_type": "markdown",
   "id": "63539398-6d2d-4a04-b279-8f024bc4d407",
   "metadata": {},
   "source": [
    "<hr>\n",
    "<p style = 'font-size:20px;font-family:Arial;color:#E37C4D'><b>7. Preparation of Data</b></p>\n",
    "\n",
    "<p style = 'font-size:16px;font-family:Arial'>In the below steps we are preparing the data by joining the converted categorical features and some other important features to be used in Model Training, Scoring and Evaluation</p>\n",
    "\n",
    "\n",
    "<p style = 'font-size:16px;font-family:Arial'>We join the converted dataframe and the important numerical features to get the final dataset which will be used for the model.</p>\n",
    "\n",
    "<p style = 'font-size:16px;font-family:Arial'>Get the output of OrdinalTransform into dataframe.</p>"
   ]
  },
  {
   "cell_type": "code",
   "execution_count": null,
   "id": "55fe79f2-a52e-4d74-a4f7-5365f09187db",
   "metadata": {
    "tags": []
   },
   "outputs": [],
   "source": [
    "OrdTransdf = DataFrame(in_schema('demo_user', 'Ordinal_transform_output'))"
   ]
  },
  {
   "cell_type": "markdown",
   "id": "98e700ab-f096-4044-b68d-171daa1112ea",
   "metadata": {},
   "source": [
    "<p style = 'font-size:16px;font-family:Arial'>We join the converted dataframe and the original data to get important numerical features.</p>"
   ]
  },
  {
   "cell_type": "code",
   "execution_count": null,
   "id": "b82c362d-95fa-444f-8688-4fe91e8ccad2",
   "metadata": {},
   "outputs": [],
   "source": [
    "datadf=datadf.drop(columns=[\"X0\", \"X1\",\"X2\",\"X3\",\"X4\",\"X5\",\"X6\",\"X8\"])\n",
    "datadf_join = OrdTransdf.join(other = datadf, on = [\"ID\"], how = \"left\",lsuffix='t1',rsuffix='t2')\n",
    "datadf_join=datadf_join.drop(columns=[\"t2_ID\", \"t2_y\"])\n",
    "datadf_join = datadf_join.assign(ID=datadf_join.t1_ID, y=datadf_join.t1_y)\n",
    "datadf_join = datadf_join.drop(columns=[\"t1_ID\", \"t1_y\"])"
   ]
  },
  {
   "cell_type": "markdown",
   "id": "5658c178-ae52-4e75-874e-a4dbc0d97ed8",
   "metadata": {},
   "source": [
    "<p style = 'font-size:16px;font-family:Arial'>Create a final dataframe with only the required important features along with the ID and the response column.</p>"
   ]
  },
  {
   "cell_type": "code",
   "execution_count": null,
   "id": "df6a6431-c94a-477a-8a9e-5cb191c2e2e7",
   "metadata": {},
   "outputs": [],
   "source": [
    "data_new_df = datadf_join[[\"ID\",\n",
    "\"y\",\n",
    "\"X0\",\n",
    "\"X1\",\n",
    "\"X2\",\n",
    "\"X3\",\n",
    "\"X4\",\n",
    "\"X5\",                          \n",
    "\"X6\",\n",
    "\"X8\",\n",
    "\"X47\",\n",
    "\"X314\",\n",
    "\"X118\",\n",
    "\"X315\",\n",
    "\"X127\",\n",
    "\"X29\",\n",
    "\"X115\",\n",
    "\"X351\",                           \n",
    "\"X151\"]]"
   ]
  },
  {
   "cell_type": "code",
   "execution_count": null,
   "id": "21f3e40a-03f7-4c1c-8010-d11e81c814c7",
   "metadata": {},
   "outputs": [],
   "source": [
    "copy_to_sql(df = data_new_df, table_name = 'final_data',if_exists='replace')"
   ]
  },
  {
   "cell_type": "markdown",
   "id": "d76a1d49-a066-41d9-bbc0-af0e4c05e468",
   "metadata": {},
   "source": [
    "<p style = 'font-size:16px;font-family:Arial'>We split the data into Train and Test data.</p>"
   ]
  },
  {
   "cell_type": "code",
   "execution_count": null,
   "id": "a3b4a4d6-5da8-41d0-8cb5-a04e28346d75",
   "metadata": {},
   "outputs": [],
   "source": [
    "query = '''Create table TTS_output as (\n",
    "SELECT * FROM TD_TrainTestSplit(\n",
    "ON final_data AS InputTable\n",
    "USING\n",
    "IDColumn('Id')\n",
    "Seed(42)\n",
    ")AS dt\n",
    ") with data;\n",
    "'''\n",
    "try:\n",
    "    eng.execute(query)\n",
    "except:\n",
    "    eng.execute('DROP TABLE TTS_output;')\n",
    "    eng.execute(query)"
   ]
  },
  {
   "cell_type": "code",
   "execution_count": null,
   "id": "b94d2fb6-77cc-4a07-b55d-a3c0fcbf2085",
   "metadata": {},
   "outputs": [],
   "source": [
    "query = '''Create multiset table final_train_data as (\n",
    "SELECT * FROM TTS_OUTPUT WHERE TD_IsTrainRow = 1\n",
    ") with data;\n",
    "'''\n",
    "try:\n",
    "    eng.execute(query)\n",
    "except:\n",
    "    eng.execute('DROP TABLE final_train_data;')\n",
    "    eng.execute(query)"
   ]
  },
  {
   "cell_type": "code",
   "execution_count": null,
   "id": "c76c9c73-bd90-4e23-8943-6efc595f5e95",
   "metadata": {},
   "outputs": [],
   "source": [
    "query = '''Create multiset table final_test_data as (\n",
    "SELECT * FROM TTS_OUTPUT WHERE TD_IsTrainRow = 0\n",
    ") with data;\n",
    "'''\n",
    "try:\n",
    "    eng.execute(query)\n",
    "except:\n",
    "    eng.execute('DROP TABLE final_test_data;')\n",
    "    eng.execute(query)"
   ]
  },
  {
   "cell_type": "code",
   "execution_count": null,
   "id": "30b6bd1c-7847-42eb-a5ea-760baab0bbc4",
   "metadata": {},
   "outputs": [],
   "source": [
    "train_new_df=DataFrame(in_schema('demo_user', 'final_train_data'),index=True,index_label='ID')"
   ]
  },
  {
   "cell_type": "code",
   "execution_count": null,
   "id": "0845219a-b7c0-4b14-9b33-53788eb47dd2",
   "metadata": {},
   "outputs": [],
   "source": [
    "test_new_df=DataFrame(in_schema('demo_user', 'final_test_data'),index=True,index_label='ID')"
   ]
  },
  {
   "cell_type": "markdown",
   "id": "7c85b2db-cee0-498f-b73e-4c1c6c51e14b",
   "metadata": {},
   "source": [
    "<hr>\n",
    "<p style = 'font-size:20px;font-family:Arial;color:#E37C4D'><b>8. Decision Forest </b></p>\n",
    "\n",
    "<p style = 'font-size:16px;font-family:Arial'>The function is an ensemble algorithm used for classification and regression predictive modelling problems. It is an extension of bootstrap aggregation (bagging) of decision trees. Typically, constructing a decision tree involves evaluating the value for each input feature in the data to select a split point.</p>\n",
    "\n",
    "<p style = 'font-size:16px;font-family:Arial'>The function reduces the features to a random subset (that can be considered at each split point); the algorithm can force each decision tree in the forest to be very different to improve prediction accuracy. The function uses a training dataset to create a predictive model. The TD_DecisionForestPredict function uses the model created by the TD_DecisionForest function for making predictions. The function supports regression, binary, and multi-class classification.</p>\n",
    "\n",
    "<p style = 'font-size:16px;font-family:Arial'>Consider the following points:\n",
    "<li style = 'font-size:16px;font-family:Arial'>All input features are numeric. Convert the categorical columns to numerical columns as preprocessing step.</li>\n",
    "<li style = 'font-size:16px;font-family:Arial'>For classification, class labels (ResponseColumn values) can only be integers. A maximum of 500 classes is supported for classification.</li>\n",
    "<li style = 'font-size:16px;font-family:Arial'>Any observation with a missing value in an input column is skipped and not used for training. You can use the TD_SimpleImpute function to assign missing values.</li>\n",
    "\n",
    "<p style = 'font-size:16px;font-family:Arial'>The number of trees built by TD_DecisionForest depends on the NumTrees, TreeSize, CoverageFactor values, and the data distribution in the cluster. The trees are constructed in parallel by all the AMPs, which have a non-empty partition of data.</p>\n"
   ]
  },
  {
   "cell_type": "code",
   "execution_count": null,
   "id": "207ce758-9cad-4f9b-9bba-d6652e0ad02e",
   "metadata": {},
   "outputs": [],
   "source": [
    "query = '''Create table DF_train as (\n",
    "SELECT * FROM TD_DecisionForest (\n",
    "ON final_train_data AS INPUTTABLE partition by ANY\n",
    "USING\n",
    "  ResponseColumn('y')\n",
    "InputColumns('id','X0','X1','X2','X3','X4','X5','X6','X8','X47','X314','X118','X315','X127','X29','X115','X351','X151')\n",
    "MaxDepth(12)\n",
    "MinNodeSize(1)\n",
    "NumTrees(4)\n",
    "ModelType('REGRESSION')\n",
    "Seed(1)\n",
    "Mtry(-1)\n",
    "MtrySeed(1)\n",
    ") AS dt\n",
    ") with data;\n",
    "'''\n",
    "try:\n",
    "    eng.execute(query)\n",
    "except:\n",
    "    eng.execute('DROP TABLE DF_train;')\n",
    "    eng.execute(query)"
   ]
  },
  {
   "cell_type": "markdown",
   "id": "4fa33acf-f428-4dc5-be09-0271feeabd07",
   "metadata": {},
   "source": [
    "<p style = 'font-size:16px;font-family:Arial'>TD_DecisionForestPredict function uses the model output by TD_DecisionForest function to analyze the input data and make predictions. This function outputs the probability that each observation is in the predicted class. Processing times are controlled by the number of trees in the model. When the number of trees is more than what can fit in memory, then the trees are cached in a local spool space.</p>\n"
   ]
  },
  {
   "cell_type": "code",
   "execution_count": null,
   "id": "c89318ef-2efa-4c81-a59f-4e26d3dbf8b2",
   "metadata": {},
   "outputs": [],
   "source": [
    "query = '''\n",
    "Create table DF_Predict as (\n",
    "SELECT * FROM TD_DecisionForestPredict (\n",
    "ON final_test_data AS InputTable PARTITION BY ANY\n",
    "ON DF_Train AS ModelTable DIMENSION\n",
    "USING\n",
    "  IdColumn ('id')\n",
    "  Detailed('false')\n",
    "  Accumulate('y')\n",
    ") AS dt) with data;'''\n",
    "\n",
    "try:\n",
    "    eng.execute(query)\n",
    "except:\n",
    "    eng.execute('DROP TABLE DF_Predict;')\n",
    "    eng.execute(query)"
   ]
  },
  {
   "cell_type": "code",
   "execution_count": null,
   "id": "6ce6547f-efa2-4386-b913-f79bfae52f6f",
   "metadata": {},
   "outputs": [],
   "source": [
    "pd.read_sql('SELECT * FROM DF_Predict', eng)"
   ]
  },
  {
   "cell_type": "code",
   "execution_count": null,
   "id": "0fb08ff0-a623-466d-92e8-dd16f4074644",
   "metadata": {},
   "outputs": [],
   "source": [
    "df_result = DataFrame(in_schema('demo_user', 'DF_Predict'))\n",
    "df_result_pd=df_result.to_pandas().reset_index().sort_values(\"ID\")\n",
    "df_result_pd"
   ]
  },
  {
   "cell_type": "code",
   "execution_count": null,
   "id": "e5f4d4a6-bcb9-44d8-8030-6654a102a81c",
   "metadata": {},
   "outputs": [],
   "source": [
    "plt.figure(figsize=(20,20))\n",
    "plt.ylabel('Time in Test Cycle', fontsize = 14)\n",
    "plt.xlabel('Vehicle ID', fontsize = 14)\n",
    "plt.plot(df_result_pd['ID'][:200], df_result_pd['y'][:200], color='g', label='Actual Value')\n",
    "plt.plot(df_result_pd['ID'][:200], df_result_pd['prediction'][:200], color='r', label='Predicted Value')\n",
    "plt.title('Actual vs Predicted using DecisionForest Classification', fontsize = 18)\n",
    "plt.legend()\n",
    "# plt.ylim(0,1)\n",
    "plt.show()"
   ]
  },
  {
   "cell_type": "code",
   "execution_count": null,
   "id": "d33acc4e-ff45-4d03-836a-34504c97ef0d",
   "metadata": {},
   "outputs": [],
   "source": [
    "query = '''\n",
    "SELECT * FROM TD_RegressionEvaluator(\n",
    "ON DF_Predict as InputTable\n",
    "USING\n",
    "ObservationColumn('y')\n",
    "PredictionColumn('prediction')\n",
    "Metrics('RMSE','R2','FSTAT')\n",
    "DegreesOfFreedom(5,28)\n",
    "NUMOFINDEPENDENTVARIABLES(15)\n",
    ") as dt;\n",
    "'''\n",
    "\n",
    "pd.read_sql(query, eng)"
   ]
  },
  {
   "cell_type": "markdown",
   "id": "3ccbeeba-dc33-4106-a5f9-4ea6fe4fef3c",
   "metadata": {},
   "source": [
    "<hr>\n",
    "<p style = 'font-size:20px;font-family:Arial;color:#E37C4D'><b>9. XGBoost </b></p>\n",
    "\n",
    "<p style = 'font-size:16px;font-family:Arial'>The TD_XGBoost function, also known as eXtreme Gradient Boosting, is an implementation of the gradient boosted decision tree designed for speed and performance. It has recently been dominating applied machine learning.</p>\n",
    "\n",
    "<p style = 'font-size:16px;font-family:Arial'>In gradient boosting, each iteration fits a model to the residuals (errors) of the previous iteration to correct the errors made by existing models. The predicted residual is multiplied by this learning rate and then added to the previous prediction. Models are added sequentially until no further improvements can be made. It is called gradient boosting because it uses a gradient descent algorithm to minimize the loss when adding new models.</p>\n",
    "\n",
    "<p style = 'font-size:16px;font-family:Arial'>Gradient boosting involves three elements:</p>\n",
    "<li style = 'font-size:16px;font-family:Arial'>A loss function to be optimized.</li>\n",
    "<li style = 'font-size:16px;font-family:Arial'>A weak learner to make predictions.</li>\n",
    "<li style = 'font-size:16px;font-family:Arial'>An additive model to add weak learners to minimize the loss function.</li></p>\n",
    "<p style = 'font-size:16px;font-family:Arial'>The loss function used depends on the type of problem being solved. For example, regression may use a squared error and binary classification may use binomial. A benefit of the gradient boosting is that a new boosting algorithm does not have to be derived for each loss function. Instead, it provides a generic enough framework that any differentiable loss function can be used. The TD_XGBoost function supports both regression and classification predictive modelling problems. The model that it creates is used in the TD_XGBoostPredict function for making predictions. </p>\n",
    "\n"
   ]
  },
  {
   "cell_type": "code",
   "execution_count": null,
   "id": "49719257-07af-4bd4-9ea8-c9709b8e9ae9",
   "metadata": {},
   "outputs": [],
   "source": [
    "query = '''create table xgb_model as (\n",
    "SELECT * FROM TD_XGBoost (\n",
    "ON final_train_data partition by ANY\n",
    "OUT TABLE MetaInformationTable(xgb_out) \n",
    "USING\n",
    " ResponseColumn('y')\n",
    " InputColumns('id','X0','X1','X2','X3','X4','X5','X6','X8','X47','X314','X118','X315','X127','X29','X115','X351','X151')\n",
    " MaxDepth(6)\n",
    " MinNodeSize(1)\n",
    " NumBoostedTrees(20)\n",
    " ModelType('REGRESSION')\n",
    " Seed(1) \n",
    " RegularizationLambda(1000)\n",
    " ShrinkageFactor(0.5)\n",
    " IterNum(10)\n",
    " ColumnSampling(0.7) \n",
    ") as dt) with data;\n",
    "'''\n",
    "try:\n",
    "    eng.execute(query)\n",
    "except:\n",
    "    eng.execute('DROP TABLE xgb_model;')\n",
    "    eng.execute('DROP TABLE xgb_out;')\n",
    "    eng.execute(query)"
   ]
  },
  {
   "cell_type": "markdown",
   "id": "aed05487-d2f5-428e-8c15-48824ecf8e8f",
   "metadata": {},
   "source": [
    "<p style = 'font-size:16px;font-family:Arial'>TD_XGBoostPredict performs prediction for test input data using multiple simple trees in the trained model. The test input data should have the same attributes as used during the training phase, which can be up to 2048. These attributes are used to score based on the trees in the model.</p>\n",
    "<p style = 'font-size:16px;font-family:Arial'>The output contains prediction for each data point in the test data based on regression or classification. The prediction probability is computed based on the majority vote from participating trees. A higher probability implies a more confident prediction by the model. Majority of the trees result in the same prediction.</p>\n"
   ]
  },
  {
   "cell_type": "code",
   "execution_count": null,
   "id": "79d15f04-7250-46d1-9b27-4a5c90efa8ea",
   "metadata": {},
   "outputs": [],
   "source": [
    "query = '''create table xgb_predict_out as (\n",
    "SELECT * FROM TD_XGBoostPredict(\n",
    "ON final_test_data as inputtable partition by ANY\n",
    "ON xgb_model as modeltable dimension ORDER BY task_index, tree_num, iter, tree_order\n",
    "\n",
    "USING\n",
    " IdColumn('id')\n",
    " ModelType('regression')\n",
    " accumulate('y')\n",
    " ) as dt) with data;\n",
    "'''\n",
    "try:\n",
    "    eng.execute(query)\n",
    "except:\n",
    "    eng.execute('DROP TABLE xgb_predict_out;')\n",
    "    eng.execute(query)"
   ]
  },
  {
   "cell_type": "code",
   "execution_count": null,
   "id": "a1d6c930-8b40-4ba4-bdcb-24997e92637d",
   "metadata": {},
   "outputs": [],
   "source": [
    "xgb_result = DataFrame(in_schema('demo_user', 'xgb_predict_out'))\n",
    "xgb_result"
   ]
  },
  {
   "cell_type": "code",
   "execution_count": null,
   "id": "9ed69b1d-4fd5-4232-b1c3-6eaf87108093",
   "metadata": {},
   "outputs": [],
   "source": [
    "xgb_result_pd=df_result.to_pandas().reset_index().sort_values(\"ID\")\n",
    "xgb_result_pd"
   ]
  },
  {
   "cell_type": "code",
   "execution_count": null,
   "id": "e15eaa21-417b-440a-9979-f6712a9a0b29",
   "metadata": {},
   "outputs": [],
   "source": [
    "plt.figure(figsize=(20,20))\n",
    "plt.ylabel('Time in Test Cycle', fontsize = 14)\n",
    "plt.xlabel('Vehicle ID', fontsize = 14)\n",
    "plt.plot(xgb_result_pd['ID'][:200], train_df['y'][:200], color='g', label='Actual Value')\n",
    "plt.plot(xgb_result_pd['ID'][:200], xgb_result_pd['prediction'][:200], color='r', label='Predicted Value')\n",
    "plt.title('Actual vs Predicted using XGBoost Classification', fontsize = 18)\n",
    "plt.legend()\n",
    "# plt.ylim(0,1)\n",
    "plt.show()"
   ]
  },
  {
   "cell_type": "markdown",
   "id": "f7111094-83b6-4ec7-8e72-5f9c6164b978",
   "metadata": {},
   "source": [
    "<p style = 'font-size:16px;font-family:Arial'>The TD_RegressionEvaluator function computes metrics to evaluate and compare multiple models and summarizes how close predictions are to their expected values.</p>"
   ]
  },
  {
   "cell_type": "code",
   "execution_count": null,
   "id": "e2a9ed48-cbf8-47f0-8da9-ce2694ff84ee",
   "metadata": {
    "tags": []
   },
   "outputs": [],
   "source": [
    "query = '''\n",
    "SELECT * FROM TD_RegressionEvaluator(\n",
    "ON xgb_predict_out as InputTable\n",
    "USING\n",
    "ObservationColumn('confidence_lower')\n",
    "PredictionColumn('prediction')\n",
    "Metrics('RMSE','R2','FSTAT')\n",
    "DegreesOfFreedom(5,48)\n",
    "NUMOFINDEPENDENTVARIABLES(5)\n",
    ") as dt;\n",
    "'''\n",
    "\n",
    "pd.read_sql(query, eng)"
   ]
  },
  {
   "cell_type": "markdown",
   "id": "8a769f61-13d4-42fe-8b26-4f824aec9984",
   "metadata": {},
   "source": []
  },
  {
   "cell_type": "markdown",
   "id": "aa8c2531-e3cd-46a5-9769-be64a2fd24d7",
   "metadata": {},
   "source": [
    "<p style = 'font-size:16px;font-family:Arial'>The Metrics of the regression evaluator has the RMSE, R2 and the F-STAT metrics which are specified in the Metrics.</p>\n",
    "\n",
    "<p style = 'font-size:16px;font-family:Arial'>Thus here we have used 2 different models to train and predict the data. The Regression evaluator is used to evaluate and compare the models. The Teradata In-Database functions are used for training, prediction and evaluation. In this case since we have sample data the result parameters may not be accurate for these models.</p>  \n",
    "\n",
    "<p style = 'font-size:16px;font-family:Arial'>Root mean squared error (RMSE)The most common metric for evaluating linear regression model performance is called root mean squared error, or RMSE. The basic idea is to measure how bad/erroneous the model’s predictions are when compared to actual observed values. So a high RMSE is “bad” and a low RMSE is “good”.</p>\n",
    "\n",
    "<p style = 'font-size:16px;font-family:Arial'>The coefficient of determination — more commonly known as R² — allows us to measure the strength of the relationship between the response and predictor variables in the model. It’s just the square of the correlation coefficient R, so its values are in the range 0.0–1.0. Higher values of R- Squared is Good.</p>\n",
    "\n",
    "<p style = 'font-size:16px;font-family:Arial'>The metrics specified in the Metrics syntax element are displayed. For FSTAT, the following columns are displayed:</p>\n",
    "<li style = 'font-size:16px;font-family:Arial'>F_score</li>\n",
    "<li style = 'font-size:16px;font-family:Arial'>F_Critcialvalue</li>\n",
    "<li style = 'font-size:16px;font-family:Arial'>p_value</li>\n",
    "<li style = 'font-size:16px;font-family:Arial'>F_Conclusion.</li></p>\n",
    "\n",
    "<p style = 'font-size:16px;font-family:Arial'>Here we can see that RMSE is lower for XGBoost than DecisionForest and R-Square is better for Decision Forest as compared to XGBoost.</p> \n"
   ]
  },
  {
   "cell_type": "markdown",
   "id": "c151e525-82e7-466b-b9f2-7773119fe38d",
   "metadata": {},
   "source": [
    "<hr>\n",
    "<p style = 'font-size:20px;font-family:Arial;color:#E37C4D'><b>10. Cleanup</b></p>\n",
    "<p style = 'font-size:18px;font-family:Arial;color:#E37C4D'><b>Work Tables</b></p>"
   ]
  },
  {
   "cell_type": "code",
   "execution_count": null,
   "id": "b3879fe6-a362-4589-a9fa-f0b98faa9e99",
   "metadata": {},
   "outputs": [],
   "source": [
    "eng.execute('DROP TABLE Ordinal_fit_output;')"
   ]
  },
  {
   "cell_type": "code",
   "execution_count": null,
   "id": "7479501b-bc39-4694-8896-5e931f3c54f2",
   "metadata": {},
   "outputs": [],
   "source": [
    "eng.execute('DROP TABLE Ordinal_transform_output;')"
   ]
  },
  {
   "cell_type": "code",
   "execution_count": null,
   "id": "6d83e81d-fde8-42db-b7d0-92335bdf3072",
   "metadata": {},
   "outputs": [],
   "source": [
    "eng.execute('DROP TABLE TTS_output;')"
   ]
  },
  {
   "cell_type": "code",
   "execution_count": null,
   "id": "a6e9f167-cb5b-4309-81fb-6774c943ce5b",
   "metadata": {},
   "outputs": [],
   "source": [
    "eng.execute('DROP TABLE final_train_data;')"
   ]
  },
  {
   "cell_type": "code",
   "execution_count": null,
   "id": "3429fc70-c1cb-46b6-b45b-5917b561cef4",
   "metadata": {},
   "outputs": [],
   "source": [
    "eng.execute('DROP TABLE final_test_data;')"
   ]
  },
  {
   "cell_type": "code",
   "execution_count": null,
   "id": "7b228d3a-13c3-47a4-a946-276a3f3e1992",
   "metadata": {},
   "outputs": [],
   "source": [
    "eng.execute('DROP TABLE DF_train;')"
   ]
  },
  {
   "cell_type": "code",
   "execution_count": null,
   "id": "89110c1a-a4e2-42f4-be0d-02a2fd4c3969",
   "metadata": {},
   "outputs": [],
   "source": [
    "eng.execute('DROP TABLE DF_Predict;')"
   ]
  },
  {
   "cell_type": "code",
   "execution_count": null,
   "id": "92bac6c2-5ad9-459c-b6ae-496813a13946",
   "metadata": {},
   "outputs": [],
   "source": [
    "eng.execute('DROP TABLE xgb_model;')"
   ]
  },
  {
   "cell_type": "code",
   "execution_count": null,
   "id": "f00c0fc0-d1f6-449c-ba3c-efb6dbf3ba97",
   "metadata": {},
   "outputs": [],
   "source": [
    "eng.execute('DROP TABLE xgb_out;')"
   ]
  },
  {
   "cell_type": "code",
   "execution_count": null,
   "id": "e402111f-6d5e-427c-950a-b695c7ba83ba",
   "metadata": {},
   "outputs": [],
   "source": [
    "eng.execute('DROP TABLE xgb_predict_out;')"
   ]
  },
  {
   "cell_type": "markdown",
   "id": "ace406bb-4354-4611-8204-cff8275c911f",
   "metadata": {},
   "source": [
    "<p style = 'font-size:18px;font-family:Arial;color:#E37C4D'><b>Databases and Tables</b></p>\n",
    "<p style = 'font-size:16px;font-family:Arial'>The following code will clean up tables and databases created above.</p>"
   ]
  },
  {
   "cell_type": "code",
   "execution_count": null,
   "id": "e74588dc-5691-4e0e-a545-5389f776e6dd",
   "metadata": {},
   "outputs": [],
   "source": [
    "%run -i ../run_procedure.py \"call remove_data('DEMO_GreenManufacturing');\" \n",
    "#Takes 40 seconds"
   ]
  },
  {
   "cell_type": "markdown",
   "id": "8b404312-6af8-4d9a-b238-42636c0fe5f0",
   "metadata": {},
   "source": [
    "<footer style=\"padding:10px;background:#f9f9f9;border-bottom:3px solid #394851\">Copyright © Teradata Corporation - 2023. All Rights Reserved.</footer>"
   ]
  }
 ],
 "metadata": {
  "kernelspec": {
   "display_name": "Python 3 (ipykernel)",
   "language": "python",
   "name": "python3"
  },
  "language_info": {
   "codemirror_mode": {
    "name": "ipython",
    "version": 3
   },
   "file_extension": ".py",
   "mimetype": "text/x-python",
   "name": "python",
   "nbconvert_exporter": "python",
   "pygments_lexer": "ipython3",
   "version": "3.9.10"
  }
 },
 "nbformat": 4,
 "nbformat_minor": 5
}
