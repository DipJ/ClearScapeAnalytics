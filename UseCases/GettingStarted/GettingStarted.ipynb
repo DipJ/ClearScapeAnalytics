{
 "cells": [
  {
   "cell_type": "markdown",
   "id": "robust-width",
   "metadata": {},
   "source": [
    "<header style=\"padding:10px;background:#f9f9f9;border-top:3px solid #00b2b1\"><img id=\"Teradata-logo\" src=\"https://www.teradata.com/Teradata/Images/Rebrand/Teradata_logo-two_color.png\" alt=\"Teradata\" width=\"220\" align=\"right\" />\n",
    "</header>\n",
    "\n",
    "## Getting Started\n",
    "\n",
    "The Jupyter notebook consist of text describing what will happen on the next step and blocks of code. You press \"Shift + Enter\" to move from block to block, executing code as you go.  \n",
    "\n",
    "Below is a sample Jupyter screen. Steps in the image below:\n",
    "* step 1: You may have multiple tabs open for different note books.  One of those may be an index notebook\n",
    "* step 2: If not using the index, at the left is a file navigator of all notebooks and files in the jupyter notebook."
   ]
  },
  {
   "cell_type": "markdown",
   "id": "periodic-finance",
   "metadata": {},
   "source": [
    " ![](jupyter_window.jpg)"
   ]
  },
  {
   "cell_type": "markdown",
   "id": "commercial-engineering",
   "metadata": {},
   "source": [
    "* Step 3: The current step is marked with a blue line an an important set of brackets \\[ \\] to indicate if the step has been executed.  There are 3 possible conditions:\n",
    "\n",
    "      The following step hasn't been executed yet ... the brackets are empty  \n",
    "    ![](not_run_step.jpg) \n",
    "\n",
    "      This step is currently executing since there is an * between the brackets  \n",
    "    ![](running_step.jpg)\n",
    "\n",
    "      This step has been executed, as in this example, it was the 1st step and there is an output window below it.   \n",
    "   ![](completed_step.jpg)\n",
    "  \n",
    "* Step 4: In the lower left of the screen indicates what software executes the command blocks and the status of that command processing.  Example:\n",
    "      Teradata SQL | IDLE  or Teradata SQL | Running\n",
    ".\n",
    "* Step 5: In the upper right corner is also an indication of the command processor and a circle that is empty when the processing is idle and filled in when processing is active."
   ]
  },
  {
   "cell_type": "markdown",
   "id": "anticipated-welding",
   "metadata": {},
   "source": [
    "Below is a simple command window to connect to a database.  If the brackets \\[ \\] indicate it has been run before, you can clear any output window (error or success message) by selecting \"Edit/Clear Outputs\" at the top of the screen.  If you've already connected, you may not get a password prompt, so select \"Kernel/Restart Kernal and clear all outputs.   ... The password is: dbc"
   ]
  },
  {
   "cell_type": "code",
   "execution_count": null,
   "id": "later-hunger",
   "metadata": {},
   "outputs": [],
   "source": [
    "%connect local"
   ]
  },
  {
   "cell_type": "code",
   "execution_count": null,
   "id": "friendly-private",
   "metadata": {},
   "outputs": [],
   "source": []
  }
 ],
 "metadata": {
  "kernelspec": {
   "display_name": "Teradata SQL",
   "language": "Teradata SQL",
   "name": "teradatasql"
  },
  "language_info": {
   "codemirror_mode": "Teradata SQL",
   "file_extension": ".tdrs",
   "mimetype": "application/vnd.teradata.resultset",
   "name": "Teradata SQL",
   "nbconvert_exporter": "",
   "pygments_lexer": "",
   "version": "16.20"
  }
 },
 "nbformat": 4,
 "nbformat_minor": 5
}
