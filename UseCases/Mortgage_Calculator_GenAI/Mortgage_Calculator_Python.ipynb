{
 "cells": [
  {
   "cell_type": "markdown",
   "id": "38bc532d-c78c-4c89-b191-242da0733f39",
   "metadata": {},
   "source": [
    "<header style=\"padding:1px;background:#f9f9f9;border-top:3px solid #00b2b1\"><img id=\"Teradata-logo\" src=\"https://www.teradata.com/Teradata/Images/Rebrand/Teradata_logo-two_color.png\" alt=\"Teradata\" width=\"220\" align=\"right\" />\n",
    "\n",
    "<b style = 'font-size:28px;font-family:Arial;color:#E37C4D'>Mortgage Calculator chatbot using Generative AI with Vantage</b>\n",
    "</header>"
   ]
  },
  {
   "cell_type": "markdown",
   "id": "fff71661-19b4-423a-867a-7c815b064c81",
   "metadata": {},
   "source": [
    "<p style = 'font-size:18px;font-family:Arial;color:#E37C4D'><b>Introduction:</b></p>\n",
    "<p style = 'font-size:16px;font-family:Arial'>In the Mortgage Calculator chatbot using Generative AI demo, the combination of <b>RAG, Langchain, and LLM models</b> allows users to ask queries in layman's terms, retrieve relevant information from the Vantage tables, and generate accurate and concise answers based on the retrieved data. This integration of retrieval-based and generative-based approaches provides a powerful tool for extracting knowledge from structured sources and delivering user-friendly responses.</p>\n",
    "\n",
    "<p style = 'font-size:16px;font-family:Arial'>In this demo we will build Generative Question-Answering using LangChain, a powerful library for working with LLMs like GPT-3.5, GPT-4, Bloom, etc. and JumpStart in ClearScape notebooks, a system is built where users can ask business questions in natural English and receive answers with data drawn from the relevant databases.</p>\n",
    "\n",
    "\n",
    "<center><img src=\"images/header.png\" alt=\"mortgage calc\"  width=800 height=800/></center>\n",
    "\n",
    "<br>\n",
    "<p style = 'font-size:16px;font-family:Arial'>Before going any farther, let's get a better understanding of RAG, LangChain, and LLM.</p>\n",
    "\n",
    "<ul style = 'font-size:16px;font-family:Arial'><li> <b>Retrieval-Augmented Generation (RAG):</b></li></ul>\n",
    "<p style = 'font-size:16px;font-family:Arial'> &emsp;  &emsp;RAG is a framework that combines the strengths of retrieval-based and generative-based approaches in question-answering systems.It utilizes both a retrieval model and a generative model to generate high-quality answers to user queries. The retrieval model is responsible for retrieving relevant information from a knowledge source, such as a database or documents. The generative model then takes the retrieved information as input and generates concise and accurate answers in natural language.</p>\n",
    "\n",
    "<ul style = 'font-size:16px;font-family:Arial'><li> <b>Langchain:</b></li></ul>\n",
    "<p style = 'font-size:16px;font-family:Arial'> &emsp;  &emsp; Langchain is a language model developed for understanding and generating human-like text. It is designed to handle queries and requests expressed in everyday language, enabling users to ask questions in layman's terms. Langchain leverages state-of-the-art deep learning techniques to comprehend the semantics and context of user queries. It can process various types of queries, ranging from simple factual questions to complex and nuanced queries.</p>\n",
    "\n",
    "<ul style = 'font-size:16px;font-family:Arial'><li> <b>LLM Models (Large Language Models):</b></li></ul>\n",
    "<p style = 'font-size:16px;font-family:Arial'> &emsp;  &emsp; LLM models refer to the large-scale language models that are trained on vast amounts of text data.\n",
    "These models, such as GPT-3 (Generative Pre-trained Transformer 3),  GPT-3.5, GPT-4, HuggingFace BLOOM, LLaMA, Google's FLAN-T5, etc. are capable of generating human-like text responses. LLM models have been pre-trained on diverse sources of text data, enabling them to learn patterns, grammar, and context from a wide range of topics. They can be fine-tuned for specific tasks, such as question-answering, natural language understanding, and text generation.\n",
    "LLM models have achieved impressive results in various natural language processing tasks and are widely used in AI applications for generating human-like text responses.</p>"
   ]
  },
  {
   "cell_type": "markdown",
   "id": "2ca49b9d-df0b-400a-acf8-0252ab8a2618",
   "metadata": {},
   "source": [
    "<p style = 'font-size:16px;font-family:Arial;color:#E37C4D'><b>Steps in the analysis:</b></p>\n",
    "<ol style = 'font-size:16px;font-family:Arial'>\n",
    "    <li>Configuring the environment</li>\n",
    "    <li>Connect to Vantage</li>\n",
    "    <li>Data Exploration</li>\n",
    "    <li>Setup LLM</li>\n",
    "    <li>Launch the Chatbot</li>\n",
    "    <li>Cleanup</li>\n",
    "</ol>"
   ]
  },
  {
   "cell_type": "markdown",
   "id": "a833b5bf-74af-42be-8543-3782e1da95dc",
   "metadata": {},
   "source": [
    "<hr>\n",
    "<b style = 'font-size:28px;font-family:Arial;color:#E37C4D'>1. Configuring the environment</b>"
   ]
  },
  {
   "cell_type": "code",
   "execution_count": null,
   "id": "2f6027a7-888d-441f-abc7-a6ea1c45f0a6",
   "metadata": {},
   "outputs": [],
   "source": [
    "%%capture\n",
    "# '%%capture' suppresses the display of installation steps of the following packages\n",
    "!pip install -U teradataml==17.20.0.4\n",
    "!pip install -r requirements.txt --quiet"
   ]
  },
  {
   "cell_type": "code",
   "execution_count": null,
   "id": "98572dda-3bbf-4d09-8d97-212a6bc7b41b",
   "metadata": {},
   "outputs": [],
   "source": [
    "# !pip show teradataml"
   ]
  },
  {
   "cell_type": "markdown",
   "id": "ca97cdce-0d5e-4e54-b404-da7bae24ef51",
   "metadata": {},
   "source": [
    "<p style = 'font-size:16px;font-family:Arial'>\n",
    "    <i>The above statements will install the required libraries to run this demo. To gain access to installed libraries after running this, restart the kernel.</i></p>"
   ]
  },
  {
   "cell_type": "markdown",
   "id": "86b160ce-5ace-4116-86b6-394d6502553b",
   "metadata": {},
   "source": [
    "<p style = 'font-size:16px;font-family:Arial'><b>To restart the kernel, press the escape key first, then type 0 0.</b></p>"
   ]
  },
  {
   "cell_type": "markdown",
   "id": "61067c88-2e9a-4c92-985b-34dc4ab74a13",
   "metadata": {},
   "source": [
    "<p style = 'font-size:18px;font-family:Arial;color:#E37C4D'><b>1.1 Import the required libraries</b></p>\n",
    "\n",
    "<p style = 'font-size:16px;font-family:Arial'>Here, we import the required libraries, set environment variables and environment paths (if required).</p>"
   ]
  },
  {
   "cell_type": "code",
   "execution_count": null,
   "id": "ea50a4aa-1211-44fc-8166-317c35253207",
   "metadata": {},
   "outputs": [],
   "source": [
    "import os\n",
    "import pandas as pd\n",
    "\n",
    "# teradata lib\n",
    "from teradataml import *\n",
    "\n",
    "# LLM\n",
    "from langchain.agents import AgentType\n",
    "from langchain.prompts import ChatPromptTemplate\n",
    "from langchain.tools.render import format_tool_to_openai_function\n",
    "from langchain.agents.output_parsers import OpenAIFunctionsAgentOutputParser\n",
    "from langchain.prompts import MessagesPlaceholder\n",
    "from langchain.schema.runnable import RunnablePassthrough\n",
    "from langchain.agents.format_scratchpad import format_to_openai_functions\n",
    "from langchain.agents import create_sql_agent\n",
    "from langchain.agents.agent_toolkits import SQLDatabaseToolkit\n",
    "from langchain.sql_database import SQLDatabase\n",
    "from langchain.llms.openai import OpenAI\n",
    "from langchain.agents import AgentExecutor\n",
    "from langchain.chat_models import ChatOpenAI\n",
    "from langchain.tools import tool\n",
    "\n",
    "# Suppress warnings\n",
    "warnings.filterwarnings(\"ignore\")\n",
    "display.max_rows = 10"
   ]
  },
  {
   "cell_type": "markdown",
   "id": "a59718f8-7af4-4d1a-abc7-a860eb7cbae3",
   "metadata": {},
   "source": [
    "<hr>\n",
    "<b style = 'font-size:28px;font-family:Arial;color:#E37C4D'>2. Connection to Vantage and OpenAI</b>"
   ]
  },
  {
   "cell_type": "markdown",
   "id": "4153b889-0924-4e0f-acc8-6b0d440c77b3",
   "metadata": {},
   "source": [
    "<p style = 'font-size:18px;font-family:Arial;color:#E37C4D'><b>2.1 Get the OpenAI API key</b></p>"
   ]
  },
  {
   "cell_type": "markdown",
   "id": "73e10add-4b3c-4fc5-9359-0b44737bba0f",
   "metadata": {},
   "source": [
    "<p style = 'font-size:16px;font-family:Arial'>In order to utilize this demo, you will need an OpenAI API key. If you do not have one, please refer to the instructions provided in this guide to obtain your OpenAI API key: </p>\n",
    "\n",
    "[Openai_setup_api_key_guide](..//Openai_setup_api_key/Openai_setup_api_key.md)"
   ]
  },
  {
   "cell_type": "code",
   "execution_count": null,
   "id": "afd64269-9393-434a-ac26-0b8386fc0a38",
   "metadata": {},
   "outputs": [],
   "source": [
    "# enter your openai api key\n",
    "api_key = input(prompt=\"\\n Please Enter Openai api key: \")"
   ]
  },
  {
   "cell_type": "markdown",
   "id": "c60e4d23-3f17-4d43-b9b9-7e125f59b8c7",
   "metadata": {},
   "source": [
    "<p style = 'font-size:18px;font-family:Arial;color:#E37C4D'><b>2.2 Connect to Vantage</b></p>\n",
    "<p style = 'font-size:16px;font-family:Arial'>You will be prompted to provide the password. Enter your password, press the Enter key, and then use the down arrow to go to the next cell.</p>"
   ]
  },
  {
   "cell_type": "code",
   "execution_count": null,
   "id": "164cfc91-93ed-45b9-98ba-73b91a50c28b",
   "metadata": {},
   "outputs": [],
   "source": [
    "%run -i ../startup.ipynb\n",
    "eng = create_context(host = 'host.docker.internal', username='demo_user', password = password)\n",
    "print(eng)\n",
    "execute_sql('''SET query_band='DEMO= Mortgage_Calculator_Python.ipynb;' UPDATE FOR SESSION;''')"
   ]
  },
  {
   "cell_type": "markdown",
   "id": "b22db506-84a7-406b-be9f-9fe69d268ba4",
   "metadata": {},
   "source": [
    "<p style = 'font-size:16px;font-family:Arial'>Begin running steps with Shift + Enter keys. </p>"
   ]
  },
  {
   "cell_type": "markdown",
   "id": "8beec557-411b-4418-acf3-2f28d3c6beac",
   "metadata": {},
   "source": [
    "<p style = 'font-size:18px;font-family:Arial;color:#E37C4D'><b>2.3 Getting Data for This Demo</b></p>\n",
    "<p style = 'font-size:16px;font-family:Arial'>In the cell below, we are synthetically generating a few records for the Customer and Interest tables. This will allow us to test the functionality of our Chatbot with a small set of data before loading the entire dataset.For the Customer table, we are generating 5 records with randomized names, emails, and phone numbers, account details, etc. We are also assigning a unique customer ID to each record. For the Interest table, we are generating 5 records with randomized interest rates based on minimum and maximum of credit score. We are also assigning a unique interest ID to each record.By generating this sample data, we can quickly test the application's ability to display customer information and interests.</p>"
   ]
  },
  {
   "cell_type": "code",
   "execution_count": null,
   "id": "58c91d11-b431-4a0b-8344-a3a71f660bc6",
   "metadata": {},
   "outputs": [],
   "source": [
    "for t in [\"Customer\", \"Interest\"]:\n",
    "    try:\n",
    "        eng.execute(f\"DROP TABLE {t}\")\n",
    "    except:\n",
    "        pass"
   ]
  },
  {
   "cell_type": "code",
   "execution_count": null,
   "id": "f7293ee7-7056-4653-acd6-4c09d87a7c55",
   "metadata": {},
   "outputs": [],
   "source": [
    "query1 = '''\n",
    "CREATE TABLE Customer (\n",
    "    CustomerID INT,\n",
    "    FirstName VARCHAR(50),\n",
    "    LastName VARCHAR(50),\n",
    "    DateOfBirth DATE,\n",
    "    Gender CHAR(1),\n",
    "    Address VARCHAR(100),\n",
    "    City VARCHAR(50),\n",
    "    State VARCHAR(50),\n",
    "    Country VARCHAR(50),\n",
    "    Email VARCHAR(100),\n",
    "    PhoneNumber VARCHAR(15),\n",
    "    AccountNumber VARCHAR(20),\n",
    "    AccountType VARCHAR(20),\n",
    "    Balance DECIMAL(10, 2),\n",
    "    BranchID INT,\n",
    "    AccountStatus VARCHAR(20),\n",
    "    CreditScore INT,\n",
    "    Income DECIMAL(10, 2)\n",
    ");\n",
    "'''\n",
    "\n",
    "query2 = '''\n",
    "CREATE TABLE Interest (\n",
    "    ID INT,\n",
    "    MinCreditScore INT,\n",
    "    MaxCreditScore INT,\n",
    "    InterestRate DECIMAL(5, 2)\n",
    ");\n",
    "'''\n",
    "\n",
    "query3 = '''\n",
    "-- Insert sample data into the Interest table\n",
    "INSERT INTO Interest (ID, MinCreditScore, MaxCreditScore, InterestRate) VALUES (1,300, 579, 4.8);\n",
    "INSERT INTO Interest (ID, MinCreditScore, MaxCreditScore, InterestRate) VALUES (2,580,669, 4.3);\n",
    "INSERT INTO Interest (ID, MinCreditScore, MaxCreditScore, InterestRate) VALUES (3,670, 739, 3.9);\n",
    "INSERT INTO Interest (ID, MinCreditScore, MaxCreditScore, InterestRate) VALUES (4,740, 799, 3.5);\n",
    "INSERT INTO Interest (ID, MinCreditScore, MaxCreditScore, InterestRate) VALUES (5,800,850, 3.0);\n",
    "\n",
    "\n",
    "-- Insert sample data into the Customer table\n",
    "INSERT INTO Customer (CustomerID, FirstName, LastName, DateOfBirth, Gender, Address, City, State, Country, Email, PhoneNumber, AccountNumber, AccountType, Balance, BranchID, AccountStatus, CreditScore, Income)\n",
    "VALUES (1001, 'John', 'Doe', '1990-04-15', 'M', '123 Main St', 'Anytown', 'CA', 'USA', 'john.doe@example.com', '123-456-7890', 'ACCT123456', 'Savings', 5000.00, 1, 'Active', 720, 60000.00);\n",
    "INSERT INTO Customer (CustomerID, FirstName, LastName, DateOfBirth, Gender, Address, City, State, Country, Email, PhoneNumber, AccountNumber, AccountType, Balance, BranchID, AccountStatus, CreditScore, Income)\n",
    "VALUES (1002, 'Jane', 'Smith', '1985-09-22', 'F', '456 Elm St', 'Othertown', 'NY', 'USA', 'jane.smith@example.com', '987-654-3210', 'ACCT987654', 'Checking', 3500.50, 2, 'Active', 680, 55000.00);\n",
    "INSERT INTO Customer (CustomerID, FirstName, LastName, DateOfBirth, Gender, Address, City, State, Country, Email, PhoneNumber, AccountNumber, AccountType, Balance, BranchID, AccountStatus, CreditScore, Income)\n",
    "VALUES (1003, 'Mike', 'Johnson', '1992-12-05', 'M', '789 Oak St', 'Somewhere', 'TX', 'USA', 'mike.johnson@example.com', '555-123-7890', 'ACCT555123', 'Savings', 6200.75, 1, 'Active', 750, 75000.00);\n",
    "INSERT INTO Customer (CustomerID, FirstName, LastName, DateOfBirth, Gender, Address, City, State, Country, Email, PhoneNumber, AccountNumber, AccountType, Balance, BranchID, AccountStatus, CreditScore, Income)\n",
    "VALUES (1004, 'Sarah', 'Wilson', '1980-07-10', 'F', '101 Pine St', 'Anothercity', 'FL', 'USA', 'sarah.wilson@example.com', '321-555-9876', 'ACCT321555', 'Checking', 9000.25, 3, 'Active', 800, 80000.00);\n",
    "INSERT INTO Customer (CustomerID, FirstName, LastName, DateOfBirth, Gender, Address, City, State, Country, Email, PhoneNumber, AccountNumber, AccountType, Balance, BranchID, AccountStatus, CreditScore, Income)\n",
    "VALUES (1005, 'David', 'Lee', '1978-03-30', 'M', '222 Birch St', 'Yetanothercity', 'GA', 'USA', 'david.lee@example.com', '111-222-3333', 'ACCT111222', 'Savings', 4200.30, 2, 'Active', 700, 70000.00);\n",
    "'''\n",
    "\n",
    "execute_sql(query1)\n",
    "execute_sql(query2)\n",
    "execute_sql(query3)"
   ]
  },
  {
   "cell_type": "markdown",
   "id": "490f3fe2-ed63-4838-bb19-4c0d0157453d",
   "metadata": {},
   "source": [
    "<hr>\n",
    "<b style = 'font-size:28px;font-family:Arial;color:#E37C4D'>3. Data Exploration</b>\n",
    "\n",
    "<p style = 'font-size:16px;font-family:Arial'>The goal of the Mortgage Chatbot is to provide a user-friendly interface for individuals to quickly and easily find personalized mortgage information. The chatbot aims to streamline the mortgage process by allowing users to ask questions in natural language and receive accurate, concise answers and calculations. By integrating with Vantage, the chatbot can retrieve relevant data and perform calculations to provide users with tailored mortgage options, empowering them to make informed decisions and save time in their home buying journey. </p>\n",
    "\n",
    "<p style = 'font-size:16px;font-family:Arial'>In our database, we have two tables: the <b>customer</b> table and the <b>interest</b> table. The customer table contains personal and financial information, while the interest table has details on credit score ranges and their corresponding interest rates.</p>\n",
    "\n",
    "<p style = 'font-size:16px;font-family:Arial'>The data is synthetically generated, with a few rows of customer data, including name, address, email, account number, balance, income, and other relevant information.<p/>\n",
    "\n",
    "<p style = 'font-size:16px;font-family:Arial'>Each row represents a snapshot of data captured at a specific point in time, and each column represents a different variable. The input dataset is as follows:</p>\n",
    "<p style = 'font-size:16px;font-family:Arial'> \n",
    "<ol style = 'font-size:16px;font-family:Arial'>\n",
    "    <li><b>Customer data</b> i.e. firstname, lastname, date of birth, address, city, account number, Balance, branch id, account status, income etc.</li>\n",
    "    <li><b>Interest data</b>: min credit score, max credit score, interest rate.</li>\n",
    "</ol>\n",
    "</p>\n",
    "\n",
    "<p style = 'font-size:16px;font-family:Arial'><b><i>*Please scroll down to the end of the notebook for detailed column descriptions of the dataset.</i></b></p>"
   ]
  },
  {
   "cell_type": "markdown",
   "id": "eda8e565-b58b-4cc6-8d9c-50790ca3dcab",
   "metadata": {},
   "source": [
    "<p style = 'font-size:18px;font-family:Arial;color:#E37C4D'><b>3.1 Examine the Customer and Interest table</b></p>    \n",
    "<p style = 'font-size:16px;font-family:Arial'>Let's look at the sample data in Customer table.</p>"
   ]
  },
  {
   "cell_type": "code",
   "execution_count": null,
   "id": "4a9951cf-e2b0-40d7-9a8f-a01c7f48ef09",
   "metadata": {},
   "outputs": [],
   "source": [
    "tdf = DataFrame(in_schema(\"demo_user\", \"Customer\"))\n",
    "\n",
    "print(\"Data information: \\n\", tdf.shape)\n",
    "tdf.sort(\"CustomerID\")"
   ]
  },
  {
   "cell_type": "markdown",
   "id": "b0d6d954-b72f-41c3-9f8c-bc15cf74d672",
   "metadata": {},
   "source": [
    "<p style = 'font-size:16px;font-family:Arial'>There are 5 records in all, and there are 18 variables.</p>\n",
    "<p style = 'font-size:16px;font-family:Arial'>Now, let's look at the interest table.</p>"
   ]
  },
  {
   "cell_type": "code",
   "execution_count": null,
   "id": "7cad00db-08e5-40d3-a3d2-2be92908a95a",
   "metadata": {},
   "outputs": [],
   "source": [
    "tdf = DataFrame(in_schema(\"demo_user\", \"Interest\"))\n",
    "\n",
    "print(\"Data information: \\n\", tdf.shape)\n",
    "tdf"
   ]
  },
  {
   "cell_type": "markdown",
   "id": "027b6add-e7fa-4381-8d73-2c6a86daaf7f",
   "metadata": {},
   "source": [
    "<p style = 'font-size:16px;font-family:Arial'>Let's view that interest rate based on an individual's credit score.</p>"
   ]
  },
  {
   "cell_type": "code",
   "execution_count": null,
   "id": "72874be1-a21c-4bd3-bbf3-8d346d89a4e3",
   "metadata": {},
   "outputs": [],
   "source": [
    "q = \"\"\"\n",
    "    select c.FirstName, c.LastName, c.CreditScore, i.InterestRate from Customer c join Interest i on c.CreditScore between i.MinCreditScore and i.MaxCreditScore\n",
    "    where CustomerID=1001\n",
    "\"\"\"\n",
    "\n",
    "pd.read_sql(q, eng)"
   ]
  },
  {
   "cell_type": "markdown",
   "id": "89367d27-22ca-4a0e-b299-0f8e1a669157",
   "metadata": {},
   "source": [
    "<hr>\n",
    "<b style = 'font-size:28px;font-family:Arial;color:#E37C4D'>4. Setup LLM </b>\n",
    "<p style = 'font-size:18px;font-family:Arial;color:#E37C4D'><b>4.1 Connect to database using SQLAlchemy and Initialize the Large Language Model</b></p>    \n",
    "\n",
    "<p style = 'font-size:16px;font-family:Arial'>Under the hood, LangChain uses SQLAlchemy to connect to SQL database. The SQLDatabaseToolkit can therefore be used with any SQL dialect supported by SQLAlchemy, such as Teradata Vantage, MS SQL, MySQL, MariaDB, PostgreSQL, Oracle SQL, and SQLite. Please refer to the <a href=\"https://docs.sqlalchemy.org/en/20/\"> SQLAlchemy documentation</a> for more information about requirements for connecting to your database. The SQLDatabaseToolkit builds off of SQLDatabaseChain and is designed to answer more general questions about a database, as well as recover from errors.</p>\n",
    "\n",
    "<p style = 'font-size:16px;font-family:Arial'><b>Important:</b> The code below establishes a database connection for data sources and Large Language Models. Please note that the solution will only work if the database connection for your sources is defined in the cell below. In addition to this, to use OpenAI models, we have to set OpenAI API key to environment variable.</p>"
   ]
  },
  {
   "cell_type": "code",
   "execution_count": null,
   "id": "fbceafb4-793b-4d62-ab22-c9d49ac9a759",
   "metadata": {},
   "outputs": [],
   "source": [
    "# OpenAI API\n",
    "os.environ[\"OPENAI_API_KEY\"] = api_key\n",
    "\n",
    "db = SQLDatabase(eng)\n",
    "llm = OpenAI(temperature=0, model_name='gpt-3.5-turbo', verbose=False)"
   ]
  },
  {
   "cell_type": "markdown",
   "id": "b6983640-c595-4185-9390-76ad933f3870",
   "metadata": {},
   "source": [
    "<p style = 'font-size:16px;font-family:Arial'>In this demo we will be using OpenAI’s <code>gpt-3.5-turbo</code> model as LLM. To view list of available models on OpenAI <a href='https://platform.openai.com/docs/models'>click here</a></p>\n",
    "\n",
    "<p style = 'font-size:16px;font-family:Arial'>In OpenAI's language models, the <b>temperature</b> parameter controls the randomness of the generated text. It affects the diversity and creativity of the model's responses.</p>\n",
    "\n",
    "<p style = 'font-size:16px;font-family:Arial'>A higher temperature value, such as 1.0 or above, increases the randomness and diversity of the generated output. This can lead to more varied and surprising responses, but it may also result in less coherence and occasional nonsensical outputs.</p>\n",
    "\n",
    "<p style = 'font-size:16px;font-family:Arial'>On the other hand, a lower temperature value, such as 0.2 or below, reduces randomness and makes the model's output more focused and deterministic. The generated text is likely to be more conservative, sticking closely to patterns observed in the training data.</p>\n",
    "\n",
    "<p style = 'font-size:16px;font-family:Arial'>Choosing an appropriate temperature value depends on the desired output. Higher temperatures can be useful for creative tasks or brainstorming, while lower temperatures are preferred when you need more control over the output, such as when generating specific responses or following a particular style.</p>"
   ]
  },
  {
   "cell_type": "markdown",
   "id": "680228a2-3bfa-44f4-8a02-b73fa8bf8e95",
   "metadata": {},
   "source": [
    "<p style = 'font-size:18px;font-family:Arial;color:#E37C4D'><b>4.2 Setup SQLAgent</b></p> \n",
    "\n",
    "<p style = 'font-size:16px;font-family:Arial'>Before jumping into the chatbot, let us first understand what is an agent and why it might be preferred over a simple SQLChain.</p>\n",
    "\n",
    "<p style = 'font-size:16px;font-family:Arial'>An agent is a component that has access to a suite of tools, including a Large Language Model (LLM). Its distinguishing characteristic lies in its ability to make informed decisions based on user input, utilizing the appropriate tools until it achieves a satisfactory answer. For example in the context of text-to-SQL, the LangChain SQLAgent will not give up if there is an error in executing the generated SQL. Instead, it will attempt to recover by interpreting the error in a subsequent LLM call and rectify the issue. Therefore, in theory, SQLAgent should outperform SQLChain in productivity and accuracy.</p>\n",
    "    \n",
    "<p style = 'font-size:16px;font-family:Arial'>We can think of agents as enabling tools for LLMs. Like how a human would use a calculator for maths or perform a Google search for information — agents allow an LLM to do the same thing.</p>"
   ]
  },
  {
   "cell_type": "code",
   "execution_count": null,
   "id": "1fbe3f75-c7ff-4142-9848-7aa89530a6ce",
   "metadata": {},
   "outputs": [],
   "source": [
    "# define the tool\n",
    "@tool\n",
    "def generate_sql(query: str) -> str:\n",
    "    \"\"\"Given an input question, first create a syntactically correct query to run, then look at the results of the query and return the answer.\"\"\"\n",
    "    agent_executor = create_sql_agent(\n",
    "        llm=llm,\n",
    "        toolkit=SQLDatabaseToolkit(db=db, llm=llm),\n",
    "        verbose=True,\n",
    "        agent_type=AgentType.ZERO_SHOT_REACT_DESCRIPTION,\n",
    "    )\n",
    "    return agent_executor.run(query)"
   ]
  },
  {
   "cell_type": "markdown",
   "id": "e97e139d-d129-44c2-bf42-181d7b928164",
   "metadata": {},
   "source": [
    "<p style = 'font-size:16px;font-family:Arial'>In the code above, we're initializing SQLAgent by passing in LLM, SQLDatabaseToolkit, database, and agent type as ZeroShotReactAgent. Agents use an LLM to determine the best course of action and execute it. An action can either be using a tool and observing its output, or responding to the user. <a href='https://python.langchain.com/docs/modules/agents/agent_types/'>Here</a> are the agents available in LangChain.</p>\n",
    "\n",
    "<p style = 'font-size:16px;font-family:Arial'>The agent used here is a <b>zero-shot-react-description</b> agent. Zero-shot means the agent functions on the current action only — it has no memory. It uses the <a href='https://arxiv.org/pdf/2210.03629.pdf'>ReAct</a> framework to decide which tool to use, based solely on the tool’s description.</p>"
   ]
  },
  {
   "cell_type": "markdown",
   "id": "f923edc3-4242-4ab4-8512-a7d7353b7210",
   "metadata": {},
   "source": [
    "<hr>\n",
    "<b style = 'font-size:28px;font-family:Arial;color:#E37C4D'>5. Launch the Chatbot</b>\n",
    "\n",
    "<p style = 'font-size:16px;font-family:Arial'>In this demo we are using ChatOpenAI model with Memory. This advanced technology allows us to store and recall conversations, enabling our chatbot to provide more personalized and informed responses.As a mortgage advisor, our chatbot is trained to assist with a wide range of loan-related inquiries. Whether you're looking to purchase a new home, refinance an existing loan, or simply have questions about the mortgage process, our chatbot is here to help.To begin, we'll set the prompt for our chatbot to work as a mortgage advisor. This will enable it to provide tailored advice and guidance based on your unique needs and circumstances.</p>"
   ]
  },
  {
   "cell_type": "markdown",
   "id": "4adb0962-73b3-4f07-abcb-377b2e382458",
   "metadata": {},
   "source": [
    "<div class=\"alert alert-block alert-info\">\n",
    "    <p style = 'font-size:16px;font-family:Arial'><i><b>Note:</b>Please note that our chatbot is specifically designed to address questions related to mortgage loans. If you have a question outside of this scope, we kindly ask that you refrain from asking it. This will help us provide you with the most accurate and efficient assistance possible.</i></p>\n",
    "</div>\n"
   ]
  },
  {
   "cell_type": "code",
   "execution_count": null,
   "id": "36e35da2-17cd-4bc9-92f3-54aa70c212b9",
   "metadata": {},
   "outputs": [],
   "source": [
    "from langchain.memory import ConversationBufferMemory, ConversationBufferWindowMemory\n",
    "from langchain.memory import ConversationSummaryMemory, ChatMessageHistory, ConversationSummaryBufferMemory\n",
    "\n",
    "# Current user\n",
    "CustomerID = 1001\n",
    "\n",
    "tools = [generate_sql]\n",
    "functions = [format_tool_to_openai_function(f) for f in tools]\n",
    "model = ChatOpenAI(temperature=0, streaming=True).bind(functions=functions)\n",
    "# memory = ConversationBufferMemory(return_messages=True, memory_key=\"chat_history\")\n",
    "# memory = ConversationSummaryMemory(return_messages=True, memory_key=\"chat_history\", llm=llm)\n",
    "memory = ConversationSummaryBufferMemory(return_messages=True, memory_key=\"chat_history\", llm=llm)\n",
    "\n",
    "prompt = ChatPromptTemplate.from_messages(\n",
    "    [\n",
    "        (\n",
    "            \"system\",\n",
    "            \"\"\"You will play the role of a mortgage adviser working with a client to create a mortgage quote. I will play the role of the client.\"\"\",\n",
    "        ),\n",
    "        (\n",
    "            \"system\",\n",
    "            \"\"\"As a mortgage advisor for the bank you have direct access to the banks data for me\n",
    "            generate the SQL to get the details  like Balance, Income, CreditScore, etc. if user don't know the answer or Do not enter the answer.\n",
    "            automatically call the 'generate_sql' function to retrieve the answer from the database\"\"\",\n",
    "        ),\n",
    "        (\n",
    "            \"system\",\n",
    "            \"\"\"This information should compliment any answers you gain from the me. \n",
    "            Ask a series of questions, no more than eight, sequentially - pausing between each question to wait for a response before proceeding to the next. \"\"\",\n",
    "        ),\n",
    "        (\n",
    "            \"system\",\n",
    "            \"\"\"And then follow this format for each subsequent question. Again, wait for my response before moving on to the next. \"\"\",\n",
    "        ),\n",
    "        (\n",
    "            \"system\",\n",
    "            \"\"\"Start the chat with greeting and ask the questions to user as mentioned below. Greet user by starting the message: \n",
    "            'Welcome to Mortgage Chatbot! I'm here to help you navigate the world of loans and mortgages. Whether you're looking to purchase a new home, refinance an existing loan, or simply have questions about the mortgage process, \n",
    "            I'm here to provide you with expert advice and answers. Let's get started!' \"\"\",\n",
    "        ),\n",
    "        (\n",
    "            \"system\",\n",
    "            \"\"\"For example:\n",
    "            First question: What is your total annual income?\n",
    "            Second question: Do you have any additional income?\"\"\",\n",
    "        ),\n",
    "         (\n",
    "            \"system\",\n",
    "            \"\"\"Total gross income of user is, annual income plus additional sources of income if user have' \"\"\",\n",
    "        ),\n",
    "         (\n",
    "            \"system\",\n",
    "            \"\"\"Do not ask same question more then 1 time, Give user to Rate of Interest based on his/her credit score by fetching it from bank database\"\"\",\n",
    "        ),\n",
    "        (\n",
    "            \"system\",\n",
    "            \"\"\"Examples of question and expected SQLQuery\n",
    "            Question: What will be the InterestRate for customer whose CustomerID=1\n",
    "            SQLQuery: SELECT i.InterestRate from Customer c join Interest i on c.CreditScore between i.MinCreditScore and i.MaxCreditScore where CustomerID=1\"\"\",\n",
    "        ),\n",
    "        (\n",
    "            \"system\",\n",
    "            \"\"\"Calculate the maximum house price and monthly repayment for principal and interest based on a 5% APR. Assume income tax is 25% and \n",
    "            that the bank will lend no more than an 80% LTV.\"\"\",\n",
    "        ),\n",
    "        (\n",
    "            \"system\",\n",
    "            \"\"\"\"Provide a succinct summary paragraph of these details as a response to the client but don't show the method of calculation. Follow with a formatted table of monthly amounts \n",
    "            (gross income, tax obligation, mortgage obligation, expenses, remaining disposable income)\"\"\",\n",
    "        ),\n",
    "        (\n",
    "            \"system\",\n",
    "            f\"\"\"If the user fails to provide a response or says 'I don't know' for a question, automatically call the 'generate_sql' function to retrieve the answer from the database. The function should return the relevant answer for the question asked.\n",
    "            current user: {CustomerID}\"\"\",\n",
    "        ),\n",
    "        MessagesPlaceholder(variable_name=\"chat_history\"),\n",
    "        (\"user\", \"{input}\"),\n",
    "        MessagesPlaceholder(variable_name=\"agent_scratchpad\"),\n",
    "    ]\n",
    ")\n",
    "\n",
    "chain = (\n",
    "    RunnablePassthrough.assign(\n",
    "        agent_scratchpad=lambda x: format_to_openai_functions(x[\"intermediate_steps\"])\n",
    "    )\n",
    "    | prompt\n",
    "    | model\n",
    "    | OpenAIFunctionsAgentOutputParser()\n",
    ")\n",
    "\n",
    "agent_executor = AgentExecutor(agent=chain, tools=tools, verbose=False, memory=memory)"
   ]
  },
  {
   "cell_type": "markdown",
   "id": "6228de91-fc5f-4d8e-a524-ed98215f5519",
   "metadata": {},
   "source": [
    "<div class=\"alert alert-block alert-info\">\n",
    "    <p style = 'font-size:16px;font-family:Arial'><i><b>Note:</b>Chatbot is accessing multiple components, including databases and LLMs. This may cause a brief delay in responses. Your patience is appreciated.</i></p>\n",
    "</div>"
   ]
  },
  {
   "cell_type": "code",
   "execution_count": null,
   "id": "7df82c07-05d0-4630-ba74-7bd6b77955a0",
   "metadata": {},
   "outputs": [],
   "source": [
    "import panel as pn\n",
    "\n",
    "pn.extension(design=\"material\")\n",
    "\n",
    "# clear the memory\n",
    "memory.clear()\n",
    "\n",
    "def callback(contents, user, instance):\n",
    "    return agent_executor.invoke({\"input\": contents})[\"output\"]\n",
    "\n",
    "\n",
    "pn.chat.ChatInterface(callback=callback).servable()"
   ]
  },
  {
   "cell_type": "markdown",
   "id": "50b8b817-c0ff-42b3-a651-c8268ac40942",
   "metadata": {},
   "source": [
    "<hr>\n",
    "<b style = 'font-size:28px;font-family:Arial;color:#E37C4D'>5. Cleanup</b>\n",
    "<p style = 'font-size:18px;font-family:Arial;color:#E37C4D'><b>Work Tables</b></p>\n",
    "<p style = 'font-size:16px;font-family:Arial'>Cleanup work tables to prevent errors next time.</p>"
   ]
  },
  {
   "cell_type": "markdown",
   "id": "0aacb87c-0d81-40f0-8754-608d47e602cc",
   "metadata": {},
   "source": [
    "<p style = 'font-size:18px;font-family:Arial;color:#E37C4D'> <b>Databases and Tables </b></p>\n",
    "<p style = 'font-size:16px;font-family:Arial'>The following code will clean up tables and databases created above.</p>"
   ]
  },
  {
   "cell_type": "code",
   "execution_count": null,
   "id": "7b398148-9486-4535-8c06-d3f77669bbdc",
   "metadata": {},
   "outputs": [],
   "source": [
    "for t in [\"Customer\", \"Interest\"]:\n",
    "    try:\n",
    "        eng.execute(f\"DROP TABLE {t}\")\n",
    "    except:\n",
    "        pass"
   ]
  },
  {
   "cell_type": "code",
   "execution_count": null,
   "id": "73ef4cbe-1beb-4c65-ac60-ffd6250668a4",
   "metadata": {},
   "outputs": [],
   "source": [
    "remove_context()"
   ]
  },
  {
   "cell_type": "markdown",
   "id": "ae971f90-bef1-4228-bcbf-c333e9843284",
   "metadata": {},
   "source": [
    "<b style = 'font-size:28px;font-family:Arial;color:#E37C4D'>Dataset:</b>\n",
    "\n",
    "**Customer Table**\n",
    "- `CustomerID`: Unique row customer id\n",
    "- `FirstName`: customer first name\n",
    "- `LastName`: customer last name\n",
    "- `DateOfBirth`: customer birth date\n",
    "- `Gender` : customer gender (categorical: \"M\",\"F\",)\n",
    "- `Address` : customer full address\n",
    "- `City`: city of customer (categorical: 'Almond','Geneva')\n",
    "- `State`: state of customer (categorical: 'NY','TX')\n",
    "- `Country`: country of customer (categorical: 'USA')\n",
    "- `Email`: customer email\n",
    "- `PhoneNumber`: customer phone number\n",
    "- `AccountNumber`: customer account number\n",
    "- `AccountType`: customer account type\n",
    "- `AccountStatus`: customer account status (categorical: 'Active','Inactive')\n",
    "- `Balance`: account balance, in dollar (numeric)\n",
    "- `BranchID`: branch id\n",
    "- `CreditScore`: customer credit score\n",
    "- `Income`: customer's monthly income, in dollar (numeric)\n",
    "\n",
    "**Interest Table**\n",
    "- `ID`: Unique row id\n",
    "- `MinCreditScore`: min credi score\n",
    "- `MaxCreditScore`: max credi score\n",
    "- `InterestRate`: rate if interest\n",
    "\n",
    "<p style = 'font-size:16px;font-family:Arial;color:#E37C4D'><b>Links:</b></p>\n",
    "<ul style = 'font-size:16px;font-family:Arial'>\n",
    "    <li>Teradataml Python reference: <a href = 'https://docs.teradata.com/search/all?query=Python+Package+User+Guide&content-lang=en-US'>here</a></li>\n",
    "    <li>Langchain Python reference: <a href='https://python.langchain.com/docs/get_started/introduction.html'>here</a></li>\n",
    "</ul>"
   ]
  },
  {
   "cell_type": "markdown",
   "id": "e5463848-592f-4321-b852-287e133872dd",
   "metadata": {},
   "source": [
    "<footer style=\"padding:10px;background:#f9f9f9;border-bottom:3px solid #394851\">Copyright © Teradata Corporation - 2023. All Rights Reserved.</footer>"
   ]
  }
 ],
 "metadata": {
  "kernelspec": {
   "display_name": "Python 3 (ipykernel)",
   "language": "python",
   "name": "python3"
  },
  "language_info": {
   "codemirror_mode": {
    "name": "ipython",
    "version": 3
   },
   "file_extension": ".py",
   "mimetype": "text/x-python",
   "name": "python",
   "nbconvert_exporter": "python",
   "pygments_lexer": "ipython3",
   "version": "3.9.10"
  }
 },
 "nbformat": 4,
 "nbformat_minor": 5
}
