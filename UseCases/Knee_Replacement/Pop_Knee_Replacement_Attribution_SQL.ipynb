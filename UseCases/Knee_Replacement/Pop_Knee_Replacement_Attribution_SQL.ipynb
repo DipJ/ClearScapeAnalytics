{
 "cells": [
  {
   "cell_type": "markdown",
   "metadata": {},
   "source": [
    "<header>\n",
    "   <p  style='font-size:36px;font-family:Arial; color:#F0F0F0; background-color: #00233c; padding-left: 20pt; padding-top: 20pt;padding-bottom: 10pt; padding-right: 20pt;'>\n",
    "       Total Knee Replacement: Attribution Analysis\n",
    "  <br>\n",
    "       <img id=\"teradata-logo\" src=\"https://storage.googleapis.com/clearscape_analytics_demo_data/DEMO_Logo/teradata.svg\" alt=\"Teradata\" style=\"width: 125px; height: auto; margin-top: 20pt;\">\n",
    "    </p>\n",
    "</header>\n",
    "<p style = 'font-size:20px;font-family:Arial;color:#00233C'><b>Introduction</b></p>\n"
   ]
  },
  {
   "cell_type": "markdown",
   "metadata": {},
   "source": [
    "<p style = 'font-size:20px;font-family:Arial;color:#00233C'><b>Attribution</b></p>\n",
    "\n",
    "<p style = 'font-size:16px;font-family:Arial;color:#00233C'>Attribution is the process of assigning a value to specific activities that sequentially result in an event. Which event contributes how much to the final outcome is what attribution determines. The Attribution function is used in web page analysis, where it lets companies assign weights to pages before certain events, such as buying a product. The goal of attribution is to determine which channels and messages had the greatest impact on the decision to convert or take the desired next step. \n",
    "There are several popular attribution models used by marketers today, such as multi-touch attribution, lift studies, time decay, and more.</p>\n",
    "\n",
    "<p style = 'font-size:16px;font-family:Arial;color:#00233C'>In this script, we will apply the `ATTRIBUTION` function on a pathing dataset using all four prepared attribution models that define the weight of events in a sequence. Below are the types of Attribution models we will be using.</p>\n",
    "\n",
    "\n",
    "\n",
    " <table style = 'font-size:16px;font-family:Arial;color:#00233C'>\n",
    "  <tr>\n",
    "    <th>Distribution Model</th>\n",
    "    <th>Description</th>\n",
    "  </tr>\n",
    "  <tr>\n",
    "    <td>'LAST_CLICK'</td>\n",
    "    <td>Conversion event is attributed entirely to most recent attributable event.</td>  \n",
    "  </tr>\n",
    "  <tr>\n",
    "    <td>'FIRST_CLICK'</td>\n",
    "    <td>Conversion event is attributed entirely to first attributable event.</td>  \n",
    "  </tr>\n",
    "  <tr>\n",
    "    <td>'UNIFORM'</td>\n",
    "    <td>Conversion event is attributed uniformly to preceding attributable events.</td>  \n",
    "  </tr>\n",
    "  <tr>\n",
    "    <td>'EXPONENTIAL'</td>\n",
    "    <td>Conversion event is attributed exponentially to preceding attributable events (the more recent the event, the higher the attribution).</td>  \n",
    "  </tr>\n",
    "</table>\n"
   ]
  },
  {
   "cell_type": "markdown",
   "metadata": {},
   "source": [
    "<hr style=\"height:2px;border:none;background-color:#00233C;\">\n",
    "<p style = 'font-size:20px;font-family:Arial;color:#00233C'><b>1. Connect to Vantage </b></p>\n",
    "<p style = 'font-size:16px;font-family:Arial;color:#00233C'>You will be prompted to provide the password. Enter your password, press Enter, then use down arrow to go to next cell.</p>"
   ]
  },
  {
   "cell_type": "code",
   "execution_count": 1,
   "metadata": {
    "tags": []
   },
   "outputs": [
    {
     "name": "stdin",
     "output_type": "stream",
     "text": [
      "Password: ········\n"
     ]
    },
    {
     "name": "stdout",
     "output_type": "stream",
     "text": [
      "Success: 'local' connection established and activated for user 'demo_user', with default database 'demo_user'\n"
     ]
    }
   ],
   "source": [
    "%connect local, hidewarnings=true"
   ]
  },
  {
   "cell_type": "markdown",
   "metadata": {},
   "source": [
    "<p style = 'font-size:16px;font-family:Arial;color:#00233C'>Setup for execution of notebook. Begin running steps with Shift + Enter keys.</p>\n"
   ]
  },
  {
   "cell_type": "code",
   "execution_count": 2,
   "metadata": {},
   "outputs": [
    {
     "data": {
      "text/plain": [
       "Success: 1 rows affected"
      ]
     },
     "execution_count": 2,
     "metadata": {
      "application/vnd.teradata.resultset": ""
     },
     "output_type": "execute_result"
    }
   ],
   "source": [
    "Set query_band='DEMO=Knee_Replacement_Attribution_SQL.ipynb;' update for session;"
   ]
  },
  {
   "cell_type": "markdown",
   "metadata": {},
   "source": [
    "<hr style=\"height:2px;border:none;background-color:#00233C;\">\n",
    "<p style = 'font-size:20px;font-family:Arial;color:#00233C'><b>2. Getting Data for This Demo</b></p>\n",
    "<p style = 'font-size:16px;font-family:Arial;color:#00233C'>We have provided data for this demo on cloud storage.  You have the option of either running the demo using foreign tables to access the data without using any storage on your environment or downloading the data to local storage which may yield somewhat faster execution, but there could be considerations of available storage.  There are two statements in the following cell, and one is commented out.  You may switch which mode you choose by changing the comment string.</p>\n"
   ]
  },
  {
   "cell_type": "code",
   "execution_count": 3,
   "metadata": {},
   "outputs": [
    {
     "data": {
      "text/plain": [
       "Success: 0 rows affected"
      ]
     },
     "execution_count": 3,
     "metadata": {
      "application/vnd.teradata.resultset": ""
     },
     "output_type": "execute_result"
    },
    {
     "data": {
      "text/plain": [
       "Success: 0 rows affected"
      ]
     },
     "execution_count": 3,
     "metadata": {
      "application/vnd.teradata.resultset": ""
     },
     "output_type": "execute_result"
    },
    {
     "data": {
      "application/vnd.teradata.resultset": "\"Message\"\n\"That ran for   0:00:13.93 with 4 statements and 0 errors. \"",
      "text/html": [
       "<div class = \"td-resultset-table-div\" style = \"max-height: 100%; overflow-y: auto\">\n",
       "      <table class=\"tdhistory10857\"><style>\n",
       "      table.tdhistory10857 { display: block !important; min-height: 105px !important; overflow: auto !important; height: 105px !important; width: 100% !important; border: 1px solid rgb(207, 207, 207) !important; border-collapse: collapse !important; ; color: var(--jp-ui-font-color1) !important; }\n",
       "      th.tdhistory10857 { border: 1px solid rgb(198,198,198) !important; border-collapse: collapse !important; ; padding: 2px 5px !important; ; font-size: 13px !important; ; text-align: center !important; white-space: normal !important; color: var(--jp-ui-font-color1) !important; }\n",
       "      th.tdhistory10857:last-child { text-align: left !important; }\n",
       "      tbody.tdhistory10857 tr:nth-child(even) { background: rgba(243, 243, 243, 0.75) !important; }\n",
       "      tbody.tdhistory10857 tr:nth-child(odd) { background: var(--jp-ui-inverse-font-color1) !important; }\n",
       "      td.tdhistory10857 { border: 1px solid rgb(207, 207, 207) !important; border-collapse: collapse !important; ; padding: 2px 5px !important; ; font-size: 13px !important; ; text-align: left !important;          white-space: nowrap !important; overflow:hidden !important; text-overflow:ellipsis !important;; }\n",
       "    </style><thead><tr style= \"background: rgba(243, 243, 243, 0.75)\"><th class=\"tdhistory10857\"></th><th class=\"tdhistory10857\">Message</th></tr></thead><tbody class=\"tdhistory10857 resultset-body\"><tr><th class=\"tdhistory10857\" style= \"background: rgba(243, 243, 243, 0.75)\">1</th><td class=\"tdhistory10857\">That ran for   0:00:13.93 with 4 statements and 0 errors. </td></tr></tbody></table></div>"
      ]
     },
     "execution_count": 3,
     "metadata": {
      "application/vnd.teradata.resultset": "{\"resultSetID\":\"/home/jovyan/JupyterLabRoot/Teradata/Resultsets/2023.12.21_07.41.16.261_UTC\",\"historyID\":357,\"chunkID\":\"00001\",\"sessionid\":\"\",\"portnum\":\"\",\"dockermode\":\"docker\",\"totalRowCount\":1,\"chunkCount\":0,\"rowLimit\":0,\"columnMetadata\":[{\"columnName\":\"Message\",\"columnTypeName\":\"VARCHAR\",\"length\":150,\"scale\":150}]}"
     },
     "output_type": "execute_result"
    }
   ],
   "source": [
    "call get_data('DEMO_KneeReplacement_cloud'); ---takes about 10 seconds\n",
    "---call get_data('DEMO_KneeReplacement_local'); ---takes about 30 seconds"
   ]
  },
  {
   "cell_type": "markdown",
   "metadata": {},
   "source": [
    "<p style = 'font-size:16px;font-family:Arial;color:#00233C'>Optional step – if you want to see status of databases/tables created and space used.</p>\n"
   ]
  },
  {
   "cell_type": "code",
   "execution_count": 4,
   "metadata": {
    "tags": []
   },
   "outputs": [
    {
     "data": {
      "text/plain": [
       "Success: 0 rows affected"
      ]
     },
     "execution_count": 4,
     "metadata": {
      "application/vnd.teradata.resultset": ""
     },
     "output_type": "execute_result"
    },
    {
     "data": {
      "text/plain": [
       "Success: 0 rows affected"
      ]
     },
     "execution_count": 4,
     "metadata": {
      "application/vnd.teradata.resultset": ""
     },
     "output_type": "execute_result"
    },
    {
     "data": {
      "application/vnd.teradata.resultset": "\"Space_Report\"\n\"You have:  #databases=3 #tables=53 #views=4  You have used 15.0 MB of 27,890.4 MB available - 0.1%  ... Space Usage OK\"\n\" \"\n\"   Database Name                  #tables  #views     Avail MB      Used MB\"\n\"   demo_user                           52       2  27,880.3 MB      14.8 MB \"\n\"   DEMO_GraphAnalysis                   0       1       0.0 MB       0.0 MB \"\n\"   DEMO_GraphAnalysis_db                1       0      10.1 MB       0.2 MB \"\n\"   DEMO_KneeReplacement                 0       1       0.0 MB       0.0 MB \"",
      "text/html": [
       "<div class = \"td-resultset-table-div\" style = \"max-height: 100%; overflow-y: auto\">\n",
       "      <table class=\"tdhistory672933\"><style>\n",
       "      table.tdhistory672933 { display: block !important; min-height: 231px !important; overflow: auto !important; height: 231px !important; width: 100% !important; border: 1px solid rgb(207, 207, 207) !important; border-collapse: collapse !important; ; color: var(--jp-ui-font-color1) !important; }\n",
       "      th.tdhistory672933 { border: 1px solid rgb(198,198,198) !important; border-collapse: collapse !important; ; padding: 2px 5px !important; ; font-size: 13px !important; ; text-align: center !important; white-space: normal !important; color: var(--jp-ui-font-color1) !important; }\n",
       "      th.tdhistory672933:last-child { text-align: left !important; }\n",
       "      tbody.tdhistory672933 tr:nth-child(even) { background: rgba(243, 243, 243, 0.75) !important; }\n",
       "      tbody.tdhistory672933 tr:nth-child(odd) { background: var(--jp-ui-inverse-font-color1) !important; }\n",
       "      td.tdhistory672933 { border: 1px solid rgb(207, 207, 207) !important; border-collapse: collapse !important; ; padding: 2px 5px !important; ; font-size: 13px !important; ; text-align: left !important;          white-space: nowrap !important; overflow:hidden !important; text-overflow:ellipsis !important;; }\n",
       "    </style><thead><tr style= \"background: rgba(243, 243, 243, 0.75)\"><th class=\"tdhistory672933\"></th><th class=\"tdhistory672933\">Space_Report</th></tr></thead><tbody class=\"tdhistory672933 resultset-body\"><tr><th class=\"tdhistory672933\" style= \"background: rgba(243, 243, 243, 0.75)\">1</th><td class=\"tdhistory672933\">You have:  #databases=3 #tables=53 #views=4  You have used 15.0 MB of 27,890.4 MB available - 0.1%  ... Space Usage OK</td></tr><tr><th class=\"tdhistory672933\" style= \"background: rgba(243, 243, 243, 0.75)\">2</th><td class=\"tdhistory672933\"> </td></tr><tr><th class=\"tdhistory672933\" style= \"background: rgba(243, 243, 243, 0.75)\">3</th><td class=\"tdhistory672933\">   Database Name                  #tables  #views     Avail MB      Used MB</td></tr><tr><th class=\"tdhistory672933\" style= \"background: rgba(243, 243, 243, 0.75)\">4</th><td class=\"tdhistory672933\">   demo_user                           52       2  27,880.3 MB      14.8 MB </td></tr><tr><th class=\"tdhistory672933\" style= \"background: rgba(243, 243, 243, 0.75)\">5</th><td class=\"tdhistory672933\">   DEMO_GraphAnalysis                   0       1       0.0 MB       0.0 MB </td></tr><tr><th class=\"tdhistory672933\" style= \"background: rgba(243, 243, 243, 0.75)\">6</th><td class=\"tdhistory672933\">   DEMO_GraphAnalysis_db                1       0      10.1 MB       0.2 MB </td></tr><tr><th class=\"tdhistory672933\" style= \"background: rgba(243, 243, 243, 0.75)\">7</th><td class=\"tdhistory672933\">   DEMO_KneeReplacement                 0       1       0.0 MB       0.0 MB </td></tr></tbody></table></div>"
      ]
     },
     "execution_count": 4,
     "metadata": {
      "application/vnd.teradata.resultset": "{\"resultSetID\":\"/home/jovyan/JupyterLabRoot/Teradata/Resultsets/2023.12.21_07.41.18.141_UTC\",\"historyID\":358,\"chunkID\":\"00001\",\"sessionid\":\"\",\"portnum\":\"\",\"dockermode\":\"docker\",\"totalRowCount\":7,\"chunkCount\":0,\"rowLimit\":0,\"columnMetadata\":[{\"columnName\":\"Space_Report\",\"columnTypeName\":\"VARCHAR\",\"length\":150,\"scale\":150}]}"
     },
     "output_type": "execute_result"
    }
   ],
   "source": [
    "call space_report();  -- optional, takes about 10 seconds"
   ]
  },
  {
   "cell_type": "markdown",
   "metadata": {},
   "source": [
    "<hr style=\"height:2px;border:none;background-color:#00233C;\">\n",
    "<p style = 'font-size:20px;font-family:Arial;color:#00233C'><b>3. Create Some Attribution Models</b></p>\n",
    "\n",
    "<p style = 'font-size:16px;font-family:Arial;color:#00233C'>In order to apply the `ATTRIBUTION` function on a pathing dataset, first we need to specify an attribution model. An attribution model defines how we are going to weight the activities that precede an event. </p>\n",
    "\n",
    "<p style = 'font-size:16px;font-family:Arial;color:#00233C'>There are five model types that we can use: \n",
    "<li style = 'font-size:16px;font-family:Arial;color:#00233C'>*first event model*: the first event gets 100% of the weight </li>\n",
    "<li style = 'font-size:16px;font-family:Arial;color:#00233C'>*last event model*: the last event gets 100% of the weight </li>\n",
    "<li style = 'font-size:16px;font-family:Arial;color:#00233C'>*uniform event model*: all events are given equal weight  </li>\n",
    "<li style = 'font-size:16px;font-family:Arial;color:#00233C'>*exponential model*: each subsequent event in a sequence is given a higher weight than the preceding activity</li>\n",
    "<li style = 'font-size:16px;font-family:Arial;color:#00233C'>*weighted model*: attributed to preceding attributable events with weights specified by PARAMETERS.SEGMENT_SECONDS (specified by 'rows:K&seconds:K' in WindowSize syntax element)</li></p>\n",
    "\n",
    "<p style = 'font-size:16px;font-family:Arial;color:#00233C'>The total weight of all activities should equal to 1 (100%). Below are some Create table and Insert statements which will create model tables which will be used in the Attribution function.</p>"
   ]
  },
  {
   "cell_type": "markdown",
   "metadata": {},
   "source": [
    "<p style = 'font-size:18px;font-family:Arial;color:#00233C'> <b> Model 1: First Click Model</b></p>"
   ]
  },
  {
   "cell_type": "code",
   "execution_count": 5,
   "metadata": {},
   "outputs": [
    {
     "data": {
      "text/plain": [
       "Success: 0 rows affected"
      ]
     },
     "execution_count": 5,
     "metadata": {
      "application/vnd.teradata.resultset": ""
     },
     "output_type": "execute_result"
    }
   ],
   "source": [
    "CREATE TABLE attribution_model_first (\n",
    "    id INT, \n",
    "    model VARCHAR(100) \n",
    "); "
   ]
  },
  {
   "cell_type": "code",
   "execution_count": 6,
   "metadata": {},
   "outputs": [
    {
     "data": {
      "text/plain": [
       "Success: 1 rows affected"
      ]
     },
     "execution_count": 6,
     "metadata": {
      "application/vnd.teradata.resultset": ""
     },
     "output_type": "execute_result"
    },
    {
     "data": {
      "text/plain": [
       "Success: 1 rows affected"
      ]
     },
     "execution_count": 6,
     "metadata": {
      "application/vnd.teradata.resultset": ""
     },
     "output_type": "execute_result"
    }
   ],
   "source": [
    "INSERT INTO attribution_model_first VALUES (0,'EVENT_REGULAR'); \n",
    "INSERT INTO attribution_model_first VALUES (1, 'ALL:1.0:FIRST_CLICK:NA'); "
   ]
  },
  {
   "cell_type": "markdown",
   "metadata": {},
   "source": [
    "<p style = 'font-size:18px;font-family:Arial;color:#00233C'> <b> Model 2: Last Click Model </b></p>\n",
    "\n"
   ]
  },
  {
   "cell_type": "code",
   "execution_count": 7,
   "metadata": {},
   "outputs": [
    {
     "data": {
      "text/plain": [
       "Success: 0 rows affected"
      ]
     },
     "execution_count": 7,
     "metadata": {
      "application/vnd.teradata.resultset": ""
     },
     "output_type": "execute_result"
    }
   ],
   "source": [
    "CREATE TABLE attribution_model_last (\n",
    "    id INT,\n",
    "    model VARCHAR(100) \n",
    "); "
   ]
  },
  {
   "cell_type": "code",
   "execution_count": 8,
   "metadata": {},
   "outputs": [
    {
     "data": {
      "text/plain": [
       "Success: 1 rows affected"
      ]
     },
     "execution_count": 8,
     "metadata": {
      "application/vnd.teradata.resultset": ""
     },
     "output_type": "execute_result"
    },
    {
     "data": {
      "text/plain": [
       "Success: 1 rows affected"
      ]
     },
     "execution_count": 8,
     "metadata": {
      "application/vnd.teradata.resultset": ""
     },
     "output_type": "execute_result"
    }
   ],
   "source": [
    "INSERT INTO attribution_model_last VALUES (0, 'EVENT_REGULAR'); \n",
    "INSERT INTO attribution_model_last VALUES (1, 'ALL:1.0:LAST_CLICK:NA'); "
   ]
  },
  {
   "cell_type": "markdown",
   "metadata": {},
   "source": [
    "<p style = 'font-size:18px;font-family:Arial;color:#00233C'> <b> Model 3: Uniform Event Model</b></p>\n"
   ]
  },
  {
   "cell_type": "code",
   "execution_count": 9,
   "metadata": {},
   "outputs": [
    {
     "data": {
      "text/plain": [
       "Success: 0 rows affected"
      ]
     },
     "execution_count": 9,
     "metadata": {
      "application/vnd.teradata.resultset": ""
     },
     "output_type": "execute_result"
    }
   ],
   "source": [
    "CREATE TABLE attribution_model_uniform (\n",
    "    id INT, \n",
    "    model VARCHAR(100) \n",
    "); "
   ]
  },
  {
   "cell_type": "code",
   "execution_count": 10,
   "metadata": {},
   "outputs": [
    {
     "data": {
      "text/plain": [
       "Success: 1 rows affected"
      ]
     },
     "execution_count": 10,
     "metadata": {
      "application/vnd.teradata.resultset": ""
     },
     "output_type": "execute_result"
    },
    {
     "data": {
      "text/plain": [
       "Success: 1 rows affected"
      ]
     },
     "execution_count": 10,
     "metadata": {
      "application/vnd.teradata.resultset": ""
     },
     "output_type": "execute_result"
    }
   ],
   "source": [
    "INSERT INTO attribution_model_uniform VALUES (0, 'EVENT_REGULAR'); \n",
    "INSERT INTO attribution_model_uniform VALUES (1, 'ALL:1.0:UNIFORM:NA'); "
   ]
  },
  {
   "cell_type": "markdown",
   "metadata": {},
   "source": [
    "<p style = 'font-size:18px;font-family:Arial;color:#00233C'> <b> Model 4: Exponential Event Model</b></p>\n"
   ]
  },
  {
   "cell_type": "code",
   "execution_count": 11,
   "metadata": {},
   "outputs": [
    {
     "data": {
      "text/plain": [
       "Success: 0 rows affected"
      ]
     },
     "execution_count": 11,
     "metadata": {
      "application/vnd.teradata.resultset": ""
     },
     "output_type": "execute_result"
    }
   ],
   "source": [
    "CREATE TABLE attribution_model_exponential (\n",
    "    id INT, \n",
    "    model VARCHAR(100) \n",
    "); "
   ]
  },
  {
   "cell_type": "code",
   "execution_count": 12,
   "metadata": {},
   "outputs": [
    {
     "data": {
      "text/plain": [
       "Success: 1 rows affected"
      ]
     },
     "execution_count": 12,
     "metadata": {
      "application/vnd.teradata.resultset": ""
     },
     "output_type": "execute_result"
    },
    {
     "data": {
      "text/plain": [
       "Success: 1 rows affected"
      ]
     },
     "execution_count": 12,
     "metadata": {
      "application/vnd.teradata.resultset": ""
     },
     "output_type": "execute_result"
    }
   ],
   "source": [
    "INSERT INTO attribution_model_exponential VALUES (0, 'EVENT_REGULAR'); \n",
    "INSERT INTO attribution_model_exponential VALUES (1, 'ALL:1.0:EXPONENTIAL:0.5,ROW'); "
   ]
  },
  {
   "cell_type": "markdown",
   "metadata": {},
   "source": [
    "<p style = 'font-size:18px;font-family:Arial;color:#00233C'> <b> Create Event of Interest (EOI) Table</b></p>\n",
    "<p style = 'font-size:16px;font-family:Arial;color:#00233C'>Since here we are trying to analyze the events that led to Total Knee Replacement our final Event of interest will be the same. </p>"
   ]
  },
  {
   "cell_type": "code",
   "execution_count": 13,
   "metadata": {},
   "outputs": [
    {
     "data": {
      "text/plain": [
       "Success: 0 rows affected"
      ]
     },
     "execution_count": 13,
     "metadata": {
      "application/vnd.teradata.resultset": ""
     },
     "output_type": "execute_result"
    }
   ],
   "source": [
    "CREATE TABLE ATTRIBUTION_EOI( \n",
    "    event_of_interest VARCHAR(100)\n",
    ");"
   ]
  },
  {
   "cell_type": "code",
   "execution_count": 14,
   "metadata": {},
   "outputs": [
    {
     "data": {
      "text/plain": [
       "Success: 1 rows affected"
      ]
     },
     "execution_count": 14,
     "metadata": {
      "application/vnd.teradata.resultset": ""
     },
     "output_type": "execute_result"
    }
   ],
   "source": [
    "INSERT INTO ATTRIBUTION_EOI VALUES ('TOTAL KNEE REPLACEMENT');  "
   ]
  },
  {
   "cell_type": "markdown",
   "metadata": {},
   "source": [
    "<p style = 'font-size:16px;font-family:Arial;color:#00233C'>Before moving ahead let's check the data in these model tables to verify that we have correct data. </p>"
   ]
  },
  {
   "cell_type": "code",
   "execution_count": 15,
   "metadata": {},
   "outputs": [
    {
     "data": {
      "application/vnd.teradata.resultset": "\"id\",\"model\"\n\"0\",\"EVENT_REGULAR\"\n\"1\",\"ALL:1.0:FIRST_CLICK:NA\"",
      "text/html": [
       "<div class = \"td-resultset-table-div\" style = \"max-height: 100%; overflow-y: auto\">\n",
       "      <table class=\"tdhistory529642\"><style>\n",
       "      table.tdhistory529642 { display: block !important; min-height: 126px !important; overflow: auto !important; height: 126px !important; width: 100% !important; border: 1px solid rgb(207, 207, 207) !important; border-collapse: collapse !important; ; color: var(--jp-ui-font-color1) !important; }\n",
       "      th.tdhistory529642 { border: 1px solid rgb(198,198,198) !important; border-collapse: collapse !important; ; padding: 2px 5px !important; ; font-size: 13px !important; ; text-align: center !important; white-space: normal !important; color: var(--jp-ui-font-color1) !important; }\n",
       "      th.tdhistory529642:last-child { text-align: left !important; }\n",
       "      tbody.tdhistory529642 tr:nth-child(even) { background: rgba(243, 243, 243, 0.75) !important; }\n",
       "      tbody.tdhistory529642 tr:nth-child(odd) { background: var(--jp-ui-inverse-font-color1) !important; }\n",
       "      td.tdhistory529642 { border: 1px solid rgb(207, 207, 207) !important; border-collapse: collapse !important; ; padding: 2px 5px !important; ; font-size: 13px !important; ; text-align: left !important;          white-space: nowrap !important; overflow:hidden !important; text-overflow:ellipsis !important;; }\n",
       "    </style><thead><tr style= \"background: rgba(243, 243, 243, 0.75)\"><th class=\"tdhistory529642\"></th><th class=\"tdhistory529642\">id</th><th class=\"tdhistory529642\">model</th></tr></thead><tbody class=\"tdhistory529642 resultset-body\"><tr><th class=\"tdhistory529642\" style= \"background: rgba(243, 243, 243, 0.75)\">1</th><td class=\"tdhistory529642\">0</td><td class=\"tdhistory529642\">EVENT_REGULAR</td></tr><tr><th class=\"tdhistory529642\" style= \"background: rgba(243, 243, 243, 0.75)\">2</th><td class=\"tdhistory529642\">1</td><td class=\"tdhistory529642\">ALL:1.0:FIRST_CLICK:NA</td></tr></tbody></table></div>"
      ]
     },
     "execution_count": 15,
     "metadata": {
      "application/vnd.teradata.resultset": "{\"resultSetID\":\"/home/jovyan/JupyterLabRoot/Teradata/Resultsets/2023.12.21_07.41.19.381_UTC\",\"historyID\":369,\"chunkID\":\"00001\",\"sessionid\":\"\",\"portnum\":\"\",\"dockermode\":\"docker\",\"totalRowCount\":2,\"chunkCount\":0,\"rowLimit\":0,\"columnMetadata\":[{\"columnName\":\"id\",\"columnTypeName\":\"INTEGER\"},{\"columnNumber\":1,\"columnName\":\"model\",\"columnTypeName\":\"VARCHAR\",\"length\":100,\"scale\":100}]}"
     },
     "output_type": "execute_result"
    }
   ],
   "source": [
    "SELECT * FROM attribution_model_first; "
   ]
  },
  {
   "cell_type": "code",
   "execution_count": 16,
   "metadata": {},
   "outputs": [
    {
     "data": {
      "application/vnd.teradata.resultset": "\"id\",\"model\"\n\"0\",\"EVENT_REGULAR\"\n\"1\",\"ALL:1.0:LAST_CLICK:NA\"",
      "text/html": [
       "<div class = \"td-resultset-table-div\" style = \"max-height: 100%; overflow-y: auto\">\n",
       "      <table class=\"tdhistory876895\"><style>\n",
       "      table.tdhistory876895 { display: block !important; min-height: 126px !important; overflow: auto !important; height: 126px !important; width: 100% !important; border: 1px solid rgb(207, 207, 207) !important; border-collapse: collapse !important; ; color: var(--jp-ui-font-color1) !important; }\n",
       "      th.tdhistory876895 { border: 1px solid rgb(198,198,198) !important; border-collapse: collapse !important; ; padding: 2px 5px !important; ; font-size: 13px !important; ; text-align: center !important; white-space: normal !important; color: var(--jp-ui-font-color1) !important; }\n",
       "      th.tdhistory876895:last-child { text-align: left !important; }\n",
       "      tbody.tdhistory876895 tr:nth-child(even) { background: rgba(243, 243, 243, 0.75) !important; }\n",
       "      tbody.tdhistory876895 tr:nth-child(odd) { background: var(--jp-ui-inverse-font-color1) !important; }\n",
       "      td.tdhistory876895 { border: 1px solid rgb(207, 207, 207) !important; border-collapse: collapse !important; ; padding: 2px 5px !important; ; font-size: 13px !important; ; text-align: left !important;          white-space: nowrap !important; overflow:hidden !important; text-overflow:ellipsis !important;; }\n",
       "    </style><thead><tr style= \"background: rgba(243, 243, 243, 0.75)\"><th class=\"tdhistory876895\"></th><th class=\"tdhistory876895\">id</th><th class=\"tdhistory876895\">model</th></tr></thead><tbody class=\"tdhistory876895 resultset-body\"><tr><th class=\"tdhistory876895\" style= \"background: rgba(243, 243, 243, 0.75)\">1</th><td class=\"tdhistory876895\">0</td><td class=\"tdhistory876895\">EVENT_REGULAR</td></tr><tr><th class=\"tdhistory876895\" style= \"background: rgba(243, 243, 243, 0.75)\">2</th><td class=\"tdhistory876895\">1</td><td class=\"tdhistory876895\">ALL:1.0:LAST_CLICK:NA</td></tr></tbody></table></div>"
      ]
     },
     "execution_count": 16,
     "metadata": {
      "application/vnd.teradata.resultset": "{\"resultSetID\":\"/home/jovyan/JupyterLabRoot/Teradata/Resultsets/2023.12.21_07.41.19.429_UTC\",\"historyID\":370,\"chunkID\":\"00001\",\"sessionid\":\"\",\"portnum\":\"\",\"dockermode\":\"docker\",\"totalRowCount\":2,\"chunkCount\":0,\"rowLimit\":0,\"columnMetadata\":[{\"columnName\":\"id\",\"columnTypeName\":\"INTEGER\"},{\"columnNumber\":1,\"columnName\":\"model\",\"columnTypeName\":\"VARCHAR\",\"length\":100,\"scale\":100}]}"
     },
     "output_type": "execute_result"
    }
   ],
   "source": [
    "SELECT * FROM attribution_model_last; "
   ]
  },
  {
   "cell_type": "code",
   "execution_count": 17,
   "metadata": {},
   "outputs": [
    {
     "data": {
      "application/vnd.teradata.resultset": "\"id\",\"model\"\n\"0\",\"EVENT_REGULAR\"\n\"1\",\"ALL:1.0:UNIFORM:NA\"",
      "text/html": [
       "<div class = \"td-resultset-table-div\" style = \"max-height: 100%; overflow-y: auto\">\n",
       "      <table class=\"tdhistory226769\"><style>\n",
       "      table.tdhistory226769 { display: block !important; min-height: 126px !important; overflow: auto !important; height: 126px !important; width: 100% !important; border: 1px solid rgb(207, 207, 207) !important; border-collapse: collapse !important; ; color: var(--jp-ui-font-color1) !important; }\n",
       "      th.tdhistory226769 { border: 1px solid rgb(198,198,198) !important; border-collapse: collapse !important; ; padding: 2px 5px !important; ; font-size: 13px !important; ; text-align: center !important; white-space: normal !important; color: var(--jp-ui-font-color1) !important; }\n",
       "      th.tdhistory226769:last-child { text-align: left !important; }\n",
       "      tbody.tdhistory226769 tr:nth-child(even) { background: rgba(243, 243, 243, 0.75) !important; }\n",
       "      tbody.tdhistory226769 tr:nth-child(odd) { background: var(--jp-ui-inverse-font-color1) !important; }\n",
       "      td.tdhistory226769 { border: 1px solid rgb(207, 207, 207) !important; border-collapse: collapse !important; ; padding: 2px 5px !important; ; font-size: 13px !important; ; text-align: left !important;          white-space: nowrap !important; overflow:hidden !important; text-overflow:ellipsis !important;; }\n",
       "    </style><thead><tr style= \"background: rgba(243, 243, 243, 0.75)\"><th class=\"tdhistory226769\"></th><th class=\"tdhistory226769\">id</th><th class=\"tdhistory226769\">model</th></tr></thead><tbody class=\"tdhistory226769 resultset-body\"><tr><th class=\"tdhistory226769\" style= \"background: rgba(243, 243, 243, 0.75)\">1</th><td class=\"tdhistory226769\">0</td><td class=\"tdhistory226769\">EVENT_REGULAR</td></tr><tr><th class=\"tdhistory226769\" style= \"background: rgba(243, 243, 243, 0.75)\">2</th><td class=\"tdhistory226769\">1</td><td class=\"tdhistory226769\">ALL:1.0:UNIFORM:NA</td></tr></tbody></table></div>"
      ]
     },
     "execution_count": 17,
     "metadata": {
      "application/vnd.teradata.resultset": "{\"resultSetID\":\"/home/jovyan/JupyterLabRoot/Teradata/Resultsets/2023.12.21_07.41.19.477_UTC\",\"historyID\":371,\"chunkID\":\"00001\",\"sessionid\":\"\",\"portnum\":\"\",\"dockermode\":\"docker\",\"totalRowCount\":2,\"chunkCount\":0,\"rowLimit\":0,\"columnMetadata\":[{\"columnName\":\"id\",\"columnTypeName\":\"INTEGER\"},{\"columnNumber\":1,\"columnName\":\"model\",\"columnTypeName\":\"VARCHAR\",\"length\":100,\"scale\":100}]}"
     },
     "output_type": "execute_result"
    }
   ],
   "source": [
    "SELECT * FROM attribution_model_uniform; "
   ]
  },
  {
   "cell_type": "code",
   "execution_count": 18,
   "metadata": {},
   "outputs": [
    {
     "data": {
      "application/vnd.teradata.resultset": "\"id\",\"model\"\n\"0\",\"EVENT_REGULAR\"\n\"1\",\"ALL:1.0:EXPONENTIAL:0.5,ROW\"",
      "text/html": [
       "<div class = \"td-resultset-table-div\" style = \"max-height: 100%; overflow-y: auto\">\n",
       "      <table class=\"tdhistory53522\"><style>\n",
       "      table.tdhistory53522 { display: block !important; min-height: 126px !important; overflow: auto !important; height: 126px !important; width: 100% !important; border: 1px solid rgb(207, 207, 207) !important; border-collapse: collapse !important; ; color: var(--jp-ui-font-color1) !important; }\n",
       "      th.tdhistory53522 { border: 1px solid rgb(198,198,198) !important; border-collapse: collapse !important; ; padding: 2px 5px !important; ; font-size: 13px !important; ; text-align: center !important; white-space: normal !important; color: var(--jp-ui-font-color1) !important; }\n",
       "      th.tdhistory53522:last-child { text-align: left !important; }\n",
       "      tbody.tdhistory53522 tr:nth-child(even) { background: rgba(243, 243, 243, 0.75) !important; }\n",
       "      tbody.tdhistory53522 tr:nth-child(odd) { background: var(--jp-ui-inverse-font-color1) !important; }\n",
       "      td.tdhistory53522 { border: 1px solid rgb(207, 207, 207) !important; border-collapse: collapse !important; ; padding: 2px 5px !important; ; font-size: 13px !important; ; text-align: left !important;          white-space: nowrap !important; overflow:hidden !important; text-overflow:ellipsis !important;; }\n",
       "    </style><thead><tr style= \"background: rgba(243, 243, 243, 0.75)\"><th class=\"tdhistory53522\"></th><th class=\"tdhistory53522\">id</th><th class=\"tdhistory53522\">model</th></tr></thead><tbody class=\"tdhistory53522 resultset-body\"><tr><th class=\"tdhistory53522\" style= \"background: rgba(243, 243, 243, 0.75)\">1</th><td class=\"tdhistory53522\">0</td><td class=\"tdhistory53522\">EVENT_REGULAR</td></tr><tr><th class=\"tdhistory53522\" style= \"background: rgba(243, 243, 243, 0.75)\">2</th><td class=\"tdhistory53522\">1</td><td class=\"tdhistory53522\">ALL:1.0:EXPONENTIAL:0.5,ROW</td></tr></tbody></table></div>"
      ]
     },
     "execution_count": 18,
     "metadata": {
      "application/vnd.teradata.resultset": "{\"resultSetID\":\"/home/jovyan/JupyterLabRoot/Teradata/Resultsets/2023.12.21_07.41.19.521_UTC\",\"historyID\":372,\"chunkID\":\"00001\",\"sessionid\":\"\",\"portnum\":\"\",\"dockermode\":\"docker\",\"totalRowCount\":2,\"chunkCount\":0,\"rowLimit\":0,\"columnMetadata\":[{\"columnName\":\"id\",\"columnTypeName\":\"INTEGER\"},{\"columnNumber\":1,\"columnName\":\"model\",\"columnTypeName\":\"VARCHAR\",\"length\":100,\"scale\":100}]}"
     },
     "output_type": "execute_result"
    }
   ],
   "source": [
    "SELECT * FROM attribution_model_exponential; "
   ]
  },
  {
   "cell_type": "code",
   "execution_count": 19,
   "metadata": {},
   "outputs": [
    {
     "data": {
      "application/vnd.teradata.resultset": "\"event_of_interest\"\n\"TOTAL KNEE REPLACEMENT\"",
      "text/html": [
       "<div class = \"td-resultset-table-div\" style = \"max-height: 100%; overflow-y: auto\">\n",
       "      <table class=\"tdhistory929601\"><style>\n",
       "      table.tdhistory929601 { display: block !important; min-height: 105px !important; overflow: auto !important; height: 105px !important; width: 100% !important; border: 1px solid rgb(207, 207, 207) !important; border-collapse: collapse !important; ; color: var(--jp-ui-font-color1) !important; }\n",
       "      th.tdhistory929601 { border: 1px solid rgb(198,198,198) !important; border-collapse: collapse !important; ; padding: 2px 5px !important; ; font-size: 13px !important; ; text-align: center !important; white-space: normal !important; color: var(--jp-ui-font-color1) !important; }\n",
       "      th.tdhistory929601:last-child { text-align: left !important; }\n",
       "      tbody.tdhistory929601 tr:nth-child(even) { background: rgba(243, 243, 243, 0.75) !important; }\n",
       "      tbody.tdhistory929601 tr:nth-child(odd) { background: var(--jp-ui-inverse-font-color1) !important; }\n",
       "      td.tdhistory929601 { border: 1px solid rgb(207, 207, 207) !important; border-collapse: collapse !important; ; padding: 2px 5px !important; ; font-size: 13px !important; ; text-align: left !important;          white-space: nowrap !important; overflow:hidden !important; text-overflow:ellipsis !important;; }\n",
       "    </style><thead><tr style= \"background: rgba(243, 243, 243, 0.75)\"><th class=\"tdhistory929601\"></th><th class=\"tdhistory929601\">event_of_interest</th></tr></thead><tbody class=\"tdhistory929601 resultset-body\"><tr><th class=\"tdhistory929601\" style= \"background: rgba(243, 243, 243, 0.75)\">1</th><td class=\"tdhistory929601\">TOTAL KNEE REPLACEMENT</td></tr></tbody></table></div>"
      ]
     },
     "execution_count": 19,
     "metadata": {
      "application/vnd.teradata.resultset": "{\"resultSetID\":\"/home/jovyan/JupyterLabRoot/Teradata/Resultsets/2023.12.21_07.41.19.569_UTC\",\"historyID\":373,\"chunkID\":\"00001\",\"sessionid\":\"\",\"portnum\":\"\",\"dockermode\":\"docker\",\"totalRowCount\":1,\"chunkCount\":0,\"rowLimit\":0,\"columnMetadata\":[{\"columnName\":\"event_of_interest\",\"columnTypeName\":\"VARCHAR\",\"length\":100,\"scale\":100}]}"
     },
     "output_type": "execute_result"
    }
   ],
   "source": [
    "SELECT * FROM ATTRIBUTION_EOI; "
   ]
  },
  {
   "cell_type": "markdown",
   "metadata": {},
   "source": [
    "<p style = 'font-size:14px;font-family:Arial'><b> *Caution*: If more than the 2 rows are inserted for any attribution model table, it will err. Drop the table and reinsert.</b></p>"
   ]
  },
  {
   "cell_type": "markdown",
   "metadata": {},
   "source": [
    "<hr style=\"height:2px;border:none;background-color:#00233C;\">\n",
    "<p style = 'font-size:20px;font-family:Arial;color:#00233C'><b>4. Sessionize Function </b></p>\n",
    "<p style = 'font-size:16px;font-family:Arial;color:#00233C'>The Sessionize function maps each click in a session to a unique session identifier. A session is a sequence of clicks by one user that are separated by at most n seconds. The function is useful for both sessionization and detecting web crawler (\"bot\") activity. A typical use is to understand user browsing behavior on a web site.</p>\n",
    "<p style = 'font-size:16px;font-family:Arial;color:#00233C'>However, we've also found it useful to define a sequence of events along a longitudinal record of a member's patient journey. In this case, we will define a session as one day.</p>\n",
    "\n",
    "<p style = 'font-size:16px;font-family:Arial;color:#00233C'>one day = 60 seconds x 60 minutes x 24 hours = 86,400 seconds</p>\n"
   ]
  },
  {
   "cell_type": "code",
   "execution_count": 20,
   "metadata": {},
   "outputs": [
    {
     "data": {
      "text/plain": [
       "Success: 0 rows affected"
      ]
     },
     "execution_count": 20,
     "metadata": {
      "application/vnd.teradata.resultset": ""
     },
     "output_type": "execute_result"
    }
   ],
   "source": [
    "CREATE MULTISET TABLE KneeSessions AS (\n",
    "    SELECT \n",
    "        *\n",
    "    FROM SESSIONIZE (\n",
    "        ON(\n",
    "            SELECT memberid, \n",
    "                diagcode, \n",
    "                proccode, \n",
    "                TRANSLATE(shortdesc USING UNICODE_TO_LATIN) as shortdesc,\n",
    "                amount, \n",
    "                tstamp, \n",
    "                lastname, \n",
    "                firstname, \n",
    "                state, \n",
    "                email\n",
    "            FROM DEMO_KneeReplacement.knee_replacement\n",
    "        )\n",
    "        PARTITION BY memberid\n",
    "        ORDER BY tstamp\n",
    "        USING\n",
    "            TIMECOLUMN('tstamp')\n",
    "            TIMEOUT(86400)\n",
    "            EMITNULL('true')\n",
    "    ) \n",
    ") WITH DATA;"
   ]
  },
  {
   "cell_type": "markdown",
   "metadata": {},
   "source": [
    "<p style = 'font-size:18px;font-family:Arial;color:#00233C'> <b>View Data</b></p>"
   ]
  },
  {
   "cell_type": "code",
   "execution_count": 21,
   "metadata": {
    "scrolled": true,
    "tags": []
   },
   "outputs": [
    {
     "data": {
      "application/vnd.teradata.resultset": "\"memberid\",\"diagcode\",\"proccode\",\"shortdesc\",\"amount\",\"tstamp\",\"lastname\",\"firstname\",\"state\",\"email\",\"SESSIONID\"\n\"350006\",\"92811:CRUSHING INJURY KNEE\",\"9339\",\"PHYSICAL THERAPY NEC\",\"250.95\",\"2017-04-14 18:54:10.000000\",\"Taglauer\",\"Lorene\",\"RI\",\"lorene@taglauer.com\",\"2\"\n\"350006\",\"92811:CRUSHING INJURY KNEE\",\"9339\",\"PHYSICAL THERAPY NEC\",\"250.95\",\"2017-04-28 23:50:11.000000\",\"Taglauer\",\"Lorene\",\"RI\",\"lorene@taglauer.com\",\"4\"\n\"350006\",\"92811:CRUSHING INJURY KNEE\",\"8016\",\"OTH ARTHROTOMY-KNEE\",\"300.95\",\"2017-04-18 16:48:16.000000\",\"Taglauer\",\"Lorene\",\"RI\",\"lorene@taglauer.com\",\"3\"\n\"350006\",\"92811:CRUSHING INJURY KNEE\",\"9339\",\"PHYSICAL THERAPY NEC\",\"250.95\",\"2017-04-11 05:51:07.000000\",\"Taglauer\",\"Lorene\",\"RI\",\"lorene@taglauer.com\",\"1\"\n\"350006\",\"92811:CRUSHING INJURY KNEE\",\"9305\",\"RANGE OF MOTION TESTING\",\"150.95\",\"2017-03-31 09:47:54.000000\",\"Taglauer\",\"Lorene\",\"RI\",\"lorene@taglauer.com\",\"0\"",
      "text/html": [
       "<div class = \"td-resultset-table-div\" style = \"max-height: 100%; overflow-y: auto\">\n",
       "      <table class=\"tdhistory159840\"><style>\n",
       "      table.tdhistory159840 { display: block !important; min-height: 189px !important; overflow: auto !important; height: 189px !important; width: 100% !important; border: 1px solid rgb(207, 207, 207) !important; border-collapse: collapse !important; ; color: var(--jp-ui-font-color1) !important; }\n",
       "      th.tdhistory159840 { border: 1px solid rgb(198,198,198) !important; border-collapse: collapse !important; ; padding: 2px 5px !important; ; font-size: 13px !important; ; text-align: center !important; white-space: normal !important; color: var(--jp-ui-font-color1) !important; }\n",
       "      th.tdhistory159840:last-child { text-align: left !important; }\n",
       "      tbody.tdhistory159840 tr:nth-child(even) { background: rgba(243, 243, 243, 0.75) !important; }\n",
       "      tbody.tdhistory159840 tr:nth-child(odd) { background: var(--jp-ui-inverse-font-color1) !important; }\n",
       "      td.tdhistory159840 { border: 1px solid rgb(207, 207, 207) !important; border-collapse: collapse !important; ; padding: 2px 5px !important; ; font-size: 13px !important; ; text-align: left !important;          white-space: nowrap !important; overflow:hidden !important; text-overflow:ellipsis !important;; }\n",
       "    </style><thead><tr style= \"background: rgba(243, 243, 243, 0.75)\"><th class=\"tdhistory159840\"></th><th class=\"tdhistory159840\">memberid</th><th class=\"tdhistory159840\">diagcode</th><th class=\"tdhistory159840\">proccode</th><th class=\"tdhistory159840\">shortdesc</th><th class=\"tdhistory159840\">amount</th><th class=\"tdhistory159840\">tstamp</th><th class=\"tdhistory159840\">lastname</th><th class=\"tdhistory159840\">firstname</th><th class=\"tdhistory159840\">state</th><th class=\"tdhistory159840\">email</th><th class=\"tdhistory159840\">SESSIONID</th></tr></thead><tbody class=\"tdhistory159840 resultset-body\"><tr><th class=\"tdhistory159840\" style= \"background: rgba(243, 243, 243, 0.75)\">1</th><td class=\"tdhistory159840\">350006</td><td class=\"tdhistory159840\">92811:CRUSHING INJURY KNEE</td><td class=\"tdhistory159840\">9339</td><td class=\"tdhistory159840\">PHYSICAL THERAPY NEC</td><td class=\"tdhistory159840\">250.95</td><td class=\"tdhistory159840\">2017-04-14 18:54:10.000000</td><td class=\"tdhistory159840\">Taglauer</td><td class=\"tdhistory159840\">Lorene</td><td class=\"tdhistory159840\">RI</td><td class=\"tdhistory159840\">lorene@taglauer.com</td><td class=\"tdhistory159840\">2</td></tr><tr><th class=\"tdhistory159840\" style= \"background: rgba(243, 243, 243, 0.75)\">2</th><td class=\"tdhistory159840\">350006</td><td class=\"tdhistory159840\">92811:CRUSHING INJURY KNEE</td><td class=\"tdhistory159840\">9339</td><td class=\"tdhistory159840\">PHYSICAL THERAPY NEC</td><td class=\"tdhistory159840\">250.95</td><td class=\"tdhistory159840\">2017-04-28 23:50:11.000000</td><td class=\"tdhistory159840\">Taglauer</td><td class=\"tdhistory159840\">Lorene</td><td class=\"tdhistory159840\">RI</td><td class=\"tdhistory159840\">lorene@taglauer.com</td><td class=\"tdhistory159840\">4</td></tr><tr><th class=\"tdhistory159840\" style= \"background: rgba(243, 243, 243, 0.75)\">3</th><td class=\"tdhistory159840\">350006</td><td class=\"tdhistory159840\">92811:CRUSHING INJURY KNEE</td><td class=\"tdhistory159840\">8016</td><td class=\"tdhistory159840\">OTH ARTHROTOMY-KNEE</td><td class=\"tdhistory159840\">300.95</td><td class=\"tdhistory159840\">2017-04-18 16:48:16.000000</td><td class=\"tdhistory159840\">Taglauer</td><td class=\"tdhistory159840\">Lorene</td><td class=\"tdhistory159840\">RI</td><td class=\"tdhistory159840\">lorene@taglauer.com</td><td class=\"tdhistory159840\">3</td></tr><tr><th class=\"tdhistory159840\" style= \"background: rgba(243, 243, 243, 0.75)\">4</th><td class=\"tdhistory159840\">350006</td><td class=\"tdhistory159840\">92811:CRUSHING INJURY KNEE</td><td class=\"tdhistory159840\">9339</td><td class=\"tdhistory159840\">PHYSICAL THERAPY NEC</td><td class=\"tdhistory159840\">250.95</td><td class=\"tdhistory159840\">2017-04-11 05:51:07.000000</td><td class=\"tdhistory159840\">Taglauer</td><td class=\"tdhistory159840\">Lorene</td><td class=\"tdhistory159840\">RI</td><td class=\"tdhistory159840\">lorene@taglauer.com</td><td class=\"tdhistory159840\">1</td></tr><tr><th class=\"tdhistory159840\" style= \"background: rgba(243, 243, 243, 0.75)\">5</th><td class=\"tdhistory159840\">350006</td><td class=\"tdhistory159840\">92811:CRUSHING INJURY KNEE</td><td class=\"tdhistory159840\">9305</td><td class=\"tdhistory159840\">RANGE OF MOTION TESTING</td><td class=\"tdhistory159840\">150.95</td><td class=\"tdhistory159840\">2017-03-31 09:47:54.000000</td><td class=\"tdhistory159840\">Taglauer</td><td class=\"tdhistory159840\">Lorene</td><td class=\"tdhistory159840\">RI</td><td class=\"tdhistory159840\">lorene@taglauer.com</td><td class=\"tdhistory159840\">0</td></tr></tbody></table></div>"
      ]
     },
     "execution_count": 21,
     "metadata": {
      "application/vnd.teradata.resultset": "{\"resultSetID\":\"/home/jovyan/JupyterLabRoot/Teradata/Resultsets/2023.12.21_07.41.29.207_UTC\",\"historyID\":375,\"chunkID\":\"00001\",\"sessionid\":\"\",\"portnum\":\"\",\"dockermode\":\"docker\",\"totalRowCount\":5,\"chunkCount\":0,\"rowLimit\":0,\"columnMetadata\":[{\"columnName\":\"memberid\",\"columnTypeName\":\"INTEGER\"},{\"columnNumber\":1,\"columnName\":\"diagcode\",\"columnTypeName\":\"VARCHAR\",\"length\":255,\"scale\":255},{\"columnNumber\":2,\"columnName\":\"proccode\",\"columnTypeName\":\"INTEGER\"},{\"columnNumber\":3,\"columnName\":\"shortdesc\",\"columnTypeName\":\"VARCHAR\",\"length\":255,\"scale\":255},{\"columnNumber\":4,\"columnName\":\"amount\",\"columnTypeName\":\"FLOAT\"},{\"columnNumber\":5,\"columnName\":\"tstamp\",\"columnTypeName\":\"TIMESTAMP\",\"length\":6,\"scale\":6},{\"columnNumber\":6,\"columnName\":\"lastname\",\"columnTypeName\":\"VARCHAR\",\"length\":255,\"scale\":255},{\"columnNumber\":7,\"columnName\":\"firstname\",\"columnTypeName\":\"VARCHAR\",\"length\":255,\"scale\":255},{\"columnNumber\":8,\"columnName\":\"state\",\"columnTypeName\":\"VARCHAR\",\"length\":2,\"scale\":2},{\"columnNumber\":9,\"columnName\":\"email\",\"columnTypeName\":\"VARCHAR\",\"length\":255,\"scale\":255},{\"columnNumber\":10,\"columnName\":\"SESSIONID\",\"columnTypeName\":\"INTEGER\"}]}"
     },
     "output_type": "execute_result"
    }
   ],
   "source": [
    "SELECT TOP 5 * FROM KneeSessions; "
   ]
  },
  {
   "cell_type": "markdown",
   "metadata": {},
   "source": [
    "<hr style=\"height:2px;border:none;background-color:#00233C;\">\n",
    "<p style = 'font-size:20px;font-family:Arial;color:#00233C'><b>5. Attribution.</b</p>\n",
    "<p style = 'font-size:18px;font-family:Arial;color:#00233C'> <b> Run the Attribution Function Using A Uniform Attribution Distribution.</b></p>"
   ]
  },
  {
   "cell_type": "code",
   "execution_count": 22,
   "metadata": {
    "tags": []
   },
   "outputs": [
    {
     "data": {
      "application/vnd.teradata.resultset": "\"memberid\",\"SESSIONID\",\"tstamp\",\"event\",\"attribution_score\"\n\"350001\",\"0\",\"2017-01-18 03:39:12.000000\",\"RANGE OF MOTION TESTING\",\"0.2\"\n\"350001\",\"1\",\"2017-01-28 03:36:12.000000\",\"PHYSICAL THERAPY NEC\",\"0.2\"\n\"350001\",\"2\",\"2017-01-30 14:14:34.000000\",\"PHYSICAL THERAPY NEC\",\"0.2\"\n\"350001\",\"3\",\"2017-02-01 16:43:51.000000\",\"OTH ARTHROTOMY-KNEE\",\"0.2\"\n\"350001\",\"4\",\"2017-02-06 14:11:12.000000\",\"SKEL XRAY-THIGH/KNEE/LEG\",\"0.2\"",
      "text/html": [
       "<div class = \"td-resultset-table-div\" style = \"max-height: 100%; overflow-y: auto\">\n",
       "      <table class=\"tdhistory66320\"><style>\n",
       "      table.tdhistory66320 { display: block !important; min-height: 189px !important; overflow: auto !important; height: 189px !important; width: 100% !important; border: 1px solid rgb(207, 207, 207) !important; border-collapse: collapse !important; ; color: var(--jp-ui-font-color1) !important; }\n",
       "      th.tdhistory66320 { border: 1px solid rgb(198,198,198) !important; border-collapse: collapse !important; ; padding: 2px 5px !important; ; font-size: 13px !important; ; text-align: center !important; white-space: normal !important; color: var(--jp-ui-font-color1) !important; }\n",
       "      th.tdhistory66320:last-child { text-align: left !important; }\n",
       "      tbody.tdhistory66320 tr:nth-child(even) { background: rgba(243, 243, 243, 0.75) !important; }\n",
       "      tbody.tdhistory66320 tr:nth-child(odd) { background: var(--jp-ui-inverse-font-color1) !important; }\n",
       "      td.tdhistory66320 { border: 1px solid rgb(207, 207, 207) !important; border-collapse: collapse !important; ; padding: 2px 5px !important; ; font-size: 13px !important; ; text-align: left !important;          white-space: nowrap !important; overflow:hidden !important; text-overflow:ellipsis !important;; }\n",
       "    </style><thead><tr style= \"background: rgba(243, 243, 243, 0.75)\"><th class=\"tdhistory66320\"></th><th class=\"tdhistory66320\">memberid</th><th class=\"tdhistory66320\">SESSIONID</th><th class=\"tdhistory66320\">tstamp</th><th class=\"tdhistory66320\">event</th><th class=\"tdhistory66320\">attribution_score</th></tr></thead><tbody class=\"tdhistory66320 resultset-body\"><tr><th class=\"tdhistory66320\" style= \"background: rgba(243, 243, 243, 0.75)\">1</th><td class=\"tdhistory66320\">350001</td><td class=\"tdhistory66320\">0</td><td class=\"tdhistory66320\">2017-01-18 03:39:12.000000</td><td class=\"tdhistory66320\">RANGE OF MOTION TESTING</td><td class=\"tdhistory66320\">0.2</td></tr><tr><th class=\"tdhistory66320\" style= \"background: rgba(243, 243, 243, 0.75)\">2</th><td class=\"tdhistory66320\">350001</td><td class=\"tdhistory66320\">1</td><td class=\"tdhistory66320\">2017-01-28 03:36:12.000000</td><td class=\"tdhistory66320\">PHYSICAL THERAPY NEC</td><td class=\"tdhistory66320\">0.2</td></tr><tr><th class=\"tdhistory66320\" style= \"background: rgba(243, 243, 243, 0.75)\">3</th><td class=\"tdhistory66320\">350001</td><td class=\"tdhistory66320\">2</td><td class=\"tdhistory66320\">2017-01-30 14:14:34.000000</td><td class=\"tdhistory66320\">PHYSICAL THERAPY NEC</td><td class=\"tdhistory66320\">0.2</td></tr><tr><th class=\"tdhistory66320\" style= \"background: rgba(243, 243, 243, 0.75)\">4</th><td class=\"tdhistory66320\">350001</td><td class=\"tdhistory66320\">3</td><td class=\"tdhistory66320\">2017-02-01 16:43:51.000000</td><td class=\"tdhistory66320\">OTH ARTHROTOMY-KNEE</td><td class=\"tdhistory66320\">0.2</td></tr><tr><th class=\"tdhistory66320\" style= \"background: rgba(243, 243, 243, 0.75)\">5</th><td class=\"tdhistory66320\">350001</td><td class=\"tdhistory66320\">4</td><td class=\"tdhistory66320\">2017-02-06 14:11:12.000000</td><td class=\"tdhistory66320\">SKEL XRAY-THIGH/KNEE/LEG</td><td class=\"tdhistory66320\">0.2</td></tr></tbody></table></div>"
      ]
     },
     "execution_count": 22,
     "metadata": {
      "application/vnd.teradata.resultset": "{\"resultSetID\":\"/home/jovyan/JupyterLabRoot/Teradata/Resultsets/2023.12.21_07.41.36.036_UTC\",\"historyID\":376,\"chunkID\":\"00001\",\"sessionid\":\"\",\"portnum\":\"\",\"dockermode\":\"docker\",\"totalRowCount\":5,\"chunkCount\":0,\"rowLimit\":0,\"columnMetadata\":[{\"columnName\":\"memberid\",\"columnTypeName\":\"INTEGER\"},{\"columnNumber\":1,\"columnName\":\"SESSIONID\",\"columnTypeName\":\"INTEGER\"},{\"columnNumber\":2,\"columnName\":\"tstamp\",\"columnTypeName\":\"TIMESTAMP\",\"length\":6,\"scale\":6},{\"columnNumber\":3,\"columnName\":\"event\",\"columnTypeName\":\"VARCHAR\",\"length\":255,\"scale\":255},{\"columnNumber\":4,\"columnName\":\"attribution_score\",\"columnTypeName\":\"FLOAT\"}]}"
     },
     "output_type": "execute_result"
    }
   ],
   "source": [
    "SELECT TOP 5\n",
    "    F.memberid, F.SESSIONID, F.tstamp, F.shortdesc as event,\n",
    "    F.ATTRIBUTION AS attribution_score\n",
    "FROM ATTRIBUTION (\n",
    "         ON KneeSessions AS INPUT\n",
    "         PARTITION BY memberid\n",
    "         ORDER BY tstamp\n",
    "         ON ATTRIBUTION_EOI AS CONVERSION DIMENSION\n",
    "         ON ATTRIBUTION_MODEL_UNIFORM AS MODEL1 DIMENSION\n",
    "         USING\n",
    "             EventColumn ('shortdesc')\n",
    "             TIMESTAMPCOLUMN ('tstamp')\n",
    "             WINDOWSIZE('seconds:31536000') -- 5 years\n",
    "     ) F\n",
    "     order by 1,2,5;"
   ]
  },
  {
   "cell_type": "markdown",
   "metadata": {
    "tags": []
   },
   "source": [
    "<p style = 'font-size:16px;font-family:Arial;color:#00233C'>The output of the Attribution function using Uniform Attribution assigns equal weight to each event in a particular path apart from the Event of Interest which is 'TOTAL KNEE REPLACEMENT' in this case.</p>\n",
    "<p style = 'font-size:16px;font-family:Arial;color:#00233C'> <b>Create Attribution Model Outputs Table</b></p>\n"
   ]
  },
  {
   "cell_type": "markdown",
   "metadata": {},
   "source": [
    "<p style = 'font-size:16px;font-family:Arial;color:#00233C'>Write Outputs of all Attribution Model Types for Comparison"
   ]
  },
  {
   "cell_type": "code",
   "execution_count": 23,
   "metadata": {},
   "outputs": [
    {
     "data": {
      "text/plain": [
       "Success: 0 rows affected"
      ]
     },
     "execution_count": 23,
     "metadata": {
      "application/vnd.teradata.resultset": ""
     },
     "output_type": "execute_result"
    }
   ],
   "source": [
    "CREATE MULTISET TABLE ATTRIBUTION_MODEL_OUTPUT AS (\n",
    "    SELECT F.memberid as MEMBERID, F.SESSIONID as EVENTORDER, \n",
    "        F.tstamp as datestamp, F.shortdesc as EVENT,\n",
    "        F.ATTRIBUTION AS FIRST_CLICK_ATTRIBUTION,\n",
    "        L.ATTRIBUTION AS LAST_CLICK_ATTRIBUTION,\n",
    "        U.ATTRIBUTION AS UNIFORM_ATTRIBUTION,\n",
    "        E.ATTRIBUTION AS EXPONENTIAL_ATTRIBUTION\n",
    "    FROM ATTRIBUTION (\n",
    "         ON KneeSessions AS INPUT\n",
    "         PARTITION BY memberid\n",
    "         ORDER BY tstamp\n",
    "         ON ATTRIBUTION_EOI AS CONVERSION DIMENSION\n",
    "         ON ATTRIBUTION_MODEL_FIRST AS MODEL1 DIMENSION\n",
    "         USING\n",
    "             EventColumn ('shortdesc')\n",
    "             TIMESTAMPCOLUMN ('tstamp')\n",
    "             WINDOWSIZE('seconds:31536000') -- 5 years\n",
    "     ) F\n",
    "    ,ATTRIBUTION (\n",
    "         ON KneeSessions AS INPUT\n",
    "         PARTITION BY memberid\n",
    "         ORDER BY tstamp\n",
    "         ON ATTRIBUTION_EOI AS CONVERSION DIMENSION\n",
    "         ON ATTRIBUTION_MODEL_LAST AS MODEL1 DIMENSION\n",
    "         USING\n",
    "             EventColumn ('shortdesc')\n",
    "             TIMESTAMPCOLUMN ('tstamp')\n",
    "             WINDOWSIZE('seconds:31536000') -- 5 years\n",
    "     ) L\n",
    "    ,ATTRIBUTION (\n",
    "         ON KneeSessions AS INPUT\n",
    "         PARTITION BY memberid\n",
    "         ORDER BY tstamp\n",
    "         ON ATTRIBUTION_EOI AS CONVERSION DIMENSION\n",
    "         ON ATTRIBUTION_MODEL_UNIFORM AS MODEL1 DIMENSION\n",
    "         USING\n",
    "             EventColumn ('shortdesc')\n",
    "             TIMESTAMPCOLUMN ('tstamp')\n",
    "             WINDOWSIZE('seconds:31536000') -- 5 years\n",
    "     ) U\n",
    "    ,ATTRIBUTION (\n",
    "         ON KneeSessions AS INPUT\n",
    "         PARTITION BY memberid\n",
    "         ORDER BY tstamp\n",
    "         ON ATTRIBUTION_EOI AS CONVERSION DIMENSION\n",
    "         ON ATTRIBUTION_MODEL_EXPONENTIAL AS MODEL1 DIMENSION\n",
    "         USING\n",
    "             EventColumn ('shortdesc')\n",
    "             TIMESTAMPCOLUMN ('tstamp')\n",
    "             WINDOWSIZE('seconds:31536000') -- 5 years\n",
    "     ) E\n",
    "WHERE F.memberid = L.memberid\n",
    "AND   F.memberid = U.memberid\n",
    "AND   F.memberid = E.memberid\n",
    "AND   F.tstamp = L.tstamp\n",
    "AND   F.tstamp = U.tstamp\n",
    "AND   F.tstamp = E.tstamp\n",
    "AND   F.shortdesc = L.shortdesc\n",
    "AND   F.shortdesc = U.shortdesc\n",
    "AND   F.shortdesc = E.shortdesc\n",
    ")\n",
    "WITH DATA;"
   ]
  },
  {
   "cell_type": "markdown",
   "metadata": {},
   "source": [
    "<p style = 'font-size:16px;font-family:Arial;color:#00233C'><b>View Attribution Outputs for Single Member</b></p>"
   ]
  },
  {
   "cell_type": "code",
   "execution_count": 24,
   "metadata": {},
   "outputs": [
    {
     "data": {
      "application/vnd.teradata.resultset": "\"MEMBERID\",\"EVENTORDER\",\"datestamp\",\"EVENT\",\"FIRST_CLICK_ATTRIBUTION\",\"LAST_CLICK_ATTRIBUTION\",\"UNIFORM_ATTRIBUTION\",\"EXPONENTIAL_ATTRIBUTION\"\n\"350031\",\"0\",\"2017-01-07 18:19:57.000000\",\"OTH ARTHROTOMY-KNEE\",\"1\",\"0\",\"0.09090909090909091\",\"0.0004885197850512946\"\n\"350031\",\"1\",\"2017-01-10 03:41:17.000000\",\"OTH ARTHROTOMY-KNEE\",\"0\",\"0\",\"0.09090909090909091\",\"0.0009770395701025891\"\n\"350031\",\"2\",\"2017-01-11 09:06:05.000000\",\"KNEE SYNOVECTOMY\",\"0\",\"0\",\"0.09090909090909091\",\"0.0019540791402051783\"\n\"350031\",\"3\",\"2017-01-17 05:32:48.000000\",\"KNEE JOINT BIOPSY\",\"0\",\"0\",\"0.09090909090909091\",\"0.0039081582804103565\"\n\"350031\",\"4\",\"2017-01-18 13:55:26.000000\",\"SKEL XRAY-THIGH/KNEE/LEG\",\"0\",\"0\",\"0.09090909090909091\",\"0.007816316560820713\"\n\"350031\",\"5\",\"2017-01-24 17:24:52.000000\",\"OTH ARTHROTOMY-KNEE\",\"0\",\"0\",\"0.09090909090909091\",\"0.015632633121641426\"\n\"350031\",\"6\",\"2017-01-26 05:20:25.000000\",\"PHYSICAL THERAPY NEC\",\"0\",\"0\",\"0.09090909090909091\",\"0.03126526624328285\"\n\"350031\",\"7\",\"2017-02-03 08:22:57.000000\",\"SKEL XRAY-THIGH/KNEE/LEG\",\"0\",\"0\",\"0.09090909090909091\",\"0.0625305324865657\"\n\"350031\",\"8\",\"2017-02-14 08:19:45.000000\",\"SKEL XRAY-THIGH/KNEE/LEG\",\"0\",\"0\",\"0.09090909090909091\",\"0.1250610649731314\"\n\"350031\",\"9\",\"2017-02-16 17:43:32.000000\",\"OTH ARTHROTOMY-KNEE\",\"0\",\"0\",\"0.09090909090909091\",\"0.2501221299462628\"\n\"350031\",\"10\",\"2017-02-24 21:41:10.000000\",\"KNEE JOINT BIOPSY\",\"0\",\"1\",\"0.09090909090909091\",\"0.5002442598925256\"\n\"350031\",\"11\",\"2017-03-06 11:56:43.000000\",\"TOTAL KNEE REPLACEMENT\",\"\",\"\",\"\",\"\"",
      "text/html": [
       "<div class = \"td-resultset-table-div\" style = \"max-height: 100%; overflow-y: auto\">\n",
       "      <table class=\"tdhistory571395\"><style>\n",
       "      table.tdhistory571395 { display: block !important; min-height: 336px !important; overflow: auto !important; height: 336px !important; width: 100% !important; border: 1px solid rgb(207, 207, 207) !important; border-collapse: collapse !important; ; color: var(--jp-ui-font-color1) !important; }\n",
       "      th.tdhistory571395 { border: 1px solid rgb(198,198,198) !important; border-collapse: collapse !important; ; padding: 2px 5px !important; ; font-size: 13px !important; ; text-align: center !important; white-space: normal !important; color: var(--jp-ui-font-color1) !important; }\n",
       "      th.tdhistory571395:last-child { text-align: left !important; }\n",
       "      tbody.tdhistory571395 tr:nth-child(even) { background: rgba(243, 243, 243, 0.75) !important; }\n",
       "      tbody.tdhistory571395 tr:nth-child(odd) { background: var(--jp-ui-inverse-font-color1) !important; }\n",
       "      td.tdhistory571395 { border: 1px solid rgb(207, 207, 207) !important; border-collapse: collapse !important; ; padding: 2px 5px !important; ; font-size: 13px !important; ; text-align: left !important;          white-space: nowrap !important; overflow:hidden !important; text-overflow:ellipsis !important;; }\n",
       "    </style><thead><tr style= \"background: rgba(243, 243, 243, 0.75)\"><th class=\"tdhistory571395\"></th><th class=\"tdhistory571395\">MEMBERID</th><th class=\"tdhistory571395\">EVENTORDER</th><th class=\"tdhistory571395\">datestamp</th><th class=\"tdhistory571395\">EVENT</th><th class=\"tdhistory571395\">FIRST_CLICK_ATTRIBUTION</th><th class=\"tdhistory571395\">LAST_CLICK_ATTRIBUTION</th><th class=\"tdhistory571395\">UNIFORM_ATTRIBUTION</th><th class=\"tdhistory571395\">EXPONENTIAL_ATTRIBUTION</th></tr></thead><tbody class=\"tdhistory571395 resultset-body\"><tr><th class=\"tdhistory571395\" style= \"background: rgba(243, 243, 243, 0.75)\">1</th><td class=\"tdhistory571395\">350031</td><td class=\"tdhistory571395\">0</td><td class=\"tdhistory571395\">2017-01-07 18:19:57.000000</td><td class=\"tdhistory571395\">OTH ARTHROTOMY-KNEE</td><td class=\"tdhistory571395\">1</td><td class=\"tdhistory571395\">0</td><td class=\"tdhistory571395\">0.09090909090909091</td><td class=\"tdhistory571395\">0.0004885197850512946</td></tr><tr><th class=\"tdhistory571395\" style= \"background: rgba(243, 243, 243, 0.75)\">2</th><td class=\"tdhistory571395\">350031</td><td class=\"tdhistory571395\">1</td><td class=\"tdhistory571395\">2017-01-10 03:41:17.000000</td><td class=\"tdhistory571395\">OTH ARTHROTOMY-KNEE</td><td class=\"tdhistory571395\">0</td><td class=\"tdhistory571395\">0</td><td class=\"tdhistory571395\">0.09090909090909091</td><td class=\"tdhistory571395\">0.0009770395701025891</td></tr><tr><th class=\"tdhistory571395\" style= \"background: rgba(243, 243, 243, 0.75)\">3</th><td class=\"tdhistory571395\">350031</td><td class=\"tdhistory571395\">2</td><td class=\"tdhistory571395\">2017-01-11 09:06:05.000000</td><td class=\"tdhistory571395\">KNEE SYNOVECTOMY</td><td class=\"tdhistory571395\">0</td><td class=\"tdhistory571395\">0</td><td class=\"tdhistory571395\">0.09090909090909091</td><td class=\"tdhistory571395\">0.0019540791402051783</td></tr><tr><th class=\"tdhistory571395\" style= \"background: rgba(243, 243, 243, 0.75)\">4</th><td class=\"tdhistory571395\">350031</td><td class=\"tdhistory571395\">3</td><td class=\"tdhistory571395\">2017-01-17 05:32:48.000000</td><td class=\"tdhistory571395\">KNEE JOINT BIOPSY</td><td class=\"tdhistory571395\">0</td><td class=\"tdhistory571395\">0</td><td class=\"tdhistory571395\">0.09090909090909091</td><td class=\"tdhistory571395\">0.0039081582804103565</td></tr><tr><th class=\"tdhistory571395\" style= \"background: rgba(243, 243, 243, 0.75)\">5</th><td class=\"tdhistory571395\">350031</td><td class=\"tdhistory571395\">4</td><td class=\"tdhistory571395\">2017-01-18 13:55:26.000000</td><td class=\"tdhistory571395\">SKEL XRAY-THIGH/KNEE/LEG</td><td class=\"tdhistory571395\">0</td><td class=\"tdhistory571395\">0</td><td class=\"tdhistory571395\">0.09090909090909091</td><td class=\"tdhistory571395\">0.007816316560820713</td></tr><tr><th class=\"tdhistory571395\" style= \"background: rgba(243, 243, 243, 0.75)\">6</th><td class=\"tdhistory571395\">350031</td><td class=\"tdhistory571395\">5</td><td class=\"tdhistory571395\">2017-01-24 17:24:52.000000</td><td class=\"tdhistory571395\">OTH ARTHROTOMY-KNEE</td><td class=\"tdhistory571395\">0</td><td class=\"tdhistory571395\">0</td><td class=\"tdhistory571395\">0.09090909090909091</td><td class=\"tdhistory571395\">0.015632633121641426</td></tr><tr><th class=\"tdhistory571395\" style= \"background: rgba(243, 243, 243, 0.75)\">7</th><td class=\"tdhistory571395\">350031</td><td class=\"tdhistory571395\">6</td><td class=\"tdhistory571395\">2017-01-26 05:20:25.000000</td><td class=\"tdhistory571395\">PHYSICAL THERAPY NEC</td><td class=\"tdhistory571395\">0</td><td class=\"tdhistory571395\">0</td><td class=\"tdhistory571395\">0.09090909090909091</td><td class=\"tdhistory571395\">0.03126526624328285</td></tr><tr><th class=\"tdhistory571395\" style= \"background: rgba(243, 243, 243, 0.75)\">8</th><td class=\"tdhistory571395\">350031</td><td class=\"tdhistory571395\">7</td><td class=\"tdhistory571395\">2017-02-03 08:22:57.000000</td><td class=\"tdhistory571395\">SKEL XRAY-THIGH/KNEE/LEG</td><td class=\"tdhistory571395\">0</td><td class=\"tdhistory571395\">0</td><td class=\"tdhistory571395\">0.09090909090909091</td><td class=\"tdhistory571395\">0.0625305324865657</td></tr><tr><th class=\"tdhistory571395\" style= \"background: rgba(243, 243, 243, 0.75)\">9</th><td class=\"tdhistory571395\">350031</td><td class=\"tdhistory571395\">8</td><td class=\"tdhistory571395\">2017-02-14 08:19:45.000000</td><td class=\"tdhistory571395\">SKEL XRAY-THIGH/KNEE/LEG</td><td class=\"tdhistory571395\">0</td><td class=\"tdhistory571395\">0</td><td class=\"tdhistory571395\">0.09090909090909091</td><td class=\"tdhistory571395\">0.1250610649731314</td></tr><tr><th class=\"tdhistory571395\" style= \"background: rgba(243, 243, 243, 0.75)\">10</th><td class=\"tdhistory571395\">350031</td><td class=\"tdhistory571395\">9</td><td class=\"tdhistory571395\">2017-02-16 17:43:32.000000</td><td class=\"tdhistory571395\">OTH ARTHROTOMY-KNEE</td><td class=\"tdhistory571395\">0</td><td class=\"tdhistory571395\">0</td><td class=\"tdhistory571395\">0.09090909090909091</td><td class=\"tdhistory571395\">0.2501221299462628</td></tr><tr><th class=\"tdhistory571395\" style= \"background: rgba(243, 243, 243, 0.75)\">11</th><td class=\"tdhistory571395\">350031</td><td class=\"tdhistory571395\">10</td><td class=\"tdhistory571395\">2017-02-24 21:41:10.000000</td><td class=\"tdhistory571395\">KNEE JOINT BIOPSY</td><td class=\"tdhistory571395\">0</td><td class=\"tdhistory571395\">1</td><td class=\"tdhistory571395\">0.09090909090909091</td><td class=\"tdhistory571395\">0.5002442598925256</td></tr><tr><th class=\"tdhistory571395\" style= \"background: rgba(243, 243, 243, 0.75)\">12</th><td class=\"tdhistory571395\">350031</td><td class=\"tdhistory571395\">11</td><td class=\"tdhistory571395\">2017-03-06 11:56:43.000000</td><td class=\"tdhistory571395\">TOTAL KNEE REPLACEMENT</td><td class=\"tdhistory571395\"></td><td class=\"tdhistory571395\"></td><td class=\"tdhistory571395\"></td><td class=\"tdhistory571395\"></td></tr></tbody></table></div>"
      ]
     },
     "execution_count": 24,
     "metadata": {
      "application/vnd.teradata.resultset": "{\"resultSetID\":\"/home/jovyan/JupyterLabRoot/Teradata/Resultsets/2023.12.21_07.41.57.953_UTC\",\"historyID\":378,\"chunkID\":\"00001\",\"sessionid\":\"\",\"portnum\":\"\",\"dockermode\":\"docker\",\"totalRowCount\":12,\"chunkCount\":0,\"rowLimit\":0,\"columnMetadata\":[{\"columnName\":\"MEMBERID\",\"columnTypeName\":\"INTEGER\"},{\"columnNumber\":1,\"columnName\":\"EVENTORDER\",\"columnTypeName\":\"INTEGER\"},{\"columnNumber\":2,\"columnName\":\"datestamp\",\"columnTypeName\":\"TIMESTAMP\",\"length\":6,\"scale\":6},{\"columnNumber\":3,\"columnName\":\"EVENT\",\"columnTypeName\":\"VARCHAR\",\"length\":255,\"scale\":255},{\"columnNumber\":4,\"columnName\":\"FIRST_CLICK_ATTRIBUTION\",\"columnTypeName\":\"FLOAT\"},{\"columnNumber\":5,\"columnName\":\"LAST_CLICK_ATTRIBUTION\",\"columnTypeName\":\"FLOAT\"},{\"columnNumber\":6,\"columnName\":\"UNIFORM_ATTRIBUTION\",\"columnTypeName\":\"FLOAT\"},{\"columnNumber\":7,\"columnName\":\"EXPONENTIAL_ATTRIBUTION\",\"columnTypeName\":\"FLOAT\"}]}"
     },
     "output_type": "execute_result"
    }
   ],
   "source": [
    "SELECT * FROM ATTRIBUTION_MODEL_OUTPUT WHERE MEMBERID=350031 ORDER BY 2 ASC ;"
   ]
  },
  {
   "cell_type": "markdown",
   "metadata": {},
   "source": [
    "<p style = 'font-size:16px;font-family:Arial;color:#00233C'>The above output of the Attribution Models is as below: \n",
    "<li style = 'font-size:16px;font-family:Arial;color:#00233C'>*first event model*: the first event gets 100% of the weight :-  In the above output for the given member 'OTH ARTHROTOMY-KNEE' is the first click attribution i.e. the first event.</li> \n",
    "<li style = 'font-size:16px;font-family:Arial;color:#00233C'>*last event model*: the last event gets 100% of the weight :- As seen in the output 'KNEE JOINT BIOPSY' is the last click attribution i.e. the last event before the event of Interest.</li>\n",
    "<li style = 'font-size:16px;font-family:Arial;color:#00233C'> *uniform event model*: all events are given equal weight :- As in the Uniform distribution column each event for that particular member is given equal weight i.e. 1/(Numberofevents-1) will give the attribution for each event.</li>\n",
    "<li style = 'font-size:16px;font-family:Arial;color:#00233C'>*exponential model*: each subsequent event in a sequence is given a higher weight than the preceding activity :- the exponential attribution is lowest for the first event and highest for the last event.</li>\n",
    "</p>\n",
    "\n",
    "\n",
    "<p style = 'font-size:18px;font-family:Arial;color:#00233C'>Sum up the attribution values for each event/model combination</p>\n",
    "<p style = 'font-size:16px;font-family:Arial;color:#00233C'>Totals for each event/model combination should equal 1.0 (100%) for each member.</p>"
   ]
  },
  {
   "cell_type": "code",
   "execution_count": 25,
   "metadata": {},
   "outputs": [
    {
     "data": {
      "application/vnd.teradata.resultset": "\"MEMBERID\",\"FIRST_CLICK_TOTAL\",\"LAST_CLICK_TOTAL\",\"UNIFORM_TOTAL\",\"EXPONENTIAL_TOTAL\"\n\"372886\",\"1\",\"1\",\"1\",\"1\"\n\"362163\",\"1\",\"1\",\"1\",\"0.9999999999999999\"\n\"381005\",\"1\",\"1\",\"1\",\"0.9999999999999999\"\n\"378425\",\"1\",\"1\",\"1\",\"1\"\n\"352766\",\"1\",\"1\",\"1\",\"1\"",
      "text/html": [
       "<div class = \"td-resultset-table-div\" style = \"max-height: 100%; overflow-y: auto\">\n",
       "      <table class=\"tdhistory73429\"><style>\n",
       "      table.tdhistory73429 { display: block !important; min-height: 189px !important; overflow: auto !important; height: 189px !important; width: 100% !important; border: 1px solid rgb(207, 207, 207) !important; border-collapse: collapse !important; ; color: var(--jp-ui-font-color1) !important; }\n",
       "      th.tdhistory73429 { border: 1px solid rgb(198,198,198) !important; border-collapse: collapse !important; ; padding: 2px 5px !important; ; font-size: 13px !important; ; text-align: center !important; white-space: normal !important; color: var(--jp-ui-font-color1) !important; }\n",
       "      th.tdhistory73429:last-child { text-align: left !important; }\n",
       "      tbody.tdhistory73429 tr:nth-child(even) { background: rgba(243, 243, 243, 0.75) !important; }\n",
       "      tbody.tdhistory73429 tr:nth-child(odd) { background: var(--jp-ui-inverse-font-color1) !important; }\n",
       "      td.tdhistory73429 { border: 1px solid rgb(207, 207, 207) !important; border-collapse: collapse !important; ; padding: 2px 5px !important; ; font-size: 13px !important; ; text-align: left !important;          white-space: nowrap !important; overflow:hidden !important; text-overflow:ellipsis !important;; }\n",
       "    </style><thead><tr style= \"background: rgba(243, 243, 243, 0.75)\"><th class=\"tdhistory73429\"></th><th class=\"tdhistory73429\">MEMBERID</th><th class=\"tdhistory73429\">FIRST_CLICK_TOTAL</th><th class=\"tdhistory73429\">LAST_CLICK_TOTAL</th><th class=\"tdhistory73429\">UNIFORM_TOTAL</th><th class=\"tdhistory73429\">EXPONENTIAL_TOTAL</th></tr></thead><tbody class=\"tdhistory73429 resultset-body\"><tr><th class=\"tdhistory73429\" style= \"background: rgba(243, 243, 243, 0.75)\">1</th><td class=\"tdhistory73429\">372886</td><td class=\"tdhistory73429\">1</td><td class=\"tdhistory73429\">1</td><td class=\"tdhistory73429\">1</td><td class=\"tdhistory73429\">1</td></tr><tr><th class=\"tdhistory73429\" style= \"background: rgba(243, 243, 243, 0.75)\">2</th><td class=\"tdhistory73429\">362163</td><td class=\"tdhistory73429\">1</td><td class=\"tdhistory73429\">1</td><td class=\"tdhistory73429\">1</td><td class=\"tdhistory73429\">0.9999999999999999</td></tr><tr><th class=\"tdhistory73429\" style= \"background: rgba(243, 243, 243, 0.75)\">3</th><td class=\"tdhistory73429\">381005</td><td class=\"tdhistory73429\">1</td><td class=\"tdhistory73429\">1</td><td class=\"tdhistory73429\">1</td><td class=\"tdhistory73429\">0.9999999999999999</td></tr><tr><th class=\"tdhistory73429\" style= \"background: rgba(243, 243, 243, 0.75)\">4</th><td class=\"tdhistory73429\">378425</td><td class=\"tdhistory73429\">1</td><td class=\"tdhistory73429\">1</td><td class=\"tdhistory73429\">1</td><td class=\"tdhistory73429\">1</td></tr><tr><th class=\"tdhistory73429\" style= \"background: rgba(243, 243, 243, 0.75)\">5</th><td class=\"tdhistory73429\">352766</td><td class=\"tdhistory73429\">1</td><td class=\"tdhistory73429\">1</td><td class=\"tdhistory73429\">1</td><td class=\"tdhistory73429\">1</td></tr></tbody></table></div>"
      ]
     },
     "execution_count": 25,
     "metadata": {
      "application/vnd.teradata.resultset": "{\"resultSetID\":\"/home/jovyan/JupyterLabRoot/Teradata/Resultsets/2023.12.21_07.41.58.335_UTC\",\"historyID\":379,\"chunkID\":\"00001\",\"sessionid\":\"\",\"portnum\":\"\",\"dockermode\":\"docker\",\"totalRowCount\":5,\"chunkCount\":0,\"rowLimit\":0,\"columnMetadata\":[{\"columnName\":\"MEMBERID\",\"columnTypeName\":\"INTEGER\"},{\"columnNumber\":1,\"columnName\":\"FIRST_CLICK_TOTAL\",\"columnTypeName\":\"FLOAT\"},{\"columnNumber\":2,\"columnName\":\"LAST_CLICK_TOTAL\",\"columnTypeName\":\"FLOAT\"},{\"columnNumber\":3,\"columnName\":\"UNIFORM_TOTAL\",\"columnTypeName\":\"FLOAT\"},{\"columnNumber\":4,\"columnName\":\"EXPONENTIAL_TOTAL\",\"columnTypeName\":\"FLOAT\"}]}"
     },
     "output_type": "execute_result"
    }
   ],
   "source": [
    "SELECT TOP 5 MEMBERID\n",
    "       ,SUM(FIRST_CLICK_ATTRIBUTION) AS FIRST_CLICK_TOTAL\n",
    "       ,SUM(LAST_CLICK_ATTRIBUTION)  AS LAST_CLICK_TOTAL\n",
    "       ,SUM(UNIFORM_ATTRIBUTION)     AS UNIFORM_TOTAL\n",
    "       ,SUM(EXPONENTIAL_ATTRIBUTION) AS EXPONENTIAL_TOTAL\n",
    "FROM ATTRIBUTION_MODEL_OUTPUT\n",
    "GROUP BY MEMBERID; "
   ]
  },
  {
   "cell_type": "markdown",
   "metadata": {},
   "source": [
    "<p style = 'font-size:16px;font-family:Arial;color:#00233C'>As seen in the above output the totals for each event/model combination is equal to/nearing 1.0 (100%) for each member.</p>\n",
    "<p style = 'font-size:18px;font-family:Arial;color:#00233C'>Sum attribution values for each event</p>"
   ]
  },
  {
   "cell_type": "code",
   "execution_count": 26,
   "metadata": {},
   "outputs": [
    {
     "data": {
      "application/vnd.teradata.resultset": "\"EVENT\",\"FIRST_CLICK_ATTRIBUTION\",\"LAST_CLICK_ATTRIBUTION\",\"UNIFORM_ATTRIBUTION\",\"EXPONENTIAL_ATTRIBUTION\"\n\"KNEE JOINT BIOPSY\",\"134\",\"6853\",\"1518.120133091847\",\"3667.8067681261573\"\n\"KNEE ARTHROSCOPY\",\"126\",\"5261\",\"1828.3676070188392\",\"3619.298329857854\"\n\"OTHER DIAGNOSTIC PHYSICAL THERAPY PROCEDURE\",\"0\",\"1938\",\"363.6629836666626\",\"997.4909149086209\"\n\"OTH ARTHROTOMY-KNEE\",\"133\",\"567\",\"3628.1780402992326\",\"3627.9258138229916\"\n\"PHYSICAL THERAPY NEC\",\"114\",\"277\",\"4546.251630984565\",\"2329.176979403036\"\n\"SKEL XRAY-THIGH/KNEE/LEG\",\"3563\",\"249\",\"910.8024095958976\",\"378.1904631362621\"\n\"TRIAD KNEE REPAIR\",\"121\",\"245\",\"255.5054383911599\",\"268.47105163169573\"\n\"EXCIS KNEE SEMILUN CARTL\",\"145\",\"237\",\"268.478592563269\",\"268.11746919169207\"\n\"KNEE SYNOVECTOMY\",\"108\",\"231\",\"258.4355625755411\",\"267.4573001704249\"\n\"KNEE STRUCTURE DIVISION\",\"120\",\"215\",\"262.5158766414201\",\"254.95417873057914\"\n\"RANGE OF MOTION TESTING\",\"11723\",\"214\",\"2446.6817251719776\",\"608.1107310205732\"\n\"TOTAL KNEE REPLACEMENT\",\"\",\"\",\"\",\"\"",
      "text/html": [
       "<div class = \"td-resultset-table-div\" style = \"max-height: 100%; overflow-y: auto\">\n",
       "      <table class=\"tdhistory858622\"><style>\n",
       "      table.tdhistory858622 { display: block !important; min-height: 336px !important; overflow: auto !important; height: 336px !important; width: 100% !important; border: 1px solid rgb(207, 207, 207) !important; border-collapse: collapse !important; ; color: var(--jp-ui-font-color1) !important; }\n",
       "      th.tdhistory858622 { border: 1px solid rgb(198,198,198) !important; border-collapse: collapse !important; ; padding: 2px 5px !important; ; font-size: 13px !important; ; text-align: center !important; white-space: normal !important; color: var(--jp-ui-font-color1) !important; }\n",
       "      th.tdhistory858622:last-child { text-align: left !important; }\n",
       "      tbody.tdhistory858622 tr:nth-child(even) { background: rgba(243, 243, 243, 0.75) !important; }\n",
       "      tbody.tdhistory858622 tr:nth-child(odd) { background: var(--jp-ui-inverse-font-color1) !important; }\n",
       "      td.tdhistory858622 { border: 1px solid rgb(207, 207, 207) !important; border-collapse: collapse !important; ; padding: 2px 5px !important; ; font-size: 13px !important; ; text-align: left !important;          white-space: nowrap !important; overflow:hidden !important; text-overflow:ellipsis !important;; }\n",
       "    </style><thead><tr style= \"background: rgba(243, 243, 243, 0.75)\"><th class=\"tdhistory858622\"></th><th class=\"tdhistory858622\">EVENT</th><th class=\"tdhistory858622\">FIRST_CLICK_ATTRIBUTION</th><th class=\"tdhistory858622\">LAST_CLICK_ATTRIBUTION</th><th class=\"tdhistory858622\">UNIFORM_ATTRIBUTION</th><th class=\"tdhistory858622\">EXPONENTIAL_ATTRIBUTION</th></tr></thead><tbody class=\"tdhistory858622 resultset-body\"><tr><th class=\"tdhistory858622\" style= \"background: rgba(243, 243, 243, 0.75)\">1</th><td class=\"tdhistory858622\">KNEE JOINT BIOPSY</td><td class=\"tdhistory858622\">134</td><td class=\"tdhistory858622\">6853</td><td class=\"tdhistory858622\">1518.120133091847</td><td class=\"tdhistory858622\">3667.8067681261573</td></tr><tr><th class=\"tdhistory858622\" style= \"background: rgba(243, 243, 243, 0.75)\">2</th><td class=\"tdhistory858622\">KNEE ARTHROSCOPY</td><td class=\"tdhistory858622\">126</td><td class=\"tdhistory858622\">5261</td><td class=\"tdhistory858622\">1828.3676070188392</td><td class=\"tdhistory858622\">3619.298329857854</td></tr><tr><th class=\"tdhistory858622\" style= \"background: rgba(243, 243, 243, 0.75)\">3</th><td class=\"tdhistory858622\">OTHER DIAGNOSTIC PHYSICAL THERAPY PROCEDURE</td><td class=\"tdhistory858622\">0</td><td class=\"tdhistory858622\">1938</td><td class=\"tdhistory858622\">363.6629836666626</td><td class=\"tdhistory858622\">997.4909149086209</td></tr><tr><th class=\"tdhistory858622\" style= \"background: rgba(243, 243, 243, 0.75)\">4</th><td class=\"tdhistory858622\">OTH ARTHROTOMY-KNEE</td><td class=\"tdhistory858622\">133</td><td class=\"tdhistory858622\">567</td><td class=\"tdhistory858622\">3628.1780402992326</td><td class=\"tdhistory858622\">3627.9258138229916</td></tr><tr><th class=\"tdhistory858622\" style= \"background: rgba(243, 243, 243, 0.75)\">5</th><td class=\"tdhistory858622\">PHYSICAL THERAPY NEC</td><td class=\"tdhistory858622\">114</td><td class=\"tdhistory858622\">277</td><td class=\"tdhistory858622\">4546.251630984565</td><td class=\"tdhistory858622\">2329.176979403036</td></tr><tr><th class=\"tdhistory858622\" style= \"background: rgba(243, 243, 243, 0.75)\">6</th><td class=\"tdhistory858622\">SKEL XRAY-THIGH/KNEE/LEG</td><td class=\"tdhistory858622\">3563</td><td class=\"tdhistory858622\">249</td><td class=\"tdhistory858622\">910.8024095958976</td><td class=\"tdhistory858622\">378.1904631362621</td></tr><tr><th class=\"tdhistory858622\" style= \"background: rgba(243, 243, 243, 0.75)\">7</th><td class=\"tdhistory858622\">TRIAD KNEE REPAIR</td><td class=\"tdhistory858622\">121</td><td class=\"tdhistory858622\">245</td><td class=\"tdhistory858622\">255.5054383911599</td><td class=\"tdhistory858622\">268.47105163169573</td></tr><tr><th class=\"tdhistory858622\" style= \"background: rgba(243, 243, 243, 0.75)\">8</th><td class=\"tdhistory858622\">EXCIS KNEE SEMILUN CARTL</td><td class=\"tdhistory858622\">145</td><td class=\"tdhistory858622\">237</td><td class=\"tdhistory858622\">268.478592563269</td><td class=\"tdhistory858622\">268.11746919169207</td></tr><tr><th class=\"tdhistory858622\" style= \"background: rgba(243, 243, 243, 0.75)\">9</th><td class=\"tdhistory858622\">KNEE SYNOVECTOMY</td><td class=\"tdhistory858622\">108</td><td class=\"tdhistory858622\">231</td><td class=\"tdhistory858622\">258.4355625755411</td><td class=\"tdhistory858622\">267.4573001704249</td></tr><tr><th class=\"tdhistory858622\" style= \"background: rgba(243, 243, 243, 0.75)\">10</th><td class=\"tdhistory858622\">KNEE STRUCTURE DIVISION</td><td class=\"tdhistory858622\">120</td><td class=\"tdhistory858622\">215</td><td class=\"tdhistory858622\">262.5158766414201</td><td class=\"tdhistory858622\">254.95417873057914</td></tr><tr><th class=\"tdhistory858622\" style= \"background: rgba(243, 243, 243, 0.75)\">11</th><td class=\"tdhistory858622\">RANGE OF MOTION TESTING</td><td class=\"tdhistory858622\">11723</td><td class=\"tdhistory858622\">214</td><td class=\"tdhistory858622\">2446.6817251719776</td><td class=\"tdhistory858622\">608.1107310205732</td></tr><tr><th class=\"tdhistory858622\" style= \"background: rgba(243, 243, 243, 0.75)\">12</th><td class=\"tdhistory858622\">TOTAL KNEE REPLACEMENT</td><td class=\"tdhistory858622\"></td><td class=\"tdhistory858622\"></td><td class=\"tdhistory858622\"></td><td class=\"tdhistory858622\"></td></tr></tbody></table></div>"
      ]
     },
     "execution_count": 26,
     "metadata": {
      "application/vnd.teradata.resultset": "{\"resultSetID\":\"/home/jovyan/JupyterLabRoot/Teradata/Resultsets/2023.12.21_07.41.58.530_UTC\",\"historyID\":380,\"chunkID\":\"00001\",\"sessionid\":\"\",\"portnum\":\"\",\"dockermode\":\"docker\",\"totalRowCount\":12,\"chunkCount\":0,\"rowLimit\":0,\"columnMetadata\":[{\"columnName\":\"EVENT\",\"columnTypeName\":\"VARCHAR\",\"length\":255,\"scale\":255},{\"columnNumber\":1,\"columnName\":\"FIRST_CLICK_ATTRIBUTION\",\"columnTypeName\":\"FLOAT\"},{\"columnNumber\":2,\"columnName\":\"LAST_CLICK_ATTRIBUTION\",\"columnTypeName\":\"FLOAT\"},{\"columnNumber\":3,\"columnName\":\"UNIFORM_ATTRIBUTION\",\"columnTypeName\":\"FLOAT\"},{\"columnNumber\":4,\"columnName\":\"EXPONENTIAL_ATTRIBUTION\",\"columnTypeName\":\"FLOAT\"}]}"
     },
     "output_type": "execute_result"
    }
   ],
   "source": [
    "SELECT EVENT\n",
    "       ,SUM(FIRST_CLICK_ATTRIBUTION) AS FIRST_CLICK_ATTRIBUTION\n",
    "       ,SUM(LAST_CLICK_ATTRIBUTION)  AS LAST_CLICK_ATTRIBUTION\n",
    "       ,SUM(UNIFORM_ATTRIBUTION)     AS UNIFORM_ATTRIBUTION\n",
    "       ,SUM(EXPONENTIAL_ATTRIBUTION) AS EXPONENTIAL_ATTRIBUTION\n",
    "FROM ATTRIBUTION_MODEL_OUTPUT\n",
    "GROUP BY EVENT\n",
    "ORDER BY 3 DESC; "
   ]
  },
  {
   "cell_type": "markdown",
   "metadata": {
    "jp-MarkdownHeadingCollapsed": true,
    "tags": []
   },
   "source": [
    "<p style = 'font-size:16px;font-family:Arial;color:#00233C'>The above output shows the values of each type of Attribution for EACH event that we have in the different PATHS and the totals for each event/model combination.</p>\n",
    "<hr style=\"height:2px;border:none;background-color:#00233C;\">\n",
    "<p style = 'font-size:20px;font-family:Arial;color:#00233C'><b>6. Visualization</b></p>\n",
    "    <p style = 'font-size:18px;font-family:Arial;color:#00233C'> <b>Visualize Using Data from the Last Query</p>"
   ]
  },
  {
   "cell_type": "code",
   "execution_count": 27,
   "metadata": {},
   "outputs": [
    {
     "data": {
      "application/vnd.vegalite.v3+json": {
       "$schema": "https://vega.github.io/schema/vega-lite/v3.json",
       "data": {
        "format": {
         "type": "csv"
        },
        "values": "\"EVENT\",\"FIRST_CLICK_ATTRIBUTION\",\"LAST_CLICK_ATTRIBUTION\",\"UNIFORM_ATTRIBUTION\",\"EXPONENTIAL_ATTRIBUTION\"\n\"KNEE JOINT BIOPSY\",\"134\",\"6853\",\"1518.120133091847\",\"3667.8067681261573\"\n\"KNEE ARTHROSCOPY\",\"126\",\"5261\",\"1828.3676070188392\",\"3619.298329857854\"\n\"OTHER DIAGNOSTIC PHYSICAL THERAPY PROCEDURE\",\"0\",\"1938\",\"363.6629836666626\",\"997.4909149086209\"\n\"OTH ARTHROTOMY-KNEE\",\"133\",\"567\",\"3628.1780402992326\",\"3627.9258138229916\"\n\"PHYSICAL THERAPY NEC\",\"114\",\"277\",\"4546.251630984565\",\"2329.176979403036\"\n\"SKEL XRAY-THIGH/KNEE/LEG\",\"3563\",\"249\",\"910.8024095958976\",\"378.1904631362621\"\n\"TRIAD KNEE REPAIR\",\"121\",\"245\",\"255.5054383911599\",\"268.47105163169573\"\n\"EXCIS KNEE SEMILUN CARTL\",\"145\",\"237\",\"268.478592563269\",\"268.11746919169207\"\n\"KNEE SYNOVECTOMY\",\"108\",\"231\",\"258.4355625755411\",\"267.4573001704249\"\n\"KNEE STRUCTURE DIVISION\",\"120\",\"215\",\"262.5158766414201\",\"254.95417873057914\"\n\"RANGE OF MOTION TESTING\",\"11723\",\"214\",\"2446.6817251719776\",\"608.1107310205732\"\n\"TOTAL KNEE REPLACEMENT\",\"\",\"\",\"\",\"\"\n"
       },
       "encoding": {
        "x": {
         "axis": {
          "grid": true,
          "title": "EVENT"
         },
         "field": "EVENT",
         "type": "nominal"
        },
        "y": {
         "axis": {
          "grid": true,
          "title": "FIRST_CLICK_ATTRIBUTION"
         },
         "field": "FIRST_CLICK_ATTRIBUTION",
         "type": "quantitative"
        }
       },
       "mark": {
        "color": "#4C78A8",
        "type": "bar"
       },
       "title": "First Click Attribution",
       "width": "600"
      },
      "image/png": "[encoded data removed]"
     },
     "execution_count": 27,
     "metadata": {
      "application/vnd.teradata.resultset": ""
     },
     "output_type": "execute_result"
    }
   ],
   "source": [
    "%chart EVENT, FIRST_CLICK_ATTRIBUTION  , title=\"First Click Attribution\", width = 600 "
   ]
  },
  {
   "cell_type": "markdown",
   "metadata": {
    "jp-MarkdownHeadingCollapsed": true,
    "tags": []
   },
   "source": [
    "<p style = 'font-size:16px;font-family:Arial;color:#00233C'>The above output shows the total of each type of event for FIRST CLICK ATTRIBUTION. It means that the event <b>RANGE OF MOTION TESTING</b> was the first event in maximum number of cases followed by SKEL XRAY - THIGH/KNEE/LEG.</p>"
   ]
  },
  {
   "cell_type": "code",
   "execution_count": 28,
   "metadata": {
    "tags": []
   },
   "outputs": [
    {
     "data": {
      "application/vnd.vegalite.v3+json": {
       "$schema": "https://vega.github.io/schema/vega-lite/v3.json",
       "data": {
        "format": {
         "type": "csv"
        },
        "values": "\"EVENT\",\"FIRST_CLICK_ATTRIBUTION\",\"LAST_CLICK_ATTRIBUTION\",\"UNIFORM_ATTRIBUTION\",\"EXPONENTIAL_ATTRIBUTION\"\n\"KNEE JOINT BIOPSY\",\"134\",\"6853\",\"1518.120133091847\",\"3667.8067681261573\"\n\"KNEE ARTHROSCOPY\",\"126\",\"5261\",\"1828.3676070188392\",\"3619.298329857854\"\n\"OTHER DIAGNOSTIC PHYSICAL THERAPY PROCEDURE\",\"0\",\"1938\",\"363.6629836666626\",\"997.4909149086209\"\n\"OTH ARTHROTOMY-KNEE\",\"133\",\"567\",\"3628.1780402992326\",\"3627.9258138229916\"\n\"PHYSICAL THERAPY NEC\",\"114\",\"277\",\"4546.251630984565\",\"2329.176979403036\"\n\"SKEL XRAY-THIGH/KNEE/LEG\",\"3563\",\"249\",\"910.8024095958976\",\"378.1904631362621\"\n\"TRIAD KNEE REPAIR\",\"121\",\"245\",\"255.5054383911599\",\"268.47105163169573\"\n\"EXCIS KNEE SEMILUN CARTL\",\"145\",\"237\",\"268.478592563269\",\"268.11746919169207\"\n\"KNEE SYNOVECTOMY\",\"108\",\"231\",\"258.4355625755411\",\"267.4573001704249\"\n\"KNEE STRUCTURE DIVISION\",\"120\",\"215\",\"262.5158766414201\",\"254.95417873057914\"\n\"RANGE OF MOTION TESTING\",\"11723\",\"214\",\"2446.6817251719776\",\"608.1107310205732\"\n\"TOTAL KNEE REPLACEMENT\",\"\",\"\",\"\",\"\"\n"
       },
       "encoding": {
        "x": {
         "axis": {
          "grid": true,
          "title": "EVENT"
         },
         "field": "EVENT",
         "type": "nominal"
        },
        "y": {
         "axis": {
          "grid": true,
          "title": "LAST_CLICK_ATTRIBUTION"
         },
         "field": "LAST_CLICK_ATTRIBUTION",
         "type": "quantitative"
        }
       },
       "mark": {
        "color": "#4C78A8",
        "type": "bar"
       },
       "title": "Last Click Attribution",
       "width": "600"
      },
      "image/png": "[encoded data removed]"
     },
     "execution_count": 28,
     "metadata": {
      "application/vnd.teradata.resultset": ""
     },
     "output_type": "execute_result"
    }
   ],
   "source": [
    "%chart EVENT, LAST_CLICK_ATTRIBUTION, title=\"Last Click Attribution\", width = 600"
   ]
  },
  {
   "cell_type": "markdown",
   "metadata": {
    "jp-MarkdownHeadingCollapsed": true,
    "tags": []
   },
   "source": [
    "<p style = 'font-size:16px;font-family:Arial;color:#00233C'>The above output shows the total of each type of event for LAST CLICK ATTRIBUTION i.e. the last event before TOTAL KNEE REPLACEMENT. The event <b>KNEE JOINT BIOPSY </b> was the last event in maximum number of cases followed by KNEE ARTHROSCOPY.</p>"
   ]
  },
  {
   "cell_type": "code",
   "execution_count": 29,
   "metadata": {
    "tags": []
   },
   "outputs": [
    {
     "data": {
      "application/vnd.vegalite.v3+json": {
       "$schema": "https://vega.github.io/schema/vega-lite/v3.json",
       "data": {
        "format": {
         "type": "csv"
        },
        "values": "\"EVENT\",\"FIRST_CLICK_ATTRIBUTION\",\"LAST_CLICK_ATTRIBUTION\",\"UNIFORM_ATTRIBUTION\",\"EXPONENTIAL_ATTRIBUTION\"\n\"KNEE JOINT BIOPSY\",\"134\",\"6853\",\"1518.120133091847\",\"3667.8067681261573\"\n\"KNEE ARTHROSCOPY\",\"126\",\"5261\",\"1828.3676070188392\",\"3619.298329857854\"\n\"OTHER DIAGNOSTIC PHYSICAL THERAPY PROCEDURE\",\"0\",\"1938\",\"363.6629836666626\",\"997.4909149086209\"\n\"OTH ARTHROTOMY-KNEE\",\"133\",\"567\",\"3628.1780402992326\",\"3627.9258138229916\"\n\"PHYSICAL THERAPY NEC\",\"114\",\"277\",\"4546.251630984565\",\"2329.176979403036\"\n\"SKEL XRAY-THIGH/KNEE/LEG\",\"3563\",\"249\",\"910.8024095958976\",\"378.1904631362621\"\n\"TRIAD KNEE REPAIR\",\"121\",\"245\",\"255.5054383911599\",\"268.47105163169573\"\n\"EXCIS KNEE SEMILUN CARTL\",\"145\",\"237\",\"268.478592563269\",\"268.11746919169207\"\n\"KNEE SYNOVECTOMY\",\"108\",\"231\",\"258.4355625755411\",\"267.4573001704249\"\n\"KNEE STRUCTURE DIVISION\",\"120\",\"215\",\"262.5158766414201\",\"254.95417873057914\"\n\"RANGE OF MOTION TESTING\",\"11723\",\"214\",\"2446.6817251719776\",\"608.1107310205732\"\n\"TOTAL KNEE REPLACEMENT\",\"\",\"\",\"\",\"\"\n"
       },
       "encoding": {
        "x": {
         "axis": {
          "grid": true,
          "title": "EVENT"
         },
         "field": "EVENT",
         "type": "nominal"
        },
        "y": {
         "axis": {
          "grid": true,
          "title": "UNIFORM_ATTRIBUTION"
         },
         "field": "UNIFORM_ATTRIBUTION",
         "type": "quantitative"
        }
       },
       "mark": {
        "color": "#4C78A8",
        "type": "bar"
       },
       "title": "Uniform Attribution",
       "width": "600"
      },
      "image/png": "[encoded data removed]"
     },
     "execution_count": 29,
     "metadata": {
      "application/vnd.teradata.resultset": ""
     },
     "output_type": "execute_result"
    }
   ],
   "source": [
    "%chart EVENT, UNIFORM_ATTRIBUTION, title=\"Uniform Attribution\", width = 600"
   ]
  },
  {
   "cell_type": "markdown",
   "metadata": {
    "jp-MarkdownHeadingCollapsed": true,
    "tags": []
   },
   "source": [
    "<p style = 'font-size:16px;font-family:Arial;color:#00233C'>The above output shows the total of each type of event for UNIFORM ATTRIBUTION i.e. the occurrence of each event when the weights are uniformly distributed. The event <b>PHYSICAL THERAPY NEC</b> shows the maximum number of occurrences followed by OTH ARTHROTOMY-KNEE.</p>"
   ]
  },
  {
   "cell_type": "code",
   "execution_count": 30,
   "metadata": {},
   "outputs": [
    {
     "data": {
      "application/vnd.vegalite.v3+json": {
       "$schema": "https://vega.github.io/schema/vega-lite/v3.json",
       "data": {
        "format": {
         "type": "csv"
        },
        "values": "\"EVENT\",\"FIRST_CLICK_ATTRIBUTION\",\"LAST_CLICK_ATTRIBUTION\",\"UNIFORM_ATTRIBUTION\",\"EXPONENTIAL_ATTRIBUTION\"\n\"KNEE JOINT BIOPSY\",\"134\",\"6853\",\"1518.120133091847\",\"3667.8067681261573\"\n\"KNEE ARTHROSCOPY\",\"126\",\"5261\",\"1828.3676070188392\",\"3619.298329857854\"\n\"OTHER DIAGNOSTIC PHYSICAL THERAPY PROCEDURE\",\"0\",\"1938\",\"363.6629836666626\",\"997.4909149086209\"\n\"OTH ARTHROTOMY-KNEE\",\"133\",\"567\",\"3628.1780402992326\",\"3627.9258138229916\"\n\"PHYSICAL THERAPY NEC\",\"114\",\"277\",\"4546.251630984565\",\"2329.176979403036\"\n\"SKEL XRAY-THIGH/KNEE/LEG\",\"3563\",\"249\",\"910.8024095958976\",\"378.1904631362621\"\n\"TRIAD KNEE REPAIR\",\"121\",\"245\",\"255.5054383911599\",\"268.47105163169573\"\n\"EXCIS KNEE SEMILUN CARTL\",\"145\",\"237\",\"268.478592563269\",\"268.11746919169207\"\n\"KNEE SYNOVECTOMY\",\"108\",\"231\",\"258.4355625755411\",\"267.4573001704249\"\n\"KNEE STRUCTURE DIVISION\",\"120\",\"215\",\"262.5158766414201\",\"254.95417873057914\"\n\"RANGE OF MOTION TESTING\",\"11723\",\"214\",\"2446.6817251719776\",\"608.1107310205732\"\n\"TOTAL KNEE REPLACEMENT\",\"\",\"\",\"\",\"\"\n"
       },
       "encoding": {
        "x": {
         "axis": {
          "grid": true,
          "title": "EVENT"
         },
         "field": "EVENT",
         "type": "nominal"
        },
        "y": {
         "axis": {
          "grid": true,
          "title": "EXPONENTIAL_ATTRIBUTION"
         },
         "field": "EXPONENTIAL_ATTRIBUTION",
         "type": "quantitative"
        }
       },
       "mark": {
        "color": "#4C78A8",
        "type": "bar"
       },
       "title": "Exponential Attribution",
       "width": "600"
      },
      "image/png": "[encoded data removed]"
     },
     "execution_count": 30,
     "metadata": {
      "application/vnd.teradata.resultset": ""
     },
     "output_type": "execute_result"
    }
   ],
   "source": [
    "%chart EVENT, EXPONENTIAL_ATTRIBUTION, title=\"Exponential Attribution\" , width = 600"
   ]
  },
  {
   "cell_type": "markdown",
   "metadata": {
    "jp-MarkdownHeadingCollapsed": true,
    "tags": []
   },
   "source": [
    "<p style = 'font-size:16px;font-family:Arial;color:#00233C'>The above output shows the total of each type of event for EXPONENTIAL ATTRIBUTION i.e. the first event has minimum weight and the last event has maximum weight. The above chart shows that the events KNEE ARTHROSCOPY, KNEE JOINT BIOPSY and OTH ARTHROTOMY-KNEE show almost similar number of cases where these events have the highest weights.</p>"
   ]
  },
  {
   "cell_type": "markdown",
   "metadata": {},
   "source": [
    "<hr style=\"height:2px;border:none;background-color:#00233C;\">\n",
    "<p style = 'font-size:20px;font-family:Arial;color:#00233C'><b>7. Cleanup</b></p>\n",
    "<p style = 'font-size:18px;font-family:Arial;color:#00233C'><b>Work Tables</b></p>\n",
    "<p style = 'font-size:16px;font-family:Arial;color:#00233C'>Clean up the work tables to prevent error next time.</p>"
   ]
  },
  {
   "cell_type": "code",
   "execution_count": 31,
   "metadata": {},
   "outputs": [
    {
     "data": {
      "text/plain": [
       "Success: 15 rows affected"
      ]
     },
     "execution_count": 31,
     "metadata": {
      "application/vnd.teradata.resultset": ""
     },
     "output_type": "execute_result"
    }
   ],
   "source": [
    "DROP TABLE attribution_model_first;"
   ]
  },
  {
   "cell_type": "code",
   "execution_count": 32,
   "metadata": {},
   "outputs": [
    {
     "data": {
      "text/plain": [
       "Success: 15 rows affected"
      ]
     },
     "execution_count": 32,
     "metadata": {
      "application/vnd.teradata.resultset": ""
     },
     "output_type": "execute_result"
    }
   ],
   "source": [
    "DROP TABLE attribution_model_last; "
   ]
  },
  {
   "cell_type": "code",
   "execution_count": 33,
   "metadata": {},
   "outputs": [
    {
     "data": {
      "text/plain": [
       "Success: 15 rows affected"
      ]
     },
     "execution_count": 33,
     "metadata": {
      "application/vnd.teradata.resultset": ""
     },
     "output_type": "execute_result"
    }
   ],
   "source": [
    "DROP TABLE attribution_model_uniform;"
   ]
  },
  {
   "cell_type": "code",
   "execution_count": 34,
   "metadata": {},
   "outputs": [
    {
     "data": {
      "text/plain": [
       "Success: 15 rows affected"
      ]
     },
     "execution_count": 34,
     "metadata": {
      "application/vnd.teradata.resultset": ""
     },
     "output_type": "execute_result"
    }
   ],
   "source": [
    "DROP TABLE attribution_model_exponential; "
   ]
  },
  {
   "cell_type": "code",
   "execution_count": 35,
   "metadata": {},
   "outputs": [
    {
     "data": {
      "text/plain": [
       "Success: 14 rows affected"
      ]
     },
     "execution_count": 35,
     "metadata": {
      "application/vnd.teradata.resultset": ""
     },
     "output_type": "execute_result"
    }
   ],
   "source": [
    "DROP TABLE ATTRIBUTION_EOI; "
   ]
  },
  {
   "cell_type": "code",
   "execution_count": 36,
   "metadata": {},
   "outputs": [
    {
     "data": {
      "text/plain": [
       "Success: 24 rows affected"
      ]
     },
     "execution_count": 36,
     "metadata": {
      "application/vnd.teradata.resultset": ""
     },
     "output_type": "execute_result"
    }
   ],
   "source": [
    "DROP TABLE KneeSessions;"
   ]
  },
  {
   "cell_type": "code",
   "execution_count": 37,
   "metadata": {},
   "outputs": [
    {
     "data": {
      "text/plain": [
       "Success: 21 rows affected"
      ]
     },
     "execution_count": 37,
     "metadata": {
      "application/vnd.teradata.resultset": ""
     },
     "output_type": "execute_result"
    }
   ],
   "source": [
    "DROP TABLE ATTRIBUTION_MODEL_OUTPUT;  "
   ]
  },
  {
   "cell_type": "markdown",
   "metadata": {},
   "source": [
    "<p style = 'font-size:18px;font-family:Arial;color:#00233C'><b>Databases and Tables</b></p>\n",
    "<p style = 'font-size:16px;font-family:Arial;color:#00233C'>The following code will clean up tables and databases created above.</p>\n"
   ]
  },
  {
   "cell_type": "code",
   "execution_count": 38,
   "metadata": {},
   "outputs": [
    {
     "data": {
      "text/plain": [
       "Success: 0 rows affected"
      ]
     },
     "execution_count": 38,
     "metadata": {
      "application/vnd.teradata.resultset": ""
     },
     "output_type": "execute_result"
    },
    {
     "data": {
      "application/vnd.teradata.resultset": "\"Message\"\n\"Removed objects related to DEMO_KneeReplacement. That ran for 0:00:01.27\"",
      "text/html": [
       "<div class = \"td-resultset-table-div\" style = \"max-height: 100%; overflow-y: auto\">\n",
       "      <table class=\"tdhistory234002\"><style>\n",
       "      table.tdhistory234002 { display: block !important; min-height: 105px !important; overflow: auto !important; height: 105px !important; width: 100% !important; border: 1px solid rgb(207, 207, 207) !important; border-collapse: collapse !important; ; color: var(--jp-ui-font-color1) !important; }\n",
       "      th.tdhistory234002 { border: 1px solid rgb(198,198,198) !important; border-collapse: collapse !important; ; padding: 2px 5px !important; ; font-size: 13px !important; ; text-align: center !important; white-space: normal !important; color: var(--jp-ui-font-color1) !important; }\n",
       "      th.tdhistory234002:last-child { text-align: left !important; }\n",
       "      tbody.tdhistory234002 tr:nth-child(even) { background: rgba(243, 243, 243, 0.75) !important; }\n",
       "      tbody.tdhistory234002 tr:nth-child(odd) { background: var(--jp-ui-inverse-font-color1) !important; }\n",
       "      td.tdhistory234002 { border: 1px solid rgb(207, 207, 207) !important; border-collapse: collapse !important; ; padding: 2px 5px !important; ; font-size: 13px !important; ; text-align: left !important;          white-space: nowrap !important; overflow:hidden !important; text-overflow:ellipsis !important;; }\n",
       "    </style><thead><tr style= \"background: rgba(243, 243, 243, 0.75)\"><th class=\"tdhistory234002\"></th><th class=\"tdhistory234002\">Message</th></tr></thead><tbody class=\"tdhistory234002 resultset-body\"><tr><th class=\"tdhistory234002\" style= \"background: rgba(243, 243, 243, 0.75)\">1</th><td class=\"tdhistory234002\">Removed objects related to DEMO_KneeReplacement. That ran for 0:00:01.27</td></tr></tbody></table></div>"
      ]
     },
     "execution_count": 38,
     "metadata": {
      "application/vnd.teradata.resultset": "{\"resultSetID\":\"/home/jovyan/JupyterLabRoot/Teradata/Resultsets/2023.12.21_07.42.01.949_UTC\",\"historyID\":388,\"chunkID\":\"00001\",\"sessionid\":\"\",\"portnum\":\"\",\"dockermode\":\"docker\",\"totalRowCount\":1,\"chunkCount\":0,\"rowLimit\":0,\"columnMetadata\":[{\"columnName\":\"Message\",\"columnTypeName\":\"VARCHAR\",\"length\":74,\"scale\":74}]}"
     },
     "output_type": "execute_result"
    }
   ],
   "source": [
    "call remove_data('DEMO_KneeReplacement'); "
   ]
  },
  {
   "cell_type": "markdown",
   "metadata": {},
   "source": [
    "<footer style=\"padding-bottom:35px; background:#f9f9f9; border-bottom:3px solid #00233C\">\n",
    "    <div style=\"float:left;margin-top:14px\">ClearScape Analytics™</div>\n",
    "    <div style=\"float:right;\">\n",
    "        <div style=\"float:left; margin-top:14px\">\n",
    "            Copyright © Teradata Corporation - 2023. All Rights Reserved\n",
    "        </div>\n",
    "    </div>\n",
    "</footer>"
   ]
  }
 ],
 "metadata": {
  "kernelspec": {
   "display_name": "Teradata SQL",
   "language": "Teradata SQL",
   "name": "teradatasql"
  },
  "language_info": {
   "codemirror_mode": "Teradata SQL",
   "file_extension": ".tdrs",
   "mimetype": "application/vnd.teradata.resultset",
   "name": "Teradata SQL",
   "nbconvert_exporter": "",
   "pygments_lexer": "",
   "version": "16.20"
  },
  "widgets": {
   "application/vnd.jupyter.widget-state+json": {
    "state": {},
    "version_major": 2,
    "version_minor": 0
   }
  }
 },
 "nbformat": 4,
 "nbformat_minor": 4
}
