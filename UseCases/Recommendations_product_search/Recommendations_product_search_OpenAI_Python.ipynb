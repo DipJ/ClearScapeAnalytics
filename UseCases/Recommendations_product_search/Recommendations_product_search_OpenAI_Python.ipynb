{
 "cells": [
  {
   "cell_type": "markdown",
   "id": "38bc532d-c78c-4c89-b191-242da0733f39",
   "metadata": {},
   "source": [
    "<header style=\"padding:1px;background:#f9f9f9;border-top:3px solid #00b2b1\"><img id=\"Teradata-logo\" src=\"https://www.teradata.com/Teradata/Images/Rebrand/Teradata_logo-two_color.png\" alt=\"Teradata\" width=\"220\" align=\"right\" />\n",
    "\n",
    "<b style = 'font-size:28px;font-family:Arial;color:#E37C4D'>Recommendations during a product search using Generative AI with Vantage</b>\n",
    "</header>"
   ]
  },
  {
   "cell_type": "markdown",
   "id": "fff71661-19b4-423a-867a-7c815b064c81",
   "metadata": {},
   "source": [
    "<p style = 'font-size:18px;font-family:Arial;color:#E37C4D'><b>Introduction:</b></p>\n",
    "<p style = 'font-size:16px;font-family:Arial'>The combination of <b>OpenAIEmbeddings</b> and <b>Vantage in the db_function</b> assists consumers in receiving product recommendations while looking for items on the website in the recommendations system using generative AI demo.</p>\n",
    "\n",
    "<p style = 'font-size:16px;font-family:Arial'>In this demo, we will build a product recommendation system using OpenAI embeddings and <b>Vantage in the db_function VectorDistance</b>. Recommendation systems are a type of information filtering system that seeks to predict the rating or preference that a user would give to an item. They are often used on e-commerce websites to recommend products to users based on their past purchase history, browsing behaviour, and other factors. In this demo, we use product-to-product recommendations based on embedding distances. The VectorDistance function will return the closest products from the databases as a recommendations.</p>\n",
    "\n",
    "<p style = 'font-size:16px;font-family:Arial'>The following diagram illustrates the architecture.</p>\n",
    "\n",
    "<center><img src=\"images/openai_emb3.png\" alt=\"Product_search_architecture\"  width=800 height=800/></center>"
   ]
  },
  {
   "cell_type": "markdown",
   "id": "79e54d47-af28-412e-b27d-c2dae812ea11",
   "metadata": {},
   "source": [
    "<br>\n",
    "<p style = 'font-size:16px;font-family:Arial'>Before going any farther, let's get a better understanding of Cosine similarity(distance measure method) and Embeddings</p>"
   ]
  },
  {
   "cell_type": "markdown",
   "id": "1b89e1d8-35fc-44de-8783-aa762d996a7b",
   "metadata": {},
   "source": [
    "<ul style = 'font-size:16px;font-family:Arial'><li> <b>Cosine similarity:</b></li></ul>\n",
    "\n",
    "<p style = 'font-size:16px;font-family:Arial'> &emsp;  &emsp; In natural language processing (NLP), a vector is a way of representing a word or phrase as a set of numbers. These numbers represent the meaning of the word or phrase in a way that can be understood by computers.</p>\n",
    "\n",
    "<p style = 'font-size:16px;font-family:Arial'>Cosine distance is a way of <b>measuring the similarity between two vectors</b>. It works by calculating the cosine of the angle between the two vectors. The cosine of an angle is a number between -1 and 1, where 0 means that the vectors are perpendicular, 1 means that they are pointing in the same direction and -1 means that they are pointing in the opposite directions</p>\n",
    "\n",
    "<p style = 'font-size:16px;font-family:Arial'>So, if you have two vectors that are very similar, the cosine of the angle between them will be close to 1. And if you have two vectors that are very different, the cosine of the angle between them will be close to 0.</p>\n",
    "\n",
    "<p style = 'font-size:16px;font-family:Arial'>Imagine you have a bunch of products, and you want to know how similar they are to each other. You could represent each product as a vector of numbers, where each number represents a different feature of the product. For example, you could have a vector for <b>cheese</b> that looks like this: <b>[0.6, -0.2, 0.8, 0.9, -0.1, -0.7]</b> Once you have represented each product as a vector, you can use cosine similarity to measure how similar they are.</p>\n",
    "\n",
    "<p style = 'font-size:16px;font-family:Arial'>For example, the <b>The cosine of an angle would be close to 1 </b> between <b>cheese</b> and <b>butter, </b> because they have many similar features and they both are dairy products. However, the <b>The cosine of an angle would be close to 0 or less than 0</b> between <b>cheese and eggs</b>, because they are not as similar.</p>\n",
    "\n",
    "<center><img src=\"images/cosine.png\" alt=\"cosine\" width=1000 height=800/></center>"
   ]
  },
  {
   "cell_type": "markdown",
   "id": "133c67cc-17ae-4317-becd-26f96fd6a444",
   "metadata": {},
   "source": [
    "<br>\n",
    "\n",
    "\n",
    "<ul style = 'font-size:16px;font-family:Arial'><li> <b>Embeddings:</b></li></ul>\n",
    "<p style = 'font-size:16px;font-family:Arial'> &emsp;  &emsp; Embeddings are the A.I-native way to represent any kind of data, making them the perfect fit for working with all kinds of A.I-powered tools and algorithms. They can represent text, images, and soon audio and video. There are many options for creating embeddings, whether locally using an installed library, or by calling an API.</p>\n",
    "\n",
    "<p style = 'font-size:16px;font-family:Arial'>Imagine you have a bunch of words, and you want to find a way to represent them in a way that captures their meaning. One way to do this is to create a word embedding. A word embedding is a vector of numbers that represents the meaning of a word. The numbers in the vector are chosen so that words that are similar in meaning have similar vectors.</p>\n",
    "\n",
    "<p style = 'font-size:16px;font-family:Arial'>For example, the word \"cheese\", \"butter\", \"chocolate\" and \"sauce\" might have a vector that looks like below:</p>\n",
    "\n",
    "<center><img src=\"images/word_embeddings.png\" alt=\"word_embeddings\"  width=1000 height=800/></center>\n",
    "\n",
    "<br>\n",
    "<p style = 'font-size:16px;font-family:Arial'>The numbers in this vector don't have any special meaning by themselves. They just represent the way that the word \"cheese\" is related to other words in the vocabulary.</p>\n",
    "\n",
    "<p style = 'font-size:16px;font-family:Arial'>We can use word embeddings to find the similarity between words. For example, we can calculate the cosine similarity between the vector for \"cheese\" and the vector for \"butter\". The cosine similarity is a measure of how similar two vectors are, and it ranges from 0 to 1. A cosine similarity of 1 means that the two vectors are perfectly aligned, and a cosine similarity of 0 means that the two vectors are completely unrelated.</p>\n",
    "\n",
    "<p style = 'font-size:16px;font-family:Arial'>In this case, the cosine similarity between the vector for \"cheese\" and the vector for \"butter\" would be very high. This is because the words \"cheese\" and \"butter\" are very similar in meaning. They are both foods that are made from milk, and they are both often used in cooking.</p>\n",
    "\n",
    "<p style = 'font-size:16px;font-family:Arial'>We can also use word embeddings to find related words. For example, we can find all of the words that are similar in meaning to \"cheese\". This would include words like \"milk\", \"cream\", \"yogurt\", and \"feta\".</p>\n",
    "\n",
    "<p style = 'font-size:16px;font-family:Arial'>Word embeddings are a powerful tool for natural language processing. They can be used for a variety of tasks, such as sentiment analysis, machine translation, and question answering.</p>\n",
    "\n",
    "<p style = 'font-size:16px;font-family:Arial'>Above is a visual representation of how word embeddings work</p>\n",
    "\n",
    "<p style = 'font-size:16px;font-family:Arial'>Imagine a bunch of points in a high-dimensional space. Each point represents a word, and the position of the point in space represents the meaning of the word. Words that are similar in meaning will be close together in space, and words that are different in meaning will be far apart.</p>\n",
    "\n",
    "<p style = 'font-size:16px;font-family:Arial'>Now, imagine that we take a slice through this high-dimensional space. This slice will be a two-dimensional space, and the points in the two-dimensional space will represent the word embeddings. The distance between two points in the two-dimensional space will be a measure of the similarity between the two words.</p>\n",
    "\n",
    "<p style = 'font-size:16px;font-family:Arial'>In this way, word embeddings can be used to represent the meaning of words in a way that is both compact and informative.</p>"
   ]
  },
  {
   "cell_type": "markdown",
   "id": "2ca49b9d-df0b-400a-acf8-0252ab8a2618",
   "metadata": {},
   "source": [
    "<p style = 'font-size:16px;font-family:Arial;color:#E37C4D'><b>Steps in the analysis:</b></p>\n",
    "<ol style = 'font-size:16px;font-family:Arial'>\n",
    "    <li>Configuring the environment</li>\n",
    "    <li>Connect to Vantage</li>\n",
    "    <li>Data Exploration</li>\n",
    "    <li>Generate the embeddings</li>\n",
    "    <li>Load the existing embeddings to DB</li>\n",
    "    <li>Calculate the VectorDistance using Teradata Vantage in-DB function</li>\n",
    "    <li>Display the recommended products for the users</li>\n",
    "    <li>Cleanup</li>\n",
    "</ol>"
   ]
  },
  {
   "cell_type": "markdown",
   "id": "a833b5bf-74af-42be-8543-3782e1da95dc",
   "metadata": {},
   "source": [
    "<hr>\n",
    "<b style = 'font-size:28px;font-family:Arial;color:#E37C4D'>1. Configuring the environment</b>\n",
    "\n",
    "<p style = 'font-size:18px;font-family:Arial;color:#E37C4D'><b>1.1 Install the required libraries</b></p>"
   ]
  },
  {
   "cell_type": "code",
   "execution_count": null,
   "id": "2f6027a7-888d-441f-abc7-a6ea1c45f0a6",
   "metadata": {},
   "outputs": [],
   "source": [
    "%%capture\n",
    "# '%%capture' suppresses the display of installation steps of the following packages\n",
    "\n",
    "!pip install -r requirements.txt --quiet"
   ]
  },
  {
   "cell_type": "markdown",
   "id": "ca97cdce-0d5e-4e54-b404-da7bae24ef51",
   "metadata": {},
   "source": [
    "<p style = 'font-size:16px;font-family:Arial'>\n",
    "    <i>The above statements will install the required libraries to run this demo. To gain access to installed libraries after running this, restart the kernel.</i></p>"
   ]
  },
  {
   "cell_type": "markdown",
   "id": "86b160ce-5ace-4116-86b6-394d6502553b",
   "metadata": {},
   "source": [
    "<div class=\"alert alert-block alert-info\">\n",
    "    <p style = 'font-size:16px;font-family:Arial'><i><b>Note:</b> The above statements may need to be uncommented if you run the notebooks on a platform other than ClearScape Analytics Experience that does not have the libraries installed. If you uncomment those installs, be sure to restart the kernel after executing those lines to bring the installed libraries into memory. The simplest way to restart the Kernel is by typing zero zero: <b>0 0</b></i></p>\n",
    "</div>"
   ]
  },
  {
   "cell_type": "markdown",
   "id": "61067c88-2e9a-4c92-985b-34dc4ab74a13",
   "metadata": {},
   "source": [
    "<p style = 'font-size:18px;font-family:Arial;color:#E37C4D'><b>1.2 Import the required libraries</b></p>\n",
    "\n",
    "<p style = 'font-size:16px;font-family:Arial'>Here, we import the required libraries, set environment variables and environment paths (if required).</p>"
   ]
  },
  {
   "cell_type": "code",
   "execution_count": null,
   "id": "ea50a4aa-1211-44fc-8166-317c35253207",
   "metadata": {},
   "outputs": [],
   "source": [
    "import io\n",
    "import os\n",
    "import numpy as np\n",
    "import pandas as pd\n",
    "\n",
    "# vis\n",
    "import plotly.express as px\n",
    "import plotly.graph_objects as go\n",
    "\n",
    "import timeit\n",
    "import tqdm\n",
    "from tqdm.notebook import *\n",
    "tqdm_notebook.pandas()\n",
    "\n",
    "# teradata lib\n",
    "from teradataml import *\n",
    "from teradataml import VectorDistance\n",
    "\n",
    "# helper functions\n",
    "from utils.sql_helper_func import *\n",
    "from utils.openai_helper_func import *\n",
    "\n",
    "# open AI\n",
    "import openai\n",
    "from openai.embeddings_utils import get_embedding\n",
    "\n",
    "from IPython.display import display, Markdown\n",
    "\n",
    "# Suppress warnings\n",
    "import warnings\n",
    "warnings.filterwarnings(\"ignore\", category=DeprecationWarning) \n",
    "display.max_rows = 5\n",
    "\n",
    "display.print_sqlmr_query=False\n",
    "display.suppress_vantage_runtime_warnings=True"
   ]
  },
  {
   "cell_type": "markdown",
   "id": "a59718f8-7af4-4d1a-abc7-a860eb7cbae3",
   "metadata": {},
   "source": [
    "<hr>\n",
    "<b style = 'font-size:28px;font-family:Arial;color:#E37C4D'>2. Connect Vantage and OpenAI</b>"
   ]
  },
  {
   "cell_type": "markdown",
   "id": "c60e4d23-3f17-4d43-b9b9-7e125f59b8c7",
   "metadata": {},
   "source": [
    "<p style = 'font-size:18px;font-family:Arial;color:#E37C4D'><b>2.1 Connect to Vantage</b></p>\n",
    "<p style = 'font-size:16px;font-family:Arial'>You will be prompted to provide the password. Enter your password, press the Enter key, and then use the down arrow to go to the next cell.</p>"
   ]
  },
  {
   "cell_type": "code",
   "execution_count": null,
   "id": "164cfc91-93ed-45b9-98ba-73b91a50c28b",
   "metadata": {},
   "outputs": [],
   "source": [
    "%run -i ../startup.ipynb\n",
    "eng = create_context(host = 'host.docker.internal', username='demo_user', password = password)\n",
    "print(eng)\n",
    "execute_sql('''SET query_band='DEMO= Recommendations_product_search_OpenAI_Python.ipynb;' UPDATE FOR SESSION;''')"
   ]
  },
  {
   "cell_type": "markdown",
   "id": "b22db506-84a7-406b-be9f-9fe69d268ba4",
   "metadata": {},
   "source": [
    "<p style = 'font-size:16px;font-family:Arial'>Begin running steps with Shift + Enter keys. </p>"
   ]
  },
  {
   "cell_type": "markdown",
   "id": "8beec557-411b-4418-acf3-2f28d3c6beac",
   "metadata": {},
   "source": [
    "<p style = 'font-size:18px;font-family:Arial;color:#E37C4D'><b>2.2 Getting Data for This Demo</b></p>\n",
    "<p style = 'font-size:16px;font-family:Arial'>We have provided data for this demo on cloud storage. You can either run the demo using foreign tables to access the data without any storage on your environment or download the data to local storage, which may yield faster execution. Still, there could be considerations of available storage. Two statements are in the following cell, and one is commented out. You may switch which mode you choose by changing the comment string.</p>"
   ]
  },
  {
   "cell_type": "code",
   "execution_count": null,
   "id": "9e26ca7c-fa9e-4200-8e9e-27f5886aa5ab",
   "metadata": {},
   "outputs": [],
   "source": [
    "%run -i ../run_procedure.py \"call get_data('DEMO_Grocery_Data_cloud');\"        # Takes 1 minute\n",
    "# %run -i ../run_procedure.py \"call get_data('DEMO_Grocery_Data_local');\"        # Takes 2 minutes"
   ]
  },
  {
   "cell_type": "markdown",
   "id": "f99a16b5-da34-4326-b66b-5f7d5a9d9b04",
   "metadata": {},
   "source": [
    "<p style = 'font-size:16px;font-family:Arial'>Next is an optional step – if you want to see the status of databases/tables created and space used.</p>"
   ]
  },
  {
   "cell_type": "code",
   "execution_count": null,
   "id": "79252a5e-b2c1-404a-ae22-6c3d698510c4",
   "metadata": {},
   "outputs": [],
   "source": [
    "%run -i ../run_procedure.py \"call space_report();\"        # Takes 10 seconds"
   ]
  },
  {
   "cell_type": "markdown",
   "id": "490f3fe2-ed63-4838-bb19-4c0d0157453d",
   "metadata": {},
   "source": [
    "<hr>\n",
    "<b style = 'font-size:28px;font-family:Arial;color:#E37C4D'>3. Data Exploration</b>\n",
    "\n",
    "<p style = 'font-size:16px;font-family:Arial'>Product recommendation systems are a type of recommender system that suggests products to users based on what they are searching for in the search box. To recommend products to users, we will use OpenAI embeddings and Vantage in db_function.</p>\n",
    "\n",
    "<p style = 'font-size:16px;font-family:Arial'>The data for this demo comes from the products table of Instacart. There are also a few other tables, such as orders, aisles, departments, and order_products_prior. However, for this demo, we will only use the products table.</p>\n",
    "\n",
    "<p style = 'font-size:16px;font-family:Arial'>The products table contains information about all of the products that are available on Instacart. This includes the product id, product name, etc. The table also includes the product's department and aisle, which can be used to group products together.</p>\n",
    "\n",
    "<p style = 'font-size:16px;font-family:Arial'>The other tables in the Instacart dataset contain additional information about orders, aisles, departments, and product purchases. However, for this demo, we will only focus on the products table.<p/>\n",
    "\n",
    "<p style = 'font-size:16px;font-family:Arial'>Each row is a snapshot of data taken from the products table, Below are the list of columns in the product table:</p>\n",
    "<p style = 'font-size:16px;font-family:Arial'> \n",
    "<ol style = 'font-size:16px;font-family:Arial'>\n",
    "    <li>product_id</li>\n",
    "    <li>product_name</li>\n",
    "    <li>aisle_id</li>\n",
    "   <li>department_id</li>\n",
    "\n",
    "</ol>\n",
    "</p>\n",
    "\n",
    "<p style = 'font-size:16px;font-family:Arial'>The source data from <a href=\"https://www.kaggle.com/competitions/instacart-market-basket-analysis/data\">kaggle</a> is loaded in Vantage with table named <i>Products</i>.</p>\n",
    "\n",
    "<p style = 'font-size:16px;font-family:Arial'><b><i>*Please scroll down to the end of the notebook for detailed column descriptions of the dataset.</i></b></p>"
   ]
  },
  {
   "cell_type": "markdown",
   "id": "eda8e565-b58b-4cc6-8d9c-50790ca3dcab",
   "metadata": {},
   "source": [
    "<p style = 'font-size:18px;font-family:Arial;color:#E37C4D'><b>3.1 Examine the Products table</b></p>    \n",
    "<p style = 'font-size:16px;font-family:Arial'>Let's look at the sample data in the Products table.</p>"
   ]
  },
  {
   "cell_type": "code",
   "execution_count": null,
   "id": "4a9951cf-e2b0-40d7-9a8f-a01c7f48ef09",
   "metadata": {},
   "outputs": [],
   "source": [
    "tdf = DataFrame(in_schema('DEMO_Grocery_Data', 'products'))\n",
    "print(\"Data information: \\n\",tdf.shape)\n",
    "tdf.sort('product_id')"
   ]
  },
  {
   "cell_type": "markdown",
   "id": "b0d6d954-b72f-41c3-9f8c-bc15cf74d672",
   "metadata": {},
   "source": [
    "<p style = 'font-size:16px;font-family:Arial'>There are approx 50K records in all, and there are 4 variables. Products are listed from different departments. We shall recommend the products to the user when user is searching for some items from the page.</p>"
   ]
  },
  {
   "cell_type": "markdown",
   "id": "6e22503f-9573-4625-b03d-988a707cbfb5",
   "metadata": {},
   "source": [
    "<p style = 'font-size:18px;font-family:Arial;color:#E37C4D'><b>3.1.1 Analyse Number of products per aisle.</b></p>    \n",
    "<p style = 'font-size:16px;font-family:Arial'>Now, let's do some data exploration with aisle and number of products. \n",
    "A histogram of the number of products per aisle is a useful tool for understanding the distribution of products in a store. It can be used to identify aisles with a high or low number of products, as well as aisles with a wide or narrow range of products.</p>"
   ]
  },
  {
   "cell_type": "code",
   "execution_count": null,
   "id": "229e74fd-0602-4c4c-9e80-96a13a9c0ba8",
   "metadata": {},
   "outputs": [],
   "source": [
    "def get_histogram(df, x, y, color, title, x_title, y_title, width=1200, height=500):\n",
    "    fig = go.Figure()\n",
    "    \n",
    "    colors = px.colors.qualitative.Plotly[:len(df)]  # Generate colors for categories\n",
    "    # print(df.columns)\n",
    "    for i in range(1, len(df) + 1):\n",
    "        fig.add_trace(\n",
    "            go.Bar(\n",
    "                x=[df['aisle'][i]],\n",
    "                y=[df['no_products'][i]],  # Use the count of each category as y-value\n",
    "                name=df['aisle'][i],\n",
    "                marker_color=colors[i-1],\n",
    "            )\n",
    "        )\n",
    "    \n",
    "    fig.update_layout(\n",
    "        title=title,\n",
    "        xaxis_title=x_title,\n",
    "        yaxis_title=y_title,\n",
    "        hoverlabel=dict(\n",
    "            bgcolor=\"white\",\n",
    "            font_size=16,\n",
    "            font_family=\"Rockwell\"\n",
    "        ),\n",
    "        hovermode=\"x unified\",\n",
    "        autosize=False,\n",
    "        width=width,\n",
    "        height=height,\n",
    "        yaxis={'categoryorder': 'total ascending'}\n",
    "    )\n",
    "    \n",
    "    return fig"
   ]
  },
  {
   "cell_type": "code",
   "execution_count": null,
   "id": "d7f957b1-d9ee-4bbe-bfee-45f78a179326",
   "metadata": {},
   "outputs": [],
   "source": [
    "query = '''\n",
    "with cte1 as (\n",
    "SELECT aisle_id,\n",
    "       Count(product_id) AS no_products\n",
    "FROM   DEMO_Grocery_Data.products\n",
    "GROUP  BY 1)\n",
    "\n",
    "sel top 11 a.aisle_id, a.no_products, b.aisle from cte1 a join DEMO_Grocery_Data.aisles b on a.aisle_id = b.aisle_id\n",
    "ORDER  BY 2 desc\n",
    "'''\n",
    "df_aisle_id_products = DataFrame.from_query(query)\n",
    "df_aisle_id_products = df_aisle_id_products.to_pandas()[1:]"
   ]
  },
  {
   "cell_type": "code",
   "execution_count": null,
   "id": "620daf80-5238-44ba-b826-d05d4795bcd7",
   "metadata": {},
   "outputs": [],
   "source": [
    "get_histogram(df_aisle_id_products, \n",
    "              x=\"aisle\", \n",
    "              y = \"no_products\", \n",
    "              color=\"aisle\",\n",
    "              title=\"Number of products by aisle\", \n",
    "              x_title=\"aisle\", \n",
    "              y_title=\"No of Products\",\n",
    "              width=1500, \n",
    "              height=600)"
   ]
  },
  {
   "cell_type": "markdown",
   "id": "8782959f-e27a-4709-9b78-c2969fe1a4d0",
   "metadata": {},
   "source": [
    "<p style = 'font-size:16px;font-family:Arial'>Few observations from the above graph are:</p>\n",
    "\n",
    "<ol style = 'font-size:16px;font-family:Arial'>\n",
    "    <li><b>Candy chocolate</b> has a maximum number of products(1246)</li>\n",
    "    <li>If we check the top 10 aisle by the number of products in that aisle, then here it is in descending order would like this: <b>candy chocolate, ice cream ice, vitamins supplements, yogurt, chips pretzels, tea, packaged cheese, frozen meals, cookies cakes, energy granola bars.</b></li>\n",
    "</ol>\n",
    "<br>"
   ]
  },
  {
   "cell_type": "markdown",
   "id": "3d769c12-652f-4ef5-8b19-d241d4589422",
   "metadata": {},
   "source": [
    "<p style = 'font-size:18px;font-family:Arial;color:#E37C4D'><b>3.1.2 Sample the data.</b></p>   \n",
    "\n",
    "<p style = 'font-size:16px;font-family:Arial'>To save the cost of generating embeddings from OpenAI, we will use the <b>50 products from snacks department</b> in this demo. This will allow us to test the system without incurring too much cost. Once we have validated the system, we can then consider expanding it to include more products.</p>"
   ]
  },
  {
   "cell_type": "code",
   "execution_count": null,
   "id": "4b693c31-465d-4aef-afd4-42b66e36cd6f",
   "metadata": {},
   "outputs": [],
   "source": [
    "tdf_sample = tdf.loc[tdf['department_id'] == 19]\n",
    "print(tdf_sample.shape)\n",
    "tdf_sample.sort('product_id')"
   ]
  },
  {
   "cell_type": "markdown",
   "id": "760c5c6e-d610-4416-8e33-91177db63a4f",
   "metadata": {},
   "source": [
    "<p style = 'font-size:18px;font-family:Arial;color:#E37C4D'><b>3.2 Do you want to generate the embeddings?</b></p>    \n",
    "<p style = 'font-size:16px;font-family:Arial'>We have already generated embeddings for the snacks department and stored them in files.</p>\n",
    "\n",
    "<center><img src=\"images/decision_emb_gen.png\" alt=\"embeddings_decision\" width=300 height=300/></center>\n",
    "\n",
    "<div class=\"alert alert-block alert-info\">\n",
    "    <p style = 'font-size:16px;font-family:Arial'><i><b>Note: If you would like to skip the embedding generation step and move on to the next section, please click  <a href=\"#section5\">here</a> to skip.</b></i></p>\n",
    "</div>\n",
    "\n",
    "<p style = 'font-size:16px;font-family:Arial'>To save time, you can move to the already generated embeddings section. However, if you would like to see how we generate the embeddings, or if you need to generate the embeddings for a different dataset, then continue to the following section.</p>"
   ]
  },
  {
   "cell_type": "markdown",
   "id": "7db03d40-0df5-4d9c-a1d3-5fc74b3683a7",
   "metadata": {},
   "source": [
    "<hr>\n",
    "<b style = 'font-size:28px;font-family:Arial;color:#E37C4D'>4. Generate the embeddings </b>"
   ]
  },
  {
   "cell_type": "markdown",
   "id": "9dcc305e-2d63-41c6-82d3-2b01d0dffa25",
   "metadata": {},
   "source": [
    "<a id='section41'></a>\n",
    "<p style = 'font-size:18px;font-family:Arial;color:#E37C4D'><b>4.1 Get the OpenAI API key</b></p>"
   ]
  },
  {
   "cell_type": "markdown",
   "id": "2bee4908-59e4-4578-abbf-bac9e76e7fc1",
   "metadata": {},
   "source": [
    "<p style = 'font-size:16px;font-family:Arial'>In order to generate the OpenAI embeddings for the section 4, you will need an OpenAI API key. If you do not have one, please refer to the instructions provided in this guide to obtain your OpenAI API key: </p>\n",
    "\n",
    "[Openai_setup_api_key_guide](..//Openai_setup_api_key/Openai_setup_api_key.md)\n",
    "\n",
    "<p style = 'font-size:16px;font-family:Arial'><i><b>Note: If you would like to skip the embedding generation step and move on to the next section, please click  <a href=\"#section5\">here</a> to skip.</b></i></p>"
   ]
  },
  {
   "cell_type": "code",
   "execution_count": null,
   "id": "b388e4ab-796d-41fc-90a9-abbe5bb140d2",
   "metadata": {},
   "outputs": [],
   "source": [
    "# enter your openai api key\n",
    "api_key = input(prompt = '\\n Please Enter Openai api key: ')\n",
    "\n",
    "# set api key\n",
    "openai.api_key = api_key"
   ]
  },
  {
   "cell_type": "markdown",
   "id": "89367d27-22ca-4a0e-b299-0f8e1a669157",
   "metadata": {},
   "source": [
    "<p style = 'font-size:18px;font-family:Arial;color:#E37C4D'><b>4.2 Generate the embeddings for product table</b></p>    \n",
    "\n",
    "<p style = 'font-size:16px;font-family:Arial'>Under the hood, we will use the OpenAI embeddings method to generate the embeddings. OpenAI embeddings are a type of word embedding that can be used to represent products in a way that captures their semantic meaning. To generate embeddings for a product table, we will use the product name field. We will use the OpenAI Embeddings API to generate embeddings for each product. Please refer to the <a href=\"https://platform.openai.com/docs/guides/embeddings\"> Embeddings documentation</a> for more information about embeddings and types of models available.</p>\n",
    "\n",
    "<p style = 'font-size:16px;font-family:Arial'>The OpenAI Embeddings API takes a text string as input and returns a vector of numbers that represent the embedding. The length of the vector depends on the model that you are using. For example, the text-embedding-ada-002 model returns a vector of 1536 numbers.</p>\n",
    "\n",
    "<p style = 'font-size:16px;font-family:Arial'>In this demo, we will use <b>text-embedding-ada-002</b> as the model and <b>cl100k_base</b> as the encoding technique.</p>"
   ]
  },
  {
   "cell_type": "markdown",
   "id": "5bd05d2b-bc64-4620-abc9-17dadab064c0",
   "metadata": {},
   "source": [
    "<p style = 'font-size:16px;font-family:Arial'>To generate the embeddings, we will call the <b>get_embeddings()</b> function. This function will convert the Teradata DataFrame to a Pandas DataFrame and generate the embeddings. Once the embeddings are generated, we will store them in separate columns so that we can pass them to the <b>VectorDistance()</b> function later on.</p>"
   ]
  },
  {
   "cell_type": "code",
   "execution_count": null,
   "id": "cb5e1a6d-3d83-4e9a-b74b-e3fe7c7d5f04",
   "metadata": {},
   "outputs": [],
   "source": [
    "def recursive_emb_generator(table_name, file_name, chunksize=100):\n",
    "    wallclock_time_start = timeit.default_timer()\n",
    "    \n",
    "    # delete the records     \n",
    "    delete_emb_from_sql(table_name, eng)\n",
    "    \n",
    "    # Read the data in chunks of 1000 rows\n",
    "    temp_df = pd.read_csv(file_name, chunksize=chunksize)\n",
    "    \n",
    "    # Iterate over the chunks\n",
    "    for chunk in tqdm(temp_df, desc=\"Overall progress \",):\n",
    "        print(\"Data size in current chunk: \", chunk.shape)\n",
    "        df_chunk = get_embeddings(chunk)\n",
    "        \n",
    "        copy_emb_to_sql(table_name=table_name, tdf=df_chunk)\n",
    "        print(f\"{df_chunk.shape[0]} products saved to sql \\n\")\n",
    "\n",
    "    wallclock_time_end = timeit.default_timer()\n",
    "    wallclock_time = wallclock_time_end - wallclock_time_start\n",
    "    print('wallclock time:\\t', wallclock_time)\n",
    "    print('-'*50,' complete ', '-'*50)"
   ]
  },
  {
   "cell_type": "markdown",
   "id": "44723861-2530-4adc-8053-abf46866a2c3",
   "metadata": {},
   "source": [
    "<div class=\"alert alert-block alert-warning\">\n",
    "    <p style = 'font-size:16px;font-family:Arial'><i><b>Note: In this section, we are creating the OpenAI embeddings for 6000+ snacks products. It will cost you a few dollars on your OpenAI account.</b></i></p>\n",
    "</div>"
   ]
  },
  {
   "cell_type": "code",
   "execution_count": null,
   "id": "5b6eaf65-cd2c-4b22-9a25-3d90d7506bdf",
   "metadata": {},
   "outputs": [],
   "source": [
    "df_snacks = tdf_sample.to_pandas().reset_index()\n",
    "df_snacks.to_csv('df_snacks.csv', index=False)\n",
    "\n",
    "recursive_emb_generator(table_name=\"product_embeddings\", file_name='df_snacks.csv', chunksize=100)"
   ]
  },
  {
   "cell_type": "markdown",
   "id": "8f28d63f-f43e-4bb4-bedc-dff7bdf8311a",
   "metadata": {},
   "source": [
    "<a id='section43'></a>\n",
    "<p style = 'font-size:18px;font-family:Arial;color:#E37C4D'><b>4.3 Display the product embeddings</b></p>"
   ]
  },
  {
   "cell_type": "code",
   "execution_count": null,
   "id": "c0e05f95-4227-4a6a-9b1e-2372b01fb2fe",
   "metadata": {},
   "outputs": [],
   "source": [
    "product_embeddings = DataFrame(in_schema('demo_user', 'product_embeddings'))\n",
    "print(\"Data information: \\n\",product_embeddings.shape)\n",
    "product_embeddings"
   ]
  },
  {
   "cell_type": "markdown",
   "id": "1932e4e0-d66d-40ae-815d-c5213e67065d",
   "metadata": {},
   "source": [
    "<p style = 'font-size:16px;font-family:Arial'>We can see that generated embeddings for all of the products are in vector of 1536 columns. </p>\n",
    "\n",
    "<p style = 'font-size:16px;font-family:Arial'>For example: The generated embeddings for product name: <b>Chocolate Sandwich Cookies</b> consists of 1536 numbers and looks like:<br>\n",
    "<code>-0.022753, -0.005572, 0.002955, -0.006420, -0.009042, -0.001586,  ... -0.020612\t </code></p>"
   ]
  },
  {
   "cell_type": "markdown",
   "id": "50b85fb4-20be-4b92-a565-271fb7f3a32e",
   "metadata": {},
   "source": [
    "<p style = 'font-size:16px;font-family:Arial'>Now, we have generated the embeddings from the product names and saved the product embeddings dataframe into a vantage table named <b>product_embeddings</b> to use it further.</p>"
   ]
  },
  {
   "cell_type": "markdown",
   "id": "4781b83c-0907-4bbd-8fe1-1067e587512b",
   "metadata": {},
   "source": [
    "<p style = 'font-size:18px;font-family:Arial;color:#E37C4D'><b> 4.4 Get the embedding for few product search terms</b></p>"
   ]
  },
  {
   "cell_type": "markdown",
   "id": "48cfc258-b177-41e1-805f-7264d24cce13",
   "metadata": {},
   "source": [
    "<p style = 'font-size:16px;font-family:Arial'>Let's take <b>10 random products from the same department</b> to check their recommended products from our database. To do this, we need to follow the same process as before: generate the embeddings for the products and store them back to the Vantage table.</p>"
   ]
  },
  {
   "cell_type": "code",
   "execution_count": null,
   "id": "2a422bf9-4051-493e-af09-e71da4a42acb",
   "metadata": {},
   "outputs": [],
   "source": [
    "tdf_search_products = tdf.loc[tdf['department_id'] == 19].tail(10)\n",
    "\n",
    "print(tdf_search_products.shape)\n",
    "tdf_search_products.sort('product_id')"
   ]
  },
  {
   "cell_type": "markdown",
   "id": "956aa406-e841-41b1-b22a-e4aa0a3ad7ac",
   "metadata": {},
   "source": [
    "<p style = 'font-size:16px;font-family:Arial'>The get_embeddings() function uses the OpenAI Embeddings API to generate the embeddings.</p>"
   ]
  },
  {
   "cell_type": "code",
   "execution_count": null,
   "id": "c35e938f-8324-49ee-8646-84f02dc89bd1",
   "metadata": {},
   "outputs": [],
   "source": [
    "start = timeit.default_timer()\n",
    "df_search_products = get_embeddings(tdf_search_products)\n",
    "end = timeit.default_timer()\n",
    "load_time = end - start\n",
    "print(f'generate the embeddings for {df_search_products.shape[0]} search products:\\t', load_time)\n",
    "print('----- complete -----')\n",
    "\n",
    "# Print the DataFrame.\n",
    "df_search_products.head()"
   ]
  },
  {
   "cell_type": "markdown",
   "id": "d9140060-c796-4f6a-8226-106482067361",
   "metadata": {},
   "source": [
    "<p style = 'font-size:16px;font-family:Arial'>Since the product names were searched, we have now generated the embeddings. The product embeddings dataframe must therefore be saved into a new table called <b>search_product_embeddings</b> before we can utilise it further..</p>"
   ]
  },
  {
   "cell_type": "code",
   "execution_count": null,
   "id": "0efc5ec3-3c61-4f83-a7f8-f56af34f0db0",
   "metadata": {},
   "outputs": [],
   "source": [
    "delete_and_copy_embeddings(table_name= \"search_product_embeddings\", tdf= df_search_products, eng=eng)"
   ]
  },
  {
   "cell_type": "markdown",
   "id": "e3f2dc8e-b973-4893-987d-37c58fbd6441",
   "metadata": {},
   "source": [
    "<a id='section5'></a>\n",
    "<hr>\n",
    "<b style = 'font-size:28px;font-family:Arial;color:#E37C4D'>5. Load the existing embeddings to DB</b>\n",
    "\n",
    "<p style = 'font-size:18px;font-family:Arial;color:#E37C4D'><b>5.1 Load the products and searched products embeddings</b></p>\n",
    "\n",
    "<p style = 'font-size:16px;font-family:Arial'>In this demo, we will load existing embeddings from files to a database. This will allow us to perform further processing on the embeddings.</p>\n",
    "\n",
    "<div class=\"alert alert-block alert-info\" id=\"no-azure\">\n",
    "    <p style = 'font-size:16px;font-family:Arial'><i><b>Note</b>: If you have already executed the Generate the embeddings section, then below code will be skipped automatically.</i></p>\n",
    "</div>"
   ]
  },
  {
   "cell_type": "code",
   "execution_count": null,
   "id": "945689ae-bfbb-46e1-b41d-e7dc1ab0b42b",
   "metadata": {},
   "outputs": [],
   "source": [
    "is_section4_executed = False\n",
    "try:\n",
    "    is_section4_executed = DataFrame.from_query('select count(*) as emb_cnt from product_embeddings').get_values()[0][0] > 0\n",
    "except:\n",
    "    pass"
   ]
  },
  {
   "cell_type": "code",
   "execution_count": null,
   "id": "8e3f77fa-1918-4e9f-b5f8-b81381869f1f",
   "metadata": {},
   "outputs": [],
   "source": [
    "from IPython.display import display, Markdown\n",
    "\n",
    "def get_section5_desc_start():\n",
    "    return '''<p style = 'font-size:16px;font-family:Arial'>Please be patient. The code above is loading data from files and copying it to SQL. This process may take 50-80 seconds.</p>\n",
    "    <p style = 'font-size:16px;font-family:Arial'>The code above first reads the data from the files. The files contain information about the product embeddings and the customer's searched product embeddings. The code then loads the data into a permanent table in SQL. Once the data is loaded, we will use the Vantage in-database function <code>VectorDistance</code> to calculate the distance between the product embeddings and the customer's searched product embeddings. The data contains product embeddings, which are lists of numerical values, or vectors.</p>\n",
    "    <p style = 'font-size:16px;font-family:Arial'>The embeddings file contains over 6,000 records, each with 1,028 numerical features. This means that the file is quite large and it may take some time to load it into SQL.</p>'''\n",
    "\n",
    "def get_section5_desc_end():\n",
    "    return '''<a id='section52'></a><p style = 'font-size:18px;font-family:Arial;color:#E37C4D'><b>5.2 Display the product embeddings</b></p>\n",
    "    <p style = 'font-size:16px;font-family:Arial'>To give you a better idea of what the embeddings look like, here are the first five rows of the product embeddings:</p>'''\n",
    "\n",
    "def get_section5_desc_sample():\n",
    "    return '''<p style = 'font-size:16px;font-family:Arial'>We can see that generated embeddings for all of the products are in vector of 1024 columns. </p>\n",
    "    <p style = 'font-size:16px;font-family:Arial'>For example: The generated embeddings for product name: <b>Chocolate Sandwich Cookies</b> consists of 1024 numbers and looks like:<br>\n",
    "    <code>-0.00819\t0.01290\t0.00875\t-0.00294\t-0.01980\t-0.01041</code></p>'''\n",
    "\n",
    "def load_the_emb():\n",
    "    is_section5_executed = False\n",
    "\n",
    "    if not is_section4_executed: \n",
    "        is_section5_executed = True\n",
    "        start = timeit.default_timer()\n",
    "        display(Markdown(get_section5_desc_start()))\n",
    "        \n",
    "        # load product_embeddings to sql\n",
    "        df_snacks_product_embeddings_prq = pd.read_parquet('./embeddings/snacks_product_embeddings_prq.parquet.gzip')\n",
    "        delete_and_copy_embeddings(table_name= \"product_embeddings\", tdf= df_snacks_product_embeddings_prq, eng=eng)\n",
    "\n",
    "        # load search_product_embeddings to sql\n",
    "        snacks_search_product_embeddings_prq = pd.read_parquet('./embeddings/snacks_search_product_embeddings_prq.parquet.gzip')\n",
    "        delete_and_copy_embeddings(table_name= \"search_product_embeddings\", tdf= snacks_search_product_embeddings_prq, eng=eng)\n",
    "\n",
    "        end = timeit.default_timer()\n",
    "        load_time = end - start\n",
    "        print(f'embeddings load time:\\t', load_time)\n",
    "                \n",
    "        display(Markdown(get_section5_desc_end()))\n",
    "        product_embeddings = DataFrame(in_schema('demo_user', 'product_embeddings'))\n",
    "        return product_embeddings, is_section5_executed\n",
    "    else:\n",
    "        display(Markdown('''<br><div class=\"alert alert-block alert-success\">\n",
    "        <p style = 'font-size:16px;font-family:Arial'><i>Section 4: Generate the embeddings is already executed! So, skipping the execution of above code.</i></p></div>'''))\n",
    "        return None, is_section5_executed\n",
    "\n",
    "\n",
    "sample_embeddings, flag = load_the_emb()\n",
    "sample_embeddings.sort('product_id') if sample_embeddings is not None else None"
   ]
  },
  {
   "cell_type": "markdown",
   "id": "9fd71059-363c-4070-9d5d-ed748f89b3ab",
   "metadata": {},
   "source": [
    "<p style = 'font-size:16px;font-family:Arial'>The code below will not run if Section 5 has already been skipped.</p>"
   ]
  },
  {
   "cell_type": "code",
   "execution_count": null,
   "id": "6fce8cc2-91f7-4217-b471-9af37327101b",
   "metadata": {},
   "outputs": [],
   "source": [
    "display(Markdown(get_section5_desc_sample())) if flag else None"
   ]
  },
  {
   "cell_type": "markdown",
   "id": "593971b5-89d1-4fa2-9098-7757889fa3ff",
   "metadata": {},
   "source": [
    "<hr>\n",
    "<b style = 'font-size:28px;font-family:Arial;color:#E37C4D'>6. Calculate the VectorDistance using Teradata Vantage in-DB function</b>"
   ]
  },
  {
   "cell_type": "markdown",
   "id": "6d79ecde-2796-4745-baeb-586af0d60847",
   "metadata": {},
   "source": [
    "<p style = 'font-size:16px;font-family:Arial'>The TD_VectorDistance function accepts a table of target vectors and a table of reference vectors and returns a table that contains the distance between target-reference pairs.</p>\n",
    "\n",
    "<p style = 'font-size:16px;font-family:Arial'>The function computes the distance between the target pair and the reference pair from the same table if you provide only one table as the input.</p>"
   ]
  },
  {
   "cell_type": "markdown",
   "id": "a4ac3eea-69ca-47d1-8545-cd0c798a6455",
   "metadata": {},
   "source": [
    "<p style = 'font-size:16px;font-family:Arial'>The VectorDistance function calculates the distance between a target vector and a reference vector. We use the cosine distance metric, which measures the similarity between two vectors. The function can return the maximum of 1 to 100 closest reference vectors to include in the output table for each target vector. In this demo, we want the top 2 closest reference vectors to the target vector.</p>\n",
    "\n",
    "<p style = 'font-size:16px;font-family:Arial'>The VectorDistance function have a parameter <b>distance_measure</b>. You can pass anyone from the below list. Default value is cosine.</p>\n",
    "\n",
    "<ol style = 'font-size:16px;font-family:Arial'>\n",
    "    <li><b>Cosine distance measures</b> the similarity between two vectors by calculating the cosine of the angle between them. It is a good measure of similarity for high-dimensional data, as it is not affected by the magnitude of the vectors.</li>\n",
    "    <li><b>Euclidean distance measures</b> the distance between two points in a Euclidean space. It is the most common distance measure, and it is a good measure of similarity for low-dimensional data.</li>\n",
    "    <li><b>Manhattan distance measures</b> the distance between two points in a Manhattan space. It is similar to Euclidean distance, but it uses the absolute value of the difference between the coordinates instead of the square of the difference.</li>\n",
    "</ol>"
   ]
  },
  {
   "cell_type": "markdown",
   "id": "79325118-ede2-433f-8693-38caea02048d",
   "metadata": {},
   "source": [
    "<center><img src=\"images/distance_measure.png\" alt=\"distance_measure\"  width=600 height=600/></center>"
   ]
  },
  {
   "cell_type": "markdown",
   "id": "e117f30f-5960-42d0-9f0f-ef4c7842067c",
   "metadata": {},
   "source": [
    "<p style = 'font-size:16px;font-family:Arial'>The below funtion: TD_VECTORDISTANCE will might be take upto 45 seconds to finish the execution.</p>"
   ]
  },
  {
   "cell_type": "code",
   "execution_count": null,
   "id": "ec199b25-0eea-4bdd-9db5-27b5bba1ce81",
   "metadata": {},
   "outputs": [],
   "source": [
    "def calculate_vector_distance(target_table, reference_table, emb_column_names, topk):\n",
    "    start = timeit.default_timer()\n",
    "\n",
    "    query = f'''\n",
    "    SELECT \n",
    "      target_id, \n",
    "      reference_id, \n",
    "      distancetype, \n",
    "      cast(\n",
    "        distance as decimal(36, 8)\n",
    "      ) as distance \n",
    "    FROM \n",
    "      TD_VECTORDISTANCE (\n",
    "        ON {target_table} as TargetTable \n",
    "        ON {reference_table} as ReferenceTable Dimension \n",
    "        USING TargetIDColumn('product_id') TargetFeatureColumns{tuple(emb_column_names) } \n",
    "        RefIDColumn('product_id') \n",
    "        RefFeatureColumns{tuple(emb_column_names) } \n",
    "        DistanceMeasure('cosine') \n",
    "        topk({topk})\n",
    "      ) as dt \n",
    "    --order by 3, 1, 2, 4;\n",
    "    '''\n",
    "\n",
    "    vector_distance_df = DataFrame.from_query(query)\n",
    "\n",
    "    end = timeit.default_timer()\n",
    "    load_time = end - start\n",
    "    print(f'vector-distance calcuatation time:\\t', load_time)\n",
    "    print('----- complete -----')\n",
    "    return vector_distance_df"
   ]
  },
  {
   "cell_type": "markdown",
   "id": "e20175e0-4f2a-4640-9cfb-64ab81f08cbd",
   "metadata": {},
   "source": [
    "<div class=\"alert alert-block alert-info\" id=\"no-azure\">\n",
    "    <p style = 'font-size:16px;font-family:Arial'><i><b>Note</b>: by default, we suggest 4 recommendations for each searched product. If you want to change this, you can update the value of the <code>number_of_recommendations</code> variable.</i></p>\n",
    "</div>"
   ]
  },
  {
   "cell_type": "code",
   "execution_count": null,
   "id": "e00b58fc-f187-4c0f-ac1a-abe2372625e6",
   "metadata": {},
   "outputs": [],
   "source": [
    "emb_column_names = DataFrame(in_schema('demo_user', 'search_product_embeddings')).columns[4:]\n",
    "\n",
    "# select top matching\n",
    "number_of_recommendations = 4\n",
    "\n",
    "vector_distance_df = calculate_vector_distance(\n",
    "    target_table= \"search_product_embeddings\", \n",
    "    reference_table=\"product_embeddings\", \n",
    "    emb_column_names=emb_column_names,\n",
    "    topk = number_of_recommendations)"
   ]
  },
  {
   "cell_type": "markdown",
   "id": "fb1b578f-83c2-497f-b81c-2036d9544a9e",
   "metadata": {},
   "source": [
    "<hr>\n",
    "<b style = 'font-size:28px;font-family:Arial;color:#E37C4D'>7. Display the recommended products for the users.</b>"
   ]
  },
  {
   "cell_type": "markdown",
   "id": "5def33ea-01e1-446b-8b75-7be46b7eaa72",
   "metadata": {},
   "source": [
    "<p style = 'font-size:16px;font-family:Arial'>To view the recommendations, we need to join two tables together. First, we will join the vector distance result table with the product embeddings table. This will give us a table that contains the vector distance scores for each product, as well as the product embeddings. Then, we will join this table with the search products table. This will give us a final table that contains the recommendations for the search products.</p>"
   ]
  },
  {
   "cell_type": "code",
   "execution_count": null,
   "id": "70af433b-d895-4a30-aa59-e2a008d3f4cb",
   "metadata": {},
   "outputs": [],
   "source": [
    "def get_final_recommendations(vector_distance_df, product_embeddings_df, search_product_embeddings_df):\n",
    "    product_embeddings_df_selected_columns = product_embeddings_df.select([\"product_id\", \"product_name\"]).to_pandas().reset_index()\n",
    "\n",
    "    # join vector-distance results and products\n",
    "    vec_prod_join_result = pd.merge(vector_distance_df, product_embeddings_df_selected_columns, left_on='reference_id', right_on='product_id', how='inner')\n",
    "\n",
    "    # join the above joined table with search products\n",
    "    vec_prod_join_result_selected = vec_prod_join_result[[\"product_id\",\"product_name\", \"target_id\",\"distancetype\",\"distance\"]]\n",
    "\n",
    "    # join_result_sorted_selected\n",
    "    df_search_products_selected = search_product_embeddings_df.select([\"product_id\", \"product_name\"]).to_pandas().reset_index()\n",
    "\n",
    "    # recommandation results\n",
    "    df_recommandations = pd.merge(df_search_products_selected, vec_prod_join_result_selected, left_on = \"product_id\", right_on=\"target_id\", how = \"inner\", suffixes=[\"_search\", '_recommended'])\n",
    "\n",
    "    # sort by distance\n",
    "    df_recommandations = df_recommandations.sort_values([\"product_id_search\", \"distance\"], ascending=True).reset_index()\n",
    "    return df_recommandations[['product_id_search', 'product_name_search','product_id_recommended', 'product_name_recommended', 'distance']]"
   ]
  },
  {
   "cell_type": "code",
   "execution_count": null,
   "id": "fd0dc65a-69d1-4f76-90e9-09e0b117f23b",
   "metadata": {},
   "outputs": [],
   "source": [
    "product_embeddings_df = DataFrame(in_schema('demo_user', 'product_embeddings'))\n",
    "search_product_embeddings_df = DataFrame(in_schema('demo_user', 'search_product_embeddings'))\n",
    "vector_distance_df = vector_distance_df.to_pandas()\n",
    "\n",
    "# get topk final recommendations for each searched products\n",
    "df_recommandations = get_final_recommendations(vector_distance_df, product_embeddings_df, search_product_embeddings_df)\n",
    "df_recommandations.head()"
   ]
  },
  {
   "cell_type": "markdown",
   "id": "9e598589-6215-4225-af70-6e14a23ec66f",
   "metadata": {},
   "source": [
    "<p style = 'font-size:16px;font-family:Arial'>In the table above, we can see the recommendations for the products searched by the user. The cosine distance between the searched and recommended products is also shown. Note that a few products have a cosine distance of zero. This is because the cosine distance is calculated by comparing the vectors of the two products. If the two products are the same, then the cosine distance will be zero.</p>"
   ]
  },
  {
   "cell_type": "markdown",
   "id": "a38e4d0c-62e4-4cbc-ac4d-b7b221595693",
   "metadata": {},
   "source": [
    "<p style = 'font-size:18px;font-family:Arial;color:#E37C4D'><b>7.1 Product Matching Visualization: 2D Scatter Plot</b></p>\n",
    "\n",
    "<p style = 'font-size:16px;font-family:Arial'>A product distance scatterplot is a data visualization tool that can be used to identify and analyze the relationships between different products. The scatterplot plots each product as a point on a two-dimensional plane, with the x-axis and y-axis representing two different product features or characteristics. The distance between two points on the scatterplot represents the similarity between the two products, based on the chosen features.</p>"
   ]
  },
  {
   "cell_type": "code",
   "execution_count": null,
   "id": "0429fbe4-f103-4b49-b21c-c540ee470a0c",
   "metadata": {},
   "outputs": [],
   "source": [
    "def get_full_emb_with_recommend(vector_distance_df, product_embeddings_df, search_product_embeddings_df):\n",
    "    product_embeddings_df_all = product_embeddings_df.to_pandas().reset_index()\n",
    "\n",
    "    # join vector-distance results and products\n",
    "    vec_prod_join_result = pd.merge(vector_distance_df, product_embeddings_df_all, left_on='reference_id', right_on='product_id', how='inner')\n",
    "\n",
    "    # join the above joined table with search products\n",
    "    vec_prod_join_result_all = vec_prod_join_result\n",
    "\n",
    "    # join_result_sorted_selected\n",
    "    df_search_products_selected_all = search_product_embeddings_df.to_pandas().reset_index()\n",
    "\n",
    "    # recommandation results\n",
    "    df_recommandations2 = pd.merge(df_search_products_selected_all, vec_prod_join_result_all, left_on = \"product_id\", right_on=\"target_id\", how = \"inner\", suffixes=[\"_search\", '_recommended'])\n",
    "\n",
    "    # sort by distance\n",
    "    return df_recommandations2.sort_values([\"product_id_search\", \"distance\"], ascending=True).reset_index()"
   ]
  },
  {
   "cell_type": "code",
   "execution_count": null,
   "id": "6dc76d0b-3a83-4e52-8d72-3e208aba6d9b",
   "metadata": {},
   "outputs": [],
   "source": [
    "from sklearn.manifold import TSNE\n",
    "\n",
    "df_recommandations_full_emb = get_full_emb_with_recommend(vector_distance_df, product_embeddings_df, search_product_embeddings_df)\n",
    "\n",
    "rec_cols = []\n",
    "for i in range(1536):\n",
    "    rec_cols.append(f\"embeddings_{i}_search\")\n",
    "    rec_cols.append(f\"embeddings_{i}_recommended\")\n",
    "    \n",
    "df_recommandations_full_emb_sel = df_recommandations_full_emb.loc[:, rec_cols]\n",
    "X_embedded = TSNE(n_components=2, learning_rate='auto', init='random', perplexity=3).fit_transform(df_recommandations_full_emb_sel)"
   ]
  },
  {
   "cell_type": "code",
   "execution_count": null,
   "id": "f4ce71bd-0c65-4195-b33d-8acc6820857d",
   "metadata": {},
   "outputs": [],
   "source": [
    "df_temp_tnse = pd.DataFrame()\n",
    "df_temp_tnse[\"dimension-1\"] = X_embedded[:,0]\n",
    "df_temp_tnse[\"dimension-2\"] = X_embedded[:,1]\n",
    "df_temp_tnse[\"product-name\"] = df_recommandations_full_emb[['product_name_recommended']]\n",
    "\n",
    "fig = px.scatter(df_temp_tnse, x=\"dimension-1\", y=\"dimension-2\", color=\"product-name\", hover_data=[\"product-name\"])\n",
    "\n",
    "fig.update_traces(marker=dict(size=15))\n",
    "\n",
    "fig.update_layout(\n",
    "    title='Product Matching Visualization: 2D Scatter Plot',\n",
    "    xaxis_title='dimension-1',\n",
    "    yaxis_title='dimension-2',\n",
    "    xaxis=dict(tickangle=45),\n",
    "    width= 1500, \n",
    "    height = 800,\n",
    "    hoverlabel=dict(\n",
    "            bgcolor=\"white\",\n",
    "            font_size=16,\n",
    "            font_family=\"Rockwell\"\n",
    "    ),\n",
    "    autosize=False, \n",
    ")\n",
    "\n",
    "# Customize the hovertemplate\n",
    "fig.update_traces(hovertemplate=\"<b>Product Name:</b> %{customdata[0]}<br><extra></extra>\")\n",
    "\n",
    "fig.show()"
   ]
  },
  {
   "cell_type": "markdown",
   "id": "3e1d2c01-ac46-4599-8705-58b57410f6f2",
   "metadata": {},
   "source": [
    "<p style = 'font-size:16px;font-family:Arial'>From the above graph we can observe the below points:</p>\n",
    "\n",
    "<ol style = 'font-size:16px;font-family:Arial'>\n",
    "    <li>The system recommends products that are in close proximity or clustered together, taking into account their distance from each other. <b>Pomegranate Gummy Bears, Gummy Bears, Pomegranate Hard Candies, Organic Gummy Bears</b></li>\n",
    "    <li>Products that are isolated or not part of any cluster appear as scattered points on the graph.</li>\n",
    "</ol>"
   ]
  },
  {
   "cell_type": "markdown",
   "id": "cc13892b-8660-4f0f-b45e-553612496221",
   "metadata": {},
   "source": [
    "<p style = 'font-size:18px;font-family:Arial;color:#E37C4D'><b>7.2 Product Distance Heatmap</b></p>\n",
    "\n",
    "<p style = 'font-size:16px;font-family:Arial'>Product Distance Heatmap provides a visual representation of the relationships and distances between different products. This heatmap offers valuable insights into how products relate to each other, helping businesses make informed decisions regarding product placement, clustering, or other strategic considerations.</p>"
   ]
  },
  {
   "cell_type": "code",
   "execution_count": null,
   "id": "3babfed7-1c82-4f76-8e0b-04956dfada2c",
   "metadata": {},
   "outputs": [],
   "source": [
    "# Create a pivot table\n",
    "heatmap_data = df_recommandations.pivot(index='product_name_search', columns='product_name_recommended', values='distance')\n",
    "\n",
    "# Create the heatmap using Plotly\n",
    "fig = go.Figure(data=go.Heatmap(\n",
    "                   z=heatmap_data.values,\n",
    "                   x=heatmap_data.columns,\n",
    "                   y=heatmap_data.index,\n",
    "                   colorscale='RdBu'))\n",
    "\n",
    "fig.update_layout(\n",
    "    title='Distance measures between searched product and recommended product',\n",
    "    xaxis_title='Recommended Products',\n",
    "    yaxis_title='Searched Products',\n",
    "    xaxis=dict(tickangle=45),\n",
    "    width= 1500, \n",
    "    height = 800,\n",
    "    hoverlabel=dict(\n",
    "            bgcolor=\"white\",\n",
    "            font_size=16,\n",
    "            font_family=\"Rockwell\"\n",
    "    ),\n",
    "    autosize=False, \n",
    ")\n",
    "\n",
    "fig.update(data=[{'hovertemplate': 'Product Searched: %{y}<br>Product Recommended: %{x}<br>distance: %{z}<extra></extra>'}])\n",
    "fig.show()"
   ]
  },
  {
   "cell_type": "markdown",
   "id": "b2030e44-ea79-46de-8ca6-88ccaff0bf7b",
   "metadata": {},
   "source": [
    "<p style = 'font-size:16px;font-family:Arial'>In the graph above, we are illustrating distances using a color spectrum ranging from red to blue. Products marked in red represent shorter distances, while those in blue indicate greater distances.</p><br/>"
   ]
  },
  {
   "cell_type": "markdown",
   "id": "3657516f-ce8b-42b5-b2cc-2ba7020e02cf",
   "metadata": {},
   "source": [
    "<p style = 'font-size:18px;font-family:Arial;color:#E37C4D'><b> 7.3 View recommended products</b></p>\n",
    "\n",
    "<p style = 'font-size:16px;font-family:Arial'>Based on the products searched for, here we'll display the recommend products.</p>"
   ]
  },
  {
   "cell_type": "code",
   "execution_count": null,
   "id": "f0654916-ba86-4f96-8f23-5b5c0c9dcdbc",
   "metadata": {},
   "outputs": [],
   "source": [
    "from IPython.display import display, Markdown\n",
    "\n",
    "def response_template(df, cnt, top_k):\n",
    "    view = '''<p style = 'font-size:18px;font-family:Arial;color:#E37C4D'><b>Product Recommendations</b></p>'''\n",
    "    i = 0\n",
    "    while i < cnt*top_k and i < len(df):\n",
    "        product_name_search = df.loc[i,'product_name_search']\n",
    "        view = view + f''' <ul style = 'font-size:16px;font-family:Arial'>  <li> Based on your search for  <strong>{product_name_search}</strong> here are some recommended products: <ul>'''\n",
    "        j = i\n",
    "        \n",
    "        view2 = ''\n",
    "        while j < i + top_k:\n",
    "            product_name_recommended = df.loc[j,'product_name_recommended']\n",
    "            view2 = view2 + f''' <li>{product_name_recommended}</li>'''\n",
    "            j +=1\n",
    "        i += top_k\n",
    "        view =  view + view2 + '</ul></ul>'\n",
    "    return view"
   ]
  },
  {
   "cell_type": "markdown",
   "id": "5c7e71d9-d50c-487b-928d-59415c8a5211",
   "metadata": {},
   "source": [
    "<div class=\"alert alert-block alert-info\" id=\"no-azure\">\n",
    "    <p style = 'font-size:16px;font-family:Arial'><i><b>Note</b>:By default, we display 3 searched products. To change this, you can update the value of the <code>number_of_products_to_display</code> variable.</i></p>\n",
    "</div>"
   ]
  },
  {
   "cell_type": "code",
   "execution_count": null,
   "id": "1eb37cd1-720d-45a8-a2c8-66f8d5ec7706",
   "metadata": {},
   "outputs": [],
   "source": [
    "number_of_products_to_display = 3\n",
    "display(Markdown(response_template(df_recommandations, number_of_products_to_display, number_of_recommendations)))"
   ]
  },
  {
   "cell_type": "markdown",
   "id": "538269ba-a501-4cad-8904-cfbd5103e0e6",
   "metadata": {},
   "source": [
    "<p style = 'font-size:16px;font-family:Arial'>In the above list we can see the recommendations for the searched product.</p>"
   ]
  },
  {
   "cell_type": "markdown",
   "id": "a8c7974d-6a6b-4a7d-bd64-923c650f116e",
   "metadata": {},
   "source": [
    "<p style = 'font-size:18px;font-family:Arial;color:#E37C4D'><b> 7.4 Real time recommendation: Select the product</b></p>\n",
    "\n",
    "<p style = 'font-size:16px;font-family:Arial'>When a user selects a product from the dropdown, the system will instantly recommend a list of new products that are similar to the selected product. The recommendations are updated in real time as the user selects the product, so users can always find new and relevant products to explore.</p>"
   ]
  },
  {
   "cell_type": "code",
   "execution_count": null,
   "id": "3356abdf-c5d1-4108-8a1d-1223a9a81cab",
   "metadata": {},
   "outputs": [],
   "source": [
    "from ipywidgets import interact, Dropdown\n",
    "import ipywidgets as widgets\n",
    "layout = widgets.Layout(width='500px', height='30px') \n",
    "\n",
    "p1 = [\"\".join(i) for i in search_product_embeddings_df.to_pandas().reset_index().iloc[3:]['product_name'].tolist()]\n",
    "prod_dw = Dropdown(\n",
    "        options = p1, \n",
    "        description='Select the product:', \n",
    "        style= {'description_width': 'initial'},\n",
    "        display='flex',\n",
    "        flex_flow='column',\n",
    "        align_items='stretch',\n",
    "        layout = layout)\n",
    "\n",
    "@interact(product_name = prod_dw)\n",
    "def print_product(product_name):\n",
    "    df_recommandations_filtered = df_recommandations[df_recommandations.product_name_search == product_name].reset_index()\n",
    "    display(Markdown(response_template(df_recommandations_filtered, 1, number_of_recommendations)))"
   ]
  },
  {
   "cell_type": "code",
   "execution_count": null,
   "id": "3b4e124e-741c-4758-83c9-500287a89fb7",
   "metadata": {},
   "outputs": [],
   "source": [
    "def no_key_desc():\n",
    "    return '''<div class=\"alert alert-block alert-info\">\n",
    "    <p style = 'font-size:16px;font-family:Arial'><i><b>Note</b>:To execute the below functionality, you should have OpenAI key. If you don't have the key then click <a href=\"#section8\">here</a> skip the section 7.5</i></p>\n",
    "</div>'''"
   ]
  },
  {
   "cell_type": "markdown",
   "id": "0383c8fc-56fc-4e6d-9eca-f04b80269078",
   "metadata": {},
   "source": [
    "<p style = 'font-size:16px;font-family:Arial'>The code below will not run if you have already entered the OpenAI key.</p>"
   ]
  },
  {
   "cell_type": "code",
   "execution_count": null,
   "id": "730e5364-c364-47bb-b882-459e77db6983",
   "metadata": {},
   "outputs": [],
   "source": [
    "if openai.api_key == None:\n",
    "    display(Markdown(no_key_desc()))"
   ]
  },
  {
   "cell_type": "markdown",
   "id": "033ee744-31e5-42b9-bf03-ca1c04304154",
   "metadata": {},
   "source": [
    "<p style = 'font-size:18px;font-family:Arial;color:#E37C4D'><b> 7.5 Real time recommendation: Type the product name</b></p>\n",
    "\n",
    "<p style = 'font-size:16px;font-family:Arial'>Our real time product recommendation system will provide personalized recommendations to customers based on keywords they are searching. When a customer types in the name of a product, the system will instantly generate a list of similar products that the customer might also be interested in. This allows customers to easily find products that they are likely to love, and it can help to increase sales for your business.</p>"
   ]
  },
  {
   "cell_type": "code",
   "execution_count": null,
   "id": "3f4d70a2-2b24-4638-b3b3-36cc6aec4b52",
   "metadata": {},
   "outputs": [],
   "source": [
    "def get_new_product_embeddings(new_product):\n",
    "    start = timeit.default_timer()\n",
    "    df_new_search = pd.DataFrame(data={\"product_id\":50001, \"product_name\": [new_product], \"aisle_id\": 45, \"department_id\": 19})\n",
    "\n",
    "    df_new_search_products = get_embeddings(df_new_search)\n",
    "    end = timeit.default_timer()\n",
    "    load_time = end - start\n",
    "    print(f'generate the embeddings for {df_new_search_products.shape[0]} search products:\\t', load_time)\n",
    "    print('----- complete -----')\n",
    "\n",
    "    # Print the DataFrame.\n",
    "    return df_new_search_products"
   ]
  },
  {
   "cell_type": "code",
   "execution_count": null,
   "id": "c4a3f319-b1f9-4310-88d0-f459b0ca89cf",
   "metadata": {},
   "outputs": [],
   "source": [
    "from ipywidgets import interact, Text\n",
    "from ipywidgets import IntProgress\n",
    "import ipywidgets as widgets\n",
    "\n",
    "max_count = 100\n",
    "f = IntProgress(min=0, max=max_count)\n",
    "f.layout.visibility = 'hidden'\n",
    "\n",
    "layout = widgets.Layout(width='500px', height='30px') \n",
    "\n",
    "prod_txt = Text(\n",
    "    value='',\n",
    "    placeholder='Type product name',\n",
    "    description='Enter the product name:',\n",
    "    disabled=False,\n",
    "    align_items='stretch', \n",
    "    layout = layout,\n",
    "    style= {'description_width': 'initial'}\n",
    ")\n",
    "\n",
    "btn_search = widgets.Button(\n",
    "    description='Search',\n",
    "    disabled=False,\n",
    "    align_items='stretch',\n",
    "    icon = 'search',\n",
    "    layout = layout\n",
    ")\n",
    "\n",
    "btn_clr = widgets.Button(\n",
    "    description='Clear',\n",
    "    disabled=False,\n",
    "    align_items='stretch',\n",
    "    icon = 'eraser',\n",
    "    layout = layout\n",
    ")\n",
    "\n",
    "output = widgets.Output()\n",
    "\n",
    "btn_search.style.button_color = '#E37C4D'\n",
    "btn_search.style.font_weight = \"bold\"\n",
    "\n",
    "if flag:\n",
    "    value_new = '''<p style = 'font-size:16px;font-family:Arial'>To get more interesting results, enter a multi-word product name. You can find product name references in         <a style='color: blue;font-family: Arial;text-decoration: underline;' href=\"#section52\">Section 5.2</a> For example, you could enter: <b><ul style = 'font-size:16px;font-family:Arial'><li>Sea Salt Hummus Chips</li><li>Chocolate Mint Crisp Protein Bar</li><li>Wheat Biscuits</li></b> </p>'''\n",
    "else:\n",
    "    value_new = '''<p style = 'font-size:16px;font-family:Arial'>To get more interesting results, enter a multi-word product name. You can find product name references in       <a style='color: blue;font-family: Arial;text-decoration: underline;' href=\"#section43\">Section 4.3</a>.        For example, you could enter:    <b><ul style = 'font-size:16px;font-family:Arial'><li>Sea Salt Hummus Chips</li><li>Chocolate Mint Crisp Protein Bar</li><li>Wheat Biscuits</li></b> </p>'''\n",
    "\n",
    "html_desc = widgets.HTML(\n",
    "    value = value_new,\n",
    "    placeholder=\"\",\n",
    "    description='',\n",
    ")\n",
    "\n",
    "html_op = widgets.HTML(\n",
    "    value=\"\",\n",
    "    placeholder='',\n",
    "    description='',\n",
    ")\n",
    "\n",
    "def btn_clr_click(btn):\n",
    "    prod_txt.value = ''\n",
    "    html_op.value = ''\n",
    "    output.clear_output()\n",
    "\n",
    "\n",
    "@output.capture()\n",
    "def btn_click(btn):\n",
    "    f.value = 0\n",
    "    if prod_txt.value != '':\n",
    "        start = timeit.default_timer()\n",
    "        f.layout.visibility = 'visible'\n",
    "        html_op.value = ''\n",
    "        f.value += 1 # signal to increment the progress bar\n",
    "        \n",
    "        # generate new embeddings for typed product     \n",
    "        print(\"Generating the embeddings for: \", prod_txt.value)\n",
    "        df_new_search_products = get_new_product_embeddings(prod_txt.value)\n",
    "        f.value = 10\n",
    "\n",
    "        # delete and copy new embeddings\n",
    "        print(\"Copy generated embeddings to SQL...\")\n",
    "        delete_and_copy_embeddings(table_name = 'search_product_embeddings_user_input', tdf= df_new_search_products, eng=eng)\n",
    "        f.value = 40\n",
    "\n",
    "        # clac vector-distance\n",
    "        emb_column_names = DataFrame(in_schema('demo_user', 'search_product_embeddings_user_input')).columns[4:]\n",
    "        f.value = 60\n",
    "\n",
    "        # select top matching\n",
    "        print(\"Calculating the distance between the searched snack and all snacks...\")\n",
    "        number_of_recommendations = 4\n",
    "        vector_distance_df = calculate_vector_distance(\n",
    "            target_table= \"search_product_embeddings_user_input\", \n",
    "            reference_table=\"product_embeddings\", \n",
    "            emb_column_names=emb_column_names,\n",
    "            topk = number_of_recommendations)\n",
    "        \n",
    "        f.value = 80\n",
    "        print(\"Getting the recommendations...\")\n",
    "        new_search_product_embeddings_df = DataFrame(in_schema('demo_user', 'search_product_embeddings_user_input'))\n",
    "        df_recommandations = get_final_recommendations(vector_distance_df, product_embeddings_df, new_search_product_embeddings_df)\n",
    "        f.value = 100\n",
    "        f.layout.visibility = 'hidden'\n",
    "        html_op.value = response_template(df_recommandations, 1, number_of_recommendations)\n",
    "        end = timeit.default_timer()\n",
    "        load_time = end - start\n",
    "        print(f'Total time to get the recommendation:\\t', load_time)\n",
    "        print('----- complete -----')\n",
    "\n",
    "\n",
    "btn_search.on_click(btn_click)\n",
    "btn_clr.on_click(btn_clr_click)\n",
    "display(html_desc, prod_txt, btn_search, btn_clr, output, html_op, f)"
   ]
  },
  {
   "cell_type": "markdown",
   "id": "8e85d091-4163-4189-816e-82ff8beca8c9",
   "metadata": {},
   "source": [
    "<p style = 'font-size:16px;font-family:Arial'>When you enter a product name in the textbox above, we will take that product name and pass it to a function to generate embeddings. Embeddings are vectors that represent the meaning of a word or phrase. Once we have the embeddings, we will store them in a SQL database.</p>\n",
    "\n",
    "<p style = 'font-size:16px;font-family:Arial'>Next, we will compare the embeddings of the product you entered with the embeddings of all the 6,000+ products in our database. We will use a technique called <code>VectorDistance</code> to measure the similarity between the embeddings. In a nutshell, we are comparing the searched product embeddings against 6,000+ product embeddings. The closer the embeddings are, the more similar the products are.We will then select the products that are the most similar to the product you entered and display them to you as recommendations.</p>\n",
    "\n",
    "<p style = 'font-size:16px;font-family:Arial'>Finally, we will select the products that are the most similar to the product you entered and display them to you as recommendations.</p>\n",
    "\n",
    "<p style = 'font-size:16px;font-family:Arial'>Please note that it may take a few moments to get the recommendations. This is because our platform is still small and we are searching for products against a database of over 6,000 snacks. We are also using complex mathematics to calculate the cosine distance between the products, which can take some time.</p>\n",
    "    \n",
    "<p style = 'font-size:16px;font-family:Arial'>If you clear the text box and enter a new product name, the system will generate new recommendations based on the new product name. This is a great way to discover new products that you might be interested in.</p>"
   ]
  },
  {
   "cell_type": "markdown",
   "id": "50b8b817-c0ff-42b3-a651-c8268ac40942",
   "metadata": {},
   "source": [
    "<div id='section8'></div>\n",
    "<hr>\n",
    "<b style = 'font-size:28px;font-family:Arial;color:#E37C4D'>8. Cleanup</b>\n",
    "<p style = 'font-size:18px;font-family:Arial;color:#E37C4D'><b>Work Tables</b></p>\n",
    "<p style = 'font-size:16px;font-family:Arial'>Cleanup work tables to prevent errors next time.</p>"
   ]
  },
  {
   "cell_type": "code",
   "execution_count": null,
   "id": "99ccbcfb-8ae5-4a13-80af-262195c6a0fd",
   "metadata": {},
   "outputs": [],
   "source": [
    "tables = [\"product_embeddings\", \"search_product_embeddings\", \"search_product_embeddings_user_input\"]\n",
    "\n",
    "for table in tables:\n",
    "    try:\n",
    "        db_drop_table(table_name = table)\n",
    "    except:\n",
    "        pass"
   ]
  },
  {
   "cell_type": "markdown",
   "id": "0aacb87c-0d81-40f0-8754-608d47e602cc",
   "metadata": {},
   "source": [
    "<p style = 'font-size:18px;font-family:Arial;color:#E37C4D'> <b>Databases and Tables </b></p>\n",
    "<p style = 'font-size:16px;font-family:Arial'>The following code will clean up tables and databases created above.</p>"
   ]
  },
  {
   "cell_type": "code",
   "execution_count": null,
   "id": "7b398148-9486-4535-8c06-d3f77669bbdc",
   "metadata": {},
   "outputs": [],
   "source": [
    "%run -i ../run_procedure.py \"call remove_data('DEMO_Grocery_Data');\"        # Takes 5 seconds"
   ]
  },
  {
   "cell_type": "code",
   "execution_count": null,
   "id": "73ef4cbe-1beb-4c65-ac60-ffd6250668a4",
   "metadata": {},
   "outputs": [],
   "source": [
    "remove_context()"
   ]
  },
  {
   "cell_type": "markdown",
   "id": "ae971f90-bef1-4228-bcbf-c333e9843284",
   "metadata": {},
   "source": [
    "<b style = 'font-size:28px;font-family:Arial;color:#E37C4D'>Dataset:</b>\n",
    "\n",
    "\n",
    "- `product_id`: Unique row customer id\n",
    "- `product_name`: customer age (numeric)\n",
    "- `aisle_id` : Aisle id (numeric)\n",
    "- `department_id` : Depatment id (numeric)\n",
    "\n",
    "<p style = 'font-size:16px;font-family:Arial;color:#E37C4D'><b>Links:</b></p>\n",
    "<ul style = 'font-size:16px;font-family:Arial'>\n",
    "    <li>Teradataml Python reference: <a href = 'https://docs.teradata.com/search/all?query=Python+Package+User+Guide&content-lang=en-US'>here</a></li>\n",
    "    <li>OpenAI embeddings reference: <a href='https://platform.openai.com/docs/guides/embeddings'>here</a></li>\n",
    "</ul>"
   ]
  },
  {
   "cell_type": "markdown",
   "id": "e5463848-592f-4321-b852-287e133872dd",
   "metadata": {},
   "source": [
    "<footer style=\"padding:10px;background:#f9f9f9;border-bottom:3px solid #394851\">©2023 Teradata. All Rights Reserved</footer>"
   ]
  }
 ],
 "metadata": {
  "kernelspec": {
   "display_name": "Python 3 (ipykernel)",
   "language": "python",
   "name": "python3"
  },
  "language_info": {
   "codemirror_mode": {
    "name": "ipython",
    "version": 3
   },
   "file_extension": ".py",
   "mimetype": "text/x-python",
   "name": "python",
   "nbconvert_exporter": "python",
   "pygments_lexer": "ipython3",
   "version": "3.9.10"
  }
 },
 "nbformat": 4,
 "nbformat_minor": 5
}
