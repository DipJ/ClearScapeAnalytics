{
 "cells": [
  {
   "cell_type": "markdown",
   "id": "8d8a3c4f",
   "metadata": {},
   "source": [
    "<header style=\"padding:1px;background:#f9f9f9;border-top:3px solid #00b2b1\"><img id=\"Teradata-logo\" src=\"https://www.teradata.com/Teradata/Images/Rebrand/Teradata_logo-two_color.png\" alt=\"Teradata\" width=\"220\" align=\"right\" />\n",
    "\n",
    "<b style = 'font-size:28px;font-family:Arial;color:#E37C4D'>Insurance Analysis Using Temporal</b>\n",
    "</header>\n",
    "\n",
    "\n",
    "<p style = 'font-size:20px;font-family:Arial;color:#E37C4D'><b>Introduction</b></p>"
   ]
  },
  {
   "cell_type": "markdown",
   "id": "20ade183-2b03-46eb-a626-c0bc75dcd47a",
   "metadata": {
    "tags": []
   },
   "source": [
    "<p style = 'font-size:18px;font-family:Arial'>\n",
    "Applications require to design and build databases dependant on time or data changes over time.  Building such applications is possible but becomes easier with Temporal\n",
    "   \n",
    "</p>  "
   ]
  },
  {
   "cell_type": "markdown",
   "id": "4c8f88a7-163b-4ee7-8c5d-299f1492e304",
   "metadata": {
    "tags": []
   },
   "source": [
    "<p style = 'font-size:18px;font-family:Arial;color:#E37C4D'> <b>WHY TEMPORAL? </b> </p>\n",
    "\n",
    "<p style = 'font-size:18px;font-family:Arial'>    \n",
    "Things You No Longer Have To Do in the Time-Aware Teradata Database\n",
    "Data Maintenance : </p>\n",
    "    \n",
    "<li style = 'font-size:16px;font-family:Arial'> Update effective dates in data.</li></<li style = 'font-size:16px;font-family:Arial'> <li style = 'font-size:16px;font-family:Arial'> Specify “transaction time” timestamp when data are entered or updated. </li>\n",
    "<li style = 'font-size:16px;font-family:Arial'> Insert new data rows for updates. </li>     \n",
    "<li style = 'font-size:16px;font-family:Arial'> Manage temporal history storage space. </li> \n",
    "  "
   ]
  },
  {
   "cell_type": "markdown",
   "id": "05080528-4583-4180-8f6b-7a79a797237d",
   "metadata": {
    "tags": []
   },
   "source": [
    " \n",
    "<p style = 'font-size:18px;font-family:Arial'> Query and Application Development : </p>\n",
    "\n",
    "\n",
    "<li style = 'font-size:16px;font-family:Arial'> Write complex period based condition clauses. </li>\n",
    "<li style = 'font-size:16px;font-family:Arial'> Add effective date qualifications to “current queries.” </li>\n",
    "<li style = 'font-size:16px;font-family:Arial'> Train users and application developers in effective date columns and processing for “AS OF” query development.</li>\n",
    "<li style = 'font-size:16px;font-family:Arial'> Save old reports or database snapshots to facilitate looking backfor analysis, compliance reporting, or audit trails.</li>"
   ]
  },
  {
   "cell_type": "markdown",
   "id": "64ff501a-5f7d-4b31-a8db-72511554d2f8",
   "metadata": {
    "tags": []
   },
   "source": [
    "<p style = 'font-size:16px;font-family:Arial'>Here we are considering the example of Insurance company storing data for various policies whose validity, conditions , premium amount and many other factors will change over Time period.</p>\n",
    "    \n",
    "    \n",
    " "
   ]
  },
  {
   "cell_type": "markdown",
   "id": "c30a145c-a2e4-43d2-8ae0-1a5378add8fb",
   "metadata": {
    "tags": []
   },
   "source": [
    "   \n",
    "    \n",
    "    \n",
    "    \n",
    "<p style = 'font-size:18px;font-family:Arial'>Some scenarios that can be handled using temporal features are as below \n",
    "    \n",
    "<li style = 'font-size:16px;font-family:Arial'>    Consider the scenario where there is a hail storm occuring on a particular date. The As of date feature can be used to check the validity of the policy and than the incident date can be used to check which claims fall in the validity period of the policies.</li>\n",
    "    \n",
    "<li style = 'font-size:16px;font-family:Arial'>    Another scenario is that the customer has sold the vehicle and the closure of the policy happened a week late as the customer informed late about the sale , so based on the transaction time the validity of the policies will change. </li>\n",
    "\n"
   ]
  },
  {
   "cell_type": "markdown",
   "id": "0b250324-9d47-4bfa-bd05-7f0f8b7efd2f",
   "metadata": {
    "tags": []
   },
   "source": [
    "    \n",
    "<p style = 'font-size:18px;font-family:Arial;color:#E37C4D'> <b>Accessing the Data </b></p>\n",
    "<p style = 'font-size:16px;font-family:Arial'>These demos will work either with foreign tables accessed from Cloud Storage via NOS or you may import the tables to your machine. If you import data for multiple demos, you may need to use the Data Dictionary \"Manage Your Space\" routine to cleanup tables you no longer need. \n",
    "    \n",
    "<p style = 'font-size:16px;font-family:Arial'>Use the link below to access the 2 options for using data from the data dictionary notebook:    \n",
    "    \n",
    "    \n",
    "[Click Here to get data for this notebook](../Data_Dictionary/Data_Dictionary.ipynb#TRNG_InsuranceClaims)    \n",
    "    \n",
    "    \n",
    "[Click Here to Manage Your Space](../Data_Dictionary/Data_Dictionary.ipynb#Manage_Your_Space)\n",
    "    "
   ]
  },
  {
   "cell_type": "markdown",
   "id": "976d48f0",
   "metadata": {},
   "source": [
    "<p style = 'font-size:18px;font-family:Arial;color:#E37C4D'> <b>Let's start by connecting to the Teradata system </b></p>\n",
    "<p style = 'font-size:16px;font-family:Arial'>You will be prompted to provide the password </p>"
   ]
  },
  {
   "cell_type": "code",
   "execution_count": null,
   "id": "f2df43a2",
   "metadata": {},
   "outputs": [],
   "source": [
    "%connect local"
   ]
  },
  {
   "cell_type": "markdown",
   "id": "00960a68-6ba8-4d3d-8bbc-b6247390508b",
   "metadata": {},
   "source": [
    "<p style = 'font-size:16px;font-family:Arial'>To understand how Temporal can be helpful we will consider a simple example where we need to check policies which were valid on 31st December2020 and had a premium amount less than 1000. for a normal table with start and end date columns the query will be as below :</p>"
   ]
  },
  {
   "cell_type": "code",
   "execution_count": null,
   "id": "ea655210-c846-49f4-8f1d-4142e395114f",
   "metadata": {},
   "outputs": [],
   "source": [
    "SELECT Policy_ID, Customer_ID, Policy_premium_Amt,policy_state,Policy_start_date, policy_end_date \n",
    "FROM TRNG_InsuranceClaims.Policy_Details_Org\n",
    "where policy_start_date <= '2020-12-31'\n",
    "and policy_end_date >= '2020-12-31'\n",
    "and Policy_premium_Amt < 1000"
   ]
  },
  {
   "cell_type": "markdown",
   "id": "b13b2f78-924a-4d88-94b5-a2ceb22229fb",
   "metadata": {},
   "source": [
    "<p style = 'font-size:16px;font-family:Arial'>The same query with Temporal table would be as below :</p>"
   ]
  },
  {
   "cell_type": "code",
   "execution_count": null,
   "id": "7edd317e-30a6-49f7-a9e0-b21e4b4cc79c",
   "metadata": {
    "tags": []
   },
   "outputs": [],
   "source": [
    "VALIDTIME AS OF Date'2020-12-31'\n",
    "SELECT Policy_ID, Customer_ID, Policy_premium_Amt,policy_state,Policy_Validity FROM TRNG_InsuranceClaims.Policy_Details\n",
    "where Policy_premium_Amt < 1000\n"
   ]
  },
  {
   "cell_type": "markdown",
   "id": "ab1e21c8-31bf-427e-81eb-798b50dedea6",
   "metadata": {},
   "source": [
    "<p style = 'font-size:18px;font-family:Arial'><b> Now let's check how temporal can help simplify queries in a complex scenario:</b></p>"
   ]
  },
  {
   "cell_type": "markdown",
   "id": "487a2a68",
   "metadata": {},
   "source": [
    "<p style = 'font-size:16px;font-family:Arial'>Consider scenario where we have to check all valid policies whose validity period is similar to the Policy of the Mercedes -ML350 in the state IL. In a table without the temporal columns the query would have to collect data for various scenarios where the policy_start_date and policy_end_date for other policies lie in the range of the policy_start_date and policy_end_date of the policy of Mercedes-ML350 in state of IL. So the query will have to do a UNION ALL with different date checks for checking the start and end date of the policies looks like the below : </p>"
   ]
  },
  {
   "cell_type": "code",
   "execution_count": null,
   "id": "542c4b8b",
   "metadata": {},
   "outputs": [],
   "source": [
    "select OthPol.Policy_id, OthPol.Customer_id, OthPol.auto_make , OthPol.Policy_start_date,OthPol.Policy_end_date\n",
    "from TRNG_InsuranceClaims.policy_details_org MercPol --- \"Table for getting details of the Mercedes-ML350\"\n",
    ", TRNG_InsuranceClaims.policy_details_org OthPol --- \"Table Instance for creating self join to get details of other policies\"\n",
    "where MercPol.auto_make = 'Mercedes'\n",
    "and MercPol.policy_state = 'IL'\n",
    "and MercPol.auto_model = 'ML350'\n",
    "and MercPol.policy_state = OthPol.Policy_state\n",
    "AND MercPol.policy_start_date <= OthPol.policy_start_date\n",
    "AND MercPol.policy_end_date > OthPol.policy_start_date\n",
    "AND MercPol.policy_end_date <= OthPol.policy_end_date\n",
    "UNION ALL\n",
    "select OthPol.Policy_id, OthPol.Customer_id, OthPol.auto_make , OthPol.Policy_start_date,OthPol.Policy_end_date\n",
    "from TRNG_InsuranceClaims.policy_details_org MercPol\n",
    ", TRNG_InsuranceClaims.policy_details_org OthPol\n",
    "where MercPol.auto_make = 'Mercedes'\n",
    "and MercPol.policy_state = 'IL'\n",
    "and MercPol.auto_model = 'ML350'\n",
    "and MercPol.policy_state = OthPol.Policy_state\n",
    "AND MercPol.policy_start_date <= OthPol.policy_start_date\n",
    "AND MercPol.policy_end_date >= OthPol.policy_end_date\n",
    "UNION ALL\n",
    "select OthPol.Policy_id, OthPol.Customer_id, OthPol.auto_make , OthPol.Policy_start_date,OthPol.Policy_end_date\n",
    "from TRNG_InsuranceClaims.policy_details_org MercPol\n",
    ", TRNG_InsuranceClaims.policy_details_org OthPol\n",
    "where MercPol.auto_make = 'Mercedes'\n",
    "and MercPol.policy_state = 'IL'\n",
    "and MercPol.auto_model = 'ML350'\n",
    "and MercPol.policy_state = OthPol.Policy_state\n",
    "AND MercPol.policy_start_date >= OthPol.policy_start_date\n",
    "AND MercPol.policy_end_date <= OthPol.policy_end_date\n",
    "UNION ALL\n",
    "select OthPol.Policy_id, OthPol.Customer_id, OthPol.auto_make , OthPol.Policy_start_date,OthPol.Policy_end_date\n",
    "from TRNG_InsuranceClaims.policy_details_org MercPol\n",
    ", TRNG_InsuranceClaims.policy_details_org OthPol\n",
    "where MercPol.auto_make = 'Mercedes'\n",
    "and MercPol.policy_state = 'IL'\n",
    "and MercPol.auto_model = 'ML350'\n",
    "and MercPol.policy_state = OthPol.Policy_state\n",
    "AND MercPol.policy_start_date >= OthPol.policy_start_date\n",
    "AND MercPol.policy_start_date < OthPol.policy_end_date\n",
    "AND MercPol.policy_end_date >= OthPol.policy_end_date;"
   ]
  },
  {
   "cell_type": "markdown",
   "id": "22fda8e8",
   "metadata": {},
   "source": [
    "<p style = 'font-size:16px;font-family:Arial'>Use the Temporal ValidTime function to display similar results as the query written above on table without Period datatype. </p>"
   ]
  },
  {
   "cell_type": "code",
   "execution_count": null,
   "id": "6c80ccbe",
   "metadata": {},
   "outputs": [],
   "source": [
    "Validtime select OthPol.Policy_id, OthPol.Customer_id, OthPol.auto_make \n",
    "from TRNG_InsuranceClaims.policy_details MercPol , TRNG_InsuranceClaims.policy_details OthPol\n",
    "where MercPol.auto_make = 'Mercedes'\n",
    "and MercPol.policy_state = 'IL'\n",
    "and MercPol.auto_model = 'ML350'\n",
    "and MercPol.policy_state = OthPol.Policy_state\n",
    ";"
   ]
  },
  {
   "cell_type": "markdown",
   "id": "289cccbb",
   "metadata": {},
   "source": [
    "<p style = 'font-size:20px;font-family:Arial;color:#E37C4D'> <b>Comparison for Queries with and without Temporal </b></p>"
   ]
  },
  {
   "cell_type": "markdown",
   "id": "144bce39",
   "metadata": {},
   "source": [
    "<table>\n",
    "<tr>\n",
    "<td style=\"color:black;font-size:18px;font-weight:bold\">WITH TEMPORAL</td>\n",
    "<td style=\"color:black;font-size:18px;font-weight:bold\">WITHOUT TEMPORAL</td> \n",
    "</tr>\n",
    "\n",
    "<tr>\n",
    "<td>Validtime select b.Policy_id, b.Customer_id, b.auto_make from policy_details a , policy_details b where a.auto_make = 'Mercedes' and a.policy_state = 'IL' and a.auto_model = 'ML350' and a.policy_state = b.Policy_state; </td>\n",
    "<td>select b.Policy_id, b.Customer_id, b.auto_make , b.Policy_start_date,b.Policy_end_date from policy_details_org_extrapolate a , policy_details_org_extrapolate b where a.auto_make = 'Mercedes' and a.policy_state = 'IL' and a.auto_model = 'ML350' and a.policy_state = b.Policy_state AND a.policy_start_date b.policy_start_date AND a.policy_end_date    UNION ALL \n",
    "select b.Policy_id, b.Customer_id, b.auto_make , b.Policy_start_date,b.Policy_end_date from policy_details_org_extrapolate a , policy_details_org_extrapolate b where a.auto_make = 'Mercedes' and a.policy_state = 'IL' and a.auto_model = 'ML350' and a.policy_state = b.Policy_state AND a.policy_start_date <= b.policy_start_date AND a.policy_end_date >= b.policy_end_date\n",
    "\n",
    "   UNION ALL \n",
    "select b.Policy_id, b.Customer_id, b.auto_make , b.Policy_start_date,b.Policy_end_date from policy_details_org_extrapolate a , policy_details_org_extrapolate b where a.auto_make = 'Mercedes' and a.policy_state = 'IL' and a.auto_model = 'ML350' and a.policy_state = b.Policy_state AND a.policy_start_date >= b.policy_start_date AND a.policy_end_date <= b.policy_end_date\n",
    "\n",
    "   UNION ALL\n",
    "select b.Policy_id, b.Customer_id, b.auto_make , b.Policy_start_date,b.Policy_end_date from policy_details_org_extrapolate a , policy_details_org_extrapolate b where a.auto_make = 'Mercedes' and a.policy_state = 'IL' and a.auto_model = 'ML350' and a.policy_state = b.Policy_state AND a.policy_start_date >= b.policy_start_date AND a.policy_start_date < b.policy_end_date AND a.policy_end_date >= b.policy_end_date;</td>\n",
    "</tr>    \n",
    "</table>    \n",
    " "
   ]
  },
  {
   "cell_type": "markdown",
   "id": "c1a5895d-1405-4e01-aa8c-f1741336deb0",
   "metadata": {},
   "source": [
    " <p style = 'font-size:18px;font-family:Arial;'> <b>Performance Comparison for above queries </b> </p>"
   ]
  },
  {
   "cell_type": "markdown",
   "id": "0871d591-10e4-4fa5-81e2-22ec63370e70",
   "metadata": {},
   "source": [
    " <img src=\"images/PerformanceMetrics.png\" style=\"width:1000px;height:200px;\">"
   ]
  },
  {
   "cell_type": "markdown",
   "id": "d647756e",
   "metadata": {},
   "source": [
    "<p style = 'font-size:16px;font-family:Arial'>Comparing the Validity and VALIDTIME columns demonstrates that the   \n",
    "    valid-time period of the result set is the intersection of the valid-time period in the original Policy table Validity \n",
    "    column with the Period specified in the sequenced select statement.</p>\n"
   ]
  },
  {
   "cell_type": "code",
   "execution_count": null,
   "id": "fe6dd1c1",
   "metadata": {},
   "outputs": [],
   "source": [
    "SEQUENCED VALIDTIME PERIOD '(2009-01-01, 2009-12-31)'\n",
    "SELECT Policy_ID, Customer_ID, Policy_Validity FROM (\n",
    "SEQUENCED VALIDTIME SELECT Policy_details.*\n",
    "FROM TRNG_InsuranceClaims.Policy_Details where policy_state = 'IN') AS my_derived_table;\n"
   ]
  },
  {
   "cell_type": "markdown",
   "id": "fbc9a34e",
   "metadata": {},
   "source": [
    "<p style = 'font-size:16px;font-family:Arial'>Aggregations can be used for analysis of the data based on the validity period. \n",
    "Comparisons of data between different validity periods can be achieved with Temporal. Like the minimum and maximum premium amounts for a particular state based on the model of the cars.</p>\n",
    "\n"
   ]
  },
  {
   "cell_type": "code",
   "execution_count": null,
   "id": "8cd01c92",
   "metadata": {},
   "outputs": [],
   "source": [
    "SEQUENCED VALIDTIME Period (date '2011-01-01', date '2020-12-31')\n",
    "SELECT auto_make,\n",
    "min(Policy_premium_Amt) as MinPremium,\n",
    "max(Policy_premium_Amt) as MaxPremium\n",
    "FROM TRNG_InsuranceClaims.Policy_Details\n",
    "where policy_state = 'OH'\n",
    "GROUP BY 1\n",
    "ORDER BY VALIDTIME;\n",
    "\n"
   ]
  },
  {
   "cell_type": "markdown",
   "id": "f4ab68b0-0ae8-43ae-ad0c-d0b24b2937a9",
   "metadata": {},
   "source": [
    "<p style = 'font-size:20px;font-family:Arial;color:#E37C4D'> <b>Temporal concepts </b></p>"
   ]
  },
  {
   "cell_type": "markdown",
   "id": "6ae3a600-8b98-4317-9164-0f2a9a9e2a8e",
   "metadata": {},
   "source": [
    "<p style = 'font-size:18px;font-family:Arial'> <b> Time line for various Policies :-    Analysis can be done for </b> </p>\n",
    "    \n",
    "   \n",
    "<li style = 'font-size:16px;font-family:Arial'>Policies valid during a particular period.</li>\n",
    "    \n",
    "<li style = 'font-size:16px;font-family:Arial'>Validity period of various policies.</li>\n",
    "    \n",
    "<li style = 'font-size:16px;font-family:Arial'>Premium amount collected during a particular period </li>"
   ]
  },
  {
   "cell_type": "markdown",
   "id": "78ed0686",
   "metadata": {},
   "source": [
    "<p style = 'font-size:18px;font-family:Arial'>Using the As Of concept to verify the active policies on a particular date</p>"
   ]
  },
  {
   "cell_type": "markdown",
   "id": "52301a5c",
   "metadata": {},
   "source": [
    "<p style = 'font-size:16px;font-family:Arial'>On a given date, there was a hail storm and we want to determine the count of policies in effect on that date\n",
    "The scenario mentioned here can be solved by the below query using the As of Date feature of Temporal tables   \n",
    " </p>\n"
   ]
  },
  {
   "cell_type": "markdown",
   "id": "82ecf26e",
   "metadata": {},
   "source": [
    "<img src=\"images/TemporalTimePeriod.png\" style=\"width:600px;height:400px;\">\n",
    "\n"
   ]
  },
  {
   "cell_type": "code",
   "execution_count": null,
   "id": "278b3401",
   "metadata": {},
   "outputs": [],
   "source": [
    "VALIDTIME AS OF Date'2022-02-15'\n",
    "SELECT Policy_ID, Customer_ID, Policy_premium_Amt,Policy_Validity FROM TRNG_InsuranceClaims.Policy_Details\n",
    "where policy_state = 'IL'"
   ]
  },
  {
   "cell_type": "code",
   "execution_count": null,
   "id": "0e3a7d2a",
   "metadata": {},
   "outputs": [],
   "source": [
    "Select count(*) as \"no of Policies\" from (VALIDTIME AS OF Date'2022-02-15'\n",
    "SELECT Policy_ID, Customer_ID, Policy_premium_Amt,Policy_Validity FROM TRNG_InsuranceClaims.Policy_Details \n",
    "    where policy_state = 'IL') as DerivTbl"
   ]
  },
  {
   "cell_type": "markdown",
   "id": "f89ee3f1",
   "metadata": {},
   "source": [
    "<p style = 'font-size:16px;font-family:Arial'>Consider scenario where we need to check that for a particular period(here for year 2021) how many policies are valid for each auto make type and then compare the no of policies which are valid in the current period. This helps us in the comparision in the increase or decrease of policies for the current year as compared to the past year of validity\n",
    " </p>\n"
   ]
  },
  {
   "cell_type": "code",
   "execution_count": null,
   "id": "dc7a2394-35e6-4679-acf9-9e9d883fa1e4",
   "metadata": {},
   "outputs": [],
   "source": [
    "Select auto_make,count(*) as \"no of Policies\" from (VALIDTIME Period (date'2021-01-01',date'2021-12-31')\n",
    "SELECT Policy_ID, Customer_ID, Policy_premium_Amt,auto_make FROM TRNG_InsuranceClaims.Policy_Details ) as DerivTbl \n",
    "group by 1;"
   ]
  },
  {
   "cell_type": "code",
   "execution_count": null,
   "id": "74bb6c4d",
   "metadata": {
    "scrolled": true
   },
   "outputs": [],
   "source": [
    "%chart x=auto_make, y=\"no of Policies\", title= Valid Number of Policies last year "
   ]
  },
  {
   "cell_type": "markdown",
   "id": "f6a9c581",
   "metadata": {},
   "source": [
    "<p style = 'font-size:16px;font-family:Arial'>Now we check how many policies are still valid for each type using the current functionality\n",
    " </p>\n"
   ]
  },
  {
   "cell_type": "code",
   "execution_count": null,
   "id": "c41f0521",
   "metadata": {},
   "outputs": [],
   "source": [
    "Select auto_make,count(*) as \"no of Policies\" from (current VALIDTIME \n",
    "SELECT Policy_ID, Customer_ID, Policy_premium_Amt,auto_make FROM TRNG_InsuranceClaims.Policy_Details ) as DerivTbl\n",
    "group by 1;"
   ]
  },
  {
   "cell_type": "code",
   "execution_count": null,
   "id": "6ea15877",
   "metadata": {
    "scrolled": true
   },
   "outputs": [],
   "source": [
    "%chart x=auto_make, y=\"no of Policies\", title= Current Valid Number of Policies  "
   ]
  },
  {
   "cell_type": "markdown",
   "id": "553a1791",
   "metadata": {},
   "source": [
    "<p style = 'font-size:16px;font-family:Arial'>In this scenario we are considering that there are a number of claims raised against policies on various incident dates. Below queries help to identify which claims made are in the validity period and which are not and which policies are valid at the time of the incidents.There are total 69 claims in the Insurance Claims tables and based on the incident date we can verify which claims are valid and which are not valid.\n",
    " </p>\n"
   ]
  },
  {
   "cell_type": "code",
   "execution_count": null,
   "id": "1740309f",
   "metadata": {},
   "outputs": [],
   "source": [
    "SELECT * from TRNG_InsuranceClaims.Insurance_Claims_Details;\n"
   ]
  },
  {
   "cell_type": "markdown",
   "id": "e1401557",
   "metadata": {},
   "source": [
    "<p style = 'font-size:16px;font-family:Arial'>Based on the Claims made , we need to validate which claims are valid on the incident date mentioned. Below query helps in the analysis. Only the rows that qualify for the claims are displayed.\n",
    " </p>\n"
   ]
  },
  {
   "cell_type": "code",
   "execution_count": null,
   "id": "8faa8894",
   "metadata": {},
   "outputs": [],
   "source": [
    "SELECT  'Valid Claims' as ClaimType , Policy.customer_id,Policy.Policy_id, Insurance_Claims_Details.Claim_Id, Claim_amount\n",
    "FROM (current VALIDTIME SELECT Policy_Details.* FROM TRNG_InsuranceClaims.Policy_Details )Policy\n",
    "INNER JOIN TRNG_InsuranceClaims.Insurance_Claims_Details ON Policy.Policy_id = Insurance_Claims_Details.Policy_id\n",
    "WHERE Policy.Policy_Validity CONTAINS Insurance_Claims_Details.Incident_date\n",
    ";\n"
   ]
  },
  {
   "cell_type": "markdown",
   "id": "b834d7ae",
   "metadata": {},
   "source": [
    "<p style = 'font-size:16px;font-family:Arial'>Below query displays the Invalid rows from Claims table\n",
    " </p>\n"
   ]
  },
  {
   "cell_type": "code",
   "execution_count": null,
   "id": "53bebbde",
   "metadata": {},
   "outputs": [],
   "source": [
    "SELECT customer_id,Policy.Policy_id, Claim_Id, Claim_amount\n",
    "from TRNG_InsuranceClaims.Insurance_Claims_Details INNER JOIN TRNG_InsuranceClaims.Policy_Details Policy\n",
    "ON Policy.Policy_id = Insurance_Claims_Details.Policy_id\n",
    "MINUS\n",
    "SELECT Policy.customer_id,Policy.Policy_id, Insurance_Claims_Details.Claim_Id, Claim_amount\n",
    "FROM (current VALIDTIME SELECT Policy_Details.* FROM TRNG_InsuranceClaims.Policy_Details )Policy\n",
    "INNER JOIN TRNG_InsuranceClaims.Insurance_Claims_Details ON Policy.Policy_id = Insurance_Claims_Details.Policy_id\n",
    "WHERE Policy.Policy_Validity CONTAINS Insurance_Claims_Details.Incident_date;\n"
   ]
  },
  {
   "cell_type": "markdown",
   "id": "941148d3",
   "metadata": {},
   "source": [
    "<p style = 'font-size:20px;font-family:Arial;color:#E37C4D'> <b>Explaining the Temporal Concepts of Inserts /Deletes </b></p> "
   ]
  },
  {
   "cell_type": "markdown",
   "id": "4aa9781d",
   "metadata": {},
   "source": [
    "<p style = 'font-size:16px;font-family:Arial'>Customer 1 has policy 1 with Validity Period . In between the validity period the customer decides to change some factors which causes the premium to increase , so there will be a new addition which will insert a new row having validity period from changed date to the end of period. </p>\n",
    "    \n",
    "    \n",
    "    \n",
    "<p style = 'font-size:16px;font-family:Arial'>Customer 2 has Policy 1 with validity period. In between the company decides to increase the premium which also increases the validity period.\n",
    " </p>\n"
   ]
  },
  {
   "cell_type": "markdown",
   "id": "a23e55f9",
   "metadata": {},
   "source": [
    "<img src=\"images/Temporal_Inserts_Updates.png\" style=\"width:600px;height:400px;\">\n",
    "\n"
   ]
  },
  {
   "cell_type": "markdown",
   "id": "2e7ad022",
   "metadata": {},
   "source": [
    "<p style = 'font-size:18px;font-family:Arial'>Inserting data into temporal table is simple for current validtime. </p>"
   ]
  },
  {
   "cell_type": "code",
   "execution_count": null,
   "id": "8ac18d39",
   "metadata": {},
   "outputs": [],
   "source": [
    "current validtime Insert TRNG_InsuranceClaims_DB.TRNG_InsuranceClaims_Policy_Det \n",
    "values (203914, 2316038,'OH'  ,1200,'Audi','A3');"
   ]
  },
  {
   "cell_type": "markdown",
   "id": "84aa1296",
   "metadata": {},
   "source": [
    "<p style = 'font-size:18px;font-family:Arial'>Inserting history rows will need Temporal Qualifier. </p>"
   ]
  },
  {
   "cell_type": "code",
   "execution_count": null,
   "id": "490a4845",
   "metadata": {},
   "outputs": [],
   "source": [
    "sequenced validtime Insert TRNG_InsuranceClaims_DB.TRNG_InsuranceClaims_Policy_Det \n",
    "values (203914, 2316038,'OH'  ,1050,'Audi','A3' ,PERIOD(date'2002-06-10', date'2012-06-09'));\n",
    "sequenced validtime Insert TRNG_InsuranceClaims_DB.TRNG_InsuranceClaims_Policy_Det \n",
    "values (203914, 2316038,'OH'  ,1150,'Audi','A3' ,PERIOD(date'2012-06-10', date'2022-06-27'));\n"
   ]
  },
  {
   "cell_type": "code",
   "execution_count": null,
   "id": "f9ec6562",
   "metadata": {},
   "outputs": [],
   "source": [
    "sequenced validtime select * from TRNG_InsuranceClaims.Policy_Details where customer_id = 2316038 order by validtime;"
   ]
  },
  {
   "cell_type": "markdown",
   "id": "65306e68",
   "metadata": {},
   "source": [
    "<p style = 'font-size:16px;font-family:Arial'>Without Temporal Qualifier the select will display only current row. </p>"
   ]
  },
  {
   "cell_type": "code",
   "execution_count": null,
   "id": "cdcded1b",
   "metadata": {},
   "outputs": [],
   "source": [
    "----SET SESSION CURRENT VALIDTIME;\n",
    " "
   ]
  },
  {
   "cell_type": "code",
   "execution_count": null,
   "id": "f500e4d3",
   "metadata": {},
   "outputs": [],
   "source": [
    "select * from TRNG_InsuranceClaims.Policy_Details where customer_id = 2316038 order by Policy_validity;"
   ]
  },
  {
   "cell_type": "markdown",
   "id": "ddd1d8eb",
   "metadata": {},
   "source": [
    "<p style = 'font-size:16px;font-family:Arial'>When period is specified , Delete will only delete rows for that specific period (highlighted row in the above dataset) and the validity period for rows will change to the end of period specified in the delete. </p> "
   ]
  },
  {
   "cell_type": "markdown",
   "id": "a314c9ac",
   "metadata": {},
   "source": [
    "<p style = 'font-size:16px;font-family:Arial'>Display rows for Specific Valid Period.</p>"
   ]
  },
  {
   "cell_type": "code",
   "execution_count": null,
   "id": "fc6bfdaa",
   "metadata": {},
   "outputs": [],
   "source": [
    "SEQUENCED VALIDTIME PERIOD '(1990-01-01, 1990-03-31)' SELECT * \n",
    "FROM TRNG_InsuranceClaims.Policy_details where policy_state = 'IN' order by validtime;\n"
   ]
  },
  {
   "cell_type": "markdown",
   "id": "f4db8cf2",
   "metadata": {},
   "source": [
    "<p style = 'font-size:16px;font-family:Arial'>Delete rows for Specific Valid Period will change the validity period to the end date specified in delete. </p>"
   ]
  },
  {
   "cell_type": "code",
   "execution_count": null,
   "id": "913e20fd",
   "metadata": {},
   "outputs": [],
   "source": [
    "SEQUENCED VALIDTIME PERIOD '(1990-01-01, 1990-01-30)' DELETE\n",
    "FROM TRNG_InsuranceClaims_DB.TRNG_InsuranceClaims_Policy_Det where policy_state = 'IN';\n"
   ]
  },
  {
   "cell_type": "code",
   "execution_count": null,
   "id": "f3fa8957",
   "metadata": {},
   "outputs": [],
   "source": [
    "SEQUENCED VALIDTIME PERIOD '(1990-01-01, 1990-03-31)' SELECT * \n",
    "FROM TRNG_InsuranceClaims_DB.TRNG_InsuranceClaims_Policy_Det where policy_state = 'IN' order by validtime;"
   ]
  },
  {
   "cell_type": "markdown",
   "id": "35607b87",
   "metadata": {},
   "source": [
    "<p style = 'font-size:18px;font-family:Arial'> <b>Usage of Bi Temporal Table with ValidTime and TransactionTime Columns.</b> </p>"
   ]
  },
  {
   "cell_type": "markdown",
   "id": "8baae509",
   "metadata": {},
   "source": [
    "<p style = 'font-size:16px;font-family:Arial'>Select data for a particular range of data temporal features need to be added to the select. </b>"
   ]
  },
  {
   "cell_type": "code",
   "execution_count": null,
   "id": "3389ded2-ff76-4bfe-88d6-dfc176334584",
   "metadata": {},
   "outputs": [],
   "source": [
    "sequenced validtime and transactiontime as of current_timestamp\n",
    "sel * from TRNG_InsuranceClaims.Policy_Bitemp"
   ]
  },
  {
   "cell_type": "markdown",
   "id": "f87e764f-8b7c-4e17-b150-8deb30e389e3",
   "metadata": {},
   "source": [
    "<p style = 'font-size:16px;font-family:Arial'>Updating the Policy amount will also change the transaction time for the policies. </b>"
   ]
  },
  {
   "cell_type": "code",
   "execution_count": null,
   "id": "e2b5ef9e",
   "metadata": {},
   "outputs": [],
   "source": [
    "UPDATE TRNG_InsuranceClaims_DB.TRNG_InsuranceClaims_Policy_Bitemp\n",
    "SET Policy_premium_Amt = Policy_premium_Amt + 10\n",
    "WHERE policy_id in (\n",
    "361834\n",
    ",602704\n",
    ",208303\n",
    ",524215)\n"
   ]
  },
  {
   "cell_type": "code",
   "execution_count": null,
   "id": "c3e4ae16",
   "metadata": {},
   "outputs": [],
   "source": [
    "sequenced validtime and current transactiontime\n",
    "sel * from TRNG_InsuranceClaims.Policy_Bitemp"
   ]
  },
  {
   "cell_type": "markdown",
   "id": "ffd32d6f",
   "metadata": {},
   "source": [
    "<p style = 'font-size:16px;font-family:Arial'>Consider the scenario when the validity changes a week later than the actual date which causes changes in the current validity </p>"
   ]
  },
  {
   "cell_type": "code",
   "execution_count": null,
   "id": "ef1fb515",
   "metadata": {},
   "outputs": [],
   "source": [
    "Current Validtime\n",
    "UPDATE TRNG_InsuranceClaims_DB.TRNG_InsuranceClaims_Policy_Bitemp\n",
    "SET Policy_premium_Amt =  Policy_premium_Amt\n",
    "WHERE policy_id in (686821\n",
    ")\n"
   ]
  },
  {
   "cell_type": "code",
   "execution_count": null,
   "id": "db3155af",
   "metadata": {},
   "outputs": [],
   "source": [
    "sequenced validtime and current transactiontime\n",
    "sel * from TRNG_InsuranceClaims.Policy_Bitemp"
   ]
  },
  {
   "cell_type": "markdown",
   "id": "3b062822-3093-4838-8697-fe9a6a6112c0",
   "metadata": {},
   "source": [
    "<p style = 'font-size:20px;font-family:Arial;color:#E37C4D'> <b>CleanUp </b></p>"
   ]
  },
  {
   "cell_type": "code",
   "execution_count": null,
   "id": "759bfdf9-7f7a-4645-9ab8-9814854c53e9",
   "metadata": {},
   "outputs": [],
   "source": [
    "drop view TRNG_InsuranceClaims.Policy_Details_org;"
   ]
  },
  {
   "cell_type": "code",
   "execution_count": null,
   "id": "c10ce8dc-2b50-485d-a68b-615f8e037efc",
   "metadata": {},
   "outputs": [],
   "source": [
    "drop view TRNG_InsuranceClaims.Policy_Details;"
   ]
  },
  {
   "cell_type": "code",
   "execution_count": null,
   "id": "87ba66dc-ac04-49a2-b6e2-c32e4f20ccbd",
   "metadata": {},
   "outputs": [],
   "source": [
    "drop view TRNG_InsuranceClaims.Insurance_Claims_Details;"
   ]
  },
  {
   "cell_type": "code",
   "execution_count": null,
   "id": "043359a8-3fbf-498a-b77a-b6271adf69fc",
   "metadata": {},
   "outputs": [],
   "source": [
    "drop view TRNG_InsuranceClaims.Policy_Bitemp;"
   ]
  },
  {
   "cell_type": "code",
   "execution_count": null,
   "id": "6bb03548-c69f-4d49-b251-7be32108ed28",
   "metadata": {},
   "outputs": [],
   "source": [
    "drop table TRNG_InsuranceClaims_DB.TRNG_InsuranceClaims_Policy_Det;"
   ]
  },
  {
   "cell_type": "code",
   "execution_count": null,
   "id": "d198a369-3d67-4145-8d9a-bda844966383",
   "metadata": {},
   "outputs": [],
   "source": [
    "drop table TRNG_InsuranceClaims_DB.TRNG_InsuranceClaims_Details;"
   ]
  },
  {
   "cell_type": "code",
   "execution_count": null,
   "id": "aefa0be2-83b2-4080-8665-5a50cfcbd2c3",
   "metadata": {},
   "outputs": [],
   "source": [
    "drop table TRNG_InsuranceClaims_DB.TRNG_InsuranceClaims_Policy_Bitemp;"
   ]
  },
  {
   "cell_type": "code",
   "execution_count": null,
   "id": "fe294268-c2cf-4cc8-8c53-0428f3fffaaa",
   "metadata": {},
   "outputs": [],
   "source": [
    "drop table gs_tables_db.TRNG_InsuranceClaims_PolicyDet_org;"
   ]
  },
  {
   "cell_type": "code",
   "execution_count": null,
   "id": "acd6ad0e-7603-4d76-a0dc-d822e299f9f2",
   "metadata": {},
   "outputs": [],
   "source": [
    "drop database TRNG_InsuranceClaims;"
   ]
  },
  {
   "cell_type": "code",
   "execution_count": null,
   "id": "28f4a3d0-4504-4450-9461-9d5db6cb332f",
   "metadata": {},
   "outputs": [],
   "source": [
    "drop database TRNG_InsuranceClaims_DB;"
   ]
  },
  {
   "cell_type": "markdown",
   "id": "ea24ebfa-330d-4cd7-9c57-1689aa88523a",
   "metadata": {
    "tags": []
   },
   "source": [
    "</h4>\n",
    "<p style = 'font-size:20px;font-family:Arial;color:#E37C4D'><b>Reference Links:</b></p>\n",
    "<ul style = 'font-size:16px;font-family:Arial'>\n",
    "    <li>Information about Temporal datatype can be found at: <a href = 'https://docs.teradata.com/r/Teradata-VantageTM-Temporal-Table-Support/July-2021'>https://docs.teradata.com/r/Teradata-VantageTM-Temporal-Table-Support/July-2021</a></li>\n",
    "</ul>"
   ]
  },
  {
   "cell_type": "markdown",
   "id": "feaba294-aa49-4d8e-94f9-3e5ad291f287",
   "metadata": {},
   "source": [
    "\n",
    "\n",
    "<footer style=\"paddinga:10px;background:#f9f9f9;border-bottom:3px solid #394851\">Copyright © Teradata Corporation - 2023. All Rights Reserved.</footer>"
   ]
  }
 ],
 "metadata": {
  "kernelspec": {
   "display_name": "Teradata SQL",
   "language": "Teradata SQL",
   "name": "teradatasql"
  },
  "language_info": {
   "codemirror_mode": "Teradata SQL",
   "file_extension": ".tdrs",
   "mimetype": "application/vnd.teradata.resultset",
   "name": "Teradata SQL",
   "nbconvert_exporter": "",
   "pygments_lexer": "",
   "version": "16.20"
  }
 },
 "nbformat": 4,
 "nbformat_minor": 5
}
