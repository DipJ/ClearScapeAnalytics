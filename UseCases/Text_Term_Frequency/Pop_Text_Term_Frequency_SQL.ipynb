{
 "cells": [
  {
   "cell_type": "markdown",
   "id": "cbb86ed0-ab87-4be9-ba6d-f8638e4c12cb",
   "metadata": {},
   "source": [
    "<header>\n",
    "   <p  style='font-size:36px;font-family:Arial; color:#F0F0F0; background-color: #00233c; padding-left: 20pt; padding-top: 20pt;padding-bottom: 10pt; padding-right: 20pt;'>\n",
    "       Text Term Frequency Analysis (SQL)\n",
    "  <br>\n",
    "       <img id=\"teradata-logo\" src=\"https://storage.googleapis.com/clearscape_analytics_demo_data/DEMO_Logo/teradata.svg\" alt=\"Teradata\" style=\"width: 125px; height: auto; margin-top: 20pt;\">\n",
    "    </p>\n",
    "</header>"
   ]
  },
  {
   "cell_type": "markdown",
   "id": "2856fe20-ab2b-4c2a-8356-1ffada0d0a53",
   "metadata": {},
   "source": [
    "<p style = 'font-size:20px;font-family:Arial;color:#00233C'><b>Introduction</b></p>\n",
    "<p style = 'font-size:16px;font-family:Arial;color:#00233C'>\n",
    "This demo will analyze the text in rows of the table to find the TF-IDF or Term Frequency-Inverse Document Frequency is an indicator of a term's importance in a specific document based on the entire corpus of documents. This is a demonstration of Vantage capabilities for functional demos e.g.\n",
    "    <li style = 'font-size:16px;font-family:Arial;color:#00233C'> NGramSplitter Function - tokenizes (splits) an input stream of text and outputs n multigrams (called n-grams) based on the specified Reset, Punctuation, and Delimiter syntax elements.</li>\n",
    "</p>\n",
    "<p style = 'font-size:16px;font-family:Arial;color:#00233C'> This notebook demonstrate how the function is used in SQL kernel, there is a similar notebook which shows the same features in Python kernel. </p>"
   ]
  },
  {
   "cell_type": "markdown",
   "id": "874836db-8227-4d7b-804a-ce61ad8fc922",
   "metadata": {},
   "source": [
    "<p style = 'font-size:18px;font-family:Arial;color:#00233C'><b>Steps</b></p>\n",
    "<p style = 'font-size:16px;font-family:Arial;color:#00233C'>\n",
    "    <li style = 'font-size:16px;font-family:Arial;color:#00233C'> Connect to Vantage and read the dataset. </li>\n",
    "    <li style = 'font-size:16px;font-family:Arial;color:#00233C'> Use NGramSplitter SQL to create a table of grams of n-size. </li>\n",
    "    <li style = 'font-size:16px;font-family:Arial;color:#00233C'> Express SQL to calculate TF-IDF and store the output in a table. </li>\n",
    "    <li style = 'font-size:16px;font-family:Arial;color:#00233C'> Basic visualization to show top 30 important terms. </li>\n",
    "</p>"
   ]
  },
  {
   "cell_type": "markdown",
   "id": "b6a96ec0-cea6-4e0c-93c6-3428cf1af998",
   "metadata": {
    "tags": []
   },
   "source": [
    "<hr style=\"height:2px;border:none;background-color:#00233C;\">\n",
    "<p style = 'font-size:20px;font-family:Arial;color:#00233C'><b>1. Connect to Vantage </b></p>"
   ]
  },
  {
   "cell_type": "markdown",
   "id": "e08813ce-b83f-4f35-87ce-1a557c8eeee2",
   "metadata": {
    "tags": []
   },
   "source": [
    "<p style = 'font-size:16px;font-family:Arial;color:#00233C'>You will be prompted to provide the password. Enter your password, press Enter, then use down arrow to go to next cell.</p>"
   ]
  },
  {
   "cell_type": "code",
   "execution_count": 1,
   "id": "changing-rocket",
   "metadata": {},
   "outputs": [
    {
     "name": "stdin",
     "output_type": "stream",
     "text": [
      "Password: ········\n"
     ]
    },
    {
     "name": "stdout",
     "output_type": "stream",
     "text": [
      "Success: 'local' connection established and activated for user 'demo_user', with default database 'demo_user'\n"
     ]
    }
   ],
   "source": [
    "%connect local, hidewarnings=true"
   ]
  },
  {
   "cell_type": "markdown",
   "id": "a3c76e60-3c21-4171-a845-b2063325997d",
   "metadata": {},
   "source": [
    "<p style = 'font-size:16px;font-family:Arial;color:#00233C'>Setup for execution of notebook. Begin running steps with Shift + Enter keys.</p>"
   ]
  },
  {
   "cell_type": "code",
   "execution_count": 2,
   "id": "a2e5d196-75ba-4dfe-a1d1-fb4971ce6905",
   "metadata": {},
   "outputs": [
    {
     "data": {
      "text/plain": [
       "Success: 1 rows affected"
      ]
     },
     "execution_count": 2,
     "metadata": {
      "application/vnd.teradata.resultset": ""
     },
     "output_type": "execute_result"
    }
   ],
   "source": [
    "SET query_band='DEMO=Text_Term_Frequency_SQL.ipynb;' UPDATE FOR SESSION;"
   ]
  },
  {
   "cell_type": "markdown",
   "id": "4cf17d91-fe2c-48e5-8e78-4f6601bac9c9",
   "metadata": {},
   "source": [
    "<p style = 'font-size:18px;font-family:Arial;color:#00233C'> <b>Getting Data for This Demo</b></p>\n",
    "<p style = 'font-size:16px;font-family:Arial;color:#00233C'>We have provided data for this demo on cloud storage. In this demo since we are using Temporal table we will be creating databases and tables in local storage and use them in the notebook. Please execute the procedure in the next cell.</p>\n"
   ]
  },
  {
   "cell_type": "code",
   "execution_count": 3,
   "id": "bcb2442d-0b5d-49ea-a2eb-9b27c9b27d54",
   "metadata": {},
   "outputs": [
    {
     "data": {
      "text/plain": [
       "Success: 0 rows affected"
      ]
     },
     "execution_count": 3,
     "metadata": {
      "application/vnd.teradata.resultset": ""
     },
     "output_type": "execute_result"
    },
    {
     "data": {
      "text/plain": [
       "Success: 0 rows affected"
      ]
     },
     "execution_count": 3,
     "metadata": {
      "application/vnd.teradata.resultset": ""
     },
     "output_type": "execute_result"
    },
    {
     "data": {
      "application/vnd.teradata.resultset": "\"Message\"\n\"That ran for   0:00:19.62 with 9 statements and 0 errors. \"",
      "text/html": [
       "<div class = \"td-resultset-table-div\" style = \"max-height: 100%; overflow-y: auto\">\n",
       "      <table class=\"tdhistory322268\"><style>\n",
       "      table.tdhistory322268 { display: block !important; min-height: 105px !important; overflow: auto !important; height: 105px !important; width: 100% !important; border: 1px solid rgb(207, 207, 207) !important; border-collapse: collapse !important; ; color: var(--jp-ui-font-color1) !important; }\n",
       "      th.tdhistory322268 { border: 1px solid rgb(198,198,198) !important; border-collapse: collapse !important; ; padding: 2px 5px !important; ; font-size: 13px !important; ; text-align: center !important; white-space: normal !important; color: var(--jp-ui-font-color1) !important; }\n",
       "      th.tdhistory322268:last-child { text-align: left !important; }\n",
       "      tbody.tdhistory322268 tr:nth-child(even) { background: rgba(243, 243, 243, 0.75) !important; }\n",
       "      tbody.tdhistory322268 tr:nth-child(odd) { background: var(--jp-ui-inverse-font-color1) !important; }\n",
       "      td.tdhistory322268 { border: 1px solid rgb(207, 207, 207) !important; border-collapse: collapse !important; ; padding: 2px 5px !important; ; font-size: 13px !important; ; text-align: left !important;          white-space: nowrap !important; overflow:hidden !important; text-overflow:ellipsis !important;; }\n",
       "    </style><thead><tr style= \"background: rgba(243, 243, 243, 0.75)\"><th class=\"tdhistory322268\"></th><th class=\"tdhistory322268\">Message</th></tr></thead><tbody class=\"tdhistory322268 resultset-body\"><tr><th class=\"tdhistory322268\" style= \"background: rgba(243, 243, 243, 0.75)\">1</th><td class=\"tdhistory322268\">That ran for   0:00:19.62 with 9 statements and 0 errors. </td></tr></tbody></table></div>"
      ]
     },
     "execution_count": 3,
     "metadata": {
      "application/vnd.teradata.resultset": "{\"resultSetID\":\"/home/jovyan/JupyterLabRoot/Teradata/Resultsets/2023.12.21_10.17.21.429_UTC\",\"historyID\":386,\"chunkID\":\"00001\",\"sessionid\":\"\",\"portnum\":\"\",\"dockermode\":\"docker\",\"totalRowCount\":1,\"chunkCount\":0,\"rowLimit\":0,\"columnMetadata\":[{\"columnName\":\"Message\",\"columnTypeName\":\"VARCHAR\",\"length\":150,\"scale\":150}]}"
     },
     "output_type": "execute_result"
    }
   ],
   "source": [
    "CALL get_data('DEMO_Retail_cloud');    -- takes about 25 seconds, estimated space: 0 MB\n",
    "--CALL get_data('DEMO_Retail_local');     -- takes about 50 seconds, estimated space: 23 MB"
   ]
  },
  {
   "cell_type": "markdown",
   "id": "7fcd0260-28e9-47d3-bf46-2d32d54753de",
   "metadata": {},
   "source": [
    "<p style = 'font-size:16px;font-family:Arial;color:#00233C'>Optional step – if you want to see status of databases/tables created and space used.</p>\n"
   ]
  },
  {
   "cell_type": "code",
   "execution_count": 4,
   "id": "1a9eb706-4ac5-4527-b853-4b3d4677f010",
   "metadata": {},
   "outputs": [
    {
     "data": {
      "text/plain": [
       "Success: 0 rows affected"
      ]
     },
     "execution_count": 4,
     "metadata": {
      "application/vnd.teradata.resultset": ""
     },
     "output_type": "execute_result"
    },
    {
     "data": {
      "text/plain": [
       "Success: 0 rows affected"
      ]
     },
     "execution_count": 4,
     "metadata": {
      "application/vnd.teradata.resultset": ""
     },
     "output_type": "execute_result"
    },
    {
     "data": {
      "application/vnd.teradata.resultset": "\"Space_Report\"\n\"You have:  #databases=1 #tables=1 #views=12  You have used 1.5 MB of 27,890.4 MB available - 0.0%  ... Space Usage OK\"\n\" \"\n\"   Database Name                  #tables  #views     Avail MB      Used MB\"\n\"   demo_user                            1       9  27,890.4 MB       1.5 MB \"\n\"   DEMO_Retail                          0       3       0.0 MB       0.0 MB \"",
      "text/html": [
       "<div class = \"td-resultset-table-div\" style = \"max-height: 100%; overflow-y: auto\">\n",
       "      <table class=\"tdhistory114965\"><style>\n",
       "      table.tdhistory114965 { display: block !important; min-height: 189px !important; overflow: auto !important; height: 189px !important; width: 100% !important; border: 1px solid rgb(207, 207, 207) !important; border-collapse: collapse !important; ; color: var(--jp-ui-font-color1) !important; }\n",
       "      th.tdhistory114965 { border: 1px solid rgb(198,198,198) !important; border-collapse: collapse !important; ; padding: 2px 5px !important; ; font-size: 13px !important; ; text-align: center !important; white-space: normal !important; color: var(--jp-ui-font-color1) !important; }\n",
       "      th.tdhistory114965:last-child { text-align: left !important; }\n",
       "      tbody.tdhistory114965 tr:nth-child(even) { background: rgba(243, 243, 243, 0.75) !important; }\n",
       "      tbody.tdhistory114965 tr:nth-child(odd) { background: var(--jp-ui-inverse-font-color1) !important; }\n",
       "      td.tdhistory114965 { border: 1px solid rgb(207, 207, 207) !important; border-collapse: collapse !important; ; padding: 2px 5px !important; ; font-size: 13px !important; ; text-align: left !important;          white-space: nowrap !important; overflow:hidden !important; text-overflow:ellipsis !important;; }\n",
       "    </style><thead><tr style= \"background: rgba(243, 243, 243, 0.75)\"><th class=\"tdhistory114965\"></th><th class=\"tdhistory114965\">Space_Report</th></tr></thead><tbody class=\"tdhistory114965 resultset-body\"><tr><th class=\"tdhistory114965\" style= \"background: rgba(243, 243, 243, 0.75)\">1</th><td class=\"tdhistory114965\">You have:  #databases=1 #tables=1 #views=12  You have used 1.5 MB of 27,890.4 MB available - 0.0%  ... Space Usage OK</td></tr><tr><th class=\"tdhistory114965\" style= \"background: rgba(243, 243, 243, 0.75)\">2</th><td class=\"tdhistory114965\"> </td></tr><tr><th class=\"tdhistory114965\" style= \"background: rgba(243, 243, 243, 0.75)\">3</th><td class=\"tdhistory114965\">   Database Name                  #tables  #views     Avail MB      Used MB</td></tr><tr><th class=\"tdhistory114965\" style= \"background: rgba(243, 243, 243, 0.75)\">4</th><td class=\"tdhistory114965\">   demo_user                            1       9  27,890.4 MB       1.5 MB </td></tr><tr><th class=\"tdhistory114965\" style= \"background: rgba(243, 243, 243, 0.75)\">5</th><td class=\"tdhistory114965\">   DEMO_Retail                          0       3       0.0 MB       0.0 MB </td></tr></tbody></table></div>"
      ]
     },
     "execution_count": 4,
     "metadata": {
      "application/vnd.teradata.resultset": "{\"resultSetID\":\"/home/jovyan/JupyterLabRoot/Teradata/Resultsets/2023.12.21_10.17.23.380_UTC\",\"historyID\":387,\"chunkID\":\"00001\",\"sessionid\":\"\",\"portnum\":\"\",\"dockermode\":\"docker\",\"totalRowCount\":5,\"chunkCount\":0,\"rowLimit\":0,\"columnMetadata\":[{\"columnName\":\"Space_Report\",\"columnTypeName\":\"VARCHAR\",\"length\":150,\"scale\":150}]}"
     },
     "output_type": "execute_result"
    }
   ],
   "source": [
    "CALL space_report();  -- optional, takes about 10 seconds"
   ]
  },
  {
   "cell_type": "markdown",
   "id": "diagnostic-allen",
   "metadata": {},
   "source": [
    "<p style = 'font-size:18px;font-family:Arial;color:#00233C'> <b> Access data in Vantage  </b> </p>\n",
    "<p style = 'font-size:16px;font-family:Arial;color:#00233C'>Let us check the data sample</p>"
   ]
  },
  {
   "cell_type": "code",
   "execution_count": 5,
   "id": "initial-accountability",
   "metadata": {},
   "outputs": [
    {
     "data": {
      "application/vnd.teradata.resultset": "\"comment_id\",\"customer_id\",\"comment_text\",\"comment_summary\"\n\"1672\",\"1059\",\"Can't go wrong with these new charlie's by cartonnier. they fit amazingly. the fabric is a textured cotton but doesn't seem to wrinkle. just shook them out of the bag yesterday. the fabric description says cotton and spandex so they have some give (just a little) but are not going to stretch out after wearing for an hour. paired it with all sorts of different tops. side zip is slimming. lined pockets. substantial fabric. nothing bad to say. if you haven't tried a pair of charlies you should. you\",\"Another winner\"\n\"9992\",\"1110\",\"So cute! i get tons of compliments whenever i wear it. very comfortable. i ordered a petite l and it's a little big. i usually buy the petite m, but due to the under slip i wasn't sure.\",\"\"\n\"7443\",\"941\",\"I ordered my usual sz s during the promo. arrived yesterday & the fit is perfect w/ a little room to spare for layering. it's a snap front closure, front patch pockets, & attached hood that is small to med size-not huge or overwhelming. it's 100% acrylic which isn't my 1st choice, but soft, comfy & seems good quality. length falls abt 3\"\" below my knees. arm length is fine. pretty much looks as in the pic including the marled color. if you are in need of a great functional long swtr w/ good looks\",\"A great long swtr w/ patch pockets!\"\n\"12072\",\"1033\",\"\",\"\"\n\"12337\",\"868\",\"I love the neckline on this - sharp enough for work, but cute for a fun night out too. only complaint is it's soooo flowy on the bottom. i could hide a baby under here for sure. i got the medium thank goodness or it would have been ridiculous. i'm 5'8, 160lbs. great for fall.\",\"Loose and comfy\"",
      "text/html": [
       "<div class = \"td-resultset-table-div\" style = \"max-height: 100%; overflow-y: auto\">\n",
       "      <table class=\"tdhistory929075\"><style>\n",
       "      table.tdhistory929075 { display: block !important; min-height: 189px !important; overflow: auto !important; height: 189px !important; width: 100% !important; border: 1px solid rgb(207, 207, 207) !important; border-collapse: collapse !important; ; color: var(--jp-ui-font-color1) !important; }\n",
       "      th.tdhistory929075 { border: 1px solid rgb(198,198,198) !important; border-collapse: collapse !important; ; padding: 2px 5px !important; ; font-size: 13px !important; ; text-align: center !important; white-space: normal !important; color: var(--jp-ui-font-color1) !important; }\n",
       "      th.tdhistory929075:last-child { text-align: left !important; }\n",
       "      tbody.tdhistory929075 tr:nth-child(even) { background: rgba(243, 243, 243, 0.75) !important; }\n",
       "      tbody.tdhistory929075 tr:nth-child(odd) { background: var(--jp-ui-inverse-font-color1) !important; }\n",
       "      td.tdhistory929075 { border: 1px solid rgb(207, 207, 207) !important; border-collapse: collapse !important; ; padding: 2px 5px !important; ; font-size: 13px !important; ; text-align: left !important;          white-space: nowrap !important; overflow:hidden !important; text-overflow:ellipsis !important;; }\n",
       "    </style><thead><tr style= \"background: rgba(243, 243, 243, 0.75)\"><th class=\"tdhistory929075\"></th><th class=\"tdhistory929075\">comment_id</th><th class=\"tdhistory929075\">customer_id</th><th class=\"tdhistory929075\">comment_text</th><th class=\"tdhistory929075\">comment_summary</th></tr></thead><tbody class=\"tdhistory929075 resultset-body\"><tr><th class=\"tdhistory929075\" style= \"background: rgba(243, 243, 243, 0.75)\">1</th><td class=\"tdhistory929075\">1672</td><td class=\"tdhistory929075\">1059</td><td class=\"tdhistory929075\">Can't go wrong with these new charlie's by cartonnier. they fit amazingly. the fabric is a textured cotton but doesn't seem to wrinkle. just shook them out of the bag yesterday. the fabric description says cotton and spandex so they have some give (just a little) but are not going to stretch out after wearing for an hour. paired it with all sorts of different tops. side zip is slimming. lined pockets. substantial fabric. nothing bad to say. if you haven't tried a pair of charlies you should. you</td><td class=\"tdhistory929075\">Another winner</td></tr><tr><th class=\"tdhistory929075\" style= \"background: rgba(243, 243, 243, 0.75)\">2</th><td class=\"tdhistory929075\">9992</td><td class=\"tdhistory929075\">1110</td><td class=\"tdhistory929075\">So cute! i get tons of compliments whenever i wear it. very comfortable. i ordered a petite l and it's a little big. i usually buy the petite m, but due to the under slip i wasn't sure.</td><td class=\"tdhistory929075\"></td></tr><tr><th class=\"tdhistory929075\" style= \"background: rgba(243, 243, 243, 0.75)\">3</th><td class=\"tdhistory929075\">7443</td><td class=\"tdhistory929075\">941</td><td class=\"tdhistory929075\">I ordered my usual sz s during the promo. arrived yesterday & the fit is perfect w/ a little room to spare for layering. it's a snap front closure, front patch pockets, & attached hood that is small to med size-not huge or overwhelming. it's 100% acrylic which isn't my 1st choice, but soft, comfy & seems good quality. length falls abt 3\" below my knees. arm length is fine. pretty much looks as in the pic including the marled color. if you are in need of a great functional long swtr w/ good looks</td><td class=\"tdhistory929075\">A great long swtr w/ patch pockets!</td></tr><tr><th class=\"tdhistory929075\" style= \"background: rgba(243, 243, 243, 0.75)\">4</th><td class=\"tdhistory929075\">12072</td><td class=\"tdhistory929075\">1033</td><td class=\"tdhistory929075\"></td><td class=\"tdhistory929075\"></td></tr><tr><th class=\"tdhistory929075\" style= \"background: rgba(243, 243, 243, 0.75)\">5</th><td class=\"tdhistory929075\">12337</td><td class=\"tdhistory929075\">868</td><td class=\"tdhistory929075\">I love the neckline on this - sharp enough for work, but cute for a fun night out too. only complaint is it's soooo flowy on the bottom. i could hide a baby under here for sure. i got the medium thank goodness or it would have been ridiculous. i'm 5'8, 160lbs. great for fall.</td><td class=\"tdhistory929075\">Loose and comfy</td></tr></tbody></table></div>"
      ]
     },
     "execution_count": 5,
     "metadata": {
      "application/vnd.teradata.resultset": "{\"resultSetID\":\"/home/jovyan/JupyterLabRoot/Teradata/Resultsets/2023.12.21_10.17.25.514_UTC\",\"historyID\":388,\"chunkID\":\"00001\",\"sessionid\":\"\",\"portnum\":\"\",\"dockermode\":\"docker\",\"totalRowCount\":5,\"chunkCount\":0,\"rowLimit\":0,\"columnMetadata\":[{\"columnName\":\"comment_id\",\"columnTypeName\":\"DECIMAL\",\"precision\":18},{\"columnNumber\":1,\"columnName\":\"customer_id\",\"columnTypeName\":\"DECIMAL\",\"precision\":18},{\"columnNumber\":2,\"columnName\":\"comment_text\",\"columnTypeName\":\"CLOB\",\"length\":50000,\"scale\":50000},{\"columnNumber\":3,\"columnName\":\"comment_summary\",\"columnTypeName\":\"CLOB\",\"length\":50000,\"scale\":50000}]}"
     },
     "output_type": "execute_result"
    }
   ],
   "source": [
    "SELECT TOP 5 * FROM DEMO_Retail.Web_Comment;"
   ]
  },
  {
   "cell_type": "markdown",
   "id": "suffering-jewel",
   "metadata": {},
   "source": [
    "<hr style=\"height:2px;border:none;background-color:#00233C;\">\n",
    "<p style = 'font-size:20px;font-family:Arial;color:#00233C'><b>2. Use the NGram Splitter SQL Function</b></p>\n",
    "<p style = 'font-size:16px;font-family:Arial;color:#00233C'>NGram function will split the corpus of documents into \"terms\" (grams) of selected size.  Specifically, this example will create a table called \"tbl_grams\" that is the result of splitting each \"document\" (review) into two-word chunks (grams).  Each row in this table includes;\n",
    "<ol style = 'font-size:16px;font-family:Arial;color:#00233C'>\n",
    "    <li>The two-word chunk (ngram).</li>\n",
    "    <li>The source review id (row_id).</li>\n",
    "     <li>Chunk length (n).</li>\n",
    "     <li>The count of this chunk in the review (frequency).</li>\n",
    "     <li>The count of this chunk in all the reviews (totalcnt)</li>\n",
    "</ol>\n",
    "<p style = 'font-size:16px;font-family:Arial;color:#00233C'>\n",
    "The splitting algorithm can be controlled with delimeters, punctuation indicators, etc.</p>"
   ]
  },
  {
   "cell_type": "code",
   "execution_count": 6,
   "id": "private-equality",
   "metadata": {},
   "outputs": [],
   "source": [
    "%var ngram=2 "
   ]
  },
  {
   "cell_type": "code",
   "execution_count": 7,
   "id": "treated-skill",
   "metadata": {},
   "outputs": [
    {
     "data": {
      "text/plain": [
       "Success: 0 rows affected"
      ]
     },
     "execution_count": 7,
     "metadata": {
      "application/vnd.teradata.resultset": ""
     },
     "output_type": "execute_result"
    }
   ],
   "source": [
    "CREATE MULTISET TABLE tbl_grams AS (\n",
    "    SELECT * FROM NGramSplitter ( \n",
    "        ON ( SELECT * FROM \"DEMO_Retail\".\"Web_Comment\" )   \n",
    "        USING \n",
    "            TextColumn('comment_text') \n",
    "            Accumulate('comment_id') \n",
    "            Grams('${ngram}') \n",
    "            OverLapping('TRUE') \n",
    "            ConvertToLowerCase('TRUE') \n",
    "            Delimiter(' ') \n",
    "            Punctuation('[`~#^&*()-]') \n",
    "            OutputTotalGramCount('TRUE') \n",
    "            NGramColName('ngram') \n",
    "            GramLengthColName('n') \n",
    "            FrequencyColName('frequency') \n",
    "            TotalCountColName('totalcnt') \n",
    "    ) as ngram_out\n",
    "    )\n",
    "WITH DATA\n",
    "PRIMARY INDEX (comment_id);"
   ]
  },
  {
   "cell_type": "markdown",
   "id": "75ce662f-77de-4304-bede-88dec0bc0c6b",
   "metadata": {},
   "source": [
    "<p style = 'font-size:16px;font-family:Arial;color:#00233C'>Let us see how the comment in the table looks like and how its ngram looks. We have taken one comment.</p>"
   ]
  },
  {
   "cell_type": "code",
   "execution_count": 8,
   "id": "8b6d561a-680a-436f-a5dd-ad02c3dd378b",
   "metadata": {},
   "outputs": [
    {
     "data": {
      "application/vnd.teradata.resultset": "\"comment_id\",\"customer_id\",\"comment_text\",\"comment_summary\"\n\"30\",\"1060\",\"Beautifully made pants and on trend with the flared crop. so much cuter in person. love these!\",\"\"",
      "text/html": [
       "<div class = \"td-resultset-table-div\" style = \"max-height: 100%; overflow-y: auto\">\n",
       "      <table class=\"tdhistory890702\"><style>\n",
       "      table.tdhistory890702 { display: block !important; min-height: 105px !important; overflow: auto !important; height: 105px !important; width: 100% !important; border: 1px solid rgb(207, 207, 207) !important; border-collapse: collapse !important; ; color: var(--jp-ui-font-color1) !important; }\n",
       "      th.tdhistory890702 { border: 1px solid rgb(198,198,198) !important; border-collapse: collapse !important; ; padding: 2px 5px !important; ; font-size: 13px !important; ; text-align: center !important; white-space: normal !important; color: var(--jp-ui-font-color1) !important; }\n",
       "      th.tdhistory890702:last-child { text-align: left !important; }\n",
       "      tbody.tdhistory890702 tr:nth-child(even) { background: rgba(243, 243, 243, 0.75) !important; }\n",
       "      tbody.tdhistory890702 tr:nth-child(odd) { background: var(--jp-ui-inverse-font-color1) !important; }\n",
       "      td.tdhistory890702 { border: 1px solid rgb(207, 207, 207) !important; border-collapse: collapse !important; ; padding: 2px 5px !important; ; font-size: 13px !important; ; text-align: left !important;          white-space: nowrap !important; overflow:hidden !important; text-overflow:ellipsis !important;; }\n",
       "    </style><thead><tr style= \"background: rgba(243, 243, 243, 0.75)\"><th class=\"tdhistory890702\"></th><th class=\"tdhistory890702\">comment_id</th><th class=\"tdhistory890702\">customer_id</th><th class=\"tdhistory890702\">comment_text</th><th class=\"tdhistory890702\">comment_summary</th></tr></thead><tbody class=\"tdhistory890702 resultset-body\"><tr><th class=\"tdhistory890702\" style= \"background: rgba(243, 243, 243, 0.75)\">1</th><td class=\"tdhistory890702\">30</td><td class=\"tdhistory890702\">1060</td><td class=\"tdhistory890702\">Beautifully made pants and on trend with the flared crop. so much cuter in person. love these!</td><td class=\"tdhistory890702\"></td></tr></tbody></table></div>"
      ]
     },
     "execution_count": 8,
     "metadata": {
      "application/vnd.teradata.resultset": "{\"resultSetID\":\"/home/jovyan/JupyterLabRoot/Teradata/Resultsets/2023.12.21_10.17.39.601_UTC\",\"historyID\":390,\"chunkID\":\"00001\",\"sessionid\":\"\",\"portnum\":\"\",\"dockermode\":\"docker\",\"totalRowCount\":1,\"chunkCount\":0,\"rowLimit\":0,\"columnMetadata\":[{\"columnName\":\"comment_id\",\"columnTypeName\":\"DECIMAL\",\"precision\":18},{\"columnNumber\":1,\"columnName\":\"customer_id\",\"columnTypeName\":\"DECIMAL\",\"precision\":18},{\"columnNumber\":2,\"columnName\":\"comment_text\",\"columnTypeName\":\"CLOB\",\"length\":50000,\"scale\":50000},{\"columnNumber\":3,\"columnName\":\"comment_summary\",\"columnTypeName\":\"CLOB\",\"length\":50000,\"scale\":50000}]}"
     },
     "output_type": "execute_result"
    }
   ],
   "source": [
    "SELECT * FROM DEMO_Retail.Web_Comment WHERE comment_id = 30;"
   ]
  },
  {
   "cell_type": "code",
   "execution_count": 9,
   "id": "c7066268-573b-47ba-a092-6fd826a66539",
   "metadata": {},
   "outputs": [
    {
     "data": {
      "application/vnd.teradata.resultset": "\"comment_id\",\"ngram\",\"n\",\"frequency\",\"totalcnt\"\n\"30\",\"much cuter\",\"2\",\"1\",\"14\"\n\"30\",\"the flared\",\"2\",\"1\",\"14\"\n\"30\",\"flared crop\",\"2\",\"1\",\"14\"\n\"30\",\"made pants\",\"2\",\"1\",\"14\"\n\"30\",\"beautifully made\",\"2\",\"1\",\"14\"\n\"30\",\"love these\",\"2\",\"1\",\"14\"\n\"30\",\"with the\",\"2\",\"1\",\"14\"\n\"30\",\"pants and\",\"2\",\"1\",\"14\"\n\"30\",\"cuter in\",\"2\",\"1\",\"14\"\n\"30\",\"trend with\",\"2\",\"1\",\"14\"\n\"30\",\"in person\",\"2\",\"1\",\"14\"\n\"30\",\"on trend\",\"2\",\"1\",\"14\"\n\"30\",\"and on\",\"2\",\"1\",\"14\"\n\"30\",\"so much\",\"2\",\"1\",\"14\"",
      "text/html": [
       "<div class = \"td-resultset-table-div\" style = \"max-height: 100%; overflow-y: auto\">\n",
       "      <table class=\"tdhistory51640\"><style>\n",
       "      table.tdhistory51640 { display: block !important; min-height: 378px !important; overflow: auto !important; height: 378px !important; width: 100% !important; border: 1px solid rgb(207, 207, 207) !important; border-collapse: collapse !important; ; color: var(--jp-ui-font-color1) !important; }\n",
       "      th.tdhistory51640 { border: 1px solid rgb(198,198,198) !important; border-collapse: collapse !important; ; padding: 2px 5px !important; ; font-size: 13px !important; ; text-align: center !important; white-space: normal !important; color: var(--jp-ui-font-color1) !important; }\n",
       "      th.tdhistory51640:last-child { text-align: left !important; }\n",
       "      tbody.tdhistory51640 tr:nth-child(even) { background: rgba(243, 243, 243, 0.75) !important; }\n",
       "      tbody.tdhistory51640 tr:nth-child(odd) { background: var(--jp-ui-inverse-font-color1) !important; }\n",
       "      td.tdhistory51640 { border: 1px solid rgb(207, 207, 207) !important; border-collapse: collapse !important; ; padding: 2px 5px !important; ; font-size: 13px !important; ; text-align: left !important;          white-space: nowrap !important; overflow:hidden !important; text-overflow:ellipsis !important;; }\n",
       "    </style><thead><tr style= \"background: rgba(243, 243, 243, 0.75)\"><th class=\"tdhistory51640\"></th><th class=\"tdhistory51640\">comment_id</th><th class=\"tdhistory51640\">ngram</th><th class=\"tdhistory51640\">n</th><th class=\"tdhistory51640\">frequency</th><th class=\"tdhistory51640\">totalcnt</th></tr></thead><tbody class=\"tdhistory51640 resultset-body\"><tr><th class=\"tdhistory51640\" style= \"background: rgba(243, 243, 243, 0.75)\">1</th><td class=\"tdhistory51640\">30</td><td class=\"tdhistory51640\">much cuter</td><td class=\"tdhistory51640\">2</td><td class=\"tdhistory51640\">1</td><td class=\"tdhistory51640\">14</td></tr><tr><th class=\"tdhistory51640\" style= \"background: rgba(243, 243, 243, 0.75)\">2</th><td class=\"tdhistory51640\">30</td><td class=\"tdhistory51640\">the flared</td><td class=\"tdhistory51640\">2</td><td class=\"tdhistory51640\">1</td><td class=\"tdhistory51640\">14</td></tr><tr><th class=\"tdhistory51640\" style= \"background: rgba(243, 243, 243, 0.75)\">3</th><td class=\"tdhistory51640\">30</td><td class=\"tdhistory51640\">flared crop</td><td class=\"tdhistory51640\">2</td><td class=\"tdhistory51640\">1</td><td class=\"tdhistory51640\">14</td></tr><tr><th class=\"tdhistory51640\" style= \"background: rgba(243, 243, 243, 0.75)\">4</th><td class=\"tdhistory51640\">30</td><td class=\"tdhistory51640\">made pants</td><td class=\"tdhistory51640\">2</td><td class=\"tdhistory51640\">1</td><td class=\"tdhistory51640\">14</td></tr><tr><th class=\"tdhistory51640\" style= \"background: rgba(243, 243, 243, 0.75)\">5</th><td class=\"tdhistory51640\">30</td><td class=\"tdhistory51640\">beautifully made</td><td class=\"tdhistory51640\">2</td><td class=\"tdhistory51640\">1</td><td class=\"tdhistory51640\">14</td></tr><tr><th class=\"tdhistory51640\" style= \"background: rgba(243, 243, 243, 0.75)\">6</th><td class=\"tdhistory51640\">30</td><td class=\"tdhistory51640\">love these</td><td class=\"tdhistory51640\">2</td><td class=\"tdhistory51640\">1</td><td class=\"tdhistory51640\">14</td></tr><tr><th class=\"tdhistory51640\" style= \"background: rgba(243, 243, 243, 0.75)\">7</th><td class=\"tdhistory51640\">30</td><td class=\"tdhistory51640\">with the</td><td class=\"tdhistory51640\">2</td><td class=\"tdhistory51640\">1</td><td class=\"tdhistory51640\">14</td></tr><tr><th class=\"tdhistory51640\" style= \"background: rgba(243, 243, 243, 0.75)\">8</th><td class=\"tdhistory51640\">30</td><td class=\"tdhistory51640\">pants and</td><td class=\"tdhistory51640\">2</td><td class=\"tdhistory51640\">1</td><td class=\"tdhistory51640\">14</td></tr><tr><th class=\"tdhistory51640\" style= \"background: rgba(243, 243, 243, 0.75)\">9</th><td class=\"tdhistory51640\">30</td><td class=\"tdhistory51640\">cuter in</td><td class=\"tdhistory51640\">2</td><td class=\"tdhistory51640\">1</td><td class=\"tdhistory51640\">14</td></tr><tr><th class=\"tdhistory51640\" style= \"background: rgba(243, 243, 243, 0.75)\">10</th><td class=\"tdhistory51640\">30</td><td class=\"tdhistory51640\">trend with</td><td class=\"tdhistory51640\">2</td><td class=\"tdhistory51640\">1</td><td class=\"tdhistory51640\">14</td></tr><tr><th class=\"tdhistory51640\" style= \"background: rgba(243, 243, 243, 0.75)\">11</th><td class=\"tdhistory51640\">30</td><td class=\"tdhistory51640\">in person</td><td class=\"tdhistory51640\">2</td><td class=\"tdhistory51640\">1</td><td class=\"tdhistory51640\">14</td></tr><tr><th class=\"tdhistory51640\" style= \"background: rgba(243, 243, 243, 0.75)\">12</th><td class=\"tdhistory51640\">30</td><td class=\"tdhistory51640\">on trend</td><td class=\"tdhistory51640\">2</td><td class=\"tdhistory51640\">1</td><td class=\"tdhistory51640\">14</td></tr><tr><th class=\"tdhistory51640\" style= \"background: rgba(243, 243, 243, 0.75)\">13</th><td class=\"tdhistory51640\">30</td><td class=\"tdhistory51640\">and on</td><td class=\"tdhistory51640\">2</td><td class=\"tdhistory51640\">1</td><td class=\"tdhistory51640\">14</td></tr><tr><th class=\"tdhistory51640\" style= \"background: rgba(243, 243, 243, 0.75)\">14</th><td class=\"tdhistory51640\">30</td><td class=\"tdhistory51640\">so much</td><td class=\"tdhistory51640\">2</td><td class=\"tdhistory51640\">1</td><td class=\"tdhistory51640\">14</td></tr></tbody></table></div>"
      ]
     },
     "execution_count": 9,
     "metadata": {
      "application/vnd.teradata.resultset": "{\"resultSetID\":\"/home/jovyan/JupyterLabRoot/Teradata/Resultsets/2023.12.21_10.17.39.855_UTC\",\"historyID\":391,\"chunkID\":\"00001\",\"sessionid\":\"\",\"portnum\":\"\",\"dockermode\":\"docker\",\"totalRowCount\":14,\"chunkCount\":0,\"rowLimit\":0,\"columnMetadata\":[{\"columnName\":\"comment_id\",\"columnTypeName\":\"DECIMAL\",\"precision\":18},{\"columnNumber\":1,\"columnName\":\"ngram\",\"columnTypeName\":\"LONG VARCHAR\",\"length\":32000,\"scale\":32000},{\"columnNumber\":2,\"columnName\":\"n\",\"columnTypeName\":\"INTEGER\"},{\"columnNumber\":3,\"columnName\":\"frequency\",\"columnTypeName\":\"INTEGER\"},{\"columnNumber\":4,\"columnName\":\"totalcnt\",\"columnTypeName\":\"INTEGER\"}]}"
     },
     "output_type": "execute_result"
    }
   ],
   "source": [
    "SELECT * FROM tbl_grams WHERE comment_id = 30;"
   ]
  },
  {
   "cell_type": "markdown",
   "id": "2b2ad1ad-ff53-4c21-87e9-b466a9f97a55",
   "metadata": {},
   "source": [
    "<p style = 'font-size:16px;font-family:Arial;color:#00233C'>In the table created above we can see the NGram function applied to the web comment column. We can see the frequency and the total number of times the ngram appear in the column.</p>"
   ]
  },
  {
   "cell_type": "markdown",
   "id": "chronic-voluntary",
   "metadata": {},
   "source": [
    "<hr style=\"height:2px;border:none;background-color:#00233C;\">\n",
    "<p style = 'font-size:20px;font-family:Arial;color:#00233C'><b>3. Create the TF-IDF Table</b></p>\n",
    "<p style = 'font-size:16px;font-family:Arial;color:#00233C'><b>TF-IDF</b> or <b>Term Frequency-Inverse Document Frequency</b> is an indicator of a term's <b>importance</b> in a specific document based on the entire corpus of documents.  This value is calculated by taking the Product of:\n",
    "<ul style = 'font-size:16px;font-family:Arial;color:#00233C'>\n",
    "    <li>Term Frequency = (Number of Terms in the Document)/(Number of Terms in the Corpus)</li>\n",
    "    <li>Inverse Document Frequency = Natural Log((Total Number of Documents)/(Number of Documents with the Term))</li>\n",
    " </ul>   \n",
    "<p style = 'font-size:16px;font-family:Arial;color:#00233C'>\n",
    "This can be accomplished in SQL using the results table created using NGgram Splitter function in above step:</p>"
   ]
  },
  {
   "cell_type": "code",
   "execution_count": 10,
   "id": "martial-simple",
   "metadata": {},
   "outputs": [
    {
     "data": {
      "text/plain": [
       "Success: 0 rows affected"
      ]
     },
     "execution_count": 10,
     "metadata": {
      "application/vnd.teradata.resultset": ""
     },
     "output_type": "execute_result"
    }
   ],
   "source": [
    "CREATE MULTISET TABLE tbl_tf_idf AS (\n",
    "    SELECT gr.comment_id AS comment_id,\n",
    "        gr.\"ngram\" AS term,\n",
    "        CAST(CAST(gr.frequency AS FLOAT) / CAST(gr.totalcnt AS FLOAT) AS DECIMAL(10,6)) AS tf,\n",
    "        CAST(LN(sel_docs.tot_docs / sel_docs.tot_term) AS DECIMAL(10,6)) AS idf,\n",
    "        CAST(idf * tf AS DECIMAL(10,6)) AS tf_idf\n",
    "    FROM tbl_grams AS gr\n",
    "    -- get the number of docs where each term exists\n",
    "    LEFT JOIN (\n",
    "        SELECT \"ngram\", tot_term , tot_docs \n",
    "        FROM (\n",
    "            (SELECT \"ngram\",COUNT(*) AS tot_term\n",
    "            FROM tbl_grams\n",
    "            GROUP BY \"ngram\") terms\n",
    "            -- get the total doc count and join it to the table\n",
    "            CROSS JOIN (SELECT COUNT(DISTINCT comment_id) AS tot_docs\n",
    "            FROM tbl_grams ) AS sum_docs\n",
    "        )\n",
    "    ) sel_docs\n",
    "    ON gr.\"ngram\" = sel_docs.\"ngram\"\n",
    "    WHERE tf_idf > .5\n",
    ")\n",
    "WITH DATA\n",
    "PRIMARY INDEX (comment_id);"
   ]
  },
  {
   "cell_type": "code",
   "execution_count": 11,
   "id": "clean-duplicate",
   "metadata": {},
   "outputs": [
    {
     "data": {
      "application/vnd.teradata.resultset": "\"comment_id\",\"term\",\"tf\",\"idf\",\"tf_idf\"\n\"30\",\"trend with\",\".071429\",\"9.334326\",\".666742\"\n\"30\",\"flared crop\",\".071429\",\"10.027518\",\".716256\"\n\"30\",\"made pants\",\".071429\",\"9.334326\",\".666742\"\n\"30\",\"the flared\",\".071429\",\"7.724888\",\".551781\"",
      "text/html": [
       "<div class = \"td-resultset-table-div\" style = \"max-height: 100%; overflow-y: auto\">\n",
       "      <table class=\"tdhistory181303\"><style>\n",
       "      table.tdhistory181303 { display: block !important; min-height: 168px !important; overflow: auto !important; height: 168px !important; width: 100% !important; border: 1px solid rgb(207, 207, 207) !important; border-collapse: collapse !important; ; color: var(--jp-ui-font-color1) !important; }\n",
       "      th.tdhistory181303 { border: 1px solid rgb(198,198,198) !important; border-collapse: collapse !important; ; padding: 2px 5px !important; ; font-size: 13px !important; ; text-align: center !important; white-space: normal !important; color: var(--jp-ui-font-color1) !important; }\n",
       "      th.tdhistory181303:last-child { text-align: left !important; }\n",
       "      tbody.tdhistory181303 tr:nth-child(even) { background: rgba(243, 243, 243, 0.75) !important; }\n",
       "      tbody.tdhistory181303 tr:nth-child(odd) { background: var(--jp-ui-inverse-font-color1) !important; }\n",
       "      td.tdhistory181303 { border: 1px solid rgb(207, 207, 207) !important; border-collapse: collapse !important; ; padding: 2px 5px !important; ; font-size: 13px !important; ; text-align: left !important;          white-space: nowrap !important; overflow:hidden !important; text-overflow:ellipsis !important;; }\n",
       "    </style><thead><tr style= \"background: rgba(243, 243, 243, 0.75)\"><th class=\"tdhistory181303\"></th><th class=\"tdhistory181303\">comment_id</th><th class=\"tdhistory181303\">term</th><th class=\"tdhistory181303\">tf</th><th class=\"tdhistory181303\">idf</th><th class=\"tdhistory181303\">tf_idf</th></tr></thead><tbody class=\"tdhistory181303 resultset-body\"><tr><th class=\"tdhistory181303\" style= \"background: rgba(243, 243, 243, 0.75)\">1</th><td class=\"tdhistory181303\">30</td><td class=\"tdhistory181303\">trend with</td><td class=\"tdhistory181303\">.071429</td><td class=\"tdhistory181303\">9.334326</td><td class=\"tdhistory181303\">.666742</td></tr><tr><th class=\"tdhistory181303\" style= \"background: rgba(243, 243, 243, 0.75)\">2</th><td class=\"tdhistory181303\">30</td><td class=\"tdhistory181303\">flared crop</td><td class=\"tdhistory181303\">.071429</td><td class=\"tdhistory181303\">10.027518</td><td class=\"tdhistory181303\">.716256</td></tr><tr><th class=\"tdhistory181303\" style= \"background: rgba(243, 243, 243, 0.75)\">3</th><td class=\"tdhistory181303\">30</td><td class=\"tdhistory181303\">made pants</td><td class=\"tdhistory181303\">.071429</td><td class=\"tdhistory181303\">9.334326</td><td class=\"tdhistory181303\">.666742</td></tr><tr><th class=\"tdhistory181303\" style= \"background: rgba(243, 243, 243, 0.75)\">4</th><td class=\"tdhistory181303\">30</td><td class=\"tdhistory181303\">the flared</td><td class=\"tdhistory181303\">.071429</td><td class=\"tdhistory181303\">7.724888</td><td class=\"tdhistory181303\">.551781</td></tr></tbody></table></div>"
      ]
     },
     "execution_count": 11,
     "metadata": {
      "application/vnd.teradata.resultset": "{\"resultSetID\":\"/home/jovyan/JupyterLabRoot/Teradata/Resultsets/2023.12.21_10.18.11.992_UTC\",\"historyID\":393,\"chunkID\":\"00001\",\"sessionid\":\"\",\"portnum\":\"\",\"dockermode\":\"docker\",\"totalRowCount\":4,\"chunkCount\":0,\"rowLimit\":0,\"columnMetadata\":[{\"columnName\":\"comment_id\",\"columnTypeName\":\"DECIMAL\",\"precision\":18},{\"columnNumber\":1,\"columnName\":\"term\",\"columnTypeName\":\"LONG VARCHAR\",\"length\":32000,\"scale\":32000},{\"columnNumber\":2,\"columnName\":\"tf\",\"columnTypeName\":\"DECIMAL\",\"length\":6,\"precision\":10,\"scale\":6},{\"columnNumber\":3,\"columnName\":\"idf\",\"columnTypeName\":\"DECIMAL\",\"length\":6,\"precision\":10,\"scale\":6},{\"columnNumber\":4,\"columnName\":\"tf_idf\",\"columnTypeName\":\"DECIMAL\",\"length\":6,\"precision\":10,\"scale\":6}]}"
     },
     "output_type": "execute_result"
    }
   ],
   "source": [
    "SELECT * FROM tbl_tf_idf WHERE comment_id = 30;"
   ]
  },
  {
   "cell_type": "markdown",
   "id": "academic-paraguay",
   "metadata": {},
   "source": [
    "<hr style=\"height:2px;border:none;background-color:#00233C;\">\n",
    "<p style = 'font-size:20px;font-family:Arial;color:#00233C'><b>4. Visualize the Results</b></p>\n",
    "<p style = 'font-size:16px;font-family:Arial;color:#00233C'>\n",
    "Builtin Teradata Jupyter modules can provide simple visualizations of the data. Let us plot the top used 30 terms from our data.</p>"
   ]
  },
  {
   "cell_type": "code",
   "execution_count": 12,
   "id": "joined-validation",
   "metadata": {},
   "outputs": [
    {
     "data": {
      "application/vnd.teradata.resultset": "\"term\",\"tf_idf\"\n\"great structure\",\"9.334326\"\n\"love embroidery\",\"9.334326\"\n\"comfy cozy\",\"8.418036\"\n\"beautiful colors\",\"6.470800\"\n\"great style\",\"6.470800\"\n\"fits perfect\",\"5.198497\"\n\"fits perfect\",\"5.198497\"\n\"love birds\",\"5.013759\"\n\"weird liner\",\"5.013759\"\n\"great fit\",\"4.934474\"\n\"fits great\",\"4.584967\"\n\"beautiful flattering\",\"4.320590\"\n\"low waisted\",\"4.320590\"\n\"flattering blouse\",\"4.209018\"\n\"very pretty\",\"4.127134\"\n\"amazing fit\",\"4.040738\"\n\"and sweet\",\"3.915014\"\n\"totally see\",\"3.814745\"\n\"overall very\",\"3.731108\"\n\"adorable dress\",\"3.694164\"\n\"transcends many\",\"3.342503\"\n\"precious tee\",\"3.342503\"\n\"silhouette transcends\",\"3.342503\"\n\"and delicate\",\"3.207548\"\n\"blouse great\",\"3.111439\"\n\"for vacations\",\"2.976299\"\n\"super itchy\",\"2.880390\"\n\"and reasonably\",\"2.880390\"\n\"versatile skirt\",\"2.806009\"\n\"reasonably priced\",\"2.806009\"",
      "text/html": [
       "<div class = \"td-resultset-table-div\" style = \"max-height: 100%; overflow-y: auto\">\n",
       "      <table class=\"tdhistory53405\"><style>\n",
       "      table.tdhistory53405 { display: block !important; min-height: 588px !important; overflow: auto !important; height: 588px !important; width: 100% !important; border: 1px solid rgb(207, 207, 207) !important; border-collapse: collapse !important; ; color: var(--jp-ui-font-color1) !important; }\n",
       "      th.tdhistory53405 { border: 1px solid rgb(198,198,198) !important; border-collapse: collapse !important; ; padding: 2px 5px !important; ; font-size: 13px !important; ; text-align: center !important; white-space: normal !important; color: var(--jp-ui-font-color1) !important; }\n",
       "      th.tdhistory53405:last-child { text-align: left !important; }\n",
       "      tbody.tdhistory53405 tr:nth-child(even) { background: rgba(243, 243, 243, 0.75) !important; }\n",
       "      tbody.tdhistory53405 tr:nth-child(odd) { background: var(--jp-ui-inverse-font-color1) !important; }\n",
       "      td.tdhistory53405 { border: 1px solid rgb(207, 207, 207) !important; border-collapse: collapse !important; ; padding: 2px 5px !important; ; font-size: 13px !important; ; text-align: left !important;          white-space: nowrap !important; overflow:hidden !important; text-overflow:ellipsis !important;; }\n",
       "    </style><thead><tr style= \"background: rgba(243, 243, 243, 0.75)\"><th class=\"tdhistory53405\"></th><th class=\"tdhistory53405\">term</th><th class=\"tdhistory53405\">tf_idf</th></tr></thead><tbody class=\"tdhistory53405 resultset-body\"><tr><th class=\"tdhistory53405\" style= \"background: rgba(243, 243, 243, 0.75)\">1</th><td class=\"tdhistory53405\">great structure</td><td class=\"tdhistory53405\">9.334326</td></tr><tr><th class=\"tdhistory53405\" style= \"background: rgba(243, 243, 243, 0.75)\">2</th><td class=\"tdhistory53405\">love embroidery</td><td class=\"tdhistory53405\">9.334326</td></tr><tr><th class=\"tdhistory53405\" style= \"background: rgba(243, 243, 243, 0.75)\">3</th><td class=\"tdhistory53405\">comfy cozy</td><td class=\"tdhistory53405\">8.418036</td></tr><tr><th class=\"tdhistory53405\" style= \"background: rgba(243, 243, 243, 0.75)\">4</th><td class=\"tdhistory53405\">beautiful colors</td><td class=\"tdhistory53405\">6.470800</td></tr><tr><th class=\"tdhistory53405\" style= \"background: rgba(243, 243, 243, 0.75)\">5</th><td class=\"tdhistory53405\">great style</td><td class=\"tdhistory53405\">6.470800</td></tr><tr><th class=\"tdhistory53405\" style= \"background: rgba(243, 243, 243, 0.75)\">6</th><td class=\"tdhistory53405\">fits perfect</td><td class=\"tdhistory53405\">5.198497</td></tr><tr><th class=\"tdhistory53405\" style= \"background: rgba(243, 243, 243, 0.75)\">7</th><td class=\"tdhistory53405\">fits perfect</td><td class=\"tdhistory53405\">5.198497</td></tr><tr><th class=\"tdhistory53405\" style= \"background: rgba(243, 243, 243, 0.75)\">8</th><td class=\"tdhistory53405\">love birds</td><td class=\"tdhistory53405\">5.013759</td></tr><tr><th class=\"tdhistory53405\" style= \"background: rgba(243, 243, 243, 0.75)\">9</th><td class=\"tdhistory53405\">weird liner</td><td class=\"tdhistory53405\">5.013759</td></tr><tr><th class=\"tdhistory53405\" style= \"background: rgba(243, 243, 243, 0.75)\">10</th><td class=\"tdhistory53405\">great fit</td><td class=\"tdhistory53405\">4.934474</td></tr><tr><th class=\"tdhistory53405\" style= \"background: rgba(243, 243, 243, 0.75)\">11</th><td class=\"tdhistory53405\">fits great</td><td class=\"tdhistory53405\">4.584967</td></tr><tr><th class=\"tdhistory53405\" style= \"background: rgba(243, 243, 243, 0.75)\">12</th><td class=\"tdhistory53405\">beautiful flattering</td><td class=\"tdhistory53405\">4.320590</td></tr><tr><th class=\"tdhistory53405\" style= \"background: rgba(243, 243, 243, 0.75)\">13</th><td class=\"tdhistory53405\">low waisted</td><td class=\"tdhistory53405\">4.320590</td></tr><tr><th class=\"tdhistory53405\" style= \"background: rgba(243, 243, 243, 0.75)\">14</th><td class=\"tdhistory53405\">flattering blouse</td><td class=\"tdhistory53405\">4.209018</td></tr><tr><th class=\"tdhistory53405\" style= \"background: rgba(243, 243, 243, 0.75)\">15</th><td class=\"tdhistory53405\">very pretty</td><td class=\"tdhistory53405\">4.127134</td></tr><tr><th class=\"tdhistory53405\" style= \"background: rgba(243, 243, 243, 0.75)\">16</th><td class=\"tdhistory53405\">amazing fit</td><td class=\"tdhistory53405\">4.040738</td></tr><tr><th class=\"tdhistory53405\" style= \"background: rgba(243, 243, 243, 0.75)\">17</th><td class=\"tdhistory53405\">and sweet</td><td class=\"tdhistory53405\">3.915014</td></tr><tr><th class=\"tdhistory53405\" style= \"background: rgba(243, 243, 243, 0.75)\">18</th><td class=\"tdhistory53405\">totally see</td><td class=\"tdhistory53405\">3.814745</td></tr><tr><th class=\"tdhistory53405\" style= \"background: rgba(243, 243, 243, 0.75)\">19</th><td class=\"tdhistory53405\">overall very</td><td class=\"tdhistory53405\">3.731108</td></tr><tr><th class=\"tdhistory53405\" style= \"background: rgba(243, 243, 243, 0.75)\">20</th><td class=\"tdhistory53405\">adorable dress</td><td class=\"tdhistory53405\">3.694164</td></tr><tr><th class=\"tdhistory53405\" style= \"background: rgba(243, 243, 243, 0.75)\">21</th><td class=\"tdhistory53405\">transcends many</td><td class=\"tdhistory53405\">3.342503</td></tr><tr><th class=\"tdhistory53405\" style= \"background: rgba(243, 243, 243, 0.75)\">22</th><td class=\"tdhistory53405\">precious tee</td><td class=\"tdhistory53405\">3.342503</td></tr><tr><th class=\"tdhistory53405\" style= \"background: rgba(243, 243, 243, 0.75)\">23</th><td class=\"tdhistory53405\">silhouette transcends</td><td class=\"tdhistory53405\">3.342503</td></tr><tr><th class=\"tdhistory53405\" style= \"background: rgba(243, 243, 243, 0.75)\">24</th><td class=\"tdhistory53405\">and delicate</td><td class=\"tdhistory53405\">3.207548</td></tr><tr><th class=\"tdhistory53405\" style= \"background: rgba(243, 243, 243, 0.75)\">25</th><td class=\"tdhistory53405\">blouse great</td><td class=\"tdhistory53405\">3.111439</td></tr><tr><th class=\"tdhistory53405\" style= \"background: rgba(243, 243, 243, 0.75)\">26</th><td class=\"tdhistory53405\">for vacations</td><td class=\"tdhistory53405\">2.976299</td></tr><tr><th class=\"tdhistory53405\" style= \"background: rgba(243, 243, 243, 0.75)\">27</th><td class=\"tdhistory53405\">super itchy</td><td class=\"tdhistory53405\">2.880390</td></tr><tr><th class=\"tdhistory53405\" style= \"background: rgba(243, 243, 243, 0.75)\">28</th><td class=\"tdhistory53405\">and reasonably</td><td class=\"tdhistory53405\">2.880390</td></tr><tr><th class=\"tdhistory53405\" style= \"background: rgba(243, 243, 243, 0.75)\">29</th><td class=\"tdhistory53405\">versatile skirt</td><td class=\"tdhistory53405\">2.806009</td></tr><tr><th class=\"tdhistory53405\" style= \"background: rgba(243, 243, 243, 0.75)\">30</th><td class=\"tdhistory53405\">reasonably priced</td><td class=\"tdhistory53405\">2.806009</td></tr></tbody></table></div>"
      ]
     },
     "execution_count": 12,
     "metadata": {
      "application/vnd.teradata.resultset": "{\"resultSetID\":\"/home/jovyan/JupyterLabRoot/Teradata/Resultsets/2023.12.21_10.18.12.133_UTC\",\"historyID\":394,\"chunkID\":\"00001\",\"sessionid\":\"\",\"portnum\":\"\",\"dockermode\":\"docker\",\"totalRowCount\":30,\"chunkCount\":0,\"rowLimit\":0,\"columnMetadata\":[{\"columnName\":\"term\",\"columnTypeName\":\"LONG VARCHAR\",\"length\":32000,\"scale\":32000},{\"columnNumber\":1,\"columnName\":\"tf_idf\",\"columnTypeName\":\"DECIMAL\",\"length\":6,\"precision\":10,\"scale\":6}]}"
     },
     "output_type": "execute_result"
    }
   ],
   "source": [
    "SELECT TOP 30 term, tf_idf\n",
    "FROM tbl_tf_idf\n",
    "ORDER BY tf_idf DESC;"
   ]
  },
  {
   "cell_type": "code",
   "execution_count": 13,
   "id": "injured-worth",
   "metadata": {},
   "outputs": [
    {
     "data": {
      "application/vnd.vegalite.v3+json": {
       "$schema": "https://vega.github.io/schema/vega-lite/v3.json",
       "data": {
        "format": {
         "type": "csv"
        },
        "values": "\"term\",\"tf_idf\"\n\"great structure\",\"9.334326\"\n\"love embroidery\",\"9.334326\"\n\"comfy cozy\",\"8.418036\"\n\"beautiful colors\",\"6.470800\"\n\"great style\",\"6.470800\"\n\"fits perfect\",\"5.198497\"\n\"fits perfect\",\"5.198497\"\n\"love birds\",\"5.013759\"\n\"weird liner\",\"5.013759\"\n\"great fit\",\"4.934474\"\n\"fits great\",\"4.584967\"\n\"beautiful flattering\",\"4.320590\"\n\"low waisted\",\"4.320590\"\n\"flattering blouse\",\"4.209018\"\n\"very pretty\",\"4.127134\"\n\"amazing fit\",\"4.040738\"\n\"and sweet\",\"3.915014\"\n\"totally see\",\"3.814745\"\n\"overall very\",\"3.731108\"\n\"adorable dress\",\"3.694164\"\n\"transcends many\",\"3.342503\"\n\"precious tee\",\"3.342503\"\n\"silhouette transcends\",\"3.342503\"\n\"and delicate\",\"3.207548\"\n\"blouse great\",\"3.111439\"\n\"for vacations\",\"2.976299\"\n\"super itchy\",\"2.880390\"\n\"and reasonably\",\"2.880390\"\n\"versatile skirt\",\"2.806009\"\n\"reasonably priced\",\"2.806009\"\n"
       },
       "encoding": {
        "x": {
         "axis": {
          "grid": true,
          "title": "tf_idf"
         },
         "field": "tf_idf",
         "type": "quantitative"
        },
        "y": {
         "axis": {
          "grid": true,
          "title": "term"
         },
         "field": "term",
         "type": "nominal"
        }
       },
       "mark": {
        "color": "#4C78A8",
        "type": "bar"
       },
       "title": "Terms by importance"
      },
      "image/png": "[encoded data removed]"
     },
     "execution_count": 13,
     "metadata": {
      "application/vnd.teradata.resultset": ""
     },
     "output_type": "execute_result"
    }
   ],
   "source": [
    "%chart x = tf_idf, y = term, title = \"Terms by importance\""
   ]
  },
  {
   "cell_type": "markdown",
   "id": "f23faab6-35b7-46c2-a271-f7361be8de3d",
   "metadata": {},
   "source": [
    "<p style = 'font-size:16px;font-family:Arial;color:#00233C'>\n",
    "In this plot we are plotting the top 30 terms which are used in the reviews. </p>"
   ]
  },
  {
   "cell_type": "markdown",
   "id": "1d702b1a-28d3-4aa4-8598-3e2251c43244",
   "metadata": {},
   "source": [
    "<hr style=\"height:2px;border:none;background-color:#00233C;\">\n",
    "<p style = 'font-size:20px;font-family:Arial;color:#00233C'><b>5.  Cleanup </b>\n",
    "<p style = 'font-size:18px;font-family:Arial;color:#00233C'> <b>Worktables </b></p>"
   ]
  },
  {
   "cell_type": "code",
   "execution_count": 14,
   "id": "e6519c55-6a89-47d5-b3e2-04c0118ddf2c",
   "metadata": {},
   "outputs": [
    {
     "data": {
      "text/plain": [
       "Success: 19 rows affected"
      ]
     },
     "execution_count": 14,
     "metadata": {
      "application/vnd.teradata.resultset": ""
     },
     "output_type": "execute_result"
    }
   ],
   "source": [
    "DROP TABLE tbl_grams;"
   ]
  },
  {
   "cell_type": "code",
   "execution_count": 15,
   "id": "western-major",
   "metadata": {},
   "outputs": [
    {
     "data": {
      "text/plain": [
       "Success: 19 rows affected"
      ]
     },
     "execution_count": 15,
     "metadata": {
      "application/vnd.teradata.resultset": ""
     },
     "output_type": "execute_result"
    }
   ],
   "source": [
    "DROP TABLE tbl_tf_idf;"
   ]
  },
  {
   "cell_type": "markdown",
   "id": "ce4c415b-1198-41f8-9e8a-261c91f98867",
   "metadata": {},
   "source": [
    "<p style = 'font-size:18px;font-family:Arial;color:#00233C'> <b>Database and Tables </b></p>\n",
    "<p style = 'font-size:16px;font-family:Arial;color:#00233C'>The following code will clean up tables and databases created above.</p>"
   ]
  },
  {
   "cell_type": "code",
   "execution_count": 16,
   "id": "aa6562dd-d8e9-4a90-95a5-0921f43ef6b9",
   "metadata": {},
   "outputs": [
    {
     "data": {
      "text/plain": [
       "Success: 0 rows affected"
      ]
     },
     "execution_count": 16,
     "metadata": {
      "application/vnd.teradata.resultset": ""
     },
     "output_type": "execute_result"
    },
    {
     "data": {
      "text/plain": [
       "Success: 0 rows affected"
      ]
     },
     "execution_count": 16,
     "metadata": {
      "application/vnd.teradata.resultset": ""
     },
     "output_type": "execute_result"
    },
    {
     "data": {
      "application/vnd.teradata.resultset": "\"Message\"\n\"Removed objects related to DEMO_Retail. That ran for 0:00:01.87\"",
      "text/html": [
       "<div class = \"td-resultset-table-div\" style = \"max-height: 100%; overflow-y: auto\">\n",
       "      <table class=\"tdhistory991500\"><style>\n",
       "      table.tdhistory991500 { display: block !important; min-height: 105px !important; overflow: auto !important; height: 105px !important; width: 100% !important; border: 1px solid rgb(207, 207, 207) !important; border-collapse: collapse !important; ; color: var(--jp-ui-font-color1) !important; }\n",
       "      th.tdhistory991500 { border: 1px solid rgb(198,198,198) !important; border-collapse: collapse !important; ; padding: 2px 5px !important; ; font-size: 13px !important; ; text-align: center !important; white-space: normal !important; color: var(--jp-ui-font-color1) !important; }\n",
       "      th.tdhistory991500:last-child { text-align: left !important; }\n",
       "      tbody.tdhistory991500 tr:nth-child(even) { background: rgba(243, 243, 243, 0.75) !important; }\n",
       "      tbody.tdhistory991500 tr:nth-child(odd) { background: var(--jp-ui-inverse-font-color1) !important; }\n",
       "      td.tdhistory991500 { border: 1px solid rgb(207, 207, 207) !important; border-collapse: collapse !important; ; padding: 2px 5px !important; ; font-size: 13px !important; ; text-align: left !important;          white-space: nowrap !important; overflow:hidden !important; text-overflow:ellipsis !important;; }\n",
       "    </style><thead><tr style= \"background: rgba(243, 243, 243, 0.75)\"><th class=\"tdhistory991500\"></th><th class=\"tdhistory991500\">Message</th></tr></thead><tbody class=\"tdhistory991500 resultset-body\"><tr><th class=\"tdhistory991500\" style= \"background: rgba(243, 243, 243, 0.75)\">1</th><td class=\"tdhistory991500\">Removed objects related to DEMO_Retail. That ran for 0:00:01.87</td></tr></tbody></table></div>"
      ]
     },
     "execution_count": 16,
     "metadata": {
      "application/vnd.teradata.resultset": "{\"resultSetID\":\"/home/jovyan/JupyterLabRoot/Teradata/Resultsets/2023.12.21_10.18.15.362_UTC\",\"historyID\":397,\"chunkID\":\"00001\",\"sessionid\":\"\",\"portnum\":\"\",\"dockermode\":\"docker\",\"totalRowCount\":1,\"chunkCount\":0,\"rowLimit\":0,\"columnMetadata\":[{\"columnName\":\"Message\",\"columnTypeName\":\"VARCHAR\",\"length\":65,\"scale\":65}]}"
     },
     "output_type": "execute_result"
    }
   ],
   "source": [
    "CALL remove_data('DEMO_Retail');-- takes about 5 seconds, optional if you want to use the data later"
   ]
  },
  {
   "cell_type": "markdown",
   "id": "56f0fe75-7830-4bb5-9c65-03d336d18a95",
   "metadata": {},
   "source": [
    "<p style = 'font-size:20px;font-family:Arial;color:#00233C'><b>Reference Links:</b></p>\n",
    "<ul style = 'font-size:16px;font-family:Arial;color:#00233C'>\n",
    "        <li>Teradata NGramSplitter Function Reference: <a href = 'https://docs.teradata.com/r/Teradata-VantageTM-Analytics-Database-Analytic-Functions-17.20/Text-Analytic-Functions/NGramSplitter'>https://docs.teradata.com/r/Teradata-VantageTM-Analytics-Database-Analytic-Functions-17.20/Text-Analytic-Functions/NGramSplitter</a></li>\n",
    "  \n",
    "</ul>\n",
    "\n"
   ]
  },
  {
   "cell_type": "markdown",
   "id": "chinese-maine",
   "metadata": {},
   "source": [
    "<footer style=\"padding-bottom:35px; background:#f9f9f9; border-bottom:3px solid #00233C\">\n",
    "    <div style=\"float:left;margin-top:14px\">ClearScape Analytics™</div>\n",
    "    <div style=\"float:right;\">\n",
    "        <div style=\"float:left; margin-top:14px\">\n",
    "            Copyright © Teradata Corporation - 2023. All Rights Reserved\n",
    "        </div>\n",
    "    </div>\n",
    "</footer>"
   ]
  }
 ],
 "metadata": {
  "kernelspec": {
   "display_name": "Teradata SQL",
   "language": "Teradata SQL",
   "name": "teradatasql"
  },
  "language_info": {
   "codemirror_mode": "Teradata SQL",
   "file_extension": ".tdrs",
   "mimetype": "application/vnd.teradata.resultset",
   "name": "Teradata SQL",
   "nbconvert_exporter": "",
   "pygments_lexer": "",
   "version": "16.20"
  }
 },
 "nbformat": 4,
 "nbformat_minor": 5
}
