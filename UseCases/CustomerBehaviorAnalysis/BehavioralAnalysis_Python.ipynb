{
 "cells": [
  {
   "cell_type": "markdown",
   "metadata": {},
   "source": [
    "<header style=\"padding:1px;background:#f9f9f9;border-top:3px solid #00b2b1\"><img id=\"Teradata-logo\" src=\"https://www.teradata.com/Teradata/Images/Rebrand/Teradata_logo-two_color.png\" alt=\"Teradata\" width=\"220\" align=\"right\" />\n",
    "\n",
    "<b style = 'font-size:28px;font-family:Arial;color:#E37C4D'>Behavioral Analysis and Visualization using Vantage and Plotly</b>\n",
    "</header>"
   ]
  },
  {
   "cell_type": "markdown",
   "metadata": {},
   "source": [
    "<p style = 'font-size:18px;font-family:Arial;color:#E37C4D'><b>Introduction</b></p>\n",
    "<p style = 'font-size:16px;font-family:Arial'>\n",
    "This is a demonstration of Vantage capabilities for functional demos e.g.\n",
    "    <li style = 'font-size:16px;font-family:Arial'> Sessionize Function - Assign a Session Identifier to a series of events within a time window </li>\n",
    "    <li style = 'font-size:16px;font-family:Arial'> nPath Function - Analyze events and match patterns to collect specific user paths </li>\n",
    "</p>\n",
    "<br>\n",
    "<p style = 'font-size:16px;font-family:Arial'>\n",
    "nPath is useful when your goal is to identify the paths that lead to an outcome. The nPath function scans a set of rows, looking for patterns that you specify. For each set of input rows that matches the pattern, nPath produces a single output row. The function provides a flexible pattern-matching capability that lets you specify complex patterns in the input data and define the values that are output for each matched input set. For example, you can use nPath to analyze:\n",
    "<li style = 'font-size:16px;font-family:Arial'>Web site click data, to identify paths that lead to sales over a specified amount</li>\n",
    "<li style = 'font-size:16px;font-family:Arial'>Sensor data from industrial processes, to identify paths to poor product quality</li>\n",
    "<li style = 'font-size:16px;font-family:Arial'>Healthcare records of individual patients, to identify paths that indicate that patients are at risk of developing conditions such as heart disease or diabetes</li>\n",
    "<li style = 'font-size:16px;font-family:Arial'>Financial data for individuals, to identify paths that provide information about credit or fraud risks</li>\n",
    "</p>    \n"
   ]
  },
  {
   "cell_type": "markdown",
   "metadata": {},
   "source": [
    "<p style = 'font-size:28px;font-family:Arial;color:#E37C4D'><b>1. Import python packages, connect to Vantage and explore the dataset</b></p>\n"
   ]
  },
  {
   "cell_type": "markdown",
   "metadata": {},
   "source": [
    "<p style = 'font-size:16px;font-family:Arial'>Installing python libraries which are not installed by default in the environment.</p>\n"
   ]
  },
  {
   "cell_type": "code",
   "execution_count": null,
   "metadata": {},
   "outputs": [],
   "source": [
    "%%capture\n",
    "!pip install --user colorlover"
   ]
  },
  {
   "cell_type": "markdown",
   "metadata": {},
   "source": [
    "<p style = 'font-size:16px;font-family:Arial'><b><i>*BEFORE proceeding, please RESTART the kernel to bring new software into Jupyter.</i></b></p>"
   ]
  },
  {
   "cell_type": "code",
   "execution_count": null,
   "metadata": {},
   "outputs": [],
   "source": [
    "#import libraries\n",
    "import getpass\n",
    "import warnings\n",
    "import datetime\n",
    "from collections import defaultdict\n",
    "\n",
    "import pandas as pd\n",
    "import numpy as np\n",
    "\n",
    "import teradataml.dataframe.dataframe as tdf\n",
    "from teradataml.dataframe.dataframe import in_schema\n",
    "from teradataml.context.context import create_context, remove_context, get_context\n",
    "from teradataml.dataframe.copy_to import copy_to_sql\n",
    "from teradataml.dataframe.fastload import fastload\n",
    "\n",
    "from teradataml.analytics.sqle.Sessionize import Sessionize\n",
    "from teradataml.analytics.sqle.NPath import NPath\n",
    "\n",
    "##import tdconnect\n",
    "\n",
    "from teradatasqlalchemy.types import *\n",
    "\n",
    "from plotly.offline import download_plotlyjs, init_notebook_mode, plot, iplot\n",
    "from collections import defaultdict\n",
    "import plotly.offline as offline\n",
    "import colorlover as cl\n",
    "\n",
    "offline.init_notebook_mode()\n",
    "\n",
    "warnings.filterwarnings('ignore')"
   ]
  },
  {
   "cell_type": "markdown",
   "metadata": {},
   "source": [
    "<p style = 'font-size:16px;font-family:Arial'>You will be prompted to provide the password. Enter your password, press the Enter key, then use down arrow to go to next cell. Below command will make a connection to the Vantage environment </p>"
   ]
  },
  {
   "cell_type": "code",
   "execution_count": null,
   "metadata": {},
   "outputs": [],
   "source": [
    "%run -i ../startup.ipynb\n",
    "eng = create_context(host = 'host.docker.internal', username='demo_user', password = password)\n",
    "print(eng)\n",
    "eng.execute('''SET query_band='DEMO=BehavioralAnalysis.ipynb;' UPDATE FOR SESSION; ''')"
   ]
  },
  {
   "cell_type": "markdown",
   "metadata": {},
   "source": [
    "<p style = 'font-size:16px;font-family:Arial'>Begin running steps with Shift + Enter keys.</p>"
   ]
  },
  {
   "cell_type": "markdown",
   "metadata": {},
   "source": [
    "<p style = 'font-size:18px;font-family:Arial;color:#E37C4D'> <b>Getting Data for This Demo</b></p>\n",
    "<p style = 'font-size:16px;font-family:Arial'>We have provided data for this demo on cloud storage. In this demo since we are using Temporal table we will be creating databases and tables in local storage and use them in the notebook. Please execute the procedure in the next cell.</p>"
   ]
  },
  {
   "cell_type": "code",
   "execution_count": null,
   "metadata": {},
   "outputs": [],
   "source": [
    "%run -i ../run_procedure.py \"call get_data('DEMO_Retail_cloud');\"\n",
    " # takes about 30 seconds, estimated space: 0 MB\n",
    "#%run -i ../run_procedure.py \"call get_data('DEMO_Retail_local');\" \n",
    "# takes about 50 seconds, estimated space: 23 MB"
   ]
  },
  {
   "cell_type": "markdown",
   "metadata": {},
   "source": [
    "<p style = 'font-size:16px;font-family:Arial'>Next is an optional step – if you want to see status of databases/tables created and space used.</p>"
   ]
  },
  {
   "cell_type": "code",
   "execution_count": null,
   "metadata": {},
   "outputs": [],
   "source": [
    "%run -i ../run_procedure.py \"call space_report();\""
   ]
  },
  {
   "cell_type": "markdown",
   "metadata": {},
   "source": [
    "<p style = 'font-size:16px;font-family:Arial'>\n",
    "Source events data may come from other source systems, log files, Object Storage, etc.  This section illustrates connecting to existing customer event data using the teradataml python package."
   ]
  },
  {
   "cell_type": "markdown",
   "metadata": {},
   "source": [
    "<p style = 'font-size:16px;font-family:Arial'>\n",
    "This notebook makes use of two powerful behavioral analysis functions available in Vantage:\n",
    "<ol style = 'font-size:16px;font-family:Arial'>    \n",
    " <li><b>Sessionize</b> Which will group a series of events into a keyed (by number) session.</li>\n",
    "<li><b>nPath</b> Sophisticated pattern matching function to analyze and collect data across rows.</li>\n",
    "</ol>    "
   ]
  },
  {
   "cell_type": "code",
   "execution_count": null,
   "metadata": {},
   "outputs": [],
   "source": [
    "#1.  Create the teradataml dataframe from our source table - this creates a pointer to the location without moving data\n",
    "tdf_retail_events = tdf.DataFrame(in_schema('DEMO_Retail', 'Retail_Events'))\n",
    "tdf_retail_events.head()"
   ]
  },
  {
   "cell_type": "markdown",
   "metadata": {},
   "source": [
    "<p style = 'font-size:16px;font-family:Arial'>Sample data shows the events in the table we have linked in the dataframe."
   ]
  },
  {
   "cell_type": "markdown",
   "metadata": {},
   "source": [
    "<p style = 'font-size:28px;font-family:Arial;color:#E37C4D'><b>2.  Sessionize Function</b></p>\n",
    "<p style = 'font-size:16px;font-family:Arial'>This function can be called as a method of teradataml library or in literal SQL.<br>\n",
    "The Sessionize function maps each click in a session to a unique session identifier. A session is a sequence of clicks by one user that are separated by at most 'n' seconds. In our case we are taking a duration of 24 hours for our session and observing the user behaviour in this time."
   ]
  },
  {
   "cell_type": "code",
   "execution_count": null,
   "metadata": {},
   "outputs": [],
   "source": [
    "#2. Call the Sessionize function.  This function has several required parameters:\n",
    "#data_partition_column - unique identifier of the user or entity we consolidate events for.\n",
    "#data_order_column - the column or list of columns to use to order the sessions.\n",
    "#time_column - column to apply the time boundary around to create a \"session\"\n",
    "#time_out - duration in seconds to mark rows as a single session, 24 hours as example below, float.\n",
    "#function returns an instance of the \"Sessionize\" object.  The \"result\" property is the teradata dataframe (virtual dataframe)\n",
    "\n",
    "sessionized_events = Sessionize(data = tdf_retail_events, \n",
    "                               data_partition_column = ['entity_id'], \n",
    "                               data_order_column = ['datestamp'], \n",
    "                               time_column = 'datestamp', \n",
    "                               time_out = 86400.00)\n",
    "\n",
    "sessionized_events.result.head()"
   ]
  },
  {
   "cell_type": "markdown",
   "metadata": {},
   "source": [
    "<p style = 'font-size:16px;font-family:Arial'>In the data returned above we can see that the function has assigned a sessionid on the events based on the parameter(time_out value) we have given"
   ]
  },
  {
   "cell_type": "code",
   "execution_count": null,
   "metadata": {},
   "outputs": [],
   "source": [
    "#commit our sessionized results to a permanent table:\n",
    "sessionized_events.result.to_sql(table_name = 'demo_sessionized_events', if_exists = 'replace')"
   ]
  },
  {
   "cell_type": "markdown",
   "metadata": {},
   "source": [
    "<p style = 'font-size:28px;font-family:Arial;color:#E37C4D'><b>3.  nPath Function</b>\n",
    "<p style = 'font-size:16px;font-family:Arial'>As above, this function can be called as a method of teradataml, or in literal SQL.  Both examples are below"
   ]
  },
  {
   "cell_type": "code",
   "execution_count": null,
   "metadata": {},
   "outputs": [],
   "source": [
    "#Call the nPath function of teradataml library\n",
    "\n",
    "#First, use the result attribute of the sessionize object to efficiently get a pointer to the data:\n",
    "tdf_sessionized_events = sessionized_events.result"
   ]
  },
  {
   "cell_type": "markdown",
   "metadata": {},
   "source": [
    "<p style = 'font-size:16px;font-family:Arial'><b>Call a basic nPath function.</b>\n",
    " <ul style = 'font-size:16px;font-family:Arial'>\n",
    "     <li>nPath scans a set of rows, looking for patterns.</li>\n",
    "     <li>For each set of input rows that matches the pattern, nPath produces a single output row.</li>\n",
    "  </ul>\n",
    "<p style = 'font-size:16px;font-family:Arial'> This function allows for matching of complex patterns in the input data, as well as defining the output values for each matched set of rows.\n",
    "<br>\n",
    "For the below example:\n",
    "<ol style = 'font-size:16px;font-family:Arial'>\n",
    "    <li>Pass the sessionized data by reference.</li>\n",
    "    <li>Provide partitioning (session key) and ordering columns.</li>\n",
    "    <li>Mode <b>OVERLAPPING</b> vs. <b>NONOVERLAPPING</b>\n",
    "        <ul style = 'font-size:16px;font-family:Arial'>\n",
    "            <li><b>OVERLAPPING</b> finds every occurrence of the match, regardless of the current row being part of a previous match.</li>\n",
    "            <li><b>NONOVERLAPPING</b> starts matching again at the row that follows the previous match.\n",
    "        </ul>\n",
    "    </li>\n",
    "    <li>Symbols.  Create a set of column expression aliases that can be assembled into a pattern to match.\n",
    "        <ul style = 'font-size:16px;font-family:Arial'>\n",
    "            <li>Example: \"EVENT = 'Mem Purchase' as P\" will alias a match on the EVENT column when the content equals 'Mem Purchase'.</li>\n",
    "        </ul>\n",
    "    </li>\n",
    "      <li>Pattern.  Compose a pattern to search for across the rows of events.  This pattern is composed of Symbols and directives.\n",
    "        <ul style = 'font-size:16px;font-family:Arial'>\n",
    "            <li>Example: '^P' uses a directive ^ to indicate the P Symbol must occur at the beginning of the group of rows</li>\n",
    "        </ul>\n",
    "    </li>\n",
    "    <li>Result.  Since nPath emits a single row per group-of-row matches, Result indicates what columns make up this row and how to aggregate the data.</li>\n",
    "    </ol>\n",
    "    "
   ]
  },
  {
   "cell_type": "code",
   "execution_count": null,
   "metadata": {},
   "outputs": [],
   "source": [
    "#Create two symbols and assemble them with directives:\n",
    "# 1. True as A - matches any row\n",
    "# 2. EVENT Column match the string 'Mem Cancel' as B\n",
    "# Pattern directs a range of any row (A) between 2 and 5 times preceding 'Mem Cancel' (B) - A{2,5}.B\n",
    "\n",
    "npath_sessions = NPath(data1 = tdf_sessionized_events, \n",
    "                      data1_partition_column = ['SESSIONID'], \n",
    "                      data1_order_column = 'datestamp', \n",
    "                      mode = 'NONOVERLAPPING', \n",
    "                      symbols = ['True as A', 'EVENT in (\\'Mem Cancel\\') as B'], \n",
    "                      pattern = 'A{2,5}.B', \n",
    "                      result = ['FIRST (entity_id OF A) AS entity_id', \n",
    "                               'FIRST (sessionid OF A) AS sessionid', \n",
    "                               'ACCUMULATE (cast(event as VARCHAR(50) CHARACTER SET UNICODE NOT CASESPECIFIC) OF ANY(A,B)) AS path', \n",
    "                               'COUNT (* OF ANY (A,B)) AS event_cnt'])\n",
    "\n",
    "npath_sessions.result.head()"
   ]
  },
  {
   "cell_type": "markdown",
   "metadata": {},
   "source": [
    "<p style = 'font-size:16px;font-family:Arial'>\n",
    "Here we can clearly see that the nPath function has created a Path the customer took to the final event (Mem Cancel) we have mentioned in the teradataml method."
   ]
  },
  {
   "cell_type": "markdown",
   "metadata": {},
   "source": [
    "<p style = 'font-size:28px;font-family:Arial;color:#E37C4D'><b>4.  Analysis and Visualization</b>\n",
    "<p style = 'font-size:16px;font-family:Arial'> Analysis can be performed on the data in-database, or externally with the local pandas dataframe:"
   ]
  },
  {
   "cell_type": "code",
   "execution_count": null,
   "metadata": {},
   "outputs": [],
   "source": [
    "#Operate on the data as it lies in the database, and only retrieve the result of the aggregation\n",
    "\n",
    "npath_sessions.result.groupby(['path']).count().sort(['count_sessionid'], ascending = False).head()"
   ]
  },
  {
   "cell_type": "code",
   "execution_count": null,
   "metadata": {},
   "outputs": [],
   "source": [
    "#or - operate on the data in the pandas dataframe:\n",
    "df_npath_pandas = npath_sessions.result.to_pandas()\n",
    "#df_sql_npath['event_cnt'].plot(kind = 'hist');\n",
    "df_npath_pandas['event_cnt'].plot(kind = 'hist');"
   ]
  },
  {
   "cell_type": "markdown",
   "metadata": {},
   "source": [
    "<p style = 'font-size:16px;font-family:Arial'> In our nPath function we have used the pattern where final event is 'Mem Cancel', The above histogram shows the number of events where the final event is Mem Cancel."
   ]
  },
  {
   "cell_type": "markdown",
   "metadata": {},
   "source": [
    "<p style = 'font-size:18px;font-family:Arial;color:#E37C4D'><b>4.1  Sankey Charts</b></p>\n",
    "<p style = 'font-size:16px;font-family:Arial'> Sankey charts can help visualize flows and volumes of flows through a system. Below is a basic overview of Sankey charting with Plotly.\n"
   ]
  },
  {
   "cell_type": "code",
   "execution_count": null,
   "metadata": {},
   "outputs": [],
   "source": [
    "#Very basic Sankey as illustrated in the presentation\n",
    "#This assumes three user paths:\n",
    "#Browse->Call->Refund (1)\n",
    "#Call->Browse->Refund (1)\n",
    "#Browse->Refund (1)\n",
    "\n",
    "sankeyChart = dict(\n",
    "    type='sankey',\n",
    "    node = dict(\n",
    "      pad = 15,\n",
    "      thickness = 20,\n",
    "      label = [\"Browse\", \"Call\", \"Call\", \"Browse\", \"Refund\"], #Ordered list of unique steps\n",
    "      color = cl.scales['5']['seq']['BuPu']\n",
    "    ),\n",
    "    link = dict(\n",
    "        source = [0,1,2,3], #The index of the list of nodes that represent the \"left\" side of a pair-path\n",
    "        target = [2,3,4,4], #The \"right\" side of the pair-path\n",
    "        value = [1,1,1,2] #how many of those pair-paths occurred\n",
    "    )\n",
    "  )\n",
    "\n",
    "\n",
    "fig = dict(data=[sankeyChart])\n",
    "iplot(fig, validate=False)"
   ]
  },
  {
   "cell_type": "markdown",
   "metadata": {},
   "source": [
    "<p style = 'font-size:16px;font-family:Arial'> This sankey plot shows the events leading to Refund event. It shows the 3 patterns Browse->Call->Refund ,Call->Browse->Refund and Browse->Refund."
   ]
  },
  {
   "cell_type": "code",
   "execution_count": null,
   "metadata": {},
   "outputs": [],
   "source": [
    "#Convert Teradata nPath output to plotly Sankey\n",
    "#can handle paths up to 999 links in length\n",
    "\n",
    "# npath_pandas = df_sql_npath\n",
    " \n",
    "dataDict = defaultdict(int)\n",
    "eventDict = defaultdict(int)\n",
    "maxPath = df_npath_pandas['event_cnt'].max()\n",
    "\n",
    "\n",
    "for index, row in df_npath_pandas.iterrows():\n",
    "    rowList = row['path'].replace('[','').replace(']','').split(',')\n",
    "    pathCnt = row['event_cnt']\n",
    "    pathLen = len(rowList)\n",
    "    for i in range(len(rowList)-1):\n",
    "        leftValue = str(100 + i + maxPath - pathLen) + rowList[i].strip()\n",
    "        rightValue = str(100 + i + 1 + maxPath - pathLen) + rowList[i+1].strip()\n",
    "        valuePair = leftValue + '+' + rightValue\n",
    "        dataDict[valuePair] += pathCnt\n",
    "        eventDict[leftValue] += 1\n",
    "        eventDict[rightValue] += 1\n",
    "\n",
    "eventList = []\n",
    "for key,val in eventDict.items():\n",
    "    eventList.append(key)\n",
    "\n",
    "sortedEventList = sorted(eventList)\n",
    "sankeyLabel = []\n",
    "for event in sortedEventList:\n",
    "    sankeyLabel.append(event[3:])\n",
    "\n",
    "sankeySource = []\n",
    "sankeyTarget = []\n",
    "sankeyValue = []\n",
    "\n",
    "for key,val in dataDict.items():\n",
    "    sankeySource.append(sortedEventList.index(key.split('+')[0]))\n",
    "    sankeyTarget.append(sortedEventList.index(key.split('+')[1]))\n",
    "    sankeyValue.append(val)\n",
    "\n",
    "sankeyColor = []\n",
    "for i in sankeyLabel:\n",
    "    sankeyColor.append('blue')\n",
    "\n",
    "sankeyChart = dict(\n",
    "    type='sankey',\n",
    "    node = dict(\n",
    "      pad = 15,\n",
    "      thickness = 20,\n",
    "      line = dict(\n",
    "        color = 'black',\n",
    "        width = 0.5\n",
    "      ),\n",
    "      label = sankeyLabel,\n",
    "      color = sankeyColor\n",
    "    ),\n",
    "    link = dict(\n",
    "        source = sankeySource,\n",
    "        target = sankeyTarget,\n",
    "        value = sankeyValue\n",
    "    )\n",
    "  )\n",
    "layout =  dict(\n",
    "    title = \"Basic Sankey Pathing\",\n",
    "    font = dict(\n",
    "      size = 10\n",
    "    )\n",
    ")\n",
    "\n",
    "\n",
    "fig = dict(data=[sankeyChart], layout=layout)\n",
    "iplot(fig, validate=False)"
   ]
  },
  {
   "cell_type": "markdown",
   "metadata": {},
   "source": [
    "<p style = 'font-size:16px;font-family:Arial'> This visualization takes the input from Teradata nPath output to plotly Sankey visualization. Here also we can see the events customer took to his final event of 'Purchase' or 'Mem Purchase'(membership purchase). "
   ]
  },
  {
   "cell_type": "markdown",
   "metadata": {},
   "source": [
    "<p style = 'font-size:28px;font-family:Arial;color:#E37C4D'><b>5.  Clean up</b></p>\n",
    "<p style = 'font-size:20px;font-family:Arial;color:#E37C4D'> <b>Worktables </b></p>"
   ]
  },
  {
   "cell_type": "code",
   "execution_count": null,
   "metadata": {},
   "outputs": [],
   "source": [
    "from teradataml import db_drop_table\n",
    "db_drop_table(table_name='demo_sessionized_events', schema_name='DEMO_USER') "
   ]
  },
  {
   "cell_type": "markdown",
   "metadata": {},
   "source": [
    "<p style = 'font-size:20px;font-family:Arial;color:#E37C4D'> <b>Database and Tables </b></p>\n",
    "<p style = 'font-size:16px;font-family:Arial'>The following code will clean up tables and databases created above.</p>"
   ]
  },
  {
   "cell_type": "code",
   "execution_count": null,
   "metadata": {},
   "outputs": [],
   "source": [
    "%run -i ../run_procedure.py \"call remove_data('DEMO_Retail');\" \n",
    "#Takes 10 seconds\n",
    "#Please note that the same data is used in UseCases/TextProcessing_TF_IDF notebooks"
   ]
  },
  {
   "cell_type": "markdown",
   "metadata": {},
   "source": [
    "<p style = 'font-size:16px;font-family:Arial'><b>Links:</b></p>\n",
    "<ul style = 'font-size:16px;font-family:Arial'>\n",
    "    <li>Teradata Python Package User Guide: <a href = 'https://docs.teradata.com/reader/eteIDCTX4O4IMvazRMypxQ/uDjppX7PJInABCckgu~KFg'>https://docs.teradata.com/reader/eteIDCTX4O4IMvazRMypxQ/uDjppX7PJInABCckgu~KFg</a></li>\n",
    "    <li>Teradataml Python Reference: <a href = 'https://docs.teradata.com/reader/GsM0pYRZl5Plqjdf9ixmdA/MzdO1q_t80M47qY5lyImOA'>https://docs.teradata.com/reader/GsM0pYRZl5Plqjdf9ixmdA/MzdO1q_t80M47qY5lyImOA</a></li>\n",
    "    <li>Teradata nPath Function Reference: <a href = 'https://docs.teradata.com/reader/CWVY0AJy8wyyf7Sm0EsK~w/wjkE42ypEfeMkRFOIqVXfQ'>https://docs.teradata.com/reader/CWVY0AJy8wyyf7Sm0EsK~w/wjkE42ypEfeMkRFOIqVXfQ</a></li>\n",
    "    <li>Teradata Sessionize Function Reference: <a href = 'https://docs.teradata.com/reader/CWVY0AJy8wyyf7Sm0EsK~w/RNbOiUg9~r~cxSZHrR~sFQ'>https://docs.teradata.com/reader/CWVY0AJy8wyyf7Sm0EsK~w/RNbOiUg9~r~cxSZHrR~sFQ</a></li>\n",
    "        <li>Python Pandas Reference: <a href = 'https://pandas.pydata.org/docs/user_guide/index.html'>https://pandas.pydata.org/docs/user_guide/index.html</a></li>\n",
    "        <li>Plotly Reference: <a href = 'https://plotly.com/'>https://plotly.com/</a></li>\n",
    "</ul>\n"
   ]
  },
  {
   "cell_type": "markdown",
   "metadata": {},
   "source": [
    "<footer style=\"padding:10px;background:#f9f9f9;border-bottom:3px solid #394851\">©2023 Teradata. All Rights Reserved</footer>"
   ]
  }
 ],
 "metadata": {
  "kernelspec": {
   "display_name": "Python 3 (ipykernel)",
   "language": "python",
   "name": "python3"
  },
  "language_info": {
   "codemirror_mode": {
    "name": "ipython",
    "version": 3
   },
   "file_extension": ".py",
   "mimetype": "text/x-python",
   "name": "python",
   "nbconvert_exporter": "python",
   "pygments_lexer": "ipython3",
   "version": "3.9.10"
  }
 },
 "nbformat": 4,
 "nbformat_minor": 4
}
