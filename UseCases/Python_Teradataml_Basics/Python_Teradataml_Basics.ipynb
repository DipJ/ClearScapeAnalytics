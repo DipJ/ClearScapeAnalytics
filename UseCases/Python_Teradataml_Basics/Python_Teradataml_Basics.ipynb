{
 "cells": [
  {
   "cell_type": "markdown",
   "metadata": {},
   "source": [
    "<header style=\"padding:1px;background:#f9f9f9;border-top:3px solid #00b2b1\"><img id=\"Teradata-logo\" src=\"https://www.teradata.com/Teradata/Images/Rebrand/Teradata_logo-two_color.png\" alt=\"Teradata\" width=\"220\" align=\"right\" />\n",
    "\n",
    "<b style = 'font-size:28px;font-family:Arial;color:#E37C4D'>Teradataml Python Basics</b>\n",
    "</header>\n",
    "\n",
    "<table>\n",
    "    <tr>\n",
    "        <td width = '50%' style = 'vertical-align:top;font-size:16px;font-family:Arial'><br><p>Teradataml is a library that allows python programmers and developers to access the power of Vantage.</p>\n",
    "            <p>Developers can use common data management functions and methods based on Python Pandas.  Teradataml translates python directives to underlying SQL in order to process directly on the Vantage system without costly data movement.</p>\n",
    "        <p>Additionally, teradataml provides simple functions providing access to machine learning, open analytics frameworks, and powerful advanced analytical capabilities.</td>\n",
    "        <td width = '50%'><img src = 'images/Functional_Diagram.png'></td>\n",
    "    </tr>\n",
    "    </table>\n",
    "\n",
    "\n",
    "\n",
    "\n",
    "<p style = 'font-size:16px;font-family:Arial'>This notebook will cover the very basics of the Teradataml package and is a technical demonstration of different functionalities of Teradataml. This is not a business outcome type demo.  Please see the Getting Started Guide online <a href = 'https://docs.teradata.com/r/Teradata-Package-for-Python-User-Guide/November-2021/Introduction-to-Teradata-Package-for-Python'>here</a></p>"
   ]
  },
  {
   "cell_type": "markdown",
   "metadata": {
    "tags": []
   },
   "source": [
    "<p style = 'font-size:18px;font-family:Arial;color:#E37C4D'><b>Contents</b></p>\n",
    "<ol style = 'font-size:16px;font-family:Arial'>\n",
    "<li>Connecting to Vantage\n",
    "    <ul>\n",
    "        <li>Initiate a connection to Vantage</li>\n",
    "    </ul>\n",
    "</li>    \n",
    "<li>Teradatml Basics\n",
    "    <ul>\n",
    "        <li>Create a Teradata DataFrame (virtual DataFrame)</li>\n",
    "        <li>Aggregations</li>\n",
    "        <li>Transformations</li>\n",
    "        <li>SQL Functions</li>\n",
    "        <li>Joins</li>\n",
    "        <li>Bring the data to the client - Pandas</li>\n",
    "        <li>Cleanup</li>\n",
    "    </ul>\n",
    "</li>\n",
    "<hr>"
   ]
  },
  {
   "cell_type": "markdown",
   "metadata": {},
   "source": [
    "<p style = 'font-size:18px;font-family:Arial;color:#E37C4D'><b>Install and Import the necessary libraries</b></p>\n",
    "\n"
   ]
  },
  {
   "cell_type": "markdown",
   "metadata": {},
   "source": [
    "<p style = 'font-size:16px;font-family:Arial'>Upgrade to latest version of Teradatml before importing it.</p>\n",
    "\n",
    "<p style = 'font-size:14px;font-family:Arial'>Note :'%%capture' suppresses the display of installation steps of the following packages</p>"
   ]
  },
  {
   "cell_type": "code",
   "execution_count": null,
   "metadata": {},
   "outputs": [],
   "source": [
    "%%capture\n",
    "!pip install --upgrade teradataml --user"
   ]
  },
  {
   "cell_type": "code",
   "execution_count": null,
   "metadata": {},
   "outputs": [],
   "source": [
    "# getpass to ask password to user and prevent storing it plain in the Notebook\n",
    "import getpass\n",
    "import pandas as pd\n",
    "\n",
    "# import all Teradataml functions and supporting libraries\n",
    "from teradataml import *\n",
    "from teradataml import create_context, DataFrame, get_context, copy_to_sql, in_schema, remove_context\n",
    "from teradataml.table_operators.Script import Script\n",
    "from sqlalchemy import func"
   ]
  },
  {
   "cell_type": "markdown",
   "metadata": {},
   "source": [
    "<b style = 'font-size:20px;font-family:Arial;color:#E37C4D'> Accessing the Data\n",
    "<p style = 'font-size:16px;font-family:Arial'>These demos will work either with foreign tables accessed from Cloud Storage via NOS or you may import the tables to your machine. If you import data for multiple demos, you may need to use the Data Dictionary \"Manage Your Space\" routine to cleanup tables you no longer need. \n",
    "    \n",
    "<p style = 'font-size:16px;font-family:Arial'>Use the link below to access the 2 options for using data from the data dictionary notebook:\n",
    "\n",
    "[Click Here to get data for this notebook](../Data_Dictionary/Data_Dictionary.ipynb#TRNG_DataScienceExploration)\n",
    "\n",
    "[Click Here to Manage Your Space](../Data_Dictionary/Data_Dictionary.ipynb#Manage_Your_Space)"
   ]
  },
  {
   "cell_type": "markdown",
   "metadata": {},
   "source": [
    "<p style = 'font-size:20px;font-family:Arial;color:#E37C4D'><b>Initiate a connection to Vantage.</b></p>\n",
    "<p style = 'font-size:16px;font-family:Arial'>You will be prompted to enter the password. Enter the password to connect to Vantage, then click on the next cell to continue.</p>"
   ]
  },
  {
   "cell_type": "code",
   "execution_count": null,
   "metadata": {},
   "outputs": [],
   "source": [
    "eng = create_context(host = 'host.docker.internal', username='demo_user', password = getpass.getpass())\n",
    "print(eng)"
   ]
  },
  {
   "cell_type": "markdown",
   "metadata": {},
   "source": [
    "<hr>\n",
    "<b style = 'font-size:18px;font-family:Arial;color:#E37C4D'>Create a Teradata DataFrame (virtual DataFrame)</b>\n",
    "<p style = 'font-size:16px;font-family:Arial'>The teradataml DataFrame module function can create a pointer to a table or a SQL statement in the target Vantage system.  Note, no data is copied back to the client, and all operations on the data are translated to SQL and executed in Vantage.</p>"
   ]
  },
  {
   "cell_type": "code",
   "execution_count": null,
   "metadata": {},
   "outputs": [],
   "source": [
    "tdf = DataFrame('\"TRNG_DataScienceExploration\".\"HOUSE_PRICES\"')"
   ]
  },
  {
   "cell_type": "markdown",
   "metadata": {},
   "source": [
    "<p style = 'font-size:16px;font-family:Arial'>Extract a few rows - note, only the rows needed to satisfy the head() method are returned to the client</p>"
   ]
  },
  {
   "cell_type": "code",
   "execution_count": null,
   "metadata": {},
   "outputs": [],
   "source": [
    "tdf.head()"
   ]
  },
  {
   "cell_type": "markdown",
   "metadata": {},
   "source": [
    "<p style = 'font-size:16px;font-family:Arial'>Look at the underlying query by using the show_query() method.</p>"
   ]
  },
  {
   "cell_type": "code",
   "execution_count": null,
   "metadata": {},
   "outputs": [],
   "source": [
    "tdf.head().show_query()"
   ]
  },
  {
   "cell_type": "markdown",
   "metadata": {},
   "source": [
    "<hr>\n",
    "<b style = 'font-size:18px;font-family:Arial;color:#E37C4D'>Aggregations</b>\n",
    "<p style = 'font-size:16px;font-family:Arial'>Various aggregations are available for grouping, windowing, time series, etc.</p>"
   ]
  },
  {
   "cell_type": "code",
   "execution_count": null,
   "metadata": {},
   "outputs": [],
   "source": [
    "tdf_group =  tdf.select([\"bedrooms\", \"price\"])"
   ]
  },
  {
   "cell_type": "code",
   "execution_count": null,
   "metadata": {},
   "outputs": [],
   "source": [
    "# simple groupby:\n",
    "tdf_group.groupby('bedrooms').sum()"
   ]
  },
  {
   "cell_type": "markdown",
   "metadata": {},
   "source": [
    "<p style = 'font-size:16px;font-family:Arial'>The above output shows the sum of the price grouped by the number of bedrooms.</p>"
   ]
  },
  {
   "cell_type": "code",
   "execution_count": null,
   "metadata": {},
   "outputs": [],
   "source": [
    "tdf_count = tdf.select([\"bedrooms\", \"id\",\"bathrooms\"])"
   ]
  },
  {
   "cell_type": "code",
   "execution_count": null,
   "metadata": {},
   "outputs": [],
   "source": [
    "# Groupby using the agg() method\n",
    "#  Valid aggregation  values are 'count', 'sum', 'min', 'max', 'mean', 'std', 'percentile', 'unique','median', 'var'\n",
    "tdf_count.groupby('bedrooms').agg(['count','min'])"
   ]
  },
  {
   "cell_type": "markdown",
   "metadata": {},
   "source": [
    "<p style = 'font-size:16px;font-family:Arial'>The output shows the grouping by bedrooms.It showcases the count of all the properties with the specific number of bathrooms and the count and minimum of bathrooms</p>"
   ]
  },
  {
   "cell_type": "markdown",
   "metadata": {},
   "source": [
    "<hr>\n",
    "<b style = 'font-size:18px;font-family:Arial;color:#E37C4D'>Transformations</b>\n",
    "<p style = 'font-size:16px;font-family:Arial'>Assign method can be used to create new columns as the result of an expression.</p>"
   ]
  },
  {
   "cell_type": "code",
   "execution_count": null,
   "metadata": {},
   "outputs": [],
   "source": [
    "# As with Pandas, the method call returns an object of teradataml DataFrame\n",
    "# Use self-assignment to create the column in the existing dataframe if desired:\n",
    "\n",
    "tdf.assign(price_per_bed = tdf['price'] / tdf['bedrooms'])"
   ]
  },
  {
   "cell_type": "markdown",
   "metadata": {},
   "source": [
    "<p style = 'font-size:16px;font-family:Arial'>Please scroll to the right most column to check the calculated column.</p>"
   ]
  },
  {
   "cell_type": "markdown",
   "metadata": {},
   "source": [
    "<hr>\n",
    "<b style = 'font-size:18px;font-family:Arial;color:#E37C4D'>SQL Functions</b>\n",
    "<p style = 'font-size:16px;font-family:Arial'>teradataml supports the following categories of SQL functions with SQLAlchemy extension:</p>\n",
    "<ul style = 'font-size:16px;font-family:Arial'>\n",
    "    <li>Aggregate Functions :-  Avg, Corr, Count, Covar_pop, Covar_samp etc. (total 23 functions)</li>\n",
    "    <li>Arithmetic, Hyperbolic and Trigonometric Functions :- ABS, CASE_N, CEIL, DEGREES, RADIANS etc. (total 32 functions)</li>\n",
    "<li>Bit Byte Manipulation Functions :- BITAND/OR/NOT/XOR, COUNTSET, GETBIT, ROTATELEFT, SETBIT etc (total 13 functions)</li>\n",
    "<li>Built-In Functions :- CURRENT_DATE, CURRENT_TIME, CURRENT_TIMESTAMP</li>\n",
    "<li>Hash Related Functions :- HASHAMP, HASHBAKAMP, HASHBUCKET, HASHROW</li>\n",
    "<li>Regular Expression Functions :- REGEXP_SUBSTR, REGEXP_REPLACE, REGEXP_INSTR, REGEXP_SIMILAR</li>\n",
    "<li>String Functions :- ASCII, CHAR2HEXINT, CHR, CONCAT, EDITDISTANCE etc (total 27 functions)</li>\n",
    "<li>Window Aggregate Functions :- CSUM, CUME_DIST, DENSE_RANK, FIRST_VALUE, LAST_VALUE etc.(total 18 functions)</li>\n",
    "</ul>\n",
    "\n",
    "<p style = 'font-size:16px;font-family:Arial'><a href = 'https://docs.teradata.com/r/Teradata-Package-for-Python-User-Guide/November-2021/teradataml-Extension-with-SQLAlchemy/Accessing-Vantage-SQL-Functions/Supported-SQL-Functions' >SQL Functions</a></p>\n"
   ]
  },
  {
   "cell_type": "code",
   "execution_count": null,
   "metadata": {},
   "outputs": [],
   "source": [
    "# Pearson Correlation Coefficient - in this example, for our data set,\n",
    "# what's the correlation between price and square footage?\n",
    "\n",
    "corr_func = func.corr(tdf['price'].expression, tdf['sqft_living'].expression)\n",
    "\n",
    "\n",
    "#Setting drop_columns = True here\n",
    "df_corr = tdf.assign(drop_columns = True, corr_ = corr_func)\n",
    "\n",
    "print(df_corr)"
   ]
  },
  {
   "cell_type": "markdown",
   "metadata": {},
   "source": [
    "<p style = 'font-size:16px;font-family:Arial'>Returns the Sample Pearson product moment correlation coefficient of its arguments for all non-null data point pairs. Here we are finding the correlation coefficient between price and square footage. </p>"
   ]
  },
  {
   "cell_type": "markdown",
   "metadata": {},
   "source": [
    "<hr>\n",
    "<b style = 'font-size:18px;font-family:Arial;color:#E37C4D'>Joins</b>\n",
    "<p style = 'font-size:16px;font-family:Arial'>Pandas-Style joins can be used to create SQL joins in Vantage</p>"
   ]
  },
  {
   "cell_type": "code",
   "execution_count": null,
   "metadata": {},
   "outputs": [],
   "source": [
    "# Create a new dataframe using a SQL statement\n",
    "\n",
    "qry = '''\n",
    "SELECT id,\n",
    "CASE \n",
    "    WHEN waterfront = 0 THEN 'no'\n",
    "    ELSE 'yes'\n",
    "END str_waterfront\n",
    "FROM \"TRNG_DataScienceExploration\".\"HOUSE_PRICES\"\n",
    "'''\n",
    "tdf_waterfront = DataFrame.from_query(qry)\n",
    "tdf_waterfront.head()"
   ]
  },
  {
   "cell_type": "markdown",
   "metadata": {},
   "source": [
    "<p style = 'font-size:16px;font-family:Arial'>The original dataframe (tdf) and the Dataframe created using the query above(tdf_waterfront) will be joined using the 'id' column. tdf_joined_data is the resultant dataframe.</p>"
   ]
  },
  {
   "cell_type": "code",
   "execution_count": null,
   "metadata": {},
   "outputs": [],
   "source": [
    "#join these two dataframes together\n",
    "\n",
    "tdf_joined_data = tdf.join(tdf_waterfront, on = 'id', how = 'left', rsuffix = '_r', lsuffix = '_l')\n",
    "tdf_joined_data.head()"
   ]
  },
  {
   "cell_type": "markdown",
   "metadata": {},
   "source": [
    "<hr>\n",
    "<b style = 'font-size:18px;font-family:Arial;color:#E37C4D'>Bring the data to the client - Pandas</b>\n",
    "<p style = 'font-size:16px;font-family:Arial'>The to_pandas() function creates a pandas DataFrame from a teradataml DataFrame. This method will selectively retrieve data to the client</p>"
   ]
  },
  {
   "cell_type": "code",
   "execution_count": null,
   "metadata": {
    "tags": []
   },
   "outputs": [],
   "source": [
    "df = tdf_joined_data.to_pandas(all_rows = True)"
   ]
  },
  {
   "cell_type": "code",
   "execution_count": null,
   "metadata": {},
   "outputs": [],
   "source": [
    "tdf_joined_data.head()"
   ]
  },
  {
   "cell_type": "code",
   "execution_count": null,
   "metadata": {},
   "outputs": [],
   "source": [
    "tdf_joined_data.groupby('bedrooms').agg({'_l_id': 'count', 'price': 'sum'})"
   ]
  },
  {
   "cell_type": "code",
   "execution_count": null,
   "metadata": {},
   "outputs": [],
   "source": [
    "df['price'].plot(kind = 'hist', bins = 10)"
   ]
  },
  {
   "cell_type": "markdown",
   "metadata": {},
   "source": [
    "<hr>\n",
    "<b style = 'font-size:18px;font-family:Arial;color:#E37C4D'>Cleanup</b>\n",
    "<p style = 'font-size:16px;font-family:Arial'>It is a good practice to remove the context that we created to connect to Vantage. The remove_context function removes the current context associated with the Vantage connection.remove_context() not only closes the connection but also garbage collects the intermediate views and tables created by teradataml. Teradata recommends calling remove_context() to end a session, so that intermediate views and tables created by teradataml are garbage collected.</p>"
   ]
  },
  {
   "cell_type": "code",
   "execution_count": null,
   "metadata": {},
   "outputs": [],
   "source": [
    "remove_context()"
   ]
  },
  {
   "cell_type": "markdown",
   "metadata": {},
   "source": [
    "<footer style=\"padding:10px;background:#f9f9f9;border-bottom:3px solid #394851\">©2023 Teradata. All Rights Reserved</footer>"
   ]
  }
 ],
 "metadata": {
  "kernelspec": {
   "display_name": "Python 3 (ipykernel)",
   "language": "python",
   "name": "python3"
  },
  "language_info": {
   "codemirror_mode": {
    "name": "ipython",
    "version": 3
   },
   "file_extension": ".py",
   "mimetype": "text/x-python",
   "name": "python",
   "nbconvert_exporter": "python",
   "pygments_lexer": "ipython3",
   "version": "3.9.10"
  }
 },
 "nbformat": 4,
 "nbformat_minor": 4
}
