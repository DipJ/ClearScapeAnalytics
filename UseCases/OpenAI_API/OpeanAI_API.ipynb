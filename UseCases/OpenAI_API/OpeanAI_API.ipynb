{
 "cells": [
  {
   "cell_type": "markdown",
   "id": "02b97be7-ddf4-4faa-aabe-d84a5fa8912d",
   "metadata": {},
   "source": [
    "<header style=\"padding:1px;background:#f9f9f9;border-top:3px solid #00b2b1\"><img id=\"Teradata-logo\" src=\"https://www.teradata.com/Teradata/Images/Rebrand/Teradata_logo-two_color.png\" alt=\"Teradata\" width=\"220\" align=\"right\" />\n",
    "\n",
    "<b style = 'font-size:28px;font-family:Arial;color:#E37C4D'>Using ClearScape Analytics with OpenAI</b>\n",
    "</header>\n",
    "\n",
    "\n",
    "<p style = 'font-size:20px;font-family:Arial;color:#E37C4D'><b>Introduction</b></p>"
   ]
  },
  {
   "cell_type": "markdown",
   "id": "3a023502-94ef-441b-8a45-616c3fa4a811",
   "metadata": {},
   "source": [
    "<p style = 'font-size:16px;font-family:Arial'>The OpenAI API, a powerful tool that enables developers to integrate the capabilities of the OpenAI language models into their own applications, products, or services. The OpenAI API allows you to leverage the state-of-the-art natural language processing capabilities of the GPT-3.5 language model, enabling you to create a wide range of intelligent and interactive experiences.\n",
    "</p>\n",
    "\n",
    "<p style = 'font-size:16px;font-family:Arial'>By accessing the OpenAI API, you gain the ability to generate human-like text, answer questions, create conversational agents, perform language translation, assist in writing code, draft emails, write articles, and much more. The API provides a straightforward interface for making requests and receiving responses from the language model, making it easy to incorporate its advanced language capabilities into your own projects.</p>"
   ]
  },
  {
   "cell_type": "markdown",
   "id": "6450ff70-9f69-4406-b2f0-f8f372d9c4f2",
   "metadata": {},
   "source": [
    "<center><img src=\"images/openai_header.png\" alt=\"Generative_QA_architecture\"  width=800 height=800/></center>"
   ]
  },
  {
   "cell_type": "markdown",
   "id": "666f279a-71cb-4063-9d3d-dde5ff05b952",
   "metadata": {},
   "source": [
    "<p style = 'font-size:20px;font-family:Arial;color:#E37C4D'><b>How to Setup OpenAI account and get the API Key</b></p>\n",
    "<p style = 'font-size:16px;font-family:Arial;color:#E37C4D'><b>Steps to setup the account:</b></p>\n",
    "\n",
    "<ol style = 'font-size:16px;font-family:Arial'>\n",
    "<li>Go to the OpenAI website: <a href=\"https://beta.openai.com/signup\">openai.com</a>.</li>\n",
    "<li>Click on the \"Sign up\" button.</li>\n",
    "<li>Enter your email address and password.</li>\n",
    "<li>Click on the \"Create account\" button.</li>\n",
    "<li>You will be sent a verification email. Open the email and click on the verification link.</li>\n",
    "<li>Once your account is verified, you will be logged in.</li>\n",
    "<li>Click on your profile picture in the top right corner of the page.</li>\n",
    "<li>Select \"API Keys\" from the dropdown menu.</li>\n",
    "<li>Click on the \"Create new secret key\" button.</li>\n",
    "<li>.Give your key a name.</li>\n",
    "<li>.Click on the \"Create\" button.</li>\n",
    "<li>.Your API key will be displayed. Click on the \"Copy\" button to copy it to your clipboard.</li>\n",
    "<li>.Save your API key in a safe place. You will need it to access the OpenAI API.</li>   \n",
    "</ol>\n"
   ]
  },
  {
   "cell_type": "markdown",
   "id": "971d9662-caf6-40d9-8c19-ac88cc056708",
   "metadata": {},
   "source": [
    "<p style = 'font-size:16px;font-family:Arial'>Once you login, you will see below screen</p>\n",
    "<center><img src=\"images/img1.png\" alt=\"Generative_QA_architecture\"  width=800 height=800/></center>"
   ]
  },
  {
   "cell_type": "markdown",
   "id": "4abc6dbd-806d-4e9c-b66f-6a256a51f728",
   "metadata": {},
   "source": [
    "<p style = 'font-size:16px;font-family:Arial'>Click on API and you will see all the OpenAI offered services. Click on profile icon in the top right corner</p>\n",
    "<center><img src=\"images/img2.png\" alt=\"Generative_QA_architecture\"  width=800 height=800/></center>"
   ]
  },
  {
   "cell_type": "markdown",
   "id": "b04b0a90-7220-41a7-8eda-47511166087e",
   "metadata": {},
   "source": [
    "<p style = 'font-size:16px;font-family:Arial'>Click on View API keys. There will be one default key</p>\n",
    "<center><img src=\"images/img3.png\" alt=\"Generative_QA_architecture\"  width=800 height=800/></center>"
   ]
  },
  {
   "cell_type": "markdown",
   "id": "d1ad299d-4834-4d5e-96dd-5d1b65d26b56",
   "metadata": {},
   "source": [
    "<p style = 'font-size:16px;font-family:Arial'>Click on Billing to setup paid account</p>\n",
    "<center><img src=\"images/img4.png\" alt=\"Generative_QA_architecture\"  width=800 height=800/></center>"
   ]
  },
  {
   "cell_type": "markdown",
   "id": "3276470f-6eb4-4dee-acc1-b4bb5679dd7f",
   "metadata": {},
   "source": [
    "<p style = 'font-size:16px;font-family:Arial'>Choose the option</p>\n",
    "<center><img src=\"images/img5.png\" alt=\"Generative_QA_architecture\"  width=800 height=800/></center>"
   ]
  },
  {
   "cell_type": "markdown",
   "id": "c6155b44-4f92-425f-9574-eeb40cfc25e0",
   "metadata": {},
   "source": [
    "<p style = 'font-size:16px;font-family:Arial'>Fill out the personal and account detials.</p>\n",
    "<center><img src=\"images/img6.png\" alt=\"Generative_QA_architecture\"  width=800 height=800/></center>"
   ]
  },
  {
   "cell_type": "markdown",
   "id": "f85f4326-ecaa-401a-875f-745a057589d9",
   "metadata": {},
   "source": [
    "<p style = 'font-size:16px;font-family:Arial'>Now, Click on Create new secret key to generate the new key</p>\n",
    "<center><img src=\"images/img7.png\" alt=\"Generative_QA_architecture\"  width=800 height=800/></center>"
   ]
  },
  {
   "cell_type": "markdown",
   "id": "1e8e8ce0-294b-47be-9b83-3b98de85da0c",
   "metadata": {},
   "source": [
    "<p style = 'font-size:16px;font-family:Arial'>You have to specify key name. It can be anything you want.</p>\n",
    "<center><img src=\"images/img8.png\" alt=\"Generative_QA_architecture\"  width=800 height=800/></center>"
   ]
  },
  {
   "cell_type": "markdown",
   "id": "3fed1227-adc3-4838-9218-5aa3718cd03e",
   "metadata": {},
   "source": [
    "<p style = 'font-size:16px;font-family:Arial'>Click on the copy icon and paste it first before click on done. Please save this secret key somewhere safe and accessible. For security reasons, you won't be able to view it again through your OpenAI account. If you lose this secret key, you'll need to generate a new one.</p>\n",
    "<center><img src=\"images/img9.png\" alt=\"Generative_QA_architecture\"  width=800 height=800/></center>"
   ]
  },
  {
   "cell_type": "markdown",
   "id": "0d0463ae-1df4-4c38-bcf9-cf5b54fb2381",
   "metadata": {},
   "source": [
    "Thank you"
   ]
  },
  {
   "cell_type": "markdown",
   "id": "af481695-9e66-4686-acc6-c909a91b784b",
   "metadata": {},
   "source": [
    "<footer style=\"padding:10px;background:#f9f9f9;border-bottom:3px solid #394851\">Copyright © Teradata Corporation - 2023. All Rights Reserved.</footer>"
   ]
  }
 ],
 "metadata": {
  "kernelspec": {
   "display_name": "Teradata SQL",
   "language": "Teradata SQL",
   "name": "teradatasql"
  },
  "language_info": {
   "codemirror_mode": "Teradata SQL",
   "file_extension": ".tdrs",
   "mimetype": "application/vnd.teradata.resultset",
   "name": "Teradata SQL",
   "nbconvert_exporter": "",
   "pygments_lexer": "",
   "version": "16.20"
  }
 },
 "nbformat": 4,
 "nbformat_minor": 5
}
