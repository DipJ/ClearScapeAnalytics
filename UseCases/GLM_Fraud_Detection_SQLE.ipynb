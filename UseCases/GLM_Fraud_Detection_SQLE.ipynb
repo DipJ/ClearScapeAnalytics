{
 "cells": [
  {
   "cell_type": "markdown",
   "metadata": {},
   "source": [
    "<header style=\"padding:1px;background:#f9f9f9;border-top:3px solid #00b2b1\"><img id=\"Teradata-logo\" src=\"https://www.teradata.com/Teradata/Images/Rebrand/Teradata_logo-two_color.png\" alt=\"Teradata\" width=\"220\" align=\"right\" />\n",
    "\n",
    "<b style = 'font-size:28px;font-family:Arial;color:#E37C4D'>GLM Fraud Detection with Python and Teradata SQL Engine Scoring</b>\n",
    "</header>"
   ]
  },
  {
   "cell_type": "markdown",
   "metadata": {},
   "source": [
    "<p style = 'font-size:16px;font-family:Arial'><b>Links:</b></p>\n",
    "<ul style = 'font-size:16px;font-family:Arial'>\n",
    "    <li>Does <b>not</b> require the ML/Graph nodes.</li>\n",
    "    <li>Uses a Data set and feature discovery methods outlined here: <a href = 'https://www.kaggle.com/georgepothur/4-financial-fraud-detection-xgboost/notebook'>https://www.kaggle.com/georgepothur/4-financial-fraud-detection-xgboost/notebook</a></li>\n",
    "    <li>GLM model db schema, examples follow: <a href = 'https://docs.teradata.com/reader/Tk6W9zbo2NHGakhfyvWmmw/ZYRKb52wVxp54YMOBey51w'>https://docs.teradata.com/reader/Tk6W9zbo2NHGakhfyvWmmw/ZYRKb52wVxp54YMOBey51w</a></li>\n",
    "    <li>Python Package User Guide: <a href = 'https://docs.teradata.com/reader/eteIDCTX4O4IMvazRMypxQ/uDjppX7PJInABCckgu~KFg'>https://docs.teradata.com/reader/eteIDCTX4O4IMvazRMypxQ/uDjppX7PJInABCckgu~KFg</a></li>\n",
    "    <li>Teradataml Python reference: <a href = 'https://docs.teradata.com/reader/GsM0pYRZl5Plqjdf9ixmdA/MzdO1q_t80M47qY5lyImOA'>https://docs.teradata.com/reader/GsM0pYRZl5Plqjdf9ixmdA/MzdO1q_t80M47qY5lyImOA</a></li>\n",
    "</ul>\n",
    "\n",
    "<p style = 'font-size:16px;font-family:Arial'><b>Contents</b></p>\n",
    "<ol style = 'font-size:16px;font-family:Arial'>\n",
    "    <li>Configuring the environment</li>\n",
    "    <li>Initiate a connection to Vantage</li>\n",
    "    <li>Read the data from Vantage as a teradaml Dataframe</li>\n",
    "    <li>Perform discovery on the data and analyze features</li>\n",
    "    <li>Clean up the dataset</li>\n",
    "    <li>Create training and testing datasets in Vantage</li>\n",
    "    <li>Create a GLM model locally and train it (<a href = 'https://www.statsmodels.org/dev/api.html#statsmodels-formula-api'>https://www.statsmodels.org/dev/api.html#statsmodels-formula-api</a>)</li>\n",
    "    <li>Load trained GLM Model into Vantage</li>\n",
    "    <li>Score the model directly in Vantage</li>\n",
    "    <li>Visualize the results (ROC curve and AUC)</li>\n",
    "    <li>Cleanup</li>\n",
    "</ol>    "
   ]
  },
  {
   "cell_type": "markdown",
   "metadata": {},
   "source": [
    "<p style = 'font-size:18px;font-family:Arial;color:#E37C4D'><b>Experience</b></p>\n",
    "\n",
    "<p style = 'font-size:16px;font-family:Arial'>This demo takes about 5 minutes to run.</p>"
   ]
  },
  {
   "cell_type": "markdown",
   "metadata": {},
   "source": [
    "<hr>\n",
    "<b style = 'font-size:28px;font-family:Arial;color:#E37C4D'>1. Configuring the Environment</b>\n",
    "<p style = 'font-size:16px;font-family:Arial'>In the section, we import the required libraries and set environment variables and environment paths (if required).</p>"
   ]
  },
  {
   "cell_type": "code",
   "execution_count": 1,
   "metadata": {},
   "outputs": [],
   "source": [
    "import pandas as pd\n",
    "import numpy as np\n",
    "\n",
    "from teradataml.dataframe.dataframe import DataFrame\n",
    "from teradataml.dataframe.copy_to import copy_to_sql\n",
    "from teradataml.dataframe.fastload import fastload\n",
    "from teradataml.dataframe.dataframe import in_schema\n",
    "from teradataml.context.context import create_context, remove_context\n",
    "from teradataml.options.display import display\n",
    "from teradataml.analytics.sqle.GLMPredict import GLMPredict\n",
    "\n",
    "import tdconnect\n",
    "\n",
    "from teradatasqlalchemy.types import *\n",
    "\n",
    "from sklearn.metrics import mean_absolute_error\n",
    "from sklearn.metrics import roc_auc_score\n",
    "from sklearn.metrics import roc_curve\n",
    "import statsmodels.api as sm\n",
    "import statsmodels.formula.api as smf\n",
    "\n",
    "\n",
    "import json\n",
    "import getpass\n",
    "import matplotlib.pyplot as plt\n",
    "import warnings\n",
    "import os\n",
    "\n",
    "warnings.filterwarnings(\"ignore\")\n",
    "%matplotlib inline "
   ]
  },
  {
   "cell_type": "markdown",
   "metadata": {},
   "source": [
    "<hr>\n",
    "<b style = 'font-size:28px;font-family:Arial;color:#E37C4D'>2. Initiate a connection to Vantage</b>\n",
    "\n",
    "<p style = 'font-size:18px;font-family:Arial;color:#E37C4D'><b>Make changes for your execution</b></p>\n",
    "\n",
    "<p style = 'font-size:16px;font-family:Arial'>The Jupyter Module for Teradata provides a helper library called tdconnect - this can use the underlying client configs and pass a JWT token for SSO. Establish connection to Teradata Vantage server (uses the Teradata SQL Driver for Python). Before you execute the following statement, replace the variables &ltHOSTNAME&gt, &ltUID&gt and &ltPWD&gt with your target Vantage system hostname (or IP address), and your database user ID(QLID) and password, respectively.</p>\n",
    "    \n",
    "<p style = 'font-size:14px;font-family:Arial'>td_context = create_context(host=\"tdprdX.td.teradata.com\", username=\"xy123456\", password=gp.getpass(prompt='Password:'), logmech=\"LDAP\")</p>\n",
    "<hr>"
   ]
  },
  {
   "cell_type": "code",
   "execution_count": 2,
   "metadata": {},
   "outputs": [
    {
     "name": "stdout",
     "output_type": "stream",
     "text": [
      "Engine(teradatasql://tdprd3.td.teradata.com/?LOGDATA=***&LOGMECH=***)\n"
     ]
    }
   ],
   "source": [
    "eng = tdconnect.create_context('Vantage-LIVE')\n",
    "print(eng)"
   ]
  },
  {
   "cell_type": "markdown",
   "metadata": {},
   "source": [
    "<hr>\n",
    "<b style = 'font-size:28px;font-family:Arial;color:#E37C4D'>3. Read the data from Vantage as a teradaml Dataframe</b>\n",
    "<p style = 'font-size:16px;font-family:Arial'>The data from <a href = 'https://www.kaggle.com/code/georgepothur/4-financial-fraud-detection-xgboost/data'>https://www.kaggle.com/code/georgepothur/4-financial-fraud-detection-xgboost/data</a> is loaded in Vantage in a table named \"ip_data\". Check the data size and print sample rows. 600k rows and 11 columns.</p>"
   ]
  },
  {
   "cell_type": "code",
   "execution_count": 3,
   "metadata": {},
   "outputs": [
    {
     "name": "stdout",
     "output_type": "stream",
     "text": [
      "(636262, 12)\n"
     ]
    },
    {
     "data": {
      "text/html": [
       "<div>\n",
       "<style scoped>\n",
       "    .dataframe tbody tr th:only-of-type {\n",
       "        vertical-align: middle;\n",
       "    }\n",
       "\n",
       "    .dataframe tbody tr th {\n",
       "        vertical-align: top;\n",
       "    }\n",
       "\n",
       "    .dataframe thead th {\n",
       "        text-align: right;\n",
       "    }\n",
       "</style>\n",
       "<table border=\"1\" class=\"dataframe\">\n",
       "  <thead>\n",
       "    <tr style=\"text-align: right;\">\n",
       "      <th></th>\n",
       "      <th>step</th>\n",
       "      <th>type</th>\n",
       "      <th>amount</th>\n",
       "      <th>nameOrig</th>\n",
       "      <th>oldbalanceOrg</th>\n",
       "      <th>newbalanceOrig</th>\n",
       "      <th>nameDest</th>\n",
       "      <th>oldbalanceDest</th>\n",
       "      <th>newbalanceDest</th>\n",
       "      <th>isFraud</th>\n",
       "      <th>isFlaggedFraud</th>\n",
       "    </tr>\n",
       "    <tr>\n",
       "      <th>txn_id</th>\n",
       "      <th></th>\n",
       "      <th></th>\n",
       "      <th></th>\n",
       "      <th></th>\n",
       "      <th></th>\n",
       "      <th></th>\n",
       "      <th></th>\n",
       "      <th></th>\n",
       "      <th></th>\n",
       "      <th></th>\n",
       "      <th></th>\n",
       "    </tr>\n",
       "  </thead>\n",
       "  <tbody>\n",
       "    <tr>\n",
       "      <th>195944</th>\n",
       "      <td>207</td>\n",
       "      <td>PAYMENT</td>\n",
       "      <td>5948.11</td>\n",
       "      <td>C1369077990</td>\n",
       "      <td>100541.00</td>\n",
       "      <td>94592.89</td>\n",
       "      <td>M1924436092</td>\n",
       "      <td>0.00</td>\n",
       "      <td>0.00</td>\n",
       "      <td>0</td>\n",
       "      <td>0</td>\n",
       "    </tr>\n",
       "    <tr>\n",
       "      <th>245054</th>\n",
       "      <td>324</td>\n",
       "      <td>CASH_IN</td>\n",
       "      <td>382950.56</td>\n",
       "      <td>C1368932965</td>\n",
       "      <td>208650.67</td>\n",
       "      <td>591601.23</td>\n",
       "      <td>C1120267</td>\n",
       "      <td>2858564.08</td>\n",
       "      <td>2475613.52</td>\n",
       "      <td>0</td>\n",
       "      <td>0</td>\n",
       "    </tr>\n",
       "    <tr>\n",
       "      <th>145607</th>\n",
       "      <td>168</td>\n",
       "      <td>PAYMENT</td>\n",
       "      <td>4442.94</td>\n",
       "      <td>C922861244</td>\n",
       "      <td>13476.00</td>\n",
       "      <td>9033.06</td>\n",
       "      <td>M1411794580</td>\n",
       "      <td>0.00</td>\n",
       "      <td>0.00</td>\n",
       "      <td>0</td>\n",
       "      <td>0</td>\n",
       "    </tr>\n",
       "    <tr>\n",
       "      <th>213346</th>\n",
       "      <td>208</td>\n",
       "      <td>CASH_OUT</td>\n",
       "      <td>183423.30</td>\n",
       "      <td>C316779729</td>\n",
       "      <td>10366.00</td>\n",
       "      <td>0.00</td>\n",
       "      <td>C1257375589</td>\n",
       "      <td>0.00</td>\n",
       "      <td>183423.30</td>\n",
       "      <td>0</td>\n",
       "      <td>0</td>\n",
       "    </tr>\n",
       "    <tr>\n",
       "      <th>427054</th>\n",
       "      <td>235</td>\n",
       "      <td>PAYMENT</td>\n",
       "      <td>4371.13</td>\n",
       "      <td>C2036076225</td>\n",
       "      <td>166144.55</td>\n",
       "      <td>161773.42</td>\n",
       "      <td>M2063871792</td>\n",
       "      <td>0.00</td>\n",
       "      <td>0.00</td>\n",
       "      <td>0</td>\n",
       "      <td>0</td>\n",
       "    </tr>\n",
       "  </tbody>\n",
       "</table>\n",
       "</div>"
      ],
      "text/plain": [
       "        step      type     amount     nameOrig  oldbalanceOrg  newbalanceOrig  \\\n",
       "txn_id                                                                          \n",
       "195944   207   PAYMENT    5948.11  C1369077990      100541.00        94592.89   \n",
       "245054   324   CASH_IN  382950.56  C1368932965      208650.67       591601.23   \n",
       "145607   168   PAYMENT    4442.94   C922861244       13476.00         9033.06   \n",
       "213346   208  CASH_OUT  183423.30   C316779729       10366.00            0.00   \n",
       "427054   235   PAYMENT    4371.13  C2036076225      166144.55       161773.42   \n",
       "\n",
       "           nameDest  oldbalanceDest  newbalanceDest  isFraud  isFlaggedFraud  \n",
       "txn_id                                                                        \n",
       "195944  M1924436092            0.00            0.00        0               0  \n",
       "245054     C1120267      2858564.08      2475613.52        0               0  \n",
       "145607  M1411794580            0.00            0.00        0               0  \n",
       "213346  C1257375589            0.00       183423.30        0               0  \n",
       "427054  M2063871792            0.00            0.00        0               0  "
      ]
     },
     "execution_count": 3,
     "metadata": {},
     "output_type": "execute_result"
    }
   ],
   "source": [
    "ip_data = DataFrame('ip_data')\n",
    "\n",
    "print(ip_data.shape)\n",
    "ip_data.to_pandas(num_rows = 5).head()"
   ]
  },
  {
   "cell_type": "markdown",
   "metadata": {},
   "source": [
    "<p style = 'font-size:18px;font-family:Arial;color:#E37C4D'><b>In-database data manipulation</b></p>\n",
    "<p style = 'font-size:16px;font-family:Arial'>Example of an in-database manipulation of data. Here we rename a misspelt column without moving the data out of Vantage. We are renaming <b>oldbalanceOrg</b> to <b>oldbalanceOrig</b></p>"
   ]
  },
  {
   "cell_type": "code",
   "execution_count": 4,
   "metadata": {},
   "outputs": [
    {
     "data": {
      "text/html": [
       "<div>\n",
       "<style scoped>\n",
       "    .dataframe tbody tr th:only-of-type {\n",
       "        vertical-align: middle;\n",
       "    }\n",
       "\n",
       "    .dataframe tbody tr th {\n",
       "        vertical-align: top;\n",
       "    }\n",
       "\n",
       "    .dataframe thead th {\n",
       "        text-align: right;\n",
       "    }\n",
       "</style>\n",
       "<table border=\"1\" class=\"dataframe\">\n",
       "  <thead>\n",
       "    <tr style=\"text-align: right;\">\n",
       "      <th></th>\n",
       "      <th>step</th>\n",
       "      <th>type</th>\n",
       "      <th>amount</th>\n",
       "      <th>nameOrig</th>\n",
       "      <th>newbalanceOrig</th>\n",
       "      <th>nameDest</th>\n",
       "      <th>oldbalanceDest</th>\n",
       "      <th>newbalanceDest</th>\n",
       "      <th>isFraud</th>\n",
       "      <th>isFlaggedFraud</th>\n",
       "      <th>oldbalanceOrig</th>\n",
       "    </tr>\n",
       "    <tr>\n",
       "      <th>txn_id</th>\n",
       "      <th></th>\n",
       "      <th></th>\n",
       "      <th></th>\n",
       "      <th></th>\n",
       "      <th></th>\n",
       "      <th></th>\n",
       "      <th></th>\n",
       "      <th></th>\n",
       "      <th></th>\n",
       "      <th></th>\n",
       "      <th></th>\n",
       "    </tr>\n",
       "  </thead>\n",
       "  <tbody>\n",
       "    <tr>\n",
       "      <th>387475</th>\n",
       "      <td>155</td>\n",
       "      <td>PAYMENT</td>\n",
       "      <td>3320.65</td>\n",
       "      <td>C1821442709</td>\n",
       "      <td>0.00</td>\n",
       "      <td>M946955521</td>\n",
       "      <td>0.0</td>\n",
       "      <td>0.00</td>\n",
       "      <td>0</td>\n",
       "      <td>0</td>\n",
       "      <td>0.00</td>\n",
       "    </tr>\n",
       "    <tr>\n",
       "      <th>126810</th>\n",
       "      <td>178</td>\n",
       "      <td>PAYMENT</td>\n",
       "      <td>2189.11</td>\n",
       "      <td>C111022525</td>\n",
       "      <td>0.00</td>\n",
       "      <td>M1766054886</td>\n",
       "      <td>0.0</td>\n",
       "      <td>0.00</td>\n",
       "      <td>0</td>\n",
       "      <td>0</td>\n",
       "      <td>0.00</td>\n",
       "    </tr>\n",
       "    <tr>\n",
       "      <th>485011</th>\n",
       "      <td>15</td>\n",
       "      <td>CASH_OUT</td>\n",
       "      <td>340846.37</td>\n",
       "      <td>C1938792548</td>\n",
       "      <td>0.00</td>\n",
       "      <td>C569043506</td>\n",
       "      <td>0.0</td>\n",
       "      <td>340846.37</td>\n",
       "      <td>0</td>\n",
       "      <td>0</td>\n",
       "      <td>103919.00</td>\n",
       "    </tr>\n",
       "    <tr>\n",
       "      <th>253893</th>\n",
       "      <td>302</td>\n",
       "      <td>PAYMENT</td>\n",
       "      <td>13675.48</td>\n",
       "      <td>C1209692350</td>\n",
       "      <td>168743.53</td>\n",
       "      <td>M1761866279</td>\n",
       "      <td>0.0</td>\n",
       "      <td>0.00</td>\n",
       "      <td>0</td>\n",
       "      <td>0</td>\n",
       "      <td>182419.01</td>\n",
       "    </tr>\n",
       "    <tr>\n",
       "      <th>210994</th>\n",
       "      <td>323</td>\n",
       "      <td>PAYMENT</td>\n",
       "      <td>2229.80</td>\n",
       "      <td>C520148855</td>\n",
       "      <td>0.00</td>\n",
       "      <td>M637299459</td>\n",
       "      <td>0.0</td>\n",
       "      <td>0.00</td>\n",
       "      <td>0</td>\n",
       "      <td>0</td>\n",
       "      <td>127.00</td>\n",
       "    </tr>\n",
       "  </tbody>\n",
       "</table>\n",
       "</div>"
      ],
      "text/plain": [
       "        step      type     amount     nameOrig  newbalanceOrig     nameDest  \\\n",
       "txn_id                                                                        \n",
       "387475   155   PAYMENT    3320.65  C1821442709            0.00   M946955521   \n",
       "126810   178   PAYMENT    2189.11   C111022525            0.00  M1766054886   \n",
       "485011    15  CASH_OUT  340846.37  C1938792548            0.00   C569043506   \n",
       "253893   302   PAYMENT   13675.48  C1209692350       168743.53  M1761866279   \n",
       "210994   323   PAYMENT    2229.80   C520148855            0.00   M637299459   \n",
       "\n",
       "        oldbalanceDest  newbalanceDest  isFraud  isFlaggedFraud  \\\n",
       "txn_id                                                            \n",
       "387475             0.0            0.00        0               0   \n",
       "126810             0.0            0.00        0               0   \n",
       "485011             0.0       340846.37        0               0   \n",
       "253893             0.0            0.00        0               0   \n",
       "210994             0.0            0.00        0               0   \n",
       "\n",
       "        oldbalanceOrig  \n",
       "txn_id                  \n",
       "387475            0.00  \n",
       "126810            0.00  \n",
       "485011       103919.00  \n",
       "253893       182419.01  \n",
       "210994          127.00  "
      ]
     },
     "execution_count": 4,
     "metadata": {},
     "output_type": "execute_result"
    }
   ],
   "source": [
    "new_data = ip_data.assign(oldbalanceOrig = ip_data.oldbalanceOrg).drop(['oldbalanceOrg'] , axis=1)\n",
    "\n",
    "new_data.to_pandas(num_rows = 5).head()"
   ]
  },
  {
   "cell_type": "markdown",
   "metadata": {},
   "source": [
    "<p style = 'font-size:16px;font-family:Arial'><b>Data Fields</b></p>\n",
    "<ol style = 'font-size:16px;font-family:Arial'>\n",
    "    <li><b>txn_id:</b> transaction-id</li>\n",
    "    <li><b>step:</b> maps a unit of time in the real world. In this case 1 step is 1 hour of time. Total steps 744 (31 days simulation).</li>\n",
    "    <li><b>type:</b> CASH-IN, CASH-OUT, DEBIT, PAYMENT and TRANSFER.</li>\n",
    "    <li><b>amount:</b> amount of the transaction in local currency.</li>\n",
    "    <li><b>nameOrig:</b> customer who started the transaction</li>\n",
    "    <li><b>oldbalanceOrg:</b> initial balance before the transaction</li>\n",
    "    <li><b>newbalanceOrig:</b> new balance after the transaction</li>\n",
    "    <li><b>nameDest:</b> customer who is the recipient of the transaction</li>\n",
    "    <li><b>oldbalanceDest:</b> initial balance recipient before the transaction.</li>\n",
    "    <li><b>newbalanceDest:</b> new balance recipient after the transaction.</li>\n",
    "    <li><b>isFraud:</b> This is the transactions made by the fraudulent agents inside the simulation. In this specific dataset the fraudulent behavior of the agents aims to profit by taking control or customers accounts and try to empty the funds by transferring to another account and then cashing out of the system.</li>\n",
    "</ol>"
   ]
  },
  {
   "cell_type": "markdown",
   "metadata": {},
   "source": [
    "<p style = 'font-size:18px;font-family:Arial;color:#E37C4D'><b>Check if any column has missing values</b></p>"
   ]
  },
  {
   "cell_type": "code",
   "execution_count": 5,
   "metadata": {},
   "outputs": [
    {
     "name": "stdout",
     "output_type": "stream",
     "text": [
      "<class 'teradataml.dataframe.dataframe.DataFrame'>\n",
      "Data columns (total 12 columns):\n",
      "step              636262 non-null int  \n",
      "type              636262 non-null str  \n",
      "amount            636262 non-null float\n",
      "nameOrig          636262 non-null str  \n",
      "newbalanceOrig    636262 non-null float\n",
      "nameDest          636262 non-null str  \n",
      "oldbalanceDest    636262 non-null float\n",
      "newbalanceDest    636262 non-null float\n",
      "isFraud           636262 non-null int  \n",
      "isFlaggedFraud    636262 non-null int  \n",
      "txn_id            636262 non-null int  \n",
      "oldbalanceOrig    636262 non-null float\n",
      "dtypes: float(5), str(3), int(4)\n"
     ]
    }
   ],
   "source": [
    "new_data.info(null_counts = True)"
   ]
  },
  {
   "cell_type": "markdown",
   "metadata": {},
   "source": [
    "<hr>\n",
    "<b style = 'font-size:28px;font-family:Arial;color:#E37C4D'>4. Perform discovery on the data and analyze features</b>"
   ]
  },
  {
   "cell_type": "markdown",
   "metadata": {},
   "source": [
    "<p style = 'font-size:16px;font-family:Arial'>The following section is an example of dataset analysis.  We're trying to see what features are most impactful and can be used to train our model. We also want to minimize the amount of data transferred to the client, and maximize the amount of work done on the cluster.</p>\n",
    "<br>\n",
    "<p style = 'font-size:18px;font-family:Arial;color:#E37C4D'><b>6 Million records -> 8,213 records -> 20/40 records.<br>Feel free to skip down to the next section for analysis and next steps</b></p>"
   ]
  },
  {
   "cell_type": "markdown",
   "metadata": {},
   "source": [
    "<hr>\n",
    "<p style = 'font-size:18px;font-family:Arial;color:#E37C4D'><b>4.1 Statitics of the dataset</b></p>"
   ]
  },
  {
   "cell_type": "code",
   "execution_count": 6,
   "metadata": {},
   "outputs": [
    {
     "data": {
      "text/html": [
       "<style type=\"text/css\">\n",
       "\ttable {border:ridge 5px;}\n",
       "\ttable td {border:inset 1px;}\n",
       "\ttable tr#HeaderRow {background-color:grey; color:white;}</style>\n",
       "<html><table>\n",
       "\t<tr id=\"HeaderRow\">\n",
       "\t\t<th>func</th>\n",
       "\t\t<th>step</th>\n",
       "\t\t<th>type</th>\n",
       "\t\t<th>amount</th>\n",
       "\t\t<th>nameOrig</th>\n",
       "\t\t<th>newbalanceOrig</th>\n",
       "\t\t<th>nameDest</th>\n",
       "\t\t<th>oldbalanceDest</th>\n",
       "\t\t<th>newbalanceDest</th>\n",
       "\t\t<th>isFraud</th>\n",
       "\t\t<th>isFlaggedFraud</th>\n",
       "\t\t<th>txn_id</th>\n",
       "\t\t<th>oldbalanceOrig</th>\n",
       "\t</tr>\n",
       "\t<tr>\n",
       "\t\t<td>min</td>\n",
       "\t\t<td>1</td>\n",
       "\t\t<td>None</td>\n",
       "\t\t<td>0</td>\n",
       "\t\t<td>None</td>\n",
       "\t\t<td>0</td>\n",
       "\t\t<td>None</td>\n",
       "\t\t<td>0</td>\n",
       "\t\t<td>0</td>\n",
       "\t\t<td>0</td>\n",
       "\t\t<td>0</td>\n",
       "\t\t<td>0</td>\n",
       "\t\t<td>0</td>\n",
       "\t</tr>\n",
       "\t<tr>\n",
       "\t\t<td>unique</td>\n",
       "\t\t<td>None</td>\n",
       "\t\t<td>5</td>\n",
       "\t\t<td>None</td>\n",
       "\t\t<td>636162</td>\n",
       "\t\t<td>None</td>\n",
       "\t\t<td>457254</td>\n",
       "\t\t<td>None</td>\n",
       "\t\t<td>None</td>\n",
       "\t\t<td>None</td>\n",
       "\t\t<td>None</td>\n",
       "\t\t<td>None</td>\n",
       "\t\t<td>None</td>\n",
       "\t</tr>\n",
       "\t<tr>\n",
       "\t\t<td>std</td>\n",
       "\t\t<td>142.464</td>\n",
       "\t\t<td>None</td>\n",
       "\t\t<td>616003.949</td>\n",
       "\t\t<td>None</td>\n",
       "\t\t<td>2907660.739</td>\n",
       "\t\t<td>None</td>\n",
       "\t\t<td>3421637.36</td>\n",
       "\t\t<td>3713377.782</td>\n",
       "\t\t<td>.037</td>\n",
       "\t\t<td>.002</td>\n",
       "\t\t<td>183673.163</td>\n",
       "\t\t<td>2872075.015</td>\n",
       "\t</tr>\n",
       "\t<tr>\n",
       "\t\t<td>25%</td>\n",
       "\t\t<td>156</td>\n",
       "\t\t<td>None</td>\n",
       "\t\t<td>13428.65</td>\n",
       "\t\t<td>None</td>\n",
       "\t\t<td>0</td>\n",
       "\t\t<td>None</td>\n",
       "\t\t<td>0</td>\n",
       "\t\t<td>0</td>\n",
       "\t\t<td>0</td>\n",
       "\t\t<td>0</td>\n",
       "\t\t<td>159065.25</td>\n",
       "\t\t<td>0</td>\n",
       "\t</tr>\n",
       "\t<tr>\n",
       "\t\t<td>75%</td>\n",
       "\t\t<td>335</td>\n",
       "\t\t<td>None</td>\n",
       "\t\t<td>208834.273</td>\n",
       "\t\t<td>None</td>\n",
       "\t\t<td>144082.96</td>\n",
       "\t\t<td>None</td>\n",
       "\t\t<td>948507.353</td>\n",
       "\t\t<td>1117308.023</td>\n",
       "\t\t<td>0</td>\n",
       "\t\t<td>0</td>\n",
       "\t\t<td>477195.75</td>\n",
       "\t\t<td>107369</td>\n",
       "\t</tr>\n",
       "\t<tr>\n",
       "\t\t<td>50%</td>\n",
       "\t\t<td>239</td>\n",
       "\t\t<td>None</td>\n",
       "\t\t<td>75001.58</td>\n",
       "\t\t<td>None</td>\n",
       "\t\t<td>0</td>\n",
       "\t\t<td>None</td>\n",
       "\t\t<td>133785.035</td>\n",
       "\t\t<td>216486.62</td>\n",
       "\t\t<td>0</td>\n",
       "\t\t<td>0</td>\n",
       "\t\t<td>318130.5</td>\n",
       "\t\t<td>14203.195</td>\n",
       "\t</tr>\n",
       "\t<tr>\n",
       "\t\t<td>max</td>\n",
       "\t\t<td>742</td>\n",
       "\t\t<td>None</td>\n",
       "\t\t<td>92445516.64</td>\n",
       "\t\t<td>None</td>\n",
       "\t\t<td>38259597.25</td>\n",
       "\t\t<td>None</td>\n",
       "\t\t<td>355185537.1</td>\n",
       "\t\t<td>355553416.3</td>\n",
       "\t\t<td>1</td>\n",
       "\t\t<td>1</td>\n",
       "\t\t<td>636261</td>\n",
       "\t\t<td>44892193.09</td>\n",
       "\t</tr>\n",
       "\t<tr>\n",
       "\t\t<td>mean</td>\n",
       "\t\t<td>243.49</td>\n",
       "\t\t<td>None</td>\n",
       "\t\t<td>180563.336</td>\n",
       "\t\t<td>None</td>\n",
       "\t\t<td>849778.411</td>\n",
       "\t\t<td>None</td>\n",
       "\t\t<td>1101799.054</td>\n",
       "\t\t<td>1227955.599</td>\n",
       "\t\t<td>.001</td>\n",
       "\t\t<td>0</td>\n",
       "\t\t<td>318130.5</td>\n",
       "\t\t<td>828668.689</td>\n",
       "\t</tr>\n",
       "\t<tr>\n",
       "\t\t<td>count</td>\n",
       "\t\t<td>636262</td>\n",
       "\t\t<td>636262</td>\n",
       "\t\t<td>636262</td>\n",
       "\t\t<td>636262</td>\n",
       "\t\t<td>636262</td>\n",
       "\t\t<td>636262</td>\n",
       "\t\t<td>636262</td>\n",
       "\t\t<td>636262</td>\n",
       "\t\t<td>636262</td>\n",
       "\t\t<td>636262</td>\n",
       "\t\t<td>636262</td>\n",
       "\t\t<td>636262</td>\n",
       "\t</tr>\n",
       "</table></html>"
      ],
      "text/plain": [
       "           step    type       amount nameOrig newbalanceOrig nameDest oldbalanceDest newbalanceDest isFraud isFlaggedFraud      txn_id oldbalanceOrig\n",
       "func                                                                                                                                                 \n",
       "min           1    None            0     None              0     None              0              0       0              0           0              0\n",
       "unique     None       5         None   636162           None   457254           None           None    None           None        None           None\n",
       "std     142.464    None   616003.949     None    2907660.739     None     3421637.36    3713377.782    .037           .002  183673.163    2872075.015\n",
       "25%         156    None     13428.65     None              0     None              0              0       0              0   159065.25              0\n",
       "75%         335    None   208834.273     None      144082.96     None     948507.353    1117308.023       0              0   477195.75         107369\n",
       "50%         239    None     75001.58     None              0     None     133785.035      216486.62       0              0    318130.5      14203.195\n",
       "max         742    None  92445516.64     None    38259597.25     None    355185537.1    355553416.3       1              1      636261    44892193.09\n",
       "mean     243.49    None   180563.336     None     849778.411     None    1101799.054    1227955.599    .001              0    318130.5     828668.689\n",
       "count    636262  636262       636262   636262         636262   636262         636262         636262  636262         636262      636262         636262"
      ]
     },
     "execution_count": 6,
     "metadata": {},
     "output_type": "execute_result"
    }
   ],
   "source": [
    "new_data.describe(include = \"all\")"
   ]
  },
  {
   "cell_type": "markdown",
   "metadata": {},
   "source": [
    "<hr>\n",
    "<p style = 'font-size:18px;font-family:Arial;color:#E37C4D'><b>4.2 How many fraudulent transactions do we have in our dataset?</b></p>"
   ]
  },
  {
   "cell_type": "code",
   "execution_count": 7,
   "metadata": {},
   "outputs": [
    {
     "name": "stdout",
     "output_type": "stream",
     "text": [
      "861\n"
     ]
    }
   ],
   "source": [
    "print(new_data.loc[new_data.isFraud == 1].shape[0])"
   ]
  },
  {
   "cell_type": "markdown",
   "metadata": {},
   "source": [
    "<hr>\n",
    "<p style = 'font-size:18px;font-family:Arial;color:#E37C4D'><b>4.3 How many fraudulent transactions do we have group by transaction type?</b></p>"
   ]
  },
  {
   "cell_type": "code",
   "execution_count": 8,
   "metadata": {},
   "outputs": [
    {
     "data": {
      "text/html": [
       "<style type=\"text/css\">\n",
       "\ttable {border:ridge 5px;}\n",
       "\ttable td {border:inset 1px;}\n",
       "\ttable tr#HeaderRow {background-color:grey; color:white;}</style>\n",
       "<html><table>\n",
       "\t<tr id=\"HeaderRow\">\n",
       "\t\t<th>type</th>\n",
       "\t\t<th>count_step</th>\n",
       "\t</tr>\n",
       "\t<tr>\n",
       "\t\t<td>TRANSFER</td>\n",
       "\t\t<td>438</td>\n",
       "\t</tr>\n",
       "\t<tr>\n",
       "\t\t<td>CASH_OUT</td>\n",
       "\t\t<td>423</td>\n",
       "\t</tr>\n",
       "</table></html>"
      ],
      "text/plain": [
       "       type  count_step\n",
       "0  TRANSFER         438\n",
       "1  CASH_OUT         423"
      ]
     },
     "execution_count": 8,
     "metadata": {},
     "output_type": "execute_result"
    }
   ],
   "source": [
    "new_data.loc[new_data.isFraud == 1].groupby('type').count().get(['type','count_step']).sort('count_step', ascending = False)"
   ]
  },
  {
   "cell_type": "markdown",
   "metadata": {},
   "source": [
    "<hr>\n",
    "<p style = 'font-size:18px;font-family:Arial;color:#E37C4D'><b>4.4 Are there any patterns in amount of transaction?</b></p>\n",
    "\n",
    "<p style = 'font-size:16px;font-family:Arial'>We see many transactions with amounts 10000000.0 and 0.0 as old balance in origin account. This might be and indication of attempted fraud.</p>"
   ]
  },
  {
   "cell_type": "code",
   "execution_count": 9,
   "metadata": {},
   "outputs": [
    {
     "data": {
      "text/html": [
       "<style type=\"text/css\">\n",
       "\ttable {border:ridge 5px;}\n",
       "\ttable td {border:inset 1px;}\n",
       "\ttable tr#HeaderRow {background-color:grey; color:white;}</style>\n",
       "<html><table>\n",
       "\t<tr id=\"HeaderRow\">\n",
       "\t\t<th>oldbalanceOrig</th>\n",
       "\t\t<th>count_step</th>\n",
       "\t</tr>\n",
       "\t<tr>\n",
       "\t\t<td>10000000.0</td>\n",
       "\t\t<td>14</td>\n",
       "\t</tr>\n",
       "\t<tr>\n",
       "\t\t<td>0.0</td>\n",
       "\t\t<td>4</td>\n",
       "\t</tr>\n",
       "\t<tr>\n",
       "\t\t<td>1318024.48</td>\n",
       "\t\t<td>2</td>\n",
       "\t</tr>\n",
       "\t<tr>\n",
       "\t\t<td>162326.52</td>\n",
       "\t\t<td>2</td>\n",
       "\t</tr>\n",
       "\t<tr>\n",
       "\t\t<td>1857935.57</td>\n",
       "\t\t<td>2</td>\n",
       "\t</tr>\n",
       "</table></html>"
      ],
      "text/plain": [
       "   oldbalanceOrig  count_step\n",
       "0     10000000.00          14\n",
       "1            0.00           4\n",
       "2       541486.74           2\n",
       "3       249749.05           2\n",
       "4      1857935.57           2"
      ]
     },
     "execution_count": 9,
     "metadata": {},
     "output_type": "execute_result"
    }
   ],
   "source": [
    "display.max_rows = 5\n",
    "new_data.loc[new_data.isFraud == 1].groupby('oldbalanceOrig').count().get(['oldbalanceOrig','count_step']).sort('count_step', ascending = False)"
   ]
  },
  {
   "cell_type": "markdown",
   "metadata": {},
   "source": [
    "<hr>\n",
    "<p style = 'font-size:18px;font-family:Arial;color:#E37C4D'><b>4.5 What percentage of fraudulent transactions do we have where transaction amount is equal to old balance in the origin account?</b></p>\n",
    "\n",
    "<p style = 'font-size:16px;font-family:Arial'>This might be the case where the fraudster emptied the account of the victim.</p>"
   ]
  },
  {
   "cell_type": "code",
   "execution_count": 10,
   "metadata": {},
   "outputs": [
    {
     "name": "stdout",
     "output_type": "stream",
     "text": [
      "97.44%\n"
     ]
    }
   ],
   "source": [
    "t = new_data.loc[(new_data.isFraud == 1) and (new_data.amount == new_data.oldbalanceOrig)].shape[0] / new_data.loc[new_data.isFraud == 1].shape[0] * 100\n",
    "print(str(round(t, 2)) + \"%\")"
   ]
  },
  {
   "cell_type": "markdown",
   "metadata": {},
   "source": [
    "<hr>\n",
    "<p style = 'font-size:18px;font-family:Arial;color:#E37C4D'><b>4.6 What percentage of fraudulent transactions do we have where new balance in the origin account is zero?</b></p>\n",
    "\n",
    "<p style = 'font-size:16px;font-family:Arial'>This might be the case where the fraudster emptied the account of the victim.</p>"
   ]
  },
  {
   "cell_type": "code",
   "execution_count": 11,
   "metadata": {},
   "outputs": [
    {
     "name": "stdout",
     "output_type": "stream",
     "text": [
      "97.56%\n"
     ]
    }
   ],
   "source": [
    "t = new_data.loc[new_data.isFraud == 1][new_data.newbalanceOrig == 0].shape[0] / new_data.loc[new_data.isFraud == 1].shape[0] * 100\n",
    "print(str(round(t, 2)) + \"%\")"
   ]
  },
  {
   "cell_type": "markdown",
   "metadata": {},
   "source": [
    "<hr>\n",
    "<p style = 'font-size:18px;font-family:Arial;color:#E37C4D'><b>4.7 What percentage of fraudulent transactions do we have where old balance in the destination account is zero?</b></p>\n",
    "\n",
    "<p style = 'font-size:16px;font-family:Arial'>This might be the case where the fraudster regularly makes fraud transaction and withdraws entire amount from the destiantion account.</p>"
   ]
  },
  {
   "cell_type": "code",
   "execution_count": 12,
   "metadata": {},
   "outputs": [
    {
     "name": "stdout",
     "output_type": "stream",
     "text": [
      "65.16%\n"
     ]
    }
   ],
   "source": [
    "t = new_data.loc[new_data.isFraud == 1][new_data.oldbalanceDest == 0].shape[0] / new_data.loc[new_data.isFraud == 1].shape[0] * 100\n",
    "print(str(round(t, 2)) + \"%\")"
   ]
  },
  {
   "cell_type": "markdown",
   "metadata": {},
   "source": [
    "<hr>\n",
    "<p style = 'font-size:18px;font-family:Arial;color:#E37C4D'><b>4.8 has this been \"flagged\" as fraud using prior predictive methods?</b></p>"
   ]
  },
  {
   "cell_type": "code",
   "execution_count": 13,
   "metadata": {},
   "outputs": [
    {
     "data": {
      "text/html": [
       "<style type=\"text/css\">\n",
       "\ttable {border:ridge 5px;}\n",
       "\ttable td {border:inset 1px;}\n",
       "\ttable tr#HeaderRow {background-color:grey; color:white;}</style>\n",
       "<html><table>\n",
       "\t<tr id=\"HeaderRow\">\n",
       "\t\t<th>isFlaggedFraud</th>\n",
       "\t\t<th>count_step</th>\n",
       "\t</tr>\n",
       "\t<tr>\n",
       "\t\t<td>0</td>\n",
       "\t\t<td>859</td>\n",
       "\t</tr>\n",
       "\t<tr>\n",
       "\t\t<td>1</td>\n",
       "\t\t<td>2</td>\n",
       "\t</tr>\n",
       "</table></html>"
      ],
      "text/plain": [
       "   isFlaggedFraud  count_step\n",
       "0               0         859\n",
       "1               1           2"
      ]
     },
     "execution_count": 13,
     "metadata": {},
     "output_type": "execute_result"
    }
   ],
   "source": [
    "new_data.loc[ip_data.isFraud == 1].groupby('isFlaggedFraud').count().get(['isFlaggedFraud','count_step']).sort('count_step', ascending = False)"
   ]
  },
  {
   "cell_type": "markdown",
   "metadata": {},
   "source": [
    "<hr> \n",
    "<p style = 'font-size:18px;font-family:Arial;color:#E37C4D'><b>4.9 Feature Analysis</b></p>\n",
    "<p style = 'font-size:16px;font-family:Arial'>By analyzing the dataset, we come to the following conclusions about the features:</p>\n",
    "\n",
    "<ol style = 'font-size:16px;font-family:Arial'>\n",
    "    <li><b>step</b> : Include this feature. The fraudulent transactions distributed in many 'step' values.</li>\n",
    "    <li><b>type</b> : Include this feature. The fraudulent transaction happened only in 'CASH_OUT' and 'TRANSFER' transaction types. So we will include only the records with type as 'CASH_OUT' and 'TRANSFER.'</li>\n",
    "    <li><b>amount</b> : Include this feature. Though it won't explain all fraudulent transactions, amount as 10000000.0 and 0.0 denotes a high chance of fraud.</li>\n",
    "    <li><b>nameOrig</b> : Drop this feature. There is no useful information from this column.</li>\n",
    "    <li><b>oldbalanceOrig</b> : Include this feature. You could see that in almost all fraudulent transactions, 'oldbalanceOrig' and 'amount' has the same value. This is a strong indicator of a fraudulent transaction.</li>\n",
    "    <li><b>newbalanceOrig</b> : Include this feature. For most of the fraudulent transactions, 'newbalanceOrig' = 0 (this fact supports our finding in #5)</li>\n",
    "    <li><b>nameDest</b> : Drop this feature. There is no useful information from this column.</li>\n",
    "    <li><b>oldbalanceDest</b> : Include this feature. Value of 'oldbalanceDest' is zero for nearly half of the fraudulent transaction.</li>\n",
    "    <li><b>newbalanceDest</b> : Include this feature. Value of 'newbalanceDest' is zero for more than half of the fraudulent transaction. We will include this feature in our model.</li>\n",
    "    <li><b>isFlaggedFraud</b> : Drop this feature. Only 2 transactions flagged correctly, so we can drop this.</li>    \n",
    "</ol>"
   ]
  },
  {
   "cell_type": "markdown",
   "metadata": {},
   "source": [
    "<hr>\n",
    "<b style = 'font-size:28px;font-family:Arial;color:#E37C4D'>5. Clean up the dataset</b>\n",
    "<p style = 'font-size:16px;font-family:Arial'>Based on what we discovered above, we will:</p>\n",
    "<ol style = 'font-size:16px;font-family:Arial'>\n",
    "    <li>Remove all data that isn't 'CASH OUT' or 'TRANSFER'</li>\n",
    "    <li>Drop \"nameOrig\" and \"nameDest\" since the origin and destination accounts don't matter.</li>\n",
    "    <li>Drop \"isFlaggedFraud\" because that's a useless indicator as well</li>\n",
    "</ol> "
   ]
  },
  {
   "cell_type": "code",
   "execution_count": 14,
   "metadata": {},
   "outputs": [
    {
     "data": {
      "text/plain": [
       "(277253, 12)"
      ]
     },
     "execution_count": 14,
     "metadata": {},
     "output_type": "execute_result"
    }
   ],
   "source": [
    "clean_data = new_data.loc[(new_data.type == 'CASH_OUT') | (new_data.type == 'TRANSFER')]\n",
    "clean_data.shape"
   ]
  },
  {
   "cell_type": "code",
   "execution_count": 15,
   "metadata": {},
   "outputs": [],
   "source": [
    "clean_data = clean_data.drop(['nameDest', 'nameOrig', 'isFlaggedFraud'], axis = 1)"
   ]
  },
  {
   "cell_type": "code",
   "execution_count": 16,
   "metadata": {},
   "outputs": [
    {
     "data": {
      "text/html": [
       "<style type=\"text/css\">\n",
       "\ttable {border:ridge 5px;}\n",
       "\ttable td {border:inset 1px;}\n",
       "\ttable tr#HeaderRow {background-color:grey; color:white;}</style>\n",
       "<html><table>\n",
       "\t<tr id=\"HeaderRow\">\n",
       "\t\t<th>step</th>\n",
       "\t\t<th>type</th>\n",
       "\t\t<th>amount</th>\n",
       "\t\t<th>newbalanceOrig</th>\n",
       "\t\t<th>oldbalanceDest</th>\n",
       "\t\t<th>newbalanceDest</th>\n",
       "\t\t<th>isFraud</th>\n",
       "\t\t<th>txn_id</th>\n",
       "\t\t<th>oldbalanceOrig</th>\n",
       "\t</tr>\n",
       "\t<tr>\n",
       "\t\t<td>281</td>\n",
       "\t\t<td>CASH_OUT</td>\n",
       "\t\t<td>197171.59</td>\n",
       "\t\t<td>0.0</td>\n",
       "\t\t<td>397656.96</td>\n",
       "\t\t<td>594828.55</td>\n",
       "\t\t<td>0</td>\n",
       "\t\t<td>4</td>\n",
       "\t\t<td>0.0</td>\n",
       "\t</tr>\n",
       "\t<tr>\n",
       "\t\t<td>39</td>\n",
       "\t\t<td>CASH_OUT</td>\n",
       "\t\t<td>3658.95</td>\n",
       "\t\t<td>0.0</td>\n",
       "\t\t<td>1011338.73</td>\n",
       "\t\t<td>1014997.69</td>\n",
       "\t\t<td>0</td>\n",
       "\t\t<td>8</td>\n",
       "\t\t<td>0.0</td>\n",
       "\t</tr>\n",
       "\t<tr>\n",
       "\t\t<td>298</td>\n",
       "\t\t<td>CASH_OUT</td>\n",
       "\t\t<td>20254.52</td>\n",
       "\t\t<td>9539.48</td>\n",
       "\t\t<td>345444.91</td>\n",
       "\t\t<td>365699.43</td>\n",
       "\t\t<td>0</td>\n",
       "\t\t<td>11</td>\n",
       "\t\t<td>29794.0</td>\n",
       "\t</tr>\n",
       "\t<tr>\n",
       "\t\t<td>371</td>\n",
       "\t\t<td>CASH_OUT</td>\n",
       "\t\t<td>192243.72</td>\n",
       "\t\t<td>0.0</td>\n",
       "\t\t<td>0.0</td>\n",
       "\t\t<td>192243.72</td>\n",
       "\t\t<td>0</td>\n",
       "\t\t<td>14</td>\n",
       "\t\t<td>5107.0</td>\n",
       "\t</tr>\n",
       "\t<tr>\n",
       "\t\t<td>250</td>\n",
       "\t\t<td>CASH_OUT</td>\n",
       "\t\t<td>170600.69</td>\n",
       "\t\t<td>0.0</td>\n",
       "\t\t<td>208298.46</td>\n",
       "\t\t<td>378899.15</td>\n",
       "\t\t<td>0</td>\n",
       "\t\t<td>17</td>\n",
       "\t\t<td>130885.99</td>\n",
       "\t</tr>\n",
       "\t<tr>\n",
       "\t\t<td>41</td>\n",
       "\t\t<td>CASH_OUT</td>\n",
       "\t\t<td>41733.49</td>\n",
       "\t\t<td>0.0</td>\n",
       "\t\t<td>166433.55</td>\n",
       "\t\t<td>208167.04</td>\n",
       "\t\t<td>0</td>\n",
       "\t\t<td>18</td>\n",
       "\t\t<td>0.0</td>\n",
       "\t</tr>\n",
       "\t<tr>\n",
       "\t\t<td>544</td>\n",
       "\t\t<td>CASH_OUT</td>\n",
       "\t\t<td>243965.08</td>\n",
       "\t\t<td>0.0</td>\n",
       "\t\t<td>555896.7</td>\n",
       "\t\t<td>799861.78</td>\n",
       "\t\t<td>0</td>\n",
       "\t\t<td>15</td>\n",
       "\t\t<td>198541.0</td>\n",
       "\t</tr>\n",
       "\t<tr>\n",
       "\t\t<td>130</td>\n",
       "\t\t<td>CASH_OUT</td>\n",
       "\t\t<td>1382.36</td>\n",
       "\t\t<td>0.0</td>\n",
       "\t\t<td>99275.94</td>\n",
       "\t\t<td>100658.29</td>\n",
       "\t\t<td>0</td>\n",
       "\t\t<td>7</td>\n",
       "\t\t<td>0.0</td>\n",
       "\t</tr>\n",
       "\t<tr>\n",
       "\t\t<td>380</td>\n",
       "\t\t<td>CASH_OUT</td>\n",
       "\t\t<td>124490.28</td>\n",
       "\t\t<td>0.0</td>\n",
       "\t\t<td>205868.9</td>\n",
       "\t\t<td>330359.18</td>\n",
       "\t\t<td>0</td>\n",
       "\t\t<td>3</td>\n",
       "\t\t<td>103679.0</td>\n",
       "\t</tr>\n",
       "\t<tr>\n",
       "\t\t<td>209</td>\n",
       "\t\t<td>CASH_OUT</td>\n",
       "\t\t<td>45902.16</td>\n",
       "\t\t<td>0.0</td>\n",
       "\t\t<td>1995692.55</td>\n",
       "\t\t<td>2041594.71</td>\n",
       "\t\t<td>0</td>\n",
       "\t\t<td>2</td>\n",
       "\t\t<td>341.0</td>\n",
       "\t</tr>\n",
       "</table></html>"
      ],
      "text/plain": [
       "        step      type     amount  newbalanceOrig  oldbalanceDest  newbalanceDest  isFraud  oldbalanceOrig\n",
       "txn_id                                                                                                    \n",
       "4        281  CASH_OUT  197171.59            0.00       397656.96       594828.55        0            0.00\n",
       "8         39  CASH_OUT    3658.95            0.00      1011338.73      1014997.69        0            0.00\n",
       "11       298  CASH_OUT   20254.52         9539.48       345444.91       365699.43        0        29794.00\n",
       "14       371  CASH_OUT  192243.72            0.00            0.00       192243.72        0         5107.00\n",
       "17       250  CASH_OUT  170600.69            0.00       208298.46       378899.15        0       130885.99\n",
       "18        41  CASH_OUT   41733.49            0.00       166433.55       208167.04        0            0.00\n",
       "15       544  CASH_OUT  243965.08            0.00       555896.70       799861.78        0       198541.00\n",
       "7        130  CASH_OUT    1382.36            0.00        99275.94       100658.29        0            0.00\n",
       "3        380  CASH_OUT  124490.28            0.00       205868.90       330359.18        0       103679.00\n",
       "2        209  CASH_OUT   45902.16            0.00      1995692.55      2041594.71        0          341.00"
      ]
     },
     "execution_count": 16,
     "metadata": {},
     "output_type": "execute_result"
    }
   ],
   "source": [
    "clean_data.head()"
   ]
  },
  {
   "cell_type": "markdown",
   "metadata": {},
   "source": [
    "<hr>\n",
    "<b style = 'font-size:28px;font-family:Arial;color:#E37C4D'>6. Create training and testing datasets in Vantage</b>\n",
    "\n",
    "<p style = 'font-size:16px;font-family:Arial'>Here we'll copy this teradata Dataframe to a separate table in Vantage. We'll also create two datasets for training and testing in the ratio of 80:20.</p>"
   ]
  },
  {
   "cell_type": "code",
   "execution_count": 17,
   "metadata": {},
   "outputs": [],
   "source": [
    "#create the source data table in the database\n",
    "clean_data.to_sql('clean_data', if_exists = 'replace', primary_index='txn_id')"
   ]
  },
  {
   "cell_type": "code",
   "execution_count": 18,
   "metadata": {},
   "outputs": [],
   "source": [
    "#lets do it in sql - drop TRAIN table if exists\n",
    "\n",
    "qry = 'DROP TABLE clean_data_train;'\n",
    "# Execute Query\n",
    "\n",
    "try:\n",
    "    eng.execute(qry)\n",
    "except Exception as e:\n",
    "    if str(e.args).find('3807') >= 1:\n",
    "        pass\n",
    "    else:\n",
    "        raise"
   ]
  },
  {
   "cell_type": "code",
   "execution_count": 19,
   "metadata": {},
   "outputs": [
    {
     "data": {
      "text/plain": [
       "<sqlalchemy.engine.result.ResultProxy at 0x7f37c8282910>"
      ]
     },
     "execution_count": 19,
     "metadata": {},
     "output_type": "execute_result"
    }
   ],
   "source": [
    "#Create TRAIN table using SAMPLE\n",
    "\n",
    "qry = '''\n",
    "CREATE MULTISET TABLE clean_data_train \n",
    "  AS(SELECT * FROM clean_data SAMPLE 0.8) \n",
    "WITH DATA\n",
    "PRIMARY INDEX (txn_id);\n",
    "'''\n",
    "\n",
    "# Execute Query\n",
    "eng.execute(qry)"
   ]
  },
  {
   "cell_type": "code",
   "execution_count": 20,
   "metadata": {},
   "outputs": [],
   "source": [
    "#lets do it in sql - drop TEST table if exists\n",
    "\n",
    "qry = 'DROP TABLE clean_data_test;'\n",
    "# Execute Query\n",
    "try:\n",
    "    eng.execute(qry)\n",
    "except Exception as e:\n",
    "    if str(e.args).find('3807') >= 1:\n",
    "        pass\n",
    "    else:\n",
    "        raise"
   ]
  },
  {
   "cell_type": "code",
   "execution_count": 21,
   "metadata": {},
   "outputs": [
    {
     "data": {
      "text/plain": [
       "<sqlalchemy.engine.result.ResultProxy at 0x7f37c82ff890>"
      ]
     },
     "execution_count": 21,
     "metadata": {},
     "output_type": "execute_result"
    }
   ],
   "source": [
    "#Create TEST table using SAMPLE\n",
    "\n",
    "qry = '''\n",
    "CREATE MULTISET TABLE clean_data_test\n",
    "  AS(SELECT * FROM clean_data\n",
    "    EXCEPT\n",
    "    SELECT * FROM clean_data_train)\n",
    "WITH DATA\n",
    "PRIMARY INDEX (txn_id);  \n",
    "'''\n",
    "\n",
    "# Execute Query\n",
    "eng.execute(qry)"
   ]
  },
  {
   "cell_type": "markdown",
   "metadata": {},
   "source": [
    "<hr>\n",
    "<b style = 'font-size:28px;font-family:Arial;color:#E37C4D'>7. Create a GLM model locally and train it</b>\n",
    "<p style = 'font-size:16px;font-family:Arial'>Here, we have used Binomial Regression model which is from family of Generalized Linear Models. Binomial Regression models are used to classifiy data points into one or the other class, here we classify them in fraud or not fraud categories.</p>"
   ]
  },
  {
   "cell_type": "code",
   "execution_count": 22,
   "metadata": {},
   "outputs": [],
   "source": [
    "# creating TD dataframes for training and testing datasets\n",
    "clean_data_train = DataFrame('clean_data_train')\n",
    "clean_data_test = DataFrame('clean_data_test')"
   ]
  },
  {
   "cell_type": "markdown",
   "metadata": {},
   "source": [
    "<p style = 'font-size:18px;font-family:Arial;color:#E37C4D'><b>Create a local pandas dataframe.<b></p>\n",
    "<p style = 'font-size:16px;font-family:Arial'>This dataframe is created outside Vantage. The model is trained outside Vantage. The model would be later saved to Vantage and in-database scoring would be performed at scale.</p>"
   ]
  },
  {
   "cell_type": "code",
   "execution_count": 23,
   "metadata": {},
   "outputs": [],
   "source": [
    "pd_clean_data_train = clean_data_train.to_pandas(all_rows = True)\n",
    "pd_clean_data_train.reset_index(inplace = True)"
   ]
  },
  {
   "cell_type": "code",
   "execution_count": 24,
   "metadata": {},
   "outputs": [],
   "source": [
    "y_train = pd_clean_data_train[['isFraud']]\n",
    "X_train = pd_clean_data_train[['step', 'amount','newbalanceOrig','oldbalanceDest','newbalanceDest','oldbalanceOrig']]\n",
    "\n",
    "mod = sm.GLM(endog=y_train.astype(float), exog=X_train.astype(float), family=sm.families.Binomial())\n",
    "mod = mod.fit()"
   ]
  },
  {
   "cell_type": "markdown",
   "metadata": {},
   "source": [
    "<hr>\n",
    "<b style = 'font-size:28px;font-family:Arial;color:#E37C4D'>8. Load trained GLM Model into Vantage</b>\n",
    "<p style = 'font-size:16px;font-family:Arial'>Create my pandas df with the right schema for our DB model. Here, the required paramaters would be saved in a table on Vantage i.e. saving the model in Vantage.</p>"
   ]
  },
  {
   "cell_type": "code",
   "execution_count": 25,
   "metadata": {},
   "outputs": [
    {
     "data": {
      "text/html": [
       "<div>\n",
       "<style scoped>\n",
       "    .dataframe tbody tr th:only-of-type {\n",
       "        vertical-align: middle;\n",
       "    }\n",
       "\n",
       "    .dataframe tbody tr th {\n",
       "        vertical-align: top;\n",
       "    }\n",
       "\n",
       "    .dataframe thead th {\n",
       "        text-align: right;\n",
       "    }\n",
       "</style>\n",
       "<table border=\"1\" class=\"dataframe\">\n",
       "  <thead>\n",
       "    <tr style=\"text-align: right;\">\n",
       "      <th></th>\n",
       "      <th>attribute</th>\n",
       "      <th>predictor</th>\n",
       "      <th>estimate</th>\n",
       "      <th>std_err</th>\n",
       "      <th>z_score</th>\n",
       "      <th>p_value</th>\n",
       "      <th>category</th>\n",
       "      <th>family</th>\n",
       "      <th>significance</th>\n",
       "    </tr>\n",
       "  </thead>\n",
       "  <tbody>\n",
       "    <tr>\n",
       "      <th>0</th>\n",
       "      <td>0</td>\n",
       "      <td>step</td>\n",
       "      <td>-0.011280</td>\n",
       "      <td>2.016272e-04</td>\n",
       "      <td>-55.946611</td>\n",
       "      <td>0.000000e+00</td>\n",
       "      <td>None</td>\n",
       "      <td>BINOMIAL</td>\n",
       "      <td></td>\n",
       "    </tr>\n",
       "    <tr>\n",
       "      <th>1</th>\n",
       "      <td>1</td>\n",
       "      <td>amount</td>\n",
       "      <td>-0.000092</td>\n",
       "      <td>2.963121e-06</td>\n",
       "      <td>-30.895239</td>\n",
       "      <td>1.383979e-209</td>\n",
       "      <td>None</td>\n",
       "      <td>BINOMIAL</td>\n",
       "      <td></td>\n",
       "    </tr>\n",
       "    <tr>\n",
       "      <th>2</th>\n",
       "      <td>2</td>\n",
       "      <td>newbalanceOrig</td>\n",
       "      <td>-0.000110</td>\n",
       "      <td>3.049423e-06</td>\n",
       "      <td>-35.945641</td>\n",
       "      <td>5.920701e-283</td>\n",
       "      <td>None</td>\n",
       "      <td>BINOMIAL</td>\n",
       "      <td></td>\n",
       "    </tr>\n",
       "    <tr>\n",
       "      <th>3</th>\n",
       "      <td>3</td>\n",
       "      <td>oldbalanceDest</td>\n",
       "      <td>0.000006</td>\n",
       "      <td>3.068417e-07</td>\n",
       "      <td>19.271592</td>\n",
       "      <td>9.302920e-83</td>\n",
       "      <td>None</td>\n",
       "      <td>BINOMIAL</td>\n",
       "      <td></td>\n",
       "    </tr>\n",
       "    <tr>\n",
       "      <th>4</th>\n",
       "      <td>4</td>\n",
       "      <td>newbalanceDest</td>\n",
       "      <td>-0.000008</td>\n",
       "      <td>3.066848e-07</td>\n",
       "      <td>-25.921520</td>\n",
       "      <td>3.810080e-148</td>\n",
       "      <td>None</td>\n",
       "      <td>BINOMIAL</td>\n",
       "      <td></td>\n",
       "    </tr>\n",
       "    <tr>\n",
       "      <th>5</th>\n",
       "      <td>5</td>\n",
       "      <td>oldbalanceOrig</td>\n",
       "      <td>0.000103</td>\n",
       "      <td>2.981959e-06</td>\n",
       "      <td>34.551030</td>\n",
       "      <td>1.375485e-261</td>\n",
       "      <td>None</td>\n",
       "      <td>BINOMIAL</td>\n",
       "      <td></td>\n",
       "    </tr>\n",
       "  </tbody>\n",
       "</table>\n",
       "</div>"
      ],
      "text/plain": [
       "   attribute       predictor  estimate       std_err    z_score  \\\n",
       "0          0            step -0.011280  2.016272e-04 -55.946611   \n",
       "1          1          amount -0.000092  2.963121e-06 -30.895239   \n",
       "2          2  newbalanceOrig -0.000110  3.049423e-06 -35.945641   \n",
       "3          3  oldbalanceDest  0.000006  3.068417e-07  19.271592   \n",
       "4          4  newbalanceDest -0.000008  3.066848e-07 -25.921520   \n",
       "5          5  oldbalanceOrig  0.000103  2.981959e-06  34.551030   \n",
       "\n",
       "         p_value category    family significance  \n",
       "0   0.000000e+00     None  BINOMIAL               \n",
       "1  1.383979e-209     None  BINOMIAL               \n",
       "2  5.920701e-283     None  BINOMIAL               \n",
       "3   9.302920e-83     None  BINOMIAL               \n",
       "4  3.810080e-148     None  BINOMIAL               \n",
       "5  1.375485e-261     None  BINOMIAL               "
      ]
     },
     "execution_count": 25,
     "metadata": {},
     "output_type": "execute_result"
    }
   ],
   "source": [
    "colNames = ['step','amount','newbalanceOrig','oldbalanceDest','newbalanceDest','oldbalanceOrig']\n",
    "\n",
    "pd_model = pd.DataFrame()\n",
    "pd_model['predictor'] = colNames\n",
    "pd_model['estimate'] = list(mod.params)\n",
    "pd_model['std_err'] = list(mod.bse)\n",
    "pd_model['z_score'] = list(mod.tvalues)\n",
    "pd_model['p_value'] = list(mod.pvalues)\n",
    "pd_model['category'] = None\n",
    "pd_model['family'] = 'BINOMIAL'\n",
    "pd_model['significance'] = ''\n",
    "\n",
    "pd_model.index.rename(name = 'attribute', inplace = True)\n",
    "pd_model.reset_index(inplace = True)\n",
    "\n",
    "pd_model.head(10)"
   ]
  },
  {
   "cell_type": "code",
   "execution_count": 26,
   "metadata": {},
   "outputs": [],
   "source": [
    "#create glm_fraud_detection_model table in the database\n",
    "\n",
    "copy_to_sql(df=pd_model, table_name='glm_fraud_detection_model', if_exists='replace', index = True,  \n",
    "           types = {'attribute':SMALLINT, 'predictor':VARCHAR(1024), \n",
    "                     'estimate':FLOAT, 'std_err':FLOAT, \n",
    "                     'z_score':FLOAT, 'p_value':FLOAT, \n",
    "                     'category':VARCHAR(1024), 'family':VARCHAR(20),\n",
    "                     'significance':VARCHAR(50)})"
   ]
  },
  {
   "cell_type": "markdown",
   "metadata": {},
   "source": [
    "<hr>\n",
    "<b style = 'font-size:28px;font-family:Arial;color:#E37C4D'>9. Score the model directly in Vantage</b>\n",
    "\n",
    "<p style = 'font-size:16px;font-family:Arial'> Here, we'll use GLMPredict from SQL Engine to score the <b>glm_fraud_detection_model</b> on <b>clean_data_test</b> table.</p>"
   ]
  },
  {
   "cell_type": "code",
   "execution_count": 27,
   "metadata": {},
   "outputs": [],
   "source": [
    "# Create a Teradata DataFrame reference to the model\n",
    "df_glm_fraud_detection_model = DataFrame('glm_fraud_detection_model')"
   ]
  },
  {
   "cell_type": "code",
   "execution_count": 28,
   "metadata": {},
   "outputs": [],
   "source": [
    "# Run the SQLE GLMPredict on the testing data set using the imported model\n",
    "glm_predict_out = GLMPredict(modeldata = df_glm_fraud_detection_model,\n",
    "                            newdata = clean_data_test,\n",
    "                            terms = [\"step\",\"amount\",\"newbalanceOrig\",\"oldbalanceDest\",\"newbalanceDest\",\"isFraud\"],\n",
    "                            family = \"BINOMIAL\",\n",
    "                            linkfunction = \"LOGIT\"\n",
    "                            )"
   ]
  },
  {
   "cell_type": "code",
   "execution_count": 29,
   "metadata": {},
   "outputs": [],
   "source": [
    "# Create a local pandas dataframe of the results\n",
    "pd_result = glm_predict_out.result.to_pandas(all_rows = True)"
   ]
  },
  {
   "cell_type": "markdown",
   "metadata": {},
   "source": [
    "<hr>\n",
    "<b style = 'font-size:28px;font-family:Arial;color:#E37C4D'>10. Visualize the results (ROC curve and AUC)</b>\n",
    "<p style = 'font-size:16px;font-family:Arial'>Calculate mean absolute error and AUC(Area Under the Curve) for Receiver Operating Characteritic Curve</p>\n",
    "<p style = 'font-size:16px;font-family:Arial'>Mean Absolute Error is the summation of difference of actual and predicted value averaged over the number of observations.</p>"
   ]
  },
  {
   "cell_type": "code",
   "execution_count": 30,
   "metadata": {},
   "outputs": [
    {
     "name": "stdout",
     "output_type": "stream",
     "text": [
      "0.0353765344891611\n"
     ]
    }
   ],
   "source": [
    "print(mean_absolute_error(pd_result['isFraud'], pd_result['fitted_value']))"
   ]
  },
  {
   "cell_type": "markdown",
   "metadata": {},
   "source": [
    "<p style = 'font-size:16px;font-family:Arial'>ROC curve is a graph between TPR(True Positive Rate) and FPR(False Positive Rate). The area under the ROC curve is a metric on how good the model is able to distinguish between positive and negative classes. The higher the AUC, the better the performance of the model at distinguishing between the positive and negative classes. AUC above 0.75 is generally considered decent.</p>"
   ]
  },
  {
   "cell_type": "code",
   "execution_count": 31,
   "metadata": {},
   "outputs": [
    {
     "data": {
      "text/plain": [
       "0.9715044743724667"
      ]
     },
     "execution_count": 31,
     "metadata": {},
     "output_type": "execute_result"
    }
   ],
   "source": [
    "AUC = roc_auc_score(pd_result['isFraud'], pd_result['fitted_value'])\n",
    "AUC"
   ]
  },
  {
   "cell_type": "code",
   "execution_count": 32,
   "metadata": {},
   "outputs": [
    {
     "data": {
      "image/png": "[encoded data removed]",
      "text/plain": [
       "<Figure size 432x288 with 1 Axes>"
      ]
     },
     "metadata": {
      "needs_background": "light"
     },
     "output_type": "display_data"
    }
   ],
   "source": [
    "fpr, tpr, thresholds = roc_curve(pd_result['isFraud'], pd_result['fitted_value'])\n",
    "plt.plot(fpr, tpr, color='orange', label='ROC. AUC = {}'.format(str(AUC)))\n",
    "plt.plot([0, 1], [0, 1], color='darkblue', linestyle='--')\n",
    "plt.xlabel('False Positive Rate')\n",
    "plt.ylabel('True Positive Rate')\n",
    "plt.title('Receiver Operating Characteristic (ROC) Curve')\n",
    "plt.legend()\n",
    "plt.show()"
   ]
  },
  {
   "cell_type": "markdown",
   "metadata": {},
   "source": [
    "<hr>\n",
    "<b style = 'font-size:28px;font-family:Arial;color:#E37C4D'>11. Cleanup</b>"
   ]
  },
  {
   "cell_type": "code",
   "execution_count": 33,
   "metadata": {},
   "outputs": [
    {
     "data": {
      "text/plain": [
       "<sqlalchemy.engine.result.ResultProxy at 0x7f37c8276410>"
      ]
     },
     "execution_count": 33,
     "metadata": {},
     "output_type": "execute_result"
    }
   ],
   "source": [
    "eng.execute('DROP TABLE clean_data_train;')"
   ]
  },
  {
   "cell_type": "code",
   "execution_count": 34,
   "metadata": {},
   "outputs": [
    {
     "data": {
      "text/plain": [
       "<sqlalchemy.engine.result.ResultProxy at 0x7f3767b53c50>"
      ]
     },
     "execution_count": 34,
     "metadata": {},
     "output_type": "execute_result"
    }
   ],
   "source": [
    "eng.execute('DROP TABLE clean_data_test;')"
   ]
  },
  {
   "cell_type": "code",
   "execution_count": 35,
   "metadata": {},
   "outputs": [
    {
     "data": {
      "text/plain": [
       "<sqlalchemy.engine.result.ResultProxy at 0x7f378a2de210>"
      ]
     },
     "execution_count": 35,
     "metadata": {},
     "output_type": "execute_result"
    }
   ],
   "source": [
    "eng.execute('DROP TABLE glm_fraud_detection_model;')"
   ]
  },
  {
   "cell_type": "code",
   "execution_count": 36,
   "metadata": {},
   "outputs": [
    {
     "data": {
      "text/plain": [
       "True"
      ]
     },
     "execution_count": 36,
     "metadata": {},
     "output_type": "execute_result"
    }
   ],
   "source": [
    "remove_context()"
   ]
  },
  {
   "cell_type": "markdown",
   "metadata": {},
   "source": [
    "<footer style=\"padding:10px;background:#f9f9f9;border-bottom:3px solid #394851\">©2021 Teradata. All Rights Reserved</footer>"
   ]
  }
 ],
 "metadata": {
  "kernelspec": {
   "display_name": "Python 3",
   "language": "python",
   "name": "python3"
  },
  "language_info": {
   "codemirror_mode": {
    "name": "ipython",
    "version": 3
   },
   "file_extension": ".py",
   "mimetype": "text/x-python",
   "name": "python",
   "nbconvert_exporter": "python",
   "pygments_lexer": "ipython3",
   "version": "3.7.10"
  }
 },
 "nbformat": 4,
 "nbformat_minor": 4
}
