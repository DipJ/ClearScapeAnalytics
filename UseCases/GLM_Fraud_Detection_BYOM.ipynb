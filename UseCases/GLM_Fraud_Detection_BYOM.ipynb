{
 "cells": [
  {
   "cell_type": "markdown",
   "metadata": {},
   "source": [
    "<header style=\"padding:1px;background:#f9f9f9;border-top:3px solid #00b2b1\"><img id=\"Teradata-logo\" src=\"https://www.teradata.com/Teradata/Images/Rebrand/Teradata_logo-two_color.png\" alt=\"Teradata\" width=\"220\" align=\"right\" />\n",
    "\n",
    "<b style = 'font-size:28px;font-family:Arial;color:#E37C4D'>GLM Fraud Detection with Python and Vantage BYOM</b>\n",
    "</header>"
   ]
  },
  {
   "cell_type": "markdown",
   "metadata": {},
   "source": [
    "<p style = 'font-size:16px;font-family:Arial'>This notebook provides a demonstration \"data science workflow\" that illustrates how to leverage open source ML Pipelines with the power and scale of Teradata Vantage.  Users perform the large-scale operations such as feature analysis, data transformation, and ML Moodel Scoring in the Vantage environment without having to move data.</p>\n",
    "\n",
    "<p style = 'font-size:16px;font-family:Arial'><b>Links:</b></p>\n",
    "<ul style = 'font-size:16px;font-family:Arial'>\n",
    "    <li>Uses a Data set and feature discovery methods outlined here: <a href = 'https://www.kaggle.com/georgepothur/4-financial-fraud-detection-xgboost/notebook'>https://www.kaggle.com/georgepothur/4-financial-fraud-detection-xgboost/notebook</a></li>\n",
    "    <li>Python Package User Guide: <a href = 'https://docs.teradata.com/reader/eteIDCTX4O4IMvazRMypxQ/uDjppX7PJInABCckgu~KFg'>https://docs.teradata.com/reader/eteIDCTX4O4IMvazRMypxQ/uDjppX7PJInABCckgu~KFg</a></li>\n",
    "    <li>Teradataml Python reference: <a href = 'https://docs.teradata.com/reader/GsM0pYRZl5Plqjdf9ixmdA/MzdO1q_t80M47qY5lyImOA'>https://docs.teradata.com/reader/GsM0pYRZl5Plqjdf9ixmdA/MzdO1q_t80M47qY5lyImOA</a></li>\n",
    "</ul>\n",
    "\n",
    "\n",
    "<p style = 'font-size:16px;font-family:Arial'><b>Contents</b></p>\n",
    "<ol style = 'font-size:16px;font-family:Arial'>\n",
    "    <li>Configuring the environment</li>\n",
    "    <li>Initiate a connection to Vantage</li>\n",
    "    <li>Read the data from Vantage as a teradaml Dataframe</li>\n",
    "    <li>Perform discovery on the data and analyze features</li>\n",
    "    <li>Clean up the dataset</li>\n",
    "    <li>Create training and testing datasets in Vantage</li>\n",
    "    <li>Create a PMML pipeline locally using sklearn and train it</li>\n",
    "    <li>Load trained PMML Model into Vantage</li>\n",
    "    <li>Score the model directly in Vantage</li>\n",
    "    <li>Visualize the results (ROC curve and AUC)</li>\n",
    "    <li>Cleanup</li>\n",
    "</ol>    "
   ]
  },
  {
   "cell_type": "markdown",
   "metadata": {},
   "source": [
    "<p style = 'font-size:18px;font-family:Arial;color:#E37C4D'><b>Experience</b></p>\n",
    "\n",
    "\n",
    "<p style = 'font-size:16px;font-family:Arial'>This demo takes about 5 minutes to run.</p>"
   ]
  },
  {
   "cell_type": "markdown",
   "metadata": {},
   "source": [
    "<hr>\n",
    "<p style = 'font-size:18px;font-family:Arial;color:#E37C4D'><b>Installing some dependencies</b>"
   ]
  },
  {
   "cell_type": "code",
   "execution_count": 31,
   "metadata": {},
   "outputs": [
    {
     "name": "stdout",
     "output_type": "stream",
     "text": [
      "Requirement already satisfied: sklearn2pmml in /home/jovyan/.local/lib/python3.7/site-packages (0.78.1)\n",
      "Requirement already satisfied: scikit-learn>=0.18.0 in /home/jovyan/.local/lib/python3.7/site-packages (from sklearn2pmml) (1.0.2)\n",
      "Requirement already satisfied: sklearn-pandas>=0.0.10 in /home/jovyan/.local/lib/python3.7/site-packages (from sklearn2pmml) (2.2.0)\n",
      "Requirement already satisfied: joblib>=0.13.0 in /opt/conda/lib/python3.7/site-packages (from sklearn2pmml) (1.0.1)\n",
      "Requirement already satisfied: threadpoolctl>=2.0.0 in /home/jovyan/.local/lib/python3.7/site-packages (from scikit-learn>=0.18.0->sklearn2pmml) (3.1.0)\n",
      "Requirement already satisfied: numpy>=1.14.6 in /home/jovyan/.local/lib/python3.7/site-packages (from scikit-learn>=0.18.0->sklearn2pmml) (1.21.5)\n",
      "Requirement already satisfied: scipy>=1.1.0 in /home/jovyan/.local/lib/python3.7/site-packages (from scikit-learn>=0.18.0->sklearn2pmml) (1.7.3)\n",
      "Requirement already satisfied: pandas>=1.1.4 in /home/jovyan/.local/lib/python3.7/site-packages (from sklearn-pandas>=0.0.10->sklearn2pmml) (1.3.5)\n",
      "Requirement already satisfied: python-dateutil>=2.7.3 in /opt/conda/lib/python3.7/site-packages (from pandas>=1.1.4->sklearn-pandas>=0.0.10->sklearn2pmml) (2.8.1)\n",
      "Requirement already satisfied: pytz>=2017.3 in /opt/conda/lib/python3.7/site-packages (from pandas>=1.1.4->sklearn-pandas>=0.0.10->sklearn2pmml) (2021.1)\n",
      "Requirement already satisfied: six>=1.5 in /opt/conda/lib/python3.7/site-packages (from python-dateutil>=2.7.3->pandas>=1.1.4->sklearn-pandas>=0.0.10->sklearn2pmml) (1.15.0)\n",
      "Requirement already satisfied: jdk4py in /home/jovyan/.local/lib/python3.7/site-packages (17.0.2.1)\n"
     ]
    }
   ],
   "source": [
    "!pip install sklearn2pmml --user\n",
    "!pip install jdk4py --user"
   ]
  },
  {
   "cell_type": "markdown",
   "metadata": {},
   "source": [
    "<hr>\n",
    "<b style = 'font-size:28px;font-family:Arial;color:#E37C4D'>1. Configuring the Environment</b>\n",
    "<p style = 'font-size:16px;font-family:Arial'>In the section, we import the required libraries and set environment variables and environment paths (if required).</p>"
   ]
  },
  {
   "cell_type": "code",
   "execution_count": 32,
   "metadata": {},
   "outputs": [],
   "source": [
    "# import statements\n",
    "import os\n",
    "\n",
    "import pandas as pd\n",
    "import numpy as np\n",
    "from jdk4py import JAVA, JAVA_HOME, JAVA_VERSION\n",
    "\n",
    "from teradataml import *\n",
    "from teradataml.options.display import display\n",
    "# from teradataml.catalog.byom import *\n",
    "\n",
    "import tdconnect\n",
    "\n",
    "\n",
    "from sklearn.linear_model import LogisticRegression\n",
    "from sklearn.metrics import mean_squared_error\n",
    "from sklearn.metrics import mean_absolute_error\n",
    "from sklearn.metrics import roc_auc_score\n",
    "from sklearn.metrics import roc_curve\n",
    "\n",
    "from sklearn2pmml.pipeline import PMMLPipeline\n",
    "from sklearn2pmml import sklearn2pmml\n",
    "\n",
    "import getpass\n",
    "import matplotlib.pyplot as plt\n",
    "import warnings\n",
    "\n",
    "warnings.filterwarnings(\"ignore\")\n",
    "%matplotlib inline "
   ]
  },
  {
   "cell_type": "code",
   "execution_count": 33,
   "metadata": {},
   "outputs": [],
   "source": [
    "# Set some environmental stuff - need java in the path if necessary\n",
    "\n",
    "os.environ['PATH'] = os.environ['PATH'] + os.pathsep + str(JAVA_HOME)\n",
    "os.environ['PATH'] = os.environ['PATH'] + os.pathsep + str(JAVA)[:-5]"
   ]
  },
  {
   "cell_type": "code",
   "execution_count": 34,
   "metadata": {},
   "outputs": [],
   "source": [
    "# Location of the BYOM functions\n",
    "configure.byom_install_location = 'TRNG_BYOM'"
   ]
  },
  {
   "cell_type": "markdown",
   "metadata": {},
   "source": [
    "<hr>\n",
    "<b style = 'font-size:28px;font-family:Arial;color:#E37C4D'>2. Initiate a connection to Vantage</b>\n",
    "\n",
    "<p style = 'font-size:18px;font-family:Arial;color:#E37C4D'><b>Make changes for your execution</b></p>\n",
    "\n",
    "<p style = 'font-size:16px;font-family:Arial'>The Jupyter Module for Teradata provides a helper library called tdconnect - this can use the underlying client configs and pass a JWT token for SSO. Establish connection to Teradata Vantage server (uses the Teradata SQL Driver for Python). Before you execute the following statement, replace the variables &ltHOSTNAME&gt, &ltUID&gt and &ltPWD&gt with your target Vantage system hostname (or IP address), and your database user ID(QLID) and password, respectively.</p>\n",
    "    \n",
    "<p style = 'font-size:14px;font-family:Arial'>td_context = create_context(host=\"tdprdX.td.teradata.com\", username=\"xy123456\", password=gp.getpass(prompt='Password:'), logmech=\"LDAP\")</p>"
   ]
  },
  {
   "cell_type": "code",
   "execution_count": 35,
   "metadata": {},
   "outputs": [
    {
     "name": "stdout",
     "output_type": "stream",
     "text": [
      "Engine(teradatasql://tdprd3.td.teradata.com/?LOGDATA=***&LOGMECH=***)\n"
     ]
    }
   ],
   "source": [
    "eng = tdconnect.create_context('Vantage-LIVE')\n",
    "print(eng)"
   ]
  },
  {
   "cell_type": "markdown",
   "metadata": {},
   "source": [
    "<hr>\n",
    "<b style = 'font-size:28px;font-family:Arial;color:#E37C4D'>3. Read the data from Vantage as a teradaml Dataframe</b>\n",
    "<p style = 'font-size:16px;font-family:Arial'>The data from <a href = 'https://www.kaggle.com/code/georgepothur/4-financial-fraud-detection-xgboost/data'>https://www.kaggle.com/code/georgepothur/4-financial-fraud-detection-xgboost/data</a> is loaded in Vantage in a table named \"ip_data\". Check the data size and print sample rows. 600k rows and 11 columns.</p>"
   ]
  },
  {
   "cell_type": "code",
   "execution_count": 36,
   "metadata": {},
   "outputs": [
    {
     "name": "stdout",
     "output_type": "stream",
     "text": [
      "(636262, 12)\n"
     ]
    },
    {
     "data": {
      "text/html": [
       "<div>\n",
       "<style scoped>\n",
       "    .dataframe tbody tr th:only-of-type {\n",
       "        vertical-align: middle;\n",
       "    }\n",
       "\n",
       "    .dataframe tbody tr th {\n",
       "        vertical-align: top;\n",
       "    }\n",
       "\n",
       "    .dataframe thead th {\n",
       "        text-align: right;\n",
       "    }\n",
       "</style>\n",
       "<table border=\"1\" class=\"dataframe\">\n",
       "  <thead>\n",
       "    <tr style=\"text-align: right;\">\n",
       "      <th></th>\n",
       "      <th>step</th>\n",
       "      <th>type</th>\n",
       "      <th>amount</th>\n",
       "      <th>nameOrig</th>\n",
       "      <th>oldbalanceOrg</th>\n",
       "      <th>newbalanceOrig</th>\n",
       "      <th>nameDest</th>\n",
       "      <th>oldbalanceDest</th>\n",
       "      <th>newbalanceDest</th>\n",
       "      <th>isFraud</th>\n",
       "      <th>isFlaggedFraud</th>\n",
       "    </tr>\n",
       "    <tr>\n",
       "      <th>txn_id</th>\n",
       "      <th></th>\n",
       "      <th></th>\n",
       "      <th></th>\n",
       "      <th></th>\n",
       "      <th></th>\n",
       "      <th></th>\n",
       "      <th></th>\n",
       "      <th></th>\n",
       "      <th></th>\n",
       "      <th></th>\n",
       "      <th></th>\n",
       "    </tr>\n",
       "  </thead>\n",
       "  <tbody>\n",
       "    <tr>\n",
       "      <th>468585</th>\n",
       "      <td>41</td>\n",
       "      <td>CASH_IN</td>\n",
       "      <td>163694.45</td>\n",
       "      <td>C1361197605</td>\n",
       "      <td>21199161.21</td>\n",
       "      <td>21362855.66</td>\n",
       "      <td>C1973686570</td>\n",
       "      <td>357993.26</td>\n",
       "      <td>87641.63</td>\n",
       "      <td>0</td>\n",
       "      <td>0</td>\n",
       "    </tr>\n",
       "    <tr>\n",
       "      <th>579751</th>\n",
       "      <td>139</td>\n",
       "      <td>CASH_IN</td>\n",
       "      <td>95474.95</td>\n",
       "      <td>C67839316</td>\n",
       "      <td>982275.84</td>\n",
       "      <td>1077750.79</td>\n",
       "      <td>C2134358672</td>\n",
       "      <td>3312693.58</td>\n",
       "      <td>3217218.63</td>\n",
       "      <td>0</td>\n",
       "      <td>0</td>\n",
       "    </tr>\n",
       "    <tr>\n",
       "      <th>514041</th>\n",
       "      <td>39</td>\n",
       "      <td>PAYMENT</td>\n",
       "      <td>8457.53</td>\n",
       "      <td>C266794736</td>\n",
       "      <td>417.00</td>\n",
       "      <td>0.00</td>\n",
       "      <td>M1766211715</td>\n",
       "      <td>0.00</td>\n",
       "      <td>0.00</td>\n",
       "      <td>0</td>\n",
       "      <td>0</td>\n",
       "    </tr>\n",
       "    <tr>\n",
       "      <th>124473</th>\n",
       "      <td>9</td>\n",
       "      <td>PAYMENT</td>\n",
       "      <td>5741.25</td>\n",
       "      <td>C1182515744</td>\n",
       "      <td>23808.01</td>\n",
       "      <td>18066.76</td>\n",
       "      <td>M1636688116</td>\n",
       "      <td>0.00</td>\n",
       "      <td>0.00</td>\n",
       "      <td>0</td>\n",
       "      <td>0</td>\n",
       "    </tr>\n",
       "    <tr>\n",
       "      <th>298945</th>\n",
       "      <td>688</td>\n",
       "      <td>PAYMENT</td>\n",
       "      <td>19394.80</td>\n",
       "      <td>C134795087</td>\n",
       "      <td>0.00</td>\n",
       "      <td>0.00</td>\n",
       "      <td>M596477207</td>\n",
       "      <td>0.00</td>\n",
       "      <td>0.00</td>\n",
       "      <td>0</td>\n",
       "      <td>0</td>\n",
       "    </tr>\n",
       "  </tbody>\n",
       "</table>\n",
       "</div>"
      ],
      "text/plain": [
       "        step     type     amount     nameOrig  oldbalanceOrg  newbalanceOrig  \\\n",
       "txn_id                                                                         \n",
       "468585    41  CASH_IN  163694.45  C1361197605    21199161.21     21362855.66   \n",
       "579751   139  CASH_IN   95474.95    C67839316      982275.84      1077750.79   \n",
       "514041    39  PAYMENT    8457.53   C266794736         417.00            0.00   \n",
       "124473     9  PAYMENT    5741.25  C1182515744       23808.01        18066.76   \n",
       "298945   688  PAYMENT   19394.80   C134795087           0.00            0.00   \n",
       "\n",
       "           nameDest  oldbalanceDest  newbalanceDest  isFraud  isFlaggedFraud  \n",
       "txn_id                                                                        \n",
       "468585  C1973686570       357993.26        87641.63        0               0  \n",
       "579751  C2134358672      3312693.58      3217218.63        0               0  \n",
       "514041  M1766211715            0.00            0.00        0               0  \n",
       "124473  M1636688116            0.00            0.00        0               0  \n",
       "298945   M596477207            0.00            0.00        0               0  "
      ]
     },
     "execution_count": 36,
     "metadata": {},
     "output_type": "execute_result"
    }
   ],
   "source": [
    "# Get data as a teradataml dataframe\n",
    "ip_data = DataFrame('ip_data')\n",
    "\n",
    "print(ip_data.shape)\n",
    "ip_data.to_pandas(num_rows = 5).head()"
   ]
  },
  {
   "cell_type": "markdown",
   "metadata": {},
   "source": [
    "<p style = 'font-size:18px;font-family:Arial;color:#E37C4D'><b>In-database data manipulation</b></p>\n",
    "<p style = 'font-size:16px;font-family:Arial'>Example of an in-database manipulation of data. Here we rename a misspelt column without moving the data out of Vantage. We are renaming <b>oldbalanceOrg</b> to <b>oldbalanceOrig</b></p>"
   ]
  },
  {
   "cell_type": "code",
   "execution_count": 37,
   "metadata": {},
   "outputs": [
    {
     "data": {
      "text/html": [
       "<div>\n",
       "<style scoped>\n",
       "    .dataframe tbody tr th:only-of-type {\n",
       "        vertical-align: middle;\n",
       "    }\n",
       "\n",
       "    .dataframe tbody tr th {\n",
       "        vertical-align: top;\n",
       "    }\n",
       "\n",
       "    .dataframe thead th {\n",
       "        text-align: right;\n",
       "    }\n",
       "</style>\n",
       "<table border=\"1\" class=\"dataframe\">\n",
       "  <thead>\n",
       "    <tr style=\"text-align: right;\">\n",
       "      <th></th>\n",
       "      <th>step</th>\n",
       "      <th>type</th>\n",
       "      <th>amount</th>\n",
       "      <th>nameOrig</th>\n",
       "      <th>newbalanceOrig</th>\n",
       "      <th>nameDest</th>\n",
       "      <th>oldbalanceDest</th>\n",
       "      <th>newbalanceDest</th>\n",
       "      <th>isFraud</th>\n",
       "      <th>isFlaggedFraud</th>\n",
       "      <th>oldbalanceOrig</th>\n",
       "    </tr>\n",
       "    <tr>\n",
       "      <th>txn_id</th>\n",
       "      <th></th>\n",
       "      <th></th>\n",
       "      <th></th>\n",
       "      <th></th>\n",
       "      <th></th>\n",
       "      <th></th>\n",
       "      <th></th>\n",
       "      <th></th>\n",
       "      <th></th>\n",
       "      <th></th>\n",
       "      <th></th>\n",
       "    </tr>\n",
       "  </thead>\n",
       "  <tbody>\n",
       "    <tr>\n",
       "      <th>338903</th>\n",
       "      <td>235</td>\n",
       "      <td>CASH_IN</td>\n",
       "      <td>158145.85</td>\n",
       "      <td>C1835438574</td>\n",
       "      <td>160157.85</td>\n",
       "      <td>C1482385811</td>\n",
       "      <td>81620.63</td>\n",
       "      <td>0.00</td>\n",
       "      <td>0</td>\n",
       "      <td>0</td>\n",
       "      <td>2012.00</td>\n",
       "    </tr>\n",
       "    <tr>\n",
       "      <th>187223</th>\n",
       "      <td>143</td>\n",
       "      <td>PAYMENT</td>\n",
       "      <td>3335.12</td>\n",
       "      <td>C731534041</td>\n",
       "      <td>16678.88</td>\n",
       "      <td>M680055380</td>\n",
       "      <td>0.00</td>\n",
       "      <td>0.00</td>\n",
       "      <td>0</td>\n",
       "      <td>0</td>\n",
       "      <td>20014.00</td>\n",
       "    </tr>\n",
       "    <tr>\n",
       "      <th>67892</th>\n",
       "      <td>257</td>\n",
       "      <td>CASH_IN</td>\n",
       "      <td>200666.98</td>\n",
       "      <td>C1990624653</td>\n",
       "      <td>594467.82</td>\n",
       "      <td>C748517742</td>\n",
       "      <td>494293.38</td>\n",
       "      <td>293626.40</td>\n",
       "      <td>0</td>\n",
       "      <td>0</td>\n",
       "      <td>393800.84</td>\n",
       "    </tr>\n",
       "    <tr>\n",
       "      <th>309087</th>\n",
       "      <td>40</td>\n",
       "      <td>TRANSFER</td>\n",
       "      <td>495839.51</td>\n",
       "      <td>C1486191929</td>\n",
       "      <td>0.00</td>\n",
       "      <td>C1408655500</td>\n",
       "      <td>708822.37</td>\n",
       "      <td>1204661.87</td>\n",
       "      <td>0</td>\n",
       "      <td>0</td>\n",
       "      <td>0.00</td>\n",
       "    </tr>\n",
       "    <tr>\n",
       "      <th>204190</th>\n",
       "      <td>349</td>\n",
       "      <td>CASH_OUT</td>\n",
       "      <td>454882.20</td>\n",
       "      <td>C759764679</td>\n",
       "      <td>0.00</td>\n",
       "      <td>C1606940159</td>\n",
       "      <td>3108907.92</td>\n",
       "      <td>3563790.12</td>\n",
       "      <td>0</td>\n",
       "      <td>0</td>\n",
       "      <td>0.00</td>\n",
       "    </tr>\n",
       "  </tbody>\n",
       "</table>\n",
       "</div>"
      ],
      "text/plain": [
       "        step      type     amount     nameOrig  newbalanceOrig     nameDest  \\\n",
       "txn_id                                                                        \n",
       "338903   235   CASH_IN  158145.85  C1835438574       160157.85  C1482385811   \n",
       "187223   143   PAYMENT    3335.12   C731534041        16678.88   M680055380   \n",
       "67892    257   CASH_IN  200666.98  C1990624653       594467.82   C748517742   \n",
       "309087    40  TRANSFER  495839.51  C1486191929            0.00  C1408655500   \n",
       "204190   349  CASH_OUT  454882.20   C759764679            0.00  C1606940159   \n",
       "\n",
       "        oldbalanceDest  newbalanceDest  isFraud  isFlaggedFraud  \\\n",
       "txn_id                                                            \n",
       "338903        81620.63            0.00        0               0   \n",
       "187223            0.00            0.00        0               0   \n",
       "67892        494293.38       293626.40        0               0   \n",
       "309087       708822.37      1204661.87        0               0   \n",
       "204190      3108907.92      3563790.12        0               0   \n",
       "\n",
       "        oldbalanceOrig  \n",
       "txn_id                  \n",
       "338903         2012.00  \n",
       "187223        20014.00  \n",
       "67892        393800.84  \n",
       "309087            0.00  \n",
       "204190            0.00  "
      ]
     },
     "execution_count": 37,
     "metadata": {},
     "output_type": "execute_result"
    }
   ],
   "source": [
    "new_data = ip_data.assign(oldbalanceOrig = ip_data.oldbalanceOrg).drop(['oldbalanceOrg'] , axis=1)\n",
    "\n",
    "new_data.to_pandas(num_rows = 5).head()"
   ]
  },
  {
   "cell_type": "markdown",
   "metadata": {},
   "source": [
    "<p style = 'font-size:16px;font-family:Arial'><b>Data Fields</b></p>\n",
    "<ol style = 'font-size:16px;font-family:Arial'>\n",
    "    <li><b>txn_id:</b> transaction-id</li>\n",
    "    <li><b>step:</b> maps a unit of time in the real world. In this case 1 step is 1 hour of time. Total steps 744 (31 days simulation).</li>\n",
    "    <li><b>type:</b> CASH-IN, CASH-OUT, DEBIT, PAYMENT and TRANSFER.</li>\n",
    "    <li><b>amount:</b> amount of the transaction in local currency.</li>\n",
    "    <li><b>nameOrig:</b> customer who started the transaction</li>\n",
    "    <li><b>oldbalanceOrg:</b> initial balance before the transaction</li>\n",
    "    <li><b>newbalanceOrig:</b> new balance after the transaction</li>\n",
    "    <li><b>nameDest:</b> customer who is the recipient of the transaction</li>\n",
    "    <li><b>oldbalanceDest:</b> initial balance recipient before the transaction.</li>\n",
    "    <li><b>newbalanceDest:</b> new balance recipient after the transaction.</li>\n",
    "    <li><b>isFraud:</b> This is the transactions made by the fraudulent agents inside the simulation. In this specific dataset the fraudulent behavior of the agents aims to profit by taking control or customers accounts and try to empty the funds by transferring to another account and then cashing out of the system.</li>\n",
    "</ol>"
   ]
  },
  {
   "cell_type": "markdown",
   "metadata": {},
   "source": [
    "<p style = 'font-size:18px;font-family:Arial;color:#E37C4D'><b>Check if any column has missing values</b></p>"
   ]
  },
  {
   "cell_type": "code",
   "execution_count": 38,
   "metadata": {},
   "outputs": [
    {
     "name": "stdout",
     "output_type": "stream",
     "text": [
      "<class 'teradataml.dataframe.dataframe.DataFrame'>\n",
      "Data columns (total 12 columns):\n",
      "step              636262 non-null int  \n",
      "type              636262 non-null str  \n",
      "amount            636262 non-null float\n",
      "nameOrig          636262 non-null str  \n",
      "newbalanceOrig    636262 non-null float\n",
      "nameDest          636262 non-null str  \n",
      "oldbalanceDest    636262 non-null float\n",
      "newbalanceDest    636262 non-null float\n",
      "isFraud           636262 non-null int  \n",
      "isFlaggedFraud    636262 non-null int  \n",
      "txn_id            636262 non-null int  \n",
      "oldbalanceOrig    636262 non-null float\n",
      "dtypes: int(4), str(3), float(5)\n"
     ]
    }
   ],
   "source": [
    "new_data.info(null_counts = True)"
   ]
  },
  {
   "cell_type": "markdown",
   "metadata": {},
   "source": [
    "<hr>\n",
    "<b style = 'font-size:28px;font-family:Arial;color:#E37C4D'>4. Perform discovery on the data and analyze features</b>"
   ]
  },
  {
   "cell_type": "markdown",
   "metadata": {},
   "source": [
    "<p style = 'font-size:16px;font-family:Arial'>The following section is an example of dataset analysis.  We're trying to see what features are most impactful and can be used to train our model. We also want to minimize the amount of data transferred to the client, and maximize the amount of work done on the cluster.</p>\n",
    "<br>\n",
    "<p style = 'font-size:18px;font-family:Arial;color:#E37C4D'><b>6 Million records -> 8,213 records -> 20/40 records.<br>Feel free to skip down to the next section for analysis and next steps</b></p>"
   ]
  },
  {
   "cell_type": "markdown",
   "metadata": {},
   "source": [
    "<hr>\n",
    "<p style = 'font-size:18px;font-family:Arial;color:#E37C4D'><b>4.1 Statitics of the dataset</b></p>"
   ]
  },
  {
   "cell_type": "code",
   "execution_count": 39,
   "metadata": {},
   "outputs": [
    {
     "data": {
      "text/html": [
       "<style type=\"text/css\">\n",
       "\ttable {border:ridge 5px;}\n",
       "\ttable td {border:inset 1px;}\n",
       "\ttable tr#HeaderRow {background-color:grey; color:white;}</style>\n",
       "<html><table>\n",
       "\t<tr id=\"HeaderRow\">\n",
       "\t\t<th>func</th>\n",
       "\t\t<th>step</th>\n",
       "\t\t<th>type</th>\n",
       "\t\t<th>amount</th>\n",
       "\t\t<th>nameOrig</th>\n",
       "\t\t<th>newbalanceOrig</th>\n",
       "\t\t<th>nameDest</th>\n",
       "\t\t<th>oldbalanceDest</th>\n",
       "\t\t<th>newbalanceDest</th>\n",
       "\t\t<th>isFraud</th>\n",
       "\t\t<th>isFlaggedFraud</th>\n",
       "\t\t<th>txn_id</th>\n",
       "\t\t<th>oldbalanceOrig</th>\n",
       "\t</tr>\n",
       "\t<tr>\n",
       "\t\t<td>25%</td>\n",
       "\t\t<td>156</td>\n",
       "\t\t<td>None</td>\n",
       "\t\t<td>13428.65</td>\n",
       "\t\t<td>None</td>\n",
       "\t\t<td>0</td>\n",
       "\t\t<td>None</td>\n",
       "\t\t<td>0</td>\n",
       "\t\t<td>0</td>\n",
       "\t\t<td>0</td>\n",
       "\t\t<td>0</td>\n",
       "\t\t<td>159065.25</td>\n",
       "\t\t<td>0</td>\n",
       "\t</tr>\n",
       "\t<tr>\n",
       "\t\t<td>75%</td>\n",
       "\t\t<td>335</td>\n",
       "\t\t<td>None</td>\n",
       "\t\t<td>208834.273</td>\n",
       "\t\t<td>None</td>\n",
       "\t\t<td>144082.96</td>\n",
       "\t\t<td>None</td>\n",
       "\t\t<td>948507.353</td>\n",
       "\t\t<td>1117308.023</td>\n",
       "\t\t<td>0</td>\n",
       "\t\t<td>0</td>\n",
       "\t\t<td>477195.75</td>\n",
       "\t\t<td>107369</td>\n",
       "\t</tr>\n",
       "\t<tr>\n",
       "\t\t<td>count</td>\n",
       "\t\t<td>636262</td>\n",
       "\t\t<td>636262</td>\n",
       "\t\t<td>636262</td>\n",
       "\t\t<td>636262</td>\n",
       "\t\t<td>636262</td>\n",
       "\t\t<td>636262</td>\n",
       "\t\t<td>636262</td>\n",
       "\t\t<td>636262</td>\n",
       "\t\t<td>636262</td>\n",
       "\t\t<td>636262</td>\n",
       "\t\t<td>636262</td>\n",
       "\t\t<td>636262</td>\n",
       "\t</tr>\n",
       "\t<tr>\n",
       "\t\t<td>mean</td>\n",
       "\t\t<td>243.49</td>\n",
       "\t\t<td>None</td>\n",
       "\t\t<td>180563.336</td>\n",
       "\t\t<td>None</td>\n",
       "\t\t<td>849778.411</td>\n",
       "\t\t<td>None</td>\n",
       "\t\t<td>1101799.054</td>\n",
       "\t\t<td>1227955.599</td>\n",
       "\t\t<td>.001</td>\n",
       "\t\t<td>0</td>\n",
       "\t\t<td>318130.5</td>\n",
       "\t\t<td>828668.689</td>\n",
       "\t</tr>\n",
       "\t<tr>\n",
       "\t\t<td>max</td>\n",
       "\t\t<td>742</td>\n",
       "\t\t<td>None</td>\n",
       "\t\t<td>92445516.64</td>\n",
       "\t\t<td>None</td>\n",
       "\t\t<td>38259597.25</td>\n",
       "\t\t<td>None</td>\n",
       "\t\t<td>355185537.1</td>\n",
       "\t\t<td>355553416.3</td>\n",
       "\t\t<td>1</td>\n",
       "\t\t<td>1</td>\n",
       "\t\t<td>636261</td>\n",
       "\t\t<td>44892193.09</td>\n",
       "\t</tr>\n",
       "</table></html>"
      ],
      "text/plain": [
       "           step  type      amount nameOrig newbalanceOrig nameDest oldbalanceDest newbalanceDest isFraud isFlaggedFraud      txn_id oldbalanceOrig\n",
       "func                                                                                                                                              \n",
       "min           1  None           0     None              0     None              0              0       0              0           0              0\n",
       "unique     None     5        None   636162           None   457254           None           None    None           None        None           None\n",
       "std     142.464  None  616003.949     None    2907660.739     None     3421637.36    3713377.782    .037           .002  183673.163    2872075.015\n",
       "25%         156  None    13428.65     None              0     None              0              0       0              0   159065.25              0\n",
       "75%         335  None  208834.273     None      144082.96     None     948507.353    1117308.023       0              0   477195.75         107369"
      ]
     },
     "execution_count": 39,
     "metadata": {},
     "output_type": "execute_result"
    }
   ],
   "source": [
    "new_data.describe(include = \"all\")"
   ]
  },
  {
   "cell_type": "markdown",
   "metadata": {},
   "source": [
    "<hr>\n",
    "<p style = 'font-size:18px;font-family:Arial;color:#E37C4D'><b>4.2 How many fraudulent transactions do we have in our dataset?</b></p>"
   ]
  },
  {
   "cell_type": "code",
   "execution_count": 40,
   "metadata": {},
   "outputs": [
    {
     "name": "stdout",
     "output_type": "stream",
     "text": [
      "861\n"
     ]
    }
   ],
   "source": [
    "print(new_data.loc[new_data.isFraud == 1].shape[0])"
   ]
  },
  {
   "cell_type": "markdown",
   "metadata": {},
   "source": [
    "<hr>\n",
    "<p style = 'font-size:18px;font-family:Arial;color:#E37C4D'><b>4.3 How many fraudulent transactions do we have group by transaction type?</b></p>"
   ]
  },
  {
   "cell_type": "code",
   "execution_count": 41,
   "metadata": {},
   "outputs": [
    {
     "data": {
      "text/html": [
       "<style type=\"text/css\">\n",
       "\ttable {border:ridge 5px;}\n",
       "\ttable td {border:inset 1px;}\n",
       "\ttable tr#HeaderRow {background-color:grey; color:white;}</style>\n",
       "<html><table>\n",
       "\t<tr id=\"HeaderRow\">\n",
       "\t\t<th>type</th>\n",
       "\t\t<th>count_step</th>\n",
       "\t</tr>\n",
       "\t<tr>\n",
       "\t\t<td>TRANSFER</td>\n",
       "\t\t<td>438</td>\n",
       "\t</tr>\n",
       "\t<tr>\n",
       "\t\t<td>CASH_OUT</td>\n",
       "\t\t<td>423</td>\n",
       "\t</tr>\n",
       "</table></html>"
      ],
      "text/plain": [
       "       type  count_step\n",
       "0  TRANSFER         438\n",
       "1  CASH_OUT         423"
      ]
     },
     "execution_count": 41,
     "metadata": {},
     "output_type": "execute_result"
    }
   ],
   "source": [
    "new_data.loc[new_data.isFraud == 1].groupby('type').count().get(['type','count_step']).sort('count_step', ascending = False)"
   ]
  },
  {
   "cell_type": "markdown",
   "metadata": {},
   "source": [
    "<hr>\n",
    "<p style = 'font-size:18px;font-family:Arial;color:#E37C4D'><b>4.4 Are there any patterns in amount of transaction?</b></p>\n",
    "\n",
    "<p style = 'font-size:16px;font-family:Arial'>We see many transactions with amounts 10000000.0 and 0.0 as old balance in origin account. This might be and indication of attempted fraud.</p>"
   ]
  },
  {
   "cell_type": "code",
   "execution_count": 42,
   "metadata": {},
   "outputs": [
    {
     "data": {
      "text/html": [
       "<style type=\"text/css\">\n",
       "\ttable {border:ridge 5px;}\n",
       "\ttable td {border:inset 1px;}\n",
       "\ttable tr#HeaderRow {background-color:grey; color:white;}</style>\n",
       "<html><table>\n",
       "\t<tr id=\"HeaderRow\">\n",
       "\t\t<th>oldbalanceOrig</th>\n",
       "\t\t<th>count_step</th>\n",
       "\t</tr>\n",
       "\t<tr>\n",
       "\t\t<td>10000000.0</td>\n",
       "\t\t<td>14</td>\n",
       "\t</tr>\n",
       "\t<tr>\n",
       "\t\t<td>0.0</td>\n",
       "\t\t<td>4</td>\n",
       "\t</tr>\n",
       "\t<tr>\n",
       "\t\t<td>828720.89</td>\n",
       "\t\t<td>2</td>\n",
       "\t</tr>\n",
       "\t<tr>\n",
       "\t\t<td>11630.38</td>\n",
       "\t\t<td>2</td>\n",
       "\t</tr>\n",
       "\t<tr>\n",
       "\t\t<td>805319.81</td>\n",
       "\t\t<td>2</td>\n",
       "\t</tr>\n",
       "</table></html>"
      ],
      "text/plain": [
       "   oldbalanceOrig  count_step\n",
       "0     10000000.00          14\n",
       "1            0.00           4\n",
       "2       504344.93           2\n",
       "3       574709.63           2\n",
       "4      4993938.87           2"
      ]
     },
     "execution_count": 42,
     "metadata": {},
     "output_type": "execute_result"
    }
   ],
   "source": [
    "display.max_rows = 5\n",
    "new_data.loc[new_data.isFraud == 1].groupby('oldbalanceOrig').count().get(['oldbalanceOrig','count_step']).sort('count_step', ascending = False)"
   ]
  },
  {
   "cell_type": "markdown",
   "metadata": {},
   "source": [
    "<hr>\n",
    "<p style = 'font-size:18px;font-family:Arial;color:#E37C4D'><b>4.5 What percentage of fraudulent transactions do we have where transaction amount is equal to old balance in the origin account?</b></p>\n",
    "\n",
    "<p style = 'font-size:16px;font-family:Arial'>This might be the case where the fraudster emptied the account of the victim.</p>"
   ]
  },
  {
   "cell_type": "code",
   "execution_count": 43,
   "metadata": {},
   "outputs": [
    {
     "name": "stdout",
     "output_type": "stream",
     "text": [
      "97.44%\n"
     ]
    }
   ],
   "source": [
    "t = new_data.loc[(new_data.isFraud == 1) and (new_data.amount == new_data.oldbalanceOrig)].shape[0] / new_data.loc[new_data.isFraud == 1].shape[0] * 100\n",
    "print(str(round(t, 2)) + \"%\")"
   ]
  },
  {
   "cell_type": "markdown",
   "metadata": {},
   "source": [
    "<hr>\n",
    "<p style = 'font-size:18px;font-family:Arial;color:#E37C4D'><b>4.6 What percentage of fraudulent transactions do we have where new balance in the origin account is zero?</b></p>\n",
    "\n",
    "<p style = 'font-size:16px;font-family:Arial'>This might be the case where the fraudster emptied the account of the victim.</p>"
   ]
  },
  {
   "cell_type": "code",
   "execution_count": 44,
   "metadata": {},
   "outputs": [
    {
     "name": "stdout",
     "output_type": "stream",
     "text": [
      "97.56%\n"
     ]
    }
   ],
   "source": [
    "t = new_data.loc[new_data.isFraud == 1][new_data.newbalanceOrig == 0].shape[0] / new_data.loc[new_data.isFraud == 1].shape[0] * 100\n",
    "print(str(round(t, 2)) + \"%\")"
   ]
  },
  {
   "cell_type": "markdown",
   "metadata": {},
   "source": [
    "<hr>\n",
    "<p style = 'font-size:18px;font-family:Arial;color:#E37C4D'><b>4.7 What percentage of fraudulent transactions do we have where old balance in the destination account is zero?</b></p>\n",
    "\n",
    "<p style = 'font-size:16px;font-family:Arial'>This might be the case where the fraudster regularly makes fraud transaction and withdraws entire amount from the destiantion account.</p>"
   ]
  },
  {
   "cell_type": "code",
   "execution_count": 45,
   "metadata": {},
   "outputs": [
    {
     "name": "stdout",
     "output_type": "stream",
     "text": [
      "65.16%\n"
     ]
    }
   ],
   "source": [
    "t = new_data.loc[new_data.isFraud == 1][new_data.oldbalanceDest == 0].shape[0] / new_data.loc[new_data.isFraud == 1].shape[0] * 100\n",
    "print(str(round(t, 2)) + \"%\")"
   ]
  },
  {
   "cell_type": "markdown",
   "metadata": {},
   "source": [
    "<hr>\n",
    "<p style = 'font-size:18px;font-family:Arial;color:#E37C4D'><b>4.8 has this been \"flagged\" as fraud using prior predictive methods?</b></p>"
   ]
  },
  {
   "cell_type": "code",
   "execution_count": 46,
   "metadata": {},
   "outputs": [
    {
     "data": {
      "text/html": [
       "<style type=\"text/css\">\n",
       "\ttable {border:ridge 5px;}\n",
       "\ttable td {border:inset 1px;}\n",
       "\ttable tr#HeaderRow {background-color:grey; color:white;}</style>\n",
       "<html><table>\n",
       "\t<tr id=\"HeaderRow\">\n",
       "\t\t<th>isFlaggedFraud</th>\n",
       "\t\t<th>count_step</th>\n",
       "\t</tr>\n",
       "\t<tr>\n",
       "\t\t<td>0</td>\n",
       "\t\t<td>859</td>\n",
       "\t</tr>\n",
       "\t<tr>\n",
       "\t\t<td>1</td>\n",
       "\t\t<td>2</td>\n",
       "\t</tr>\n",
       "</table></html>"
      ],
      "text/plain": [
       "   isFlaggedFraud  count_step\n",
       "0               0         859\n",
       "1               1           2"
      ]
     },
     "execution_count": 46,
     "metadata": {},
     "output_type": "execute_result"
    }
   ],
   "source": [
    "new_data.loc[ip_data.isFraud == 1].groupby('isFlaggedFraud').count().get(['isFlaggedFraud','count_step']).sort('count_step', ascending = False)"
   ]
  },
  {
   "cell_type": "markdown",
   "metadata": {},
   "source": [
    "<hr> \n",
    "<p style = 'font-size:18px;font-family:Arial;color:#E37C4D'><b>4.9 Feature Analysis</b></p>\n",
    "<p style = 'font-size:16px;font-family:Arial'>By analyzing the dataset, we come to the following conclusions about the features:</p>\n",
    "\n",
    "<ol style = 'font-size:16px;font-family:Arial'>\n",
    "    <li><b>step</b> : Include this feature. The fraudulent transactions distributed in many 'step' values.</li>\n",
    "    <li><b>type</b> : Include this feature. The fraudulent transaction happened only in 'CASH_OUT' and 'TRANSFER' transaction types. So we will include only the records with type as 'CASH_OUT' and 'TRANSFER.'</li>\n",
    "    <li><b>amount</b> : Include this feature. Though it won't explain all fraudulent transactions, amount as 10000000.0 and 0.0 denotes a high chance of fraud.</li>\n",
    "    <li><b>nameOrig</b> : Drop this feature. There is no useful information from this column.</li>\n",
    "    <li><b>oldbalanceOrig</b> : Include this feature. You could see that in almost all fraudulent transactions, 'oldbalanceOrig' and 'amount' has the same value. This is a strong indicator of a fraudulent transaction.</li>\n",
    "    <li><b>newbalanceOrig</b> : Include this feature. For most of the fraudulent transactions, 'newbalanceOrig' = 0 (this fact supports our finding in #5)</li>\n",
    "    <li><b>nameDest</b> : Drop this feature. There is no useful information from this column.</li>\n",
    "    <li><b>oldbalanceDest</b> : Include this feature. Value of 'oldbalanceDest' is zero for nearly half of the fraudulent transaction.</li>\n",
    "    <li><b>newbalanceDest</b> : Include this feature. Value of 'newbalanceDest' is zero for more than half of the fraudulent transaction. We will include this feature in our model.</li>\n",
    "    <li><b>isFlaggedFraud</b> : Drop this feature. Only 2 transactions flagged correctly, so we can drop this.</li>    \n",
    "</ol>"
   ]
  },
  {
   "cell_type": "markdown",
   "metadata": {},
   "source": [
    "<hr>\n",
    "<b style = 'font-size:28px;font-family:Arial;color:#E37C4D'>5. Clean up the dataset</b>\n",
    "<p style = 'font-size:16px;font-family:Arial'>Based on what we discovered above, we will:</p>\n",
    "<ol style = 'font-size:16px;font-family:Arial'>\n",
    "    <li>Remove all data that isn't 'CASH OUT' or 'TRANSFER'</li>\n",
    "    <li>Drop \"nameOrig\" and \"nameDest\" since the origin and destination accounts don't matter.</li>\n",
    "    <li>Drop \"isFlaggedFraud\" because that's a useless indicator as well</li>\n",
    "</ol> "
   ]
  },
  {
   "cell_type": "code",
   "execution_count": 47,
   "metadata": {},
   "outputs": [
    {
     "data": {
      "text/plain": [
       "(277253, 12)"
      ]
     },
     "execution_count": 47,
     "metadata": {},
     "output_type": "execute_result"
    }
   ],
   "source": [
    "clean_data = new_data.loc[(new_data.type == 'CASH_OUT') | (new_data.type == 'TRANSFER')]\n",
    "clean_data.shape"
   ]
  },
  {
   "cell_type": "code",
   "execution_count": 48,
   "metadata": {},
   "outputs": [],
   "source": [
    "clean_data = clean_data.drop(['nameDest', 'nameOrig', 'isFlaggedFraud'], axis = 1)"
   ]
  },
  {
   "cell_type": "code",
   "execution_count": 49,
   "metadata": {},
   "outputs": [
    {
     "data": {
      "text/html": [
       "<style type=\"text/css\">\n",
       "\ttable {border:ridge 5px;}\n",
       "\ttable td {border:inset 1px;}\n",
       "\ttable tr#HeaderRow {background-color:grey; color:white;}</style>\n",
       "<html><table>\n",
       "\t<tr id=\"HeaderRow\">\n",
       "\t\t<th>step</th>\n",
       "\t\t<th>type</th>\n",
       "\t\t<th>amount</th>\n",
       "\t\t<th>newbalanceOrig</th>\n",
       "\t\t<th>oldbalanceDest</th>\n",
       "\t\t<th>newbalanceDest</th>\n",
       "\t\t<th>isFraud</th>\n",
       "\t\t<th>txn_id</th>\n",
       "\t\t<th>oldbalanceOrig</th>\n",
       "\t</tr>\n",
       "\t<tr>\n",
       "\t\t<td>281</td>\n",
       "\t\t<td>CASH_OUT</td>\n",
       "\t\t<td>197171.59</td>\n",
       "\t\t<td>0.0</td>\n",
       "\t\t<td>397656.96</td>\n",
       "\t\t<td>594828.55</td>\n",
       "\t\t<td>0</td>\n",
       "\t\t<td>4</td>\n",
       "\t\t<td>0.0</td>\n",
       "\t</tr>\n",
       "\t<tr>\n",
       "\t\t<td>39</td>\n",
       "\t\t<td>CASH_OUT</td>\n",
       "\t\t<td>3658.95</td>\n",
       "\t\t<td>0.0</td>\n",
       "\t\t<td>1011338.73</td>\n",
       "\t\t<td>1014997.69</td>\n",
       "\t\t<td>0</td>\n",
       "\t\t<td>8</td>\n",
       "\t\t<td>0.0</td>\n",
       "\t</tr>\n",
       "\t<tr>\n",
       "\t\t<td>298</td>\n",
       "\t\t<td>CASH_OUT</td>\n",
       "\t\t<td>20254.52</td>\n",
       "\t\t<td>9539.48</td>\n",
       "\t\t<td>345444.91</td>\n",
       "\t\t<td>365699.43</td>\n",
       "\t\t<td>0</td>\n",
       "\t\t<td>11</td>\n",
       "\t\t<td>29794.0</td>\n",
       "\t</tr>\n",
       "\t<tr>\n",
       "\t\t<td>371</td>\n",
       "\t\t<td>CASH_OUT</td>\n",
       "\t\t<td>192243.72</td>\n",
       "\t\t<td>0.0</td>\n",
       "\t\t<td>0.0</td>\n",
       "\t\t<td>192243.72</td>\n",
       "\t\t<td>0</td>\n",
       "\t\t<td>14</td>\n",
       "\t\t<td>5107.0</td>\n",
       "\t</tr>\n",
       "\t<tr>\n",
       "\t\t<td>250</td>\n",
       "\t\t<td>CASH_OUT</td>\n",
       "\t\t<td>170600.69</td>\n",
       "\t\t<td>0.0</td>\n",
       "\t\t<td>208298.46</td>\n",
       "\t\t<td>378899.15</td>\n",
       "\t\t<td>0</td>\n",
       "\t\t<td>17</td>\n",
       "\t\t<td>130885.99</td>\n",
       "\t</tr>\n",
       "\t<tr>\n",
       "\t\t<td>41</td>\n",
       "\t\t<td>CASH_OUT</td>\n",
       "\t\t<td>41733.49</td>\n",
       "\t\t<td>0.0</td>\n",
       "\t\t<td>166433.55</td>\n",
       "\t\t<td>208167.04</td>\n",
       "\t\t<td>0</td>\n",
       "\t\t<td>18</td>\n",
       "\t\t<td>0.0</td>\n",
       "\t</tr>\n",
       "\t<tr>\n",
       "\t\t<td>544</td>\n",
       "\t\t<td>CASH_OUT</td>\n",
       "\t\t<td>243965.08</td>\n",
       "\t\t<td>0.0</td>\n",
       "\t\t<td>555896.7</td>\n",
       "\t\t<td>799861.78</td>\n",
       "\t\t<td>0</td>\n",
       "\t\t<td>15</td>\n",
       "\t\t<td>198541.0</td>\n",
       "\t</tr>\n",
       "\t<tr>\n",
       "\t\t<td>130</td>\n",
       "\t\t<td>CASH_OUT</td>\n",
       "\t\t<td>1382.36</td>\n",
       "\t\t<td>0.0</td>\n",
       "\t\t<td>99275.94</td>\n",
       "\t\t<td>100658.29</td>\n",
       "\t\t<td>0</td>\n",
       "\t\t<td>7</td>\n",
       "\t\t<td>0.0</td>\n",
       "\t</tr>\n",
       "\t<tr>\n",
       "\t\t<td>380</td>\n",
       "\t\t<td>CASH_OUT</td>\n",
       "\t\t<td>124490.28</td>\n",
       "\t\t<td>0.0</td>\n",
       "\t\t<td>205868.9</td>\n",
       "\t\t<td>330359.18</td>\n",
       "\t\t<td>0</td>\n",
       "\t\t<td>3</td>\n",
       "\t\t<td>103679.0</td>\n",
       "\t</tr>\n",
       "\t<tr>\n",
       "\t\t<td>209</td>\n",
       "\t\t<td>CASH_OUT</td>\n",
       "\t\t<td>45902.16</td>\n",
       "\t\t<td>0.0</td>\n",
       "\t\t<td>1995692.55</td>\n",
       "\t\t<td>2041594.71</td>\n",
       "\t\t<td>0</td>\n",
       "\t\t<td>2</td>\n",
       "\t\t<td>341.0</td>\n",
       "\t</tr>\n",
       "</table></html>"
      ],
      "text/plain": [
       "        step      type     amount  newbalanceOrig  oldbalanceDest  newbalanceDest  isFraud  oldbalanceOrig\n",
       "txn_id                                                                                                    \n",
       "4        281  CASH_OUT  197171.59            0.00       397656.96       594828.55        0            0.00\n",
       "8         39  CASH_OUT    3658.95            0.00      1011338.73      1014997.69        0            0.00\n",
       "11       298  CASH_OUT   20254.52         9539.48       345444.91       365699.43        0        29794.00\n",
       "14       371  CASH_OUT  192243.72            0.00            0.00       192243.72        0         5107.00\n",
       "17       250  CASH_OUT  170600.69            0.00       208298.46       378899.15        0       130885.99\n",
       "18        41  CASH_OUT   41733.49            0.00       166433.55       208167.04        0            0.00\n",
       "15       544  CASH_OUT  243965.08            0.00       555896.70       799861.78        0       198541.00\n",
       "7        130  CASH_OUT    1382.36            0.00        99275.94       100658.29        0            0.00\n",
       "3        380  CASH_OUT  124490.28            0.00       205868.90       330359.18        0       103679.00\n",
       "2        209  CASH_OUT   45902.16            0.00      1995692.55      2041594.71        0          341.00"
      ]
     },
     "execution_count": 49,
     "metadata": {},
     "output_type": "execute_result"
    }
   ],
   "source": [
    "clean_data.head()"
   ]
  },
  {
   "cell_type": "markdown",
   "metadata": {},
   "source": [
    "<hr>\n",
    "<b style = 'font-size:28px;font-family:Arial;color:#E37C4D'>6. Create training and testing datasets in Vantage</b>\n",
    "\n",
    "<p style = 'font-size:16px;font-family:Arial'>Here we'll copy this teradata Dataframe to a separate table in Vantage. We'll also create two datasets for training and testing in the ratio of 80:20.</p>"
   ]
  },
  {
   "cell_type": "code",
   "execution_count": 50,
   "metadata": {},
   "outputs": [],
   "source": [
    "#create the source data table in the database\n",
    "clean_data.to_sql('clean_data', if_exists = 'replace', primary_index='txn_id')"
   ]
  },
  {
   "cell_type": "code",
   "execution_count": 51,
   "metadata": {},
   "outputs": [],
   "source": [
    "#lets do it in sql - drop TRAIN table if exists\n",
    "\n",
    "qry = 'DROP TABLE clean_data_train;'\n",
    "# Execute Query\n",
    "\n",
    "try:\n",
    "    eng.execute(qry)\n",
    "except Exception as e:\n",
    "    if str(e.args).find('3807') >= 1:\n",
    "        pass\n",
    "    else:\n",
    "        raise"
   ]
  },
  {
   "cell_type": "code",
   "execution_count": 52,
   "metadata": {},
   "outputs": [
    {
     "data": {
      "text/plain": [
       "<sqlalchemy.engine.result.ResultProxy at 0x7f23d152cc90>"
      ]
     },
     "execution_count": 52,
     "metadata": {},
     "output_type": "execute_result"
    }
   ],
   "source": [
    "#Create TRAIN table using SAMPLE\n",
    "\n",
    "qry = '''\n",
    "CREATE MULTISET TABLE clean_data_train \n",
    "  AS(SELECT * FROM clean_data SAMPLE 0.8) \n",
    "WITH DATA\n",
    "PRIMARY INDEX (txn_id);\n",
    "'''\n",
    "\n",
    "# Execute Query\n",
    "eng.execute(qry)"
   ]
  },
  {
   "cell_type": "code",
   "execution_count": 53,
   "metadata": {},
   "outputs": [],
   "source": [
    "#lets do it in sql - drop TEST table if exists\n",
    "\n",
    "qry = 'DROP TABLE clean_data_test;'\n",
    "# Execute Query\n",
    "try:\n",
    "    eng.execute(qry)\n",
    "except Exception as e:\n",
    "    if str(e.args).find('3807') >= 1:\n",
    "        pass\n",
    "    else:\n",
    "        raise"
   ]
  },
  {
   "cell_type": "code",
   "execution_count": 54,
   "metadata": {},
   "outputs": [
    {
     "data": {
      "text/plain": [
       "<sqlalchemy.engine.result.ResultProxy at 0x7f23d1522050>"
      ]
     },
     "execution_count": 54,
     "metadata": {},
     "output_type": "execute_result"
    }
   ],
   "source": [
    "#Create TEST table using SAMPLE\n",
    "\n",
    "qry = '''\n",
    "CREATE MULTISET TABLE clean_data_test\n",
    "  AS(SELECT * FROM clean_data\n",
    "    EXCEPT\n",
    "    SELECT * FROM clean_data_train)\n",
    "WITH DATA\n",
    "PRIMARY INDEX (txn_id);  \n",
    "'''\n",
    "\n",
    "# Execute Query\n",
    "eng.execute(qry)"
   ]
  },
  {
   "cell_type": "markdown",
   "metadata": {},
   "source": [
    "<hr>\n",
    "<b style = 'font-size:28px;font-family:Arial;color:#E37C4D'>7. Create a PMML pipeline locally using sklearn and train it</b>\n",
    "<p style = 'font-size:16px;font-family:Arial'>Here we will use Logistic Regression as a classifier model in our PMML pipeline. The Predictive Model Markup Language (PMML) is an XML-based language which provides a way for applications to define machine learning, statistical and data mining models and to share models between PMML compliant applications.</p>"
   ]
  },
  {
   "cell_type": "code",
   "execution_count": 55,
   "metadata": {},
   "outputs": [],
   "source": [
    "# creating TD dataframes for training and testing datasets\n",
    "clean_data_train = DataFrame('clean_data_train')\n",
    "clean_data_test = DataFrame('clean_data_test')"
   ]
  },
  {
   "cell_type": "markdown",
   "metadata": {},
   "source": [
    "<p style = 'font-size:18px;font-family:Arial;color:#E37C4D'><b>7.1 Create a local pandas dataframe.<b></p>\n",
    "<p style = 'font-size:16px;font-family:Arial'>This dataframe is created outside Vantage. The model is trained outside Vantage. The model would be later saved to Vantage and in-database scoring would be performed at scale.</p>"
   ]
  },
  {
   "cell_type": "code",
   "execution_count": 56,
   "metadata": {},
   "outputs": [],
   "source": [
    "clean_data_train_df = clean_data_train.to_pandas(all_rows = True)\n",
    "clean_data_train_df.reset_index(inplace = True)"
   ]
  },
  {
   "cell_type": "markdown",
   "metadata": {},
   "source": [
    "<p style = 'font-size:18px;font-family:Arial;color:#E37C4D'><b>7.2 Train the Pipeline and save the model locally<b></p>\n",
    "<p style = 'font-size:16px;font-family:Arial'>The model would be saved in a file called <b>mm_fraud_glm_model.pmml</b></p>"
   ]
  },
  {
   "cell_type": "code",
   "execution_count": 57,
   "metadata": {},
   "outputs": [],
   "source": [
    "y_train = clean_data_train_df[['isFraud']].astype(int)\n",
    "X_train = clean_data_train_df[['step','amount','newbalanceOrig','oldbalanceDest','newbalanceDest','oldbalanceOrig']].astype(float)\n",
    "\n",
    "\n",
    "pipeline = PMMLPipeline([\n",
    "     (\"classifier\", LogisticRegression())\n",
    "     ])\n",
    "pipeline.fit(X_train, y_train)\n",
    "\n",
    "sklearn2pmml(pipeline, \"mm_fraud_glm_model.pmml\", with_repr = True)"
   ]
  },
  {
   "cell_type": "markdown",
   "metadata": {},
   "source": [
    "<hr>\n",
    "<b style = 'font-size:28px;font-family:Arial;color:#E37C4D'>8. Load trained PMML Model into Vantage</b>\n",
    "<p style = 'font-size:16px;font-family:Arial'>Pass the local pmml file to the save_byom function. This function would load the <b>mm_fraud_glm_model.pmml</b> file into Vantage in a table called <b>mm_glm</b>. If there is alredy a model with same name, the previous on e would be deleted and new one would be loaded.</p>"
   ]
  },
  {
   "cell_type": "code",
   "execution_count": 58,
   "metadata": {},
   "outputs": [
    {
     "name": "stdout",
     "output_type": "stream",
     "text": [
      "Model is deleted.\n",
      "Model is saved.\n"
     ]
    }
   ],
   "source": [
    "# Load the PMML file into Vantage\n",
    "try:\n",
    "    res = save_byom(model_id = 'mm_glm1', model_file = 'mm_fraud_glm_model.pmml', table_name = 'mm_glm')\n",
    "\n",
    "except Exception as e:\n",
    "    # if our model exists, delete and rewrite\n",
    "    if str(e.args).find('TDML_2200') >= 1:\n",
    "        res = delete_byom(model_id = 'mm_glm1', table_name = 'mm_glm')\n",
    "        res = save_byom(model_id = 'mm_glm1', model_file = 'mm_fraud_glm_model.pmml', table_name = 'mm_glm')\n",
    "        pass\n",
    "    else:\n",
    "        raise\n",
    "\n",
    "# Obtain a pointer to the model\n",
    "model_tdf = DataFrame.from_query(\"SELECT * FROM mm_glm WHERE model_id = 'mm_glm1'\")"
   ]
  },
  {
   "cell_type": "markdown",
   "metadata": {},
   "source": [
    "<hr>\n",
    "<b style = 'font-size:28px;font-family:Arial;color:#E37C4D'>9. Score the model directly in Vantage</b>\n",
    "\n",
    "<p style = 'font-size:16px;font-family:Arial'> PMMLPredict will score the model on data resident in Vantage without moving data.</p>"
   ]
  },
  {
   "cell_type": "code",
   "execution_count": 59,
   "metadata": {},
   "outputs": [],
   "source": [
    "# Run the PMMLPredict function in Vantage\n",
    "result = PMMLPredict(\n",
    "            modeldata = model_tdf,\n",
    "            newdata = clean_data_test,\n",
    "            accumulate = ['step','amount','newbalanceOrig','oldbalanceDest','newbalanceDest','oldbalanceOrig', 'isFraud'],\n",
    "            overwrite_cached_models = '*',\n",
    "            model_output_fields = ['probability(1)', 'probability(0)']\n",
    "            )"
   ]
  },
  {
   "cell_type": "code",
   "execution_count": 60,
   "metadata": {},
   "outputs": [
    {
     "data": {
      "text/html": [
       "<div>\n",
       "<style scoped>\n",
       "    .dataframe tbody tr th:only-of-type {\n",
       "        vertical-align: middle;\n",
       "    }\n",
       "\n",
       "    .dataframe tbody tr th {\n",
       "        vertical-align: top;\n",
       "    }\n",
       "\n",
       "    .dataframe thead th {\n",
       "        text-align: right;\n",
       "    }\n",
       "</style>\n",
       "<table border=\"1\" class=\"dataframe\">\n",
       "  <thead>\n",
       "    <tr style=\"text-align: right;\">\n",
       "      <th></th>\n",
       "      <th>step</th>\n",
       "      <th>amount</th>\n",
       "      <th>newbalanceOrig</th>\n",
       "      <th>oldbalanceDest</th>\n",
       "      <th>newbalanceDest</th>\n",
       "      <th>oldbalanceOrig</th>\n",
       "      <th>isFraud</th>\n",
       "      <th>prediction</th>\n",
       "      <th>probability(1)</th>\n",
       "      <th>probability(0)</th>\n",
       "    </tr>\n",
       "  </thead>\n",
       "  <tbody>\n",
       "    <tr>\n",
       "      <th>0</th>\n",
       "      <td>396</td>\n",
       "      <td>159663.41</td>\n",
       "      <td>0.0</td>\n",
       "      <td>0.00</td>\n",
       "      <td>159663.41</td>\n",
       "      <td>1228.0</td>\n",
       "      <td>0</td>\n",
       "      <td></td>\n",
       "      <td>1.584356e-09</td>\n",
       "      <td>1.000000</td>\n",
       "    </tr>\n",
       "    <tr>\n",
       "      <th>1</th>\n",
       "      <td>235</td>\n",
       "      <td>41520.67</td>\n",
       "      <td>0.0</td>\n",
       "      <td>465224.15</td>\n",
       "      <td>506744.82</td>\n",
       "      <td>0.0</td>\n",
       "      <td>0</td>\n",
       "      <td></td>\n",
       "      <td>4.632687e-04</td>\n",
       "      <td>0.999537</td>\n",
       "    </tr>\n",
       "    <tr>\n",
       "      <th>2</th>\n",
       "      <td>370</td>\n",
       "      <td>42375.88</td>\n",
       "      <td>0.0</td>\n",
       "      <td>2516262.62</td>\n",
       "      <td>2558638.50</td>\n",
       "      <td>0.0</td>\n",
       "      <td>0</td>\n",
       "      <td></td>\n",
       "      <td>1.607240e-06</td>\n",
       "      <td>0.999998</td>\n",
       "    </tr>\n",
       "    <tr>\n",
       "      <th>3</th>\n",
       "      <td>162</td>\n",
       "      <td>435796.25</td>\n",
       "      <td>0.0</td>\n",
       "      <td>616998.04</td>\n",
       "      <td>1052794.29</td>\n",
       "      <td>58655.0</td>\n",
       "      <td>0</td>\n",
       "      <td></td>\n",
       "      <td>2.003128e-18</td>\n",
       "      <td>1.000000</td>\n",
       "    </tr>\n",
       "    <tr>\n",
       "      <th>4</th>\n",
       "      <td>374</td>\n",
       "      <td>305153.08</td>\n",
       "      <td>0.0</td>\n",
       "      <td>489074.46</td>\n",
       "      <td>794227.54</td>\n",
       "      <td>0.0</td>\n",
       "      <td>0</td>\n",
       "      <td></td>\n",
       "      <td>2.941319e-16</td>\n",
       "      <td>1.000000</td>\n",
       "    </tr>\n",
       "  </tbody>\n",
       "</table>\n",
       "</div>"
      ],
      "text/plain": [
       "   step     amount  newbalanceOrig  oldbalanceDest  newbalanceDest  \\\n",
       "0   396  159663.41             0.0            0.00       159663.41   \n",
       "1   235   41520.67             0.0       465224.15       506744.82   \n",
       "2   370   42375.88             0.0      2516262.62      2558638.50   \n",
       "3   162  435796.25             0.0       616998.04      1052794.29   \n",
       "4   374  305153.08             0.0       489074.46       794227.54   \n",
       "\n",
       "   oldbalanceOrig  isFraud prediction  probability(1)  probability(0)  \n",
       "0          1228.0        0               1.584356e-09        1.000000  \n",
       "1             0.0        0               4.632687e-04        0.999537  \n",
       "2             0.0        0               1.607240e-06        0.999998  \n",
       "3         58655.0        0               2.003128e-18        1.000000  \n",
       "4             0.0        0               2.941319e-16        1.000000  "
      ]
     },
     "execution_count": 60,
     "metadata": {},
     "output_type": "execute_result"
    }
   ],
   "source": [
    "# Create a local pandas dataframe of the results\n",
    "result_df = result.result.to_pandas(all_rows = True)\n",
    "result_df.head()"
   ]
  },
  {
   "cell_type": "markdown",
   "metadata": {},
   "source": [
    "<hr>\n",
    "<b style = 'font-size:28px;font-family:Arial;color:#E37C4D'>10. Visualize the results (ROC curve and AUC)</b>\n",
    "<p style = 'font-size:16px;font-family:Arial'>Calculate mean absolute error and AUC(Area Under the Curve) for Receiver Operating Characteritic Curve</p>\n",
    "<p style = 'font-size:16px;font-family:Arial'>Mean Absolute Error is the summation of difference of actual and predicted value averaged over the number of observations.</p>"
   ]
  },
  {
   "cell_type": "code",
   "execution_count": 61,
   "metadata": {},
   "outputs": [
    {
     "name": "stdout",
     "output_type": "stream",
     "text": [
      "0.009164109022480268\n"
     ]
    }
   ],
   "source": [
    "print(mean_absolute_error(result_df['isFraud'], result_df['probability(1)']))"
   ]
  },
  {
   "cell_type": "markdown",
   "metadata": {},
   "source": [
    "<p style = 'font-size:16px;font-family:Arial'>ROC curve is a graph between TPR(True Positive Rate) and FPR(False Positive Rate). The area under the ROC curve is a metric on how good the model is able to distinguish between positive and negative classes. The higher the AUC, the better the performance of the model at distinguishing between the positive and negative classes. AUC above 0.75 is generally considered decent.</p>"
   ]
  },
  {
   "cell_type": "code",
   "execution_count": 62,
   "metadata": {},
   "outputs": [
    {
     "data": {
      "text/plain": [
       "0.9426413014102651"
      ]
     },
     "execution_count": 62,
     "metadata": {},
     "output_type": "execute_result"
    }
   ],
   "source": [
    "AUC = roc_auc_score(result_df['isFraud'], result_df['probability(1)'])\n",
    "AUC"
   ]
  },
  {
   "cell_type": "code",
   "execution_count": 63,
   "metadata": {},
   "outputs": [
    {
     "data": {
      "image/png": "[encoded data removed]",
      "text/plain": [
       "<Figure size 432x288 with 1 Axes>"
      ]
     },
     "metadata": {
      "needs_background": "light"
     },
     "output_type": "display_data"
    }
   ],
   "source": [
    "fpr, tpr, thresholds = roc_curve(result_df['isFraud'], result_df['probability(1)'])\n",
    "plt.plot(fpr, tpr, color='orange', label='ROC. AUC = {}'.format(str(AUC)))\n",
    "plt.plot([0, 1], [0, 1], color='darkblue', linestyle='--')\n",
    "plt.xlabel('False Positive Rate')\n",
    "plt.ylabel('True Positive Rate')\n",
    "plt.title('Receiver Operating Characteristic (ROC) Curve')\n",
    "plt.legend()\n",
    "plt.show()"
   ]
  },
  {
   "cell_type": "markdown",
   "metadata": {},
   "source": [
    "<hr>\n",
    "<b style = 'font-size:28px;font-family:Arial;color:#E37C4D'>11. Cleanup</b>"
   ]
  },
  {
   "cell_type": "code",
   "execution_count": 64,
   "metadata": {},
   "outputs": [
    {
     "data": {
      "text/plain": [
       "<sqlalchemy.engine.result.ResultProxy at 0x7f23d1568810>"
      ]
     },
     "execution_count": 64,
     "metadata": {},
     "output_type": "execute_result"
    }
   ],
   "source": [
    "eng.execute('DROP TABLE clean_data_train;')"
   ]
  },
  {
   "cell_type": "code",
   "execution_count": 65,
   "metadata": {},
   "outputs": [
    {
     "data": {
      "text/plain": [
       "<sqlalchemy.engine.result.ResultProxy at 0x7f2394457c10>"
      ]
     },
     "execution_count": 65,
     "metadata": {},
     "output_type": "execute_result"
    }
   ],
   "source": [
    "eng.execute('DROP TABLE clean_data_test;')"
   ]
  },
  {
   "cell_type": "code",
   "execution_count": 66,
   "metadata": {},
   "outputs": [
    {
     "data": {
      "text/plain": [
       "<sqlalchemy.engine.result.ResultProxy at 0x7f23c32610d0>"
      ]
     },
     "execution_count": 66,
     "metadata": {},
     "output_type": "execute_result"
    }
   ],
   "source": [
    "eng.execute('DROP TABLE mm_glm;')"
   ]
  },
  {
   "cell_type": "code",
   "execution_count": 67,
   "metadata": {},
   "outputs": [
    {
     "data": {
      "text/plain": [
       "True"
      ]
     },
     "execution_count": 67,
     "metadata": {},
     "output_type": "execute_result"
    }
   ],
   "source": [
    "remove_context()"
   ]
  },
  {
   "cell_type": "markdown",
   "metadata": {},
   "source": [
    "<footer style=\"padding:10px;background:#f9f9f9;border-bottom:3px solid #394851\">©2022 Teradata. All Rights Reserved</footer>"
   ]
  }
 ],
 "metadata": {
  "kernelspec": {
   "display_name": "Python 3",
   "language": "python",
   "name": "python3"
  },
  "language_info": {
   "codemirror_mode": {
    "name": "ipython",
    "version": 3
   },
   "file_extension": ".py",
   "mimetype": "text/x-python",
   "name": "python",
   "nbconvert_exporter": "python",
   "pygments_lexer": "ipython3",
   "version": "3.7.10"
  }
 },
 "nbformat": 4,
 "nbformat_minor": 4
}
