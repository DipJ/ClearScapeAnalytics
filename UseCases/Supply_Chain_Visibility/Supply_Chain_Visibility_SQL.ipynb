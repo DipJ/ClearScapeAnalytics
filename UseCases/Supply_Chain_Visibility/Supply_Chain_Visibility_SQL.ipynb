{
 "cells": [
  {
   "cell_type": "markdown",
   "id": "f8c2aa16",
   "metadata": {},
   "source": [
    "<header style=\"padding:1px;background:#f9f9f9;border-top:3px solid #00b2b1\"><img id=\"Teradata-logo\" src=\"https://www.teradata.com/Teradata/Images/Rebrand/Teradata_logo-two_color.png\" alt=\"Teradata\" width=\"220\" align=\"right\" />\n",
    "\n",
    "<b style = 'font-size:28px;font-family:Arial;color:#E37C4D'>Supply Chain Visibility</b>\n",
    "<br><b style = 'font-size:24px;font-family:Arial;color:#E37C4D'>A study on how Analytics can be used in different functions of Supply Chain\n",
    "</b>\n",
    "</header>"
   ]
  },
  {
   "cell_type": "markdown",
   "id": "487f457f",
   "metadata": {},
   "source": [
    "<p style = 'font-size:18px;font-family:Arial;color:#E37C4D'><b>Introduction</b></p>\n",
    "<p style = 'font-size:16px;font-family:Arial'>\n",
    "Businesses have a long recognized the pivotal role of supply chain in their success. Supply chain visibility is the ability to view or track inventory as it moves through the supply chain and business know that this creates and sustains a competitive advantage. Below are some of the critical capability of Supply Chain Visibility that creates a competitive advantage:\n",
    "<ul style = 'font-size:16px;font-family:Arial'>\n",
    "<li>Quickly adapt to rapidly changing market conditions</li>\n",
    "    <li>Use accurate insights to provide better service, enhancing customer satisfaction</li>\n",
    "    <li>Use data to drive innovation and continuous improvement</li>\n",
    "    <li>Leverage data effectively and maximize investments in existing solutions</li>\n",
    "    <li>Streamline operations, reduce redundancies, and optimize workflows</li>\n",
    "    <li>Drive down the cost of goods sold and improve profitability</li>\n",
    "    <li>Reduce inventory carrying costs while maintaining required service levels</li>\n",
    "    </ul>\n",
    "<p style = 'font-size:16px;font-family:Arial'>Despite knowing the importance and advantages of visibility business fail to implement and answer the basic questions like <ul style = 'font-size:16px;font-family:Arial'><li>Where is my inventory, what is in-transit and when will it arrive?</li><li>\n",
    "    What are my current lead times by vendor, item and receipt location?</li></ul>\n",
    "    <p style = 'font-size:16px;font-family:Arial'>This is due to the fact that modern supply chains are comprised of often highly specialized functional silos, and this is in a bid to manage complexity. These silos then have some very specialized systems and applications but these applications are not were not designed to communicate well with each other and they generate millions of transactions.  \n",
    "<img src=\"images/silo.png\">    \n",
    "<p style = 'font-size:16px;font-family:Arial'>\n",
    " Supply chain visibility requires a data foundation to be semantically consistent that is the meaning of data across all of the applications and across the supply chain remains same. Teradata's supply chain visibility solution accelerator comes into play because the Visibility Data Foundation is an open platform that is extensible and brings together all of the relevant pieces of your supply chain. It connects the source data via a consistent semantic model, enriches it and then it drives collaboration across the chain by \n",
    "automating analytics and insights by leveraging the in-Db capabilities of Clearscape Analytics.  \n",
    "<img src=\"images/scv.png\">  "
   ]
  },
  {
   "cell_type": "markdown",
   "id": "a07818aa",
   "metadata": {},
   "source": [
    "<h1 style = 'font-size:28px;font-family:Arial;color:#E37C4D'><b>1. Start by connecting to the Teradata system </b></h1>\n",
    "<p style = 'font-size:16px;font-family:Arial'>You will be prompted to provide the password. Enter your password, press Enter, then use down arrow to go to next cell.</p>"
   ]
  },
  {
   "cell_type": "code",
   "execution_count": 2,
   "id": "2acffa0f",
   "metadata": {},
   "outputs": [
    {
     "name": "stdin",
     "output_type": "stream",
     "text": [
      "Password: ········\n"
     ]
    },
    {
     "name": "stdout",
     "output_type": "stream",
     "text": [
      "Success: 'local' connection established and activated for user 'demo_user', with default database 'demo_user'\n"
     ]
    }
   ],
   "source": [
    "%connect local,  hidewarnings=true"
   ]
  },
  {
   "cell_type": "markdown",
   "id": "de5ce290",
   "metadata": {},
   "source": [
    "<p style = 'font-size:16px;font-family:Arial'>You will be prompted to provide the password. Enter your password, press the Enter key, then <b>use down arrow</b> to go to next cell.</p>"
   ]
  },
  {
   "cell_type": "code",
   "execution_count": 3,
   "id": "1ef1c900",
   "metadata": {},
   "outputs": [
    {
     "data": {
      "text/plain": [
       "Success: 1 rows affected"
      ]
     },
     "execution_count": 3,
     "metadata": {
      "application/vnd.teradata.resultset": ""
     },
     "output_type": "execute_result"
    }
   ],
   "source": [
    "Set query_band='DEMO=DEMO=Supply_Chain_Visibility.ipynb;' update for session;"
   ]
  },
  {
   "cell_type": "markdown",
   "id": "6dba7007",
   "metadata": {},
   "source": [
    "<p style = 'font-size:18px;font-family:Arial;color:#E37C4D'> <b>Getting Data for This Demo</b></p>\n",
    "<p style = 'font-size:16px;font-family:Arial'>We have provided data for this demo on cloud storage. In this demo since we are using Temporal table we will be creating databases and tables in local storage and use them in the notebook. Please execute the procedure in the next cell.</p>"
   ]
  },
  {
   "cell_type": "code",
   "execution_count": 2,
   "id": "3defe04b",
   "metadata": {},
   "outputs": [],
   "source": [
    "#call get_data('DEMO_SupplyChain_local'); ---takes about 35 seconds"
   ]
  },
  {
   "cell_type": "markdown",
   "id": "a6567e7a",
   "metadata": {},
   "source": [
    "<p style = 'font-size:16px;font-family:Arial'>Next is an optional step – if you want to see status of databases/tables created and space used.</p>"
   ]
  },
  {
   "cell_type": "code",
   "execution_count": null,
   "id": "00212f8a-8ad0-401a-a69d-3335461f58fb",
   "metadata": {},
   "outputs": [],
   "source": [
    "call space_report();  -- optional, takes about 10 seconds"
   ]
  },
  {
   "cell_type": "markdown",
   "id": "cb367c18",
   "metadata": {},
   "source": [
    "<h1 style = 'font-size:28px;font-family:Arial;color:#E37C4D'><b>2. Architecture Diagram</b></h1> \n",
    "<img src=\"images/sc_visibility.png\">  "
   ]
  },
  {
   "cell_type": "markdown",
   "id": "37512857",
   "metadata": {},
   "source": [
    "<p style = 'font-size:16px;font-family:Arial'> As we can see there are various sources of data in a supply chain which will send data at different time intervals. To make informed decions from the existing and incoming data; it is imperative that the should be in correct form.<br>using Vantage's inDb capabilities <b>Data Quality</b> and <b>Rule based checks</b> can be applied to incoming data pipeline before the reports or analysis can be done on them.  "
   ]
  },
  {
   "cell_type": "markdown",
   "id": "b83f66d2",
   "metadata": {},
   "source": [
    "<h1 style = 'font-size:28px;font-family:Arial;color:#E37C4D'><b>3. Source tables</b></h1> "
   ]
  },
  {
   "cell_type": "markdown",
   "id": "d44c31ba",
   "metadata": {},
   "source": [
    "<p style = 'font-size:16px;font-family:Arial'>Let us take a look at the source tables we have.<br>For our demo we have 3source information coming from customer, warehouse and transportation applications. Each of these sources will update the information independent of each other and will be loaded in the warehouse at separate times.<br>On The Customer system runs a batch load to warehouse every 8 hours (@ 2:00, 10:00, 18:00) hence the updates in the source system happening at 7.00am will be reflected at 10.00am then the load to warehouse is complete. This is usually reflected in the warehouse start and end times (dwh_startts and dwh_endts) in the Customer_OMS table. <br>Similarly the transportation system loads data every 4hours 1:00, 5:00, 9:00, 13:00, 17:00, 23:00. The warehouse system is point in time updates i.e the updates from the source system are reflected at the same time in warehouse.<br>In the actual projects business there are hundreds of files come for processing in warehouse and it is controlled by date control tables which keeps track of the timestamps of each source system batch\n",
    "</p>\n"
   ]
  },
  {
   "cell_type": "code",
   "execution_count": 6,
   "id": "3dd3669b",
   "metadata": {},
   "outputs": [
    {
     "data": {
      "application/vnd.teradata.resultset": "\"order_id\",\"order_ts\",\"order_status\",\"requested_arrival_ts\",\"actual_arrival_ts\",\"customer_id\",\"customer_city\",\"quantity\",\"event_ts\",\"dwh_startts\",\"dwh_endts\",\"dwh_Duration\"\n\"11399\",\"2023-05-10 09:14:00\",\"Shipment Received\",\"2023-05-12 17:16:00\",\"2023-05-12 23:00:00\",\"Cust1008\",\"Long Beach\",\"175\",\"2023-05-13 01:59:00\",\"2023-05-13 02:00:00.000000-04:00\",\"9999-12-31 00:00:00.000000-05:00\",\"2023-05-13 02:00:00.000000-04:00,9999-12-31 23:59:59.999999+00:00\"\n\"13948\",\"2023-05-24 13:07:00\",\"Shipment Received\",\"2023-05-27 22:01:00\",\"2023-05-28 05:00:00\",\"Cust1022\",\"Columbus\",\"46\",\"2023-05-28 07:15:00\",\"2023-05-28 10:00:00.000000-04:00\",\"9999-12-31 00:00:00.000000-05:00\",\"2023-05-28 10:00:00.000000-04:00,9999-12-31 23:59:59.999999+00:00\"\n\"11868\",\"2023-02-23 23:34:00\",\"Shipment Received\",\"2023-02-27 03:37:00\",\"2023-02-27 09:00:00\",\"Cust1011\",\"New Orleans\",\"28\",\"2023-02-27 11:50:00\",\"2023-02-27 18:00:00.000000-05:00\",\"9999-12-31 00:00:00.000000-05:00\",\"2023-02-27 18:00:00.000000-05:00,9999-12-31 23:59:59.999999+00:00\"\n\"14152\",\"2023-06-15 14:06:00\",\"Shipment Received\",\"2023-06-19 01:28:00\",\"2023-06-19 05:00:00\",\"Cust1023\",\"Kansas City\",\"72\",\"2023-06-19 05:07:00\",\"2023-06-19 10:00:00.000000-04:00\",\"9999-12-31 00:00:00.000000-05:00\",\"2023-06-19 10:00:00.000000-04:00,9999-12-31 23:59:59.999999+00:00\"\n\"12541\",\"2023-01-04 05:38:00\",\"Shipment Received\",\"2023-01-07 14:06:00\",\"2023-01-07 17:00:00\",\"Cust1015\",\"Phoenix\",\"75\",\"2023-01-07 18:58:00\",\"2023-01-08 02:00:00.000000-05:00\",\"9999-12-31 00:00:00.000000-05:00\",\"2023-01-08 02:00:00.000000-05:00,9999-12-31 23:59:59.999999+00:00\"\n\"11603\",\"2023-05-31 02:08:00\",\"Shipment Received\",\"2023-06-04 07:50:00\",\"2023-06-04 09:00:00\",\"Cust1009\",\"Louisville\",\"22\",\"2023-06-04 09:38:00\",\"2023-06-04 10:00:00.000000-04:00\",\"9999-12-31 00:00:00.000000-05:00\",\"2023-06-04 10:00:00.000000-04:00,9999-12-31 23:59:59.999999+00:00\"\n\"10461\",\"2023-04-07 03:24:00\",\"Shipment Received\",\"2023-04-09 09:04:00\",\"2023-04-09 13:00:00\",\"Cust1003\",\"Columbia\",\"77\",\"2023-04-09 14:15:00\",\"2023-04-09 18:00:00.000000-04:00\",\"9999-12-31 00:00:00.000000-05:00\",\"2023-04-09 18:00:00.000000-04:00,9999-12-31 23:59:59.999999+00:00\"\n\"13275\",\"2023-01-14 06:09:00\",\"Shipment Received\",\"2023-01-17 11:03:00\",\"2023-01-17 17:00:00\",\"Cust1019\",\"Seattle\",\"8\",\"2023-01-17 19:57:00\",\"2023-01-18 02:00:00.000000-05:00\",\"9999-12-31 00:00:00.000000-05:00\",\"2023-01-18 02:00:00.000000-05:00,9999-12-31 23:59:59.999999+00:00\"\n\"12072\",\"2023-03-19 12:54:00\",\"Shipment Received\",\"2023-03-22 19:30:00\",\"2023-03-22 23:00:00\",\"Cust1012\",\"Oklahoma City\",\"27\",\"2023-03-23 01:13:00\",\"2023-03-23 02:00:00.000000-04:00\",\"9999-12-31 00:00:00.000000-05:00\",\"2023-03-23 02:00:00.000000-04:00,9999-12-31 23:59:59.999999+00:00\"\n\"13010\",\"2023-04-22 03:16:00\",\"Shipment Received\",\"2023-04-24 10:13:00\",\"2023-04-24 13:00:00\",\"Cust1017\",\"Saint Louis\",\"55\",\"2023-04-24 15:31:00\",\"2023-04-24 18:00:00.000000-04:00\",\"9999-12-31 00:00:00.000000-05:00\",\"2023-04-24 18:00:00.000000-04:00,9999-12-31 23:59:59.999999+00:00\"",
      "text/html": [
       "<div class = \"td-resultset-table-div\" style = \"max-height: 100%; overflow-y: auto\">\n",
       "      <table class=\"tdhistory234386\"><style>\n",
       "      table.tdhistory234386 { display: block !important; min-height: 294px !important; overflow: auto !important; height: 294px !important; width: 100% !important; border: 1px solid rgb(207, 207, 207) !important; border-collapse: collapse !important; ; color: var(--jp-ui-font-color1) !important; }\n",
       "      th.tdhistory234386 { border: 1px solid rgb(198,198,198) !important; border-collapse: collapse !important; ; padding: 2px 5px !important; ; font-size: 13px !important; ; text-align: center !important; white-space: normal !important; color: var(--jp-ui-font-color1) !important; }\n",
       "      th.tdhistory234386:last-child { text-align: left !important; }\n",
       "      tbody.tdhistory234386 tr:nth-child(even) { background: rgba(243, 243, 243, 0.75) !important; }\n",
       "      tbody.tdhistory234386 tr:nth-child(odd) { background: var(--jp-ui-inverse-font-color1) !important; }\n",
       "      td.tdhistory234386 { border: 1px solid rgb(207, 207, 207) !important; border-collapse: collapse !important; ; padding: 2px 5px !important; ; font-size: 13px !important; ; text-align: left !important;          white-space: nowrap !important; overflow:hidden !important; text-overflow:ellipsis !important;; }\n",
       "    </style><thead><tr style= \"background: rgba(243, 243, 243, 0.75)\"><th class=\"tdhistory234386\"></th><th class=\"tdhistory234386\">order_id</th><th class=\"tdhistory234386\">order_ts</th><th class=\"tdhistory234386\">order_status</th><th class=\"tdhistory234386\">requested_arrival_ts</th><th class=\"tdhistory234386\">actual_arrival_ts</th><th class=\"tdhistory234386\">customer_id</th><th class=\"tdhistory234386\">customer_city</th><th class=\"tdhistory234386\">quantity</th><th class=\"tdhistory234386\">event_ts</th><th class=\"tdhistory234386\">dwh_startts</th><th class=\"tdhistory234386\">dwh_endts</th><th class=\"tdhistory234386\">dwh_Duration</th></tr></thead><tbody class=\"tdhistory234386 resultset-body\"><tr><th class=\"tdhistory234386\" style= \"background: rgba(243, 243, 243, 0.75)\">1</th><td class=\"tdhistory234386\">11399</td><td class=\"tdhistory234386\">2023-05-10 09:14:00</td><td class=\"tdhistory234386\">Shipment Received</td><td class=\"tdhistory234386\">2023-05-12 17:16:00</td><td class=\"tdhistory234386\">2023-05-12 23:00:00</td><td class=\"tdhistory234386\">Cust1008</td><td class=\"tdhistory234386\">Long Beach</td><td class=\"tdhistory234386\">175</td><td class=\"tdhistory234386\">2023-05-13 01:59:00</td><td class=\"tdhistory234386\">2023-05-13 02:00:00.000000-04:00</td><td class=\"tdhistory234386\">9999-12-31 00:00:00.000000-05:00</td><td class=\"tdhistory234386\">2023-05-13 02:00:00.000000-04:00,9999-12-31 23:59:59.999999+00:00</td></tr><tr><th class=\"tdhistory234386\" style= \"background: rgba(243, 243, 243, 0.75)\">2</th><td class=\"tdhistory234386\">13948</td><td class=\"tdhistory234386\">2023-05-24 13:07:00</td><td class=\"tdhistory234386\">Shipment Received</td><td class=\"tdhistory234386\">2023-05-27 22:01:00</td><td class=\"tdhistory234386\">2023-05-28 05:00:00</td><td class=\"tdhistory234386\">Cust1022</td><td class=\"tdhistory234386\">Columbus</td><td class=\"tdhistory234386\">46</td><td class=\"tdhistory234386\">2023-05-28 07:15:00</td><td class=\"tdhistory234386\">2023-05-28 10:00:00.000000-04:00</td><td class=\"tdhistory234386\">9999-12-31 00:00:00.000000-05:00</td><td class=\"tdhistory234386\">2023-05-28 10:00:00.000000-04:00,9999-12-31 23:59:59.999999+00:00</td></tr><tr><th class=\"tdhistory234386\" style= \"background: rgba(243, 243, 243, 0.75)\">3</th><td class=\"tdhistory234386\">11868</td><td class=\"tdhistory234386\">2023-02-23 23:34:00</td><td class=\"tdhistory234386\">Shipment Received</td><td class=\"tdhistory234386\">2023-02-27 03:37:00</td><td class=\"tdhistory234386\">2023-02-27 09:00:00</td><td class=\"tdhistory234386\">Cust1011</td><td class=\"tdhistory234386\">New Orleans</td><td class=\"tdhistory234386\">28</td><td class=\"tdhistory234386\">2023-02-27 11:50:00</td><td class=\"tdhistory234386\">2023-02-27 18:00:00.000000-05:00</td><td class=\"tdhistory234386\">9999-12-31 00:00:00.000000-05:00</td><td class=\"tdhistory234386\">2023-02-27 18:00:00.000000-05:00,9999-12-31 23:59:59.999999+00:00</td></tr><tr><th class=\"tdhistory234386\" style= \"background: rgba(243, 243, 243, 0.75)\">4</th><td class=\"tdhistory234386\">14152</td><td class=\"tdhistory234386\">2023-06-15 14:06:00</td><td class=\"tdhistory234386\">Shipment Received</td><td class=\"tdhistory234386\">2023-06-19 01:28:00</td><td class=\"tdhistory234386\">2023-06-19 05:00:00</td><td class=\"tdhistory234386\">Cust1023</td><td class=\"tdhistory234386\">Kansas City</td><td class=\"tdhistory234386\">72</td><td class=\"tdhistory234386\">2023-06-19 05:07:00</td><td class=\"tdhistory234386\">2023-06-19 10:00:00.000000-04:00</td><td class=\"tdhistory234386\">9999-12-31 00:00:00.000000-05:00</td><td class=\"tdhistory234386\">2023-06-19 10:00:00.000000-04:00,9999-12-31 23:59:59.999999+00:00</td></tr><tr><th class=\"tdhistory234386\" style= \"background: rgba(243, 243, 243, 0.75)\">5</th><td class=\"tdhistory234386\">12541</td><td class=\"tdhistory234386\">2023-01-04 05:38:00</td><td class=\"tdhistory234386\">Shipment Received</td><td class=\"tdhistory234386\">2023-01-07 14:06:00</td><td class=\"tdhistory234386\">2023-01-07 17:00:00</td><td class=\"tdhistory234386\">Cust1015</td><td class=\"tdhistory234386\">Phoenix</td><td class=\"tdhistory234386\">75</td><td class=\"tdhistory234386\">2023-01-07 18:58:00</td><td class=\"tdhistory234386\">2023-01-08 02:00:00.000000-05:00</td><td class=\"tdhistory234386\">9999-12-31 00:00:00.000000-05:00</td><td class=\"tdhistory234386\">2023-01-08 02:00:00.000000-05:00,9999-12-31 23:59:59.999999+00:00</td></tr><tr><th class=\"tdhistory234386\" style= \"background: rgba(243, 243, 243, 0.75)\">6</th><td class=\"tdhistory234386\">11603</td><td class=\"tdhistory234386\">2023-05-31 02:08:00</td><td class=\"tdhistory234386\">Shipment Received</td><td class=\"tdhistory234386\">2023-06-04 07:50:00</td><td class=\"tdhistory234386\">2023-06-04 09:00:00</td><td class=\"tdhistory234386\">Cust1009</td><td class=\"tdhistory234386\">Louisville</td><td class=\"tdhistory234386\">22</td><td class=\"tdhistory234386\">2023-06-04 09:38:00</td><td class=\"tdhistory234386\">2023-06-04 10:00:00.000000-04:00</td><td class=\"tdhistory234386\">9999-12-31 00:00:00.000000-05:00</td><td class=\"tdhistory234386\">2023-06-04 10:00:00.000000-04:00,9999-12-31 23:59:59.999999+00:00</td></tr><tr><th class=\"tdhistory234386\" style= \"background: rgba(243, 243, 243, 0.75)\">7</th><td class=\"tdhistory234386\">10461</td><td class=\"tdhistory234386\">2023-04-07 03:24:00</td><td class=\"tdhistory234386\">Shipment Received</td><td class=\"tdhistory234386\">2023-04-09 09:04:00</td><td class=\"tdhistory234386\">2023-04-09 13:00:00</td><td class=\"tdhistory234386\">Cust1003</td><td class=\"tdhistory234386\">Columbia</td><td class=\"tdhistory234386\">77</td><td class=\"tdhistory234386\">2023-04-09 14:15:00</td><td class=\"tdhistory234386\">2023-04-09 18:00:00.000000-04:00</td><td class=\"tdhistory234386\">9999-12-31 00:00:00.000000-05:00</td><td class=\"tdhistory234386\">2023-04-09 18:00:00.000000-04:00,9999-12-31 23:59:59.999999+00:00</td></tr><tr><th class=\"tdhistory234386\" style= \"background: rgba(243, 243, 243, 0.75)\">8</th><td class=\"tdhistory234386\">13275</td><td class=\"tdhistory234386\">2023-01-14 06:09:00</td><td class=\"tdhistory234386\">Shipment Received</td><td class=\"tdhistory234386\">2023-01-17 11:03:00</td><td class=\"tdhistory234386\">2023-01-17 17:00:00</td><td class=\"tdhistory234386\">Cust1019</td><td class=\"tdhistory234386\">Seattle</td><td class=\"tdhistory234386\">8</td><td class=\"tdhistory234386\">2023-01-17 19:57:00</td><td class=\"tdhistory234386\">2023-01-18 02:00:00.000000-05:00</td><td class=\"tdhistory234386\">9999-12-31 00:00:00.000000-05:00</td><td class=\"tdhistory234386\">2023-01-18 02:00:00.000000-05:00,9999-12-31 23:59:59.999999+00:00</td></tr><tr><th class=\"tdhistory234386\" style= \"background: rgba(243, 243, 243, 0.75)\">9</th><td class=\"tdhistory234386\">12072</td><td class=\"tdhistory234386\">2023-03-19 12:54:00</td><td class=\"tdhistory234386\">Shipment Received</td><td class=\"tdhistory234386\">2023-03-22 19:30:00</td><td class=\"tdhistory234386\">2023-03-22 23:00:00</td><td class=\"tdhistory234386\">Cust1012</td><td class=\"tdhistory234386\">Oklahoma City</td><td class=\"tdhistory234386\">27</td><td class=\"tdhistory234386\">2023-03-23 01:13:00</td><td class=\"tdhistory234386\">2023-03-23 02:00:00.000000-04:00</td><td class=\"tdhistory234386\">9999-12-31 00:00:00.000000-05:00</td><td class=\"tdhistory234386\">2023-03-23 02:00:00.000000-04:00,9999-12-31 23:59:59.999999+00:00</td></tr><tr><th class=\"tdhistory234386\" style= \"background: rgba(243, 243, 243, 0.75)\">10</th><td class=\"tdhistory234386\">13010</td><td class=\"tdhistory234386\">2023-04-22 03:16:00</td><td class=\"tdhistory234386\">Shipment Received</td><td class=\"tdhistory234386\">2023-04-24 10:13:00</td><td class=\"tdhistory234386\">2023-04-24 13:00:00</td><td class=\"tdhistory234386\">Cust1017</td><td class=\"tdhistory234386\">Saint Louis</td><td class=\"tdhistory234386\">55</td><td class=\"tdhistory234386\">2023-04-24 15:31:00</td><td class=\"tdhistory234386\">2023-04-24 18:00:00.000000-04:00</td><td class=\"tdhistory234386\">9999-12-31 00:00:00.000000-05:00</td><td class=\"tdhistory234386\">2023-04-24 18:00:00.000000-04:00,9999-12-31 23:59:59.999999+00:00</td></tr></tbody></table></div>"
      ]
     },
     "execution_count": 6,
     "metadata": {
      "application/vnd.teradata.resultset": "{\"resultSetID\":\"/home/jovyan/JupyterLabRoot/Teradata/Resultsets/2023.10.17_12.05.10.521_UTC\",\"historyID\":75,\"chunkID\":\"00001\",\"sessionid\":\"\",\"portnum\":\"\",\"dockermode\":\"docker\",\"totalRowCount\":10,\"chunkCount\":0,\"rowLimit\":0,\"columnMetadata\":[{\"columnName\":\"order_id\",\"columnTypeName\":\"INTEGER\"},{\"columnNumber\":1,\"columnName\":\"order_ts\",\"columnTypeName\":\"TIMESTAMP\"},{\"columnNumber\":2,\"columnName\":\"order_status\",\"columnTypeName\":\"VARCHAR\",\"length\":20,\"scale\":20},{\"columnNumber\":3,\"columnName\":\"requested_arrival_ts\",\"columnTypeName\":\"TIMESTAMP\"},{\"columnNumber\":4,\"columnName\":\"actual_arrival_ts\",\"columnTypeName\":\"TIMESTAMP\"},{\"columnNumber\":5,\"columnName\":\"customer_id\",\"columnTypeName\":\"VARCHAR\",\"length\":20,\"scale\":20},{\"columnNumber\":6,\"columnName\":\"customer_city\",\"columnTypeName\":\"VARCHAR\",\"length\":20,\"scale\":20},{\"columnNumber\":7,\"columnName\":\"quantity\",\"columnTypeName\":\"INTEGER\"},{\"columnNumber\":8,\"columnName\":\"event_ts\",\"columnTypeName\":\"TIMESTAMP\"},{\"columnNumber\":9,\"columnName\":\"dwh_startts\",\"columnTypeName\":\"TIMESTAMP WITH TIME ZONE\",\"length\":6,\"scale\":6},{\"columnNumber\":10,\"columnName\":\"dwh_endts\",\"columnTypeName\":\"TIMESTAMP WITH TIME ZONE\",\"length\":6,\"scale\":6},{\"columnNumber\":11,\"columnName\":\"dwh_Duration\",\"columnTypeName\":\"PERIOD(TIMESTAMP WITH TIME ZONE)\",\"length\":6,\"scale\":6}]}"
     },
     "output_type": "execute_result"
    }
   ],
   "source": [
    "select top 10* from demo_user.customer_oms_temporal;"
   ]
  },
  {
   "cell_type": "markdown",
   "id": "9927551e-b4cd-4888-8a7f-045d1388d965",
   "metadata": {},
   "source": [
    "<p style = 'font-size:16px;font-family:Arial'>In the data above we can see that dwh_startts and dwh_endts are the start and end time of when the data was loaded in the warehouse and dwh_duration shows when the record is active.<br>Now, let's check the table structure"
   ]
  },
  {
   "cell_type": "code",
   "execution_count": 7,
   "id": "67da7dc2",
   "metadata": {},
   "outputs": [
    {
     "data": {
      "application/vnd.teradata.resultset": "\"Request Text\"\n\"CREATE MULTISET TABLE Demo_User.Customer_OMS_Temporal ,FALLBACK ,\r     NO BEFORE JOURNAL,\r     NO AFTER JOURNAL,\r     CHECKSUM = DEFAULT,\r     DEFAULT MERGEBLOCKRATIO,\r     MAP = TD_MAP1\r     (\r      order_id INTEGER,\r      order_ts TIMESTAMP(0),\r      order_status VARCHAR(20) CHARACTER SET LATIN NOT CASESPECIFIC,\r      requested_arrival_ts TIMESTAMP(0),\r      actual_arrival_ts TIMESTAMP(0),\r      customer_id VARCHAR(20) CHARACTER SET LATIN NOT CASESPECIFIC,\r      customer_city VARCHAR(20) CHARACTER SET LATIN NOT CASESPECIFIC,\r      quantity INTEGER,\r      event_ts TIMESTAMP(0),\r      dwh_startts TIMESTAMP(6) WITH TIME ZONE NOT NULL,\r      dwh_endts TIMESTAMP(6) WITH TIME ZONE NOT NULL,\r      dwh_Duration PERIOD(TIMESTAMP(6) WITH TIME ZONE) NOT NULL AS TRANSACTIONTIME)\rPRIMARY INDEX ( order_id );\"",
      "text/html": [
       "<div class = \"td-resultset-table-div\" style = \"max-height: 100%; overflow-y: auto\">\n",
       "      <table class=\"tdhistory438913\"><style>\n",
       "      table.tdhistory438913 { display: block !important; min-height: 105px !important; overflow: auto !important; height: 105px !important; width: 100% !important; border: 1px solid rgb(207, 207, 207) !important; border-collapse: collapse !important; ; color: var(--jp-ui-font-color1) !important; }\n",
       "      th.tdhistory438913 { border: 1px solid rgb(198,198,198) !important; border-collapse: collapse !important; ; padding: 2px 5px !important; ; font-size: 13px !important; ; text-align: center !important; white-space: normal !important; color: var(--jp-ui-font-color1) !important; }\n",
       "      th.tdhistory438913:last-child { text-align: left !important; }\n",
       "      tbody.tdhistory438913 tr:nth-child(even) { background: rgba(243, 243, 243, 0.75) !important; }\n",
       "      tbody.tdhistory438913 tr:nth-child(odd) { background: var(--jp-ui-inverse-font-color1) !important; }\n",
       "      td.tdhistory438913 { border: 1px solid rgb(207, 207, 207) !important; border-collapse: collapse !important; ; padding: 2px 5px !important; ; font-size: 13px !important; ; text-align: left !important;          white-space: nowrap !important; overflow:hidden !important; text-overflow:ellipsis !important;; }\n",
       "    </style><thead><tr style= \"background: rgba(243, 243, 243, 0.75)\"><th class=\"tdhistory438913\"></th><th class=\"tdhistory438913\">Request Text</th></tr></thead><tbody class=\"tdhistory438913 resultset-body\"><tr><th class=\"tdhistory438913\" style= \"background: rgba(243, 243, 243, 0.75)\">1</th><td class=\"tdhistory438913\">CREATE MULTISET TABLE Demo_User.Customer_OMS_Temporal ,FALLBACK ,\r",
       "     NO BEFORE JOURNAL,\r",
       "     NO AFTER JOURNAL,\r",
       "     CHECKSUM = DEFAULT,\r",
       "     DEFAULT MERGEBLOCKRATIO,\r",
       "     MAP = TD_MAP1\r",
       "     (\r",
       "      order_id INTEGER,\r",
       "      order_ts TIMESTAMP(0),\r",
       "      order_status VARCHAR(20) CHARACTER SET LATIN NOT CASESPECIFIC,\r",
       "      requested_arrival_ts TIMESTAMP(0),\r",
       "      actual_arrival_ts TIMESTAMP(0),\r",
       "      customer_id VARCHAR(20) CHARACTER SET LATIN NOT CASESPECIFIC,\r",
       "      customer_city VARCHAR(20) CHARACTER SET LATIN NOT CASESPECIFIC,\r",
       "      quantity INTEGER,\r",
       "      event_ts TIMESTAMP(0),\r",
       "      dwh_startts TIMESTAMP(6) WITH TIME ZONE NOT NULL,\r",
       "      dwh_endts TIMESTAMP(6) WITH TIME ZONE NOT NULL,\r",
       "      dwh_Duration PERIOD(TIMESTAMP(6) WITH TIME ZONE) NOT NULL AS TRANSACTIONTIME)\r",
       "PRIMARY INDEX ( order_id );</td></tr></tbody></table></div>"
      ]
     },
     "execution_count": 7,
     "metadata": {
      "application/vnd.teradata.resultset": "{\"resultSetID\":\"/home/jovyan/JupyterLabRoot/Teradata/Resultsets/2023.10.17_12.05.44.546_UTC\",\"historyID\":76,\"chunkID\":\"00001\",\"sessionid\":\"\",\"portnum\":\"\",\"dockermode\":\"docker\",\"totalRowCount\":1,\"chunkCount\":0,\"rowLimit\":0,\"columnMetadata\":[{\"columnName\":\"Request Text\",\"columnTypeName\":\"VARCHAR\",\"length\":807,\"scale\":807}]}"
     },
     "output_type": "execute_result"
    }
   ],
   "source": [
    "Show table Demo_User.Customer_OMS_Temporal;"
   ]
  },
  {
   "cell_type": "markdown",
   "id": "d534f41e-b059-488f-949f-f95ab443066a",
   "metadata": {},
   "source": [
    "<p style = 'font-size:16px;font-family:Arial'>From the above table definition we can see that the dwh_duration is defined as Period Datatype and as TransactionTime.<br>\n",
    "    dwh_Duration PERIOD(TIMESTAMP(6) WITH TIME ZONE) NOT NULL AS TRANSACTIONTIME<br>\n",
    "    Transaction time is the time period during which a fact, represented by all the information in a row,\n",
    "is or was known to be in effect in the database. It is maintained by database itself.<br>\n",
    "    <ul style = 'font-size:16px;font-family:Arial'><li>\n",
    "        The beginning of the transaction-time period is the time when the database became aware of a row,\n",
    "        when the row was first recorded in the database. This is when the row was added to a table.</li><li>\n",
    "The end of a transaction time period reflects when the fact was superseded by an update to the row,\n",
    "or when the row was deleted from the database. Rows containing information that is currently in effect\n",
    "        have transaction-time periods with indefinite ending bounds, represented as UNTIL_CLOSED.</li>\n",
    "        </ul>\n",
    " <p style = 'font-size:16px;font-family:Arial'>Let us look at the data for one order for it to be easier to understand.       "
   ]
  },
  {
   "cell_type": "code",
   "execution_count": 8,
   "id": "e6e66b9b-216d-42a0-9056-54a71e79bd2d",
   "metadata": {},
   "outputs": [
    {
     "data": {
      "application/vnd.teradata.resultset": "\"order_id\",\"order_ts\",\"order_status\",\"requested_arrival_ts\",\"actual_arrival_ts\",\"customer_id\",\"customer_city\",\"quantity\",\"event_ts\",\"dwh_startts\",\"dwh_endts\",\"dwh_Duration\"\n\"13540\",\"2023-04-06 09:57:00\",\"Shipment Received\",\"2023-04-11 15:13:00\",\"2023-04-11 17:00:00\",\"Cust1020\",\"Tucson\",\"12\",\"2023-04-11 18:14:00\",\"2023-04-12 02:00:00.000000-04:00\",\"9999-12-31 00:00:00.000000-05:00\",\"2023-04-12 02:00:00.000000-04:00,9999-12-31 23:59:59.999999+00:00\"",
      "text/html": [
       "<div class = \"td-resultset-table-div\" style = \"max-height: 100%; overflow-y: auto\">\n",
       "      <table class=\"tdhistory668301\"><style>\n",
       "      table.tdhistory668301 { display: block !important; min-height: 105px !important; overflow: auto !important; height: 105px !important; width: 100% !important; border: 1px solid rgb(207, 207, 207) !important; border-collapse: collapse !important; ; color: var(--jp-ui-font-color1) !important; }\n",
       "      th.tdhistory668301 { border: 1px solid rgb(198,198,198) !important; border-collapse: collapse !important; ; padding: 2px 5px !important; ; font-size: 13px !important; ; text-align: center !important; white-space: normal !important; color: var(--jp-ui-font-color1) !important; }\n",
       "      th.tdhistory668301:last-child { text-align: left !important; }\n",
       "      tbody.tdhistory668301 tr:nth-child(even) { background: rgba(243, 243, 243, 0.75) !important; }\n",
       "      tbody.tdhistory668301 tr:nth-child(odd) { background: var(--jp-ui-inverse-font-color1) !important; }\n",
       "      td.tdhistory668301 { border: 1px solid rgb(207, 207, 207) !important; border-collapse: collapse !important; ; padding: 2px 5px !important; ; font-size: 13px !important; ; text-align: left !important;          white-space: nowrap !important; overflow:hidden !important; text-overflow:ellipsis !important;; }\n",
       "    </style><thead><tr style= \"background: rgba(243, 243, 243, 0.75)\"><th class=\"tdhistory668301\"></th><th class=\"tdhistory668301\">order_id</th><th class=\"tdhistory668301\">order_ts</th><th class=\"tdhistory668301\">order_status</th><th class=\"tdhistory668301\">requested_arrival_ts</th><th class=\"tdhistory668301\">actual_arrival_ts</th><th class=\"tdhistory668301\">customer_id</th><th class=\"tdhistory668301\">customer_city</th><th class=\"tdhistory668301\">quantity</th><th class=\"tdhistory668301\">event_ts</th><th class=\"tdhistory668301\">dwh_startts</th><th class=\"tdhistory668301\">dwh_endts</th><th class=\"tdhistory668301\">dwh_Duration</th></tr></thead><tbody class=\"tdhistory668301 resultset-body\"><tr><th class=\"tdhistory668301\" style= \"background: rgba(243, 243, 243, 0.75)\">1</th><td class=\"tdhistory668301\">13540</td><td class=\"tdhistory668301\">2023-04-06 09:57:00</td><td class=\"tdhistory668301\">Shipment Received</td><td class=\"tdhistory668301\">2023-04-11 15:13:00</td><td class=\"tdhistory668301\">2023-04-11 17:00:00</td><td class=\"tdhistory668301\">Cust1020</td><td class=\"tdhistory668301\">Tucson</td><td class=\"tdhistory668301\">12</td><td class=\"tdhistory668301\">2023-04-11 18:14:00</td><td class=\"tdhistory668301\">2023-04-12 02:00:00.000000-04:00</td><td class=\"tdhistory668301\">9999-12-31 00:00:00.000000-05:00</td><td class=\"tdhistory668301\">2023-04-12 02:00:00.000000-04:00,9999-12-31 23:59:59.999999+00:00</td></tr></tbody></table></div>"
      ]
     },
     "execution_count": 8,
     "metadata": {
      "application/vnd.teradata.resultset": "{\"resultSetID\":\"/home/jovyan/JupyterLabRoot/Teradata/Resultsets/2023.10.17_12.15.24.608_UTC\",\"historyID\":77,\"chunkID\":\"00001\",\"sessionid\":\"\",\"portnum\":\"\",\"dockermode\":\"docker\",\"totalRowCount\":1,\"chunkCount\":0,\"rowLimit\":0,\"columnMetadata\":[{\"columnName\":\"order_id\",\"columnTypeName\":\"INTEGER\"},{\"columnNumber\":1,\"columnName\":\"order_ts\",\"columnTypeName\":\"TIMESTAMP\"},{\"columnNumber\":2,\"columnName\":\"order_status\",\"columnTypeName\":\"VARCHAR\",\"length\":20,\"scale\":20},{\"columnNumber\":3,\"columnName\":\"requested_arrival_ts\",\"columnTypeName\":\"TIMESTAMP\"},{\"columnNumber\":4,\"columnName\":\"actual_arrival_ts\",\"columnTypeName\":\"TIMESTAMP\"},{\"columnNumber\":5,\"columnName\":\"customer_id\",\"columnTypeName\":\"VARCHAR\",\"length\":20,\"scale\":20},{\"columnNumber\":6,\"columnName\":\"customer_city\",\"columnTypeName\":\"VARCHAR\",\"length\":20,\"scale\":20},{\"columnNumber\":7,\"columnName\":\"quantity\",\"columnTypeName\":\"INTEGER\"},{\"columnNumber\":8,\"columnName\":\"event_ts\",\"columnTypeName\":\"TIMESTAMP\"},{\"columnNumber\":9,\"columnName\":\"dwh_startts\",\"columnTypeName\":\"TIMESTAMP WITH TIME ZONE\",\"length\":6,\"scale\":6},{\"columnNumber\":10,\"columnName\":\"dwh_endts\",\"columnTypeName\":\"TIMESTAMP WITH TIME ZONE\",\"length\":6,\"scale\":6},{\"columnNumber\":11,\"columnName\":\"dwh_Duration\",\"columnTypeName\":\"PERIOD(TIMESTAMP WITH TIME ZONE)\",\"length\":6,\"scale\":6}]}"
     },
     "output_type": "execute_result"
    }
   ],
   "source": [
    "select  * from demo_user.customer_oms_temporal where order_id = 13540;"
   ]
  },
  {
   "cell_type": "markdown",
   "id": "68ff852e-b50d-47c5-922b-232e979c712c",
   "metadata": {},
   "source": [
    "<p style = 'font-size:16px;font-family:Arial'>From the above results we can see that due to temporal table, simple select will always display the active records only. For displaying all the records active and closed we need to provide 'NONSEQUENCED TRANSACTIONTIME' prefix in the query."
   ]
  },
  {
   "cell_type": "code",
   "execution_count": 9,
   "id": "a471d830-4f2d-4ee7-8fca-536f32bf5cb3",
   "metadata": {},
   "outputs": [
    {
     "data": {
      "application/vnd.teradata.resultset": "\"order_id\",\"order_ts\",\"order_status\",\"requested_arrival_ts\",\"actual_arrival_ts\",\"customer_id\",\"customer_city\",\"quantity\",\"event_ts\",\"dwh_startts\",\"dwh_endts\",\"dwh_Duration\"\n\"13540\",\"2023-04-06 09:57:00\",\"Order Placed\",\"2023-04-11 15:13:00\",\"\",\"Cust1020\",\"Tucson\",\"12\",\"2023-04-06 09:57:00\",\"2023-04-06 10:00:00.000000-04:00\",\"2023-04-09 17:59:59.000000-04:00\",\"2023-04-06 10:00:00.000000-04:00,2023-04-09 17:59:59.000000-04:00\"\n\"13540\",\"2023-04-06 09:57:00\",\"Shipment Notificatio\",\"2023-04-11 15:13:00\",\"2023-04-11 13:36:00\",\"Cust1020\",\"Tucson\",\"12\",\"2023-04-09 14:38:00\",\"2023-04-09 18:00:00.000000-04:00\",\"2023-04-12 01:59:59.000000-04:00\",\"2023-04-09 18:00:00.000000-04:00,2023-04-12 01:59:59.000000-04:00\"\n\"13540\",\"2023-04-06 09:57:00\",\"Shipment Received\",\"2023-04-11 15:13:00\",\"2023-04-11 17:00:00\",\"Cust1020\",\"Tucson\",\"12\",\"2023-04-11 18:14:00\",\"2023-04-12 02:00:00.000000-04:00\",\"9999-12-31 00:00:00.000000-05:00\",\"2023-04-12 02:00:00.000000-04:00,9999-12-31 23:59:59.999999+00:00\"",
      "text/html": [
       "<div class = \"td-resultset-table-div\" style = \"max-height: 100%; overflow-y: auto\">\n",
       "      <table class=\"tdhistory492900\"><style>\n",
       "      table.tdhistory492900 { display: block !important; min-height: 147px !important; overflow: auto !important; height: 147px !important; width: 100% !important; border: 1px solid rgb(207, 207, 207) !important; border-collapse: collapse !important; ; color: var(--jp-ui-font-color1) !important; }\n",
       "      th.tdhistory492900 { border: 1px solid rgb(198,198,198) !important; border-collapse: collapse !important; ; padding: 2px 5px !important; ; font-size: 13px !important; ; text-align: center !important; white-space: normal !important; color: var(--jp-ui-font-color1) !important; }\n",
       "      th.tdhistory492900:last-child { text-align: left !important; }\n",
       "      tbody.tdhistory492900 tr:nth-child(even) { background: rgba(243, 243, 243, 0.75) !important; }\n",
       "      tbody.tdhistory492900 tr:nth-child(odd) { background: var(--jp-ui-inverse-font-color1) !important; }\n",
       "      td.tdhistory492900 { border: 1px solid rgb(207, 207, 207) !important; border-collapse: collapse !important; ; padding: 2px 5px !important; ; font-size: 13px !important; ; text-align: left !important;          white-space: nowrap !important; overflow:hidden !important; text-overflow:ellipsis !important;; }\n",
       "    </style><thead><tr style= \"background: rgba(243, 243, 243, 0.75)\"><th class=\"tdhistory492900\"></th><th class=\"tdhistory492900\">order_id</th><th class=\"tdhistory492900\">order_ts</th><th class=\"tdhistory492900\">order_status</th><th class=\"tdhistory492900\">requested_arrival_ts</th><th class=\"tdhistory492900\">actual_arrival_ts</th><th class=\"tdhistory492900\">customer_id</th><th class=\"tdhistory492900\">customer_city</th><th class=\"tdhistory492900\">quantity</th><th class=\"tdhistory492900\">event_ts</th><th class=\"tdhistory492900\">dwh_startts</th><th class=\"tdhistory492900\">dwh_endts</th><th class=\"tdhistory492900\">dwh_Duration</th></tr></thead><tbody class=\"tdhistory492900 resultset-body\"><tr><th class=\"tdhistory492900\" style= \"background: rgba(243, 243, 243, 0.75)\">1</th><td class=\"tdhistory492900\">13540</td><td class=\"tdhistory492900\">2023-04-06 09:57:00</td><td class=\"tdhistory492900\">Order Placed</td><td class=\"tdhistory492900\">2023-04-11 15:13:00</td><td class=\"tdhistory492900\"></td><td class=\"tdhistory492900\">Cust1020</td><td class=\"tdhistory492900\">Tucson</td><td class=\"tdhistory492900\">12</td><td class=\"tdhistory492900\">2023-04-06 09:57:00</td><td class=\"tdhistory492900\">2023-04-06 10:00:00.000000-04:00</td><td class=\"tdhistory492900\">2023-04-09 17:59:59.000000-04:00</td><td class=\"tdhistory492900\">2023-04-06 10:00:00.000000-04:00,2023-04-09 17:59:59.000000-04:00</td></tr><tr><th class=\"tdhistory492900\" style= \"background: rgba(243, 243, 243, 0.75)\">2</th><td class=\"tdhistory492900\">13540</td><td class=\"tdhistory492900\">2023-04-06 09:57:00</td><td class=\"tdhistory492900\">Shipment Notificatio</td><td class=\"tdhistory492900\">2023-04-11 15:13:00</td><td class=\"tdhistory492900\">2023-04-11 13:36:00</td><td class=\"tdhistory492900\">Cust1020</td><td class=\"tdhistory492900\">Tucson</td><td class=\"tdhistory492900\">12</td><td class=\"tdhistory492900\">2023-04-09 14:38:00</td><td class=\"tdhistory492900\">2023-04-09 18:00:00.000000-04:00</td><td class=\"tdhistory492900\">2023-04-12 01:59:59.000000-04:00</td><td class=\"tdhistory492900\">2023-04-09 18:00:00.000000-04:00,2023-04-12 01:59:59.000000-04:00</td></tr><tr><th class=\"tdhistory492900\" style= \"background: rgba(243, 243, 243, 0.75)\">3</th><td class=\"tdhistory492900\">13540</td><td class=\"tdhistory492900\">2023-04-06 09:57:00</td><td class=\"tdhistory492900\">Shipment Received</td><td class=\"tdhistory492900\">2023-04-11 15:13:00</td><td class=\"tdhistory492900\">2023-04-11 17:00:00</td><td class=\"tdhistory492900\">Cust1020</td><td class=\"tdhistory492900\">Tucson</td><td class=\"tdhistory492900\">12</td><td class=\"tdhistory492900\">2023-04-11 18:14:00</td><td class=\"tdhistory492900\">2023-04-12 02:00:00.000000-04:00</td><td class=\"tdhistory492900\">9999-12-31 00:00:00.000000-05:00</td><td class=\"tdhistory492900\">2023-04-12 02:00:00.000000-04:00,9999-12-31 23:59:59.999999+00:00</td></tr></tbody></table></div>"
      ]
     },
     "execution_count": 9,
     "metadata": {
      "application/vnd.teradata.resultset": "{\"resultSetID\":\"/home/jovyan/JupyterLabRoot/Teradata/Resultsets/2023.10.17_12.18.59.812_UTC\",\"historyID\":78,\"chunkID\":\"00001\",\"sessionid\":\"\",\"portnum\":\"\",\"dockermode\":\"docker\",\"totalRowCount\":3,\"chunkCount\":0,\"rowLimit\":0,\"columnMetadata\":[{\"columnName\":\"order_id\",\"columnTypeName\":\"INTEGER\"},{\"columnNumber\":1,\"columnName\":\"order_ts\",\"columnTypeName\":\"TIMESTAMP\"},{\"columnNumber\":2,\"columnName\":\"order_status\",\"columnTypeName\":\"VARCHAR\",\"length\":20,\"scale\":20},{\"columnNumber\":3,\"columnName\":\"requested_arrival_ts\",\"columnTypeName\":\"TIMESTAMP\"},{\"columnNumber\":4,\"columnName\":\"actual_arrival_ts\",\"columnTypeName\":\"TIMESTAMP\"},{\"columnNumber\":5,\"columnName\":\"customer_id\",\"columnTypeName\":\"VARCHAR\",\"length\":20,\"scale\":20},{\"columnNumber\":6,\"columnName\":\"customer_city\",\"columnTypeName\":\"VARCHAR\",\"length\":20,\"scale\":20},{\"columnNumber\":7,\"columnName\":\"quantity\",\"columnTypeName\":\"INTEGER\"},{\"columnNumber\":8,\"columnName\":\"event_ts\",\"columnTypeName\":\"TIMESTAMP\"},{\"columnNumber\":9,\"columnName\":\"dwh_startts\",\"columnTypeName\":\"TIMESTAMP WITH TIME ZONE\",\"length\":6,\"scale\":6},{\"columnNumber\":10,\"columnName\":\"dwh_endts\",\"columnTypeName\":\"TIMESTAMP WITH TIME ZONE\",\"length\":6,\"scale\":6},{\"columnNumber\":11,\"columnName\":\"dwh_Duration\",\"columnTypeName\":\"PERIOD(TIMESTAMP WITH TIME ZONE)\",\"length\":6,\"scale\":6}]}"
     },
     "output_type": "execute_result"
    }
   ],
   "source": [
    "NONSEQUENCED TRANSACTIONTIME\n",
    "select  * from demo_user.customer_oms_temporal where order_id = 13540;"
   ]
  },
  {
   "cell_type": "markdown",
   "id": "c9674128-4a53-4c5e-a099-a269595dcee7",
   "metadata": {},
   "source": [
    "<p style = 'font-size:16px;font-family:Arial'>Now we can see all the records active or closed for the order_id 13540. We can see that the order information arrived in warehouse on 2023-04-06 and it's status is changed three times. <br> Now let us check the Transportation_Oms and Warehouse_Oms records for the same order."
   ]
  },
  {
   "cell_type": "code",
   "execution_count": 10,
   "id": "c3396359-a0f1-4949-bed8-379a52b6af03",
   "metadata": {},
   "outputs": [
    {
     "data": {
      "application/vnd.teradata.resultset": "\"ship_id\",\"order_id\",\"status\",\"origin\",\"destination\",\"event_ts\",\"dwh_startts\",\"dwh_endts\",\"dwh_Duration\"\n\"57080\",\"13540\",\"Delivery Complete\",\"Sacramento\",\"Tucson\",\"2023-04-11 15:15:00\",\"2023-04-11 17:00:00.000000-04:00\",\"9999-12-31 00:00:00.000000-05:00\",\"2023-04-11 17:00:00.000000-04:00,9999-12-31 23:59:59.999999+00:00\"",
      "text/html": [
       "<div class = \"td-resultset-table-div\" style = \"max-height: 100%; overflow-y: auto\">\n",
       "      <table class=\"tdhistory231522\"><style>\n",
       "      table.tdhistory231522 { display: block !important; min-height: 105px !important; overflow: auto !important; height: 105px !important; width: 100% !important; border: 1px solid rgb(207, 207, 207) !important; border-collapse: collapse !important; ; color: var(--jp-ui-font-color1) !important; }\n",
       "      th.tdhistory231522 { border: 1px solid rgb(198,198,198) !important; border-collapse: collapse !important; ; padding: 2px 5px !important; ; font-size: 13px !important; ; text-align: center !important; white-space: normal !important; color: var(--jp-ui-font-color1) !important; }\n",
       "      th.tdhistory231522:last-child { text-align: left !important; }\n",
       "      tbody.tdhistory231522 tr:nth-child(even) { background: rgba(243, 243, 243, 0.75) !important; }\n",
       "      tbody.tdhistory231522 tr:nth-child(odd) { background: var(--jp-ui-inverse-font-color1) !important; }\n",
       "      td.tdhistory231522 { border: 1px solid rgb(207, 207, 207) !important; border-collapse: collapse !important; ; padding: 2px 5px !important; ; font-size: 13px !important; ; text-align: left !important;          white-space: nowrap !important; overflow:hidden !important; text-overflow:ellipsis !important;; }\n",
       "    </style><thead><tr style= \"background: rgba(243, 243, 243, 0.75)\"><th class=\"tdhistory231522\"></th><th class=\"tdhistory231522\">ship_id</th><th class=\"tdhistory231522\">order_id</th><th class=\"tdhistory231522\">status</th><th class=\"tdhistory231522\">origin</th><th class=\"tdhistory231522\">destination</th><th class=\"tdhistory231522\">event_ts</th><th class=\"tdhistory231522\">dwh_startts</th><th class=\"tdhistory231522\">dwh_endts</th><th class=\"tdhistory231522\">dwh_Duration</th></tr></thead><tbody class=\"tdhistory231522 resultset-body\"><tr><th class=\"tdhistory231522\" style= \"background: rgba(243, 243, 243, 0.75)\">1</th><td class=\"tdhistory231522\">57080</td><td class=\"tdhistory231522\">13540</td><td class=\"tdhistory231522\">Delivery Complete</td><td class=\"tdhistory231522\">Sacramento</td><td class=\"tdhistory231522\">Tucson</td><td class=\"tdhistory231522\">2023-04-11 15:15:00</td><td class=\"tdhistory231522\">2023-04-11 17:00:00.000000-04:00</td><td class=\"tdhistory231522\">9999-12-31 00:00:00.000000-05:00</td><td class=\"tdhistory231522\">2023-04-11 17:00:00.000000-04:00,9999-12-31 23:59:59.999999+00:00</td></tr></tbody></table></div>"
      ]
     },
     "execution_count": 10,
     "metadata": {
      "application/vnd.teradata.resultset": "{\"resultSetID\":\"/home/jovyan/JupyterLabRoot/Teradata/Resultsets/2023.10.17_12.23.12.680_UTC\",\"historyID\":79,\"chunkID\":\"00001\",\"sessionid\":\"\",\"portnum\":\"\",\"dockermode\":\"docker\",\"totalRowCount\":1,\"chunkCount\":0,\"rowLimit\":0,\"columnMetadata\":[{\"columnName\":\"ship_id\",\"columnTypeName\":\"INTEGER\"},{\"columnNumber\":1,\"columnName\":\"order_id\",\"columnTypeName\":\"INTEGER\"},{\"columnNumber\":2,\"columnName\":\"status\",\"columnTypeName\":\"VARCHAR\",\"length\":20,\"scale\":20},{\"columnNumber\":3,\"columnName\":\"origin\",\"columnTypeName\":\"VARCHAR\",\"length\":20,\"scale\":20},{\"columnNumber\":4,\"columnName\":\"destination\",\"columnTypeName\":\"VARCHAR\",\"length\":20,\"scale\":20},{\"columnNumber\":5,\"columnName\":\"event_ts\",\"columnTypeName\":\"TIMESTAMP\"},{\"columnNumber\":6,\"columnName\":\"dwh_startts\",\"columnTypeName\":\"TIMESTAMP WITH TIME ZONE\",\"length\":6,\"scale\":6},{\"columnNumber\":7,\"columnName\":\"dwh_endts\",\"columnTypeName\":\"TIMESTAMP WITH TIME ZONE\",\"length\":6,\"scale\":6},{\"columnNumber\":8,\"columnName\":\"dwh_Duration\",\"columnTypeName\":\"PERIOD(TIMESTAMP WITH TIME ZONE)\",\"length\":6,\"scale\":6}]}"
     },
     "output_type": "execute_result"
    }
   ],
   "source": [
    "select * from demo_user.transportation_oms_temporal where order_id = 13540;"
   ]
  },
  {
   "cell_type": "code",
   "execution_count": 11,
   "id": "f7fe7cb5-2ac4-4b62-a82e-c63d55151998",
   "metadata": {},
   "outputs": [
    {
     "data": {
      "application/vnd.teradata.resultset": "\"ship_id\",\"order_id\",\"status\",\"origin\",\"destination\",\"event_ts\",\"dwh_startts\",\"dwh_endts\",\"dwh_Duration\"\n\"57080\",\"13540\",\"Order Received\",\"Sacramento\",\"Tucson\",\"2023-04-06 16:32:00\",\"2023-04-06 17:00:00.000000-04:00\",\"2023-04-09 12:59:59.000000-04:00\",\"2023-04-06 17:00:00.000000-04:00,2023-04-09 12:59:59.000000-04:00\"\n\"57080\",\"13540\",\"Truck Whse Arrived\",\"Sacramento\",\"Tucson\",\"2023-04-09 12:45:00\",\"2023-04-09 13:00:00.000000-04:00\",\"2023-04-09 16:59:59.000000-04:00\",\"2023-04-09 13:00:00.000000-04:00,2023-04-09 16:59:59.000000-04:00\"\n\"57080\",\"13540\",\"Truck Whse Departs\",\"Sacramento\",\"Tucson\",\"2023-04-09 14:38:00\",\"2023-04-09 17:00:00.000000-04:00\",\"2023-04-11 16:59:59.000000-04:00\",\"2023-04-09 17:00:00.000000-04:00,2023-04-11 16:59:59.000000-04:00\"\n\"57080\",\"13540\",\"Delivery Complete\",\"Sacramento\",\"Tucson\",\"2023-04-11 15:15:00\",\"2023-04-11 17:00:00.000000-04:00\",\"9999-12-31 00:00:00.000000-05:00\",\"2023-04-11 17:00:00.000000-04:00,9999-12-31 23:59:59.999999+00:00\"",
      "text/html": [
       "<div class = \"td-resultset-table-div\" style = \"max-height: 100%; overflow-y: auto\">\n",
       "      <table class=\"tdhistory949321\"><style>\n",
       "      table.tdhistory949321 { display: block !important; min-height: 168px !important; overflow: auto !important; height: 168px !important; width: 100% !important; border: 1px solid rgb(207, 207, 207) !important; border-collapse: collapse !important; ; color: var(--jp-ui-font-color1) !important; }\n",
       "      th.tdhistory949321 { border: 1px solid rgb(198,198,198) !important; border-collapse: collapse !important; ; padding: 2px 5px !important; ; font-size: 13px !important; ; text-align: center !important; white-space: normal !important; color: var(--jp-ui-font-color1) !important; }\n",
       "      th.tdhistory949321:last-child { text-align: left !important; }\n",
       "      tbody.tdhistory949321 tr:nth-child(even) { background: rgba(243, 243, 243, 0.75) !important; }\n",
       "      tbody.tdhistory949321 tr:nth-child(odd) { background: var(--jp-ui-inverse-font-color1) !important; }\n",
       "      td.tdhistory949321 { border: 1px solid rgb(207, 207, 207) !important; border-collapse: collapse !important; ; padding: 2px 5px !important; ; font-size: 13px !important; ; text-align: left !important;          white-space: nowrap !important; overflow:hidden !important; text-overflow:ellipsis !important;; }\n",
       "    </style><thead><tr style= \"background: rgba(243, 243, 243, 0.75)\"><th class=\"tdhistory949321\"></th><th class=\"tdhistory949321\">ship_id</th><th class=\"tdhistory949321\">order_id</th><th class=\"tdhistory949321\">status</th><th class=\"tdhistory949321\">origin</th><th class=\"tdhistory949321\">destination</th><th class=\"tdhistory949321\">event_ts</th><th class=\"tdhistory949321\">dwh_startts</th><th class=\"tdhistory949321\">dwh_endts</th><th class=\"tdhistory949321\">dwh_Duration</th></tr></thead><tbody class=\"tdhistory949321 resultset-body\"><tr><th class=\"tdhistory949321\" style= \"background: rgba(243, 243, 243, 0.75)\">1</th><td class=\"tdhistory949321\">57080</td><td class=\"tdhistory949321\">13540</td><td class=\"tdhistory949321\">Order Received</td><td class=\"tdhistory949321\">Sacramento</td><td class=\"tdhistory949321\">Tucson</td><td class=\"tdhistory949321\">2023-04-06 16:32:00</td><td class=\"tdhistory949321\">2023-04-06 17:00:00.000000-04:00</td><td class=\"tdhistory949321\">2023-04-09 12:59:59.000000-04:00</td><td class=\"tdhistory949321\">2023-04-06 17:00:00.000000-04:00,2023-04-09 12:59:59.000000-04:00</td></tr><tr><th class=\"tdhistory949321\" style= \"background: rgba(243, 243, 243, 0.75)\">2</th><td class=\"tdhistory949321\">57080</td><td class=\"tdhistory949321\">13540</td><td class=\"tdhistory949321\">Truck Whse Arrived</td><td class=\"tdhistory949321\">Sacramento</td><td class=\"tdhistory949321\">Tucson</td><td class=\"tdhistory949321\">2023-04-09 12:45:00</td><td class=\"tdhistory949321\">2023-04-09 13:00:00.000000-04:00</td><td class=\"tdhistory949321\">2023-04-09 16:59:59.000000-04:00</td><td class=\"tdhistory949321\">2023-04-09 13:00:00.000000-04:00,2023-04-09 16:59:59.000000-04:00</td></tr><tr><th class=\"tdhistory949321\" style= \"background: rgba(243, 243, 243, 0.75)\">3</th><td class=\"tdhistory949321\">57080</td><td class=\"tdhistory949321\">13540</td><td class=\"tdhistory949321\">Truck Whse Departs</td><td class=\"tdhistory949321\">Sacramento</td><td class=\"tdhistory949321\">Tucson</td><td class=\"tdhistory949321\">2023-04-09 14:38:00</td><td class=\"tdhistory949321\">2023-04-09 17:00:00.000000-04:00</td><td class=\"tdhistory949321\">2023-04-11 16:59:59.000000-04:00</td><td class=\"tdhistory949321\">2023-04-09 17:00:00.000000-04:00,2023-04-11 16:59:59.000000-04:00</td></tr><tr><th class=\"tdhistory949321\" style= \"background: rgba(243, 243, 243, 0.75)\">4</th><td class=\"tdhistory949321\">57080</td><td class=\"tdhistory949321\">13540</td><td class=\"tdhistory949321\">Delivery Complete</td><td class=\"tdhistory949321\">Sacramento</td><td class=\"tdhistory949321\">Tucson</td><td class=\"tdhistory949321\">2023-04-11 15:15:00</td><td class=\"tdhistory949321\">2023-04-11 17:00:00.000000-04:00</td><td class=\"tdhistory949321\">9999-12-31 00:00:00.000000-05:00</td><td class=\"tdhistory949321\">2023-04-11 17:00:00.000000-04:00,9999-12-31 23:59:59.999999+00:00</td></tr></tbody></table></div>"
      ]
     },
     "execution_count": 11,
     "metadata": {
      "application/vnd.teradata.resultset": "{\"resultSetID\":\"/home/jovyan/JupyterLabRoot/Teradata/Resultsets/2023.10.17_12.23.29.368_UTC\",\"historyID\":80,\"chunkID\":\"00001\",\"sessionid\":\"\",\"portnum\":\"\",\"dockermode\":\"docker\",\"totalRowCount\":4,\"chunkCount\":0,\"rowLimit\":0,\"columnMetadata\":[{\"columnName\":\"ship_id\",\"columnTypeName\":\"INTEGER\"},{\"columnNumber\":1,\"columnName\":\"order_id\",\"columnTypeName\":\"INTEGER\"},{\"columnNumber\":2,\"columnName\":\"status\",\"columnTypeName\":\"VARCHAR\",\"length\":20,\"scale\":20},{\"columnNumber\":3,\"columnName\":\"origin\",\"columnTypeName\":\"VARCHAR\",\"length\":20,\"scale\":20},{\"columnNumber\":4,\"columnName\":\"destination\",\"columnTypeName\":\"VARCHAR\",\"length\":20,\"scale\":20},{\"columnNumber\":5,\"columnName\":\"event_ts\",\"columnTypeName\":\"TIMESTAMP\"},{\"columnNumber\":6,\"columnName\":\"dwh_startts\",\"columnTypeName\":\"TIMESTAMP WITH TIME ZONE\",\"length\":6,\"scale\":6},{\"columnNumber\":7,\"columnName\":\"dwh_endts\",\"columnTypeName\":\"TIMESTAMP WITH TIME ZONE\",\"length\":6,\"scale\":6},{\"columnNumber\":8,\"columnName\":\"dwh_Duration\",\"columnTypeName\":\"PERIOD(TIMESTAMP WITH TIME ZONE)\",\"length\":6,\"scale\":6}]}"
     },
     "output_type": "execute_result"
    }
   ],
   "source": [
    "NONSEQUENCED TRANSACTIONTIME\n",
    "select * from demo_user.transportation_oms_temporal where order_id = 13540;"
   ]
  },
  {
   "cell_type": "code",
   "execution_count": 12,
   "id": "c48fb36e-64f9-41e2-8cce-c4037370a61c",
   "metadata": {},
   "outputs": [
    {
     "data": {
      "application/vnd.teradata.resultset": "\"ship_id\",\"shipping_ts\",\"shipment_status\",\"ship_from\",\"ship_to\",\"order_id\",\"customer_id\",\"order_ts\",\"quantity\",\"expected_delivery_ts\",\"actual_delivery_ts\",\"event_ts\",\"dwh_startts\",\"dwh_endts\",\"dwh_Duration\"\n\"57080\",\"2023-04-06 11:07:00\",\"Ship Departure\",\"Sacramento\",\"Tucson\",\"13540\",\"Cust1020\",\"2023-04-06 09:57:00\",\"12\",\"2023-04-11 15:13:00\",\"\",\"2023-04-09 14:38:00\",\"2023-04-09 14:38:00.000000-04:00\",\"9999-12-31 00:00:00.000000-05:00\",\"2023-04-09 14:38:00.000000-04:00,9999-12-31 23:59:59.999999+00:00\"",
      "text/html": [
       "<div class = \"td-resultset-table-div\" style = \"max-height: 100%; overflow-y: auto\">\n",
       "      <table class=\"tdhistory389521\"><style>\n",
       "      table.tdhistory389521 { display: block !important; min-height: 105px !important; overflow: auto !important; height: 105px !important; width: 100% !important; border: 1px solid rgb(207, 207, 207) !important; border-collapse: collapse !important; ; color: var(--jp-ui-font-color1) !important; }\n",
       "      th.tdhistory389521 { border: 1px solid rgb(198,198,198) !important; border-collapse: collapse !important; ; padding: 2px 5px !important; ; font-size: 13px !important; ; text-align: center !important; white-space: normal !important; color: var(--jp-ui-font-color1) !important; }\n",
       "      th.tdhistory389521:last-child { text-align: left !important; }\n",
       "      tbody.tdhistory389521 tr:nth-child(even) { background: rgba(243, 243, 243, 0.75) !important; }\n",
       "      tbody.tdhistory389521 tr:nth-child(odd) { background: var(--jp-ui-inverse-font-color1) !important; }\n",
       "      td.tdhistory389521 { border: 1px solid rgb(207, 207, 207) !important; border-collapse: collapse !important; ; padding: 2px 5px !important; ; font-size: 13px !important; ; text-align: left !important;          white-space: nowrap !important; overflow:hidden !important; text-overflow:ellipsis !important;; }\n",
       "    </style><thead><tr style= \"background: rgba(243, 243, 243, 0.75)\"><th class=\"tdhistory389521\"></th><th class=\"tdhistory389521\">ship_id</th><th class=\"tdhistory389521\">shipping_ts</th><th class=\"tdhistory389521\">shipment_status</th><th class=\"tdhistory389521\">ship_from</th><th class=\"tdhistory389521\">ship_to</th><th class=\"tdhistory389521\">order_id</th><th class=\"tdhistory389521\">customer_id</th><th class=\"tdhistory389521\">order_ts</th><th class=\"tdhistory389521\">quantity</th><th class=\"tdhistory389521\">expected_delivery_ts</th><th class=\"tdhistory389521\">actual_delivery_ts</th><th class=\"tdhistory389521\">event_ts</th><th class=\"tdhistory389521\">dwh_startts</th><th class=\"tdhistory389521\">dwh_endts</th><th class=\"tdhistory389521\">dwh_Duration</th></tr></thead><tbody class=\"tdhistory389521 resultset-body\"><tr><th class=\"tdhistory389521\" style= \"background: rgba(243, 243, 243, 0.75)\">1</th><td class=\"tdhistory389521\">57080</td><td class=\"tdhistory389521\">2023-04-06 11:07:00</td><td class=\"tdhistory389521\">Ship Departure</td><td class=\"tdhistory389521\">Sacramento</td><td class=\"tdhistory389521\">Tucson</td><td class=\"tdhistory389521\">13540</td><td class=\"tdhistory389521\">Cust1020</td><td class=\"tdhistory389521\">2023-04-06 09:57:00</td><td class=\"tdhistory389521\">12</td><td class=\"tdhistory389521\">2023-04-11 15:13:00</td><td class=\"tdhistory389521\"></td><td class=\"tdhistory389521\">2023-04-09 14:38:00</td><td class=\"tdhistory389521\">2023-04-09 14:38:00.000000-04:00</td><td class=\"tdhistory389521\">9999-12-31 00:00:00.000000-05:00</td><td class=\"tdhistory389521\">2023-04-09 14:38:00.000000-04:00,9999-12-31 23:59:59.999999+00:00</td></tr></tbody></table></div>"
      ]
     },
     "execution_count": 12,
     "metadata": {
      "application/vnd.teradata.resultset": "{\"resultSetID\":\"/home/jovyan/JupyterLabRoot/Teradata/Resultsets/2023.10.17_12.23.55.967_UTC\",\"historyID\":81,\"chunkID\":\"00001\",\"sessionid\":\"\",\"portnum\":\"\",\"dockermode\":\"docker\",\"totalRowCount\":1,\"chunkCount\":0,\"rowLimit\":0,\"columnMetadata\":[{\"columnName\":\"ship_id\",\"columnTypeName\":\"INTEGER\"},{\"columnNumber\":1,\"columnName\":\"shipping_ts\",\"columnTypeName\":\"TIMESTAMP\"},{\"columnNumber\":2,\"columnName\":\"shipment_status\",\"columnTypeName\":\"VARCHAR\",\"length\":20,\"scale\":20},{\"columnNumber\":3,\"columnName\":\"ship_from\",\"columnTypeName\":\"VARCHAR\",\"length\":20,\"scale\":20},{\"columnNumber\":4,\"columnName\":\"ship_to\",\"columnTypeName\":\"VARCHAR\",\"length\":20,\"scale\":20},{\"columnNumber\":5,\"columnName\":\"order_id\",\"columnTypeName\":\"INTEGER\"},{\"columnNumber\":6,\"columnName\":\"customer_id\",\"columnTypeName\":\"VARCHAR\",\"length\":20,\"scale\":20},{\"columnNumber\":7,\"columnName\":\"order_ts\",\"columnTypeName\":\"TIMESTAMP\"},{\"columnNumber\":8,\"columnName\":\"quantity\",\"columnTypeName\":\"INTEGER\"},{\"columnNumber\":9,\"columnName\":\"expected_delivery_ts\",\"columnTypeName\":\"TIMESTAMP\"},{\"columnNumber\":10,\"columnName\":\"actual_delivery_ts\",\"columnTypeName\":\"TIMESTAMP\"},{\"columnNumber\":11,\"columnName\":\"event_ts\",\"columnTypeName\":\"TIMESTAMP\"},{\"columnNumber\":12,\"columnName\":\"dwh_startts\",\"columnTypeName\":\"TIMESTAMP WITH TIME ZONE\",\"length\":6,\"scale\":6},{\"columnNumber\":13,\"columnName\":\"dwh_endts\",\"columnTypeName\":\"TIMESTAMP WITH TIME ZONE\",\"length\":6,\"scale\":6},{\"columnNumber\":14,\"columnName\":\"dwh_Duration\",\"columnTypeName\":\"PERIOD(TIMESTAMP WITH TIME ZONE)\",\"length\":6,\"scale\":6}]}"
     },
     "output_type": "execute_result"
    }
   ],
   "source": [
    "select * from demo_user.warehouse_oms_temporal where order_id = 13540;"
   ]
  },
  {
   "cell_type": "code",
   "execution_count": 13,
   "id": "cd15a75d-841c-4cb0-a4cb-4d26ad07dbf3",
   "metadata": {},
   "outputs": [
    {
     "data": {
      "application/vnd.teradata.resultset": "\"ship_id\",\"order_id\",\"status\",\"origin\",\"destination\",\"event_ts\",\"dwh_startts\",\"dwh_endts\",\"dwh_Duration\"\n\"57080\",\"13540\",\"Order Received\",\"Sacramento\",\"Tucson\",\"2023-04-06 16:32:00\",\"2023-04-06 17:00:00.000000-04:00\",\"2023-04-09 12:59:59.000000-04:00\",\"2023-04-06 17:00:00.000000-04:00,2023-04-09 12:59:59.000000-04:00\"\n\"57080\",\"13540\",\"Truck Whse Arrived\",\"Sacramento\",\"Tucson\",\"2023-04-09 12:45:00\",\"2023-04-09 13:00:00.000000-04:00\",\"2023-04-09 16:59:59.000000-04:00\",\"2023-04-09 13:00:00.000000-04:00,2023-04-09 16:59:59.000000-04:00\"\n\"57080\",\"13540\",\"Truck Whse Departs\",\"Sacramento\",\"Tucson\",\"2023-04-09 14:38:00\",\"2023-04-09 17:00:00.000000-04:00\",\"2023-04-11 16:59:59.000000-04:00\",\"2023-04-09 17:00:00.000000-04:00,2023-04-11 16:59:59.000000-04:00\"\n\"57080\",\"13540\",\"Delivery Complete\",\"Sacramento\",\"Tucson\",\"2023-04-11 15:15:00\",\"2023-04-11 17:00:00.000000-04:00\",\"9999-12-31 00:00:00.000000-05:00\",\"2023-04-11 17:00:00.000000-04:00,9999-12-31 23:59:59.999999+00:00\"",
      "text/html": [
       "<div class = \"td-resultset-table-div\" style = \"max-height: 100%; overflow-y: auto\">\n",
       "      <table class=\"tdhistory311445\"><style>\n",
       "      table.tdhistory311445 { display: block !important; min-height: 168px !important; overflow: auto !important; height: 168px !important; width: 100% !important; border: 1px solid rgb(207, 207, 207) !important; border-collapse: collapse !important; ; color: var(--jp-ui-font-color1) !important; }\n",
       "      th.tdhistory311445 { border: 1px solid rgb(198,198,198) !important; border-collapse: collapse !important; ; padding: 2px 5px !important; ; font-size: 13px !important; ; text-align: center !important; white-space: normal !important; color: var(--jp-ui-font-color1) !important; }\n",
       "      th.tdhistory311445:last-child { text-align: left !important; }\n",
       "      tbody.tdhistory311445 tr:nth-child(even) { background: rgba(243, 243, 243, 0.75) !important; }\n",
       "      tbody.tdhistory311445 tr:nth-child(odd) { background: var(--jp-ui-inverse-font-color1) !important; }\n",
       "      td.tdhistory311445 { border: 1px solid rgb(207, 207, 207) !important; border-collapse: collapse !important; ; padding: 2px 5px !important; ; font-size: 13px !important; ; text-align: left !important;          white-space: nowrap !important; overflow:hidden !important; text-overflow:ellipsis !important;; }\n",
       "    </style><thead><tr style= \"background: rgba(243, 243, 243, 0.75)\"><th class=\"tdhistory311445\"></th><th class=\"tdhistory311445\">ship_id</th><th class=\"tdhistory311445\">order_id</th><th class=\"tdhistory311445\">status</th><th class=\"tdhistory311445\">origin</th><th class=\"tdhistory311445\">destination</th><th class=\"tdhistory311445\">event_ts</th><th class=\"tdhistory311445\">dwh_startts</th><th class=\"tdhistory311445\">dwh_endts</th><th class=\"tdhistory311445\">dwh_Duration</th></tr></thead><tbody class=\"tdhistory311445 resultset-body\"><tr><th class=\"tdhistory311445\" style= \"background: rgba(243, 243, 243, 0.75)\">1</th><td class=\"tdhistory311445\">57080</td><td class=\"tdhistory311445\">13540</td><td class=\"tdhistory311445\">Order Received</td><td class=\"tdhistory311445\">Sacramento</td><td class=\"tdhistory311445\">Tucson</td><td class=\"tdhistory311445\">2023-04-06 16:32:00</td><td class=\"tdhistory311445\">2023-04-06 17:00:00.000000-04:00</td><td class=\"tdhistory311445\">2023-04-09 12:59:59.000000-04:00</td><td class=\"tdhistory311445\">2023-04-06 17:00:00.000000-04:00,2023-04-09 12:59:59.000000-04:00</td></tr><tr><th class=\"tdhistory311445\" style= \"background: rgba(243, 243, 243, 0.75)\">2</th><td class=\"tdhistory311445\">57080</td><td class=\"tdhistory311445\">13540</td><td class=\"tdhistory311445\">Truck Whse Arrived</td><td class=\"tdhistory311445\">Sacramento</td><td class=\"tdhistory311445\">Tucson</td><td class=\"tdhistory311445\">2023-04-09 12:45:00</td><td class=\"tdhistory311445\">2023-04-09 13:00:00.000000-04:00</td><td class=\"tdhistory311445\">2023-04-09 16:59:59.000000-04:00</td><td class=\"tdhistory311445\">2023-04-09 13:00:00.000000-04:00,2023-04-09 16:59:59.000000-04:00</td></tr><tr><th class=\"tdhistory311445\" style= \"background: rgba(243, 243, 243, 0.75)\">3</th><td class=\"tdhistory311445\">57080</td><td class=\"tdhistory311445\">13540</td><td class=\"tdhistory311445\">Truck Whse Departs</td><td class=\"tdhistory311445\">Sacramento</td><td class=\"tdhistory311445\">Tucson</td><td class=\"tdhistory311445\">2023-04-09 14:38:00</td><td class=\"tdhistory311445\">2023-04-09 17:00:00.000000-04:00</td><td class=\"tdhistory311445\">2023-04-11 16:59:59.000000-04:00</td><td class=\"tdhistory311445\">2023-04-09 17:00:00.000000-04:00,2023-04-11 16:59:59.000000-04:00</td></tr><tr><th class=\"tdhistory311445\" style= \"background: rgba(243, 243, 243, 0.75)\">4</th><td class=\"tdhistory311445\">57080</td><td class=\"tdhistory311445\">13540</td><td class=\"tdhistory311445\">Delivery Complete</td><td class=\"tdhistory311445\">Sacramento</td><td class=\"tdhistory311445\">Tucson</td><td class=\"tdhistory311445\">2023-04-11 15:15:00</td><td class=\"tdhistory311445\">2023-04-11 17:00:00.000000-04:00</td><td class=\"tdhistory311445\">9999-12-31 00:00:00.000000-05:00</td><td class=\"tdhistory311445\">2023-04-11 17:00:00.000000-04:00,9999-12-31 23:59:59.999999+00:00</td></tr></tbody></table></div>"
      ]
     },
     "execution_count": 13,
     "metadata": {
      "application/vnd.teradata.resultset": "{\"resultSetID\":\"/home/jovyan/JupyterLabRoot/Teradata/Resultsets/2023.10.17_12.24.06.707_UTC\",\"historyID\":82,\"chunkID\":\"00001\",\"sessionid\":\"\",\"portnum\":\"\",\"dockermode\":\"docker\",\"totalRowCount\":4,\"chunkCount\":0,\"rowLimit\":0,\"columnMetadata\":[{\"columnName\":\"ship_id\",\"columnTypeName\":\"INTEGER\"},{\"columnNumber\":1,\"columnName\":\"order_id\",\"columnTypeName\":\"INTEGER\"},{\"columnNumber\":2,\"columnName\":\"status\",\"columnTypeName\":\"VARCHAR\",\"length\":20,\"scale\":20},{\"columnNumber\":3,\"columnName\":\"origin\",\"columnTypeName\":\"VARCHAR\",\"length\":20,\"scale\":20},{\"columnNumber\":4,\"columnName\":\"destination\",\"columnTypeName\":\"VARCHAR\",\"length\":20,\"scale\":20},{\"columnNumber\":5,\"columnName\":\"event_ts\",\"columnTypeName\":\"TIMESTAMP\"},{\"columnNumber\":6,\"columnName\":\"dwh_startts\",\"columnTypeName\":\"TIMESTAMP WITH TIME ZONE\",\"length\":6,\"scale\":6},{\"columnNumber\":7,\"columnName\":\"dwh_endts\",\"columnTypeName\":\"TIMESTAMP WITH TIME ZONE\",\"length\":6,\"scale\":6},{\"columnNumber\":8,\"columnName\":\"dwh_Duration\",\"columnTypeName\":\"PERIOD(TIMESTAMP WITH TIME ZONE)\",\"length\":6,\"scale\":6}]}"
     },
     "output_type": "execute_result"
    }
   ],
   "source": [
    "NONSEQUENCED TRANSACTIONTIME\n",
    "select * from demo_user.transportation_oms_temporal where order_id = 13540;\n"
   ]
  },
  {
   "cell_type": "markdown",
   "id": "44d672cc-c2a1-4141-9f4e-92fbf7fda7af",
   "metadata": {},
   "source": [
    "<h1 style = 'font-size:28px;font-family:Arial;color:#E37C4D'><b>4. What is the status of my shipment?</b></h1> "
   ]
  },
  {
   "cell_type": "markdown",
   "id": "6cf10605-2eb0-496a-9a70-dd888f33d68a",
   "metadata": {},
   "source": [
    "<p style = 'font-size:16px;font-family:Arial'>As we have seen before due to complexility and silos of each of the source system in large supply chains, business struggle to get the basic answers of question."
   ]
  },
  {
   "cell_type": "markdown",
   "id": "27a63887-18a3-4e19-b931-070055941dc0",
   "metadata": {},
   "source": [
    "<img src=\"images/sc_problem.png\">  "
   ]
  },
  {
   "cell_type": "markdown",
   "id": "a309aa27-a41f-4837-a7f8-584d743b0ba7",
   "metadata": {},
   "source": [
    "<p style = 'font-size:16px;font-family:Arial'>Consider a scenario where the status from different systems are updated asynchronously and independent of each other. The status in the warehouse application shows delivered but is not reflected in the customer oms due to the batch update lag. <br>Prefix TRANSACTIONTIME AS OF 'timestamp' in the temporal table will give the valid record as of the transaction time specified.<br> For our example let us consider we want to check what is the status of my order at 2023-04-11 at 5.10Pm.  "
   ]
  },
  {
   "cell_type": "code",
   "execution_count": 15,
   "id": "8efbb9b8-7006-4633-855c-e0972c4ad519",
   "metadata": {},
   "outputs": [
    {
     "data": {
      "application/vnd.teradata.resultset": "\"order_id\",\"order_ts\",\"order_status\",\"requested_arrival_ts\",\"actual_arrival_ts\",\"customer_id\",\"customer_city\",\"quantity\",\"event_ts\",\"dwh_startts\",\"dwh_endts\"\n\"13540\",\"2023-04-06 09:57:00\",\"Shipment Notificatio\",\"2023-04-11 15:13:00\",\"2023-04-11 13:36:00\",\"Cust1020\",\"Tucson\",\"12\",\"2023-04-09 14:38:00\",\"2023-04-09 18:00:00.000000-04:00\",\"2023-04-12 01:59:59.000000-04:00\"",
      "text/html": [
       "<div class = \"td-resultset-table-div\" style = \"max-height: 100%; overflow-y: auto\">\n",
       "      <table class=\"tdhistory235628\"><style>\n",
       "      table.tdhistory235628 { display: block !important; min-height: 105px !important; overflow: auto !important; height: 105px !important; width: 100% !important; border: 1px solid rgb(207, 207, 207) !important; border-collapse: collapse !important; ; color: var(--jp-ui-font-color1) !important; }\n",
       "      th.tdhistory235628 { border: 1px solid rgb(198,198,198) !important; border-collapse: collapse !important; ; padding: 2px 5px !important; ; font-size: 13px !important; ; text-align: center !important; white-space: normal !important; color: var(--jp-ui-font-color1) !important; }\n",
       "      th.tdhistory235628:last-child { text-align: left !important; }\n",
       "      tbody.tdhistory235628 tr:nth-child(even) { background: rgba(243, 243, 243, 0.75) !important; }\n",
       "      tbody.tdhistory235628 tr:nth-child(odd) { background: var(--jp-ui-inverse-font-color1) !important; }\n",
       "      td.tdhistory235628 { border: 1px solid rgb(207, 207, 207) !important; border-collapse: collapse !important; ; padding: 2px 5px !important; ; font-size: 13px !important; ; text-align: left !important;          white-space: nowrap !important; overflow:hidden !important; text-overflow:ellipsis !important;; }\n",
       "    </style><thead><tr style= \"background: rgba(243, 243, 243, 0.75)\"><th class=\"tdhistory235628\"></th><th class=\"tdhistory235628\">order_id</th><th class=\"tdhistory235628\">order_ts</th><th class=\"tdhistory235628\">order_status</th><th class=\"tdhistory235628\">requested_arrival_ts</th><th class=\"tdhistory235628\">actual_arrival_ts</th><th class=\"tdhistory235628\">customer_id</th><th class=\"tdhistory235628\">customer_city</th><th class=\"tdhistory235628\">quantity</th><th class=\"tdhistory235628\">event_ts</th><th class=\"tdhistory235628\">dwh_startts</th><th class=\"tdhistory235628\">dwh_endts</th></tr></thead><tbody class=\"tdhistory235628 resultset-body\"><tr><th class=\"tdhistory235628\" style= \"background: rgba(243, 243, 243, 0.75)\">1</th><td class=\"tdhistory235628\">13540</td><td class=\"tdhistory235628\">2023-04-06 09:57:00</td><td class=\"tdhistory235628\">Shipment Notificatio</td><td class=\"tdhistory235628\">2023-04-11 15:13:00</td><td class=\"tdhistory235628\">2023-04-11 13:36:00</td><td class=\"tdhistory235628\">Cust1020</td><td class=\"tdhistory235628\">Tucson</td><td class=\"tdhistory235628\">12</td><td class=\"tdhistory235628\">2023-04-09 14:38:00</td><td class=\"tdhistory235628\">2023-04-09 18:00:00.000000-04:00</td><td class=\"tdhistory235628\">2023-04-12 01:59:59.000000-04:00</td></tr></tbody></table></div>"
      ]
     },
     "execution_count": 15,
     "metadata": {
      "application/vnd.teradata.resultset": "{\"resultSetID\":\"/home/jovyan/JupyterLabRoot/Teradata/Resultsets/2023.10.17_12.43.57.934_UTC\",\"historyID\":84,\"chunkID\":\"00001\",\"sessionid\":\"\",\"portnum\":\"\",\"dockermode\":\"docker\",\"totalRowCount\":1,\"chunkCount\":0,\"rowLimit\":0,\"columnMetadata\":[{\"columnName\":\"order_id\",\"columnTypeName\":\"INTEGER\"},{\"columnNumber\":1,\"columnName\":\"order_ts\",\"columnTypeName\":\"TIMESTAMP\"},{\"columnNumber\":2,\"columnName\":\"order_status\",\"columnTypeName\":\"VARCHAR\",\"length\":20,\"scale\":20},{\"columnNumber\":3,\"columnName\":\"requested_arrival_ts\",\"columnTypeName\":\"TIMESTAMP\"},{\"columnNumber\":4,\"columnName\":\"actual_arrival_ts\",\"columnTypeName\":\"TIMESTAMP\"},{\"columnNumber\":5,\"columnName\":\"customer_id\",\"columnTypeName\":\"VARCHAR\",\"length\":20,\"scale\":20},{\"columnNumber\":6,\"columnName\":\"customer_city\",\"columnTypeName\":\"VARCHAR\",\"length\":20,\"scale\":20},{\"columnNumber\":7,\"columnName\":\"quantity\",\"columnTypeName\":\"INTEGER\"},{\"columnNumber\":8,\"columnName\":\"event_ts\",\"columnTypeName\":\"TIMESTAMP\"},{\"columnNumber\":9,\"columnName\":\"dwh_startts\",\"columnTypeName\":\"TIMESTAMP WITH TIME ZONE\",\"length\":6,\"scale\":6},{\"columnNumber\":10,\"columnName\":\"dwh_endts\",\"columnTypeName\":\"TIMESTAMP WITH TIME ZONE\",\"length\":6,\"scale\":6}]}"
     },
     "output_type": "execute_result"
    }
   ],
   "source": [
    "TRANSACTIONTIME AS OF TIMESTAMP'2023-04-11 17:10:00.000000+00:00'\n",
    "select  * from demo_user.customer_oms_temporal where order_id = 13540;"
   ]
  },
  {
   "cell_type": "code",
   "execution_count": 16,
   "id": "85606a80-7690-4538-b71c-d1845cbb01c5",
   "metadata": {},
   "outputs": [
    {
     "data": {
      "application/vnd.teradata.resultset": "\"ship_id\",\"order_id\",\"status\",\"origin\",\"destination\",\"event_ts\",\"dwh_startts\",\"dwh_endts\"\n\"57080\",\"13540\",\"Truck Whse Departs\",\"Sacramento\",\"Tucson\",\"2023-04-09 14:38:00\",\"2023-04-09 17:00:00.000000-04:00\",\"2023-04-11 16:59:59.000000-04:00\"",
      "text/html": [
       "<div class = \"td-resultset-table-div\" style = \"max-height: 100%; overflow-y: auto\">\n",
       "      <table class=\"tdhistory157180\"><style>\n",
       "      table.tdhistory157180 { display: block !important; min-height: 105px !important; overflow: auto !important; height: 105px !important; width: 100% !important; border: 1px solid rgb(207, 207, 207) !important; border-collapse: collapse !important; ; color: var(--jp-ui-font-color1) !important; }\n",
       "      th.tdhistory157180 { border: 1px solid rgb(198,198,198) !important; border-collapse: collapse !important; ; padding: 2px 5px !important; ; font-size: 13px !important; ; text-align: center !important; white-space: normal !important; color: var(--jp-ui-font-color1) !important; }\n",
       "      th.tdhistory157180:last-child { text-align: left !important; }\n",
       "      tbody.tdhistory157180 tr:nth-child(even) { background: rgba(243, 243, 243, 0.75) !important; }\n",
       "      tbody.tdhistory157180 tr:nth-child(odd) { background: var(--jp-ui-inverse-font-color1) !important; }\n",
       "      td.tdhistory157180 { border: 1px solid rgb(207, 207, 207) !important; border-collapse: collapse !important; ; padding: 2px 5px !important; ; font-size: 13px !important; ; text-align: left !important;          white-space: nowrap !important; overflow:hidden !important; text-overflow:ellipsis !important;; }\n",
       "    </style><thead><tr style= \"background: rgba(243, 243, 243, 0.75)\"><th class=\"tdhistory157180\"></th><th class=\"tdhistory157180\">ship_id</th><th class=\"tdhistory157180\">order_id</th><th class=\"tdhistory157180\">status</th><th class=\"tdhistory157180\">origin</th><th class=\"tdhistory157180\">destination</th><th class=\"tdhistory157180\">event_ts</th><th class=\"tdhistory157180\">dwh_startts</th><th class=\"tdhistory157180\">dwh_endts</th></tr></thead><tbody class=\"tdhistory157180 resultset-body\"><tr><th class=\"tdhistory157180\" style= \"background: rgba(243, 243, 243, 0.75)\">1</th><td class=\"tdhistory157180\">57080</td><td class=\"tdhistory157180\">13540</td><td class=\"tdhistory157180\">Truck Whse Departs</td><td class=\"tdhistory157180\">Sacramento</td><td class=\"tdhistory157180\">Tucson</td><td class=\"tdhistory157180\">2023-04-09 14:38:00</td><td class=\"tdhistory157180\">2023-04-09 17:00:00.000000-04:00</td><td class=\"tdhistory157180\">2023-04-11 16:59:59.000000-04:00</td></tr></tbody></table></div>"
      ]
     },
     "execution_count": 16,
     "metadata": {
      "application/vnd.teradata.resultset": "{\"resultSetID\":\"/home/jovyan/JupyterLabRoot/Teradata/Resultsets/2023.10.17_12.44.20.872_UTC\",\"historyID\":85,\"chunkID\":\"00001\",\"sessionid\":\"\",\"portnum\":\"\",\"dockermode\":\"docker\",\"totalRowCount\":1,\"chunkCount\":0,\"rowLimit\":0,\"columnMetadata\":[{\"columnName\":\"ship_id\",\"columnTypeName\":\"INTEGER\"},{\"columnNumber\":1,\"columnName\":\"order_id\",\"columnTypeName\":\"INTEGER\"},{\"columnNumber\":2,\"columnName\":\"status\",\"columnTypeName\":\"VARCHAR\",\"length\":20,\"scale\":20},{\"columnNumber\":3,\"columnName\":\"origin\",\"columnTypeName\":\"VARCHAR\",\"length\":20,\"scale\":20},{\"columnNumber\":4,\"columnName\":\"destination\",\"columnTypeName\":\"VARCHAR\",\"length\":20,\"scale\":20},{\"columnNumber\":5,\"columnName\":\"event_ts\",\"columnTypeName\":\"TIMESTAMP\"},{\"columnNumber\":6,\"columnName\":\"dwh_startts\",\"columnTypeName\":\"TIMESTAMP WITH TIME ZONE\",\"length\":6,\"scale\":6},{\"columnNumber\":7,\"columnName\":\"dwh_endts\",\"columnTypeName\":\"TIMESTAMP WITH TIME ZONE\",\"length\":6,\"scale\":6}]}"
     },
     "output_type": "execute_result"
    }
   ],
   "source": [
    "TRANSACTIONTIME AS OF TIMESTAMP'2023-04-11 17:10:00.000000+00:00'\n",
    "select  * from demo_user.transportation_oms_temporal where order_id = 13540;"
   ]
  },
  {
   "cell_type": "code",
   "execution_count": 17,
   "id": "f3a25d77-39f4-4758-a327-fb960d6d3bb5",
   "metadata": {},
   "outputs": [
    {
     "data": {
      "application/vnd.teradata.resultset": "\"ship_id\",\"shipping_ts\",\"shipment_status\",\"ship_from\",\"ship_to\",\"order_id\",\"customer_id\",\"order_ts\",\"quantity\",\"expected_delivery_ts\",\"actual_delivery_ts\",\"event_ts\",\"dwh_startts\",\"dwh_endts\"\n\"57080\",\"2023-04-06 11:07:00\",\"Ship Departure\",\"Sacramento\",\"Tucson\",\"13540\",\"Cust1020\",\"2023-04-06 09:57:00\",\"12\",\"2023-04-11 15:13:00\",\"\",\"2023-04-09 14:38:00\",\"2023-04-09 14:38:00.000000-04:00\",\"9999-12-31 00:00:00.000000-05:00\"",
      "text/html": [
       "<div class = \"td-resultset-table-div\" style = \"max-height: 100%; overflow-y: auto\">\n",
       "      <table class=\"tdhistory695017\"><style>\n",
       "      table.tdhistory695017 { display: block !important; min-height: 105px !important; overflow: auto !important; height: 105px !important; width: 100% !important; border: 1px solid rgb(207, 207, 207) !important; border-collapse: collapse !important; ; color: var(--jp-ui-font-color1) !important; }\n",
       "      th.tdhistory695017 { border: 1px solid rgb(198,198,198) !important; border-collapse: collapse !important; ; padding: 2px 5px !important; ; font-size: 13px !important; ; text-align: center !important; white-space: normal !important; color: var(--jp-ui-font-color1) !important; }\n",
       "      th.tdhistory695017:last-child { text-align: left !important; }\n",
       "      tbody.tdhistory695017 tr:nth-child(even) { background: rgba(243, 243, 243, 0.75) !important; }\n",
       "      tbody.tdhistory695017 tr:nth-child(odd) { background: var(--jp-ui-inverse-font-color1) !important; }\n",
       "      td.tdhistory695017 { border: 1px solid rgb(207, 207, 207) !important; border-collapse: collapse !important; ; padding: 2px 5px !important; ; font-size: 13px !important; ; text-align: left !important;          white-space: nowrap !important; overflow:hidden !important; text-overflow:ellipsis !important;; }\n",
       "    </style><thead><tr style= \"background: rgba(243, 243, 243, 0.75)\"><th class=\"tdhistory695017\"></th><th class=\"tdhistory695017\">ship_id</th><th class=\"tdhistory695017\">shipping_ts</th><th class=\"tdhistory695017\">shipment_status</th><th class=\"tdhistory695017\">ship_from</th><th class=\"tdhistory695017\">ship_to</th><th class=\"tdhistory695017\">order_id</th><th class=\"tdhistory695017\">customer_id</th><th class=\"tdhistory695017\">order_ts</th><th class=\"tdhistory695017\">quantity</th><th class=\"tdhistory695017\">expected_delivery_ts</th><th class=\"tdhistory695017\">actual_delivery_ts</th><th class=\"tdhistory695017\">event_ts</th><th class=\"tdhistory695017\">dwh_startts</th><th class=\"tdhistory695017\">dwh_endts</th></tr></thead><tbody class=\"tdhistory695017 resultset-body\"><tr><th class=\"tdhistory695017\" style= \"background: rgba(243, 243, 243, 0.75)\">1</th><td class=\"tdhistory695017\">57080</td><td class=\"tdhistory695017\">2023-04-06 11:07:00</td><td class=\"tdhistory695017\">Ship Departure</td><td class=\"tdhistory695017\">Sacramento</td><td class=\"tdhistory695017\">Tucson</td><td class=\"tdhistory695017\">13540</td><td class=\"tdhistory695017\">Cust1020</td><td class=\"tdhistory695017\">2023-04-06 09:57:00</td><td class=\"tdhistory695017\">12</td><td class=\"tdhistory695017\">2023-04-11 15:13:00</td><td class=\"tdhistory695017\"></td><td class=\"tdhistory695017\">2023-04-09 14:38:00</td><td class=\"tdhistory695017\">2023-04-09 14:38:00.000000-04:00</td><td class=\"tdhistory695017\">9999-12-31 00:00:00.000000-05:00</td></tr></tbody></table></div>"
      ]
     },
     "execution_count": 17,
     "metadata": {
      "application/vnd.teradata.resultset": "{\"resultSetID\":\"/home/jovyan/JupyterLabRoot/Teradata/Resultsets/2023.10.17_12.44.35.747_UTC\",\"historyID\":86,\"chunkID\":\"00001\",\"sessionid\":\"\",\"portnum\":\"\",\"dockermode\":\"docker\",\"totalRowCount\":1,\"chunkCount\":0,\"rowLimit\":0,\"columnMetadata\":[{\"columnName\":\"ship_id\",\"columnTypeName\":\"INTEGER\"},{\"columnNumber\":1,\"columnName\":\"shipping_ts\",\"columnTypeName\":\"TIMESTAMP\"},{\"columnNumber\":2,\"columnName\":\"shipment_status\",\"columnTypeName\":\"VARCHAR\",\"length\":20,\"scale\":20},{\"columnNumber\":3,\"columnName\":\"ship_from\",\"columnTypeName\":\"VARCHAR\",\"length\":20,\"scale\":20},{\"columnNumber\":4,\"columnName\":\"ship_to\",\"columnTypeName\":\"VARCHAR\",\"length\":20,\"scale\":20},{\"columnNumber\":5,\"columnName\":\"order_id\",\"columnTypeName\":\"INTEGER\"},{\"columnNumber\":6,\"columnName\":\"customer_id\",\"columnTypeName\":\"VARCHAR\",\"length\":20,\"scale\":20},{\"columnNumber\":7,\"columnName\":\"order_ts\",\"columnTypeName\":\"TIMESTAMP\"},{\"columnNumber\":8,\"columnName\":\"quantity\",\"columnTypeName\":\"INTEGER\"},{\"columnNumber\":9,\"columnName\":\"expected_delivery_ts\",\"columnTypeName\":\"TIMESTAMP\"},{\"columnNumber\":10,\"columnName\":\"actual_delivery_ts\",\"columnTypeName\":\"TIMESTAMP\"},{\"columnNumber\":11,\"columnName\":\"event_ts\",\"columnTypeName\":\"TIMESTAMP\"},{\"columnNumber\":12,\"columnName\":\"dwh_startts\",\"columnTypeName\":\"TIMESTAMP WITH TIME ZONE\",\"length\":6,\"scale\":6},{\"columnNumber\":13,\"columnName\":\"dwh_endts\",\"columnTypeName\":\"TIMESTAMP WITH TIME ZONE\",\"length\":6,\"scale\":6}]}"
     },
     "output_type": "execute_result"
    }
   ],
   "source": [
    "TRANSACTIONTIME AS OF TIMESTAMP'2023-04-11 17:10:00.000000+00:00'\n",
    "select  * from demo_user.warehouse_oms_temporal where order_id = 13540;"
   ]
  },
  {
   "cell_type": "markdown",
   "id": "aecbeda9-23b1-4875-9356-199a11da0f4b",
   "metadata": {},
   "source": [
    "<p style = 'font-size:16px;font-family:Arial'>Here we can see the shipment status in all the three systems."
   ]
  },
  {
   "cell_type": "markdown",
   "id": "7076457f-e6a6-4fec-94b8-2aabd4f69423",
   "metadata": {},
   "source": [
    "<h1 style = 'font-size:20px;font-family:Arial;color:#E37C4D'> <b>5. CleanUp </b></h1>\n",
    "<p style = 'font-size:16px;font-family:Arial'>The following code will clean up tables and databases created above.</p>"
   ]
  },
  {
   "cell_type": "code",
   "execution_count": 10,
   "id": "0d6139cd-b1d3-4e24-b9c5-43691a1cd9b7",
   "metadata": {},
   "outputs": [],
   "source": [
    "call remove_data('DEMO_SupplyChain');-- takes about 10 seconds, optional if you want to use the data later"
   ]
  },
  {
   "cell_type": "markdown",
   "id": "0af2781a-78b0-4a73-b964-97705313a093",
   "metadata": {},
   "source": [
    "</h4>\n",
    "<p style = 'font-size:20px;font-family:Arial;color:#E37C4D'><b>Reference Links:</b></p>\n",
    "<ul style = 'font-size:16px;font-family:Arial'>\n",
    "    <li>Information about Temporal datatype can be found at: <a href = 'https://docs.teradata.com/search/all?query=temporal&content-lang=en-US'>Temporal Datatype</a></li>\n",
    "</ul>"
   ]
  },
  {
   "cell_type": "markdown",
   "id": "233c0844-2e2d-4926-8bac-c11a309e04ee",
   "metadata": {},
   "source": [
    "\n",
    "\n",
    "<footer style=\"paddinga:10px;background:#f9f9f9;border-bottom:3px solid #394851\">Copyright © Teradata Corporation - 2023. All Rights Reserved.</footer>"
   ]
  }
 ],
 "metadata": {
  "kernelspec": {
   "display_name": "Teradata SQL",
   "language": "Teradata SQL",
   "name": "teradatasql"
  },
  "language_info": {
   "codemirror_mode": "Teradata SQL",
   "file_extension": ".tdrs",
   "mimetype": "application/vnd.teradata.resultset",
   "name": "Teradata SQL",
   "nbconvert_exporter": "",
   "pygments_lexer": "",
   "version": "16.20"
  }
 },
 "nbformat": 4,
 "nbformat_minor": 5
}
