{
 "cells": [
  {
   "cell_type": "markdown",
   "metadata": {},
   "source": [
    "<header style=\"padding:10px;background:#f9f9f9;border-top:3px solid #00b2b1\"><img id=\"Teradata-logo\" src=\"https://www.teradata.com/Teradata/Images/Rebrand/Teradata_logo-two_color.png\" alt=\"Teradata\" width=\"220\" align=\"right\" />\n",
    "\n",
    "# Vantage Analytic Library Demo Notebook 2 \n",
    "\n",
    "</header>\n",
    "\n",
    "## Hypothesis Tests\n",
    "\n",
    "Statistical tests provide a means of testing whether the outcome of an experiment could have been accidental.  Numerous tests are provided in-database, all of the hypothesis testing variety.  These include the following 18 tests, categorized below, that are currently available in the Vantage Analytic Library XSP release 2.0.\n",
    "\n",
    "### Parametric Tests\n",
    "\n",
    "- Two Sample T-Test for Equal Means\n",
    "    - T Paired\n",
    "    - T Unpaired\n",
    "    - T Unpaired with Indicator\n",
    "- F-Test – N-Way\n",
    "- F-Test/Analysis of Variance (Two Way Unequal Sample Size)\n",
    "\n",
    "### Binomial Tests\n",
    "\n",
    "- Binomial/Ztest\n",
    "- Binomial Sign Test\n",
    "\n",
    "### Tests based on Contingency\n",
    "\n",
    "- Chi Square Test\n",
    "- Median Test\n",
    "\n",
    "### Kolmogorov/Smirnoff Tests\n",
    "    \n",
    "- Kolmogorov/Smirnoff Test (One Sample)\n",
    "- Lilliefors Test\n",
    "- Shapiro-Wilk Test\n",
    "- D’Agostino and Pearson Test\n",
    "- Smirnov Test\n",
    "\n",
    "### Rank Tests\n",
    "\n",
    "- Mann-Whitney/Kruskal-Wallis Test\n",
    "- Mann-Whitney/Kruskal-Wallis Independent Tests\n",
    "- Wilcoxon Signed Ranks Test\n",
    "- Frieman Test with Kendall’s Coefficient of Concordance & Spearman’s Rho\n",
    "\n",
    "In order to execute the Statistical Tests described in this book, the Statistical Test Metadata tables must be loaded into a database on the system to be analyzed.  These tables have been loaded into the TRNG_XSP database along with the other VAL XSP and Table Operators.  The Statistical Test functions all provide a parameter called statsdatabase that can be used to specify the database in which these tables are installed.\n",
    "\n",
    "## For access to the Vantage Analytic Library XSP on Transcend, please open a Service Hub incident @\n",
    "\n",
    ">- https://teradataservicehub.service-now.com/sp?id=index\n",
    ">- and begin the incident description with “This Incident is directed to the ‘IDW DBA Admin team.”\n",
    ">- Rest of the description: “Please grant the following users the role Training_TD_Warehouse_Miner_Exec_Role in tdprd2.\n",
    ">- Qlid_1\n",
    ">- Qlid_2\n",
    ">- Qlid_n “\n",
    "\n",
    "## Vantage Analytic Library - Call Structure\n",
    "\n",
    "call ${XSPDB}.td_analyze('\\<function name\\>','\\<database=database name\\>;\\<tablename=table name\\>;\\<columns=column1, column2\\>,'\\<param1\\>=\\<value1\\>;\\<param2\\>=\\<value2\\>...');"
   ]
  },
  {
   "cell_type": "markdown",
   "metadata": {},
   "source": [
    "---"
   ]
  },
  {
   "cell_type": "markdown",
   "metadata": {},
   "source": [
    "### Accessing the Data in DemoNow\n",
    "<p style = 'font-size:16px;font-family:Arial'>The Vantage Analytic Library demos will work either with foreign tables accessed from Cloud Storage via NOS or you may import the tables to your machine. You only need to import them once for all of this series of notebooks. If you import data for multiple demos, you may need to use the Data Dictionary \"Manage Your Space\" routine to cleanup tables you no longer need. \n",
    "    \n",
    "<p style = 'font-size:16px;font-family:Arial'>Use the link below to access the 2 options for using data from the data dictionary notebook:\n",
    "\n",
    "[Click Here to get data for this notebook](../Data_Dictionary/Data_Dictionary.ipynb#TRNG_XSP)\n",
    "\n",
    "[Click Here to Manage Your Space](../Data_Dictionary/Data_Dictionary.ipynb#Manage_Your_Space)\n",
    "    \n",
    "In the instructions below, use \"SystemName=local\" and \"QLID=demo_user\""
   ]
  },
  {
   "cell_type": "markdown",
   "metadata": {},
   "source": [
    "### Accessing the Data in Transcend AppCenter\n",
    "These notebooks are configured to run from within the Transcend AppCenter Jupyter instance.  You will sign on to Transcend Vantage systems (tdprd, tdprd2 or tdprd3 (AKA Vantage LIVE)) using your credentials.  First we setup variables that you will need to change as follows.\n",
    "\n",
    "1) First, setup the variable SystemName for the system to connect to.  In the Transcend environment, this will be one of the following:\n",
    "\n",
    "* NAME=Transcend-Production, USER=, HOST=tdprd.td.teradata.com, PROPS=\"logMech=LDAP,logmech=LDAP\"\n",
    "* NAME=Transcend-Production-AWS, USER=, HOST=tdprd2.td.teradata.com, PROPS=\"logMech=LDAP,logmech=LDAP\"\n",
    "* NAME=Vantage-LIVE, USER=, HOST=tdprd3.td.teradata.com, PROPS=\"logMech=LDAP,logmech=LDAP\"\n"
   ]
  },
  {
   "cell_type": "code",
   "execution_count": 1,
   "metadata": {},
   "outputs": [],
   "source": [
    "%var SystemName=local"
   ]
  },
  {
   "cell_type": "markdown",
   "metadata": {},
   "source": [
    "2) Next change QLID below to be equal to your QuickLook ID for Transcend or demo_user for DemoNow.  Your data lab will be the result database for all VAL calls where any output tables or views are created.  "
   ]
  },
  {
   "cell_type": "code",
   "execution_count": 2,
   "metadata": {},
   "outputs": [],
   "source": [
    "%var QLID=demo_user"
   ]
  },
  {
   "cell_type": "markdown",
   "metadata": {},
   "source": [
    "3) This next variable has been set for you to change, ONLY if you have installed the Vantage Analytic Library outside of the Transcend environment; if you are using this on Transcend, keep it set to TRNG_XSP.  This is where the software, statistical test tables and demo data are installed on both tdprd and tdprd2."
   ]
  },
  {
   "cell_type": "code",
   "execution_count": 3,
   "metadata": {},
   "outputs": [],
   "source": [
    "%var XSPDB=TRNG_XSP"
   ]
  },
  {
   "cell_type": "code",
   "execution_count": 4,
   "metadata": {},
   "outputs": [],
   "source": [
    "%var VALDB=val"
   ]
  },
  {
   "cell_type": "markdown",
   "metadata": {},
   "source": [
    "---"
   ]
  },
  {
   "cell_type": "markdown",
   "metadata": {},
   "source": [
    "Now, connect to the Transcend system you have specified in the variable \"SystemName\" above."
   ]
  },
  {
   "cell_type": "code",
   "execution_count": 6,
   "metadata": {},
   "outputs": [
    {
     "name": "stdout",
     "output_type": "stream",
     "text": [
      "Connected: 'local' connection activated for user 'demo_user'\n"
     ]
    }
   ],
   "source": [
    "%connect ${SystemName}"
   ]
  },
  {
   "cell_type": "markdown",
   "metadata": {},
   "source": [
    "Change focus to the database specified by the variable \"XSPDB\" above."
   ]
  },
  {
   "cell_type": "code",
   "execution_count": 7,
   "metadata": {},
   "outputs": [
    {
     "data": {
      "text/plain": [
       "Success: 1 rows affected"
      ]
     },
     "execution_count": 7,
     "metadata": {
      "application/vnd.teradata.resultset": ""
     },
     "output_type": "execute_result"
    }
   ],
   "source": [
    "DATABASE ${XSPDB};"
   ]
  },
  {
   "cell_type": "markdown",
   "metadata": {},
   "source": [
    "### Demo data - Financial Customers/Accounts/Transactions\n",
    "\n",
    "The following data has beenn put into the ${XSPDB} database on Transcend for the examples in the three different Jupyter Notebooks.  Its a simplistic ficticiouss dataset of banking customers (10K-ish rows), Accounts (20K-ish rows) and Transactions (1M-ish rows).  They are related to each other in the following ways:\n",
    "\n",
    "![DemoDataModel](./img/DemoData.png)"
   ]
  },
  {
   "cell_type": "code",
   "execution_count": 8,
   "metadata": {
    "scrolled": true
   },
   "outputs": [
    {
     "data": {
      "application/vnd.teradata.resultset": "\"cust_id\",\"income\",\"age\",\"years_with_bank\",\"nbr_children\",\"gender\",\"marital_status\",\"postal_code\",\"state_code\"\n\"21807232\",\"19845.8\",\"53\",\"6\",\"1\",\"F\",\"2\",\"98186\",\"WA\"\n\"21808416\",\"128531.0\",\"44\",\"7\",\"5\",\"M\",\"2\",\"32235\",\"FL\"\n\"23163758\",\"19001.7\",\"36\",\"2\",\"2\",\"F\",\"2\",\"10161\",\"NY\"\n\"17715698\",\"11453.0\",\"31\",\"8\",\"4\",\"F\",\"2\",\"70156\",\"LA\"\n\"16354740\",\"5541.3\",\"59\",\"9\",\"4\",\"M\",\"2\",\"10126\",\"NY\"\n\"24535710\",\"22312.8\",\"62\",\"0\",\"2\",\"F\",\"2\",\"10084\",\"NY\"\n\"25901332\",\"6885.0\",\"46\",\"3\",\"0\",\"M\",\"1\",\"02189\",\"MA\"\n\"25902605\",\"834.3\",\"71\",\"8\",\"0\",\"F\",\"4\",\"85046\",\"AZ\"\n\"13624980\",\"9849.0\",\"61\",\"1\",\"1\",\"F\",\"2\",\"10007\",\"NY\"\n\"27249760\",\"14166.0\",\"77\",\"9\",\"0\",\"F\",\"2\",\"90159\",\"CA\"",
      "text/html": [
       "<div class = \"td-resultset-table-div\" style = \"max-height: 100%; overflow-y: auto\">\n",
       "      <table class=\"tdhistory52672\"><style>\n",
       "      table.tdhistory52672 { display: block !important; min-height: 294px !important; overflow: auto !important; height: 294px !important; width: 100% !important; border: 1px solid rgb(207, 207, 207) !important; border-collapse: collapse !important; ; color: var(--jp-ui-font-color1) !important; }\n",
       "      th.tdhistory52672 { border: 1px solid rgb(198,198,198) !important; border-collapse: collapse !important; ; padding: 2px 5px !important; ; font-size: 13px !important; ; text-align: center !important; white-space: normal !important; color: var(--jp-ui-font-color1) !important; }\n",
       "      th.tdhistory52672:last-child { text-align: left !important; }\n",
       "      tbody.tdhistory52672 tr:nth-child(even) { background: rgba(243, 243, 243, 0.75) !important; }\n",
       "      tbody.tdhistory52672 tr:nth-child(odd) { background: var(--jp-ui-inverse-font-color1) !important; }\n",
       "      td.tdhistory52672 { border: 1px solid rgb(207, 207, 207) !important; border-collapse: collapse !important; ; padding: 2px 5px !important; ; font-size: 13px !important; ; text-align: left !important;          white-space: nowrap !important; overflow:hidden !important; text-overflow:ellipsis !important;; }\n",
       "    </style><thead><tr style= \"background: rgba(243, 243, 243, 0.75)\"><th class=\"tdhistory52672\"></th><th class=\"tdhistory52672\">cust_id</th><th class=\"tdhistory52672\">income</th><th class=\"tdhistory52672\">age</th><th class=\"tdhistory52672\">years_with_bank</th><th class=\"tdhistory52672\">nbr_children</th><th class=\"tdhistory52672\">gender</th><th class=\"tdhistory52672\">marital_status</th><th class=\"tdhistory52672\">postal_code</th><th class=\"tdhistory52672\">state_code</th></tr></thead><tbody class=\"tdhistory52672 resultset-body\"><tr><th class=\"tdhistory52672\" style= \"background: rgba(243, 243, 243, 0.75)\">1</th><td class=\"tdhistory52672\">21807232</td><td class=\"tdhistory52672\">19845.8</td><td class=\"tdhistory52672\">53</td><td class=\"tdhistory52672\">6</td><td class=\"tdhistory52672\">1</td><td class=\"tdhistory52672\">F</td><td class=\"tdhistory52672\">2</td><td class=\"tdhistory52672\">98186</td><td class=\"tdhistory52672\">WA</td></tr><tr><th class=\"tdhistory52672\" style= \"background: rgba(243, 243, 243, 0.75)\">2</th><td class=\"tdhistory52672\">21808416</td><td class=\"tdhistory52672\">128531.0</td><td class=\"tdhistory52672\">44</td><td class=\"tdhistory52672\">7</td><td class=\"tdhistory52672\">5</td><td class=\"tdhistory52672\">M</td><td class=\"tdhistory52672\">2</td><td class=\"tdhistory52672\">32235</td><td class=\"tdhistory52672\">FL</td></tr><tr><th class=\"tdhistory52672\" style= \"background: rgba(243, 243, 243, 0.75)\">3</th><td class=\"tdhistory52672\">23163758</td><td class=\"tdhistory52672\">19001.7</td><td class=\"tdhistory52672\">36</td><td class=\"tdhistory52672\">2</td><td class=\"tdhistory52672\">2</td><td class=\"tdhistory52672\">F</td><td class=\"tdhistory52672\">2</td><td class=\"tdhistory52672\">10161</td><td class=\"tdhistory52672\">NY</td></tr><tr><th class=\"tdhistory52672\" style= \"background: rgba(243, 243, 243, 0.75)\">4</th><td class=\"tdhistory52672\">17715698</td><td class=\"tdhistory52672\">11453.0</td><td class=\"tdhistory52672\">31</td><td class=\"tdhistory52672\">8</td><td class=\"tdhistory52672\">4</td><td class=\"tdhistory52672\">F</td><td class=\"tdhistory52672\">2</td><td class=\"tdhistory52672\">70156</td><td class=\"tdhistory52672\">LA</td></tr><tr><th class=\"tdhistory52672\" style= \"background: rgba(243, 243, 243, 0.75)\">5</th><td class=\"tdhistory52672\">16354740</td><td class=\"tdhistory52672\">5541.3</td><td class=\"tdhistory52672\">59</td><td class=\"tdhistory52672\">9</td><td class=\"tdhistory52672\">4</td><td class=\"tdhistory52672\">M</td><td class=\"tdhistory52672\">2</td><td class=\"tdhistory52672\">10126</td><td class=\"tdhistory52672\">NY</td></tr><tr><th class=\"tdhistory52672\" style= \"background: rgba(243, 243, 243, 0.75)\">6</th><td class=\"tdhistory52672\">24535710</td><td class=\"tdhistory52672\">22312.8</td><td class=\"tdhistory52672\">62</td><td class=\"tdhistory52672\">0</td><td class=\"tdhistory52672\">2</td><td class=\"tdhistory52672\">F</td><td class=\"tdhistory52672\">2</td><td class=\"tdhistory52672\">10084</td><td class=\"tdhistory52672\">NY</td></tr><tr><th class=\"tdhistory52672\" style= \"background: rgba(243, 243, 243, 0.75)\">7</th><td class=\"tdhistory52672\">25901332</td><td class=\"tdhistory52672\">6885.0</td><td class=\"tdhistory52672\">46</td><td class=\"tdhistory52672\">3</td><td class=\"tdhistory52672\">0</td><td class=\"tdhistory52672\">M</td><td class=\"tdhistory52672\">1</td><td class=\"tdhistory52672\">02189</td><td class=\"tdhistory52672\">MA</td></tr><tr><th class=\"tdhistory52672\" style= \"background: rgba(243, 243, 243, 0.75)\">8</th><td class=\"tdhistory52672\">25902605</td><td class=\"tdhistory52672\">834.3</td><td class=\"tdhistory52672\">71</td><td class=\"tdhistory52672\">8</td><td class=\"tdhistory52672\">0</td><td class=\"tdhistory52672\">F</td><td class=\"tdhistory52672\">4</td><td class=\"tdhistory52672\">85046</td><td class=\"tdhistory52672\">AZ</td></tr><tr><th class=\"tdhistory52672\" style= \"background: rgba(243, 243, 243, 0.75)\">9</th><td class=\"tdhistory52672\">13624980</td><td class=\"tdhistory52672\">9849.0</td><td class=\"tdhistory52672\">61</td><td class=\"tdhistory52672\">1</td><td class=\"tdhistory52672\">1</td><td class=\"tdhistory52672\">F</td><td class=\"tdhistory52672\">2</td><td class=\"tdhistory52672\">10007</td><td class=\"tdhistory52672\">NY</td></tr><tr><th class=\"tdhistory52672\" style= \"background: rgba(243, 243, 243, 0.75)\">10</th><td class=\"tdhistory52672\">27249760</td><td class=\"tdhistory52672\">14166.0</td><td class=\"tdhistory52672\">77</td><td class=\"tdhistory52672\">9</td><td class=\"tdhistory52672\">0</td><td class=\"tdhistory52672\">F</td><td class=\"tdhistory52672\">2</td><td class=\"tdhistory52672\">90159</td><td class=\"tdhistory52672\">CA</td></tr></tbody></table></div>"
      ]
     },
     "execution_count": 8,
     "metadata": {
      "application/vnd.teradata.resultset": "{\"resultSetID\":\"/home/jovyan/JupyterLabRoot/Teradata/Resultsets/2022.09.16_20.58.16.212_UTC\",\"historyID\":313,\"chunkID\":\"00001\",\"sessionid\":\"\",\"portnum\":\"\",\"dockermode\":\"docker\",\"totalRowCount\":10,\"chunkCount\":0,\"rowLimit\":0,\"columnMetadata\":[{\"columnName\":\"cust_id\",\"columnTypeName\":\"INTEGER\"},{\"columnNumber\":1,\"columnName\":\"income\",\"columnTypeName\":\"DECIMAL\",\"length\":1,\"precision\":15,\"scale\":1},{\"columnNumber\":2,\"columnName\":\"age\",\"columnTypeName\":\"INTEGER\"},{\"columnNumber\":3,\"columnName\":\"years_with_bank\",\"columnTypeName\":\"INTEGER\"},{\"columnNumber\":4,\"columnName\":\"nbr_children\",\"columnTypeName\":\"INTEGER\"},{\"columnNumber\":5,\"columnName\":\"gender\",\"columnTypeName\":\"VARCHAR\",\"length\":1,\"scale\":1},{\"columnNumber\":6,\"columnName\":\"marital_status\",\"columnTypeName\":\"VARCHAR\",\"length\":1,\"scale\":1},{\"columnNumber\":7,\"columnName\":\"postal_code\",\"columnTypeName\":\"VARCHAR\",\"length\":5,\"scale\":5},{\"columnNumber\":8,\"columnName\":\"state_code\",\"columnTypeName\":\"VARCHAR\",\"length\":2,\"scale\":2}]}"
     },
     "output_type": "execute_result"
    }
   ],
   "source": [
    "SELECT * FROM ${XSPDB}.Customer SAMPLE 10;"
   ]
  },
  {
   "cell_type": "code",
   "execution_count": 9,
   "metadata": {},
   "outputs": [
    {
     "name": "stdout",
     "output_type": "stream",
     "text": [
      "Result Set ID: /home/jovyan/JupyterLabRoot/Teradata/Resultsets/2022.09.16_20.58.16.212_UTC\n",
      "History ID:    313\n",
      "Rows:          10 of 10\n",
      "Parts:         2\n",
      "Column Definitions:\n",
      "    cust_id: INTEGER\n",
      "    income: DECIMAL(15, 1)\n",
      "    age: INTEGER\n",
      "    years_with_bank: INTEGER\n",
      "    nbr_children: INTEGER\n",
      "    gender: VARCHAR(1)\n",
      "    marital_status: VARCHAR(1)\n",
      "    postal_code: VARCHAR(5)\n",
      "    state_code: VARCHAR(2)\n"
     ]
    }
   ],
   "source": [
    "%meta"
   ]
  },
  {
   "cell_type": "code",
   "execution_count": 10,
   "metadata": {},
   "outputs": [
    {
     "data": {
      "application/vnd.teradata.resultset": "\"acct_nbr\",\"cust_id\",\"acct_type\",\"account_active\",\"acct_start_date\",\"starting_balance\",\"ending_balance\"\n\"000000001362904220\",\"27258080\",\"CK\",\"Y\",\"1987-03-23\",\"1974.918\",\"3279.348\"\n\"000000001363209312\",\"16358508\",\"SV\",\"N\",\"1986-02-03\",\"317.628\",\"3809.190\"\n\"000000001362742222\",\"29980324\",\"CK\",\"Y\",\"1991-12-01\",\"2912.162\",\"23320.206\"\n\"456114321363385423\",\"31357855\",\"CC\",\"Y\",\"1988-03-15\",\"845.470\",\"90.000\"\n\"000000001363298222\",\"29992556\",\"CK\",\"N\",\"1993-09-17\",\"8206.253\",\"1547.364\"\n\"456114321363420419\",\"25904980\",\"CC\",\"Y\",\"1993-09-11\",\"563.985\",\"3134.720\"\n\"456114321362740415\",\"20441100\",\"CC\",\"Y\",\"1994-05-29\",\"4222.341\",\"5721.588\"\n\"456114321363093416\",\"21809488\",\"CC\",\"Y\",\"1986-05-30\",\"788.578\",\"1020.000\"\n\"456114321363284414\",\"19085976\",\"CC\",\"Y\",\"1990-07-21\",\"1166.116\",\"3960.272\"\n\"000000001363354212\",\"16360248\",\"CK\",\"Y\",\"1994-03-27\",\"1254.312\",\"102.690\"",
      "text/html": [
       "<div class = \"td-resultset-table-div\" style = \"max-height: 100%; overflow-y: auto\">\n",
       "      <table class=\"tdhistory229909\"><style>\n",
       "      table.tdhistory229909 { display: block !important; min-height: 294px !important; overflow: auto !important; height: 294px !important; width: 100% !important; border: 1px solid rgb(207, 207, 207) !important; border-collapse: collapse !important; ; color: var(--jp-ui-font-color1) !important; }\n",
       "      th.tdhistory229909 { border: 1px solid rgb(198,198,198) !important; border-collapse: collapse !important; ; padding: 2px 5px !important; ; font-size: 13px !important; ; text-align: center !important; white-space: normal !important; color: var(--jp-ui-font-color1) !important; }\n",
       "      th.tdhistory229909:last-child { text-align: left !important; }\n",
       "      tbody.tdhistory229909 tr:nth-child(even) { background: rgba(243, 243, 243, 0.75) !important; }\n",
       "      tbody.tdhistory229909 tr:nth-child(odd) { background: var(--jp-ui-inverse-font-color1) !important; }\n",
       "      td.tdhistory229909 { border: 1px solid rgb(207, 207, 207) !important; border-collapse: collapse !important; ; padding: 2px 5px !important; ; font-size: 13px !important; ; text-align: left !important;          white-space: nowrap !important; overflow:hidden !important; text-overflow:ellipsis !important;; }\n",
       "    </style><thead><tr style= \"background: rgba(243, 243, 243, 0.75)\"><th class=\"tdhistory229909\"></th><th class=\"tdhistory229909\">acct_nbr</th><th class=\"tdhistory229909\">cust_id</th><th class=\"tdhistory229909\">acct_type</th><th class=\"tdhistory229909\">account_active</th><th class=\"tdhistory229909\">acct_start_date</th><th class=\"tdhistory229909\">starting_balance</th><th class=\"tdhistory229909\">ending_balance</th></tr></thead><tbody class=\"tdhistory229909 resultset-body\"><tr><th class=\"tdhistory229909\" style= \"background: rgba(243, 243, 243, 0.75)\">1</th><td class=\"tdhistory229909\">000000001362904220</td><td class=\"tdhistory229909\">27258080</td><td class=\"tdhistory229909\">CK</td><td class=\"tdhistory229909\">Y</td><td class=\"tdhistory229909\">1987-03-23</td><td class=\"tdhistory229909\">1974.918</td><td class=\"tdhistory229909\">3279.348</td></tr><tr><th class=\"tdhistory229909\" style= \"background: rgba(243, 243, 243, 0.75)\">2</th><td class=\"tdhistory229909\">000000001363209312</td><td class=\"tdhistory229909\">16358508</td><td class=\"tdhistory229909\">SV</td><td class=\"tdhistory229909\">N</td><td class=\"tdhistory229909\">1986-02-03</td><td class=\"tdhistory229909\">317.628</td><td class=\"tdhistory229909\">3809.190</td></tr><tr><th class=\"tdhistory229909\" style= \"background: rgba(243, 243, 243, 0.75)\">3</th><td class=\"tdhistory229909\">000000001362742222</td><td class=\"tdhistory229909\">29980324</td><td class=\"tdhistory229909\">CK</td><td class=\"tdhistory229909\">Y</td><td class=\"tdhistory229909\">1991-12-01</td><td class=\"tdhistory229909\">2912.162</td><td class=\"tdhistory229909\">23320.206</td></tr><tr><th class=\"tdhistory229909\" style= \"background: rgba(243, 243, 243, 0.75)\">4</th><td class=\"tdhistory229909\">456114321363385423</td><td class=\"tdhistory229909\">31357855</td><td class=\"tdhistory229909\">CC</td><td class=\"tdhistory229909\">Y</td><td class=\"tdhistory229909\">1988-03-15</td><td class=\"tdhistory229909\">845.470</td><td class=\"tdhistory229909\">90.000</td></tr><tr><th class=\"tdhistory229909\" style= \"background: rgba(243, 243, 243, 0.75)\">5</th><td class=\"tdhistory229909\">000000001363298222</td><td class=\"tdhistory229909\">29992556</td><td class=\"tdhistory229909\">CK</td><td class=\"tdhistory229909\">N</td><td class=\"tdhistory229909\">1993-09-17</td><td class=\"tdhistory229909\">8206.253</td><td class=\"tdhistory229909\">1547.364</td></tr><tr><th class=\"tdhistory229909\" style= \"background: rgba(243, 243, 243, 0.75)\">6</th><td class=\"tdhistory229909\">456114321363420419</td><td class=\"tdhistory229909\">25904980</td><td class=\"tdhistory229909\">CC</td><td class=\"tdhistory229909\">Y</td><td class=\"tdhistory229909\">1993-09-11</td><td class=\"tdhistory229909\">563.985</td><td class=\"tdhistory229909\">3134.720</td></tr><tr><th class=\"tdhistory229909\" style= \"background: rgba(243, 243, 243, 0.75)\">7</th><td class=\"tdhistory229909\">456114321362740415</td><td class=\"tdhistory229909\">20441100</td><td class=\"tdhistory229909\">CC</td><td class=\"tdhistory229909\">Y</td><td class=\"tdhistory229909\">1994-05-29</td><td class=\"tdhistory229909\">4222.341</td><td class=\"tdhistory229909\">5721.588</td></tr><tr><th class=\"tdhistory229909\" style= \"background: rgba(243, 243, 243, 0.75)\">8</th><td class=\"tdhistory229909\">456114321363093416</td><td class=\"tdhistory229909\">21809488</td><td class=\"tdhistory229909\">CC</td><td class=\"tdhistory229909\">Y</td><td class=\"tdhistory229909\">1986-05-30</td><td class=\"tdhistory229909\">788.578</td><td class=\"tdhistory229909\">1020.000</td></tr><tr><th class=\"tdhistory229909\" style= \"background: rgba(243, 243, 243, 0.75)\">9</th><td class=\"tdhistory229909\">456114321363284414</td><td class=\"tdhistory229909\">19085976</td><td class=\"tdhistory229909\">CC</td><td class=\"tdhistory229909\">Y</td><td class=\"tdhistory229909\">1990-07-21</td><td class=\"tdhistory229909\">1166.116</td><td class=\"tdhistory229909\">3960.272</td></tr><tr><th class=\"tdhistory229909\" style= \"background: rgba(243, 243, 243, 0.75)\">10</th><td class=\"tdhistory229909\">000000001363354212</td><td class=\"tdhistory229909\">16360248</td><td class=\"tdhistory229909\">CK</td><td class=\"tdhistory229909\">Y</td><td class=\"tdhistory229909\">1994-03-27</td><td class=\"tdhistory229909\">1254.312</td><td class=\"tdhistory229909\">102.690</td></tr></tbody></table></div>"
      ]
     },
     "execution_count": 10,
     "metadata": {
      "application/vnd.teradata.resultset": "{\"resultSetID\":\"/home/jovyan/JupyterLabRoot/Teradata/Resultsets/2022.09.16_20.58.18.586_UTC\",\"historyID\":314,\"chunkID\":\"00001\",\"sessionid\":\"\",\"portnum\":\"\",\"dockermode\":\"docker\",\"totalRowCount\":10,\"chunkCount\":0,\"rowLimit\":0,\"columnMetadata\":[{\"columnName\":\"acct_nbr\",\"columnTypeName\":\"VARCHAR\",\"length\":18,\"scale\":18},{\"columnNumber\":1,\"columnName\":\"cust_id\",\"columnTypeName\":\"INTEGER\"},{\"columnNumber\":2,\"columnName\":\"acct_type\",\"columnTypeName\":\"VARCHAR\",\"length\":2,\"scale\":2},{\"columnNumber\":3,\"columnName\":\"account_active\",\"columnTypeName\":\"VARCHAR\",\"length\":1,\"scale\":1},{\"columnNumber\":4,\"columnName\":\"acct_start_date\",\"columnTypeName\":\"DATE\"},{\"columnNumber\":5,\"columnName\":\"starting_balance\",\"columnTypeName\":\"DECIMAL\",\"length\":3,\"precision\":11,\"scale\":3},{\"columnNumber\":6,\"columnName\":\"ending_balance\",\"columnTypeName\":\"DECIMAL\",\"length\":3,\"precision\":11,\"scale\":3}]}"
     },
     "output_type": "execute_result"
    }
   ],
   "source": [
    "SELECT * FROM ${XSPDB}.Accounts SAMPLE 10;"
   ]
  },
  {
   "cell_type": "code",
   "execution_count": 11,
   "metadata": {},
   "outputs": [
    {
     "name": "stdout",
     "output_type": "stream",
     "text": [
      "Result Set ID: /home/jovyan/JupyterLabRoot/Teradata/Resultsets/2022.09.16_20.58.18.586_UTC\n",
      "History ID:    314\n",
      "Rows:          10 of 10\n",
      "Parts:         2\n",
      "Column Definitions:\n",
      "    acct_nbr: VARCHAR(18)\n",
      "    cust_id: INTEGER\n",
      "    acct_type: VARCHAR(2)\n",
      "    account_active: VARCHAR(1)\n",
      "    acct_start_date: DATE\n",
      "    starting_balance: DECIMAL(11, 3)\n",
      "    ending_balance: DECIMAL(11, 3)\n"
     ]
    }
   ],
   "source": [
    "%meta"
   ]
  },
  {
   "cell_type": "code",
   "execution_count": 12,
   "metadata": {},
   "outputs": [
    {
     "data": {
      "application/vnd.teradata.resultset": "\"tran_id\",\"acct_nbr\",\"tran_amt\",\"principal_amt\",\"interest_amt\",\"new_balance\",\"tran_date\",\"tran_time\",\"channel\",\"tran_code\"\n\"1495\",\"000000001362594223\",\"-957.14\",\"-957.14\",\".000\",\"10168.84\",\"1995-08-08\",\"940\",\"A\",\"TR\"\n\"910\",\"000000001363017213\",\"-185.51\",\"-140.51\",\".000\",\"380.45\",\"1995-02-16\",\"0\",\"P\",\"WD\"\n\"380\",\"000000001362926219\",\"-20.00\",\"58.00\",\".000\",\"3673.58\",\"1995-03-23\",\"91532\",\"A\",\"WD\"\n\"60\",\"000000001362806320\",\"3.59\",\".00\",\"7.590\",\"1440.97\",\"1995-03-31\",\"235959\",\"\",\"IN\"\n\"110\",\"000000001362796222\",\".32\",\"9.00\",\".243\",\"252.69\",\"1995-05-31\",\"235959\",\"\",\"IN\"\n\"560\",\"456114321363327414\",\"-189.61\",\"-43.61\",\".760\",\"-2878.81\",\"1995-11-10\",\"110213\",\"E\",\"CG\"\n\"532\",\"000000001362512219\",\"190.70\",\"268.70\",\".000\",\"1934.92\",\"1995-02-23\",\"211532\",\"A\",\"DP\"\n\"200\",\"000000001362875310\",\".00\",\".00\",\".000\",\"449.10\",\"1995-12-05\",\"91018\",\"V\",\"IQ\"\n\"162\",\"000000001362698318\",\"273.50\",\"1094.00\",\".000\",\"414.74\",\"1995-01-11\",\"91613\",\"A\",\"DP\"\n\"608\",\"000000001362562319\",\".00\",\"78.00\",\".000\",\"4203.43\",\"1995-11-24\",\"190451\",\"A\",\"IQ\"",
      "text/html": [
       "<div class = \"td-resultset-table-div\" style = \"max-height: 100%; overflow-y: auto\">\n",
       "      <table class=\"tdhistory743332\"><style>\n",
       "      table.tdhistory743332 { display: block !important; min-height: 294px !important; overflow: auto !important; height: 294px !important; width: 100% !important; border: 1px solid rgb(207, 207, 207) !important; border-collapse: collapse !important; ; color: var(--jp-ui-font-color1) !important; }\n",
       "      th.tdhistory743332 { border: 1px solid rgb(198,198,198) !important; border-collapse: collapse !important; ; padding: 2px 5px !important; ; font-size: 13px !important; ; text-align: center !important; white-space: normal !important; color: var(--jp-ui-font-color1) !important; }\n",
       "      th.tdhistory743332:last-child { text-align: left !important; }\n",
       "      tbody.tdhistory743332 tr:nth-child(even) { background: rgba(243, 243, 243, 0.75) !important; }\n",
       "      tbody.tdhistory743332 tr:nth-child(odd) { background: var(--jp-ui-inverse-font-color1) !important; }\n",
       "      td.tdhistory743332 { border: 1px solid rgb(207, 207, 207) !important; border-collapse: collapse !important; ; padding: 2px 5px !important; ; font-size: 13px !important; ; text-align: left !important;          white-space: nowrap !important; overflow:hidden !important; text-overflow:ellipsis !important;; }\n",
       "    </style><thead><tr style= \"background: rgba(243, 243, 243, 0.75)\"><th class=\"tdhistory743332\"></th><th class=\"tdhistory743332\">tran_id</th><th class=\"tdhistory743332\">acct_nbr</th><th class=\"tdhistory743332\">tran_amt</th><th class=\"tdhistory743332\">principal_amt</th><th class=\"tdhistory743332\">interest_amt</th><th class=\"tdhistory743332\">new_balance</th><th class=\"tdhistory743332\">tran_date</th><th class=\"tdhistory743332\">tran_time</th><th class=\"tdhistory743332\">channel</th><th class=\"tdhistory743332\">tran_code</th></tr></thead><tbody class=\"tdhistory743332 resultset-body\"><tr><th class=\"tdhistory743332\" style= \"background: rgba(243, 243, 243, 0.75)\">1</th><td class=\"tdhistory743332\">1495</td><td class=\"tdhistory743332\">000000001362594223</td><td class=\"tdhistory743332\">-957.14</td><td class=\"tdhistory743332\">-957.14</td><td class=\"tdhistory743332\">.000</td><td class=\"tdhistory743332\">10168.84</td><td class=\"tdhistory743332\">1995-08-08</td><td class=\"tdhistory743332\">940</td><td class=\"tdhistory743332\">A</td><td class=\"tdhistory743332\">TR</td></tr><tr><th class=\"tdhistory743332\" style= \"background: rgba(243, 243, 243, 0.75)\">2</th><td class=\"tdhistory743332\">910</td><td class=\"tdhistory743332\">000000001363017213</td><td class=\"tdhistory743332\">-185.51</td><td class=\"tdhistory743332\">-140.51</td><td class=\"tdhistory743332\">.000</td><td class=\"tdhistory743332\">380.45</td><td class=\"tdhistory743332\">1995-02-16</td><td class=\"tdhistory743332\">0</td><td class=\"tdhistory743332\">P</td><td class=\"tdhistory743332\">WD</td></tr><tr><th class=\"tdhistory743332\" style= \"background: rgba(243, 243, 243, 0.75)\">3</th><td class=\"tdhistory743332\">380</td><td class=\"tdhistory743332\">000000001362926219</td><td class=\"tdhistory743332\">-20.00</td><td class=\"tdhistory743332\">58.00</td><td class=\"tdhistory743332\">.000</td><td class=\"tdhistory743332\">3673.58</td><td class=\"tdhistory743332\">1995-03-23</td><td class=\"tdhistory743332\">91532</td><td class=\"tdhistory743332\">A</td><td class=\"tdhistory743332\">WD</td></tr><tr><th class=\"tdhistory743332\" style= \"background: rgba(243, 243, 243, 0.75)\">4</th><td class=\"tdhistory743332\">60</td><td class=\"tdhistory743332\">000000001362806320</td><td class=\"tdhistory743332\">3.59</td><td class=\"tdhistory743332\">.00</td><td class=\"tdhistory743332\">7.590</td><td class=\"tdhistory743332\">1440.97</td><td class=\"tdhistory743332\">1995-03-31</td><td class=\"tdhistory743332\">235959</td><td class=\"tdhistory743332\"></td><td class=\"tdhistory743332\">IN</td></tr><tr><th class=\"tdhistory743332\" style= \"background: rgba(243, 243, 243, 0.75)\">5</th><td class=\"tdhistory743332\">110</td><td class=\"tdhistory743332\">000000001362796222</td><td class=\"tdhistory743332\">.32</td><td class=\"tdhistory743332\">9.00</td><td class=\"tdhistory743332\">.243</td><td class=\"tdhistory743332\">252.69</td><td class=\"tdhistory743332\">1995-05-31</td><td class=\"tdhistory743332\">235959</td><td class=\"tdhistory743332\"></td><td class=\"tdhistory743332\">IN</td></tr><tr><th class=\"tdhistory743332\" style= \"background: rgba(243, 243, 243, 0.75)\">6</th><td class=\"tdhistory743332\">560</td><td class=\"tdhistory743332\">456114321363327414</td><td class=\"tdhistory743332\">-189.61</td><td class=\"tdhistory743332\">-43.61</td><td class=\"tdhistory743332\">.760</td><td class=\"tdhistory743332\">-2878.81</td><td class=\"tdhistory743332\">1995-11-10</td><td class=\"tdhistory743332\">110213</td><td class=\"tdhistory743332\">E</td><td class=\"tdhistory743332\">CG</td></tr><tr><th class=\"tdhistory743332\" style= \"background: rgba(243, 243, 243, 0.75)\">7</th><td class=\"tdhistory743332\">532</td><td class=\"tdhistory743332\">000000001362512219</td><td class=\"tdhistory743332\">190.70</td><td class=\"tdhistory743332\">268.70</td><td class=\"tdhistory743332\">.000</td><td class=\"tdhistory743332\">1934.92</td><td class=\"tdhistory743332\">1995-02-23</td><td class=\"tdhistory743332\">211532</td><td class=\"tdhistory743332\">A</td><td class=\"tdhistory743332\">DP</td></tr><tr><th class=\"tdhistory743332\" style= \"background: rgba(243, 243, 243, 0.75)\">8</th><td class=\"tdhistory743332\">200</td><td class=\"tdhistory743332\">000000001362875310</td><td class=\"tdhistory743332\">.00</td><td class=\"tdhistory743332\">.00</td><td class=\"tdhistory743332\">.000</td><td class=\"tdhistory743332\">449.10</td><td class=\"tdhistory743332\">1995-12-05</td><td class=\"tdhistory743332\">91018</td><td class=\"tdhistory743332\">V</td><td class=\"tdhistory743332\">IQ</td></tr><tr><th class=\"tdhistory743332\" style= \"background: rgba(243, 243, 243, 0.75)\">9</th><td class=\"tdhistory743332\">162</td><td class=\"tdhistory743332\">000000001362698318</td><td class=\"tdhistory743332\">273.50</td><td class=\"tdhistory743332\">1094.00</td><td class=\"tdhistory743332\">.000</td><td class=\"tdhistory743332\">414.74</td><td class=\"tdhistory743332\">1995-01-11</td><td class=\"tdhistory743332\">91613</td><td class=\"tdhistory743332\">A</td><td class=\"tdhistory743332\">DP</td></tr><tr><th class=\"tdhistory743332\" style= \"background: rgba(243, 243, 243, 0.75)\">10</th><td class=\"tdhistory743332\">608</td><td class=\"tdhistory743332\">000000001362562319</td><td class=\"tdhistory743332\">.00</td><td class=\"tdhistory743332\">78.00</td><td class=\"tdhistory743332\">.000</td><td class=\"tdhistory743332\">4203.43</td><td class=\"tdhistory743332\">1995-11-24</td><td class=\"tdhistory743332\">190451</td><td class=\"tdhistory743332\">A</td><td class=\"tdhistory743332\">IQ</td></tr></tbody></table></div>"
      ]
     },
     "execution_count": 12,
     "metadata": {
      "application/vnd.teradata.resultset": "{\"resultSetID\":\"/home/jovyan/JupyterLabRoot/Teradata/Resultsets/2022.09.16_20.58.28.147_UTC\",\"historyID\":315,\"chunkID\":\"00001\",\"sessionid\":\"\",\"portnum\":\"\",\"dockermode\":\"docker\",\"totalRowCount\":10,\"chunkCount\":0,\"rowLimit\":0,\"columnMetadata\":[{\"columnName\":\"tran_id\",\"columnTypeName\":\"INTEGER\"},{\"columnNumber\":1,\"columnName\":\"acct_nbr\",\"columnTypeName\":\"VARCHAR\",\"length\":18,\"scale\":18},{\"columnNumber\":2,\"columnName\":\"tran_amt\",\"columnTypeName\":\"DECIMAL\",\"length\":2,\"precision\":9,\"scale\":2},{\"columnNumber\":3,\"columnName\":\"principal_amt\",\"columnTypeName\":\"DECIMAL\",\"length\":2,\"precision\":15,\"scale\":2},{\"columnNumber\":4,\"columnName\":\"interest_amt\",\"columnTypeName\":\"DECIMAL\",\"length\":3,\"precision\":11,\"scale\":3},{\"columnNumber\":5,\"columnName\":\"new_balance\",\"columnTypeName\":\"DECIMAL\",\"length\":2,\"precision\":9,\"scale\":2},{\"columnNumber\":6,\"columnName\":\"tran_date\",\"columnTypeName\":\"DATE\"},{\"columnNumber\":7,\"columnName\":\"tran_time\",\"columnTypeName\":\"INTEGER\"},{\"columnNumber\":8,\"columnName\":\"channel\",\"columnTypeName\":\"VARCHAR\",\"length\":1,\"scale\":1},{\"columnNumber\":9,\"columnName\":\"tran_code\",\"columnTypeName\":\"VARCHAR\",\"length\":2,\"scale\":2}]}"
     },
     "output_type": "execute_result"
    }
   ],
   "source": [
    "SELECT * FROM ${XSPDB}.Transactions SAMPLE 10;"
   ]
  },
  {
   "cell_type": "code",
   "execution_count": 13,
   "metadata": {},
   "outputs": [
    {
     "name": "stdout",
     "output_type": "stream",
     "text": [
      "Result Set ID: /home/jovyan/JupyterLabRoot/Teradata/Resultsets/2022.09.16_20.58.28.147_UTC\n",
      "History ID:    315\n",
      "Rows:          10 of 10\n",
      "Parts:         2\n",
      "Column Definitions:\n",
      "    tran_id: INTEGER\n",
      "    acct_nbr: VARCHAR(18)\n",
      "    tran_amt: DECIMAL(9, 2)\n",
      "    principal_amt: DECIMAL(15, 2)\n",
      "    interest_amt: DECIMAL(11, 3)\n",
      "    new_balance: DECIMAL(9, 2)\n",
      "    tran_date: DATE\n",
      "    tran_time: INTEGER\n",
      "    channel: VARCHAR(1)\n",
      "    tran_code: VARCHAR(2)\n"
     ]
    }
   ],
   "source": [
    "%meta"
   ]
  },
  {
   "cell_type": "markdown",
   "metadata": {},
   "source": [
    "---"
   ]
  },
  {
   "cell_type": "markdown",
   "metadata": {},
   "source": [
    "The following Analytic Data Set (ADS) was created by joining all three tables above:"
   ]
  },
  {
   "cell_type": "code",
   "execution_count": 14,
   "metadata": {},
   "outputs": [
    {
     "data": {
      "text/plain": [
       "Success: 0 rows affected"
      ]
     },
     "execution_count": 14,
     "metadata": {
      "application/vnd.teradata.resultset": ""
     },
     "output_type": "execute_result"
    }
   ],
   "source": [
    "CREATE TABLE ${QLID}.VAL_ADS AS (\n",
    "    SELECT \n",
    "        T1.cust_id  AS cust_id\n",
    "       ,MIN(T1.income) AS tot_income\n",
    "       ,MIN(T1.age) AS tot_age\n",
    "       ,MIN(T1.years_with_bank) AS tot_cust_years\n",
    "       ,MIN(T1.nbr_children) AS tot_children\n",
    "       ,CASE WHEN MIN(T1.marital_status) = 1 THEN 1 ELSE 0 END AS single_ind\n",
    "       ,CASE WHEN MIN(T1.gender) = 'F' THEN 1 ELSE 0 END AS female_ind\n",
    "       ,CASE WHEN MIN(T1.marital_status) = 2 THEN 1 ELSE 0 END AS married_ind\n",
    "       ,CASE WHEN MIN(T1.marital_status) = 3 THEN 1 ELSE 0 END AS separated_ind\n",
    "       ,MAX(CASE WHEN T1.state_code = 'CA' THEN 1 ELSE 0 END) AS ca_resident_ind\n",
    "       ,MAX(CASE WHEN T1.state_code = 'NY' THEN 1 ELSE 0 END) AS ny_resident_ind\n",
    "       ,MAX(CASE WHEN T1.state_code = 'TX' THEN 1 ELSE 0 END) AS tx_resident_ind\n",
    "       ,MAX(CASE WHEN T1.state_code = 'IL' THEN 1 ELSE 0 END) AS il_resident_ind\n",
    "       ,MAX(CASE WHEN T1.state_code = 'AZ' THEN 1 ELSE 0 END) AS az_resident_ind\n",
    "       ,MAX(CASE WHEN T1.state_code = 'OH' THEN 1 ELSE 0 END) AS oh_resident_ind\n",
    "       ,MAX(CASE WHEN T2.acct_type = 'CK' THEN 1 ELSE 0 END) AS ck_acct_ind\n",
    "       ,MAX(CASE WHEN T2.acct_type = 'SV' THEN 1 ELSE 0 END) AS sv_acct_ind\n",
    "       ,MAX(CASE WHEN T2.acct_type = 'CC' THEN 1 ELSE 0 END) AS cc_acct_ind\n",
    "       ,AVG(CASE WHEN T2.acct_type = 'CK' THEN T2.starting_balance+T2.ending_balance ELSE 0 END) AS ck_avg_bal\n",
    "       ,AVG(CASE WHEN T2.acct_type = 'SV' THEN T2.starting_balance+T2.ending_balance ELSE 0 END) AS sv_avg_bal\n",
    "       ,AVG(CASE WHEN T2.acct_type = 'CC' THEN T2.starting_balance+T2.ending_balance ELSE 0 END) AS cc_avg_bal\n",
    "       ,AVG(CASE WHEN T2.acct_type = 'CK' THEN T3.principal_amt+T3.interest_amt ELSE 0 END) AS ck_avg_tran_amt\n",
    "       ,AVG(CASE WHEN T2.acct_type = 'SV' THEN T3.principal_amt+T3.interest_amt ELSE 0 END) AS sv_avg_tran_amt\n",
    "       ,AVG(CASE WHEN T2.acct_type = 'CC' THEN T3.principal_amt+T3.interest_amt ELSE 0 END) AS cc_avg_tran_amt\n",
    "       ,COUNT(CASE WHEN ((EXTRACT(MONTH FROM T3.tran_date) + 2) / 3) = 1 THEN T3.tran_id ELSE NULL END) AS q1_trans_cnt\n",
    "       ,COUNT(CASE WHEN ((EXTRACT(MONTH FROM T3.tran_date) + 2) / 3) = 2 THEN T3.tran_id ELSE NULL END) AS q2_trans_cnt\n",
    "       ,COUNT(CASE WHEN ((EXTRACT(MONTH FROM T3.tran_date) + 2) / 3) = 3 THEN T3.tran_id ELSE NULL END) AS q3_trans_cnt\n",
    "       ,COUNT(CASE WHEN ((EXTRACT(MONTH FROM T3.tran_date) + 2) / 3) = 4 THEN T3.tran_id ELSE NULL END) AS q4_trans_cnt\n",
    "    FROM ${XSPDB}.Customer AS T1\n",
    "        LEFT OUTER JOIN ${XSPDB}.Accounts AS T2\n",
    "            ON T1.cust_id = T2.cust_id\n",
    "        LEFT OUTER JOIN ${XSPDB}.Transactions AS T3\n",
    "            ON T2.acct_nbr = T3.acct_nbr\n",
    "GROUP BY T1.cust_id) WITH DATA UNIQUE PRIMARY INDEX (cust_id);"
   ]
  },
  {
   "cell_type": "code",
   "execution_count": 15,
   "metadata": {},
   "outputs": [
    {
     "data": {
      "application/vnd.teradata.resultset": "\"cust_id\",\"tot_income\",\"tot_age\",\"tot_cust_years\",\"tot_children\",\"single_ind\",\"female_ind\",\"married_ind\",\"separated_ind\",\"ca_resident_ind\",\"ny_resident_ind\",\"tx_resident_ind\",\"il_resident_ind\",\"az_resident_ind\",\"oh_resident_ind\",\"ck_acct_ind\",\"sv_acct_ind\",\"cc_acct_ind\",\"ck_avg_bal\",\"sv_avg_bal\",\"cc_avg_bal\",\"ck_avg_tran_amt\",\"sv_avg_tran_amt\",\"cc_avg_tran_amt\",\"q1_trans_cnt\",\"q2_trans_cnt\",\"q3_trans_cnt\",\"q4_trans_cnt\"\n\"28623357\",\".0\",\"17\",\"2\",\"1\",\"1\",\"0\",\"0\",\"0\",\"1\",\"0\",\"0\",\"0\",\"0\",\"0\",\"1\",\"1\",\"1\",\"1502.064193548387\",\"631.2735483870968\",\"331.93548387096774\",\"-8.908510752688173\",\"5.897344086021505\",\"-2.1603817204301077\",\"113\",\"26\",\"24\",\"23\"\n\"16357044\",\"714.0\",\"21\",\"6\",\"3\",\"1\",\"1\",\"0\",\"0\",\"0\",\"0\",\"0\",\"0\",\"0\",\"0\",\"1\",\"0\",\"1\",\"339.7906717557252\",\"0\",\"539.7369160305343\",\"-4.2223664122137405\",\"0\",\"-14.613053435114503\",\"83\",\"34\",\"6\",\"8\"\n\"19087418\",\"5945.8\",\"56\",\"6\",\"2\",\"0\",\"1\",\"1\",\"0\",\"0\",\"0\",\"0\",\"0\",\"0\",\"0\",\"1\",\"1\",\"1\",\"2449.879775147929\",\"153.5735147928994\",\"1003.6131597633137\",\"1.5108284023668639\",\"0.11272189349112426\",\"0.8392307692307692\",\"114\",\"15\",\"16\",\"24\"\n\"19082518\",\"11559.8\",\"30\",\"9\",\"1\",\"0\",\"1\",\"1\",\"0\",\"0\",\"0\",\"0\",\"0\",\"0\",\"0\",\"1\",\"1\",\"1\",\"3224.138171641791\",\"1652.9376865671643\",\"305.97014925373134\",\"-3.543358208955224\",\"3.2572388059701494\",\"-1.6597014925373135\",\"104\",\"8\",\"4\",\"18\"\n\"23165050\",\"12640.8\",\"26\",\"1\",\"1\",\"0\",\"0\",\"1\",\"0\",\"0\",\"1\",\"0\",\"0\",\"0\",\"0\",\"0\",\"1\",\"1\",\"0\",\"417.46275862068967\",\"1075.5172413793102\",\"0\",\"49.72362068965517\",\"8.96551724137931\",\"3\",\"9\",\"8\",\"38\"\n\"27261580\",\"50852.0\",\"46\",\"8\",\"1\",\"0\",\"1\",\"1\",\"0\",\"0\",\"0\",\"0\",\"0\",\"0\",\"0\",\"0\",\"0\",\"0\",\"0\",\"0\",\"0\",\"0\",\"0\",\"0\",\"0\",\"0\",\"0\",\"0\"\n\"17725110\",\"23907.0\",\"34\",\"11\",\"4\",\"0\",\"1\",\"1\",\"0\",\"0\",\"0\",\"0\",\"0\",\"0\",\"0\",\"1\",\"0\",\"1\",\"19404.9186122449\",\"0\",\"3640.816326530612\",\"14.850102040816326\",\"0\",\"-18.43166666666667\",\"65\",\"39\",\"16\",\"27\"\n\"17719286\",\"34273.2\",\"37\",\"4\",\"4\",\"0\",\"0\",\"1\",\"0\",\"0\",\"0\",\"0\",\"0\",\"0\",\"0\",\"1\",\"1\",\"1\",\"1117.9458196721312\",\"226.96839344262295\",\"751.5504918032786\",\"25.37016393442623\",\"8.902622950819673\",\"16.15770491803279\",\"13\",\"15\",\"17\",\"16\"\n\"17719403\",\"68304.6\",\"31\",\"8\",\"5\",\"0\",\"0\",\"0\",\"0\",\"1\",\"0\",\"0\",\"0\",\"0\",\"0\",\"1\",\"0\",\"0\",\"8161.031\",\"0\",\"0\",\"58.24540404040404\",\"0\",\"0\",\"99\",\"0\",\"0\",\"0\"\n\"28617015\",\"3727.5\",\"57\",\"7\",\"2\",\"0\",\"1\",\"1\",\"0\",\"0\",\"1\",\"0\",\"0\",\"0\",\"0\",\"1\",\"1\",\"1\",\"1699.2483050847457\",\"37.05858757062147\",\"413.9635593220339\",\"-8.099768361581921\",\"1.6476666666666666\",\"0.04414689265536723\",\"115\",\"19\",\"21\",\"22\"",
      "text/html": [
       "<div class = \"td-resultset-table-div\" style = \"max-height: 100%; overflow-y: auto\">\n",
       "      <table class=\"tdhistory653746\"><style>\n",
       "      table.tdhistory653746 { display: block !important; min-height: 294px !important; overflow: auto !important; height: 294px !important; width: 100% !important; border: 1px solid rgb(207, 207, 207) !important; border-collapse: collapse !important; ; color: var(--jp-ui-font-color1) !important; }\n",
       "      th.tdhistory653746 { border: 1px solid rgb(198,198,198) !important; border-collapse: collapse !important; ; padding: 2px 5px !important; ; font-size: 13px !important; ; text-align: center !important; white-space: normal !important; color: var(--jp-ui-font-color1) !important; }\n",
       "      th.tdhistory653746:last-child { text-align: left !important; }\n",
       "      tbody.tdhistory653746 tr:nth-child(even) { background: rgba(243, 243, 243, 0.75) !important; }\n",
       "      tbody.tdhistory653746 tr:nth-child(odd) { background: var(--jp-ui-inverse-font-color1) !important; }\n",
       "      td.tdhistory653746 { border: 1px solid rgb(207, 207, 207) !important; border-collapse: collapse !important; ; padding: 2px 5px !important; ; font-size: 13px !important; ; text-align: left !important;          white-space: nowrap !important; overflow:hidden !important; text-overflow:ellipsis !important;; }\n",
       "    </style><thead><tr style= \"background: rgba(243, 243, 243, 0.75)\"><th class=\"tdhistory653746\"></th><th class=\"tdhistory653746\">cust_id</th><th class=\"tdhistory653746\">tot_income</th><th class=\"tdhistory653746\">tot_age</th><th class=\"tdhistory653746\">tot_cust_years</th><th class=\"tdhistory653746\">tot_children</th><th class=\"tdhistory653746\">single_ind</th><th class=\"tdhistory653746\">female_ind</th><th class=\"tdhistory653746\">married_ind</th><th class=\"tdhistory653746\">separated_ind</th><th class=\"tdhistory653746\">ca_resident_ind</th><th class=\"tdhistory653746\">ny_resident_ind</th><th class=\"tdhistory653746\">tx_resident_ind</th><th class=\"tdhistory653746\">il_resident_ind</th><th class=\"tdhistory653746\">az_resident_ind</th><th class=\"tdhistory653746\">oh_resident_ind</th><th class=\"tdhistory653746\">ck_acct_ind</th><th class=\"tdhistory653746\">sv_acct_ind</th><th class=\"tdhistory653746\">cc_acct_ind</th><th class=\"tdhistory653746\">ck_avg_bal</th><th class=\"tdhistory653746\">sv_avg_bal</th><th class=\"tdhistory653746\">cc_avg_bal</th><th class=\"tdhistory653746\">ck_avg_tran_amt</th><th class=\"tdhistory653746\">sv_avg_tran_amt</th><th class=\"tdhistory653746\">cc_avg_tran_amt</th><th class=\"tdhistory653746\">q1_trans_cnt</th><th class=\"tdhistory653746\">q2_trans_cnt</th><th class=\"tdhistory653746\">q3_trans_cnt</th><th class=\"tdhistory653746\">q4_trans_cnt</th></tr></thead><tbody class=\"tdhistory653746 resultset-body\"><tr><th class=\"tdhistory653746\" style= \"background: rgba(243, 243, 243, 0.75)\">1</th><td class=\"tdhistory653746\">28623357</td><td class=\"tdhistory653746\">.0</td><td class=\"tdhistory653746\">17</td><td class=\"tdhistory653746\">2</td><td class=\"tdhistory653746\">1</td><td class=\"tdhistory653746\">1</td><td class=\"tdhistory653746\">0</td><td class=\"tdhistory653746\">0</td><td class=\"tdhistory653746\">0</td><td class=\"tdhistory653746\">1</td><td class=\"tdhistory653746\">0</td><td class=\"tdhistory653746\">0</td><td class=\"tdhistory653746\">0</td><td class=\"tdhistory653746\">0</td><td class=\"tdhistory653746\">0</td><td class=\"tdhistory653746\">1</td><td class=\"tdhistory653746\">1</td><td class=\"tdhistory653746\">1</td><td class=\"tdhistory653746\">1502.064193548387</td><td class=\"tdhistory653746\">631.2735483870968</td><td class=\"tdhistory653746\">331.93548387096774</td><td class=\"tdhistory653746\">-8.908510752688173</td><td class=\"tdhistory653746\">5.897344086021505</td><td class=\"tdhistory653746\">-2.1603817204301077</td><td class=\"tdhistory653746\">113</td><td class=\"tdhistory653746\">26</td><td class=\"tdhistory653746\">24</td><td class=\"tdhistory653746\">23</td></tr><tr><th class=\"tdhistory653746\" style= \"background: rgba(243, 243, 243, 0.75)\">2</th><td class=\"tdhistory653746\">16357044</td><td class=\"tdhistory653746\">714.0</td><td class=\"tdhistory653746\">21</td><td class=\"tdhistory653746\">6</td><td class=\"tdhistory653746\">3</td><td class=\"tdhistory653746\">1</td><td class=\"tdhistory653746\">1</td><td class=\"tdhistory653746\">0</td><td class=\"tdhistory653746\">0</td><td class=\"tdhistory653746\">0</td><td class=\"tdhistory653746\">0</td><td class=\"tdhistory653746\">0</td><td class=\"tdhistory653746\">0</td><td class=\"tdhistory653746\">0</td><td class=\"tdhistory653746\">0</td><td class=\"tdhistory653746\">1</td><td class=\"tdhistory653746\">0</td><td class=\"tdhistory653746\">1</td><td class=\"tdhistory653746\">339.7906717557252</td><td class=\"tdhistory653746\">0</td><td class=\"tdhistory653746\">539.7369160305343</td><td class=\"tdhistory653746\">-4.2223664122137405</td><td class=\"tdhistory653746\">0</td><td class=\"tdhistory653746\">-14.613053435114503</td><td class=\"tdhistory653746\">83</td><td class=\"tdhistory653746\">34</td><td class=\"tdhistory653746\">6</td><td class=\"tdhistory653746\">8</td></tr><tr><th class=\"tdhistory653746\" style= \"background: rgba(243, 243, 243, 0.75)\">3</th><td class=\"tdhistory653746\">19087418</td><td class=\"tdhistory653746\">5945.8</td><td class=\"tdhistory653746\">56</td><td class=\"tdhistory653746\">6</td><td class=\"tdhistory653746\">2</td><td class=\"tdhistory653746\">0</td><td class=\"tdhistory653746\">1</td><td class=\"tdhistory653746\">1</td><td class=\"tdhistory653746\">0</td><td class=\"tdhistory653746\">0</td><td class=\"tdhistory653746\">0</td><td class=\"tdhistory653746\">0</td><td class=\"tdhistory653746\">0</td><td class=\"tdhistory653746\">0</td><td class=\"tdhistory653746\">0</td><td class=\"tdhistory653746\">1</td><td class=\"tdhistory653746\">1</td><td class=\"tdhistory653746\">1</td><td class=\"tdhistory653746\">2449.879775147929</td><td class=\"tdhistory653746\">153.5735147928994</td><td class=\"tdhistory653746\">1003.6131597633137</td><td class=\"tdhistory653746\">1.5108284023668639</td><td class=\"tdhistory653746\">0.11272189349112426</td><td class=\"tdhistory653746\">0.8392307692307692</td><td class=\"tdhistory653746\">114</td><td class=\"tdhistory653746\">15</td><td class=\"tdhistory653746\">16</td><td class=\"tdhistory653746\">24</td></tr><tr><th class=\"tdhistory653746\" style= \"background: rgba(243, 243, 243, 0.75)\">4</th><td class=\"tdhistory653746\">19082518</td><td class=\"tdhistory653746\">11559.8</td><td class=\"tdhistory653746\">30</td><td class=\"tdhistory653746\">9</td><td class=\"tdhistory653746\">1</td><td class=\"tdhistory653746\">0</td><td class=\"tdhistory653746\">1</td><td class=\"tdhistory653746\">1</td><td class=\"tdhistory653746\">0</td><td class=\"tdhistory653746\">0</td><td class=\"tdhistory653746\">0</td><td class=\"tdhistory653746\">0</td><td class=\"tdhistory653746\">0</td><td class=\"tdhistory653746\">0</td><td class=\"tdhistory653746\">0</td><td class=\"tdhistory653746\">1</td><td class=\"tdhistory653746\">1</td><td class=\"tdhistory653746\">1</td><td class=\"tdhistory653746\">3224.138171641791</td><td class=\"tdhistory653746\">1652.9376865671643</td><td class=\"tdhistory653746\">305.97014925373134</td><td class=\"tdhistory653746\">-3.543358208955224</td><td class=\"tdhistory653746\">3.2572388059701494</td><td class=\"tdhistory653746\">-1.6597014925373135</td><td class=\"tdhistory653746\">104</td><td class=\"tdhistory653746\">8</td><td class=\"tdhistory653746\">4</td><td class=\"tdhistory653746\">18</td></tr><tr><th class=\"tdhistory653746\" style= \"background: rgba(243, 243, 243, 0.75)\">5</th><td class=\"tdhistory653746\">23165050</td><td class=\"tdhistory653746\">12640.8</td><td class=\"tdhistory653746\">26</td><td class=\"tdhistory653746\">1</td><td class=\"tdhistory653746\">1</td><td class=\"tdhistory653746\">0</td><td class=\"tdhistory653746\">0</td><td class=\"tdhistory653746\">1</td><td class=\"tdhistory653746\">0</td><td class=\"tdhistory653746\">0</td><td class=\"tdhistory653746\">1</td><td class=\"tdhistory653746\">0</td><td class=\"tdhistory653746\">0</td><td class=\"tdhistory653746\">0</td><td class=\"tdhistory653746\">0</td><td class=\"tdhistory653746\">0</td><td class=\"tdhistory653746\">1</td><td class=\"tdhistory653746\">1</td><td class=\"tdhistory653746\">0</td><td class=\"tdhistory653746\">417.46275862068967</td><td class=\"tdhistory653746\">1075.5172413793102</td><td class=\"tdhistory653746\">0</td><td class=\"tdhistory653746\">49.72362068965517</td><td class=\"tdhistory653746\">8.96551724137931</td><td class=\"tdhistory653746\">3</td><td class=\"tdhistory653746\">9</td><td class=\"tdhistory653746\">8</td><td class=\"tdhistory653746\">38</td></tr><tr><th class=\"tdhistory653746\" style= \"background: rgba(243, 243, 243, 0.75)\">6</th><td class=\"tdhistory653746\">27261580</td><td class=\"tdhistory653746\">50852.0</td><td class=\"tdhistory653746\">46</td><td class=\"tdhistory653746\">8</td><td class=\"tdhistory653746\">1</td><td class=\"tdhistory653746\">0</td><td class=\"tdhistory653746\">1</td><td class=\"tdhistory653746\">1</td><td class=\"tdhistory653746\">0</td><td class=\"tdhistory653746\">0</td><td class=\"tdhistory653746\">0</td><td class=\"tdhistory653746\">0</td><td class=\"tdhistory653746\">0</td><td class=\"tdhistory653746\">0</td><td class=\"tdhistory653746\">0</td><td class=\"tdhistory653746\">0</td><td class=\"tdhistory653746\">0</td><td class=\"tdhistory653746\">0</td><td class=\"tdhistory653746\">0</td><td class=\"tdhistory653746\">0</td><td class=\"tdhistory653746\">0</td><td class=\"tdhistory653746\">0</td><td class=\"tdhistory653746\">0</td><td class=\"tdhistory653746\">0</td><td class=\"tdhistory653746\">0</td><td class=\"tdhistory653746\">0</td><td class=\"tdhistory653746\">0</td><td class=\"tdhistory653746\">0</td></tr><tr><th class=\"tdhistory653746\" style= \"background: rgba(243, 243, 243, 0.75)\">7</th><td class=\"tdhistory653746\">17725110</td><td class=\"tdhistory653746\">23907.0</td><td class=\"tdhistory653746\">34</td><td class=\"tdhistory653746\">11</td><td class=\"tdhistory653746\">4</td><td class=\"tdhistory653746\">0</td><td class=\"tdhistory653746\">1</td><td class=\"tdhistory653746\">1</td><td class=\"tdhistory653746\">0</td><td class=\"tdhistory653746\">0</td><td class=\"tdhistory653746\">0</td><td class=\"tdhistory653746\">0</td><td class=\"tdhistory653746\">0</td><td class=\"tdhistory653746\">0</td><td class=\"tdhistory653746\">0</td><td class=\"tdhistory653746\">1</td><td class=\"tdhistory653746\">0</td><td class=\"tdhistory653746\">1</td><td class=\"tdhistory653746\">19404.9186122449</td><td class=\"tdhistory653746\">0</td><td class=\"tdhistory653746\">3640.816326530612</td><td class=\"tdhistory653746\">14.850102040816326</td><td class=\"tdhistory653746\">0</td><td class=\"tdhistory653746\">-18.43166666666667</td><td class=\"tdhistory653746\">65</td><td class=\"tdhistory653746\">39</td><td class=\"tdhistory653746\">16</td><td class=\"tdhistory653746\">27</td></tr><tr><th class=\"tdhistory653746\" style= \"background: rgba(243, 243, 243, 0.75)\">8</th><td class=\"tdhistory653746\">17719286</td><td class=\"tdhistory653746\">34273.2</td><td class=\"tdhistory653746\">37</td><td class=\"tdhistory653746\">4</td><td class=\"tdhistory653746\">4</td><td class=\"tdhistory653746\">0</td><td class=\"tdhistory653746\">0</td><td class=\"tdhistory653746\">1</td><td class=\"tdhistory653746\">0</td><td class=\"tdhistory653746\">0</td><td class=\"tdhistory653746\">0</td><td class=\"tdhistory653746\">0</td><td class=\"tdhistory653746\">0</td><td class=\"tdhistory653746\">0</td><td class=\"tdhistory653746\">0</td><td class=\"tdhistory653746\">1</td><td class=\"tdhistory653746\">1</td><td class=\"tdhistory653746\">1</td><td class=\"tdhistory653746\">1117.9458196721312</td><td class=\"tdhistory653746\">226.96839344262295</td><td class=\"tdhistory653746\">751.5504918032786</td><td class=\"tdhistory653746\">25.37016393442623</td><td class=\"tdhistory653746\">8.902622950819673</td><td class=\"tdhistory653746\">16.15770491803279</td><td class=\"tdhistory653746\">13</td><td class=\"tdhistory653746\">15</td><td class=\"tdhistory653746\">17</td><td class=\"tdhistory653746\">16</td></tr><tr><th class=\"tdhistory653746\" style= \"background: rgba(243, 243, 243, 0.75)\">9</th><td class=\"tdhistory653746\">17719403</td><td class=\"tdhistory653746\">68304.6</td><td class=\"tdhistory653746\">31</td><td class=\"tdhistory653746\">8</td><td class=\"tdhistory653746\">5</td><td class=\"tdhistory653746\">0</td><td class=\"tdhistory653746\">0</td><td class=\"tdhistory653746\">0</td><td class=\"tdhistory653746\">0</td><td class=\"tdhistory653746\">1</td><td class=\"tdhistory653746\">0</td><td class=\"tdhistory653746\">0</td><td class=\"tdhistory653746\">0</td><td class=\"tdhistory653746\">0</td><td class=\"tdhistory653746\">0</td><td class=\"tdhistory653746\">1</td><td class=\"tdhistory653746\">0</td><td class=\"tdhistory653746\">0</td><td class=\"tdhistory653746\">8161.031</td><td class=\"tdhistory653746\">0</td><td class=\"tdhistory653746\">0</td><td class=\"tdhistory653746\">58.24540404040404</td><td class=\"tdhistory653746\">0</td><td class=\"tdhistory653746\">0</td><td class=\"tdhistory653746\">99</td><td class=\"tdhistory653746\">0</td><td class=\"tdhistory653746\">0</td><td class=\"tdhistory653746\">0</td></tr><tr><th class=\"tdhistory653746\" style= \"background: rgba(243, 243, 243, 0.75)\">10</th><td class=\"tdhistory653746\">28617015</td><td class=\"tdhistory653746\">3727.5</td><td class=\"tdhistory653746\">57</td><td class=\"tdhistory653746\">7</td><td class=\"tdhistory653746\">2</td><td class=\"tdhistory653746\">0</td><td class=\"tdhistory653746\">1</td><td class=\"tdhistory653746\">1</td><td class=\"tdhistory653746\">0</td><td class=\"tdhistory653746\">0</td><td class=\"tdhistory653746\">1</td><td class=\"tdhistory653746\">0</td><td class=\"tdhistory653746\">0</td><td class=\"tdhistory653746\">0</td><td class=\"tdhistory653746\">0</td><td class=\"tdhistory653746\">1</td><td class=\"tdhistory653746\">1</td><td class=\"tdhistory653746\">1</td><td class=\"tdhistory653746\">1699.2483050847457</td><td class=\"tdhistory653746\">37.05858757062147</td><td class=\"tdhistory653746\">413.9635593220339</td><td class=\"tdhistory653746\">-8.099768361581921</td><td class=\"tdhistory653746\">1.6476666666666666</td><td class=\"tdhistory653746\">0.04414689265536723</td><td class=\"tdhistory653746\">115</td><td class=\"tdhistory653746\">19</td><td class=\"tdhistory653746\">21</td><td class=\"tdhistory653746\">22</td></tr></tbody></table></div>"
      ]
     },
     "execution_count": 15,
     "metadata": {
      "application/vnd.teradata.resultset": "{\"resultSetID\":\"/home/jovyan/JupyterLabRoot/Teradata/Resultsets/2022.09.16_20.58.58.358_UTC\",\"historyID\":317,\"chunkID\":\"00001\",\"sessionid\":\"\",\"portnum\":\"\",\"dockermode\":\"docker\",\"totalRowCount\":10,\"chunkCount\":0,\"rowLimit\":0,\"columnMetadata\":[{\"columnName\":\"cust_id\",\"columnTypeName\":\"INTEGER\"},{\"columnNumber\":1,\"columnName\":\"tot_income\",\"columnTypeName\":\"DECIMAL\",\"length\":1,\"precision\":15,\"scale\":1},{\"columnNumber\":2,\"columnName\":\"tot_age\",\"columnTypeName\":\"INTEGER\"},{\"columnNumber\":3,\"columnName\":\"tot_cust_years\",\"columnTypeName\":\"INTEGER\"},{\"columnNumber\":4,\"columnName\":\"tot_children\",\"columnTypeName\":\"INTEGER\"},{\"columnNumber\":5,\"columnName\":\"single_ind\",\"columnTypeName\":\"BYTEINT\"},{\"columnNumber\":6,\"columnName\":\"female_ind\",\"columnTypeName\":\"BYTEINT\"},{\"columnNumber\":7,\"columnName\":\"married_ind\",\"columnTypeName\":\"BYTEINT\"},{\"columnNumber\":8,\"columnName\":\"separated_ind\",\"columnTypeName\":\"BYTEINT\"},{\"columnNumber\":9,\"columnName\":\"ca_resident_ind\",\"columnTypeName\":\"BYTEINT\"},{\"columnNumber\":10,\"columnName\":\"ny_resident_ind\",\"columnTypeName\":\"BYTEINT\"},{\"columnNumber\":11,\"columnName\":\"tx_resident_ind\",\"columnTypeName\":\"BYTEINT\"},{\"columnNumber\":12,\"columnName\":\"il_resident_ind\",\"columnTypeName\":\"BYTEINT\"},{\"columnNumber\":13,\"columnName\":\"az_resident_ind\",\"columnTypeName\":\"BYTEINT\"},{\"columnNumber\":14,\"columnName\":\"oh_resident_ind\",\"columnTypeName\":\"BYTEINT\"},{\"columnNumber\":15,\"columnName\":\"ck_acct_ind\",\"columnTypeName\":\"BYTEINT\"},{\"columnNumber\":16,\"columnName\":\"sv_acct_ind\",\"columnTypeName\":\"BYTEINT\"},{\"columnNumber\":17,\"columnName\":\"cc_acct_ind\",\"columnTypeName\":\"BYTEINT\"},{\"columnNumber\":18,\"columnName\":\"ck_avg_bal\",\"columnTypeName\":\"FLOAT\"},{\"columnNumber\":19,\"columnName\":\"sv_avg_bal\",\"columnTypeName\":\"FLOAT\"},{\"columnNumber\":20,\"columnName\":\"cc_avg_bal\",\"columnTypeName\":\"FLOAT\"},{\"columnNumber\":21,\"columnName\":\"ck_avg_tran_amt\",\"columnTypeName\":\"FLOAT\"},{\"columnNumber\":22,\"columnName\":\"sv_avg_tran_amt\",\"columnTypeName\":\"FLOAT\"},{\"columnNumber\":23,\"columnName\":\"cc_avg_tran_amt\",\"columnTypeName\":\"FLOAT\"},{\"columnNumber\":24,\"columnName\":\"q1_trans_cnt\",\"columnTypeName\":\"INTEGER\"},{\"columnNumber\":25,\"columnName\":\"q2_trans_cnt\",\"columnTypeName\":\"INTEGER\"},{\"columnNumber\":26,\"columnName\":\"q3_trans_cnt\",\"columnTypeName\":\"INTEGER\"},{\"columnNumber\":27,\"columnName\":\"q4_trans_cnt\",\"columnTypeName\":\"INTEGER\"}]}"
     },
     "output_type": "execute_result"
    }
   ],
   "source": [
    "SELECT * FROM ${QLID}.VAL_ADS SAMPLE 10;"
   ]
  },
  {
   "cell_type": "markdown",
   "metadata": {},
   "source": [
    "## Statistical Tests\n",
    "\n",
    "### Binomial Tests\n",
    "\n",
    "#### Purpose\n",
    "In a binomial test there are assumed to be n independent trials, each with two possible outcomes, each of equal probability.  You may choose to perform a binomial test, in which the sign of the difference between a first and second column is analyzed, or a sign test, in which the sign of a single column is analyzed.  In a binomial test, you may choose to use a probability different from the 0.5 default value, whereas in a sign test, the binomial probability is fixed at 0.5.\n",
    "\n",
    "#### Required Parameters\n",
    "\n",
    "- **binomialtest**\n",
    "\n",
    "    The binomialtest parameter:\n",
    "    - Is required\n",
    "    - Must be the first parameter\n",
    "    - Is always enclosed in single quotes\n",
    "\n",
    "\n",
    "- **database**\n",
    "\n",
    "    The database containing the table to analyze.\n",
    "\n",
    "- **firstcolumn**\n",
    "\n",
    "    The column to analyze. It must reside in the table indicated by the tablename parameter\n",
    "\n",
    "- **tablename**\n",
    "\n",
    "    The table containing the columns to analyze.  It must reside in the database indicated by the database parameter.\n",
    "\n",
    "#### Optional Parameters\n",
    "\n",
    "- **binomialprobability**\n",
    "\n",
    "    You may optionally change the binomial probability or allow it to default to 0.5.  This parameter may not be used for a sign test.\n",
    "\n",
    "- **exactmatches**\n",
    "\n",
    "    This parameter determines what category to place exact matches in.  If zero, exact match is discarded.  If positive, match is placed with values greater than or equal to zero.  If negative or parameter not specified (default), match is placed with values less than or equal to zero.  Note that the exactmatches parameter is not allowed if this is a sign test.\n",
    "\n",
    "- **fallback**\n",
    "\n",
    "    When true, FALLBACK is requested as an attribute of the created output results table.  When false or parameter not specified, the FALLBACK attribute is not included in the create table SQL.\n",
    "\n",
    "- **gensqlonly**\n",
    "\n",
    "    When true, the SQL for the requested function is returned as a result set but not run. When not specified or set to false, the SQL is run but not returned.\n",
    "\n",
    "- **groupby**\n",
    "\n",
    "    One or more group-by columns may optionally be specified so that a separate result is produced for each value or combination of values in the specified column or columns.\n",
    "\n",
    "- **multiset**\n",
    "\n",
    "    When true, MULTISET is requested as an attribute of the created output results table.  When false or parameter not specified, the MULTISET attribute is not included in the create table SQL.\n",
    "\n",
    "- **outputdatabase**\n",
    "\n",
    "    Specifies the name of the database to contain the analysis results table.\n",
    "\n",
    "- **outputtablename**\n",
    "\n",
    "    Specifies the name of the table to store the analysis results. If not supplied, the results are returned as a result set.\n",
    "\n",
    "- **overwrite**\n",
    "\n",
    "    When overwrite is set to true or not set, the output table is dropped before creating a new one.\n",
    "\n",
    "- **secondcolumn**\n",
    "\n",
    "    A second column is required when performing a binomial test, and not allowed when performing a sign test.\n",
    "\n",
    "- **singletail**\n",
    "\n",
    "    A single-tailed test may be requested by setting this parameter to true.  A two-tailed test may be requested by setting this parameter to false or by not specifying it at all (the default value).  If the binomial probability is not 0.5, singletail must be set to true.\n",
    "\n",
    "- **statsdatabase**\n",
    "\n",
    "    This is the database where the statistical test metadata tables are installed.  If not specified, the source database is searched for these metadata tables.\n",
    "\n",
    "- **teststyle**\n",
    "\n",
    "    The valid values are binomial and sign, representing a binomial or sign test.  If not specified, the default test style is binomial.\n",
    "\n",
    "- **thresholdprobability**\n",
    "\n",
    "    You may optionally change the threshold probability or allow it to default to 0.05.  Below this  \"alpha\" probability the null hypothesis is rejected"
   ]
  },
  {
   "cell_type": "markdown",
   "metadata": {},
   "source": [
    "1.  Binomial test producing an unpersisted result set with default values for thresholdprobabilty (.05), binomialprobability (0.5), singletail (false) and exactmatches (negative)."
   ]
  },
  {
   "cell_type": "code",
   "execution_count": 16,
   "metadata": {},
   "outputs": [
    {
     "data": {
      "text/plain": [
       "Success: 0 rows affected"
      ]
     },
     "execution_count": 16,
     "metadata": {
      "application/vnd.teradata.resultset": ""
     },
     "output_type": "execute_result"
    },
    {
     "ename": "WARNING",
     "evalue": "[Teradata Database] [Warning 3212] The stored procedure returned one or more result sets.",
     "output_type": "error",
     "traceback": [
      "[Teradata Database] [Warning 3212] The stored procedure returned one or more result sets."
     ]
    },
    {
     "data": {
      "application/vnd.teradata.resultset": "\"N\",\"NPos\",\"NNeg\",\"BP\",\"BinomialCallP_0.05\"\n\"10458\",\"6384\",\"4074\",\"2e-06\",\"p\"",
      "text/html": [
       "<div class = \"td-resultset-table-div\" style = \"max-height: 100%; overflow-y: auto\">\n",
       "      <table class=\"tdhistory194171\"><style>\n",
       "      table.tdhistory194171 { display: block !important; min-height: 105px !important; overflow: auto !important; height: 105px !important; width: 100% !important; border: 1px solid rgb(207, 207, 207) !important; border-collapse: collapse !important; ; color: var(--jp-ui-font-color1) !important; }\n",
       "      th.tdhistory194171 { border: 1px solid rgb(198,198,198) !important; border-collapse: collapse !important; ; padding: 2px 5px !important; ; font-size: 13px !important; ; text-align: center !important; white-space: normal !important; color: var(--jp-ui-font-color1) !important; }\n",
       "      th.tdhistory194171:last-child { text-align: left !important; }\n",
       "      tbody.tdhistory194171 tr:nth-child(even) { background: rgba(243, 243, 243, 0.75) !important; }\n",
       "      tbody.tdhistory194171 tr:nth-child(odd) { background: var(--jp-ui-inverse-font-color1) !important; }\n",
       "      td.tdhistory194171 { border: 1px solid rgb(207, 207, 207) !important; border-collapse: collapse !important; ; padding: 2px 5px !important; ; font-size: 13px !important; ; text-align: left !important;          white-space: nowrap !important; overflow:hidden !important; text-overflow:ellipsis !important;; }\n",
       "    </style><thead><tr style= \"background: rgba(243, 243, 243, 0.75)\"><th class=\"tdhistory194171\"></th><th class=\"tdhistory194171\">N</th><th class=\"tdhistory194171\">NPos</th><th class=\"tdhistory194171\">NNeg</th><th class=\"tdhistory194171\">BP</th><th class=\"tdhistory194171\">BinomialCallP_0.05</th></tr></thead><tbody class=\"tdhistory194171 resultset-body\"><tr><th class=\"tdhistory194171\" style= \"background: rgba(243, 243, 243, 0.75)\">1</th><td class=\"tdhistory194171\">10458</td><td class=\"tdhistory194171\">6384</td><td class=\"tdhistory194171\">4074</td><td class=\"tdhistory194171\">2e-06</td><td class=\"tdhistory194171\">p</td></tr></tbody></table></div>"
      ]
     },
     "execution_count": 16,
     "metadata": {
      "application/vnd.teradata.resultset": "{\"resultSetID\":\"/home/jovyan/JupyterLabRoot/Teradata/Resultsets/2022.09.16_20.59.05.955_UTC\",\"historyID\":318,\"chunkID\":\"00001\",\"sessionid\":\"\",\"portnum\":\"\",\"dockermode\":\"docker\",\"totalRowCount\":1,\"chunkCount\":0,\"rowLimit\":0,\"columnMetadata\":[{\"columnName\":\"N\",\"columnTypeName\":\"FLOAT\"},{\"columnNumber\":1,\"columnName\":\"NPos\",\"columnTypeName\":\"FLOAT\"},{\"columnNumber\":2,\"columnName\":\"NNeg\",\"columnTypeName\":\"FLOAT\"},{\"columnNumber\":3,\"columnName\":\"BP\",\"columnTypeName\":\"FLOAT\"},{\"columnNumber\":4,\"columnName\":\"BinomialCallP_0.05\",\"columnTypeName\":\"VARCHAR\",\"length\":1,\"scale\":1}]}"
     },
     "output_type": "execute_result"
    }
   ],
   "source": [
    "call ${VALDB}.td_analyze('BinomialTest',\n",
    "                         'database=${QLID};\n",
    "                          tablename=VAL_ADS;\n",
    "                          firstcolumn=sv_avg_bal;\n",
    "                          secondcolumn=ck_avg_bal;\n",
    "                          statsdatabase=${VALDB};');"
   ]
  },
  {
   "cell_type": "markdown",
   "metadata": {},
   "source": [
    "2.  Binomial test producing a result table and introducing a groupby variable gender with default values for other parameters."
   ]
  },
  {
   "cell_type": "code",
   "execution_count": 17,
   "metadata": {},
   "outputs": [
    {
     "data": {
      "text/plain": [
       "Success: 0 rows affected"
      ]
     },
     "execution_count": 17,
     "metadata": {
      "application/vnd.teradata.resultset": ""
     },
     "output_type": "execute_result"
    }
   ],
   "source": [
    "call ${VALDB}.td_analyze('BinomialTest', \n",
    "                         'database=${QLID};\n",
    "                          tablename=VAL_ADS;\n",
    "                          firstcolumn=sv_avg_bal;\n",
    "                          secondcolumn=ck_avg_bal;\n",
    "                          groupby=female_ind;\n",
    "                          outputdatabase=${QLID};\n",
    "                          outputtablename=_val_binomial_example2;\n",
    "                          statsdatabase=${VALDB};');"
   ]
  },
  {
   "cell_type": "code",
   "execution_count": 18,
   "metadata": {},
   "outputs": [
    {
     "data": {
      "application/vnd.teradata.resultset": "\"female_ind\",\"N\",\"NPos\",\"NNeg\",\"BP\",\"BinomialCallP_0.05\"\n\"1\",\"5852\",\"3717\",\"2135\",\"2e-06\",\"p\"\n\"0\",\"4606\",\"2667\",\"1939\",\"2e-06\",\"p\"",
      "text/html": [
       "<div class = \"td-resultset-table-div\" style = \"max-height: 100%; overflow-y: auto\">\n",
       "      <table class=\"tdhistory586661\"><style>\n",
       "      table.tdhistory586661 { display: block !important; min-height: 126px !important; overflow: auto !important; height: 126px !important; width: 100% !important; border: 1px solid rgb(207, 207, 207) !important; border-collapse: collapse !important; ; color: var(--jp-ui-font-color1) !important; }\n",
       "      th.tdhistory586661 { border: 1px solid rgb(198,198,198) !important; border-collapse: collapse !important; ; padding: 2px 5px !important; ; font-size: 13px !important; ; text-align: center !important; white-space: normal !important; color: var(--jp-ui-font-color1) !important; }\n",
       "      th.tdhistory586661:last-child { text-align: left !important; }\n",
       "      tbody.tdhistory586661 tr:nth-child(even) { background: rgba(243, 243, 243, 0.75) !important; }\n",
       "      tbody.tdhistory586661 tr:nth-child(odd) { background: var(--jp-ui-inverse-font-color1) !important; }\n",
       "      td.tdhistory586661 { border: 1px solid rgb(207, 207, 207) !important; border-collapse: collapse !important; ; padding: 2px 5px !important; ; font-size: 13px !important; ; text-align: left !important;          white-space: nowrap !important; overflow:hidden !important; text-overflow:ellipsis !important;; }\n",
       "    </style><thead><tr style= \"background: rgba(243, 243, 243, 0.75)\"><th class=\"tdhistory586661\"></th><th class=\"tdhistory586661\">female_ind</th><th class=\"tdhistory586661\">N</th><th class=\"tdhistory586661\">NPos</th><th class=\"tdhistory586661\">NNeg</th><th class=\"tdhistory586661\">BP</th><th class=\"tdhistory586661\">BinomialCallP_0.05</th></tr></thead><tbody class=\"tdhistory586661 resultset-body\"><tr><th class=\"tdhistory586661\" style= \"background: rgba(243, 243, 243, 0.75)\">1</th><td class=\"tdhistory586661\">1</td><td class=\"tdhistory586661\">5852</td><td class=\"tdhistory586661\">3717</td><td class=\"tdhistory586661\">2135</td><td class=\"tdhistory586661\">2e-06</td><td class=\"tdhistory586661\">p</td></tr><tr><th class=\"tdhistory586661\" style= \"background: rgba(243, 243, 243, 0.75)\">2</th><td class=\"tdhistory586661\">0</td><td class=\"tdhistory586661\">4606</td><td class=\"tdhistory586661\">2667</td><td class=\"tdhistory586661\">1939</td><td class=\"tdhistory586661\">2e-06</td><td class=\"tdhistory586661\">p</td></tr></tbody></table></div>"
      ]
     },
     "execution_count": 18,
     "metadata": {
      "application/vnd.teradata.resultset": "{\"resultSetID\":\"/home/jovyan/JupyterLabRoot/Teradata/Resultsets/2022.09.16_20.59.14.943_UTC\",\"historyID\":320,\"chunkID\":\"00001\",\"sessionid\":\"\",\"portnum\":\"\",\"dockermode\":\"docker\",\"totalRowCount\":2,\"chunkCount\":0,\"rowLimit\":0,\"columnMetadata\":[{\"columnName\":\"female_ind\",\"columnTypeName\":\"BYTEINT\"},{\"columnNumber\":1,\"columnName\":\"N\",\"columnTypeName\":\"FLOAT\"},{\"columnNumber\":2,\"columnName\":\"NPos\",\"columnTypeName\":\"FLOAT\"},{\"columnNumber\":3,\"columnName\":\"NNeg\",\"columnTypeName\":\"FLOAT\"},{\"columnNumber\":4,\"columnName\":\"BP\",\"columnTypeName\":\"FLOAT\"},{\"columnNumber\":5,\"columnName\":\"BinomialCallP_0.05\",\"columnTypeName\":\"VARCHAR\",\"length\":1,\"scale\":1}]}"
     },
     "output_type": "execute_result"
    }
   ],
   "source": [
    "SELECT * FROM ${QLID}._val_binomial_example2;"
   ]
  },
  {
   "cell_type": "markdown",
   "metadata": {},
   "source": [
    "3.  Sign test producing an unpersisted result set with default values for thresholdprobabilty (.05) and singletail (false)."
   ]
  },
  {
   "cell_type": "code",
   "execution_count": 19,
   "metadata": {},
   "outputs": [
    {
     "data": {
      "text/plain": [
       "Success: 0 rows affected"
      ]
     },
     "execution_count": 19,
     "metadata": {
      "application/vnd.teradata.resultset": ""
     },
     "output_type": "execute_result"
    },
    {
     "ename": "WARNING",
     "evalue": "[Teradata Database] [Warning 3212] The stored procedure returned one or more result sets.",
     "output_type": "error",
     "traceback": [
      "[Teradata Database] [Warning 3212] The stored procedure returned one or more result sets."
     ]
    },
    {
     "data": {
      "application/vnd.teradata.resultset": "\"N\",\"NPos\",\"NNeg\",\"BP\",\"BinomialCallP_0.05\"\n\"10458\",\"5894\",\"4564\",\"2e-06\",\"p\"",
      "text/html": [
       "<div class = \"td-resultset-table-div\" style = \"max-height: 100%; overflow-y: auto\">\n",
       "      <table class=\"tdhistory338389\"><style>\n",
       "      table.tdhistory338389 { display: block !important; min-height: 105px !important; overflow: auto !important; height: 105px !important; width: 100% !important; border: 1px solid rgb(207, 207, 207) !important; border-collapse: collapse !important; ; color: var(--jp-ui-font-color1) !important; }\n",
       "      th.tdhistory338389 { border: 1px solid rgb(198,198,198) !important; border-collapse: collapse !important; ; padding: 2px 5px !important; ; font-size: 13px !important; ; text-align: center !important; white-space: normal !important; color: var(--jp-ui-font-color1) !important; }\n",
       "      th.tdhistory338389:last-child { text-align: left !important; }\n",
       "      tbody.tdhistory338389 tr:nth-child(even) { background: rgba(243, 243, 243, 0.75) !important; }\n",
       "      tbody.tdhistory338389 tr:nth-child(odd) { background: var(--jp-ui-inverse-font-color1) !important; }\n",
       "      td.tdhistory338389 { border: 1px solid rgb(207, 207, 207) !important; border-collapse: collapse !important; ; padding: 2px 5px !important; ; font-size: 13px !important; ; text-align: left !important;          white-space: nowrap !important; overflow:hidden !important; text-overflow:ellipsis !important;; }\n",
       "    </style><thead><tr style= \"background: rgba(243, 243, 243, 0.75)\"><th class=\"tdhistory338389\"></th><th class=\"tdhistory338389\">N</th><th class=\"tdhistory338389\">NPos</th><th class=\"tdhistory338389\">NNeg</th><th class=\"tdhistory338389\">BP</th><th class=\"tdhistory338389\">BinomialCallP_0.05</th></tr></thead><tbody class=\"tdhistory338389 resultset-body\"><tr><th class=\"tdhistory338389\" style= \"background: rgba(243, 243, 243, 0.75)\">1</th><td class=\"tdhistory338389\">10458</td><td class=\"tdhistory338389\">5894</td><td class=\"tdhistory338389\">4564</td><td class=\"tdhistory338389\">2e-06</td><td class=\"tdhistory338389\">p</td></tr></tbody></table></div>"
      ]
     },
     "execution_count": 19,
     "metadata": {
      "application/vnd.teradata.resultset": "{\"resultSetID\":\"/home/jovyan/JupyterLabRoot/Teradata/Resultsets/2022.09.16_20.59.29.838_UTC\",\"historyID\":321,\"chunkID\":\"00001\",\"sessionid\":\"\",\"portnum\":\"\",\"dockermode\":\"docker\",\"totalRowCount\":1,\"chunkCount\":0,\"rowLimit\":0,\"columnMetadata\":[{\"columnName\":\"N\",\"columnTypeName\":\"FLOAT\"},{\"columnNumber\":1,\"columnName\":\"NPos\",\"columnTypeName\":\"FLOAT\"},{\"columnNumber\":2,\"columnName\":\"NNeg\",\"columnTypeName\":\"FLOAT\"},{\"columnNumber\":3,\"columnName\":\"BP\",\"columnTypeName\":\"FLOAT\"},{\"columnNumber\":4,\"columnName\":\"BinomialCallP_0.05\",\"columnTypeName\":\"VARCHAR\",\"length\":1,\"scale\":1}]}"
     },
     "output_type": "execute_result"
    }
   ],
   "source": [
    "call ${VALDB}.td_analyze('BinomialTest',\n",
    "                         'database=${QLID};\n",
    "                          tablename=VAL_ADS;\n",
    "                          firstcolumn=sv_avg_bal;\n",
    "                          teststyle=sign;\n",
    "                          statsdatabase=${VALDB};');"
   ]
  },
  {
   "cell_type": "markdown",
   "metadata": {},
   "source": [
    "4.  Sign test producing a result table and introducing a groupby variable gender with default values for other parameters."
   ]
  },
  {
   "cell_type": "code",
   "execution_count": 20,
   "metadata": {},
   "outputs": [
    {
     "data": {
      "text/plain": [
       "Success: 0 rows affected"
      ]
     },
     "execution_count": 20,
     "metadata": {
      "application/vnd.teradata.resultset": ""
     },
     "output_type": "execute_result"
    }
   ],
   "source": [
    "call ${VALDB}.td_analyze('BinomialTest', \n",
    "                         'database=${QLID};\n",
    "                          tablename=VAL_ADS;\n",
    "                          firstcolumn=sv_avg_bal;\n",
    "                          groupby=female_ind;\n",
    "                          outputdatabase=${QLID};\n",
    "                          outputtablename=_val_binomial_example4;\n",
    "                          teststyle=sign;\n",
    "                          statsdatabase=${VALDB};');"
   ]
  },
  {
   "cell_type": "code",
   "execution_count": 21,
   "metadata": {},
   "outputs": [
    {
     "data": {
      "application/vnd.teradata.resultset": "\"female_ind\",\"N\",\"NPos\",\"NNeg\",\"BP\",\"BinomialCallP_0.05\"\n\"1\",\"5852\",\"3514\",\"2338\",\"2e-06\",\"p\"\n\"0\",\"4606\",\"2380\",\"2226\",\"0.023268256\",\"p\"",
      "text/html": [
       "<div class = \"td-resultset-table-div\" style = \"max-height: 100%; overflow-y: auto\">\n",
       "      <table class=\"tdhistory425839\"><style>\n",
       "      table.tdhistory425839 { display: block !important; min-height: 126px !important; overflow: auto !important; height: 126px !important; width: 100% !important; border: 1px solid rgb(207, 207, 207) !important; border-collapse: collapse !important; ; color: var(--jp-ui-font-color1) !important; }\n",
       "      th.tdhistory425839 { border: 1px solid rgb(198,198,198) !important; border-collapse: collapse !important; ; padding: 2px 5px !important; ; font-size: 13px !important; ; text-align: center !important; white-space: normal !important; color: var(--jp-ui-font-color1) !important; }\n",
       "      th.tdhistory425839:last-child { text-align: left !important; }\n",
       "      tbody.tdhistory425839 tr:nth-child(even) { background: rgba(243, 243, 243, 0.75) !important; }\n",
       "      tbody.tdhistory425839 tr:nth-child(odd) { background: var(--jp-ui-inverse-font-color1) !important; }\n",
       "      td.tdhistory425839 { border: 1px solid rgb(207, 207, 207) !important; border-collapse: collapse !important; ; padding: 2px 5px !important; ; font-size: 13px !important; ; text-align: left !important;          white-space: nowrap !important; overflow:hidden !important; text-overflow:ellipsis !important;; }\n",
       "    </style><thead><tr style= \"background: rgba(243, 243, 243, 0.75)\"><th class=\"tdhistory425839\"></th><th class=\"tdhistory425839\">female_ind</th><th class=\"tdhistory425839\">N</th><th class=\"tdhistory425839\">NPos</th><th class=\"tdhistory425839\">NNeg</th><th class=\"tdhistory425839\">BP</th><th class=\"tdhistory425839\">BinomialCallP_0.05</th></tr></thead><tbody class=\"tdhistory425839 resultset-body\"><tr><th class=\"tdhistory425839\" style= \"background: rgba(243, 243, 243, 0.75)\">1</th><td class=\"tdhistory425839\">1</td><td class=\"tdhistory425839\">5852</td><td class=\"tdhistory425839\">3514</td><td class=\"tdhistory425839\">2338</td><td class=\"tdhistory425839\">2e-06</td><td class=\"tdhistory425839\">p</td></tr><tr><th class=\"tdhistory425839\" style= \"background: rgba(243, 243, 243, 0.75)\">2</th><td class=\"tdhistory425839\">0</td><td class=\"tdhistory425839\">4606</td><td class=\"tdhistory425839\">2380</td><td class=\"tdhistory425839\">2226</td><td class=\"tdhistory425839\">0.023268256</td><td class=\"tdhistory425839\">p</td></tr></tbody></table></div>"
      ]
     },
     "execution_count": 21,
     "metadata": {
      "application/vnd.teradata.resultset": "{\"resultSetID\":\"/home/jovyan/JupyterLabRoot/Teradata/Resultsets/2022.09.16_20.59.35.189_UTC\",\"historyID\":323,\"chunkID\":\"00001\",\"sessionid\":\"\",\"portnum\":\"\",\"dockermode\":\"docker\",\"totalRowCount\":2,\"chunkCount\":0,\"rowLimit\":0,\"columnMetadata\":[{\"columnName\":\"female_ind\",\"columnTypeName\":\"BYTEINT\"},{\"columnNumber\":1,\"columnName\":\"N\",\"columnTypeName\":\"FLOAT\"},{\"columnNumber\":2,\"columnName\":\"NPos\",\"columnTypeName\":\"FLOAT\"},{\"columnNumber\":3,\"columnName\":\"NNeg\",\"columnTypeName\":\"FLOAT\"},{\"columnNumber\":4,\"columnName\":\"BP\",\"columnTypeName\":\"FLOAT\"},{\"columnNumber\":5,\"columnName\":\"BinomialCallP_0.05\",\"columnTypeName\":\"VARCHAR\",\"length\":1,\"scale\":1}]}"
     },
     "output_type": "execute_result"
    }
   ],
   "source": [
    "SELECT * FROM ${QLID}._val_binomial_example4;"
   ]
  },
  {
   "cell_type": "markdown",
   "metadata": {},
   "source": [
    "---"
   ]
  },
  {
   "cell_type": "markdown",
   "metadata": {},
   "source": [
    "### Kolmogorov-Smirnoff Tests\n",
    "\n",
    "#### Purpose\n",
    "\n",
    "Kolmogorov-Smirnov Goodness-of-Fit Test is used to decide if a sample comes from a population with a specific distribution.  An attractive feature of this test is that the distribution of the K-S test statistic itself does not depend on the underlying cumulative distribution function being tested. Another advantage is that it is an exact test.\n",
    "\n",
    "#### Required Parameters\n",
    "\n",
    "- **columnofinterest**\n",
    "\n",
    "    The numeric column that is tested to have a normal distribution. It must reside in the table indicated by the tablename parameter\n",
    "\n",
    "- **database**\n",
    "\n",
    "    The database containing the table to analyze.\n",
    "\n",
    "- **kstest**\n",
    "\n",
    "    The kstest parameter:\n",
    "    - Is required\n",
    "    - Must be the first parameter\n",
    "    - Is always enclosed in single quotes\n",
    "\n",
    "\n",
    "- **tablename**\n",
    "\n",
    "    The table containing the columns to analyze.  It must reside in the database indicated by the database parameter.\n",
    "\n",
    "#### Optional Parameters\n",
    "\n",
    "- **columns**\n",
    "\n",
    "    Used only by the Smirnov test, this parameter represents a categorical variable with two values that indicate the distribution to which the columnofinterest belongs. It must reside in the table indicated by the tablename parameter.\n",
    "\n",
    "- **fallback**\n",
    "\n",
    "    When true, FALLBACK is requested as an attribute of the created output results table.  When false or parameter not specified, the FALLBACK attribute is not included in the create table SQL.\n",
    "\n",
    "- **gensqlonly**\n",
    "\n",
    "    When true, the SQL for the requested function is returned as a result set but not run. When not specified or set to false, the SQL is run but not returned.  This parameter is not allowed when using the Smirnov test.\n",
    "\n",
    "- **groupby**\n",
    "    \n",
    "    One or more group-by columns may optionally be specified so that a separate result is produced for each value or combination of values in the specified column or columns.\n",
    "\n",
    "- **multiset**\n",
    "\n",
    "    When true, MULTISET is requested as an attribute of the created output results table.  When false or parameter not specified, the MULTISET attribute is not included in the create table SQL.\n",
    "\n",
    "- **outputdatabase**\n",
    "\n",
    "    Specifies the name of the database to contain the analysis results table.\n",
    "\n",
    "- **outputtablename**\n",
    "\n",
    "    Specifies the name of the table to store the analysis results. If not supplied, the results are returned as a result set.\n",
    "\n",
    "- **overwrite**\n",
    "\n",
    "    When overwrite is set to true or not set, the output table is dropped before creating a new one.\n",
    "\n",
    "- **statsdatabase**\n",
    "\n",
    "    This is the database where the statistical test metadata tables are installed.  If not specified, the source database is searched for these metadata tables.\n",
    "\n",
    "- **teststyle**\n",
    "\n",
    "    The valid values are ks, l, sw, p and s, representing a Kolmogorov-Smirnov, Lilliefors, Shapiro-Wilk, D’Agostino and Pearson or Smirnov test.  If not specified, the default test style is Kolmogorov-Smirnov (ks).\n",
    "\n",
    "- **thresholdprobability**\n",
    "\n",
    "    You may optionally change the threshold probability or allow it to default to 0.05.  Below this  \"alpha\" probability the null hypothesis is rejected."
   ]
  },
  {
   "cell_type": "markdown",
   "metadata": {},
   "source": [
    "1.  Kolmogorov-Smirnov test with group-by option."
   ]
  },
  {
   "cell_type": "code",
   "execution_count": 22,
   "metadata": {},
   "outputs": [
    {
     "data": {
      "text/plain": [
       "Success: 0 rows affected"
      ]
     },
     "execution_count": 22,
     "metadata": {
      "application/vnd.teradata.resultset": ""
     },
     "output_type": "execute_result"
    },
    {
     "ename": "WARNING",
     "evalue": "[Teradata Database] [Warning 3212] The stored procedure returned one or more result sets.",
     "output_type": "error",
     "traceback": [
      "[Teradata Database] [Warning 3212] The stored procedure returned one or more result sets."
     ]
    },
    {
     "data": {
      "application/vnd.teradata.resultset": "\"tot_cust_years\",\"Klm\",\"M\",\"KlmPValue\",\"KlmPText\",\"KlmCallP_5E-2\"\n\"8\",\"0.167601957\",\"1014\",\"0.01\",\"<0.01\",\"p\"\n\"11\",\"0.147381487\",\"374\",\"0.01\",\"<0.01\",\"p\"\n\"12\",\"0.145172899\",\"182\",\"0.01\",\"<0.01\",\"p\"\n\"0\",\"0.15574236700000005\",\"176\",\"0.01\",\"<0.01\",\"p\"\n\"3\",\"0.169747933\",\"1160\",\"0.01\",\"<0.01\",\"p\"\n\"9\",\"0.156509661\",\"845\",\"0.01\",\"<0.01\",\"p\"\n\"4\",\"0.17757486300000003\",\"1137\",\"0.01\",\"<0.01\",\"p\"\n\"14\",\"0.11384552699999997\",\"39\",\"0.2\",\">0.20\",\"a\"\n\"1\",\"0.168141482\",\"526\",\"0.01\",\"<0.01\",\"p\"\n\"10\",\"0.186458308\",\"613\",\"0.01\",\"<0.01\",\"p\"\n\"7\",\"0.170163411\",\"1118\",\"0.01\",\"<0.01\",\"p\"\n\"6\",\"0.155173774\",\"1151\",\"0.01\",\"<0.01\",\"p\"\n\"2\",\"0.17041927299999998\",\"888\",\"0.01\",\"<0.01\",\"p\"\n\"13\",\"0.194162895\",\"45\",\"0.05970334701819358\",\"\",\"a\"\n\"5\",\"0.17785805899999993\",\"1190\",\"0.01\",\"<0.01\",\"p\"",
      "text/html": [
       "<div class = \"td-resultset-table-div\" style = \"max-height: 100%; overflow-y: auto\">\n",
       "      <table class=\"tdhistory237099\"><style>\n",
       "      table.tdhistory237099 { display: block !important; min-height: 399px !important; overflow: auto !important; height: 399px !important; width: 100% !important; border: 1px solid rgb(207, 207, 207) !important; border-collapse: collapse !important; ; color: var(--jp-ui-font-color1) !important; }\n",
       "      th.tdhistory237099 { border: 1px solid rgb(198,198,198) !important; border-collapse: collapse !important; ; padding: 2px 5px !important; ; font-size: 13px !important; ; text-align: center !important; white-space: normal !important; color: var(--jp-ui-font-color1) !important; }\n",
       "      th.tdhistory237099:last-child { text-align: left !important; }\n",
       "      tbody.tdhistory237099 tr:nth-child(even) { background: rgba(243, 243, 243, 0.75) !important; }\n",
       "      tbody.tdhistory237099 tr:nth-child(odd) { background: var(--jp-ui-inverse-font-color1) !important; }\n",
       "      td.tdhistory237099 { border: 1px solid rgb(207, 207, 207) !important; border-collapse: collapse !important; ; padding: 2px 5px !important; ; font-size: 13px !important; ; text-align: left !important;          white-space: nowrap !important; overflow:hidden !important; text-overflow:ellipsis !important;; }\n",
       "    </style><thead><tr style= \"background: rgba(243, 243, 243, 0.75)\"><th class=\"tdhistory237099\"></th><th class=\"tdhistory237099\">tot_cust_years</th><th class=\"tdhistory237099\">Klm</th><th class=\"tdhistory237099\">M</th><th class=\"tdhistory237099\">KlmPValue</th><th class=\"tdhistory237099\">KlmPText</th><th class=\"tdhistory237099\">KlmCallP_5E-2</th></tr></thead><tbody class=\"tdhistory237099 resultset-body\"><tr><th class=\"tdhistory237099\" style= \"background: rgba(243, 243, 243, 0.75)\">1</th><td class=\"tdhistory237099\">8</td><td class=\"tdhistory237099\">0.167601957</td><td class=\"tdhistory237099\">1014</td><td class=\"tdhistory237099\">0.01</td><td class=\"tdhistory237099\"><0.01</td><td class=\"tdhistory237099\">p</td></tr><tr><th class=\"tdhistory237099\" style= \"background: rgba(243, 243, 243, 0.75)\">2</th><td class=\"tdhistory237099\">11</td><td class=\"tdhistory237099\">0.147381487</td><td class=\"tdhistory237099\">374</td><td class=\"tdhistory237099\">0.01</td><td class=\"tdhistory237099\"><0.01</td><td class=\"tdhistory237099\">p</td></tr><tr><th class=\"tdhistory237099\" style= \"background: rgba(243, 243, 243, 0.75)\">3</th><td class=\"tdhistory237099\">12</td><td class=\"tdhistory237099\">0.145172899</td><td class=\"tdhistory237099\">182</td><td class=\"tdhistory237099\">0.01</td><td class=\"tdhistory237099\"><0.01</td><td class=\"tdhistory237099\">p</td></tr><tr><th class=\"tdhistory237099\" style= \"background: rgba(243, 243, 243, 0.75)\">4</th><td class=\"tdhistory237099\">0</td><td class=\"tdhistory237099\">0.15574236700000005</td><td class=\"tdhistory237099\">176</td><td class=\"tdhistory237099\">0.01</td><td class=\"tdhistory237099\"><0.01</td><td class=\"tdhistory237099\">p</td></tr><tr><th class=\"tdhistory237099\" style= \"background: rgba(243, 243, 243, 0.75)\">5</th><td class=\"tdhistory237099\">3</td><td class=\"tdhistory237099\">0.169747933</td><td class=\"tdhistory237099\">1160</td><td class=\"tdhistory237099\">0.01</td><td class=\"tdhistory237099\"><0.01</td><td class=\"tdhistory237099\">p</td></tr><tr><th class=\"tdhistory237099\" style= \"background: rgba(243, 243, 243, 0.75)\">6</th><td class=\"tdhistory237099\">9</td><td class=\"tdhistory237099\">0.156509661</td><td class=\"tdhistory237099\">845</td><td class=\"tdhistory237099\">0.01</td><td class=\"tdhistory237099\"><0.01</td><td class=\"tdhistory237099\">p</td></tr><tr><th class=\"tdhistory237099\" style= \"background: rgba(243, 243, 243, 0.75)\">7</th><td class=\"tdhistory237099\">4</td><td class=\"tdhistory237099\">0.17757486300000003</td><td class=\"tdhistory237099\">1137</td><td class=\"tdhistory237099\">0.01</td><td class=\"tdhistory237099\"><0.01</td><td class=\"tdhistory237099\">p</td></tr><tr><th class=\"tdhistory237099\" style= \"background: rgba(243, 243, 243, 0.75)\">8</th><td class=\"tdhistory237099\">14</td><td class=\"tdhistory237099\">0.11384552699999997</td><td class=\"tdhistory237099\">39</td><td class=\"tdhistory237099\">0.2</td><td class=\"tdhistory237099\">>0.20</td><td class=\"tdhistory237099\">a</td></tr><tr><th class=\"tdhistory237099\" style= \"background: rgba(243, 243, 243, 0.75)\">9</th><td class=\"tdhistory237099\">1</td><td class=\"tdhistory237099\">0.168141482</td><td class=\"tdhistory237099\">526</td><td class=\"tdhistory237099\">0.01</td><td class=\"tdhistory237099\"><0.01</td><td class=\"tdhistory237099\">p</td></tr><tr><th class=\"tdhistory237099\" style= \"background: rgba(243, 243, 243, 0.75)\">10</th><td class=\"tdhistory237099\">10</td><td class=\"tdhistory237099\">0.186458308</td><td class=\"tdhistory237099\">613</td><td class=\"tdhistory237099\">0.01</td><td class=\"tdhistory237099\"><0.01</td><td class=\"tdhistory237099\">p</td></tr><tr><th class=\"tdhistory237099\" style= \"background: rgba(243, 243, 243, 0.75)\">11</th><td class=\"tdhistory237099\">7</td><td class=\"tdhistory237099\">0.170163411</td><td class=\"tdhistory237099\">1118</td><td class=\"tdhistory237099\">0.01</td><td class=\"tdhistory237099\"><0.01</td><td class=\"tdhistory237099\">p</td></tr><tr><th class=\"tdhistory237099\" style= \"background: rgba(243, 243, 243, 0.75)\">12</th><td class=\"tdhistory237099\">6</td><td class=\"tdhistory237099\">0.155173774</td><td class=\"tdhistory237099\">1151</td><td class=\"tdhistory237099\">0.01</td><td class=\"tdhistory237099\"><0.01</td><td class=\"tdhistory237099\">p</td></tr><tr><th class=\"tdhistory237099\" style= \"background: rgba(243, 243, 243, 0.75)\">13</th><td class=\"tdhistory237099\">2</td><td class=\"tdhistory237099\">0.17041927299999998</td><td class=\"tdhistory237099\">888</td><td class=\"tdhistory237099\">0.01</td><td class=\"tdhistory237099\"><0.01</td><td class=\"tdhistory237099\">p</td></tr><tr><th class=\"tdhistory237099\" style= \"background: rgba(243, 243, 243, 0.75)\">14</th><td class=\"tdhistory237099\">13</td><td class=\"tdhistory237099\">0.194162895</td><td class=\"tdhistory237099\">45</td><td class=\"tdhistory237099\">0.05970334701819358</td><td class=\"tdhistory237099\"></td><td class=\"tdhistory237099\">a</td></tr><tr><th class=\"tdhistory237099\" style= \"background: rgba(243, 243, 243, 0.75)\">15</th><td class=\"tdhistory237099\">5</td><td class=\"tdhistory237099\">0.17785805899999993</td><td class=\"tdhistory237099\">1190</td><td class=\"tdhistory237099\">0.01</td><td class=\"tdhistory237099\"><0.01</td><td class=\"tdhistory237099\">p</td></tr></tbody></table></div>"
      ]
     },
     "execution_count": 22,
     "metadata": {
      "application/vnd.teradata.resultset": "{\"resultSetID\":\"/home/jovyan/JupyterLabRoot/Teradata/Resultsets/2022.09.16_21.00.03.241_UTC\",\"historyID\":324,\"chunkID\":\"00001\",\"sessionid\":\"\",\"portnum\":\"\",\"dockermode\":\"docker\",\"totalRowCount\":15,\"chunkCount\":0,\"rowLimit\":0,\"columnMetadata\":[{\"columnName\":\"tot_cust_years\",\"columnTypeName\":\"INTEGER\"},{\"columnNumber\":1,\"columnName\":\"Klm\",\"columnTypeName\":\"FLOAT\"},{\"columnNumber\":2,\"columnName\":\"M\",\"columnTypeName\":\"FLOAT\"},{\"columnNumber\":3,\"columnName\":\"KlmPValue\",\"columnTypeName\":\"FLOAT\"},{\"columnNumber\":4,\"columnName\":\"KlmPText\",\"columnTypeName\":\"VARCHAR\",\"length\":5,\"scale\":5},{\"columnNumber\":5,\"columnName\":\"KlmCallP_5E-2\",\"columnTypeName\":\"VARCHAR\",\"length\":1,\"scale\":1}]}"
     },
     "output_type": "execute_result"
    }
   ],
   "source": [
    "call ${VALDB}.td_analyze('KSTest', \n",
    "                         'database=${QLID};\n",
    "                          tablename=VAL_ADS;\n",
    "                          columnofinterest=tot_income;\n",
    "                          teststyle=KS;\n",
    "                          groupby=tot_cust_years;\n",
    "                          statsdatabase=${VALDB};');"
   ]
  },
  {
   "cell_type": "markdown",
   "metadata": {},
   "source": [
    "2.  Lilliefors test with group-by option."
   ]
  },
  {
   "cell_type": "code",
   "execution_count": 23,
   "metadata": {},
   "outputs": [
    {
     "data": {
      "text/plain": [
       "Success: 0 rows affected"
      ]
     },
     "execution_count": 23,
     "metadata": {
      "application/vnd.teradata.resultset": ""
     },
     "output_type": "execute_result"
    },
    {
     "ename": "WARNING",
     "evalue": "[Teradata Database] [Warning 3212] The stored procedure returned one or more result sets.",
     "output_type": "error",
     "traceback": [
      "[Teradata Database] [Warning 3212] The stored procedure returned one or more result sets."
     ]
    },
    {
     "data": {
      "application/vnd.teradata.resultset": "\"tot_cust_years\",\"Lilliefors\",\"M\",\"LillieforsPValue\",\"LillieforsPText\",\"LillieforsCallP_5E-2\"\n\"8\",\"0.16437102548323468\",\"1014\",\"0.01\",\"<0.01\",\"p\"\n\"11\",\"0.14539964207486628\",\"374\",\"0.01\",\"<0.01\",\"p\"\n\"12\",\"0.14397700704395605\",\"182\",\"0.01\",\"<0.01\",\"p\"\n\"0\",\"0.15455723972727275\",\"176\",\"0.01\",\"<0.01\",\"p\"\n\"3\",\"0.1652836109310345\",\"1160\",\"0.01\",\"<0.01\",\"p\"\n\"9\",\"0.15286021289940832\",\"845\",\"0.01\",\"<0.01\",\"p\"\n\"4\",\"0.17220877782761657\",\"1137\",\"0.01\",\"<0.01\",\"p\"\n\"14\",\"0.11152678682051276\",\"39\",\"0.2\",\">0.20\",\"a\"\n\"1\",\"0.16513402253992393\",\"526\",\"0.01\",\"<0.01\",\"p\"\n\"10\",\"0.1838866707161501\",\"613\",\"0.01\",\"<0.01\",\"p\"\n\"7\",\"0.16595695373703034\",\"1118\",\"0.01\",\"<0.01\",\"p\"\n\"6\",\"0.1514699463909644\",\"1151\",\"0.01\",\"<0.01\",\"p\"\n\"2\",\"0.16821365318018022\",\"888\",\"0.01\",\"<0.01\",\"p\"\n\"13\",\"0.19186959577777774\",\"45\",\"0.01\",\"<0.01\",\"p\"\n\"5\",\"0.17417877405882343\",\"1190\",\"0.01\",\"<0.01\",\"p\"",
      "text/html": [
       "<div class = \"td-resultset-table-div\" style = \"max-height: 100%; overflow-y: auto\">\n",
       "      <table class=\"tdhistory184971\"><style>\n",
       "      table.tdhistory184971 { display: block !important; min-height: 399px !important; overflow: auto !important; height: 399px !important; width: 100% !important; border: 1px solid rgb(207, 207, 207) !important; border-collapse: collapse !important; ; color: var(--jp-ui-font-color1) !important; }\n",
       "      th.tdhistory184971 { border: 1px solid rgb(198,198,198) !important; border-collapse: collapse !important; ; padding: 2px 5px !important; ; font-size: 13px !important; ; text-align: center !important; white-space: normal !important; color: var(--jp-ui-font-color1) !important; }\n",
       "      th.tdhistory184971:last-child { text-align: left !important; }\n",
       "      tbody.tdhistory184971 tr:nth-child(even) { background: rgba(243, 243, 243, 0.75) !important; }\n",
       "      tbody.tdhistory184971 tr:nth-child(odd) { background: var(--jp-ui-inverse-font-color1) !important; }\n",
       "      td.tdhistory184971 { border: 1px solid rgb(207, 207, 207) !important; border-collapse: collapse !important; ; padding: 2px 5px !important; ; font-size: 13px !important; ; text-align: left !important;          white-space: nowrap !important; overflow:hidden !important; text-overflow:ellipsis !important;; }\n",
       "    </style><thead><tr style= \"background: rgba(243, 243, 243, 0.75)\"><th class=\"tdhistory184971\"></th><th class=\"tdhistory184971\">tot_cust_years</th><th class=\"tdhistory184971\">Lilliefors</th><th class=\"tdhistory184971\">M</th><th class=\"tdhistory184971\">LillieforsPValue</th><th class=\"tdhistory184971\">LillieforsPText</th><th class=\"tdhistory184971\">LillieforsCallP_5E-2</th></tr></thead><tbody class=\"tdhistory184971 resultset-body\"><tr><th class=\"tdhistory184971\" style= \"background: rgba(243, 243, 243, 0.75)\">1</th><td class=\"tdhistory184971\">8</td><td class=\"tdhistory184971\">0.16437102548323468</td><td class=\"tdhistory184971\">1014</td><td class=\"tdhistory184971\">0.01</td><td class=\"tdhistory184971\"><0.01</td><td class=\"tdhistory184971\">p</td></tr><tr><th class=\"tdhistory184971\" style= \"background: rgba(243, 243, 243, 0.75)\">2</th><td class=\"tdhistory184971\">11</td><td class=\"tdhistory184971\">0.14539964207486628</td><td class=\"tdhistory184971\">374</td><td class=\"tdhistory184971\">0.01</td><td class=\"tdhistory184971\"><0.01</td><td class=\"tdhistory184971\">p</td></tr><tr><th class=\"tdhistory184971\" style= \"background: rgba(243, 243, 243, 0.75)\">3</th><td class=\"tdhistory184971\">12</td><td class=\"tdhistory184971\">0.14397700704395605</td><td class=\"tdhistory184971\">182</td><td class=\"tdhistory184971\">0.01</td><td class=\"tdhistory184971\"><0.01</td><td class=\"tdhistory184971\">p</td></tr><tr><th class=\"tdhistory184971\" style= \"background: rgba(243, 243, 243, 0.75)\">4</th><td class=\"tdhistory184971\">0</td><td class=\"tdhistory184971\">0.15455723972727275</td><td class=\"tdhistory184971\">176</td><td class=\"tdhistory184971\">0.01</td><td class=\"tdhistory184971\"><0.01</td><td class=\"tdhistory184971\">p</td></tr><tr><th class=\"tdhistory184971\" style= \"background: rgba(243, 243, 243, 0.75)\">5</th><td class=\"tdhistory184971\">3</td><td class=\"tdhistory184971\">0.1652836109310345</td><td class=\"tdhistory184971\">1160</td><td class=\"tdhistory184971\">0.01</td><td class=\"tdhistory184971\"><0.01</td><td class=\"tdhistory184971\">p</td></tr><tr><th class=\"tdhistory184971\" style= \"background: rgba(243, 243, 243, 0.75)\">6</th><td class=\"tdhistory184971\">9</td><td class=\"tdhistory184971\">0.15286021289940832</td><td class=\"tdhistory184971\">845</td><td class=\"tdhistory184971\">0.01</td><td class=\"tdhistory184971\"><0.01</td><td class=\"tdhistory184971\">p</td></tr><tr><th class=\"tdhistory184971\" style= \"background: rgba(243, 243, 243, 0.75)\">7</th><td class=\"tdhistory184971\">4</td><td class=\"tdhistory184971\">0.17220877782761657</td><td class=\"tdhistory184971\">1137</td><td class=\"tdhistory184971\">0.01</td><td class=\"tdhistory184971\"><0.01</td><td class=\"tdhistory184971\">p</td></tr><tr><th class=\"tdhistory184971\" style= \"background: rgba(243, 243, 243, 0.75)\">8</th><td class=\"tdhistory184971\">14</td><td class=\"tdhistory184971\">0.11152678682051276</td><td class=\"tdhistory184971\">39</td><td class=\"tdhistory184971\">0.2</td><td class=\"tdhistory184971\">>0.20</td><td class=\"tdhistory184971\">a</td></tr><tr><th class=\"tdhistory184971\" style= \"background: rgba(243, 243, 243, 0.75)\">9</th><td class=\"tdhistory184971\">1</td><td class=\"tdhistory184971\">0.16513402253992393</td><td class=\"tdhistory184971\">526</td><td class=\"tdhistory184971\">0.01</td><td class=\"tdhistory184971\"><0.01</td><td class=\"tdhistory184971\">p</td></tr><tr><th class=\"tdhistory184971\" style= \"background: rgba(243, 243, 243, 0.75)\">10</th><td class=\"tdhistory184971\">10</td><td class=\"tdhistory184971\">0.1838866707161501</td><td class=\"tdhistory184971\">613</td><td class=\"tdhistory184971\">0.01</td><td class=\"tdhistory184971\"><0.01</td><td class=\"tdhistory184971\">p</td></tr><tr><th class=\"tdhistory184971\" style= \"background: rgba(243, 243, 243, 0.75)\">11</th><td class=\"tdhistory184971\">7</td><td class=\"tdhistory184971\">0.16595695373703034</td><td class=\"tdhistory184971\">1118</td><td class=\"tdhistory184971\">0.01</td><td class=\"tdhistory184971\"><0.01</td><td class=\"tdhistory184971\">p</td></tr><tr><th class=\"tdhistory184971\" style= \"background: rgba(243, 243, 243, 0.75)\">12</th><td class=\"tdhistory184971\">6</td><td class=\"tdhistory184971\">0.1514699463909644</td><td class=\"tdhistory184971\">1151</td><td class=\"tdhistory184971\">0.01</td><td class=\"tdhistory184971\"><0.01</td><td class=\"tdhistory184971\">p</td></tr><tr><th class=\"tdhistory184971\" style= \"background: rgba(243, 243, 243, 0.75)\">13</th><td class=\"tdhistory184971\">2</td><td class=\"tdhistory184971\">0.16821365318018022</td><td class=\"tdhistory184971\">888</td><td class=\"tdhistory184971\">0.01</td><td class=\"tdhistory184971\"><0.01</td><td class=\"tdhistory184971\">p</td></tr><tr><th class=\"tdhistory184971\" style= \"background: rgba(243, 243, 243, 0.75)\">14</th><td class=\"tdhistory184971\">13</td><td class=\"tdhistory184971\">0.19186959577777774</td><td class=\"tdhistory184971\">45</td><td class=\"tdhistory184971\">0.01</td><td class=\"tdhistory184971\"><0.01</td><td class=\"tdhistory184971\">p</td></tr><tr><th class=\"tdhistory184971\" style= \"background: rgba(243, 243, 243, 0.75)\">15</th><td class=\"tdhistory184971\">5</td><td class=\"tdhistory184971\">0.17417877405882343</td><td class=\"tdhistory184971\">1190</td><td class=\"tdhistory184971\">0.01</td><td class=\"tdhistory184971\"><0.01</td><td class=\"tdhistory184971\">p</td></tr></tbody></table></div>"
      ]
     },
     "execution_count": 23,
     "metadata": {
      "application/vnd.teradata.resultset": "{\"resultSetID\":\"/home/jovyan/JupyterLabRoot/Teradata/Resultsets/2022.09.16_21.00.18.640_UTC\",\"historyID\":325,\"chunkID\":\"00001\",\"sessionid\":\"\",\"portnum\":\"\",\"dockermode\":\"docker\",\"totalRowCount\":15,\"chunkCount\":0,\"rowLimit\":0,\"columnMetadata\":[{\"columnName\":\"tot_cust_years\",\"columnTypeName\":\"INTEGER\"},{\"columnNumber\":1,\"columnName\":\"Lilliefors\",\"columnTypeName\":\"FLOAT\"},{\"columnNumber\":2,\"columnName\":\"M\",\"columnTypeName\":\"FLOAT\"},{\"columnNumber\":3,\"columnName\":\"LillieforsPValue\",\"columnTypeName\":\"FLOAT\"},{\"columnNumber\":4,\"columnName\":\"LillieforsPText\",\"columnTypeName\":\"VARCHAR\",\"length\":5,\"scale\":5},{\"columnNumber\":5,\"columnName\":\"LillieforsCallP_5E-2\",\"columnTypeName\":\"VARCHAR\",\"length\":1,\"scale\":1}]}"
     },
     "output_type": "execute_result"
    }
   ],
   "source": [
    "call ${VALDB}.td_analyze('KSTest', \n",
    "                         'database=${QLID};\n",
    "                          tablename=VAL_ADS;\n",
    "                          columnofinterest=tot_income;\n",
    "                          teststyle=L;\n",
    "                          groupby=tot_cust_years;\n",
    "                          statsdatabase=${VALDB};');"
   ]
  },
  {
   "cell_type": "markdown",
   "metadata": {},
   "source": [
    "3.  Shapiro-Wilk test with group-by option"
   ]
  },
  {
   "cell_type": "code",
   "execution_count": 25,
   "metadata": {},
   "outputs": [
    {
     "data": {
      "text/plain": [
       "Success: 0 rows affected"
      ]
     },
     "execution_count": 25,
     "metadata": {
      "application/vnd.teradata.resultset": ""
     },
     "output_type": "execute_result"
    },
    {
     "ename": "WARNING",
     "evalue": "[Teradata Database] [Warning 3212] The stored procedure returned one or more result sets.",
     "output_type": "error",
     "traceback": [
      "[Teradata Database] [Warning 3212] The stored procedure returned one or more result sets."
     ]
    },
    {
     "data": {
      "application/vnd.teradata.resultset": "\"tot_cust_years\",\"Shw\",\"N\",\"ShapiroWilkPValue\",\"ShapiroWilkPText\",\"ShapiroWilkCallP_5E-2\"\n\"2\",\"0.7380468157991121\",\"888\",\"1e-06\",\"\",\"p\"\n\"13\",\"0.8639321777575533\",\"45\",\"0.01\",\"<0.01\",\"p\"\n\"7\",\"0.7192490933650109\",\"1118\",\"1e-06\",\"\",\"p\"\n\"14\",\"0.9308345215745265\",\"39\",\"0.029586303936316234\",\"\",\"p\"\n\"1\",\"0.7768408108631804\",\"526\",\"1e-06\",\"\",\"p\"\n\"9\",\"0.7646871828003446\",\"845\",\"1e-06\",\"\",\"p\"\n\"12\",\"0.8145813511010308\",\"182\",\"1e-06\",\"\",\"p\"\n\"0\",\"0.8439237666531061\",\"176\",\"1e-06\",\"\",\"p\"\n\"8\",\"0.7397561124692298\",\"1014\",\"1e-06\",\"\",\"p\"\n\"10\",\"0.732851933043747\",\"613\",\"1e-06\",\"\",\"p\"\n\"4\",\"0.7244255624743281\",\"1137\",\"1e-06\",\"\",\"p\"\n\"6\",\"0.7343209428011321\",\"1151\",\"1e-06\",\"\",\"p\"\n\"5\",\"0.7197366806117592\",\"1190\",\"1e-06\",\"\",\"p\"\n\"11\",\"0.7883936611899575\",\"374\",\"1e-06\",\"\",\"p\"\n\"3\",\"0.7305021636588559\",\"1160\",\"1e-06\",\"\",\"p\"",
      "text/html": [
       "<div class = \"td-resultset-table-div\" style = \"max-height: 100%; overflow-y: auto\">\n",
       "      <table class=\"tdhistory792543\"><style>\n",
       "      table.tdhistory792543 { display: block !important; min-height: 399px !important; overflow: auto !important; height: 399px !important; width: 100% !important; border: 1px solid rgb(207, 207, 207) !important; border-collapse: collapse !important; ; color: var(--jp-ui-font-color1) !important; }\n",
       "      th.tdhistory792543 { border: 1px solid rgb(198,198,198) !important; border-collapse: collapse !important; ; padding: 2px 5px !important; ; font-size: 13px !important; ; text-align: center !important; white-space: normal !important; color: var(--jp-ui-font-color1) !important; }\n",
       "      th.tdhistory792543:last-child { text-align: left !important; }\n",
       "      tbody.tdhistory792543 tr:nth-child(even) { background: rgba(243, 243, 243, 0.75) !important; }\n",
       "      tbody.tdhistory792543 tr:nth-child(odd) { background: var(--jp-ui-inverse-font-color1) !important; }\n",
       "      td.tdhistory792543 { border: 1px solid rgb(207, 207, 207) !important; border-collapse: collapse !important; ; padding: 2px 5px !important; ; font-size: 13px !important; ; text-align: left !important;          white-space: nowrap !important; overflow:hidden !important; text-overflow:ellipsis !important;; }\n",
       "    </style><thead><tr style= \"background: rgba(243, 243, 243, 0.75)\"><th class=\"tdhistory792543\"></th><th class=\"tdhistory792543\">tot_cust_years</th><th class=\"tdhistory792543\">Shw</th><th class=\"tdhistory792543\">N</th><th class=\"tdhistory792543\">ShapiroWilkPValue</th><th class=\"tdhistory792543\">ShapiroWilkPText</th><th class=\"tdhistory792543\">ShapiroWilkCallP_5E-2</th></tr></thead><tbody class=\"tdhistory792543 resultset-body\"><tr><th class=\"tdhistory792543\" style= \"background: rgba(243, 243, 243, 0.75)\">1</th><td class=\"tdhistory792543\">2</td><td class=\"tdhistory792543\">0.7380468157991121</td><td class=\"tdhistory792543\">888</td><td class=\"tdhistory792543\">1e-06</td><td class=\"tdhistory792543\"></td><td class=\"tdhistory792543\">p</td></tr><tr><th class=\"tdhistory792543\" style= \"background: rgba(243, 243, 243, 0.75)\">2</th><td class=\"tdhistory792543\">13</td><td class=\"tdhistory792543\">0.8639321777575533</td><td class=\"tdhistory792543\">45</td><td class=\"tdhistory792543\">0.01</td><td class=\"tdhistory792543\"><0.01</td><td class=\"tdhistory792543\">p</td></tr><tr><th class=\"tdhistory792543\" style= \"background: rgba(243, 243, 243, 0.75)\">3</th><td class=\"tdhistory792543\">7</td><td class=\"tdhistory792543\">0.7192490933650109</td><td class=\"tdhistory792543\">1118</td><td class=\"tdhistory792543\">1e-06</td><td class=\"tdhistory792543\"></td><td class=\"tdhistory792543\">p</td></tr><tr><th class=\"tdhistory792543\" style= \"background: rgba(243, 243, 243, 0.75)\">4</th><td class=\"tdhistory792543\">14</td><td class=\"tdhistory792543\">0.9308345215745265</td><td class=\"tdhistory792543\">39</td><td class=\"tdhistory792543\">0.029586303936316234</td><td class=\"tdhistory792543\"></td><td class=\"tdhistory792543\">p</td></tr><tr><th class=\"tdhistory792543\" style= \"background: rgba(243, 243, 243, 0.75)\">5</th><td class=\"tdhistory792543\">1</td><td class=\"tdhistory792543\">0.7768408108631804</td><td class=\"tdhistory792543\">526</td><td class=\"tdhistory792543\">1e-06</td><td class=\"tdhistory792543\"></td><td class=\"tdhistory792543\">p</td></tr><tr><th class=\"tdhistory792543\" style= \"background: rgba(243, 243, 243, 0.75)\">6</th><td class=\"tdhistory792543\">9</td><td class=\"tdhistory792543\">0.7646871828003446</td><td class=\"tdhistory792543\">845</td><td class=\"tdhistory792543\">1e-06</td><td class=\"tdhistory792543\"></td><td class=\"tdhistory792543\">p</td></tr><tr><th class=\"tdhistory792543\" style= \"background: rgba(243, 243, 243, 0.75)\">7</th><td class=\"tdhistory792543\">12</td><td class=\"tdhistory792543\">0.8145813511010308</td><td class=\"tdhistory792543\">182</td><td class=\"tdhistory792543\">1e-06</td><td class=\"tdhistory792543\"></td><td class=\"tdhistory792543\">p</td></tr><tr><th class=\"tdhistory792543\" style= \"background: rgba(243, 243, 243, 0.75)\">8</th><td class=\"tdhistory792543\">0</td><td class=\"tdhistory792543\">0.8439237666531061</td><td class=\"tdhistory792543\">176</td><td class=\"tdhistory792543\">1e-06</td><td class=\"tdhistory792543\"></td><td class=\"tdhistory792543\">p</td></tr><tr><th class=\"tdhistory792543\" style= \"background: rgba(243, 243, 243, 0.75)\">9</th><td class=\"tdhistory792543\">8</td><td class=\"tdhistory792543\">0.7397561124692298</td><td class=\"tdhistory792543\">1014</td><td class=\"tdhistory792543\">1e-06</td><td class=\"tdhistory792543\"></td><td class=\"tdhistory792543\">p</td></tr><tr><th class=\"tdhistory792543\" style= \"background: rgba(243, 243, 243, 0.75)\">10</th><td class=\"tdhistory792543\">10</td><td class=\"tdhistory792543\">0.732851933043747</td><td class=\"tdhistory792543\">613</td><td class=\"tdhistory792543\">1e-06</td><td class=\"tdhistory792543\"></td><td class=\"tdhistory792543\">p</td></tr><tr><th class=\"tdhistory792543\" style= \"background: rgba(243, 243, 243, 0.75)\">11</th><td class=\"tdhistory792543\">4</td><td class=\"tdhistory792543\">0.7244255624743281</td><td class=\"tdhistory792543\">1137</td><td class=\"tdhistory792543\">1e-06</td><td class=\"tdhistory792543\"></td><td class=\"tdhistory792543\">p</td></tr><tr><th class=\"tdhistory792543\" style= \"background: rgba(243, 243, 243, 0.75)\">12</th><td class=\"tdhistory792543\">6</td><td class=\"tdhistory792543\">0.7343209428011321</td><td class=\"tdhistory792543\">1151</td><td class=\"tdhistory792543\">1e-06</td><td class=\"tdhistory792543\"></td><td class=\"tdhistory792543\">p</td></tr><tr><th class=\"tdhistory792543\" style= \"background: rgba(243, 243, 243, 0.75)\">13</th><td class=\"tdhistory792543\">5</td><td class=\"tdhistory792543\">0.7197366806117592</td><td class=\"tdhistory792543\">1190</td><td class=\"tdhistory792543\">1e-06</td><td class=\"tdhistory792543\"></td><td class=\"tdhistory792543\">p</td></tr><tr><th class=\"tdhistory792543\" style= \"background: rgba(243, 243, 243, 0.75)\">14</th><td class=\"tdhistory792543\">11</td><td class=\"tdhistory792543\">0.7883936611899575</td><td class=\"tdhistory792543\">374</td><td class=\"tdhistory792543\">1e-06</td><td class=\"tdhistory792543\"></td><td class=\"tdhistory792543\">p</td></tr><tr><th class=\"tdhistory792543\" style= \"background: rgba(243, 243, 243, 0.75)\">15</th><td class=\"tdhistory792543\">3</td><td class=\"tdhistory792543\">0.7305021636588559</td><td class=\"tdhistory792543\">1160</td><td class=\"tdhistory792543\">1e-06</td><td class=\"tdhistory792543\"></td><td class=\"tdhistory792543\">p</td></tr></tbody></table></div>"
      ]
     },
     "execution_count": 25,
     "metadata": {
      "application/vnd.teradata.resultset": "{\"resultSetID\":\"/home/jovyan/JupyterLabRoot/Teradata/Resultsets/2022.09.16_21.01.41.674_UTC\",\"historyID\":327,\"chunkID\":\"00001\",\"sessionid\":\"\",\"portnum\":\"\",\"dockermode\":\"docker\",\"totalRowCount\":15,\"chunkCount\":0,\"rowLimit\":0,\"columnMetadata\":[{\"columnName\":\"tot_cust_years\",\"columnTypeName\":\"INTEGER\"},{\"columnNumber\":1,\"columnName\":\"Shw\",\"columnTypeName\":\"FLOAT\"},{\"columnNumber\":2,\"columnName\":\"N\",\"columnTypeName\":\"FLOAT\"},{\"columnNumber\":3,\"columnName\":\"ShapiroWilkPValue\",\"columnTypeName\":\"FLOAT\"},{\"columnNumber\":4,\"columnName\":\"ShapiroWilkPText\",\"columnTypeName\":\"VARCHAR\",\"length\":5,\"scale\":5},{\"columnNumber\":5,\"columnName\":\"ShapiroWilkCallP_5E-2\",\"columnTypeName\":\"VARCHAR\",\"length\":1,\"scale\":1}]}"
     },
     "output_type": "execute_result"
    }
   ],
   "source": [
    "call ${VALDB}.td_analyze('KSTest', \n",
    "                         'database=${QLID};\n",
    "                          tablename=VAL_ADS;\n",
    "                          columnofinterest=tot_income;\n",
    "                          teststyle=SW;\n",
    "                          groupby=tot_cust_years;\n",
    "                          statsdatabase=${VALDB};');"
   ]
  },
  {
   "cell_type": "markdown",
   "metadata": {},
   "source": [
    "4.  D'Agostino and Pearson Test with group-by option."
   ]
  },
  {
   "cell_type": "code",
   "execution_count": 26,
   "metadata": {},
   "outputs": [
    {
     "data": {
      "text/plain": [
       "Success: 0 rows affected"
      ]
     },
     "execution_count": 26,
     "metadata": {
      "application/vnd.teradata.resultset": ""
     },
     "output_type": "execute_result"
    },
    {
     "ename": "WARNING",
     "evalue": "[Teradata Database] [Warning 3212] The stored procedure returned one or more result sets.",
     "output_type": "error",
     "traceback": [
      "[Teradata Database] [Warning 3212] The stored procedure returned one or more result sets."
     ]
    },
    {
     "data": {
      "application/vnd.teradata.resultset": "\"tot_cust_years\",\"T\",\"Zkurtosis\",\"Zskew\",\"ChiPValue\",\"ChiPText\",\"ChiCallP_5E-2\"\n\"5\",\"670.6249123670639\",\"13.339258887906915\",\"22.19660074625077\",\"0.0001\",\"<0.0001\",\"p\"\n\"13\",\"6.550323087619043\",\"-0.2341478075898076\",\"2.548626667799725\",\"0.039921993675254674\",\"\",\"p\"\n\"7\",\"688.1595653640874\",\"13.841639526324528\",\"22.283818806196074\",\"0.0001\",\"<0.0001\",\"p\"\n\"0\",\"56.45743848242031\",\"3.748819106192446\",\"6.511819545370309\",\"0.0001\",\"<0.0001\",\"p\"\n\"3\",\"589.343712293948\",\"12.388685407891993\",\"20.877360612832074\",\"0.0001\",\"<0.0001\",\"p\"\n\"11\",\"147.96721301835333\",\"6.177449794326851\",\"10.478851418782714\",\"0.0001\",\"<0.0001\",\"p\"\n\"12\",\"56.86330990567802\",\"3.6355690358930888\",\"6.606507980085502\",\"0.0001\",\"<0.0001\",\"p\"\n\"14\",\"3.328860179628917\",\"-0.6811192150956615\",\"1.6926124170808823\",\"0.20446845179761383\",\"\",\"a\"\n\"1\",\"244.19995139460283\",\"8.296957017858565\",\"13.242373489613195\",\"0.0001\",\"<0.0001\",\"p\"\n\"9\",\"439.9169174138988\",\"11.233736234248122\",\"17.71214520133684\",\"0.0001\",\"<0.0001\",\"p\"\n\"4\",\"699.1670879024333\",\"14.007041161881448\",\"22.42699011886776\",\"0.0001\",\"<0.0001\",\"p\"\n\"6\",\"604.0920246471834\",\"12.54918433339409\",\"21.133149249784797\",\"0.0001\",\"<0.0001\",\"p\"\n\"8\",\"568.6738886642955\",\"12.717984474593125\",\"20.172425723454868\",\"0.0001\",\"<0.0001\",\"p\"\n\"10\",\"356.23886916414375\",\"10.217865246021466\",\"15.869281615066589\",\"0.0001\",\"<0.0001\",\"p\"\n\"2\",\"422.35825783891846\",\"10.416288136969387\",\"17.716071779222087\",\"0.0001\",\"<0.0001\",\"p\"",
      "text/html": [
       "<div class = \"td-resultset-table-div\" style = \"max-height: 100%; overflow-y: auto\">\n",
       "      <table class=\"tdhistory374146\"><style>\n",
       "      table.tdhistory374146 { display: block !important; min-height: 399px !important; overflow: auto !important; height: 399px !important; width: 100% !important; border: 1px solid rgb(207, 207, 207) !important; border-collapse: collapse !important; ; color: var(--jp-ui-font-color1) !important; }\n",
       "      th.tdhistory374146 { border: 1px solid rgb(198,198,198) !important; border-collapse: collapse !important; ; padding: 2px 5px !important; ; font-size: 13px !important; ; text-align: center !important; white-space: normal !important; color: var(--jp-ui-font-color1) !important; }\n",
       "      th.tdhistory374146:last-child { text-align: left !important; }\n",
       "      tbody.tdhistory374146 tr:nth-child(even) { background: rgba(243, 243, 243, 0.75) !important; }\n",
       "      tbody.tdhistory374146 tr:nth-child(odd) { background: var(--jp-ui-inverse-font-color1) !important; }\n",
       "      td.tdhistory374146 { border: 1px solid rgb(207, 207, 207) !important; border-collapse: collapse !important; ; padding: 2px 5px !important; ; font-size: 13px !important; ; text-align: left !important;          white-space: nowrap !important; overflow:hidden !important; text-overflow:ellipsis !important;; }\n",
       "    </style><thead><tr style= \"background: rgba(243, 243, 243, 0.75)\"><th class=\"tdhistory374146\"></th><th class=\"tdhistory374146\">tot_cust_years</th><th class=\"tdhistory374146\">T</th><th class=\"tdhistory374146\">Zkurtosis</th><th class=\"tdhistory374146\">Zskew</th><th class=\"tdhistory374146\">ChiPValue</th><th class=\"tdhistory374146\">ChiPText</th><th class=\"tdhistory374146\">ChiCallP_5E-2</th></tr></thead><tbody class=\"tdhistory374146 resultset-body\"><tr><th class=\"tdhistory374146\" style= \"background: rgba(243, 243, 243, 0.75)\">1</th><td class=\"tdhistory374146\">5</td><td class=\"tdhistory374146\">670.6249123670639</td><td class=\"tdhistory374146\">13.339258887906915</td><td class=\"tdhistory374146\">22.19660074625077</td><td class=\"tdhistory374146\">0.0001</td><td class=\"tdhistory374146\"><0.0001</td><td class=\"tdhistory374146\">p</td></tr><tr><th class=\"tdhistory374146\" style= \"background: rgba(243, 243, 243, 0.75)\">2</th><td class=\"tdhistory374146\">13</td><td class=\"tdhistory374146\">6.550323087619043</td><td class=\"tdhistory374146\">-0.2341478075898076</td><td class=\"tdhistory374146\">2.548626667799725</td><td class=\"tdhistory374146\">0.039921993675254674</td><td class=\"tdhistory374146\"></td><td class=\"tdhistory374146\">p</td></tr><tr><th class=\"tdhistory374146\" style= \"background: rgba(243, 243, 243, 0.75)\">3</th><td class=\"tdhistory374146\">7</td><td class=\"tdhistory374146\">688.1595653640874</td><td class=\"tdhistory374146\">13.841639526324528</td><td class=\"tdhistory374146\">22.283818806196074</td><td class=\"tdhistory374146\">0.0001</td><td class=\"tdhistory374146\"><0.0001</td><td class=\"tdhistory374146\">p</td></tr><tr><th class=\"tdhistory374146\" style= \"background: rgba(243, 243, 243, 0.75)\">4</th><td class=\"tdhistory374146\">0</td><td class=\"tdhistory374146\">56.45743848242031</td><td class=\"tdhistory374146\">3.748819106192446</td><td class=\"tdhistory374146\">6.511819545370309</td><td class=\"tdhistory374146\">0.0001</td><td class=\"tdhistory374146\"><0.0001</td><td class=\"tdhistory374146\">p</td></tr><tr><th class=\"tdhistory374146\" style= \"background: rgba(243, 243, 243, 0.75)\">5</th><td class=\"tdhistory374146\">3</td><td class=\"tdhistory374146\">589.343712293948</td><td class=\"tdhistory374146\">12.388685407891993</td><td class=\"tdhistory374146\">20.877360612832074</td><td class=\"tdhistory374146\">0.0001</td><td class=\"tdhistory374146\"><0.0001</td><td class=\"tdhistory374146\">p</td></tr><tr><th class=\"tdhistory374146\" style= \"background: rgba(243, 243, 243, 0.75)\">6</th><td class=\"tdhistory374146\">11</td><td class=\"tdhistory374146\">147.96721301835333</td><td class=\"tdhistory374146\">6.177449794326851</td><td class=\"tdhistory374146\">10.478851418782714</td><td class=\"tdhistory374146\">0.0001</td><td class=\"tdhistory374146\"><0.0001</td><td class=\"tdhistory374146\">p</td></tr><tr><th class=\"tdhistory374146\" style= \"background: rgba(243, 243, 243, 0.75)\">7</th><td class=\"tdhistory374146\">12</td><td class=\"tdhistory374146\">56.86330990567802</td><td class=\"tdhistory374146\">3.6355690358930888</td><td class=\"tdhistory374146\">6.606507980085502</td><td class=\"tdhistory374146\">0.0001</td><td class=\"tdhistory374146\"><0.0001</td><td class=\"tdhistory374146\">p</td></tr><tr><th class=\"tdhistory374146\" style= \"background: rgba(243, 243, 243, 0.75)\">8</th><td class=\"tdhistory374146\">14</td><td class=\"tdhistory374146\">3.328860179628917</td><td class=\"tdhistory374146\">-0.6811192150956615</td><td class=\"tdhistory374146\">1.6926124170808823</td><td class=\"tdhistory374146\">0.20446845179761383</td><td class=\"tdhistory374146\"></td><td class=\"tdhistory374146\">a</td></tr><tr><th class=\"tdhistory374146\" style= \"background: rgba(243, 243, 243, 0.75)\">9</th><td class=\"tdhistory374146\">1</td><td class=\"tdhistory374146\">244.19995139460283</td><td class=\"tdhistory374146\">8.296957017858565</td><td class=\"tdhistory374146\">13.242373489613195</td><td class=\"tdhistory374146\">0.0001</td><td class=\"tdhistory374146\"><0.0001</td><td class=\"tdhistory374146\">p</td></tr><tr><th class=\"tdhistory374146\" style= \"background: rgba(243, 243, 243, 0.75)\">10</th><td class=\"tdhistory374146\">9</td><td class=\"tdhistory374146\">439.9169174138988</td><td class=\"tdhistory374146\">11.233736234248122</td><td class=\"tdhistory374146\">17.71214520133684</td><td class=\"tdhistory374146\">0.0001</td><td class=\"tdhistory374146\"><0.0001</td><td class=\"tdhistory374146\">p</td></tr><tr><th class=\"tdhistory374146\" style= \"background: rgba(243, 243, 243, 0.75)\">11</th><td class=\"tdhistory374146\">4</td><td class=\"tdhistory374146\">699.1670879024333</td><td class=\"tdhistory374146\">14.007041161881448</td><td class=\"tdhistory374146\">22.42699011886776</td><td class=\"tdhistory374146\">0.0001</td><td class=\"tdhistory374146\"><0.0001</td><td class=\"tdhistory374146\">p</td></tr><tr><th class=\"tdhistory374146\" style= \"background: rgba(243, 243, 243, 0.75)\">12</th><td class=\"tdhistory374146\">6</td><td class=\"tdhistory374146\">604.0920246471834</td><td class=\"tdhistory374146\">12.54918433339409</td><td class=\"tdhistory374146\">21.133149249784797</td><td class=\"tdhistory374146\">0.0001</td><td class=\"tdhistory374146\"><0.0001</td><td class=\"tdhistory374146\">p</td></tr><tr><th class=\"tdhistory374146\" style= \"background: rgba(243, 243, 243, 0.75)\">13</th><td class=\"tdhistory374146\">8</td><td class=\"tdhistory374146\">568.6738886642955</td><td class=\"tdhistory374146\">12.717984474593125</td><td class=\"tdhistory374146\">20.172425723454868</td><td class=\"tdhistory374146\">0.0001</td><td class=\"tdhistory374146\"><0.0001</td><td class=\"tdhistory374146\">p</td></tr><tr><th class=\"tdhistory374146\" style= \"background: rgba(243, 243, 243, 0.75)\">14</th><td class=\"tdhistory374146\">10</td><td class=\"tdhistory374146\">356.23886916414375</td><td class=\"tdhistory374146\">10.217865246021466</td><td class=\"tdhistory374146\">15.869281615066589</td><td class=\"tdhistory374146\">0.0001</td><td class=\"tdhistory374146\"><0.0001</td><td class=\"tdhistory374146\">p</td></tr><tr><th class=\"tdhistory374146\" style= \"background: rgba(243, 243, 243, 0.75)\">15</th><td class=\"tdhistory374146\">2</td><td class=\"tdhistory374146\">422.35825783891846</td><td class=\"tdhistory374146\">10.416288136969387</td><td class=\"tdhistory374146\">17.716071779222087</td><td class=\"tdhistory374146\">0.0001</td><td class=\"tdhistory374146\"><0.0001</td><td class=\"tdhistory374146\">p</td></tr></tbody></table></div>"
      ]
     },
     "execution_count": 26,
     "metadata": {
      "application/vnd.teradata.resultset": "{\"resultSetID\":\"/home/jovyan/JupyterLabRoot/Teradata/Resultsets/2022.09.16_21.01.53.717_UTC\",\"historyID\":328,\"chunkID\":\"00001\",\"sessionid\":\"\",\"portnum\":\"\",\"dockermode\":\"docker\",\"totalRowCount\":15,\"chunkCount\":0,\"rowLimit\":0,\"columnMetadata\":[{\"columnName\":\"tot_cust_years\",\"columnTypeName\":\"INTEGER\"},{\"columnNumber\":1,\"columnName\":\"T\",\"columnTypeName\":\"FLOAT\"},{\"columnNumber\":2,\"columnName\":\"Zkurtosis\",\"columnTypeName\":\"FLOAT\"},{\"columnNumber\":3,\"columnName\":\"Zskew\",\"columnTypeName\":\"FLOAT\"},{\"columnNumber\":4,\"columnName\":\"ChiPValue\",\"columnTypeName\":\"FLOAT\"},{\"columnNumber\":5,\"columnName\":\"ChiPText\",\"columnTypeName\":\"VARCHAR\",\"length\":7,\"scale\":7},{\"columnNumber\":6,\"columnName\":\"ChiCallP_5E-2\",\"columnTypeName\":\"VARCHAR\",\"length\":1,\"scale\":1}]}"
     },
     "output_type": "execute_result"
    }
   ],
   "source": [
    "call ${VALDB}.td_analyze('KSTest', \n",
    "                         'database=${QLID};\n",
    "                          tablename=VAL_ADS;\n",
    "                          columnofinterest=tot_income;\n",
    "                          teststyle=P;\n",
    "                          groupby=tot_cust_years;\n",
    "                          statsdatabase=${VALDB};');"
   ]
  },
  {
   "cell_type": "markdown",
   "metadata": {},
   "source": [
    "5.  Smirnov test with group-by option."
   ]
  },
  {
   "cell_type": "code",
   "execution_count": 27,
   "metadata": {},
   "outputs": [
    {
     "data": {
      "text/plain": [
       "Success: 0 rows affected"
      ]
     },
     "execution_count": 27,
     "metadata": {
      "application/vnd.teradata.resultset": ""
     },
     "output_type": "execute_result"
    },
    {
     "ename": "WARNING",
     "evalue": "[Teradata Database] [Warning 3212] The stored procedure returned one or more result sets.",
     "output_type": "error",
     "traceback": [
      "[Teradata Database] [Warning 3212] The stored procedure returned one or more result sets."
     ]
    },
    {
     "data": {
      "application/vnd.teradata.resultset": "\"tot_cust_years\",\"M\",\"N\",\"D\",\"SmirnovPValue\",\"SmirnovPText\",\"SmirnovCallP_5E-2\"\n\"8\",\"450\",\"564\",\"1.3487542965939632\",\"0.005\",\"<0.005\",\"p\"\n\"11\",\"158\",\"216\",\"1.2858397724698776\",\"0.005\",\"<0.005\",\"p\"\n\"12\",\"77\",\"105\",\"1.3420316985107306\",\"0.005\",\"<0.005\",\"p\"\n\"0\",\"74\",\"102\",\"1.3138514694761927\",\"0.005\",\"<0.005\",\"p\"\n\"3\",\"495\",\"665\",\"1.374792997808136\",\"0.005\",\"<0.005\",\"p\"\n\"9\",\"374\",\"471\",\"1.3686535531467623\",\"0.005\",\"<0.005\",\"p\"\n\"4\",\"503\",\"634\",\"1.3763702848743815\",\"0.005\",\"<0.005\",\"p\"\n\"14\",\"16\",\"23\",\"1.371671115432294\",\"0.000101\",\"\",\"p\"\n\"1\",\"226\",\"300\",\"1.3719868864800961\",\"0.005\",\"<0.005\",\"p\"\n\"10\",\"263\",\"350\",\"1.3713273499382055\",\"0.005\",\"<0.005\",\"p\"\n\"7\",\"504\",\"614\",\"1.3503829610890765\",\"0.005\",\"<0.005\",\"p\"\n\"6\",\"533\",\"618\",\"1.3732892384096402\",\"0.005\",\"<0.005\",\"p\"\n\"2\",\"378\",\"510\",\"1.3737247822288783\",\"0.005\",\"<0.005\",\"p\"\n\"13\",\"19\",\"26\",\"1.347643185482852\",\"0.00011\",\"\",\"p\"\n\"5\",\"536\",\"654\",\"1.3735159384678646\",\"0.005\",\"<0.005\",\"p\"",
      "text/html": [
       "<div class = \"td-resultset-table-div\" style = \"max-height: 100%; overflow-y: auto\">\n",
       "      <table class=\"tdhistory30013\"><style>\n",
       "      table.tdhistory30013 { display: block !important; min-height: 399px !important; overflow: auto !important; height: 399px !important; width: 100% !important; border: 1px solid rgb(207, 207, 207) !important; border-collapse: collapse !important; ; color: var(--jp-ui-font-color1) !important; }\n",
       "      th.tdhistory30013 { border: 1px solid rgb(198,198,198) !important; border-collapse: collapse !important; ; padding: 2px 5px !important; ; font-size: 13px !important; ; text-align: center !important; white-space: normal !important; color: var(--jp-ui-font-color1) !important; }\n",
       "      th.tdhistory30013:last-child { text-align: left !important; }\n",
       "      tbody.tdhistory30013 tr:nth-child(even) { background: rgba(243, 243, 243, 0.75) !important; }\n",
       "      tbody.tdhistory30013 tr:nth-child(odd) { background: var(--jp-ui-inverse-font-color1) !important; }\n",
       "      td.tdhistory30013 { border: 1px solid rgb(207, 207, 207) !important; border-collapse: collapse !important; ; padding: 2px 5px !important; ; font-size: 13px !important; ; text-align: left !important;          white-space: nowrap !important; overflow:hidden !important; text-overflow:ellipsis !important;; }\n",
       "    </style><thead><tr style= \"background: rgba(243, 243, 243, 0.75)\"><th class=\"tdhistory30013\"></th><th class=\"tdhistory30013\">tot_cust_years</th><th class=\"tdhistory30013\">M</th><th class=\"tdhistory30013\">N</th><th class=\"tdhistory30013\">D</th><th class=\"tdhistory30013\">SmirnovPValue</th><th class=\"tdhistory30013\">SmirnovPText</th><th class=\"tdhistory30013\">SmirnovCallP_5E-2</th></tr></thead><tbody class=\"tdhistory30013 resultset-body\"><tr><th class=\"tdhistory30013\" style= \"background: rgba(243, 243, 243, 0.75)\">1</th><td class=\"tdhistory30013\">8</td><td class=\"tdhistory30013\">450</td><td class=\"tdhistory30013\">564</td><td class=\"tdhistory30013\">1.3487542965939632</td><td class=\"tdhistory30013\">0.005</td><td class=\"tdhistory30013\"><0.005</td><td class=\"tdhistory30013\">p</td></tr><tr><th class=\"tdhistory30013\" style= \"background: rgba(243, 243, 243, 0.75)\">2</th><td class=\"tdhistory30013\">11</td><td class=\"tdhistory30013\">158</td><td class=\"tdhistory30013\">216</td><td class=\"tdhistory30013\">1.2858397724698776</td><td class=\"tdhistory30013\">0.005</td><td class=\"tdhistory30013\"><0.005</td><td class=\"tdhistory30013\">p</td></tr><tr><th class=\"tdhistory30013\" style= \"background: rgba(243, 243, 243, 0.75)\">3</th><td class=\"tdhistory30013\">12</td><td class=\"tdhistory30013\">77</td><td class=\"tdhistory30013\">105</td><td class=\"tdhistory30013\">1.3420316985107306</td><td class=\"tdhistory30013\">0.005</td><td class=\"tdhistory30013\"><0.005</td><td class=\"tdhistory30013\">p</td></tr><tr><th class=\"tdhistory30013\" style= \"background: rgba(243, 243, 243, 0.75)\">4</th><td class=\"tdhistory30013\">0</td><td class=\"tdhistory30013\">74</td><td class=\"tdhistory30013\">102</td><td class=\"tdhistory30013\">1.3138514694761927</td><td class=\"tdhistory30013\">0.005</td><td class=\"tdhistory30013\"><0.005</td><td class=\"tdhistory30013\">p</td></tr><tr><th class=\"tdhistory30013\" style= \"background: rgba(243, 243, 243, 0.75)\">5</th><td class=\"tdhistory30013\">3</td><td class=\"tdhistory30013\">495</td><td class=\"tdhistory30013\">665</td><td class=\"tdhistory30013\">1.374792997808136</td><td class=\"tdhistory30013\">0.005</td><td class=\"tdhistory30013\"><0.005</td><td class=\"tdhistory30013\">p</td></tr><tr><th class=\"tdhistory30013\" style= \"background: rgba(243, 243, 243, 0.75)\">6</th><td class=\"tdhistory30013\">9</td><td class=\"tdhistory30013\">374</td><td class=\"tdhistory30013\">471</td><td class=\"tdhistory30013\">1.3686535531467623</td><td class=\"tdhistory30013\">0.005</td><td class=\"tdhistory30013\"><0.005</td><td class=\"tdhistory30013\">p</td></tr><tr><th class=\"tdhistory30013\" style= \"background: rgba(243, 243, 243, 0.75)\">7</th><td class=\"tdhistory30013\">4</td><td class=\"tdhistory30013\">503</td><td class=\"tdhistory30013\">634</td><td class=\"tdhistory30013\">1.3763702848743815</td><td class=\"tdhistory30013\">0.005</td><td class=\"tdhistory30013\"><0.005</td><td class=\"tdhistory30013\">p</td></tr><tr><th class=\"tdhistory30013\" style= \"background: rgba(243, 243, 243, 0.75)\">8</th><td class=\"tdhistory30013\">14</td><td class=\"tdhistory30013\">16</td><td class=\"tdhistory30013\">23</td><td class=\"tdhistory30013\">1.371671115432294</td><td class=\"tdhistory30013\">0.000101</td><td class=\"tdhistory30013\"></td><td class=\"tdhistory30013\">p</td></tr><tr><th class=\"tdhistory30013\" style= \"background: rgba(243, 243, 243, 0.75)\">9</th><td class=\"tdhistory30013\">1</td><td class=\"tdhistory30013\">226</td><td class=\"tdhistory30013\">300</td><td class=\"tdhistory30013\">1.3719868864800961</td><td class=\"tdhistory30013\">0.005</td><td class=\"tdhistory30013\"><0.005</td><td class=\"tdhistory30013\">p</td></tr><tr><th class=\"tdhistory30013\" style= \"background: rgba(243, 243, 243, 0.75)\">10</th><td class=\"tdhistory30013\">10</td><td class=\"tdhistory30013\">263</td><td class=\"tdhistory30013\">350</td><td class=\"tdhistory30013\">1.3713273499382055</td><td class=\"tdhistory30013\">0.005</td><td class=\"tdhistory30013\"><0.005</td><td class=\"tdhistory30013\">p</td></tr><tr><th class=\"tdhistory30013\" style= \"background: rgba(243, 243, 243, 0.75)\">11</th><td class=\"tdhistory30013\">7</td><td class=\"tdhistory30013\">504</td><td class=\"tdhistory30013\">614</td><td class=\"tdhistory30013\">1.3503829610890765</td><td class=\"tdhistory30013\">0.005</td><td class=\"tdhistory30013\"><0.005</td><td class=\"tdhistory30013\">p</td></tr><tr><th class=\"tdhistory30013\" style= \"background: rgba(243, 243, 243, 0.75)\">12</th><td class=\"tdhistory30013\">6</td><td class=\"tdhistory30013\">533</td><td class=\"tdhistory30013\">618</td><td class=\"tdhistory30013\">1.3732892384096402</td><td class=\"tdhistory30013\">0.005</td><td class=\"tdhistory30013\"><0.005</td><td class=\"tdhistory30013\">p</td></tr><tr><th class=\"tdhistory30013\" style= \"background: rgba(243, 243, 243, 0.75)\">13</th><td class=\"tdhistory30013\">2</td><td class=\"tdhistory30013\">378</td><td class=\"tdhistory30013\">510</td><td class=\"tdhistory30013\">1.3737247822288783</td><td class=\"tdhistory30013\">0.005</td><td class=\"tdhistory30013\"><0.005</td><td class=\"tdhistory30013\">p</td></tr><tr><th class=\"tdhistory30013\" style= \"background: rgba(243, 243, 243, 0.75)\">14</th><td class=\"tdhistory30013\">13</td><td class=\"tdhistory30013\">19</td><td class=\"tdhistory30013\">26</td><td class=\"tdhistory30013\">1.347643185482852</td><td class=\"tdhistory30013\">0.00011</td><td class=\"tdhistory30013\"></td><td class=\"tdhistory30013\">p</td></tr><tr><th class=\"tdhistory30013\" style= \"background: rgba(243, 243, 243, 0.75)\">15</th><td class=\"tdhistory30013\">5</td><td class=\"tdhistory30013\">536</td><td class=\"tdhistory30013\">654</td><td class=\"tdhistory30013\">1.3735159384678646</td><td class=\"tdhistory30013\">0.005</td><td class=\"tdhistory30013\"><0.005</td><td class=\"tdhistory30013\">p</td></tr></tbody></table></div>"
      ]
     },
     "execution_count": 27,
     "metadata": {
      "application/vnd.teradata.resultset": "{\"resultSetID\":\"/home/jovyan/JupyterLabRoot/Teradata/Resultsets/2022.09.16_21.02.05.211_UTC\",\"historyID\":329,\"chunkID\":\"00001\",\"sessionid\":\"\",\"portnum\":\"\",\"dockermode\":\"docker\",\"totalRowCount\":15,\"chunkCount\":0,\"rowLimit\":0,\"columnMetadata\":[{\"columnName\":\"tot_cust_years\",\"columnTypeName\":\"INTEGER\"},{\"columnNumber\":1,\"columnName\":\"M\",\"columnTypeName\":\"FLOAT\"},{\"columnNumber\":2,\"columnName\":\"N\",\"columnTypeName\":\"FLOAT\"},{\"columnNumber\":3,\"columnName\":\"D\",\"columnTypeName\":\"FLOAT\"},{\"columnNumber\":4,\"columnName\":\"SmirnovPValue\",\"columnTypeName\":\"FLOAT\"},{\"columnNumber\":5,\"columnName\":\"SmirnovPText\",\"columnTypeName\":\"VARCHAR\",\"length\":6,\"scale\":6},{\"columnNumber\":6,\"columnName\":\"SmirnovCallP_5E-2\",\"columnTypeName\":\"VARCHAR\",\"length\":1,\"scale\":1}]}"
     },
     "output_type": "execute_result"
    }
   ],
   "source": [
    "call ${VALDB}.td_analyze('KSTest', \n",
    "                         'database=${QLID};\n",
    "                          tablename=VAL_ADS;\n",
    "                          columnofinterest=tot_income;\n",
    "                          columns=female_ind;\n",
    "                          teststyle=S;\n",
    "                          groupby=tot_cust_years;\n",
    "                          statsdatabase=${VALDB};');"
   ]
  },
  {
   "cell_type": "markdown",
   "metadata": {},
   "source": [
    "6.  Kolmogorov-Smirnov test that stores its results in an output table val_ks_out1 and does not contain a group-by option."
   ]
  },
  {
   "cell_type": "code",
   "execution_count": 28,
   "metadata": {},
   "outputs": [
    {
     "data": {
      "text/plain": [
       "Success: 0 rows affected"
      ]
     },
     "execution_count": 28,
     "metadata": {
      "application/vnd.teradata.resultset": ""
     },
     "output_type": "execute_result"
    }
   ],
   "source": [
    "call ${VALDB}.td_analyze('KSTest', \n",
    "                         'database=${QLID};\n",
    "                          tablename=VAL_ADS;\n",
    "                          columnofinterest=tot_income;\n",
    "                          teststyle=KS; \n",
    "                          statsdatabase=${VALDB};\n",
    "                          outputdatabase=${QLID};\n",
    "                          outputtablename=_val_ks_out1');"
   ]
  },
  {
   "cell_type": "code",
   "execution_count": 29,
   "metadata": {},
   "outputs": [
    {
     "data": {
      "application/vnd.teradata.resultset": "\"Klm\",\"M\",\"KlmPValue\",\"KlmPText\",\"KlmCallP_5E-2\"\n\"0.15818501100000001\",\"10458\",\"0.01\",\"<0.01\",\"p\"",
      "text/html": [
       "<div class = \"td-resultset-table-div\" style = \"max-height: 100%; overflow-y: auto\">\n",
       "      <table class=\"tdhistory556809\"><style>\n",
       "      table.tdhistory556809 { display: block !important; min-height: 105px !important; overflow: auto !important; height: 105px !important; width: 100% !important; border: 1px solid rgb(207, 207, 207) !important; border-collapse: collapse !important; ; color: var(--jp-ui-font-color1) !important; }\n",
       "      th.tdhistory556809 { border: 1px solid rgb(198,198,198) !important; border-collapse: collapse !important; ; padding: 2px 5px !important; ; font-size: 13px !important; ; text-align: center !important; white-space: normal !important; color: var(--jp-ui-font-color1) !important; }\n",
       "      th.tdhistory556809:last-child { text-align: left !important; }\n",
       "      tbody.tdhistory556809 tr:nth-child(even) { background: rgba(243, 243, 243, 0.75) !important; }\n",
       "      tbody.tdhistory556809 tr:nth-child(odd) { background: var(--jp-ui-inverse-font-color1) !important; }\n",
       "      td.tdhistory556809 { border: 1px solid rgb(207, 207, 207) !important; border-collapse: collapse !important; ; padding: 2px 5px !important; ; font-size: 13px !important; ; text-align: left !important;          white-space: nowrap !important; overflow:hidden !important; text-overflow:ellipsis !important;; }\n",
       "    </style><thead><tr style= \"background: rgba(243, 243, 243, 0.75)\"><th class=\"tdhistory556809\"></th><th class=\"tdhistory556809\">Klm</th><th class=\"tdhistory556809\">M</th><th class=\"tdhistory556809\">KlmPValue</th><th class=\"tdhistory556809\">KlmPText</th><th class=\"tdhistory556809\">KlmCallP_5E-2</th></tr></thead><tbody class=\"tdhistory556809 resultset-body\"><tr><th class=\"tdhistory556809\" style= \"background: rgba(243, 243, 243, 0.75)\">1</th><td class=\"tdhistory556809\">0.15818501100000001</td><td class=\"tdhistory556809\">10458</td><td class=\"tdhistory556809\">0.01</td><td class=\"tdhistory556809\"><0.01</td><td class=\"tdhistory556809\">p</td></tr></tbody></table></div>"
      ]
     },
     "execution_count": 29,
     "metadata": {
      "application/vnd.teradata.resultset": "{\"resultSetID\":\"/home/jovyan/JupyterLabRoot/Teradata/Resultsets/2022.09.16_21.02.23.504_UTC\",\"historyID\":331,\"chunkID\":\"00001\",\"sessionid\":\"\",\"portnum\":\"\",\"dockermode\":\"docker\",\"totalRowCount\":1,\"chunkCount\":0,\"rowLimit\":0,\"columnMetadata\":[{\"columnName\":\"Klm\",\"columnTypeName\":\"FLOAT\"},{\"columnNumber\":1,\"columnName\":\"M\",\"columnTypeName\":\"FLOAT\"},{\"columnNumber\":2,\"columnName\":\"KlmPValue\",\"columnTypeName\":\"FLOAT\"},{\"columnNumber\":3,\"columnName\":\"KlmPText\",\"columnTypeName\":\"VARCHAR\",\"length\":5,\"scale\":5},{\"columnNumber\":4,\"columnName\":\"KlmCallP_5E-2\",\"columnTypeName\":\"VARCHAR\",\"length\":1,\"scale\":1}]}"
     },
     "output_type": "execute_result"
    }
   ],
   "source": [
    "SELECT * FROM ${QLID}._val_ks_out1;"
   ]
  },
  {
   "cell_type": "markdown",
   "metadata": {},
   "source": [
    "---"
   ]
  },
  {
   "cell_type": "markdown",
   "metadata": {},
   "source": [
    "### Parametric Tests\n",
    "\n",
    "#### Purpose\n",
    "\n",
    "Parametric tests make assumptions about the data, such as the observations being normally distributed.  This can be verified with a test of normality prior to executing a parametric test.  Both T-Tests and F-Tests are provided.  T-Tests may be either paired or unpaired, while the unpaired T-Tests may be with or without an indicator variable.  \n",
    "\n",
    "F-Tests may be 1-way, 2-way or 3-way.  2-way tests may have equal or unequal cell counts (distinct column values), while the 3-way test must have equal cell counts.  A 1-way test has 1 independent input column, a 2-way test has 2 independent columns and a 3-way test has 3 independent columns in addition to a dependent “column of interest”.\n",
    "\n",
    "#### Required Parameters\n",
    "\n",
    "- **database**\n",
    "\n",
    "    The database containing the table to analyze.\n",
    "\n",
    "- **parametrictest**\n",
    "\n",
    "    The parametrictest parameter:\n",
    "    - Is required\n",
    "    - Must be the first parameter\n",
    "    - Is always enclosed in single quotes\n",
    "\n",
    "\n",
    "- **tablename**\n",
    "\n",
    "    The table containing the columns to analyze.  It must reside in the database indicated by the database parameter.\n",
    "\n",
    "#### Optional Parameters\n",
    "\n",
    "- **columnofinterest**\n",
    "\n",
    "    The column representing the dependent variable in an F-Test.\n",
    "\n",
    "- **columns**\n",
    "\n",
    "    The columns representing independent variables to be analyzed in a F-Test N-Way with Equal Cell Counts analysis.  There may be 1, 2 or 3 columns listed in this parameter.  If 2 or 3 columns, the number of distinct values for each combination of column values should be the same.\n",
    "\n",
    "- **equalvariance**\n",
    "\n",
    "    An option available with the T-Test where, if true, the variance of the two samples (columns) is assumed to be equal.  The default assumption is that the variances are not equal.\n",
    "\n",
    "- **fallback**\n",
    "\n",
    "    When true, FALLBACK is requested as an attribute of the created output results table.  When false or parameter not specified, the FALLBACK attribute is not included in the create table SQL.\n",
    "\n",
    "- **firstcolumn**\n",
    "\n",
    "    For a T-Test, the column representing the first variable to analyze. It must reside in the table indicated by the tablename parameter.  For an F-Test, the column representing the first independent variable in the analysis.\n",
    "\n",
    "- **firstcolumnvalues**\n",
    "\n",
    "    This is a required option for a 2-way F-Test with Unequal Cell Counts.  It is a list of the firstcolumn values to be included in the analysis.\n",
    "\n",
    "- **gensqlonly**\n",
    "\n",
    "    For a T-Test analysis, when gensqlonly is true, the SQL for the requested function is returned as a result set but not run. When not specified or set to false, the SQL is run but not returned.  This option is not available for an F-Test analysis.\n",
    "\n",
    "- **groupby**\n",
    "\n",
    "    One or more group-by columns may optionally be specified so that a separate result is produced for each value or combination of values in the specified column or columns.\n",
    "\n",
    "- **multiset**\n",
    "\n",
    "    When true, MULTISET is requested as an attribute of the created output results table.  When false or parameter not specified, the MULTISET attribute is not included in the create table SQL.\n",
    "\n",
    "- **outputdatabase**\n",
    "\n",
    "    Specifies the name of the database to contain the analysis results table.\n",
    "\n",
    "- **outputtablename**\n",
    "\n",
    "    Specifies the name of the table to store the analysis results. If not supplied, the results are returned as a result set.\n",
    "\n",
    "- **overwrite**\n",
    "\n",
    "    When overwrite is set to true or not set, the output table is dropped before creating a new one.\n",
    "\n",
    "- **paired**\n",
    "\n",
    "    An option of the T-Test, which when set to true, indicates that the first and second column values are matched with each other and the mean difference is analyzed.  The paired option defaults to false.\n",
    "\n",
    "- **secondcolumn**\n",
    "\n",
    "    For a T-Test, the column representing the second variable to analyze. It must reside in the table indicated by the tablename parameter.  If the withindicator option is set to true, the second column is used to define two analysis categories, one where the second column is negative or zero, and another where the second column is positive.  For an F-Test, the column representing the second independent variable in the analysis.\n",
    "\n",
    "- **secondcolumnvalues**\n",
    "\n",
    "    This is a required option for a 2-way F-Test with Unequal Cell Counts.  It is a list of the secondcolumn values to be included in the analysis.\n",
    "\n",
    "- **statsdatabase**\n",
    "\n",
    "    This is the database where the statistical test metadata tables are installed.  If not specified, the source database is searched for these metadata tables.\n",
    "\n",
    "- **teststyle**\n",
    "\n",
    "    The valid values are t, fnway and f2way, as outlined below. The default is t for T-Test.\n",
    "    \n",
    "    - T-Test paired, unpaired or unpaired with indicator variable (second column)\n",
    "    - F-Test N-Way with Equal Cell Counts (1, 2 or 3 columns with same number of distinct values)\n",
    "    - F-Test 2-Way with Unequal Cell Counts (2 columns with possibly different numbers of distinct values)\n",
    "\n",
    "\n",
    "- **thresholdprobability**\n",
    "\n",
    "    You may optionally change the threshold probability or allow it to default to 0.05.  Below this  \"alpha\" probability the null hypothesis is rejected.\n",
    "\n",
    "- **withindicator**\n",
    "\n",
    "    This option may be used with an un-paired T-Test, that is when teststyle=t and paired=false.  If the withindicator option is set to true, the second column is used to indicate there are two analysis categories, one for the case where the second column is negative or zero, and another when the second column is positive."
   ]
  },
  {
   "cell_type": "markdown",
   "metadata": {},
   "source": [
    "1.  T-Test producing an unpersisted result set with default values for teststyle (t) and  thresholdprobabilty (.05).  "
   ]
  },
  {
   "cell_type": "code",
   "execution_count": 30,
   "metadata": {},
   "outputs": [
    {
     "data": {
      "text/plain": [
       "Success: 0 rows affected"
      ]
     },
     "execution_count": 30,
     "metadata": {
      "application/vnd.teradata.resultset": ""
     },
     "output_type": "execute_result"
    },
    {
     "ename": "WARNING",
     "evalue": "[Teradata Database] [Warning 3212] The stored procedure returned one or more result sets.",
     "output_type": "error",
     "traceback": [
      "[Teradata Database] [Warning 3212] The stored procedure returned one or more result sets."
     ]
    },
    {
     "data": {
      "application/vnd.teradata.resultset": "\"tot_age\",\"female_ind\",\"D_F\",\"TTestPValue\",\"T\",\"TTestCallP_0.05\"\n\"85\",\"1\",\"18\",\"0.4807706\",\"-0.715463172636989\",\"a\"\n\"93\",\"0\",\"3\",\"0\",\"\",\"\"\n\"77\",\"0\",\"7\",\"0.2252156\",\"1.3272042858038389\",\"a\"\n\"76\",\"1\",\"24\",\"0.7818767\",\"0.27575427059614926\",\"a\"\n\"72\",\"1\",\"28\",\"0.2042013\",\"-1.2957723582343272\",\"a\"\n\"93\",\"1\",\"7\",\"0.0856193\",\"2.00449476653439\",\"a\"\n\"64\",\"1\",\"46\",\"0.0063499\",\"-2.8563487358795143\",\"n\"\n\"50\",\"1\",\"107\",\"0.0016447\",\"-3.2344818472272943\",\"n\"\n\"47\",\"0\",\"54\",\"0.0053865\",\"-2.9000459446649285\",\"n\"\n\"89\",\"1\",\"15\",\"0.0142988\",\"2.7683360374460215\",\"p\"\n\"72\",\"0\",\"20\",\"0.9921204\",\"-0.007635559294069883\",\"a\"\n\"38\",\"0\",\"72\",\"0.449736\",\"-0.7618334417633449\",\"a\"\n\"48\",\"0\",\"72\",\"0.0019244\",\"-3.2229392296515877\",\"n\"\n\"76\",\"0\",\"16\",\"0.2834034\",\"1.1137590628201983\",\"a\"\n\"26\",\"0\",\"39\",\"0.002657\",\"-3.2075616900465023\",\"n\"\n\"66\",\"1\",\"78\",\"0.0004723\",\"-3.6466911082426523\",\"n\"\n\"79\",\"0\",\"20\",\"0.4798555\",\"-0.721590349507282\",\"a\"\n\"52\",\"1\",\"103\",\"0.0657389\",\"-1.8588907198839515\",\"a\"\n\"73\",\"0\",\"28\",\"0.3502408\",\"0.9479074683140468\",\"a\"\n\"42\",\"1\",\"117\",\"0.00033\",\"-3.701124936484421\",\"n\"\n\"35\",\"1\",\"107\",\"0.9047082\",\"0.11921172925079085\",\"a\"\n\"89\",\"0\",\"13\",\"0.1763092\",\"-1.4332867450865143\",\"a\"\n\"33\",\"0\",\"79\",\"0.0511857\",\"-1.9785619285502432\",\"a\"\n\"88\",\"0\",\"16\",\"0.015772\",\"-2.704698849315726\",\"n\"\n\"45\",\"0\",\"68\",\"0.0001292\",\"-4.059830394523732\",\"n\"\n\"43\",\"1\",\"105\",\"0.0020615\",\"-3.1592821796103485\",\"n\"\n\"14\",\"1\",\"51\",\"0.0005456\",\"3.6931882629121917\",\"p\"\n\"90\",\"1\",\"9\",\"0.1555528\",\"1.545231261242011\",\"a\"\n\"10\",\"1\",\"5\",\"0.1100709\",\"1.9429580983579038\",\"a\"\n\"23\",\"0\",\"69\",\"0.0116994\",\"-2.590484787457626\",\"n\"\n\"44\",\"1\",\"90\",\"0.0003708\",\"-3.7033331405109133\",\"n\"\n\"77\",\"1\",\"40\",\"0.0221685\",\"-2.384227212864992\",\"n\"\n\"39\",\"1\",\"94\",\"0.0037795\",\"-2.9667186633594596\",\"n\"\n\"80\",\"0\",\"21\",\"0.415875\",\"0.8330076821034003\",\"a\"\n\"65\",\"1\",\"72\",\"0.0365898\",\"-2.1310904436981697\",\"n\"\n\"91\",\"0\",\"4\",\"0.2206629\",\"-1.4534208494891652\",\"a\"\n\"61\",\"1\",\"86\",\"0.0250818\",\"2.2760531913263917\",\"p\"\n\"33\",\"1\",\"93\",\"0.0402766\",\"-2.078263092455552\",\"n\"\n\"94\",\"1\",\"7\",\"0.1132148\",\"1.8135209270199906\",\"a\"\n\"34\",\"1\",\"97\",\"0.05169\",\"-1.9688466748543199\",\"a\"\n\"71\",\"0\",\"40\",\"0.7961975\",\"-0.2641566410222367\",\"a\"\n\"45\",\"1\",\"104\",\"0.0438849\",\"-2.0436408668962054\",\"n\"\n\"49\",\"1\",\"95\",\"0.0001084\",\"-4.035018616442392\",\"n\"\n\"37\",\"0\",\"89\",\"0.5768863\",\"0.5599533860689607\",\"a\"\n\"58\",\"1\",\"98\",\"0.4981077\",\"-0.6796772283369474\",\"a\"\n\"75\",\"0\",\"27\",\"0.1025436\",\"1.6862479715409262\",\"a\"\n\"57\",\"1\",\"94\",\"0.9443424\",\"0.06664211026909829\",\"a\"\n\"30\",\"1\",\"85\",\"0.5974937\",\"-0.53344455607459\",\"a\"\n\"29\",\"1\",\"65\",\"0.7803667\",\"-0.27816462545128795\",\"a\"\n\"63\",\"0\",\"52\",\"0.0004896\",\"-3.7172265649750513\",\"n\"\n\"74\",\"1\",\"39\",\"0.0004152\",\"-3.862600306934728\",\"n\"\n\"57\",\"0\",\"106\",\"0.0109467\",\"-2.5913883798643633\",\"n\"\n\"36\",\"0\",\"94\",\"0.3599277\",\"0.9189635642254149\",\"a\"\n\"54\",\"1\",\"119\",\"0.0477776\",\"-2.0041899107427836\",\"n\"\n\"54\",\"0\",\"50\",\"0.008058\",\"-2.7643781497302573\",\"n\"\n\"50\",\"0\",\"49\",\"0.0006558\",\"-3.6409383276073912\",\"n\"\n\"17\",\"0\",\"85\",\"0.0125657\",\"2.5468209355925406\",\"p\"\n\"62\",\"0\",\"79\",\"0.0680527\",\"-1.8458946020700597\",\"a\"\n\"26\",\"1\",\"53\",\"0.3170842\",\"-1.0140118328532208\",\"a\"\n\"28\",\"0\",\"43\",\"0.01982\",\"-2.4238092425595226\",\"n\"\n\"61\",\"0\",\"54\",\"0.1420424\",\"-1.4880552669395877\",\"a\"\n\"48\",\"1\",\"92\",\"0.0008762\",\"-3.4370876087795286\",\"n\"\n\"24\",\"0\",\"64\",\"0.654231\",\"0.44944213802776795\",\"a\"\n\"56\",\"0\",\"79\",\"0.1135904\",\"-1.6016397040542534\",\"a\"\n\"73\",\"1\",\"33\",\"0.0086889\",\"-2.789693584291123\",\"n\"\n\"36\",\"1\",\"100\",\"0.0025139\",\"-3.1010102951441594\",\"n\"\n\"9\",\"1\",\"7\",\"0.0011862\",\"5.246179206391678\",\"p\"\n\"78\",\"0\",\"22\",\"0.1696243\",\"1.4246952271401183\",\"a\"\n\"90\",\"0\",\"6\",\"0.3559177\",\"-0.9999999999999999\",\"a\"\n\"69\",\"0\",\"62\",\"0.7727839\",\"0.28651538577973673\",\"a\"\n\"27\",\"1\",\"69\",\"0.0431725\",\"-2.056515593385942\",\"n\"\n\"29\",\"0\",\"51\",\"0.462693\",\"-0.7355089630973273\",\"a\"\n\"84\",\"0\",\"31\",\"0.0006176\",\"-3.811404205195729\",\"n\"\n\"83\",\"1\",\"19\",\"0.1217113\",\"-1.6174953200682674\",\"a\"\n\"13\",\"0\",\"27\",\"0.0156412\",\"2.5810498299970583\",\"p\"\n\"87\",\"0\",\"21\",\"0.1384942\",\"-1.5419105988818675\",\"a\"\n\"66\",\"0\",\"46\",\"0.0032988\",\"-3.095957668340024\",\"n\"\n\"64\",\"0\",\"58\",\"0.0182145\",\"-2.426959140037223\",\"n\"\n\"12\",\"0\",\"8\",\"0.2833584\",\"-1.1492921641212326\",\"a\"\n\"10\",\"0\",\"8\",\"0.0363709\",\"2.5117824050061412\",\"p\"\n\"39\",\"0\",\"73\",\"0.0915134\",\"-1.7050522939133508\",\"a\"\n\"9\",\"0\",\"6\",\"0.0663471\",\"2.240383083370425\",\"a\"\n\"34\",\"0\",\"76\",\"0.4204692\",\"0.811250825489578\",\"a\"\n\"46\",\"1\",\"113\",\"0.0011735\",\"-3.3276825944952346\",\"n\"\n\"80\",\"1\",\"27\",\"0.0461684\",\"-2.091977548190066\",\"n\"\n\"28\",\"1\",\"71\",\"0.0366385\",\"-2.129852920428456\",\"n\"\n\"19\",\"0\",\"113\",\"0.0626833\",\"1.8819296530525789\",\"a\"\n\"40\",\"1\",\"97\",\"0.0287475\",\"-2.220837961070849\",\"n\"\n\"37\",\"1\",\"91\",\"0.0134787\",\"-2.515855840770415\",\"n\"\n\"32\",\"0\",\"67\",\"0.4094865\",\"0.8253290126068602\",\"a\"\n\"56\",\"1\",\"100\",\"0.4732045\",\"0.7175552279050323\",\"a\"\n\"31\",\"1\",\"88\",\"0.6183231\",\"-0.5021525435049807\",\"a\"\n\"59\",\"1\",\"81\",\"0.6325211\",\"-0.4799533198668136\",\"a\"\n\"27\",\"0\",\"35\",\"0.0218499\",\"-2.398554722335631\",\"n\"\n\"40\",\"0\",\"93\",\"0.0102693\",\"-2.6213267496702675\",\"n\"\n\"31\",\"0\",\"71\",\"0.0107457\",\"-2.6194798084884576\",\"n\"\n\"75\",\"1\",\"33\",\"0.1959187\",\"1.315635133067727\",\"a\"\n\"67\",\"0\",\"46\",\"0.0328687\",\"-2.198412250198925\",\"n\"\n\"18\",\"0\",\"113\",\"0.1101879\",\"1.60879009923987\",\"a\"\n\"12\",\"1\",\"9\",\"0.0600366\",\"-2.1451698881663877\",\"a\"\n\"15\",\"0\",\"86\",\"0.0002188\",\"3.864249582931809\",\"p\"\n\"92\",\"0\",\"3\",\"0.0260825\",\"-4.1093444064195035\",\"n\"\n\"68\",\"0\",\"41\",\"0.0075597\",\"-2.8132333558681166\",\"n\"\n\"22\",\"1\",\"88\",\"0.1271486\",\"-1.5419965213272224\",\"a\"\n\"74\",\"0\",\"42\",\"0.0728423\",\"1.8431313461350431\",\"a\"\n\"68\",\"1\",\"47\",\"0.0002373\",\"-3.9788328948124123\",\"n\"\n\"16\",\"1\",\"107\",\"0\",\"4.639713849368195\",\"p\"\n\"52\",\"0\",\"57\",\"0.1988335\",\"-1.2986200226539708\",\"a\"\n\"84\",\"1\",\"23\",\"0.0116674\",\"-2.741240236148122\",\"n\"\n\"16\",\"0\",\"90\",\"0.0029166\",\"3.060064737034293\",\"p\"\n\"23\",\"1\",\"72\",\"0\",\"-4.807836962330953\",\"n\"\n\"63\",\"1\",\"58\",\"0.0480107\",\"-2.0188132267581684\",\"n\"\n\"17\",\"1\",\"116\",\"0.0117522\",\"2.5648865894179176\",\"p\"\n\"62\",\"1\",\"70\",\"0.0745882\",\"-1.8134538703366876\",\"a\"\n\"20\",\"1\",\"144\",\"0\",\"5.253217061314352\",\"p\"\n\"82\",\"1\",\"34\",\"0.0005562\",\"-3.811663137462193\",\"n\"\n\"38\",\"1\",\"101\",\"0.096048\",\"-1.6753890959647324\",\"a\"\n\"65\",\"0\",\"56\",\"0.0667144\",\"-1.870800636670386\",\"a\"\n\"55\",\"1\",\"124\",\"0\",\"-4.127593377381934\",\"n\"\n\"82\",\"0\",\"23\",\"0.0054189\",\"-3.0725105303481928\",\"n\"\n\"53\",\"0\",\"79\",\"0.0045597\",\"-2.9247071997293705\",\"n\"\n\"79\",\"1\",\"34\",\"0.1144719\",\"-1.6237812480962597\",\"a\"\n\"67\",\"1\",\"55\",\"0\",\"-4.404684295372503\",\"n\"\n\"91\",\"1\",\"5\",\"0.1939037\",\"1.498396239698223\",\"a\"\n\"41\",\"0\",\"87\",\"0.4673513\",\"0.7284430080051983\",\"a\"\n\"69\",\"1\",\"47\",\"0.0009419\",\"-3.5274152408618327\",\"n\"\n\"47\",\"1\",\"99\",\"0\",\"-4.731251829098891\",\"n\"\n\"87\",\"1\",\"8\",\"0.5973357\",\"-0.5542183588683113\",\"a\"\n\"24\",\"1\",\"71\",\"0.0275495\",\"-2.251117099673115\",\"n\"\n\"22\",\"0\",\"57\",\"0.7127537\",\"-0.37155226198840857\",\"a\"\n\"51\",\"0\",\"87\",\"0\",\"-4.661077166011303\",\"n\"\n\"30\",\"0\",\"57\",\"0.134039\",\"-1.523189487616873\",\"a\"\n\"71\",\"1\",\"62\",\"0.0001833\",\"-3.9795200511271416\",\"n\"\n\"78\",\"1\",\"29\",\"0.0049756\",\"-3.042291228131736\",\"n\"\n\"86\",\"0\",\"15\",\"0.0164588\",\"-2.6984705704142558\",\"n\"\n\"44\",\"0\",\"88\",\"0.002372\",\"-3.1273574324187483\",\"n\"\n\"86\",\"1\",\"7\",\"0.1368472\",\"-1.6810328952966413\",\"a\"\n\"14\",\"0\",\"57\",\"0.0112496\",\"2.6246422071530566\",\"p\"\n\"58\",\"0\",\"93\",\"0.0541878\",\"-1.9456766189714712\",\"a\"\n\"49\",\"0\",\"73\",\"0.0001023\",\"-4.107857878130483\",\"n\"\n\"32\",\"1\",\"90\",\"0.24509\",\"-1.1709752915228597\",\"a\"\n\"25\",\"0\",\"32\",\"0.3854205\",\"-0.8799985807528693\",\"a\"\n\"13\",\"1\",\"37\",\"0.0091662\",\"2.745763970817959\",\"p\"\n\"25\",\"1\",\"41\",\"0.0948247\",\"-1.7115806209715698\",\"a\"\n\"70\",\"0\",\"45\",\"0.5189969\",\"-0.6513020306745494\",\"a\"\n\"18\",\"1\",\"146\",\"0\",\"3.88007857184668\",\"p\"\n\"21\",\"0\",\"70\",\"0.2265592\",\"-1.2185733241114733\",\"a\"\n\"81\",\"0\",\"15\",\"0.0205029\",\"-2.589130468293594\",\"n\"\n\"51\",\"1\",\"125\",\"0\",\"-4.715111357900299\",\"n\"\n\"88\",\"1\",\"13\",\"0.2368918\",\"-1.2411936748771681\",\"a\"\n\"35\",\"0\",\"83\",\"0.0003375\",\"-3.7394635368194225\",\"n\"\n\"70\",\"1\",\"61\",\"0\",\"-5.373304366118829\",\"n\"\n\"11\",\"0\",\"12\",\"0.0335186\",\"2.3986400290671694\",\"p\"\n\"81\",\"1\",\"21\",\"0.1646098\",\"-1.4374024402178875\",\"a\"\n\"21\",\"1\",\"80\",\"0\",\"-4.494000431713699\",\"n\"\n\"85\",\"0\",\"23\",\"0.0647381\",\"-1.939644842896574\",\"a\"\n\"60\",\"1\",\"96\",\"0.0010157\",\"-3.394647945426487\",\"n\"\n\"42\",\"0\",\"67\",\"0\",\"-4.211796282429227\",\"n\"\n\"11\",\"1\",\"18\",\"0.0061793\",\"3.104019356946221\",\"p\"\n\"83\",\"0\",\"19\",\"0.0446447\",\"-2.1457788047169233\",\"n\"\n\"60\",\"0\",\"92\",\"0\",\"-4.258888739610543\",\"n\"\n\"43\",\"0\",\"63\",\"0.035401\",\"-2.1475904037515345\",\"n\"\n\"55\",\"0\",\"97\",\"0\",\"-5.784851346128433\",\"n\"\n\"41\",\"1\",\"125\",\"0\",\"-1.5361087497978672\",\"n\"\n\"46\",\"0\",\"85\",\"0\",\"-4.332325340125757\",\"n\"\n\"53\",\"1\",\"105\",\"0\",\"-4.527210354661868\",\"n\"\n\"59\",\"0\",\"80\",\"0\",\"-4.809246673642799\",\"n\"\n\"19\",\"1\",\"125\",\"0\",\"1.7623795152739916\",\"p\"\n\"15\",\"1\",\"100\",\"0\",\"4.911359364701502\",\"p\"\n\"20\",\"0\",\"102\",\"0\",\"4.3080863466550845\",\"p\"",
      "text/html": [
       "<div class = \"td-resultset-table-div\" style = \"max-height: 100%; overflow-y: auto\">\n",
       "      <table class=\"tdhistory258550\"><style>\n",
       "      table.tdhistory258550 { display: block !important; min-height: 588px !important; overflow: auto !important; height: 588px !important; width: 100% !important; border: 1px solid rgb(207, 207, 207) !important; border-collapse: collapse !important; ; color: var(--jp-ui-font-color1) !important; }\n",
       "      th.tdhistory258550 { border: 1px solid rgb(198,198,198) !important; border-collapse: collapse !important; ; padding: 2px 5px !important; ; font-size: 13px !important; ; text-align: center !important; white-space: normal !important; color: var(--jp-ui-font-color1) !important; }\n",
       "      th.tdhistory258550:last-child { text-align: left !important; }\n",
       "      tbody.tdhistory258550 tr:nth-child(even) { background: rgba(243, 243, 243, 0.75) !important; }\n",
       "      tbody.tdhistory258550 tr:nth-child(odd) { background: var(--jp-ui-inverse-font-color1) !important; }\n",
       "      td.tdhistory258550 { border: 1px solid rgb(207, 207, 207) !important; border-collapse: collapse !important; ; padding: 2px 5px !important; ; font-size: 13px !important; ; text-align: left !important;          white-space: nowrap !important; overflow:hidden !important; text-overflow:ellipsis !important;; }\n",
       "    </style><thead><tr style= \"background: rgba(243, 243, 243, 0.75)\"><th class=\"tdhistory258550\"></th><th class=\"tdhistory258550\">tot_age</th><th class=\"tdhistory258550\">female_ind</th><th class=\"tdhistory258550\">D_F</th><th class=\"tdhistory258550\">TTestPValue</th><th class=\"tdhistory258550\">T</th><th class=\"tdhistory258550\">TTestCallP_0.05</th></tr></thead><tbody class=\"tdhistory258550 resultset-body\"><tr><th class=\"tdhistory258550\" style= \"background: rgba(243, 243, 243, 0.75)\">1</th><td class=\"tdhistory258550\">85</td><td class=\"tdhistory258550\">1</td><td class=\"tdhistory258550\">18</td><td class=\"tdhistory258550\">0.4807706</td><td class=\"tdhistory258550\">-0.715463172636989</td><td class=\"tdhistory258550\">a</td></tr><tr><th class=\"tdhistory258550\" style= \"background: rgba(243, 243, 243, 0.75)\">2</th><td class=\"tdhistory258550\">93</td><td class=\"tdhistory258550\">0</td><td class=\"tdhistory258550\">3</td><td class=\"tdhistory258550\">0</td><td class=\"tdhistory258550\"></td><td class=\"tdhistory258550\"></td></tr><tr><th class=\"tdhistory258550\" style= \"background: rgba(243, 243, 243, 0.75)\">3</th><td class=\"tdhistory258550\">77</td><td class=\"tdhistory258550\">0</td><td class=\"tdhistory258550\">7</td><td class=\"tdhistory258550\">0.2252156</td><td class=\"tdhistory258550\">1.3272042858038389</td><td class=\"tdhistory258550\">a</td></tr><tr><th class=\"tdhistory258550\" style= \"background: rgba(243, 243, 243, 0.75)\">4</th><td class=\"tdhistory258550\">76</td><td class=\"tdhistory258550\">1</td><td class=\"tdhistory258550\">24</td><td class=\"tdhistory258550\">0.7818767</td><td class=\"tdhistory258550\">0.27575427059614926</td><td class=\"tdhistory258550\">a</td></tr><tr><th class=\"tdhistory258550\" style= \"background: rgba(243, 243, 243, 0.75)\">5</th><td class=\"tdhistory258550\">72</td><td class=\"tdhistory258550\">1</td><td class=\"tdhistory258550\">28</td><td class=\"tdhistory258550\">0.2042013</td><td class=\"tdhistory258550\">-1.2957723582343272</td><td class=\"tdhistory258550\">a</td></tr><tr><th class=\"tdhistory258550\" style= \"background: rgba(243, 243, 243, 0.75)\">6</th><td class=\"tdhistory258550\">93</td><td class=\"tdhistory258550\">1</td><td class=\"tdhistory258550\">7</td><td class=\"tdhistory258550\">0.0856193</td><td class=\"tdhistory258550\">2.00449476653439</td><td class=\"tdhistory258550\">a</td></tr><tr><th class=\"tdhistory258550\" style= \"background: rgba(243, 243, 243, 0.75)\">7</th><td class=\"tdhistory258550\">64</td><td class=\"tdhistory258550\">1</td><td class=\"tdhistory258550\">46</td><td class=\"tdhistory258550\">0.0063499</td><td class=\"tdhistory258550\">-2.8563487358795143</td><td class=\"tdhistory258550\">n</td></tr><tr><th class=\"tdhistory258550\" style= \"background: rgba(243, 243, 243, 0.75)\">8</th><td class=\"tdhistory258550\">50</td><td class=\"tdhistory258550\">1</td><td class=\"tdhistory258550\">107</td><td class=\"tdhistory258550\">0.0016447</td><td class=\"tdhistory258550\">-3.2344818472272943</td><td class=\"tdhistory258550\">n</td></tr><tr><th class=\"tdhistory258550\" style= \"background: rgba(243, 243, 243, 0.75)\">9</th><td class=\"tdhistory258550\">47</td><td class=\"tdhistory258550\">0</td><td class=\"tdhistory258550\">54</td><td class=\"tdhistory258550\">0.0053865</td><td class=\"tdhistory258550\">-2.9000459446649285</td><td class=\"tdhistory258550\">n</td></tr><tr><th class=\"tdhistory258550\" style= \"background: rgba(243, 243, 243, 0.75)\">10</th><td class=\"tdhistory258550\">89</td><td class=\"tdhistory258550\">1</td><td class=\"tdhistory258550\">15</td><td class=\"tdhistory258550\">0.0142988</td><td class=\"tdhistory258550\">2.7683360374460215</td><td class=\"tdhistory258550\">p</td></tr><tr><th class=\"tdhistory258550\" style= \"background: rgba(243, 243, 243, 0.75)\">11</th><td class=\"tdhistory258550\">72</td><td class=\"tdhistory258550\">0</td><td class=\"tdhistory258550\">20</td><td class=\"tdhistory258550\">0.9921204</td><td class=\"tdhistory258550\">-0.007635559294069883</td><td class=\"tdhistory258550\">a</td></tr><tr><th class=\"tdhistory258550\" style= \"background: rgba(243, 243, 243, 0.75)\">12</th><td class=\"tdhistory258550\">38</td><td class=\"tdhistory258550\">0</td><td class=\"tdhistory258550\">72</td><td class=\"tdhistory258550\">0.449736</td><td class=\"tdhistory258550\">-0.7618334417633449</td><td class=\"tdhistory258550\">a</td></tr><tr><th class=\"tdhistory258550\" style= \"background: rgba(243, 243, 243, 0.75)\">13</th><td class=\"tdhistory258550\">48</td><td class=\"tdhistory258550\">0</td><td class=\"tdhistory258550\">72</td><td class=\"tdhistory258550\">0.0019244</td><td class=\"tdhistory258550\">-3.2229392296515877</td><td class=\"tdhistory258550\">n</td></tr><tr><th class=\"tdhistory258550\" style= \"background: rgba(243, 243, 243, 0.75)\">14</th><td class=\"tdhistory258550\">76</td><td class=\"tdhistory258550\">0</td><td class=\"tdhistory258550\">16</td><td class=\"tdhistory258550\">0.2834034</td><td class=\"tdhistory258550\">1.1137590628201983</td><td class=\"tdhistory258550\">a</td></tr><tr><th class=\"tdhistory258550\" style= \"background: rgba(243, 243, 243, 0.75)\">15</th><td class=\"tdhistory258550\">26</td><td class=\"tdhistory258550\">0</td><td class=\"tdhistory258550\">39</td><td class=\"tdhistory258550\">0.002657</td><td class=\"tdhistory258550\">-3.2075616900465023</td><td class=\"tdhistory258550\">n</td></tr><tr><th class=\"tdhistory258550\" style= \"background: rgba(243, 243, 243, 0.75)\">16</th><td class=\"tdhistory258550\">66</td><td class=\"tdhistory258550\">1</td><td class=\"tdhistory258550\">78</td><td class=\"tdhistory258550\">0.0004723</td><td class=\"tdhistory258550\">-3.6466911082426523</td><td class=\"tdhistory258550\">n</td></tr><tr><th class=\"tdhistory258550\" style= \"background: rgba(243, 243, 243, 0.75)\">17</th><td class=\"tdhistory258550\">79</td><td class=\"tdhistory258550\">0</td><td class=\"tdhistory258550\">20</td><td class=\"tdhistory258550\">0.4798555</td><td class=\"tdhistory258550\">-0.721590349507282</td><td class=\"tdhistory258550\">a</td></tr><tr><th class=\"tdhistory258550\" style= \"background: rgba(243, 243, 243, 0.75)\">18</th><td class=\"tdhistory258550\">52</td><td class=\"tdhistory258550\">1</td><td class=\"tdhistory258550\">103</td><td class=\"tdhistory258550\">0.0657389</td><td class=\"tdhistory258550\">-1.8588907198839515</td><td class=\"tdhistory258550\">a</td></tr><tr><th class=\"tdhistory258550\" style= \"background: rgba(243, 243, 243, 0.75)\">19</th><td class=\"tdhistory258550\">73</td><td class=\"tdhistory258550\">0</td><td class=\"tdhistory258550\">28</td><td class=\"tdhistory258550\">0.3502408</td><td class=\"tdhistory258550\">0.9479074683140468</td><td class=\"tdhistory258550\">a</td></tr><tr><th class=\"tdhistory258550\" style= \"background: rgba(243, 243, 243, 0.75)\">20</th><td class=\"tdhistory258550\">42</td><td class=\"tdhistory258550\">1</td><td class=\"tdhistory258550\">117</td><td class=\"tdhistory258550\">0.00033</td><td class=\"tdhistory258550\">-3.701124936484421</td><td class=\"tdhistory258550\">n</td></tr><tr><th class=\"tdhistory258550\" style= \"background: rgba(243, 243, 243, 0.75)\">21</th><td class=\"tdhistory258550\">35</td><td class=\"tdhistory258550\">1</td><td class=\"tdhistory258550\">107</td><td class=\"tdhistory258550\">0.9047082</td><td class=\"tdhistory258550\">0.11921172925079085</td><td class=\"tdhistory258550\">a</td></tr><tr><th class=\"tdhistory258550\" style= \"background: rgba(243, 243, 243, 0.75)\">22</th><td class=\"tdhistory258550\">89</td><td class=\"tdhistory258550\">0</td><td class=\"tdhistory258550\">13</td><td class=\"tdhistory258550\">0.1763092</td><td class=\"tdhistory258550\">-1.4332867450865143</td><td class=\"tdhistory258550\">a</td></tr><tr><th class=\"tdhistory258550\" style= \"background: rgba(243, 243, 243, 0.75)\">23</th><td class=\"tdhistory258550\">33</td><td class=\"tdhistory258550\">0</td><td class=\"tdhistory258550\">79</td><td class=\"tdhistory258550\">0.0511857</td><td class=\"tdhistory258550\">-1.9785619285502432</td><td class=\"tdhistory258550\">a</td></tr><tr><th class=\"tdhistory258550\" style= \"background: rgba(243, 243, 243, 0.75)\">24</th><td class=\"tdhistory258550\">88</td><td class=\"tdhistory258550\">0</td><td class=\"tdhistory258550\">16</td><td class=\"tdhistory258550\">0.015772</td><td class=\"tdhistory258550\">-2.704698849315726</td><td class=\"tdhistory258550\">n</td></tr><tr><th class=\"tdhistory258550\" style= \"background: rgba(243, 243, 243, 0.75)\">25</th><td class=\"tdhistory258550\">45</td><td class=\"tdhistory258550\">0</td><td class=\"tdhistory258550\">68</td><td class=\"tdhistory258550\">0.0001292</td><td class=\"tdhistory258550\">-4.059830394523732</td><td class=\"tdhistory258550\">n</td></tr><tr><th class=\"tdhistory258550\" style= \"background: rgba(243, 243, 243, 0.75)\">26</th><td class=\"tdhistory258550\">43</td><td class=\"tdhistory258550\">1</td><td class=\"tdhistory258550\">105</td><td class=\"tdhistory258550\">0.0020615</td><td class=\"tdhistory258550\">-3.1592821796103485</td><td class=\"tdhistory258550\">n</td></tr><tr><th class=\"tdhistory258550\" style= \"background: rgba(243, 243, 243, 0.75)\">27</th><td class=\"tdhistory258550\">14</td><td class=\"tdhistory258550\">1</td><td class=\"tdhistory258550\">51</td><td class=\"tdhistory258550\">0.0005456</td><td class=\"tdhistory258550\">3.6931882629121917</td><td class=\"tdhistory258550\">p</td></tr><tr><th class=\"tdhistory258550\" style= \"background: rgba(243, 243, 243, 0.75)\">28</th><td class=\"tdhistory258550\">90</td><td class=\"tdhistory258550\">1</td><td class=\"tdhistory258550\">9</td><td class=\"tdhistory258550\">0.1555528</td><td class=\"tdhistory258550\">1.545231261242011</td><td class=\"tdhistory258550\">a</td></tr><tr><th class=\"tdhistory258550\" style= \"background: rgba(243, 243, 243, 0.75)\">29</th><td class=\"tdhistory258550\">10</td><td class=\"tdhistory258550\">1</td><td class=\"tdhistory258550\">5</td><td class=\"tdhistory258550\">0.1100709</td><td class=\"tdhistory258550\">1.9429580983579038</td><td class=\"tdhistory258550\">a</td></tr><tr><th class=\"tdhistory258550\" style= \"background: rgba(243, 243, 243, 0.75)\">30</th><td class=\"tdhistory258550\">23</td><td class=\"tdhistory258550\">0</td><td class=\"tdhistory258550\">69</td><td class=\"tdhistory258550\">0.0116994</td><td class=\"tdhistory258550\">-2.590484787457626</td><td class=\"tdhistory258550\">n</td></tr><tr><th class=\"tdhistory258550\" style= \"background: rgba(243, 243, 243, 0.75)\">31</th><td class=\"tdhistory258550\">44</td><td class=\"tdhistory258550\">1</td><td class=\"tdhistory258550\">90</td><td class=\"tdhistory258550\">0.0003708</td><td class=\"tdhistory258550\">-3.7033331405109133</td><td class=\"tdhistory258550\">n</td></tr><tr><th class=\"tdhistory258550\" style= \"background: rgba(243, 243, 243, 0.75)\">32</th><td class=\"tdhistory258550\">77</td><td class=\"tdhistory258550\">1</td><td class=\"tdhistory258550\">40</td><td class=\"tdhistory258550\">0.0221685</td><td class=\"tdhistory258550\">-2.384227212864992</td><td class=\"tdhistory258550\">n</td></tr><tr><th class=\"tdhistory258550\" style= \"background: rgba(243, 243, 243, 0.75)\">33</th><td class=\"tdhistory258550\">39</td><td class=\"tdhistory258550\">1</td><td class=\"tdhistory258550\">94</td><td class=\"tdhistory258550\">0.0037795</td><td class=\"tdhistory258550\">-2.9667186633594596</td><td class=\"tdhistory258550\">n</td></tr><tr><th class=\"tdhistory258550\" style= \"background: rgba(243, 243, 243, 0.75)\">34</th><td class=\"tdhistory258550\">80</td><td class=\"tdhistory258550\">0</td><td class=\"tdhistory258550\">21</td><td class=\"tdhistory258550\">0.415875</td><td class=\"tdhistory258550\">0.8330076821034003</td><td class=\"tdhistory258550\">a</td></tr><tr><th class=\"tdhistory258550\" style= \"background: rgba(243, 243, 243, 0.75)\">35</th><td class=\"tdhistory258550\">65</td><td class=\"tdhistory258550\">1</td><td class=\"tdhistory258550\">72</td><td class=\"tdhistory258550\">0.0365898</td><td class=\"tdhistory258550\">-2.1310904436981697</td><td class=\"tdhistory258550\">n</td></tr><tr><th class=\"tdhistory258550\" style= \"background: rgba(243, 243, 243, 0.75)\">36</th><td class=\"tdhistory258550\">91</td><td class=\"tdhistory258550\">0</td><td class=\"tdhistory258550\">4</td><td class=\"tdhistory258550\">0.2206629</td><td class=\"tdhistory258550\">-1.4534208494891652</td><td class=\"tdhistory258550\">a</td></tr><tr><th class=\"tdhistory258550\" style= \"background: rgba(243, 243, 243, 0.75)\">37</th><td class=\"tdhistory258550\">61</td><td class=\"tdhistory258550\">1</td><td class=\"tdhistory258550\">86</td><td class=\"tdhistory258550\">0.0250818</td><td class=\"tdhistory258550\">2.2760531913263917</td><td class=\"tdhistory258550\">p</td></tr><tr><th class=\"tdhistory258550\" style= \"background: rgba(243, 243, 243, 0.75)\">38</th><td class=\"tdhistory258550\">33</td><td class=\"tdhistory258550\">1</td><td class=\"tdhistory258550\">93</td><td class=\"tdhistory258550\">0.0402766</td><td class=\"tdhistory258550\">-2.078263092455552</td><td class=\"tdhistory258550\">n</td></tr><tr><th class=\"tdhistory258550\" style= \"background: rgba(243, 243, 243, 0.75)\">39</th><td class=\"tdhistory258550\">94</td><td class=\"tdhistory258550\">1</td><td class=\"tdhistory258550\">7</td><td class=\"tdhistory258550\">0.1132148</td><td class=\"tdhistory258550\">1.8135209270199906</td><td class=\"tdhistory258550\">a</td></tr><tr><th class=\"tdhistory258550\" style= \"background: rgba(243, 243, 243, 0.75)\">40</th><td class=\"tdhistory258550\">34</td><td class=\"tdhistory258550\">1</td><td class=\"tdhistory258550\">97</td><td class=\"tdhistory258550\">0.05169</td><td class=\"tdhistory258550\">-1.9688466748543199</td><td class=\"tdhistory258550\">a</td></tr><tr><th class=\"tdhistory258550\" style= \"background: rgba(243, 243, 243, 0.75)\">41</th><td class=\"tdhistory258550\">71</td><td class=\"tdhistory258550\">0</td><td class=\"tdhistory258550\">40</td><td class=\"tdhistory258550\">0.7961975</td><td class=\"tdhistory258550\">-0.2641566410222367</td><td class=\"tdhistory258550\">a</td></tr><tr><th class=\"tdhistory258550\" style= \"background: rgba(243, 243, 243, 0.75)\">42</th><td class=\"tdhistory258550\">45</td><td class=\"tdhistory258550\">1</td><td class=\"tdhistory258550\">104</td><td class=\"tdhistory258550\">0.0438849</td><td class=\"tdhistory258550\">-2.0436408668962054</td><td class=\"tdhistory258550\">n</td></tr><tr><th class=\"tdhistory258550\" style= \"background: rgba(243, 243, 243, 0.75)\">43</th><td class=\"tdhistory258550\">49</td><td class=\"tdhistory258550\">1</td><td class=\"tdhistory258550\">95</td><td class=\"tdhistory258550\">0.0001084</td><td class=\"tdhistory258550\">-4.035018616442392</td><td class=\"tdhistory258550\">n</td></tr><tr><th class=\"tdhistory258550\" style= \"background: rgba(243, 243, 243, 0.75)\">44</th><td class=\"tdhistory258550\">37</td><td class=\"tdhistory258550\">0</td><td class=\"tdhistory258550\">89</td><td class=\"tdhistory258550\">0.5768863</td><td class=\"tdhistory258550\">0.5599533860689607</td><td class=\"tdhistory258550\">a</td></tr><tr><th class=\"tdhistory258550\" style= \"background: rgba(243, 243, 243, 0.75)\">45</th><td class=\"tdhistory258550\">58</td><td class=\"tdhistory258550\">1</td><td class=\"tdhistory258550\">98</td><td class=\"tdhistory258550\">0.4981077</td><td class=\"tdhistory258550\">-0.6796772283369474</td><td class=\"tdhistory258550\">a</td></tr><tr><th class=\"tdhistory258550\" style= \"background: rgba(243, 243, 243, 0.75)\">46</th><td class=\"tdhistory258550\">75</td><td class=\"tdhistory258550\">0</td><td class=\"tdhistory258550\">27</td><td class=\"tdhistory258550\">0.1025436</td><td class=\"tdhistory258550\">1.6862479715409262</td><td class=\"tdhistory258550\">a</td></tr><tr><th class=\"tdhistory258550\" style= \"background: rgba(243, 243, 243, 0.75)\">47</th><td class=\"tdhistory258550\">57</td><td class=\"tdhistory258550\">1</td><td class=\"tdhistory258550\">94</td><td class=\"tdhistory258550\">0.9443424</td><td class=\"tdhistory258550\">0.06664211026909829</td><td class=\"tdhistory258550\">a</td></tr><tr><th class=\"tdhistory258550\" style= \"background: rgba(243, 243, 243, 0.75)\">48</th><td class=\"tdhistory258550\">30</td><td class=\"tdhistory258550\">1</td><td class=\"tdhistory258550\">85</td><td class=\"tdhistory258550\">0.5974937</td><td class=\"tdhistory258550\">-0.53344455607459</td><td class=\"tdhistory258550\">a</td></tr><tr><th class=\"tdhistory258550\" style= \"background: rgba(243, 243, 243, 0.75)\">49</th><td class=\"tdhistory258550\">29</td><td class=\"tdhistory258550\">1</td><td class=\"tdhistory258550\">65</td><td class=\"tdhistory258550\">0.7803667</td><td class=\"tdhistory258550\">-0.27816462545128795</td><td class=\"tdhistory258550\">a</td></tr><tr><th class=\"tdhistory258550\" style= \"background: rgba(243, 243, 243, 0.75)\">50</th><td class=\"tdhistory258550\">63</td><td class=\"tdhistory258550\">0</td><td class=\"tdhistory258550\">52</td><td class=\"tdhistory258550\">0.0004896</td><td class=\"tdhistory258550\">-3.7172265649750513</td><td class=\"tdhistory258550\">n</td></tr><tr><th class=\"tdhistory258550\" style= \"background: rgba(243, 243, 243, 0.75)\">51</th><td class=\"tdhistory258550\">74</td><td class=\"tdhistory258550\">1</td><td class=\"tdhistory258550\">39</td><td class=\"tdhistory258550\">0.0004152</td><td class=\"tdhistory258550\">-3.862600306934728</td><td class=\"tdhistory258550\">n</td></tr><tr><th class=\"tdhistory258550\" style= \"background: rgba(243, 243, 243, 0.75)\">52</th><td class=\"tdhistory258550\">57</td><td class=\"tdhistory258550\">0</td><td class=\"tdhistory258550\">106</td><td class=\"tdhistory258550\">0.0109467</td><td class=\"tdhistory258550\">-2.5913883798643633</td><td class=\"tdhistory258550\">n</td></tr><tr><th class=\"tdhistory258550\" style= \"background: rgba(243, 243, 243, 0.75)\">53</th><td class=\"tdhistory258550\">36</td><td class=\"tdhistory258550\">0</td><td class=\"tdhistory258550\">94</td><td class=\"tdhistory258550\">0.3599277</td><td class=\"tdhistory258550\">0.9189635642254149</td><td class=\"tdhistory258550\">a</td></tr><tr><th class=\"tdhistory258550\" style= \"background: rgba(243, 243, 243, 0.75)\">54</th><td class=\"tdhistory258550\">54</td><td class=\"tdhistory258550\">1</td><td class=\"tdhistory258550\">119</td><td class=\"tdhistory258550\">0.0477776</td><td class=\"tdhistory258550\">-2.0041899107427836</td><td class=\"tdhistory258550\">n</td></tr><tr><th class=\"tdhistory258550\" style= \"background: rgba(243, 243, 243, 0.75)\">55</th><td class=\"tdhistory258550\">54</td><td class=\"tdhistory258550\">0</td><td class=\"tdhistory258550\">50</td><td class=\"tdhistory258550\">0.008058</td><td class=\"tdhistory258550\">-2.7643781497302573</td><td class=\"tdhistory258550\">n</td></tr><tr><th class=\"tdhistory258550\" style= \"background: rgba(243, 243, 243, 0.75)\">56</th><td class=\"tdhistory258550\">50</td><td class=\"tdhistory258550\">0</td><td class=\"tdhistory258550\">49</td><td class=\"tdhistory258550\">0.0006558</td><td class=\"tdhistory258550\">-3.6409383276073912</td><td class=\"tdhistory258550\">n</td></tr><tr><th class=\"tdhistory258550\" style= \"background: rgba(243, 243, 243, 0.75)\">57</th><td class=\"tdhistory258550\">17</td><td class=\"tdhistory258550\">0</td><td class=\"tdhistory258550\">85</td><td class=\"tdhistory258550\">0.0125657</td><td class=\"tdhistory258550\">2.5468209355925406</td><td class=\"tdhistory258550\">p</td></tr><tr><th class=\"tdhistory258550\" style= \"background: rgba(243, 243, 243, 0.75)\">58</th><td class=\"tdhistory258550\">62</td><td class=\"tdhistory258550\">0</td><td class=\"tdhistory258550\">79</td><td class=\"tdhistory258550\">0.0680527</td><td class=\"tdhistory258550\">-1.8458946020700597</td><td class=\"tdhistory258550\">a</td></tr><tr><th class=\"tdhistory258550\" style= \"background: rgba(243, 243, 243, 0.75)\">59</th><td class=\"tdhistory258550\">26</td><td class=\"tdhistory258550\">1</td><td class=\"tdhistory258550\">53</td><td class=\"tdhistory258550\">0.3170842</td><td class=\"tdhistory258550\">-1.0140118328532208</td><td class=\"tdhistory258550\">a</td></tr><tr><th class=\"tdhistory258550\" style= \"background: rgba(243, 243, 243, 0.75)\">60</th><td class=\"tdhistory258550\">28</td><td class=\"tdhistory258550\">0</td><td class=\"tdhistory258550\">43</td><td class=\"tdhistory258550\">0.01982</td><td class=\"tdhistory258550\">-2.4238092425595226</td><td class=\"tdhistory258550\">n</td></tr><tr><th class=\"tdhistory258550\" style= \"background: rgba(243, 243, 243, 0.75)\">61</th><td class=\"tdhistory258550\">61</td><td class=\"tdhistory258550\">0</td><td class=\"tdhistory258550\">54</td><td class=\"tdhistory258550\">0.1420424</td><td class=\"tdhistory258550\">-1.4880552669395877</td><td class=\"tdhistory258550\">a</td></tr><tr><th class=\"tdhistory258550\" style= \"background: rgba(243, 243, 243, 0.75)\">62</th><td class=\"tdhistory258550\">48</td><td class=\"tdhistory258550\">1</td><td class=\"tdhistory258550\">92</td><td class=\"tdhistory258550\">0.0008762</td><td class=\"tdhistory258550\">-3.4370876087795286</td><td class=\"tdhistory258550\">n</td></tr><tr><th class=\"tdhistory258550\" style= \"background: rgba(243, 243, 243, 0.75)\">63</th><td class=\"tdhistory258550\">24</td><td class=\"tdhistory258550\">0</td><td class=\"tdhistory258550\">64</td><td class=\"tdhistory258550\">0.654231</td><td class=\"tdhistory258550\">0.44944213802776795</td><td class=\"tdhistory258550\">a</td></tr><tr><th class=\"tdhistory258550\" style= \"background: rgba(243, 243, 243, 0.75)\">64</th><td class=\"tdhistory258550\">56</td><td class=\"tdhistory258550\">0</td><td class=\"tdhistory258550\">79</td><td class=\"tdhistory258550\">0.1135904</td><td class=\"tdhistory258550\">-1.6016397040542534</td><td class=\"tdhistory258550\">a</td></tr><tr><th class=\"tdhistory258550\" style= \"background: rgba(243, 243, 243, 0.75)\">65</th><td class=\"tdhistory258550\">73</td><td class=\"tdhistory258550\">1</td><td class=\"tdhistory258550\">33</td><td class=\"tdhistory258550\">0.0086889</td><td class=\"tdhistory258550\">-2.789693584291123</td><td class=\"tdhistory258550\">n</td></tr><tr><th class=\"tdhistory258550\" style= \"background: rgba(243, 243, 243, 0.75)\">66</th><td class=\"tdhistory258550\">36</td><td class=\"tdhistory258550\">1</td><td class=\"tdhistory258550\">100</td><td class=\"tdhistory258550\">0.0025139</td><td class=\"tdhistory258550\">-3.1010102951441594</td><td class=\"tdhistory258550\">n</td></tr><tr><th class=\"tdhistory258550\" style= \"background: rgba(243, 243, 243, 0.75)\">67</th><td class=\"tdhistory258550\">9</td><td class=\"tdhistory258550\">1</td><td class=\"tdhistory258550\">7</td><td class=\"tdhistory258550\">0.0011862</td><td class=\"tdhistory258550\">5.246179206391678</td><td class=\"tdhistory258550\">p</td></tr><tr><th class=\"tdhistory258550\" style= \"background: rgba(243, 243, 243, 0.75)\">68</th><td class=\"tdhistory258550\">78</td><td class=\"tdhistory258550\">0</td><td class=\"tdhistory258550\">22</td><td class=\"tdhistory258550\">0.1696243</td><td class=\"tdhistory258550\">1.4246952271401183</td><td class=\"tdhistory258550\">a</td></tr><tr><th class=\"tdhistory258550\" style= \"background: rgba(243, 243, 243, 0.75)\">69</th><td class=\"tdhistory258550\">90</td><td class=\"tdhistory258550\">0</td><td class=\"tdhistory258550\">6</td><td class=\"tdhistory258550\">0.3559177</td><td class=\"tdhistory258550\">-0.9999999999999999</td><td class=\"tdhistory258550\">a</td></tr><tr><th class=\"tdhistory258550\" style= \"background: rgba(243, 243, 243, 0.75)\">70</th><td class=\"tdhistory258550\">69</td><td class=\"tdhistory258550\">0</td><td class=\"tdhistory258550\">62</td><td class=\"tdhistory258550\">0.7727839</td><td class=\"tdhistory258550\">0.28651538577973673</td><td class=\"tdhistory258550\">a</td></tr><tr><th class=\"tdhistory258550\" style= \"background: rgba(243, 243, 243, 0.75)\">71</th><td class=\"tdhistory258550\">27</td><td class=\"tdhistory258550\">1</td><td class=\"tdhistory258550\">69</td><td class=\"tdhistory258550\">0.0431725</td><td class=\"tdhistory258550\">-2.056515593385942</td><td class=\"tdhistory258550\">n</td></tr><tr><th class=\"tdhistory258550\" style= \"background: rgba(243, 243, 243, 0.75)\">72</th><td class=\"tdhistory258550\">29</td><td class=\"tdhistory258550\">0</td><td class=\"tdhistory258550\">51</td><td class=\"tdhistory258550\">0.462693</td><td class=\"tdhistory258550\">-0.7355089630973273</td><td class=\"tdhistory258550\">a</td></tr><tr><th class=\"tdhistory258550\" style= \"background: rgba(243, 243, 243, 0.75)\">73</th><td class=\"tdhistory258550\">84</td><td class=\"tdhistory258550\">0</td><td class=\"tdhistory258550\">31</td><td class=\"tdhistory258550\">0.0006176</td><td class=\"tdhistory258550\">-3.811404205195729</td><td class=\"tdhistory258550\">n</td></tr><tr><th class=\"tdhistory258550\" style= \"background: rgba(243, 243, 243, 0.75)\">74</th><td class=\"tdhistory258550\">83</td><td class=\"tdhistory258550\">1</td><td class=\"tdhistory258550\">19</td><td class=\"tdhistory258550\">0.1217113</td><td class=\"tdhistory258550\">-1.6174953200682674</td><td class=\"tdhistory258550\">a</td></tr><tr><th class=\"tdhistory258550\" style= \"background: rgba(243, 243, 243, 0.75)\">75</th><td class=\"tdhistory258550\">13</td><td class=\"tdhistory258550\">0</td><td class=\"tdhistory258550\">27</td><td class=\"tdhistory258550\">0.0156412</td><td class=\"tdhistory258550\">2.5810498299970583</td><td class=\"tdhistory258550\">p</td></tr><tr><th class=\"tdhistory258550\" style= \"background: rgba(243, 243, 243, 0.75)\">76</th><td class=\"tdhistory258550\">87</td><td class=\"tdhistory258550\">0</td><td class=\"tdhistory258550\">21</td><td class=\"tdhistory258550\">0.1384942</td><td class=\"tdhistory258550\">-1.5419105988818675</td><td class=\"tdhistory258550\">a</td></tr><tr><th class=\"tdhistory258550\" style= \"background: rgba(243, 243, 243, 0.75)\">77</th><td class=\"tdhistory258550\">66</td><td class=\"tdhistory258550\">0</td><td class=\"tdhistory258550\">46</td><td class=\"tdhistory258550\">0.0032988</td><td class=\"tdhistory258550\">-3.095957668340024</td><td class=\"tdhistory258550\">n</td></tr><tr><th class=\"tdhistory258550\" style= \"background: rgba(243, 243, 243, 0.75)\">78</th><td class=\"tdhistory258550\">64</td><td class=\"tdhistory258550\">0</td><td class=\"tdhistory258550\">58</td><td class=\"tdhistory258550\">0.0182145</td><td class=\"tdhistory258550\">-2.426959140037223</td><td class=\"tdhistory258550\">n</td></tr><tr><th class=\"tdhistory258550\" style= \"background: rgba(243, 243, 243, 0.75)\">79</th><td class=\"tdhistory258550\">12</td><td class=\"tdhistory258550\">0</td><td class=\"tdhistory258550\">8</td><td class=\"tdhistory258550\">0.2833584</td><td class=\"tdhistory258550\">-1.1492921641212326</td><td class=\"tdhistory258550\">a</td></tr><tr><th class=\"tdhistory258550\" style= \"background: rgba(243, 243, 243, 0.75)\">80</th><td class=\"tdhistory258550\">10</td><td class=\"tdhistory258550\">0</td><td class=\"tdhistory258550\">8</td><td class=\"tdhistory258550\">0.0363709</td><td class=\"tdhistory258550\">2.5117824050061412</td><td class=\"tdhistory258550\">p</td></tr><tr><th class=\"tdhistory258550\" style= \"background: rgba(243, 243, 243, 0.75)\">81</th><td class=\"tdhistory258550\">39</td><td class=\"tdhistory258550\">0</td><td class=\"tdhistory258550\">73</td><td class=\"tdhistory258550\">0.0915134</td><td class=\"tdhistory258550\">-1.7050522939133508</td><td class=\"tdhistory258550\">a</td></tr><tr><th class=\"tdhistory258550\" style= \"background: rgba(243, 243, 243, 0.75)\">82</th><td class=\"tdhistory258550\">9</td><td class=\"tdhistory258550\">0</td><td class=\"tdhistory258550\">6</td><td class=\"tdhistory258550\">0.0663471</td><td class=\"tdhistory258550\">2.240383083370425</td><td class=\"tdhistory258550\">a</td></tr><tr><th class=\"tdhistory258550\" style= \"background: rgba(243, 243, 243, 0.75)\">83</th><td class=\"tdhistory258550\">34</td><td class=\"tdhistory258550\">0</td><td class=\"tdhistory258550\">76</td><td class=\"tdhistory258550\">0.4204692</td><td class=\"tdhistory258550\">0.811250825489578</td><td class=\"tdhistory258550\">a</td></tr><tr><th class=\"tdhistory258550\" style= \"background: rgba(243, 243, 243, 0.75)\">84</th><td class=\"tdhistory258550\">46</td><td class=\"tdhistory258550\">1</td><td class=\"tdhistory258550\">113</td><td class=\"tdhistory258550\">0.0011735</td><td class=\"tdhistory258550\">-3.3276825944952346</td><td class=\"tdhistory258550\">n</td></tr><tr><th class=\"tdhistory258550\" style= \"background: rgba(243, 243, 243, 0.75)\">85</th><td class=\"tdhistory258550\">80</td><td class=\"tdhistory258550\">1</td><td class=\"tdhistory258550\">27</td><td class=\"tdhistory258550\">0.0461684</td><td class=\"tdhistory258550\">-2.091977548190066</td><td class=\"tdhistory258550\">n</td></tr><tr><th class=\"tdhistory258550\" style= \"background: rgba(243, 243, 243, 0.75)\">86</th><td class=\"tdhistory258550\">28</td><td class=\"tdhistory258550\">1</td><td class=\"tdhistory258550\">71</td><td class=\"tdhistory258550\">0.0366385</td><td class=\"tdhistory258550\">-2.129852920428456</td><td class=\"tdhistory258550\">n</td></tr><tr><th class=\"tdhistory258550\" style= \"background: rgba(243, 243, 243, 0.75)\">87</th><td class=\"tdhistory258550\">19</td><td class=\"tdhistory258550\">0</td><td class=\"tdhistory258550\">113</td><td class=\"tdhistory258550\">0.0626833</td><td class=\"tdhistory258550\">1.8819296530525789</td><td class=\"tdhistory258550\">a</td></tr><tr><th class=\"tdhistory258550\" style= \"background: rgba(243, 243, 243, 0.75)\">88</th><td class=\"tdhistory258550\">40</td><td class=\"tdhistory258550\">1</td><td class=\"tdhistory258550\">97</td><td class=\"tdhistory258550\">0.0287475</td><td class=\"tdhistory258550\">-2.220837961070849</td><td class=\"tdhistory258550\">n</td></tr><tr><th class=\"tdhistory258550\" style= \"background: rgba(243, 243, 243, 0.75)\">89</th><td class=\"tdhistory258550\">37</td><td class=\"tdhistory258550\">1</td><td class=\"tdhistory258550\">91</td><td class=\"tdhistory258550\">0.0134787</td><td class=\"tdhistory258550\">-2.515855840770415</td><td class=\"tdhistory258550\">n</td></tr><tr><th class=\"tdhistory258550\" style= \"background: rgba(243, 243, 243, 0.75)\">90</th><td class=\"tdhistory258550\">32</td><td class=\"tdhistory258550\">0</td><td class=\"tdhistory258550\">67</td><td class=\"tdhistory258550\">0.4094865</td><td class=\"tdhistory258550\">0.8253290126068602</td><td class=\"tdhistory258550\">a</td></tr><tr><th class=\"tdhistory258550\" style= \"background: rgba(243, 243, 243, 0.75)\">91</th><td class=\"tdhistory258550\">56</td><td class=\"tdhistory258550\">1</td><td class=\"tdhistory258550\">100</td><td class=\"tdhistory258550\">0.4732045</td><td class=\"tdhistory258550\">0.7175552279050323</td><td class=\"tdhistory258550\">a</td></tr><tr><th class=\"tdhistory258550\" style= \"background: rgba(243, 243, 243, 0.75)\">92</th><td class=\"tdhistory258550\">31</td><td class=\"tdhistory258550\">1</td><td class=\"tdhistory258550\">88</td><td class=\"tdhistory258550\">0.6183231</td><td class=\"tdhistory258550\">-0.5021525435049807</td><td class=\"tdhistory258550\">a</td></tr><tr><th class=\"tdhistory258550\" style= \"background: rgba(243, 243, 243, 0.75)\">93</th><td class=\"tdhistory258550\">59</td><td class=\"tdhistory258550\">1</td><td class=\"tdhistory258550\">81</td><td class=\"tdhistory258550\">0.6325211</td><td class=\"tdhistory258550\">-0.4799533198668136</td><td class=\"tdhistory258550\">a</td></tr><tr><th class=\"tdhistory258550\" style= \"background: rgba(243, 243, 243, 0.75)\">94</th><td class=\"tdhistory258550\">27</td><td class=\"tdhistory258550\">0</td><td class=\"tdhistory258550\">35</td><td class=\"tdhistory258550\">0.0218499</td><td class=\"tdhistory258550\">-2.398554722335631</td><td class=\"tdhistory258550\">n</td></tr><tr><th class=\"tdhistory258550\" style= \"background: rgba(243, 243, 243, 0.75)\">95</th><td class=\"tdhistory258550\">40</td><td class=\"tdhistory258550\">0</td><td class=\"tdhistory258550\">93</td><td class=\"tdhistory258550\">0.0102693</td><td class=\"tdhistory258550\">-2.6213267496702675</td><td class=\"tdhistory258550\">n</td></tr><tr><th class=\"tdhistory258550\" style= \"background: rgba(243, 243, 243, 0.75)\">96</th><td class=\"tdhistory258550\">31</td><td class=\"tdhistory258550\">0</td><td class=\"tdhistory258550\">71</td><td class=\"tdhistory258550\">0.0107457</td><td class=\"tdhistory258550\">-2.6194798084884576</td><td class=\"tdhistory258550\">n</td></tr><tr><th class=\"tdhistory258550\" style= \"background: rgba(243, 243, 243, 0.75)\">97</th><td class=\"tdhistory258550\">75</td><td class=\"tdhistory258550\">1</td><td class=\"tdhistory258550\">33</td><td class=\"tdhistory258550\">0.1959187</td><td class=\"tdhistory258550\">1.315635133067727</td><td class=\"tdhistory258550\">a</td></tr><tr><th class=\"tdhistory258550\" style= \"background: rgba(243, 243, 243, 0.75)\">98</th><td class=\"tdhistory258550\">67</td><td class=\"tdhistory258550\">0</td><td class=\"tdhistory258550\">46</td><td class=\"tdhistory258550\">0.0328687</td><td class=\"tdhistory258550\">-2.198412250198925</td><td class=\"tdhistory258550\">n</td></tr><tr><th class=\"tdhistory258550\" style= \"background: rgba(243, 243, 243, 0.75)\">99</th><td class=\"tdhistory258550\">18</td><td class=\"tdhistory258550\">0</td><td class=\"tdhistory258550\">113</td><td class=\"tdhistory258550\">0.1101879</td><td class=\"tdhistory258550\">1.60879009923987</td><td class=\"tdhistory258550\">a</td></tr><tr><th class=\"tdhistory258550\" style= \"background: rgba(243, 243, 243, 0.75)\">100</th><td class=\"tdhistory258550\">12</td><td class=\"tdhistory258550\">1</td><td class=\"tdhistory258550\">9</td><td class=\"tdhistory258550\">0.0600366</td><td class=\"tdhistory258550\">-2.1451698881663877</td><td class=\"tdhistory258550\">a</td></tr><tr><th class=\"tdhistory258550\" style= \"background: rgba(243, 243, 243, 0.75)\">101</th><td class=\"tdhistory258550\">15</td><td class=\"tdhistory258550\">0</td><td class=\"tdhistory258550\">86</td><td class=\"tdhistory258550\">0.0002188</td><td class=\"tdhistory258550\">3.864249582931809</td><td class=\"tdhistory258550\">p</td></tr><tr><th class=\"tdhistory258550\" style= \"background: rgba(243, 243, 243, 0.75)\">102</th><td class=\"tdhistory258550\">92</td><td class=\"tdhistory258550\">0</td><td class=\"tdhistory258550\">3</td><td class=\"tdhistory258550\">0.0260825</td><td class=\"tdhistory258550\">-4.1093444064195035</td><td class=\"tdhistory258550\">n</td></tr><tr><th class=\"tdhistory258550\" style= \"background: rgba(243, 243, 243, 0.75)\">103</th><td class=\"tdhistory258550\">68</td><td class=\"tdhistory258550\">0</td><td class=\"tdhistory258550\">41</td><td class=\"tdhistory258550\">0.0075597</td><td class=\"tdhistory258550\">-2.8132333558681166</td><td class=\"tdhistory258550\">n</td></tr><tr><th class=\"tdhistory258550\" style= \"background: rgba(243, 243, 243, 0.75)\">104</th><td class=\"tdhistory258550\">22</td><td class=\"tdhistory258550\">1</td><td class=\"tdhistory258550\">88</td><td class=\"tdhistory258550\">0.1271486</td><td class=\"tdhistory258550\">-1.5419965213272224</td><td class=\"tdhistory258550\">a</td></tr><tr><th class=\"tdhistory258550\" style= \"background: rgba(243, 243, 243, 0.75)\">105</th><td class=\"tdhistory258550\">74</td><td class=\"tdhistory258550\">0</td><td class=\"tdhistory258550\">42</td><td class=\"tdhistory258550\">0.0728423</td><td class=\"tdhistory258550\">1.8431313461350431</td><td class=\"tdhistory258550\">a</td></tr><tr><th class=\"tdhistory258550\" style= \"background: rgba(243, 243, 243, 0.75)\">106</th><td class=\"tdhistory258550\">68</td><td class=\"tdhistory258550\">1</td><td class=\"tdhistory258550\">47</td><td class=\"tdhistory258550\">0.0002373</td><td class=\"tdhistory258550\">-3.9788328948124123</td><td class=\"tdhistory258550\">n</td></tr><tr><th class=\"tdhistory258550\" style= \"background: rgba(243, 243, 243, 0.75)\">107</th><td class=\"tdhistory258550\">16</td><td class=\"tdhistory258550\">1</td><td class=\"tdhistory258550\">107</td><td class=\"tdhistory258550\">0</td><td class=\"tdhistory258550\">4.639713849368195</td><td class=\"tdhistory258550\">p</td></tr><tr><th class=\"tdhistory258550\" style= \"background: rgba(243, 243, 243, 0.75)\">108</th><td class=\"tdhistory258550\">52</td><td class=\"tdhistory258550\">0</td><td class=\"tdhistory258550\">57</td><td class=\"tdhistory258550\">0.1988335</td><td class=\"tdhistory258550\">-1.2986200226539708</td><td class=\"tdhistory258550\">a</td></tr><tr><th class=\"tdhistory258550\" style= \"background: rgba(243, 243, 243, 0.75)\">109</th><td class=\"tdhistory258550\">84</td><td class=\"tdhistory258550\">1</td><td class=\"tdhistory258550\">23</td><td class=\"tdhistory258550\">0.0116674</td><td class=\"tdhistory258550\">-2.741240236148122</td><td class=\"tdhistory258550\">n</td></tr><tr><th class=\"tdhistory258550\" style= \"background: rgba(243, 243, 243, 0.75)\">110</th><td class=\"tdhistory258550\">16</td><td class=\"tdhistory258550\">0</td><td class=\"tdhistory258550\">90</td><td class=\"tdhistory258550\">0.0029166</td><td class=\"tdhistory258550\">3.060064737034293</td><td class=\"tdhistory258550\">p</td></tr><tr><th class=\"tdhistory258550\" style= \"background: rgba(243, 243, 243, 0.75)\">111</th><td class=\"tdhistory258550\">23</td><td class=\"tdhistory258550\">1</td><td class=\"tdhistory258550\">72</td><td class=\"tdhistory258550\">0</td><td class=\"tdhistory258550\">-4.807836962330953</td><td class=\"tdhistory258550\">n</td></tr><tr><th class=\"tdhistory258550\" style= \"background: rgba(243, 243, 243, 0.75)\">112</th><td class=\"tdhistory258550\">63</td><td class=\"tdhistory258550\">1</td><td class=\"tdhistory258550\">58</td><td class=\"tdhistory258550\">0.0480107</td><td class=\"tdhistory258550\">-2.0188132267581684</td><td class=\"tdhistory258550\">n</td></tr><tr><th class=\"tdhistory258550\" style= \"background: rgba(243, 243, 243, 0.75)\">113</th><td class=\"tdhistory258550\">17</td><td class=\"tdhistory258550\">1</td><td class=\"tdhistory258550\">116</td><td class=\"tdhistory258550\">0.0117522</td><td class=\"tdhistory258550\">2.5648865894179176</td><td class=\"tdhistory258550\">p</td></tr><tr><th class=\"tdhistory258550\" style= \"background: rgba(243, 243, 243, 0.75)\">114</th><td class=\"tdhistory258550\">62</td><td class=\"tdhistory258550\">1</td><td class=\"tdhistory258550\">70</td><td class=\"tdhistory258550\">0.0745882</td><td class=\"tdhistory258550\">-1.8134538703366876</td><td class=\"tdhistory258550\">a</td></tr><tr><th class=\"tdhistory258550\" style= \"background: rgba(243, 243, 243, 0.75)\">115</th><td class=\"tdhistory258550\">20</td><td class=\"tdhistory258550\">1</td><td class=\"tdhistory258550\">144</td><td class=\"tdhistory258550\">0</td><td class=\"tdhistory258550\">5.253217061314352</td><td class=\"tdhistory258550\">p</td></tr><tr><th class=\"tdhistory258550\" style= \"background: rgba(243, 243, 243, 0.75)\">116</th><td class=\"tdhistory258550\">82</td><td class=\"tdhistory258550\">1</td><td class=\"tdhistory258550\">34</td><td class=\"tdhistory258550\">0.0005562</td><td class=\"tdhistory258550\">-3.811663137462193</td><td class=\"tdhistory258550\">n</td></tr><tr><th class=\"tdhistory258550\" style= \"background: rgba(243, 243, 243, 0.75)\">117</th><td class=\"tdhistory258550\">38</td><td class=\"tdhistory258550\">1</td><td class=\"tdhistory258550\">101</td><td class=\"tdhistory258550\">0.096048</td><td class=\"tdhistory258550\">-1.6753890959647324</td><td class=\"tdhistory258550\">a</td></tr><tr><th class=\"tdhistory258550\" style= \"background: rgba(243, 243, 243, 0.75)\">118</th><td class=\"tdhistory258550\">65</td><td class=\"tdhistory258550\">0</td><td class=\"tdhistory258550\">56</td><td class=\"tdhistory258550\">0.0667144</td><td class=\"tdhistory258550\">-1.870800636670386</td><td class=\"tdhistory258550\">a</td></tr><tr><th class=\"tdhistory258550\" style= \"background: rgba(243, 243, 243, 0.75)\">119</th><td class=\"tdhistory258550\">55</td><td class=\"tdhistory258550\">1</td><td class=\"tdhistory258550\">124</td><td class=\"tdhistory258550\">0</td><td class=\"tdhistory258550\">-4.127593377381934</td><td class=\"tdhistory258550\">n</td></tr><tr><th class=\"tdhistory258550\" style= \"background: rgba(243, 243, 243, 0.75)\">120</th><td class=\"tdhistory258550\">82</td><td class=\"tdhistory258550\">0</td><td class=\"tdhistory258550\">23</td><td class=\"tdhistory258550\">0.0054189</td><td class=\"tdhistory258550\">-3.0725105303481928</td><td class=\"tdhistory258550\">n</td></tr><tr><th class=\"tdhistory258550\" style= \"background: rgba(243, 243, 243, 0.75)\">121</th><td class=\"tdhistory258550\">53</td><td class=\"tdhistory258550\">0</td><td class=\"tdhistory258550\">79</td><td class=\"tdhistory258550\">0.0045597</td><td class=\"tdhistory258550\">-2.9247071997293705</td><td class=\"tdhistory258550\">n</td></tr><tr><th class=\"tdhistory258550\" style= \"background: rgba(243, 243, 243, 0.75)\">122</th><td class=\"tdhistory258550\">79</td><td class=\"tdhistory258550\">1</td><td class=\"tdhistory258550\">34</td><td class=\"tdhistory258550\">0.1144719</td><td class=\"tdhistory258550\">-1.6237812480962597</td><td class=\"tdhistory258550\">a</td></tr><tr><th class=\"tdhistory258550\" style= \"background: rgba(243, 243, 243, 0.75)\">123</th><td class=\"tdhistory258550\">67</td><td class=\"tdhistory258550\">1</td><td class=\"tdhistory258550\">55</td><td class=\"tdhistory258550\">0</td><td class=\"tdhistory258550\">-4.404684295372503</td><td class=\"tdhistory258550\">n</td></tr><tr><th class=\"tdhistory258550\" style= \"background: rgba(243, 243, 243, 0.75)\">124</th><td class=\"tdhistory258550\">91</td><td class=\"tdhistory258550\">1</td><td class=\"tdhistory258550\">5</td><td class=\"tdhistory258550\">0.1939037</td><td class=\"tdhistory258550\">1.498396239698223</td><td class=\"tdhistory258550\">a</td></tr><tr><th class=\"tdhistory258550\" style= \"background: rgba(243, 243, 243, 0.75)\">125</th><td class=\"tdhistory258550\">41</td><td class=\"tdhistory258550\">0</td><td class=\"tdhistory258550\">87</td><td class=\"tdhistory258550\">0.4673513</td><td class=\"tdhistory258550\">0.7284430080051983</td><td class=\"tdhistory258550\">a</td></tr><tr><th class=\"tdhistory258550\" style= \"background: rgba(243, 243, 243, 0.75)\">126</th><td class=\"tdhistory258550\">69</td><td class=\"tdhistory258550\">1</td><td class=\"tdhistory258550\">47</td><td class=\"tdhistory258550\">0.0009419</td><td class=\"tdhistory258550\">-3.5274152408618327</td><td class=\"tdhistory258550\">n</td></tr><tr><th class=\"tdhistory258550\" style= \"background: rgba(243, 243, 243, 0.75)\">127</th><td class=\"tdhistory258550\">47</td><td class=\"tdhistory258550\">1</td><td class=\"tdhistory258550\">99</td><td class=\"tdhistory258550\">0</td><td class=\"tdhistory258550\">-4.731251829098891</td><td class=\"tdhistory258550\">n</td></tr><tr><th class=\"tdhistory258550\" style= \"background: rgba(243, 243, 243, 0.75)\">128</th><td class=\"tdhistory258550\">87</td><td class=\"tdhistory258550\">1</td><td class=\"tdhistory258550\">8</td><td class=\"tdhistory258550\">0.5973357</td><td class=\"tdhistory258550\">-0.5542183588683113</td><td class=\"tdhistory258550\">a</td></tr><tr><th class=\"tdhistory258550\" style= \"background: rgba(243, 243, 243, 0.75)\">129</th><td class=\"tdhistory258550\">24</td><td class=\"tdhistory258550\">1</td><td class=\"tdhistory258550\">71</td><td class=\"tdhistory258550\">0.0275495</td><td class=\"tdhistory258550\">-2.251117099673115</td><td class=\"tdhistory258550\">n</td></tr><tr><th class=\"tdhistory258550\" style= \"background: rgba(243, 243, 243, 0.75)\">130</th><td class=\"tdhistory258550\">22</td><td class=\"tdhistory258550\">0</td><td class=\"tdhistory258550\">57</td><td class=\"tdhistory258550\">0.7127537</td><td class=\"tdhistory258550\">-0.37155226198840857</td><td class=\"tdhistory258550\">a</td></tr><tr><th class=\"tdhistory258550\" style= \"background: rgba(243, 243, 243, 0.75)\">131</th><td class=\"tdhistory258550\">51</td><td class=\"tdhistory258550\">0</td><td class=\"tdhistory258550\">87</td><td class=\"tdhistory258550\">0</td><td class=\"tdhistory258550\">-4.661077166011303</td><td class=\"tdhistory258550\">n</td></tr><tr><th class=\"tdhistory258550\" style= \"background: rgba(243, 243, 243, 0.75)\">132</th><td class=\"tdhistory258550\">30</td><td class=\"tdhistory258550\">0</td><td class=\"tdhistory258550\">57</td><td class=\"tdhistory258550\">0.134039</td><td class=\"tdhistory258550\">-1.523189487616873</td><td class=\"tdhistory258550\">a</td></tr><tr><th class=\"tdhistory258550\" style= \"background: rgba(243, 243, 243, 0.75)\">133</th><td class=\"tdhistory258550\">71</td><td class=\"tdhistory258550\">1</td><td class=\"tdhistory258550\">62</td><td class=\"tdhistory258550\">0.0001833</td><td class=\"tdhistory258550\">-3.9795200511271416</td><td class=\"tdhistory258550\">n</td></tr><tr><th class=\"tdhistory258550\" style= \"background: rgba(243, 243, 243, 0.75)\">134</th><td class=\"tdhistory258550\">78</td><td class=\"tdhistory258550\">1</td><td class=\"tdhistory258550\">29</td><td class=\"tdhistory258550\">0.0049756</td><td class=\"tdhistory258550\">-3.042291228131736</td><td class=\"tdhistory258550\">n</td></tr><tr><th class=\"tdhistory258550\" style= \"background: rgba(243, 243, 243, 0.75)\">135</th><td class=\"tdhistory258550\">86</td><td class=\"tdhistory258550\">0</td><td class=\"tdhistory258550\">15</td><td class=\"tdhistory258550\">0.0164588</td><td class=\"tdhistory258550\">-2.6984705704142558</td><td class=\"tdhistory258550\">n</td></tr><tr><th class=\"tdhistory258550\" style= \"background: rgba(243, 243, 243, 0.75)\">136</th><td class=\"tdhistory258550\">44</td><td class=\"tdhistory258550\">0</td><td class=\"tdhistory258550\">88</td><td class=\"tdhistory258550\">0.002372</td><td class=\"tdhistory258550\">-3.1273574324187483</td><td class=\"tdhistory258550\">n</td></tr><tr><th class=\"tdhistory258550\" style= \"background: rgba(243, 243, 243, 0.75)\">137</th><td class=\"tdhistory258550\">86</td><td class=\"tdhistory258550\">1</td><td class=\"tdhistory258550\">7</td><td class=\"tdhistory258550\">0.1368472</td><td class=\"tdhistory258550\">-1.6810328952966413</td><td class=\"tdhistory258550\">a</td></tr><tr><th class=\"tdhistory258550\" style= \"background: rgba(243, 243, 243, 0.75)\">138</th><td class=\"tdhistory258550\">14</td><td class=\"tdhistory258550\">0</td><td class=\"tdhistory258550\">57</td><td class=\"tdhistory258550\">0.0112496</td><td class=\"tdhistory258550\">2.6246422071530566</td><td class=\"tdhistory258550\">p</td></tr><tr><th class=\"tdhistory258550\" style= \"background: rgba(243, 243, 243, 0.75)\">139</th><td class=\"tdhistory258550\">58</td><td class=\"tdhistory258550\">0</td><td class=\"tdhistory258550\">93</td><td class=\"tdhistory258550\">0.0541878</td><td class=\"tdhistory258550\">-1.9456766189714712</td><td class=\"tdhistory258550\">a</td></tr><tr><th class=\"tdhistory258550\" style= \"background: rgba(243, 243, 243, 0.75)\">140</th><td class=\"tdhistory258550\">49</td><td class=\"tdhistory258550\">0</td><td class=\"tdhistory258550\">73</td><td class=\"tdhistory258550\">0.0001023</td><td class=\"tdhistory258550\">-4.107857878130483</td><td class=\"tdhistory258550\">n</td></tr><tr><th class=\"tdhistory258550\" style= \"background: rgba(243, 243, 243, 0.75)\">141</th><td class=\"tdhistory258550\">32</td><td class=\"tdhistory258550\">1</td><td class=\"tdhistory258550\">90</td><td class=\"tdhistory258550\">0.24509</td><td class=\"tdhistory258550\">-1.1709752915228597</td><td class=\"tdhistory258550\">a</td></tr><tr><th class=\"tdhistory258550\" style= \"background: rgba(243, 243, 243, 0.75)\">142</th><td class=\"tdhistory258550\">25</td><td class=\"tdhistory258550\">0</td><td class=\"tdhistory258550\">32</td><td class=\"tdhistory258550\">0.3854205</td><td class=\"tdhistory258550\">-0.8799985807528693</td><td class=\"tdhistory258550\">a</td></tr><tr><th class=\"tdhistory258550\" style= \"background: rgba(243, 243, 243, 0.75)\">143</th><td class=\"tdhistory258550\">13</td><td class=\"tdhistory258550\">1</td><td class=\"tdhistory258550\">37</td><td class=\"tdhistory258550\">0.0091662</td><td class=\"tdhistory258550\">2.745763970817959</td><td class=\"tdhistory258550\">p</td></tr><tr><th class=\"tdhistory258550\" style= \"background: rgba(243, 243, 243, 0.75)\">144</th><td class=\"tdhistory258550\">25</td><td class=\"tdhistory258550\">1</td><td class=\"tdhistory258550\">41</td><td class=\"tdhistory258550\">0.0948247</td><td class=\"tdhistory258550\">-1.7115806209715698</td><td class=\"tdhistory258550\">a</td></tr><tr><th class=\"tdhistory258550\" style= \"background: rgba(243, 243, 243, 0.75)\">145</th><td class=\"tdhistory258550\">70</td><td class=\"tdhistory258550\">0</td><td class=\"tdhistory258550\">45</td><td class=\"tdhistory258550\">0.5189969</td><td class=\"tdhistory258550\">-0.6513020306745494</td><td class=\"tdhistory258550\">a</td></tr><tr><th class=\"tdhistory258550\" style= \"background: rgba(243, 243, 243, 0.75)\">146</th><td class=\"tdhistory258550\">18</td><td class=\"tdhistory258550\">1</td><td class=\"tdhistory258550\">146</td><td class=\"tdhistory258550\">0</td><td class=\"tdhistory258550\">3.88007857184668</td><td class=\"tdhistory258550\">p</td></tr><tr><th class=\"tdhistory258550\" style= \"background: rgba(243, 243, 243, 0.75)\">147</th><td class=\"tdhistory258550\">21</td><td class=\"tdhistory258550\">0</td><td class=\"tdhistory258550\">70</td><td class=\"tdhistory258550\">0.2265592</td><td class=\"tdhistory258550\">-1.2185733241114733</td><td class=\"tdhistory258550\">a</td></tr><tr><th class=\"tdhistory258550\" style= \"background: rgba(243, 243, 243, 0.75)\">148</th><td class=\"tdhistory258550\">81</td><td class=\"tdhistory258550\">0</td><td class=\"tdhistory258550\">15</td><td class=\"tdhistory258550\">0.0205029</td><td class=\"tdhistory258550\">-2.589130468293594</td><td class=\"tdhistory258550\">n</td></tr><tr><th class=\"tdhistory258550\" style= \"background: rgba(243, 243, 243, 0.75)\">149</th><td class=\"tdhistory258550\">51</td><td class=\"tdhistory258550\">1</td><td class=\"tdhistory258550\">125</td><td class=\"tdhistory258550\">0</td><td class=\"tdhistory258550\">-4.715111357900299</td><td class=\"tdhistory258550\">n</td></tr><tr><th class=\"tdhistory258550\" style= \"background: rgba(243, 243, 243, 0.75)\">150</th><td class=\"tdhistory258550\">88</td><td class=\"tdhistory258550\">1</td><td class=\"tdhistory258550\">13</td><td class=\"tdhistory258550\">0.2368918</td><td class=\"tdhistory258550\">-1.2411936748771681</td><td class=\"tdhistory258550\">a</td></tr><tr><th class=\"tdhistory258550\" style= \"background: rgba(243, 243, 243, 0.75)\">151</th><td class=\"tdhistory258550\">35</td><td class=\"tdhistory258550\">0</td><td class=\"tdhistory258550\">83</td><td class=\"tdhistory258550\">0.0003375</td><td class=\"tdhistory258550\">-3.7394635368194225</td><td class=\"tdhistory258550\">n</td></tr><tr><th class=\"tdhistory258550\" style= \"background: rgba(243, 243, 243, 0.75)\">152</th><td class=\"tdhistory258550\">70</td><td class=\"tdhistory258550\">1</td><td class=\"tdhistory258550\">61</td><td class=\"tdhistory258550\">0</td><td class=\"tdhistory258550\">-5.373304366118829</td><td class=\"tdhistory258550\">n</td></tr><tr><th class=\"tdhistory258550\" style= \"background: rgba(243, 243, 243, 0.75)\">153</th><td class=\"tdhistory258550\">11</td><td class=\"tdhistory258550\">0</td><td class=\"tdhistory258550\">12</td><td class=\"tdhistory258550\">0.0335186</td><td class=\"tdhistory258550\">2.3986400290671694</td><td class=\"tdhistory258550\">p</td></tr><tr><th class=\"tdhistory258550\" style= \"background: rgba(243, 243, 243, 0.75)\">154</th><td class=\"tdhistory258550\">81</td><td class=\"tdhistory258550\">1</td><td class=\"tdhistory258550\">21</td><td class=\"tdhistory258550\">0.1646098</td><td class=\"tdhistory258550\">-1.4374024402178875</td><td class=\"tdhistory258550\">a</td></tr><tr><th class=\"tdhistory258550\" style= \"background: rgba(243, 243, 243, 0.75)\">155</th><td class=\"tdhistory258550\">21</td><td class=\"tdhistory258550\">1</td><td class=\"tdhistory258550\">80</td><td class=\"tdhistory258550\">0</td><td class=\"tdhistory258550\">-4.494000431713699</td><td class=\"tdhistory258550\">n</td></tr><tr><th class=\"tdhistory258550\" style= \"background: rgba(243, 243, 243, 0.75)\">156</th><td class=\"tdhistory258550\">85</td><td class=\"tdhistory258550\">0</td><td class=\"tdhistory258550\">23</td><td class=\"tdhistory258550\">0.0647381</td><td class=\"tdhistory258550\">-1.939644842896574</td><td class=\"tdhistory258550\">a</td></tr><tr><th class=\"tdhistory258550\" style= \"background: rgba(243, 243, 243, 0.75)\">157</th><td class=\"tdhistory258550\">60</td><td class=\"tdhistory258550\">1</td><td class=\"tdhistory258550\">96</td><td class=\"tdhistory258550\">0.0010157</td><td class=\"tdhistory258550\">-3.394647945426487</td><td class=\"tdhistory258550\">n</td></tr><tr><th class=\"tdhistory258550\" style= \"background: rgba(243, 243, 243, 0.75)\">158</th><td class=\"tdhistory258550\">42</td><td class=\"tdhistory258550\">0</td><td class=\"tdhistory258550\">67</td><td class=\"tdhistory258550\">0</td><td class=\"tdhistory258550\">-4.211796282429227</td><td class=\"tdhistory258550\">n</td></tr><tr><th class=\"tdhistory258550\" style= \"background: rgba(243, 243, 243, 0.75)\">159</th><td class=\"tdhistory258550\">11</td><td class=\"tdhistory258550\">1</td><td class=\"tdhistory258550\">18</td><td class=\"tdhistory258550\">0.0061793</td><td class=\"tdhistory258550\">3.104019356946221</td><td class=\"tdhistory258550\">p</td></tr><tr><th class=\"tdhistory258550\" style= \"background: rgba(243, 243, 243, 0.75)\">160</th><td class=\"tdhistory258550\">83</td><td class=\"tdhistory258550\">0</td><td class=\"tdhistory258550\">19</td><td class=\"tdhistory258550\">0.0446447</td><td class=\"tdhistory258550\">-2.1457788047169233</td><td class=\"tdhistory258550\">n</td></tr><tr><th class=\"tdhistory258550\" style= \"background: rgba(243, 243, 243, 0.75)\">161</th><td class=\"tdhistory258550\">60</td><td class=\"tdhistory258550\">0</td><td class=\"tdhistory258550\">92</td><td class=\"tdhistory258550\">0</td><td class=\"tdhistory258550\">-4.258888739610543</td><td class=\"tdhistory258550\">n</td></tr><tr><th class=\"tdhistory258550\" style= \"background: rgba(243, 243, 243, 0.75)\">162</th><td class=\"tdhistory258550\">43</td><td class=\"tdhistory258550\">0</td><td class=\"tdhistory258550\">63</td><td class=\"tdhistory258550\">0.035401</td><td class=\"tdhistory258550\">-2.1475904037515345</td><td class=\"tdhistory258550\">n</td></tr><tr><th class=\"tdhistory258550\" style= \"background: rgba(243, 243, 243, 0.75)\">163</th><td class=\"tdhistory258550\">55</td><td class=\"tdhistory258550\">0</td><td class=\"tdhistory258550\">97</td><td class=\"tdhistory258550\">0</td><td class=\"tdhistory258550\">-5.784851346128433</td><td class=\"tdhistory258550\">n</td></tr><tr><th class=\"tdhistory258550\" style= \"background: rgba(243, 243, 243, 0.75)\">164</th><td class=\"tdhistory258550\">41</td><td class=\"tdhistory258550\">1</td><td class=\"tdhistory258550\">125</td><td class=\"tdhistory258550\">0</td><td class=\"tdhistory258550\">-1.5361087497978672</td><td class=\"tdhistory258550\">n</td></tr><tr><th class=\"tdhistory258550\" style= \"background: rgba(243, 243, 243, 0.75)\">165</th><td class=\"tdhistory258550\">46</td><td class=\"tdhistory258550\">0</td><td class=\"tdhistory258550\">85</td><td class=\"tdhistory258550\">0</td><td class=\"tdhistory258550\">-4.332325340125757</td><td class=\"tdhistory258550\">n</td></tr><tr><th class=\"tdhistory258550\" style= \"background: rgba(243, 243, 243, 0.75)\">166</th><td class=\"tdhistory258550\">53</td><td class=\"tdhistory258550\">1</td><td class=\"tdhistory258550\">105</td><td class=\"tdhistory258550\">0</td><td class=\"tdhistory258550\">-4.527210354661868</td><td class=\"tdhistory258550\">n</td></tr><tr><th class=\"tdhistory258550\" style= \"background: rgba(243, 243, 243, 0.75)\">167</th><td class=\"tdhistory258550\">59</td><td class=\"tdhistory258550\">0</td><td class=\"tdhistory258550\">80</td><td class=\"tdhistory258550\">0</td><td class=\"tdhistory258550\">-4.809246673642799</td><td class=\"tdhistory258550\">n</td></tr><tr><th class=\"tdhistory258550\" style= \"background: rgba(243, 243, 243, 0.75)\">168</th><td class=\"tdhistory258550\">19</td><td class=\"tdhistory258550\">1</td><td class=\"tdhistory258550\">125</td><td class=\"tdhistory258550\">0</td><td class=\"tdhistory258550\">1.7623795152739916</td><td class=\"tdhistory258550\">p</td></tr><tr><th class=\"tdhistory258550\" style= \"background: rgba(243, 243, 243, 0.75)\">169</th><td class=\"tdhistory258550\">15</td><td class=\"tdhistory258550\">1</td><td class=\"tdhistory258550\">100</td><td class=\"tdhistory258550\">0</td><td class=\"tdhistory258550\">4.911359364701502</td><td class=\"tdhistory258550\">p</td></tr><tr><th class=\"tdhistory258550\" style= \"background: rgba(243, 243, 243, 0.75)\">170</th><td class=\"tdhistory258550\">20</td><td class=\"tdhistory258550\">0</td><td class=\"tdhistory258550\">102</td><td class=\"tdhistory258550\">0</td><td class=\"tdhistory258550\">4.3080863466550845</td><td class=\"tdhistory258550\">p</td></tr></tbody></table></div>"
      ]
     },
     "execution_count": 30,
     "metadata": {
      "application/vnd.teradata.resultset": "{\"resultSetID\":\"/home/jovyan/JupyterLabRoot/Teradata/Resultsets/2022.09.16_21.02.31.067_UTC\",\"historyID\":332,\"chunkID\":\"00001\",\"sessionid\":\"\",\"portnum\":\"\",\"dockermode\":\"docker\",\"totalRowCount\":170,\"chunkCount\":0,\"rowLimit\":0,\"columnMetadata\":[{\"columnName\":\"tot_age\",\"columnTypeName\":\"INTEGER\"},{\"columnNumber\":1,\"columnName\":\"female_ind\",\"columnTypeName\":\"BYTEINT\"},{\"columnNumber\":2,\"columnName\":\"D_F\",\"columnTypeName\":\"FLOAT\"},{\"columnNumber\":3,\"columnName\":\"TTestPValue\",\"columnTypeName\":\"FLOAT\"},{\"columnNumber\":4,\"columnName\":\"T\",\"columnTypeName\":\"FLOAT\"},{\"columnNumber\":5,\"columnName\":\"TTestCallP_0.05\",\"columnTypeName\":\"VARCHAR\",\"length\":1,\"scale\":1}]}"
     },
     "output_type": "execute_result"
    }
   ],
   "source": [
    "call ${VALDB}.td_analyze('ParametricTest', \n",
    "                         'database=${QLID};\n",
    "                          tablename=VAL_ADS;\n",
    "                          firstcolumn=cc_avg_bal;\n",
    "                          secondcolumn=sv_avg_bal;\n",
    "                          paired=true;\n",
    "                          equalvariance=true;\n",
    "                          groupby=tot_age,female_ind;\n",
    "                          statsdatabase=${VALDB};');"
   ]
  },
  {
   "cell_type": "markdown",
   "metadata": {},
   "source": [
    "2.  One-Way F-Test producing an unpersisted result set."
   ]
  },
  {
   "cell_type": "code",
   "execution_count": 31,
   "metadata": {},
   "outputs": [
    {
     "data": {
      "text/plain": [
       "Success: 0 rows affected"
      ]
     },
     "execution_count": 31,
     "metadata": {
      "application/vnd.teradata.resultset": ""
     },
     "output_type": "execute_result"
    },
    {
     "ename": "WARNING",
     "evalue": "[Teradata Database] [Warning 3212] The stored procedure returned one or more result sets.",
     "output_type": "error",
     "traceback": [
      "[Teradata Database] [Warning 3212] The stored procedure returned one or more result sets."
     ]
    },
    {
     "data": {
      "application/vnd.teradata.resultset": "\"gender\",\"DF\",\"DFErr\",\"F\",\"FPValue\",\"FPText\",\"FCallP_0.01\"\n\"F\",\"14\",\"5837\",\"7.339460843404131\",\"0.001\",\"<0.001\",\"p\"\n\"M\",\"14\",\"4591\",\"4.946361887968074\",\"0.001\",\"<0.001\",\"p\"",
      "text/html": [
       "<div class = \"td-resultset-table-div\" style = \"max-height: 100%; overflow-y: auto\">\n",
       "      <table class=\"tdhistory866764\"><style>\n",
       "      table.tdhistory866764 { display: block !important; min-height: 126px !important; overflow: auto !important; height: 126px !important; width: 100% !important; border: 1px solid rgb(207, 207, 207) !important; border-collapse: collapse !important; ; color: var(--jp-ui-font-color1) !important; }\n",
       "      th.tdhistory866764 { border: 1px solid rgb(198,198,198) !important; border-collapse: collapse !important; ; padding: 2px 5px !important; ; font-size: 13px !important; ; text-align: center !important; white-space: normal !important; color: var(--jp-ui-font-color1) !important; }\n",
       "      th.tdhistory866764:last-child { text-align: left !important; }\n",
       "      tbody.tdhistory866764 tr:nth-child(even) { background: rgba(243, 243, 243, 0.75) !important; }\n",
       "      tbody.tdhistory866764 tr:nth-child(odd) { background: var(--jp-ui-inverse-font-color1) !important; }\n",
       "      td.tdhistory866764 { border: 1px solid rgb(207, 207, 207) !important; border-collapse: collapse !important; ; padding: 2px 5px !important; ; font-size: 13px !important; ; text-align: left !important;          white-space: nowrap !important; overflow:hidden !important; text-overflow:ellipsis !important;; }\n",
       "    </style><thead><tr style= \"background: rgba(243, 243, 243, 0.75)\"><th class=\"tdhistory866764\"></th><th class=\"tdhistory866764\">gender</th><th class=\"tdhistory866764\">DF</th><th class=\"tdhistory866764\">DFErr</th><th class=\"tdhistory866764\">F</th><th class=\"tdhistory866764\">FPValue</th><th class=\"tdhistory866764\">FPText</th><th class=\"tdhistory866764\">FCallP_0.01</th></tr></thead><tbody class=\"tdhistory866764 resultset-body\"><tr><th class=\"tdhistory866764\" style= \"background: rgba(243, 243, 243, 0.75)\">1</th><td class=\"tdhistory866764\">F</td><td class=\"tdhistory866764\">14</td><td class=\"tdhistory866764\">5837</td><td class=\"tdhistory866764\">7.339460843404131</td><td class=\"tdhistory866764\">0.001</td><td class=\"tdhistory866764\"><0.001</td><td class=\"tdhistory866764\">p</td></tr><tr><th class=\"tdhistory866764\" style= \"background: rgba(243, 243, 243, 0.75)\">2</th><td class=\"tdhistory866764\">M</td><td class=\"tdhistory866764\">14</td><td class=\"tdhistory866764\">4591</td><td class=\"tdhistory866764\">4.946361887968074</td><td class=\"tdhistory866764\">0.001</td><td class=\"tdhistory866764\"><0.001</td><td class=\"tdhistory866764\">p</td></tr></tbody></table></div>"
      ]
     },
     "execution_count": 31,
     "metadata": {
      "application/vnd.teradata.resultset": "{\"resultSetID\":\"/home/jovyan/JupyterLabRoot/Teradata/Resultsets/2022.09.16_21.02.47.906_UTC\",\"historyID\":333,\"chunkID\":\"00001\",\"sessionid\":\"\",\"portnum\":\"\",\"dockermode\":\"docker\",\"totalRowCount\":2,\"chunkCount\":0,\"rowLimit\":0,\"columnMetadata\":[{\"columnName\":\"gender\",\"columnTypeName\":\"VARCHAR\",\"length\":1,\"scale\":1},{\"columnNumber\":1,\"columnName\":\"DF\",\"columnTypeName\":\"FLOAT\"},{\"columnNumber\":2,\"columnName\":\"DFErr\",\"columnTypeName\":\"FLOAT\"},{\"columnNumber\":3,\"columnName\":\"F\",\"columnTypeName\":\"FLOAT\"},{\"columnNumber\":4,\"columnName\":\"FPValue\",\"columnTypeName\":\"FLOAT\"},{\"columnNumber\":5,\"columnName\":\"FPText\",\"columnTypeName\":\"VARCHAR\",\"length\":6,\"scale\":6},{\"columnNumber\":6,\"columnName\":\"FCallP_0.01\",\"columnTypeName\":\"VARCHAR\",\"length\":1,\"scale\":1}]}"
     },
     "output_type": "execute_result"
    }
   ],
   "source": [
    "call ${VALDB}.td_analyze('ParametricTest',\n",
    "                         'teststyle=fnway;\n",
    "                          database=${XSPDB};\n",
    "                          tablename=Customer;\n",
    "                          columnofinterest=income;\n",
    "                          columns=years_with_bank;\n",
    "                          groupby=gender;\n",
    "                          thresholdprobability=0.01;\n",
    "                          statsdatabase=${VALDB};');"
   ]
  },
  {
   "cell_type": "markdown",
   "metadata": {},
   "source": [
    "3.  2-way F-Test with Unequal Cell Counts producing an unpersisted result set."
   ]
  },
  {
   "cell_type": "code",
   "execution_count": 32,
   "metadata": {},
   "outputs": [
    {
     "data": {
      "text/plain": [
       "Success: 0 rows affected"
      ]
     },
     "execution_count": 32,
     "metadata": {
      "application/vnd.teradata.resultset": ""
     },
     "output_type": "execute_result"
    },
    {
     "ename": "WARNING",
     "evalue": "[Teradata Database] [Warning 3212] The stored procedure returned one or more result sets.",
     "output_type": "error",
     "traceback": [
      "[Teradata Database] [Warning 3212] The stored procedure returned one or more result sets."
     ]
    },
    {
     "data": {
      "application/vnd.teradata.resultset": "\"DF\",\"Fmodel\",\"DFErr\",\"DF_1\",\"F1\",\"DF_2\",\"F2\",\"DF_12\",\"F12\",\"Fmodel_PValue\",\"Fmodel_PText\",\"Fmodel_CallP_0.05\",\"F1_PValue\",\"F1_PText\",\"F1_CallP_0.05\",\"F2_PValue\",\"F2_PText\",\"F2_CallP_0.05\",\"F12_PValue\",\"F12_PText\",\"F12_CallP_0.05\"\n\"15\",\"9.710997531996655\",\"7330\",\"7\",\"11.561359030335888\",\"1\",\"51.83852316974105\",\"7\",\"1.8424180854082204\",\"0.001\",\"<0.001\",\"p\",\"0.001\",\"<0.001\",\"p\",\"0.001\",\"<0.001\",\"p\",\"0.07854148392066758\",\"\",\"a\"",
      "text/html": [
       "<div class = \"td-resultset-table-div\" style = \"max-height: 100%; overflow-y: auto\">\n",
       "      <table class=\"tdhistory185858\"><style>\n",
       "      table.tdhistory185858 { display: block !important; min-height: 105px !important; overflow: auto !important; height: 105px !important; width: 100% !important; border: 1px solid rgb(207, 207, 207) !important; border-collapse: collapse !important; ; color: var(--jp-ui-font-color1) !important; }\n",
       "      th.tdhistory185858 { border: 1px solid rgb(198,198,198) !important; border-collapse: collapse !important; ; padding: 2px 5px !important; ; font-size: 13px !important; ; text-align: center !important; white-space: normal !important; color: var(--jp-ui-font-color1) !important; }\n",
       "      th.tdhistory185858:last-child { text-align: left !important; }\n",
       "      tbody.tdhistory185858 tr:nth-child(even) { background: rgba(243, 243, 243, 0.75) !important; }\n",
       "      tbody.tdhistory185858 tr:nth-child(odd) { background: var(--jp-ui-inverse-font-color1) !important; }\n",
       "      td.tdhistory185858 { border: 1px solid rgb(207, 207, 207) !important; border-collapse: collapse !important; ; padding: 2px 5px !important; ; font-size: 13px !important; ; text-align: left !important;          white-space: nowrap !important; overflow:hidden !important; text-overflow:ellipsis !important;; }\n",
       "    </style><thead><tr style= \"background: rgba(243, 243, 243, 0.75)\"><th class=\"tdhistory185858\"></th><th class=\"tdhistory185858\">DF</th><th class=\"tdhistory185858\">Fmodel</th><th class=\"tdhistory185858\">DFErr</th><th class=\"tdhistory185858\">DF_1</th><th class=\"tdhistory185858\">F1</th><th class=\"tdhistory185858\">DF_2</th><th class=\"tdhistory185858\">F2</th><th class=\"tdhistory185858\">DF_12</th><th class=\"tdhistory185858\">F12</th><th class=\"tdhistory185858\">Fmodel_PValue</th><th class=\"tdhistory185858\">Fmodel_PText</th><th class=\"tdhistory185858\">Fmodel_CallP_0.05</th><th class=\"tdhistory185858\">F1_PValue</th><th class=\"tdhistory185858\">F1_PText</th><th class=\"tdhistory185858\">F1_CallP_0.05</th><th class=\"tdhistory185858\">F2_PValue</th><th class=\"tdhistory185858\">F2_PText</th><th class=\"tdhistory185858\">F2_CallP_0.05</th><th class=\"tdhistory185858\">F12_PValue</th><th class=\"tdhistory185858\">F12_PText</th><th class=\"tdhistory185858\">F12_CallP_0.05</th></tr></thead><tbody class=\"tdhistory185858 resultset-body\"><tr><th class=\"tdhistory185858\" style= \"background: rgba(243, 243, 243, 0.75)\">1</th><td class=\"tdhistory185858\">15</td><td class=\"tdhistory185858\">9.710997531996655</td><td class=\"tdhistory185858\">7330</td><td class=\"tdhistory185858\">7</td><td class=\"tdhistory185858\">11.561359030335888</td><td class=\"tdhistory185858\">1</td><td class=\"tdhistory185858\">51.83852316974105</td><td class=\"tdhistory185858\">7</td><td class=\"tdhistory185858\">1.8424180854082204</td><td class=\"tdhistory185858\">0.001</td><td class=\"tdhistory185858\"><0.001</td><td class=\"tdhistory185858\">p</td><td class=\"tdhistory185858\">0.001</td><td class=\"tdhistory185858\"><0.001</td><td class=\"tdhistory185858\">p</td><td class=\"tdhistory185858\">0.001</td><td class=\"tdhistory185858\"><0.001</td><td class=\"tdhistory185858\">p</td><td class=\"tdhistory185858\">0.07854148392066758</td><td class=\"tdhistory185858\"></td><td class=\"tdhistory185858\">a</td></tr></tbody></table></div>"
      ]
     },
     "execution_count": 32,
     "metadata": {
      "application/vnd.teradata.resultset": "{\"resultSetID\":\"/home/jovyan/JupyterLabRoot/Teradata/Resultsets/2022.09.16_21.03.10.803_UTC\",\"historyID\":334,\"chunkID\":\"00001\",\"sessionid\":\"\",\"portnum\":\"\",\"dockermode\":\"docker\",\"totalRowCount\":1,\"chunkCount\":0,\"rowLimit\":0,\"columnMetadata\":[{\"columnName\":\"DF\",\"columnTypeName\":\"INTEGER\"},{\"columnNumber\":1,\"columnName\":\"Fmodel\",\"columnTypeName\":\"FLOAT\"},{\"columnNumber\":2,\"columnName\":\"DFErr\",\"columnTypeName\":\"INTEGER\"},{\"columnNumber\":3,\"columnName\":\"DF_1\",\"columnTypeName\":\"INTEGER\"},{\"columnNumber\":4,\"columnName\":\"F1\",\"columnTypeName\":\"FLOAT\"},{\"columnNumber\":5,\"columnName\":\"DF_2\",\"columnTypeName\":\"INTEGER\"},{\"columnNumber\":6,\"columnName\":\"F2\",\"columnTypeName\":\"FLOAT\"},{\"columnNumber\":7,\"columnName\":\"DF_12\",\"columnTypeName\":\"INTEGER\"},{\"columnNumber\":8,\"columnName\":\"F12\",\"columnTypeName\":\"FLOAT\"},{\"columnNumber\":9,\"columnName\":\"Fmodel_PValue\",\"columnTypeName\":\"FLOAT\"},{\"columnNumber\":10,\"columnName\":\"Fmodel_PText\",\"columnTypeName\":\"VARCHAR\",\"length\":6,\"scale\":6},{\"columnNumber\":11,\"columnName\":\"Fmodel_CallP_0.05\",\"columnTypeName\":\"VARCHAR\",\"length\":1,\"scale\":1},{\"columnNumber\":12,\"columnName\":\"F1_PValue\",\"columnTypeName\":\"FLOAT\"},{\"columnNumber\":13,\"columnName\":\"F1_PText\",\"columnTypeName\":\"VARCHAR\",\"length\":6,\"scale\":6},{\"columnNumber\":14,\"columnName\":\"F1_CallP_0.05\",\"columnTypeName\":\"VARCHAR\",\"length\":1,\"scale\":1},{\"columnNumber\":15,\"columnName\":\"F2_PValue\",\"columnTypeName\":\"FLOAT\"},{\"columnNumber\":16,\"columnName\":\"F2_PText\",\"columnTypeName\":\"VARCHAR\",\"length\":6,\"scale\":6},{\"columnNumber\":17,\"columnName\":\"F2_CallP_0.05\",\"columnTypeName\":\"VARCHAR\",\"length\":1,\"scale\":1},{\"columnNumber\":18,\"columnName\":\"F12_PValue\",\"columnTypeName\":\"FLOAT\"},{\"columnNumber\":19,\"columnName\":\"F12_PText\",\"columnTypeName\":\"VARCHAR\",\"length\":6,\"scale\":6},{\"columnNumber\":20,\"columnName\":\"F12_CallP_0.05\",\"columnTypeName\":\"VARCHAR\",\"length\":1,\"scale\":1}]}"
     },
     "output_type": "execute_result"
    }
   ],
   "source": [
    "call ${VALDB}.td_analyze('ParametricTest',\n",
    "                         'teststyle=f2way;\n",
    "                          database=${XSPDB};\n",
    "                          tablename=Customer;\n",
    "                          columnofinterest=income;\n",
    "                          firstcolumn=years_with_bank;\n",
    "                          secondcolumn=gender;\n",
    "                          thresholdprobability=0.05;\n",
    "                          firstcolumnvalues=0,1,2,3,4,5,6,7;\n",
    "                          secondcolumnvalues=M,F;\n",
    "                          statsdatabase=${VALDB};');"
   ]
  },
  {
   "cell_type": "markdown",
   "metadata": {},
   "source": [
    "---"
   ]
  },
  {
   "cell_type": "markdown",
   "metadata": {},
   "source": [
    "### Rank Tests\n",
    "\n",
    "#### Purpose\n",
    "\n",
    "Statistical tests of this type calculate statistics based on the rank of variables rather than variable values.  In general, data that are ranked and ordinal may be analyzed by these tests.  Within some restraints, either numeric or non-numeric data may be analyzed.  Supported rank tests include the following:\n",
    "\n",
    "- Mann-Whitney/Kruskal-Wallis Test\n",
    "- Wilcoxon Signed Ranks Test\n",
    "- Friedman Test with Kendall’s Coefficient of Concordance & Spearmans’ Rho\n",
    "\n",
    "The choice between the Mann-Whitney and Kruskal-Wallis tests is made automatically, looking at the number of distinct values of the independent variable.  A variation of the Mann-Whitney test considers each requested variable individually, rather than combined, performing a series of independent tests.\n",
    "\n",
    "#### Required Parameters\n",
    "\n",
    "- **database**\n",
    "\n",
    "    The database containing the table to analyze.\n",
    "\n",
    "- **ranktest**\n",
    "\n",
    "    The ranktest parameter:\n",
    "    - Is required\n",
    "    - Must be the first parameter\n",
    "    - Is always enclosed in single quotes\n",
    "    \n",
    "\n",
    "- **tablename**\n",
    "\n",
    "    The table containing the columns to analyze.  It must reside in the database indicated by the database parameter.\n",
    "\n",
    "#### Optional Parameters\n",
    "\n",
    "- **blockcolumn**\n",
    "\n",
    "    Used only by the Friedman test, the column that represents blocks. They must reside in the table indicated by the tablename parameter.  Note that when pairing treatment and block column values, a division by zero error may occur if unequal cell counts are found.\n",
    "\n",
    "- **columnofinterest**\n",
    "\n",
    "    Used only by the Mann-Whitney and Friedman tests, the column specified with this parameter indicates the dependent variable. If non-numeric, it will be ranked alphanumerically.  It must reside in the table indicated by the tablename parameter.\n",
    "\n",
    "- **columns**\n",
    "\n",
    "    Used only by the Mann-Whitney test, the columns specified with this parameter represent the independent variables. They must reside in the table indicated by the tablename parameter.\n",
    "\n",
    "- **fallback**\n",
    "\n",
    "    When true, FALLBACK is requested as an attribute of the created output results table.  When false or parameter not specified, the FALLBACK attribute is not included in the create table SQL.\n",
    "\n",
    "- **firstcolumn**\n",
    "\n",
    "    Used only by the Wilcoxon test, the column that represents the first sample variable. It must reside in the table indicated by the tablename parameter.\n",
    "\n",
    "- **gensqlonly**\n",
    "\n",
    "    When true, the SQL for the requested function is returned as a result set but not run. When not specified or set to false, the SQL is run but not returned.  This parameter is not allowed when using the Mann-Whitney test.\n",
    "\n",
    "- **groupby**\n",
    "\n",
    "    One or more group-by columns may optionally be specified so that a separate result is produced for each value or combination of values in the specified column or columns.\n",
    "\n",
    "- **includezero**\n",
    "\n",
    "    Used only by the Wilcoxon test.  Ordinarily, the Wilcoxon test discards cases with zero differences.  This option, when set to true, includes these cases with the positive count. \n",
    "\n",
    "- **independent**\n",
    "\n",
    "    Used only by the Mann-Whitney test, its selection by setting independent=true, indicates that a variation of the Mann-Whitney test should be performed, considering each requested variable individually, rather than in combination, performing a series of independent tests.\n",
    "\n",
    "- **multiset**\n",
    "\n",
    "    When true, MULTISET is requested as an attribute of the created output results table.  When false or parameter not specified, the MULTISET attribute is not included in the create table SQL.\n",
    "\n",
    "- **outputdatabase**\n",
    "\n",
    "    Specifies the name of the database to contain the analysis results table.\n",
    "\n",
    "- **outputtablename**\n",
    "\n",
    "    Specifies the name of the table to store the analysis results. If not supplied, the results are returned as a result set.\n",
    "\n",
    "- **overwrite**\n",
    "\n",
    "    When overwrite is set to true or not set, the output table is dropped before creating a new one.\n",
    "\n",
    "- **secondcolumn**\n",
    "\n",
    "    Used only by the Wilcoxon test, the column that represents the second sample variable. It must reside in the table indicated by the tablename parameter.  Note that when pairing treatment and block column values, a division by zero error may occur if unequal cell counts are found.\n",
    "\n",
    "- **singletail**\n",
    "\n",
    "    Used only by the Mann-Whitney and Wilcoxon tests.  If the Mann-Whitney test becomes a Kruskall-Wallis test, the singletail option is invalid.  By default, a two-tailed test is performed.\n",
    "\n",
    "- **statsdatabase**\n",
    "\n",
    "    This is the database where the statistical test metadata tables are installed.  If not specified, the source database is searched for these metadata tables.\n",
    "\n",
    "- **teststyle**\n",
    "\n",
    "    The valid values are mw, friedman and wilcoxon, representing a Mann-Whitney, Friedman or Wilcoxon test.  If not specified, the default test style is Mann-Whitney (mw).\n",
    "\n",
    "- **thresholdprobability**\n",
    "\n",
    "    You may optionally change the threshold probability or allow it to default to 0.05.  Below this \"alpha\" probability the null hypothesis is rejected.\n",
    "\n",
    "- **treatmentcolumn**\n",
    "\n",
    "    Used only by the Friedman test, the column that represents the independent categorical variable. They must reside in the table indicated by the tablename parameter."
   ]
  },
  {
   "cell_type": "markdown",
   "metadata": {},
   "source": [
    "1.  Mann-Whitney test with a threshold probability of 0.01."
   ]
  },
  {
   "cell_type": "code",
   "execution_count": 33,
   "metadata": {},
   "outputs": [
    {
     "data": {
      "text/plain": [
       "Success: 0 rows affected"
      ]
     },
     "execution_count": 33,
     "metadata": {
      "application/vnd.teradata.resultset": ""
     },
     "output_type": "execute_result"
    },
    {
     "ename": "WARNING",
     "evalue": "[Teradata Database] [Warning 3212] The stored procedure returned one or more result sets.",
     "output_type": "error",
     "traceback": [
      "[Teradata Database] [Warning 3212] The stored procedure returned one or more result sets."
     ]
    },
    {
     "data": {
      "application/vnd.teradata.resultset": "\"years_with_bank\",\"Z\",\"MannWhitneyPValue\",\"MannWhitneyCallP_1E-2\"\n\"12\",\"-1.5058426157251128\",\"0.132067226\",\"a\"\n\"3\",\"-1.2277790991000173\",\"0.219447096\",\"a\"\n\"4\",\"-2.1776290109979204\",\"0.029405932\",\"a\"\n\"2\",\"0.2632551342578662\",\"0.792550692\",\"a\"\n\"11\",\"-1.329063927064864\",\"0.183848096\",\"a\"\n\"10\",\"-3.2379133262969324\",\"0.001203832\",\"n\"\n\"7\",\"-3.9525279885398006\",\"7.7211e-05\",\"n\"\n\"13\",\"-0.8617464449585489\",\"0.388687424\",\"a\"\n\"14\",\"-0.49966021063014066\",\"0.617075066\",\"a\"\n\"8\",\"-3.508754308300577\",\"0.00044988199999999997\",\"n\"\n\"5\",\"-2.664446116472283\",\"0.007721844\",\"n\"\n\"6\",\"-3.644272637669378\",\"0.000268502\",\"n\"\n\"9\",\"-3.1829653140323173\",\"0.001457706\",\"n\"\n\"1\",\"-0.4469203235902225\",\"0.654875104\",\"a\"\n\"0\",\"-0.05851578448193989\",\"0.952951968\",\"a\"",
      "text/html": [
       "<div class = \"td-resultset-table-div\" style = \"max-height: 100%; overflow-y: auto\">\n",
       "      <table class=\"tdhistory922253\"><style>\n",
       "      table.tdhistory922253 { display: block !important; min-height: 399px !important; overflow: auto !important; height: 399px !important; width: 100% !important; border: 1px solid rgb(207, 207, 207) !important; border-collapse: collapse !important; ; color: var(--jp-ui-font-color1) !important; }\n",
       "      th.tdhistory922253 { border: 1px solid rgb(198,198,198) !important; border-collapse: collapse !important; ; padding: 2px 5px !important; ; font-size: 13px !important; ; text-align: center !important; white-space: normal !important; color: var(--jp-ui-font-color1) !important; }\n",
       "      th.tdhistory922253:last-child { text-align: left !important; }\n",
       "      tbody.tdhistory922253 tr:nth-child(even) { background: rgba(243, 243, 243, 0.75) !important; }\n",
       "      tbody.tdhistory922253 tr:nth-child(odd) { background: var(--jp-ui-inverse-font-color1) !important; }\n",
       "      td.tdhistory922253 { border: 1px solid rgb(207, 207, 207) !important; border-collapse: collapse !important; ; padding: 2px 5px !important; ; font-size: 13px !important; ; text-align: left !important;          white-space: nowrap !important; overflow:hidden !important; text-overflow:ellipsis !important;; }\n",
       "    </style><thead><tr style= \"background: rgba(243, 243, 243, 0.75)\"><th class=\"tdhistory922253\"></th><th class=\"tdhistory922253\">years_with_bank</th><th class=\"tdhistory922253\">Z</th><th class=\"tdhistory922253\">MannWhitneyPValue</th><th class=\"tdhistory922253\">MannWhitneyCallP_1E-2</th></tr></thead><tbody class=\"tdhistory922253 resultset-body\"><tr><th class=\"tdhistory922253\" style= \"background: rgba(243, 243, 243, 0.75)\">1</th><td class=\"tdhistory922253\">12</td><td class=\"tdhistory922253\">-1.5058426157251128</td><td class=\"tdhistory922253\">0.132067226</td><td class=\"tdhistory922253\">a</td></tr><tr><th class=\"tdhistory922253\" style= \"background: rgba(243, 243, 243, 0.75)\">2</th><td class=\"tdhistory922253\">3</td><td class=\"tdhistory922253\">-1.2277790991000173</td><td class=\"tdhistory922253\">0.219447096</td><td class=\"tdhistory922253\">a</td></tr><tr><th class=\"tdhistory922253\" style= \"background: rgba(243, 243, 243, 0.75)\">3</th><td class=\"tdhistory922253\">4</td><td class=\"tdhistory922253\">-2.1776290109979204</td><td class=\"tdhistory922253\">0.029405932</td><td class=\"tdhistory922253\">a</td></tr><tr><th class=\"tdhistory922253\" style= \"background: rgba(243, 243, 243, 0.75)\">4</th><td class=\"tdhistory922253\">2</td><td class=\"tdhistory922253\">0.2632551342578662</td><td class=\"tdhistory922253\">0.792550692</td><td class=\"tdhistory922253\">a</td></tr><tr><th class=\"tdhistory922253\" style= \"background: rgba(243, 243, 243, 0.75)\">5</th><td class=\"tdhistory922253\">11</td><td class=\"tdhistory922253\">-1.329063927064864</td><td class=\"tdhistory922253\">0.183848096</td><td class=\"tdhistory922253\">a</td></tr><tr><th class=\"tdhistory922253\" style= \"background: rgba(243, 243, 243, 0.75)\">6</th><td class=\"tdhistory922253\">10</td><td class=\"tdhistory922253\">-3.2379133262969324</td><td class=\"tdhistory922253\">0.001203832</td><td class=\"tdhistory922253\">n</td></tr><tr><th class=\"tdhistory922253\" style= \"background: rgba(243, 243, 243, 0.75)\">7</th><td class=\"tdhistory922253\">7</td><td class=\"tdhistory922253\">-3.9525279885398006</td><td class=\"tdhistory922253\">7.7211e-05</td><td class=\"tdhistory922253\">n</td></tr><tr><th class=\"tdhistory922253\" style= \"background: rgba(243, 243, 243, 0.75)\">8</th><td class=\"tdhistory922253\">13</td><td class=\"tdhistory922253\">-0.8617464449585489</td><td class=\"tdhistory922253\">0.388687424</td><td class=\"tdhistory922253\">a</td></tr><tr><th class=\"tdhistory922253\" style= \"background: rgba(243, 243, 243, 0.75)\">9</th><td class=\"tdhistory922253\">14</td><td class=\"tdhistory922253\">-0.49966021063014066</td><td class=\"tdhistory922253\">0.617075066</td><td class=\"tdhistory922253\">a</td></tr><tr><th class=\"tdhistory922253\" style= \"background: rgba(243, 243, 243, 0.75)\">10</th><td class=\"tdhistory922253\">8</td><td class=\"tdhistory922253\">-3.508754308300577</td><td class=\"tdhistory922253\">0.00044988199999999997</td><td class=\"tdhistory922253\">n</td></tr><tr><th class=\"tdhistory922253\" style= \"background: rgba(243, 243, 243, 0.75)\">11</th><td class=\"tdhistory922253\">5</td><td class=\"tdhistory922253\">-2.664446116472283</td><td class=\"tdhistory922253\">0.007721844</td><td class=\"tdhistory922253\">n</td></tr><tr><th class=\"tdhistory922253\" style= \"background: rgba(243, 243, 243, 0.75)\">12</th><td class=\"tdhistory922253\">6</td><td class=\"tdhistory922253\">-3.644272637669378</td><td class=\"tdhistory922253\">0.000268502</td><td class=\"tdhistory922253\">n</td></tr><tr><th class=\"tdhistory922253\" style= \"background: rgba(243, 243, 243, 0.75)\">13</th><td class=\"tdhistory922253\">9</td><td class=\"tdhistory922253\">-3.1829653140323173</td><td class=\"tdhistory922253\">0.001457706</td><td class=\"tdhistory922253\">n</td></tr><tr><th class=\"tdhistory922253\" style= \"background: rgba(243, 243, 243, 0.75)\">14</th><td class=\"tdhistory922253\">1</td><td class=\"tdhistory922253\">-0.4469203235902225</td><td class=\"tdhistory922253\">0.654875104</td><td class=\"tdhistory922253\">a</td></tr><tr><th class=\"tdhistory922253\" style= \"background: rgba(243, 243, 243, 0.75)\">15</th><td class=\"tdhistory922253\">0</td><td class=\"tdhistory922253\">-0.05851578448193989</td><td class=\"tdhistory922253\">0.952951968</td><td class=\"tdhistory922253\">a</td></tr></tbody></table></div>"
      ]
     },
     "execution_count": 33,
     "metadata": {
      "application/vnd.teradata.resultset": "{\"resultSetID\":\"/home/jovyan/JupyterLabRoot/Teradata/Resultsets/2022.09.16_21.03.20.309_UTC\",\"historyID\":335,\"chunkID\":\"00001\",\"sessionid\":\"\",\"portnum\":\"\",\"dockermode\":\"docker\",\"totalRowCount\":15,\"chunkCount\":0,\"rowLimit\":0,\"columnMetadata\":[{\"columnName\":\"years_with_bank\",\"columnTypeName\":\"INTEGER\"},{\"columnNumber\":1,\"columnName\":\"Z\",\"columnTypeName\":\"FLOAT\"},{\"columnNumber\":2,\"columnName\":\"MannWhitneyPValue\",\"columnTypeName\":\"FLOAT\"},{\"columnNumber\":3,\"columnName\":\"MannWhitneyCallP_1E-2\",\"columnTypeName\":\"VARCHAR\",\"length\":1,\"scale\":1}]}"
     },
     "output_type": "execute_result"
    }
   ],
   "source": [
    "call ${VALDB}.td_analyze('ranktest',\n",
    "                         'teststyle=mw;\n",
    "                          statsdatabase=${VALDB};\n",
    "                          database=${XSPDB};\n",
    "                          tablename=Customer;\n",
    "                          columnofinterest=income;\n",
    "                          columns=gender;\n",
    "                          groupby=years_with_bank;\n",
    "                          thresholdprobability=0.01;');"
   ]
  },
  {
   "cell_type": "markdown",
   "metadata": {},
   "source": [
    "2.  A set of Mann-Whitney independent tests.  The threshold probability assumes the default value of 0.05."
   ]
  },
  {
   "cell_type": "code",
   "execution_count": 34,
   "metadata": {},
   "outputs": [
    {
     "data": {
      "text/plain": [
       "Success: 0 rows affected"
      ]
     },
     "execution_count": 34,
     "metadata": {
      "application/vnd.teradata.resultset": ""
     },
     "output_type": "execute_result"
    },
    {
     "ename": "WARNING",
     "evalue": "[Teradata Database] [Warning 3212] The stored procedure returned one or more result sets.",
     "output_type": "error",
     "traceback": [
      "[Teradata Database] [Warning 3212] The stored procedure returned one or more result sets."
     ]
    },
    {
     "data": {
      "application/vnd.teradata.resultset": "\"_twm_independent_variable\",\"Z\",\"MannWhitneyPValue\",\"MannWhitneyCallP_5E-2\"\n\"female_ind                    \",\"7.771020590981125\",\"6e-07\",\"p\"\n\"sv_acct_ind\",\"9.377586778932272\",\"6e-07\",\"p\"\n\"cc_acct_ind\",\"-19.115808047105958\",\"6e-07\",\"n\"\n\"ck_acct_ind\",\"-16.06418788422782\",\"6e-07\",\"n\"",
      "text/html": [
       "<div class = \"td-resultset-table-div\" style = \"max-height: 100%; overflow-y: auto\">\n",
       "      <table class=\"tdhistory460173\"><style>\n",
       "      table.tdhistory460173 { display: block !important; min-height: 168px !important; overflow: auto !important; height: 168px !important; width: 100% !important; border: 1px solid rgb(207, 207, 207) !important; border-collapse: collapse !important; ; color: var(--jp-ui-font-color1) !important; }\n",
       "      th.tdhistory460173 { border: 1px solid rgb(198,198,198) !important; border-collapse: collapse !important; ; padding: 2px 5px !important; ; font-size: 13px !important; ; text-align: center !important; white-space: normal !important; color: var(--jp-ui-font-color1) !important; }\n",
       "      th.tdhistory460173:last-child { text-align: left !important; }\n",
       "      tbody.tdhistory460173 tr:nth-child(even) { background: rgba(243, 243, 243, 0.75) !important; }\n",
       "      tbody.tdhistory460173 tr:nth-child(odd) { background: var(--jp-ui-inverse-font-color1) !important; }\n",
       "      td.tdhistory460173 { border: 1px solid rgb(207, 207, 207) !important; border-collapse: collapse !important; ; padding: 2px 5px !important; ; font-size: 13px !important; ; text-align: left !important;          white-space: nowrap !important; overflow:hidden !important; text-overflow:ellipsis !important;; }\n",
       "    </style><thead><tr style= \"background: rgba(243, 243, 243, 0.75)\"><th class=\"tdhistory460173\"></th><th class=\"tdhistory460173\">_twm_independent_variable</th><th class=\"tdhistory460173\">Z</th><th class=\"tdhistory460173\">MannWhitneyPValue</th><th class=\"tdhistory460173\">MannWhitneyCallP_5E-2</th></tr></thead><tbody class=\"tdhistory460173 resultset-body\"><tr><th class=\"tdhistory460173\" style= \"background: rgba(243, 243, 243, 0.75)\">1</th><td class=\"tdhistory460173\">female_ind                    </td><td class=\"tdhistory460173\">7.771020590981125</td><td class=\"tdhistory460173\">6e-07</td><td class=\"tdhistory460173\">p</td></tr><tr><th class=\"tdhistory460173\" style= \"background: rgba(243, 243, 243, 0.75)\">2</th><td class=\"tdhistory460173\">sv_acct_ind</td><td class=\"tdhistory460173\">9.377586778932272</td><td class=\"tdhistory460173\">6e-07</td><td class=\"tdhistory460173\">p</td></tr><tr><th class=\"tdhistory460173\" style= \"background: rgba(243, 243, 243, 0.75)\">3</th><td class=\"tdhistory460173\">cc_acct_ind</td><td class=\"tdhistory460173\">-19.115808047105958</td><td class=\"tdhistory460173\">6e-07</td><td class=\"tdhistory460173\">n</td></tr><tr><th class=\"tdhistory460173\" style= \"background: rgba(243, 243, 243, 0.75)\">4</th><td class=\"tdhistory460173\">ck_acct_ind</td><td class=\"tdhistory460173\">-16.06418788422782</td><td class=\"tdhistory460173\">6e-07</td><td class=\"tdhistory460173\">n</td></tr></tbody></table></div>"
      ]
     },
     "execution_count": 34,
     "metadata": {
      "application/vnd.teradata.resultset": "{\"resultSetID\":\"/home/jovyan/JupyterLabRoot/Teradata/Resultsets/2022.09.16_21.03.29.135_UTC\",\"historyID\":336,\"chunkID\":\"00001\",\"sessionid\":\"\",\"portnum\":\"\",\"dockermode\":\"docker\",\"totalRowCount\":4,\"chunkCount\":0,\"rowLimit\":0,\"columnMetadata\":[{\"columnName\":\"_twm_independent_variable\",\"columnTypeName\":\"VARCHAR\",\"length\":30,\"scale\":30},{\"columnNumber\":1,\"columnName\":\"Z\",\"columnTypeName\":\"FLOAT\"},{\"columnNumber\":2,\"columnName\":\"MannWhitneyPValue\",\"columnTypeName\":\"FLOAT\"},{\"columnNumber\":3,\"columnName\":\"MannWhitneyCallP_5E-2\",\"columnTypeName\":\"VARCHAR\",\"length\":1,\"scale\":1}]}"
     },
     "output_type": "execute_result"
    }
   ],
   "source": [
    "call ${VALDB}.td_analyze('ranktest',\n",
    "                         'teststyle=mw;\n",
    "                          statsdatabase=${VALDB};\n",
    "                          independent=true;\n",
    "                          database=${QLID};\n",
    "                          tablename=VAL_ADS;\n",
    "                          columnofinterest=tot_income;\n",
    "                          columns=female_ind,cc_acct_ind,ck_acct_ind,sv_acct_ind; ');"
   ]
  },
  {
   "cell_type": "markdown",
   "metadata": {},
   "source": [
    "3.  Wilcoxon Test - the threshold probability assumes the default value of 0.05."
   ]
  },
  {
   "cell_type": "code",
   "execution_count": 35,
   "metadata": {},
   "outputs": [
    {
     "data": {
      "text/plain": [
       "Success: 0 rows affected"
      ]
     },
     "execution_count": 35,
     "metadata": {
      "application/vnd.teradata.resultset": ""
     },
     "output_type": "execute_result"
    },
    {
     "ename": "WARNING",
     "evalue": "[Teradata Database] [Warning 3212] The stored procedure returned one or more result sets.",
     "output_type": "error",
     "traceback": [
      "[Teradata Database] [Warning 3212] The stored procedure returned one or more result sets."
     ]
    },
    {
     "data": {
      "application/vnd.teradata.resultset": "\"tot_cust_years\",\"N\",\"Z_\",\"WilcoxonPValue\",\"WilcoxonCallP_5E-2\"\n\"11\",\"315\",\"-8.214871312499245\",\"6e-07\",\"n\"\n\"13\",\"39\",\"-2.6793596002730693\",\"0.007384332\",\"n\"\n\"7\",\"918\",\"-11.640686617914307\",\"6e-07\",\"n\"\n\"5\",\"1010\",\"-16.95474369795407\",\"6e-07\",\"n\"\n\"9\",\"681\",\"-9.077457386798521\",\"6e-07\",\"n\"\n\"4\",\"977\",\"-18.779568835263486\",\"6e-07\",\"n\"\n\"0\",\"150\",\"-4.790039389110829\",\"1.669944e-06\",\"n\"\n\"14\",\"33\",\"-2.206676899498888\",\"0.027313964\",\"n\"\n\"3\",\"1003\",\"-17.354268985435144\",\"6e-07\",\"n\"\n\"1\",\"454\",\"-8.994275181286014\",\"6e-07\",\"n\"\n\"12\",\"147\",\"-4.46411081392879\",\"8.05146e-06\",\"n\"\n\"6\",\"960\",\"-14.602984867720217\",\"6e-07\",\"n\"\n\"10\",\"499\",\"-8.6585722063289\",\"6e-07\",\"n\"\n\"8\",\"804\",\"-9.852421542827756\",\"6e-07\",\"n\"\n\"2\",\"774\",\"-13.474895003968802\",\"6e-07\",\"n\"",
      "text/html": [
       "<div class = \"td-resultset-table-div\" style = \"max-height: 100%; overflow-y: auto\">\n",
       "      <table class=\"tdhistory810616\"><style>\n",
       "      table.tdhistory810616 { display: block !important; min-height: 399px !important; overflow: auto !important; height: 399px !important; width: 100% !important; border: 1px solid rgb(207, 207, 207) !important; border-collapse: collapse !important; ; color: var(--jp-ui-font-color1) !important; }\n",
       "      th.tdhistory810616 { border: 1px solid rgb(198,198,198) !important; border-collapse: collapse !important; ; padding: 2px 5px !important; ; font-size: 13px !important; ; text-align: center !important; white-space: normal !important; color: var(--jp-ui-font-color1) !important; }\n",
       "      th.tdhistory810616:last-child { text-align: left !important; }\n",
       "      tbody.tdhistory810616 tr:nth-child(even) { background: rgba(243, 243, 243, 0.75) !important; }\n",
       "      tbody.tdhistory810616 tr:nth-child(odd) { background: var(--jp-ui-inverse-font-color1) !important; }\n",
       "      td.tdhistory810616 { border: 1px solid rgb(207, 207, 207) !important; border-collapse: collapse !important; ; padding: 2px 5px !important; ; font-size: 13px !important; ; text-align: left !important;          white-space: nowrap !important; overflow:hidden !important; text-overflow:ellipsis !important;; }\n",
       "    </style><thead><tr style= \"background: rgba(243, 243, 243, 0.75)\"><th class=\"tdhistory810616\"></th><th class=\"tdhistory810616\">tot_cust_years</th><th class=\"tdhistory810616\">N</th><th class=\"tdhistory810616\">Z_</th><th class=\"tdhistory810616\">WilcoxonPValue</th><th class=\"tdhistory810616\">WilcoxonCallP_5E-2</th></tr></thead><tbody class=\"tdhistory810616 resultset-body\"><tr><th class=\"tdhistory810616\" style= \"background: rgba(243, 243, 243, 0.75)\">1</th><td class=\"tdhistory810616\">11</td><td class=\"tdhistory810616\">315</td><td class=\"tdhistory810616\">-8.214871312499245</td><td class=\"tdhistory810616\">6e-07</td><td class=\"tdhistory810616\">n</td></tr><tr><th class=\"tdhistory810616\" style= \"background: rgba(243, 243, 243, 0.75)\">2</th><td class=\"tdhistory810616\">13</td><td class=\"tdhistory810616\">39</td><td class=\"tdhistory810616\">-2.6793596002730693</td><td class=\"tdhistory810616\">0.007384332</td><td class=\"tdhistory810616\">n</td></tr><tr><th class=\"tdhistory810616\" style= \"background: rgba(243, 243, 243, 0.75)\">3</th><td class=\"tdhistory810616\">7</td><td class=\"tdhistory810616\">918</td><td class=\"tdhistory810616\">-11.640686617914307</td><td class=\"tdhistory810616\">6e-07</td><td class=\"tdhistory810616\">n</td></tr><tr><th class=\"tdhistory810616\" style= \"background: rgba(243, 243, 243, 0.75)\">4</th><td class=\"tdhistory810616\">5</td><td class=\"tdhistory810616\">1010</td><td class=\"tdhistory810616\">-16.95474369795407</td><td class=\"tdhistory810616\">6e-07</td><td class=\"tdhistory810616\">n</td></tr><tr><th class=\"tdhistory810616\" style= \"background: rgba(243, 243, 243, 0.75)\">5</th><td class=\"tdhistory810616\">9</td><td class=\"tdhistory810616\">681</td><td class=\"tdhistory810616\">-9.077457386798521</td><td class=\"tdhistory810616\">6e-07</td><td class=\"tdhistory810616\">n</td></tr><tr><th class=\"tdhistory810616\" style= \"background: rgba(243, 243, 243, 0.75)\">6</th><td class=\"tdhistory810616\">4</td><td class=\"tdhistory810616\">977</td><td class=\"tdhistory810616\">-18.779568835263486</td><td class=\"tdhistory810616\">6e-07</td><td class=\"tdhistory810616\">n</td></tr><tr><th class=\"tdhistory810616\" style= \"background: rgba(243, 243, 243, 0.75)\">7</th><td class=\"tdhistory810616\">0</td><td class=\"tdhistory810616\">150</td><td class=\"tdhistory810616\">-4.790039389110829</td><td class=\"tdhistory810616\">1.669944e-06</td><td class=\"tdhistory810616\">n</td></tr><tr><th class=\"tdhistory810616\" style= \"background: rgba(243, 243, 243, 0.75)\">8</th><td class=\"tdhistory810616\">14</td><td class=\"tdhistory810616\">33</td><td class=\"tdhistory810616\">-2.206676899498888</td><td class=\"tdhistory810616\">0.027313964</td><td class=\"tdhistory810616\">n</td></tr><tr><th class=\"tdhistory810616\" style= \"background: rgba(243, 243, 243, 0.75)\">9</th><td class=\"tdhistory810616\">3</td><td class=\"tdhistory810616\">1003</td><td class=\"tdhistory810616\">-17.354268985435144</td><td class=\"tdhistory810616\">6e-07</td><td class=\"tdhistory810616\">n</td></tr><tr><th class=\"tdhistory810616\" style= \"background: rgba(243, 243, 243, 0.75)\">10</th><td class=\"tdhistory810616\">1</td><td class=\"tdhistory810616\">454</td><td class=\"tdhistory810616\">-8.994275181286014</td><td class=\"tdhistory810616\">6e-07</td><td class=\"tdhistory810616\">n</td></tr><tr><th class=\"tdhistory810616\" style= \"background: rgba(243, 243, 243, 0.75)\">11</th><td class=\"tdhistory810616\">12</td><td class=\"tdhistory810616\">147</td><td class=\"tdhistory810616\">-4.46411081392879</td><td class=\"tdhistory810616\">8.05146e-06</td><td class=\"tdhistory810616\">n</td></tr><tr><th class=\"tdhistory810616\" style= \"background: rgba(243, 243, 243, 0.75)\">12</th><td class=\"tdhistory810616\">6</td><td class=\"tdhistory810616\">960</td><td class=\"tdhistory810616\">-14.602984867720217</td><td class=\"tdhistory810616\">6e-07</td><td class=\"tdhistory810616\">n</td></tr><tr><th class=\"tdhistory810616\" style= \"background: rgba(243, 243, 243, 0.75)\">13</th><td class=\"tdhistory810616\">10</td><td class=\"tdhistory810616\">499</td><td class=\"tdhistory810616\">-8.6585722063289</td><td class=\"tdhistory810616\">6e-07</td><td class=\"tdhistory810616\">n</td></tr><tr><th class=\"tdhistory810616\" style= \"background: rgba(243, 243, 243, 0.75)\">14</th><td class=\"tdhistory810616\">8</td><td class=\"tdhistory810616\">804</td><td class=\"tdhistory810616\">-9.852421542827756</td><td class=\"tdhistory810616\">6e-07</td><td class=\"tdhistory810616\">n</td></tr><tr><th class=\"tdhistory810616\" style= \"background: rgba(243, 243, 243, 0.75)\">15</th><td class=\"tdhistory810616\">2</td><td class=\"tdhistory810616\">774</td><td class=\"tdhistory810616\">-13.474895003968802</td><td class=\"tdhistory810616\">6e-07</td><td class=\"tdhistory810616\">n</td></tr></tbody></table></div>"
      ]
     },
     "execution_count": 35,
     "metadata": {
      "application/vnd.teradata.resultset": "{\"resultSetID\":\"/home/jovyan/JupyterLabRoot/Teradata/Resultsets/2022.09.16_21.03.33.550_UTC\",\"historyID\":337,\"chunkID\":\"00001\",\"sessionid\":\"\",\"portnum\":\"\",\"dockermode\":\"docker\",\"totalRowCount\":15,\"chunkCount\":0,\"rowLimit\":0,\"columnMetadata\":[{\"columnName\":\"tot_cust_years\",\"columnTypeName\":\"INTEGER\"},{\"columnNumber\":1,\"columnName\":\"N\",\"columnTypeName\":\"FLOAT\"},{\"columnNumber\":2,\"columnName\":\"Z_\",\"columnTypeName\":\"FLOAT\"},{\"columnNumber\":3,\"columnName\":\"WilcoxonPValue\",\"columnTypeName\":\"FLOAT\"},{\"columnNumber\":4,\"columnName\":\"WilcoxonCallP_5E-2\",\"columnTypeName\":\"VARCHAR\",\"length\":1,\"scale\":1}]}"
     },
     "output_type": "execute_result"
    }
   ],
   "source": [
    "call ${VALDB}.td_analyze('ranktest',\n",
    "                         'teststyle=wilcoxon;\n",
    "                          statsdatabase=${VALDB};\n",
    "                          database=${QLID};\n",
    "                          tablename=VAL_ADS;\n",
    "                          firstcolumn=ck_avg_bal;\n",
    "                          secondcolumn=sv_avg_bal;\n",
    "                          groupby=tot_cust_years; ');"
   ]
  },
  {
   "cell_type": "markdown",
   "metadata": {},
   "source": [
    "4.  A Friedman Test using a specially prepared input table called VAL_Friedman_WorkTable.  To build the VALFriedmanWorkTable, the following SQL may be used.  Note that the value ‘18’ is the smallest count of value combinations in the gender and marital_status columns in the Customer table.  The value '18'  is determined using the following query:"
   ]
  },
  {
   "cell_type": "code",
   "execution_count": 36,
   "metadata": {},
   "outputs": [
    {
     "data": {
      "application/vnd.teradata.resultset": "\"smallest_count\"\n\"252\"",
      "text/html": [
       "<div class = \"td-resultset-table-div\" style = \"max-height: 100%; overflow-y: auto\">\n",
       "      <table class=\"tdhistory446145\"><style>\n",
       "      table.tdhistory446145 { display: block !important; min-height: 105px !important; overflow: auto !important; height: 105px !important; width: 100% !important; border: 1px solid rgb(207, 207, 207) !important; border-collapse: collapse !important; ; color: var(--jp-ui-font-color1) !important; }\n",
       "      th.tdhistory446145 { border: 1px solid rgb(198,198,198) !important; border-collapse: collapse !important; ; padding: 2px 5px !important; ; font-size: 13px !important; ; text-align: center !important; white-space: normal !important; color: var(--jp-ui-font-color1) !important; }\n",
       "      th.tdhistory446145:last-child { text-align: left !important; }\n",
       "      tbody.tdhistory446145 tr:nth-child(even) { background: rgba(243, 243, 243, 0.75) !important; }\n",
       "      tbody.tdhistory446145 tr:nth-child(odd) { background: var(--jp-ui-inverse-font-color1) !important; }\n",
       "      td.tdhistory446145 { border: 1px solid rgb(207, 207, 207) !important; border-collapse: collapse !important; ; padding: 2px 5px !important; ; font-size: 13px !important; ; text-align: left !important;          white-space: nowrap !important; overflow:hidden !important; text-overflow:ellipsis !important;; }\n",
       "    </style><thead><tr style= \"background: rgba(243, 243, 243, 0.75)\"><th class=\"tdhistory446145\"></th><th class=\"tdhistory446145\">smallest_count</th></tr></thead><tbody class=\"tdhistory446145 resultset-body\"><tr><th class=\"tdhistory446145\" style= \"background: rgba(243, 243, 243, 0.75)\">1</th><td class=\"tdhistory446145\">252</td></tr></tbody></table></div>"
      ]
     },
     "execution_count": 36,
     "metadata": {
      "application/vnd.teradata.resultset": "{\"resultSetID\":\"/home/jovyan/JupyterLabRoot/Teradata/Resultsets/2022.09.16_21.03.38.021_UTC\",\"historyID\":338,\"chunkID\":\"00001\",\"sessionid\":\"\",\"portnum\":\"\",\"dockermode\":\"docker\",\"totalRowCount\":1,\"chunkCount\":0,\"rowLimit\":0,\"columnMetadata\":[{\"columnName\":\"smallest_count\",\"columnTypeName\":\"INTEGER\"}]}"
     },
     "output_type": "execute_result"
    }
   ],
   "source": [
    "SELECT \n",
    "     MIN(\"T0\".\"_val_N\") AS \"smallest_count\"\n",
    "FROM \n",
    "( SELECT \n",
    "     \"S0\".\"marital_status\" AS \"marital_status\"\n",
    "    ,\"S0\".\"gender\" AS \"gender\"\n",
    "    ,COUNT(*) AS \"_val_N\"\n",
    "FROM \"${XSPDB}\".\"Customer\" AS \"S0\"\n",
    "GROUP BY \"S0\".\"marital_status\", \"S0\".\"gender\"\n",
    ") AS \"T0\"\n",
    ";"
   ]
  },
  {
   "cell_type": "code",
   "execution_count": 37,
   "metadata": {},
   "outputs": [
    {
     "data": {
      "text/plain": [
       "Success: 0 rows affected"
      ]
     },
     "execution_count": 37,
     "metadata": {
      "application/vnd.teradata.resultset": ""
     },
     "output_type": "execute_result"
    }
   ],
   "source": [
    "CREATE SET TABLE \"${QLID}\".\"VAL_Friedman_Worktable\" AS (\n",
    "SELECT\n",
    "    \"cust_id\"\n",
    "    ,\"gender\"\n",
    "    ,\"marital_status\"\n",
    "    ,\"income\"\n",
    "    ,\"ckacct\"\n",
    "    ,\"svacct\"\n",
    "    ,SAMPLEID AS \"xSampleId\"\n",
    "FROM \"TRNG_XSP\".\"twm_customer_analysis\"\n",
    "SAMPLE \n",
    "    WHEN gender='f' and marital_status='1' THEN 18\n",
    "    WHEN gender='f' and marital_status='2' THEN 18\n",
    "    WHEN gender='f' and marital_status='3' THEN 18\n",
    "    WHEN gender='f' and marital_status='4' THEN 18\n",
    "    WHEN gender='m' and marital_status='1' THEN 18\n",
    "    WHEN gender='m' and marital_status='2' THEN 18\n",
    "    WHEN gender='m' and marital_status='3' THEN 18\n",
    "    WHEN gender='m' and marital_status='4' THEN 18\n",
    "END\n",
    ") WITH DATA PRIMARY INDEX(\"cust_id\");"
   ]
  },
  {
   "cell_type": "code",
   "execution_count": 38,
   "metadata": {},
   "outputs": [
    {
     "data": {
      "text/plain": [
       "Success: 0 rows affected"
      ]
     },
     "execution_count": 38,
     "metadata": {
      "application/vnd.teradata.resultset": ""
     },
     "output_type": "execute_result"
    },
    {
     "ename": "WARNING",
     "evalue": "[Teradata Database] [Warning 3212] The stored procedure returned one or more result sets.",
     "output_type": "error",
     "traceback": [
      "[Teradata Database] [Warning 3212] The stored procedure returned one or more result sets."
     ]
    },
    {
     "data": {
      "application/vnd.teradata.resultset": "\"Kendalls_W\",\"Average_Spearmans_Rho\",\"DF_1\",\"DF_2\",\"F\",\"FriedmanPValue\",\"FriedmanPText\",\"FriedmanCallP_5E-2\"\n\"0.7617681316974686\",\"0.7724972603129259\",\"1\",\"71\",\"227.02897700418848\",\"0.001\",\"<0.001\",\"p\"",
      "text/html": [
       "<div class = \"td-resultset-table-div\" style = \"max-height: 100%; overflow-y: auto\">\n",
       "      <table class=\"tdhistory131220\"><style>\n",
       "      table.tdhistory131220 { display: block !important; min-height: 105px !important; overflow: auto !important; height: 105px !important; width: 100% !important; border: 1px solid rgb(207, 207, 207) !important; border-collapse: collapse !important; ; color: var(--jp-ui-font-color1) !important; }\n",
       "      th.tdhistory131220 { border: 1px solid rgb(198,198,198) !important; border-collapse: collapse !important; ; padding: 2px 5px !important; ; font-size: 13px !important; ; text-align: center !important; white-space: normal !important; color: var(--jp-ui-font-color1) !important; }\n",
       "      th.tdhistory131220:last-child { text-align: left !important; }\n",
       "      tbody.tdhistory131220 tr:nth-child(even) { background: rgba(243, 243, 243, 0.75) !important; }\n",
       "      tbody.tdhistory131220 tr:nth-child(odd) { background: var(--jp-ui-inverse-font-color1) !important; }\n",
       "      td.tdhistory131220 { border: 1px solid rgb(207, 207, 207) !important; border-collapse: collapse !important; ; padding: 2px 5px !important; ; font-size: 13px !important; ; text-align: left !important;          white-space: nowrap !important; overflow:hidden !important; text-overflow:ellipsis !important;; }\n",
       "    </style><thead><tr style= \"background: rgba(243, 243, 243, 0.75)\"><th class=\"tdhistory131220\"></th><th class=\"tdhistory131220\">Kendalls_W</th><th class=\"tdhistory131220\">Average_Spearmans_Rho</th><th class=\"tdhistory131220\">DF_1</th><th class=\"tdhistory131220\">DF_2</th><th class=\"tdhistory131220\">F</th><th class=\"tdhistory131220\">FriedmanPValue</th><th class=\"tdhistory131220\">FriedmanPText</th><th class=\"tdhistory131220\">FriedmanCallP_5E-2</th></tr></thead><tbody class=\"tdhistory131220 resultset-body\"><tr><th class=\"tdhistory131220\" style= \"background: rgba(243, 243, 243, 0.75)\">1</th><td class=\"tdhistory131220\">0.7617681316974686</td><td class=\"tdhistory131220\">0.7724972603129259</td><td class=\"tdhistory131220\">1</td><td class=\"tdhistory131220\">71</td><td class=\"tdhistory131220\">227.02897700418848</td><td class=\"tdhistory131220\">0.001</td><td class=\"tdhistory131220\"><0.001</td><td class=\"tdhistory131220\">p</td></tr></tbody></table></div>"
      ]
     },
     "execution_count": 38,
     "metadata": {
      "application/vnd.teradata.resultset": "{\"resultSetID\":\"/home/jovyan/JupyterLabRoot/Teradata/Resultsets/2022.09.16_21.03.43.075_UTC\",\"historyID\":340,\"chunkID\":\"00001\",\"sessionid\":\"\",\"portnum\":\"\",\"dockermode\":\"docker\",\"totalRowCount\":1,\"chunkCount\":0,\"rowLimit\":0,\"columnMetadata\":[{\"columnName\":\"Kendalls_W\",\"columnTypeName\":\"FLOAT\"},{\"columnNumber\":1,\"columnName\":\"Average_Spearmans_Rho\",\"columnTypeName\":\"FLOAT\"},{\"columnNumber\":2,\"columnName\":\"DF_1\",\"columnTypeName\":\"INTEGER\"},{\"columnNumber\":3,\"columnName\":\"DF_2\",\"columnTypeName\":\"INTEGER\"},{\"columnNumber\":4,\"columnName\":\"F\",\"columnTypeName\":\"FLOAT\"},{\"columnNumber\":5,\"columnName\":\"FriedmanPValue\",\"columnTypeName\":\"FLOAT\"},{\"columnNumber\":6,\"columnName\":\"FriedmanPText\",\"columnTypeName\":\"VARCHAR\",\"length\":6,\"scale\":6},{\"columnNumber\":7,\"columnName\":\"FriedmanCallP_5E-2\",\"columnTypeName\":\"VARCHAR\",\"length\":1,\"scale\":1}]}"
     },
     "output_type": "execute_result"
    }
   ],
   "source": [
    "call ${VALDB}.td_analyze('ranktest',\n",
    "                         'teststyle=friedman;\n",
    "                          statsdatabase=${VALDB};\n",
    "                          database=${QLID};\n",
    "                          tablename=VAL_Friedman_Worktable;\n",
    "                          columnofinterest=income;\n",
    "                          treatmentcolumn=gender;\n",
    "                          blockcolumn=marital_status;');"
   ]
  },
  {
   "cell_type": "markdown",
   "metadata": {},
   "source": [
    "---"
   ]
  },
  {
   "cell_type": "markdown",
   "metadata": {},
   "source": [
    "### Chi Square Tests\n",
    "\n",
    "#### Purpose\n",
    "\n",
    "Statistical tests of this type are based on a matrix of frequencies or counts.  A frequency pattern that is non-random is sought in the matrix.  Supported tests of this type include the following:\n",
    "\n",
    "- Chi Square Test\n",
    "\n",
    "    Besides a Chi Square value, other measures are computed in a Chi Square Test, including a Phi Coefficient,  Cramer’s V, Likelihood Ratio Chi Square, Continuity-Adjusted Chi Square and Contingency Coefficient.\n",
    "\n",
    "- Median Test\n",
    "\n",
    "    A Median Test is a variation of Chi Square Test wherein samples are tested to see if their populations have the same median value.\n",
    "\n",
    "#### Required Parameters\n",
    "\n",
    "- **chisquaretest**\n",
    "\n",
    "    The chisquaretest parameter:\n",
    "    \n",
    "    - Is required\n",
    "    - Must be the first parameter\n",
    "    - Is always enclosed in single quotes\n",
    "\n",
    "\n",
    "- **database**\n",
    "\n",
    "    The database containing the table to analyze.\n",
    "\n",
    "- **tablename**\n",
    "\n",
    "    The table containing the columns to analyze.  It must reside in the database indicated by the database parameter.\n",
    "\n",
    "#### Optional Parameters\n",
    "\n",
    "- **columnofinterest**\n",
    "\n",
    "    Used only by the Median Test, the column specified with this parameter indicates the dependent variable (numeric).  It must reside in the table indicated by the tablename parameter.\n",
    "\n",
    "- **columns**\n",
    "\n",
    "    Used only by the Median Test, the columns specified with this parameter represent the independent variables (categorical). They must reside in the table indicated by the tablename parameter.\n",
    "\n",
    "- **fallback**\n",
    "\n",
    "    When true, FALLBACK is requested as an attribute of the created output results table.  When false or parameter not specified, the FALLBACK attribute is not included in the create table SQL.\n",
    "\n",
    "- **firstcolumns**\n",
    "\n",
    "    Used only by the Chi Square Test, one or more columns representing the first of variable pairs for analysis. They must reside in the table indicated by the tablename parameter.  Note that the number of combinations of firstcolumns and secondcolumns may not exceed 100.  Note also that if the product of the number distinct values in these column pairs exceeds 2000, the analysis of that combination is skipped (but not if gensqlonly is true).\n",
    "\n",
    "- **gensqlonly**\n",
    "\n",
    "    When true, the SQL for the requested function is returned as a result set but not run. When not specified or set to false, the SQL is run but not returned.\n",
    "\n",
    "- **groupby**\n",
    "\n",
    "    Available only in the Median Test, one or more group-by columns may optionally be specified so that a separate result is produced for each value or combination of values in the specified column or columns.\n",
    "\n",
    "- **multiset**\n",
    "\n",
    "    When true, MULTISET is requested as an attribute of the created output results table.  When false or parameter not specified, the MULTISET attribute is not included in the create table SQL.\n",
    "\n",
    "- **outputdatabase**\n",
    "\n",
    "    Specifies the name of the database to contain the analysis results table.\n",
    "\n",
    "- **outputtablename**\n",
    "\n",
    "    Specifies the name of the table to store the analysis results. If not supplied, the results are returned as a result set.\n",
    "\n",
    "- **overwrite**\n",
    "\n",
    "    When overwrite is set to true or not set, the output table is dropped before creating a new one.\n",
    "\n",
    "- **secondcolumns**\n",
    "\n",
    "    Used only by the Chi Square Test, one or more columns representing the second of variable pairs for analysis. They must reside in the table indicated by the tablename parameter.  Note that the number of combinations of firstcolumns and secondcolumns may not exceed 100.  Note also that if the product of the number distinct values in these column pairs exceeds 2000, the analysis of that combination is skipped (but not if gensqlonly is true).\n",
    "\n",
    "- **statsdatabase**\n",
    "\n",
    "    This is the database where the statistical test metadata tables are installed.  If not specified, the source database is searched for these metadata tables.\n",
    "\n",
    "- **teststyle**\n",
    "\n",
    "    The valid values are chisq and median, representing a Chi Square or Median test.  If not specified, the default test style is Chi Square (chisq).\n",
    "\n",
    "- **thresholdprobability**\n",
    "\n",
    "    You may optionally change the threshold probability or allow it to default to 0.05.  Below this \"alpha\" probability the null hypothesis is rejected."
   ]
  },
  {
   "cell_type": "markdown",
   "metadata": {},
   "source": [
    "1.  Chi Square Test with non-persisted results."
   ]
  },
  {
   "cell_type": "code",
   "execution_count": 39,
   "metadata": {},
   "outputs": [
    {
     "data": {
      "text/plain": [
       "Success: 0 rows affected"
      ]
     },
     "execution_count": 39,
     "metadata": {
      "application/vnd.teradata.resultset": ""
     },
     "output_type": "execute_result"
    },
    {
     "ename": "WARNING",
     "evalue": "[Teradata Database] [Warning 3212] The stored procedure returned one or more result sets.",
     "output_type": "error",
     "traceback": [
      "[Teradata Database] [Warning 3212] The stored procedure returned one or more result sets."
     ]
    },
    {
     "data": {
      "application/vnd.teradata.resultset": "\"column1\",\"column2\",\"Chisq\",\"DF\",\"Z\",\"CramersV\",\"PhiCoeff\",\"LlhChiSq\",\"ContAdjChiSq\",\"ContinCoeff\",\"ChiPValue\",\"ChiPText\",\"ChiCallP_5E-2\"\n\"female_ind\",\"ck_acct_ind\",\"51.963291143618186\",\"1\",\"6.266072413236709\",\"0.07048943119690093\",\"0.07048943119690093\",\"51.79027403137195\",\"51.65502985345838\",\"0.07031495858282666\",\"0.0001\",\"<0.0001\",\"p\"\n\"single_ind\",\"sv_acct_ind\",\"111.33800714811451\",\"1\",\"8.555265794438732\",\"0.10318044653217087\",\"0.10318044653217087\",\"112.15138339109859\",\"110.90737820419025\",\"0.10263555340590276\",\"0.0001\",\"<0.0001\",\"p\"\n\"female_ind\",\"sv_acct_ind\",\"73.52013882165667\",\"1\",\"7.236808261366889\",\"0.08384532268145403\",\"0.08384532268145403\",\"73.48997707707434\",\"73.17998066361037\",\"0.08355214963436527\",\"0.0001\",\"<0.0001\",\"p\"\n\"single_ind\",\"cc_acct_ind\",\"21.541917084755497\",\"1\",\"4.252562129760672\",\"0.04538557648792909\",\"0.04538557648792909\",\"21.461624947837834\",\"21.347967794596414\",\"0.04533890482563551\",\"0.0001\",\"<0.0001\",\"p\"\n\"single_ind\",\"ck_acct_ind\",\"3.722261430607426\",\"1\",\"1.6376557333933495\",\"0.018865969038997184\",\"0.018865969038997184\",\"3.7119507979566606\",\"3.6377618158186986\",\"0.018862612501963423\",\"0.055246604425102215\",\"\",\"a\"\n\"female_ind\",\"cc_acct_ind\",\"84.45466569698048\",\"1\",\"7.657179013939365\",\"0.08986436396365856\",\"0.08986436396365856\",\"84.28739385913224\",\"84.08086832585147\",\"0.08950369247502081\",\"0.0001\",\"<0.0001\",\"p\"",
      "text/html": [
       "<div class = \"td-resultset-table-div\" style = \"max-height: 100%; overflow-y: auto\">\n",
       "      <table class=\"tdhistory315429\"><style>\n",
       "      table.tdhistory315429 { display: block !important; min-height: 210px !important; overflow: auto !important; height: 210px !important; width: 100% !important; border: 1px solid rgb(207, 207, 207) !important; border-collapse: collapse !important; ; color: var(--jp-ui-font-color1) !important; }\n",
       "      th.tdhistory315429 { border: 1px solid rgb(198,198,198) !important; border-collapse: collapse !important; ; padding: 2px 5px !important; ; font-size: 13px !important; ; text-align: center !important; white-space: normal !important; color: var(--jp-ui-font-color1) !important; }\n",
       "      th.tdhistory315429:last-child { text-align: left !important; }\n",
       "      tbody.tdhistory315429 tr:nth-child(even) { background: rgba(243, 243, 243, 0.75) !important; }\n",
       "      tbody.tdhistory315429 tr:nth-child(odd) { background: var(--jp-ui-inverse-font-color1) !important; }\n",
       "      td.tdhistory315429 { border: 1px solid rgb(207, 207, 207) !important; border-collapse: collapse !important; ; padding: 2px 5px !important; ; font-size: 13px !important; ; text-align: left !important;          white-space: nowrap !important; overflow:hidden !important; text-overflow:ellipsis !important;; }\n",
       "    </style><thead><tr style= \"background: rgba(243, 243, 243, 0.75)\"><th class=\"tdhistory315429\"></th><th class=\"tdhistory315429\">column1</th><th class=\"tdhistory315429\">column2</th><th class=\"tdhistory315429\">Chisq</th><th class=\"tdhistory315429\">DF</th><th class=\"tdhistory315429\">Z</th><th class=\"tdhistory315429\">CramersV</th><th class=\"tdhistory315429\">PhiCoeff</th><th class=\"tdhistory315429\">LlhChiSq</th><th class=\"tdhistory315429\">ContAdjChiSq</th><th class=\"tdhistory315429\">ContinCoeff</th><th class=\"tdhistory315429\">ChiPValue</th><th class=\"tdhistory315429\">ChiPText</th><th class=\"tdhistory315429\">ChiCallP_5E-2</th></tr></thead><tbody class=\"tdhistory315429 resultset-body\"><tr><th class=\"tdhistory315429\" style= \"background: rgba(243, 243, 243, 0.75)\">1</th><td class=\"tdhistory315429\">female_ind</td><td class=\"tdhistory315429\">ck_acct_ind</td><td class=\"tdhistory315429\">51.963291143618186</td><td class=\"tdhistory315429\">1</td><td class=\"tdhistory315429\">6.266072413236709</td><td class=\"tdhistory315429\">0.07048943119690093</td><td class=\"tdhistory315429\">0.07048943119690093</td><td class=\"tdhistory315429\">51.79027403137195</td><td class=\"tdhistory315429\">51.65502985345838</td><td class=\"tdhistory315429\">0.07031495858282666</td><td class=\"tdhistory315429\">0.0001</td><td class=\"tdhistory315429\"><0.0001</td><td class=\"tdhistory315429\">p</td></tr><tr><th class=\"tdhistory315429\" style= \"background: rgba(243, 243, 243, 0.75)\">2</th><td class=\"tdhistory315429\">single_ind</td><td class=\"tdhistory315429\">sv_acct_ind</td><td class=\"tdhistory315429\">111.33800714811451</td><td class=\"tdhistory315429\">1</td><td class=\"tdhistory315429\">8.555265794438732</td><td class=\"tdhistory315429\">0.10318044653217087</td><td class=\"tdhistory315429\">0.10318044653217087</td><td class=\"tdhistory315429\">112.15138339109859</td><td class=\"tdhistory315429\">110.90737820419025</td><td class=\"tdhistory315429\">0.10263555340590276</td><td class=\"tdhistory315429\">0.0001</td><td class=\"tdhistory315429\"><0.0001</td><td class=\"tdhistory315429\">p</td></tr><tr><th class=\"tdhistory315429\" style= \"background: rgba(243, 243, 243, 0.75)\">3</th><td class=\"tdhistory315429\">female_ind</td><td class=\"tdhistory315429\">sv_acct_ind</td><td class=\"tdhistory315429\">73.52013882165667</td><td class=\"tdhistory315429\">1</td><td class=\"tdhistory315429\">7.236808261366889</td><td class=\"tdhistory315429\">0.08384532268145403</td><td class=\"tdhistory315429\">0.08384532268145403</td><td class=\"tdhistory315429\">73.48997707707434</td><td class=\"tdhistory315429\">73.17998066361037</td><td class=\"tdhistory315429\">0.08355214963436527</td><td class=\"tdhistory315429\">0.0001</td><td class=\"tdhistory315429\"><0.0001</td><td class=\"tdhistory315429\">p</td></tr><tr><th class=\"tdhistory315429\" style= \"background: rgba(243, 243, 243, 0.75)\">4</th><td class=\"tdhistory315429\">single_ind</td><td class=\"tdhistory315429\">cc_acct_ind</td><td class=\"tdhistory315429\">21.541917084755497</td><td class=\"tdhistory315429\">1</td><td class=\"tdhistory315429\">4.252562129760672</td><td class=\"tdhistory315429\">0.04538557648792909</td><td class=\"tdhistory315429\">0.04538557648792909</td><td class=\"tdhistory315429\">21.461624947837834</td><td class=\"tdhistory315429\">21.347967794596414</td><td class=\"tdhistory315429\">0.04533890482563551</td><td class=\"tdhistory315429\">0.0001</td><td class=\"tdhistory315429\"><0.0001</td><td class=\"tdhistory315429\">p</td></tr><tr><th class=\"tdhistory315429\" style= \"background: rgba(243, 243, 243, 0.75)\">5</th><td class=\"tdhistory315429\">single_ind</td><td class=\"tdhistory315429\">ck_acct_ind</td><td class=\"tdhistory315429\">3.722261430607426</td><td class=\"tdhistory315429\">1</td><td class=\"tdhistory315429\">1.6376557333933495</td><td class=\"tdhistory315429\">0.018865969038997184</td><td class=\"tdhistory315429\">0.018865969038997184</td><td class=\"tdhistory315429\">3.7119507979566606</td><td class=\"tdhistory315429\">3.6377618158186986</td><td class=\"tdhistory315429\">0.018862612501963423</td><td class=\"tdhistory315429\">0.055246604425102215</td><td class=\"tdhistory315429\"></td><td class=\"tdhistory315429\">a</td></tr><tr><th class=\"tdhistory315429\" style= \"background: rgba(243, 243, 243, 0.75)\">6</th><td class=\"tdhistory315429\">female_ind</td><td class=\"tdhistory315429\">cc_acct_ind</td><td class=\"tdhistory315429\">84.45466569698048</td><td class=\"tdhistory315429\">1</td><td class=\"tdhistory315429\">7.657179013939365</td><td class=\"tdhistory315429\">0.08986436396365856</td><td class=\"tdhistory315429\">0.08986436396365856</td><td class=\"tdhistory315429\">84.28739385913224</td><td class=\"tdhistory315429\">84.08086832585147</td><td class=\"tdhistory315429\">0.08950369247502081</td><td class=\"tdhistory315429\">0.0001</td><td class=\"tdhistory315429\"><0.0001</td><td class=\"tdhistory315429\">p</td></tr></tbody></table></div>"
      ]
     },
     "execution_count": 39,
     "metadata": {
      "application/vnd.teradata.resultset": "{\"resultSetID\":\"/home/jovyan/JupyterLabRoot/Teradata/Resultsets/2022.09.16_21.03.58.142_UTC\",\"historyID\":341,\"chunkID\":\"00001\",\"sessionid\":\"\",\"portnum\":\"\",\"dockermode\":\"docker\",\"totalRowCount\":6,\"chunkCount\":0,\"rowLimit\":0,\"columnMetadata\":[{\"columnName\":\"column1\",\"columnTypeName\":\"VARCHAR\",\"length\":256,\"scale\":256},{\"columnNumber\":1,\"columnName\":\"column2\",\"columnTypeName\":\"VARCHAR\",\"length\":256,\"scale\":256},{\"columnNumber\":2,\"columnName\":\"Chisq\",\"columnTypeName\":\"FLOAT\"},{\"columnNumber\":3,\"columnName\":\"DF\",\"columnTypeName\":\"BIGINT\"},{\"columnNumber\":4,\"columnName\":\"Z\",\"columnTypeName\":\"FLOAT\"},{\"columnNumber\":5,\"columnName\":\"CramersV\",\"columnTypeName\":\"FLOAT\"},{\"columnNumber\":6,\"columnName\":\"PhiCoeff\",\"columnTypeName\":\"FLOAT\"},{\"columnNumber\":7,\"columnName\":\"LlhChiSq\",\"columnTypeName\":\"FLOAT\"},{\"columnNumber\":8,\"columnName\":\"ContAdjChiSq\",\"columnTypeName\":\"FLOAT\"},{\"columnNumber\":9,\"columnName\":\"ContinCoeff\",\"columnTypeName\":\"FLOAT\"},{\"columnNumber\":10,\"columnName\":\"ChiPValue\",\"columnTypeName\":\"FLOAT\"},{\"columnNumber\":11,\"columnName\":\"ChiPText\",\"columnTypeName\":\"VARCHAR\",\"length\":7,\"scale\":7},{\"columnNumber\":12,\"columnName\":\"ChiCallP_5E-2\",\"columnTypeName\":\"VARCHAR\",\"length\":1,\"scale\":1}]}"
     },
     "output_type": "execute_result"
    }
   ],
   "source": [
    "call ${VALDB}.td_analyze('chisquaretest',\n",
    "                         'statsdatabase=${VALDB};\n",
    "                          teststyle=chisq;\n",
    "                          database=${QLID};\n",
    "                          tablename=VAL_ADS;\n",
    "                          firstcolumns=female_ind,single_ind;\n",
    "                          secondcolumns=sv_acct_ind,cc_acct_ind,ck_acct_ind;');"
   ]
  },
  {
   "cell_type": "markdown",
   "metadata": {},
   "source": [
    "2.  Chi Square Test with results persisted in an output table."
   ]
  },
  {
   "cell_type": "code",
   "execution_count": 40,
   "metadata": {},
   "outputs": [
    {
     "data": {
      "text/plain": [
       "Success: 0 rows affected"
      ]
     },
     "execution_count": 40,
     "metadata": {
      "application/vnd.teradata.resultset": ""
     },
     "output_type": "execute_result"
    }
   ],
   "source": [
    "call ${VALDB}.td_analyze('chisquaretest',\n",
    "                         'statsdatabase=${VALDB};\n",
    "                          teststyle=chisq;\n",
    "                          database=${QLID};\n",
    "                          tablename=VAL_ADS;\n",
    "                          firstcolumns=female_ind,single_ind;\n",
    "                          secondcolumns=sv_acct_ind,cc_acct_ind,ck_acct_ind;\n",
    "                          outputdatabase=${QLID};\n",
    "                          outputtablename=_val_chisquare_out;');"
   ]
  },
  {
   "cell_type": "code",
   "execution_count": 41,
   "metadata": {},
   "outputs": [
    {
     "data": {
      "application/vnd.teradata.resultset": "\"column1\",\"column2\",\"Chisq\",\"DF\",\"Z\",\"CramersV\",\"PhiCoeff\",\"LlhChiSq\",\"ContAdjChiSq\",\"ContinCoeff\",\"ChiPValue\",\"ChiPText\",\"ChiCallP_5E-2\"\n\"female_ind\",\"sv_acct_ind\",\"73.52013882165667\",\"1\",\"7.236808261366889\",\"0.08384532268145403\",\"0.08384532268145403\",\"73.48997707707434\",\"73.17998066361035\",\"0.08355214963436527\",\"0.0001\",\"<0.0001\",\"p\"\n\"female_ind\",\"ck_acct_ind\",\"51.96329114361818\",\"1\",\"6.266072413236709\",\"0.07048943119690093\",\"0.07048943119690093\",\"51.79027403137195\",\"51.65502985345838\",\"0.07031495858282666\",\"0.0001\",\"<0.0001\",\"p\"\n\"female_ind\",\"cc_acct_ind\",\"84.45466569698048\",\"1\",\"7.657179013939365\",\"0.08986436396365856\",\"0.08986436396365856\",\"84.28739385913224\",\"84.08086832585147\",\"0.08950369247502081\",\"0.0001\",\"<0.0001\",\"p\"\n\"single_ind\",\"cc_acct_ind\",\"21.5419170847555\",\"1\",\"4.252562129760672\",\"0.04538557648792909\",\"0.04538557648792909\",\"21.461624947837834\",\"21.347967794596414\",\"0.04533890482563551\",\"0.0001\",\"<0.0001\",\"p\"\n\"single_ind\",\"sv_acct_ind\",\"111.33800714811453\",\"1\",\"8.555265794438734\",\"0.10318044653217087\",\"0.10318044653217087\",\"112.15138339109859\",\"110.90737820419025\",\"0.10263555340590277\",\"0.0001\",\"<0.0001\",\"p\"\n\"single_ind\",\"ck_acct_ind\",\"3.722261430607426\",\"1\",\"1.6376557333933495\",\"0.018865969038997184\",\"0.018865969038997184\",\"3.7119507979566606\",\"3.6377618158186986\",\"0.018862612501963423\",\"0.055246604425102215\",\"\",\"a\"",
      "text/html": [
       "<div class = \"td-resultset-table-div\" style = \"max-height: 100%; overflow-y: auto\">\n",
       "      <table class=\"tdhistory346533\"><style>\n",
       "      table.tdhistory346533 { display: block !important; min-height: 210px !important; overflow: auto !important; height: 210px !important; width: 100% !important; border: 1px solid rgb(207, 207, 207) !important; border-collapse: collapse !important; ; color: var(--jp-ui-font-color1) !important; }\n",
       "      th.tdhistory346533 { border: 1px solid rgb(198,198,198) !important; border-collapse: collapse !important; ; padding: 2px 5px !important; ; font-size: 13px !important; ; text-align: center !important; white-space: normal !important; color: var(--jp-ui-font-color1) !important; }\n",
       "      th.tdhistory346533:last-child { text-align: left !important; }\n",
       "      tbody.tdhistory346533 tr:nth-child(even) { background: rgba(243, 243, 243, 0.75) !important; }\n",
       "      tbody.tdhistory346533 tr:nth-child(odd) { background: var(--jp-ui-inverse-font-color1) !important; }\n",
       "      td.tdhistory346533 { border: 1px solid rgb(207, 207, 207) !important; border-collapse: collapse !important; ; padding: 2px 5px !important; ; font-size: 13px !important; ; text-align: left !important;          white-space: nowrap !important; overflow:hidden !important; text-overflow:ellipsis !important;; }\n",
       "    </style><thead><tr style= \"background: rgba(243, 243, 243, 0.75)\"><th class=\"tdhistory346533\"></th><th class=\"tdhistory346533\">column1</th><th class=\"tdhistory346533\">column2</th><th class=\"tdhistory346533\">Chisq</th><th class=\"tdhistory346533\">DF</th><th class=\"tdhistory346533\">Z</th><th class=\"tdhistory346533\">CramersV</th><th class=\"tdhistory346533\">PhiCoeff</th><th class=\"tdhistory346533\">LlhChiSq</th><th class=\"tdhistory346533\">ContAdjChiSq</th><th class=\"tdhistory346533\">ContinCoeff</th><th class=\"tdhistory346533\">ChiPValue</th><th class=\"tdhistory346533\">ChiPText</th><th class=\"tdhistory346533\">ChiCallP_5E-2</th></tr></thead><tbody class=\"tdhistory346533 resultset-body\"><tr><th class=\"tdhistory346533\" style= \"background: rgba(243, 243, 243, 0.75)\">1</th><td class=\"tdhistory346533\">female_ind</td><td class=\"tdhistory346533\">sv_acct_ind</td><td class=\"tdhistory346533\">73.52013882165667</td><td class=\"tdhistory346533\">1</td><td class=\"tdhistory346533\">7.236808261366889</td><td class=\"tdhistory346533\">0.08384532268145403</td><td class=\"tdhistory346533\">0.08384532268145403</td><td class=\"tdhistory346533\">73.48997707707434</td><td class=\"tdhistory346533\">73.17998066361035</td><td class=\"tdhistory346533\">0.08355214963436527</td><td class=\"tdhistory346533\">0.0001</td><td class=\"tdhistory346533\"><0.0001</td><td class=\"tdhistory346533\">p</td></tr><tr><th class=\"tdhistory346533\" style= \"background: rgba(243, 243, 243, 0.75)\">2</th><td class=\"tdhistory346533\">female_ind</td><td class=\"tdhistory346533\">ck_acct_ind</td><td class=\"tdhistory346533\">51.96329114361818</td><td class=\"tdhistory346533\">1</td><td class=\"tdhistory346533\">6.266072413236709</td><td class=\"tdhistory346533\">0.07048943119690093</td><td class=\"tdhistory346533\">0.07048943119690093</td><td class=\"tdhistory346533\">51.79027403137195</td><td class=\"tdhistory346533\">51.65502985345838</td><td class=\"tdhistory346533\">0.07031495858282666</td><td class=\"tdhistory346533\">0.0001</td><td class=\"tdhistory346533\"><0.0001</td><td class=\"tdhistory346533\">p</td></tr><tr><th class=\"tdhistory346533\" style= \"background: rgba(243, 243, 243, 0.75)\">3</th><td class=\"tdhistory346533\">female_ind</td><td class=\"tdhistory346533\">cc_acct_ind</td><td class=\"tdhistory346533\">84.45466569698048</td><td class=\"tdhistory346533\">1</td><td class=\"tdhistory346533\">7.657179013939365</td><td class=\"tdhistory346533\">0.08986436396365856</td><td class=\"tdhistory346533\">0.08986436396365856</td><td class=\"tdhistory346533\">84.28739385913224</td><td class=\"tdhistory346533\">84.08086832585147</td><td class=\"tdhistory346533\">0.08950369247502081</td><td class=\"tdhistory346533\">0.0001</td><td class=\"tdhistory346533\"><0.0001</td><td class=\"tdhistory346533\">p</td></tr><tr><th class=\"tdhistory346533\" style= \"background: rgba(243, 243, 243, 0.75)\">4</th><td class=\"tdhistory346533\">single_ind</td><td class=\"tdhistory346533\">cc_acct_ind</td><td class=\"tdhistory346533\">21.5419170847555</td><td class=\"tdhistory346533\">1</td><td class=\"tdhistory346533\">4.252562129760672</td><td class=\"tdhistory346533\">0.04538557648792909</td><td class=\"tdhistory346533\">0.04538557648792909</td><td class=\"tdhistory346533\">21.461624947837834</td><td class=\"tdhistory346533\">21.347967794596414</td><td class=\"tdhistory346533\">0.04533890482563551</td><td class=\"tdhistory346533\">0.0001</td><td class=\"tdhistory346533\"><0.0001</td><td class=\"tdhistory346533\">p</td></tr><tr><th class=\"tdhistory346533\" style= \"background: rgba(243, 243, 243, 0.75)\">5</th><td class=\"tdhistory346533\">single_ind</td><td class=\"tdhistory346533\">sv_acct_ind</td><td class=\"tdhistory346533\">111.33800714811453</td><td class=\"tdhistory346533\">1</td><td class=\"tdhistory346533\">8.555265794438734</td><td class=\"tdhistory346533\">0.10318044653217087</td><td class=\"tdhistory346533\">0.10318044653217087</td><td class=\"tdhistory346533\">112.15138339109859</td><td class=\"tdhistory346533\">110.90737820419025</td><td class=\"tdhistory346533\">0.10263555340590277</td><td class=\"tdhistory346533\">0.0001</td><td class=\"tdhistory346533\"><0.0001</td><td class=\"tdhistory346533\">p</td></tr><tr><th class=\"tdhistory346533\" style= \"background: rgba(243, 243, 243, 0.75)\">6</th><td class=\"tdhistory346533\">single_ind</td><td class=\"tdhistory346533\">ck_acct_ind</td><td class=\"tdhistory346533\">3.722261430607426</td><td class=\"tdhistory346533\">1</td><td class=\"tdhistory346533\">1.6376557333933495</td><td class=\"tdhistory346533\">0.018865969038997184</td><td class=\"tdhistory346533\">0.018865969038997184</td><td class=\"tdhistory346533\">3.7119507979566606</td><td class=\"tdhistory346533\">3.6377618158186986</td><td class=\"tdhistory346533\">0.018862612501963423</td><td class=\"tdhistory346533\">0.055246604425102215</td><td class=\"tdhistory346533\"></td><td class=\"tdhistory346533\">a</td></tr></tbody></table></div>"
      ]
     },
     "execution_count": 41,
     "metadata": {
      "application/vnd.teradata.resultset": "{\"resultSetID\":\"/home/jovyan/JupyterLabRoot/Teradata/Resultsets/2022.09.16_21.04.14.187_UTC\",\"historyID\":343,\"chunkID\":\"00001\",\"sessionid\":\"\",\"portnum\":\"\",\"dockermode\":\"docker\",\"totalRowCount\":6,\"chunkCount\":0,\"rowLimit\":0,\"columnMetadata\":[{\"columnName\":\"column1\",\"columnTypeName\":\"VARCHAR\",\"length\":256,\"scale\":256},{\"columnNumber\":1,\"columnName\":\"column2\",\"columnTypeName\":\"VARCHAR\",\"length\":256,\"scale\":256},{\"columnNumber\":2,\"columnName\":\"Chisq\",\"columnTypeName\":\"FLOAT\"},{\"columnNumber\":3,\"columnName\":\"DF\",\"columnTypeName\":\"BIGINT\"},{\"columnNumber\":4,\"columnName\":\"Z\",\"columnTypeName\":\"FLOAT\"},{\"columnNumber\":5,\"columnName\":\"CramersV\",\"columnTypeName\":\"FLOAT\"},{\"columnNumber\":6,\"columnName\":\"PhiCoeff\",\"columnTypeName\":\"FLOAT\"},{\"columnNumber\":7,\"columnName\":\"LlhChiSq\",\"columnTypeName\":\"FLOAT\"},{\"columnNumber\":8,\"columnName\":\"ContAdjChiSq\",\"columnTypeName\":\"FLOAT\"},{\"columnNumber\":9,\"columnName\":\"ContinCoeff\",\"columnTypeName\":\"FLOAT\"},{\"columnNumber\":10,\"columnName\":\"ChiPValue\",\"columnTypeName\":\"FLOAT\"},{\"columnNumber\":11,\"columnName\":\"ChiPText\",\"columnTypeName\":\"VARCHAR\",\"length\":7,\"scale\":7},{\"columnNumber\":12,\"columnName\":\"ChiCallP_5E-2\",\"columnTypeName\":\"VARCHAR\",\"length\":1,\"scale\":1}]}"
     },
     "output_type": "execute_result"
    }
   ],
   "source": [
    "SELECT * FROM ${QLID}._val_chisquare_out ORDER BY 1;"
   ]
  },
  {
   "cell_type": "markdown",
   "metadata": {},
   "source": [
    "3.  Median Test with groupby column years_with_bank, thresholdprobability set to 0.01 and results returned in a result set.  "
   ]
  },
  {
   "cell_type": "code",
   "execution_count": 42,
   "metadata": {},
   "outputs": [
    {
     "data": {
      "text/plain": [
       "Success: 0 rows affected"
      ]
     },
     "execution_count": 42,
     "metadata": {
      "application/vnd.teradata.resultset": ""
     },
     "output_type": "execute_result"
    },
    {
     "ename": "WARNING",
     "evalue": "[Teradata Database] [Warning 3212] The stored procedure returned one or more result sets.",
     "output_type": "error",
     "traceback": [
      "[Teradata Database] [Warning 3212] The stored procedure returned one or more result sets."
     ]
    },
    {
     "data": {
      "application/vnd.teradata.resultset": "\"years_with_bank\",\"ChiSq\",\"DF\",\"MedianPValue\",\"MedianPText\",\"MedianCallP_1E-2\"\n\"3\",\"100.0969510011295\",\"3\",\"0.0001\",\"<0.0001\",\"p\"\n\"5\",\"98.98244733043795\",\"3\",\"0.0001\",\"<0.0001\",\"p\"\n\"0\",\"16.604904354904356\",\"3\",\"0.0008843323011702343\",\"\",\"p\"\n\"14\",\"2.233403110047847\",\"3\",\"0.25\",\">0.25\",\"a\"\n\"12\",\"9.167059563099166\",\"3\",\"0.027956035435991015\",\"\",\"a\"\n\"4\",\"77.54838819017066\",\"3\",\"0.0001\",\"<0.0001\",\"p\"\n\"7\",\"74.72117984547474\",\"3\",\"0.0001\",\"<0.0001\",\"p\"\n\"2\",\"111.94131226907886\",\"3\",\"0.0001\",\"<0.0001\",\"p\"\n\"13\",\"2.8559997422237497\",\"3\",\"0.25\",\">0.25\",\"a\"\n\"9\",\"23.73665898145068\",\"3\",\"0.0001\",\"<0.0001\",\"p\"\n\"11\",\"0.12788512300707422\",\"3\",\"0.25\",\">0.25\",\"a\"\n\"6\",\"67.65712906289531\",\"3\",\"0.0001\",\"<0.0001\",\"p\"\n\"1\",\"54.205555555555556\",\"3\",\"0.0001\",\"<0.0001\",\"p\"\n\"8\",\"64.78631020023145\",\"3\",\"0.0001\",\"<0.0001\",\"p\"\n\"10\",\"20.81869569607782\",\"3\",\"0.00013383716364114627\",\"\",\"p\"",
      "text/html": [
       "<div class = \"td-resultset-table-div\" style = \"max-height: 100%; overflow-y: auto\">\n",
       "      <table class=\"tdhistory249494\"><style>\n",
       "      table.tdhistory249494 { display: block !important; min-height: 399px !important; overflow: auto !important; height: 399px !important; width: 100% !important; border: 1px solid rgb(207, 207, 207) !important; border-collapse: collapse !important; ; color: var(--jp-ui-font-color1) !important; }\n",
       "      th.tdhistory249494 { border: 1px solid rgb(198,198,198) !important; border-collapse: collapse !important; ; padding: 2px 5px !important; ; font-size: 13px !important; ; text-align: center !important; white-space: normal !important; color: var(--jp-ui-font-color1) !important; }\n",
       "      th.tdhistory249494:last-child { text-align: left !important; }\n",
       "      tbody.tdhistory249494 tr:nth-child(even) { background: rgba(243, 243, 243, 0.75) !important; }\n",
       "      tbody.tdhistory249494 tr:nth-child(odd) { background: var(--jp-ui-inverse-font-color1) !important; }\n",
       "      td.tdhistory249494 { border: 1px solid rgb(207, 207, 207) !important; border-collapse: collapse !important; ; padding: 2px 5px !important; ; font-size: 13px !important; ; text-align: left !important;          white-space: nowrap !important; overflow:hidden !important; text-overflow:ellipsis !important;; }\n",
       "    </style><thead><tr style= \"background: rgba(243, 243, 243, 0.75)\"><th class=\"tdhistory249494\"></th><th class=\"tdhistory249494\">years_with_bank</th><th class=\"tdhistory249494\">ChiSq</th><th class=\"tdhistory249494\">DF</th><th class=\"tdhistory249494\">MedianPValue</th><th class=\"tdhistory249494\">MedianPText</th><th class=\"tdhistory249494\">MedianCallP_1E-2</th></tr></thead><tbody class=\"tdhistory249494 resultset-body\"><tr><th class=\"tdhistory249494\" style= \"background: rgba(243, 243, 243, 0.75)\">1</th><td class=\"tdhistory249494\">3</td><td class=\"tdhistory249494\">100.0969510011295</td><td class=\"tdhistory249494\">3</td><td class=\"tdhistory249494\">0.0001</td><td class=\"tdhistory249494\"><0.0001</td><td class=\"tdhistory249494\">p</td></tr><tr><th class=\"tdhistory249494\" style= \"background: rgba(243, 243, 243, 0.75)\">2</th><td class=\"tdhistory249494\">5</td><td class=\"tdhistory249494\">98.98244733043795</td><td class=\"tdhistory249494\">3</td><td class=\"tdhistory249494\">0.0001</td><td class=\"tdhistory249494\"><0.0001</td><td class=\"tdhistory249494\">p</td></tr><tr><th class=\"tdhistory249494\" style= \"background: rgba(243, 243, 243, 0.75)\">3</th><td class=\"tdhistory249494\">0</td><td class=\"tdhistory249494\">16.604904354904356</td><td class=\"tdhistory249494\">3</td><td class=\"tdhistory249494\">0.0008843323011702343</td><td class=\"tdhistory249494\"></td><td class=\"tdhistory249494\">p</td></tr><tr><th class=\"tdhistory249494\" style= \"background: rgba(243, 243, 243, 0.75)\">4</th><td class=\"tdhistory249494\">14</td><td class=\"tdhistory249494\">2.233403110047847</td><td class=\"tdhistory249494\">3</td><td class=\"tdhistory249494\">0.25</td><td class=\"tdhistory249494\">>0.25</td><td class=\"tdhistory249494\">a</td></tr><tr><th class=\"tdhistory249494\" style= \"background: rgba(243, 243, 243, 0.75)\">5</th><td class=\"tdhistory249494\">12</td><td class=\"tdhistory249494\">9.167059563099166</td><td class=\"tdhistory249494\">3</td><td class=\"tdhistory249494\">0.027956035435991015</td><td class=\"tdhistory249494\"></td><td class=\"tdhistory249494\">a</td></tr><tr><th class=\"tdhistory249494\" style= \"background: rgba(243, 243, 243, 0.75)\">6</th><td class=\"tdhistory249494\">4</td><td class=\"tdhistory249494\">77.54838819017066</td><td class=\"tdhistory249494\">3</td><td class=\"tdhistory249494\">0.0001</td><td class=\"tdhistory249494\"><0.0001</td><td class=\"tdhistory249494\">p</td></tr><tr><th class=\"tdhistory249494\" style= \"background: rgba(243, 243, 243, 0.75)\">7</th><td class=\"tdhistory249494\">7</td><td class=\"tdhistory249494\">74.72117984547474</td><td class=\"tdhistory249494\">3</td><td class=\"tdhistory249494\">0.0001</td><td class=\"tdhistory249494\"><0.0001</td><td class=\"tdhistory249494\">p</td></tr><tr><th class=\"tdhistory249494\" style= \"background: rgba(243, 243, 243, 0.75)\">8</th><td class=\"tdhistory249494\">2</td><td class=\"tdhistory249494\">111.94131226907886</td><td class=\"tdhistory249494\">3</td><td class=\"tdhistory249494\">0.0001</td><td class=\"tdhistory249494\"><0.0001</td><td class=\"tdhistory249494\">p</td></tr><tr><th class=\"tdhistory249494\" style= \"background: rgba(243, 243, 243, 0.75)\">9</th><td class=\"tdhistory249494\">13</td><td class=\"tdhistory249494\">2.8559997422237497</td><td class=\"tdhistory249494\">3</td><td class=\"tdhistory249494\">0.25</td><td class=\"tdhistory249494\">>0.25</td><td class=\"tdhistory249494\">a</td></tr><tr><th class=\"tdhistory249494\" style= \"background: rgba(243, 243, 243, 0.75)\">10</th><td class=\"tdhistory249494\">9</td><td class=\"tdhistory249494\">23.73665898145068</td><td class=\"tdhistory249494\">3</td><td class=\"tdhistory249494\">0.0001</td><td class=\"tdhistory249494\"><0.0001</td><td class=\"tdhistory249494\">p</td></tr><tr><th class=\"tdhistory249494\" style= \"background: rgba(243, 243, 243, 0.75)\">11</th><td class=\"tdhistory249494\">11</td><td class=\"tdhistory249494\">0.12788512300707422</td><td class=\"tdhistory249494\">3</td><td class=\"tdhistory249494\">0.25</td><td class=\"tdhistory249494\">>0.25</td><td class=\"tdhistory249494\">a</td></tr><tr><th class=\"tdhistory249494\" style= \"background: rgba(243, 243, 243, 0.75)\">12</th><td class=\"tdhistory249494\">6</td><td class=\"tdhistory249494\">67.65712906289531</td><td class=\"tdhistory249494\">3</td><td class=\"tdhistory249494\">0.0001</td><td class=\"tdhistory249494\"><0.0001</td><td class=\"tdhistory249494\">p</td></tr><tr><th class=\"tdhistory249494\" style= \"background: rgba(243, 243, 243, 0.75)\">13</th><td class=\"tdhistory249494\">1</td><td class=\"tdhistory249494\">54.205555555555556</td><td class=\"tdhistory249494\">3</td><td class=\"tdhistory249494\">0.0001</td><td class=\"tdhistory249494\"><0.0001</td><td class=\"tdhistory249494\">p</td></tr><tr><th class=\"tdhistory249494\" style= \"background: rgba(243, 243, 243, 0.75)\">14</th><td class=\"tdhistory249494\">8</td><td class=\"tdhistory249494\">64.78631020023145</td><td class=\"tdhistory249494\">3</td><td class=\"tdhistory249494\">0.0001</td><td class=\"tdhistory249494\"><0.0001</td><td class=\"tdhistory249494\">p</td></tr><tr><th class=\"tdhistory249494\" style= \"background: rgba(243, 243, 243, 0.75)\">15</th><td class=\"tdhistory249494\">10</td><td class=\"tdhistory249494\">20.81869569607782</td><td class=\"tdhistory249494\">3</td><td class=\"tdhistory249494\">0.00013383716364114627</td><td class=\"tdhistory249494\"></td><td class=\"tdhistory249494\">p</td></tr></tbody></table></div>"
      ]
     },
     "execution_count": 42,
     "metadata": {
      "application/vnd.teradata.resultset": "{\"resultSetID\":\"/home/jovyan/JupyterLabRoot/Teradata/Resultsets/2022.09.16_21.04.22.528_UTC\",\"historyID\":344,\"chunkID\":\"00001\",\"sessionid\":\"\",\"portnum\":\"\",\"dockermode\":\"docker\",\"totalRowCount\":15,\"chunkCount\":0,\"rowLimit\":0,\"columnMetadata\":[{\"columnName\":\"years_with_bank\",\"columnTypeName\":\"INTEGER\"},{\"columnNumber\":1,\"columnName\":\"ChiSq\",\"columnTypeName\":\"FLOAT\"},{\"columnNumber\":2,\"columnName\":\"DF\",\"columnTypeName\":\"BIGINT\"},{\"columnNumber\":3,\"columnName\":\"MedianPValue\",\"columnTypeName\":\"FLOAT\"},{\"columnNumber\":4,\"columnName\":\"MedianPText\",\"columnTypeName\":\"VARCHAR\",\"length\":7,\"scale\":7},{\"columnNumber\":5,\"columnName\":\"MedianCallP_1E-2\",\"columnTypeName\":\"VARCHAR\",\"length\":1,\"scale\":1}]}"
     },
     "output_type": "execute_result"
    }
   ],
   "source": [
    "call ${VALDB}.td_analyze('chisquaretest', \n",
    "                         'statsdatabase=${VALDB};\n",
    "                          teststyle=median;\n",
    "                          database=${XSPDB};\n",
    "                          tablename=Customer;\n",
    "                          columnofinterest=income;\n",
    "                          columns=marital_status;\n",
    "                          groupby=years_with_bank;\n",
    "                          thresholdprobability=0.01;');"
   ]
  },
  {
   "cell_type": "markdown",
   "metadata": {},
   "source": [
    "---"
   ]
  },
  {
   "cell_type": "markdown",
   "metadata": {},
   "source": [
    "Since we are in a beta phase, the following command can be used to determine the specific release you are running:"
   ]
  },
  {
   "cell_type": "code",
   "execution_count": 43,
   "metadata": {},
   "outputs": [
    {
     "data": {
      "text/plain": [
       "Success: 0 rows affected"
      ]
     },
     "execution_count": 43,
     "metadata": {
      "application/vnd.teradata.resultset": ""
     },
     "output_type": "execute_result"
    },
    {
     "ename": "WARNING",
     "evalue": "[Teradata Database] [Warning 3212] The stored procedure returned one or more result sets.",
     "output_type": "error",
     "traceback": [
      "[Teradata Database] [Warning 3212] The stored procedure returned one or more result sets."
     ]
    },
    {
     "data": {
      "application/vnd.teradata.resultset": "\"version\"\n\"VAL In-DB 2.1.0.0\"",
      "text/html": [
       "<div class = \"td-resultset-table-div\" style = \"max-height: 100%; overflow-y: auto\">\n",
       "      <table class=\"tdhistory655044\"><style>\n",
       "      table.tdhistory655044 { display: block !important; min-height: 105px !important; overflow: auto !important; height: 105px !important; width: 100% !important; border: 1px solid rgb(207, 207, 207) !important; border-collapse: collapse !important; ; color: var(--jp-ui-font-color1) !important; }\n",
       "      th.tdhistory655044 { border: 1px solid rgb(198,198,198) !important; border-collapse: collapse !important; ; padding: 2px 5px !important; ; font-size: 13px !important; ; text-align: center !important; white-space: normal !important; color: var(--jp-ui-font-color1) !important; }\n",
       "      th.tdhistory655044:last-child { text-align: left !important; }\n",
       "      tbody.tdhistory655044 tr:nth-child(even) { background: rgba(243, 243, 243, 0.75) !important; }\n",
       "      tbody.tdhistory655044 tr:nth-child(odd) { background: var(--jp-ui-inverse-font-color1) !important; }\n",
       "      td.tdhistory655044 { border: 1px solid rgb(207, 207, 207) !important; border-collapse: collapse !important; ; padding: 2px 5px !important; ; font-size: 13px !important; ; text-align: left !important;          white-space: nowrap !important; overflow:hidden !important; text-overflow:ellipsis !important;; }\n",
       "    </style><thead><tr style= \"background: rgba(243, 243, 243, 0.75)\"><th class=\"tdhistory655044\"></th><th class=\"tdhistory655044\">version</th></tr></thead><tbody class=\"tdhistory655044 resultset-body\"><tr><th class=\"tdhistory655044\" style= \"background: rgba(243, 243, 243, 0.75)\">1</th><td class=\"tdhistory655044\">VAL In-DB 2.1.0.0</td></tr></tbody></table></div>"
      ]
     },
     "execution_count": 43,
     "metadata": {
      "application/vnd.teradata.resultset": "{\"resultSetID\":\"/home/jovyan/JupyterLabRoot/Teradata/Resultsets/2022.09.16_21.04.25.450_UTC\",\"historyID\":345,\"chunkID\":\"00001\",\"sessionid\":\"\",\"portnum\":\"\",\"dockermode\":\"docker\",\"totalRowCount\":1,\"chunkCount\":0,\"rowLimit\":0,\"columnMetadata\":[{\"columnName\":\"version\",\"columnTypeName\":\"VARCHAR\",\"length\":17,\"scale\":17}]}"
     },
     "output_type": "execute_result"
    }
   ],
   "source": [
    "call ${VALDB}.td_analyze('version','');"
   ]
  },
  {
   "cell_type": "code",
   "execution_count": 44,
   "metadata": {},
   "outputs": [
    {
     "data": {
      "text/plain": [
       "Success: 21 rows affected"
      ]
     },
     "execution_count": 44,
     "metadata": {
      "application/vnd.teradata.resultset": ""
     },
     "output_type": "execute_result"
    }
   ],
   "source": [
    "DROP TABLE \"${QLID}\".\"VAL_Friedman_Worktable\";"
   ]
  },
  {
   "cell_type": "code",
   "execution_count": 45,
   "metadata": {},
   "outputs": [
    {
     "data": {
      "text/plain": [
       "Success: 42 rows affected"
      ]
     },
     "execution_count": 45,
     "metadata": {
      "application/vnd.teradata.resultset": ""
     },
     "output_type": "execute_result"
    }
   ],
   "source": [
    "DROP TABLE \"${QLID}\".\"VAL_ADS\";"
   ]
  },
  {
   "cell_type": "markdown",
   "metadata": {},
   "source": [
    "<footer style=\"padding:10px;background:#f9f9f9;border-bottom:3px solid #394851\">©2022 Teradata. All Rights Reserved</footer>"
   ]
  }
 ],
 "metadata": {
  "kernelspec": {
   "display_name": "Teradata SQL",
   "language": "Teradata SQL",
   "name": "teradatasql"
  },
  "language_info": {
   "codemirror_mode": "Teradata SQL",
   "file_extension": ".tdrs",
   "mimetype": "application/vnd.teradata.resultset",
   "name": "Teradata SQL",
   "nbconvert_exporter": "",
   "pygments_lexer": "",
   "version": "16.20"
  }
 },
 "nbformat": 4,
 "nbformat_minor": 4
}
