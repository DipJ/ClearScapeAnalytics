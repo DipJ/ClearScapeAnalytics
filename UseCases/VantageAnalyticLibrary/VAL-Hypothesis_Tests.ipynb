{
 "cells": [
  {
   "cell_type": "markdown",
   "metadata": {},
   "source": [
    "<header style=\"padding:1px;background:#f9f9f9;border-top:3px solid #00b2b1\"><img id=\"Teradata-logo\" src=\"https://www.teradata.com/Teradata/Images/Rebrand/Teradata_logo-two_color.png\" alt=\"Teradata\" width=\"220\" align=\"right\" />\n",
    "\n",
    "<b style = 'font-size:28px;font-family:Arial;color:#E37C4D'>Vantage Analytic Library Demo \n",
    "\n",
    "</header>\n",
    "\n",
    "<p style = 'font-size:20px;font-family:Arial;color:#E37C4D'><b>Hypothesis Tests</b></p>\n",
    "\n",
    "<p style = 'font-size:16px;font-family:Arial'>Statistical tests provide a means of testing whether the outcome of an experiment could have been accidental.  Numerous tests are provided in-database, all of the hypothesis testing variety.  These include the following 18 tests, categorized below, that are currently available in the Vantage Analytic Library XSP release 2.0.</p>\n",
    "\n",
    "<p style = 'font-size:16px;font-family:Arial'><b>Parametric Tests</b></p>\n",
    "\n",
    "<p style = 'font-size:16px;font-family:Arial'>Two Sample T-Test for Equal Means</p>\n",
    "    <li>T Paired</li>\n",
    "    <li>T Unpaired</li>\n",
    "    <li>T Unpaired with Indicator</li>\n",
    "<p style = 'font-size:16px;font-family:Arial'>F-Test – N-Way</p>\n",
    "<p style = 'font-size:16px;font-family:Arial'>F-Test/Analysis of Variance (Two Way Unequal Sample Size)</p>\n",
    "\n",
    "<p style = 'font-size:16px;font-family:Arial'><b>Binomial Tests</b>\n",
    "\n",
    "<li>Binomial/Ztest</li>\n",
    "<li>Binomial Sign Test</li>\n",
    "</p>\n",
    "    \n",
    "<p style = 'font-size:16px;font-family:Arial'><b>Tests based on Contingency</b>\n",
    "\n",
    "<li>Chi Square Test</li>\n",
    "<li>Median Test</li>\n",
    "</p>\n",
    "    \n",
    "<p style = 'font-size:16px;font-family:Arial'><b>Kolmogorov/Smirnoff Tests</b>\n",
    "    \n",
    "<li>Kolmogorov/Smirnoff Test (One Sample)</li>\n",
    "<li>Lilliefors Test</li>\n",
    "<li>Shapiro-Wilk Test</li>\n",
    "<li>D’Agostino and Pearson Test</li>\n",
    "<li>Smirnov Test</li>\n",
    "</p>\n",
    "    \n",
    "<p style = 'font-size:16px;font-family:Arial'><b>Rank Tests</b>\n",
    "\n",
    "<li>Mann-Whitney/Kruskal-Wallis Test</li>\n",
    "<li>Mann-Whitney/Kruskal-Wallis Independent Tests</li>\n",
    "<li>Wilcoxon Signed Ranks Test</li>\n",
    "<li>Frieman Test with Kendall’s Coefficient of Concordance & Spearman’s Rho</li>\n",
    "</p>\n",
    "    \n",
    "<p style = 'font-size:16px;font-family:Arial'>In order to execute the Statistical Tests described in this book, the Statistical Test Metadata tables must be loaded into a database on the system to be analyzed.  These tables have been loaded into the TRNG_XSP database along with the other VAL XSP and Table Operators.  The Statistical Test functions all provide a parameter called statsdatabase that can be used to specify the database in which these tables are installed.</p>\n",
    "\n",
    "<p style = 'font-size:16px;font-family:Arial'><b>Vantage Analytic Library - Call Structure</b></p>\n",
    "\n",
    "<p style = 'font-size:16px;font-family:Arial'>call ${XSPDB}.td_analyze('\\<function name\\>','\\<database=database name\\>;\\<tablename=table name\\>;\\<columns=column1, column2\\>,'\\<param1\\>=\\<value1\\>;\\<param2\\>=\\<value2\\>...');</p>"
   ]
  },
  {
   "cell_type": "markdown",
   "metadata": {},
   "source": [
    "---"
   ]
  },
  {
   "cell_type": "markdown",
   "metadata": {},
   "source": [
    "   \n",
    "<p style = 'font-size:16px;font-family:Arial'>In the instructions below, use \"SystemName=local\" and \"QLID=demo_user\"</p>"
   ]
  },
  {
   "cell_type": "code",
   "execution_count": 1,
   "metadata": {},
   "outputs": [],
   "source": [
    "%var SystemName=local"
   ]
  },
  {
   "cell_type": "markdown",
   "metadata": {},
   "source": [
    "<p style = 'font-size:16px;font-family:Arial'>2) Next change QLID below to be equal to your QuickLook ID for Transcend or demo_user for DemoNow.  Your data lab will be the result database for all VAL calls where any output tables or views are created.</p>"
   ]
  },
  {
   "cell_type": "code",
   "execution_count": 2,
   "metadata": {},
   "outputs": [],
   "source": [
    "%var QLID=demo_user"
   ]
  },
  {
   "cell_type": "markdown",
   "metadata": {},
   "source": [
    "<p style = 'font-size:16px;font-family:Arial'>3) This next variable has been set for you to change, ONLY if you have installed the Vantage Analytic Library in some different database else keep it set to TRNG_XSP.  This is where the software, statistical test tables and demo data are installed.</p>"
   ]
  },
  {
   "cell_type": "code",
   "execution_count": 3,
   "metadata": {},
   "outputs": [],
   "source": [
    "%var XSPDB=DEMO_Financial"
   ]
  },
  {
   "cell_type": "code",
   "execution_count": 4,
   "metadata": {},
   "outputs": [],
   "source": [
    "%var VALDB=val"
   ]
  },
  {
   "cell_type": "markdown",
   "metadata": {},
   "source": [
    "---"
   ]
  },
  {
   "cell_type": "markdown",
   "metadata": {},
   "source": [
    "<p style = 'font-size:20px;font-family:Arial;color:#E37C4D'> <b>1. Start by connecting to the Teradata system </b></p>\n",
    "<p style = 'font-size:16px;font-family:Arial'>You will be prompted to provide the password. Enter your password, press Enter, then use down arrow to go to next cell.</p>"
   ]
  },
  {
   "cell_type": "code",
   "execution_count": 5,
   "metadata": {
    "tags": []
   },
   "outputs": [
    {
     "name": "stdin",
     "output_type": "stream",
     "text": [
      "Password: ········\n"
     ]
    },
    {
     "name": "stdout",
     "output_type": "stream",
     "text": [
      "Success: 'local' connection established and activated for user 'demo_user', with default database 'demo_user'\n"
     ]
    }
   ],
   "source": [
    "%connect local, hidewarnings=true"
   ]
  },
  {
   "cell_type": "markdown",
   "metadata": {},
   "source": [
    "<p style = 'font-size:16px;font-family:Arial'>Setup for execution of notebook. Begin running steps with Shift + Enter keys.</p>\n"
   ]
  },
  {
   "cell_type": "code",
   "execution_count": 6,
   "metadata": {},
   "outputs": [
    {
     "data": {
      "text/plain": [
       "Success: 1 rows affected"
      ]
     },
     "execution_count": 6,
     "metadata": {
      "application/vnd.teradata.resultset": ""
     },
     "output_type": "execute_result"
    }
   ],
   "source": [
    "Set query_band='DEMO=VAL-Hypothesis_Tests.ipynb;' update for session;"
   ]
  },
  {
   "cell_type": "markdown",
   "metadata": {},
   "source": [
    "<p style = 'font-size:20px;font-family:Arial;color:#E37C4D'> <b>2. Getting Data for This Demo:</b></p>\n",
    "<p style = 'font-size:16px;font-family:Arial'>We have provided data for this demo on cloud storage. In this demo since we are using Temporal table we will be creating databases and tables in local storage and use them in the notebook. Please execute the procedure in the next cell.</p>\n"
   ]
  },
  {
   "cell_type": "code",
   "execution_count": 7,
   "metadata": {},
   "outputs": [
    {
     "data": {
      "text/plain": [
       "Success: 0 rows affected"
      ]
     },
     "execution_count": 7,
     "metadata": {
      "application/vnd.teradata.resultset": ""
     },
     "output_type": "execute_result"
    },
    {
     "data": {
      "text/plain": [
       "Success: 0 rows affected"
      ]
     },
     "execution_count": 7,
     "metadata": {
      "application/vnd.teradata.resultset": ""
     },
     "output_type": "execute_result"
    },
    {
     "data": {
      "application/vnd.teradata.resultset": "\"Message\"\n\"That ran for   0:00:19.88 with 15 statements and 0 errors. \"",
      "text/html": [
       "<div class = \"td-resultset-table-div\" style = \"max-height: 100%; overflow-y: auto\">\n",
       "      <table class=\"tdhistory453391\"><style>\n",
       "      table.tdhistory453391 { display: block !important; min-height: 105px !important; overflow: auto !important; height: 105px !important; width: 100% !important; border: 1px solid rgb(207, 207, 207) !important; border-collapse: collapse !important; ; color: var(--jp-ui-font-color1) !important; }\n",
       "      th.tdhistory453391 { border: 1px solid rgb(198,198,198) !important; border-collapse: collapse !important; ; padding: 2px 5px !important; ; font-size: 13px !important; ; text-align: center !important; white-space: normal !important; color: var(--jp-ui-font-color1) !important; }\n",
       "      th.tdhistory453391:last-child { text-align: left !important; }\n",
       "      tbody.tdhistory453391 tr:nth-child(even) { background: rgba(243, 243, 243, 0.75) !important; }\n",
       "      tbody.tdhistory453391 tr:nth-child(odd) { background: var(--jp-ui-inverse-font-color1) !important; }\n",
       "      td.tdhistory453391 { border: 1px solid rgb(207, 207, 207) !important; border-collapse: collapse !important; ; padding: 2px 5px !important; ; font-size: 13px !important; ; text-align: left !important;          white-space: nowrap !important; overflow:hidden !important; text-overflow:ellipsis !important;; }\n",
       "    </style><thead><tr style= \"background: rgba(243, 243, 243, 0.75)\"><th class=\"tdhistory453391\"></th><th class=\"tdhistory453391\">Message</th></tr></thead><tbody class=\"tdhistory453391 resultset-body\"><tr><th class=\"tdhistory453391\" style= \"background: rgba(243, 243, 243, 0.75)\">1</th><td class=\"tdhistory453391\">That ran for   0:00:19.88 with 15 statements and 0 errors. </td></tr></tbody></table></div>"
      ]
     },
     "execution_count": 7,
     "metadata": {
      "application/vnd.teradata.resultset": "{\"resultSetID\":\"/home/jovyan/JupyterLabRoot/Teradata/Resultsets/2023.01.06_06.15.42.261_UTC\",\"historyID\":373,\"chunkID\":\"00001\",\"sessionid\":\"\",\"portnum\":\"\",\"dockermode\":\"docker\",\"totalRowCount\":1,\"chunkCount\":0,\"rowLimit\":0,\"columnMetadata\":[{\"columnName\":\"Message\",\"columnTypeName\":\"VARCHAR\",\"length\":150,\"scale\":150}]}"
     },
     "output_type": "execute_result"
    }
   ],
   "source": [
    "call get_data('DEMO_Financial_cloud'); ---takes about 35 seconds\n",
    "---call get_data('DEMO_Financial_local'); ---takes about 100 seconds"
   ]
  },
  {
   "cell_type": "markdown",
   "metadata": {},
   "source": [
    "<p style = 'font-size:16px;font-family:Arial'>Optional step – if you want to see status of databases/tables created and space used.</p>\n"
   ]
  },
  {
   "cell_type": "code",
   "execution_count": 8,
   "metadata": {},
   "outputs": [
    {
     "data": {
      "text/plain": [
       "Success: 0 rows affected"
      ]
     },
     "execution_count": 8,
     "metadata": {
      "application/vnd.teradata.resultset": ""
     },
     "output_type": "execute_result"
    },
    {
     "data": {
      "text/plain": [
       "Success: 0 rows affected"
      ]
     },
     "execution_count": 8,
     "metadata": {
      "application/vnd.teradata.resultset": ""
     },
     "output_type": "execute_result"
    },
    {
     "data": {
      "application/vnd.teradata.resultset": "\"Space_Report\"\n\"You have:  #databases=1 #tables=40 #views=7  You have used 11.7 MB of 30,850.2 MB available - 0.0%  ... Space Usage OK\"\n\" \"\n\"   Database Name                  #tables  #views     Avail MB      Used MB\"\n\"   demo_user                           40       1  30,850.2 MB      11.7 MB \"\n\"   DEMO_Financial                       0       6       0.0 MB       0.0 MB \"",
      "text/html": [
       "<div class = \"td-resultset-table-div\" style = \"max-height: 100%; overflow-y: auto\">\n",
       "      <table class=\"tdhistory315582\"><style>\n",
       "      table.tdhistory315582 { display: block !important; min-height: 189px !important; overflow: auto !important; height: 189px !important; width: 100% !important; border: 1px solid rgb(207, 207, 207) !important; border-collapse: collapse !important; ; color: var(--jp-ui-font-color1) !important; }\n",
       "      th.tdhistory315582 { border: 1px solid rgb(198,198,198) !important; border-collapse: collapse !important; ; padding: 2px 5px !important; ; font-size: 13px !important; ; text-align: center !important; white-space: normal !important; color: var(--jp-ui-font-color1) !important; }\n",
       "      th.tdhistory315582:last-child { text-align: left !important; }\n",
       "      tbody.tdhistory315582 tr:nth-child(even) { background: rgba(243, 243, 243, 0.75) !important; }\n",
       "      tbody.tdhistory315582 tr:nth-child(odd) { background: var(--jp-ui-inverse-font-color1) !important; }\n",
       "      td.tdhistory315582 { border: 1px solid rgb(207, 207, 207) !important; border-collapse: collapse !important; ; padding: 2px 5px !important; ; font-size: 13px !important; ; text-align: left !important;          white-space: nowrap !important; overflow:hidden !important; text-overflow:ellipsis !important;; }\n",
       "    </style><thead><tr style= \"background: rgba(243, 243, 243, 0.75)\"><th class=\"tdhistory315582\"></th><th class=\"tdhistory315582\">Space_Report</th></tr></thead><tbody class=\"tdhistory315582 resultset-body\"><tr><th class=\"tdhistory315582\" style= \"background: rgba(243, 243, 243, 0.75)\">1</th><td class=\"tdhistory315582\">You have:  #databases=1 #tables=40 #views=7  You have used 11.7 MB of 30,850.2 MB available - 0.0%  ... Space Usage OK</td></tr><tr><th class=\"tdhistory315582\" style= \"background: rgba(243, 243, 243, 0.75)\">2</th><td class=\"tdhistory315582\"> </td></tr><tr><th class=\"tdhistory315582\" style= \"background: rgba(243, 243, 243, 0.75)\">3</th><td class=\"tdhistory315582\">   Database Name                  #tables  #views     Avail MB      Used MB</td></tr><tr><th class=\"tdhistory315582\" style= \"background: rgba(243, 243, 243, 0.75)\">4</th><td class=\"tdhistory315582\">   demo_user                           40       1  30,850.2 MB      11.7 MB </td></tr><tr><th class=\"tdhistory315582\" style= \"background: rgba(243, 243, 243, 0.75)\">5</th><td class=\"tdhistory315582\">   DEMO_Financial                       0       6       0.0 MB       0.0 MB </td></tr></tbody></table></div>"
      ]
     },
     "execution_count": 8,
     "metadata": {
      "application/vnd.teradata.resultset": "{\"resultSetID\":\"/home/jovyan/JupyterLabRoot/Teradata/Resultsets/2023.01.06_06.15.44.467_UTC\",\"historyID\":374,\"chunkID\":\"00001\",\"sessionid\":\"\",\"portnum\":\"\",\"dockermode\":\"docker\",\"totalRowCount\":5,\"chunkCount\":0,\"rowLimit\":0,\"columnMetadata\":[{\"columnName\":\"Space_Report\",\"columnTypeName\":\"VARCHAR\",\"length\":150,\"scale\":150}]}"
     },
     "output_type": "execute_result"
    }
   ],
   "source": [
    "call space_report();  -- optional, takes about 10 seconds"
   ]
  },
  {
   "cell_type": "markdown",
   "metadata": {},
   "source": [
    "<p style = 'font-size:16px;font-family:Arial'>Change focus to the database specified by the variable \"XSPDB\" above.</p>"
   ]
  },
  {
   "cell_type": "code",
   "execution_count": 9,
   "metadata": {},
   "outputs": [
    {
     "data": {
      "text/plain": [
       "Success: 1 rows affected"
      ]
     },
     "execution_count": 9,
     "metadata": {
      "application/vnd.teradata.resultset": ""
     },
     "output_type": "execute_result"
    }
   ],
   "source": [
    "DATABASE ${XSPDB};"
   ]
  },
  {
   "cell_type": "markdown",
   "metadata": {},
   "source": [
    "<p style = 'font-size:20px;font-family:Arial;color:#E37C4D'><b>3. Demo data - Financial Customers/Accounts/Transactions</b></p>\n",
    "\n",
    "<p style = 'font-size:16px;font-family:Arial'>The following data has been put into the ${XSPDB} database for the examples in the three different Jupyter Notebooks.  Its a simplistic ficticious dataset of banking customers (approx. 10K rows), Accounts (approx. 20K rows) and Transactions (approx. 1Million rows).  They are related to each other in the following ways:</p>\n",
    "\n",
    "<img src=\"images/DemoData.png\">"
   ]
  },
  {
   "cell_type": "code",
   "execution_count": 10,
   "metadata": {
    "scrolled": true,
    "tags": []
   },
   "outputs": [
    {
     "data": {
      "application/vnd.teradata.resultset": "\"cust_id\",\"income\",\"age\",\"years_with_bank\",\"nbr_children\",\"gender\",\"marital_status\",\"postal_code\",\"state_code\"\n\"29993326\",\"37103.0\",\"24\",\"9\",\"0\",\"F\",\"1\",\"55113\",\"MN\"\n\"21800320\",\"151780.2\",\"49\",\"5\",\"5\",\"F\",\"4\",\"90061\",\"CA\"\n\"23163724\",\".0\",\"22\",\"3\",\"0\",\"M\",\"1\",\"87194\",\"NM\"\n\"31340030\",\"22084.6\",\"79\",\"9\",\"0\",\"M\",\"2\",\"96846\",\"HI\"\n\"25895442\",\"3263.1\",\"86\",\"3\",\"0\",\"M\",\"2\",\"94162\",\"CA\"\n\"13626090\",\"1929.0\",\"80\",\"9\",\"1\",\"F\",\"2\",\"96846\",\"HI\"\n\"14994067\",\"23829.3\",\"56\",\"6\",\"3\",\"F\",\"2\",\"96849\",\"HI\"\n\"17718948\",\"30356.3\",\"47\",\"4\",\"4\",\"F\",\"2\",\"19136\",\"PA\"\n\"31341134\",\"104946.7\",\"44\",\"4\",\"2\",\"F\",\"3\",\"48208\",\"MI\"\n\"31337408\",\".0\",\"13\",\"2\",\"0\",\"M\",\"1\",\"77058\",\"TX\"",
      "text/html": [
       "<div class = \"td-resultset-table-div\" style = \"max-height: 100%; overflow-y: auto\">\n",
       "      <table class=\"tdhistory270660\"><style>\n",
       "      table.tdhistory270660 { display: block !important; min-height: 294px !important; overflow: auto !important; height: 294px !important; width: 100% !important; border: 1px solid rgb(207, 207, 207) !important; border-collapse: collapse !important; ; color: var(--jp-ui-font-color1) !important; }\n",
       "      th.tdhistory270660 { border: 1px solid rgb(198,198,198) !important; border-collapse: collapse !important; ; padding: 2px 5px !important; ; font-size: 13px !important; ; text-align: center !important; white-space: normal !important; color: var(--jp-ui-font-color1) !important; }\n",
       "      th.tdhistory270660:last-child { text-align: left !important; }\n",
       "      tbody.tdhistory270660 tr:nth-child(even) { background: rgba(243, 243, 243, 0.75) !important; }\n",
       "      tbody.tdhistory270660 tr:nth-child(odd) { background: var(--jp-ui-inverse-font-color1) !important; }\n",
       "      td.tdhistory270660 { border: 1px solid rgb(207, 207, 207) !important; border-collapse: collapse !important; ; padding: 2px 5px !important; ; font-size: 13px !important; ; text-align: left !important;          white-space: nowrap !important; overflow:hidden !important; text-overflow:ellipsis !important;; }\n",
       "    </style><thead><tr style= \"background: rgba(243, 243, 243, 0.75)\"><th class=\"tdhistory270660\"></th><th class=\"tdhistory270660\">cust_id</th><th class=\"tdhistory270660\">income</th><th class=\"tdhistory270660\">age</th><th class=\"tdhistory270660\">years_with_bank</th><th class=\"tdhistory270660\">nbr_children</th><th class=\"tdhistory270660\">gender</th><th class=\"tdhistory270660\">marital_status</th><th class=\"tdhistory270660\">postal_code</th><th class=\"tdhistory270660\">state_code</th></tr></thead><tbody class=\"tdhistory270660 resultset-body\"><tr><th class=\"tdhistory270660\" style= \"background: rgba(243, 243, 243, 0.75)\">1</th><td class=\"tdhistory270660\">29993326</td><td class=\"tdhistory270660\">37103.0</td><td class=\"tdhistory270660\">24</td><td class=\"tdhistory270660\">9</td><td class=\"tdhistory270660\">0</td><td class=\"tdhistory270660\">F</td><td class=\"tdhistory270660\">1</td><td class=\"tdhistory270660\">55113</td><td class=\"tdhistory270660\">MN</td></tr><tr><th class=\"tdhistory270660\" style= \"background: rgba(243, 243, 243, 0.75)\">2</th><td class=\"tdhistory270660\">21800320</td><td class=\"tdhistory270660\">151780.2</td><td class=\"tdhistory270660\">49</td><td class=\"tdhistory270660\">5</td><td class=\"tdhistory270660\">5</td><td class=\"tdhistory270660\">F</td><td class=\"tdhistory270660\">4</td><td class=\"tdhistory270660\">90061</td><td class=\"tdhistory270660\">CA</td></tr><tr><th class=\"tdhistory270660\" style= \"background: rgba(243, 243, 243, 0.75)\">3</th><td class=\"tdhistory270660\">23163724</td><td class=\"tdhistory270660\">.0</td><td class=\"tdhistory270660\">22</td><td class=\"tdhistory270660\">3</td><td class=\"tdhistory270660\">0</td><td class=\"tdhistory270660\">M</td><td class=\"tdhistory270660\">1</td><td class=\"tdhistory270660\">87194</td><td class=\"tdhistory270660\">NM</td></tr><tr><th class=\"tdhistory270660\" style= \"background: rgba(243, 243, 243, 0.75)\">4</th><td class=\"tdhistory270660\">31340030</td><td class=\"tdhistory270660\">22084.6</td><td class=\"tdhistory270660\">79</td><td class=\"tdhistory270660\">9</td><td class=\"tdhistory270660\">0</td><td class=\"tdhistory270660\">M</td><td class=\"tdhistory270660\">2</td><td class=\"tdhistory270660\">96846</td><td class=\"tdhistory270660\">HI</td></tr><tr><th class=\"tdhistory270660\" style= \"background: rgba(243, 243, 243, 0.75)\">5</th><td class=\"tdhistory270660\">25895442</td><td class=\"tdhistory270660\">3263.1</td><td class=\"tdhistory270660\">86</td><td class=\"tdhistory270660\">3</td><td class=\"tdhistory270660\">0</td><td class=\"tdhistory270660\">M</td><td class=\"tdhistory270660\">2</td><td class=\"tdhistory270660\">94162</td><td class=\"tdhistory270660\">CA</td></tr><tr><th class=\"tdhistory270660\" style= \"background: rgba(243, 243, 243, 0.75)\">6</th><td class=\"tdhistory270660\">13626090</td><td class=\"tdhistory270660\">1929.0</td><td class=\"tdhistory270660\">80</td><td class=\"tdhistory270660\">9</td><td class=\"tdhistory270660\">1</td><td class=\"tdhistory270660\">F</td><td class=\"tdhistory270660\">2</td><td class=\"tdhistory270660\">96846</td><td class=\"tdhistory270660\">HI</td></tr><tr><th class=\"tdhistory270660\" style= \"background: rgba(243, 243, 243, 0.75)\">7</th><td class=\"tdhistory270660\">14994067</td><td class=\"tdhistory270660\">23829.3</td><td class=\"tdhistory270660\">56</td><td class=\"tdhistory270660\">6</td><td class=\"tdhistory270660\">3</td><td class=\"tdhistory270660\">F</td><td class=\"tdhistory270660\">2</td><td class=\"tdhistory270660\">96849</td><td class=\"tdhistory270660\">HI</td></tr><tr><th class=\"tdhistory270660\" style= \"background: rgba(243, 243, 243, 0.75)\">8</th><td class=\"tdhistory270660\">17718948</td><td class=\"tdhistory270660\">30356.3</td><td class=\"tdhistory270660\">47</td><td class=\"tdhistory270660\">4</td><td class=\"tdhistory270660\">4</td><td class=\"tdhistory270660\">F</td><td class=\"tdhistory270660\">2</td><td class=\"tdhistory270660\">19136</td><td class=\"tdhistory270660\">PA</td></tr><tr><th class=\"tdhistory270660\" style= \"background: rgba(243, 243, 243, 0.75)\">9</th><td class=\"tdhistory270660\">31341134</td><td class=\"tdhistory270660\">104946.7</td><td class=\"tdhistory270660\">44</td><td class=\"tdhistory270660\">4</td><td class=\"tdhistory270660\">2</td><td class=\"tdhistory270660\">F</td><td class=\"tdhistory270660\">3</td><td class=\"tdhistory270660\">48208</td><td class=\"tdhistory270660\">MI</td></tr><tr><th class=\"tdhistory270660\" style= \"background: rgba(243, 243, 243, 0.75)\">10</th><td class=\"tdhistory270660\">31337408</td><td class=\"tdhistory270660\">.0</td><td class=\"tdhistory270660\">13</td><td class=\"tdhistory270660\">2</td><td class=\"tdhistory270660\">0</td><td class=\"tdhistory270660\">M</td><td class=\"tdhistory270660\">1</td><td class=\"tdhistory270660\">77058</td><td class=\"tdhistory270660\">TX</td></tr></tbody></table></div>"
      ]
     },
     "execution_count": 10,
     "metadata": {
      "application/vnd.teradata.resultset": "{\"resultSetID\":\"/home/jovyan/JupyterLabRoot/Teradata/Resultsets/2023.01.06_06.15.47.344_UTC\",\"historyID\":376,\"chunkID\":\"00001\",\"sessionid\":\"\",\"portnum\":\"\",\"dockermode\":\"docker\",\"totalRowCount\":10,\"chunkCount\":0,\"rowLimit\":0,\"columnMetadata\":[{\"columnName\":\"cust_id\",\"columnTypeName\":\"INTEGER\"},{\"columnNumber\":1,\"columnName\":\"income\",\"columnTypeName\":\"DECIMAL\",\"length\":1,\"precision\":15,\"scale\":1},{\"columnNumber\":2,\"columnName\":\"age\",\"columnTypeName\":\"INTEGER\"},{\"columnNumber\":3,\"columnName\":\"years_with_bank\",\"columnTypeName\":\"INTEGER\"},{\"columnNumber\":4,\"columnName\":\"nbr_children\",\"columnTypeName\":\"INTEGER\"},{\"columnNumber\":5,\"columnName\":\"gender\",\"columnTypeName\":\"VARCHAR\",\"length\":1,\"scale\":1},{\"columnNumber\":6,\"columnName\":\"marital_status\",\"columnTypeName\":\"VARCHAR\",\"length\":1,\"scale\":1},{\"columnNumber\":7,\"columnName\":\"postal_code\",\"columnTypeName\":\"VARCHAR\",\"length\":5,\"scale\":5},{\"columnNumber\":8,\"columnName\":\"state_code\",\"columnTypeName\":\"VARCHAR\",\"length\":2,\"scale\":2}]}"
     },
     "output_type": "execute_result"
    }
   ],
   "source": [
    "SELECT * FROM ${XSPDB}.Customer SAMPLE 10;"
   ]
  },
  {
   "cell_type": "markdown",
   "metadata": {},
   "source": [
    "<p style = 'font-size:16px;font-family:Arial'>Below command gives the metadata for the table.</p>"
   ]
  },
  {
   "cell_type": "code",
   "execution_count": 11,
   "metadata": {},
   "outputs": [
    {
     "name": "stdout",
     "output_type": "stream",
     "text": [
      "Result Set ID: /home/jovyan/JupyterLabRoot/Teradata/Resultsets/2023.01.06_06.15.47.344_UTC\n",
      "History ID:    376\n",
      "Rows:          10 of 10\n",
      "Parts:         2\n",
      "Column Definitions:\n",
      "    cust_id: INTEGER\n",
      "    income: DECIMAL(15, 1)\n",
      "    age: INTEGER\n",
      "    years_with_bank: INTEGER\n",
      "    nbr_children: INTEGER\n",
      "    gender: VARCHAR(1)\n",
      "    marital_status: VARCHAR(1)\n",
      "    postal_code: VARCHAR(5)\n",
      "    state_code: VARCHAR(2)\n"
     ]
    }
   ],
   "source": [
    "%meta"
   ]
  },
  {
   "cell_type": "code",
   "execution_count": 12,
   "metadata": {},
   "outputs": [
    {
     "data": {
      "application/vnd.teradata.resultset": "\"acct_nbr\",\"cust_id\",\"acct_type\",\"account_active\",\"acct_start_date\",\"starting_balance\",\"ending_balance\"\n\"000000001362928223\",\"31347344\",\"CK\",\"Y\",\"1995-01-15\",\"147.140\",\"93.800\"\n\"000000001362571323\",\"31339133\",\"SV\",\"Y\",\"1991-02-23\",\"2064.570\",\"1831.090\"\n\"456114321362815423\",\"31344745\",\"CC\",\"Y\",\"1995-10-27\",\"11.000\",\"1090.000\"\n\"000000001363311311\",\"14996421\",\"SV\",\"Y\",\"1995-03-07\",\"1209.768\",\"1468.383\"\n\"000000001363262220\",\"27265240\",\"CK\",\"N\",\"1992-07-28\",\"3014.472\",\"1736.163\"\n\"000000001362500215\",\"20437500\",\"CK\",\"Y\",\"1995-12-04\",\"2381.805\",\"7497.714\"\n\"456114321363259410\",\"13632590\",\"CC\",\"Y\",\"1988-03-11\",\"723.159\",\"1504.305\"\n\"456114321362683418\",\"24528294\",\"CC\",\"Y\",\"1992-09-15\",\"2925.670\",\"5446.080\"\n\"456114321362546423\",\"31338558\",\"CC\",\"Y\",\"1990-02-19\",\"2351.610\",\"1382.630\"\n\"000000001363392212\",\"16360704\",\"CK\",\"Y\",\"1993-12-21\",\"3268.452\",\"184.149\"",
      "text/html": [
       "<div class = \"td-resultset-table-div\" style = \"max-height: 100%; overflow-y: auto\">\n",
       "      <table class=\"tdhistory300098\"><style>\n",
       "      table.tdhistory300098 { display: block !important; min-height: 294px !important; overflow: auto !important; height: 294px !important; width: 100% !important; border: 1px solid rgb(207, 207, 207) !important; border-collapse: collapse !important; ; color: var(--jp-ui-font-color1) !important; }\n",
       "      th.tdhistory300098 { border: 1px solid rgb(198,198,198) !important; border-collapse: collapse !important; ; padding: 2px 5px !important; ; font-size: 13px !important; ; text-align: center !important; white-space: normal !important; color: var(--jp-ui-font-color1) !important; }\n",
       "      th.tdhistory300098:last-child { text-align: left !important; }\n",
       "      tbody.tdhistory300098 tr:nth-child(even) { background: rgba(243, 243, 243, 0.75) !important; }\n",
       "      tbody.tdhistory300098 tr:nth-child(odd) { background: var(--jp-ui-inverse-font-color1) !important; }\n",
       "      td.tdhistory300098 { border: 1px solid rgb(207, 207, 207) !important; border-collapse: collapse !important; ; padding: 2px 5px !important; ; font-size: 13px !important; ; text-align: left !important;          white-space: nowrap !important; overflow:hidden !important; text-overflow:ellipsis !important;; }\n",
       "    </style><thead><tr style= \"background: rgba(243, 243, 243, 0.75)\"><th class=\"tdhistory300098\"></th><th class=\"tdhistory300098\">acct_nbr</th><th class=\"tdhistory300098\">cust_id</th><th class=\"tdhistory300098\">acct_type</th><th class=\"tdhistory300098\">account_active</th><th class=\"tdhistory300098\">acct_start_date</th><th class=\"tdhistory300098\">starting_balance</th><th class=\"tdhistory300098\">ending_balance</th></tr></thead><tbody class=\"tdhistory300098 resultset-body\"><tr><th class=\"tdhistory300098\" style= \"background: rgba(243, 243, 243, 0.75)\">1</th><td class=\"tdhistory300098\">000000001362928223</td><td class=\"tdhistory300098\">31347344</td><td class=\"tdhistory300098\">CK</td><td class=\"tdhistory300098\">Y</td><td class=\"tdhistory300098\">1995-01-15</td><td class=\"tdhistory300098\">147.140</td><td class=\"tdhistory300098\">93.800</td></tr><tr><th class=\"tdhistory300098\" style= \"background: rgba(243, 243, 243, 0.75)\">2</th><td class=\"tdhistory300098\">000000001362571323</td><td class=\"tdhistory300098\">31339133</td><td class=\"tdhistory300098\">SV</td><td class=\"tdhistory300098\">Y</td><td class=\"tdhistory300098\">1991-02-23</td><td class=\"tdhistory300098\">2064.570</td><td class=\"tdhistory300098\">1831.090</td></tr><tr><th class=\"tdhistory300098\" style= \"background: rgba(243, 243, 243, 0.75)\">3</th><td class=\"tdhistory300098\">456114321362815423</td><td class=\"tdhistory300098\">31344745</td><td class=\"tdhistory300098\">CC</td><td class=\"tdhistory300098\">Y</td><td class=\"tdhistory300098\">1995-10-27</td><td class=\"tdhistory300098\">11.000</td><td class=\"tdhistory300098\">1090.000</td></tr><tr><th class=\"tdhistory300098\" style= \"background: rgba(243, 243, 243, 0.75)\">4</th><td class=\"tdhistory300098\">000000001363311311</td><td class=\"tdhistory300098\">14996421</td><td class=\"tdhistory300098\">SV</td><td class=\"tdhistory300098\">Y</td><td class=\"tdhistory300098\">1995-03-07</td><td class=\"tdhistory300098\">1209.768</td><td class=\"tdhistory300098\">1468.383</td></tr><tr><th class=\"tdhistory300098\" style= \"background: rgba(243, 243, 243, 0.75)\">5</th><td class=\"tdhistory300098\">000000001363262220</td><td class=\"tdhistory300098\">27265240</td><td class=\"tdhistory300098\">CK</td><td class=\"tdhistory300098\">N</td><td class=\"tdhistory300098\">1992-07-28</td><td class=\"tdhistory300098\">3014.472</td><td class=\"tdhistory300098\">1736.163</td></tr><tr><th class=\"tdhistory300098\" style= \"background: rgba(243, 243, 243, 0.75)\">6</th><td class=\"tdhistory300098\">000000001362500215</td><td class=\"tdhistory300098\">20437500</td><td class=\"tdhistory300098\">CK</td><td class=\"tdhistory300098\">Y</td><td class=\"tdhistory300098\">1995-12-04</td><td class=\"tdhistory300098\">2381.805</td><td class=\"tdhistory300098\">7497.714</td></tr><tr><th class=\"tdhistory300098\" style= \"background: rgba(243, 243, 243, 0.75)\">7</th><td class=\"tdhistory300098\">456114321363259410</td><td class=\"tdhistory300098\">13632590</td><td class=\"tdhistory300098\">CC</td><td class=\"tdhistory300098\">Y</td><td class=\"tdhistory300098\">1988-03-11</td><td class=\"tdhistory300098\">723.159</td><td class=\"tdhistory300098\">1504.305</td></tr><tr><th class=\"tdhistory300098\" style= \"background: rgba(243, 243, 243, 0.75)\">8</th><td class=\"tdhistory300098\">456114321362683418</td><td class=\"tdhistory300098\">24528294</td><td class=\"tdhistory300098\">CC</td><td class=\"tdhistory300098\">Y</td><td class=\"tdhistory300098\">1992-09-15</td><td class=\"tdhistory300098\">2925.670</td><td class=\"tdhistory300098\">5446.080</td></tr><tr><th class=\"tdhistory300098\" style= \"background: rgba(243, 243, 243, 0.75)\">9</th><td class=\"tdhistory300098\">456114321362546423</td><td class=\"tdhistory300098\">31338558</td><td class=\"tdhistory300098\">CC</td><td class=\"tdhistory300098\">Y</td><td class=\"tdhistory300098\">1990-02-19</td><td class=\"tdhistory300098\">2351.610</td><td class=\"tdhistory300098\">1382.630</td></tr><tr><th class=\"tdhistory300098\" style= \"background: rgba(243, 243, 243, 0.75)\">10</th><td class=\"tdhistory300098\">000000001363392212</td><td class=\"tdhistory300098\">16360704</td><td class=\"tdhistory300098\">CK</td><td class=\"tdhistory300098\">Y</td><td class=\"tdhistory300098\">1993-12-21</td><td class=\"tdhistory300098\">3268.452</td><td class=\"tdhistory300098\">184.149</td></tr></tbody></table></div>"
      ]
     },
     "execution_count": 12,
     "metadata": {
      "application/vnd.teradata.resultset": "{\"resultSetID\":\"/home/jovyan/JupyterLabRoot/Teradata/Resultsets/2023.01.06_06.15.49.727_UTC\",\"historyID\":377,\"chunkID\":\"00001\",\"sessionid\":\"\",\"portnum\":\"\",\"dockermode\":\"docker\",\"totalRowCount\":10,\"chunkCount\":0,\"rowLimit\":0,\"columnMetadata\":[{\"columnName\":\"acct_nbr\",\"columnTypeName\":\"VARCHAR\",\"length\":18,\"scale\":18},{\"columnNumber\":1,\"columnName\":\"cust_id\",\"columnTypeName\":\"INTEGER\"},{\"columnNumber\":2,\"columnName\":\"acct_type\",\"columnTypeName\":\"VARCHAR\",\"length\":2,\"scale\":2},{\"columnNumber\":3,\"columnName\":\"account_active\",\"columnTypeName\":\"VARCHAR\",\"length\":1,\"scale\":1},{\"columnNumber\":4,\"columnName\":\"acct_start_date\",\"columnTypeName\":\"DATE\"},{\"columnNumber\":5,\"columnName\":\"starting_balance\",\"columnTypeName\":\"DECIMAL\",\"length\":3,\"precision\":11,\"scale\":3},{\"columnNumber\":6,\"columnName\":\"ending_balance\",\"columnTypeName\":\"DECIMAL\",\"length\":3,\"precision\":11,\"scale\":3}]}"
     },
     "output_type": "execute_result"
    }
   ],
   "source": [
    "SELECT * FROM ${XSPDB}.Accounts SAMPLE 10;"
   ]
  },
  {
   "cell_type": "code",
   "execution_count": 13,
   "metadata": {},
   "outputs": [
    {
     "data": {
      "application/vnd.teradata.resultset": "\"tran_id\",\"acct_nbr\",\"tran_amt\",\"principal_amt\",\"interest_amt\",\"new_balance\",\"tran_date\",\"tran_time\",\"channel\",\"tran_code\"\n\"325\",\"000000001363236313\",\"-35.76\",\"9.24\",\".000\",\"35.76\",\"1995-05-24\",\"82148\",\"V\",\"TR\"\n\"264\",\"000000001362767212\",\"-38.83\",\"-87.37\",\"1.000\",\"38.83\",\"1995-01-18\",\"0\",\"P\",\"WD\"\n\"460\",\"000000001362993210\",\".00\",\".00\",\".000\",\"3319.32\",\"1995-06-19\",\"151056\",\"V\",\"IQ\"\n\"286\",\"000000001362776222\",\"-441.57\",\"-432.57\",\".000\",\"2035.27\",\"1995-02-10\",\"213849\",\"C\",\"TR\"\n\"204\",\"000000001363327217\",\"-129.45\",\"-53.45\",\".000\",\"2260.90\",\"1995-04-07\",\"80119\",\"K\",\"TR\"\n\"520\",\"000000001362767210\",\"138.49\",\"1384.90\",\".000\",\"760.44\",\"1995-02-06\",\"0\",\"M\",\"DP\"\n\"36\",\"456114321362850418\",\"75.14\",\"290.44\",\"5.692\",\"-107.18\",\"1995-02-06\",\"0\",\"M\",\"PM\"\n\"360\",\"456114321363345415\",\"-68.99\",\"-344.95\",\"5.000\",\"-2400.82\",\"1995-06-17\",\"80309\",\"E\",\"CG\"\n\"1455\",\"000000001362717215\",\".00\",\".00\",\"5.000\",\"208.33\",\"1995-10-27\",\"122152\",\"C\",\"IQ\"\n\"60\",\"000000001363145315\",\"190.48\",\"952.40\",\"5.000\",\"393.88\",\"1995-03-12\",\"91849\",\"A\",\"DP\"",
      "text/html": [
       "<div class = \"td-resultset-table-div\" style = \"max-height: 100%; overflow-y: auto\">\n",
       "      <table class=\"tdhistory185685\"><style>\n",
       "      table.tdhistory185685 { display: block !important; min-height: 294px !important; overflow: auto !important; height: 294px !important; width: 100% !important; border: 1px solid rgb(207, 207, 207) !important; border-collapse: collapse !important; ; color: var(--jp-ui-font-color1) !important; }\n",
       "      th.tdhistory185685 { border: 1px solid rgb(198,198,198) !important; border-collapse: collapse !important; ; padding: 2px 5px !important; ; font-size: 13px !important; ; text-align: center !important; white-space: normal !important; color: var(--jp-ui-font-color1) !important; }\n",
       "      th.tdhistory185685:last-child { text-align: left !important; }\n",
       "      tbody.tdhistory185685 tr:nth-child(even) { background: rgba(243, 243, 243, 0.75) !important; }\n",
       "      tbody.tdhistory185685 tr:nth-child(odd) { background: var(--jp-ui-inverse-font-color1) !important; }\n",
       "      td.tdhistory185685 { border: 1px solid rgb(207, 207, 207) !important; border-collapse: collapse !important; ; padding: 2px 5px !important; ; font-size: 13px !important; ; text-align: left !important;          white-space: nowrap !important; overflow:hidden !important; text-overflow:ellipsis !important;; }\n",
       "    </style><thead><tr style= \"background: rgba(243, 243, 243, 0.75)\"><th class=\"tdhistory185685\"></th><th class=\"tdhistory185685\">tran_id</th><th class=\"tdhistory185685\">acct_nbr</th><th class=\"tdhistory185685\">tran_amt</th><th class=\"tdhistory185685\">principal_amt</th><th class=\"tdhistory185685\">interest_amt</th><th class=\"tdhistory185685\">new_balance</th><th class=\"tdhistory185685\">tran_date</th><th class=\"tdhistory185685\">tran_time</th><th class=\"tdhistory185685\">channel</th><th class=\"tdhistory185685\">tran_code</th></tr></thead><tbody class=\"tdhistory185685 resultset-body\"><tr><th class=\"tdhistory185685\" style= \"background: rgba(243, 243, 243, 0.75)\">1</th><td class=\"tdhistory185685\">325</td><td class=\"tdhistory185685\">000000001363236313</td><td class=\"tdhistory185685\">-35.76</td><td class=\"tdhistory185685\">9.24</td><td class=\"tdhistory185685\">.000</td><td class=\"tdhistory185685\">35.76</td><td class=\"tdhistory185685\">1995-05-24</td><td class=\"tdhistory185685\">82148</td><td class=\"tdhistory185685\">V</td><td class=\"tdhistory185685\">TR</td></tr><tr><th class=\"tdhistory185685\" style= \"background: rgba(243, 243, 243, 0.75)\">2</th><td class=\"tdhistory185685\">264</td><td class=\"tdhistory185685\">000000001362767212</td><td class=\"tdhistory185685\">-38.83</td><td class=\"tdhistory185685\">-87.37</td><td class=\"tdhistory185685\">1.000</td><td class=\"tdhistory185685\">38.83</td><td class=\"tdhistory185685\">1995-01-18</td><td class=\"tdhistory185685\">0</td><td class=\"tdhistory185685\">P</td><td class=\"tdhistory185685\">WD</td></tr><tr><th class=\"tdhistory185685\" style= \"background: rgba(243, 243, 243, 0.75)\">3</th><td class=\"tdhistory185685\">460</td><td class=\"tdhistory185685\">000000001362993210</td><td class=\"tdhistory185685\">.00</td><td class=\"tdhistory185685\">.00</td><td class=\"tdhistory185685\">.000</td><td class=\"tdhistory185685\">3319.32</td><td class=\"tdhistory185685\">1995-06-19</td><td class=\"tdhistory185685\">151056</td><td class=\"tdhistory185685\">V</td><td class=\"tdhistory185685\">IQ</td></tr><tr><th class=\"tdhistory185685\" style= \"background: rgba(243, 243, 243, 0.75)\">4</th><td class=\"tdhistory185685\">286</td><td class=\"tdhistory185685\">000000001362776222</td><td class=\"tdhistory185685\">-441.57</td><td class=\"tdhistory185685\">-432.57</td><td class=\"tdhistory185685\">.000</td><td class=\"tdhistory185685\">2035.27</td><td class=\"tdhistory185685\">1995-02-10</td><td class=\"tdhistory185685\">213849</td><td class=\"tdhistory185685\">C</td><td class=\"tdhistory185685\">TR</td></tr><tr><th class=\"tdhistory185685\" style= \"background: rgba(243, 243, 243, 0.75)\">5</th><td class=\"tdhistory185685\">204</td><td class=\"tdhistory185685\">000000001363327217</td><td class=\"tdhistory185685\">-129.45</td><td class=\"tdhistory185685\">-53.45</td><td class=\"tdhistory185685\">.000</td><td class=\"tdhistory185685\">2260.90</td><td class=\"tdhistory185685\">1995-04-07</td><td class=\"tdhistory185685\">80119</td><td class=\"tdhistory185685\">K</td><td class=\"tdhistory185685\">TR</td></tr><tr><th class=\"tdhistory185685\" style= \"background: rgba(243, 243, 243, 0.75)\">6</th><td class=\"tdhistory185685\">520</td><td class=\"tdhistory185685\">000000001362767210</td><td class=\"tdhistory185685\">138.49</td><td class=\"tdhistory185685\">1384.90</td><td class=\"tdhistory185685\">.000</td><td class=\"tdhistory185685\">760.44</td><td class=\"tdhistory185685\">1995-02-06</td><td class=\"tdhistory185685\">0</td><td class=\"tdhistory185685\">M</td><td class=\"tdhistory185685\">DP</td></tr><tr><th class=\"tdhistory185685\" style= \"background: rgba(243, 243, 243, 0.75)\">7</th><td class=\"tdhistory185685\">36</td><td class=\"tdhistory185685\">456114321362850418</td><td class=\"tdhistory185685\">75.14</td><td class=\"tdhistory185685\">290.44</td><td class=\"tdhistory185685\">5.692</td><td class=\"tdhistory185685\">-107.18</td><td class=\"tdhistory185685\">1995-02-06</td><td class=\"tdhistory185685\">0</td><td class=\"tdhistory185685\">M</td><td class=\"tdhistory185685\">PM</td></tr><tr><th class=\"tdhistory185685\" style= \"background: rgba(243, 243, 243, 0.75)\">8</th><td class=\"tdhistory185685\">360</td><td class=\"tdhistory185685\">456114321363345415</td><td class=\"tdhistory185685\">-68.99</td><td class=\"tdhistory185685\">-344.95</td><td class=\"tdhistory185685\">5.000</td><td class=\"tdhistory185685\">-2400.82</td><td class=\"tdhistory185685\">1995-06-17</td><td class=\"tdhistory185685\">80309</td><td class=\"tdhistory185685\">E</td><td class=\"tdhistory185685\">CG</td></tr><tr><th class=\"tdhistory185685\" style= \"background: rgba(243, 243, 243, 0.75)\">9</th><td class=\"tdhistory185685\">1455</td><td class=\"tdhistory185685\">000000001362717215</td><td class=\"tdhistory185685\">.00</td><td class=\"tdhistory185685\">.00</td><td class=\"tdhistory185685\">5.000</td><td class=\"tdhistory185685\">208.33</td><td class=\"tdhistory185685\">1995-10-27</td><td class=\"tdhistory185685\">122152</td><td class=\"tdhistory185685\">C</td><td class=\"tdhistory185685\">IQ</td></tr><tr><th class=\"tdhistory185685\" style= \"background: rgba(243, 243, 243, 0.75)\">10</th><td class=\"tdhistory185685\">60</td><td class=\"tdhistory185685\">000000001363145315</td><td class=\"tdhistory185685\">190.48</td><td class=\"tdhistory185685\">952.40</td><td class=\"tdhistory185685\">5.000</td><td class=\"tdhistory185685\">393.88</td><td class=\"tdhistory185685\">1995-03-12</td><td class=\"tdhistory185685\">91849</td><td class=\"tdhistory185685\">A</td><td class=\"tdhistory185685\">DP</td></tr></tbody></table></div>"
      ]
     },
     "execution_count": 13,
     "metadata": {
      "application/vnd.teradata.resultset": "{\"resultSetID\":\"/home/jovyan/JupyterLabRoot/Teradata/Resultsets/2023.01.06_06.15.54.968_UTC\",\"historyID\":378,\"chunkID\":\"00001\",\"sessionid\":\"\",\"portnum\":\"\",\"dockermode\":\"docker\",\"totalRowCount\":10,\"chunkCount\":0,\"rowLimit\":0,\"columnMetadata\":[{\"columnName\":\"tran_id\",\"columnTypeName\":\"INTEGER\"},{\"columnNumber\":1,\"columnName\":\"acct_nbr\",\"columnTypeName\":\"VARCHAR\",\"length\":18,\"scale\":18},{\"columnNumber\":2,\"columnName\":\"tran_amt\",\"columnTypeName\":\"DECIMAL\",\"length\":2,\"precision\":9,\"scale\":2},{\"columnNumber\":3,\"columnName\":\"principal_amt\",\"columnTypeName\":\"DECIMAL\",\"length\":2,\"precision\":15,\"scale\":2},{\"columnNumber\":4,\"columnName\":\"interest_amt\",\"columnTypeName\":\"DECIMAL\",\"length\":3,\"precision\":11,\"scale\":3},{\"columnNumber\":5,\"columnName\":\"new_balance\",\"columnTypeName\":\"DECIMAL\",\"length\":2,\"precision\":9,\"scale\":2},{\"columnNumber\":6,\"columnName\":\"tran_date\",\"columnTypeName\":\"DATE\"},{\"columnNumber\":7,\"columnName\":\"tran_time\",\"columnTypeName\":\"INTEGER\"},{\"columnNumber\":8,\"columnName\":\"channel\",\"columnTypeName\":\"VARCHAR\",\"length\":1,\"scale\":1},{\"columnNumber\":9,\"columnName\":\"tran_code\",\"columnTypeName\":\"VARCHAR\",\"length\":2,\"scale\":2}]}"
     },
     "output_type": "execute_result"
    }
   ],
   "source": [
    "SELECT * FROM ${XSPDB}.Transactions SAMPLE 10;"
   ]
  },
  {
   "cell_type": "markdown",
   "metadata": {},
   "source": [
    "---"
   ]
  },
  {
   "cell_type": "markdown",
   "metadata": {},
   "source": [
    "<p style = 'font-size:16px;font-family:Arial'>The following Analytic Data Set (ADS) was created by joining all three tables above:</p>"
   ]
  },
  {
   "cell_type": "code",
   "execution_count": 14,
   "metadata": {},
   "outputs": [
    {
     "data": {
      "text/plain": [
       "Success: 0 rows affected"
      ]
     },
     "execution_count": 14,
     "metadata": {
      "application/vnd.teradata.resultset": ""
     },
     "output_type": "execute_result"
    }
   ],
   "source": [
    "CREATE TABLE ${QLID}.VAL_ADS AS (\n",
    "    SELECT \n",
    "        T1.cust_id  AS cust_id\n",
    "       ,MIN(T1.income) AS tot_income\n",
    "       ,MIN(T1.age) AS tot_age\n",
    "       ,MIN(T1.years_with_bank) AS tot_cust_years\n",
    "       ,MIN(T1.nbr_children) AS tot_children\n",
    "       ,CASE WHEN MIN(T1.marital_status) = 1 THEN 1 ELSE 0 END AS single_ind\n",
    "       ,CASE WHEN MIN(T1.gender) = 'F' THEN 1 ELSE 0 END AS female_ind\n",
    "       ,CASE WHEN MIN(T1.marital_status) = 2 THEN 1 ELSE 0 END AS married_ind\n",
    "       ,CASE WHEN MIN(T1.marital_status) = 3 THEN 1 ELSE 0 END AS separated_ind\n",
    "       ,MAX(CASE WHEN T1.state_code = 'CA' THEN 1 ELSE 0 END) AS ca_resident_ind\n",
    "       ,MAX(CASE WHEN T1.state_code = 'NY' THEN 1 ELSE 0 END) AS ny_resident_ind\n",
    "       ,MAX(CASE WHEN T1.state_code = 'TX' THEN 1 ELSE 0 END) AS tx_resident_ind\n",
    "       ,MAX(CASE WHEN T1.state_code = 'IL' THEN 1 ELSE 0 END) AS il_resident_ind\n",
    "       ,MAX(CASE WHEN T1.state_code = 'AZ' THEN 1 ELSE 0 END) AS az_resident_ind\n",
    "       ,MAX(CASE WHEN T1.state_code = 'OH' THEN 1 ELSE 0 END) AS oh_resident_ind\n",
    "       ,MAX(CASE WHEN T2.acct_type = 'CK' THEN 1 ELSE 0 END) AS ck_acct_ind\n",
    "       ,MAX(CASE WHEN T2.acct_type = 'SV' THEN 1 ELSE 0 END) AS sv_acct_ind\n",
    "       ,MAX(CASE WHEN T2.acct_type = 'CC' THEN 1 ELSE 0 END) AS cc_acct_ind\n",
    "       ,AVG(CASE WHEN T2.acct_type = 'CK' THEN T2.starting_balance+T2.ending_balance ELSE 0 END) AS ck_avg_bal\n",
    "       ,AVG(CASE WHEN T2.acct_type = 'SV' THEN T2.starting_balance+T2.ending_balance ELSE 0 END) AS sv_avg_bal\n",
    "       ,AVG(CASE WHEN T2.acct_type = 'CC' THEN T2.starting_balance+T2.ending_balance ELSE 0 END) AS cc_avg_bal\n",
    "       ,AVG(CASE WHEN T2.acct_type = 'CK' THEN T3.principal_amt+T3.interest_amt ELSE 0 END) AS ck_avg_tran_amt\n",
    "       ,AVG(CASE WHEN T2.acct_type = 'SV' THEN T3.principal_amt+T3.interest_amt ELSE 0 END) AS sv_avg_tran_amt\n",
    "       ,AVG(CASE WHEN T2.acct_type = 'CC' THEN T3.principal_amt+T3.interest_amt ELSE 0 END) AS cc_avg_tran_amt\n",
    "       ,COUNT(CASE WHEN ((EXTRACT(MONTH FROM T3.tran_date) + 2) / 3) = 1 THEN T3.tran_id ELSE NULL END) AS q1_trans_cnt\n",
    "       ,COUNT(CASE WHEN ((EXTRACT(MONTH FROM T3.tran_date) + 2) / 3) = 2 THEN T3.tran_id ELSE NULL END) AS q2_trans_cnt\n",
    "       ,COUNT(CASE WHEN ((EXTRACT(MONTH FROM T3.tran_date) + 2) / 3) = 3 THEN T3.tran_id ELSE NULL END) AS q3_trans_cnt\n",
    "       ,COUNT(CASE WHEN ((EXTRACT(MONTH FROM T3.tran_date) + 2) / 3) = 4 THEN T3.tran_id ELSE NULL END) AS q4_trans_cnt\n",
    "    FROM ${XSPDB}.Customer AS T1\n",
    "        LEFT OUTER JOIN ${XSPDB}.Accounts AS T2\n",
    "            ON T1.cust_id = T2.cust_id\n",
    "        LEFT OUTER JOIN ${XSPDB}.Transactions AS T3\n",
    "            ON T2.acct_nbr = T3.acct_nbr\n",
    "GROUP BY T1.cust_id) WITH DATA UNIQUE PRIMARY INDEX (cust_id);"
   ]
  },
  {
   "cell_type": "code",
   "execution_count": 15,
   "metadata": {},
   "outputs": [
    {
     "data": {
      "application/vnd.teradata.resultset": "\"cust_id\",\"tot_income\",\"tot_age\",\"tot_cust_years\",\"tot_children\",\"single_ind\",\"female_ind\",\"married_ind\",\"separated_ind\",\"ca_resident_ind\",\"ny_resident_ind\",\"tx_resident_ind\",\"il_resident_ind\",\"az_resident_ind\",\"oh_resident_ind\",\"ck_acct_ind\",\"sv_acct_ind\",\"cc_acct_ind\",\"ck_avg_bal\",\"sv_avg_bal\",\"cc_avg_bal\",\"ck_avg_tran_amt\",\"sv_avg_tran_amt\",\"cc_avg_tran_amt\",\"q1_trans_cnt\",\"q2_trans_cnt\",\"q3_trans_cnt\",\"q4_trans_cnt\"\n\"20437275\",\"34035.0\",\"30\",\"6\",\"2\",\"1\",\"1\",\"0\",\"0\",\"0\",\"1\",\"0\",\"0\",\"0\",\"0\",\"1\",\"0\",\"1\",\"462.2344736842105\",\"0\",\"2683.1267368421054\",\"-1.90906432748538\",\"0\",\"-21.471988304093568\",\"13\",\"18\",\"50\",\"90\"\n\"31339340\",\"67534.9\",\"36\",\"6\",\"3\",\"0\",\"1\",\"0\",\"0\",\"1\",\"0\",\"0\",\"0\",\"0\",\"0\",\"1\",\"1\",\"1\",\"321.86423076923074\",\"98.70134615384616\",\"473.0676923076923\",\"-2.2194871794871793\",\"-1.9578846153846154\",\"-5.470512820512821\",\"95\",\"33\",\"15\",\"13\"\n\"31354014\",\"49785.8\",\"49\",\"6\",\"0\",\"1\",\"1\",\"0\",\"0\",\"1\",\"0\",\"0\",\"0\",\"0\",\"0\",\"1\",\"0\",\"1\",\"1863.344057142857\",\"0\",\"796.4452571428571\",\"-13.897428571428572\",\"0\",\"-2.2177142857142855\",\"24\",\"117\",\"20\",\"14\"\n\"24539904\",\"33238.8\",\"33\",\"1\",\"4\",\"0\",\"0\",\"0\",\"1\",\"0\",\"0\",\"0\",\"0\",\"0\",\"0\",\"1\",\"1\",\"1\",\"618.358064516129\",\"344.76354838709676\",\"91.54935483870968\",\"20.63827956989247\",\"51.825806451612905\",\"-23.17978494623656\",\"12\",\"14\",\"27\",\"40\"\n\"20451915\",\"34662.0\",\"74\",\"11\",\"2\",\"0\",\"1\",\"1\",\"0\",\"0\",\"0\",\"0\",\"0\",\"0\",\"0\",\"1\",\"0\",\"1\",\"8193.686056179775\",\"0\",\"5533.940679775281\",\"-51.40752808988764\",\"0\",\"1.7353932584269662\",\"73\",\"63\",\"22\",\"20\"\n\"19077198\",\"39124.4\",\"40\",\"9\",\"1\",\"1\",\"1\",\"0\",\"0\",\"1\",\"0\",\"0\",\"0\",\"0\",\"0\",\"1\",\"0\",\"1\",\"294.8013375\",\"0\",\"0\",\"0.38725\",\"0\",\"0\",\"22\",\"19\",\"18\",\"20\"\n\"20438490\",\"191772.0\",\"59\",\"6\",\"3\",\"0\",\"0\",\"1\",\"0\",\"1\",\"0\",\"0\",\"0\",\"0\",\"0\",\"1\",\"0\",\"1\",\"31402.560527027028\",\"0\",\"4325.6806013513515\",\"-580.3398648648649\",\"0\",\"168.44695945945946\",\"115\",\"18\",\"8\",\"7\"\n\"19079718\",\"31250.8\",\"51\",\"1\",\"1\",\"0\",\"0\",\"1\",\"0\",\"0\",\"0\",\"0\",\"0\",\"1\",\"0\",\"1\",\"1\",\"1\",\"4310.0809714285715\",\"442.0492857142857\",\"515.4285714285714\",\"-3.0162857142857145\",\"0.7962142857142858\",\"-1.5700714285714286\",\"9\",\"12\",\"27\",\"92\"\n\"28622265\",\"5964.4\",\"75\",\"5\",\"1\",\"0\",\"0\",\"1\",\"0\",\"0\",\"0\",\"0\",\"0\",\"0\",\"0\",\"0\",\"0\",\"0\",\"0\",\"0\",\"0\",\"0\",\"0\",\"0\",\"0\",\"0\",\"0\",\"0\"\n\"13624960\",\".0\",\"14\",\"3\",\"1\",\"1\",\"0\",\"0\",\"0\",\"0\",\"0\",\"1\",\"0\",\"0\",\"0\",\"0\",\"1\",\"0\",\"0\",\"1599.716\",\"0\",\"0\",\"0.341\",\"0\",\"3\",\"3\",\"3\",\"3\"",
      "text/html": [
       "<div class = \"td-resultset-table-div\" style = \"max-height: 100%; overflow-y: auto\">\n",
       "      <table class=\"tdhistory965148\"><style>\n",
       "      table.tdhistory965148 { display: block !important; min-height: 294px !important; overflow: auto !important; height: 294px !important; width: 100% !important; border: 1px solid rgb(207, 207, 207) !important; border-collapse: collapse !important; ; color: var(--jp-ui-font-color1) !important; }\n",
       "      th.tdhistory965148 { border: 1px solid rgb(198,198,198) !important; border-collapse: collapse !important; ; padding: 2px 5px !important; ; font-size: 13px !important; ; text-align: center !important; white-space: normal !important; color: var(--jp-ui-font-color1) !important; }\n",
       "      th.tdhistory965148:last-child { text-align: left !important; }\n",
       "      tbody.tdhistory965148 tr:nth-child(even) { background: rgba(243, 243, 243, 0.75) !important; }\n",
       "      tbody.tdhistory965148 tr:nth-child(odd) { background: var(--jp-ui-inverse-font-color1) !important; }\n",
       "      td.tdhistory965148 { border: 1px solid rgb(207, 207, 207) !important; border-collapse: collapse !important; ; padding: 2px 5px !important; ; font-size: 13px !important; ; text-align: left !important;          white-space: nowrap !important; overflow:hidden !important; text-overflow:ellipsis !important;; }\n",
       "    </style><thead><tr style= \"background: rgba(243, 243, 243, 0.75)\"><th class=\"tdhistory965148\"></th><th class=\"tdhistory965148\">cust_id</th><th class=\"tdhistory965148\">tot_income</th><th class=\"tdhistory965148\">tot_age</th><th class=\"tdhistory965148\">tot_cust_years</th><th class=\"tdhistory965148\">tot_children</th><th class=\"tdhistory965148\">single_ind</th><th class=\"tdhistory965148\">female_ind</th><th class=\"tdhistory965148\">married_ind</th><th class=\"tdhistory965148\">separated_ind</th><th class=\"tdhistory965148\">ca_resident_ind</th><th class=\"tdhistory965148\">ny_resident_ind</th><th class=\"tdhistory965148\">tx_resident_ind</th><th class=\"tdhistory965148\">il_resident_ind</th><th class=\"tdhistory965148\">az_resident_ind</th><th class=\"tdhistory965148\">oh_resident_ind</th><th class=\"tdhistory965148\">ck_acct_ind</th><th class=\"tdhistory965148\">sv_acct_ind</th><th class=\"tdhistory965148\">cc_acct_ind</th><th class=\"tdhistory965148\">ck_avg_bal</th><th class=\"tdhistory965148\">sv_avg_bal</th><th class=\"tdhistory965148\">cc_avg_bal</th><th class=\"tdhistory965148\">ck_avg_tran_amt</th><th class=\"tdhistory965148\">sv_avg_tran_amt</th><th class=\"tdhistory965148\">cc_avg_tran_amt</th><th class=\"tdhistory965148\">q1_trans_cnt</th><th class=\"tdhistory965148\">q2_trans_cnt</th><th class=\"tdhistory965148\">q3_trans_cnt</th><th class=\"tdhistory965148\">q4_trans_cnt</th></tr></thead><tbody class=\"tdhistory965148 resultset-body\"><tr><th class=\"tdhistory965148\" style= \"background: rgba(243, 243, 243, 0.75)\">1</th><td class=\"tdhistory965148\">20437275</td><td class=\"tdhistory965148\">34035.0</td><td class=\"tdhistory965148\">30</td><td class=\"tdhistory965148\">6</td><td class=\"tdhistory965148\">2</td><td class=\"tdhistory965148\">1</td><td class=\"tdhistory965148\">1</td><td class=\"tdhistory965148\">0</td><td class=\"tdhistory965148\">0</td><td class=\"tdhistory965148\">0</td><td class=\"tdhistory965148\">1</td><td class=\"tdhistory965148\">0</td><td class=\"tdhistory965148\">0</td><td class=\"tdhistory965148\">0</td><td class=\"tdhistory965148\">0</td><td class=\"tdhistory965148\">1</td><td class=\"tdhistory965148\">0</td><td class=\"tdhistory965148\">1</td><td class=\"tdhistory965148\">462.2344736842105</td><td class=\"tdhistory965148\">0</td><td class=\"tdhistory965148\">2683.1267368421054</td><td class=\"tdhistory965148\">-1.90906432748538</td><td class=\"tdhistory965148\">0</td><td class=\"tdhistory965148\">-21.471988304093568</td><td class=\"tdhistory965148\">13</td><td class=\"tdhistory965148\">18</td><td class=\"tdhistory965148\">50</td><td class=\"tdhistory965148\">90</td></tr><tr><th class=\"tdhistory965148\" style= \"background: rgba(243, 243, 243, 0.75)\">2</th><td class=\"tdhistory965148\">31339340</td><td class=\"tdhistory965148\">67534.9</td><td class=\"tdhistory965148\">36</td><td class=\"tdhistory965148\">6</td><td class=\"tdhistory965148\">3</td><td class=\"tdhistory965148\">0</td><td class=\"tdhistory965148\">1</td><td class=\"tdhistory965148\">0</td><td class=\"tdhistory965148\">0</td><td class=\"tdhistory965148\">1</td><td class=\"tdhistory965148\">0</td><td class=\"tdhistory965148\">0</td><td class=\"tdhistory965148\">0</td><td class=\"tdhistory965148\">0</td><td class=\"tdhistory965148\">0</td><td class=\"tdhistory965148\">1</td><td class=\"tdhistory965148\">1</td><td class=\"tdhistory965148\">1</td><td class=\"tdhistory965148\">321.86423076923074</td><td class=\"tdhistory965148\">98.70134615384616</td><td class=\"tdhistory965148\">473.0676923076923</td><td class=\"tdhistory965148\">-2.2194871794871793</td><td class=\"tdhistory965148\">-1.9578846153846154</td><td class=\"tdhistory965148\">-5.470512820512821</td><td class=\"tdhistory965148\">95</td><td class=\"tdhistory965148\">33</td><td class=\"tdhistory965148\">15</td><td class=\"tdhistory965148\">13</td></tr><tr><th class=\"tdhistory965148\" style= \"background: rgba(243, 243, 243, 0.75)\">3</th><td class=\"tdhistory965148\">31354014</td><td class=\"tdhistory965148\">49785.8</td><td class=\"tdhistory965148\">49</td><td class=\"tdhistory965148\">6</td><td class=\"tdhistory965148\">0</td><td class=\"tdhistory965148\">1</td><td class=\"tdhistory965148\">1</td><td class=\"tdhistory965148\">0</td><td class=\"tdhistory965148\">0</td><td class=\"tdhistory965148\">1</td><td class=\"tdhistory965148\">0</td><td class=\"tdhistory965148\">0</td><td class=\"tdhistory965148\">0</td><td class=\"tdhistory965148\">0</td><td class=\"tdhistory965148\">0</td><td class=\"tdhistory965148\">1</td><td class=\"tdhistory965148\">0</td><td class=\"tdhistory965148\">1</td><td class=\"tdhistory965148\">1863.344057142857</td><td class=\"tdhistory965148\">0</td><td class=\"tdhistory965148\">796.4452571428571</td><td class=\"tdhistory965148\">-13.897428571428572</td><td class=\"tdhistory965148\">0</td><td class=\"tdhistory965148\">-2.2177142857142855</td><td class=\"tdhistory965148\">24</td><td class=\"tdhistory965148\">117</td><td class=\"tdhistory965148\">20</td><td class=\"tdhistory965148\">14</td></tr><tr><th class=\"tdhistory965148\" style= \"background: rgba(243, 243, 243, 0.75)\">4</th><td class=\"tdhistory965148\">24539904</td><td class=\"tdhistory965148\">33238.8</td><td class=\"tdhistory965148\">33</td><td class=\"tdhistory965148\">1</td><td class=\"tdhistory965148\">4</td><td class=\"tdhistory965148\">0</td><td class=\"tdhistory965148\">0</td><td class=\"tdhistory965148\">0</td><td class=\"tdhistory965148\">1</td><td class=\"tdhistory965148\">0</td><td class=\"tdhistory965148\">0</td><td class=\"tdhistory965148\">0</td><td class=\"tdhistory965148\">0</td><td class=\"tdhistory965148\">0</td><td class=\"tdhistory965148\">0</td><td class=\"tdhistory965148\">1</td><td class=\"tdhistory965148\">1</td><td class=\"tdhistory965148\">1</td><td class=\"tdhistory965148\">618.358064516129</td><td class=\"tdhistory965148\">344.76354838709676</td><td class=\"tdhistory965148\">91.54935483870968</td><td class=\"tdhistory965148\">20.63827956989247</td><td class=\"tdhistory965148\">51.825806451612905</td><td class=\"tdhistory965148\">-23.17978494623656</td><td class=\"tdhistory965148\">12</td><td class=\"tdhistory965148\">14</td><td class=\"tdhistory965148\">27</td><td class=\"tdhistory965148\">40</td></tr><tr><th class=\"tdhistory965148\" style= \"background: rgba(243, 243, 243, 0.75)\">5</th><td class=\"tdhistory965148\">20451915</td><td class=\"tdhistory965148\">34662.0</td><td class=\"tdhistory965148\">74</td><td class=\"tdhistory965148\">11</td><td class=\"tdhistory965148\">2</td><td class=\"tdhistory965148\">0</td><td class=\"tdhistory965148\">1</td><td class=\"tdhistory965148\">1</td><td class=\"tdhistory965148\">0</td><td class=\"tdhistory965148\">0</td><td class=\"tdhistory965148\">0</td><td class=\"tdhistory965148\">0</td><td class=\"tdhistory965148\">0</td><td class=\"tdhistory965148\">0</td><td class=\"tdhistory965148\">0</td><td class=\"tdhistory965148\">1</td><td class=\"tdhistory965148\">0</td><td class=\"tdhistory965148\">1</td><td class=\"tdhistory965148\">8193.686056179775</td><td class=\"tdhistory965148\">0</td><td class=\"tdhistory965148\">5533.940679775281</td><td class=\"tdhistory965148\">-51.40752808988764</td><td class=\"tdhistory965148\">0</td><td class=\"tdhistory965148\">1.7353932584269662</td><td class=\"tdhistory965148\">73</td><td class=\"tdhistory965148\">63</td><td class=\"tdhistory965148\">22</td><td class=\"tdhistory965148\">20</td></tr><tr><th class=\"tdhistory965148\" style= \"background: rgba(243, 243, 243, 0.75)\">6</th><td class=\"tdhistory965148\">19077198</td><td class=\"tdhistory965148\">39124.4</td><td class=\"tdhistory965148\">40</td><td class=\"tdhistory965148\">9</td><td class=\"tdhistory965148\">1</td><td class=\"tdhistory965148\">1</td><td class=\"tdhistory965148\">1</td><td class=\"tdhistory965148\">0</td><td class=\"tdhistory965148\">0</td><td class=\"tdhistory965148\">1</td><td class=\"tdhistory965148\">0</td><td class=\"tdhistory965148\">0</td><td class=\"tdhistory965148\">0</td><td class=\"tdhistory965148\">0</td><td class=\"tdhistory965148\">0</td><td class=\"tdhistory965148\">1</td><td class=\"tdhistory965148\">0</td><td class=\"tdhistory965148\">1</td><td class=\"tdhistory965148\">294.8013375</td><td class=\"tdhistory965148\">0</td><td class=\"tdhistory965148\">0</td><td class=\"tdhistory965148\">0.38725</td><td class=\"tdhistory965148\">0</td><td class=\"tdhistory965148\">0</td><td class=\"tdhistory965148\">22</td><td class=\"tdhistory965148\">19</td><td class=\"tdhistory965148\">18</td><td class=\"tdhistory965148\">20</td></tr><tr><th class=\"tdhistory965148\" style= \"background: rgba(243, 243, 243, 0.75)\">7</th><td class=\"tdhistory965148\">20438490</td><td class=\"tdhistory965148\">191772.0</td><td class=\"tdhistory965148\">59</td><td class=\"tdhistory965148\">6</td><td class=\"tdhistory965148\">3</td><td class=\"tdhistory965148\">0</td><td class=\"tdhistory965148\">0</td><td class=\"tdhistory965148\">1</td><td class=\"tdhistory965148\">0</td><td class=\"tdhistory965148\">1</td><td class=\"tdhistory965148\">0</td><td class=\"tdhistory965148\">0</td><td class=\"tdhistory965148\">0</td><td class=\"tdhistory965148\">0</td><td class=\"tdhistory965148\">0</td><td class=\"tdhistory965148\">1</td><td class=\"tdhistory965148\">0</td><td class=\"tdhistory965148\">1</td><td class=\"tdhistory965148\">31402.560527027028</td><td class=\"tdhistory965148\">0</td><td class=\"tdhistory965148\">4325.6806013513515</td><td class=\"tdhistory965148\">-580.3398648648649</td><td class=\"tdhistory965148\">0</td><td class=\"tdhistory965148\">168.44695945945946</td><td class=\"tdhistory965148\">115</td><td class=\"tdhistory965148\">18</td><td class=\"tdhistory965148\">8</td><td class=\"tdhistory965148\">7</td></tr><tr><th class=\"tdhistory965148\" style= \"background: rgba(243, 243, 243, 0.75)\">8</th><td class=\"tdhistory965148\">19079718</td><td class=\"tdhistory965148\">31250.8</td><td class=\"tdhistory965148\">51</td><td class=\"tdhistory965148\">1</td><td class=\"tdhistory965148\">1</td><td class=\"tdhistory965148\">0</td><td class=\"tdhistory965148\">0</td><td class=\"tdhistory965148\">1</td><td class=\"tdhistory965148\">0</td><td class=\"tdhistory965148\">0</td><td class=\"tdhistory965148\">0</td><td class=\"tdhistory965148\">0</td><td class=\"tdhistory965148\">0</td><td class=\"tdhistory965148\">1</td><td class=\"tdhistory965148\">0</td><td class=\"tdhistory965148\">1</td><td class=\"tdhistory965148\">1</td><td class=\"tdhistory965148\">1</td><td class=\"tdhistory965148\">4310.0809714285715</td><td class=\"tdhistory965148\">442.0492857142857</td><td class=\"tdhistory965148\">515.4285714285714</td><td class=\"tdhistory965148\">-3.0162857142857145</td><td class=\"tdhistory965148\">0.7962142857142858</td><td class=\"tdhistory965148\">-1.5700714285714286</td><td class=\"tdhistory965148\">9</td><td class=\"tdhistory965148\">12</td><td class=\"tdhistory965148\">27</td><td class=\"tdhistory965148\">92</td></tr><tr><th class=\"tdhistory965148\" style= \"background: rgba(243, 243, 243, 0.75)\">9</th><td class=\"tdhistory965148\">28622265</td><td class=\"tdhistory965148\">5964.4</td><td class=\"tdhistory965148\">75</td><td class=\"tdhistory965148\">5</td><td class=\"tdhistory965148\">1</td><td class=\"tdhistory965148\">0</td><td class=\"tdhistory965148\">0</td><td class=\"tdhistory965148\">1</td><td class=\"tdhistory965148\">0</td><td class=\"tdhistory965148\">0</td><td class=\"tdhistory965148\">0</td><td class=\"tdhistory965148\">0</td><td class=\"tdhistory965148\">0</td><td class=\"tdhistory965148\">0</td><td class=\"tdhistory965148\">0</td><td class=\"tdhistory965148\">0</td><td class=\"tdhistory965148\">0</td><td class=\"tdhistory965148\">0</td><td class=\"tdhistory965148\">0</td><td class=\"tdhistory965148\">0</td><td class=\"tdhistory965148\">0</td><td class=\"tdhistory965148\">0</td><td class=\"tdhistory965148\">0</td><td class=\"tdhistory965148\">0</td><td class=\"tdhistory965148\">0</td><td class=\"tdhistory965148\">0</td><td class=\"tdhistory965148\">0</td><td class=\"tdhistory965148\">0</td></tr><tr><th class=\"tdhistory965148\" style= \"background: rgba(243, 243, 243, 0.75)\">10</th><td class=\"tdhistory965148\">13624960</td><td class=\"tdhistory965148\">.0</td><td class=\"tdhistory965148\">14</td><td class=\"tdhistory965148\">3</td><td class=\"tdhistory965148\">1</td><td class=\"tdhistory965148\">1</td><td class=\"tdhistory965148\">0</td><td class=\"tdhistory965148\">0</td><td class=\"tdhistory965148\">0</td><td class=\"tdhistory965148\">0</td><td class=\"tdhistory965148\">0</td><td class=\"tdhistory965148\">1</td><td class=\"tdhistory965148\">0</td><td class=\"tdhistory965148\">0</td><td class=\"tdhistory965148\">0</td><td class=\"tdhistory965148\">0</td><td class=\"tdhistory965148\">1</td><td class=\"tdhistory965148\">0</td><td class=\"tdhistory965148\">0</td><td class=\"tdhistory965148\">1599.716</td><td class=\"tdhistory965148\">0</td><td class=\"tdhistory965148\">0</td><td class=\"tdhistory965148\">0.341</td><td class=\"tdhistory965148\">0</td><td class=\"tdhistory965148\">3</td><td class=\"tdhistory965148\">3</td><td class=\"tdhistory965148\">3</td><td class=\"tdhistory965148\">3</td></tr></tbody></table></div>"
      ]
     },
     "execution_count": 15,
     "metadata": {
      "application/vnd.teradata.resultset": "{\"resultSetID\":\"/home/jovyan/JupyterLabRoot/Teradata/Resultsets/2023.01.06_06.16.17.047_UTC\",\"historyID\":380,\"chunkID\":\"00001\",\"sessionid\":\"\",\"portnum\":\"\",\"dockermode\":\"docker\",\"totalRowCount\":10,\"chunkCount\":0,\"rowLimit\":0,\"columnMetadata\":[{\"columnName\":\"cust_id\",\"columnTypeName\":\"INTEGER\"},{\"columnNumber\":1,\"columnName\":\"tot_income\",\"columnTypeName\":\"DECIMAL\",\"length\":1,\"precision\":15,\"scale\":1},{\"columnNumber\":2,\"columnName\":\"tot_age\",\"columnTypeName\":\"INTEGER\"},{\"columnNumber\":3,\"columnName\":\"tot_cust_years\",\"columnTypeName\":\"INTEGER\"},{\"columnNumber\":4,\"columnName\":\"tot_children\",\"columnTypeName\":\"INTEGER\"},{\"columnNumber\":5,\"columnName\":\"single_ind\",\"columnTypeName\":\"BYTEINT\"},{\"columnNumber\":6,\"columnName\":\"female_ind\",\"columnTypeName\":\"BYTEINT\"},{\"columnNumber\":7,\"columnName\":\"married_ind\",\"columnTypeName\":\"BYTEINT\"},{\"columnNumber\":8,\"columnName\":\"separated_ind\",\"columnTypeName\":\"BYTEINT\"},{\"columnNumber\":9,\"columnName\":\"ca_resident_ind\",\"columnTypeName\":\"BYTEINT\"},{\"columnNumber\":10,\"columnName\":\"ny_resident_ind\",\"columnTypeName\":\"BYTEINT\"},{\"columnNumber\":11,\"columnName\":\"tx_resident_ind\",\"columnTypeName\":\"BYTEINT\"},{\"columnNumber\":12,\"columnName\":\"il_resident_ind\",\"columnTypeName\":\"BYTEINT\"},{\"columnNumber\":13,\"columnName\":\"az_resident_ind\",\"columnTypeName\":\"BYTEINT\"},{\"columnNumber\":14,\"columnName\":\"oh_resident_ind\",\"columnTypeName\":\"BYTEINT\"},{\"columnNumber\":15,\"columnName\":\"ck_acct_ind\",\"columnTypeName\":\"BYTEINT\"},{\"columnNumber\":16,\"columnName\":\"sv_acct_ind\",\"columnTypeName\":\"BYTEINT\"},{\"columnNumber\":17,\"columnName\":\"cc_acct_ind\",\"columnTypeName\":\"BYTEINT\"},{\"columnNumber\":18,\"columnName\":\"ck_avg_bal\",\"columnTypeName\":\"FLOAT\"},{\"columnNumber\":19,\"columnName\":\"sv_avg_bal\",\"columnTypeName\":\"FLOAT\"},{\"columnNumber\":20,\"columnName\":\"cc_avg_bal\",\"columnTypeName\":\"FLOAT\"},{\"columnNumber\":21,\"columnName\":\"ck_avg_tran_amt\",\"columnTypeName\":\"FLOAT\"},{\"columnNumber\":22,\"columnName\":\"sv_avg_tran_amt\",\"columnTypeName\":\"FLOAT\"},{\"columnNumber\":23,\"columnName\":\"cc_avg_tran_amt\",\"columnTypeName\":\"FLOAT\"},{\"columnNumber\":24,\"columnName\":\"q1_trans_cnt\",\"columnTypeName\":\"INTEGER\"},{\"columnNumber\":25,\"columnName\":\"q2_trans_cnt\",\"columnTypeName\":\"INTEGER\"},{\"columnNumber\":26,\"columnName\":\"q3_trans_cnt\",\"columnTypeName\":\"INTEGER\"},{\"columnNumber\":27,\"columnName\":\"q4_trans_cnt\",\"columnTypeName\":\"INTEGER\"}]}"
     },
     "output_type": "execute_result"
    }
   ],
   "source": [
    "SELECT * FROM ${QLID}.VAL_ADS SAMPLE 10;"
   ]
  },
  {
   "cell_type": "markdown",
   "metadata": {},
   "source": [
    "<p style = 'font-size:20px;font-family:Arial;color:#E37C4D'><b>4. Statistical Tests</b></p>\n",
    "\n",
    "<p style = 'font-size:18px;font-family:Arial;color:#E37C4D'><b>Binomial Tests</b></p>\n",
    "\n",
    "<p style = 'font-size:16px;font-family:Arial;color:#E37C4D'><b>Purpose</b></p>\n",
    "<p style = 'font-size:16px;font-family:Arial'>In a binomial test there are assumed to be n independent trials, each with two possible outcomes, each of equal probability.  You may choose to perform a binomial test, in which the sign of the difference between a first and second column is analyzed, or a sign test, in which the sign of a single column is analyzed.  In a binomial test, you may choose to use a probability different from the 0.5 default value, whereas in a sign test, the binomial probability is fixed at 0.5.</p>\n",
    "\n",
    "<p style = 'font-size:16px;font-family:Arial;color:#E37C4D'><b>Required Parameters</b></p>\n",
    "\n",
    "<p style = 'font-size:16px;font-family:Arial'><b>- **binomialtest**</b></p>\n",
    "\n",
    "\n",
    "<p style = 'font-size:16px;font-family:Arial'>The binomialtest parameter:</p>\n",
    "<p style = 'font-size:16px;font-family:Arial'>\n",
    "    <li>Is required</li>\n",
    "    <li>Must be the first parameter</li>\n",
    "    <li>Is always enclosed in single quotes</li>\n",
    "</p>\n",
    "\n",
    "<p style = 'font-size:16px;font-family:Arial'><b>- **database**</b></p>\n",
    "\n",
    "<p style = 'font-size:16px;font-family:Arial'>The database containing the table to analyze.</p>\n",
    "\n",
    "<p style = 'font-size:16px;font-family:Arial'><b>- **firstcolumn**</b></p>\n",
    "\n",
    "<p style = 'font-size:16px;font-family:Arial'>The column to analyze. It must reside in the table indicated by the tablename parameter</p>\n",
    "\n",
    "<p style = 'font-size:16px;font-family:Arial'><b>- **tablename**</b></p>\n",
    "\n",
    "<p style = 'font-size:16px;font-family:Arial'>The table containing the columns to analyze.  It must reside in the database indicated by the database parameter.</p>\n",
    "\n",
    "<p style = 'font-size:16px;font-family:Arial;color:#E37C4D'><b>Optional Parameters</b></p>\n",
    "\n",
    "<p style = 'font-size:16px;font-family:Arial'><b>- **binomialprobability**</b></p>\n",
    "\n",
    "<p style = 'font-size:16px;font-family:Arial'>You may optionally change the binomial probability or allow it to default to 0.5.  This parameter may not be used for a sign test.</p>\n",
    "\n",
    "<p style = 'font-size:16px;font-family:Arial'><b>- **exactmatches**</b></p>\n",
    "\n",
    "<p style = 'font-size:16px;font-family:Arial'>This parameter determines what category to place exact matches in.  If zero, exact match is discarded.  If positive, match is placed with values greater than or equal to zero.  If negative or parameter not specified (default), match is placed with values less than or equal to zero.  Note that the exactmatches parameter is not allowed if this is a sign test.</p>\n",
    "\n",
    "<p style = 'font-size:16px;font-family:Arial'><b>- **fallback**</b></p>\n",
    "\n",
    "<p style = 'font-size:16px;font-family:Arial'>When true, FALLBACK is requested as an attribute of the created output results table.  When false or parameter not specified, the FALLBACK attribute is not included in the create table SQL.</p>\n",
    "\n",
    "<p style = 'font-size:16px;font-family:Arial'><b>- **gensqlonly**</b></p>\n",
    "\n",
    "<p style = 'font-size:16px;font-family:Arial'>When true, the SQL for the requested function is returned as a result set but not run. When not specified or set to false, the SQL is run but not returned.</p>\n",
    "\n",
    "<p style = 'font-size:16px;font-family:Arial'><b>- **groupby**</b></p>\n",
    "\n",
    "<p style = 'font-size:16px;font-family:Arial'>One or more group-by columns may optionally be specified so that a separate result is produced for each value or combination of values in the specified column or columns.</p>\n",
    "\n",
    "<p style = 'font-size:16px;font-family:Arial'><b>- **multiset**</b></p>\n",
    "\n",
    "<p style = 'font-size:16px;font-family:Arial'>When true, MULTISET is requested as an attribute of the created output results table.  When false or parameter not specified, the MULTISET attribute is not included in the create table SQL.</p>\n",
    "\n",
    "<p style = 'font-size:16px;font-family:Arial'><b>- **outputdatabase**</b></p>\n",
    "\n",
    "<p style = 'font-size:16px;font-family:Arial'>Specifies the name of the database to contain the analysis results table.</p>\n",
    "\n",
    "<p style = 'font-size:16px;font-family:Arial'><b>- **outputtablename**</b></p>\n",
    "\n",
    "<p style = 'font-size:16px;font-family:Arial'>Specifies the name of the table to store the analysis results. If not supplied, the results are returned as a result set.</p>\n",
    "\n",
    "<p style = 'font-size:16px;font-family:Arial'><b>- **overwrite**</b></p>\n",
    "\n",
    "<p style = 'font-size:16px;font-family:Arial'>When overwrite is set to true or not set, the output table is dropped before creating a new one.</p>\n",
    "\n",
    "<p style = 'font-size:16px;font-family:Arial'><b>- **secondcolumn**</b></p>\n",
    "\n",
    "<p style = 'font-size:16px;font-family:Arial'>A second column is required when performing a binomial test, and not allowed when performing a sign test.</p>\n",
    "\n",
    "<p style = 'font-size:16px;font-family:Arial'><b>- **singletail**</b></p>\n",
    "\n",
    "<p style = 'font-size:16px;font-family:Arial'>A single-tailed test may be requested by setting this parameter to true.  A two-tailed test may be requested by setting this parameter to false or by not specifying it at all (the default value).  If the binomial probability is not 0.5, singletail must be set to true.</p>\n",
    "\n",
    "<p style = 'font-size:16px;font-family:Arial'><b>- **statsdatabase**</b></p>\n",
    "\n",
    "<p style = 'font-size:16px;font-family:Arial'>This is the database where the statistical test metadata tables are installed.  If not specified, the source database is searched for these metadata tables.</p>\n",
    "\n",
    "<p style = 'font-size:16px;font-family:Arial'><b>- **teststyle**</b></p>\n",
    "\n",
    "<p style = 'font-size:16px;font-family:Arial'>The valid values are binomial and sign, representing a binomial or sign test.  If not specified, the default test style is binomial.</p>\n",
    "\n",
    "<p style = 'font-size:16px;font-family:Arial'><b>- **thresholdprobability**</b></p>\n",
    "\n",
    "<p style = 'font-size:16px;font-family:Arial'>You may optionally change the threshold probability or allow it to default to 0.05.  Below this  \"alpha\" probability the null hypothesis is rejected</p>"
   ]
  },
  {
   "cell_type": "markdown",
   "metadata": {},
   "source": [
    "------------------"
   ]
  },
  {
   "cell_type": "markdown",
   "metadata": {},
   "source": [
    "<p style = 'font-size:16px;font-family:Arial'>1.  Binomial test producing an unpersisted result set with default values for thresholdprobabilty (.05), binomialprobability (0.5), singletail (false) and exactmatches (negative).</p>"
   ]
  },
  {
   "cell_type": "code",
   "execution_count": 16,
   "metadata": {},
   "outputs": [
    {
     "data": {
      "text/plain": [
       "Success: 0 rows affected"
      ]
     },
     "execution_count": 16,
     "metadata": {
      "application/vnd.teradata.resultset": ""
     },
     "output_type": "execute_result"
    },
    {
     "data": {
      "application/vnd.teradata.resultset": "\"N\",\"NPos\",\"NNeg\",\"BP\",\"BinomialCallP_0.05\"\n\"10458\",\"6384\",\"4074\",\"2e-06\",\"p\"",
      "text/html": [
       "<div class = \"td-resultset-table-div\" style = \"max-height: 100%; overflow-y: auto\">\n",
       "      <table class=\"tdhistory936249\"><style>\n",
       "      table.tdhistory936249 { display: block !important; min-height: 105px !important; overflow: auto !important; height: 105px !important; width: 100% !important; border: 1px solid rgb(207, 207, 207) !important; border-collapse: collapse !important; ; color: var(--jp-ui-font-color1) !important; }\n",
       "      th.tdhistory936249 { border: 1px solid rgb(198,198,198) !important; border-collapse: collapse !important; ; padding: 2px 5px !important; ; font-size: 13px !important; ; text-align: center !important; white-space: normal !important; color: var(--jp-ui-font-color1) !important; }\n",
       "      th.tdhistory936249:last-child { text-align: left !important; }\n",
       "      tbody.tdhistory936249 tr:nth-child(even) { background: rgba(243, 243, 243, 0.75) !important; }\n",
       "      tbody.tdhistory936249 tr:nth-child(odd) { background: var(--jp-ui-inverse-font-color1) !important; }\n",
       "      td.tdhistory936249 { border: 1px solid rgb(207, 207, 207) !important; border-collapse: collapse !important; ; padding: 2px 5px !important; ; font-size: 13px !important; ; text-align: left !important;          white-space: nowrap !important; overflow:hidden !important; text-overflow:ellipsis !important;; }\n",
       "    </style><thead><tr style= \"background: rgba(243, 243, 243, 0.75)\"><th class=\"tdhistory936249\"></th><th class=\"tdhistory936249\">N</th><th class=\"tdhistory936249\">NPos</th><th class=\"tdhistory936249\">NNeg</th><th class=\"tdhistory936249\">BP</th><th class=\"tdhistory936249\">BinomialCallP_0.05</th></tr></thead><tbody class=\"tdhistory936249 resultset-body\"><tr><th class=\"tdhistory936249\" style= \"background: rgba(243, 243, 243, 0.75)\">1</th><td class=\"tdhistory936249\">10458</td><td class=\"tdhistory936249\">6384</td><td class=\"tdhistory936249\">4074</td><td class=\"tdhistory936249\">2e-06</td><td class=\"tdhistory936249\">p</td></tr></tbody></table></div>"
      ]
     },
     "execution_count": 16,
     "metadata": {
      "application/vnd.teradata.resultset": "{\"resultSetID\":\"/home/jovyan/JupyterLabRoot/Teradata/Resultsets/2023.01.06_06.16.19.091_UTC\",\"historyID\":381,\"chunkID\":\"00001\",\"sessionid\":\"\",\"portnum\":\"\",\"dockermode\":\"docker\",\"totalRowCount\":1,\"chunkCount\":0,\"rowLimit\":0,\"columnMetadata\":[{\"columnName\":\"N\",\"columnTypeName\":\"FLOAT\"},{\"columnNumber\":1,\"columnName\":\"NPos\",\"columnTypeName\":\"FLOAT\"},{\"columnNumber\":2,\"columnName\":\"NNeg\",\"columnTypeName\":\"FLOAT\"},{\"columnNumber\":3,\"columnName\":\"BP\",\"columnTypeName\":\"FLOAT\"},{\"columnNumber\":4,\"columnName\":\"BinomialCallP_0.05\",\"columnTypeName\":\"VARCHAR\",\"length\":1,\"scale\":1}]}"
     },
     "output_type": "execute_result"
    }
   ],
   "source": [
    "call ${VALDB}.td_analyze('BinomialTest',\n",
    "                         'database=${QLID};\n",
    "                          tablename=VAL_ADS;\n",
    "                          firstcolumn=sv_avg_bal;\n",
    "                          secondcolumn=ck_avg_bal;\n",
    "                          statsdatabase=${VALDB};');"
   ]
  },
  {
   "cell_type": "markdown",
   "metadata": {},
   "source": [
    "<p style = 'font-size:16px;font-family:Arial'>2.  Binomial test producing a result table and introducing a groupby variable gender with default values for other parameters.</p>"
   ]
  },
  {
   "cell_type": "code",
   "execution_count": 17,
   "metadata": {},
   "outputs": [
    {
     "data": {
      "text/plain": [
       "Success: 0 rows affected"
      ]
     },
     "execution_count": 17,
     "metadata": {
      "application/vnd.teradata.resultset": ""
     },
     "output_type": "execute_result"
    }
   ],
   "source": [
    "call ${VALDB}.td_analyze('BinomialTest', \n",
    "                         'database=${QLID};\n",
    "                          tablename=VAL_ADS;\n",
    "                          firstcolumn=sv_avg_bal;\n",
    "                          secondcolumn=ck_avg_bal;\n",
    "                          groupby=female_ind;\n",
    "                          outputdatabase=${QLID};\n",
    "                          outputtablename=_val_binomial_example2;\n",
    "                          statsdatabase=${VALDB};');"
   ]
  },
  {
   "cell_type": "code",
   "execution_count": 18,
   "metadata": {},
   "outputs": [
    {
     "data": {
      "application/vnd.teradata.resultset": "\"female_ind\",\"N\",\"NPos\",\"NNeg\",\"BP\",\"BinomialCallP_0.05\"\n\"1\",\"5852\",\"3717\",\"2135\",\"2e-06\",\"p\"\n\"0\",\"4606\",\"2667\",\"1939\",\"2e-06\",\"p\"",
      "text/html": [
       "<div class = \"td-resultset-table-div\" style = \"max-height: 100%; overflow-y: auto\">\n",
       "      <table class=\"tdhistory89932\"><style>\n",
       "      table.tdhistory89932 { display: block !important; min-height: 126px !important; overflow: auto !important; height: 126px !important; width: 100% !important; border: 1px solid rgb(207, 207, 207) !important; border-collapse: collapse !important; ; color: var(--jp-ui-font-color1) !important; }\n",
       "      th.tdhistory89932 { border: 1px solid rgb(198,198,198) !important; border-collapse: collapse !important; ; padding: 2px 5px !important; ; font-size: 13px !important; ; text-align: center !important; white-space: normal !important; color: var(--jp-ui-font-color1) !important; }\n",
       "      th.tdhistory89932:last-child { text-align: left !important; }\n",
       "      tbody.tdhistory89932 tr:nth-child(even) { background: rgba(243, 243, 243, 0.75) !important; }\n",
       "      tbody.tdhistory89932 tr:nth-child(odd) { background: var(--jp-ui-inverse-font-color1) !important; }\n",
       "      td.tdhistory89932 { border: 1px solid rgb(207, 207, 207) !important; border-collapse: collapse !important; ; padding: 2px 5px !important; ; font-size: 13px !important; ; text-align: left !important;          white-space: nowrap !important; overflow:hidden !important; text-overflow:ellipsis !important;; }\n",
       "    </style><thead><tr style= \"background: rgba(243, 243, 243, 0.75)\"><th class=\"tdhistory89932\"></th><th class=\"tdhistory89932\">female_ind</th><th class=\"tdhistory89932\">N</th><th class=\"tdhistory89932\">NPos</th><th class=\"tdhistory89932\">NNeg</th><th class=\"tdhistory89932\">BP</th><th class=\"tdhistory89932\">BinomialCallP_0.05</th></tr></thead><tbody class=\"tdhistory89932 resultset-body\"><tr><th class=\"tdhistory89932\" style= \"background: rgba(243, 243, 243, 0.75)\">1</th><td class=\"tdhistory89932\">1</td><td class=\"tdhistory89932\">5852</td><td class=\"tdhistory89932\">3717</td><td class=\"tdhistory89932\">2135</td><td class=\"tdhistory89932\">2e-06</td><td class=\"tdhistory89932\">p</td></tr><tr><th class=\"tdhistory89932\" style= \"background: rgba(243, 243, 243, 0.75)\">2</th><td class=\"tdhistory89932\">0</td><td class=\"tdhistory89932\">4606</td><td class=\"tdhistory89932\">2667</td><td class=\"tdhistory89932\">1939</td><td class=\"tdhistory89932\">2e-06</td><td class=\"tdhistory89932\">p</td></tr></tbody></table></div>"
      ]
     },
     "execution_count": 18,
     "metadata": {
      "application/vnd.teradata.resultset": "{\"resultSetID\":\"/home/jovyan/JupyterLabRoot/Teradata/Resultsets/2023.01.06_06.16.20.472_UTC\",\"historyID\":383,\"chunkID\":\"00001\",\"sessionid\":\"\",\"portnum\":\"\",\"dockermode\":\"docker\",\"totalRowCount\":2,\"chunkCount\":0,\"rowLimit\":0,\"columnMetadata\":[{\"columnName\":\"female_ind\",\"columnTypeName\":\"BYTEINT\"},{\"columnNumber\":1,\"columnName\":\"N\",\"columnTypeName\":\"FLOAT\"},{\"columnNumber\":2,\"columnName\":\"NPos\",\"columnTypeName\":\"FLOAT\"},{\"columnNumber\":3,\"columnName\":\"NNeg\",\"columnTypeName\":\"FLOAT\"},{\"columnNumber\":4,\"columnName\":\"BP\",\"columnTypeName\":\"FLOAT\"},{\"columnNumber\":5,\"columnName\":\"BinomialCallP_0.05\",\"columnTypeName\":\"VARCHAR\",\"length\":1,\"scale\":1}]}"
     },
     "output_type": "execute_result"
    }
   ],
   "source": [
    "SELECT * FROM ${QLID}._val_binomial_example2;"
   ]
  },
  {
   "cell_type": "markdown",
   "metadata": {},
   "source": [
    "<p style = 'font-size:16px;font-family:Arial'>3.  Sign test producing an unpersisted result set with default values for thresholdprobabilty (.05) and singletail (false).</p>"
   ]
  },
  {
   "cell_type": "code",
   "execution_count": 19,
   "metadata": {},
   "outputs": [
    {
     "data": {
      "text/plain": [
       "Success: 0 rows affected"
      ]
     },
     "execution_count": 19,
     "metadata": {
      "application/vnd.teradata.resultset": ""
     },
     "output_type": "execute_result"
    },
    {
     "data": {
      "application/vnd.teradata.resultset": "\"N\",\"NPos\",\"NNeg\",\"BP\",\"BinomialCallP_0.05\"\n\"10458\",\"5894\",\"4564\",\"2e-06\",\"p\"",
      "text/html": [
       "<div class = \"td-resultset-table-div\" style = \"max-height: 100%; overflow-y: auto\">\n",
       "      <table class=\"tdhistory793936\"><style>\n",
       "      table.tdhistory793936 { display: block !important; min-height: 105px !important; overflow: auto !important; height: 105px !important; width: 100% !important; border: 1px solid rgb(207, 207, 207) !important; border-collapse: collapse !important; ; color: var(--jp-ui-font-color1) !important; }\n",
       "      th.tdhistory793936 { border: 1px solid rgb(198,198,198) !important; border-collapse: collapse !important; ; padding: 2px 5px !important; ; font-size: 13px !important; ; text-align: center !important; white-space: normal !important; color: var(--jp-ui-font-color1) !important; }\n",
       "      th.tdhistory793936:last-child { text-align: left !important; }\n",
       "      tbody.tdhistory793936 tr:nth-child(even) { background: rgba(243, 243, 243, 0.75) !important; }\n",
       "      tbody.tdhistory793936 tr:nth-child(odd) { background: var(--jp-ui-inverse-font-color1) !important; }\n",
       "      td.tdhistory793936 { border: 1px solid rgb(207, 207, 207) !important; border-collapse: collapse !important; ; padding: 2px 5px !important; ; font-size: 13px !important; ; text-align: left !important;          white-space: nowrap !important; overflow:hidden !important; text-overflow:ellipsis !important;; }\n",
       "    </style><thead><tr style= \"background: rgba(243, 243, 243, 0.75)\"><th class=\"tdhistory793936\"></th><th class=\"tdhistory793936\">N</th><th class=\"tdhistory793936\">NPos</th><th class=\"tdhistory793936\">NNeg</th><th class=\"tdhistory793936\">BP</th><th class=\"tdhistory793936\">BinomialCallP_0.05</th></tr></thead><tbody class=\"tdhistory793936 resultset-body\"><tr><th class=\"tdhistory793936\" style= \"background: rgba(243, 243, 243, 0.75)\">1</th><td class=\"tdhistory793936\">10458</td><td class=\"tdhistory793936\">5894</td><td class=\"tdhistory793936\">4564</td><td class=\"tdhistory793936\">2e-06</td><td class=\"tdhistory793936\">p</td></tr></tbody></table></div>"
      ]
     },
     "execution_count": 19,
     "metadata": {
      "application/vnd.teradata.resultset": "{\"resultSetID\":\"/home/jovyan/JupyterLabRoot/Teradata/Resultsets/2023.01.06_06.16.21.524_UTC\",\"historyID\":384,\"chunkID\":\"00001\",\"sessionid\":\"\",\"portnum\":\"\",\"dockermode\":\"docker\",\"totalRowCount\":1,\"chunkCount\":0,\"rowLimit\":0,\"columnMetadata\":[{\"columnName\":\"N\",\"columnTypeName\":\"FLOAT\"},{\"columnNumber\":1,\"columnName\":\"NPos\",\"columnTypeName\":\"FLOAT\"},{\"columnNumber\":2,\"columnName\":\"NNeg\",\"columnTypeName\":\"FLOAT\"},{\"columnNumber\":3,\"columnName\":\"BP\",\"columnTypeName\":\"FLOAT\"},{\"columnNumber\":4,\"columnName\":\"BinomialCallP_0.05\",\"columnTypeName\":\"VARCHAR\",\"length\":1,\"scale\":1}]}"
     },
     "output_type": "execute_result"
    }
   ],
   "source": [
    "call ${VALDB}.td_analyze('BinomialTest',\n",
    "                         'database=${QLID};\n",
    "                          tablename=VAL_ADS;\n",
    "                          firstcolumn=sv_avg_bal;\n",
    "                          teststyle=sign;\n",
    "                          statsdatabase=${VALDB};');"
   ]
  },
  {
   "cell_type": "markdown",
   "metadata": {},
   "source": [
    "<p style = 'font-size:16px;font-family:Arial'>4.  Sign test producing a result table and introducing a groupby variable gender with default values for other parameters.</p>"
   ]
  },
  {
   "cell_type": "code",
   "execution_count": 20,
   "metadata": {},
   "outputs": [
    {
     "data": {
      "text/plain": [
       "Success: 0 rows affected"
      ]
     },
     "execution_count": 20,
     "metadata": {
      "application/vnd.teradata.resultset": ""
     },
     "output_type": "execute_result"
    }
   ],
   "source": [
    "call ${VALDB}.td_analyze('BinomialTest', \n",
    "                         'database=${QLID};\n",
    "                          tablename=VAL_ADS;\n",
    "                          firstcolumn=sv_avg_bal;\n",
    "                          groupby=female_ind;\n",
    "                          outputdatabase=${QLID};\n",
    "                          outputtablename=_val_binomial_example4;\n",
    "                          teststyle=sign;\n",
    "                          statsdatabase=${VALDB};');"
   ]
  },
  {
   "cell_type": "code",
   "execution_count": 21,
   "metadata": {},
   "outputs": [
    {
     "data": {
      "application/vnd.teradata.resultset": "\"female_ind\",\"N\",\"NPos\",\"NNeg\",\"BP\",\"BinomialCallP_0.05\"\n\"1\",\"5852\",\"3514\",\"2338\",\"2e-06\",\"p\"\n\"0\",\"4606\",\"2380\",\"2226\",\"0.023268256\",\"p\"",
      "text/html": [
       "<div class = \"td-resultset-table-div\" style = \"max-height: 100%; overflow-y: auto\">\n",
       "      <table class=\"tdhistory698947\"><style>\n",
       "      table.tdhistory698947 { display: block !important; min-height: 126px !important; overflow: auto !important; height: 126px !important; width: 100% !important; border: 1px solid rgb(207, 207, 207) !important; border-collapse: collapse !important; ; color: var(--jp-ui-font-color1) !important; }\n",
       "      th.tdhistory698947 { border: 1px solid rgb(198,198,198) !important; border-collapse: collapse !important; ; padding: 2px 5px !important; ; font-size: 13px !important; ; text-align: center !important; white-space: normal !important; color: var(--jp-ui-font-color1) !important; }\n",
       "      th.tdhistory698947:last-child { text-align: left !important; }\n",
       "      tbody.tdhistory698947 tr:nth-child(even) { background: rgba(243, 243, 243, 0.75) !important; }\n",
       "      tbody.tdhistory698947 tr:nth-child(odd) { background: var(--jp-ui-inverse-font-color1) !important; }\n",
       "      td.tdhistory698947 { border: 1px solid rgb(207, 207, 207) !important; border-collapse: collapse !important; ; padding: 2px 5px !important; ; font-size: 13px !important; ; text-align: left !important;          white-space: nowrap !important; overflow:hidden !important; text-overflow:ellipsis !important;; }\n",
       "    </style><thead><tr style= \"background: rgba(243, 243, 243, 0.75)\"><th class=\"tdhistory698947\"></th><th class=\"tdhistory698947\">female_ind</th><th class=\"tdhistory698947\">N</th><th class=\"tdhistory698947\">NPos</th><th class=\"tdhistory698947\">NNeg</th><th class=\"tdhistory698947\">BP</th><th class=\"tdhistory698947\">BinomialCallP_0.05</th></tr></thead><tbody class=\"tdhistory698947 resultset-body\"><tr><th class=\"tdhistory698947\" style= \"background: rgba(243, 243, 243, 0.75)\">1</th><td class=\"tdhistory698947\">1</td><td class=\"tdhistory698947\">5852</td><td class=\"tdhistory698947\">3514</td><td class=\"tdhistory698947\">2338</td><td class=\"tdhistory698947\">2e-06</td><td class=\"tdhistory698947\">p</td></tr><tr><th class=\"tdhistory698947\" style= \"background: rgba(243, 243, 243, 0.75)\">2</th><td class=\"tdhistory698947\">0</td><td class=\"tdhistory698947\">4606</td><td class=\"tdhistory698947\">2380</td><td class=\"tdhistory698947\">2226</td><td class=\"tdhistory698947\">0.023268256</td><td class=\"tdhistory698947\">p</td></tr></tbody></table></div>"
      ]
     },
     "execution_count": 21,
     "metadata": {
      "application/vnd.teradata.resultset": "{\"resultSetID\":\"/home/jovyan/JupyterLabRoot/Teradata/Resultsets/2023.01.06_06.16.22.884_UTC\",\"historyID\":386,\"chunkID\":\"00001\",\"sessionid\":\"\",\"portnum\":\"\",\"dockermode\":\"docker\",\"totalRowCount\":2,\"chunkCount\":0,\"rowLimit\":0,\"columnMetadata\":[{\"columnName\":\"female_ind\",\"columnTypeName\":\"BYTEINT\"},{\"columnNumber\":1,\"columnName\":\"N\",\"columnTypeName\":\"FLOAT\"},{\"columnNumber\":2,\"columnName\":\"NPos\",\"columnTypeName\":\"FLOAT\"},{\"columnNumber\":3,\"columnName\":\"NNeg\",\"columnTypeName\":\"FLOAT\"},{\"columnNumber\":4,\"columnName\":\"BP\",\"columnTypeName\":\"FLOAT\"},{\"columnNumber\":5,\"columnName\":\"BinomialCallP_0.05\",\"columnTypeName\":\"VARCHAR\",\"length\":1,\"scale\":1}]}"
     },
     "output_type": "execute_result"
    }
   ],
   "source": [
    "SELECT * FROM ${QLID}._val_binomial_example4;"
   ]
  },
  {
   "cell_type": "markdown",
   "metadata": {},
   "source": [
    "---"
   ]
  },
  {
   "cell_type": "markdown",
   "metadata": {},
   "source": [
    "<p style = 'font-size:20px;font-family:Arial;color:#E37C4D'><b>5. Kolmogorov-Smirnoff Tests</b></p>\n",
    "\n",
    "<p style = 'font-size:16px;font-family:Arial;color:#E37C4D'><b>Purpose</b></p>\n",
    "\n",
    "<p style = 'font-size:16px;font-family:Arial'>Kolmogorov-Smirnov Goodness-of-Fit Test is used to decide if a sample comes from a population with a specific distribution.  An attractive feature of this test is that the distribution of the K-S test statistic itself does not depend on the underlying cumulative distribution function being tested. Another advantage is that it is an exact test.</p>\n",
    "\n",
    "<p style = 'font-size:16px;font-family:Arial;color:#E37C4D'><b>Required Parameters</b></p>\n",
    "\n",
    "<p style = 'font-size:16px;font-family:Arial'><b>- **columnofinterest**</b></p>\n",
    "\n",
    "<p style = 'font-size:16px;font-family:Arial'>The numeric column that is tested to have a normal distribution. It must reside in the table indicated by the tablename parameter</p>\n",
    "\n",
    "<p style = 'font-size:16px;font-family:Arial'><b>- **database**</b></p>\n",
    "\n",
    "<p style = 'font-size:16px;font-family:Arial'>The database containing the table to analyze.</p>\n",
    "\n",
    "<p style = 'font-size:16px;font-family:Arial'><b>- **kstest**</b></p>\n",
    "\n",
    "<p style = 'font-size:16px;font-family:Arial'>The kstest parameter:\n",
    "    <li>Is required</li>\n",
    "    <li>Must be the first parameter</li>\n",
    "    <li>Is always enclosed in single quotes</li>\n",
    "</p>\n",
    "\n",
    "<p style = 'font-size:16px;font-family:Arial'><b>- **tablename**</b></p>\n",
    "\n",
    "<p style = 'font-size:16px;font-family:Arial'>The table containing the columns to analyze.  It must reside in the database indicated by the database parameter.</p>\n",
    "\n",
    "<p style = 'font-size:16px;font-family:Arial;color:#E37C4D'><b>Optional Parameters</b></p>\n",
    "\n",
    "<p style = 'font-size:16px;font-family:Arial'><b>- **columns**</b></p>\n",
    "\n",
    "<p style = 'font-size:16px;font-family:Arial'>Used only by the Smirnov test, this parameter represents a categorical variable with two values that indicate the distribution to which the columnofinterest belongs. It must reside in the table indicated by the tablename parameter.</p>\n",
    "\n",
    "<p style = 'font-size:16px;font-family:Arial'><b>- **fallback**</b></p>\n",
    "\n",
    "<p style = 'font-size:16px;font-family:Arial'>When true, FALLBACK is requested as an attribute of the created output results table.  When false or parameter not specified, the FALLBACK attribute is not included in the create table SQL.</p>\n",
    "\n",
    "<p style = 'font-size:16px;font-family:Arial'><b>- **gensqlonly**</b></p>\n",
    "\n",
    "<p style = 'font-size:16px;font-family:Arial'>When true, the SQL for the requested function is returned as a result set but not run. When not specified or set to false, the SQL is run but not returned.  This parameter is not allowed when using the Smirnov test.</p>\n",
    "\n",
    "<p style = 'font-size:16px;font-family:Arial'><b>- **groupby**</b></p>\n",
    "    \n",
    "<p style = 'font-size:16px;font-family:Arial'>One or more group-by columns may optionally be specified so that a separate result is produced for each value or combination of values in the specified column or columns.</p>\n",
    "\n",
    "<p style = 'font-size:16px;font-family:Arial'><b>- **multiset**</b></p>\n",
    "\n",
    "<p style = 'font-size:16px;font-family:Arial'>When true, MULTISET is requested as an attribute of the created output results table.  When false or parameter not specified, the MULTISET attribute is not included in the create table SQL.</p>\n",
    "\n",
    "<p style = 'font-size:16px;font-family:Arial'><b>- **outputdatabase**</b></p>\n",
    "\n",
    "<p style = 'font-size:16px;font-family:Arial'>Specifies the name of the database to contain the analysis results table.</p>\n",
    "\n",
    "<p style = 'font-size:16px;font-family:Arial'><b>- **outputtablename**</b></p>\n",
    "\n",
    "<p style = 'font-size:16px;font-family:Arial'>Specifies the name of the table to store the analysis results. If not supplied, the results are returned as a result set.</p>\n",
    "\n",
    "<p style = 'font-size:16px;font-family:Arial'><b>- **overwrite**</b></p>\n",
    "\n",
    "<p style = 'font-size:16px;font-family:Arial'>When overwrite is set to true or not set, the output table is dropped before creating a new one.</p>\n",
    "\n",
    "<p style = 'font-size:16px;font-family:Arial'><b>- **statsdatabase**</b></p>\n",
    "\n",
    "<p style = 'font-size:16px;font-family:Arial'>This is the database where the statistical test metadata tables are installed.  If not specified, the source database is searched for these metadata tables.</p>\n",
    "\n",
    "<p style = 'font-size:16px;font-family:Arial'><b>- **teststyle**</b></p>\n",
    "\n",
    "<p style = 'font-size:16px;font-family:Arial'>The valid values are ks, l, sw, p and s, representing a Kolmogorov-Smirnov, Lilliefors, Shapiro-Wilk, D’Agostino and Pearson or Smirnov test.  If not specified, the default test style is Kolmogorov-Smirnov (ks).</p>\n",
    "\n",
    "<p style = 'font-size:16px;font-family:Arial'><b>- **thresholdprobability**</b></p>\n",
    "\n",
    "<p style = 'font-size:16px;font-family:Arial'>You may optionally change the threshold probability or allow it to default to 0.05.  Below this  \"alpha\" probability the null hypothesis is rejected.</p>"
   ]
  },
  {
   "cell_type": "markdown",
   "metadata": {},
   "source": [
    "--------------------------"
   ]
  },
  {
   "cell_type": "markdown",
   "metadata": {},
   "source": [
    "<p style = 'font-size:16px;font-family:Arial'>1.  Kolmogorov-Smirnov test with group-by option.</p>"
   ]
  },
  {
   "cell_type": "code",
   "execution_count": 22,
   "metadata": {},
   "outputs": [
    {
     "data": {
      "text/plain": [
       "Success: 0 rows affected"
      ]
     },
     "execution_count": 22,
     "metadata": {
      "application/vnd.teradata.resultset": ""
     },
     "output_type": "execute_result"
    },
    {
     "data": {
      "application/vnd.teradata.resultset": "\"tot_cust_years\",\"Klm\",\"M\",\"KlmPValue\",\"KlmPText\",\"KlmCallP_5E-2\"\n\"8\",\"0.167601957\",\"1014\",\"0.01\",\"<0.01\",\"p\"\n\"11\",\"0.147381487\",\"374\",\"0.01\",\"<0.01\",\"p\"\n\"12\",\"0.145172899\",\"182\",\"0.01\",\"<0.01\",\"p\"\n\"0\",\"0.15574236700000005\",\"176\",\"0.01\",\"<0.01\",\"p\"\n\"3\",\"0.169747933\",\"1160\",\"0.01\",\"<0.01\",\"p\"\n\"9\",\"0.156509661\",\"845\",\"0.01\",\"<0.01\",\"p\"\n\"4\",\"0.17757486300000003\",\"1137\",\"0.01\",\"<0.01\",\"p\"\n\"14\",\"0.11384552699999997\",\"39\",\"0.2\",\">0.20\",\"a\"\n\"1\",\"0.168141482\",\"526\",\"0.01\",\"<0.01\",\"p\"\n\"10\",\"0.186458308\",\"613\",\"0.01\",\"<0.01\",\"p\"\n\"7\",\"0.170163411\",\"1118\",\"0.01\",\"<0.01\",\"p\"\n\"6\",\"0.155173774\",\"1151\",\"0.01\",\"<0.01\",\"p\"\n\"2\",\"0.17041927299999998\",\"888\",\"0.01\",\"<0.01\",\"p\"\n\"13\",\"0.194162895\",\"45\",\"0.05970334701819358\",\"\",\"a\"\n\"5\",\"0.17785805899999993\",\"1190\",\"0.01\",\"<0.01\",\"p\"",
      "text/html": [
       "<div class = \"td-resultset-table-div\" style = \"max-height: 100%; overflow-y: auto\">\n",
       "      <table class=\"tdhistory979668\"><style>\n",
       "      table.tdhistory979668 { display: block !important; min-height: 399px !important; overflow: auto !important; height: 399px !important; width: 100% !important; border: 1px solid rgb(207, 207, 207) !important; border-collapse: collapse !important; ; color: var(--jp-ui-font-color1) !important; }\n",
       "      th.tdhistory979668 { border: 1px solid rgb(198,198,198) !important; border-collapse: collapse !important; ; padding: 2px 5px !important; ; font-size: 13px !important; ; text-align: center !important; white-space: normal !important; color: var(--jp-ui-font-color1) !important; }\n",
       "      th.tdhistory979668:last-child { text-align: left !important; }\n",
       "      tbody.tdhistory979668 tr:nth-child(even) { background: rgba(243, 243, 243, 0.75) !important; }\n",
       "      tbody.tdhistory979668 tr:nth-child(odd) { background: var(--jp-ui-inverse-font-color1) !important; }\n",
       "      td.tdhistory979668 { border: 1px solid rgb(207, 207, 207) !important; border-collapse: collapse !important; ; padding: 2px 5px !important; ; font-size: 13px !important; ; text-align: left !important;          white-space: nowrap !important; overflow:hidden !important; text-overflow:ellipsis !important;; }\n",
       "    </style><thead><tr style= \"background: rgba(243, 243, 243, 0.75)\"><th class=\"tdhistory979668\"></th><th class=\"tdhistory979668\">tot_cust_years</th><th class=\"tdhistory979668\">Klm</th><th class=\"tdhistory979668\">M</th><th class=\"tdhistory979668\">KlmPValue</th><th class=\"tdhistory979668\">KlmPText</th><th class=\"tdhistory979668\">KlmCallP_5E-2</th></tr></thead><tbody class=\"tdhistory979668 resultset-body\"><tr><th class=\"tdhistory979668\" style= \"background: rgba(243, 243, 243, 0.75)\">1</th><td class=\"tdhistory979668\">8</td><td class=\"tdhistory979668\">0.167601957</td><td class=\"tdhistory979668\">1014</td><td class=\"tdhistory979668\">0.01</td><td class=\"tdhistory979668\"><0.01</td><td class=\"tdhistory979668\">p</td></tr><tr><th class=\"tdhistory979668\" style= \"background: rgba(243, 243, 243, 0.75)\">2</th><td class=\"tdhistory979668\">11</td><td class=\"tdhistory979668\">0.147381487</td><td class=\"tdhistory979668\">374</td><td class=\"tdhistory979668\">0.01</td><td class=\"tdhistory979668\"><0.01</td><td class=\"tdhistory979668\">p</td></tr><tr><th class=\"tdhistory979668\" style= \"background: rgba(243, 243, 243, 0.75)\">3</th><td class=\"tdhistory979668\">12</td><td class=\"tdhistory979668\">0.145172899</td><td class=\"tdhistory979668\">182</td><td class=\"tdhistory979668\">0.01</td><td class=\"tdhistory979668\"><0.01</td><td class=\"tdhistory979668\">p</td></tr><tr><th class=\"tdhistory979668\" style= \"background: rgba(243, 243, 243, 0.75)\">4</th><td class=\"tdhistory979668\">0</td><td class=\"tdhistory979668\">0.15574236700000005</td><td class=\"tdhistory979668\">176</td><td class=\"tdhistory979668\">0.01</td><td class=\"tdhistory979668\"><0.01</td><td class=\"tdhistory979668\">p</td></tr><tr><th class=\"tdhistory979668\" style= \"background: rgba(243, 243, 243, 0.75)\">5</th><td class=\"tdhistory979668\">3</td><td class=\"tdhistory979668\">0.169747933</td><td class=\"tdhistory979668\">1160</td><td class=\"tdhistory979668\">0.01</td><td class=\"tdhistory979668\"><0.01</td><td class=\"tdhistory979668\">p</td></tr><tr><th class=\"tdhistory979668\" style= \"background: rgba(243, 243, 243, 0.75)\">6</th><td class=\"tdhistory979668\">9</td><td class=\"tdhistory979668\">0.156509661</td><td class=\"tdhistory979668\">845</td><td class=\"tdhistory979668\">0.01</td><td class=\"tdhistory979668\"><0.01</td><td class=\"tdhistory979668\">p</td></tr><tr><th class=\"tdhistory979668\" style= \"background: rgba(243, 243, 243, 0.75)\">7</th><td class=\"tdhistory979668\">4</td><td class=\"tdhistory979668\">0.17757486300000003</td><td class=\"tdhistory979668\">1137</td><td class=\"tdhistory979668\">0.01</td><td class=\"tdhistory979668\"><0.01</td><td class=\"tdhistory979668\">p</td></tr><tr><th class=\"tdhistory979668\" style= \"background: rgba(243, 243, 243, 0.75)\">8</th><td class=\"tdhistory979668\">14</td><td class=\"tdhistory979668\">0.11384552699999997</td><td class=\"tdhistory979668\">39</td><td class=\"tdhistory979668\">0.2</td><td class=\"tdhistory979668\">>0.20</td><td class=\"tdhistory979668\">a</td></tr><tr><th class=\"tdhistory979668\" style= \"background: rgba(243, 243, 243, 0.75)\">9</th><td class=\"tdhistory979668\">1</td><td class=\"tdhistory979668\">0.168141482</td><td class=\"tdhistory979668\">526</td><td class=\"tdhistory979668\">0.01</td><td class=\"tdhistory979668\"><0.01</td><td class=\"tdhistory979668\">p</td></tr><tr><th class=\"tdhistory979668\" style= \"background: rgba(243, 243, 243, 0.75)\">10</th><td class=\"tdhistory979668\">10</td><td class=\"tdhistory979668\">0.186458308</td><td class=\"tdhistory979668\">613</td><td class=\"tdhistory979668\">0.01</td><td class=\"tdhistory979668\"><0.01</td><td class=\"tdhistory979668\">p</td></tr><tr><th class=\"tdhistory979668\" style= \"background: rgba(243, 243, 243, 0.75)\">11</th><td class=\"tdhistory979668\">7</td><td class=\"tdhistory979668\">0.170163411</td><td class=\"tdhistory979668\">1118</td><td class=\"tdhistory979668\">0.01</td><td class=\"tdhistory979668\"><0.01</td><td class=\"tdhistory979668\">p</td></tr><tr><th class=\"tdhistory979668\" style= \"background: rgba(243, 243, 243, 0.75)\">12</th><td class=\"tdhistory979668\">6</td><td class=\"tdhistory979668\">0.155173774</td><td class=\"tdhistory979668\">1151</td><td class=\"tdhistory979668\">0.01</td><td class=\"tdhistory979668\"><0.01</td><td class=\"tdhistory979668\">p</td></tr><tr><th class=\"tdhistory979668\" style= \"background: rgba(243, 243, 243, 0.75)\">13</th><td class=\"tdhistory979668\">2</td><td class=\"tdhistory979668\">0.17041927299999998</td><td class=\"tdhistory979668\">888</td><td class=\"tdhistory979668\">0.01</td><td class=\"tdhistory979668\"><0.01</td><td class=\"tdhistory979668\">p</td></tr><tr><th class=\"tdhistory979668\" style= \"background: rgba(243, 243, 243, 0.75)\">14</th><td class=\"tdhistory979668\">13</td><td class=\"tdhistory979668\">0.194162895</td><td class=\"tdhistory979668\">45</td><td class=\"tdhistory979668\">0.05970334701819358</td><td class=\"tdhistory979668\"></td><td class=\"tdhistory979668\">a</td></tr><tr><th class=\"tdhistory979668\" style= \"background: rgba(243, 243, 243, 0.75)\">15</th><td class=\"tdhistory979668\">5</td><td class=\"tdhistory979668\">0.17785805899999993</td><td class=\"tdhistory979668\">1190</td><td class=\"tdhistory979668\">0.01</td><td class=\"tdhistory979668\"><0.01</td><td class=\"tdhistory979668\">p</td></tr></tbody></table></div>"
      ]
     },
     "execution_count": 22,
     "metadata": {
      "application/vnd.teradata.resultset": "{\"resultSetID\":\"/home/jovyan/JupyterLabRoot/Teradata/Resultsets/2023.01.06_06.16.37.698_UTC\",\"historyID\":387,\"chunkID\":\"00001\",\"sessionid\":\"\",\"portnum\":\"\",\"dockermode\":\"docker\",\"totalRowCount\":15,\"chunkCount\":0,\"rowLimit\":0,\"columnMetadata\":[{\"columnName\":\"tot_cust_years\",\"columnTypeName\":\"INTEGER\"},{\"columnNumber\":1,\"columnName\":\"Klm\",\"columnTypeName\":\"FLOAT\"},{\"columnNumber\":2,\"columnName\":\"M\",\"columnTypeName\":\"FLOAT\"},{\"columnNumber\":3,\"columnName\":\"KlmPValue\",\"columnTypeName\":\"FLOAT\"},{\"columnNumber\":4,\"columnName\":\"KlmPText\",\"columnTypeName\":\"VARCHAR\",\"length\":5,\"scale\":5},{\"columnNumber\":5,\"columnName\":\"KlmCallP_5E-2\",\"columnTypeName\":\"VARCHAR\",\"length\":1,\"scale\":1}]}"
     },
     "output_type": "execute_result"
    }
   ],
   "source": [
    "call ${VALDB}.td_analyze('KSTest', \n",
    "                         'database=${QLID};\n",
    "                          tablename=VAL_ADS;\n",
    "                          columnofinterest=tot_income;\n",
    "                          teststyle=KS;\n",
    "                          groupby=tot_cust_years;\n",
    "                          statsdatabase=${VALDB};');"
   ]
  },
  {
   "cell_type": "markdown",
   "metadata": {},
   "source": [
    "<p style = 'font-size:16px;font-family:Arial'>2.  Lilliefors test with group-by option.</p>"
   ]
  },
  {
   "cell_type": "code",
   "execution_count": 23,
   "metadata": {},
   "outputs": [
    {
     "data": {
      "text/plain": [
       "Success: 0 rows affected"
      ]
     },
     "execution_count": 23,
     "metadata": {
      "application/vnd.teradata.resultset": ""
     },
     "output_type": "execute_result"
    },
    {
     "data": {
      "application/vnd.teradata.resultset": "\"tot_cust_years\",\"Lilliefors\",\"M\",\"LillieforsPValue\",\"LillieforsPText\",\"LillieforsCallP_5E-2\"\n\"8\",\"0.16437102548323468\",\"1014\",\"0.01\",\"<0.01\",\"p\"\n\"11\",\"0.14539964207486628\",\"374\",\"0.01\",\"<0.01\",\"p\"\n\"12\",\"0.14397700704395605\",\"182\",\"0.01\",\"<0.01\",\"p\"\n\"0\",\"0.15455723972727275\",\"176\",\"0.01\",\"<0.01\",\"p\"\n\"3\",\"0.1652836109310345\",\"1160\",\"0.01\",\"<0.01\",\"p\"\n\"9\",\"0.15286021289940832\",\"845\",\"0.01\",\"<0.01\",\"p\"\n\"4\",\"0.17220877782761657\",\"1137\",\"0.01\",\"<0.01\",\"p\"\n\"14\",\"0.11152678682051276\",\"39\",\"0.2\",\">0.20\",\"a\"\n\"1\",\"0.16513402253992393\",\"526\",\"0.01\",\"<0.01\",\"p\"\n\"10\",\"0.1838866707161501\",\"613\",\"0.01\",\"<0.01\",\"p\"\n\"7\",\"0.16595695373703034\",\"1118\",\"0.01\",\"<0.01\",\"p\"\n\"6\",\"0.1514699463909644\",\"1151\",\"0.01\",\"<0.01\",\"p\"\n\"2\",\"0.16821365318018022\",\"888\",\"0.01\",\"<0.01\",\"p\"\n\"13\",\"0.19186959577777774\",\"45\",\"0.01\",\"<0.01\",\"p\"\n\"5\",\"0.17417877405882343\",\"1190\",\"0.01\",\"<0.01\",\"p\"",
      "text/html": [
       "<div class = \"td-resultset-table-div\" style = \"max-height: 100%; overflow-y: auto\">\n",
       "      <table class=\"tdhistory256399\"><style>\n",
       "      table.tdhistory256399 { display: block !important; min-height: 399px !important; overflow: auto !important; height: 399px !important; width: 100% !important; border: 1px solid rgb(207, 207, 207) !important; border-collapse: collapse !important; ; color: var(--jp-ui-font-color1) !important; }\n",
       "      th.tdhistory256399 { border: 1px solid rgb(198,198,198) !important; border-collapse: collapse !important; ; padding: 2px 5px !important; ; font-size: 13px !important; ; text-align: center !important; white-space: normal !important; color: var(--jp-ui-font-color1) !important; }\n",
       "      th.tdhistory256399:last-child { text-align: left !important; }\n",
       "      tbody.tdhistory256399 tr:nth-child(even) { background: rgba(243, 243, 243, 0.75) !important; }\n",
       "      tbody.tdhistory256399 tr:nth-child(odd) { background: var(--jp-ui-inverse-font-color1) !important; }\n",
       "      td.tdhistory256399 { border: 1px solid rgb(207, 207, 207) !important; border-collapse: collapse !important; ; padding: 2px 5px !important; ; font-size: 13px !important; ; text-align: left !important;          white-space: nowrap !important; overflow:hidden !important; text-overflow:ellipsis !important;; }\n",
       "    </style><thead><tr style= \"background: rgba(243, 243, 243, 0.75)\"><th class=\"tdhistory256399\"></th><th class=\"tdhistory256399\">tot_cust_years</th><th class=\"tdhistory256399\">Lilliefors</th><th class=\"tdhistory256399\">M</th><th class=\"tdhistory256399\">LillieforsPValue</th><th class=\"tdhistory256399\">LillieforsPText</th><th class=\"tdhistory256399\">LillieforsCallP_5E-2</th></tr></thead><tbody class=\"tdhistory256399 resultset-body\"><tr><th class=\"tdhistory256399\" style= \"background: rgba(243, 243, 243, 0.75)\">1</th><td class=\"tdhistory256399\">8</td><td class=\"tdhistory256399\">0.16437102548323468</td><td class=\"tdhistory256399\">1014</td><td class=\"tdhistory256399\">0.01</td><td class=\"tdhistory256399\"><0.01</td><td class=\"tdhistory256399\">p</td></tr><tr><th class=\"tdhistory256399\" style= \"background: rgba(243, 243, 243, 0.75)\">2</th><td class=\"tdhistory256399\">11</td><td class=\"tdhistory256399\">0.14539964207486628</td><td class=\"tdhistory256399\">374</td><td class=\"tdhistory256399\">0.01</td><td class=\"tdhistory256399\"><0.01</td><td class=\"tdhistory256399\">p</td></tr><tr><th class=\"tdhistory256399\" style= \"background: rgba(243, 243, 243, 0.75)\">3</th><td class=\"tdhistory256399\">12</td><td class=\"tdhistory256399\">0.14397700704395605</td><td class=\"tdhistory256399\">182</td><td class=\"tdhistory256399\">0.01</td><td class=\"tdhistory256399\"><0.01</td><td class=\"tdhistory256399\">p</td></tr><tr><th class=\"tdhistory256399\" style= \"background: rgba(243, 243, 243, 0.75)\">4</th><td class=\"tdhistory256399\">0</td><td class=\"tdhistory256399\">0.15455723972727275</td><td class=\"tdhistory256399\">176</td><td class=\"tdhistory256399\">0.01</td><td class=\"tdhistory256399\"><0.01</td><td class=\"tdhistory256399\">p</td></tr><tr><th class=\"tdhistory256399\" style= \"background: rgba(243, 243, 243, 0.75)\">5</th><td class=\"tdhistory256399\">3</td><td class=\"tdhistory256399\">0.1652836109310345</td><td class=\"tdhistory256399\">1160</td><td class=\"tdhistory256399\">0.01</td><td class=\"tdhistory256399\"><0.01</td><td class=\"tdhistory256399\">p</td></tr><tr><th class=\"tdhistory256399\" style= \"background: rgba(243, 243, 243, 0.75)\">6</th><td class=\"tdhistory256399\">9</td><td class=\"tdhistory256399\">0.15286021289940832</td><td class=\"tdhistory256399\">845</td><td class=\"tdhistory256399\">0.01</td><td class=\"tdhistory256399\"><0.01</td><td class=\"tdhistory256399\">p</td></tr><tr><th class=\"tdhistory256399\" style= \"background: rgba(243, 243, 243, 0.75)\">7</th><td class=\"tdhistory256399\">4</td><td class=\"tdhistory256399\">0.17220877782761657</td><td class=\"tdhistory256399\">1137</td><td class=\"tdhistory256399\">0.01</td><td class=\"tdhistory256399\"><0.01</td><td class=\"tdhistory256399\">p</td></tr><tr><th class=\"tdhistory256399\" style= \"background: rgba(243, 243, 243, 0.75)\">8</th><td class=\"tdhistory256399\">14</td><td class=\"tdhistory256399\">0.11152678682051276</td><td class=\"tdhistory256399\">39</td><td class=\"tdhistory256399\">0.2</td><td class=\"tdhistory256399\">>0.20</td><td class=\"tdhistory256399\">a</td></tr><tr><th class=\"tdhistory256399\" style= \"background: rgba(243, 243, 243, 0.75)\">9</th><td class=\"tdhistory256399\">1</td><td class=\"tdhistory256399\">0.16513402253992393</td><td class=\"tdhistory256399\">526</td><td class=\"tdhistory256399\">0.01</td><td class=\"tdhistory256399\"><0.01</td><td class=\"tdhistory256399\">p</td></tr><tr><th class=\"tdhistory256399\" style= \"background: rgba(243, 243, 243, 0.75)\">10</th><td class=\"tdhistory256399\">10</td><td class=\"tdhistory256399\">0.1838866707161501</td><td class=\"tdhistory256399\">613</td><td class=\"tdhistory256399\">0.01</td><td class=\"tdhistory256399\"><0.01</td><td class=\"tdhistory256399\">p</td></tr><tr><th class=\"tdhistory256399\" style= \"background: rgba(243, 243, 243, 0.75)\">11</th><td class=\"tdhistory256399\">7</td><td class=\"tdhistory256399\">0.16595695373703034</td><td class=\"tdhistory256399\">1118</td><td class=\"tdhistory256399\">0.01</td><td class=\"tdhistory256399\"><0.01</td><td class=\"tdhistory256399\">p</td></tr><tr><th class=\"tdhistory256399\" style= \"background: rgba(243, 243, 243, 0.75)\">12</th><td class=\"tdhistory256399\">6</td><td class=\"tdhistory256399\">0.1514699463909644</td><td class=\"tdhistory256399\">1151</td><td class=\"tdhistory256399\">0.01</td><td class=\"tdhistory256399\"><0.01</td><td class=\"tdhistory256399\">p</td></tr><tr><th class=\"tdhistory256399\" style= \"background: rgba(243, 243, 243, 0.75)\">13</th><td class=\"tdhistory256399\">2</td><td class=\"tdhistory256399\">0.16821365318018022</td><td class=\"tdhistory256399\">888</td><td class=\"tdhistory256399\">0.01</td><td class=\"tdhistory256399\"><0.01</td><td class=\"tdhistory256399\">p</td></tr><tr><th class=\"tdhistory256399\" style= \"background: rgba(243, 243, 243, 0.75)\">14</th><td class=\"tdhistory256399\">13</td><td class=\"tdhistory256399\">0.19186959577777774</td><td class=\"tdhistory256399\">45</td><td class=\"tdhistory256399\">0.01</td><td class=\"tdhistory256399\"><0.01</td><td class=\"tdhistory256399\">p</td></tr><tr><th class=\"tdhistory256399\" style= \"background: rgba(243, 243, 243, 0.75)\">15</th><td class=\"tdhistory256399\">5</td><td class=\"tdhistory256399\">0.17417877405882343</td><td class=\"tdhistory256399\">1190</td><td class=\"tdhistory256399\">0.01</td><td class=\"tdhistory256399\"><0.01</td><td class=\"tdhistory256399\">p</td></tr></tbody></table></div>"
      ]
     },
     "execution_count": 23,
     "metadata": {
      "application/vnd.teradata.resultset": "{\"resultSetID\":\"/home/jovyan/JupyterLabRoot/Teradata/Resultsets/2023.01.06_06.16.42.636_UTC\",\"historyID\":388,\"chunkID\":\"00001\",\"sessionid\":\"\",\"portnum\":\"\",\"dockermode\":\"docker\",\"totalRowCount\":15,\"chunkCount\":0,\"rowLimit\":0,\"columnMetadata\":[{\"columnName\":\"tot_cust_years\",\"columnTypeName\":\"INTEGER\"},{\"columnNumber\":1,\"columnName\":\"Lilliefors\",\"columnTypeName\":\"FLOAT\"},{\"columnNumber\":2,\"columnName\":\"M\",\"columnTypeName\":\"FLOAT\"},{\"columnNumber\":3,\"columnName\":\"LillieforsPValue\",\"columnTypeName\":\"FLOAT\"},{\"columnNumber\":4,\"columnName\":\"LillieforsPText\",\"columnTypeName\":\"VARCHAR\",\"length\":5,\"scale\":5},{\"columnNumber\":5,\"columnName\":\"LillieforsCallP_5E-2\",\"columnTypeName\":\"VARCHAR\",\"length\":1,\"scale\":1}]}"
     },
     "output_type": "execute_result"
    }
   ],
   "source": [
    "call ${VALDB}.td_analyze('KSTest', \n",
    "                         'database=${QLID};\n",
    "                          tablename=VAL_ADS;\n",
    "                          columnofinterest=tot_income;\n",
    "                          teststyle=L;\n",
    "                          groupby=tot_cust_years;\n",
    "                          statsdatabase=${VALDB};');"
   ]
  },
  {
   "cell_type": "markdown",
   "metadata": {},
   "source": [
    "<p style = 'font-size:16px;font-family:Arial'>3.  Shapiro-Wilk test with group-by option</p>"
   ]
  },
  {
   "cell_type": "code",
   "execution_count": 24,
   "metadata": {},
   "outputs": [
    {
     "data": {
      "text/plain": [
       "Success: 0 rows affected"
      ]
     },
     "execution_count": 24,
     "metadata": {
      "application/vnd.teradata.resultset": ""
     },
     "output_type": "execute_result"
    },
    {
     "data": {
      "application/vnd.teradata.resultset": "\"tot_cust_years\",\"Shw\",\"N\",\"ShapiroWilkPValue\",\"ShapiroWilkPText\",\"ShapiroWilkCallP_5E-2\"\n\"2\",\"0.7380468157991138\",\"888\",\"1e-06\",\"\",\"p\"\n\"13\",\"0.8639321777575529\",\"45\",\"0.01\",\"<0.01\",\"p\"\n\"7\",\"0.7192490933650109\",\"1118\",\"1e-06\",\"\",\"p\"\n\"14\",\"0.9308345215745261\",\"39\",\"0.029586303936315124\",\"\",\"p\"\n\"1\",\"0.7768408108631809\",\"526\",\"1e-06\",\"\",\"p\"\n\"9\",\"0.7646871828003444\",\"845\",\"1e-06\",\"\",\"p\"\n\"12\",\"0.8145813511010318\",\"182\",\"1e-06\",\"\",\"p\"\n\"0\",\"0.8439237666531059\",\"176\",\"1e-06\",\"\",\"p\"\n\"8\",\"0.7397561124692311\",\"1014\",\"1e-06\",\"\",\"p\"\n\"10\",\"0.7328519330437476\",\"613\",\"1e-06\",\"\",\"p\"\n\"4\",\"0.7244255624743273\",\"1137\",\"1e-06\",\"\",\"p\"\n\"6\",\"0.7343209428011326\",\"1151\",\"1e-06\",\"\",\"p\"\n\"5\",\"0.7197366806117577\",\"1190\",\"1e-06\",\"\",\"p\"\n\"11\",\"0.7883936611899567\",\"374\",\"1e-06\",\"\",\"p\"\n\"3\",\"0.730502163658852\",\"1160\",\"1e-06\",\"\",\"p\"",
      "text/html": [
       "<div class = \"td-resultset-table-div\" style = \"max-height: 100%; overflow-y: auto\">\n",
       "      <table class=\"tdhistory51788\"><style>\n",
       "      table.tdhistory51788 { display: block !important; min-height: 399px !important; overflow: auto !important; height: 399px !important; width: 100% !important; border: 1px solid rgb(207, 207, 207) !important; border-collapse: collapse !important; ; color: var(--jp-ui-font-color1) !important; }\n",
       "      th.tdhistory51788 { border: 1px solid rgb(198,198,198) !important; border-collapse: collapse !important; ; padding: 2px 5px !important; ; font-size: 13px !important; ; text-align: center !important; white-space: normal !important; color: var(--jp-ui-font-color1) !important; }\n",
       "      th.tdhistory51788:last-child { text-align: left !important; }\n",
       "      tbody.tdhistory51788 tr:nth-child(even) { background: rgba(243, 243, 243, 0.75) !important; }\n",
       "      tbody.tdhistory51788 tr:nth-child(odd) { background: var(--jp-ui-inverse-font-color1) !important; }\n",
       "      td.tdhistory51788 { border: 1px solid rgb(207, 207, 207) !important; border-collapse: collapse !important; ; padding: 2px 5px !important; ; font-size: 13px !important; ; text-align: left !important;          white-space: nowrap !important; overflow:hidden !important; text-overflow:ellipsis !important;; }\n",
       "    </style><thead><tr style= \"background: rgba(243, 243, 243, 0.75)\"><th class=\"tdhistory51788\"></th><th class=\"tdhistory51788\">tot_cust_years</th><th class=\"tdhistory51788\">Shw</th><th class=\"tdhistory51788\">N</th><th class=\"tdhistory51788\">ShapiroWilkPValue</th><th class=\"tdhistory51788\">ShapiroWilkPText</th><th class=\"tdhistory51788\">ShapiroWilkCallP_5E-2</th></tr></thead><tbody class=\"tdhistory51788 resultset-body\"><tr><th class=\"tdhistory51788\" style= \"background: rgba(243, 243, 243, 0.75)\">1</th><td class=\"tdhistory51788\">2</td><td class=\"tdhistory51788\">0.7380468157991138</td><td class=\"tdhistory51788\">888</td><td class=\"tdhistory51788\">1e-06</td><td class=\"tdhistory51788\"></td><td class=\"tdhistory51788\">p</td></tr><tr><th class=\"tdhistory51788\" style= \"background: rgba(243, 243, 243, 0.75)\">2</th><td class=\"tdhistory51788\">13</td><td class=\"tdhistory51788\">0.8639321777575529</td><td class=\"tdhistory51788\">45</td><td class=\"tdhistory51788\">0.01</td><td class=\"tdhistory51788\"><0.01</td><td class=\"tdhistory51788\">p</td></tr><tr><th class=\"tdhistory51788\" style= \"background: rgba(243, 243, 243, 0.75)\">3</th><td class=\"tdhistory51788\">7</td><td class=\"tdhistory51788\">0.7192490933650109</td><td class=\"tdhistory51788\">1118</td><td class=\"tdhistory51788\">1e-06</td><td class=\"tdhistory51788\"></td><td class=\"tdhistory51788\">p</td></tr><tr><th class=\"tdhistory51788\" style= \"background: rgba(243, 243, 243, 0.75)\">4</th><td class=\"tdhistory51788\">14</td><td class=\"tdhistory51788\">0.9308345215745261</td><td class=\"tdhistory51788\">39</td><td class=\"tdhistory51788\">0.029586303936315124</td><td class=\"tdhistory51788\"></td><td class=\"tdhistory51788\">p</td></tr><tr><th class=\"tdhistory51788\" style= \"background: rgba(243, 243, 243, 0.75)\">5</th><td class=\"tdhistory51788\">1</td><td class=\"tdhistory51788\">0.7768408108631809</td><td class=\"tdhistory51788\">526</td><td class=\"tdhistory51788\">1e-06</td><td class=\"tdhistory51788\"></td><td class=\"tdhistory51788\">p</td></tr><tr><th class=\"tdhistory51788\" style= \"background: rgba(243, 243, 243, 0.75)\">6</th><td class=\"tdhistory51788\">9</td><td class=\"tdhistory51788\">0.7646871828003444</td><td class=\"tdhistory51788\">845</td><td class=\"tdhistory51788\">1e-06</td><td class=\"tdhistory51788\"></td><td class=\"tdhistory51788\">p</td></tr><tr><th class=\"tdhistory51788\" style= \"background: rgba(243, 243, 243, 0.75)\">7</th><td class=\"tdhistory51788\">12</td><td class=\"tdhistory51788\">0.8145813511010318</td><td class=\"tdhistory51788\">182</td><td class=\"tdhistory51788\">1e-06</td><td class=\"tdhistory51788\"></td><td class=\"tdhistory51788\">p</td></tr><tr><th class=\"tdhistory51788\" style= \"background: rgba(243, 243, 243, 0.75)\">8</th><td class=\"tdhistory51788\">0</td><td class=\"tdhistory51788\">0.8439237666531059</td><td class=\"tdhistory51788\">176</td><td class=\"tdhistory51788\">1e-06</td><td class=\"tdhistory51788\"></td><td class=\"tdhistory51788\">p</td></tr><tr><th class=\"tdhistory51788\" style= \"background: rgba(243, 243, 243, 0.75)\">9</th><td class=\"tdhistory51788\">8</td><td class=\"tdhistory51788\">0.7397561124692311</td><td class=\"tdhistory51788\">1014</td><td class=\"tdhistory51788\">1e-06</td><td class=\"tdhistory51788\"></td><td class=\"tdhistory51788\">p</td></tr><tr><th class=\"tdhistory51788\" style= \"background: rgba(243, 243, 243, 0.75)\">10</th><td class=\"tdhistory51788\">10</td><td class=\"tdhistory51788\">0.7328519330437476</td><td class=\"tdhistory51788\">613</td><td class=\"tdhistory51788\">1e-06</td><td class=\"tdhistory51788\"></td><td class=\"tdhistory51788\">p</td></tr><tr><th class=\"tdhistory51788\" style= \"background: rgba(243, 243, 243, 0.75)\">11</th><td class=\"tdhistory51788\">4</td><td class=\"tdhistory51788\">0.7244255624743273</td><td class=\"tdhistory51788\">1137</td><td class=\"tdhistory51788\">1e-06</td><td class=\"tdhistory51788\"></td><td class=\"tdhistory51788\">p</td></tr><tr><th class=\"tdhistory51788\" style= \"background: rgba(243, 243, 243, 0.75)\">12</th><td class=\"tdhistory51788\">6</td><td class=\"tdhistory51788\">0.7343209428011326</td><td class=\"tdhistory51788\">1151</td><td class=\"tdhistory51788\">1e-06</td><td class=\"tdhistory51788\"></td><td class=\"tdhistory51788\">p</td></tr><tr><th class=\"tdhistory51788\" style= \"background: rgba(243, 243, 243, 0.75)\">13</th><td class=\"tdhistory51788\">5</td><td class=\"tdhistory51788\">0.7197366806117577</td><td class=\"tdhistory51788\">1190</td><td class=\"tdhistory51788\">1e-06</td><td class=\"tdhistory51788\"></td><td class=\"tdhistory51788\">p</td></tr><tr><th class=\"tdhistory51788\" style= \"background: rgba(243, 243, 243, 0.75)\">14</th><td class=\"tdhistory51788\">11</td><td class=\"tdhistory51788\">0.7883936611899567</td><td class=\"tdhistory51788\">374</td><td class=\"tdhistory51788\">1e-06</td><td class=\"tdhistory51788\"></td><td class=\"tdhistory51788\">p</td></tr><tr><th class=\"tdhistory51788\" style= \"background: rgba(243, 243, 243, 0.75)\">15</th><td class=\"tdhistory51788\">3</td><td class=\"tdhistory51788\">0.730502163658852</td><td class=\"tdhistory51788\">1160</td><td class=\"tdhistory51788\">1e-06</td><td class=\"tdhistory51788\"></td><td class=\"tdhistory51788\">p</td></tr></tbody></table></div>"
      ]
     },
     "execution_count": 24,
     "metadata": {
      "application/vnd.teradata.resultset": "{\"resultSetID\":\"/home/jovyan/JupyterLabRoot/Teradata/Resultsets/2023.01.06_06.16.48.336_UTC\",\"historyID\":389,\"chunkID\":\"00001\",\"sessionid\":\"\",\"portnum\":\"\",\"dockermode\":\"docker\",\"totalRowCount\":15,\"chunkCount\":0,\"rowLimit\":0,\"columnMetadata\":[{\"columnName\":\"tot_cust_years\",\"columnTypeName\":\"INTEGER\"},{\"columnNumber\":1,\"columnName\":\"Shw\",\"columnTypeName\":\"FLOAT\"},{\"columnNumber\":2,\"columnName\":\"N\",\"columnTypeName\":\"FLOAT\"},{\"columnNumber\":3,\"columnName\":\"ShapiroWilkPValue\",\"columnTypeName\":\"FLOAT\"},{\"columnNumber\":4,\"columnName\":\"ShapiroWilkPText\",\"columnTypeName\":\"VARCHAR\",\"length\":5,\"scale\":5},{\"columnNumber\":5,\"columnName\":\"ShapiroWilkCallP_5E-2\",\"columnTypeName\":\"VARCHAR\",\"length\":1,\"scale\":1}]}"
     },
     "output_type": "execute_result"
    }
   ],
   "source": [
    "call ${VALDB}.td_analyze('KSTest', \n",
    "                         'database=${QLID};\n",
    "                          tablename=VAL_ADS;\n",
    "                          columnofinterest=tot_income;\n",
    "                          teststyle=SW;\n",
    "                          groupby=tot_cust_years;\n",
    "                          statsdatabase=${VALDB};');"
   ]
  },
  {
   "cell_type": "markdown",
   "metadata": {},
   "source": [
    "<p style = 'font-size:16px;font-family:Arial'>4.  D'Agostino and Pearson Test with group-by option.</p>"
   ]
  },
  {
   "cell_type": "code",
   "execution_count": 25,
   "metadata": {},
   "outputs": [
    {
     "data": {
      "text/plain": [
       "Success: 0 rows affected"
      ]
     },
     "execution_count": 25,
     "metadata": {
      "application/vnd.teradata.resultset": ""
     },
     "output_type": "execute_result"
    },
    {
     "data": {
      "application/vnd.teradata.resultset": "\"tot_cust_years\",\"T\",\"Zkurtosis\",\"Zskew\",\"ChiPValue\",\"ChiPText\",\"ChiCallP_5E-2\"\n\"5\",\"670.6249123670651\",\"13.339258887906924\",\"22.19660074625079\",\"0.0001\",\"<0.0001\",\"p\"\n\"13\",\"6.550323087619043\",\"-0.2341478075898076\",\"2.548626667799725\",\"0.039921993675254674\",\"\",\"p\"\n\"7\",\"688.1595653640863\",\"13.841639526324515\",\"22.28381880619606\",\"0.0001\",\"<0.0001\",\"p\"\n\"0\",\"56.45743848242036\",\"3.7488191061924487\",\"6.511819545370311\",\"0.0001\",\"<0.0001\",\"p\"\n\"3\",\"589.3437122939496\",\"12.388685407891911\",\"20.87736061283216\",\"0.0001\",\"<0.0001\",\"p\"\n\"11\",\"147.96721301835333\",\"6.177449794326851\",\"10.478851418782714\",\"0.0001\",\"<0.0001\",\"p\"\n\"12\",\"56.863309905678044\",\"3.6355690358930906\",\"6.606507980085502\",\"0.0001\",\"<0.0001\",\"p\"\n\"14\",\"3.328860179628914\",\"-0.6811192150956611\",\"1.6926124170808818\",\"0.20446845179761405\",\"\",\"a\"\n\"1\",\"244.19995139460286\",\"8.296957017858563\",\"13.242373489613197\",\"0.0001\",\"<0.0001\",\"p\"\n\"9\",\"439.9169174138988\",\"11.233736234248122\",\"17.71214520133684\",\"0.0001\",\"<0.0001\",\"p\"\n\"4\",\"699.1670879024332\",\"14.007041161881457\",\"22.426990118867753\",\"0.0001\",\"<0.0001\",\"p\"\n\"6\",\"604.0920246471833\",\"12.549184333394088\",\"21.133149249784797\",\"0.0001\",\"<0.0001\",\"p\"\n\"8\",\"568.673888664296\",\"12.71798447459316\",\"20.17242572345486\",\"0.0001\",\"<0.0001\",\"p\"\n\"10\",\"356.23886916414375\",\"10.217865246021466\",\"15.869281615066589\",\"0.0001\",\"<0.0001\",\"p\"\n\"2\",\"422.35825783891465\",\"10.416288136969392\",\"17.716071779221977\",\"0.0001\",\"<0.0001\",\"p\"",
      "text/html": [
       "<div class = \"td-resultset-table-div\" style = \"max-height: 100%; overflow-y: auto\">\n",
       "      <table class=\"tdhistory792572\"><style>\n",
       "      table.tdhistory792572 { display: block !important; min-height: 399px !important; overflow: auto !important; height: 399px !important; width: 100% !important; border: 1px solid rgb(207, 207, 207) !important; border-collapse: collapse !important; ; color: var(--jp-ui-font-color1) !important; }\n",
       "      th.tdhistory792572 { border: 1px solid rgb(198,198,198) !important; border-collapse: collapse !important; ; padding: 2px 5px !important; ; font-size: 13px !important; ; text-align: center !important; white-space: normal !important; color: var(--jp-ui-font-color1) !important; }\n",
       "      th.tdhistory792572:last-child { text-align: left !important; }\n",
       "      tbody.tdhistory792572 tr:nth-child(even) { background: rgba(243, 243, 243, 0.75) !important; }\n",
       "      tbody.tdhistory792572 tr:nth-child(odd) { background: var(--jp-ui-inverse-font-color1) !important; }\n",
       "      td.tdhistory792572 { border: 1px solid rgb(207, 207, 207) !important; border-collapse: collapse !important; ; padding: 2px 5px !important; ; font-size: 13px !important; ; text-align: left !important;          white-space: nowrap !important; overflow:hidden !important; text-overflow:ellipsis !important;; }\n",
       "    </style><thead><tr style= \"background: rgba(243, 243, 243, 0.75)\"><th class=\"tdhistory792572\"></th><th class=\"tdhistory792572\">tot_cust_years</th><th class=\"tdhistory792572\">T</th><th class=\"tdhistory792572\">Zkurtosis</th><th class=\"tdhistory792572\">Zskew</th><th class=\"tdhistory792572\">ChiPValue</th><th class=\"tdhistory792572\">ChiPText</th><th class=\"tdhistory792572\">ChiCallP_5E-2</th></tr></thead><tbody class=\"tdhistory792572 resultset-body\"><tr><th class=\"tdhistory792572\" style= \"background: rgba(243, 243, 243, 0.75)\">1</th><td class=\"tdhistory792572\">5</td><td class=\"tdhistory792572\">670.6249123670651</td><td class=\"tdhistory792572\">13.339258887906924</td><td class=\"tdhistory792572\">22.19660074625079</td><td class=\"tdhistory792572\">0.0001</td><td class=\"tdhistory792572\"><0.0001</td><td class=\"tdhistory792572\">p</td></tr><tr><th class=\"tdhistory792572\" style= \"background: rgba(243, 243, 243, 0.75)\">2</th><td class=\"tdhistory792572\">13</td><td class=\"tdhistory792572\">6.550323087619043</td><td class=\"tdhistory792572\">-0.2341478075898076</td><td class=\"tdhistory792572\">2.548626667799725</td><td class=\"tdhistory792572\">0.039921993675254674</td><td class=\"tdhistory792572\"></td><td class=\"tdhistory792572\">p</td></tr><tr><th class=\"tdhistory792572\" style= \"background: rgba(243, 243, 243, 0.75)\">3</th><td class=\"tdhistory792572\">7</td><td class=\"tdhistory792572\">688.1595653640863</td><td class=\"tdhistory792572\">13.841639526324515</td><td class=\"tdhistory792572\">22.28381880619606</td><td class=\"tdhistory792572\">0.0001</td><td class=\"tdhistory792572\"><0.0001</td><td class=\"tdhistory792572\">p</td></tr><tr><th class=\"tdhistory792572\" style= \"background: rgba(243, 243, 243, 0.75)\">4</th><td class=\"tdhistory792572\">0</td><td class=\"tdhistory792572\">56.45743848242036</td><td class=\"tdhistory792572\">3.7488191061924487</td><td class=\"tdhistory792572\">6.511819545370311</td><td class=\"tdhistory792572\">0.0001</td><td class=\"tdhistory792572\"><0.0001</td><td class=\"tdhistory792572\">p</td></tr><tr><th class=\"tdhistory792572\" style= \"background: rgba(243, 243, 243, 0.75)\">5</th><td class=\"tdhistory792572\">3</td><td class=\"tdhistory792572\">589.3437122939496</td><td class=\"tdhistory792572\">12.388685407891911</td><td class=\"tdhistory792572\">20.87736061283216</td><td class=\"tdhistory792572\">0.0001</td><td class=\"tdhistory792572\"><0.0001</td><td class=\"tdhistory792572\">p</td></tr><tr><th class=\"tdhistory792572\" style= \"background: rgba(243, 243, 243, 0.75)\">6</th><td class=\"tdhistory792572\">11</td><td class=\"tdhistory792572\">147.96721301835333</td><td class=\"tdhistory792572\">6.177449794326851</td><td class=\"tdhistory792572\">10.478851418782714</td><td class=\"tdhistory792572\">0.0001</td><td class=\"tdhistory792572\"><0.0001</td><td class=\"tdhistory792572\">p</td></tr><tr><th class=\"tdhistory792572\" style= \"background: rgba(243, 243, 243, 0.75)\">7</th><td class=\"tdhistory792572\">12</td><td class=\"tdhistory792572\">56.863309905678044</td><td class=\"tdhistory792572\">3.6355690358930906</td><td class=\"tdhistory792572\">6.606507980085502</td><td class=\"tdhistory792572\">0.0001</td><td class=\"tdhistory792572\"><0.0001</td><td class=\"tdhistory792572\">p</td></tr><tr><th class=\"tdhistory792572\" style= \"background: rgba(243, 243, 243, 0.75)\">8</th><td class=\"tdhistory792572\">14</td><td class=\"tdhistory792572\">3.328860179628914</td><td class=\"tdhistory792572\">-0.6811192150956611</td><td class=\"tdhistory792572\">1.6926124170808818</td><td class=\"tdhistory792572\">0.20446845179761405</td><td class=\"tdhistory792572\"></td><td class=\"tdhistory792572\">a</td></tr><tr><th class=\"tdhistory792572\" style= \"background: rgba(243, 243, 243, 0.75)\">9</th><td class=\"tdhistory792572\">1</td><td class=\"tdhistory792572\">244.19995139460286</td><td class=\"tdhistory792572\">8.296957017858563</td><td class=\"tdhistory792572\">13.242373489613197</td><td class=\"tdhistory792572\">0.0001</td><td class=\"tdhistory792572\"><0.0001</td><td class=\"tdhistory792572\">p</td></tr><tr><th class=\"tdhistory792572\" style= \"background: rgba(243, 243, 243, 0.75)\">10</th><td class=\"tdhistory792572\">9</td><td class=\"tdhistory792572\">439.9169174138988</td><td class=\"tdhistory792572\">11.233736234248122</td><td class=\"tdhistory792572\">17.71214520133684</td><td class=\"tdhistory792572\">0.0001</td><td class=\"tdhistory792572\"><0.0001</td><td class=\"tdhistory792572\">p</td></tr><tr><th class=\"tdhistory792572\" style= \"background: rgba(243, 243, 243, 0.75)\">11</th><td class=\"tdhistory792572\">4</td><td class=\"tdhistory792572\">699.1670879024332</td><td class=\"tdhistory792572\">14.007041161881457</td><td class=\"tdhistory792572\">22.426990118867753</td><td class=\"tdhistory792572\">0.0001</td><td class=\"tdhistory792572\"><0.0001</td><td class=\"tdhistory792572\">p</td></tr><tr><th class=\"tdhistory792572\" style= \"background: rgba(243, 243, 243, 0.75)\">12</th><td class=\"tdhistory792572\">6</td><td class=\"tdhistory792572\">604.0920246471833</td><td class=\"tdhistory792572\">12.549184333394088</td><td class=\"tdhistory792572\">21.133149249784797</td><td class=\"tdhistory792572\">0.0001</td><td class=\"tdhistory792572\"><0.0001</td><td class=\"tdhistory792572\">p</td></tr><tr><th class=\"tdhistory792572\" style= \"background: rgba(243, 243, 243, 0.75)\">13</th><td class=\"tdhistory792572\">8</td><td class=\"tdhistory792572\">568.673888664296</td><td class=\"tdhistory792572\">12.71798447459316</td><td class=\"tdhistory792572\">20.17242572345486</td><td class=\"tdhistory792572\">0.0001</td><td class=\"tdhistory792572\"><0.0001</td><td class=\"tdhistory792572\">p</td></tr><tr><th class=\"tdhistory792572\" style= \"background: rgba(243, 243, 243, 0.75)\">14</th><td class=\"tdhistory792572\">10</td><td class=\"tdhistory792572\">356.23886916414375</td><td class=\"tdhistory792572\">10.217865246021466</td><td class=\"tdhistory792572\">15.869281615066589</td><td class=\"tdhistory792572\">0.0001</td><td class=\"tdhistory792572\"><0.0001</td><td class=\"tdhistory792572\">p</td></tr><tr><th class=\"tdhistory792572\" style= \"background: rgba(243, 243, 243, 0.75)\">15</th><td class=\"tdhistory792572\">2</td><td class=\"tdhistory792572\">422.35825783891465</td><td class=\"tdhistory792572\">10.416288136969392</td><td class=\"tdhistory792572\">17.716071779221977</td><td class=\"tdhistory792572\">0.0001</td><td class=\"tdhistory792572\"><0.0001</td><td class=\"tdhistory792572\">p</td></tr></tbody></table></div>"
      ]
     },
     "execution_count": 25,
     "metadata": {
      "application/vnd.teradata.resultset": "{\"resultSetID\":\"/home/jovyan/JupyterLabRoot/Teradata/Resultsets/2023.01.06_06.16.52.323_UTC\",\"historyID\":390,\"chunkID\":\"00001\",\"sessionid\":\"\",\"portnum\":\"\",\"dockermode\":\"docker\",\"totalRowCount\":15,\"chunkCount\":0,\"rowLimit\":0,\"columnMetadata\":[{\"columnName\":\"tot_cust_years\",\"columnTypeName\":\"INTEGER\"},{\"columnNumber\":1,\"columnName\":\"T\",\"columnTypeName\":\"FLOAT\"},{\"columnNumber\":2,\"columnName\":\"Zkurtosis\",\"columnTypeName\":\"FLOAT\"},{\"columnNumber\":3,\"columnName\":\"Zskew\",\"columnTypeName\":\"FLOAT\"},{\"columnNumber\":4,\"columnName\":\"ChiPValue\",\"columnTypeName\":\"FLOAT\"},{\"columnNumber\":5,\"columnName\":\"ChiPText\",\"columnTypeName\":\"VARCHAR\",\"length\":7,\"scale\":7},{\"columnNumber\":6,\"columnName\":\"ChiCallP_5E-2\",\"columnTypeName\":\"VARCHAR\",\"length\":1,\"scale\":1}]}"
     },
     "output_type": "execute_result"
    }
   ],
   "source": [
    "call ${VALDB}.td_analyze('KSTest', \n",
    "                         'database=${QLID};\n",
    "                          tablename=VAL_ADS;\n",
    "                          columnofinterest=tot_income;\n",
    "                          teststyle=P;\n",
    "                          groupby=tot_cust_years;\n",
    "                          statsdatabase=${VALDB};');"
   ]
  },
  {
   "cell_type": "markdown",
   "metadata": {},
   "source": [
    "<p style = 'font-size:16px;font-family:Arial'>5.  Smirnov test with group-by option.</p>"
   ]
  },
  {
   "cell_type": "code",
   "execution_count": 26,
   "metadata": {},
   "outputs": [
    {
     "data": {
      "text/plain": [
       "Success: 0 rows affected"
      ]
     },
     "execution_count": 26,
     "metadata": {
      "application/vnd.teradata.resultset": ""
     },
     "output_type": "execute_result"
    },
    {
     "data": {
      "application/vnd.teradata.resultset": "\"tot_cust_years\",\"M\",\"N\",\"D\",\"SmirnovPValue\",\"SmirnovPText\",\"SmirnovCallP_5E-2\"\n\"8\",\"450\",\"564\",\"1.3487542965938886\",\"0.005\",\"<0.005\",\"p\"\n\"11\",\"158\",\"216\",\"1.285839772469803\",\"0.005\",\"<0.005\",\"p\"\n\"12\",\"77\",\"105\",\"1.342031698510656\",\"0.005\",\"<0.005\",\"p\"\n\"0\",\"74\",\"102\",\"1.313851469476118\",\"0.005\",\"<0.005\",\"p\"\n\"3\",\"495\",\"665\",\"1.3747929978080613\",\"0.005\",\"<0.005\",\"p\"\n\"9\",\"374\",\"471\",\"1.3686535531466877\",\"0.005\",\"<0.005\",\"p\"\n\"4\",\"503\",\"634\",\"1.376370284874307\",\"0.005\",\"<0.005\",\"p\"\n\"14\",\"16\",\"23\",\"1.3716711154322194\",\"0.000101\",\"\",\"p\"\n\"1\",\"226\",\"300\",\"1.3719868864800215\",\"0.005\",\"<0.005\",\"p\"\n\"10\",\"263\",\"350\",\"1.3713273499381309\",\"0.005\",\"<0.005\",\"p\"\n\"7\",\"504\",\"614\",\"1.350382961089002\",\"0.005\",\"<0.005\",\"p\"\n\"6\",\"533\",\"618\",\"1.3732892384095656\",\"0.005\",\"<0.005\",\"p\"\n\"2\",\"378\",\"510\",\"1.3737247822288037\",\"0.005\",\"<0.005\",\"p\"\n\"13\",\"19\",\"26\",\"1.3476431854827773\",\"0.00011\",\"\",\"p\"\n\"5\",\"536\",\"654\",\"1.37351593846779\",\"0.005\",\"<0.005\",\"p\"",
      "text/html": [
       "<div class = \"td-resultset-table-div\" style = \"max-height: 100%; overflow-y: auto\">\n",
       "      <table class=\"tdhistory486401\"><style>\n",
       "      table.tdhistory486401 { display: block !important; min-height: 399px !important; overflow: auto !important; height: 399px !important; width: 100% !important; border: 1px solid rgb(207, 207, 207) !important; border-collapse: collapse !important; ; color: var(--jp-ui-font-color1) !important; }\n",
       "      th.tdhistory486401 { border: 1px solid rgb(198,198,198) !important; border-collapse: collapse !important; ; padding: 2px 5px !important; ; font-size: 13px !important; ; text-align: center !important; white-space: normal !important; color: var(--jp-ui-font-color1) !important; }\n",
       "      th.tdhistory486401:last-child { text-align: left !important; }\n",
       "      tbody.tdhistory486401 tr:nth-child(even) { background: rgba(243, 243, 243, 0.75) !important; }\n",
       "      tbody.tdhistory486401 tr:nth-child(odd) { background: var(--jp-ui-inverse-font-color1) !important; }\n",
       "      td.tdhistory486401 { border: 1px solid rgb(207, 207, 207) !important; border-collapse: collapse !important; ; padding: 2px 5px !important; ; font-size: 13px !important; ; text-align: left !important;          white-space: nowrap !important; overflow:hidden !important; text-overflow:ellipsis !important;; }\n",
       "    </style><thead><tr style= \"background: rgba(243, 243, 243, 0.75)\"><th class=\"tdhistory486401\"></th><th class=\"tdhistory486401\">tot_cust_years</th><th class=\"tdhistory486401\">M</th><th class=\"tdhistory486401\">N</th><th class=\"tdhistory486401\">D</th><th class=\"tdhistory486401\">SmirnovPValue</th><th class=\"tdhistory486401\">SmirnovPText</th><th class=\"tdhistory486401\">SmirnovCallP_5E-2</th></tr></thead><tbody class=\"tdhistory486401 resultset-body\"><tr><th class=\"tdhistory486401\" style= \"background: rgba(243, 243, 243, 0.75)\">1</th><td class=\"tdhistory486401\">8</td><td class=\"tdhistory486401\">450</td><td class=\"tdhistory486401\">564</td><td class=\"tdhistory486401\">1.3487542965938886</td><td class=\"tdhistory486401\">0.005</td><td class=\"tdhistory486401\"><0.005</td><td class=\"tdhistory486401\">p</td></tr><tr><th class=\"tdhistory486401\" style= \"background: rgba(243, 243, 243, 0.75)\">2</th><td class=\"tdhistory486401\">11</td><td class=\"tdhistory486401\">158</td><td class=\"tdhistory486401\">216</td><td class=\"tdhistory486401\">1.285839772469803</td><td class=\"tdhistory486401\">0.005</td><td class=\"tdhistory486401\"><0.005</td><td class=\"tdhistory486401\">p</td></tr><tr><th class=\"tdhistory486401\" style= \"background: rgba(243, 243, 243, 0.75)\">3</th><td class=\"tdhistory486401\">12</td><td class=\"tdhistory486401\">77</td><td class=\"tdhistory486401\">105</td><td class=\"tdhistory486401\">1.342031698510656</td><td class=\"tdhistory486401\">0.005</td><td class=\"tdhistory486401\"><0.005</td><td class=\"tdhistory486401\">p</td></tr><tr><th class=\"tdhistory486401\" style= \"background: rgba(243, 243, 243, 0.75)\">4</th><td class=\"tdhistory486401\">0</td><td class=\"tdhistory486401\">74</td><td class=\"tdhistory486401\">102</td><td class=\"tdhistory486401\">1.313851469476118</td><td class=\"tdhistory486401\">0.005</td><td class=\"tdhistory486401\"><0.005</td><td class=\"tdhistory486401\">p</td></tr><tr><th class=\"tdhistory486401\" style= \"background: rgba(243, 243, 243, 0.75)\">5</th><td class=\"tdhistory486401\">3</td><td class=\"tdhistory486401\">495</td><td class=\"tdhistory486401\">665</td><td class=\"tdhistory486401\">1.3747929978080613</td><td class=\"tdhistory486401\">0.005</td><td class=\"tdhistory486401\"><0.005</td><td class=\"tdhistory486401\">p</td></tr><tr><th class=\"tdhistory486401\" style= \"background: rgba(243, 243, 243, 0.75)\">6</th><td class=\"tdhistory486401\">9</td><td class=\"tdhistory486401\">374</td><td class=\"tdhistory486401\">471</td><td class=\"tdhistory486401\">1.3686535531466877</td><td class=\"tdhistory486401\">0.005</td><td class=\"tdhistory486401\"><0.005</td><td class=\"tdhistory486401\">p</td></tr><tr><th class=\"tdhistory486401\" style= \"background: rgba(243, 243, 243, 0.75)\">7</th><td class=\"tdhistory486401\">4</td><td class=\"tdhistory486401\">503</td><td class=\"tdhistory486401\">634</td><td class=\"tdhistory486401\">1.376370284874307</td><td class=\"tdhistory486401\">0.005</td><td class=\"tdhistory486401\"><0.005</td><td class=\"tdhistory486401\">p</td></tr><tr><th class=\"tdhistory486401\" style= \"background: rgba(243, 243, 243, 0.75)\">8</th><td class=\"tdhistory486401\">14</td><td class=\"tdhistory486401\">16</td><td class=\"tdhistory486401\">23</td><td class=\"tdhistory486401\">1.3716711154322194</td><td class=\"tdhistory486401\">0.000101</td><td class=\"tdhistory486401\"></td><td class=\"tdhistory486401\">p</td></tr><tr><th class=\"tdhistory486401\" style= \"background: rgba(243, 243, 243, 0.75)\">9</th><td class=\"tdhistory486401\">1</td><td class=\"tdhistory486401\">226</td><td class=\"tdhistory486401\">300</td><td class=\"tdhistory486401\">1.3719868864800215</td><td class=\"tdhistory486401\">0.005</td><td class=\"tdhistory486401\"><0.005</td><td class=\"tdhistory486401\">p</td></tr><tr><th class=\"tdhistory486401\" style= \"background: rgba(243, 243, 243, 0.75)\">10</th><td class=\"tdhistory486401\">10</td><td class=\"tdhistory486401\">263</td><td class=\"tdhistory486401\">350</td><td class=\"tdhistory486401\">1.3713273499381309</td><td class=\"tdhistory486401\">0.005</td><td class=\"tdhistory486401\"><0.005</td><td class=\"tdhistory486401\">p</td></tr><tr><th class=\"tdhistory486401\" style= \"background: rgba(243, 243, 243, 0.75)\">11</th><td class=\"tdhistory486401\">7</td><td class=\"tdhistory486401\">504</td><td class=\"tdhistory486401\">614</td><td class=\"tdhistory486401\">1.350382961089002</td><td class=\"tdhistory486401\">0.005</td><td class=\"tdhistory486401\"><0.005</td><td class=\"tdhistory486401\">p</td></tr><tr><th class=\"tdhistory486401\" style= \"background: rgba(243, 243, 243, 0.75)\">12</th><td class=\"tdhistory486401\">6</td><td class=\"tdhistory486401\">533</td><td class=\"tdhistory486401\">618</td><td class=\"tdhistory486401\">1.3732892384095656</td><td class=\"tdhistory486401\">0.005</td><td class=\"tdhistory486401\"><0.005</td><td class=\"tdhistory486401\">p</td></tr><tr><th class=\"tdhistory486401\" style= \"background: rgba(243, 243, 243, 0.75)\">13</th><td class=\"tdhistory486401\">2</td><td class=\"tdhistory486401\">378</td><td class=\"tdhistory486401\">510</td><td class=\"tdhistory486401\">1.3737247822288037</td><td class=\"tdhistory486401\">0.005</td><td class=\"tdhistory486401\"><0.005</td><td class=\"tdhistory486401\">p</td></tr><tr><th class=\"tdhistory486401\" style= \"background: rgba(243, 243, 243, 0.75)\">14</th><td class=\"tdhistory486401\">13</td><td class=\"tdhistory486401\">19</td><td class=\"tdhistory486401\">26</td><td class=\"tdhistory486401\">1.3476431854827773</td><td class=\"tdhistory486401\">0.00011</td><td class=\"tdhistory486401\"></td><td class=\"tdhistory486401\">p</td></tr><tr><th class=\"tdhistory486401\" style= \"background: rgba(243, 243, 243, 0.75)\">15</th><td class=\"tdhistory486401\">5</td><td class=\"tdhistory486401\">536</td><td class=\"tdhistory486401\">654</td><td class=\"tdhistory486401\">1.37351593846779</td><td class=\"tdhistory486401\">0.005</td><td class=\"tdhistory486401\"><0.005</td><td class=\"tdhistory486401\">p</td></tr></tbody></table></div>"
      ]
     },
     "execution_count": 26,
     "metadata": {
      "application/vnd.teradata.resultset": "{\"resultSetID\":\"/home/jovyan/JupyterLabRoot/Teradata/Resultsets/2023.01.06_06.16.58.446_UTC\",\"historyID\":391,\"chunkID\":\"00001\",\"sessionid\":\"\",\"portnum\":\"\",\"dockermode\":\"docker\",\"totalRowCount\":15,\"chunkCount\":0,\"rowLimit\":0,\"columnMetadata\":[{\"columnName\":\"tot_cust_years\",\"columnTypeName\":\"INTEGER\"},{\"columnNumber\":1,\"columnName\":\"M\",\"columnTypeName\":\"FLOAT\"},{\"columnNumber\":2,\"columnName\":\"N\",\"columnTypeName\":\"FLOAT\"},{\"columnNumber\":3,\"columnName\":\"D\",\"columnTypeName\":\"FLOAT\"},{\"columnNumber\":4,\"columnName\":\"SmirnovPValue\",\"columnTypeName\":\"FLOAT\"},{\"columnNumber\":5,\"columnName\":\"SmirnovPText\",\"columnTypeName\":\"VARCHAR\",\"length\":6,\"scale\":6},{\"columnNumber\":6,\"columnName\":\"SmirnovCallP_5E-2\",\"columnTypeName\":\"VARCHAR\",\"length\":1,\"scale\":1}]}"
     },
     "output_type": "execute_result"
    }
   ],
   "source": [
    "call ${VALDB}.td_analyze('KSTest', \n",
    "                         'database=${QLID};\n",
    "                          tablename=VAL_ADS;\n",
    "                          columnofinterest=tot_income;\n",
    "                          columns=female_ind;\n",
    "                          teststyle=S;\n",
    "                          groupby=tot_cust_years;\n",
    "                          statsdatabase=${VALDB};');"
   ]
  },
  {
   "cell_type": "markdown",
   "metadata": {},
   "source": [
    "<p style = 'font-size:16px;font-family:Arial'>6.  Kolmogorov-Smirnov test that stores its results in an output table val_ks_out1 and does not contain a group-by option."
   ]
  },
  {
   "cell_type": "code",
   "execution_count": 27,
   "metadata": {},
   "outputs": [
    {
     "data": {
      "text/plain": [
       "Success: 0 rows affected"
      ]
     },
     "execution_count": 27,
     "metadata": {
      "application/vnd.teradata.resultset": ""
     },
     "output_type": "execute_result"
    }
   ],
   "source": [
    "call ${VALDB}.td_analyze('KSTest', \n",
    "                         'database=${QLID};\n",
    "                          tablename=VAL_ADS;\n",
    "                          columnofinterest=tot_income;\n",
    "                          teststyle=KS; \n",
    "                          statsdatabase=${VALDB};\n",
    "                          outputdatabase=${QLID};\n",
    "                          outputtablename=_val_ks_out1');"
   ]
  },
  {
   "cell_type": "code",
   "execution_count": 28,
   "metadata": {},
   "outputs": [
    {
     "data": {
      "application/vnd.teradata.resultset": "\"Klm\",\"M\",\"KlmPValue\",\"KlmPText\",\"KlmCallP_5E-2\"\n\"0.15818501100000001\",\"10458\",\"0.01\",\"<0.01\",\"p\"",
      "text/html": [
       "<div class = \"td-resultset-table-div\" style = \"max-height: 100%; overflow-y: auto\">\n",
       "      <table class=\"tdhistory203208\"><style>\n",
       "      table.tdhistory203208 { display: block !important; min-height: 105px !important; overflow: auto !important; height: 105px !important; width: 100% !important; border: 1px solid rgb(207, 207, 207) !important; border-collapse: collapse !important; ; color: var(--jp-ui-font-color1) !important; }\n",
       "      th.tdhistory203208 { border: 1px solid rgb(198,198,198) !important; border-collapse: collapse !important; ; padding: 2px 5px !important; ; font-size: 13px !important; ; text-align: center !important; white-space: normal !important; color: var(--jp-ui-font-color1) !important; }\n",
       "      th.tdhistory203208:last-child { text-align: left !important; }\n",
       "      tbody.tdhistory203208 tr:nth-child(even) { background: rgba(243, 243, 243, 0.75) !important; }\n",
       "      tbody.tdhistory203208 tr:nth-child(odd) { background: var(--jp-ui-inverse-font-color1) !important; }\n",
       "      td.tdhistory203208 { border: 1px solid rgb(207, 207, 207) !important; border-collapse: collapse !important; ; padding: 2px 5px !important; ; font-size: 13px !important; ; text-align: left !important;          white-space: nowrap !important; overflow:hidden !important; text-overflow:ellipsis !important;; }\n",
       "    </style><thead><tr style= \"background: rgba(243, 243, 243, 0.75)\"><th class=\"tdhistory203208\"></th><th class=\"tdhistory203208\">Klm</th><th class=\"tdhistory203208\">M</th><th class=\"tdhistory203208\">KlmPValue</th><th class=\"tdhistory203208\">KlmPText</th><th class=\"tdhistory203208\">KlmCallP_5E-2</th></tr></thead><tbody class=\"tdhistory203208 resultset-body\"><tr><th class=\"tdhistory203208\" style= \"background: rgba(243, 243, 243, 0.75)\">1</th><td class=\"tdhistory203208\">0.15818501100000001</td><td class=\"tdhistory203208\">10458</td><td class=\"tdhistory203208\">0.01</td><td class=\"tdhistory203208\"><0.01</td><td class=\"tdhistory203208\">p</td></tr></tbody></table></div>"
      ]
     },
     "execution_count": 28,
     "metadata": {
      "application/vnd.teradata.resultset": "{\"resultSetID\":\"/home/jovyan/JupyterLabRoot/Teradata/Resultsets/2023.01.06_06.17.09.447_UTC\",\"historyID\":393,\"chunkID\":\"00001\",\"sessionid\":\"\",\"portnum\":\"\",\"dockermode\":\"docker\",\"totalRowCount\":1,\"chunkCount\":0,\"rowLimit\":0,\"columnMetadata\":[{\"columnName\":\"Klm\",\"columnTypeName\":\"FLOAT\"},{\"columnNumber\":1,\"columnName\":\"M\",\"columnTypeName\":\"FLOAT\"},{\"columnNumber\":2,\"columnName\":\"KlmPValue\",\"columnTypeName\":\"FLOAT\"},{\"columnNumber\":3,\"columnName\":\"KlmPText\",\"columnTypeName\":\"VARCHAR\",\"length\":5,\"scale\":5},{\"columnNumber\":4,\"columnName\":\"KlmCallP_5E-2\",\"columnTypeName\":\"VARCHAR\",\"length\":1,\"scale\":1}]}"
     },
     "output_type": "execute_result"
    }
   ],
   "source": [
    "SELECT * FROM ${QLID}._val_ks_out1;"
   ]
  },
  {
   "cell_type": "markdown",
   "metadata": {},
   "source": [
    "---"
   ]
  },
  {
   "cell_type": "markdown",
   "metadata": {},
   "source": [
    "<p style = 'font-size:20px;font-family:Arial;color:#E37C4D'><b>6. Parametric Tests</b></p>\n",
    "\n",
    "<p style = 'font-size:16px;font-family:Arial;color:#E37C4D'><b>Purpose</b></p>\n",
    "\n",
    "<p style = 'font-size:16px;font-family:Arial'>Parametric tests make assumptions about the data, such as the observations being normally distributed.  This can be verified with a test of normality prior to executing a parametric test.  Both T-Tests and F-Tests are provided.  T-Tests may be either paired or unpaired, while the unpaired T-Tests may be with or without an indicator variable.</p>  \n",
    "\n",
    "<p style = 'font-size:16px;font-family:Arial'>F-Tests may be 1-way, 2-way or 3-way.  2-way tests may have equal or unequal cell counts (distinct column values), while the 3-way test must have equal cell counts.  A 1-way test has 1 independent input column, a 2-way test has 2 independent columns and a 3-way test has 3 independent columns in addition to a dependent “column of interest”.</p>\n",
    "\n",
    "<p style = 'font-size:16px;font-family:Arial;color:#E37C4D'><b>Required Parameters</b></p>\n",
    "\n",
    "<p style = 'font-size:16px;font-family:Arial'><b>- **database**</b></p>\n",
    "\n",
    "<p style = 'font-size:16px;font-family:Arial'>The database containing the table to analyze.</p>\n",
    "\n",
    "<p style = 'font-size:16px;font-family:Arial'><b>- **parametrictest**</b></p>\n",
    "\n",
    "<p style = 'font-size:16px;font-family:Arial'>The parametrictest parameter:\n",
    "    <li>Is required</li>\n",
    "    <li>Must be the first parameter</li>\n",
    "    <li>Is always enclosed in single quotes</li>\n",
    "</p>\n",
    "\n",
    "<p style = 'font-size:16px;font-family:Arial'><b>- **tablename**</b></p>\n",
    "\n",
    "<p style = 'font-size:16px;font-family:Arial'>The table containing the columns to analyze.  It must reside in the database indicated by the database parameter.</p>\n",
    "\n",
    "<p style = 'font-size:16px;font-family:Arial;color:#E37C4D'><b>Optional Parameters</b></p>\n",
    "\n",
    "<p style = 'font-size:16px;font-family:Arial'><b>- **columnofinterest**</b></p>\n",
    "\n",
    "<p style = 'font-size:16px;font-family:Arial'>The column representing the dependent variable in an F-Test.</p>\n",
    "\n",
    "<p style = 'font-size:16px;font-family:Arial'><b>- **columns**</b></p>\n",
    "\n",
    "<p style = 'font-size:16px;font-family:Arial'>The columns representing independent variables to be analyzed in a F-Test N-Way with Equal Cell Counts analysis.  There may be 1, 2 or 3 columns listed in this parameter.  If 2 or 3 columns, the number of distinct values for each combination of column values should be the same.</p>\n",
    "\n",
    "<p style = 'font-size:16px;font-family:Arial'><b>- **equalvariance**</b></p>\n",
    "\n",
    "<p style = 'font-size:16px;font-family:Arial'>An option available with the T-Test where, if true, the variance of the two samples (columns) is assumed to be equal.  The default assumption is that the variances are not equal.</p>\n",
    "\n",
    "<p style = 'font-size:16px;font-family:Arial'><b>- **fallback**</b></p>\n",
    "\n",
    "<p style = 'font-size:16px;font-family:Arial'>When true, FALLBACK is requested as an attribute of the created output results table.  When false or parameter not specified, the FALLBACK attribute is not included in the create table SQL.</p>\n",
    "\n",
    "<p style = 'font-size:16px;font-family:Arial'><b>- **firstcolumn**</b></p>\n",
    "\n",
    "<p style = 'font-size:16px;font-family:Arial'>For a T-Test, the column representing the first variable to analyze. It must reside in the table indicated by the tablename parameter.  For an F-Test, the column representing the first independent variable in the analysis.</p>\n",
    "\n",
    "<p style = 'font-size:16px;font-family:Arial'><b>- **firstcolumnvalues**</b></p>\n",
    "\n",
    "<p style = 'font-size:16px;font-family:Arial'>This is a required option for a 2-way F-Test with Unequal Cell Counts.  It is a list of the firstcolumn values to be included in the analysis.</p>\n",
    "\n",
    "<p style = 'font-size:16px;font-family:Arial'><b>- **gensqlonly**</b></p>\n",
    "\n",
    "<p style = 'font-size:16px;font-family:Arial'>For a T-Test analysis, when gensqlonly is true, the SQL for the requested function is returned as a result set but not run. When not specified or set to false, the SQL is run but not returned.  This option is not available for an F-Test analysis.</p>\n",
    "\n",
    "<p style = 'font-size:16px;font-family:Arial'><b>- **groupby**</b></p>\n",
    "\n",
    "<p style = 'font-size:16px;font-family:Arial'>One or more group-by columns may optionally be specified so that a separate result is produced for each value or combination of values in the specified column or columns.</p>\n",
    "\n",
    "<p style = 'font-size:16px;font-family:Arial'><b>- **multiset**</b></p>\n",
    "\n",
    "<p style = 'font-size:16px;font-family:Arial'>When true, MULTISET is requested as an attribute of the created output results table.  When false or parameter not specified, the MULTISET attribute is not included in the create table SQL.</p>\n",
    "\n",
    "<p style = 'font-size:16px;font-family:Arial'><b>- **outputdatabase**</b></p>\n",
    "\n",
    "<p style = 'font-size:16px;font-family:Arial'>Specifies the name of the database to contain the analysis results table.</p>\n",
    "\n",
    "<p style = 'font-size:16px;font-family:Arial'><b>- **outputtablename**</b></p>\n",
    "\n",
    "<p style = 'font-size:16px;font-family:Arial'>Specifies the name of the table to store the analysis results. If not supplied, the results are returned as a result set.</p>\n",
    "\n",
    "<p style = 'font-size:16px;font-family:Arial'><b>- **overwrite**</b></p>\n",
    "\n",
    "<p style = 'font-size:16px;font-family:Arial'>When overwrite is set to true or not set, the output table is dropped before creating a new one.</p>\n",
    "\n",
    "<p style = 'font-size:16px;font-family:Arial'><b>- **paired**</b></p>\n",
    "\n",
    "<p style = 'font-size:16px;font-family:Arial'>An option of the T-Test, which when set to true, indicates that the first and second column values are matched with each other and the mean difference is analyzed.  The paired option defaults to false.</p>\n",
    "\n",
    "<p style = 'font-size:16px;font-family:Arial'><b>- **secondcolumn**</b></p>\n",
    "\n",
    "<p style = 'font-size:16px;font-family:Arial'>For a T-Test, the column representing the second variable to analyze. It must reside in the table indicated by the tablename parameter.  If the withindicator option is set to true, the second column is used to define two analysis categories, one where the second column is negative or zero, and another where the second column is positive.  For an F-Test, the column representing the second independent variable in the analysis.</p>\n",
    "\n",
    "<p style = 'font-size:16px;font-family:Arial'><b>- **secondcolumnvalues**</b></p>\n",
    "\n",
    "<p style = 'font-size:16px;font-family:Arial'>This is a required option for a 2-way F-Test with Unequal Cell Counts.  It is a list of the secondcolumn values to be included in the analysis.</p>\n",
    "\n",
    "<p style = 'font-size:16px;font-family:Arial'><b>- **statsdatabase**</b></p>\n",
    "\n",
    "<p style = 'font-size:16px;font-family:Arial'>This is the database where the statistical test metadata tables are installed.  If not specified, the source database is searched for these metadata tables.</p>\n",
    "\n",
    "<p style = 'font-size:16px;font-family:Arial'><b>- **teststyle**</b></p>\n",
    "\n",
    "<p style = 'font-size:16px;font-family:Arial'>The valid values are t, fnway and f2way, as outlined below. The default is t for T-Test.\n",
    "    \n",
    "<li>T-Test paired, unpaired or unpaired with indicator variable (second column)</li>\n",
    "<li>F-Test N-Way with Equal Cell Counts (1, 2 or 3 columns with same number of distinct values)</li>\n",
    "<li>F-Test 2-Way with Unequal Cell Counts (2 columns with possibly different numbers of distinct values)</li>\n",
    "</p>\n",
    "\n",
    "<p style = 'font-size:16px;font-family:Arial'><b>- **thresholdprobability**</b></p>\n",
    "\n",
    "<p style = 'font-size:16px;font-family:Arial'>You may optionally change the threshold probability or allow it to default to 0.05.  Below this  \"alpha\" probability the null hypothesis is rejected.</p>\n",
    "\n",
    "<p style = 'font-size:16px;font-family:Arial'><b>- **withindicator**</b></p>\n",
    "\n",
    "<p style = 'font-size:16px;font-family:Arial'>This option may be used with an un-paired T-Test, that is when teststyle=t and paired=false.  If the withindicator option is set to true, the second column is used to indicate there are two analysis categories, one for the case where the second column is negative or zero, and another when the second column is positive.</p>"
   ]
  },
  {
   "cell_type": "markdown",
   "metadata": {},
   "source": [
    "--------------------------"
   ]
  },
  {
   "cell_type": "markdown",
   "metadata": {},
   "source": [
    "<p style = 'font-size:16px;font-family:Arial'>1.  T-Test producing an unpersisted result set with default values for teststyle (t) and  thresholdprobabilty (.05). </p> "
   ]
  },
  {
   "cell_type": "code",
   "execution_count": 29,
   "metadata": {},
   "outputs": [
    {
     "data": {
      "text/plain": [
       "Success: 0 rows affected"
      ]
     },
     "execution_count": 29,
     "metadata": {
      "application/vnd.teradata.resultset": ""
     },
     "output_type": "execute_result"
    },
    {
     "data": {
      "application/vnd.teradata.resultset": "\"tot_age\",\"female_ind\",\"D_F\",\"TTestPValue\",\"T\",\"TTestCallP_0.05\"\n\"45\",\"0\",\"68\",\"0.0001292\",\"-4.059830394523732\",\"n\"\n\"93\",\"0\",\"3\",\"0\",\"\",\"\"\n\"94\",\"1\",\"7\",\"0.1132148\",\"1.8135209270199906\",\"a\"\n\"90\",\"1\",\"9\",\"0.1555528\",\"1.545231261242011\",\"a\"\n\"10\",\"1\",\"5\",\"0.1100709\",\"1.9429580983579042\",\"a\"\n\"45\",\"1\",\"104\",\"0.0438849\",\"-2.0436408668962054\",\"n\"\n\"49\",\"1\",\"95\",\"0.0001084\",\"-4.035018616442392\",\"n\"\n\"77\",\"1\",\"40\",\"0.0221685\",\"-2.384227212864992\",\"n\"\n\"61\",\"1\",\"86\",\"0.0250818\",\"2.2760531913263917\",\"p\"\n\"75\",\"0\",\"27\",\"0.1025436\",\"1.6862479715409269\",\"a\"\n\"57\",\"1\",\"94\",\"0.9443424\",\"0.06664211026909829\",\"a\"\n\"91\",\"0\",\"4\",\"0.2206629\",\"-1.4534208494891654\",\"a\"\n\"71\",\"0\",\"40\",\"0.7961975\",\"-0.2641566410222367\",\"a\"\n\"63\",\"0\",\"52\",\"0.0004896\",\"-3.7172265649750513\",\"n\"\n\"74\",\"1\",\"39\",\"0.0004152\",\"-3.8626003069347283\",\"n\"\n\"34\",\"1\",\"97\",\"0.05169\",\"-1.9688466748543199\",\"a\"\n\"58\",\"1\",\"98\",\"0.4981077\",\"-0.6796772283369474\",\"a\"\n\"54\",\"1\",\"119\",\"0.0477776\",\"-2.0041899107427836\",\"n\"\n\"54\",\"0\",\"50\",\"0.008058\",\"-2.764378149730257\",\"n\"\n\"37\",\"0\",\"89\",\"0.5768863\",\"0.5599533860689607\",\"a\"\n\"29\",\"1\",\"65\",\"0.7803667\",\"-0.27816462545128795\",\"a\"\n\"62\",\"0\",\"79\",\"0.0680527\",\"-1.8458946020700595\",\"a\"\n\"26\",\"1\",\"53\",\"0.3170842\",\"-1.0140118328532206\",\"a\"\n\"30\",\"1\",\"85\",\"0.5974937\",\"-0.53344455607459\",\"a\"\n\"36\",\"0\",\"94\",\"0.3599277\",\"0.9189635642254149\",\"a\"\n\"48\",\"1\",\"92\",\"0.0008762\",\"-3.4370876087795286\",\"n\"\n\"24\",\"0\",\"64\",\"0.654231\",\"0.4494421380277679\",\"a\"\n\"57\",\"0\",\"106\",\"0.0109467\",\"-2.5913883798643633\",\"n\"\n\"85\",\"1\",\"18\",\"0.4807706\",\"-0.715463172636989\",\"a\"\n\"36\",\"1\",\"100\",\"0.0025139\",\"-3.10101029514416\",\"n\"\n\"77\",\"0\",\"7\",\"0.2252156\",\"1.3272042858038389\",\"a\"\n\"76\",\"1\",\"24\",\"0.7818767\",\"0.2757542705961492\",\"a\"\n\"72\",\"1\",\"28\",\"0.2042013\",\"-1.2957723582343272\",\"a\"\n\"93\",\"1\",\"7\",\"0.0856193\",\"2.00449476653439\",\"a\"\n\"64\",\"1\",\"46\",\"0.0063499\",\"-2.8563487358795143\",\"n\"\n\"50\",\"1\",\"107\",\"0.0016447\",\"-3.2344818472272943\",\"n\"\n\"47\",\"0\",\"54\",\"0.0053865\",\"-2.9000459446649285\",\"n\"\n\"89\",\"1\",\"15\",\"0.0142988\",\"2.7683360374460215\",\"p\"\n\"72\",\"0\",\"20\",\"0.9921204\",\"-0.00763555929406991\",\"a\"\n\"38\",\"0\",\"72\",\"0.449736\",\"-0.7618334417633449\",\"a\"\n\"48\",\"0\",\"72\",\"0.0019244\",\"-3.222939229651588\",\"n\"\n\"76\",\"0\",\"16\",\"0.2834034\",\"1.1137590628201983\",\"a\"\n\"26\",\"0\",\"39\",\"0.002657\",\"-3.2075616900465023\",\"n\"\n\"66\",\"1\",\"78\",\"0.0004723\",\"-3.6466911082426523\",\"n\"\n\"53\",\"0\",\"79\",\"0.0045597\",\"-2.9247071997293714\",\"n\"\n\"52\",\"1\",\"103\",\"0.0657389\",\"-1.8588907198839517\",\"a\"\n\"73\",\"0\",\"28\",\"0.3502408\",\"0.9479074683140469\",\"a\"\n\"42\",\"1\",\"117\",\"0.00033\",\"-3.7011249364844216\",\"n\"\n\"71\",\"1\",\"62\",\"0.0001833\",\"-3.9795200511271416\",\"n\"\n\"89\",\"0\",\"13\",\"0.1763092\",\"-1.4332867450865145\",\"a\"\n\"33\",\"0\",\"79\",\"0.0511857\",\"-1.9785619285502432\",\"a\"\n\"88\",\"0\",\"16\",\"0.015772\",\"-2.704698849315726\",\"n\"\n\"58\",\"0\",\"93\",\"0.0541878\",\"-1.9456766189714712\",\"a\"\n\"43\",\"1\",\"105\",\"0.0020615\",\"-3.159282179610348\",\"n\"\n\"14\",\"1\",\"51\",\"0.0005456\",\"3.6931882629121917\",\"p\"\n\"91\",\"1\",\"5\",\"0.1939037\",\"1.498396239698223\",\"a\"\n\"25\",\"0\",\"32\",\"0.3854205\",\"-0.879998580752869\",\"a\"\n\"23\",\"0\",\"69\",\"0.0116994\",\"-2.590484787457626\",\"n\"\n\"44\",\"1\",\"90\",\"0.0003708\",\"-3.703333140510914\",\"n\"\n\"86\",\"0\",\"15\",\"0.0164588\",\"-2.6984705704142558\",\"n\"\n\"70\",\"0\",\"45\",\"0.5189969\",\"-0.6513020306745494\",\"a\"\n\"67\",\"0\",\"46\",\"0.0328687\",\"-2.198412250198925\",\"n\"\n\"56\",\"1\",\"100\",\"0.4732045\",\"0.7175552279050323\",\"a\"\n\"14\",\"0\",\"57\",\"0.0112496\",\"2.6246422071530566\",\"p\"\n\"79\",\"0\",\"20\",\"0.4798555\",\"-0.721590349507282\",\"a\"\n\"92\",\"0\",\"3\",\"0.0260825\",\"-4.1093444064195035\",\"n\"\n\"40\",\"0\",\"93\",\"0.0102693\",\"-2.6213267496702675\",\"n\"\n\"32\",\"1\",\"90\",\"0.24509\",\"-1.1709752915228595\",\"a\"\n\"35\",\"1\",\"107\",\"0.9047082\",\"0.11921172925079085\",\"a\"\n\"62\",\"1\",\"70\",\"0.0745882\",\"-1.813453870336688\",\"a\"\n\"65\",\"1\",\"72\",\"0.0365898\",\"-2.13109044369817\",\"n\"\n\"25\",\"1\",\"41\",\"0.0948247\",\"-1.71158062097157\",\"a\"\n\"39\",\"1\",\"94\",\"0.0037795\",\"-2.9667186633594596\",\"n\"\n\"65\",\"0\",\"56\",\"0.0667144\",\"-1.870800636670386\",\"a\"\n\"27\",\"1\",\"69\",\"0.0431725\",\"-2.0565155933859423\",\"n\"\n\"46\",\"1\",\"113\",\"0.0011735\",\"-3.327682594495235\",\"n\"\n\"39\",\"0\",\"73\",\"0.0915134\",\"-1.7050522939133508\",\"a\"\n\"79\",\"1\",\"34\",\"0.1144719\",\"-1.6237812480962597\",\"a\"\n\"9\",\"1\",\"7\",\"0.0011862\",\"5.246179206391678\",\"p\"\n\"31\",\"1\",\"88\",\"0.6183231\",\"-0.5021525435049807\",\"a\"\n\"75\",\"1\",\"33\",\"0.1959187\",\"1.315635133067727\",\"a\"\n\"33\",\"1\",\"93\",\"0.0402766\",\"-2.078263092455552\",\"n\"\n\"18\",\"0\",\"113\",\"0.1101879\",\"1.60879009923987\",\"a\"\n\"31\",\"0\",\"71\",\"0.0107457\",\"-2.6194798084884576\",\"n\"\n\"15\",\"0\",\"86\",\"0.0002188\",\"3.864249582931809\",\"p\"\n\"9\",\"0\",\"6\",\"0.0663471\",\"2.240383083370425\",\"a\"\n\"68\",\"0\",\"41\",\"0.0075597\",\"-2.8132333558681175\",\"n\"\n\"78\",\"0\",\"22\",\"0.1696243\",\"1.4246952271401183\",\"a\"\n\"61\",\"0\",\"54\",\"0.1420424\",\"-1.4880552669395877\",\"a\"\n\"83\",\"1\",\"19\",\"0.1217113\",\"-1.6174953200682671\",\"a\"\n\"13\",\"0\",\"27\",\"0.0156412\",\"2.5810498299970583\",\"p\"\n\"50\",\"0\",\"49\",\"0.0006558\",\"-3.6409383276073912\",\"n\"\n\"73\",\"1\",\"33\",\"0.0086889\",\"-2.7896935842911224\",\"n\"\n\"80\",\"0\",\"21\",\"0.415875\",\"0.8330076821034003\",\"a\"\n\"12\",\"0\",\"8\",\"0.2833584\",\"-1.1492921641212326\",\"a\"\n\"28\",\"0\",\"43\",\"0.01982\",\"-2.4238092425595226\",\"n\"\n\"17\",\"0\",\"85\",\"0.0125657\",\"2.5468209355925406\",\"p\"\n\"69\",\"0\",\"62\",\"0.7727839\",\"0.28651538577973673\",\"a\"\n\"34\",\"0\",\"76\",\"0.4204692\",\"0.811250825489578\",\"a\"\n\"56\",\"0\",\"79\",\"0.1135904\",\"-1.6016397040542534\",\"a\"\n\"90\",\"0\",\"6\",\"0.3559177\",\"-0.9999999999999999\",\"a\"\n\"69\",\"1\",\"47\",\"0.0009419\",\"-3.5274152408618327\",\"n\"\n\"19\",\"0\",\"113\",\"0.0626833\",\"1.8819296530525789\",\"a\"\n\"40\",\"1\",\"97\",\"0.0287475\",\"-2.220837961070849\",\"n\"\n\"84\",\"0\",\"31\",\"0.0006176\",\"-3.8114042051957284\",\"n\"\n\"22\",\"0\",\"57\",\"0.7127537\",\"-0.37155226198840857\",\"a\"\n\"16\",\"1\",\"107\",\"0\",\"4.639713849368194\",\"p\"\n\"29\",\"0\",\"51\",\"0.462693\",\"-0.7355089630973273\",\"a\"\n\"66\",\"0\",\"46\",\"0.0032988\",\"-3.0959576683400245\",\"n\"\n\"64\",\"0\",\"58\",\"0.0182145\",\"-2.426959140037223\",\"n\"\n\"23\",\"1\",\"72\",\"0\",\"-4.807836962330954\",\"n\"\n\"87\",\"0\",\"21\",\"0.1384942\",\"-1.5419105988818673\",\"a\"\n\"80\",\"1\",\"27\",\"0.0461684\",\"-2.091977548190066\",\"n\"\n\"78\",\"1\",\"29\",\"0.0049756\",\"-3.042291228131736\",\"n\"\n\"20\",\"1\",\"144\",\"0\",\"5.253217061314352\",\"p\"\n\"21\",\"0\",\"70\",\"0.2265592\",\"-1.2185733241114733\",\"a\"\n\"37\",\"1\",\"91\",\"0.0134787\",\"-2.515855840770415\",\"n\"\n\"86\",\"1\",\"7\",\"0.1368472\",\"-1.6810328952966416\",\"a\"\n\"55\",\"1\",\"124\",\"0\",\"-4.127593377381934\",\"n\"\n\"88\",\"1\",\"13\",\"0.2368918\",\"-1.2411936748771681\",\"a\"\n\"59\",\"1\",\"81\",\"0.6325211\",\"-0.4799533198668135\",\"a\"\n\"28\",\"1\",\"71\",\"0.0366385\",\"-2.129852920428456\",\"n\"\n\"67\",\"1\",\"55\",\"0\",\"-4.404684295372502\",\"n\"\n\"11\",\"0\",\"12\",\"0.0335186\",\"2.3986400290671694\",\"p\"\n\"74\",\"0\",\"42\",\"0.0728423\",\"1.8431313461350431\",\"a\"\n\"32\",\"0\",\"67\",\"0.4094865\",\"0.8253290126068601\",\"a\"\n\"47\",\"1\",\"99\",\"0\",\"-4.731251829098891\",\"n\"\n\"10\",\"0\",\"8\",\"0.0363709\",\"2.5117824050061412\",\"p\"\n\"81\",\"0\",\"15\",\"0.0205029\",\"-2.589130468293594\",\"n\"\n\"27\",\"0\",\"35\",\"0.0218499\",\"-2.398554722335631\",\"n\"\n\"51\",\"0\",\"87\",\"0\",\"-4.661077166011303\",\"n\"\n\"85\",\"0\",\"23\",\"0.0647381\",\"-1.939644842896574\",\"a\"\n\"84\",\"1\",\"23\",\"0.0116674\",\"-2.741240236148122\",\"n\"\n\"68\",\"1\",\"47\",\"0.0002373\",\"-3.9788328948124123\",\"n\"\n\"12\",\"1\",\"9\",\"0.0600366\",\"-2.1451698881663877\",\"a\"\n\"17\",\"1\",\"116\",\"0.0117522\",\"2.564886589417917\",\"p\"\n\"49\",\"0\",\"73\",\"0.0001023\",\"-4.107857878130484\",\"n\"\n\"22\",\"1\",\"88\",\"0.1271486\",\"-1.5419965213272224\",\"a\"\n\"38\",\"1\",\"101\",\"0.096048\",\"-1.6753890959647324\",\"a\"\n\"16\",\"0\",\"90\",\"0.0029166\",\"3.060064737034293\",\"p\"\n\"52\",\"0\",\"57\",\"0.1988335\",\"-1.2986200226539708\",\"a\"\n\"41\",\"0\",\"87\",\"0.4673513\",\"0.7284430080051986\",\"a\"\n\"13\",\"1\",\"37\",\"0.0091662\",\"2.745763970817959\",\"p\"\n\"63\",\"1\",\"58\",\"0.0480107\",\"-2.018813226758169\",\"n\"\n\"35\",\"0\",\"83\",\"0.0003375\",\"-3.7394635368194225\",\"n\"\n\"18\",\"1\",\"146\",\"0\",\"3.88007857184668\",\"p\"\n\"82\",\"1\",\"34\",\"0.0005562\",\"-3.8116631374621925\",\"n\"\n\"24\",\"1\",\"71\",\"0.0275495\",\"-2.251117099673115\",\"n\"\n\"51\",\"1\",\"125\",\"0\",\"-4.715111357900299\",\"n\"\n\"82\",\"0\",\"23\",\"0.0054189\",\"-3.0725105303481928\",\"n\"\n\"44\",\"0\",\"88\",\"0.002372\",\"-3.1273574324187483\",\"n\"\n\"70\",\"1\",\"61\",\"0\",\"-5.373304366118829\",\"n\"\n\"87\",\"1\",\"8\",\"0.5973357\",\"-0.5542183588683113\",\"a\"\n\"81\",\"1\",\"21\",\"0.1646098\",\"-1.4374024402178878\",\"a\"\n\"21\",\"1\",\"80\",\"0\",\"-4.494000431713699\",\"n\"\n\"30\",\"0\",\"57\",\"0.134039\",\"-1.523189487616873\",\"a\"\n\"60\",\"1\",\"96\",\"0.0010157\",\"-3.394647945426487\",\"n\"\n\"42\",\"0\",\"67\",\"0\",\"-4.211796282429227\",\"n\"\n\"11\",\"1\",\"18\",\"0.0061793\",\"3.1040193569462216\",\"p\"\n\"83\",\"0\",\"19\",\"0.0446447\",\"-2.1457788047169233\",\"n\"\n\"60\",\"0\",\"92\",\"0\",\"-4.258888739610543\",\"n\"\n\"43\",\"0\",\"63\",\"0.035401\",\"-2.1475904037515345\",\"n\"\n\"55\",\"0\",\"97\",\"0\",\"-5.784851346128433\",\"n\"\n\"41\",\"1\",\"125\",\"0\",\"-1.5361087497978672\",\"n\"\n\"46\",\"0\",\"85\",\"0\",\"-4.332325340125757\",\"n\"\n\"53\",\"1\",\"105\",\"0\",\"-4.527210354661867\",\"n\"\n\"59\",\"0\",\"80\",\"0\",\"-4.809246673642799\",\"n\"\n\"19\",\"1\",\"125\",\"0\",\"1.7623795152739916\",\"p\"\n\"15\",\"1\",\"100\",\"0\",\"4.911359364701502\",\"p\"\n\"20\",\"0\",\"102\",\"0\",\"4.3080863466550845\",\"p\"",
      "text/html": [
       "<div class = \"td-resultset-table-div\" style = \"max-height: 100%; overflow-y: auto\">\n",
       "      <table class=\"tdhistory985027\"><style>\n",
       "      table.tdhistory985027 { display: block !important; min-height: 588px !important; overflow: auto !important; height: 588px !important; width: 100% !important; border: 1px solid rgb(207, 207, 207) !important; border-collapse: collapse !important; ; color: var(--jp-ui-font-color1) !important; }\n",
       "      th.tdhistory985027 { border: 1px solid rgb(198,198,198) !important; border-collapse: collapse !important; ; padding: 2px 5px !important; ; font-size: 13px !important; ; text-align: center !important; white-space: normal !important; color: var(--jp-ui-font-color1) !important; }\n",
       "      th.tdhistory985027:last-child { text-align: left !important; }\n",
       "      tbody.tdhistory985027 tr:nth-child(even) { background: rgba(243, 243, 243, 0.75) !important; }\n",
       "      tbody.tdhistory985027 tr:nth-child(odd) { background: var(--jp-ui-inverse-font-color1) !important; }\n",
       "      td.tdhistory985027 { border: 1px solid rgb(207, 207, 207) !important; border-collapse: collapse !important; ; padding: 2px 5px !important; ; font-size: 13px !important; ; text-align: left !important;          white-space: nowrap !important; overflow:hidden !important; text-overflow:ellipsis !important;; }\n",
       "    </style><thead><tr style= \"background: rgba(243, 243, 243, 0.75)\"><th class=\"tdhistory985027\"></th><th class=\"tdhistory985027\">tot_age</th><th class=\"tdhistory985027\">female_ind</th><th class=\"tdhistory985027\">D_F</th><th class=\"tdhistory985027\">TTestPValue</th><th class=\"tdhistory985027\">T</th><th class=\"tdhistory985027\">TTestCallP_0.05</th></tr></thead><tbody class=\"tdhistory985027 resultset-body\"><tr><th class=\"tdhistory985027\" style= \"background: rgba(243, 243, 243, 0.75)\">1</th><td class=\"tdhistory985027\">45</td><td class=\"tdhistory985027\">0</td><td class=\"tdhistory985027\">68</td><td class=\"tdhistory985027\">0.0001292</td><td class=\"tdhistory985027\">-4.059830394523732</td><td class=\"tdhistory985027\">n</td></tr><tr><th class=\"tdhistory985027\" style= \"background: rgba(243, 243, 243, 0.75)\">2</th><td class=\"tdhistory985027\">93</td><td class=\"tdhistory985027\">0</td><td class=\"tdhistory985027\">3</td><td class=\"tdhistory985027\">0</td><td class=\"tdhistory985027\"></td><td class=\"tdhistory985027\"></td></tr><tr><th class=\"tdhistory985027\" style= \"background: rgba(243, 243, 243, 0.75)\">3</th><td class=\"tdhistory985027\">94</td><td class=\"tdhistory985027\">1</td><td class=\"tdhistory985027\">7</td><td class=\"tdhistory985027\">0.1132148</td><td class=\"tdhistory985027\">1.8135209270199906</td><td class=\"tdhistory985027\">a</td></tr><tr><th class=\"tdhistory985027\" style= \"background: rgba(243, 243, 243, 0.75)\">4</th><td class=\"tdhistory985027\">90</td><td class=\"tdhistory985027\">1</td><td class=\"tdhistory985027\">9</td><td class=\"tdhistory985027\">0.1555528</td><td class=\"tdhistory985027\">1.545231261242011</td><td class=\"tdhistory985027\">a</td></tr><tr><th class=\"tdhistory985027\" style= \"background: rgba(243, 243, 243, 0.75)\">5</th><td class=\"tdhistory985027\">10</td><td class=\"tdhistory985027\">1</td><td class=\"tdhistory985027\">5</td><td class=\"tdhistory985027\">0.1100709</td><td class=\"tdhistory985027\">1.9429580983579042</td><td class=\"tdhistory985027\">a</td></tr><tr><th class=\"tdhistory985027\" style= \"background: rgba(243, 243, 243, 0.75)\">6</th><td class=\"tdhistory985027\">45</td><td class=\"tdhistory985027\">1</td><td class=\"tdhistory985027\">104</td><td class=\"tdhistory985027\">0.0438849</td><td class=\"tdhistory985027\">-2.0436408668962054</td><td class=\"tdhistory985027\">n</td></tr><tr><th class=\"tdhistory985027\" style= \"background: rgba(243, 243, 243, 0.75)\">7</th><td class=\"tdhistory985027\">49</td><td class=\"tdhistory985027\">1</td><td class=\"tdhistory985027\">95</td><td class=\"tdhistory985027\">0.0001084</td><td class=\"tdhistory985027\">-4.035018616442392</td><td class=\"tdhistory985027\">n</td></tr><tr><th class=\"tdhistory985027\" style= \"background: rgba(243, 243, 243, 0.75)\">8</th><td class=\"tdhistory985027\">77</td><td class=\"tdhistory985027\">1</td><td class=\"tdhistory985027\">40</td><td class=\"tdhistory985027\">0.0221685</td><td class=\"tdhistory985027\">-2.384227212864992</td><td class=\"tdhistory985027\">n</td></tr><tr><th class=\"tdhistory985027\" style= \"background: rgba(243, 243, 243, 0.75)\">9</th><td class=\"tdhistory985027\">61</td><td class=\"tdhistory985027\">1</td><td class=\"tdhistory985027\">86</td><td class=\"tdhistory985027\">0.0250818</td><td class=\"tdhistory985027\">2.2760531913263917</td><td class=\"tdhistory985027\">p</td></tr><tr><th class=\"tdhistory985027\" style= \"background: rgba(243, 243, 243, 0.75)\">10</th><td class=\"tdhistory985027\">75</td><td class=\"tdhistory985027\">0</td><td class=\"tdhistory985027\">27</td><td class=\"tdhistory985027\">0.1025436</td><td class=\"tdhistory985027\">1.6862479715409269</td><td class=\"tdhistory985027\">a</td></tr><tr><th class=\"tdhistory985027\" style= \"background: rgba(243, 243, 243, 0.75)\">11</th><td class=\"tdhistory985027\">57</td><td class=\"tdhistory985027\">1</td><td class=\"tdhistory985027\">94</td><td class=\"tdhistory985027\">0.9443424</td><td class=\"tdhistory985027\">0.06664211026909829</td><td class=\"tdhistory985027\">a</td></tr><tr><th class=\"tdhistory985027\" style= \"background: rgba(243, 243, 243, 0.75)\">12</th><td class=\"tdhistory985027\">91</td><td class=\"tdhistory985027\">0</td><td class=\"tdhistory985027\">4</td><td class=\"tdhistory985027\">0.2206629</td><td class=\"tdhistory985027\">-1.4534208494891654</td><td class=\"tdhistory985027\">a</td></tr><tr><th class=\"tdhistory985027\" style= \"background: rgba(243, 243, 243, 0.75)\">13</th><td class=\"tdhistory985027\">71</td><td class=\"tdhistory985027\">0</td><td class=\"tdhistory985027\">40</td><td class=\"tdhistory985027\">0.7961975</td><td class=\"tdhistory985027\">-0.2641566410222367</td><td class=\"tdhistory985027\">a</td></tr><tr><th class=\"tdhistory985027\" style= \"background: rgba(243, 243, 243, 0.75)\">14</th><td class=\"tdhistory985027\">63</td><td class=\"tdhistory985027\">0</td><td class=\"tdhistory985027\">52</td><td class=\"tdhistory985027\">0.0004896</td><td class=\"tdhistory985027\">-3.7172265649750513</td><td class=\"tdhistory985027\">n</td></tr><tr><th class=\"tdhistory985027\" style= \"background: rgba(243, 243, 243, 0.75)\">15</th><td class=\"tdhistory985027\">74</td><td class=\"tdhistory985027\">1</td><td class=\"tdhistory985027\">39</td><td class=\"tdhistory985027\">0.0004152</td><td class=\"tdhistory985027\">-3.8626003069347283</td><td class=\"tdhistory985027\">n</td></tr><tr><th class=\"tdhistory985027\" style= \"background: rgba(243, 243, 243, 0.75)\">16</th><td class=\"tdhistory985027\">34</td><td class=\"tdhistory985027\">1</td><td class=\"tdhistory985027\">97</td><td class=\"tdhistory985027\">0.05169</td><td class=\"tdhistory985027\">-1.9688466748543199</td><td class=\"tdhistory985027\">a</td></tr><tr><th class=\"tdhistory985027\" style= \"background: rgba(243, 243, 243, 0.75)\">17</th><td class=\"tdhistory985027\">58</td><td class=\"tdhistory985027\">1</td><td class=\"tdhistory985027\">98</td><td class=\"tdhistory985027\">0.4981077</td><td class=\"tdhistory985027\">-0.6796772283369474</td><td class=\"tdhistory985027\">a</td></tr><tr><th class=\"tdhistory985027\" style= \"background: rgba(243, 243, 243, 0.75)\">18</th><td class=\"tdhistory985027\">54</td><td class=\"tdhistory985027\">1</td><td class=\"tdhistory985027\">119</td><td class=\"tdhistory985027\">0.0477776</td><td class=\"tdhistory985027\">-2.0041899107427836</td><td class=\"tdhistory985027\">n</td></tr><tr><th class=\"tdhistory985027\" style= \"background: rgba(243, 243, 243, 0.75)\">19</th><td class=\"tdhistory985027\">54</td><td class=\"tdhistory985027\">0</td><td class=\"tdhistory985027\">50</td><td class=\"tdhistory985027\">0.008058</td><td class=\"tdhistory985027\">-2.764378149730257</td><td class=\"tdhistory985027\">n</td></tr><tr><th class=\"tdhistory985027\" style= \"background: rgba(243, 243, 243, 0.75)\">20</th><td class=\"tdhistory985027\">37</td><td class=\"tdhistory985027\">0</td><td class=\"tdhistory985027\">89</td><td class=\"tdhistory985027\">0.5768863</td><td class=\"tdhistory985027\">0.5599533860689607</td><td class=\"tdhistory985027\">a</td></tr><tr><th class=\"tdhistory985027\" style= \"background: rgba(243, 243, 243, 0.75)\">21</th><td class=\"tdhistory985027\">29</td><td class=\"tdhistory985027\">1</td><td class=\"tdhistory985027\">65</td><td class=\"tdhistory985027\">0.7803667</td><td class=\"tdhistory985027\">-0.27816462545128795</td><td class=\"tdhistory985027\">a</td></tr><tr><th class=\"tdhistory985027\" style= \"background: rgba(243, 243, 243, 0.75)\">22</th><td class=\"tdhistory985027\">62</td><td class=\"tdhistory985027\">0</td><td class=\"tdhistory985027\">79</td><td class=\"tdhistory985027\">0.0680527</td><td class=\"tdhistory985027\">-1.8458946020700595</td><td class=\"tdhistory985027\">a</td></tr><tr><th class=\"tdhistory985027\" style= \"background: rgba(243, 243, 243, 0.75)\">23</th><td class=\"tdhistory985027\">26</td><td class=\"tdhistory985027\">1</td><td class=\"tdhistory985027\">53</td><td class=\"tdhistory985027\">0.3170842</td><td class=\"tdhistory985027\">-1.0140118328532206</td><td class=\"tdhistory985027\">a</td></tr><tr><th class=\"tdhistory985027\" style= \"background: rgba(243, 243, 243, 0.75)\">24</th><td class=\"tdhistory985027\">30</td><td class=\"tdhistory985027\">1</td><td class=\"tdhistory985027\">85</td><td class=\"tdhistory985027\">0.5974937</td><td class=\"tdhistory985027\">-0.53344455607459</td><td class=\"tdhistory985027\">a</td></tr><tr><th class=\"tdhistory985027\" style= \"background: rgba(243, 243, 243, 0.75)\">25</th><td class=\"tdhistory985027\">36</td><td class=\"tdhistory985027\">0</td><td class=\"tdhistory985027\">94</td><td class=\"tdhistory985027\">0.3599277</td><td class=\"tdhistory985027\">0.9189635642254149</td><td class=\"tdhistory985027\">a</td></tr><tr><th class=\"tdhistory985027\" style= \"background: rgba(243, 243, 243, 0.75)\">26</th><td class=\"tdhistory985027\">48</td><td class=\"tdhistory985027\">1</td><td class=\"tdhistory985027\">92</td><td class=\"tdhistory985027\">0.0008762</td><td class=\"tdhistory985027\">-3.4370876087795286</td><td class=\"tdhistory985027\">n</td></tr><tr><th class=\"tdhistory985027\" style= \"background: rgba(243, 243, 243, 0.75)\">27</th><td class=\"tdhistory985027\">24</td><td class=\"tdhistory985027\">0</td><td class=\"tdhistory985027\">64</td><td class=\"tdhistory985027\">0.654231</td><td class=\"tdhistory985027\">0.4494421380277679</td><td class=\"tdhistory985027\">a</td></tr><tr><th class=\"tdhistory985027\" style= \"background: rgba(243, 243, 243, 0.75)\">28</th><td class=\"tdhistory985027\">57</td><td class=\"tdhistory985027\">0</td><td class=\"tdhistory985027\">106</td><td class=\"tdhistory985027\">0.0109467</td><td class=\"tdhistory985027\">-2.5913883798643633</td><td class=\"tdhistory985027\">n</td></tr><tr><th class=\"tdhistory985027\" style= \"background: rgba(243, 243, 243, 0.75)\">29</th><td class=\"tdhistory985027\">85</td><td class=\"tdhistory985027\">1</td><td class=\"tdhistory985027\">18</td><td class=\"tdhistory985027\">0.4807706</td><td class=\"tdhistory985027\">-0.715463172636989</td><td class=\"tdhistory985027\">a</td></tr><tr><th class=\"tdhistory985027\" style= \"background: rgba(243, 243, 243, 0.75)\">30</th><td class=\"tdhistory985027\">36</td><td class=\"tdhistory985027\">1</td><td class=\"tdhistory985027\">100</td><td class=\"tdhistory985027\">0.0025139</td><td class=\"tdhistory985027\">-3.10101029514416</td><td class=\"tdhistory985027\">n</td></tr><tr><th class=\"tdhistory985027\" style= \"background: rgba(243, 243, 243, 0.75)\">31</th><td class=\"tdhistory985027\">77</td><td class=\"tdhistory985027\">0</td><td class=\"tdhistory985027\">7</td><td class=\"tdhistory985027\">0.2252156</td><td class=\"tdhistory985027\">1.3272042858038389</td><td class=\"tdhistory985027\">a</td></tr><tr><th class=\"tdhistory985027\" style= \"background: rgba(243, 243, 243, 0.75)\">32</th><td class=\"tdhistory985027\">76</td><td class=\"tdhistory985027\">1</td><td class=\"tdhistory985027\">24</td><td class=\"tdhistory985027\">0.7818767</td><td class=\"tdhistory985027\">0.2757542705961492</td><td class=\"tdhistory985027\">a</td></tr><tr><th class=\"tdhistory985027\" style= \"background: rgba(243, 243, 243, 0.75)\">33</th><td class=\"tdhistory985027\">72</td><td class=\"tdhistory985027\">1</td><td class=\"tdhistory985027\">28</td><td class=\"tdhistory985027\">0.2042013</td><td class=\"tdhistory985027\">-1.2957723582343272</td><td class=\"tdhistory985027\">a</td></tr><tr><th class=\"tdhistory985027\" style= \"background: rgba(243, 243, 243, 0.75)\">34</th><td class=\"tdhistory985027\">93</td><td class=\"tdhistory985027\">1</td><td class=\"tdhistory985027\">7</td><td class=\"tdhistory985027\">0.0856193</td><td class=\"tdhistory985027\">2.00449476653439</td><td class=\"tdhistory985027\">a</td></tr><tr><th class=\"tdhistory985027\" style= \"background: rgba(243, 243, 243, 0.75)\">35</th><td class=\"tdhistory985027\">64</td><td class=\"tdhistory985027\">1</td><td class=\"tdhistory985027\">46</td><td class=\"tdhistory985027\">0.0063499</td><td class=\"tdhistory985027\">-2.8563487358795143</td><td class=\"tdhistory985027\">n</td></tr><tr><th class=\"tdhistory985027\" style= \"background: rgba(243, 243, 243, 0.75)\">36</th><td class=\"tdhistory985027\">50</td><td class=\"tdhistory985027\">1</td><td class=\"tdhistory985027\">107</td><td class=\"tdhistory985027\">0.0016447</td><td class=\"tdhistory985027\">-3.2344818472272943</td><td class=\"tdhistory985027\">n</td></tr><tr><th class=\"tdhistory985027\" style= \"background: rgba(243, 243, 243, 0.75)\">37</th><td class=\"tdhistory985027\">47</td><td class=\"tdhistory985027\">0</td><td class=\"tdhistory985027\">54</td><td class=\"tdhistory985027\">0.0053865</td><td class=\"tdhistory985027\">-2.9000459446649285</td><td class=\"tdhistory985027\">n</td></tr><tr><th class=\"tdhistory985027\" style= \"background: rgba(243, 243, 243, 0.75)\">38</th><td class=\"tdhistory985027\">89</td><td class=\"tdhistory985027\">1</td><td class=\"tdhistory985027\">15</td><td class=\"tdhistory985027\">0.0142988</td><td class=\"tdhistory985027\">2.7683360374460215</td><td class=\"tdhistory985027\">p</td></tr><tr><th class=\"tdhistory985027\" style= \"background: rgba(243, 243, 243, 0.75)\">39</th><td class=\"tdhistory985027\">72</td><td class=\"tdhistory985027\">0</td><td class=\"tdhistory985027\">20</td><td class=\"tdhistory985027\">0.9921204</td><td class=\"tdhistory985027\">-0.00763555929406991</td><td class=\"tdhistory985027\">a</td></tr><tr><th class=\"tdhistory985027\" style= \"background: rgba(243, 243, 243, 0.75)\">40</th><td class=\"tdhistory985027\">38</td><td class=\"tdhistory985027\">0</td><td class=\"tdhistory985027\">72</td><td class=\"tdhistory985027\">0.449736</td><td class=\"tdhistory985027\">-0.7618334417633449</td><td class=\"tdhistory985027\">a</td></tr><tr><th class=\"tdhistory985027\" style= \"background: rgba(243, 243, 243, 0.75)\">41</th><td class=\"tdhistory985027\">48</td><td class=\"tdhistory985027\">0</td><td class=\"tdhistory985027\">72</td><td class=\"tdhistory985027\">0.0019244</td><td class=\"tdhistory985027\">-3.222939229651588</td><td class=\"tdhistory985027\">n</td></tr><tr><th class=\"tdhistory985027\" style= \"background: rgba(243, 243, 243, 0.75)\">42</th><td class=\"tdhistory985027\">76</td><td class=\"tdhistory985027\">0</td><td class=\"tdhistory985027\">16</td><td class=\"tdhistory985027\">0.2834034</td><td class=\"tdhistory985027\">1.1137590628201983</td><td class=\"tdhistory985027\">a</td></tr><tr><th class=\"tdhistory985027\" style= \"background: rgba(243, 243, 243, 0.75)\">43</th><td class=\"tdhistory985027\">26</td><td class=\"tdhistory985027\">0</td><td class=\"tdhistory985027\">39</td><td class=\"tdhistory985027\">0.002657</td><td class=\"tdhistory985027\">-3.2075616900465023</td><td class=\"tdhistory985027\">n</td></tr><tr><th class=\"tdhistory985027\" style= \"background: rgba(243, 243, 243, 0.75)\">44</th><td class=\"tdhistory985027\">66</td><td class=\"tdhistory985027\">1</td><td class=\"tdhistory985027\">78</td><td class=\"tdhistory985027\">0.0004723</td><td class=\"tdhistory985027\">-3.6466911082426523</td><td class=\"tdhistory985027\">n</td></tr><tr><th class=\"tdhistory985027\" style= \"background: rgba(243, 243, 243, 0.75)\">45</th><td class=\"tdhistory985027\">53</td><td class=\"tdhistory985027\">0</td><td class=\"tdhistory985027\">79</td><td class=\"tdhistory985027\">0.0045597</td><td class=\"tdhistory985027\">-2.9247071997293714</td><td class=\"tdhistory985027\">n</td></tr><tr><th class=\"tdhistory985027\" style= \"background: rgba(243, 243, 243, 0.75)\">46</th><td class=\"tdhistory985027\">52</td><td class=\"tdhistory985027\">1</td><td class=\"tdhistory985027\">103</td><td class=\"tdhistory985027\">0.0657389</td><td class=\"tdhistory985027\">-1.8588907198839517</td><td class=\"tdhistory985027\">a</td></tr><tr><th class=\"tdhistory985027\" style= \"background: rgba(243, 243, 243, 0.75)\">47</th><td class=\"tdhistory985027\">73</td><td class=\"tdhistory985027\">0</td><td class=\"tdhistory985027\">28</td><td class=\"tdhistory985027\">0.3502408</td><td class=\"tdhistory985027\">0.9479074683140469</td><td class=\"tdhistory985027\">a</td></tr><tr><th class=\"tdhistory985027\" style= \"background: rgba(243, 243, 243, 0.75)\">48</th><td class=\"tdhistory985027\">42</td><td class=\"tdhistory985027\">1</td><td class=\"tdhistory985027\">117</td><td class=\"tdhistory985027\">0.00033</td><td class=\"tdhistory985027\">-3.7011249364844216</td><td class=\"tdhistory985027\">n</td></tr><tr><th class=\"tdhistory985027\" style= \"background: rgba(243, 243, 243, 0.75)\">49</th><td class=\"tdhistory985027\">71</td><td class=\"tdhistory985027\">1</td><td class=\"tdhistory985027\">62</td><td class=\"tdhistory985027\">0.0001833</td><td class=\"tdhistory985027\">-3.9795200511271416</td><td class=\"tdhistory985027\">n</td></tr><tr><th class=\"tdhistory985027\" style= \"background: rgba(243, 243, 243, 0.75)\">50</th><td class=\"tdhistory985027\">89</td><td class=\"tdhistory985027\">0</td><td class=\"tdhistory985027\">13</td><td class=\"tdhistory985027\">0.1763092</td><td class=\"tdhistory985027\">-1.4332867450865145</td><td class=\"tdhistory985027\">a</td></tr><tr><th class=\"tdhistory985027\" style= \"background: rgba(243, 243, 243, 0.75)\">51</th><td class=\"tdhistory985027\">33</td><td class=\"tdhistory985027\">0</td><td class=\"tdhistory985027\">79</td><td class=\"tdhistory985027\">0.0511857</td><td class=\"tdhistory985027\">-1.9785619285502432</td><td class=\"tdhistory985027\">a</td></tr><tr><th class=\"tdhistory985027\" style= \"background: rgba(243, 243, 243, 0.75)\">52</th><td class=\"tdhistory985027\">88</td><td class=\"tdhistory985027\">0</td><td class=\"tdhistory985027\">16</td><td class=\"tdhistory985027\">0.015772</td><td class=\"tdhistory985027\">-2.704698849315726</td><td class=\"tdhistory985027\">n</td></tr><tr><th class=\"tdhistory985027\" style= \"background: rgba(243, 243, 243, 0.75)\">53</th><td class=\"tdhistory985027\">58</td><td class=\"tdhistory985027\">0</td><td class=\"tdhistory985027\">93</td><td class=\"tdhistory985027\">0.0541878</td><td class=\"tdhistory985027\">-1.9456766189714712</td><td class=\"tdhistory985027\">a</td></tr><tr><th class=\"tdhistory985027\" style= \"background: rgba(243, 243, 243, 0.75)\">54</th><td class=\"tdhistory985027\">43</td><td class=\"tdhistory985027\">1</td><td class=\"tdhistory985027\">105</td><td class=\"tdhistory985027\">0.0020615</td><td class=\"tdhistory985027\">-3.159282179610348</td><td class=\"tdhistory985027\">n</td></tr><tr><th class=\"tdhistory985027\" style= \"background: rgba(243, 243, 243, 0.75)\">55</th><td class=\"tdhistory985027\">14</td><td class=\"tdhistory985027\">1</td><td class=\"tdhistory985027\">51</td><td class=\"tdhistory985027\">0.0005456</td><td class=\"tdhistory985027\">3.6931882629121917</td><td class=\"tdhistory985027\">p</td></tr><tr><th class=\"tdhistory985027\" style= \"background: rgba(243, 243, 243, 0.75)\">56</th><td class=\"tdhistory985027\">91</td><td class=\"tdhistory985027\">1</td><td class=\"tdhistory985027\">5</td><td class=\"tdhistory985027\">0.1939037</td><td class=\"tdhistory985027\">1.498396239698223</td><td class=\"tdhistory985027\">a</td></tr><tr><th class=\"tdhistory985027\" style= \"background: rgba(243, 243, 243, 0.75)\">57</th><td class=\"tdhistory985027\">25</td><td class=\"tdhistory985027\">0</td><td class=\"tdhistory985027\">32</td><td class=\"tdhistory985027\">0.3854205</td><td class=\"tdhistory985027\">-0.879998580752869</td><td class=\"tdhistory985027\">a</td></tr><tr><th class=\"tdhistory985027\" style= \"background: rgba(243, 243, 243, 0.75)\">58</th><td class=\"tdhistory985027\">23</td><td class=\"tdhistory985027\">0</td><td class=\"tdhistory985027\">69</td><td class=\"tdhistory985027\">0.0116994</td><td class=\"tdhistory985027\">-2.590484787457626</td><td class=\"tdhistory985027\">n</td></tr><tr><th class=\"tdhistory985027\" style= \"background: rgba(243, 243, 243, 0.75)\">59</th><td class=\"tdhistory985027\">44</td><td class=\"tdhistory985027\">1</td><td class=\"tdhistory985027\">90</td><td class=\"tdhistory985027\">0.0003708</td><td class=\"tdhistory985027\">-3.703333140510914</td><td class=\"tdhistory985027\">n</td></tr><tr><th class=\"tdhistory985027\" style= \"background: rgba(243, 243, 243, 0.75)\">60</th><td class=\"tdhistory985027\">86</td><td class=\"tdhistory985027\">0</td><td class=\"tdhistory985027\">15</td><td class=\"tdhistory985027\">0.0164588</td><td class=\"tdhistory985027\">-2.6984705704142558</td><td class=\"tdhistory985027\">n</td></tr><tr><th class=\"tdhistory985027\" style= \"background: rgba(243, 243, 243, 0.75)\">61</th><td class=\"tdhistory985027\">70</td><td class=\"tdhistory985027\">0</td><td class=\"tdhistory985027\">45</td><td class=\"tdhistory985027\">0.5189969</td><td class=\"tdhistory985027\">-0.6513020306745494</td><td class=\"tdhistory985027\">a</td></tr><tr><th class=\"tdhistory985027\" style= \"background: rgba(243, 243, 243, 0.75)\">62</th><td class=\"tdhistory985027\">67</td><td class=\"tdhistory985027\">0</td><td class=\"tdhistory985027\">46</td><td class=\"tdhistory985027\">0.0328687</td><td class=\"tdhistory985027\">-2.198412250198925</td><td class=\"tdhistory985027\">n</td></tr><tr><th class=\"tdhistory985027\" style= \"background: rgba(243, 243, 243, 0.75)\">63</th><td class=\"tdhistory985027\">56</td><td class=\"tdhistory985027\">1</td><td class=\"tdhistory985027\">100</td><td class=\"tdhistory985027\">0.4732045</td><td class=\"tdhistory985027\">0.7175552279050323</td><td class=\"tdhistory985027\">a</td></tr><tr><th class=\"tdhistory985027\" style= \"background: rgba(243, 243, 243, 0.75)\">64</th><td class=\"tdhistory985027\">14</td><td class=\"tdhistory985027\">0</td><td class=\"tdhistory985027\">57</td><td class=\"tdhistory985027\">0.0112496</td><td class=\"tdhistory985027\">2.6246422071530566</td><td class=\"tdhistory985027\">p</td></tr><tr><th class=\"tdhistory985027\" style= \"background: rgba(243, 243, 243, 0.75)\">65</th><td class=\"tdhistory985027\">79</td><td class=\"tdhistory985027\">0</td><td class=\"tdhistory985027\">20</td><td class=\"tdhistory985027\">0.4798555</td><td class=\"tdhistory985027\">-0.721590349507282</td><td class=\"tdhistory985027\">a</td></tr><tr><th class=\"tdhistory985027\" style= \"background: rgba(243, 243, 243, 0.75)\">66</th><td class=\"tdhistory985027\">92</td><td class=\"tdhistory985027\">0</td><td class=\"tdhistory985027\">3</td><td class=\"tdhistory985027\">0.0260825</td><td class=\"tdhistory985027\">-4.1093444064195035</td><td class=\"tdhistory985027\">n</td></tr><tr><th class=\"tdhistory985027\" style= \"background: rgba(243, 243, 243, 0.75)\">67</th><td class=\"tdhistory985027\">40</td><td class=\"tdhistory985027\">0</td><td class=\"tdhistory985027\">93</td><td class=\"tdhistory985027\">0.0102693</td><td class=\"tdhistory985027\">-2.6213267496702675</td><td class=\"tdhistory985027\">n</td></tr><tr><th class=\"tdhistory985027\" style= \"background: rgba(243, 243, 243, 0.75)\">68</th><td class=\"tdhistory985027\">32</td><td class=\"tdhistory985027\">1</td><td class=\"tdhistory985027\">90</td><td class=\"tdhistory985027\">0.24509</td><td class=\"tdhistory985027\">-1.1709752915228595</td><td class=\"tdhistory985027\">a</td></tr><tr><th class=\"tdhistory985027\" style= \"background: rgba(243, 243, 243, 0.75)\">69</th><td class=\"tdhistory985027\">35</td><td class=\"tdhistory985027\">1</td><td class=\"tdhistory985027\">107</td><td class=\"tdhistory985027\">0.9047082</td><td class=\"tdhistory985027\">0.11921172925079085</td><td class=\"tdhistory985027\">a</td></tr><tr><th class=\"tdhistory985027\" style= \"background: rgba(243, 243, 243, 0.75)\">70</th><td class=\"tdhistory985027\">62</td><td class=\"tdhistory985027\">1</td><td class=\"tdhistory985027\">70</td><td class=\"tdhistory985027\">0.0745882</td><td class=\"tdhistory985027\">-1.813453870336688</td><td class=\"tdhistory985027\">a</td></tr><tr><th class=\"tdhistory985027\" style= \"background: rgba(243, 243, 243, 0.75)\">71</th><td class=\"tdhistory985027\">65</td><td class=\"tdhistory985027\">1</td><td class=\"tdhistory985027\">72</td><td class=\"tdhistory985027\">0.0365898</td><td class=\"tdhistory985027\">-2.13109044369817</td><td class=\"tdhistory985027\">n</td></tr><tr><th class=\"tdhistory985027\" style= \"background: rgba(243, 243, 243, 0.75)\">72</th><td class=\"tdhistory985027\">25</td><td class=\"tdhistory985027\">1</td><td class=\"tdhistory985027\">41</td><td class=\"tdhistory985027\">0.0948247</td><td class=\"tdhistory985027\">-1.71158062097157</td><td class=\"tdhistory985027\">a</td></tr><tr><th class=\"tdhistory985027\" style= \"background: rgba(243, 243, 243, 0.75)\">73</th><td class=\"tdhistory985027\">39</td><td class=\"tdhistory985027\">1</td><td class=\"tdhistory985027\">94</td><td class=\"tdhistory985027\">0.0037795</td><td class=\"tdhistory985027\">-2.9667186633594596</td><td class=\"tdhistory985027\">n</td></tr><tr><th class=\"tdhistory985027\" style= \"background: rgba(243, 243, 243, 0.75)\">74</th><td class=\"tdhistory985027\">65</td><td class=\"tdhistory985027\">0</td><td class=\"tdhistory985027\">56</td><td class=\"tdhistory985027\">0.0667144</td><td class=\"tdhistory985027\">-1.870800636670386</td><td class=\"tdhistory985027\">a</td></tr><tr><th class=\"tdhistory985027\" style= \"background: rgba(243, 243, 243, 0.75)\">75</th><td class=\"tdhistory985027\">27</td><td class=\"tdhistory985027\">1</td><td class=\"tdhistory985027\">69</td><td class=\"tdhistory985027\">0.0431725</td><td class=\"tdhistory985027\">-2.0565155933859423</td><td class=\"tdhistory985027\">n</td></tr><tr><th class=\"tdhistory985027\" style= \"background: rgba(243, 243, 243, 0.75)\">76</th><td class=\"tdhistory985027\">46</td><td class=\"tdhistory985027\">1</td><td class=\"tdhistory985027\">113</td><td class=\"tdhistory985027\">0.0011735</td><td class=\"tdhistory985027\">-3.327682594495235</td><td class=\"tdhistory985027\">n</td></tr><tr><th class=\"tdhistory985027\" style= \"background: rgba(243, 243, 243, 0.75)\">77</th><td class=\"tdhistory985027\">39</td><td class=\"tdhistory985027\">0</td><td class=\"tdhistory985027\">73</td><td class=\"tdhistory985027\">0.0915134</td><td class=\"tdhistory985027\">-1.7050522939133508</td><td class=\"tdhistory985027\">a</td></tr><tr><th class=\"tdhistory985027\" style= \"background: rgba(243, 243, 243, 0.75)\">78</th><td class=\"tdhistory985027\">79</td><td class=\"tdhistory985027\">1</td><td class=\"tdhistory985027\">34</td><td class=\"tdhistory985027\">0.1144719</td><td class=\"tdhistory985027\">-1.6237812480962597</td><td class=\"tdhistory985027\">a</td></tr><tr><th class=\"tdhistory985027\" style= \"background: rgba(243, 243, 243, 0.75)\">79</th><td class=\"tdhistory985027\">9</td><td class=\"tdhistory985027\">1</td><td class=\"tdhistory985027\">7</td><td class=\"tdhistory985027\">0.0011862</td><td class=\"tdhistory985027\">5.246179206391678</td><td class=\"tdhistory985027\">p</td></tr><tr><th class=\"tdhistory985027\" style= \"background: rgba(243, 243, 243, 0.75)\">80</th><td class=\"tdhistory985027\">31</td><td class=\"tdhistory985027\">1</td><td class=\"tdhistory985027\">88</td><td class=\"tdhistory985027\">0.6183231</td><td class=\"tdhistory985027\">-0.5021525435049807</td><td class=\"tdhistory985027\">a</td></tr><tr><th class=\"tdhistory985027\" style= \"background: rgba(243, 243, 243, 0.75)\">81</th><td class=\"tdhistory985027\">75</td><td class=\"tdhistory985027\">1</td><td class=\"tdhistory985027\">33</td><td class=\"tdhistory985027\">0.1959187</td><td class=\"tdhistory985027\">1.315635133067727</td><td class=\"tdhistory985027\">a</td></tr><tr><th class=\"tdhistory985027\" style= \"background: rgba(243, 243, 243, 0.75)\">82</th><td class=\"tdhistory985027\">33</td><td class=\"tdhistory985027\">1</td><td class=\"tdhistory985027\">93</td><td class=\"tdhistory985027\">0.0402766</td><td class=\"tdhistory985027\">-2.078263092455552</td><td class=\"tdhistory985027\">n</td></tr><tr><th class=\"tdhistory985027\" style= \"background: rgba(243, 243, 243, 0.75)\">83</th><td class=\"tdhistory985027\">18</td><td class=\"tdhistory985027\">0</td><td class=\"tdhistory985027\">113</td><td class=\"tdhistory985027\">0.1101879</td><td class=\"tdhistory985027\">1.60879009923987</td><td class=\"tdhistory985027\">a</td></tr><tr><th class=\"tdhistory985027\" style= \"background: rgba(243, 243, 243, 0.75)\">84</th><td class=\"tdhistory985027\">31</td><td class=\"tdhistory985027\">0</td><td class=\"tdhistory985027\">71</td><td class=\"tdhistory985027\">0.0107457</td><td class=\"tdhistory985027\">-2.6194798084884576</td><td class=\"tdhistory985027\">n</td></tr><tr><th class=\"tdhistory985027\" style= \"background: rgba(243, 243, 243, 0.75)\">85</th><td class=\"tdhistory985027\">15</td><td class=\"tdhistory985027\">0</td><td class=\"tdhistory985027\">86</td><td class=\"tdhistory985027\">0.0002188</td><td class=\"tdhistory985027\">3.864249582931809</td><td class=\"tdhistory985027\">p</td></tr><tr><th class=\"tdhistory985027\" style= \"background: rgba(243, 243, 243, 0.75)\">86</th><td class=\"tdhistory985027\">9</td><td class=\"tdhistory985027\">0</td><td class=\"tdhistory985027\">6</td><td class=\"tdhistory985027\">0.0663471</td><td class=\"tdhistory985027\">2.240383083370425</td><td class=\"tdhistory985027\">a</td></tr><tr><th class=\"tdhistory985027\" style= \"background: rgba(243, 243, 243, 0.75)\">87</th><td class=\"tdhistory985027\">68</td><td class=\"tdhistory985027\">0</td><td class=\"tdhistory985027\">41</td><td class=\"tdhistory985027\">0.0075597</td><td class=\"tdhistory985027\">-2.8132333558681175</td><td class=\"tdhistory985027\">n</td></tr><tr><th class=\"tdhistory985027\" style= \"background: rgba(243, 243, 243, 0.75)\">88</th><td class=\"tdhistory985027\">78</td><td class=\"tdhistory985027\">0</td><td class=\"tdhistory985027\">22</td><td class=\"tdhistory985027\">0.1696243</td><td class=\"tdhistory985027\">1.4246952271401183</td><td class=\"tdhistory985027\">a</td></tr><tr><th class=\"tdhistory985027\" style= \"background: rgba(243, 243, 243, 0.75)\">89</th><td class=\"tdhistory985027\">61</td><td class=\"tdhistory985027\">0</td><td class=\"tdhistory985027\">54</td><td class=\"tdhistory985027\">0.1420424</td><td class=\"tdhistory985027\">-1.4880552669395877</td><td class=\"tdhistory985027\">a</td></tr><tr><th class=\"tdhistory985027\" style= \"background: rgba(243, 243, 243, 0.75)\">90</th><td class=\"tdhistory985027\">83</td><td class=\"tdhistory985027\">1</td><td class=\"tdhistory985027\">19</td><td class=\"tdhistory985027\">0.1217113</td><td class=\"tdhistory985027\">-1.6174953200682671</td><td class=\"tdhistory985027\">a</td></tr><tr><th class=\"tdhistory985027\" style= \"background: rgba(243, 243, 243, 0.75)\">91</th><td class=\"tdhistory985027\">13</td><td class=\"tdhistory985027\">0</td><td class=\"tdhistory985027\">27</td><td class=\"tdhistory985027\">0.0156412</td><td class=\"tdhistory985027\">2.5810498299970583</td><td class=\"tdhistory985027\">p</td></tr><tr><th class=\"tdhistory985027\" style= \"background: rgba(243, 243, 243, 0.75)\">92</th><td class=\"tdhistory985027\">50</td><td class=\"tdhistory985027\">0</td><td class=\"tdhistory985027\">49</td><td class=\"tdhistory985027\">0.0006558</td><td class=\"tdhistory985027\">-3.6409383276073912</td><td class=\"tdhistory985027\">n</td></tr><tr><th class=\"tdhistory985027\" style= \"background: rgba(243, 243, 243, 0.75)\">93</th><td class=\"tdhistory985027\">73</td><td class=\"tdhistory985027\">1</td><td class=\"tdhistory985027\">33</td><td class=\"tdhistory985027\">0.0086889</td><td class=\"tdhistory985027\">-2.7896935842911224</td><td class=\"tdhistory985027\">n</td></tr><tr><th class=\"tdhistory985027\" style= \"background: rgba(243, 243, 243, 0.75)\">94</th><td class=\"tdhistory985027\">80</td><td class=\"tdhistory985027\">0</td><td class=\"tdhistory985027\">21</td><td class=\"tdhistory985027\">0.415875</td><td class=\"tdhistory985027\">0.8330076821034003</td><td class=\"tdhistory985027\">a</td></tr><tr><th class=\"tdhistory985027\" style= \"background: rgba(243, 243, 243, 0.75)\">95</th><td class=\"tdhistory985027\">12</td><td class=\"tdhistory985027\">0</td><td class=\"tdhistory985027\">8</td><td class=\"tdhistory985027\">0.2833584</td><td class=\"tdhistory985027\">-1.1492921641212326</td><td class=\"tdhistory985027\">a</td></tr><tr><th class=\"tdhistory985027\" style= \"background: rgba(243, 243, 243, 0.75)\">96</th><td class=\"tdhistory985027\">28</td><td class=\"tdhistory985027\">0</td><td class=\"tdhistory985027\">43</td><td class=\"tdhistory985027\">0.01982</td><td class=\"tdhistory985027\">-2.4238092425595226</td><td class=\"tdhistory985027\">n</td></tr><tr><th class=\"tdhistory985027\" style= \"background: rgba(243, 243, 243, 0.75)\">97</th><td class=\"tdhistory985027\">17</td><td class=\"tdhistory985027\">0</td><td class=\"tdhistory985027\">85</td><td class=\"tdhistory985027\">0.0125657</td><td class=\"tdhistory985027\">2.5468209355925406</td><td class=\"tdhistory985027\">p</td></tr><tr><th class=\"tdhistory985027\" style= \"background: rgba(243, 243, 243, 0.75)\">98</th><td class=\"tdhistory985027\">69</td><td class=\"tdhistory985027\">0</td><td class=\"tdhistory985027\">62</td><td class=\"tdhistory985027\">0.7727839</td><td class=\"tdhistory985027\">0.28651538577973673</td><td class=\"tdhistory985027\">a</td></tr><tr><th class=\"tdhistory985027\" style= \"background: rgba(243, 243, 243, 0.75)\">99</th><td class=\"tdhistory985027\">34</td><td class=\"tdhistory985027\">0</td><td class=\"tdhistory985027\">76</td><td class=\"tdhistory985027\">0.4204692</td><td class=\"tdhistory985027\">0.811250825489578</td><td class=\"tdhistory985027\">a</td></tr><tr><th class=\"tdhistory985027\" style= \"background: rgba(243, 243, 243, 0.75)\">100</th><td class=\"tdhistory985027\">56</td><td class=\"tdhistory985027\">0</td><td class=\"tdhistory985027\">79</td><td class=\"tdhistory985027\">0.1135904</td><td class=\"tdhistory985027\">-1.6016397040542534</td><td class=\"tdhistory985027\">a</td></tr><tr><th class=\"tdhistory985027\" style= \"background: rgba(243, 243, 243, 0.75)\">101</th><td class=\"tdhistory985027\">90</td><td class=\"tdhistory985027\">0</td><td class=\"tdhistory985027\">6</td><td class=\"tdhistory985027\">0.3559177</td><td class=\"tdhistory985027\">-0.9999999999999999</td><td class=\"tdhistory985027\">a</td></tr><tr><th class=\"tdhistory985027\" style= \"background: rgba(243, 243, 243, 0.75)\">102</th><td class=\"tdhistory985027\">69</td><td class=\"tdhistory985027\">1</td><td class=\"tdhistory985027\">47</td><td class=\"tdhistory985027\">0.0009419</td><td class=\"tdhistory985027\">-3.5274152408618327</td><td class=\"tdhistory985027\">n</td></tr><tr><th class=\"tdhistory985027\" style= \"background: rgba(243, 243, 243, 0.75)\">103</th><td class=\"tdhistory985027\">19</td><td class=\"tdhistory985027\">0</td><td class=\"tdhistory985027\">113</td><td class=\"tdhistory985027\">0.0626833</td><td class=\"tdhistory985027\">1.8819296530525789</td><td class=\"tdhistory985027\">a</td></tr><tr><th class=\"tdhistory985027\" style= \"background: rgba(243, 243, 243, 0.75)\">104</th><td class=\"tdhistory985027\">40</td><td class=\"tdhistory985027\">1</td><td class=\"tdhistory985027\">97</td><td class=\"tdhistory985027\">0.0287475</td><td class=\"tdhistory985027\">-2.220837961070849</td><td class=\"tdhistory985027\">n</td></tr><tr><th class=\"tdhistory985027\" style= \"background: rgba(243, 243, 243, 0.75)\">105</th><td class=\"tdhistory985027\">84</td><td class=\"tdhistory985027\">0</td><td class=\"tdhistory985027\">31</td><td class=\"tdhistory985027\">0.0006176</td><td class=\"tdhistory985027\">-3.8114042051957284</td><td class=\"tdhistory985027\">n</td></tr><tr><th class=\"tdhistory985027\" style= \"background: rgba(243, 243, 243, 0.75)\">106</th><td class=\"tdhistory985027\">22</td><td class=\"tdhistory985027\">0</td><td class=\"tdhistory985027\">57</td><td class=\"tdhistory985027\">0.7127537</td><td class=\"tdhistory985027\">-0.37155226198840857</td><td class=\"tdhistory985027\">a</td></tr><tr><th class=\"tdhistory985027\" style= \"background: rgba(243, 243, 243, 0.75)\">107</th><td class=\"tdhistory985027\">16</td><td class=\"tdhistory985027\">1</td><td class=\"tdhistory985027\">107</td><td class=\"tdhistory985027\">0</td><td class=\"tdhistory985027\">4.639713849368194</td><td class=\"tdhistory985027\">p</td></tr><tr><th class=\"tdhistory985027\" style= \"background: rgba(243, 243, 243, 0.75)\">108</th><td class=\"tdhistory985027\">29</td><td class=\"tdhistory985027\">0</td><td class=\"tdhistory985027\">51</td><td class=\"tdhistory985027\">0.462693</td><td class=\"tdhistory985027\">-0.7355089630973273</td><td class=\"tdhistory985027\">a</td></tr><tr><th class=\"tdhistory985027\" style= \"background: rgba(243, 243, 243, 0.75)\">109</th><td class=\"tdhistory985027\">66</td><td class=\"tdhistory985027\">0</td><td class=\"tdhistory985027\">46</td><td class=\"tdhistory985027\">0.0032988</td><td class=\"tdhistory985027\">-3.0959576683400245</td><td class=\"tdhistory985027\">n</td></tr><tr><th class=\"tdhistory985027\" style= \"background: rgba(243, 243, 243, 0.75)\">110</th><td class=\"tdhistory985027\">64</td><td class=\"tdhistory985027\">0</td><td class=\"tdhistory985027\">58</td><td class=\"tdhistory985027\">0.0182145</td><td class=\"tdhistory985027\">-2.426959140037223</td><td class=\"tdhistory985027\">n</td></tr><tr><th class=\"tdhistory985027\" style= \"background: rgba(243, 243, 243, 0.75)\">111</th><td class=\"tdhistory985027\">23</td><td class=\"tdhistory985027\">1</td><td class=\"tdhistory985027\">72</td><td class=\"tdhistory985027\">0</td><td class=\"tdhistory985027\">-4.807836962330954</td><td class=\"tdhistory985027\">n</td></tr><tr><th class=\"tdhistory985027\" style= \"background: rgba(243, 243, 243, 0.75)\">112</th><td class=\"tdhistory985027\">87</td><td class=\"tdhistory985027\">0</td><td class=\"tdhistory985027\">21</td><td class=\"tdhistory985027\">0.1384942</td><td class=\"tdhistory985027\">-1.5419105988818673</td><td class=\"tdhistory985027\">a</td></tr><tr><th class=\"tdhistory985027\" style= \"background: rgba(243, 243, 243, 0.75)\">113</th><td class=\"tdhistory985027\">80</td><td class=\"tdhistory985027\">1</td><td class=\"tdhistory985027\">27</td><td class=\"tdhistory985027\">0.0461684</td><td class=\"tdhistory985027\">-2.091977548190066</td><td class=\"tdhistory985027\">n</td></tr><tr><th class=\"tdhistory985027\" style= \"background: rgba(243, 243, 243, 0.75)\">114</th><td class=\"tdhistory985027\">78</td><td class=\"tdhistory985027\">1</td><td class=\"tdhistory985027\">29</td><td class=\"tdhistory985027\">0.0049756</td><td class=\"tdhistory985027\">-3.042291228131736</td><td class=\"tdhistory985027\">n</td></tr><tr><th class=\"tdhistory985027\" style= \"background: rgba(243, 243, 243, 0.75)\">115</th><td class=\"tdhistory985027\">20</td><td class=\"tdhistory985027\">1</td><td class=\"tdhistory985027\">144</td><td class=\"tdhistory985027\">0</td><td class=\"tdhistory985027\">5.253217061314352</td><td class=\"tdhistory985027\">p</td></tr><tr><th class=\"tdhistory985027\" style= \"background: rgba(243, 243, 243, 0.75)\">116</th><td class=\"tdhistory985027\">21</td><td class=\"tdhistory985027\">0</td><td class=\"tdhistory985027\">70</td><td class=\"tdhistory985027\">0.2265592</td><td class=\"tdhistory985027\">-1.2185733241114733</td><td class=\"tdhistory985027\">a</td></tr><tr><th class=\"tdhistory985027\" style= \"background: rgba(243, 243, 243, 0.75)\">117</th><td class=\"tdhistory985027\">37</td><td class=\"tdhistory985027\">1</td><td class=\"tdhistory985027\">91</td><td class=\"tdhistory985027\">0.0134787</td><td class=\"tdhistory985027\">-2.515855840770415</td><td class=\"tdhistory985027\">n</td></tr><tr><th class=\"tdhistory985027\" style= \"background: rgba(243, 243, 243, 0.75)\">118</th><td class=\"tdhistory985027\">86</td><td class=\"tdhistory985027\">1</td><td class=\"tdhistory985027\">7</td><td class=\"tdhistory985027\">0.1368472</td><td class=\"tdhistory985027\">-1.6810328952966416</td><td class=\"tdhistory985027\">a</td></tr><tr><th class=\"tdhistory985027\" style= \"background: rgba(243, 243, 243, 0.75)\">119</th><td class=\"tdhistory985027\">55</td><td class=\"tdhistory985027\">1</td><td class=\"tdhistory985027\">124</td><td class=\"tdhistory985027\">0</td><td class=\"tdhistory985027\">-4.127593377381934</td><td class=\"tdhistory985027\">n</td></tr><tr><th class=\"tdhistory985027\" style= \"background: rgba(243, 243, 243, 0.75)\">120</th><td class=\"tdhistory985027\">88</td><td class=\"tdhistory985027\">1</td><td class=\"tdhistory985027\">13</td><td class=\"tdhistory985027\">0.2368918</td><td class=\"tdhistory985027\">-1.2411936748771681</td><td class=\"tdhistory985027\">a</td></tr><tr><th class=\"tdhistory985027\" style= \"background: rgba(243, 243, 243, 0.75)\">121</th><td class=\"tdhistory985027\">59</td><td class=\"tdhistory985027\">1</td><td class=\"tdhistory985027\">81</td><td class=\"tdhistory985027\">0.6325211</td><td class=\"tdhistory985027\">-0.4799533198668135</td><td class=\"tdhistory985027\">a</td></tr><tr><th class=\"tdhistory985027\" style= \"background: rgba(243, 243, 243, 0.75)\">122</th><td class=\"tdhistory985027\">28</td><td class=\"tdhistory985027\">1</td><td class=\"tdhistory985027\">71</td><td class=\"tdhistory985027\">0.0366385</td><td class=\"tdhistory985027\">-2.129852920428456</td><td class=\"tdhistory985027\">n</td></tr><tr><th class=\"tdhistory985027\" style= \"background: rgba(243, 243, 243, 0.75)\">123</th><td class=\"tdhistory985027\">67</td><td class=\"tdhistory985027\">1</td><td class=\"tdhistory985027\">55</td><td class=\"tdhistory985027\">0</td><td class=\"tdhistory985027\">-4.404684295372502</td><td class=\"tdhistory985027\">n</td></tr><tr><th class=\"tdhistory985027\" style= \"background: rgba(243, 243, 243, 0.75)\">124</th><td class=\"tdhistory985027\">11</td><td class=\"tdhistory985027\">0</td><td class=\"tdhistory985027\">12</td><td class=\"tdhistory985027\">0.0335186</td><td class=\"tdhistory985027\">2.3986400290671694</td><td class=\"tdhistory985027\">p</td></tr><tr><th class=\"tdhistory985027\" style= \"background: rgba(243, 243, 243, 0.75)\">125</th><td class=\"tdhistory985027\">74</td><td class=\"tdhistory985027\">0</td><td class=\"tdhistory985027\">42</td><td class=\"tdhistory985027\">0.0728423</td><td class=\"tdhistory985027\">1.8431313461350431</td><td class=\"tdhistory985027\">a</td></tr><tr><th class=\"tdhistory985027\" style= \"background: rgba(243, 243, 243, 0.75)\">126</th><td class=\"tdhistory985027\">32</td><td class=\"tdhistory985027\">0</td><td class=\"tdhistory985027\">67</td><td class=\"tdhistory985027\">0.4094865</td><td class=\"tdhistory985027\">0.8253290126068601</td><td class=\"tdhistory985027\">a</td></tr><tr><th class=\"tdhistory985027\" style= \"background: rgba(243, 243, 243, 0.75)\">127</th><td class=\"tdhistory985027\">47</td><td class=\"tdhistory985027\">1</td><td class=\"tdhistory985027\">99</td><td class=\"tdhistory985027\">0</td><td class=\"tdhistory985027\">-4.731251829098891</td><td class=\"tdhistory985027\">n</td></tr><tr><th class=\"tdhistory985027\" style= \"background: rgba(243, 243, 243, 0.75)\">128</th><td class=\"tdhistory985027\">10</td><td class=\"tdhistory985027\">0</td><td class=\"tdhistory985027\">8</td><td class=\"tdhistory985027\">0.0363709</td><td class=\"tdhistory985027\">2.5117824050061412</td><td class=\"tdhistory985027\">p</td></tr><tr><th class=\"tdhistory985027\" style= \"background: rgba(243, 243, 243, 0.75)\">129</th><td class=\"tdhistory985027\">81</td><td class=\"tdhistory985027\">0</td><td class=\"tdhistory985027\">15</td><td class=\"tdhistory985027\">0.0205029</td><td class=\"tdhistory985027\">-2.589130468293594</td><td class=\"tdhistory985027\">n</td></tr><tr><th class=\"tdhistory985027\" style= \"background: rgba(243, 243, 243, 0.75)\">130</th><td class=\"tdhistory985027\">27</td><td class=\"tdhistory985027\">0</td><td class=\"tdhistory985027\">35</td><td class=\"tdhistory985027\">0.0218499</td><td class=\"tdhistory985027\">-2.398554722335631</td><td class=\"tdhistory985027\">n</td></tr><tr><th class=\"tdhistory985027\" style= \"background: rgba(243, 243, 243, 0.75)\">131</th><td class=\"tdhistory985027\">51</td><td class=\"tdhistory985027\">0</td><td class=\"tdhistory985027\">87</td><td class=\"tdhistory985027\">0</td><td class=\"tdhistory985027\">-4.661077166011303</td><td class=\"tdhistory985027\">n</td></tr><tr><th class=\"tdhistory985027\" style= \"background: rgba(243, 243, 243, 0.75)\">132</th><td class=\"tdhistory985027\">85</td><td class=\"tdhistory985027\">0</td><td class=\"tdhistory985027\">23</td><td class=\"tdhistory985027\">0.0647381</td><td class=\"tdhistory985027\">-1.939644842896574</td><td class=\"tdhistory985027\">a</td></tr><tr><th class=\"tdhistory985027\" style= \"background: rgba(243, 243, 243, 0.75)\">133</th><td class=\"tdhistory985027\">84</td><td class=\"tdhistory985027\">1</td><td class=\"tdhistory985027\">23</td><td class=\"tdhistory985027\">0.0116674</td><td class=\"tdhistory985027\">-2.741240236148122</td><td class=\"tdhistory985027\">n</td></tr><tr><th class=\"tdhistory985027\" style= \"background: rgba(243, 243, 243, 0.75)\">134</th><td class=\"tdhistory985027\">68</td><td class=\"tdhistory985027\">1</td><td class=\"tdhistory985027\">47</td><td class=\"tdhistory985027\">0.0002373</td><td class=\"tdhistory985027\">-3.9788328948124123</td><td class=\"tdhistory985027\">n</td></tr><tr><th class=\"tdhistory985027\" style= \"background: rgba(243, 243, 243, 0.75)\">135</th><td class=\"tdhistory985027\">12</td><td class=\"tdhistory985027\">1</td><td class=\"tdhistory985027\">9</td><td class=\"tdhistory985027\">0.0600366</td><td class=\"tdhistory985027\">-2.1451698881663877</td><td class=\"tdhistory985027\">a</td></tr><tr><th class=\"tdhistory985027\" style= \"background: rgba(243, 243, 243, 0.75)\">136</th><td class=\"tdhistory985027\">17</td><td class=\"tdhistory985027\">1</td><td class=\"tdhistory985027\">116</td><td class=\"tdhistory985027\">0.0117522</td><td class=\"tdhistory985027\">2.564886589417917</td><td class=\"tdhistory985027\">p</td></tr><tr><th class=\"tdhistory985027\" style= \"background: rgba(243, 243, 243, 0.75)\">137</th><td class=\"tdhistory985027\">49</td><td class=\"tdhistory985027\">0</td><td class=\"tdhistory985027\">73</td><td class=\"tdhistory985027\">0.0001023</td><td class=\"tdhistory985027\">-4.107857878130484</td><td class=\"tdhistory985027\">n</td></tr><tr><th class=\"tdhistory985027\" style= \"background: rgba(243, 243, 243, 0.75)\">138</th><td class=\"tdhistory985027\">22</td><td class=\"tdhistory985027\">1</td><td class=\"tdhistory985027\">88</td><td class=\"tdhistory985027\">0.1271486</td><td class=\"tdhistory985027\">-1.5419965213272224</td><td class=\"tdhistory985027\">a</td></tr><tr><th class=\"tdhistory985027\" style= \"background: rgba(243, 243, 243, 0.75)\">139</th><td class=\"tdhistory985027\">38</td><td class=\"tdhistory985027\">1</td><td class=\"tdhistory985027\">101</td><td class=\"tdhistory985027\">0.096048</td><td class=\"tdhistory985027\">-1.6753890959647324</td><td class=\"tdhistory985027\">a</td></tr><tr><th class=\"tdhistory985027\" style= \"background: rgba(243, 243, 243, 0.75)\">140</th><td class=\"tdhistory985027\">16</td><td class=\"tdhistory985027\">0</td><td class=\"tdhistory985027\">90</td><td class=\"tdhistory985027\">0.0029166</td><td class=\"tdhistory985027\">3.060064737034293</td><td class=\"tdhistory985027\">p</td></tr><tr><th class=\"tdhistory985027\" style= \"background: rgba(243, 243, 243, 0.75)\">141</th><td class=\"tdhistory985027\">52</td><td class=\"tdhistory985027\">0</td><td class=\"tdhistory985027\">57</td><td class=\"tdhistory985027\">0.1988335</td><td class=\"tdhistory985027\">-1.2986200226539708</td><td class=\"tdhistory985027\">a</td></tr><tr><th class=\"tdhistory985027\" style= \"background: rgba(243, 243, 243, 0.75)\">142</th><td class=\"tdhistory985027\">41</td><td class=\"tdhistory985027\">0</td><td class=\"tdhistory985027\">87</td><td class=\"tdhistory985027\">0.4673513</td><td class=\"tdhistory985027\">0.7284430080051986</td><td class=\"tdhistory985027\">a</td></tr><tr><th class=\"tdhistory985027\" style= \"background: rgba(243, 243, 243, 0.75)\">143</th><td class=\"tdhistory985027\">13</td><td class=\"tdhistory985027\">1</td><td class=\"tdhistory985027\">37</td><td class=\"tdhistory985027\">0.0091662</td><td class=\"tdhistory985027\">2.745763970817959</td><td class=\"tdhistory985027\">p</td></tr><tr><th class=\"tdhistory985027\" style= \"background: rgba(243, 243, 243, 0.75)\">144</th><td class=\"tdhistory985027\">63</td><td class=\"tdhistory985027\">1</td><td class=\"tdhistory985027\">58</td><td class=\"tdhistory985027\">0.0480107</td><td class=\"tdhistory985027\">-2.018813226758169</td><td class=\"tdhistory985027\">n</td></tr><tr><th class=\"tdhistory985027\" style= \"background: rgba(243, 243, 243, 0.75)\">145</th><td class=\"tdhistory985027\">35</td><td class=\"tdhistory985027\">0</td><td class=\"tdhistory985027\">83</td><td class=\"tdhistory985027\">0.0003375</td><td class=\"tdhistory985027\">-3.7394635368194225</td><td class=\"tdhistory985027\">n</td></tr><tr><th class=\"tdhistory985027\" style= \"background: rgba(243, 243, 243, 0.75)\">146</th><td class=\"tdhistory985027\">18</td><td class=\"tdhistory985027\">1</td><td class=\"tdhistory985027\">146</td><td class=\"tdhistory985027\">0</td><td class=\"tdhistory985027\">3.88007857184668</td><td class=\"tdhistory985027\">p</td></tr><tr><th class=\"tdhistory985027\" style= \"background: rgba(243, 243, 243, 0.75)\">147</th><td class=\"tdhistory985027\">82</td><td class=\"tdhistory985027\">1</td><td class=\"tdhistory985027\">34</td><td class=\"tdhistory985027\">0.0005562</td><td class=\"tdhistory985027\">-3.8116631374621925</td><td class=\"tdhistory985027\">n</td></tr><tr><th class=\"tdhistory985027\" style= \"background: rgba(243, 243, 243, 0.75)\">148</th><td class=\"tdhistory985027\">24</td><td class=\"tdhistory985027\">1</td><td class=\"tdhistory985027\">71</td><td class=\"tdhistory985027\">0.0275495</td><td class=\"tdhistory985027\">-2.251117099673115</td><td class=\"tdhistory985027\">n</td></tr><tr><th class=\"tdhistory985027\" style= \"background: rgba(243, 243, 243, 0.75)\">149</th><td class=\"tdhistory985027\">51</td><td class=\"tdhistory985027\">1</td><td class=\"tdhistory985027\">125</td><td class=\"tdhistory985027\">0</td><td class=\"tdhistory985027\">-4.715111357900299</td><td class=\"tdhistory985027\">n</td></tr><tr><th class=\"tdhistory985027\" style= \"background: rgba(243, 243, 243, 0.75)\">150</th><td class=\"tdhistory985027\">82</td><td class=\"tdhistory985027\">0</td><td class=\"tdhistory985027\">23</td><td class=\"tdhistory985027\">0.0054189</td><td class=\"tdhistory985027\">-3.0725105303481928</td><td class=\"tdhistory985027\">n</td></tr><tr><th class=\"tdhistory985027\" style= \"background: rgba(243, 243, 243, 0.75)\">151</th><td class=\"tdhistory985027\">44</td><td class=\"tdhistory985027\">0</td><td class=\"tdhistory985027\">88</td><td class=\"tdhistory985027\">0.002372</td><td class=\"tdhistory985027\">-3.1273574324187483</td><td class=\"tdhistory985027\">n</td></tr><tr><th class=\"tdhistory985027\" style= \"background: rgba(243, 243, 243, 0.75)\">152</th><td class=\"tdhistory985027\">70</td><td class=\"tdhistory985027\">1</td><td class=\"tdhistory985027\">61</td><td class=\"tdhistory985027\">0</td><td class=\"tdhistory985027\">-5.373304366118829</td><td class=\"tdhistory985027\">n</td></tr><tr><th class=\"tdhistory985027\" style= \"background: rgba(243, 243, 243, 0.75)\">153</th><td class=\"tdhistory985027\">87</td><td class=\"tdhistory985027\">1</td><td class=\"tdhistory985027\">8</td><td class=\"tdhistory985027\">0.5973357</td><td class=\"tdhistory985027\">-0.5542183588683113</td><td class=\"tdhistory985027\">a</td></tr><tr><th class=\"tdhistory985027\" style= \"background: rgba(243, 243, 243, 0.75)\">154</th><td class=\"tdhistory985027\">81</td><td class=\"tdhistory985027\">1</td><td class=\"tdhistory985027\">21</td><td class=\"tdhistory985027\">0.1646098</td><td class=\"tdhistory985027\">-1.4374024402178878</td><td class=\"tdhistory985027\">a</td></tr><tr><th class=\"tdhistory985027\" style= \"background: rgba(243, 243, 243, 0.75)\">155</th><td class=\"tdhistory985027\">21</td><td class=\"tdhistory985027\">1</td><td class=\"tdhistory985027\">80</td><td class=\"tdhistory985027\">0</td><td class=\"tdhistory985027\">-4.494000431713699</td><td class=\"tdhistory985027\">n</td></tr><tr><th class=\"tdhistory985027\" style= \"background: rgba(243, 243, 243, 0.75)\">156</th><td class=\"tdhistory985027\">30</td><td class=\"tdhistory985027\">0</td><td class=\"tdhistory985027\">57</td><td class=\"tdhistory985027\">0.134039</td><td class=\"tdhistory985027\">-1.523189487616873</td><td class=\"tdhistory985027\">a</td></tr><tr><th class=\"tdhistory985027\" style= \"background: rgba(243, 243, 243, 0.75)\">157</th><td class=\"tdhistory985027\">60</td><td class=\"tdhistory985027\">1</td><td class=\"tdhistory985027\">96</td><td class=\"tdhistory985027\">0.0010157</td><td class=\"tdhistory985027\">-3.394647945426487</td><td class=\"tdhistory985027\">n</td></tr><tr><th class=\"tdhistory985027\" style= \"background: rgba(243, 243, 243, 0.75)\">158</th><td class=\"tdhistory985027\">42</td><td class=\"tdhistory985027\">0</td><td class=\"tdhistory985027\">67</td><td class=\"tdhistory985027\">0</td><td class=\"tdhistory985027\">-4.211796282429227</td><td class=\"tdhistory985027\">n</td></tr><tr><th class=\"tdhistory985027\" style= \"background: rgba(243, 243, 243, 0.75)\">159</th><td class=\"tdhistory985027\">11</td><td class=\"tdhistory985027\">1</td><td class=\"tdhistory985027\">18</td><td class=\"tdhistory985027\">0.0061793</td><td class=\"tdhistory985027\">3.1040193569462216</td><td class=\"tdhistory985027\">p</td></tr><tr><th class=\"tdhistory985027\" style= \"background: rgba(243, 243, 243, 0.75)\">160</th><td class=\"tdhistory985027\">83</td><td class=\"tdhistory985027\">0</td><td class=\"tdhistory985027\">19</td><td class=\"tdhistory985027\">0.0446447</td><td class=\"tdhistory985027\">-2.1457788047169233</td><td class=\"tdhistory985027\">n</td></tr><tr><th class=\"tdhistory985027\" style= \"background: rgba(243, 243, 243, 0.75)\">161</th><td class=\"tdhistory985027\">60</td><td class=\"tdhistory985027\">0</td><td class=\"tdhistory985027\">92</td><td class=\"tdhistory985027\">0</td><td class=\"tdhistory985027\">-4.258888739610543</td><td class=\"tdhistory985027\">n</td></tr><tr><th class=\"tdhistory985027\" style= \"background: rgba(243, 243, 243, 0.75)\">162</th><td class=\"tdhistory985027\">43</td><td class=\"tdhistory985027\">0</td><td class=\"tdhistory985027\">63</td><td class=\"tdhistory985027\">0.035401</td><td class=\"tdhistory985027\">-2.1475904037515345</td><td class=\"tdhistory985027\">n</td></tr><tr><th class=\"tdhistory985027\" style= \"background: rgba(243, 243, 243, 0.75)\">163</th><td class=\"tdhistory985027\">55</td><td class=\"tdhistory985027\">0</td><td class=\"tdhistory985027\">97</td><td class=\"tdhistory985027\">0</td><td class=\"tdhistory985027\">-5.784851346128433</td><td class=\"tdhistory985027\">n</td></tr><tr><th class=\"tdhistory985027\" style= \"background: rgba(243, 243, 243, 0.75)\">164</th><td class=\"tdhistory985027\">41</td><td class=\"tdhistory985027\">1</td><td class=\"tdhistory985027\">125</td><td class=\"tdhistory985027\">0</td><td class=\"tdhistory985027\">-1.5361087497978672</td><td class=\"tdhistory985027\">n</td></tr><tr><th class=\"tdhistory985027\" style= \"background: rgba(243, 243, 243, 0.75)\">165</th><td class=\"tdhistory985027\">46</td><td class=\"tdhistory985027\">0</td><td class=\"tdhistory985027\">85</td><td class=\"tdhistory985027\">0</td><td class=\"tdhistory985027\">-4.332325340125757</td><td class=\"tdhistory985027\">n</td></tr><tr><th class=\"tdhistory985027\" style= \"background: rgba(243, 243, 243, 0.75)\">166</th><td class=\"tdhistory985027\">53</td><td class=\"tdhistory985027\">1</td><td class=\"tdhistory985027\">105</td><td class=\"tdhistory985027\">0</td><td class=\"tdhistory985027\">-4.527210354661867</td><td class=\"tdhistory985027\">n</td></tr><tr><th class=\"tdhistory985027\" style= \"background: rgba(243, 243, 243, 0.75)\">167</th><td class=\"tdhistory985027\">59</td><td class=\"tdhistory985027\">0</td><td class=\"tdhistory985027\">80</td><td class=\"tdhistory985027\">0</td><td class=\"tdhistory985027\">-4.809246673642799</td><td class=\"tdhistory985027\">n</td></tr><tr><th class=\"tdhistory985027\" style= \"background: rgba(243, 243, 243, 0.75)\">168</th><td class=\"tdhistory985027\">19</td><td class=\"tdhistory985027\">1</td><td class=\"tdhistory985027\">125</td><td class=\"tdhistory985027\">0</td><td class=\"tdhistory985027\">1.7623795152739916</td><td class=\"tdhistory985027\">p</td></tr><tr><th class=\"tdhistory985027\" style= \"background: rgba(243, 243, 243, 0.75)\">169</th><td class=\"tdhistory985027\">15</td><td class=\"tdhistory985027\">1</td><td class=\"tdhistory985027\">100</td><td class=\"tdhistory985027\">0</td><td class=\"tdhistory985027\">4.911359364701502</td><td class=\"tdhistory985027\">p</td></tr><tr><th class=\"tdhistory985027\" style= \"background: rgba(243, 243, 243, 0.75)\">170</th><td class=\"tdhistory985027\">20</td><td class=\"tdhistory985027\">0</td><td class=\"tdhistory985027\">102</td><td class=\"tdhistory985027\">0</td><td class=\"tdhistory985027\">4.3080863466550845</td><td class=\"tdhistory985027\">p</td></tr></tbody></table></div>"
      ]
     },
     "execution_count": 29,
     "metadata": {
      "application/vnd.teradata.resultset": "{\"resultSetID\":\"/home/jovyan/JupyterLabRoot/Teradata/Resultsets/2023.01.06_06.17.11.296_UTC\",\"historyID\":394,\"chunkID\":\"00001\",\"sessionid\":\"\",\"portnum\":\"\",\"dockermode\":\"docker\",\"totalRowCount\":170,\"chunkCount\":0,\"rowLimit\":0,\"columnMetadata\":[{\"columnName\":\"tot_age\",\"columnTypeName\":\"INTEGER\"},{\"columnNumber\":1,\"columnName\":\"female_ind\",\"columnTypeName\":\"BYTEINT\"},{\"columnNumber\":2,\"columnName\":\"D_F\",\"columnTypeName\":\"FLOAT\"},{\"columnNumber\":3,\"columnName\":\"TTestPValue\",\"columnTypeName\":\"FLOAT\"},{\"columnNumber\":4,\"columnName\":\"T\",\"columnTypeName\":\"FLOAT\"},{\"columnNumber\":5,\"columnName\":\"TTestCallP_0.05\",\"columnTypeName\":\"VARCHAR\",\"length\":1,\"scale\":1}]}"
     },
     "output_type": "execute_result"
    }
   ],
   "source": [
    "call ${VALDB}.td_analyze('ParametricTest', \n",
    "                         'database=${QLID};\n",
    "                          tablename=VAL_ADS;\n",
    "                          firstcolumn=cc_avg_bal;\n",
    "                          secondcolumn=sv_avg_bal;\n",
    "                          paired=true;\n",
    "                          equalvariance=true;\n",
    "                          groupby=tot_age,female_ind;\n",
    "                          statsdatabase=${VALDB};');"
   ]
  },
  {
   "cell_type": "markdown",
   "metadata": {},
   "source": [
    "<p style = 'font-size:16px;font-family:Arial'>2.  One-Way F-Test producing an unpersisted result set.</p>"
   ]
  },
  {
   "cell_type": "code",
   "execution_count": 30,
   "metadata": {},
   "outputs": [
    {
     "data": {
      "text/plain": [
       "Success: 0 rows affected"
      ]
     },
     "execution_count": 30,
     "metadata": {
      "application/vnd.teradata.resultset": ""
     },
     "output_type": "execute_result"
    },
    {
     "data": {
      "application/vnd.teradata.resultset": "\"gender\",\"DF\",\"DFErr\",\"F\",\"FPValue\",\"FPText\",\"FCallP_0.01\"\n\"F\",\"14\",\"5837\",\"7.3394608434061785\",\"0.001\",\"<0.001\",\"p\"\n\"M\",\"14\",\"4591\",\"4.946361887968362\",\"0.001\",\"<0.001\",\"p\"",
      "text/html": [
       "<div class = \"td-resultset-table-div\" style = \"max-height: 100%; overflow-y: auto\">\n",
       "      <table class=\"tdhistory441034\"><style>\n",
       "      table.tdhistory441034 { display: block !important; min-height: 126px !important; overflow: auto !important; height: 126px !important; width: 100% !important; border: 1px solid rgb(207, 207, 207) !important; border-collapse: collapse !important; ; color: var(--jp-ui-font-color1) !important; }\n",
       "      th.tdhistory441034 { border: 1px solid rgb(198,198,198) !important; border-collapse: collapse !important; ; padding: 2px 5px !important; ; font-size: 13px !important; ; text-align: center !important; white-space: normal !important; color: var(--jp-ui-font-color1) !important; }\n",
       "      th.tdhistory441034:last-child { text-align: left !important; }\n",
       "      tbody.tdhistory441034 tr:nth-child(even) { background: rgba(243, 243, 243, 0.75) !important; }\n",
       "      tbody.tdhistory441034 tr:nth-child(odd) { background: var(--jp-ui-inverse-font-color1) !important; }\n",
       "      td.tdhistory441034 { border: 1px solid rgb(207, 207, 207) !important; border-collapse: collapse !important; ; padding: 2px 5px !important; ; font-size: 13px !important; ; text-align: left !important;          white-space: nowrap !important; overflow:hidden !important; text-overflow:ellipsis !important;; }\n",
       "    </style><thead><tr style= \"background: rgba(243, 243, 243, 0.75)\"><th class=\"tdhistory441034\"></th><th class=\"tdhistory441034\">gender</th><th class=\"tdhistory441034\">DF</th><th class=\"tdhistory441034\">DFErr</th><th class=\"tdhistory441034\">F</th><th class=\"tdhistory441034\">FPValue</th><th class=\"tdhistory441034\">FPText</th><th class=\"tdhistory441034\">FCallP_0.01</th></tr></thead><tbody class=\"tdhistory441034 resultset-body\"><tr><th class=\"tdhistory441034\" style= \"background: rgba(243, 243, 243, 0.75)\">1</th><td class=\"tdhistory441034\">F</td><td class=\"tdhistory441034\">14</td><td class=\"tdhistory441034\">5837</td><td class=\"tdhistory441034\">7.3394608434061785</td><td class=\"tdhistory441034\">0.001</td><td class=\"tdhistory441034\"><0.001</td><td class=\"tdhistory441034\">p</td></tr><tr><th class=\"tdhistory441034\" style= \"background: rgba(243, 243, 243, 0.75)\">2</th><td class=\"tdhistory441034\">M</td><td class=\"tdhistory441034\">14</td><td class=\"tdhistory441034\">4591</td><td class=\"tdhistory441034\">4.946361887968362</td><td class=\"tdhistory441034\">0.001</td><td class=\"tdhistory441034\"><0.001</td><td class=\"tdhistory441034\">p</td></tr></tbody></table></div>"
      ]
     },
     "execution_count": 30,
     "metadata": {
      "application/vnd.teradata.resultset": "{\"resultSetID\":\"/home/jovyan/JupyterLabRoot/Teradata/Resultsets/2023.01.06_06.17.22.782_UTC\",\"historyID\":395,\"chunkID\":\"00001\",\"sessionid\":\"\",\"portnum\":\"\",\"dockermode\":\"docker\",\"totalRowCount\":2,\"chunkCount\":0,\"rowLimit\":0,\"columnMetadata\":[{\"columnName\":\"gender\",\"columnTypeName\":\"VARCHAR\",\"length\":1,\"scale\":1},{\"columnNumber\":1,\"columnName\":\"DF\",\"columnTypeName\":\"FLOAT\"},{\"columnNumber\":2,\"columnName\":\"DFErr\",\"columnTypeName\":\"FLOAT\"},{\"columnNumber\":3,\"columnName\":\"F\",\"columnTypeName\":\"FLOAT\"},{\"columnNumber\":4,\"columnName\":\"FPValue\",\"columnTypeName\":\"FLOAT\"},{\"columnNumber\":5,\"columnName\":\"FPText\",\"columnTypeName\":\"VARCHAR\",\"length\":6,\"scale\":6},{\"columnNumber\":6,\"columnName\":\"FCallP_0.01\",\"columnTypeName\":\"VARCHAR\",\"length\":1,\"scale\":1}]}"
     },
     "output_type": "execute_result"
    }
   ],
   "source": [
    "call ${VALDB}.td_analyze('ParametricTest',\n",
    "                         'teststyle=fnway;\n",
    "                          database=${XSPDB};\n",
    "                          tablename=Customer;\n",
    "                          columnofinterest=income;\n",
    "                          columns=years_with_bank;\n",
    "                          groupby=gender;\n",
    "                          thresholdprobability=0.01;\n",
    "                          statsdatabase=${VALDB};');"
   ]
  },
  {
   "cell_type": "markdown",
   "metadata": {},
   "source": [
    "<p style = 'font-size:16px;font-family:Arial'>3.  2-way F-Test with Unequal Cell Counts producing an unpersisted result set.</p>"
   ]
  },
  {
   "cell_type": "code",
   "execution_count": 31,
   "metadata": {},
   "outputs": [
    {
     "data": {
      "text/plain": [
       "Success: 0 rows affected"
      ]
     },
     "execution_count": 31,
     "metadata": {
      "application/vnd.teradata.resultset": ""
     },
     "output_type": "execute_result"
    },
    {
     "data": {
      "application/vnd.teradata.resultset": "\"DF\",\"Fmodel\",\"DFErr\",\"DF_1\",\"F1\",\"DF_2\",\"F2\",\"DF_12\",\"F12\",\"Fmodel_PValue\",\"Fmodel_PText\",\"Fmodel_CallP_0.05\",\"F1_PValue\",\"F1_PText\",\"F1_CallP_0.05\",\"F2_PValue\",\"F2_PText\",\"F2_CallP_0.05\",\"F12_PValue\",\"F12_PText\",\"F12_CallP_0.05\"\n\"15\",\"9.710997531996655\",\"7330\",\"7\",\"11.561359030335888\",\"1\",\"51.83852316974105\",\"7\",\"1.8424180854082204\",\"0.001\",\"<0.001\",\"p\",\"0.001\",\"<0.001\",\"p\",\"0.001\",\"<0.001\",\"p\",\"0.07854148392066758\",\"\",\"a\"",
      "text/html": [
       "<div class = \"td-resultset-table-div\" style = \"max-height: 100%; overflow-y: auto\">\n",
       "      <table class=\"tdhistory336668\"><style>\n",
       "      table.tdhistory336668 { display: block !important; min-height: 105px !important; overflow: auto !important; height: 105px !important; width: 100% !important; border: 1px solid rgb(207, 207, 207) !important; border-collapse: collapse !important; ; color: var(--jp-ui-font-color1) !important; }\n",
       "      th.tdhistory336668 { border: 1px solid rgb(198,198,198) !important; border-collapse: collapse !important; ; padding: 2px 5px !important; ; font-size: 13px !important; ; text-align: center !important; white-space: normal !important; color: var(--jp-ui-font-color1) !important; }\n",
       "      th.tdhistory336668:last-child { text-align: left !important; }\n",
       "      tbody.tdhistory336668 tr:nth-child(even) { background: rgba(243, 243, 243, 0.75) !important; }\n",
       "      tbody.tdhistory336668 tr:nth-child(odd) { background: var(--jp-ui-inverse-font-color1) !important; }\n",
       "      td.tdhistory336668 { border: 1px solid rgb(207, 207, 207) !important; border-collapse: collapse !important; ; padding: 2px 5px !important; ; font-size: 13px !important; ; text-align: left !important;          white-space: nowrap !important; overflow:hidden !important; text-overflow:ellipsis !important;; }\n",
       "    </style><thead><tr style= \"background: rgba(243, 243, 243, 0.75)\"><th class=\"tdhistory336668\"></th><th class=\"tdhistory336668\">DF</th><th class=\"tdhistory336668\">Fmodel</th><th class=\"tdhistory336668\">DFErr</th><th class=\"tdhistory336668\">DF_1</th><th class=\"tdhistory336668\">F1</th><th class=\"tdhistory336668\">DF_2</th><th class=\"tdhistory336668\">F2</th><th class=\"tdhistory336668\">DF_12</th><th class=\"tdhistory336668\">F12</th><th class=\"tdhistory336668\">Fmodel_PValue</th><th class=\"tdhistory336668\">Fmodel_PText</th><th class=\"tdhistory336668\">Fmodel_CallP_0.05</th><th class=\"tdhistory336668\">F1_PValue</th><th class=\"tdhistory336668\">F1_PText</th><th class=\"tdhistory336668\">F1_CallP_0.05</th><th class=\"tdhistory336668\">F2_PValue</th><th class=\"tdhistory336668\">F2_PText</th><th class=\"tdhistory336668\">F2_CallP_0.05</th><th class=\"tdhistory336668\">F12_PValue</th><th class=\"tdhistory336668\">F12_PText</th><th class=\"tdhistory336668\">F12_CallP_0.05</th></tr></thead><tbody class=\"tdhistory336668 resultset-body\"><tr><th class=\"tdhistory336668\" style= \"background: rgba(243, 243, 243, 0.75)\">1</th><td class=\"tdhistory336668\">15</td><td class=\"tdhistory336668\">9.710997531996655</td><td class=\"tdhistory336668\">7330</td><td class=\"tdhistory336668\">7</td><td class=\"tdhistory336668\">11.561359030335888</td><td class=\"tdhistory336668\">1</td><td class=\"tdhistory336668\">51.83852316974105</td><td class=\"tdhistory336668\">7</td><td class=\"tdhistory336668\">1.8424180854082204</td><td class=\"tdhistory336668\">0.001</td><td class=\"tdhistory336668\"><0.001</td><td class=\"tdhistory336668\">p</td><td class=\"tdhistory336668\">0.001</td><td class=\"tdhistory336668\"><0.001</td><td class=\"tdhistory336668\">p</td><td class=\"tdhistory336668\">0.001</td><td class=\"tdhistory336668\"><0.001</td><td class=\"tdhistory336668\">p</td><td class=\"tdhistory336668\">0.07854148392066758</td><td class=\"tdhistory336668\"></td><td class=\"tdhistory336668\">a</td></tr></tbody></table></div>"
      ]
     },
     "execution_count": 31,
     "metadata": {
      "application/vnd.teradata.resultset": "{\"resultSetID\":\"/home/jovyan/JupyterLabRoot/Teradata/Resultsets/2023.01.06_06.17.41.156_UTC\",\"historyID\":396,\"chunkID\":\"00001\",\"sessionid\":\"\",\"portnum\":\"\",\"dockermode\":\"docker\",\"totalRowCount\":1,\"chunkCount\":0,\"rowLimit\":0,\"columnMetadata\":[{\"columnName\":\"DF\",\"columnTypeName\":\"INTEGER\"},{\"columnNumber\":1,\"columnName\":\"Fmodel\",\"columnTypeName\":\"FLOAT\"},{\"columnNumber\":2,\"columnName\":\"DFErr\",\"columnTypeName\":\"INTEGER\"},{\"columnNumber\":3,\"columnName\":\"DF_1\",\"columnTypeName\":\"INTEGER\"},{\"columnNumber\":4,\"columnName\":\"F1\",\"columnTypeName\":\"FLOAT\"},{\"columnNumber\":5,\"columnName\":\"DF_2\",\"columnTypeName\":\"INTEGER\"},{\"columnNumber\":6,\"columnName\":\"F2\",\"columnTypeName\":\"FLOAT\"},{\"columnNumber\":7,\"columnName\":\"DF_12\",\"columnTypeName\":\"INTEGER\"},{\"columnNumber\":8,\"columnName\":\"F12\",\"columnTypeName\":\"FLOAT\"},{\"columnNumber\":9,\"columnName\":\"Fmodel_PValue\",\"columnTypeName\":\"FLOAT\"},{\"columnNumber\":10,\"columnName\":\"Fmodel_PText\",\"columnTypeName\":\"VARCHAR\",\"length\":6,\"scale\":6},{\"columnNumber\":11,\"columnName\":\"Fmodel_CallP_0.05\",\"columnTypeName\":\"VARCHAR\",\"length\":1,\"scale\":1},{\"columnNumber\":12,\"columnName\":\"F1_PValue\",\"columnTypeName\":\"FLOAT\"},{\"columnNumber\":13,\"columnName\":\"F1_PText\",\"columnTypeName\":\"VARCHAR\",\"length\":6,\"scale\":6},{\"columnNumber\":14,\"columnName\":\"F1_CallP_0.05\",\"columnTypeName\":\"VARCHAR\",\"length\":1,\"scale\":1},{\"columnNumber\":15,\"columnName\":\"F2_PValue\",\"columnTypeName\":\"FLOAT\"},{\"columnNumber\":16,\"columnName\":\"F2_PText\",\"columnTypeName\":\"VARCHAR\",\"length\":6,\"scale\":6},{\"columnNumber\":17,\"columnName\":\"F2_CallP_0.05\",\"columnTypeName\":\"VARCHAR\",\"length\":1,\"scale\":1},{\"columnNumber\":18,\"columnName\":\"F12_PValue\",\"columnTypeName\":\"FLOAT\"},{\"columnNumber\":19,\"columnName\":\"F12_PText\",\"columnTypeName\":\"VARCHAR\",\"length\":6,\"scale\":6},{\"columnNumber\":20,\"columnName\":\"F12_CallP_0.05\",\"columnTypeName\":\"VARCHAR\",\"length\":1,\"scale\":1}]}"
     },
     "output_type": "execute_result"
    }
   ],
   "source": [
    "call ${VALDB}.td_analyze('ParametricTest',\n",
    "                         'teststyle=f2way;\n",
    "                          database=${XSPDB};\n",
    "                          tablename=Customer;\n",
    "                          columnofinterest=income;\n",
    "                          firstcolumn=years_with_bank;\n",
    "                          secondcolumn=gender;\n",
    "                          thresholdprobability=0.05;\n",
    "                          firstcolumnvalues=0,1,2,3,4,5,6,7;\n",
    "                          secondcolumnvalues=M,F;\n",
    "                          statsdatabase=${VALDB};');"
   ]
  },
  {
   "cell_type": "markdown",
   "metadata": {},
   "source": [
    "---"
   ]
  },
  {
   "cell_type": "markdown",
   "metadata": {},
   "source": [
    "<p style = 'font-size:20px;font-family:Arial;color:#E37C4D'><b>7. Rank Tests</b></p>\n",
    "\n",
    "<p style = 'font-size:16px;font-family:Arial;color:#E37C4D'><b>Purpose</b></p>\n",
    "\n",
    "<p style = 'font-size:16px;font-family:Arial'>Statistical tests of this type calculate statistics based on the rank of variables rather than variable values.  In general, data that are ranked and ordinal may be analyzed by these tests.  Within some restraints, either numeric or non-numeric data may be analyzed.  Supported rank tests include the following:\n",
    "\n",
    "<li>Mann-Whitney/Kruskal-Wallis Test</li>\n",
    "<li>Wilcoxon Signed Ranks Test</li>\n",
    "<li>Friedman Test with Kendall’s Coefficient of Concordance & Spearmans’ Rho</li>\n",
    "</p>\n",
    "    \n",
    "<p style = 'font-size:16px;font-family:Arial'>The choice between the Mann-Whitney and Kruskal-Wallis tests is made automatically, looking at the number of distinct values of the independent variable.  A variation of the Mann-Whitney test considers each requested variable individually, rather than combined, performing a series of independent tests.</p>\n",
    "\n",
    "<p style = 'font-size:16px;font-family:Arial;color:#E37C4D'><b>Required Parameters</b></p>\n",
    "\n",
    "<p style = 'font-size:16px;font-family:Arial'><b>- **database**</b></p>\n",
    "\n",
    "<p style = 'font-size:16px;font-family:Arial'>The database containing the table to analyze.</p>\n",
    "\n",
    "<p style = 'font-size:16px;font-family:Arial'><b>- **ranktest**</b></p>\n",
    "\n",
    "<p style = 'font-size:16px;font-family:Arial'>The ranktest parameter:\n",
    "<li>Is required</li>\n",
    "<li>Must be the first parameter</li>\n",
    "<li>Is always enclosed in single quotes</li>\n",
    "</p>    \n",
    "\n",
    "<p style = 'font-size:16px;font-family:Arial'><b>- **tablename**</b></p>\n",
    "\n",
    "<p style = 'font-size:16px;font-family:Arial'>The table containing the columns to analyze.  It must reside in the database indicated by the database parameter.</p>\n",
    "\n",
    "<p style = 'font-size:16px;font-family:Arial;color:#E37C4D'><b>Optional Parameters</b></p>\n",
    "\n",
    "<p style = 'font-size:16px;font-family:Arial'><b>- **blockcolumn**</b></p>\n",
    "\n",
    "<p style = 'font-size:16px;font-family:Arial'>Used only by the Friedman test, the column that represents blocks. They must reside in the table indicated by the tablename parameter.  Note that when pairing treatment and block column values, a division by zero error may occur if unequal cell counts are found.</p>\n",
    "\n",
    "<p style = 'font-size:16px;font-family:Arial'><b>- **columnofinterest**</b></p>\n",
    "\n",
    "<p style = 'font-size:16px;font-family:Arial'>Used only by the Mann-Whitney and Friedman tests, the column specified with this parameter indicates the dependent variable. If non-numeric, it will be ranked alphanumerically.  It must reside in the table indicated by the tablename parameter.</p>\n",
    "\n",
    "<p style = 'font-size:16px;font-family:Arial'><b>- **columns**</b></p>\n",
    "\n",
    "<p style = 'font-size:16px;font-family:Arial'>Used only by the Mann-Whitney test, the columns specified with this parameter represent the independent variables. They must reside in the table indicated by the tablename parameter.</p>\n",
    "\n",
    "<p style = 'font-size:16px;font-family:Arial'><b>- **fallback**</b></p>\n",
    "\n",
    "<p style = 'font-size:16px;font-family:Arial'>When true, FALLBACK is requested as an attribute of the created output results table.  When false or parameter not specified, the FALLBACK attribute is not included in the create table SQL.</p>\n",
    "\n",
    "<p style = 'font-size:16px;font-family:Arial'><b>- **firstcolumn**</b></p>\n",
    "\n",
    "<p style = 'font-size:16px;font-family:Arial'>Used only by the Wilcoxon test, the column that represents the first sample variable. It must reside in the table indicated by the tablename parameter.</p>\n",
    "\n",
    "<p style = 'font-size:16px;font-family:Arial'><b>- **gensqlonly**</b></p>\n",
    "\n",
    "<p style = 'font-size:16px;font-family:Arial'>When true, the SQL for the requested function is returned as a result set but not run. When not specified or set to false, the SQL is run but not returned.  This parameter is not allowed when using the Mann-Whitney test.</p>\n",
    "\n",
    "<p style = 'font-size:16px;font-family:Arial'><b>- **groupby**</b></p>\n",
    "\n",
    "<p style = 'font-size:16px;font-family:Arial'>One or more group-by columns may optionally be specified so that a separate result is produced for each value or combination of values in the specified column or columns.</p>\n",
    "\n",
    "<p style = 'font-size:16px;font-family:Arial'><b>- **includezero**</b></p>\n",
    "\n",
    "<p style = 'font-size:16px;font-family:Arial'>Used only by the Wilcoxon test.  Ordinarily, the Wilcoxon test discards cases with zero differences.  This option, when set to true, includes these cases with the positive count.</p>\n",
    "\n",
    "<p style = 'font-size:16px;font-family:Arial'><b>- **independent**</b></p>\n",
    "\n",
    "<p style = 'font-size:16px;font-family:Arial'>Used only by the Mann-Whitney test, its selection by setting independent=true, indicates that a variation of the Mann-Whitney test should be performed, considering each requested variable individually, rather than in combination, performing a series of independent tests.</p>\n",
    "\n",
    "<p style = 'font-size:16px;font-family:Arial'><b>- **multiset**</b></p>\n",
    "\n",
    "<p style = 'font-size:16px;font-family:Arial'>When true, MULTISET is requested as an attribute of the created output results table.  When false or parameter not specified, the MULTISET attribute is not included in the create table SQL.</p>\n",
    "\n",
    "<p style = 'font-size:16px;font-family:Arial'><b>- **outputdatabase**</b></p>\n",
    "\n",
    "<p style = 'font-size:16px;font-family:Arial'>Specifies the name of the database to contain the analysis results table.</p>\n",
    "\n",
    "<p style = 'font-size:16px;font-family:Arial'><b>- **outputtablename**</b></p>\n",
    "\n",
    "<p style = 'font-size:16px;font-family:Arial'>Specifies the name of the table to store the analysis results. If not supplied, the results are returned as a result set.</p>\n",
    "\n",
    "<p style = 'font-size:16px;font-family:Arial'><b>- **overwrite**</b></p>\n",
    "\n",
    "<p style = 'font-size:16px;font-family:Arial'>When overwrite is set to true or not set, the output table is dropped before creating a new one.</p>\n",
    "\n",
    "<p style = 'font-size:16px;font-family:Arial'><b>- **secondcolumn**</b></p>\n",
    "\n",
    "<p style = 'font-size:16px;font-family:Arial'>Used only by the Wilcoxon test, the column that represents the second sample variable. It must reside in the table indicated by the tablename parameter.  Note that when pairing treatment and block column values, a division by zero error may occur if unequal cell counts are found.</p>\n",
    "\n",
    "<p style = 'font-size:16px;font-family:Arial'><b>- **singletail**</b></p>\n",
    "\n",
    "<p style = 'font-size:16px;font-family:Arial'>Used only by the Mann-Whitney and Wilcoxon tests.  If the Mann-Whitney test becomes a Kruskall-Wallis test, the singletail option is invalid.  By default, a two-tailed test is performed.</p>\n",
    "\n",
    "<p style = 'font-size:16px;font-family:Arial'><b>- **statsdatabase**</b></p>\n",
    "\n",
    "<p style = 'font-size:16px;font-family:Arial'>This is the database where the statistical test metadata tables are installed.  If not specified, the source database is searched for these metadata tables.</p>\n",
    "\n",
    "<p style = 'font-size:16px;font-family:Arial'><b>- **teststyle**</b></p>\n",
    "\n",
    "<p style = 'font-size:16px;font-family:Arial'>The valid values are mw, friedman and wilcoxon, representing a Mann-Whitney, Friedman or Wilcoxon test.  If not specified, the default test style is Mann-Whitney (mw).</p>\n",
    "\n",
    "<p style = 'font-size:16px;font-family:Arial'><b>- **thresholdprobability**</b></p>\n",
    "\n",
    "<p style = 'font-size:16px;font-family:Arial'>You may optionally change the threshold probability or allow it to default to 0.05.  Below this \"alpha\" probability the null hypothesis is rejected.</p>\n",
    "\n",
    "<p style = 'font-size:16px;font-family:Arial'><b>- **treatmentcolumn**</b></p>\n",
    "\n",
    "<p style = 'font-size:16px;font-family:Arial'>Used only by the Friedman test, the column that represents the independent categorical variable. They must reside in the table indicated by the tablename parameter.</p>"
   ]
  },
  {
   "cell_type": "markdown",
   "metadata": {},
   "source": [
    "--------------------------"
   ]
  },
  {
   "cell_type": "markdown",
   "metadata": {},
   "source": [
    "<p style = 'font-size:16px;font-family:Arial'>1.  Mann-Whitney test with a threshold probability of 0.01.</p>"
   ]
  },
  {
   "cell_type": "code",
   "execution_count": 32,
   "metadata": {},
   "outputs": [
    {
     "data": {
      "text/plain": [
       "Success: 0 rows affected"
      ]
     },
     "execution_count": 32,
     "metadata": {
      "application/vnd.teradata.resultset": ""
     },
     "output_type": "execute_result"
    },
    {
     "data": {
      "application/vnd.teradata.resultset": "\"years_with_bank\",\"Z\",\"MannWhitneyPValue\",\"MannWhitneyCallP_1E-2\"\n\"12\",\"-1.5058426157251128\",\"0.132067226\",\"a\"\n\"3\",\"-1.2277790991000173\",\"0.219447096\",\"a\"\n\"4\",\"-2.1776290109979204\",\"0.029405932\",\"a\"\n\"2\",\"0.2632551342578662\",\"0.792550692\",\"a\"\n\"11\",\"-1.329063927064864\",\"0.183848096\",\"a\"\n\"10\",\"-3.2379133262969324\",\"0.001203832\",\"n\"\n\"7\",\"-3.9525279885398006\",\"7.7211e-05\",\"n\"\n\"13\",\"-0.8617464449585489\",\"0.388687424\",\"a\"\n\"14\",\"-0.49966021063014066\",\"0.617075066\",\"a\"\n\"8\",\"-3.508754308300577\",\"0.00044988199999999997\",\"n\"\n\"5\",\"-2.664446116472283\",\"0.007721844\",\"n\"\n\"6\",\"-3.644272637669378\",\"0.000268502\",\"n\"\n\"9\",\"-3.1829653140323173\",\"0.001457706\",\"n\"\n\"1\",\"-0.4469203235902225\",\"0.654875104\",\"a\"\n\"0\",\"-0.05851578448193989\",\"0.952951968\",\"a\"",
      "text/html": [
       "<div class = \"td-resultset-table-div\" style = \"max-height: 100%; overflow-y: auto\">\n",
       "      <table class=\"tdhistory439725\"><style>\n",
       "      table.tdhistory439725 { display: block !important; min-height: 399px !important; overflow: auto !important; height: 399px !important; width: 100% !important; border: 1px solid rgb(207, 207, 207) !important; border-collapse: collapse !important; ; color: var(--jp-ui-font-color1) !important; }\n",
       "      th.tdhistory439725 { border: 1px solid rgb(198,198,198) !important; border-collapse: collapse !important; ; padding: 2px 5px !important; ; font-size: 13px !important; ; text-align: center !important; white-space: normal !important; color: var(--jp-ui-font-color1) !important; }\n",
       "      th.tdhistory439725:last-child { text-align: left !important; }\n",
       "      tbody.tdhistory439725 tr:nth-child(even) { background: rgba(243, 243, 243, 0.75) !important; }\n",
       "      tbody.tdhistory439725 tr:nth-child(odd) { background: var(--jp-ui-inverse-font-color1) !important; }\n",
       "      td.tdhistory439725 { border: 1px solid rgb(207, 207, 207) !important; border-collapse: collapse !important; ; padding: 2px 5px !important; ; font-size: 13px !important; ; text-align: left !important;          white-space: nowrap !important; overflow:hidden !important; text-overflow:ellipsis !important;; }\n",
       "    </style><thead><tr style= \"background: rgba(243, 243, 243, 0.75)\"><th class=\"tdhistory439725\"></th><th class=\"tdhistory439725\">years_with_bank</th><th class=\"tdhistory439725\">Z</th><th class=\"tdhistory439725\">MannWhitneyPValue</th><th class=\"tdhistory439725\">MannWhitneyCallP_1E-2</th></tr></thead><tbody class=\"tdhistory439725 resultset-body\"><tr><th class=\"tdhistory439725\" style= \"background: rgba(243, 243, 243, 0.75)\">1</th><td class=\"tdhistory439725\">12</td><td class=\"tdhistory439725\">-1.5058426157251128</td><td class=\"tdhistory439725\">0.132067226</td><td class=\"tdhistory439725\">a</td></tr><tr><th class=\"tdhistory439725\" style= \"background: rgba(243, 243, 243, 0.75)\">2</th><td class=\"tdhistory439725\">3</td><td class=\"tdhistory439725\">-1.2277790991000173</td><td class=\"tdhistory439725\">0.219447096</td><td class=\"tdhistory439725\">a</td></tr><tr><th class=\"tdhistory439725\" style= \"background: rgba(243, 243, 243, 0.75)\">3</th><td class=\"tdhistory439725\">4</td><td class=\"tdhistory439725\">-2.1776290109979204</td><td class=\"tdhistory439725\">0.029405932</td><td class=\"tdhistory439725\">a</td></tr><tr><th class=\"tdhistory439725\" style= \"background: rgba(243, 243, 243, 0.75)\">4</th><td class=\"tdhistory439725\">2</td><td class=\"tdhistory439725\">0.2632551342578662</td><td class=\"tdhistory439725\">0.792550692</td><td class=\"tdhistory439725\">a</td></tr><tr><th class=\"tdhistory439725\" style= \"background: rgba(243, 243, 243, 0.75)\">5</th><td class=\"tdhistory439725\">11</td><td class=\"tdhistory439725\">-1.329063927064864</td><td class=\"tdhistory439725\">0.183848096</td><td class=\"tdhistory439725\">a</td></tr><tr><th class=\"tdhistory439725\" style= \"background: rgba(243, 243, 243, 0.75)\">6</th><td class=\"tdhistory439725\">10</td><td class=\"tdhistory439725\">-3.2379133262969324</td><td class=\"tdhistory439725\">0.001203832</td><td class=\"tdhistory439725\">n</td></tr><tr><th class=\"tdhistory439725\" style= \"background: rgba(243, 243, 243, 0.75)\">7</th><td class=\"tdhistory439725\">7</td><td class=\"tdhistory439725\">-3.9525279885398006</td><td class=\"tdhistory439725\">7.7211e-05</td><td class=\"tdhistory439725\">n</td></tr><tr><th class=\"tdhistory439725\" style= \"background: rgba(243, 243, 243, 0.75)\">8</th><td class=\"tdhistory439725\">13</td><td class=\"tdhistory439725\">-0.8617464449585489</td><td class=\"tdhistory439725\">0.388687424</td><td class=\"tdhistory439725\">a</td></tr><tr><th class=\"tdhistory439725\" style= \"background: rgba(243, 243, 243, 0.75)\">9</th><td class=\"tdhistory439725\">14</td><td class=\"tdhistory439725\">-0.49966021063014066</td><td class=\"tdhistory439725\">0.617075066</td><td class=\"tdhistory439725\">a</td></tr><tr><th class=\"tdhistory439725\" style= \"background: rgba(243, 243, 243, 0.75)\">10</th><td class=\"tdhistory439725\">8</td><td class=\"tdhistory439725\">-3.508754308300577</td><td class=\"tdhistory439725\">0.00044988199999999997</td><td class=\"tdhistory439725\">n</td></tr><tr><th class=\"tdhistory439725\" style= \"background: rgba(243, 243, 243, 0.75)\">11</th><td class=\"tdhistory439725\">5</td><td class=\"tdhistory439725\">-2.664446116472283</td><td class=\"tdhistory439725\">0.007721844</td><td class=\"tdhistory439725\">n</td></tr><tr><th class=\"tdhistory439725\" style= \"background: rgba(243, 243, 243, 0.75)\">12</th><td class=\"tdhistory439725\">6</td><td class=\"tdhistory439725\">-3.644272637669378</td><td class=\"tdhistory439725\">0.000268502</td><td class=\"tdhistory439725\">n</td></tr><tr><th class=\"tdhistory439725\" style= \"background: rgba(243, 243, 243, 0.75)\">13</th><td class=\"tdhistory439725\">9</td><td class=\"tdhistory439725\">-3.1829653140323173</td><td class=\"tdhistory439725\">0.001457706</td><td class=\"tdhistory439725\">n</td></tr><tr><th class=\"tdhistory439725\" style= \"background: rgba(243, 243, 243, 0.75)\">14</th><td class=\"tdhistory439725\">1</td><td class=\"tdhistory439725\">-0.4469203235902225</td><td class=\"tdhistory439725\">0.654875104</td><td class=\"tdhistory439725\">a</td></tr><tr><th class=\"tdhistory439725\" style= \"background: rgba(243, 243, 243, 0.75)\">15</th><td class=\"tdhistory439725\">0</td><td class=\"tdhistory439725\">-0.05851578448193989</td><td class=\"tdhistory439725\">0.952951968</td><td class=\"tdhistory439725\">a</td></tr></tbody></table></div>"
      ]
     },
     "execution_count": 32,
     "metadata": {
      "application/vnd.teradata.resultset": "{\"resultSetID\":\"/home/jovyan/JupyterLabRoot/Teradata/Resultsets/2023.01.06_06.17.47.038_UTC\",\"historyID\":397,\"chunkID\":\"00001\",\"sessionid\":\"\",\"portnum\":\"\",\"dockermode\":\"docker\",\"totalRowCount\":15,\"chunkCount\":0,\"rowLimit\":0,\"columnMetadata\":[{\"columnName\":\"years_with_bank\",\"columnTypeName\":\"INTEGER\"},{\"columnNumber\":1,\"columnName\":\"Z\",\"columnTypeName\":\"FLOAT\"},{\"columnNumber\":2,\"columnName\":\"MannWhitneyPValue\",\"columnTypeName\":\"FLOAT\"},{\"columnNumber\":3,\"columnName\":\"MannWhitneyCallP_1E-2\",\"columnTypeName\":\"VARCHAR\",\"length\":1,\"scale\":1}]}"
     },
     "output_type": "execute_result"
    }
   ],
   "source": [
    "call ${VALDB}.td_analyze('ranktest',\n",
    "                         'teststyle=mw;\n",
    "                          statsdatabase=${VALDB};\n",
    "                          database=${XSPDB};\n",
    "                          tablename=Customer;\n",
    "                          columnofinterest=income;\n",
    "                          columns=gender;\n",
    "                          groupby=years_with_bank;\n",
    "                          thresholdprobability=0.01;');"
   ]
  },
  {
   "cell_type": "markdown",
   "metadata": {},
   "source": [
    "<p style = 'font-size:16px;font-family:Arial'>2.  A set of Mann-Whitney independent tests.  The threshold probability assumes the default value of 0.05.</p>"
   ]
  },
  {
   "cell_type": "code",
   "execution_count": 33,
   "metadata": {},
   "outputs": [
    {
     "data": {
      "text/plain": [
       "Success: 0 rows affected"
      ]
     },
     "execution_count": 33,
     "metadata": {
      "application/vnd.teradata.resultset": ""
     },
     "output_type": "execute_result"
    },
    {
     "data": {
      "application/vnd.teradata.resultset": "\"_twm_independent_variable\",\"Z\",\"MannWhitneyPValue\",\"MannWhitneyCallP_5E-2\"\n\"female_ind                    \",\"7.771020590981125\",\"6e-07\",\"p\"\n\"sv_acct_ind\",\"9.377586778932272\",\"6e-07\",\"p\"\n\"cc_acct_ind\",\"-19.115808047105958\",\"6e-07\",\"n\"\n\"ck_acct_ind\",\"-16.06418788422782\",\"6e-07\",\"n\"",
      "text/html": [
       "<div class = \"td-resultset-table-div\" style = \"max-height: 100%; overflow-y: auto\">\n",
       "      <table class=\"tdhistory954921\"><style>\n",
       "      table.tdhistory954921 { display: block !important; min-height: 168px !important; overflow: auto !important; height: 168px !important; width: 100% !important; border: 1px solid rgb(207, 207, 207) !important; border-collapse: collapse !important; ; color: var(--jp-ui-font-color1) !important; }\n",
       "      th.tdhistory954921 { border: 1px solid rgb(198,198,198) !important; border-collapse: collapse !important; ; padding: 2px 5px !important; ; font-size: 13px !important; ; text-align: center !important; white-space: normal !important; color: var(--jp-ui-font-color1) !important; }\n",
       "      th.tdhistory954921:last-child { text-align: left !important; }\n",
       "      tbody.tdhistory954921 tr:nth-child(even) { background: rgba(243, 243, 243, 0.75) !important; }\n",
       "      tbody.tdhistory954921 tr:nth-child(odd) { background: var(--jp-ui-inverse-font-color1) !important; }\n",
       "      td.tdhistory954921 { border: 1px solid rgb(207, 207, 207) !important; border-collapse: collapse !important; ; padding: 2px 5px !important; ; font-size: 13px !important; ; text-align: left !important;          white-space: nowrap !important; overflow:hidden !important; text-overflow:ellipsis !important;; }\n",
       "    </style><thead><tr style= \"background: rgba(243, 243, 243, 0.75)\"><th class=\"tdhistory954921\"></th><th class=\"tdhistory954921\">_twm_independent_variable</th><th class=\"tdhistory954921\">Z</th><th class=\"tdhistory954921\">MannWhitneyPValue</th><th class=\"tdhistory954921\">MannWhitneyCallP_5E-2</th></tr></thead><tbody class=\"tdhistory954921 resultset-body\"><tr><th class=\"tdhistory954921\" style= \"background: rgba(243, 243, 243, 0.75)\">1</th><td class=\"tdhistory954921\">female_ind                    </td><td class=\"tdhistory954921\">7.771020590981125</td><td class=\"tdhistory954921\">6e-07</td><td class=\"tdhistory954921\">p</td></tr><tr><th class=\"tdhistory954921\" style= \"background: rgba(243, 243, 243, 0.75)\">2</th><td class=\"tdhistory954921\">sv_acct_ind</td><td class=\"tdhistory954921\">9.377586778932272</td><td class=\"tdhistory954921\">6e-07</td><td class=\"tdhistory954921\">p</td></tr><tr><th class=\"tdhistory954921\" style= \"background: rgba(243, 243, 243, 0.75)\">3</th><td class=\"tdhistory954921\">cc_acct_ind</td><td class=\"tdhistory954921\">-19.115808047105958</td><td class=\"tdhistory954921\">6e-07</td><td class=\"tdhistory954921\">n</td></tr><tr><th class=\"tdhistory954921\" style= \"background: rgba(243, 243, 243, 0.75)\">4</th><td class=\"tdhistory954921\">ck_acct_ind</td><td class=\"tdhistory954921\">-16.06418788422782</td><td class=\"tdhistory954921\">6e-07</td><td class=\"tdhistory954921\">n</td></tr></tbody></table></div>"
      ]
     },
     "execution_count": 33,
     "metadata": {
      "application/vnd.teradata.resultset": "{\"resultSetID\":\"/home/jovyan/JupyterLabRoot/Teradata/Resultsets/2023.01.06_06.17.51.831_UTC\",\"historyID\":398,\"chunkID\":\"00001\",\"sessionid\":\"\",\"portnum\":\"\",\"dockermode\":\"docker\",\"totalRowCount\":4,\"chunkCount\":0,\"rowLimit\":0,\"columnMetadata\":[{\"columnName\":\"_twm_independent_variable\",\"columnTypeName\":\"VARCHAR\",\"length\":30,\"scale\":30},{\"columnNumber\":1,\"columnName\":\"Z\",\"columnTypeName\":\"FLOAT\"},{\"columnNumber\":2,\"columnName\":\"MannWhitneyPValue\",\"columnTypeName\":\"FLOAT\"},{\"columnNumber\":3,\"columnName\":\"MannWhitneyCallP_5E-2\",\"columnTypeName\":\"VARCHAR\",\"length\":1,\"scale\":1}]}"
     },
     "output_type": "execute_result"
    }
   ],
   "source": [
    "call ${VALDB}.td_analyze('ranktest',\n",
    "                         'teststyle=mw;\n",
    "                          statsdatabase=${VALDB};\n",
    "                          independent=true;\n",
    "                          database=${QLID};\n",
    "                          tablename=VAL_ADS;\n",
    "                          columnofinterest=tot_income;\n",
    "                          columns=female_ind,cc_acct_ind,ck_acct_ind,sv_acct_ind; ');"
   ]
  },
  {
   "cell_type": "markdown",
   "metadata": {},
   "source": [
    "<p style = 'font-size:16px;font-family:Arial'>3.  Wilcoxon Test - the threshold probability assumes the default value of 0.05.</p>"
   ]
  },
  {
   "cell_type": "code",
   "execution_count": 34,
   "metadata": {},
   "outputs": [
    {
     "data": {
      "text/plain": [
       "Success: 0 rows affected"
      ]
     },
     "execution_count": 34,
     "metadata": {
      "application/vnd.teradata.resultset": ""
     },
     "output_type": "execute_result"
    },
    {
     "data": {
      "application/vnd.teradata.resultset": "\"tot_cust_years\",\"N\",\"Z_\",\"WilcoxonPValue\",\"WilcoxonCallP_5E-2\"\n\"11\",\"315\",\"-8.214871312499245\",\"6e-07\",\"n\"\n\"13\",\"39\",\"-2.6793596002730693\",\"0.007384332\",\"n\"\n\"7\",\"918\",\"-11.640686617914307\",\"6e-07\",\"n\"\n\"5\",\"1010\",\"-16.95474369795407\",\"6e-07\",\"n\"\n\"9\",\"681\",\"-9.077457386798521\",\"6e-07\",\"n\"\n\"4\",\"977\",\"-18.779568835263486\",\"6e-07\",\"n\"\n\"0\",\"150\",\"-4.790039389110829\",\"1.669944e-06\",\"n\"\n\"14\",\"33\",\"-2.206676899498888\",\"0.027313964\",\"n\"\n\"3\",\"1003\",\"-17.354268985435144\",\"6e-07\",\"n\"\n\"1\",\"454\",\"-8.994275181286014\",\"6e-07\",\"n\"\n\"12\",\"147\",\"-4.46411081392879\",\"8.05146e-06\",\"n\"\n\"6\",\"960\",\"-14.602984867720217\",\"6e-07\",\"n\"\n\"10\",\"499\",\"-8.6585722063289\",\"6e-07\",\"n\"\n\"8\",\"804\",\"-9.852421542827756\",\"6e-07\",\"n\"\n\"2\",\"774\",\"-13.474895003968802\",\"6e-07\",\"n\"",
      "text/html": [
       "<div class = \"td-resultset-table-div\" style = \"max-height: 100%; overflow-y: auto\">\n",
       "      <table class=\"tdhistory756163\"><style>\n",
       "      table.tdhistory756163 { display: block !important; min-height: 399px !important; overflow: auto !important; height: 399px !important; width: 100% !important; border: 1px solid rgb(207, 207, 207) !important; border-collapse: collapse !important; ; color: var(--jp-ui-font-color1) !important; }\n",
       "      th.tdhistory756163 { border: 1px solid rgb(198,198,198) !important; border-collapse: collapse !important; ; padding: 2px 5px !important; ; font-size: 13px !important; ; text-align: center !important; white-space: normal !important; color: var(--jp-ui-font-color1) !important; }\n",
       "      th.tdhistory756163:last-child { text-align: left !important; }\n",
       "      tbody.tdhistory756163 tr:nth-child(even) { background: rgba(243, 243, 243, 0.75) !important; }\n",
       "      tbody.tdhistory756163 tr:nth-child(odd) { background: var(--jp-ui-inverse-font-color1) !important; }\n",
       "      td.tdhistory756163 { border: 1px solid rgb(207, 207, 207) !important; border-collapse: collapse !important; ; padding: 2px 5px !important; ; font-size: 13px !important; ; text-align: left !important;          white-space: nowrap !important; overflow:hidden !important; text-overflow:ellipsis !important;; }\n",
       "    </style><thead><tr style= \"background: rgba(243, 243, 243, 0.75)\"><th class=\"tdhistory756163\"></th><th class=\"tdhistory756163\">tot_cust_years</th><th class=\"tdhistory756163\">N</th><th class=\"tdhistory756163\">Z_</th><th class=\"tdhistory756163\">WilcoxonPValue</th><th class=\"tdhistory756163\">WilcoxonCallP_5E-2</th></tr></thead><tbody class=\"tdhistory756163 resultset-body\"><tr><th class=\"tdhistory756163\" style= \"background: rgba(243, 243, 243, 0.75)\">1</th><td class=\"tdhistory756163\">11</td><td class=\"tdhistory756163\">315</td><td class=\"tdhistory756163\">-8.214871312499245</td><td class=\"tdhistory756163\">6e-07</td><td class=\"tdhistory756163\">n</td></tr><tr><th class=\"tdhistory756163\" style= \"background: rgba(243, 243, 243, 0.75)\">2</th><td class=\"tdhistory756163\">13</td><td class=\"tdhistory756163\">39</td><td class=\"tdhistory756163\">-2.6793596002730693</td><td class=\"tdhistory756163\">0.007384332</td><td class=\"tdhistory756163\">n</td></tr><tr><th class=\"tdhistory756163\" style= \"background: rgba(243, 243, 243, 0.75)\">3</th><td class=\"tdhistory756163\">7</td><td class=\"tdhistory756163\">918</td><td class=\"tdhistory756163\">-11.640686617914307</td><td class=\"tdhistory756163\">6e-07</td><td class=\"tdhistory756163\">n</td></tr><tr><th class=\"tdhistory756163\" style= \"background: rgba(243, 243, 243, 0.75)\">4</th><td class=\"tdhistory756163\">5</td><td class=\"tdhistory756163\">1010</td><td class=\"tdhistory756163\">-16.95474369795407</td><td class=\"tdhistory756163\">6e-07</td><td class=\"tdhistory756163\">n</td></tr><tr><th class=\"tdhistory756163\" style= \"background: rgba(243, 243, 243, 0.75)\">5</th><td class=\"tdhistory756163\">9</td><td class=\"tdhistory756163\">681</td><td class=\"tdhistory756163\">-9.077457386798521</td><td class=\"tdhistory756163\">6e-07</td><td class=\"tdhistory756163\">n</td></tr><tr><th class=\"tdhistory756163\" style= \"background: rgba(243, 243, 243, 0.75)\">6</th><td class=\"tdhistory756163\">4</td><td class=\"tdhistory756163\">977</td><td class=\"tdhistory756163\">-18.779568835263486</td><td class=\"tdhistory756163\">6e-07</td><td class=\"tdhistory756163\">n</td></tr><tr><th class=\"tdhistory756163\" style= \"background: rgba(243, 243, 243, 0.75)\">7</th><td class=\"tdhistory756163\">0</td><td class=\"tdhistory756163\">150</td><td class=\"tdhistory756163\">-4.790039389110829</td><td class=\"tdhistory756163\">1.669944e-06</td><td class=\"tdhistory756163\">n</td></tr><tr><th class=\"tdhistory756163\" style= \"background: rgba(243, 243, 243, 0.75)\">8</th><td class=\"tdhistory756163\">14</td><td class=\"tdhistory756163\">33</td><td class=\"tdhistory756163\">-2.206676899498888</td><td class=\"tdhistory756163\">0.027313964</td><td class=\"tdhistory756163\">n</td></tr><tr><th class=\"tdhistory756163\" style= \"background: rgba(243, 243, 243, 0.75)\">9</th><td class=\"tdhistory756163\">3</td><td class=\"tdhistory756163\">1003</td><td class=\"tdhistory756163\">-17.354268985435144</td><td class=\"tdhistory756163\">6e-07</td><td class=\"tdhistory756163\">n</td></tr><tr><th class=\"tdhistory756163\" style= \"background: rgba(243, 243, 243, 0.75)\">10</th><td class=\"tdhistory756163\">1</td><td class=\"tdhistory756163\">454</td><td class=\"tdhistory756163\">-8.994275181286014</td><td class=\"tdhistory756163\">6e-07</td><td class=\"tdhistory756163\">n</td></tr><tr><th class=\"tdhistory756163\" style= \"background: rgba(243, 243, 243, 0.75)\">11</th><td class=\"tdhistory756163\">12</td><td class=\"tdhistory756163\">147</td><td class=\"tdhistory756163\">-4.46411081392879</td><td class=\"tdhistory756163\">8.05146e-06</td><td class=\"tdhistory756163\">n</td></tr><tr><th class=\"tdhistory756163\" style= \"background: rgba(243, 243, 243, 0.75)\">12</th><td class=\"tdhistory756163\">6</td><td class=\"tdhistory756163\">960</td><td class=\"tdhistory756163\">-14.602984867720217</td><td class=\"tdhistory756163\">6e-07</td><td class=\"tdhistory756163\">n</td></tr><tr><th class=\"tdhistory756163\" style= \"background: rgba(243, 243, 243, 0.75)\">13</th><td class=\"tdhistory756163\">10</td><td class=\"tdhistory756163\">499</td><td class=\"tdhistory756163\">-8.6585722063289</td><td class=\"tdhistory756163\">6e-07</td><td class=\"tdhistory756163\">n</td></tr><tr><th class=\"tdhistory756163\" style= \"background: rgba(243, 243, 243, 0.75)\">14</th><td class=\"tdhistory756163\">8</td><td class=\"tdhistory756163\">804</td><td class=\"tdhistory756163\">-9.852421542827756</td><td class=\"tdhistory756163\">6e-07</td><td class=\"tdhistory756163\">n</td></tr><tr><th class=\"tdhistory756163\" style= \"background: rgba(243, 243, 243, 0.75)\">15</th><td class=\"tdhistory756163\">2</td><td class=\"tdhistory756163\">774</td><td class=\"tdhistory756163\">-13.474895003968802</td><td class=\"tdhistory756163\">6e-07</td><td class=\"tdhistory756163\">n</td></tr></tbody></table></div>"
      ]
     },
     "execution_count": 34,
     "metadata": {
      "application/vnd.teradata.resultset": "{\"resultSetID\":\"/home/jovyan/JupyterLabRoot/Teradata/Resultsets/2023.01.06_06.17.54.183_UTC\",\"historyID\":399,\"chunkID\":\"00001\",\"sessionid\":\"\",\"portnum\":\"\",\"dockermode\":\"docker\",\"totalRowCount\":15,\"chunkCount\":0,\"rowLimit\":0,\"columnMetadata\":[{\"columnName\":\"tot_cust_years\",\"columnTypeName\":\"INTEGER\"},{\"columnNumber\":1,\"columnName\":\"N\",\"columnTypeName\":\"FLOAT\"},{\"columnNumber\":2,\"columnName\":\"Z_\",\"columnTypeName\":\"FLOAT\"},{\"columnNumber\":3,\"columnName\":\"WilcoxonPValue\",\"columnTypeName\":\"FLOAT\"},{\"columnNumber\":4,\"columnName\":\"WilcoxonCallP_5E-2\",\"columnTypeName\":\"VARCHAR\",\"length\":1,\"scale\":1}]}"
     },
     "output_type": "execute_result"
    }
   ],
   "source": [
    "call ${VALDB}.td_analyze('ranktest',\n",
    "                         'teststyle=wilcoxon;\n",
    "                          statsdatabase=${VALDB};\n",
    "                          database=${QLID};\n",
    "                          tablename=VAL_ADS;\n",
    "                          firstcolumn=ck_avg_bal;\n",
    "                          secondcolumn=sv_avg_bal;\n",
    "                          groupby=tot_cust_years; ');"
   ]
  },
  {
   "cell_type": "markdown",
   "metadata": {},
   "source": [
    "<p style = 'font-size:16px;font-family:Arial'>4.  A Friedman Test using a specially prepared input table called VAL_Friedman_WorkTable.  To build the VALFriedmanWorkTable, the following SQL may be used.  Note that the value ‘18’ is the smallest count of value combinations in the gender and marital_status columns in the Customer table.  The value '18'  is determined using the following query:</p>"
   ]
  },
  {
   "cell_type": "code",
   "execution_count": 35,
   "metadata": {},
   "outputs": [
    {
     "data": {
      "application/vnd.teradata.resultset": "\"smallest_count\"\n\"252\"",
      "text/html": [
       "<div class = \"td-resultset-table-div\" style = \"max-height: 100%; overflow-y: auto\">\n",
       "      <table class=\"tdhistory269505\"><style>\n",
       "      table.tdhistory269505 { display: block !important; min-height: 105px !important; overflow: auto !important; height: 105px !important; width: 100% !important; border: 1px solid rgb(207, 207, 207) !important; border-collapse: collapse !important; ; color: var(--jp-ui-font-color1) !important; }\n",
       "      th.tdhistory269505 { border: 1px solid rgb(198,198,198) !important; border-collapse: collapse !important; ; padding: 2px 5px !important; ; font-size: 13px !important; ; text-align: center !important; white-space: normal !important; color: var(--jp-ui-font-color1) !important; }\n",
       "      th.tdhistory269505:last-child { text-align: left !important; }\n",
       "      tbody.tdhistory269505 tr:nth-child(even) { background: rgba(243, 243, 243, 0.75) !important; }\n",
       "      tbody.tdhistory269505 tr:nth-child(odd) { background: var(--jp-ui-inverse-font-color1) !important; }\n",
       "      td.tdhistory269505 { border: 1px solid rgb(207, 207, 207) !important; border-collapse: collapse !important; ; padding: 2px 5px !important; ; font-size: 13px !important; ; text-align: left !important;          white-space: nowrap !important; overflow:hidden !important; text-overflow:ellipsis !important;; }\n",
       "    </style><thead><tr style= \"background: rgba(243, 243, 243, 0.75)\"><th class=\"tdhistory269505\"></th><th class=\"tdhistory269505\">smallest_count</th></tr></thead><tbody class=\"tdhistory269505 resultset-body\"><tr><th class=\"tdhistory269505\" style= \"background: rgba(243, 243, 243, 0.75)\">1</th><td class=\"tdhistory269505\">252</td></tr></tbody></table></div>"
      ]
     },
     "execution_count": 35,
     "metadata": {
      "application/vnd.teradata.resultset": "{\"resultSetID\":\"/home/jovyan/JupyterLabRoot/Teradata/Resultsets/2023.01.06_06.17.54.955_UTC\",\"historyID\":400,\"chunkID\":\"00001\",\"sessionid\":\"\",\"portnum\":\"\",\"dockermode\":\"docker\",\"totalRowCount\":1,\"chunkCount\":0,\"rowLimit\":0,\"columnMetadata\":[{\"columnName\":\"smallest_count\",\"columnTypeName\":\"INTEGER\"}]}"
     },
     "output_type": "execute_result"
    }
   ],
   "source": [
    "SELECT \n",
    "     MIN(\"T0\".\"_val_N\") AS \"smallest_count\"\n",
    "FROM \n",
    "( SELECT \n",
    "     \"S0\".\"marital_status\" AS \"marital_status\"\n",
    "    ,\"S0\".\"gender\" AS \"gender\"\n",
    "    ,COUNT(*) AS \"_val_N\"\n",
    "FROM \"${XSPDB}\".\"Customer\" AS \"S0\"\n",
    "GROUP BY \"S0\".\"marital_status\", \"S0\".\"gender\"\n",
    ") AS \"T0\"\n",
    ";"
   ]
  },
  {
   "cell_type": "code",
   "execution_count": 36,
   "metadata": {},
   "outputs": [
    {
     "ename": "ERROR",
     "evalue": "Unable to run SQL: Unable to run SQL query: Database reported error:3802:Database 'TRNG_XSP' does not exist.",
     "output_type": "error",
     "traceback": [
      "Unable to run SQL: Unable to run SQL query: Database reported error:3802:Database 'TRNG_XSP' does not exist."
     ]
    }
   ],
   "source": [
    "CREATE SET TABLE \"${QLID}\".\"VAL_Friedman_Worktable\" AS (\n",
    "SELECT\n",
    "    \"cust_id\"\n",
    "    ,\"gender\"\n",
    "    ,\"marital_status\"\n",
    "    ,\"income\"\n",
    "    ,\"ckacct\"\n",
    "    ,\"svacct\"\n",
    "    ,SAMPLEID AS \"xSampleId\"\n",
    "FROM \"DEMO_Financial\".\"Customer_Analysis\"\n",
    "SAMPLE \n",
    "    WHEN gender='f' and marital_status='1' THEN 18\n",
    "    WHEN gender='f' and marital_status='2' THEN 18\n",
    "    WHEN gender='f' and marital_status='3' THEN 18\n",
    "    WHEN gender='f' and marital_status='4' THEN 18\n",
    "    WHEN gender='m' and marital_status='1' THEN 18\n",
    "    WHEN gender='m' and marital_status='2' THEN 18\n",
    "    WHEN gender='m' and marital_status='3' THEN 18\n",
    "    WHEN gender='m' and marital_status='4' THEN 18\n",
    "END\n",
    ") WITH DATA PRIMARY INDEX(\"cust_id\");"
   ]
  },
  {
   "cell_type": "code",
   "execution_count": 37,
   "metadata": {},
   "outputs": [
    {
     "ename": "ERROR",
     "evalue": "Unable to run SQL: Unable to run SQL query: Database reported error:3807:[SQLState 42S02] Object 'demo_user.VAL_Friedman_Worktable' does not exist.",
     "output_type": "error",
     "traceback": [
      "Unable to run SQL: Unable to run SQL query: Database reported error:3807:[SQLState 42S02] Object 'demo_user.VAL_Friedman_Worktable' does not exist."
     ]
    }
   ],
   "source": [
    "call ${VALDB}.td_analyze('ranktest',\n",
    "                         'teststyle=friedman;\n",
    "                          statsdatabase=${VALDB};\n",
    "                          database=${QLID};\n",
    "                          tablename=VAL_Friedman_Worktable;\n",
    "                          columnofinterest=income;\n",
    "                          treatmentcolumn=gender;\n",
    "                          blockcolumn=marital_status;');"
   ]
  },
  {
   "cell_type": "markdown",
   "metadata": {},
   "source": [
    "---"
   ]
  },
  {
   "cell_type": "markdown",
   "metadata": {},
   "source": [
    "<p style = 'font-size:20px;font-family:Arial;color:#E37C4D'><b>8. Chi Square Tests</b></p>\n",
    "\n",
    "<p style = 'font-size:16px;font-family:Arial;color:#E37C4D'><b>Purpose</b></p>\n",
    "\n",
    "<p style = 'font-size:16px;font-family:Arial'>Statistical tests of this type are based on a matrix of frequencies or counts.  A frequency pattern that is non-random is sought in the matrix.  Supported tests of this type include the following:\n",
    "\n",
    "<li>Chi Square Test</li>\n",
    "</p>\n",
    "\n",
    "<p style = 'font-size:16px;font-family:Arial'>Besides a Chi Square value, other measures are computed in a Chi Square Test, including a Phi Coefficient,  Cramer’s V, Likelihood Ratio Chi Square, Continuity-Adjusted Chi Square and Contingency Coefficient.\n",
    "\n",
    "<li>Median Test</li>\n",
    "</p>\n",
    "    \n",
    "<p style = 'font-size:16px;font-family:Arial'>A Median Test is a variation of Chi Square Test wherein samples are tested to see if their populations have the same median value.</p>\n",
    "\n",
    "<p style = 'font-size:16px;font-family:Arial;color:#E37C4D'><b>Required Parameters</b></p>\n",
    "\n",
    "<p style = 'font-size:16px;font-family:Arial'><b>- **chisquaretest**</b></p>\n",
    "\n",
    "<p style = 'font-size:16px;font-family:Arial'>The chisquaretest parameter:\n",
    "    \n",
    "<li>Is required</li>\n",
    "<li>Must be the first parameter</li>\n",
    "<li>Is always enclosed in single quotes</li>\n",
    "</p>\n",
    "\n",
    "<p style = 'font-size:16px;font-family:Arial'><b>- **database**</b></p>\n",
    "\n",
    "<p style = 'font-size:16px;font-family:Arial'>The database containing the table to analyze.</p>\n",
    "\n",
    "<p style = 'font-size:16px;font-family:Arial'><b>- **tablename**</b></p>\n",
    "\n",
    "<p style = 'font-size:16px;font-family:Arial'>The table containing the columns to analyze.  It must reside in the database indicated by the database parameter.</p>\n",
    "\n",
    "<p style = 'font-size:16px;font-family:Arial;color:#E37C4D'><b>Optional Parameters</b></p>\n",
    "\n",
    "<p style = 'font-size:16px;font-family:Arial'><b>- **columnofinterest**</b></p>\n",
    "\n",
    "<p style = 'font-size:16px;font-family:Arial'>Used only by the Median Test, the column specified with this parameter indicates the dependent variable (numeric).  It must reside in the table indicated by the tablename parameter.</p>\n",
    "\n",
    "<p style = 'font-size:16px;font-family:Arial'><b>- **columns**</b></p>\n",
    "\n",
    "<p style = 'font-size:16px;font-family:Arial'>Used only by the Median Test, the columns specified with this parameter represent the independent variables (categorical). They must reside in the table indicated by the tablename parameter.</p>\n",
    "\n",
    "<p style = 'font-size:16px;font-family:Arial'><b>- **fallback**</b></p>\n",
    "\n",
    "<p style = 'font-size:16px;font-family:Arial'>When true, FALLBACK is requested as an attribute of the created output results table.  When false or parameter not specified, the FALLBACK attribute is not included in the create table SQL.</p>\n",
    "\n",
    "<p style = 'font-size:16px;font-family:Arial'><b>- **firstcolumns**</b></p>\n",
    "\n",
    "<p style = 'font-size:16px;font-family:Arial'>Used only by the Chi Square Test, one or more columns representing the first of variable pairs for analysis. They must reside in the table indicated by the tablename parameter.  Note that the number of combinations of firstcolumns and secondcolumns may not exceed 100.  Note also that if the product of the number distinct values in these column pairs exceeds 2000, the analysis of that combination is skipped (but not if gensqlonly is true).</p>\n",
    "\n",
    "<p style = 'font-size:16px;font-family:Arial'><b>- **gensqlonly**</b></p>\n",
    "\n",
    "<p style = 'font-size:16px;font-family:Arial'>When true, the SQL for the requested function is returned as a result set but not run. When not specified or set to false, the SQL is run but not returned.</p>\n",
    "\n",
    "<p style = 'font-size:16px;font-family:Arial'><b>- **groupby**</b></p>\n",
    "\n",
    "<p style = 'font-size:16px;font-family:Arial'>Available only in the Median Test, one or more group-by columns may optionally be specified so that a separate result is produced for each value or combination of values in the specified column or columns.</p>\n",
    "\n",
    "<p style = 'font-size:16px;font-family:Arial'><b>- **multiset**</b></p>\n",
    "\n",
    "<p style = 'font-size:16px;font-family:Arial'>When true, MULTISET is requested as an attribute of the created output results table.  When false or parameter not specified, the MULTISET attribute is not included in the create table SQL.</p>\n",
    "\n",
    "<p style = 'font-size:16px;font-family:Arial'><b>- **outputdatabase**</b></p>\n",
    "\n",
    "<p style = 'font-size:16px;font-family:Arial'>Specifies the name of the database to contain the analysis results table.</p>\n",
    "\n",
    "<p style = 'font-size:16px;font-family:Arial'><b>- **outputtablename**</b></p>\n",
    "\n",
    "<p style = 'font-size:16px;font-family:Arial'>Specifies the name of the table to store the analysis results. If not supplied, the results are returned as a result set.</p>\n",
    "\n",
    "<p style = 'font-size:16px;font-family:Arial'><b>- **overwrite**</b></p>\n",
    "\n",
    "<p style = 'font-size:16px;font-family:Arial'>When overwrite is set to true or not set, the output table is dropped before creating a new one.</p>\n",
    "\n",
    "<p style = 'font-size:16px;font-family:Arial'><b>- **secondcolumns**</b></p>\n",
    "\n",
    "<p style = 'font-size:16px;font-family:Arial'>Used only by the Chi Square Test, one or more columns representing the second of variable pairs for analysis. They must reside in the table indicated by the tablename parameter.  Note that the number of combinations of firstcolumns and secondcolumns may not exceed 100.  Note also that if the product of the number distinct values in these column pairs exceeds 2000, the analysis of that combination is skipped (but not if gensqlonly is true).</p>\n",
    "\n",
    "<p style = 'font-size:16px;font-family:Arial'><b>- **statsdatabase**</b></p>\n",
    "\n",
    "<p style = 'font-size:16px;font-family:Arial'>This is the database where the statistical test metadata tables are installed.  If not specified, the source database is searched for these metadata tables.</p>\n",
    "\n",
    "<p style = 'font-size:16px;font-family:Arial'><b>- **teststyle**</b></p>\n",
    "\n",
    "<p style = 'font-size:16px;font-family:Arial'>The valid values are chisq and median, representing a Chi Square or Median test.  If not specified, the default test style is Chi Square (chisq).</p>\n",
    "\n",
    "<p style = 'font-size:16px;font-family:Arial'><b>- **thresholdprobability**</b></p>\n",
    "\n",
    "<p style = 'font-size:16px;font-family:Arial'>You may optionally change the threshold probability or allow it to default to 0.05.  Below this \"alpha\" probability the null hypothesis is rejected.</p>"
   ]
  },
  {
   "cell_type": "markdown",
   "metadata": {},
   "source": [
    "---------------------------"
   ]
  },
  {
   "cell_type": "markdown",
   "metadata": {},
   "source": [
    "<p style = 'font-size:16px;font-family:Arial'>1.  Chi Square Test with non-persisted results.</p>"
   ]
  },
  {
   "cell_type": "code",
   "execution_count": 38,
   "metadata": {},
   "outputs": [
    {
     "data": {
      "text/plain": [
       "Success: 0 rows affected"
      ]
     },
     "execution_count": 38,
     "metadata": {
      "application/vnd.teradata.resultset": ""
     },
     "output_type": "execute_result"
    },
    {
     "data": {
      "application/vnd.teradata.resultset": "\"column1\",\"column2\",\"Chisq\",\"DF\",\"Z\",\"CramersV\",\"PhiCoeff\",\"LlhChiSq\",\"ContAdjChiSq\",\"ContinCoeff\",\"ChiPValue\",\"ChiPText\",\"ChiCallP_5E-2\"\n\"female_ind\",\"ck_acct_ind\",\"51.96329114361818\",\"1\",\"6.266072413236709\",\"0.07048943119690093\",\"0.07048943119690093\",\"51.79027403137195\",\"51.65502985345838\",\"0.07031495858282666\",\"0.0001\",\"<0.0001\",\"p\"\n\"single_ind\",\"sv_acct_ind\",\"111.33800714811451\",\"1\",\"8.555265794438732\",\"0.10318044653217087\",\"0.10318044653217087\",\"112.15138339109859\",\"110.90737820419025\",\"0.10263555340590276\",\"0.0001\",\"<0.0001\",\"p\"\n\"female_ind\",\"sv_acct_ind\",\"73.52013882165667\",\"1\",\"7.236808261366889\",\"0.08384532268145403\",\"0.08384532268145403\",\"73.48997707707434\",\"73.17998066361037\",\"0.08355214963436527\",\"0.0001\",\"<0.0001\",\"p\"\n\"single_ind\",\"cc_acct_ind\",\"21.541917084755497\",\"1\",\"4.252562129760672\",\"0.04538557648792909\",\"0.04538557648792909\",\"21.461624947837834\",\"21.347967794596418\",\"0.04533890482563551\",\"0.0001\",\"<0.0001\",\"p\"\n\"single_ind\",\"ck_acct_ind\",\"3.722261430607426\",\"1\",\"1.6376557333933495\",\"0.018865969038997184\",\"0.018865969038997184\",\"3.7119507979566606\",\"3.6377618158186986\",\"0.018862612501963423\",\"0.055246604425102215\",\"\",\"a\"\n\"female_ind\",\"cc_acct_ind\",\"84.45466569698048\",\"1\",\"7.657179013939365\",\"0.08986436396365856\",\"0.08986436396365856\",\"84.2873938591323\",\"84.08086832585147\",\"0.08950369247502081\",\"0.0001\",\"<0.0001\",\"p\"",
      "text/html": [
       "<div class = \"td-resultset-table-div\" style = \"max-height: 100%; overflow-y: auto\">\n",
       "      <table class=\"tdhistory113653\"><style>\n",
       "      table.tdhistory113653 { display: block !important; min-height: 210px !important; overflow: auto !important; height: 210px !important; width: 100% !important; border: 1px solid rgb(207, 207, 207) !important; border-collapse: collapse !important; ; color: var(--jp-ui-font-color1) !important; }\n",
       "      th.tdhistory113653 { border: 1px solid rgb(198,198,198) !important; border-collapse: collapse !important; ; padding: 2px 5px !important; ; font-size: 13px !important; ; text-align: center !important; white-space: normal !important; color: var(--jp-ui-font-color1) !important; }\n",
       "      th.tdhistory113653:last-child { text-align: left !important; }\n",
       "      tbody.tdhistory113653 tr:nth-child(even) { background: rgba(243, 243, 243, 0.75) !important; }\n",
       "      tbody.tdhistory113653 tr:nth-child(odd) { background: var(--jp-ui-inverse-font-color1) !important; }\n",
       "      td.tdhistory113653 { border: 1px solid rgb(207, 207, 207) !important; border-collapse: collapse !important; ; padding: 2px 5px !important; ; font-size: 13px !important; ; text-align: left !important;          white-space: nowrap !important; overflow:hidden !important; text-overflow:ellipsis !important;; }\n",
       "    </style><thead><tr style= \"background: rgba(243, 243, 243, 0.75)\"><th class=\"tdhistory113653\"></th><th class=\"tdhistory113653\">column1</th><th class=\"tdhistory113653\">column2</th><th class=\"tdhistory113653\">Chisq</th><th class=\"tdhistory113653\">DF</th><th class=\"tdhistory113653\">Z</th><th class=\"tdhistory113653\">CramersV</th><th class=\"tdhistory113653\">PhiCoeff</th><th class=\"tdhistory113653\">LlhChiSq</th><th class=\"tdhistory113653\">ContAdjChiSq</th><th class=\"tdhistory113653\">ContinCoeff</th><th class=\"tdhistory113653\">ChiPValue</th><th class=\"tdhistory113653\">ChiPText</th><th class=\"tdhistory113653\">ChiCallP_5E-2</th></tr></thead><tbody class=\"tdhistory113653 resultset-body\"><tr><th class=\"tdhistory113653\" style= \"background: rgba(243, 243, 243, 0.75)\">1</th><td class=\"tdhistory113653\">female_ind</td><td class=\"tdhistory113653\">ck_acct_ind</td><td class=\"tdhistory113653\">51.96329114361818</td><td class=\"tdhistory113653\">1</td><td class=\"tdhistory113653\">6.266072413236709</td><td class=\"tdhistory113653\">0.07048943119690093</td><td class=\"tdhistory113653\">0.07048943119690093</td><td class=\"tdhistory113653\">51.79027403137195</td><td class=\"tdhistory113653\">51.65502985345838</td><td class=\"tdhistory113653\">0.07031495858282666</td><td class=\"tdhistory113653\">0.0001</td><td class=\"tdhistory113653\"><0.0001</td><td class=\"tdhistory113653\">p</td></tr><tr><th class=\"tdhistory113653\" style= \"background: rgba(243, 243, 243, 0.75)\">2</th><td class=\"tdhistory113653\">single_ind</td><td class=\"tdhistory113653\">sv_acct_ind</td><td class=\"tdhistory113653\">111.33800714811451</td><td class=\"tdhistory113653\">1</td><td class=\"tdhistory113653\">8.555265794438732</td><td class=\"tdhistory113653\">0.10318044653217087</td><td class=\"tdhistory113653\">0.10318044653217087</td><td class=\"tdhistory113653\">112.15138339109859</td><td class=\"tdhistory113653\">110.90737820419025</td><td class=\"tdhistory113653\">0.10263555340590276</td><td class=\"tdhistory113653\">0.0001</td><td class=\"tdhistory113653\"><0.0001</td><td class=\"tdhistory113653\">p</td></tr><tr><th class=\"tdhistory113653\" style= \"background: rgba(243, 243, 243, 0.75)\">3</th><td class=\"tdhistory113653\">female_ind</td><td class=\"tdhistory113653\">sv_acct_ind</td><td class=\"tdhistory113653\">73.52013882165667</td><td class=\"tdhistory113653\">1</td><td class=\"tdhistory113653\">7.236808261366889</td><td class=\"tdhistory113653\">0.08384532268145403</td><td class=\"tdhistory113653\">0.08384532268145403</td><td class=\"tdhistory113653\">73.48997707707434</td><td class=\"tdhistory113653\">73.17998066361037</td><td class=\"tdhistory113653\">0.08355214963436527</td><td class=\"tdhistory113653\">0.0001</td><td class=\"tdhistory113653\"><0.0001</td><td class=\"tdhistory113653\">p</td></tr><tr><th class=\"tdhistory113653\" style= \"background: rgba(243, 243, 243, 0.75)\">4</th><td class=\"tdhistory113653\">single_ind</td><td class=\"tdhistory113653\">cc_acct_ind</td><td class=\"tdhistory113653\">21.541917084755497</td><td class=\"tdhistory113653\">1</td><td class=\"tdhistory113653\">4.252562129760672</td><td class=\"tdhistory113653\">0.04538557648792909</td><td class=\"tdhistory113653\">0.04538557648792909</td><td class=\"tdhistory113653\">21.461624947837834</td><td class=\"tdhistory113653\">21.347967794596418</td><td class=\"tdhistory113653\">0.04533890482563551</td><td class=\"tdhistory113653\">0.0001</td><td class=\"tdhistory113653\"><0.0001</td><td class=\"tdhistory113653\">p</td></tr><tr><th class=\"tdhistory113653\" style= \"background: rgba(243, 243, 243, 0.75)\">5</th><td class=\"tdhistory113653\">single_ind</td><td class=\"tdhistory113653\">ck_acct_ind</td><td class=\"tdhistory113653\">3.722261430607426</td><td class=\"tdhistory113653\">1</td><td class=\"tdhistory113653\">1.6376557333933495</td><td class=\"tdhistory113653\">0.018865969038997184</td><td class=\"tdhistory113653\">0.018865969038997184</td><td class=\"tdhistory113653\">3.7119507979566606</td><td class=\"tdhistory113653\">3.6377618158186986</td><td class=\"tdhistory113653\">0.018862612501963423</td><td class=\"tdhistory113653\">0.055246604425102215</td><td class=\"tdhistory113653\"></td><td class=\"tdhistory113653\">a</td></tr><tr><th class=\"tdhistory113653\" style= \"background: rgba(243, 243, 243, 0.75)\">6</th><td class=\"tdhistory113653\">female_ind</td><td class=\"tdhistory113653\">cc_acct_ind</td><td class=\"tdhistory113653\">84.45466569698048</td><td class=\"tdhistory113653\">1</td><td class=\"tdhistory113653\">7.657179013939365</td><td class=\"tdhistory113653\">0.08986436396365856</td><td class=\"tdhistory113653\">0.08986436396365856</td><td class=\"tdhistory113653\">84.2873938591323</td><td class=\"tdhistory113653\">84.08086832585147</td><td class=\"tdhistory113653\">0.08950369247502081</td><td class=\"tdhistory113653\">0.0001</td><td class=\"tdhistory113653\"><0.0001</td><td class=\"tdhistory113653\">p</td></tr></tbody></table></div>"
      ]
     },
     "execution_count": 38,
     "metadata": {
      "application/vnd.teradata.resultset": "{\"resultSetID\":\"/home/jovyan/JupyterLabRoot/Teradata/Resultsets/2023.01.06_06.18.04.615_UTC\",\"historyID\":403,\"chunkID\":\"00001\",\"sessionid\":\"\",\"portnum\":\"\",\"dockermode\":\"docker\",\"totalRowCount\":6,\"chunkCount\":0,\"rowLimit\":0,\"columnMetadata\":[{\"columnName\":\"column1\",\"columnTypeName\":\"VARCHAR\",\"length\":256,\"scale\":256},{\"columnNumber\":1,\"columnName\":\"column2\",\"columnTypeName\":\"VARCHAR\",\"length\":256,\"scale\":256},{\"columnNumber\":2,\"columnName\":\"Chisq\",\"columnTypeName\":\"FLOAT\"},{\"columnNumber\":3,\"columnName\":\"DF\",\"columnTypeName\":\"BIGINT\"},{\"columnNumber\":4,\"columnName\":\"Z\",\"columnTypeName\":\"FLOAT\"},{\"columnNumber\":5,\"columnName\":\"CramersV\",\"columnTypeName\":\"FLOAT\"},{\"columnNumber\":6,\"columnName\":\"PhiCoeff\",\"columnTypeName\":\"FLOAT\"},{\"columnNumber\":7,\"columnName\":\"LlhChiSq\",\"columnTypeName\":\"FLOAT\"},{\"columnNumber\":8,\"columnName\":\"ContAdjChiSq\",\"columnTypeName\":\"FLOAT\"},{\"columnNumber\":9,\"columnName\":\"ContinCoeff\",\"columnTypeName\":\"FLOAT\"},{\"columnNumber\":10,\"columnName\":\"ChiPValue\",\"columnTypeName\":\"FLOAT\"},{\"columnNumber\":11,\"columnName\":\"ChiPText\",\"columnTypeName\":\"VARCHAR\",\"length\":7,\"scale\":7},{\"columnNumber\":12,\"columnName\":\"ChiCallP_5E-2\",\"columnTypeName\":\"VARCHAR\",\"length\":1,\"scale\":1}]}"
     },
     "output_type": "execute_result"
    }
   ],
   "source": [
    "call ${VALDB}.td_analyze('chisquaretest',\n",
    "                         'statsdatabase=${VALDB};\n",
    "                          teststyle=chisq;\n",
    "                          database=${QLID};\n",
    "                          tablename=VAL_ADS;\n",
    "                          firstcolumns=female_ind,single_ind;\n",
    "                          secondcolumns=sv_acct_ind,cc_acct_ind,ck_acct_ind;');"
   ]
  },
  {
   "cell_type": "markdown",
   "metadata": {},
   "source": [
    "<p style = 'font-size:16px;font-family:Arial'>2.  Chi Square Test with results persisted in an output table.</p>"
   ]
  },
  {
   "cell_type": "code",
   "execution_count": 39,
   "metadata": {},
   "outputs": [
    {
     "data": {
      "text/plain": [
       "Success: 0 rows affected"
      ]
     },
     "execution_count": 39,
     "metadata": {
      "application/vnd.teradata.resultset": ""
     },
     "output_type": "execute_result"
    }
   ],
   "source": [
    "call ${VALDB}.td_analyze('chisquaretest',\n",
    "                         'statsdatabase=${VALDB};\n",
    "                          teststyle=chisq;\n",
    "                          database=${QLID};\n",
    "                          tablename=VAL_ADS;\n",
    "                          firstcolumns=female_ind,single_ind;\n",
    "                          secondcolumns=sv_acct_ind,cc_acct_ind,ck_acct_ind;\n",
    "                          outputdatabase=${QLID};\n",
    "                          outputtablename=_val_chisquare_out;');"
   ]
  },
  {
   "cell_type": "code",
   "execution_count": 40,
   "metadata": {},
   "outputs": [
    {
     "data": {
      "application/vnd.teradata.resultset": "\"column1\",\"column2\",\"Chisq\",\"DF\",\"Z\",\"CramersV\",\"PhiCoeff\",\"LlhChiSq\",\"ContAdjChiSq\",\"ContinCoeff\",\"ChiPValue\",\"ChiPText\",\"ChiCallP_5E-2\"\n\"female_ind\",\"cc_acct_ind\",\"84.45466569698048\",\"1\",\"7.657179013939365\",\"0.08986436396365856\",\"0.08986436396365856\",\"84.28739385913224\",\"84.08086832585147\",\"0.08950369247502081\",\"0.0001\",\"<0.0001\",\"p\"\n\"female_ind\",\"sv_acct_ind\",\"73.52013882165669\",\"1\",\"7.23680826136689\",\"0.08384532268145405\",\"0.08384532268145405\",\"73.48997707707434\",\"73.17998066361037\",\"0.08355214963436529\",\"0.0001\",\"<0.0001\",\"p\"\n\"female_ind\",\"ck_acct_ind\",\"51.963291143618186\",\"1\",\"6.266072413236709\",\"0.07048943119690093\",\"0.07048943119690093\",\"51.79027403137195\",\"51.65502985345838\",\"0.07031495858282666\",\"0.0001\",\"<0.0001\",\"p\"\n\"single_ind\",\"sv_acct_ind\",\"111.33800714811451\",\"1\",\"8.555265794438732\",\"0.10318044653217087\",\"0.10318044653217087\",\"112.15138339109859\",\"110.90737820419025\",\"0.10263555340590276\",\"0.0001\",\"<0.0001\",\"p\"\n\"single_ind\",\"cc_acct_ind\",\"21.5419170847555\",\"1\",\"4.252562129760672\",\"0.04538557648792909\",\"0.04538557648792909\",\"21.461624947837834\",\"21.347967794596414\",\"0.04533890482563551\",\"0.0001\",\"<0.0001\",\"p\"\n\"single_ind\",\"ck_acct_ind\",\"3.7222614306074258\",\"1\",\"1.6376557333933492\",\"0.01886596903899718\",\"0.01886596903899718\",\"3.7119507979566606\",\"3.6377618158186986\",\"0.01886261250196342\",\"0.05524660442510223\",\"\",\"a\"",
      "text/html": [
       "<div class = \"td-resultset-table-div\" style = \"max-height: 100%; overflow-y: auto\">\n",
       "      <table class=\"tdhistory801730\"><style>\n",
       "      table.tdhistory801730 { display: block !important; min-height: 210px !important; overflow: auto !important; height: 210px !important; width: 100% !important; border: 1px solid rgb(207, 207, 207) !important; border-collapse: collapse !important; ; color: var(--jp-ui-font-color1) !important; }\n",
       "      th.tdhistory801730 { border: 1px solid rgb(198,198,198) !important; border-collapse: collapse !important; ; padding: 2px 5px !important; ; font-size: 13px !important; ; text-align: center !important; white-space: normal !important; color: var(--jp-ui-font-color1) !important; }\n",
       "      th.tdhistory801730:last-child { text-align: left !important; }\n",
       "      tbody.tdhistory801730 tr:nth-child(even) { background: rgba(243, 243, 243, 0.75) !important; }\n",
       "      tbody.tdhistory801730 tr:nth-child(odd) { background: var(--jp-ui-inverse-font-color1) !important; }\n",
       "      td.tdhistory801730 { border: 1px solid rgb(207, 207, 207) !important; border-collapse: collapse !important; ; padding: 2px 5px !important; ; font-size: 13px !important; ; text-align: left !important;          white-space: nowrap !important; overflow:hidden !important; text-overflow:ellipsis !important;; }\n",
       "    </style><thead><tr style= \"background: rgba(243, 243, 243, 0.75)\"><th class=\"tdhistory801730\"></th><th class=\"tdhistory801730\">column1</th><th class=\"tdhistory801730\">column2</th><th class=\"tdhistory801730\">Chisq</th><th class=\"tdhistory801730\">DF</th><th class=\"tdhistory801730\">Z</th><th class=\"tdhistory801730\">CramersV</th><th class=\"tdhistory801730\">PhiCoeff</th><th class=\"tdhistory801730\">LlhChiSq</th><th class=\"tdhistory801730\">ContAdjChiSq</th><th class=\"tdhistory801730\">ContinCoeff</th><th class=\"tdhistory801730\">ChiPValue</th><th class=\"tdhistory801730\">ChiPText</th><th class=\"tdhistory801730\">ChiCallP_5E-2</th></tr></thead><tbody class=\"tdhistory801730 resultset-body\"><tr><th class=\"tdhistory801730\" style= \"background: rgba(243, 243, 243, 0.75)\">1</th><td class=\"tdhistory801730\">female_ind</td><td class=\"tdhistory801730\">cc_acct_ind</td><td class=\"tdhistory801730\">84.45466569698048</td><td class=\"tdhistory801730\">1</td><td class=\"tdhistory801730\">7.657179013939365</td><td class=\"tdhistory801730\">0.08986436396365856</td><td class=\"tdhistory801730\">0.08986436396365856</td><td class=\"tdhistory801730\">84.28739385913224</td><td class=\"tdhistory801730\">84.08086832585147</td><td class=\"tdhistory801730\">0.08950369247502081</td><td class=\"tdhistory801730\">0.0001</td><td class=\"tdhistory801730\"><0.0001</td><td class=\"tdhistory801730\">p</td></tr><tr><th class=\"tdhistory801730\" style= \"background: rgba(243, 243, 243, 0.75)\">2</th><td class=\"tdhistory801730\">female_ind</td><td class=\"tdhistory801730\">sv_acct_ind</td><td class=\"tdhistory801730\">73.52013882165669</td><td class=\"tdhistory801730\">1</td><td class=\"tdhistory801730\">7.23680826136689</td><td class=\"tdhistory801730\">0.08384532268145405</td><td class=\"tdhistory801730\">0.08384532268145405</td><td class=\"tdhistory801730\">73.48997707707434</td><td class=\"tdhistory801730\">73.17998066361037</td><td class=\"tdhistory801730\">0.08355214963436529</td><td class=\"tdhistory801730\">0.0001</td><td class=\"tdhistory801730\"><0.0001</td><td class=\"tdhistory801730\">p</td></tr><tr><th class=\"tdhistory801730\" style= \"background: rgba(243, 243, 243, 0.75)\">3</th><td class=\"tdhistory801730\">female_ind</td><td class=\"tdhistory801730\">ck_acct_ind</td><td class=\"tdhistory801730\">51.963291143618186</td><td class=\"tdhistory801730\">1</td><td class=\"tdhistory801730\">6.266072413236709</td><td class=\"tdhistory801730\">0.07048943119690093</td><td class=\"tdhistory801730\">0.07048943119690093</td><td class=\"tdhistory801730\">51.79027403137195</td><td class=\"tdhistory801730\">51.65502985345838</td><td class=\"tdhistory801730\">0.07031495858282666</td><td class=\"tdhistory801730\">0.0001</td><td class=\"tdhistory801730\"><0.0001</td><td class=\"tdhistory801730\">p</td></tr><tr><th class=\"tdhistory801730\" style= \"background: rgba(243, 243, 243, 0.75)\">4</th><td class=\"tdhistory801730\">single_ind</td><td class=\"tdhistory801730\">sv_acct_ind</td><td class=\"tdhistory801730\">111.33800714811451</td><td class=\"tdhistory801730\">1</td><td class=\"tdhistory801730\">8.555265794438732</td><td class=\"tdhistory801730\">0.10318044653217087</td><td class=\"tdhistory801730\">0.10318044653217087</td><td class=\"tdhistory801730\">112.15138339109859</td><td class=\"tdhistory801730\">110.90737820419025</td><td class=\"tdhistory801730\">0.10263555340590276</td><td class=\"tdhistory801730\">0.0001</td><td class=\"tdhistory801730\"><0.0001</td><td class=\"tdhistory801730\">p</td></tr><tr><th class=\"tdhistory801730\" style= \"background: rgba(243, 243, 243, 0.75)\">5</th><td class=\"tdhistory801730\">single_ind</td><td class=\"tdhistory801730\">cc_acct_ind</td><td class=\"tdhistory801730\">21.5419170847555</td><td class=\"tdhistory801730\">1</td><td class=\"tdhistory801730\">4.252562129760672</td><td class=\"tdhistory801730\">0.04538557648792909</td><td class=\"tdhistory801730\">0.04538557648792909</td><td class=\"tdhistory801730\">21.461624947837834</td><td class=\"tdhistory801730\">21.347967794596414</td><td class=\"tdhistory801730\">0.04533890482563551</td><td class=\"tdhistory801730\">0.0001</td><td class=\"tdhistory801730\"><0.0001</td><td class=\"tdhistory801730\">p</td></tr><tr><th class=\"tdhistory801730\" style= \"background: rgba(243, 243, 243, 0.75)\">6</th><td class=\"tdhistory801730\">single_ind</td><td class=\"tdhistory801730\">ck_acct_ind</td><td class=\"tdhistory801730\">3.7222614306074258</td><td class=\"tdhistory801730\">1</td><td class=\"tdhistory801730\">1.6376557333933492</td><td class=\"tdhistory801730\">0.01886596903899718</td><td class=\"tdhistory801730\">0.01886596903899718</td><td class=\"tdhistory801730\">3.7119507979566606</td><td class=\"tdhistory801730\">3.6377618158186986</td><td class=\"tdhistory801730\">0.01886261250196342</td><td class=\"tdhistory801730\">0.05524660442510223</td><td class=\"tdhistory801730\"></td><td class=\"tdhistory801730\">a</td></tr></tbody></table></div>"
      ]
     },
     "execution_count": 40,
     "metadata": {
      "application/vnd.teradata.resultset": "{\"resultSetID\":\"/home/jovyan/JupyterLabRoot/Teradata/Resultsets/2023.01.06_06.18.14.376_UTC\",\"historyID\":405,\"chunkID\":\"00001\",\"sessionid\":\"\",\"portnum\":\"\",\"dockermode\":\"docker\",\"totalRowCount\":6,\"chunkCount\":0,\"rowLimit\":0,\"columnMetadata\":[{\"columnName\":\"column1\",\"columnTypeName\":\"VARCHAR\",\"length\":256,\"scale\":256},{\"columnNumber\":1,\"columnName\":\"column2\",\"columnTypeName\":\"VARCHAR\",\"length\":256,\"scale\":256},{\"columnNumber\":2,\"columnName\":\"Chisq\",\"columnTypeName\":\"FLOAT\"},{\"columnNumber\":3,\"columnName\":\"DF\",\"columnTypeName\":\"BIGINT\"},{\"columnNumber\":4,\"columnName\":\"Z\",\"columnTypeName\":\"FLOAT\"},{\"columnNumber\":5,\"columnName\":\"CramersV\",\"columnTypeName\":\"FLOAT\"},{\"columnNumber\":6,\"columnName\":\"PhiCoeff\",\"columnTypeName\":\"FLOAT\"},{\"columnNumber\":7,\"columnName\":\"LlhChiSq\",\"columnTypeName\":\"FLOAT\"},{\"columnNumber\":8,\"columnName\":\"ContAdjChiSq\",\"columnTypeName\":\"FLOAT\"},{\"columnNumber\":9,\"columnName\":\"ContinCoeff\",\"columnTypeName\":\"FLOAT\"},{\"columnNumber\":10,\"columnName\":\"ChiPValue\",\"columnTypeName\":\"FLOAT\"},{\"columnNumber\":11,\"columnName\":\"ChiPText\",\"columnTypeName\":\"VARCHAR\",\"length\":7,\"scale\":7},{\"columnNumber\":12,\"columnName\":\"ChiCallP_5E-2\",\"columnTypeName\":\"VARCHAR\",\"length\":1,\"scale\":1}]}"
     },
     "output_type": "execute_result"
    }
   ],
   "source": [
    "SELECT * FROM ${QLID}._val_chisquare_out ORDER BY 1;"
   ]
  },
  {
   "cell_type": "markdown",
   "metadata": {},
   "source": [
    "<p style = 'font-size:16px;font-family:Arial'>3.  Median Test with groupby column years_with_bank, thresholdprobability set to 0.01 and results returned in a result set.</p> "
   ]
  },
  {
   "cell_type": "code",
   "execution_count": 41,
   "metadata": {},
   "outputs": [
    {
     "data": {
      "text/plain": [
       "Success: 0 rows affected"
      ]
     },
     "execution_count": 41,
     "metadata": {
      "application/vnd.teradata.resultset": ""
     },
     "output_type": "execute_result"
    },
    {
     "data": {
      "application/vnd.teradata.resultset": "\"years_with_bank\",\"ChiSq\",\"DF\",\"MedianPValue\",\"MedianPText\",\"MedianCallP_1E-2\"\n\"6\",\"67.65712906289531\",\"3\",\"0.0001\",\"<0.0001\",\"p\"\n\"10\",\"20.81869569607782\",\"3\",\"0.00013383716364114627\",\"\",\"p\"\n\"13\",\"2.8559997422237497\",\"3\",\"0.25\",\">0.25\",\"a\"\n\"8\",\"64.78631020023145\",\"3\",\"0.0001\",\"<0.0001\",\"p\"\n\"1\",\"54.205555555555556\",\"3\",\"0.0001\",\"<0.0001\",\"p\"\n\"2\",\"111.94131226907886\",\"3\",\"0.0001\",\"<0.0001\",\"p\"\n\"5\",\"98.98244733043795\",\"3\",\"0.0001\",\"<0.0001\",\"p\"\n\"9\",\"23.73665898145068\",\"3\",\"0.0001\",\"<0.0001\",\"p\"\n\"0\",\"16.604904354904356\",\"3\",\"0.0008843323011702343\",\"\",\"p\"\n\"4\",\"77.54838819017066\",\"3\",\"0.0001\",\"<0.0001\",\"p\"\n\"12\",\"9.167059563099166\",\"3\",\"0.027956035435991015\",\"\",\"a\"\n\"3\",\"100.0969510011295\",\"3\",\"0.0001\",\"<0.0001\",\"p\"\n\"11\",\"0.12788512300707422\",\"3\",\"0.25\",\">0.25\",\"a\"\n\"14\",\"2.233403110047847\",\"3\",\"0.25\",\">0.25\",\"a\"\n\"7\",\"74.72117984547474\",\"3\",\"0.0001\",\"<0.0001\",\"p\"",
      "text/html": [
       "<div class = \"td-resultset-table-div\" style = \"max-height: 100%; overflow-y: auto\">\n",
       "      <table class=\"tdhistory515815\"><style>\n",
       "      table.tdhistory515815 { display: block !important; min-height: 399px !important; overflow: auto !important; height: 399px !important; width: 100% !important; border: 1px solid rgb(207, 207, 207) !important; border-collapse: collapse !important; ; color: var(--jp-ui-font-color1) !important; }\n",
       "      th.tdhistory515815 { border: 1px solid rgb(198,198,198) !important; border-collapse: collapse !important; ; padding: 2px 5px !important; ; font-size: 13px !important; ; text-align: center !important; white-space: normal !important; color: var(--jp-ui-font-color1) !important; }\n",
       "      th.tdhistory515815:last-child { text-align: left !important; }\n",
       "      tbody.tdhistory515815 tr:nth-child(even) { background: rgba(243, 243, 243, 0.75) !important; }\n",
       "      tbody.tdhistory515815 tr:nth-child(odd) { background: var(--jp-ui-inverse-font-color1) !important; }\n",
       "      td.tdhistory515815 { border: 1px solid rgb(207, 207, 207) !important; border-collapse: collapse !important; ; padding: 2px 5px !important; ; font-size: 13px !important; ; text-align: left !important;          white-space: nowrap !important; overflow:hidden !important; text-overflow:ellipsis !important;; }\n",
       "    </style><thead><tr style= \"background: rgba(243, 243, 243, 0.75)\"><th class=\"tdhistory515815\"></th><th class=\"tdhistory515815\">years_with_bank</th><th class=\"tdhistory515815\">ChiSq</th><th class=\"tdhistory515815\">DF</th><th class=\"tdhistory515815\">MedianPValue</th><th class=\"tdhistory515815\">MedianPText</th><th class=\"tdhistory515815\">MedianCallP_1E-2</th></tr></thead><tbody class=\"tdhistory515815 resultset-body\"><tr><th class=\"tdhistory515815\" style= \"background: rgba(243, 243, 243, 0.75)\">1</th><td class=\"tdhistory515815\">6</td><td class=\"tdhistory515815\">67.65712906289531</td><td class=\"tdhistory515815\">3</td><td class=\"tdhistory515815\">0.0001</td><td class=\"tdhistory515815\"><0.0001</td><td class=\"tdhistory515815\">p</td></tr><tr><th class=\"tdhistory515815\" style= \"background: rgba(243, 243, 243, 0.75)\">2</th><td class=\"tdhistory515815\">10</td><td class=\"tdhistory515815\">20.81869569607782</td><td class=\"tdhistory515815\">3</td><td class=\"tdhistory515815\">0.00013383716364114627</td><td class=\"tdhistory515815\"></td><td class=\"tdhistory515815\">p</td></tr><tr><th class=\"tdhistory515815\" style= \"background: rgba(243, 243, 243, 0.75)\">3</th><td class=\"tdhistory515815\">13</td><td class=\"tdhistory515815\">2.8559997422237497</td><td class=\"tdhistory515815\">3</td><td class=\"tdhistory515815\">0.25</td><td class=\"tdhistory515815\">>0.25</td><td class=\"tdhistory515815\">a</td></tr><tr><th class=\"tdhistory515815\" style= \"background: rgba(243, 243, 243, 0.75)\">4</th><td class=\"tdhistory515815\">8</td><td class=\"tdhistory515815\">64.78631020023145</td><td class=\"tdhistory515815\">3</td><td class=\"tdhistory515815\">0.0001</td><td class=\"tdhistory515815\"><0.0001</td><td class=\"tdhistory515815\">p</td></tr><tr><th class=\"tdhistory515815\" style= \"background: rgba(243, 243, 243, 0.75)\">5</th><td class=\"tdhistory515815\">1</td><td class=\"tdhistory515815\">54.205555555555556</td><td class=\"tdhistory515815\">3</td><td class=\"tdhistory515815\">0.0001</td><td class=\"tdhistory515815\"><0.0001</td><td class=\"tdhistory515815\">p</td></tr><tr><th class=\"tdhistory515815\" style= \"background: rgba(243, 243, 243, 0.75)\">6</th><td class=\"tdhistory515815\">2</td><td class=\"tdhistory515815\">111.94131226907886</td><td class=\"tdhistory515815\">3</td><td class=\"tdhistory515815\">0.0001</td><td class=\"tdhistory515815\"><0.0001</td><td class=\"tdhistory515815\">p</td></tr><tr><th class=\"tdhistory515815\" style= \"background: rgba(243, 243, 243, 0.75)\">7</th><td class=\"tdhistory515815\">5</td><td class=\"tdhistory515815\">98.98244733043795</td><td class=\"tdhistory515815\">3</td><td class=\"tdhistory515815\">0.0001</td><td class=\"tdhistory515815\"><0.0001</td><td class=\"tdhistory515815\">p</td></tr><tr><th class=\"tdhistory515815\" style= \"background: rgba(243, 243, 243, 0.75)\">8</th><td class=\"tdhistory515815\">9</td><td class=\"tdhistory515815\">23.73665898145068</td><td class=\"tdhistory515815\">3</td><td class=\"tdhistory515815\">0.0001</td><td class=\"tdhistory515815\"><0.0001</td><td class=\"tdhistory515815\">p</td></tr><tr><th class=\"tdhistory515815\" style= \"background: rgba(243, 243, 243, 0.75)\">9</th><td class=\"tdhistory515815\">0</td><td class=\"tdhistory515815\">16.604904354904356</td><td class=\"tdhistory515815\">3</td><td class=\"tdhistory515815\">0.0008843323011702343</td><td class=\"tdhistory515815\"></td><td class=\"tdhistory515815\">p</td></tr><tr><th class=\"tdhistory515815\" style= \"background: rgba(243, 243, 243, 0.75)\">10</th><td class=\"tdhistory515815\">4</td><td class=\"tdhistory515815\">77.54838819017066</td><td class=\"tdhistory515815\">3</td><td class=\"tdhistory515815\">0.0001</td><td class=\"tdhistory515815\"><0.0001</td><td class=\"tdhistory515815\">p</td></tr><tr><th class=\"tdhistory515815\" style= \"background: rgba(243, 243, 243, 0.75)\">11</th><td class=\"tdhistory515815\">12</td><td class=\"tdhistory515815\">9.167059563099166</td><td class=\"tdhistory515815\">3</td><td class=\"tdhistory515815\">0.027956035435991015</td><td class=\"tdhistory515815\"></td><td class=\"tdhistory515815\">a</td></tr><tr><th class=\"tdhistory515815\" style= \"background: rgba(243, 243, 243, 0.75)\">12</th><td class=\"tdhistory515815\">3</td><td class=\"tdhistory515815\">100.0969510011295</td><td class=\"tdhistory515815\">3</td><td class=\"tdhistory515815\">0.0001</td><td class=\"tdhistory515815\"><0.0001</td><td class=\"tdhistory515815\">p</td></tr><tr><th class=\"tdhistory515815\" style= \"background: rgba(243, 243, 243, 0.75)\">13</th><td class=\"tdhistory515815\">11</td><td class=\"tdhistory515815\">0.12788512300707422</td><td class=\"tdhistory515815\">3</td><td class=\"tdhistory515815\">0.25</td><td class=\"tdhistory515815\">>0.25</td><td class=\"tdhistory515815\">a</td></tr><tr><th class=\"tdhistory515815\" style= \"background: rgba(243, 243, 243, 0.75)\">14</th><td class=\"tdhistory515815\">14</td><td class=\"tdhistory515815\">2.233403110047847</td><td class=\"tdhistory515815\">3</td><td class=\"tdhistory515815\">0.25</td><td class=\"tdhistory515815\">>0.25</td><td class=\"tdhistory515815\">a</td></tr><tr><th class=\"tdhistory515815\" style= \"background: rgba(243, 243, 243, 0.75)\">15</th><td class=\"tdhistory515815\">7</td><td class=\"tdhistory515815\">74.72117984547474</td><td class=\"tdhistory515815\">3</td><td class=\"tdhistory515815\">0.0001</td><td class=\"tdhistory515815\"><0.0001</td><td class=\"tdhistory515815\">p</td></tr></tbody></table></div>"
      ]
     },
     "execution_count": 41,
     "metadata": {
      "application/vnd.teradata.resultset": "{\"resultSetID\":\"/home/jovyan/JupyterLabRoot/Teradata/Resultsets/2023.01.06_06.18.19.654_UTC\",\"historyID\":406,\"chunkID\":\"00001\",\"sessionid\":\"\",\"portnum\":\"\",\"dockermode\":\"docker\",\"totalRowCount\":15,\"chunkCount\":0,\"rowLimit\":0,\"columnMetadata\":[{\"columnName\":\"years_with_bank\",\"columnTypeName\":\"INTEGER\"},{\"columnNumber\":1,\"columnName\":\"ChiSq\",\"columnTypeName\":\"FLOAT\"},{\"columnNumber\":2,\"columnName\":\"DF\",\"columnTypeName\":\"BIGINT\"},{\"columnNumber\":3,\"columnName\":\"MedianPValue\",\"columnTypeName\":\"FLOAT\"},{\"columnNumber\":4,\"columnName\":\"MedianPText\",\"columnTypeName\":\"VARCHAR\",\"length\":7,\"scale\":7},{\"columnNumber\":5,\"columnName\":\"MedianCallP_1E-2\",\"columnTypeName\":\"VARCHAR\",\"length\":1,\"scale\":1}]}"
     },
     "output_type": "execute_result"
    }
   ],
   "source": [
    "call ${VALDB}.td_analyze('chisquaretest', \n",
    "                         'statsdatabase=${VALDB};\n",
    "                          teststyle=median;\n",
    "                          database=${XSPDB};\n",
    "                          tablename=Customer;\n",
    "                          columnofinterest=income;\n",
    "                          columns=marital_status;\n",
    "                          groupby=years_with_bank;\n",
    "                          thresholdprobability=0.01;');"
   ]
  },
  {
   "cell_type": "markdown",
   "metadata": {},
   "source": [
    "---"
   ]
  },
  {
   "cell_type": "markdown",
   "metadata": {},
   "source": [
    "<p style = 'font-size:16px;font-family:Arial'>Since we are in a beta phase, the following command can be used to determine the specific release you are running:</p>"
   ]
  },
  {
   "cell_type": "code",
   "execution_count": 42,
   "metadata": {},
   "outputs": [
    {
     "data": {
      "text/plain": [
       "Success: 0 rows affected"
      ]
     },
     "execution_count": 42,
     "metadata": {
      "application/vnd.teradata.resultset": ""
     },
     "output_type": "execute_result"
    },
    {
     "data": {
      "application/vnd.teradata.resultset": "\"version\"\n\"VAL In-DB 2.1.0.0\"",
      "text/html": [
       "<div class = \"td-resultset-table-div\" style = \"max-height: 100%; overflow-y: auto\">\n",
       "      <table class=\"tdhistory416188\"><style>\n",
       "      table.tdhistory416188 { display: block !important; min-height: 105px !important; overflow: auto !important; height: 105px !important; width: 100% !important; border: 1px solid rgb(207, 207, 207) !important; border-collapse: collapse !important; ; color: var(--jp-ui-font-color1) !important; }\n",
       "      th.tdhistory416188 { border: 1px solid rgb(198,198,198) !important; border-collapse: collapse !important; ; padding: 2px 5px !important; ; font-size: 13px !important; ; text-align: center !important; white-space: normal !important; color: var(--jp-ui-font-color1) !important; }\n",
       "      th.tdhistory416188:last-child { text-align: left !important; }\n",
       "      tbody.tdhistory416188 tr:nth-child(even) { background: rgba(243, 243, 243, 0.75) !important; }\n",
       "      tbody.tdhistory416188 tr:nth-child(odd) { background: var(--jp-ui-inverse-font-color1) !important; }\n",
       "      td.tdhistory416188 { border: 1px solid rgb(207, 207, 207) !important; border-collapse: collapse !important; ; padding: 2px 5px !important; ; font-size: 13px !important; ; text-align: left !important;          white-space: nowrap !important; overflow:hidden !important; text-overflow:ellipsis !important;; }\n",
       "    </style><thead><tr style= \"background: rgba(243, 243, 243, 0.75)\"><th class=\"tdhistory416188\"></th><th class=\"tdhistory416188\">version</th></tr></thead><tbody class=\"tdhistory416188 resultset-body\"><tr><th class=\"tdhistory416188\" style= \"background: rgba(243, 243, 243, 0.75)\">1</th><td class=\"tdhistory416188\">VAL In-DB 2.1.0.0</td></tr></tbody></table></div>"
      ]
     },
     "execution_count": 42,
     "metadata": {
      "application/vnd.teradata.resultset": "{\"resultSetID\":\"/home/jovyan/JupyterLabRoot/Teradata/Resultsets/2023.01.06_06.18.20.050_UTC\",\"historyID\":407,\"chunkID\":\"00001\",\"sessionid\":\"\",\"portnum\":\"\",\"dockermode\":\"docker\",\"totalRowCount\":1,\"chunkCount\":0,\"rowLimit\":0,\"columnMetadata\":[{\"columnName\":\"version\",\"columnTypeName\":\"VARCHAR\",\"length\":17,\"scale\":17}]}"
     },
     "output_type": "execute_result"
    }
   ],
   "source": [
    "call ${VALDB}.td_analyze('version','');"
   ]
  },
  {
   "cell_type": "markdown",
   "metadata": {},
   "source": [
    "<p style = 'font-size:20px;font-family:Arial;color:#E37C4D'><b>15. Cleanup</b></p>\n",
    "<p style = 'font-size:18px;font-family:Arial;color:#E37C4D'><b>Work Tables</b></p>\n",
    "<p style = 'font-size:18px;font-family:Arial'>Clean up work tables to prevent error next time.</p>"
   ]
  },
  {
   "cell_type": "code",
   "execution_count": 43,
   "metadata": {},
   "outputs": [
    {
     "ename": "ERROR",
     "evalue": "Unable to run SQL: Unable to run SQL query: Database reported error:3807:Object 'demo_user.VAL_Friedman_Worktable' does not exist.",
     "output_type": "error",
     "traceback": [
      "Unable to run SQL: Unable to run SQL query: Database reported error:3807:Object 'demo_user.VAL_Friedman_Worktable' does not exist."
     ]
    }
   ],
   "source": [
    "DROP TABLE \"${QLID}\".\"VAL_Friedman_Worktable\";"
   ]
  },
  {
   "cell_type": "code",
   "execution_count": 44,
   "metadata": {},
   "outputs": [
    {
     "data": {
      "text/plain": [
       "Success: 42 rows affected"
      ]
     },
     "execution_count": 44,
     "metadata": {
      "application/vnd.teradata.resultset": ""
     },
     "output_type": "execute_result"
    }
   ],
   "source": [
    "DROP TABLE \"${QLID}\".\"VAL_ADS\";"
   ]
  },
  {
   "cell_type": "markdown",
   "metadata": {},
   "source": [
    "<p style = 'font-size:18px;font-family:Arial;color:#E37C4D'><b>Databases and Tables</b></p>\n",
    "<p style = 'font-size:18px;font-family:Arial'>The following code will clean up tables and databases created above.</p>"
   ]
  },
  {
   "cell_type": "code",
   "execution_count": 45,
   "metadata": {},
   "outputs": [
    {
     "data": {
      "text/plain": [
       "Success: 1 rows affected"
      ]
     },
     "execution_count": 45,
     "metadata": {
      "application/vnd.teradata.resultset": ""
     },
     "output_type": "execute_result"
    }
   ],
   "source": [
    "Database ${QLID};"
   ]
  },
  {
   "cell_type": "code",
   "execution_count": 46,
   "metadata": {},
   "outputs": [
    {
     "data": {
      "text/plain": [
       "Success: 0 rows affected"
      ]
     },
     "execution_count": 46,
     "metadata": {
      "application/vnd.teradata.resultset": ""
     },
     "output_type": "execute_result"
    },
    {
     "data": {
      "application/vnd.teradata.resultset": "\"Message\"\n\"Removed objects related to DEMO_Financial. That ran for 0:00:05.45\"",
      "text/html": [
       "<div class = \"td-resultset-table-div\" style = \"max-height: 100%; overflow-y: auto\">\n",
       "      <table class=\"tdhistory263254\"><style>\n",
       "      table.tdhistory263254 { display: block !important; min-height: 105px !important; overflow: auto !important; height: 105px !important; width: 100% !important; border: 1px solid rgb(207, 207, 207) !important; border-collapse: collapse !important; ; color: var(--jp-ui-font-color1) !important; }\n",
       "      th.tdhistory263254 { border: 1px solid rgb(198,198,198) !important; border-collapse: collapse !important; ; padding: 2px 5px !important; ; font-size: 13px !important; ; text-align: center !important; white-space: normal !important; color: var(--jp-ui-font-color1) !important; }\n",
       "      th.tdhistory263254:last-child { text-align: left !important; }\n",
       "      tbody.tdhistory263254 tr:nth-child(even) { background: rgba(243, 243, 243, 0.75) !important; }\n",
       "      tbody.tdhistory263254 tr:nth-child(odd) { background: var(--jp-ui-inverse-font-color1) !important; }\n",
       "      td.tdhistory263254 { border: 1px solid rgb(207, 207, 207) !important; border-collapse: collapse !important; ; padding: 2px 5px !important; ; font-size: 13px !important; ; text-align: left !important;          white-space: nowrap !important; overflow:hidden !important; text-overflow:ellipsis !important;; }\n",
       "    </style><thead><tr style= \"background: rgba(243, 243, 243, 0.75)\"><th class=\"tdhistory263254\"></th><th class=\"tdhistory263254\">Message</th></tr></thead><tbody class=\"tdhistory263254 resultset-body\"><tr><th class=\"tdhistory263254\" style= \"background: rgba(243, 243, 243, 0.75)\">1</th><td class=\"tdhistory263254\">Removed objects related to DEMO_Financial. That ran for 0:00:05.45</td></tr></tbody></table></div>"
      ]
     },
     "execution_count": 46,
     "metadata": {
      "application/vnd.teradata.resultset": "{\"resultSetID\":\"/home/jovyan/JupyterLabRoot/Teradata/Resultsets/2023.01.06_06.18.26.447_UTC\",\"historyID\":411,\"chunkID\":\"00001\",\"sessionid\":\"\",\"portnum\":\"\",\"dockermode\":\"docker\",\"totalRowCount\":1,\"chunkCount\":0,\"rowLimit\":0,\"columnMetadata\":[{\"columnName\":\"Message\",\"columnTypeName\":\"VARCHAR\",\"length\":68,\"scale\":68}]}"
     },
     "output_type": "execute_result"
    }
   ],
   "source": [
    "call remove_data('DEMO_Financial');"
   ]
  },
  {
   "cell_type": "markdown",
   "metadata": {},
   "source": [
    "<footer style=\"padding:10px;background:#f9f9f9;border-bottom:3px solid #394851\">©2023 Teradata. All Rights Reserved</footer>"
   ]
  }
 ],
 "metadata": {
  "kernelspec": {
   "display_name": "Teradata SQL",
   "language": "Teradata SQL",
   "name": "teradatasql"
  },
  "language_info": {
   "codemirror_mode": "Teradata SQL",
   "file_extension": ".tdrs",
   "mimetype": "application/vnd.teradata.resultset",
   "name": "Teradata SQL",
   "nbconvert_exporter": "",
   "pygments_lexer": "",
   "version": "16.20"
  }
 },
 "nbformat": 4,
 "nbformat_minor": 4
}
