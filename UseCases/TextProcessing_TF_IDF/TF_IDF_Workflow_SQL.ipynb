{
 "cells": [
  {
   "cell_type": "markdown",
   "id": "cbb86ed0-ab87-4be9-ba6d-f8638e4c12cb",
   "metadata": {},
   "source": [
    "<header style=\"padding:1px;background:#f9f9f9;border-top:3px solid #00b2b1\"><img id=\"Teradata-logo\" src=\"https://www.teradata.com/Teradata/Images/Rebrand/Teradata_logo-two_color.png\" alt=\"Teradata\" width=\"220\" align=\"right\" />\n",
    "\n",
    "<b style = 'font-size:28px;font-family:Arial;color:#E37C4D'>Text Term Frequency Analysis - SQL</b>\n",
    "</header>"
   ]
  },
  {
   "cell_type": "markdown",
   "id": "2856fe20-ab2b-4c2a-8356-1ffada0d0a53",
   "metadata": {},
   "source": [
    "<p style = 'font-size:18px;font-family:Arial;color:#E37C4D'><b>Introduction</b></p>\n",
    "<p style = 'font-size:16px;font-family:Arial'>\n",
    "This demo will analyse the text in rows of the table to find the TF-IDF or Term Frequency-Inverse Document Frequency is an indicator of a term's importance in a specific document based on the entire corpus of documents. This is a demonstration of Vantage capabilities for functional demos e.g.\n",
    "    <li style = 'font-size:16px;font-family:Arial'> NGramSplitter Function - tokenizes (splits) an input stream of text and outputs n multigrams (called n-grams) based on the specified Reset, Punctuation, and Delimiter syntax elements.</li>\n",
    "</p>\n",
    "<p style = 'font-size:16px;font-family:Arial'> This notebook demonstrate how the function is used in SQL kernel, there is a similar notebook which shows the same features in Python kernel. </p>"
   ]
  },
  {
   "cell_type": "markdown",
   "id": "874836db-8227-4d7b-804a-ce61ad8fc922",
   "metadata": {},
   "source": [
    "<p style = 'font-size:18px;font-family:Arial;color:#E37C4D'><b>Steps</b></p>\n",
    "<p style = 'font-size:16px;font-family:Arial'>\n",
    "    <li style = 'font-size:16px;font-family:Arial'> Connect to Vantage and read the dataset. </li>\n",
    "    <li style = 'font-size:16px;font-family:Arial'> Use NGramSplitter SQL to create a table of grams of n-size. </li>\n",
    "    <li style = 'font-size:16px;font-family:Arial'> Express SQL to calculate TF-IDF and store the output in a table. </li>\n",
    "    <li style = 'font-size:16px;font-family:Arial'> Basic visualization to show top 30 important terms. </li>\n",
    "</p>"
   ]
  },
  {
   "cell_type": "markdown",
   "id": "d0f5c480-73f4-4259-8805-6ed8fca19d31",
   "metadata": {
    "tags": []
   },
   "source": [
    "<p style = 'font-size:18px;font-family:Arial;color:#E37C4D'> <b> Accessing the Data </b> </p>\n",
    "<p style = 'font-size:16px;font-family:Arial'>These demos will work either with foreign tables accessed from Cloud Storage via NOS or you may import the tables to your machine. If you import data for multiple demos, you may need to use the Data Dictionary \"Manage Your Space\" routine to cleanup tables you no longer need.     \n",
    "    \n",
    "<p style = 'font-size:16px;font-family:Arial'>Use the link below to access the 2 options for using data from the data dictionary notebook:\n",
    "\n",
    "[Click Here to get data for this notebook](../Data_Dictionary/Data_Dictionary.ipynb#TRNG_RETAILDSE)\n",
    "\n",
    "[Click Here to Manage Your Space](../Data_Dictionary/Data_Dictionary.ipynb#Manage_Your_Space)"
   ]
  },
  {
   "cell_type": "markdown",
   "id": "structured-bumper",
   "metadata": {
    "tags": []
   },
   "source": [
    "<p style = 'font-size:28px;font-family:Arial;color:#E37C4D'><b>1. Connect to Vantage and explore the dataset</b></p>\n",
    "Below command will connect to the Vantage environment."
   ]
  },
  {
   "cell_type": "code",
   "execution_count": null,
   "id": "changing-rocket",
   "metadata": {},
   "outputs": [],
   "source": [
    "%connect local"
   ]
  },
  {
   "cell_type": "markdown",
   "id": "diagnostic-allen",
   "metadata": {},
   "source": [
    "<p style = 'font-size:18px;font-family:Arial;color:#E37C4D'> <b> Access data in Vantage  </b> </p>\n",
    "<p style = 'font-size:16px;font-family:Arial'>For this demo, data is already resident in Object Storage which we are accessing via ReadNOS.  Create a reference to the table, and sample the contents.  Data could just as easily reside in permanent tables, another RDBMS, or another Vantage system.</p>"
   ]
  },
  {
   "cell_type": "code",
   "execution_count": null,
   "id": "initial-accountability",
   "metadata": {},
   "outputs": [],
   "source": [
    "sel top 5 * from TRNG_RETAILDSE.WEB_COMMENT;"
   ]
  },
  {
   "cell_type": "markdown",
   "id": "suffering-jewel",
   "metadata": {},
   "source": [
    "<p style = 'font-size:28px;font-family:Arial;color:#E37C4D'><b>2. Use the NGram Splitter SQL Function</b></p>\n",
    "<p style = 'font-size:16px;font-family:Arial'>NGram function will split the corpus of documents into \"terms\" (grams) of selected size.  Specifically, this example will create a table called \"tbl_grams\" that is the result of splitting each \"document\" (review) into two-word chunks (grams).  Each row in this table includes;\n",
    "<ol style = 'font-size:16px;font-family:Arial'>\n",
    "    <li>The two-word chunk (ngram).</li>\n",
    "    <li>The source review id (row_id).</li>\n",
    "     <li>Chunk length (n).</li>\n",
    "     <li>The count of this chunk in the review (frequency).</li>\n",
    "     <li>The count of this chunk in all the reviews (totalcnt)</li>\n",
    "</ol>\n",
    "<p style = 'font-size:16px;font-family:Arial'>\n",
    "The splitting algorithm can be controlled with delimeters, punctuation indicators, etc.</p>"
   ]
  },
  {
   "cell_type": "code",
   "execution_count": null,
   "id": "private-equality",
   "metadata": {},
   "outputs": [],
   "source": [
    "%var ngram=2 "
   ]
  },
  {
   "cell_type": "code",
   "execution_count": null,
   "id": "treated-skill",
   "metadata": {},
   "outputs": [],
   "source": [
    "CREATE MULTISET TABLE tbl_grams AS (\n",
    "    SELECT * FROM NGramSplitter ( \n",
    "        ON ( SELECT * FROM \"TRNG_RETAILDSE\".\"WEB_COMMENT\" )   \n",
    "        USING \n",
    "            TextColumn('comment_text') \n",
    "            Accumulate('comment_id') \n",
    "            Grams('${ngram}') \n",
    "            OverLapping('TRUE') \n",
    "            ConvertToLowerCase('TRUE') \n",
    "            Delimiter(' ') \n",
    "            Punctuation('[`~#^&*()-]') \n",
    "            OutputTotalGramCount('TRUE') \n",
    "            NGramColName('ngram') \n",
    "            GramLengthColName('n') \n",
    "            FrequencyColName('frequency') \n",
    "            TotalCountColName('totalcnt') \n",
    "    ) as ngram_out\n",
    "    )\n",
    "WITH DATA\n",
    "PRIMARY INDEX (comment_id);"
   ]
  },
  {
   "cell_type": "markdown",
   "id": "75ce662f-77de-4304-bede-88dec0bc0c6b",
   "metadata": {},
   "source": [
    "<p style = 'font-size:16px;font-family:Arial'>Let us see how the comment in the table looks like and how its ngram looks. We have taken one comment.</p>"
   ]
  },
  {
   "cell_type": "code",
   "execution_count": null,
   "id": "8b6d561a-680a-436f-a5dd-ad02c3dd378b",
   "metadata": {},
   "outputs": [],
   "source": [
    "select * from TRNG_RETAILDSE.WEB_COMMENT where comment_id = 30;"
   ]
  },
  {
   "cell_type": "code",
   "execution_count": null,
   "id": "c7066268-573b-47ba-a092-6fd826a66539",
   "metadata": {},
   "outputs": [],
   "source": [
    "sel * from tbl_grams where comment_id = 30;"
   ]
  },
  {
   "cell_type": "markdown",
   "id": "2b2ad1ad-ff53-4c21-87e9-b466a9f97a55",
   "metadata": {},
   "source": [
    "<p style = 'font-size:16px;font-family:Arial'>In the table created above we can see the NGram function applied to the web comment column. We can see the frequency and the total number of times the ngram appear in the column.</p>"
   ]
  },
  {
   "cell_type": "markdown",
   "id": "chronic-voluntary",
   "metadata": {},
   "source": [
    "<p style = 'font-size:28px;font-family:Arial;color:#E37C4D'><b>3. Create the TF-IDF Table</b></p>\n",
    "<p style = 'font-size:16px;font-family:Arial'><b>TF-IDF</b> or <b>Term Frequency-Inverse Document Frequency</b> is an indicator of a term's <b>importance</b> in a specific document based on the entire corpus of documents.  This value is calculated by taking the Product of:\n",
    "<ul style = 'font-size:16px;font-family:Arial'>\n",
    "    <li>Term Frequency = (Number of Terms in the Document)/(Number of Terms in the Corpus)</li>\n",
    "    <li>Inverse Document Frequency = Natural Log((Total Number of Documents)/(Number of Documents with the Term))</li>\n",
    " </ul>   \n",
    "<p style = 'font-size:16px;font-family:Arial'>\n",
    "This can be accomplished in SQL using the results table created using NGgram Splitter function in above step:</p>"
   ]
  },
  {
   "cell_type": "code",
   "execution_count": null,
   "id": "martial-simple",
   "metadata": {},
   "outputs": [],
   "source": [
    "CREATE MULTISET TABLE tbl_tf_idf AS (\n",
    "SELECT gr.comment_id as comment_id,\n",
    "gr.\"ngram\" as term,\n",
    "CAST (CAST(gr.frequency AS FLOAT) / CAST(gr.totalcnt AS FLOAT) AS DECIMAL(10,6)) as tf,\n",
    "CAST(LN(sel_docs.tot_docs / sel_docs.tot_term) AS DECIMAL(10,6)) as idf,\n",
    "CAST(idf * tf AS DECIMAL(10,6)) as tf_idf\n",
    "FROM tbl_grams as gr\n",
    "--get the number of docs where each term exists\n",
    "LEFT JOIN (select \"ngram\", tot_term , tot_docs from\n",
    "((SELECT \"ngram\",COUNT(*) as tot_term\n",
    "FROM tbl_grams\n",
    "GROUP BY \"ngram\") terms\n",
    "--get the total doc count and join it to the table\n",
    "CROSS JOIN (SELECT COUNT(DISTINCT comment_id) as tot_docs\n",
    "FROM tbl_grams ) as sum_docs\n",
    ")\n",
    ") sel_docs\n",
    "ON gr.\"ngram\" = sel_docs.\"ngram\"\n",
    "WHERE tf_idf > .5\n",
    "    )\n",
    "WITH DATA\n",
    "PRIMARY INDEX (comment_id);"
   ]
  },
  {
   "cell_type": "code",
   "execution_count": null,
   "id": "clean-duplicate",
   "metadata": {},
   "outputs": [],
   "source": [
    "sel * from tbl_tf_idf where comment_id = 30;"
   ]
  },
  {
   "cell_type": "markdown",
   "id": "academic-paraguay",
   "metadata": {},
   "source": [
    "<p style = 'font-size:28px;font-family:Arial;color:#E37C4D'><b>4. Visualize the Results</b></p>\n",
    "<p style = 'font-size:16px;font-family:Arial'>\n",
    "Builtin Teradata Jupyter modules can provide simple visualizations of the data. Let us plot the top used 30 terms from our data."
   ]
  },
  {
   "cell_type": "code",
   "execution_count": null,
   "id": "joined-validation",
   "metadata": {},
   "outputs": [],
   "source": [
    "sel top 30 term, tf_idf  from tbl_tf_idf order by tf_idf desc"
   ]
  },
  {
   "cell_type": "code",
   "execution_count": null,
   "id": "injured-worth",
   "metadata": {},
   "outputs": [],
   "source": [
    "%chart x=tf_idf, y=term,title=Terms by importance"
   ]
  },
  {
   "cell_type": "markdown",
   "id": "f23faab6-35b7-46c2-a271-f7361be8de3d",
   "metadata": {},
   "source": [
    "<p style = 'font-size:16px;font-family:Arial'>\n",
    "In this plot we are plotting the top 30 terms which are used in the reviews. </p>"
   ]
  },
  {
   "cell_type": "markdown",
   "id": "1d702b1a-28d3-4aa4-8598-3e2251c43244",
   "metadata": {},
   "source": [
    "<p style = 'font-size:28px;font-family:Arial;color:#E37C4D'><b>5.  Clean up</b></p>"
   ]
  },
  {
   "cell_type": "code",
   "execution_count": null,
   "id": "e6519c55-6a89-47d5-b3e2-04c0118ddf2c",
   "metadata": {},
   "outputs": [],
   "source": [
    "DROP TABLE tbl_grams;"
   ]
  },
  {
   "cell_type": "code",
   "execution_count": null,
   "id": "western-major",
   "metadata": {},
   "outputs": [],
   "source": [
    "DROP TABLE tbl_tf_idf;"
   ]
  },
  {
   "cell_type": "markdown",
   "id": "56f0fe75-7830-4bb5-9c65-03d336d18a95",
   "metadata": {},
   "source": [
    "<p style = 'font-size:16px;font-family:Arial'><b>Links:</b></p>\n",
    "<ul style = 'font-size:16px;font-family:Arial'>\n",
    "        <li>Teradata NGramSplitter Function Reference: <a href = 'https://docs.teradata.com/r/Teradata-VantageTM-Analytics-Database-Analytic-Functions-17.20/Text-Analytic-Functions/NGramSplitter'>https://docs.teradata.com/r/Teradata-VantageTM-Analytics-Database-Analytic-Functions-17.20/Text-Analytic-Functions/NGramSplitter</a></li>\n",
    "  \n",
    "</ul>\n",
    "\n"
   ]
  },
  {
   "cell_type": "markdown",
   "id": "chinese-maine",
   "metadata": {},
   "source": [
    "<footer style=\"padding:10px;background:#f9f9f9;border-bottom:3px solid #394851\">©2023 Teradata. All Rights Reserved</footer>"
   ]
  }
 ],
 "metadata": {
  "kernelspec": {
   "display_name": "Teradata SQL",
   "language": "Teradata SQL",
   "name": "teradatasql"
  },
  "language_info": {
   "codemirror_mode": "Teradata SQL",
   "file_extension": ".tdrs",
   "mimetype": "application/vnd.teradata.resultset",
   "name": "Teradata SQL",
   "nbconvert_exporter": "",
   "pygments_lexer": "",
   "version": "16.20"
  }
 },
 "nbformat": 4,
 "nbformat_minor": 5
}
