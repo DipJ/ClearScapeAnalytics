{
 "cells": [
  {
   "cell_type": "markdown",
   "id": "flush-fountain",
   "metadata": {},
   "source": [
    "<header style=\"padding:10px;background:#f9f9f9;border-top:3px solid #00b2b1\"><img id=\"Teradata-logo\" src=\"https://www.teradata.com/Teradata/Images/Rebrand/Teradata_logo-two_color.png\" alt=\"Teradata\" width=\"220\" align=\"right\" />\n",
    " \n",
    "## TF-IDF Workflow in SQL\n",
    "</header>\n",
    "\n",
    "**Notes**\n",
    "* Teradata SQL User Guide: https://docs.teradata.com/r/Teradata-VantageTM-SQL-Fundamentals/July-2021\n",
    "* Getting started with Teradata SQL extension for Jupyter: https://github.com/Teradata/jupyterextensions/blob/master/notebooks/sql/GettingStarted.ipynb\n",
    "* Installing Teradata SQL extension for Jupyter:https://teradata.github.io/jupyterextensions/#/\n",
    "* NGramSplitter Function Reference: https://docs.teradata.com/r/aKnWloeEx3pmus0aivWOaw/0uzj9gM6ureUUJTXhxvmSQ\n",
    "\n",
    "**Steps**\n",
    "1. Replace any hosts, schemas, usernames, etc.\n",
    "2. Connect to existing data set containing fake product comments.\n",
    "3. Use NGramSplitter SQL to create a table of grams of n-size.\n",
    "4. Express SQL to calculate TF-IDF and store the output in a table.\n",
    "5. Retrieve the data as a local dataframe.\n",
    "6. Basic visualization to show top 30 important terms."
   ]
  },
  {
   "cell_type": "markdown",
   "id": "d0f5c480-73f4-4259-8805-6ed8fca19d31",
   "metadata": {
    "tags": []
   },
   "source": [
    "### Accessing the Data\n",
    "<p style = 'font-size:16px;font-family:Arial'>These demos will work either with foreign tables accessed from Cloud Storage via NOS or you may import the tables to your machine. If you import data for multiple demos, you may need to use the Data Dictionary \"Manage Your Space\" routine to cleanup tables you no longer need. \n",
    "    \n",
    "<p style = 'font-size:16px;font-family:Arial'>Use the link below to access the 2 options for using data from the data dictionary notebook:\n",
    "\n",
    "[Click Here to get data for this notebook](../Data_Dictionary/Data_Dictionary.ipynb#TRNG_RETAILDSE)\n",
    "\n",
    "[Click Here to Manage Your Space](../Data_Dictionary/Data_Dictionary.ipynb#Manage_Your_Space)"
   ]
  },
  {
   "cell_type": "markdown",
   "id": "structured-bumper",
   "metadata": {
    "tags": []
   },
   "source": [
    "### Connect to Vantage ###\n",
    "We can use the named connection using the connect magic as part of the Vantage Module for Jupyter."
   ]
  },
  {
   "cell_type": "code",
   "execution_count": 2,
   "id": "changing-rocket",
   "metadata": {},
   "outputs": [
    {
     "name": "stdin",
     "output_type": "stream",
     "text": [
      "Password: ···\n"
     ]
    },
    {
     "name": "stdout",
     "output_type": "stream",
     "text": [
      "Success: 'local' connection established and activated for user 'demo_user'\n"
     ]
    }
   ],
   "source": [
    "%connect local"
   ]
  },
  {
   "cell_type": "markdown",
   "id": "diagnostic-allen",
   "metadata": {},
   "source": [
    "### Access data in Vantage ###\n",
    "For this demo, data is already resident in Vantage.  Create a reference to the table, and sample the contents.  Data could just as easily reside in Object Storage, another RDBMS, or another Vantage system."
   ]
  },
  {
   "cell_type": "code",
   "execution_count": 3,
   "id": "initial-accountability",
   "metadata": {},
   "outputs": [
    {
     "data": {
      "application/vnd.teradata.resultset": "\"comment_id\",\"customer_id\",\"comment_text\",\"comment_summary\"\n\"1672\",\"1059\",\"Can't go wrong with these new charlie's by cartonnier. they fit amazingly. the fabric is a textured cotton but doesn't seem to wrinkle. just shook them out of the bag yesterday. the fabric description says cotton and spandex so they have some give (just a little) but are not going to stretch out after wearing for an hour. paired it with all sorts of different tops. side zip is slimming. lined pockets. substantial fabric. nothing bad to say. if you haven't tried a pair of charlies you should. you\",\"Another winner\"\n\"12072\",\"1033\",\"\",\"\"\n\"12337\",\"868\",\"I love the neckline on this - sharp enough for work, but cute for a fun night out too. only complaint is it's soooo flowy on the bottom. i could hide a baby under here for sure. i got the medium thank goodness or it would have been ridiculous. i'm 5'8, 160lbs. great for fall.\",\"Loose and comfy\"\n\"9992\",\"1110\",\"So cute! i get tons of compliments whenever i wear it. very comfortable. i ordered a petite l and it's a little big. i usually buy the petite m, but due to the under slip i wasn't sure.\",\"\"\n\"7443\",\"941\",\"I ordered my usual sz s during the promo. arrived yesterday & the fit is perfect w/ a little room to spare for layering. it's a snap front closure, front patch pockets, & attached hood that is small to med size-not huge or overwhelming. it's 100% acrylic which isn't my 1st choice, but soft, comfy & seems good quality. length falls abt 3\"\" below my knees. arm length is fine. pretty much looks as in the pic including the marled color. if you are in need of a great functional long swtr w/ good looks\",\"A great long swtr w/ patch pockets!\"",
      "text/html": [
       "<div class = \"td-resultset-table-div\" style = \"max-height: 100%; overflow-y: auto\">\n",
       "      <table class=\"tdhistory470674\"><style>\n",
       "      table.tdhistory470674 { display: block !important; min-height: 189px !important; overflow: auto !important; height: 189px !important; width: 100% !important; border: 1px solid rgb(207, 207, 207) !important; border-collapse: collapse !important; ; color: var(--jp-ui-font-color1) !important; }\n",
       "      th.tdhistory470674 { border: 1px solid rgb(198,198,198) !important; border-collapse: collapse !important; ; padding: 2px 5px !important; ; font-size: 13px !important; ; text-align: center !important; white-space: normal !important; color: var(--jp-ui-font-color1) !important; }\n",
       "      th.tdhistory470674:last-child { text-align: left !important; }\n",
       "      tbody.tdhistory470674 tr:nth-child(even) { background: rgba(243, 243, 243, 0.75) !important; }\n",
       "      tbody.tdhistory470674 tr:nth-child(odd) { background: var(--jp-ui-inverse-font-color1) !important; }\n",
       "      td.tdhistory470674 { border: 1px solid rgb(207, 207, 207) !important; border-collapse: collapse !important; ; padding: 2px 5px !important; ; font-size: 13px !important; ; text-align: left !important;          white-space: nowrap !important; overflow:hidden !important; text-overflow:ellipsis !important;; }\n",
       "    </style><thead><tr style= \"background: rgba(243, 243, 243, 0.75)\"><th class=\"tdhistory470674\"></th><th class=\"tdhistory470674\">comment_id</th><th class=\"tdhistory470674\">customer_id</th><th class=\"tdhistory470674\">comment_text</th><th class=\"tdhistory470674\">comment_summary</th></tr></thead><tbody class=\"tdhistory470674 resultset-body\"><tr><th class=\"tdhistory470674\" style= \"background: rgba(243, 243, 243, 0.75)\">1</th><td class=\"tdhistory470674\">1672</td><td class=\"tdhistory470674\">1059</td><td class=\"tdhistory470674\">Can't go wrong with these new charlie's by cartonnier. they fit amazingly. the fabric is a textured cotton but doesn't seem to wrinkle. just shook them out of the bag yesterday. the fabric description says cotton and spandex so they have some give (just a little) but are not going to stretch out after wearing for an hour. paired it with all sorts of different tops. side zip is slimming. lined pockets. substantial fabric. nothing bad to say. if you haven't tried a pair of charlies you should. you</td><td class=\"tdhistory470674\">Another winner</td></tr><tr><th class=\"tdhistory470674\" style= \"background: rgba(243, 243, 243, 0.75)\">2</th><td class=\"tdhistory470674\">12072</td><td class=\"tdhistory470674\">1033</td><td class=\"tdhistory470674\"></td><td class=\"tdhistory470674\"></td></tr><tr><th class=\"tdhistory470674\" style= \"background: rgba(243, 243, 243, 0.75)\">3</th><td class=\"tdhistory470674\">12337</td><td class=\"tdhistory470674\">868</td><td class=\"tdhistory470674\">I love the neckline on this - sharp enough for work, but cute for a fun night out too. only complaint is it's soooo flowy on the bottom. i could hide a baby under here for sure. i got the medium thank goodness or it would have been ridiculous. i'm 5'8, 160lbs. great for fall.</td><td class=\"tdhistory470674\">Loose and comfy</td></tr><tr><th class=\"tdhistory470674\" style= \"background: rgba(243, 243, 243, 0.75)\">4</th><td class=\"tdhistory470674\">9992</td><td class=\"tdhistory470674\">1110</td><td class=\"tdhistory470674\">So cute! i get tons of compliments whenever i wear it. very comfortable. i ordered a petite l and it's a little big. i usually buy the petite m, but due to the under slip i wasn't sure.</td><td class=\"tdhistory470674\"></td></tr><tr><th class=\"tdhistory470674\" style= \"background: rgba(243, 243, 243, 0.75)\">5</th><td class=\"tdhistory470674\">7443</td><td class=\"tdhistory470674\">941</td><td class=\"tdhistory470674\">I ordered my usual sz s during the promo. arrived yesterday & the fit is perfect w/ a little room to spare for layering. it's a snap front closure, front patch pockets, & attached hood that is small to med size-not huge or overwhelming. it's 100% acrylic which isn't my 1st choice, but soft, comfy & seems good quality. length falls abt 3\" below my knees. arm length is fine. pretty much looks as in the pic including the marled color. if you are in need of a great functional long swtr w/ good looks</td><td class=\"tdhistory470674\">A great long swtr w/ patch pockets!</td></tr></tbody></table></div>"
      ]
     },
     "execution_count": 3,
     "metadata": {
      "application/vnd.teradata.resultset": "{\"resultSetID\":\"/home/jovyan/JupyterLabRoot/Teradata/Resultsets/2022.09.14_14.01.16.497_UTC\",\"historyID\":207,\"chunkID\":\"00001\",\"sessionid\":\"\",\"portnum\":\"\",\"dockermode\":\"docker\",\"totalRowCount\":5,\"chunkCount\":0,\"rowLimit\":0,\"columnMetadata\":[{\"columnName\":\"comment_id\",\"columnTypeName\":\"DECIMAL\",\"precision\":18},{\"columnNumber\":1,\"columnName\":\"customer_id\",\"columnTypeName\":\"DECIMAL\",\"precision\":18},{\"columnNumber\":2,\"columnName\":\"comment_text\",\"columnTypeName\":\"CLOB\",\"length\":50000,\"scale\":50000},{\"columnNumber\":3,\"columnName\":\"comment_summary\",\"columnTypeName\":\"CLOB\",\"length\":50000,\"scale\":50000}]}"
     },
     "output_type": "execute_result"
    }
   ],
   "source": [
    "sel top 5 * from TRNG_RETAILDSE.WEB_COMMENT"
   ]
  },
  {
   "cell_type": "markdown",
   "id": "suffering-jewel",
   "metadata": {},
   "source": [
    "### Use the NGram Splitter SQL Function ###\n",
    "This function will split the corpus of documents into \"terms\" (grams) of selected size.  Specifically, this example will create a table called \"tbl_grams\" that is the result of splitting each \"document\" (review) into two-word chunks (grams).  Each row in this table includes;\n",
    "1. The two-word chunk (ngram).\n",
    "2. The source review id (row_id).\n",
    "3. Chunk length (n).\n",
    "4. The count of this chunk in the review (frequency).\n",
    "5. The count of this chunk in all the reviews (totalcnt).\n",
    "\n",
    "The splitting algorithm can be controlled with delimeters, punctuation indicators, etc."
   ]
  },
  {
   "cell_type": "code",
   "execution_count": 3,
   "id": "palestinian-sensitivity",
   "metadata": {},
   "outputs": [
    {
     "data": {
      "text/plain": [
       "Success: 19 rows affected"
      ]
     },
     "execution_count": 3,
     "metadata": {
      "application/vnd.teradata.resultset": ""
     },
     "output_type": "execute_result"
    }
   ],
   "source": [
    "DROP TABLE tbl_grams;"
   ]
  },
  {
   "cell_type": "code",
   "execution_count": 4,
   "id": "private-equality",
   "metadata": {},
   "outputs": [],
   "source": [
    "%var ngram=2"
   ]
  },
  {
   "cell_type": "code",
   "execution_count": 5,
   "id": "treated-skill",
   "metadata": {},
   "outputs": [
    {
     "data": {
      "text/plain": [
       "Success: 0 rows affected"
      ]
     },
     "execution_count": 5,
     "metadata": {
      "application/vnd.teradata.resultset": ""
     },
     "output_type": "execute_result"
    }
   ],
   "source": [
    "CREATE TABLE tbl_grams AS (\n",
    "    SELECT * FROM NGramSplitter ( \n",
    "        ON ( SELECT * FROM \"TRNG_RETAILDSE\".\"WEB_COMMENT\" )   \n",
    "        USING \n",
    "            TextColumn('comment_text') \n",
    "            Accumulate('comment_id') \n",
    "            Grams('${ngram}') \n",
    "            OverLapping('TRUE') \n",
    "            ConvertToLowerCase('TRUE') \n",
    "            Delimiter(' ') \n",
    "            Punctuation('[`~#^&*()-]') \n",
    "            OutputTotalGramCount('TRUE') \n",
    "            NGramColName('ngram') \n",
    "            GramLengthColName('n') \n",
    "            FrequencyColName('frequency') \n",
    "            TotalCountColName('totalcnt') \n",
    "    ) as ngram_out\n",
    "    )\n",
    "WITH DATA\n",
    "PRIMARY INDEX (comment_id);"
   ]
  },
  {
   "cell_type": "code",
   "execution_count": 6,
   "id": "endless-freight",
   "metadata": {},
   "outputs": [
    {
     "data": {
      "application/vnd.teradata.resultset": "\"comment_id\",\"ngram\",\"n\",\"frequency\",\"totalcnt\"\n\"0\",\"and comfortable\",\"2\",\"1\",\"6\"\n\"0\",\"and sexy\",\"2\",\"1\",\"6\"\n\"0\",\"sexy and\",\"2\",\"1\",\"6\"\n\"0\",\"wonderful silky\",\"2\",\"1\",\"6\"\n\"0\",\"silky and\",\"2\",\"1\",\"6\"",
      "text/html": [
       "<div class = \"td-resultset-table-div\" style = \"max-height: 100%; overflow-y: auto\">\n",
       "      <table class=\"tdhistory742036\"><style>\n",
       "      table.tdhistory742036 { display: block !important; min-height: 189px !important; overflow: auto !important; height: 189px !important; width: 100% !important; border: 1px solid rgb(207, 207, 207) !important; border-collapse: collapse !important; ; color: var(--jp-ui-font-color1) !important; }\n",
       "      th.tdhistory742036 { border: 1px solid rgb(198,198,198) !important; border-collapse: collapse !important; ; padding: 2px 5px !important; ; font-size: 13px !important; ; text-align: center !important; white-space: normal !important; color: var(--jp-ui-font-color1) !important; }\n",
       "      th.tdhistory742036:last-child { text-align: left !important; }\n",
       "      tbody.tdhistory742036 tr:nth-child(even) { background: rgba(243, 243, 243, 0.75) !important; }\n",
       "      tbody.tdhistory742036 tr:nth-child(odd) { background: var(--jp-ui-inverse-font-color1) !important; }\n",
       "      td.tdhistory742036 { border: 1px solid rgb(207, 207, 207) !important; border-collapse: collapse !important; ; padding: 2px 5px !important; ; font-size: 13px !important; ; text-align: left !important;          white-space: nowrap !important; overflow:hidden !important; text-overflow:ellipsis !important;; }\n",
       "    </style><thead><tr style= \"background: rgba(243, 243, 243, 0.75)\"><th class=\"tdhistory742036\"></th><th class=\"tdhistory742036\">comment_id</th><th class=\"tdhistory742036\">ngram</th><th class=\"tdhistory742036\">n</th><th class=\"tdhistory742036\">frequency</th><th class=\"tdhistory742036\">totalcnt</th></tr></thead><tbody class=\"tdhistory742036 resultset-body\"><tr><th class=\"tdhistory742036\" style= \"background: rgba(243, 243, 243, 0.75)\">1</th><td class=\"tdhistory742036\">0</td><td class=\"tdhistory742036\">and comfortable</td><td class=\"tdhistory742036\">2</td><td class=\"tdhistory742036\">1</td><td class=\"tdhistory742036\">6</td></tr><tr><th class=\"tdhistory742036\" style= \"background: rgba(243, 243, 243, 0.75)\">2</th><td class=\"tdhistory742036\">0</td><td class=\"tdhistory742036\">and sexy</td><td class=\"tdhistory742036\">2</td><td class=\"tdhistory742036\">1</td><td class=\"tdhistory742036\">6</td></tr><tr><th class=\"tdhistory742036\" style= \"background: rgba(243, 243, 243, 0.75)\">3</th><td class=\"tdhistory742036\">0</td><td class=\"tdhistory742036\">sexy and</td><td class=\"tdhistory742036\">2</td><td class=\"tdhistory742036\">1</td><td class=\"tdhistory742036\">6</td></tr><tr><th class=\"tdhistory742036\" style= \"background: rgba(243, 243, 243, 0.75)\">4</th><td class=\"tdhistory742036\">0</td><td class=\"tdhistory742036\">wonderful silky</td><td class=\"tdhistory742036\">2</td><td class=\"tdhistory742036\">1</td><td class=\"tdhistory742036\">6</td></tr><tr><th class=\"tdhistory742036\" style= \"background: rgba(243, 243, 243, 0.75)\">5</th><td class=\"tdhistory742036\">0</td><td class=\"tdhistory742036\">silky and</td><td class=\"tdhistory742036\">2</td><td class=\"tdhistory742036\">1</td><td class=\"tdhistory742036\">6</td></tr></tbody></table></div>"
      ]
     },
     "execution_count": 6,
     "metadata": {
      "application/vnd.teradata.resultset": "{\"resultSetID\":\"/home/jovyan/JupyterLabRoot/Teradata/Resultsets/2022.06.27_11.20.31.357_UTC\",\"historyID\":575,\"chunkID\":\"00001\",\"sessionid\":\"\",\"portnum\":\"\",\"dockermode\":\"docker\",\"totalRowCount\":5,\"chunkCount\":0,\"rowLimit\":0,\"columnMetadata\":[{\"columnName\":\"comment_id\",\"columnTypeName\":\"DECIMAL\",\"precision\":18},{\"columnNumber\":1,\"columnName\":\"ngram\",\"columnTypeName\":\"LONG VARCHAR\",\"length\":32000,\"scale\":32000},{\"columnNumber\":2,\"columnName\":\"n\",\"columnTypeName\":\"INTEGER\"},{\"columnNumber\":3,\"columnName\":\"frequency\",\"columnTypeName\":\"INTEGER\"},{\"columnNumber\":4,\"columnName\":\"totalcnt\",\"columnTypeName\":\"INTEGER\"}]}"
     },
     "output_type": "execute_result"
    }
   ],
   "source": [
    "sel top 5 * from tbl_grams"
   ]
  },
  {
   "cell_type": "markdown",
   "id": "chronic-voluntary",
   "metadata": {},
   "source": [
    "### Create the TF-IDF Table ###\n",
    "TF-IDF or ***Term Frequency-Inverse Document Frequency*** is an indicator of a term's *importance* in a specific document based on the entire corpus of documents.  This value is calculated by taking the Product of:\n",
    "* Term Frequency = (Number of Terms in the Document)/(Number of Terms in the Corpus)\n",
    "* Inverse Document Frequency = Natural Log((Total Number of Documents)/(Number of Documents with the Term))\n",
    "\n",
    "This can be accomplished in SQL using the results out the NGgram Splitter function:"
   ]
  },
  {
   "cell_type": "code",
   "execution_count": 7,
   "id": "demographic-vault",
   "metadata": {},
   "outputs": [
    {
     "ename": "ERROR",
     "evalue": "Unable to run SQL: Unable to run SQL query: Database reported error:3807:Object 'tbl_tf_idf' does not exist.",
     "output_type": "error",
     "traceback": [
      "Unable to run SQL: Unable to run SQL query: Database reported error:3807:Object 'tbl_tf_idf' does not exist."
     ]
    }
   ],
   "source": [
    "DROP TABLE tbl_tf_idf;"
   ]
  },
  {
   "cell_type": "code",
   "execution_count": 8,
   "id": "martial-simple",
   "metadata": {},
   "outputs": [
    {
     "data": {
      "text/plain": [
       "Success: 0 rows affected"
      ]
     },
     "execution_count": 8,
     "metadata": {
      "application/vnd.teradata.resultset": ""
     },
     "output_type": "execute_result"
    }
   ],
   "source": [
    "CREATE TABLE tbl_tf_idf AS (\n",
    "SELECT gr.comment_id as comment_id,\n",
    "gr.\"ngram\" as term,\n",
    "CAST (CAST(gr.frequency AS FLOAT) / CAST(gr.totalcnt AS FLOAT) AS DECIMAL(10,6)) as tf,\n",
    "CAST(LN(sel_docs.tot_docs / sel_docs.tot_term) AS DECIMAL(10,6)) as idf,\n",
    "CAST(idf * tf AS DECIMAL(10,6)) as tf_idf\n",
    "FROM tbl_grams as gr\n",
    "--get the number of docs where each term exists\n",
    "LEFT JOIN (select \"ngram\", tot_term , tot_docs from\n",
    "((SELECT \"ngram\",COUNT(*) as tot_term\n",
    "FROM tbl_grams\n",
    "GROUP BY \"ngram\") terms\n",
    "--get the total doc count and join it to the table\n",
    "CROSS JOIN (SELECT COUNT(DISTINCT comment_id) as tot_docs\n",
    "FROM tbl_grams ) as sum_docs\n",
    ")\n",
    ") sel_docs\n",
    "ON gr.\"ngram\" = sel_docs.\"ngram\"\n",
    "WHERE tf_idf > .5\n",
    "    )\n",
    "WITH DATA\n",
    "PRIMARY INDEX (comment_id);"
   ]
  },
  {
   "cell_type": "code",
   "execution_count": 9,
   "id": "clean-duplicate",
   "metadata": {},
   "outputs": [
    {
     "data": {
      "application/vnd.teradata.resultset": "\"comment_id\",\"term\",\"tf\",\"idf\",\"tf_idf\"\n\"18169\",\"is boxier\",\".062500\",\"9.334326\",\".583395\"\n\"18169\",\"transparent fabric\",\".062500\",\"10.027518\",\".626720\"\n\"18169\",\"recommend as\",\".062500\",\"9.334326\",\".583395\"\n\"18169\",\"so open\",\".062500\",\"8.928905\",\".558057\"\n\"18169\",\"slightly transparent\",\".062500\",\"9.334326\",\".583395\"",
      "text/html": [
       "<div class = \"td-resultset-table-div\" style = \"max-height: 100%; overflow-y: auto\">\n",
       "      <table class=\"tdhistory730718\"><style>\n",
       "      table.tdhistory730718 { display: block !important; min-height: 189px !important; overflow: auto !important; height: 189px !important; width: 100% !important; border: 1px solid rgb(207, 207, 207) !important; border-collapse: collapse !important; ; color: var(--jp-ui-font-color1) !important; }\n",
       "      th.tdhistory730718 { border: 1px solid rgb(198,198,198) !important; border-collapse: collapse !important; ; padding: 2px 5px !important; ; font-size: 13px !important; ; text-align: center !important; white-space: normal !important; color: var(--jp-ui-font-color1) !important; }\n",
       "      th.tdhistory730718:last-child { text-align: left !important; }\n",
       "      tbody.tdhistory730718 tr:nth-child(even) { background: rgba(243, 243, 243, 0.75) !important; }\n",
       "      tbody.tdhistory730718 tr:nth-child(odd) { background: var(--jp-ui-inverse-font-color1) !important; }\n",
       "      td.tdhistory730718 { border: 1px solid rgb(207, 207, 207) !important; border-collapse: collapse !important; ; padding: 2px 5px !important; ; font-size: 13px !important; ; text-align: left !important;          white-space: nowrap !important; overflow:hidden !important; text-overflow:ellipsis !important;; }\n",
       "    </style><thead><tr style= \"background: rgba(243, 243, 243, 0.75)\"><th class=\"tdhistory730718\"></th><th class=\"tdhistory730718\">comment_id</th><th class=\"tdhistory730718\">term</th><th class=\"tdhistory730718\">tf</th><th class=\"tdhistory730718\">idf</th><th class=\"tdhistory730718\">tf_idf</th></tr></thead><tbody class=\"tdhistory730718 resultset-body\"><tr><th class=\"tdhistory730718\" style= \"background: rgba(243, 243, 243, 0.75)\">1</th><td class=\"tdhistory730718\">18169</td><td class=\"tdhistory730718\">is boxier</td><td class=\"tdhistory730718\">.062500</td><td class=\"tdhistory730718\">9.334326</td><td class=\"tdhistory730718\">.583395</td></tr><tr><th class=\"tdhistory730718\" style= \"background: rgba(243, 243, 243, 0.75)\">2</th><td class=\"tdhistory730718\">18169</td><td class=\"tdhistory730718\">transparent fabric</td><td class=\"tdhistory730718\">.062500</td><td class=\"tdhistory730718\">10.027518</td><td class=\"tdhistory730718\">.626720</td></tr><tr><th class=\"tdhistory730718\" style= \"background: rgba(243, 243, 243, 0.75)\">3</th><td class=\"tdhistory730718\">18169</td><td class=\"tdhistory730718\">recommend as</td><td class=\"tdhistory730718\">.062500</td><td class=\"tdhistory730718\">9.334326</td><td class=\"tdhistory730718\">.583395</td></tr><tr><th class=\"tdhistory730718\" style= \"background: rgba(243, 243, 243, 0.75)\">4</th><td class=\"tdhistory730718\">18169</td><td class=\"tdhistory730718\">so open</td><td class=\"tdhistory730718\">.062500</td><td class=\"tdhistory730718\">8.928905</td><td class=\"tdhistory730718\">.558057</td></tr><tr><th class=\"tdhistory730718\" style= \"background: rgba(243, 243, 243, 0.75)\">5</th><td class=\"tdhistory730718\">18169</td><td class=\"tdhistory730718\">slightly transparent</td><td class=\"tdhistory730718\">.062500</td><td class=\"tdhistory730718\">9.334326</td><td class=\"tdhistory730718\">.583395</td></tr></tbody></table></div>"
      ]
     },
     "execution_count": 9,
     "metadata": {
      "application/vnd.teradata.resultset": "{\"resultSetID\":\"/home/jovyan/JupyterLabRoot/Teradata/Resultsets/2022.06.27_11.21.05.653_UTC\",\"historyID\":578,\"chunkID\":\"00001\",\"sessionid\":\"\",\"portnum\":\"\",\"dockermode\":\"docker\",\"totalRowCount\":5,\"chunkCount\":0,\"rowLimit\":0,\"columnMetadata\":[{\"columnName\":\"comment_id\",\"columnTypeName\":\"DECIMAL\",\"precision\":18},{\"columnNumber\":1,\"columnName\":\"term\",\"columnTypeName\":\"LONG VARCHAR\",\"length\":32000,\"scale\":32000},{\"columnNumber\":2,\"columnName\":\"tf\",\"columnTypeName\":\"DECIMAL\",\"length\":6,\"precision\":10,\"scale\":6},{\"columnNumber\":3,\"columnName\":\"idf\",\"columnTypeName\":\"DECIMAL\",\"length\":6,\"precision\":10,\"scale\":6},{\"columnNumber\":4,\"columnName\":\"tf_idf\",\"columnTypeName\":\"DECIMAL\",\"length\":6,\"precision\":10,\"scale\":6}]}"
     },
     "output_type": "execute_result"
    }
   ],
   "source": [
    "sel top 5 * from tbl_tf_idf"
   ]
  },
  {
   "cell_type": "markdown",
   "id": "academic-paraguay",
   "metadata": {},
   "source": [
    "### Visualize the Results ###\n",
    "Builtin Teradata Jupyter modules can provide simple visualizations of the data:"
   ]
  },
  {
   "cell_type": "code",
   "execution_count": 10,
   "id": "joined-validation",
   "metadata": {},
   "outputs": [
    {
     "data": {
      "application/vnd.teradata.resultset": "\"term\",\"tf_idf\"\n\"love embroidery\",\"9.334326\"\n\"great structure\",\"9.334326\"\n\"comfy cozy\",\"8.418036\"\n\"beautiful colors\",\"6.470800\"\n\"great style\",\"6.470800\"\n\"fits perfect\",\"5.198497\"\n\"fits perfect\",\"5.198497\"\n\"love birds\",\"5.013759\"\n\"weird liner\",\"5.013759\"\n\"great fit\",\"4.934474\"\n\"fits great\",\"4.584967\"\n\"beautiful flattering\",\"4.320590\"\n\"low waisted\",\"4.320590\"\n\"flattering blouse\",\"4.209018\"\n\"very pretty\",\"4.127134\"\n\"amazing fit\",\"4.040738\"\n\"and sweet\",\"3.915014\"\n\"totally see\",\"3.814745\"\n\"overall very\",\"3.731108\"\n\"adorable dress\",\"3.694164\"\n\"precious tee\",\"3.342503\"\n\"silhouette transcends\",\"3.342503\"\n\"transcends many\",\"3.342503\"\n\"and delicate\",\"3.207548\"\n\"blouse great\",\"3.111439\"\n\"for vacations\",\"2.976299\"\n\"super itchy\",\"2.880390\"\n\"and reasonably\",\"2.880390\"\n\"versatile skirt\",\"2.806009\"\n\"reasonably priced\",\"2.806009\"",
      "text/html": [
       "<div class = \"td-resultset-table-div\" style = \"max-height: 100%; overflow-y: auto\">\n",
       "      <table class=\"tdhistory582194\"><style>\n",
       "      table.tdhistory582194 { display: block !important; min-height: 588px !important; overflow: auto !important; height: 588px !important; width: 100% !important; border: 1px solid rgb(207, 207, 207) !important; border-collapse: collapse !important; ; color: var(--jp-ui-font-color1) !important; }\n",
       "      th.tdhistory582194 { border: 1px solid rgb(198,198,198) !important; border-collapse: collapse !important; ; padding: 2px 5px !important; ; font-size: 13px !important; ; text-align: center !important; white-space: normal !important; color: var(--jp-ui-font-color1) !important; }\n",
       "      th.tdhistory582194:last-child { text-align: left !important; }\n",
       "      tbody.tdhistory582194 tr:nth-child(even) { background: rgba(243, 243, 243, 0.75) !important; }\n",
       "      tbody.tdhistory582194 tr:nth-child(odd) { background: var(--jp-ui-inverse-font-color1) !important; }\n",
       "      td.tdhistory582194 { border: 1px solid rgb(207, 207, 207) !important; border-collapse: collapse !important; ; padding: 2px 5px !important; ; font-size: 13px !important; ; text-align: left !important;          white-space: nowrap !important; overflow:hidden !important; text-overflow:ellipsis !important;; }\n",
       "    </style><thead><tr style= \"background: rgba(243, 243, 243, 0.75)\"><th class=\"tdhistory582194\"></th><th class=\"tdhistory582194\">term</th><th class=\"tdhistory582194\">tf_idf</th></tr></thead><tbody class=\"tdhistory582194 resultset-body\"><tr><th class=\"tdhistory582194\" style= \"background: rgba(243, 243, 243, 0.75)\">1</th><td class=\"tdhistory582194\">love embroidery</td><td class=\"tdhistory582194\">9.334326</td></tr><tr><th class=\"tdhistory582194\" style= \"background: rgba(243, 243, 243, 0.75)\">2</th><td class=\"tdhistory582194\">great structure</td><td class=\"tdhistory582194\">9.334326</td></tr><tr><th class=\"tdhistory582194\" style= \"background: rgba(243, 243, 243, 0.75)\">3</th><td class=\"tdhistory582194\">comfy cozy</td><td class=\"tdhistory582194\">8.418036</td></tr><tr><th class=\"tdhistory582194\" style= \"background: rgba(243, 243, 243, 0.75)\">4</th><td class=\"tdhistory582194\">beautiful colors</td><td class=\"tdhistory582194\">6.470800</td></tr><tr><th class=\"tdhistory582194\" style= \"background: rgba(243, 243, 243, 0.75)\">5</th><td class=\"tdhistory582194\">great style</td><td class=\"tdhistory582194\">6.470800</td></tr><tr><th class=\"tdhistory582194\" style= \"background: rgba(243, 243, 243, 0.75)\">6</th><td class=\"tdhistory582194\">fits perfect</td><td class=\"tdhistory582194\">5.198497</td></tr><tr><th class=\"tdhistory582194\" style= \"background: rgba(243, 243, 243, 0.75)\">7</th><td class=\"tdhistory582194\">fits perfect</td><td class=\"tdhistory582194\">5.198497</td></tr><tr><th class=\"tdhistory582194\" style= \"background: rgba(243, 243, 243, 0.75)\">8</th><td class=\"tdhistory582194\">love birds</td><td class=\"tdhistory582194\">5.013759</td></tr><tr><th class=\"tdhistory582194\" style= \"background: rgba(243, 243, 243, 0.75)\">9</th><td class=\"tdhistory582194\">weird liner</td><td class=\"tdhistory582194\">5.013759</td></tr><tr><th class=\"tdhistory582194\" style= \"background: rgba(243, 243, 243, 0.75)\">10</th><td class=\"tdhistory582194\">great fit</td><td class=\"tdhistory582194\">4.934474</td></tr><tr><th class=\"tdhistory582194\" style= \"background: rgba(243, 243, 243, 0.75)\">11</th><td class=\"tdhistory582194\">fits great</td><td class=\"tdhistory582194\">4.584967</td></tr><tr><th class=\"tdhistory582194\" style= \"background: rgba(243, 243, 243, 0.75)\">12</th><td class=\"tdhistory582194\">beautiful flattering</td><td class=\"tdhistory582194\">4.320590</td></tr><tr><th class=\"tdhistory582194\" style= \"background: rgba(243, 243, 243, 0.75)\">13</th><td class=\"tdhistory582194\">low waisted</td><td class=\"tdhistory582194\">4.320590</td></tr><tr><th class=\"tdhistory582194\" style= \"background: rgba(243, 243, 243, 0.75)\">14</th><td class=\"tdhistory582194\">flattering blouse</td><td class=\"tdhistory582194\">4.209018</td></tr><tr><th class=\"tdhistory582194\" style= \"background: rgba(243, 243, 243, 0.75)\">15</th><td class=\"tdhistory582194\">very pretty</td><td class=\"tdhistory582194\">4.127134</td></tr><tr><th class=\"tdhistory582194\" style= \"background: rgba(243, 243, 243, 0.75)\">16</th><td class=\"tdhistory582194\">amazing fit</td><td class=\"tdhistory582194\">4.040738</td></tr><tr><th class=\"tdhistory582194\" style= \"background: rgba(243, 243, 243, 0.75)\">17</th><td class=\"tdhistory582194\">and sweet</td><td class=\"tdhistory582194\">3.915014</td></tr><tr><th class=\"tdhistory582194\" style= \"background: rgba(243, 243, 243, 0.75)\">18</th><td class=\"tdhistory582194\">totally see</td><td class=\"tdhistory582194\">3.814745</td></tr><tr><th class=\"tdhistory582194\" style= \"background: rgba(243, 243, 243, 0.75)\">19</th><td class=\"tdhistory582194\">overall very</td><td class=\"tdhistory582194\">3.731108</td></tr><tr><th class=\"tdhistory582194\" style= \"background: rgba(243, 243, 243, 0.75)\">20</th><td class=\"tdhistory582194\">adorable dress</td><td class=\"tdhistory582194\">3.694164</td></tr><tr><th class=\"tdhistory582194\" style= \"background: rgba(243, 243, 243, 0.75)\">21</th><td class=\"tdhistory582194\">precious tee</td><td class=\"tdhistory582194\">3.342503</td></tr><tr><th class=\"tdhistory582194\" style= \"background: rgba(243, 243, 243, 0.75)\">22</th><td class=\"tdhistory582194\">silhouette transcends</td><td class=\"tdhistory582194\">3.342503</td></tr><tr><th class=\"tdhistory582194\" style= \"background: rgba(243, 243, 243, 0.75)\">23</th><td class=\"tdhistory582194\">transcends many</td><td class=\"tdhistory582194\">3.342503</td></tr><tr><th class=\"tdhistory582194\" style= \"background: rgba(243, 243, 243, 0.75)\">24</th><td class=\"tdhistory582194\">and delicate</td><td class=\"tdhistory582194\">3.207548</td></tr><tr><th class=\"tdhistory582194\" style= \"background: rgba(243, 243, 243, 0.75)\">25</th><td class=\"tdhistory582194\">blouse great</td><td class=\"tdhistory582194\">3.111439</td></tr><tr><th class=\"tdhistory582194\" style= \"background: rgba(243, 243, 243, 0.75)\">26</th><td class=\"tdhistory582194\">for vacations</td><td class=\"tdhistory582194\">2.976299</td></tr><tr><th class=\"tdhistory582194\" style= \"background: rgba(243, 243, 243, 0.75)\">27</th><td class=\"tdhistory582194\">super itchy</td><td class=\"tdhistory582194\">2.880390</td></tr><tr><th class=\"tdhistory582194\" style= \"background: rgba(243, 243, 243, 0.75)\">28</th><td class=\"tdhistory582194\">and reasonably</td><td class=\"tdhistory582194\">2.880390</td></tr><tr><th class=\"tdhistory582194\" style= \"background: rgba(243, 243, 243, 0.75)\">29</th><td class=\"tdhistory582194\">versatile skirt</td><td class=\"tdhistory582194\">2.806009</td></tr><tr><th class=\"tdhistory582194\" style= \"background: rgba(243, 243, 243, 0.75)\">30</th><td class=\"tdhistory582194\">reasonably priced</td><td class=\"tdhistory582194\">2.806009</td></tr></tbody></table></div>"
      ]
     },
     "execution_count": 10,
     "metadata": {
      "application/vnd.teradata.resultset": "{\"resultSetID\":\"/home/jovyan/JupyterLabRoot/Teradata/Resultsets/2022.06.27_11.21.05.818_UTC\",\"historyID\":579,\"chunkID\":\"00001\",\"sessionid\":\"\",\"portnum\":\"\",\"dockermode\":\"docker\",\"totalRowCount\":30,\"chunkCount\":0,\"rowLimit\":0,\"columnMetadata\":[{\"columnName\":\"term\",\"columnTypeName\":\"LONG VARCHAR\",\"length\":32000,\"scale\":32000},{\"columnNumber\":1,\"columnName\":\"tf_idf\",\"columnTypeName\":\"DECIMAL\",\"length\":6,\"precision\":10,\"scale\":6}]}"
     },
     "output_type": "execute_result"
    }
   ],
   "source": [
    "sel top 30 term, tf_idf  from tbl_tf_idf order by tf_idf desc"
   ]
  },
  {
   "cell_type": "code",
   "execution_count": 11,
   "id": "injured-worth",
   "metadata": {},
   "outputs": [
    {
     "data": {
      "application/vnd.vegalite.v3+json": {
       "$schema": "https://vega.github.io/schema/vega-lite/v3.json",
       "data": {
        "format": {
         "type": "csv"
        },
        "values": "\"term\",\"tf_idf\"\n\"love embroidery\",\"9.334326\"\n\"great structure\",\"9.334326\"\n\"comfy cozy\",\"8.418036\"\n\"beautiful colors\",\"6.470800\"\n\"great style\",\"6.470800\"\n\"fits perfect\",\"5.198497\"\n\"fits perfect\",\"5.198497\"\n\"love birds\",\"5.013759\"\n\"weird liner\",\"5.013759\"\n\"great fit\",\"4.934474\"\n\"fits great\",\"4.584967\"\n\"beautiful flattering\",\"4.320590\"\n\"low waisted\",\"4.320590\"\n\"flattering blouse\",\"4.209018\"\n\"very pretty\",\"4.127134\"\n\"amazing fit\",\"4.040738\"\n\"and sweet\",\"3.915014\"\n\"totally see\",\"3.814745\"\n\"overall very\",\"3.731108\"\n\"adorable dress\",\"3.694164\"\n\"precious tee\",\"3.342503\"\n\"silhouette transcends\",\"3.342503\"\n\"transcends many\",\"3.342503\"\n\"and delicate\",\"3.207548\"\n\"blouse great\",\"3.111439\"\n\"for vacations\",\"2.976299\"\n\"super itchy\",\"2.880390\"\n\"and reasonably\",\"2.880390\"\n\"versatile skirt\",\"2.806009\"\n\"reasonably priced\",\"2.806009\"\n"
       },
       "encoding": {
        "x": {
         "axis": {
          "grid": true,
          "title": "tf_idf"
         },
         "field": "tf_idf",
         "type": "quantitative"
        },
        "y": {
         "axis": {
          "grid": true,
          "title": "term"
         },
         "field": "term",
         "type": "nominal"
        }
       },
       "mark": {
        "color": "#4C78A8",
        "type": "bar"
       },
       "title": "Terms by importance"
      },
      "image/png": "[encoded data removed]"
     },
     "execution_count": 11,
     "metadata": {
      "application/vnd.teradata.resultset": ""
     },
     "output_type": "execute_result"
    }
   ],
   "source": [
    "%chart x=tf_idf, y=term, title=Terms by importance"
   ]
  },
  {
   "cell_type": "code",
   "execution_count": 12,
   "id": "western-major",
   "metadata": {},
   "outputs": [
    {
     "data": {
      "text/plain": [
       "Success: 19 rows affected"
      ]
     },
     "execution_count": 12,
     "metadata": {
      "application/vnd.teradata.resultset": ""
     },
     "output_type": "execute_result"
    }
   ],
   "source": [
    "DROP TABLE tbl_grams;"
   ]
  },
  {
   "cell_type": "markdown",
   "id": "chinese-maine",
   "metadata": {},
   "source": [
    "<footer style=\"padding:10px;background:#f9f9f9;border-bottom:3px solid #394851\">©2022 Teradata. All Rights Reserved</footer>"
   ]
  }
 ],
 "metadata": {
  "kernelspec": {
   "display_name": "Teradata SQL",
   "language": "Teradata SQL",
   "name": "teradatasql"
  },
  "language_info": {
   "codemirror_mode": "Teradata SQL",
   "file_extension": ".tdrs",
   "mimetype": "application/vnd.teradata.resultset",
   "name": "Teradata SQL",
   "nbconvert_exporter": "",
   "pygments_lexer": "",
   "version": "16.20"
  }
 },
 "nbformat": 4,
 "nbformat_minor": 5
}
