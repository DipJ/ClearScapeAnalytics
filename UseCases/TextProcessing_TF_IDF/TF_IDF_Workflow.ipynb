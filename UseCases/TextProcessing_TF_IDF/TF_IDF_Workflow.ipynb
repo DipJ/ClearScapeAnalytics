{
 "cells": [
  {
   "cell_type": "markdown",
   "metadata": {},
   "source": [
    "<header style=\"padding:10px;background:#f9f9f9;border-top:3px solid #00b2b1\"><img id=\"Teradata-logo\" src=\"https://www.teradata.com/Teradata/Images/Rebrand/Teradata_logo-two_color.png\" alt=\"Teradata\" width=\"220\" align=\"right\" />\n",
    " \n",
    "## TF-IDF Workflow in Python\n",
    "</header>\n",
    "\n",
    "**Notes**\n",
    "* Teradata Python Package User Guide: https://docs.teradata.com/r/1YKutX2ODdO9ppo_fnguTA/root\n",
    "* Teradataml function reference: https://docs.teradata.com/r/xLnbN80h9C6037gi3ildag/root\n",
    "* NGramSplitter Function Reference: https://docs.teradata.com/r/aKnWloeEx3pmus0aivWOaw/0uzj9gM6ureUUJTXhxvmSQ\n",
    "\n",
    "**Steps**\n",
    "1. Replace any hosts, schemas, usernames, etc.\n",
    "2. Connect to existing data set containing fake product comments.\n",
    "3. Use NGramSplitter SQL to create a table of grams of n-size.\n",
    "4. Express SQL to calculate TF-IDF and store the output in a table.\n",
    "5. Retrieve the data as a local dataframe.\n",
    "6. Basic visualization to show top 30 important terms."
   ]
  },
  {
   "cell_type": "code",
   "execution_count": 1,
   "metadata": {},
   "outputs": [],
   "source": [
    "import json\n",
    "import getpass\n",
    "import warnings\n",
    "import os\n",
    "from datetime import datetime, timedelta\n",
    "\n",
    "import pandas as pd\n",
    "import numpy as np\n",
    "\n",
    "from teradataml.dataframe.dataframe import DataFrame\n",
    "from teradataml.analytics.sqle import NGramSplitter\n",
    "from teradataml.dataframe.dataframe import in_schema\n",
    "from teradataml.context.context import create_context, remove_context, get_context\n",
    "from teradataml.dataframe.copy_to import copy_to_sql\n",
    "from teradataml.dataframe.fastload import fastload\n",
    "from teradataml.options.display import display\n",
    "\n",
    "from teradatasqlalchemy.types import *\n",
    "\n",
    "import seaborn as sns\n",
    "import matplotlib.pyplot as plt\n",
    "\n",
    "%matplotlib inline\n",
    "sns.set()\n",
    "warnings.filterwarnings('ignore')\n"
   ]
  },
  {
   "cell_type": "markdown",
   "metadata": {},
   "source": [
    "### Connect to Vantage ###\n",
    "Can use the named connection using the tdconnect library as part of the Vantage Module for Jupyter ***OR*** use create_context method in teradataml."
   ]
  },
  {
   "cell_type": "code",
   "execution_count": null,
   "metadata": {},
   "outputs": [],
   "source": []
  },
  {
   "cell_type": "code",
   "execution_count": 2,
   "metadata": {},
   "outputs": [
    {
     "name": "stdin",
     "output_type": "stream",
     "text": [
      " ········\n"
     ]
    }
   ],
   "source": [
    "# Connect to Vantage\n",
    "eng = create_context(host = 'host.docker.internal', username='demo_user', password = getpass.getpass())"
   ]
  },
  {
   "cell_type": "code",
   "execution_count": 3,
   "metadata": {},
   "outputs": [],
   "source": [
    "# Connect using teradataml methods\n",
    "# user = 'ID'\n",
    "# host = 'HOST'\n",
    "# login_mechanism = 'LDAP'\n",
    "\n",
    "# eng = create_context(host = host, username = user, password = getpass.getpass(prompt = 'Password:'), logmech = login_mechanism)\n",
    "\n",
    "# print(eng)"
   ]
  },
  {
   "cell_type": "markdown",
   "metadata": {},
   "source": [
    "### Access data in Vantage ###\n",
    "For this demo, data is already resident in Vantage.  Create a reference to the table, and sample the contents.  Data could just as easily reside in Object Storage, another RDBMS, or another Vantage system."
   ]
  },
  {
   "cell_type": "code",
   "execution_count": 4,
   "metadata": {},
   "outputs": [
    {
     "data": {
      "text/html": [
       "<style type=\"text/css\">\n",
       "\ttable {border:ridge 5px;}\n",
       "\ttable td {border:inset 1px;}\n",
       "\ttable tr#HeaderRow {background-color:grey; color:white;}</style>\n",
       "<html><table>\n",
       "\t<tr id=\"HeaderRow\">\n",
       "\t\t<th>comment_id</th>\n",
       "\t\t<th>customer_id</th>\n",
       "\t\t<th>comment_text</th>\n",
       "\t\t<th>comment_summary</th>\n",
       "\t</tr>\n",
       "\t<tr>\n",
       "\t\t<td>2.000</td>\n",
       "\t\t<td>1077.000</td>\n",
       "\t\t<td>I had such high hopes for this dress and really wanted it to work for me. i initially ordered the petite small (my usual size) but i found this to be outrageously small. so small in fact that i could not zip it up! i reordered it in petite medium, which was just ok. overall, the top half was comfortable and fit nicely, but the bottom half had a very tight under layer and several somewhat cheap (net) over layers. imo, a major design flaw was the net over layer sewn directly into the zipper - it c</td>\n",
       "\t\t<td>Some major design flaws</td>\n",
       "\t</tr>\n",
       "\t<tr>\n",
       "\t\t<td>4.000</td>\n",
       "\t\t<td>847.000</td>\n",
       "\t\t<td>This shirt is very flattering to all due to the adjustable front tie. it is the perfect length to wear with leggings and it is sleeveless so it pairs well with any cardigan. love this shirt!!!</td>\n",
       "\t\t<td>Flattering shirt</td>\n",
       "\t</tr>\n",
       "\t<tr>\n",
       "\t\t<td>3.000</td>\n",
       "\t\t<td>1049.000</td>\n",
       "\t\t<td>I love, love, love this jumpsuit. it's fun, flirty, and fabulous! every time i wear it, i get nothing but great compliments!</td>\n",
       "\t\t<td>My favorite buy!</td>\n",
       "\t</tr>\n",
       "\t<tr>\n",
       "\t\t<td>1.000</td>\n",
       "\t\t<td>1080.000</td>\n",
       "\t\t<td>Love this dress!  it's sooo pretty.  i happened to find it in a store, and i'm glad i did bc i never would have ordered it online bc it's petite.  i bought a petite and am 5'8\".  i love the length on me- hits just a little below the knee.  would definitely be a true midi on someone who is truly petite.</td>\n",
       "\t\t<td>None</td>\n",
       "\t</tr>\n",
       "\t<tr>\n",
       "\t\t<td>0.000</td>\n",
       "\t\t<td>767.000</td>\n",
       "\t\t<td>Absolutely wonderful - silky and sexy and comfortable</td>\n",
       "\t\t<td>None</td>\n",
       "\t</tr>\n",
       "</table></html>"
      ],
      "text/plain": [
       "   comment_id  customer_id                                                                                                                                                                                                                                                                                                                                                                                                                                                                                                          comment_text          comment_summary\n",
       "0         2.0       1077.0  I had such high hopes for this dress and really wanted it to work for me. i initially ordered the petite small (my usual size) but i found this to be outrageously small. so small in fact that i could not zip it up! i reordered it in petite medium, which was just ok. overall, the top half was comfortable and fit nicely, but the bottom half had a very tight under layer and several somewhat cheap (net) over layers. imo, a major design flaw was the net over layer sewn directly into the zipper - it c  Some major design flaws\n",
       "1         4.0        847.0                                                                                                                                                                                                                                                                                                                      This shirt is very flattering to all due to the adjustable front tie. it is the perfect length to wear with leggings and it is sleeveless so it pairs well with any cardigan. love this shirt!!!         Flattering shirt\n",
       "2         3.0       1049.0                                                                                                                                                                                                                                                                                                                                                                                          I love, love, love this jumpsuit. it's fun, flirty, and fabulous! every time i wear it, i get nothing but great compliments!         My favorite buy!\n",
       "3         1.0       1080.0                                                                                                                                                                                                       Love this dress!  it's sooo pretty.  i happened to find it in a store, and i'm glad i did bc i never would have ordered it online bc it's petite.  i bought a petite and am 5'8\".  i love the length on me- hits just a little below the knee.  would definitely be a true midi on someone who is truly petite.                     None\n",
       "4         0.0        767.0                                                                                                                                                                                                                                                                                                                                                                                                                                                                 Absolutely wonderful - silky and sexy and comfortable                     None"
      ]
     },
     "execution_count": 4,
     "metadata": {},
     "output_type": "execute_result"
    }
   ],
   "source": [
    "tdf_reviews = DataFrame('\"TRNG_RETAILDSE\".\"WEB_COMMENT\"')\n",
    "tdf_reviews.head(5)"
   ]
  },
  {
   "cell_type": "markdown",
   "metadata": {},
   "source": [
    "### Use the NGram Splitter SQL Function ###\n",
    "This function will split the corpus of documents into \"terms\" (grams) of selected size.  Specifically, this example will create a table called \"tbl_grams\" that is the result of splitting each \"document\" (review) into two-word chunks (grams).  Each row in this table includes;\n",
    "1. The two-word chunk (ngram).\n",
    "2. The source review id (row_id).\n",
    "3. Chunk length (n).\n",
    "4. The count of this chunk in the review (frequency).\n",
    "5. The count of this chunk in all the reviews (totalcnt).\n",
    "\n",
    "The splitting algorithm can be controlled with delimeters, punctuation indicators, etc."
   ]
  },
  {
   "cell_type": "code",
   "execution_count": 5,
   "metadata": {},
   "outputs": [
    {
     "data": {
      "text/html": [
       "<div>\n",
       "<style scoped>\n",
       "    .dataframe tbody tr th:only-of-type {\n",
       "        vertical-align: middle;\n",
       "    }\n",
       "\n",
       "    .dataframe tbody tr th {\n",
       "        vertical-align: top;\n",
       "    }\n",
       "\n",
       "    .dataframe thead th {\n",
       "        text-align: right;\n",
       "    }\n",
       "</style>\n",
       "<table border=\"1\" class=\"dataframe\">\n",
       "  <thead>\n",
       "    <tr style=\"text-align: right;\">\n",
       "      <th></th>\n",
       "      <th>ngram</th>\n",
       "      <th>n</th>\n",
       "      <th>frequency</th>\n",
       "      <th>totalcnt</th>\n",
       "    </tr>\n",
       "    <tr>\n",
       "      <th>comment_id</th>\n",
       "      <th></th>\n",
       "      <th></th>\n",
       "      <th></th>\n",
       "      <th></th>\n",
       "    </tr>\n",
       "  </thead>\n",
       "  <tbody>\n",
       "    <tr>\n",
       "      <th>8315</th>\n",
       "      <td>waist is</td>\n",
       "      <td>2</td>\n",
       "      <td>1</td>\n",
       "      <td>82</td>\n",
       "    </tr>\n",
       "    <tr>\n",
       "      <th>14062</th>\n",
       "      <td>t shirts</td>\n",
       "      <td>2</td>\n",
       "      <td>1</td>\n",
       "      <td>27</td>\n",
       "    </tr>\n",
       "    <tr>\n",
       "      <th>13059</th>\n",
       "      <td>the body</td>\n",
       "      <td>2</td>\n",
       "      <td>1</td>\n",
       "      <td>91</td>\n",
       "    </tr>\n",
       "    <tr>\n",
       "      <th>15657</th>\n",
       "      <td>33 25</td>\n",
       "      <td>2</td>\n",
       "      <td>1</td>\n",
       "      <td>77</td>\n",
       "    </tr>\n",
       "    <tr>\n",
       "      <th>1695</th>\n",
       "      <td>nice as</td>\n",
       "      <td>2</td>\n",
       "      <td>1</td>\n",
       "      <td>11</td>\n",
       "    </tr>\n",
       "  </tbody>\n",
       "</table>\n",
       "</div>"
      ],
      "text/plain": [
       "               ngram  n  frequency  totalcnt\n",
       "comment_id                                  \n",
       "8315        waist is  2          1        82\n",
       "14062       t shirts  2          1        27\n",
       "13059       the body  2          1        91\n",
       "15657          33 25  2          1        77\n",
       "1695         nice as  2          1        11"
      ]
     },
     "execution_count": 5,
     "metadata": {},
     "output_type": "execute_result"
    }
   ],
   "source": [
    "\n",
    "qry = 'DROP TABLE tbl_grams;'\n",
    "\n",
    "try:\n",
    "    eng.execute(qry)\n",
    "except Exception as e:\n",
    "    if str(e.args).find('3807') >= 1:\n",
    "        pass\n",
    "    else:\n",
    "        raise\n",
    "\n",
    "#how many grams should we split the docs into?\n",
    "grams = 2\n",
    "\n",
    "#Create ngram table\n",
    "qry = f'''\n",
    "CREATE TABLE tbl_grams AS (\n",
    "    SELECT * FROM NGramSplitter ( \n",
    "        ON ( SELECT * FROM \"TRNG_RETAILDSE\".\"WEB_COMMENT\" )   \n",
    "        USING \n",
    "            TextColumn('comment_text') \n",
    "            Accumulate('comment_id') \n",
    "            Grams('{grams}') \n",
    "            OverLapping('TRUE') \n",
    "            ConvertToLowerCase('TRUE') \n",
    "            Delimiter(' ') \n",
    "            Punctuation('[`~#^&*()-]') \n",
    "            OutputTotalGramCount('TRUE') \n",
    "            NGramColName('ngram') \n",
    "            GramLengthColName('n') \n",
    "            FrequencyColName('frequency') \n",
    "            TotalCountColName('totalcnt') \n",
    "    ) as ngram_out\n",
    "    )\n",
    "WITH DATA\n",
    "PRIMARY INDEX (comment_id);\n",
    "'''\n",
    "\n",
    "eng.execute(qry)\n",
    "\n",
    "tdf_grams = DataFrame('tbl_grams')\n",
    "\n",
    "tdf_grams.to_pandas(num_rows = 5).head()"
   ]
  },
  {
   "cell_type": "markdown",
   "metadata": {},
   "source": [
    "### Create the TF-IDF Table ###\n",
    "TF-IDF or ***Term Frequency-Inverse Document Frequency*** is an indicator of a term's *importance* in a specific document based on the entire corpus of documents.  This value is calculated by taking the Product of:\n",
    "* Term Frequency = (Number of Terms in the Document)/(Number of Terms in the Corpus)\n",
    "* Inverse Document Frequency = Natural Log((Total Number of Documents)/(Number of Documents with the Term))\n",
    "\n",
    "This can be accomplished in SQL using the results out the NGgram Splitter function:"
   ]
  },
  {
   "cell_type": "code",
   "execution_count": 6,
   "metadata": {},
   "outputs": [
    {
     "data": {
      "text/html": [
       "<style type=\"text/css\">\n",
       "\ttable {border:ridge 5px;}\n",
       "\ttable td {border:inset 1px;}\n",
       "\ttable tr#HeaderRow {background-color:grey; color:white;}</style>\n",
       "<html><table>\n",
       "\t<tr id=\"HeaderRow\">\n",
       "\t\t<th>comment_id</th>\n",
       "\t\t<th>term</th>\n",
       "\t\t<th>tf</th>\n",
       "\t\t<th>idf</th>\n",
       "\t\t<th>tf_idf</th>\n",
       "\t</tr>\n",
       "\t<tr>\n",
       "\t\t<td>0.000</td>\n",
       "\t\t<td>sexy and</td>\n",
       "\t\t<td>0.167</td>\n",
       "\t\t<td>6.849</td>\n",
       "\t\t<td>1.142</td>\n",
       "\t</tr>\n",
       "\t<tr>\n",
       "\t\t<td>0.000</td>\n",
       "\t\t<td>absolutely wonderful</td>\n",
       "\t\t<td>0.167</td>\n",
       "\t\t<td>8.641</td>\n",
       "\t\t<td>1.440</td>\n",
       "\t</tr>\n",
       "\t<tr>\n",
       "\t\t<td>0.000</td>\n",
       "\t\t<td>and sexy</td>\n",
       "\t\t<td>0.167</td>\n",
       "\t\t<td>6.290</td>\n",
       "\t\t<td>1.048</td>\n",
       "\t</tr>\n",
       "\t<tr>\n",
       "\t\t<td>0.000</td>\n",
       "\t\t<td>and comfortable</td>\n",
       "\t\t<td>0.167</td>\n",
       "\t\t<td>3.611</td>\n",
       "\t\t<td>0.602</td>\n",
       "\t</tr>\n",
       "\t<tr>\n",
       "\t\t<td>0.000</td>\n",
       "\t\t<td>silky and</td>\n",
       "\t\t<td>0.167</td>\n",
       "\t\t<td>7.194</td>\n",
       "\t\t<td>1.199</td>\n",
       "\t</tr>\n",
       "</table></html>"
      ],
      "text/plain": [
       "                            term     tf     idf  tf_idf\n",
       "comment_id                                             \n",
       "0.0                     sexy and  0.167   6.849   1.142\n",
       "0.0                     and sexy  0.167   6.290   1.048\n",
       "0.0              wonderful silky  0.167  10.028   1.671\n",
       "0.0                    silky and  0.167   7.194   1.199\n",
       "0.0         absolutely wonderful  0.167   8.641   1.440"
      ]
     },
     "execution_count": 6,
     "metadata": {},
     "output_type": "execute_result"
    }
   ],
   "source": [
    "qry = 'DROP TABLE tbl_tf_idf;'\n",
    "\n",
    "try:\n",
    "    eng.execute(qry)\n",
    "except Exception as e:\n",
    "    if str(e.args).find('3807') >= 1:\n",
    "        pass\n",
    "    else:\n",
    "        raise\n",
    "        \n",
    "qry = '''\n",
    "CREATE TABLE tbl_tf_idf AS (\n",
    "SELECT gr.comment_id as comment_id,\n",
    "gr.\"ngram\" as term,\n",
    "CAST (CAST(gr.frequency AS FLOAT) / CAST(gr.totalcnt AS FLOAT) AS DECIMAL(10,6)) as tf,\n",
    "CAST(LN(sel_docs.tot_docs / sel_docs.tot_term) AS DECIMAL(10,6)) as idf,\n",
    "CAST(idf * tf AS DECIMAL(10,6)) as tf_idf\n",
    "FROM tbl_grams as gr\n",
    "--get the number of docs where each term exists\n",
    "LEFT JOIN (select \"ngram\", tot_term , tot_docs from\n",
    "((SELECT \"ngram\",COUNT(*) as tot_term\n",
    "FROM tbl_grams\n",
    "GROUP BY \"ngram\") terms\n",
    "--get the total doc count and join it to the table\n",
    "CROSS JOIN (SELECT COUNT(DISTINCT comment_id) as tot_docs\n",
    "FROM tbl_grams ) as sum_docs\n",
    ")\n",
    ") sel_docs\n",
    "ON gr.\"ngram\" = sel_docs.\"ngram\"\n",
    "WHERE tf_idf > .5\n",
    "    )\n",
    "WITH DATA\n",
    "PRIMARY INDEX (comment_id);\n",
    "'''\n",
    "\n",
    "eng.execute(qry)\n",
    "\n",
    "tdf_tf_idf = DataFrame('tbl_tf_idf')\n",
    "tdf_tf_idf.head(5)"
   ]
  },
  {
   "cell_type": "code",
   "execution_count": 7,
   "metadata": {},
   "outputs": [],
   "source": [
    "df_tf_idf = tdf_tf_idf.to_pandas(all_rows = True)\n",
    "df_tf_idf['tf_idf'] = df_tf_idf['tf_idf'].astype(float)"
   ]
  },
  {
   "cell_type": "markdown",
   "metadata": {},
   "source": [
    "### Visualize the Results ###\n",
    "Pandas and Matplotlib can provide simple visualizations of the data:"
   ]
  },
  {
   "cell_type": "code",
   "execution_count": 8,
   "metadata": {},
   "outputs": [
    {
     "data": {
      "image/png": "[encoded data removed]",
      "text/plain": [
       "<Figure size 864x648 with 1 Axes>"
      ]
     },
     "metadata": {},
     "output_type": "display_data"
    }
   ],
   "source": [
    "#plot it:\n",
    "df_tf_idf.sort_values(by = 'tf_idf', ascending = False).head(30).set_index('term')[['tf_idf']].plot(kind = 'barh', legend = True, figsize = (12, 9));"
   ]
  },
  {
   "cell_type": "markdown",
   "metadata": {},
   "source": [
    "<footer style=\"padding:10px;background:#f9f9f9;border-bottom:3px solid #394851\">©2021 Teradata. All Rights Reserved</footer>"
   ]
  }
 ],
 "metadata": {
  "kernelspec": {
   "display_name": "Python 3",
   "language": "python",
   "name": "python3"
  },
  "language_info": {
   "codemirror_mode": {
    "name": "ipython",
    "version": 3
   },
   "file_extension": ".py",
   "mimetype": "text/x-python",
   "name": "python",
   "nbconvert_exporter": "python",
   "pygments_lexer": "ipython3",
   "version": "3.8.8"
  }
 },
 "nbformat": 4,
 "nbformat_minor": 4
}
