{
 "cells": [
  {
   "cell_type": "markdown",
   "id": "talented-colombia",
   "metadata": {},
   "source": [
    "<header style=\"padding:1px;background:#f9f9f9;border-top:3px solid #00b2b1\"><img id=\"Teradata-logo\" src=\"https://www.teradata.com/Teradata/Images/Rebrand/Teradata_logo-two_color.png\" alt=\"Teradata\" width=\"220\" align=\"right\" />\n",
    "\n",
    "<b style = 'font-size:28px;font-family:Arial;color:#E37C4D'>Sharing Your Demonstrations</b>\n",
    "</header>"
   ]
  },
  {
   "cell_type": "markdown",
   "id": "painted-dayton",
   "metadata": {},
   "source": [
    "You have learned by following the examples of others.  Consider \"paying it forward\" by submitting your creative work for others to use. If you follow some basic practices in the development of your demonstration, it will be much easier to submit and for us to re-publish.<img src=\"Sharing_Demo.jpg\" style=\"float: right; margin-left: 10px; height: 50px; width: auto;\" />\n",
    "\n",
    "You may choose to submit anonymously or list your name, with or without contact information. With contact information, you may get improvements or corrections to your demonstration and perhaps\n",
    "praise for your good work. \n",
    "\n",
    "## Organizing Your Demo\n",
    "Your demonstration may use multiple files and/or your Jupyter notebook may include graphics. It is best to create a directory for your demonstration and put all of the files including the notebook within that directory. We generally make the directory name the same as the Jupyter Notebook, but without the .ipynb suffix.  Example:\n",
    "-    UseCases\n",
    "-        ...\n",
    "-        My_Demo\n",
    "-            My_Demo.ipynb\n",
    "-            My_Demo.jpg           (thumbnail of a major output)\n",
    "-            Picture1.jpg\n",
    "-            Picture2.jpg\n",
    "-            Sample.csv\n",
    "-         ...\n",
    "\n",
    "## Suggested Outline Of Your Notebook\n",
    "- It is best to start with a paragraph describing the business situation and how this demonstration addresses that business situation.\n",
    "- If your notebook has more than a few steps, provide a high level outline of the steps you will be going through. This is high level.  Each step in the notebook may take multiple queries or code blocks. \n",
    "- Provide a description before each code block of what that code block will be doing. If your notebook is more than 20 steps, you may want to put a heading from your high level overview of the notebook using the markdown ## marker before that step name so the user can easily jump to areas of interest\n",
    "- If you have reference information about the functions or citations of the data source or algorithms, include a list of those citations at the end of your notebook\n",
    "- Finally, you may want to list yourself as the author and provide the reader a little background about you. \n",
    "\n",
    "## Submitting Your Demonstration\n",
    "\n",
    "**T.B.D.**   might want them to zip up their directory and post to a github location. tar and gzip are available from the terminal. We might want to pre-install zip for a 1-step zip up\n",
    "\n",
    "We also need to think about the structure of new data involved in their demo. They should create a database and put all objects needed in that database. We should suggest syntax for creating database (DBC has all of the space).  We might want to encourage them to choose a good primary index so they don't run into space issues due to skew. \n",
    "\n",
    "Then we need to think about how they export their data. I could probably adapt the benchmark bte.sh to do the bulk export and gzip the files in fastload format so we don't have loading issues, but that means we need to install TPT on the image.  \n",
    "\n",
    "Finally, if they are using their own data, we need to put some legal language around rights to use and protection of sensitive or PII data which if not followed will cause their submission to be rejected. "
   ]
  },
  {
   "cell_type": "code",
   "execution_count": null,
   "id": "recognized-equality",
   "metadata": {},
   "outputs": [],
   "source": []
  }
 ],
 "metadata": {
  "kernelspec": {
   "display_name": "Python 3",
   "language": "python",
   "name": "python3"
  },
  "language_info": {
   "codemirror_mode": {
    "name": "ipython",
    "version": 3
   },
   "file_extension": ".py",
   "mimetype": "text/x-python",
   "name": "python",
   "nbconvert_exporter": "python",
   "pygments_lexer": "ipython3",
   "version": "3.8.8"
  }
 },
 "nbformat": 4,
 "nbformat_minor": 5
}
