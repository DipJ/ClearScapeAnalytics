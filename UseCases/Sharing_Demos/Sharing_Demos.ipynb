{
 "cells": [
  {
   "cell_type": "markdown",
   "id": "governmental-imagination",
   "metadata": {},
   "source": [
    "<header style=\"padding:1px;background:#f9f9f9;border-top:3px solid #00b2b1\"><img id=\"Teradata-logo\" src=\"https://www.teradata.com/Teradata/Images/Rebrand/Teradata_logo-two_color.png\" alt=\"Teradata\" width=\"220\" align=\"right\" />\n",
    "\n",
    "<b style = 'font-size:28px;font-family:Arial;color:#E37C4D'>Sharing Your Demonstrations</b>\n",
    "</header>"
   ]
  },
  {
   "cell_type": "markdown",
   "id": "worldwide-plumbing",
   "metadata": {},
   "source": [
    "You have learned by following the examples of others.  Consider \"paying it forward\" by submitting your creative work for others to use. If you follow some basic practices in the development of your demonstration, it will be much easier to submit and for us to re-publish.<img src=\"Sharing_Demo.jpg\" style=\"float: right; margin-left: 10px; height: 50px; width: auto;\" />\n",
    "\n",
    "You may choose to submit anonymously or list your name, with or without contact information. With contact information, you may get improvements or corrections to your demonstration and perhaps\n",
    "praise for your good work. \n",
    "\n",
    "## Organizing Your Demo\n",
    "Your demonstration may use multiple files and/or your Jupyter notebook may include graphics. It is best to create a directory for your demonstration and put all of the files including the notebook within that directory. We generally make the directory name the same as the Jupyter Notebook, but without the .ipynb suffix.  Example:\n",
    "-    UseCases\n",
    "-        ...\n",
    "-        My_Demo\n",
    "-            My_Demo.ipynb\n",
    "-            My_Demo.jpg           (thumbnail of a major output)\n",
    "-            Picture1.jpg\n",
    "-            Picture2.jpg\n",
    "-            Sample.csv\n",
    "-         ...\n",
    "\n",
    "## Suggested Outline Of Your Notebook\n",
    "- It is best to start with a paragraph describing the business situation and how this demonstration addresses that business situation.\n",
    "- If your notebook has more than a few steps, provide a high level outline of the steps you will be going through. This is high level.  Each step in the notebook may take multiple queries or code blocks. \n",
    "- Provide a description before each code block of what that code block will be doing. If your notebook is more than 20 steps, you may want to put a heading from your high level overview of the notebook using the markdown ## marker before that step name so the user can easily jump to areas of interest\n",
    "- If you have reference information about the functions or citations of the data source or algorithms, include a list of those citations at the end of your notebook\n",
    "- Finally, you may want to list yourself as the author and provide the reader a little background about you. \n",
    "\n",
    "## Organizing The Data Used In Your Demo\n",
    "We have provided data available by opening the Data_Dictionary workbook and running the code below the description of the database you'd like to use.  If your data is based on a new data source, you can create a database to contain your new tables. For example, for a 5 GB database, issue:\n",
    "- create database my_demo_db from dbc as perm = 5 * 1024**3;\n",
    "\n",
    "The data in your table database will eventually be posted to NOS and accessed from a database containing views.  To simulate that, create a view database for the 1:1 views and the semantic views for your demonstration:\n",
    "- create database my_demo from dbc as perm = 0;\n",
    "  \n",
    "For each table in your table database, create a 1:1 view.  Example:\n",
    "- create view my_demo.table_1 as locking for access select * from my_demo_db.table_1;\n",
    "- create view my_demo.table_2 as locking for access select * from my_demo_db.table_2;\n",
    "- ...\n",
    "\n",
    "If you have semantic views that perform logic on the data for your demonstrations, those views should reference the 1:1 views in the view database. This follows best practices for applications. "
   ]
  },
  {
   "cell_type": "markdown",
   "id": "published-truck",
   "metadata": {},
   "source": [
    "## Submitting Your Demonstration\n",
    "\n",
    "The code in the cell below will list out the directories in the UseCase directory and ask you which one you want to \"zip\" up. It will use the tar utility to create a .tar.gz file with the same root name as your directory. \n",
    "\n",
    "#### 1. Zip up your code:"
   ]
  },
  {
   "cell_type": "code",
   "execution_count": null,
   "id": "turned-hours",
   "metadata": {},
   "outputs": [],
   "source": [
    "import os\n",
    "home = '/home/jovyan/JupyterLabRoot/UseCases/'\n",
    "available_directory = os.listdir(home)\n",
    "available_directory.sort\n",
    "for d in available_directory:\n",
    "    print(d)\n",
    "submit_directory = input(\"Enter name of the directory you want to zip up: \")\n",
    "if submit_directory == '':\n",
    "    print (\"\\n nothing entered, quitting\")\n",
    "else:\n",
    "    result = os.system('tar -czf ' + home + submit_directory + '.tar.gz ' + home + submit_directory)"
   ]
  },
  {
   "cell_type": "markdown",
   "id": "another-rating",
   "metadata": {},
   "source": [
    "#### 2. Download and e-mail\n",
    "You can then right click the .tar.gz file that is created, and download it to your PC and e-mail it to support.demonow@teradata.com.\n",
    "\n",
    "#### 3. For new data, get permission\n",
    "If you've created your own data, if it isn't from a publicly available source, be sure to get a document releasing the use of the data.\n",
    "\n",
    "#### 4. Submitting your data\n",
    "Contact support.demonow@teradata.com for assistance in exporting all of your created databases, view, and tables. We will use utilities that ensure we can load it to another platform with minimal effort. "
   ]
  }
 ],
 "metadata": {
  "kernelspec": {
   "display_name": "Python 3",
   "language": "python",
   "name": "python3"
  },
  "language_info": {
   "codemirror_mode": {
    "name": "ipython",
    "version": 3
   },
   "file_extension": ".py",
   "mimetype": "text/x-python",
   "name": "python",
   "nbconvert_exporter": "python",
   "pygments_lexer": "ipython3",
   "version": "3.8.8"
  }
 },
 "nbformat": 4,
 "nbformat_minor": 5
}
