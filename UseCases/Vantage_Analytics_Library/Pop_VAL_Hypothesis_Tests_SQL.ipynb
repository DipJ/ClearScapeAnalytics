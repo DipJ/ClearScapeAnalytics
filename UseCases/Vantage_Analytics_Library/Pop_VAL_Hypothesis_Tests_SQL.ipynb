{
 "cells": [
  {
   "cell_type": "markdown",
   "metadata": {},
   "source": [
    "<header>\n",
    "   <p  style='font-size:36px;font-family:Arial; color:#F0F0F0; background-color: #00233c; padding-left: 20pt; padding-top: 20pt;padding-bottom: 10pt; padding-right: 20pt;'>\n",
    "       Vantage Analytic Library Demo\n",
    "  <br>\n",
    "       <img id=\"teradata-logo\" src=\"https://storage.googleapis.com/clearscape_analytics_demo_data/DEMO_Logo/teradata.svg\" alt=\"Teradata\" style=\"width: 125px; height: auto; margin-top: 20pt;\">\n",
    "    </p>\n",
    "</header>\n",
    "<p style = 'font-size:20px;font-family:Arial;color:#00233C'><b>Hypothesis Tests</b></p>\n",
    "\n",
    "<p style = 'font-size:16px;font-family:Arial;color:#00233C'>Statistical tests provide a means of testing whether the outcome of an experiment could have been accidental.  Numerous tests are provided in-database, all of the hypothesis testing variety.  These include the following 18 tests, categorized below, that are currently available in the Vantage Analytic Library.</p>\n",
    "\n",
    "<p style = 'font-size:16px;font-family:Arial;color:#00233C'><b>Parametric Tests</b></p>\n",
    "\n",
    "<p style = 'font-size:16px;font-family:Arial;color:#00233C'>Two Sample T-Test for Equal Means</p>\n",
    "    <li>T Paired</li>\n",
    "    <li>T Unpaired</li>\n",
    "    <li>T Unpaired with Indicator</li>\n",
    "<p style = 'font-size:16px;font-family:Arial;color:#00233C'>F-Test – N-Way</p>\n",
    "<p style = 'font-size:16px;font-family:Arial;color:#00233C'>F-Test/Analysis of Variance (Two Way Unequal Sample Size)</p>\n",
    "\n",
    "<p style = 'font-size:16px;font-family:Arial;color:#00233C'><b>Binomial Tests</b>\n",
    "\n",
    "<li>Binomial/Ztest</li>\n",
    "<li>Binomial Sign Test</li>\n",
    "</p>\n",
    "    \n",
    "<p style = 'font-size:16px;font-family:Arial;color:#00233C'><b>Tests based on Contingency</b>\n",
    "\n",
    "<li>Chi Square Test</li>\n",
    "<li>Median Test</li>\n",
    "</p>\n",
    "    \n",
    "<p style = 'font-size:16px;font-family:Arial;color:#00233C'><b>Kolmogorov/Smirnoff Tests</b>\n",
    "    \n",
    "<li>Kolmogorov/Smirnoff Test (One Sample)</li>\n",
    "<li>Lilliefors Test</li>\n",
    "<li>Shapiro-Wilk Test</li>\n",
    "<li>D’Agostino and Pearson Test</li>\n",
    "<li>Smirnov Test</li>\n",
    "</p>\n",
    "    \n",
    "<p style = 'font-size:16px;font-family:Arial;color:#00233C'><b>Rank Tests</b>\n",
    "\n",
    "<li>Mann-Whitney/Kruskal-Wallis Test</li>\n",
    "<li>Mann-Whitney/Kruskal-Wallis Independent Tests</li>\n",
    "<li>Wilcoxon Signed Ranks Test</li>\n",
    "<li>Frieman Test with Kendall’s Coefficient of Concordance & Spearman’s Rho</li>\n",
    "</p>\n",
    "    \n",
    "<p style = 'font-size:16px;font-family:Arial;color:#00233C'>In order to execute the Statistical Tests described in this book, the Statistical Test Metadata tables must be loaded into a database on the system to be analyzed.  These tables have been loaded into the Demo_Financial database along with the other VAL XSP and Table Operators.  The Statistical Test functions all provide a parameter called statsdatabase that can be used to specify the database in which these tables are installed.</p>\n",
    "\n",
    "<p style = 'font-size:16px;font-family:Arial;color:#00233C'><b>Vantage Analytic Library - Call Structure</b></p>\n",
    "\n",
    "call val.td_analyze('\\<function name\\>','\\<database=database name\\>;\\<tablename=table name\\>;\\<columns=column1, column2\\>,'\\<param1\\>=\\<value1\\>;\\<param2\\>=\\<value2\\>...');"
   ]
  },
  {
   "cell_type": "markdown",
   "metadata": {},
   "source": [
    "<hr style=\"height:2px;border:none;background-color:#00233C;\">"
   ]
  },
  {
   "cell_type": "markdown",
   "metadata": {},
   "source": [
    "<p style = 'font-size:20px;font-family:Arial;color:#00233C'> <b>1.Connect to Vantage </b></p>\n",
    "<p style = 'font-size:16px;font-family:Arial;color:#00233C'>You will be prompted to provide the password. Enter your password, press Enter, then use down arrow to go to next cell.</p>"
   ]
  },
  {
   "cell_type": "code",
   "execution_count": 1,
   "metadata": {
    "tags": []
   },
   "outputs": [
    {
     "name": "stdin",
     "output_type": "stream",
     "text": [
      "Password: ········\n"
     ]
    },
    {
     "name": "stdout",
     "output_type": "stream",
     "text": [
      "Success: 'local' connection established and activated for user 'demo_user', with default database 'demo_user'\n"
     ]
    }
   ],
   "source": [
    "%connect local, hidewarnings=true"
   ]
  },
  {
   "cell_type": "markdown",
   "metadata": {},
   "source": [
    "<p style = 'font-size:16px;font-family:Arial;color:#00233C'>Setup for execution of notebook. Begin running steps with Shift + Enter keys.</p>\n"
   ]
  },
  {
   "cell_type": "code",
   "execution_count": 2,
   "metadata": {},
   "outputs": [
    {
     "data": {
      "text/plain": [
       "Success: 1 rows affected"
      ]
     },
     "execution_count": 2,
     "metadata": {
      "application/vnd.teradata.resultset": ""
     },
     "output_type": "execute_result"
    }
   ],
   "source": [
    "Set query_band='DEMO=VAL_Hypothesis_Tests_SQL.ipynb;' update for session;"
   ]
  },
  {
   "cell_type": "markdown",
   "metadata": {},
   "source": [
    "<hr style=\"height:2px;border:none;background-color:#00233C;\">\n",
    "<p style = 'font-size:20px;font-family:Arial;color:#00233C'> <b>2. Getting Data for This Demo</b></p>\n",
    "<p style = 'font-size:16px;font-family:Arial;color:#00233C'>We have provided data for this demo on cloud storage. You can either run the demo using foreign tables to access the data without any storage on your environment or download the data to local storage, which may yield faster execution. Still, there could be considerations of available storage. Two statements are in the following cell, and one of them is commented out. You may switch between the modes by changing the comment string.</p>\n"
   ]
  },
  {
   "cell_type": "code",
   "execution_count": 3,
   "metadata": {},
   "outputs": [
    {
     "data": {
      "text/plain": [
       "Success: 0 rows affected"
      ]
     },
     "execution_count": 3,
     "metadata": {
      "application/vnd.teradata.resultset": ""
     },
     "output_type": "execute_result"
    },
    {
     "data": {
      "text/plain": [
       "Success: 0 rows affected"
      ]
     },
     "execution_count": 3,
     "metadata": {
      "application/vnd.teradata.resultset": ""
     },
     "output_type": "execute_result"
    },
    {
     "data": {
      "application/vnd.teradata.resultset": "\"Message\"\n\"That ran for   0:02:24.43 with 40 statements and 0 errors. \"",
      "text/html": [
       "<div class = \"td-resultset-table-div\" style = \"max-height: 100%; overflow-y: auto\">\n",
       "      <table class=\"tdhistory738605\"><style>\n",
       "      table.tdhistory738605 { display: block !important; min-height: 105px !important; overflow: auto !important; height: 105px !important; width: 100% !important; border: 1px solid rgb(207, 207, 207) !important; border-collapse: collapse !important; ; color: var(--jp-ui-font-color1) !important; }\n",
       "      th.tdhistory738605 { border: 1px solid rgb(198,198,198) !important; border-collapse: collapse !important; ; padding: 2px 5px !important; ; font-size: 13px !important; ; text-align: center !important; white-space: normal !important; color: var(--jp-ui-font-color1) !important; }\n",
       "      th.tdhistory738605:last-child { text-align: left !important; }\n",
       "      tbody.tdhistory738605 tr:nth-child(even) { background: rgba(243, 243, 243, 0.75) !important; }\n",
       "      tbody.tdhistory738605 tr:nth-child(odd) { background: var(--jp-ui-inverse-font-color1) !important; }\n",
       "      td.tdhistory738605 { border: 1px solid rgb(207, 207, 207) !important; border-collapse: collapse !important; ; padding: 2px 5px !important; ; font-size: 13px !important; ; text-align: left !important;          white-space: nowrap !important; overflow:hidden !important; text-overflow:ellipsis !important;; }\n",
       "    </style><thead><tr style= \"background: rgba(243, 243, 243, 0.75)\"><th class=\"tdhistory738605\"></th><th class=\"tdhistory738605\">Message</th></tr></thead><tbody class=\"tdhistory738605 resultset-body\"><tr><th class=\"tdhistory738605\" style= \"background: rgba(243, 243, 243, 0.75)\">1</th><td class=\"tdhistory738605\">That ran for   0:02:24.43 with 40 statements and 0 errors. </td></tr></tbody></table></div>"
      ]
     },
     "execution_count": 3,
     "metadata": {
      "application/vnd.teradata.resultset": "{\"resultSetID\":\"/home/jovyan/JupyterLabRoot/Teradata/Resultsets/2024.09.06_07.22.16.462_UTC\",\"historyID\":388,\"chunkID\":\"00001\",\"sessionid\":\"\",\"portnum\":\"\",\"dockermode\":\"docker\",\"totalRowCount\":1,\"chunkCount\":0,\"rowLimit\":0,\"columnMetadata\":[{\"columnName\":\"Message\",\"columnTypeName\":\"VARCHAR\",\"length\":150,\"scale\":150}]}"
     },
     "output_type": "execute_result"
    }
   ],
   "source": [
    "---call get_data('DEMO_Financial_cloud'); ---takes about 35 seconds\n",
    "call get_data('DEMO_Financial_local'); ---takes about 100 seconds"
   ]
  },
  {
   "cell_type": "markdown",
   "metadata": {},
   "source": [
    "<p style = 'font-size:16px;font-family:Arial;color:#00233C'>Optional step – if you want to see status of databases/tables created and space used.</p>\n"
   ]
  },
  {
   "cell_type": "code",
   "execution_count": 4,
   "metadata": {},
   "outputs": [
    {
     "data": {
      "text/plain": [
       "Success: 0 rows affected"
      ]
     },
     "execution_count": 4,
     "metadata": {
      "application/vnd.teradata.resultset": ""
     },
     "output_type": "execute_result"
    },
    {
     "data": {
      "text/plain": [
       "Success: 0 rows affected"
      ]
     },
     "execution_count": 4,
     "metadata": {
      "application/vnd.teradata.resultset": ""
     },
     "output_type": "execute_result"
    },
    {
     "data": {
      "application/vnd.teradata.resultset": "\"Space_Report\"\n\"You have:  #databases=2 #tables=51 #views=30  You have used 280.1 MB of 30,678.9 MB available - 0.9%  ... Space Usage OK\"\n\" \"\n\"   Database Name                  #tables  #views     Avail MB      Used MB\"\n\"   demo_user                           44      23  28,236.7 MB      14.0 MB \"\n\"   DEMO_Financial                       0       7       0.0 MB       0.0 MB \"\n\"   DEMO_Financial_db                    7       0   2,442.2 MB     266.1 MB \"",
      "text/html": [
       "<div class = \"td-resultset-table-div\" style = \"max-height: 100%; overflow-y: auto\">\n",
       "      <table class=\"tdhistory661273\"><style>\n",
       "      table.tdhistory661273 { display: block !important; min-height: 210px !important; overflow: auto !important; height: 210px !important; width: 100% !important; border: 1px solid rgb(207, 207, 207) !important; border-collapse: collapse !important; ; color: var(--jp-ui-font-color1) !important; }\n",
       "      th.tdhistory661273 { border: 1px solid rgb(198,198,198) !important; border-collapse: collapse !important; ; padding: 2px 5px !important; ; font-size: 13px !important; ; text-align: center !important; white-space: normal !important; color: var(--jp-ui-font-color1) !important; }\n",
       "      th.tdhistory661273:last-child { text-align: left !important; }\n",
       "      tbody.tdhistory661273 tr:nth-child(even) { background: rgba(243, 243, 243, 0.75) !important; }\n",
       "      tbody.tdhistory661273 tr:nth-child(odd) { background: var(--jp-ui-inverse-font-color1) !important; }\n",
       "      td.tdhistory661273 { border: 1px solid rgb(207, 207, 207) !important; border-collapse: collapse !important; ; padding: 2px 5px !important; ; font-size: 13px !important; ; text-align: left !important;          white-space: nowrap !important; overflow:hidden !important; text-overflow:ellipsis !important;; }\n",
       "    </style><thead><tr style= \"background: rgba(243, 243, 243, 0.75)\"><th class=\"tdhistory661273\"></th><th class=\"tdhistory661273\">Space_Report</th></tr></thead><tbody class=\"tdhistory661273 resultset-body\"><tr><th class=\"tdhistory661273\" style= \"background: rgba(243, 243, 243, 0.75)\">1</th><td class=\"tdhistory661273\">You have:  #databases=2 #tables=51 #views=30  You have used 280.1 MB of 30,678.9 MB available - 0.9%  ... Space Usage OK</td></tr><tr><th class=\"tdhistory661273\" style= \"background: rgba(243, 243, 243, 0.75)\">2</th><td class=\"tdhistory661273\"> </td></tr><tr><th class=\"tdhistory661273\" style= \"background: rgba(243, 243, 243, 0.75)\">3</th><td class=\"tdhistory661273\">   Database Name                  #tables  #views     Avail MB      Used MB</td></tr><tr><th class=\"tdhistory661273\" style= \"background: rgba(243, 243, 243, 0.75)\">4</th><td class=\"tdhistory661273\">   demo_user                           44      23  28,236.7 MB      14.0 MB </td></tr><tr><th class=\"tdhistory661273\" style= \"background: rgba(243, 243, 243, 0.75)\">5</th><td class=\"tdhistory661273\">   DEMO_Financial                       0       7       0.0 MB       0.0 MB </td></tr><tr><th class=\"tdhistory661273\" style= \"background: rgba(243, 243, 243, 0.75)\">6</th><td class=\"tdhistory661273\">   DEMO_Financial_db                    7       0   2,442.2 MB     266.1 MB </td></tr></tbody></table></div>"
      ]
     },
     "execution_count": 4,
     "metadata": {
      "application/vnd.teradata.resultset": "{\"resultSetID\":\"/home/jovyan/JupyterLabRoot/Teradata/Resultsets/2024.09.06_07.22.18.426_UTC\",\"historyID\":389,\"chunkID\":\"00001\",\"sessionid\":\"\",\"portnum\":\"\",\"dockermode\":\"docker\",\"totalRowCount\":6,\"chunkCount\":0,\"rowLimit\":0,\"columnMetadata\":[{\"columnName\":\"Space_Report\",\"columnTypeName\":\"VARCHAR\",\"length\":150,\"scale\":150}]}"
     },
     "output_type": "execute_result"
    }
   ],
   "source": [
    "call space_report();  -- optional, takes about 10 seconds"
   ]
  },
  {
   "cell_type": "markdown",
   "metadata": {},
   "source": [
    "<hr style=\"height:2px;border:none;background-color:#00233C;\">\n",
    "<p style = 'font-size:20px;font-family:Arial;color:#00233C'><b>3. Demo data - Financial Customers/Accounts/Transactions</b></p>\n",
    "\n",
    "<p style = 'font-size:16px;font-family:Arial;color:#00233C'>The following data has been put into the DEMO_Financial database for the examples in the three different Jupyter Notebooks.  It's a simplistic fictitious dataset of banking customers (approx. 10K rows), Accounts (approx. 20K rows) and Transactions (approx. 1Million rows).  They are related to each other in the following ways:</p>\n",
    "\n",
    "<img src=\"images/DemoData.png\">"
   ]
  },
  {
   "cell_type": "code",
   "execution_count": 5,
   "metadata": {
    "scrolled": true,
    "tags": []
   },
   "outputs": [
    {
     "data": {
      "application/vnd.teradata.resultset": "\"cust_id\",\"income\",\"age\",\"years_with_bank\",\"nbr_children\",\"gender\",\"marital_status\",\"postal_code\",\"state_code\"\n\"24535494\",\"40824.0\",\"66\",\"4\",\"2\",\"M\",\"1\",\"33249\",\"FL\"\n\"31340099\",\"16111.5\",\"77\",\"7\",\"0\",\"F\",\"3\",\"76164\",\"TX\"\n\"16352904\",\"3944.8\",\"31\",\"10\",\"3\",\"M\",\"1\",\"55411\",\"MN\"\n\"25891680\",\"3573.1\",\"24\",\"6\",\"0\",\"M\",\"1\",\"60665\",\"IL\"\n\"24526440\",\"52853.4\",\"38\",\"6\",\"5\",\"F\",\"4\",\"94293\",\"CA\"",
      "text/html": [
       "<div class = \"td-resultset-table-div\" style = \"max-height: 100%; overflow-y: auto\">\n",
       "      <table class=\"tdhistory364329\"><style>\n",
       "      table.tdhistory364329 { display: block !important; min-height: 189px !important; overflow: auto !important; height: 189px !important; width: 100% !important; border: 1px solid rgb(207, 207, 207) !important; border-collapse: collapse !important; ; color: var(--jp-ui-font-color1) !important; }\n",
       "      th.tdhistory364329 { border: 1px solid rgb(198,198,198) !important; border-collapse: collapse !important; ; padding: 2px 5px !important; ; font-size: 13px !important; ; text-align: center !important; white-space: normal !important; color: var(--jp-ui-font-color1) !important; }\n",
       "      th.tdhistory364329:last-child { text-align: left !important; }\n",
       "      tbody.tdhistory364329 tr:nth-child(even) { background: rgba(243, 243, 243, 0.75) !important; }\n",
       "      tbody.tdhistory364329 tr:nth-child(odd) { background: var(--jp-ui-inverse-font-color1) !important; }\n",
       "      td.tdhistory364329 { border: 1px solid rgb(207, 207, 207) !important; border-collapse: collapse !important; ; padding: 2px 5px !important; ; font-size: 13px !important; ; text-align: left !important;          white-space: nowrap !important; overflow:hidden !important; text-overflow:ellipsis !important;; }\n",
       "    </style><thead><tr style= \"background: rgba(243, 243, 243, 0.75)\"><th class=\"tdhistory364329\"></th><th class=\"tdhistory364329\">cust_id</th><th class=\"tdhistory364329\">income</th><th class=\"tdhistory364329\">age</th><th class=\"tdhistory364329\">years_with_bank</th><th class=\"tdhistory364329\">nbr_children</th><th class=\"tdhistory364329\">gender</th><th class=\"tdhistory364329\">marital_status</th><th class=\"tdhistory364329\">postal_code</th><th class=\"tdhistory364329\">state_code</th></tr></thead><tbody class=\"tdhistory364329 resultset-body\"><tr><th class=\"tdhistory364329\" style= \"background: rgba(243, 243, 243, 0.75)\">1</th><td class=\"tdhistory364329\">24535494</td><td class=\"tdhistory364329\">40824.0</td><td class=\"tdhistory364329\">66</td><td class=\"tdhistory364329\">4</td><td class=\"tdhistory364329\">2</td><td class=\"tdhistory364329\">M</td><td class=\"tdhistory364329\">1</td><td class=\"tdhistory364329\">33249</td><td class=\"tdhistory364329\">FL</td></tr><tr><th class=\"tdhistory364329\" style= \"background: rgba(243, 243, 243, 0.75)\">2</th><td class=\"tdhistory364329\">31340099</td><td class=\"tdhistory364329\">16111.5</td><td class=\"tdhistory364329\">77</td><td class=\"tdhistory364329\">7</td><td class=\"tdhistory364329\">0</td><td class=\"tdhistory364329\">F</td><td class=\"tdhistory364329\">3</td><td class=\"tdhistory364329\">76164</td><td class=\"tdhistory364329\">TX</td></tr><tr><th class=\"tdhistory364329\" style= \"background: rgba(243, 243, 243, 0.75)\">3</th><td class=\"tdhistory364329\">16352904</td><td class=\"tdhistory364329\">3944.8</td><td class=\"tdhistory364329\">31</td><td class=\"tdhistory364329\">10</td><td class=\"tdhistory364329\">3</td><td class=\"tdhistory364329\">M</td><td class=\"tdhistory364329\">1</td><td class=\"tdhistory364329\">55411</td><td class=\"tdhistory364329\">MN</td></tr><tr><th class=\"tdhistory364329\" style= \"background: rgba(243, 243, 243, 0.75)\">4</th><td class=\"tdhistory364329\">25891680</td><td class=\"tdhistory364329\">3573.1</td><td class=\"tdhistory364329\">24</td><td class=\"tdhistory364329\">6</td><td class=\"tdhistory364329\">0</td><td class=\"tdhistory364329\">M</td><td class=\"tdhistory364329\">1</td><td class=\"tdhistory364329\">60665</td><td class=\"tdhistory364329\">IL</td></tr><tr><th class=\"tdhistory364329\" style= \"background: rgba(243, 243, 243, 0.75)\">5</th><td class=\"tdhistory364329\">24526440</td><td class=\"tdhistory364329\">52853.4</td><td class=\"tdhistory364329\">38</td><td class=\"tdhistory364329\">6</td><td class=\"tdhistory364329\">5</td><td class=\"tdhistory364329\">F</td><td class=\"tdhistory364329\">4</td><td class=\"tdhistory364329\">94293</td><td class=\"tdhistory364329\">CA</td></tr></tbody></table></div>"
      ]
     },
     "execution_count": 5,
     "metadata": {
      "application/vnd.teradata.resultset": "{\"resultSetID\":\"/home/jovyan/JupyterLabRoot/Teradata/Resultsets/2024.09.06_07.22.18.502_UTC\",\"historyID\":390,\"chunkID\":\"00001\",\"sessionid\":\"\",\"portnum\":\"\",\"dockermode\":\"docker\",\"totalRowCount\":5,\"chunkCount\":0,\"rowLimit\":0,\"columnMetadata\":[{\"columnName\":\"cust_id\",\"columnTypeName\":\"INTEGER\"},{\"columnNumber\":1,\"columnName\":\"income\",\"columnTypeName\":\"DECIMAL\",\"length\":1,\"precision\":15,\"scale\":1},{\"columnNumber\":2,\"columnName\":\"age\",\"columnTypeName\":\"INTEGER\"},{\"columnNumber\":3,\"columnName\":\"years_with_bank\",\"columnTypeName\":\"INTEGER\"},{\"columnNumber\":4,\"columnName\":\"nbr_children\",\"columnTypeName\":\"INTEGER\"},{\"columnNumber\":5,\"columnName\":\"gender\",\"columnTypeName\":\"VARCHAR\",\"length\":1,\"scale\":1},{\"columnNumber\":6,\"columnName\":\"marital_status\",\"columnTypeName\":\"VARCHAR\",\"length\":1,\"scale\":1},{\"columnNumber\":7,\"columnName\":\"postal_code\",\"columnTypeName\":\"VARCHAR\",\"length\":5,\"scale\":5},{\"columnNumber\":8,\"columnName\":\"state_code\",\"columnTypeName\":\"VARCHAR\",\"length\":2,\"scale\":2}]}"
     },
     "output_type": "execute_result"
    }
   ],
   "source": [
    "SELECT TOP 5 * FROM DEMO_Financial.Customer;"
   ]
  },
  {
   "cell_type": "markdown",
   "metadata": {},
   "source": [
    "<p style = 'font-size:16px;font-family:Arial;color:#00233C'>Below command gives the metadata for the table.</p>"
   ]
  },
  {
   "cell_type": "code",
   "execution_count": 6,
   "metadata": {},
   "outputs": [
    {
     "name": "stdout",
     "output_type": "stream",
     "text": [
      "Result Set ID: /home/jovyan/JupyterLabRoot/Teradata/Resultsets/2024.09.06_07.22.18.502_UTC\n",
      "History ID:    390\n",
      "Rows:          5 of 5\n",
      "Parts:         2\n",
      "Column Definitions:\n",
      "    cust_id: INTEGER\n",
      "    income: DECIMAL(15, 1)\n",
      "    age: INTEGER\n",
      "    years_with_bank: INTEGER\n",
      "    nbr_children: INTEGER\n",
      "    gender: VARCHAR(1)\n",
      "    marital_status: VARCHAR(1)\n",
      "    postal_code: VARCHAR(5)\n",
      "    state_code: VARCHAR(2)\n"
     ]
    }
   ],
   "source": [
    "%meta"
   ]
  },
  {
   "cell_type": "code",
   "execution_count": 7,
   "metadata": {},
   "outputs": [
    {
     "data": {
      "application/vnd.teradata.resultset": "\"acct_nbr\",\"cust_id\",\"acct_type\",\"account_active\",\"acct_start_date\",\"starting_balance\",\"ending_balance\"\n\"000000001362835222\",\"29982370\",\"CK\",\"Y\",\"1995-09-22\",\"263.681\",\"2517.788\"\n\"000000001363303219\",\"25902757\",\"CK\",\"Y\",\"1995-02-18\",\"12553.065\",\"121.582\"\n\"456114321362950418\",\"24533100\",\"CC\",\"Y\",\"1995-06-10\",\"29.000\",\"249.950\"\n\"456114321363303415\",\"20449545\",\"CC\",\"Y\",\"1995-04-22\",\".000\",\"5100.000\"\n\"000000001363158310\",\"13631580\",\"SV\",\"Y\",\"1995-07-06\",\"1470.562\",\"8629.740\"",
      "text/html": [
       "<div class = \"td-resultset-table-div\" style = \"max-height: 100%; overflow-y: auto\">\n",
       "      <table class=\"tdhistory221290\"><style>\n",
       "      table.tdhistory221290 { display: block !important; min-height: 189px !important; overflow: auto !important; height: 189px !important; width: 100% !important; border: 1px solid rgb(207, 207, 207) !important; border-collapse: collapse !important; ; color: var(--jp-ui-font-color1) !important; }\n",
       "      th.tdhistory221290 { border: 1px solid rgb(198,198,198) !important; border-collapse: collapse !important; ; padding: 2px 5px !important; ; font-size: 13px !important; ; text-align: center !important; white-space: normal !important; color: var(--jp-ui-font-color1) !important; }\n",
       "      th.tdhistory221290:last-child { text-align: left !important; }\n",
       "      tbody.tdhistory221290 tr:nth-child(even) { background: rgba(243, 243, 243, 0.75) !important; }\n",
       "      tbody.tdhistory221290 tr:nth-child(odd) { background: var(--jp-ui-inverse-font-color1) !important; }\n",
       "      td.tdhistory221290 { border: 1px solid rgb(207, 207, 207) !important; border-collapse: collapse !important; ; padding: 2px 5px !important; ; font-size: 13px !important; ; text-align: left !important;          white-space: nowrap !important; overflow:hidden !important; text-overflow:ellipsis !important;; }\n",
       "    </style><thead><tr style= \"background: rgba(243, 243, 243, 0.75)\"><th class=\"tdhistory221290\"></th><th class=\"tdhistory221290\">acct_nbr</th><th class=\"tdhistory221290\">cust_id</th><th class=\"tdhistory221290\">acct_type</th><th class=\"tdhistory221290\">account_active</th><th class=\"tdhistory221290\">acct_start_date</th><th class=\"tdhistory221290\">starting_balance</th><th class=\"tdhistory221290\">ending_balance</th></tr></thead><tbody class=\"tdhistory221290 resultset-body\"><tr><th class=\"tdhistory221290\" style= \"background: rgba(243, 243, 243, 0.75)\">1</th><td class=\"tdhistory221290\">000000001362835222</td><td class=\"tdhistory221290\">29982370</td><td class=\"tdhistory221290\">CK</td><td class=\"tdhistory221290\">Y</td><td class=\"tdhistory221290\">1995-09-22</td><td class=\"tdhistory221290\">263.681</td><td class=\"tdhistory221290\">2517.788</td></tr><tr><th class=\"tdhistory221290\" style= \"background: rgba(243, 243, 243, 0.75)\">2</th><td class=\"tdhistory221290\">000000001363303219</td><td class=\"tdhistory221290\">25902757</td><td class=\"tdhistory221290\">CK</td><td class=\"tdhistory221290\">Y</td><td class=\"tdhistory221290\">1995-02-18</td><td class=\"tdhistory221290\">12553.065</td><td class=\"tdhistory221290\">121.582</td></tr><tr><th class=\"tdhistory221290\" style= \"background: rgba(243, 243, 243, 0.75)\">3</th><td class=\"tdhistory221290\">456114321362950418</td><td class=\"tdhistory221290\">24533100</td><td class=\"tdhistory221290\">CC</td><td class=\"tdhistory221290\">Y</td><td class=\"tdhistory221290\">1995-06-10</td><td class=\"tdhistory221290\">29.000</td><td class=\"tdhistory221290\">249.950</td></tr><tr><th class=\"tdhistory221290\" style= \"background: rgba(243, 243, 243, 0.75)\">4</th><td class=\"tdhistory221290\">456114321363303415</td><td class=\"tdhistory221290\">20449545</td><td class=\"tdhistory221290\">CC</td><td class=\"tdhistory221290\">Y</td><td class=\"tdhistory221290\">1995-04-22</td><td class=\"tdhistory221290\">.000</td><td class=\"tdhistory221290\">5100.000</td></tr><tr><th class=\"tdhistory221290\" style= \"background: rgba(243, 243, 243, 0.75)\">5</th><td class=\"tdhistory221290\">000000001363158310</td><td class=\"tdhistory221290\">13631580</td><td class=\"tdhistory221290\">SV</td><td class=\"tdhistory221290\">Y</td><td class=\"tdhistory221290\">1995-07-06</td><td class=\"tdhistory221290\">1470.562</td><td class=\"tdhistory221290\">8629.740</td></tr></tbody></table></div>"
      ]
     },
     "execution_count": 7,
     "metadata": {
      "application/vnd.teradata.resultset": "{\"resultSetID\":\"/home/jovyan/JupyterLabRoot/Teradata/Resultsets/2024.09.06_07.22.18.585_UTC\",\"historyID\":391,\"chunkID\":\"00001\",\"sessionid\":\"\",\"portnum\":\"\",\"dockermode\":\"docker\",\"totalRowCount\":5,\"chunkCount\":0,\"rowLimit\":0,\"columnMetadata\":[{\"columnName\":\"acct_nbr\",\"columnTypeName\":\"VARCHAR\",\"length\":18,\"scale\":18},{\"columnNumber\":1,\"columnName\":\"cust_id\",\"columnTypeName\":\"INTEGER\"},{\"columnNumber\":2,\"columnName\":\"acct_type\",\"columnTypeName\":\"VARCHAR\",\"length\":2,\"scale\":2},{\"columnNumber\":3,\"columnName\":\"account_active\",\"columnTypeName\":\"VARCHAR\",\"length\":1,\"scale\":1},{\"columnNumber\":4,\"columnName\":\"acct_start_date\",\"columnTypeName\":\"DATE\"},{\"columnNumber\":5,\"columnName\":\"starting_balance\",\"columnTypeName\":\"DECIMAL\",\"length\":3,\"precision\":11,\"scale\":3},{\"columnNumber\":6,\"columnName\":\"ending_balance\",\"columnTypeName\":\"DECIMAL\",\"length\":3,\"precision\":11,\"scale\":3}]}"
     },
     "output_type": "execute_result"
    }
   ],
   "source": [
    "SELECT TOP 5 * FROM DEMO_Financial.Accounts;"
   ]
  },
  {
   "cell_type": "code",
   "execution_count": 8,
   "metadata": {},
   "outputs": [
    {
     "data": {
      "application/vnd.teradata.resultset": "\"tran_id\",\"acct_nbr\",\"tran_amt\",\"principal_amt\",\"interest_amt\",\"new_balance\",\"tran_date\",\"tran_time\",\"channel\",\"tran_code\"\n\"2162\",\"000000001363495223\",\"151.08\",\"151.08\",\".000\",\"167.65\",\"1995-10-04\",\"192408\",\"B\",\"DP\"\n\"380\",\"000000001362571320\",\"2.01\",\".00\",\"6.010\",\"1609.42\",\"1995-11-30\",\"235959\",\"\",\"IN\"\n\"1159\",\"000000001363395219\",\".00\",\"78.00\",\".000\",\"3140.54\",\"1995-05-15\",\"170502\",\"C\",\"IQ\"\n\"88\",\"000000001363014322\",\".22\",\"9.00\",\".167\",\"172.85\",\"1995-04-30\",\"235959\",\"\",\"IN\"\n\"1036\",\"000000001362637214\",\"-81.68\",\"-18.79\",\".760\",\"228.10\",\"1995-08-09\",\"0\",\"P\",\"WD\"",
      "text/html": [
       "<div class = \"td-resultset-table-div\" style = \"max-height: 100%; overflow-y: auto\">\n",
       "      <table class=\"tdhistory498640\"><style>\n",
       "      table.tdhistory498640 { display: block !important; min-height: 189px !important; overflow: auto !important; height: 189px !important; width: 100% !important; border: 1px solid rgb(207, 207, 207) !important; border-collapse: collapse !important; ; color: var(--jp-ui-font-color1) !important; }\n",
       "      th.tdhistory498640 { border: 1px solid rgb(198,198,198) !important; border-collapse: collapse !important; ; padding: 2px 5px !important; ; font-size: 13px !important; ; text-align: center !important; white-space: normal !important; color: var(--jp-ui-font-color1) !important; }\n",
       "      th.tdhistory498640:last-child { text-align: left !important; }\n",
       "      tbody.tdhistory498640 tr:nth-child(even) { background: rgba(243, 243, 243, 0.75) !important; }\n",
       "      tbody.tdhistory498640 tr:nth-child(odd) { background: var(--jp-ui-inverse-font-color1) !important; }\n",
       "      td.tdhistory498640 { border: 1px solid rgb(207, 207, 207) !important; border-collapse: collapse !important; ; padding: 2px 5px !important; ; font-size: 13px !important; ; text-align: left !important;          white-space: nowrap !important; overflow:hidden !important; text-overflow:ellipsis !important;; }\n",
       "    </style><thead><tr style= \"background: rgba(243, 243, 243, 0.75)\"><th class=\"tdhistory498640\"></th><th class=\"tdhistory498640\">tran_id</th><th class=\"tdhistory498640\">acct_nbr</th><th class=\"tdhistory498640\">tran_amt</th><th class=\"tdhistory498640\">principal_amt</th><th class=\"tdhistory498640\">interest_amt</th><th class=\"tdhistory498640\">new_balance</th><th class=\"tdhistory498640\">tran_date</th><th class=\"tdhistory498640\">tran_time</th><th class=\"tdhistory498640\">channel</th><th class=\"tdhistory498640\">tran_code</th></tr></thead><tbody class=\"tdhistory498640 resultset-body\"><tr><th class=\"tdhistory498640\" style= \"background: rgba(243, 243, 243, 0.75)\">1</th><td class=\"tdhistory498640\">2162</td><td class=\"tdhistory498640\">000000001363495223</td><td class=\"tdhistory498640\">151.08</td><td class=\"tdhistory498640\">151.08</td><td class=\"tdhistory498640\">.000</td><td class=\"tdhistory498640\">167.65</td><td class=\"tdhistory498640\">1995-10-04</td><td class=\"tdhistory498640\">192408</td><td class=\"tdhistory498640\">B</td><td class=\"tdhistory498640\">DP</td></tr><tr><th class=\"tdhistory498640\" style= \"background: rgba(243, 243, 243, 0.75)\">2</th><td class=\"tdhistory498640\">380</td><td class=\"tdhistory498640\">000000001362571320</td><td class=\"tdhistory498640\">2.01</td><td class=\"tdhistory498640\">.00</td><td class=\"tdhistory498640\">6.010</td><td class=\"tdhistory498640\">1609.42</td><td class=\"tdhistory498640\">1995-11-30</td><td class=\"tdhistory498640\">235959</td><td class=\"tdhistory498640\"></td><td class=\"tdhistory498640\">IN</td></tr><tr><th class=\"tdhistory498640\" style= \"background: rgba(243, 243, 243, 0.75)\">3</th><td class=\"tdhistory498640\">1159</td><td class=\"tdhistory498640\">000000001363395219</td><td class=\"tdhistory498640\">.00</td><td class=\"tdhistory498640\">78.00</td><td class=\"tdhistory498640\">.000</td><td class=\"tdhistory498640\">3140.54</td><td class=\"tdhistory498640\">1995-05-15</td><td class=\"tdhistory498640\">170502</td><td class=\"tdhistory498640\">C</td><td class=\"tdhistory498640\">IQ</td></tr><tr><th class=\"tdhistory498640\" style= \"background: rgba(243, 243, 243, 0.75)\">4</th><td class=\"tdhistory498640\">88</td><td class=\"tdhistory498640\">000000001363014322</td><td class=\"tdhistory498640\">.22</td><td class=\"tdhistory498640\">9.00</td><td class=\"tdhistory498640\">.167</td><td class=\"tdhistory498640\">172.85</td><td class=\"tdhistory498640\">1995-04-30</td><td class=\"tdhistory498640\">235959</td><td class=\"tdhistory498640\"></td><td class=\"tdhistory498640\">IN</td></tr><tr><th class=\"tdhistory498640\" style= \"background: rgba(243, 243, 243, 0.75)\">5</th><td class=\"tdhistory498640\">1036</td><td class=\"tdhistory498640\">000000001362637214</td><td class=\"tdhistory498640\">-81.68</td><td class=\"tdhistory498640\">-18.79</td><td class=\"tdhistory498640\">.760</td><td class=\"tdhistory498640\">228.10</td><td class=\"tdhistory498640\">1995-08-09</td><td class=\"tdhistory498640\">0</td><td class=\"tdhistory498640\">P</td><td class=\"tdhistory498640\">WD</td></tr></tbody></table></div>"
      ]
     },
     "execution_count": 8,
     "metadata": {
      "application/vnd.teradata.resultset": "{\"resultSetID\":\"/home/jovyan/JupyterLabRoot/Teradata/Resultsets/2024.09.06_07.22.18.720_UTC\",\"historyID\":392,\"chunkID\":\"00001\",\"sessionid\":\"\",\"portnum\":\"\",\"dockermode\":\"docker\",\"totalRowCount\":5,\"chunkCount\":0,\"rowLimit\":0,\"columnMetadata\":[{\"columnName\":\"tran_id\",\"columnTypeName\":\"INTEGER\"},{\"columnNumber\":1,\"columnName\":\"acct_nbr\",\"columnTypeName\":\"VARCHAR\",\"length\":18,\"scale\":18},{\"columnNumber\":2,\"columnName\":\"tran_amt\",\"columnTypeName\":\"DECIMAL\",\"length\":2,\"precision\":9,\"scale\":2},{\"columnNumber\":3,\"columnName\":\"principal_amt\",\"columnTypeName\":\"DECIMAL\",\"length\":2,\"precision\":15,\"scale\":2},{\"columnNumber\":4,\"columnName\":\"interest_amt\",\"columnTypeName\":\"DECIMAL\",\"length\":3,\"precision\":11,\"scale\":3},{\"columnNumber\":5,\"columnName\":\"new_balance\",\"columnTypeName\":\"DECIMAL\",\"length\":2,\"precision\":9,\"scale\":2},{\"columnNumber\":6,\"columnName\":\"tran_date\",\"columnTypeName\":\"DATE\"},{\"columnNumber\":7,\"columnName\":\"tran_time\",\"columnTypeName\":\"INTEGER\"},{\"columnNumber\":8,\"columnName\":\"channel\",\"columnTypeName\":\"VARCHAR\",\"length\":1,\"scale\":1},{\"columnNumber\":9,\"columnName\":\"tran_code\",\"columnTypeName\":\"VARCHAR\",\"length\":2,\"scale\":2}]}"
     },
     "output_type": "execute_result"
    }
   ],
   "source": [
    "SELECT TOP 5 * FROM DEMO_Financial.Transactions;"
   ]
  },
  {
   "cell_type": "markdown",
   "metadata": {},
   "source": [
    "<hr style=\"height:1px;border:none;background-color:#00233C;\">"
   ]
  },
  {
   "cell_type": "markdown",
   "metadata": {},
   "source": [
    "<p style = 'font-size:16px;font-family:Arial;color:#00233C'>The following Analytic Data Set (ADS) was created by joining all three tables above:</p>"
   ]
  },
  {
   "cell_type": "code",
   "execution_count": 9,
   "metadata": {},
   "outputs": [
    {
     "data": {
      "text/plain": [
       "Success: 0 rows affected"
      ]
     },
     "execution_count": 9,
     "metadata": {
      "application/vnd.teradata.resultset": ""
     },
     "output_type": "execute_result"
    }
   ],
   "source": [
    "CREATE MULTISET TABLE demo_user.VAL_ADS AS (\n",
    "    SELECT \n",
    "        T1.cust_id  AS cust_id\n",
    "       ,MIN(T1.income) AS tot_income\n",
    "       ,MIN(T1.age) AS tot_age\n",
    "       ,MIN(T1.years_with_bank) AS tot_cust_years\n",
    "       ,MIN(T1.nbr_children) AS tot_children\n",
    "       ,CASE WHEN MIN(T1.marital_status) = 1 THEN 1 ELSE 0 END AS single_ind\n",
    "       ,CASE WHEN MIN(T1.gender) = 'F' THEN 1 ELSE 0 END AS female_ind\n",
    "       ,CASE WHEN MIN(T1.marital_status) = 2 THEN 1 ELSE 0 END AS married_ind\n",
    "       ,CASE WHEN MIN(T1.marital_status) = 3 THEN 1 ELSE 0 END AS separated_ind\n",
    "       ,MAX(CASE WHEN T1.state_code = 'CA' THEN 1 ELSE 0 END) AS ca_resident_ind\n",
    "       ,MAX(CASE WHEN T1.state_code = 'NY' THEN 1 ELSE 0 END) AS ny_resident_ind\n",
    "       ,MAX(CASE WHEN T1.state_code = 'TX' THEN 1 ELSE 0 END) AS tx_resident_ind\n",
    "       ,MAX(CASE WHEN T1.state_code = 'IL' THEN 1 ELSE 0 END) AS il_resident_ind\n",
    "       ,MAX(CASE WHEN T1.state_code = 'AZ' THEN 1 ELSE 0 END) AS az_resident_ind\n",
    "       ,MAX(CASE WHEN T1.state_code = 'OH' THEN 1 ELSE 0 END) AS oh_resident_ind\n",
    "       ,MAX(CASE WHEN T2.acct_type = 'CK' THEN 1 ELSE 0 END) AS ck_acct_ind\n",
    "       ,MAX(CASE WHEN T2.acct_type = 'SV' THEN 1 ELSE 0 END) AS sv_acct_ind\n",
    "       ,MAX(CASE WHEN T2.acct_type = 'CC' THEN 1 ELSE 0 END) AS cc_acct_ind\n",
    "       ,AVG(CASE WHEN T2.acct_type = 'CK' THEN T2.starting_balance+T2.ending_balance ELSE 0 END) AS ck_avg_bal\n",
    "       ,AVG(CASE WHEN T2.acct_type = 'SV' THEN T2.starting_balance+T2.ending_balance ELSE 0 END) AS sv_avg_bal\n",
    "       ,AVG(CASE WHEN T2.acct_type = 'CC' THEN T2.starting_balance+T2.ending_balance ELSE 0 END) AS cc_avg_bal\n",
    "       ,AVG(CASE WHEN T2.acct_type = 'CK' THEN T3.principal_amt+T3.interest_amt ELSE 0 END) AS ck_avg_tran_amt\n",
    "       ,AVG(CASE WHEN T2.acct_type = 'SV' THEN T3.principal_amt+T3.interest_amt ELSE 0 END) AS sv_avg_tran_amt\n",
    "       ,AVG(CASE WHEN T2.acct_type = 'CC' THEN T3.principal_amt+T3.interest_amt ELSE 0 END) AS cc_avg_tran_amt\n",
    "       ,COUNT(CASE WHEN ((EXTRACT(MONTH FROM T3.tran_date) + 2) / 3) = 1 THEN T3.tran_id ELSE NULL END) AS q1_trans_cnt\n",
    "       ,COUNT(CASE WHEN ((EXTRACT(MONTH FROM T3.tran_date) + 2) / 3) = 2 THEN T3.tran_id ELSE NULL END) AS q2_trans_cnt\n",
    "       ,COUNT(CASE WHEN ((EXTRACT(MONTH FROM T3.tran_date) + 2) / 3) = 3 THEN T3.tran_id ELSE NULL END) AS q3_trans_cnt\n",
    "       ,COUNT(CASE WHEN ((EXTRACT(MONTH FROM T3.tran_date) + 2) / 3) = 4 THEN T3.tran_id ELSE NULL END) AS q4_trans_cnt\n",
    "    FROM DEMO_Financial.Customer AS T1\n",
    "        LEFT OUTER JOIN DEMO_Financial.Accounts AS T2\n",
    "            ON T1.cust_id = T2.cust_id\n",
    "        LEFT OUTER JOIN DEMO_Financial.Transactions AS T3\n",
    "            ON T2.acct_nbr = T3.acct_nbr\n",
    "GROUP BY T1.cust_id) WITH DATA UNIQUE PRIMARY INDEX (cust_id);"
   ]
  },
  {
   "cell_type": "code",
   "execution_count": 10,
   "metadata": {},
   "outputs": [
    {
     "data": {
      "application/vnd.teradata.resultset": "\"cust_id\",\"tot_income\",\"tot_age\",\"tot_cust_years\",\"tot_children\",\"single_ind\",\"female_ind\",\"married_ind\",\"separated_ind\",\"ca_resident_ind\",\"ny_resident_ind\",\"tx_resident_ind\",\"il_resident_ind\",\"az_resident_ind\",\"oh_resident_ind\",\"ck_acct_ind\",\"sv_acct_ind\",\"cc_acct_ind\",\"ck_avg_bal\",\"sv_avg_bal\",\"cc_avg_bal\",\"ck_avg_tran_amt\",\"sv_avg_tran_amt\",\"cc_avg_tran_amt\",\"q1_trans_cnt\",\"q2_trans_cnt\",\"q3_trans_cnt\",\"q4_trans_cnt\"\n\"20443995\",\"29734.5\",\"60\",\"7\",\"3\",\"0\",\"0\",\"1\",\"0\",\"0\",\"0\",\"0\",\"0\",\"0\",\"0\",\"1\",\"1\",\"1\",\"872.4384223602484\",\"106.047\",\"1695.2448260869564\",\"6.055900621118012\",\"-7.2286335403726705\",\"-2.2726708074534163\",\"66\",\"58\",\"22\",\"15\"\n\"14998390\",\".0\",\"17\",\"9\",\"2\",\"1\",\"1\",\"0\",\"0\",\"0\",\"0\",\"0\",\"0\",\"0\",\"0\",\"0\",\"1\",\"0\",\"0\",\"15585.348\",\"0\",\"0\",\"2.568\",\"0\",\"3\",\"3\",\"3\",\"3\"\n\"23166359\",\"57871.4\",\"46\",\"2\",\"1\",\"0\",\"1\",\"1\",\"0\",\"0\",\"1\",\"0\",\"0\",\"0\",\"0\",\"1\",\"1\",\"1\",\"1576.2570437956203\",\"3269.4702481751824\",\"700.8271532846716\",\"50.883423357664235\",\"8.769525547445255\",\"45.81672262773723\",\"69\",\"61\",\"4\",\"3\"\n\"24532272\",\"34003.8\",\"71\",\"9\",\"2\",\"0\",\"0\",\"0\",\"1\",\"0\",\"0\",\"0\",\"0\",\"0\",\"0\",\"1\",\"1\",\"1\",\"538.0245283018868\",\"39.00377358490566\",\"676.6430188679245\",\"4.4191194968553456\",\"0.04241509433962264\",\"20.34222641509434\",\"42\",\"34\",\"39\",\"44\"\n\"23175148\",\"14354.8\",\"39\",\"5\",\"2\",\"0\",\"1\",\"1\",\"0\",\"0\",\"0\",\"0\",\"0\",\"0\",\"0\",\"0\",\"0\",\"0\",\"0\",\"0\",\"0\",\"0\",\"0\",\"0\",\"0\",\"0\",\"0\",\"0\"",
      "text/html": [
       "<div class = \"td-resultset-table-div\" style = \"max-height: 100%; overflow-y: auto\">\n",
       "      <table class=\"tdhistory674622\"><style>\n",
       "      table.tdhistory674622 { display: block !important; min-height: 189px !important; overflow: auto !important; height: 189px !important; width: 100% !important; border: 1px solid rgb(207, 207, 207) !important; border-collapse: collapse !important; ; color: var(--jp-ui-font-color1) !important; }\n",
       "      th.tdhistory674622 { border: 1px solid rgb(198,198,198) !important; border-collapse: collapse !important; ; padding: 2px 5px !important; ; font-size: 13px !important; ; text-align: center !important; white-space: normal !important; color: var(--jp-ui-font-color1) !important; }\n",
       "      th.tdhistory674622:last-child { text-align: left !important; }\n",
       "      tbody.tdhistory674622 tr:nth-child(even) { background: rgba(243, 243, 243, 0.75) !important; }\n",
       "      tbody.tdhistory674622 tr:nth-child(odd) { background: var(--jp-ui-inverse-font-color1) !important; }\n",
       "      td.tdhistory674622 { border: 1px solid rgb(207, 207, 207) !important; border-collapse: collapse !important; ; padding: 2px 5px !important; ; font-size: 13px !important; ; text-align: left !important;          white-space: nowrap !important; overflow:hidden !important; text-overflow:ellipsis !important;; }\n",
       "    </style><thead><tr style= \"background: rgba(243, 243, 243, 0.75)\"><th class=\"tdhistory674622\"></th><th class=\"tdhistory674622\">cust_id</th><th class=\"tdhistory674622\">tot_income</th><th class=\"tdhistory674622\">tot_age</th><th class=\"tdhistory674622\">tot_cust_years</th><th class=\"tdhistory674622\">tot_children</th><th class=\"tdhistory674622\">single_ind</th><th class=\"tdhistory674622\">female_ind</th><th class=\"tdhistory674622\">married_ind</th><th class=\"tdhistory674622\">separated_ind</th><th class=\"tdhistory674622\">ca_resident_ind</th><th class=\"tdhistory674622\">ny_resident_ind</th><th class=\"tdhistory674622\">tx_resident_ind</th><th class=\"tdhistory674622\">il_resident_ind</th><th class=\"tdhistory674622\">az_resident_ind</th><th class=\"tdhistory674622\">oh_resident_ind</th><th class=\"tdhistory674622\">ck_acct_ind</th><th class=\"tdhistory674622\">sv_acct_ind</th><th class=\"tdhistory674622\">cc_acct_ind</th><th class=\"tdhistory674622\">ck_avg_bal</th><th class=\"tdhistory674622\">sv_avg_bal</th><th class=\"tdhistory674622\">cc_avg_bal</th><th class=\"tdhistory674622\">ck_avg_tran_amt</th><th class=\"tdhistory674622\">sv_avg_tran_amt</th><th class=\"tdhistory674622\">cc_avg_tran_amt</th><th class=\"tdhistory674622\">q1_trans_cnt</th><th class=\"tdhistory674622\">q2_trans_cnt</th><th class=\"tdhistory674622\">q3_trans_cnt</th><th class=\"tdhistory674622\">q4_trans_cnt</th></tr></thead><tbody class=\"tdhistory674622 resultset-body\"><tr><th class=\"tdhistory674622\" style= \"background: rgba(243, 243, 243, 0.75)\">1</th><td class=\"tdhistory674622\">20443995</td><td class=\"tdhistory674622\">29734.5</td><td class=\"tdhistory674622\">60</td><td class=\"tdhistory674622\">7</td><td class=\"tdhistory674622\">3</td><td class=\"tdhistory674622\">0</td><td class=\"tdhistory674622\">0</td><td class=\"tdhistory674622\">1</td><td class=\"tdhistory674622\">0</td><td class=\"tdhistory674622\">0</td><td class=\"tdhistory674622\">0</td><td class=\"tdhistory674622\">0</td><td class=\"tdhistory674622\">0</td><td class=\"tdhistory674622\">0</td><td class=\"tdhistory674622\">0</td><td class=\"tdhistory674622\">1</td><td class=\"tdhistory674622\">1</td><td class=\"tdhistory674622\">1</td><td class=\"tdhistory674622\">872.4384223602484</td><td class=\"tdhistory674622\">106.047</td><td class=\"tdhistory674622\">1695.2448260869564</td><td class=\"tdhistory674622\">6.055900621118012</td><td class=\"tdhistory674622\">-7.2286335403726705</td><td class=\"tdhistory674622\">-2.2726708074534163</td><td class=\"tdhistory674622\">66</td><td class=\"tdhistory674622\">58</td><td class=\"tdhistory674622\">22</td><td class=\"tdhistory674622\">15</td></tr><tr><th class=\"tdhistory674622\" style= \"background: rgba(243, 243, 243, 0.75)\">2</th><td class=\"tdhistory674622\">14998390</td><td class=\"tdhistory674622\">.0</td><td class=\"tdhistory674622\">17</td><td class=\"tdhistory674622\">9</td><td class=\"tdhistory674622\">2</td><td class=\"tdhistory674622\">1</td><td class=\"tdhistory674622\">1</td><td class=\"tdhistory674622\">0</td><td class=\"tdhistory674622\">0</td><td class=\"tdhistory674622\">0</td><td class=\"tdhistory674622\">0</td><td class=\"tdhistory674622\">0</td><td class=\"tdhistory674622\">0</td><td class=\"tdhistory674622\">0</td><td class=\"tdhistory674622\">0</td><td class=\"tdhistory674622\">0</td><td class=\"tdhistory674622\">1</td><td class=\"tdhistory674622\">0</td><td class=\"tdhistory674622\">0</td><td class=\"tdhistory674622\">15585.348</td><td class=\"tdhistory674622\">0</td><td class=\"tdhistory674622\">0</td><td class=\"tdhistory674622\">2.568</td><td class=\"tdhistory674622\">0</td><td class=\"tdhistory674622\">3</td><td class=\"tdhistory674622\">3</td><td class=\"tdhistory674622\">3</td><td class=\"tdhistory674622\">3</td></tr><tr><th class=\"tdhistory674622\" style= \"background: rgba(243, 243, 243, 0.75)\">3</th><td class=\"tdhistory674622\">23166359</td><td class=\"tdhistory674622\">57871.4</td><td class=\"tdhistory674622\">46</td><td class=\"tdhistory674622\">2</td><td class=\"tdhistory674622\">1</td><td class=\"tdhistory674622\">0</td><td class=\"tdhistory674622\">1</td><td class=\"tdhistory674622\">1</td><td class=\"tdhistory674622\">0</td><td class=\"tdhistory674622\">0</td><td class=\"tdhistory674622\">1</td><td class=\"tdhistory674622\">0</td><td class=\"tdhistory674622\">0</td><td class=\"tdhistory674622\">0</td><td class=\"tdhistory674622\">0</td><td class=\"tdhistory674622\">1</td><td class=\"tdhistory674622\">1</td><td class=\"tdhistory674622\">1</td><td class=\"tdhistory674622\">1576.2570437956203</td><td class=\"tdhistory674622\">3269.4702481751824</td><td class=\"tdhistory674622\">700.8271532846716</td><td class=\"tdhistory674622\">50.883423357664235</td><td class=\"tdhistory674622\">8.769525547445255</td><td class=\"tdhistory674622\">45.81672262773723</td><td class=\"tdhistory674622\">69</td><td class=\"tdhistory674622\">61</td><td class=\"tdhistory674622\">4</td><td class=\"tdhistory674622\">3</td></tr><tr><th class=\"tdhistory674622\" style= \"background: rgba(243, 243, 243, 0.75)\">4</th><td class=\"tdhistory674622\">24532272</td><td class=\"tdhistory674622\">34003.8</td><td class=\"tdhistory674622\">71</td><td class=\"tdhistory674622\">9</td><td class=\"tdhistory674622\">2</td><td class=\"tdhistory674622\">0</td><td class=\"tdhistory674622\">0</td><td class=\"tdhistory674622\">0</td><td class=\"tdhistory674622\">1</td><td class=\"tdhistory674622\">0</td><td class=\"tdhistory674622\">0</td><td class=\"tdhistory674622\">0</td><td class=\"tdhistory674622\">0</td><td class=\"tdhistory674622\">0</td><td class=\"tdhistory674622\">0</td><td class=\"tdhistory674622\">1</td><td class=\"tdhistory674622\">1</td><td class=\"tdhistory674622\">1</td><td class=\"tdhistory674622\">538.0245283018868</td><td class=\"tdhistory674622\">39.00377358490566</td><td class=\"tdhistory674622\">676.6430188679245</td><td class=\"tdhistory674622\">4.4191194968553456</td><td class=\"tdhistory674622\">0.04241509433962264</td><td class=\"tdhistory674622\">20.34222641509434</td><td class=\"tdhistory674622\">42</td><td class=\"tdhistory674622\">34</td><td class=\"tdhistory674622\">39</td><td class=\"tdhistory674622\">44</td></tr><tr><th class=\"tdhistory674622\" style= \"background: rgba(243, 243, 243, 0.75)\">5</th><td class=\"tdhistory674622\">23175148</td><td class=\"tdhistory674622\">14354.8</td><td class=\"tdhistory674622\">39</td><td class=\"tdhistory674622\">5</td><td class=\"tdhistory674622\">2</td><td class=\"tdhistory674622\">0</td><td class=\"tdhistory674622\">1</td><td class=\"tdhistory674622\">1</td><td class=\"tdhistory674622\">0</td><td class=\"tdhistory674622\">0</td><td class=\"tdhistory674622\">0</td><td class=\"tdhistory674622\">0</td><td class=\"tdhistory674622\">0</td><td class=\"tdhistory674622\">0</td><td class=\"tdhistory674622\">0</td><td class=\"tdhistory674622\">0</td><td class=\"tdhistory674622\">0</td><td class=\"tdhistory674622\">0</td><td class=\"tdhistory674622\">0</td><td class=\"tdhistory674622\">0</td><td class=\"tdhistory674622\">0</td><td class=\"tdhistory674622\">0</td><td class=\"tdhistory674622\">0</td><td class=\"tdhistory674622\">0</td><td class=\"tdhistory674622\">0</td><td class=\"tdhistory674622\">0</td><td class=\"tdhistory674622\">0</td><td class=\"tdhistory674622\">0</td></tr></tbody></table></div>"
      ]
     },
     "execution_count": 10,
     "metadata": {
      "application/vnd.teradata.resultset": "{\"resultSetID\":\"/home/jovyan/JupyterLabRoot/Teradata/Resultsets/2024.09.06_07.22.24.716_UTC\",\"historyID\":394,\"chunkID\":\"00001\",\"sessionid\":\"\",\"portnum\":\"\",\"dockermode\":\"docker\",\"totalRowCount\":5,\"chunkCount\":0,\"rowLimit\":0,\"columnMetadata\":[{\"columnName\":\"cust_id\",\"columnTypeName\":\"INTEGER\"},{\"columnNumber\":1,\"columnName\":\"tot_income\",\"columnTypeName\":\"DECIMAL\",\"length\":1,\"precision\":15,\"scale\":1},{\"columnNumber\":2,\"columnName\":\"tot_age\",\"columnTypeName\":\"INTEGER\"},{\"columnNumber\":3,\"columnName\":\"tot_cust_years\",\"columnTypeName\":\"INTEGER\"},{\"columnNumber\":4,\"columnName\":\"tot_children\",\"columnTypeName\":\"INTEGER\"},{\"columnNumber\":5,\"columnName\":\"single_ind\",\"columnTypeName\":\"BYTEINT\"},{\"columnNumber\":6,\"columnName\":\"female_ind\",\"columnTypeName\":\"BYTEINT\"},{\"columnNumber\":7,\"columnName\":\"married_ind\",\"columnTypeName\":\"BYTEINT\"},{\"columnNumber\":8,\"columnName\":\"separated_ind\",\"columnTypeName\":\"BYTEINT\"},{\"columnNumber\":9,\"columnName\":\"ca_resident_ind\",\"columnTypeName\":\"BYTEINT\"},{\"columnNumber\":10,\"columnName\":\"ny_resident_ind\",\"columnTypeName\":\"BYTEINT\"},{\"columnNumber\":11,\"columnName\":\"tx_resident_ind\",\"columnTypeName\":\"BYTEINT\"},{\"columnNumber\":12,\"columnName\":\"il_resident_ind\",\"columnTypeName\":\"BYTEINT\"},{\"columnNumber\":13,\"columnName\":\"az_resident_ind\",\"columnTypeName\":\"BYTEINT\"},{\"columnNumber\":14,\"columnName\":\"oh_resident_ind\",\"columnTypeName\":\"BYTEINT\"},{\"columnNumber\":15,\"columnName\":\"ck_acct_ind\",\"columnTypeName\":\"BYTEINT\"},{\"columnNumber\":16,\"columnName\":\"sv_acct_ind\",\"columnTypeName\":\"BYTEINT\"},{\"columnNumber\":17,\"columnName\":\"cc_acct_ind\",\"columnTypeName\":\"BYTEINT\"},{\"columnNumber\":18,\"columnName\":\"ck_avg_bal\",\"columnTypeName\":\"FLOAT\"},{\"columnNumber\":19,\"columnName\":\"sv_avg_bal\",\"columnTypeName\":\"FLOAT\"},{\"columnNumber\":20,\"columnName\":\"cc_avg_bal\",\"columnTypeName\":\"FLOAT\"},{\"columnNumber\":21,\"columnName\":\"ck_avg_tran_amt\",\"columnTypeName\":\"FLOAT\"},{\"columnNumber\":22,\"columnName\":\"sv_avg_tran_amt\",\"columnTypeName\":\"FLOAT\"},{\"columnNumber\":23,\"columnName\":\"cc_avg_tran_amt\",\"columnTypeName\":\"FLOAT\"},{\"columnNumber\":24,\"columnName\":\"q1_trans_cnt\",\"columnTypeName\":\"INTEGER\"},{\"columnNumber\":25,\"columnName\":\"q2_trans_cnt\",\"columnTypeName\":\"INTEGER\"},{\"columnNumber\":26,\"columnName\":\"q3_trans_cnt\",\"columnTypeName\":\"INTEGER\"},{\"columnNumber\":27,\"columnName\":\"q4_trans_cnt\",\"columnTypeName\":\"INTEGER\"}]}"
     },
     "output_type": "execute_result"
    }
   ],
   "source": [
    "SELECT TOP 5 * FROM VAL_ADS;"
   ]
  },
  {
   "cell_type": "markdown",
   "metadata": {},
   "source": [
    "<hr style=\"height:2px;border:none;background-color:#00233C;\">\n",
    "<p style = 'font-size:20px;font-family:Arial;color:#00233C'><b>4. Statistical Tests</b></p>\n",
    "\n",
    "<p style = 'font-size:18px;font-family:Arial;color:#00233C'><b>Binomial Tests</b></p>\n",
    "\n",
    "<p style = 'font-size:16px;font-family:Arial;color:#00233C'><b>Purpose</b></p>\n",
    "<p style = 'font-size:16px;font-family:Arial;color:#00233C'>In a binomial test there are assumed to be an independent trials, each with two possible outcomes, each of equal probability.  You may choose to perform a binomial test, in which the sign of the difference between a first and second column is analyzed, or a sign test, in which the sign of a single column is analyzed.  In a binomial test, you may choose to use a probability different from the 0.5 default value, whereas in a sign test, the binomial probability is fixed at 0.5.</p>\n",
    "\n",
    "<p style = 'font-size:16px;font-family:Arial;color:#00233C'><b>Required Parameters</b></p>\n",
    "\n",
    "<p style = 'font-size:16px;font-family:Arial;color:#00233C'><b>- **binomialtest**</b></p>\n",
    "\n",
    "\n",
    "<p style = 'font-size:16px;font-family:Arial;color:#00233C'>The binomialtest parameter:</p>\n",
    "<p style = 'font-size:16px;font-family:Arial;color:#00233C'>\n",
    "    <li>Is required</li>\n",
    "    <li>Must be the first parameter</li>\n",
    "    <li>Is always enclosed in single quotes</li>\n",
    "</p>\n",
    "\n",
    "<p style = 'font-size:16px;font-family:Arial;color:#00233C'><b>- **database**</b></p>\n",
    "\n",
    "<p style = 'font-size:16px;font-family:Arial;color:#00233C'>The database containing the table to analyze.</p>\n",
    "\n",
    "<p style = 'font-size:16px;font-family:Arial;color:#00233C'><b>- **firstcolumn**</b></p>\n",
    "\n",
    "<p style = 'font-size:16px;font-family:Arial;color:#00233C'>The column to analyze. It must reside in the table indicated by the tablename parameter</p>\n",
    "\n",
    "<p style = 'font-size:16px;font-family:Arial;color:#00233C'><b>- **tablename**</b></p>\n",
    "\n",
    "<p style = 'font-size:16px;font-family:Arial;color:#00233C'>The table containing the columns to analyze.  It must reside in the database indicated by the database parameter.</p>\n",
    "\n",
    "<p style = 'font-size:16px;font-family:Arial;color:#00233C'><b>Optional Parameters</b></p>\n",
    "\n",
    "<p style = 'font-size:16px;font-family:Arial;color:#00233C'><b>- **binomialprobability**</b></p>\n",
    "\n",
    "<p style = 'font-size:16px;font-family:Arial;color:#00233C'>You may optionally change the binomial probability or allow it to default to 0.5.  This parameter may not be used for a sign test.</p>\n",
    "\n",
    "<p style = 'font-size:16px;font-family:Arial;color:#00233C'><b>- **exactmatches**</b></p>\n",
    "\n",
    "<p style = 'font-size:16px;font-family:Arial;color:#00233C'>This parameter determines what category to place exact matches in.  If zero, exact match is discarded.  If positive, match is placed with values greater than or equal to zero.  If negative or parameter not specified (default), match is placed with values less than or equal to zero.  Note that the exactmatches parameter is not allowed if this is a sign test.</p>\n",
    "\n",
    "<p style = 'font-size:16px;font-family:Arial;color:#00233C'><b>- **fallback**</b></p>\n",
    "\n",
    "<p style = 'font-size:16px;font-family:Arial;color:#00233C'>When true, FALLBACK is requested as an attribute of the created output results table.  When false or parameter not specified, the FALLBACK attribute is not included in the create table SQL.</p>\n",
    "\n",
    "<p style = 'font-size:16px;font-family:Arial;color:#00233C'><b>- **gensqlonly**</b></p>\n",
    "\n",
    "<p style = 'font-size:16px;font-family:Arial;color:#00233C'>When true, the SQL for the requested function is returned as a result set but not run. When not specified or set to false, the SQL is run but not returned.</p>\n",
    "\n",
    "<p style = 'font-size:16px;font-family:Arial;color:#00233C'><b>- **groupby**</b></p>\n",
    "\n",
    "<p style = 'font-size:16px;font-family:Arial;color:#00233C'>One or more group-by columns may optionally be specified so that a separate result is produced for each value or combination of values in the specified column or columns.</p>\n",
    "\n",
    "<p style = 'font-size:16px;font-family:Arial;color:#00233C'><b>- **multiset**</b></p>\n",
    "\n",
    "<p style = 'font-size:16px;font-family:Arial;color:#00233C'>When true, MULTISET is requested as an attribute of the created output results table.  When false or parameter not specified, the MULTISET attribute is not included in the create table SQL.</p>\n",
    "\n",
    "<p style = 'font-size:16px;font-family:Arial;color:#00233C'><b>- **outputdatabase**</b></p>\n",
    "\n",
    "<p style = 'font-size:16px;font-family:Arial;color:#00233C'>Specifies the name of the database to contain the analysis results table.</p>\n",
    "\n",
    "<p style = 'font-size:16px;font-family:Arial;color:#00233C'><b>- **outputtablename**</b></p>\n",
    "\n",
    "<p style = 'font-size:16px;font-family:Arial;color:#00233C'>Specifies the name of the table to store the analysis results. If not supplied, the results are returned as a result set.</p>\n",
    "\n",
    "<p style = 'font-size:16px;font-family:Arial;color:#00233C'><b>- **overwrite**</b></p>\n",
    "\n",
    "<p style = 'font-size:16px;font-family:Arial;color:#00233C'>When overwrite is set to true or not set, the output table is dropped before creating a new one.</p>\n",
    "\n",
    "<p style = 'font-size:16px;font-family:Arial;color:#00233C'><b>- **secondcolumn**</b></p>\n",
    "\n",
    "<p style = 'font-size:16px;font-family:Arial;color:#00233C'>A second column is required when performing a binomial test, and not allowed when performing a sign test.</p>\n",
    "\n",
    "<p style = 'font-size:16px;font-family:Arial;color:#00233C'><b>- **singletail**</b></p>\n",
    "\n",
    "<p style = 'font-size:16px;font-family:Arial;color:#00233C'>A single-tailed test may be requested by setting this parameter to true.  A two-tailed test may be requested by setting this parameter to false or by not specifying it at all (the default value).  If the binomial probability is not 0.5, singletail must be set to true.</p>\n",
    "\n",
    "<p style = 'font-size:16px;font-family:Arial;color:#00233C'><b>- **statsdatabase**</b></p>\n",
    "\n",
    "<p style = 'font-size:16px;font-family:Arial;color:#00233C'>This is the database where the statistical test metadata tables are installed.  If not specified, the source database is searched for these metadata tables.</p>\n",
    "\n",
    "<p style = 'font-size:16px;font-family:Arial;color:#00233C'><b>- **teststyle**</b></p>\n",
    "\n",
    "<p style = 'font-size:16px;font-family:Arial;color:#00233C'>The valid values are binomial and sign, representing a binomial or sign test.  If not specified, the default test style is binomial.</p>\n",
    "\n",
    "<p style = 'font-size:16px;font-family:Arial;color:#00233C'><b>- **thresholdprobability**</b></p>\n",
    "\n",
    "<p style = 'font-size:16px;font-family:Arial;color:#00233C'>You may optionally change the threshold probability or allow it to default to 0.05.  Below this  \"alpha\" probability the null hypothesis is rejected</p>"
   ]
  },
  {
   "cell_type": "markdown",
   "metadata": {},
   "source": [
    "<hr style=\"height:1px;border:none;background-color:#00233C;\">"
   ]
  },
  {
   "cell_type": "markdown",
   "metadata": {},
   "source": [
    "<p style = 'font-size:16px;font-family:Arial;color:#00233C'>1.  Binomial test producing an unpersisted result set with default values for thresholdprobabilty (.05), binomialprobability (0.5), singletail (false) and exactmatches (negative).</p>"
   ]
  },
  {
   "cell_type": "code",
   "execution_count": 11,
   "metadata": {},
   "outputs": [
    {
     "data": {
      "text/plain": [
       "Success: 0 rows affected"
      ]
     },
     "execution_count": 11,
     "metadata": {
      "application/vnd.teradata.resultset": ""
     },
     "output_type": "execute_result"
    },
    {
     "data": {
      "application/vnd.teradata.resultset": "\"N\",\"NPos\",\"NNeg\",\"BP\",\"BinomialCallP_0.05\"\n\"10458\",\"6384\",\"4074\",\"2e-06\",\"p\"",
      "text/html": [
       "<div class = \"td-resultset-table-div\" style = \"max-height: 100%; overflow-y: auto\">\n",
       "      <table class=\"tdhistory428970\"><style>\n",
       "      table.tdhistory428970 { display: block !important; min-height: 105px !important; overflow: auto !important; height: 105px !important; width: 100% !important; border: 1px solid rgb(207, 207, 207) !important; border-collapse: collapse !important; ; color: var(--jp-ui-font-color1) !important; }\n",
       "      th.tdhistory428970 { border: 1px solid rgb(198,198,198) !important; border-collapse: collapse !important; ; padding: 2px 5px !important; ; font-size: 13px !important; ; text-align: center !important; white-space: normal !important; color: var(--jp-ui-font-color1) !important; }\n",
       "      th.tdhistory428970:last-child { text-align: left !important; }\n",
       "      tbody.tdhistory428970 tr:nth-child(even) { background: rgba(243, 243, 243, 0.75) !important; }\n",
       "      tbody.tdhistory428970 tr:nth-child(odd) { background: var(--jp-ui-inverse-font-color1) !important; }\n",
       "      td.tdhistory428970 { border: 1px solid rgb(207, 207, 207) !important; border-collapse: collapse !important; ; padding: 2px 5px !important; ; font-size: 13px !important; ; text-align: left !important;          white-space: nowrap !important; overflow:hidden !important; text-overflow:ellipsis !important;; }\n",
       "    </style><thead><tr style= \"background: rgba(243, 243, 243, 0.75)\"><th class=\"tdhistory428970\"></th><th class=\"tdhistory428970\">N</th><th class=\"tdhistory428970\">NPos</th><th class=\"tdhistory428970\">NNeg</th><th class=\"tdhistory428970\">BP</th><th class=\"tdhistory428970\">BinomialCallP_0.05</th></tr></thead><tbody class=\"tdhistory428970 resultset-body\"><tr><th class=\"tdhistory428970\" style= \"background: rgba(243, 243, 243, 0.75)\">1</th><td class=\"tdhistory428970\">10458</td><td class=\"tdhistory428970\">6384</td><td class=\"tdhistory428970\">4074</td><td class=\"tdhistory428970\">2e-06</td><td class=\"tdhistory428970\">p</td></tr></tbody></table></div>"
      ]
     },
     "execution_count": 11,
     "metadata": {
      "application/vnd.teradata.resultset": "{\"resultSetID\":\"/home/jovyan/JupyterLabRoot/Teradata/Resultsets/2024.09.06_07.22.27.339_UTC\",\"historyID\":395,\"chunkID\":\"00001\",\"sessionid\":\"\",\"portnum\":\"\",\"dockermode\":\"docker\",\"totalRowCount\":1,\"chunkCount\":0,\"rowLimit\":0,\"columnMetadata\":[{\"columnName\":\"N\",\"columnTypeName\":\"FLOAT\"},{\"columnNumber\":1,\"columnName\":\"NPos\",\"columnTypeName\":\"FLOAT\"},{\"columnNumber\":2,\"columnName\":\"NNeg\",\"columnTypeName\":\"FLOAT\"},{\"columnNumber\":3,\"columnName\":\"BP\",\"columnTypeName\":\"FLOAT\"},{\"columnNumber\":4,\"columnName\":\"BinomialCallP_0.05\",\"columnTypeName\":\"VARCHAR\",\"length\":1,\"scale\":1}]}"
     },
     "output_type": "execute_result"
    }
   ],
   "source": [
    "call val.td_analyze('BinomialTest',\n",
    "                         'database=demo_user;\n",
    "                          tablename=VAL_ADS;\n",
    "                          firstcolumn=sv_avg_bal;\n",
    "                          secondcolumn=ck_avg_bal;\n",
    "                          statsdatabase=val;');"
   ]
  },
  {
   "cell_type": "markdown",
   "metadata": {},
   "source": [
    "<p style = 'font-size:16px;font-family:Arial;color:#00233C'>The above output has the output columns as below(If there are groupby columns, they comprise the UPI(Unique Primary Index). Otherwise, N is the UPI.\n",
    "\n",
    "teststyle = binomial (Default))</p>\n",
    "\n",
    " <table style = 'font-size:14px;font-family:Arial;color:#00233C'>\n",
    "  <tr>\n",
    "    <th>Column</th>\n",
    "    <th>DataType</th>\n",
    "    <th>Description</th>\n",
    "  </tr>\n",
    "  <tr>\n",
    "    <td>N</td>\n",
    "    <td>Float</td>  \n",
    "    <td>Count of value pairs.</td>\n",
    "  </tr>\n",
    "  <tr>\n",
    "    <td>NPos</td>\n",
    "    <td>Float</td>  \n",
    "    <td>Count of positive value differences.</td>\n",
    "  </tr>\n",
    "  <tr>\n",
    "    <td>NNeg</td>\n",
    "    <td>Float</td>  \n",
    "    <td>Count of negative value differences.</td>\n",
    "  </tr>\n",
    "  <tr>\n",
    "    <td>BO</td>\n",
    "    <td>Float</td>  \n",
    "    <td>Binomial probability.</td>\n",
    "  </tr>\n",
    "  <tr>\n",
    "    <td>BinomialCallP</td>\n",
    "    <td>Char</td>  \n",
    "    <td>Binomial result:\n",
    "        <li>a=accept null hypothesis</li>\n",
    "        <li>p=reject null hypothesis (positive)</li>\n",
    "        <li>n=reject null hypothesis (negative)</li>\n",
    "    </td>\n",
    "  </tr>    \n",
    "</table>\n",
    "   \n",
    "<p>"
   ]
  },
  {
   "cell_type": "markdown",
   "metadata": {},
   "source": [
    "<p style = 'font-size:16px;font-family:Arial;color:#00233C'>2.  Binomial test producing a result table and introducing a groupby variable gender with default values for other parameters.</p>"
   ]
  },
  {
   "cell_type": "code",
   "execution_count": 12,
   "metadata": {},
   "outputs": [
    {
     "data": {
      "text/plain": [
       "Success: 0 rows affected"
      ]
     },
     "execution_count": 12,
     "metadata": {
      "application/vnd.teradata.resultset": ""
     },
     "output_type": "execute_result"
    }
   ],
   "source": [
    "call val.td_analyze('BinomialTest', \n",
    "                         'database=demo_user;\n",
    "                          tablename=VAL_ADS;\n",
    "                          firstcolumn=sv_avg_bal;\n",
    "                          secondcolumn=ck_avg_bal;\n",
    "                          groupby=female_ind;\n",
    "                          outputdatabase=demo_user;\n",
    "                          outputtablename=_val_binomial_example2;\n",
    "                          statsdatabase=val;');"
   ]
  },
  {
   "cell_type": "code",
   "execution_count": 13,
   "metadata": {
    "tags": []
   },
   "outputs": [
    {
     "data": {
      "application/vnd.teradata.resultset": "\"female_ind\",\"N\",\"NPos\",\"NNeg\",\"BP\",\"BinomialCallP_0.05\"\n\"1\",\"5852\",\"3717\",\"2135\",\"2e-06\",\"p\"\n\"0\",\"4606\",\"2667\",\"1939\",\"2e-06\",\"p\"",
      "text/html": [
       "<div class = \"td-resultset-table-div\" style = \"max-height: 100%; overflow-y: auto\">\n",
       "      <table class=\"tdhistory5927\"><style>\n",
       "      table.tdhistory5927 { display: block !important; min-height: 126px !important; overflow: auto !important; height: 126px !important; width: 100% !important; border: 1px solid rgb(207, 207, 207) !important; border-collapse: collapse !important; ; color: var(--jp-ui-font-color1) !important; }\n",
       "      th.tdhistory5927 { border: 1px solid rgb(198,198,198) !important; border-collapse: collapse !important; ; padding: 2px 5px !important; ; font-size: 13px !important; ; text-align: center !important; white-space: normal !important; color: var(--jp-ui-font-color1) !important; }\n",
       "      th.tdhistory5927:last-child { text-align: left !important; }\n",
       "      tbody.tdhistory5927 tr:nth-child(even) { background: rgba(243, 243, 243, 0.75) !important; }\n",
       "      tbody.tdhistory5927 tr:nth-child(odd) { background: var(--jp-ui-inverse-font-color1) !important; }\n",
       "      td.tdhistory5927 { border: 1px solid rgb(207, 207, 207) !important; border-collapse: collapse !important; ; padding: 2px 5px !important; ; font-size: 13px !important; ; text-align: left !important;          white-space: nowrap !important; overflow:hidden !important; text-overflow:ellipsis !important;; }\n",
       "    </style><thead><tr style= \"background: rgba(243, 243, 243, 0.75)\"><th class=\"tdhistory5927\"></th><th class=\"tdhistory5927\">female_ind</th><th class=\"tdhistory5927\">N</th><th class=\"tdhistory5927\">NPos</th><th class=\"tdhistory5927\">NNeg</th><th class=\"tdhistory5927\">BP</th><th class=\"tdhistory5927\">BinomialCallP_0.05</th></tr></thead><tbody class=\"tdhistory5927 resultset-body\"><tr><th class=\"tdhistory5927\" style= \"background: rgba(243, 243, 243, 0.75)\">1</th><td class=\"tdhistory5927\">1</td><td class=\"tdhistory5927\">5852</td><td class=\"tdhistory5927\">3717</td><td class=\"tdhistory5927\">2135</td><td class=\"tdhistory5927\">2e-06</td><td class=\"tdhistory5927\">p</td></tr><tr><th class=\"tdhistory5927\" style= \"background: rgba(243, 243, 243, 0.75)\">2</th><td class=\"tdhistory5927\">0</td><td class=\"tdhistory5927\">4606</td><td class=\"tdhistory5927\">2667</td><td class=\"tdhistory5927\">1939</td><td class=\"tdhistory5927\">2e-06</td><td class=\"tdhistory5927\">p</td></tr></tbody></table></div>"
      ]
     },
     "execution_count": 13,
     "metadata": {
      "application/vnd.teradata.resultset": "{\"resultSetID\":\"/home/jovyan/JupyterLabRoot/Teradata/Resultsets/2024.09.06_07.22.28.546_UTC\",\"historyID\":397,\"chunkID\":\"00001\",\"sessionid\":\"\",\"portnum\":\"\",\"dockermode\":\"docker\",\"totalRowCount\":2,\"chunkCount\":0,\"rowLimit\":0,\"columnMetadata\":[{\"columnName\":\"female_ind\",\"columnTypeName\":\"BYTEINT\"},{\"columnNumber\":1,\"columnName\":\"N\",\"columnTypeName\":\"FLOAT\"},{\"columnNumber\":2,\"columnName\":\"NPos\",\"columnTypeName\":\"FLOAT\"},{\"columnNumber\":3,\"columnName\":\"NNeg\",\"columnTypeName\":\"FLOAT\"},{\"columnNumber\":4,\"columnName\":\"BP\",\"columnTypeName\":\"FLOAT\"},{\"columnNumber\":5,\"columnName\":\"BinomialCallP_0.05\",\"columnTypeName\":\"VARCHAR\",\"length\":1,\"scale\":1}]}"
     },
     "output_type": "execute_result"
    }
   ],
   "source": [
    "SELECT TOP 5 * FROM demo_user._val_binomial_example2;"
   ]
  },
  {
   "cell_type": "markdown",
   "metadata": {},
   "source": [
    "<p style = 'font-size:16px;font-family:Arial;color:#00233C'>The above output has columns similar to those mentioned in the previous call. We have 2 rows as they are classified based on gender.</p>"
   ]
  },
  {
   "cell_type": "markdown",
   "metadata": {},
   "source": [
    "<p style = 'font-size:16px;font-family:Arial;color:#00233C'>3.  Sign test producing an unpersisted result set with default values for thresholdprobabilty (.05) and singletail (false).</p>"
   ]
  },
  {
   "cell_type": "code",
   "execution_count": 14,
   "metadata": {},
   "outputs": [
    {
     "data": {
      "text/plain": [
       "Success: 0 rows affected"
      ]
     },
     "execution_count": 14,
     "metadata": {
      "application/vnd.teradata.resultset": ""
     },
     "output_type": "execute_result"
    },
    {
     "data": {
      "application/vnd.teradata.resultset": "\"N\",\"NPos\",\"NNeg\",\"BP\",\"BinomialCallP_0.05\"\n\"10458\",\"5894\",\"4564\",\"2e-06\",\"p\"",
      "text/html": [
       "<div class = \"td-resultset-table-div\" style = \"max-height: 100%; overflow-y: auto\">\n",
       "      <table class=\"tdhistory310807\"><style>\n",
       "      table.tdhistory310807 { display: block !important; min-height: 105px !important; overflow: auto !important; height: 105px !important; width: 100% !important; border: 1px solid rgb(207, 207, 207) !important; border-collapse: collapse !important; ; color: var(--jp-ui-font-color1) !important; }\n",
       "      th.tdhistory310807 { border: 1px solid rgb(198,198,198) !important; border-collapse: collapse !important; ; padding: 2px 5px !important; ; font-size: 13px !important; ; text-align: center !important; white-space: normal !important; color: var(--jp-ui-font-color1) !important; }\n",
       "      th.tdhistory310807:last-child { text-align: left !important; }\n",
       "      tbody.tdhistory310807 tr:nth-child(even) { background: rgba(243, 243, 243, 0.75) !important; }\n",
       "      tbody.tdhistory310807 tr:nth-child(odd) { background: var(--jp-ui-inverse-font-color1) !important; }\n",
       "      td.tdhistory310807 { border: 1px solid rgb(207, 207, 207) !important; border-collapse: collapse !important; ; padding: 2px 5px !important; ; font-size: 13px !important; ; text-align: left !important;          white-space: nowrap !important; overflow:hidden !important; text-overflow:ellipsis !important;; }\n",
       "    </style><thead><tr style= \"background: rgba(243, 243, 243, 0.75)\"><th class=\"tdhistory310807\"></th><th class=\"tdhistory310807\">N</th><th class=\"tdhistory310807\">NPos</th><th class=\"tdhistory310807\">NNeg</th><th class=\"tdhistory310807\">BP</th><th class=\"tdhistory310807\">BinomialCallP_0.05</th></tr></thead><tbody class=\"tdhistory310807 resultset-body\"><tr><th class=\"tdhistory310807\" style= \"background: rgba(243, 243, 243, 0.75)\">1</th><td class=\"tdhistory310807\">10458</td><td class=\"tdhistory310807\">5894</td><td class=\"tdhistory310807\">4564</td><td class=\"tdhistory310807\">2e-06</td><td class=\"tdhistory310807\">p</td></tr></tbody></table></div>"
      ]
     },
     "execution_count": 14,
     "metadata": {
      "application/vnd.teradata.resultset": "{\"resultSetID\":\"/home/jovyan/JupyterLabRoot/Teradata/Resultsets/2024.09.06_07.22.29.254_UTC\",\"historyID\":398,\"chunkID\":\"00001\",\"sessionid\":\"\",\"portnum\":\"\",\"dockermode\":\"docker\",\"totalRowCount\":1,\"chunkCount\":0,\"rowLimit\":0,\"columnMetadata\":[{\"columnName\":\"N\",\"columnTypeName\":\"FLOAT\"},{\"columnNumber\":1,\"columnName\":\"NPos\",\"columnTypeName\":\"FLOAT\"},{\"columnNumber\":2,\"columnName\":\"NNeg\",\"columnTypeName\":\"FLOAT\"},{\"columnNumber\":3,\"columnName\":\"BP\",\"columnTypeName\":\"FLOAT\"},{\"columnNumber\":4,\"columnName\":\"BinomialCallP_0.05\",\"columnTypeName\":\"VARCHAR\",\"length\":1,\"scale\":1}]}"
     },
     "output_type": "execute_result"
    }
   ],
   "source": [
    "call val.td_analyze('BinomialTest',\n",
    "                         'database=demo_user;\n",
    "                          tablename=VAL_ADS;\n",
    "                          firstcolumn=sv_avg_bal;\n",
    "                          teststyle=sign;\n",
    "                          statsdatabase=val;');"
   ]
  },
  {
   "cell_type": "markdown",
   "metadata": {},
   "source": [
    "<p style = 'font-size:16px;font-family:Arial;color:#00233C'>The above output has columns similar to those mentioned in the previous call. We have only 1 row as output as we do not have the group by gender.</p>"
   ]
  },
  {
   "cell_type": "markdown",
   "metadata": {},
   "source": [
    "<p style = 'font-size:16px;font-family:Arial;color:#00233C'>4.  Sign test producing a result table and introducing a groupby variable gender with default values for other parameters.</p>"
   ]
  },
  {
   "cell_type": "code",
   "execution_count": 15,
   "metadata": {},
   "outputs": [
    {
     "data": {
      "text/plain": [
       "Success: 0 rows affected"
      ]
     },
     "execution_count": 15,
     "metadata": {
      "application/vnd.teradata.resultset": ""
     },
     "output_type": "execute_result"
    }
   ],
   "source": [
    "call val.td_analyze('BinomialTest', \n",
    "                         'database=demo_user;\n",
    "                          tablename=VAL_ADS;\n",
    "                          firstcolumn=sv_avg_bal;\n",
    "                          groupby=female_ind;\n",
    "                          outputdatabase=demo_user;\n",
    "                          outputtablename=_val_binomial_example4;\n",
    "                          teststyle=sign;\n",
    "                          statsdatabase=val;');"
   ]
  },
  {
   "cell_type": "code",
   "execution_count": 16,
   "metadata": {},
   "outputs": [
    {
     "data": {
      "application/vnd.teradata.resultset": "\"female_ind\",\"N\",\"NPos\",\"NNeg\",\"BP\",\"BinomialCallP_0.05\"\n\"0\",\"4606\",\"2380\",\"2226\",\"0.023268256\",\"p\"\n\"1\",\"5852\",\"3514\",\"2338\",\"2e-06\",\"p\"",
      "text/html": [
       "<div class = \"td-resultset-table-div\" style = \"max-height: 100%; overflow-y: auto\">\n",
       "      <table class=\"tdhistory804398\"><style>\n",
       "      table.tdhistory804398 { display: block !important; min-height: 126px !important; overflow: auto !important; height: 126px !important; width: 100% !important; border: 1px solid rgb(207, 207, 207) !important; border-collapse: collapse !important; ; color: var(--jp-ui-font-color1) !important; }\n",
       "      th.tdhistory804398 { border: 1px solid rgb(198,198,198) !important; border-collapse: collapse !important; ; padding: 2px 5px !important; ; font-size: 13px !important; ; text-align: center !important; white-space: normal !important; color: var(--jp-ui-font-color1) !important; }\n",
       "      th.tdhistory804398:last-child { text-align: left !important; }\n",
       "      tbody.tdhistory804398 tr:nth-child(even) { background: rgba(243, 243, 243, 0.75) !important; }\n",
       "      tbody.tdhistory804398 tr:nth-child(odd) { background: var(--jp-ui-inverse-font-color1) !important; }\n",
       "      td.tdhistory804398 { border: 1px solid rgb(207, 207, 207) !important; border-collapse: collapse !important; ; padding: 2px 5px !important; ; font-size: 13px !important; ; text-align: left !important;          white-space: nowrap !important; overflow:hidden !important; text-overflow:ellipsis !important;; }\n",
       "    </style><thead><tr style= \"background: rgba(243, 243, 243, 0.75)\"><th class=\"tdhistory804398\"></th><th class=\"tdhistory804398\">female_ind</th><th class=\"tdhistory804398\">N</th><th class=\"tdhistory804398\">NPos</th><th class=\"tdhistory804398\">NNeg</th><th class=\"tdhistory804398\">BP</th><th class=\"tdhistory804398\">BinomialCallP_0.05</th></tr></thead><tbody class=\"tdhistory804398 resultset-body\"><tr><th class=\"tdhistory804398\" style= \"background: rgba(243, 243, 243, 0.75)\">1</th><td class=\"tdhistory804398\">0</td><td class=\"tdhistory804398\">4606</td><td class=\"tdhistory804398\">2380</td><td class=\"tdhistory804398\">2226</td><td class=\"tdhistory804398\">0.023268256</td><td class=\"tdhistory804398\">p</td></tr><tr><th class=\"tdhistory804398\" style= \"background: rgba(243, 243, 243, 0.75)\">2</th><td class=\"tdhistory804398\">1</td><td class=\"tdhistory804398\">5852</td><td class=\"tdhistory804398\">3514</td><td class=\"tdhistory804398\">2338</td><td class=\"tdhistory804398\">2e-06</td><td class=\"tdhistory804398\">p</td></tr></tbody></table></div>"
      ]
     },
     "execution_count": 16,
     "metadata": {
      "application/vnd.teradata.resultset": "{\"resultSetID\":\"/home/jovyan/JupyterLabRoot/Teradata/Resultsets/2024.09.06_07.22.30.443_UTC\",\"historyID\":400,\"chunkID\":\"00001\",\"sessionid\":\"\",\"portnum\":\"\",\"dockermode\":\"docker\",\"totalRowCount\":2,\"chunkCount\":0,\"rowLimit\":0,\"columnMetadata\":[{\"columnName\":\"female_ind\",\"columnTypeName\":\"BYTEINT\"},{\"columnNumber\":1,\"columnName\":\"N\",\"columnTypeName\":\"FLOAT\"},{\"columnNumber\":2,\"columnName\":\"NPos\",\"columnTypeName\":\"FLOAT\"},{\"columnNumber\":3,\"columnName\":\"NNeg\",\"columnTypeName\":\"FLOAT\"},{\"columnNumber\":4,\"columnName\":\"BP\",\"columnTypeName\":\"FLOAT\"},{\"columnNumber\":5,\"columnName\":\"BinomialCallP_0.05\",\"columnTypeName\":\"VARCHAR\",\"length\":1,\"scale\":1}]}"
     },
     "output_type": "execute_result"
    }
   ],
   "source": [
    "SELECT TOP 5 * FROM demo_user._val_binomial_example4;"
   ]
  },
  {
   "cell_type": "markdown",
   "metadata": {},
   "source": [
    "<p style = 'font-size:16px;font-family:Arial;color:#00233C'>The above output has columns similar to those mentioned in the previous call. We have 2 rows as they are classified based on gender.</p>"
   ]
  },
  {
   "cell_type": "markdown",
   "metadata": {},
   "source": [
    "<hr style=\"height:2px;border:none;background-color:#00233C;\">"
   ]
  },
  {
   "cell_type": "markdown",
   "metadata": {},
   "source": [
    "<p style = 'font-size:20px;font-family:Arial;color:#00233C'><b>5. Kolmogorov-Smirnoff Tests</b></p>\n",
    "\n",
    "<p style = 'font-size:16px;font-family:Arial;color:#00233C'><b>Purpose</b></p>\n",
    "\n",
    "<p style = 'font-size:16px;font-family:Arial;color:#00233C'>Kolmogorov-Smirnov Goodness-of-Fit Test is used to decide if a sample comes from a population with a specific distribution.  An attractive feature of this test is that the distribution of the K-S test statistic itself does not depend on the underlying cumulative distribution function being tested. Another advantage is that it is an exact test.</p>\n",
    "\n",
    "<p style = 'font-size:16px;font-family:Arial;color:#00233C'><b>Required Parameters</b></p>\n",
    "\n",
    "<p style = 'font-size:16px;font-family:Arial;color:#00233C'><b>- **columnofinterest**</b></p>\n",
    "\n",
    "<p style = 'font-size:16px;font-family:Arial;color:#00233C'>The numeric column that is tested to have a normal distribution. It must reside in the table indicated by the tablename parameter</p>\n",
    "\n",
    "<p style = 'font-size:16px;font-family:Arial;color:#00233C'><b>- **database**</b></p>\n",
    "\n",
    "<p style = 'font-size:16px;font-family:Arial;color:#00233C'>The database containing the table to analyze.</p>\n",
    "\n",
    "<p style = 'font-size:16px;font-family:Arial;color:#00233C'><b>- **kstest**</b></p>\n",
    "\n",
    "<p style = 'font-size:16px;font-family:Arial;color:#00233C'>The kstest parameter:\n",
    "    <li>Is required</li>\n",
    "    <li>Must be the first parameter</li>\n",
    "    <li>Is always enclosed in single quotes</li>\n",
    "</p>\n",
    "\n",
    "<p style = 'font-size:16px;font-family:Arial;color:#00233C'><b>- **tablename**</b></p>\n",
    "\n",
    "<p style = 'font-size:16px;font-family:Arial;color:#00233C'>The table containing the columns to analyze.  It must reside in the database indicated by the database parameter.</p>\n",
    "\n",
    "<p style = 'font-size:16px;font-family:Arial;color:#00233C'><b>Optional Parameters</b></p>\n",
    "\n",
    "<p style = 'font-size:16px;font-family:Arial;color:#00233C'><b>- **columns**</b></p>\n",
    "\n",
    "<p style = 'font-size:16px;font-family:Arial;color:#00233C'>Used only by the Smirnov test, this parameter represents a categorical variable with two values that indicate the distribution to which the columnofinterest belongs. It must reside in the table indicated by the tablename parameter.</p>\n",
    "\n",
    "<p style = 'font-size:16px;font-family:Arial;color:#00233C'><b>- **fallback**</b></p>\n",
    "\n",
    "<p style = 'font-size:16px;font-family:Arial;color:#00233C'>When true, FALLBACK is requested as an attribute of the created output results table.  When false or parameter not specified, the FALLBACK attribute is not included in the create table SQL.</p>\n",
    "\n",
    "<p style = 'font-size:16px;font-family:Arial;color:#00233C'><b>- **gensqlonly**</b></p>\n",
    "\n",
    "<p style = 'font-size:16px;font-family:Arial;color:#00233C'>When true, the SQL for the requested function is returned as a result set but not run. When not specified or set to false, the SQL is run but not returned.  This parameter is not allowed when using the Smirnov test.</p>\n",
    "\n",
    "<p style = 'font-size:16px;font-family:Arial;color:#00233C'><b>- **groupby**</b></p>\n",
    "    \n",
    "<p style = 'font-size:16px;font-family:Arial;color:#00233C'>One or more group-by columns may optionally be specified so that a separate result is produced for each value or combination of values in the specified column or columns.</p>\n",
    "\n",
    "<p style = 'font-size:16px;font-family:Arial;color:#00233C'><b>- **multiset**</b></p>\n",
    "\n",
    "<p style = 'font-size:16px;font-family:Arial;color:#00233C'>When true, MULTISET is requested as an attribute of the created output results table.  When false or parameter not specified, the MULTISET attribute is not included in the create table SQL.</p>\n",
    "\n",
    "<p style = 'font-size:16px;font-family:Arial;color:#00233C'><b>- **outputdatabase**</b></p>\n",
    "\n",
    "<p style = 'font-size:16px;font-family:Arial;color:#00233C'>Specifies the name of the database to contain the analysis results table.</p>\n",
    "\n",
    "<p style = 'font-size:16px;font-family:Arial;color:#00233C'><b>- **outputtablename**</b></p>\n",
    "\n",
    "<p style = 'font-size:16px;font-family:Arial;color:#00233C'>Specifies the name of the table to store the analysis results. If not supplied, the results are returned as a result set.</p><p style = 'font-size:16px;font-family:Arial;color:#00233C'>\n",
    "\n",
    "<p style = 'font-size:16px;font-family:Arial;color:#00233C'><b>- **overwrite**</b></p>\n",
    "\n",
    "<p style = 'font-size:16px;font-family:Arial;color:#00233C'>When overwrite is set to true or not set, the output table is dropped before creating a new one.</p>\n",
    "\n",
    "<p style = 'font-size:16px;font-family:Arial;color:#00233C'><b>- **statsdatabase**</b></p>\n",
    "\n",
    "<p style = 'font-size:16px;font-family:Arial;color:#00233C'>This is the database where the statistical test metadata tables are installed.  If not specified, the source database is searched for these metadata tables.</p>\n",
    "\n",
    "<p style = 'font-size:16px;font-family:Arial;color:#00233C'><b>- **teststyle**</b></p>\n",
    "\n",
    "<p style = 'font-size:16px;font-family:Arial;color:#00233C'>The valid values are ks, l, sw, p and s, representing a Kolmogorov-Smirnov, Lilliefors, Shapiro-Wilk, D’Agostino and Pearson or Smirnov test.  If not specified, the default test style is Kolmogorov-Smirnov (ks).</p>\n",
    "\n",
    "<p style = 'font-size:16px;font-family:Arial;color:#00233C'><b>- **thresholdprobability**</b></p>\n",
    "\n",
    "<p style = 'font-size:16px;font-family:Arial;color:#00233C'>You may optionally change the threshold probability or allow it to default to 0.05.  Below this  \"alpha\" probability the null hypothesis is rejected.</p>"
   ]
  },
  {
   "cell_type": "markdown",
   "metadata": {},
   "source": [
    "<hr style=\"height:1px;border:none;background-color:#00233C;\">"
   ]
  },
  {
   "cell_type": "markdown",
   "metadata": {},
   "source": [
    "<p style = 'font-size:16px;font-family:Arial;color:#00233C'>1.  Kolmogorov-Smirnov test with group-by option.</p>"
   ]
  },
  {
   "cell_type": "code",
   "execution_count": 17,
   "metadata": {},
   "outputs": [
    {
     "data": {
      "text/plain": [
       "Success: 0 rows affected"
      ]
     },
     "execution_count": 17,
     "metadata": {
      "application/vnd.teradata.resultset": ""
     },
     "output_type": "execute_result"
    },
    {
     "data": {
      "application/vnd.teradata.resultset": "\"tot_cust_years\",\"Klm\",\"M\",\"KlmPValue\",\"KlmPText\",\"KlmCallP_5E-2\"\n\"8\",\"0.167601957\",\"1014\",\"0.01\",\"<0.01\",\"p\"\n\"11\",\"0.147381487\",\"374\",\"0.01\",\"<0.01\",\"p\"\n\"12\",\"0.145172899\",\"182\",\"0.01\",\"<0.01\",\"p\"\n\"0\",\"0.15574236700000005\",\"176\",\"0.01\",\"<0.01\",\"p\"\n\"3\",\"0.169747933\",\"1160\",\"0.01\",\"<0.01\",\"p\"\n\"9\",\"0.156509661\",\"845\",\"0.01\",\"<0.01\",\"p\"\n\"4\",\"0.17757486300000003\",\"1137\",\"0.01\",\"<0.01\",\"p\"\n\"14\",\"0.11384552699999997\",\"39\",\"0.2\",\">0.20\",\"a\"\n\"1\",\"0.168141482\",\"526\",\"0.01\",\"<0.01\",\"p\"\n\"10\",\"0.186458308\",\"613\",\"0.01\",\"<0.01\",\"p\"\n\"7\",\"0.170163411\",\"1118\",\"0.01\",\"<0.01\",\"p\"\n\"6\",\"0.155173774\",\"1151\",\"0.01\",\"<0.01\",\"p\"\n\"2\",\"0.17041927299999998\",\"888\",\"0.01\",\"<0.01\",\"p\"\n\"13\",\"0.194162895\",\"45\",\"0.05970334701819358\",\"\",\"a\"\n\"5\",\"0.17785805899999993\",\"1190\",\"0.01\",\"<0.01\",\"p\"",
      "text/html": [
       "<div class = \"td-resultset-table-div\" style = \"max-height: 100%; overflow-y: auto\">\n",
       "      <table class=\"tdhistory259414\"><style>\n",
       "      table.tdhistory259414 { display: block !important; min-height: 399px !important; overflow: auto !important; height: 399px !important; width: 100% !important; border: 1px solid rgb(207, 207, 207) !important; border-collapse: collapse !important; ; color: var(--jp-ui-font-color1) !important; }\n",
       "      th.tdhistory259414 { border: 1px solid rgb(198,198,198) !important; border-collapse: collapse !important; ; padding: 2px 5px !important; ; font-size: 13px !important; ; text-align: center !important; white-space: normal !important; color: var(--jp-ui-font-color1) !important; }\n",
       "      th.tdhistory259414:last-child { text-align: left !important; }\n",
       "      tbody.tdhistory259414 tr:nth-child(even) { background: rgba(243, 243, 243, 0.75) !important; }\n",
       "      tbody.tdhistory259414 tr:nth-child(odd) { background: var(--jp-ui-inverse-font-color1) !important; }\n",
       "      td.tdhistory259414 { border: 1px solid rgb(207, 207, 207) !important; border-collapse: collapse !important; ; padding: 2px 5px !important; ; font-size: 13px !important; ; text-align: left !important;          white-space: nowrap !important; overflow:hidden !important; text-overflow:ellipsis !important;; }\n",
       "    </style><thead><tr style= \"background: rgba(243, 243, 243, 0.75)\"><th class=\"tdhistory259414\"></th><th class=\"tdhistory259414\">tot_cust_years</th><th class=\"tdhistory259414\">Klm</th><th class=\"tdhistory259414\">M</th><th class=\"tdhistory259414\">KlmPValue</th><th class=\"tdhistory259414\">KlmPText</th><th class=\"tdhistory259414\">KlmCallP_5E-2</th></tr></thead><tbody class=\"tdhistory259414 resultset-body\"><tr><th class=\"tdhistory259414\" style= \"background: rgba(243, 243, 243, 0.75)\">1</th><td class=\"tdhistory259414\">8</td><td class=\"tdhistory259414\">0.167601957</td><td class=\"tdhistory259414\">1014</td><td class=\"tdhistory259414\">0.01</td><td class=\"tdhistory259414\"><0.01</td><td class=\"tdhistory259414\">p</td></tr><tr><th class=\"tdhistory259414\" style= \"background: rgba(243, 243, 243, 0.75)\">2</th><td class=\"tdhistory259414\">11</td><td class=\"tdhistory259414\">0.147381487</td><td class=\"tdhistory259414\">374</td><td class=\"tdhistory259414\">0.01</td><td class=\"tdhistory259414\"><0.01</td><td class=\"tdhistory259414\">p</td></tr><tr><th class=\"tdhistory259414\" style= \"background: rgba(243, 243, 243, 0.75)\">3</th><td class=\"tdhistory259414\">12</td><td class=\"tdhistory259414\">0.145172899</td><td class=\"tdhistory259414\">182</td><td class=\"tdhistory259414\">0.01</td><td class=\"tdhistory259414\"><0.01</td><td class=\"tdhistory259414\">p</td></tr><tr><th class=\"tdhistory259414\" style= \"background: rgba(243, 243, 243, 0.75)\">4</th><td class=\"tdhistory259414\">0</td><td class=\"tdhistory259414\">0.15574236700000005</td><td class=\"tdhistory259414\">176</td><td class=\"tdhistory259414\">0.01</td><td class=\"tdhistory259414\"><0.01</td><td class=\"tdhistory259414\">p</td></tr><tr><th class=\"tdhistory259414\" style= \"background: rgba(243, 243, 243, 0.75)\">5</th><td class=\"tdhistory259414\">3</td><td class=\"tdhistory259414\">0.169747933</td><td class=\"tdhistory259414\">1160</td><td class=\"tdhistory259414\">0.01</td><td class=\"tdhistory259414\"><0.01</td><td class=\"tdhistory259414\">p</td></tr><tr><th class=\"tdhistory259414\" style= \"background: rgba(243, 243, 243, 0.75)\">6</th><td class=\"tdhistory259414\">9</td><td class=\"tdhistory259414\">0.156509661</td><td class=\"tdhistory259414\">845</td><td class=\"tdhistory259414\">0.01</td><td class=\"tdhistory259414\"><0.01</td><td class=\"tdhistory259414\">p</td></tr><tr><th class=\"tdhistory259414\" style= \"background: rgba(243, 243, 243, 0.75)\">7</th><td class=\"tdhistory259414\">4</td><td class=\"tdhistory259414\">0.17757486300000003</td><td class=\"tdhistory259414\">1137</td><td class=\"tdhistory259414\">0.01</td><td class=\"tdhistory259414\"><0.01</td><td class=\"tdhistory259414\">p</td></tr><tr><th class=\"tdhistory259414\" style= \"background: rgba(243, 243, 243, 0.75)\">8</th><td class=\"tdhistory259414\">14</td><td class=\"tdhistory259414\">0.11384552699999997</td><td class=\"tdhistory259414\">39</td><td class=\"tdhistory259414\">0.2</td><td class=\"tdhistory259414\">>0.20</td><td class=\"tdhistory259414\">a</td></tr><tr><th class=\"tdhistory259414\" style= \"background: rgba(243, 243, 243, 0.75)\">9</th><td class=\"tdhistory259414\">1</td><td class=\"tdhistory259414\">0.168141482</td><td class=\"tdhistory259414\">526</td><td class=\"tdhistory259414\">0.01</td><td class=\"tdhistory259414\"><0.01</td><td class=\"tdhistory259414\">p</td></tr><tr><th class=\"tdhistory259414\" style= \"background: rgba(243, 243, 243, 0.75)\">10</th><td class=\"tdhistory259414\">10</td><td class=\"tdhistory259414\">0.186458308</td><td class=\"tdhistory259414\">613</td><td class=\"tdhistory259414\">0.01</td><td class=\"tdhistory259414\"><0.01</td><td class=\"tdhistory259414\">p</td></tr><tr><th class=\"tdhistory259414\" style= \"background: rgba(243, 243, 243, 0.75)\">11</th><td class=\"tdhistory259414\">7</td><td class=\"tdhistory259414\">0.170163411</td><td class=\"tdhistory259414\">1118</td><td class=\"tdhistory259414\">0.01</td><td class=\"tdhistory259414\"><0.01</td><td class=\"tdhistory259414\">p</td></tr><tr><th class=\"tdhistory259414\" style= \"background: rgba(243, 243, 243, 0.75)\">12</th><td class=\"tdhistory259414\">6</td><td class=\"tdhistory259414\">0.155173774</td><td class=\"tdhistory259414\">1151</td><td class=\"tdhistory259414\">0.01</td><td class=\"tdhistory259414\"><0.01</td><td class=\"tdhistory259414\">p</td></tr><tr><th class=\"tdhistory259414\" style= \"background: rgba(243, 243, 243, 0.75)\">13</th><td class=\"tdhistory259414\">2</td><td class=\"tdhistory259414\">0.17041927299999998</td><td class=\"tdhistory259414\">888</td><td class=\"tdhistory259414\">0.01</td><td class=\"tdhistory259414\"><0.01</td><td class=\"tdhistory259414\">p</td></tr><tr><th class=\"tdhistory259414\" style= \"background: rgba(243, 243, 243, 0.75)\">14</th><td class=\"tdhistory259414\">13</td><td class=\"tdhistory259414\">0.194162895</td><td class=\"tdhistory259414\">45</td><td class=\"tdhistory259414\">0.05970334701819358</td><td class=\"tdhistory259414\"></td><td class=\"tdhistory259414\">a</td></tr><tr><th class=\"tdhistory259414\" style= \"background: rgba(243, 243, 243, 0.75)\">15</th><td class=\"tdhistory259414\">5</td><td class=\"tdhistory259414\">0.17785805899999993</td><td class=\"tdhistory259414\">1190</td><td class=\"tdhistory259414\">0.01</td><td class=\"tdhistory259414\"><0.01</td><td class=\"tdhistory259414\">p</td></tr></tbody></table></div>"
      ]
     },
     "execution_count": 17,
     "metadata": {
      "application/vnd.teradata.resultset": "{\"resultSetID\":\"/home/jovyan/JupyterLabRoot/Teradata/Resultsets/2024.09.06_07.22.41.455_UTC\",\"historyID\":401,\"chunkID\":\"00001\",\"sessionid\":\"\",\"portnum\":\"\",\"dockermode\":\"docker\",\"totalRowCount\":15,\"chunkCount\":0,\"rowLimit\":0,\"columnMetadata\":[{\"columnName\":\"tot_cust_years\",\"columnTypeName\":\"INTEGER\"},{\"columnNumber\":1,\"columnName\":\"Klm\",\"columnTypeName\":\"FLOAT\"},{\"columnNumber\":2,\"columnName\":\"M\",\"columnTypeName\":\"FLOAT\"},{\"columnNumber\":3,\"columnName\":\"KlmPValue\",\"columnTypeName\":\"FLOAT\"},{\"columnNumber\":4,\"columnName\":\"KlmPText\",\"columnTypeName\":\"VARCHAR\",\"length\":5,\"scale\":5},{\"columnNumber\":5,\"columnName\":\"KlmCallP_5E-2\",\"columnTypeName\":\"VARCHAR\",\"length\":1,\"scale\":1}]}"
     },
     "output_type": "execute_result"
    }
   ],
   "source": [
    "call val.td_analyze('KSTest', \n",
    "                         'database=demo_user;\n",
    "                          tablename=VAL_ADS;\n",
    "                          columnofinterest=tot_income;\n",
    "                          teststyle=KS;\n",
    "                          groupby=tot_cust_years;\n",
    "                          statsdatabase=val;');"
   ]
  },
  {
   "cell_type": "markdown",
   "metadata": {},
   "source": [
    "<p style = 'font-size:16px;font-family:Arial;color:#00233C'>The above output has the output columns as below(If there are groupby columns, they comprise the UPI. Otherwise, N is the UPI.\n",
    "\n",
    "teststyle = ks (Default)</p>\n",
    "\n",
    " <table style = 'font-size:14px;font-family:Arial;color:#00233C'>\n",
    "  <tr>\n",
    "    <th>Column</th>\n",
    "    <th>DataType</th>\n",
    "    <th>Description</th>\n",
    "  </tr>\n",
    "  <tr>\n",
    "    <td>Klm</td>\n",
    "    <td>Float</td>  \n",
    "    <td>Kolmogorov-Smirnov statistic.</td>\n",
    "  </tr>\n",
    "  <tr>\n",
    "    <td>M</td>\n",
    "    <td>Float</td>  \n",
    "    <td>Count.</td>\n",
    "  </tr>\n",
    "  <tr>\n",
    "    <td>KlmPValue</td>\n",
    "    <td>Float</td>  \n",
    "    <td>Probability associated with Kolmogorov-Smirnov statistic.</td>\n",
    "  </tr>\n",
    "  <tr>\n",
    "    <td>KlmPText</td>\n",
    "    <td>Char</td>  \n",
    "    <td>Text description if probability is outside table range.</td>\n",
    "  </tr>\n",
    "  <tr>\n",
    "    <td>KlmCallP_0.05</td>\n",
    "    <td>Char</td>  \n",
    "    <td>Kolmogorov-Smirnov result:\n",
    "        <li>a=accept null hypothesis</li>\n",
    "        <li>p=reject null hypothesis</li>\n",
    "    </td>\n",
    "  </tr>    \n",
    "</table>\n",
    "   \n",
    "<p>"
   ]
  },
  {
   "cell_type": "markdown",
   "metadata": {},
   "source": [
    "<p style = 'font-size:16px;font-family:Arial;color:#00233C'>2.  Lilliefors test with group-by option.</p>"
   ]
  },
  {
   "cell_type": "code",
   "execution_count": 18,
   "metadata": {},
   "outputs": [
    {
     "data": {
      "text/plain": [
       "Success: 0 rows affected"
      ]
     },
     "execution_count": 18,
     "metadata": {
      "application/vnd.teradata.resultset": ""
     },
     "output_type": "execute_result"
    },
    {
     "data": {
      "application/vnd.teradata.resultset": "\"tot_cust_years\",\"Lilliefors\",\"M\",\"LillieforsPValue\",\"LillieforsPText\",\"LillieforsCallP_5E-2\"\n\"8\",\"0.16437102548323468\",\"1014\",\"0.01\",\"<0.01\",\"p\"\n\"11\",\"0.14539964207486628\",\"374\",\"0.01\",\"<0.01\",\"p\"\n\"12\",\"0.14397700704395605\",\"182\",\"0.01\",\"<0.01\",\"p\"\n\"0\",\"0.15455723972727275\",\"176\",\"0.01\",\"<0.01\",\"p\"\n\"3\",\"0.1652836109310345\",\"1160\",\"0.01\",\"<0.01\",\"p\"\n\"9\",\"0.15286021289940832\",\"845\",\"0.01\",\"<0.01\",\"p\"\n\"4\",\"0.17220877782761657\",\"1137\",\"0.01\",\"<0.01\",\"p\"\n\"14\",\"0.11152678682051276\",\"39\",\"0.2\",\">0.20\",\"a\"\n\"1\",\"0.16513402253992393\",\"526\",\"0.01\",\"<0.01\",\"p\"\n\"10\",\"0.1838866707161501\",\"613\",\"0.01\",\"<0.01\",\"p\"\n\"7\",\"0.16595695373703034\",\"1118\",\"0.01\",\"<0.01\",\"p\"\n\"6\",\"0.1514699463909644\",\"1151\",\"0.01\",\"<0.01\",\"p\"\n\"2\",\"0.16821365318018022\",\"888\",\"0.01\",\"<0.01\",\"p\"\n\"13\",\"0.19186959577777774\",\"45\",\"0.01\",\"<0.01\",\"p\"\n\"5\",\"0.17417877405882343\",\"1190\",\"0.01\",\"<0.01\",\"p\"",
      "text/html": [
       "<div class = \"td-resultset-table-div\" style = \"max-height: 100%; overflow-y: auto\">\n",
       "      <table class=\"tdhistory88975\"><style>\n",
       "      table.tdhistory88975 { display: block !important; min-height: 399px !important; overflow: auto !important; height: 399px !important; width: 100% !important; border: 1px solid rgb(207, 207, 207) !important; border-collapse: collapse !important; ; color: var(--jp-ui-font-color1) !important; }\n",
       "      th.tdhistory88975 { border: 1px solid rgb(198,198,198) !important; border-collapse: collapse !important; ; padding: 2px 5px !important; ; font-size: 13px !important; ; text-align: center !important; white-space: normal !important; color: var(--jp-ui-font-color1) !important; }\n",
       "      th.tdhistory88975:last-child { text-align: left !important; }\n",
       "      tbody.tdhistory88975 tr:nth-child(even) { background: rgba(243, 243, 243, 0.75) !important; }\n",
       "      tbody.tdhistory88975 tr:nth-child(odd) { background: var(--jp-ui-inverse-font-color1) !important; }\n",
       "      td.tdhistory88975 { border: 1px solid rgb(207, 207, 207) !important; border-collapse: collapse !important; ; padding: 2px 5px !important; ; font-size: 13px !important; ; text-align: left !important;          white-space: nowrap !important; overflow:hidden !important; text-overflow:ellipsis !important;; }\n",
       "    </style><thead><tr style= \"background: rgba(243, 243, 243, 0.75)\"><th class=\"tdhistory88975\"></th><th class=\"tdhistory88975\">tot_cust_years</th><th class=\"tdhistory88975\">Lilliefors</th><th class=\"tdhistory88975\">M</th><th class=\"tdhistory88975\">LillieforsPValue</th><th class=\"tdhistory88975\">LillieforsPText</th><th class=\"tdhistory88975\">LillieforsCallP_5E-2</th></tr></thead><tbody class=\"tdhistory88975 resultset-body\"><tr><th class=\"tdhistory88975\" style= \"background: rgba(243, 243, 243, 0.75)\">1</th><td class=\"tdhistory88975\">8</td><td class=\"tdhistory88975\">0.16437102548323468</td><td class=\"tdhistory88975\">1014</td><td class=\"tdhistory88975\">0.01</td><td class=\"tdhistory88975\"><0.01</td><td class=\"tdhistory88975\">p</td></tr><tr><th class=\"tdhistory88975\" style= \"background: rgba(243, 243, 243, 0.75)\">2</th><td class=\"tdhistory88975\">11</td><td class=\"tdhistory88975\">0.14539964207486628</td><td class=\"tdhistory88975\">374</td><td class=\"tdhistory88975\">0.01</td><td class=\"tdhistory88975\"><0.01</td><td class=\"tdhistory88975\">p</td></tr><tr><th class=\"tdhistory88975\" style= \"background: rgba(243, 243, 243, 0.75)\">3</th><td class=\"tdhistory88975\">12</td><td class=\"tdhistory88975\">0.14397700704395605</td><td class=\"tdhistory88975\">182</td><td class=\"tdhistory88975\">0.01</td><td class=\"tdhistory88975\"><0.01</td><td class=\"tdhistory88975\">p</td></tr><tr><th class=\"tdhistory88975\" style= \"background: rgba(243, 243, 243, 0.75)\">4</th><td class=\"tdhistory88975\">0</td><td class=\"tdhistory88975\">0.15455723972727275</td><td class=\"tdhistory88975\">176</td><td class=\"tdhistory88975\">0.01</td><td class=\"tdhistory88975\"><0.01</td><td class=\"tdhistory88975\">p</td></tr><tr><th class=\"tdhistory88975\" style= \"background: rgba(243, 243, 243, 0.75)\">5</th><td class=\"tdhistory88975\">3</td><td class=\"tdhistory88975\">0.1652836109310345</td><td class=\"tdhistory88975\">1160</td><td class=\"tdhistory88975\">0.01</td><td class=\"tdhistory88975\"><0.01</td><td class=\"tdhistory88975\">p</td></tr><tr><th class=\"tdhistory88975\" style= \"background: rgba(243, 243, 243, 0.75)\">6</th><td class=\"tdhistory88975\">9</td><td class=\"tdhistory88975\">0.15286021289940832</td><td class=\"tdhistory88975\">845</td><td class=\"tdhistory88975\">0.01</td><td class=\"tdhistory88975\"><0.01</td><td class=\"tdhistory88975\">p</td></tr><tr><th class=\"tdhistory88975\" style= \"background: rgba(243, 243, 243, 0.75)\">7</th><td class=\"tdhistory88975\">4</td><td class=\"tdhistory88975\">0.17220877782761657</td><td class=\"tdhistory88975\">1137</td><td class=\"tdhistory88975\">0.01</td><td class=\"tdhistory88975\"><0.01</td><td class=\"tdhistory88975\">p</td></tr><tr><th class=\"tdhistory88975\" style= \"background: rgba(243, 243, 243, 0.75)\">8</th><td class=\"tdhistory88975\">14</td><td class=\"tdhistory88975\">0.11152678682051276</td><td class=\"tdhistory88975\">39</td><td class=\"tdhistory88975\">0.2</td><td class=\"tdhistory88975\">>0.20</td><td class=\"tdhistory88975\">a</td></tr><tr><th class=\"tdhistory88975\" style= \"background: rgba(243, 243, 243, 0.75)\">9</th><td class=\"tdhistory88975\">1</td><td class=\"tdhistory88975\">0.16513402253992393</td><td class=\"tdhistory88975\">526</td><td class=\"tdhistory88975\">0.01</td><td class=\"tdhistory88975\"><0.01</td><td class=\"tdhistory88975\">p</td></tr><tr><th class=\"tdhistory88975\" style= \"background: rgba(243, 243, 243, 0.75)\">10</th><td class=\"tdhistory88975\">10</td><td class=\"tdhistory88975\">0.1838866707161501</td><td class=\"tdhistory88975\">613</td><td class=\"tdhistory88975\">0.01</td><td class=\"tdhistory88975\"><0.01</td><td class=\"tdhistory88975\">p</td></tr><tr><th class=\"tdhistory88975\" style= \"background: rgba(243, 243, 243, 0.75)\">11</th><td class=\"tdhistory88975\">7</td><td class=\"tdhistory88975\">0.16595695373703034</td><td class=\"tdhistory88975\">1118</td><td class=\"tdhistory88975\">0.01</td><td class=\"tdhistory88975\"><0.01</td><td class=\"tdhistory88975\">p</td></tr><tr><th class=\"tdhistory88975\" style= \"background: rgba(243, 243, 243, 0.75)\">12</th><td class=\"tdhistory88975\">6</td><td class=\"tdhistory88975\">0.1514699463909644</td><td class=\"tdhistory88975\">1151</td><td class=\"tdhistory88975\">0.01</td><td class=\"tdhistory88975\"><0.01</td><td class=\"tdhistory88975\">p</td></tr><tr><th class=\"tdhistory88975\" style= \"background: rgba(243, 243, 243, 0.75)\">13</th><td class=\"tdhistory88975\">2</td><td class=\"tdhistory88975\">0.16821365318018022</td><td class=\"tdhistory88975\">888</td><td class=\"tdhistory88975\">0.01</td><td class=\"tdhistory88975\"><0.01</td><td class=\"tdhistory88975\">p</td></tr><tr><th class=\"tdhistory88975\" style= \"background: rgba(243, 243, 243, 0.75)\">14</th><td class=\"tdhistory88975\">13</td><td class=\"tdhistory88975\">0.19186959577777774</td><td class=\"tdhistory88975\">45</td><td class=\"tdhistory88975\">0.01</td><td class=\"tdhistory88975\"><0.01</td><td class=\"tdhistory88975\">p</td></tr><tr><th class=\"tdhistory88975\" style= \"background: rgba(243, 243, 243, 0.75)\">15</th><td class=\"tdhistory88975\">5</td><td class=\"tdhistory88975\">0.17417877405882343</td><td class=\"tdhistory88975\">1190</td><td class=\"tdhistory88975\">0.01</td><td class=\"tdhistory88975\"><0.01</td><td class=\"tdhistory88975\">p</td></tr></tbody></table></div>"
      ]
     },
     "execution_count": 18,
     "metadata": {
      "application/vnd.teradata.resultset": "{\"resultSetID\":\"/home/jovyan/JupyterLabRoot/Teradata/Resultsets/2024.09.06_07.22.45.517_UTC\",\"historyID\":402,\"chunkID\":\"00001\",\"sessionid\":\"\",\"portnum\":\"\",\"dockermode\":\"docker\",\"totalRowCount\":15,\"chunkCount\":0,\"rowLimit\":0,\"columnMetadata\":[{\"columnName\":\"tot_cust_years\",\"columnTypeName\":\"INTEGER\"},{\"columnNumber\":1,\"columnName\":\"Lilliefors\",\"columnTypeName\":\"FLOAT\"},{\"columnNumber\":2,\"columnName\":\"M\",\"columnTypeName\":\"FLOAT\"},{\"columnNumber\":3,\"columnName\":\"LillieforsPValue\",\"columnTypeName\":\"FLOAT\"},{\"columnNumber\":4,\"columnName\":\"LillieforsPText\",\"columnTypeName\":\"VARCHAR\",\"length\":5,\"scale\":5},{\"columnNumber\":5,\"columnName\":\"LillieforsCallP_5E-2\",\"columnTypeName\":\"VARCHAR\",\"length\":1,\"scale\":1}]}"
     },
     "output_type": "execute_result"
    }
   ],
   "source": [
    "call val.td_analyze('KSTest', \n",
    "                         'database=demo_user;\n",
    "                          tablename=VAL_ADS;\n",
    "                          columnofinterest=tot_income;\n",
    "                          teststyle=L;\n",
    "                          groupby=tot_cust_years;\n",
    "                          statsdatabase=val;');"
   ]
  },
  {
   "cell_type": "markdown",
   "metadata": {},
   "source": [
    "<p style = 'font-size:16px;font-family:Arial;color:#00233C'>The above output has the output columns as below(If there are groupby columns, they comprise the UPI. Otherwise, Lilliefors is the UPI.)\n",
    "\n",
    "teststyle = l</p>\n",
    "\n",
    " <table style = 'font-size:14px;font-family:Arial;color:#00233C'>\n",
    "  <tr>\n",
    "    <th>Name</th>\n",
    "    <th>Type</th>\n",
    "    <th>Definition</th>\n",
    "  </tr>\n",
    "  <tr>\n",
    "    <td>Lilliefors</td>\n",
    "    <td>Float</td>  \n",
    "    <td>Lilliefors statistic.</td>\n",
    "  </tr>\n",
    "  <tr>\n",
    "    <td>M</td>\n",
    "    <td>Float</td>  \n",
    "    <td>Count.</td>\n",
    "  </tr>\n",
    "  <tr>\n",
    "    <td>LillieforsPValue</td>\n",
    "    <td>Float</td>  \n",
    "    <td>Probability associated with Lilliefors statistic.</td>\n",
    "  </tr>\n",
    "  <tr>\n",
    "    <td>LillieforsPText</td>\n",
    "    <td>Char</td>  \n",
    "    <td>Text description if probability is outside table range.</td>\n",
    "  </tr>\n",
    "  <tr>\n",
    "    <td>LillieforsCallP_0.05</td>\n",
    "    <td>Char</td>  \n",
    "    <td>Lilliefors result:\n",
    "        <li>a=accept null hypothesis</li>\n",
    "        <li>p=reject null hypothesis</li>\n",
    "    </td>\n",
    "  </tr>    \n",
    "</table>\n",
    "   \n",
    "<p>"
   ]
  },
  {
   "cell_type": "markdown",
   "metadata": {},
   "source": [
    "<p style = 'font-size:16px;font-family:Arial;color:#00233C'>3.  Shapiro-Wilk test with group-by option</p>"
   ]
  },
  {
   "cell_type": "code",
   "execution_count": 19,
   "metadata": {},
   "outputs": [
    {
     "data": {
      "text/plain": [
       "Success: 0 rows affected"
      ]
     },
     "execution_count": 19,
     "metadata": {
      "application/vnd.teradata.resultset": ""
     },
     "output_type": "execute_result"
    },
    {
     "data": {
      "application/vnd.teradata.resultset": "\"tot_cust_years\",\"Shw\",\"N\",\"ShapiroWilkPValue\",\"ShapiroWilkPText\",\"ShapiroWilkCallP_5E-2\"\n\"2\",\"0.7380468157991129\",\"888\",\"1e-06\",\"\",\"p\"\n\"13\",\"0.8639321777575529\",\"45\",\"0.01\",\"<0.01\",\"p\"\n\"7\",\"0.7192490933650114\",\"1118\",\"1e-06\",\"\",\"p\"\n\"14\",\"0.9308345215745271\",\"39\",\"0.029586303936317622\",\"\",\"p\"\n\"1\",\"0.7768408108631799\",\"526\",\"1e-06\",\"\",\"p\"\n\"9\",\"0.7646871828003441\",\"845\",\"1e-06\",\"\",\"p\"\n\"12\",\"0.8145813511010305\",\"182\",\"1e-06\",\"\",\"p\"\n\"0\",\"0.8439237666531055\",\"176\",\"1e-06\",\"\",\"p\"\n\"8\",\"0.7397561124692318\",\"1014\",\"1e-06\",\"\",\"p\"\n\"10\",\"0.732851933043747\",\"613\",\"1e-06\",\"\",\"p\"\n\"4\",\"0.724425562474328\",\"1137\",\"1e-06\",\"\",\"p\"\n\"6\",\"0.7343209428011322\",\"1151\",\"1e-06\",\"\",\"p\"\n\"5\",\"0.7197366806117594\",\"1190\",\"1e-06\",\"\",\"p\"\n\"11\",\"0.7883936611899572\",\"374\",\"1e-06\",\"\",\"p\"\n\"3\",\"0.7305021636588552\",\"1160\",\"1e-06\",\"\",\"p\"",
      "text/html": [
       "<div class = \"td-resultset-table-div\" style = \"max-height: 100%; overflow-y: auto\">\n",
       "      <table class=\"tdhistory25839\"><style>\n",
       "      table.tdhistory25839 { display: block !important; min-height: 399px !important; overflow: auto !important; height: 399px !important; width: 100% !important; border: 1px solid rgb(207, 207, 207) !important; border-collapse: collapse !important; ; color: var(--jp-ui-font-color1) !important; }\n",
       "      th.tdhistory25839 { border: 1px solid rgb(198,198,198) !important; border-collapse: collapse !important; ; padding: 2px 5px !important; ; font-size: 13px !important; ; text-align: center !important; white-space: normal !important; color: var(--jp-ui-font-color1) !important; }\n",
       "      th.tdhistory25839:last-child { text-align: left !important; }\n",
       "      tbody.tdhistory25839 tr:nth-child(even) { background: rgba(243, 243, 243, 0.75) !important; }\n",
       "      tbody.tdhistory25839 tr:nth-child(odd) { background: var(--jp-ui-inverse-font-color1) !important; }\n",
       "      td.tdhistory25839 { border: 1px solid rgb(207, 207, 207) !important; border-collapse: collapse !important; ; padding: 2px 5px !important; ; font-size: 13px !important; ; text-align: left !important;          white-space: nowrap !important; overflow:hidden !important; text-overflow:ellipsis !important;; }\n",
       "    </style><thead><tr style= \"background: rgba(243, 243, 243, 0.75)\"><th class=\"tdhistory25839\"></th><th class=\"tdhistory25839\">tot_cust_years</th><th class=\"tdhistory25839\">Shw</th><th class=\"tdhistory25839\">N</th><th class=\"tdhistory25839\">ShapiroWilkPValue</th><th class=\"tdhistory25839\">ShapiroWilkPText</th><th class=\"tdhistory25839\">ShapiroWilkCallP_5E-2</th></tr></thead><tbody class=\"tdhistory25839 resultset-body\"><tr><th class=\"tdhistory25839\" style= \"background: rgba(243, 243, 243, 0.75)\">1</th><td class=\"tdhistory25839\">2</td><td class=\"tdhistory25839\">0.7380468157991129</td><td class=\"tdhistory25839\">888</td><td class=\"tdhistory25839\">1e-06</td><td class=\"tdhistory25839\"></td><td class=\"tdhistory25839\">p</td></tr><tr><th class=\"tdhistory25839\" style= \"background: rgba(243, 243, 243, 0.75)\">2</th><td class=\"tdhistory25839\">13</td><td class=\"tdhistory25839\">0.8639321777575529</td><td class=\"tdhistory25839\">45</td><td class=\"tdhistory25839\">0.01</td><td class=\"tdhistory25839\"><0.01</td><td class=\"tdhistory25839\">p</td></tr><tr><th class=\"tdhistory25839\" style= \"background: rgba(243, 243, 243, 0.75)\">3</th><td class=\"tdhistory25839\">7</td><td class=\"tdhistory25839\">0.7192490933650114</td><td class=\"tdhistory25839\">1118</td><td class=\"tdhistory25839\">1e-06</td><td class=\"tdhistory25839\"></td><td class=\"tdhistory25839\">p</td></tr><tr><th class=\"tdhistory25839\" style= \"background: rgba(243, 243, 243, 0.75)\">4</th><td class=\"tdhistory25839\">14</td><td class=\"tdhistory25839\">0.9308345215745271</td><td class=\"tdhistory25839\">39</td><td class=\"tdhistory25839\">0.029586303936317622</td><td class=\"tdhistory25839\"></td><td class=\"tdhistory25839\">p</td></tr><tr><th class=\"tdhistory25839\" style= \"background: rgba(243, 243, 243, 0.75)\">5</th><td class=\"tdhistory25839\">1</td><td class=\"tdhistory25839\">0.7768408108631799</td><td class=\"tdhistory25839\">526</td><td class=\"tdhistory25839\">1e-06</td><td class=\"tdhistory25839\"></td><td class=\"tdhistory25839\">p</td></tr><tr><th class=\"tdhistory25839\" style= \"background: rgba(243, 243, 243, 0.75)\">6</th><td class=\"tdhistory25839\">9</td><td class=\"tdhistory25839\">0.7646871828003441</td><td class=\"tdhistory25839\">845</td><td class=\"tdhistory25839\">1e-06</td><td class=\"tdhistory25839\"></td><td class=\"tdhistory25839\">p</td></tr><tr><th class=\"tdhistory25839\" style= \"background: rgba(243, 243, 243, 0.75)\">7</th><td class=\"tdhistory25839\">12</td><td class=\"tdhistory25839\">0.8145813511010305</td><td class=\"tdhistory25839\">182</td><td class=\"tdhistory25839\">1e-06</td><td class=\"tdhistory25839\"></td><td class=\"tdhistory25839\">p</td></tr><tr><th class=\"tdhistory25839\" style= \"background: rgba(243, 243, 243, 0.75)\">8</th><td class=\"tdhistory25839\">0</td><td class=\"tdhistory25839\">0.8439237666531055</td><td class=\"tdhistory25839\">176</td><td class=\"tdhistory25839\">1e-06</td><td class=\"tdhistory25839\"></td><td class=\"tdhistory25839\">p</td></tr><tr><th class=\"tdhistory25839\" style= \"background: rgba(243, 243, 243, 0.75)\">9</th><td class=\"tdhistory25839\">8</td><td class=\"tdhistory25839\">0.7397561124692318</td><td class=\"tdhistory25839\">1014</td><td class=\"tdhistory25839\">1e-06</td><td class=\"tdhistory25839\"></td><td class=\"tdhistory25839\">p</td></tr><tr><th class=\"tdhistory25839\" style= \"background: rgba(243, 243, 243, 0.75)\">10</th><td class=\"tdhistory25839\">10</td><td class=\"tdhistory25839\">0.732851933043747</td><td class=\"tdhistory25839\">613</td><td class=\"tdhistory25839\">1e-06</td><td class=\"tdhistory25839\"></td><td class=\"tdhistory25839\">p</td></tr><tr><th class=\"tdhistory25839\" style= \"background: rgba(243, 243, 243, 0.75)\">11</th><td class=\"tdhistory25839\">4</td><td class=\"tdhistory25839\">0.724425562474328</td><td class=\"tdhistory25839\">1137</td><td class=\"tdhistory25839\">1e-06</td><td class=\"tdhistory25839\"></td><td class=\"tdhistory25839\">p</td></tr><tr><th class=\"tdhistory25839\" style= \"background: rgba(243, 243, 243, 0.75)\">12</th><td class=\"tdhistory25839\">6</td><td class=\"tdhistory25839\">0.7343209428011322</td><td class=\"tdhistory25839\">1151</td><td class=\"tdhistory25839\">1e-06</td><td class=\"tdhistory25839\"></td><td class=\"tdhistory25839\">p</td></tr><tr><th class=\"tdhistory25839\" style= \"background: rgba(243, 243, 243, 0.75)\">13</th><td class=\"tdhistory25839\">5</td><td class=\"tdhistory25839\">0.7197366806117594</td><td class=\"tdhistory25839\">1190</td><td class=\"tdhistory25839\">1e-06</td><td class=\"tdhistory25839\"></td><td class=\"tdhistory25839\">p</td></tr><tr><th class=\"tdhistory25839\" style= \"background: rgba(243, 243, 243, 0.75)\">14</th><td class=\"tdhistory25839\">11</td><td class=\"tdhistory25839\">0.7883936611899572</td><td class=\"tdhistory25839\">374</td><td class=\"tdhistory25839\">1e-06</td><td class=\"tdhistory25839\"></td><td class=\"tdhistory25839\">p</td></tr><tr><th class=\"tdhistory25839\" style= \"background: rgba(243, 243, 243, 0.75)\">15</th><td class=\"tdhistory25839\">3</td><td class=\"tdhistory25839\">0.7305021636588552</td><td class=\"tdhistory25839\">1160</td><td class=\"tdhistory25839\">1e-06</td><td class=\"tdhistory25839\"></td><td class=\"tdhistory25839\">p</td></tr></tbody></table></div>"
      ]
     },
     "execution_count": 19,
     "metadata": {
      "application/vnd.teradata.resultset": "{\"resultSetID\":\"/home/jovyan/JupyterLabRoot/Teradata/Resultsets/2024.09.06_07.22.51.127_UTC\",\"historyID\":403,\"chunkID\":\"00001\",\"sessionid\":\"\",\"portnum\":\"\",\"dockermode\":\"docker\",\"totalRowCount\":15,\"chunkCount\":0,\"rowLimit\":0,\"columnMetadata\":[{\"columnName\":\"tot_cust_years\",\"columnTypeName\":\"INTEGER\"},{\"columnNumber\":1,\"columnName\":\"Shw\",\"columnTypeName\":\"FLOAT\"},{\"columnNumber\":2,\"columnName\":\"N\",\"columnTypeName\":\"FLOAT\"},{\"columnNumber\":3,\"columnName\":\"ShapiroWilkPValue\",\"columnTypeName\":\"FLOAT\"},{\"columnNumber\":4,\"columnName\":\"ShapiroWilkPText\",\"columnTypeName\":\"VARCHAR\",\"length\":5,\"scale\":5},{\"columnNumber\":5,\"columnName\":\"ShapiroWilkCallP_5E-2\",\"columnTypeName\":\"VARCHAR\",\"length\":1,\"scale\":1}]}"
     },
     "output_type": "execute_result"
    }
   ],
   "source": [
    "call val.td_analyze('KSTest', \n",
    "                         'database=demo_user;\n",
    "                          tablename=VAL_ADS;\n",
    "                          columnofinterest=tot_income;\n",
    "                          teststyle=SW;\n",
    "                          groupby=tot_cust_years;\n",
    "                          statsdatabase=val;');"
   ]
  },
  {
   "cell_type": "markdown",
   "metadata": {},
   "source": [
    "<p style = 'font-size:16px;font-family:Arial;color:#00233C'>The above output has the output columns as below(If there are groupby columns, they comprise the UPI. Otherwise, Shw is the UPI.)\n",
    "\n",
    "teststyle = sw</p>\n",
    "\n",
    " <table style = 'font-size:14px;font-family:Arial;color:#00233C'>\n",
    "  <tr>\n",
    "    <th>Name</th>\n",
    "    <th>Type</th>\n",
    "    <th>Definition</th>\n",
    "  </tr>\n",
    "  <tr>\n",
    "    <td>Shw</td>\n",
    "    <td>Float</td>  \n",
    "    <td>Shapiro-Wilk statistic.</td>\n",
    "  </tr>\n",
    "  <tr>\n",
    "    <td>N</td>\n",
    "    <td>Float</td>  \n",
    "    <td>Count.</td>\n",
    "  </tr>\n",
    "  <tr>\n",
    "    <td>ShapiroWilkPValue</td>\n",
    "    <td>Float</td>  \n",
    "    <td>Probability associated with Shapiro-Wilk statistic.</td>\n",
    "  </tr>\n",
    "  <tr>\n",
    "    <td>ShapiroWilkPText</td>\n",
    "    <td>Char</td>  \n",
    "    <td>Text description if probability is outside table range.</td>\n",
    "  </tr>\n",
    "  <tr>\n",
    "    <td>ShapiroWilkCallP_0.05.05</td>\n",
    "    <td>Char</td>  \n",
    "    <td>Shapiro-Wilk result:\n",
    "        <li>a=accept null hypothesis</li>\n",
    "        <li>p=reject null hypothesis</li>\n",
    "    </td>\n",
    "  </tr>    \n",
    "</table>\n",
    "   \n",
    "<p>"
   ]
  },
  {
   "cell_type": "markdown",
   "metadata": {},
   "source": [
    "<p style = 'font-size:16px;font-family:Arial;color:#00233C'>4.  D'Agostino and Pearson Test with group-by option.</p>"
   ]
  },
  {
   "cell_type": "code",
   "execution_count": 20,
   "metadata": {},
   "outputs": [
    {
     "data": {
      "text/plain": [
       "Success: 0 rows affected"
      ]
     },
     "execution_count": 20,
     "metadata": {
      "application/vnd.teradata.resultset": ""
     },
     "output_type": "execute_result"
    },
    {
     "data": {
      "application/vnd.teradata.resultset": "\"tot_cust_years\",\"T\",\"Zkurtosis\",\"Zskew\",\"ChiPValue\",\"ChiPText\",\"ChiCallP_5E-2\"\n\"5\",\"670.6249123670658\",\"13.33925888790695\",\"22.19660074625079\",\"0.0001\",\"<0.0001\",\"p\"\n\"13\",\"6.550323087619043\",\"-0.2341478075898076\",\"2.548626667799725\",\"0.039921993675254674\",\"\",\"p\"\n\"7\",\"688.1595653640867\",\"13.84163952632452\",\"22.283818806196063\",\"0.0001\",\"<0.0001\",\"p\"\n\"0\",\"56.457438482420315\",\"3.748819106192446\",\"6.51181954537031\",\"0.0001\",\"<0.0001\",\"p\"\n\"3\",\"589.343712293949\",\"12.38868540789193\",\"20.877360612832135\",\"0.0001\",\"<0.0001\",\"p\"\n\"11\",\"147.96721301835333\",\"6.177449794326851\",\"10.478851418782714\",\"0.0001\",\"<0.0001\",\"p\"\n\"12\",\"56.86330990567814\",\"3.6355690358930985\",\"6.606507980085506\",\"0.0001\",\"<0.0001\",\"p\"\n\"14\",\"3.3288601796289172\",\"-0.6811192150956646\",\"1.6926124170808812\",\"0.2044684517976138\",\"\",\"a\"\n\"1\",\"244.1999513946027\",\"8.296957017858562\",\"13.242373489613191\",\"0.0001\",\"<0.0001\",\"p\"\n\"9\",\"439.9169174138988\",\"11.233736234248122\",\"17.71214520133684\",\"0.0001\",\"<0.0001\",\"p\"\n\"4\",\"699.1670879024285\",\"14.00704116188142\",\"22.42699011886767\",\"0.0001\",\"<0.0001\",\"p\"\n\"6\",\"604.0920246471818\",\"12.54918433339408\",\"21.133149249784765\",\"0.0001\",\"<0.0001\",\"p\"\n\"8\",\"568.6738886642971\",\"12.717984474593122\",\"20.17242572345491\",\"0.0001\",\"<0.0001\",\"p\"\n\"10\",\"356.23886916414375\",\"10.217865246021466\",\"15.869281615066589\",\"0.0001\",\"<0.0001\",\"p\"\n\"2\",\"422.3582578389184\",\"10.416288136969388\",\"17.716071779222087\",\"0.0001\",\"<0.0001\",\"p\"",
      "text/html": [
       "<div class = \"td-resultset-table-div\" style = \"max-height: 100%; overflow-y: auto\">\n",
       "      <table class=\"tdhistory701993\"><style>\n",
       "      table.tdhistory701993 { display: block !important; min-height: 399px !important; overflow: auto !important; height: 399px !important; width: 100% !important; border: 1px solid rgb(207, 207, 207) !important; border-collapse: collapse !important; ; color: var(--jp-ui-font-color1) !important; }\n",
       "      th.tdhistory701993 { border: 1px solid rgb(198,198,198) !important; border-collapse: collapse !important; ; padding: 2px 5px !important; ; font-size: 13px !important; ; text-align: center !important; white-space: normal !important; color: var(--jp-ui-font-color1) !important; }\n",
       "      th.tdhistory701993:last-child { text-align: left !important; }\n",
       "      tbody.tdhistory701993 tr:nth-child(even) { background: rgba(243, 243, 243, 0.75) !important; }\n",
       "      tbody.tdhistory701993 tr:nth-child(odd) { background: var(--jp-ui-inverse-font-color1) !important; }\n",
       "      td.tdhistory701993 { border: 1px solid rgb(207, 207, 207) !important; border-collapse: collapse !important; ; padding: 2px 5px !important; ; font-size: 13px !important; ; text-align: left !important;          white-space: nowrap !important; overflow:hidden !important; text-overflow:ellipsis !important;; }\n",
       "    </style><thead><tr style= \"background: rgba(243, 243, 243, 0.75)\"><th class=\"tdhistory701993\"></th><th class=\"tdhistory701993\">tot_cust_years</th><th class=\"tdhistory701993\">T</th><th class=\"tdhistory701993\">Zkurtosis</th><th class=\"tdhistory701993\">Zskew</th><th class=\"tdhistory701993\">ChiPValue</th><th class=\"tdhistory701993\">ChiPText</th><th class=\"tdhistory701993\">ChiCallP_5E-2</th></tr></thead><tbody class=\"tdhistory701993 resultset-body\"><tr><th class=\"tdhistory701993\" style= \"background: rgba(243, 243, 243, 0.75)\">1</th><td class=\"tdhistory701993\">5</td><td class=\"tdhistory701993\">670.6249123670658</td><td class=\"tdhistory701993\">13.33925888790695</td><td class=\"tdhistory701993\">22.19660074625079</td><td class=\"tdhistory701993\">0.0001</td><td class=\"tdhistory701993\"><0.0001</td><td class=\"tdhistory701993\">p</td></tr><tr><th class=\"tdhistory701993\" style= \"background: rgba(243, 243, 243, 0.75)\">2</th><td class=\"tdhistory701993\">13</td><td class=\"tdhistory701993\">6.550323087619043</td><td class=\"tdhistory701993\">-0.2341478075898076</td><td class=\"tdhistory701993\">2.548626667799725</td><td class=\"tdhistory701993\">0.039921993675254674</td><td class=\"tdhistory701993\"></td><td class=\"tdhistory701993\">p</td></tr><tr><th class=\"tdhistory701993\" style= \"background: rgba(243, 243, 243, 0.75)\">3</th><td class=\"tdhistory701993\">7</td><td class=\"tdhistory701993\">688.1595653640867</td><td class=\"tdhistory701993\">13.84163952632452</td><td class=\"tdhistory701993\">22.283818806196063</td><td class=\"tdhistory701993\">0.0001</td><td class=\"tdhistory701993\"><0.0001</td><td class=\"tdhistory701993\">p</td></tr><tr><th class=\"tdhistory701993\" style= \"background: rgba(243, 243, 243, 0.75)\">4</th><td class=\"tdhistory701993\">0</td><td class=\"tdhistory701993\">56.457438482420315</td><td class=\"tdhistory701993\">3.748819106192446</td><td class=\"tdhistory701993\">6.51181954537031</td><td class=\"tdhistory701993\">0.0001</td><td class=\"tdhistory701993\"><0.0001</td><td class=\"tdhistory701993\">p</td></tr><tr><th class=\"tdhistory701993\" style= \"background: rgba(243, 243, 243, 0.75)\">5</th><td class=\"tdhistory701993\">3</td><td class=\"tdhistory701993\">589.343712293949</td><td class=\"tdhistory701993\">12.38868540789193</td><td class=\"tdhistory701993\">20.877360612832135</td><td class=\"tdhistory701993\">0.0001</td><td class=\"tdhistory701993\"><0.0001</td><td class=\"tdhistory701993\">p</td></tr><tr><th class=\"tdhistory701993\" style= \"background: rgba(243, 243, 243, 0.75)\">6</th><td class=\"tdhistory701993\">11</td><td class=\"tdhistory701993\">147.96721301835333</td><td class=\"tdhistory701993\">6.177449794326851</td><td class=\"tdhistory701993\">10.478851418782714</td><td class=\"tdhistory701993\">0.0001</td><td class=\"tdhistory701993\"><0.0001</td><td class=\"tdhistory701993\">p</td></tr><tr><th class=\"tdhistory701993\" style= \"background: rgba(243, 243, 243, 0.75)\">7</th><td class=\"tdhistory701993\">12</td><td class=\"tdhistory701993\">56.86330990567814</td><td class=\"tdhistory701993\">3.6355690358930985</td><td class=\"tdhistory701993\">6.606507980085506</td><td class=\"tdhistory701993\">0.0001</td><td class=\"tdhistory701993\"><0.0001</td><td class=\"tdhistory701993\">p</td></tr><tr><th class=\"tdhistory701993\" style= \"background: rgba(243, 243, 243, 0.75)\">8</th><td class=\"tdhistory701993\">14</td><td class=\"tdhistory701993\">3.3288601796289172</td><td class=\"tdhistory701993\">-0.6811192150956646</td><td class=\"tdhistory701993\">1.6926124170808812</td><td class=\"tdhistory701993\">0.2044684517976138</td><td class=\"tdhistory701993\"></td><td class=\"tdhistory701993\">a</td></tr><tr><th class=\"tdhistory701993\" style= \"background: rgba(243, 243, 243, 0.75)\">9</th><td class=\"tdhistory701993\">1</td><td class=\"tdhistory701993\">244.1999513946027</td><td class=\"tdhistory701993\">8.296957017858562</td><td class=\"tdhistory701993\">13.242373489613191</td><td class=\"tdhistory701993\">0.0001</td><td class=\"tdhistory701993\"><0.0001</td><td class=\"tdhistory701993\">p</td></tr><tr><th class=\"tdhistory701993\" style= \"background: rgba(243, 243, 243, 0.75)\">10</th><td class=\"tdhistory701993\">9</td><td class=\"tdhistory701993\">439.9169174138988</td><td class=\"tdhistory701993\">11.233736234248122</td><td class=\"tdhistory701993\">17.71214520133684</td><td class=\"tdhistory701993\">0.0001</td><td class=\"tdhistory701993\"><0.0001</td><td class=\"tdhistory701993\">p</td></tr><tr><th class=\"tdhistory701993\" style= \"background: rgba(243, 243, 243, 0.75)\">11</th><td class=\"tdhistory701993\">4</td><td class=\"tdhistory701993\">699.1670879024285</td><td class=\"tdhistory701993\">14.00704116188142</td><td class=\"tdhistory701993\">22.42699011886767</td><td class=\"tdhistory701993\">0.0001</td><td class=\"tdhistory701993\"><0.0001</td><td class=\"tdhistory701993\">p</td></tr><tr><th class=\"tdhistory701993\" style= \"background: rgba(243, 243, 243, 0.75)\">12</th><td class=\"tdhistory701993\">6</td><td class=\"tdhistory701993\">604.0920246471818</td><td class=\"tdhistory701993\">12.54918433339408</td><td class=\"tdhistory701993\">21.133149249784765</td><td class=\"tdhistory701993\">0.0001</td><td class=\"tdhistory701993\"><0.0001</td><td class=\"tdhistory701993\">p</td></tr><tr><th class=\"tdhistory701993\" style= \"background: rgba(243, 243, 243, 0.75)\">13</th><td class=\"tdhistory701993\">8</td><td class=\"tdhistory701993\">568.6738886642971</td><td class=\"tdhistory701993\">12.717984474593122</td><td class=\"tdhistory701993\">20.17242572345491</td><td class=\"tdhistory701993\">0.0001</td><td class=\"tdhistory701993\"><0.0001</td><td class=\"tdhistory701993\">p</td></tr><tr><th class=\"tdhistory701993\" style= \"background: rgba(243, 243, 243, 0.75)\">14</th><td class=\"tdhistory701993\">10</td><td class=\"tdhistory701993\">356.23886916414375</td><td class=\"tdhistory701993\">10.217865246021466</td><td class=\"tdhistory701993\">15.869281615066589</td><td class=\"tdhistory701993\">0.0001</td><td class=\"tdhistory701993\"><0.0001</td><td class=\"tdhistory701993\">p</td></tr><tr><th class=\"tdhistory701993\" style= \"background: rgba(243, 243, 243, 0.75)\">15</th><td class=\"tdhistory701993\">2</td><td class=\"tdhistory701993\">422.3582578389184</td><td class=\"tdhistory701993\">10.416288136969388</td><td class=\"tdhistory701993\">17.716071779222087</td><td class=\"tdhistory701993\">0.0001</td><td class=\"tdhistory701993\"><0.0001</td><td class=\"tdhistory701993\">p</td></tr></tbody></table></div>"
      ]
     },
     "execution_count": 20,
     "metadata": {
      "application/vnd.teradata.resultset": "{\"resultSetID\":\"/home/jovyan/JupyterLabRoot/Teradata/Resultsets/2024.09.06_07.22.55.273_UTC\",\"historyID\":404,\"chunkID\":\"00001\",\"sessionid\":\"\",\"portnum\":\"\",\"dockermode\":\"docker\",\"totalRowCount\":15,\"chunkCount\":0,\"rowLimit\":0,\"columnMetadata\":[{\"columnName\":\"tot_cust_years\",\"columnTypeName\":\"INTEGER\"},{\"columnNumber\":1,\"columnName\":\"T\",\"columnTypeName\":\"FLOAT\"},{\"columnNumber\":2,\"columnName\":\"Zkurtosis\",\"columnTypeName\":\"FLOAT\"},{\"columnNumber\":3,\"columnName\":\"Zskew\",\"columnTypeName\":\"FLOAT\"},{\"columnNumber\":4,\"columnName\":\"ChiPValue\",\"columnTypeName\":\"FLOAT\"},{\"columnNumber\":5,\"columnName\":\"ChiPText\",\"columnTypeName\":\"VARCHAR\",\"length\":7,\"scale\":7},{\"columnNumber\":6,\"columnName\":\"ChiCallP_5E-2\",\"columnTypeName\":\"VARCHAR\",\"length\":1,\"scale\":1}]}"
     },
     "output_type": "execute_result"
    }
   ],
   "source": [
    "call val.td_analyze('KSTest', \n",
    "                         'database=demo_user;\n",
    "                          tablename=VAL_ADS;\n",
    "                          columnofinterest=tot_income;\n",
    "                          teststyle=P;\n",
    "                          groupby=tot_cust_years;\n",
    "                          statsdatabase=val;');"
   ]
  },
  {
   "cell_type": "markdown",
   "metadata": {},
   "source": [
    "<p style = 'font-size:16px;font-family:Arial;color:#00233C'>5.  Smirnov test with group-by option.</p>"
   ]
  },
  {
   "cell_type": "code",
   "execution_count": 21,
   "metadata": {},
   "outputs": [
    {
     "data": {
      "text/plain": [
       "Success: 0 rows affected"
      ]
     },
     "execution_count": 21,
     "metadata": {
      "application/vnd.teradata.resultset": ""
     },
     "output_type": "execute_result"
    },
    {
     "data": {
      "application/vnd.teradata.resultset": "\"tot_cust_years\",\"M\",\"N\",\"D\",\"SmirnovPValue\",\"SmirnovCallP\"\n\"5\",\"536\",\"654\",\"0.072927\",\"0.087143\",\"a  \"\n\"13\",\"19\",\"26\",\"0.267206\",\"0.338151\",\"a  \"\n\"7\",\"504\",\"614\",\"0.149953\",\"8e-06\",\"p  \"\n\"0\",\"74\",\"102\",\"0.141759\",\"0.316594\",\"a  \"\n\"3\",\"495\",\"665\",\"0.063598\",\"0.201202\",\"a  \"\n\"11\",\"158\",\"216\",\"0.14809\",\"0.036544\",\"p  \"\n\"12\",\"77\",\"105\",\"0.143723\",\"0.284986\",\"a  \"\n\"14\",\"16\",\"23\",\"0.184783\",\"0.828971\",\"a  \"\n\"1\",\"226\",\"300\",\"0.097552\",\"0.171917\",\"a  \"\n\"9\",\"374\",\"471\",\"0.116886\",\"0.006717\",\"p  \"\n\"4\",\"503\",\"634\",\"0.062969\",\"0.216024\",\"a  \"\n\"6\",\"533\",\"618\",\"0.119571\",\"0.000559\",\"p  \"\n\"8\",\"450\",\"564\",\"0.130378\",\"0.000403\",\"p  \"\n\"10\",\"263\",\"350\",\"0.127061\",\"0.015678\",\"p  \"\n\"2\",\"378\",\"510\",\"0.057485\",\"0.469896\",\"a  \"",
      "text/html": [
       "<div class = \"td-resultset-table-div\" style = \"max-height: 100%; overflow-y: auto\">\n",
       "      <table class=\"tdhistory11679\"><style>\n",
       "      table.tdhistory11679 { display: block !important; min-height: 399px !important; overflow: auto !important; height: 399px !important; width: 100% !important; border: 1px solid rgb(207, 207, 207) !important; border-collapse: collapse !important; ; color: var(--jp-ui-font-color1) !important; }\n",
       "      th.tdhistory11679 { border: 1px solid rgb(198,198,198) !important; border-collapse: collapse !important; ; padding: 2px 5px !important; ; font-size: 13px !important; ; text-align: center !important; white-space: normal !important; color: var(--jp-ui-font-color1) !important; }\n",
       "      th.tdhistory11679:last-child { text-align: left !important; }\n",
       "      tbody.tdhistory11679 tr:nth-child(even) { background: rgba(243, 243, 243, 0.75) !important; }\n",
       "      tbody.tdhistory11679 tr:nth-child(odd) { background: var(--jp-ui-inverse-font-color1) !important; }\n",
       "      td.tdhistory11679 { border: 1px solid rgb(207, 207, 207) !important; border-collapse: collapse !important; ; padding: 2px 5px !important; ; font-size: 13px !important; ; text-align: left !important;          white-space: nowrap !important; overflow:hidden !important; text-overflow:ellipsis !important;; }\n",
       "    </style><thead><tr style= \"background: rgba(243, 243, 243, 0.75)\"><th class=\"tdhistory11679\"></th><th class=\"tdhistory11679\">tot_cust_years</th><th class=\"tdhistory11679\">M</th><th class=\"tdhistory11679\">N</th><th class=\"tdhistory11679\">D</th><th class=\"tdhistory11679\">SmirnovPValue</th><th class=\"tdhistory11679\">SmirnovCallP</th></tr></thead><tbody class=\"tdhistory11679 resultset-body\"><tr><th class=\"tdhistory11679\" style= \"background: rgba(243, 243, 243, 0.75)\">1</th><td class=\"tdhistory11679\">5</td><td class=\"tdhistory11679\">536</td><td class=\"tdhistory11679\">654</td><td class=\"tdhistory11679\">0.072927</td><td class=\"tdhistory11679\">0.087143</td><td class=\"tdhistory11679\">a  </td></tr><tr><th class=\"tdhistory11679\" style= \"background: rgba(243, 243, 243, 0.75)\">2</th><td class=\"tdhistory11679\">13</td><td class=\"tdhistory11679\">19</td><td class=\"tdhistory11679\">26</td><td class=\"tdhistory11679\">0.267206</td><td class=\"tdhistory11679\">0.338151</td><td class=\"tdhistory11679\">a  </td></tr><tr><th class=\"tdhistory11679\" style= \"background: rgba(243, 243, 243, 0.75)\">3</th><td class=\"tdhistory11679\">7</td><td class=\"tdhistory11679\">504</td><td class=\"tdhistory11679\">614</td><td class=\"tdhistory11679\">0.149953</td><td class=\"tdhistory11679\">8e-06</td><td class=\"tdhistory11679\">p  </td></tr><tr><th class=\"tdhistory11679\" style= \"background: rgba(243, 243, 243, 0.75)\">4</th><td class=\"tdhistory11679\">0</td><td class=\"tdhistory11679\">74</td><td class=\"tdhistory11679\">102</td><td class=\"tdhistory11679\">0.141759</td><td class=\"tdhistory11679\">0.316594</td><td class=\"tdhistory11679\">a  </td></tr><tr><th class=\"tdhistory11679\" style= \"background: rgba(243, 243, 243, 0.75)\">5</th><td class=\"tdhistory11679\">3</td><td class=\"tdhistory11679\">495</td><td class=\"tdhistory11679\">665</td><td class=\"tdhistory11679\">0.063598</td><td class=\"tdhistory11679\">0.201202</td><td class=\"tdhistory11679\">a  </td></tr><tr><th class=\"tdhistory11679\" style= \"background: rgba(243, 243, 243, 0.75)\">6</th><td class=\"tdhistory11679\">11</td><td class=\"tdhistory11679\">158</td><td class=\"tdhistory11679\">216</td><td class=\"tdhistory11679\">0.14809</td><td class=\"tdhistory11679\">0.036544</td><td class=\"tdhistory11679\">p  </td></tr><tr><th class=\"tdhistory11679\" style= \"background: rgba(243, 243, 243, 0.75)\">7</th><td class=\"tdhistory11679\">12</td><td class=\"tdhistory11679\">77</td><td class=\"tdhistory11679\">105</td><td class=\"tdhistory11679\">0.143723</td><td class=\"tdhistory11679\">0.284986</td><td class=\"tdhistory11679\">a  </td></tr><tr><th class=\"tdhistory11679\" style= \"background: rgba(243, 243, 243, 0.75)\">8</th><td class=\"tdhistory11679\">14</td><td class=\"tdhistory11679\">16</td><td class=\"tdhistory11679\">23</td><td class=\"tdhistory11679\">0.184783</td><td class=\"tdhistory11679\">0.828971</td><td class=\"tdhistory11679\">a  </td></tr><tr><th class=\"tdhistory11679\" style= \"background: rgba(243, 243, 243, 0.75)\">9</th><td class=\"tdhistory11679\">1</td><td class=\"tdhistory11679\">226</td><td class=\"tdhistory11679\">300</td><td class=\"tdhistory11679\">0.097552</td><td class=\"tdhistory11679\">0.171917</td><td class=\"tdhistory11679\">a  </td></tr><tr><th class=\"tdhistory11679\" style= \"background: rgba(243, 243, 243, 0.75)\">10</th><td class=\"tdhistory11679\">9</td><td class=\"tdhistory11679\">374</td><td class=\"tdhistory11679\">471</td><td class=\"tdhistory11679\">0.116886</td><td class=\"tdhistory11679\">0.006717</td><td class=\"tdhistory11679\">p  </td></tr><tr><th class=\"tdhistory11679\" style= \"background: rgba(243, 243, 243, 0.75)\">11</th><td class=\"tdhistory11679\">4</td><td class=\"tdhistory11679\">503</td><td class=\"tdhistory11679\">634</td><td class=\"tdhistory11679\">0.062969</td><td class=\"tdhistory11679\">0.216024</td><td class=\"tdhistory11679\">a  </td></tr><tr><th class=\"tdhistory11679\" style= \"background: rgba(243, 243, 243, 0.75)\">12</th><td class=\"tdhistory11679\">6</td><td class=\"tdhistory11679\">533</td><td class=\"tdhistory11679\">618</td><td class=\"tdhistory11679\">0.119571</td><td class=\"tdhistory11679\">0.000559</td><td class=\"tdhistory11679\">p  </td></tr><tr><th class=\"tdhistory11679\" style= \"background: rgba(243, 243, 243, 0.75)\">13</th><td class=\"tdhistory11679\">8</td><td class=\"tdhistory11679\">450</td><td class=\"tdhistory11679\">564</td><td class=\"tdhistory11679\">0.130378</td><td class=\"tdhistory11679\">0.000403</td><td class=\"tdhistory11679\">p  </td></tr><tr><th class=\"tdhistory11679\" style= \"background: rgba(243, 243, 243, 0.75)\">14</th><td class=\"tdhistory11679\">10</td><td class=\"tdhistory11679\">263</td><td class=\"tdhistory11679\">350</td><td class=\"tdhistory11679\">0.127061</td><td class=\"tdhistory11679\">0.015678</td><td class=\"tdhistory11679\">p  </td></tr><tr><th class=\"tdhistory11679\" style= \"background: rgba(243, 243, 243, 0.75)\">15</th><td class=\"tdhistory11679\">2</td><td class=\"tdhistory11679\">378</td><td class=\"tdhistory11679\">510</td><td class=\"tdhistory11679\">0.057485</td><td class=\"tdhistory11679\">0.469896</td><td class=\"tdhistory11679\">a  </td></tr></tbody></table></div>"
      ]
     },
     "execution_count": 21,
     "metadata": {
      "application/vnd.teradata.resultset": "{\"resultSetID\":\"/home/jovyan/JupyterLabRoot/Teradata/Resultsets/2024.09.06_07.22.57.549_UTC\",\"historyID\":405,\"chunkID\":\"00001\",\"sessionid\":\"\",\"portnum\":\"\",\"dockermode\":\"docker\",\"totalRowCount\":15,\"chunkCount\":0,\"rowLimit\":0,\"columnMetadata\":[{\"columnName\":\"tot_cust_years\",\"columnTypeName\":\"INTEGER\"},{\"columnNumber\":1,\"columnName\":\"M\",\"columnTypeName\":\"INTEGER\"},{\"columnNumber\":2,\"columnName\":\"N\",\"columnTypeName\":\"INTEGER\"},{\"columnNumber\":3,\"columnName\":\"D\",\"columnTypeName\":\"FLOAT\"},{\"columnNumber\":4,\"columnName\":\"SmirnovPValue\",\"columnTypeName\":\"FLOAT\"},{\"columnNumber\":5,\"columnName\":\"SmirnovCallP\",\"columnTypeName\":\"CHAR\",\"length\":1,\"scale\":1}]}"
     },
     "output_type": "execute_result"
    }
   ],
   "source": [
    "call val.td_analyze('KSTest', \n",
    "                         'database=demo_user;\n",
    "                          tablename=VAL_ADS;\n",
    "                          columnofinterest=tot_income;\n",
    "                          columns=female_ind;\n",
    "                          teststyle=S;\n",
    "                          groupby=tot_cust_years;\n",
    "                          statsdatabase=val;');"
   ]
  },
  {
   "cell_type": "markdown",
   "metadata": {},
   "source": [
    "<p style = 'font-size:16px;font-family:Arial;color:#00233C'>The above output has the output columns as below(If there is a groupby column, it comprises the UPI. Otherwise, M is the UPI.)\n",
    "\n",
    "teststyle = s</p>\n",
    "\n",
    " <table style = 'font-size:14px;font-family:Arial;color:#00233C'>\n",
    "  <tr>\n",
    "    <th>Name</th>\n",
    "    <th>Type</th>\n",
    "    <th>Definition</th>\n",
    "  </tr>\n",
    "  <tr>\n",
    "    <td>M</td>\n",
    "    <td>Float</td>  \n",
    "    <td>Number of first distribution observations.</td>\n",
    "  </tr>\n",
    "  <tr>\n",
    "    <td>N</td>\n",
    "    <td>Float</td>  \n",
    "    <td>Number of second distribution observations.</td>\n",
    "  </tr>\n",
    "  <tr>\n",
    "    <td>D</td>\n",
    "    <td>Float</td>  \n",
    "    <td>D statistic.</td>\n",
    "  </tr>\n",
    "  <tr>\n",
    "    <td>SmirnovPValue</td>\n",
    "    <td>Float</td>  \n",
    "    <td>Probability associated with D statistic.</td>\n",
    "  </tr>\n",
    "  <tr>\n",
    "    <td>SmirnovPText</td>\n",
    "    <td>Char</td>  \n",
    "    <td>Text description if probability is outside table range.</td>\n",
    "  </tr>  \n",
    "  <tr>\n",
    "    <td>ShapiroWilkCallP_0.05.05</td>\n",
    "    <td>Char</td>  \n",
    "    <td>Shapiro-Wilk result:\n",
    "        <li>a=accept null hypothesis</li>\n",
    "        <li>p=reject null hypothesis</li>\n",
    "    </td>\n",
    "  </tr>    \n",
    "</table>\n",
    "   \n",
    "<p>"
   ]
  },
  {
   "cell_type": "markdown",
   "metadata": {},
   "source": [
    "<p style = 'font-size:16px;font-family:Arial;color:#00233C'>6.  Kolmogorov-Smirnov test that stores its results in an output table val_ks_out1 and does not contain a group-by option."
   ]
  },
  {
   "cell_type": "code",
   "execution_count": 22,
   "metadata": {},
   "outputs": [
    {
     "data": {
      "text/plain": [
       "Success: 0 rows affected"
      ]
     },
     "execution_count": 22,
     "metadata": {
      "application/vnd.teradata.resultset": ""
     },
     "output_type": "execute_result"
    }
   ],
   "source": [
    "call val.td_analyze('KSTest', \n",
    "                         'database=demo_user;\n",
    "                          tablename=VAL_ADS;\n",
    "                          columnofinterest=tot_income;\n",
    "                          teststyle=KS; \n",
    "                          statsdatabase=val;\n",
    "                          outputdatabase=demo_user;\n",
    "                          outputtablename=_val_ks_out1');"
   ]
  },
  {
   "cell_type": "code",
   "execution_count": 23,
   "metadata": {},
   "outputs": [
    {
     "data": {
      "application/vnd.teradata.resultset": "\"Klm\",\"M\",\"KlmPValue\",\"KlmPText\",\"KlmCallP_5E-2\"\n\"0.15818501100000001\",\"10458\",\"0.01\",\"<0.01\",\"p\"",
      "text/html": [
       "<div class = \"td-resultset-table-div\" style = \"max-height: 100%; overflow-y: auto\">\n",
       "      <table class=\"tdhistory696853\"><style>\n",
       "      table.tdhistory696853 { display: block !important; min-height: 105px !important; overflow: auto !important; height: 105px !important; width: 100% !important; border: 1px solid rgb(207, 207, 207) !important; border-collapse: collapse !important; ; color: var(--jp-ui-font-color1) !important; }\n",
       "      th.tdhistory696853 { border: 1px solid rgb(198,198,198) !important; border-collapse: collapse !important; ; padding: 2px 5px !important; ; font-size: 13px !important; ; text-align: center !important; white-space: normal !important; color: var(--jp-ui-font-color1) !important; }\n",
       "      th.tdhistory696853:last-child { text-align: left !important; }\n",
       "      tbody.tdhistory696853 tr:nth-child(even) { background: rgba(243, 243, 243, 0.75) !important; }\n",
       "      tbody.tdhistory696853 tr:nth-child(odd) { background: var(--jp-ui-inverse-font-color1) !important; }\n",
       "      td.tdhistory696853 { border: 1px solid rgb(207, 207, 207) !important; border-collapse: collapse !important; ; padding: 2px 5px !important; ; font-size: 13px !important; ; text-align: left !important;          white-space: nowrap !important; overflow:hidden !important; text-overflow:ellipsis !important;; }\n",
       "    </style><thead><tr style= \"background: rgba(243, 243, 243, 0.75)\"><th class=\"tdhistory696853\"></th><th class=\"tdhistory696853\">Klm</th><th class=\"tdhistory696853\">M</th><th class=\"tdhistory696853\">KlmPValue</th><th class=\"tdhistory696853\">KlmPText</th><th class=\"tdhistory696853\">KlmCallP_5E-2</th></tr></thead><tbody class=\"tdhistory696853 resultset-body\"><tr><th class=\"tdhistory696853\" style= \"background: rgba(243, 243, 243, 0.75)\">1</th><td class=\"tdhistory696853\">0.15818501100000001</td><td class=\"tdhistory696853\">10458</td><td class=\"tdhistory696853\">0.01</td><td class=\"tdhistory696853\"><0.01</td><td class=\"tdhistory696853\">p</td></tr></tbody></table></div>"
      ]
     },
     "execution_count": 23,
     "metadata": {
      "application/vnd.teradata.resultset": "{\"resultSetID\":\"/home/jovyan/JupyterLabRoot/Teradata/Resultsets/2024.09.06_07.23.06.926_UTC\",\"historyID\":407,\"chunkID\":\"00001\",\"sessionid\":\"\",\"portnum\":\"\",\"dockermode\":\"docker\",\"totalRowCount\":1,\"chunkCount\":0,\"rowLimit\":0,\"columnMetadata\":[{\"columnName\":\"Klm\",\"columnTypeName\":\"FLOAT\"},{\"columnNumber\":1,\"columnName\":\"M\",\"columnTypeName\":\"FLOAT\"},{\"columnNumber\":2,\"columnName\":\"KlmPValue\",\"columnTypeName\":\"FLOAT\"},{\"columnNumber\":3,\"columnName\":\"KlmPText\",\"columnTypeName\":\"VARCHAR\",\"length\":5,\"scale\":5},{\"columnNumber\":4,\"columnName\":\"KlmCallP_5E-2\",\"columnTypeName\":\"VARCHAR\",\"length\":1,\"scale\":1}]}"
     },
     "output_type": "execute_result"
    }
   ],
   "source": [
    "SELECT * FROM demo_user._val_ks_out1;"
   ]
  },
  {
   "cell_type": "markdown",
   "metadata": {},
   "source": [
    "<hr style=\"height:2px;border:none;background-color:#00233C;\">"
   ]
  },
  {
   "cell_type": "markdown",
   "metadata": {},
   "source": [
    "<p style = 'font-size:20px;font-family:Arial;color:#00233C'><b>6. Parametric Tests</b></p>\n",
    "\n",
    "<p style = 'font-size:16px;font-family:Arial;color:#00233C'><b>Purpose</b></p>\n",
    "\n",
    "<p style = 'font-size:16px;font-family:Arial;color:#00233C'>Parametric tests make assumptions about the data, such as the observations being normally distributed.  This can be verified with a test of normality prior to executing a parametric test.  Both T-Tests and F-Tests are provided.  T-Tests may be either paired or unpaired, while the unpaired T-Tests may be with or without an indicator variable.</p>  \n",
    "\n",
    "<p style = 'font-size:16px;font-family:Arial;color:#00233C'>F-Tests may be 1-way, 2-way or 3-way.  2-way tests may have equal or unequal cell counts (distinct column values), while the 3-way test must have equal cell counts.  A 1-way test has 1 independent input column, a 2-way test has 2 independent columns and a 3-way test has 3 independent columns in addition to a dependent “column of interest”.</p>\n",
    "\n",
    "<p style = 'font-size:16px;font-family:Arial;color:#00233C'><b>Required Parameters</b></p>\n",
    "\n",
    "<p style = 'font-size:16px;font-family:Arial;color:#00233C'><b>- **database**</b></p>\n",
    "\n",
    "<p style = 'font-size:16px;font-family:Arial;color:#00233C'>The database containing the table to analyze.</p>\n",
    "\n",
    "<p style = 'font-size:16px;font-family:Arial;color:#00233C'><b>- **parametrictest**</b></p>\n",
    "\n",
    "<p style = 'font-size:16px;font-family:Arial;color:#00233C'>The parametrictest parameter:\n",
    "    <li>Is required</li>\n",
    "    <li>Must be the first parameter</li>\n",
    "    <li>Is always enclosed in single quotes</li>\n",
    "</p>\n",
    "\n",
    "<p style = 'font-size:16px;font-family:Arial;color:#00233C'><b>- **tablename**</b></p>\n",
    "\n",
    "<p style = 'font-size:16px;font-family:Arial;color:#00233C'>The table containing the columns to analyze.  It must reside in the database indicated by the database parameter.</p>\n",
    "\n",
    "<p style = 'font-size:16px;font-family:Arial;color:#00233C'><b>Optional Parameters</b></p>\n",
    "\n",
    "<p style = 'font-size:16px;font-family:Arial;color:#00233C'><b>- **columnofinterest**</b></p>\n",
    "\n",
    "<p style = 'font-size:16px;font-family:Arial;color:#00233C'>The column representing the dependent variable in an F-Test.</p>\n",
    "\n",
    "<p style = 'font-size:16px;font-family:Arial;color:#00233C'><b>- **columns**</b></p>\n",
    "\n",
    "<p style = 'font-size:16px;font-family:Arial;color:#00233C'>The columns representing independent variables to be analyzed in a F-Test N-Way with Equal Cell Counts analysis.  There may be 1, 2 or 3 columns listed in this parameter.  If 2 or 3 columns, the number of distinct values for each combination of column values should be the same.</p>\n",
    "\n",
    "<p style = 'font-size:16px;font-family:Arial;color:#00233C'><b>- **equalvariance**</b></p>\n",
    "\n",
    "<p style = 'font-size:16px;font-family:Arial;color:#00233C'>An option available with the T-Test where, if true, the variance of the two samples (columns) is assumed to be equal.  The default assumption is that the variances are not equal.</p>\n",
    "\n",
    "<p style = 'font-size:16px;font-family:Arial;color:#00233C'><b>- **fallback**</b></p>\n",
    "\n",
    "<p style = 'font-size:16px;font-family:Arial;color:#00233C'>When true, FALLBACK is requested as an attribute of the created output results table.  When false or parameter not specified, the FALLBACK attribute is not included in the create table SQL.</p>\n",
    "\n",
    "<p style = 'font-size:16px;font-family:Arial;color:#00233C'><b>- **firstcolumn**</b></p>\n",
    "\n",
    "<p style = 'font-size:16px;font-family:Arial;color:#00233C'>For a T-Test, the column representing the first variable to analyze. It must reside in the table indicated by the tablename parameter.  For an F-Test, the column representing the first independent variable in the analysis.</p>\n",
    "\n",
    "<p style = 'font-size:16px;font-family:Arial;color:#00233C'><b>- **firstcolumnvalues**</b></p>\n",
    "\n",
    "<p style = 'font-size:16px;font-family:Arial;color:#00233C'>This is a required option for a 2-way F-Test with Unequal Cell Counts.  It is a list of the firstcolumn values to be included in the analysis.</p>\n",
    "\n",
    "<p style = 'font-size:16px;font-family:Arial;color:#00233C'><b>- **gensqlonly**</b></p>\n",
    "\n",
    "<p style = 'font-size:16px;font-family:Arial;color:#00233C'>For a T-Test analysis, when gensqlonly is true, the SQL for the requested function is returned as a result set but not run. When not specified or set to false, the SQL is run but not returned.  This option is not available for an F-Test analysis.</p>\n",
    "\n",
    "<p style = 'font-size:16px;font-family:Arial;color:#00233C'><b>- **groupby**</b></p>\n",
    "\n",
    "<p style = 'font-size:16px;font-family:Arial;color:#00233C'>One or more group-by columns may optionally be specified so that a separate result is produced for each value or combination of values in the specified column or columns.</p>\n",
    "\n",
    "<p style = 'font-size:16px;font-family:Arial;color:#00233C'><b>- **multiset**</b></p>\n",
    "\n",
    "<p style = 'font-size:16px;font-family:Arial;color:#00233C'>When true, MULTISET is requested as an attribute of the created output results table.  When false or parameter not specified, the MULTISET attribute is not included in the create table SQL.</p>\n",
    "\n",
    "<p style = 'font-size:16px;font-family:Arial;color:#00233C'><b>- **outputdatabase**</b></p>\n",
    "\n",
    "<p style = 'font-size:16px;font-family:Arial;color:#00233C'>Specifies the name of the database to contain the analysis results table.</p>\n",
    "\n",
    "<p style = 'font-size:16px;font-family:Arial;color:#00233C'><b>- **outputtablename**</b></p>\n",
    "\n",
    "<p style = 'font-size:16px;font-family:Arial;color:#00233C'>Specifies the name of the table to store the analysis results. If not supplied, the results are returned as a result set.</p>\n",
    "\n",
    "<p style = 'font-size:16px;font-family:Arial;color:#00233C'><b>- **overwrite**</b></p>\n",
    "\n",
    "<p style = 'font-size:16px;font-family:Arial;color:#00233C'>When overwrite is set to true or not set, the output table is dropped before creating a new one.</p>\n",
    "\n",
    "<p style = 'font-size:16px;font-family:Arial;color:#00233C'><b>- **paired**</b></p>\n",
    "\n",
    "<p style = 'font-size:16px;font-family:Arial;color:#00233C'>An option of the T-Test, which when set to true, indicates that the first and second column values are matched with each other and the mean difference is analyzed.  The paired option defaults to false.</p>\n",
    "\n",
    "<p style = 'font-size:16px;font-family:Arial;color:#00233C'><b>- **secondcolumn**</b></p>\n",
    "\n",
    "<p style = 'font-size:16px;font-family:Arial;color:#00233C'>For a T-Test, the column representing the second variable to analyze. It must reside in the table indicated by the tablename parameter.  If the withindicator option is set to true, the second column is used to define two analysis categories, one where the second column is negative or zero, and another where the second column is positive.  For an F-Test, the column representing the second independent variable in the analysis.</p>\n",
    "\n",
    "<p style = 'font-size:16px;font-family:Arial;color:#00233C'><b>- **secondcolumnvalues**</b></p>\n",
    "\n",
    "<p style = 'font-size:16px;font-family:Arial;color:#00233C'>This is a required option for a 2-way F-Test with Unequal Cell Counts.  It is a list of the secondcolumn values to be included in the analysis.</p>\n",
    "\n",
    "<p style = 'font-size:16px;font-family:Arial;color:#00233C'><b>- **statsdatabase**</b></p>\n",
    "\n",
    "<p style = 'font-size:16px;font-family:Arial;color:#00233C'>This is the database where the statistical test metadata tables are installed.  If not specified, the source database is searched for these metadata tables.</p>\n",
    "\n",
    "<p style = 'font-size:16px;font-family:Arial;color:#00233C'><b>- **teststyle**</b></p>\n",
    "\n",
    "<p style = 'font-size:16px;font-family:Arial;color:#00233C'>The valid values are t, fnway and f2way, as outlined below. The default is t for T-Test.\n",
    "    \n",
    "<li>T-Test paired, unpaired or unpaired with indicator variable (second column)</li>\n",
    "<li>F-Test N-Way with Equal Cell Counts (1, 2 or 3 columns with same number of distinct values)</li>\n",
    "<li>F-Test 2-Way with Unequal Cell Counts (2 columns with possibly different numbers of distinct values)</li>\n",
    "</p>\n",
    "\n",
    "<p style = 'font-size:16px;font-family:Arial;color:#00233C'><b>- **thresholdprobability**</b></p>\n",
    "\n",
    "<p style = 'font-size:16px;font-family:Arial;color:#00233C'>You may optionally change the threshold probability or allow it to default to 0.05.  Below this  \"alpha\" probability the null hypothesis is rejected.</p>\n",
    "\n",
    "<p style = 'font-size:16px;font-family:Arial;color:#00233C'><b>- **withindicator**</b></p>\n",
    "\n",
    "<p style = 'font-size:16px;font-family:Arial;color:#00233C'>This option may be used with an un-paired T-Test, that is when teststyle=t and paired=false.  If the withindicator option is set to true, the second column is used to indicate there are two analysis categories, one for the case where the second column is negative or zero, and another when the second column is positive.</p>"
   ]
  },
  {
   "cell_type": "markdown",
   "metadata": {},
   "source": [
    "<hr style=\"height:1px;border:none;background-color:#00233C;\">"
   ]
  },
  {
   "cell_type": "markdown",
   "metadata": {},
   "source": [
    "<p style = 'font-size:16px;font-family:Arial;color:#00233C'>1.  T-Test producing an unpersisted result set with default values for teststyle (t) and  thresholdprobabilty (.05). </p> "
   ]
  },
  {
   "cell_type": "code",
   "execution_count": 24,
   "metadata": {},
   "outputs": [
    {
     "data": {
      "text/plain": [
       "Success: 0 rows affected"
      ]
     },
     "execution_count": 24,
     "metadata": {
      "application/vnd.teradata.resultset": ""
     },
     "output_type": "execute_result"
    },
    {
     "data": {
      "application/vnd.teradata.resultset": "\"tot_age\",\"female_ind\",\"D_F\",\"TTestPValue\",\"T\",\"TTestCallP_0.05\"\n\"85\",\"1\",\"18\",\"0.4807706\",\"-0.715463172636989\",\"a\"\n\"93\",\"0\",\"3\",\"0\",\"\",\"\"\n\"77\",\"0\",\"7\",\"0.2252156\",\"1.3272042858038389\",\"a\"\n\"76\",\"1\",\"24\",\"0.7818767\",\"0.2757542705961492\",\"a\"\n\"72\",\"1\",\"28\",\"0.2042013\",\"-1.2957723582343272\",\"a\"\n\"93\",\"1\",\"7\",\"0.0856193\",\"2.00449476653439\",\"a\"\n\"64\",\"1\",\"46\",\"0.0063499\",\"-2.8563487358795143\",\"n\"\n\"50\",\"1\",\"107\",\"0.0016447\",\"-3.2344818472272943\",\"n\"\n\"47\",\"0\",\"54\",\"0.0053865\",\"-2.9000459446649285\",\"n\"\n\"89\",\"1\",\"15\",\"0.0142988\",\"2.7683360374460215\",\"p\"\n\"72\",\"0\",\"20\",\"0.9921204\",\"-0.007635559294069897\",\"a\"\n\"38\",\"0\",\"72\",\"0.449736\",\"-0.761833441763345\",\"a\"\n\"48\",\"0\",\"72\",\"0.0019244\",\"-3.2229392296515877\",\"n\"\n\"76\",\"0\",\"16\",\"0.2834034\",\"1.1137590628201983\",\"a\"\n\"26\",\"0\",\"39\",\"0.002657\",\"-3.2075616900465023\",\"n\"\n\"66\",\"1\",\"78\",\"0.0004723\",\"-3.646691108242651\",\"n\"\n\"79\",\"0\",\"20\",\"0.4798555\",\"-0.721590349507282\",\"a\"\n\"52\",\"1\",\"103\",\"0.0657389\",\"-1.8588907198839517\",\"a\"\n\"73\",\"0\",\"28\",\"0.3502408\",\"0.9479074683140468\",\"a\"\n\"42\",\"1\",\"117\",\"0.00033\",\"-3.701124936484421\",\"n\"\n\"35\",\"1\",\"107\",\"0.9047082\",\"0.11921172925079089\",\"a\"\n\"89\",\"0\",\"13\",\"0.1763092\",\"-1.4332867450865145\",\"a\"\n\"33\",\"0\",\"79\",\"0.0511857\",\"-1.9785619285502432\",\"a\"\n\"88\",\"0\",\"16\",\"0.015772\",\"-2.704698849315726\",\"n\"\n\"39\",\"1\",\"94\",\"0.0037795\",\"-2.9667186633594596\",\"n\"\n\"43\",\"1\",\"105\",\"0.0020615\",\"-3.1592821796103485\",\"n\"\n\"14\",\"1\",\"51\",\"0.0005456\",\"3.693188262912191\",\"p\"\n\"46\",\"1\",\"113\",\"0.0011735\",\"-3.3276825944952346\",\"n\"\n\"39\",\"0\",\"73\",\"0.0915134\",\"-1.7050522939133508\",\"a\"\n\"23\",\"0\",\"69\",\"0.0116994\",\"-2.590484787457626\",\"n\"\n\"44\",\"1\",\"90\",\"0.0003708\",\"-3.7033331405109133\",\"n\"\n\"31\",\"1\",\"88\",\"0.6183231\",\"-0.5021525435049807\",\"a\"\n\"75\",\"1\",\"33\",\"0.1959187\",\"1.315635133067727\",\"a\"\n\"80\",\"0\",\"21\",\"0.415875\",\"0.8330076821034003\",\"a\"\n\"65\",\"1\",\"72\",\"0.0365898\",\"-2.13109044369817\",\"n\"\n\"31\",\"0\",\"71\",\"0.0107457\",\"-2.6194798084884576\",\"n\"\n\"15\",\"0\",\"86\",\"0.0002188\",\"3.864249582931809\",\"p\"\n\"33\",\"1\",\"93\",\"0.0402766\",\"-2.078263092455552\",\"n\"\n\"27\",\"1\",\"69\",\"0.0431725\",\"-2.056515593385942\",\"n\"\n\"90\",\"1\",\"9\",\"0.1555528\",\"1.545231261242011\",\"a\"\n\"45\",\"0\",\"68\",\"0.0001292\",\"-4.059830394523732\",\"n\"\n\"9\",\"0\",\"6\",\"0.0663471\",\"2.240383083370425\",\"a\"\n\"94\",\"1\",\"7\",\"0.1132148\",\"1.8135209270199906\",\"a\"\n\"77\",\"1\",\"40\",\"0.0221685\",\"-2.384227212864992\",\"n\"\n\"10\",\"1\",\"5\",\"0.1100709\",\"1.9429580983579042\",\"a\"\n\"45\",\"1\",\"104\",\"0.0438849\",\"-2.0436408668962054\",\"n\"\n\"49\",\"1\",\"95\",\"0.0001084\",\"-4.035018616442392\",\"n\"\n\"91\",\"0\",\"4\",\"0.2206629\",\"-1.4534208494891652\",\"a\"\n\"61\",\"1\",\"86\",\"0.0250818\",\"2.2760531913263917\",\"p\"\n\"75\",\"0\",\"27\",\"0.1025436\",\"1.6862479715409269\",\"a\"\n\"57\",\"1\",\"94\",\"0.9443424\",\"0.06664211026909829\",\"a\"\n\"34\",\"1\",\"97\",\"0.05169\",\"-1.9688466748543199\",\"a\"\n\"71\",\"0\",\"40\",\"0.7961975\",\"-0.2641566410222367\",\"a\"\n\"63\",\"0\",\"52\",\"0.0004896\",\"-3.7172265649750513\",\"n\"\n\"74\",\"1\",\"39\",\"0.0004152\",\"-3.8626003069347283\",\"n\"\n\"37\",\"0\",\"89\",\"0.5768863\",\"0.5599533860689607\",\"a\"\n\"58\",\"1\",\"98\",\"0.4981077\",\"-0.6796772283369474\",\"a\"\n\"54\",\"1\",\"119\",\"0.0477776\",\"-2.0041899107427836\",\"n\"\n\"54\",\"0\",\"50\",\"0.008058\",\"-2.7643781497302564\",\"n\"\n\"30\",\"1\",\"85\",\"0.5974937\",\"-0.53344455607459\",\"a\"\n\"29\",\"1\",\"65\",\"0.7803667\",\"-0.27816462545128795\",\"a\"\n\"62\",\"0\",\"79\",\"0.0680527\",\"-1.8458946020700597\",\"a\"\n\"26\",\"1\",\"53\",\"0.3170842\",\"-1.0140118328532206\",\"a\"\n\"57\",\"0\",\"106\",\"0.0109467\",\"-2.5913883798643633\",\"n\"\n\"36\",\"0\",\"94\",\"0.3599277\",\"0.9189635642254149\",\"a\"\n\"48\",\"1\",\"92\",\"0.0008762\",\"-3.4370876087795286\",\"n\"\n\"24\",\"0\",\"64\",\"0.654231\",\"0.44944213802776795\",\"a\"\n\"50\",\"0\",\"49\",\"0.0006558\",\"-3.6409383276073912\",\"n\"\n\"17\",\"0\",\"85\",\"0.0125657\",\"2.5468209355925406\",\"p\"\n\"36\",\"1\",\"100\",\"0.0025139\",\"-3.1010102951441594\",\"n\"\n\"56\",\"1\",\"100\",\"0.4732045\",\"0.7175552279050323\",\"a\"\n\"91\",\"1\",\"5\",\"0.1939037\",\"1.498396239698223\",\"a\"\n\"90\",\"0\",\"6\",\"0.3559177\",\"-0.9999999999999999\",\"a\"\n\"67\",\"0\",\"46\",\"0.0328687\",\"-2.198412250198925\",\"n\"\n\"9\",\"1\",\"7\",\"0.0011862\",\"5.246179206391677\",\"p\"\n\"86\",\"0\",\"15\",\"0.0164588\",\"-2.6984705704142558\",\"n\"\n\"53\",\"0\",\"79\",\"0.0045597\",\"-2.924707199729371\",\"n\"\n\"92\",\"0\",\"3\",\"0.0260825\",\"-4.1093444064195035\",\"n\"\n\"40\",\"0\",\"93\",\"0.0102693\",\"-2.6213267496702675\",\"n\"\n\"14\",\"0\",\"57\",\"0.0112496\",\"2.6246422071530566\",\"p\"\n\"71\",\"1\",\"62\",\"0.0001833\",\"-3.9795200511271416\",\"n\"\n\"62\",\"1\",\"70\",\"0.0745882\",\"-1.813453870336688\",\"a\"\n\"18\",\"0\",\"113\",\"0.1101879\",\"1.60879009923987\",\"a\"\n\"32\",\"1\",\"90\",\"0.24509\",\"-1.1709752915228597\",\"a\"\n\"58\",\"0\",\"93\",\"0.0541878\",\"-1.9456766189714712\",\"a\"\n\"83\",\"1\",\"19\",\"0.1217113\",\"-1.617495320068267\",\"a\"\n\"68\",\"0\",\"41\",\"0.0075597\",\"-2.8132333558681175\",\"n\"\n\"25\",\"1\",\"41\",\"0.0948247\",\"-1.7115806209715698\",\"a\"\n\"61\",\"0\",\"54\",\"0.1420424\",\"-1.4880552669395877\",\"a\"\n\"64\",\"0\",\"58\",\"0.0182145\",\"-2.426959140037223\",\"n\"\n\"13\",\"0\",\"27\",\"0.0156412\",\"2.5810498299970597\",\"p\"\n\"78\",\"0\",\"22\",\"0.1696243\",\"1.4246952271401183\",\"a\"\n\"73\",\"1\",\"33\",\"0.0086889\",\"-2.7896935842911224\",\"n\"\n\"69\",\"0\",\"62\",\"0.7727839\",\"0.28651538577973673\",\"a\"\n\"12\",\"0\",\"8\",\"0.2833584\",\"-1.1492921641212326\",\"a\"\n\"29\",\"0\",\"51\",\"0.462693\",\"-0.7355089630973274\",\"a\"\n\"25\",\"0\",\"32\",\"0.3854205\",\"-0.8799985807528692\",\"a\"\n\"65\",\"0\",\"56\",\"0.0667144\",\"-1.8708006366703864\",\"a\"\n\"34\",\"0\",\"76\",\"0.4204692\",\"0.811250825489578\",\"a\"\n\"87\",\"0\",\"21\",\"0.1384942\",\"-1.5419105988818673\",\"a\"\n\"70\",\"0\",\"45\",\"0.5189969\",\"-0.6513020306745494\",\"a\"\n\"79\",\"1\",\"34\",\"0.1144719\",\"-1.6237812480962597\",\"a\"\n\"19\",\"0\",\"113\",\"0.0626833\",\"1.8819296530525789\",\"a\"\n\"10\",\"0\",\"8\",\"0.0363709\",\"2.5117824050061412\",\"p\"\n\"84\",\"0\",\"31\",\"0.0006176\",\"-3.8114042051957284\",\"n\"\n\"69\",\"1\",\"47\",\"0.0009419\",\"-3.5274152408618327\",\"n\"\n\"16\",\"1\",\"107\",\"0\",\"4.639713849368195\",\"p\"\n\"28\",\"0\",\"43\",\"0.01982\",\"-2.4238092425595226\",\"n\"\n\"66\",\"0\",\"46\",\"0.0032988\",\"-3.095957668340024\",\"n\"\n\"22\",\"0\",\"57\",\"0.7127537\",\"-0.3715522619884085\",\"a\"\n\"23\",\"1\",\"72\",\"0\",\"-4.807836962330954\",\"n\"\n\"56\",\"0\",\"79\",\"0.1135904\",\"-1.6016397040542534\",\"a\"\n\"80\",\"1\",\"27\",\"0.0461684\",\"-2.091977548190066\",\"n\"\n\"78\",\"1\",\"29\",\"0.0049756\",\"-3.042291228131736\",\"n\"\n\"20\",\"1\",\"144\",\"0\",\"5.25321706131435\",\"p\"\n\"40\",\"1\",\"97\",\"0.0287475\",\"-2.220837961070849\",\"n\"\n\"37\",\"1\",\"91\",\"0.0134787\",\"-2.515855840770415\",\"n\"\n\"28\",\"1\",\"71\",\"0.0366385\",\"-2.129852920428456\",\"n\"\n\"55\",\"1\",\"124\",\"0\",\"-4.127593377381934\",\"n\"\n\"21\",\"0\",\"70\",\"0.2265592\",\"-1.2185733241114733\",\"a\"\n\"59\",\"1\",\"81\",\"0.6325211\",\"-0.4799533198668136\",\"a\"\n\"32\",\"0\",\"67\",\"0.4094865\",\"0.8253290126068602\",\"a\"\n\"67\",\"1\",\"55\",\"0\",\"-4.404684295372502\",\"n\"\n\"88\",\"1\",\"13\",\"0.2368918\",\"-1.2411936748771681\",\"a\"\n\"74\",\"0\",\"42\",\"0.0728423\",\"1.843131346135043\",\"a\"\n\"27\",\"0\",\"35\",\"0.0218499\",\"-2.398554722335631\",\"n\"\n\"47\",\"1\",\"99\",\"0\",\"-4.731251829098891\",\"n\"\n\"11\",\"0\",\"12\",\"0.0335186\",\"2.3986400290671694\",\"p\"\n\"84\",\"1\",\"23\",\"0.0116674\",\"-2.741240236148122\",\"n\"\n\"86\",\"1\",\"7\",\"0.1368472\",\"-1.6810328952966416\",\"a\"\n\"51\",\"0\",\"87\",\"0\",\"-4.661077166011302\",\"n\"\n\"12\",\"1\",\"9\",\"0.0600366\",\"-2.1451698881663877\",\"a\"\n\"17\",\"1\",\"116\",\"0.0117522\",\"2.5648865894179176\",\"p\"\n\"49\",\"0\",\"73\",\"0.0001023\",\"-4.107857878130482\",\"n\"\n\"22\",\"1\",\"88\",\"0.1271486\",\"-1.5419965213272224\",\"a\"\n\"38\",\"1\",\"101\",\"0.096048\",\"-1.6753890959647324\",\"a\"\n\"13\",\"1\",\"37\",\"0.0091662\",\"2.745763970817959\",\"p\"\n\"52\",\"0\",\"57\",\"0.1988335\",\"-1.2986200226539708\",\"a\"\n\"81\",\"0\",\"15\",\"0.0205029\",\"-2.589130468293594\",\"n\"\n\"68\",\"1\",\"47\",\"0.0002373\",\"-3.9788328948124123\",\"n\"\n\"85\",\"0\",\"23\",\"0.0647381\",\"-1.939644842896574\",\"a\"\n\"35\",\"0\",\"83\",\"0.0003375\",\"-3.7394635368194225\",\"n\"\n\"16\",\"0\",\"90\",\"0.0029166\",\"3.060064737034293\",\"p\"\n\"11\",\"1\",\"18\",\"0.0061793\",\"3.104019356946221\",\"p\"\n\"81\",\"1\",\"21\",\"0.1646098\",\"-1.4374024402178875\",\"a\"\n\"18\",\"1\",\"146\",\"0\",\"3.880078571846679\",\"p\"\n\"63\",\"1\",\"58\",\"0.0480107\",\"-2.018813226758169\",\"n\"\n\"60\",\"1\",\"96\",\"0.0010157\",\"-3.394647945426487\",\"n\"\n\"51\",\"1\",\"125\",\"0\",\"-4.715111357900299\",\"n\"\n\"82\",\"1\",\"34\",\"0.0005562\",\"-3.811663137462193\",\"n\"\n\"83\",\"0\",\"19\",\"0.0446447\",\"-2.1457788047169233\",\"n\"\n\"70\",\"1\",\"61\",\"0\",\"-5.373304366118829\",\"n\"\n\"43\",\"0\",\"63\",\"0.035401\",\"-2.1475904037515336\",\"n\"\n\"41\",\"0\",\"87\",\"0.4673513\",\"0.7284430080051986\",\"a\"\n\"21\",\"1\",\"80\",\"0\",\"-4.494000431713699\",\"n\"\n\"82\",\"0\",\"23\",\"0.0054189\",\"-3.0725105303481928\",\"n\"\n\"24\",\"1\",\"71\",\"0.0275495\",\"-2.251117099673115\",\"n\"\n\"42\",\"0\",\"67\",\"0\",\"-4.211796282429227\",\"n\"\n\"87\",\"1\",\"8\",\"0.5973357\",\"-0.5542183588683113\",\"a\"\n\"44\",\"0\",\"88\",\"0.002372\",\"-3.1273574324187483\",\"n\"\n\"60\",\"0\",\"92\",\"0\",\"-4.258888739610543\",\"n\"\n\"30\",\"0\",\"57\",\"0.134039\",\"-1.523189487616873\",\"a\"\n\"55\",\"0\",\"97\",\"0\",\"-5.784851346128433\",\"n\"\n\"41\",\"1\",\"125\",\"0\",\"-1.5361087497978672\",\"n\"\n\"46\",\"0\",\"85\",\"0\",\"-4.332325340125757\",\"n\"\n\"53\",\"1\",\"105\",\"0\",\"-4.527210354661867\",\"n\"\n\"59\",\"0\",\"80\",\"0\",\"-4.809246673642799\",\"n\"\n\"19\",\"1\",\"125\",\"0\",\"1.7623795152739916\",\"p\"\n\"15\",\"1\",\"100\",\"0\",\"4.911359364701502\",\"p\"\n\"20\",\"0\",\"102\",\"0\",\"4.3080863466550845\",\"p\"",
      "text/html": [
       "<div class = \"td-resultset-table-div\" style = \"max-height: 100%; overflow-y: auto\">\n",
       "      <table class=\"tdhistory148199\"><style>\n",
       "      table.tdhistory148199 { display: block !important; min-height: 588px !important; overflow: auto !important; height: 588px !important; width: 100% !important; border: 1px solid rgb(207, 207, 207) !important; border-collapse: collapse !important; ; color: var(--jp-ui-font-color1) !important; }\n",
       "      th.tdhistory148199 { border: 1px solid rgb(198,198,198) !important; border-collapse: collapse !important; ; padding: 2px 5px !important; ; font-size: 13px !important; ; text-align: center !important; white-space: normal !important; color: var(--jp-ui-font-color1) !important; }\n",
       "      th.tdhistory148199:last-child { text-align: left !important; }\n",
       "      tbody.tdhistory148199 tr:nth-child(even) { background: rgba(243, 243, 243, 0.75) !important; }\n",
       "      tbody.tdhistory148199 tr:nth-child(odd) { background: var(--jp-ui-inverse-font-color1) !important; }\n",
       "      td.tdhistory148199 { border: 1px solid rgb(207, 207, 207) !important; border-collapse: collapse !important; ; padding: 2px 5px !important; ; font-size: 13px !important; ; text-align: left !important;          white-space: nowrap !important; overflow:hidden !important; text-overflow:ellipsis !important;; }\n",
       "    </style><thead><tr style= \"background: rgba(243, 243, 243, 0.75)\"><th class=\"tdhistory148199\"></th><th class=\"tdhistory148199\">tot_age</th><th class=\"tdhistory148199\">female_ind</th><th class=\"tdhistory148199\">D_F</th><th class=\"tdhistory148199\">TTestPValue</th><th class=\"tdhistory148199\">T</th><th class=\"tdhistory148199\">TTestCallP_0.05</th></tr></thead><tbody class=\"tdhistory148199 resultset-body\"><tr><th class=\"tdhistory148199\" style= \"background: rgba(243, 243, 243, 0.75)\">1</th><td class=\"tdhistory148199\">85</td><td class=\"tdhistory148199\">1</td><td class=\"tdhistory148199\">18</td><td class=\"tdhistory148199\">0.4807706</td><td class=\"tdhistory148199\">-0.715463172636989</td><td class=\"tdhistory148199\">a</td></tr><tr><th class=\"tdhistory148199\" style= \"background: rgba(243, 243, 243, 0.75)\">2</th><td class=\"tdhistory148199\">93</td><td class=\"tdhistory148199\">0</td><td class=\"tdhistory148199\">3</td><td class=\"tdhistory148199\">0</td><td class=\"tdhistory148199\"></td><td class=\"tdhistory148199\"></td></tr><tr><th class=\"tdhistory148199\" style= \"background: rgba(243, 243, 243, 0.75)\">3</th><td class=\"tdhistory148199\">77</td><td class=\"tdhistory148199\">0</td><td class=\"tdhistory148199\">7</td><td class=\"tdhistory148199\">0.2252156</td><td class=\"tdhistory148199\">1.3272042858038389</td><td class=\"tdhistory148199\">a</td></tr><tr><th class=\"tdhistory148199\" style= \"background: rgba(243, 243, 243, 0.75)\">4</th><td class=\"tdhistory148199\">76</td><td class=\"tdhistory148199\">1</td><td class=\"tdhistory148199\">24</td><td class=\"tdhistory148199\">0.7818767</td><td class=\"tdhistory148199\">0.2757542705961492</td><td class=\"tdhistory148199\">a</td></tr><tr><th class=\"tdhistory148199\" style= \"background: rgba(243, 243, 243, 0.75)\">5</th><td class=\"tdhistory148199\">72</td><td class=\"tdhistory148199\">1</td><td class=\"tdhistory148199\">28</td><td class=\"tdhistory148199\">0.2042013</td><td class=\"tdhistory148199\">-1.2957723582343272</td><td class=\"tdhistory148199\">a</td></tr><tr><th class=\"tdhistory148199\" style= \"background: rgba(243, 243, 243, 0.75)\">6</th><td class=\"tdhistory148199\">93</td><td class=\"tdhistory148199\">1</td><td class=\"tdhistory148199\">7</td><td class=\"tdhistory148199\">0.0856193</td><td class=\"tdhistory148199\">2.00449476653439</td><td class=\"tdhistory148199\">a</td></tr><tr><th class=\"tdhistory148199\" style= \"background: rgba(243, 243, 243, 0.75)\">7</th><td class=\"tdhistory148199\">64</td><td class=\"tdhistory148199\">1</td><td class=\"tdhistory148199\">46</td><td class=\"tdhistory148199\">0.0063499</td><td class=\"tdhistory148199\">-2.8563487358795143</td><td class=\"tdhistory148199\">n</td></tr><tr><th class=\"tdhistory148199\" style= \"background: rgba(243, 243, 243, 0.75)\">8</th><td class=\"tdhistory148199\">50</td><td class=\"tdhistory148199\">1</td><td class=\"tdhistory148199\">107</td><td class=\"tdhistory148199\">0.0016447</td><td class=\"tdhistory148199\">-3.2344818472272943</td><td class=\"tdhistory148199\">n</td></tr><tr><th class=\"tdhistory148199\" style= \"background: rgba(243, 243, 243, 0.75)\">9</th><td class=\"tdhistory148199\">47</td><td class=\"tdhistory148199\">0</td><td class=\"tdhistory148199\">54</td><td class=\"tdhistory148199\">0.0053865</td><td class=\"tdhistory148199\">-2.9000459446649285</td><td class=\"tdhistory148199\">n</td></tr><tr><th class=\"tdhistory148199\" style= \"background: rgba(243, 243, 243, 0.75)\">10</th><td class=\"tdhistory148199\">89</td><td class=\"tdhistory148199\">1</td><td class=\"tdhistory148199\">15</td><td class=\"tdhistory148199\">0.0142988</td><td class=\"tdhistory148199\">2.7683360374460215</td><td class=\"tdhistory148199\">p</td></tr><tr><th class=\"tdhistory148199\" style= \"background: rgba(243, 243, 243, 0.75)\">11</th><td class=\"tdhistory148199\">72</td><td class=\"tdhistory148199\">0</td><td class=\"tdhistory148199\">20</td><td class=\"tdhistory148199\">0.9921204</td><td class=\"tdhistory148199\">-0.007635559294069897</td><td class=\"tdhistory148199\">a</td></tr><tr><th class=\"tdhistory148199\" style= \"background: rgba(243, 243, 243, 0.75)\">12</th><td class=\"tdhistory148199\">38</td><td class=\"tdhistory148199\">0</td><td class=\"tdhistory148199\">72</td><td class=\"tdhistory148199\">0.449736</td><td class=\"tdhistory148199\">-0.761833441763345</td><td class=\"tdhistory148199\">a</td></tr><tr><th class=\"tdhistory148199\" style= \"background: rgba(243, 243, 243, 0.75)\">13</th><td class=\"tdhistory148199\">48</td><td class=\"tdhistory148199\">0</td><td class=\"tdhistory148199\">72</td><td class=\"tdhistory148199\">0.0019244</td><td class=\"tdhistory148199\">-3.2229392296515877</td><td class=\"tdhistory148199\">n</td></tr><tr><th class=\"tdhistory148199\" style= \"background: rgba(243, 243, 243, 0.75)\">14</th><td class=\"tdhistory148199\">76</td><td class=\"tdhistory148199\">0</td><td class=\"tdhistory148199\">16</td><td class=\"tdhistory148199\">0.2834034</td><td class=\"tdhistory148199\">1.1137590628201983</td><td class=\"tdhistory148199\">a</td></tr><tr><th class=\"tdhistory148199\" style= \"background: rgba(243, 243, 243, 0.75)\">15</th><td class=\"tdhistory148199\">26</td><td class=\"tdhistory148199\">0</td><td class=\"tdhistory148199\">39</td><td class=\"tdhistory148199\">0.002657</td><td class=\"tdhistory148199\">-3.2075616900465023</td><td class=\"tdhistory148199\">n</td></tr><tr><th class=\"tdhistory148199\" style= \"background: rgba(243, 243, 243, 0.75)\">16</th><td class=\"tdhistory148199\">66</td><td class=\"tdhistory148199\">1</td><td class=\"tdhistory148199\">78</td><td class=\"tdhistory148199\">0.0004723</td><td class=\"tdhistory148199\">-3.646691108242651</td><td class=\"tdhistory148199\">n</td></tr><tr><th class=\"tdhistory148199\" style= \"background: rgba(243, 243, 243, 0.75)\">17</th><td class=\"tdhistory148199\">79</td><td class=\"tdhistory148199\">0</td><td class=\"tdhistory148199\">20</td><td class=\"tdhistory148199\">0.4798555</td><td class=\"tdhistory148199\">-0.721590349507282</td><td class=\"tdhistory148199\">a</td></tr><tr><th class=\"tdhistory148199\" style= \"background: rgba(243, 243, 243, 0.75)\">18</th><td class=\"tdhistory148199\">52</td><td class=\"tdhistory148199\">1</td><td class=\"tdhistory148199\">103</td><td class=\"tdhistory148199\">0.0657389</td><td class=\"tdhistory148199\">-1.8588907198839517</td><td class=\"tdhistory148199\">a</td></tr><tr><th class=\"tdhistory148199\" style= \"background: rgba(243, 243, 243, 0.75)\">19</th><td class=\"tdhistory148199\">73</td><td class=\"tdhistory148199\">0</td><td class=\"tdhistory148199\">28</td><td class=\"tdhistory148199\">0.3502408</td><td class=\"tdhistory148199\">0.9479074683140468</td><td class=\"tdhistory148199\">a</td></tr><tr><th class=\"tdhistory148199\" style= \"background: rgba(243, 243, 243, 0.75)\">20</th><td class=\"tdhistory148199\">42</td><td class=\"tdhistory148199\">1</td><td class=\"tdhistory148199\">117</td><td class=\"tdhistory148199\">0.00033</td><td class=\"tdhistory148199\">-3.701124936484421</td><td class=\"tdhistory148199\">n</td></tr><tr><th class=\"tdhistory148199\" style= \"background: rgba(243, 243, 243, 0.75)\">21</th><td class=\"tdhistory148199\">35</td><td class=\"tdhistory148199\">1</td><td class=\"tdhistory148199\">107</td><td class=\"tdhistory148199\">0.9047082</td><td class=\"tdhistory148199\">0.11921172925079089</td><td class=\"tdhistory148199\">a</td></tr><tr><th class=\"tdhistory148199\" style= \"background: rgba(243, 243, 243, 0.75)\">22</th><td class=\"tdhistory148199\">89</td><td class=\"tdhistory148199\">0</td><td class=\"tdhistory148199\">13</td><td class=\"tdhistory148199\">0.1763092</td><td class=\"tdhistory148199\">-1.4332867450865145</td><td class=\"tdhistory148199\">a</td></tr><tr><th class=\"tdhistory148199\" style= \"background: rgba(243, 243, 243, 0.75)\">23</th><td class=\"tdhistory148199\">33</td><td class=\"tdhistory148199\">0</td><td class=\"tdhistory148199\">79</td><td class=\"tdhistory148199\">0.0511857</td><td class=\"tdhistory148199\">-1.9785619285502432</td><td class=\"tdhistory148199\">a</td></tr><tr><th class=\"tdhistory148199\" style= \"background: rgba(243, 243, 243, 0.75)\">24</th><td class=\"tdhistory148199\">88</td><td class=\"tdhistory148199\">0</td><td class=\"tdhistory148199\">16</td><td class=\"tdhistory148199\">0.015772</td><td class=\"tdhistory148199\">-2.704698849315726</td><td class=\"tdhistory148199\">n</td></tr><tr><th class=\"tdhistory148199\" style= \"background: rgba(243, 243, 243, 0.75)\">25</th><td class=\"tdhistory148199\">39</td><td class=\"tdhistory148199\">1</td><td class=\"tdhistory148199\">94</td><td class=\"tdhistory148199\">0.0037795</td><td class=\"tdhistory148199\">-2.9667186633594596</td><td class=\"tdhistory148199\">n</td></tr><tr><th class=\"tdhistory148199\" style= \"background: rgba(243, 243, 243, 0.75)\">26</th><td class=\"tdhistory148199\">43</td><td class=\"tdhistory148199\">1</td><td class=\"tdhistory148199\">105</td><td class=\"tdhistory148199\">0.0020615</td><td class=\"tdhistory148199\">-3.1592821796103485</td><td class=\"tdhistory148199\">n</td></tr><tr><th class=\"tdhistory148199\" style= \"background: rgba(243, 243, 243, 0.75)\">27</th><td class=\"tdhistory148199\">14</td><td class=\"tdhistory148199\">1</td><td class=\"tdhistory148199\">51</td><td class=\"tdhistory148199\">0.0005456</td><td class=\"tdhistory148199\">3.693188262912191</td><td class=\"tdhistory148199\">p</td></tr><tr><th class=\"tdhistory148199\" style= \"background: rgba(243, 243, 243, 0.75)\">28</th><td class=\"tdhistory148199\">46</td><td class=\"tdhistory148199\">1</td><td class=\"tdhistory148199\">113</td><td class=\"tdhistory148199\">0.0011735</td><td class=\"tdhistory148199\">-3.3276825944952346</td><td class=\"tdhistory148199\">n</td></tr><tr><th class=\"tdhistory148199\" style= \"background: rgba(243, 243, 243, 0.75)\">29</th><td class=\"tdhistory148199\">39</td><td class=\"tdhistory148199\">0</td><td class=\"tdhistory148199\">73</td><td class=\"tdhistory148199\">0.0915134</td><td class=\"tdhistory148199\">-1.7050522939133508</td><td class=\"tdhistory148199\">a</td></tr><tr><th class=\"tdhistory148199\" style= \"background: rgba(243, 243, 243, 0.75)\">30</th><td class=\"tdhistory148199\">23</td><td class=\"tdhistory148199\">0</td><td class=\"tdhistory148199\">69</td><td class=\"tdhistory148199\">0.0116994</td><td class=\"tdhistory148199\">-2.590484787457626</td><td class=\"tdhistory148199\">n</td></tr><tr><th class=\"tdhistory148199\" style= \"background: rgba(243, 243, 243, 0.75)\">31</th><td class=\"tdhistory148199\">44</td><td class=\"tdhistory148199\">1</td><td class=\"tdhistory148199\">90</td><td class=\"tdhistory148199\">0.0003708</td><td class=\"tdhistory148199\">-3.7033331405109133</td><td class=\"tdhistory148199\">n</td></tr><tr><th class=\"tdhistory148199\" style= \"background: rgba(243, 243, 243, 0.75)\">32</th><td class=\"tdhistory148199\">31</td><td class=\"tdhistory148199\">1</td><td class=\"tdhistory148199\">88</td><td class=\"tdhistory148199\">0.6183231</td><td class=\"tdhistory148199\">-0.5021525435049807</td><td class=\"tdhistory148199\">a</td></tr><tr><th class=\"tdhistory148199\" style= \"background: rgba(243, 243, 243, 0.75)\">33</th><td class=\"tdhistory148199\">75</td><td class=\"tdhistory148199\">1</td><td class=\"tdhistory148199\">33</td><td class=\"tdhistory148199\">0.1959187</td><td class=\"tdhistory148199\">1.315635133067727</td><td class=\"tdhistory148199\">a</td></tr><tr><th class=\"tdhistory148199\" style= \"background: rgba(243, 243, 243, 0.75)\">34</th><td class=\"tdhistory148199\">80</td><td class=\"tdhistory148199\">0</td><td class=\"tdhistory148199\">21</td><td class=\"tdhistory148199\">0.415875</td><td class=\"tdhistory148199\">0.8330076821034003</td><td class=\"tdhistory148199\">a</td></tr><tr><th class=\"tdhistory148199\" style= \"background: rgba(243, 243, 243, 0.75)\">35</th><td class=\"tdhistory148199\">65</td><td class=\"tdhistory148199\">1</td><td class=\"tdhistory148199\">72</td><td class=\"tdhistory148199\">0.0365898</td><td class=\"tdhistory148199\">-2.13109044369817</td><td class=\"tdhistory148199\">n</td></tr><tr><th class=\"tdhistory148199\" style= \"background: rgba(243, 243, 243, 0.75)\">36</th><td class=\"tdhistory148199\">31</td><td class=\"tdhistory148199\">0</td><td class=\"tdhistory148199\">71</td><td class=\"tdhistory148199\">0.0107457</td><td class=\"tdhistory148199\">-2.6194798084884576</td><td class=\"tdhistory148199\">n</td></tr><tr><th class=\"tdhistory148199\" style= \"background: rgba(243, 243, 243, 0.75)\">37</th><td class=\"tdhistory148199\">15</td><td class=\"tdhistory148199\">0</td><td class=\"tdhistory148199\">86</td><td class=\"tdhistory148199\">0.0002188</td><td class=\"tdhistory148199\">3.864249582931809</td><td class=\"tdhistory148199\">p</td></tr><tr><th class=\"tdhistory148199\" style= \"background: rgba(243, 243, 243, 0.75)\">38</th><td class=\"tdhistory148199\">33</td><td class=\"tdhistory148199\">1</td><td class=\"tdhistory148199\">93</td><td class=\"tdhistory148199\">0.0402766</td><td class=\"tdhistory148199\">-2.078263092455552</td><td class=\"tdhistory148199\">n</td></tr><tr><th class=\"tdhistory148199\" style= \"background: rgba(243, 243, 243, 0.75)\">39</th><td class=\"tdhistory148199\">27</td><td class=\"tdhistory148199\">1</td><td class=\"tdhistory148199\">69</td><td class=\"tdhistory148199\">0.0431725</td><td class=\"tdhistory148199\">-2.056515593385942</td><td class=\"tdhistory148199\">n</td></tr><tr><th class=\"tdhistory148199\" style= \"background: rgba(243, 243, 243, 0.75)\">40</th><td class=\"tdhistory148199\">90</td><td class=\"tdhistory148199\">1</td><td class=\"tdhistory148199\">9</td><td class=\"tdhistory148199\">0.1555528</td><td class=\"tdhistory148199\">1.545231261242011</td><td class=\"tdhistory148199\">a</td></tr><tr><th class=\"tdhistory148199\" style= \"background: rgba(243, 243, 243, 0.75)\">41</th><td class=\"tdhistory148199\">45</td><td class=\"tdhistory148199\">0</td><td class=\"tdhistory148199\">68</td><td class=\"tdhistory148199\">0.0001292</td><td class=\"tdhistory148199\">-4.059830394523732</td><td class=\"tdhistory148199\">n</td></tr><tr><th class=\"tdhistory148199\" style= \"background: rgba(243, 243, 243, 0.75)\">42</th><td class=\"tdhistory148199\">9</td><td class=\"tdhistory148199\">0</td><td class=\"tdhistory148199\">6</td><td class=\"tdhistory148199\">0.0663471</td><td class=\"tdhistory148199\">2.240383083370425</td><td class=\"tdhistory148199\">a</td></tr><tr><th class=\"tdhistory148199\" style= \"background: rgba(243, 243, 243, 0.75)\">43</th><td class=\"tdhistory148199\">94</td><td class=\"tdhistory148199\">1</td><td class=\"tdhistory148199\">7</td><td class=\"tdhistory148199\">0.1132148</td><td class=\"tdhistory148199\">1.8135209270199906</td><td class=\"tdhistory148199\">a</td></tr><tr><th class=\"tdhistory148199\" style= \"background: rgba(243, 243, 243, 0.75)\">44</th><td class=\"tdhistory148199\">77</td><td class=\"tdhistory148199\">1</td><td class=\"tdhistory148199\">40</td><td class=\"tdhistory148199\">0.0221685</td><td class=\"tdhistory148199\">-2.384227212864992</td><td class=\"tdhistory148199\">n</td></tr><tr><th class=\"tdhistory148199\" style= \"background: rgba(243, 243, 243, 0.75)\">45</th><td class=\"tdhistory148199\">10</td><td class=\"tdhistory148199\">1</td><td class=\"tdhistory148199\">5</td><td class=\"tdhistory148199\">0.1100709</td><td class=\"tdhistory148199\">1.9429580983579042</td><td class=\"tdhistory148199\">a</td></tr><tr><th class=\"tdhistory148199\" style= \"background: rgba(243, 243, 243, 0.75)\">46</th><td class=\"tdhistory148199\">45</td><td class=\"tdhistory148199\">1</td><td class=\"tdhistory148199\">104</td><td class=\"tdhistory148199\">0.0438849</td><td class=\"tdhistory148199\">-2.0436408668962054</td><td class=\"tdhistory148199\">n</td></tr><tr><th class=\"tdhistory148199\" style= \"background: rgba(243, 243, 243, 0.75)\">47</th><td class=\"tdhistory148199\">49</td><td class=\"tdhistory148199\">1</td><td class=\"tdhistory148199\">95</td><td class=\"tdhistory148199\">0.0001084</td><td class=\"tdhistory148199\">-4.035018616442392</td><td class=\"tdhistory148199\">n</td></tr><tr><th class=\"tdhistory148199\" style= \"background: rgba(243, 243, 243, 0.75)\">48</th><td class=\"tdhistory148199\">91</td><td class=\"tdhistory148199\">0</td><td class=\"tdhistory148199\">4</td><td class=\"tdhistory148199\">0.2206629</td><td class=\"tdhistory148199\">-1.4534208494891652</td><td class=\"tdhistory148199\">a</td></tr><tr><th class=\"tdhistory148199\" style= \"background: rgba(243, 243, 243, 0.75)\">49</th><td class=\"tdhistory148199\">61</td><td class=\"tdhistory148199\">1</td><td class=\"tdhistory148199\">86</td><td class=\"tdhistory148199\">0.0250818</td><td class=\"tdhistory148199\">2.2760531913263917</td><td class=\"tdhistory148199\">p</td></tr><tr><th class=\"tdhistory148199\" style= \"background: rgba(243, 243, 243, 0.75)\">50</th><td class=\"tdhistory148199\">75</td><td class=\"tdhistory148199\">0</td><td class=\"tdhistory148199\">27</td><td class=\"tdhistory148199\">0.1025436</td><td class=\"tdhistory148199\">1.6862479715409269</td><td class=\"tdhistory148199\">a</td></tr><tr><th class=\"tdhistory148199\" style= \"background: rgba(243, 243, 243, 0.75)\">51</th><td class=\"tdhistory148199\">57</td><td class=\"tdhistory148199\">1</td><td class=\"tdhistory148199\">94</td><td class=\"tdhistory148199\">0.9443424</td><td class=\"tdhistory148199\">0.06664211026909829</td><td class=\"tdhistory148199\">a</td></tr><tr><th class=\"tdhistory148199\" style= \"background: rgba(243, 243, 243, 0.75)\">52</th><td class=\"tdhistory148199\">34</td><td class=\"tdhistory148199\">1</td><td class=\"tdhistory148199\">97</td><td class=\"tdhistory148199\">0.05169</td><td class=\"tdhistory148199\">-1.9688466748543199</td><td class=\"tdhistory148199\">a</td></tr><tr><th class=\"tdhistory148199\" style= \"background: rgba(243, 243, 243, 0.75)\">53</th><td class=\"tdhistory148199\">71</td><td class=\"tdhistory148199\">0</td><td class=\"tdhistory148199\">40</td><td class=\"tdhistory148199\">0.7961975</td><td class=\"tdhistory148199\">-0.2641566410222367</td><td class=\"tdhistory148199\">a</td></tr><tr><th class=\"tdhistory148199\" style= \"background: rgba(243, 243, 243, 0.75)\">54</th><td class=\"tdhistory148199\">63</td><td class=\"tdhistory148199\">0</td><td class=\"tdhistory148199\">52</td><td class=\"tdhistory148199\">0.0004896</td><td class=\"tdhistory148199\">-3.7172265649750513</td><td class=\"tdhistory148199\">n</td></tr><tr><th class=\"tdhistory148199\" style= \"background: rgba(243, 243, 243, 0.75)\">55</th><td class=\"tdhistory148199\">74</td><td class=\"tdhistory148199\">1</td><td class=\"tdhistory148199\">39</td><td class=\"tdhistory148199\">0.0004152</td><td class=\"tdhistory148199\">-3.8626003069347283</td><td class=\"tdhistory148199\">n</td></tr><tr><th class=\"tdhistory148199\" style= \"background: rgba(243, 243, 243, 0.75)\">56</th><td class=\"tdhistory148199\">37</td><td class=\"tdhistory148199\">0</td><td class=\"tdhistory148199\">89</td><td class=\"tdhistory148199\">0.5768863</td><td class=\"tdhistory148199\">0.5599533860689607</td><td class=\"tdhistory148199\">a</td></tr><tr><th class=\"tdhistory148199\" style= \"background: rgba(243, 243, 243, 0.75)\">57</th><td class=\"tdhistory148199\">58</td><td class=\"tdhistory148199\">1</td><td class=\"tdhistory148199\">98</td><td class=\"tdhistory148199\">0.4981077</td><td class=\"tdhistory148199\">-0.6796772283369474</td><td class=\"tdhistory148199\">a</td></tr><tr><th class=\"tdhistory148199\" style= \"background: rgba(243, 243, 243, 0.75)\">58</th><td class=\"tdhistory148199\">54</td><td class=\"tdhistory148199\">1</td><td class=\"tdhistory148199\">119</td><td class=\"tdhistory148199\">0.0477776</td><td class=\"tdhistory148199\">-2.0041899107427836</td><td class=\"tdhistory148199\">n</td></tr><tr><th class=\"tdhistory148199\" style= \"background: rgba(243, 243, 243, 0.75)\">59</th><td class=\"tdhistory148199\">54</td><td class=\"tdhistory148199\">0</td><td class=\"tdhistory148199\">50</td><td class=\"tdhistory148199\">0.008058</td><td class=\"tdhistory148199\">-2.7643781497302564</td><td class=\"tdhistory148199\">n</td></tr><tr><th class=\"tdhistory148199\" style= \"background: rgba(243, 243, 243, 0.75)\">60</th><td class=\"tdhistory148199\">30</td><td class=\"tdhistory148199\">1</td><td class=\"tdhistory148199\">85</td><td class=\"tdhistory148199\">0.5974937</td><td class=\"tdhistory148199\">-0.53344455607459</td><td class=\"tdhistory148199\">a</td></tr><tr><th class=\"tdhistory148199\" style= \"background: rgba(243, 243, 243, 0.75)\">61</th><td class=\"tdhistory148199\">29</td><td class=\"tdhistory148199\">1</td><td class=\"tdhistory148199\">65</td><td class=\"tdhistory148199\">0.7803667</td><td class=\"tdhistory148199\">-0.27816462545128795</td><td class=\"tdhistory148199\">a</td></tr><tr><th class=\"tdhistory148199\" style= \"background: rgba(243, 243, 243, 0.75)\">62</th><td class=\"tdhistory148199\">62</td><td class=\"tdhistory148199\">0</td><td class=\"tdhistory148199\">79</td><td class=\"tdhistory148199\">0.0680527</td><td class=\"tdhistory148199\">-1.8458946020700597</td><td class=\"tdhistory148199\">a</td></tr><tr><th class=\"tdhistory148199\" style= \"background: rgba(243, 243, 243, 0.75)\">63</th><td class=\"tdhistory148199\">26</td><td class=\"tdhistory148199\">1</td><td class=\"tdhistory148199\">53</td><td class=\"tdhistory148199\">0.3170842</td><td class=\"tdhistory148199\">-1.0140118328532206</td><td class=\"tdhistory148199\">a</td></tr><tr><th class=\"tdhistory148199\" style= \"background: rgba(243, 243, 243, 0.75)\">64</th><td class=\"tdhistory148199\">57</td><td class=\"tdhistory148199\">0</td><td class=\"tdhistory148199\">106</td><td class=\"tdhistory148199\">0.0109467</td><td class=\"tdhistory148199\">-2.5913883798643633</td><td class=\"tdhistory148199\">n</td></tr><tr><th class=\"tdhistory148199\" style= \"background: rgba(243, 243, 243, 0.75)\">65</th><td class=\"tdhistory148199\">36</td><td class=\"tdhistory148199\">0</td><td class=\"tdhistory148199\">94</td><td class=\"tdhistory148199\">0.3599277</td><td class=\"tdhistory148199\">0.9189635642254149</td><td class=\"tdhistory148199\">a</td></tr><tr><th class=\"tdhistory148199\" style= \"background: rgba(243, 243, 243, 0.75)\">66</th><td class=\"tdhistory148199\">48</td><td class=\"tdhistory148199\">1</td><td class=\"tdhistory148199\">92</td><td class=\"tdhistory148199\">0.0008762</td><td class=\"tdhistory148199\">-3.4370876087795286</td><td class=\"tdhistory148199\">n</td></tr><tr><th class=\"tdhistory148199\" style= \"background: rgba(243, 243, 243, 0.75)\">67</th><td class=\"tdhistory148199\">24</td><td class=\"tdhistory148199\">0</td><td class=\"tdhistory148199\">64</td><td class=\"tdhistory148199\">0.654231</td><td class=\"tdhistory148199\">0.44944213802776795</td><td class=\"tdhistory148199\">a</td></tr><tr><th class=\"tdhistory148199\" style= \"background: rgba(243, 243, 243, 0.75)\">68</th><td class=\"tdhistory148199\">50</td><td class=\"tdhistory148199\">0</td><td class=\"tdhistory148199\">49</td><td class=\"tdhistory148199\">0.0006558</td><td class=\"tdhistory148199\">-3.6409383276073912</td><td class=\"tdhistory148199\">n</td></tr><tr><th class=\"tdhistory148199\" style= \"background: rgba(243, 243, 243, 0.75)\">69</th><td class=\"tdhistory148199\">17</td><td class=\"tdhistory148199\">0</td><td class=\"tdhistory148199\">85</td><td class=\"tdhistory148199\">0.0125657</td><td class=\"tdhistory148199\">2.5468209355925406</td><td class=\"tdhistory148199\">p</td></tr><tr><th class=\"tdhistory148199\" style= \"background: rgba(243, 243, 243, 0.75)\">70</th><td class=\"tdhistory148199\">36</td><td class=\"tdhistory148199\">1</td><td class=\"tdhistory148199\">100</td><td class=\"tdhistory148199\">0.0025139</td><td class=\"tdhistory148199\">-3.1010102951441594</td><td class=\"tdhistory148199\">n</td></tr><tr><th class=\"tdhistory148199\" style= \"background: rgba(243, 243, 243, 0.75)\">71</th><td class=\"tdhistory148199\">56</td><td class=\"tdhistory148199\">1</td><td class=\"tdhistory148199\">100</td><td class=\"tdhistory148199\">0.4732045</td><td class=\"tdhistory148199\">0.7175552279050323</td><td class=\"tdhistory148199\">a</td></tr><tr><th class=\"tdhistory148199\" style= \"background: rgba(243, 243, 243, 0.75)\">72</th><td class=\"tdhistory148199\">91</td><td class=\"tdhistory148199\">1</td><td class=\"tdhistory148199\">5</td><td class=\"tdhistory148199\">0.1939037</td><td class=\"tdhistory148199\">1.498396239698223</td><td class=\"tdhistory148199\">a</td></tr><tr><th class=\"tdhistory148199\" style= \"background: rgba(243, 243, 243, 0.75)\">73</th><td class=\"tdhistory148199\">90</td><td class=\"tdhistory148199\">0</td><td class=\"tdhistory148199\">6</td><td class=\"tdhistory148199\">0.3559177</td><td class=\"tdhistory148199\">-0.9999999999999999</td><td class=\"tdhistory148199\">a</td></tr><tr><th class=\"tdhistory148199\" style= \"background: rgba(243, 243, 243, 0.75)\">74</th><td class=\"tdhistory148199\">67</td><td class=\"tdhistory148199\">0</td><td class=\"tdhistory148199\">46</td><td class=\"tdhistory148199\">0.0328687</td><td class=\"tdhistory148199\">-2.198412250198925</td><td class=\"tdhistory148199\">n</td></tr><tr><th class=\"tdhistory148199\" style= \"background: rgba(243, 243, 243, 0.75)\">75</th><td class=\"tdhistory148199\">9</td><td class=\"tdhistory148199\">1</td><td class=\"tdhistory148199\">7</td><td class=\"tdhistory148199\">0.0011862</td><td class=\"tdhistory148199\">5.246179206391677</td><td class=\"tdhistory148199\">p</td></tr><tr><th class=\"tdhistory148199\" style= \"background: rgba(243, 243, 243, 0.75)\">76</th><td class=\"tdhistory148199\">86</td><td class=\"tdhistory148199\">0</td><td class=\"tdhistory148199\">15</td><td class=\"tdhistory148199\">0.0164588</td><td class=\"tdhistory148199\">-2.6984705704142558</td><td class=\"tdhistory148199\">n</td></tr><tr><th class=\"tdhistory148199\" style= \"background: rgba(243, 243, 243, 0.75)\">77</th><td class=\"tdhistory148199\">53</td><td class=\"tdhistory148199\">0</td><td class=\"tdhistory148199\">79</td><td class=\"tdhistory148199\">0.0045597</td><td class=\"tdhistory148199\">-2.924707199729371</td><td class=\"tdhistory148199\">n</td></tr><tr><th class=\"tdhistory148199\" style= \"background: rgba(243, 243, 243, 0.75)\">78</th><td class=\"tdhistory148199\">92</td><td class=\"tdhistory148199\">0</td><td class=\"tdhistory148199\">3</td><td class=\"tdhistory148199\">0.0260825</td><td class=\"tdhistory148199\">-4.1093444064195035</td><td class=\"tdhistory148199\">n</td></tr><tr><th class=\"tdhistory148199\" style= \"background: rgba(243, 243, 243, 0.75)\">79</th><td class=\"tdhistory148199\">40</td><td class=\"tdhistory148199\">0</td><td class=\"tdhistory148199\">93</td><td class=\"tdhistory148199\">0.0102693</td><td class=\"tdhistory148199\">-2.6213267496702675</td><td class=\"tdhistory148199\">n</td></tr><tr><th class=\"tdhistory148199\" style= \"background: rgba(243, 243, 243, 0.75)\">80</th><td class=\"tdhistory148199\">14</td><td class=\"tdhistory148199\">0</td><td class=\"tdhistory148199\">57</td><td class=\"tdhistory148199\">0.0112496</td><td class=\"tdhistory148199\">2.6246422071530566</td><td class=\"tdhistory148199\">p</td></tr><tr><th class=\"tdhistory148199\" style= \"background: rgba(243, 243, 243, 0.75)\">81</th><td class=\"tdhistory148199\">71</td><td class=\"tdhistory148199\">1</td><td class=\"tdhistory148199\">62</td><td class=\"tdhistory148199\">0.0001833</td><td class=\"tdhistory148199\">-3.9795200511271416</td><td class=\"tdhistory148199\">n</td></tr><tr><th class=\"tdhistory148199\" style= \"background: rgba(243, 243, 243, 0.75)\">82</th><td class=\"tdhistory148199\">62</td><td class=\"tdhistory148199\">1</td><td class=\"tdhistory148199\">70</td><td class=\"tdhistory148199\">0.0745882</td><td class=\"tdhistory148199\">-1.813453870336688</td><td class=\"tdhistory148199\">a</td></tr><tr><th class=\"tdhistory148199\" style= \"background: rgba(243, 243, 243, 0.75)\">83</th><td class=\"tdhistory148199\">18</td><td class=\"tdhistory148199\">0</td><td class=\"tdhistory148199\">113</td><td class=\"tdhistory148199\">0.1101879</td><td class=\"tdhistory148199\">1.60879009923987</td><td class=\"tdhistory148199\">a</td></tr><tr><th class=\"tdhistory148199\" style= \"background: rgba(243, 243, 243, 0.75)\">84</th><td class=\"tdhistory148199\">32</td><td class=\"tdhistory148199\">1</td><td class=\"tdhistory148199\">90</td><td class=\"tdhistory148199\">0.24509</td><td class=\"tdhistory148199\">-1.1709752915228597</td><td class=\"tdhistory148199\">a</td></tr><tr><th class=\"tdhistory148199\" style= \"background: rgba(243, 243, 243, 0.75)\">85</th><td class=\"tdhistory148199\">58</td><td class=\"tdhistory148199\">0</td><td class=\"tdhistory148199\">93</td><td class=\"tdhistory148199\">0.0541878</td><td class=\"tdhistory148199\">-1.9456766189714712</td><td class=\"tdhistory148199\">a</td></tr><tr><th class=\"tdhistory148199\" style= \"background: rgba(243, 243, 243, 0.75)\">86</th><td class=\"tdhistory148199\">83</td><td class=\"tdhistory148199\">1</td><td class=\"tdhistory148199\">19</td><td class=\"tdhistory148199\">0.1217113</td><td class=\"tdhistory148199\">-1.617495320068267</td><td class=\"tdhistory148199\">a</td></tr><tr><th class=\"tdhistory148199\" style= \"background: rgba(243, 243, 243, 0.75)\">87</th><td class=\"tdhistory148199\">68</td><td class=\"tdhistory148199\">0</td><td class=\"tdhistory148199\">41</td><td class=\"tdhistory148199\">0.0075597</td><td class=\"tdhistory148199\">-2.8132333558681175</td><td class=\"tdhistory148199\">n</td></tr><tr><th class=\"tdhistory148199\" style= \"background: rgba(243, 243, 243, 0.75)\">88</th><td class=\"tdhistory148199\">25</td><td class=\"tdhistory148199\">1</td><td class=\"tdhistory148199\">41</td><td class=\"tdhistory148199\">0.0948247</td><td class=\"tdhistory148199\">-1.7115806209715698</td><td class=\"tdhistory148199\">a</td></tr><tr><th class=\"tdhistory148199\" style= \"background: rgba(243, 243, 243, 0.75)\">89</th><td class=\"tdhistory148199\">61</td><td class=\"tdhistory148199\">0</td><td class=\"tdhistory148199\">54</td><td class=\"tdhistory148199\">0.1420424</td><td class=\"tdhistory148199\">-1.4880552669395877</td><td class=\"tdhistory148199\">a</td></tr><tr><th class=\"tdhistory148199\" style= \"background: rgba(243, 243, 243, 0.75)\">90</th><td class=\"tdhistory148199\">64</td><td class=\"tdhistory148199\">0</td><td class=\"tdhistory148199\">58</td><td class=\"tdhistory148199\">0.0182145</td><td class=\"tdhistory148199\">-2.426959140037223</td><td class=\"tdhistory148199\">n</td></tr><tr><th class=\"tdhistory148199\" style= \"background: rgba(243, 243, 243, 0.75)\">91</th><td class=\"tdhistory148199\">13</td><td class=\"tdhistory148199\">0</td><td class=\"tdhistory148199\">27</td><td class=\"tdhistory148199\">0.0156412</td><td class=\"tdhistory148199\">2.5810498299970597</td><td class=\"tdhistory148199\">p</td></tr><tr><th class=\"tdhistory148199\" style= \"background: rgba(243, 243, 243, 0.75)\">92</th><td class=\"tdhistory148199\">78</td><td class=\"tdhistory148199\">0</td><td class=\"tdhistory148199\">22</td><td class=\"tdhistory148199\">0.1696243</td><td class=\"tdhistory148199\">1.4246952271401183</td><td class=\"tdhistory148199\">a</td></tr><tr><th class=\"tdhistory148199\" style= \"background: rgba(243, 243, 243, 0.75)\">93</th><td class=\"tdhistory148199\">73</td><td class=\"tdhistory148199\">1</td><td class=\"tdhistory148199\">33</td><td class=\"tdhistory148199\">0.0086889</td><td class=\"tdhistory148199\">-2.7896935842911224</td><td class=\"tdhistory148199\">n</td></tr><tr><th class=\"tdhistory148199\" style= \"background: rgba(243, 243, 243, 0.75)\">94</th><td class=\"tdhistory148199\">69</td><td class=\"tdhistory148199\">0</td><td class=\"tdhistory148199\">62</td><td class=\"tdhistory148199\">0.7727839</td><td class=\"tdhistory148199\">0.28651538577973673</td><td class=\"tdhistory148199\">a</td></tr><tr><th class=\"tdhistory148199\" style= \"background: rgba(243, 243, 243, 0.75)\">95</th><td class=\"tdhistory148199\">12</td><td class=\"tdhistory148199\">0</td><td class=\"tdhistory148199\">8</td><td class=\"tdhistory148199\">0.2833584</td><td class=\"tdhistory148199\">-1.1492921641212326</td><td class=\"tdhistory148199\">a</td></tr><tr><th class=\"tdhistory148199\" style= \"background: rgba(243, 243, 243, 0.75)\">96</th><td class=\"tdhistory148199\">29</td><td class=\"tdhistory148199\">0</td><td class=\"tdhistory148199\">51</td><td class=\"tdhistory148199\">0.462693</td><td class=\"tdhistory148199\">-0.7355089630973274</td><td class=\"tdhistory148199\">a</td></tr><tr><th class=\"tdhistory148199\" style= \"background: rgba(243, 243, 243, 0.75)\">97</th><td class=\"tdhistory148199\">25</td><td class=\"tdhistory148199\">0</td><td class=\"tdhistory148199\">32</td><td class=\"tdhistory148199\">0.3854205</td><td class=\"tdhistory148199\">-0.8799985807528692</td><td class=\"tdhistory148199\">a</td></tr><tr><th class=\"tdhistory148199\" style= \"background: rgba(243, 243, 243, 0.75)\">98</th><td class=\"tdhistory148199\">65</td><td class=\"tdhistory148199\">0</td><td class=\"tdhistory148199\">56</td><td class=\"tdhistory148199\">0.0667144</td><td class=\"tdhistory148199\">-1.8708006366703864</td><td class=\"tdhistory148199\">a</td></tr><tr><th class=\"tdhistory148199\" style= \"background: rgba(243, 243, 243, 0.75)\">99</th><td class=\"tdhistory148199\">34</td><td class=\"tdhistory148199\">0</td><td class=\"tdhistory148199\">76</td><td class=\"tdhistory148199\">0.4204692</td><td class=\"tdhistory148199\">0.811250825489578</td><td class=\"tdhistory148199\">a</td></tr><tr><th class=\"tdhistory148199\" style= \"background: rgba(243, 243, 243, 0.75)\">100</th><td class=\"tdhistory148199\">87</td><td class=\"tdhistory148199\">0</td><td class=\"tdhistory148199\">21</td><td class=\"tdhistory148199\">0.1384942</td><td class=\"tdhistory148199\">-1.5419105988818673</td><td class=\"tdhistory148199\">a</td></tr><tr><th class=\"tdhistory148199\" style= \"background: rgba(243, 243, 243, 0.75)\">101</th><td class=\"tdhistory148199\">70</td><td class=\"tdhistory148199\">0</td><td class=\"tdhistory148199\">45</td><td class=\"tdhistory148199\">0.5189969</td><td class=\"tdhistory148199\">-0.6513020306745494</td><td class=\"tdhistory148199\">a</td></tr><tr><th class=\"tdhistory148199\" style= \"background: rgba(243, 243, 243, 0.75)\">102</th><td class=\"tdhistory148199\">79</td><td class=\"tdhistory148199\">1</td><td class=\"tdhistory148199\">34</td><td class=\"tdhistory148199\">0.1144719</td><td class=\"tdhistory148199\">-1.6237812480962597</td><td class=\"tdhistory148199\">a</td></tr><tr><th class=\"tdhistory148199\" style= \"background: rgba(243, 243, 243, 0.75)\">103</th><td class=\"tdhistory148199\">19</td><td class=\"tdhistory148199\">0</td><td class=\"tdhistory148199\">113</td><td class=\"tdhistory148199\">0.0626833</td><td class=\"tdhistory148199\">1.8819296530525789</td><td class=\"tdhistory148199\">a</td></tr><tr><th class=\"tdhistory148199\" style= \"background: rgba(243, 243, 243, 0.75)\">104</th><td class=\"tdhistory148199\">10</td><td class=\"tdhistory148199\">0</td><td class=\"tdhistory148199\">8</td><td class=\"tdhistory148199\">0.0363709</td><td class=\"tdhistory148199\">2.5117824050061412</td><td class=\"tdhistory148199\">p</td></tr><tr><th class=\"tdhistory148199\" style= \"background: rgba(243, 243, 243, 0.75)\">105</th><td class=\"tdhistory148199\">84</td><td class=\"tdhistory148199\">0</td><td class=\"tdhistory148199\">31</td><td class=\"tdhistory148199\">0.0006176</td><td class=\"tdhistory148199\">-3.8114042051957284</td><td class=\"tdhistory148199\">n</td></tr><tr><th class=\"tdhistory148199\" style= \"background: rgba(243, 243, 243, 0.75)\">106</th><td class=\"tdhistory148199\">69</td><td class=\"tdhistory148199\">1</td><td class=\"tdhistory148199\">47</td><td class=\"tdhistory148199\">0.0009419</td><td class=\"tdhistory148199\">-3.5274152408618327</td><td class=\"tdhistory148199\">n</td></tr><tr><th class=\"tdhistory148199\" style= \"background: rgba(243, 243, 243, 0.75)\">107</th><td class=\"tdhistory148199\">16</td><td class=\"tdhistory148199\">1</td><td class=\"tdhistory148199\">107</td><td class=\"tdhistory148199\">0</td><td class=\"tdhistory148199\">4.639713849368195</td><td class=\"tdhistory148199\">p</td></tr><tr><th class=\"tdhistory148199\" style= \"background: rgba(243, 243, 243, 0.75)\">108</th><td class=\"tdhistory148199\">28</td><td class=\"tdhistory148199\">0</td><td class=\"tdhistory148199\">43</td><td class=\"tdhistory148199\">0.01982</td><td class=\"tdhistory148199\">-2.4238092425595226</td><td class=\"tdhistory148199\">n</td></tr><tr><th class=\"tdhistory148199\" style= \"background: rgba(243, 243, 243, 0.75)\">109</th><td class=\"tdhistory148199\">66</td><td class=\"tdhistory148199\">0</td><td class=\"tdhistory148199\">46</td><td class=\"tdhistory148199\">0.0032988</td><td class=\"tdhistory148199\">-3.095957668340024</td><td class=\"tdhistory148199\">n</td></tr><tr><th class=\"tdhistory148199\" style= \"background: rgba(243, 243, 243, 0.75)\">110</th><td class=\"tdhistory148199\">22</td><td class=\"tdhistory148199\">0</td><td class=\"tdhistory148199\">57</td><td class=\"tdhistory148199\">0.7127537</td><td class=\"tdhistory148199\">-0.3715522619884085</td><td class=\"tdhistory148199\">a</td></tr><tr><th class=\"tdhistory148199\" style= \"background: rgba(243, 243, 243, 0.75)\">111</th><td class=\"tdhistory148199\">23</td><td class=\"tdhistory148199\">1</td><td class=\"tdhistory148199\">72</td><td class=\"tdhistory148199\">0</td><td class=\"tdhistory148199\">-4.807836962330954</td><td class=\"tdhistory148199\">n</td></tr><tr><th class=\"tdhistory148199\" style= \"background: rgba(243, 243, 243, 0.75)\">112</th><td class=\"tdhistory148199\">56</td><td class=\"tdhistory148199\">0</td><td class=\"tdhistory148199\">79</td><td class=\"tdhistory148199\">0.1135904</td><td class=\"tdhistory148199\">-1.6016397040542534</td><td class=\"tdhistory148199\">a</td></tr><tr><th class=\"tdhistory148199\" style= \"background: rgba(243, 243, 243, 0.75)\">113</th><td class=\"tdhistory148199\">80</td><td class=\"tdhistory148199\">1</td><td class=\"tdhistory148199\">27</td><td class=\"tdhistory148199\">0.0461684</td><td class=\"tdhistory148199\">-2.091977548190066</td><td class=\"tdhistory148199\">n</td></tr><tr><th class=\"tdhistory148199\" style= \"background: rgba(243, 243, 243, 0.75)\">114</th><td class=\"tdhistory148199\">78</td><td class=\"tdhistory148199\">1</td><td class=\"tdhistory148199\">29</td><td class=\"tdhistory148199\">0.0049756</td><td class=\"tdhistory148199\">-3.042291228131736</td><td class=\"tdhistory148199\">n</td></tr><tr><th class=\"tdhistory148199\" style= \"background: rgba(243, 243, 243, 0.75)\">115</th><td class=\"tdhistory148199\">20</td><td class=\"tdhistory148199\">1</td><td class=\"tdhistory148199\">144</td><td class=\"tdhistory148199\">0</td><td class=\"tdhistory148199\">5.25321706131435</td><td class=\"tdhistory148199\">p</td></tr><tr><th class=\"tdhistory148199\" style= \"background: rgba(243, 243, 243, 0.75)\">116</th><td class=\"tdhistory148199\">40</td><td class=\"tdhistory148199\">1</td><td class=\"tdhistory148199\">97</td><td class=\"tdhistory148199\">0.0287475</td><td class=\"tdhistory148199\">-2.220837961070849</td><td class=\"tdhistory148199\">n</td></tr><tr><th class=\"tdhistory148199\" style= \"background: rgba(243, 243, 243, 0.75)\">117</th><td class=\"tdhistory148199\">37</td><td class=\"tdhistory148199\">1</td><td class=\"tdhistory148199\">91</td><td class=\"tdhistory148199\">0.0134787</td><td class=\"tdhistory148199\">-2.515855840770415</td><td class=\"tdhistory148199\">n</td></tr><tr><th class=\"tdhistory148199\" style= \"background: rgba(243, 243, 243, 0.75)\">118</th><td class=\"tdhistory148199\">28</td><td class=\"tdhistory148199\">1</td><td class=\"tdhistory148199\">71</td><td class=\"tdhistory148199\">0.0366385</td><td class=\"tdhistory148199\">-2.129852920428456</td><td class=\"tdhistory148199\">n</td></tr><tr><th class=\"tdhistory148199\" style= \"background: rgba(243, 243, 243, 0.75)\">119</th><td class=\"tdhistory148199\">55</td><td class=\"tdhistory148199\">1</td><td class=\"tdhistory148199\">124</td><td class=\"tdhistory148199\">0</td><td class=\"tdhistory148199\">-4.127593377381934</td><td class=\"tdhistory148199\">n</td></tr><tr><th class=\"tdhistory148199\" style= \"background: rgba(243, 243, 243, 0.75)\">120</th><td class=\"tdhistory148199\">21</td><td class=\"tdhistory148199\">0</td><td class=\"tdhistory148199\">70</td><td class=\"tdhistory148199\">0.2265592</td><td class=\"tdhistory148199\">-1.2185733241114733</td><td class=\"tdhistory148199\">a</td></tr><tr><th class=\"tdhistory148199\" style= \"background: rgba(243, 243, 243, 0.75)\">121</th><td class=\"tdhistory148199\">59</td><td class=\"tdhistory148199\">1</td><td class=\"tdhistory148199\">81</td><td class=\"tdhistory148199\">0.6325211</td><td class=\"tdhistory148199\">-0.4799533198668136</td><td class=\"tdhistory148199\">a</td></tr><tr><th class=\"tdhistory148199\" style= \"background: rgba(243, 243, 243, 0.75)\">122</th><td class=\"tdhistory148199\">32</td><td class=\"tdhistory148199\">0</td><td class=\"tdhistory148199\">67</td><td class=\"tdhistory148199\">0.4094865</td><td class=\"tdhistory148199\">0.8253290126068602</td><td class=\"tdhistory148199\">a</td></tr><tr><th class=\"tdhistory148199\" style= \"background: rgba(243, 243, 243, 0.75)\">123</th><td class=\"tdhistory148199\">67</td><td class=\"tdhistory148199\">1</td><td class=\"tdhistory148199\">55</td><td class=\"tdhistory148199\">0</td><td class=\"tdhistory148199\">-4.404684295372502</td><td class=\"tdhistory148199\">n</td></tr><tr><th class=\"tdhistory148199\" style= \"background: rgba(243, 243, 243, 0.75)\">124</th><td class=\"tdhistory148199\">88</td><td class=\"tdhistory148199\">1</td><td class=\"tdhistory148199\">13</td><td class=\"tdhistory148199\">0.2368918</td><td class=\"tdhistory148199\">-1.2411936748771681</td><td class=\"tdhistory148199\">a</td></tr><tr><th class=\"tdhistory148199\" style= \"background: rgba(243, 243, 243, 0.75)\">125</th><td class=\"tdhistory148199\">74</td><td class=\"tdhistory148199\">0</td><td class=\"tdhistory148199\">42</td><td class=\"tdhistory148199\">0.0728423</td><td class=\"tdhistory148199\">1.843131346135043</td><td class=\"tdhistory148199\">a</td></tr><tr><th class=\"tdhistory148199\" style= \"background: rgba(243, 243, 243, 0.75)\">126</th><td class=\"tdhistory148199\">27</td><td class=\"tdhistory148199\">0</td><td class=\"tdhistory148199\">35</td><td class=\"tdhistory148199\">0.0218499</td><td class=\"tdhistory148199\">-2.398554722335631</td><td class=\"tdhistory148199\">n</td></tr><tr><th class=\"tdhistory148199\" style= \"background: rgba(243, 243, 243, 0.75)\">127</th><td class=\"tdhistory148199\">47</td><td class=\"tdhistory148199\">1</td><td class=\"tdhistory148199\">99</td><td class=\"tdhistory148199\">0</td><td class=\"tdhistory148199\">-4.731251829098891</td><td class=\"tdhistory148199\">n</td></tr><tr><th class=\"tdhistory148199\" style= \"background: rgba(243, 243, 243, 0.75)\">128</th><td class=\"tdhistory148199\">11</td><td class=\"tdhistory148199\">0</td><td class=\"tdhistory148199\">12</td><td class=\"tdhistory148199\">0.0335186</td><td class=\"tdhistory148199\">2.3986400290671694</td><td class=\"tdhistory148199\">p</td></tr><tr><th class=\"tdhistory148199\" style= \"background: rgba(243, 243, 243, 0.75)\">129</th><td class=\"tdhistory148199\">84</td><td class=\"tdhistory148199\">1</td><td class=\"tdhistory148199\">23</td><td class=\"tdhistory148199\">0.0116674</td><td class=\"tdhistory148199\">-2.741240236148122</td><td class=\"tdhistory148199\">n</td></tr><tr><th class=\"tdhistory148199\" style= \"background: rgba(243, 243, 243, 0.75)\">130</th><td class=\"tdhistory148199\">86</td><td class=\"tdhistory148199\">1</td><td class=\"tdhistory148199\">7</td><td class=\"tdhistory148199\">0.1368472</td><td class=\"tdhistory148199\">-1.6810328952966416</td><td class=\"tdhistory148199\">a</td></tr><tr><th class=\"tdhistory148199\" style= \"background: rgba(243, 243, 243, 0.75)\">131</th><td class=\"tdhistory148199\">51</td><td class=\"tdhistory148199\">0</td><td class=\"tdhistory148199\">87</td><td class=\"tdhistory148199\">0</td><td class=\"tdhistory148199\">-4.661077166011302</td><td class=\"tdhistory148199\">n</td></tr><tr><th class=\"tdhistory148199\" style= \"background: rgba(243, 243, 243, 0.75)\">132</th><td class=\"tdhistory148199\">12</td><td class=\"tdhistory148199\">1</td><td class=\"tdhistory148199\">9</td><td class=\"tdhistory148199\">0.0600366</td><td class=\"tdhistory148199\">-2.1451698881663877</td><td class=\"tdhistory148199\">a</td></tr><tr><th class=\"tdhistory148199\" style= \"background: rgba(243, 243, 243, 0.75)\">133</th><td class=\"tdhistory148199\">17</td><td class=\"tdhistory148199\">1</td><td class=\"tdhistory148199\">116</td><td class=\"tdhistory148199\">0.0117522</td><td class=\"tdhistory148199\">2.5648865894179176</td><td class=\"tdhistory148199\">p</td></tr><tr><th class=\"tdhistory148199\" style= \"background: rgba(243, 243, 243, 0.75)\">134</th><td class=\"tdhistory148199\">49</td><td class=\"tdhistory148199\">0</td><td class=\"tdhistory148199\">73</td><td class=\"tdhistory148199\">0.0001023</td><td class=\"tdhistory148199\">-4.107857878130482</td><td class=\"tdhistory148199\">n</td></tr><tr><th class=\"tdhistory148199\" style= \"background: rgba(243, 243, 243, 0.75)\">135</th><td class=\"tdhistory148199\">22</td><td class=\"tdhistory148199\">1</td><td class=\"tdhistory148199\">88</td><td class=\"tdhistory148199\">0.1271486</td><td class=\"tdhistory148199\">-1.5419965213272224</td><td class=\"tdhistory148199\">a</td></tr><tr><th class=\"tdhistory148199\" style= \"background: rgba(243, 243, 243, 0.75)\">136</th><td class=\"tdhistory148199\">38</td><td class=\"tdhistory148199\">1</td><td class=\"tdhistory148199\">101</td><td class=\"tdhistory148199\">0.096048</td><td class=\"tdhistory148199\">-1.6753890959647324</td><td class=\"tdhistory148199\">a</td></tr><tr><th class=\"tdhistory148199\" style= \"background: rgba(243, 243, 243, 0.75)\">137</th><td class=\"tdhistory148199\">13</td><td class=\"tdhistory148199\">1</td><td class=\"tdhistory148199\">37</td><td class=\"tdhistory148199\">0.0091662</td><td class=\"tdhistory148199\">2.745763970817959</td><td class=\"tdhistory148199\">p</td></tr><tr><th class=\"tdhistory148199\" style= \"background: rgba(243, 243, 243, 0.75)\">138</th><td class=\"tdhistory148199\">52</td><td class=\"tdhistory148199\">0</td><td class=\"tdhistory148199\">57</td><td class=\"tdhistory148199\">0.1988335</td><td class=\"tdhistory148199\">-1.2986200226539708</td><td class=\"tdhistory148199\">a</td></tr><tr><th class=\"tdhistory148199\" style= \"background: rgba(243, 243, 243, 0.75)\">139</th><td class=\"tdhistory148199\">81</td><td class=\"tdhistory148199\">0</td><td class=\"tdhistory148199\">15</td><td class=\"tdhistory148199\">0.0205029</td><td class=\"tdhistory148199\">-2.589130468293594</td><td class=\"tdhistory148199\">n</td></tr><tr><th class=\"tdhistory148199\" style= \"background: rgba(243, 243, 243, 0.75)\">140</th><td class=\"tdhistory148199\">68</td><td class=\"tdhistory148199\">1</td><td class=\"tdhistory148199\">47</td><td class=\"tdhistory148199\">0.0002373</td><td class=\"tdhistory148199\">-3.9788328948124123</td><td class=\"tdhistory148199\">n</td></tr><tr><th class=\"tdhistory148199\" style= \"background: rgba(243, 243, 243, 0.75)\">141</th><td class=\"tdhistory148199\">85</td><td class=\"tdhistory148199\">0</td><td class=\"tdhistory148199\">23</td><td class=\"tdhistory148199\">0.0647381</td><td class=\"tdhistory148199\">-1.939644842896574</td><td class=\"tdhistory148199\">a</td></tr><tr><th class=\"tdhistory148199\" style= \"background: rgba(243, 243, 243, 0.75)\">142</th><td class=\"tdhistory148199\">35</td><td class=\"tdhistory148199\">0</td><td class=\"tdhistory148199\">83</td><td class=\"tdhistory148199\">0.0003375</td><td class=\"tdhistory148199\">-3.7394635368194225</td><td class=\"tdhistory148199\">n</td></tr><tr><th class=\"tdhistory148199\" style= \"background: rgba(243, 243, 243, 0.75)\">143</th><td class=\"tdhistory148199\">16</td><td class=\"tdhistory148199\">0</td><td class=\"tdhistory148199\">90</td><td class=\"tdhistory148199\">0.0029166</td><td class=\"tdhistory148199\">3.060064737034293</td><td class=\"tdhistory148199\">p</td></tr><tr><th class=\"tdhistory148199\" style= \"background: rgba(243, 243, 243, 0.75)\">144</th><td class=\"tdhistory148199\">11</td><td class=\"tdhistory148199\">1</td><td class=\"tdhistory148199\">18</td><td class=\"tdhistory148199\">0.0061793</td><td class=\"tdhistory148199\">3.104019356946221</td><td class=\"tdhistory148199\">p</td></tr><tr><th class=\"tdhistory148199\" style= \"background: rgba(243, 243, 243, 0.75)\">145</th><td class=\"tdhistory148199\">81</td><td class=\"tdhistory148199\">1</td><td class=\"tdhistory148199\">21</td><td class=\"tdhistory148199\">0.1646098</td><td class=\"tdhistory148199\">-1.4374024402178875</td><td class=\"tdhistory148199\">a</td></tr><tr><th class=\"tdhistory148199\" style= \"background: rgba(243, 243, 243, 0.75)\">146</th><td class=\"tdhistory148199\">18</td><td class=\"tdhistory148199\">1</td><td class=\"tdhistory148199\">146</td><td class=\"tdhistory148199\">0</td><td class=\"tdhistory148199\">3.880078571846679</td><td class=\"tdhistory148199\">p</td></tr><tr><th class=\"tdhistory148199\" style= \"background: rgba(243, 243, 243, 0.75)\">147</th><td class=\"tdhistory148199\">63</td><td class=\"tdhistory148199\">1</td><td class=\"tdhistory148199\">58</td><td class=\"tdhistory148199\">0.0480107</td><td class=\"tdhistory148199\">-2.018813226758169</td><td class=\"tdhistory148199\">n</td></tr><tr><th class=\"tdhistory148199\" style= \"background: rgba(243, 243, 243, 0.75)\">148</th><td class=\"tdhistory148199\">60</td><td class=\"tdhistory148199\">1</td><td class=\"tdhistory148199\">96</td><td class=\"tdhistory148199\">0.0010157</td><td class=\"tdhistory148199\">-3.394647945426487</td><td class=\"tdhistory148199\">n</td></tr><tr><th class=\"tdhistory148199\" style= \"background: rgba(243, 243, 243, 0.75)\">149</th><td class=\"tdhistory148199\">51</td><td class=\"tdhistory148199\">1</td><td class=\"tdhistory148199\">125</td><td class=\"tdhistory148199\">0</td><td class=\"tdhistory148199\">-4.715111357900299</td><td class=\"tdhistory148199\">n</td></tr><tr><th class=\"tdhistory148199\" style= \"background: rgba(243, 243, 243, 0.75)\">150</th><td class=\"tdhistory148199\">82</td><td class=\"tdhistory148199\">1</td><td class=\"tdhistory148199\">34</td><td class=\"tdhistory148199\">0.0005562</td><td class=\"tdhistory148199\">-3.811663137462193</td><td class=\"tdhistory148199\">n</td></tr><tr><th class=\"tdhistory148199\" style= \"background: rgba(243, 243, 243, 0.75)\">151</th><td class=\"tdhistory148199\">83</td><td class=\"tdhistory148199\">0</td><td class=\"tdhistory148199\">19</td><td class=\"tdhistory148199\">0.0446447</td><td class=\"tdhistory148199\">-2.1457788047169233</td><td class=\"tdhistory148199\">n</td></tr><tr><th class=\"tdhistory148199\" style= \"background: rgba(243, 243, 243, 0.75)\">152</th><td class=\"tdhistory148199\">70</td><td class=\"tdhistory148199\">1</td><td class=\"tdhistory148199\">61</td><td class=\"tdhistory148199\">0</td><td class=\"tdhistory148199\">-5.373304366118829</td><td class=\"tdhistory148199\">n</td></tr><tr><th class=\"tdhistory148199\" style= \"background: rgba(243, 243, 243, 0.75)\">153</th><td class=\"tdhistory148199\">43</td><td class=\"tdhistory148199\">0</td><td class=\"tdhistory148199\">63</td><td class=\"tdhistory148199\">0.035401</td><td class=\"tdhistory148199\">-2.1475904037515336</td><td class=\"tdhistory148199\">n</td></tr><tr><th class=\"tdhistory148199\" style= \"background: rgba(243, 243, 243, 0.75)\">154</th><td class=\"tdhistory148199\">41</td><td class=\"tdhistory148199\">0</td><td class=\"tdhistory148199\">87</td><td class=\"tdhistory148199\">0.4673513</td><td class=\"tdhistory148199\">0.7284430080051986</td><td class=\"tdhistory148199\">a</td></tr><tr><th class=\"tdhistory148199\" style= \"background: rgba(243, 243, 243, 0.75)\">155</th><td class=\"tdhistory148199\">21</td><td class=\"tdhistory148199\">1</td><td class=\"tdhistory148199\">80</td><td class=\"tdhistory148199\">0</td><td class=\"tdhistory148199\">-4.494000431713699</td><td class=\"tdhistory148199\">n</td></tr><tr><th class=\"tdhistory148199\" style= \"background: rgba(243, 243, 243, 0.75)\">156</th><td class=\"tdhistory148199\">82</td><td class=\"tdhistory148199\">0</td><td class=\"tdhistory148199\">23</td><td class=\"tdhistory148199\">0.0054189</td><td class=\"tdhistory148199\">-3.0725105303481928</td><td class=\"tdhistory148199\">n</td></tr><tr><th class=\"tdhistory148199\" style= \"background: rgba(243, 243, 243, 0.75)\">157</th><td class=\"tdhistory148199\">24</td><td class=\"tdhistory148199\">1</td><td class=\"tdhistory148199\">71</td><td class=\"tdhistory148199\">0.0275495</td><td class=\"tdhistory148199\">-2.251117099673115</td><td class=\"tdhistory148199\">n</td></tr><tr><th class=\"tdhistory148199\" style= \"background: rgba(243, 243, 243, 0.75)\">158</th><td class=\"tdhistory148199\">42</td><td class=\"tdhistory148199\">0</td><td class=\"tdhistory148199\">67</td><td class=\"tdhistory148199\">0</td><td class=\"tdhistory148199\">-4.211796282429227</td><td class=\"tdhistory148199\">n</td></tr><tr><th class=\"tdhistory148199\" style= \"background: rgba(243, 243, 243, 0.75)\">159</th><td class=\"tdhistory148199\">87</td><td class=\"tdhistory148199\">1</td><td class=\"tdhistory148199\">8</td><td class=\"tdhistory148199\">0.5973357</td><td class=\"tdhistory148199\">-0.5542183588683113</td><td class=\"tdhistory148199\">a</td></tr><tr><th class=\"tdhistory148199\" style= \"background: rgba(243, 243, 243, 0.75)\">160</th><td class=\"tdhistory148199\">44</td><td class=\"tdhistory148199\">0</td><td class=\"tdhistory148199\">88</td><td class=\"tdhistory148199\">0.002372</td><td class=\"tdhistory148199\">-3.1273574324187483</td><td class=\"tdhistory148199\">n</td></tr><tr><th class=\"tdhistory148199\" style= \"background: rgba(243, 243, 243, 0.75)\">161</th><td class=\"tdhistory148199\">60</td><td class=\"tdhistory148199\">0</td><td class=\"tdhistory148199\">92</td><td class=\"tdhistory148199\">0</td><td class=\"tdhistory148199\">-4.258888739610543</td><td class=\"tdhistory148199\">n</td></tr><tr><th class=\"tdhistory148199\" style= \"background: rgba(243, 243, 243, 0.75)\">162</th><td class=\"tdhistory148199\">30</td><td class=\"tdhistory148199\">0</td><td class=\"tdhistory148199\">57</td><td class=\"tdhistory148199\">0.134039</td><td class=\"tdhistory148199\">-1.523189487616873</td><td class=\"tdhistory148199\">a</td></tr><tr><th class=\"tdhistory148199\" style= \"background: rgba(243, 243, 243, 0.75)\">163</th><td class=\"tdhistory148199\">55</td><td class=\"tdhistory148199\">0</td><td class=\"tdhistory148199\">97</td><td class=\"tdhistory148199\">0</td><td class=\"tdhistory148199\">-5.784851346128433</td><td class=\"tdhistory148199\">n</td></tr><tr><th class=\"tdhistory148199\" style= \"background: rgba(243, 243, 243, 0.75)\">164</th><td class=\"tdhistory148199\">41</td><td class=\"tdhistory148199\">1</td><td class=\"tdhistory148199\">125</td><td class=\"tdhistory148199\">0</td><td class=\"tdhistory148199\">-1.5361087497978672</td><td class=\"tdhistory148199\">n</td></tr><tr><th class=\"tdhistory148199\" style= \"background: rgba(243, 243, 243, 0.75)\">165</th><td class=\"tdhistory148199\">46</td><td class=\"tdhistory148199\">0</td><td class=\"tdhistory148199\">85</td><td class=\"tdhistory148199\">0</td><td class=\"tdhistory148199\">-4.332325340125757</td><td class=\"tdhistory148199\">n</td></tr><tr><th class=\"tdhistory148199\" style= \"background: rgba(243, 243, 243, 0.75)\">166</th><td class=\"tdhistory148199\">53</td><td class=\"tdhistory148199\">1</td><td class=\"tdhistory148199\">105</td><td class=\"tdhistory148199\">0</td><td class=\"tdhistory148199\">-4.527210354661867</td><td class=\"tdhistory148199\">n</td></tr><tr><th class=\"tdhistory148199\" style= \"background: rgba(243, 243, 243, 0.75)\">167</th><td class=\"tdhistory148199\">59</td><td class=\"tdhistory148199\">0</td><td class=\"tdhistory148199\">80</td><td class=\"tdhistory148199\">0</td><td class=\"tdhistory148199\">-4.809246673642799</td><td class=\"tdhistory148199\">n</td></tr><tr><th class=\"tdhistory148199\" style= \"background: rgba(243, 243, 243, 0.75)\">168</th><td class=\"tdhistory148199\">19</td><td class=\"tdhistory148199\">1</td><td class=\"tdhistory148199\">125</td><td class=\"tdhistory148199\">0</td><td class=\"tdhistory148199\">1.7623795152739916</td><td class=\"tdhistory148199\">p</td></tr><tr><th class=\"tdhistory148199\" style= \"background: rgba(243, 243, 243, 0.75)\">169</th><td class=\"tdhistory148199\">15</td><td class=\"tdhistory148199\">1</td><td class=\"tdhistory148199\">100</td><td class=\"tdhistory148199\">0</td><td class=\"tdhistory148199\">4.911359364701502</td><td class=\"tdhistory148199\">p</td></tr><tr><th class=\"tdhistory148199\" style= \"background: rgba(243, 243, 243, 0.75)\">170</th><td class=\"tdhistory148199\">20</td><td class=\"tdhistory148199\">0</td><td class=\"tdhistory148199\">102</td><td class=\"tdhistory148199\">0</td><td class=\"tdhistory148199\">4.3080863466550845</td><td class=\"tdhistory148199\">p</td></tr></tbody></table></div>"
      ]
     },
     "execution_count": 24,
     "metadata": {
      "application/vnd.teradata.resultset": "{\"resultSetID\":\"/home/jovyan/JupyterLabRoot/Teradata/Resultsets/2024.09.06_07.23.08.397_UTC\",\"historyID\":408,\"chunkID\":\"00001\",\"sessionid\":\"\",\"portnum\":\"\",\"dockermode\":\"docker\",\"totalRowCount\":170,\"chunkCount\":0,\"rowLimit\":0,\"columnMetadata\":[{\"columnName\":\"tot_age\",\"columnTypeName\":\"INTEGER\"},{\"columnNumber\":1,\"columnName\":\"female_ind\",\"columnTypeName\":\"BYTEINT\"},{\"columnNumber\":2,\"columnName\":\"D_F\",\"columnTypeName\":\"FLOAT\"},{\"columnNumber\":3,\"columnName\":\"TTestPValue\",\"columnTypeName\":\"FLOAT\"},{\"columnNumber\":4,\"columnName\":\"T\",\"columnTypeName\":\"FLOAT\"},{\"columnNumber\":5,\"columnName\":\"TTestCallP_0.05\",\"columnTypeName\":\"VARCHAR\",\"length\":1,\"scale\":1}]}"
     },
     "output_type": "execute_result"
    }
   ],
   "source": [
    "call val.td_analyze('ParametricTest', \n",
    "                         'database=demo_user;\n",
    "                          tablename=VAL_ADS;\n",
    "                          firstcolumn=cc_avg_bal;\n",
    "                          secondcolumn=sv_avg_bal;\n",
    "                          paired=true;\n",
    "                          equalvariance=true;\n",
    "                          groupby=tot_age,female_ind;\n",
    "                          statsdatabase=val;');"
   ]
  },
  {
   "cell_type": "markdown",
   "metadata": {},
   "source": [
    "<p style = 'font-size:16px;font-family:Arial;color:#00233C'>The above output has the output columns as below(Any groupby columns comprise the Unique Primary Index (UPI).)\n",
    "\n",
    "teststyle = t(Default)</p>\n",
    "\n",
    " <table style = 'font-size:14px;font-family:Arial;color:#00233C'>\n",
    "  <tr>\n",
    "    <th>Column</th>\n",
    "    <th>DataType</th>\n",
    "    <th>Definition</th>\n",
    "  </tr>\n",
    "  <tr>\n",
    "    <td>D_F</td>\n",
    "    <td>Float</td>  \n",
    "    <td>Degrees of freedom for groupby columns.</td>\n",
    "  </tr>\n",
    "  <tr>\n",
    "    <td>T</td>\n",
    "    <td>Float</td>  \n",
    "    <td>T statistic.</td>\n",
    "  </tr>\n",
    "  <tr>\n",
    "    <td>TTestPValue</td>\n",
    "    <td>Float</td>  \n",
    "    <td>Probability associated with T statistic.</td>\n",
    "  </tr>\n",
    "  <tr>\n",
    "    <td>TTestCallP.05.05</td>\n",
    "    <td>Char</td>  \n",
    "    <td>T-test result:\n",
    "        <li>a=accept null hypothesis</li>\n",
    "        <li>p=reject null hypothesis(positive)</li>\n",
    "        <li>n=reject null hypothesis (negative)</li>\n",
    "    </td>\n",
    "  </tr>    \n",
    "</table>\n",
    "   \n",
    "<p>"
   ]
  },
  {
   "cell_type": "markdown",
   "metadata": {},
   "source": [
    "<p style = 'font-size:16px;font-family:Arial;color:#00233C'>2.  One-Way F-Test producing an unpersisted result set.</p>"
   ]
  },
  {
   "cell_type": "code",
   "execution_count": 25,
   "metadata": {
    "tags": []
   },
   "outputs": [
    {
     "data": {
      "text/plain": [
       "Success: 0 rows affected"
      ]
     },
     "execution_count": 25,
     "metadata": {
      "application/vnd.teradata.resultset": ""
     },
     "output_type": "execute_result"
    },
    {
     "data": {
      "application/vnd.teradata.resultset": "\"gender\",\"DF\",\"DFErr\",\"F\",\"FPValue\",\"FPText\",\"FCallP_0.01\"\n\"F\",\"14\",\"5837\",\"7.339460843406179\",\"0.001\",\"<0.001\",\"p\"\n\"M\",\"14\",\"4591\",\"4.946361887967858\",\"0.001\",\"<0.001\",\"p\"",
      "text/html": [
       "<div class = \"td-resultset-table-div\" style = \"max-height: 100%; overflow-y: auto\">\n",
       "      <table class=\"tdhistory667605\"><style>\n",
       "      table.tdhistory667605 { display: block !important; min-height: 126px !important; overflow: auto !important; height: 126px !important; width: 100% !important; border: 1px solid rgb(207, 207, 207) !important; border-collapse: collapse !important; ; color: var(--jp-ui-font-color1) !important; }\n",
       "      th.tdhistory667605 { border: 1px solid rgb(198,198,198) !important; border-collapse: collapse !important; ; padding: 2px 5px !important; ; font-size: 13px !important; ; text-align: center !important; white-space: normal !important; color: var(--jp-ui-font-color1) !important; }\n",
       "      th.tdhistory667605:last-child { text-align: left !important; }\n",
       "      tbody.tdhistory667605 tr:nth-child(even) { background: rgba(243, 243, 243, 0.75) !important; }\n",
       "      tbody.tdhistory667605 tr:nth-child(odd) { background: var(--jp-ui-inverse-font-color1) !important; }\n",
       "      td.tdhistory667605 { border: 1px solid rgb(207, 207, 207) !important; border-collapse: collapse !important; ; padding: 2px 5px !important; ; font-size: 13px !important; ; text-align: left !important;          white-space: nowrap !important; overflow:hidden !important; text-overflow:ellipsis !important;; }\n",
       "    </style><thead><tr style= \"background: rgba(243, 243, 243, 0.75)\"><th class=\"tdhistory667605\"></th><th class=\"tdhistory667605\">gender</th><th class=\"tdhistory667605\">DF</th><th class=\"tdhistory667605\">DFErr</th><th class=\"tdhistory667605\">F</th><th class=\"tdhistory667605\">FPValue</th><th class=\"tdhistory667605\">FPText</th><th class=\"tdhistory667605\">FCallP_0.01</th></tr></thead><tbody class=\"tdhistory667605 resultset-body\"><tr><th class=\"tdhistory667605\" style= \"background: rgba(243, 243, 243, 0.75)\">1</th><td class=\"tdhistory667605\">F</td><td class=\"tdhistory667605\">14</td><td class=\"tdhistory667605\">5837</td><td class=\"tdhistory667605\">7.339460843406179</td><td class=\"tdhistory667605\">0.001</td><td class=\"tdhistory667605\"><0.001</td><td class=\"tdhistory667605\">p</td></tr><tr><th class=\"tdhistory667605\" style= \"background: rgba(243, 243, 243, 0.75)\">2</th><td class=\"tdhistory667605\">M</td><td class=\"tdhistory667605\">14</td><td class=\"tdhistory667605\">4591</td><td class=\"tdhistory667605\">4.946361887967858</td><td class=\"tdhistory667605\">0.001</td><td class=\"tdhistory667605\"><0.001</td><td class=\"tdhistory667605\">p</td></tr></tbody></table></div>"
      ]
     },
     "execution_count": 25,
     "metadata": {
      "application/vnd.teradata.resultset": "{\"resultSetID\":\"/home/jovyan/JupyterLabRoot/Teradata/Resultsets/2024.09.06_07.23.15.886_UTC\",\"historyID\":409,\"chunkID\":\"00001\",\"sessionid\":\"\",\"portnum\":\"\",\"dockermode\":\"docker\",\"totalRowCount\":2,\"chunkCount\":0,\"rowLimit\":0,\"columnMetadata\":[{\"columnName\":\"gender\",\"columnTypeName\":\"VARCHAR\",\"length\":1,\"scale\":1},{\"columnNumber\":1,\"columnName\":\"DF\",\"columnTypeName\":\"FLOAT\"},{\"columnNumber\":2,\"columnName\":\"DFErr\",\"columnTypeName\":\"FLOAT\"},{\"columnNumber\":3,\"columnName\":\"F\",\"columnTypeName\":\"FLOAT\"},{\"columnNumber\":4,\"columnName\":\"FPValue\",\"columnTypeName\":\"FLOAT\"},{\"columnNumber\":5,\"columnName\":\"FPText\",\"columnTypeName\":\"VARCHAR\",\"length\":6,\"scale\":6},{\"columnNumber\":6,\"columnName\":\"FCallP_0.01\",\"columnTypeName\":\"VARCHAR\",\"length\":1,\"scale\":1}]}"
     },
     "output_type": "execute_result"
    }
   ],
   "source": [
    "call val.td_analyze('ParametricTest',\n",
    "                         'teststyle=fnway;\n",
    "                          database=DEMO_Financial;\n",
    "                          tablename=Customer;\n",
    "                          columnofinterest=income;\n",
    "                          columns=years_with_bank;\n",
    "                          groupby=gender;\n",
    "                          thresholdprobability=0.01;\n",
    "                          statsdatabase=val;');"
   ]
  },
  {
   "cell_type": "markdown",
   "metadata": {},
   "source": [
    "<p style = 'font-size:16px;font-family:Arial;color:#00233C'>The above output has the output columns as below(If there are groupby columns, they comprise the UPI. Otherwise, DF is the UPI.)\n",
    "\n",
    "teststyle = fnway</p>\n",
    "\n",
    " <table style = 'font-size:14px;font-family:Arial;color:#00233C'>\n",
    "  <tr>\n",
    "    <th>Name</th>\n",
    "    <th>Type</th>\n",
    "    <th>Definition</th>\n",
    "  </tr>\n",
    "  <tr>\n",
    "    <td>DF</td>\n",
    "    <td>Integer</td>  \n",
    "    <td>Degrees of freedom for variable.</td>\n",
    "  </tr>\n",
    "  <tr>\n",
    "    <td>DFErr</td>\n",
    "    <td>Integer</td>  \n",
    "    <td>Degrees of freedom for error.</td>\n",
    "  </tr>\n",
    "  <tr>\n",
    "    <td>F</td>\n",
    "    <td>Float</td>  \n",
    "    <td>F statistic.</td>\n",
    "  </tr>\n",
    "  <tr>\n",
    "    <td>FPValue</td>\n",
    "    <td>Float</td>  \n",
    "    <td>Probability associated with F statistic.</td>\n",
    "  </tr> \n",
    "  <tr>\n",
    "    <td>FPText</td>\n",
    "    <td>Char</td>  \n",
    "    <td>If not NULL, the output appears in text format in the column.</td>\n",
    "  </tr>   \n",
    "  <tr>\n",
    "    <td>FCallP</td>\n",
    "    <td>Char</td>  \n",
    "    <td>F-test result:\n",
    "        <li>a=accept null hypothesis</li>\n",
    "        <li>p=reject null hypothesis(positive)</li>\n",
    "        <li>n=reject null hypothesis (negative)</li>\n",
    "    </td>\n",
    "  </tr>    \n",
    "</table>\n",
    "   \n",
    "<p>"
   ]
  },
  {
   "cell_type": "markdown",
   "metadata": {},
   "source": [
    "<p style = 'font-size:16px;font-family:Arial;color:#00233C'>3.  2-way F-Test with Unequal Cell Counts producing an unpersisted result set.</p>"
   ]
  },
  {
   "cell_type": "code",
   "execution_count": 26,
   "metadata": {},
   "outputs": [
    {
     "data": {
      "text/plain": [
       "Success: 0 rows affected"
      ]
     },
     "execution_count": 26,
     "metadata": {
      "application/vnd.teradata.resultset": ""
     },
     "output_type": "execute_result"
    },
    {
     "data": {
      "application/vnd.teradata.resultset": "\"DF\",\"Fmodel\",\"DFErr\",\"DF_1\",\"F1\",\"DF_2\",\"F2\",\"DF_12\",\"F12\",\"Fmodel_PValue\",\"Fmodel_PText\",\"Fmodel_CallP_0.05\",\"F1_PValue\",\"F1_PText\",\"F1_CallP_0.05\",\"F2_PValue\",\"F2_PText\",\"F2_CallP_0.05\",\"F12_PValue\",\"F12_PText\",\"F12_CallP_0.05\"\n\"15\",\"9.710997531996655\",\"7330\",\"7\",\"11.561359030335888\",\"1\",\"51.83852316974105\",\"7\",\"1.8424180854082204\",\"0.001\",\"<0.001\",\"p\",\"0.001\",\"<0.001\",\"p\",\"0.001\",\"<0.001\",\"p\",\"0.07854148392066758\",\"\",\"a\"",
      "text/html": [
       "<div class = \"td-resultset-table-div\" style = \"max-height: 100%; overflow-y: auto\">\n",
       "      <table class=\"tdhistory854891\"><style>\n",
       "      table.tdhistory854891 { display: block !important; min-height: 105px !important; overflow: auto !important; height: 105px !important; width: 100% !important; border: 1px solid rgb(207, 207, 207) !important; border-collapse: collapse !important; ; color: var(--jp-ui-font-color1) !important; }\n",
       "      th.tdhistory854891 { border: 1px solid rgb(198,198,198) !important; border-collapse: collapse !important; ; padding: 2px 5px !important; ; font-size: 13px !important; ; text-align: center !important; white-space: normal !important; color: var(--jp-ui-font-color1) !important; }\n",
       "      th.tdhistory854891:last-child { text-align: left !important; }\n",
       "      tbody.tdhistory854891 tr:nth-child(even) { background: rgba(243, 243, 243, 0.75) !important; }\n",
       "      tbody.tdhistory854891 tr:nth-child(odd) { background: var(--jp-ui-inverse-font-color1) !important; }\n",
       "      td.tdhistory854891 { border: 1px solid rgb(207, 207, 207) !important; border-collapse: collapse !important; ; padding: 2px 5px !important; ; font-size: 13px !important; ; text-align: left !important;          white-space: nowrap !important; overflow:hidden !important; text-overflow:ellipsis !important;; }\n",
       "    </style><thead><tr style= \"background: rgba(243, 243, 243, 0.75)\"><th class=\"tdhistory854891\"></th><th class=\"tdhistory854891\">DF</th><th class=\"tdhistory854891\">Fmodel</th><th class=\"tdhistory854891\">DFErr</th><th class=\"tdhistory854891\">DF_1</th><th class=\"tdhistory854891\">F1</th><th class=\"tdhistory854891\">DF_2</th><th class=\"tdhistory854891\">F2</th><th class=\"tdhistory854891\">DF_12</th><th class=\"tdhistory854891\">F12</th><th class=\"tdhistory854891\">Fmodel_PValue</th><th class=\"tdhistory854891\">Fmodel_PText</th><th class=\"tdhistory854891\">Fmodel_CallP_0.05</th><th class=\"tdhistory854891\">F1_PValue</th><th class=\"tdhistory854891\">F1_PText</th><th class=\"tdhistory854891\">F1_CallP_0.05</th><th class=\"tdhistory854891\">F2_PValue</th><th class=\"tdhistory854891\">F2_PText</th><th class=\"tdhistory854891\">F2_CallP_0.05</th><th class=\"tdhistory854891\">F12_PValue</th><th class=\"tdhistory854891\">F12_PText</th><th class=\"tdhistory854891\">F12_CallP_0.05</th></tr></thead><tbody class=\"tdhistory854891 resultset-body\"><tr><th class=\"tdhistory854891\" style= \"background: rgba(243, 243, 243, 0.75)\">1</th><td class=\"tdhistory854891\">15</td><td class=\"tdhistory854891\">9.710997531996655</td><td class=\"tdhistory854891\">7330</td><td class=\"tdhistory854891\">7</td><td class=\"tdhistory854891\">11.561359030335888</td><td class=\"tdhistory854891\">1</td><td class=\"tdhistory854891\">51.83852316974105</td><td class=\"tdhistory854891\">7</td><td class=\"tdhistory854891\">1.8424180854082204</td><td class=\"tdhistory854891\">0.001</td><td class=\"tdhistory854891\"><0.001</td><td class=\"tdhistory854891\">p</td><td class=\"tdhistory854891\">0.001</td><td class=\"tdhistory854891\"><0.001</td><td class=\"tdhistory854891\">p</td><td class=\"tdhistory854891\">0.001</td><td class=\"tdhistory854891\"><0.001</td><td class=\"tdhistory854891\">p</td><td class=\"tdhistory854891\">0.07854148392066758</td><td class=\"tdhistory854891\"></td><td class=\"tdhistory854891\">a</td></tr></tbody></table></div>"
      ]
     },
     "execution_count": 26,
     "metadata": {
      "application/vnd.teradata.resultset": "{\"resultSetID\":\"/home/jovyan/JupyterLabRoot/Teradata/Resultsets/2024.09.06_07.23.26.805_UTC\",\"historyID\":410,\"chunkID\":\"00001\",\"sessionid\":\"\",\"portnum\":\"\",\"dockermode\":\"docker\",\"totalRowCount\":1,\"chunkCount\":0,\"rowLimit\":0,\"columnMetadata\":[{\"columnName\":\"DF\",\"columnTypeName\":\"INTEGER\"},{\"columnNumber\":1,\"columnName\":\"Fmodel\",\"columnTypeName\":\"FLOAT\"},{\"columnNumber\":2,\"columnName\":\"DFErr\",\"columnTypeName\":\"INTEGER\"},{\"columnNumber\":3,\"columnName\":\"DF_1\",\"columnTypeName\":\"INTEGER\"},{\"columnNumber\":4,\"columnName\":\"F1\",\"columnTypeName\":\"FLOAT\"},{\"columnNumber\":5,\"columnName\":\"DF_2\",\"columnTypeName\":\"INTEGER\"},{\"columnNumber\":6,\"columnName\":\"F2\",\"columnTypeName\":\"FLOAT\"},{\"columnNumber\":7,\"columnName\":\"DF_12\",\"columnTypeName\":\"INTEGER\"},{\"columnNumber\":8,\"columnName\":\"F12\",\"columnTypeName\":\"FLOAT\"},{\"columnNumber\":9,\"columnName\":\"Fmodel_PValue\",\"columnTypeName\":\"FLOAT\"},{\"columnNumber\":10,\"columnName\":\"Fmodel_PText\",\"columnTypeName\":\"VARCHAR\",\"length\":6,\"scale\":6},{\"columnNumber\":11,\"columnName\":\"Fmodel_CallP_0.05\",\"columnTypeName\":\"VARCHAR\",\"length\":1,\"scale\":1},{\"columnNumber\":12,\"columnName\":\"F1_PValue\",\"columnTypeName\":\"FLOAT\"},{\"columnNumber\":13,\"columnName\":\"F1_PText\",\"columnTypeName\":\"VARCHAR\",\"length\":6,\"scale\":6},{\"columnNumber\":14,\"columnName\":\"F1_CallP_0.05\",\"columnTypeName\":\"VARCHAR\",\"length\":1,\"scale\":1},{\"columnNumber\":15,\"columnName\":\"F2_PValue\",\"columnTypeName\":\"FLOAT\"},{\"columnNumber\":16,\"columnName\":\"F2_PText\",\"columnTypeName\":\"VARCHAR\",\"length\":6,\"scale\":6},{\"columnNumber\":17,\"columnName\":\"F2_CallP_0.05\",\"columnTypeName\":\"VARCHAR\",\"length\":1,\"scale\":1},{\"columnNumber\":18,\"columnName\":\"F12_PValue\",\"columnTypeName\":\"FLOAT\"},{\"columnNumber\":19,\"columnName\":\"F12_PText\",\"columnTypeName\":\"VARCHAR\",\"length\":6,\"scale\":6},{\"columnNumber\":20,\"columnName\":\"F12_CallP_0.05\",\"columnTypeName\":\"VARCHAR\",\"length\":1,\"scale\":1}]}"
     },
     "output_type": "execute_result"
    }
   ],
   "source": [
    "call val.td_analyze('ParametricTest',\n",
    "                         'teststyle=f2way;\n",
    "                          database=DEMO_Financial;\n",
    "                          tablename=Customer;\n",
    "                          columnofinterest=income;\n",
    "                          firstcolumn=years_with_bank;\n",
    "                          secondcolumn=gender;\n",
    "                          thresholdprobability=0.05;\n",
    "                          firstcolumnvalues=0,1,2,3,4,5,6,7;\n",
    "                          secondcolumnvalues=M,F;\n",
    "                          statsdatabase=val;');"
   ]
  },
  {
   "cell_type": "markdown",
   "metadata": {},
   "source": [
    "<p style = 'font-size:16px;font-family:Arial;color:#00233C'>The above output has the output columns as below(If there are groupby columns, they comprise the UPI. Otherwise, DF is the UPI.)\n",
    "\n",
    "teststyle = 2way</p>\n",
    "\n",
    " <table style = 'font-size:14px;font-family:Arial;color:#00233C'>\n",
    "  <tr>\n",
    "    <th>Name</th>\n",
    "    <th>Type</th>\n",
    "    <th>Definition</th>\n",
    "  </tr>\n",
    "  <tr>\n",
    "    <td>DF</td>\n",
    "    <td>Integer</td>  \n",
    "    <td>Degrees of freedom for model.</td>\n",
    "  </tr>\n",
    "  <tr>\n",
    "    <td>Fmodel</td>\n",
    "    <td>Float</td>  \n",
    "    <td>F statistic for model.</td>\n",
    "  </tr>  \n",
    "  <tr>\n",
    "    <td>DFErr</td>\n",
    "    <td>Integer</td>  \n",
    "    <td>Degrees of freedom for error.</td>\n",
    "  </tr>\n",
    "  <tr>\n",
    "    <td>DF_1</td>\n",
    "    <td>Integer</td>  \n",
    "    <td>Degrees of freedom for first variable.</td>\n",
    "  </tr>\n",
    "  <tr>\n",
    "    <td>F1</td>\n",
    "    <td>Float</td>  \n",
    "    <td>F statistic for first variable.</td>\n",
    "  </tr> \n",
    "  <tr>\n",
    "    <td>DF_2</td>\n",
    "    <td>Integer</td>  \n",
    "    <td>Degrees of freedom for second variable.</td>\n",
    "  </tr>   \n",
    "  <tr>\n",
    "    <td>F2</td>\n",
    "    <td>Float</td>  \n",
    "    <td>F statistic for second variable.</td>\n",
    "  </tr>    \n",
    "</table>\n",
    "</p>   \n",
    "<p style = 'font-size:16px;font-family:Arial;color:#00233C'>The description for other output columns can be found at the link <a href ='https://docs.teradata.com/r/Enterprise_IntelliFlex_Lake_VMware/Vantage-Analytics-Library-User-Guide/Statistical-Tests/Parametric-Tests/Results-Data'>here.</a></p>\n"
   ]
  },
  {
   "cell_type": "markdown",
   "metadata": {},
   "source": [
    "<hr style=\"height:2px;border:none;background-color:#00233C;\">"
   ]
  },
  {
   "cell_type": "markdown",
   "metadata": {},
   "source": [
    "<p style = 'font-size:20px;font-family:Arial;color:#00233C'><b>7. Rank Tests</b></p>\n",
    "\n",
    "<p style = 'font-size:16px;font-family:Arial;color:#00233C'><b>Purpose</b></p>\n",
    "\n",
    "<p style = 'font-size:16px;font-family:Arial;color:#00233C'>Statistical tests of this type calculate statistics based on the rank of variables rather than variable values.  In general, data that are ranked and ordinal may be analyzed by these tests.  Within some restraints, either numeric or non-numeric data may be analyzed.  Supported rank tests include the following:\n",
    "\n",
    "<li>Mann-Whitney/Kruskal-Wallis Test</li>\n",
    "<li>Wilcoxon Signed Ranks Test</li>\n",
    "<li>Friedman Test with Kendall’s Coefficient of Concordance & Spearmans’ Rho</li>\n",
    "</p>\n",
    "    \n",
    "<p style = 'font-size:16px;font-family:Arial;color:#00233C'>The choice between the Mann-Whitney and Kruskal-Wallis tests is made automatically, looking at the number of distinct values of the independent variable.  A variation of the Mann-Whitney test considers each requested variable individually, rather than combined, performing a series of independent tests.</p>\n",
    "\n",
    "<p style = 'font-size:16px;font-family:Arial;color:#00233C'><b>Required Parameters</b></p>\n",
    "\n",
    "<p style = 'font-size:16px;font-family:Arial;color:#00233C'><b>- **database**</b></p>\n",
    "\n",
    "<p style = 'font-size:16px;font-family:Arial;color:#00233C'>The database containing the table to analyze.</p>\n",
    "\n",
    "<p style = 'font-size:16px;font-family:Arial;color:#00233C'><b>- **ranktest**</b></p>\n",
    "\n",
    "<p style = 'font-size:16px;font-family:Arial;color:#00233C'>The ranktest parameter:\n",
    "<li>Is required</li>\n",
    "<li>Must be the first parameter</li>\n",
    "<li>Is always enclosed in single quotes</li>\n",
    "</p>    \n",
    "\n",
    "<p style = 'font-size:16px;font-family:Arial;color:#00233C'><b>- **tablename**</b></p>\n",
    "\n",
    "<p style = 'font-size:16px;font-family:Arial;color:#00233C'>The table containing the columns to analyze.  It must reside in the database indicated by the database parameter.</p>\n",
    "\n",
    "<p style = 'font-size:16px;font-family:Arial;color:#00233C'><b>Optional Parameters</b></p>\n",
    "\n",
    "<p style = 'font-size:16px;font-family:Arial;color:#00233C'><b>- **blockcolumn**</b></p>\n",
    "\n",
    "<p style = 'font-size:16px;font-family:Arial;color:#00233C'>Used only by the Friedman test, the column that represents blocks. They must reside in the table indicated by the tablename parameter.  Note that when pairing treatment and block column values, a division by zero error may occur if unequal cell counts are found.</p>\n",
    "\n",
    "<p style = 'font-size:16px;font-family:Arial;color:#00233C'><b>- **columnofinterest**</b></p>\n",
    "\n",
    "<p style = 'font-size:16px;font-family:Arial;color:#00233C'>Used only by the Mann-Whitney and Friedman tests, the column specified with this parameter indicates the dependent variable. If non-numeric, it will be ranked alphanumerically.  It must reside in the table indicated by the tablename parameter.</p>\n",
    "\n",
    "<p style = 'font-size:16px;font-family:Arial;color:#00233C'><b>- **columns**</b></p>\n",
    "\n",
    "<p style = 'font-size:16px;font-family:Arial;color:#00233C'>Used only by the Mann-Whitney test, the columns specified with this parameter represent the independent variables. They must reside in the table indicated by the tablename parameter.</p>\n",
    "\n",
    "<p style = 'font-size:16px;font-family:Arial;color:#00233C'><b>- **fallback**</b></p>\n",
    "\n",
    "<p style = 'font-size:16px;font-family:Arial;color:#00233C'>When true, FALLBACK is requested as an attribute of the created output results table.  When false or parameter not specified, the FALLBACK attribute is not included in the create table SQL.</p>\n",
    "\n",
    "<p style = 'font-size:16px;font-family:Arial;color:#00233C'><b>- **firstcolumn**</b></p>\n",
    "\n",
    "<p style = 'font-size:16px;font-family:Arial;color:#00233C'>Used only by the Wilcoxon test, the column that represents the first sample variable. It must reside in the table indicated by the tablename parameter.</p>\n",
    "\n",
    "<p style = 'font-size:16px;font-family:Arial;color:#00233C'><b>- **gensqlonly**</b></p>\n",
    "\n",
    "<p style = 'font-size:16px;font-family:Arial;color:#00233C'>When true, the SQL for the requested function is returned as a result set but not run. When not specified or set to false, the SQL is run but not returned.  This parameter is not allowed when using the Mann-Whitney test.</p>\n",
    "\n",
    "<p style = 'font-size:16px;font-family:Arial;color:#00233C'><b>- **groupby**</b></p>\n",
    "\n",
    "<p style = 'font-size:16px;font-family:Arial;color:#00233C'>One or more group-by columns may optionally be specified so that a separate result is produced for each value or combination of values in the specified column or columns.</p>\n",
    "\n",
    "<p style = 'font-size:16px;font-family:Arial;color:#00233C'><b>- **includezero**</b></p>\n",
    "\n",
    "<p style = 'font-size:16px;font-family:Arial;color:#00233C'>Used only by the Wilcoxon test.  Ordinarily, the Wilcoxon test discards cases with zero differences.  This option, when set to true, includes these cases with the positive count.</p>\n",
    "\n",
    "<p style = 'font-size:16px;font-family:Arial;color:#00233C'><b>- **independent**</b></p>\n",
    "\n",
    "<p style = 'font-size:16px;font-family:Arial;color:#00233C'>Used only by the Mann-Whitney test, its selection by setting independent=true, indicates that a variation of the Mann-Whitney test should be performed, considering each requested variable individually, rather than in combination, performing a series of independent tests.</p>\n",
    "\n",
    "<p style = 'font-size:16px;font-family:Arial;color:#00233C'><b>- **multiset**</b></p>\n",
    "\n",
    "<p style = 'font-size:16px;font-family:Arial;color:#00233C'>When true, MULTISET is requested as an attribute of the created output results table.  When false or parameter not specified, the MULTISET attribute is not included in the create table SQL.</p>\n",
    "\n",
    "<p style = 'font-size:16px;font-family:Arial;color:#00233C'><b>- **outputdatabase**</b></p>\n",
    "\n",
    "<p style = 'font-size:16px;font-family:Arial;color:#00233C'>Specifies the name of the database to contain the analysis results table.</p>\n",
    "\n",
    "<p style = 'font-size:16px;font-family:Arial;color:#00233C'><b>- **outputtablename**</b></p>\n",
    "\n",
    "<p style = 'font-size:16px;font-family:Arial;color:#00233C'>Specifies the name of the table to store the analysis results. If not supplied, the results are returned as a result set.</p>\n",
    "\n",
    "<p style = 'font-size:16px;font-family:Arial;color:#00233C'><b>- **overwrite**</b></p>\n",
    "\n",
    "<p style = 'font-size:16px;font-family:Arial;color:#00233C'>When overwrite is set to true or not set, the output table is dropped before creating a new one.</p>\n",
    "\n",
    "<p style = 'font-size:16px;font-family:Arial;color:#00233C'><b>- **secondcolumn**</b></p>\n",
    "\n",
    "<p style = 'font-size:16px;font-family:Arial;color:#00233C'>Used only by the Wilcoxon test, the column that represents the second sample variable. It must reside in the table indicated by the tablename parameter.  Note that when pairing treatment and block column values, a division by zero error may occur if unequal cell counts are found.</p>\n",
    "\n",
    "<p style = 'font-size:16px;font-family:Arial;color:#00233C'><b>- **singletail**</b></p>\n",
    "\n",
    "<p style = 'font-size:16px;font-family:Arial;color:#00233C'>Used only by the Mann-Whitney and Wilcoxon tests.  If the Mann-Whitney test becomes a Kruskall-Wallis test, the singletail option is invalid.  By default, a two-tailed test is performed.</p>\n",
    "\n",
    "<p style = 'font-size:16px;font-family:Arial;color:#00233C'><b>- **statsdatabase**</b></p>\n",
    "\n",
    "<p style = 'font-size:16px;font-family:Arial;color:#00233C'>This is the database where the statistical test metadata tables are installed.  If not specified, the source database is searched for these metadata tables.</p>\n",
    "\n",
    "<p style = 'font-size:16px;font-family:Arial;color:#00233C'><b>- **teststyle**</b></p>\n",
    "\n",
    "<p style = 'font-size:16px;font-family:Arial;color:#00233C'>The valid values are mw, friedman and wilcoxon, representing a Mann-Whitney, Friedman or Wilcoxon test.  If not specified, the default test style is Mann-Whitney (mw).</p>\n",
    "\n",
    "<p style = 'font-size:16px;font-family:Arial;color:#00233C'><b>- **thresholdprobability**</b></p>\n",
    "\n",
    "<p style = 'font-size:16px;font-family:Arial;color:#00233C'>You may optionally change the threshold probability or allow it to default to 0.05.  Below this \"alpha\" probability the null hypothesis is rejected.</p>\n",
    "\n",
    "<p style = 'font-size:16px;font-family:Arial;color:#00233C'><b>- **treatmentcolumn**</b></p>\n",
    "\n",
    "<p style = 'font-size:16px;font-family:Arial;color:#00233C'>Used only by the Friedman test, the column that represents the independent categorical variable. They must reside in the table indicated by the tablename parameter.</p>"
   ]
  },
  {
   "cell_type": "markdown",
   "metadata": {},
   "source": [
    "<hr style=\"height:1px;border:none;background-color:#00233C;\">"
   ]
  },
  {
   "cell_type": "markdown",
   "metadata": {},
   "source": [
    "<p style = 'font-size:16px;font-family:Arial;color:#00233C'>1.  Mann-Whitney test with a threshold probability of 0.01.</p>"
   ]
  },
  {
   "cell_type": "code",
   "execution_count": 27,
   "metadata": {},
   "outputs": [
    {
     "data": {
      "text/plain": [
       "Success: 0 rows affected"
      ]
     },
     "execution_count": 27,
     "metadata": {
      "application/vnd.teradata.resultset": ""
     },
     "output_type": "execute_result"
    },
    {
     "data": {
      "application/vnd.teradata.resultset": "\"years_with_bank\",\"Z\",\"MannWhitneyPValue\",\"MannWhitneyCallP_1E-2\"\n\"12\",\"-1.5058426157251128\",\"0.132067226\",\"a\"\n\"3\",\"-1.2277790991000173\",\"0.219447096\",\"a\"\n\"4\",\"-2.1776290109979204\",\"0.029405932\",\"a\"\n\"2\",\"0.2632551342578662\",\"0.792550692\",\"a\"\n\"11\",\"-1.329063927064864\",\"0.183848096\",\"a\"\n\"10\",\"-3.2379133262969324\",\"0.001203832\",\"n\"\n\"7\",\"-3.9525279885398006\",\"7.7211e-05\",\"n\"\n\"13\",\"-0.8617464449585489\",\"0.388687424\",\"a\"\n\"14\",\"-0.49966021063014066\",\"0.617075066\",\"a\"\n\"8\",\"-3.508754308300577\",\"0.00044988199999999997\",\"n\"\n\"5\",\"-2.664446116472283\",\"0.007721844\",\"n\"\n\"6\",\"-3.644272637669378\",\"0.000268502\",\"n\"\n\"9\",\"-3.1829653140323173\",\"0.001457706\",\"n\"\n\"1\",\"-0.4469203235902225\",\"0.654875104\",\"a\"\n\"0\",\"-0.05851578448193989\",\"0.952951968\",\"a\"",
      "text/html": [
       "<div class = \"td-resultset-table-div\" style = \"max-height: 100%; overflow-y: auto\">\n",
       "      <table class=\"tdhistory859163\"><style>\n",
       "      table.tdhistory859163 { display: block !important; min-height: 399px !important; overflow: auto !important; height: 399px !important; width: 100% !important; border: 1px solid rgb(207, 207, 207) !important; border-collapse: collapse !important; ; color: var(--jp-ui-font-color1) !important; }\n",
       "      th.tdhistory859163 { border: 1px solid rgb(198,198,198) !important; border-collapse: collapse !important; ; padding: 2px 5px !important; ; font-size: 13px !important; ; text-align: center !important; white-space: normal !important; color: var(--jp-ui-font-color1) !important; }\n",
       "      th.tdhistory859163:last-child { text-align: left !important; }\n",
       "      tbody.tdhistory859163 tr:nth-child(even) { background: rgba(243, 243, 243, 0.75) !important; }\n",
       "      tbody.tdhistory859163 tr:nth-child(odd) { background: var(--jp-ui-inverse-font-color1) !important; }\n",
       "      td.tdhistory859163 { border: 1px solid rgb(207, 207, 207) !important; border-collapse: collapse !important; ; padding: 2px 5px !important; ; font-size: 13px !important; ; text-align: left !important;          white-space: nowrap !important; overflow:hidden !important; text-overflow:ellipsis !important;; }\n",
       "    </style><thead><tr style= \"background: rgba(243, 243, 243, 0.75)\"><th class=\"tdhistory859163\"></th><th class=\"tdhistory859163\">years_with_bank</th><th class=\"tdhistory859163\">Z</th><th class=\"tdhistory859163\">MannWhitneyPValue</th><th class=\"tdhistory859163\">MannWhitneyCallP_1E-2</th></tr></thead><tbody class=\"tdhistory859163 resultset-body\"><tr><th class=\"tdhistory859163\" style= \"background: rgba(243, 243, 243, 0.75)\">1</th><td class=\"tdhistory859163\">12</td><td class=\"tdhistory859163\">-1.5058426157251128</td><td class=\"tdhistory859163\">0.132067226</td><td class=\"tdhistory859163\">a</td></tr><tr><th class=\"tdhistory859163\" style= \"background: rgba(243, 243, 243, 0.75)\">2</th><td class=\"tdhistory859163\">3</td><td class=\"tdhistory859163\">-1.2277790991000173</td><td class=\"tdhistory859163\">0.219447096</td><td class=\"tdhistory859163\">a</td></tr><tr><th class=\"tdhistory859163\" style= \"background: rgba(243, 243, 243, 0.75)\">3</th><td class=\"tdhistory859163\">4</td><td class=\"tdhistory859163\">-2.1776290109979204</td><td class=\"tdhistory859163\">0.029405932</td><td class=\"tdhistory859163\">a</td></tr><tr><th class=\"tdhistory859163\" style= \"background: rgba(243, 243, 243, 0.75)\">4</th><td class=\"tdhistory859163\">2</td><td class=\"tdhistory859163\">0.2632551342578662</td><td class=\"tdhistory859163\">0.792550692</td><td class=\"tdhistory859163\">a</td></tr><tr><th class=\"tdhistory859163\" style= \"background: rgba(243, 243, 243, 0.75)\">5</th><td class=\"tdhistory859163\">11</td><td class=\"tdhistory859163\">-1.329063927064864</td><td class=\"tdhistory859163\">0.183848096</td><td class=\"tdhistory859163\">a</td></tr><tr><th class=\"tdhistory859163\" style= \"background: rgba(243, 243, 243, 0.75)\">6</th><td class=\"tdhistory859163\">10</td><td class=\"tdhistory859163\">-3.2379133262969324</td><td class=\"tdhistory859163\">0.001203832</td><td class=\"tdhistory859163\">n</td></tr><tr><th class=\"tdhistory859163\" style= \"background: rgba(243, 243, 243, 0.75)\">7</th><td class=\"tdhistory859163\">7</td><td class=\"tdhistory859163\">-3.9525279885398006</td><td class=\"tdhistory859163\">7.7211e-05</td><td class=\"tdhistory859163\">n</td></tr><tr><th class=\"tdhistory859163\" style= \"background: rgba(243, 243, 243, 0.75)\">8</th><td class=\"tdhistory859163\">13</td><td class=\"tdhistory859163\">-0.8617464449585489</td><td class=\"tdhistory859163\">0.388687424</td><td class=\"tdhistory859163\">a</td></tr><tr><th class=\"tdhistory859163\" style= \"background: rgba(243, 243, 243, 0.75)\">9</th><td class=\"tdhistory859163\">14</td><td class=\"tdhistory859163\">-0.49966021063014066</td><td class=\"tdhistory859163\">0.617075066</td><td class=\"tdhistory859163\">a</td></tr><tr><th class=\"tdhistory859163\" style= \"background: rgba(243, 243, 243, 0.75)\">10</th><td class=\"tdhistory859163\">8</td><td class=\"tdhistory859163\">-3.508754308300577</td><td class=\"tdhistory859163\">0.00044988199999999997</td><td class=\"tdhistory859163\">n</td></tr><tr><th class=\"tdhistory859163\" style= \"background: rgba(243, 243, 243, 0.75)\">11</th><td class=\"tdhistory859163\">5</td><td class=\"tdhistory859163\">-2.664446116472283</td><td class=\"tdhistory859163\">0.007721844</td><td class=\"tdhistory859163\">n</td></tr><tr><th class=\"tdhistory859163\" style= \"background: rgba(243, 243, 243, 0.75)\">12</th><td class=\"tdhistory859163\">6</td><td class=\"tdhistory859163\">-3.644272637669378</td><td class=\"tdhistory859163\">0.000268502</td><td class=\"tdhistory859163\">n</td></tr><tr><th class=\"tdhistory859163\" style= \"background: rgba(243, 243, 243, 0.75)\">13</th><td class=\"tdhistory859163\">9</td><td class=\"tdhistory859163\">-3.1829653140323173</td><td class=\"tdhistory859163\">0.001457706</td><td class=\"tdhistory859163\">n</td></tr><tr><th class=\"tdhistory859163\" style= \"background: rgba(243, 243, 243, 0.75)\">14</th><td class=\"tdhistory859163\">1</td><td class=\"tdhistory859163\">-0.4469203235902225</td><td class=\"tdhistory859163\">0.654875104</td><td class=\"tdhistory859163\">a</td></tr><tr><th class=\"tdhistory859163\" style= \"background: rgba(243, 243, 243, 0.75)\">15</th><td class=\"tdhistory859163\">0</td><td class=\"tdhistory859163\">-0.05851578448193989</td><td class=\"tdhistory859163\">0.952951968</td><td class=\"tdhistory859163\">a</td></tr></tbody></table></div>"
      ]
     },
     "execution_count": 27,
     "metadata": {
      "application/vnd.teradata.resultset": "{\"resultSetID\":\"/home/jovyan/JupyterLabRoot/Teradata/Resultsets/2024.09.06_07.23.30.521_UTC\",\"historyID\":411,\"chunkID\":\"00001\",\"sessionid\":\"\",\"portnum\":\"\",\"dockermode\":\"docker\",\"totalRowCount\":15,\"chunkCount\":0,\"rowLimit\":0,\"columnMetadata\":[{\"columnName\":\"years_with_bank\",\"columnTypeName\":\"INTEGER\"},{\"columnNumber\":1,\"columnName\":\"Z\",\"columnTypeName\":\"FLOAT\"},{\"columnNumber\":2,\"columnName\":\"MannWhitneyPValue\",\"columnTypeName\":\"FLOAT\"},{\"columnNumber\":3,\"columnName\":\"MannWhitneyCallP_1E-2\",\"columnTypeName\":\"VARCHAR\",\"length\":1,\"scale\":1}]}"
     },
     "output_type": "execute_result"
    }
   ],
   "source": [
    "call val.td_analyze('ranktest',\n",
    "                         'teststyle=mw;\n",
    "                          statsdatabase=val;\n",
    "                          database=DEMO_Financial;\n",
    "                          tablename=Customer;\n",
    "                          columnofinterest=income;\n",
    "                          columns=gender;\n",
    "                          groupby=years_with_bank;\n",
    "                          thresholdprobability=0.01;');"
   ]
  },
  {
   "cell_type": "markdown",
   "metadata": {},
   "source": [
    "<p style = 'font-size:16px;font-family:Arial;color:#00233C'>The above output has the output columns as below(If there are groupby columns, they comprise the UPI. Otherwise, Z is the UPI.)\n",
    "\n",
    "teststyle = mw (Default)</p>\n",
    "\n",
    " <table style = 'font-size:14px;font-family:Arial;color:#00233C'>\n",
    "  <tr>\n",
    "    <th>Column</th>\n",
    "    <th>DataType</th>\n",
    "    <th>Description</th>\n",
    "  </tr>\n",
    "  <tr>\n",
    "    <td>Z</td>\n",
    "    <td>Float</td>  \n",
    "    <td>Mann-Whitney Z statistic.</td>\n",
    "  </tr>\n",
    "  <tr>\n",
    "    <td>MannWhitneyPValue</td>\n",
    "    <td>Float</td>  \n",
    "    <td>Probability associated with Mann-Whitney statistic.</td>\n",
    "  </tr>\n",
    "  <tr>\n",
    "    <td>MannWhitneyCallP_0.01</td>\n",
    "    <td>Char</td>  \n",
    "    <td>Mann-Whitney result:\n",
    "        <li>a=accept null hypothesis</li>\n",
    "        <li>p=reject null hypothesis</li>\n",
    "    </td>\n",
    "  </tr>    \n",
    "</table>\n",
    "   \n",
    "<p>"
   ]
  },
  {
   "cell_type": "markdown",
   "metadata": {},
   "source": [
    "<p style = 'font-size:16px;font-family:Arial;color:#00233C'>2.  A set of Mann-Whitney independent tests.  The threshold probability assumes the default value of 0.05.</p>"
   ]
  },
  {
   "cell_type": "code",
   "execution_count": 28,
   "metadata": {},
   "outputs": [
    {
     "data": {
      "text/plain": [
       "Success: 0 rows affected"
      ]
     },
     "execution_count": 28,
     "metadata": {
      "application/vnd.teradata.resultset": ""
     },
     "output_type": "execute_result"
    },
    {
     "data": {
      "application/vnd.teradata.resultset": "\"_twm_independent_variable\",\"Z\",\"MannWhitneyPValue\",\"MannWhitneyCallP_5E-2\"\n\"female_ind                    \",\"7.771020590981125\",\"6e-07\",\"p\"\n\"sv_acct_ind\",\"9.377586778932272\",\"6e-07\",\"p\"\n\"cc_acct_ind\",\"-19.115808047105958\",\"6e-07\",\"n\"\n\"ck_acct_ind\",\"-16.06418788422782\",\"6e-07\",\"n\"",
      "text/html": [
       "<div class = \"td-resultset-table-div\" style = \"max-height: 100%; overflow-y: auto\">\n",
       "      <table class=\"tdhistory743265\"><style>\n",
       "      table.tdhistory743265 { display: block !important; min-height: 168px !important; overflow: auto !important; height: 168px !important; width: 100% !important; border: 1px solid rgb(207, 207, 207) !important; border-collapse: collapse !important; ; color: var(--jp-ui-font-color1) !important; }\n",
       "      th.tdhistory743265 { border: 1px solid rgb(198,198,198) !important; border-collapse: collapse !important; ; padding: 2px 5px !important; ; font-size: 13px !important; ; text-align: center !important; white-space: normal !important; color: var(--jp-ui-font-color1) !important; }\n",
       "      th.tdhistory743265:last-child { text-align: left !important; }\n",
       "      tbody.tdhistory743265 tr:nth-child(even) { background: rgba(243, 243, 243, 0.75) !important; }\n",
       "      tbody.tdhistory743265 tr:nth-child(odd) { background: var(--jp-ui-inverse-font-color1) !important; }\n",
       "      td.tdhistory743265 { border: 1px solid rgb(207, 207, 207) !important; border-collapse: collapse !important; ; padding: 2px 5px !important; ; font-size: 13px !important; ; text-align: left !important;          white-space: nowrap !important; overflow:hidden !important; text-overflow:ellipsis !important;; }\n",
       "    </style><thead><tr style= \"background: rgba(243, 243, 243, 0.75)\"><th class=\"tdhistory743265\"></th><th class=\"tdhistory743265\">_twm_independent_variable</th><th class=\"tdhistory743265\">Z</th><th class=\"tdhistory743265\">MannWhitneyPValue</th><th class=\"tdhistory743265\">MannWhitneyCallP_5E-2</th></tr></thead><tbody class=\"tdhistory743265 resultset-body\"><tr><th class=\"tdhistory743265\" style= \"background: rgba(243, 243, 243, 0.75)\">1</th><td class=\"tdhistory743265\">female_ind                    </td><td class=\"tdhistory743265\">7.771020590981125</td><td class=\"tdhistory743265\">6e-07</td><td class=\"tdhistory743265\">p</td></tr><tr><th class=\"tdhistory743265\" style= \"background: rgba(243, 243, 243, 0.75)\">2</th><td class=\"tdhistory743265\">sv_acct_ind</td><td class=\"tdhistory743265\">9.377586778932272</td><td class=\"tdhistory743265\">6e-07</td><td class=\"tdhistory743265\">p</td></tr><tr><th class=\"tdhistory743265\" style= \"background: rgba(243, 243, 243, 0.75)\">3</th><td class=\"tdhistory743265\">cc_acct_ind</td><td class=\"tdhistory743265\">-19.115808047105958</td><td class=\"tdhistory743265\">6e-07</td><td class=\"tdhistory743265\">n</td></tr><tr><th class=\"tdhistory743265\" style= \"background: rgba(243, 243, 243, 0.75)\">4</th><td class=\"tdhistory743265\">ck_acct_ind</td><td class=\"tdhistory743265\">-16.06418788422782</td><td class=\"tdhistory743265\">6e-07</td><td class=\"tdhistory743265\">n</td></tr></tbody></table></div>"
      ]
     },
     "execution_count": 28,
     "metadata": {
      "application/vnd.teradata.resultset": "{\"resultSetID\":\"/home/jovyan/JupyterLabRoot/Teradata/Resultsets/2024.09.06_07.23.34.918_UTC\",\"historyID\":412,\"chunkID\":\"00001\",\"sessionid\":\"\",\"portnum\":\"\",\"dockermode\":\"docker\",\"totalRowCount\":4,\"chunkCount\":0,\"rowLimit\":0,\"columnMetadata\":[{\"columnName\":\"_twm_independent_variable\",\"columnTypeName\":\"VARCHAR\",\"length\":30,\"scale\":30},{\"columnNumber\":1,\"columnName\":\"Z\",\"columnTypeName\":\"FLOAT\"},{\"columnNumber\":2,\"columnName\":\"MannWhitneyPValue\",\"columnTypeName\":\"FLOAT\"},{\"columnNumber\":3,\"columnName\":\"MannWhitneyCallP_5E-2\",\"columnTypeName\":\"VARCHAR\",\"length\":1,\"scale\":1}]}"
     },
     "output_type": "execute_result"
    }
   ],
   "source": [
    "call val.td_analyze('ranktest',\n",
    "                         'teststyle=mw;\n",
    "                          statsdatabase=val;\n",
    "                          independent=true;\n",
    "                          database=demo_user;\n",
    "                          tablename=VAL_ADS;\n",
    "                          columnofinterest=tot_income;\n",
    "                          columns=female_ind,cc_acct_ind,ck_acct_ind,sv_acct_ind; ');"
   ]
  },
  {
   "cell_type": "markdown",
   "metadata": {},
   "source": [
    "<p style = 'font-size:16px;font-family:Arial;color:#00233C'>The above output has the output columns as below(If there are groupby columns, they comprise the UPI. Otherwise, Z is the UPI.)\n",
    "The output is similar in the step above but the threshold probability is changed from 0.01 to 0.05</p>\n"
   ]
  },
  {
   "cell_type": "markdown",
   "metadata": {},
   "source": [
    "<p style = 'font-size:16px;font-family:Arial;color:#00233C'>3.  Wilcoxon Test - the threshold probability assumes the default value of 0.05.</p>"
   ]
  },
  {
   "cell_type": "code",
   "execution_count": 29,
   "metadata": {},
   "outputs": [
    {
     "data": {
      "text/plain": [
       "Success: 0 rows affected"
      ]
     },
     "execution_count": 29,
     "metadata": {
      "application/vnd.teradata.resultset": ""
     },
     "output_type": "execute_result"
    },
    {
     "data": {
      "application/vnd.teradata.resultset": "\"tot_cust_years\",\"N\",\"Z_\",\"WilcoxonPValue\",\"WilcoxonCallP_5E-2\"\n\"11\",\"315\",\"-8.214871312499245\",\"6e-07\",\"n\"\n\"13\",\"39\",\"-2.6793596002730693\",\"0.007384332\",\"n\"\n\"7\",\"918\",\"-11.640686617914307\",\"6e-07\",\"n\"\n\"5\",\"1010\",\"-16.95474369795407\",\"6e-07\",\"n\"\n\"9\",\"681\",\"-9.077457386798521\",\"6e-07\",\"n\"\n\"4\",\"977\",\"-18.779568835263486\",\"6e-07\",\"n\"\n\"0\",\"150\",\"-4.790039389110829\",\"1.669944e-06\",\"n\"\n\"14\",\"33\",\"-2.206676899498888\",\"0.027313964\",\"n\"\n\"3\",\"1003\",\"-17.354268985435144\",\"6e-07\",\"n\"\n\"1\",\"454\",\"-8.994275181286014\",\"6e-07\",\"n\"\n\"12\",\"147\",\"-4.46411081392879\",\"8.05146e-06\",\"n\"\n\"6\",\"960\",\"-14.602984867720217\",\"6e-07\",\"n\"\n\"10\",\"499\",\"-8.6585722063289\",\"6e-07\",\"n\"\n\"8\",\"804\",\"-9.852421542827756\",\"6e-07\",\"n\"\n\"2\",\"774\",\"-13.474895003968802\",\"6e-07\",\"n\"",
      "text/html": [
       "<div class = \"td-resultset-table-div\" style = \"max-height: 100%; overflow-y: auto\">\n",
       "      <table class=\"tdhistory40983\"><style>\n",
       "      table.tdhistory40983 { display: block !important; min-height: 399px !important; overflow: auto !important; height: 399px !important; width: 100% !important; border: 1px solid rgb(207, 207, 207) !important; border-collapse: collapse !important; ; color: var(--jp-ui-font-color1) !important; }\n",
       "      th.tdhistory40983 { border: 1px solid rgb(198,198,198) !important; border-collapse: collapse !important; ; padding: 2px 5px !important; ; font-size: 13px !important; ; text-align: center !important; white-space: normal !important; color: var(--jp-ui-font-color1) !important; }\n",
       "      th.tdhistory40983:last-child { text-align: left !important; }\n",
       "      tbody.tdhistory40983 tr:nth-child(even) { background: rgba(243, 243, 243, 0.75) !important; }\n",
       "      tbody.tdhistory40983 tr:nth-child(odd) { background: var(--jp-ui-inverse-font-color1) !important; }\n",
       "      td.tdhistory40983 { border: 1px solid rgb(207, 207, 207) !important; border-collapse: collapse !important; ; padding: 2px 5px !important; ; font-size: 13px !important; ; text-align: left !important;          white-space: nowrap !important; overflow:hidden !important; text-overflow:ellipsis !important;; }\n",
       "    </style><thead><tr style= \"background: rgba(243, 243, 243, 0.75)\"><th class=\"tdhistory40983\"></th><th class=\"tdhistory40983\">tot_cust_years</th><th class=\"tdhistory40983\">N</th><th class=\"tdhistory40983\">Z_</th><th class=\"tdhistory40983\">WilcoxonPValue</th><th class=\"tdhistory40983\">WilcoxonCallP_5E-2</th></tr></thead><tbody class=\"tdhistory40983 resultset-body\"><tr><th class=\"tdhistory40983\" style= \"background: rgba(243, 243, 243, 0.75)\">1</th><td class=\"tdhistory40983\">11</td><td class=\"tdhistory40983\">315</td><td class=\"tdhistory40983\">-8.214871312499245</td><td class=\"tdhistory40983\">6e-07</td><td class=\"tdhistory40983\">n</td></tr><tr><th class=\"tdhistory40983\" style= \"background: rgba(243, 243, 243, 0.75)\">2</th><td class=\"tdhistory40983\">13</td><td class=\"tdhistory40983\">39</td><td class=\"tdhistory40983\">-2.6793596002730693</td><td class=\"tdhistory40983\">0.007384332</td><td class=\"tdhistory40983\">n</td></tr><tr><th class=\"tdhistory40983\" style= \"background: rgba(243, 243, 243, 0.75)\">3</th><td class=\"tdhistory40983\">7</td><td class=\"tdhistory40983\">918</td><td class=\"tdhistory40983\">-11.640686617914307</td><td class=\"tdhistory40983\">6e-07</td><td class=\"tdhistory40983\">n</td></tr><tr><th class=\"tdhistory40983\" style= \"background: rgba(243, 243, 243, 0.75)\">4</th><td class=\"tdhistory40983\">5</td><td class=\"tdhistory40983\">1010</td><td class=\"tdhistory40983\">-16.95474369795407</td><td class=\"tdhistory40983\">6e-07</td><td class=\"tdhistory40983\">n</td></tr><tr><th class=\"tdhistory40983\" style= \"background: rgba(243, 243, 243, 0.75)\">5</th><td class=\"tdhistory40983\">9</td><td class=\"tdhistory40983\">681</td><td class=\"tdhistory40983\">-9.077457386798521</td><td class=\"tdhistory40983\">6e-07</td><td class=\"tdhistory40983\">n</td></tr><tr><th class=\"tdhistory40983\" style= \"background: rgba(243, 243, 243, 0.75)\">6</th><td class=\"tdhistory40983\">4</td><td class=\"tdhistory40983\">977</td><td class=\"tdhistory40983\">-18.779568835263486</td><td class=\"tdhistory40983\">6e-07</td><td class=\"tdhistory40983\">n</td></tr><tr><th class=\"tdhistory40983\" style= \"background: rgba(243, 243, 243, 0.75)\">7</th><td class=\"tdhistory40983\">0</td><td class=\"tdhistory40983\">150</td><td class=\"tdhistory40983\">-4.790039389110829</td><td class=\"tdhistory40983\">1.669944e-06</td><td class=\"tdhistory40983\">n</td></tr><tr><th class=\"tdhistory40983\" style= \"background: rgba(243, 243, 243, 0.75)\">8</th><td class=\"tdhistory40983\">14</td><td class=\"tdhistory40983\">33</td><td class=\"tdhistory40983\">-2.206676899498888</td><td class=\"tdhistory40983\">0.027313964</td><td class=\"tdhistory40983\">n</td></tr><tr><th class=\"tdhistory40983\" style= \"background: rgba(243, 243, 243, 0.75)\">9</th><td class=\"tdhistory40983\">3</td><td class=\"tdhistory40983\">1003</td><td class=\"tdhistory40983\">-17.354268985435144</td><td class=\"tdhistory40983\">6e-07</td><td class=\"tdhistory40983\">n</td></tr><tr><th class=\"tdhistory40983\" style= \"background: rgba(243, 243, 243, 0.75)\">10</th><td class=\"tdhistory40983\">1</td><td class=\"tdhistory40983\">454</td><td class=\"tdhistory40983\">-8.994275181286014</td><td class=\"tdhistory40983\">6e-07</td><td class=\"tdhistory40983\">n</td></tr><tr><th class=\"tdhistory40983\" style= \"background: rgba(243, 243, 243, 0.75)\">11</th><td class=\"tdhistory40983\">12</td><td class=\"tdhistory40983\">147</td><td class=\"tdhistory40983\">-4.46411081392879</td><td class=\"tdhistory40983\">8.05146e-06</td><td class=\"tdhistory40983\">n</td></tr><tr><th class=\"tdhistory40983\" style= \"background: rgba(243, 243, 243, 0.75)\">12</th><td class=\"tdhistory40983\">6</td><td class=\"tdhistory40983\">960</td><td class=\"tdhistory40983\">-14.602984867720217</td><td class=\"tdhistory40983\">6e-07</td><td class=\"tdhistory40983\">n</td></tr><tr><th class=\"tdhistory40983\" style= \"background: rgba(243, 243, 243, 0.75)\">13</th><td class=\"tdhistory40983\">10</td><td class=\"tdhistory40983\">499</td><td class=\"tdhistory40983\">-8.6585722063289</td><td class=\"tdhistory40983\">6e-07</td><td class=\"tdhistory40983\">n</td></tr><tr><th class=\"tdhistory40983\" style= \"background: rgba(243, 243, 243, 0.75)\">14</th><td class=\"tdhistory40983\">8</td><td class=\"tdhistory40983\">804</td><td class=\"tdhistory40983\">-9.852421542827756</td><td class=\"tdhistory40983\">6e-07</td><td class=\"tdhistory40983\">n</td></tr><tr><th class=\"tdhistory40983\" style= \"background: rgba(243, 243, 243, 0.75)\">15</th><td class=\"tdhistory40983\">2</td><td class=\"tdhistory40983\">774</td><td class=\"tdhistory40983\">-13.474895003968802</td><td class=\"tdhistory40983\">6e-07</td><td class=\"tdhistory40983\">n</td></tr></tbody></table></div>"
      ]
     },
     "execution_count": 29,
     "metadata": {
      "application/vnd.teradata.resultset": "{\"resultSetID\":\"/home/jovyan/JupyterLabRoot/Teradata/Resultsets/2024.09.06_07.23.36.822_UTC\",\"historyID\":413,\"chunkID\":\"00001\",\"sessionid\":\"\",\"portnum\":\"\",\"dockermode\":\"docker\",\"totalRowCount\":15,\"chunkCount\":0,\"rowLimit\":0,\"columnMetadata\":[{\"columnName\":\"tot_cust_years\",\"columnTypeName\":\"INTEGER\"},{\"columnNumber\":1,\"columnName\":\"N\",\"columnTypeName\":\"FLOAT\"},{\"columnNumber\":2,\"columnName\":\"Z_\",\"columnTypeName\":\"FLOAT\"},{\"columnNumber\":3,\"columnName\":\"WilcoxonPValue\",\"columnTypeName\":\"FLOAT\"},{\"columnNumber\":4,\"columnName\":\"WilcoxonCallP_5E-2\",\"columnTypeName\":\"VARCHAR\",\"length\":1,\"scale\":1}]}"
     },
     "output_type": "execute_result"
    }
   ],
   "source": [
    "call val.td_analyze('ranktest',\n",
    "                         'teststyle=wilcoxon;\n",
    "                          statsdatabase=val;\n",
    "                          database=demo_user;\n",
    "                          tablename=VAL_ADS;\n",
    "                          firstcolumn=ck_avg_bal;\n",
    "                          secondcolumn=sv_avg_bal;\n",
    "                          groupby=tot_cust_years; ');"
   ]
  },
  {
   "cell_type": "markdown",
   "metadata": {},
   "source": [
    "<p style = 'font-size:16px;font-family:Arial;color:#00233C'>The above output has the output columns as below(If there are groupby columns, they comprise the UPI. Otherwise, Z_ is the UPI.)\n",
    "\n",
    "teststyle = wilcoxon</p>\n",
    "\n",
    " <table style = 'font-size:14px;font-family:Arial;color:#00233C'>\n",
    "  <tr>\n",
    "    <th>Column</th>\n",
    "    <th>DataType</th>\n",
    "    <th>Description</th>\n",
    "  </tr>\n",
    "  <tr>\n",
    "    <td>N</td>\n",
    "    <td>Integer</td>  \n",
    "    <td>Variable count.</td>\n",
    "  </tr>\n",
    "  <tr>\n",
    "    <td>Z_</td>\n",
    "    <td>Float</td>  \n",
    "    <td>Mann-Whitney Z statistic.</td>\n",
    "  </tr>\n",
    "  <tr>\n",
    "    <td>WilcoxonPValue</td>\n",
    "    <td>Float</td>  \n",
    "    <td>Probability associated with Wilcoxon statistic.</td>\n",
    "  </tr>  \n",
    "  <tr>\n",
    "    <td>WilcoxonCallP_0.05</td>\n",
    "    <td>Char</td>  \n",
    "    <td>Wilcoxon result:\n",
    "        <li>a=accept null hypothesis</li>\n",
    "        <li>p=reject null hypothesis(positive)</li>\n",
    "        <li>n=reject null hypothesis(negative)</li>\n",
    "    </td>\n",
    "  </tr>    \n",
    "</table>\n",
    "   \n",
    "<p>"
   ]
  },
  {
   "cell_type": "markdown",
   "metadata": {},
   "source": [
    "<p style = 'font-size:16px;font-family:Arial;color:#00233C'>4.  A Friedman Test using a specially prepared input table called VAL_Friedman_WorkTable.  To build the VALFriedmanWorkTable, the following SQL may be used.  Note that the value ‘18’ is the smallest count of value combinations in the gender and marital_status columns in the Customer table.  The value '18'  is determined using the following query:</p>"
   ]
  },
  {
   "cell_type": "code",
   "execution_count": 30,
   "metadata": {},
   "outputs": [
    {
     "data": {
      "application/vnd.teradata.resultset": "\"smallest_count\"\n\"252\"",
      "text/html": [
       "<div class = \"td-resultset-table-div\" style = \"max-height: 100%; overflow-y: auto\">\n",
       "      <table class=\"tdhistory736663\"><style>\n",
       "      table.tdhistory736663 { display: block !important; min-height: 105px !important; overflow: auto !important; height: 105px !important; width: 100% !important; border: 1px solid rgb(207, 207, 207) !important; border-collapse: collapse !important; ; color: var(--jp-ui-font-color1) !important; }\n",
       "      th.tdhistory736663 { border: 1px solid rgb(198,198,198) !important; border-collapse: collapse !important; ; padding: 2px 5px !important; ; font-size: 13px !important; ; text-align: center !important; white-space: normal !important; color: var(--jp-ui-font-color1) !important; }\n",
       "      th.tdhistory736663:last-child { text-align: left !important; }\n",
       "      tbody.tdhistory736663 tr:nth-child(even) { background: rgba(243, 243, 243, 0.75) !important; }\n",
       "      tbody.tdhistory736663 tr:nth-child(odd) { background: var(--jp-ui-inverse-font-color1) !important; }\n",
       "      td.tdhistory736663 { border: 1px solid rgb(207, 207, 207) !important; border-collapse: collapse !important; ; padding: 2px 5px !important; ; font-size: 13px !important; ; text-align: left !important;          white-space: nowrap !important; overflow:hidden !important; text-overflow:ellipsis !important;; }\n",
       "    </style><thead><tr style= \"background: rgba(243, 243, 243, 0.75)\"><th class=\"tdhistory736663\"></th><th class=\"tdhistory736663\">smallest_count</th></tr></thead><tbody class=\"tdhistory736663 resultset-body\"><tr><th class=\"tdhistory736663\" style= \"background: rgba(243, 243, 243, 0.75)\">1</th><td class=\"tdhistory736663\">252</td></tr></tbody></table></div>"
      ]
     },
     "execution_count": 30,
     "metadata": {
      "application/vnd.teradata.resultset": "{\"resultSetID\":\"/home/jovyan/JupyterLabRoot/Teradata/Resultsets/2024.09.06_07.23.36.921_UTC\",\"historyID\":414,\"chunkID\":\"00001\",\"sessionid\":\"\",\"portnum\":\"\",\"dockermode\":\"docker\",\"totalRowCount\":1,\"chunkCount\":0,\"rowLimit\":0,\"columnMetadata\":[{\"columnName\":\"smallest_count\",\"columnTypeName\":\"INTEGER\"}]}"
     },
     "output_type": "execute_result"
    }
   ],
   "source": [
    "SELECT \n",
    "     MIN(\"T0\".\"_val_N\") AS \"smallest_count\"\n",
    "FROM \n",
    "( SELECT \n",
    "     \"S0\".\"marital_status\" AS \"marital_status\"\n",
    "    ,\"S0\".\"gender\" AS \"gender\"\n",
    "    ,COUNT(*) AS \"_val_N\"\n",
    "FROM \"DEMO_Financial\".\"Customer\" AS \"S0\"\n",
    "GROUP BY \"S0\".\"marital_status\", \"S0\".\"gender\"\n",
    ") AS \"T0\"\n",
    ";"
   ]
  },
  {
   "cell_type": "code",
   "execution_count": 31,
   "metadata": {},
   "outputs": [
    {
     "data": {
      "text/plain": [
       "Success: 0 rows affected"
      ]
     },
     "execution_count": 31,
     "metadata": {
      "application/vnd.teradata.resultset": ""
     },
     "output_type": "execute_result"
    }
   ],
   "source": [
    "CREATE SET TABLE \"demo_user\".\"VAL_Friedman_Worktable\" AS (\n",
    "SELECT\n",
    "    \"cust_id\"\n",
    "    ,\"gender\"\n",
    "    ,\"marital_status\"\n",
    "    ,\"income\"\n",
    "    ,\"ckacct\"\n",
    "    ,\"svacct\"\n",
    "    ,SAMPLEID AS \"xSampleId\"\n",
    "FROM \"DEMO_Financial\".\"Customer_Analysis\"\n",
    "SAMPLE \n",
    "    WHEN gender='f' and marital_status='1' THEN 18\n",
    "    WHEN gender='f' and marital_status='2' THEN 18\n",
    "    WHEN gender='f' and marital_status='3' THEN 18\n",
    "    WHEN gender='f' and marital_status='4' THEN 18\n",
    "    WHEN gender='m' and marital_status='1' THEN 18\n",
    "    WHEN gender='m' and marital_status='2' THEN 18\n",
    "    WHEN gender='m' and marital_status='3' THEN 18\n",
    "    WHEN gender='m' and marital_status='4' THEN 18\n",
    "END\n",
    ") WITH DATA PRIMARY INDEX(\"cust_id\");"
   ]
  },
  {
   "cell_type": "code",
   "execution_count": 32,
   "metadata": {},
   "outputs": [
    {
     "data": {
      "text/plain": [
       "Success: 0 rows affected"
      ]
     },
     "execution_count": 32,
     "metadata": {
      "application/vnd.teradata.resultset": ""
     },
     "output_type": "execute_result"
    },
    {
     "data": {
      "application/vnd.teradata.resultset": "\"Kendalls_W\",\"Average_Spearmans_Rho\",\"DF_1\",\"DF_2\",\"F\",\"FriedmanPValue\",\"FriedmanPText\",\"FriedmanCallP_5E-2\"\n\"0.7658738161972827\",\"0.7766607713549909\",\"1\",\"71\",\"232.25527391599653\",\"0.001\",\"<0.001\",\"p\"",
      "text/html": [
       "<div class = \"td-resultset-table-div\" style = \"max-height: 100%; overflow-y: auto\">\n",
       "      <table class=\"tdhistory571798\"><style>\n",
       "      table.tdhistory571798 { display: block !important; min-height: 105px !important; overflow: auto !important; height: 105px !important; width: 100% !important; border: 1px solid rgb(207, 207, 207) !important; border-collapse: collapse !important; ; color: var(--jp-ui-font-color1) !important; }\n",
       "      th.tdhistory571798 { border: 1px solid rgb(198,198,198) !important; border-collapse: collapse !important; ; padding: 2px 5px !important; ; font-size: 13px !important; ; text-align: center !important; white-space: normal !important; color: var(--jp-ui-font-color1) !important; }\n",
       "      th.tdhistory571798:last-child { text-align: left !important; }\n",
       "      tbody.tdhistory571798 tr:nth-child(even) { background: rgba(243, 243, 243, 0.75) !important; }\n",
       "      tbody.tdhistory571798 tr:nth-child(odd) { background: var(--jp-ui-inverse-font-color1) !important; }\n",
       "      td.tdhistory571798 { border: 1px solid rgb(207, 207, 207) !important; border-collapse: collapse !important; ; padding: 2px 5px !important; ; font-size: 13px !important; ; text-align: left !important;          white-space: nowrap !important; overflow:hidden !important; text-overflow:ellipsis !important;; }\n",
       "    </style><thead><tr style= \"background: rgba(243, 243, 243, 0.75)\"><th class=\"tdhistory571798\"></th><th class=\"tdhistory571798\">Kendalls_W</th><th class=\"tdhistory571798\">Average_Spearmans_Rho</th><th class=\"tdhistory571798\">DF_1</th><th class=\"tdhistory571798\">DF_2</th><th class=\"tdhistory571798\">F</th><th class=\"tdhistory571798\">FriedmanPValue</th><th class=\"tdhistory571798\">FriedmanPText</th><th class=\"tdhistory571798\">FriedmanCallP_5E-2</th></tr></thead><tbody class=\"tdhistory571798 resultset-body\"><tr><th class=\"tdhistory571798\" style= \"background: rgba(243, 243, 243, 0.75)\">1</th><td class=\"tdhistory571798\">0.7658738161972827</td><td class=\"tdhistory571798\">0.7766607713549909</td><td class=\"tdhistory571798\">1</td><td class=\"tdhistory571798\">71</td><td class=\"tdhistory571798\">232.25527391599653</td><td class=\"tdhistory571798\">0.001</td><td class=\"tdhistory571798\"><0.001</td><td class=\"tdhistory571798\">p</td></tr></tbody></table></div>"
      ]
     },
     "execution_count": 32,
     "metadata": {
      "application/vnd.teradata.resultset": "{\"resultSetID\":\"/home/jovyan/JupyterLabRoot/Teradata/Resultsets/2024.09.06_07.23.38.857_UTC\",\"historyID\":416,\"chunkID\":\"00001\",\"sessionid\":\"\",\"portnum\":\"\",\"dockermode\":\"docker\",\"totalRowCount\":1,\"chunkCount\":0,\"rowLimit\":0,\"columnMetadata\":[{\"columnName\":\"Kendalls_W\",\"columnTypeName\":\"FLOAT\"},{\"columnNumber\":1,\"columnName\":\"Average_Spearmans_Rho\",\"columnTypeName\":\"FLOAT\"},{\"columnNumber\":2,\"columnName\":\"DF_1\",\"columnTypeName\":\"INTEGER\"},{\"columnNumber\":3,\"columnName\":\"DF_2\",\"columnTypeName\":\"INTEGER\"},{\"columnNumber\":4,\"columnName\":\"F\",\"columnTypeName\":\"FLOAT\"},{\"columnNumber\":5,\"columnName\":\"FriedmanPValue\",\"columnTypeName\":\"FLOAT\"},{\"columnNumber\":6,\"columnName\":\"FriedmanPText\",\"columnTypeName\":\"VARCHAR\",\"length\":6,\"scale\":6},{\"columnNumber\":7,\"columnName\":\"FriedmanCallP_5E-2\",\"columnTypeName\":\"VARCHAR\",\"length\":1,\"scale\":1}]}"
     },
     "output_type": "execute_result"
    }
   ],
   "source": [
    "call val.td_analyze('ranktest',\n",
    "                         'teststyle=friedman;\n",
    "                          statsdatabase=val;\n",
    "                          database=demo_user;\n",
    "                          tablename=VAL_Friedman_Worktable;\n",
    "                          columnofinterest=income;\n",
    "                          treatmentcolumn=gender;\n",
    "                          blockcolumn=marital_status;');"
   ]
  },
  {
   "cell_type": "markdown",
   "metadata": {},
   "source": [
    "<p style = 'font-size:16px;font-family:Arial;color:#00233C'>The above output has the output columns as below(If there are groupby columns, they comprise the UPI. Otherwise, Kendalls_W is the UPI.)\n",
    "\n",
    "teststyle = friedman</p>\n",
    "\n",
    " <table style = 'font-size:14px;font-family:Arial;color:#00233C'>\n",
    "  <tr>\n",
    "    <th>Column</th>\n",
    "    <th>DataType</th>\n",
    "    <th>Description</th>\n",
    "  </tr>\n",
    "  <tr>\n",
    "    <td>Kendalls_W</td>\n",
    "    <td>Float</td>  \n",
    "    <td>Kendall's W statistic.</td>\n",
    "  </tr>\n",
    "  <tr>\n",
    "    <td>Average_Spearmans_Rho</td>\n",
    "    <td>Float</td>  \n",
    "    <td>Average Spearman's Rho.</td>\n",
    "  </tr>\n",
    "  <tr>\n",
    "    <td>DF_1</td>\n",
    "    <td>Integer</td>  \n",
    "    <td>Degrees of freedom for treatments.</td>\n",
    "  </tr> \n",
    "  <tr>\n",
    "    <td>DF_2</td>\n",
    "    <td>Integer</td>  \n",
    "    <td>Degrees of freedom for blocks.</td>\n",
    "  </tr> \n",
    "  <tr>\n",
    "    <td>F</td>\n",
    "    <td>Float</td>  \n",
    "    <td>2-way ANOVA F statistic on ranks.</td>\n",
    "  </tr>\n",
    "  <tr>\n",
    "    <td>FriedmanPValue</td>\n",
    "    <td>Float</td>  \n",
    "    <td>Probability associated with Friedman statistic.</td>\n",
    "  </tr>\n",
    "  <tr>\n",
    "    <td>FriedmanPText</td>\n",
    "    <td>Char</td>  \n",
    "    <td>Text description of probability if out of table range.</td>\n",
    "  </tr>\n",
    "  <tr>\n",
    "    <td>FriedmanCallP_0.05</td>\n",
    "    <td>Char</td>  \n",
    "    <td>Friedman result:\n",
    "        <li>a=accept null hypothesis</li>\n",
    "        <li>p=reject null hypothesis(positive)</li>\n",
    "        <li>n=reject null hypothesis(negative)</li>\n",
    "    </td>\n",
    "  </tr>    \n",
    "</table>\n",
    "   \n",
    "<p>"
   ]
  },
  {
   "cell_type": "markdown",
   "metadata": {},
   "source": [
    "<hr style=\"height:2px;border:none;background-color:#00233C;\">"
   ]
  },
  {
   "cell_type": "markdown",
   "metadata": {},
   "source": [
    "<p style = 'font-size:20px;font-family:Arial;color:#00233C'><b>8. Chi Square Tests</b></p>\n",
    "\n",
    "<p style = 'font-size:16px;font-family:Arial;color:#00233C'><b>Purpose</b></p>\n",
    "\n",
    "<p style = 'font-size:16px;font-family:Arial;color:#00233C'>Statistical tests of this type are based on a matrix of frequencies or counts.  A frequency pattern that is non-random is sought in the matrix.  Supported tests of this type include the following:\n",
    "\n",
    "<li>Chi Square Test</li>\n",
    "</p>\n",
    "\n",
    "<p style = 'font-size:16px;font-family:Arial;color:#00233C'>Besides a Chi Square value, other measures are computed in a Chi Square Test, including a Phi Coefficient,  Cramer’s V, Likelihood Ratio Chi Square, Continuity-Adjusted Chi Square and Contingency Coefficient.\n",
    "\n",
    "<li>Median Test</li>\n",
    "</p>\n",
    "    \n",
    "<p style = 'font-size:16px;font-family:Arial;color:#00233C'>A Median Test is a variation of Chi Square Test wherein samples are tested to see if their populations have the same median value.</p>\n",
    "\n",
    "<p style = 'font-size:16px;font-family:Arial;color:#00233C'><b>Required Parameters</b></p>\n",
    "\n",
    "<p style = 'font-size:16px;font-family:Arial;color:#00233C'><b>- **chisquaretest**</b></p>\n",
    "\n",
    "<p style = 'font-size:16px;font-family:Arial;color:#00233C'>The chisquaretest parameter:\n",
    "    \n",
    "<li>Is required</li>\n",
    "<li>Must be the first parameter</li>\n",
    "<li>Is always enclosed in single quotes</li>\n",
    "</p>\n",
    "\n",
    "<p style = 'font-size:16px;font-family:Arial;color:#00233C'><b>- **database**</b></p>\n",
    "\n",
    "<p style = 'font-size:16px;font-family:Arial;color:#00233C'>The database containing the table to analyze.</p>\n",
    "\n",
    "<p style = 'font-size:16px;font-family:Arial;color:#00233C'><b>- **tablename**</b></p>\n",
    "\n",
    "<p style = 'font-size:16px;font-family:Arial;color:#00233C'>The table containing the columns to analyze.  It must reside in the database indicated by the database parameter.</p>\n",
    "\n",
    "<p style = 'font-size:16px;font-family:Arial;color:#00233C'><b>Optional Parameters</b></p>\n",
    "\n",
    "<p style = 'font-size:16px;font-family:Arial;color:#00233C'><b>- **columnofinterest**</b></p>\n",
    "\n",
    "<p style = 'font-size:16px;font-family:Arial;color:#00233C'>Used only by the Median Test, the column specified with this parameter indicates the dependent variable (numeric).  It must reside in the table indicated by the tablename parameter.</p>\n",
    "\n",
    "<p style = 'font-size:16px;font-family:Arial;color:#00233C'><b>- **columns**</b></p>\n",
    "\n",
    "<p style = 'font-size:16px;font-family:Arial;color:#00233C'>Used only by the Median Test, the columns specified with this parameter represent the independent variables (categorical). They must reside in the table indicated by the tablename parameter.</p>\n",
    "\n",
    "<p style = 'font-size:16px;font-family:Arial;color:#00233C'><b>- **fallback**</b></p>\n",
    "\n",
    "<p style = 'font-size:16px;font-family:Arial;color:#00233C'>When true, FALLBACK is requested as an attribute of the created output results table.  When false or parameter not specified, the FALLBACK attribute is not included in the create table SQL.</p>\n",
    "\n",
    "<p style = 'font-size:16px;font-family:Arial;color:#00233C'><b>- **firstcolumns**</b></p>\n",
    "\n",
    "<p style = 'font-size:16px;font-family:Arial;color:#00233C'>Used only by the Chi Square Test, one or more columns representing the first of variable pairs for analysis. They must reside in the table indicated by the tablename parameter.  Note that the number of combinations of firstcolumns and secondcolumns may not exceed 100.  Note also that if the product of the number distinct values in these column pairs exceeds 2000, the analysis of that combination is skipped (but not if gensqlonly is true).</p>\n",
    "\n",
    "<p style = 'font-size:16px;font-family:Arial;color:#00233C'><b>- **gensqlonly**</b></p>\n",
    "\n",
    "<p style = 'font-size:16px;font-family:Arial;color:#00233C'>When true, the SQL for the requested function is returned as a result set but not run. When not specified or set to false, the SQL is run but not returned.</p>\n",
    "\n",
    "<p style = 'font-size:16px;font-family:Arial;color:#00233C'><b>- **groupby**</b></p>\n",
    "\n",
    "<p style = 'font-size:16px;font-family:Arial;color:#00233C'>Available only in the Median Test, one or more group-by columns may optionally be specified so that a separate result is produced for each value or combination of values in the specified column or columns.</p>\n",
    "\n",
    "<p style = 'font-size:16px;font-family:Arial;color:#00233C'><b>- **multiset**</b></p>\n",
    "\n",
    "<p style = 'font-size:16px;font-family:Arial;color:#00233C'>When true, MULTISET is requested as an attribute of the created output results table.  When false or parameter not specified, the MULTISET attribute is not included in the create table SQL.</p>\n",
    "\n",
    "<p style = 'font-size:16px;font-family:Arial;color:#00233C'><b>- **outputdatabase**</b></p>\n",
    "\n",
    "<p style = 'font-size:16px;font-family:Arial;color:#00233C'>Specifies the name of the database to contain the analysis results table.</p>\n",
    "\n",
    "<p style = 'font-size:16px;font-family:Arial;color:#00233C'><b>- **outputtablename**</b></p>\n",
    "\n",
    "<p style = 'font-size:16px;font-family:Arial;color:#00233C'>Specifies the name of the table to store the analysis results. If not supplied, the results are returned as a result set.</p>\n",
    "\n",
    "<p style = 'font-size:16px;font-family:Arial;color:#00233C'><b>- **overwrite**</b></p>\n",
    "\n",
    "<p style = 'font-size:16px;font-family:Arial;color:#00233C'>When overwrite is set to true or not set, the output table is dropped before creating a new one.</p>\n",
    "\n",
    "<p style = 'font-size:16px;font-family:Arial;color:#00233C'><b>- **secondcolumns**</b></p>\n",
    "\n",
    "<p style = 'font-size:16px;font-family:Arial;color:#00233C'>Used only by the Chi Square Test, one or more columns representing the second of variable pairs for analysis. They must reside in the table indicated by the tablename parameter.  Note that the number of combinations of firstcolumns and secondcolumns may not exceed 100.  Note also that if the product of the number distinct values in these column pairs exceeds 2000, the analysis of that combination is skipped (but not if gensqlonly is true).</p>\n",
    "\n",
    "<p style = 'font-size:16px;font-family:Arial;color:#00233C'><b>- **statsdatabase**</b></p>\n",
    "\n",
    "<p style = 'font-size:16px;font-family:Arial;color:#00233C'>This is the database where the statistical test metadata tables are installed.  If not specified, the source database is searched for these metadata tables.</p>\n",
    "\n",
    "<p style = 'font-size:16px;font-family:Arial;color:#00233C'><b>- **teststyle**</b></p>\n",
    "\n",
    "<p style = 'font-size:16px;font-family:Arial;color:#00233C'>The valid values are chisq and median, representing a Chi Square or Median test.  If not specified, the default test style is Chi Square (chisq).</p>\n",
    "\n",
    "<p style = 'font-size:16px;font-family:Arial;color:#00233C'><b>- **thresholdprobability**</b></p>\n",
    "\n",
    "<p style = 'font-size:16px;font-family:Arial;color:#00233C'>You may optionally change the threshold probability or allow it to default to 0.05.  Below this \"alpha\" probability the null hypothesis is rejected.</p>"
   ]
  },
  {
   "cell_type": "markdown",
   "metadata": {},
   "source": [
    "<hr style=\"height:1px;border:none;background-color:#00233C;\">"
   ]
  },
  {
   "cell_type": "markdown",
   "metadata": {},
   "source": [
    "<p style = 'font-size:16px;font-family:Arial;color:#00233C'>1.  Chi Square Test with non-persisted results.</p>"
   ]
  },
  {
   "cell_type": "code",
   "execution_count": 33,
   "metadata": {},
   "outputs": [
    {
     "data": {
      "text/plain": [
       "Success: 0 rows affected"
      ]
     },
     "execution_count": 33,
     "metadata": {
      "application/vnd.teradata.resultset": ""
     },
     "output_type": "execute_result"
    },
    {
     "data": {
      "application/vnd.teradata.resultset": "\"column1\",\"column2\",\"Chisq\",\"DF\",\"Z\",\"CramersV\",\"PhiCoeff\",\"LlhChiSq\",\"ContAdjChiSq\",\"ContinCoeff\",\"ChiPValue\",\"ChiPText\",\"ChiCallP_5E-2\"\n\"female_ind\",\"ck_acct_ind\",\"51.96329114361818\",\"1\",\"6.266072413236709\",\"0.07048943119690093\",\"0.07048943119690093\",\"51.79027403137195\",\"51.65502985345838\",\"0.07031495858282666\",\"0.0001\",\"<0.0001\",\"p\"\n\"single_ind\",\"sv_acct_ind\",\"111.33800714811453\",\"1\",\"8.555265794438734\",\"0.10318044653217087\",\"0.10318044653217087\",\"112.15138339109859\",\"110.90737820419025\",\"0.10263555340590277\",\"0.0001\",\"<0.0001\",\"p\"\n\"female_ind\",\"sv_acct_ind\",\"73.52013882165669\",\"1\",\"7.23680826136689\",\"0.08384532268145405\",\"0.08384532268145405\",\"73.48997707707434\",\"73.17998066361037\",\"0.08355214963436529\",\"0.0001\",\"<0.0001\",\"p\"\n\"single_ind\",\"cc_acct_ind\",\"21.541917084755497\",\"1\",\"4.252562129760672\",\"0.04538557648792909\",\"0.04538557648792909\",\"21.461624947837834\",\"21.347967794596414\",\"0.04533890482563551\",\"0.0001\",\"<0.0001\",\"p\"\n\"single_ind\",\"ck_acct_ind\",\"3.722261430607426\",\"1\",\"1.6376557333933495\",\"0.018865969038997184\",\"0.018865969038997184\",\"3.7119507979566606\",\"3.6377618158186986\",\"0.018862612501963423\",\"0.055246604425102215\",\"\",\"a\"\n\"female_ind\",\"cc_acct_ind\",\"84.45466569698048\",\"1\",\"7.657179013939365\",\"0.08986436396365856\",\"0.08986436396365856\",\"84.2873938591323\",\"84.08086832585147\",\"0.08950369247502081\",\"0.0001\",\"<0.0001\",\"p\"",
      "text/html": [
       "<div class = \"td-resultset-table-div\" style = \"max-height: 100%; overflow-y: auto\">\n",
       "      <table class=\"tdhistory884432\"><style>\n",
       "      table.tdhistory884432 { display: block !important; min-height: 210px !important; overflow: auto !important; height: 210px !important; width: 100% !important; border: 1px solid rgb(207, 207, 207) !important; border-collapse: collapse !important; ; color: var(--jp-ui-font-color1) !important; }\n",
       "      th.tdhistory884432 { border: 1px solid rgb(198,198,198) !important; border-collapse: collapse !important; ; padding: 2px 5px !important; ; font-size: 13px !important; ; text-align: center !important; white-space: normal !important; color: var(--jp-ui-font-color1) !important; }\n",
       "      th.tdhistory884432:last-child { text-align: left !important; }\n",
       "      tbody.tdhistory884432 tr:nth-child(even) { background: rgba(243, 243, 243, 0.75) !important; }\n",
       "      tbody.tdhistory884432 tr:nth-child(odd) { background: var(--jp-ui-inverse-font-color1) !important; }\n",
       "      td.tdhistory884432 { border: 1px solid rgb(207, 207, 207) !important; border-collapse: collapse !important; ; padding: 2px 5px !important; ; font-size: 13px !important; ; text-align: left !important;          white-space: nowrap !important; overflow:hidden !important; text-overflow:ellipsis !important;; }\n",
       "    </style><thead><tr style= \"background: rgba(243, 243, 243, 0.75)\"><th class=\"tdhistory884432\"></th><th class=\"tdhistory884432\">column1</th><th class=\"tdhistory884432\">column2</th><th class=\"tdhistory884432\">Chisq</th><th class=\"tdhistory884432\">DF</th><th class=\"tdhistory884432\">Z</th><th class=\"tdhistory884432\">CramersV</th><th class=\"tdhistory884432\">PhiCoeff</th><th class=\"tdhistory884432\">LlhChiSq</th><th class=\"tdhistory884432\">ContAdjChiSq</th><th class=\"tdhistory884432\">ContinCoeff</th><th class=\"tdhistory884432\">ChiPValue</th><th class=\"tdhistory884432\">ChiPText</th><th class=\"tdhistory884432\">ChiCallP_5E-2</th></tr></thead><tbody class=\"tdhistory884432 resultset-body\"><tr><th class=\"tdhistory884432\" style= \"background: rgba(243, 243, 243, 0.75)\">1</th><td class=\"tdhistory884432\">female_ind</td><td class=\"tdhistory884432\">ck_acct_ind</td><td class=\"tdhistory884432\">51.96329114361818</td><td class=\"tdhistory884432\">1</td><td class=\"tdhistory884432\">6.266072413236709</td><td class=\"tdhistory884432\">0.07048943119690093</td><td class=\"tdhistory884432\">0.07048943119690093</td><td class=\"tdhistory884432\">51.79027403137195</td><td class=\"tdhistory884432\">51.65502985345838</td><td class=\"tdhistory884432\">0.07031495858282666</td><td class=\"tdhistory884432\">0.0001</td><td class=\"tdhistory884432\"><0.0001</td><td class=\"tdhistory884432\">p</td></tr><tr><th class=\"tdhistory884432\" style= \"background: rgba(243, 243, 243, 0.75)\">2</th><td class=\"tdhistory884432\">single_ind</td><td class=\"tdhistory884432\">sv_acct_ind</td><td class=\"tdhistory884432\">111.33800714811453</td><td class=\"tdhistory884432\">1</td><td class=\"tdhistory884432\">8.555265794438734</td><td class=\"tdhistory884432\">0.10318044653217087</td><td class=\"tdhistory884432\">0.10318044653217087</td><td class=\"tdhistory884432\">112.15138339109859</td><td class=\"tdhistory884432\">110.90737820419025</td><td class=\"tdhistory884432\">0.10263555340590277</td><td class=\"tdhistory884432\">0.0001</td><td class=\"tdhistory884432\"><0.0001</td><td class=\"tdhistory884432\">p</td></tr><tr><th class=\"tdhistory884432\" style= \"background: rgba(243, 243, 243, 0.75)\">3</th><td class=\"tdhistory884432\">female_ind</td><td class=\"tdhistory884432\">sv_acct_ind</td><td class=\"tdhistory884432\">73.52013882165669</td><td class=\"tdhistory884432\">1</td><td class=\"tdhistory884432\">7.23680826136689</td><td class=\"tdhistory884432\">0.08384532268145405</td><td class=\"tdhistory884432\">0.08384532268145405</td><td class=\"tdhistory884432\">73.48997707707434</td><td class=\"tdhistory884432\">73.17998066361037</td><td class=\"tdhistory884432\">0.08355214963436529</td><td class=\"tdhistory884432\">0.0001</td><td class=\"tdhistory884432\"><0.0001</td><td class=\"tdhistory884432\">p</td></tr><tr><th class=\"tdhistory884432\" style= \"background: rgba(243, 243, 243, 0.75)\">4</th><td class=\"tdhistory884432\">single_ind</td><td class=\"tdhistory884432\">cc_acct_ind</td><td class=\"tdhistory884432\">21.541917084755497</td><td class=\"tdhistory884432\">1</td><td class=\"tdhistory884432\">4.252562129760672</td><td class=\"tdhistory884432\">0.04538557648792909</td><td class=\"tdhistory884432\">0.04538557648792909</td><td class=\"tdhistory884432\">21.461624947837834</td><td class=\"tdhistory884432\">21.347967794596414</td><td class=\"tdhistory884432\">0.04533890482563551</td><td class=\"tdhistory884432\">0.0001</td><td class=\"tdhistory884432\"><0.0001</td><td class=\"tdhistory884432\">p</td></tr><tr><th class=\"tdhistory884432\" style= \"background: rgba(243, 243, 243, 0.75)\">5</th><td class=\"tdhistory884432\">single_ind</td><td class=\"tdhistory884432\">ck_acct_ind</td><td class=\"tdhistory884432\">3.722261430607426</td><td class=\"tdhistory884432\">1</td><td class=\"tdhistory884432\">1.6376557333933495</td><td class=\"tdhistory884432\">0.018865969038997184</td><td class=\"tdhistory884432\">0.018865969038997184</td><td class=\"tdhistory884432\">3.7119507979566606</td><td class=\"tdhistory884432\">3.6377618158186986</td><td class=\"tdhistory884432\">0.018862612501963423</td><td class=\"tdhistory884432\">0.055246604425102215</td><td class=\"tdhistory884432\"></td><td class=\"tdhistory884432\">a</td></tr><tr><th class=\"tdhistory884432\" style= \"background: rgba(243, 243, 243, 0.75)\">6</th><td class=\"tdhistory884432\">female_ind</td><td class=\"tdhistory884432\">cc_acct_ind</td><td class=\"tdhistory884432\">84.45466569698048</td><td class=\"tdhistory884432\">1</td><td class=\"tdhistory884432\">7.657179013939365</td><td class=\"tdhistory884432\">0.08986436396365856</td><td class=\"tdhistory884432\">0.08986436396365856</td><td class=\"tdhistory884432\">84.2873938591323</td><td class=\"tdhistory884432\">84.08086832585147</td><td class=\"tdhistory884432\">0.08950369247502081</td><td class=\"tdhistory884432\">0.0001</td><td class=\"tdhistory884432\"><0.0001</td><td class=\"tdhistory884432\">p</td></tr></tbody></table></div>"
      ]
     },
     "execution_count": 33,
     "metadata": {
      "application/vnd.teradata.resultset": "{\"resultSetID\":\"/home/jovyan/JupyterLabRoot/Teradata/Resultsets/2024.09.06_07.23.46.736_UTC\",\"historyID\":417,\"chunkID\":\"00001\",\"sessionid\":\"\",\"portnum\":\"\",\"dockermode\":\"docker\",\"totalRowCount\":6,\"chunkCount\":0,\"rowLimit\":0,\"columnMetadata\":[{\"columnName\":\"column1\",\"columnTypeName\":\"VARCHAR\",\"length\":256,\"scale\":256},{\"columnNumber\":1,\"columnName\":\"column2\",\"columnTypeName\":\"VARCHAR\",\"length\":256,\"scale\":256},{\"columnNumber\":2,\"columnName\":\"Chisq\",\"columnTypeName\":\"FLOAT\"},{\"columnNumber\":3,\"columnName\":\"DF\",\"columnTypeName\":\"BIGINT\"},{\"columnNumber\":4,\"columnName\":\"Z\",\"columnTypeName\":\"FLOAT\"},{\"columnNumber\":5,\"columnName\":\"CramersV\",\"columnTypeName\":\"FLOAT\"},{\"columnNumber\":6,\"columnName\":\"PhiCoeff\",\"columnTypeName\":\"FLOAT\"},{\"columnNumber\":7,\"columnName\":\"LlhChiSq\",\"columnTypeName\":\"FLOAT\"},{\"columnNumber\":8,\"columnName\":\"ContAdjChiSq\",\"columnTypeName\":\"FLOAT\"},{\"columnNumber\":9,\"columnName\":\"ContinCoeff\",\"columnTypeName\":\"FLOAT\"},{\"columnNumber\":10,\"columnName\":\"ChiPValue\",\"columnTypeName\":\"FLOAT\"},{\"columnNumber\":11,\"columnName\":\"ChiPText\",\"columnTypeName\":\"VARCHAR\",\"length\":7,\"scale\":7},{\"columnNumber\":12,\"columnName\":\"ChiCallP_5E-2\",\"columnTypeName\":\"VARCHAR\",\"length\":1,\"scale\":1}]}"
     },
     "output_type": "execute_result"
    }
   ],
   "source": [
    "call val.td_analyze('chisquaretest',\n",
    "                         'statsdatabase=val;\n",
    "                          teststyle=chisq;\n",
    "                          database=demo_user;\n",
    "                          tablename=VAL_ADS;\n",
    "                          firstcolumns=female_ind,single_ind;\n",
    "                          secondcolumns=sv_acct_ind,cc_acct_ind,ck_acct_ind;');"
   ]
  },
  {
   "cell_type": "markdown",
   "metadata": {},
   "source": [
    "<p style = 'font-size:16px;font-family:Arial;color:#00233C'>The above output has the output columns as below(Column1 is the UPI.)\n",
    "\n",
    "teststyle = chisq (Default)</p>\n",
    "\n",
    " <table style = 'font-size:14px;font-family:Arial;color:#00233C'>\n",
    "  <tr>\n",
    "    <th>Column</th>\n",
    "    <th>DataType</th>\n",
    "    <th>Description</th>\n",
    "  </tr>\n",
    "  <tr>\n",
    "    <td>column1</td>\n",
    "    <td>Char</td>  \n",
    "    <td>First of pair of variables.</td>\n",
    "  </tr>\n",
    "  <tr>\n",
    "    <td>column2</td>\n",
    "    <td>Char</td>  \n",
    "    <td>Second of pair of variables.</td>\n",
    "  </tr>\n",
    "  <tr>\n",
    "    <td>Chisq</td>\n",
    "    <td>Float</td>  \n",
    "    <td>Chi-Squared statistic.</td>\n",
    "  </tr>  \n",
    "  <tr>\n",
    "    <td>DF</td>\n",
    "    <td>Integer</td>  \n",
    "    <td>Degrees of freedom.</td>\n",
    "  </tr>  \n",
    "  <tr>\n",
    "    <td>Z</td>\n",
    "    <td>Float</td>  \n",
    "    <td>Z-score</td>\n",
    "  </tr>  \n",
    "  <tr>\n",
    "    <td>CramersV</td>\n",
    "    <td>Float</td>  \n",
    "    <td>Cramer'sV.</td>\n",
    "  </tr>  \n",
    "  <tr>\n",
    "    <td>PhiCoeff</td>\n",
    "    <td>Float</td>  \n",
    "    <td>Phi coefficient.</td>\n",
    "  </tr>  \n",
    "  <tr>\n",
    "    <td>LlhChiSq</td>\n",
    "    <td>Float</td>  \n",
    "    <td>Likelihood ratio Chi-Squared statistic.</td>\n",
    "  </tr>  \n",
    "  <tr>\n",
    "    <td>ContAdjChiSq</td>\n",
    "    <td>Float</td>  \n",
    "    <td>Continuity-adjusted Chi-Squared statistic.</td>\n",
    "  </tr>  \n",
    "  <tr>\n",
    "    <td>ContinCoeff</td>\n",
    "    <td>Float</td>  \n",
    "    <td>Contingency coefficient.</td>\n",
    "  </tr>  \n",
    "  <tr>\n",
    "    <td>ChiPValue</td>\n",
    "    <td>Float</td>  \n",
    "    <td>Probability associated with Chi-Squared statistic.</td>\n",
    "  </tr>  \n",
    "  <tr>\n",
    "    <td>ChiPText</td>\n",
    "    <td>Float</td>  \n",
    "    <td>Text description if probability is outside table range.</td>\n",
    "  </tr>  \n",
    "  <tr>\n",
    "    <td>ChiCallP_0.05</td>\n",
    "    <td>Char</td>  \n",
    "    <td>Chi-Squared result:\n",
    "        <li>a=accept null hypothesis (not significantly different)</li>\n",
    "        <li>p=reject null hypothesis(positive) (significantly different)</li>\n",
    "        <li>n=reject null hypothesis(negative)</li>\n",
    "    </td>\n",
    "  </tr>    \n",
    "</table>\n",
    "   \n",
    "<p>"
   ]
  },
  {
   "cell_type": "markdown",
   "metadata": {},
   "source": [
    "<p style = 'font-size:16px;font-family:Arial;color:#00233C'>2.  Chi Square Test with results persisted in an output table.</p>"
   ]
  },
  {
   "cell_type": "code",
   "execution_count": 34,
   "metadata": {},
   "outputs": [
    {
     "data": {
      "text/plain": [
       "Success: 0 rows affected"
      ]
     },
     "execution_count": 34,
     "metadata": {
      "application/vnd.teradata.resultset": ""
     },
     "output_type": "execute_result"
    }
   ],
   "source": [
    "call val.td_analyze('chisquaretest',\n",
    "                         'statsdatabase=val;\n",
    "                          teststyle=chisq;\n",
    "                          database=demo_user;\n",
    "                          tablename=VAL_ADS;\n",
    "                          firstcolumns=female_ind,single_ind;\n",
    "                          secondcolumns=sv_acct_ind,cc_acct_ind,ck_acct_ind;\n",
    "                          outputdatabase=demo_user;\n",
    "                          outputtablename=_val_chisquare_out;');"
   ]
  },
  {
   "cell_type": "code",
   "execution_count": 35,
   "metadata": {},
   "outputs": [
    {
     "data": {
      "application/vnd.teradata.resultset": "\"column1\",\"column2\",\"Chisq\",\"DF\",\"Z\",\"CramersV\",\"PhiCoeff\",\"LlhChiSq\",\"ContAdjChiSq\",\"ContinCoeff\",\"ChiPValue\",\"ChiPText\",\"ChiCallP_5E-2\"\n\"female_ind\",\"ck_acct_ind\",\"51.96329114361818\",\"1\",\"6.266072413236709\",\"0.07048943119690093\",\"0.07048943119690093\",\"51.79027403137195\",\"51.65502985345838\",\"0.07031495858282666\",\"0.0001\",\"<0.0001\",\"p\"\n\"female_ind\",\"sv_acct_ind\",\"73.52013882165669\",\"1\",\"7.23680826136689\",\"0.08384532268145405\",\"0.08384532268145405\",\"73.48997707707434\",\"73.17998066361037\",\"0.08355214963436529\",\"0.0001\",\"<0.0001\",\"p\"\n\"female_ind\",\"cc_acct_ind\",\"84.45466569698048\",\"1\",\"7.657179013939365\",\"0.08986436396365856\",\"0.08986436396365856\",\"84.2873938591323\",\"84.08086832585147\",\"0.08950369247502081\",\"0.0001\",\"<0.0001\",\"p\"\n\"single_ind\",\"ck_acct_ind\",\"3.7222614306074258\",\"1\",\"1.6376557333933492\",\"0.01886596903899718\",\"0.01886596903899718\",\"3.7119507979566606\",\"3.6377618158186986\",\"0.01886261250196342\",\"0.05524660442510223\",\"\",\"a\"\n\"single_ind\",\"sv_acct_ind\",\"111.33800714811451\",\"1\",\"8.555265794438732\",\"0.10318044653217087\",\"0.10318044653217087\",\"112.15138339109859\",\"110.90737820419025\",\"0.10263555340590276\",\"0.0001\",\"<0.0001\",\"p\"\n\"single_ind\",\"cc_acct_ind\",\"21.541917084755497\",\"1\",\"4.252562129760672\",\"0.04538557648792909\",\"0.04538557648792909\",\"21.461624947837834\",\"21.347967794596418\",\"0.04533890482563551\",\"0.0001\",\"<0.0001\",\"p\"",
      "text/html": [
       "<div class = \"td-resultset-table-div\" style = \"max-height: 100%; overflow-y: auto\">\n",
       "      <table class=\"tdhistory997234\"><style>\n",
       "      table.tdhistory997234 { display: block !important; min-height: 210px !important; overflow: auto !important; height: 210px !important; width: 100% !important; border: 1px solid rgb(207, 207, 207) !important; border-collapse: collapse !important; ; color: var(--jp-ui-font-color1) !important; }\n",
       "      th.tdhistory997234 { border: 1px solid rgb(198,198,198) !important; border-collapse: collapse !important; ; padding: 2px 5px !important; ; font-size: 13px !important; ; text-align: center !important; white-space: normal !important; color: var(--jp-ui-font-color1) !important; }\n",
       "      th.tdhistory997234:last-child { text-align: left !important; }\n",
       "      tbody.tdhistory997234 tr:nth-child(even) { background: rgba(243, 243, 243, 0.75) !important; }\n",
       "      tbody.tdhistory997234 tr:nth-child(odd) { background: var(--jp-ui-inverse-font-color1) !important; }\n",
       "      td.tdhistory997234 { border: 1px solid rgb(207, 207, 207) !important; border-collapse: collapse !important; ; padding: 2px 5px !important; ; font-size: 13px !important; ; text-align: left !important;          white-space: nowrap !important; overflow:hidden !important; text-overflow:ellipsis !important;; }\n",
       "    </style><thead><tr style= \"background: rgba(243, 243, 243, 0.75)\"><th class=\"tdhistory997234\"></th><th class=\"tdhistory997234\">column1</th><th class=\"tdhistory997234\">column2</th><th class=\"tdhistory997234\">Chisq</th><th class=\"tdhistory997234\">DF</th><th class=\"tdhistory997234\">Z</th><th class=\"tdhistory997234\">CramersV</th><th class=\"tdhistory997234\">PhiCoeff</th><th class=\"tdhistory997234\">LlhChiSq</th><th class=\"tdhistory997234\">ContAdjChiSq</th><th class=\"tdhistory997234\">ContinCoeff</th><th class=\"tdhistory997234\">ChiPValue</th><th class=\"tdhistory997234\">ChiPText</th><th class=\"tdhistory997234\">ChiCallP_5E-2</th></tr></thead><tbody class=\"tdhistory997234 resultset-body\"><tr><th class=\"tdhistory997234\" style= \"background: rgba(243, 243, 243, 0.75)\">1</th><td class=\"tdhistory997234\">female_ind</td><td class=\"tdhistory997234\">ck_acct_ind</td><td class=\"tdhistory997234\">51.96329114361818</td><td class=\"tdhistory997234\">1</td><td class=\"tdhistory997234\">6.266072413236709</td><td class=\"tdhistory997234\">0.07048943119690093</td><td class=\"tdhistory997234\">0.07048943119690093</td><td class=\"tdhistory997234\">51.79027403137195</td><td class=\"tdhistory997234\">51.65502985345838</td><td class=\"tdhistory997234\">0.07031495858282666</td><td class=\"tdhistory997234\">0.0001</td><td class=\"tdhistory997234\"><0.0001</td><td class=\"tdhistory997234\">p</td></tr><tr><th class=\"tdhistory997234\" style= \"background: rgba(243, 243, 243, 0.75)\">2</th><td class=\"tdhistory997234\">female_ind</td><td class=\"tdhistory997234\">sv_acct_ind</td><td class=\"tdhistory997234\">73.52013882165669</td><td class=\"tdhistory997234\">1</td><td class=\"tdhistory997234\">7.23680826136689</td><td class=\"tdhistory997234\">0.08384532268145405</td><td class=\"tdhistory997234\">0.08384532268145405</td><td class=\"tdhistory997234\">73.48997707707434</td><td class=\"tdhistory997234\">73.17998066361037</td><td class=\"tdhistory997234\">0.08355214963436529</td><td class=\"tdhistory997234\">0.0001</td><td class=\"tdhistory997234\"><0.0001</td><td class=\"tdhistory997234\">p</td></tr><tr><th class=\"tdhistory997234\" style= \"background: rgba(243, 243, 243, 0.75)\">3</th><td class=\"tdhistory997234\">female_ind</td><td class=\"tdhistory997234\">cc_acct_ind</td><td class=\"tdhistory997234\">84.45466569698048</td><td class=\"tdhistory997234\">1</td><td class=\"tdhistory997234\">7.657179013939365</td><td class=\"tdhistory997234\">0.08986436396365856</td><td class=\"tdhistory997234\">0.08986436396365856</td><td class=\"tdhistory997234\">84.2873938591323</td><td class=\"tdhistory997234\">84.08086832585147</td><td class=\"tdhistory997234\">0.08950369247502081</td><td class=\"tdhistory997234\">0.0001</td><td class=\"tdhistory997234\"><0.0001</td><td class=\"tdhistory997234\">p</td></tr><tr><th class=\"tdhistory997234\" style= \"background: rgba(243, 243, 243, 0.75)\">4</th><td class=\"tdhistory997234\">single_ind</td><td class=\"tdhistory997234\">ck_acct_ind</td><td class=\"tdhistory997234\">3.7222614306074258</td><td class=\"tdhistory997234\">1</td><td class=\"tdhistory997234\">1.6376557333933492</td><td class=\"tdhistory997234\">0.01886596903899718</td><td class=\"tdhistory997234\">0.01886596903899718</td><td class=\"tdhistory997234\">3.7119507979566606</td><td class=\"tdhistory997234\">3.6377618158186986</td><td class=\"tdhistory997234\">0.01886261250196342</td><td class=\"tdhistory997234\">0.05524660442510223</td><td class=\"tdhistory997234\"></td><td class=\"tdhistory997234\">a</td></tr><tr><th class=\"tdhistory997234\" style= \"background: rgba(243, 243, 243, 0.75)\">5</th><td class=\"tdhistory997234\">single_ind</td><td class=\"tdhistory997234\">sv_acct_ind</td><td class=\"tdhistory997234\">111.33800714811451</td><td class=\"tdhistory997234\">1</td><td class=\"tdhistory997234\">8.555265794438732</td><td class=\"tdhistory997234\">0.10318044653217087</td><td class=\"tdhistory997234\">0.10318044653217087</td><td class=\"tdhistory997234\">112.15138339109859</td><td class=\"tdhistory997234\">110.90737820419025</td><td class=\"tdhistory997234\">0.10263555340590276</td><td class=\"tdhistory997234\">0.0001</td><td class=\"tdhistory997234\"><0.0001</td><td class=\"tdhistory997234\">p</td></tr><tr><th class=\"tdhistory997234\" style= \"background: rgba(243, 243, 243, 0.75)\">6</th><td class=\"tdhistory997234\">single_ind</td><td class=\"tdhistory997234\">cc_acct_ind</td><td class=\"tdhistory997234\">21.541917084755497</td><td class=\"tdhistory997234\">1</td><td class=\"tdhistory997234\">4.252562129760672</td><td class=\"tdhistory997234\">0.04538557648792909</td><td class=\"tdhistory997234\">0.04538557648792909</td><td class=\"tdhistory997234\">21.461624947837834</td><td class=\"tdhistory997234\">21.347967794596418</td><td class=\"tdhistory997234\">0.04533890482563551</td><td class=\"tdhistory997234\">0.0001</td><td class=\"tdhistory997234\"><0.0001</td><td class=\"tdhistory997234\">p</td></tr></tbody></table></div>"
      ]
     },
     "execution_count": 35,
     "metadata": {
      "application/vnd.teradata.resultset": "{\"resultSetID\":\"/home/jovyan/JupyterLabRoot/Teradata/Resultsets/2024.09.06_07.23.53.494_UTC\",\"historyID\":419,\"chunkID\":\"00001\",\"sessionid\":\"\",\"portnum\":\"\",\"dockermode\":\"docker\",\"totalRowCount\":6,\"chunkCount\":0,\"rowLimit\":0,\"columnMetadata\":[{\"columnName\":\"column1\",\"columnTypeName\":\"VARCHAR\",\"length\":256,\"scale\":256},{\"columnNumber\":1,\"columnName\":\"column2\",\"columnTypeName\":\"VARCHAR\",\"length\":256,\"scale\":256},{\"columnNumber\":2,\"columnName\":\"Chisq\",\"columnTypeName\":\"FLOAT\"},{\"columnNumber\":3,\"columnName\":\"DF\",\"columnTypeName\":\"BIGINT\"},{\"columnNumber\":4,\"columnName\":\"Z\",\"columnTypeName\":\"FLOAT\"},{\"columnNumber\":5,\"columnName\":\"CramersV\",\"columnTypeName\":\"FLOAT\"},{\"columnNumber\":6,\"columnName\":\"PhiCoeff\",\"columnTypeName\":\"FLOAT\"},{\"columnNumber\":7,\"columnName\":\"LlhChiSq\",\"columnTypeName\":\"FLOAT\"},{\"columnNumber\":8,\"columnName\":\"ContAdjChiSq\",\"columnTypeName\":\"FLOAT\"},{\"columnNumber\":9,\"columnName\":\"ContinCoeff\",\"columnTypeName\":\"FLOAT\"},{\"columnNumber\":10,\"columnName\":\"ChiPValue\",\"columnTypeName\":\"FLOAT\"},{\"columnNumber\":11,\"columnName\":\"ChiPText\",\"columnTypeName\":\"VARCHAR\",\"length\":7,\"scale\":7},{\"columnNumber\":12,\"columnName\":\"ChiCallP_5E-2\",\"columnTypeName\":\"VARCHAR\",\"length\":1,\"scale\":1}]}"
     },
     "output_type": "execute_result"
    }
   ],
   "source": [
    "SELECT * FROM demo_user._val_chisquare_out ORDER BY 1;"
   ]
  },
  {
   "cell_type": "markdown",
   "metadata": {},
   "source": [
    "<p style = 'font-size:16px;font-family:Arial;color:#00233C'>3.  Median Test with groupby column years_with_bank, thresholdprobability set to 0.01 and results returned in a result set.</p> "
   ]
  },
  {
   "cell_type": "code",
   "execution_count": 36,
   "metadata": {},
   "outputs": [
    {
     "data": {
      "text/plain": [
       "Success: 0 rows affected"
      ]
     },
     "execution_count": 36,
     "metadata": {
      "application/vnd.teradata.resultset": ""
     },
     "output_type": "execute_result"
    },
    {
     "data": {
      "application/vnd.teradata.resultset": "\"years_with_bank\",\"ChiSq\",\"DF\",\"MedianPValue\",\"MedianPText\",\"MedianCallP_1E-2\"\n\"10\",\"20.81869569607782\",\"3\",\"0.00013383716364114627\",\"\",\"p\"\n\"4\",\"77.54838819017066\",\"3\",\"0.0001\",\"<0.0001\",\"p\"\n\"7\",\"74.72117984547474\",\"3\",\"0.0001\",\"<0.0001\",\"p\"\n\"8\",\"64.78631020023145\",\"3\",\"0.0001\",\"<0.0001\",\"p\"\n\"1\",\"54.205555555555556\",\"3\",\"0.0001\",\"<0.0001\",\"p\"\n\"2\",\"111.94131226907886\",\"3\",\"0.0001\",\"<0.0001\",\"p\"\n\"5\",\"98.98244733043795\",\"3\",\"0.0001\",\"<0.0001\",\"p\"\n\"12\",\"9.167059563099166\",\"3\",\"0.027956035435991015\",\"\",\"a\"\n\"11\",\"0.12788512300707422\",\"3\",\"0.25\",\">0.25\",\"a\"\n\"14\",\"2.233403110047847\",\"3\",\"0.25\",\">0.25\",\"a\"\n\"0\",\"16.604904354904356\",\"3\",\"0.0008843323011702343\",\"\",\"p\"\n\"3\",\"100.0969510011295\",\"3\",\"0.0001\",\"<0.0001\",\"p\"\n\"13\",\"2.8559997422237497\",\"3\",\"0.25\",\">0.25\",\"a\"\n\"9\",\"23.73665898145068\",\"3\",\"0.0001\",\"<0.0001\",\"p\"\n\"6\",\"67.65712906289531\",\"3\",\"0.0001\",\"<0.0001\",\"p\"",
      "text/html": [
       "<div class = \"td-resultset-table-div\" style = \"max-height: 100%; overflow-y: auto\">\n",
       "      <table class=\"tdhistory178828\"><style>\n",
       "      table.tdhistory178828 { display: block !important; min-height: 399px !important; overflow: auto !important; height: 399px !important; width: 100% !important; border: 1px solid rgb(207, 207, 207) !important; border-collapse: collapse !important; ; color: var(--jp-ui-font-color1) !important; }\n",
       "      th.tdhistory178828 { border: 1px solid rgb(198,198,198) !important; border-collapse: collapse !important; ; padding: 2px 5px !important; ; font-size: 13px !important; ; text-align: center !important; white-space: normal !important; color: var(--jp-ui-font-color1) !important; }\n",
       "      th.tdhistory178828:last-child { text-align: left !important; }\n",
       "      tbody.tdhistory178828 tr:nth-child(even) { background: rgba(243, 243, 243, 0.75) !important; }\n",
       "      tbody.tdhistory178828 tr:nth-child(odd) { background: var(--jp-ui-inverse-font-color1) !important; }\n",
       "      td.tdhistory178828 { border: 1px solid rgb(207, 207, 207) !important; border-collapse: collapse !important; ; padding: 2px 5px !important; ; font-size: 13px !important; ; text-align: left !important;          white-space: nowrap !important; overflow:hidden !important; text-overflow:ellipsis !important;; }\n",
       "    </style><thead><tr style= \"background: rgba(243, 243, 243, 0.75)\"><th class=\"tdhistory178828\"></th><th class=\"tdhistory178828\">years_with_bank</th><th class=\"tdhistory178828\">ChiSq</th><th class=\"tdhistory178828\">DF</th><th class=\"tdhistory178828\">MedianPValue</th><th class=\"tdhistory178828\">MedianPText</th><th class=\"tdhistory178828\">MedianCallP_1E-2</th></tr></thead><tbody class=\"tdhistory178828 resultset-body\"><tr><th class=\"tdhistory178828\" style= \"background: rgba(243, 243, 243, 0.75)\">1</th><td class=\"tdhistory178828\">10</td><td class=\"tdhistory178828\">20.81869569607782</td><td class=\"tdhistory178828\">3</td><td class=\"tdhistory178828\">0.00013383716364114627</td><td class=\"tdhistory178828\"></td><td class=\"tdhistory178828\">p</td></tr><tr><th class=\"tdhistory178828\" style= \"background: rgba(243, 243, 243, 0.75)\">2</th><td class=\"tdhistory178828\">4</td><td class=\"tdhistory178828\">77.54838819017066</td><td class=\"tdhistory178828\">3</td><td class=\"tdhistory178828\">0.0001</td><td class=\"tdhistory178828\"><0.0001</td><td class=\"tdhistory178828\">p</td></tr><tr><th class=\"tdhistory178828\" style= \"background: rgba(243, 243, 243, 0.75)\">3</th><td class=\"tdhistory178828\">7</td><td class=\"tdhistory178828\">74.72117984547474</td><td class=\"tdhistory178828\">3</td><td class=\"tdhistory178828\">0.0001</td><td class=\"tdhistory178828\"><0.0001</td><td class=\"tdhistory178828\">p</td></tr><tr><th class=\"tdhistory178828\" style= \"background: rgba(243, 243, 243, 0.75)\">4</th><td class=\"tdhistory178828\">8</td><td class=\"tdhistory178828\">64.78631020023145</td><td class=\"tdhistory178828\">3</td><td class=\"tdhistory178828\">0.0001</td><td class=\"tdhistory178828\"><0.0001</td><td class=\"tdhistory178828\">p</td></tr><tr><th class=\"tdhistory178828\" style= \"background: rgba(243, 243, 243, 0.75)\">5</th><td class=\"tdhistory178828\">1</td><td class=\"tdhistory178828\">54.205555555555556</td><td class=\"tdhistory178828\">3</td><td class=\"tdhistory178828\">0.0001</td><td class=\"tdhistory178828\"><0.0001</td><td class=\"tdhistory178828\">p</td></tr><tr><th class=\"tdhistory178828\" style= \"background: rgba(243, 243, 243, 0.75)\">6</th><td class=\"tdhistory178828\">2</td><td class=\"tdhistory178828\">111.94131226907886</td><td class=\"tdhistory178828\">3</td><td class=\"tdhistory178828\">0.0001</td><td class=\"tdhistory178828\"><0.0001</td><td class=\"tdhistory178828\">p</td></tr><tr><th class=\"tdhistory178828\" style= \"background: rgba(243, 243, 243, 0.75)\">7</th><td class=\"tdhistory178828\">5</td><td class=\"tdhistory178828\">98.98244733043795</td><td class=\"tdhistory178828\">3</td><td class=\"tdhistory178828\">0.0001</td><td class=\"tdhistory178828\"><0.0001</td><td class=\"tdhistory178828\">p</td></tr><tr><th class=\"tdhistory178828\" style= \"background: rgba(243, 243, 243, 0.75)\">8</th><td class=\"tdhistory178828\">12</td><td class=\"tdhistory178828\">9.167059563099166</td><td class=\"tdhistory178828\">3</td><td class=\"tdhistory178828\">0.027956035435991015</td><td class=\"tdhistory178828\"></td><td class=\"tdhistory178828\">a</td></tr><tr><th class=\"tdhistory178828\" style= \"background: rgba(243, 243, 243, 0.75)\">9</th><td class=\"tdhistory178828\">11</td><td class=\"tdhistory178828\">0.12788512300707422</td><td class=\"tdhistory178828\">3</td><td class=\"tdhistory178828\">0.25</td><td class=\"tdhistory178828\">>0.25</td><td class=\"tdhistory178828\">a</td></tr><tr><th class=\"tdhistory178828\" style= \"background: rgba(243, 243, 243, 0.75)\">10</th><td class=\"tdhistory178828\">14</td><td class=\"tdhistory178828\">2.233403110047847</td><td class=\"tdhistory178828\">3</td><td class=\"tdhistory178828\">0.25</td><td class=\"tdhistory178828\">>0.25</td><td class=\"tdhistory178828\">a</td></tr><tr><th class=\"tdhistory178828\" style= \"background: rgba(243, 243, 243, 0.75)\">11</th><td class=\"tdhistory178828\">0</td><td class=\"tdhistory178828\">16.604904354904356</td><td class=\"tdhistory178828\">3</td><td class=\"tdhistory178828\">0.0008843323011702343</td><td class=\"tdhistory178828\"></td><td class=\"tdhistory178828\">p</td></tr><tr><th class=\"tdhistory178828\" style= \"background: rgba(243, 243, 243, 0.75)\">12</th><td class=\"tdhistory178828\">3</td><td class=\"tdhistory178828\">100.0969510011295</td><td class=\"tdhistory178828\">3</td><td class=\"tdhistory178828\">0.0001</td><td class=\"tdhistory178828\"><0.0001</td><td class=\"tdhistory178828\">p</td></tr><tr><th class=\"tdhistory178828\" style= \"background: rgba(243, 243, 243, 0.75)\">13</th><td class=\"tdhistory178828\">13</td><td class=\"tdhistory178828\">2.8559997422237497</td><td class=\"tdhistory178828\">3</td><td class=\"tdhistory178828\">0.25</td><td class=\"tdhistory178828\">>0.25</td><td class=\"tdhistory178828\">a</td></tr><tr><th class=\"tdhistory178828\" style= \"background: rgba(243, 243, 243, 0.75)\">14</th><td class=\"tdhistory178828\">9</td><td class=\"tdhistory178828\">23.73665898145068</td><td class=\"tdhistory178828\">3</td><td class=\"tdhistory178828\">0.0001</td><td class=\"tdhistory178828\"><0.0001</td><td class=\"tdhistory178828\">p</td></tr><tr><th class=\"tdhistory178828\" style= \"background: rgba(243, 243, 243, 0.75)\">15</th><td class=\"tdhistory178828\">6</td><td class=\"tdhistory178828\">67.65712906289531</td><td class=\"tdhistory178828\">3</td><td class=\"tdhistory178828\">0.0001</td><td class=\"tdhistory178828\"><0.0001</td><td class=\"tdhistory178828\">p</td></tr></tbody></table></div>"
      ]
     },
     "execution_count": 36,
     "metadata": {
      "application/vnd.teradata.resultset": "{\"resultSetID\":\"/home/jovyan/JupyterLabRoot/Teradata/Resultsets/2024.09.06_07.23.57.258_UTC\",\"historyID\":420,\"chunkID\":\"00001\",\"sessionid\":\"\",\"portnum\":\"\",\"dockermode\":\"docker\",\"totalRowCount\":15,\"chunkCount\":0,\"rowLimit\":0,\"columnMetadata\":[{\"columnName\":\"years_with_bank\",\"columnTypeName\":\"INTEGER\"},{\"columnNumber\":1,\"columnName\":\"ChiSq\",\"columnTypeName\":\"FLOAT\"},{\"columnNumber\":2,\"columnName\":\"DF\",\"columnTypeName\":\"BIGINT\"},{\"columnNumber\":3,\"columnName\":\"MedianPValue\",\"columnTypeName\":\"FLOAT\"},{\"columnNumber\":4,\"columnName\":\"MedianPText\",\"columnTypeName\":\"VARCHAR\",\"length\":7,\"scale\":7},{\"columnNumber\":5,\"columnName\":\"MedianCallP_1E-2\",\"columnTypeName\":\"VARCHAR\",\"length\":1,\"scale\":1}]}"
     },
     "output_type": "execute_result"
    }
   ],
   "source": [
    "call val.td_analyze('chisquaretest', \n",
    "                         'statsdatabase=val;\n",
    "                          teststyle=median;\n",
    "                          database=DEMO_Financial;\n",
    "                          tablename=Customer;\n",
    "                          columnofinterest=income;\n",
    "                          columns=marital_status;\n",
    "                          groupby=years_with_bank;\n",
    "                          thresholdprobability=0.01;');"
   ]
  },
  {
   "cell_type": "markdown",
   "metadata": {},
   "source": [
    "<p style = 'font-size:16px;font-family:Arial;color:#00233C'>The above output has the output columns as below(If there are groupby columns, they comprise the UPI. Otherwise, ChiSq is the UPI.)\n",
    "\n",
    "teststyle = median</p>\n",
    "\n",
    " <table style = 'font-size:14px;font-family:Arial;color:#00233C'>\n",
    "  <tr>\n",
    "    <th>Column</th>\n",
    "    <th>DataType</th>\n",
    "    <th>Description</th>\n",
    "  </tr>\n",
    "  <tr>\n",
    "    <td>Chisq</td>\n",
    "    <td>Float</td>  \n",
    "    <td>Chi-Squared statistic.</td>\n",
    "  </tr>  \n",
    "  <tr>\n",
    "    <td>DF</td>\n",
    "    <td>Integer</td>  \n",
    "    <td>Degrees of freedom.</td>\n",
    "  </tr>  \n",
    "  <tr>\n",
    "    <td>MedianPValue</td>\n",
    "    <td>Float</td>  \n",
    "    <td>Probability associated with Chi-Squared statistic.</td>\n",
    "  </tr>  \n",
    "  <tr>\n",
    "    <td>MedianPText</td>\n",
    "    <td>Char</td>  \n",
    "    <td>Text description if probability is outside table range.</td>\n",
    "  </tr>  \n",
    "  <tr>\n",
    "    <td>MedianCallP_0.01</td>\n",
    "    <td>Char</td>  \n",
    "    <td>Chi-Squared result:\n",
    "        <li>a=accept null hypothesis</li>\n",
    "        <li>p=reject null hypothesis(positive)</li>\n",
    "        <li>n=reject null hypothesis(negative)</li>\n",
    "    </td>\n",
    "  </tr>    \n",
    "</table>\n",
    "   \n",
    "<p>"
   ]
  },
  {
   "cell_type": "markdown",
   "metadata": {},
   "source": [
    "<hr style=\"height:2px;border:none;background-color:#00233C;\">"
   ]
  },
  {
   "cell_type": "markdown",
   "metadata": {},
   "source": [
    "<p style = 'font-size:20px;font-family:Arial;color:#00233C'><b>9. Cleanup</b></p>\n",
    "<p style = 'font-size:18px;font-family:Arial;color:#00233C'><b>Work Tables</b></p>\n",
    "<p style = 'font-size:16px;font-family:Arial;color:#00233C'>Clean up work tables to prevent error next time.</p>"
   ]
  },
  {
   "cell_type": "code",
   "execution_count": 37,
   "metadata": {},
   "outputs": [
    {
     "data": {
      "text/plain": [
       "Success: 21 rows affected"
      ]
     },
     "execution_count": 37,
     "metadata": {
      "application/vnd.teradata.resultset": ""
     },
     "output_type": "execute_result"
    }
   ],
   "source": [
    "DROP TABLE \"demo_user\".\"VAL_Friedman_Worktable\";"
   ]
  },
  {
   "cell_type": "code",
   "execution_count": 38,
   "metadata": {},
   "outputs": [
    {
     "data": {
      "text/plain": [
       "Success: 42 rows affected"
      ]
     },
     "execution_count": 38,
     "metadata": {
      "application/vnd.teradata.resultset": ""
     },
     "output_type": "execute_result"
    }
   ],
   "source": [
    "DROP TABLE \"demo_user\".\"VAL_ADS\";"
   ]
  },
  {
   "cell_type": "markdown",
   "metadata": {},
   "source": [
    "<p style = 'font-size:18px;font-family:Arial;color:#00233C'><b>Databases and Tables</b></p>\n",
    "<p style = 'font-size:18px;font-family:Arial;color:#00233C'>The following code will clean up tables and databases created above.</p>\n",
    "<p style = 'font-size:16px;font-family:Arial;color:#00233C'><b>Note:</b> In case you plan to execute the other notebooks in the VantageAnalyticLibrary , do not run the <b>remove_data</b> procedure below. Also in case you are not removing the databases and tables here , please make sure that you do not execute the <b>get_data</b> procedure in the next VantageAnalyticLibrary notebook.</p>"
   ]
  },
  {
   "cell_type": "code",
   "execution_count": 39,
   "metadata": {},
   "outputs": [
    {
     "data": {
      "text/plain": [
       "Success: 0 rows affected"
      ]
     },
     "execution_count": 39,
     "metadata": {
      "application/vnd.teradata.resultset": ""
     },
     "output_type": "execute_result"
    },
    {
     "data": {
      "application/vnd.teradata.resultset": "\"Message\"\n\"Removed objects related to DEMO_Financial. That ran for 0:00:05.89\"",
      "text/html": [
       "<div class = \"td-resultset-table-div\" style = \"max-height: 100%; overflow-y: auto\">\n",
       "      <table class=\"tdhistory27855\"><style>\n",
       "      table.tdhistory27855 { display: block !important; min-height: 105px !important; overflow: auto !important; height: 105px !important; width: 100% !important; border: 1px solid rgb(207, 207, 207) !important; border-collapse: collapse !important; ; color: var(--jp-ui-font-color1) !important; }\n",
       "      th.tdhistory27855 { border: 1px solid rgb(198,198,198) !important; border-collapse: collapse !important; ; padding: 2px 5px !important; ; font-size: 13px !important; ; text-align: center !important; white-space: normal !important; color: var(--jp-ui-font-color1) !important; }\n",
       "      th.tdhistory27855:last-child { text-align: left !important; }\n",
       "      tbody.tdhistory27855 tr:nth-child(even) { background: rgba(243, 243, 243, 0.75) !important; }\n",
       "      tbody.tdhistory27855 tr:nth-child(odd) { background: var(--jp-ui-inverse-font-color1) !important; }\n",
       "      td.tdhistory27855 { border: 1px solid rgb(207, 207, 207) !important; border-collapse: collapse !important; ; padding: 2px 5px !important; ; font-size: 13px !important; ; text-align: left !important;          white-space: nowrap !important; overflow:hidden !important; text-overflow:ellipsis !important;; }\n",
       "    </style><thead><tr style= \"background: rgba(243, 243, 243, 0.75)\"><th class=\"tdhistory27855\"></th><th class=\"tdhistory27855\">Message</th></tr></thead><tbody class=\"tdhistory27855 resultset-body\"><tr><th class=\"tdhistory27855\" style= \"background: rgba(243, 243, 243, 0.75)\">1</th><td class=\"tdhistory27855\">Removed objects related to DEMO_Financial. That ran for 0:00:05.89</td></tr></tbody></table></div>"
      ]
     },
     "execution_count": 39,
     "metadata": {
      "application/vnd.teradata.resultset": "{\"resultSetID\":\"/home/jovyan/JupyterLabRoot/Teradata/Resultsets/2024.09.06_07.24.04.006_UTC\",\"historyID\":423,\"chunkID\":\"00001\",\"sessionid\":\"\",\"portnum\":\"\",\"dockermode\":\"docker\",\"totalRowCount\":1,\"chunkCount\":0,\"rowLimit\":0,\"columnMetadata\":[{\"columnName\":\"Message\",\"columnTypeName\":\"VARCHAR\",\"length\":68,\"scale\":68}]}"
     },
     "output_type": "execute_result"
    }
   ],
   "source": [
    "call remove_data('DEMO_Financial');"
   ]
  },
  {
   "cell_type": "markdown",
   "metadata": {},
   "source": [
    "<footer style=\"padding-bottom:35px; background:#f9f9f9; border-bottom:3px solid #00233C\">\n",
    "    <div style=\"float:left;margin-top:14px\">ClearScape Analytics™</div>\n",
    "    <div style=\"float:right;\">\n",
    "        <div style=\"float:left; margin-top:14px\">\n",
    "            Copyright © Teradata Corporation - 2023. All Rights Reserved\n",
    "        </div>\n",
    "    </div>\n",
    "</footer>"
   ]
  }
 ],
 "metadata": {
  "kernelspec": {
   "display_name": "Teradata SQL",
   "language": "Teradata SQL",
   "name": "teradatasql"
  },
  "language_info": {
   "codemirror_mode": "Teradata SQL",
   "file_extension": ".tdrs",
   "mimetype": "application/vnd.teradata.resultset",
   "name": "Teradata SQL",
   "nbconvert_exporter": "",
   "pygments_lexer": "",
   "version": "16.20"
  }
 },
 "nbformat": 4,
 "nbformat_minor": 4
}
