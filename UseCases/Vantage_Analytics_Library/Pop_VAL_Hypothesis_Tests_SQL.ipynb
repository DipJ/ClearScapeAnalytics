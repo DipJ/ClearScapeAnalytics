{
 "cells": [
  {
   "cell_type": "markdown",
   "metadata": {},
   "source": [
    "<header style=\"padding:1px;background:#f9f9f9;border-top:3px solid #00b2b1\"><img id=\"Teradata-logo\" src=\"https://www.teradata.com/Teradata/Images/Rebrand/Teradata_logo-two_color.png\" alt=\"Teradata\" width=\"220\" align=\"right\" />\n",
    "\n",
    "<b style = 'font-size:28px;font-family:Arial;color:#E37C4D'>Vantage Analytic Library Demo \n",
    "\n",
    "</header>\n",
    "\n",
    "<p style = 'font-size:20px;font-family:Arial;color:#E37C4D'><b>Hypothesis Tests</b></p>\n",
    "\n",
    "<p style = 'font-size:16px;font-family:Arial'>Statistical tests provide a means of testing whether the outcome of an experiment could have been accidental.  Numerous tests are provided in-database, all of the hypothesis testing variety.  These include the following 18 tests, categorized below, that are currently available in the Vantage Analytic Library.</p>\n",
    "\n",
    "<p style = 'font-size:16px;font-family:Arial'><b>Parametric Tests</b></p>\n",
    "\n",
    "<p style = 'font-size:16px;font-family:Arial'>Two Sample T-Test for Equal Means</p>\n",
    "    <li>T Paired</li>\n",
    "    <li>T Unpaired</li>\n",
    "    <li>T Unpaired with Indicator</li>\n",
    "<p style = 'font-size:16px;font-family:Arial'>F-Test – N-Way</p>\n",
    "<p style = 'font-size:16px;font-family:Arial'>F-Test/Analysis of Variance (Two Way Unequal Sample Size)</p>\n",
    "\n",
    "<p style = 'font-size:16px;font-family:Arial'><b>Binomial Tests</b>\n",
    "\n",
    "<li>Binomial/Ztest</li>\n",
    "<li>Binomial Sign Test</li>\n",
    "</p>\n",
    "    \n",
    "<p style = 'font-size:16px;font-family:Arial'><b>Tests based on Contingency</b>\n",
    "\n",
    "<li>Chi Square Test</li>\n",
    "<li>Median Test</li>\n",
    "</p>\n",
    "    \n",
    "<p style = 'font-size:16px;font-family:Arial'><b>Kolmogorov/Smirnoff Tests</b>\n",
    "    \n",
    "<li>Kolmogorov/Smirnoff Test (One Sample)</li>\n",
    "<li>Lilliefors Test</li>\n",
    "<li>Shapiro-Wilk Test</li>\n",
    "<li>D’Agostino and Pearson Test</li>\n",
    "<li>Smirnov Test</li>\n",
    "</p>\n",
    "    \n",
    "<p style = 'font-size:16px;font-family:Arial'><b>Rank Tests</b>\n",
    "\n",
    "<li>Mann-Whitney/Kruskal-Wallis Test</li>\n",
    "<li>Mann-Whitney/Kruskal-Wallis Independent Tests</li>\n",
    "<li>Wilcoxon Signed Ranks Test</li>\n",
    "<li>Frieman Test with Kendall’s Coefficient of Concordance & Spearman’s Rho</li>\n",
    "</p>\n",
    "    \n",
    "<p style = 'font-size:16px;font-family:Arial'>In order to execute the Statistical Tests described in this book, the Statistical Test Metadata tables must be loaded into a database on the system to be analyzed.  These tables have been loaded into the Demo_Financial database along with the other VAL XSP and Table Operators.  The Statistical Test functions all provide a parameter called statsdatabase that can be used to specify the database in which these tables are installed.</p>\n",
    "\n",
    "<p style = 'font-size:16px;font-family:Arial'><b>Vantage Analytic Library - Call Structure</b></p>\n",
    "\n",
    "<p style = 'font-size:16px;font-family:Arial'>call val.td_analyze('\\<function name\\>','\\<database=database name\\>;\\<tablename=table name\\>;\\<columns=column1, column2\\>,'\\<param1\\>=\\<value1\\>;\\<param2\\>=\\<value2\\>...');</p>"
   ]
  },
  {
   "cell_type": "markdown",
   "metadata": {},
   "source": [
    "---"
   ]
  },
  {
   "cell_type": "markdown",
   "metadata": {},
   "source": [
    "<p style = 'font-size:20px;font-family:Arial;color:#E37C4D'> <b>1. Start by connecting to the Vantage system </b></p>\n",
    "<p style = 'font-size:16px;font-family:Arial'>You will be prompted to provide the password. Enter your password, press Enter, then use down arrow to go to next cell.</p>"
   ]
  },
  {
   "cell_type": "code",
   "execution_count": 1,
   "metadata": {
    "tags": []
   },
   "outputs": [
    {
     "name": "stdin",
     "output_type": "stream",
     "text": [
      "Password: ········\n"
     ]
    },
    {
     "name": "stdout",
     "output_type": "stream",
     "text": [
      "Success: 'local' connection established and activated for user 'demo_user', with default database 'demo_user'\n"
     ]
    }
   ],
   "source": [
    "%connect local, hidewarnings=true"
   ]
  },
  {
   "cell_type": "markdown",
   "metadata": {},
   "source": [
    "<p style = 'font-size:16px;font-family:Arial'>Setup for execution of notebook. Begin running steps with Shift + Enter keys.</p>\n"
   ]
  },
  {
   "cell_type": "code",
   "execution_count": 2,
   "metadata": {},
   "outputs": [
    {
     "data": {
      "text/plain": [
       "Success: 1 rows affected"
      ]
     },
     "execution_count": 2,
     "metadata": {
      "application/vnd.teradata.resultset": ""
     },
     "output_type": "execute_result"
    }
   ],
   "source": [
    "Set query_band='DEMO=VAL-Hypothesis_Tests.ipynb;' update for session;"
   ]
  },
  {
   "cell_type": "markdown",
   "metadata": {},
   "source": [
    "<p style = 'font-size:20px;font-family:Arial;color:#E37C4D'> <b>2. Getting Data for This Demo:</b></p>\n",
    "<p style = 'font-size:16px;font-family:Arial'>We have provided data for this demo on cloud storage. In this demo since we are using Temporal table we will be creating databases and tables in local storage and use them in the notebook. Please execute the procedure in the next cell.</p>\n"
   ]
  },
  {
   "cell_type": "code",
   "execution_count": 3,
   "metadata": {},
   "outputs": [
    {
     "data": {
      "text/plain": [
       "Success: 0 rows affected"
      ]
     },
     "execution_count": 3,
     "metadata": {
      "application/vnd.teradata.resultset": ""
     },
     "output_type": "execute_result"
    },
    {
     "data": {
      "text/plain": [
       "Success: 0 rows affected"
      ]
     },
     "execution_count": 3,
     "metadata": {
      "application/vnd.teradata.resultset": ""
     },
     "output_type": "execute_result"
    },
    {
     "data": {
      "application/vnd.teradata.resultset": "\"Message\"\n\"That ran for   0:00:53.17 with 17 statements and 0 errors. \"",
      "text/html": [
       "<div class = \"td-resultset-table-div\" style = \"max-height: 100%; overflow-y: auto\">\n",
       "      <table class=\"tdhistory226890\"><style>\n",
       "      table.tdhistory226890 { display: block !important; min-height: 105px !important; overflow: auto !important; height: 105px !important; width: 100% !important; border: 1px solid rgb(207, 207, 207) !important; border-collapse: collapse !important; ; color: var(--jp-ui-font-color1) !important; }\n",
       "      th.tdhistory226890 { border: 1px solid rgb(198,198,198) !important; border-collapse: collapse !important; ; padding: 2px 5px !important; ; font-size: 13px !important; ; text-align: center !important; white-space: normal !important; color: var(--jp-ui-font-color1) !important; }\n",
       "      th.tdhistory226890:last-child { text-align: left !important; }\n",
       "      tbody.tdhistory226890 tr:nth-child(even) { background: rgba(243, 243, 243, 0.75) !important; }\n",
       "      tbody.tdhistory226890 tr:nth-child(odd) { background: var(--jp-ui-inverse-font-color1) !important; }\n",
       "      td.tdhistory226890 { border: 1px solid rgb(207, 207, 207) !important; border-collapse: collapse !important; ; padding: 2px 5px !important; ; font-size: 13px !important; ; text-align: left !important;          white-space: nowrap !important; overflow:hidden !important; text-overflow:ellipsis !important;; }\n",
       "    </style><thead><tr style= \"background: rgba(243, 243, 243, 0.75)\"><th class=\"tdhistory226890\"></th><th class=\"tdhistory226890\">Message</th></tr></thead><tbody class=\"tdhistory226890 resultset-body\"><tr><th class=\"tdhistory226890\" style= \"background: rgba(243, 243, 243, 0.75)\">1</th><td class=\"tdhistory226890\">That ran for   0:00:53.17 with 17 statements and 0 errors. </td></tr></tbody></table></div>"
      ]
     },
     "execution_count": 3,
     "metadata": {
      "application/vnd.teradata.resultset": "{\"resultSetID\":\"/home/jovyan/JupyterLabRoot/Teradata/Resultsets/2023.07.14_09.16.01.471_UTC\",\"historyID\":320,\"chunkID\":\"00001\",\"sessionid\":\"\",\"portnum\":\"\",\"dockermode\":\"docker\",\"totalRowCount\":1,\"chunkCount\":0,\"rowLimit\":0,\"columnMetadata\":[{\"columnName\":\"Message\",\"columnTypeName\":\"VARCHAR\",\"length\":150,\"scale\":150}]}"
     },
     "output_type": "execute_result"
    }
   ],
   "source": [
    "call get_data('DEMO_Financial_cloud'); ---takes about 35 seconds\n",
    "---call get_data('DEMO_Financial_local'); ---takes about 100 seconds"
   ]
  },
  {
   "cell_type": "markdown",
   "metadata": {},
   "source": [
    "<p style = 'font-size:16px;font-family:Arial'>Optional step – if you want to see status of databases/tables created and space used.</p>\n"
   ]
  },
  {
   "cell_type": "code",
   "execution_count": 4,
   "metadata": {},
   "outputs": [
    {
     "data": {
      "text/plain": [
       "Success: 0 rows affected"
      ]
     },
     "execution_count": 4,
     "metadata": {
      "application/vnd.teradata.resultset": ""
     },
     "output_type": "execute_result"
    },
    {
     "data": {
      "text/plain": [
       "Success: 0 rows affected"
      ]
     },
     "execution_count": 4,
     "metadata": {
      "application/vnd.teradata.resultset": ""
     },
     "output_type": "execute_result"
    },
    {
     "data": {
      "application/vnd.teradata.resultset": "\"Space_Report\"\n\"You have:  #databases=2 #tables=64 #views=17  You have used 24.4 MB of 27,914.4 MB available - 0.1%  ... Space Usage OK\"\n\" \"\n\"   Database Name                  #tables  #views     Avail MB      Used MB\"\n\"   demo_user                           64       9  27,914.4 MB      24.4 MB \"\n\"   DEMO_Financial                       0       7       0.0 MB       0.0 MB \"\n\"   DEMO_RemaingUsefulLife               0       1       0.0 MB       0.0 MB \"",
      "text/html": [
       "<div class = \"td-resultset-table-div\" style = \"max-height: 100%; overflow-y: auto\">\n",
       "      <table class=\"tdhistory479076\"><style>\n",
       "      table.tdhistory479076 { display: block !important; min-height: 210px !important; overflow: auto !important; height: 210px !important; width: 100% !important; border: 1px solid rgb(207, 207, 207) !important; border-collapse: collapse !important; ; color: var(--jp-ui-font-color1) !important; }\n",
       "      th.tdhistory479076 { border: 1px solid rgb(198,198,198) !important; border-collapse: collapse !important; ; padding: 2px 5px !important; ; font-size: 13px !important; ; text-align: center !important; white-space: normal !important; color: var(--jp-ui-font-color1) !important; }\n",
       "      th.tdhistory479076:last-child { text-align: left !important; }\n",
       "      tbody.tdhistory479076 tr:nth-child(even) { background: rgba(243, 243, 243, 0.75) !important; }\n",
       "      tbody.tdhistory479076 tr:nth-child(odd) { background: var(--jp-ui-inverse-font-color1) !important; }\n",
       "      td.tdhistory479076 { border: 1px solid rgb(207, 207, 207) !important; border-collapse: collapse !important; ; padding: 2px 5px !important; ; font-size: 13px !important; ; text-align: left !important;          white-space: nowrap !important; overflow:hidden !important; text-overflow:ellipsis !important;; }\n",
       "    </style><thead><tr style= \"background: rgba(243, 243, 243, 0.75)\"><th class=\"tdhistory479076\"></th><th class=\"tdhistory479076\">Space_Report</th></tr></thead><tbody class=\"tdhistory479076 resultset-body\"><tr><th class=\"tdhistory479076\" style= \"background: rgba(243, 243, 243, 0.75)\">1</th><td class=\"tdhistory479076\">You have:  #databases=2 #tables=64 #views=17  You have used 24.4 MB of 27,914.4 MB available - 0.1%  ... Space Usage OK</td></tr><tr><th class=\"tdhistory479076\" style= \"background: rgba(243, 243, 243, 0.75)\">2</th><td class=\"tdhistory479076\"> </td></tr><tr><th class=\"tdhistory479076\" style= \"background: rgba(243, 243, 243, 0.75)\">3</th><td class=\"tdhistory479076\">   Database Name                  #tables  #views     Avail MB      Used MB</td></tr><tr><th class=\"tdhistory479076\" style= \"background: rgba(243, 243, 243, 0.75)\">4</th><td class=\"tdhistory479076\">   demo_user                           64       9  27,914.4 MB      24.4 MB </td></tr><tr><th class=\"tdhistory479076\" style= \"background: rgba(243, 243, 243, 0.75)\">5</th><td class=\"tdhistory479076\">   DEMO_Financial                       0       7       0.0 MB       0.0 MB </td></tr><tr><th class=\"tdhistory479076\" style= \"background: rgba(243, 243, 243, 0.75)\">6</th><td class=\"tdhistory479076\">   DEMO_RemaingUsefulLife               0       1       0.0 MB       0.0 MB </td></tr></tbody></table></div>"
      ]
     },
     "execution_count": 4,
     "metadata": {
      "application/vnd.teradata.resultset": "{\"resultSetID\":\"/home/jovyan/JupyterLabRoot/Teradata/Resultsets/2023.07.14_09.16.03.508_UTC\",\"historyID\":321,\"chunkID\":\"00001\",\"sessionid\":\"\",\"portnum\":\"\",\"dockermode\":\"docker\",\"totalRowCount\":6,\"chunkCount\":0,\"rowLimit\":0,\"columnMetadata\":[{\"columnName\":\"Space_Report\",\"columnTypeName\":\"VARCHAR\",\"length\":150,\"scale\":150}]}"
     },
     "output_type": "execute_result"
    }
   ],
   "source": [
    "call space_report();  -- optional, takes about 10 seconds"
   ]
  },
  {
   "cell_type": "markdown",
   "metadata": {},
   "source": [
    "<p style = 'font-size:16px;font-family:Arial'>Change focus to the database DEMO_Financial.</p>"
   ]
  },
  {
   "cell_type": "code",
   "execution_count": 5,
   "metadata": {},
   "outputs": [
    {
     "data": {
      "text/plain": [
       "Success: 1 rows affected"
      ]
     },
     "execution_count": 5,
     "metadata": {
      "application/vnd.teradata.resultset": ""
     },
     "output_type": "execute_result"
    }
   ],
   "source": [
    "DATABASE DEMO_Financial;"
   ]
  },
  {
   "cell_type": "markdown",
   "metadata": {},
   "source": [
    "<p style = 'font-size:20px;font-family:Arial;color:#E37C4D'><b>3. Demo data - Financial Customers/Accounts/Transactions</b></p>\n",
    "\n",
    "<p style = 'font-size:16px;font-family:Arial'>The following data has been put into the DEMO_Financial database for the examples in the three different Jupyter Notebooks.  It's a simplistic fictitious dataset of banking customers (approx. 10K rows), Accounts (approx. 20K rows) and Transactions (approx. 1Million rows).  They are related to each other in the following ways:</p>\n",
    "\n",
    "<img src=\"images/DemoData.png\">"
   ]
  },
  {
   "cell_type": "code",
   "execution_count": 6,
   "metadata": {
    "scrolled": true,
    "tags": []
   },
   "outputs": [
    {
     "data": {
      "application/vnd.teradata.resultset": "\"cust_id\",\"income\",\"age\",\"years_with_bank\",\"nbr_children\",\"gender\",\"marital_status\",\"postal_code\",\"state_code\"\n\"25893295\",\"878.9\",\"83\",\"10\",\"0\",\"F\",\"3\",\"10105\",\"NY\"\n\"28630917\",\"1152.5\",\"34\",\"4\",\"4\",\"F\",\"2\",\"92173\",\"CA\"\n\"29994756\",\"30384.2\",\"55\",\"5\",\"0\",\"F\",\"3\",\"68108\",\"NB\"\n\"14996542\",\"73623.0\",\"60\",\"10\",\"2\",\"F\",\"2\",\"46240\",\"IN\"\n\"28623063\",\"1673.3\",\"69\",\"9\",\"1\",\"M\",\"2\",\"10146\",\"NY\"\n\"21801968\",\"40440.4\",\"73\",\"6\",\"1\",\"M\",\"2\",\"77099\",\"TX\"\n\"23177698\",\"9032.6\",\"54\",\"10\",\"0\",\"F\",\"1\",\"90045\",\"CA\"\n\"25888545\",\"5053.6\",\"62\",\"8\",\"0\",\"M\",\"2\",\"94161\",\"CA\"\n\"31356958\",\"81045.1\",\"55\",\"5\",\"1\",\"M\",\"2\",\"85734\",\"AZ\"\n\"25899128\",\"2526.0\",\"43\",\"10\",\"3\",\"F\",\"2\",\"90048\",\"CA\"",
      "text/html": [
       "<div class = \"td-resultset-table-div\" style = \"max-height: 100%; overflow-y: auto\">\n",
       "      <table class=\"tdhistory771534\"><style>\n",
       "      table.tdhistory771534 { display: block !important; min-height: 294px !important; overflow: auto !important; height: 294px !important; width: 100% !important; border: 1px solid rgb(207, 207, 207) !important; border-collapse: collapse !important; ; color: var(--jp-ui-font-color1) !important; }\n",
       "      th.tdhistory771534 { border: 1px solid rgb(198,198,198) !important; border-collapse: collapse !important; ; padding: 2px 5px !important; ; font-size: 13px !important; ; text-align: center !important; white-space: normal !important; color: var(--jp-ui-font-color1) !important; }\n",
       "      th.tdhistory771534:last-child { text-align: left !important; }\n",
       "      tbody.tdhistory771534 tr:nth-child(even) { background: rgba(243, 243, 243, 0.75) !important; }\n",
       "      tbody.tdhistory771534 tr:nth-child(odd) { background: var(--jp-ui-inverse-font-color1) !important; }\n",
       "      td.tdhistory771534 { border: 1px solid rgb(207, 207, 207) !important; border-collapse: collapse !important; ; padding: 2px 5px !important; ; font-size: 13px !important; ; text-align: left !important;          white-space: nowrap !important; overflow:hidden !important; text-overflow:ellipsis !important;; }\n",
       "    </style><thead><tr style= \"background: rgba(243, 243, 243, 0.75)\"><th class=\"tdhistory771534\"></th><th class=\"tdhistory771534\">cust_id</th><th class=\"tdhistory771534\">income</th><th class=\"tdhistory771534\">age</th><th class=\"tdhistory771534\">years_with_bank</th><th class=\"tdhistory771534\">nbr_children</th><th class=\"tdhistory771534\">gender</th><th class=\"tdhistory771534\">marital_status</th><th class=\"tdhistory771534\">postal_code</th><th class=\"tdhistory771534\">state_code</th></tr></thead><tbody class=\"tdhistory771534 resultset-body\"><tr><th class=\"tdhistory771534\" style= \"background: rgba(243, 243, 243, 0.75)\">1</th><td class=\"tdhistory771534\">25893295</td><td class=\"tdhistory771534\">878.9</td><td class=\"tdhistory771534\">83</td><td class=\"tdhistory771534\">10</td><td class=\"tdhistory771534\">0</td><td class=\"tdhistory771534\">F</td><td class=\"tdhistory771534\">3</td><td class=\"tdhistory771534\">10105</td><td class=\"tdhistory771534\">NY</td></tr><tr><th class=\"tdhistory771534\" style= \"background: rgba(243, 243, 243, 0.75)\">2</th><td class=\"tdhistory771534\">28630917</td><td class=\"tdhistory771534\">1152.5</td><td class=\"tdhistory771534\">34</td><td class=\"tdhistory771534\">4</td><td class=\"tdhistory771534\">4</td><td class=\"tdhistory771534\">F</td><td class=\"tdhistory771534\">2</td><td class=\"tdhistory771534\">92173</td><td class=\"tdhistory771534\">CA</td></tr><tr><th class=\"tdhistory771534\" style= \"background: rgba(243, 243, 243, 0.75)\">3</th><td class=\"tdhistory771534\">29994756</td><td class=\"tdhistory771534\">30384.2</td><td class=\"tdhistory771534\">55</td><td class=\"tdhistory771534\">5</td><td class=\"tdhistory771534\">0</td><td class=\"tdhistory771534\">F</td><td class=\"tdhistory771534\">3</td><td class=\"tdhistory771534\">68108</td><td class=\"tdhistory771534\">NB</td></tr><tr><th class=\"tdhistory771534\" style= \"background: rgba(243, 243, 243, 0.75)\">4</th><td class=\"tdhistory771534\">14996542</td><td class=\"tdhistory771534\">73623.0</td><td class=\"tdhistory771534\">60</td><td class=\"tdhistory771534\">10</td><td class=\"tdhistory771534\">2</td><td class=\"tdhistory771534\">F</td><td class=\"tdhistory771534\">2</td><td class=\"tdhistory771534\">46240</td><td class=\"tdhistory771534\">IN</td></tr><tr><th class=\"tdhistory771534\" style= \"background: rgba(243, 243, 243, 0.75)\">5</th><td class=\"tdhistory771534\">28623063</td><td class=\"tdhistory771534\">1673.3</td><td class=\"tdhistory771534\">69</td><td class=\"tdhistory771534\">9</td><td class=\"tdhistory771534\">1</td><td class=\"tdhistory771534\">M</td><td class=\"tdhistory771534\">2</td><td class=\"tdhistory771534\">10146</td><td class=\"tdhistory771534\">NY</td></tr><tr><th class=\"tdhistory771534\" style= \"background: rgba(243, 243, 243, 0.75)\">6</th><td class=\"tdhistory771534\">21801968</td><td class=\"tdhistory771534\">40440.4</td><td class=\"tdhistory771534\">73</td><td class=\"tdhistory771534\">6</td><td class=\"tdhistory771534\">1</td><td class=\"tdhistory771534\">M</td><td class=\"tdhistory771534\">2</td><td class=\"tdhistory771534\">77099</td><td class=\"tdhistory771534\">TX</td></tr><tr><th class=\"tdhistory771534\" style= \"background: rgba(243, 243, 243, 0.75)\">7</th><td class=\"tdhistory771534\">23177698</td><td class=\"tdhistory771534\">9032.6</td><td class=\"tdhistory771534\">54</td><td class=\"tdhistory771534\">10</td><td class=\"tdhistory771534\">0</td><td class=\"tdhistory771534\">F</td><td class=\"tdhistory771534\">1</td><td class=\"tdhistory771534\">90045</td><td class=\"tdhistory771534\">CA</td></tr><tr><th class=\"tdhistory771534\" style= \"background: rgba(243, 243, 243, 0.75)\">8</th><td class=\"tdhistory771534\">25888545</td><td class=\"tdhistory771534\">5053.6</td><td class=\"tdhistory771534\">62</td><td class=\"tdhistory771534\">8</td><td class=\"tdhistory771534\">0</td><td class=\"tdhistory771534\">M</td><td class=\"tdhistory771534\">2</td><td class=\"tdhistory771534\">94161</td><td class=\"tdhistory771534\">CA</td></tr><tr><th class=\"tdhistory771534\" style= \"background: rgba(243, 243, 243, 0.75)\">9</th><td class=\"tdhistory771534\">31356958</td><td class=\"tdhistory771534\">81045.1</td><td class=\"tdhistory771534\">55</td><td class=\"tdhistory771534\">5</td><td class=\"tdhistory771534\">1</td><td class=\"tdhistory771534\">M</td><td class=\"tdhistory771534\">2</td><td class=\"tdhistory771534\">85734</td><td class=\"tdhistory771534\">AZ</td></tr><tr><th class=\"tdhistory771534\" style= \"background: rgba(243, 243, 243, 0.75)\">10</th><td class=\"tdhistory771534\">25899128</td><td class=\"tdhistory771534\">2526.0</td><td class=\"tdhistory771534\">43</td><td class=\"tdhistory771534\">10</td><td class=\"tdhistory771534\">3</td><td class=\"tdhistory771534\">F</td><td class=\"tdhistory771534\">2</td><td class=\"tdhistory771534\">90048</td><td class=\"tdhistory771534\">CA</td></tr></tbody></table></div>"
      ]
     },
     "execution_count": 6,
     "metadata": {
      "application/vnd.teradata.resultset": "{\"resultSetID\":\"/home/jovyan/JupyterLabRoot/Teradata/Resultsets/2023.07.14_09.16.06.035_UTC\",\"historyID\":323,\"chunkID\":\"00001\",\"sessionid\":\"\",\"portnum\":\"\",\"dockermode\":\"docker\",\"totalRowCount\":10,\"chunkCount\":0,\"rowLimit\":0,\"columnMetadata\":[{\"columnName\":\"cust_id\",\"columnTypeName\":\"INTEGER\"},{\"columnNumber\":1,\"columnName\":\"income\",\"columnTypeName\":\"DECIMAL\",\"length\":1,\"precision\":15,\"scale\":1},{\"columnNumber\":2,\"columnName\":\"age\",\"columnTypeName\":\"INTEGER\"},{\"columnNumber\":3,\"columnName\":\"years_with_bank\",\"columnTypeName\":\"INTEGER\"},{\"columnNumber\":4,\"columnName\":\"nbr_children\",\"columnTypeName\":\"INTEGER\"},{\"columnNumber\":5,\"columnName\":\"gender\",\"columnTypeName\":\"VARCHAR\",\"length\":1,\"scale\":1},{\"columnNumber\":6,\"columnName\":\"marital_status\",\"columnTypeName\":\"VARCHAR\",\"length\":1,\"scale\":1},{\"columnNumber\":7,\"columnName\":\"postal_code\",\"columnTypeName\":\"VARCHAR\",\"length\":5,\"scale\":5},{\"columnNumber\":8,\"columnName\":\"state_code\",\"columnTypeName\":\"VARCHAR\",\"length\":2,\"scale\":2}]}"
     },
     "output_type": "execute_result"
    }
   ],
   "source": [
    "SELECT * FROM DEMO_Financial.Customer SAMPLE 10;"
   ]
  },
  {
   "cell_type": "markdown",
   "metadata": {},
   "source": [
    "<p style = 'font-size:16px;font-family:Arial'>Below command gives the metadata for the table.</p>"
   ]
  },
  {
   "cell_type": "code",
   "execution_count": 7,
   "metadata": {},
   "outputs": [
    {
     "name": "stdout",
     "output_type": "stream",
     "text": [
      "Result Set ID: /home/jovyan/JupyterLabRoot/Teradata/Resultsets/2023.07.14_09.16.06.035_UTC\n",
      "History ID:    323\n",
      "Rows:          10 of 10\n",
      "Parts:         2\n",
      "Column Definitions:\n",
      "    cust_id: INTEGER\n",
      "    income: DECIMAL(15, 1)\n",
      "    age: INTEGER\n",
      "    years_with_bank: INTEGER\n",
      "    nbr_children: INTEGER\n",
      "    gender: VARCHAR(1)\n",
      "    marital_status: VARCHAR(1)\n",
      "    postal_code: VARCHAR(5)\n",
      "    state_code: VARCHAR(2)\n"
     ]
    }
   ],
   "source": [
    "%meta"
   ]
  },
  {
   "cell_type": "code",
   "execution_count": 8,
   "metadata": {},
   "outputs": [
    {
     "data": {
      "application/vnd.teradata.resultset": "\"acct_nbr\",\"cust_id\",\"acct_type\",\"account_active\",\"acct_start_date\",\"starting_balance\",\"ending_balance\"\n\"000000001363093320\",\"27261860\",\"SV\",\"N\",\"1986-05-30\",\"1889.220\",\"612.801\"\n\"000000001363377216\",\"21814032\",\"CK\",\"Y\",\"1995-04-13\",\"8466.596\",\"166.500\"\n\"000000001363343319\",\"25903517\",\"SV\",\"Y\",\"1995-03-14\",\"2717.190\",\"6223.715\"\n\"000000001363404321\",\"28631484\",\"SV\",\"Y\",\"1995-02-22\",\"135.290\",\"509.730\"\n\"000000001362817322\",\"29981974\",\"SV\",\"Y\",\"1991-03-28\",\"157.993\",\"6868.680\"\n\"000000001363331216\",\"21813296\",\"CK\",\"Y\",\"1991-04-22\",\"13164.088\",\"2917.680\"\n\"000000001363157213\",\"17721041\",\"CK\",\"Y\",\"1995-12-23\",\"59470.669\",\"262.003\"\n\"000000001363154219\",\"25899926\",\"CK\",\"Y\",\"1991-02-12\",\"584.460\",\"62.093\"\n\"000000001363420221\",\"28631820\",\"CK\",\"Y\",\"1993-03-24\",\"2846.630\",\"237.980\"\n\"456114321363223413\",\"17721899\",\"CC\",\"Y\",\"1992-06-13\",\"4011.055\",\"1307.427\"",
      "text/html": [
       "<div class = \"td-resultset-table-div\" style = \"max-height: 100%; overflow-y: auto\">\n",
       "      <table class=\"tdhistory928197\"><style>\n",
       "      table.tdhistory928197 { display: block !important; min-height: 294px !important; overflow: auto !important; height: 294px !important; width: 100% !important; border: 1px solid rgb(207, 207, 207) !important; border-collapse: collapse !important; ; color: var(--jp-ui-font-color1) !important; }\n",
       "      th.tdhistory928197 { border: 1px solid rgb(198,198,198) !important; border-collapse: collapse !important; ; padding: 2px 5px !important; ; font-size: 13px !important; ; text-align: center !important; white-space: normal !important; color: var(--jp-ui-font-color1) !important; }\n",
       "      th.tdhistory928197:last-child { text-align: left !important; }\n",
       "      tbody.tdhistory928197 tr:nth-child(even) { background: rgba(243, 243, 243, 0.75) !important; }\n",
       "      tbody.tdhistory928197 tr:nth-child(odd) { background: var(--jp-ui-inverse-font-color1) !important; }\n",
       "      td.tdhistory928197 { border: 1px solid rgb(207, 207, 207) !important; border-collapse: collapse !important; ; padding: 2px 5px !important; ; font-size: 13px !important; ; text-align: left !important;          white-space: nowrap !important; overflow:hidden !important; text-overflow:ellipsis !important;; }\n",
       "    </style><thead><tr style= \"background: rgba(243, 243, 243, 0.75)\"><th class=\"tdhistory928197\"></th><th class=\"tdhistory928197\">acct_nbr</th><th class=\"tdhistory928197\">cust_id</th><th class=\"tdhistory928197\">acct_type</th><th class=\"tdhistory928197\">account_active</th><th class=\"tdhistory928197\">acct_start_date</th><th class=\"tdhistory928197\">starting_balance</th><th class=\"tdhistory928197\">ending_balance</th></tr></thead><tbody class=\"tdhistory928197 resultset-body\"><tr><th class=\"tdhistory928197\" style= \"background: rgba(243, 243, 243, 0.75)\">1</th><td class=\"tdhistory928197\">000000001363093320</td><td class=\"tdhistory928197\">27261860</td><td class=\"tdhistory928197\">SV</td><td class=\"tdhistory928197\">N</td><td class=\"tdhistory928197\">1986-05-30</td><td class=\"tdhistory928197\">1889.220</td><td class=\"tdhistory928197\">612.801</td></tr><tr><th class=\"tdhistory928197\" style= \"background: rgba(243, 243, 243, 0.75)\">2</th><td class=\"tdhistory928197\">000000001363377216</td><td class=\"tdhistory928197\">21814032</td><td class=\"tdhistory928197\">CK</td><td class=\"tdhistory928197\">Y</td><td class=\"tdhistory928197\">1995-04-13</td><td class=\"tdhistory928197\">8466.596</td><td class=\"tdhistory928197\">166.500</td></tr><tr><th class=\"tdhistory928197\" style= \"background: rgba(243, 243, 243, 0.75)\">3</th><td class=\"tdhistory928197\">000000001363343319</td><td class=\"tdhistory928197\">25903517</td><td class=\"tdhistory928197\">SV</td><td class=\"tdhistory928197\">Y</td><td class=\"tdhistory928197\">1995-03-14</td><td class=\"tdhistory928197\">2717.190</td><td class=\"tdhistory928197\">6223.715</td></tr><tr><th class=\"tdhistory928197\" style= \"background: rgba(243, 243, 243, 0.75)\">4</th><td class=\"tdhistory928197\">000000001363404321</td><td class=\"tdhistory928197\">28631484</td><td class=\"tdhistory928197\">SV</td><td class=\"tdhistory928197\">Y</td><td class=\"tdhistory928197\">1995-02-22</td><td class=\"tdhistory928197\">135.290</td><td class=\"tdhistory928197\">509.730</td></tr><tr><th class=\"tdhistory928197\" style= \"background: rgba(243, 243, 243, 0.75)\">5</th><td class=\"tdhistory928197\">000000001362817322</td><td class=\"tdhistory928197\">29981974</td><td class=\"tdhistory928197\">SV</td><td class=\"tdhistory928197\">Y</td><td class=\"tdhistory928197\">1991-03-28</td><td class=\"tdhistory928197\">157.993</td><td class=\"tdhistory928197\">6868.680</td></tr><tr><th class=\"tdhistory928197\" style= \"background: rgba(243, 243, 243, 0.75)\">6</th><td class=\"tdhistory928197\">000000001363331216</td><td class=\"tdhistory928197\">21813296</td><td class=\"tdhistory928197\">CK</td><td class=\"tdhistory928197\">Y</td><td class=\"tdhistory928197\">1991-04-22</td><td class=\"tdhistory928197\">13164.088</td><td class=\"tdhistory928197\">2917.680</td></tr><tr><th class=\"tdhistory928197\" style= \"background: rgba(243, 243, 243, 0.75)\">7</th><td class=\"tdhistory928197\">000000001363157213</td><td class=\"tdhistory928197\">17721041</td><td class=\"tdhistory928197\">CK</td><td class=\"tdhistory928197\">Y</td><td class=\"tdhistory928197\">1995-12-23</td><td class=\"tdhistory928197\">59470.669</td><td class=\"tdhistory928197\">262.003</td></tr><tr><th class=\"tdhistory928197\" style= \"background: rgba(243, 243, 243, 0.75)\">8</th><td class=\"tdhistory928197\">000000001363154219</td><td class=\"tdhistory928197\">25899926</td><td class=\"tdhistory928197\">CK</td><td class=\"tdhistory928197\">Y</td><td class=\"tdhistory928197\">1991-02-12</td><td class=\"tdhistory928197\">584.460</td><td class=\"tdhistory928197\">62.093</td></tr><tr><th class=\"tdhistory928197\" style= \"background: rgba(243, 243, 243, 0.75)\">9</th><td class=\"tdhistory928197\">000000001363420221</td><td class=\"tdhistory928197\">28631820</td><td class=\"tdhistory928197\">CK</td><td class=\"tdhistory928197\">Y</td><td class=\"tdhistory928197\">1993-03-24</td><td class=\"tdhistory928197\">2846.630</td><td class=\"tdhistory928197\">237.980</td></tr><tr><th class=\"tdhistory928197\" style= \"background: rgba(243, 243, 243, 0.75)\">10</th><td class=\"tdhistory928197\">456114321363223413</td><td class=\"tdhistory928197\">17721899</td><td class=\"tdhistory928197\">CC</td><td class=\"tdhistory928197\">Y</td><td class=\"tdhistory928197\">1992-06-13</td><td class=\"tdhistory928197\">4011.055</td><td class=\"tdhistory928197\">1307.427</td></tr></tbody></table></div>"
      ]
     },
     "execution_count": 8,
     "metadata": {
      "application/vnd.teradata.resultset": "{\"resultSetID\":\"/home/jovyan/JupyterLabRoot/Teradata/Resultsets/2023.07.14_09.16.08.286_UTC\",\"historyID\":324,\"chunkID\":\"00001\",\"sessionid\":\"\",\"portnum\":\"\",\"dockermode\":\"docker\",\"totalRowCount\":10,\"chunkCount\":0,\"rowLimit\":0,\"columnMetadata\":[{\"columnName\":\"acct_nbr\",\"columnTypeName\":\"VARCHAR\",\"length\":18,\"scale\":18},{\"columnNumber\":1,\"columnName\":\"cust_id\",\"columnTypeName\":\"INTEGER\"},{\"columnNumber\":2,\"columnName\":\"acct_type\",\"columnTypeName\":\"VARCHAR\",\"length\":2,\"scale\":2},{\"columnNumber\":3,\"columnName\":\"account_active\",\"columnTypeName\":\"VARCHAR\",\"length\":1,\"scale\":1},{\"columnNumber\":4,\"columnName\":\"acct_start_date\",\"columnTypeName\":\"DATE\"},{\"columnNumber\":5,\"columnName\":\"starting_balance\",\"columnTypeName\":\"DECIMAL\",\"length\":3,\"precision\":11,\"scale\":3},{\"columnNumber\":6,\"columnName\":\"ending_balance\",\"columnTypeName\":\"DECIMAL\",\"length\":3,\"precision\":11,\"scale\":3}]}"
     },
     "output_type": "execute_result"
    }
   ],
   "source": [
    "SELECT * FROM DEMO_Financial.Accounts SAMPLE 10;"
   ]
  },
  {
   "cell_type": "code",
   "execution_count": 9,
   "metadata": {},
   "outputs": [
    {
     "data": {
      "application/vnd.teradata.resultset": "\"tran_id\",\"acct_nbr\",\"tran_amt\",\"principal_amt\",\"interest_amt\",\"new_balance\",\"tran_date\",\"tran_time\",\"channel\",\"tran_code\"\n\"390\",\"000000001362975213\",\"188.70\",\"233.70\",\".000\",\"521.22\",\"1995-01-24\",\"93635\",\"E\",\"DP\"\n\"138\",\"000000001362702323\",\"-271.68\",\"-271.68\",\".000\",\"476.54\",\"1995-02-13\",\"164417\",\"A\",\"TR\"\n\"630\",\"000000001362928214\",\"323.82\",\"74.48\",\".760\",\"632.89\",\"1995-02-04\",\"201131\",\"A\",\"DP\"\n\"18\",\"000000001363009218\",\"15.87\",\".00\",\"35.708\",\"12708.70\",\"1995-01-31\",\"235959\",\"\",\"IN\"\n\"750\",\"000000001363026215\",\"-.75\",\"-3.75\",\"5.000\",\"105.16\",\"1995-01-23\",\"155545\",\"\",\"FU\"\n\"36\",\"456114321363291418\",\"-310.45\",\"-1241.80\",\".000\",\"-612.92\",\"1995-06-08\",\"232148\",\"E\",\"CG\"\n\"442\",\"000000001362809217\",\"-72.10\",\"3.90\",\".000\",\"2510.88\",\"1995-05-25\",\"0\",\"P\",\"WD\"\n\"117\",\"000000001363183213\",\"-245.22\",\"-200.22\",\".000\",\"4856.20\",\"1995-01-08\",\"0\",\"P\",\"WD\"\n\"1411\",\"000000001362652217\",\"-2.68\",\"73.32\",\".000\",\"10.12\",\"1995-10-30\",\"0\",\"P\",\"WD\"\n\"1040\",\"000000001363257320\",\"1.51\",\".00\",\"5.510\",\"1209.67\",\"1995-12-31\",\"235959\",\"\",\"IN\"",
      "text/html": [
       "<div class = \"td-resultset-table-div\" style = \"max-height: 100%; overflow-y: auto\">\n",
       "      <table class=\"tdhistory193377\"><style>\n",
       "      table.tdhistory193377 { display: block !important; min-height: 294px !important; overflow: auto !important; height: 294px !important; width: 100% !important; border: 1px solid rgb(207, 207, 207) !important; border-collapse: collapse !important; ; color: var(--jp-ui-font-color1) !important; }\n",
       "      th.tdhistory193377 { border: 1px solid rgb(198,198,198) !important; border-collapse: collapse !important; ; padding: 2px 5px !important; ; font-size: 13px !important; ; text-align: center !important; white-space: normal !important; color: var(--jp-ui-font-color1) !important; }\n",
       "      th.tdhistory193377:last-child { text-align: left !important; }\n",
       "      tbody.tdhistory193377 tr:nth-child(even) { background: rgba(243, 243, 243, 0.75) !important; }\n",
       "      tbody.tdhistory193377 tr:nth-child(odd) { background: var(--jp-ui-inverse-font-color1) !important; }\n",
       "      td.tdhistory193377 { border: 1px solid rgb(207, 207, 207) !important; border-collapse: collapse !important; ; padding: 2px 5px !important; ; font-size: 13px !important; ; text-align: left !important;          white-space: nowrap !important; overflow:hidden !important; text-overflow:ellipsis !important;; }\n",
       "    </style><thead><tr style= \"background: rgba(243, 243, 243, 0.75)\"><th class=\"tdhistory193377\"></th><th class=\"tdhistory193377\">tran_id</th><th class=\"tdhistory193377\">acct_nbr</th><th class=\"tdhistory193377\">tran_amt</th><th class=\"tdhistory193377\">principal_amt</th><th class=\"tdhistory193377\">interest_amt</th><th class=\"tdhistory193377\">new_balance</th><th class=\"tdhistory193377\">tran_date</th><th class=\"tdhistory193377\">tran_time</th><th class=\"tdhistory193377\">channel</th><th class=\"tdhistory193377\">tran_code</th></tr></thead><tbody class=\"tdhistory193377 resultset-body\"><tr><th class=\"tdhistory193377\" style= \"background: rgba(243, 243, 243, 0.75)\">1</th><td class=\"tdhistory193377\">390</td><td class=\"tdhistory193377\">000000001362975213</td><td class=\"tdhistory193377\">188.70</td><td class=\"tdhistory193377\">233.70</td><td class=\"tdhistory193377\">.000</td><td class=\"tdhistory193377\">521.22</td><td class=\"tdhistory193377\">1995-01-24</td><td class=\"tdhistory193377\">93635</td><td class=\"tdhistory193377\">E</td><td class=\"tdhistory193377\">DP</td></tr><tr><th class=\"tdhistory193377\" style= \"background: rgba(243, 243, 243, 0.75)\">2</th><td class=\"tdhistory193377\">138</td><td class=\"tdhistory193377\">000000001362702323</td><td class=\"tdhistory193377\">-271.68</td><td class=\"tdhistory193377\">-271.68</td><td class=\"tdhistory193377\">.000</td><td class=\"tdhistory193377\">476.54</td><td class=\"tdhistory193377\">1995-02-13</td><td class=\"tdhistory193377\">164417</td><td class=\"tdhistory193377\">A</td><td class=\"tdhistory193377\">TR</td></tr><tr><th class=\"tdhistory193377\" style= \"background: rgba(243, 243, 243, 0.75)\">3</th><td class=\"tdhistory193377\">630</td><td class=\"tdhistory193377\">000000001362928214</td><td class=\"tdhistory193377\">323.82</td><td class=\"tdhistory193377\">74.48</td><td class=\"tdhistory193377\">.760</td><td class=\"tdhistory193377\">632.89</td><td class=\"tdhistory193377\">1995-02-04</td><td class=\"tdhistory193377\">201131</td><td class=\"tdhistory193377\">A</td><td class=\"tdhistory193377\">DP</td></tr><tr><th class=\"tdhistory193377\" style= \"background: rgba(243, 243, 243, 0.75)\">4</th><td class=\"tdhistory193377\">18</td><td class=\"tdhistory193377\">000000001363009218</td><td class=\"tdhistory193377\">15.87</td><td class=\"tdhistory193377\">.00</td><td class=\"tdhistory193377\">35.708</td><td class=\"tdhistory193377\">12708.70</td><td class=\"tdhistory193377\">1995-01-31</td><td class=\"tdhistory193377\">235959</td><td class=\"tdhistory193377\"></td><td class=\"tdhistory193377\">IN</td></tr><tr><th class=\"tdhistory193377\" style= \"background: rgba(243, 243, 243, 0.75)\">5</th><td class=\"tdhistory193377\">750</td><td class=\"tdhistory193377\">000000001363026215</td><td class=\"tdhistory193377\">-.75</td><td class=\"tdhistory193377\">-3.75</td><td class=\"tdhistory193377\">5.000</td><td class=\"tdhistory193377\">105.16</td><td class=\"tdhistory193377\">1995-01-23</td><td class=\"tdhistory193377\">155545</td><td class=\"tdhistory193377\"></td><td class=\"tdhistory193377\">FU</td></tr><tr><th class=\"tdhistory193377\" style= \"background: rgba(243, 243, 243, 0.75)\">6</th><td class=\"tdhistory193377\">36</td><td class=\"tdhistory193377\">456114321363291418</td><td class=\"tdhistory193377\">-310.45</td><td class=\"tdhistory193377\">-1241.80</td><td class=\"tdhistory193377\">.000</td><td class=\"tdhistory193377\">-612.92</td><td class=\"tdhistory193377\">1995-06-08</td><td class=\"tdhistory193377\">232148</td><td class=\"tdhistory193377\">E</td><td class=\"tdhistory193377\">CG</td></tr><tr><th class=\"tdhistory193377\" style= \"background: rgba(243, 243, 243, 0.75)\">7</th><td class=\"tdhistory193377\">442</td><td class=\"tdhistory193377\">000000001362809217</td><td class=\"tdhistory193377\">-72.10</td><td class=\"tdhistory193377\">3.90</td><td class=\"tdhistory193377\">.000</td><td class=\"tdhistory193377\">2510.88</td><td class=\"tdhistory193377\">1995-05-25</td><td class=\"tdhistory193377\">0</td><td class=\"tdhistory193377\">P</td><td class=\"tdhistory193377\">WD</td></tr><tr><th class=\"tdhistory193377\" style= \"background: rgba(243, 243, 243, 0.75)\">8</th><td class=\"tdhistory193377\">117</td><td class=\"tdhistory193377\">000000001363183213</td><td class=\"tdhistory193377\">-245.22</td><td class=\"tdhistory193377\">-200.22</td><td class=\"tdhistory193377\">.000</td><td class=\"tdhistory193377\">4856.20</td><td class=\"tdhistory193377\">1995-01-08</td><td class=\"tdhistory193377\">0</td><td class=\"tdhistory193377\">P</td><td class=\"tdhistory193377\">WD</td></tr><tr><th class=\"tdhistory193377\" style= \"background: rgba(243, 243, 243, 0.75)\">9</th><td class=\"tdhistory193377\">1411</td><td class=\"tdhistory193377\">000000001362652217</td><td class=\"tdhistory193377\">-2.68</td><td class=\"tdhistory193377\">73.32</td><td class=\"tdhistory193377\">.000</td><td class=\"tdhistory193377\">10.12</td><td class=\"tdhistory193377\">1995-10-30</td><td class=\"tdhistory193377\">0</td><td class=\"tdhistory193377\">P</td><td class=\"tdhistory193377\">WD</td></tr><tr><th class=\"tdhistory193377\" style= \"background: rgba(243, 243, 243, 0.75)\">10</th><td class=\"tdhistory193377\">1040</td><td class=\"tdhistory193377\">000000001363257320</td><td class=\"tdhistory193377\">1.51</td><td class=\"tdhistory193377\">.00</td><td class=\"tdhistory193377\">5.510</td><td class=\"tdhistory193377\">1209.67</td><td class=\"tdhistory193377\">1995-12-31</td><td class=\"tdhistory193377\">235959</td><td class=\"tdhistory193377\"></td><td class=\"tdhistory193377\">IN</td></tr></tbody></table></div>"
      ]
     },
     "execution_count": 9,
     "metadata": {
      "application/vnd.teradata.resultset": "{\"resultSetID\":\"/home/jovyan/JupyterLabRoot/Teradata/Resultsets/2023.07.14_09.16.12.764_UTC\",\"historyID\":325,\"chunkID\":\"00001\",\"sessionid\":\"\",\"portnum\":\"\",\"dockermode\":\"docker\",\"totalRowCount\":10,\"chunkCount\":0,\"rowLimit\":0,\"columnMetadata\":[{\"columnName\":\"tran_id\",\"columnTypeName\":\"INTEGER\"},{\"columnNumber\":1,\"columnName\":\"acct_nbr\",\"columnTypeName\":\"VARCHAR\",\"length\":18,\"scale\":18},{\"columnNumber\":2,\"columnName\":\"tran_amt\",\"columnTypeName\":\"DECIMAL\",\"length\":2,\"precision\":9,\"scale\":2},{\"columnNumber\":3,\"columnName\":\"principal_amt\",\"columnTypeName\":\"DECIMAL\",\"length\":2,\"precision\":15,\"scale\":2},{\"columnNumber\":4,\"columnName\":\"interest_amt\",\"columnTypeName\":\"DECIMAL\",\"length\":3,\"precision\":11,\"scale\":3},{\"columnNumber\":5,\"columnName\":\"new_balance\",\"columnTypeName\":\"DECIMAL\",\"length\":2,\"precision\":9,\"scale\":2},{\"columnNumber\":6,\"columnName\":\"tran_date\",\"columnTypeName\":\"DATE\"},{\"columnNumber\":7,\"columnName\":\"tran_time\",\"columnTypeName\":\"INTEGER\"},{\"columnNumber\":8,\"columnName\":\"channel\",\"columnTypeName\":\"VARCHAR\",\"length\":1,\"scale\":1},{\"columnNumber\":9,\"columnName\":\"tran_code\",\"columnTypeName\":\"VARCHAR\",\"length\":2,\"scale\":2}]}"
     },
     "output_type": "execute_result"
    }
   ],
   "source": [
    "SELECT * FROM DEMO_Financial.Transactions SAMPLE 10;"
   ]
  },
  {
   "cell_type": "markdown",
   "metadata": {},
   "source": [
    "---"
   ]
  },
  {
   "cell_type": "markdown",
   "metadata": {},
   "source": [
    "<p style = 'font-size:16px;font-family:Arial'>The following Analytic Data Set (ADS) was created by joining all three tables above:</p>"
   ]
  },
  {
   "cell_type": "code",
   "execution_count": 10,
   "metadata": {},
   "outputs": [
    {
     "data": {
      "text/plain": [
       "Success: 0 rows affected"
      ]
     },
     "execution_count": 10,
     "metadata": {
      "application/vnd.teradata.resultset": ""
     },
     "output_type": "execute_result"
    }
   ],
   "source": [
    "CREATE TABLE demo_user.VAL_ADS AS (\n",
    "    SELECT \n",
    "        T1.cust_id  AS cust_id\n",
    "       ,MIN(T1.income) AS tot_income\n",
    "       ,MIN(T1.age) AS tot_age\n",
    "       ,MIN(T1.years_with_bank) AS tot_cust_years\n",
    "       ,MIN(T1.nbr_children) AS tot_children\n",
    "       ,CASE WHEN MIN(T1.marital_status) = 1 THEN 1 ELSE 0 END AS single_ind\n",
    "       ,CASE WHEN MIN(T1.gender) = 'F' THEN 1 ELSE 0 END AS female_ind\n",
    "       ,CASE WHEN MIN(T1.marital_status) = 2 THEN 1 ELSE 0 END AS married_ind\n",
    "       ,CASE WHEN MIN(T1.marital_status) = 3 THEN 1 ELSE 0 END AS separated_ind\n",
    "       ,MAX(CASE WHEN T1.state_code = 'CA' THEN 1 ELSE 0 END) AS ca_resident_ind\n",
    "       ,MAX(CASE WHEN T1.state_code = 'NY' THEN 1 ELSE 0 END) AS ny_resident_ind\n",
    "       ,MAX(CASE WHEN T1.state_code = 'TX' THEN 1 ELSE 0 END) AS tx_resident_ind\n",
    "       ,MAX(CASE WHEN T1.state_code = 'IL' THEN 1 ELSE 0 END) AS il_resident_ind\n",
    "       ,MAX(CASE WHEN T1.state_code = 'AZ' THEN 1 ELSE 0 END) AS az_resident_ind\n",
    "       ,MAX(CASE WHEN T1.state_code = 'OH' THEN 1 ELSE 0 END) AS oh_resident_ind\n",
    "       ,MAX(CASE WHEN T2.acct_type = 'CK' THEN 1 ELSE 0 END) AS ck_acct_ind\n",
    "       ,MAX(CASE WHEN T2.acct_type = 'SV' THEN 1 ELSE 0 END) AS sv_acct_ind\n",
    "       ,MAX(CASE WHEN T2.acct_type = 'CC' THEN 1 ELSE 0 END) AS cc_acct_ind\n",
    "       ,AVG(CASE WHEN T2.acct_type = 'CK' THEN T2.starting_balance+T2.ending_balance ELSE 0 END) AS ck_avg_bal\n",
    "       ,AVG(CASE WHEN T2.acct_type = 'SV' THEN T2.starting_balance+T2.ending_balance ELSE 0 END) AS sv_avg_bal\n",
    "       ,AVG(CASE WHEN T2.acct_type = 'CC' THEN T2.starting_balance+T2.ending_balance ELSE 0 END) AS cc_avg_bal\n",
    "       ,AVG(CASE WHEN T2.acct_type = 'CK' THEN T3.principal_amt+T3.interest_amt ELSE 0 END) AS ck_avg_tran_amt\n",
    "       ,AVG(CASE WHEN T2.acct_type = 'SV' THEN T3.principal_amt+T3.interest_amt ELSE 0 END) AS sv_avg_tran_amt\n",
    "       ,AVG(CASE WHEN T2.acct_type = 'CC' THEN T3.principal_amt+T3.interest_amt ELSE 0 END) AS cc_avg_tran_amt\n",
    "       ,COUNT(CASE WHEN ((EXTRACT(MONTH FROM T3.tran_date) + 2) / 3) = 1 THEN T3.tran_id ELSE NULL END) AS q1_trans_cnt\n",
    "       ,COUNT(CASE WHEN ((EXTRACT(MONTH FROM T3.tran_date) + 2) / 3) = 2 THEN T3.tran_id ELSE NULL END) AS q2_trans_cnt\n",
    "       ,COUNT(CASE WHEN ((EXTRACT(MONTH FROM T3.tran_date) + 2) / 3) = 3 THEN T3.tran_id ELSE NULL END) AS q3_trans_cnt\n",
    "       ,COUNT(CASE WHEN ((EXTRACT(MONTH FROM T3.tran_date) + 2) / 3) = 4 THEN T3.tran_id ELSE NULL END) AS q4_trans_cnt\n",
    "    FROM DEMO_Financial.Customer AS T1\n",
    "        LEFT OUTER JOIN DEMO_Financial.Accounts AS T2\n",
    "            ON T1.cust_id = T2.cust_id\n",
    "        LEFT OUTER JOIN DEMO_Financial.Transactions AS T3\n",
    "            ON T2.acct_nbr = T3.acct_nbr\n",
    "GROUP BY T1.cust_id) WITH DATA UNIQUE PRIMARY INDEX (cust_id);"
   ]
  },
  {
   "cell_type": "code",
   "execution_count": 11,
   "metadata": {},
   "outputs": [
    {
     "data": {
      "application/vnd.teradata.resultset": "\"cust_id\",\"tot_income\",\"tot_age\",\"tot_cust_years\",\"tot_children\",\"single_ind\",\"female_ind\",\"married_ind\",\"separated_ind\",\"ca_resident_ind\",\"ny_resident_ind\",\"tx_resident_ind\",\"il_resident_ind\",\"az_resident_ind\",\"oh_resident_ind\",\"ck_acct_ind\",\"sv_acct_ind\",\"cc_acct_ind\",\"ck_avg_bal\",\"sv_avg_bal\",\"cc_avg_bal\",\"ck_avg_tran_amt\",\"sv_avg_tran_amt\",\"cc_avg_tran_amt\",\"q1_trans_cnt\",\"q2_trans_cnt\",\"q3_trans_cnt\",\"q4_trans_cnt\"\n\"23178905\",\"7466.4\",\"46\",\"2\",\"1\",\"0\",\"0\",\"0\",\"0\",\"1\",\"0\",\"0\",\"0\",\"0\",\"0\",\"1\",\"1\",\"0\",\"6455.0514\",\"387.89312\",\"0\",\"51.42870666666666\",\"12.65528\",\"0\",\"9\",\"9\",\"9\",\"48\"\n\"13628990\",\"43715.0\",\"34\",\"4\",\"3\",\"0\",\"1\",\"1\",\"0\",\"0\",\"0\",\"0\",\"1\",\"0\",\"0\",\"0\",\"1\",\"0\",\"0\",\"11569.832\",\"0\",\"0\",\"4.935333333333333\",\"0\",\"3\",\"3\",\"3\",\"3\"\n\"24538662\",\"13203.0\",\"30\",\"7\",\"3\",\"0\",\"0\",\"1\",\"0\",\"1\",\"0\",\"0\",\"0\",\"0\",\"0\",\"0\",\"0\",\"1\",\"0\",\"0\",\"830.9\",\"0\",\"0\",\"3.588\",\"13\",\"10\",\"15\",\"17\"\n\"28615734\",\".0\",\"14\",\"6\",\"1\",\"1\",\"1\",\"0\",\"0\",\"0\",\"0\",\"1\",\"0\",\"0\",\"0\",\"0\",\"1\",\"0\",\"0\",\"1386.99\",\"0\",\"0\",\"0.9401904761904762\",\"0\",\"3\",\"4\",\"8\",\"6\"\n\"25904334\",\"2286.3\",\"90\",\"7\",\"0\",\"0\",\"0\",\"1\",\"0\",\"0\",\"0\",\"0\",\"0\",\"0\",\"0\",\"0\",\"0\",\"0\",\"0\",\"0\",\"0\",\"0\",\"0\",\"0\",\"0\",\"0\",\"0\",\"0\"\n\"31347183\",\"45970.1\",\"45\",\"5\",\"2\",\"0\",\"1\",\"0\",\"1\",\"0\",\"0\",\"0\",\"0\",\"0\",\"0\",\"1\",\"0\",\"1\",\"281.39733333333334\",\"0\",\"573.0386666666667\",\"-2.956\",\"0\",\"25.15222222222222\",\"26\",\"22\",\"19\",\"23\"\n\"20443965\",\"59556.0\",\"58\",\"5\",\"3\",\"0\",\"1\",\"1\",\"0\",\"1\",\"0\",\"0\",\"0\",\"0\",\"0\",\"1\",\"0\",\"0\",\"18737.367\",\"0\",\"0\",\"-241.38353535353536\",\"0\",\"0\",\"99\",\"0\",\"0\",\"0\"\n\"14998049\",\"13138.4\",\"42\",\"2\",\"3\",\"0\",\"0\",\"1\",\"0\",\"0\",\"0\",\"0\",\"0\",\"0\",\"0\",\"0\",\"0\",\"1\",\"0\",\"0\",\"14700\",\"0\",\"0\",\"-1241.3523103448276\",\"0\",\"0\",\"0\",\"29\"\n\"21806688\",\"44652.4\",\"81\",\"4\",\"1\",\"0\",\"0\",\"1\",\"0\",\"1\",\"0\",\"0\",\"0\",\"0\",\"0\",\"1\",\"1\",\"1\",\"615.0438\",\"185.97483636363637\",\"532.2672727272727\",\"5.181060606060606\",\"1.1731636363636364\",\"-0.46945454545454546\",\"115\",\"15\",\"13\",\"22\"\n\"19082896\",\".0\",\"14\",\"6\",\"1\",\"1\",\"1\",\"0\",\"0\",\"0\",\"1\",\"0\",\"0\",\"0\",\"0\",\"0\",\"1\",\"0\",\"0\",\"4831.781\",\"0\",\"0\",\"7.314375\",\"0\",\"3\",\"5\",\"14\",\"10\"",
      "text/html": [
       "<div class = \"td-resultset-table-div\" style = \"max-height: 100%; overflow-y: auto\">\n",
       "      <table class=\"tdhistory650905\"><style>\n",
       "      table.tdhistory650905 { display: block !important; min-height: 294px !important; overflow: auto !important; height: 294px !important; width: 100% !important; border: 1px solid rgb(207, 207, 207) !important; border-collapse: collapse !important; ; color: var(--jp-ui-font-color1) !important; }\n",
       "      th.tdhistory650905 { border: 1px solid rgb(198,198,198) !important; border-collapse: collapse !important; ; padding: 2px 5px !important; ; font-size: 13px !important; ; text-align: center !important; white-space: normal !important; color: var(--jp-ui-font-color1) !important; }\n",
       "      th.tdhistory650905:last-child { text-align: left !important; }\n",
       "      tbody.tdhistory650905 tr:nth-child(even) { background: rgba(243, 243, 243, 0.75) !important; }\n",
       "      tbody.tdhistory650905 tr:nth-child(odd) { background: var(--jp-ui-inverse-font-color1) !important; }\n",
       "      td.tdhistory650905 { border: 1px solid rgb(207, 207, 207) !important; border-collapse: collapse !important; ; padding: 2px 5px !important; ; font-size: 13px !important; ; text-align: left !important;          white-space: nowrap !important; overflow:hidden !important; text-overflow:ellipsis !important;; }\n",
       "    </style><thead><tr style= \"background: rgba(243, 243, 243, 0.75)\"><th class=\"tdhistory650905\"></th><th class=\"tdhistory650905\">cust_id</th><th class=\"tdhistory650905\">tot_income</th><th class=\"tdhistory650905\">tot_age</th><th class=\"tdhistory650905\">tot_cust_years</th><th class=\"tdhistory650905\">tot_children</th><th class=\"tdhistory650905\">single_ind</th><th class=\"tdhistory650905\">female_ind</th><th class=\"tdhistory650905\">married_ind</th><th class=\"tdhistory650905\">separated_ind</th><th class=\"tdhistory650905\">ca_resident_ind</th><th class=\"tdhistory650905\">ny_resident_ind</th><th class=\"tdhistory650905\">tx_resident_ind</th><th class=\"tdhistory650905\">il_resident_ind</th><th class=\"tdhistory650905\">az_resident_ind</th><th class=\"tdhistory650905\">oh_resident_ind</th><th class=\"tdhistory650905\">ck_acct_ind</th><th class=\"tdhistory650905\">sv_acct_ind</th><th class=\"tdhistory650905\">cc_acct_ind</th><th class=\"tdhistory650905\">ck_avg_bal</th><th class=\"tdhistory650905\">sv_avg_bal</th><th class=\"tdhistory650905\">cc_avg_bal</th><th class=\"tdhistory650905\">ck_avg_tran_amt</th><th class=\"tdhistory650905\">sv_avg_tran_amt</th><th class=\"tdhistory650905\">cc_avg_tran_amt</th><th class=\"tdhistory650905\">q1_trans_cnt</th><th class=\"tdhistory650905\">q2_trans_cnt</th><th class=\"tdhistory650905\">q3_trans_cnt</th><th class=\"tdhistory650905\">q4_trans_cnt</th></tr></thead><tbody class=\"tdhistory650905 resultset-body\"><tr><th class=\"tdhistory650905\" style= \"background: rgba(243, 243, 243, 0.75)\">1</th><td class=\"tdhistory650905\">23178905</td><td class=\"tdhistory650905\">7466.4</td><td class=\"tdhistory650905\">46</td><td class=\"tdhistory650905\">2</td><td class=\"tdhistory650905\">1</td><td class=\"tdhistory650905\">0</td><td class=\"tdhistory650905\">0</td><td class=\"tdhistory650905\">0</td><td class=\"tdhistory650905\">0</td><td class=\"tdhistory650905\">1</td><td class=\"tdhistory650905\">0</td><td class=\"tdhistory650905\">0</td><td class=\"tdhistory650905\">0</td><td class=\"tdhistory650905\">0</td><td class=\"tdhistory650905\">0</td><td class=\"tdhistory650905\">1</td><td class=\"tdhistory650905\">1</td><td class=\"tdhistory650905\">0</td><td class=\"tdhistory650905\">6455.0514</td><td class=\"tdhistory650905\">387.89312</td><td class=\"tdhistory650905\">0</td><td class=\"tdhistory650905\">51.42870666666666</td><td class=\"tdhistory650905\">12.65528</td><td class=\"tdhistory650905\">0</td><td class=\"tdhistory650905\">9</td><td class=\"tdhistory650905\">9</td><td class=\"tdhistory650905\">9</td><td class=\"tdhistory650905\">48</td></tr><tr><th class=\"tdhistory650905\" style= \"background: rgba(243, 243, 243, 0.75)\">2</th><td class=\"tdhistory650905\">13628990</td><td class=\"tdhistory650905\">43715.0</td><td class=\"tdhistory650905\">34</td><td class=\"tdhistory650905\">4</td><td class=\"tdhistory650905\">3</td><td class=\"tdhistory650905\">0</td><td class=\"tdhistory650905\">1</td><td class=\"tdhistory650905\">1</td><td class=\"tdhistory650905\">0</td><td class=\"tdhistory650905\">0</td><td class=\"tdhistory650905\">0</td><td class=\"tdhistory650905\">0</td><td class=\"tdhistory650905\">1</td><td class=\"tdhistory650905\">0</td><td class=\"tdhistory650905\">0</td><td class=\"tdhistory650905\">0</td><td class=\"tdhistory650905\">1</td><td class=\"tdhistory650905\">0</td><td class=\"tdhistory650905\">0</td><td class=\"tdhistory650905\">11569.832</td><td class=\"tdhistory650905\">0</td><td class=\"tdhistory650905\">0</td><td class=\"tdhistory650905\">4.935333333333333</td><td class=\"tdhistory650905\">0</td><td class=\"tdhistory650905\">3</td><td class=\"tdhistory650905\">3</td><td class=\"tdhistory650905\">3</td><td class=\"tdhistory650905\">3</td></tr><tr><th class=\"tdhistory650905\" style= \"background: rgba(243, 243, 243, 0.75)\">3</th><td class=\"tdhistory650905\">24538662</td><td class=\"tdhistory650905\">13203.0</td><td class=\"tdhistory650905\">30</td><td class=\"tdhistory650905\">7</td><td class=\"tdhistory650905\">3</td><td class=\"tdhistory650905\">0</td><td class=\"tdhistory650905\">0</td><td class=\"tdhistory650905\">1</td><td class=\"tdhistory650905\">0</td><td class=\"tdhistory650905\">1</td><td class=\"tdhistory650905\">0</td><td class=\"tdhistory650905\">0</td><td class=\"tdhistory650905\">0</td><td class=\"tdhistory650905\">0</td><td class=\"tdhistory650905\">0</td><td class=\"tdhistory650905\">0</td><td class=\"tdhistory650905\">0</td><td class=\"tdhistory650905\">1</td><td class=\"tdhistory650905\">0</td><td class=\"tdhistory650905\">0</td><td class=\"tdhistory650905\">830.9</td><td class=\"tdhistory650905\">0</td><td class=\"tdhistory650905\">0</td><td class=\"tdhistory650905\">3.588</td><td class=\"tdhistory650905\">13</td><td class=\"tdhistory650905\">10</td><td class=\"tdhistory650905\">15</td><td class=\"tdhistory650905\">17</td></tr><tr><th class=\"tdhistory650905\" style= \"background: rgba(243, 243, 243, 0.75)\">4</th><td class=\"tdhistory650905\">28615734</td><td class=\"tdhistory650905\">.0</td><td class=\"tdhistory650905\">14</td><td class=\"tdhistory650905\">6</td><td class=\"tdhistory650905\">1</td><td class=\"tdhistory650905\">1</td><td class=\"tdhistory650905\">1</td><td class=\"tdhistory650905\">0</td><td class=\"tdhistory650905\">0</td><td class=\"tdhistory650905\">0</td><td class=\"tdhistory650905\">0</td><td class=\"tdhistory650905\">1</td><td class=\"tdhistory650905\">0</td><td class=\"tdhistory650905\">0</td><td class=\"tdhistory650905\">0</td><td class=\"tdhistory650905\">0</td><td class=\"tdhistory650905\">1</td><td class=\"tdhistory650905\">0</td><td class=\"tdhistory650905\">0</td><td class=\"tdhistory650905\">1386.99</td><td class=\"tdhistory650905\">0</td><td class=\"tdhistory650905\">0</td><td class=\"tdhistory650905\">0.9401904761904762</td><td class=\"tdhistory650905\">0</td><td class=\"tdhistory650905\">3</td><td class=\"tdhistory650905\">4</td><td class=\"tdhistory650905\">8</td><td class=\"tdhistory650905\">6</td></tr><tr><th class=\"tdhistory650905\" style= \"background: rgba(243, 243, 243, 0.75)\">5</th><td class=\"tdhistory650905\">25904334</td><td class=\"tdhistory650905\">2286.3</td><td class=\"tdhistory650905\">90</td><td class=\"tdhistory650905\">7</td><td class=\"tdhistory650905\">0</td><td class=\"tdhistory650905\">0</td><td class=\"tdhistory650905\">0</td><td class=\"tdhistory650905\">1</td><td class=\"tdhistory650905\">0</td><td class=\"tdhistory650905\">0</td><td class=\"tdhistory650905\">0</td><td class=\"tdhistory650905\">0</td><td class=\"tdhistory650905\">0</td><td class=\"tdhistory650905\">0</td><td class=\"tdhistory650905\">0</td><td class=\"tdhistory650905\">0</td><td class=\"tdhistory650905\">0</td><td class=\"tdhistory650905\">0</td><td class=\"tdhistory650905\">0</td><td class=\"tdhistory650905\">0</td><td class=\"tdhistory650905\">0</td><td class=\"tdhistory650905\">0</td><td class=\"tdhistory650905\">0</td><td class=\"tdhistory650905\">0</td><td class=\"tdhistory650905\">0</td><td class=\"tdhistory650905\">0</td><td class=\"tdhistory650905\">0</td><td class=\"tdhistory650905\">0</td></tr><tr><th class=\"tdhistory650905\" style= \"background: rgba(243, 243, 243, 0.75)\">6</th><td class=\"tdhistory650905\">31347183</td><td class=\"tdhistory650905\">45970.1</td><td class=\"tdhistory650905\">45</td><td class=\"tdhistory650905\">5</td><td class=\"tdhistory650905\">2</td><td class=\"tdhistory650905\">0</td><td class=\"tdhistory650905\">1</td><td class=\"tdhistory650905\">0</td><td class=\"tdhistory650905\">1</td><td class=\"tdhistory650905\">0</td><td class=\"tdhistory650905\">0</td><td class=\"tdhistory650905\">0</td><td class=\"tdhistory650905\">0</td><td class=\"tdhistory650905\">0</td><td class=\"tdhistory650905\">0</td><td class=\"tdhistory650905\">1</td><td class=\"tdhistory650905\">0</td><td class=\"tdhistory650905\">1</td><td class=\"tdhistory650905\">281.39733333333334</td><td class=\"tdhistory650905\">0</td><td class=\"tdhistory650905\">573.0386666666667</td><td class=\"tdhistory650905\">-2.956</td><td class=\"tdhistory650905\">0</td><td class=\"tdhistory650905\">25.15222222222222</td><td class=\"tdhistory650905\">26</td><td class=\"tdhistory650905\">22</td><td class=\"tdhistory650905\">19</td><td class=\"tdhistory650905\">23</td></tr><tr><th class=\"tdhistory650905\" style= \"background: rgba(243, 243, 243, 0.75)\">7</th><td class=\"tdhistory650905\">20443965</td><td class=\"tdhistory650905\">59556.0</td><td class=\"tdhistory650905\">58</td><td class=\"tdhistory650905\">5</td><td class=\"tdhistory650905\">3</td><td class=\"tdhistory650905\">0</td><td class=\"tdhistory650905\">1</td><td class=\"tdhistory650905\">1</td><td class=\"tdhistory650905\">0</td><td class=\"tdhistory650905\">1</td><td class=\"tdhistory650905\">0</td><td class=\"tdhistory650905\">0</td><td class=\"tdhistory650905\">0</td><td class=\"tdhistory650905\">0</td><td class=\"tdhistory650905\">0</td><td class=\"tdhistory650905\">1</td><td class=\"tdhistory650905\">0</td><td class=\"tdhistory650905\">0</td><td class=\"tdhistory650905\">18737.367</td><td class=\"tdhistory650905\">0</td><td class=\"tdhistory650905\">0</td><td class=\"tdhistory650905\">-241.38353535353536</td><td class=\"tdhistory650905\">0</td><td class=\"tdhistory650905\">0</td><td class=\"tdhistory650905\">99</td><td class=\"tdhistory650905\">0</td><td class=\"tdhistory650905\">0</td><td class=\"tdhistory650905\">0</td></tr><tr><th class=\"tdhistory650905\" style= \"background: rgba(243, 243, 243, 0.75)\">8</th><td class=\"tdhistory650905\">14998049</td><td class=\"tdhistory650905\">13138.4</td><td class=\"tdhistory650905\">42</td><td class=\"tdhistory650905\">2</td><td class=\"tdhistory650905\">3</td><td class=\"tdhistory650905\">0</td><td class=\"tdhistory650905\">0</td><td class=\"tdhistory650905\">1</td><td class=\"tdhistory650905\">0</td><td class=\"tdhistory650905\">0</td><td class=\"tdhistory650905\">0</td><td class=\"tdhistory650905\">0</td><td class=\"tdhistory650905\">0</td><td class=\"tdhistory650905\">0</td><td class=\"tdhistory650905\">0</td><td class=\"tdhistory650905\">0</td><td class=\"tdhistory650905\">0</td><td class=\"tdhistory650905\">1</td><td class=\"tdhistory650905\">0</td><td class=\"tdhistory650905\">0</td><td class=\"tdhistory650905\">14700</td><td class=\"tdhistory650905\">0</td><td class=\"tdhistory650905\">0</td><td class=\"tdhistory650905\">-1241.3523103448276</td><td class=\"tdhistory650905\">0</td><td class=\"tdhistory650905\">0</td><td class=\"tdhistory650905\">0</td><td class=\"tdhistory650905\">29</td></tr><tr><th class=\"tdhistory650905\" style= \"background: rgba(243, 243, 243, 0.75)\">9</th><td class=\"tdhistory650905\">21806688</td><td class=\"tdhistory650905\">44652.4</td><td class=\"tdhistory650905\">81</td><td class=\"tdhistory650905\">4</td><td class=\"tdhistory650905\">1</td><td class=\"tdhistory650905\">0</td><td class=\"tdhistory650905\">0</td><td class=\"tdhistory650905\">1</td><td class=\"tdhistory650905\">0</td><td class=\"tdhistory650905\">1</td><td class=\"tdhistory650905\">0</td><td class=\"tdhistory650905\">0</td><td class=\"tdhistory650905\">0</td><td class=\"tdhistory650905\">0</td><td class=\"tdhistory650905\">0</td><td class=\"tdhistory650905\">1</td><td class=\"tdhistory650905\">1</td><td class=\"tdhistory650905\">1</td><td class=\"tdhistory650905\">615.0438</td><td class=\"tdhistory650905\">185.97483636363637</td><td class=\"tdhistory650905\">532.2672727272727</td><td class=\"tdhistory650905\">5.181060606060606</td><td class=\"tdhistory650905\">1.1731636363636364</td><td class=\"tdhistory650905\">-0.46945454545454546</td><td class=\"tdhistory650905\">115</td><td class=\"tdhistory650905\">15</td><td class=\"tdhistory650905\">13</td><td class=\"tdhistory650905\">22</td></tr><tr><th class=\"tdhistory650905\" style= \"background: rgba(243, 243, 243, 0.75)\">10</th><td class=\"tdhistory650905\">19082896</td><td class=\"tdhistory650905\">.0</td><td class=\"tdhistory650905\">14</td><td class=\"tdhistory650905\">6</td><td class=\"tdhistory650905\">1</td><td class=\"tdhistory650905\">1</td><td class=\"tdhistory650905\">1</td><td class=\"tdhistory650905\">0</td><td class=\"tdhistory650905\">0</td><td class=\"tdhistory650905\">0</td><td class=\"tdhistory650905\">1</td><td class=\"tdhistory650905\">0</td><td class=\"tdhistory650905\">0</td><td class=\"tdhistory650905\">0</td><td class=\"tdhistory650905\">0</td><td class=\"tdhistory650905\">0</td><td class=\"tdhistory650905\">1</td><td class=\"tdhistory650905\">0</td><td class=\"tdhistory650905\">0</td><td class=\"tdhistory650905\">4831.781</td><td class=\"tdhistory650905\">0</td><td class=\"tdhistory650905\">0</td><td class=\"tdhistory650905\">7.314375</td><td class=\"tdhistory650905\">0</td><td class=\"tdhistory650905\">3</td><td class=\"tdhistory650905\">5</td><td class=\"tdhistory650905\">14</td><td class=\"tdhistory650905\">10</td></tr></tbody></table></div>"
      ]
     },
     "execution_count": 11,
     "metadata": {
      "application/vnd.teradata.resultset": "{\"resultSetID\":\"/home/jovyan/JupyterLabRoot/Teradata/Resultsets/2023.07.14_09.16.28.602_UTC\",\"historyID\":327,\"chunkID\":\"00001\",\"sessionid\":\"\",\"portnum\":\"\",\"dockermode\":\"docker\",\"totalRowCount\":10,\"chunkCount\":0,\"rowLimit\":0,\"columnMetadata\":[{\"columnName\":\"cust_id\",\"columnTypeName\":\"INTEGER\"},{\"columnNumber\":1,\"columnName\":\"tot_income\",\"columnTypeName\":\"DECIMAL\",\"length\":1,\"precision\":15,\"scale\":1},{\"columnNumber\":2,\"columnName\":\"tot_age\",\"columnTypeName\":\"INTEGER\"},{\"columnNumber\":3,\"columnName\":\"tot_cust_years\",\"columnTypeName\":\"INTEGER\"},{\"columnNumber\":4,\"columnName\":\"tot_children\",\"columnTypeName\":\"INTEGER\"},{\"columnNumber\":5,\"columnName\":\"single_ind\",\"columnTypeName\":\"BYTEINT\"},{\"columnNumber\":6,\"columnName\":\"female_ind\",\"columnTypeName\":\"BYTEINT\"},{\"columnNumber\":7,\"columnName\":\"married_ind\",\"columnTypeName\":\"BYTEINT\"},{\"columnNumber\":8,\"columnName\":\"separated_ind\",\"columnTypeName\":\"BYTEINT\"},{\"columnNumber\":9,\"columnName\":\"ca_resident_ind\",\"columnTypeName\":\"BYTEINT\"},{\"columnNumber\":10,\"columnName\":\"ny_resident_ind\",\"columnTypeName\":\"BYTEINT\"},{\"columnNumber\":11,\"columnName\":\"tx_resident_ind\",\"columnTypeName\":\"BYTEINT\"},{\"columnNumber\":12,\"columnName\":\"il_resident_ind\",\"columnTypeName\":\"BYTEINT\"},{\"columnNumber\":13,\"columnName\":\"az_resident_ind\",\"columnTypeName\":\"BYTEINT\"},{\"columnNumber\":14,\"columnName\":\"oh_resident_ind\",\"columnTypeName\":\"BYTEINT\"},{\"columnNumber\":15,\"columnName\":\"ck_acct_ind\",\"columnTypeName\":\"BYTEINT\"},{\"columnNumber\":16,\"columnName\":\"sv_acct_ind\",\"columnTypeName\":\"BYTEINT\"},{\"columnNumber\":17,\"columnName\":\"cc_acct_ind\",\"columnTypeName\":\"BYTEINT\"},{\"columnNumber\":18,\"columnName\":\"ck_avg_bal\",\"columnTypeName\":\"FLOAT\"},{\"columnNumber\":19,\"columnName\":\"sv_avg_bal\",\"columnTypeName\":\"FLOAT\"},{\"columnNumber\":20,\"columnName\":\"cc_avg_bal\",\"columnTypeName\":\"FLOAT\"},{\"columnNumber\":21,\"columnName\":\"ck_avg_tran_amt\",\"columnTypeName\":\"FLOAT\"},{\"columnNumber\":22,\"columnName\":\"sv_avg_tran_amt\",\"columnTypeName\":\"FLOAT\"},{\"columnNumber\":23,\"columnName\":\"cc_avg_tran_amt\",\"columnTypeName\":\"FLOAT\"},{\"columnNumber\":24,\"columnName\":\"q1_trans_cnt\",\"columnTypeName\":\"INTEGER\"},{\"columnNumber\":25,\"columnName\":\"q2_trans_cnt\",\"columnTypeName\":\"INTEGER\"},{\"columnNumber\":26,\"columnName\":\"q3_trans_cnt\",\"columnTypeName\":\"INTEGER\"},{\"columnNumber\":27,\"columnName\":\"q4_trans_cnt\",\"columnTypeName\":\"INTEGER\"}]}"
     },
     "output_type": "execute_result"
    }
   ],
   "source": [
    "SELECT * FROM demo_user.VAL_ADS SAMPLE 10;"
   ]
  },
  {
   "cell_type": "markdown",
   "metadata": {},
   "source": [
    "<p style = 'font-size:20px;font-family:Arial;color:#E37C4D'><b>4. Statistical Tests</b></p>\n",
    "\n",
    "<p style = 'font-size:18px;font-family:Arial;color:#E37C4D'><b>Binomial Tests</b></p>\n",
    "\n",
    "<p style = 'font-size:16px;font-family:Arial;color:#E37C4D'><b>Purpose</b></p>\n",
    "<p style = 'font-size:16px;font-family:Arial'>In a binomial test there are assumed to be an independent trials, each with two possible outcomes, each of equal probability.  You may choose to perform a binomial test, in which the sign of the difference between a first and second column is analyzed, or a sign test, in which the sign of a single column is analyzed.  In a binomial test, you may choose to use a probability different from the 0.5 default value, whereas in a sign test, the binomial probability is fixed at 0.5.</p>\n",
    "\n",
    "<p style = 'font-size:16px;font-family:Arial;color:#E37C4D'><b>Required Parameters</b></p>\n",
    "\n",
    "<p style = 'font-size:16px;font-family:Arial'><b>- **binomialtest**</b></p>\n",
    "\n",
    "\n",
    "<p style = 'font-size:16px;font-family:Arial'>The binomialtest parameter:</p>\n",
    "<p style = 'font-size:16px;font-family:Arial'>\n",
    "    <li>Is required</li>\n",
    "    <li>Must be the first parameter</li>\n",
    "    <li>Is always enclosed in single quotes</li>\n",
    "</p>\n",
    "\n",
    "<p style = 'font-size:16px;font-family:Arial'><b>- **database**</b></p>\n",
    "\n",
    "<p style = 'font-size:16px;font-family:Arial'>The database containing the table to analyze.</p>\n",
    "\n",
    "<p style = 'font-size:16px;font-family:Arial'><b>- **firstcolumn**</b></p>\n",
    "\n",
    "<p style = 'font-size:16px;font-family:Arial'>The column to analyze. It must reside in the table indicated by the tablename parameter</p>\n",
    "\n",
    "<p style = 'font-size:16px;font-family:Arial'><b>- **tablename**</b></p>\n",
    "\n",
    "<p style = 'font-size:16px;font-family:Arial'>The table containing the columns to analyze.  It must reside in the database indicated by the database parameter.</p>\n",
    "\n",
    "<p style = 'font-size:16px;font-family:Arial;color:#E37C4D'><b>Optional Parameters</b></p>\n",
    "\n",
    "<p style = 'font-size:16px;font-family:Arial'><b>- **binomialprobability**</b></p>\n",
    "\n",
    "<p style = 'font-size:16px;font-family:Arial'>You may optionally change the binomial probability or allow it to default to 0.5.  This parameter may not be used for a sign test.</p>\n",
    "\n",
    "<p style = 'font-size:16px;font-family:Arial'><b>- **exactmatches**</b></p>\n",
    "\n",
    "<p style = 'font-size:16px;font-family:Arial'>This parameter determines what category to place exact matches in.  If zero, exact match is discarded.  If positive, match is placed with values greater than or equal to zero.  If negative or parameter not specified (default), match is placed with values less than or equal to zero.  Note that the exactmatches parameter is not allowed if this is a sign test.</p>\n",
    "\n",
    "<p style = 'font-size:16px;font-family:Arial'><b>- **fallback**</b></p>\n",
    "\n",
    "<p style = 'font-size:16px;font-family:Arial'>When true, FALLBACK is requested as an attribute of the created output results table.  When false or parameter not specified, the FALLBACK attribute is not included in the create table SQL.</p>\n",
    "\n",
    "<p style = 'font-size:16px;font-family:Arial'><b>- **gensqlonly**</b></p>\n",
    "\n",
    "<p style = 'font-size:16px;font-family:Arial'>When true, the SQL for the requested function is returned as a result set but not run. When not specified or set to false, the SQL is run but not returned.</p>\n",
    "\n",
    "<p style = 'font-size:16px;font-family:Arial'><b>- **groupby**</b></p>\n",
    "\n",
    "<p style = 'font-size:16px;font-family:Arial'>One or more group-by columns may optionally be specified so that a separate result is produced for each value or combination of values in the specified column or columns.</p>\n",
    "\n",
    "<p style = 'font-size:16px;font-family:Arial'><b>- **multiset**</b></p>\n",
    "\n",
    "<p style = 'font-size:16px;font-family:Arial'>When true, MULTISET is requested as an attribute of the created output results table.  When false or parameter not specified, the MULTISET attribute is not included in the create table SQL.</p>\n",
    "\n",
    "<p style = 'font-size:16px;font-family:Arial'><b>- **outputdatabase**</b></p>\n",
    "\n",
    "<p style = 'font-size:16px;font-family:Arial'>Specifies the name of the database to contain the analysis results table.</p>\n",
    "\n",
    "<p style = 'font-size:16px;font-family:Arial'><b>- **outputtablename**</b></p>\n",
    "\n",
    "<p style = 'font-size:16px;font-family:Arial'>Specifies the name of the table to store the analysis results. If not supplied, the results are returned as a result set.</p>\n",
    "\n",
    "<p style = 'font-size:16px;font-family:Arial'><b>- **overwrite**</b></p>\n",
    "\n",
    "<p style = 'font-size:16px;font-family:Arial'>When overwrite is set to true or not set, the output table is dropped before creating a new one.</p>\n",
    "\n",
    "<p style = 'font-size:16px;font-family:Arial'><b>- **secondcolumn**</b></p>\n",
    "\n",
    "<p style = 'font-size:16px;font-family:Arial'>A second column is required when performing a binomial test, and not allowed when performing a sign test.</p>\n",
    "\n",
    "<p style = 'font-size:16px;font-family:Arial'><b>- **singletail**</b></p>\n",
    "\n",
    "<p style = 'font-size:16px;font-family:Arial'>A single-tailed test may be requested by setting this parameter to true.  A two-tailed test may be requested by setting this parameter to false or by not specifying it at all (the default value).  If the binomial probability is not 0.5, singletail must be set to true.</p>\n",
    "\n",
    "<p style = 'font-size:16px;font-family:Arial'><b>- **statsdatabase**</b></p>\n",
    "\n",
    "<p style = 'font-size:16px;font-family:Arial'>This is the database where the statistical test metadata tables are installed.  If not specified, the source database is searched for these metadata tables.</p>\n",
    "\n",
    "<p style = 'font-size:16px;font-family:Arial'><b>- **teststyle**</b></p>\n",
    "\n",
    "<p style = 'font-size:16px;font-family:Arial'>The valid values are binomial and sign, representing a binomial or sign test.  If not specified, the default test style is binomial.</p>\n",
    "\n",
    "<p style = 'font-size:16px;font-family:Arial'><b>- **thresholdprobability**</b></p>\n",
    "\n",
    "<p style = 'font-size:16px;font-family:Arial'>You may optionally change the threshold probability or allow it to default to 0.05.  Below this  \"alpha\" probability the null hypothesis is rejected</p>"
   ]
  },
  {
   "cell_type": "markdown",
   "metadata": {},
   "source": [
    "------------------"
   ]
  },
  {
   "cell_type": "markdown",
   "metadata": {},
   "source": [
    "<p style = 'font-size:16px;font-family:Arial'>1.  Binomial test producing an unpersisted result set with default values for thresholdprobabilty (.05), binomialprobability (0.5), singletail (false) and exactmatches (negative).</p>"
   ]
  },
  {
   "cell_type": "code",
   "execution_count": 12,
   "metadata": {},
   "outputs": [
    {
     "data": {
      "text/plain": [
       "Success: 0 rows affected"
      ]
     },
     "execution_count": 12,
     "metadata": {
      "application/vnd.teradata.resultset": ""
     },
     "output_type": "execute_result"
    },
    {
     "data": {
      "application/vnd.teradata.resultset": "\"N\",\"NPos\",\"NNeg\",\"BP\",\"BinomialCallP_0.05\"\n\"10458\",\"6384\",\"4074\",\"2e-06\",\"p\"",
      "text/html": [
       "<div class = \"td-resultset-table-div\" style = \"max-height: 100%; overflow-y: auto\">\n",
       "      <table class=\"tdhistory321878\"><style>\n",
       "      table.tdhistory321878 { display: block !important; min-height: 105px !important; overflow: auto !important; height: 105px !important; width: 100% !important; border: 1px solid rgb(207, 207, 207) !important; border-collapse: collapse !important; ; color: var(--jp-ui-font-color1) !important; }\n",
       "      th.tdhistory321878 { border: 1px solid rgb(198,198,198) !important; border-collapse: collapse !important; ; padding: 2px 5px !important; ; font-size: 13px !important; ; text-align: center !important; white-space: normal !important; color: var(--jp-ui-font-color1) !important; }\n",
       "      th.tdhistory321878:last-child { text-align: left !important; }\n",
       "      tbody.tdhistory321878 tr:nth-child(even) { background: rgba(243, 243, 243, 0.75) !important; }\n",
       "      tbody.tdhistory321878 tr:nth-child(odd) { background: var(--jp-ui-inverse-font-color1) !important; }\n",
       "      td.tdhistory321878 { border: 1px solid rgb(207, 207, 207) !important; border-collapse: collapse !important; ; padding: 2px 5px !important; ; font-size: 13px !important; ; text-align: left !important;          white-space: nowrap !important; overflow:hidden !important; text-overflow:ellipsis !important;; }\n",
       "    </style><thead><tr style= \"background: rgba(243, 243, 243, 0.75)\"><th class=\"tdhistory321878\"></th><th class=\"tdhistory321878\">N</th><th class=\"tdhistory321878\">NPos</th><th class=\"tdhistory321878\">NNeg</th><th class=\"tdhistory321878\">BP</th><th class=\"tdhistory321878\">BinomialCallP_0.05</th></tr></thead><tbody class=\"tdhistory321878 resultset-body\"><tr><th class=\"tdhistory321878\" style= \"background: rgba(243, 243, 243, 0.75)\">1</th><td class=\"tdhistory321878\">10458</td><td class=\"tdhistory321878\">6384</td><td class=\"tdhistory321878\">4074</td><td class=\"tdhistory321878\">2e-06</td><td class=\"tdhistory321878\">p</td></tr></tbody></table></div>"
      ]
     },
     "execution_count": 12,
     "metadata": {
      "application/vnd.teradata.resultset": "{\"resultSetID\":\"/home/jovyan/JupyterLabRoot/Teradata/Resultsets/2023.07.14_09.16.30.737_UTC\",\"historyID\":328,\"chunkID\":\"00001\",\"sessionid\":\"\",\"portnum\":\"\",\"dockermode\":\"docker\",\"totalRowCount\":1,\"chunkCount\":0,\"rowLimit\":0,\"columnMetadata\":[{\"columnName\":\"N\",\"columnTypeName\":\"FLOAT\"},{\"columnNumber\":1,\"columnName\":\"NPos\",\"columnTypeName\":\"FLOAT\"},{\"columnNumber\":2,\"columnName\":\"NNeg\",\"columnTypeName\":\"FLOAT\"},{\"columnNumber\":3,\"columnName\":\"BP\",\"columnTypeName\":\"FLOAT\"},{\"columnNumber\":4,\"columnName\":\"BinomialCallP_0.05\",\"columnTypeName\":\"VARCHAR\",\"length\":1,\"scale\":1}]}"
     },
     "output_type": "execute_result"
    }
   ],
   "source": [
    "call val.td_analyze('BinomialTest',\n",
    "                         'database=demo_user;\n",
    "                          tablename=VAL_ADS;\n",
    "                          firstcolumn=sv_avg_bal;\n",
    "                          secondcolumn=ck_avg_bal;\n",
    "                          statsdatabase=val;');"
   ]
  },
  {
   "cell_type": "markdown",
   "metadata": {},
   "source": [
    "<p style = 'font-size:16px;font-family:Arial'>The above output has the output columns as below(If there are groupby columns, they comprise the UPI(Unique Primary Index). Otherwise, N is the UPI.\n",
    "\n",
    "teststyle = binomial (Default))</p>\n",
    "\n",
    " <table style = 'font-size:14px;font-family:Arial'>\n",
    "  <tr>\n",
    "    <th>Column</th>\n",
    "    <th>DataType</th>\n",
    "    <th>Description</th>\n",
    "  </tr>\n",
    "  <tr>\n",
    "    <td>N</td>\n",
    "    <td>Float</td>  \n",
    "    <td>Count of value pairs.</td>\n",
    "  </tr>\n",
    "  <tr>\n",
    "    <td>NPos</td>\n",
    "    <td>Float</td>  \n",
    "    <td>Count of positive value differences.</td>\n",
    "  </tr>\n",
    "  <tr>\n",
    "    <td>NNeg</td>\n",
    "    <td>Float</td>  \n",
    "    <td>Count of negative value differences.</td>\n",
    "  </tr>\n",
    "  <tr>\n",
    "    <td>BO</td>\n",
    "    <td>Float</td>  \n",
    "    <td>Binomial probability.</td>\n",
    "  </tr>\n",
    "  <tr>\n",
    "    <td>BinomialCallP</td>\n",
    "    <td>Char</td>  \n",
    "    <td>Binomial result:\n",
    "        <li>a=accept null hypothesis</li>\n",
    "        <li>p=reject null hypothesis (positive)</li>\n",
    "        <li>n=reject null hypothesis (negative)</li>\n",
    "    </td>\n",
    "  </tr>    \n",
    "</table>\n",
    "   \n",
    "<p>"
   ]
  },
  {
   "cell_type": "markdown",
   "metadata": {},
   "source": [
    "<p style = 'font-size:16px;font-family:Arial'>2.  Binomial test producing a result table and introducing a groupby variable gender with default values for other parameters.</p>"
   ]
  },
  {
   "cell_type": "code",
   "execution_count": 13,
   "metadata": {},
   "outputs": [
    {
     "data": {
      "text/plain": [
       "Success: 0 rows affected"
      ]
     },
     "execution_count": 13,
     "metadata": {
      "application/vnd.teradata.resultset": ""
     },
     "output_type": "execute_result"
    }
   ],
   "source": [
    "call val.td_analyze('BinomialTest', \n",
    "                         'database=demo_user;\n",
    "                          tablename=VAL_ADS;\n",
    "                          firstcolumn=sv_avg_bal;\n",
    "                          secondcolumn=ck_avg_bal;\n",
    "                          groupby=female_ind;\n",
    "                          outputdatabase=demo_user;\n",
    "                          outputtablename=_val_binomial_example2;\n",
    "                          statsdatabase=val;');"
   ]
  },
  {
   "cell_type": "code",
   "execution_count": 14,
   "metadata": {
    "tags": []
   },
   "outputs": [
    {
     "data": {
      "application/vnd.teradata.resultset": "\"female_ind\",\"N\",\"NPos\",\"NNeg\",\"BP\",\"BinomialCallP_0.05\"\n\"1\",\"5852\",\"3717\",\"2135\",\"2e-06\",\"p\"\n\"0\",\"4606\",\"2667\",\"1939\",\"2e-06\",\"p\"",
      "text/html": [
       "<div class = \"td-resultset-table-div\" style = \"max-height: 100%; overflow-y: auto\">\n",
       "      <table class=\"tdhistory349051\"><style>\n",
       "      table.tdhistory349051 { display: block !important; min-height: 126px !important; overflow: auto !important; height: 126px !important; width: 100% !important; border: 1px solid rgb(207, 207, 207) !important; border-collapse: collapse !important; ; color: var(--jp-ui-font-color1) !important; }\n",
       "      th.tdhistory349051 { border: 1px solid rgb(198,198,198) !important; border-collapse: collapse !important; ; padding: 2px 5px !important; ; font-size: 13px !important; ; text-align: center !important; white-space: normal !important; color: var(--jp-ui-font-color1) !important; }\n",
       "      th.tdhistory349051:last-child { text-align: left !important; }\n",
       "      tbody.tdhistory349051 tr:nth-child(even) { background: rgba(243, 243, 243, 0.75) !important; }\n",
       "      tbody.tdhistory349051 tr:nth-child(odd) { background: var(--jp-ui-inverse-font-color1) !important; }\n",
       "      td.tdhistory349051 { border: 1px solid rgb(207, 207, 207) !important; border-collapse: collapse !important; ; padding: 2px 5px !important; ; font-size: 13px !important; ; text-align: left !important;          white-space: nowrap !important; overflow:hidden !important; text-overflow:ellipsis !important;; }\n",
       "    </style><thead><tr style= \"background: rgba(243, 243, 243, 0.75)\"><th class=\"tdhistory349051\"></th><th class=\"tdhistory349051\">female_ind</th><th class=\"tdhistory349051\">N</th><th class=\"tdhistory349051\">NPos</th><th class=\"tdhistory349051\">NNeg</th><th class=\"tdhistory349051\">BP</th><th class=\"tdhistory349051\">BinomialCallP_0.05</th></tr></thead><tbody class=\"tdhistory349051 resultset-body\"><tr><th class=\"tdhistory349051\" style= \"background: rgba(243, 243, 243, 0.75)\">1</th><td class=\"tdhistory349051\">1</td><td class=\"tdhistory349051\">5852</td><td class=\"tdhistory349051\">3717</td><td class=\"tdhistory349051\">2135</td><td class=\"tdhistory349051\">2e-06</td><td class=\"tdhistory349051\">p</td></tr><tr><th class=\"tdhistory349051\" style= \"background: rgba(243, 243, 243, 0.75)\">2</th><td class=\"tdhistory349051\">0</td><td class=\"tdhistory349051\">4606</td><td class=\"tdhistory349051\">2667</td><td class=\"tdhistory349051\">1939</td><td class=\"tdhistory349051\">2e-06</td><td class=\"tdhistory349051\">p</td></tr></tbody></table></div>"
      ]
     },
     "execution_count": 14,
     "metadata": {
      "application/vnd.teradata.resultset": "{\"resultSetID\":\"/home/jovyan/JupyterLabRoot/Teradata/Resultsets/2023.07.14_09.16.32.456_UTC\",\"historyID\":330,\"chunkID\":\"00001\",\"sessionid\":\"\",\"portnum\":\"\",\"dockermode\":\"docker\",\"totalRowCount\":2,\"chunkCount\":0,\"rowLimit\":0,\"columnMetadata\":[{\"columnName\":\"female_ind\",\"columnTypeName\":\"BYTEINT\"},{\"columnNumber\":1,\"columnName\":\"N\",\"columnTypeName\":\"FLOAT\"},{\"columnNumber\":2,\"columnName\":\"NPos\",\"columnTypeName\":\"FLOAT\"},{\"columnNumber\":3,\"columnName\":\"NNeg\",\"columnTypeName\":\"FLOAT\"},{\"columnNumber\":4,\"columnName\":\"BP\",\"columnTypeName\":\"FLOAT\"},{\"columnNumber\":5,\"columnName\":\"BinomialCallP_0.05\",\"columnTypeName\":\"VARCHAR\",\"length\":1,\"scale\":1}]}"
     },
     "output_type": "execute_result"
    }
   ],
   "source": [
    "SELECT * FROM demo_user._val_binomial_example2;"
   ]
  },
  {
   "cell_type": "markdown",
   "metadata": {},
   "source": [
    "<p style = 'font-size:16px;font-family:Arial'>The above output has columns similar to those mentioned in the previous call. We have 2 rows as they are classified based on gender.</p>"
   ]
  },
  {
   "cell_type": "markdown",
   "metadata": {},
   "source": [
    "<p style = 'font-size:16px;font-family:Arial'>3.  Sign test producing an unpersisted result set with default values for thresholdprobabilty (.05) and singletail (false).</p>"
   ]
  },
  {
   "cell_type": "code",
   "execution_count": 15,
   "metadata": {},
   "outputs": [
    {
     "data": {
      "text/plain": [
       "Success: 0 rows affected"
      ]
     },
     "execution_count": 15,
     "metadata": {
      "application/vnd.teradata.resultset": ""
     },
     "output_type": "execute_result"
    },
    {
     "data": {
      "application/vnd.teradata.resultset": "\"N\",\"NPos\",\"NNeg\",\"BP\",\"BinomialCallP_0.05\"\n\"10458\",\"5894\",\"4564\",\"2e-06\",\"p\"",
      "text/html": [
       "<div class = \"td-resultset-table-div\" style = \"max-height: 100%; overflow-y: auto\">\n",
       "      <table class=\"tdhistory6959\"><style>\n",
       "      table.tdhistory6959 { display: block !important; min-height: 105px !important; overflow: auto !important; height: 105px !important; width: 100% !important; border: 1px solid rgb(207, 207, 207) !important; border-collapse: collapse !important; ; color: var(--jp-ui-font-color1) !important; }\n",
       "      th.tdhistory6959 { border: 1px solid rgb(198,198,198) !important; border-collapse: collapse !important; ; padding: 2px 5px !important; ; font-size: 13px !important; ; text-align: center !important; white-space: normal !important; color: var(--jp-ui-font-color1) !important; }\n",
       "      th.tdhistory6959:last-child { text-align: left !important; }\n",
       "      tbody.tdhistory6959 tr:nth-child(even) { background: rgba(243, 243, 243, 0.75) !important; }\n",
       "      tbody.tdhistory6959 tr:nth-child(odd) { background: var(--jp-ui-inverse-font-color1) !important; }\n",
       "      td.tdhistory6959 { border: 1px solid rgb(207, 207, 207) !important; border-collapse: collapse !important; ; padding: 2px 5px !important; ; font-size: 13px !important; ; text-align: left !important;          white-space: nowrap !important; overflow:hidden !important; text-overflow:ellipsis !important;; }\n",
       "    </style><thead><tr style= \"background: rgba(243, 243, 243, 0.75)\"><th class=\"tdhistory6959\"></th><th class=\"tdhistory6959\">N</th><th class=\"tdhistory6959\">NPos</th><th class=\"tdhistory6959\">NNeg</th><th class=\"tdhistory6959\">BP</th><th class=\"tdhistory6959\">BinomialCallP_0.05</th></tr></thead><tbody class=\"tdhistory6959 resultset-body\"><tr><th class=\"tdhistory6959\" style= \"background: rgba(243, 243, 243, 0.75)\">1</th><td class=\"tdhistory6959\">10458</td><td class=\"tdhistory6959\">5894</td><td class=\"tdhistory6959\">4564</td><td class=\"tdhistory6959\">2e-06</td><td class=\"tdhistory6959\">p</td></tr></tbody></table></div>"
      ]
     },
     "execution_count": 15,
     "metadata": {
      "application/vnd.teradata.resultset": "{\"resultSetID\":\"/home/jovyan/JupyterLabRoot/Teradata/Resultsets/2023.07.14_09.16.33.386_UTC\",\"historyID\":331,\"chunkID\":\"00001\",\"sessionid\":\"\",\"portnum\":\"\",\"dockermode\":\"docker\",\"totalRowCount\":1,\"chunkCount\":0,\"rowLimit\":0,\"columnMetadata\":[{\"columnName\":\"N\",\"columnTypeName\":\"FLOAT\"},{\"columnNumber\":1,\"columnName\":\"NPos\",\"columnTypeName\":\"FLOAT\"},{\"columnNumber\":2,\"columnName\":\"NNeg\",\"columnTypeName\":\"FLOAT\"},{\"columnNumber\":3,\"columnName\":\"BP\",\"columnTypeName\":\"FLOAT\"},{\"columnNumber\":4,\"columnName\":\"BinomialCallP_0.05\",\"columnTypeName\":\"VARCHAR\",\"length\":1,\"scale\":1}]}"
     },
     "output_type": "execute_result"
    }
   ],
   "source": [
    "call val.td_analyze('BinomialTest',\n",
    "                         'database=demo_user;\n",
    "                          tablename=VAL_ADS;\n",
    "                          firstcolumn=sv_avg_bal;\n",
    "                          teststyle=sign;\n",
    "                          statsdatabase=val;');"
   ]
  },
  {
   "cell_type": "markdown",
   "metadata": {},
   "source": [
    "<p style = 'font-size:16px;font-family:Arial'>The above output has columns similar to those mentioned in the previous call. We have only 1 row as output as we do not have the group by gender.</p>"
   ]
  },
  {
   "cell_type": "markdown",
   "metadata": {},
   "source": [
    "<p style = 'font-size:16px;font-family:Arial'>4.  Sign test producing a result table and introducing a groupby variable gender with default values for other parameters.</p>"
   ]
  },
  {
   "cell_type": "code",
   "execution_count": 16,
   "metadata": {},
   "outputs": [
    {
     "data": {
      "text/plain": [
       "Success: 0 rows affected"
      ]
     },
     "execution_count": 16,
     "metadata": {
      "application/vnd.teradata.resultset": ""
     },
     "output_type": "execute_result"
    }
   ],
   "source": [
    "call val.td_analyze('BinomialTest', \n",
    "                         'database=demo_user;\n",
    "                          tablename=VAL_ADS;\n",
    "                          firstcolumn=sv_avg_bal;\n",
    "                          groupby=female_ind;\n",
    "                          outputdatabase=demo_user;\n",
    "                          outputtablename=_val_binomial_example4;\n",
    "                          teststyle=sign;\n",
    "                          statsdatabase=val;');"
   ]
  },
  {
   "cell_type": "code",
   "execution_count": 17,
   "metadata": {},
   "outputs": [
    {
     "data": {
      "application/vnd.teradata.resultset": "\"female_ind\",\"N\",\"NPos\",\"NNeg\",\"BP\",\"BinomialCallP_0.05\"\n\"1\",\"5852\",\"3514\",\"2338\",\"2e-06\",\"p\"\n\"0\",\"4606\",\"2380\",\"2226\",\"0.023268256\",\"p\"",
      "text/html": [
       "<div class = \"td-resultset-table-div\" style = \"max-height: 100%; overflow-y: auto\">\n",
       "      <table class=\"tdhistory79258\"><style>\n",
       "      table.tdhistory79258 { display: block !important; min-height: 126px !important; overflow: auto !important; height: 126px !important; width: 100% !important; border: 1px solid rgb(207, 207, 207) !important; border-collapse: collapse !important; ; color: var(--jp-ui-font-color1) !important; }\n",
       "      th.tdhistory79258 { border: 1px solid rgb(198,198,198) !important; border-collapse: collapse !important; ; padding: 2px 5px !important; ; font-size: 13px !important; ; text-align: center !important; white-space: normal !important; color: var(--jp-ui-font-color1) !important; }\n",
       "      th.tdhistory79258:last-child { text-align: left !important; }\n",
       "      tbody.tdhistory79258 tr:nth-child(even) { background: rgba(243, 243, 243, 0.75) !important; }\n",
       "      tbody.tdhistory79258 tr:nth-child(odd) { background: var(--jp-ui-inverse-font-color1) !important; }\n",
       "      td.tdhistory79258 { border: 1px solid rgb(207, 207, 207) !important; border-collapse: collapse !important; ; padding: 2px 5px !important; ; font-size: 13px !important; ; text-align: left !important;          white-space: nowrap !important; overflow:hidden !important; text-overflow:ellipsis !important;; }\n",
       "    </style><thead><tr style= \"background: rgba(243, 243, 243, 0.75)\"><th class=\"tdhistory79258\"></th><th class=\"tdhistory79258\">female_ind</th><th class=\"tdhistory79258\">N</th><th class=\"tdhistory79258\">NPos</th><th class=\"tdhistory79258\">NNeg</th><th class=\"tdhistory79258\">BP</th><th class=\"tdhistory79258\">BinomialCallP_0.05</th></tr></thead><tbody class=\"tdhistory79258 resultset-body\"><tr><th class=\"tdhistory79258\" style= \"background: rgba(243, 243, 243, 0.75)\">1</th><td class=\"tdhistory79258\">1</td><td class=\"tdhistory79258\">5852</td><td class=\"tdhistory79258\">3514</td><td class=\"tdhistory79258\">2338</td><td class=\"tdhistory79258\">2e-06</td><td class=\"tdhistory79258\">p</td></tr><tr><th class=\"tdhistory79258\" style= \"background: rgba(243, 243, 243, 0.75)\">2</th><td class=\"tdhistory79258\">0</td><td class=\"tdhistory79258\">4606</td><td class=\"tdhistory79258\">2380</td><td class=\"tdhistory79258\">2226</td><td class=\"tdhistory79258\">0.023268256</td><td class=\"tdhistory79258\">p</td></tr></tbody></table></div>"
      ]
     },
     "execution_count": 17,
     "metadata": {
      "application/vnd.teradata.resultset": "{\"resultSetID\":\"/home/jovyan/JupyterLabRoot/Teradata/Resultsets/2023.07.14_09.16.34.788_UTC\",\"historyID\":333,\"chunkID\":\"00001\",\"sessionid\":\"\",\"portnum\":\"\",\"dockermode\":\"docker\",\"totalRowCount\":2,\"chunkCount\":0,\"rowLimit\":0,\"columnMetadata\":[{\"columnName\":\"female_ind\",\"columnTypeName\":\"BYTEINT\"},{\"columnNumber\":1,\"columnName\":\"N\",\"columnTypeName\":\"FLOAT\"},{\"columnNumber\":2,\"columnName\":\"NPos\",\"columnTypeName\":\"FLOAT\"},{\"columnNumber\":3,\"columnName\":\"NNeg\",\"columnTypeName\":\"FLOAT\"},{\"columnNumber\":4,\"columnName\":\"BP\",\"columnTypeName\":\"FLOAT\"},{\"columnNumber\":5,\"columnName\":\"BinomialCallP_0.05\",\"columnTypeName\":\"VARCHAR\",\"length\":1,\"scale\":1}]}"
     },
     "output_type": "execute_result"
    }
   ],
   "source": [
    "SELECT * FROM demo_user._val_binomial_example4;"
   ]
  },
  {
   "cell_type": "markdown",
   "metadata": {},
   "source": [
    "<p style = 'font-size:16px;font-family:Arial'>The above output has columns similar to those mentioned in the previous call. We have 2 rows as they are classified based on gender.</p>"
   ]
  },
  {
   "cell_type": "markdown",
   "metadata": {},
   "source": [
    "---"
   ]
  },
  {
   "cell_type": "markdown",
   "metadata": {},
   "source": [
    "<p style = 'font-size:20px;font-family:Arial;color:#E37C4D'><b>5. Kolmogorov-Smirnoff Tests</b></p>\n",
    "\n",
    "<p style = 'font-size:16px;font-family:Arial;color:#E37C4D'><b>Purpose</b></p>\n",
    "\n",
    "<p style = 'font-size:16px;font-family:Arial'>Kolmogorov-Smirnov Goodness-of-Fit Test is used to decide if a sample comes from a population with a specific distribution.  An attractive feature of this test is that the distribution of the K-S test statistic itself does not depend on the underlying cumulative distribution function being tested. Another advantage is that it is an exact test.</p>\n",
    "\n",
    "<p style = 'font-size:16px;font-family:Arial;color:#E37C4D'><b>Required Parameters</b></p>\n",
    "\n",
    "<p style = 'font-size:16px;font-family:Arial'><b>- **columnofinterest**</b></p>\n",
    "\n",
    "<p style = 'font-size:16px;font-family:Arial'>The numeric column that is tested to have a normal distribution. It must reside in the table indicated by the tablename parameter</p>\n",
    "\n",
    "<p style = 'font-size:16px;font-family:Arial'><b>- **database**</b></p>\n",
    "\n",
    "<p style = 'font-size:16px;font-family:Arial'>The database containing the table to analyze.</p>\n",
    "\n",
    "<p style = 'font-size:16px;font-family:Arial'><b>- **kstest**</b></p>\n",
    "\n",
    "<p style = 'font-size:16px;font-family:Arial'>The kstest parameter:\n",
    "    <li>Is required</li>\n",
    "    <li>Must be the first parameter</li>\n",
    "    <li>Is always enclosed in single quotes</li>\n",
    "</p>\n",
    "\n",
    "<p style = 'font-size:16px;font-family:Arial'><b>- **tablename**</b></p>\n",
    "\n",
    "<p style = 'font-size:16px;font-family:Arial'>The table containing the columns to analyze.  It must reside in the database indicated by the database parameter.</p>\n",
    "\n",
    "<p style = 'font-size:16px;font-family:Arial;color:#E37C4D'><b>Optional Parameters</b></p>\n",
    "\n",
    "<p style = 'font-size:16px;font-family:Arial'><b>- **columns**</b></p>\n",
    "\n",
    "<p style = 'font-size:16px;font-family:Arial'>Used only by the Smirnov test, this parameter represents a categorical variable with two values that indicate the distribution to which the columnofinterest belongs. It must reside in the table indicated by the tablename parameter.</p>\n",
    "\n",
    "<p style = 'font-size:16px;font-family:Arial'><b>- **fallback**</b></p>\n",
    "\n",
    "<p style = 'font-size:16px;font-family:Arial'>When true, FALLBACK is requested as an attribute of the created output results table.  When false or parameter not specified, the FALLBACK attribute is not included in the create table SQL.</p>\n",
    "\n",
    "<p style = 'font-size:16px;font-family:Arial'><b>- **gensqlonly**</b></p>\n",
    "\n",
    "<p style = 'font-size:16px;font-family:Arial'>When true, the SQL for the requested function is returned as a result set but not run. When not specified or set to false, the SQL is run but not returned.  This parameter is not allowed when using the Smirnov test.</p>\n",
    "\n",
    "<p style = 'font-size:16px;font-family:Arial'><b>- **groupby**</b></p>\n",
    "    \n",
    "<p style = 'font-size:16px;font-family:Arial'>One or more group-by columns may optionally be specified so that a separate result is produced for each value or combination of values in the specified column or columns.</p>\n",
    "\n",
    "<p style = 'font-size:16px;font-family:Arial'><b>- **multiset**</b></p>\n",
    "\n",
    "<p style = 'font-size:16px;font-family:Arial'>When true, MULTISET is requested as an attribute of the created output results table.  When false or parameter not specified, the MULTISET attribute is not included in the create table SQL.</p>\n",
    "\n",
    "<p style = 'font-size:16px;font-family:Arial'><b>- **outputdatabase**</b></p>\n",
    "\n",
    "<p style = 'font-size:16px;font-family:Arial'>Specifies the name of the database to contain the analysis results table.</p>\n",
    "\n",
    "<p style = 'font-size:16px;font-family:Arial'><b>- **outputtablename**</b></p>\n",
    "\n",
    "<p style = 'font-size:16px;font-family:Arial'>Specifies the name of the table to store the analysis results. If not supplied, the results are returned as a result set.</p>\n",
    "\n",
    "<p style = 'font-size:16px;font-family:Arial'><b>- **overwrite**</b></p>\n",
    "\n",
    "<p style = 'font-size:16px;font-family:Arial'>When overwrite is set to true or not set, the output table is dropped before creating a new one.</p>\n",
    "\n",
    "<p style = 'font-size:16px;font-family:Arial'><b>- **statsdatabase**</b></p>\n",
    "\n",
    "<p style = 'font-size:16px;font-family:Arial'>This is the database where the statistical test metadata tables are installed.  If not specified, the source database is searched for these metadata tables.</p>\n",
    "\n",
    "<p style = 'font-size:16px;font-family:Arial'><b>- **teststyle**</b></p>\n",
    "\n",
    "<p style = 'font-size:16px;font-family:Arial'>The valid values are ks, l, sw, p and s, representing a Kolmogorov-Smirnov, Lilliefors, Shapiro-Wilk, D’Agostino and Pearson or Smirnov test.  If not specified, the default test style is Kolmogorov-Smirnov (ks).</p>\n",
    "\n",
    "<p style = 'font-size:16px;font-family:Arial'><b>- **thresholdprobability**</b></p>\n",
    "\n",
    "<p style = 'font-size:16px;font-family:Arial'>You may optionally change the threshold probability or allow it to default to 0.05.  Below this  \"alpha\" probability the null hypothesis is rejected.</p>"
   ]
  },
  {
   "cell_type": "markdown",
   "metadata": {},
   "source": [
    "--------------------------"
   ]
  },
  {
   "cell_type": "markdown",
   "metadata": {},
   "source": [
    "<p style = 'font-size:16px;font-family:Arial'>1.  Kolmogorov-Smirnov test with group-by option.</p>"
   ]
  },
  {
   "cell_type": "code",
   "execution_count": 18,
   "metadata": {},
   "outputs": [
    {
     "data": {
      "text/plain": [
       "Success: 0 rows affected"
      ]
     },
     "execution_count": 18,
     "metadata": {
      "application/vnd.teradata.resultset": ""
     },
     "output_type": "execute_result"
    },
    {
     "data": {
      "application/vnd.teradata.resultset": "\"tot_cust_years\",\"Klm\",\"M\",\"KlmPValue\",\"KlmPText\",\"KlmCallP_5E-2\"\n\"8\",\"0.167601957\",\"1014\",\"0.01\",\"<0.01\",\"p\"\n\"11\",\"0.147381487\",\"374\",\"0.01\",\"<0.01\",\"p\"\n\"12\",\"0.145172899\",\"182\",\"0.01\",\"<0.01\",\"p\"\n\"0\",\"0.15574236700000005\",\"176\",\"0.01\",\"<0.01\",\"p\"\n\"3\",\"0.169747933\",\"1160\",\"0.01\",\"<0.01\",\"p\"\n\"9\",\"0.156509661\",\"845\",\"0.01\",\"<0.01\",\"p\"\n\"4\",\"0.17757486300000003\",\"1137\",\"0.01\",\"<0.01\",\"p\"\n\"14\",\"0.11384552699999997\",\"39\",\"0.2\",\">0.20\",\"a\"\n\"1\",\"0.168141482\",\"526\",\"0.01\",\"<0.01\",\"p\"\n\"10\",\"0.186458308\",\"613\",\"0.01\",\"<0.01\",\"p\"\n\"7\",\"0.170163411\",\"1118\",\"0.01\",\"<0.01\",\"p\"\n\"6\",\"0.155173774\",\"1151\",\"0.01\",\"<0.01\",\"p\"\n\"2\",\"0.17041927299999998\",\"888\",\"0.01\",\"<0.01\",\"p\"\n\"13\",\"0.194162895\",\"45\",\"0.05970334701819358\",\"\",\"a\"\n\"5\",\"0.17785805899999993\",\"1190\",\"0.01\",\"<0.01\",\"p\"",
      "text/html": [
       "<div class = \"td-resultset-table-div\" style = \"max-height: 100%; overflow-y: auto\">\n",
       "      <table class=\"tdhistory991295\"><style>\n",
       "      table.tdhistory991295 { display: block !important; min-height: 399px !important; overflow: auto !important; height: 399px !important; width: 100% !important; border: 1px solid rgb(207, 207, 207) !important; border-collapse: collapse !important; ; color: var(--jp-ui-font-color1) !important; }\n",
       "      th.tdhistory991295 { border: 1px solid rgb(198,198,198) !important; border-collapse: collapse !important; ; padding: 2px 5px !important; ; font-size: 13px !important; ; text-align: center !important; white-space: normal !important; color: var(--jp-ui-font-color1) !important; }\n",
       "      th.tdhistory991295:last-child { text-align: left !important; }\n",
       "      tbody.tdhistory991295 tr:nth-child(even) { background: rgba(243, 243, 243, 0.75) !important; }\n",
       "      tbody.tdhistory991295 tr:nth-child(odd) { background: var(--jp-ui-inverse-font-color1) !important; }\n",
       "      td.tdhistory991295 { border: 1px solid rgb(207, 207, 207) !important; border-collapse: collapse !important; ; padding: 2px 5px !important; ; font-size: 13px !important; ; text-align: left !important;          white-space: nowrap !important; overflow:hidden !important; text-overflow:ellipsis !important;; }\n",
       "    </style><thead><tr style= \"background: rgba(243, 243, 243, 0.75)\"><th class=\"tdhistory991295\"></th><th class=\"tdhistory991295\">tot_cust_years</th><th class=\"tdhistory991295\">Klm</th><th class=\"tdhistory991295\">M</th><th class=\"tdhistory991295\">KlmPValue</th><th class=\"tdhistory991295\">KlmPText</th><th class=\"tdhistory991295\">KlmCallP_5E-2</th></tr></thead><tbody class=\"tdhistory991295 resultset-body\"><tr><th class=\"tdhistory991295\" style= \"background: rgba(243, 243, 243, 0.75)\">1</th><td class=\"tdhistory991295\">8</td><td class=\"tdhistory991295\">0.167601957</td><td class=\"tdhistory991295\">1014</td><td class=\"tdhistory991295\">0.01</td><td class=\"tdhistory991295\"><0.01</td><td class=\"tdhistory991295\">p</td></tr><tr><th class=\"tdhistory991295\" style= \"background: rgba(243, 243, 243, 0.75)\">2</th><td class=\"tdhistory991295\">11</td><td class=\"tdhistory991295\">0.147381487</td><td class=\"tdhistory991295\">374</td><td class=\"tdhistory991295\">0.01</td><td class=\"tdhistory991295\"><0.01</td><td class=\"tdhistory991295\">p</td></tr><tr><th class=\"tdhistory991295\" style= \"background: rgba(243, 243, 243, 0.75)\">3</th><td class=\"tdhistory991295\">12</td><td class=\"tdhistory991295\">0.145172899</td><td class=\"tdhistory991295\">182</td><td class=\"tdhistory991295\">0.01</td><td class=\"tdhistory991295\"><0.01</td><td class=\"tdhistory991295\">p</td></tr><tr><th class=\"tdhistory991295\" style= \"background: rgba(243, 243, 243, 0.75)\">4</th><td class=\"tdhistory991295\">0</td><td class=\"tdhistory991295\">0.15574236700000005</td><td class=\"tdhistory991295\">176</td><td class=\"tdhistory991295\">0.01</td><td class=\"tdhistory991295\"><0.01</td><td class=\"tdhistory991295\">p</td></tr><tr><th class=\"tdhistory991295\" style= \"background: rgba(243, 243, 243, 0.75)\">5</th><td class=\"tdhistory991295\">3</td><td class=\"tdhistory991295\">0.169747933</td><td class=\"tdhistory991295\">1160</td><td class=\"tdhistory991295\">0.01</td><td class=\"tdhistory991295\"><0.01</td><td class=\"tdhistory991295\">p</td></tr><tr><th class=\"tdhistory991295\" style= \"background: rgba(243, 243, 243, 0.75)\">6</th><td class=\"tdhistory991295\">9</td><td class=\"tdhistory991295\">0.156509661</td><td class=\"tdhistory991295\">845</td><td class=\"tdhistory991295\">0.01</td><td class=\"tdhistory991295\"><0.01</td><td class=\"tdhistory991295\">p</td></tr><tr><th class=\"tdhistory991295\" style= \"background: rgba(243, 243, 243, 0.75)\">7</th><td class=\"tdhistory991295\">4</td><td class=\"tdhistory991295\">0.17757486300000003</td><td class=\"tdhistory991295\">1137</td><td class=\"tdhistory991295\">0.01</td><td class=\"tdhistory991295\"><0.01</td><td class=\"tdhistory991295\">p</td></tr><tr><th class=\"tdhistory991295\" style= \"background: rgba(243, 243, 243, 0.75)\">8</th><td class=\"tdhistory991295\">14</td><td class=\"tdhistory991295\">0.11384552699999997</td><td class=\"tdhistory991295\">39</td><td class=\"tdhistory991295\">0.2</td><td class=\"tdhistory991295\">>0.20</td><td class=\"tdhistory991295\">a</td></tr><tr><th class=\"tdhistory991295\" style= \"background: rgba(243, 243, 243, 0.75)\">9</th><td class=\"tdhistory991295\">1</td><td class=\"tdhistory991295\">0.168141482</td><td class=\"tdhistory991295\">526</td><td class=\"tdhistory991295\">0.01</td><td class=\"tdhistory991295\"><0.01</td><td class=\"tdhistory991295\">p</td></tr><tr><th class=\"tdhistory991295\" style= \"background: rgba(243, 243, 243, 0.75)\">10</th><td class=\"tdhistory991295\">10</td><td class=\"tdhistory991295\">0.186458308</td><td class=\"tdhistory991295\">613</td><td class=\"tdhistory991295\">0.01</td><td class=\"tdhistory991295\"><0.01</td><td class=\"tdhistory991295\">p</td></tr><tr><th class=\"tdhistory991295\" style= \"background: rgba(243, 243, 243, 0.75)\">11</th><td class=\"tdhistory991295\">7</td><td class=\"tdhistory991295\">0.170163411</td><td class=\"tdhistory991295\">1118</td><td class=\"tdhistory991295\">0.01</td><td class=\"tdhistory991295\"><0.01</td><td class=\"tdhistory991295\">p</td></tr><tr><th class=\"tdhistory991295\" style= \"background: rgba(243, 243, 243, 0.75)\">12</th><td class=\"tdhistory991295\">6</td><td class=\"tdhistory991295\">0.155173774</td><td class=\"tdhistory991295\">1151</td><td class=\"tdhistory991295\">0.01</td><td class=\"tdhistory991295\"><0.01</td><td class=\"tdhistory991295\">p</td></tr><tr><th class=\"tdhistory991295\" style= \"background: rgba(243, 243, 243, 0.75)\">13</th><td class=\"tdhistory991295\">2</td><td class=\"tdhistory991295\">0.17041927299999998</td><td class=\"tdhistory991295\">888</td><td class=\"tdhistory991295\">0.01</td><td class=\"tdhistory991295\"><0.01</td><td class=\"tdhistory991295\">p</td></tr><tr><th class=\"tdhistory991295\" style= \"background: rgba(243, 243, 243, 0.75)\">14</th><td class=\"tdhistory991295\">13</td><td class=\"tdhistory991295\">0.194162895</td><td class=\"tdhistory991295\">45</td><td class=\"tdhistory991295\">0.05970334701819358</td><td class=\"tdhistory991295\"></td><td class=\"tdhistory991295\">a</td></tr><tr><th class=\"tdhistory991295\" style= \"background: rgba(243, 243, 243, 0.75)\">15</th><td class=\"tdhistory991295\">5</td><td class=\"tdhistory991295\">0.17785805899999993</td><td class=\"tdhistory991295\">1190</td><td class=\"tdhistory991295\">0.01</td><td class=\"tdhistory991295\"><0.01</td><td class=\"tdhistory991295\">p</td></tr></tbody></table></div>"
      ]
     },
     "execution_count": 18,
     "metadata": {
      "application/vnd.teradata.resultset": "{\"resultSetID\":\"/home/jovyan/JupyterLabRoot/Teradata/Resultsets/2023.07.14_09.16.46.389_UTC\",\"historyID\":334,\"chunkID\":\"00001\",\"sessionid\":\"\",\"portnum\":\"\",\"dockermode\":\"docker\",\"totalRowCount\":15,\"chunkCount\":0,\"rowLimit\":0,\"columnMetadata\":[{\"columnName\":\"tot_cust_years\",\"columnTypeName\":\"INTEGER\"},{\"columnNumber\":1,\"columnName\":\"Klm\",\"columnTypeName\":\"FLOAT\"},{\"columnNumber\":2,\"columnName\":\"M\",\"columnTypeName\":\"FLOAT\"},{\"columnNumber\":3,\"columnName\":\"KlmPValue\",\"columnTypeName\":\"FLOAT\"},{\"columnNumber\":4,\"columnName\":\"KlmPText\",\"columnTypeName\":\"VARCHAR\",\"length\":5,\"scale\":5},{\"columnNumber\":5,\"columnName\":\"KlmCallP_5E-2\",\"columnTypeName\":\"VARCHAR\",\"length\":1,\"scale\":1}]}"
     },
     "output_type": "execute_result"
    }
   ],
   "source": [
    "call val.td_analyze('KSTest', \n",
    "                         'database=demo_user;\n",
    "                          tablename=VAL_ADS;\n",
    "                          columnofinterest=tot_income;\n",
    "                          teststyle=KS;\n",
    "                          groupby=tot_cust_years;\n",
    "                          statsdatabase=val;');"
   ]
  },
  {
   "cell_type": "markdown",
   "metadata": {},
   "source": [
    "<p style = 'font-size:16px;font-family:Arial'>The above output has the output columns as below(If there are groupby columns, they comprise the UPI. Otherwise, N is the UPI.\n",
    "\n",
    "teststyle = ks (Default)</p>\n",
    "\n",
    " <table style = 'font-size:14px;font-family:Arial'>\n",
    "  <tr>\n",
    "    <th>Column</th>\n",
    "    <th>DataType</th>\n",
    "    <th>Description</th>\n",
    "  </tr>\n",
    "  <tr>\n",
    "    <td>Klm</td>\n",
    "    <td>Float</td>  \n",
    "    <td>Kolmogorov-Smirnov statistic.</td>\n",
    "  </tr>\n",
    "  <tr>\n",
    "    <td>M</td>\n",
    "    <td>Float</td>  \n",
    "    <td>Count.</td>\n",
    "  </tr>\n",
    "  <tr>\n",
    "    <td>KlmPValue</td>\n",
    "    <td>Float</td>  \n",
    "    <td>Probability associated with Kolmogorov-Smirnov statistic.</td>\n",
    "  </tr>\n",
    "  <tr>\n",
    "    <td>KlmPText</td>\n",
    "    <td>Char</td>  \n",
    "    <td>Text description if probability is outside table range.</td>\n",
    "  </tr>\n",
    "  <tr>\n",
    "    <td>KlmCallP_0.05</td>\n",
    "    <td>Char</td>  \n",
    "    <td>Kolmogorov-Smirnov result:\n",
    "        <li>a=accept null hypothesis</li>\n",
    "        <li>p=reject null hypothesis</li>\n",
    "    </td>\n",
    "  </tr>    \n",
    "</table>\n",
    "   \n",
    "<p>"
   ]
  },
  {
   "cell_type": "markdown",
   "metadata": {},
   "source": [
    "<p style = 'font-size:16px;font-family:Arial'>2.  Lilliefors test with group-by option.</p>"
   ]
  },
  {
   "cell_type": "code",
   "execution_count": 19,
   "metadata": {},
   "outputs": [
    {
     "data": {
      "text/plain": [
       "Success: 0 rows affected"
      ]
     },
     "execution_count": 19,
     "metadata": {
      "application/vnd.teradata.resultset": ""
     },
     "output_type": "execute_result"
    },
    {
     "data": {
      "application/vnd.teradata.resultset": "\"tot_cust_years\",\"Lilliefors\",\"M\",\"LillieforsPValue\",\"LillieforsPText\",\"LillieforsCallP_5E-2\"\n\"8\",\"0.16437102548323468\",\"1014\",\"0.01\",\"<0.01\",\"p\"\n\"11\",\"0.14539964207486628\",\"374\",\"0.01\",\"<0.01\",\"p\"\n\"12\",\"0.14397700704395605\",\"182\",\"0.01\",\"<0.01\",\"p\"\n\"0\",\"0.15455723972727275\",\"176\",\"0.01\",\"<0.01\",\"p\"\n\"3\",\"0.1652836109310345\",\"1160\",\"0.01\",\"<0.01\",\"p\"\n\"9\",\"0.15286021289940832\",\"845\",\"0.01\",\"<0.01\",\"p\"\n\"4\",\"0.17220877782761657\",\"1137\",\"0.01\",\"<0.01\",\"p\"\n\"14\",\"0.11152678682051276\",\"39\",\"0.2\",\">0.20\",\"a\"\n\"1\",\"0.16513402253992393\",\"526\",\"0.01\",\"<0.01\",\"p\"\n\"10\",\"0.1838866707161501\",\"613\",\"0.01\",\"<0.01\",\"p\"\n\"7\",\"0.16595695373703034\",\"1118\",\"0.01\",\"<0.01\",\"p\"\n\"6\",\"0.1514699463909644\",\"1151\",\"0.01\",\"<0.01\",\"p\"\n\"2\",\"0.16821365318018022\",\"888\",\"0.01\",\"<0.01\",\"p\"\n\"13\",\"0.19186959577777774\",\"45\",\"0.01\",\"<0.01\",\"p\"\n\"5\",\"0.17417877405882343\",\"1190\",\"0.01\",\"<0.01\",\"p\"",
      "text/html": [
       "<div class = \"td-resultset-table-div\" style = \"max-height: 100%; overflow-y: auto\">\n",
       "      <table class=\"tdhistory364267\"><style>\n",
       "      table.tdhistory364267 { display: block !important; min-height: 399px !important; overflow: auto !important; height: 399px !important; width: 100% !important; border: 1px solid rgb(207, 207, 207) !important; border-collapse: collapse !important; ; color: var(--jp-ui-font-color1) !important; }\n",
       "      th.tdhistory364267 { border: 1px solid rgb(198,198,198) !important; border-collapse: collapse !important; ; padding: 2px 5px !important; ; font-size: 13px !important; ; text-align: center !important; white-space: normal !important; color: var(--jp-ui-font-color1) !important; }\n",
       "      th.tdhistory364267:last-child { text-align: left !important; }\n",
       "      tbody.tdhistory364267 tr:nth-child(even) { background: rgba(243, 243, 243, 0.75) !important; }\n",
       "      tbody.tdhistory364267 tr:nth-child(odd) { background: var(--jp-ui-inverse-font-color1) !important; }\n",
       "      td.tdhistory364267 { border: 1px solid rgb(207, 207, 207) !important; border-collapse: collapse !important; ; padding: 2px 5px !important; ; font-size: 13px !important; ; text-align: left !important;          white-space: nowrap !important; overflow:hidden !important; text-overflow:ellipsis !important;; }\n",
       "    </style><thead><tr style= \"background: rgba(243, 243, 243, 0.75)\"><th class=\"tdhistory364267\"></th><th class=\"tdhistory364267\">tot_cust_years</th><th class=\"tdhistory364267\">Lilliefors</th><th class=\"tdhistory364267\">M</th><th class=\"tdhistory364267\">LillieforsPValue</th><th class=\"tdhistory364267\">LillieforsPText</th><th class=\"tdhistory364267\">LillieforsCallP_5E-2</th></tr></thead><tbody class=\"tdhistory364267 resultset-body\"><tr><th class=\"tdhistory364267\" style= \"background: rgba(243, 243, 243, 0.75)\">1</th><td class=\"tdhistory364267\">8</td><td class=\"tdhistory364267\">0.16437102548323468</td><td class=\"tdhistory364267\">1014</td><td class=\"tdhistory364267\">0.01</td><td class=\"tdhistory364267\"><0.01</td><td class=\"tdhistory364267\">p</td></tr><tr><th class=\"tdhistory364267\" style= \"background: rgba(243, 243, 243, 0.75)\">2</th><td class=\"tdhistory364267\">11</td><td class=\"tdhistory364267\">0.14539964207486628</td><td class=\"tdhistory364267\">374</td><td class=\"tdhistory364267\">0.01</td><td class=\"tdhistory364267\"><0.01</td><td class=\"tdhistory364267\">p</td></tr><tr><th class=\"tdhistory364267\" style= \"background: rgba(243, 243, 243, 0.75)\">3</th><td class=\"tdhistory364267\">12</td><td class=\"tdhistory364267\">0.14397700704395605</td><td class=\"tdhistory364267\">182</td><td class=\"tdhistory364267\">0.01</td><td class=\"tdhistory364267\"><0.01</td><td class=\"tdhistory364267\">p</td></tr><tr><th class=\"tdhistory364267\" style= \"background: rgba(243, 243, 243, 0.75)\">4</th><td class=\"tdhistory364267\">0</td><td class=\"tdhistory364267\">0.15455723972727275</td><td class=\"tdhistory364267\">176</td><td class=\"tdhistory364267\">0.01</td><td class=\"tdhistory364267\"><0.01</td><td class=\"tdhistory364267\">p</td></tr><tr><th class=\"tdhistory364267\" style= \"background: rgba(243, 243, 243, 0.75)\">5</th><td class=\"tdhistory364267\">3</td><td class=\"tdhistory364267\">0.1652836109310345</td><td class=\"tdhistory364267\">1160</td><td class=\"tdhistory364267\">0.01</td><td class=\"tdhistory364267\"><0.01</td><td class=\"tdhistory364267\">p</td></tr><tr><th class=\"tdhistory364267\" style= \"background: rgba(243, 243, 243, 0.75)\">6</th><td class=\"tdhistory364267\">9</td><td class=\"tdhistory364267\">0.15286021289940832</td><td class=\"tdhistory364267\">845</td><td class=\"tdhistory364267\">0.01</td><td class=\"tdhistory364267\"><0.01</td><td class=\"tdhistory364267\">p</td></tr><tr><th class=\"tdhistory364267\" style= \"background: rgba(243, 243, 243, 0.75)\">7</th><td class=\"tdhistory364267\">4</td><td class=\"tdhistory364267\">0.17220877782761657</td><td class=\"tdhistory364267\">1137</td><td class=\"tdhistory364267\">0.01</td><td class=\"tdhistory364267\"><0.01</td><td class=\"tdhistory364267\">p</td></tr><tr><th class=\"tdhistory364267\" style= \"background: rgba(243, 243, 243, 0.75)\">8</th><td class=\"tdhistory364267\">14</td><td class=\"tdhistory364267\">0.11152678682051276</td><td class=\"tdhistory364267\">39</td><td class=\"tdhistory364267\">0.2</td><td class=\"tdhistory364267\">>0.20</td><td class=\"tdhistory364267\">a</td></tr><tr><th class=\"tdhistory364267\" style= \"background: rgba(243, 243, 243, 0.75)\">9</th><td class=\"tdhistory364267\">1</td><td class=\"tdhistory364267\">0.16513402253992393</td><td class=\"tdhistory364267\">526</td><td class=\"tdhistory364267\">0.01</td><td class=\"tdhistory364267\"><0.01</td><td class=\"tdhistory364267\">p</td></tr><tr><th class=\"tdhistory364267\" style= \"background: rgba(243, 243, 243, 0.75)\">10</th><td class=\"tdhistory364267\">10</td><td class=\"tdhistory364267\">0.1838866707161501</td><td class=\"tdhistory364267\">613</td><td class=\"tdhistory364267\">0.01</td><td class=\"tdhistory364267\"><0.01</td><td class=\"tdhistory364267\">p</td></tr><tr><th class=\"tdhistory364267\" style= \"background: rgba(243, 243, 243, 0.75)\">11</th><td class=\"tdhistory364267\">7</td><td class=\"tdhistory364267\">0.16595695373703034</td><td class=\"tdhistory364267\">1118</td><td class=\"tdhistory364267\">0.01</td><td class=\"tdhistory364267\"><0.01</td><td class=\"tdhistory364267\">p</td></tr><tr><th class=\"tdhistory364267\" style= \"background: rgba(243, 243, 243, 0.75)\">12</th><td class=\"tdhistory364267\">6</td><td class=\"tdhistory364267\">0.1514699463909644</td><td class=\"tdhistory364267\">1151</td><td class=\"tdhistory364267\">0.01</td><td class=\"tdhistory364267\"><0.01</td><td class=\"tdhistory364267\">p</td></tr><tr><th class=\"tdhistory364267\" style= \"background: rgba(243, 243, 243, 0.75)\">13</th><td class=\"tdhistory364267\">2</td><td class=\"tdhistory364267\">0.16821365318018022</td><td class=\"tdhistory364267\">888</td><td class=\"tdhistory364267\">0.01</td><td class=\"tdhistory364267\"><0.01</td><td class=\"tdhistory364267\">p</td></tr><tr><th class=\"tdhistory364267\" style= \"background: rgba(243, 243, 243, 0.75)\">14</th><td class=\"tdhistory364267\">13</td><td class=\"tdhistory364267\">0.19186959577777774</td><td class=\"tdhistory364267\">45</td><td class=\"tdhistory364267\">0.01</td><td class=\"tdhistory364267\"><0.01</td><td class=\"tdhistory364267\">p</td></tr><tr><th class=\"tdhistory364267\" style= \"background: rgba(243, 243, 243, 0.75)\">15</th><td class=\"tdhistory364267\">5</td><td class=\"tdhistory364267\">0.17417877405882343</td><td class=\"tdhistory364267\">1190</td><td class=\"tdhistory364267\">0.01</td><td class=\"tdhistory364267\"><0.01</td><td class=\"tdhistory364267\">p</td></tr></tbody></table></div>"
      ]
     },
     "execution_count": 19,
     "metadata": {
      "application/vnd.teradata.resultset": "{\"resultSetID\":\"/home/jovyan/JupyterLabRoot/Teradata/Resultsets/2023.07.14_09.16.50.230_UTC\",\"historyID\":335,\"chunkID\":\"00001\",\"sessionid\":\"\",\"portnum\":\"\",\"dockermode\":\"docker\",\"totalRowCount\":15,\"chunkCount\":0,\"rowLimit\":0,\"columnMetadata\":[{\"columnName\":\"tot_cust_years\",\"columnTypeName\":\"INTEGER\"},{\"columnNumber\":1,\"columnName\":\"Lilliefors\",\"columnTypeName\":\"FLOAT\"},{\"columnNumber\":2,\"columnName\":\"M\",\"columnTypeName\":\"FLOAT\"},{\"columnNumber\":3,\"columnName\":\"LillieforsPValue\",\"columnTypeName\":\"FLOAT\"},{\"columnNumber\":4,\"columnName\":\"LillieforsPText\",\"columnTypeName\":\"VARCHAR\",\"length\":5,\"scale\":5},{\"columnNumber\":5,\"columnName\":\"LillieforsCallP_5E-2\",\"columnTypeName\":\"VARCHAR\",\"length\":1,\"scale\":1}]}"
     },
     "output_type": "execute_result"
    }
   ],
   "source": [
    "call val.td_analyze('KSTest', \n",
    "                         'database=demo_user;\n",
    "                          tablename=VAL_ADS;\n",
    "                          columnofinterest=tot_income;\n",
    "                          teststyle=L;\n",
    "                          groupby=tot_cust_years;\n",
    "                          statsdatabase=val;');"
   ]
  },
  {
   "cell_type": "markdown",
   "metadata": {},
   "source": [
    "<p style = 'font-size:16px;font-family:Arial'>The above output has the output columns as below(If there are groupby columns, they comprise the UPI. Otherwise, Lilliefors is the UPI.)\n",
    "\n",
    "teststyle = l</p>\n",
    "\n",
    " <table style = 'font-size:14px;font-family:Arial'>\n",
    "  <tr>\n",
    "    <th>Name</th>\n",
    "    <th>Type</th>\n",
    "    <th>Definition</th>\n",
    "  </tr>\n",
    "  <tr>\n",
    "    <td>Lilliefors</td>\n",
    "    <td>Float</td>  \n",
    "    <td>Lilliefors statistic.</td>\n",
    "  </tr>\n",
    "  <tr>\n",
    "    <td>M</td>\n",
    "    <td>Float</td>  \n",
    "    <td>Count.</td>\n",
    "  </tr>\n",
    "  <tr>\n",
    "    <td>LillieforsPValue</td>\n",
    "    <td>Float</td>  \n",
    "    <td>Probability associated with Lilliefors statistic.</td>\n",
    "  </tr>\n",
    "  <tr>\n",
    "    <td>LillieforsPText</td>\n",
    "    <td>Char</td>  \n",
    "    <td>Text description if probability is outside table range.</td>\n",
    "  </tr>\n",
    "  <tr>\n",
    "    <td>LillieforsCallP_0.05</td>\n",
    "    <td>Char</td>  \n",
    "    <td>Lilliefors result:\n",
    "        <li>a=accept null hypothesis</li>\n",
    "        <li>p=reject null hypothesis</li>\n",
    "    </td>\n",
    "  </tr>    \n",
    "</table>\n",
    "   \n",
    "<p>"
   ]
  },
  {
   "cell_type": "markdown",
   "metadata": {},
   "source": [
    "<p style = 'font-size:16px;font-family:Arial'>3.  Shapiro-Wilk test with group-by option</p>"
   ]
  },
  {
   "cell_type": "code",
   "execution_count": 20,
   "metadata": {},
   "outputs": [
    {
     "data": {
      "text/plain": [
       "Success: 0 rows affected"
      ]
     },
     "execution_count": 20,
     "metadata": {
      "application/vnd.teradata.resultset": ""
     },
     "output_type": "execute_result"
    },
    {
     "data": {
      "application/vnd.teradata.resultset": "\"tot_cust_years\",\"Shw\",\"N\",\"ShapiroWilkPValue\",\"ShapiroWilkPText\",\"ShapiroWilkCallP_5E-2\"\n\"2\",\"0.7380468157991136\",\"888\",\"1e-06\",\"\",\"p\"\n\"13\",\"0.8639321777575533\",\"45\",\"0.01\",\"<0.01\",\"p\"\n\"7\",\"0.7192490933650121\",\"1118\",\"1e-06\",\"\",\"p\"\n\"14\",\"0.9308345215745261\",\"39\",\"0.029586303936315124\",\"\",\"p\"\n\"1\",\"0.7768408108631815\",\"526\",\"1e-06\",\"\",\"p\"\n\"9\",\"0.7646871828003438\",\"845\",\"1e-06\",\"\",\"p\"\n\"12\",\"0.8145813511010314\",\"182\",\"1e-06\",\"\",\"p\"\n\"0\",\"0.8439237666531066\",\"176\",\"1e-06\",\"\",\"p\"\n\"8\",\"0.7397561124692318\",\"1014\",\"1e-06\",\"\",\"p\"\n\"10\",\"0.7328519330437469\",\"613\",\"1e-06\",\"\",\"p\"\n\"4\",\"0.7244255624743271\",\"1137\",\"1e-06\",\"\",\"p\"\n\"6\",\"0.7343209428011317\",\"1151\",\"1e-06\",\"\",\"p\"\n\"5\",\"0.7197366806117591\",\"1190\",\"1e-06\",\"\",\"p\"\n\"11\",\"0.7883936611899582\",\"374\",\"1e-06\",\"\",\"p\"\n\"3\",\"0.730502163658856\",\"1160\",\"1e-06\",\"\",\"p\"",
      "text/html": [
       "<div class = \"td-resultset-table-div\" style = \"max-height: 100%; overflow-y: auto\">\n",
       "      <table class=\"tdhistory499647\"><style>\n",
       "      table.tdhistory499647 { display: block !important; min-height: 399px !important; overflow: auto !important; height: 399px !important; width: 100% !important; border: 1px solid rgb(207, 207, 207) !important; border-collapse: collapse !important; ; color: var(--jp-ui-font-color1) !important; }\n",
       "      th.tdhistory499647 { border: 1px solid rgb(198,198,198) !important; border-collapse: collapse !important; ; padding: 2px 5px !important; ; font-size: 13px !important; ; text-align: center !important; white-space: normal !important; color: var(--jp-ui-font-color1) !important; }\n",
       "      th.tdhistory499647:last-child { text-align: left !important; }\n",
       "      tbody.tdhistory499647 tr:nth-child(even) { background: rgba(243, 243, 243, 0.75) !important; }\n",
       "      tbody.tdhistory499647 tr:nth-child(odd) { background: var(--jp-ui-inverse-font-color1) !important; }\n",
       "      td.tdhistory499647 { border: 1px solid rgb(207, 207, 207) !important; border-collapse: collapse !important; ; padding: 2px 5px !important; ; font-size: 13px !important; ; text-align: left !important;          white-space: nowrap !important; overflow:hidden !important; text-overflow:ellipsis !important;; }\n",
       "    </style><thead><tr style= \"background: rgba(243, 243, 243, 0.75)\"><th class=\"tdhistory499647\"></th><th class=\"tdhistory499647\">tot_cust_years</th><th class=\"tdhistory499647\">Shw</th><th class=\"tdhistory499647\">N</th><th class=\"tdhistory499647\">ShapiroWilkPValue</th><th class=\"tdhistory499647\">ShapiroWilkPText</th><th class=\"tdhistory499647\">ShapiroWilkCallP_5E-2</th></tr></thead><tbody class=\"tdhistory499647 resultset-body\"><tr><th class=\"tdhistory499647\" style= \"background: rgba(243, 243, 243, 0.75)\">1</th><td class=\"tdhistory499647\">2</td><td class=\"tdhistory499647\">0.7380468157991136</td><td class=\"tdhistory499647\">888</td><td class=\"tdhistory499647\">1e-06</td><td class=\"tdhistory499647\"></td><td class=\"tdhistory499647\">p</td></tr><tr><th class=\"tdhistory499647\" style= \"background: rgba(243, 243, 243, 0.75)\">2</th><td class=\"tdhistory499647\">13</td><td class=\"tdhistory499647\">0.8639321777575533</td><td class=\"tdhistory499647\">45</td><td class=\"tdhistory499647\">0.01</td><td class=\"tdhistory499647\"><0.01</td><td class=\"tdhistory499647\">p</td></tr><tr><th class=\"tdhistory499647\" style= \"background: rgba(243, 243, 243, 0.75)\">3</th><td class=\"tdhistory499647\">7</td><td class=\"tdhistory499647\">0.7192490933650121</td><td class=\"tdhistory499647\">1118</td><td class=\"tdhistory499647\">1e-06</td><td class=\"tdhistory499647\"></td><td class=\"tdhistory499647\">p</td></tr><tr><th class=\"tdhistory499647\" style= \"background: rgba(243, 243, 243, 0.75)\">4</th><td class=\"tdhistory499647\">14</td><td class=\"tdhistory499647\">0.9308345215745261</td><td class=\"tdhistory499647\">39</td><td class=\"tdhistory499647\">0.029586303936315124</td><td class=\"tdhistory499647\"></td><td class=\"tdhistory499647\">p</td></tr><tr><th class=\"tdhistory499647\" style= \"background: rgba(243, 243, 243, 0.75)\">5</th><td class=\"tdhistory499647\">1</td><td class=\"tdhistory499647\">0.7768408108631815</td><td class=\"tdhistory499647\">526</td><td class=\"tdhistory499647\">1e-06</td><td class=\"tdhistory499647\"></td><td class=\"tdhistory499647\">p</td></tr><tr><th class=\"tdhistory499647\" style= \"background: rgba(243, 243, 243, 0.75)\">6</th><td class=\"tdhistory499647\">9</td><td class=\"tdhistory499647\">0.7646871828003438</td><td class=\"tdhistory499647\">845</td><td class=\"tdhistory499647\">1e-06</td><td class=\"tdhistory499647\"></td><td class=\"tdhistory499647\">p</td></tr><tr><th class=\"tdhistory499647\" style= \"background: rgba(243, 243, 243, 0.75)\">7</th><td class=\"tdhistory499647\">12</td><td class=\"tdhistory499647\">0.8145813511010314</td><td class=\"tdhistory499647\">182</td><td class=\"tdhistory499647\">1e-06</td><td class=\"tdhistory499647\"></td><td class=\"tdhistory499647\">p</td></tr><tr><th class=\"tdhistory499647\" style= \"background: rgba(243, 243, 243, 0.75)\">8</th><td class=\"tdhistory499647\">0</td><td class=\"tdhistory499647\">0.8439237666531066</td><td class=\"tdhistory499647\">176</td><td class=\"tdhistory499647\">1e-06</td><td class=\"tdhistory499647\"></td><td class=\"tdhistory499647\">p</td></tr><tr><th class=\"tdhistory499647\" style= \"background: rgba(243, 243, 243, 0.75)\">9</th><td class=\"tdhistory499647\">8</td><td class=\"tdhistory499647\">0.7397561124692318</td><td class=\"tdhistory499647\">1014</td><td class=\"tdhistory499647\">1e-06</td><td class=\"tdhistory499647\"></td><td class=\"tdhistory499647\">p</td></tr><tr><th class=\"tdhistory499647\" style= \"background: rgba(243, 243, 243, 0.75)\">10</th><td class=\"tdhistory499647\">10</td><td class=\"tdhistory499647\">0.7328519330437469</td><td class=\"tdhistory499647\">613</td><td class=\"tdhistory499647\">1e-06</td><td class=\"tdhistory499647\"></td><td class=\"tdhistory499647\">p</td></tr><tr><th class=\"tdhistory499647\" style= \"background: rgba(243, 243, 243, 0.75)\">11</th><td class=\"tdhistory499647\">4</td><td class=\"tdhistory499647\">0.7244255624743271</td><td class=\"tdhistory499647\">1137</td><td class=\"tdhistory499647\">1e-06</td><td class=\"tdhistory499647\"></td><td class=\"tdhistory499647\">p</td></tr><tr><th class=\"tdhistory499647\" style= \"background: rgba(243, 243, 243, 0.75)\">12</th><td class=\"tdhistory499647\">6</td><td class=\"tdhistory499647\">0.7343209428011317</td><td class=\"tdhistory499647\">1151</td><td class=\"tdhistory499647\">1e-06</td><td class=\"tdhistory499647\"></td><td class=\"tdhistory499647\">p</td></tr><tr><th class=\"tdhistory499647\" style= \"background: rgba(243, 243, 243, 0.75)\">13</th><td class=\"tdhistory499647\">5</td><td class=\"tdhistory499647\">0.7197366806117591</td><td class=\"tdhistory499647\">1190</td><td class=\"tdhistory499647\">1e-06</td><td class=\"tdhistory499647\"></td><td class=\"tdhistory499647\">p</td></tr><tr><th class=\"tdhistory499647\" style= \"background: rgba(243, 243, 243, 0.75)\">14</th><td class=\"tdhistory499647\">11</td><td class=\"tdhistory499647\">0.7883936611899582</td><td class=\"tdhistory499647\">374</td><td class=\"tdhistory499647\">1e-06</td><td class=\"tdhistory499647\"></td><td class=\"tdhistory499647\">p</td></tr><tr><th class=\"tdhistory499647\" style= \"background: rgba(243, 243, 243, 0.75)\">15</th><td class=\"tdhistory499647\">3</td><td class=\"tdhistory499647\">0.730502163658856</td><td class=\"tdhistory499647\">1160</td><td class=\"tdhistory499647\">1e-06</td><td class=\"tdhistory499647\"></td><td class=\"tdhistory499647\">p</td></tr></tbody></table></div>"
      ]
     },
     "execution_count": 20,
     "metadata": {
      "application/vnd.teradata.resultset": "{\"resultSetID\":\"/home/jovyan/JupyterLabRoot/Teradata/Resultsets/2023.07.14_09.16.55.637_UTC\",\"historyID\":336,\"chunkID\":\"00001\",\"sessionid\":\"\",\"portnum\":\"\",\"dockermode\":\"docker\",\"totalRowCount\":15,\"chunkCount\":0,\"rowLimit\":0,\"columnMetadata\":[{\"columnName\":\"tot_cust_years\",\"columnTypeName\":\"INTEGER\"},{\"columnNumber\":1,\"columnName\":\"Shw\",\"columnTypeName\":\"FLOAT\"},{\"columnNumber\":2,\"columnName\":\"N\",\"columnTypeName\":\"FLOAT\"},{\"columnNumber\":3,\"columnName\":\"ShapiroWilkPValue\",\"columnTypeName\":\"FLOAT\"},{\"columnNumber\":4,\"columnName\":\"ShapiroWilkPText\",\"columnTypeName\":\"VARCHAR\",\"length\":5,\"scale\":5},{\"columnNumber\":5,\"columnName\":\"ShapiroWilkCallP_5E-2\",\"columnTypeName\":\"VARCHAR\",\"length\":1,\"scale\":1}]}"
     },
     "output_type": "execute_result"
    }
   ],
   "source": [
    "call val.td_analyze('KSTest', \n",
    "                         'database=demo_user;\n",
    "                          tablename=VAL_ADS;\n",
    "                          columnofinterest=tot_income;\n",
    "                          teststyle=SW;\n",
    "                          groupby=tot_cust_years;\n",
    "                          statsdatabase=val;');"
   ]
  },
  {
   "cell_type": "markdown",
   "metadata": {},
   "source": [
    "<p style = 'font-size:16px;font-family:Arial'>The above output has the output columns as below(If there are groupby columns, they comprise the UPI. Otherwise, Shw is the UPI.)\n",
    "\n",
    "teststyle = sw</p>\n",
    "\n",
    " <table style = 'font-size:14px;font-family:Arial'>\n",
    "  <tr>\n",
    "    <th>Name</th>\n",
    "    <th>Type</th>\n",
    "    <th>Definition</th>\n",
    "  </tr>\n",
    "  <tr>\n",
    "    <td>Shw</td>\n",
    "    <td>Float</td>  \n",
    "    <td>Shapiro-Wilk statistic.</td>\n",
    "  </tr>\n",
    "  <tr>\n",
    "    <td>N</td>\n",
    "    <td>Float</td>  \n",
    "    <td>Count.</td>\n",
    "  </tr>\n",
    "  <tr>\n",
    "    <td>ShapiroWilkPValue</td>\n",
    "    <td>Float</td>  \n",
    "    <td>Probability associated with Shapiro-Wilk statistic.</td>\n",
    "  </tr>\n",
    "  <tr>\n",
    "    <td>ShapiroWilkPText</td>\n",
    "    <td>Char</td>  \n",
    "    <td>Text description if probability is outside table range.</td>\n",
    "  </tr>\n",
    "  <tr>\n",
    "    <td>ShapiroWilkCallP_0.05.05</td>\n",
    "    <td>Char</td>  \n",
    "    <td>Shapiro-Wilk result:\n",
    "        <li>a=accept null hypothesis</li>\n",
    "        <li>p=reject null hypothesis</li>\n",
    "    </td>\n",
    "  </tr>    \n",
    "</table>\n",
    "   \n",
    "<p>"
   ]
  },
  {
   "cell_type": "markdown",
   "metadata": {},
   "source": [
    "<p style = 'font-size:16px;font-family:Arial'>4.  D'Agostino and Pearson Test with group-by option.</p>"
   ]
  },
  {
   "cell_type": "code",
   "execution_count": 21,
   "metadata": {},
   "outputs": [
    {
     "data": {
      "text/plain": [
       "Success: 0 rows affected"
      ]
     },
     "execution_count": 21,
     "metadata": {
      "application/vnd.teradata.resultset": ""
     },
     "output_type": "execute_result"
    },
    {
     "data": {
      "application/vnd.teradata.resultset": "\"tot_cust_years\",\"T\",\"Zkurtosis\",\"Zskew\",\"ChiPValue\",\"ChiPText\",\"ChiCallP_5E-2\"\n\"5\",\"670.6249123670643\",\"13.339258887906917\",\"22.19660074625078\",\"0.0001\",\"<0.0001\",\"p\"\n\"13\",\"6.550323087619043\",\"-0.2341478075898076\",\"2.548626667799725\",\"0.039921993675254674\",\"\",\"p\"\n\"7\",\"688.1595653640861\",\"13.84163952632453\",\"22.283818806196045\",\"0.0001\",\"<0.0001\",\"p\"\n\"0\",\"56.457438482420315\",\"3.748819106192446\",\"6.51181954537031\",\"0.0001\",\"<0.0001\",\"p\"\n\"3\",\"589.343712293951\",\"12.388685407891995\",\"20.877360612832142\",\"0.0001\",\"<0.0001\",\"p\"\n\"11\",\"147.96721301835333\",\"6.177449794326851\",\"10.478851418782714\",\"0.0001\",\"<0.0001\",\"p\"\n\"12\",\"56.86330990567813\",\"3.6355690358930977\",\"6.606507980085505\",\"0.0001\",\"<0.0001\",\"p\"\n\"14\",\"3.3288601796289172\",\"-0.6811192150956646\",\"1.6926124170808812\",\"0.2044684517976138\",\"\",\"a\"\n\"1\",\"244.1999513946027\",\"8.296957017858562\",\"13.242373489613191\",\"0.0001\",\"<0.0001\",\"p\"\n\"9\",\"439.9169174138988\",\"11.233736234248122\",\"17.71214520133684\",\"0.0001\",\"<0.0001\",\"p\"\n\"4\",\"699.1670879024301\",\"14.007041161881448\",\"22.42699011886769\",\"0.0001\",\"<0.0001\",\"p\"\n\"6\",\"604.0920246471817\",\"12.54918433339408\",\"21.13314924978476\",\"0.0001\",\"<0.0001\",\"p\"\n\"8\",\"568.6738886642958\",\"12.717984474593113\",\"20.172425723454886\",\"0.0001\",\"<0.0001\",\"p\"\n\"10\",\"356.23886916414375\",\"10.217865246021466\",\"15.869281615066589\",\"0.0001\",\"<0.0001\",\"p\"\n\"2\",\"422.3582578389184\",\"10.416288136969388\",\"17.716071779222087\",\"0.0001\",\"<0.0001\",\"p\"",
      "text/html": [
       "<div class = \"td-resultset-table-div\" style = \"max-height: 100%; overflow-y: auto\">\n",
       "      <table class=\"tdhistory263750\"><style>\n",
       "      table.tdhistory263750 { display: block !important; min-height: 399px !important; overflow: auto !important; height: 399px !important; width: 100% !important; border: 1px solid rgb(207, 207, 207) !important; border-collapse: collapse !important; ; color: var(--jp-ui-font-color1) !important; }\n",
       "      th.tdhistory263750 { border: 1px solid rgb(198,198,198) !important; border-collapse: collapse !important; ; padding: 2px 5px !important; ; font-size: 13px !important; ; text-align: center !important; white-space: normal !important; color: var(--jp-ui-font-color1) !important; }\n",
       "      th.tdhistory263750:last-child { text-align: left !important; }\n",
       "      tbody.tdhistory263750 tr:nth-child(even) { background: rgba(243, 243, 243, 0.75) !important; }\n",
       "      tbody.tdhistory263750 tr:nth-child(odd) { background: var(--jp-ui-inverse-font-color1) !important; }\n",
       "      td.tdhistory263750 { border: 1px solid rgb(207, 207, 207) !important; border-collapse: collapse !important; ; padding: 2px 5px !important; ; font-size: 13px !important; ; text-align: left !important;          white-space: nowrap !important; overflow:hidden !important; text-overflow:ellipsis !important;; }\n",
       "    </style><thead><tr style= \"background: rgba(243, 243, 243, 0.75)\"><th class=\"tdhistory263750\"></th><th class=\"tdhistory263750\">tot_cust_years</th><th class=\"tdhistory263750\">T</th><th class=\"tdhistory263750\">Zkurtosis</th><th class=\"tdhistory263750\">Zskew</th><th class=\"tdhistory263750\">ChiPValue</th><th class=\"tdhistory263750\">ChiPText</th><th class=\"tdhistory263750\">ChiCallP_5E-2</th></tr></thead><tbody class=\"tdhistory263750 resultset-body\"><tr><th class=\"tdhistory263750\" style= \"background: rgba(243, 243, 243, 0.75)\">1</th><td class=\"tdhistory263750\">5</td><td class=\"tdhistory263750\">670.6249123670643</td><td class=\"tdhistory263750\">13.339258887906917</td><td class=\"tdhistory263750\">22.19660074625078</td><td class=\"tdhistory263750\">0.0001</td><td class=\"tdhistory263750\"><0.0001</td><td class=\"tdhistory263750\">p</td></tr><tr><th class=\"tdhistory263750\" style= \"background: rgba(243, 243, 243, 0.75)\">2</th><td class=\"tdhistory263750\">13</td><td class=\"tdhistory263750\">6.550323087619043</td><td class=\"tdhistory263750\">-0.2341478075898076</td><td class=\"tdhistory263750\">2.548626667799725</td><td class=\"tdhistory263750\">0.039921993675254674</td><td class=\"tdhistory263750\"></td><td class=\"tdhistory263750\">p</td></tr><tr><th class=\"tdhistory263750\" style= \"background: rgba(243, 243, 243, 0.75)\">3</th><td class=\"tdhistory263750\">7</td><td class=\"tdhistory263750\">688.1595653640861</td><td class=\"tdhistory263750\">13.84163952632453</td><td class=\"tdhistory263750\">22.283818806196045</td><td class=\"tdhistory263750\">0.0001</td><td class=\"tdhistory263750\"><0.0001</td><td class=\"tdhistory263750\">p</td></tr><tr><th class=\"tdhistory263750\" style= \"background: rgba(243, 243, 243, 0.75)\">4</th><td class=\"tdhistory263750\">0</td><td class=\"tdhistory263750\">56.457438482420315</td><td class=\"tdhistory263750\">3.748819106192446</td><td class=\"tdhistory263750\">6.51181954537031</td><td class=\"tdhistory263750\">0.0001</td><td class=\"tdhistory263750\"><0.0001</td><td class=\"tdhistory263750\">p</td></tr><tr><th class=\"tdhistory263750\" style= \"background: rgba(243, 243, 243, 0.75)\">5</th><td class=\"tdhistory263750\">3</td><td class=\"tdhistory263750\">589.343712293951</td><td class=\"tdhistory263750\">12.388685407891995</td><td class=\"tdhistory263750\">20.877360612832142</td><td class=\"tdhistory263750\">0.0001</td><td class=\"tdhistory263750\"><0.0001</td><td class=\"tdhistory263750\">p</td></tr><tr><th class=\"tdhistory263750\" style= \"background: rgba(243, 243, 243, 0.75)\">6</th><td class=\"tdhistory263750\">11</td><td class=\"tdhistory263750\">147.96721301835333</td><td class=\"tdhistory263750\">6.177449794326851</td><td class=\"tdhistory263750\">10.478851418782714</td><td class=\"tdhistory263750\">0.0001</td><td class=\"tdhistory263750\"><0.0001</td><td class=\"tdhistory263750\">p</td></tr><tr><th class=\"tdhistory263750\" style= \"background: rgba(243, 243, 243, 0.75)\">7</th><td class=\"tdhistory263750\">12</td><td class=\"tdhistory263750\">56.86330990567813</td><td class=\"tdhistory263750\">3.6355690358930977</td><td class=\"tdhistory263750\">6.606507980085505</td><td class=\"tdhistory263750\">0.0001</td><td class=\"tdhistory263750\"><0.0001</td><td class=\"tdhistory263750\">p</td></tr><tr><th class=\"tdhistory263750\" style= \"background: rgba(243, 243, 243, 0.75)\">8</th><td class=\"tdhistory263750\">14</td><td class=\"tdhistory263750\">3.3288601796289172</td><td class=\"tdhistory263750\">-0.6811192150956646</td><td class=\"tdhistory263750\">1.6926124170808812</td><td class=\"tdhistory263750\">0.2044684517976138</td><td class=\"tdhistory263750\"></td><td class=\"tdhistory263750\">a</td></tr><tr><th class=\"tdhistory263750\" style= \"background: rgba(243, 243, 243, 0.75)\">9</th><td class=\"tdhistory263750\">1</td><td class=\"tdhistory263750\">244.1999513946027</td><td class=\"tdhistory263750\">8.296957017858562</td><td class=\"tdhistory263750\">13.242373489613191</td><td class=\"tdhistory263750\">0.0001</td><td class=\"tdhistory263750\"><0.0001</td><td class=\"tdhistory263750\">p</td></tr><tr><th class=\"tdhistory263750\" style= \"background: rgba(243, 243, 243, 0.75)\">10</th><td class=\"tdhistory263750\">9</td><td class=\"tdhistory263750\">439.9169174138988</td><td class=\"tdhistory263750\">11.233736234248122</td><td class=\"tdhistory263750\">17.71214520133684</td><td class=\"tdhistory263750\">0.0001</td><td class=\"tdhistory263750\"><0.0001</td><td class=\"tdhistory263750\">p</td></tr><tr><th class=\"tdhistory263750\" style= \"background: rgba(243, 243, 243, 0.75)\">11</th><td class=\"tdhistory263750\">4</td><td class=\"tdhistory263750\">699.1670879024301</td><td class=\"tdhistory263750\">14.007041161881448</td><td class=\"tdhistory263750\">22.42699011886769</td><td class=\"tdhistory263750\">0.0001</td><td class=\"tdhistory263750\"><0.0001</td><td class=\"tdhistory263750\">p</td></tr><tr><th class=\"tdhistory263750\" style= \"background: rgba(243, 243, 243, 0.75)\">12</th><td class=\"tdhistory263750\">6</td><td class=\"tdhistory263750\">604.0920246471817</td><td class=\"tdhistory263750\">12.54918433339408</td><td class=\"tdhistory263750\">21.13314924978476</td><td class=\"tdhistory263750\">0.0001</td><td class=\"tdhistory263750\"><0.0001</td><td class=\"tdhistory263750\">p</td></tr><tr><th class=\"tdhistory263750\" style= \"background: rgba(243, 243, 243, 0.75)\">13</th><td class=\"tdhistory263750\">8</td><td class=\"tdhistory263750\">568.6738886642958</td><td class=\"tdhistory263750\">12.717984474593113</td><td class=\"tdhistory263750\">20.172425723454886</td><td class=\"tdhistory263750\">0.0001</td><td class=\"tdhistory263750\"><0.0001</td><td class=\"tdhistory263750\">p</td></tr><tr><th class=\"tdhistory263750\" style= \"background: rgba(243, 243, 243, 0.75)\">14</th><td class=\"tdhistory263750\">10</td><td class=\"tdhistory263750\">356.23886916414375</td><td class=\"tdhistory263750\">10.217865246021466</td><td class=\"tdhistory263750\">15.869281615066589</td><td class=\"tdhistory263750\">0.0001</td><td class=\"tdhistory263750\"><0.0001</td><td class=\"tdhistory263750\">p</td></tr><tr><th class=\"tdhistory263750\" style= \"background: rgba(243, 243, 243, 0.75)\">15</th><td class=\"tdhistory263750\">2</td><td class=\"tdhistory263750\">422.3582578389184</td><td class=\"tdhistory263750\">10.416288136969388</td><td class=\"tdhistory263750\">17.716071779222087</td><td class=\"tdhistory263750\">0.0001</td><td class=\"tdhistory263750\"><0.0001</td><td class=\"tdhistory263750\">p</td></tr></tbody></table></div>"
      ]
     },
     "execution_count": 21,
     "metadata": {
      "application/vnd.teradata.resultset": "{\"resultSetID\":\"/home/jovyan/JupyterLabRoot/Teradata/Resultsets/2023.07.14_09.16.59.201_UTC\",\"historyID\":337,\"chunkID\":\"00001\",\"sessionid\":\"\",\"portnum\":\"\",\"dockermode\":\"docker\",\"totalRowCount\":15,\"chunkCount\":0,\"rowLimit\":0,\"columnMetadata\":[{\"columnName\":\"tot_cust_years\",\"columnTypeName\":\"INTEGER\"},{\"columnNumber\":1,\"columnName\":\"T\",\"columnTypeName\":\"FLOAT\"},{\"columnNumber\":2,\"columnName\":\"Zkurtosis\",\"columnTypeName\":\"FLOAT\"},{\"columnNumber\":3,\"columnName\":\"Zskew\",\"columnTypeName\":\"FLOAT\"},{\"columnNumber\":4,\"columnName\":\"ChiPValue\",\"columnTypeName\":\"FLOAT\"},{\"columnNumber\":5,\"columnName\":\"ChiPText\",\"columnTypeName\":\"VARCHAR\",\"length\":7,\"scale\":7},{\"columnNumber\":6,\"columnName\":\"ChiCallP_5E-2\",\"columnTypeName\":\"VARCHAR\",\"length\":1,\"scale\":1}]}"
     },
     "output_type": "execute_result"
    }
   ],
   "source": [
    "call val.td_analyze('KSTest', \n",
    "                         'database=demo_user;\n",
    "                          tablename=VAL_ADS;\n",
    "                          columnofinterest=tot_income;\n",
    "                          teststyle=P;\n",
    "                          groupby=tot_cust_years;\n",
    "                          statsdatabase=val;');"
   ]
  },
  {
   "cell_type": "markdown",
   "metadata": {},
   "source": [
    "<p style = 'font-size:16px;font-family:Arial'>5.  Smirnov test with group-by option.</p>"
   ]
  },
  {
   "cell_type": "code",
   "execution_count": 22,
   "metadata": {},
   "outputs": [
    {
     "data": {
      "text/plain": [
       "Success: 0 rows affected"
      ]
     },
     "execution_count": 22,
     "metadata": {
      "application/vnd.teradata.resultset": ""
     },
     "output_type": "execute_result"
    },
    {
     "data": {
      "application/vnd.teradata.resultset": "\"tot_cust_years\",\"M\",\"N\",\"D\",\"SmirnovPValue\",\"SmirnovPText\",\"SmirnovCallP_5E-2\"\n\"8\",\"450\",\"564\",\"1.3487542965938886\",\"0.005\",\"<0.005\",\"p\"\n\"11\",\"158\",\"216\",\"1.285839772469803\",\"0.005\",\"<0.005\",\"p\"\n\"12\",\"77\",\"105\",\"1.342031698510656\",\"0.005\",\"<0.005\",\"p\"\n\"0\",\"74\",\"102\",\"1.313851469476118\",\"0.005\",\"<0.005\",\"p\"\n\"3\",\"495\",\"665\",\"1.3747929978080613\",\"0.005\",\"<0.005\",\"p\"\n\"9\",\"374\",\"471\",\"1.3686535531466877\",\"0.005\",\"<0.005\",\"p\"\n\"4\",\"503\",\"634\",\"1.376370284874307\",\"0.005\",\"<0.005\",\"p\"\n\"14\",\"16\",\"23\",\"1.3716711154322194\",\"0.000101\",\"\",\"p\"\n\"1\",\"226\",\"300\",\"1.3719868864800215\",\"0.005\",\"<0.005\",\"p\"\n\"10\",\"263\",\"350\",\"1.3713273499381309\",\"0.005\",\"<0.005\",\"p\"\n\"7\",\"504\",\"614\",\"1.350382961089002\",\"0.005\",\"<0.005\",\"p\"\n\"6\",\"533\",\"618\",\"1.3732892384095656\",\"0.005\",\"<0.005\",\"p\"\n\"2\",\"378\",\"510\",\"1.3737247822288037\",\"0.005\",\"<0.005\",\"p\"\n\"13\",\"19\",\"26\",\"1.3476431854827773\",\"0.00011\",\"\",\"p\"\n\"5\",\"536\",\"654\",\"1.37351593846779\",\"0.005\",\"<0.005\",\"p\"",
      "text/html": [
       "<div class = \"td-resultset-table-div\" style = \"max-height: 100%; overflow-y: auto\">\n",
       "      <table class=\"tdhistory413527\"><style>\n",
       "      table.tdhistory413527 { display: block !important; min-height: 399px !important; overflow: auto !important; height: 399px !important; width: 100% !important; border: 1px solid rgb(207, 207, 207) !important; border-collapse: collapse !important; ; color: var(--jp-ui-font-color1) !important; }\n",
       "      th.tdhistory413527 { border: 1px solid rgb(198,198,198) !important; border-collapse: collapse !important; ; padding: 2px 5px !important; ; font-size: 13px !important; ; text-align: center !important; white-space: normal !important; color: var(--jp-ui-font-color1) !important; }\n",
       "      th.tdhistory413527:last-child { text-align: left !important; }\n",
       "      tbody.tdhistory413527 tr:nth-child(even) { background: rgba(243, 243, 243, 0.75) !important; }\n",
       "      tbody.tdhistory413527 tr:nth-child(odd) { background: var(--jp-ui-inverse-font-color1) !important; }\n",
       "      td.tdhistory413527 { border: 1px solid rgb(207, 207, 207) !important; border-collapse: collapse !important; ; padding: 2px 5px !important; ; font-size: 13px !important; ; text-align: left !important;          white-space: nowrap !important; overflow:hidden !important; text-overflow:ellipsis !important;; }\n",
       "    </style><thead><tr style= \"background: rgba(243, 243, 243, 0.75)\"><th class=\"tdhistory413527\"></th><th class=\"tdhistory413527\">tot_cust_years</th><th class=\"tdhistory413527\">M</th><th class=\"tdhistory413527\">N</th><th class=\"tdhistory413527\">D</th><th class=\"tdhistory413527\">SmirnovPValue</th><th class=\"tdhistory413527\">SmirnovPText</th><th class=\"tdhistory413527\">SmirnovCallP_5E-2</th></tr></thead><tbody class=\"tdhistory413527 resultset-body\"><tr><th class=\"tdhistory413527\" style= \"background: rgba(243, 243, 243, 0.75)\">1</th><td class=\"tdhistory413527\">8</td><td class=\"tdhistory413527\">450</td><td class=\"tdhistory413527\">564</td><td class=\"tdhistory413527\">1.3487542965938886</td><td class=\"tdhistory413527\">0.005</td><td class=\"tdhistory413527\"><0.005</td><td class=\"tdhistory413527\">p</td></tr><tr><th class=\"tdhistory413527\" style= \"background: rgba(243, 243, 243, 0.75)\">2</th><td class=\"tdhistory413527\">11</td><td class=\"tdhistory413527\">158</td><td class=\"tdhistory413527\">216</td><td class=\"tdhistory413527\">1.285839772469803</td><td class=\"tdhistory413527\">0.005</td><td class=\"tdhistory413527\"><0.005</td><td class=\"tdhistory413527\">p</td></tr><tr><th class=\"tdhistory413527\" style= \"background: rgba(243, 243, 243, 0.75)\">3</th><td class=\"tdhistory413527\">12</td><td class=\"tdhistory413527\">77</td><td class=\"tdhistory413527\">105</td><td class=\"tdhistory413527\">1.342031698510656</td><td class=\"tdhistory413527\">0.005</td><td class=\"tdhistory413527\"><0.005</td><td class=\"tdhistory413527\">p</td></tr><tr><th class=\"tdhistory413527\" style= \"background: rgba(243, 243, 243, 0.75)\">4</th><td class=\"tdhistory413527\">0</td><td class=\"tdhistory413527\">74</td><td class=\"tdhistory413527\">102</td><td class=\"tdhistory413527\">1.313851469476118</td><td class=\"tdhistory413527\">0.005</td><td class=\"tdhistory413527\"><0.005</td><td class=\"tdhistory413527\">p</td></tr><tr><th class=\"tdhistory413527\" style= \"background: rgba(243, 243, 243, 0.75)\">5</th><td class=\"tdhistory413527\">3</td><td class=\"tdhistory413527\">495</td><td class=\"tdhistory413527\">665</td><td class=\"tdhistory413527\">1.3747929978080613</td><td class=\"tdhistory413527\">0.005</td><td class=\"tdhistory413527\"><0.005</td><td class=\"tdhistory413527\">p</td></tr><tr><th class=\"tdhistory413527\" style= \"background: rgba(243, 243, 243, 0.75)\">6</th><td class=\"tdhistory413527\">9</td><td class=\"tdhistory413527\">374</td><td class=\"tdhistory413527\">471</td><td class=\"tdhistory413527\">1.3686535531466877</td><td class=\"tdhistory413527\">0.005</td><td class=\"tdhistory413527\"><0.005</td><td class=\"tdhistory413527\">p</td></tr><tr><th class=\"tdhistory413527\" style= \"background: rgba(243, 243, 243, 0.75)\">7</th><td class=\"tdhistory413527\">4</td><td class=\"tdhistory413527\">503</td><td class=\"tdhistory413527\">634</td><td class=\"tdhistory413527\">1.376370284874307</td><td class=\"tdhistory413527\">0.005</td><td class=\"tdhistory413527\"><0.005</td><td class=\"tdhistory413527\">p</td></tr><tr><th class=\"tdhistory413527\" style= \"background: rgba(243, 243, 243, 0.75)\">8</th><td class=\"tdhistory413527\">14</td><td class=\"tdhistory413527\">16</td><td class=\"tdhistory413527\">23</td><td class=\"tdhistory413527\">1.3716711154322194</td><td class=\"tdhistory413527\">0.000101</td><td class=\"tdhistory413527\"></td><td class=\"tdhistory413527\">p</td></tr><tr><th class=\"tdhistory413527\" style= \"background: rgba(243, 243, 243, 0.75)\">9</th><td class=\"tdhistory413527\">1</td><td class=\"tdhistory413527\">226</td><td class=\"tdhistory413527\">300</td><td class=\"tdhistory413527\">1.3719868864800215</td><td class=\"tdhistory413527\">0.005</td><td class=\"tdhistory413527\"><0.005</td><td class=\"tdhistory413527\">p</td></tr><tr><th class=\"tdhistory413527\" style= \"background: rgba(243, 243, 243, 0.75)\">10</th><td class=\"tdhistory413527\">10</td><td class=\"tdhistory413527\">263</td><td class=\"tdhistory413527\">350</td><td class=\"tdhistory413527\">1.3713273499381309</td><td class=\"tdhistory413527\">0.005</td><td class=\"tdhistory413527\"><0.005</td><td class=\"tdhistory413527\">p</td></tr><tr><th class=\"tdhistory413527\" style= \"background: rgba(243, 243, 243, 0.75)\">11</th><td class=\"tdhistory413527\">7</td><td class=\"tdhistory413527\">504</td><td class=\"tdhistory413527\">614</td><td class=\"tdhistory413527\">1.350382961089002</td><td class=\"tdhistory413527\">0.005</td><td class=\"tdhistory413527\"><0.005</td><td class=\"tdhistory413527\">p</td></tr><tr><th class=\"tdhistory413527\" style= \"background: rgba(243, 243, 243, 0.75)\">12</th><td class=\"tdhistory413527\">6</td><td class=\"tdhistory413527\">533</td><td class=\"tdhistory413527\">618</td><td class=\"tdhistory413527\">1.3732892384095656</td><td class=\"tdhistory413527\">0.005</td><td class=\"tdhistory413527\"><0.005</td><td class=\"tdhistory413527\">p</td></tr><tr><th class=\"tdhistory413527\" style= \"background: rgba(243, 243, 243, 0.75)\">13</th><td class=\"tdhistory413527\">2</td><td class=\"tdhistory413527\">378</td><td class=\"tdhistory413527\">510</td><td class=\"tdhistory413527\">1.3737247822288037</td><td class=\"tdhistory413527\">0.005</td><td class=\"tdhistory413527\"><0.005</td><td class=\"tdhistory413527\">p</td></tr><tr><th class=\"tdhistory413527\" style= \"background: rgba(243, 243, 243, 0.75)\">14</th><td class=\"tdhistory413527\">13</td><td class=\"tdhistory413527\">19</td><td class=\"tdhistory413527\">26</td><td class=\"tdhistory413527\">1.3476431854827773</td><td class=\"tdhistory413527\">0.00011</td><td class=\"tdhistory413527\"></td><td class=\"tdhistory413527\">p</td></tr><tr><th class=\"tdhistory413527\" style= \"background: rgba(243, 243, 243, 0.75)\">15</th><td class=\"tdhistory413527\">5</td><td class=\"tdhistory413527\">536</td><td class=\"tdhistory413527\">654</td><td class=\"tdhistory413527\">1.37351593846779</td><td class=\"tdhistory413527\">0.005</td><td class=\"tdhistory413527\"><0.005</td><td class=\"tdhistory413527\">p</td></tr></tbody></table></div>"
      ]
     },
     "execution_count": 22,
     "metadata": {
      "application/vnd.teradata.resultset": "{\"resultSetID\":\"/home/jovyan/JupyterLabRoot/Teradata/Resultsets/2023.07.14_09.17.04.831_UTC\",\"historyID\":338,\"chunkID\":\"00001\",\"sessionid\":\"\",\"portnum\":\"\",\"dockermode\":\"docker\",\"totalRowCount\":15,\"chunkCount\":0,\"rowLimit\":0,\"columnMetadata\":[{\"columnName\":\"tot_cust_years\",\"columnTypeName\":\"INTEGER\"},{\"columnNumber\":1,\"columnName\":\"M\",\"columnTypeName\":\"FLOAT\"},{\"columnNumber\":2,\"columnName\":\"N\",\"columnTypeName\":\"FLOAT\"},{\"columnNumber\":3,\"columnName\":\"D\",\"columnTypeName\":\"FLOAT\"},{\"columnNumber\":4,\"columnName\":\"SmirnovPValue\",\"columnTypeName\":\"FLOAT\"},{\"columnNumber\":5,\"columnName\":\"SmirnovPText\",\"columnTypeName\":\"VARCHAR\",\"length\":6,\"scale\":6},{\"columnNumber\":6,\"columnName\":\"SmirnovCallP_5E-2\",\"columnTypeName\":\"VARCHAR\",\"length\":1,\"scale\":1}]}"
     },
     "output_type": "execute_result"
    }
   ],
   "source": [
    "call val.td_analyze('KSTest', \n",
    "                         'database=demo_user;\n",
    "                          tablename=VAL_ADS;\n",
    "                          columnofinterest=tot_income;\n",
    "                          columns=female_ind;\n",
    "                          teststyle=S;\n",
    "                          groupby=tot_cust_years;\n",
    "                          statsdatabase=val;');"
   ]
  },
  {
   "cell_type": "markdown",
   "metadata": {},
   "source": [
    "<p style = 'font-size:16px;font-family:Arial'>The above output has the output columns as below(If there is a groupby column, it comprises the UPI. Otherwise, M is the UPI.)\n",
    "\n",
    "teststyle = s</p>\n",
    "\n",
    " <table style = 'font-size:14px;font-family:Arial'>\n",
    "  <tr>\n",
    "    <th>Name</th>\n",
    "    <th>Type</th>\n",
    "    <th>Definition</th>\n",
    "  </tr>\n",
    "  <tr>\n",
    "    <td>M</td>\n",
    "    <td>Float</td>  \n",
    "    <td>Number of first distribution observations.</td>\n",
    "  </tr>\n",
    "  <tr>\n",
    "    <td>N</td>\n",
    "    <td>Float</td>  \n",
    "    <td>Number of second distribution observations.</td>\n",
    "  </tr>\n",
    "  <tr>\n",
    "    <td>D</td>\n",
    "    <td>Float</td>  \n",
    "    <td>D statistic.</td>\n",
    "  </tr>\n",
    "  <tr>\n",
    "    <td>SmirnovPValue</td>\n",
    "    <td>Float</td>  \n",
    "    <td>Probability associated with D statistic.</td>\n",
    "  </tr>\n",
    "  <tr>\n",
    "    <td>SmirnovPText</td>\n",
    "    <td>Char</td>  \n",
    "    <td>Text description if probability is outside table range.</td>\n",
    "  </tr>  \n",
    "  <tr>\n",
    "    <td>ShapiroWilkCallP_0.05.05</td>\n",
    "    <td>Char</td>  \n",
    "    <td>Shapiro-Wilk result:\n",
    "        <li>a=accept null hypothesis</li>\n",
    "        <li>p=reject null hypothesis</li>\n",
    "    </td>\n",
    "  </tr>    \n",
    "</table>\n",
    "   \n",
    "<p>"
   ]
  },
  {
   "cell_type": "markdown",
   "metadata": {},
   "source": [
    "<p style = 'font-size:16px;font-family:Arial'>6.  Kolmogorov-Smirnov test that stores its results in an output table val_ks_out1 and does not contain a group-by option."
   ]
  },
  {
   "cell_type": "code",
   "execution_count": 23,
   "metadata": {},
   "outputs": [
    {
     "data": {
      "text/plain": [
       "Success: 0 rows affected"
      ]
     },
     "execution_count": 23,
     "metadata": {
      "application/vnd.teradata.resultset": ""
     },
     "output_type": "execute_result"
    }
   ],
   "source": [
    "call val.td_analyze('KSTest', \n",
    "                         'database=demo_user;\n",
    "                          tablename=VAL_ADS;\n",
    "                          columnofinterest=tot_income;\n",
    "                          teststyle=KS; \n",
    "                          statsdatabase=val;\n",
    "                          outputdatabase=demo_user;\n",
    "                          outputtablename=_val_ks_out1');"
   ]
  },
  {
   "cell_type": "code",
   "execution_count": 24,
   "metadata": {},
   "outputs": [
    {
     "data": {
      "application/vnd.teradata.resultset": "\"Klm\",\"M\",\"KlmPValue\",\"KlmPText\",\"KlmCallP_5E-2\"\n\"0.15818501100000001\",\"10458\",\"0.01\",\"<0.01\",\"p\"",
      "text/html": [
       "<div class = \"td-resultset-table-div\" style = \"max-height: 100%; overflow-y: auto\">\n",
       "      <table class=\"tdhistory303902\"><style>\n",
       "      table.tdhistory303902 { display: block !important; min-height: 105px !important; overflow: auto !important; height: 105px !important; width: 100% !important; border: 1px solid rgb(207, 207, 207) !important; border-collapse: collapse !important; ; color: var(--jp-ui-font-color1) !important; }\n",
       "      th.tdhistory303902 { border: 1px solid rgb(198,198,198) !important; border-collapse: collapse !important; ; padding: 2px 5px !important; ; font-size: 13px !important; ; text-align: center !important; white-space: normal !important; color: var(--jp-ui-font-color1) !important; }\n",
       "      th.tdhistory303902:last-child { text-align: left !important; }\n",
       "      tbody.tdhistory303902 tr:nth-child(even) { background: rgba(243, 243, 243, 0.75) !important; }\n",
       "      tbody.tdhistory303902 tr:nth-child(odd) { background: var(--jp-ui-inverse-font-color1) !important; }\n",
       "      td.tdhistory303902 { border: 1px solid rgb(207, 207, 207) !important; border-collapse: collapse !important; ; padding: 2px 5px !important; ; font-size: 13px !important; ; text-align: left !important;          white-space: nowrap !important; overflow:hidden !important; text-overflow:ellipsis !important;; }\n",
       "    </style><thead><tr style= \"background: rgba(243, 243, 243, 0.75)\"><th class=\"tdhistory303902\"></th><th class=\"tdhistory303902\">Klm</th><th class=\"tdhistory303902\">M</th><th class=\"tdhistory303902\">KlmPValue</th><th class=\"tdhistory303902\">KlmPText</th><th class=\"tdhistory303902\">KlmCallP_5E-2</th></tr></thead><tbody class=\"tdhistory303902 resultset-body\"><tr><th class=\"tdhistory303902\" style= \"background: rgba(243, 243, 243, 0.75)\">1</th><td class=\"tdhistory303902\">0.15818501100000001</td><td class=\"tdhistory303902\">10458</td><td class=\"tdhistory303902\">0.01</td><td class=\"tdhistory303902\"><0.01</td><td class=\"tdhistory303902\">p</td></tr></tbody></table></div>"
      ]
     },
     "execution_count": 24,
     "metadata": {
      "application/vnd.teradata.resultset": "{\"resultSetID\":\"/home/jovyan/JupyterLabRoot/Teradata/Resultsets/2023.07.14_09.17.13.150_UTC\",\"historyID\":340,\"chunkID\":\"00001\",\"sessionid\":\"\",\"portnum\":\"\",\"dockermode\":\"docker\",\"totalRowCount\":1,\"chunkCount\":0,\"rowLimit\":0,\"columnMetadata\":[{\"columnName\":\"Klm\",\"columnTypeName\":\"FLOAT\"},{\"columnNumber\":1,\"columnName\":\"M\",\"columnTypeName\":\"FLOAT\"},{\"columnNumber\":2,\"columnName\":\"KlmPValue\",\"columnTypeName\":\"FLOAT\"},{\"columnNumber\":3,\"columnName\":\"KlmPText\",\"columnTypeName\":\"VARCHAR\",\"length\":5,\"scale\":5},{\"columnNumber\":4,\"columnName\":\"KlmCallP_5E-2\",\"columnTypeName\":\"VARCHAR\",\"length\":1,\"scale\":1}]}"
     },
     "output_type": "execute_result"
    }
   ],
   "source": [
    "SELECT * FROM demo_user._val_ks_out1;"
   ]
  },
  {
   "cell_type": "markdown",
   "metadata": {},
   "source": [
    "---"
   ]
  },
  {
   "cell_type": "markdown",
   "metadata": {},
   "source": [
    "<p style = 'font-size:20px;font-family:Arial;color:#E37C4D'><b>6. Parametric Tests</b></p>\n",
    "\n",
    "<p style = 'font-size:16px;font-family:Arial;color:#E37C4D'><b>Purpose</b></p>\n",
    "\n",
    "<p style = 'font-size:16px;font-family:Arial'>Parametric tests make assumptions about the data, such as the observations being normally distributed.  This can be verified with a test of normality prior to executing a parametric test.  Both T-Tests and F-Tests are provided.  T-Tests may be either paired or unpaired, while the unpaired T-Tests may be with or without an indicator variable.</p>  \n",
    "\n",
    "<p style = 'font-size:16px;font-family:Arial'>F-Tests may be 1-way, 2-way or 3-way.  2-way tests may have equal or unequal cell counts (distinct column values), while the 3-way test must have equal cell counts.  A 1-way test has 1 independent input column, a 2-way test has 2 independent columns and a 3-way test has 3 independent columns in addition to a dependent “column of interest”.</p>\n",
    "\n",
    "<p style = 'font-size:16px;font-family:Arial;color:#E37C4D'><b>Required Parameters</b></p>\n",
    "\n",
    "<p style = 'font-size:16px;font-family:Arial'><b>- **database**</b></p>\n",
    "\n",
    "<p style = 'font-size:16px;font-family:Arial'>The database containing the table to analyze.</p>\n",
    "\n",
    "<p style = 'font-size:16px;font-family:Arial'><b>- **parametrictest**</b></p>\n",
    "\n",
    "<p style = 'font-size:16px;font-family:Arial'>The parametrictest parameter:\n",
    "    <li>Is required</li>\n",
    "    <li>Must be the first parameter</li>\n",
    "    <li>Is always enclosed in single quotes</li>\n",
    "</p>\n",
    "\n",
    "<p style = 'font-size:16px;font-family:Arial'><b>- **tablename**</b></p>\n",
    "\n",
    "<p style = 'font-size:16px;font-family:Arial'>The table containing the columns to analyze.  It must reside in the database indicated by the database parameter.</p>\n",
    "\n",
    "<p style = 'font-size:16px;font-family:Arial;color:#E37C4D'><b>Optional Parameters</b></p>\n",
    "\n",
    "<p style = 'font-size:16px;font-family:Arial'><b>- **columnofinterest**</b></p>\n",
    "\n",
    "<p style = 'font-size:16px;font-family:Arial'>The column representing the dependent variable in an F-Test.</p>\n",
    "\n",
    "<p style = 'font-size:16px;font-family:Arial'><b>- **columns**</b></p>\n",
    "\n",
    "<p style = 'font-size:16px;font-family:Arial'>The columns representing independent variables to be analyzed in a F-Test N-Way with Equal Cell Counts analysis.  There may be 1, 2 or 3 columns listed in this parameter.  If 2 or 3 columns, the number of distinct values for each combination of column values should be the same.</p>\n",
    "\n",
    "<p style = 'font-size:16px;font-family:Arial'><b>- **equalvariance**</b></p>\n",
    "\n",
    "<p style = 'font-size:16px;font-family:Arial'>An option available with the T-Test where, if true, the variance of the two samples (columns) is assumed to be equal.  The default assumption is that the variances are not equal.</p>\n",
    "\n",
    "<p style = 'font-size:16px;font-family:Arial'><b>- **fallback**</b></p>\n",
    "\n",
    "<p style = 'font-size:16px;font-family:Arial'>When true, FALLBACK is requested as an attribute of the created output results table.  When false or parameter not specified, the FALLBACK attribute is not included in the create table SQL.</p>\n",
    "\n",
    "<p style = 'font-size:16px;font-family:Arial'><b>- **firstcolumn**</b></p>\n",
    "\n",
    "<p style = 'font-size:16px;font-family:Arial'>For a T-Test, the column representing the first variable to analyze. It must reside in the table indicated by the tablename parameter.  For an F-Test, the column representing the first independent variable in the analysis.</p>\n",
    "\n",
    "<p style = 'font-size:16px;font-family:Arial'><b>- **firstcolumnvalues**</b></p>\n",
    "\n",
    "<p style = 'font-size:16px;font-family:Arial'>This is a required option for a 2-way F-Test with Unequal Cell Counts.  It is a list of the firstcolumn values to be included in the analysis.</p>\n",
    "\n",
    "<p style = 'font-size:16px;font-family:Arial'><b>- **gensqlonly**</b></p>\n",
    "\n",
    "<p style = 'font-size:16px;font-family:Arial'>For a T-Test analysis, when gensqlonly is true, the SQL for the requested function is returned as a result set but not run. When not specified or set to false, the SQL is run but not returned.  This option is not available for an F-Test analysis.</p>\n",
    "\n",
    "<p style = 'font-size:16px;font-family:Arial'><b>- **groupby**</b></p>\n",
    "\n",
    "<p style = 'font-size:16px;font-family:Arial'>One or more group-by columns may optionally be specified so that a separate result is produced for each value or combination of values in the specified column or columns.</p>\n",
    "\n",
    "<p style = 'font-size:16px;font-family:Arial'><b>- **multiset**</b></p>\n",
    "\n",
    "<p style = 'font-size:16px;font-family:Arial'>When true, MULTISET is requested as an attribute of the created output results table.  When false or parameter not specified, the MULTISET attribute is not included in the create table SQL.</p>\n",
    "\n",
    "<p style = 'font-size:16px;font-family:Arial'><b>- **outputdatabase**</b></p>\n",
    "\n",
    "<p style = 'font-size:16px;font-family:Arial'>Specifies the name of the database to contain the analysis results table.</p>\n",
    "\n",
    "<p style = 'font-size:16px;font-family:Arial'><b>- **outputtablename**</b></p>\n",
    "\n",
    "<p style = 'font-size:16px;font-family:Arial'>Specifies the name of the table to store the analysis results. If not supplied, the results are returned as a result set.</p>\n",
    "\n",
    "<p style = 'font-size:16px;font-family:Arial'><b>- **overwrite**</b></p>\n",
    "\n",
    "<p style = 'font-size:16px;font-family:Arial'>When overwrite is set to true or not set, the output table is dropped before creating a new one.</p>\n",
    "\n",
    "<p style = 'font-size:16px;font-family:Arial'><b>- **paired**</b></p>\n",
    "\n",
    "<p style = 'font-size:16px;font-family:Arial'>An option of the T-Test, which when set to true, indicates that the first and second column values are matched with each other and the mean difference is analyzed.  The paired option defaults to false.</p>\n",
    "\n",
    "<p style = 'font-size:16px;font-family:Arial'><b>- **secondcolumn**</b></p>\n",
    "\n",
    "<p style = 'font-size:16px;font-family:Arial'>For a T-Test, the column representing the second variable to analyze. It must reside in the table indicated by the tablename parameter.  If the withindicator option is set to true, the second column is used to define two analysis categories, one where the second column is negative or zero, and another where the second column is positive.  For an F-Test, the column representing the second independent variable in the analysis.</p>\n",
    "\n",
    "<p style = 'font-size:16px;font-family:Arial'><b>- **secondcolumnvalues**</b></p>\n",
    "\n",
    "<p style = 'font-size:16px;font-family:Arial'>This is a required option for a 2-way F-Test with Unequal Cell Counts.  It is a list of the secondcolumn values to be included in the analysis.</p>\n",
    "\n",
    "<p style = 'font-size:16px;font-family:Arial'><b>- **statsdatabase**</b></p>\n",
    "\n",
    "<p style = 'font-size:16px;font-family:Arial'>This is the database where the statistical test metadata tables are installed.  If not specified, the source database is searched for these metadata tables.</p>\n",
    "\n",
    "<p style = 'font-size:16px;font-family:Arial'><b>- **teststyle**</b></p>\n",
    "\n",
    "<p style = 'font-size:16px;font-family:Arial'>The valid values are t, fnway and f2way, as outlined below. The default is t for T-Test.\n",
    "    \n",
    "<li>T-Test paired, unpaired or unpaired with indicator variable (second column)</li>\n",
    "<li>F-Test N-Way with Equal Cell Counts (1, 2 or 3 columns with same number of distinct values)</li>\n",
    "<li>F-Test 2-Way with Unequal Cell Counts (2 columns with possibly different numbers of distinct values)</li>\n",
    "</p>\n",
    "\n",
    "<p style = 'font-size:16px;font-family:Arial'><b>- **thresholdprobability**</b></p>\n",
    "\n",
    "<p style = 'font-size:16px;font-family:Arial'>You may optionally change the threshold probability or allow it to default to 0.05.  Below this  \"alpha\" probability the null hypothesis is rejected.</p>\n",
    "\n",
    "<p style = 'font-size:16px;font-family:Arial'><b>- **withindicator**</b></p>\n",
    "\n",
    "<p style = 'font-size:16px;font-family:Arial'>This option may be used with an un-paired T-Test, that is when teststyle=t and paired=false.  If the withindicator option is set to true, the second column is used to indicate there are two analysis categories, one for the case where the second column is negative or zero, and another when the second column is positive.</p>"
   ]
  },
  {
   "cell_type": "markdown",
   "metadata": {},
   "source": [
    "--------------------------"
   ]
  },
  {
   "cell_type": "markdown",
   "metadata": {},
   "source": [
    "<p style = 'font-size:16px;font-family:Arial'>1.  T-Test producing an unpersisted result set with default values for teststyle (t) and  thresholdprobabilty (.05). </p> "
   ]
  },
  {
   "cell_type": "code",
   "execution_count": 25,
   "metadata": {},
   "outputs": [
    {
     "data": {
      "text/plain": [
       "Success: 0 rows affected"
      ]
     },
     "execution_count": 25,
     "metadata": {
      "application/vnd.teradata.resultset": ""
     },
     "output_type": "execute_result"
    },
    {
     "data": {
      "application/vnd.teradata.resultset": "\"tot_age\",\"female_ind\",\"D_F\",\"TTestPValue\",\"T\",\"TTestCallP_0.05\"\n\"85\",\"1\",\"18\",\"0.4807706\",\"-0.715463172636989\",\"a\"\n\"93\",\"0\",\"3\",\"0\",\"\",\"\"\n\"77\",\"0\",\"7\",\"0.2252156\",\"1.3272042858038389\",\"a\"\n\"76\",\"1\",\"24\",\"0.7818767\",\"0.2757542705961492\",\"a\"\n\"72\",\"1\",\"28\",\"0.2042013\",\"-1.2957723582343272\",\"a\"\n\"93\",\"1\",\"7\",\"0.0856193\",\"2.00449476653439\",\"a\"\n\"64\",\"1\",\"46\",\"0.0063499\",\"-2.8563487358795143\",\"n\"\n\"50\",\"1\",\"107\",\"0.0016447\",\"-3.2344818472272943\",\"n\"\n\"47\",\"0\",\"54\",\"0.0053865\",\"-2.9000459446649285\",\"n\"\n\"89\",\"1\",\"15\",\"0.0142988\",\"2.768336037446021\",\"p\"\n\"72\",\"0\",\"20\",\"0.9921204\",\"-0.007635559294069887\",\"a\"\n\"38\",\"0\",\"72\",\"0.449736\",\"-0.7618334417633449\",\"a\"\n\"48\",\"0\",\"72\",\"0.0019244\",\"-3.222939229651588\",\"n\"\n\"76\",\"0\",\"16\",\"0.2834034\",\"1.1137590628201983\",\"a\"\n\"26\",\"0\",\"39\",\"0.002657\",\"-3.2075616900465023\",\"n\"\n\"66\",\"1\",\"78\",\"0.0004723\",\"-3.6466911082426523\",\"n\"\n\"79\",\"0\",\"20\",\"0.4798555\",\"-0.721590349507282\",\"a\"\n\"52\",\"1\",\"103\",\"0.0657389\",\"-1.858890719883952\",\"a\"\n\"73\",\"0\",\"28\",\"0.3502408\",\"0.9479074683140469\",\"a\"\n\"42\",\"1\",\"117\",\"0.00033\",\"-3.701124936484421\",\"n\"\n\"35\",\"1\",\"107\",\"0.9047082\",\"0.11921172925079081\",\"a\"\n\"89\",\"0\",\"13\",\"0.1763092\",\"-1.4332867450865145\",\"a\"\n\"33\",\"0\",\"79\",\"0.0511857\",\"-1.9785619285502427\",\"a\"\n\"88\",\"0\",\"16\",\"0.015772\",\"-2.704698849315726\",\"n\"\n\"45\",\"0\",\"68\",\"0.0001292\",\"-4.059830394523732\",\"n\"\n\"43\",\"1\",\"105\",\"0.0020615\",\"-3.1592821796103485\",\"n\"\n\"14\",\"1\",\"51\",\"0.0005456\",\"3.6931882629121917\",\"p\"\n\"90\",\"1\",\"9\",\"0.1555528\",\"1.5452312612420112\",\"a\"\n\"61\",\"0\",\"54\",\"0.1420424\",\"-1.488055266939588\",\"a\"\n\"23\",\"0\",\"69\",\"0.0116994\",\"-2.590484787457626\",\"n\"\n\"44\",\"1\",\"90\",\"0.0003708\",\"-3.7033331405109133\",\"n\"\n\"77\",\"1\",\"40\",\"0.0221685\",\"-2.3842272128649915\",\"n\"\n\"73\",\"1\",\"33\",\"0.0086889\",\"-2.7896935842911224\",\"n\"\n\"80\",\"0\",\"21\",\"0.415875\",\"0.8330076821034003\",\"a\"\n\"65\",\"1\",\"72\",\"0.0365898\",\"-2.13109044369817\",\"n\"\n\"46\",\"1\",\"113\",\"0.0011735\",\"-3.3276825944952346\",\"n\"\n\"10\",\"1\",\"5\",\"0.1100709\",\"1.9429580983579042\",\"a\"\n\"33\",\"1\",\"93\",\"0.0402766\",\"-2.0782630924555523\",\"n\"\n\"94\",\"1\",\"7\",\"0.1132148\",\"1.8135209270199906\",\"a\"\n\"31\",\"1\",\"88\",\"0.6183231\",\"-0.5021525435049806\",\"a\"\n\"39\",\"1\",\"94\",\"0.0037795\",\"-2.9667186633594596\",\"n\"\n\"45\",\"1\",\"104\",\"0.0438849\",\"-2.043640866896205\",\"n\"\n\"49\",\"1\",\"95\",\"0.0001084\",\"-4.035018616442392\",\"n\"\n\"91\",\"0\",\"4\",\"0.2206629\",\"-1.4534208494891652\",\"a\"\n\"39\",\"0\",\"73\",\"0.0915134\",\"-1.7050522939133508\",\"a\"\n\"83\",\"1\",\"19\",\"0.1217113\",\"-1.6174953200682674\",\"a\"\n\"27\",\"1\",\"69\",\"0.0431725\",\"-2.056515593385942\",\"n\"\n\"31\",\"0\",\"71\",\"0.0107457\",\"-2.6194798084884576\",\"n\"\n\"75\",\"1\",\"33\",\"0.1959187\",\"1.315635133067727\",\"a\"\n\"9\",\"0\",\"6\",\"0.0663471\",\"2.240383083370425\",\"a\"\n\"57\",\"1\",\"94\",\"0.9443424\",\"0.06664211026909828\",\"a\"\n\"91\",\"1\",\"5\",\"0.1939037\",\"1.498396239698223\",\"a\"\n\"15\",\"0\",\"86\",\"0.0002188\",\"3.86424958293181\",\"p\"\n\"75\",\"0\",\"27\",\"0.1025436\",\"1.6862479715409269\",\"a\"\n\"74\",\"1\",\"39\",\"0.0004152\",\"-3.862600306934728\",\"n\"\n\"78\",\"0\",\"22\",\"0.1696243\",\"1.4246952271401183\",\"a\"\n\"53\",\"0\",\"79\",\"0.0045597\",\"-2.9247071997293714\",\"n\"\n\"67\",\"0\",\"46\",\"0.0328687\",\"-2.198412250198925\",\"n\"\n\"54\",\"0\",\"50\",\"0.008058\",\"-2.7643781497302564\",\"n\"\n\"29\",\"0\",\"51\",\"0.462693\",\"-0.7355089630973273\",\"a\"\n\"71\",\"1\",\"62\",\"0.0001833\",\"-3.9795200511271416\",\"n\"\n\"92\",\"0\",\"3\",\"0.0260825\",\"-4.1093444064195035\",\"n\"\n\"56\",\"1\",\"100\",\"0.4732045\",\"0.7175552279050325\",\"a\"\n\"87\",\"0\",\"21\",\"0.1384942\",\"-1.5419105988818673\",\"a\"\n\"80\",\"1\",\"27\",\"0.0461684\",\"-2.091977548190066\",\"n\"\n\"63\",\"0\",\"52\",\"0.0004896\",\"-3.7172265649750513\",\"n\"\n\"9\",\"1\",\"7\",\"0.0011862\",\"5.246179206391678\",\"p\"\n\"86\",\"0\",\"15\",\"0.0164588\",\"-2.6984705704142558\",\"n\"\n\"37\",\"1\",\"91\",\"0.0134787\",\"-2.515855840770415\",\"n\"\n\"62\",\"1\",\"70\",\"0.0745882\",\"-1.813453870336688\",\"a\"\n\"40\",\"0\",\"93\",\"0.0102693\",\"-2.6213267496702675\",\"n\"\n\"10\",\"0\",\"8\",\"0.0363709\",\"2.511782405006141\",\"p\"\n\"59\",\"1\",\"81\",\"0.6325211\",\"-0.4799533198668136\",\"a\"\n\"64\",\"0\",\"58\",\"0.0182145\",\"-2.426959140037223\",\"n\"\n\"18\",\"0\",\"113\",\"0.1101879\",\"1.6087900992398698\",\"a\"\n\"14\",\"0\",\"57\",\"0.0112496\",\"2.6246422071530566\",\"p\"\n\"74\",\"0\",\"42\",\"0.0728423\",\"1.8431313461350431\",\"a\"\n\"28\",\"1\",\"71\",\"0.0366385\",\"-2.129852920428456\",\"n\"\n\"68\",\"0\",\"41\",\"0.0075597\",\"-2.813233355868117\",\"n\"\n\"32\",\"1\",\"90\",\"0.24509\",\"-1.1709752915228595\",\"a\"\n\"58\",\"0\",\"93\",\"0.0541878\",\"-1.9456766189714712\",\"a\"\n\"65\",\"0\",\"56\",\"0.0667144\",\"-1.870800636670386\",\"a\"\n\"26\",\"1\",\"53\",\"0.3170842\",\"-1.0140118328532206\",\"a\"\n\"25\",\"1\",\"41\",\"0.0948247\",\"-1.71158062097157\",\"a\"\n\"84\",\"1\",\"23\",\"0.0116674\",\"-2.7412402361481214\",\"n\"\n\"79\",\"1\",\"34\",\"0.1144719\",\"-1.62378124809626\",\"a\"\n\"24\",\"0\",\"64\",\"0.654231\",\"0.4494421380277679\",\"a\"\n\"12\",\"1\",\"9\",\"0.0600366\",\"-2.1451698881663877\",\"a\"\n\"17\",\"1\",\"116\",\"0.0117522\",\"2.564886589417917\",\"p\"\n\"69\",\"1\",\"47\",\"0.0009419\",\"-3.5274152408618322\",\"n\"\n\"13\",\"0\",\"27\",\"0.0156412\",\"2.5810498299970592\",\"p\"\n\"21\",\"0\",\"70\",\"0.2265592\",\"-1.2185733241114736\",\"a\"\n\"25\",\"0\",\"32\",\"0.3854205\",\"-0.8799985807528692\",\"a\"\n\"22\",\"0\",\"57\",\"0.7127537\",\"-0.37155226198840857\",\"a\"\n\"12\",\"0\",\"8\",\"0.2833584\",\"-1.1492921641212328\",\"a\"\n\"88\",\"1\",\"13\",\"0.2368918\",\"-1.241193674877168\",\"a\"\n\"70\",\"0\",\"45\",\"0.5189969\",\"-0.6513020306745494\",\"a\"\n\"78\",\"1\",\"29\",\"0.0049756\",\"-3.042291228131736\",\"n\"\n\"34\",\"0\",\"76\",\"0.4204692\",\"0.811250825489578\",\"a\"\n\"11\",\"0\",\"12\",\"0.0335186\",\"2.3986400290671694\",\"p\"\n\"61\",\"1\",\"86\",\"0.0250818\",\"2.2760531913263917\",\"p\"\n\"54\",\"1\",\"119\",\"0.0477776\",\"-2.0041899107427836\",\"n\"\n\"19\",\"0\",\"113\",\"0.0626833\",\"1.8819296530525789\",\"a\"\n\"34\",\"1\",\"97\",\"0.05169\",\"-1.9688466748543196\",\"a\"\n\"71\",\"0\",\"40\",\"0.7961975\",\"-0.2641566410222367\",\"a\"\n\"62\",\"0\",\"79\",\"0.0680527\",\"-1.8458946020700597\",\"a\"\n\"16\",\"1\",\"107\",\"0\",\"4.639713849368194\",\"p\"\n\"37\",\"0\",\"89\",\"0.5768863\",\"0.5599533860689607\",\"a\"\n\"58\",\"1\",\"98\",\"0.4981077\",\"-0.6796772283369474\",\"a\"\n\"86\",\"1\",\"7\",\"0.1368472\",\"-1.6810328952966418\",\"a\"\n\"23\",\"1\",\"72\",\"0\",\"-4.807836962330953\",\"n\"\n\"85\",\"0\",\"23\",\"0.0647381\",\"-1.939644842896574\",\"a\"\n\"29\",\"1\",\"65\",\"0.7803667\",\"-0.27816462545128795\",\"a\"\n\"49\",\"0\",\"73\",\"0.0001023\",\"-4.107857878130482\",\"n\"\n\"20\",\"1\",\"144\",\"0\",\"5.253217061314352\",\"p\"\n\"11\",\"1\",\"18\",\"0.0061793\",\"3.1040193569462216\",\"p\"\n\"81\",\"0\",\"15\",\"0.0205029\",\"-2.589130468293594\",\"n\"\n\"13\",\"1\",\"37\",\"0.0091662\",\"2.745763970817959\",\"p\"\n\"55\",\"1\",\"124\",\"0\",\"-4.127593377381934\",\"n\"\n\"43\",\"0\",\"63\",\"0.035401\",\"-2.1475904037515336\",\"n\"\n\"35\",\"0\",\"83\",\"0.0003375\",\"-3.7394635368194225\",\"n\"\n\"32\",\"0\",\"67\",\"0.4094865\",\"0.8253290126068602\",\"a\"\n\"67\",\"1\",\"55\",\"0\",\"-4.404684295372502\",\"n\"\n\"22\",\"1\",\"88\",\"0.1271486\",\"-1.5419965213272224\",\"a\"\n\"81\",\"1\",\"21\",\"0.1646098\",\"-1.4374024402178873\",\"a\"\n\"27\",\"0\",\"35\",\"0.0218499\",\"-2.398554722335631\",\"n\"\n\"47\",\"1\",\"99\",\"0\",\"-4.731251829098891\",\"n\"\n\"52\",\"0\",\"57\",\"0.1988335\",\"-1.2986200226539706\",\"a\"\n\"60\",\"1\",\"96\",\"0.0010157\",\"-3.3946479454264873\",\"n\"\n\"48\",\"1\",\"92\",\"0.0008762\",\"-3.4370876087795286\",\"n\"\n\"51\",\"0\",\"87\",\"0\",\"-4.661077166011302\",\"n\"\n\"30\",\"1\",\"85\",\"0.5974937\",\"-0.53344455607459\",\"a\"\n\"83\",\"0\",\"19\",\"0.0446447\",\"-2.1457788047169233\",\"n\"\n\"36\",\"1\",\"100\",\"0.0025139\",\"-3.101010295144159\",\"n\"\n\"57\",\"0\",\"106\",\"0.0109467\",\"-2.5913883798643633\",\"n\"\n\"38\",\"1\",\"101\",\"0.096048\",\"-1.6753890959647328\",\"a\"\n\"69\",\"0\",\"62\",\"0.7727839\",\"0.2865153857797367\",\"a\"\n\"50\",\"0\",\"49\",\"0.0006558\",\"-3.64093832760739\",\"n\"\n\"36\",\"0\",\"94\",\"0.3599277\",\"0.9189635642254149\",\"a\"\n\"68\",\"1\",\"47\",\"0.0002373\",\"-3.9788328948124123\",\"n\"\n\"28\",\"0\",\"43\",\"0.01982\",\"-2.4238092425595226\",\"n\"\n\"17\",\"0\",\"85\",\"0.0125657\",\"2.5468209355925406\",\"p\"\n\"16\",\"0\",\"90\",\"0.0029166\",\"3.0600647370342933\",\"p\"\n\"56\",\"0\",\"79\",\"0.1135904\",\"-1.6016397040542534\",\"a\"\n\"90\",\"0\",\"6\",\"0.3559177\",\"-0.9999999999999999\",\"a\"\n\"18\",\"1\",\"146\",\"0\",\"3.880078571846679\",\"p\"\n\"63\",\"1\",\"58\",\"0.0480107\",\"-2.0188132267581693\",\"n\"\n\"41\",\"0\",\"87\",\"0.4673513\",\"0.7284430080051985\",\"a\"\n\"51\",\"1\",\"125\",\"0\",\"-4.7151113579003\",\"n\"\n\"82\",\"1\",\"34\",\"0.0005562\",\"-3.811663137462193\",\"n\"\n\"24\",\"1\",\"71\",\"0.0275495\",\"-2.251117099673115\",\"n\"\n\"70\",\"1\",\"61\",\"0\",\"-5.373304366118829\",\"n\"\n\"82\",\"0\",\"23\",\"0.0054189\",\"-3.0725105303481928\",\"n\"\n\"84\",\"0\",\"31\",\"0.0006176\",\"-3.8114042051957284\",\"n\"\n\"21\",\"1\",\"80\",\"0\",\"-4.494000431713699\",\"n\"\n\"40\",\"1\",\"97\",\"0.0287475\",\"-2.220837961070849\",\"n\"\n\"66\",\"0\",\"46\",\"0.0032988\",\"-3.095957668340025\",\"n\"\n\"42\",\"0\",\"67\",\"0\",\"-4.211796282429227\",\"n\"\n\"87\",\"1\",\"8\",\"0.5973357\",\"-0.5542183588683113\",\"a\"\n\"44\",\"0\",\"88\",\"0.002372\",\"-3.127357432418749\",\"n\"\n\"60\",\"0\",\"92\",\"0\",\"-4.258888739610543\",\"n\"\n\"30\",\"0\",\"57\",\"0.134039\",\"-1.523189487616873\",\"a\"\n\"55\",\"0\",\"97\",\"0\",\"-5.784851346128433\",\"n\"\n\"41\",\"1\",\"125\",\"0\",\"-1.5361087497978667\",\"n\"\n\"46\",\"0\",\"85\",\"0\",\"-4.332325340125757\",\"n\"\n\"53\",\"1\",\"105\",\"0\",\"-4.527210354661868\",\"n\"\n\"59\",\"0\",\"80\",\"0\",\"-4.809246673642799\",\"n\"\n\"19\",\"1\",\"125\",\"0\",\"1.7623795152739916\",\"p\"\n\"15\",\"1\",\"100\",\"0\",\"4.911359364701503\",\"p\"\n\"20\",\"0\",\"102\",\"0\",\"4.308086346655084\",\"p\"",
      "text/html": [
       "<div class = \"td-resultset-table-div\" style = \"max-height: 100%; overflow-y: auto\">\n",
       "      <table class=\"tdhistory780933\"><style>\n",
       "      table.tdhistory780933 { display: block !important; min-height: 588px !important; overflow: auto !important; height: 588px !important; width: 100% !important; border: 1px solid rgb(207, 207, 207) !important; border-collapse: collapse !important; ; color: var(--jp-ui-font-color1) !important; }\n",
       "      th.tdhistory780933 { border: 1px solid rgb(198,198,198) !important; border-collapse: collapse !important; ; padding: 2px 5px !important; ; font-size: 13px !important; ; text-align: center !important; white-space: normal !important; color: var(--jp-ui-font-color1) !important; }\n",
       "      th.tdhistory780933:last-child { text-align: left !important; }\n",
       "      tbody.tdhistory780933 tr:nth-child(even) { background: rgba(243, 243, 243, 0.75) !important; }\n",
       "      tbody.tdhistory780933 tr:nth-child(odd) { background: var(--jp-ui-inverse-font-color1) !important; }\n",
       "      td.tdhistory780933 { border: 1px solid rgb(207, 207, 207) !important; border-collapse: collapse !important; ; padding: 2px 5px !important; ; font-size: 13px !important; ; text-align: left !important;          white-space: nowrap !important; overflow:hidden !important; text-overflow:ellipsis !important;; }\n",
       "    </style><thead><tr style= \"background: rgba(243, 243, 243, 0.75)\"><th class=\"tdhistory780933\"></th><th class=\"tdhistory780933\">tot_age</th><th class=\"tdhistory780933\">female_ind</th><th class=\"tdhistory780933\">D_F</th><th class=\"tdhistory780933\">TTestPValue</th><th class=\"tdhistory780933\">T</th><th class=\"tdhistory780933\">TTestCallP_0.05</th></tr></thead><tbody class=\"tdhistory780933 resultset-body\"><tr><th class=\"tdhistory780933\" style= \"background: rgba(243, 243, 243, 0.75)\">1</th><td class=\"tdhistory780933\">85</td><td class=\"tdhistory780933\">1</td><td class=\"tdhistory780933\">18</td><td class=\"tdhistory780933\">0.4807706</td><td class=\"tdhistory780933\">-0.715463172636989</td><td class=\"tdhistory780933\">a</td></tr><tr><th class=\"tdhistory780933\" style= \"background: rgba(243, 243, 243, 0.75)\">2</th><td class=\"tdhistory780933\">93</td><td class=\"tdhistory780933\">0</td><td class=\"tdhistory780933\">3</td><td class=\"tdhistory780933\">0</td><td class=\"tdhistory780933\"></td><td class=\"tdhistory780933\"></td></tr><tr><th class=\"tdhistory780933\" style= \"background: rgba(243, 243, 243, 0.75)\">3</th><td class=\"tdhistory780933\">77</td><td class=\"tdhistory780933\">0</td><td class=\"tdhistory780933\">7</td><td class=\"tdhistory780933\">0.2252156</td><td class=\"tdhistory780933\">1.3272042858038389</td><td class=\"tdhistory780933\">a</td></tr><tr><th class=\"tdhistory780933\" style= \"background: rgba(243, 243, 243, 0.75)\">4</th><td class=\"tdhistory780933\">76</td><td class=\"tdhistory780933\">1</td><td class=\"tdhistory780933\">24</td><td class=\"tdhistory780933\">0.7818767</td><td class=\"tdhistory780933\">0.2757542705961492</td><td class=\"tdhistory780933\">a</td></tr><tr><th class=\"tdhistory780933\" style= \"background: rgba(243, 243, 243, 0.75)\">5</th><td class=\"tdhistory780933\">72</td><td class=\"tdhistory780933\">1</td><td class=\"tdhistory780933\">28</td><td class=\"tdhistory780933\">0.2042013</td><td class=\"tdhistory780933\">-1.2957723582343272</td><td class=\"tdhistory780933\">a</td></tr><tr><th class=\"tdhistory780933\" style= \"background: rgba(243, 243, 243, 0.75)\">6</th><td class=\"tdhistory780933\">93</td><td class=\"tdhistory780933\">1</td><td class=\"tdhistory780933\">7</td><td class=\"tdhistory780933\">0.0856193</td><td class=\"tdhistory780933\">2.00449476653439</td><td class=\"tdhistory780933\">a</td></tr><tr><th class=\"tdhistory780933\" style= \"background: rgba(243, 243, 243, 0.75)\">7</th><td class=\"tdhistory780933\">64</td><td class=\"tdhistory780933\">1</td><td class=\"tdhistory780933\">46</td><td class=\"tdhistory780933\">0.0063499</td><td class=\"tdhistory780933\">-2.8563487358795143</td><td class=\"tdhistory780933\">n</td></tr><tr><th class=\"tdhistory780933\" style= \"background: rgba(243, 243, 243, 0.75)\">8</th><td class=\"tdhistory780933\">50</td><td class=\"tdhistory780933\">1</td><td class=\"tdhistory780933\">107</td><td class=\"tdhistory780933\">0.0016447</td><td class=\"tdhistory780933\">-3.2344818472272943</td><td class=\"tdhistory780933\">n</td></tr><tr><th class=\"tdhistory780933\" style= \"background: rgba(243, 243, 243, 0.75)\">9</th><td class=\"tdhistory780933\">47</td><td class=\"tdhistory780933\">0</td><td class=\"tdhistory780933\">54</td><td class=\"tdhistory780933\">0.0053865</td><td class=\"tdhistory780933\">-2.9000459446649285</td><td class=\"tdhistory780933\">n</td></tr><tr><th class=\"tdhistory780933\" style= \"background: rgba(243, 243, 243, 0.75)\">10</th><td class=\"tdhistory780933\">89</td><td class=\"tdhistory780933\">1</td><td class=\"tdhistory780933\">15</td><td class=\"tdhistory780933\">0.0142988</td><td class=\"tdhistory780933\">2.768336037446021</td><td class=\"tdhistory780933\">p</td></tr><tr><th class=\"tdhistory780933\" style= \"background: rgba(243, 243, 243, 0.75)\">11</th><td class=\"tdhistory780933\">72</td><td class=\"tdhistory780933\">0</td><td class=\"tdhistory780933\">20</td><td class=\"tdhistory780933\">0.9921204</td><td class=\"tdhistory780933\">-0.007635559294069887</td><td class=\"tdhistory780933\">a</td></tr><tr><th class=\"tdhistory780933\" style= \"background: rgba(243, 243, 243, 0.75)\">12</th><td class=\"tdhistory780933\">38</td><td class=\"tdhistory780933\">0</td><td class=\"tdhistory780933\">72</td><td class=\"tdhistory780933\">0.449736</td><td class=\"tdhistory780933\">-0.7618334417633449</td><td class=\"tdhistory780933\">a</td></tr><tr><th class=\"tdhistory780933\" style= \"background: rgba(243, 243, 243, 0.75)\">13</th><td class=\"tdhistory780933\">48</td><td class=\"tdhistory780933\">0</td><td class=\"tdhistory780933\">72</td><td class=\"tdhistory780933\">0.0019244</td><td class=\"tdhistory780933\">-3.222939229651588</td><td class=\"tdhistory780933\">n</td></tr><tr><th class=\"tdhistory780933\" style= \"background: rgba(243, 243, 243, 0.75)\">14</th><td class=\"tdhistory780933\">76</td><td class=\"tdhistory780933\">0</td><td class=\"tdhistory780933\">16</td><td class=\"tdhistory780933\">0.2834034</td><td class=\"tdhistory780933\">1.1137590628201983</td><td class=\"tdhistory780933\">a</td></tr><tr><th class=\"tdhistory780933\" style= \"background: rgba(243, 243, 243, 0.75)\">15</th><td class=\"tdhistory780933\">26</td><td class=\"tdhistory780933\">0</td><td class=\"tdhistory780933\">39</td><td class=\"tdhistory780933\">0.002657</td><td class=\"tdhistory780933\">-3.2075616900465023</td><td class=\"tdhistory780933\">n</td></tr><tr><th class=\"tdhistory780933\" style= \"background: rgba(243, 243, 243, 0.75)\">16</th><td class=\"tdhistory780933\">66</td><td class=\"tdhistory780933\">1</td><td class=\"tdhistory780933\">78</td><td class=\"tdhistory780933\">0.0004723</td><td class=\"tdhistory780933\">-3.6466911082426523</td><td class=\"tdhistory780933\">n</td></tr><tr><th class=\"tdhistory780933\" style= \"background: rgba(243, 243, 243, 0.75)\">17</th><td class=\"tdhistory780933\">79</td><td class=\"tdhistory780933\">0</td><td class=\"tdhistory780933\">20</td><td class=\"tdhistory780933\">0.4798555</td><td class=\"tdhistory780933\">-0.721590349507282</td><td class=\"tdhistory780933\">a</td></tr><tr><th class=\"tdhistory780933\" style= \"background: rgba(243, 243, 243, 0.75)\">18</th><td class=\"tdhistory780933\">52</td><td class=\"tdhistory780933\">1</td><td class=\"tdhistory780933\">103</td><td class=\"tdhistory780933\">0.0657389</td><td class=\"tdhistory780933\">-1.858890719883952</td><td class=\"tdhistory780933\">a</td></tr><tr><th class=\"tdhistory780933\" style= \"background: rgba(243, 243, 243, 0.75)\">19</th><td class=\"tdhistory780933\">73</td><td class=\"tdhistory780933\">0</td><td class=\"tdhistory780933\">28</td><td class=\"tdhistory780933\">0.3502408</td><td class=\"tdhistory780933\">0.9479074683140469</td><td class=\"tdhistory780933\">a</td></tr><tr><th class=\"tdhistory780933\" style= \"background: rgba(243, 243, 243, 0.75)\">20</th><td class=\"tdhistory780933\">42</td><td class=\"tdhistory780933\">1</td><td class=\"tdhistory780933\">117</td><td class=\"tdhistory780933\">0.00033</td><td class=\"tdhistory780933\">-3.701124936484421</td><td class=\"tdhistory780933\">n</td></tr><tr><th class=\"tdhistory780933\" style= \"background: rgba(243, 243, 243, 0.75)\">21</th><td class=\"tdhistory780933\">35</td><td class=\"tdhistory780933\">1</td><td class=\"tdhistory780933\">107</td><td class=\"tdhistory780933\">0.9047082</td><td class=\"tdhistory780933\">0.11921172925079081</td><td class=\"tdhistory780933\">a</td></tr><tr><th class=\"tdhistory780933\" style= \"background: rgba(243, 243, 243, 0.75)\">22</th><td class=\"tdhistory780933\">89</td><td class=\"tdhistory780933\">0</td><td class=\"tdhistory780933\">13</td><td class=\"tdhistory780933\">0.1763092</td><td class=\"tdhistory780933\">-1.4332867450865145</td><td class=\"tdhistory780933\">a</td></tr><tr><th class=\"tdhistory780933\" style= \"background: rgba(243, 243, 243, 0.75)\">23</th><td class=\"tdhistory780933\">33</td><td class=\"tdhistory780933\">0</td><td class=\"tdhistory780933\">79</td><td class=\"tdhistory780933\">0.0511857</td><td class=\"tdhistory780933\">-1.9785619285502427</td><td class=\"tdhistory780933\">a</td></tr><tr><th class=\"tdhistory780933\" style= \"background: rgba(243, 243, 243, 0.75)\">24</th><td class=\"tdhistory780933\">88</td><td class=\"tdhistory780933\">0</td><td class=\"tdhistory780933\">16</td><td class=\"tdhistory780933\">0.015772</td><td class=\"tdhistory780933\">-2.704698849315726</td><td class=\"tdhistory780933\">n</td></tr><tr><th class=\"tdhistory780933\" style= \"background: rgba(243, 243, 243, 0.75)\">25</th><td class=\"tdhistory780933\">45</td><td class=\"tdhistory780933\">0</td><td class=\"tdhistory780933\">68</td><td class=\"tdhistory780933\">0.0001292</td><td class=\"tdhistory780933\">-4.059830394523732</td><td class=\"tdhistory780933\">n</td></tr><tr><th class=\"tdhistory780933\" style= \"background: rgba(243, 243, 243, 0.75)\">26</th><td class=\"tdhistory780933\">43</td><td class=\"tdhistory780933\">1</td><td class=\"tdhistory780933\">105</td><td class=\"tdhistory780933\">0.0020615</td><td class=\"tdhistory780933\">-3.1592821796103485</td><td class=\"tdhistory780933\">n</td></tr><tr><th class=\"tdhistory780933\" style= \"background: rgba(243, 243, 243, 0.75)\">27</th><td class=\"tdhistory780933\">14</td><td class=\"tdhistory780933\">1</td><td class=\"tdhistory780933\">51</td><td class=\"tdhistory780933\">0.0005456</td><td class=\"tdhistory780933\">3.6931882629121917</td><td class=\"tdhistory780933\">p</td></tr><tr><th class=\"tdhistory780933\" style= \"background: rgba(243, 243, 243, 0.75)\">28</th><td class=\"tdhistory780933\">90</td><td class=\"tdhistory780933\">1</td><td class=\"tdhistory780933\">9</td><td class=\"tdhistory780933\">0.1555528</td><td class=\"tdhistory780933\">1.5452312612420112</td><td class=\"tdhistory780933\">a</td></tr><tr><th class=\"tdhistory780933\" style= \"background: rgba(243, 243, 243, 0.75)\">29</th><td class=\"tdhistory780933\">61</td><td class=\"tdhistory780933\">0</td><td class=\"tdhistory780933\">54</td><td class=\"tdhistory780933\">0.1420424</td><td class=\"tdhistory780933\">-1.488055266939588</td><td class=\"tdhistory780933\">a</td></tr><tr><th class=\"tdhistory780933\" style= \"background: rgba(243, 243, 243, 0.75)\">30</th><td class=\"tdhistory780933\">23</td><td class=\"tdhistory780933\">0</td><td class=\"tdhistory780933\">69</td><td class=\"tdhistory780933\">0.0116994</td><td class=\"tdhistory780933\">-2.590484787457626</td><td class=\"tdhistory780933\">n</td></tr><tr><th class=\"tdhistory780933\" style= \"background: rgba(243, 243, 243, 0.75)\">31</th><td class=\"tdhistory780933\">44</td><td class=\"tdhistory780933\">1</td><td class=\"tdhistory780933\">90</td><td class=\"tdhistory780933\">0.0003708</td><td class=\"tdhistory780933\">-3.7033331405109133</td><td class=\"tdhistory780933\">n</td></tr><tr><th class=\"tdhistory780933\" style= \"background: rgba(243, 243, 243, 0.75)\">32</th><td class=\"tdhistory780933\">77</td><td class=\"tdhistory780933\">1</td><td class=\"tdhistory780933\">40</td><td class=\"tdhistory780933\">0.0221685</td><td class=\"tdhistory780933\">-2.3842272128649915</td><td class=\"tdhistory780933\">n</td></tr><tr><th class=\"tdhistory780933\" style= \"background: rgba(243, 243, 243, 0.75)\">33</th><td class=\"tdhistory780933\">73</td><td class=\"tdhistory780933\">1</td><td class=\"tdhistory780933\">33</td><td class=\"tdhistory780933\">0.0086889</td><td class=\"tdhistory780933\">-2.7896935842911224</td><td class=\"tdhistory780933\">n</td></tr><tr><th class=\"tdhistory780933\" style= \"background: rgba(243, 243, 243, 0.75)\">34</th><td class=\"tdhistory780933\">80</td><td class=\"tdhistory780933\">0</td><td class=\"tdhistory780933\">21</td><td class=\"tdhistory780933\">0.415875</td><td class=\"tdhistory780933\">0.8330076821034003</td><td class=\"tdhistory780933\">a</td></tr><tr><th class=\"tdhistory780933\" style= \"background: rgba(243, 243, 243, 0.75)\">35</th><td class=\"tdhistory780933\">65</td><td class=\"tdhistory780933\">1</td><td class=\"tdhistory780933\">72</td><td class=\"tdhistory780933\">0.0365898</td><td class=\"tdhistory780933\">-2.13109044369817</td><td class=\"tdhistory780933\">n</td></tr><tr><th class=\"tdhistory780933\" style= \"background: rgba(243, 243, 243, 0.75)\">36</th><td class=\"tdhistory780933\">46</td><td class=\"tdhistory780933\">1</td><td class=\"tdhistory780933\">113</td><td class=\"tdhistory780933\">0.0011735</td><td class=\"tdhistory780933\">-3.3276825944952346</td><td class=\"tdhistory780933\">n</td></tr><tr><th class=\"tdhistory780933\" style= \"background: rgba(243, 243, 243, 0.75)\">37</th><td class=\"tdhistory780933\">10</td><td class=\"tdhistory780933\">1</td><td class=\"tdhistory780933\">5</td><td class=\"tdhistory780933\">0.1100709</td><td class=\"tdhistory780933\">1.9429580983579042</td><td class=\"tdhistory780933\">a</td></tr><tr><th class=\"tdhistory780933\" style= \"background: rgba(243, 243, 243, 0.75)\">38</th><td class=\"tdhistory780933\">33</td><td class=\"tdhistory780933\">1</td><td class=\"tdhistory780933\">93</td><td class=\"tdhistory780933\">0.0402766</td><td class=\"tdhistory780933\">-2.0782630924555523</td><td class=\"tdhistory780933\">n</td></tr><tr><th class=\"tdhistory780933\" style= \"background: rgba(243, 243, 243, 0.75)\">39</th><td class=\"tdhistory780933\">94</td><td class=\"tdhistory780933\">1</td><td class=\"tdhistory780933\">7</td><td class=\"tdhistory780933\">0.1132148</td><td class=\"tdhistory780933\">1.8135209270199906</td><td class=\"tdhistory780933\">a</td></tr><tr><th class=\"tdhistory780933\" style= \"background: rgba(243, 243, 243, 0.75)\">40</th><td class=\"tdhistory780933\">31</td><td class=\"tdhistory780933\">1</td><td class=\"tdhistory780933\">88</td><td class=\"tdhistory780933\">0.6183231</td><td class=\"tdhistory780933\">-0.5021525435049806</td><td class=\"tdhistory780933\">a</td></tr><tr><th class=\"tdhistory780933\" style= \"background: rgba(243, 243, 243, 0.75)\">41</th><td class=\"tdhistory780933\">39</td><td class=\"tdhistory780933\">1</td><td class=\"tdhistory780933\">94</td><td class=\"tdhistory780933\">0.0037795</td><td class=\"tdhistory780933\">-2.9667186633594596</td><td class=\"tdhistory780933\">n</td></tr><tr><th class=\"tdhistory780933\" style= \"background: rgba(243, 243, 243, 0.75)\">42</th><td class=\"tdhistory780933\">45</td><td class=\"tdhistory780933\">1</td><td class=\"tdhistory780933\">104</td><td class=\"tdhistory780933\">0.0438849</td><td class=\"tdhistory780933\">-2.043640866896205</td><td class=\"tdhistory780933\">n</td></tr><tr><th class=\"tdhistory780933\" style= \"background: rgba(243, 243, 243, 0.75)\">43</th><td class=\"tdhistory780933\">49</td><td class=\"tdhistory780933\">1</td><td class=\"tdhistory780933\">95</td><td class=\"tdhistory780933\">0.0001084</td><td class=\"tdhistory780933\">-4.035018616442392</td><td class=\"tdhistory780933\">n</td></tr><tr><th class=\"tdhistory780933\" style= \"background: rgba(243, 243, 243, 0.75)\">44</th><td class=\"tdhistory780933\">91</td><td class=\"tdhistory780933\">0</td><td class=\"tdhistory780933\">4</td><td class=\"tdhistory780933\">0.2206629</td><td class=\"tdhistory780933\">-1.4534208494891652</td><td class=\"tdhistory780933\">a</td></tr><tr><th class=\"tdhistory780933\" style= \"background: rgba(243, 243, 243, 0.75)\">45</th><td class=\"tdhistory780933\">39</td><td class=\"tdhistory780933\">0</td><td class=\"tdhistory780933\">73</td><td class=\"tdhistory780933\">0.0915134</td><td class=\"tdhistory780933\">-1.7050522939133508</td><td class=\"tdhistory780933\">a</td></tr><tr><th class=\"tdhistory780933\" style= \"background: rgba(243, 243, 243, 0.75)\">46</th><td class=\"tdhistory780933\">83</td><td class=\"tdhistory780933\">1</td><td class=\"tdhistory780933\">19</td><td class=\"tdhistory780933\">0.1217113</td><td class=\"tdhistory780933\">-1.6174953200682674</td><td class=\"tdhistory780933\">a</td></tr><tr><th class=\"tdhistory780933\" style= \"background: rgba(243, 243, 243, 0.75)\">47</th><td class=\"tdhistory780933\">27</td><td class=\"tdhistory780933\">1</td><td class=\"tdhistory780933\">69</td><td class=\"tdhistory780933\">0.0431725</td><td class=\"tdhistory780933\">-2.056515593385942</td><td class=\"tdhistory780933\">n</td></tr><tr><th class=\"tdhistory780933\" style= \"background: rgba(243, 243, 243, 0.75)\">48</th><td class=\"tdhistory780933\">31</td><td class=\"tdhistory780933\">0</td><td class=\"tdhistory780933\">71</td><td class=\"tdhistory780933\">0.0107457</td><td class=\"tdhistory780933\">-2.6194798084884576</td><td class=\"tdhistory780933\">n</td></tr><tr><th class=\"tdhistory780933\" style= \"background: rgba(243, 243, 243, 0.75)\">49</th><td class=\"tdhistory780933\">75</td><td class=\"tdhistory780933\">1</td><td class=\"tdhistory780933\">33</td><td class=\"tdhistory780933\">0.1959187</td><td class=\"tdhistory780933\">1.315635133067727</td><td class=\"tdhistory780933\">a</td></tr><tr><th class=\"tdhistory780933\" style= \"background: rgba(243, 243, 243, 0.75)\">50</th><td class=\"tdhistory780933\">9</td><td class=\"tdhistory780933\">0</td><td class=\"tdhistory780933\">6</td><td class=\"tdhistory780933\">0.0663471</td><td class=\"tdhistory780933\">2.240383083370425</td><td class=\"tdhistory780933\">a</td></tr><tr><th class=\"tdhistory780933\" style= \"background: rgba(243, 243, 243, 0.75)\">51</th><td class=\"tdhistory780933\">57</td><td class=\"tdhistory780933\">1</td><td class=\"tdhistory780933\">94</td><td class=\"tdhistory780933\">0.9443424</td><td class=\"tdhistory780933\">0.06664211026909828</td><td class=\"tdhistory780933\">a</td></tr><tr><th class=\"tdhistory780933\" style= \"background: rgba(243, 243, 243, 0.75)\">52</th><td class=\"tdhistory780933\">91</td><td class=\"tdhistory780933\">1</td><td class=\"tdhistory780933\">5</td><td class=\"tdhistory780933\">0.1939037</td><td class=\"tdhistory780933\">1.498396239698223</td><td class=\"tdhistory780933\">a</td></tr><tr><th class=\"tdhistory780933\" style= \"background: rgba(243, 243, 243, 0.75)\">53</th><td class=\"tdhistory780933\">15</td><td class=\"tdhistory780933\">0</td><td class=\"tdhistory780933\">86</td><td class=\"tdhistory780933\">0.0002188</td><td class=\"tdhistory780933\">3.86424958293181</td><td class=\"tdhistory780933\">p</td></tr><tr><th class=\"tdhistory780933\" style= \"background: rgba(243, 243, 243, 0.75)\">54</th><td class=\"tdhistory780933\">75</td><td class=\"tdhistory780933\">0</td><td class=\"tdhistory780933\">27</td><td class=\"tdhistory780933\">0.1025436</td><td class=\"tdhistory780933\">1.6862479715409269</td><td class=\"tdhistory780933\">a</td></tr><tr><th class=\"tdhistory780933\" style= \"background: rgba(243, 243, 243, 0.75)\">55</th><td class=\"tdhistory780933\">74</td><td class=\"tdhistory780933\">1</td><td class=\"tdhistory780933\">39</td><td class=\"tdhistory780933\">0.0004152</td><td class=\"tdhistory780933\">-3.862600306934728</td><td class=\"tdhistory780933\">n</td></tr><tr><th class=\"tdhistory780933\" style= \"background: rgba(243, 243, 243, 0.75)\">56</th><td class=\"tdhistory780933\">78</td><td class=\"tdhistory780933\">0</td><td class=\"tdhistory780933\">22</td><td class=\"tdhistory780933\">0.1696243</td><td class=\"tdhistory780933\">1.4246952271401183</td><td class=\"tdhistory780933\">a</td></tr><tr><th class=\"tdhistory780933\" style= \"background: rgba(243, 243, 243, 0.75)\">57</th><td class=\"tdhistory780933\">53</td><td class=\"tdhistory780933\">0</td><td class=\"tdhistory780933\">79</td><td class=\"tdhistory780933\">0.0045597</td><td class=\"tdhistory780933\">-2.9247071997293714</td><td class=\"tdhistory780933\">n</td></tr><tr><th class=\"tdhistory780933\" style= \"background: rgba(243, 243, 243, 0.75)\">58</th><td class=\"tdhistory780933\">67</td><td class=\"tdhistory780933\">0</td><td class=\"tdhistory780933\">46</td><td class=\"tdhistory780933\">0.0328687</td><td class=\"tdhistory780933\">-2.198412250198925</td><td class=\"tdhistory780933\">n</td></tr><tr><th class=\"tdhistory780933\" style= \"background: rgba(243, 243, 243, 0.75)\">59</th><td class=\"tdhistory780933\">54</td><td class=\"tdhistory780933\">0</td><td class=\"tdhistory780933\">50</td><td class=\"tdhistory780933\">0.008058</td><td class=\"tdhistory780933\">-2.7643781497302564</td><td class=\"tdhistory780933\">n</td></tr><tr><th class=\"tdhistory780933\" style= \"background: rgba(243, 243, 243, 0.75)\">60</th><td class=\"tdhistory780933\">29</td><td class=\"tdhistory780933\">0</td><td class=\"tdhistory780933\">51</td><td class=\"tdhistory780933\">0.462693</td><td class=\"tdhistory780933\">-0.7355089630973273</td><td class=\"tdhistory780933\">a</td></tr><tr><th class=\"tdhistory780933\" style= \"background: rgba(243, 243, 243, 0.75)\">61</th><td class=\"tdhistory780933\">71</td><td class=\"tdhistory780933\">1</td><td class=\"tdhistory780933\">62</td><td class=\"tdhistory780933\">0.0001833</td><td class=\"tdhistory780933\">-3.9795200511271416</td><td class=\"tdhistory780933\">n</td></tr><tr><th class=\"tdhistory780933\" style= \"background: rgba(243, 243, 243, 0.75)\">62</th><td class=\"tdhistory780933\">92</td><td class=\"tdhistory780933\">0</td><td class=\"tdhistory780933\">3</td><td class=\"tdhistory780933\">0.0260825</td><td class=\"tdhistory780933\">-4.1093444064195035</td><td class=\"tdhistory780933\">n</td></tr><tr><th class=\"tdhistory780933\" style= \"background: rgba(243, 243, 243, 0.75)\">63</th><td class=\"tdhistory780933\">56</td><td class=\"tdhistory780933\">1</td><td class=\"tdhistory780933\">100</td><td class=\"tdhistory780933\">0.4732045</td><td class=\"tdhistory780933\">0.7175552279050325</td><td class=\"tdhistory780933\">a</td></tr><tr><th class=\"tdhistory780933\" style= \"background: rgba(243, 243, 243, 0.75)\">64</th><td class=\"tdhistory780933\">87</td><td class=\"tdhistory780933\">0</td><td class=\"tdhistory780933\">21</td><td class=\"tdhistory780933\">0.1384942</td><td class=\"tdhistory780933\">-1.5419105988818673</td><td class=\"tdhistory780933\">a</td></tr><tr><th class=\"tdhistory780933\" style= \"background: rgba(243, 243, 243, 0.75)\">65</th><td class=\"tdhistory780933\">80</td><td class=\"tdhistory780933\">1</td><td class=\"tdhistory780933\">27</td><td class=\"tdhistory780933\">0.0461684</td><td class=\"tdhistory780933\">-2.091977548190066</td><td class=\"tdhistory780933\">n</td></tr><tr><th class=\"tdhistory780933\" style= \"background: rgba(243, 243, 243, 0.75)\">66</th><td class=\"tdhistory780933\">63</td><td class=\"tdhistory780933\">0</td><td class=\"tdhistory780933\">52</td><td class=\"tdhistory780933\">0.0004896</td><td class=\"tdhistory780933\">-3.7172265649750513</td><td class=\"tdhistory780933\">n</td></tr><tr><th class=\"tdhistory780933\" style= \"background: rgba(243, 243, 243, 0.75)\">67</th><td class=\"tdhistory780933\">9</td><td class=\"tdhistory780933\">1</td><td class=\"tdhistory780933\">7</td><td class=\"tdhistory780933\">0.0011862</td><td class=\"tdhistory780933\">5.246179206391678</td><td class=\"tdhistory780933\">p</td></tr><tr><th class=\"tdhistory780933\" style= \"background: rgba(243, 243, 243, 0.75)\">68</th><td class=\"tdhistory780933\">86</td><td class=\"tdhistory780933\">0</td><td class=\"tdhistory780933\">15</td><td class=\"tdhistory780933\">0.0164588</td><td class=\"tdhistory780933\">-2.6984705704142558</td><td class=\"tdhistory780933\">n</td></tr><tr><th class=\"tdhistory780933\" style= \"background: rgba(243, 243, 243, 0.75)\">69</th><td class=\"tdhistory780933\">37</td><td class=\"tdhistory780933\">1</td><td class=\"tdhistory780933\">91</td><td class=\"tdhistory780933\">0.0134787</td><td class=\"tdhistory780933\">-2.515855840770415</td><td class=\"tdhistory780933\">n</td></tr><tr><th class=\"tdhistory780933\" style= \"background: rgba(243, 243, 243, 0.75)\">70</th><td class=\"tdhistory780933\">62</td><td class=\"tdhistory780933\">1</td><td class=\"tdhistory780933\">70</td><td class=\"tdhistory780933\">0.0745882</td><td class=\"tdhistory780933\">-1.813453870336688</td><td class=\"tdhistory780933\">a</td></tr><tr><th class=\"tdhistory780933\" style= \"background: rgba(243, 243, 243, 0.75)\">71</th><td class=\"tdhistory780933\">40</td><td class=\"tdhistory780933\">0</td><td class=\"tdhistory780933\">93</td><td class=\"tdhistory780933\">0.0102693</td><td class=\"tdhistory780933\">-2.6213267496702675</td><td class=\"tdhistory780933\">n</td></tr><tr><th class=\"tdhistory780933\" style= \"background: rgba(243, 243, 243, 0.75)\">72</th><td class=\"tdhistory780933\">10</td><td class=\"tdhistory780933\">0</td><td class=\"tdhistory780933\">8</td><td class=\"tdhistory780933\">0.0363709</td><td class=\"tdhistory780933\">2.511782405006141</td><td class=\"tdhistory780933\">p</td></tr><tr><th class=\"tdhistory780933\" style= \"background: rgba(243, 243, 243, 0.75)\">73</th><td class=\"tdhistory780933\">59</td><td class=\"tdhistory780933\">1</td><td class=\"tdhistory780933\">81</td><td class=\"tdhistory780933\">0.6325211</td><td class=\"tdhistory780933\">-0.4799533198668136</td><td class=\"tdhistory780933\">a</td></tr><tr><th class=\"tdhistory780933\" style= \"background: rgba(243, 243, 243, 0.75)\">74</th><td class=\"tdhistory780933\">64</td><td class=\"tdhistory780933\">0</td><td class=\"tdhistory780933\">58</td><td class=\"tdhistory780933\">0.0182145</td><td class=\"tdhistory780933\">-2.426959140037223</td><td class=\"tdhistory780933\">n</td></tr><tr><th class=\"tdhistory780933\" style= \"background: rgba(243, 243, 243, 0.75)\">75</th><td class=\"tdhistory780933\">18</td><td class=\"tdhistory780933\">0</td><td class=\"tdhistory780933\">113</td><td class=\"tdhistory780933\">0.1101879</td><td class=\"tdhistory780933\">1.6087900992398698</td><td class=\"tdhistory780933\">a</td></tr><tr><th class=\"tdhistory780933\" style= \"background: rgba(243, 243, 243, 0.75)\">76</th><td class=\"tdhistory780933\">14</td><td class=\"tdhistory780933\">0</td><td class=\"tdhistory780933\">57</td><td class=\"tdhistory780933\">0.0112496</td><td class=\"tdhistory780933\">2.6246422071530566</td><td class=\"tdhistory780933\">p</td></tr><tr><th class=\"tdhistory780933\" style= \"background: rgba(243, 243, 243, 0.75)\">77</th><td class=\"tdhistory780933\">74</td><td class=\"tdhistory780933\">0</td><td class=\"tdhistory780933\">42</td><td class=\"tdhistory780933\">0.0728423</td><td class=\"tdhistory780933\">1.8431313461350431</td><td class=\"tdhistory780933\">a</td></tr><tr><th class=\"tdhistory780933\" style= \"background: rgba(243, 243, 243, 0.75)\">78</th><td class=\"tdhistory780933\">28</td><td class=\"tdhistory780933\">1</td><td class=\"tdhistory780933\">71</td><td class=\"tdhistory780933\">0.0366385</td><td class=\"tdhistory780933\">-2.129852920428456</td><td class=\"tdhistory780933\">n</td></tr><tr><th class=\"tdhistory780933\" style= \"background: rgba(243, 243, 243, 0.75)\">79</th><td class=\"tdhistory780933\">68</td><td class=\"tdhistory780933\">0</td><td class=\"tdhistory780933\">41</td><td class=\"tdhistory780933\">0.0075597</td><td class=\"tdhistory780933\">-2.813233355868117</td><td class=\"tdhistory780933\">n</td></tr><tr><th class=\"tdhistory780933\" style= \"background: rgba(243, 243, 243, 0.75)\">80</th><td class=\"tdhistory780933\">32</td><td class=\"tdhistory780933\">1</td><td class=\"tdhistory780933\">90</td><td class=\"tdhistory780933\">0.24509</td><td class=\"tdhistory780933\">-1.1709752915228595</td><td class=\"tdhistory780933\">a</td></tr><tr><th class=\"tdhistory780933\" style= \"background: rgba(243, 243, 243, 0.75)\">81</th><td class=\"tdhistory780933\">58</td><td class=\"tdhistory780933\">0</td><td class=\"tdhistory780933\">93</td><td class=\"tdhistory780933\">0.0541878</td><td class=\"tdhistory780933\">-1.9456766189714712</td><td class=\"tdhistory780933\">a</td></tr><tr><th class=\"tdhistory780933\" style= \"background: rgba(243, 243, 243, 0.75)\">82</th><td class=\"tdhistory780933\">65</td><td class=\"tdhistory780933\">0</td><td class=\"tdhistory780933\">56</td><td class=\"tdhistory780933\">0.0667144</td><td class=\"tdhistory780933\">-1.870800636670386</td><td class=\"tdhistory780933\">a</td></tr><tr><th class=\"tdhistory780933\" style= \"background: rgba(243, 243, 243, 0.75)\">83</th><td class=\"tdhistory780933\">26</td><td class=\"tdhistory780933\">1</td><td class=\"tdhistory780933\">53</td><td class=\"tdhistory780933\">0.3170842</td><td class=\"tdhistory780933\">-1.0140118328532206</td><td class=\"tdhistory780933\">a</td></tr><tr><th class=\"tdhistory780933\" style= \"background: rgba(243, 243, 243, 0.75)\">84</th><td class=\"tdhistory780933\">25</td><td class=\"tdhistory780933\">1</td><td class=\"tdhistory780933\">41</td><td class=\"tdhistory780933\">0.0948247</td><td class=\"tdhistory780933\">-1.71158062097157</td><td class=\"tdhistory780933\">a</td></tr><tr><th class=\"tdhistory780933\" style= \"background: rgba(243, 243, 243, 0.75)\">85</th><td class=\"tdhistory780933\">84</td><td class=\"tdhistory780933\">1</td><td class=\"tdhistory780933\">23</td><td class=\"tdhistory780933\">0.0116674</td><td class=\"tdhistory780933\">-2.7412402361481214</td><td class=\"tdhistory780933\">n</td></tr><tr><th class=\"tdhistory780933\" style= \"background: rgba(243, 243, 243, 0.75)\">86</th><td class=\"tdhistory780933\">79</td><td class=\"tdhistory780933\">1</td><td class=\"tdhistory780933\">34</td><td class=\"tdhistory780933\">0.1144719</td><td class=\"tdhistory780933\">-1.62378124809626</td><td class=\"tdhistory780933\">a</td></tr><tr><th class=\"tdhistory780933\" style= \"background: rgba(243, 243, 243, 0.75)\">87</th><td class=\"tdhistory780933\">24</td><td class=\"tdhistory780933\">0</td><td class=\"tdhistory780933\">64</td><td class=\"tdhistory780933\">0.654231</td><td class=\"tdhistory780933\">0.4494421380277679</td><td class=\"tdhistory780933\">a</td></tr><tr><th class=\"tdhistory780933\" style= \"background: rgba(243, 243, 243, 0.75)\">88</th><td class=\"tdhistory780933\">12</td><td class=\"tdhistory780933\">1</td><td class=\"tdhistory780933\">9</td><td class=\"tdhistory780933\">0.0600366</td><td class=\"tdhistory780933\">-2.1451698881663877</td><td class=\"tdhistory780933\">a</td></tr><tr><th class=\"tdhistory780933\" style= \"background: rgba(243, 243, 243, 0.75)\">89</th><td class=\"tdhistory780933\">17</td><td class=\"tdhistory780933\">1</td><td class=\"tdhistory780933\">116</td><td class=\"tdhistory780933\">0.0117522</td><td class=\"tdhistory780933\">2.564886589417917</td><td class=\"tdhistory780933\">p</td></tr><tr><th class=\"tdhistory780933\" style= \"background: rgba(243, 243, 243, 0.75)\">90</th><td class=\"tdhistory780933\">69</td><td class=\"tdhistory780933\">1</td><td class=\"tdhistory780933\">47</td><td class=\"tdhistory780933\">0.0009419</td><td class=\"tdhistory780933\">-3.5274152408618322</td><td class=\"tdhistory780933\">n</td></tr><tr><th class=\"tdhistory780933\" style= \"background: rgba(243, 243, 243, 0.75)\">91</th><td class=\"tdhistory780933\">13</td><td class=\"tdhistory780933\">0</td><td class=\"tdhistory780933\">27</td><td class=\"tdhistory780933\">0.0156412</td><td class=\"tdhistory780933\">2.5810498299970592</td><td class=\"tdhistory780933\">p</td></tr><tr><th class=\"tdhistory780933\" style= \"background: rgba(243, 243, 243, 0.75)\">92</th><td class=\"tdhistory780933\">21</td><td class=\"tdhistory780933\">0</td><td class=\"tdhistory780933\">70</td><td class=\"tdhistory780933\">0.2265592</td><td class=\"tdhistory780933\">-1.2185733241114736</td><td class=\"tdhistory780933\">a</td></tr><tr><th class=\"tdhistory780933\" style= \"background: rgba(243, 243, 243, 0.75)\">93</th><td class=\"tdhistory780933\">25</td><td class=\"tdhistory780933\">0</td><td class=\"tdhistory780933\">32</td><td class=\"tdhistory780933\">0.3854205</td><td class=\"tdhistory780933\">-0.8799985807528692</td><td class=\"tdhistory780933\">a</td></tr><tr><th class=\"tdhistory780933\" style= \"background: rgba(243, 243, 243, 0.75)\">94</th><td class=\"tdhistory780933\">22</td><td class=\"tdhistory780933\">0</td><td class=\"tdhistory780933\">57</td><td class=\"tdhistory780933\">0.7127537</td><td class=\"tdhistory780933\">-0.37155226198840857</td><td class=\"tdhistory780933\">a</td></tr><tr><th class=\"tdhistory780933\" style= \"background: rgba(243, 243, 243, 0.75)\">95</th><td class=\"tdhistory780933\">12</td><td class=\"tdhistory780933\">0</td><td class=\"tdhistory780933\">8</td><td class=\"tdhistory780933\">0.2833584</td><td class=\"tdhistory780933\">-1.1492921641212328</td><td class=\"tdhistory780933\">a</td></tr><tr><th class=\"tdhistory780933\" style= \"background: rgba(243, 243, 243, 0.75)\">96</th><td class=\"tdhistory780933\">88</td><td class=\"tdhistory780933\">1</td><td class=\"tdhistory780933\">13</td><td class=\"tdhistory780933\">0.2368918</td><td class=\"tdhistory780933\">-1.241193674877168</td><td class=\"tdhistory780933\">a</td></tr><tr><th class=\"tdhistory780933\" style= \"background: rgba(243, 243, 243, 0.75)\">97</th><td class=\"tdhistory780933\">70</td><td class=\"tdhistory780933\">0</td><td class=\"tdhistory780933\">45</td><td class=\"tdhistory780933\">0.5189969</td><td class=\"tdhistory780933\">-0.6513020306745494</td><td class=\"tdhistory780933\">a</td></tr><tr><th class=\"tdhistory780933\" style= \"background: rgba(243, 243, 243, 0.75)\">98</th><td class=\"tdhistory780933\">78</td><td class=\"tdhistory780933\">1</td><td class=\"tdhistory780933\">29</td><td class=\"tdhistory780933\">0.0049756</td><td class=\"tdhistory780933\">-3.042291228131736</td><td class=\"tdhistory780933\">n</td></tr><tr><th class=\"tdhistory780933\" style= \"background: rgba(243, 243, 243, 0.75)\">99</th><td class=\"tdhistory780933\">34</td><td class=\"tdhistory780933\">0</td><td class=\"tdhistory780933\">76</td><td class=\"tdhistory780933\">0.4204692</td><td class=\"tdhistory780933\">0.811250825489578</td><td class=\"tdhistory780933\">a</td></tr><tr><th class=\"tdhistory780933\" style= \"background: rgba(243, 243, 243, 0.75)\">100</th><td class=\"tdhistory780933\">11</td><td class=\"tdhistory780933\">0</td><td class=\"tdhistory780933\">12</td><td class=\"tdhistory780933\">0.0335186</td><td class=\"tdhistory780933\">2.3986400290671694</td><td class=\"tdhistory780933\">p</td></tr><tr><th class=\"tdhistory780933\" style= \"background: rgba(243, 243, 243, 0.75)\">101</th><td class=\"tdhistory780933\">61</td><td class=\"tdhistory780933\">1</td><td class=\"tdhistory780933\">86</td><td class=\"tdhistory780933\">0.0250818</td><td class=\"tdhistory780933\">2.2760531913263917</td><td class=\"tdhistory780933\">p</td></tr><tr><th class=\"tdhistory780933\" style= \"background: rgba(243, 243, 243, 0.75)\">102</th><td class=\"tdhistory780933\">54</td><td class=\"tdhistory780933\">1</td><td class=\"tdhistory780933\">119</td><td class=\"tdhistory780933\">0.0477776</td><td class=\"tdhistory780933\">-2.0041899107427836</td><td class=\"tdhistory780933\">n</td></tr><tr><th class=\"tdhistory780933\" style= \"background: rgba(243, 243, 243, 0.75)\">103</th><td class=\"tdhistory780933\">19</td><td class=\"tdhistory780933\">0</td><td class=\"tdhistory780933\">113</td><td class=\"tdhistory780933\">0.0626833</td><td class=\"tdhistory780933\">1.8819296530525789</td><td class=\"tdhistory780933\">a</td></tr><tr><th class=\"tdhistory780933\" style= \"background: rgba(243, 243, 243, 0.75)\">104</th><td class=\"tdhistory780933\">34</td><td class=\"tdhistory780933\">1</td><td class=\"tdhistory780933\">97</td><td class=\"tdhistory780933\">0.05169</td><td class=\"tdhistory780933\">-1.9688466748543196</td><td class=\"tdhistory780933\">a</td></tr><tr><th class=\"tdhistory780933\" style= \"background: rgba(243, 243, 243, 0.75)\">105</th><td class=\"tdhistory780933\">71</td><td class=\"tdhistory780933\">0</td><td class=\"tdhistory780933\">40</td><td class=\"tdhistory780933\">0.7961975</td><td class=\"tdhistory780933\">-0.2641566410222367</td><td class=\"tdhistory780933\">a</td></tr><tr><th class=\"tdhistory780933\" style= \"background: rgba(243, 243, 243, 0.75)\">106</th><td class=\"tdhistory780933\">62</td><td class=\"tdhistory780933\">0</td><td class=\"tdhistory780933\">79</td><td class=\"tdhistory780933\">0.0680527</td><td class=\"tdhistory780933\">-1.8458946020700597</td><td class=\"tdhistory780933\">a</td></tr><tr><th class=\"tdhistory780933\" style= \"background: rgba(243, 243, 243, 0.75)\">107</th><td class=\"tdhistory780933\">16</td><td class=\"tdhistory780933\">1</td><td class=\"tdhistory780933\">107</td><td class=\"tdhistory780933\">0</td><td class=\"tdhistory780933\">4.639713849368194</td><td class=\"tdhistory780933\">p</td></tr><tr><th class=\"tdhistory780933\" style= \"background: rgba(243, 243, 243, 0.75)\">108</th><td class=\"tdhistory780933\">37</td><td class=\"tdhistory780933\">0</td><td class=\"tdhistory780933\">89</td><td class=\"tdhistory780933\">0.5768863</td><td class=\"tdhistory780933\">0.5599533860689607</td><td class=\"tdhistory780933\">a</td></tr><tr><th class=\"tdhistory780933\" style= \"background: rgba(243, 243, 243, 0.75)\">109</th><td class=\"tdhistory780933\">58</td><td class=\"tdhistory780933\">1</td><td class=\"tdhistory780933\">98</td><td class=\"tdhistory780933\">0.4981077</td><td class=\"tdhistory780933\">-0.6796772283369474</td><td class=\"tdhistory780933\">a</td></tr><tr><th class=\"tdhistory780933\" style= \"background: rgba(243, 243, 243, 0.75)\">110</th><td class=\"tdhistory780933\">86</td><td class=\"tdhistory780933\">1</td><td class=\"tdhistory780933\">7</td><td class=\"tdhistory780933\">0.1368472</td><td class=\"tdhistory780933\">-1.6810328952966418</td><td class=\"tdhistory780933\">a</td></tr><tr><th class=\"tdhistory780933\" style= \"background: rgba(243, 243, 243, 0.75)\">111</th><td class=\"tdhistory780933\">23</td><td class=\"tdhistory780933\">1</td><td class=\"tdhistory780933\">72</td><td class=\"tdhistory780933\">0</td><td class=\"tdhistory780933\">-4.807836962330953</td><td class=\"tdhistory780933\">n</td></tr><tr><th class=\"tdhistory780933\" style= \"background: rgba(243, 243, 243, 0.75)\">112</th><td class=\"tdhistory780933\">85</td><td class=\"tdhistory780933\">0</td><td class=\"tdhistory780933\">23</td><td class=\"tdhistory780933\">0.0647381</td><td class=\"tdhistory780933\">-1.939644842896574</td><td class=\"tdhistory780933\">a</td></tr><tr><th class=\"tdhistory780933\" style= \"background: rgba(243, 243, 243, 0.75)\">113</th><td class=\"tdhistory780933\">29</td><td class=\"tdhistory780933\">1</td><td class=\"tdhistory780933\">65</td><td class=\"tdhistory780933\">0.7803667</td><td class=\"tdhistory780933\">-0.27816462545128795</td><td class=\"tdhistory780933\">a</td></tr><tr><th class=\"tdhistory780933\" style= \"background: rgba(243, 243, 243, 0.75)\">114</th><td class=\"tdhistory780933\">49</td><td class=\"tdhistory780933\">0</td><td class=\"tdhistory780933\">73</td><td class=\"tdhistory780933\">0.0001023</td><td class=\"tdhistory780933\">-4.107857878130482</td><td class=\"tdhistory780933\">n</td></tr><tr><th class=\"tdhistory780933\" style= \"background: rgba(243, 243, 243, 0.75)\">115</th><td class=\"tdhistory780933\">20</td><td class=\"tdhistory780933\">1</td><td class=\"tdhistory780933\">144</td><td class=\"tdhistory780933\">0</td><td class=\"tdhistory780933\">5.253217061314352</td><td class=\"tdhistory780933\">p</td></tr><tr><th class=\"tdhistory780933\" style= \"background: rgba(243, 243, 243, 0.75)\">116</th><td class=\"tdhistory780933\">11</td><td class=\"tdhistory780933\">1</td><td class=\"tdhistory780933\">18</td><td class=\"tdhistory780933\">0.0061793</td><td class=\"tdhistory780933\">3.1040193569462216</td><td class=\"tdhistory780933\">p</td></tr><tr><th class=\"tdhistory780933\" style= \"background: rgba(243, 243, 243, 0.75)\">117</th><td class=\"tdhistory780933\">81</td><td class=\"tdhistory780933\">0</td><td class=\"tdhistory780933\">15</td><td class=\"tdhistory780933\">0.0205029</td><td class=\"tdhistory780933\">-2.589130468293594</td><td class=\"tdhistory780933\">n</td></tr><tr><th class=\"tdhistory780933\" style= \"background: rgba(243, 243, 243, 0.75)\">118</th><td class=\"tdhistory780933\">13</td><td class=\"tdhistory780933\">1</td><td class=\"tdhistory780933\">37</td><td class=\"tdhistory780933\">0.0091662</td><td class=\"tdhistory780933\">2.745763970817959</td><td class=\"tdhistory780933\">p</td></tr><tr><th class=\"tdhistory780933\" style= \"background: rgba(243, 243, 243, 0.75)\">119</th><td class=\"tdhistory780933\">55</td><td class=\"tdhistory780933\">1</td><td class=\"tdhistory780933\">124</td><td class=\"tdhistory780933\">0</td><td class=\"tdhistory780933\">-4.127593377381934</td><td class=\"tdhistory780933\">n</td></tr><tr><th class=\"tdhistory780933\" style= \"background: rgba(243, 243, 243, 0.75)\">120</th><td class=\"tdhistory780933\">43</td><td class=\"tdhistory780933\">0</td><td class=\"tdhistory780933\">63</td><td class=\"tdhistory780933\">0.035401</td><td class=\"tdhistory780933\">-2.1475904037515336</td><td class=\"tdhistory780933\">n</td></tr><tr><th class=\"tdhistory780933\" style= \"background: rgba(243, 243, 243, 0.75)\">121</th><td class=\"tdhistory780933\">35</td><td class=\"tdhistory780933\">0</td><td class=\"tdhistory780933\">83</td><td class=\"tdhistory780933\">0.0003375</td><td class=\"tdhistory780933\">-3.7394635368194225</td><td class=\"tdhistory780933\">n</td></tr><tr><th class=\"tdhistory780933\" style= \"background: rgba(243, 243, 243, 0.75)\">122</th><td class=\"tdhistory780933\">32</td><td class=\"tdhistory780933\">0</td><td class=\"tdhistory780933\">67</td><td class=\"tdhistory780933\">0.4094865</td><td class=\"tdhistory780933\">0.8253290126068602</td><td class=\"tdhistory780933\">a</td></tr><tr><th class=\"tdhistory780933\" style= \"background: rgba(243, 243, 243, 0.75)\">123</th><td class=\"tdhistory780933\">67</td><td class=\"tdhistory780933\">1</td><td class=\"tdhistory780933\">55</td><td class=\"tdhistory780933\">0</td><td class=\"tdhistory780933\">-4.404684295372502</td><td class=\"tdhistory780933\">n</td></tr><tr><th class=\"tdhistory780933\" style= \"background: rgba(243, 243, 243, 0.75)\">124</th><td class=\"tdhistory780933\">22</td><td class=\"tdhistory780933\">1</td><td class=\"tdhistory780933\">88</td><td class=\"tdhistory780933\">0.1271486</td><td class=\"tdhistory780933\">-1.5419965213272224</td><td class=\"tdhistory780933\">a</td></tr><tr><th class=\"tdhistory780933\" style= \"background: rgba(243, 243, 243, 0.75)\">125</th><td class=\"tdhistory780933\">81</td><td class=\"tdhistory780933\">1</td><td class=\"tdhistory780933\">21</td><td class=\"tdhistory780933\">0.1646098</td><td class=\"tdhistory780933\">-1.4374024402178873</td><td class=\"tdhistory780933\">a</td></tr><tr><th class=\"tdhistory780933\" style= \"background: rgba(243, 243, 243, 0.75)\">126</th><td class=\"tdhistory780933\">27</td><td class=\"tdhistory780933\">0</td><td class=\"tdhistory780933\">35</td><td class=\"tdhistory780933\">0.0218499</td><td class=\"tdhistory780933\">-2.398554722335631</td><td class=\"tdhistory780933\">n</td></tr><tr><th class=\"tdhistory780933\" style= \"background: rgba(243, 243, 243, 0.75)\">127</th><td class=\"tdhistory780933\">47</td><td class=\"tdhistory780933\">1</td><td class=\"tdhistory780933\">99</td><td class=\"tdhistory780933\">0</td><td class=\"tdhistory780933\">-4.731251829098891</td><td class=\"tdhistory780933\">n</td></tr><tr><th class=\"tdhistory780933\" style= \"background: rgba(243, 243, 243, 0.75)\">128</th><td class=\"tdhistory780933\">52</td><td class=\"tdhistory780933\">0</td><td class=\"tdhistory780933\">57</td><td class=\"tdhistory780933\">0.1988335</td><td class=\"tdhistory780933\">-1.2986200226539706</td><td class=\"tdhistory780933\">a</td></tr><tr><th class=\"tdhistory780933\" style= \"background: rgba(243, 243, 243, 0.75)\">129</th><td class=\"tdhistory780933\">60</td><td class=\"tdhistory780933\">1</td><td class=\"tdhistory780933\">96</td><td class=\"tdhistory780933\">0.0010157</td><td class=\"tdhistory780933\">-3.3946479454264873</td><td class=\"tdhistory780933\">n</td></tr><tr><th class=\"tdhistory780933\" style= \"background: rgba(243, 243, 243, 0.75)\">130</th><td class=\"tdhistory780933\">48</td><td class=\"tdhistory780933\">1</td><td class=\"tdhistory780933\">92</td><td class=\"tdhistory780933\">0.0008762</td><td class=\"tdhistory780933\">-3.4370876087795286</td><td class=\"tdhistory780933\">n</td></tr><tr><th class=\"tdhistory780933\" style= \"background: rgba(243, 243, 243, 0.75)\">131</th><td class=\"tdhistory780933\">51</td><td class=\"tdhistory780933\">0</td><td class=\"tdhistory780933\">87</td><td class=\"tdhistory780933\">0</td><td class=\"tdhistory780933\">-4.661077166011302</td><td class=\"tdhistory780933\">n</td></tr><tr><th class=\"tdhistory780933\" style= \"background: rgba(243, 243, 243, 0.75)\">132</th><td class=\"tdhistory780933\">30</td><td class=\"tdhistory780933\">1</td><td class=\"tdhistory780933\">85</td><td class=\"tdhistory780933\">0.5974937</td><td class=\"tdhistory780933\">-0.53344455607459</td><td class=\"tdhistory780933\">a</td></tr><tr><th class=\"tdhistory780933\" style= \"background: rgba(243, 243, 243, 0.75)\">133</th><td class=\"tdhistory780933\">83</td><td class=\"tdhistory780933\">0</td><td class=\"tdhistory780933\">19</td><td class=\"tdhistory780933\">0.0446447</td><td class=\"tdhistory780933\">-2.1457788047169233</td><td class=\"tdhistory780933\">n</td></tr><tr><th class=\"tdhistory780933\" style= \"background: rgba(243, 243, 243, 0.75)\">134</th><td class=\"tdhistory780933\">36</td><td class=\"tdhistory780933\">1</td><td class=\"tdhistory780933\">100</td><td class=\"tdhistory780933\">0.0025139</td><td class=\"tdhistory780933\">-3.101010295144159</td><td class=\"tdhistory780933\">n</td></tr><tr><th class=\"tdhistory780933\" style= \"background: rgba(243, 243, 243, 0.75)\">135</th><td class=\"tdhistory780933\">57</td><td class=\"tdhistory780933\">0</td><td class=\"tdhistory780933\">106</td><td class=\"tdhistory780933\">0.0109467</td><td class=\"tdhistory780933\">-2.5913883798643633</td><td class=\"tdhistory780933\">n</td></tr><tr><th class=\"tdhistory780933\" style= \"background: rgba(243, 243, 243, 0.75)\">136</th><td class=\"tdhistory780933\">38</td><td class=\"tdhistory780933\">1</td><td class=\"tdhistory780933\">101</td><td class=\"tdhistory780933\">0.096048</td><td class=\"tdhistory780933\">-1.6753890959647328</td><td class=\"tdhistory780933\">a</td></tr><tr><th class=\"tdhistory780933\" style= \"background: rgba(243, 243, 243, 0.75)\">137</th><td class=\"tdhistory780933\">69</td><td class=\"tdhistory780933\">0</td><td class=\"tdhistory780933\">62</td><td class=\"tdhistory780933\">0.7727839</td><td class=\"tdhistory780933\">0.2865153857797367</td><td class=\"tdhistory780933\">a</td></tr><tr><th class=\"tdhistory780933\" style= \"background: rgba(243, 243, 243, 0.75)\">138</th><td class=\"tdhistory780933\">50</td><td class=\"tdhistory780933\">0</td><td class=\"tdhistory780933\">49</td><td class=\"tdhistory780933\">0.0006558</td><td class=\"tdhistory780933\">-3.64093832760739</td><td class=\"tdhistory780933\">n</td></tr><tr><th class=\"tdhistory780933\" style= \"background: rgba(243, 243, 243, 0.75)\">139</th><td class=\"tdhistory780933\">36</td><td class=\"tdhistory780933\">0</td><td class=\"tdhistory780933\">94</td><td class=\"tdhistory780933\">0.3599277</td><td class=\"tdhistory780933\">0.9189635642254149</td><td class=\"tdhistory780933\">a</td></tr><tr><th class=\"tdhistory780933\" style= \"background: rgba(243, 243, 243, 0.75)\">140</th><td class=\"tdhistory780933\">68</td><td class=\"tdhistory780933\">1</td><td class=\"tdhistory780933\">47</td><td class=\"tdhistory780933\">0.0002373</td><td class=\"tdhistory780933\">-3.9788328948124123</td><td class=\"tdhistory780933\">n</td></tr><tr><th class=\"tdhistory780933\" style= \"background: rgba(243, 243, 243, 0.75)\">141</th><td class=\"tdhistory780933\">28</td><td class=\"tdhistory780933\">0</td><td class=\"tdhistory780933\">43</td><td class=\"tdhistory780933\">0.01982</td><td class=\"tdhistory780933\">-2.4238092425595226</td><td class=\"tdhistory780933\">n</td></tr><tr><th class=\"tdhistory780933\" style= \"background: rgba(243, 243, 243, 0.75)\">142</th><td class=\"tdhistory780933\">17</td><td class=\"tdhistory780933\">0</td><td class=\"tdhistory780933\">85</td><td class=\"tdhistory780933\">0.0125657</td><td class=\"tdhistory780933\">2.5468209355925406</td><td class=\"tdhistory780933\">p</td></tr><tr><th class=\"tdhistory780933\" style= \"background: rgba(243, 243, 243, 0.75)\">143</th><td class=\"tdhistory780933\">16</td><td class=\"tdhistory780933\">0</td><td class=\"tdhistory780933\">90</td><td class=\"tdhistory780933\">0.0029166</td><td class=\"tdhistory780933\">3.0600647370342933</td><td class=\"tdhistory780933\">p</td></tr><tr><th class=\"tdhistory780933\" style= \"background: rgba(243, 243, 243, 0.75)\">144</th><td class=\"tdhistory780933\">56</td><td class=\"tdhistory780933\">0</td><td class=\"tdhistory780933\">79</td><td class=\"tdhistory780933\">0.1135904</td><td class=\"tdhistory780933\">-1.6016397040542534</td><td class=\"tdhistory780933\">a</td></tr><tr><th class=\"tdhistory780933\" style= \"background: rgba(243, 243, 243, 0.75)\">145</th><td class=\"tdhistory780933\">90</td><td class=\"tdhistory780933\">0</td><td class=\"tdhistory780933\">6</td><td class=\"tdhistory780933\">0.3559177</td><td class=\"tdhistory780933\">-0.9999999999999999</td><td class=\"tdhistory780933\">a</td></tr><tr><th class=\"tdhistory780933\" style= \"background: rgba(243, 243, 243, 0.75)\">146</th><td class=\"tdhistory780933\">18</td><td class=\"tdhistory780933\">1</td><td class=\"tdhistory780933\">146</td><td class=\"tdhistory780933\">0</td><td class=\"tdhistory780933\">3.880078571846679</td><td class=\"tdhistory780933\">p</td></tr><tr><th class=\"tdhistory780933\" style= \"background: rgba(243, 243, 243, 0.75)\">147</th><td class=\"tdhistory780933\">63</td><td class=\"tdhistory780933\">1</td><td class=\"tdhistory780933\">58</td><td class=\"tdhistory780933\">0.0480107</td><td class=\"tdhistory780933\">-2.0188132267581693</td><td class=\"tdhistory780933\">n</td></tr><tr><th class=\"tdhistory780933\" style= \"background: rgba(243, 243, 243, 0.75)\">148</th><td class=\"tdhistory780933\">41</td><td class=\"tdhistory780933\">0</td><td class=\"tdhistory780933\">87</td><td class=\"tdhistory780933\">0.4673513</td><td class=\"tdhistory780933\">0.7284430080051985</td><td class=\"tdhistory780933\">a</td></tr><tr><th class=\"tdhistory780933\" style= \"background: rgba(243, 243, 243, 0.75)\">149</th><td class=\"tdhistory780933\">51</td><td class=\"tdhistory780933\">1</td><td class=\"tdhistory780933\">125</td><td class=\"tdhistory780933\">0</td><td class=\"tdhistory780933\">-4.7151113579003</td><td class=\"tdhistory780933\">n</td></tr><tr><th class=\"tdhistory780933\" style= \"background: rgba(243, 243, 243, 0.75)\">150</th><td class=\"tdhistory780933\">82</td><td class=\"tdhistory780933\">1</td><td class=\"tdhistory780933\">34</td><td class=\"tdhistory780933\">0.0005562</td><td class=\"tdhistory780933\">-3.811663137462193</td><td class=\"tdhistory780933\">n</td></tr><tr><th class=\"tdhistory780933\" style= \"background: rgba(243, 243, 243, 0.75)\">151</th><td class=\"tdhistory780933\">24</td><td class=\"tdhistory780933\">1</td><td class=\"tdhistory780933\">71</td><td class=\"tdhistory780933\">0.0275495</td><td class=\"tdhistory780933\">-2.251117099673115</td><td class=\"tdhistory780933\">n</td></tr><tr><th class=\"tdhistory780933\" style= \"background: rgba(243, 243, 243, 0.75)\">152</th><td class=\"tdhistory780933\">70</td><td class=\"tdhistory780933\">1</td><td class=\"tdhistory780933\">61</td><td class=\"tdhistory780933\">0</td><td class=\"tdhistory780933\">-5.373304366118829</td><td class=\"tdhistory780933\">n</td></tr><tr><th class=\"tdhistory780933\" style= \"background: rgba(243, 243, 243, 0.75)\">153</th><td class=\"tdhistory780933\">82</td><td class=\"tdhistory780933\">0</td><td class=\"tdhistory780933\">23</td><td class=\"tdhistory780933\">0.0054189</td><td class=\"tdhistory780933\">-3.0725105303481928</td><td class=\"tdhistory780933\">n</td></tr><tr><th class=\"tdhistory780933\" style= \"background: rgba(243, 243, 243, 0.75)\">154</th><td class=\"tdhistory780933\">84</td><td class=\"tdhistory780933\">0</td><td class=\"tdhistory780933\">31</td><td class=\"tdhistory780933\">0.0006176</td><td class=\"tdhistory780933\">-3.8114042051957284</td><td class=\"tdhistory780933\">n</td></tr><tr><th class=\"tdhistory780933\" style= \"background: rgba(243, 243, 243, 0.75)\">155</th><td class=\"tdhistory780933\">21</td><td class=\"tdhistory780933\">1</td><td class=\"tdhistory780933\">80</td><td class=\"tdhistory780933\">0</td><td class=\"tdhistory780933\">-4.494000431713699</td><td class=\"tdhistory780933\">n</td></tr><tr><th class=\"tdhistory780933\" style= \"background: rgba(243, 243, 243, 0.75)\">156</th><td class=\"tdhistory780933\">40</td><td class=\"tdhistory780933\">1</td><td class=\"tdhistory780933\">97</td><td class=\"tdhistory780933\">0.0287475</td><td class=\"tdhistory780933\">-2.220837961070849</td><td class=\"tdhistory780933\">n</td></tr><tr><th class=\"tdhistory780933\" style= \"background: rgba(243, 243, 243, 0.75)\">157</th><td class=\"tdhistory780933\">66</td><td class=\"tdhistory780933\">0</td><td class=\"tdhistory780933\">46</td><td class=\"tdhistory780933\">0.0032988</td><td class=\"tdhistory780933\">-3.095957668340025</td><td class=\"tdhistory780933\">n</td></tr><tr><th class=\"tdhistory780933\" style= \"background: rgba(243, 243, 243, 0.75)\">158</th><td class=\"tdhistory780933\">42</td><td class=\"tdhistory780933\">0</td><td class=\"tdhistory780933\">67</td><td class=\"tdhistory780933\">0</td><td class=\"tdhistory780933\">-4.211796282429227</td><td class=\"tdhistory780933\">n</td></tr><tr><th class=\"tdhistory780933\" style= \"background: rgba(243, 243, 243, 0.75)\">159</th><td class=\"tdhistory780933\">87</td><td class=\"tdhistory780933\">1</td><td class=\"tdhistory780933\">8</td><td class=\"tdhistory780933\">0.5973357</td><td class=\"tdhistory780933\">-0.5542183588683113</td><td class=\"tdhistory780933\">a</td></tr><tr><th class=\"tdhistory780933\" style= \"background: rgba(243, 243, 243, 0.75)\">160</th><td class=\"tdhistory780933\">44</td><td class=\"tdhistory780933\">0</td><td class=\"tdhistory780933\">88</td><td class=\"tdhistory780933\">0.002372</td><td class=\"tdhistory780933\">-3.127357432418749</td><td class=\"tdhistory780933\">n</td></tr><tr><th class=\"tdhistory780933\" style= \"background: rgba(243, 243, 243, 0.75)\">161</th><td class=\"tdhistory780933\">60</td><td class=\"tdhistory780933\">0</td><td class=\"tdhistory780933\">92</td><td class=\"tdhistory780933\">0</td><td class=\"tdhistory780933\">-4.258888739610543</td><td class=\"tdhistory780933\">n</td></tr><tr><th class=\"tdhistory780933\" style= \"background: rgba(243, 243, 243, 0.75)\">162</th><td class=\"tdhistory780933\">30</td><td class=\"tdhistory780933\">0</td><td class=\"tdhistory780933\">57</td><td class=\"tdhistory780933\">0.134039</td><td class=\"tdhistory780933\">-1.523189487616873</td><td class=\"tdhistory780933\">a</td></tr><tr><th class=\"tdhistory780933\" style= \"background: rgba(243, 243, 243, 0.75)\">163</th><td class=\"tdhistory780933\">55</td><td class=\"tdhistory780933\">0</td><td class=\"tdhistory780933\">97</td><td class=\"tdhistory780933\">0</td><td class=\"tdhistory780933\">-5.784851346128433</td><td class=\"tdhistory780933\">n</td></tr><tr><th class=\"tdhistory780933\" style= \"background: rgba(243, 243, 243, 0.75)\">164</th><td class=\"tdhistory780933\">41</td><td class=\"tdhistory780933\">1</td><td class=\"tdhistory780933\">125</td><td class=\"tdhistory780933\">0</td><td class=\"tdhistory780933\">-1.5361087497978667</td><td class=\"tdhistory780933\">n</td></tr><tr><th class=\"tdhistory780933\" style= \"background: rgba(243, 243, 243, 0.75)\">165</th><td class=\"tdhistory780933\">46</td><td class=\"tdhistory780933\">0</td><td class=\"tdhistory780933\">85</td><td class=\"tdhistory780933\">0</td><td class=\"tdhistory780933\">-4.332325340125757</td><td class=\"tdhistory780933\">n</td></tr><tr><th class=\"tdhistory780933\" style= \"background: rgba(243, 243, 243, 0.75)\">166</th><td class=\"tdhistory780933\">53</td><td class=\"tdhistory780933\">1</td><td class=\"tdhistory780933\">105</td><td class=\"tdhistory780933\">0</td><td class=\"tdhistory780933\">-4.527210354661868</td><td class=\"tdhistory780933\">n</td></tr><tr><th class=\"tdhistory780933\" style= \"background: rgba(243, 243, 243, 0.75)\">167</th><td class=\"tdhistory780933\">59</td><td class=\"tdhistory780933\">0</td><td class=\"tdhistory780933\">80</td><td class=\"tdhistory780933\">0</td><td class=\"tdhistory780933\">-4.809246673642799</td><td class=\"tdhistory780933\">n</td></tr><tr><th class=\"tdhistory780933\" style= \"background: rgba(243, 243, 243, 0.75)\">168</th><td class=\"tdhistory780933\">19</td><td class=\"tdhistory780933\">1</td><td class=\"tdhistory780933\">125</td><td class=\"tdhistory780933\">0</td><td class=\"tdhistory780933\">1.7623795152739916</td><td class=\"tdhistory780933\">p</td></tr><tr><th class=\"tdhistory780933\" style= \"background: rgba(243, 243, 243, 0.75)\">169</th><td class=\"tdhistory780933\">15</td><td class=\"tdhistory780933\">1</td><td class=\"tdhistory780933\">100</td><td class=\"tdhistory780933\">0</td><td class=\"tdhistory780933\">4.911359364701503</td><td class=\"tdhistory780933\">p</td></tr><tr><th class=\"tdhistory780933\" style= \"background: rgba(243, 243, 243, 0.75)\">170</th><td class=\"tdhistory780933\">20</td><td class=\"tdhistory780933\">0</td><td class=\"tdhistory780933\">102</td><td class=\"tdhistory780933\">0</td><td class=\"tdhistory780933\">4.308086346655084</td><td class=\"tdhistory780933\">p</td></tr></tbody></table></div>"
      ]
     },
     "execution_count": 25,
     "metadata": {
      "application/vnd.teradata.resultset": "{\"resultSetID\":\"/home/jovyan/JupyterLabRoot/Teradata/Resultsets/2023.07.14_09.17.14.762_UTC\",\"historyID\":341,\"chunkID\":\"00001\",\"sessionid\":\"\",\"portnum\":\"\",\"dockermode\":\"docker\",\"totalRowCount\":170,\"chunkCount\":0,\"rowLimit\":0,\"columnMetadata\":[{\"columnName\":\"tot_age\",\"columnTypeName\":\"INTEGER\"},{\"columnNumber\":1,\"columnName\":\"female_ind\",\"columnTypeName\":\"BYTEINT\"},{\"columnNumber\":2,\"columnName\":\"D_F\",\"columnTypeName\":\"FLOAT\"},{\"columnNumber\":3,\"columnName\":\"TTestPValue\",\"columnTypeName\":\"FLOAT\"},{\"columnNumber\":4,\"columnName\":\"T\",\"columnTypeName\":\"FLOAT\"},{\"columnNumber\":5,\"columnName\":\"TTestCallP_0.05\",\"columnTypeName\":\"VARCHAR\",\"length\":1,\"scale\":1}]}"
     },
     "output_type": "execute_result"
    }
   ],
   "source": [
    "call val.td_analyze('ParametricTest', \n",
    "                         'database=demo_user;\n",
    "                          tablename=VAL_ADS;\n",
    "                          firstcolumn=cc_avg_bal;\n",
    "                          secondcolumn=sv_avg_bal;\n",
    "                          paired=true;\n",
    "                          equalvariance=true;\n",
    "                          groupby=tot_age,female_ind;\n",
    "                          statsdatabase=val;');"
   ]
  },
  {
   "cell_type": "markdown",
   "metadata": {},
   "source": [
    "<p style = 'font-size:16px;font-family:Arial'>The above output has the output columns as below(Any groupby columns comprise the Unique Primary Index (UPI).)\n",
    "\n",
    "teststyle = t(Default)</p>\n",
    "\n",
    " <table style = 'font-size:14px;font-family:Arial'>\n",
    "  <tr>\n",
    "    <th>Column</th>\n",
    "    <th>DataType</th>\n",
    "    <th>Definition</th>\n",
    "  </tr>\n",
    "  <tr>\n",
    "    <td>D_F</td>\n",
    "    <td>Float</td>  \n",
    "    <td>Degrees of freedom for groupby columns.</td>\n",
    "  </tr>\n",
    "  <tr>\n",
    "    <td>T</td>\n",
    "    <td>Float</td>  \n",
    "    <td>T statistic.</td>\n",
    "  </tr>\n",
    "  <tr>\n",
    "    <td>TTestPValue</td>\n",
    "    <td>Float</td>  \n",
    "    <td>Probability associated with T statistic.</td>\n",
    "  </tr>\n",
    "  <tr>\n",
    "    <td>TTestCallP.05.05</td>\n",
    "    <td>Char</td>  \n",
    "    <td>T-test result:\n",
    "        <li>a=accept null hypothesis</li>\n",
    "        <li>p=reject null hypothesis(positive)</li>\n",
    "        <li>n=reject null hypothesis (negative)</li>\n",
    "    </td>\n",
    "  </tr>    \n",
    "</table>\n",
    "   \n",
    "<p>"
   ]
  },
  {
   "cell_type": "markdown",
   "metadata": {},
   "source": [
    "<p style = 'font-size:16px;font-family:Arial'>2.  One-Way F-Test producing an unpersisted result set.</p>"
   ]
  },
  {
   "cell_type": "code",
   "execution_count": 26,
   "metadata": {
    "tags": []
   },
   "outputs": [
    {
     "data": {
      "text/plain": [
       "Success: 0 rows affected"
      ]
     },
     "execution_count": 26,
     "metadata": {
      "application/vnd.teradata.resultset": ""
     },
     "output_type": "execute_result"
    },
    {
     "data": {
      "application/vnd.teradata.resultset": "\"gender\",\"DF\",\"DFErr\",\"F\",\"FPValue\",\"FPText\",\"FCallP_0.01\"\n\"F\",\"14\",\"5837\",\"7.339460843408844\",\"0.001\",\"<0.001\",\"p\"\n\"M\",\"14\",\"4591\",\"4.946361887968071\",\"0.001\",\"<0.001\",\"p\"",
      "text/html": [
       "<div class = \"td-resultset-table-div\" style = \"max-height: 100%; overflow-y: auto\">\n",
       "      <table class=\"tdhistory52090\"><style>\n",
       "      table.tdhistory52090 { display: block !important; min-height: 126px !important; overflow: auto !important; height: 126px !important; width: 100% !important; border: 1px solid rgb(207, 207, 207) !important; border-collapse: collapse !important; ; color: var(--jp-ui-font-color1) !important; }\n",
       "      th.tdhistory52090 { border: 1px solid rgb(198,198,198) !important; border-collapse: collapse !important; ; padding: 2px 5px !important; ; font-size: 13px !important; ; text-align: center !important; white-space: normal !important; color: var(--jp-ui-font-color1) !important; }\n",
       "      th.tdhistory52090:last-child { text-align: left !important; }\n",
       "      tbody.tdhistory52090 tr:nth-child(even) { background: rgba(243, 243, 243, 0.75) !important; }\n",
       "      tbody.tdhistory52090 tr:nth-child(odd) { background: var(--jp-ui-inverse-font-color1) !important; }\n",
       "      td.tdhistory52090 { border: 1px solid rgb(207, 207, 207) !important; border-collapse: collapse !important; ; padding: 2px 5px !important; ; font-size: 13px !important; ; text-align: left !important;          white-space: nowrap !important; overflow:hidden !important; text-overflow:ellipsis !important;; }\n",
       "    </style><thead><tr style= \"background: rgba(243, 243, 243, 0.75)\"><th class=\"tdhistory52090\"></th><th class=\"tdhistory52090\">gender</th><th class=\"tdhistory52090\">DF</th><th class=\"tdhistory52090\">DFErr</th><th class=\"tdhistory52090\">F</th><th class=\"tdhistory52090\">FPValue</th><th class=\"tdhistory52090\">FPText</th><th class=\"tdhistory52090\">FCallP_0.01</th></tr></thead><tbody class=\"tdhistory52090 resultset-body\"><tr><th class=\"tdhistory52090\" style= \"background: rgba(243, 243, 243, 0.75)\">1</th><td class=\"tdhistory52090\">F</td><td class=\"tdhistory52090\">14</td><td class=\"tdhistory52090\">5837</td><td class=\"tdhistory52090\">7.339460843408844</td><td class=\"tdhistory52090\">0.001</td><td class=\"tdhistory52090\"><0.001</td><td class=\"tdhistory52090\">p</td></tr><tr><th class=\"tdhistory52090\" style= \"background: rgba(243, 243, 243, 0.75)\">2</th><td class=\"tdhistory52090\">M</td><td class=\"tdhistory52090\">14</td><td class=\"tdhistory52090\">4591</td><td class=\"tdhistory52090\">4.946361887968071</td><td class=\"tdhistory52090\">0.001</td><td class=\"tdhistory52090\"><0.001</td><td class=\"tdhistory52090\">p</td></tr></tbody></table></div>"
      ]
     },
     "execution_count": 26,
     "metadata": {
      "application/vnd.teradata.resultset": "{\"resultSetID\":\"/home/jovyan/JupyterLabRoot/Teradata/Resultsets/2023.07.14_09.17.26.489_UTC\",\"historyID\":342,\"chunkID\":\"00001\",\"sessionid\":\"\",\"portnum\":\"\",\"dockermode\":\"docker\",\"totalRowCount\":2,\"chunkCount\":0,\"rowLimit\":0,\"columnMetadata\":[{\"columnName\":\"gender\",\"columnTypeName\":\"VARCHAR\",\"length\":1,\"scale\":1},{\"columnNumber\":1,\"columnName\":\"DF\",\"columnTypeName\":\"FLOAT\"},{\"columnNumber\":2,\"columnName\":\"DFErr\",\"columnTypeName\":\"FLOAT\"},{\"columnNumber\":3,\"columnName\":\"F\",\"columnTypeName\":\"FLOAT\"},{\"columnNumber\":4,\"columnName\":\"FPValue\",\"columnTypeName\":\"FLOAT\"},{\"columnNumber\":5,\"columnName\":\"FPText\",\"columnTypeName\":\"VARCHAR\",\"length\":6,\"scale\":6},{\"columnNumber\":6,\"columnName\":\"FCallP_0.01\",\"columnTypeName\":\"VARCHAR\",\"length\":1,\"scale\":1}]}"
     },
     "output_type": "execute_result"
    }
   ],
   "source": [
    "call val.td_analyze('ParametricTest',\n",
    "                         'teststyle=fnway;\n",
    "                          database=DEMO_Financial;\n",
    "                          tablename=Customer;\n",
    "                          columnofinterest=income;\n",
    "                          columns=years_with_bank;\n",
    "                          groupby=gender;\n",
    "                          thresholdprobability=0.01;\n",
    "                          statsdatabase=val;');"
   ]
  },
  {
   "cell_type": "markdown",
   "metadata": {},
   "source": [
    "<p style = 'font-size:16px;font-family:Arial'>The above output has the output columns as below(If there are groupby columns, they comprise the UPI. Otherwise, DF is the UPI.)\n",
    "\n",
    "teststyle = fnway</p>\n",
    "\n",
    " <table style = 'font-size:14px;font-family:Arial'>\n",
    "  <tr>\n",
    "    <th>Name</th>\n",
    "    <th>Type</th>\n",
    "    <th>Definition</th>\n",
    "  </tr>\n",
    "  <tr>\n",
    "    <td>DF</td>\n",
    "    <td>Integer</td>  \n",
    "    <td>Degrees of freedom for variable.</td>\n",
    "  </tr>\n",
    "  <tr>\n",
    "    <td>DFErr</td>\n",
    "    <td>Integer</td>  \n",
    "    <td>Degrees of freedom for error.</td>\n",
    "  </tr>\n",
    "  <tr>\n",
    "    <td>F</td>\n",
    "    <td>Float</td>  \n",
    "    <td>F statistic.</td>\n",
    "  </tr>\n",
    "  <tr>\n",
    "    <td>FPValue</td>\n",
    "    <td>Float</td>  \n",
    "    <td>Probability associated with F statistic.</td>\n",
    "  </tr> \n",
    "  <tr>\n",
    "    <td>FPText</td>\n",
    "    <td>Char</td>  \n",
    "    <td>If not NULL, the output appears in text format in the column.</td>\n",
    "  </tr>   \n",
    "  <tr>\n",
    "    <td>FCallP</td>\n",
    "    <td>Char</td>  \n",
    "    <td>F-test result:\n",
    "        <li>a=accept null hypothesis</li>\n",
    "        <li>p=reject null hypothesis(positive)</li>\n",
    "        <li>n=reject null hypothesis (negative)</li>\n",
    "    </td>\n",
    "  </tr>    \n",
    "</table>\n",
    "   \n",
    "<p>"
   ]
  },
  {
   "cell_type": "markdown",
   "metadata": {},
   "source": [
    "<p style = 'font-size:16px;font-family:Arial'>3.  2-way F-Test with Unequal Cell Counts producing an unpersisted result set.</p>"
   ]
  },
  {
   "cell_type": "code",
   "execution_count": 27,
   "metadata": {},
   "outputs": [
    {
     "data": {
      "text/plain": [
       "Success: 0 rows affected"
      ]
     },
     "execution_count": 27,
     "metadata": {
      "application/vnd.teradata.resultset": ""
     },
     "output_type": "execute_result"
    },
    {
     "data": {
      "application/vnd.teradata.resultset": "\"DF\",\"Fmodel\",\"DFErr\",\"DF_1\",\"F1\",\"DF_2\",\"F2\",\"DF_12\",\"F12\",\"Fmodel_PValue\",\"Fmodel_PText\",\"Fmodel_CallP_0.05\",\"F1_PValue\",\"F1_PText\",\"F1_CallP_0.05\",\"F2_PValue\",\"F2_PText\",\"F2_CallP_0.05\",\"F12_PValue\",\"F12_PText\",\"F12_CallP_0.05\"\n\"15\",\"9.710997531996655\",\"7330\",\"7\",\"11.561359030335888\",\"1\",\"51.83852316974105\",\"7\",\"1.8424180854082204\",\"0.001\",\"<0.001\",\"p\",\"0.001\",\"<0.001\",\"p\",\"0.001\",\"<0.001\",\"p\",\"0.07854148392066758\",\"\",\"a\"",
      "text/html": [
       "<div class = \"td-resultset-table-div\" style = \"max-height: 100%; overflow-y: auto\">\n",
       "      <table class=\"tdhistory744543\"><style>\n",
       "      table.tdhistory744543 { display: block !important; min-height: 105px !important; overflow: auto !important; height: 105px !important; width: 100% !important; border: 1px solid rgb(207, 207, 207) !important; border-collapse: collapse !important; ; color: var(--jp-ui-font-color1) !important; }\n",
       "      th.tdhistory744543 { border: 1px solid rgb(198,198,198) !important; border-collapse: collapse !important; ; padding: 2px 5px !important; ; font-size: 13px !important; ; text-align: center !important; white-space: normal !important; color: var(--jp-ui-font-color1) !important; }\n",
       "      th.tdhistory744543:last-child { text-align: left !important; }\n",
       "      tbody.tdhistory744543 tr:nth-child(even) { background: rgba(243, 243, 243, 0.75) !important; }\n",
       "      tbody.tdhistory744543 tr:nth-child(odd) { background: var(--jp-ui-inverse-font-color1) !important; }\n",
       "      td.tdhistory744543 { border: 1px solid rgb(207, 207, 207) !important; border-collapse: collapse !important; ; padding: 2px 5px !important; ; font-size: 13px !important; ; text-align: left !important;          white-space: nowrap !important; overflow:hidden !important; text-overflow:ellipsis !important;; }\n",
       "    </style><thead><tr style= \"background: rgba(243, 243, 243, 0.75)\"><th class=\"tdhistory744543\"></th><th class=\"tdhistory744543\">DF</th><th class=\"tdhistory744543\">Fmodel</th><th class=\"tdhistory744543\">DFErr</th><th class=\"tdhistory744543\">DF_1</th><th class=\"tdhistory744543\">F1</th><th class=\"tdhistory744543\">DF_2</th><th class=\"tdhistory744543\">F2</th><th class=\"tdhistory744543\">DF_12</th><th class=\"tdhistory744543\">F12</th><th class=\"tdhistory744543\">Fmodel_PValue</th><th class=\"tdhistory744543\">Fmodel_PText</th><th class=\"tdhistory744543\">Fmodel_CallP_0.05</th><th class=\"tdhistory744543\">F1_PValue</th><th class=\"tdhistory744543\">F1_PText</th><th class=\"tdhistory744543\">F1_CallP_0.05</th><th class=\"tdhistory744543\">F2_PValue</th><th class=\"tdhistory744543\">F2_PText</th><th class=\"tdhistory744543\">F2_CallP_0.05</th><th class=\"tdhistory744543\">F12_PValue</th><th class=\"tdhistory744543\">F12_PText</th><th class=\"tdhistory744543\">F12_CallP_0.05</th></tr></thead><tbody class=\"tdhistory744543 resultset-body\"><tr><th class=\"tdhistory744543\" style= \"background: rgba(243, 243, 243, 0.75)\">1</th><td class=\"tdhistory744543\">15</td><td class=\"tdhistory744543\">9.710997531996655</td><td class=\"tdhistory744543\">7330</td><td class=\"tdhistory744543\">7</td><td class=\"tdhistory744543\">11.561359030335888</td><td class=\"tdhistory744543\">1</td><td class=\"tdhistory744543\">51.83852316974105</td><td class=\"tdhistory744543\">7</td><td class=\"tdhistory744543\">1.8424180854082204</td><td class=\"tdhistory744543\">0.001</td><td class=\"tdhistory744543\"><0.001</td><td class=\"tdhistory744543\">p</td><td class=\"tdhistory744543\">0.001</td><td class=\"tdhistory744543\"><0.001</td><td class=\"tdhistory744543\">p</td><td class=\"tdhistory744543\">0.001</td><td class=\"tdhistory744543\"><0.001</td><td class=\"tdhistory744543\">p</td><td class=\"tdhistory744543\">0.07854148392066758</td><td class=\"tdhistory744543\"></td><td class=\"tdhistory744543\">a</td></tr></tbody></table></div>"
      ]
     },
     "execution_count": 27,
     "metadata": {
      "application/vnd.teradata.resultset": "{\"resultSetID\":\"/home/jovyan/JupyterLabRoot/Teradata/Resultsets/2023.07.14_09.17.41.470_UTC\",\"historyID\":343,\"chunkID\":\"00001\",\"sessionid\":\"\",\"portnum\":\"\",\"dockermode\":\"docker\",\"totalRowCount\":1,\"chunkCount\":0,\"rowLimit\":0,\"columnMetadata\":[{\"columnName\":\"DF\",\"columnTypeName\":\"INTEGER\"},{\"columnNumber\":1,\"columnName\":\"Fmodel\",\"columnTypeName\":\"FLOAT\"},{\"columnNumber\":2,\"columnName\":\"DFErr\",\"columnTypeName\":\"INTEGER\"},{\"columnNumber\":3,\"columnName\":\"DF_1\",\"columnTypeName\":\"INTEGER\"},{\"columnNumber\":4,\"columnName\":\"F1\",\"columnTypeName\":\"FLOAT\"},{\"columnNumber\":5,\"columnName\":\"DF_2\",\"columnTypeName\":\"INTEGER\"},{\"columnNumber\":6,\"columnName\":\"F2\",\"columnTypeName\":\"FLOAT\"},{\"columnNumber\":7,\"columnName\":\"DF_12\",\"columnTypeName\":\"INTEGER\"},{\"columnNumber\":8,\"columnName\":\"F12\",\"columnTypeName\":\"FLOAT\"},{\"columnNumber\":9,\"columnName\":\"Fmodel_PValue\",\"columnTypeName\":\"FLOAT\"},{\"columnNumber\":10,\"columnName\":\"Fmodel_PText\",\"columnTypeName\":\"VARCHAR\",\"length\":6,\"scale\":6},{\"columnNumber\":11,\"columnName\":\"Fmodel_CallP_0.05\",\"columnTypeName\":\"VARCHAR\",\"length\":1,\"scale\":1},{\"columnNumber\":12,\"columnName\":\"F1_PValue\",\"columnTypeName\":\"FLOAT\"},{\"columnNumber\":13,\"columnName\":\"F1_PText\",\"columnTypeName\":\"VARCHAR\",\"length\":6,\"scale\":6},{\"columnNumber\":14,\"columnName\":\"F1_CallP_0.05\",\"columnTypeName\":\"VARCHAR\",\"length\":1,\"scale\":1},{\"columnNumber\":15,\"columnName\":\"F2_PValue\",\"columnTypeName\":\"FLOAT\"},{\"columnNumber\":16,\"columnName\":\"F2_PText\",\"columnTypeName\":\"VARCHAR\",\"length\":6,\"scale\":6},{\"columnNumber\":17,\"columnName\":\"F2_CallP_0.05\",\"columnTypeName\":\"VARCHAR\",\"length\":1,\"scale\":1},{\"columnNumber\":18,\"columnName\":\"F12_PValue\",\"columnTypeName\":\"FLOAT\"},{\"columnNumber\":19,\"columnName\":\"F12_PText\",\"columnTypeName\":\"VARCHAR\",\"length\":6,\"scale\":6},{\"columnNumber\":20,\"columnName\":\"F12_CallP_0.05\",\"columnTypeName\":\"VARCHAR\",\"length\":1,\"scale\":1}]}"
     },
     "output_type": "execute_result"
    }
   ],
   "source": [
    "call val.td_analyze('ParametricTest',\n",
    "                         'teststyle=f2way;\n",
    "                          database=DEMO_Financial;\n",
    "                          tablename=Customer;\n",
    "                          columnofinterest=income;\n",
    "                          firstcolumn=years_with_bank;\n",
    "                          secondcolumn=gender;\n",
    "                          thresholdprobability=0.05;\n",
    "                          firstcolumnvalues=0,1,2,3,4,5,6,7;\n",
    "                          secondcolumnvalues=M,F;\n",
    "                          statsdatabase=val;');"
   ]
  },
  {
   "cell_type": "markdown",
   "metadata": {},
   "source": [
    "<p style = 'font-size:16px;font-family:Arial'>The above output has the output columns as below(If there are groupby columns, they comprise the UPI. Otherwise, DF is the UPI.)\n",
    "\n",
    "teststyle = 2way</p>\n",
    "\n",
    " <table style = 'font-size:14px;font-family:Arial'>\n",
    "  <tr>\n",
    "    <th>Name</th>\n",
    "    <th>Type</th>\n",
    "    <th>Definition</th>\n",
    "  </tr>\n",
    "  <tr>\n",
    "    <td>DF</td>\n",
    "    <td>Integer</td>  \n",
    "    <td>Degrees of freedom for model.</td>\n",
    "  </tr>\n",
    "  <tr>\n",
    "    <td>Fmodel</td>\n",
    "    <td>Float</td>  \n",
    "    <td>F statistic for model.</td>\n",
    "  </tr>  \n",
    "  <tr>\n",
    "    <td>DFErr</td>\n",
    "    <td>Integer</td>  \n",
    "    <td>Degrees of freedom for error.</td>\n",
    "  </tr>\n",
    "  <tr>\n",
    "    <td>DF_1</td>\n",
    "    <td>Integer</td>  \n",
    "    <td>Degrees of freedom for first variable.</td>\n",
    "  </tr>\n",
    "  <tr>\n",
    "    <td>F1</td>\n",
    "    <td>Float</td>  \n",
    "    <td>F statistic for first variable.</td>\n",
    "  </tr> \n",
    "  <tr>\n",
    "    <td>DF_2</td>\n",
    "    <td>Integer</td>  \n",
    "    <td>Degrees of freedom for second variable.</td>\n",
    "  </tr>   \n",
    "  <tr>\n",
    "    <td>F2</td>\n",
    "    <td>Float</td>  \n",
    "    <td>F statistic for second variable.</td>\n",
    "  </tr>    \n",
    "</table>\n",
    "</p>   \n",
    "<p style = 'font-size:16px;font-family:Arial'>The description for other output columns can be found at the link <a href ='https://docs.teradata.com/r/Enterprise_IntelliFlex_Lake_VMware/Vantage-Analytics-Library-User-Guide/Statistical-Tests/Parametric-Tests/Results-Data'>here.</a></p>\n"
   ]
  },
  {
   "cell_type": "markdown",
   "metadata": {},
   "source": [
    "---"
   ]
  },
  {
   "cell_type": "markdown",
   "metadata": {},
   "source": [
    "<p style = 'font-size:20px;font-family:Arial;color:#E37C4D'><b>7. Rank Tests</b></p>\n",
    "\n",
    "<p style = 'font-size:16px;font-family:Arial;color:#E37C4D'><b>Purpose</b></p>\n",
    "\n",
    "<p style = 'font-size:16px;font-family:Arial'>Statistical tests of this type calculate statistics based on the rank of variables rather than variable values.  In general, data that are ranked and ordinal may be analyzed by these tests.  Within some restraints, either numeric or non-numeric data may be analyzed.  Supported rank tests include the following:\n",
    "\n",
    "<li>Mann-Whitney/Kruskal-Wallis Test</li>\n",
    "<li>Wilcoxon Signed Ranks Test</li>\n",
    "<li>Friedman Test with Kendall’s Coefficient of Concordance & Spearmans’ Rho</li>\n",
    "</p>\n",
    "    \n",
    "<p style = 'font-size:16px;font-family:Arial'>The choice between the Mann-Whitney and Kruskal-Wallis tests is made automatically, looking at the number of distinct values of the independent variable.  A variation of the Mann-Whitney test considers each requested variable individually, rather than combined, performing a series of independent tests.</p>\n",
    "\n",
    "<p style = 'font-size:16px;font-family:Arial;color:#E37C4D'><b>Required Parameters</b></p>\n",
    "\n",
    "<p style = 'font-size:16px;font-family:Arial'><b>- **database**</b></p>\n",
    "\n",
    "<p style = 'font-size:16px;font-family:Arial'>The database containing the table to analyze.</p>\n",
    "\n",
    "<p style = 'font-size:16px;font-family:Arial'><b>- **ranktest**</b></p>\n",
    "\n",
    "<p style = 'font-size:16px;font-family:Arial'>The ranktest parameter:\n",
    "<li>Is required</li>\n",
    "<li>Must be the first parameter</li>\n",
    "<li>Is always enclosed in single quotes</li>\n",
    "</p>    \n",
    "\n",
    "<p style = 'font-size:16px;font-family:Arial'><b>- **tablename**</b></p>\n",
    "\n",
    "<p style = 'font-size:16px;font-family:Arial'>The table containing the columns to analyze.  It must reside in the database indicated by the database parameter.</p>\n",
    "\n",
    "<p style = 'font-size:16px;font-family:Arial;color:#E37C4D'><b>Optional Parameters</b></p>\n",
    "\n",
    "<p style = 'font-size:16px;font-family:Arial'><b>- **blockcolumn**</b></p>\n",
    "\n",
    "<p style = 'font-size:16px;font-family:Arial'>Used only by the Friedman test, the column that represents blocks. They must reside in the table indicated by the tablename parameter.  Note that when pairing treatment and block column values, a division by zero error may occur if unequal cell counts are found.</p>\n",
    "\n",
    "<p style = 'font-size:16px;font-family:Arial'><b>- **columnofinterest**</b></p>\n",
    "\n",
    "<p style = 'font-size:16px;font-family:Arial'>Used only by the Mann-Whitney and Friedman tests, the column specified with this parameter indicates the dependent variable. If non-numeric, it will be ranked alphanumerically.  It must reside in the table indicated by the tablename parameter.</p>\n",
    "\n",
    "<p style = 'font-size:16px;font-family:Arial'><b>- **columns**</b></p>\n",
    "\n",
    "<p style = 'font-size:16px;font-family:Arial'>Used only by the Mann-Whitney test, the columns specified with this parameter represent the independent variables. They must reside in the table indicated by the tablename parameter.</p>\n",
    "\n",
    "<p style = 'font-size:16px;font-family:Arial'><b>- **fallback**</b></p>\n",
    "\n",
    "<p style = 'font-size:16px;font-family:Arial'>When true, FALLBACK is requested as an attribute of the created output results table.  When false or parameter not specified, the FALLBACK attribute is not included in the create table SQL.</p>\n",
    "\n",
    "<p style = 'font-size:16px;font-family:Arial'><b>- **firstcolumn**</b></p>\n",
    "\n",
    "<p style = 'font-size:16px;font-family:Arial'>Used only by the Wilcoxon test, the column that represents the first sample variable. It must reside in the table indicated by the tablename parameter.</p>\n",
    "\n",
    "<p style = 'font-size:16px;font-family:Arial'><b>- **gensqlonly**</b></p>\n",
    "\n",
    "<p style = 'font-size:16px;font-family:Arial'>When true, the SQL for the requested function is returned as a result set but not run. When not specified or set to false, the SQL is run but not returned.  This parameter is not allowed when using the Mann-Whitney test.</p>\n",
    "\n",
    "<p style = 'font-size:16px;font-family:Arial'><b>- **groupby**</b></p>\n",
    "\n",
    "<p style = 'font-size:16px;font-family:Arial'>One or more group-by columns may optionally be specified so that a separate result is produced for each value or combination of values in the specified column or columns.</p>\n",
    "\n",
    "<p style = 'font-size:16px;font-family:Arial'><b>- **includezero**</b></p>\n",
    "\n",
    "<p style = 'font-size:16px;font-family:Arial'>Used only by the Wilcoxon test.  Ordinarily, the Wilcoxon test discards cases with zero differences.  This option, when set to true, includes these cases with the positive count.</p>\n",
    "\n",
    "<p style = 'font-size:16px;font-family:Arial'><b>- **independent**</b></p>\n",
    "\n",
    "<p style = 'font-size:16px;font-family:Arial'>Used only by the Mann-Whitney test, its selection by setting independent=true, indicates that a variation of the Mann-Whitney test should be performed, considering each requested variable individually, rather than in combination, performing a series of independent tests.</p>\n",
    "\n",
    "<p style = 'font-size:16px;font-family:Arial'><b>- **multiset**</b></p>\n",
    "\n",
    "<p style = 'font-size:16px;font-family:Arial'>When true, MULTISET is requested as an attribute of the created output results table.  When false or parameter not specified, the MULTISET attribute is not included in the create table SQL.</p>\n",
    "\n",
    "<p style = 'font-size:16px;font-family:Arial'><b>- **outputdatabase**</b></p>\n",
    "\n",
    "<p style = 'font-size:16px;font-family:Arial'>Specifies the name of the database to contain the analysis results table.</p>\n",
    "\n",
    "<p style = 'font-size:16px;font-family:Arial'><b>- **outputtablename**</b></p>\n",
    "\n",
    "<p style = 'font-size:16px;font-family:Arial'>Specifies the name of the table to store the analysis results. If not supplied, the results are returned as a result set.</p>\n",
    "\n",
    "<p style = 'font-size:16px;font-family:Arial'><b>- **overwrite**</b></p>\n",
    "\n",
    "<p style = 'font-size:16px;font-family:Arial'>When overwrite is set to true or not set, the output table is dropped before creating a new one.</p>\n",
    "\n",
    "<p style = 'font-size:16px;font-family:Arial'><b>- **secondcolumn**</b></p>\n",
    "\n",
    "<p style = 'font-size:16px;font-family:Arial'>Used only by the Wilcoxon test, the column that represents the second sample variable. It must reside in the table indicated by the tablename parameter.  Note that when pairing treatment and block column values, a division by zero error may occur if unequal cell counts are found.</p>\n",
    "\n",
    "<p style = 'font-size:16px;font-family:Arial'><b>- **singletail**</b></p>\n",
    "\n",
    "<p style = 'font-size:16px;font-family:Arial'>Used only by the Mann-Whitney and Wilcoxon tests.  If the Mann-Whitney test becomes a Kruskall-Wallis test, the singletail option is invalid.  By default, a two-tailed test is performed.</p>\n",
    "\n",
    "<p style = 'font-size:16px;font-family:Arial'><b>- **statsdatabase**</b></p>\n",
    "\n",
    "<p style = 'font-size:16px;font-family:Arial'>This is the database where the statistical test metadata tables are installed.  If not specified, the source database is searched for these metadata tables.</p>\n",
    "\n",
    "<p style = 'font-size:16px;font-family:Arial'><b>- **teststyle**</b></p>\n",
    "\n",
    "<p style = 'font-size:16px;font-family:Arial'>The valid values are mw, friedman and wilcoxon, representing a Mann-Whitney, Friedman or Wilcoxon test.  If not specified, the default test style is Mann-Whitney (mw).</p>\n",
    "\n",
    "<p style = 'font-size:16px;font-family:Arial'><b>- **thresholdprobability**</b></p>\n",
    "\n",
    "<p style = 'font-size:16px;font-family:Arial'>You may optionally change the threshold probability or allow it to default to 0.05.  Below this \"alpha\" probability the null hypothesis is rejected.</p>\n",
    "\n",
    "<p style = 'font-size:16px;font-family:Arial'><b>- **treatmentcolumn**</b></p>\n",
    "\n",
    "<p style = 'font-size:16px;font-family:Arial'>Used only by the Friedman test, the column that represents the independent categorical variable. They must reside in the table indicated by the tablename parameter.</p>"
   ]
  },
  {
   "cell_type": "markdown",
   "metadata": {},
   "source": [
    "--------------------------"
   ]
  },
  {
   "cell_type": "markdown",
   "metadata": {},
   "source": [
    "<p style = 'font-size:16px;font-family:Arial'>1.  Mann-Whitney test with a threshold probability of 0.01.</p>"
   ]
  },
  {
   "cell_type": "code",
   "execution_count": 28,
   "metadata": {},
   "outputs": [
    {
     "data": {
      "text/plain": [
       "Success: 0 rows affected"
      ]
     },
     "execution_count": 28,
     "metadata": {
      "application/vnd.teradata.resultset": ""
     },
     "output_type": "execute_result"
    },
    {
     "data": {
      "application/vnd.teradata.resultset": "\"years_with_bank\",\"Z\",\"MannWhitneyPValue\",\"MannWhitneyCallP_1E-2\"\n\"12\",\"-1.5058426157251128\",\"0.132067226\",\"a\"\n\"3\",\"-1.2277790991000173\",\"0.219447096\",\"a\"\n\"4\",\"-2.1776290109979204\",\"0.029405932\",\"a\"\n\"2\",\"0.2632551342578662\",\"0.792550692\",\"a\"\n\"11\",\"-1.329063927064864\",\"0.183848096\",\"a\"\n\"10\",\"-3.2379133262969324\",\"0.001203832\",\"n\"\n\"7\",\"-3.9525279885398006\",\"7.7211e-05\",\"n\"\n\"13\",\"-0.8617464449585489\",\"0.388687424\",\"a\"\n\"14\",\"-0.49966021063014066\",\"0.617075066\",\"a\"\n\"8\",\"-3.508754308300577\",\"0.00044988199999999997\",\"n\"\n\"5\",\"-2.664446116472283\",\"0.007721844\",\"n\"\n\"6\",\"-3.644272637669378\",\"0.000268502\",\"n\"\n\"9\",\"-3.1829653140323173\",\"0.001457706\",\"n\"\n\"1\",\"-0.4469203235902225\",\"0.654875104\",\"a\"\n\"0\",\"-0.05851578448193989\",\"0.952951968\",\"a\"",
      "text/html": [
       "<div class = \"td-resultset-table-div\" style = \"max-height: 100%; overflow-y: auto\">\n",
       "      <table class=\"tdhistory223865\"><style>\n",
       "      table.tdhistory223865 { display: block !important; min-height: 399px !important; overflow: auto !important; height: 399px !important; width: 100% !important; border: 1px solid rgb(207, 207, 207) !important; border-collapse: collapse !important; ; color: var(--jp-ui-font-color1) !important; }\n",
       "      th.tdhistory223865 { border: 1px solid rgb(198,198,198) !important; border-collapse: collapse !important; ; padding: 2px 5px !important; ; font-size: 13px !important; ; text-align: center !important; white-space: normal !important; color: var(--jp-ui-font-color1) !important; }\n",
       "      th.tdhistory223865:last-child { text-align: left !important; }\n",
       "      tbody.tdhistory223865 tr:nth-child(even) { background: rgba(243, 243, 243, 0.75) !important; }\n",
       "      tbody.tdhistory223865 tr:nth-child(odd) { background: var(--jp-ui-inverse-font-color1) !important; }\n",
       "      td.tdhistory223865 { border: 1px solid rgb(207, 207, 207) !important; border-collapse: collapse !important; ; padding: 2px 5px !important; ; font-size: 13px !important; ; text-align: left !important;          white-space: nowrap !important; overflow:hidden !important; text-overflow:ellipsis !important;; }\n",
       "    </style><thead><tr style= \"background: rgba(243, 243, 243, 0.75)\"><th class=\"tdhistory223865\"></th><th class=\"tdhistory223865\">years_with_bank</th><th class=\"tdhistory223865\">Z</th><th class=\"tdhistory223865\">MannWhitneyPValue</th><th class=\"tdhistory223865\">MannWhitneyCallP_1E-2</th></tr></thead><tbody class=\"tdhistory223865 resultset-body\"><tr><th class=\"tdhistory223865\" style= \"background: rgba(243, 243, 243, 0.75)\">1</th><td class=\"tdhistory223865\">12</td><td class=\"tdhistory223865\">-1.5058426157251128</td><td class=\"tdhistory223865\">0.132067226</td><td class=\"tdhistory223865\">a</td></tr><tr><th class=\"tdhistory223865\" style= \"background: rgba(243, 243, 243, 0.75)\">2</th><td class=\"tdhistory223865\">3</td><td class=\"tdhistory223865\">-1.2277790991000173</td><td class=\"tdhistory223865\">0.219447096</td><td class=\"tdhistory223865\">a</td></tr><tr><th class=\"tdhistory223865\" style= \"background: rgba(243, 243, 243, 0.75)\">3</th><td class=\"tdhistory223865\">4</td><td class=\"tdhistory223865\">-2.1776290109979204</td><td class=\"tdhistory223865\">0.029405932</td><td class=\"tdhistory223865\">a</td></tr><tr><th class=\"tdhistory223865\" style= \"background: rgba(243, 243, 243, 0.75)\">4</th><td class=\"tdhistory223865\">2</td><td class=\"tdhistory223865\">0.2632551342578662</td><td class=\"tdhistory223865\">0.792550692</td><td class=\"tdhistory223865\">a</td></tr><tr><th class=\"tdhistory223865\" style= \"background: rgba(243, 243, 243, 0.75)\">5</th><td class=\"tdhistory223865\">11</td><td class=\"tdhistory223865\">-1.329063927064864</td><td class=\"tdhistory223865\">0.183848096</td><td class=\"tdhistory223865\">a</td></tr><tr><th class=\"tdhistory223865\" style= \"background: rgba(243, 243, 243, 0.75)\">6</th><td class=\"tdhistory223865\">10</td><td class=\"tdhistory223865\">-3.2379133262969324</td><td class=\"tdhistory223865\">0.001203832</td><td class=\"tdhistory223865\">n</td></tr><tr><th class=\"tdhistory223865\" style= \"background: rgba(243, 243, 243, 0.75)\">7</th><td class=\"tdhistory223865\">7</td><td class=\"tdhistory223865\">-3.9525279885398006</td><td class=\"tdhistory223865\">7.7211e-05</td><td class=\"tdhistory223865\">n</td></tr><tr><th class=\"tdhistory223865\" style= \"background: rgba(243, 243, 243, 0.75)\">8</th><td class=\"tdhistory223865\">13</td><td class=\"tdhistory223865\">-0.8617464449585489</td><td class=\"tdhistory223865\">0.388687424</td><td class=\"tdhistory223865\">a</td></tr><tr><th class=\"tdhistory223865\" style= \"background: rgba(243, 243, 243, 0.75)\">9</th><td class=\"tdhistory223865\">14</td><td class=\"tdhistory223865\">-0.49966021063014066</td><td class=\"tdhistory223865\">0.617075066</td><td class=\"tdhistory223865\">a</td></tr><tr><th class=\"tdhistory223865\" style= \"background: rgba(243, 243, 243, 0.75)\">10</th><td class=\"tdhistory223865\">8</td><td class=\"tdhistory223865\">-3.508754308300577</td><td class=\"tdhistory223865\">0.00044988199999999997</td><td class=\"tdhistory223865\">n</td></tr><tr><th class=\"tdhistory223865\" style= \"background: rgba(243, 243, 243, 0.75)\">11</th><td class=\"tdhistory223865\">5</td><td class=\"tdhistory223865\">-2.664446116472283</td><td class=\"tdhistory223865\">0.007721844</td><td class=\"tdhistory223865\">n</td></tr><tr><th class=\"tdhistory223865\" style= \"background: rgba(243, 243, 243, 0.75)\">12</th><td class=\"tdhistory223865\">6</td><td class=\"tdhistory223865\">-3.644272637669378</td><td class=\"tdhistory223865\">0.000268502</td><td class=\"tdhistory223865\">n</td></tr><tr><th class=\"tdhistory223865\" style= \"background: rgba(243, 243, 243, 0.75)\">13</th><td class=\"tdhistory223865\">9</td><td class=\"tdhistory223865\">-3.1829653140323173</td><td class=\"tdhistory223865\">0.001457706</td><td class=\"tdhistory223865\">n</td></tr><tr><th class=\"tdhistory223865\" style= \"background: rgba(243, 243, 243, 0.75)\">14</th><td class=\"tdhistory223865\">1</td><td class=\"tdhistory223865\">-0.4469203235902225</td><td class=\"tdhistory223865\">0.654875104</td><td class=\"tdhistory223865\">a</td></tr><tr><th class=\"tdhistory223865\" style= \"background: rgba(243, 243, 243, 0.75)\">15</th><td class=\"tdhistory223865\">0</td><td class=\"tdhistory223865\">-0.05851578448193989</td><td class=\"tdhistory223865\">0.952951968</td><td class=\"tdhistory223865\">a</td></tr></tbody></table></div>"
      ]
     },
     "execution_count": 28,
     "metadata": {
      "application/vnd.teradata.resultset": "{\"resultSetID\":\"/home/jovyan/JupyterLabRoot/Teradata/Resultsets/2023.07.14_09.17.47.429_UTC\",\"historyID\":344,\"chunkID\":\"00001\",\"sessionid\":\"\",\"portnum\":\"\",\"dockermode\":\"docker\",\"totalRowCount\":15,\"chunkCount\":0,\"rowLimit\":0,\"columnMetadata\":[{\"columnName\":\"years_with_bank\",\"columnTypeName\":\"INTEGER\"},{\"columnNumber\":1,\"columnName\":\"Z\",\"columnTypeName\":\"FLOAT\"},{\"columnNumber\":2,\"columnName\":\"MannWhitneyPValue\",\"columnTypeName\":\"FLOAT\"},{\"columnNumber\":3,\"columnName\":\"MannWhitneyCallP_1E-2\",\"columnTypeName\":\"VARCHAR\",\"length\":1,\"scale\":1}]}"
     },
     "output_type": "execute_result"
    }
   ],
   "source": [
    "call val.td_analyze('ranktest',\n",
    "                         'teststyle=mw;\n",
    "                          statsdatabase=val;\n",
    "                          database=DEMO_Financial;\n",
    "                          tablename=Customer;\n",
    "                          columnofinterest=income;\n",
    "                          columns=gender;\n",
    "                          groupby=years_with_bank;\n",
    "                          thresholdprobability=0.01;');"
   ]
  },
  {
   "cell_type": "markdown",
   "metadata": {},
   "source": [
    "<p style = 'font-size:16px;font-family:Arial'>The above output has the output columns as below(If there are groupby columns, they comprise the UPI. Otherwise, Z is the UPI.)\n",
    "\n",
    "teststyle = mw (Default)</p>\n",
    "\n",
    " <table style = 'font-size:14px;font-family:Arial'>\n",
    "  <tr>\n",
    "    <th>Column</th>\n",
    "    <th>DataType</th>\n",
    "    <th>Description</th>\n",
    "  </tr>\n",
    "  <tr>\n",
    "    <td>Z</td>\n",
    "    <td>Float</td>  \n",
    "    <td>Mann-Whitney Z statistic.</td>\n",
    "  </tr>\n",
    "  <tr>\n",
    "    <td>MannWhitneyPValue</td>\n",
    "    <td>Float</td>  \n",
    "    <td>Probability associated with Mann-Whitney statistic.</td>\n",
    "  </tr>\n",
    "  <tr>\n",
    "    <td>MannWhitneyCallP_0.01</td>\n",
    "    <td>Char</td>  \n",
    "    <td>Mann-Whitney result:\n",
    "        <li>a=accept null hypothesis</li>\n",
    "        <li>p=reject null hypothesis</li>\n",
    "    </td>\n",
    "  </tr>    \n",
    "</table>\n",
    "   \n",
    "<p>"
   ]
  },
  {
   "cell_type": "markdown",
   "metadata": {},
   "source": [
    "<p style = 'font-size:16px;font-family:Arial'>2.  A set of Mann-Whitney independent tests.  The threshold probability assumes the default value of 0.05.</p>"
   ]
  },
  {
   "cell_type": "code",
   "execution_count": 29,
   "metadata": {},
   "outputs": [
    {
     "data": {
      "text/plain": [
       "Success: 0 rows affected"
      ]
     },
     "execution_count": 29,
     "metadata": {
      "application/vnd.teradata.resultset": ""
     },
     "output_type": "execute_result"
    },
    {
     "data": {
      "application/vnd.teradata.resultset": "\"_twm_independent_variable\",\"Z\",\"MannWhitneyPValue\",\"MannWhitneyCallP_5E-2\"\n\"female_ind                    \",\"7.771020590981125\",\"6e-07\",\"p\"\n\"sv_acct_ind\",\"9.377586778932272\",\"6e-07\",\"p\"\n\"cc_acct_ind\",\"-19.115808047105958\",\"6e-07\",\"n\"\n\"ck_acct_ind\",\"-16.06418788422782\",\"6e-07\",\"n\"",
      "text/html": [
       "<div class = \"td-resultset-table-div\" style = \"max-height: 100%; overflow-y: auto\">\n",
       "      <table class=\"tdhistory169952\"><style>\n",
       "      table.tdhistory169952 { display: block !important; min-height: 168px !important; overflow: auto !important; height: 168px !important; width: 100% !important; border: 1px solid rgb(207, 207, 207) !important; border-collapse: collapse !important; ; color: var(--jp-ui-font-color1) !important; }\n",
       "      th.tdhistory169952 { border: 1px solid rgb(198,198,198) !important; border-collapse: collapse !important; ; padding: 2px 5px !important; ; font-size: 13px !important; ; text-align: center !important; white-space: normal !important; color: var(--jp-ui-font-color1) !important; }\n",
       "      th.tdhistory169952:last-child { text-align: left !important; }\n",
       "      tbody.tdhistory169952 tr:nth-child(even) { background: rgba(243, 243, 243, 0.75) !important; }\n",
       "      tbody.tdhistory169952 tr:nth-child(odd) { background: var(--jp-ui-inverse-font-color1) !important; }\n",
       "      td.tdhistory169952 { border: 1px solid rgb(207, 207, 207) !important; border-collapse: collapse !important; ; padding: 2px 5px !important; ; font-size: 13px !important; ; text-align: left !important;          white-space: nowrap !important; overflow:hidden !important; text-overflow:ellipsis !important;; }\n",
       "    </style><thead><tr style= \"background: rgba(243, 243, 243, 0.75)\"><th class=\"tdhistory169952\"></th><th class=\"tdhistory169952\">_twm_independent_variable</th><th class=\"tdhistory169952\">Z</th><th class=\"tdhistory169952\">MannWhitneyPValue</th><th class=\"tdhistory169952\">MannWhitneyCallP_5E-2</th></tr></thead><tbody class=\"tdhistory169952 resultset-body\"><tr><th class=\"tdhistory169952\" style= \"background: rgba(243, 243, 243, 0.75)\">1</th><td class=\"tdhistory169952\">female_ind                    </td><td class=\"tdhistory169952\">7.771020590981125</td><td class=\"tdhistory169952\">6e-07</td><td class=\"tdhistory169952\">p</td></tr><tr><th class=\"tdhistory169952\" style= \"background: rgba(243, 243, 243, 0.75)\">2</th><td class=\"tdhistory169952\">sv_acct_ind</td><td class=\"tdhistory169952\">9.377586778932272</td><td class=\"tdhistory169952\">6e-07</td><td class=\"tdhistory169952\">p</td></tr><tr><th class=\"tdhistory169952\" style= \"background: rgba(243, 243, 243, 0.75)\">3</th><td class=\"tdhistory169952\">cc_acct_ind</td><td class=\"tdhistory169952\">-19.115808047105958</td><td class=\"tdhistory169952\">6e-07</td><td class=\"tdhistory169952\">n</td></tr><tr><th class=\"tdhistory169952\" style= \"background: rgba(243, 243, 243, 0.75)\">4</th><td class=\"tdhistory169952\">ck_acct_ind</td><td class=\"tdhistory169952\">-16.06418788422782</td><td class=\"tdhistory169952\">6e-07</td><td class=\"tdhistory169952\">n</td></tr></tbody></table></div>"
      ]
     },
     "execution_count": 29,
     "metadata": {
      "application/vnd.teradata.resultset": "{\"resultSetID\":\"/home/jovyan/JupyterLabRoot/Teradata/Resultsets/2023.07.14_09.17.51.301_UTC\",\"historyID\":345,\"chunkID\":\"00001\",\"sessionid\":\"\",\"portnum\":\"\",\"dockermode\":\"docker\",\"totalRowCount\":4,\"chunkCount\":0,\"rowLimit\":0,\"columnMetadata\":[{\"columnName\":\"_twm_independent_variable\",\"columnTypeName\":\"VARCHAR\",\"length\":30,\"scale\":30},{\"columnNumber\":1,\"columnName\":\"Z\",\"columnTypeName\":\"FLOAT\"},{\"columnNumber\":2,\"columnName\":\"MannWhitneyPValue\",\"columnTypeName\":\"FLOAT\"},{\"columnNumber\":3,\"columnName\":\"MannWhitneyCallP_5E-2\",\"columnTypeName\":\"VARCHAR\",\"length\":1,\"scale\":1}]}"
     },
     "output_type": "execute_result"
    }
   ],
   "source": [
    "call val.td_analyze('ranktest',\n",
    "                         'teststyle=mw;\n",
    "                          statsdatabase=val;\n",
    "                          independent=true;\n",
    "                          database=demo_user;\n",
    "                          tablename=VAL_ADS;\n",
    "                          columnofinterest=tot_income;\n",
    "                          columns=female_ind,cc_acct_ind,ck_acct_ind,sv_acct_ind; ');"
   ]
  },
  {
   "cell_type": "markdown",
   "metadata": {},
   "source": [
    "<p style = 'font-size:16px;font-family:Arial'>The above output has the output columns as below(If there are groupby columns, they comprise the UPI. Otherwise, Z is the UPI.)\n",
    "The output is similar in the step above but the threshold probability is changed from 0.01 to 0.05</p>\n"
   ]
  },
  {
   "cell_type": "markdown",
   "metadata": {},
   "source": [
    "<p style = 'font-size:16px;font-family:Arial'>3.  Wilcoxon Test - the threshold probability assumes the default value of 0.05.</p>"
   ]
  },
  {
   "cell_type": "code",
   "execution_count": 30,
   "metadata": {},
   "outputs": [
    {
     "data": {
      "text/plain": [
       "Success: 0 rows affected"
      ]
     },
     "execution_count": 30,
     "metadata": {
      "application/vnd.teradata.resultset": ""
     },
     "output_type": "execute_result"
    },
    {
     "data": {
      "application/vnd.teradata.resultset": "\"tot_cust_years\",\"N\",\"Z_\",\"WilcoxonPValue\",\"WilcoxonCallP_5E-2\"\n\"11\",\"315\",\"-8.214871312499245\",\"6e-07\",\"n\"\n\"13\",\"39\",\"-2.6793596002730693\",\"0.007384332\",\"n\"\n\"7\",\"918\",\"-11.640686617914307\",\"6e-07\",\"n\"\n\"5\",\"1010\",\"-16.95474369795407\",\"6e-07\",\"n\"\n\"9\",\"681\",\"-9.077457386798521\",\"6e-07\",\"n\"\n\"4\",\"977\",\"-18.779568835263486\",\"6e-07\",\"n\"\n\"0\",\"150\",\"-4.790039389110829\",\"1.669944e-06\",\"n\"\n\"14\",\"33\",\"-2.206676899498888\",\"0.027313964\",\"n\"\n\"3\",\"1003\",\"-17.354268985435144\",\"6e-07\",\"n\"\n\"1\",\"454\",\"-8.994275181286014\",\"6e-07\",\"n\"\n\"12\",\"147\",\"-4.46411081392879\",\"8.05146e-06\",\"n\"\n\"6\",\"960\",\"-14.602984867720217\",\"6e-07\",\"n\"\n\"10\",\"499\",\"-8.6585722063289\",\"6e-07\",\"n\"\n\"8\",\"804\",\"-9.852421542827756\",\"6e-07\",\"n\"\n\"2\",\"774\",\"-13.474895003968802\",\"6e-07\",\"n\"",
      "text/html": [
       "<div class = \"td-resultset-table-div\" style = \"max-height: 100%; overflow-y: auto\">\n",
       "      <table class=\"tdhistory813960\"><style>\n",
       "      table.tdhistory813960 { display: block !important; min-height: 399px !important; overflow: auto !important; height: 399px !important; width: 100% !important; border: 1px solid rgb(207, 207, 207) !important; border-collapse: collapse !important; ; color: var(--jp-ui-font-color1) !important; }\n",
       "      th.tdhistory813960 { border: 1px solid rgb(198,198,198) !important; border-collapse: collapse !important; ; padding: 2px 5px !important; ; font-size: 13px !important; ; text-align: center !important; white-space: normal !important; color: var(--jp-ui-font-color1) !important; }\n",
       "      th.tdhistory813960:last-child { text-align: left !important; }\n",
       "      tbody.tdhistory813960 tr:nth-child(even) { background: rgba(243, 243, 243, 0.75) !important; }\n",
       "      tbody.tdhistory813960 tr:nth-child(odd) { background: var(--jp-ui-inverse-font-color1) !important; }\n",
       "      td.tdhistory813960 { border: 1px solid rgb(207, 207, 207) !important; border-collapse: collapse !important; ; padding: 2px 5px !important; ; font-size: 13px !important; ; text-align: left !important;          white-space: nowrap !important; overflow:hidden !important; text-overflow:ellipsis !important;; }\n",
       "    </style><thead><tr style= \"background: rgba(243, 243, 243, 0.75)\"><th class=\"tdhistory813960\"></th><th class=\"tdhistory813960\">tot_cust_years</th><th class=\"tdhistory813960\">N</th><th class=\"tdhistory813960\">Z_</th><th class=\"tdhistory813960\">WilcoxonPValue</th><th class=\"tdhistory813960\">WilcoxonCallP_5E-2</th></tr></thead><tbody class=\"tdhistory813960 resultset-body\"><tr><th class=\"tdhistory813960\" style= \"background: rgba(243, 243, 243, 0.75)\">1</th><td class=\"tdhistory813960\">11</td><td class=\"tdhistory813960\">315</td><td class=\"tdhistory813960\">-8.214871312499245</td><td class=\"tdhistory813960\">6e-07</td><td class=\"tdhistory813960\">n</td></tr><tr><th class=\"tdhistory813960\" style= \"background: rgba(243, 243, 243, 0.75)\">2</th><td class=\"tdhistory813960\">13</td><td class=\"tdhistory813960\">39</td><td class=\"tdhistory813960\">-2.6793596002730693</td><td class=\"tdhistory813960\">0.007384332</td><td class=\"tdhistory813960\">n</td></tr><tr><th class=\"tdhistory813960\" style= \"background: rgba(243, 243, 243, 0.75)\">3</th><td class=\"tdhistory813960\">7</td><td class=\"tdhistory813960\">918</td><td class=\"tdhistory813960\">-11.640686617914307</td><td class=\"tdhistory813960\">6e-07</td><td class=\"tdhistory813960\">n</td></tr><tr><th class=\"tdhistory813960\" style= \"background: rgba(243, 243, 243, 0.75)\">4</th><td class=\"tdhistory813960\">5</td><td class=\"tdhistory813960\">1010</td><td class=\"tdhistory813960\">-16.95474369795407</td><td class=\"tdhistory813960\">6e-07</td><td class=\"tdhistory813960\">n</td></tr><tr><th class=\"tdhistory813960\" style= \"background: rgba(243, 243, 243, 0.75)\">5</th><td class=\"tdhistory813960\">9</td><td class=\"tdhistory813960\">681</td><td class=\"tdhistory813960\">-9.077457386798521</td><td class=\"tdhistory813960\">6e-07</td><td class=\"tdhistory813960\">n</td></tr><tr><th class=\"tdhistory813960\" style= \"background: rgba(243, 243, 243, 0.75)\">6</th><td class=\"tdhistory813960\">4</td><td class=\"tdhistory813960\">977</td><td class=\"tdhistory813960\">-18.779568835263486</td><td class=\"tdhistory813960\">6e-07</td><td class=\"tdhistory813960\">n</td></tr><tr><th class=\"tdhistory813960\" style= \"background: rgba(243, 243, 243, 0.75)\">7</th><td class=\"tdhistory813960\">0</td><td class=\"tdhistory813960\">150</td><td class=\"tdhistory813960\">-4.790039389110829</td><td class=\"tdhistory813960\">1.669944e-06</td><td class=\"tdhistory813960\">n</td></tr><tr><th class=\"tdhistory813960\" style= \"background: rgba(243, 243, 243, 0.75)\">8</th><td class=\"tdhistory813960\">14</td><td class=\"tdhistory813960\">33</td><td class=\"tdhistory813960\">-2.206676899498888</td><td class=\"tdhistory813960\">0.027313964</td><td class=\"tdhistory813960\">n</td></tr><tr><th class=\"tdhistory813960\" style= \"background: rgba(243, 243, 243, 0.75)\">9</th><td class=\"tdhistory813960\">3</td><td class=\"tdhistory813960\">1003</td><td class=\"tdhistory813960\">-17.354268985435144</td><td class=\"tdhistory813960\">6e-07</td><td class=\"tdhistory813960\">n</td></tr><tr><th class=\"tdhistory813960\" style= \"background: rgba(243, 243, 243, 0.75)\">10</th><td class=\"tdhistory813960\">1</td><td class=\"tdhistory813960\">454</td><td class=\"tdhistory813960\">-8.994275181286014</td><td class=\"tdhistory813960\">6e-07</td><td class=\"tdhistory813960\">n</td></tr><tr><th class=\"tdhistory813960\" style= \"background: rgba(243, 243, 243, 0.75)\">11</th><td class=\"tdhistory813960\">12</td><td class=\"tdhistory813960\">147</td><td class=\"tdhistory813960\">-4.46411081392879</td><td class=\"tdhistory813960\">8.05146e-06</td><td class=\"tdhistory813960\">n</td></tr><tr><th class=\"tdhistory813960\" style= \"background: rgba(243, 243, 243, 0.75)\">12</th><td class=\"tdhistory813960\">6</td><td class=\"tdhistory813960\">960</td><td class=\"tdhistory813960\">-14.602984867720217</td><td class=\"tdhistory813960\">6e-07</td><td class=\"tdhistory813960\">n</td></tr><tr><th class=\"tdhistory813960\" style= \"background: rgba(243, 243, 243, 0.75)\">13</th><td class=\"tdhistory813960\">10</td><td class=\"tdhistory813960\">499</td><td class=\"tdhistory813960\">-8.6585722063289</td><td class=\"tdhistory813960\">6e-07</td><td class=\"tdhistory813960\">n</td></tr><tr><th class=\"tdhistory813960\" style= \"background: rgba(243, 243, 243, 0.75)\">14</th><td class=\"tdhistory813960\">8</td><td class=\"tdhistory813960\">804</td><td class=\"tdhistory813960\">-9.852421542827756</td><td class=\"tdhistory813960\">6e-07</td><td class=\"tdhistory813960\">n</td></tr><tr><th class=\"tdhistory813960\" style= \"background: rgba(243, 243, 243, 0.75)\">15</th><td class=\"tdhistory813960\">2</td><td class=\"tdhistory813960\">774</td><td class=\"tdhistory813960\">-13.474895003968802</td><td class=\"tdhistory813960\">6e-07</td><td class=\"tdhistory813960\">n</td></tr></tbody></table></div>"
      ]
     },
     "execution_count": 30,
     "metadata": {
      "application/vnd.teradata.resultset": "{\"resultSetID\":\"/home/jovyan/JupyterLabRoot/Teradata/Resultsets/2023.07.14_09.17.53.262_UTC\",\"historyID\":346,\"chunkID\":\"00001\",\"sessionid\":\"\",\"portnum\":\"\",\"dockermode\":\"docker\",\"totalRowCount\":15,\"chunkCount\":0,\"rowLimit\":0,\"columnMetadata\":[{\"columnName\":\"tot_cust_years\",\"columnTypeName\":\"INTEGER\"},{\"columnNumber\":1,\"columnName\":\"N\",\"columnTypeName\":\"FLOAT\"},{\"columnNumber\":2,\"columnName\":\"Z_\",\"columnTypeName\":\"FLOAT\"},{\"columnNumber\":3,\"columnName\":\"WilcoxonPValue\",\"columnTypeName\":\"FLOAT\"},{\"columnNumber\":4,\"columnName\":\"WilcoxonCallP_5E-2\",\"columnTypeName\":\"VARCHAR\",\"length\":1,\"scale\":1}]}"
     },
     "output_type": "execute_result"
    }
   ],
   "source": [
    "call val.td_analyze('ranktest',\n",
    "                         'teststyle=wilcoxon;\n",
    "                          statsdatabase=val;\n",
    "                          database=demo_user;\n",
    "                          tablename=VAL_ADS;\n",
    "                          firstcolumn=ck_avg_bal;\n",
    "                          secondcolumn=sv_avg_bal;\n",
    "                          groupby=tot_cust_years; ');"
   ]
  },
  {
   "cell_type": "markdown",
   "metadata": {},
   "source": [
    "<p style = 'font-size:16px;font-family:Arial'>The above output has the output columns as below(If there are groupby columns, they comprise the UPI. Otherwise, Z_ is the UPI.)\n",
    "\n",
    "teststyle = wilcoxon</p>\n",
    "\n",
    " <table style = 'font-size:14px;font-family:Arial'>\n",
    "  <tr>\n",
    "    <th>Column</th>\n",
    "    <th>DataType</th>\n",
    "    <th>Description</th>\n",
    "  </tr>\n",
    "  <tr>\n",
    "    <td>N</td>\n",
    "    <td>Integer</td>  \n",
    "    <td>Variable count.</td>\n",
    "  </tr>\n",
    "  <tr>\n",
    "    <td>Z_</td>\n",
    "    <td>Float</td>  \n",
    "    <td>Mann-Whitney Z statistic.</td>\n",
    "  </tr>\n",
    "  <tr>\n",
    "    <td>WilcoxonPValue</td>\n",
    "    <td>Float</td>  \n",
    "    <td>Probability associated with Wilcoxon statistic.</td>\n",
    "  </tr>  \n",
    "  <tr>\n",
    "    <td>WilcoxonCallP_0.05</td>\n",
    "    <td>Char</td>  \n",
    "    <td>Wilcoxon result:\n",
    "        <li>a=accept null hypothesis</li>\n",
    "        <li>p=reject null hypothesis(positive)</li>\n",
    "        <li>n=reject null hypothesis(negative)</li>\n",
    "    </td>\n",
    "  </tr>    \n",
    "</table>\n",
    "   \n",
    "<p>"
   ]
  },
  {
   "cell_type": "markdown",
   "metadata": {},
   "source": [
    "<p style = 'font-size:16px;font-family:Arial'>4.  A Friedman Test using a specially prepared input table called VAL_Friedman_WorkTable.  To build the VALFriedmanWorkTable, the following SQL may be used.  Note that the value ‘18’ is the smallest count of value combinations in the gender and marital_status columns in the Customer table.  The value '18'  is determined using the following query:</p>"
   ]
  },
  {
   "cell_type": "code",
   "execution_count": 31,
   "metadata": {},
   "outputs": [
    {
     "data": {
      "application/vnd.teradata.resultset": "\"smallest_count\"\n\"252\"",
      "text/html": [
       "<div class = \"td-resultset-table-div\" style = \"max-height: 100%; overflow-y: auto\">\n",
       "      <table class=\"tdhistory240671\"><style>\n",
       "      table.tdhistory240671 { display: block !important; min-height: 105px !important; overflow: auto !important; height: 105px !important; width: 100% !important; border: 1px solid rgb(207, 207, 207) !important; border-collapse: collapse !important; ; color: var(--jp-ui-font-color1) !important; }\n",
       "      th.tdhistory240671 { border: 1px solid rgb(198,198,198) !important; border-collapse: collapse !important; ; padding: 2px 5px !important; ; font-size: 13px !important; ; text-align: center !important; white-space: normal !important; color: var(--jp-ui-font-color1) !important; }\n",
       "      th.tdhistory240671:last-child { text-align: left !important; }\n",
       "      tbody.tdhistory240671 tr:nth-child(even) { background: rgba(243, 243, 243, 0.75) !important; }\n",
       "      tbody.tdhistory240671 tr:nth-child(odd) { background: var(--jp-ui-inverse-font-color1) !important; }\n",
       "      td.tdhistory240671 { border: 1px solid rgb(207, 207, 207) !important; border-collapse: collapse !important; ; padding: 2px 5px !important; ; font-size: 13px !important; ; text-align: left !important;          white-space: nowrap !important; overflow:hidden !important; text-overflow:ellipsis !important;; }\n",
       "    </style><thead><tr style= \"background: rgba(243, 243, 243, 0.75)\"><th class=\"tdhistory240671\"></th><th class=\"tdhistory240671\">smallest_count</th></tr></thead><tbody class=\"tdhistory240671 resultset-body\"><tr><th class=\"tdhistory240671\" style= \"background: rgba(243, 243, 243, 0.75)\">1</th><td class=\"tdhistory240671\">252</td></tr></tbody></table></div>"
      ]
     },
     "execution_count": 31,
     "metadata": {
      "application/vnd.teradata.resultset": "{\"resultSetID\":\"/home/jovyan/JupyterLabRoot/Teradata/Resultsets/2023.07.14_09.17.54.079_UTC\",\"historyID\":347,\"chunkID\":\"00001\",\"sessionid\":\"\",\"portnum\":\"\",\"dockermode\":\"docker\",\"totalRowCount\":1,\"chunkCount\":0,\"rowLimit\":0,\"columnMetadata\":[{\"columnName\":\"smallest_count\",\"columnTypeName\":\"INTEGER\"}]}"
     },
     "output_type": "execute_result"
    }
   ],
   "source": [
    "SELECT \n",
    "     MIN(\"T0\".\"_val_N\") AS \"smallest_count\"\n",
    "FROM \n",
    "( SELECT \n",
    "     \"S0\".\"marital_status\" AS \"marital_status\"\n",
    "    ,\"S0\".\"gender\" AS \"gender\"\n",
    "    ,COUNT(*) AS \"_val_N\"\n",
    "FROM \"DEMO_Financial\".\"Customer\" AS \"S0\"\n",
    "GROUP BY \"S0\".\"marital_status\", \"S0\".\"gender\"\n",
    ") AS \"T0\"\n",
    ";"
   ]
  },
  {
   "cell_type": "code",
   "execution_count": 32,
   "metadata": {},
   "outputs": [
    {
     "data": {
      "text/plain": [
       "Success: 0 rows affected"
      ]
     },
     "execution_count": 32,
     "metadata": {
      "application/vnd.teradata.resultset": ""
     },
     "output_type": "execute_result"
    }
   ],
   "source": [
    "CREATE SET TABLE \"demo_user\".\"VAL_Friedman_Worktable\" AS (\n",
    "SELECT\n",
    "    \"cust_id\"\n",
    "    ,\"gender\"\n",
    "    ,\"marital_status\"\n",
    "    ,\"income\"\n",
    "    ,\"ckacct\"\n",
    "    ,\"svacct\"\n",
    "    ,SAMPLEID AS \"xSampleId\"\n",
    "FROM \"DEMO_Financial\".\"Customer_Analysis\"\n",
    "SAMPLE \n",
    "    WHEN gender='f' and marital_status='1' THEN 18\n",
    "    WHEN gender='f' and marital_status='2' THEN 18\n",
    "    WHEN gender='f' and marital_status='3' THEN 18\n",
    "    WHEN gender='f' and marital_status='4' THEN 18\n",
    "    WHEN gender='m' and marital_status='1' THEN 18\n",
    "    WHEN gender='m' and marital_status='2' THEN 18\n",
    "    WHEN gender='m' and marital_status='3' THEN 18\n",
    "    WHEN gender='m' and marital_status='4' THEN 18\n",
    "END\n",
    ") WITH DATA PRIMARY INDEX(\"cust_id\");"
   ]
  },
  {
   "cell_type": "code",
   "execution_count": 33,
   "metadata": {},
   "outputs": [
    {
     "data": {
      "text/plain": [
       "Success: 0 rows affected"
      ]
     },
     "execution_count": 33,
     "metadata": {
      "application/vnd.teradata.resultset": ""
     },
     "output_type": "execute_result"
    },
    {
     "data": {
      "application/vnd.teradata.resultset": "\"Kendalls_W\",\"Average_Spearmans_Rho\",\"DF_1\",\"DF_2\",\"F\",\"FriedmanPValue\",\"FriedmanPText\",\"FriedmanCallP_5E-2\"\n\"0.7632672430156512\",\"0.7740174858750265\",\"1\",\"71\",\"228.91624692941855\",\"0.001\",\"<0.001\",\"p\"",
      "text/html": [
       "<div class = \"td-resultset-table-div\" style = \"max-height: 100%; overflow-y: auto\">\n",
       "      <table class=\"tdhistory371702\"><style>\n",
       "      table.tdhistory371702 { display: block !important; min-height: 105px !important; overflow: auto !important; height: 105px !important; width: 100% !important; border: 1px solid rgb(207, 207, 207) !important; border-collapse: collapse !important; ; color: var(--jp-ui-font-color1) !important; }\n",
       "      th.tdhistory371702 { border: 1px solid rgb(198,198,198) !important; border-collapse: collapse !important; ; padding: 2px 5px !important; ; font-size: 13px !important; ; text-align: center !important; white-space: normal !important; color: var(--jp-ui-font-color1) !important; }\n",
       "      th.tdhistory371702:last-child { text-align: left !important; }\n",
       "      tbody.tdhistory371702 tr:nth-child(even) { background: rgba(243, 243, 243, 0.75) !important; }\n",
       "      tbody.tdhistory371702 tr:nth-child(odd) { background: var(--jp-ui-inverse-font-color1) !important; }\n",
       "      td.tdhistory371702 { border: 1px solid rgb(207, 207, 207) !important; border-collapse: collapse !important; ; padding: 2px 5px !important; ; font-size: 13px !important; ; text-align: left !important;          white-space: nowrap !important; overflow:hidden !important; text-overflow:ellipsis !important;; }\n",
       "    </style><thead><tr style= \"background: rgba(243, 243, 243, 0.75)\"><th class=\"tdhistory371702\"></th><th class=\"tdhistory371702\">Kendalls_W</th><th class=\"tdhistory371702\">Average_Spearmans_Rho</th><th class=\"tdhistory371702\">DF_1</th><th class=\"tdhistory371702\">DF_2</th><th class=\"tdhistory371702\">F</th><th class=\"tdhistory371702\">FriedmanPValue</th><th class=\"tdhistory371702\">FriedmanPText</th><th class=\"tdhistory371702\">FriedmanCallP_5E-2</th></tr></thead><tbody class=\"tdhistory371702 resultset-body\"><tr><th class=\"tdhistory371702\" style= \"background: rgba(243, 243, 243, 0.75)\">1</th><td class=\"tdhistory371702\">0.7632672430156512</td><td class=\"tdhistory371702\">0.7740174858750265</td><td class=\"tdhistory371702\">1</td><td class=\"tdhistory371702\">71</td><td class=\"tdhistory371702\">228.91624692941855</td><td class=\"tdhistory371702\">0.001</td><td class=\"tdhistory371702\"><0.001</td><td class=\"tdhistory371702\">p</td></tr></tbody></table></div>"
      ]
     },
     "execution_count": 33,
     "metadata": {
      "application/vnd.teradata.resultset": "{\"resultSetID\":\"/home/jovyan/JupyterLabRoot/Teradata/Resultsets/2023.07.14_09.17.58.770_UTC\",\"historyID\":349,\"chunkID\":\"00001\",\"sessionid\":\"\",\"portnum\":\"\",\"dockermode\":\"docker\",\"totalRowCount\":1,\"chunkCount\":0,\"rowLimit\":0,\"columnMetadata\":[{\"columnName\":\"Kendalls_W\",\"columnTypeName\":\"FLOAT\"},{\"columnNumber\":1,\"columnName\":\"Average_Spearmans_Rho\",\"columnTypeName\":\"FLOAT\"},{\"columnNumber\":2,\"columnName\":\"DF_1\",\"columnTypeName\":\"INTEGER\"},{\"columnNumber\":3,\"columnName\":\"DF_2\",\"columnTypeName\":\"INTEGER\"},{\"columnNumber\":4,\"columnName\":\"F\",\"columnTypeName\":\"FLOAT\"},{\"columnNumber\":5,\"columnName\":\"FriedmanPValue\",\"columnTypeName\":\"FLOAT\"},{\"columnNumber\":6,\"columnName\":\"FriedmanPText\",\"columnTypeName\":\"VARCHAR\",\"length\":6,\"scale\":6},{\"columnNumber\":7,\"columnName\":\"FriedmanCallP_5E-2\",\"columnTypeName\":\"VARCHAR\",\"length\":1,\"scale\":1}]}"
     },
     "output_type": "execute_result"
    }
   ],
   "source": [
    "call val.td_analyze('ranktest',\n",
    "                         'teststyle=friedman;\n",
    "                          statsdatabase=val;\n",
    "                          database=demo_user;\n",
    "                          tablename=VAL_Friedman_Worktable;\n",
    "                          columnofinterest=income;\n",
    "                          treatmentcolumn=gender;\n",
    "                          blockcolumn=marital_status;');"
   ]
  },
  {
   "cell_type": "markdown",
   "metadata": {},
   "source": [
    "<p style = 'font-size:16px;font-family:Arial'>The above output has the output columns as below(If there are groupby columns, they comprise the UPI. Otherwise, Kendalls_W is the UPI.)\n",
    "\n",
    "teststyle = friedman</p>\n",
    "\n",
    " <table style = 'font-size:14px;font-family:Arial'>\n",
    "  <tr>\n",
    "    <th>Column</th>\n",
    "    <th>DataType</th>\n",
    "    <th>Description</th>\n",
    "  </tr>\n",
    "  <tr>\n",
    "    <td>Kendalls_W</td>\n",
    "    <td>Float</td>  \n",
    "    <td>Kendall's W statistic.</td>\n",
    "  </tr>\n",
    "  <tr>\n",
    "    <td>Average_Spearmans_Rho</td>\n",
    "    <td>Float</td>  \n",
    "    <td>Average Spearman's Rho.</td>\n",
    "  </tr>\n",
    "  <tr>\n",
    "    <td>DF_1</td>\n",
    "    <td>Integer</td>  \n",
    "    <td>Degrees of freedom for treatments.</td>\n",
    "  </tr> \n",
    "  <tr>\n",
    "    <td>DF_2</td>\n",
    "    <td>Integer</td>  \n",
    "    <td>Degrees of freedom for blocks.</td>\n",
    "  </tr> \n",
    "  <tr>\n",
    "    <td>F</td>\n",
    "    <td>Float</td>  \n",
    "    <td>2-way ANOVA F statistic on ranks.</td>\n",
    "  </tr>\n",
    "  <tr>\n",
    "    <td>FriedmanPValue</td>\n",
    "    <td>Float</td>  \n",
    "    <td>Probability associated with Friedman statistic.</td>\n",
    "  </tr>\n",
    "  <tr>\n",
    "    <td>FriedmanPText</td>\n",
    "    <td>Char</td>  \n",
    "    <td>Text description of probability if out of table range.</td>\n",
    "  </tr>\n",
    "  <tr>\n",
    "    <td>FriedmanCallP_0.05</td>\n",
    "    <td>Char</td>  \n",
    "    <td>Friedman result:\n",
    "        <li>a=accept null hypothesis</li>\n",
    "        <li>p=reject null hypothesis(positive)</li>\n",
    "        <li>n=reject null hypothesis(negative)</li>\n",
    "    </td>\n",
    "  </tr>    \n",
    "</table>\n",
    "   \n",
    "<p>"
   ]
  },
  {
   "cell_type": "markdown",
   "metadata": {},
   "source": [
    "---"
   ]
  },
  {
   "cell_type": "markdown",
   "metadata": {},
   "source": [
    "<p style = 'font-size:20px;font-family:Arial;color:#E37C4D'><b>8. Chi Square Tests</b></p>\n",
    "\n",
    "<p style = 'font-size:16px;font-family:Arial;color:#E37C4D'><b>Purpose</b></p>\n",
    "\n",
    "<p style = 'font-size:16px;font-family:Arial'>Statistical tests of this type are based on a matrix of frequencies or counts.  A frequency pattern that is non-random is sought in the matrix.  Supported tests of this type include the following:\n",
    "\n",
    "<li>Chi Square Test</li>\n",
    "</p>\n",
    "\n",
    "<p style = 'font-size:16px;font-family:Arial'>Besides a Chi Square value, other measures are computed in a Chi Square Test, including a Phi Coefficient,  Cramer’s V, Likelihood Ratio Chi Square, Continuity-Adjusted Chi Square and Contingency Coefficient.\n",
    "\n",
    "<li>Median Test</li>\n",
    "</p>\n",
    "    \n",
    "<p style = 'font-size:16px;font-family:Arial'>A Median Test is a variation of Chi Square Test wherein samples are tested to see if their populations have the same median value.</p>\n",
    "\n",
    "<p style = 'font-size:16px;font-family:Arial;color:#E37C4D'><b>Required Parameters</b></p>\n",
    "\n",
    "<p style = 'font-size:16px;font-family:Arial'><b>- **chisquaretest**</b></p>\n",
    "\n",
    "<p style = 'font-size:16px;font-family:Arial'>The chisquaretest parameter:\n",
    "    \n",
    "<li>Is required</li>\n",
    "<li>Must be the first parameter</li>\n",
    "<li>Is always enclosed in single quotes</li>\n",
    "</p>\n",
    "\n",
    "<p style = 'font-size:16px;font-family:Arial'><b>- **database**</b></p>\n",
    "\n",
    "<p style = 'font-size:16px;font-family:Arial'>The database containing the table to analyze.</p>\n",
    "\n",
    "<p style = 'font-size:16px;font-family:Arial'><b>- **tablename**</b></p>\n",
    "\n",
    "<p style = 'font-size:16px;font-family:Arial'>The table containing the columns to analyze.  It must reside in the database indicated by the database parameter.</p>\n",
    "\n",
    "<p style = 'font-size:16px;font-family:Arial;color:#E37C4D'><b>Optional Parameters</b></p>\n",
    "\n",
    "<p style = 'font-size:16px;font-family:Arial'><b>- **columnofinterest**</b></p>\n",
    "\n",
    "<p style = 'font-size:16px;font-family:Arial'>Used only by the Median Test, the column specified with this parameter indicates the dependent variable (numeric).  It must reside in the table indicated by the tablename parameter.</p>\n",
    "\n",
    "<p style = 'font-size:16px;font-family:Arial'><b>- **columns**</b></p>\n",
    "\n",
    "<p style = 'font-size:16px;font-family:Arial'>Used only by the Median Test, the columns specified with this parameter represent the independent variables (categorical). They must reside in the table indicated by the tablename parameter.</p>\n",
    "\n",
    "<p style = 'font-size:16px;font-family:Arial'><b>- **fallback**</b></p>\n",
    "\n",
    "<p style = 'font-size:16px;font-family:Arial'>When true, FALLBACK is requested as an attribute of the created output results table.  When false or parameter not specified, the FALLBACK attribute is not included in the create table SQL.</p>\n",
    "\n",
    "<p style = 'font-size:16px;font-family:Arial'><b>- **firstcolumns**</b></p>\n",
    "\n",
    "<p style = 'font-size:16px;font-family:Arial'>Used only by the Chi Square Test, one or more columns representing the first of variable pairs for analysis. They must reside in the table indicated by the tablename parameter.  Note that the number of combinations of firstcolumns and secondcolumns may not exceed 100.  Note also that if the product of the number distinct values in these column pairs exceeds 2000, the analysis of that combination is skipped (but not if gensqlonly is true).</p>\n",
    "\n",
    "<p style = 'font-size:16px;font-family:Arial'><b>- **gensqlonly**</b></p>\n",
    "\n",
    "<p style = 'font-size:16px;font-family:Arial'>When true, the SQL for the requested function is returned as a result set but not run. When not specified or set to false, the SQL is run but not returned.</p>\n",
    "\n",
    "<p style = 'font-size:16px;font-family:Arial'><b>- **groupby**</b></p>\n",
    "\n",
    "<p style = 'font-size:16px;font-family:Arial'>Available only in the Median Test, one or more group-by columns may optionally be specified so that a separate result is produced for each value or combination of values in the specified column or columns.</p>\n",
    "\n",
    "<p style = 'font-size:16px;font-family:Arial'><b>- **multiset**</b></p>\n",
    "\n",
    "<p style = 'font-size:16px;font-family:Arial'>When true, MULTISET is requested as an attribute of the created output results table.  When false or parameter not specified, the MULTISET attribute is not included in the create table SQL.</p>\n",
    "\n",
    "<p style = 'font-size:16px;font-family:Arial'><b>- **outputdatabase**</b></p>\n",
    "\n",
    "<p style = 'font-size:16px;font-family:Arial'>Specifies the name of the database to contain the analysis results table.</p>\n",
    "\n",
    "<p style = 'font-size:16px;font-family:Arial'><b>- **outputtablename**</b></p>\n",
    "\n",
    "<p style = 'font-size:16px;font-family:Arial'>Specifies the name of the table to store the analysis results. If not supplied, the results are returned as a result set.</p>\n",
    "\n",
    "<p style = 'font-size:16px;font-family:Arial'><b>- **overwrite**</b></p>\n",
    "\n",
    "<p style = 'font-size:16px;font-family:Arial'>When overwrite is set to true or not set, the output table is dropped before creating a new one.</p>\n",
    "\n",
    "<p style = 'font-size:16px;font-family:Arial'><b>- **secondcolumns**</b></p>\n",
    "\n",
    "<p style = 'font-size:16px;font-family:Arial'>Used only by the Chi Square Test, one or more columns representing the second of variable pairs for analysis. They must reside in the table indicated by the tablename parameter.  Note that the number of combinations of firstcolumns and secondcolumns may not exceed 100.  Note also that if the product of the number distinct values in these column pairs exceeds 2000, the analysis of that combination is skipped (but not if gensqlonly is true).</p>\n",
    "\n",
    "<p style = 'font-size:16px;font-family:Arial'><b>- **statsdatabase**</b></p>\n",
    "\n",
    "<p style = 'font-size:16px;font-family:Arial'>This is the database where the statistical test metadata tables are installed.  If not specified, the source database is searched for these metadata tables.</p>\n",
    "\n",
    "<p style = 'font-size:16px;font-family:Arial'><b>- **teststyle**</b></p>\n",
    "\n",
    "<p style = 'font-size:16px;font-family:Arial'>The valid values are chisq and median, representing a Chi Square or Median test.  If not specified, the default test style is Chi Square (chisq).</p>\n",
    "\n",
    "<p style = 'font-size:16px;font-family:Arial'><b>- **thresholdprobability**</b></p>\n",
    "\n",
    "<p style = 'font-size:16px;font-family:Arial'>You may optionally change the threshold probability or allow it to default to 0.05.  Below this \"alpha\" probability the null hypothesis is rejected.</p>"
   ]
  },
  {
   "cell_type": "markdown",
   "metadata": {},
   "source": [
    "---------------------------"
   ]
  },
  {
   "cell_type": "markdown",
   "metadata": {},
   "source": [
    "<p style = 'font-size:16px;font-family:Arial'>1.  Chi Square Test with non-persisted results.</p>"
   ]
  },
  {
   "cell_type": "code",
   "execution_count": 34,
   "metadata": {},
   "outputs": [
    {
     "data": {
      "text/plain": [
       "Success: 0 rows affected"
      ]
     },
     "execution_count": 34,
     "metadata": {
      "application/vnd.teradata.resultset": ""
     },
     "output_type": "execute_result"
    },
    {
     "data": {
      "application/vnd.teradata.resultset": "\"column1\",\"column2\",\"Chisq\",\"DF\",\"Z\",\"CramersV\",\"PhiCoeff\",\"LlhChiSq\",\"ContAdjChiSq\",\"ContinCoeff\",\"ChiPValue\",\"ChiPText\",\"ChiCallP_5E-2\"\n\"female_ind\",\"ck_acct_ind\",\"51.96329114361818\",\"1\",\"6.266072413236709\",\"0.07048943119690093\",\"0.07048943119690093\",\"51.79027403137195\",\"51.65502985345838\",\"0.07031495858282666\",\"0.0001\",\"<0.0001\",\"p\"\n\"single_ind\",\"sv_acct_ind\",\"111.33800714811451\",\"1\",\"8.555265794438732\",\"0.10318044653217087\",\"0.10318044653217087\",\"112.15138339109859\",\"110.90737820419025\",\"0.10263555340590276\",\"0.0001\",\"<0.0001\",\"p\"\n\"female_ind\",\"sv_acct_ind\",\"73.52013882165669\",\"1\",\"7.23680826136689\",\"0.08384532268145405\",\"0.08384532268145405\",\"73.48997707707434\",\"73.17998066361037\",\"0.08355214963436529\",\"0.0001\",\"<0.0001\",\"p\"\n\"single_ind\",\"cc_acct_ind\",\"21.541917084755497\",\"1\",\"4.252562129760672\",\"0.04538557648792909\",\"0.04538557648792909\",\"21.461624947837834\",\"21.347967794596418\",\"0.04533890482563551\",\"0.0001\",\"<0.0001\",\"p\"\n\"single_ind\",\"ck_acct_ind\",\"3.722261430607426\",\"1\",\"1.6376557333933495\",\"0.018865969038997184\",\"0.018865969038997184\",\"3.7119507979566606\",\"3.6377618158186986\",\"0.018862612501963423\",\"0.055246604425102215\",\"\",\"a\"\n\"female_ind\",\"cc_acct_ind\",\"84.45466569698048\",\"1\",\"7.657179013939365\",\"0.08986436396365856\",\"0.08986436396365856\",\"84.28739385913224\",\"84.08086832585147\",\"0.08950369247502081\",\"0.0001\",\"<0.0001\",\"p\"",
      "text/html": [
       "<div class = \"td-resultset-table-div\" style = \"max-height: 100%; overflow-y: auto\">\n",
       "      <table class=\"tdhistory275944\"><style>\n",
       "      table.tdhistory275944 { display: block !important; min-height: 210px !important; overflow: auto !important; height: 210px !important; width: 100% !important; border: 1px solid rgb(207, 207, 207) !important; border-collapse: collapse !important; ; color: var(--jp-ui-font-color1) !important; }\n",
       "      th.tdhistory275944 { border: 1px solid rgb(198,198,198) !important; border-collapse: collapse !important; ; padding: 2px 5px !important; ; font-size: 13px !important; ; text-align: center !important; white-space: normal !important; color: var(--jp-ui-font-color1) !important; }\n",
       "      th.tdhistory275944:last-child { text-align: left !important; }\n",
       "      tbody.tdhistory275944 tr:nth-child(even) { background: rgba(243, 243, 243, 0.75) !important; }\n",
       "      tbody.tdhistory275944 tr:nth-child(odd) { background: var(--jp-ui-inverse-font-color1) !important; }\n",
       "      td.tdhistory275944 { border: 1px solid rgb(207, 207, 207) !important; border-collapse: collapse !important; ; padding: 2px 5px !important; ; font-size: 13px !important; ; text-align: left !important;          white-space: nowrap !important; overflow:hidden !important; text-overflow:ellipsis !important;; }\n",
       "    </style><thead><tr style= \"background: rgba(243, 243, 243, 0.75)\"><th class=\"tdhistory275944\"></th><th class=\"tdhistory275944\">column1</th><th class=\"tdhistory275944\">column2</th><th class=\"tdhistory275944\">Chisq</th><th class=\"tdhistory275944\">DF</th><th class=\"tdhistory275944\">Z</th><th class=\"tdhistory275944\">CramersV</th><th class=\"tdhistory275944\">PhiCoeff</th><th class=\"tdhistory275944\">LlhChiSq</th><th class=\"tdhistory275944\">ContAdjChiSq</th><th class=\"tdhistory275944\">ContinCoeff</th><th class=\"tdhistory275944\">ChiPValue</th><th class=\"tdhistory275944\">ChiPText</th><th class=\"tdhistory275944\">ChiCallP_5E-2</th></tr></thead><tbody class=\"tdhistory275944 resultset-body\"><tr><th class=\"tdhistory275944\" style= \"background: rgba(243, 243, 243, 0.75)\">1</th><td class=\"tdhistory275944\">female_ind</td><td class=\"tdhistory275944\">ck_acct_ind</td><td class=\"tdhistory275944\">51.96329114361818</td><td class=\"tdhistory275944\">1</td><td class=\"tdhistory275944\">6.266072413236709</td><td class=\"tdhistory275944\">0.07048943119690093</td><td class=\"tdhistory275944\">0.07048943119690093</td><td class=\"tdhistory275944\">51.79027403137195</td><td class=\"tdhistory275944\">51.65502985345838</td><td class=\"tdhistory275944\">0.07031495858282666</td><td class=\"tdhistory275944\">0.0001</td><td class=\"tdhistory275944\"><0.0001</td><td class=\"tdhistory275944\">p</td></tr><tr><th class=\"tdhistory275944\" style= \"background: rgba(243, 243, 243, 0.75)\">2</th><td class=\"tdhistory275944\">single_ind</td><td class=\"tdhistory275944\">sv_acct_ind</td><td class=\"tdhistory275944\">111.33800714811451</td><td class=\"tdhistory275944\">1</td><td class=\"tdhistory275944\">8.555265794438732</td><td class=\"tdhistory275944\">0.10318044653217087</td><td class=\"tdhistory275944\">0.10318044653217087</td><td class=\"tdhistory275944\">112.15138339109859</td><td class=\"tdhistory275944\">110.90737820419025</td><td class=\"tdhistory275944\">0.10263555340590276</td><td class=\"tdhistory275944\">0.0001</td><td class=\"tdhistory275944\"><0.0001</td><td class=\"tdhistory275944\">p</td></tr><tr><th class=\"tdhistory275944\" style= \"background: rgba(243, 243, 243, 0.75)\">3</th><td class=\"tdhistory275944\">female_ind</td><td class=\"tdhistory275944\">sv_acct_ind</td><td class=\"tdhistory275944\">73.52013882165669</td><td class=\"tdhistory275944\">1</td><td class=\"tdhistory275944\">7.23680826136689</td><td class=\"tdhistory275944\">0.08384532268145405</td><td class=\"tdhistory275944\">0.08384532268145405</td><td class=\"tdhistory275944\">73.48997707707434</td><td class=\"tdhistory275944\">73.17998066361037</td><td class=\"tdhistory275944\">0.08355214963436529</td><td class=\"tdhistory275944\">0.0001</td><td class=\"tdhistory275944\"><0.0001</td><td class=\"tdhistory275944\">p</td></tr><tr><th class=\"tdhistory275944\" style= \"background: rgba(243, 243, 243, 0.75)\">4</th><td class=\"tdhistory275944\">single_ind</td><td class=\"tdhistory275944\">cc_acct_ind</td><td class=\"tdhistory275944\">21.541917084755497</td><td class=\"tdhistory275944\">1</td><td class=\"tdhistory275944\">4.252562129760672</td><td class=\"tdhistory275944\">0.04538557648792909</td><td class=\"tdhistory275944\">0.04538557648792909</td><td class=\"tdhistory275944\">21.461624947837834</td><td class=\"tdhistory275944\">21.347967794596418</td><td class=\"tdhistory275944\">0.04533890482563551</td><td class=\"tdhistory275944\">0.0001</td><td class=\"tdhistory275944\"><0.0001</td><td class=\"tdhistory275944\">p</td></tr><tr><th class=\"tdhistory275944\" style= \"background: rgba(243, 243, 243, 0.75)\">5</th><td class=\"tdhistory275944\">single_ind</td><td class=\"tdhistory275944\">ck_acct_ind</td><td class=\"tdhistory275944\">3.722261430607426</td><td class=\"tdhistory275944\">1</td><td class=\"tdhistory275944\">1.6376557333933495</td><td class=\"tdhistory275944\">0.018865969038997184</td><td class=\"tdhistory275944\">0.018865969038997184</td><td class=\"tdhistory275944\">3.7119507979566606</td><td class=\"tdhistory275944\">3.6377618158186986</td><td class=\"tdhistory275944\">0.018862612501963423</td><td class=\"tdhistory275944\">0.055246604425102215</td><td class=\"tdhistory275944\"></td><td class=\"tdhistory275944\">a</td></tr><tr><th class=\"tdhistory275944\" style= \"background: rgba(243, 243, 243, 0.75)\">6</th><td class=\"tdhistory275944\">female_ind</td><td class=\"tdhistory275944\">cc_acct_ind</td><td class=\"tdhistory275944\">84.45466569698048</td><td class=\"tdhistory275944\">1</td><td class=\"tdhistory275944\">7.657179013939365</td><td class=\"tdhistory275944\">0.08986436396365856</td><td class=\"tdhistory275944\">0.08986436396365856</td><td class=\"tdhistory275944\">84.28739385913224</td><td class=\"tdhistory275944\">84.08086832585147</td><td class=\"tdhistory275944\">0.08950369247502081</td><td class=\"tdhistory275944\">0.0001</td><td class=\"tdhistory275944\"><0.0001</td><td class=\"tdhistory275944\">p</td></tr></tbody></table></div>"
      ]
     },
     "execution_count": 34,
     "metadata": {
      "application/vnd.teradata.resultset": "{\"resultSetID\":\"/home/jovyan/JupyterLabRoot/Teradata/Resultsets/2023.07.14_09.18.06.682_UTC\",\"historyID\":350,\"chunkID\":\"00001\",\"sessionid\":\"\",\"portnum\":\"\",\"dockermode\":\"docker\",\"totalRowCount\":6,\"chunkCount\":0,\"rowLimit\":0,\"columnMetadata\":[{\"columnName\":\"column1\",\"columnTypeName\":\"VARCHAR\",\"length\":256,\"scale\":256},{\"columnNumber\":1,\"columnName\":\"column2\",\"columnTypeName\":\"VARCHAR\",\"length\":256,\"scale\":256},{\"columnNumber\":2,\"columnName\":\"Chisq\",\"columnTypeName\":\"FLOAT\"},{\"columnNumber\":3,\"columnName\":\"DF\",\"columnTypeName\":\"BIGINT\"},{\"columnNumber\":4,\"columnName\":\"Z\",\"columnTypeName\":\"FLOAT\"},{\"columnNumber\":5,\"columnName\":\"CramersV\",\"columnTypeName\":\"FLOAT\"},{\"columnNumber\":6,\"columnName\":\"PhiCoeff\",\"columnTypeName\":\"FLOAT\"},{\"columnNumber\":7,\"columnName\":\"LlhChiSq\",\"columnTypeName\":\"FLOAT\"},{\"columnNumber\":8,\"columnName\":\"ContAdjChiSq\",\"columnTypeName\":\"FLOAT\"},{\"columnNumber\":9,\"columnName\":\"ContinCoeff\",\"columnTypeName\":\"FLOAT\"},{\"columnNumber\":10,\"columnName\":\"ChiPValue\",\"columnTypeName\":\"FLOAT\"},{\"columnNumber\":11,\"columnName\":\"ChiPText\",\"columnTypeName\":\"VARCHAR\",\"length\":7,\"scale\":7},{\"columnNumber\":12,\"columnName\":\"ChiCallP_5E-2\",\"columnTypeName\":\"VARCHAR\",\"length\":1,\"scale\":1}]}"
     },
     "output_type": "execute_result"
    }
   ],
   "source": [
    "call val.td_analyze('chisquaretest',\n",
    "                         'statsdatabase=val;\n",
    "                          teststyle=chisq;\n",
    "                          database=demo_user;\n",
    "                          tablename=VAL_ADS;\n",
    "                          firstcolumns=female_ind,single_ind;\n",
    "                          secondcolumns=sv_acct_ind,cc_acct_ind,ck_acct_ind;');"
   ]
  },
  {
   "cell_type": "markdown",
   "metadata": {},
   "source": [
    "<p style = 'font-size:16px;font-family:Arial'>The above output has the output columns as below(Column1 is the UPI.)\n",
    "\n",
    "teststyle = chisq (Default)</p>\n",
    "\n",
    " <table style = 'font-size:14px;font-family:Arial'>\n",
    "  <tr>\n",
    "    <th>Column</th>\n",
    "    <th>DataType</th>\n",
    "    <th>Description</th>\n",
    "  </tr>\n",
    "  <tr>\n",
    "    <td>column1</td>\n",
    "    <td>Char</td>  \n",
    "    <td>First of pair of variables.</td>\n",
    "  </tr>\n",
    "  <tr>\n",
    "    <td>column2</td>\n",
    "    <td>Char</td>  \n",
    "    <td>Second of pair of variables.</td>\n",
    "  </tr>\n",
    "  <tr>\n",
    "    <td>Chisq</td>\n",
    "    <td>Float</td>  \n",
    "    <td>Chi-Squared statistic.</td>\n",
    "  </tr>  \n",
    "  <tr>\n",
    "    <td>DF</td>\n",
    "    <td>Integer</td>  \n",
    "    <td>Degrees of freedom.</td>\n",
    "  </tr>  \n",
    "  <tr>\n",
    "    <td>Z</td>\n",
    "    <td>Float</td>  \n",
    "    <td>Z-score</td>\n",
    "  </tr>  \n",
    "  <tr>\n",
    "    <td>CramersV</td>\n",
    "    <td>Float</td>  \n",
    "    <td>Cramer'sV.</td>\n",
    "  </tr>  \n",
    "  <tr>\n",
    "    <td>PhiCoeff</td>\n",
    "    <td>Float</td>  \n",
    "    <td>Phi coefficient.</td>\n",
    "  </tr>  \n",
    "  <tr>\n",
    "    <td>LlhChiSq</td>\n",
    "    <td>Float</td>  \n",
    "    <td>Likelihood ratio Chi-Squared statistic.</td>\n",
    "  </tr>  \n",
    "  <tr>\n",
    "    <td>ContAdjChiSq</td>\n",
    "    <td>Float</td>  \n",
    "    <td>Continuity-adjusted Chi-Squared statistic.</td>\n",
    "  </tr>  \n",
    "  <tr>\n",
    "    <td>ContinCoeff</td>\n",
    "    <td>Float</td>  \n",
    "    <td>Contingency coefficient.</td>\n",
    "  </tr>  \n",
    "  <tr>\n",
    "    <td>ChiPValue</td>\n",
    "    <td>Float</td>  \n",
    "    <td>Probability associated with Chi-Squared statistic.</td>\n",
    "  </tr>  \n",
    "  <tr>\n",
    "    <td>ChiPText</td>\n",
    "    <td>Float</td>  \n",
    "    <td>Text description if probability is outside table range.</td>\n",
    "  </tr>  \n",
    "  <tr>\n",
    "    <td>ChiCallP_0.05</td>\n",
    "    <td>Char</td>  \n",
    "    <td>Chi-Squared result:\n",
    "        <li>a=accept null hypothesis (not significantly different)</li>\n",
    "        <li>p=reject null hypothesis(positive) (significantly different)</li>\n",
    "        <li>n=reject null hypothesis(negative)</li>\n",
    "    </td>\n",
    "  </tr>    \n",
    "</table>\n",
    "   \n",
    "<p>"
   ]
  },
  {
   "cell_type": "markdown",
   "metadata": {},
   "source": [
    "<p style = 'font-size:16px;font-family:Arial'>2.  Chi Square Test with results persisted in an output table.</p>"
   ]
  },
  {
   "cell_type": "code",
   "execution_count": 35,
   "metadata": {},
   "outputs": [
    {
     "data": {
      "text/plain": [
       "Success: 0 rows affected"
      ]
     },
     "execution_count": 35,
     "metadata": {
      "application/vnd.teradata.resultset": ""
     },
     "output_type": "execute_result"
    }
   ],
   "source": [
    "call val.td_analyze('chisquaretest',\n",
    "                         'statsdatabase=val;\n",
    "                          teststyle=chisq;\n",
    "                          database=demo_user;\n",
    "                          tablename=VAL_ADS;\n",
    "                          firstcolumns=female_ind,single_ind;\n",
    "                          secondcolumns=sv_acct_ind,cc_acct_ind,ck_acct_ind;\n",
    "                          outputdatabase=demo_user;\n",
    "                          outputtablename=_val_chisquare_out;');"
   ]
  },
  {
   "cell_type": "code",
   "execution_count": 36,
   "metadata": {},
   "outputs": [
    {
     "data": {
      "application/vnd.teradata.resultset": "\"column1\",\"column2\",\"Chisq\",\"DF\",\"Z\",\"CramersV\",\"PhiCoeff\",\"LlhChiSq\",\"ContAdjChiSq\",\"ContinCoeff\",\"ChiPValue\",\"ChiPText\",\"ChiCallP_5E-2\"\n\"female_ind\",\"sv_acct_ind\",\"73.52013882165667\",\"1\",\"7.236808261366889\",\"0.08384532268145403\",\"0.08384532268145403\",\"73.48997707707434\",\"73.17998066361035\",\"0.08355214963436527\",\"0.0001\",\"<0.0001\",\"p\"\n\"female_ind\",\"ck_acct_ind\",\"51.963291143618186\",\"1\",\"6.266072413236709\",\"0.07048943119690093\",\"0.07048943119690093\",\"51.79027403137195\",\"51.65502985345838\",\"0.07031495858282666\",\"0.0001\",\"<0.0001\",\"p\"\n\"female_ind\",\"cc_acct_ind\",\"84.45466569698048\",\"1\",\"7.657179013939365\",\"0.08986436396365856\",\"0.08986436396365856\",\"84.28739385913224\",\"84.08086832585147\",\"0.08950369247502081\",\"0.0001\",\"<0.0001\",\"p\"\n\"single_ind\",\"sv_acct_ind\",\"111.33800714811451\",\"1\",\"8.555265794438732\",\"0.10318044653217087\",\"0.10318044653217087\",\"112.15138339109859\",\"110.90737820419025\",\"0.10263555340590276\",\"0.0001\",\"<0.0001\",\"p\"\n\"single_ind\",\"cc_acct_ind\",\"21.541917084755497\",\"1\",\"4.252562129760672\",\"0.04538557648792909\",\"0.04538557648792909\",\"21.461624947837834\",\"21.347967794596418\",\"0.04533890482563551\",\"0.0001\",\"<0.0001\",\"p\"\n\"single_ind\",\"ck_acct_ind\",\"3.7222614306074258\",\"1\",\"1.6376557333933492\",\"0.01886596903899718\",\"0.01886596903899718\",\"3.7119507979566606\",\"3.6377618158186986\",\"0.01886261250196342\",\"0.05524660442510223\",\"\",\"a\"",
      "text/html": [
       "<div class = \"td-resultset-table-div\" style = \"max-height: 100%; overflow-y: auto\">\n",
       "      <table class=\"tdhistory900560\"><style>\n",
       "      table.tdhistory900560 { display: block !important; min-height: 210px !important; overflow: auto !important; height: 210px !important; width: 100% !important; border: 1px solid rgb(207, 207, 207) !important; border-collapse: collapse !important; ; color: var(--jp-ui-font-color1) !important; }\n",
       "      th.tdhistory900560 { border: 1px solid rgb(198,198,198) !important; border-collapse: collapse !important; ; padding: 2px 5px !important; ; font-size: 13px !important; ; text-align: center !important; white-space: normal !important; color: var(--jp-ui-font-color1) !important; }\n",
       "      th.tdhistory900560:last-child { text-align: left !important; }\n",
       "      tbody.tdhistory900560 tr:nth-child(even) { background: rgba(243, 243, 243, 0.75) !important; }\n",
       "      tbody.tdhistory900560 tr:nth-child(odd) { background: var(--jp-ui-inverse-font-color1) !important; }\n",
       "      td.tdhistory900560 { border: 1px solid rgb(207, 207, 207) !important; border-collapse: collapse !important; ; padding: 2px 5px !important; ; font-size: 13px !important; ; text-align: left !important;          white-space: nowrap !important; overflow:hidden !important; text-overflow:ellipsis !important;; }\n",
       "    </style><thead><tr style= \"background: rgba(243, 243, 243, 0.75)\"><th class=\"tdhistory900560\"></th><th class=\"tdhistory900560\">column1</th><th class=\"tdhistory900560\">column2</th><th class=\"tdhistory900560\">Chisq</th><th class=\"tdhistory900560\">DF</th><th class=\"tdhistory900560\">Z</th><th class=\"tdhistory900560\">CramersV</th><th class=\"tdhistory900560\">PhiCoeff</th><th class=\"tdhistory900560\">LlhChiSq</th><th class=\"tdhistory900560\">ContAdjChiSq</th><th class=\"tdhistory900560\">ContinCoeff</th><th class=\"tdhistory900560\">ChiPValue</th><th class=\"tdhistory900560\">ChiPText</th><th class=\"tdhistory900560\">ChiCallP_5E-2</th></tr></thead><tbody class=\"tdhistory900560 resultset-body\"><tr><th class=\"tdhistory900560\" style= \"background: rgba(243, 243, 243, 0.75)\">1</th><td class=\"tdhistory900560\">female_ind</td><td class=\"tdhistory900560\">sv_acct_ind</td><td class=\"tdhistory900560\">73.52013882165667</td><td class=\"tdhistory900560\">1</td><td class=\"tdhistory900560\">7.236808261366889</td><td class=\"tdhistory900560\">0.08384532268145403</td><td class=\"tdhistory900560\">0.08384532268145403</td><td class=\"tdhistory900560\">73.48997707707434</td><td class=\"tdhistory900560\">73.17998066361035</td><td class=\"tdhistory900560\">0.08355214963436527</td><td class=\"tdhistory900560\">0.0001</td><td class=\"tdhistory900560\"><0.0001</td><td class=\"tdhistory900560\">p</td></tr><tr><th class=\"tdhistory900560\" style= \"background: rgba(243, 243, 243, 0.75)\">2</th><td class=\"tdhistory900560\">female_ind</td><td class=\"tdhistory900560\">ck_acct_ind</td><td class=\"tdhistory900560\">51.963291143618186</td><td class=\"tdhistory900560\">1</td><td class=\"tdhistory900560\">6.266072413236709</td><td class=\"tdhistory900560\">0.07048943119690093</td><td class=\"tdhistory900560\">0.07048943119690093</td><td class=\"tdhistory900560\">51.79027403137195</td><td class=\"tdhistory900560\">51.65502985345838</td><td class=\"tdhistory900560\">0.07031495858282666</td><td class=\"tdhistory900560\">0.0001</td><td class=\"tdhistory900560\"><0.0001</td><td class=\"tdhistory900560\">p</td></tr><tr><th class=\"tdhistory900560\" style= \"background: rgba(243, 243, 243, 0.75)\">3</th><td class=\"tdhistory900560\">female_ind</td><td class=\"tdhistory900560\">cc_acct_ind</td><td class=\"tdhistory900560\">84.45466569698048</td><td class=\"tdhistory900560\">1</td><td class=\"tdhistory900560\">7.657179013939365</td><td class=\"tdhistory900560\">0.08986436396365856</td><td class=\"tdhistory900560\">0.08986436396365856</td><td class=\"tdhistory900560\">84.28739385913224</td><td class=\"tdhistory900560\">84.08086832585147</td><td class=\"tdhistory900560\">0.08950369247502081</td><td class=\"tdhistory900560\">0.0001</td><td class=\"tdhistory900560\"><0.0001</td><td class=\"tdhistory900560\">p</td></tr><tr><th class=\"tdhistory900560\" style= \"background: rgba(243, 243, 243, 0.75)\">4</th><td class=\"tdhistory900560\">single_ind</td><td class=\"tdhistory900560\">sv_acct_ind</td><td class=\"tdhistory900560\">111.33800714811451</td><td class=\"tdhistory900560\">1</td><td class=\"tdhistory900560\">8.555265794438732</td><td class=\"tdhistory900560\">0.10318044653217087</td><td class=\"tdhistory900560\">0.10318044653217087</td><td class=\"tdhistory900560\">112.15138339109859</td><td class=\"tdhistory900560\">110.90737820419025</td><td class=\"tdhistory900560\">0.10263555340590276</td><td class=\"tdhistory900560\">0.0001</td><td class=\"tdhistory900560\"><0.0001</td><td class=\"tdhistory900560\">p</td></tr><tr><th class=\"tdhistory900560\" style= \"background: rgba(243, 243, 243, 0.75)\">5</th><td class=\"tdhistory900560\">single_ind</td><td class=\"tdhistory900560\">cc_acct_ind</td><td class=\"tdhistory900560\">21.541917084755497</td><td class=\"tdhistory900560\">1</td><td class=\"tdhistory900560\">4.252562129760672</td><td class=\"tdhistory900560\">0.04538557648792909</td><td class=\"tdhistory900560\">0.04538557648792909</td><td class=\"tdhistory900560\">21.461624947837834</td><td class=\"tdhistory900560\">21.347967794596418</td><td class=\"tdhistory900560\">0.04533890482563551</td><td class=\"tdhistory900560\">0.0001</td><td class=\"tdhistory900560\"><0.0001</td><td class=\"tdhistory900560\">p</td></tr><tr><th class=\"tdhistory900560\" style= \"background: rgba(243, 243, 243, 0.75)\">6</th><td class=\"tdhistory900560\">single_ind</td><td class=\"tdhistory900560\">ck_acct_ind</td><td class=\"tdhistory900560\">3.7222614306074258</td><td class=\"tdhistory900560\">1</td><td class=\"tdhistory900560\">1.6376557333933492</td><td class=\"tdhistory900560\">0.01886596903899718</td><td class=\"tdhistory900560\">0.01886596903899718</td><td class=\"tdhistory900560\">3.7119507979566606</td><td class=\"tdhistory900560\">3.6377618158186986</td><td class=\"tdhistory900560\">0.01886261250196342</td><td class=\"tdhistory900560\">0.05524660442510223</td><td class=\"tdhistory900560\"></td><td class=\"tdhistory900560\">a</td></tr></tbody></table></div>"
      ]
     },
     "execution_count": 36,
     "metadata": {
      "application/vnd.teradata.resultset": "{\"resultSetID\":\"/home/jovyan/JupyterLabRoot/Teradata/Resultsets/2023.07.14_09.18.14.700_UTC\",\"historyID\":352,\"chunkID\":\"00001\",\"sessionid\":\"\",\"portnum\":\"\",\"dockermode\":\"docker\",\"totalRowCount\":6,\"chunkCount\":0,\"rowLimit\":0,\"columnMetadata\":[{\"columnName\":\"column1\",\"columnTypeName\":\"VARCHAR\",\"length\":256,\"scale\":256},{\"columnNumber\":1,\"columnName\":\"column2\",\"columnTypeName\":\"VARCHAR\",\"length\":256,\"scale\":256},{\"columnNumber\":2,\"columnName\":\"Chisq\",\"columnTypeName\":\"FLOAT\"},{\"columnNumber\":3,\"columnName\":\"DF\",\"columnTypeName\":\"BIGINT\"},{\"columnNumber\":4,\"columnName\":\"Z\",\"columnTypeName\":\"FLOAT\"},{\"columnNumber\":5,\"columnName\":\"CramersV\",\"columnTypeName\":\"FLOAT\"},{\"columnNumber\":6,\"columnName\":\"PhiCoeff\",\"columnTypeName\":\"FLOAT\"},{\"columnNumber\":7,\"columnName\":\"LlhChiSq\",\"columnTypeName\":\"FLOAT\"},{\"columnNumber\":8,\"columnName\":\"ContAdjChiSq\",\"columnTypeName\":\"FLOAT\"},{\"columnNumber\":9,\"columnName\":\"ContinCoeff\",\"columnTypeName\":\"FLOAT\"},{\"columnNumber\":10,\"columnName\":\"ChiPValue\",\"columnTypeName\":\"FLOAT\"},{\"columnNumber\":11,\"columnName\":\"ChiPText\",\"columnTypeName\":\"VARCHAR\",\"length\":7,\"scale\":7},{\"columnNumber\":12,\"columnName\":\"ChiCallP_5E-2\",\"columnTypeName\":\"VARCHAR\",\"length\":1,\"scale\":1}]}"
     },
     "output_type": "execute_result"
    }
   ],
   "source": [
    "SELECT * FROM demo_user._val_chisquare_out ORDER BY 1;"
   ]
  },
  {
   "cell_type": "markdown",
   "metadata": {},
   "source": [
    "<p style = 'font-size:16px;font-family:Arial'>3.  Median Test with groupby column years_with_bank, thresholdprobability set to 0.01 and results returned in a result set.</p> "
   ]
  },
  {
   "cell_type": "code",
   "execution_count": 37,
   "metadata": {},
   "outputs": [
    {
     "data": {
      "text/plain": [
       "Success: 0 rows affected"
      ]
     },
     "execution_count": 37,
     "metadata": {
      "application/vnd.teradata.resultset": ""
     },
     "output_type": "execute_result"
    },
    {
     "data": {
      "application/vnd.teradata.resultset": "\"years_with_bank\",\"ChiSq\",\"DF\",\"MedianPValue\",\"MedianPText\",\"MedianCallP_1E-2\"\n\"10\",\"20.81869569607782\",\"3\",\"0.00013383716364114627\",\"\",\"p\"\n\"4\",\"77.54838819017066\",\"3\",\"0.0001\",\"<0.0001\",\"p\"\n\"7\",\"74.72117984547474\",\"3\",\"0.0001\",\"<0.0001\",\"p\"\n\"8\",\"64.78631020023145\",\"3\",\"0.0001\",\"<0.0001\",\"p\"\n\"1\",\"54.205555555555556\",\"3\",\"0.0001\",\"<0.0001\",\"p\"\n\"2\",\"111.94131226907886\",\"3\",\"0.0001\",\"<0.0001\",\"p\"\n\"5\",\"98.98244733043795\",\"3\",\"0.0001\",\"<0.0001\",\"p\"\n\"12\",\"9.167059563099166\",\"3\",\"0.027956035435991015\",\"\",\"a\"\n\"11\",\"0.12788512300707422\",\"3\",\"0.25\",\">0.25\",\"a\"\n\"14\",\"2.233403110047847\",\"3\",\"0.25\",\">0.25\",\"a\"\n\"0\",\"16.604904354904356\",\"3\",\"0.0008843323011702343\",\"\",\"p\"\n\"3\",\"100.0969510011295\",\"3\",\"0.0001\",\"<0.0001\",\"p\"\n\"13\",\"2.8559997422237497\",\"3\",\"0.25\",\">0.25\",\"a\"\n\"9\",\"23.73665898145068\",\"3\",\"0.0001\",\"<0.0001\",\"p\"\n\"6\",\"67.65712906289531\",\"3\",\"0.0001\",\"<0.0001\",\"p\"",
      "text/html": [
       "<div class = \"td-resultset-table-div\" style = \"max-height: 100%; overflow-y: auto\">\n",
       "      <table class=\"tdhistory20103\"><style>\n",
       "      table.tdhistory20103 { display: block !important; min-height: 399px !important; overflow: auto !important; height: 399px !important; width: 100% !important; border: 1px solid rgb(207, 207, 207) !important; border-collapse: collapse !important; ; color: var(--jp-ui-font-color1) !important; }\n",
       "      th.tdhistory20103 { border: 1px solid rgb(198,198,198) !important; border-collapse: collapse !important; ; padding: 2px 5px !important; ; font-size: 13px !important; ; text-align: center !important; white-space: normal !important; color: var(--jp-ui-font-color1) !important; }\n",
       "      th.tdhistory20103:last-child { text-align: left !important; }\n",
       "      tbody.tdhistory20103 tr:nth-child(even) { background: rgba(243, 243, 243, 0.75) !important; }\n",
       "      tbody.tdhistory20103 tr:nth-child(odd) { background: var(--jp-ui-inverse-font-color1) !important; }\n",
       "      td.tdhistory20103 { border: 1px solid rgb(207, 207, 207) !important; border-collapse: collapse !important; ; padding: 2px 5px !important; ; font-size: 13px !important; ; text-align: left !important;          white-space: nowrap !important; overflow:hidden !important; text-overflow:ellipsis !important;; }\n",
       "    </style><thead><tr style= \"background: rgba(243, 243, 243, 0.75)\"><th class=\"tdhistory20103\"></th><th class=\"tdhistory20103\">years_with_bank</th><th class=\"tdhistory20103\">ChiSq</th><th class=\"tdhistory20103\">DF</th><th class=\"tdhistory20103\">MedianPValue</th><th class=\"tdhistory20103\">MedianPText</th><th class=\"tdhistory20103\">MedianCallP_1E-2</th></tr></thead><tbody class=\"tdhistory20103 resultset-body\"><tr><th class=\"tdhistory20103\" style= \"background: rgba(243, 243, 243, 0.75)\">1</th><td class=\"tdhistory20103\">10</td><td class=\"tdhistory20103\">20.81869569607782</td><td class=\"tdhistory20103\">3</td><td class=\"tdhistory20103\">0.00013383716364114627</td><td class=\"tdhistory20103\"></td><td class=\"tdhistory20103\">p</td></tr><tr><th class=\"tdhistory20103\" style= \"background: rgba(243, 243, 243, 0.75)\">2</th><td class=\"tdhistory20103\">4</td><td class=\"tdhistory20103\">77.54838819017066</td><td class=\"tdhistory20103\">3</td><td class=\"tdhistory20103\">0.0001</td><td class=\"tdhistory20103\"><0.0001</td><td class=\"tdhistory20103\">p</td></tr><tr><th class=\"tdhistory20103\" style= \"background: rgba(243, 243, 243, 0.75)\">3</th><td class=\"tdhistory20103\">7</td><td class=\"tdhistory20103\">74.72117984547474</td><td class=\"tdhistory20103\">3</td><td class=\"tdhistory20103\">0.0001</td><td class=\"tdhistory20103\"><0.0001</td><td class=\"tdhistory20103\">p</td></tr><tr><th class=\"tdhistory20103\" style= \"background: rgba(243, 243, 243, 0.75)\">4</th><td class=\"tdhistory20103\">8</td><td class=\"tdhistory20103\">64.78631020023145</td><td class=\"tdhistory20103\">3</td><td class=\"tdhistory20103\">0.0001</td><td class=\"tdhistory20103\"><0.0001</td><td class=\"tdhistory20103\">p</td></tr><tr><th class=\"tdhistory20103\" style= \"background: rgba(243, 243, 243, 0.75)\">5</th><td class=\"tdhistory20103\">1</td><td class=\"tdhistory20103\">54.205555555555556</td><td class=\"tdhistory20103\">3</td><td class=\"tdhistory20103\">0.0001</td><td class=\"tdhistory20103\"><0.0001</td><td class=\"tdhistory20103\">p</td></tr><tr><th class=\"tdhistory20103\" style= \"background: rgba(243, 243, 243, 0.75)\">6</th><td class=\"tdhistory20103\">2</td><td class=\"tdhistory20103\">111.94131226907886</td><td class=\"tdhistory20103\">3</td><td class=\"tdhistory20103\">0.0001</td><td class=\"tdhistory20103\"><0.0001</td><td class=\"tdhistory20103\">p</td></tr><tr><th class=\"tdhistory20103\" style= \"background: rgba(243, 243, 243, 0.75)\">7</th><td class=\"tdhistory20103\">5</td><td class=\"tdhistory20103\">98.98244733043795</td><td class=\"tdhistory20103\">3</td><td class=\"tdhistory20103\">0.0001</td><td class=\"tdhistory20103\"><0.0001</td><td class=\"tdhistory20103\">p</td></tr><tr><th class=\"tdhistory20103\" style= \"background: rgba(243, 243, 243, 0.75)\">8</th><td class=\"tdhistory20103\">12</td><td class=\"tdhistory20103\">9.167059563099166</td><td class=\"tdhistory20103\">3</td><td class=\"tdhistory20103\">0.027956035435991015</td><td class=\"tdhistory20103\"></td><td class=\"tdhistory20103\">a</td></tr><tr><th class=\"tdhistory20103\" style= \"background: rgba(243, 243, 243, 0.75)\">9</th><td class=\"tdhistory20103\">11</td><td class=\"tdhistory20103\">0.12788512300707422</td><td class=\"tdhistory20103\">3</td><td class=\"tdhistory20103\">0.25</td><td class=\"tdhistory20103\">>0.25</td><td class=\"tdhistory20103\">a</td></tr><tr><th class=\"tdhistory20103\" style= \"background: rgba(243, 243, 243, 0.75)\">10</th><td class=\"tdhistory20103\">14</td><td class=\"tdhistory20103\">2.233403110047847</td><td class=\"tdhistory20103\">3</td><td class=\"tdhistory20103\">0.25</td><td class=\"tdhistory20103\">>0.25</td><td class=\"tdhistory20103\">a</td></tr><tr><th class=\"tdhistory20103\" style= \"background: rgba(243, 243, 243, 0.75)\">11</th><td class=\"tdhistory20103\">0</td><td class=\"tdhistory20103\">16.604904354904356</td><td class=\"tdhistory20103\">3</td><td class=\"tdhistory20103\">0.0008843323011702343</td><td class=\"tdhistory20103\"></td><td class=\"tdhistory20103\">p</td></tr><tr><th class=\"tdhistory20103\" style= \"background: rgba(243, 243, 243, 0.75)\">12</th><td class=\"tdhistory20103\">3</td><td class=\"tdhistory20103\">100.0969510011295</td><td class=\"tdhistory20103\">3</td><td class=\"tdhistory20103\">0.0001</td><td class=\"tdhistory20103\"><0.0001</td><td class=\"tdhistory20103\">p</td></tr><tr><th class=\"tdhistory20103\" style= \"background: rgba(243, 243, 243, 0.75)\">13</th><td class=\"tdhistory20103\">13</td><td class=\"tdhistory20103\">2.8559997422237497</td><td class=\"tdhistory20103\">3</td><td class=\"tdhistory20103\">0.25</td><td class=\"tdhistory20103\">>0.25</td><td class=\"tdhistory20103\">a</td></tr><tr><th class=\"tdhistory20103\" style= \"background: rgba(243, 243, 243, 0.75)\">14</th><td class=\"tdhistory20103\">9</td><td class=\"tdhistory20103\">23.73665898145068</td><td class=\"tdhistory20103\">3</td><td class=\"tdhistory20103\">0.0001</td><td class=\"tdhistory20103\"><0.0001</td><td class=\"tdhistory20103\">p</td></tr><tr><th class=\"tdhistory20103\" style= \"background: rgba(243, 243, 243, 0.75)\">15</th><td class=\"tdhistory20103\">6</td><td class=\"tdhistory20103\">67.65712906289531</td><td class=\"tdhistory20103\">3</td><td class=\"tdhistory20103\">0.0001</td><td class=\"tdhistory20103\"><0.0001</td><td class=\"tdhistory20103\">p</td></tr></tbody></table></div>"
      ]
     },
     "execution_count": 37,
     "metadata": {
      "application/vnd.teradata.resultset": "{\"resultSetID\":\"/home/jovyan/JupyterLabRoot/Teradata/Resultsets/2023.07.14_09.18.19.613_UTC\",\"historyID\":353,\"chunkID\":\"00001\",\"sessionid\":\"\",\"portnum\":\"\",\"dockermode\":\"docker\",\"totalRowCount\":15,\"chunkCount\":0,\"rowLimit\":0,\"columnMetadata\":[{\"columnName\":\"years_with_bank\",\"columnTypeName\":\"INTEGER\"},{\"columnNumber\":1,\"columnName\":\"ChiSq\",\"columnTypeName\":\"FLOAT\"},{\"columnNumber\":2,\"columnName\":\"DF\",\"columnTypeName\":\"BIGINT\"},{\"columnNumber\":3,\"columnName\":\"MedianPValue\",\"columnTypeName\":\"FLOAT\"},{\"columnNumber\":4,\"columnName\":\"MedianPText\",\"columnTypeName\":\"VARCHAR\",\"length\":7,\"scale\":7},{\"columnNumber\":5,\"columnName\":\"MedianCallP_1E-2\",\"columnTypeName\":\"VARCHAR\",\"length\":1,\"scale\":1}]}"
     },
     "output_type": "execute_result"
    }
   ],
   "source": [
    "call val.td_analyze('chisquaretest', \n",
    "                         'statsdatabase=val;\n",
    "                          teststyle=median;\n",
    "                          database=DEMO_Financial;\n",
    "                          tablename=Customer;\n",
    "                          columnofinterest=income;\n",
    "                          columns=marital_status;\n",
    "                          groupby=years_with_bank;\n",
    "                          thresholdprobability=0.01;');"
   ]
  },
  {
   "cell_type": "markdown",
   "metadata": {},
   "source": [
    "<p style = 'font-size:16px;font-family:Arial'>The above output has the output columns as below(If there are groupby columns, they comprise the UPI. Otherwise, ChiSq is the UPI.)\n",
    "\n",
    "teststyle = median</p>\n",
    "\n",
    " <table style = 'font-size:14px;font-family:Arial'>\n",
    "  <tr>\n",
    "    <th>Column</th>\n",
    "    <th>DataType</th>\n",
    "    <th>Description</th>\n",
    "  </tr>\n",
    "  <tr>\n",
    "    <td>Chisq</td>\n",
    "    <td>Float</td>  \n",
    "    <td>Chi-Squared statistic.</td>\n",
    "  </tr>  \n",
    "  <tr>\n",
    "    <td>DF</td>\n",
    "    <td>Integer</td>  \n",
    "    <td>Degrees of freedom.</td>\n",
    "  </tr>  \n",
    "  <tr>\n",
    "    <td>MedianPValue</td>\n",
    "    <td>Float</td>  \n",
    "    <td>Probability associated with Chi-Squared statistic.</td>\n",
    "  </tr>  \n",
    "  <tr>\n",
    "    <td>MedianPText</td>\n",
    "    <td>Char</td>  \n",
    "    <td>Text description if probability is outside table range.</td>\n",
    "  </tr>  \n",
    "  <tr>\n",
    "    <td>MedianCallP_0.01</td>\n",
    "    <td>Char</td>  \n",
    "    <td>Chi-Squared result:\n",
    "        <li>a=accept null hypothesis</li>\n",
    "        <li>p=reject null hypothesis(positive)</li>\n",
    "        <li>n=reject null hypothesis(negative)</li>\n",
    "    </td>\n",
    "  </tr>    \n",
    "</table>\n",
    "   \n",
    "<p>"
   ]
  },
  {
   "cell_type": "markdown",
   "metadata": {},
   "source": [
    "---"
   ]
  },
  {
   "cell_type": "markdown",
   "metadata": {},
   "source": [
    "<p style = 'font-size:20px;font-family:Arial;color:#E37C4D'><b>15. Cleanup</b></p>\n",
    "<p style = 'font-size:18px;font-family:Arial;color:#E37C4D'><b>Work Tables</b></p>\n",
    "<p style = 'font-size:18px;font-family:Arial'>Clean up work tables to prevent error next time.</p>"
   ]
  },
  {
   "cell_type": "code",
   "execution_count": 38,
   "metadata": {},
   "outputs": [
    {
     "data": {
      "text/plain": [
       "Success: 21 rows affected"
      ]
     },
     "execution_count": 38,
     "metadata": {
      "application/vnd.teradata.resultset": ""
     },
     "output_type": "execute_result"
    }
   ],
   "source": [
    "DROP TABLE \"demo_user\".\"VAL_Friedman_Worktable\";"
   ]
  },
  {
   "cell_type": "code",
   "execution_count": 39,
   "metadata": {},
   "outputs": [
    {
     "data": {
      "text/plain": [
       "Success: 42 rows affected"
      ]
     },
     "execution_count": 39,
     "metadata": {
      "application/vnd.teradata.resultset": ""
     },
     "output_type": "execute_result"
    }
   ],
   "source": [
    "DROP TABLE \"demo_user\".\"VAL_ADS\";"
   ]
  },
  {
   "cell_type": "markdown",
   "metadata": {},
   "source": [
    "<p style = 'font-size:18px;font-family:Arial;color:#E37C4D'><b>Databases and Tables</b></p>\n",
    "<p style = 'font-size:18px;font-family:Arial'>The following code will clean up tables and databases created above.</p>\n",
    "<p style = 'font-size:16px;font-family:Arial'><b>Note:</b> In case you plan to execute the other notebooks in the VantageAnalyticLibrary , do not run the <b>remove_data</b> procedure below. Also in case you are not removing the databases and tables here , please make sure that you do not execute the <b>get_data</b> procedure in the next VantageAnalyticLibrary notebook.</p>"
   ]
  },
  {
   "cell_type": "code",
   "execution_count": 40,
   "metadata": {},
   "outputs": [
    {
     "data": {
      "text/plain": [
       "Success: 1 rows affected"
      ]
     },
     "execution_count": 40,
     "metadata": {
      "application/vnd.teradata.resultset": ""
     },
     "output_type": "execute_result"
    }
   ],
   "source": [
    "Database demo_user;"
   ]
  },
  {
   "cell_type": "code",
   "execution_count": 41,
   "metadata": {},
   "outputs": [
    {
     "data": {
      "text/plain": [
       "Success: 0 rows affected"
      ]
     },
     "execution_count": 41,
     "metadata": {
      "application/vnd.teradata.resultset": ""
     },
     "output_type": "execute_result"
    },
    {
     "data": {
      "application/vnd.teradata.resultset": "\"Message\"\n\"Removed objects related to DEMO_Financial. That ran for 0:00:05.01\"",
      "text/html": [
       "<div class = \"td-resultset-table-div\" style = \"max-height: 100%; overflow-y: auto\">\n",
       "      <table class=\"tdhistory166573\"><style>\n",
       "      table.tdhistory166573 { display: block !important; min-height: 105px !important; overflow: auto !important; height: 105px !important; width: 100% !important; border: 1px solid rgb(207, 207, 207) !important; border-collapse: collapse !important; ; color: var(--jp-ui-font-color1) !important; }\n",
       "      th.tdhistory166573 { border: 1px solid rgb(198,198,198) !important; border-collapse: collapse !important; ; padding: 2px 5px !important; ; font-size: 13px !important; ; text-align: center !important; white-space: normal !important; color: var(--jp-ui-font-color1) !important; }\n",
       "      th.tdhistory166573:last-child { text-align: left !important; }\n",
       "      tbody.tdhistory166573 tr:nth-child(even) { background: rgba(243, 243, 243, 0.75) !important; }\n",
       "      tbody.tdhistory166573 tr:nth-child(odd) { background: var(--jp-ui-inverse-font-color1) !important; }\n",
       "      td.tdhistory166573 { border: 1px solid rgb(207, 207, 207) !important; border-collapse: collapse !important; ; padding: 2px 5px !important; ; font-size: 13px !important; ; text-align: left !important;          white-space: nowrap !important; overflow:hidden !important; text-overflow:ellipsis !important;; }\n",
       "    </style><thead><tr style= \"background: rgba(243, 243, 243, 0.75)\"><th class=\"tdhistory166573\"></th><th class=\"tdhistory166573\">Message</th></tr></thead><tbody class=\"tdhistory166573 resultset-body\"><tr><th class=\"tdhistory166573\" style= \"background: rgba(243, 243, 243, 0.75)\">1</th><td class=\"tdhistory166573\">Removed objects related to DEMO_Financial. That ran for 0:00:05.01</td></tr></tbody></table></div>"
      ]
     },
     "execution_count": 41,
     "metadata": {
      "application/vnd.teradata.resultset": "{\"resultSetID\":\"/home/jovyan/JupyterLabRoot/Teradata/Resultsets/2023.07.14_09.18.25.977_UTC\",\"historyID\":357,\"chunkID\":\"00001\",\"sessionid\":\"\",\"portnum\":\"\",\"dockermode\":\"docker\",\"totalRowCount\":1,\"chunkCount\":0,\"rowLimit\":0,\"columnMetadata\":[{\"columnName\":\"Message\",\"columnTypeName\":\"VARCHAR\",\"length\":68,\"scale\":68}]}"
     },
     "output_type": "execute_result"
    }
   ],
   "source": [
    "call remove_data('DEMO_Financial');"
   ]
  },
  {
   "cell_type": "markdown",
   "metadata": {},
   "source": [
    "<footer style=\"padding:10px;background:#f9f9f9;border-bottom:3px solid #394851\">©2023 Teradata. All Rights Reserved</footer>"
   ]
  }
 ],
 "metadata": {
  "kernelspec": {
   "display_name": "Teradata SQL",
   "language": "Teradata SQL",
   "name": "teradatasql"
  },
  "language_info": {
   "codemirror_mode": "Teradata SQL",
   "file_extension": ".tdrs",
   "mimetype": "application/vnd.teradata.resultset",
   "name": "Teradata SQL",
   "nbconvert_exporter": "",
   "pygments_lexer": "",
   "version": "16.20"
  }
 },
 "nbformat": 4,
 "nbformat_minor": 4
}
