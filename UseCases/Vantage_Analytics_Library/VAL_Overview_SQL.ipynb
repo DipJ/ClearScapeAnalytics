{
 "cells": [
  {
   "cell_type": "markdown",
   "id": "e575b8d0-c385-4c77-87a6-f2d258be9fee",
   "metadata": {},
   "source": [
    "<header style=\"padding:1px;background:#f9f9f9;border-top:3px solid #00b2b1\"><img id=\"Teradata-logo\" src=\"https://www.teradata.com/Teradata/Images/Rebrand/Teradata_logo-two_color.png\" alt=\"Teradata\" width=\"220\" align=\"right\" />\n",
    "\n",
    "<b style = 'font-size:28px;font-family:Arial;color:#E37C4D'>Overview: Vantage Analytic Library (VAL) \n",
    "\n",
    "</header>\n",
    "\n",
    "<p style = 'font-size:20px;font-family:Arial;color:#E37C4D'><b>Introduction</b></p>\n",
    "\n",
    "Vantage Analytics Library (VAL) is a set of over 50 functions for analyzing data content, performing hypothesis tests and executing advanced analytics. Teradata has been evolving the sophistication of these tools for decades and has now packaged the functionality into a library that is accessed for in-database execution by a stored procedure call.   The stored procedure is passed the name of a function, a list of columns and a set of parameters for the function. \n",
    " \n",
    "<img id=\"Calling-VAL\" src=\"images/VAL_Calling.png\" alt=\"VAL\" width=\"420\" align=\"right\" />    \n",
    "    \n",
    "The stored procedure \"td_analyze( ... )\"  is in the VAL database on Vantage. It can be called by:\n",
    "- A SQL statement that you write\n",
    "- Using the Python teradataml object valib\n",
    "- Using the R package tdplyr\n",
    "   \n",
    "With VAL, you perform complex processing of the data in the database where it is stored instead of the time and complexity involved in exporting the data out of the database and having a client platform with enough storage and processing capacity to perform the analysis. \n",
    "    \n",
    "[![View Video](images/Movie_icon.png)](https://www.google.com/url?sa=t&rct=j&q=&esrc=s&source=web&cd=&cad=rja&uact=8&ved=2ahUKEwjO4cKK-u77AhUhM0QIHbyXAT8QwqsBegQIGRAG&url=https%3A%2F%2Fwww.youtube.com%2Fwatch%3Fv%3DqxNw6sM0amg&usg=AOvVaw2e6UgLGXgWImNTIIPvARhV)\n",
    "[... Video Introduction to VAL](https://www.google.com/url?sa=t&rct=j&q=&esrc=s&source=web&cd=&cad=rja&uact=8&ved=2ahUKEwjO4cKK-u77AhUhM0QIHbyXAT8QwqsBegQIGRAG&url=https%3A%2F%2Fwww.youtube.com%2Fwatch%3Fv%3DqxNw6sM0amg&usg=AOvVaw2e6UgLGXgWImNTIIPvARhV)\n",
    "    \n",
    "<p style = 'font-size:20px;font-family:Arial;color:#E37C4D'><b>Try a simple example</b></p>\n",
    "    \n",
    "There are many descriptions and sample executions in other notebooks (listed at the end of this notebook), but it would help to show a simple example to understand the concept of using VAL.\n",
    "    \n",
    "Click in the following cell, press shift/enter to provide your password.  Then click the next cell to continue"
   ]
  },
  {
   "cell_type": "code",
   "execution_count": null,
   "id": "4c3466ef-e60f-4741-b9cc-501eba8e60bf",
   "metadata": {},
   "outputs": [],
   "source": [
    "%connect local, hidewarnings=true"
   ]
  },
  {
   "cell_type": "markdown",
   "id": "4edfba07-d529-4501-b87f-6abe4b3094fb",
   "metadata": {},
   "source": [
    "<br>The following will use the 'Values' function to analyze one of the built-in sets of data in Vantage's DBC database showing space used by tables. "
   ]
  },
  {
   "cell_type": "code",
   "execution_count": null,
   "id": "bb1e30f2-77a3-4467-8eb9-176e2ed4e269",
   "metadata": {},
   "outputs": [],
   "source": [
    "call val.td_analyze('Values',\n",
    "                         'database=dbc;\n",
    "                          tablename=tablesize;\n",
    "                          columns=all;\n",
    "                          uniques=true');"
   ]
  },
  {
   "cell_type": "markdown",
   "id": "04bd5008-7380-470d-9c52-0a7b8502f810",
   "metadata": {},
   "source": [
    "The above output shows there are 6 columns in dbc.tablesize. The statistics will vary depending on how you've used your environment so far, but there are usually about 6700 rows. There may be 1600-1700 unique values of TableName. Every table on the system is spread across 4 AMPs on this tiny demo system which is why there are 4 unique values for Vproc.\n",
    "\n"
   ]
  },
  {
   "cell_type": "markdown",
   "id": "10b8d278-9bd9-4e1a-a02f-683d429a9563",
   "metadata": {},
   "source": [
    "<p style = 'font-size:20px;font-family:Arial;color:#E37C4D'><b>List of Vantage Analytics Library Functions</b></p>\n",
    "    \n",
    "There are more functions available than just 'Values'.  Here is a list:\n",
    "\n",
    "<img id=\"VAL-Functions\" src=\"images/VAL_Functions.png\" alt=\"VAL\" width=\"1000\" />   \n",
    "\n",
    "\n",
    "<p style = 'font-size:20px;font-family:Arial;color:#E37C4D'><b>Workbooks providing more details</b></p>\n",
    "\n",
    "#### VAL Descriptive Statistics and Transformation SQL function\n",
    "This notebook demonstrates the use Descriptive Statistics and Data Transformation Functions which are useful for the initial processing of data to understand its makeup\n",
    "\n",
    "#### VAL Hypothesis Test SQL functions\n",
    "Statistical tests provide a means of testing whether the outcome of an experiment could have been accidental. Numerous tests are provided in-database such as Parametric, Binomial, Contingency, Kolmogorov/Smirnoff and Rank tests.\n",
    "\n",
    "#### VAL Analytic and Machine Learning Algorithms and Scoring\n",
    "This notebook demonstrates the use of Vantage Analytic Library for Regression, Factor Analysis, Decision Trees, K-Means, and Association Rules/Sequence Analysis. \n",
    "\n",
    "#### VAL teradataml Demo\n",
    "This notebook shows the power of Vantage and the Analytic Library through a series of functions that use the Teradata SQLE to perform descriptive statistics, data engineering and transformation, model building, model evaluation and model scoring. All Analytic Library functions are called through Python using the teradataml interfaces for VAL. This notebook covers a subset of the function demonstrated in the other 3 VAL  SQL notebooks, but implemented with Python.\n",
    "\n",
    "<p style = 'font-size:20px;font-family:Arial;color:#E37C4D'><b>Vantage Analytics Library Reference Material</b></p>\n",
    "\n",
    "[Search for Vantage Analytics Library Documentation](https://docs.teradata.com/search/all?query=Vantage+Analytics+Library&content-lang=en-US)"
   ]
  },
  {
   "cell_type": "code",
   "execution_count": null,
   "id": "0e5e480c-bec4-4f3c-b1f6-82b7b72a9e55",
   "metadata": {},
   "outputs": [],
   "source": []
  }
 ],
 "metadata": {
  "kernelspec": {
   "display_name": "Teradata SQL",
   "language": "Teradata SQL",
   "name": "teradatasql"
  },
  "language_info": {
   "codemirror_mode": "Teradata SQL",
   "file_extension": ".tdrs",
   "mimetype": "application/vnd.teradata.resultset",
   "name": "Teradata SQL",
   "nbconvert_exporter": "",
   "pygments_lexer": "",
   "version": "16.20"
  }
 },
 "nbformat": 4,
 "nbformat_minor": 5
}
