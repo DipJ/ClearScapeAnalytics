{
 "cells": [
  {
   "cell_type": "markdown",
   "metadata": {},
   "source": [
    "<header style=\"padding:1px;background:#f9f9f9;border-top:3px solid #00b2b1\"><img id=\"Teradata-logo\" src=\"https://www.teradata.com/Teradata/Images/Rebrand/Teradata_logo-two_color.png\" alt=\"Teradata\" width=\"220\" align=\"right\" />\n",
    "\n",
    "<b style = 'font-size:28px;font-family:Arial;color:#E37C4D'>Behavioral Analysis and Visualization using Vantage and Plotly</b>\n",
    "</header>"
   ]
  },
  {
   "cell_type": "markdown",
   "metadata": {},
   "source": [
    "<p style = 'font-size:18px;font-family:Arial;color:#E37C4D'><b>Introduction</b></p>\n",
    "<p style = 'font-size:16px;font-family:Arial'>\n",
    "This is a demonstration of Vantage capabilities for functional demos e.g.\n",
    "    <li style = 'font-size:16px;font-family:Arial'> Sessionize Function - Assign a Session Identifier to a series of events within a time window </li>\n",
    "    <li style = 'font-size:16px;font-family:Arial'> nPath Function - Analyze events and match patterns to collect specific user paths </li>\n",
    "</p>\n",
    "<br>\n",
    "<p style = 'font-size:16px;font-family:Arial'>\n",
    "nPath is useful when your goal is to identify the paths that lead to an outcome. The nPath function scans a set of rows, looking for patterns that you specify. For each set of input rows that matches the pattern, nPath produces a single output row. The function provides a flexible pattern-matching capability that lets you specify complex patterns in the input data and define the values that are output for each matched input set. For example, you can use nPath to analyze:\n",
    "<li style = 'font-size:16px;font-family:Arial'>Web site click data, to identify paths that lead to sales over a specified amount</li>\n",
    "<li style = 'font-size:16px;font-family:Arial'>Sensor data from industrial processes, to identify paths to poor product quality</li>\n",
    "<li style = 'font-size:16px;font-family:Arial'>Healthcare records of individual patients, to identify paths that indicate that patients are at risk of developing conditions such as heart disease or diabetes</li>\n",
    "<li style = 'font-size:16px;font-family:Arial'>Financial data for individuals, to identify paths that provide information about credit or fraud risks</li>\n",
    "</p>    \n"
   ]
  },
  {
   "cell_type": "markdown",
   "metadata": {},
   "source": [
    "<p style = 'font-size:28px;font-family:Arial;color:#E37C4D'><b>1.Connect to Vantage,  import python packages and explore the dataset</b></p>\n"
   ]
  },
  {
   "cell_type": "markdown",
   "metadata": {},
   "source": [
    "<p style = 'font-size:16px;font-family:Arial'>Let us start with importing the required libraries, set environment variables and connect to Vantage.</p>"
   ]
  },
  {
   "cell_type": "code",
   "execution_count": null,
   "metadata": {},
   "outputs": [],
   "source": [
    "#import libraries\n",
    "import getpass\n",
    "import warnings\n",
    "\n",
    "\n",
    "import pandas as pd\n",
    "import numpy as np\n",
    "import matplotlib.pyplot as plt\n",
    "\n",
    "\n",
    "from teradataml import *\n",
    "\n",
    "\n",
    "display.max_rows = 5\n",
    "\n",
    "warnings.filterwarnings('ignore')"
   ]
  },
  {
   "cell_type": "markdown",
   "metadata": {},
   "source": [
    "<p style = 'font-size:16px;font-family:Arial'>You will be prompted to provide the password. Enter your password, press the Enter key, then use down arrow to go to next cell. Below command will make a connection to the Vantage environment </p>"
   ]
  },
  {
   "cell_type": "code",
   "execution_count": null,
   "metadata": {},
   "outputs": [],
   "source": [
    "%run -i ../startup.ipynb\n",
    "eng = create_context(host = 'host.docker.internal', username='demo_user', password = password)\n",
    "print(eng)"
   ]
  },
  {
   "cell_type": "code",
   "execution_count": null,
   "metadata": {},
   "outputs": [],
   "source": [
    "%%capture\n",
    "execute_sql('''SET query_band='DEMO=BehavioralAnalysis_PY_SQL.ipynb;' UPDATE FOR SESSION; ''')"
   ]
  },
  {
   "cell_type": "markdown",
   "metadata": {},
   "source": [
    "<p style = 'font-size:16px;font-family:Arial'>Begin running steps with Shift + Enter keys.</p>"
   ]
  },
  {
   "cell_type": "markdown",
   "metadata": {},
   "source": [
    "<p style = 'font-size:18px;font-family:Arial;color:#E37C4D'> <b>Getting Data for This Demo</b></p>\n",
    "<p style = 'font-size:16px;font-family:Arial'>We have provided data for this demo on cloud storage. You have the option of either running the demo using foreign tables to access the data without using any storage on your environment or downloading the data to local storage which may yield somewhat faster execution, but there could be considerations of available storage. There are two statements in the following cell, and one is commented out. You may switch which mode you choose by changing the comment string.</p>"
   ]
  },
  {
   "cell_type": "code",
   "execution_count": null,
   "metadata": {},
   "outputs": [],
   "source": [
    "%run -i ../run_procedure.py \"call get_data('DEMO_Retail_cloud');\"\n",
    " # takes about 30 seconds, estimated space: 0 MB\n",
    "# %run -i ../run_procedure.py \"call get_data('DEMO_Retail_local');\" \n",
    "# takes about 50 seconds, estimated space: 23 MB"
   ]
  },
  {
   "cell_type": "markdown",
   "metadata": {},
   "source": [
    "<p style = 'font-size:16px;font-family:Arial'>Next is an optional step – if you want to see status of databases/tables created and space used.</p>"
   ]
  },
  {
   "cell_type": "code",
   "execution_count": null,
   "metadata": {},
   "outputs": [],
   "source": [
    "%run -i ../run_procedure.py \"call space_report();\""
   ]
  },
  {
   "cell_type": "markdown",
   "metadata": {},
   "source": [
    "<p style = 'font-size:16px;font-family:Arial'>\n",
    "Source events data may come from other source systems, log files, Object Storage, etc.  This section illustrates connecting to existing customer event data using the teradataml python package."
   ]
  },
  {
   "cell_type": "markdown",
   "metadata": {},
   "source": [
    "<p style = 'font-size:16px;font-family:Arial'>\n",
    "This notebook makes use of two powerful behavioral analysis functions available in Vantage:\n",
    "<ol style = 'font-size:16px;font-family:Arial'>    \n",
    " <li><b>Sessionize</b> Which will group a series of events into a keyed (by number) session.</li>\n",
    "<li><b>nPath</b> Sophisticated pattern matching function to analyze and collect data across rows.</li>\n",
    "</ol>    "
   ]
  },
  {
   "cell_type": "code",
   "execution_count": null,
   "metadata": {},
   "outputs": [],
   "source": [
    "#1.  Create the teradataml dataframe from our source table - this creates a pointer to the location without moving data\n",
    "tdf_retail_events = DataFrame(in_schema('DEMO_Retail', 'Retail_Events'))\n",
    "tdf_retail_events.head()"
   ]
  },
  {
   "cell_type": "markdown",
   "metadata": {},
   "source": [
    "<p style = 'font-size:16px;font-family:Arial'>Sample data shows the events in the table we have linked in the dataframe."
   ]
  },
  {
   "cell_type": "markdown",
   "metadata": {},
   "source": [
    "<p style = 'font-size:28px;font-family:Arial;color:#E37C4D'><b>2.  Sessionize Function</b></p>\n",
    "<p style = 'font-size:16px;font-family:Arial'>This function can be called as a method of teradataml library or in literal SQL.<br>In this notebook we are using the sql syntax of the function please refer BehavioralAnalysis_Python.ipynb for teradataml python syntax.<br><br>\n",
    "The Sessionize function maps each click in a session to a unique session identifier. A session is a sequence of clicks by one user that are separated by at most 'n' seconds. In our case we are taking a duration of 24 hours for our session and observing the user behaviour in this time."
   ]
  },
  {
   "cell_type": "code",
   "execution_count": null,
   "metadata": {},
   "outputs": [],
   "source": [
    "#2. Call the Sessionize function.  This function has several required parameters:\n",
    "#data_partition_column - unique identifier of the user or entity we consolidate events for.\n",
    "#data_order_column - the column or list of columns to use to order the sessions.\n",
    "#time_column - column to apply the time boundary around to create a \"session\"\n",
    "#time_out - duration in seconds to mark rows as a single session, 24 hours as example below, float.\n",
    "#function returns an instance of the \"Sessionize\" object.  The \"result\" property is the teradata dataframe (virtual dataframe)\n",
    "\n",
    "qry = '''\n",
    "SELECT * FROM Sessionize (\n",
    " ON DEMO_Retail.Retail_Events\n",
    " PARTITION BY entity_id\n",
    " ORDER BY datestamp\n",
    " USING\n",
    " TimeColumn ('datestamp')\n",
    " TimeOut (86400)\n",
    ") ;\n",
    "'''\n",
    "\n",
    "sessionized_events = DataFrame.from_query(qry)\n",
    "\n",
    "sessionized_events"
   ]
  },
  {
   "cell_type": "markdown",
   "metadata": {},
   "source": [
    "<p style = 'font-size:16px;font-family:Arial'>In the data returned above we can see that the function has assigned a sessionid on the events based on the parameter(time_out value) we have given"
   ]
  },
  {
   "cell_type": "code",
   "execution_count": null,
   "metadata": {},
   "outputs": [],
   "source": [
    "#commit our sessionized results to a permanent table:\n",
    "sessionized_events.to_sql(table_name = 'demo_sessionized_events', if_exists = 'replace')"
   ]
  },
  {
   "cell_type": "markdown",
   "metadata": {},
   "source": [
    "<p style = 'font-size:28px;font-family:Arial;color:#E37C4D'><b>3.  nPath Function</b>\n",
    "<p style = 'font-size:16px;font-family:Arial'>As above, this function can be called as a method of teradataml, or in literal SQL.<br>In this notebook we are using the sql syntax of the function please refer BehavioralAnalysis_Python.ipynb for teradataml python syntax."
   ]
  },
  {
   "cell_type": "markdown",
   "metadata": {},
   "source": [
    "<p style = 'font-size:16px;font-family:Arial'><b>Call a basic nPath SQL function.</b>\n",
    " <ul style = 'font-size:16px;font-family:Arial'>\n",
    "     <li>nPath scans a set of rows, looking for patterns.</li>\n",
    "     <li>For each set of input rows that matches the pattern, nPath produces a single output row.</li>\n",
    "  </ul>\n",
    "<p style = 'font-size:16px;font-family:Arial'> This function allows for matching of complex patterns in the input data, as well as defining the output values for each matched set of rows.\n",
    "<br>\n",
    "For the below example:\n",
    "<ol style = 'font-size:16px;font-family:Arial'>\n",
    "    <li>Pass the sessionized data by reference.</li>\n",
    "    <li>Provide partitioning (session key) and ordering columns.</li>\n",
    "    <li>Mode <b>OVERLAPPING</b> vs. <b>NONOVERLAPPING</b>\n",
    "        <ul style = 'font-size:16px;font-family:Arial'>\n",
    "            <li><b>OVERLAPPING</b> finds every occurrence of the match, regardless of the current row being part of a previous match.</li>\n",
    "            <li><b>NONOVERLAPPING</b> starts matching again at the row that follows the previous match.\n",
    "        </ul>\n",
    "    </li>\n",
    "    <li>Symbols.  Create a set of column expression aliases that can be assembled into a pattern to match.\n",
    "        <ul style = 'font-size:16px;font-family:Arial'>\n",
    "            <li>Example: \"EVENT = 'Mem Purchase' as P\" will alias a match on the EVENT column when the content equals 'Mem Purchase'.</li>\n",
    "        </ul>\n",
    "    </li>\n",
    "      <li>Pattern.  Compose a pattern to search for across the rows of events.  This pattern is composed of Symbols and directives.\n",
    "        <ul style = 'font-size:16px;font-family:Arial'>\n",
    "            <li>Example: '^P' uses a directive ^ to indicate the P Symbol must occur at the beginning of the group of rows</li>\n",
    "        </ul>\n",
    "    </li>\n",
    "    <li>Result.  Since nPath emits a single row per group-of-row matches, Result indicates what columns make up this row and how to aggregate the data.</li>\n",
    "    </ol>\n",
    "    "
   ]
  },
  {
   "cell_type": "code",
   "execution_count": null,
   "metadata": {},
   "outputs": [],
   "source": [
    "qry = '''\n",
    " SELECT * FROM NPATH\n",
    "    (ON demo_sessionized_events\n",
    "        PARTITION BY sessionid\n",
    "        ORDER BY datestamp\n",
    "    USING\n",
    "        MODE (NONOVERLAPPING)\n",
    "        SYMBOLS (True as A ,event IN ('Mem Cancel') AS B)\n",
    "        PATTERN ('A{2,5}.B')\n",
    "        RESULT (FIRST (entity_id OF A) AS entity_id, \n",
    "                FIRST (sessionid OF A) AS sessionid, \n",
    "                ACCUMULATE (cast(event as VARCHAR(50) CHARACTER SET UNICODE NOT CASESPECIFIC) OF ANY(A,B)) AS path, \n",
    "                COUNT (* OF ANY (A,B)) AS event_cnt)\n",
    "    );\n",
    "'''\n",
    "\n",
    "npath_mem_cancel = DataFrame.from_query(qry)\n",
    "\n",
    "npath_mem_cancel"
   ]
  },
  {
   "cell_type": "markdown",
   "metadata": {},
   "source": [
    "<p style = 'font-size:16px;font-family:Arial'>\n",
    "Here we can clearly see that the nPath function has created a Path the customer took to the final event (Mem Cancel) we have mentioned in the sql call."
   ]
  },
  {
   "cell_type": "markdown",
   "metadata": {},
   "source": [
    "<p style = 'font-size:16px;font-family:Arial'>\n",
    "    <b> Call the nPath function in literal SQL.</b><br>\n",
    "since nPath emits a single row per match, it greatly reduces the number of rows returned from the function call.  As such, it may be possible or desirable to return the data directly using pandas read_sql instead of creating a view, table, or other in-database object:\n",
    "<br>\n",
    "    <b> Construct the SQL Statement </b><br>\n",
    "As an example, construct the statement to match sessions where either 'Membership Purchase' or 'Product Purchase' occurred after a series of prior actions of at least one action and no more than five actions:\n",
    "<ol style = 'font-size:16px;font-family:Arial'>    \n",
    "   <li>Create Three Symbols:\n",
    "       <ul style = 'font-size:16px;font-family:Arial'> \n",
    "           <li>MP: Membership Purchase</li>\n",
    "           <li>PP: Product Purchase</li>\n",
    "           <li>A: Match any row not Membership Purchase or Product Purchase</li>\n",
    "       </ul>\n",
    "    </li>\n",
    "    <li>Assemble the Symbols into a Pattern using directives to match any A event between one and five times preceding MP OR PP:\n",
    "        <ul style = 'font-size:16px;font-family:Arial'> \n",
    "            <li> A{1,5}.(PP|MP)</li>\n",
    "        </ul>\n",
    "    </li>\n",
    "    <li>Return the sessionid, path, and number of steps</li>\n",
    "    </ol>"
   ]
  },
  {
   "cell_type": "code",
   "execution_count": null,
   "metadata": {},
   "outputs": [],
   "source": [
    "qry = '''\n",
    "SELECT * FROM NPATH\n",
    "    (ON demo_sessionized_events\n",
    "        PARTITION BY sessionid\n",
    "        ORDER BY datestamp\n",
    "    USING\n",
    "        MODE (NONOVERLAPPING)\n",
    "        SYMBOLS (event = 'Purchase' AS PP, event = 'Mem Purchase' AS MP, event NOT IN ('Purchase', 'Mem Purchase') AS A)\n",
    "        PATTERN ('A{1,5}.(PP|MP)')\n",
    "        RESULT (FIRST (datestamp of A) as start_time, \n",
    "                FIRST (entity_id of A) as entity_id, \n",
    "                FIRST (sessionid of ANY(MP, A, PP)) as sessionid, \n",
    "                COUNT (* of ANY(MP, A, PP)) as event_cnt, \n",
    "                ACCUMULATE (cast(event as VARCHAR(50) CHARACTER SET UNICODE NOT CASESPECIFIC) of ANY(MP, A, PP)) as path)\n",
    "    );\n",
    "'''\n",
    "\n",
    "npath_purchase = DataFrame.from_query(qry)\n",
    "\n",
    "npath_purchase"
   ]
  },
  {
   "cell_type": "markdown",
   "metadata": {},
   "source": [
    "<p style = 'font-size:16px;font-family:Arial'> Here also we can see that the nPath function calculates and displays the path customer took to our final event (Purchase or Mem Purchase) as mentioned in the Pattern parameter of the sql."
   ]
  },
  {
   "cell_type": "markdown",
   "metadata": {},
   "source": [
    "<p style = 'font-size:28px;font-family:Arial;color:#E37C4D'><b>4.  Analysis and Visualization</b>\n",
    "<p style = 'font-size:16px;font-family:Arial'> Analysis can be performed on the data in-database, or externally with the local pandas dataframe:"
   ]
  },
  {
   "cell_type": "code",
   "execution_count": null,
   "metadata": {},
   "outputs": [],
   "source": [
    "#Operate on the data as it lies in the database, and only retrieve the result of the aggregation\n",
    "\n",
    "npath_mem_cancel.groupby(['path']).count().sort(['count_sessionid'], ascending = False).head()"
   ]
  },
  {
   "cell_type": "code",
   "execution_count": null,
   "metadata": {},
   "outputs": [],
   "source": [
    "#or - operate on the data in the pandas dataframe:\n",
    "df_npath_pandas = npath_mem_cancel.to_pandas()\n",
    "\n",
    "ax = df_npath_pandas['event_cnt'].value_counts().sort_values().plot(kind='bar', figsize=(7, 6), rot=0)\n",
    "plt.xlabel(\"Event count in path\")\n",
    "plt.ylabel(\"Number of Path\")\n",
    "plt.title(\"Number of events in a Path\", y = 1.02)"
   ]
  },
  {
   "cell_type": "markdown",
   "metadata": {},
   "source": [
    "<p style = 'font-size:16px;font-family:Arial'> In our nPath function we have used the pattern where final event is 'Mem Cancel', The above histogram shows the number of events where the final event is Mem Cancel."
   ]
  },
  {
   "cell_type": "markdown",
   "metadata": {},
   "source": [
    "<p style = 'font-size:18px;font-family:Arial;color:#E37C4D'><b>4.1  Sankey Charts</b></p>\n",
    "<p style = 'font-size:16px;font-family:Arial'> In order to visualize the distribution of the different path of events, we typically use Sankey diagram of the aggregated over the paths reported by the NPATH command.\n"
   ]
  },
  {
   "cell_type": "code",
   "execution_count": null,
   "metadata": {},
   "outputs": [],
   "source": [
    "from tdnpathviz.visualizations import plot_first_main_paths"
   ]
  },
  {
   "cell_type": "code",
   "execution_count": null,
   "metadata": {},
   "outputs": [],
   "source": [
    "%%time\n",
    "plot_first_main_paths(npath_purchase,path_column='path',id_column='entity_id',width=1100)"
   ]
  },
  {
   "cell_type": "markdown",
   "metadata": {},
   "source": [
    "<p style = 'font-size:16px;font-family:Arial'> To check the details of any path or node we can move the mouse pointer over it and check details. For example if you move the pointer over the dark Green path having the largest width at the TOP going towards the right most node(Purchase).The number/count shows there number of entities who followed that path starting from Product Return ---> Purchase.<br>\n",
    "When the pointer is moved over a Node, for example when the pointer is on the long purple Node at the right top Product Return it shows incoming flow count and outgoing flow count. Incoming flow count means the number of different event which led to the event in consideration and outgoing flow count the number of different event after this event. Similarly other nodes and paths can be analyzed.\n",
    "<p style = 'font-size:16px;font-family:Arial'> This visualization takes the input from Teradata nPath output. Here also we can see the events customer took to his final event of 'Purchase' or 'Mem Purchase'(membership purchase). "
   ]
  },
  {
   "cell_type": "markdown",
   "metadata": {},
   "source": [
    "<p style = 'font-size:28px;font-family:Arial;color:#E37C4D'><b>5.  Clean up</b></p>\n",
    "<p style = 'font-size:20px;font-family:Arial;color:#E37C4D'> <b>Worktables </b></p>"
   ]
  },
  {
   "cell_type": "code",
   "execution_count": null,
   "metadata": {},
   "outputs": [],
   "source": [
    "db_drop_table(table_name='demo_sessionized_events') "
   ]
  },
  {
   "cell_type": "markdown",
   "metadata": {},
   "source": [
    "<p style = 'font-size:20px;font-family:Arial;color:#E37C4D'> <b>Database and Tables </b></p>\n",
    "<p style = 'font-size:16px;font-family:Arial'>The following code will clean up tables and databases created above.</p>"
   ]
  },
  {
   "cell_type": "code",
   "execution_count": null,
   "metadata": {},
   "outputs": [],
   "source": [
    "%run -i ../run_procedure.py \"call remove_data('DEMO_Retail');\" \n",
    "#Takes 10 seconds\n",
    "#Please note that the same data is used in UseCases/TextProcessing_TF_IDF notebooks"
   ]
  },
  {
   "cell_type": "code",
   "execution_count": null,
   "metadata": {},
   "outputs": [],
   "source": [
    "remove_context()"
   ]
  },
  {
   "cell_type": "markdown",
   "metadata": {},
   "source": [
    "<p style = 'font-size:16px;font-family:Arial'><b>Links:</b></p>\n",
    "<ul style = 'font-size:16px;font-family:Arial'>\n",
    "    <li>Teradata Python Package User Guide: <a href = 'https://docs.teradata.com/reader/eteIDCTX4O4IMvazRMypxQ/uDjppX7PJInABCckgu~KFg'>https://docs.teradata.com/reader/eteIDCTX4O4IMvazRMypxQ/uDjppX7PJInABCckgu~KFg</a></li>\n",
    "    <li>Teradataml Python Reference: <a href = 'https://docs.teradata.com/reader/GsM0pYRZl5Plqjdf9ixmdA/MzdO1q_t80M47qY5lyImOA'>https://docs.teradata.com/reader/GsM0pYRZl5Plqjdf9ixmdA/MzdO1q_t80M47qY5lyImOA</a></li>\n",
    "    <li>Teradata nPath Function Reference: <a href = 'https://docs.teradata.com/reader/CWVY0AJy8wyyf7Sm0EsK~w/wjkE42ypEfeMkRFOIqVXfQ'>https://docs.teradata.com/reader/CWVY0AJy8wyyf7Sm0EsK~w/wjkE42ypEfeMkRFOIqVXfQ</a></li>\n",
    "    <li>Teradata Sessionize Function Reference: <a href = 'https://docs.teradata.com/reader/CWVY0AJy8wyyf7Sm0EsK~w/RNbOiUg9~r~cxSZHrR~sFQ'>https://docs.teradata.com/reader/CWVY0AJy8wyyf7Sm0EsK~w/RNbOiUg9~r~cxSZHrR~sFQ</a></li>\n",
    "        <li>Python Pandas Reference: <a href = 'https://pandas.pydata.org/docs/user_guide/index.html'>https://pandas.pydata.org/docs/user_guide/index.html</a></li>\n",
    "        <li>Plotly Reference: <a href = 'https://plotly.com/'>https://plotly.com/</a></li>\n",
    "</ul>\n"
   ]
  },
  {
   "cell_type": "markdown",
   "metadata": {},
   "source": [
    "<footer style=\"padding:10px;background:#f9f9f9;border-bottom:3px solid #394851\">©2023 Teradata. All Rights Reserved</footer>"
   ]
  }
 ],
 "metadata": {
  "kernelspec": {
   "display_name": "Python 3 (ipykernel)",
   "language": "python",
   "name": "python3"
  },
  "language_info": {
   "codemirror_mode": {
    "name": "ipython",
    "version": 3
   },
   "file_extension": ".py",
   "mimetype": "text/x-python",
   "name": "python",
   "nbconvert_exporter": "python",
   "pygments_lexer": "ipython3",
   "version": "3.9.10"
  }
 },
 "nbformat": 4,
 "nbformat_minor": 4
}
