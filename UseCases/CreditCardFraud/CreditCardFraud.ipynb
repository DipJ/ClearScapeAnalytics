{
 "cells": [
  {
   "cell_type": "markdown",
   "id": "6190d421-3eb0-4cd4-a5d7-e3472140ecd1",
   "metadata": {},
   "source": [
    "<header style=\"padding:1px;background:#f9f9f9;border-top:3px solid #00b2b1\"><img id=\"Teradata-logo\" src=\"https://www.teradata.com/Teradata/Images/Rebrand/Teradata_logo-two_color.png\" alt=\"Teradata\" width=\"220\" align=\"right\" />\n",
    "\n",
    "<b style = 'font-size:28px;font-family:Arial;color:#E37C4D'>Credit Card Fraud Detection - Data Cleansing and Feature Engineering Pipeline</b>\n",
    "</header>"
   ]
  },
  {
   "cell_type": "markdown",
   "id": "9e758467-3d86-4780-a34e-d94f6e7af44e",
   "metadata": {},
   "source": [
    "<p style = 'font-size:18px;font-family:Arial;color:#E37C4D'><b>Introduction</b></p>\n",
    "<p style = 'font-size:16px;font-family:Arial'>\n",
    "This is a demonstration of Vantage capabilities for functional demos e.g.\n",
    "    <li style = 'font-size:16px;font-family:Arial'> Data Cleansing Functions - like  TD_GetFutileColumns, TD_SimpleImputeFit and TD_SimpleImputeTransform </li>\n",
    "        <li style = 'font-size:16px;font-family:Arial'> Data Exploration Functions - like  TD_ColumnSummary and TD_CategoicalSummary </li>\n",
    "    <li style = 'font-size:16px;font-family:Arial'> Feature Engineering Functions - like TD_BinCodeFit & Transform, TD_OrdinalEncodingFit & Transform, TD_OnehotencodingFit & Transform, TD_ScaleFit & Transform and TD_ColumnTransformer </li>\n",
    "</p>\n",
    "<br>\n",
    "<p style = 'font-size:16px;font-family:Arial'>\n",
    "In a typical Data Science project there are multiple preprocessing steps involved to process the raw incoming data before it can actually be used in a model for predictions. On an estimate about 70-80% of the time and effort goes into the pre-processing steps. With the help of Vantage's in Db functions we can perform these functions very effectively and at scale.\n",
    "In this demo notebook we are using a sample financial data of credit card application with target of loan defaulters, we will go through the general preprocessing steps that are involved in getting the source data and making the data usuable for model creation.\n",
    "</p>  "
   ]
  },
  {
   "cell_type": "markdown",
   "id": "7607e009-01d7-4a41-9e26-e1b759c136f4",
   "metadata": {},
   "source": [
    "<p style = 'font-size:18px;font-family:Arial;color:#E37C4D'> <b> Accessing the Data </b> </p>\n",
    "<p style = 'font-size:16px;font-family:Arial'>These demos will work either with foreign tables accessed from Cloud Storage via NOS or you may import the tables to your machine. If you import data for multiple demos, you may need to use the Data Dictionary \"Manage Your Space\" routine to cleanup tables you no longer need.     \n",
    "    \n",
    "<p style = 'font-size:16px;font-family:Arial'>Use the link below to access the 2 options for using data from the data dictionary notebook:\n",
    "\n",
    "[Click Here to get data for this notebook](../Data_Dictionary/Data_Dictionary.ipynb#TRNG_CreditCard)\n",
    "\n",
    "[Click Here to Manage Your Space](../Data_Dictionary/Data_Dictionary.ipynb#Manage_Your_Space)"
   ]
  },
  {
   "cell_type": "markdown",
   "id": "e17b951b-96ad-4838-89b9-e417347f5685",
   "metadata": {},
   "source": [
    "<p style = 'font-size:28px;font-family:Arial;color:#E37C4D'><b>1. Connect to Vantage and explore the dataset</b></p>\n",
    "Below command will connect to the Vantage environment."
   ]
  },
  {
   "cell_type": "code",
   "execution_count": null,
   "id": "5636ce90-1f17-47a4-9567-b288ded744b9",
   "metadata": {},
   "outputs": [],
   "source": [
    "%connect local"
   ]
  },
  {
   "cell_type": "markdown",
   "id": "23572866-f0e6-4885-9c2f-2d7b32466966",
   "metadata": {},
   "source": [
    "<p style = 'font-size:18px;font-family:Arial;color:#E37C4D'> <b> Access data in Vantage  </b> </p>\n",
    "<p style = 'font-size:16px;font-family:Arial'>For this demo, data is already resident in Object Storage which we are accessing via ReadNOS.  Create a reference to the table, and sample the contents.  Data could just as easily reside in permanent tables, another RDBMS, or another Vantage system.</p>"
   ]
  },
  {
   "cell_type": "code",
   "execution_count": null,
   "id": "afc3ac55-976d-4e80-bdd6-7198783e0660",
   "metadata": {},
   "outputs": [],
   "source": [
    "sel top 5 * from TRNG_CreditCard.credit_card;"
   ]
  },
  {
   "cell_type": "markdown",
   "id": "d5269fde-69b4-460f-8f2b-669e1181952b",
   "metadata": {},
   "source": [
    "<p style = 'font-size:18px;font-family:Arial;color:#E37C4D'> <b> Checking data demographics  </b> </p>\n",
    "<p style = 'font-size:16px;font-family:Arial'><b>TD_ColumnSummary </b>function  displays Column name, datatype and other demogarphics like count of NULLs etc for each specified input table column</p>"
   ]
  },
  {
   "cell_type": "code",
   "execution_count": null,
   "id": "f8c30f61-46d6-4983-9f12-62ed67238085",
   "metadata": {},
   "outputs": [],
   "source": [
    "SELECT * FROM TD_ColumnSummary (\n",
    " ON TRNG_CreditCard.credit_card AS InputTable\n",
    " USING\n",
    " TargetColumns ('[:]')\n",
    ") AS dt;"
   ]
  },
  {
   "cell_type": "markdown",
   "id": "02d47fa9-b98a-4884-b67b-7e8ed3e288cd",
   "metadata": {},
   "source": [
    "<p style = 'font-size:16px;font-family:Arial'>In below sql we are checking the null percentage of columns</p>"
   ]
  },
  {
   "cell_type": "code",
   "execution_count": null,
   "id": "e7ffc4e7-82f1-4656-b182-e325e0ae294f",
   "metadata": {},
   "outputs": [],
   "source": [
    "SELECT columnname, datatype, nullpercentage FROM TD_ColumnSummary (\n",
    " ON TRNG_CreditCard.credit_card AS InputTable\n",
    " USING\n",
    " TargetColumns ('[:]')\n",
    ") AS dt\n",
    "where \n",
    "nullpercentage > 0\n",
    "order by 3 desc;"
   ]
  },
  {
   "cell_type": "markdown",
   "id": "8be39f15-abd7-4c99-8fc7-ff5fa6a503dd",
   "metadata": {},
   "source": [
    "<p style = 'font-size:16px;font-family:Arial'>As the column HOUSETYPE_MODE has more than 50% of null values we can remove this column from our model calculations.<br>\n",
    "    Lets check the other varchar columns. \n",
    "OCCUPATION_TYPE also has high % of null values.</p>"
   ]
  },
  {
   "cell_type": "markdown",
   "id": "c3b362ea-66d1-40b1-88fb-2fb65a4d8593",
   "metadata": {},
   "source": [
    "<p style = 'font-size:16px;font-family:Arial'><b>TD_CATEGORICALSUMMARY </b>function   displays the distinct values and their counts for each specified input table column</p>"
   ]
  },
  {
   "cell_type": "code",
   "execution_count": null,
   "id": "5ff1e61a-aeb9-43f7-b4a4-770858abe776",
   "metadata": {},
   "outputs": [],
   "source": [
    "Create volatile table cateogrySummaryTable as (\n",
    "SELECT * FROM TD_CATEGORICALSUMMARY (\n",
    "ON TRNG_CreditCard.credit_card as inputtable\n",
    "USING\n",
    "TargetColumns('CODE_GENDER'\n",
    ",'NAME_CONTRACT_TYPE'\n",
    ",'NAME_FAMILY_STATUS'\n",
    ",'FLAG_OWN_CAR'\n",
    ",'OCCUPATION_TYPE')\n",
    ") AS dt)With data \n",
    "on commit preserve rows;"
   ]
  },
  {
   "cell_type": "code",
   "execution_count": null,
   "id": "a6e5110b-64ad-47aa-b812-c3f4b2049fb7",
   "metadata": {},
   "outputs": [],
   "source": [
    "select top 5* from cateogrySummaryTable;"
   ]
  },
  {
   "cell_type": "markdown",
   "id": "2ecf779a-19c6-4d39-a5f3-6f2548f8f48d",
   "metadata": {},
   "source": [
    "<p style = 'font-size:16px;font-family:Arial'><b>TD_GETFUTILECOLUMNS </b>function displays the categorical columns which will have no effect on the model i.e if all the values are same or unique or If the count of distinct values in the columns divided by the count of the total number of rows in the input\n",
    "table is greater than or equal to the threshold value</p>"
   ]
  },
  {
   "cell_type": "code",
   "execution_count": null,
   "id": "9778d7d9-e996-4c50-b6e5-16bc90d1f2d9",
   "metadata": {},
   "outputs": [],
   "source": [
    "Select * from TD_getFutileColumns(\n",
    "ON TRNG_CreditCard.credit_card as inputtable partition by any\n",
    "ON cateogrySummaryTable as categorytable Dimension\n",
    "USING\n",
    "CategoricalSummaryColumn('ColumnName') \n",
    "ThresholdValue(0.05)\n",
    ")As dt;"
   ]
  },
  {
   "cell_type": "markdown",
   "id": "eae82675-e250-40d4-be70-3998701c2c4d",
   "metadata": {},
   "source": [
    "<p style = 'font-size:16px;font-family:Arial'>Here we can see that FLAG_OWN_CAR will have no effect on the model as all the values in this column are same so we can remove this column from model creation</p>"
   ]
  },
  {
   "cell_type": "markdown",
   "id": "3101c1a3-2437-4289-9902-8445c884ec3b",
   "metadata": {},
   "source": [
    "<p style = 'font-size:16px;font-family:Arial'>Let us check the values in the OCCUPATION_TYPE column to see what we can do for the NULLs in the column \n",
    "</p>"
   ]
  },
  {
   "cell_type": "code",
   "execution_count": null,
   "id": "d23d12ce-c1e2-4e3b-9cfb-f18666a27387",
   "metadata": {},
   "outputs": [],
   "source": [
    "SELECT * FROM cateogrySummaryTable where columnname = 'OCCUPATION_TYPE' order by DistinctValueCount desc;"
   ]
  },
  {
   "cell_type": "markdown",
   "id": "recognized-academy",
   "metadata": {},
   "source": [
    "<p style = 'font-size:18px;font-family:Arial;color:#E37C4D'> <b> Impute Missing Values  </b> </p>\n",
    "<p style = 'font-size:16px;font-family:Arial'><b>TD_SimpleImputeFit </b>will output a table with the values that will be used to substitute the missing values<br>\n",
    "    <b>TD_SimpleImputeTransform</b> will return the input data set with the missing values filled in.\n",
    "Verify the NULL values have been removed.<br>\n",
    "    *Note one can also use the Fit table as input to <b>TD_ColumnTransformer</b>"
   ]
  },
  {
   "cell_type": "code",
   "execution_count": null,
   "id": "sudden-performer",
   "metadata": {},
   "outputs": [],
   "source": [
    "-- fit the SimpleImpute function on categorical columns\n",
    "SELECT * FROM TD_SimpleImputeFit (\n",
    "    ON TRNG_CreditCard.credit_card as InputTable\n",
    "    OUT VOLATILE TABLE OutputTable(impute_fit_cat_output)\n",
    "    USING\n",
    "    ColsForLiterals ('OCCUPATION_TYPE')\n",
    "    Literals ('not provided')\n",
    ") as dt;\n",
    "\n"
   ]
  },
  {
   "cell_type": "code",
   "execution_count": null,
   "id": "b6aad626-325d-458c-a1dc-fab9c112d629",
   "metadata": {},
   "outputs": [],
   "source": [
    "Create volatile table occupationimputetable as (\n",
    "SELECT * FROM TD_SimpleImputeTransform (\n",
    " ON TRNG_CreditCard.credit_card as InputTable\n",
    " ON impute_fit_cat_output AS FitTable DIMENSION\n",
    ") AS dt)With data \n",
    "on commit preserve rows;"
   ]
  },
  {
   "cell_type": "markdown",
   "id": "26fa00c0-8ba8-4e0b-b41c-79c5b6a0a9b3",
   "metadata": {},
   "source": [
    "<p style = 'font-size:16px;font-family:Arial'>TD_SimpleImputeFit and TD_SimpleImputeTransform function works on integer columns also and we can use them for filling the missing column values based on min/max/mean/median of the values in the column</p>"
   ]
  },
  {
   "cell_type": "markdown",
   "id": "d9cc0ecf-9bc6-42fc-93fa-8a125706640c",
   "metadata": {},
   "source": [
    "<p style = 'font-size:16px;font-family:Arial'>In model creation we usually prefer Numerical inputs instead of Characters, now let us check how many distinct values we have for our character columns so that we can encode them in numerals</p>"
   ]
  },
  {
   "cell_type": "code",
   "execution_count": null,
   "id": "double-military",
   "metadata": {},
   "outputs": [],
   "source": [
    "SELECT columnname,count(distinctvalue) FROM cateogrySummaryTable \n",
    "group by 1 order by 2; "
   ]
  },
  {
   "cell_type": "markdown",
   "id": "f7bd6dc2-e37b-4b10-b737-761c5d0b299b",
   "metadata": {},
   "source": [
    "<p style = 'font-size:16px;font-family:Arial'>We are not using FLAG_OWN_CAR column in model creation, for other columns we can use <b>TD_OneHotEncodingFit</b> and <b>TD_OrdinalEncodingFit</b> and transform functions to convert character categories to numerals, for that we need to check the exact values present in the columns</p>"
   ]
  },
  {
   "cell_type": "code",
   "execution_count": null,
   "id": "parliamentary-revolution",
   "metadata": {},
   "outputs": [],
   "source": [
    "SELECT columnname,distinctvalue FROM cateogrySummaryTable where columnname in \n",
    "('CODE_GENDER', 'NAME_CONTRACT_TYPE')\n",
    "order by 1; "
   ]
  },
  {
   "cell_type": "markdown",
   "id": "0a8a6f24-ebe1-4006-aab6-bfd7672898f7",
   "metadata": {},
   "source": [
    "<p style = 'font-size:18px;font-family:Arial;color:#E37C4D'> <b> Feature Engineering Functions  </b> </p>\n",
    "<p style = 'font-size:16px;font-family:Arial'><b>TD_OneHotEncodingFit </b>outputs a table of attributes and categorical values to input to <b>TD_OneHotEncodingTransform </b> which encodes them as one-hot numeric vectors.</p>"
   ]
  },
  {
   "cell_type": "code",
   "execution_count": null,
   "id": "f81f739d-1a50-4ff9-a9df-7b8215374ff0",
   "metadata": {},
   "outputs": [],
   "source": [
    "CREATE VOLATILE TABLE onehotencodingfit_genderoutput AS (\n",
    " SELECT * FROM TD_OneHotEncodingFit (\n",
    " ON TRNG_CreditCard.credit_card AS InputTable\n",
    " USING\n",
    " TargetColumn ('code_gender')\n",
    " OtherColumnName ('other')\n",
    " CategoricalValues ('M', 'F')\n",
    " IsInputDense ('true')\n",
    " ) AS dt\n",
    ") WITH DATA\n",
    "ON COMMIT PRESERVE ROWS;"
   ]
  },
  {
   "cell_type": "markdown",
   "id": "6d0bfa70-f646-4a64-9f50-e64e355617b6",
   "metadata": {},
   "source": [
    "<p style = 'font-size:16px;font-family:Arial'>We can check how the fit table looks like</p>"
   ]
  },
  {
   "cell_type": "code",
   "execution_count": null,
   "id": "c8399c7e-ca75-460a-b054-41cb8f532559",
   "metadata": {},
   "outputs": [],
   "source": [
    "select * from onehotencodingfit_genderoutput;"
   ]
  },
  {
   "cell_type": "markdown",
   "id": "a2f51dd3-fd62-4004-ae50-f47499a70052",
   "metadata": {},
   "source": [
    "<p style = 'font-size:16px;font-family:Arial'>We will create a similar fit table for the other categorical column</p>"
   ]
  },
  {
   "cell_type": "code",
   "execution_count": null,
   "id": "brutal-colors",
   "metadata": {},
   "outputs": [],
   "source": [
    "CREATE VOLATILE TABLE onehotencodingfit_contractoutput AS (\n",
    " SELECT * FROM TD_OneHotEncodingFit (\n",
    " ON TRNG_CreditCard.credit_card AS InputTable\n",
    " USING\n",
    " TargetColumn ('NAME_CONTRACT_TYPE')\n",
    " OtherColumnName ('other')\n",
    " CategoricalValues ('Revolving loans', 'Cash loans')\n",
    " IsInputDense ('true')\n",
    " ) AS dt\n",
    ") WITH DATA\n",
    "ON COMMIT PRESERVE ROWS;\n"
   ]
  },
  {
   "cell_type": "code",
   "execution_count": null,
   "id": "90b2cd6b-f753-4b88-9f27-1b0f1e52e651",
   "metadata": {},
   "outputs": [],
   "source": [
    "select * from onehotencodingfit_contractoutput;"
   ]
  },
  {
   "cell_type": "markdown",
   "id": "d69ec7b0-b07d-4c54-bb16-d07d5351b4b8",
   "metadata": {},
   "source": [
    "<p style = 'font-size:16px;font-family:Arial'>For categorical columns which have many values we can use <b>TD_OrdinalEncoding</b> instead</p>"
   ]
  },
  {
   "cell_type": "code",
   "execution_count": null,
   "id": "8bc94059-b400-4ce6-9b2b-213376ccdeec",
   "metadata": {},
   "outputs": [],
   "source": [
    "SELECT * FROM TD_OrdinalEncodingFit (\n",
    " ON TRNG_CreditCard.credit_card AS InputTable\n",
    " OUT volatile table outputtable (ordinalencodingfit_familyoutput)\n",
    " USING\n",
    " TargetColumn ('NAME_FAMILY_STATUS')\n",
    " DefaultValue (-1)\n",
    ") as dt;"
   ]
  },
  {
   "cell_type": "markdown",
   "id": "0b86bae6-8da0-4c13-a401-07011f34e433",
   "metadata": {},
   "source": [
    "<p style = 'font-size:16px;font-family:Arial'>Similarly we will use TD_OrdinalEncodingFit for OCCUPATION_TYPE also. Note that we have used occupationimputetable which is the output of Impute function applied on Occupation_Type column as we want the Null values in a separate category</p>"
   ]
  },
  {
   "cell_type": "code",
   "execution_count": null,
   "id": "d325d2ca-0394-4de8-86d5-9a0774897b39",
   "metadata": {},
   "outputs": [],
   "source": [
    "SELECT * FROM TD_OrdinalEncodingFit (\n",
    " ON occupationimputetable AS InputTable\n",
    " OUT volatile table outputtable (ordinalencodingfit_occupationoutput)\n",
    " USING\n",
    " TargetColumn ('OCCUPATION_TYPE')\n",
    " DefaultValue (-1)\n",
    ") as dt;"
   ]
  },
  {
   "cell_type": "markdown",
   "id": "763bdc0b-d4fc-4444-b6c6-5139b781859d",
   "metadata": {},
   "source": [
    "<p style = 'font-size:16px;font-family:Arial'><b>TD_BinCodeFit and TD_BinCodeTransform </b>bin-codes the\n",
    "specified input table columns.Bin-coding is typically used to convert numeric data to categorical data by binning the numeric data into multiple numeric bins (intervals).</p> "
   ]
  },
  {
   "cell_type": "markdown",
   "id": "b61a2ede-9732-46b2-ba62-7edbc9111376",
   "metadata": {},
   "source": [
    "<p style = 'font-size:16px;font-family:Arial'>For variable width bins, we need to provide the bin table to the function. Let's create the table and use that in the TD_BinCodeFit function</p>"
   ]
  },
  {
   "cell_type": "code",
   "execution_count": null,
   "id": "befb1671-7366-4094-88f1-2061a3a92061",
   "metadata": {},
   "outputs": [],
   "source": [
    "create table FitInputTable (ColumnName varchar(20), MinValue integer, MaxValue integer, Label varchar(20));"
   ]
  },
  {
   "cell_type": "code",
   "execution_count": null,
   "id": "fe17b9b4-a0b6-4489-bc7b-8b6bdfa18599",
   "metadata": {},
   "outputs": [],
   "source": [
    "insert into FitInputTable values('age', 0, 18, '1-Children');\n",
    "insert into FitInputTable values('age', 19, 25, '2-Young Adult');    \n",
    "insert into FitInputTable values('age', 26, 45, '3-Middle Adult');\n",
    "insert into FitInputTable values('age', 46, 60, '4-Old Adult');    \n",
    "insert into FitInputTable values('age', 61 ,120, '5-Senior Citizen');"
   ]
  },
  {
   "cell_type": "code",
   "execution_count": null,
   "id": "73e57ec7-71db-438b-98f8-94d9e763898c",
   "metadata": {},
   "outputs": [],
   "source": [
    "create volatile table FitOutputTable as (\n",
    "SELECT * FROM TD_BincodeFit(\n",
    "ON TRNG_CreditCard.credit_card as InputTable\n",
    "ON FitInputTable as FitInput Dimension\n",
    "USING\n",
    "TargetColumns('age')\n",
    "MethodType('Variable-Width')\n",
    "MinValueColumn('MinValue')\n",
    "MaxValueCOlumn('MaxValue')\n",
    "LabelColumn('Label')\n",
    "TargetColNames('ColumnName')\n",
    ") AS dt\n",
    ") with data\n",
    "ON COMMIT PRESERVE ROWS;\n"
   ]
  },
  {
   "cell_type": "markdown",
   "id": "32a69cf1-ae9b-48ff-9e01-d9cd55dbd58a",
   "metadata": {},
   "source": [
    "<p style = 'font-size:16px;font-family:Arial'>The fit table looks like below:</p>"
   ]
  },
  {
   "cell_type": "code",
   "execution_count": null,
   "id": "f9113863-074d-407a-8afc-365fd667d87d",
   "metadata": {},
   "outputs": [],
   "source": [
    "select * from FitOutputTable;"
   ]
  },
  {
   "cell_type": "markdown",
   "id": "48c2ed48-0a96-473d-97c4-0f7792fa1666",
   "metadata": {},
   "source": [
    "<p style = 'font-size:16px;font-family:Arial'><b>TD_ScaleFit and TDScaleTransform </b>scales specified input\n",
    "table columns i.e perform the specific scale methods like standard deviation, mean etc to the input columns </p> "
   ]
  },
  {
   "cell_type": "code",
   "execution_count": null,
   "id": "4d646e29-bf90-4c64-aab9-6ffd049a02ff",
   "metadata": {},
   "outputs": [],
   "source": [
    "select * from TD_scaleFit(\n",
    "on TRNG_CreditCard.credit_card  as InputTable\n",
    "OUT VOLATILE TABLE OutputTable(scaleFitOut)\n",
    "using\n",
    "TargetColumns('amt_income_total')\n",
    "MissValue('Keep')\n",
    "ScaleMethod('range')\n",
    "GlobalScale('f')\n",
    ")as dt;\n"
   ]
  },
  {
   "cell_type": "markdown",
   "id": "def2b5b6-9a2d-4a72-be0a-d1835ed6a960",
   "metadata": {},
   "source": [
    "<p style = 'font-size:18px;font-family:Arial;color:#E37C4D'> <b> TD_ColumnTransformer  </b> </p>\n",
    "<p style = 'font-size:16px;font-family:Arial'>The TD_ColumnTransformer function transforms the entire dataset in a single operation. You only need\n",
    "to provide the FIT tables to the function, and the function runs all transformations that you require in a\n",
    "single operation. Running all the it table transformations together in one-go gives approx 30% performace improvement over runnig each transformation sequentially</p>"
   ]
  },
  {
   "cell_type": "markdown",
   "id": "fd1faa82-b74a-46c7-856b-31a50529a456",
   "metadata": {},
   "source": [
    "<p style = 'font-size:16px;font-family:Arial'>Let us put all the fit tables we have created and transform the dataset</p>"
   ]
  },
  {
   "cell_type": "code",
   "execution_count": null,
   "id": "c1217106-a20d-46bd-b209-2c0535cc9041",
   "metadata": {},
   "outputs": [],
   "source": [
    "SELECT *\n",
    "    FROM TD_ColumnTransformer(\n",
    " ON TRNG_CreditCard.credit_card AS inputtable\n",
    " ON  impute_fit_cat_output AS SImpleImputeFitTable DIMENSION   \n",
    " ON onehotencodingfit_genderoutput AS ONehotencodingfittable DIMENSION\n",
    " ON onehotencodingfit_contractoutput AS ONehotencodingfittable DIMENSION  \n",
    " ON ordinalencodingfit_familyoutput AS OrdinalEncodingFitTable DIMENSION\n",
    " ON ordinalencodingfit_occupationoutput AS OrdinalEncodingFitTable DIMENSION  \n",
    " ON FitOutputTable AS BincodeFitTable DIMENSION  \n",
    " ON scaleFitOut AS ScaleFitTable DIMENSION         \n",
    ")\n",
    "AS dt\n",
    ";\n"
   ]
  },
  {
   "cell_type": "markdown",
   "id": "2289d186-bb9e-4c23-a7d3-18d237620dac",
   "metadata": {},
   "source": [
    "<p style = 'font-size:16px;font-family:Arial'>We can create a separate intermediate table after performing all the transformations and removing all the columns from the original table which are not needed further.</p>"
   ]
  },
  {
   "cell_type": "code",
   "execution_count": null,
   "id": "liable-wrapping",
   "metadata": {},
   "outputs": [],
   "source": [
    "Create table Trasformed_data as(\n",
    "SELECT SK_ID_CURR,\"TARGET\",CNT_CHILDREN,AMT_INCOME_TOTAL,NAME_FAMILY_STATUS,REGION_POPULATION_RELATIVE\n",
    "    ,substr(age,1,1) as \"AGE_GROUP\",FLAG_MOBIL,FLAG_EMP_PHONE,CNT_FAM_MEMBERS,OCCUPATION_TYPE,CODE_GENDER_M,CODE_GENDER_F,\n",
    "    \"NAME_CONTRACT_TYPE_REVOLVING LOANS\" as \"REVOLVING_LOANS\",\"NAME_CONTRACT_TYPE_CASH LOANS\" as \"CASH_LOANS\"\n",
    "    FROM TD_ColumnTransformer(\n",
    " ON TRNG_CreditCard.credit_card AS inputtable\n",
    " ON impute_fit_cat_output AS SImpleImputeFitTable DIMENSION   \n",
    " ON onehotencodingfit_genderoutput AS ONehotencodingfittable DIMENSION\n",
    " ON onehotencodingfit_contractoutput AS ONehotencodingfittable DIMENSION  \n",
    " ON ordinalencodingfit_familyoutput AS OrdinalEncodingFitTable DIMENSION\n",
    " ON ordinalencodingfit_occupationoutput AS OrdinalEncodingFitTable DIMENSION  \n",
    " ON FitOutputTable AS BincodeFitTable DIMENSION  \n",
    " ON scaleFitOut AS ScaleFitTable DIMENSION   \n",
    ")\n",
    "AS dt\n",
    ") WITH DATA\n",
    ";\n"
   ]
  },
  {
   "cell_type": "code",
   "execution_count": null,
   "id": "dependent-automation",
   "metadata": {},
   "outputs": [],
   "source": [
    "select top 10* from Trasformed_data;"
   ]
  },
  {
   "cell_type": "markdown",
   "id": "b1814912-3d04-410d-b0ba-4c4b795c4ad6",
   "metadata": {},
   "source": [
    "<p style = 'font-size:16px;font-family:Arial'>Here we can see that we have now transformed our raw data and converted into numerical values which we further be used as an input in model creation.\n",
    "</p>"
   ]
  },
  {
   "cell_type": "markdown",
   "id": "ba1cde98-0cbe-4ccb-94aa-2193cc407922",
   "metadata": {},
   "source": [
    "<p style = 'font-size:18px;font-family:Arial;color:#E37C4D'><b>Clean up</b> </p>"
   ]
  },
  {
   "cell_type": "code",
   "execution_count": null,
   "id": "318e8e00-bf75-4e92-bc92-322b84b89cda",
   "metadata": {},
   "outputs": [],
   "source": [
    "DROP TABLE Trasformed_data;\n"
   ]
  },
  {
   "cell_type": "code",
   "execution_count": null,
   "id": "03f04dc9-762e-49f5-a557-0b83329937f9",
   "metadata": {},
   "outputs": [],
   "source": [
    "DROP TABLE FitInputTable;"
   ]
  },
  {
   "cell_type": "markdown",
   "id": "5c0dd647-1687-4f10-967e-1e7c10de2ce9",
   "metadata": {},
   "source": [
    "<p style = 'font-size:18px;font-family:Arial;color:#E37C4D'> <b> Conslusion </b> </p>\n",
    "<p style = 'font-size:16px;font-family:Arial'>In this notebook we have seen some of the Teradata Vantage's new inDb functions for data cleansing, data exploration and feature engineering. Many of these functions can be applied in one go using the TD_COLUMNTRANSFORM function which gives is approx 30% faster than serial processing</p>"
   ]
  },
  {
   "cell_type": "markdown",
   "id": "8f6c48eb-3742-4dea-8519-944b002a86ee",
   "metadata": {},
   "source": [
    "<p style = 'font-size:16px;font-family:Arial'><b>Links:</b></p>\n",
    "<ul style = 'font-size:16px;font-family:Arial'>\n",
    "        <li>Teradata Analytic Function Reference:\n",
    "        <a href = 'https://docs.teradata.com/r/Teradata-VantageCloud-Lake/Analyzing-Your-Data/Analytics-Database-Analytic-Functions/Analytics-Database-Analytic-Functions-Overview'>\n",
    "        https://docs.teradata.com/r/Teradata-VantageCloud-Lake/Analyzing-Your-Data/Analytics-Database-Analytic-Functions/Analytics-Database-Analytic-Functions-Overview</a></li>\n",
    "  \n",
    "</ul>"
   ]
  },
  {
   "cell_type": "markdown",
   "id": "efa00671-7e69-467d-9adf-4890e2dcf7ec",
   "metadata": {},
   "source": [
    "<footer style=\"padding:10px;background:#f9f9f9;border-bottom:3px solid #394851\">©2023 Teradata. All Rights Reserved</footer>"
   ]
  }
 ],
 "metadata": {
  "kernelspec": {
   "display_name": "Teradata SQL",
   "language": "Teradata SQL",
   "name": "teradatasql"
  },
  "language_info": {
   "codemirror_mode": "Teradata SQL",
   "file_extension": ".tdrs",
   "mimetype": "application/vnd.teradata.resultset",
   "name": "Teradata SQL",
   "nbconvert_exporter": "",
   "pygments_lexer": "",
   "version": "16.20"
  }
 },
 "nbformat": 4,
 "nbformat_minor": 5
}
