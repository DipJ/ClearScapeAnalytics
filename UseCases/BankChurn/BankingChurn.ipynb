{
 "cells": [
  {
   "cell_type": "markdown",
   "id": "6a7e847b-0851-4b91-9445-4298034e79cb",
   "metadata": {},
   "source": [
    "<header style=\"padding:1px;background:#f9f9f9;border-top:3px solid #00b2b1\"><img id=\"Teradata-logo\" src=\"https://www.teradata.com/Teradata/Images/Rebrand/Teradata_logo-two_color.png\" alt=\"Teradata\" width=\"220\" align=\"right\" />\n",
    "\n",
    "<b style = 'font-size:28px;font-family:Arial;color:#E37C4D'>Banking Customer Churn Analysis using Vantage</b>\n",
    "</header>"
   ]
  },
  {
   "cell_type": "markdown",
   "id": "77ef03c3-8327-4170-a46d-711debf3bf7d",
   "metadata": {},
   "source": [
    "<p style = 'font-size:18px;font-family:Arial;color:#E37C4D'><b>Introduction:</b></p>\n",
    "\n",
    "<center><img src=\"images/churn.webp\"/></center>\n",
    "\n",
    "<p style = 'font-size:16px;font-family:Arial'>Source: <a href = 'https://medium.com/@islamhasabo/predicting-customer-churn-bc76f7760377'>Medium</a></p>\n",
    "\n",
    "<p style = 'font-size:16px;font-family:Arial'>Customer churn is an important metric in banking because it can directly impact a bank's revenue and profitability. When customers leave, banks lose the revenue they would have earned from those customers' transactions, investments, and account fees. Additionally, attracting new customers to replace those who have left can be expensive and time-consuming, so reducing customer churn is often more cost-effective than acquiring new customers.</p>\n",
    "\n",
    "<p style = 'font-size:16px;font-family:Arial'>Customer churn can also be an indicator of customer satisfaction and loyalty. If customers are leaving at a high rate, it may indicate that they are dissatisfied with the bank's products or services, customer service, or overall experience.</p>\n",
    "\n",
    "<p style = 'font-size:16px;font-family:Arial'>Banks can use various strategies to reduce customer churn, such as improving customer service, offering more competitive rates and fees, providing personalized recommendations and offers, and enhancing digital channels and mobile apps. By tracking and analyzing customer churn rates, banks can identify areas for improvement and make strategic decisions to retain customers and improve overall customer satisfaction.</p>\n",
    "\n",
    "<p style = 'font-size:16px;font-family:Arial'>In this demo, we demonstrate how the entire lifecycle of churn prediction can be implemented using Vantage technologies and, specifically, the combination of Bring Your Own Model (BYOM), Vantage Analytics Library (VAL) and teradataml python client library solution.</p>"
   ]
  },
  {
   "cell_type": "markdown",
   "id": "6bb321ff-1d77-470f-9d29-ef3133e33e54",
   "metadata": {},
   "source": [
    "<hr>\n",
    "<p style = 'font-size:18px;font-family:Arial;color:#E37C4D'><b>Downloading and installing additional software needed</b>"
   ]
  },
  {
   "cell_type": "code",
   "execution_count": null,
   "id": "18032022-e3ca-470f-9a12-87cf2328ef5a",
   "metadata": {},
   "outputs": [],
   "source": [
    "%%capture\n",
    "# '%%capture' suppresses the display of installation steps of the following packages\n",
    "!pip install sklearn2pmml\n",
    "!pip install jdk4py\n",
    "!pip install teradataml"
   ]
  },
  {
   "cell_type": "markdown",
   "id": "e2996424-64cf-4a32-9609-3e8b2eef9f01",
   "metadata": {},
   "source": [
    "<p style = 'font-size:16px;font-family:Arial'>\n",
    "    <i><b>*BEFORE proceeding, please RESTART the kernel to bring new software into Jupyter.</b></i>\n",
    "</p>\n",
    "<p style = 'font-size:16px;font-family:Arial'>Here, we import the required libraries, set environment variables and environment paths (if required).</p>"
   ]
  },
  {
   "cell_type": "code",
   "execution_count": null,
   "id": "060b1f7b-0233-402b-8d7d-d97adbf2bbdd",
   "metadata": {},
   "outputs": [],
   "source": [
    "import getpass\n",
    "import sklearn\n",
    "import numpy as np\n",
    "import pandas as pd\n",
    "import matplotlib.pyplot as plt\n",
    "from sklearn import svm, tree\n",
    "from xgboost import XGBClassifier\n",
    "from sklearn2pmml import sklearn2pmml\n",
    "from sklearn.metrics import roc_auc_score\n",
    "from sklearn.metrics import roc_curve\n",
    "from sklearn2pmml.pipeline import PMMLPipeline\n",
    "from jdk4py import JAVA, JAVA_HOME, JAVA_VERSION\n",
    "from sklearn.ensemble import RandomForestClassifier\n",
    "\n",
    "from teradataml import *\n",
    "\n",
    "# Modify the following to match the specific client environment settings\n",
    "configure.val_install_location = 'val'\n",
    "configure.byom_install_location = 'mldb'\n",
    "os.environ['PATH'] = os.environ['PATH'] + os.pathsep + str(JAVA_HOME)\n",
    "os.environ['PATH'] = os.environ['PATH'] + os.pathsep + str(JAVA)[:-5]"
   ]
  },
  {
   "cell_type": "markdown",
   "id": "b3bd616c-e525-485c-b62e-44fa9ed0c5de",
   "metadata": {},
   "source": [
    "<hr>\n",
    "<b style = 'font-size:28px;font-family:Arial;color:#E37C4D'>1. Initiate a connection to Vantage</b>\n",
    "<p style = 'font-size:18px;font-family:Arial;color:#E37C4D'> <b>Let's start by connecting to the Teradata system </b></p>\n",
    "<p style = 'font-size:16px;font-family:Arial'>You will be prompted to provide the password. Enter your password, press the Enter key, and then use the down arrow to go to the next cell.</p>"
   ]
  },
  {
   "cell_type": "code",
   "execution_count": null,
   "id": "3e2b68d0-69ee-4ee2-9c1b-d4333fb968f9",
   "metadata": {},
   "outputs": [],
   "source": [
    "%run -i ../startup.ipynb\n",
    "eng = create_context(host = 'host.docker.internal', username='demo_user', password = password)\n",
    "print(eng)\n",
    "eng.execute('''SET query_band='DEMO=BankingChurn.ipynb;' UPDATE FOR SESSION; ''')"
   ]
  },
  {
   "cell_type": "markdown",
   "id": "284bbd38-09f8-4aa1-b965-863b25356340",
   "metadata": {},
   "source": [
    "<p style = 'font-size:16px;font-family:Arial'>Begin running steps with Shift + Enter keys. </p>"
   ]
  },
  {
   "cell_type": "markdown",
   "id": "ae9262e3-3e73-4aec-b935-e2ba26483aca",
   "metadata": {},
   "source": [
    "<p style = 'font-size:20px;font-family:Arial;color:#E37C4D'><b>Getting Data for This Demo</b></p>\n",
    "<p style = 'font-size:16px;font-family:Arial'>We have provided data for this demo on cloud storage. You can either run the demo using foreign tables to access the data without any storage on your environment or download the data to local storage, which may yield faster execution. Still, there could be considerations of available storage. Two statements are in the following cell, and one is commented out. You may switch which mode you choose by changing the comment string.</p>"
   ]
  },
  {
   "cell_type": "code",
   "execution_count": null,
   "id": "16973665-4402-466e-bd51-8b3e279bb866",
   "metadata": {},
   "outputs": [],
   "source": [
    "# %run -i ../run_procedure.py \"call get_data('DEMO_BankChurn_cloud');\"        # Takes 40 seconds\n",
    "%run -i ../run_procedure.py \"call get_data('DEMO_BankChurn_local');\"        # Takes 20 seconds"
   ]
  },
  {
   "cell_type": "markdown",
   "id": "3b3a891f-0f8d-4d7b-88d1-c6be7e12c41e",
   "metadata": {},
   "source": [
    "<p style = 'font-size:16px;font-family:Arial'>Next is an optional step – if you want to see the status of databases/tables created and space used.</p>"
   ]
  },
  {
   "cell_type": "code",
   "execution_count": null,
   "id": "85e6f604-ef55-4503-88ac-7dd584fbd601",
   "metadata": {},
   "outputs": [],
   "source": [
    "%run -i ../run_procedure.py \"call space_report();\"        # Takes 10 seconds"
   ]
  },
  {
   "cell_type": "markdown",
   "id": "c19267c0-c983-4a9d-9351-b20d6d203292",
   "metadata": {},
   "source": [
    "<hr>\n",
    "<b style = 'font-size:28px;font-family:Arial;color:#E37C4D'>2. Data Exploration</b>\n",
    "<p style = 'font-size:16px;font-family:Arial'>Create a \"Virtual DataFrame\" that points to the data set in Vantage. Check the shape of the dataframe as check the datatypes of all the columns of the dataframe.</p>\n",
    "<p style = 'font-size:16px;font-family:Arial'><b><i>*Please scroll down to the end of the notebook for detailed column descriptions of the dataset.</i></b></p>"
   ]
  },
  {
   "cell_type": "code",
   "execution_count": null,
   "id": "93ca4743-c0ca-4ebf-8122-9d68307c0b72",
   "metadata": {},
   "outputs": [],
   "source": [
    "tdf = DataFrame(in_schema(\"DEMO_BankChurn\", \"customer_churn\"))\n",
    "print(\"Shape of the data: \", tdf.shape)\n",
    "tdf.head()"
   ]
  },
  {
   "cell_type": "code",
   "execution_count": null,
   "id": "e4c16253-58de-4018-a845-c2a92ebb8495",
   "metadata": {},
   "outputs": [],
   "source": [
    "tdf.dtypes"
   ]
  },
  {
   "cell_type": "markdown",
   "id": "f244b52d-71da-48c0-a58a-3adeb5943d69",
   "metadata": {},
   "source": [
    "<p style = 'font-size:16px;font-family:Arial'>By looking at the datatypes and sample data, we classify the columns into ID column, target variable(y), numerical, categorical and binary ones. We skip using <i>RowNumber</i> and <i>Surname</i> columns as they are not useful in the analysis.</p>"
   ]
  },
  {
   "cell_type": "code",
   "execution_count": null,
   "id": "0d2796a4-8b6d-4abc-9eb4-2278a710dc2b",
   "metadata": {},
   "outputs": [],
   "source": [
    "y = \"Exited\"\n",
    "num_x = [\"Age\",\"Balance\",\"CreditScore\",\"EstimatedSalary\",\"Tenure\"]\n",
    "cat_x = [\"Gender\",\"Geography\",\"NumOfProducts\"]\n",
    "bin_x = [\"HasCrCard\",\"IsActiveMember\"]\n",
    "idcol = [\"CustomerId\"]\n",
    "customer_data = tdf.select(idcol +[y] + num_x + cat_x + bin_x )"
   ]
  },
  {
   "cell_type": "code",
   "execution_count": null,
   "id": "91144ef8-fe0f-40a7-841e-d3e2665a472c",
   "metadata": {},
   "outputs": [],
   "source": [
    "customer_data.head(5)"
   ]
  },
  {
   "cell_type": "markdown",
   "id": "6c22433c-7395-4c83-bfab-bba8ec323fcd",
   "metadata": {},
   "source": [
    "<hr>\n",
    "<b style = 'font-size:28px;font-family:Arial;color:#E37C4D'>3. Data Transformation</b>\n",
    "<p style = 'font-size:20px;font-family:Arial;color:#E37C4D'><b>Transformation of string variables into flags (OneHotEncoding)</b></p>\n",
    "    \n",
    "<p style = 'font-size:16px;font-family:Arial'>We will use the following string or category variables as an example:</p>\n",
    "<ul style = 'font-size:16px;font-family:Arial'>\n",
    "    <li>Gender</li>\n",
    "    <li>Geography</li>\n",
    "    <li>NumOfProducts</li>\n",
    "</ul>\n",
    "\n",
    "<p style = 'font-size:16px;font-family:Arial'>And for each of them we are going to use the <i>OneHotEncoder</i> function to generate the set of marks.</p>\n",
    "  \n",
    "<p style = 'font-size:16px;font-family:Arial'><i><b>Note:</b> The process can be achieved using a single script, here it has been separated into steps for didactic purposes.</i>"
   ]
  },
  {
   "cell_type": "code",
   "execution_count": null,
   "id": "1eec9348-8306-49bf-88ae-681b2c848dfe",
   "metadata": {},
   "outputs": [],
   "source": [
    "# 0-male, 1-female\n",
    "values1 = {\"Female\": \"Gender\"}\n",
    "dummy1 = OneHotEncoder(values=values1, columns=\"Gender\")\n",
    "\n",
    "# 0-france, 1-germany, 2-spain\n",
    "values2 = {\"France\": \"France\", \"Germany\": \"Germany\", \"Spain\": \"Spain\"}\n",
    "dummy2 = OneHotEncoder(values=values2, columns=\"Geography\")\n",
    "\n",
    "values3 = {1: \"OneProduct\", 2: \"TwoProduct\", 3: \"ThreeProduct\", 4: \"FourProduct\"}\n",
    "dummy3 = OneHotEncoder(values=values3, columns=\"NumOfProducts\")"
   ]
  },
  {
   "cell_type": "markdown",
   "id": "0d293989-a8ba-4639-8e14-92ff6eb26889",
   "metadata": {},
   "source": [
    "<p style = 'font-size:20px;font-family:Arial;color:#E37C4D'><b>Standardize for numeric variables (Z-score)</b></p>\n",
    "<p style = 'font-size:16px;font-family:Arial'>We will use the following numerical variables as an example:</p>\n",
    "<ul style = 'font-size:16px;font-family:Arial'>\n",
    "    <li>Age</li>\n",
    "    <li>Balance</li>\n",
    "    <li>CreditScore</li>\n",
    "    <li>EstimatedSalary</li>\n",
    "</ul>\n",
    "\n",
    "<p style = 'font-size:16px;font-family:Arial'>And for each of them we are going to use the <i>ZScore</i> function to generate the transformation.</p>\n",
    "  \n",
    "<p style = 'font-size:16px;font-family:Arial'><i><b>Note:</b> The process can be achieved using a single script, here it has been separated into steps for didactic purposes.</i>"
   ]
  },
  {
   "cell_type": "code",
   "execution_count": null,
   "id": "af82a2ee-93c8-440c-becb-e7ecb91d5b46",
   "metadata": {},
   "outputs": [],
   "source": [
    "# FillNa allows user to perform missing value/null replacement transformations.\n",
    "fn = FillNa(style = \"mode\", columns = num_x)\n",
    "\n",
    "# Z-Score transforms each column value into the number of standard deviations from the mean value of the column.\n",
    "# This is non-linear transformation\n",
    "zs = ZScore(columns = num_x,\n",
    "            out_columns = num_x,\n",
    "            fillna = fn)\n",
    "\n",
    "# Keep the other variables that do not not need trasformation.\n",
    "retain = Retain(columns=bin_x+[y])"
   ]
  },
  {
   "cell_type": "code",
   "execution_count": null,
   "id": "fe7b81c0-f2df-47fd-b299-8251c8e34b28",
   "metadata": {},
   "outputs": [],
   "source": [
    "# Process the transformation\n",
    "df_transformed = valib.Transform(\n",
    "                            data = customer_data, \n",
    "                            zscore = zs, \n",
    "                            one_hot_encode = [dummy1, dummy2, dummy3],\n",
    "                            retain = retain,\n",
    "                            index_columns = idcol,\n",
    "                            key_columns = idcol\n",
    "                         )\n",
    "df_transformed.result.head(5).to_pandas()"
   ]
  },
  {
   "cell_type": "code",
   "execution_count": null,
   "id": "c67ab051-797d-49c4-9269-bf199b361977",
   "metadata": {
    "tags": []
   },
   "outputs": [],
   "source": [
    "# Move the temporary table to physical table\n",
    "\n",
    "df_transformed.result.to_sql(\"BankCustomerChurn_dataset\",\n",
    "                        schema_name = \"demo_user\",\n",
    "                        primary_index=\"CustomerId\",\n",
    "                        if_exists=\"replace\")"
   ]
  },
  {
   "cell_type": "markdown",
   "id": "ac217ce3-ab35-4fb6-a50d-f64b7e458c19",
   "metadata": {},
   "source": [
    "<p style = 'font-size:20px;font-family:Arial;color:#E37C4D'><b>Train/Test Split</b></p>\n",
    "<p style = 'font-size:16px;font-family:Arial'>Split the dataset into train and test datasets according to the split ratio, here 0.8</p>"
   ]
  },
  {
   "cell_type": "code",
   "execution_count": null,
   "id": "62a50697-a8f4-433c-82bb-2e44adea857c",
   "metadata": {},
   "outputs": [],
   "source": [
    "train_ratio = 0.8\n",
    "\n",
    "df = DataFrame(\"BankCustomerChurn_dataset\")\n",
    "df_sample = df.sample(frac = [train_ratio, 1.0-train_ratio])\n",
    "\n",
    "# Split into 2 virtual dataframes\n",
    "df_train = df_sample[df_sample.sampleid==1].drop([\"sampleid\"], axis=1)\n",
    "df_test = df_sample[df_sample.sampleid==2].drop([\"sampleid\"], axis=1)"
   ]
  },
  {
   "cell_type": "code",
   "execution_count": null,
   "id": "c0d36ae2-1812-410e-946e-c5f6e165b694",
   "metadata": {},
   "outputs": [],
   "source": [
    "# Move the temporary table to physical table\n",
    "df_train.to_sql(\"BankCustomerChurn_train\",\n",
    "                schema_name = \"demo_user\",\n",
    "                primary_index=\"CustomerId\",\n",
    "                if_exists=\"replace\")\n",
    "\n",
    "df_test.to_sql(\"BankCustomerChurn_test\",\n",
    "               schema_name = \"demo_user\",\n",
    "               primary_index=\"CustomerId\",\n",
    "               if_exists=\"replace\")"
   ]
  },
  {
   "cell_type": "markdown",
   "id": "2f732b41-f114-46fa-8e70-0a474b0a2c6a",
   "metadata": {},
   "source": [
    "<hr>\n",
    "<b style = 'font-size:28px;font-family:Arial;color:#E37C4D'>4. Model Training (Outside Vantage)</b>\n",
    "<p style = 'font-size:20px;font-family:Arial;color:#E37C4D'><b>Read the training data</b></p>\n",
    "<p style = 'font-size:16px;font-family:Arial'>Here we use <b>to_pandas()</b> function to get the data outside Vantage and simulate and environment where the models are trained outside Vantage.</p>"
   ]
  },
  {
   "cell_type": "code",
   "execution_count": null,
   "id": "7e54ff36-fa11-47ee-916d-9861556be4bc",
   "metadata": {},
   "outputs": [],
   "source": [
    "# Read the training table with feature\n",
    "df_train = DataFrame(\"BankCustomerChurn_train\").to_pandas()"
   ]
  },
  {
   "cell_type": "code",
   "execution_count": null,
   "id": "6cf1dcf8-b658-4af2-9324-e86f230f0331",
   "metadata": {},
   "outputs": [],
   "source": [
    "# Setup y and Xs columns\n",
    "y_col = ['Exited']\n",
    "x_cols = df_train.columns.to_list()\n",
    "x_cols.remove('Exited')\n",
    "\n",
    "X = df_train[x_cols]\n",
    "y = df_train[y_col]"
   ]
  },
  {
   "cell_type": "markdown",
   "id": "ed772834-97c4-484a-975b-5ce12c19de2a",
   "metadata": {},
   "source": [
    "<p style = 'font-size:20px;font-family:Arial;color:#E37C4D'><b>Train a Decision Tree Model</b></p>\n",
    "<p style = 'font-size:16px;font-family:Arial'>Train a basic Decision Tree model and save it in PMML format.</p>"
   ]
  },
  {
   "cell_type": "code",
   "execution_count": null,
   "id": "453ca926-d928-4128-803c-5468b014908f",
   "metadata": {},
   "outputs": [],
   "source": [
    "pipeline = PMMLPipeline([\n",
    "    (\"classifier\", tree.DecisionTreeClassifier())\n",
    "])\n",
    "pipeline.fit(X, y.values.ravel())"
   ]
  },
  {
   "cell_type": "code",
   "execution_count": null,
   "id": "6c8366eb-ada4-4711-bab4-f759cf06429f",
   "metadata": {},
   "outputs": [],
   "source": [
    "# Export the model in PMML format\n",
    "sklearn2pmml(pipeline, \"bankchurn_dt_model.pmml\", with_repr = True)"
   ]
  },
  {
   "cell_type": "markdown",
   "id": "03c57c6d-da14-4828-880b-cefa8b58a375",
   "metadata": {},
   "source": [
    "<p style = 'font-size:20px;font-family:Arial;color:#E37C4D'><b>Train a Random Forest Model</b></p>\n",
    "<p style = 'font-size:16px;font-family:Arial'>Train a basic Random Forest model and save it in PMML format.</p>"
   ]
  },
  {
   "cell_type": "code",
   "execution_count": null,
   "id": "3c3824c5-a68c-41e2-b1f1-31adcff2d964",
   "metadata": {},
   "outputs": [],
   "source": [
    "# Train the random forest model\n",
    "pipeline = PMMLPipeline([\n",
    "    (\"classifier\", RandomForestClassifier())\n",
    "])\n",
    "pipeline.fit(X, y.values.ravel())"
   ]
  },
  {
   "cell_type": "code",
   "execution_count": null,
   "id": "0835c93f-9d12-42d8-b2b3-5b79fa31d461",
   "metadata": {},
   "outputs": [],
   "source": [
    "# Export the model in PMML format\n",
    "sklearn2pmml(pipeline, \"bankchurn_rf_model.pmml\", with_repr = True)"
   ]
  },
  {
   "cell_type": "markdown",
   "id": "dc63bac3-fd13-40ae-ab66-77dad5fcb405",
   "metadata": {},
   "source": [
    "<p style = 'font-size:20px;font-family:Arial;color:#E37C4D'><b>Train a XGBoost Model</b></p>\n",
    "<p style = 'font-size:16px;font-family:Arial'>Train a basic XGBoost model and save it in PMML format.</p>"
   ]
  },
  {
   "cell_type": "code",
   "execution_count": null,
   "id": "e0fb598c-40f8-43b3-9832-704b7241324e",
   "metadata": {},
   "outputs": [],
   "source": [
    "# Train the XGBoost model\n",
    "pipeline = PMMLPipeline([\n",
    "     (\"classifier\", XGBClassifier())\n",
    "     ])\n",
    "\n",
    "pipeline.fit(X, y.values.ravel())"
   ]
  },
  {
   "cell_type": "code",
   "execution_count": null,
   "id": "dc40a1b5-b1e0-4647-be55-b09d281d4760",
   "metadata": {},
   "outputs": [],
   "source": [
    "# Export the model in PMML format\n",
    "sklearn2pmml(pipeline, \"bankchurn_xgb_model.pmml\", with_repr = True)"
   ]
  },
  {
   "cell_type": "markdown",
   "id": "3b195c53-c7c9-425d-9b47-d11a8d216849",
   "metadata": {},
   "source": [
    "<p style = 'font-size:16px;font-family:Arial'>Here we load all the 3 PMML files/models into a table in Vantage. This will help to execute in-database scoring in the next section.</p>"
   ]
  },
  {
   "cell_type": "code",
   "execution_count": null,
   "id": "2828f4ad-19f5-4ab9-8cae-34e89b1d8a04",
   "metadata": {
    "tags": []
   },
   "outputs": [],
   "source": [
    "# Load the PMML file into Vantage\n",
    "\n",
    "model_ids = ['dt', 'rf', 'xgb']\n",
    "model_files = ['bankchurn_dt_model.pmml', 'bankchurn_rf_model.pmml', 'bankchurn_xgb_model.pmml']\n",
    "table_name = 'bank_models'\n",
    "\n",
    "for model_id, model_file in zip(model_ids, model_files):\n",
    "    try:\n",
    "        res = save_byom(model_id = model_id, model_file = model_file, table_name = table_name)\n",
    "    except Exception as e:\n",
    "        # if our model exists, delete and rewrite\n",
    "        if str(e.args).find('TDML_2200') >= 1:\n",
    "            res = delete_byom(model_id = model_id, table_name = table_name)\n",
    "            res = save_byom(model_id = model_id, model_file = model_file, table_name = table_name)\n",
    "            pass\n",
    "        else:\n",
    "            raise\n",
    "# Show the bank_models table\n",
    "list_byom('bank_models')"
   ]
  },
  {
   "cell_type": "markdown",
   "id": "f8a96fc1-c559-4e4a-9aab-dfd63240f9d8",
   "metadata": {},
   "source": [
    "<hr>\n",
    "<b style = 'font-size:28px;font-family:Arial;color:#E37C4D'>5. Model Scoring (Inside Vantage)</b>\n",
    "<p style = 'font-size:20px;font-family:Arial;color:#E37C4D'><b>Scoring Decision Tree Model</b></p>\n",
    "<p style = 'font-size:16px;font-family:Arial'>Scoring the Decision Tree model which is stored in bank_models table in PMML format  using Vantage's PMMLPredict funtionality. All the scoring is done in-database inside Vantage.</p>"
   ]
  },
  {
   "cell_type": "code",
   "execution_count": null,
   "id": "98c8802b-0876-42f7-a8ec-cebd20101c40",
   "metadata": {},
   "outputs": [],
   "source": [
    "%%time\n",
    "# Obtain a pointer to the model\n",
    "table_name = 'bank_models'\n",
    "model_id = 'dt'\n",
    "model_tdf = DataFrame.from_query(f\"SELECT * FROM {table_name} WHERE model_id = '{model_id}'\")\n",
    "result_dt = PMMLPredict(\n",
    "            modeldata = model_tdf,\n",
    "            newdata = df_test,\n",
    "            accumulate = ['CustomerId', 'Exited'],\n",
    "            model_output_fields = ['probability(1)', 'probability(0)']\n",
    "            )"
   ]
  },
  {
   "cell_type": "code",
   "execution_count": null,
   "id": "bbfd8b51-7f9d-4eef-bdf9-fa48e845639b",
   "metadata": {},
   "outputs": [],
   "source": [
    "%%time\n",
    "# Create a local pandas dataframe of the results\n",
    "result_dt_pandas = result_dt.result.to_pandas(all_rows = True)\n",
    "result_dt_pandas.head(5)"
   ]
  },
  {
   "cell_type": "markdown",
   "id": "66cc9d12-cca1-4b53-ac4e-85e842ca4df5",
   "metadata": {},
   "source": [
    "<p style = 'font-size:16px;font-family:Arial'><i><b>Note:</b> If the scoring performed with a classification model does not return a predicted value, the prediction output column could be empty. If the scoring is performed on regression or models which result in a single field, the prediction column will contain a value.</i>"
   ]
  },
  {
   "cell_type": "markdown",
   "id": "234edd9b-5bfd-4f5d-b7c4-d38f2cf67abf",
   "metadata": {},
   "source": [
    "<p style = 'font-size:20px;font-family:Arial;color:#E37C4D'><b>Scoring Random Forest Model</b></p>\n",
    "<p style = 'font-size:16px;font-family:Arial'>Scoring the Random Forest model which is stored in bank_models table in PMML format  using Vantage's PMMLPredict funtionality. All the scoring is done in-database inside Vantage.</p>"
   ]
  },
  {
   "cell_type": "code",
   "execution_count": null,
   "id": "b77cc7d1-cc85-4462-8435-bc2eabe6ccfa",
   "metadata": {},
   "outputs": [],
   "source": [
    "%%time\n",
    "# Obtain a pointer to the model\n",
    "table_name = 'bank_models'\n",
    "model_id = 'rf'\n",
    "model_tdf = DataFrame.from_query(f\"SELECT * FROM {table_name} WHERE model_id = '{model_id}'\")\n",
    "result_rf = PMMLPredict(\n",
    "            modeldata = model_tdf,\n",
    "            newdata = df_test,\n",
    "            accumulate = ['CustomerId', 'Exited'],\n",
    "            model_output_fields = ['probability(1)', 'probability(0)']\n",
    "            )"
   ]
  },
  {
   "cell_type": "code",
   "execution_count": null,
   "id": "9e11c2a2-4957-4597-ae69-9cbc371fb862",
   "metadata": {
    "tags": []
   },
   "outputs": [],
   "source": [
    "%%time\n",
    "# Create a local pandas dataframe of the results\n",
    "result_rf_pandas = result_rf.result.to_pandas(all_rows = True)\n",
    "result_rf_pandas.head(5)"
   ]
  },
  {
   "cell_type": "code",
   "execution_count": null,
   "id": "8fc4f170-6150-4d68-8848-2374e90c18fc",
   "metadata": {},
   "outputs": [],
   "source": [
    "%%time\n",
    "result_rf.result.head(5)"
   ]
  },
  {
   "cell_type": "markdown",
   "id": "0d360d3e-050c-4549-88f5-4405f5f89a67",
   "metadata": {},
   "source": [
    "<p style = 'font-size:16px;font-family:Arial'><i><b>Note:</b> If the scoring performed with a classification model does not return a predicted value, the prediction output column could be empty. If the scoring is performed on regression or models which result in a single field, the prediction column will contain a value.</i>"
   ]
  },
  {
   "cell_type": "markdown",
   "id": "64a6aa3e-a9f7-4929-8272-b9196df706a4",
   "metadata": {},
   "source": [
    "<p style = 'font-size:20px;font-family:Arial;color:#E37C4D'><b>Scoring XGBoost Model</b></p>\n",
    "<p style = 'font-size:16px;font-family:Arial'>Scoring the XGBoost model which is stored in bank_models table in PMML format  using Vantage's PMMLPredict funtionality. All the scoring is done in-database inside Vantage.</p>"
   ]
  },
  {
   "cell_type": "code",
   "execution_count": null,
   "id": "6c3c8bec-4fa0-48f5-ac58-344411cd68d2",
   "metadata": {},
   "outputs": [],
   "source": [
    "# Obtain a pointer to the model\n",
    "table_name = 'bank_models'\n",
    "model_id = 'xgb'\n",
    "model_tdf = DataFrame.from_query(f\"SELECT * FROM {table_name} WHERE model_id = '{model_id}'\")\n",
    "result_xgb = PMMLPredict(\n",
    "            modeldata = model_tdf,\n",
    "            newdata = df_test,\n",
    "            accumulate = ['CustomerId', 'Exited'],\n",
    "            model_output_fields = ['probability(1)', 'probability(0)']\n",
    "            )"
   ]
  },
  {
   "cell_type": "code",
   "execution_count": null,
   "id": "6d3e250e-06d8-4a66-99b2-cddecd750196",
   "metadata": {},
   "outputs": [],
   "source": [
    "%%time\n",
    "# Create a local pandas dataframe of the results\n",
    "result_xgb_pandas = result_xgb.result.to_pandas(all_rows = True)\n",
    "result_xgb_pandas.head(5)"
   ]
  },
  {
   "cell_type": "markdown",
   "id": "01560d57-bae6-45a5-b4cb-ffa96d050ed3",
   "metadata": {},
   "source": [
    "<p style = 'font-size:16px;font-family:Arial'><i><b>Note:</b> If the scoring performed with a classification model does not return a predicted value, the prediction output column could be empty. If the scoring is performed on regression or models which result in a single field, the prediction column will contain a value.</i></p>\n",
    "\n",
    "<p style = 'font-size:16px;font-family:Arial'>The ROC curve is a graph between TPR(True Positive Rate) and FPR(False Positive Rate). The area under the ROC curve is a metric of how well the model can distinguish between positive and negative classes. The higher the AUC, the better the model's performance in distinguishing between the positive and negative categories. AUC above 0.75 is generally considered decent.</p>"
   ]
  },
  {
   "cell_type": "code",
   "execution_count": null,
   "id": "99a545ec-65c8-4537-b0d4-9413a4ab7cc4",
   "metadata": {},
   "outputs": [],
   "source": [
    "# ROC curve for Decision Tree model\n",
    "fpr_dt, tpr_dt, thresholds_dt = roc_curve(result_dt_pandas['Exited'], result_dt_pandas['probability(1)'])\n",
    "auc_dt = roc_auc_score(result_dt_pandas['Exited'], result_dt_pandas['probability(1)'])\n",
    "plt.plot(fpr_dt, tpr_dt, color='orange', label='Decision Tree ROC. AUC = {}'.format(str(round(auc_dt, 4))))\n",
    "\n",
    "# ROC curve for Random Forest model\n",
    "fpr_rf, tpr_rf, thresholds_rf = roc_curve(result_rf_pandas['Exited'], result_rf_pandas['probability(1)'])\n",
    "auc_rf = roc_auc_score(result_rf_pandas['Exited'], result_rf_pandas['probability(1)'])\n",
    "plt.plot(fpr_rf, tpr_rf, color='cyan', label='Random Forest ROC. AUC = {}'.format(str(round(auc_rf, 4))))\n",
    "\n",
    "# ROC curve for XGB\n",
    "fpr_xgb, tpr_xgb, thresholds_xgb = roc_curve(result_xgb_pandas['Exited'], result_xgb_pandas['probability(1)'])\n",
    "auc_xgb = roc_auc_score(result_xgb_pandas['Exited'], result_xgb_pandas['probability(1)'])\n",
    "plt.plot(fpr_xgb, tpr_xgb, color='green', label='XGB ROC. AUC = {}'.format(str(round(auc_xgb, 4))))\n",
    "\n",
    "\n",
    "plt.plot([0, 1], [0, 1], color='darkblue', linestyle='--')\n",
    "plt.xlabel('False Positive Rate')\n",
    "plt.ylabel('True Positive Rate')\n",
    "plt.title('Receiver Operating Characteristic (ROC) Curve')\n",
    "plt.legend()\n",
    "plt.show()\n"
   ]
  },
  {
   "cell_type": "markdown",
   "id": "72ba389f-bb0b-4d43-90b7-f8e571418581",
   "metadata": {},
   "source": [
    "<p style = 'font-size:16px;font-family:Arial'>Looking at the above ROC Curve, we can confidently say that our models have performed well on testing data. The AUC Scores are on the higher side and resonates with our understanding that the models is performing well. Among the models we used, Rabdom Forest is performing the best with AUC Score.</p>"
   ]
  },
  {
   "cell_type": "markdown",
   "id": "cd7cfb1e-c420-411c-9abb-3610a85f05e6",
   "metadata": {},
   "source": [
    "<hr>\n",
    "<b style = 'font-size:28px;font-family:Arial;color:#E37C4D'>6. Cleanup</b>\n",
    "<p style = 'font-size:18px;font-family:Arial;color:#E37C4D'><b>Work Tables</b></p>\n",
    "<p style = 'font-size:16px;font-family:Arial'>Cleanup work tables to prevent errors next time.</p>"
   ]
  },
  {
   "cell_type": "code",
   "execution_count": null,
   "id": "aeee1d3b-4f55-4e97-95ab-7a4689321563",
   "metadata": {},
   "outputs": [],
   "source": [
    "eng.execute(\"DROP TABLE bank_models;\")"
   ]
  },
  {
   "cell_type": "code",
   "execution_count": null,
   "id": "b52ce515-d02e-4872-91ae-7735a9db9ef3",
   "metadata": {},
   "outputs": [],
   "source": [
    "eng.execute(\"DROP TABLE BankCustomerChurn_dataset;\")"
   ]
  },
  {
   "cell_type": "code",
   "execution_count": null,
   "id": "a80323e7-2d7b-40e1-be91-2ed040b795bf",
   "metadata": {},
   "outputs": [],
   "source": [
    "eng.execute(\"DROP TABLE BankCustomerChurn_train;\")"
   ]
  },
  {
   "cell_type": "code",
   "execution_count": null,
   "id": "1a64ed19-aa62-4659-b360-92fc989ca606",
   "metadata": {},
   "outputs": [],
   "source": [
    "eng.execute(\"DROP TABLE BankCustomerChurn_test;\")"
   ]
  },
  {
   "cell_type": "markdown",
   "id": "d78b9c75-9bb1-4528-8fd2-be5a3a6a72da",
   "metadata": {},
   "source": [
    "<p style = 'font-size:18px;font-family:Arial;color:#E37C4D'> <b>Databases and Tables </b></p>\n",
    "<p style = 'font-size:16px;font-family:Arial'>The following code will clean up tables and databases created above.</p>"
   ]
  },
  {
   "cell_type": "code",
   "execution_count": null,
   "id": "9472c2ca-65d0-4116-9c45-6411fcea52ef",
   "metadata": {},
   "outputs": [],
   "source": [
    "%run -i ../run_procedure.py \"call remove_data('DEMO_BankChurn');\"        # Takes 5 seconds"
   ]
  },
  {
   "cell_type": "code",
   "execution_count": null,
   "id": "adjacent-romantic",
   "metadata": {},
   "outputs": [],
   "source": [
    "remove_context()"
   ]
  },
  {
   "cell_type": "markdown",
   "id": "b342381e-fa7f-415f-872c-36217b0f8a50",
   "metadata": {},
   "source": [
    "<b style = 'font-size:28px;font-family:Arial;color:#E37C4D'>Dataset:</b>\n",
    "\n",
    "- `Surname`: Surname\n",
    "- `CreditScore`: Credit score\n",
    "- `Geography`: Country (Germany / France / Spain)\n",
    "- `Gender`: Gender (Female / Male)\n",
    "- `Age`: Age\n",
    "- `Tenure`: No of years the customer has been associated with the bank\n",
    "- `Balance`: Balance\n",
    "- `NumOfProducts`: No of bank products used\n",
    "- `HasCrCard`: Credit card status (0 = No, 1 = Yes)\n",
    "- `IsActiveMember`: Active membership status (0 = No, 1 = Yes)\n",
    "- `EstimatedSalary`: Estimated salary\n",
    "- `Exited`: Abandoned or not? (0 = No, 1 = Yes)\n",
    "\n",
    "<p style = 'font-size:16px;font-family:Arial;color:#E37C4D'><b>Links:</b></p>\n",
    "<ul style = 'font-size:16px;font-family:Arial'>\n",
    "    <li>Teradataml Python reference: <a href = 'https://docs.teradata.com/search/all?query=Python+Package+User+Guide&content-lang=en-US'>here</a></li>\n",
    "</ul>"
   ]
  },
  {
   "cell_type": "markdown",
   "id": "0d68cc0e-31b4-411c-8714-2979e6d0dcf6",
   "metadata": {},
   "source": [
    "<footer style=\"padding:10px;background:#f9f9f9;border-bottom:3px solid #394851\">Copyright © Teradata Corporation - 2023. All Rights Reserved.</footer>"
   ]
  }
 ],
 "metadata": {
  "kernelspec": {
   "display_name": "Python 3 (ipykernel)",
   "language": "python",
   "name": "python3"
  },
  "language_info": {
   "codemirror_mode": {
    "name": "ipython",
    "version": 3
   },
   "file_extension": ".py",
   "mimetype": "text/x-python",
   "name": "python",
   "nbconvert_exporter": "python",
   "pygments_lexer": "ipython3",
   "version": "3.9.10"
  }
 },
 "nbformat": 4,
 "nbformat_minor": 5
}
