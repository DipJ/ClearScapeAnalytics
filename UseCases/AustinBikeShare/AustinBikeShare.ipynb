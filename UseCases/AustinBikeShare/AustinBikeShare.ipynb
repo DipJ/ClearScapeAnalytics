{
 "cells": [
  {
   "cell_type": "markdown",
   "metadata": {},
   "source": [
    "<header style=\"padding:1px;background:#f9f9f9;border-top:3px solid #00b2b1\"><img id=\"Teradata-logo\" src=\"https://www.teradata.com/Teradata/Images/Rebrand/Teradata_logo-two_color.png\" alt=\"Teradata\" width=\"220\" align=\"right\" />\n",
    "\n",
    "<b style = 'font-size:28px;font-family:Arial;color:#E37C4D'>Austin Bike Share</b>\n",
    "</header>"
   ]
  },
  {
   "cell_type": "markdown",
   "metadata": {},
   "source": [
    "<p style = 'font-size:16px;font-family:Arial'><b>Links:</b></p>\n",
    "<ul style = 'font-size:16px;font-family:Arial'>\n",
    "    <li>Information about Geospatial datatype can be found at: <a href = 'https://docs.teradata.com/r/Teradata-VantageTM-Geospatial-Data-Types/July-2021'>https://docs.teradata.com/r/Teradata-VantageTM-Geospatial-Data-Types/July-2021</a></li>\n",
    "    <li>Information about Temporal datatype can be found at: <a href = 'https://docs.teradata.com/r/Teradata-VantageTM-Temporal-Table-Support/July-2021'>https://docs.teradata.com/r/Teradata-VantageTM-Temporal-Table-Support/July-2021</a></li>\n",
    "</ul>\n",
    "\n",
    "<p style = 'font-size:16px;font-family:Arial'><b>Contents</b></p>\n",
    "<ol style = 'font-size:16px;font-family:Arial'>\n",
    "    <li>Connect to Teradata </li>\n",
    "    <li>Explore the data </li>\n",
    "    <li>Load local data </li>\n",
    "    <li>Create and Explore Temporal, Time index and Geospatial data </li>\n",
    "    <li>Clean up </li>\n",
    "<hr>"
   ]
  },
  {
   "cell_type": "markdown",
   "metadata": {},
   "source": [
    "<b style = 'font-size:28px;font-family:Arial;color:#E37C4D'> Accessing the Data\n",
    "<p style = 'font-size:16px;font-family:Arial'>These demos will work either with foreign tables accessed from Cloud Storage via NOS or you may import the tables to your machine. If you import data for multiple demos, you may need to use the Data Dictionary \"Manage Your Space\" routine to cleanup tables you no longer need. \n",
    "    \n",
    "<p style = 'font-size:16px;font-family:Arial'>Use the link below to access the 2 options for using data from the data dictionary notebook:\n",
    "\n",
    "[Click Here to get data for this notebook](../Data_Dictionary/Data_Dictionary.ipynb#TRNG_AustinBikeShare)\n",
    "\n",
    "[Click Here to Manage Your Space](../Data_Dictionary/Data_Dictionary.ipynb#Manage_Your_Space)"
   ]
  },
  {
   "cell_type": "markdown",
   "metadata": {},
   "source": [
    "<b style = 'font-size:28px;font-family:Arial;color:#E37C4D'>1. Background on Teradata SQL Kernel in Jupyter</b>\n",
    "\n",
    "<p style = 'font-size:16px;font-family:Arial'>If you are unfamiliar with some of the things you can do in Jupyter to interact with Vantage, the following reference may help, or, just skip to the connect step.</p>\n",
    "<p style = 'font-size:16px;font-family:Arial'>Let's start by checking the main help page</p>"
   ]
  },
  {
   "cell_type": "code",
   "execution_count": null,
   "metadata": {},
   "outputs": [],
   "source": [
    "%help"
   ]
  },
  {
   "cell_type": "markdown",
   "metadata": {},
   "source": [
    "<p style = 'font-size:16px;font-family:Arial'>This notebook will load one set of data. Here is the description of the data loading command:</p>"
   ]
  },
  {
   "cell_type": "code",
   "execution_count": null,
   "metadata": {},
   "outputs": [],
   "source": [
    "%help dataload"
   ]
  },
  {
   "cell_type": "markdown",
   "metadata": {},
   "source": [
    "<p style = 'font-size:16px;font-family:Arial'>To connect I need to use %connect, so let's see what connections already exist with %lsconnect:</p>"
   ]
  },
  {
   "cell_type": "code",
   "execution_count": null,
   "metadata": {},
   "outputs": [],
   "source": [
    "%lsconnect"
   ]
  },
  {
   "cell_type": "markdown",
   "metadata": {},
   "source": [
    "<p style = 'font-size:16px;font-family:Arial'>You can use %help followed by a command to get details on other commands. Here is the help page for %connect</p>    "
   ]
  },
  {
   "cell_type": "code",
   "execution_count": null,
   "metadata": {},
   "outputs": [],
   "source": [
    "%help connect"
   ]
  },
  {
   "cell_type": "markdown",
   "metadata": {},
   "source": [
    "<b style = 'font-size:28px;font-family:Arial;color:#E37C4D'>2. Connect and explore the data</b>\n",
    "\n",
    "<p style = 'font-size:16px;font-family:Arial'>Let's connect to our Teradata system</p>    "
   ]
  },
  {
   "cell_type": "code",
   "execution_count": 1,
   "metadata": {},
   "outputs": [
    {
     "name": "stdin",
     "output_type": "stream",
     "text": [
      "Password: ···\n"
     ]
    },
    {
     "name": "stdout",
     "output_type": "stream",
     "text": [
      "Success: 'local' connection established and activated for user 'demo_user'\n"
     ]
    }
   ],
   "source": [
    "%connect local"
   ]
  },
  {
   "cell_type": "markdown",
   "metadata": {},
   "source": [
    "<p style = 'font-size:16px;font-family:Arial'>As a warm up, let us look at the tables provided</p>       "
   ]
  },
  {
   "cell_type": "code",
   "execution_count": 3,
   "metadata": {},
   "outputs": [
    {
     "data": {
      "application/vnd.teradata.resultset": "\"DatabaseName\",\"TableName\"\n\"TRNG_AustinBikeShare                                        \",\"trips                                                       \"\n\"TRNG_AustinBikeShare                                        \",\"Weather                                                     \"",
      "text/html": [
       "<div class = \"td-resultset-table-div\" style = \"max-height: 100%; overflow-y: auto\">\n",
       "      <table class=\"tdhistory568738\"><style>\n",
       "      table.tdhistory568738 { display: block !important; min-height: 126px !important; overflow: auto !important; height: 126px !important; width: 100% !important; border: 1px solid rgb(207, 207, 207) !important; border-collapse: collapse !important; ; color: var(--jp-ui-font-color1) !important; }\n",
       "      th.tdhistory568738 { border: 1px solid rgb(198,198,198) !important; border-collapse: collapse !important; ; padding: 2px 5px !important; ; font-size: 13px !important; ; text-align: center !important; white-space: normal !important; color: var(--jp-ui-font-color1) !important; }\n",
       "      th.tdhistory568738:last-child { text-align: left !important; }\n",
       "      tbody.tdhistory568738 tr:nth-child(even) { background: rgba(243, 243, 243, 0.75) !important; }\n",
       "      tbody.tdhistory568738 tr:nth-child(odd) { background: var(--jp-ui-inverse-font-color1) !important; }\n",
       "      td.tdhistory568738 { border: 1px solid rgb(207, 207, 207) !important; border-collapse: collapse !important; ; padding: 2px 5px !important; ; font-size: 13px !important; ; text-align: left !important;          white-space: nowrap !important; overflow:hidden !important; text-overflow:ellipsis !important;; }\n",
       "    </style><thead><tr style= \"background: rgba(243, 243, 243, 0.75)\"><th class=\"tdhistory568738\"></th><th class=\"tdhistory568738\">DatabaseName</th><th class=\"tdhistory568738\">TableName</th></tr></thead><tbody class=\"tdhistory568738 resultset-body\"><tr><th class=\"tdhistory568738\" style= \"background: rgba(243, 243, 243, 0.75)\">1</th><td class=\"tdhistory568738\">TRNG_AustinBikeShare                                        </td><td class=\"tdhistory568738\">trips                                                       </td></tr><tr><th class=\"tdhistory568738\" style= \"background: rgba(243, 243, 243, 0.75)\">2</th><td class=\"tdhistory568738\">TRNG_AustinBikeShare                                        </td><td class=\"tdhistory568738\">Weather                                                     </td></tr></tbody></table></div>"
      ]
     },
     "execution_count": 3,
     "metadata": {
      "application/vnd.teradata.resultset": "{\"resultSetID\":\"/home/jovyan/JupyterLabRoot/Teradata/Resultsets/2022.09.05_14.52.20.764_UTC\",\"historyID\":145,\"chunkID\":\"00001\",\"sessionid\":\"\",\"portnum\":\"\",\"dockermode\":\"docker\",\"totalRowCount\":2,\"chunkCount\":0,\"rowLimit\":0,\"columnMetadata\":[{\"columnName\":\"DatabaseName\",\"columnTypeName\":\"CHAR\",\"length\":30,\"scale\":30},{\"columnNumber\":1,\"columnName\":\"TableName\",\"columnTypeName\":\"CHAR\",\"length\":30,\"scale\":30}]}"
     },
     "output_type": "execute_result"
    }
   ],
   "source": [
    "SELECT \n",
    "    DatabaseName,\n",
    "    TableName\n",
    "FROM\n",
    "    DBC.Tables\n",
    "WHERE\n",
    "    DatabaseName = 'TRNG_AustinBikeShare'"
   ]
  },
  {
   "cell_type": "code",
   "execution_count": 4,
   "metadata": {},
   "outputs": [
    {
     "data": {
      "application/vnd.teradata.resultset": "\"Count(*)\"\n\"649231\"",
      "text/html": [
       "<div class = \"td-resultset-table-div\" style = \"max-height: 100%; overflow-y: auto\">\n",
       "      <table class=\"tdhistory772882\"><style>\n",
       "      table.tdhistory772882 { display: block !important; min-height: 105px !important; overflow: auto !important; height: 105px !important; width: 100% !important; border: 1px solid rgb(207, 207, 207) !important; border-collapse: collapse !important; ; color: var(--jp-ui-font-color1) !important; }\n",
       "      th.tdhistory772882 { border: 1px solid rgb(198,198,198) !important; border-collapse: collapse !important; ; padding: 2px 5px !important; ; font-size: 13px !important; ; text-align: center !important; white-space: normal !important; color: var(--jp-ui-font-color1) !important; }\n",
       "      th.tdhistory772882:last-child { text-align: left !important; }\n",
       "      tbody.tdhistory772882 tr:nth-child(even) { background: rgba(243, 243, 243, 0.75) !important; }\n",
       "      tbody.tdhistory772882 tr:nth-child(odd) { background: var(--jp-ui-inverse-font-color1) !important; }\n",
       "      td.tdhistory772882 { border: 1px solid rgb(207, 207, 207) !important; border-collapse: collapse !important; ; padding: 2px 5px !important; ; font-size: 13px !important; ; text-align: left !important;          white-space: nowrap !important; overflow:hidden !important; text-overflow:ellipsis !important;; }\n",
       "    </style><thead><tr style= \"background: rgba(243, 243, 243, 0.75)\"><th class=\"tdhistory772882\"></th><th class=\"tdhistory772882\">Count(*)</th></tr></thead><tbody class=\"tdhistory772882 resultset-body\"><tr><th class=\"tdhistory772882\" style= \"background: rgba(243, 243, 243, 0.75)\">1</th><td class=\"tdhistory772882\">649231</td></tr></tbody></table></div>"
      ]
     },
     "execution_count": 4,
     "metadata": {
      "application/vnd.teradata.resultset": "{\"resultSetID\":\"/home/jovyan/JupyterLabRoot/Teradata/Resultsets/2022.09.05_14.52.28.224_UTC\",\"historyID\":146,\"chunkID\":\"00001\",\"sessionid\":\"\",\"portnum\":\"\",\"dockermode\":\"docker\",\"totalRowCount\":1,\"chunkCount\":0,\"rowLimit\":0,\"columnMetadata\":[{\"columnName\":\"Count(*)\",\"columnTypeName\":\"INTEGER\"}]}"
     },
     "output_type": "execute_result"
    }
   ],
   "source": [
    "select count(*) from TRNG_AustinBikeShare.trips"
   ]
  },
  {
   "cell_type": "markdown",
   "metadata": {},
   "source": [
    "<p style = 'font-size:16px;font-family:Arial'>We can explore the tables manually as below.  Alternatively, from the Jupyter window commands, select File/New Launcher, (or just ctrl-shift-L) to start a new launcher and click the Teradata Navigator tile to view all of the databases/tables/views on your machine. (Foreign tables using NOS to connect to cloude storage are defined in the database gs_tables_db and the views for this notebook are in TRNG_AustinBikeShare). </p>    "
   ]
  },
  {
   "cell_type": "code",
   "execution_count": 5,
   "metadata": {},
   "outputs": [
    {
     "data": {
      "application/vnd.teradata.resultset": "\"bikeid\",\"checkout_time\",\"duration_minutes\",\"end_station_id\",\"end_station_name\",\"MONTH_NUM\",\"start_station_id\",\"start_station_name\",\"start_time\",\"subscriber_type\",\"trip_id\",\"YEAR_NUM\"\n\"854\",\"10:28:44\",\"15\",\"2711\",\"Barton Springs @ Kinney Ave\",\"10\",\"3377\",\"MoPac Pedestrian Bridge @ Veterans Drive\",\"2016-10-11 06:28:44.000000\",\"Weekender\",\"12336998\",\"2016\"\n\"176\",\"7:12:58\",\"14\",\"2823\",\"Capital Metro HQ - East 5th at Broadway\",\"10\",\"2542\",\"Plaza Saltillo\",\"2015-10-07 03:12:58.000000\",\"Local365\",\"9900295639\",\"2015\"\n\"327\",\"18:12:00\",\"2\",\"2498\",\"Convention Center / 4th St. @ MetroRail\",\"4\",\"2562\",\"San Jacinto & 8th Street\",\"2015-04-15 14:12:00.000000\",\"Local30\",\"9900115619\",\"2015\"\n\"572\",\"14:04:35\",\"27\",\"2504\",\"South Congress & Elizabeth\",\"5\",\"2538\",\"Bullock Museum @ Congress & MLK\",\"2017-05-27 10:04:35.000000\",\"Explorer\",\"14942659\",\"2017\"\n\"553\",\"17:40:45\",\"9\",\"2565\",\"Trinity & 6th Street\",\"6\",\"2563\",\"Davis at Rainey Street\",\"2016-06-14 13:40:45.000000\",\"Walk Up\",\"10468587\",\"2016\"\n\"655\",\"15:01:48\",\"47\",\"3377\",\"MoPac Pedestrian Bridge @ Veterans Drive\",\"8\",\"3377\",\"MoPac Pedestrian Bridge @ Veterans Drive\",\"2016-08-22 11:01:48.000000\",\"Walk Up\",\"11535024\",\"2016\"\n\"22\",\"20:12:06\",\"4\",\"2552\",\"3rd & West\",\"10\",\"2499\",\"City Hall / Lavaca & 2nd\",\"2015-10-09 16:12:06.000000\",\"Local30\",\"9900297719\",\"2015\"\n\"716\",\"6:36:49\",\"8\",\"2563\",\"Davis at Rainey Street\",\"5\",\"3291\",\"11th & San Jacinto\",\"2017-05-31 02:36:49.000000\",\"Local365\",\"14990682\",\"2017\"\n\"160\",\"7:12:00\",\"205\",\"2541\",\"State Capitol @ 14th & Colorado\",\"2\",\"2541\",\"State Capitol @ 14th & Colorado\",\"2014-02-16 02:12:00.000000\",\"24-Hour Kiosk (Austin B-cycle)\",\"9900024671\",\"2014\"\n\"334\",\"8:12:00\",\"7\",\"2565\",\"Trinity & 6th Street\",\"4\",\"2563\",\"Davis at Rainey Street\",\"2014-04-29 04:12:00.000000\",\"Annual Membership (Austin B-cycle)\",\"9900107034\",\"2014\"",
      "text/html": [
       "<div class = \"td-resultset-table-div\" style = \"max-height: 100%; overflow-y: auto\">\n",
       "      <table class=\"tdhistory329047\"><style>\n",
       "      table.tdhistory329047 { display: block !important; min-height: 294px !important; overflow: auto !important; height: 294px !important; width: 100% !important; border: 1px solid rgb(207, 207, 207) !important; border-collapse: collapse !important; ; color: var(--jp-ui-font-color1) !important; }\n",
       "      th.tdhistory329047 { border: 1px solid rgb(198,198,198) !important; border-collapse: collapse !important; ; padding: 2px 5px !important; ; font-size: 13px !important; ; text-align: center !important; white-space: normal !important; color: var(--jp-ui-font-color1) !important; }\n",
       "      th.tdhistory329047:last-child { text-align: left !important; }\n",
       "      tbody.tdhistory329047 tr:nth-child(even) { background: rgba(243, 243, 243, 0.75) !important; }\n",
       "      tbody.tdhistory329047 tr:nth-child(odd) { background: var(--jp-ui-inverse-font-color1) !important; }\n",
       "      td.tdhistory329047 { border: 1px solid rgb(207, 207, 207) !important; border-collapse: collapse !important; ; padding: 2px 5px !important; ; font-size: 13px !important; ; text-align: left !important;          white-space: nowrap !important; overflow:hidden !important; text-overflow:ellipsis !important;; }\n",
       "    </style><thead><tr style= \"background: rgba(243, 243, 243, 0.75)\"><th class=\"tdhistory329047\"></th><th class=\"tdhistory329047\">bikeid</th><th class=\"tdhistory329047\">checkout_time</th><th class=\"tdhistory329047\">duration_minutes</th><th class=\"tdhistory329047\">end_station_id</th><th class=\"tdhistory329047\">end_station_name</th><th class=\"tdhistory329047\">MONTH_NUM</th><th class=\"tdhistory329047\">start_station_id</th><th class=\"tdhistory329047\">start_station_name</th><th class=\"tdhistory329047\">start_time</th><th class=\"tdhistory329047\">subscriber_type</th><th class=\"tdhistory329047\">trip_id</th><th class=\"tdhistory329047\">YEAR_NUM</th></tr></thead><tbody class=\"tdhistory329047 resultset-body\"><tr><th class=\"tdhistory329047\" style= \"background: rgba(243, 243, 243, 0.75)\">1</th><td class=\"tdhistory329047\">854</td><td class=\"tdhistory329047\">10:28:44</td><td class=\"tdhistory329047\">15</td><td class=\"tdhistory329047\">2711</td><td class=\"tdhistory329047\">Barton Springs @ Kinney Ave</td><td class=\"tdhistory329047\">10</td><td class=\"tdhistory329047\">3377</td><td class=\"tdhistory329047\">MoPac Pedestrian Bridge @ Veterans Drive</td><td class=\"tdhistory329047\">2016-10-11 06:28:44.000000</td><td class=\"tdhistory329047\">Weekender</td><td class=\"tdhistory329047\">12336998</td><td class=\"tdhistory329047\">2016</td></tr><tr><th class=\"tdhistory329047\" style= \"background: rgba(243, 243, 243, 0.75)\">2</th><td class=\"tdhistory329047\">176</td><td class=\"tdhistory329047\">7:12:58</td><td class=\"tdhistory329047\">14</td><td class=\"tdhistory329047\">2823</td><td class=\"tdhistory329047\">Capital Metro HQ - East 5th at Broadway</td><td class=\"tdhistory329047\">10</td><td class=\"tdhistory329047\">2542</td><td class=\"tdhistory329047\">Plaza Saltillo</td><td class=\"tdhistory329047\">2015-10-07 03:12:58.000000</td><td class=\"tdhistory329047\">Local365</td><td class=\"tdhistory329047\">9900295639</td><td class=\"tdhistory329047\">2015</td></tr><tr><th class=\"tdhistory329047\" style= \"background: rgba(243, 243, 243, 0.75)\">3</th><td class=\"tdhistory329047\">327</td><td class=\"tdhistory329047\">18:12:00</td><td class=\"tdhistory329047\">2</td><td class=\"tdhistory329047\">2498</td><td class=\"tdhistory329047\">Convention Center / 4th St. @ MetroRail</td><td class=\"tdhistory329047\">4</td><td class=\"tdhistory329047\">2562</td><td class=\"tdhistory329047\">San Jacinto & 8th Street</td><td class=\"tdhistory329047\">2015-04-15 14:12:00.000000</td><td class=\"tdhistory329047\">Local30</td><td class=\"tdhistory329047\">9900115619</td><td class=\"tdhistory329047\">2015</td></tr><tr><th class=\"tdhistory329047\" style= \"background: rgba(243, 243, 243, 0.75)\">4</th><td class=\"tdhistory329047\">572</td><td class=\"tdhistory329047\">14:04:35</td><td class=\"tdhistory329047\">27</td><td class=\"tdhistory329047\">2504</td><td class=\"tdhistory329047\">South Congress & Elizabeth</td><td class=\"tdhistory329047\">5</td><td class=\"tdhistory329047\">2538</td><td class=\"tdhistory329047\">Bullock Museum @ Congress & MLK</td><td class=\"tdhistory329047\">2017-05-27 10:04:35.000000</td><td class=\"tdhistory329047\">Explorer</td><td class=\"tdhistory329047\">14942659</td><td class=\"tdhistory329047\">2017</td></tr><tr><th class=\"tdhistory329047\" style= \"background: rgba(243, 243, 243, 0.75)\">5</th><td class=\"tdhistory329047\">553</td><td class=\"tdhistory329047\">17:40:45</td><td class=\"tdhistory329047\">9</td><td class=\"tdhistory329047\">2565</td><td class=\"tdhistory329047\">Trinity & 6th Street</td><td class=\"tdhistory329047\">6</td><td class=\"tdhistory329047\">2563</td><td class=\"tdhistory329047\">Davis at Rainey Street</td><td class=\"tdhistory329047\">2016-06-14 13:40:45.000000</td><td class=\"tdhistory329047\">Walk Up</td><td class=\"tdhistory329047\">10468587</td><td class=\"tdhistory329047\">2016</td></tr><tr><th class=\"tdhistory329047\" style= \"background: rgba(243, 243, 243, 0.75)\">6</th><td class=\"tdhistory329047\">655</td><td class=\"tdhistory329047\">15:01:48</td><td class=\"tdhistory329047\">47</td><td class=\"tdhistory329047\">3377</td><td class=\"tdhistory329047\">MoPac Pedestrian Bridge @ Veterans Drive</td><td class=\"tdhistory329047\">8</td><td class=\"tdhistory329047\">3377</td><td class=\"tdhistory329047\">MoPac Pedestrian Bridge @ Veterans Drive</td><td class=\"tdhistory329047\">2016-08-22 11:01:48.000000</td><td class=\"tdhistory329047\">Walk Up</td><td class=\"tdhistory329047\">11535024</td><td class=\"tdhistory329047\">2016</td></tr><tr><th class=\"tdhistory329047\" style= \"background: rgba(243, 243, 243, 0.75)\">7</th><td class=\"tdhistory329047\">22</td><td class=\"tdhistory329047\">20:12:06</td><td class=\"tdhistory329047\">4</td><td class=\"tdhistory329047\">2552</td><td class=\"tdhistory329047\">3rd & West</td><td class=\"tdhistory329047\">10</td><td class=\"tdhistory329047\">2499</td><td class=\"tdhistory329047\">City Hall / Lavaca & 2nd</td><td class=\"tdhistory329047\">2015-10-09 16:12:06.000000</td><td class=\"tdhistory329047\">Local30</td><td class=\"tdhistory329047\">9900297719</td><td class=\"tdhistory329047\">2015</td></tr><tr><th class=\"tdhistory329047\" style= \"background: rgba(243, 243, 243, 0.75)\">8</th><td class=\"tdhistory329047\">716</td><td class=\"tdhistory329047\">6:36:49</td><td class=\"tdhistory329047\">8</td><td class=\"tdhistory329047\">2563</td><td class=\"tdhistory329047\">Davis at Rainey Street</td><td class=\"tdhistory329047\">5</td><td class=\"tdhistory329047\">3291</td><td class=\"tdhistory329047\">11th & San Jacinto</td><td class=\"tdhistory329047\">2017-05-31 02:36:49.000000</td><td class=\"tdhistory329047\">Local365</td><td class=\"tdhistory329047\">14990682</td><td class=\"tdhistory329047\">2017</td></tr><tr><th class=\"tdhistory329047\" style= \"background: rgba(243, 243, 243, 0.75)\">9</th><td class=\"tdhistory329047\">160</td><td class=\"tdhistory329047\">7:12:00</td><td class=\"tdhistory329047\">205</td><td class=\"tdhistory329047\">2541</td><td class=\"tdhistory329047\">State Capitol @ 14th & Colorado</td><td class=\"tdhistory329047\">2</td><td class=\"tdhistory329047\">2541</td><td class=\"tdhistory329047\">State Capitol @ 14th & Colorado</td><td class=\"tdhistory329047\">2014-02-16 02:12:00.000000</td><td class=\"tdhistory329047\">24-Hour Kiosk (Austin B-cycle)</td><td class=\"tdhistory329047\">9900024671</td><td class=\"tdhistory329047\">2014</td></tr><tr><th class=\"tdhistory329047\" style= \"background: rgba(243, 243, 243, 0.75)\">10</th><td class=\"tdhistory329047\">334</td><td class=\"tdhistory329047\">8:12:00</td><td class=\"tdhistory329047\">7</td><td class=\"tdhistory329047\">2565</td><td class=\"tdhistory329047\">Trinity & 6th Street</td><td class=\"tdhistory329047\">4</td><td class=\"tdhistory329047\">2563</td><td class=\"tdhistory329047\">Davis at Rainey Street</td><td class=\"tdhistory329047\">2014-04-29 04:12:00.000000</td><td class=\"tdhistory329047\">Annual Membership (Austin B-cycle)</td><td class=\"tdhistory329047\">9900107034</td><td class=\"tdhistory329047\">2014</td></tr></tbody></table></div>"
      ]
     },
     "execution_count": 5,
     "metadata": {
      "application/vnd.teradata.resultset": "{\"resultSetID\":\"/home/jovyan/JupyterLabRoot/Teradata/Resultsets/2022.09.05_15.04.16.161_UTC\",\"historyID\":147,\"chunkID\":\"00001\",\"sessionid\":\"\",\"portnum\":\"\",\"dockermode\":\"docker\",\"totalRowCount\":10,\"chunkCount\":0,\"rowLimit\":0,\"columnMetadata\":[{\"columnName\":\"bikeid\",\"columnTypeName\":\"INTEGER\"},{\"columnNumber\":1,\"columnName\":\"checkout_time\",\"columnTypeName\":\"VARCHAR\",\"length\":50,\"scale\":50},{\"columnNumber\":2,\"columnName\":\"duration_minutes\",\"columnTypeName\":\"INTEGER\"},{\"columnNumber\":3,\"columnName\":\"end_station_id\",\"columnTypeName\":\"INTEGER\"},{\"columnNumber\":4,\"columnName\":\"end_station_name\",\"columnTypeName\":\"VARCHAR\",\"length\":100,\"scale\":100},{\"columnNumber\":5,\"columnName\":\"MONTH_NUM\",\"columnTypeName\":\"INTEGER\"},{\"columnNumber\":6,\"columnName\":\"start_station_id\",\"columnTypeName\":\"INTEGER\"},{\"columnNumber\":7,\"columnName\":\"start_station_name\",\"columnTypeName\":\"VARCHAR\",\"length\":100,\"scale\":100},{\"columnNumber\":8,\"columnName\":\"start_time\",\"columnTypeName\":\"TIMESTAMP\",\"length\":6,\"scale\":6},{\"columnNumber\":9,\"columnName\":\"subscriber_type\",\"columnTypeName\":\"VARCHAR\",\"length\":50,\"scale\":50},{\"columnNumber\":10,\"columnName\":\"trip_id\",\"columnTypeName\":\"BIGINT\"},{\"columnNumber\":11,\"columnName\":\"YEAR_NUM\",\"columnTypeName\":\"INTEGER\"}]}"
     },
     "output_type": "execute_result"
    }
   ],
   "source": [
    "SELECT\n",
    "    TOP 10\n",
    "    *\n",
    "FROM\n",
    "    TRNG_AustinBikeShare.trips"
   ]
  },
  {
   "cell_type": "markdown",
   "metadata": {},
   "source": [
    "<p style = 'font-size:16px;font-family:Arial'>We can start with some basic analysis to understand the data.  First, the most popular <p style = 'font-size:16px;font-family:Arial'>We can explore the tables manually as below.  Alternatively, from the Jupyter window commands, select File/New Launcher, (or just ctrl-shift-L) to start a new launcher and click the Teradata Navigator tile to view all of the databases/tables/views on your machine. (Foreign tables using NOS to connect to cloude storage are defined in the database gs_tables_db and the views for this notebook are in TRNG_AustinBikeShare). </p>    stations. </p>    "
   ]
  },
  {
   "cell_type": "code",
   "execution_count": 16,
   "metadata": {},
   "outputs": [
    {
     "data": {
      "application/vnd.teradata.resultset": "\"start_station_name\",\"trips\"\n\"Riverside @ S. Lamar\",\"28695\"\n\"City Hall / Lavaca & 2nd\",\"28535\"\n\"5th & Bowie\",\"26669\"\n\"2nd & Congress\",\"26612\"\n\"4th & Congress\",\"24972\"\n\"Convention Center / 4th St. @ MetroRail\",\"24357\"\n\"Rainey St @ Cummings\",\"23468\"\n\"Davis at Rainey Street\",\"22273\"\n\"Capitol Station / Congress & 11th\",\"20056\"\n\"Pfluger Bridge @ W 2nd Street\",\"19434\"\n\"Long Center @ South 1st & Riverside\",\"16285\"\n\"Barton Springs & Riverside\",\"16130\"\n\"Barton Springs @ Kinney Ave\",\"15816\"\n\"3rd & West\",\"15576\"\n\"Palmer Auditorium\",\"15044\"\n\"South Congress & James\",\"14802\"\n\"South Congress & Academy\",\"14607\"\n\"Zilker Park\",\"13390\"\n\"8th & Congress\",\"13034\"\n\"Convention Center / 3rd & Trinity\",\"12848\"",
      "text/html": [
       "<div class = \"td-resultset-table-div\" style = \"max-height: 100%; overflow-y: auto\">\n",
       "      <table class=\"tdhistory696901\"><style>\n",
       "      table.tdhistory696901 { display: block !important; min-height: 504px !important; overflow: auto !important; height: 504px !important; width: 100% !important; border: 1px solid rgb(207, 207, 207) !important; border-collapse: collapse !important; ; color: var(--jp-ui-font-color1) !important; }\n",
       "      th.tdhistory696901 { border: 1px solid rgb(198,198,198) !important; border-collapse: collapse !important; ; padding: 2px 5px !important; ; font-size: 13px !important; ; text-align: center !important; white-space: normal !important; color: var(--jp-ui-font-color1) !important; }\n",
       "      th.tdhistory696901:last-child { text-align: left !important; }\n",
       "      tbody.tdhistory696901 tr:nth-child(even) { background: rgba(243, 243, 243, 0.75) !important; }\n",
       "      tbody.tdhistory696901 tr:nth-child(odd) { background: var(--jp-ui-inverse-font-color1) !important; }\n",
       "      td.tdhistory696901 { border: 1px solid rgb(207, 207, 207) !important; border-collapse: collapse !important; ; padding: 2px 5px !important; ; font-size: 13px !important; ; text-align: left !important;          white-space: nowrap !important; overflow:hidden !important; text-overflow:ellipsis !important;; }\n",
       "    </style><thead><tr style= \"background: rgba(243, 243, 243, 0.75)\"><th class=\"tdhistory696901\"></th><th class=\"tdhistory696901\">start_station_name</th><th class=\"tdhistory696901\">trips</th></tr></thead><tbody class=\"tdhistory696901 resultset-body\"><tr><th class=\"tdhistory696901\" style= \"background: rgba(243, 243, 243, 0.75)\">1</th><td class=\"tdhistory696901\">Riverside @ S. Lamar</td><td class=\"tdhistory696901\">28695</td></tr><tr><th class=\"tdhistory696901\" style= \"background: rgba(243, 243, 243, 0.75)\">2</th><td class=\"tdhistory696901\">City Hall / Lavaca & 2nd</td><td class=\"tdhistory696901\">28535</td></tr><tr><th class=\"tdhistory696901\" style= \"background: rgba(243, 243, 243, 0.75)\">3</th><td class=\"tdhistory696901\">5th & Bowie</td><td class=\"tdhistory696901\">26669</td></tr><tr><th class=\"tdhistory696901\" style= \"background: rgba(243, 243, 243, 0.75)\">4</th><td class=\"tdhistory696901\">2nd & Congress</td><td class=\"tdhistory696901\">26612</td></tr><tr><th class=\"tdhistory696901\" style= \"background: rgba(243, 243, 243, 0.75)\">5</th><td class=\"tdhistory696901\">4th & Congress</td><td class=\"tdhistory696901\">24972</td></tr><tr><th class=\"tdhistory696901\" style= \"background: rgba(243, 243, 243, 0.75)\">6</th><td class=\"tdhistory696901\">Convention Center / 4th St. @ MetroRail</td><td class=\"tdhistory696901\">24357</td></tr><tr><th class=\"tdhistory696901\" style= \"background: rgba(243, 243, 243, 0.75)\">7</th><td class=\"tdhistory696901\">Rainey St @ Cummings</td><td class=\"tdhistory696901\">23468</td></tr><tr><th class=\"tdhistory696901\" style= \"background: rgba(243, 243, 243, 0.75)\">8</th><td class=\"tdhistory696901\">Davis at Rainey Street</td><td class=\"tdhistory696901\">22273</td></tr><tr><th class=\"tdhistory696901\" style= \"background: rgba(243, 243, 243, 0.75)\">9</th><td class=\"tdhistory696901\">Capitol Station / Congress & 11th</td><td class=\"tdhistory696901\">20056</td></tr><tr><th class=\"tdhistory696901\" style= \"background: rgba(243, 243, 243, 0.75)\">10</th><td class=\"tdhistory696901\">Pfluger Bridge @ W 2nd Street</td><td class=\"tdhistory696901\">19434</td></tr><tr><th class=\"tdhistory696901\" style= \"background: rgba(243, 243, 243, 0.75)\">11</th><td class=\"tdhistory696901\">Long Center @ South 1st & Riverside</td><td class=\"tdhistory696901\">16285</td></tr><tr><th class=\"tdhistory696901\" style= \"background: rgba(243, 243, 243, 0.75)\">12</th><td class=\"tdhistory696901\">Barton Springs & Riverside</td><td class=\"tdhistory696901\">16130</td></tr><tr><th class=\"tdhistory696901\" style= \"background: rgba(243, 243, 243, 0.75)\">13</th><td class=\"tdhistory696901\">Barton Springs @ Kinney Ave</td><td class=\"tdhistory696901\">15816</td></tr><tr><th class=\"tdhistory696901\" style= \"background: rgba(243, 243, 243, 0.75)\">14</th><td class=\"tdhistory696901\">3rd & West</td><td class=\"tdhistory696901\">15576</td></tr><tr><th class=\"tdhistory696901\" style= \"background: rgba(243, 243, 243, 0.75)\">15</th><td class=\"tdhistory696901\">Palmer Auditorium</td><td class=\"tdhistory696901\">15044</td></tr><tr><th class=\"tdhistory696901\" style= \"background: rgba(243, 243, 243, 0.75)\">16</th><td class=\"tdhistory696901\">South Congress & James</td><td class=\"tdhistory696901\">14802</td></tr><tr><th class=\"tdhistory696901\" style= \"background: rgba(243, 243, 243, 0.75)\">17</th><td class=\"tdhistory696901\">South Congress & Academy</td><td class=\"tdhistory696901\">14607</td></tr><tr><th class=\"tdhistory696901\" style= \"background: rgba(243, 243, 243, 0.75)\">18</th><td class=\"tdhistory696901\">Zilker Park</td><td class=\"tdhistory696901\">13390</td></tr><tr><th class=\"tdhistory696901\" style= \"background: rgba(243, 243, 243, 0.75)\">19</th><td class=\"tdhistory696901\">8th & Congress</td><td class=\"tdhistory696901\">13034</td></tr><tr><th class=\"tdhistory696901\" style= \"background: rgba(243, 243, 243, 0.75)\">20</th><td class=\"tdhistory696901\">Convention Center / 3rd & Trinity</td><td class=\"tdhistory696901\">12848</td></tr></tbody></table></div>"
      ]
     },
     "execution_count": 16,
     "metadata": {
      "application/vnd.teradata.resultset": "{\"resultSetID\":\"/home/jovyan/JupyterLabRoot/Teradata/Resultsets/2022.09.05_15.21.20.517_UTC\",\"historyID\":158,\"chunkID\":\"00001\",\"sessionid\":\"\",\"portnum\":\"\",\"dockermode\":\"docker\",\"totalRowCount\":20,\"chunkCount\":0,\"rowLimit\":0,\"columnMetadata\":[{\"columnName\":\"start_station_name\",\"columnTypeName\":\"VARCHAR\",\"length\":100,\"scale\":100},{\"columnNumber\":1,\"columnName\":\"trips\",\"columnTypeName\":\"INTEGER\"}]}"
     },
     "output_type": "execute_result"
    }
   ],
   "source": [
    "SELECT\n",
    "    TOP 20\n",
    "    start_station_name,\n",
    "    COUNT(1) AS trips\n",
    "FROM\n",
    "    TRNG_AustinBikeShare.trips\n",
    "GROUP BY 1\n",
    "ORDER BY 2 DESC"
   ]
  },
  {
   "cell_type": "code",
   "execution_count": 17,
   "metadata": {},
   "outputs": [
    {
     "data": {
      "application/vnd.vegalite.v3+json": {
       "$schema": "https://vega.github.io/schema/vega-lite/v3.json",
       "data": {
        "format": {
         "type": "csv"
        },
        "values": "\"start_station_name\",\"trips\"\n\"Riverside @ S. Lamar\",\"28695\"\n\"City Hall / Lavaca & 2nd\",\"28535\"\n\"5th & Bowie\",\"26669\"\n\"2nd & Congress\",\"26612\"\n\"4th & Congress\",\"24972\"\n\"Convention Center / 4th St. @ MetroRail\",\"24357\"\n\"Rainey St @ Cummings\",\"23468\"\n\"Davis at Rainey Street\",\"22273\"\n\"Capitol Station / Congress & 11th\",\"20056\"\n\"Pfluger Bridge @ W 2nd Street\",\"19434\"\n\"Long Center @ South 1st & Riverside\",\"16285\"\n\"Barton Springs & Riverside\",\"16130\"\n\"Barton Springs @ Kinney Ave\",\"15816\"\n\"3rd & West\",\"15576\"\n\"Palmer Auditorium\",\"15044\"\n\"South Congress & James\",\"14802\"\n\"South Congress & Academy\",\"14607\"\n\"Zilker Park\",\"13390\"\n\"8th & Congress\",\"13034\"\n\"Convention Center / 3rd & Trinity\",\"12848\"\n"
       },
       "encoding": {
        "x": {
         "axis": {
          "grid": true,
          "title": "start_station_name"
         },
         "field": "start_station_name",
         "sort": "descending",
         "type": "nominal"
        },
        "y": {
         "axis": {
          "grid": true,
          "title": "trips"
         },
         "field": "trips",
         "type": "quantitative"
        }
       },
       "mark": {
        "color": "#4C78A8",
        "type": "bar"
       },
       "title": "Trips by station"
      },
      "image/png": "[encoded data removed]"
     },
     "execution_count": 17,
     "metadata": {
      "application/vnd.teradata.resultset": ""
     },
     "output_type": "execute_result"
    }
   ],
   "source": [
    "%chart start_station_name, trips, title=Trips by station, sortx=descending"
   ]
  },
  {
   "cell_type": "markdown",
   "metadata": {},
   "source": [
    "<p style = 'font-size:16px;font-family:Arial'>Then look at the pattern of bimk usage over time. </p>    "
   ]
  },
  {
   "cell_type": "code",
   "execution_count": 18,
   "metadata": {},
   "outputs": [
    {
     "data": {
      "application/vnd.teradata.resultset": "\"start_Month\",\"trips\"\n\"2013-12-01\",\"1469\"\n\"2014-01-01\",\"3373\"\n\"2014-02-01\",\"5519\"\n\"2014-03-01\",\"25769\"\n\"2014-04-01\",\"14465\"\n\"2014-05-01\",\"15078\"\n\"2014-06-01\",\"13620\"\n\"2014-07-01\",\"14351\"\n\"2014-08-01\",\"11146\"\n\"2014-09-01\",\"11539\"\n\"2014-10-01\",\"22864\"\n\"2014-11-01\",\"10702\"\n\"2014-12-01\",\"7289\"\n\"2015-01-01\",\"7755\"\n\"2015-02-01\",\"9561\"\n\"2015-03-01\",\"30116\"\n\"2015-04-01\",\"16572\"\n\"2015-05-01\",\"15840\"\n\"2015-06-01\",\"13873\"\n\"2015-07-01\",\"16362\"\n\"2015-08-01\",\"14493\"\n\"2015-09-01\",\"15252\"\n\"2015-10-01\",\"22920\"\n\"2015-11-01\",\"11701\"\n\"2015-12-01\",\"10138\"\n\"2016-01-01\",\"22086\"\n\"2016-02-01\",\"13354\"\n\"2016-03-01\",\"29556\"\n\"2016-04-01\",\"61\"\n\"2016-05-01\",\"19514\"\n\"2016-06-01\",\"16556\"\n\"2016-07-01\",\"16231\"\n\"2016-08-01\",\"12379\"\n\"2016-09-01\",\"15977\"\n\"2016-10-01\",\"24239\"\n\"2016-11-01\",\"14641\"\n\"2016-12-01\",\"41\"\n\"2017-01-01\",\"10421\"\n\"2017-02-01\",\"13600\"\n\"2017-03-01\",\"26547\"\n\"2017-04-01\",\"22392\"\n\"2017-05-01\",\"19121\"\n\"2017-06-01\",\"16123\"\n\"2017-07-01\",\"14625\"",
      "text/html": [
       "<div class = \"td-resultset-table-div\" style = \"max-height: 100%; overflow-y: auto\">\n",
       "      <table class=\"tdhistory611775\"><style>\n",
       "      table.tdhistory611775 { display: block !important; min-height: 588px !important; overflow: auto !important; height: 588px !important; width: 100% !important; border: 1px solid rgb(207, 207, 207) !important; border-collapse: collapse !important; ; color: var(--jp-ui-font-color1) !important; }\n",
       "      th.tdhistory611775 { border: 1px solid rgb(198,198,198) !important; border-collapse: collapse !important; ; padding: 2px 5px !important; ; font-size: 13px !important; ; text-align: center !important; white-space: normal !important; color: var(--jp-ui-font-color1) !important; }\n",
       "      th.tdhistory611775:last-child { text-align: left !important; }\n",
       "      tbody.tdhistory611775 tr:nth-child(even) { background: rgba(243, 243, 243, 0.75) !important; }\n",
       "      tbody.tdhistory611775 tr:nth-child(odd) { background: var(--jp-ui-inverse-font-color1) !important; }\n",
       "      td.tdhistory611775 { border: 1px solid rgb(207, 207, 207) !important; border-collapse: collapse !important; ; padding: 2px 5px !important; ; font-size: 13px !important; ; text-align: left !important;          white-space: nowrap !important; overflow:hidden !important; text-overflow:ellipsis !important;; }\n",
       "    </style><thead><tr style= \"background: rgba(243, 243, 243, 0.75)\"><th class=\"tdhistory611775\"></th><th class=\"tdhistory611775\">start_Month</th><th class=\"tdhistory611775\">trips</th></tr></thead><tbody class=\"tdhistory611775 resultset-body\"><tr><th class=\"tdhistory611775\" style= \"background: rgba(243, 243, 243, 0.75)\">1</th><td class=\"tdhistory611775\">2013-12-01</td><td class=\"tdhistory611775\">1469</td></tr><tr><th class=\"tdhistory611775\" style= \"background: rgba(243, 243, 243, 0.75)\">2</th><td class=\"tdhistory611775\">2014-01-01</td><td class=\"tdhistory611775\">3373</td></tr><tr><th class=\"tdhistory611775\" style= \"background: rgba(243, 243, 243, 0.75)\">3</th><td class=\"tdhistory611775\">2014-02-01</td><td class=\"tdhistory611775\">5519</td></tr><tr><th class=\"tdhistory611775\" style= \"background: rgba(243, 243, 243, 0.75)\">4</th><td class=\"tdhistory611775\">2014-03-01</td><td class=\"tdhistory611775\">25769</td></tr><tr><th class=\"tdhistory611775\" style= \"background: rgba(243, 243, 243, 0.75)\">5</th><td class=\"tdhistory611775\">2014-04-01</td><td class=\"tdhistory611775\">14465</td></tr><tr><th class=\"tdhistory611775\" style= \"background: rgba(243, 243, 243, 0.75)\">6</th><td class=\"tdhistory611775\">2014-05-01</td><td class=\"tdhistory611775\">15078</td></tr><tr><th class=\"tdhistory611775\" style= \"background: rgba(243, 243, 243, 0.75)\">7</th><td class=\"tdhistory611775\">2014-06-01</td><td class=\"tdhistory611775\">13620</td></tr><tr><th class=\"tdhistory611775\" style= \"background: rgba(243, 243, 243, 0.75)\">8</th><td class=\"tdhistory611775\">2014-07-01</td><td class=\"tdhistory611775\">14351</td></tr><tr><th class=\"tdhistory611775\" style= \"background: rgba(243, 243, 243, 0.75)\">9</th><td class=\"tdhistory611775\">2014-08-01</td><td class=\"tdhistory611775\">11146</td></tr><tr><th class=\"tdhistory611775\" style= \"background: rgba(243, 243, 243, 0.75)\">10</th><td class=\"tdhistory611775\">2014-09-01</td><td class=\"tdhistory611775\">11539</td></tr><tr><th class=\"tdhistory611775\" style= \"background: rgba(243, 243, 243, 0.75)\">11</th><td class=\"tdhistory611775\">2014-10-01</td><td class=\"tdhistory611775\">22864</td></tr><tr><th class=\"tdhistory611775\" style= \"background: rgba(243, 243, 243, 0.75)\">12</th><td class=\"tdhistory611775\">2014-11-01</td><td class=\"tdhistory611775\">10702</td></tr><tr><th class=\"tdhistory611775\" style= \"background: rgba(243, 243, 243, 0.75)\">13</th><td class=\"tdhistory611775\">2014-12-01</td><td class=\"tdhistory611775\">7289</td></tr><tr><th class=\"tdhistory611775\" style= \"background: rgba(243, 243, 243, 0.75)\">14</th><td class=\"tdhistory611775\">2015-01-01</td><td class=\"tdhistory611775\">7755</td></tr><tr><th class=\"tdhistory611775\" style= \"background: rgba(243, 243, 243, 0.75)\">15</th><td class=\"tdhistory611775\">2015-02-01</td><td class=\"tdhistory611775\">9561</td></tr><tr><th class=\"tdhistory611775\" style= \"background: rgba(243, 243, 243, 0.75)\">16</th><td class=\"tdhistory611775\">2015-03-01</td><td class=\"tdhistory611775\">30116</td></tr><tr><th class=\"tdhistory611775\" style= \"background: rgba(243, 243, 243, 0.75)\">17</th><td class=\"tdhistory611775\">2015-04-01</td><td class=\"tdhistory611775\">16572</td></tr><tr><th class=\"tdhistory611775\" style= \"background: rgba(243, 243, 243, 0.75)\">18</th><td class=\"tdhistory611775\">2015-05-01</td><td class=\"tdhistory611775\">15840</td></tr><tr><th class=\"tdhistory611775\" style= \"background: rgba(243, 243, 243, 0.75)\">19</th><td class=\"tdhistory611775\">2015-06-01</td><td class=\"tdhistory611775\">13873</td></tr><tr><th class=\"tdhistory611775\" style= \"background: rgba(243, 243, 243, 0.75)\">20</th><td class=\"tdhistory611775\">2015-07-01</td><td class=\"tdhistory611775\">16362</td></tr><tr><th class=\"tdhistory611775\" style= \"background: rgba(243, 243, 243, 0.75)\">21</th><td class=\"tdhistory611775\">2015-08-01</td><td class=\"tdhistory611775\">14493</td></tr><tr><th class=\"tdhistory611775\" style= \"background: rgba(243, 243, 243, 0.75)\">22</th><td class=\"tdhistory611775\">2015-09-01</td><td class=\"tdhistory611775\">15252</td></tr><tr><th class=\"tdhistory611775\" style= \"background: rgba(243, 243, 243, 0.75)\">23</th><td class=\"tdhistory611775\">2015-10-01</td><td class=\"tdhistory611775\">22920</td></tr><tr><th class=\"tdhistory611775\" style= \"background: rgba(243, 243, 243, 0.75)\">24</th><td class=\"tdhistory611775\">2015-11-01</td><td class=\"tdhistory611775\">11701</td></tr><tr><th class=\"tdhistory611775\" style= \"background: rgba(243, 243, 243, 0.75)\">25</th><td class=\"tdhistory611775\">2015-12-01</td><td class=\"tdhistory611775\">10138</td></tr><tr><th class=\"tdhistory611775\" style= \"background: rgba(243, 243, 243, 0.75)\">26</th><td class=\"tdhistory611775\">2016-01-01</td><td class=\"tdhistory611775\">22086</td></tr><tr><th class=\"tdhistory611775\" style= \"background: rgba(243, 243, 243, 0.75)\">27</th><td class=\"tdhistory611775\">2016-02-01</td><td class=\"tdhistory611775\">13354</td></tr><tr><th class=\"tdhistory611775\" style= \"background: rgba(243, 243, 243, 0.75)\">28</th><td class=\"tdhistory611775\">2016-03-01</td><td class=\"tdhistory611775\">29556</td></tr><tr><th class=\"tdhistory611775\" style= \"background: rgba(243, 243, 243, 0.75)\">29</th><td class=\"tdhistory611775\">2016-04-01</td><td class=\"tdhistory611775\">61</td></tr><tr><th class=\"tdhistory611775\" style= \"background: rgba(243, 243, 243, 0.75)\">30</th><td class=\"tdhistory611775\">2016-05-01</td><td class=\"tdhistory611775\">19514</td></tr><tr><th class=\"tdhistory611775\" style= \"background: rgba(243, 243, 243, 0.75)\">31</th><td class=\"tdhistory611775\">2016-06-01</td><td class=\"tdhistory611775\">16556</td></tr><tr><th class=\"tdhistory611775\" style= \"background: rgba(243, 243, 243, 0.75)\">32</th><td class=\"tdhistory611775\">2016-07-01</td><td class=\"tdhistory611775\">16231</td></tr><tr><th class=\"tdhistory611775\" style= \"background: rgba(243, 243, 243, 0.75)\">33</th><td class=\"tdhistory611775\">2016-08-01</td><td class=\"tdhistory611775\">12379</td></tr><tr><th class=\"tdhistory611775\" style= \"background: rgba(243, 243, 243, 0.75)\">34</th><td class=\"tdhistory611775\">2016-09-01</td><td class=\"tdhistory611775\">15977</td></tr><tr><th class=\"tdhistory611775\" style= \"background: rgba(243, 243, 243, 0.75)\">35</th><td class=\"tdhistory611775\">2016-10-01</td><td class=\"tdhistory611775\">24239</td></tr><tr><th class=\"tdhistory611775\" style= \"background: rgba(243, 243, 243, 0.75)\">36</th><td class=\"tdhistory611775\">2016-11-01</td><td class=\"tdhistory611775\">14641</td></tr><tr><th class=\"tdhistory611775\" style= \"background: rgba(243, 243, 243, 0.75)\">37</th><td class=\"tdhistory611775\">2016-12-01</td><td class=\"tdhistory611775\">41</td></tr><tr><th class=\"tdhistory611775\" style= \"background: rgba(243, 243, 243, 0.75)\">38</th><td class=\"tdhistory611775\">2017-01-01</td><td class=\"tdhistory611775\">10421</td></tr><tr><th class=\"tdhistory611775\" style= \"background: rgba(243, 243, 243, 0.75)\">39</th><td class=\"tdhistory611775\">2017-02-01</td><td class=\"tdhistory611775\">13600</td></tr><tr><th class=\"tdhistory611775\" style= \"background: rgba(243, 243, 243, 0.75)\">40</th><td class=\"tdhistory611775\">2017-03-01</td><td class=\"tdhistory611775\">26547</td></tr><tr><th class=\"tdhistory611775\" style= \"background: rgba(243, 243, 243, 0.75)\">41</th><td class=\"tdhistory611775\">2017-04-01</td><td class=\"tdhistory611775\">22392</td></tr><tr><th class=\"tdhistory611775\" style= \"background: rgba(243, 243, 243, 0.75)\">42</th><td class=\"tdhistory611775\">2017-05-01</td><td class=\"tdhistory611775\">19121</td></tr><tr><th class=\"tdhistory611775\" style= \"background: rgba(243, 243, 243, 0.75)\">43</th><td class=\"tdhistory611775\">2017-06-01</td><td class=\"tdhistory611775\">16123</td></tr><tr><th class=\"tdhistory611775\" style= \"background: rgba(243, 243, 243, 0.75)\">44</th><td class=\"tdhistory611775\">2017-07-01</td><td class=\"tdhistory611775\">14625</td></tr></tbody></table></div>"
      ]
     },
     "execution_count": 18,
     "metadata": {
      "application/vnd.teradata.resultset": "{\"resultSetID\":\"/home/jovyan/JupyterLabRoot/Teradata/Resultsets/2022.09.05_15.23.24.603_UTC\",\"historyID\":159,\"chunkID\":\"00001\",\"sessionid\":\"\",\"portnum\":\"\",\"dockermode\":\"docker\",\"totalRowCount\":44,\"chunkCount\":0,\"rowLimit\":0,\"columnMetadata\":[{\"columnName\":\"start_Month\",\"columnTypeName\":\"DATE\"},{\"columnNumber\":1,\"columnName\":\"trips\",\"columnTypeName\":\"INTEGER\"}]}"
     },
     "output_type": "execute_result"
    }
   ],
   "source": [
    "SELECT\n",
    "    trunc(start_time, 'Month') AS start_Month,\n",
    "    COUNT(1) AS trips\n",
    "FROM\n",
    "    TRNG_AustinBikeShare.trips\n",
    "GROUP BY 1\n",
    "ORDER BY 1"
   ]
  },
  {
   "cell_type": "code",
   "execution_count": 19,
   "metadata": {},
   "outputs": [
    {
     "data": {
      "application/vnd.vegalite.v3+json": {
       "$schema": "https://vega.github.io/schema/vega-lite/v3.json",
       "data": {
        "format": {
         "type": "csv"
        },
        "values": "\"start_Month\",\"trips\"\n\"2013-12-01\",\"1469\"\n\"2014-01-01\",\"3373\"\n\"2014-02-01\",\"5519\"\n\"2014-03-01\",\"25769\"\n\"2014-04-01\",\"14465\"\n\"2014-05-01\",\"15078\"\n\"2014-06-01\",\"13620\"\n\"2014-07-01\",\"14351\"\n\"2014-08-01\",\"11146\"\n\"2014-09-01\",\"11539\"\n\"2014-10-01\",\"22864\"\n\"2014-11-01\",\"10702\"\n\"2014-12-01\",\"7289\"\n\"2015-01-01\",\"7755\"\n\"2015-02-01\",\"9561\"\n\"2015-03-01\",\"30116\"\n\"2015-04-01\",\"16572\"\n\"2015-05-01\",\"15840\"\n\"2015-06-01\",\"13873\"\n\"2015-07-01\",\"16362\"\n\"2015-08-01\",\"14493\"\n\"2015-09-01\",\"15252\"\n\"2015-10-01\",\"22920\"\n\"2015-11-01\",\"11701\"\n\"2015-12-01\",\"10138\"\n\"2016-01-01\",\"22086\"\n\"2016-02-01\",\"13354\"\n\"2016-03-01\",\"29556\"\n\"2016-04-01\",\"61\"\n\"2016-05-01\",\"19514\"\n\"2016-06-01\",\"16556\"\n\"2016-07-01\",\"16231\"\n\"2016-08-01\",\"12379\"\n\"2016-09-01\",\"15977\"\n\"2016-10-01\",\"24239\"\n\"2016-11-01\",\"14641\"\n\"2016-12-01\",\"41\"\n\"2017-01-01\",\"10421\"\n\"2017-02-01\",\"13600\"\n\"2017-03-01\",\"26547\"\n\"2017-04-01\",\"22392\"\n\"2017-05-01\",\"19121\"\n\"2017-06-01\",\"16123\"\n\"2017-07-01\",\"14625\"\n"
       },
       "encoding": {
        "x": {
         "axis": {
          "grid": true,
          "title": "start_Month"
         },
         "field": "start_Month",
         "type": "temporal"
        },
        "y": {
         "axis": {
          "grid": true,
          "title": "trips"
         },
         "field": "trips",
         "type": "quantitative"
        }
       },
       "mark": {
        "color": "#4C78A8",
        "type": "bar"
       },
       "title": "Trips by day"
      },
      "image/png": "[encoded data removed]"
     },
     "execution_count": 19,
     "metadata": {
      "application/vnd.teradata.resultset": ""
     },
     "output_type": "execute_result"
    }
   ],
   "source": [
    "%chart start_Month, trips, title=Trips by day, typex=t"
   ]
  },
  {
   "cell_type": "markdown",
   "metadata": {},
   "source": [
    "If we chart the data, we observe two things:\n",
    "1. there are two months where the data is nearly missing\n",
    "2. The peak usage month is as much as 3x the least usage month\n",
    "\n",
    "This could be influenced by the weather."
   ]
  },
  {
   "cell_type": "markdown",
   "metadata": {},
   "source": [
    "<b style = 'font-size:28px;font-family:Arial;color:#E37C4D'>3.Load local data.</b>\n",
    "\n",
    "<p style = 'font-size:16px;font-family:Arial'>To perform Geospatial processing of the trip information, we are going to need the location of the stations with geospatial coordinates. Vantage supports geospatial representation of shapes, lines, and points.  Parquet in cloud storage and the %dataload used to load CSV files doesn't support User Defined Types (UDTs) that are used to hold geospatial points, lines, and shapes.  So we will load the data into a staging table and then insert/select to convert to a geospatial data type</p>"
   ]
  },
  {
   "cell_type": "markdown",
   "metadata": {},
   "source": [
    "<p style = 'font-size:16px;font-family:Arial'>We will create a few tables in our personal database</p>    "
   ]
  },
  {
   "cell_type": "markdown",
   "metadata": {},
   "source": [
    "<p style = 'font-size:18px;font-family:Arial;color:#E37C4D'><b>3.1 Load Stations data from local file (in Jupyter)</b></p>    "
   ]
  },
  {
   "cell_type": "code",
   "execution_count": 6,
   "metadata": {},
   "outputs": [
    {
     "data": {
      "text/plain": [
       "Success: 0 rows affected"
      ]
     },
     "execution_count": 6,
     "metadata": {
      "application/vnd.teradata.resultset": ""
     },
     "output_type": "execute_result"
    }
   ],
   "source": [
    "CREATE TABLE stations_staging (\n",
    "    lat            DECIMAL(18,5),\n",
    "    location       VARCHAR(200),    -- e.g. \"POINT(30.27041 -97.75046)\"\n",
    "    longitude      DECIMAL(18,5),\n",
    "    name           VARCHAR(100),\n",
    "    station_id     INTEGER,\n",
    "    status         VARCHAR(50)\n",
    ")\n",
    "PRIMARY INDEX (station_id);"
   ]
  },
  {
   "cell_type": "code",
   "execution_count": 7,
   "metadata": {},
   "outputs": [
    {
     "data": {
      "text/plain": [
       "Success: 0 rows affected"
      ]
     },
     "execution_count": 7,
     "metadata": {
      "application/vnd.teradata.resultset": ""
     },
     "output_type": "execute_result"
    }
   ],
   "source": [
    "CREATE TABLE stations (\n",
    "    lat            DECIMAL(18,5),\n",
    "    location       SYSUDTLIB.ST_Geometry,     -- e.g. \"POINT(30.27041 -97.75046)\"\n",
    "    longitude      DECIMAL(18,5),\n",
    "    name           VARCHAR(100),\n",
    "    station_id     INTEGER,\n",
    "    status         VARCHAR(50)\n",
    ")\n",
    "PRIMARY INDEX (station_id);"
   ]
  },
  {
   "cell_type": "code",
   "execution_count": 8,
   "metadata": {},
   "outputs": [
    {
     "name": "stdout",
     "output_type": "stream",
     "text": [
      "Using database: DEMO_USER\n",
      "2022-09-05T15:07:33.676 Start Batch Loading...\n",
      "  \u001b[36m\u001b[m   \n",
      "Data Load: Number Rows Loaded = 72, Elapsed Time = 00:00:00.362, History ID = 150\n",
      "Success Loading Data: from file,'/home/jovyan/JupyterLabRoot/UseCases/AustinBikeShare/stations_staging.csv', into table, DEMO_USER.stations_staging."
     ]
    }
   ],
   "source": [
    "%dataload DATABASE=, TABLE=stations_staging, FILEPATH=UseCases/AustinBikeShare/stations_staging.csv"
   ]
  },
  {
   "cell_type": "code",
   "execution_count": 9,
   "metadata": {},
   "outputs": [
    {
     "data": {
      "text/plain": [
       "Success: 72 rows affected"
      ]
     },
     "execution_count": 9,
     "metadata": {
      "application/vnd.teradata.resultset": ""
     },
     "output_type": "execute_result"
    }
   ],
   "source": [
    "INSERT INTO stations SELECT * FROM stations_staging"
   ]
  },
  {
   "cell_type": "markdown",
   "metadata": {},
   "source": [
    "<p style = 'font-size:16px;font-family:Arial'>The Geospatial columns have a type and one or more pairs of lattitude and longitude. The latitude and Longitude columns were included in the table so you could see how a simple geospatial feature (a POINT) is represented. </p>"
   ]
  },
  {
   "cell_type": "code",
   "execution_count": 10,
   "metadata": {},
   "outputs": [
    {
     "data": {
      "application/vnd.teradata.resultset": "\"lat\",\"location\",\"longitude\",\"name\",\"station_id\",\"status\"\n\"30.25579\",\"POINT (30.25579 -97.73982)\",\"-97.73982\",\"Rainey St @ Cummings\",\"2707\",\"active\"\n\"30.25457\",\"POINT (30.25457 -97.74258)\",\"-97.74258\",\"Boardwalk West\",\"3687\",\"active\"\n\"30.25103\",\"POINT (30.25103 -97.74926)\",\"-97.74926\",\"South Congress & James\",\"2503\",\"active\"\n\"30.26200\",\"POINT (30.262 -97.76118)\",\"-97.76118\",\"Barton Springs @ Kinney Ave\",\"2711\",\"active\"\n\"30.26416\",\"POINT (30.26416 -97.73289)\",\"-97.73289\",\"5th & San Marcos\",\"2564\",\"moved\"\n\"30.28118\",\"POINT (30.28118 -97.75219)\",\"-97.75219\",\"Pease Park\",\"3464\",\"active\"\n\"30.26476\",\"POINT (30.26476 -97.74678)\",\"-97.74678\",\"City Hall / Lavaca & 2nd\",\"2499\",\"active\"\n\"30.26426\",\"POINT (30.26426 -97.74023)\",\"-97.74023\",\"Convention Center / 3rd & Trinity\",\"2539\",\"active\"\n\"30.26896\",\"POINT (30.26896 -97.72843)\",\"-97.72843\",\"East 11th St. at Victory Grill\",\"2568\",\"active\"\n\"30.26717\",\"POINT (30.26717 -97.75484)\",\"-97.75484\",\"Pfluger Bridge @ W 2nd Street\",\"2566\",\"active\"",
      "text/html": [
       "<div class = \"td-resultset-table-div\" style = \"max-height: 100%; overflow-y: auto\">\n",
       "      <table class=\"tdhistory723169\"><style>\n",
       "      table.tdhistory723169 { display: block !important; min-height: 294px !important; overflow: auto !important; height: 294px !important; width: 100% !important; border: 1px solid rgb(207, 207, 207) !important; border-collapse: collapse !important; ; color: var(--jp-ui-font-color1) !important; }\n",
       "      th.tdhistory723169 { border: 1px solid rgb(198,198,198) !important; border-collapse: collapse !important; ; padding: 2px 5px !important; ; font-size: 13px !important; ; text-align: center !important; white-space: normal !important; color: var(--jp-ui-font-color1) !important; }\n",
       "      th.tdhistory723169:last-child { text-align: left !important; }\n",
       "      tbody.tdhistory723169 tr:nth-child(even) { background: rgba(243, 243, 243, 0.75) !important; }\n",
       "      tbody.tdhistory723169 tr:nth-child(odd) { background: var(--jp-ui-inverse-font-color1) !important; }\n",
       "      td.tdhistory723169 { border: 1px solid rgb(207, 207, 207) !important; border-collapse: collapse !important; ; padding: 2px 5px !important; ; font-size: 13px !important; ; text-align: left !important;          white-space: nowrap !important; overflow:hidden !important; text-overflow:ellipsis !important;; }\n",
       "    </style><thead><tr style= \"background: rgba(243, 243, 243, 0.75)\"><th class=\"tdhistory723169\"></th><th class=\"tdhistory723169\">lat</th><th class=\"tdhistory723169\">location</th><th class=\"tdhistory723169\">longitude</th><th class=\"tdhistory723169\">name</th><th class=\"tdhistory723169\">station_id</th><th class=\"tdhistory723169\">status</th></tr></thead><tbody class=\"tdhistory723169 resultset-body\"><tr><th class=\"tdhistory723169\" style= \"background: rgba(243, 243, 243, 0.75)\">1</th><td class=\"tdhistory723169\">30.25579</td><td class=\"tdhistory723169\">POINT (30.25579 -97.73982)</td><td class=\"tdhistory723169\">-97.73982</td><td class=\"tdhistory723169\">Rainey St @ Cummings</td><td class=\"tdhistory723169\">2707</td><td class=\"tdhistory723169\">active</td></tr><tr><th class=\"tdhistory723169\" style= \"background: rgba(243, 243, 243, 0.75)\">2</th><td class=\"tdhistory723169\">30.25457</td><td class=\"tdhistory723169\">POINT (30.25457 -97.74258)</td><td class=\"tdhistory723169\">-97.74258</td><td class=\"tdhistory723169\">Boardwalk West</td><td class=\"tdhistory723169\">3687</td><td class=\"tdhistory723169\">active</td></tr><tr><th class=\"tdhistory723169\" style= \"background: rgba(243, 243, 243, 0.75)\">3</th><td class=\"tdhistory723169\">30.25103</td><td class=\"tdhistory723169\">POINT (30.25103 -97.74926)</td><td class=\"tdhistory723169\">-97.74926</td><td class=\"tdhistory723169\">South Congress & James</td><td class=\"tdhistory723169\">2503</td><td class=\"tdhistory723169\">active</td></tr><tr><th class=\"tdhistory723169\" style= \"background: rgba(243, 243, 243, 0.75)\">4</th><td class=\"tdhistory723169\">30.26200</td><td class=\"tdhistory723169\">POINT (30.262 -97.76118)</td><td class=\"tdhistory723169\">-97.76118</td><td class=\"tdhistory723169\">Barton Springs @ Kinney Ave</td><td class=\"tdhistory723169\">2711</td><td class=\"tdhistory723169\">active</td></tr><tr><th class=\"tdhistory723169\" style= \"background: rgba(243, 243, 243, 0.75)\">5</th><td class=\"tdhistory723169\">30.26416</td><td class=\"tdhistory723169\">POINT (30.26416 -97.73289)</td><td class=\"tdhistory723169\">-97.73289</td><td class=\"tdhistory723169\">5th & San Marcos</td><td class=\"tdhistory723169\">2564</td><td class=\"tdhistory723169\">moved</td></tr><tr><th class=\"tdhistory723169\" style= \"background: rgba(243, 243, 243, 0.75)\">6</th><td class=\"tdhistory723169\">30.28118</td><td class=\"tdhistory723169\">POINT (30.28118 -97.75219)</td><td class=\"tdhistory723169\">-97.75219</td><td class=\"tdhistory723169\">Pease Park</td><td class=\"tdhistory723169\">3464</td><td class=\"tdhistory723169\">active</td></tr><tr><th class=\"tdhistory723169\" style= \"background: rgba(243, 243, 243, 0.75)\">7</th><td class=\"tdhistory723169\">30.26476</td><td class=\"tdhistory723169\">POINT (30.26476 -97.74678)</td><td class=\"tdhistory723169\">-97.74678</td><td class=\"tdhistory723169\">City Hall / Lavaca & 2nd</td><td class=\"tdhistory723169\">2499</td><td class=\"tdhistory723169\">active</td></tr><tr><th class=\"tdhistory723169\" style= \"background: rgba(243, 243, 243, 0.75)\">8</th><td class=\"tdhistory723169\">30.26426</td><td class=\"tdhistory723169\">POINT (30.26426 -97.74023)</td><td class=\"tdhistory723169\">-97.74023</td><td class=\"tdhistory723169\">Convention Center / 3rd & Trinity</td><td class=\"tdhistory723169\">2539</td><td class=\"tdhistory723169\">active</td></tr><tr><th class=\"tdhistory723169\" style= \"background: rgba(243, 243, 243, 0.75)\">9</th><td class=\"tdhistory723169\">30.26896</td><td class=\"tdhistory723169\">POINT (30.26896 -97.72843)</td><td class=\"tdhistory723169\">-97.72843</td><td class=\"tdhistory723169\">East 11th St. at Victory Grill</td><td class=\"tdhistory723169\">2568</td><td class=\"tdhistory723169\">active</td></tr><tr><th class=\"tdhistory723169\" style= \"background: rgba(243, 243, 243, 0.75)\">10</th><td class=\"tdhistory723169\">30.26717</td><td class=\"tdhistory723169\">POINT (30.26717 -97.75484)</td><td class=\"tdhistory723169\">-97.75484</td><td class=\"tdhistory723169\">Pfluger Bridge @ W 2nd Street</td><td class=\"tdhistory723169\">2566</td><td class=\"tdhistory723169\">active</td></tr></tbody></table></div>"
      ]
     },
     "execution_count": 10,
     "metadata": {
      "application/vnd.teradata.resultset": "{\"resultSetID\":\"/home/jovyan/JupyterLabRoot/Teradata/Resultsets/2022.09.05_15.07.44.915_UTC\",\"historyID\":152,\"chunkID\":\"00001\",\"sessionid\":\"\",\"portnum\":\"\",\"dockermode\":\"docker\",\"totalRowCount\":10,\"chunkCount\":0,\"rowLimit\":0,\"columnMetadata\":[{\"columnName\":\"lat\",\"columnTypeName\":\"DECIMAL\",\"length\":5,\"precision\":18,\"scale\":5},{\"columnNumber\":1,\"columnName\":\"location\",\"columnTypeName\":\"CLOB\",\"length\":2097088000,\"scale\":2097088000},{\"columnNumber\":2,\"columnName\":\"longitude\",\"columnTypeName\":\"DECIMAL\",\"length\":5,\"precision\":18,\"scale\":5},{\"columnNumber\":3,\"columnName\":\"name\",\"columnTypeName\":\"VARCHAR\",\"length\":100,\"scale\":100},{\"columnNumber\":4,\"columnName\":\"station_id\",\"columnTypeName\":\"INTEGER\"},{\"columnNumber\":5,\"columnName\":\"status\",\"columnTypeName\":\"VARCHAR\",\"length\":50,\"scale\":50}]}"
     },
     "output_type": "execute_result"
    }
   ],
   "source": [
    "SELECT\n",
    "    TOP 10 *\n",
    "FROM\n",
    "    stations"
   ]
  },
  {
   "cell_type": "markdown",
   "metadata": {
    "tags": []
   },
   "source": [
    "<p style = 'font-size:16px;font-family:Arial'>There are numerous geospatial functions, but we can demonstrate the basics by finding the distance from the main office (station_id = 1001) to other stations.</p>"
   ]
  },
  {
   "cell_type": "code",
   "execution_count": 26,
   "metadata": {},
   "outputs": [
    {
     "data": {
      "application/vnd.teradata.resultset": "\"station_id\",\"name\",\"Distance_Meters\"\n\"1001\",\"OFFICE/Main/Shop/Repair\",\"0\"\n\"1002\",\"6th & Navasota St.\",\"1266\"\n\"1003\",\"8th & Guadalupe\",\"629\"\n\"1004\",\"Red River & LBJ Library\",\"1393\"\n\"1005\",\"State Parking Garage @ Brazos & 18th\",\"332\"\n\"1006\",\"Zilker Park West\",\"3147\"\n\"1007\",\"Lavaca & 6th\",\"589\"\n\"1008\",\"Nueces @ 3rd\",\"1050\"\n\"2494\",\"2nd & Congress\",\"415\"\n\"2495\",\"4th & Congress\",\"432\"",
      "text/html": [
       "<div class = \"td-resultset-table-div\" style = \"max-height: 100%; overflow-y: auto\">\n",
       "      <table class=\"tdhistory57095\"><style>\n",
       "      table.tdhistory57095 { display: block !important; min-height: 294px !important; overflow: auto !important; height: 294px !important; width: 100% !important; border: 1px solid rgb(207, 207, 207) !important; border-collapse: collapse !important; ; color: var(--jp-ui-font-color1) !important; }\n",
       "      th.tdhistory57095 { border: 1px solid rgb(198,198,198) !important; border-collapse: collapse !important; ; padding: 2px 5px !important; ; font-size: 13px !important; ; text-align: center !important; white-space: normal !important; color: var(--jp-ui-font-color1) !important; }\n",
       "      th.tdhistory57095:last-child { text-align: left !important; }\n",
       "      tbody.tdhistory57095 tr:nth-child(even) { background: rgba(243, 243, 243, 0.75) !important; }\n",
       "      tbody.tdhistory57095 tr:nth-child(odd) { background: var(--jp-ui-inverse-font-color1) !important; }\n",
       "      td.tdhistory57095 { border: 1px solid rgb(207, 207, 207) !important; border-collapse: collapse !important; ; padding: 2px 5px !important; ; font-size: 13px !important; ; text-align: left !important;          white-space: nowrap !important; overflow:hidden !important; text-overflow:ellipsis !important;; }\n",
       "    </style><thead><tr style= \"background: rgba(243, 243, 243, 0.75)\"><th class=\"tdhistory57095\"></th><th class=\"tdhistory57095\">station_id</th><th class=\"tdhistory57095\">name</th><th class=\"tdhistory57095\">Distance_Meters</th></tr></thead><tbody class=\"tdhistory57095 resultset-body\"><tr><th class=\"tdhistory57095\" style= \"background: rgba(243, 243, 243, 0.75)\">1</th><td class=\"tdhistory57095\">1001</td><td class=\"tdhistory57095\">OFFICE/Main/Shop/Repair</td><td class=\"tdhistory57095\">0</td></tr><tr><th class=\"tdhistory57095\" style= \"background: rgba(243, 243, 243, 0.75)\">2</th><td class=\"tdhistory57095\">1002</td><td class=\"tdhistory57095\">6th & Navasota St.</td><td class=\"tdhistory57095\">1266</td></tr><tr><th class=\"tdhistory57095\" style= \"background: rgba(243, 243, 243, 0.75)\">3</th><td class=\"tdhistory57095\">1003</td><td class=\"tdhistory57095\">8th & Guadalupe</td><td class=\"tdhistory57095\">629</td></tr><tr><th class=\"tdhistory57095\" style= \"background: rgba(243, 243, 243, 0.75)\">4</th><td class=\"tdhistory57095\">1004</td><td class=\"tdhistory57095\">Red River & LBJ Library</td><td class=\"tdhistory57095\">1393</td></tr><tr><th class=\"tdhistory57095\" style= \"background: rgba(243, 243, 243, 0.75)\">5</th><td class=\"tdhistory57095\">1005</td><td class=\"tdhistory57095\">State Parking Garage @ Brazos & 18th</td><td class=\"tdhistory57095\">332</td></tr><tr><th class=\"tdhistory57095\" style= \"background: rgba(243, 243, 243, 0.75)\">6</th><td class=\"tdhistory57095\">1006</td><td class=\"tdhistory57095\">Zilker Park West</td><td class=\"tdhistory57095\">3147</td></tr><tr><th class=\"tdhistory57095\" style= \"background: rgba(243, 243, 243, 0.75)\">7</th><td class=\"tdhistory57095\">1007</td><td class=\"tdhistory57095\">Lavaca & 6th</td><td class=\"tdhistory57095\">589</td></tr><tr><th class=\"tdhistory57095\" style= \"background: rgba(243, 243, 243, 0.75)\">8</th><td class=\"tdhistory57095\">1008</td><td class=\"tdhistory57095\">Nueces @ 3rd</td><td class=\"tdhistory57095\">1050</td></tr><tr><th class=\"tdhistory57095\" style= \"background: rgba(243, 243, 243, 0.75)\">9</th><td class=\"tdhistory57095\">2494</td><td class=\"tdhistory57095\">2nd & Congress</td><td class=\"tdhistory57095\">415</td></tr><tr><th class=\"tdhistory57095\" style= \"background: rgba(243, 243, 243, 0.75)\">10</th><td class=\"tdhistory57095\">2495</td><td class=\"tdhistory57095\">4th & Congress</td><td class=\"tdhistory57095\">432</td></tr></tbody></table></div>"
      ]
     },
     "execution_count": 26,
     "metadata": {
      "application/vnd.teradata.resultset": "{\"resultSetID\":\"/home/jovyan/JupyterLabRoot/Teradata/Resultsets/2022.09.05_15.42.39.553_UTC\",\"historyID\":165,\"chunkID\":\"00001\",\"sessionid\":\"\",\"portnum\":\"\",\"dockermode\":\"docker\",\"totalRowCount\":10,\"chunkCount\":0,\"rowLimit\":0,\"columnMetadata\":[{\"columnName\":\"station_id\",\"columnTypeName\":\"INTEGER\"},{\"columnNumber\":1,\"columnName\":\"name\",\"columnTypeName\":\"VARCHAR\",\"length\":100,\"scale\":100},{\"columnNumber\":2,\"columnName\":\"Distance_Meters\",\"columnTypeName\":\"FLOAT\"}]}"
     },
     "output_type": "execute_result"
    }
   ],
   "source": [
    "select top 10  s.station_id, s.name, \n",
    "round(city.location.ST_SphericalDistance(s.location), 0) Distance_Meters\n",
    "from stations s, stations city where city.station_id = 1001 order by 1;"
   ]
  },
  {
   "cell_type": "markdown",
   "metadata": {},
   "source": [
    "<p style = 'font-size:18px;font-family:Arial;color:#E37C4D'><b>3.2 Examine the weather table</b></p>    "
   ]
  },
  {
   "cell_type": "code",
   "execution_count": 20,
   "metadata": {},
   "outputs": [
    {
     "data": {
      "application/vnd.teradata.resultset": "\"Count(*)\"\n\"24592\"",
      "text/html": [
       "<div class = \"td-resultset-table-div\" style = \"max-height: 100%; overflow-y: auto\">\n",
       "      <table class=\"tdhistory892707\"><style>\n",
       "      table.tdhistory892707 { display: block !important; min-height: 105px !important; overflow: auto !important; height: 105px !important; width: 100% !important; border: 1px solid rgb(207, 207, 207) !important; border-collapse: collapse !important; ; color: var(--jp-ui-font-color1) !important; }\n",
       "      th.tdhistory892707 { border: 1px solid rgb(198,198,198) !important; border-collapse: collapse !important; ; padding: 2px 5px !important; ; font-size: 13px !important; ; text-align: center !important; white-space: normal !important; color: var(--jp-ui-font-color1) !important; }\n",
       "      th.tdhistory892707:last-child { text-align: left !important; }\n",
       "      tbody.tdhistory892707 tr:nth-child(even) { background: rgba(243, 243, 243, 0.75) !important; }\n",
       "      tbody.tdhistory892707 tr:nth-child(odd) { background: var(--jp-ui-inverse-font-color1) !important; }\n",
       "      td.tdhistory892707 { border: 1px solid rgb(207, 207, 207) !important; border-collapse: collapse !important; ; padding: 2px 5px !important; ; font-size: 13px !important; ; text-align: left !important;          white-space: nowrap !important; overflow:hidden !important; text-overflow:ellipsis !important;; }\n",
       "    </style><thead><tr style= \"background: rgba(243, 243, 243, 0.75)\"><th class=\"tdhistory892707\"></th><th class=\"tdhistory892707\">Count(*)</th></tr></thead><tbody class=\"tdhistory892707 resultset-body\"><tr><th class=\"tdhistory892707\" style= \"background: rgba(243, 243, 243, 0.75)\">1</th><td class=\"tdhistory892707\">24592</td></tr></tbody></table></div>"
      ]
     },
     "execution_count": 20,
     "metadata": {
      "application/vnd.teradata.resultset": "{\"resultSetID\":\"/home/jovyan/JupyterLabRoot/Teradata/Resultsets/2022.09.05_15.25.32.113_UTC\",\"historyID\":160,\"chunkID\":\"00001\",\"sessionid\":\"\",\"portnum\":\"\",\"dockermode\":\"docker\",\"totalRowCount\":1,\"chunkCount\":0,\"rowLimit\":0,\"columnMetadata\":[{\"columnName\":\"Count(*)\",\"columnTypeName\":\"INTEGER\"}]}"
     },
     "output_type": "execute_result"
    }
   ],
   "source": [
    "Select count(*) from TRNG_AustinBikeShare.weather"
   ]
  },
  {
   "cell_type": "code",
   "execution_count": 4,
   "metadata": {},
   "outputs": [
    {
     "data": {
      "application/vnd.teradata.resultset": "\"dt\",\"temp\",\"temp_min\",\"temp_max\",\"pressure\",\"humidity\",\"wind_speed\",\"wind_deg\",\"rain_1h\",\"rain_3h\",\"clouds\",\"weather_id\",\"weather_main\",\"weather_desc\",\"weather_icon\"\n\"2015-11-16 10:00:00.000000\",\"291.8\",\"291.15\",\"293.15\",\"1015\",\"93\",\"2\",\"150\",\"\",\"\",\"90\",\"701\",\"Mist\",\"mist\",\"50d\"\n\"2016-05-04 21:00:00.000000\",\"297.58\",\"296.48\",\"299.15\",\"1015\",\"41\",\"2\",\"330\",\"\",\"\",\"1\",\"800\",\"Clear\",\"sky is clear\",\"01n\"\n\"2014-05-05 07:00:00.000000\",\"289.16\",\"287.59\",\"290.37\",\"1013\",\"85\",\"4\",\"187\",\"\",\"\",\"0\",\"800\",\"Clear\",\"Sky is Clear\",\"01n\"\n\"2017-01-13 14:00:00.000000\",\"296.46\",\"293.15\",\"298.15\",\"1026\",\"88\",\"4\",\"160\",\"\",\"\",\"75\",\"803\",\"Clouds\",\"broken clouds\",\"04d\"\n\"2017-08-11 02:00:00.000000\",\"300.77\",\"299.15\",\"302.15\",\"1018\",\"69\",\"2\",\"190\",\"\",\"\",\"1\",\"800\",\"Clear\",\"sky is clear\",\"01n\"\n\"2016-07-24 11:00:00.000000\",\"303.24\",\"301.15\",\"305.37\",\"1016\",\"66\",\"2\",\"0\",\"\",\"\",\"1\",\"800\",\"Clear\",\"sky is clear\",\"01d\"\n\"2015-07-24 16:00:00.000000\",\"308.35\",\"307.15\",\"309.82\",\"1016\",\"46\",\"4\",\"190\",\"\",\"\",\"40\",\"802\",\"Clouds\",\"scattered clouds\",\"03d\"\n\"2017-07-24 06:00:00.000000\",\"297.71\",\"296.15\",\"299.15\",\"1014\",\"83\",\"1\",\"0\",\"\",\"\",\"1\",\"800\",\"Clear\",\"sky is clear\",\"01n\"\n\"2014-03-04 05:00:00.000000\",\"272.15\",\"271.15\",\"273.15\",\"1023\",\"86\",\"1\",\"100\",\"\",\"\",\"90\",\"804\",\"Clouds\",\"overcast clouds\",\"4\"\n\"2015-06-29 20:00:00.000000\",\"304.88\",\"304.26\",\"305.15\",\"1014\",\"55\",\"3\",\"180\",\"\",\"\",\"1\",\"800\",\"Clear\",\"sky is clear\",\"01n\"",
      "text/html": [
       "<div class = \"td-resultset-table-div\" style = \"max-height: 100%; overflow-y: auto\">\n",
       "      <table class=\"tdhistory456635\"><style>\n",
       "      table.tdhistory456635 { display: block !important; min-height: 294px !important; overflow: auto !important; height: 294px !important; width: 100% !important; border: 1px solid rgb(207, 207, 207) !important; border-collapse: collapse !important; ; color: var(--jp-ui-font-color1) !important; }\n",
       "      th.tdhistory456635 { border: 1px solid rgb(198,198,198) !important; border-collapse: collapse !important; ; padding: 2px 5px !important; ; font-size: 13px !important; ; text-align: center !important; white-space: normal !important; color: var(--jp-ui-font-color1) !important; }\n",
       "      th.tdhistory456635:last-child { text-align: left !important; }\n",
       "      tbody.tdhistory456635 tr:nth-child(even) { background: rgba(243, 243, 243, 0.75) !important; }\n",
       "      tbody.tdhistory456635 tr:nth-child(odd) { background: var(--jp-ui-inverse-font-color1) !important; }\n",
       "      td.tdhistory456635 { border: 1px solid rgb(207, 207, 207) !important; border-collapse: collapse !important; ; padding: 2px 5px !important; ; font-size: 13px !important; ; text-align: left !important;          white-space: nowrap !important; overflow:hidden !important; text-overflow:ellipsis !important;; }\n",
       "    </style><thead><tr style= \"background: rgba(243, 243, 243, 0.75)\"><th class=\"tdhistory456635\"></th><th class=\"tdhistory456635\">dt</th><th class=\"tdhistory456635\">temp</th><th class=\"tdhistory456635\">temp_min</th><th class=\"tdhistory456635\">temp_max</th><th class=\"tdhistory456635\">pressure</th><th class=\"tdhistory456635\">humidity</th><th class=\"tdhistory456635\">wind_speed</th><th class=\"tdhistory456635\">wind_deg</th><th class=\"tdhistory456635\">rain_1h</th><th class=\"tdhistory456635\">rain_3h</th><th class=\"tdhistory456635\">clouds</th><th class=\"tdhistory456635\">weather_id</th><th class=\"tdhistory456635\">weather_main</th><th class=\"tdhistory456635\">weather_desc</th><th class=\"tdhistory456635\">weather_icon</th></tr></thead><tbody class=\"tdhistory456635 resultset-body\"><tr><th class=\"tdhistory456635\" style= \"background: rgba(243, 243, 243, 0.75)\">1</th><td class=\"tdhistory456635\">2015-11-16 10:00:00.000000</td><td class=\"tdhistory456635\">291.8</td><td class=\"tdhistory456635\">291.15</td><td class=\"tdhistory456635\">293.15</td><td class=\"tdhistory456635\">1015</td><td class=\"tdhistory456635\">93</td><td class=\"tdhistory456635\">2</td><td class=\"tdhistory456635\">150</td><td class=\"tdhistory456635\"></td><td class=\"tdhistory456635\"></td><td class=\"tdhistory456635\">90</td><td class=\"tdhistory456635\">701</td><td class=\"tdhistory456635\">Mist</td><td class=\"tdhistory456635\">mist</td><td class=\"tdhistory456635\">50d</td></tr><tr><th class=\"tdhistory456635\" style= \"background: rgba(243, 243, 243, 0.75)\">2</th><td class=\"tdhistory456635\">2016-05-04 21:00:00.000000</td><td class=\"tdhistory456635\">297.58</td><td class=\"tdhistory456635\">296.48</td><td class=\"tdhistory456635\">299.15</td><td class=\"tdhistory456635\">1015</td><td class=\"tdhistory456635\">41</td><td class=\"tdhistory456635\">2</td><td class=\"tdhistory456635\">330</td><td class=\"tdhistory456635\"></td><td class=\"tdhistory456635\"></td><td class=\"tdhistory456635\">1</td><td class=\"tdhistory456635\">800</td><td class=\"tdhistory456635\">Clear</td><td class=\"tdhistory456635\">sky is clear</td><td class=\"tdhistory456635\">01n</td></tr><tr><th class=\"tdhistory456635\" style= \"background: rgba(243, 243, 243, 0.75)\">3</th><td class=\"tdhistory456635\">2014-05-05 07:00:00.000000</td><td class=\"tdhistory456635\">289.16</td><td class=\"tdhistory456635\">287.59</td><td class=\"tdhistory456635\">290.37</td><td class=\"tdhistory456635\">1013</td><td class=\"tdhistory456635\">85</td><td class=\"tdhistory456635\">4</td><td class=\"tdhistory456635\">187</td><td class=\"tdhistory456635\"></td><td class=\"tdhistory456635\"></td><td class=\"tdhistory456635\">0</td><td class=\"tdhistory456635\">800</td><td class=\"tdhistory456635\">Clear</td><td class=\"tdhistory456635\">Sky is Clear</td><td class=\"tdhistory456635\">01n</td></tr><tr><th class=\"tdhistory456635\" style= \"background: rgba(243, 243, 243, 0.75)\">4</th><td class=\"tdhistory456635\">2017-01-13 14:00:00.000000</td><td class=\"tdhistory456635\">296.46</td><td class=\"tdhistory456635\">293.15</td><td class=\"tdhistory456635\">298.15</td><td class=\"tdhistory456635\">1026</td><td class=\"tdhistory456635\">88</td><td class=\"tdhistory456635\">4</td><td class=\"tdhistory456635\">160</td><td class=\"tdhistory456635\"></td><td class=\"tdhistory456635\"></td><td class=\"tdhistory456635\">75</td><td class=\"tdhistory456635\">803</td><td class=\"tdhistory456635\">Clouds</td><td class=\"tdhistory456635\">broken clouds</td><td class=\"tdhistory456635\">04d</td></tr><tr><th class=\"tdhistory456635\" style= \"background: rgba(243, 243, 243, 0.75)\">5</th><td class=\"tdhistory456635\">2017-08-11 02:00:00.000000</td><td class=\"tdhistory456635\">300.77</td><td class=\"tdhistory456635\">299.15</td><td class=\"tdhistory456635\">302.15</td><td class=\"tdhistory456635\">1018</td><td class=\"tdhistory456635\">69</td><td class=\"tdhistory456635\">2</td><td class=\"tdhistory456635\">190</td><td class=\"tdhistory456635\"></td><td class=\"tdhistory456635\"></td><td class=\"tdhistory456635\">1</td><td class=\"tdhistory456635\">800</td><td class=\"tdhistory456635\">Clear</td><td class=\"tdhistory456635\">sky is clear</td><td class=\"tdhistory456635\">01n</td></tr><tr><th class=\"tdhistory456635\" style= \"background: rgba(243, 243, 243, 0.75)\">6</th><td class=\"tdhistory456635\">2016-07-24 11:00:00.000000</td><td class=\"tdhistory456635\">303.24</td><td class=\"tdhistory456635\">301.15</td><td class=\"tdhistory456635\">305.37</td><td class=\"tdhistory456635\">1016</td><td class=\"tdhistory456635\">66</td><td class=\"tdhistory456635\">2</td><td class=\"tdhistory456635\">0</td><td class=\"tdhistory456635\"></td><td class=\"tdhistory456635\"></td><td class=\"tdhistory456635\">1</td><td class=\"tdhistory456635\">800</td><td class=\"tdhistory456635\">Clear</td><td class=\"tdhistory456635\">sky is clear</td><td class=\"tdhistory456635\">01d</td></tr><tr><th class=\"tdhistory456635\" style= \"background: rgba(243, 243, 243, 0.75)\">7</th><td class=\"tdhistory456635\">2015-07-24 16:00:00.000000</td><td class=\"tdhistory456635\">308.35</td><td class=\"tdhistory456635\">307.15</td><td class=\"tdhistory456635\">309.82</td><td class=\"tdhistory456635\">1016</td><td class=\"tdhistory456635\">46</td><td class=\"tdhistory456635\">4</td><td class=\"tdhistory456635\">190</td><td class=\"tdhistory456635\"></td><td class=\"tdhistory456635\"></td><td class=\"tdhistory456635\">40</td><td class=\"tdhistory456635\">802</td><td class=\"tdhistory456635\">Clouds</td><td class=\"tdhistory456635\">scattered clouds</td><td class=\"tdhistory456635\">03d</td></tr><tr><th class=\"tdhistory456635\" style= \"background: rgba(243, 243, 243, 0.75)\">8</th><td class=\"tdhistory456635\">2017-07-24 06:00:00.000000</td><td class=\"tdhistory456635\">297.71</td><td class=\"tdhistory456635\">296.15</td><td class=\"tdhistory456635\">299.15</td><td class=\"tdhistory456635\">1014</td><td class=\"tdhistory456635\">83</td><td class=\"tdhistory456635\">1</td><td class=\"tdhistory456635\">0</td><td class=\"tdhistory456635\"></td><td class=\"tdhistory456635\"></td><td class=\"tdhistory456635\">1</td><td class=\"tdhistory456635\">800</td><td class=\"tdhistory456635\">Clear</td><td class=\"tdhistory456635\">sky is clear</td><td class=\"tdhistory456635\">01n</td></tr><tr><th class=\"tdhistory456635\" style= \"background: rgba(243, 243, 243, 0.75)\">9</th><td class=\"tdhistory456635\">2014-03-04 05:00:00.000000</td><td class=\"tdhistory456635\">272.15</td><td class=\"tdhistory456635\">271.15</td><td class=\"tdhistory456635\">273.15</td><td class=\"tdhistory456635\">1023</td><td class=\"tdhistory456635\">86</td><td class=\"tdhistory456635\">1</td><td class=\"tdhistory456635\">100</td><td class=\"tdhistory456635\"></td><td class=\"tdhistory456635\"></td><td class=\"tdhistory456635\">90</td><td class=\"tdhistory456635\">804</td><td class=\"tdhistory456635\">Clouds</td><td class=\"tdhistory456635\">overcast clouds</td><td class=\"tdhistory456635\">4</td></tr><tr><th class=\"tdhistory456635\" style= \"background: rgba(243, 243, 243, 0.75)\">10</th><td class=\"tdhistory456635\">2015-06-29 20:00:00.000000</td><td class=\"tdhistory456635\">304.88</td><td class=\"tdhistory456635\">304.26</td><td class=\"tdhistory456635\">305.15</td><td class=\"tdhistory456635\">1014</td><td class=\"tdhistory456635\">55</td><td class=\"tdhistory456635\">3</td><td class=\"tdhistory456635\">180</td><td class=\"tdhistory456635\"></td><td class=\"tdhistory456635\"></td><td class=\"tdhistory456635\">1</td><td class=\"tdhistory456635\">800</td><td class=\"tdhistory456635\">Clear</td><td class=\"tdhistory456635\">sky is clear</td><td class=\"tdhistory456635\">01n</td></tr></tbody></table></div>"
      ]
     },
     "execution_count": 4,
     "metadata": {
      "application/vnd.teradata.resultset": "{\"resultSetID\":\"/home/jovyan/JupyterLabRoot/Teradata/Resultsets/2022.09.05_17.33.35.403_UTC\",\"historyID\":188,\"chunkID\":\"00001\",\"sessionid\":\"\",\"portnum\":\"\",\"dockermode\":\"docker\",\"totalRowCount\":10,\"chunkCount\":0,\"rowLimit\":0,\"columnMetadata\":[{\"columnName\":\"dt\",\"columnTypeName\":\"TIMESTAMP\",\"length\":6,\"scale\":6},{\"columnNumber\":1,\"columnName\":\"temp\",\"columnTypeName\":\"FLOAT\"},{\"columnNumber\":2,\"columnName\":\"temp_min\",\"columnTypeName\":\"FLOAT\"},{\"columnNumber\":3,\"columnName\":\"temp_max\",\"columnTypeName\":\"FLOAT\"},{\"columnNumber\":4,\"columnName\":\"pressure\",\"columnTypeName\":\"INTEGER\"},{\"columnNumber\":5,\"columnName\":\"humidity\",\"columnTypeName\":\"INTEGER\"},{\"columnNumber\":6,\"columnName\":\"wind_speed\",\"columnTypeName\":\"INTEGER\"},{\"columnNumber\":7,\"columnName\":\"wind_deg\",\"columnTypeName\":\"INTEGER\"},{\"columnNumber\":8,\"columnName\":\"rain_1h\",\"columnTypeName\":\"FLOAT\"},{\"columnNumber\":9,\"columnName\":\"rain_3h\",\"columnTypeName\":\"FLOAT\"},{\"columnNumber\":10,\"columnName\":\"clouds\",\"columnTypeName\":\"INTEGER\"},{\"columnNumber\":11,\"columnName\":\"weather_id\",\"columnTypeName\":\"INTEGER\"},{\"columnNumber\":12,\"columnName\":\"weather_main\",\"columnTypeName\":\"VARCHAR\",\"length\":50,\"scale\":50},{\"columnNumber\":13,\"columnName\":\"weather_desc\",\"columnTypeName\":\"VARCHAR\",\"length\":50,\"scale\":50},{\"columnNumber\":14,\"columnName\":\"weather_icon\",\"columnTypeName\":\"VARCHAR\",\"length\":50,\"scale\":50}]}"
     },
     "output_type": "execute_result"
    }
   ],
   "source": [
    "SELECT TOP 10 * FROM TRNG_AustinBikeShare.weather"
   ]
  },
  {
   "cell_type": "markdown",
   "metadata": {
    "tags": []
   },
   "source": [
    "<p style = 'font-size:16px;font-family:Arial'>The temperature data appears to be reported hourly. (the minutes and seconds are always zero). The temperature columns are in Kelvin which few people use to decide if it is good bicycle weather, so we will create a view over the weather table to convert the temperature units. We will also average the temperature for the day </p>"
   ]
  },
  {
   "cell_type": "code",
   "execution_count": 22,
   "metadata": {},
   "outputs": [
    {
     "data": {
      "text/plain": [
       "Success: 4 rows affected"
      ]
     },
     "execution_count": 22,
     "metadata": {
      "application/vnd.teradata.resultset": ""
     },
     "output_type": "execute_result"
    }
   ],
   "source": [
    "replace view austin_weather as\n",
    "select trunc(dt, 'Month') dt, \n",
    "round( avg( (temp - 273.15) * 9/5 + 32 ) ,0) AveTemp,\n",
    "sum(case when weather_main in ('Rain', 'Mist') then 1 else 0 end) Precip_hours\n",
    "from TRNG_AustinBikeShare.weather group by 1;"
   ]
  },
  {
   "cell_type": "code",
   "execution_count": 23,
   "metadata": {},
   "outputs": [
    {
     "data": {
      "application/vnd.teradata.resultset": "\"dt\",\"AveTemp\",\"Precip_hours\"\n\"2013-12-01\",\"45\",\"49\"\n\"2014-01-01\",\"48\",\"131\"\n\"2014-02-01\",\"51\",\"63\"\n\"2014-03-01\",\"57\",\"24\"\n\"2014-04-01\",\"67\",\"82\"\n\"2014-05-01\",\"73\",\"207\"\n\"2014-06-01\",\"80\",\"68\"\n\"2014-07-01\",\"82\",\"135\"\n\"2014-08-01\",\"84\",\"2\"\n\"2015-06-01\",\"82\",\"29\"\n\"2015-07-01\",\"84\",\"61\"\n\"2015-08-01\",\"85\",\"41\"\n\"2015-09-01\",\"81\",\"64\"\n\"2015-10-01\",\"74\",\"76\"\n\"2015-11-01\",\"60\",\"161\"\n\"2015-12-01\",\"55\",\"130\"\n\"2016-01-01\",\"49\",\"75\"\n\"2016-02-01\",\"56\",\"62\"\n\"2016-03-01\",\"64\",\"201\"\n\"2016-04-01\",\"68\",\"270\"\n\"2016-05-01\",\"72\",\"288\"\n\"2016-06-01\",\"81\",\"118\"\n\"2016-07-01\",\"86\",\"68\"\n\"2016-08-01\",\"82\",\"216\"\n\"2016-09-01\",\"79\",\"139\"\n\"2016-10-01\",\"72\",\"36\"\n\"2016-11-01\",\"64\",\"384\"\n\"2016-12-01\",\"53\",\"310\"\n\"2017-01-01\",\"54\",\"195\"\n\"2017-02-01\",\"61\",\"154\"\n\"2017-03-01\",\"65\",\"248\"\n\"2017-04-01\",\"70\",\"121\"\n\"2017-05-01\",\"74\",\"159\"\n\"2017-06-01\",\"81\",\"128\"\n\"2017-07-01\",\"86\",\"47\"\n\"2017-08-01\",\"82\",\"205\"\n\"2017-09-01\",\"78\",\"115\"",
      "text/html": [
       "<div class = \"td-resultset-table-div\" style = \"max-height: 100%; overflow-y: auto\">\n",
       "      <table class=\"tdhistory626484\"><style>\n",
       "      table.tdhistory626484 { display: block !important; min-height: 588px !important; overflow: auto !important; height: 588px !important; width: 100% !important; border: 1px solid rgb(207, 207, 207) !important; border-collapse: collapse !important; ; color: var(--jp-ui-font-color1) !important; }\n",
       "      th.tdhistory626484 { border: 1px solid rgb(198,198,198) !important; border-collapse: collapse !important; ; padding: 2px 5px !important; ; font-size: 13px !important; ; text-align: center !important; white-space: normal !important; color: var(--jp-ui-font-color1) !important; }\n",
       "      th.tdhistory626484:last-child { text-align: left !important; }\n",
       "      tbody.tdhistory626484 tr:nth-child(even) { background: rgba(243, 243, 243, 0.75) !important; }\n",
       "      tbody.tdhistory626484 tr:nth-child(odd) { background: var(--jp-ui-inverse-font-color1) !important; }\n",
       "      td.tdhistory626484 { border: 1px solid rgb(207, 207, 207) !important; border-collapse: collapse !important; ; padding: 2px 5px !important; ; font-size: 13px !important; ; text-align: left !important;          white-space: nowrap !important; overflow:hidden !important; text-overflow:ellipsis !important;; }\n",
       "    </style><thead><tr style= \"background: rgba(243, 243, 243, 0.75)\"><th class=\"tdhistory626484\"></th><th class=\"tdhistory626484\">dt</th><th class=\"tdhistory626484\">AveTemp</th><th class=\"tdhistory626484\">Precip_hours</th></tr></thead><tbody class=\"tdhistory626484 resultset-body\"><tr><th class=\"tdhistory626484\" style= \"background: rgba(243, 243, 243, 0.75)\">1</th><td class=\"tdhistory626484\">2013-12-01</td><td class=\"tdhistory626484\">45</td><td class=\"tdhistory626484\">49</td></tr><tr><th class=\"tdhistory626484\" style= \"background: rgba(243, 243, 243, 0.75)\">2</th><td class=\"tdhistory626484\">2014-01-01</td><td class=\"tdhistory626484\">48</td><td class=\"tdhistory626484\">131</td></tr><tr><th class=\"tdhistory626484\" style= \"background: rgba(243, 243, 243, 0.75)\">3</th><td class=\"tdhistory626484\">2014-02-01</td><td class=\"tdhistory626484\">51</td><td class=\"tdhistory626484\">63</td></tr><tr><th class=\"tdhistory626484\" style= \"background: rgba(243, 243, 243, 0.75)\">4</th><td class=\"tdhistory626484\">2014-03-01</td><td class=\"tdhistory626484\">57</td><td class=\"tdhistory626484\">24</td></tr><tr><th class=\"tdhistory626484\" style= \"background: rgba(243, 243, 243, 0.75)\">5</th><td class=\"tdhistory626484\">2014-04-01</td><td class=\"tdhistory626484\">67</td><td class=\"tdhistory626484\">82</td></tr><tr><th class=\"tdhistory626484\" style= \"background: rgba(243, 243, 243, 0.75)\">6</th><td class=\"tdhistory626484\">2014-05-01</td><td class=\"tdhistory626484\">73</td><td class=\"tdhistory626484\">207</td></tr><tr><th class=\"tdhistory626484\" style= \"background: rgba(243, 243, 243, 0.75)\">7</th><td class=\"tdhistory626484\">2014-06-01</td><td class=\"tdhistory626484\">80</td><td class=\"tdhistory626484\">68</td></tr><tr><th class=\"tdhistory626484\" style= \"background: rgba(243, 243, 243, 0.75)\">8</th><td class=\"tdhistory626484\">2014-07-01</td><td class=\"tdhistory626484\">82</td><td class=\"tdhistory626484\">135</td></tr><tr><th class=\"tdhistory626484\" style= \"background: rgba(243, 243, 243, 0.75)\">9</th><td class=\"tdhistory626484\">2014-08-01</td><td class=\"tdhistory626484\">84</td><td class=\"tdhistory626484\">2</td></tr><tr><th class=\"tdhistory626484\" style= \"background: rgba(243, 243, 243, 0.75)\">10</th><td class=\"tdhistory626484\">2015-06-01</td><td class=\"tdhistory626484\">82</td><td class=\"tdhistory626484\">29</td></tr><tr><th class=\"tdhistory626484\" style= \"background: rgba(243, 243, 243, 0.75)\">11</th><td class=\"tdhistory626484\">2015-07-01</td><td class=\"tdhistory626484\">84</td><td class=\"tdhistory626484\">61</td></tr><tr><th class=\"tdhistory626484\" style= \"background: rgba(243, 243, 243, 0.75)\">12</th><td class=\"tdhistory626484\">2015-08-01</td><td class=\"tdhistory626484\">85</td><td class=\"tdhistory626484\">41</td></tr><tr><th class=\"tdhistory626484\" style= \"background: rgba(243, 243, 243, 0.75)\">13</th><td class=\"tdhistory626484\">2015-09-01</td><td class=\"tdhistory626484\">81</td><td class=\"tdhistory626484\">64</td></tr><tr><th class=\"tdhistory626484\" style= \"background: rgba(243, 243, 243, 0.75)\">14</th><td class=\"tdhistory626484\">2015-10-01</td><td class=\"tdhistory626484\">74</td><td class=\"tdhistory626484\">76</td></tr><tr><th class=\"tdhistory626484\" style= \"background: rgba(243, 243, 243, 0.75)\">15</th><td class=\"tdhistory626484\">2015-11-01</td><td class=\"tdhistory626484\">60</td><td class=\"tdhistory626484\">161</td></tr><tr><th class=\"tdhistory626484\" style= \"background: rgba(243, 243, 243, 0.75)\">16</th><td class=\"tdhistory626484\">2015-12-01</td><td class=\"tdhistory626484\">55</td><td class=\"tdhistory626484\">130</td></tr><tr><th class=\"tdhistory626484\" style= \"background: rgba(243, 243, 243, 0.75)\">17</th><td class=\"tdhistory626484\">2016-01-01</td><td class=\"tdhistory626484\">49</td><td class=\"tdhistory626484\">75</td></tr><tr><th class=\"tdhistory626484\" style= \"background: rgba(243, 243, 243, 0.75)\">18</th><td class=\"tdhistory626484\">2016-02-01</td><td class=\"tdhistory626484\">56</td><td class=\"tdhistory626484\">62</td></tr><tr><th class=\"tdhistory626484\" style= \"background: rgba(243, 243, 243, 0.75)\">19</th><td class=\"tdhistory626484\">2016-03-01</td><td class=\"tdhistory626484\">64</td><td class=\"tdhistory626484\">201</td></tr><tr><th class=\"tdhistory626484\" style= \"background: rgba(243, 243, 243, 0.75)\">20</th><td class=\"tdhistory626484\">2016-04-01</td><td class=\"tdhistory626484\">68</td><td class=\"tdhistory626484\">270</td></tr><tr><th class=\"tdhistory626484\" style= \"background: rgba(243, 243, 243, 0.75)\">21</th><td class=\"tdhistory626484\">2016-05-01</td><td class=\"tdhistory626484\">72</td><td class=\"tdhistory626484\">288</td></tr><tr><th class=\"tdhistory626484\" style= \"background: rgba(243, 243, 243, 0.75)\">22</th><td class=\"tdhistory626484\">2016-06-01</td><td class=\"tdhistory626484\">81</td><td class=\"tdhistory626484\">118</td></tr><tr><th class=\"tdhistory626484\" style= \"background: rgba(243, 243, 243, 0.75)\">23</th><td class=\"tdhistory626484\">2016-07-01</td><td class=\"tdhistory626484\">86</td><td class=\"tdhistory626484\">68</td></tr><tr><th class=\"tdhistory626484\" style= \"background: rgba(243, 243, 243, 0.75)\">24</th><td class=\"tdhistory626484\">2016-08-01</td><td class=\"tdhistory626484\">82</td><td class=\"tdhistory626484\">216</td></tr><tr><th class=\"tdhistory626484\" style= \"background: rgba(243, 243, 243, 0.75)\">25</th><td class=\"tdhistory626484\">2016-09-01</td><td class=\"tdhistory626484\">79</td><td class=\"tdhistory626484\">139</td></tr><tr><th class=\"tdhistory626484\" style= \"background: rgba(243, 243, 243, 0.75)\">26</th><td class=\"tdhistory626484\">2016-10-01</td><td class=\"tdhistory626484\">72</td><td class=\"tdhistory626484\">36</td></tr><tr><th class=\"tdhistory626484\" style= \"background: rgba(243, 243, 243, 0.75)\">27</th><td class=\"tdhistory626484\">2016-11-01</td><td class=\"tdhistory626484\">64</td><td class=\"tdhistory626484\">384</td></tr><tr><th class=\"tdhistory626484\" style= \"background: rgba(243, 243, 243, 0.75)\">28</th><td class=\"tdhistory626484\">2016-12-01</td><td class=\"tdhistory626484\">53</td><td class=\"tdhistory626484\">310</td></tr><tr><th class=\"tdhistory626484\" style= \"background: rgba(243, 243, 243, 0.75)\">29</th><td class=\"tdhistory626484\">2017-01-01</td><td class=\"tdhistory626484\">54</td><td class=\"tdhistory626484\">195</td></tr><tr><th class=\"tdhistory626484\" style= \"background: rgba(243, 243, 243, 0.75)\">30</th><td class=\"tdhistory626484\">2017-02-01</td><td class=\"tdhistory626484\">61</td><td class=\"tdhistory626484\">154</td></tr><tr><th class=\"tdhistory626484\" style= \"background: rgba(243, 243, 243, 0.75)\">31</th><td class=\"tdhistory626484\">2017-03-01</td><td class=\"tdhistory626484\">65</td><td class=\"tdhistory626484\">248</td></tr><tr><th class=\"tdhistory626484\" style= \"background: rgba(243, 243, 243, 0.75)\">32</th><td class=\"tdhistory626484\">2017-04-01</td><td class=\"tdhistory626484\">70</td><td class=\"tdhistory626484\">121</td></tr><tr><th class=\"tdhistory626484\" style= \"background: rgba(243, 243, 243, 0.75)\">33</th><td class=\"tdhistory626484\">2017-05-01</td><td class=\"tdhistory626484\">74</td><td class=\"tdhistory626484\">159</td></tr><tr><th class=\"tdhistory626484\" style= \"background: rgba(243, 243, 243, 0.75)\">34</th><td class=\"tdhistory626484\">2017-06-01</td><td class=\"tdhistory626484\">81</td><td class=\"tdhistory626484\">128</td></tr><tr><th class=\"tdhistory626484\" style= \"background: rgba(243, 243, 243, 0.75)\">35</th><td class=\"tdhistory626484\">2017-07-01</td><td class=\"tdhistory626484\">86</td><td class=\"tdhistory626484\">47</td></tr><tr><th class=\"tdhistory626484\" style= \"background: rgba(243, 243, 243, 0.75)\">36</th><td class=\"tdhistory626484\">2017-08-01</td><td class=\"tdhistory626484\">82</td><td class=\"tdhistory626484\">205</td></tr><tr><th class=\"tdhistory626484\" style= \"background: rgba(243, 243, 243, 0.75)\">37</th><td class=\"tdhistory626484\">2017-09-01</td><td class=\"tdhistory626484\">78</td><td class=\"tdhistory626484\">115</td></tr></tbody></table></div>"
      ]
     },
     "execution_count": 23,
     "metadata": {
      "application/vnd.teradata.resultset": "{\"resultSetID\":\"/home/jovyan/JupyterLabRoot/Teradata/Resultsets/2022.09.05_21.53.38.859_UTC\",\"historyID\":202,\"chunkID\":\"00001\",\"sessionid\":\"\",\"portnum\":\"\",\"dockermode\":\"docker\",\"totalRowCount\":37,\"chunkCount\":0,\"rowLimit\":0,\"columnMetadata\":[{\"columnName\":\"dt\",\"columnTypeName\":\"DATE\"},{\"columnNumber\":1,\"columnName\":\"AveTemp\",\"columnTypeName\":\"FLOAT\"},{\"columnNumber\":2,\"columnName\":\"Precip_hours\",\"columnTypeName\":\"INTEGER\"}]}"
     },
     "output_type": "execute_result"
    }
   ],
   "source": [
    "Select  * from austin_weather order by 1"
   ]
  },
  {
   "cell_type": "markdown",
   "metadata": {
    "tags": []
   },
   "source": [
    "<p style = 'font-size:16px;font-family:Arial'>If we plot the data, we find we are missing some data, but we get an idea of the typical temperature ranges.  If we look at the hours each month where precipitation is occuring, we see some patterns there that could also be impacting the number of trips.  </p>"
   ]
  },
  {
   "cell_type": "code",
   "execution_count": 24,
   "metadata": {},
   "outputs": [
    {
     "data": {
      "application/vnd.vegalite.v3+json": {
       "$schema": "https://vega.github.io/schema/vega-lite/v3.json",
       "data": {
        "format": {
         "type": "csv"
        },
        "values": "\"dt\",\"AveTemp\",\"Precip_hours\"\n\"2013-12-01\",\"45\",\"49\"\n\"2014-01-01\",\"48\",\"131\"\n\"2014-02-01\",\"51\",\"63\"\n\"2014-03-01\",\"57\",\"24\"\n\"2014-04-01\",\"67\",\"82\"\n\"2014-05-01\",\"73\",\"207\"\n\"2014-06-01\",\"80\",\"68\"\n\"2014-07-01\",\"82\",\"135\"\n\"2014-08-01\",\"84\",\"2\"\n\"2015-06-01\",\"82\",\"29\"\n\"2015-07-01\",\"84\",\"61\"\n\"2015-08-01\",\"85\",\"41\"\n\"2015-09-01\",\"81\",\"64\"\n\"2015-10-01\",\"74\",\"76\"\n\"2015-11-01\",\"60\",\"161\"\n\"2015-12-01\",\"55\",\"130\"\n\"2016-01-01\",\"49\",\"75\"\n\"2016-02-01\",\"56\",\"62\"\n\"2016-03-01\",\"64\",\"201\"\n\"2016-04-01\",\"68\",\"270\"\n\"2016-05-01\",\"72\",\"288\"\n\"2016-06-01\",\"81\",\"118\"\n\"2016-07-01\",\"86\",\"68\"\n\"2016-08-01\",\"82\",\"216\"\n\"2016-09-01\",\"79\",\"139\"\n\"2016-10-01\",\"72\",\"36\"\n\"2016-11-01\",\"64\",\"384\"\n\"2016-12-01\",\"53\",\"310\"\n\"2017-01-01\",\"54\",\"195\"\n\"2017-02-01\",\"61\",\"154\"\n\"2017-03-01\",\"65\",\"248\"\n\"2017-04-01\",\"70\",\"121\"\n\"2017-05-01\",\"74\",\"159\"\n\"2017-06-01\",\"81\",\"128\"\n\"2017-07-01\",\"86\",\"47\"\n\"2017-08-01\",\"82\",\"205\"\n\"2017-09-01\",\"78\",\"115\"\n"
       },
       "encoding": {
        "x": {
         "axis": {
          "grid": true,
          "title": "dt"
         },
         "field": "dt",
         "type": "temporal"
        },
        "y": {
         "axis": {
          "grid": true,
          "title": "avetemp"
         },
         "field": "AveTemp",
         "type": "quantitative"
        }
       },
       "mark": {
        "color": "#4C78A8",
        "type": "bar"
       },
       "title": "Average Temperature by Month",
       "width": "800"
      },
      "image/png": "[encoded data removed]"
     },
     "execution_count": 24,
     "metadata": {
      "application/vnd.teradata.resultset": ""
     },
     "output_type": "execute_result"
    }
   ],
   "source": [
    "%chart dt, avetemp, width=800, title=Average Temperature by Month"
   ]
  },
  {
   "cell_type": "code",
   "execution_count": 25,
   "metadata": {},
   "outputs": [
    {
     "data": {
      "application/vnd.vegalite.v3+json": {
       "$schema": "https://vega.github.io/schema/vega-lite/v3.json",
       "data": {
        "format": {
         "type": "csv"
        },
        "values": "\"dt\",\"AveTemp\",\"Precip_hours\"\n\"2013-12-01\",\"45\",\"49\"\n\"2014-01-01\",\"48\",\"131\"\n\"2014-02-01\",\"51\",\"63\"\n\"2014-03-01\",\"57\",\"24\"\n\"2014-04-01\",\"67\",\"82\"\n\"2014-05-01\",\"73\",\"207\"\n\"2014-06-01\",\"80\",\"68\"\n\"2014-07-01\",\"82\",\"135\"\n\"2014-08-01\",\"84\",\"2\"\n\"2015-06-01\",\"82\",\"29\"\n\"2015-07-01\",\"84\",\"61\"\n\"2015-08-01\",\"85\",\"41\"\n\"2015-09-01\",\"81\",\"64\"\n\"2015-10-01\",\"74\",\"76\"\n\"2015-11-01\",\"60\",\"161\"\n\"2015-12-01\",\"55\",\"130\"\n\"2016-01-01\",\"49\",\"75\"\n\"2016-02-01\",\"56\",\"62\"\n\"2016-03-01\",\"64\",\"201\"\n\"2016-04-01\",\"68\",\"270\"\n\"2016-05-01\",\"72\",\"288\"\n\"2016-06-01\",\"81\",\"118\"\n\"2016-07-01\",\"86\",\"68\"\n\"2016-08-01\",\"82\",\"216\"\n\"2016-09-01\",\"79\",\"139\"\n\"2016-10-01\",\"72\",\"36\"\n\"2016-11-01\",\"64\",\"384\"\n\"2016-12-01\",\"53\",\"310\"\n\"2017-01-01\",\"54\",\"195\"\n\"2017-02-01\",\"61\",\"154\"\n\"2017-03-01\",\"65\",\"248\"\n\"2017-04-01\",\"70\",\"121\"\n\"2017-05-01\",\"74\",\"159\"\n\"2017-06-01\",\"81\",\"128\"\n\"2017-07-01\",\"86\",\"47\"\n\"2017-08-01\",\"82\",\"205\"\n\"2017-09-01\",\"78\",\"115\"\n"
       },
       "encoding": {
        "x": {
         "axis": {
          "grid": true,
          "title": "dt"
         },
         "field": "dt",
         "type": "temporal"
        },
        "y": {
         "axis": {
          "grid": true,
          "title": "Precip_hours"
         },
         "field": "Precip_hours",
         "type": "quantitative"
        }
       },
       "mark": {
        "color": "#4C78A8",
        "type": "bar"
       },
       "title": "Average Precip Hours by Month",
       "width": "800"
      },
      "image/png": "[encoded data removed]"
     },
     "execution_count": 25,
     "metadata": {
      "application/vnd.teradata.resultset": ""
     },
     "output_type": "execute_result"
    }
   ],
   "source": [
    "%chart dt, Precip_hours, width=800, title=Average Precip Hours by Month"
   ]
  },
  {
   "cell_type": "markdown",
   "metadata": {},
   "source": [
    "<b style = 'font-size:28px;font-family:Arial;color:#E37C4D'>4. Create and Explore Temporal, Time index and Geospatial data</b>    "
   ]
  },
  {
   "cell_type": "markdown",
   "metadata": {},
   "source": [
    "<p style = 'font-size:18px;font-family:Arial;color:#E37C4D'><b>4.1 Create a temporal table with weather data</b></p>    "
   ]
  },
  {
   "cell_type": "code",
   "execution_count": 5,
   "metadata": {},
   "outputs": [
    {
     "data": {
      "text/plain": [
       "Success: 0 rows affected"
      ]
     },
     "execution_count": 5,
     "metadata": {
      "application/vnd.teradata.resultset": ""
     },
     "output_type": "execute_result"
    }
   ],
   "source": [
    "CREATE TABLE weather_pti (\n",
    "    temp          FLOAT,\n",
    "    temp_min      FLOAT,\n",
    "    temp_max      FLOAT,\n",
    "    pressure      INTEGER,\n",
    "    humidity      INTEGER,\n",
    "    wind_speed    INTEGER,\n",
    "    wind_deg      INTEGER,\n",
    "    rain_1h       FLOAT,\n",
    "    rain_3h       FLOAT,\n",
    "    clouds        INTEGER,\n",
    "    weather_id    INTEGER,\n",
    "    weather_main  VARCHAR(50),\n",
    "    weather_desc  VARCHAR(50),\n",
    "    weather_icon  VARCHAR(50)\n",
    ")\n",
    "PRIMARY TIME INDEX (TIMESTAMP(6), DATE '2013-12-20', MINUTES(60));"
   ]
  },
  {
   "cell_type": "code",
   "execution_count": 6,
   "metadata": {},
   "outputs": [
    {
     "data": {
      "text/plain": [
       "Success: 24589 rows affected"
      ]
     },
     "execution_count": 6,
     "metadata": {
      "application/vnd.teradata.resultset": ""
     },
     "output_type": "execute_result"
    }
   ],
   "source": [
    "INSERT INTO weather_pti\n",
    "SELECT\n",
    "    dt,\n",
    "    round( ((temp - 273.15) * 9/5 + 32 ) ,0),\n",
    "    round( ((temp_min - 273.15) * 9/5 + 32 ) ,0),\n",
    "    round( ((temp_max - 273.15) * 9/5 + 32 ) ,0),\n",
    "    pressure,\n",
    "    humidity,\n",
    "    wind_speed,\n",
    "    wind_deg,\n",
    "    rain_1h,\n",
    "    rain_3h,\n",
    "    clouds,\n",
    "    weather_id,\n",
    "    weather_main,\n",
    "    weather_desc,\n",
    "    weather_icon\n",
    "FROM \n",
    "    TRNG_AustinBikeShare.weather;"
   ]
  },
  {
   "cell_type": "code",
   "execution_count": 7,
   "metadata": {},
   "outputs": [
    {
     "data": {
      "application/vnd.teradata.resultset": "\"TD_TIMECODE\",\"temp\",\"temp_min\",\"temp_max\",\"pressure\",\"humidity\",\"wind_speed\",\"wind_deg\",\"rain_1h\",\"rain_3h\",\"clouds\",\"weather_id\",\"weather_main\",\"weather_desc\",\"weather_icon\"\n\"2013-12-21 03:00:00.000000\",\"64\",\"48\",\"73\",\"1002\",\"93\",\"0\",\"69\",\"2.03\",\"\",\"0\",\"501\",\"Rain\",\"moderate rain\",\"10n\"\n\"2013-12-21 04:00:00.000000\",\"54\",\"41\",\"70\",\"1003\",\"85\",\"4\",\"342\",\"0.88\",\"\",\"0\",\"701\",\"Mist\",\"mist\",\"50n\"\n\"2013-12-21 04:00:00.000000\",\"54\",\"41\",\"70\",\"1003\",\"85\",\"4\",\"342\",\"0.88\",\"\",\"0\",\"500\",\"Rain\",\"light rain\",\"10n\"\n\"2013-12-21 18:00:00.000000\",\"60\",\"56\",\"64\",\"1004\",\"70\",\"1\",\"118\",\"\",\"0\",\"0\",\"800\",\"Clear\",\"Sky is Clear\",\"01n\"\n\"2013-12-22 09:00:00.000000\",\"41\",\"37\",\"45\",\"1015\",\"95\",\"2\",\"45\",\"0.25\",\"\",\"0\",\"500\",\"Rain\",\"light rain\",\"10d\"\n\"2013-12-22 10:00:00.000000\",\"42\",\"40\",\"44\",\"1017\",\"70\",\"1\",\"29\",\"0.25\",\"\",\"0\",\"500\",\"Rain\",\"light rain\",\"10d\"\n\"2013-12-21 21:00:00.000000\",\"53\",\"47\",\"58\",\"1004\",\"75\",\"0\",\"351\",\"\",\"0\",\"0\",\"800\",\"Clear\",\"Sky is Clear\",\"01n\"\n\"2013-12-21 03:00:00.000000\",\"64\",\"48\",\"73\",\"1002\",\"93\",\"0\",\"69\",\"2.03\",\"\",\"0\",\"701\",\"Mist\",\"mist\",\"50n\"\n\"2013-12-21 02:00:00.000000\",\"70\",\"69\",\"72\",\"1003\",\"91\",\"0\",\"297\",\"2.16\",\"\",\"0\",\"501\",\"Rain\",\"moderate rain\",\"10n\"\n\"2013-12-20 22:00:00.000000\",\"69\",\"67\",\"70\",\"1005\",\"70\",\"1\",\"118\",\"\",\"0\",\"0\",\"800\",\"Clear\",\"Sky is Clear\",\"01n\"",
      "text/html": [
       "<div class = \"td-resultset-table-div\" style = \"max-height: 100%; overflow-y: auto\">\n",
       "      <table class=\"tdhistory271042\"><style>\n",
       "      table.tdhistory271042 { display: block !important; min-height: 294px !important; overflow: auto !important; height: 294px !important; width: 100% !important; border: 1px solid rgb(207, 207, 207) !important; border-collapse: collapse !important; ; color: var(--jp-ui-font-color1) !important; }\n",
       "      th.tdhistory271042 { border: 1px solid rgb(198,198,198) !important; border-collapse: collapse !important; ; padding: 2px 5px !important; ; font-size: 13px !important; ; text-align: center !important; white-space: normal !important; color: var(--jp-ui-font-color1) !important; }\n",
       "      th.tdhistory271042:last-child { text-align: left !important; }\n",
       "      tbody.tdhistory271042 tr:nth-child(even) { background: rgba(243, 243, 243, 0.75) !important; }\n",
       "      tbody.tdhistory271042 tr:nth-child(odd) { background: var(--jp-ui-inverse-font-color1) !important; }\n",
       "      td.tdhistory271042 { border: 1px solid rgb(207, 207, 207) !important; border-collapse: collapse !important; ; padding: 2px 5px !important; ; font-size: 13px !important; ; text-align: left !important;          white-space: nowrap !important; overflow:hidden !important; text-overflow:ellipsis !important;; }\n",
       "    </style><thead><tr style= \"background: rgba(243, 243, 243, 0.75)\"><th class=\"tdhistory271042\"></th><th class=\"tdhistory271042\">TD_TIMECODE</th><th class=\"tdhistory271042\">temp</th><th class=\"tdhistory271042\">temp_min</th><th class=\"tdhistory271042\">temp_max</th><th class=\"tdhistory271042\">pressure</th><th class=\"tdhistory271042\">humidity</th><th class=\"tdhistory271042\">wind_speed</th><th class=\"tdhistory271042\">wind_deg</th><th class=\"tdhistory271042\">rain_1h</th><th class=\"tdhistory271042\">rain_3h</th><th class=\"tdhistory271042\">clouds</th><th class=\"tdhistory271042\">weather_id</th><th class=\"tdhistory271042\">weather_main</th><th class=\"tdhistory271042\">weather_desc</th><th class=\"tdhistory271042\">weather_icon</th></tr></thead><tbody class=\"tdhistory271042 resultset-body\"><tr><th class=\"tdhistory271042\" style= \"background: rgba(243, 243, 243, 0.75)\">1</th><td class=\"tdhistory271042\">2013-12-21 03:00:00.000000</td><td class=\"tdhistory271042\">64</td><td class=\"tdhistory271042\">48</td><td class=\"tdhistory271042\">73</td><td class=\"tdhistory271042\">1002</td><td class=\"tdhistory271042\">93</td><td class=\"tdhistory271042\">0</td><td class=\"tdhistory271042\">69</td><td class=\"tdhistory271042\">2.03</td><td class=\"tdhistory271042\"></td><td class=\"tdhistory271042\">0</td><td class=\"tdhistory271042\">501</td><td class=\"tdhistory271042\">Rain</td><td class=\"tdhistory271042\">moderate rain</td><td class=\"tdhistory271042\">10n</td></tr><tr><th class=\"tdhistory271042\" style= \"background: rgba(243, 243, 243, 0.75)\">2</th><td class=\"tdhistory271042\">2013-12-21 04:00:00.000000</td><td class=\"tdhistory271042\">54</td><td class=\"tdhistory271042\">41</td><td class=\"tdhistory271042\">70</td><td class=\"tdhistory271042\">1003</td><td class=\"tdhistory271042\">85</td><td class=\"tdhistory271042\">4</td><td class=\"tdhistory271042\">342</td><td class=\"tdhistory271042\">0.88</td><td class=\"tdhistory271042\"></td><td class=\"tdhistory271042\">0</td><td class=\"tdhistory271042\">701</td><td class=\"tdhistory271042\">Mist</td><td class=\"tdhistory271042\">mist</td><td class=\"tdhistory271042\">50n</td></tr><tr><th class=\"tdhistory271042\" style= \"background: rgba(243, 243, 243, 0.75)\">3</th><td class=\"tdhistory271042\">2013-12-21 04:00:00.000000</td><td class=\"tdhistory271042\">54</td><td class=\"tdhistory271042\">41</td><td class=\"tdhistory271042\">70</td><td class=\"tdhistory271042\">1003</td><td class=\"tdhistory271042\">85</td><td class=\"tdhistory271042\">4</td><td class=\"tdhistory271042\">342</td><td class=\"tdhistory271042\">0.88</td><td class=\"tdhistory271042\"></td><td class=\"tdhistory271042\">0</td><td class=\"tdhistory271042\">500</td><td class=\"tdhistory271042\">Rain</td><td class=\"tdhistory271042\">light rain</td><td class=\"tdhistory271042\">10n</td></tr><tr><th class=\"tdhistory271042\" style= \"background: rgba(243, 243, 243, 0.75)\">4</th><td class=\"tdhistory271042\">2013-12-21 18:00:00.000000</td><td class=\"tdhistory271042\">60</td><td class=\"tdhistory271042\">56</td><td class=\"tdhistory271042\">64</td><td class=\"tdhistory271042\">1004</td><td class=\"tdhistory271042\">70</td><td class=\"tdhistory271042\">1</td><td class=\"tdhistory271042\">118</td><td class=\"tdhistory271042\"></td><td class=\"tdhistory271042\">0</td><td class=\"tdhistory271042\">0</td><td class=\"tdhistory271042\">800</td><td class=\"tdhistory271042\">Clear</td><td class=\"tdhistory271042\">Sky is Clear</td><td class=\"tdhistory271042\">01n</td></tr><tr><th class=\"tdhistory271042\" style= \"background: rgba(243, 243, 243, 0.75)\">5</th><td class=\"tdhistory271042\">2013-12-22 09:00:00.000000</td><td class=\"tdhistory271042\">41</td><td class=\"tdhistory271042\">37</td><td class=\"tdhistory271042\">45</td><td class=\"tdhistory271042\">1015</td><td class=\"tdhistory271042\">95</td><td class=\"tdhistory271042\">2</td><td class=\"tdhistory271042\">45</td><td class=\"tdhistory271042\">0.25</td><td class=\"tdhistory271042\"></td><td class=\"tdhistory271042\">0</td><td class=\"tdhistory271042\">500</td><td class=\"tdhistory271042\">Rain</td><td class=\"tdhistory271042\">light rain</td><td class=\"tdhistory271042\">10d</td></tr><tr><th class=\"tdhistory271042\" style= \"background: rgba(243, 243, 243, 0.75)\">6</th><td class=\"tdhistory271042\">2013-12-22 10:00:00.000000</td><td class=\"tdhistory271042\">42</td><td class=\"tdhistory271042\">40</td><td class=\"tdhistory271042\">44</td><td class=\"tdhistory271042\">1017</td><td class=\"tdhistory271042\">70</td><td class=\"tdhistory271042\">1</td><td class=\"tdhistory271042\">29</td><td class=\"tdhistory271042\">0.25</td><td class=\"tdhistory271042\"></td><td class=\"tdhistory271042\">0</td><td class=\"tdhistory271042\">500</td><td class=\"tdhistory271042\">Rain</td><td class=\"tdhistory271042\">light rain</td><td class=\"tdhistory271042\">10d</td></tr><tr><th class=\"tdhistory271042\" style= \"background: rgba(243, 243, 243, 0.75)\">7</th><td class=\"tdhistory271042\">2013-12-21 21:00:00.000000</td><td class=\"tdhistory271042\">53</td><td class=\"tdhistory271042\">47</td><td class=\"tdhistory271042\">58</td><td class=\"tdhistory271042\">1004</td><td class=\"tdhistory271042\">75</td><td class=\"tdhistory271042\">0</td><td class=\"tdhistory271042\">351</td><td class=\"tdhistory271042\"></td><td class=\"tdhistory271042\">0</td><td class=\"tdhistory271042\">0</td><td class=\"tdhistory271042\">800</td><td class=\"tdhistory271042\">Clear</td><td class=\"tdhistory271042\">Sky is Clear</td><td class=\"tdhistory271042\">01n</td></tr><tr><th class=\"tdhistory271042\" style= \"background: rgba(243, 243, 243, 0.75)\">8</th><td class=\"tdhistory271042\">2013-12-21 03:00:00.000000</td><td class=\"tdhistory271042\">64</td><td class=\"tdhistory271042\">48</td><td class=\"tdhistory271042\">73</td><td class=\"tdhistory271042\">1002</td><td class=\"tdhistory271042\">93</td><td class=\"tdhistory271042\">0</td><td class=\"tdhistory271042\">69</td><td class=\"tdhistory271042\">2.03</td><td class=\"tdhistory271042\"></td><td class=\"tdhistory271042\">0</td><td class=\"tdhistory271042\">701</td><td class=\"tdhistory271042\">Mist</td><td class=\"tdhistory271042\">mist</td><td class=\"tdhistory271042\">50n</td></tr><tr><th class=\"tdhistory271042\" style= \"background: rgba(243, 243, 243, 0.75)\">9</th><td class=\"tdhistory271042\">2013-12-21 02:00:00.000000</td><td class=\"tdhistory271042\">70</td><td class=\"tdhistory271042\">69</td><td class=\"tdhistory271042\">72</td><td class=\"tdhistory271042\">1003</td><td class=\"tdhistory271042\">91</td><td class=\"tdhistory271042\">0</td><td class=\"tdhistory271042\">297</td><td class=\"tdhistory271042\">2.16</td><td class=\"tdhistory271042\"></td><td class=\"tdhistory271042\">0</td><td class=\"tdhistory271042\">501</td><td class=\"tdhistory271042\">Rain</td><td class=\"tdhistory271042\">moderate rain</td><td class=\"tdhistory271042\">10n</td></tr><tr><th class=\"tdhistory271042\" style= \"background: rgba(243, 243, 243, 0.75)\">10</th><td class=\"tdhistory271042\">2013-12-20 22:00:00.000000</td><td class=\"tdhistory271042\">69</td><td class=\"tdhistory271042\">67</td><td class=\"tdhistory271042\">70</td><td class=\"tdhistory271042\">1005</td><td class=\"tdhistory271042\">70</td><td class=\"tdhistory271042\">1</td><td class=\"tdhistory271042\">118</td><td class=\"tdhistory271042\"></td><td class=\"tdhistory271042\">0</td><td class=\"tdhistory271042\">0</td><td class=\"tdhistory271042\">800</td><td class=\"tdhistory271042\">Clear</td><td class=\"tdhistory271042\">Sky is Clear</td><td class=\"tdhistory271042\">01n</td></tr></tbody></table></div>"
      ]
     },
     "execution_count": 7,
     "metadata": {
      "application/vnd.teradata.resultset": "{\"resultSetID\":\"/home/jovyan/JupyterLabRoot/Teradata/Resultsets/2022.09.05_17.39.40.987_UTC\",\"historyID\":191,\"chunkID\":\"00001\",\"sessionid\":\"\",\"portnum\":\"\",\"dockermode\":\"docker\",\"totalRowCount\":10,\"chunkCount\":0,\"rowLimit\":0,\"columnMetadata\":[{\"columnName\":\"TD_TIMECODE\",\"columnTypeName\":\"TIMESTAMP\",\"length\":6,\"scale\":6},{\"columnNumber\":1,\"columnName\":\"temp\",\"columnTypeName\":\"FLOAT\"},{\"columnNumber\":2,\"columnName\":\"temp_min\",\"columnTypeName\":\"FLOAT\"},{\"columnNumber\":3,\"columnName\":\"temp_max\",\"columnTypeName\":\"FLOAT\"},{\"columnNumber\":4,\"columnName\":\"pressure\",\"columnTypeName\":\"INTEGER\"},{\"columnNumber\":5,\"columnName\":\"humidity\",\"columnTypeName\":\"INTEGER\"},{\"columnNumber\":6,\"columnName\":\"wind_speed\",\"columnTypeName\":\"INTEGER\"},{\"columnNumber\":7,\"columnName\":\"wind_deg\",\"columnTypeName\":\"INTEGER\"},{\"columnNumber\":8,\"columnName\":\"rain_1h\",\"columnTypeName\":\"FLOAT\"},{\"columnNumber\":9,\"columnName\":\"rain_3h\",\"columnTypeName\":\"FLOAT\"},{\"columnNumber\":10,\"columnName\":\"clouds\",\"columnTypeName\":\"INTEGER\"},{\"columnNumber\":11,\"columnName\":\"weather_id\",\"columnTypeName\":\"INTEGER\"},{\"columnNumber\":12,\"columnName\":\"weather_main\",\"columnTypeName\":\"VARCHAR\",\"length\":50,\"scale\":50},{\"columnNumber\":13,\"columnName\":\"weather_desc\",\"columnTypeName\":\"VARCHAR\",\"length\":50,\"scale\":50},{\"columnNumber\":14,\"columnName\":\"weather_icon\",\"columnTypeName\":\"VARCHAR\",\"length\":50,\"scale\":50}]}"
     },
     "output_type": "execute_result"
    }
   ],
   "source": [
    "SELECT TOP 10 * FROM weather_pti;"
   ]
  },
  {
   "cell_type": "markdown",
   "metadata": {},
   "source": [
    "<p style = 'font-size:18px;font-family:Arial;color:#E37C4D'><b>4.2 Create a view for all trips with start/end stations data and a GEOSEQUENCE with start/end lat/long/time</b></p>"
   ]
  },
  {
   "cell_type": "code",
   "execution_count": 42,
   "metadata": {},
   "outputs": [
    {
     "data": {
      "text/plain": [
       "Success: 0 rows affected"
      ]
     },
     "execution_count": 42,
     "metadata": {
      "application/vnd.teradata.resultset": ""
     },
     "output_type": "execute_result"
    }
   ],
   "source": [
    "REPLACE VIEW trips_geo AS\n",
    "SELECT\n",
    "    t.bikeid,\n",
    "    t.trip_ID,\n",
    "    t.subscriber_type,\n",
    "    t.start_station_id,\n",
    "    COALESCE(t.start_station_name, st.NAME) AS start_station_name,\n",
    "    t.start_time,\n",
    "    st.status starting_station_status,\n",
    "    t.end_station_id,\n",
    "    COALESCE(t.end_station_name, ed.NAME) AS end_station_name,\n",
    "    t.start_time \n",
    "        + CAST(t.duration_minutes/60 AS INTERVAL HOUR(4)) \n",
    "        + CAST(t.duration_minutes MOD 60 AS INTERVAL MINUTE(4)) AS end_time,\n",
    "    ed.status AS End_station_status,\n",
    "    t.duration_minutes,\n",
    "    CAST('GEOSEQUENCE( ('\n",
    "        || COALESCE(st.Longitude,-98.272797)\n",
    "        || ' '\n",
    "        || COALESCE(st.Lat,30.578245)\n",
    "        || ','\n",
    "        || COALESCE(ed.longitude,-98.272797)\n",
    "        || ' '\n",
    "        || COALESCE(ed.lat,30.578245)\n",
    "        || '), ('\n",
    "        || CAST(CAST(t.start_time AS FORMAT 'yyyy-mm-ddbhh:mi:ss') AS VARCHAR(50))\n",
    "        || ','\n",
    "        || CAST(CAST(end_time AS FORMAT 'yyyy-mm-ddbhh:mi:ss') AS VARCHAR(50))\n",
    "        || '), ('\n",
    "        || '1,2), (0) )' AS ST_GEOMETRY) AS GEOM\n",
    "FROM\n",
    "    TRNG_AustinBikeShare.trips AS t\n",
    "    LEFT JOIN stations AS st ON t.start_station_id = st.station_id\n",
    "    LEFT JOIN stations AS ed ON t.end_station_id = ed.station_id;"
   ]
  },
  {
   "cell_type": "markdown",
   "metadata": {
    "tags": []
   },
   "source": [
    "<p style = 'font-size:16px;font-family:Arial'>The code above merely defined a view which enhances the trip data with a Geosequence field containing both the end points of the trip and the time at each point of the trip. </p>"
   ]
  },
  {
   "cell_type": "code",
   "execution_count": 43,
   "metadata": {},
   "outputs": [
    {
     "data": {
      "application/vnd.teradata.resultset": "\"bikeid\",\"trip_id\",\"subscriber_type\",\"start_station_id\",\"start_station_name\",\"start_time\",\"starting_station_status\",\"end_station_id\",\"end_station_name\",\"end_time\",\"End_station_status\",\"duration_minutes\",\"GEOM\"\n\"26\",\"8602786\",\"Walk Up\",\"2711\",\"Barton Springs @ Kinney Ave\",\"2016-01-30 11:28:26.000000\",\"active\",\"2711\",\"Barton Springs @ Kinney Ave\",\"2016-01-30 12:48:26.000000\",\"active\",\"80\",\"GEOSEQUENCE((-97.76118 30.262,-97.76118 30.262),(2016-01-30 11:28:26.000000,2016-01-30 12:48:26.000000),(1,2),(0))\"\n\"354\",\"9900246392\",\"24-Hour Kiosk (Austin B-cycle)\",\"2497\",\"Capitol Station / Congress & 11th\",\"2014-09-21 13:12:00.000000\",\"active\",\"2547\",\"Guadalupe & 21st\",\"2014-09-21 13:34:00.000000\",\"moved\",\"22\",\"GEOSEQUENCE((-97.74127 30.2726,-97.74198 30.28395),(2014-09-21 13:12:00.000000,2014-09-21 13:34:00.000000),(1,2),(0))\"\n\"998\",\"14232060\",\"Walk Up\",\"2498\",\"Convention Center / 4th St. @ MetroRail\",\"2017-03-29 09:52:42.000000\",\"active\",\"2547\",\"Guadalupe & 21st\",\"2017-03-29 10:20:42.000000\",\"moved\",\"28\",\"GEOSEQUENCE((-97.739 30.26483,-97.74198 30.28395),(2017-03-29 09:52:42.000000,2017-03-29 10:20:42.000000),(1,2),(0))\"\n\"815\",\"9900273840\",\"Annual Membership (Austin B-cycle)\",\"2499\",\"City Hall / Lavaca & 2nd\",\"2014-10-10 11:12:00.000000\",\"active\",\"\",\"Zilker Park at Barton Springs & William Barton Drive\",\"2014-10-10 11:31:00.000000\",\"\",\"19\",\"GEOSEQUENCE((-97.74678 30.26476,-98.272797 30.578245),(2014-10-10 11:12:00.000000,2014-10-10 11:31:00.000000),(1,2),(0))\"\n\"254\",\"9900120309\",\"Walk Up\",\"2567\",\"Palmer Auditorium\",\"2015-04-24 09:12:00.000000\",\"active\",\"\",\"Zilker Park at Barton Springs & William Barton Drive\",\"2015-04-24 09:30:00.000000\",\"\",\"18\",\"GEOSEQUENCE((-97.75346 30.25971,-98.272797 30.578245),(2015-04-24 09:12:00.000000,2015-04-24 09:30:00.000000),(1,2),(0))\"\n\"391\",\"13782233\",\"Local30\",\"2711\",\"Barton Springs @ Kinney Ave\",\"2017-02-19 09:33:10.000000\",\"active\",\"3464\",\"Pease Park\",\"2017-02-19 09:54:10.000000\",\"active\",\"21\",\"GEOSEQUENCE((-97.76118 30.262,-97.75219 30.28118),(2017-02-19 09:33:10.000000,2017-02-19 09:54:10.000000),(1,2),(0))\"\n\"745\",\"11866386\",\"Walk Up\",\"3464\",\"Pease Park\",\"2016-09-11 04:48:56.000000\",\"active\",\"3464\",\"Pease Park\",\"2016-09-11 04:49:56.000000\",\"active\",\"1\",\"GEOSEQUENCE((-97.75219 30.28118,-97.75219 30.28118),(2016-09-11 04:48:56.000000,2016-09-11 04:49:56.000000),(1,2),(0))\"\n\"29\",\"13435769\",\"Explorer\",\"2539\",\"Convention Center / 3rd & Trinity\",\"2017-01-14 06:32:35.000000\",\"active\",\"3464\",\"Pease Park\",\"2017-01-14 06:53:35.000000\",\"active\",\"21\",\"GEOSEQUENCE((-97.74023 30.26426,-97.75219 30.28118),(2017-01-14 06:32:35.000000,2017-01-14 06:53:35.000000),(1,2),(0))\"\n\"523\",\"9900234667\",\"Walk Up\",\"2707\",\"Rainey St @ Cummings\",\"2015-08-22 10:12:00.000000\",\"active\",\"\",\"Zilker Park at Barton Springs & William Barton Drive\",\"2015-08-22 10:43:00.000000\",\"\",\"31\",\"GEOSEQUENCE((-97.73982 30.25579,-98.272797 30.578245),(2015-08-22 10:12:00.000000,2015-08-22 10:43:00.000000),(1,2),(0))\"\n\"75\",\"13501418\",\"Walk Up\",\"2563\",\"Davis at Rainey Street\",\"2017-01-21 06:59:25.000000\",\"active\",\"2547\",\"Guadalupe & 21st\",\"2017-01-21 08:10:25.000000\",\"moved\",\"71\",\"GEOSEQUENCE((-97.73845 30.26019,-97.74198 30.28395),(2017-01-21 06:59:25.000000,2017-01-21 08:10:25.000000),(1,2),(0))\"",
      "text/html": [
       "<div class = \"td-resultset-table-div\" style = \"max-height: 100%; overflow-y: auto\">\n",
       "      <table class=\"tdhistory562285\"><style>\n",
       "      table.tdhistory562285 { display: block !important; min-height: 294px !important; overflow: auto !important; height: 294px !important; width: 100% !important; border: 1px solid rgb(207, 207, 207) !important; border-collapse: collapse !important; ; color: var(--jp-ui-font-color1) !important; }\n",
       "      th.tdhistory562285 { border: 1px solid rgb(198,198,198) !important; border-collapse: collapse !important; ; padding: 2px 5px !important; ; font-size: 13px !important; ; text-align: center !important; white-space: normal !important; color: var(--jp-ui-font-color1) !important; }\n",
       "      th.tdhistory562285:last-child { text-align: left !important; }\n",
       "      tbody.tdhistory562285 tr:nth-child(even) { background: rgba(243, 243, 243, 0.75) !important; }\n",
       "      tbody.tdhistory562285 tr:nth-child(odd) { background: var(--jp-ui-inverse-font-color1) !important; }\n",
       "      td.tdhistory562285 { border: 1px solid rgb(207, 207, 207) !important; border-collapse: collapse !important; ; padding: 2px 5px !important; ; font-size: 13px !important; ; text-align: left !important;          white-space: nowrap !important; overflow:hidden !important; text-overflow:ellipsis !important;; }\n",
       "    </style><thead><tr style= \"background: rgba(243, 243, 243, 0.75)\"><th class=\"tdhistory562285\"></th><th class=\"tdhistory562285\">bikeid</th><th class=\"tdhistory562285\">trip_id</th><th class=\"tdhistory562285\">subscriber_type</th><th class=\"tdhistory562285\">start_station_id</th><th class=\"tdhistory562285\">start_station_name</th><th class=\"tdhistory562285\">start_time</th><th class=\"tdhistory562285\">starting_station_status</th><th class=\"tdhistory562285\">end_station_id</th><th class=\"tdhistory562285\">end_station_name</th><th class=\"tdhistory562285\">end_time</th><th class=\"tdhistory562285\">End_station_status</th><th class=\"tdhistory562285\">duration_minutes</th><th class=\"tdhistory562285\">GEOM</th></tr></thead><tbody class=\"tdhistory562285 resultset-body\"><tr><th class=\"tdhistory562285\" style= \"background: rgba(243, 243, 243, 0.75)\">1</th><td class=\"tdhistory562285\">26</td><td class=\"tdhistory562285\">8602786</td><td class=\"tdhistory562285\">Walk Up</td><td class=\"tdhistory562285\">2711</td><td class=\"tdhistory562285\">Barton Springs @ Kinney Ave</td><td class=\"tdhistory562285\">2016-01-30 11:28:26.000000</td><td class=\"tdhistory562285\">active</td><td class=\"tdhistory562285\">2711</td><td class=\"tdhistory562285\">Barton Springs @ Kinney Ave</td><td class=\"tdhistory562285\">2016-01-30 12:48:26.000000</td><td class=\"tdhistory562285\">active</td><td class=\"tdhistory562285\">80</td><td class=\"tdhistory562285\">GEOSEQUENCE((-97.76118 30.262,-97.76118 30.262),(2016-01-30 11:28:26.000000,2016-01-30 12:48:26.000000),(1,2),(0))</td></tr><tr><th class=\"tdhistory562285\" style= \"background: rgba(243, 243, 243, 0.75)\">2</th><td class=\"tdhistory562285\">354</td><td class=\"tdhistory562285\">9900246392</td><td class=\"tdhistory562285\">24-Hour Kiosk (Austin B-cycle)</td><td class=\"tdhistory562285\">2497</td><td class=\"tdhistory562285\">Capitol Station / Congress & 11th</td><td class=\"tdhistory562285\">2014-09-21 13:12:00.000000</td><td class=\"tdhistory562285\">active</td><td class=\"tdhistory562285\">2547</td><td class=\"tdhistory562285\">Guadalupe & 21st</td><td class=\"tdhistory562285\">2014-09-21 13:34:00.000000</td><td class=\"tdhistory562285\">moved</td><td class=\"tdhistory562285\">22</td><td class=\"tdhistory562285\">GEOSEQUENCE((-97.74127 30.2726,-97.74198 30.28395),(2014-09-21 13:12:00.000000,2014-09-21 13:34:00.000000),(1,2),(0))</td></tr><tr><th class=\"tdhistory562285\" style= \"background: rgba(243, 243, 243, 0.75)\">3</th><td class=\"tdhistory562285\">998</td><td class=\"tdhistory562285\">14232060</td><td class=\"tdhistory562285\">Walk Up</td><td class=\"tdhistory562285\">2498</td><td class=\"tdhistory562285\">Convention Center / 4th St. @ MetroRail</td><td class=\"tdhistory562285\">2017-03-29 09:52:42.000000</td><td class=\"tdhistory562285\">active</td><td class=\"tdhistory562285\">2547</td><td class=\"tdhistory562285\">Guadalupe & 21st</td><td class=\"tdhistory562285\">2017-03-29 10:20:42.000000</td><td class=\"tdhistory562285\">moved</td><td class=\"tdhistory562285\">28</td><td class=\"tdhistory562285\">GEOSEQUENCE((-97.739 30.26483,-97.74198 30.28395),(2017-03-29 09:52:42.000000,2017-03-29 10:20:42.000000),(1,2),(0))</td></tr><tr><th class=\"tdhistory562285\" style= \"background: rgba(243, 243, 243, 0.75)\">4</th><td class=\"tdhistory562285\">815</td><td class=\"tdhistory562285\">9900273840</td><td class=\"tdhistory562285\">Annual Membership (Austin B-cycle)</td><td class=\"tdhistory562285\">2499</td><td class=\"tdhistory562285\">City Hall / Lavaca & 2nd</td><td class=\"tdhistory562285\">2014-10-10 11:12:00.000000</td><td class=\"tdhistory562285\">active</td><td class=\"tdhistory562285\"></td><td class=\"tdhistory562285\">Zilker Park at Barton Springs & William Barton Drive</td><td class=\"tdhistory562285\">2014-10-10 11:31:00.000000</td><td class=\"tdhistory562285\"></td><td class=\"tdhistory562285\">19</td><td class=\"tdhistory562285\">GEOSEQUENCE((-97.74678 30.26476,-98.272797 30.578245),(2014-10-10 11:12:00.000000,2014-10-10 11:31:00.000000),(1,2),(0))</td></tr><tr><th class=\"tdhistory562285\" style= \"background: rgba(243, 243, 243, 0.75)\">5</th><td class=\"tdhistory562285\">254</td><td class=\"tdhistory562285\">9900120309</td><td class=\"tdhistory562285\">Walk Up</td><td class=\"tdhistory562285\">2567</td><td class=\"tdhistory562285\">Palmer Auditorium</td><td class=\"tdhistory562285\">2015-04-24 09:12:00.000000</td><td class=\"tdhistory562285\">active</td><td class=\"tdhistory562285\"></td><td class=\"tdhistory562285\">Zilker Park at Barton Springs & William Barton Drive</td><td class=\"tdhistory562285\">2015-04-24 09:30:00.000000</td><td class=\"tdhistory562285\"></td><td class=\"tdhistory562285\">18</td><td class=\"tdhistory562285\">GEOSEQUENCE((-97.75346 30.25971,-98.272797 30.578245),(2015-04-24 09:12:00.000000,2015-04-24 09:30:00.000000),(1,2),(0))</td></tr><tr><th class=\"tdhistory562285\" style= \"background: rgba(243, 243, 243, 0.75)\">6</th><td class=\"tdhistory562285\">391</td><td class=\"tdhistory562285\">13782233</td><td class=\"tdhistory562285\">Local30</td><td class=\"tdhistory562285\">2711</td><td class=\"tdhistory562285\">Barton Springs @ Kinney Ave</td><td class=\"tdhistory562285\">2017-02-19 09:33:10.000000</td><td class=\"tdhistory562285\">active</td><td class=\"tdhistory562285\">3464</td><td class=\"tdhistory562285\">Pease Park</td><td class=\"tdhistory562285\">2017-02-19 09:54:10.000000</td><td class=\"tdhistory562285\">active</td><td class=\"tdhistory562285\">21</td><td class=\"tdhistory562285\">GEOSEQUENCE((-97.76118 30.262,-97.75219 30.28118),(2017-02-19 09:33:10.000000,2017-02-19 09:54:10.000000),(1,2),(0))</td></tr><tr><th class=\"tdhistory562285\" style= \"background: rgba(243, 243, 243, 0.75)\">7</th><td class=\"tdhistory562285\">745</td><td class=\"tdhistory562285\">11866386</td><td class=\"tdhistory562285\">Walk Up</td><td class=\"tdhistory562285\">3464</td><td class=\"tdhistory562285\">Pease Park</td><td class=\"tdhistory562285\">2016-09-11 04:48:56.000000</td><td class=\"tdhistory562285\">active</td><td class=\"tdhistory562285\">3464</td><td class=\"tdhistory562285\">Pease Park</td><td class=\"tdhistory562285\">2016-09-11 04:49:56.000000</td><td class=\"tdhistory562285\">active</td><td class=\"tdhistory562285\">1</td><td class=\"tdhistory562285\">GEOSEQUENCE((-97.75219 30.28118,-97.75219 30.28118),(2016-09-11 04:48:56.000000,2016-09-11 04:49:56.000000),(1,2),(0))</td></tr><tr><th class=\"tdhistory562285\" style= \"background: rgba(243, 243, 243, 0.75)\">8</th><td class=\"tdhistory562285\">29</td><td class=\"tdhistory562285\">13435769</td><td class=\"tdhistory562285\">Explorer</td><td class=\"tdhistory562285\">2539</td><td class=\"tdhistory562285\">Convention Center / 3rd & Trinity</td><td class=\"tdhistory562285\">2017-01-14 06:32:35.000000</td><td class=\"tdhistory562285\">active</td><td class=\"tdhistory562285\">3464</td><td class=\"tdhistory562285\">Pease Park</td><td class=\"tdhistory562285\">2017-01-14 06:53:35.000000</td><td class=\"tdhistory562285\">active</td><td class=\"tdhistory562285\">21</td><td class=\"tdhistory562285\">GEOSEQUENCE((-97.74023 30.26426,-97.75219 30.28118),(2017-01-14 06:32:35.000000,2017-01-14 06:53:35.000000),(1,2),(0))</td></tr><tr><th class=\"tdhistory562285\" style= \"background: rgba(243, 243, 243, 0.75)\">9</th><td class=\"tdhistory562285\">523</td><td class=\"tdhistory562285\">9900234667</td><td class=\"tdhistory562285\">Walk Up</td><td class=\"tdhistory562285\">2707</td><td class=\"tdhistory562285\">Rainey St @ Cummings</td><td class=\"tdhistory562285\">2015-08-22 10:12:00.000000</td><td class=\"tdhistory562285\">active</td><td class=\"tdhistory562285\"></td><td class=\"tdhistory562285\">Zilker Park at Barton Springs & William Barton Drive</td><td class=\"tdhistory562285\">2015-08-22 10:43:00.000000</td><td class=\"tdhistory562285\"></td><td class=\"tdhistory562285\">31</td><td class=\"tdhistory562285\">GEOSEQUENCE((-97.73982 30.25579,-98.272797 30.578245),(2015-08-22 10:12:00.000000,2015-08-22 10:43:00.000000),(1,2),(0))</td></tr><tr><th class=\"tdhistory562285\" style= \"background: rgba(243, 243, 243, 0.75)\">10</th><td class=\"tdhistory562285\">75</td><td class=\"tdhistory562285\">13501418</td><td class=\"tdhistory562285\">Walk Up</td><td class=\"tdhistory562285\">2563</td><td class=\"tdhistory562285\">Davis at Rainey Street</td><td class=\"tdhistory562285\">2017-01-21 06:59:25.000000</td><td class=\"tdhistory562285\">active</td><td class=\"tdhistory562285\">2547</td><td class=\"tdhistory562285\">Guadalupe & 21st</td><td class=\"tdhistory562285\">2017-01-21 08:10:25.000000</td><td class=\"tdhistory562285\">moved</td><td class=\"tdhistory562285\">71</td><td class=\"tdhistory562285\">GEOSEQUENCE((-97.73845 30.26019,-97.74198 30.28395),(2017-01-21 06:59:25.000000,2017-01-21 08:10:25.000000),(1,2),(0))</td></tr></tbody></table></div>"
      ]
     },
     "execution_count": 43,
     "metadata": {
      "application/vnd.teradata.resultset": "{\"resultSetID\":\"/home/jovyan/JupyterLabRoot/Teradata/Resultsets/2022.09.05_16.18.58.683_UTC\",\"historyID\":182,\"chunkID\":\"00001\",\"sessionid\":\"\",\"portnum\":\"\",\"dockermode\":\"docker\",\"totalRowCount\":10,\"chunkCount\":0,\"rowLimit\":0,\"columnMetadata\":[{\"columnName\":\"bikeid\",\"columnTypeName\":\"INTEGER\"},{\"columnNumber\":1,\"columnName\":\"trip_id\",\"columnTypeName\":\"BIGINT\"},{\"columnNumber\":2,\"columnName\":\"subscriber_type\",\"columnTypeName\":\"VARCHAR\",\"length\":50,\"scale\":50},{\"columnNumber\":3,\"columnName\":\"start_station_id\",\"columnTypeName\":\"INTEGER\"},{\"columnNumber\":4,\"columnName\":\"start_station_name\",\"columnTypeName\":\"VARCHAR\",\"length\":100,\"scale\":100},{\"columnNumber\":5,\"columnName\":\"start_time\",\"columnTypeName\":\"TIMESTAMP\",\"length\":6,\"scale\":6},{\"columnNumber\":6,\"columnName\":\"starting_station_status\",\"columnTypeName\":\"VARCHAR\",\"length\":50,\"scale\":50},{\"columnNumber\":7,\"columnName\":\"end_station_id\",\"columnTypeName\":\"INTEGER\"},{\"columnNumber\":8,\"columnName\":\"end_station_name\",\"columnTypeName\":\"VARCHAR\",\"length\":100,\"scale\":100},{\"columnNumber\":9,\"columnName\":\"end_time\",\"columnTypeName\":\"TIMESTAMP\",\"length\":6,\"scale\":6},{\"columnNumber\":10,\"columnName\":\"End_station_status\",\"columnTypeName\":\"VARCHAR\",\"length\":50,\"scale\":50},{\"columnNumber\":11,\"columnName\":\"duration_minutes\",\"columnTypeName\":\"INTEGER\"},{\"columnNumber\":12,\"columnName\":\"GEOM\",\"columnTypeName\":\"CLOB\",\"length\":2097088000,\"scale\":2097088000}]}"
     },
     "output_type": "execute_result"
    }
   ],
   "source": [
    "SELECT TOP 10 * FROM trips_geo"
   ]
  },
  {
   "cell_type": "markdown",
   "metadata": {},
   "source": [
    "<p style = 'font-size:18px;font-family:Arial;color:#E37C4D'><b>4.3 Create a Time Index table of the trips to accelerate time related analysis</b></p>\n",
    "<p style = 'font-size:16px;font-family:Arial'>Vantage supports tables with a Primary Time Index (PTI) which is used to store and quickly lookup data that arrives based on time. This time-aware index both distributes data across the units of parallelism but allows the optimizer to build plans which go directly to the unit of parallelism where the data is stored based on the time constraint.<br>\n",
    "In this case, we will declare the index to have hourly granularity with a baseline time earlier that any date of data we have. The database automatically creates the first column with the name TD_TIMECODE based on the primary index declaration. When we insert data, we will use the start_time column as that value </p>"
   ]
  },
  {
   "cell_type": "code",
   "execution_count": 44,
   "metadata": {},
   "outputs": [
    {
     "data": {
      "text/plain": [
       "Success: 0 rows affected"
      ]
     },
     "execution_count": 44,
     "metadata": {
      "application/vnd.teradata.resultset": ""
     },
     "output_type": "execute_result"
    }
   ],
   "source": [
    "CREATE TABLE trips_geo_pti (\n",
    "    bikeid                    INTEGER,\n",
    "    trip_id                   BIGINT,\n",
    "    subscriber_type           VARCHAR(50),\n",
    "    start_station_id          INTEGER,\n",
    "    start_station_name        VARCHAR(100),\n",
    "    starting_station_status   VARCHAR(50),\n",
    "    end_station_id            INTEGER,\n",
    "    end_station_name          VARCHAR(100),\n",
    "    end_time                  TIMESTAMP(6),\n",
    "    end_station_status        VARCHAR(50),\n",
    "    duration_minutes          INTEGER,\n",
    "    geom                      SYSUDTLIB.ST_GEOMETRY(16776192) INLINE LENGTH 9920\n",
    ")\n",
    "PRIMARY TIME INDEX (TIMESTAMP(6), DATE '2013-12-20', MINUTES(60));"
   ]
  },
  {
   "cell_type": "markdown",
   "metadata": {
    "tags": []
   },
   "source": [
    "<p style = 'font-size:16px;font-family:Arial'>We now populate the local table.  If you are getting data from the cloud storage, this could take a minute.   </p>"
   ]
  },
  {
   "cell_type": "code",
   "execution_count": 45,
   "metadata": {},
   "outputs": [
    {
     "data": {
      "text/plain": [
       "Success: 649231 rows affected"
      ]
     },
     "execution_count": 45,
     "metadata": {
      "application/vnd.teradata.resultset": ""
     },
     "output_type": "execute_result"
    }
   ],
   "source": [
    "INSERT INTO trips_geo_pti\n",
    "SELECT\n",
    "    start_time,\n",
    "    bikeid,\n",
    "    trip_id,\n",
    "    subscriber_type,\n",
    "    start_station_id,\n",
    "    start_station_name,\n",
    "    starting_station_status,\n",
    "    end_station_id,\n",
    "    end_station_name,\n",
    "    end_time,\n",
    "    End_station_status,\n",
    "    duration_minutes,\n",
    "    geom\n",
    "FROM\n",
    "    trips_geo;"
   ]
  },
  {
   "cell_type": "code",
   "execution_count": 46,
   "metadata": {},
   "outputs": [
    {
     "data": {
      "application/vnd.teradata.resultset": "\"TD_TIMECODE\",\"bikeid\",\"trip_id\",\"subscriber_type\",\"start_station_id\",\"start_station_name\",\"starting_station_status\",\"end_station_id\",\"end_station_name\",\"end_time\",\"end_station_status\",\"duration_minutes\",\"geom\"\n\"2013-12-21 16:12:00.000000\",\"281\",\"9900334071\",\"24-Hour Kiosk (Austin B-cycle)\",\"2495\",\"4th & Congress\",\"active\",\"2503\",\"South Congress & James\",\"2013-12-21 17:14:00.000000\",\"active\",\"62\",\"GEOSEQUENCE((-97.74378 30.26634,-97.74926 30.25103),(2013-12-21 16:12:00.000000,2013-12-21 17:14:00.000000),(1,2),(0))\"\n\"2013-12-21 16:12:00.000000\",\"559\",\"9900334073\",\"Founding Member (Austin B-cycle)\",\"2500\",\"Republic Square\",\"moved\",\"2500\",\"Republic Square\",\"2013-12-21 16:17:00.000000\",\"moved\",\"5\",\"GEOSEQUENCE((-97.74802 30.26751,-97.74802 30.26751),(2013-12-21 16:12:00.000000,2013-12-21 16:17:00.000000),(1,2),(0))\"\n\"2013-12-21 17:12:00.000000\",\"102\",\"9900334078\",\"24-Hour Kiosk (Austin B-cycle)\",\"2500\",\"Republic Square\",\"moved\",\"2498\",\"Convention Center / 4th St. @ MetroRail\",\"2013-12-21 17:18:00.000000\",\"active\",\"6\",\"GEOSEQUENCE((-97.74802 30.26751,-97.739 30.26483),(2013-12-21 17:12:00.000000,2013-12-21 17:18:00.000000),(1,2),(0))\"\n\"2013-12-21 17:12:00.000000\",\"975\",\"9900334077\",\"24-Hour Kiosk (Austin B-cycle)\",\"2500\",\"Republic Square\",\"moved\",\"2498\",\"Convention Center / 4th St. @ MetroRail\",\"2013-12-21 17:19:00.000000\",\"active\",\"7\",\"GEOSEQUENCE((-97.74802 30.26751,-97.739 30.26483),(2013-12-21 17:12:00.000000,2013-12-21 17:19:00.000000),(1,2),(0))\"\n\"2013-12-21 17:12:00.000000\",\"287\",\"9900334079\",\"24-Hour Kiosk (Austin B-cycle)\",\"2500\",\"Republic Square\",\"moved\",\"2498\",\"Convention Center / 4th St. @ MetroRail\",\"2013-12-21 17:18:00.000000\",\"active\",\"6\",\"GEOSEQUENCE((-97.74802 30.26751,-97.739 30.26483),(2013-12-21 17:12:00.000000,2013-12-21 17:18:00.000000),(1,2),(0))\"\n\"2013-12-21 17:12:00.000000\",\"647\",\"9900334075\",\"24-Hour Kiosk (Austin B-cycle)\",\"2499\",\"City Hall / Lavaca & 2nd\",\"active\",\"2499\",\"City Hall / Lavaca & 2nd\",\"2013-12-21 17:32:00.000000\",\"active\",\"20\",\"GEOSEQUENCE((-97.74678 30.26476,-97.74678 30.26476),(2013-12-21 17:12:00.000000,2013-12-21 17:32:00.000000),(1,2),(0))\"\n\"2013-12-21 17:12:00.000000\",\"661\",\"9900334080\",\"24-Hour Kiosk (Austin B-cycle)\",\"2497\",\"Capitol Station / Congress & 11th\",\"active\",\"2498\",\"Convention Center / 4th St. @ MetroRail\",\"2013-12-21 17:31:00.000000\",\"active\",\"19\",\"GEOSEQUENCE((-97.74127 30.2726,-97.739 30.26483),(2013-12-21 17:12:00.000000,2013-12-21 17:31:00.000000),(1,2),(0))\"\n\"2013-12-21 16:12:00.000000\",\"80\",\"9900334072\",\"24-Hour Kiosk (Austin B-cycle)\",\"2495\",\"4th & Congress\",\"active\",\"2503\",\"South Congress & James\",\"2013-12-21 18:34:00.000000\",\"active\",\"142\",\"GEOSEQUENCE((-97.74378 30.26634,-97.74926 30.25103),(2013-12-21 16:12:00.000000,2013-12-21 18:34:00.000000),(1,2),(0))\"\n\"2013-12-21 15:12:00.000000\",\"823\",\"9900334070\",\"Founding Member (Austin B-cycle)\",\"2499\",\"City Hall / Lavaca & 2nd\",\"active\",\"2499\",\"City Hall / Lavaca & 2nd\",\"2013-12-21 15:15:00.000000\",\"active\",\"3\",\"GEOSEQUENCE((-97.74678 30.26476,-97.74678 30.26476),(2013-12-21 15:12:00.000000,2013-12-21 15:15:00.000000),(1,2),(0))\"\n\"2013-12-21 15:12:00.000000\",\"116\",\"9900334069\",\"24-Hour Kiosk (Austin B-cycle)\",\"2495\",\"4th & Congress\",\"active\",\"2502\",\"Barton Springs & Riverside\",\"2013-12-21 15:24:00.000000\",\"active\",\"12\",\"GEOSEQUENCE((-97.74378 30.26634,-97.74872 30.2587),(2013-12-21 15:12:00.000000,2013-12-21 15:24:00.000000),(1,2),(0))\"",
      "text/html": [
       "<div class = \"td-resultset-table-div\" style = \"max-height: 100%; overflow-y: auto\">\n",
       "      <table class=\"tdhistory430278\"><style>\n",
       "      table.tdhistory430278 { display: block !important; min-height: 294px !important; overflow: auto !important; height: 294px !important; width: 100% !important; border: 1px solid rgb(207, 207, 207) !important; border-collapse: collapse !important; ; color: var(--jp-ui-font-color1) !important; }\n",
       "      th.tdhistory430278 { border: 1px solid rgb(198,198,198) !important; border-collapse: collapse !important; ; padding: 2px 5px !important; ; font-size: 13px !important; ; text-align: center !important; white-space: normal !important; color: var(--jp-ui-font-color1) !important; }\n",
       "      th.tdhistory430278:last-child { text-align: left !important; }\n",
       "      tbody.tdhistory430278 tr:nth-child(even) { background: rgba(243, 243, 243, 0.75) !important; }\n",
       "      tbody.tdhistory430278 tr:nth-child(odd) { background: var(--jp-ui-inverse-font-color1) !important; }\n",
       "      td.tdhistory430278 { border: 1px solid rgb(207, 207, 207) !important; border-collapse: collapse !important; ; padding: 2px 5px !important; ; font-size: 13px !important; ; text-align: left !important;          white-space: nowrap !important; overflow:hidden !important; text-overflow:ellipsis !important;; }\n",
       "    </style><thead><tr style= \"background: rgba(243, 243, 243, 0.75)\"><th class=\"tdhistory430278\"></th><th class=\"tdhistory430278\">TD_TIMECODE</th><th class=\"tdhistory430278\">bikeid</th><th class=\"tdhistory430278\">trip_id</th><th class=\"tdhistory430278\">subscriber_type</th><th class=\"tdhistory430278\">start_station_id</th><th class=\"tdhistory430278\">start_station_name</th><th class=\"tdhistory430278\">starting_station_status</th><th class=\"tdhistory430278\">end_station_id</th><th class=\"tdhistory430278\">end_station_name</th><th class=\"tdhistory430278\">end_time</th><th class=\"tdhistory430278\">end_station_status</th><th class=\"tdhistory430278\">duration_minutes</th><th class=\"tdhistory430278\">geom</th></tr></thead><tbody class=\"tdhistory430278 resultset-body\"><tr><th class=\"tdhistory430278\" style= \"background: rgba(243, 243, 243, 0.75)\">1</th><td class=\"tdhistory430278\">2013-12-21 16:12:00.000000</td><td class=\"tdhistory430278\">281</td><td class=\"tdhistory430278\">9900334071</td><td class=\"tdhistory430278\">24-Hour Kiosk (Austin B-cycle)</td><td class=\"tdhistory430278\">2495</td><td class=\"tdhistory430278\">4th & Congress</td><td class=\"tdhistory430278\">active</td><td class=\"tdhistory430278\">2503</td><td class=\"tdhistory430278\">South Congress & James</td><td class=\"tdhistory430278\">2013-12-21 17:14:00.000000</td><td class=\"tdhistory430278\">active</td><td class=\"tdhistory430278\">62</td><td class=\"tdhistory430278\">GEOSEQUENCE((-97.74378 30.26634,-97.74926 30.25103),(2013-12-21 16:12:00.000000,2013-12-21 17:14:00.000000),(1,2),(0))</td></tr><tr><th class=\"tdhistory430278\" style= \"background: rgba(243, 243, 243, 0.75)\">2</th><td class=\"tdhistory430278\">2013-12-21 16:12:00.000000</td><td class=\"tdhistory430278\">559</td><td class=\"tdhistory430278\">9900334073</td><td class=\"tdhistory430278\">Founding Member (Austin B-cycle)</td><td class=\"tdhistory430278\">2500</td><td class=\"tdhistory430278\">Republic Square</td><td class=\"tdhistory430278\">moved</td><td class=\"tdhistory430278\">2500</td><td class=\"tdhistory430278\">Republic Square</td><td class=\"tdhistory430278\">2013-12-21 16:17:00.000000</td><td class=\"tdhistory430278\">moved</td><td class=\"tdhistory430278\">5</td><td class=\"tdhistory430278\">GEOSEQUENCE((-97.74802 30.26751,-97.74802 30.26751),(2013-12-21 16:12:00.000000,2013-12-21 16:17:00.000000),(1,2),(0))</td></tr><tr><th class=\"tdhistory430278\" style= \"background: rgba(243, 243, 243, 0.75)\">3</th><td class=\"tdhistory430278\">2013-12-21 17:12:00.000000</td><td class=\"tdhistory430278\">102</td><td class=\"tdhistory430278\">9900334078</td><td class=\"tdhistory430278\">24-Hour Kiosk (Austin B-cycle)</td><td class=\"tdhistory430278\">2500</td><td class=\"tdhistory430278\">Republic Square</td><td class=\"tdhistory430278\">moved</td><td class=\"tdhistory430278\">2498</td><td class=\"tdhistory430278\">Convention Center / 4th St. @ MetroRail</td><td class=\"tdhistory430278\">2013-12-21 17:18:00.000000</td><td class=\"tdhistory430278\">active</td><td class=\"tdhistory430278\">6</td><td class=\"tdhistory430278\">GEOSEQUENCE((-97.74802 30.26751,-97.739 30.26483),(2013-12-21 17:12:00.000000,2013-12-21 17:18:00.000000),(1,2),(0))</td></tr><tr><th class=\"tdhistory430278\" style= \"background: rgba(243, 243, 243, 0.75)\">4</th><td class=\"tdhistory430278\">2013-12-21 17:12:00.000000</td><td class=\"tdhistory430278\">975</td><td class=\"tdhistory430278\">9900334077</td><td class=\"tdhistory430278\">24-Hour Kiosk (Austin B-cycle)</td><td class=\"tdhistory430278\">2500</td><td class=\"tdhistory430278\">Republic Square</td><td class=\"tdhistory430278\">moved</td><td class=\"tdhistory430278\">2498</td><td class=\"tdhistory430278\">Convention Center / 4th St. @ MetroRail</td><td class=\"tdhistory430278\">2013-12-21 17:19:00.000000</td><td class=\"tdhistory430278\">active</td><td class=\"tdhistory430278\">7</td><td class=\"tdhistory430278\">GEOSEQUENCE((-97.74802 30.26751,-97.739 30.26483),(2013-12-21 17:12:00.000000,2013-12-21 17:19:00.000000),(1,2),(0))</td></tr><tr><th class=\"tdhistory430278\" style= \"background: rgba(243, 243, 243, 0.75)\">5</th><td class=\"tdhistory430278\">2013-12-21 17:12:00.000000</td><td class=\"tdhistory430278\">287</td><td class=\"tdhistory430278\">9900334079</td><td class=\"tdhistory430278\">24-Hour Kiosk (Austin B-cycle)</td><td class=\"tdhistory430278\">2500</td><td class=\"tdhistory430278\">Republic Square</td><td class=\"tdhistory430278\">moved</td><td class=\"tdhistory430278\">2498</td><td class=\"tdhistory430278\">Convention Center / 4th St. @ MetroRail</td><td class=\"tdhistory430278\">2013-12-21 17:18:00.000000</td><td class=\"tdhistory430278\">active</td><td class=\"tdhistory430278\">6</td><td class=\"tdhistory430278\">GEOSEQUENCE((-97.74802 30.26751,-97.739 30.26483),(2013-12-21 17:12:00.000000,2013-12-21 17:18:00.000000),(1,2),(0))</td></tr><tr><th class=\"tdhistory430278\" style= \"background: rgba(243, 243, 243, 0.75)\">6</th><td class=\"tdhistory430278\">2013-12-21 17:12:00.000000</td><td class=\"tdhistory430278\">647</td><td class=\"tdhistory430278\">9900334075</td><td class=\"tdhistory430278\">24-Hour Kiosk (Austin B-cycle)</td><td class=\"tdhistory430278\">2499</td><td class=\"tdhistory430278\">City Hall / Lavaca & 2nd</td><td class=\"tdhistory430278\">active</td><td class=\"tdhistory430278\">2499</td><td class=\"tdhistory430278\">City Hall / Lavaca & 2nd</td><td class=\"tdhistory430278\">2013-12-21 17:32:00.000000</td><td class=\"tdhistory430278\">active</td><td class=\"tdhistory430278\">20</td><td class=\"tdhistory430278\">GEOSEQUENCE((-97.74678 30.26476,-97.74678 30.26476),(2013-12-21 17:12:00.000000,2013-12-21 17:32:00.000000),(1,2),(0))</td></tr><tr><th class=\"tdhistory430278\" style= \"background: rgba(243, 243, 243, 0.75)\">7</th><td class=\"tdhistory430278\">2013-12-21 17:12:00.000000</td><td class=\"tdhistory430278\">661</td><td class=\"tdhistory430278\">9900334080</td><td class=\"tdhistory430278\">24-Hour Kiosk (Austin B-cycle)</td><td class=\"tdhistory430278\">2497</td><td class=\"tdhistory430278\">Capitol Station / Congress & 11th</td><td class=\"tdhistory430278\">active</td><td class=\"tdhistory430278\">2498</td><td class=\"tdhistory430278\">Convention Center / 4th St. @ MetroRail</td><td class=\"tdhistory430278\">2013-12-21 17:31:00.000000</td><td class=\"tdhistory430278\">active</td><td class=\"tdhistory430278\">19</td><td class=\"tdhistory430278\">GEOSEQUENCE((-97.74127 30.2726,-97.739 30.26483),(2013-12-21 17:12:00.000000,2013-12-21 17:31:00.000000),(1,2),(0))</td></tr><tr><th class=\"tdhistory430278\" style= \"background: rgba(243, 243, 243, 0.75)\">8</th><td class=\"tdhistory430278\">2013-12-21 16:12:00.000000</td><td class=\"tdhistory430278\">80</td><td class=\"tdhistory430278\">9900334072</td><td class=\"tdhistory430278\">24-Hour Kiosk (Austin B-cycle)</td><td class=\"tdhistory430278\">2495</td><td class=\"tdhistory430278\">4th & Congress</td><td class=\"tdhistory430278\">active</td><td class=\"tdhistory430278\">2503</td><td class=\"tdhistory430278\">South Congress & James</td><td class=\"tdhistory430278\">2013-12-21 18:34:00.000000</td><td class=\"tdhistory430278\">active</td><td class=\"tdhistory430278\">142</td><td class=\"tdhistory430278\">GEOSEQUENCE((-97.74378 30.26634,-97.74926 30.25103),(2013-12-21 16:12:00.000000,2013-12-21 18:34:00.000000),(1,2),(0))</td></tr><tr><th class=\"tdhistory430278\" style= \"background: rgba(243, 243, 243, 0.75)\">9</th><td class=\"tdhistory430278\">2013-12-21 15:12:00.000000</td><td class=\"tdhistory430278\">823</td><td class=\"tdhistory430278\">9900334070</td><td class=\"tdhistory430278\">Founding Member (Austin B-cycle)</td><td class=\"tdhistory430278\">2499</td><td class=\"tdhistory430278\">City Hall / Lavaca & 2nd</td><td class=\"tdhistory430278\">active</td><td class=\"tdhistory430278\">2499</td><td class=\"tdhistory430278\">City Hall / Lavaca & 2nd</td><td class=\"tdhistory430278\">2013-12-21 15:15:00.000000</td><td class=\"tdhistory430278\">active</td><td class=\"tdhistory430278\">3</td><td class=\"tdhistory430278\">GEOSEQUENCE((-97.74678 30.26476,-97.74678 30.26476),(2013-12-21 15:12:00.000000,2013-12-21 15:15:00.000000),(1,2),(0))</td></tr><tr><th class=\"tdhistory430278\" style= \"background: rgba(243, 243, 243, 0.75)\">10</th><td class=\"tdhistory430278\">2013-12-21 15:12:00.000000</td><td class=\"tdhistory430278\">116</td><td class=\"tdhistory430278\">9900334069</td><td class=\"tdhistory430278\">24-Hour Kiosk (Austin B-cycle)</td><td class=\"tdhistory430278\">2495</td><td class=\"tdhistory430278\">4th & Congress</td><td class=\"tdhistory430278\">active</td><td class=\"tdhistory430278\">2502</td><td class=\"tdhistory430278\">Barton Springs & Riverside</td><td class=\"tdhistory430278\">2013-12-21 15:24:00.000000</td><td class=\"tdhistory430278\">active</td><td class=\"tdhistory430278\">12</td><td class=\"tdhistory430278\">GEOSEQUENCE((-97.74378 30.26634,-97.74872 30.2587),(2013-12-21 15:12:00.000000,2013-12-21 15:24:00.000000),(1,2),(0))</td></tr></tbody></table></div>"
      ]
     },
     "execution_count": 46,
     "metadata": {
      "application/vnd.teradata.resultset": "{\"resultSetID\":\"/home/jovyan/JupyterLabRoot/Teradata/Resultsets/2022.09.05_16.34.40.276_UTC\",\"historyID\":185,\"chunkID\":\"00001\",\"sessionid\":\"\",\"portnum\":\"\",\"dockermode\":\"docker\",\"totalRowCount\":10,\"chunkCount\":0,\"rowLimit\":0,\"columnMetadata\":[{\"columnName\":\"TD_TIMECODE\",\"columnTypeName\":\"TIMESTAMP\",\"length\":6,\"scale\":6},{\"columnNumber\":1,\"columnName\":\"bikeid\",\"columnTypeName\":\"INTEGER\"},{\"columnNumber\":2,\"columnName\":\"trip_id\",\"columnTypeName\":\"BIGINT\"},{\"columnNumber\":3,\"columnName\":\"subscriber_type\",\"columnTypeName\":\"VARCHAR\",\"length\":50,\"scale\":50},{\"columnNumber\":4,\"columnName\":\"start_station_id\",\"columnTypeName\":\"INTEGER\"},{\"columnNumber\":5,\"columnName\":\"start_station_name\",\"columnTypeName\":\"VARCHAR\",\"length\":100,\"scale\":100},{\"columnNumber\":6,\"columnName\":\"starting_station_status\",\"columnTypeName\":\"VARCHAR\",\"length\":50,\"scale\":50},{\"columnNumber\":7,\"columnName\":\"end_station_id\",\"columnTypeName\":\"INTEGER\"},{\"columnNumber\":8,\"columnName\":\"end_station_name\",\"columnTypeName\":\"VARCHAR\",\"length\":100,\"scale\":100},{\"columnNumber\":9,\"columnName\":\"end_time\",\"columnTypeName\":\"TIMESTAMP\",\"length\":6,\"scale\":6},{\"columnNumber\":10,\"columnName\":\"end_station_status\",\"columnTypeName\":\"VARCHAR\",\"length\":50,\"scale\":50},{\"columnNumber\":11,\"columnName\":\"duration_minutes\",\"columnTypeName\":\"INTEGER\"},{\"columnNumber\":12,\"columnName\":\"geom\",\"columnTypeName\":\"CLOB\",\"length\":2097088000,\"scale\":2097088000}]}"
     },
     "output_type": "execute_result"
    }
   ],
   "source": [
    "SELECT TOP 10 * FROM trips_geo_pti"
   ]
  },
  {
   "cell_type": "markdown",
   "metadata": {},
   "source": [
    "<p style = 'font-size:18px;font-family:Arial;color:#E37C4D'><b>4.4 Augment trips data with weather data and extract geospatial information</b></p> \n",
    "<p style = 'font-size:16px;font-family:Arial'>Finally, we bring the data together with the geosequenced trip information with the available weather data where the period of the weather report contains the start time (TD_TIMECODE) of the trip. </p>"
   ]
  },
  {
   "cell_type": "code",
   "execution_count": null,
   "metadata": {},
   "outputs": [],
   "source": [
    "-- CREATE TABLE trips_and_weather AS (\n",
    "    SELECT \n",
    "        t.start_station_name,\n",
    "        t.end_station_name,\n",
    "        t.bikeid,\n",
    "        t.trip_id,\n",
    "        t.geom.GetInitT() AS pickup_time,\n",
    "        t.geom.GetFinalT() AS dropoff_time,\n",
    "        t.geom.ST_POINTN(1).ST_SPHEROIDALDISTANCE(geom.ST_POINTN(2))/1000 AS total_distance,\n",
    "        t.geom.ST_POINTN(1).ST_X() AS pickup_location_lon,\n",
    "        t.geom.ST_POINTN(1).ST_Y() AS pickup_location_lat,\n",
    "        t.geom.ST_POINTN(2).ST_X() AS dropoff_location_lon,\n",
    "        t.geom.ST_POINTN(2).ST_Y() AS dropoff_location_lat,        \n",
    "        t.duration_minutes,\n",
    "        t.TD_TIMECODE as Trip_TIMECODE,\n",
    "        wt.*\n",
    "    FROM \n",
    "        trips_geo_pti AS t\n",
    "        LEFT JOIN Weather_temporal AS wt ON wt.weather_duration contains t.TD_TIMECODE\n",
    "        and pickup_time >= '2017-08-01 00:00:00'\n",
    "--)\n",
    "-- WITH DATA primary index(trip_id);"
   ]
  },
  {
   "cell_type": "code",
   "execution_count": 6,
   "metadata": {},
   "outputs": [
    {
     "data": {
      "application/vnd.teradata.resultset": "\"start_station_name\",\"end_station_name\",\"bikeid\",\"trip_id\",\"pickup_time\",\"dropoff_time\",\"total_distance\",\"pickup_location_lon\",\"pickup_location_lat\",\"dropoff_location_lon\",\"dropoff_location_lat\",\"duration_minutes\",\"Trip_TIMECODE\",\"TD_TIMECODE\",\"temp\",\"temp_min\",\"temp_max\",\"pressure\",\"humidity\",\"wind_speed\",\"wind_deg\",\"rain_1h\",\"rain_3h\",\"clouds\",\"weather_id\",\"weather_main\",\"weather_desc\",\"weather_icon\"\n\"2nd & Congress\",\"2nd & Congress\",\"411\",\"12536268\",\"2016-10-24 13:11:39.000000\",\"2016-10-24 14:30:39.000000\",\"0\",\"-97.74355\",\"30.26408\",\"-97.74355\",\"30.26408\",\"79\",\"2016-10-24 13:11:39.000000\",\"\",\"\",\"\",\"\",\"\",\"\",\"\",\"\",\"\",\"\",\"\",\"\",\"\",\"\",\"\"\n\"Davis at Rainey Street\",\"Red River & 8th Street\",\"334\",\"9168071\",\"2016-03-17 09:43:55.000000\",\"2016-03-17 09:55:55.000000\",\"0.945255807987909\",\"-97.73845\",\"30.26019\",\"-97.73646\",\"30.26854\",\"12\",\"2016-03-17 09:43:55.000000\",\"\",\"\",\"\",\"\",\"\",\"\",\"\",\"\",\"\",\"\",\"\",\"\",\"\",\"\",\"\"\n\"4th & Congress\",\"South Congress & Academy\",\"745\",\"11379821\",\"2016-08-11 13:02:48.000000\",\"2016-08-11 13:12:48.000000\",\"1.6266930577344831\",\"-97.74378\",\"30.26634\",\"-97.74854\",\"30.25226\",\"10\",\"2016-08-11 13:02:48.000000\",\"\",\"\",\"\",\"\",\"\",\"\",\"\",\"\",\"\",\"\",\"\",\"\",\"\",\"\",\"\"\n\"Red River & 8th Street\",\"Plaza Saltillo\",\"283\",\"12676850\",\"2016-11-03 20:45:08.000000\",\"2016-11-03 20:51:08.000000\",\"1.1196978769302126\",\"-97.73646\",\"30.26854\",\"-97.72743\",\"30.26217\",\"6\",\"2016-11-03 20:45:08.000000\",\"\",\"\",\"\",\"\",\"\",\"\",\"\",\"\",\"\",\"\",\"\",\"\",\"\",\"\",\"\"\n\"East 11th St. & San Marcos\",\"East 2nd & Pedernales\",\"272\",\"12496830\",\"2016-10-21 13:17:48.000000\",\"2016-10-21 13:36:48.000000\",\"2.0826546924073406\",\"-97.73074\",\"30.26968\",\"-97.71665\",\"30.25542\",\"19\",\"2016-10-21 13:17:48.000000\",\"\",\"\",\"\",\"\",\"\",\"\",\"\",\"\",\"\",\"\",\"\",\"\",\"\",\"\",\"\"\n\"Convention Center / 4th St. @ MetroRail\",\"8th & Congress\",\"200\",\"12322377\",\"2016-10-10 05:39:03.000000\",\"2016-10-10 05:44:03.000000\",\"0.6158696798253411\",\"-97.739\",\"30.26483\",\"-97.74186\",\"30.2698\",\"5\",\"2016-10-10 05:39:03.000000\",\"\",\"\",\"\",\"\",\"\",\"\",\"\",\"\",\"\",\"\",\"\",\"\",\"\",\"\",\"\"\n\"City Hall / Lavaca & 2nd\",\"Convention Center / 4th St. @ MetroRail\",\"461\",\"10892882\",\"2016-07-11 12:00:51.000000\",\"2016-07-11 12:05:51.000000\",\"0.7487025821937812\",\"-97.74678\",\"30.26476\",\"-97.739\",\"30.26483\",\"5\",\"2016-07-11 12:00:51.000000\",\"\",\"\",\"\",\"\",\"\",\"\",\"\",\"\",\"\",\"\",\"\",\"\",\"\",\"\",\"\"\n\"Plaza Saltillo\",\"East 6th at Robert Martinez\",\"37\",\"11160363\",\"2016-07-29 02:49:50.000000\",\"2016-07-29 03:12:50.000000\",\"0.8376952298600656\",\"-97.72743\",\"30.26217\",\"-97.71899\",\"30.26032\",\"23\",\"2016-07-29 02:49:50.000000\",\"\",\"\",\"\",\"\",\"\",\"\",\"\",\"\",\"\",\"\",\"\",\"\",\"\",\"\",\"\"\n\"Davis at Rainey Street\",\"City Hall / Lavaca & 2nd\",\"696\",\"9159486\",\"2016-03-16 18:01:40.000000\",\"2016-03-16 18:21:40.000000\",\"0.9482794034398802\",\"-97.73845\",\"30.26019\",\"-97.74678\",\"30.26476\",\"20\",\"2016-03-16 18:01:40.000000\",\"\",\"\",\"\",\"\",\"\",\"\",\"\",\"\",\"\",\"\",\"\",\"\",\"\",\"\",\"\"\n\"Zilker Park\",\"8th & Congress\",\"95\",\"11739861\",\"2016-09-03 12:42:04.000000\",\"2016-09-03 13:03:04.000000\",\"2.573102341746301\",\"-97.76822\",\"30.2659\",\"-97.74186\",\"30.2698\",\"21\",\"2016-09-03 12:42:04.000000\",\"\",\"\",\"\",\"\",\"\",\"\",\"\",\"\",\"\",\"\",\"\",\"\",\"\",\"\",\"\"",
      "text/html": [
       "<div class = \"td-resultset-table-div\" style = \"max-height: 100%; overflow-y: auto\">\n",
       "      <table class=\"tdhistory481226\"><style>\n",
       "      table.tdhistory481226 { display: block !important; min-height: 294px !important; overflow: auto !important; height: 294px !important; width: 100% !important; border: 1px solid rgb(207, 207, 207) !important; border-collapse: collapse !important; ; color: var(--jp-ui-font-color1) !important; }\n",
       "      th.tdhistory481226 { border: 1px solid rgb(198,198,198) !important; border-collapse: collapse !important; ; padding: 2px 5px !important; ; font-size: 13px !important; ; text-align: center !important; white-space: normal !important; color: var(--jp-ui-font-color1) !important; }\n",
       "      th.tdhistory481226:last-child { text-align: left !important; }\n",
       "      tbody.tdhistory481226 tr:nth-child(even) { background: rgba(243, 243, 243, 0.75) !important; }\n",
       "      tbody.tdhistory481226 tr:nth-child(odd) { background: var(--jp-ui-inverse-font-color1) !important; }\n",
       "      td.tdhistory481226 { border: 1px solid rgb(207, 207, 207) !important; border-collapse: collapse !important; ; padding: 2px 5px !important; ; font-size: 13px !important; ; text-align: left !important;          white-space: nowrap !important; overflow:hidden !important; text-overflow:ellipsis !important;; }\n",
       "    </style><thead><tr style= \"background: rgba(243, 243, 243, 0.75)\"><th class=\"tdhistory481226\"></th><th class=\"tdhistory481226\">start_station_name</th><th class=\"tdhistory481226\">end_station_name</th><th class=\"tdhistory481226\">bikeid</th><th class=\"tdhistory481226\">trip_id</th><th class=\"tdhistory481226\">pickup_time</th><th class=\"tdhistory481226\">dropoff_time</th><th class=\"tdhistory481226\">total_distance</th><th class=\"tdhistory481226\">pickup_location_lon</th><th class=\"tdhistory481226\">pickup_location_lat</th><th class=\"tdhistory481226\">dropoff_location_lon</th><th class=\"tdhistory481226\">dropoff_location_lat</th><th class=\"tdhistory481226\">duration_minutes</th><th class=\"tdhistory481226\">Trip_TIMECODE</th><th class=\"tdhistory481226\">TD_TIMECODE</th><th class=\"tdhistory481226\">temp</th><th class=\"tdhistory481226\">temp_min</th><th class=\"tdhistory481226\">temp_max</th><th class=\"tdhistory481226\">pressure</th><th class=\"tdhistory481226\">humidity</th><th class=\"tdhistory481226\">wind_speed</th><th class=\"tdhistory481226\">wind_deg</th><th class=\"tdhistory481226\">rain_1h</th><th class=\"tdhistory481226\">rain_3h</th><th class=\"tdhistory481226\">clouds</th><th class=\"tdhistory481226\">weather_id</th><th class=\"tdhistory481226\">weather_main</th><th class=\"tdhistory481226\">weather_desc</th><th class=\"tdhistory481226\">weather_icon</th></tr></thead><tbody class=\"tdhistory481226 resultset-body\"><tr><th class=\"tdhistory481226\" style= \"background: rgba(243, 243, 243, 0.75)\">1</th><td class=\"tdhistory481226\">2nd & Congress</td><td class=\"tdhistory481226\">2nd & Congress</td><td class=\"tdhistory481226\">411</td><td class=\"tdhistory481226\">12536268</td><td class=\"tdhistory481226\">2016-10-24 13:11:39.000000</td><td class=\"tdhistory481226\">2016-10-24 14:30:39.000000</td><td class=\"tdhistory481226\">0</td><td class=\"tdhistory481226\">-97.74355</td><td class=\"tdhistory481226\">30.26408</td><td class=\"tdhistory481226\">-97.74355</td><td class=\"tdhistory481226\">30.26408</td><td class=\"tdhistory481226\">79</td><td class=\"tdhistory481226\">2016-10-24 13:11:39.000000</td><td class=\"tdhistory481226\"></td><td class=\"tdhistory481226\"></td><td class=\"tdhistory481226\"></td><td class=\"tdhistory481226\"></td><td class=\"tdhistory481226\"></td><td class=\"tdhistory481226\"></td><td class=\"tdhistory481226\"></td><td class=\"tdhistory481226\"></td><td class=\"tdhistory481226\"></td><td class=\"tdhistory481226\"></td><td class=\"tdhistory481226\"></td><td class=\"tdhistory481226\"></td><td class=\"tdhistory481226\"></td><td class=\"tdhistory481226\"></td><td class=\"tdhistory481226\"></td></tr><tr><th class=\"tdhistory481226\" style= \"background: rgba(243, 243, 243, 0.75)\">2</th><td class=\"tdhistory481226\">Davis at Rainey Street</td><td class=\"tdhistory481226\">Red River & 8th Street</td><td class=\"tdhistory481226\">334</td><td class=\"tdhistory481226\">9168071</td><td class=\"tdhistory481226\">2016-03-17 09:43:55.000000</td><td class=\"tdhistory481226\">2016-03-17 09:55:55.000000</td><td class=\"tdhistory481226\">0.945255807987909</td><td class=\"tdhistory481226\">-97.73845</td><td class=\"tdhistory481226\">30.26019</td><td class=\"tdhistory481226\">-97.73646</td><td class=\"tdhistory481226\">30.26854</td><td class=\"tdhistory481226\">12</td><td class=\"tdhistory481226\">2016-03-17 09:43:55.000000</td><td class=\"tdhistory481226\"></td><td class=\"tdhistory481226\"></td><td class=\"tdhistory481226\"></td><td class=\"tdhistory481226\"></td><td class=\"tdhistory481226\"></td><td class=\"tdhistory481226\"></td><td class=\"tdhistory481226\"></td><td class=\"tdhistory481226\"></td><td class=\"tdhistory481226\"></td><td class=\"tdhistory481226\"></td><td class=\"tdhistory481226\"></td><td class=\"tdhistory481226\"></td><td class=\"tdhistory481226\"></td><td class=\"tdhistory481226\"></td><td class=\"tdhistory481226\"></td></tr><tr><th class=\"tdhistory481226\" style= \"background: rgba(243, 243, 243, 0.75)\">3</th><td class=\"tdhistory481226\">4th & Congress</td><td class=\"tdhistory481226\">South Congress & Academy</td><td class=\"tdhistory481226\">745</td><td class=\"tdhistory481226\">11379821</td><td class=\"tdhistory481226\">2016-08-11 13:02:48.000000</td><td class=\"tdhistory481226\">2016-08-11 13:12:48.000000</td><td class=\"tdhistory481226\">1.6266930577344831</td><td class=\"tdhistory481226\">-97.74378</td><td class=\"tdhistory481226\">30.26634</td><td class=\"tdhistory481226\">-97.74854</td><td class=\"tdhistory481226\">30.25226</td><td class=\"tdhistory481226\">10</td><td class=\"tdhistory481226\">2016-08-11 13:02:48.000000</td><td class=\"tdhistory481226\"></td><td class=\"tdhistory481226\"></td><td class=\"tdhistory481226\"></td><td class=\"tdhistory481226\"></td><td class=\"tdhistory481226\"></td><td class=\"tdhistory481226\"></td><td class=\"tdhistory481226\"></td><td class=\"tdhistory481226\"></td><td class=\"tdhistory481226\"></td><td class=\"tdhistory481226\"></td><td class=\"tdhistory481226\"></td><td class=\"tdhistory481226\"></td><td class=\"tdhistory481226\"></td><td class=\"tdhistory481226\"></td><td class=\"tdhistory481226\"></td></tr><tr><th class=\"tdhistory481226\" style= \"background: rgba(243, 243, 243, 0.75)\">4</th><td class=\"tdhistory481226\">Red River & 8th Street</td><td class=\"tdhistory481226\">Plaza Saltillo</td><td class=\"tdhistory481226\">283</td><td class=\"tdhistory481226\">12676850</td><td class=\"tdhistory481226\">2016-11-03 20:45:08.000000</td><td class=\"tdhistory481226\">2016-11-03 20:51:08.000000</td><td class=\"tdhistory481226\">1.1196978769302126</td><td class=\"tdhistory481226\">-97.73646</td><td class=\"tdhistory481226\">30.26854</td><td class=\"tdhistory481226\">-97.72743</td><td class=\"tdhistory481226\">30.26217</td><td class=\"tdhistory481226\">6</td><td class=\"tdhistory481226\">2016-11-03 20:45:08.000000</td><td class=\"tdhistory481226\"></td><td class=\"tdhistory481226\"></td><td class=\"tdhistory481226\"></td><td class=\"tdhistory481226\"></td><td class=\"tdhistory481226\"></td><td class=\"tdhistory481226\"></td><td class=\"tdhistory481226\"></td><td class=\"tdhistory481226\"></td><td class=\"tdhistory481226\"></td><td class=\"tdhistory481226\"></td><td class=\"tdhistory481226\"></td><td class=\"tdhistory481226\"></td><td class=\"tdhistory481226\"></td><td class=\"tdhistory481226\"></td><td class=\"tdhistory481226\"></td></tr><tr><th class=\"tdhistory481226\" style= \"background: rgba(243, 243, 243, 0.75)\">5</th><td class=\"tdhistory481226\">East 11th St. & San Marcos</td><td class=\"tdhistory481226\">East 2nd & Pedernales</td><td class=\"tdhistory481226\">272</td><td class=\"tdhistory481226\">12496830</td><td class=\"tdhistory481226\">2016-10-21 13:17:48.000000</td><td class=\"tdhistory481226\">2016-10-21 13:36:48.000000</td><td class=\"tdhistory481226\">2.0826546924073406</td><td class=\"tdhistory481226\">-97.73074</td><td class=\"tdhistory481226\">30.26968</td><td class=\"tdhistory481226\">-97.71665</td><td class=\"tdhistory481226\">30.25542</td><td class=\"tdhistory481226\">19</td><td class=\"tdhistory481226\">2016-10-21 13:17:48.000000</td><td class=\"tdhistory481226\"></td><td class=\"tdhistory481226\"></td><td class=\"tdhistory481226\"></td><td class=\"tdhistory481226\"></td><td class=\"tdhistory481226\"></td><td class=\"tdhistory481226\"></td><td class=\"tdhistory481226\"></td><td class=\"tdhistory481226\"></td><td class=\"tdhistory481226\"></td><td class=\"tdhistory481226\"></td><td class=\"tdhistory481226\"></td><td class=\"tdhistory481226\"></td><td class=\"tdhistory481226\"></td><td class=\"tdhistory481226\"></td><td class=\"tdhistory481226\"></td></tr><tr><th class=\"tdhistory481226\" style= \"background: rgba(243, 243, 243, 0.75)\">6</th><td class=\"tdhistory481226\">Convention Center / 4th St. @ MetroRail</td><td class=\"tdhistory481226\">8th & Congress</td><td class=\"tdhistory481226\">200</td><td class=\"tdhistory481226\">12322377</td><td class=\"tdhistory481226\">2016-10-10 05:39:03.000000</td><td class=\"tdhistory481226\">2016-10-10 05:44:03.000000</td><td class=\"tdhistory481226\">0.6158696798253411</td><td class=\"tdhistory481226\">-97.739</td><td class=\"tdhistory481226\">30.26483</td><td class=\"tdhistory481226\">-97.74186</td><td class=\"tdhistory481226\">30.2698</td><td class=\"tdhistory481226\">5</td><td class=\"tdhistory481226\">2016-10-10 05:39:03.000000</td><td class=\"tdhistory481226\"></td><td class=\"tdhistory481226\"></td><td class=\"tdhistory481226\"></td><td class=\"tdhistory481226\"></td><td class=\"tdhistory481226\"></td><td class=\"tdhistory481226\"></td><td class=\"tdhistory481226\"></td><td class=\"tdhistory481226\"></td><td class=\"tdhistory481226\"></td><td class=\"tdhistory481226\"></td><td class=\"tdhistory481226\"></td><td class=\"tdhistory481226\"></td><td class=\"tdhistory481226\"></td><td class=\"tdhistory481226\"></td><td class=\"tdhistory481226\"></td></tr><tr><th class=\"tdhistory481226\" style= \"background: rgba(243, 243, 243, 0.75)\">7</th><td class=\"tdhistory481226\">City Hall / Lavaca & 2nd</td><td class=\"tdhistory481226\">Convention Center / 4th St. @ MetroRail</td><td class=\"tdhistory481226\">461</td><td class=\"tdhistory481226\">10892882</td><td class=\"tdhistory481226\">2016-07-11 12:00:51.000000</td><td class=\"tdhistory481226\">2016-07-11 12:05:51.000000</td><td class=\"tdhistory481226\">0.7487025821937812</td><td class=\"tdhistory481226\">-97.74678</td><td class=\"tdhistory481226\">30.26476</td><td class=\"tdhistory481226\">-97.739</td><td class=\"tdhistory481226\">30.26483</td><td class=\"tdhistory481226\">5</td><td class=\"tdhistory481226\">2016-07-11 12:00:51.000000</td><td class=\"tdhistory481226\"></td><td class=\"tdhistory481226\"></td><td class=\"tdhistory481226\"></td><td class=\"tdhistory481226\"></td><td class=\"tdhistory481226\"></td><td class=\"tdhistory481226\"></td><td class=\"tdhistory481226\"></td><td class=\"tdhistory481226\"></td><td class=\"tdhistory481226\"></td><td class=\"tdhistory481226\"></td><td class=\"tdhistory481226\"></td><td class=\"tdhistory481226\"></td><td class=\"tdhistory481226\"></td><td class=\"tdhistory481226\"></td><td class=\"tdhistory481226\"></td></tr><tr><th class=\"tdhistory481226\" style= \"background: rgba(243, 243, 243, 0.75)\">8</th><td class=\"tdhistory481226\">Plaza Saltillo</td><td class=\"tdhistory481226\">East 6th at Robert Martinez</td><td class=\"tdhistory481226\">37</td><td class=\"tdhistory481226\">11160363</td><td class=\"tdhistory481226\">2016-07-29 02:49:50.000000</td><td class=\"tdhistory481226\">2016-07-29 03:12:50.000000</td><td class=\"tdhistory481226\">0.8376952298600656</td><td class=\"tdhistory481226\">-97.72743</td><td class=\"tdhistory481226\">30.26217</td><td class=\"tdhistory481226\">-97.71899</td><td class=\"tdhistory481226\">30.26032</td><td class=\"tdhistory481226\">23</td><td class=\"tdhistory481226\">2016-07-29 02:49:50.000000</td><td class=\"tdhistory481226\"></td><td class=\"tdhistory481226\"></td><td class=\"tdhistory481226\"></td><td class=\"tdhistory481226\"></td><td class=\"tdhistory481226\"></td><td class=\"tdhistory481226\"></td><td class=\"tdhistory481226\"></td><td class=\"tdhistory481226\"></td><td class=\"tdhistory481226\"></td><td class=\"tdhistory481226\"></td><td class=\"tdhistory481226\"></td><td class=\"tdhistory481226\"></td><td class=\"tdhistory481226\"></td><td class=\"tdhistory481226\"></td><td class=\"tdhistory481226\"></td></tr><tr><th class=\"tdhistory481226\" style= \"background: rgba(243, 243, 243, 0.75)\">9</th><td class=\"tdhistory481226\">Davis at Rainey Street</td><td class=\"tdhistory481226\">City Hall / Lavaca & 2nd</td><td class=\"tdhistory481226\">696</td><td class=\"tdhistory481226\">9159486</td><td class=\"tdhistory481226\">2016-03-16 18:01:40.000000</td><td class=\"tdhistory481226\">2016-03-16 18:21:40.000000</td><td class=\"tdhistory481226\">0.9482794034398802</td><td class=\"tdhistory481226\">-97.73845</td><td class=\"tdhistory481226\">30.26019</td><td class=\"tdhistory481226\">-97.74678</td><td class=\"tdhistory481226\">30.26476</td><td class=\"tdhistory481226\">20</td><td class=\"tdhistory481226\">2016-03-16 18:01:40.000000</td><td class=\"tdhistory481226\"></td><td class=\"tdhistory481226\"></td><td class=\"tdhistory481226\"></td><td class=\"tdhistory481226\"></td><td class=\"tdhistory481226\"></td><td class=\"tdhistory481226\"></td><td class=\"tdhistory481226\"></td><td class=\"tdhistory481226\"></td><td class=\"tdhistory481226\"></td><td class=\"tdhistory481226\"></td><td class=\"tdhistory481226\"></td><td class=\"tdhistory481226\"></td><td class=\"tdhistory481226\"></td><td class=\"tdhistory481226\"></td><td class=\"tdhistory481226\"></td></tr><tr><th class=\"tdhistory481226\" style= \"background: rgba(243, 243, 243, 0.75)\">10</th><td class=\"tdhistory481226\">Zilker Park</td><td class=\"tdhistory481226\">8th & Congress</td><td class=\"tdhistory481226\">95</td><td class=\"tdhistory481226\">11739861</td><td class=\"tdhistory481226\">2016-09-03 12:42:04.000000</td><td class=\"tdhistory481226\">2016-09-03 13:03:04.000000</td><td class=\"tdhistory481226\">2.573102341746301</td><td class=\"tdhistory481226\">-97.76822</td><td class=\"tdhistory481226\">30.2659</td><td class=\"tdhistory481226\">-97.74186</td><td class=\"tdhistory481226\">30.2698</td><td class=\"tdhistory481226\">21</td><td class=\"tdhistory481226\">2016-09-03 12:42:04.000000</td><td class=\"tdhistory481226\"></td><td class=\"tdhistory481226\"></td><td class=\"tdhistory481226\"></td><td class=\"tdhistory481226\"></td><td class=\"tdhistory481226\"></td><td class=\"tdhistory481226\"></td><td class=\"tdhistory481226\"></td><td class=\"tdhistory481226\"></td><td class=\"tdhistory481226\"></td><td class=\"tdhistory481226\"></td><td class=\"tdhistory481226\"></td><td class=\"tdhistory481226\"></td><td class=\"tdhistory481226\"></td><td class=\"tdhistory481226\"></td><td class=\"tdhistory481226\"></td></tr></tbody></table></div>"
      ]
     },
     "execution_count": 6,
     "metadata": {
      "application/vnd.teradata.resultset": "{\"resultSetID\":\"/home/jovyan/JupyterLabRoot/Teradata/Resultsets/2022.09.05_17.52.24.953_UTC\",\"historyID\":198,\"chunkID\":\"00001\",\"sessionid\":\"\",\"portnum\":\"\",\"dockermode\":\"docker\",\"totalRowCount\":10,\"chunkCount\":0,\"rowLimit\":0,\"columnMetadata\":[{\"columnName\":\"start_station_name\",\"columnTypeName\":\"VARCHAR\",\"length\":100,\"scale\":100},{\"columnNumber\":1,\"columnName\":\"end_station_name\",\"columnTypeName\":\"VARCHAR\",\"length\":100,\"scale\":100},{\"columnNumber\":2,\"columnName\":\"bikeid\",\"columnTypeName\":\"INTEGER\"},{\"columnNumber\":3,\"columnName\":\"trip_id\",\"columnTypeName\":\"BIGINT\"},{\"columnNumber\":4,\"columnName\":\"pickup_time\",\"columnTypeName\":\"TIMESTAMP\",\"length\":6,\"scale\":6},{\"columnNumber\":5,\"columnName\":\"dropoff_time\",\"columnTypeName\":\"TIMESTAMP\",\"length\":6,\"scale\":6},{\"columnNumber\":6,\"columnName\":\"total_distance\",\"columnTypeName\":\"FLOAT\"},{\"columnNumber\":7,\"columnName\":\"pickup_location_lon\",\"columnTypeName\":\"FLOAT\"},{\"columnNumber\":8,\"columnName\":\"pickup_location_lat\",\"columnTypeName\":\"FLOAT\"},{\"columnNumber\":9,\"columnName\":\"dropoff_location_lon\",\"columnTypeName\":\"FLOAT\"},{\"columnNumber\":10,\"columnName\":\"dropoff_location_lat\",\"columnTypeName\":\"FLOAT\"},{\"columnNumber\":11,\"columnName\":\"duration_minutes\",\"columnTypeName\":\"INTEGER\"},{\"columnNumber\":12,\"columnName\":\"Trip_TIMECODE\",\"columnTypeName\":\"TIMESTAMP\",\"length\":6,\"scale\":6},{\"columnNumber\":13,\"columnName\":\"TD_TIMECODE\",\"columnTypeName\":\"TIMESTAMP\",\"length\":6,\"scale\":6},{\"columnNumber\":14,\"columnName\":\"temp\",\"columnTypeName\":\"FLOAT\"},{\"columnNumber\":15,\"columnName\":\"temp_min\",\"columnTypeName\":\"FLOAT\"},{\"columnNumber\":16,\"columnName\":\"temp_max\",\"columnTypeName\":\"FLOAT\"},{\"columnNumber\":17,\"columnName\":\"pressure\",\"columnTypeName\":\"INTEGER\"},{\"columnNumber\":18,\"columnName\":\"humidity\",\"columnTypeName\":\"INTEGER\"},{\"columnNumber\":19,\"columnName\":\"wind_speed\",\"columnTypeName\":\"INTEGER\"},{\"columnNumber\":20,\"columnName\":\"wind_deg\",\"columnTypeName\":\"INTEGER\"},{\"columnNumber\":21,\"columnName\":\"rain_1h\",\"columnTypeName\":\"FLOAT\"},{\"columnNumber\":22,\"columnName\":\"rain_3h\",\"columnTypeName\":\"FLOAT\"},{\"columnNumber\":23,\"columnName\":\"clouds\",\"columnTypeName\":\"INTEGER\"},{\"columnNumber\":24,\"columnName\":\"weather_id\",\"columnTypeName\":\"INTEGER\"},{\"columnNumber\":25,\"columnName\":\"weather_main\",\"columnTypeName\":\"VARCHAR\",\"length\":50,\"scale\":50},{\"columnNumber\":26,\"columnName\":\"weather_desc\",\"columnTypeName\":\"VARCHAR\",\"length\":50,\"scale\":50},{\"columnNumber\":27,\"columnName\":\"weather_icon\",\"columnTypeName\":\"VARCHAR\",\"length\":50,\"scale\":50}]}"
     },
     "output_type": "execute_result"
    }
   ],
   "source": [
    "SELECT TOP 10 * FROM trips_and_weather where cast(pickup_time as date) between '2016-01-01' and '2016-12-31'"
   ]
  },
  {
   "cell_type": "markdown",
   "metadata": {},
   "source": [
    "<b style = 'font-size:28px;font-family:Arial;color:#E37C4D'>5. Clean up</b>\n",
    "\n",
    "<p style = 'font-size:16px;font-family:Arial'>Drop the objects we created in our user database</p>"
   ]
  },
  {
   "cell_type": "code",
   "execution_count": null,
   "metadata": {},
   "outputs": [],
   "source": [
    "DROP TABLE stations_staging;"
   ]
  },
  {
   "cell_type": "code",
   "execution_count": null,
   "metadata": {},
   "outputs": [],
   "source": [
    "DROP TABLE stations;"
   ]
  },
  {
   "cell_type": "code",
   "execution_count": null,
   "metadata": {},
   "outputs": [],
   "source": [
    "DROP TABLE trips_staging;"
   ]
  },
  {
   "cell_type": "code",
   "execution_count": null,
   "metadata": {},
   "outputs": [],
   "source": [
    "DROP TABLE trips;"
   ]
  },
  {
   "cell_type": "code",
   "execution_count": null,
   "metadata": {},
   "outputs": [],
   "source": [
    "DROP TABLE weather_staging;"
   ]
  },
  {
   "cell_type": "code",
   "execution_count": null,
   "metadata": {},
   "outputs": [],
   "source": [
    "DROP TABLE weather;"
   ]
  },
  {
   "cell_type": "code",
   "execution_count": null,
   "metadata": {},
   "outputs": [],
   "source": [
    "DROP TABLE weather_temporal;"
   ]
  },
  {
   "cell_type": "code",
   "execution_count": null,
   "metadata": {},
   "outputs": [],
   "source": [
    "DROP TABLE trips_geo_pti;"
   ]
  },
  {
   "cell_type": "code",
   "execution_count": null,
   "metadata": {},
   "outputs": [],
   "source": [
    "DROP TABLE trips_and_weather;"
   ]
  },
  {
   "cell_type": "code",
   "execution_count": null,
   "metadata": {},
   "outputs": [],
   "source": [
    "DROP VIEW trips_geo;"
   ]
  },
  {
   "cell_type": "markdown",
   "metadata": {},
   "source": [
    "<footer style=\"padding:10px;background:#f9f9f9;border-bottom:3px solid #394851\">©2022 Teradata. All Rights Reserved</footer>"
   ]
  }
 ],
 "metadata": {
  "kernelspec": {
   "display_name": "Teradata SQL",
   "language": "Teradata SQL",
   "name": "teradatasql"
  },
  "language_info": {
   "codemirror_mode": "Teradata SQL",
   "file_extension": ".tdrs",
   "mimetype": "application/vnd.teradata.resultset",
   "name": "Teradata SQL",
   "nbconvert_exporter": "",
   "pygments_lexer": "",
   "version": "16.20"
  }
 },
 "nbformat": 4,
 "nbformat_minor": 4
}
