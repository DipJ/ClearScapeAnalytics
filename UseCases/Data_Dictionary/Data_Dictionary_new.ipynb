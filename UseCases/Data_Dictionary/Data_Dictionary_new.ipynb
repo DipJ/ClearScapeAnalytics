{
 "cells": [
  {
   "cell_type": "markdown",
   "id": "47b87f72",
   "metadata": {},
   "source": [
    "<b style = \"font-size:28px;font-family:Arial;color:#E37C4D\">ClearScape Analytics Experience Data Dictionary</b><img  src=\"Data_Dictionary.png\" alt=\"Data_Dictionary\" width=\"150\" align=\"right\" />\n",
    "\n",
    "\n",
    " This data is being provided in cloud storage, having been exported from Teradata Vantage Live which was originally publicly sourced data. However, there has been value add to the content and structure of the data, and as such is protected work product of the Teradata Corporation.  It is provided for use with the demonstrations in the ClearScape Analytics Experience.\n",
    "\n",
    "\n",
    "After each database description there may be one or two \"run\" commands:\n",
    "<ol><li> a statement to create foreign tables linked to the <b>cloud</b>, create a view database with 1:1 views pointing at those foreign tables, and any semantic views and other object needed by the demonstration</li>\n",
    "<li> a statement to import data from the cloud to create <b>local</b> tables and 1:1 views pointing at those local tables. </li></ol>\n",
    "Click in the cell with the \"run\" statement and press SHIFT + ENTER to run either routine. All demonstrations will run either with <b>cloud</b> tables or <b>local</b> tables. The local tables will be faster, however that means you will need to manage local storage.\n",
    "\n",
    "<br>A complete description of the design of these databases is included at the end of this notebook.\n"
   ]
  },
  {
   "cell_type": "markdown",
   "id": "20f4ceab",
   "metadata": {},
   "source": [
    "### Video Introduction to Data Dictionary (2.5 minutes)\n",
    "Click in the cell below and press SHIFT + ENTER to play."
   ]
  },
  {
   "cell_type": "code",
   "execution_count": null,
   "id": "eb4018ab",
   "metadata": {},
   "outputs": [],
   "source": [
    "%%HTML\n",
    "<iframe width=\"640\" height=\"360\" src=\"https://web.microsoftstream.com/embed/video/f8fddab8-6f0b-44e8-8594-04d396c78745?autoplay=true&showinfo=true\" allowfullscreen style=\"border:none;\"></iframe>"
   ]
  },
  {
   "cell_type": "markdown",
   "id": "3186a187",
   "metadata": {},
   "source": [
    "## Manage Your Space \n",
    "You may use the \"manage space\" routine below to view current space usage and available space.  \n"
   ]
  },
  {
   "cell_type": "code",
   "execution_count": null,
   "id": "662c7634",
   "metadata": {},
   "outputs": [],
   "source": [
    "run -i ../../DDL/manage_space.py"
   ]
  },
  {
   "cell_type": "markdown",
   "id": "32bb9f87",
   "metadata": {},
   "source": [
    "## Available Demonstration Databases"
   ]
  },
  {
   "cell_type": "markdown",
   "id": "e401bf3b",
   "metadata": {},
   "source": [
    "### DEMO_AustinBikeShare\n",
    "No description available"
   ]
  },
  {
   "cell_type": "code",
   "execution_count": null,
   "id": "b4ed5837",
   "metadata": {},
   "outputs": [],
   "source": [
    "%run -i ../run_procedure.py \"call get_data('DEMO_AustinBikeShare_cloud')\";"
   ]
  },
  {
   "cell_type": "code",
   "execution_count": null,
   "id": "cfb251fa",
   "metadata": {},
   "outputs": [],
   "source": [
    "%run -i ../run_procedure.py \"call get_data('DEMO_AustinBikeShare_local')\";"
   ]
  },
  {
   "cell_type": "code",
   "execution_count": null,
   "id": "ca68fb39",
   "metadata": {},
   "outputs": [],
   "source": [
    "%run -i ../run_procedure.py \"call remove_data('DEMO_AustinBikeShare')\";   # only needed if you want to clean up space"
   ]
  },
  {
   "cell_type": "markdown",
   "id": "364a019d",
   "metadata": {},
   "source": [
    "### DEMO_DataScienceExploration\n",
    "No description available"
   ]
  },
  {
   "cell_type": "code",
   "execution_count": null,
   "id": "babdd0b9",
   "metadata": {},
   "outputs": [],
   "source": [
    "%run -i ../run_procedure.py \"call get_data('DEMO_DataScienceExploration_cloud')\";"
   ]
  },
  {
   "cell_type": "code",
   "execution_count": null,
   "id": "fa70d9ef",
   "metadata": {},
   "outputs": [],
   "source": [
    "%run -i ../run_procedure.py \"call get_data('DEMO_DataScienceExploration_local')\";"
   ]
  },
  {
   "cell_type": "code",
   "execution_count": null,
   "id": "2a9ffc2f",
   "metadata": {},
   "outputs": [],
   "source": [
    "%run -i ../run_procedure.py \"call remove_data('DEMO_DataScienceExploration')\";   # only needed if you want to clean up space"
   ]
  },
  {
   "cell_type": "markdown",
   "id": "14f167c4",
   "metadata": {},
   "source": [
    "### DEMO_DataScienceFlow\n",
    "No description available"
   ]
  },
  {
   "cell_type": "code",
   "execution_count": null,
   "id": "beb640ef",
   "metadata": {},
   "outputs": [],
   "source": [
    "%run -i ../run_procedure.py \"call get_data('DEMO_DataScienceFlow_cloud')\";"
   ]
  },
  {
   "cell_type": "code",
   "execution_count": null,
   "id": "5679dddf",
   "metadata": {},
   "outputs": [],
   "source": [
    "%run -i ../run_procedure.py \"call get_data('DEMO_DataScienceFlow_local')\";"
   ]
  },
  {
   "cell_type": "code",
   "execution_count": null,
   "id": "01c0cc2f",
   "metadata": {},
   "outputs": [],
   "source": [
    "%run -i ../run_procedure.py \"call remove_data('DEMO_DataScienceFlow')\";   # only needed if you want to clean up space"
   ]
  },
  {
   "cell_type": "markdown",
   "id": "9c799eef",
   "metadata": {},
   "source": [
    "### DEMO_FSCustomerJourney\n",
    "No description available"
   ]
  },
  {
   "cell_type": "code",
   "execution_count": null,
   "id": "84e253f9",
   "metadata": {},
   "outputs": [],
   "source": [
    "%run -i ../run_procedure.py \"call get_data('DEMO_FSCustomerJourney_cloud')\";"
   ]
  },
  {
   "cell_type": "code",
   "execution_count": null,
   "id": "eeb9eb30",
   "metadata": {},
   "outputs": [],
   "source": [
    "%run -i ../run_procedure.py \"call get_data('DEMO_FSCustomerJourney_local')\";"
   ]
  },
  {
   "cell_type": "code",
   "execution_count": null,
   "id": "be4156ac",
   "metadata": {},
   "outputs": [],
   "source": [
    "%run -i ../run_procedure.py \"call remove_data('DEMO_FSCustomerJourney')\";   # only needed if you want to clean up space"
   ]
  },
  {
   "cell_type": "markdown",
   "id": "a84cc0d1",
   "metadata": {},
   "source": [
    "### DEMO_IndoorSensor\n",
    "No description available"
   ]
  },
  {
   "cell_type": "code",
   "execution_count": null,
   "id": "82d69169",
   "metadata": {},
   "outputs": [],
   "source": [
    "%run -i ../run_procedure.py \"call get_data('DEMO_IndoorSensor_cloud')\";"
   ]
  },
  {
   "cell_type": "code",
   "execution_count": null,
   "id": "730eaccf",
   "metadata": {},
   "outputs": [],
   "source": [
    "%run -i ../run_procedure.py \"call get_data('DEMO_IndoorSensor_local')\";"
   ]
  },
  {
   "cell_type": "code",
   "execution_count": null,
   "id": "d1da6667",
   "metadata": {},
   "outputs": [],
   "source": [
    "%run -i ../run_procedure.py \"call remove_data('DEMO_IndoorSensor')\";   # only needed if you want to clean up space"
   ]
  },
  {
   "cell_type": "markdown",
   "id": "7a6eb944",
   "metadata": {},
   "source": [
    "### DEMO_Insurance\n",
    "No description available"
   ]
  },
  {
   "cell_type": "code",
   "execution_count": null,
   "id": "c9e8f0c4",
   "metadata": {},
   "outputs": [],
   "source": [
    "%run -i ../run_procedure.py \"call get_data('DEMO_Insurance_local')\";"
   ]
  },
  {
   "cell_type": "code",
   "execution_count": null,
   "id": "47a6888d",
   "metadata": {},
   "outputs": [],
   "source": [
    "%run -i ../run_procedure.py \"call remove_data('DEMO_Insurance')\";   # only needed if you want to clean up space"
   ]
  },
  {
   "cell_type": "markdown",
   "id": "dec5756e",
   "metadata": {},
   "source": [
    "### DEMO_RetailDSE\n",
    "No description available"
   ]
  },
  {
   "cell_type": "code",
   "execution_count": null,
   "id": "54d5b687",
   "metadata": {},
   "outputs": [],
   "source": [
    "%run -i ../run_procedure.py \"call get_data('DEMO_RetailDSE_cloud')\";"
   ]
  },
  {
   "cell_type": "code",
   "execution_count": null,
   "id": "7af5f349",
   "metadata": {},
   "outputs": [],
   "source": [
    "%run -i ../run_procedure.py \"call get_data('DEMO_RetailDSE_local')\";"
   ]
  },
  {
   "cell_type": "code",
   "execution_count": null,
   "id": "247a680f",
   "metadata": {},
   "outputs": [],
   "source": [
    "%run -i ../run_procedure.py \"call remove_data('DEMO_RetailDSE')\";   # only needed if you want to clean up space"
   ]
  },
  {
   "cell_type": "markdown",
   "id": "10b513c0",
   "metadata": {},
   "source": [
    "### DEMO_SalesOffload\n",
    "No description available"
   ]
  },
  {
   "cell_type": "code",
   "execution_count": null,
   "id": "a7ac9f1a",
   "metadata": {},
   "outputs": [],
   "source": [
    "%run -i ../run_procedure.py \"call get_data('DEMO_SalesOffload_cloud')\";"
   ]
  },
  {
   "cell_type": "code",
   "execution_count": null,
   "id": "e9b65c6b",
   "metadata": {},
   "outputs": [],
   "source": [
    "%run -i ../run_procedure.py \"call get_data('DEMO_SalesOffload_local')\";"
   ]
  },
  {
   "cell_type": "code",
   "execution_count": null,
   "id": "cc5c9c23",
   "metadata": {},
   "outputs": [],
   "source": [
    "%run -i ../run_procedure.py \"call remove_data('DEMO_SalesOffload')\";   # only needed if you want to clean up space"
   ]
  },
  {
   "cell_type": "markdown",
   "id": "6ca0f1d9",
   "metadata": {},
   "source": [
    "### DEMO_TPCH_1Gb\n",
    "This consists of the 8 tables that make up the TPCH Benchmark.  Since this tiny platform is for functional testing, the scale of this data is 1 GB. This is provided as a coordinated set of tables to use with your BI tools. (The TPC-H queries are not representative of the typical mixed workload we observe on production platforms since 82% scan over 24 months of data.  The data lacks realistic skew. For example, there are exactly 4 line items for every order).   \n",
    "\n",
    "The tables include:\n",
    "-  CUSTOMER - 150,0009 rows\n",
    "-  LINEITEM - 6,001,2159 rows\n",
    "-  NATION - 259 rows\n",
    "-  ORDERS - 1,500,0009 rows\n",
    "-  PART - 200,0009 rows\n",
    "-  PARTSUPP - 800,0009 rows\n",
    "-  REGION - 59 rows\n",
    "-  SUPPLIER - 10,0009 rows"
   ]
  },
  {
   "cell_type": "code",
   "execution_count": null,
   "id": "e6fce543",
   "metadata": {},
   "outputs": [],
   "source": [
    "%run -i ../run_procedure.py \"call get_data('DEMO_TPCH_1Gb_cloud')\";"
   ]
  },
  {
   "cell_type": "code",
   "execution_count": null,
   "id": "e710b3d3",
   "metadata": {},
   "outputs": [],
   "source": [
    "%run -i ../run_procedure.py \"call remove_data('DEMO_TPCH_1Gb')\";   # only needed if you want to clean up space"
   ]
  },
  {
   "cell_type": "markdown",
   "id": "f5f8cd48",
   "metadata": {},
   "source": [
    "### DEMO_XSP\n",
    "No description available"
   ]
  },
  {
   "cell_type": "code",
   "execution_count": null,
   "id": "f023970b",
   "metadata": {},
   "outputs": [],
   "source": [
    "%run -i ../run_procedure.py \"call get_data('DEMO_XSP_cloud')\";"
   ]
  },
  {
   "cell_type": "code",
   "execution_count": null,
   "id": "4490ec0c",
   "metadata": {},
   "outputs": [],
   "source": [
    "%run -i ../run_procedure.py \"call get_data('DEMO_XSP_local')\";"
   ]
  },
  {
   "cell_type": "code",
   "execution_count": null,
   "id": "e3e6c3ee",
   "metadata": {},
   "outputs": [],
   "source": [
    "%run -i ../run_procedure.py \"call remove_data('DEMO_XSP')\";   # only needed if you want to clean up space"
   ]
  },
  {
   "cell_type": "markdown",
   "id": "9d75fc61",
   "metadata": {},
   "source": [
    "\n",
    "## Description of Databases, Tables, and Other Objects\n",
    "<img  src=\"DemoNow_Table_Design.png\" alt=\"DemoNow_Table_Design\" width=\"600\" align=\"right\" />\n",
    "\n",
    "All data used in DemoNow is provided on Cloud Storage. That data has been exported in Parquet format. For Vantage to access that data, a foreign table is defined with the necessary credentials. For ClearScape Analytics, we create the foreign table definitions in the database gs_tables_db (gs = Google Storage) which also contains the Authentication object. We use a stored procedure to run scripts to create the foreign tables, optionally local tables, and a view database with 1:1 views, macros, and stored procedures needed for those databases. The script suffix indicates which version of tables you will get:\n",
    "<ol>\n",
    "<li> xxx_<b>cloud</b> - uses 1:1 views pointing directly at the foreign tables.  Faster to setup, but slower demo execution</li>\n",
    "<li> xxx_<b>local</b> - imports the data to local tables and creates 1:1 views pointing at the local tables. Slower to set up, faster demo execution, but may cause database storage space considerations.</li>\n",
    "</ol>\n",
    "\n",
    "You can run either the xxx_<b>cloud</b> or xxx_<b>local</b> script, but if you want to switch, you should run the corresponding remove_data procedure. There is also a \"manage_space.py\" routine included at the top of this notebook to display the demo databases, the space used and the space available. You may enter the word \"delete\" followed by the numbers of any databases you want to delete. The table databases end with \"_db\" and the view databases have a similar name without the \"_db\" suffix. \n"
   ]
  },
  {
   "cell_type": "markdown",
   "id": "0223e1bf",
   "metadata": {},
   "source": [
    "\n",
    "Copyright © 2022 Teradata Corporation"
   ]
  }
 ],
 "kernelspec": "Python 3",
 "metadata": {},
 "nbformat": 4,
 "nbformat_minor": 5
}
