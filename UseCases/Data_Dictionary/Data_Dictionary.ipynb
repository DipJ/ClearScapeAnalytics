{
 "cells": [
  {
   "cell_type": "markdown",
   "id": "6f87fd13",
   "metadata": {},
   "source": [
    "<b style = \"font-size:28px;font-family:Arial;color:#E37C4D\">ClearScape Analytics Experience Data Dictionary</b><img  src=\"Data_Dictionary.png\" alt=\"Data_Dictionary\" width=\"150\" align=\"right\" />\n",
    "\n",
    "\n",
    " This data is being provided in cloud storage, having been exported from Teradata Vantage Live which was originally publicly sourced data. However, there has been value add to the content and structure of the data, and as such is protected work product of the Teradata Corporation.  It is provided for use with the demonstrations in the ClearScape Analytics Experience.\n",
    "\n",
    "\n",
    "After each database description there may be one or two \"run\" commands:\n",
    "<ol><li> a statement to create foreign tables linked to the <b>cloud</b>, create a view database with 1:1 views pointing at those foreign tables, and any semantic views and other object needed by the demonstration</li>\n",
    "<li> a statement to import data from the cloud to create <b>local</b> tables and 1:1 views pointing at those local tables. </li></ol>\n",
    "Click in the cell with the \"run\" statement and press SHIFT + ENTER to run either routine. All demonstrations will run either with <b>cloud</b> tables or <b>local</b> tables. The local tables will be faster, however that means you will need to manage local storage.\n",
    "\n",
    "<br>A complete description of the design of these databases is included at the end of this notebook.\n"
   ]
  },
  {
   "cell_type": "markdown",
   "id": "f3ea2fd8",
   "metadata": {},
   "source": [
    "### Video Introduction to Data Dictionary (2.5 minutes)\n",
    "Click in the cell below and press SHIFT + ENTER to play."
   ]
  },
  {
   "cell_type": "code",
   "execution_count": null,
   "id": "34a7db12",
   "metadata": {},
   "outputs": [],
   "source": [
    "%%HTML\n",
    "<iframe width=\"640\" height=\"360\" src=\"https://web.microsoftstream.com/embed/video/f8fddab8-6f0b-44e8-8594-04d396c78745?autoplay=true&showinfo=true\" allowfullscreen style=\"border:none;\"></iframe>"
   ]
  },
  {
   "cell_type": "markdown",
   "id": "723856b0",
   "metadata": {},
   "source": [
    "## Manage Your Space \n",
    "You may use the \"manage space\" routine below to view current space usage and available space.  \n"
   ]
  },
  {
   "cell_type": "code",
   "execution_count": null,
   "id": "cd152db2",
   "metadata": {},
   "outputs": [],
   "source": [
    "run -i ../../DDL/manage_space.py"
   ]
  },
  {
   "cell_type": "markdown",
   "id": "1e570862",
   "metadata": {},
   "source": [
    "## Available Demonstration Databases"
   ]
  },
  {
   "cell_type": "markdown",
   "id": "910790c2",
   "metadata": {},
   "source": [
    "### DEMO_AirPassengers\n",
    "The database DEMO_AirPassengers provides simple generated passenger counts by month for use in a forecasting demo.  \n",
    "\n",
    "Tables:\n",
    "- AirPassengers - Row Count: 144"
   ]
  },
  {
   "cell_type": "code",
   "execution_count": null,
   "id": "69591f4e",
   "metadata": {},
   "outputs": [],
   "source": [
    "%run -i ../run_procedure.py \"call get_data('DEMO_AirPassengers_cloud')\";"
   ]
  },
  {
   "cell_type": "code",
   "execution_count": null,
   "id": "1d362968",
   "metadata": {},
   "outputs": [],
   "source": [
    "%run -i ../run_procedure.py \"call get_data('DEMO_AirPassengers_local')\";"
   ]
  },
  {
   "cell_type": "code",
   "execution_count": null,
   "id": "158e4a67",
   "metadata": {},
   "outputs": [],
   "source": [
    "%run -i ../run_procedure.py \"call remove_data('DEMO_AirPassengers')\";   # only needed if you want to clean up space"
   ]
  },
  {
   "cell_type": "markdown",
   "id": "4adcf8d5",
   "metadata": {},
   "source": [
    "### DEMO_AustinBikeShare\n",
    "Bike shares are becoming a popular alternative means of transportation. The City of Austin makes data available on >649k bike trips over 2013-2017. This data includes information on bike trip start location, stop location, duration, type of bike share user. Bike station location data was inserted into a work table by the Austin Bike share notebook. This data was sourced from www.kaggle.com.\n",
    "\n",
    "Tables:\n",
    "- Trips - rows: 649,231\n",
    "- Weather - rows: 24,592"
   ]
  },
  {
   "cell_type": "code",
   "execution_count": null,
   "id": "287dfee2",
   "metadata": {},
   "outputs": [],
   "source": [
    "%run -i ../run_procedure.py \"call get_data('DEMO_AustinBikeShare_cloud')\";"
   ]
  },
  {
   "cell_type": "code",
   "execution_count": null,
   "id": "c7490891",
   "metadata": {},
   "outputs": [],
   "source": [
    "%run -i ../run_procedure.py \"call get_data('DEMO_AustinBikeShare_local')\";"
   ]
  },
  {
   "cell_type": "code",
   "execution_count": null,
   "id": "3a70d67e",
   "metadata": {},
   "outputs": [],
   "source": [
    "%run -i ../run_procedure.py \"call remove_data('DEMO_AustinBikeShare')\";   # only needed if you want to clean up space"
   ]
  },
  {
   "cell_type": "markdown",
   "id": "1bafb7af",
   "metadata": {},
   "source": [
    "### DEMO_CreditCard\n",
    "The database DEMO_CreditCard provides information about gender, children, income, family status, occupation. It was used in a notebook to demonstrate preparing data for analysis. \n",
    "\n",
    "Tables:\n",
    "- Credit_Card - Row count: 50,000"
   ]
  },
  {
   "cell_type": "code",
   "execution_count": null,
   "id": "ad9eca6e",
   "metadata": {},
   "outputs": [],
   "source": [
    "%run -i ../run_procedure.py \"call get_data('DEMO_CreditCard_cloud')\";"
   ]
  },
  {
   "cell_type": "code",
   "execution_count": null,
   "id": "d679c609",
   "metadata": {},
   "outputs": [],
   "source": [
    "%run -i ../run_procedure.py \"call get_data('DEMO_CreditCard_local')\";"
   ]
  },
  {
   "cell_type": "code",
   "execution_count": null,
   "id": "b437ba53",
   "metadata": {},
   "outputs": [],
   "source": [
    "%run -i ../run_procedure.py \"call remove_data('DEMO_CreditCard')\";   # only needed if you want to clean up space"
   ]
  },
  {
   "cell_type": "markdown",
   "id": "7faeb95a",
   "metadata": {},
   "source": [
    "### DEMO_DataScienceExploration\n",
    "The database DEMO_DataScienceExploration provides information houses including bedrooms, floors, square feet, year built, zip code, Lat/Long, price, etc.  It was used in a notebook to demonstrate the standard flow of Data Science using the CRISP-DM standard (Cross-Industry Standard Process for Data Mining)\n",
    "\n",
    "Tables:\n",
    "- House_Prices - Row count: 80,000"
   ]
  },
  {
   "cell_type": "code",
   "execution_count": null,
   "id": "f44cd8c8",
   "metadata": {},
   "outputs": [],
   "source": [
    "%run -i ../run_procedure.py \"call get_data('DEMO_DataScienceExploration_cloud')\";"
   ]
  },
  {
   "cell_type": "code",
   "execution_count": null,
   "id": "3f324fcf",
   "metadata": {},
   "outputs": [],
   "source": [
    "%run -i ../run_procedure.py \"call get_data('DEMO_DataScienceExploration_local')\";"
   ]
  },
  {
   "cell_type": "code",
   "execution_count": null,
   "id": "985f8db1",
   "metadata": {},
   "outputs": [],
   "source": [
    "%run -i ../run_procedure.py \"call remove_data('DEMO_DataScienceExploration')\";   # only needed if you want to clean up space"
   ]
  },
  {
   "cell_type": "markdown",
   "id": "30370e77",
   "metadata": {},
   "source": [
    "### DEMO_DataScienceFlow\n",
    "The database DEMO_DataScienceFlow provides information about \n",
    "\n",
    "It is used by:\n",
    "\n",
    "\n",
    "Tables:\n",
    "- Covid_Data\n"
   ]
  },
  {
   "cell_type": "code",
   "execution_count": null,
   "id": "a684272a",
   "metadata": {},
   "outputs": [],
   "source": [
    "%run -i ../run_procedure.py \"call get_data('DEMO_DataScienceFlow_cloud')\";"
   ]
  },
  {
   "cell_type": "code",
   "execution_count": null,
   "id": "46835641",
   "metadata": {},
   "outputs": [],
   "source": [
    "%run -i ../run_procedure.py \"call get_data('DEMO_DataScienceFlow_local')\";"
   ]
  },
  {
   "cell_type": "code",
   "execution_count": null,
   "id": "4e2f3fdf",
   "metadata": {},
   "outputs": [],
   "source": [
    "%run -i ../run_procedure.py \"call remove_data('DEMO_DataScienceFlow')\";   # only needed if you want to clean up space"
   ]
  },
  {
   "cell_type": "markdown",
   "id": "8951e482",
   "metadata": {},
   "source": [
    "### DEMO_Energy\n",
    "The database DEMO_Energy provides information by timestamp of day of week, temperature, cloud area, light/dark indicators, holiday, etc and is used in a notebook for forecasting energy consumption. \n",
    "\n",
    "Tables:\n",
    "- Consumption - row count: 32,160"
   ]
  },
  {
   "cell_type": "code",
   "execution_count": null,
   "id": "652e2c16",
   "metadata": {},
   "outputs": [],
   "source": [
    "%run -i ../run_procedure.py \"call get_data('DEMO_Energy_cloud')\";"
   ]
  },
  {
   "cell_type": "code",
   "execution_count": null,
   "id": "93bac6f3",
   "metadata": {},
   "outputs": [],
   "source": [
    "%run -i ../run_procedure.py \"call get_data('DEMO_Energy_local')\";"
   ]
  },
  {
   "cell_type": "code",
   "execution_count": null,
   "id": "720b32be",
   "metadata": {},
   "outputs": [],
   "source": [
    "%run -i ../run_procedure.py \"call remove_data('DEMO_Energy')\";   # only needed if you want to clean up space"
   ]
  },
  {
   "cell_type": "markdown",
   "id": "1a6cd854",
   "metadata": {},
   "source": [
    "### DEMO_EVCarBattery\n",
    "The database DEMO_EVCarBattery provides the production of vehicles including the parts and bill of materials. There is a table with the VIN identifiers of cars that reported bad batteries. There is a public cloud dataset at s3.amazonaws.com/trial-datasets/EVCarBattery that has test results of the individual batteries used in the vehicles. \n",
    "\n",
    "Tables:\n",
    "- BOM - Row Count: 267,408\n",
    "- Bad_Batteries - Row Count: 698\n",
    "- Dealers - Row Count: 10\n",
    "- Mfg_Plants - Row Count: 8\n",
    "- Parts - Row Count: 1,759\n",
    "- Vehicles - Row Count: 22,273"
   ]
  },
  {
   "cell_type": "code",
   "execution_count": null,
   "id": "3214db59",
   "metadata": {},
   "outputs": [],
   "source": [
    "%run -i ../run_procedure.py \"call get_data('DEMO_EVCarBattery_cloud')\";"
   ]
  },
  {
   "cell_type": "code",
   "execution_count": null,
   "id": "95a94e16",
   "metadata": {},
   "outputs": [],
   "source": [
    "%run -i ../run_procedure.py \"call get_data('DEMO_EVCarBattery_local')\";"
   ]
  },
  {
   "cell_type": "code",
   "execution_count": null,
   "id": "3f1c7d1f",
   "metadata": {},
   "outputs": [],
   "source": [
    "%run -i ../run_procedure.py \"call remove_data('DEMO_EVCarBattery')\";   # only needed if you want to clean up space"
   ]
  },
  {
   "cell_type": "markdown",
   "id": "52b90d6a",
   "metadata": {},
   "source": [
    "### DEMO_Financial\n",
    "The database DEMO_Financial is used in multiple notebooks. THe Customer, Accounts, and Transactions are used in the Vantage Analytics Library for descriptive statistics, analytics, and ML.   The Consumer Complaints came from the Consumer Financial Protection Bureau (CFPB) via data.gov on financial products and services, which include but are not limited to bank accounts, credit cards, credit reporting. \n",
    "\n",
    "Tables:\n",
    "- Accounts - Row Count: 19,726\n",
    "- Consumer_Complaints - Row Count: 1,273,782\n",
    "- Credit_Tran - Row Count: 20,167\n",
    "- Customer - Row Count: 10,458\n",
    "- Customer_Analysis - Row Count: 747\n",
    "- Customer_Journey - Row Count: 628,723\n",
    "- Transactions - Row Count: 1,086,120"
   ]
  },
  {
   "cell_type": "code",
   "execution_count": null,
   "id": "adf180d0",
   "metadata": {},
   "outputs": [],
   "source": [
    "%run -i ../run_procedure.py \"call get_data('DEMO_Financial_cloud')\";"
   ]
  },
  {
   "cell_type": "code",
   "execution_count": null,
   "id": "ee0773bd",
   "metadata": {},
   "outputs": [],
   "source": [
    "%run -i ../run_procedure.py \"call get_data('DEMO_Financial_local')\";"
   ]
  },
  {
   "cell_type": "code",
   "execution_count": null,
   "id": "70409a68",
   "metadata": {},
   "outputs": [],
   "source": [
    "%run -i ../run_procedure.py \"call remove_data('DEMO_Financial')\";   # only needed if you want to clean up space"
   ]
  },
  {
   "cell_type": "markdown",
   "id": "a1803aef",
   "metadata": {},
   "source": [
    "### DEMO_FSCustomerJourney\n",
    "No description available"
   ]
  },
  {
   "cell_type": "code",
   "execution_count": null,
   "id": "0724c51a",
   "metadata": {},
   "outputs": [],
   "source": [
    "%run -i ../run_procedure.py \"call get_data('DEMO_FSCustomerJourney_cloud')\";"
   ]
  },
  {
   "cell_type": "code",
   "execution_count": null,
   "id": "5cb2c440",
   "metadata": {},
   "outputs": [],
   "source": [
    "%run -i ../run_procedure.py \"call get_data('DEMO_FSCustomerJourney_local')\";"
   ]
  },
  {
   "cell_type": "code",
   "execution_count": null,
   "id": "8dd67fd1",
   "metadata": {},
   "outputs": [],
   "source": [
    "%run -i ../run_procedure.py \"call remove_data('DEMO_FSCustomerJourney')\";   # only needed if you want to clean up space"
   ]
  },
  {
   "cell_type": "markdown",
   "id": "3da14ba0",
   "metadata": {},
   "source": [
    "### DEMO_GLM_Fraud\n",
    "The database DEMO_GLM_Fraud transactions with old and new balances and flags to indicate if it had previously been  detected as fraudulent. This is used by GLM_Fraud_Detection notebooks to check the accuracy of a model to predict fraud on a sample based on training a model using the rest of the data. \n",
    "\n",
    "Tables:\n",
    "- Transaction_Data - Row Count: 63,626\n",
    "\n"
   ]
  },
  {
   "cell_type": "code",
   "execution_count": null,
   "id": "b85d3116",
   "metadata": {},
   "outputs": [],
   "source": [
    "%run -i ../run_procedure.py \"call get_data('DEMO_GLM_Fraud_cloud')\";"
   ]
  },
  {
   "cell_type": "code",
   "execution_count": null,
   "id": "a59b9ba3",
   "metadata": {},
   "outputs": [],
   "source": [
    "%run -i ../run_procedure.py \"call get_data('DEMO_GLM_Fraud_local')\";"
   ]
  },
  {
   "cell_type": "code",
   "execution_count": null,
   "id": "87a9c9fa",
   "metadata": {},
   "outputs": [],
   "source": [
    "%run -i ../run_procedure.py \"call remove_data('DEMO_GLM_Fraud')\";   # only needed if you want to clean up space"
   ]
  },
  {
   "cell_type": "markdown",
   "id": "1b1f7ef6",
   "metadata": {},
   "source": [
    "### DEMO_IndoorSensor\n",
    "The database DEMO_IndoorSensor provides data from 54 building sensor locations at the Intel Berkeley Research lab. They produce an average of 68,000 readings per day over the month used in this demo. We will not only analyze the temperature, humidity, and light but also the connectivity of the sensors to each other and voltage readings. The related readings from the sensors is at s3.amazonaws.com/trial-datasets/IndoorSensor/data.csv and has 2,313,682 rows.\n",
    "\n",
    "Tables:\n",
    "- Connectivity - Row Count: 2,970\n",
    "- Sensor_Location - Row Count: 54"
   ]
  },
  {
   "cell_type": "code",
   "execution_count": null,
   "id": "61a23636",
   "metadata": {},
   "outputs": [],
   "source": [
    "%run -i ../run_procedure.py \"call get_data('DEMO_IndoorSensor_cloud')\";"
   ]
  },
  {
   "cell_type": "code",
   "execution_count": null,
   "id": "4183854d",
   "metadata": {},
   "outputs": [],
   "source": [
    "%run -i ../run_procedure.py \"call get_data('DEMO_IndoorSensor_local')\";"
   ]
  },
  {
   "cell_type": "code",
   "execution_count": null,
   "id": "c6b66ad0",
   "metadata": {},
   "outputs": [],
   "source": [
    "%run -i ../run_procedure.py \"call remove_data('DEMO_IndoorSensor')\";   # only needed if you want to clean up space"
   ]
  },
  {
   "cell_type": "markdown",
   "id": "17b36316",
   "metadata": {},
   "source": [
    "### DEMO_Insurance\n",
    "The database DEMO_Insurance begins with the contents of Policy_Details_org which has basic data about policy_ID, Customer_ID, car, start data, premium, and state. It then synthesizes claims and temporal policy tables. \n",
    "\n",
    "Tables:\n",
    "- Insurance_Claims_Details - Row Count: 69                                \n",
    "- Policy_Bitemp - Row Count: 706                                   \n",
    "- Policy_Details - Row Count: 2,958                                             \n",
    "- Policy_Details_org - Row Count: 2,958\n"
   ]
  },
  {
   "cell_type": "code",
   "execution_count": null,
   "id": "75c8df49",
   "metadata": {},
   "outputs": [],
   "source": [
    "%run -i ../run_procedure.py \"call get_data('DEMO_Insurance_local')\";"
   ]
  },
  {
   "cell_type": "code",
   "execution_count": null,
   "id": "8d49b268",
   "metadata": {},
   "outputs": [],
   "source": [
    "%run -i ../run_procedure.py \"call remove_data('DEMO_Insurance')\";   # only needed if you want to clean up space"
   ]
  },
  {
   "cell_type": "markdown",
   "id": "4c0b21b7",
   "metadata": {},
   "source": [
    "### DEMO_NYCTaxi\n",
    "The database DEMO_NYCTaxi data includes pick-up and drop-off dates/times, pick-up and drop-off lat/long, trip distances, itemized fares, rate types, payment types, and driver-reported passenger counts. The data was collected and provided to the NYC Taxi and Limousine Commission (TLC) by technology providers authorized under the Taxicab & Livery Passenger Enhancement Programs (TPEP/LPEP). \n",
    "\n",
    "Tables:\n",
    "- Trip - Row Count: 480,535\n",
    "- Trip_Fare - Row Count: 473,151\n",
    "\n"
   ]
  },
  {
   "cell_type": "code",
   "execution_count": null,
   "id": "819f001f",
   "metadata": {},
   "outputs": [],
   "source": [
    "%run -i ../run_procedure.py \"call get_data('DEMO_NYCTaxi_cloud')\";"
   ]
  },
  {
   "cell_type": "code",
   "execution_count": null,
   "id": "518a7ea2",
   "metadata": {},
   "outputs": [],
   "source": [
    "%run -i ../run_procedure.py \"call get_data('DEMO_NYCTaxi_local')\";"
   ]
  },
  {
   "cell_type": "code",
   "execution_count": null,
   "id": "d401705b",
   "metadata": {},
   "outputs": [],
   "source": [
    "%run -i ../run_procedure.py \"call remove_data('DEMO_NYCTaxi')\";   # only needed if you want to clean up space"
   ]
  },
  {
   "cell_type": "markdown",
   "id": "509cb8c1",
   "metadata": {},
   "source": [
    "### DEMO_ParkinsonsDisease\n",
    "The database DEMO_ParkinsonsDisease is composed of a range of biomedical voice measurements from 31 people, 23 with Parkinson's disease (PD). Each column in the table is a particular voice measure, and each row corresponds one of 195 voice recording from these individuals (\"name\" column). The main aim of the data is to discriminate healthy people from those with PD, according to \"status\" column which is set to 0 for healthy and 1 for PD.\n",
    "\n",
    "Tables:\n",
    "- Speech_Features - Row Count: 756 ... column count: 755"
   ]
  },
  {
   "cell_type": "code",
   "execution_count": null,
   "id": "1b64303e",
   "metadata": {},
   "outputs": [],
   "source": [
    "%run -i ../run_procedure.py \"call get_data('DEMO_ParkinsonsDisease_local')\";"
   ]
  },
  {
   "cell_type": "code",
   "execution_count": null,
   "id": "70df9f2a",
   "metadata": {},
   "outputs": [],
   "source": [
    "%run -i ../run_procedure.py \"call remove_data('DEMO_ParkinsonsDisease')\";   # only needed if you want to clean up space"
   ]
  },
  {
   "cell_type": "markdown",
   "id": "dcb01785",
   "metadata": {},
   "source": [
    "### DEMO_Retail\n",
    "The database DEMO_Retail has the Retail_Events table useful for path analysis with a series of events by entitiy and date. The other is Web_Comment which is useful for text analysis.\n",
    "\n",
    "Tables:\n",
    "- Retail_Events - Row Count: 35,866\n",
    "- Web_Comment - Row Count: 23,486"
   ]
  },
  {
   "cell_type": "code",
   "execution_count": null,
   "id": "5a2e6776",
   "metadata": {},
   "outputs": [],
   "source": [
    "%run -i ../run_procedure.py \"call get_data('DEMO_Retail_cloud')\";"
   ]
  },
  {
   "cell_type": "code",
   "execution_count": null,
   "id": "3152af56",
   "metadata": {},
   "outputs": [],
   "source": [
    "%run -i ../run_procedure.py \"call get_data('DEMO_Retail_local')\";"
   ]
  },
  {
   "cell_type": "code",
   "execution_count": null,
   "id": "352bcf0b",
   "metadata": {},
   "outputs": [],
   "source": [
    "%run -i ../run_procedure.py \"call remove_data('DEMO_Retail')\";   # only needed if you want to clean up space"
   ]
  },
  {
   "cell_type": "markdown",
   "id": "f21e8663",
   "metadata": {},
   "source": [
    "### DEMO_SalesOffload\n",
    "The database DEMO_SalesOffload provides basic information about sales by customer and store and basket IDs, with 5.2 million rows. A related set of older historical data is in a public dataset at: s3.amazonaws.com/trial-datasets/SalesOffload with 37,595,550 rows\n",
    "\n",
    "Tables:\n",
    "- Sales_Fact - Row Count: 5,238,060"
   ]
  },
  {
   "cell_type": "code",
   "execution_count": null,
   "id": "f2f5528a",
   "metadata": {},
   "outputs": [],
   "source": [
    "%run -i ../run_procedure.py \"call get_data('DEMO_SalesOffload_cloud')\";"
   ]
  },
  {
   "cell_type": "code",
   "execution_count": null,
   "id": "1cd98870",
   "metadata": {},
   "outputs": [],
   "source": [
    "%run -i ../run_procedure.py \"call get_data('DEMO_SalesOffload_local')\";"
   ]
  },
  {
   "cell_type": "code",
   "execution_count": null,
   "id": "47262794",
   "metadata": {},
   "outputs": [],
   "source": [
    "%run -i ../run_procedure.py \"call remove_data('DEMO_SalesOffload')\";   # only needed if you want to clean up space"
   ]
  },
  {
   "cell_type": "markdown",
   "id": "0ef1c8d1",
   "metadata": {},
   "source": [
    "### DEMO_TelcoNetwork\n",
    "The database DEMO_TelcoNetwork provides information about \n",
    "\n",
    "It is used by:\n",
    "\n",
    "\n",
    "Tables:\n",
    "- Cell_Towers\n",
    "- Cust_Experience\n",
    "- Cust_Journey\n"
   ]
  },
  {
   "cell_type": "code",
   "execution_count": null,
   "id": "9bcef5c6",
   "metadata": {},
   "outputs": [],
   "source": [
    "%run -i ../run_procedure.py \"call get_data('DEMO_TelcoNetwork_cloud')\";"
   ]
  },
  {
   "cell_type": "code",
   "execution_count": null,
   "id": "489179cb",
   "metadata": {},
   "outputs": [],
   "source": [
    "%run -i ../run_procedure.py \"call get_data('DEMO_TelcoNetwork_local')\";"
   ]
  },
  {
   "cell_type": "code",
   "execution_count": null,
   "id": "4281e6c6",
   "metadata": {},
   "outputs": [],
   "source": [
    "%run -i ../run_procedure.py \"call remove_data('DEMO_TelcoNetwork')\";   # only needed if you want to clean up space"
   ]
  },
  {
   "cell_type": "markdown",
   "id": "a0956463",
   "metadata": {},
   "source": [
    "### DEMO_TPCH_1Gb\n",
    "This consists of the 8 tables that make up the TPCH Benchmark.  Since this tiny platform is for functional testing, the scale of this data is 1 GB. This is provided as a coordinated set of tables to use with your BI tools. (The TPC-H queries are not representative of the typical mixed workload we observe on production platforms since 82% scan over 24 months of data.  The data lacks realistic skew. For example, there are exactly 4 line items for every order).   \n",
    "\n",
    "The tables include:\n",
    "-  CUSTOMER - 150,0009 rows\n",
    "-  LINEITEM - 6,001,2159 rows\n",
    "-  NATION - 259 rows\n",
    "-  ORDERS - 1,500,0009 rows\n",
    "-  PART - 200,0009 rows\n",
    "-  PARTSUPP - 800,0009 rows\n",
    "-  REGION - 59 rows\n",
    "-  SUPPLIER - 10,0009 rows"
   ]
  },
  {
   "cell_type": "code",
   "execution_count": null,
   "id": "832b0a98",
   "metadata": {},
   "outputs": [],
   "source": [
    "%run -i ../run_procedure.py \"call get_data('DEMO_TPCH_1Gb_cloud')\";"
   ]
  },
  {
   "cell_type": "code",
   "execution_count": null,
   "id": "e3c8508d",
   "metadata": {},
   "outputs": [],
   "source": [
    "%run -i ../run_procedure.py \"call remove_data('DEMO_TPCH_1Gb')\";   # only needed if you want to clean up space"
   ]
  },
  {
   "cell_type": "markdown",
   "id": "f74b04a7",
   "metadata": {},
   "source": [
    "### DEMO_XSP\n",
    "No description available"
   ]
  },
  {
   "cell_type": "code",
   "execution_count": null,
   "id": "bbc6d7e8",
   "metadata": {},
   "outputs": [],
   "source": [
    "%run -i ../run_procedure.py \"call get_data('DEMO_XSP_cloud')\";"
   ]
  },
  {
   "cell_type": "code",
   "execution_count": null,
   "id": "4487b21e",
   "metadata": {},
   "outputs": [],
   "source": [
    "%run -i ../run_procedure.py \"call get_data('DEMO_XSP_local')\";"
   ]
  },
  {
   "cell_type": "code",
   "execution_count": null,
   "id": "ddf6f686",
   "metadata": {},
   "outputs": [],
   "source": [
    "%run -i ../run_procedure.py \"call remove_data('DEMO_XSP')\";   # only needed if you want to clean up space"
   ]
  },
  {
   "cell_type": "markdown",
   "id": "f93d0ec5",
   "metadata": {},
   "source": [
    "\n",
    "## Description of Databases, Tables, and Other Objects\n",
    "<img  src=\"DemoNow_Table_Design.png\" alt=\"DemoNow_Table_Design\" width=\"600\" align=\"right\" />\n",
    "\n",
    "All data used in DemoNow is provided on Cloud Storage. That data has been exported in Parquet format. For Vantage to access that data, a foreign table is defined with the necessary credentials. For ClearScape Analytics, we create the foreign table definitions in the database gs_tables_db (gs = Google Storage) which also contains the Authentication object. We use a stored procedure to run scripts to create the foreign tables, optionally local tables, and a view database with 1:1 views, macros, and stored procedures needed for those databases. The script suffix indicates which version of tables you will get:\n",
    "<ol>\n",
    "<li> xxx_<b>cloud</b> - uses 1:1 views pointing directly at the foreign tables.  Faster to setup, but slower demo execution</li>\n",
    "<li> xxx_<b>local</b> - imports the data to local tables and creates 1:1 views pointing at the local tables. Slower to set up, faster demo execution, but may cause database storage space considerations.</li>\n",
    "</ol>\n",
    "\n",
    "You can run either the xxx_<b>cloud</b> or xxx_<b>local</b> script, but if you want to switch, you should run the corresponding remove_data procedure. There is also a \"manage_space.py\" routine included at the top of this notebook to display the demo databases, the space used and the space available. You may enter the word \"delete\" followed by the numbers of any databases you want to delete. The table databases end with \"_db\" and the view databases have a similar name without the \"_db\" suffix. \n"
   ]
  },
  {
   "cell_type": "markdown",
   "id": "f2050af6",
   "metadata": {},
   "source": [
    "\n",
    "Copyright © 2022 Teradata Corporation"
   ]
  }
 ],
 "kernelspec": "Python 3",
 "metadata": {},
 "nbformat": 4,
 "nbformat_minor": 5
}
