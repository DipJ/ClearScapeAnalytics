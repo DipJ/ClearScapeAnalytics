{
 "cells": [
  {
   "cell_type": "markdown",
   "id": "honey-michigan",
   "metadata": {},
   "source": [
    "<b style = \"font-size:28px;font-family:Arial;color:#E37C4D\">DemoNow Data Dictionary On NOS</b><img  src=\"Data_Dictionary.png\" alt=\"Data_Dictionary\" width=\"150\" align=\"right\" />\n",
    "\n",
    "\n",
    " This data is being provided in NOS, having been exported from Teradata Vantage Live which was originally publicly sourced data. However, there has been value add to the content and structure of the data, and as such is protected work product of the Teradata Corporation.  It is provided for use with the demonstrations in DemoNow.\n",
    "\n",
    "\n",
    "After each database description are two \"run\" commands:\n",
    "<ol><li> a statement to create foreign tables to link to NOS, create a view database with 1:1 views pointing at those foreign tables, and any semantic views and other object needed by the demonstration</li>\n",
    "<li> a statement to import data from NOS to create local tables and 1:1 views pointing at those local tables. </li></ol>\n",
    "Click in the cell with the \"run\" statement and press SHIFT + ENTER to run either routine. All demonstrations will run either with NOS tables or local tables. The local tables will be faster, however that means you will need to manage local storage.\n",
    "\n",
    "<br>A complete description of the design of these databases is included at the end of this notebook.\n"
   ]
  },
  {
   "cell_type": "markdown",
   "id": "mexican-signature",
   "metadata": {},
   "source": [
    "### Video Introduction to Data Dictionary (2.5 minutes)\n",
    "Click in the cell below and press SHIFT + ENTER to play."
   ]
  },
  {
   "cell_type": "code",
   "execution_count": null,
   "id": "moderate-development",
   "metadata": {},
   "outputs": [],
   "source": [
    "%%HTML\n",
    "<iframe width=\"640\" height=\"360\" src=\"https://web.microsoftstream.com/embed/video/f8fddab8-6f0b-44e8-8594-04d396c78745?autoplay=true&showinfo=true\" allowfullscreen style=\"border:none;\"></iframe>"
   ]
  },
  {
   "cell_type": "markdown",
   "id": "military-protocol",
   "metadata": {},
   "source": [
    "## Manage Your Space \n",
    "You may use the \"manage space\" routine below to view current space usage and available space.  \n"
   ]
  },
  {
   "cell_type": "code",
   "execution_count": null,
   "id": "exposed-wallace",
   "metadata": {},
   "outputs": [],
   "source": [
    "run -i ../../DDL/manage_space.py"
   ]
  },
  {
   "cell_type": "markdown",
   "id": "particular-receiver",
   "metadata": {},
   "source": [
    "## Available Demonstration Databases"
   ]
  },
  {
   "cell_type": "markdown",
   "id": "north-fetish",
   "metadata": {},
   "source": [
    "### TRNG_AML\n",
    "TRNG_AML has 41 tables, 3.5 MB. The largest: transaction_detail, transaction_agg, party_acct\n"
   ]
  },
  {
   "cell_type": "code",
   "execution_count": null,
   "id": "proved-graphics",
   "metadata": {},
   "outputs": [],
   "source": [
    "run -i ../../DDL/create_NOS_tables_and_views.py TRNG_AML.ddl"
   ]
  },
  {
   "cell_type": "code",
   "execution_count": null,
   "id": "greatest-hampshire",
   "metadata": {},
   "outputs": [],
   "source": [
    "run -i ../../DDL/import_tables_and_change_views.py TRNG_AML_db.ddl 1000"
   ]
  },
  {
   "cell_type": "markdown",
   "id": "smooth-manor",
   "metadata": {},
   "source": [
    "### TRNG_AOpsEquipmentFailure\n",
    "TRNG_AOpsEquipmentFailure has 8 tables, 1.8 MB. The largest: stryker_gen_miles, wblMLE_Data, stryker_gen_part_fails\n"
   ]
  },
  {
   "cell_type": "code",
   "execution_count": null,
   "id": "headed-senior",
   "metadata": {},
   "outputs": [],
   "source": [
    "run -i ../../DDL/create_NOS_tables_and_views.py TRNG_AOpsEquipmentFailure.ddl"
   ]
  },
  {
   "cell_type": "code",
   "execution_count": null,
   "id": "offensive-paste",
   "metadata": {},
   "outputs": [],
   "source": [
    "run -i ../../DDL/import_tables_and_change_views.py TRNG_AOpsEquipmentFailure_db.ddl 1000"
   ]
  },
  {
   "cell_type": "markdown",
   "id": "gothic-metallic",
   "metadata": {},
   "source": [
    "### TRNG_AP\n",
    "TRNG_AP has 7 tables, 1.5 MB. The largest: Accounts, Trans, Customer\n"
   ]
  },
  {
   "cell_type": "code",
   "execution_count": null,
   "id": "written-species",
   "metadata": {},
   "outputs": [],
   "source": [
    "run -i ../../DDL/create_NOS_tables_and_views.py TRNG_AP.ddl"
   ]
  },
  {
   "cell_type": "code",
   "execution_count": null,
   "id": "later-edgar",
   "metadata": {},
   "outputs": [],
   "source": [
    "run -i ../../DDL/import_tables_and_change_views.py TRNG_AP_db.ddl 1000"
   ]
  },
  {
   "cell_type": "markdown",
   "id": "binary-brisbane",
   "metadata": {},
   "source": [
    "### TRNG_APJ_TechSummit21\n",
    "TRNG_APJ_TechSummit21 has 2 tables, 0.3 MB. The largest: diabetic_data, hospital_codes\n"
   ]
  },
  {
   "cell_type": "code",
   "execution_count": null,
   "id": "improved-invalid",
   "metadata": {},
   "outputs": [],
   "source": [
    "run -i ../../DDL/create_NOS_tables_and_views.py TRNG_APJ_TechSummit21.ddl"
   ]
  },
  {
   "cell_type": "code",
   "execution_count": null,
   "id": "eight-kingdom",
   "metadata": {},
   "outputs": [],
   "source": [
    "run -i ../../DDL/import_tables_and_change_views.py TRNG_APJ_TechSummit21_db.ddl 1000"
   ]
  },
  {
   "cell_type": "markdown",
   "id": "experimental-healthcare",
   "metadata": {},
   "source": [
    "### TRNG_AnalyticOps\n",
    "TRNG_AnalyticOps has 9 tables, 8.6 MB. The largest: ml__td_xgboost0_15808958607830, AOA_MODELS_3a7e54f5, AOA_MODELS_d68791b5\n"
   ]
  },
  {
   "cell_type": "code",
   "execution_count": null,
   "id": "toxic-bangladesh",
   "metadata": {},
   "outputs": [],
   "source": [
    "run -i ../../DDL/create_NOS_tables_and_views.py TRNG_AnalyticOps.ddl"
   ]
  },
  {
   "cell_type": "code",
   "execution_count": null,
   "id": "interpreted-moment",
   "metadata": {},
   "outputs": [],
   "source": [
    "run -i ../../DDL/import_tables_and_change_views.py TRNG_AnalyticOps_db.ddl 1000"
   ]
  },
  {
   "cell_type": "markdown",
   "id": "pursuant-journalist",
   "metadata": {},
   "source": [
    "### TRNG_AustinBikeShare\n",
    "TRNG_AustinBikeShare has 4 tables, 0.3 MB. The largest: Weather, stations, weather_temporal\n"
   ]
  },
  {
   "cell_type": "code",
   "execution_count": null,
   "id": "processed-interface",
   "metadata": {},
   "outputs": [],
   "source": [
    "run -i ../../DDL/create_NOS_tables_and_views.py TRNG_AustinBikeShare.ddl"
   ]
  },
  {
   "cell_type": "code",
   "execution_count": null,
   "id": "identified-dayton",
   "metadata": {},
   "outputs": [],
   "source": [
    "run -i ../../DDL/import_tables_and_change_views.py TRNG_AustinBikeShare_db.ddl 1000"
   ]
  },
  {
   "cell_type": "markdown",
   "id": "vocal-bullet",
   "metadata": {},
   "source": [
    "### TRNG_BYOM\n",
    "TRNG_BYOM has 42 tables, 45.3 MB. The largest: pmml_models, mojo_models, H2O_JAR\n"
   ]
  },
  {
   "cell_type": "code",
   "execution_count": null,
   "id": "pretty-topic",
   "metadata": {},
   "outputs": [],
   "source": [
    "run -i ../../DDL/create_NOS_tables_and_views.py TRNG_BYOM.ddl"
   ]
  },
  {
   "cell_type": "code",
   "execution_count": null,
   "id": "visible-caution",
   "metadata": {},
   "outputs": [],
   "source": [
    "run -i ../../DDL/import_tables_and_change_views.py TRNG_BYOM_db.ddl 1000"
   ]
  },
  {
   "cell_type": "markdown",
   "id": "jewish-allah",
   "metadata": {},
   "source": [
    "### TRNG_BustOutFraud\n",
    "TRNG_BustOutFraud has 21 tables, 172.8 MB. The largest: trans_feature_day_derived, trans_feature, trans_feature_xgboost_model\n"
   ]
  },
  {
   "cell_type": "code",
   "execution_count": null,
   "id": "metropolitan-liberia",
   "metadata": {},
   "outputs": [],
   "source": [
    "run -i ../../DDL/create_NOS_tables_and_views.py TRNG_BustOutFraud.ddl"
   ]
  },
  {
   "cell_type": "code",
   "execution_count": null,
   "id": "mobile-edition",
   "metadata": {},
   "outputs": [],
   "source": [
    "run -i ../../DDL/import_tables_and_change_views.py TRNG_BustOutFraud_db.ddl 1000"
   ]
  },
  {
   "cell_type": "markdown",
   "id": "instant-victor",
   "metadata": {},
   "source": [
    "### TRNG_CNPFraud\n",
    "TRNG_CNPFraud has 33 tables, 17.8 MB. The largest: cc_transactions, accounts, credit_limit\n"
   ]
  },
  {
   "cell_type": "code",
   "execution_count": null,
   "id": "permanent-garage",
   "metadata": {},
   "outputs": [],
   "source": [
    "run -i ../../DDL/create_NOS_tables_and_views.py TRNG_CNPFraud.ddl"
   ]
  },
  {
   "cell_type": "code",
   "execution_count": null,
   "id": "fifth-gibraltar",
   "metadata": {},
   "outputs": [],
   "source": [
    "run -i ../../DDL/import_tables_and_change_views.py TRNG_CNPFraud_db.ddl 1000"
   ]
  },
  {
   "cell_type": "markdown",
   "id": "aware-royal",
   "metadata": {},
   "source": [
    "### TRNG_CONNECTEDFACTORY\n",
    "TRNG_CONNECTEDFACTORY has 315 tables, 415.3 MB. The largest: MVP_SIM_T_SIM_ADS, MVP_TAB_QM_SCORED, MVP_TAB_QM_RAW\n"
   ]
  },
  {
   "cell_type": "code",
   "execution_count": null,
   "id": "written-means",
   "metadata": {},
   "outputs": [],
   "source": [
    "run -i ../../DDL/create_NOS_tables_and_views.py TRNG_CONNECTEDFACTORY.ddl"
   ]
  },
  {
   "cell_type": "code",
   "execution_count": null,
   "id": "opening-ranch",
   "metadata": {},
   "outputs": [],
   "source": [
    "run -i ../../DDL/import_tables_and_change_views.py TRNG_CONNECTEDFACTORY_db.ddl 1000"
   ]
  },
  {
   "cell_type": "markdown",
   "id": "written-prescription",
   "metadata": {},
   "source": [
    "### TRNG_COVID19\n",
    "TRNG_COVID19 has 388 tables, 1182 MB. The largest: FACT_COVID19_DATAHUB, FACT_Covid_Model_Data_BKP_21_0, FACT_INDICATOR_DASHBOARD_T2_P\n"
   ]
  },
  {
   "cell_type": "code",
   "execution_count": null,
   "id": "important-contents",
   "metadata": {},
   "outputs": [],
   "source": [
    "run -i ../../DDL/create_NOS_tables_and_views.py TRNG_COVID19.ddl"
   ]
  },
  {
   "cell_type": "code",
   "execution_count": null,
   "id": "honey-ranch",
   "metadata": {},
   "outputs": [],
   "source": [
    "run -i ../../DDL/import_tables_and_change_views.py TRNG_COVID19_db.ddl 1000"
   ]
  },
  {
   "cell_type": "markdown",
   "id": "handmade-james",
   "metadata": {},
   "source": [
    "### TRNG_COVID19_GDC\n",
    "TRNG_COVID19_GDC has 66 tables, 12.9 MB. The largest: Kaggle_text_covid_19, Kaggle_Text_data_covid_19, All_tag_tweet_text_data\n"
   ]
  },
  {
   "cell_type": "code",
   "execution_count": null,
   "id": "south-carrier",
   "metadata": {},
   "outputs": [],
   "source": [
    "run -i ../../DDL/create_NOS_tables_and_views.py TRNG_COVID19_GDC.ddl"
   ]
  },
  {
   "cell_type": "code",
   "execution_count": null,
   "id": "noble-reality",
   "metadata": {},
   "outputs": [],
   "source": [
    "run -i ../../DDL/import_tables_and_change_views.py TRNG_COVID19_GDC_db.ddl 1000"
   ]
  },
  {
   "cell_type": "markdown",
   "id": "certain-federal",
   "metadata": {},
   "source": [
    "### TRNG_Collaterals\n",
    "TRNG_Collaterals has 5 tables, 0.3 MB. The largest: Photos, TF_Materials, Orders_1600\n"
   ]
  },
  {
   "cell_type": "code",
   "execution_count": null,
   "id": "moderate-stopping",
   "metadata": {},
   "outputs": [],
   "source": [
    "run -i ../../DDL/create_NOS_tables_and_views.py TRNG_Collaterals.ddl"
   ]
  },
  {
   "cell_type": "code",
   "execution_count": null,
   "id": "sacred-story",
   "metadata": {},
   "outputs": [],
   "source": [
    "run -i ../../DDL/import_tables_and_change_views.py TRNG_Collaterals_db.ddl 1000"
   ]
  },
  {
   "cell_type": "markdown",
   "id": "analyzed-ribbon",
   "metadata": {},
   "source": [
    "### TRNG_ColoradoCrimeDrug\n",
    "TRNG_ColoradoCrimeDrug has 17 tables, 20.7 MB. The largest: DUI_ARREST, CRIME, SEIZED_DRUGS\n"
   ]
  },
  {
   "cell_type": "code",
   "execution_count": null,
   "id": "incorporated-nicholas",
   "metadata": {},
   "outputs": [],
   "source": [
    "run -i ../../DDL/create_NOS_tables_and_views.py TRNG_ColoradoCrimeDrug.ddl"
   ]
  },
  {
   "cell_type": "code",
   "execution_count": null,
   "id": "ancient-meter",
   "metadata": {},
   "outputs": [],
   "source": [
    "run -i ../../DDL/import_tables_and_change_views.py TRNG_ColoradoCrimeDrug_db.ddl 1000"
   ]
  },
  {
   "cell_type": "markdown",
   "id": "systematic-arcade",
   "metadata": {},
   "source": [
    "### TRNG_Covid360\n",
    "TRNG_Covid360 has 37 tables, 193.9 MB. The largest: ADS_simulation_with_risk, ADS_Simulation, ADS_simulation_with_risk_locat\n"
   ]
  },
  {
   "cell_type": "code",
   "execution_count": null,
   "id": "exterior-produce",
   "metadata": {},
   "outputs": [],
   "source": [
    "run -i ../../DDL/create_NOS_tables_and_views.py TRNG_Covid360.ddl"
   ]
  },
  {
   "cell_type": "code",
   "execution_count": null,
   "id": "trained-microphone",
   "metadata": {},
   "outputs": [],
   "source": [
    "run -i ../../DDL/import_tables_and_change_views.py TRNG_Covid360_db.ddl 1000"
   ]
  },
  {
   "cell_type": "markdown",
   "id": "committed-doctor",
   "metadata": {},
   "source": [
    "### TRNG_DOJTextAnalysis\n",
    "TRNG_DOJTextAnalysis has 13 tables, 20.3 MB. The largest: AMZ_FINE_FOOD_REVIEWS, AMZ_FINE_FOOD_REVIEWS_text_out, AMZ_FINE_FOOD_REVIEWS3_text_ou\n"
   ]
  },
  {
   "cell_type": "code",
   "execution_count": null,
   "id": "printable-arctic",
   "metadata": {},
   "outputs": [],
   "source": [
    "run -i ../../DDL/create_NOS_tables_and_views.py TRNG_DOJTextAnalysis.ddl"
   ]
  },
  {
   "cell_type": "code",
   "execution_count": null,
   "id": "faced-logic",
   "metadata": {},
   "outputs": [],
   "source": [
    "run -i ../../DDL/import_tables_and_change_views.py TRNG_DOJTextAnalysis_db.ddl 1000"
   ]
  },
  {
   "cell_type": "markdown",
   "id": "suspended-rates",
   "metadata": {},
   "source": [
    "### TRNG_DS\n",
    "TRNG_DS has 3 tables, 20 MB. The largest: Orders_1600, Orders, Orders_2021\n"
   ]
  },
  {
   "cell_type": "code",
   "execution_count": null,
   "id": "whole-seeking",
   "metadata": {},
   "outputs": [],
   "source": [
    "run -i ../../DDL/create_NOS_tables_and_views.py TRNG_DS.ddl"
   ]
  },
  {
   "cell_type": "code",
   "execution_count": null,
   "id": "explicit-japanese",
   "metadata": {},
   "outputs": [],
   "source": [
    "run -i ../../DDL/import_tables_and_change_views.py TRNG_DS_db.ddl 1000"
   ]
  },
  {
   "cell_type": "markdown",
   "id": "computational-geography",
   "metadata": {},
   "source": [
    "### TRNG_DataScienceExploration\n",
    "TRNG_DataScienceExploration has 11 tables, 76.9 MB. The largest: ROSSMANN_SALES, ROSSMANN_SALES_STG, MOVIE_LENS\n"
   ]
  },
  {
   "cell_type": "code",
   "execution_count": null,
   "id": "narrative-telescope",
   "metadata": {},
   "outputs": [],
   "source": [
    "run -i ../../DDL/create_NOS_tables_and_views.py TRNG_DataScienceExploration.ddl"
   ]
  },
  {
   "cell_type": "code",
   "execution_count": null,
   "id": "obvious-confidentiality",
   "metadata": {},
   "outputs": [],
   "source": [
    "run -i ../../DDL/import_tables_and_change_views.py TRNG_DataScienceExploration_db.ddl 1000"
   ]
  },
  {
   "cell_type": "markdown",
   "id": "unable-knight",
   "metadata": {},
   "source": [
    "### TRNG_DigitalEvents\n",
    "TRNG_DigitalEvents has 2 tables, 15.4 MB. The largest: Mobile_Money_Txns, Digital_Retail_Events\n"
   ]
  },
  {
   "cell_type": "code",
   "execution_count": null,
   "id": "cleared-summary",
   "metadata": {},
   "outputs": [],
   "source": [
    "run -i ../../DDL/create_NOS_tables_and_views.py TRNG_DigitalEvents.ddl"
   ]
  },
  {
   "cell_type": "code",
   "execution_count": null,
   "id": "interim-canadian",
   "metadata": {},
   "outputs": [],
   "source": [
    "run -i ../../DDL/import_tables_and_change_views.py TRNG_DigitalEvents_db.ddl 1000"
   ]
  },
  {
   "cell_type": "markdown",
   "id": "square-mineral",
   "metadata": {},
   "source": [
    "### TRNG_EVCarBattery\n",
    "TRNG_EVCarBattery has 10 tables, 2.5 MB. The largest: bom, customers, vehicles\n"
   ]
  },
  {
   "cell_type": "code",
   "execution_count": null,
   "id": "fitted-slovakia",
   "metadata": {},
   "outputs": [],
   "source": [
    "run -i ../../DDL/create_NOS_tables_and_views.py TRNG_EVCarBattery.ddl"
   ]
  },
  {
   "cell_type": "code",
   "execution_count": null,
   "id": "advanced-dublin",
   "metadata": {},
   "outputs": [],
   "source": [
    "run -i ../../DDL/import_tables_and_change_views.py TRNG_EVCarBattery_db.ddl 1000"
   ]
  },
  {
   "cell_type": "markdown",
   "id": "oriental-reverse",
   "metadata": {},
   "source": [
    "### TRNG_EVCarQueryGrid\n",
    "TRNG_EVCarQueryGrid has 9 tables, 2.5 MB. The largest: bom, customers, vehicles\n"
   ]
  },
  {
   "cell_type": "code",
   "execution_count": null,
   "id": "greater-religious",
   "metadata": {},
   "outputs": [],
   "source": [
    "run -i ../../DDL/create_NOS_tables_and_views.py TRNG_EVCarQueryGrid.ddl"
   ]
  },
  {
   "cell_type": "code",
   "execution_count": null,
   "id": "comprehensive-marketplace",
   "metadata": {},
   "outputs": [],
   "source": [
    "run -i ../../DDL/import_tables_and_change_views.py TRNG_EVCarQueryGrid_db.ddl 1000"
   ]
  },
  {
   "cell_type": "markdown",
   "id": "subtle-weight",
   "metadata": {},
   "source": [
    "### TRNG_Energy_Consumption\n",
    "TRNG_Energy_Consumption has 1 tables, 3.2 MB. The largest: energy_no_consumption_datamart\n"
   ]
  },
  {
   "cell_type": "code",
   "execution_count": null,
   "id": "designed-reconstruction",
   "metadata": {},
   "outputs": [],
   "source": [
    "run -i ../../DDL/create_NOS_tables_and_views.py TRNG_Energy_Consumption.ddl"
   ]
  },
  {
   "cell_type": "code",
   "execution_count": null,
   "id": "metropolitan-difference",
   "metadata": {},
   "outputs": [],
   "source": [
    "run -i ../../DDL/import_tables_and_change_views.py TRNG_Energy_Consumption_db.ddl 1000"
   ]
  },
  {
   "cell_type": "markdown",
   "id": "found-watts",
   "metadata": {},
   "source": [
    "### TRNG_EquipFailure\n",
    "TRNG_EquipFailure has 13 tables, 6.8 MB. The largest: DEMO_EQUIP_TESTING, DEMO_EQUIP_TRAINING_model_pred, DEMO_EQUIP_TRAINING\n"
   ]
  },
  {
   "cell_type": "code",
   "execution_count": null,
   "id": "victorian-intranet",
   "metadata": {},
   "outputs": [],
   "source": [
    "run -i ../../DDL/create_NOS_tables_and_views.py TRNG_EquipFailure.ddl"
   ]
  },
  {
   "cell_type": "code",
   "execution_count": null,
   "id": "experienced-tourist",
   "metadata": {},
   "outputs": [],
   "source": [
    "run -i ../../DDL/import_tables_and_change_views.py TRNG_EquipFailure_db.ddl 1000"
   ]
  },
  {
   "cell_type": "markdown",
   "id": "chronic-criterion",
   "metadata": {},
   "source": [
    "### TRNG_FSCustomerJourney\n",
    "TRNG_FSCustomerJourney has 32 tables, 3.3 MB. The largest: ich_banking, ich_banking_nonchurn_paths_tok, customers\n"
   ]
  },
  {
   "cell_type": "code",
   "execution_count": null,
   "id": "personalized-albuquerque",
   "metadata": {},
   "outputs": [],
   "source": [
    "run -i ../../DDL/create_NOS_tables_and_views.py TRNG_FSCustomerJourney.ddl"
   ]
  },
  {
   "cell_type": "code",
   "execution_count": null,
   "id": "intimate-flashing",
   "metadata": {},
   "outputs": [],
   "source": [
    "run -i ../../DDL/import_tables_and_change_views.py TRNG_FSCustomerJourney_db.ddl 1000"
   ]
  },
  {
   "cell_type": "markdown",
   "id": "confident-costs",
   "metadata": {},
   "source": [
    "### TRNG_FinancialProtection\n",
    "TRNG_FinancialProtection has 1 tables, 642.3 MB. The largest: consumer_complaints\n"
   ]
  },
  {
   "cell_type": "code",
   "execution_count": null,
   "id": "relevant-shareware",
   "metadata": {},
   "outputs": [],
   "source": [
    "run -i ../../DDL/create_NOS_tables_and_views.py TRNG_FinancialProtection.ddl"
   ]
  },
  {
   "cell_type": "code",
   "execution_count": null,
   "id": "minor-trailer",
   "metadata": {},
   "outputs": [],
   "source": [
    "run -i ../../DDL/import_tables_and_change_views.py TRNG_FinancialProtection_db.ddl 1000"
   ]
  },
  {
   "cell_type": "markdown",
   "id": "fifteen-potter",
   "metadata": {},
   "source": [
    "### TRNG_FinancialProtection_db\n",
    "No description available"
   ]
  },
  {
   "cell_type": "code",
   "execution_count": null,
   "id": "ultimate-turkish",
   "metadata": {},
   "outputs": [],
   "source": [
    "run -i ../../DDL/create_NOS_tables_and_views.py TRNG_FinancialProtection_db.ddl"
   ]
  },
  {
   "cell_type": "code",
   "execution_count": null,
   "id": "mysterious-england",
   "metadata": {},
   "outputs": [],
   "source": [
    "run -i ../../DDL/import_tables_and_change_views.py TRNG_FinancialProtection_db_db.ddl 1000"
   ]
  },
  {
   "cell_type": "markdown",
   "id": "mysterious-attempt",
   "metadata": {},
   "source": [
    "### TRNG_GTPredictiveMaintenanceDe\n",
    "TRNG_GTPredictiveMaintenanceDe has 56 tables, 43.7 MB. The largest: PCAScaled_train, traintest, mli_Scale_byCluster\n"
   ]
  },
  {
   "cell_type": "code",
   "execution_count": null,
   "id": "marked-profession",
   "metadata": {},
   "outputs": [],
   "source": [
    "run -i ../../DDL/create_NOS_tables_and_views.py TRNG_GTPredictiveMaintenanceDe.ddl"
   ]
  },
  {
   "cell_type": "code",
   "execution_count": null,
   "id": "incoming-liberal",
   "metadata": {},
   "outputs": [],
   "source": [
    "run -i ../../DDL/import_tables_and_change_views.py TRNG_GTPredictiveMaintenanceDe_db.ddl 1000"
   ]
  },
  {
   "cell_type": "markdown",
   "id": "outdoor-avenue",
   "metadata": {},
   "source": [
    "### TRNG_GamingSessions\n",
    "TRNG_GamingSessions has 10 tables, 2 MB. The largest: gaming_events_sessions_similar, gaming_events_sessions_simil, gaming_events_sessions_simil_d\n"
   ]
  },
  {
   "cell_type": "code",
   "execution_count": null,
   "id": "promotional-compatibility",
   "metadata": {},
   "outputs": [],
   "source": [
    "run -i ../../DDL/create_NOS_tables_and_views.py TRNG_GamingSessions.ddl"
   ]
  },
  {
   "cell_type": "code",
   "execution_count": null,
   "id": "according-interview",
   "metadata": {},
   "outputs": [],
   "source": [
    "run -i ../../DDL/import_tables_and_change_views.py TRNG_GamingSessions_db.ddl 1000"
   ]
  },
  {
   "cell_type": "markdown",
   "id": "worse-monthly",
   "metadata": {},
   "source": [
    "### TRNG_Government\n",
    "TRNG_Government has 14 tables, 55.8 MB. The largest: COVID19_RAWMOD, atbats, npath_plus\n"
   ]
  },
  {
   "cell_type": "code",
   "execution_count": null,
   "id": "honey-proceeding",
   "metadata": {},
   "outputs": [],
   "source": [
    "run -i ../../DDL/create_NOS_tables_and_views.py TRNG_Government.ddl"
   ]
  },
  {
   "cell_type": "code",
   "execution_count": null,
   "id": "tropical-failing",
   "metadata": {},
   "outputs": [],
   "source": [
    "run -i ../../DDL/import_tables_and_change_views.py TRNG_Government_db.ddl 1000"
   ]
  },
  {
   "cell_type": "markdown",
   "id": "willing-injection",
   "metadata": {},
   "source": [
    "### TRNG_HEALTHCARE\n",
    "TRNG_HEALTHCARE has 82 tables, 948.1 MB. The largest: va_observations_full, va_medications, va_encounters\n"
   ]
  },
  {
   "cell_type": "code",
   "execution_count": null,
   "id": "balanced-integrity",
   "metadata": {},
   "outputs": [],
   "source": [
    "run -i ../../DDL/create_NOS_tables_and_views.py TRNG_HEALTHCARE.ddl"
   ]
  },
  {
   "cell_type": "code",
   "execution_count": null,
   "id": "endless-devil",
   "metadata": {},
   "outputs": [],
   "source": [
    "run -i ../../DDL/import_tables_and_change_views.py TRNG_HEALTHCARE_db.ddl 1000"
   ]
  },
  {
   "cell_type": "markdown",
   "id": "alternate-butter",
   "metadata": {},
   "source": [
    "### TRNG_HealthcareSurgery\n",
    "TRNG_HealthcareSurgery has 14 tables, 19.3 MB. The largest: healthcarecfilter, healthcare_surgery_events, healthcare_all_paths_tfidf\n"
   ]
  },
  {
   "cell_type": "code",
   "execution_count": null,
   "id": "characteristic-alberta",
   "metadata": {},
   "outputs": [],
   "source": [
    "run -i ../../DDL/create_NOS_tables_and_views.py TRNG_HealthcareSurgery.ddl"
   ]
  },
  {
   "cell_type": "code",
   "execution_count": null,
   "id": "satellite-polymer",
   "metadata": {},
   "outputs": [],
   "source": [
    "run -i ../../DDL/import_tables_and_change_views.py TRNG_HealthcareSurgery_db.ddl 1000"
   ]
  },
  {
   "cell_type": "markdown",
   "id": "careful-percentage",
   "metadata": {},
   "source": [
    "### TRNG_IdentityMatch\n",
    "TRNG_IdentityMatch has 2 tables, 0.3 MB. The largest: REF_GOLDEN_CUST, AC_CUSTOMER_EXTERNAL_DATA\n"
   ]
  },
  {
   "cell_type": "code",
   "execution_count": null,
   "id": "allied-municipality",
   "metadata": {},
   "outputs": [],
   "source": [
    "run -i ../../DDL/create_NOS_tables_and_views.py TRNG_IdentityMatch.ddl"
   ]
  },
  {
   "cell_type": "code",
   "execution_count": null,
   "id": "dress-subject",
   "metadata": {},
   "outputs": [],
   "source": [
    "run -i ../../DDL/import_tables_and_change_views.py TRNG_IdentityMatch_db.ddl 1000"
   ]
  },
  {
   "cell_type": "markdown",
   "id": "joined-sewing",
   "metadata": {},
   "source": [
    "### TRNG_IndoorSensor\n",
    "TRNG_IndoorSensor has 2 tables, 0.6 MB. The largest: connectivity, sensor_locations\n"
   ]
  },
  {
   "cell_type": "code",
   "execution_count": null,
   "id": "amended-green",
   "metadata": {},
   "outputs": [],
   "source": [
    "run -i ../../DDL/create_NOS_tables_and_views.py TRNG_IndoorSensor.ddl"
   ]
  },
  {
   "cell_type": "code",
   "execution_count": null,
   "id": "quantitative-crawford",
   "metadata": {},
   "outputs": [],
   "source": [
    "run -i ../../DDL/import_tables_and_change_views.py TRNG_IndoorSensor_db.ddl 1000"
   ]
  },
  {
   "cell_type": "markdown",
   "id": "cheap-tsunami",
   "metadata": {},
   "source": [
    "### TRNG_KAGGLE\n",
    "TRNG_KAGGLE has 5 tables, 81.8 MB. The largest: AMZ_FINE_FOOD_REVIEWS, BORDER_CROSSING, BORDER_CROSSING_SCRATCH\n"
   ]
  },
  {
   "cell_type": "code",
   "execution_count": null,
   "id": "strategic-nutrition",
   "metadata": {},
   "outputs": [],
   "source": [
    "run -i ../../DDL/create_NOS_tables_and_views.py TRNG_KAGGLE.ddl"
   ]
  },
  {
   "cell_type": "code",
   "execution_count": null,
   "id": "universal-maple",
   "metadata": {},
   "outputs": [],
   "source": [
    "run -i ../../DDL/import_tables_and_change_views.py TRNG_KAGGLE_db.ddl 1000"
   ]
  },
  {
   "cell_type": "markdown",
   "id": "aggregate-oracle",
   "metadata": {},
   "source": [
    "### TRNG_KneeReplacement\n",
    "TRNG_KneeReplacement has 2 tables, 18.7 MB. The largest: knee_replacement\n"
   ]
  },
  {
   "cell_type": "code",
   "execution_count": null,
   "id": "continental-application",
   "metadata": {},
   "outputs": [],
   "source": [
    "run -i ../../DDL/create_NOS_tables_and_views.py TRNG_KneeReplacement.ddl"
   ]
  },
  {
   "cell_type": "code",
   "execution_count": null,
   "id": "czech-barrel",
   "metadata": {},
   "outputs": [],
   "source": [
    "run -i ../../DDL/import_tables_and_change_views.py TRNG_KneeReplacement_db.ddl 1000"
   ]
  },
  {
   "cell_type": "markdown",
   "id": "literary-significance",
   "metadata": {},
   "source": [
    "### TRNG_LifeSciences\n",
    "TRNG_LifeSciences has 16 tables, 28.8 MB. The largest: Observations, Encounter, Medications\n"
   ]
  },
  {
   "cell_type": "code",
   "execution_count": null,
   "id": "interstate-sugar",
   "metadata": {},
   "outputs": [],
   "source": [
    "run -i ../../DDL/create_NOS_tables_and_views.py TRNG_LifeSciences.ddl"
   ]
  },
  {
   "cell_type": "code",
   "execution_count": null,
   "id": "amber-employment",
   "metadata": {},
   "outputs": [],
   "source": [
    "run -i ../../DDL/import_tables_and_change_views.py TRNG_LifeSciences_db.ddl 1000"
   ]
  },
  {
   "cell_type": "markdown",
   "id": "moral-explosion",
   "metadata": {},
   "source": [
    "### TRNG_LondonTube\n",
    "TRNG_LondonTube has 8 tables, 0.8 MB. The largest: TubeLines, TubeStations, Theatres\n"
   ]
  },
  {
   "cell_type": "code",
   "execution_count": null,
   "id": "spare-enzyme",
   "metadata": {},
   "outputs": [],
   "source": [
    "run -i ../../DDL/create_NOS_tables_and_views.py TRNG_LondonTube.ddl"
   ]
  },
  {
   "cell_type": "code",
   "execution_count": null,
   "id": "silent-produce",
   "metadata": {},
   "outputs": [],
   "source": [
    "run -i ../../DDL/import_tables_and_change_views.py TRNG_LondonTube_db.ddl 1000"
   ]
  },
  {
   "cell_type": "markdown",
   "id": "native-cylinder",
   "metadata": {},
   "source": [
    "### TRNG_MOVIES\n",
    "TRNG_MOVIES has 11 tables, 1125.2 MB. The largest: tweets_prep, tweets, tweets_tag_NSFW2\n"
   ]
  },
  {
   "cell_type": "code",
   "execution_count": null,
   "id": "brown-acceptance",
   "metadata": {},
   "outputs": [],
   "source": [
    "run -i ../../DDL/create_NOS_tables_and_views.py TRNG_MOVIES.ddl"
   ]
  },
  {
   "cell_type": "code",
   "execution_count": null,
   "id": "twelve-silicon",
   "metadata": {},
   "outputs": [],
   "source": [
    "run -i ../../DDL/import_tables_and_change_views.py TRNG_MOVIES_db.ddl 1000"
   ]
  },
  {
   "cell_type": "markdown",
   "id": "rental-federation",
   "metadata": {},
   "source": [
    "### TRNG_MedicalImaging\n",
    "TRNG_MedicalImaging has 12 tables, 1.7 MB. The largest: s_dicom_t, r_image_device, k_case\n"
   ]
  },
  {
   "cell_type": "code",
   "execution_count": null,
   "id": "minimal-associate",
   "metadata": {},
   "outputs": [],
   "source": [
    "run -i ../../DDL/create_NOS_tables_and_views.py TRNG_MedicalImaging.ddl"
   ]
  },
  {
   "cell_type": "code",
   "execution_count": null,
   "id": "suspended-chest",
   "metadata": {},
   "outputs": [],
   "source": [
    "run -i ../../DDL/import_tables_and_change_views.py TRNG_MedicalImaging_db.ddl 1000"
   ]
  },
  {
   "cell_type": "markdown",
   "id": "configured-michigan",
   "metadata": {},
   "source": [
    "### TRNG_Movie_Reviews\n",
    "TRNG_Movie_Reviews has 1 tables, 1684 MB. The largest: movie_tweets\n"
   ]
  },
  {
   "cell_type": "code",
   "execution_count": null,
   "id": "lasting-nudist",
   "metadata": {},
   "outputs": [],
   "source": [
    "run -i ../../DDL/create_NOS_tables_and_views.py TRNG_Movie_Reviews.ddl"
   ]
  },
  {
   "cell_type": "code",
   "execution_count": null,
   "id": "cultural-despite",
   "metadata": {},
   "outputs": [],
   "source": [
    "run -i ../../DDL/import_tables_and_change_views.py TRNG_Movie_Reviews_db.ddl 1000"
   ]
  },
  {
   "cell_type": "markdown",
   "id": "corresponding-marine",
   "metadata": {},
   "source": [
    "### TRNG_NOS\n",
    "TRNG_NOS has 1 tables, 0.4 MB. The largest: inputdata\n"
   ]
  },
  {
   "cell_type": "code",
   "execution_count": null,
   "id": "welcome-tanzania",
   "metadata": {},
   "outputs": [],
   "source": [
    "run -i ../../DDL/create_NOS_tables_and_views.py TRNG_NOS.ddl"
   ]
  },
  {
   "cell_type": "code",
   "execution_count": null,
   "id": "surrounded-immigration",
   "metadata": {},
   "outputs": [],
   "source": [
    "run -i ../../DDL/import_tables_and_change_views.py TRNG_NOS_db.ddl 1000"
   ]
  },
  {
   "cell_type": "markdown",
   "id": "revised-confidence",
   "metadata": {},
   "source": [
    "### TRNG_NYCTaxi\n",
    "TRNG_NYCTaxi has 2 tables, 23.6 MB. The largest: trip, trip_fare\n"
   ]
  },
  {
   "cell_type": "code",
   "execution_count": null,
   "id": "plastic-prevention",
   "metadata": {},
   "outputs": [],
   "source": [
    "run -i ../../DDL/create_NOS_tables_and_views.py TRNG_NYCTaxi.ddl"
   ]
  },
  {
   "cell_type": "code",
   "execution_count": null,
   "id": "acute-mobility",
   "metadata": {},
   "outputs": [],
   "source": [
    "run -i ../../DDL/import_tables_and_change_views.py TRNG_NYCTaxi_db.ddl 1000"
   ]
  },
  {
   "cell_type": "markdown",
   "id": "therapeutic-mexican",
   "metadata": {},
   "source": [
    "### TRNG_OilGasDrilling\n",
    "TRNG_OilGasDrilling has 13 tables, 34.2 MB. The largest: Srfc_Sensor_Parms_PPI_Flat_Rig, Srfc_Sensor_Parms_PPI_Flat, DDaaS_Survey_Logs\n"
   ]
  },
  {
   "cell_type": "code",
   "execution_count": null,
   "id": "comfortable-cooking",
   "metadata": {},
   "outputs": [],
   "source": [
    "run -i ../../DDL/create_NOS_tables_and_views.py TRNG_OilGasDrilling.ddl"
   ]
  },
  {
   "cell_type": "code",
   "execution_count": null,
   "id": "amended-conclusion",
   "metadata": {},
   "outputs": [],
   "source": [
    "run -i ../../DDL/import_tables_and_change_views.py TRNG_OilGasDrilling_db.ddl 1000"
   ]
  },
  {
   "cell_type": "markdown",
   "id": "subtle-verse",
   "metadata": {},
   "source": [
    "### TRNG_Oil_Industry\n",
    "TRNG_Oil_Industry has 42 tables, 2039.5 MB. The largest: SRFC_SENSOR_PARMS_PPI_FLAT, SRFC_SENSOR_RIG_STATES, ac_monthly\n"
   ]
  },
  {
   "cell_type": "code",
   "execution_count": null,
   "id": "supported-ceremony",
   "metadata": {},
   "outputs": [],
   "source": [
    "run -i ../../DDL/create_NOS_tables_and_views.py TRNG_Oil_Industry.ddl"
   ]
  },
  {
   "cell_type": "code",
   "execution_count": null,
   "id": "equipped-filing",
   "metadata": {},
   "outputs": [],
   "source": [
    "run -i ../../DDL/import_tables_and_change_views.py TRNG_Oil_Industry_db.ddl 1000"
   ]
  },
  {
   "cell_type": "markdown",
   "id": "accepted-moldova",
   "metadata": {},
   "source": [
    "### TRNG_PD\n",
    "TRNG_PD has 13 tables, 12.5 MB. The largest: EmpPhone, Employee, date_dim\n"
   ]
  },
  {
   "cell_type": "code",
   "execution_count": null,
   "id": "concrete-israeli",
   "metadata": {},
   "outputs": [],
   "source": [
    "run -i ../../DDL/create_NOS_tables_and_views.py TRNG_PD.ddl"
   ]
  },
  {
   "cell_type": "code",
   "execution_count": null,
   "id": "ambient-validation",
   "metadata": {},
   "outputs": [],
   "source": [
    "run -i ../../DDL/import_tables_and_change_views.py TRNG_PD_db.ddl 1000"
   ]
  },
  {
   "cell_type": "markdown",
   "id": "advance-court",
   "metadata": {},
   "source": [
    "### TRNG_PM_Demos\n",
    "No description available"
   ]
  },
  {
   "cell_type": "code",
   "execution_count": null,
   "id": "pending-hammer",
   "metadata": {},
   "outputs": [],
   "source": [
    "run -i ../../DDL/create_NOS_tables_and_views.py TRNG_PM_Demos.ddl"
   ]
  },
  {
   "cell_type": "code",
   "execution_count": null,
   "id": "specialized-folder",
   "metadata": {},
   "outputs": [],
   "source": [
    "run -i ../../DDL/import_tables_and_change_views.py TRNG_PM_Demos_db.ddl 1000"
   ]
  },
  {
   "cell_type": "markdown",
   "id": "previous-homeless",
   "metadata": {},
   "source": [
    "### TRNG_PTC\n",
    "TRNG_PTC has 13 tables, 18.7 MB. The largest: ER_Data_for_Locos, LocoDataCleansed, edr_er_log_8437_0806_08072020\n"
   ]
  },
  {
   "cell_type": "code",
   "execution_count": null,
   "id": "little-cooling",
   "metadata": {},
   "outputs": [],
   "source": [
    "run -i ../../DDL/create_NOS_tables_and_views.py TRNG_PTC.ddl"
   ]
  },
  {
   "cell_type": "code",
   "execution_count": null,
   "id": "former-calvin",
   "metadata": {},
   "outputs": [],
   "source": [
    "run -i ../../DDL/import_tables_and_change_views.py TRNG_PTC_db.ddl 1000"
   ]
  },
  {
   "cell_type": "markdown",
   "id": "delayed-marketplace",
   "metadata": {},
   "source": [
    "### TRNG_QG_DEMO\n",
    "TRNG_QG_DEMO has 23 tables, 31.1 MB. The largest: telco_store, telco_online, telco_callcenter\n"
   ]
  },
  {
   "cell_type": "code",
   "execution_count": null,
   "id": "touched-teaching",
   "metadata": {},
   "outputs": [],
   "source": [
    "run -i ../../DDL/create_NOS_tables_and_views.py TRNG_QG_DEMO.ddl"
   ]
  },
  {
   "cell_type": "code",
   "execution_count": null,
   "id": "assisted-bridge",
   "metadata": {},
   "outputs": [],
   "source": [
    "run -i ../../DDL/import_tables_and_change_views.py TRNG_QG_DEMO_db.ddl 1000"
   ]
  },
  {
   "cell_type": "markdown",
   "id": "extra-vatican",
   "metadata": {},
   "source": [
    "### TRNG_RETAILDSE\n",
    "TRNG_RETAILDSE has 19 tables, 7.7 MB. The largest: WEB_COMMENT, PURCHASE, CUSTOMER\n"
   ]
  },
  {
   "cell_type": "code",
   "execution_count": null,
   "id": "round-tolerance",
   "metadata": {},
   "outputs": [],
   "source": [
    "run -i ../../DDL/create_NOS_tables_and_views.py TRNG_RETAILDSE.ddl"
   ]
  },
  {
   "cell_type": "code",
   "execution_count": null,
   "id": "electric-effort",
   "metadata": {},
   "outputs": [],
   "source": [
    "run -i ../../DDL/import_tables_and_change_views.py TRNG_RETAILDSE_db.ddl 1000"
   ]
  },
  {
   "cell_type": "markdown",
   "id": "graduate-trash",
   "metadata": {},
   "source": [
    "### TRNG_RETAILDSE_DEV\n",
    "TRNG_RETAILDSE_DEV has 23 tables, 17 MB. The largest: NEW_RETAIL_CUST_EVENTS, NEW_RETAIL_ALLCH_EVENT_DESC_MA, CUSTOMER_PURCHASES_FLAT\n"
   ]
  },
  {
   "cell_type": "code",
   "execution_count": null,
   "id": "mathematical-forty",
   "metadata": {},
   "outputs": [],
   "source": [
    "run -i ../../DDL/create_NOS_tables_and_views.py TRNG_RETAILDSE_DEV.ddl"
   ]
  },
  {
   "cell_type": "code",
   "execution_count": null,
   "id": "appropriate-surprise",
   "metadata": {},
   "outputs": [],
   "source": [
    "run -i ../../DDL/import_tables_and_change_views.py TRNG_RETAILDSE_DEV_db.ddl 1000"
   ]
  },
  {
   "cell_type": "markdown",
   "id": "heated-claim",
   "metadata": {},
   "source": [
    "### TRNG_RefineryOptimizer\n",
    "TRNG_RefineryOptimizer has 67 tables, 491.4 MB. The largest: DB250092_RO_SENSOR, DB250092_RO_LAB, DB250092_RO_PRICE\n"
   ]
  },
  {
   "cell_type": "code",
   "execution_count": null,
   "id": "hired-pharmaceutical",
   "metadata": {},
   "outputs": [],
   "source": [
    "run -i ../../DDL/create_NOS_tables_and_views.py TRNG_RefineryOptimizer.ddl"
   ]
  },
  {
   "cell_type": "code",
   "execution_count": null,
   "id": "executive-learning",
   "metadata": {},
   "outputs": [],
   "source": [
    "run -i ../../DDL/import_tables_and_change_views.py TRNG_RefineryOptimizer_db.ddl 1000"
   ]
  },
  {
   "cell_type": "markdown",
   "id": "maritime-lexington",
   "metadata": {},
   "source": [
    "### TRNG_SQLE_TEST\n",
    "TRNG_SQLE_TEST has 56 tables, 2150.8 MB. The largest: train_features, test_features, rf_model\n"
   ]
  },
  {
   "cell_type": "code",
   "execution_count": null,
   "id": "theoretical-flour",
   "metadata": {},
   "outputs": [],
   "source": [
    "run -i ../../DDL/create_NOS_tables_and_views.py TRNG_SQLE_TEST.ddl"
   ]
  },
  {
   "cell_type": "code",
   "execution_count": null,
   "id": "accompanied-trouble",
   "metadata": {},
   "outputs": [],
   "source": [
    "run -i ../../DDL/import_tables_and_change_views.py TRNG_SQLE_TEST_db.ddl 1000"
   ]
  },
  {
   "cell_type": "markdown",
   "id": "incorporated-scene",
   "metadata": {},
   "source": [
    "### TRNG_STOFramework\n",
    "TRNG_STOFramework has 12 tables, 917.7 MB. The largest: test_dataset_redistributed, test_dataset, STO_Output\n"
   ]
  },
  {
   "cell_type": "code",
   "execution_count": null,
   "id": "naughty-winter",
   "metadata": {},
   "outputs": [],
   "source": [
    "run -i ../../DDL/create_NOS_tables_and_views.py TRNG_STOFramework.ddl"
   ]
  },
  {
   "cell_type": "code",
   "execution_count": null,
   "id": "rolled-driver",
   "metadata": {},
   "outputs": [],
   "source": [
    "run -i ../../DDL/import_tables_and_change_views.py TRNG_STOFramework_db.ddl 1000"
   ]
  },
  {
   "cell_type": "markdown",
   "id": "surgical-editing",
   "metadata": {},
   "source": [
    "### TRNG_SalesOffload\n",
    "TRNG_SalesOffload has 1 tables, 215.6 MB. The largest: sales_fact\n"
   ]
  },
  {
   "cell_type": "code",
   "execution_count": null,
   "id": "downtown-rocket",
   "metadata": {},
   "outputs": [],
   "source": [
    "run -i ../../DDL/create_NOS_tables_and_views.py TRNG_SalesOffload.ddl"
   ]
  },
  {
   "cell_type": "code",
   "execution_count": null,
   "id": "addressed-denial",
   "metadata": {},
   "outputs": [],
   "source": [
    "run -i ../../DDL/import_tables_and_change_views.py TRNG_SalesOffload_db.ddl 1000"
   ]
  },
  {
   "cell_type": "markdown",
   "id": "square-raising",
   "metadata": {},
   "source": [
    "### TRNG_SalesPrediction\n",
    "TRNG_SalesPrediction has 1 tables, 1.7 MB. The largest: pandas_stores_rossmann\n"
   ]
  },
  {
   "cell_type": "code",
   "execution_count": null,
   "id": "ahead-suspension",
   "metadata": {},
   "outputs": [],
   "source": [
    "run -i ../../DDL/create_NOS_tables_and_views.py TRNG_SalesPrediction.ddl"
   ]
  },
  {
   "cell_type": "code",
   "execution_count": null,
   "id": "italian-failing",
   "metadata": {},
   "outputs": [],
   "source": [
    "run -i ../../DDL/import_tables_and_change_views.py TRNG_SalesPrediction_db.ddl 1000"
   ]
  },
  {
   "cell_type": "markdown",
   "id": "ordered-burning",
   "metadata": {},
   "source": [
    "### TRNG_SurvivalAnalysis\n",
    "TRNG_SurvivalAnalysis has 2 tables, 0.8 MB. The largest: heart_failure\n"
   ]
  },
  {
   "cell_type": "code",
   "execution_count": null,
   "id": "thrown-quarter",
   "metadata": {},
   "outputs": [],
   "source": [
    "run -i ../../DDL/create_NOS_tables_and_views.py TRNG_SurvivalAnalysis.ddl"
   ]
  },
  {
   "cell_type": "code",
   "execution_count": null,
   "id": "overhead-dubai",
   "metadata": {},
   "outputs": [],
   "source": [
    "run -i ../../DDL/import_tables_and_change_views.py TRNG_SurvivalAnalysis_db.ddl 1000"
   ]
  },
  {
   "cell_type": "markdown",
   "id": "cognitive-length",
   "metadata": {},
   "source": [
    "### TRNG_TAU2018\n",
    "TRNG_TAU2018 has 3 tables, 1.4 MB. The largest: tau_submission, partners2016, partners2014\n"
   ]
  },
  {
   "cell_type": "code",
   "execution_count": null,
   "id": "binary-couple",
   "metadata": {},
   "outputs": [],
   "source": [
    "run -i ../../DDL/create_NOS_tables_and_views.py TRNG_TAU2018.ddl"
   ]
  },
  {
   "cell_type": "code",
   "execution_count": null,
   "id": "destroyed-indonesian",
   "metadata": {},
   "outputs": [],
   "source": [
    "run -i ../../DDL/import_tables_and_change_views.py TRNG_TAU2018_db.ddl 1000"
   ]
  },
  {
   "cell_type": "markdown",
   "id": "ethical-producer",
   "metadata": {},
   "source": [
    "### TRNG_TDRetail\n",
    "TRNG_TDRetail has 169 tables, 6924.7 MB. The largest: da_vinci_100_serie, SALES_TRANSACTION, SALES_TRANSACTION_STAGING\n"
   ]
  },
  {
   "cell_type": "code",
   "execution_count": null,
   "id": "usual-rwanda",
   "metadata": {},
   "outputs": [],
   "source": [
    "run -i ../../DDL/create_NOS_tables_and_views.py TRNG_TDRetail.ddl"
   ]
  },
  {
   "cell_type": "code",
   "execution_count": null,
   "id": "modified-pittsburgh",
   "metadata": {},
   "outputs": [],
   "source": [
    "run -i ../../DDL/import_tables_and_change_views.py TRNG_TDRetail_db.ddl 1000"
   ]
  },
  {
   "cell_type": "markdown",
   "id": "sapphire-generation",
   "metadata": {},
   "source": [
    "### TRNG_TDSysAnalytics\n",
    "TRNG_TDSysAnalytics has 11 tables, 5.5 MB. The largest: CPU_HIST, USER_HIST, DB_HIST\n"
   ]
  },
  {
   "cell_type": "code",
   "execution_count": null,
   "id": "experimental-apache",
   "metadata": {},
   "outputs": [],
   "source": [
    "run -i ../../DDL/create_NOS_tables_and_views.py TRNG_TDSysAnalytics.ddl"
   ]
  },
  {
   "cell_type": "code",
   "execution_count": null,
   "id": "ethical-gabriel",
   "metadata": {},
   "outputs": [],
   "source": [
    "run -i ../../DDL/import_tables_and_change_views.py TRNG_TDSysAnalytics_db.ddl 1000"
   ]
  },
  {
   "cell_type": "markdown",
   "id": "lesser-fiber",
   "metadata": {},
   "source": [
    "### TRNG_TDU_CustomerService\n",
    "TRNG_TDU_CustomerService has 21 tables, 0.8 MB. The largest: Accounts, emp_phone_2010, agent_sales\n"
   ]
  },
  {
   "cell_type": "code",
   "execution_count": null,
   "id": "disabled-removal",
   "metadata": {},
   "outputs": [],
   "source": [
    "run -i ../../DDL/create_NOS_tables_and_views.py TRNG_TDU_CustomerService.ddl"
   ]
  },
  {
   "cell_type": "code",
   "execution_count": null,
   "id": "electric-swedish",
   "metadata": {},
   "outputs": [],
   "source": [
    "run -i ../../DDL/import_tables_and_change_views.py TRNG_TDU_CustomerService_db.ddl 1000"
   ]
  },
  {
   "cell_type": "markdown",
   "id": "numerous-classics",
   "metadata": {},
   "source": [
    "### TRNG_TDU_Employee_Sales\n",
    "TRNG_TDU_Employee_Sales has 13 tables, 0.4 MB. The largest: Customer, Location, Location_Phone\n"
   ]
  },
  {
   "cell_type": "code",
   "execution_count": null,
   "id": "mysterious-james",
   "metadata": {},
   "outputs": [],
   "source": [
    "run -i ../../DDL/create_NOS_tables_and_views.py TRNG_TDU_Employee_Sales.ddl"
   ]
  },
  {
   "cell_type": "code",
   "execution_count": null,
   "id": "auburn-leone",
   "metadata": {},
   "outputs": [],
   "source": [
    "run -i ../../DDL/import_tables_and_change_views.py TRNG_TDU_Employee_Sales_db.ddl 1000"
   ]
  },
  {
   "cell_type": "markdown",
   "id": "julian-reynolds",
   "metadata": {},
   "source": [
    "### TRNG_TDU_FACTORY\n",
    "No description available"
   ]
  },
  {
   "cell_type": "code",
   "execution_count": null,
   "id": "distant-philosophy",
   "metadata": {},
   "outputs": [],
   "source": [
    "run -i ../../DDL/create_NOS_tables_and_views.py TRNG_TDU_FACTORY.ddl"
   ]
  },
  {
   "cell_type": "code",
   "execution_count": null,
   "id": "blond-delaware",
   "metadata": {},
   "outputs": [],
   "source": [
    "run -i ../../DDL/import_tables_and_change_views.py TRNG_TDU_FACTORY_db.ddl 1000"
   ]
  },
  {
   "cell_type": "markdown",
   "id": "cubic-teacher",
   "metadata": {},
   "source": [
    "### TRNG_TDU_Orders\n",
    "TRNG_TDU_Orders has 3 tables, 0.6 MB. The largest: orders_2012, orders_2013, orders\n"
   ]
  },
  {
   "cell_type": "code",
   "execution_count": null,
   "id": "compact-three",
   "metadata": {},
   "outputs": [],
   "source": [
    "run -i ../../DDL/create_NOS_tables_and_views.py TRNG_TDU_Orders.ddl"
   ]
  },
  {
   "cell_type": "code",
   "execution_count": null,
   "id": "hispanic-calendar",
   "metadata": {},
   "outputs": [],
   "source": [
    "run -i ../../DDL/import_tables_and_change_views.py TRNG_TDU_Orders_db.ddl 1000"
   ]
  },
  {
   "cell_type": "markdown",
   "id": "hourly-kelly",
   "metadata": {},
   "source": [
    "### TRNG_TDU_Students\n",
    "TRNG_TDU_Students has 4 tables, 0.4 MB. The largest: Orders, City, State\n"
   ]
  },
  {
   "cell_type": "code",
   "execution_count": null,
   "id": "assumed-serbia",
   "metadata": {},
   "outputs": [],
   "source": [
    "run -i ../../DDL/create_NOS_tables_and_views.py TRNG_TDU_Students.ddl"
   ]
  },
  {
   "cell_type": "code",
   "execution_count": null,
   "id": "racial-thing",
   "metadata": {},
   "outputs": [],
   "source": [
    "run -i ../../DDL/import_tables_and_change_views.py TRNG_TDU_Students_db.ddl 1000"
   ]
  },
  {
   "cell_type": "markdown",
   "id": "negative-trigger",
   "metadata": {},
   "source": [
    "### TRNG_TDU_TD01\n",
    "TRNG_TDU_TD01 has 361 tables, 325.5 MB. The largest: fire_calls, fire_incidents, chips_weblog\n"
   ]
  },
  {
   "cell_type": "code",
   "execution_count": null,
   "id": "varying-religion",
   "metadata": {},
   "outputs": [],
   "source": [
    "run -i ../../DDL/create_NOS_tables_and_views.py TRNG_TDU_TD01.ddl"
   ]
  },
  {
   "cell_type": "code",
   "execution_count": null,
   "id": "elder-glossary",
   "metadata": {},
   "outputs": [],
   "source": [
    "run -i ../../DDL/import_tables_and_change_views.py TRNG_TDU_TD01_db.ddl 1000"
   ]
  },
  {
   "cell_type": "markdown",
   "id": "younger-thing",
   "metadata": {},
   "source": [
    "### TRNG_TECHBYTES\n",
    "TRNG_TECHBYTES has 20 tables, 2.5 MB. The largest: Acct_Ind, Accounts, ml__valib_transform_1614360874\n"
   ]
  },
  {
   "cell_type": "code",
   "execution_count": null,
   "id": "lyric-violence",
   "metadata": {},
   "outputs": [],
   "source": [
    "run -i ../../DDL/create_NOS_tables_and_views.py TRNG_TECHBYTES.ddl"
   ]
  },
  {
   "cell_type": "code",
   "execution_count": null,
   "id": "decimal-friend",
   "metadata": {},
   "outputs": [],
   "source": [
    "run -i ../../DDL/import_tables_and_change_views.py TRNG_TECHBYTES_db.ddl 1000"
   ]
  },
  {
   "cell_type": "markdown",
   "id": "dietary-sauce",
   "metadata": {},
   "source": [
    "### TRNG_TJ\n",
    "TRNG_TJ has 1 tables, 57.1 MB. The largest: dwh_coveo\n"
   ]
  },
  {
   "cell_type": "code",
   "execution_count": null,
   "id": "sharp-victorian",
   "metadata": {},
   "outputs": [],
   "source": [
    "run -i ../../DDL/create_NOS_tables_and_views.py TRNG_TJ.ddl"
   ]
  },
  {
   "cell_type": "code",
   "execution_count": null,
   "id": "italic-wildlife",
   "metadata": {},
   "outputs": [],
   "source": [
    "run -i ../../DDL/import_tables_and_change_views.py TRNG_TJ_db.ddl 1000"
   ]
  },
  {
   "cell_type": "markdown",
   "id": "identical-proceeding",
   "metadata": {},
   "source": [
    "### TRNG_Telco\n",
    "TRNG_Telco has 3 tables, 2.6 MB. The largest: telco_events, telco_testing, telco_training\n"
   ]
  },
  {
   "cell_type": "code",
   "execution_count": null,
   "id": "convinced-india",
   "metadata": {},
   "outputs": [],
   "source": [
    "run -i ../../DDL/create_NOS_tables_and_views.py TRNG_Telco.ddl"
   ]
  },
  {
   "cell_type": "code",
   "execution_count": null,
   "id": "visible-sword",
   "metadata": {},
   "outputs": [],
   "source": [
    "run -i ../../DDL/import_tables_and_change_views.py TRNG_Telco_db.ddl 1000"
   ]
  },
  {
   "cell_type": "markdown",
   "id": "outdoor-madrid",
   "metadata": {},
   "source": [
    "### TRNG_TelcoChurn\n",
    "TRNG_TelcoChurn has 50 tables, 68.5 MB. The largest: csi_telco_all_nonchurn_paths_t, telco_cdr_data, csi_telco_data\n"
   ]
  },
  {
   "cell_type": "code",
   "execution_count": null,
   "id": "frozen-mandate",
   "metadata": {},
   "outputs": [],
   "source": [
    "run -i ../../DDL/create_NOS_tables_and_views.py TRNG_TelcoChurn.ddl"
   ]
  },
  {
   "cell_type": "code",
   "execution_count": null,
   "id": "parliamentary-holocaust",
   "metadata": {},
   "outputs": [],
   "source": [
    "run -i ../../DDL/import_tables_and_change_views.py TRNG_TelcoChurn_db.ddl 1000"
   ]
  },
  {
   "cell_type": "markdown",
   "id": "regulation-martin",
   "metadata": {},
   "source": [
    "### TRNG_TelcoNetwork\n",
    "TRNG_TelcoNetwork has 20 tables, 2.1 MB. The largest: NEXTGEN_MOBILE_NW_CUST_JOURNEY, NEXTGEN_MOBILE_NW_GPSLOC_CUM_E, NEXTGEN_MOBILE_NW_POSTAL_ZONES\n"
   ]
  },
  {
   "cell_type": "code",
   "execution_count": null,
   "id": "heated-happiness",
   "metadata": {},
   "outputs": [],
   "source": [
    "run -i ../../DDL/create_NOS_tables_and_views.py TRNG_TelcoNetwork.ddl"
   ]
  },
  {
   "cell_type": "code",
   "execution_count": null,
   "id": "cubic-bargain",
   "metadata": {},
   "outputs": [],
   "source": [
    "run -i ../../DDL/import_tables_and_change_views.py TRNG_TelcoNetwork_db.ddl 1000"
   ]
  },
  {
   "cell_type": "markdown",
   "id": "russian-motor",
   "metadata": {},
   "source": [
    "### TRNG_TeradataSocial\n",
    "TRNG_TeradataSocial has 5 tables, 0.6 MB. The largest: Sprinklr, Events, Events_stg\n"
   ]
  },
  {
   "cell_type": "code",
   "execution_count": null,
   "id": "hairy-vehicle",
   "metadata": {},
   "outputs": [],
   "source": [
    "run -i ../../DDL/create_NOS_tables_and_views.py TRNG_TeradataSocial.ddl"
   ]
  },
  {
   "cell_type": "code",
   "execution_count": null,
   "id": "bizarre-cooperation",
   "metadata": {},
   "outputs": [],
   "source": [
    "run -i ../../DDL/import_tables_and_change_views.py TRNG_TeradataSocial_db.ddl 1000"
   ]
  },
  {
   "cell_type": "markdown",
   "id": "fifteen-wonder",
   "metadata": {},
   "source": [
    "### TRNG_UX\n",
    "TRNG_UX has 3 tables, 0.3 MB. The largest: UXUserDatabase, QUALITY, INSIGHTS_DOVETAIL\n"
   ]
  },
  {
   "cell_type": "code",
   "execution_count": null,
   "id": "outer-zoning",
   "metadata": {},
   "outputs": [],
   "source": [
    "run -i ../../DDL/create_NOS_tables_and_views.py TRNG_UX.ddl"
   ]
  },
  {
   "cell_type": "code",
   "execution_count": null,
   "id": "accessory-might",
   "metadata": {},
   "outputs": [],
   "source": [
    "run -i ../../DDL/import_tables_and_change_views.py TRNG_UX_db.ddl 1000"
   ]
  },
  {
   "cell_type": "markdown",
   "id": "physical-tracker",
   "metadata": {},
   "source": [
    "### TRNG_VA_SCRATCH\n",
    "TRNG_VA_SCRATCH has 3 tables, 0.3 MB. The largest: VL_ops_check_ins, rf_test_1, test_1_rf185023\n"
   ]
  },
  {
   "cell_type": "code",
   "execution_count": null,
   "id": "systematic-trunk",
   "metadata": {},
   "outputs": [],
   "source": [
    "run -i ../../DDL/create_NOS_tables_and_views.py TRNG_VA_SCRATCH.ddl"
   ]
  },
  {
   "cell_type": "code",
   "execution_count": null,
   "id": "capable-stereo",
   "metadata": {},
   "outputs": [],
   "source": [
    "run -i ../../DDL/import_tables_and_change_views.py TRNG_VA_SCRATCH_db.ddl 1000"
   ]
  },
  {
   "cell_type": "markdown",
   "id": "outer-provider",
   "metadata": {},
   "source": [
    "### TRNG_XSP\n",
    "TRNG_XSP has 34 tables, 39.3 MB. The largest: Transactions, TWMS_Smirnov, TWMS_ShapiroWilkCoefficients\n"
   ]
  },
  {
   "cell_type": "code",
   "execution_count": null,
   "id": "dramatic-footage",
   "metadata": {},
   "outputs": [],
   "source": [
    "run -i ../../DDL/create_NOS_tables_and_views.py TRNG_XSP.ddl"
   ]
  },
  {
   "cell_type": "code",
   "execution_count": null,
   "id": "important-pioneer",
   "metadata": {},
   "outputs": [],
   "source": [
    "run -i ../../DDL/import_tables_and_change_views.py TRNG_XSP_db.ddl 1000"
   ]
  },
  {
   "cell_type": "markdown",
   "id": "excellent-remedy",
   "metadata": {},
   "source": [
    "### TRNG_iVSM\n",
    "TRNG_iVSM has 20 tables, 604 MB. The largest: test_dataset_redistributed, test_dataset, propensitytobuy_models\n"
   ]
  },
  {
   "cell_type": "code",
   "execution_count": null,
   "id": "preceding-sunday",
   "metadata": {},
   "outputs": [],
   "source": [
    "run -i ../../DDL/create_NOS_tables_and_views.py TRNG_iVSM.ddl"
   ]
  },
  {
   "cell_type": "code",
   "execution_count": null,
   "id": "spectacular-improvement",
   "metadata": {},
   "outputs": [],
   "source": [
    "run -i ../../DDL/import_tables_and_change_views.py TRNG_iVSM_db.ddl 1000"
   ]
  },
  {
   "cell_type": "markdown",
   "id": "domestic-sensitivity",
   "metadata": {},
   "source": [
    "\n",
    "## Description of Databases, Tables, and Other Objects\n",
    "\n",
    "All data used in DemoNow is provided on Network Optimized Storage (NOS). That data has been exported in Parquet format. For Vantage to access that data, a foreign table is defined with the necessary credentials. For DemoNow, we create all of those definitions in the database gs_tables_db (gs = Google Storage) which also contains the Authentication object. \n",
    "\n",
    "These tables were originally created on a database internal to the Teradata Corporation from publicly available data sources. The authors of demos referenced those tables and created other objects such as semantic views, macros, and stored procedures in those databases. To allow those demos to run with minimum changes, we create databases with views that provide 1:1 mapping to the foreign tables in the gs_tables_db. We then create any other database objects in that view database that will reference the 1:1 views as if they were local tables. The demos can then reference the view database with the same object naming as in the original database.\n",
    "\n",
    "We have also provided a routine to import the tables to a local database inside your Vantage virtual machine. It then changes the 1:1 views in the view database to point to the local tables. Performance will be better because there is no latency to NOS and the local table storage is optimized for fast access. All of the semantic views, macros, and stored procedures will continue to reference the 1:1 views which now point at local table storage.\n",
    "<img  src=\"DemoNow_Table_Design.png\" alt=\"DemoNow_Table_Design\" width=\"600\" align=\"right\" />\n",
    "\n",
    "You can re-run either the \"create_NOS_tables_and_views.py\" or the \"import_tables_and_change_views.py\" via the run statement after each database to switch back and forth between 1:1 views pointing at foreign NOS tables or local Vantage tables. \n",
    "\n",
    "Local storage is limited. To assist you, a \"manage_space.py\" routine was included at the top of this notebook to display the demo databases, the space used and the space available. You may enter the word \"delete\" followed by the numbers of any databases you want to delete. The table databases end with \"_db\" and the view databases have a similar name without the \"_db\" suffix. The view databases take no space, but if you decide to delete a table database and retain the view database to access foreign tables, you may need to re-run the \"create_NOS_tables_and_views.py\" to recreate the 1:1 views pointing at the foreign tables. \n"
   ]
  },
  {
   "cell_type": "markdown",
   "id": "documented-external",
   "metadata": {},
   "source": [
    "\n",
    "Copyright © 2022 Teradata Corporation"
   ]
  }
 ],
 "metadata": {
  "kernelspec": {
   "display_name": "Python 3",
   "language": "python",
   "name": "python3"
  },
  "language_info": {
   "codemirror_mode": {
    "name": "ipython",
    "version": 3
   },
   "file_extension": ".py",
   "mimetype": "text/x-python",
   "name": "python",
   "nbconvert_exporter": "python",
   "pygments_lexer": "ipython3",
   "version": "3.8.8"
  }
 },
 "nbformat": 4,
 "nbformat_minor": 5
}
