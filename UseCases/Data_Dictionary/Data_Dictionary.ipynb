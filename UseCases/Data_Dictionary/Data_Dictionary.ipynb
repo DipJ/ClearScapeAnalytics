{
 "cells": [
  {
   "cell_type": "markdown",
   "id": "vocational-airline",
   "metadata": {},
   "source": [
    "<b style = \"font-size:28px;font-family:Arial;color:#E37C4D\">DemoNow Data Dictionary On NOS</b><img  src=\"Data_Dictionary.jpg\" alt=\"DemoNow\" width=\"150\" align=\"right\" />\n",
    "\n",
    " This data is being provided in NOS, having been exported from Teradata Vantage Live which was originally publicly sourced data. However, there has been value add to the content and structure of the data, and as such is protected work product of the Teradata Corporation.  It is provided for use with the demonstrations in DemoNow.\n",
    "\n",
    "After each database description is a \"run\" command that will execute the statements to define the foreign tables in NOS and the views for the logical database. Click the cell with the \"run\" statement and press SHIFT + ENTER to define those tables."
   ]
  },
  {
   "cell_type": "markdown",
   "id": "reliable-devil",
   "metadata": {},
   "source": [
    "### TRNG_AML\n",
    "TRNG_AML has 41 tables, 3.5 MB. The largest: transaction_detail, transaction_agg, party_acct\n"
   ]
  },
  {
   "cell_type": "code",
   "execution_count": null,
   "id": "changing-chair",
   "metadata": {},
   "outputs": [],
   "source": [
    "run -i ../../DDL/create_database.py TRNG_AML.ddl"
   ]
  },
  {
   "cell_type": "markdown",
   "id": "eligible-polls",
   "metadata": {},
   "source": [
    "### TRNG_AOpsEquipmentFailure\n",
    "TRNG_AOpsEquipmentFailure has 8 tables, 1.8 MB. The largest: stryker_gen_miles, wblMLE_Data, stryker_gen_part_fails\n"
   ]
  },
  {
   "cell_type": "code",
   "execution_count": null,
   "id": "behavioral-headquarters",
   "metadata": {},
   "outputs": [],
   "source": [
    "run -i ../../DDL/create_database.py TRNG_AOpsEquipmentFailure.ddl"
   ]
  },
  {
   "cell_type": "markdown",
   "id": "acoustic-bacon",
   "metadata": {},
   "source": [
    "### TRNG_AP\n",
    "TRNG_AP has 7 tables, 1.5 MB. The largest: Accounts, Trans, Customer\n"
   ]
  },
  {
   "cell_type": "code",
   "execution_count": null,
   "id": "approximate-volleyball",
   "metadata": {},
   "outputs": [],
   "source": [
    "run -i ../../DDL/create_database.py TRNG_AP.ddl"
   ]
  },
  {
   "cell_type": "markdown",
   "id": "raised-values",
   "metadata": {},
   "source": [
    "### TRNG_APJ_TechSummit21\n",
    "TRNG_APJ_TechSummit21 has 2 tables, 0.3 MB. The largest: diabetic_data, hospital_codes\n"
   ]
  },
  {
   "cell_type": "code",
   "execution_count": null,
   "id": "handy-airplane",
   "metadata": {},
   "outputs": [],
   "source": [
    "run -i ../../DDL/create_database.py TRNG_APJ_TechSummit21.ddl"
   ]
  },
  {
   "cell_type": "markdown",
   "id": "ecological-wellington",
   "metadata": {},
   "source": [
    "### TRNG_AnalyticOps\n",
    "TRNG_AnalyticOps has 9 tables, 8.6 MB. The largest: ml__td_xgboost0_15808958607830, AOA_MODELS_3a7e54f5, AOA_MODELS_d68791b5\n"
   ]
  },
  {
   "cell_type": "code",
   "execution_count": null,
   "id": "freelance-brooks",
   "metadata": {},
   "outputs": [],
   "source": [
    "run -i ../../DDL/create_database.py TRNG_AnalyticOps.ddl"
   ]
  },
  {
   "cell_type": "markdown",
   "id": "nearby-procedure",
   "metadata": {},
   "source": [
    "### TRNG_AustinBikeShare\n",
    "TRNG_AustinBikeShare has 4 tables, 0.3 MB. The largest: Weather, stations, weather_temporal\n"
   ]
  },
  {
   "cell_type": "code",
   "execution_count": null,
   "id": "attempted-johns",
   "metadata": {},
   "outputs": [],
   "source": [
    "run -i ../../DDL/create_database.py TRNG_AustinBikeShare.ddl"
   ]
  },
  {
   "cell_type": "markdown",
   "id": "elder-feeding",
   "metadata": {},
   "source": [
    "### TRNG_BYOM\n",
    "TRNG_BYOM has 42 tables, 45.3 MB. The largest: pmml_models, mojo_models, H2O_JAR\n"
   ]
  },
  {
   "cell_type": "code",
   "execution_count": null,
   "id": "capable-model",
   "metadata": {},
   "outputs": [],
   "source": [
    "run -i ../../DDL/create_database.py TRNG_BYOM.ddl"
   ]
  },
  {
   "cell_type": "markdown",
   "id": "specified-evidence",
   "metadata": {},
   "source": [
    "### TRNG_BustOutFraud\n",
    "TRNG_BustOutFraud has 21 tables, 172.8 MB. The largest: trans_feature_day_derived, trans_feature, trans_feature_xgboost_model\n"
   ]
  },
  {
   "cell_type": "code",
   "execution_count": null,
   "id": "steady-editing",
   "metadata": {},
   "outputs": [],
   "source": [
    "run -i ../../DDL/create_database.py TRNG_BustOutFraud.ddl"
   ]
  },
  {
   "cell_type": "markdown",
   "id": "enhanced-stack",
   "metadata": {},
   "source": [
    "### TRNG_CNPFraud\n",
    "TRNG_CNPFraud has 33 tables, 17.8 MB. The largest: cc_transactions, accounts, credit_limit\n"
   ]
  },
  {
   "cell_type": "code",
   "execution_count": null,
   "id": "apart-savings",
   "metadata": {},
   "outputs": [],
   "source": [
    "run -i ../../DDL/create_database.py TRNG_CNPFraud.ddl"
   ]
  },
  {
   "cell_type": "markdown",
   "id": "wrapped-primary",
   "metadata": {},
   "source": [
    "### TRNG_CONNECTEDFACTORY\n",
    "TRNG_CONNECTEDFACTORY has 315 tables, 415.3 MB. The largest: MVP_SIM_T_SIM_ADS, MVP_TAB_QM_SCORED, MVP_TAB_QM_RAW\n"
   ]
  },
  {
   "cell_type": "code",
   "execution_count": null,
   "id": "embedded-discrimination",
   "metadata": {},
   "outputs": [],
   "source": [
    "run -i ../../DDL/create_database.py TRNG_CONNECTEDFACTORY.ddl"
   ]
  },
  {
   "cell_type": "markdown",
   "id": "introductory-security",
   "metadata": {},
   "source": [
    "### TRNG_COVID19\n",
    "TRNG_COVID19 has 388 tables, 1182 MB. The largest: FACT_COVID19_DATAHUB, FACT_Covid_Model_Data_BKP_21_0, FACT_INDICATOR_DASHBOARD_T2_P\n"
   ]
  },
  {
   "cell_type": "code",
   "execution_count": null,
   "id": "usual-shade",
   "metadata": {},
   "outputs": [],
   "source": [
    "run -i ../../DDL/create_database.py TRNG_COVID19.ddl"
   ]
  },
  {
   "cell_type": "markdown",
   "id": "spoken-expression",
   "metadata": {},
   "source": [
    "### TRNG_COVID19_GDC\n",
    "TRNG_COVID19_GDC has 66 tables, 12.9 MB. The largest: Kaggle_text_covid_19, Kaggle_Text_data_covid_19, All_tag_tweet_text_data\n"
   ]
  },
  {
   "cell_type": "code",
   "execution_count": null,
   "id": "athletic-curve",
   "metadata": {},
   "outputs": [],
   "source": [
    "run -i ../../DDL/create_database.py TRNG_COVID19_GDC.ddl"
   ]
  },
  {
   "cell_type": "markdown",
   "id": "under-seattle",
   "metadata": {},
   "source": [
    "### TRNG_Collaterals\n",
    "TRNG_Collaterals has 5 tables, 0.3 MB. The largest: Photos, TF_Materials, Orders_1600\n"
   ]
  },
  {
   "cell_type": "code",
   "execution_count": null,
   "id": "adolescent-killing",
   "metadata": {},
   "outputs": [],
   "source": [
    "run -i ../../DDL/create_database.py TRNG_Collaterals.ddl"
   ]
  },
  {
   "cell_type": "markdown",
   "id": "prepared-fleece",
   "metadata": {},
   "source": [
    "### TRNG_ColoradoCrimeDrug\n",
    "TRNG_ColoradoCrimeDrug has 17 tables, 20.7 MB. The largest: DUI_ARREST, CRIME, SEIZED_DRUGS\n"
   ]
  },
  {
   "cell_type": "code",
   "execution_count": null,
   "id": "french-france",
   "metadata": {},
   "outputs": [],
   "source": [
    "run -i ../../DDL/create_database.py TRNG_ColoradoCrimeDrug.ddl"
   ]
  },
  {
   "cell_type": "markdown",
   "id": "amateur-country",
   "metadata": {},
   "source": [
    "### TRNG_Covid360\n",
    "TRNG_Covid360 has 37 tables, 193.9 MB. The largest: ADS_simulation_with_risk, ADS_Simulation, ADS_simulation_with_risk_locat\n"
   ]
  },
  {
   "cell_type": "code",
   "execution_count": null,
   "id": "emotional-envelope",
   "metadata": {},
   "outputs": [],
   "source": [
    "run -i ../../DDL/create_database.py TRNG_Covid360.ddl"
   ]
  },
  {
   "cell_type": "markdown",
   "id": "sound-brook",
   "metadata": {},
   "source": [
    "### TRNG_DOJTextAnalysis\n",
    "TRNG_DOJTextAnalysis has 13 tables, 20.3 MB. The largest: AMZ_FINE_FOOD_REVIEWS, AMZ_FINE_FOOD_REVIEWS_text_out, AMZ_FINE_FOOD_REVIEWS3_text_ou\n"
   ]
  },
  {
   "cell_type": "code",
   "execution_count": null,
   "id": "appointed-railway",
   "metadata": {},
   "outputs": [],
   "source": [
    "run -i ../../DDL/create_database.py TRNG_DOJTextAnalysis.ddl"
   ]
  },
  {
   "cell_type": "markdown",
   "id": "inner-coupon",
   "metadata": {},
   "source": [
    "### TRNG_DS\n",
    "TRNG_DS has 3 tables, 20 MB. The largest: Orders_1600, Orders, Orders_2021\n"
   ]
  },
  {
   "cell_type": "code",
   "execution_count": null,
   "id": "wound-melbourne",
   "metadata": {},
   "outputs": [],
   "source": [
    "run -i ../../DDL/create_database.py TRNG_DS.ddl"
   ]
  },
  {
   "cell_type": "markdown",
   "id": "speaking-basin",
   "metadata": {},
   "source": [
    "### TRNG_DataScienceExploration\n",
    "TRNG_DataScienceExploration has 11 tables, 76.9 MB. The largest: ROSSMANN_SALES, ROSSMANN_SALES_STG, MOVIE_LENS\n"
   ]
  },
  {
   "cell_type": "code",
   "execution_count": null,
   "id": "chinese-optics",
   "metadata": {},
   "outputs": [],
   "source": [
    "run -i ../../DDL/create_database.py TRNG_DataScienceExploration.ddl"
   ]
  },
  {
   "cell_type": "markdown",
   "id": "comfortable-perth",
   "metadata": {},
   "source": [
    "### TRNG_DigitalEvents\n",
    "TRNG_DigitalEvents has 2 tables, 15.4 MB. The largest: Mobile_Money_Txns, Digital_Retail_Events\n"
   ]
  },
  {
   "cell_type": "code",
   "execution_count": null,
   "id": "extended-terrain",
   "metadata": {},
   "outputs": [],
   "source": [
    "run -i ../../DDL/create_database.py TRNG_DigitalEvents.ddl"
   ]
  },
  {
   "cell_type": "markdown",
   "id": "talented-interstate",
   "metadata": {},
   "source": [
    "### TRNG_EVCarBattery\n",
    "TRNG_EVCarBattery has 10 tables, 2.5 MB. The largest: bom, customers, vehicles\n"
   ]
  },
  {
   "cell_type": "code",
   "execution_count": null,
   "id": "fitting-scanner",
   "metadata": {},
   "outputs": [],
   "source": [
    "run -i ../../DDL/create_database.py TRNG_EVCarBattery.ddl"
   ]
  },
  {
   "cell_type": "markdown",
   "id": "searching-sierra",
   "metadata": {},
   "source": [
    "### TRNG_EVCarQueryGrid\n",
    "TRNG_EVCarQueryGrid has 9 tables, 2.5 MB. The largest: bom, customers, vehicles\n"
   ]
  },
  {
   "cell_type": "code",
   "execution_count": null,
   "id": "qualified-arthur",
   "metadata": {},
   "outputs": [],
   "source": [
    "run -i ../../DDL/create_database.py TRNG_EVCarQueryGrid.ddl"
   ]
  },
  {
   "cell_type": "markdown",
   "id": "authentic-trash",
   "metadata": {},
   "source": [
    "### TRNG_Energy_Consumption\n",
    "TRNG_Energy_Consumption has 1 tables, 3.2 MB. The largest: energy_no_consumption_datamart\n"
   ]
  },
  {
   "cell_type": "code",
   "execution_count": null,
   "id": "bronze-bibliography",
   "metadata": {},
   "outputs": [],
   "source": [
    "run -i ../../DDL/create_database.py TRNG_Energy_Consumption.ddl"
   ]
  },
  {
   "cell_type": "markdown",
   "id": "revolutionary-uncle",
   "metadata": {},
   "source": [
    "### TRNG_EquipFailure\n",
    "TRNG_EquipFailure has 13 tables, 6.8 MB. The largest: DEMO_EQUIP_TESTING, DEMO_EQUIP_TRAINING_model_pred, DEMO_EQUIP_TRAINING\n"
   ]
  },
  {
   "cell_type": "code",
   "execution_count": null,
   "id": "modular-waters",
   "metadata": {},
   "outputs": [],
   "source": [
    "run -i ../../DDL/create_database.py TRNG_EquipFailure.ddl"
   ]
  },
  {
   "cell_type": "markdown",
   "id": "martial-journey",
   "metadata": {},
   "source": [
    "### TRNG_FSCustomerJourney\n",
    "TRNG_FSCustomerJourney has 32 tables, 3.3 MB. The largest: ich_banking, ich_banking_nonchurn_paths_tok, customers\n"
   ]
  },
  {
   "cell_type": "code",
   "execution_count": null,
   "id": "focused-dryer",
   "metadata": {},
   "outputs": [],
   "source": [
    "run -i ../../DDL/create_database.py TRNG_FSCustomerJourney.ddl"
   ]
  },
  {
   "cell_type": "markdown",
   "id": "removable-copper",
   "metadata": {},
   "source": [
    "### TRNG_FinancialProtection\n",
    "TRNG_FinancialProtection has 1 tables, 642.3 MB. The largest: consumer_complaints\n"
   ]
  },
  {
   "cell_type": "code",
   "execution_count": null,
   "id": "given-petite",
   "metadata": {},
   "outputs": [],
   "source": [
    "run -i ../../DDL/create_database.py TRNG_FinancialProtection.ddl"
   ]
  },
  {
   "cell_type": "markdown",
   "id": "saving-valuation",
   "metadata": {},
   "source": [
    "### TRNG_GTPredictiveMaintenanceDe\n",
    "TRNG_GTPredictiveMaintenanceDe has 56 tables, 43.7 MB. The largest: PCAScaled_train, traintest, mli_Scale_byCluster\n"
   ]
  },
  {
   "cell_type": "code",
   "execution_count": null,
   "id": "mobile-prototype",
   "metadata": {},
   "outputs": [],
   "source": [
    "run -i ../../DDL/create_database.py TRNG_GTPredictiveMaintenanceDe.ddl"
   ]
  },
  {
   "cell_type": "markdown",
   "id": "junior-potato",
   "metadata": {},
   "source": [
    "### TRNG_GamingSessions\n",
    "TRNG_GamingSessions has 10 tables, 2 MB. The largest: gaming_events_sessions_similar, gaming_events_sessions_simil, gaming_events_sessions_simil_d\n"
   ]
  },
  {
   "cell_type": "code",
   "execution_count": null,
   "id": "processed-fence",
   "metadata": {},
   "outputs": [],
   "source": [
    "run -i ../../DDL/create_database.py TRNG_GamingSessions.ddl"
   ]
  },
  {
   "cell_type": "markdown",
   "id": "cutting-cooperation",
   "metadata": {},
   "source": [
    "### TRNG_Government\n",
    "TRNG_Government has 14 tables, 55.8 MB. The largest: COVID19_RAWMOD, atbats, npath_plus\n"
   ]
  },
  {
   "cell_type": "code",
   "execution_count": null,
   "id": "smoking-mobility",
   "metadata": {},
   "outputs": [],
   "source": [
    "run -i ../../DDL/create_database.py TRNG_Government.ddl"
   ]
  },
  {
   "cell_type": "markdown",
   "id": "mental-logistics",
   "metadata": {},
   "source": [
    "### TRNG_HEALTHCARE\n",
    "TRNG_HEALTHCARE has 82 tables, 948.1 MB. The largest: va_observations_full, va_medications, va_encounters\n"
   ]
  },
  {
   "cell_type": "code",
   "execution_count": null,
   "id": "infrared-glasgow",
   "metadata": {},
   "outputs": [],
   "source": [
    "run -i ../../DDL/create_database.py TRNG_HEALTHCARE.ddl"
   ]
  },
  {
   "cell_type": "markdown",
   "id": "antique-photography",
   "metadata": {},
   "source": [
    "### TRNG_HealthcareSurgery\n",
    "TRNG_HealthcareSurgery has 14 tables, 19.3 MB. The largest: healthcarecfilter, healthcare_surgery_events, healthcare_all_paths_tfidf\n"
   ]
  },
  {
   "cell_type": "code",
   "execution_count": null,
   "id": "supreme-middle",
   "metadata": {},
   "outputs": [],
   "source": [
    "run -i ../../DDL/create_database.py TRNG_HealthcareSurgery.ddl"
   ]
  },
  {
   "cell_type": "markdown",
   "id": "daily-aside",
   "metadata": {},
   "source": [
    "### TRNG_IdentityMatch\n",
    "TRNG_IdentityMatch has 2 tables, 0.3 MB. The largest: REF_GOLDEN_CUST, AC_CUSTOMER_EXTERNAL_DATA\n"
   ]
  },
  {
   "cell_type": "code",
   "execution_count": null,
   "id": "appreciated-bones",
   "metadata": {},
   "outputs": [],
   "source": [
    "run -i ../../DDL/create_database.py TRNG_IdentityMatch.ddl"
   ]
  },
  {
   "cell_type": "markdown",
   "id": "improving-hampshire",
   "metadata": {},
   "source": [
    "### TRNG_IndoorSensor\n",
    "TRNG_IndoorSensor has 2 tables, 0.6 MB. The largest: connectivity, sensor_locations\n"
   ]
  },
  {
   "cell_type": "code",
   "execution_count": null,
   "id": "formal-survey",
   "metadata": {},
   "outputs": [],
   "source": [
    "run -i ../../DDL/create_database.py TRNG_IndoorSensor.ddl"
   ]
  },
  {
   "cell_type": "markdown",
   "id": "common-influence",
   "metadata": {},
   "source": [
    "### TRNG_KAGGLE\n",
    "TRNG_KAGGLE has 5 tables, 81.8 MB. The largest: AMZ_FINE_FOOD_REVIEWS, BORDER_CROSSING, BORDER_CROSSING_SCRATCH\n"
   ]
  },
  {
   "cell_type": "code",
   "execution_count": null,
   "id": "polished-bunny",
   "metadata": {},
   "outputs": [],
   "source": [
    "run -i ../../DDL/create_database.py TRNG_KAGGLE.ddl"
   ]
  },
  {
   "cell_type": "markdown",
   "id": "massive-purpose",
   "metadata": {},
   "source": [
    "### TRNG_KneeReplacement\n",
    "TRNG_KneeReplacement has 2 tables, 18.7 MB. The largest: knee_replacement\n"
   ]
  },
  {
   "cell_type": "code",
   "execution_count": null,
   "id": "macro-boulder",
   "metadata": {},
   "outputs": [],
   "source": [
    "run -i ../../DDL/create_database.py TRNG_KneeReplacement.ddl"
   ]
  },
  {
   "cell_type": "markdown",
   "id": "respective-yukon",
   "metadata": {},
   "source": [
    "### TRNG_LifeSciences\n",
    "TRNG_LifeSciences has 16 tables, 28.8 MB. The largest: Observations, Encounter, Medications\n"
   ]
  },
  {
   "cell_type": "code",
   "execution_count": null,
   "id": "critical-input",
   "metadata": {},
   "outputs": [],
   "source": [
    "run -i ../../DDL/create_database.py TRNG_LifeSciences.ddl"
   ]
  },
  {
   "cell_type": "markdown",
   "id": "dedicated-receiver",
   "metadata": {},
   "source": [
    "### TRNG_LondonTube\n",
    "TRNG_LondonTube has 8 tables, 0.8 MB. The largest: TubeLines, TubeStations, Theatres\n"
   ]
  },
  {
   "cell_type": "code",
   "execution_count": null,
   "id": "divided-florence",
   "metadata": {},
   "outputs": [],
   "source": [
    "run -i ../../DDL/create_database.py TRNG_LondonTube.ddl"
   ]
  },
  {
   "cell_type": "markdown",
   "id": "buried-pottery",
   "metadata": {},
   "source": [
    "### TRNG_MOVIES\n",
    "TRNG_MOVIES has 11 tables, 1125.2 MB. The largest: tweets_prep, tweets, tweets_tag_NSFW2\n"
   ]
  },
  {
   "cell_type": "code",
   "execution_count": null,
   "id": "incomplete-lesbian",
   "metadata": {},
   "outputs": [],
   "source": [
    "run -i ../../DDL/create_database.py TRNG_MOVIES.ddl"
   ]
  },
  {
   "cell_type": "markdown",
   "id": "manufactured-ceremony",
   "metadata": {},
   "source": [
    "### TRNG_MedicalImaging\n",
    "TRNG_MedicalImaging has 12 tables, 1.7 MB. The largest: s_dicom_t, r_image_device, k_case\n"
   ]
  },
  {
   "cell_type": "code",
   "execution_count": null,
   "id": "junior-hometown",
   "metadata": {},
   "outputs": [],
   "source": [
    "run -i ../../DDL/create_database.py TRNG_MedicalImaging.ddl"
   ]
  },
  {
   "cell_type": "markdown",
   "id": "young-union",
   "metadata": {},
   "source": [
    "### TRNG_Movie_Reviews\n",
    "TRNG_Movie_Reviews has 1 tables, 1684 MB. The largest: movie_tweets\n"
   ]
  },
  {
   "cell_type": "code",
   "execution_count": null,
   "id": "trying-lancaster",
   "metadata": {},
   "outputs": [],
   "source": [
    "run -i ../../DDL/create_database.py TRNG_Movie_Reviews.ddl"
   ]
  },
  {
   "cell_type": "markdown",
   "id": "entertaining-officer",
   "metadata": {},
   "source": [
    "### TRNG_NOS\n",
    "TRNG_NOS has 1 tables, 0.4 MB. The largest: inputdata\n"
   ]
  },
  {
   "cell_type": "code",
   "execution_count": null,
   "id": "laughing-introduction",
   "metadata": {},
   "outputs": [],
   "source": [
    "run -i ../../DDL/create_database.py TRNG_NOS.ddl"
   ]
  },
  {
   "cell_type": "markdown",
   "id": "involved-quest",
   "metadata": {},
   "source": [
    "### TRNG_NYCTaxi\n",
    "TRNG_NYCTaxi has 2 tables, 23.6 MB. The largest: trip, trip_fare\n"
   ]
  },
  {
   "cell_type": "code",
   "execution_count": null,
   "id": "representative-notion",
   "metadata": {},
   "outputs": [],
   "source": [
    "run -i ../../DDL/create_database.py TRNG_NYCTaxi.ddl"
   ]
  },
  {
   "cell_type": "markdown",
   "id": "sustainable-emission",
   "metadata": {},
   "source": [
    "### TRNG_OilGasDrilling\n",
    "TRNG_OilGasDrilling has 13 tables, 34.2 MB. The largest: Srfc_Sensor_Parms_PPI_Flat_Rig, Srfc_Sensor_Parms_PPI_Flat, DDaaS_Survey_Logs\n"
   ]
  },
  {
   "cell_type": "code",
   "execution_count": null,
   "id": "ordinary-experience",
   "metadata": {},
   "outputs": [],
   "source": [
    "run -i ../../DDL/create_database.py TRNG_OilGasDrilling.ddl"
   ]
  },
  {
   "cell_type": "markdown",
   "id": "veterinary-infrared",
   "metadata": {},
   "source": [
    "### TRNG_Oil_Industry\n",
    "TRNG_Oil_Industry has 42 tables, 2039.5 MB. The largest: SRFC_SENSOR_PARMS_PPI_FLAT, SRFC_SENSOR_RIG_STATES, ac_monthly\n"
   ]
  },
  {
   "cell_type": "code",
   "execution_count": null,
   "id": "marine-office",
   "metadata": {},
   "outputs": [],
   "source": [
    "run -i ../../DDL/create_database.py TRNG_Oil_Industry.ddl"
   ]
  },
  {
   "cell_type": "markdown",
   "id": "seventh-pharmacology",
   "metadata": {},
   "source": [
    "### TRNG_PD\n",
    "TRNG_PD has 13 tables, 12.5 MB. The largest: EmpPhone, Employee, date_dim\n"
   ]
  },
  {
   "cell_type": "code",
   "execution_count": null,
   "id": "opened-bubble",
   "metadata": {},
   "outputs": [],
   "source": [
    "run -i ../../DDL/create_database.py TRNG_PD.ddl"
   ]
  },
  {
   "cell_type": "markdown",
   "id": "desperate-lending",
   "metadata": {},
   "source": [
    "### TRNG_PM_Demos\n",
    "No description available"
   ]
  },
  {
   "cell_type": "code",
   "execution_count": null,
   "id": "harmful-parks",
   "metadata": {},
   "outputs": [],
   "source": [
    "run -i ../../DDL/create_database.py TRNG_PM_Demos.ddl"
   ]
  },
  {
   "cell_type": "markdown",
   "id": "sticky-landing",
   "metadata": {},
   "source": [
    "### TRNG_PTC\n",
    "TRNG_PTC has 13 tables, 18.7 MB. The largest: ER_Data_for_Locos, LocoDataCleansed, edr_er_log_8437_0806_08072020\n"
   ]
  },
  {
   "cell_type": "code",
   "execution_count": null,
   "id": "stuck-campaign",
   "metadata": {},
   "outputs": [],
   "source": [
    "run -i ../../DDL/create_database.py TRNG_PTC.ddl"
   ]
  },
  {
   "cell_type": "markdown",
   "id": "conscious-formula",
   "metadata": {},
   "source": [
    "### TRNG_QG_DEMO\n",
    "TRNG_QG_DEMO has 23 tables, 31.1 MB. The largest: telco_store, telco_online, telco_callcenter\n"
   ]
  },
  {
   "cell_type": "code",
   "execution_count": null,
   "id": "tutorial-object",
   "metadata": {},
   "outputs": [],
   "source": [
    "run -i ../../DDL/create_database.py TRNG_QG_DEMO.ddl"
   ]
  },
  {
   "cell_type": "markdown",
   "id": "primary-pattern",
   "metadata": {},
   "source": [
    "### TRNG_RETAILDSE\n",
    "TRNG_RETAILDSE has 19 tables, 7.7 MB. The largest: WEB_COMMENT, PURCHASE, CUSTOMER\n"
   ]
  },
  {
   "cell_type": "code",
   "execution_count": null,
   "id": "fifty-relaxation",
   "metadata": {},
   "outputs": [],
   "source": [
    "run -i ../../DDL/create_database.py TRNG_RETAILDSE.ddl"
   ]
  },
  {
   "cell_type": "markdown",
   "id": "offensive-queue",
   "metadata": {},
   "source": [
    "### TRNG_RETAILDSE_DEV\n",
    "TRNG_RETAILDSE_DEV has 23 tables, 17 MB. The largest: NEW_RETAIL_CUST_EVENTS, NEW_RETAIL_ALLCH_EVENT_DESC_MA, CUSTOMER_PURCHASES_FLAT\n"
   ]
  },
  {
   "cell_type": "code",
   "execution_count": null,
   "id": "crucial-meter",
   "metadata": {},
   "outputs": [],
   "source": [
    "run -i ../../DDL/create_database.py TRNG_RETAILDSE_DEV.ddl"
   ]
  },
  {
   "cell_type": "markdown",
   "id": "directed-healthcare",
   "metadata": {},
   "source": [
    "### TRNG_RefineryOptimizer\n",
    "TRNG_RefineryOptimizer has 67 tables, 491.4 MB. The largest: DB250092_RO_SENSOR, DB250092_RO_LAB, DB250092_RO_PRICE\n"
   ]
  },
  {
   "cell_type": "code",
   "execution_count": null,
   "id": "expensive-decimal",
   "metadata": {},
   "outputs": [],
   "source": [
    "run -i ../../DDL/create_database.py TRNG_RefineryOptimizer.ddl"
   ]
  },
  {
   "cell_type": "markdown",
   "id": "specific-simple",
   "metadata": {},
   "source": [
    "### TRNG_SQLE_TEST\n",
    "TRNG_SQLE_TEST has 56 tables, 2150.8 MB. The largest: train_features, test_features, rf_model\n"
   ]
  },
  {
   "cell_type": "code",
   "execution_count": null,
   "id": "apparent-recording",
   "metadata": {},
   "outputs": [],
   "source": [
    "run -i ../../DDL/create_database.py TRNG_SQLE_TEST.ddl"
   ]
  },
  {
   "cell_type": "markdown",
   "id": "steady-passion",
   "metadata": {},
   "source": [
    "### TRNG_STOFramework\n",
    "TRNG_STOFramework has 12 tables, 917.7 MB. The largest: test_dataset_redistributed, test_dataset, STO_Output\n"
   ]
  },
  {
   "cell_type": "code",
   "execution_count": null,
   "id": "classified-bacteria",
   "metadata": {},
   "outputs": [],
   "source": [
    "run -i ../../DDL/create_database.py TRNG_STOFramework.ddl"
   ]
  },
  {
   "cell_type": "markdown",
   "id": "under-double",
   "metadata": {},
   "source": [
    "### TRNG_SalesOffload\n",
    "TRNG_SalesOffload has 1 tables, 215.6 MB. The largest: sales_fact\n"
   ]
  },
  {
   "cell_type": "code",
   "execution_count": null,
   "id": "corrected-bidding",
   "metadata": {},
   "outputs": [],
   "source": [
    "run -i ../../DDL/create_database.py TRNG_SalesOffload.ddl"
   ]
  },
  {
   "cell_type": "markdown",
   "id": "celtic-brand",
   "metadata": {},
   "source": [
    "### TRNG_SalesPrediction\n",
    "TRNG_SalesPrediction has 1 tables, 1.7 MB. The largest: pandas_stores_rossmann\n"
   ]
  },
  {
   "cell_type": "code",
   "execution_count": null,
   "id": "broke-florist",
   "metadata": {},
   "outputs": [],
   "source": [
    "run -i ../../DDL/create_database.py TRNG_SalesPrediction.ddl"
   ]
  },
  {
   "cell_type": "markdown",
   "id": "frequent-forty",
   "metadata": {},
   "source": [
    "### TRNG_SurvivalAnalysis\n",
    "TRNG_SurvivalAnalysis has 2 tables, 0.8 MB. The largest: heart_failure\n"
   ]
  },
  {
   "cell_type": "code",
   "execution_count": null,
   "id": "liquid-dryer",
   "metadata": {},
   "outputs": [],
   "source": [
    "run -i ../../DDL/create_database.py TRNG_SurvivalAnalysis.ddl"
   ]
  },
  {
   "cell_type": "markdown",
   "id": "jewish-revelation",
   "metadata": {},
   "source": [
    "### TRNG_TAU2018\n",
    "TRNG_TAU2018 has 3 tables, 1.4 MB. The largest: tau_submission, partners2016, partners2014\n"
   ]
  },
  {
   "cell_type": "code",
   "execution_count": null,
   "id": "structured-calcium",
   "metadata": {},
   "outputs": [],
   "source": [
    "run -i ../../DDL/create_database.py TRNG_TAU2018.ddl"
   ]
  },
  {
   "cell_type": "markdown",
   "id": "tired-gospel",
   "metadata": {},
   "source": [
    "### TRNG_TDRetail\n",
    "TRNG_TDRetail has 169 tables, 6924.7 MB. The largest: da_vinci_100_serie, SALES_TRANSACTION, SALES_TRANSACTION_STAGING\n"
   ]
  },
  {
   "cell_type": "code",
   "execution_count": null,
   "id": "worse-facial",
   "metadata": {},
   "outputs": [],
   "source": [
    "run -i ../../DDL/create_database.py TRNG_TDRetail.ddl"
   ]
  },
  {
   "cell_type": "markdown",
   "id": "administrative-grave",
   "metadata": {},
   "source": [
    "### TRNG_TDSysAnalytics\n",
    "TRNG_TDSysAnalytics has 11 tables, 5.5 MB. The largest: CPU_HIST, USER_HIST, DB_HIST\n"
   ]
  },
  {
   "cell_type": "code",
   "execution_count": null,
   "id": "herbal-rates",
   "metadata": {},
   "outputs": [],
   "source": [
    "run -i ../../DDL/create_database.py TRNG_TDSysAnalytics.ddl"
   ]
  },
  {
   "cell_type": "markdown",
   "id": "changing-russian",
   "metadata": {},
   "source": [
    "### TRNG_TDU_CustomerService\n",
    "TRNG_TDU_CustomerService has 21 tables, 0.8 MB. The largest: Accounts, emp_phone_2010, agent_sales\n"
   ]
  },
  {
   "cell_type": "code",
   "execution_count": null,
   "id": "accessible-stick",
   "metadata": {},
   "outputs": [],
   "source": [
    "run -i ../../DDL/create_database.py TRNG_TDU_CustomerService.ddl"
   ]
  },
  {
   "cell_type": "markdown",
   "id": "dressed-equivalent",
   "metadata": {},
   "source": [
    "### TRNG_TDU_Employee_Sales\n",
    "TRNG_TDU_Employee_Sales has 13 tables, 0.4 MB. The largest: Customer, Location, Location_Phone\n"
   ]
  },
  {
   "cell_type": "code",
   "execution_count": null,
   "id": "complimentary-schedule",
   "metadata": {},
   "outputs": [],
   "source": [
    "run -i ../../DDL/create_database.py TRNG_TDU_Employee_Sales.ddl"
   ]
  },
  {
   "cell_type": "markdown",
   "id": "dominican-colors",
   "metadata": {},
   "source": [
    "### TRNG_TDU_FACTORY\n",
    "No description available"
   ]
  },
  {
   "cell_type": "code",
   "execution_count": null,
   "id": "analyzed-boating",
   "metadata": {},
   "outputs": [],
   "source": [
    "run -i ../../DDL/create_database.py TRNG_TDU_FACTORY.ddl"
   ]
  },
  {
   "cell_type": "markdown",
   "id": "universal-behalf",
   "metadata": {},
   "source": [
    "### TRNG_TDU_Orders\n",
    "TRNG_TDU_Orders has 3 tables, 0.6 MB. The largest: orders_2012, orders_2013, orders\n"
   ]
  },
  {
   "cell_type": "code",
   "execution_count": null,
   "id": "integral-navigator",
   "metadata": {},
   "outputs": [],
   "source": [
    "run -i ../../DDL/create_database.py TRNG_TDU_Orders.ddl"
   ]
  },
  {
   "cell_type": "markdown",
   "id": "scientific-genre",
   "metadata": {},
   "source": [
    "### TRNG_TDU_Students\n",
    "TRNG_TDU_Students has 4 tables, 0.4 MB. The largest: Orders, City, State\n"
   ]
  },
  {
   "cell_type": "code",
   "execution_count": null,
   "id": "saved-directive",
   "metadata": {},
   "outputs": [],
   "source": [
    "run -i ../../DDL/create_database.py TRNG_TDU_Students.ddl"
   ]
  },
  {
   "cell_type": "markdown",
   "id": "efficient-cisco",
   "metadata": {},
   "source": [
    "### TRNG_TDU_TD01\n",
    "TRNG_TDU_TD01 has 361 tables, 325.5 MB. The largest: fire_calls, fire_incidents, chips_weblog\n"
   ]
  },
  {
   "cell_type": "code",
   "execution_count": null,
   "id": "molecular-consideration",
   "metadata": {},
   "outputs": [],
   "source": [
    "run -i ../../DDL/create_database.py TRNG_TDU_TD01.ddl"
   ]
  },
  {
   "cell_type": "markdown",
   "id": "numerous-lawyer",
   "metadata": {},
   "source": [
    "### TRNG_TECHBYTES\n",
    "TRNG_TECHBYTES has 20 tables, 2.5 MB. The largest: Acct_Ind, Accounts, ml__valib_transform_1614360874\n"
   ]
  },
  {
   "cell_type": "code",
   "execution_count": null,
   "id": "prompt-paris",
   "metadata": {},
   "outputs": [],
   "source": [
    "run -i ../../DDL/create_database.py TRNG_TECHBYTES.ddl"
   ]
  },
  {
   "cell_type": "markdown",
   "id": "adopted-dispute",
   "metadata": {},
   "source": [
    "### TRNG_TJ\n",
    "TRNG_TJ has 1 tables, 57.1 MB. The largest: dwh_coveo\n"
   ]
  },
  {
   "cell_type": "code",
   "execution_count": null,
   "id": "broken-twins",
   "metadata": {},
   "outputs": [],
   "source": [
    "run -i ../../DDL/create_database.py TRNG_TJ.ddl"
   ]
  },
  {
   "cell_type": "markdown",
   "id": "anonymous-mayor",
   "metadata": {},
   "source": [
    "### TRNG_Telco\n",
    "TRNG_Telco has 3 tables, 2.6 MB. The largest: telco_events, telco_testing, telco_training\n"
   ]
  },
  {
   "cell_type": "code",
   "execution_count": null,
   "id": "static-supervision",
   "metadata": {},
   "outputs": [],
   "source": [
    "run -i ../../DDL/create_database.py TRNG_Telco.ddl"
   ]
  },
  {
   "cell_type": "markdown",
   "id": "sitting-stationery",
   "metadata": {},
   "source": [
    "### TRNG_TelcoChurn\n",
    "TRNG_TelcoChurn has 50 tables, 68.5 MB. The largest: csi_telco_all_nonchurn_paths_t, telco_cdr_data, csi_telco_data\n"
   ]
  },
  {
   "cell_type": "code",
   "execution_count": null,
   "id": "animal-intellectual",
   "metadata": {},
   "outputs": [],
   "source": [
    "run -i ../../DDL/create_database.py TRNG_TelcoChurn.ddl"
   ]
  },
  {
   "cell_type": "markdown",
   "id": "funded-influence",
   "metadata": {},
   "source": [
    "### TRNG_TelcoNetwork\n",
    "TRNG_TelcoNetwork has 20 tables, 2.1 MB. The largest: NEXTGEN_MOBILE_NW_CUST_JOURNEY, NEXTGEN_MOBILE_NW_GPSLOC_CUM_E, NEXTGEN_MOBILE_NW_POSTAL_ZONES\n"
   ]
  },
  {
   "cell_type": "code",
   "execution_count": null,
   "id": "separated-solution",
   "metadata": {},
   "outputs": [],
   "source": [
    "run -i ../../DDL/create_database.py TRNG_TelcoNetwork.ddl"
   ]
  },
  {
   "cell_type": "markdown",
   "id": "rotary-sherman",
   "metadata": {},
   "source": [
    "### TRNG_TeradataSocial\n",
    "TRNG_TeradataSocial has 5 tables, 0.6 MB. The largest: Sprinklr, Events, Events_stg\n"
   ]
  },
  {
   "cell_type": "code",
   "execution_count": null,
   "id": "painful-assistant",
   "metadata": {},
   "outputs": [],
   "source": [
    "run -i ../../DDL/create_database.py TRNG_TeradataSocial.ddl"
   ]
  },
  {
   "cell_type": "markdown",
   "id": "yellow-argentina",
   "metadata": {},
   "source": [
    "### TRNG_UX\n",
    "TRNG_UX has 3 tables, 0.3 MB. The largest: UXUserDatabase, QUALITY, INSIGHTS_DOVETAIL\n"
   ]
  },
  {
   "cell_type": "code",
   "execution_count": null,
   "id": "photographic-booking",
   "metadata": {},
   "outputs": [],
   "source": [
    "run -i ../../DDL/create_database.py TRNG_UX.ddl"
   ]
  },
  {
   "cell_type": "markdown",
   "id": "horizontal-principal",
   "metadata": {},
   "source": [
    "### TRNG_VA_SCRATCH\n",
    "TRNG_VA_SCRATCH has 3 tables, 0.3 MB. The largest: VL_ops_check_ins, rf_test_1, test_1_rf185023\n"
   ]
  },
  {
   "cell_type": "code",
   "execution_count": null,
   "id": "static-married",
   "metadata": {},
   "outputs": [],
   "source": [
    "run -i ../../DDL/create_database.py TRNG_VA_SCRATCH.ddl"
   ]
  },
  {
   "cell_type": "markdown",
   "id": "usual-intent",
   "metadata": {},
   "source": [
    "### TRNG_XSP\n",
    "TRNG_XSP has 34 tables, 39.3 MB. The largest: Transactions, TWMS_Smirnov, TWMS_ShapiroWilkCoefficients\n"
   ]
  },
  {
   "cell_type": "code",
   "execution_count": null,
   "id": "scheduled-stranger",
   "metadata": {},
   "outputs": [],
   "source": [
    "run -i ../../DDL/create_database.py TRNG_XSP.ddl"
   ]
  },
  {
   "cell_type": "markdown",
   "id": "finite-seattle",
   "metadata": {},
   "source": [
    "### TRNG_iVSM\n",
    "TRNG_iVSM has 20 tables, 604 MB. The largest: test_dataset_redistributed, test_dataset, propensitytobuy_models\n"
   ]
  },
  {
   "cell_type": "code",
   "execution_count": null,
   "id": "coordinate-confusion",
   "metadata": {},
   "outputs": [],
   "source": [
    "run -i ../../DDL/create_database.py TRNG_iVSM.ddl"
   ]
  },
  {
   "cell_type": "markdown",
   "id": "proprietary-february",
   "metadata": {},
   "source": [
    "\n",
    "Copyright © 2022 Teradata Corporation"
   ]
  }
 ],
 "metadata": {
  "kernelspec": {
   "display_name": "Python 3",
   "language": "python",
   "name": "python3"
  },
  "language_info": {
   "codemirror_mode": {
    "name": "ipython",
    "version": 3
   },
   "file_extension": ".py",
   "mimetype": "text/x-python",
   "name": "python",
   "nbconvert_exporter": "python",
   "pygments_lexer": "ipython3",
   "version": "3.8.8"
  }
 },
 "nbformat": 4,
 "nbformat_minor": 5
}
