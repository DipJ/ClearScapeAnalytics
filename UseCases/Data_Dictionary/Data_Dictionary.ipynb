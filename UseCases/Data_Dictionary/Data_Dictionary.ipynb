{
 "cells": [
  {
   "cell_type": "markdown",
   "id": "bae3f563",
   "metadata": {},
   "source": [
    "<b style = \"font-size:28px;font-family:Arial;color:#E37C4D\">ClearScape Analytics Experience Data Dictionary</b><img  src=\"Data_Dictionary.png\" alt=\"Data_Dictionary\" width=\"150\" align=\"right\" />\n",
    "\n",
    "\n",
    " This data is being provided in cloud storage, having been exported from Teradata Vantage Live which was originally publicly sourced data. However, there has been value add to the content and structure of the data, and as such is protected work product of the Teradata Corporation.  It is provided for use with the demonstrations in the ClearScape Analytics Experience.\n",
    "\n",
    "\n",
    "After each database description there may be one or two \"run\" commands:\n",
    "<ol><li> a statement to create foreign tables linked to the <b>cloud</b>, create a view database with 1:1 views pointing at those foreign tables, and any semantic views and other object needed by the demonstration</li>\n",
    "<li> a statement to import data from the cloud to create <b>local</b> tables and 1:1 views pointing at those local tables. </li></ol>\n",
    "Click in the cell with the \"run\" statement and press SHIFT + ENTER to run either routine. All demonstrations will run either with <b>cloud</b> tables or <b>local</b> tables. The local tables will be faster, however that means you will need to manage local storage.\n",
    "\n",
    "<br>A complete description of the design of these databases is included at the end of this notebook.\n"
   ]
  },
  {
   "cell_type": "markdown",
   "id": "33dadd10",
   "metadata": {},
   "source": [
    "<p style = 'font-size:18px;font-family:Arial;color:#E37C4D'><b>Manage Your Space</b></p> \n",
    "You may use the \"manage space\" routine below to view current space usage and available space.  \n"
   ]
  },
  {
   "cell_type": "code",
   "execution_count": null,
   "id": "cdb94063",
   "metadata": {},
   "outputs": [],
   "source": [
    "run -i DDL/manage_space.py"
   ]
  },
  {
   "cell_type": "markdown",
   "id": "13237c09",
   "metadata": {},
   "source": [
    "<hr><b style = 'font-size:28px;font-family:Arial;color:#E37C4D'>Available Demonstration Databases</b>"
   ]
  },
  {
   "cell_type": "markdown",
   "id": "e7e21fd0",
   "metadata": {},
   "source": [
    "### DEMO_AirPassengers\n",
    "The database DEMO_AirPassengers provides simple generated passenger counts by month for use in a forecasting demo.  \n",
    "\n",
    "Tables:\n",
    "- AirPassengers - Row Count: 144"
   ]
  },
  {
   "cell_type": "code",
   "execution_count": null,
   "id": "6b85a200",
   "metadata": {},
   "outputs": [],
   "source": [
    "%run -i ../run_procedure.py \"call get_data('DEMO_AirPassengers_cloud')\";"
   ]
  },
  {
   "cell_type": "code",
   "execution_count": null,
   "id": "32f0dece",
   "metadata": {},
   "outputs": [],
   "source": [
    "%run -i ../run_procedure.py \"call get_data('DEMO_AirPassengers_local')\";"
   ]
  },
  {
   "cell_type": "code",
   "execution_count": null,
   "id": "03dd3766",
   "metadata": {},
   "outputs": [],
   "source": [
    "%run -i ../run_procedure.py \"call remove_data('DEMO_AirPassengers')\";   # only needed if you want to clean up space"
   ]
  },
  {
   "cell_type": "markdown",
   "id": "123e3836",
   "metadata": {},
   "source": [
    "### DEMO_AustinBikeShare\n",
    "Bike shares are becoming a popular alternative means of transportation. The City of Austin makes data available on >649k bike trips over 2013-2017. This data includes information on bike trip start location, stop location, duration, type of bike share user. Bike station location data was inserted into a work table by the Austin Bike share notebook. This data was sourced from www.kaggle.com.\n",
    "\n",
    "Tables:\n",
    "- Trips - rows: 649,231\n",
    "- Weather - rows: 24,592"
   ]
  },
  {
   "cell_type": "code",
   "execution_count": null,
   "id": "e7b8d585",
   "metadata": {},
   "outputs": [],
   "source": [
    "%run -i ../run_procedure.py \"call get_data('DEMO_AustinBikeShare_cloud')\";"
   ]
  },
  {
   "cell_type": "code",
   "execution_count": null,
   "id": "aeaabfcb",
   "metadata": {},
   "outputs": [],
   "source": [
    "%run -i ../run_procedure.py \"call get_data('DEMO_AustinBikeShare_local')\";"
   ]
  },
  {
   "cell_type": "code",
   "execution_count": null,
   "id": "89cb6fc8",
   "metadata": {},
   "outputs": [],
   "source": [
    "%run -i ../run_procedure.py \"call remove_data('DEMO_AustinBikeShare')\";   # only needed if you want to clean up space"
   ]
  },
  {
   "cell_type": "markdown",
   "id": "6d0274f2",
   "metadata": {},
   "source": [
    "### DEMO_CreditCard\n",
    "The database DEMO_CreditCard provides information about gender, children, income, family status, occupation. It was used in a notebook to demonstrate preparing data for analysis. \n",
    "\n",
    "Tables:\n",
    "- Credit_Card - Row count: 50,000"
   ]
  },
  {
   "cell_type": "code",
   "execution_count": null,
   "id": "91316fd5",
   "metadata": {},
   "outputs": [],
   "source": [
    "%run -i ../run_procedure.py \"call get_data('DEMO_CreditCard_cloud')\";"
   ]
  },
  {
   "cell_type": "code",
   "execution_count": null,
   "id": "22590c66",
   "metadata": {},
   "outputs": [],
   "source": [
    "%run -i ../run_procedure.py \"call get_data('DEMO_CreditCard_local')\";"
   ]
  },
  {
   "cell_type": "code",
   "execution_count": null,
   "id": "78fedec9",
   "metadata": {},
   "outputs": [],
   "source": [
    "%run -i ../run_procedure.py \"call remove_data('DEMO_CreditCard')\";   # only needed if you want to clean up space"
   ]
  },
  {
   "cell_type": "markdown",
   "id": "d3670495",
   "metadata": {},
   "source": [
    "### DEMO_DataScienceExploration\n",
    "The database DEMO_DataScienceExploration provides information houses including bedrooms, floors, square feet, year built, zip code, Lat/Long, price, etc.  It was used in a notebook to demonstrate the standard flow of Data Science using the CRISP-DM standard (Cross-Industry Standard Process for Data Mining)\n",
    "\n",
    "Tables:\n",
    "- House_Prices - Row count: 80,000"
   ]
  },
  {
   "cell_type": "code",
   "execution_count": null,
   "id": "eef091c1",
   "metadata": {},
   "outputs": [],
   "source": [
    "%run -i ../run_procedure.py \"call get_data('DEMO_DataScienceExploration_cloud')\";"
   ]
  },
  {
   "cell_type": "code",
   "execution_count": null,
   "id": "1953334a",
   "metadata": {},
   "outputs": [],
   "source": [
    "%run -i ../run_procedure.py \"call get_data('DEMO_DataScienceExploration_local')\";"
   ]
  },
  {
   "cell_type": "code",
   "execution_count": null,
   "id": "eb60537d",
   "metadata": {},
   "outputs": [],
   "source": [
    "%run -i ../run_procedure.py \"call remove_data('DEMO_DataScienceExploration')\";   # only needed if you want to clean up space"
   ]
  },
  {
   "cell_type": "markdown",
   "id": "1576cb54",
   "metadata": {},
   "source": [
    "### DEMO_DataScienceFlow\n",
    "The database DEMO_DataScienceFlow provides information about \n",
    "\n",
    "It is used by:\n",
    "\n",
    "\n",
    "Tables:\n",
    "- Covid_Data\n"
   ]
  },
  {
   "cell_type": "code",
   "execution_count": null,
   "id": "bbe3820f",
   "metadata": {},
   "outputs": [],
   "source": [
    "%run -i ../run_procedure.py \"call get_data('DEMO_DataScienceFlow_cloud')\";"
   ]
  },
  {
   "cell_type": "code",
   "execution_count": null,
   "id": "b34f8423",
   "metadata": {},
   "outputs": [],
   "source": [
    "%run -i ../run_procedure.py \"call get_data('DEMO_DataScienceFlow_local')\";"
   ]
  },
  {
   "cell_type": "code",
   "execution_count": null,
   "id": "ffa61d56",
   "metadata": {},
   "outputs": [],
   "source": [
    "%run -i ../run_procedure.py \"call remove_data('DEMO_DataScienceFlow')\";   # only needed if you want to clean up space"
   ]
  },
  {
   "cell_type": "markdown",
   "id": "96ae1cba",
   "metadata": {},
   "source": [
    "### DEMO_Energy\n",
    "The database DEMO_Energy provides information by timestamp of day of week, temperature, cloud area, light/dark indicators, holiday, etc and is used in a notebook for forecasting energy consumption. \n",
    "\n",
    "Tables:\n",
    "- Consumption - row count: 32,160"
   ]
  },
  {
   "cell_type": "code",
   "execution_count": null,
   "id": "3b5ae46a",
   "metadata": {},
   "outputs": [],
   "source": [
    "%run -i ../run_procedure.py \"call get_data('DEMO_Energy_cloud')\";"
   ]
  },
  {
   "cell_type": "code",
   "execution_count": null,
   "id": "4b064c0f",
   "metadata": {},
   "outputs": [],
   "source": [
    "%run -i ../run_procedure.py \"call get_data('DEMO_Energy_local')\";"
   ]
  },
  {
   "cell_type": "code",
   "execution_count": null,
   "id": "75bcf991",
   "metadata": {},
   "outputs": [],
   "source": [
    "%run -i ../run_procedure.py \"call remove_data('DEMO_Energy')\";   # only needed if you want to clean up space"
   ]
  },
  {
   "cell_type": "markdown",
   "id": "088214fd",
   "metadata": {},
   "source": [
    "### DEMO_EVCarBattery\n",
    "The database DEMO_EVCarBattery provides the production of vehicles including the parts and bill of materials. There is a table with the VIN identifiers of cars that reported bad batteries. There is a public cloud dataset at s3.amazonaws.com/trial-datasets/EVCarBattery that has test results of the individual batteries used in the vehicles. \n",
    "\n",
    "Tables:\n",
    "- BOM - Row Count: 267,408\n",
    "- Bad_Batteries - Row Count: 698\n",
    "- Dealers - Row Count: 10\n",
    "- Mfg_Plants - Row Count: 8\n",
    "- Parts - Row Count: 1,759\n",
    "- Vehicles - Row Count: 22,273"
   ]
  },
  {
   "cell_type": "code",
   "execution_count": null,
   "id": "09319910",
   "metadata": {},
   "outputs": [],
   "source": [
    "%run -i ../run_procedure.py \"call get_data('DEMO_EVCarBattery_cloud')\";"
   ]
  },
  {
   "cell_type": "code",
   "execution_count": null,
   "id": "3e18b85d",
   "metadata": {},
   "outputs": [],
   "source": [
    "%run -i ../run_procedure.py \"call get_data('DEMO_EVCarBattery_local')\";"
   ]
  },
  {
   "cell_type": "code",
   "execution_count": null,
   "id": "882e995c",
   "metadata": {},
   "outputs": [],
   "source": [
    "%run -i ../run_procedure.py \"call remove_data('DEMO_EVCarBattery')\";   # only needed if you want to clean up space"
   ]
  },
  {
   "cell_type": "markdown",
   "id": "b71aaf8b",
   "metadata": {},
   "source": [
    "### DEMO_Financial\n",
    "The database DEMO_Financial is used in multiple notebooks. THe Customer, Accounts, and Transactions are used in the Vantage Analytics Library for descriptive statistics, analytics, and ML.   The Consumer Complaints came from the Consumer Financial Protection Bureau (CFPB) via data.gov on financial products and services, which include but are not limited to bank accounts, credit cards, credit reporting. \n",
    "\n",
    "Tables:\n",
    "- Accounts - Row Count: 19,726\n",
    "- Consumer_Complaints - Row Count: 1,273,782\n",
    "- Credit_Tran - Row Count: 20,167\n",
    "- Customer - Row Count: 10,458\n",
    "- Customer_Analysis - Row Count: 747\n",
    "- Customer_Journey - Row Count: 628,723\n",
    "- Transactions - Row Count: 1,086,120"
   ]
  },
  {
   "cell_type": "code",
   "execution_count": null,
   "id": "13e2a89b",
   "metadata": {},
   "outputs": [],
   "source": [
    "%run -i ../run_procedure.py \"call get_data('DEMO_Financial_cloud')\";"
   ]
  },
  {
   "cell_type": "code",
   "execution_count": null,
   "id": "5aee5902",
   "metadata": {},
   "outputs": [],
   "source": [
    "%run -i ../run_procedure.py \"call get_data('DEMO_Financial_local')\";"
   ]
  },
  {
   "cell_type": "code",
   "execution_count": null,
   "id": "137729c6",
   "metadata": {},
   "outputs": [],
   "source": [
    "%run -i ../run_procedure.py \"call remove_data('DEMO_Financial')\";   # only needed if you want to clean up space"
   ]
  },
  {
   "cell_type": "markdown",
   "id": "1358ff1b",
   "metadata": {},
   "source": [
    "### DEMO_GLM_Fraud\n",
    "The database DEMO_GLM_Fraud transactions with old and new balances and flags to indicate if it had previously been  detected as fraudulent. This is used by GLM_Fraud_Detection notebooks to check the accuracy of a model to predict fraud on a sample based on training a model using the rest of the data. \n",
    "\n",
    "Tables:\n",
    "- Transaction_Data - Row Count: 63,626\n",
    "\n"
   ]
  },
  {
   "cell_type": "code",
   "execution_count": null,
   "id": "1db09f1c",
   "metadata": {},
   "outputs": [],
   "source": [
    "%run -i ../run_procedure.py \"call get_data('DEMO_GLM_Fraud_cloud')\";"
   ]
  },
  {
   "cell_type": "code",
   "execution_count": null,
   "id": "2af68edf",
   "metadata": {},
   "outputs": [],
   "source": [
    "%run -i ../run_procedure.py \"call get_data('DEMO_GLM_Fraud_local')\";"
   ]
  },
  {
   "cell_type": "code",
   "execution_count": null,
   "id": "cf88131c",
   "metadata": {},
   "outputs": [],
   "source": [
    "%run -i ../run_procedure.py \"call remove_data('DEMO_GLM_Fraud')\";   # only needed if you want to clean up space"
   ]
  },
  {
   "cell_type": "markdown",
   "id": "a889217f",
   "metadata": {},
   "source": [
    "### DEMO_IndoorSensor\n",
    "The database DEMO_IndoorSensor provides data from 54 building sensor locations at the Intel Berkeley Research lab. They produce an average of 68,000 readings per day over the month used in this demo. We will not only analyze the temperature, humidity, and light but also the connectivity of the sensors to each other and voltage readings. The related readings from the sensors is at s3.amazonaws.com/trial-datasets/IndoorSensor/data.csv and has 2,313,682 rows.\n",
    "\n",
    "Tables:\n",
    "- Connectivity - Row Count: 2,970\n",
    "- Sensor_Location - Row Count: 54"
   ]
  },
  {
   "cell_type": "code",
   "execution_count": null,
   "id": "46c374fe",
   "metadata": {},
   "outputs": [],
   "source": [
    "%run -i ../run_procedure.py \"call get_data('DEMO_IndoorSensor_cloud')\";"
   ]
  },
  {
   "cell_type": "code",
   "execution_count": null,
   "id": "af887cdc",
   "metadata": {},
   "outputs": [],
   "source": [
    "%run -i ../run_procedure.py \"call get_data('DEMO_IndoorSensor_local')\";"
   ]
  },
  {
   "cell_type": "code",
   "execution_count": null,
   "id": "3a6b219f",
   "metadata": {},
   "outputs": [],
   "source": [
    "%run -i ../run_procedure.py \"call remove_data('DEMO_IndoorSensor')\";   # only needed if you want to clean up space"
   ]
  },
  {
   "cell_type": "markdown",
   "id": "c50ee3e8",
   "metadata": {},
   "source": [
    "### DEMO_Insurance\n",
    "The database DEMO_Insurance begins with the contents of Policy_Details_org which has basic data about policy_ID, Customer_ID, car, start data, premium, and state. It then synthesizes claims and temporal policy tables. \n",
    "\n",
    "Tables:\n",
    "- Insurance_Claims_Details - Row Count: 69                                \n",
    "- Policy_Bitemp - Row Count: 706                                   \n",
    "- Policy_Details - Row Count: 2,958                                             \n",
    "- Policy_Details_org - Row Count: 2,958\n"
   ]
  },
  {
   "cell_type": "code",
   "execution_count": null,
   "id": "21a6ae08",
   "metadata": {},
   "outputs": [],
   "source": [
    "%run -i ../run_procedure.py \"call get_data('DEMO_Insurance_local')\";"
   ]
  },
  {
   "cell_type": "code",
   "execution_count": null,
   "id": "fa2db9e9",
   "metadata": {},
   "outputs": [],
   "source": [
    "%run -i ../run_procedure.py \"call remove_data('DEMO_Insurance')\";   # only needed if you want to clean up space"
   ]
  },
  {
   "cell_type": "markdown",
   "id": "5fe85fc4",
   "metadata": {},
   "source": [
    "### DEMO_NYCTaxi\n",
    "The database DEMO_NYCTaxi data includes pick-up and drop-off dates/times, pick-up and drop-off lat/long, trip distances, itemized fares, rate types, payment types, and driver-reported passenger counts. The data was collected and provided to the NYC Taxi and Limousine Commission (TLC) by technology providers authorized under the Taxicab & Livery Passenger Enhancement Programs (TPEP/LPEP). \n",
    "\n",
    "Tables:\n",
    "- Trip - Row Count: 480,535\n",
    "- Trip_Fare - Row Count: 473,151\n",
    "\n"
   ]
  },
  {
   "cell_type": "code",
   "execution_count": null,
   "id": "137d8e92",
   "metadata": {},
   "outputs": [],
   "source": [
    "%run -i ../run_procedure.py \"call get_data('DEMO_NYCTaxi_cloud')\";"
   ]
  },
  {
   "cell_type": "code",
   "execution_count": null,
   "id": "b7ae7f7c",
   "metadata": {},
   "outputs": [],
   "source": [
    "%run -i ../run_procedure.py \"call get_data('DEMO_NYCTaxi_local')\";"
   ]
  },
  {
   "cell_type": "code",
   "execution_count": null,
   "id": "b463e118",
   "metadata": {},
   "outputs": [],
   "source": [
    "%run -i ../run_procedure.py \"call remove_data('DEMO_NYCTaxi')\";   # only needed if you want to clean up space"
   ]
  },
  {
   "cell_type": "markdown",
   "id": "fe17f3da",
   "metadata": {},
   "source": [
    "### DEMO_ParkinsonsDisease\n",
    "The database DEMO_ParkinsonsDisease is composed of a range of biomedical voice measurements from 31 people, 23 with Parkinson's disease (PD). Each column in the table is a particular voice measure, and each row corresponds one of 195 voice recording from these individuals (\"name\" column). The main aim of the data is to discriminate healthy people from those with PD, according to \"status\" column which is set to 0 for healthy and 1 for PD.\n",
    "\n",
    "Tables:\n",
    "- Speech_Features - Row Count: 756 ... column count: 755"
   ]
  },
  {
   "cell_type": "code",
   "execution_count": null,
   "id": "81286bd1",
   "metadata": {},
   "outputs": [],
   "source": [
    "%run -i ../run_procedure.py \"call get_data('DEMO_ParkinsonsDisease_local')\";"
   ]
  },
  {
   "cell_type": "code",
   "execution_count": null,
   "id": "73dbe84a",
   "metadata": {},
   "outputs": [],
   "source": [
    "%run -i ../run_procedure.py \"call remove_data('DEMO_ParkinsonsDisease')\";   # only needed if you want to clean up space"
   ]
  },
  {
   "cell_type": "markdown",
   "id": "1a6ed9b2",
   "metadata": {},
   "source": [
    "### DEMO_Retail\n",
    "The database DEMO_Retail has the Retail_Events table useful for path analysis with a series of events by entitiy and date. The other is Web_Comment which is useful for text analysis.\n",
    "\n",
    "Tables:\n",
    "- Retail_Events - Row Count: 35,866\n",
    "- Web_Comment - Row Count: 23,486"
   ]
  },
  {
   "cell_type": "code",
   "execution_count": null,
   "id": "181802ea",
   "metadata": {},
   "outputs": [],
   "source": [
    "%run -i ../run_procedure.py \"call get_data('DEMO_Retail_cloud')\";"
   ]
  },
  {
   "cell_type": "code",
   "execution_count": null,
   "id": "25dc3ac9",
   "metadata": {},
   "outputs": [],
   "source": [
    "%run -i ../run_procedure.py \"call get_data('DEMO_Retail_local')\";"
   ]
  },
  {
   "cell_type": "code",
   "execution_count": null,
   "id": "0510f655",
   "metadata": {},
   "outputs": [],
   "source": [
    "%run -i ../run_procedure.py \"call remove_data('DEMO_Retail')\";   # only needed if you want to clean up space"
   ]
  },
  {
   "cell_type": "markdown",
   "id": "3cfab420",
   "metadata": {},
   "source": [
    "### DEMO_SalesOffload\n",
    "The database DEMO_SalesOffload provides basic information about sales by customer and store and basket IDs, with 5.2 million rows. A related set of older historical data is in a public dataset at: s3.amazonaws.com/trial-datasets/SalesOffload with 37,595,550 rows\n",
    "\n",
    "Tables:\n",
    "- Sales_Fact - Row Count: 5,238,060"
   ]
  },
  {
   "cell_type": "code",
   "execution_count": null,
   "id": "f5a56df4",
   "metadata": {},
   "outputs": [],
   "source": [
    "%run -i ../run_procedure.py \"call get_data('DEMO_SalesOffload_cloud')\";"
   ]
  },
  {
   "cell_type": "code",
   "execution_count": null,
   "id": "15ce2829",
   "metadata": {},
   "outputs": [],
   "source": [
    "%run -i ../run_procedure.py \"call get_data('DEMO_SalesOffload_local')\";"
   ]
  },
  {
   "cell_type": "code",
   "execution_count": null,
   "id": "4176aa3c",
   "metadata": {},
   "outputs": [],
   "source": [
    "%run -i ../run_procedure.py \"call remove_data('DEMO_SalesOffload')\";   # only needed if you want to clean up space"
   ]
  },
  {
   "cell_type": "markdown",
   "id": "d65a1587",
   "metadata": {},
   "source": [
    "### DEMO_TelcoNetwork\n",
    "The database DEMO_TelcoNetwork provides information about \n",
    "\n",
    "It is used by:\n",
    "\n",
    "\n",
    "Tables:\n",
    "- Cell_Towers\n",
    "- Cust_Experience\n",
    "- Cust_Journey\n"
   ]
  },
  {
   "cell_type": "code",
   "execution_count": null,
   "id": "76f6be0e",
   "metadata": {},
   "outputs": [],
   "source": [
    "%run -i ../run_procedure.py \"call get_data('DEMO_TelcoNetwork_cloud')\";"
   ]
  },
  {
   "cell_type": "code",
   "execution_count": null,
   "id": "14b1d05b",
   "metadata": {},
   "outputs": [],
   "source": [
    "%run -i ../run_procedure.py \"call get_data('DEMO_TelcoNetwork_local')\";"
   ]
  },
  {
   "cell_type": "code",
   "execution_count": null,
   "id": "98e8f99e",
   "metadata": {},
   "outputs": [],
   "source": [
    "%run -i ../run_procedure.py \"call remove_data('DEMO_TelcoNetwork')\";   # only needed if you want to clean up space"
   ]
  },
  {
   "cell_type": "markdown",
   "id": "6a7b9586",
   "metadata": {},
   "source": [
    "### DEMO_TPCH_1Gb\n",
    "This consists of the 8 tables that make up the TPCH Benchmark.  Since this tiny platform is for functional testing, the scale of this data is 1 GB. This is provided as a coordinated set of tables to use with your BI tools. (The TPC-H queries are not representative of the typical mixed workload we observe on production platforms since 82% scan over 24 months of data.  The data lacks realistic skew. For example, there are exactly 4 line items for every order).   \n",
    "\n",
    "The tables include:\n",
    "-  CUSTOMER - 150,0009 rows\n",
    "-  LINEITEM - 6,001,2159 rows\n",
    "-  NATION - 259 rows\n",
    "-  ORDERS - 1,500,0009 rows\n",
    "-  PART - 200,0009 rows\n",
    "-  PARTSUPP - 800,0009 rows\n",
    "-  REGION - 59 rows\n",
    "-  SUPPLIER - 10,0009 rows"
   ]
  },
  {
   "cell_type": "code",
   "execution_count": null,
   "id": "2402cd03",
   "metadata": {},
   "outputs": [],
   "source": [
    "%run -i ../run_procedure.py \"call get_data('DEMO_TPCH_1Gb_cloud')\";"
   ]
  },
  {
   "cell_type": "code",
   "execution_count": null,
   "id": "0c816c2a",
   "metadata": {},
   "outputs": [],
   "source": [
    "%run -i ../run_procedure.py \"call remove_data('DEMO_TPCH_1Gb')\";   # only needed if you want to clean up space"
   ]
  },
  {
   "cell_type": "markdown",
   "id": "51003a3c",
   "metadata": {},
   "source": [
    "\n",
    "<hr>\n",
    "<b style = 'font-size:28px;font-family:Arial;color:#E37C4D'>Description of Databases, Tables, and Other Objects</b>\n",
    "<img  src=\"DemoNow_Table_Design.png\" alt=\"DemoNow_Table_Design\" width=\"600\" align=\"right\" />\n",
    "\n",
    "All data used in for these demos is provided on Cloud Storage. That data has been exported in Parquet format. For Vantage to access that data, a foreign table is defined with the necessary credentials. For ClearScape Analytics, we create the foreign table definitions in the database gs_tables_db (gs = Google Storage) which also contains the Authentication object. We use a stored procedure to run scripts to create the foreign tables, optionally local tables, and a view database with 1:1 views, macros, and stored procedures needed for those databases. The script suffix indicates which version of tables you will get:\n",
    "<ol>\n",
    "<li> xxx_<b>cloud</b> - uses 1:1 views pointing directly at the foreign tables.  Faster to setup, but slower demo execution</li>\n",
    "<li> xxx_<b>local</b> - imports the data to local tables and creates 1:1 views pointing at the local tables. Slower to set up, faster demo execution, but may cause database storage space considerations.</li>\n",
    "</ol>\n",
    "\n",
    "You can run either the xxx_<b>cloud</b> or xxx_<b>local</b> script, but if you want to switch, you should run the corresponding remove_data procedure. There is also a \"manage_space.py\" routine included at the top of this notebook to display the demo databases, the space used and the space available. You may enter the word \"delete\" followed by the numbers of any databases you want to delete. The table databases end with \"_db\" and the view databases have a similar name without the \"_db\" suffix. \n",
    "\n",
    "\n",
    "The original source data for these demonstrations was exported from an internal platform used by Teradata associates for demonstrations called Vantage-Live. These tables have not been curated and some of the databases have several hundred tables ... some are copies and some are just work tables. Some may be useful in creating your demos. You can access those from:<br>\n",
    "[Legacy Data Dictionary](Data_Dictionary_Legacy.ipynb)\n",
    "\n"
   ]
  },
  {
   "cell_type": "markdown",
   "id": "a8580f75",
   "metadata": {},
   "source": [
    "\n",
    "Copyright © 2022, 2023 Teradata Corporation"
   ]
  }
 ],
 "metadata": {
  "kernelspec": {
   "display_name": "Python 3 (ipykernel)",
   "language": "python",
   "name": "python3"
  },
  "language_info": {
   "codemirror_mode": {
    "name": "ipython",
    "version": 3
   },
   "file_extension": ".py",
   "mimetype": "text/x-python",
   "name": "python",
   "nbconvert_exporter": "python",
   "pygments_lexer": "ipython3",
   "version": "3.9.10"
  }
 },
 "nbformat": 4,
 "nbformat_minor": 5
}
