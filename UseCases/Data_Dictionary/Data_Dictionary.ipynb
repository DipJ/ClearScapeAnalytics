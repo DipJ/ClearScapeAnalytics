{
 "cells": [
  {
   "cell_type": "markdown",
   "id": "bright-cigarette",
   "metadata": {},
   "source": [
    "<b style = \"font-size:28px;font-family:Arial;color:#E37C4D\">ClearScape Analytics Data on Cloud Storage</b><img  src=\"Data_Dictionary.png\" alt=\"Data_Dictionary\" width=\"150\" align=\"right\" />\n",
    "\n",
    "\n",
    " This data is being provided in Cloud Storage, having been exported from Teradata Vantage Live which was originally publicly sourced data. However, there has been value add to the content and structure of the data, and as such is protected work product of the Teradata Corporation.  It is provided for use with the demonstrations in ClearScape Analytics Experience.\n",
    "\n",
    "\n",
    "After each database description are two \"run\" commands:\n",
    "<ol><li> a statement to create foreign tables to link to Cloud Storage, create a view database with 1:1 views pointing at those foreign tables, and any semantic views and other object needed by the demonstration</li>\n",
    "<li> a statement to import data from Cloud Storage to create local tables and 1:1 views pointing at those local tables. </li></ol>\n",
    "Click in the cell with the \"run\" statement and press SHIFT + ENTER to run either routine. All demonstrations will run either with Cloud tables or local tables. The local tables will be faster, however that means you will need to manage local storage.\n"
   ]
  },
  {
   "cell_type": "markdown",
   "id": "c4547e96-439c-4af8-bb8b-470edc1f6537",
   "metadata": {},
   "source": [
    "## Description of Databases, Tables, and Other Objects\n",
    "\n",
    "The data for these demos have been exported in Parquet format. For Vantage to access that data, a foreign table is defined with the necessary credentials. For the ClearScape Analytics Experience, we create all of those definitions in the database gs_tables_db (gs = Google Storage) which also contains the Authentication object. \n",
    "\n",
    "These tables were originally created on a database internal to the Teradata Corporation from publicly available data sources. The authors of demos referenced those tables and created other objects such as semantic views, macros, and stored procedures in those databases. To allow those demos to run with minimum changes, we create databases with views that provide 1:1 mapping to the foreign tables in the gs_tables_db. We then create any other database objects in that view database that will reference the 1:1 views as if they were local tables. The demos can then reference the view database with the same object naming as in the original database.\n",
    "\n",
    "We have also provided a routine to import the tables to a local database inside your Vantage virtual machine. It then changes the 1:1 views in the view database to point to the local tables. Performance will be better because there is no latency to cloud storage and the local table storage is optimized for fast access. All of the semantic views, macros, and stored procedures will continue to reference the 1:1 views which now point at local table storage.\n",
    "<img  src=\"DemoNow_Table_Design.png\" alt=\"DemoNow_Table_Design\" width=\"600\" align=\"right\" />\n",
    "\n",
    "You can re-run either the \"create_NOS_tables_and_views.py\" or the \"import_tables_and_change_views.py\" via the run statement after each database to switch back and forth between 1:1 views pointing at foreign cloud storage tables or local Vantage tables. \n",
    "\n",
    "Local storage is limited. To assist you, a \"manage_space.py\" routine was included at the top of this notebook to display the demo databases, the space used and the space available. You may enter the word \"delete\" followed by the numbers of any databases you want to delete. The table databases end with \"_db\" and the view databases have a similar name without the \"_db\" suffix. The view databases take no space, but if you decide to delete a table database and retain the view database to access foreign tables, you may need to re-run the \"create_NOS_tables_and_views.py\" to recreate the 1:1 views pointing at the foreign tables. "
   ]
  },
  {
   "cell_type": "markdown",
   "id": "herbal-vision",
   "metadata": {},
   "source": [
    "## Video Introduction to Data Dictionary (2.5 minutes)\n",
    "Click in the cell below and press SHIFT + ENTER to play."
   ]
  },
  {
   "cell_type": "code",
   "execution_count": null,
   "id": "consecutive-victoria",
   "metadata": {},
   "outputs": [],
   "source": [
    "%%HTML\n",
    "<iframe width=\"640\" height=\"360\" src=\"https://web.microsoftstream.com/embed/video/ab4f3009-0018-47f6-bb9f-64bc74205247?autoplay=false&showinfo=false\" allowfullscreen style=\"border:none;\"></iframe>"
   ]
  },
  {
   "cell_type": "markdown",
   "id": "junior-scientist",
   "metadata": {},
   "source": [
    "## Manage_Your_Space \n",
    "You may use the \"manage space\" routine below to view current space usage and available space. "
   ]
  },
  {
   "cell_type": "code",
   "execution_count": null,
   "id": "magnetic-billy",
   "metadata": {},
   "outputs": [],
   "source": [
    "run -i ../../DDL/manage_space.py"
   ]
  },
  {
   "cell_type": "markdown",
   "id": "reserved-tenant",
   "metadata": {},
   "source": [
    "## Available Demonstration Databases"
   ]
  },
  {
   "cell_type": "markdown",
   "id": "broadband-standing",
   "metadata": {},
   "source": [
    "### TRNG_AML\n",
    "TRNG_AML has 41 tables, 3.5 MB. The largest: transaction_detail, transaction_agg, party_acct\n"
   ]
  },
  {
   "cell_type": "code",
   "execution_count": null,
   "id": "designed-weekend",
   "metadata": {},
   "outputs": [],
   "source": [
    "run -i ../../DDL/create_NOS_tables_and_views.py TRNG_AML.ddl"
   ]
  },
  {
   "cell_type": "code",
   "execution_count": null,
   "id": "collected-uniform",
   "metadata": {},
   "outputs": [],
   "source": [
    "run -i ../../DDL/import_tables_and_change_views.py TRNG_AML_db.ddl 1000"
   ]
  },
  {
   "cell_type": "markdown",
   "id": "regulation-looking",
   "metadata": {},
   "source": [
    "### TRNG_AOpsEquipmentFailure\n",
    "TRNG_AOpsEquipmentFailure has 8 tables, 1.8 MB. The largest: stryker_gen_miles, wblMLE_Data, stryker_gen_part_fails\n"
   ]
  },
  {
   "cell_type": "code",
   "execution_count": null,
   "id": "pursuant-bride",
   "metadata": {},
   "outputs": [],
   "source": [
    "run -i ../../DDL/create_NOS_tables_and_views.py TRNG_AOpsEquipmentFailure.ddl"
   ]
  },
  {
   "cell_type": "code",
   "execution_count": null,
   "id": "fancy-canal",
   "metadata": {},
   "outputs": [],
   "source": [
    "run -i ../../DDL/import_tables_and_change_views.py TRNG_AOpsEquipmentFailure_db.ddl 1000"
   ]
  },
  {
   "cell_type": "markdown",
   "id": "demonstrated-muslim",
   "metadata": {},
   "source": [
    "### TRNG_AP\n",
    "TRNG_AP has 7 tables, 1.5 MB. The largest: Accounts, Trans, Customer\n"
   ]
  },
  {
   "cell_type": "code",
   "execution_count": null,
   "id": "living-model",
   "metadata": {},
   "outputs": [],
   "source": [
    "run -i ../../DDL/create_NOS_tables_and_views.py TRNG_AP.ddl"
   ]
  },
  {
   "cell_type": "code",
   "execution_count": null,
   "id": "alien-penguin",
   "metadata": {},
   "outputs": [],
   "source": [
    "run -i ../../DDL/import_tables_and_change_views.py TRNG_AP_db.ddl 1000"
   ]
  },
  {
   "cell_type": "markdown",
   "id": "gross-matrix",
   "metadata": {},
   "source": [
    "### TRNG_APJ_TechSummit21\n",
    "TRNG_APJ_TechSummit21 has 2 tables, 0.3 MB. The largest: diabetic_data, hospital_codes\n"
   ]
  },
  {
   "cell_type": "code",
   "execution_count": null,
   "id": "governmental-finland",
   "metadata": {},
   "outputs": [],
   "source": [
    "run -i ../../DDL/create_NOS_tables_and_views.py TRNG_APJ_TechSummit21.ddl"
   ]
  },
  {
   "cell_type": "code",
   "execution_count": null,
   "id": "lesser-semiconductor",
   "metadata": {},
   "outputs": [],
   "source": [
    "run -i ../../DDL/import_tables_and_change_views.py TRNG_APJ_TechSummit21_db.ddl 1000"
   ]
  },
  {
   "cell_type": "markdown",
   "id": "interracial-youth",
   "metadata": {},
   "source": [
    "### TRNG_APJ_TechSummit22\n",
    "No description available"
   ]
  },
  {
   "cell_type": "code",
   "execution_count": null,
   "id": "dedicated-module",
   "metadata": {},
   "outputs": [],
   "source": [
    "run -i ../../DDL/create_NOS_tables_and_views.py TRNG_APJ_TechSummit22.ddl"
   ]
  },
  {
   "cell_type": "code",
   "execution_count": null,
   "id": "hungarian-hepatitis",
   "metadata": {},
   "outputs": [],
   "source": [
    "run -i ../../DDL/import_tables_and_change_views.py TRNG_APJ_TechSummit22_db.ddl 1000"
   ]
  },
  {
   "cell_type": "markdown",
   "id": "devoted-gnome",
   "metadata": {},
   "source": [
    "### TRNG_AnalyticOps\n",
    "TRNG_AnalyticOps has 9 tables, 8.6 MB. The largest: ml__td_xgboost0_15808958607830, AOA_MODELS_3a7e54f5, AOA_MODELS_d68791b5\n"
   ]
  },
  {
   "cell_type": "code",
   "execution_count": null,
   "id": "solved-acrylic",
   "metadata": {},
   "outputs": [],
   "source": [
    "run -i ../../DDL/create_NOS_tables_and_views.py TRNG_AnalyticOps.ddl"
   ]
  },
  {
   "cell_type": "code",
   "execution_count": null,
   "id": "medical-passing",
   "metadata": {},
   "outputs": [],
   "source": [
    "run -i ../../DDL/import_tables_and_change_views.py TRNG_AnalyticOps_db.ddl 1000"
   ]
  },
  {
   "cell_type": "markdown",
   "id": "bibliographic-slovenia",
   "metadata": {},
   "source": [
    "### TRNG_AustinBikeShare\n",
    "TRNG_AustinBikeShare has 4 tables, 0.3 MB. The largest: Weather, stations, weather_temporal\n"
   ]
  },
  {
   "cell_type": "code",
   "execution_count": null,
   "id": "potential-render",
   "metadata": {},
   "outputs": [],
   "source": [
    "run -i ../../DDL/create_NOS_tables_and_views.py TRNG_AustinBikeShare.ddl"
   ]
  },
  {
   "cell_type": "code",
   "execution_count": null,
   "id": "living-bloom",
   "metadata": {},
   "outputs": [],
   "source": [
    "run -i ../../DDL/import_tables_and_change_views.py TRNG_AustinBikeShare_db.ddl 1000"
   ]
  },
  {
   "cell_type": "markdown",
   "id": "biblical-invitation",
   "metadata": {},
   "source": [
    "### TRNG_BYOM\n",
    "TRNG_BYOM has 42 tables, 45.3 MB. The largest: pmml_models, mojo_models, H2O_JAR\n"
   ]
  },
  {
   "cell_type": "code",
   "execution_count": null,
   "id": "chubby-shame",
   "metadata": {},
   "outputs": [],
   "source": [
    "run -i ../../DDL/create_NOS_tables_and_views.py TRNG_BYOM.ddl"
   ]
  },
  {
   "cell_type": "code",
   "execution_count": null,
   "id": "sharing-liechtenstein",
   "metadata": {},
   "outputs": [],
   "source": [
    "run -i ../../DDL/import_tables_and_change_views.py TRNG_BYOM_db.ddl 1000"
   ]
  },
  {
   "cell_type": "markdown",
   "id": "thorough-shoulder",
   "metadata": {},
   "source": [
    "### TRNG_BustOutFraud\n",
    "TRNG_BustOutFraud has 21 tables, 172.8 MB. The largest: trans_feature_day_derived, trans_feature, trans_feature_xgboost_model\n"
   ]
  },
  {
   "cell_type": "code",
   "execution_count": null,
   "id": "narrow-pixel",
   "metadata": {},
   "outputs": [],
   "source": [
    "run -i ../../DDL/create_NOS_tables_and_views.py TRNG_BustOutFraud.ddl"
   ]
  },
  {
   "cell_type": "code",
   "execution_count": null,
   "id": "ordinary-praise",
   "metadata": {},
   "outputs": [],
   "source": [
    "run -i ../../DDL/import_tables_and_change_views.py TRNG_BustOutFraud_db.ddl 1000"
   ]
  },
  {
   "cell_type": "markdown",
   "id": "planned-recipe",
   "metadata": {},
   "source": [
    "### TRNG_CNPFraud\n",
    "TRNG_CNPFraud has 33 tables, 17.8 MB. The largest: cc_transactions, accounts, credit_limit\n"
   ]
  },
  {
   "cell_type": "code",
   "execution_count": null,
   "id": "prompt-astrology",
   "metadata": {},
   "outputs": [],
   "source": [
    "run -i ../../DDL/create_NOS_tables_and_views.py TRNG_CNPFraud.ddl"
   ]
  },
  {
   "cell_type": "code",
   "execution_count": null,
   "id": "hearing-italian",
   "metadata": {},
   "outputs": [],
   "source": [
    "run -i ../../DDL/import_tables_and_change_views.py TRNG_CNPFraud_db.ddl 1000"
   ]
  },
  {
   "cell_type": "markdown",
   "id": "private-playback",
   "metadata": {},
   "source": [
    "### TRNG_CONNECTEDFACTORY\n",
    "TRNG_CONNECTEDFACTORY has 315 tables, 415.3 MB. The largest: MVP_SIM_T_SIM_ADS, MVP_TAB_QM_SCORED, MVP_TAB_QM_RAW\n"
   ]
  },
  {
   "cell_type": "code",
   "execution_count": null,
   "id": "yellow-klein",
   "metadata": {},
   "outputs": [],
   "source": [
    "run -i ../../DDL/create_NOS_tables_and_views.py TRNG_CONNECTEDFACTORY.ddl"
   ]
  },
  {
   "cell_type": "code",
   "execution_count": null,
   "id": "built-violation",
   "metadata": {},
   "outputs": [],
   "source": [
    "run -i ../../DDL/import_tables_and_change_views.py TRNG_CONNECTEDFACTORY_db.ddl 1000"
   ]
  },
  {
   "cell_type": "markdown",
   "id": "national-native",
   "metadata": {},
   "source": [
    "### TRNG_COVID19\n",
    "TRNG_COVID19 has 388 tables, 1182 MB. The largest: FACT_COVID19_DATAHUB, FACT_Covid_Model_Data_BKP_21_0, FACT_INDICATOR_DASHBOARD_T2_P\n"
   ]
  },
  {
   "cell_type": "code",
   "execution_count": null,
   "id": "irish-muscle",
   "metadata": {},
   "outputs": [],
   "source": [
    "run -i ../../DDL/create_NOS_tables_and_views.py TRNG_COVID19.ddl"
   ]
  },
  {
   "cell_type": "code",
   "execution_count": null,
   "id": "laden-plastic",
   "metadata": {},
   "outputs": [],
   "source": [
    "run -i ../../DDL/import_tables_and_change_views.py TRNG_COVID19_db.ddl 1000"
   ]
  },
  {
   "cell_type": "markdown",
   "id": "ready-behalf",
   "metadata": {},
   "source": [
    "### TRNG_COVID19_GDC\n",
    "TRNG_COVID19_GDC has 66 tables, 12.9 MB. The largest: Kaggle_text_covid_19, Kaggle_Text_data_covid_19, All_tag_tweet_text_data\n"
   ]
  },
  {
   "cell_type": "code",
   "execution_count": null,
   "id": "parliamentary-mailman",
   "metadata": {},
   "outputs": [],
   "source": [
    "run -i ../../DDL/create_NOS_tables_and_views.py TRNG_COVID19_GDC.ddl"
   ]
  },
  {
   "cell_type": "code",
   "execution_count": null,
   "id": "statistical-tobago",
   "metadata": {},
   "outputs": [],
   "source": [
    "run -i ../../DDL/import_tables_and_change_views.py TRNG_COVID19_GDC_db.ddl 1000"
   ]
  },
  {
   "cell_type": "markdown",
   "id": "lesbian-poverty",
   "metadata": {},
   "source": [
    "### TRNG_Collaterals\n",
    "TRNG_Collaterals has 5 tables, 0.3 MB. The largest: Photos, TF_Materials, Orders_1600\n"
   ]
  },
  {
   "cell_type": "code",
   "execution_count": null,
   "id": "hungarian-symposium",
   "metadata": {},
   "outputs": [],
   "source": [
    "run -i ../../DDL/create_NOS_tables_and_views.py TRNG_Collaterals.ddl"
   ]
  },
  {
   "cell_type": "code",
   "execution_count": null,
   "id": "relative-quarter",
   "metadata": {},
   "outputs": [],
   "source": [
    "run -i ../../DDL/import_tables_and_change_views.py TRNG_Collaterals_db.ddl 1000"
   ]
  },
  {
   "cell_type": "markdown",
   "id": "moved-pencil",
   "metadata": {},
   "source": [
    "### TRNG_ColoradoCrimeDrug\n",
    "TRNG_ColoradoCrimeDrug has 17 tables, 20.7 MB. The largest: DUI_ARREST, CRIME, SEIZED_DRUGS\n"
   ]
  },
  {
   "cell_type": "code",
   "execution_count": null,
   "id": "serious-portrait",
   "metadata": {},
   "outputs": [],
   "source": [
    "run -i ../../DDL/create_NOS_tables_and_views.py TRNG_ColoradoCrimeDrug.ddl"
   ]
  },
  {
   "cell_type": "code",
   "execution_count": null,
   "id": "mysterious-amendment",
   "metadata": {},
   "outputs": [],
   "source": [
    "run -i ../../DDL/import_tables_and_change_views.py TRNG_ColoradoCrimeDrug_db.ddl 1000"
   ]
  },
  {
   "cell_type": "markdown",
   "id": "industrial-projector",
   "metadata": {},
   "source": [
    "### TRNG_Covid360\n",
    "TRNG_Covid360 has 37 tables, 193.9 MB. The largest: ADS_simulation_with_risk, ADS_Simulation, ADS_simulation_with_risk_locat\n"
   ]
  },
  {
   "cell_type": "code",
   "execution_count": null,
   "id": "curious-hardware",
   "metadata": {},
   "outputs": [],
   "source": [
    "run -i ../../DDL/create_NOS_tables_and_views.py TRNG_Covid360.ddl"
   ]
  },
  {
   "cell_type": "code",
   "execution_count": null,
   "id": "authorized-shoot",
   "metadata": {},
   "outputs": [],
   "source": [
    "run -i ../../DDL/import_tables_and_change_views.py TRNG_Covid360_db.ddl 1000"
   ]
  },
  {
   "cell_type": "markdown",
   "id": "frequent-assets",
   "metadata": {},
   "source": [
    "### TRNG_DOJTextAnalysis\n",
    "TRNG_DOJTextAnalysis has 13 tables, 20.3 MB. The largest: AMZ_FINE_FOOD_REVIEWS, AMZ_FINE_FOOD_REVIEWS_text_out, AMZ_FINE_FOOD_REVIEWS3_text_ou\n"
   ]
  },
  {
   "cell_type": "code",
   "execution_count": null,
   "id": "paperback-prime",
   "metadata": {},
   "outputs": [],
   "source": [
    "run -i ../../DDL/create_NOS_tables_and_views.py TRNG_DOJTextAnalysis.ddl"
   ]
  },
  {
   "cell_type": "code",
   "execution_count": null,
   "id": "reported-billy",
   "metadata": {},
   "outputs": [],
   "source": [
    "run -i ../../DDL/import_tables_and_change_views.py TRNG_DOJTextAnalysis_db.ddl 1000"
   ]
  },
  {
   "cell_type": "markdown",
   "id": "close-automation",
   "metadata": {},
   "source": [
    "### TRNG_DS\n",
    "TRNG_DS has 3 tables, 20 MB. The largest: Orders_1600, Orders, Orders_2021\n"
   ]
  },
  {
   "cell_type": "code",
   "execution_count": null,
   "id": "funky-trigger",
   "metadata": {},
   "outputs": [],
   "source": [
    "run -i ../../DDL/create_NOS_tables_and_views.py TRNG_DS.ddl"
   ]
  },
  {
   "cell_type": "code",
   "execution_count": null,
   "id": "geological-absorption",
   "metadata": {},
   "outputs": [],
   "source": [
    "run -i ../../DDL/import_tables_and_change_views.py TRNG_DS_db.ddl 1000"
   ]
  },
  {
   "cell_type": "markdown",
   "id": "organic-running",
   "metadata": {},
   "source": [
    "### TRNG_DataScienceExploration\n",
    "TRNG_DataScienceExploration has 11 tables, 76.9 MB. The largest: ROSSMANN_SALES, ROSSMANN_SALES_STG, MOVIE_LENS\n"
   ]
  },
  {
   "cell_type": "code",
   "execution_count": null,
   "id": "forbidden-notebook",
   "metadata": {},
   "outputs": [],
   "source": [
    "run -i ../../DDL/create_NOS_tables_and_views.py TRNG_DataScienceExploration.ddl"
   ]
  },
  {
   "cell_type": "code",
   "execution_count": null,
   "id": "packed-proxy",
   "metadata": {},
   "outputs": [],
   "source": [
    "run -i ../../DDL/import_tables_and_change_views.py TRNG_DataScienceExploration_db.ddl 1000"
   ]
  },
  {
   "cell_type": "markdown",
   "id": "ruled-hollywood",
   "metadata": {},
   "source": [
    "### TRNG_Data_Science\n",
    "No description available"
   ]
  },
  {
   "cell_type": "code",
   "execution_count": null,
   "id": "younger-forest",
   "metadata": {},
   "outputs": [],
   "source": [
    "run -i ../../DDL/create_NOS_tables_and_views.py TRNG_Data_Science.ddl"
   ]
  },
  {
   "cell_type": "code",
   "execution_count": null,
   "id": "champion-debut",
   "metadata": {},
   "outputs": [],
   "source": [
    "run -i ../../DDL/import_tables_and_change_views.py TRNG_Data_Science_db.ddl 1000"
   ]
  },
  {
   "cell_type": "markdown",
   "id": "original-simple",
   "metadata": {},
   "source": [
    "### TRNG_DigitalEvents\n",
    "TRNG_DigitalEvents has 2 tables, 15.4 MB. The largest: Mobile_Money_Txns, Digital_Retail_Events\n"
   ]
  },
  {
   "cell_type": "code",
   "execution_count": null,
   "id": "successful-cuisine",
   "metadata": {},
   "outputs": [],
   "source": [
    "run -i ../../DDL/create_NOS_tables_and_views.py TRNG_DigitalEvents.ddl"
   ]
  },
  {
   "cell_type": "code",
   "execution_count": null,
   "id": "automatic-minnesota",
   "metadata": {},
   "outputs": [],
   "source": [
    "run -i ../../DDL/import_tables_and_change_views.py TRNG_DigitalEvents_db.ddl 1000"
   ]
  },
  {
   "cell_type": "markdown",
   "id": "lined-salon",
   "metadata": {},
   "source": [
    "### TRNG_EVCarBattery\n",
    "TRNG_EVCarBattery has 10 tables, 2.5 MB. The largest: bom, customers, vehicles\n"
   ]
  },
  {
   "cell_type": "code",
   "execution_count": null,
   "id": "micro-reaction",
   "metadata": {},
   "outputs": [],
   "source": [
    "run -i ../../DDL/create_NOS_tables_and_views.py TRNG_EVCarBattery.ddl"
   ]
  },
  {
   "cell_type": "code",
   "execution_count": null,
   "id": "missing-cement",
   "metadata": {},
   "outputs": [],
   "source": [
    "run -i ../../DDL/import_tables_and_change_views.py TRNG_EVCarBattery_db.ddl 1000"
   ]
  },
  {
   "cell_type": "markdown",
   "id": "annual-experiment",
   "metadata": {},
   "source": [
    "### TRNG_EVCarQueryGrid\n",
    "TRNG_EVCarQueryGrid has 9 tables, 2.5 MB. The largest: bom, customers, vehicles\n"
   ]
  },
  {
   "cell_type": "code",
   "execution_count": null,
   "id": "strange-wrestling",
   "metadata": {},
   "outputs": [],
   "source": [
    "run -i ../../DDL/create_NOS_tables_and_views.py TRNG_EVCarQueryGrid.ddl"
   ]
  },
  {
   "cell_type": "code",
   "execution_count": null,
   "id": "incoming-monitoring",
   "metadata": {},
   "outputs": [],
   "source": [
    "run -i ../../DDL/import_tables_and_change_views.py TRNG_EVCarQueryGrid_db.ddl 1000"
   ]
  },
  {
   "cell_type": "markdown",
   "id": "hybrid-beverage",
   "metadata": {},
   "source": [
    "### TRNG_Energy_Consumption\n",
    "TRNG_Energy_Consumption has 1 tables, 3.2 MB. The largest: energy_no_consumption_datamart\n"
   ]
  },
  {
   "cell_type": "code",
   "execution_count": null,
   "id": "black-corps",
   "metadata": {},
   "outputs": [],
   "source": [
    "run -i ../../DDL/create_NOS_tables_and_views.py TRNG_Energy_Consumption.ddl"
   ]
  },
  {
   "cell_type": "code",
   "execution_count": null,
   "id": "loose-spectrum",
   "metadata": {},
   "outputs": [],
   "source": [
    "run -i ../../DDL/import_tables_and_change_views.py TRNG_Energy_Consumption_db.ddl 1000"
   ]
  },
  {
   "cell_type": "markdown",
   "id": "humanitarian-selection",
   "metadata": {},
   "source": [
    "### TRNG_EquipFailure\n",
    "TRNG_EquipFailure has 13 tables, 6.8 MB. The largest: DEMO_EQUIP_TESTING, DEMO_EQUIP_TRAINING_model_pred, DEMO_EQUIP_TRAINING\n"
   ]
  },
  {
   "cell_type": "code",
   "execution_count": null,
   "id": "dynamic-label",
   "metadata": {},
   "outputs": [],
   "source": [
    "run -i ../../DDL/create_NOS_tables_and_views.py TRNG_EquipFailure.ddl"
   ]
  },
  {
   "cell_type": "code",
   "execution_count": null,
   "id": "advisory-lancaster",
   "metadata": {},
   "outputs": [],
   "source": [
    "run -i ../../DDL/import_tables_and_change_views.py TRNG_EquipFailure_db.ddl 1000"
   ]
  },
  {
   "cell_type": "markdown",
   "id": "optimum-steering",
   "metadata": {},
   "source": [
    "### TRNG_FSCustomerJourney\n",
    "TRNG_FSCustomerJourney has 32 tables, 3.3 MB. The largest: ich_banking, ich_banking_nonchurn_paths_tok, customers\n"
   ]
  },
  {
   "cell_type": "code",
   "execution_count": null,
   "id": "rural-chamber",
   "metadata": {},
   "outputs": [],
   "source": [
    "run -i ../../DDL/create_NOS_tables_and_views.py TRNG_FSCustomerJourney.ddl"
   ]
  },
  {
   "cell_type": "code",
   "execution_count": null,
   "id": "reliable-irrigation",
   "metadata": {},
   "outputs": [],
   "source": [
    "run -i ../../DDL/import_tables_and_change_views.py TRNG_FSCustomerJourney_db.ddl 1000"
   ]
  },
  {
   "cell_type": "markdown",
   "id": "modified-clear",
   "metadata": {},
   "source": [
    "### TRNG_FinancialProtection\n",
    "TRNG_FinancialProtection has 1 tables, 642.3 MB. The largest: consumer_complaints\n"
   ]
  },
  {
   "cell_type": "code",
   "execution_count": null,
   "id": "brutal-belfast",
   "metadata": {},
   "outputs": [],
   "source": [
    "run -i ../../DDL/create_NOS_tables_and_views.py TRNG_FinancialProtection.ddl"
   ]
  },
  {
   "cell_type": "code",
   "execution_count": null,
   "id": "careful-necklace",
   "metadata": {},
   "outputs": [],
   "source": [
    "run -i ../../DDL/import_tables_and_change_views.py TRNG_FinancialProtection_db.ddl 1000"
   ]
  },
  {
   "cell_type": "markdown",
   "id": "labeled-milan",
   "metadata": {
    "tags": []
   },
   "source": [
    "### TRNG_FinancialProtection_db\n",
    "No description available"
   ]
  },
  {
   "cell_type": "code",
   "execution_count": null,
   "id": "handled-nutrition",
   "metadata": {
    "tags": []
   },
   "outputs": [],
   "source": [
    "run -i ../../DDL/create_NOS_tables_and_views.py TRNG_FinancialProtection_db.ddl"
   ]
  },
  {
   "cell_type": "code",
   "execution_count": null,
   "id": "consecutive-quarter",
   "metadata": {},
   "outputs": [],
   "source": [
    "run -i ../../DDL/import_tables_and_change_views.py TRNG_FinancialProtection_db_db.ddl 1000"
   ]
  },
  {
   "cell_type": "markdown",
   "id": "a06d54ee-dc58-4bcc-83a0-e4f335518f57",
   "metadata": {
    "tags": []
   },
   "source": [
    "### TRNG_GLMFraud\n",
    "No description available"
   ]
  },
  {
   "cell_type": "code",
   "execution_count": 5,
   "id": "25028adf-32e7-4460-bf7d-67da7b8c1f85",
   "metadata": {
    "tags": []
   },
   "outputs": [
    {
     "name": "stdout",
     "output_type": "stream",
     "text": [
      "will be creating  TRNG_GLMFraud tables and views\n",
      "executing:  create database TRNG_GLMFraud from Demo_User as perm=0;\n",
      " ...\n",
      "... already existed\n",
      "executing:  create foreign table gs_tables_db.TRNG_GLMFraud_transaction, external ...\n",
      "... already existed\n",
      "executing:  replace view TRNG_GLMFraud.transaction_data as locking row for access ...\n",
      "\n",
      "\n",
      "Definition of  TRNG_GLMFraud  complete with  3  statements and  2  errors\n"
     ]
    }
   ],
   "source": [
    "run -i ../../DDL/create_NOS_tables_and_views.py TRNG_GLMFraud.ddl"
   ]
  },
  {
   "cell_type": "code",
   "execution_count": null,
   "id": "c53a9ee1-7103-49b3-81e0-143c701eb9b4",
   "metadata": {},
   "outputs": [],
   "source": [
    "run -i ../../DDL/import_tables_and_change_views.py TRNG_GLMFraud_db.ddl 1000"
   ]
  },
  {
   "cell_type": "markdown",
   "id": "south-youth",
   "metadata": {},
   "source": [
    "### TRNG_GTPredictiveMaintenanceDe\n",
    "TRNG_GTPredictiveMaintenanceDe has 56 tables, 43.7 MB. The largest: PCAScaled_train, traintest, mli_Scale_byCluster\n"
   ]
  },
  {
   "cell_type": "code",
   "execution_count": null,
   "id": "another-consideration",
   "metadata": {},
   "outputs": [],
   "source": [
    "run -i ../../DDL/create_NOS_tables_and_views.py TRNG_GTPredictiveMaintenanceDe.ddl"
   ]
  },
  {
   "cell_type": "code",
   "execution_count": null,
   "id": "impressed-record",
   "metadata": {},
   "outputs": [],
   "source": [
    "run -i ../../DDL/import_tables_and_change_views.py TRNG_GTPredictiveMaintenanceDe_db.ddl 1000"
   ]
  },
  {
   "cell_type": "markdown",
   "id": "fatal-anxiety",
   "metadata": {},
   "source": [
    "### TRNG_GamingSessions\n",
    "TRNG_GamingSessions has 10 tables, 2 MB. The largest: gaming_events_sessions_similar, gaming_events_sessions_simil, gaming_events_sessions_simil_d\n"
   ]
  },
  {
   "cell_type": "code",
   "execution_count": null,
   "id": "middle-franklin",
   "metadata": {},
   "outputs": [],
   "source": [
    "run -i ../../DDL/create_NOS_tables_and_views.py TRNG_GamingSessions.ddl"
   ]
  },
  {
   "cell_type": "code",
   "execution_count": null,
   "id": "forward-marijuana",
   "metadata": {},
   "outputs": [],
   "source": [
    "run -i ../../DDL/import_tables_and_change_views.py TRNG_GamingSessions_db.ddl 1000"
   ]
  },
  {
   "cell_type": "markdown",
   "id": "martial-salad",
   "metadata": {},
   "source": [
    "### TRNG_Government\n",
    "TRNG_Government has 14 tables, 55.8 MB. The largest: COVID19_RAWMOD, atbats, npath_plus\n"
   ]
  },
  {
   "cell_type": "code",
   "execution_count": null,
   "id": "imported-cancellation",
   "metadata": {},
   "outputs": [],
   "source": [
    "run -i ../../DDL/create_NOS_tables_and_views.py TRNG_Government.ddl"
   ]
  },
  {
   "cell_type": "code",
   "execution_count": null,
   "id": "responsible-tissue",
   "metadata": {},
   "outputs": [],
   "source": [
    "run -i ../../DDL/import_tables_and_change_views.py TRNG_Government_db.ddl 1000"
   ]
  },
  {
   "cell_type": "markdown",
   "id": "vital-niger",
   "metadata": {},
   "source": [
    "### TRNG_HEALTHCARE\n",
    "TRNG_HEALTHCARE has 82 tables, 948.1 MB. The largest: va_observations_full, va_medications, va_encounters\n"
   ]
  },
  {
   "cell_type": "code",
   "execution_count": null,
   "id": "finnish-phoenix",
   "metadata": {},
   "outputs": [],
   "source": [
    "run -i ../../DDL/create_NOS_tables_and_views.py TRNG_HEALTHCARE.ddl"
   ]
  },
  {
   "cell_type": "code",
   "execution_count": null,
   "id": "decimal-syria",
   "metadata": {},
   "outputs": [],
   "source": [
    "run -i ../../DDL/import_tables_and_change_views.py TRNG_HEALTHCARE_db.ddl 1000"
   ]
  },
  {
   "cell_type": "markdown",
   "id": "satisfied-savannah",
   "metadata": {},
   "source": [
    "### TRNG_HealthcareSurgery\n",
    "TRNG_HealthcareSurgery has 14 tables, 19.3 MB. The largest: healthcarecfilter, healthcare_surgery_events, healthcare_all_paths_tfidf\n"
   ]
  },
  {
   "cell_type": "code",
   "execution_count": null,
   "id": "taken-aluminum",
   "metadata": {},
   "outputs": [],
   "source": [
    "run -i ../../DDL/create_NOS_tables_and_views.py TRNG_HealthcareSurgery.ddl"
   ]
  },
  {
   "cell_type": "code",
   "execution_count": null,
   "id": "photographic-strength",
   "metadata": {},
   "outputs": [],
   "source": [
    "run -i ../../DDL/import_tables_and_change_views.py TRNG_HealthcareSurgery_db.ddl 1000"
   ]
  },
  {
   "cell_type": "markdown",
   "id": "accomplished-antigua",
   "metadata": {},
   "source": [
    "### TRNG_IdentityMatch\n",
    "TRNG_IdentityMatch has 2 tables, 0.3 MB. The largest: REF_GOLDEN_CUST, AC_CUSTOMER_EXTERNAL_DATA\n"
   ]
  },
  {
   "cell_type": "code",
   "execution_count": null,
   "id": "german-jenny",
   "metadata": {},
   "outputs": [],
   "source": [
    "run -i ../../DDL/create_NOS_tables_and_views.py TRNG_IdentityMatch.ddl"
   ]
  },
  {
   "cell_type": "code",
   "execution_count": null,
   "id": "social-pantyhose",
   "metadata": {},
   "outputs": [],
   "source": [
    "run -i ../../DDL/import_tables_and_change_views.py TRNG_IdentityMatch_db.ddl 1000"
   ]
  },
  {
   "cell_type": "markdown",
   "id": "virgin-elimination",
   "metadata": {},
   "source": [
    "### TRNG_IndoorSensor\n",
    "TRNG_IndoorSensor has 2 tables, 0.6 MB. The largest: connectivity, sensor_locations\n"
   ]
  },
  {
   "cell_type": "code",
   "execution_count": null,
   "id": "intensive-consequence",
   "metadata": {},
   "outputs": [],
   "source": [
    "run -i ../../DDL/create_NOS_tables_and_views.py TRNG_IndoorSensor.ddl"
   ]
  },
  {
   "cell_type": "code",
   "execution_count": null,
   "id": "legal-ghana",
   "metadata": {},
   "outputs": [],
   "source": [
    "run -i ../../DDL/import_tables_and_change_views.py TRNG_IndoorSensor_db.ddl 1000"
   ]
  },
  {
   "cell_type": "markdown",
   "id": "a580a67a-2eed-40e4-994f-934228f490b2",
   "metadata": {},
   "source": [
    "### TRNG_InsuranceClaims\n",
    "TRNG_InsuranceClaims has 4 tables, 0.6 MB. The largest: Policy_det , InsuranceClaims_Details\n"
   ]
  },
  {
   "cell_type": "code",
   "execution_count": 3,
   "id": "9018d073-0495-49e7-980c-d53daf16741b",
   "metadata": {},
   "outputs": [
    {
     "name": "stdout",
     "output_type": "stream",
     "text": [
      "... using existing TRNG_InsuranceClaims database\n",
      "executing:  create database TRNG_InsuranceClaims from demo_user as perm=0;\n",
      " ...\n",
      "executing:  create database TRNG_InsuranceClaims_DB from demo_user as perm=200000 ...\n",
      "executing:  Grant all on TRNG_InsuranceClaims to demo_user with grant option;\n",
      " ...\n",
      "executing:  Grant all on TRNG_InsuranceClaims_DB to demo_user with grant option;\n",
      " ...\n",
      "executing:  Grant all on TRNG_InsuranceClaims_DB to TRNG_InsuranceClaims with gra ...\n",
      "executing:  COMMENT ON TRNG_InsuranceClaims AS 'created for demonow:TRNG_Insuranc ...\n",
      "executing:  COMMENT ON TRNG_InsuranceClaims_DB AS 'created for demonow:TRNG_Insur ...\n",
      "executing:  create foreign table gs_tables_db.TRNG_InsuranceClaims_PolicyDet_org, ...\n",
      "executing:  COMMENT ON gs_tables_db.TRNG_InsuranceClaims_PolicyDet_org AS 'create ...\n",
      "executing:  CREATE MULTISET TABLE TRNG_InsuranceClaims_DB.TRNG_InsuranceClaims_Po ...\n",
      "executing:  COMMENT ON TRNG_InsuranceClaims_DB.TRNG_InsuranceClaims_Policy_Det AS ...\n",
      "executing:  Insert into TRNG_InsuranceClaims_DB.TRNG_InsuranceClaims_Policy_Det\n",
      "  ...\n",
      "executing:  Create multiset table TRNG_InsuranceClaims_DB.TRNG_InsuranceClaims_De ...\n",
      "executing:  COMMENT ON TRNG_InsuranceClaims_DB.TRNG_InsuranceClaims_Details AS 'c ...\n",
      "executing:  Insert into TRNG_InsuranceClaims_DB.TRNG_InsuranceClaims_Details  (Po ...\n",
      "executing:  CREATE MULTISET TABLE TRNG_InsuranceClaims_DB.TRNG_InsuranceClaims_Po ...\n",
      "executing:  COMMENT ON TRNG_InsuranceClaims_DB.TRNG_InsuranceClaims_Policy_Bitemp ...\n",
      "executing:  Insert into TRNG_InsuranceClaims_DB.TRNG_InsuranceClaims_Policy_Bitem ...\n",
      "executing:  replace view TRNG_InsuranceClaims.Policy_Details_org as locking row f ...\n",
      "executing:  COMMENT ON TRNG_InsuranceClaims.Policy_Details_org AS 'created for de ...\n",
      "executing:  replace view TRNG_InsuranceClaims.Policy_Details as \n",
      " Sequenced VALID ...\n",
      "executing:  COMMENT ON TRNG_InsuranceClaims.Policy_Details AS 'created for demono ...\n",
      "executing:  replace view TRNG_InsuranceClaims.Insurance_Claims_Details as locking ...\n",
      "executing:  COMMENT ON TRNG_InsuranceClaims.Insurance_Claims_Details AS 'created  ...\n",
      "executing:  replace view TRNG_InsuranceClaims.Policy_Bitemp as \n",
      " sequenced validt ...\n",
      "executing:  COMMENT ON TRNG_InsuranceClaims.Policy_Bitemp AS 'created for demonow ...\n",
      "\n",
      "\n",
      "Definition of  TRNG_InsuranceClaims  complete with  26  statements and  0  errors\n"
     ]
    }
   ],
   "source": [
    "run -i ../../DDL/create_NOS_tables_and_views.py TRNG_InsuranceClaims.ddl"
   ]
  },
  {
   "cell_type": "code",
   "execution_count": null,
   "id": "33d65843-ea3d-4ca8-84a0-57d95fca95a0",
   "metadata": {
    "tags": []
   },
   "outputs": [],
   "source": [
    "run -i ../../DDL/import_tables_and_change_views.py TRNG_InsuranceClaims_db.ddl 1000"
   ]
  },
  {
   "cell_type": "markdown",
   "id": "immune-median",
   "metadata": {},
   "source": [
    "### TRNG_KAGGLE\n",
    "TRNG_KAGGLE has 5 tables, 81.8 MB. The largest: AMZ_FINE_FOOD_REVIEWS, BORDER_CROSSING, BORDER_CROSSING_SCRATCH\n"
   ]
  },
  {
   "cell_type": "code",
   "execution_count": null,
   "id": "mighty-settlement",
   "metadata": {},
   "outputs": [],
   "source": [
    "run -i ../../DDL/create_NOS_tables_and_views.py TRNG_KAGGLE.ddl"
   ]
  },
  {
   "cell_type": "code",
   "execution_count": null,
   "id": "defined-hostel",
   "metadata": {
    "tags": []
   },
   "outputs": [],
   "source": [
    "run -i ../../DDL/import_tables_and_change_views.py TRNG_KAGGLE_db.ddl 1000"
   ]
  },
  {
   "cell_type": "markdown",
   "id": "vulnerable-accountability",
   "metadata": {},
   "source": [
    "### TRNG_KneeReplacement\n",
    "TRNG_KneeReplacement has 2 tables, 18.7 MB. The largest: knee_replacement\n"
   ]
  },
  {
   "cell_type": "code",
   "execution_count": null,
   "id": "available-longitude",
   "metadata": {},
   "outputs": [],
   "source": [
    "run -i ../../DDL/create_NOS_tables_and_views.py TRNG_KneeReplacement.ddl"
   ]
  },
  {
   "cell_type": "code",
   "execution_count": null,
   "id": "forbidden-invite",
   "metadata": {},
   "outputs": [],
   "source": [
    "run -i ../../DDL/import_tables_and_change_views.py TRNG_KneeReplacement_db.ddl 1000"
   ]
  },
  {
   "cell_type": "markdown",
   "id": "adverse-offense",
   "metadata": {},
   "source": [
    "### TRNG_LifeSciences\n",
    "TRNG_LifeSciences has 16 tables, 28.8 MB. The largest: Observations, Encounter, Medications\n"
   ]
  },
  {
   "cell_type": "code",
   "execution_count": null,
   "id": "strong-librarian",
   "metadata": {},
   "outputs": [],
   "source": [
    "run -i ../../DDL/create_NOS_tables_and_views.py TRNG_LifeSciences.ddl"
   ]
  },
  {
   "cell_type": "code",
   "execution_count": null,
   "id": "coastal-identifier",
   "metadata": {},
   "outputs": [],
   "source": [
    "run -i ../../DDL/import_tables_and_change_views.py TRNG_LifeSciences_db.ddl 1000"
   ]
  },
  {
   "cell_type": "markdown",
   "id": "wrapped-prayer",
   "metadata": {},
   "source": [
    "### TRNG_LondonTube\n",
    "TRNG_LondonTube has 8 tables, 0.8 MB. The largest: TubeLines, TubeStations, Theatres\n"
   ]
  },
  {
   "cell_type": "code",
   "execution_count": null,
   "id": "local-bangkok",
   "metadata": {},
   "outputs": [],
   "source": [
    "run -i ../../DDL/create_NOS_tables_and_views.py TRNG_LondonTube.ddl"
   ]
  },
  {
   "cell_type": "code",
   "execution_count": null,
   "id": "challenging-ghana",
   "metadata": {},
   "outputs": [],
   "source": [
    "run -i ../../DDL/import_tables_and_change_views.py TRNG_LondonTube_db.ddl 1000"
   ]
  },
  {
   "cell_type": "markdown",
   "id": "buried-italy",
   "metadata": {},
   "source": [
    "### TRNG_MC_Crime\n",
    "This database contains one table 286,851 selected crime incident records from the Maryland between 2016 and 2022. "
   ]
  },
  {
   "cell_type": "code",
   "execution_count": null,
   "id": "large-forward",
   "metadata": {},
   "outputs": [],
   "source": [
    "run -i ../../DDL/create_NOS_tables_and_views.py TRNG_MC_Crime.ddl"
   ]
  },
  {
   "cell_type": "code",
   "execution_count": null,
   "id": "subjective-aquarium",
   "metadata": {},
   "outputs": [],
   "source": [
    "run -i ../../DDL/import_tables_and_change_views.py TRNG_MC_Crime_db.ddl 1000"
   ]
  },
  {
   "cell_type": "markdown",
   "id": "alpine-loading",
   "metadata": {},
   "source": [
    "### TRNG_MOVIES\n",
    "TRNG_MOVIES has 11 tables, 1125.2 MB. The largest: tweets_prep, tweets, tweets_tag_NSFW2\n"
   ]
  },
  {
   "cell_type": "code",
   "execution_count": null,
   "id": "interim-reference",
   "metadata": {},
   "outputs": [],
   "source": [
    "run -i ../../DDL/create_NOS_tables_and_views.py TRNG_MOVIES.ddl"
   ]
  },
  {
   "cell_type": "code",
   "execution_count": null,
   "id": "affected-wales",
   "metadata": {},
   "outputs": [],
   "source": [
    "run -i ../../DDL/import_tables_and_change_views.py TRNG_MOVIES_db.ddl 1000"
   ]
  },
  {
   "cell_type": "markdown",
   "id": "lonely-progressive",
   "metadata": {},
   "source": [
    "### TRNG_MedicalImaging\n",
    "TRNG_MedicalImaging has 12 tables, 1.7 MB. The largest: s_dicom_t, r_image_device, k_case\n"
   ]
  },
  {
   "cell_type": "code",
   "execution_count": null,
   "id": "automotive-andrews",
   "metadata": {},
   "outputs": [],
   "source": [
    "run -i ../../DDL/create_NOS_tables_and_views.py TRNG_MedicalImaging.ddl"
   ]
  },
  {
   "cell_type": "code",
   "execution_count": null,
   "id": "integrated-karma",
   "metadata": {},
   "outputs": [],
   "source": [
    "run -i ../../DDL/import_tables_and_change_views.py TRNG_MedicalImaging_db.ddl 1000"
   ]
  },
  {
   "cell_type": "markdown",
   "id": "personalized-ceremony",
   "metadata": {},
   "source": [
    "### TRNG_Movie_Reviews\n",
    "TRNG_Movie_Reviews has 1 tables, 1684 MB. The largest: movie_tweets\n"
   ]
  },
  {
   "cell_type": "code",
   "execution_count": null,
   "id": "published-powder",
   "metadata": {},
   "outputs": [],
   "source": [
    "run -i ../../DDL/create_NOS_tables_and_views.py TRNG_Movie_Reviews.ddl"
   ]
  },
  {
   "cell_type": "code",
   "execution_count": null,
   "id": "educational-omaha",
   "metadata": {},
   "outputs": [],
   "source": [
    "run -i ../../DDL/import_tables_and_change_views.py TRNG_Movie_Reviews_db.ddl 1000"
   ]
  },
  {
   "cell_type": "markdown",
   "id": "dramatic-skiing",
   "metadata": {},
   "source": [
    "### TRNG_NOS\n",
    "TRNG_NOS has 1 tables, 0.4 MB. The largest: inputdata\n"
   ]
  },
  {
   "cell_type": "code",
   "execution_count": null,
   "id": "adapted-utility",
   "metadata": {},
   "outputs": [],
   "source": [
    "run -i ../../DDL/create_NOS_tables_and_views.py TRNG_NOS.ddl"
   ]
  },
  {
   "cell_type": "code",
   "execution_count": null,
   "id": "protective-conclusion",
   "metadata": {},
   "outputs": [],
   "source": [
    "run -i ../../DDL/import_tables_and_change_views.py TRNG_NOS_db.ddl 1000"
   ]
  },
  {
   "cell_type": "markdown",
   "id": "billion-queen",
   "metadata": {},
   "source": [
    "### TRNG_NYCTaxi\n",
    "TRNG_NYCTaxi has 2 tables, 23.6 MB. The largest: trip, trip_fare\n"
   ]
  },
  {
   "cell_type": "code",
   "execution_count": null,
   "id": "elementary-temperature",
   "metadata": {},
   "outputs": [],
   "source": [
    "run -i ../../DDL/create_NOS_tables_and_views.py TRNG_NYCTaxi.ddl"
   ]
  },
  {
   "cell_type": "code",
   "execution_count": null,
   "id": "perceived-found",
   "metadata": {},
   "outputs": [],
   "source": [
    "run -i ../../DDL/import_tables_and_change_views.py TRNG_NYCTaxi_db.ddl 1000"
   ]
  },
  {
   "cell_type": "markdown",
   "id": "medical-spiritual",
   "metadata": {},
   "source": [
    "### TRNG_OilGasDrilling\n",
    "TRNG_OilGasDrilling has 13 tables, 34.2 MB. The largest: Srfc_Sensor_Parms_PPI_Flat_Rig, Srfc_Sensor_Parms_PPI_Flat, DDaaS_Survey_Logs\n"
   ]
  },
  {
   "cell_type": "code",
   "execution_count": null,
   "id": "quarterly-laser",
   "metadata": {},
   "outputs": [],
   "source": [
    "run -i ../../DDL/create_NOS_tables_and_views.py TRNG_OilGasDrilling.ddl"
   ]
  },
  {
   "cell_type": "code",
   "execution_count": null,
   "id": "identical-australian",
   "metadata": {},
   "outputs": [],
   "source": [
    "run -i ../../DDL/import_tables_and_change_views.py TRNG_OilGasDrilling_db.ddl 1000"
   ]
  },
  {
   "cell_type": "markdown",
   "id": "fabulous-cameroon",
   "metadata": {},
   "source": [
    "### TRNG_Oil_Industry\n",
    "TRNG_Oil_Industry has 42 tables, 2039.5 MB. The largest: SRFC_SENSOR_PARMS_PPI_FLAT, SRFC_SENSOR_RIG_STATES, ac_monthly\n"
   ]
  },
  {
   "cell_type": "code",
   "execution_count": null,
   "id": "front-horror",
   "metadata": {},
   "outputs": [],
   "source": [
    "run -i ../../DDL/create_NOS_tables_and_views.py TRNG_Oil_Industry.ddl"
   ]
  },
  {
   "cell_type": "code",
   "execution_count": null,
   "id": "twenty-token",
   "metadata": {},
   "outputs": [],
   "source": [
    "run -i ../../DDL/import_tables_and_change_views.py TRNG_Oil_Industry_db.ddl 1000"
   ]
  },
  {
   "cell_type": "markdown",
   "id": "revised-selection",
   "metadata": {},
   "source": [
    "### TRNG_PD\n",
    "TRNG_PD has 13 tables, 12.5 MB. The largest: EmpPhone, Employee, date_dim\n"
   ]
  },
  {
   "cell_type": "code",
   "execution_count": null,
   "id": "subsequent-services",
   "metadata": {},
   "outputs": [],
   "source": [
    "run -i ../../DDL/create_NOS_tables_and_views.py TRNG_PD.ddl"
   ]
  },
  {
   "cell_type": "code",
   "execution_count": null,
   "id": "grave-rebound",
   "metadata": {},
   "outputs": [],
   "source": [
    "run -i ../../DDL/import_tables_and_change_views.py TRNG_PD_db.ddl 1000"
   ]
  },
  {
   "cell_type": "markdown",
   "id": "otherwise-hayes",
   "metadata": {},
   "source": [
    "### TRNG_PM_Demos\n",
    "No description available"
   ]
  },
  {
   "cell_type": "code",
   "execution_count": null,
   "id": "significant-collector",
   "metadata": {},
   "outputs": [],
   "source": [
    "run -i ../../DDL/create_NOS_tables_and_views.py TRNG_PM_Demos.ddl"
   ]
  },
  {
   "cell_type": "code",
   "execution_count": null,
   "id": "accompanied-death",
   "metadata": {},
   "outputs": [],
   "source": [
    "run -i ../../DDL/import_tables_and_change_views.py TRNG_PM_Demos_db.ddl 1000"
   ]
  },
  {
   "cell_type": "markdown",
   "id": "wicked-packet",
   "metadata": {},
   "source": [
    "### TRNG_PTC\n",
    "TRNG_PTC has 13 tables, 18.7 MB. The largest: ER_Data_for_Locos, LocoDataCleansed, edr_er_log_8437_0806_08072020\n"
   ]
  },
  {
   "cell_type": "code",
   "execution_count": null,
   "id": "still-highlight",
   "metadata": {},
   "outputs": [],
   "source": [
    "run -i ../../DDL/create_NOS_tables_and_views.py TRNG_PTC.ddl"
   ]
  },
  {
   "cell_type": "code",
   "execution_count": null,
   "id": "reliable-genre",
   "metadata": {},
   "outputs": [],
   "source": [
    "run -i ../../DDL/import_tables_and_change_views.py TRNG_PTC_db.ddl 1000"
   ]
  },
  {
   "cell_type": "markdown",
   "id": "regional-elimination",
   "metadata": {},
   "source": [
    "### TRNG_QG_DEMO\n",
    "TRNG_QG_DEMO has 23 tables, 31.1 MB. The largest: telco_store, telco_online, telco_callcenter\n"
   ]
  },
  {
   "cell_type": "code",
   "execution_count": null,
   "id": "hindu-nirvana",
   "metadata": {},
   "outputs": [],
   "source": [
    "run -i ../../DDL/create_NOS_tables_and_views.py TRNG_QG_DEMO.ddl"
   ]
  },
  {
   "cell_type": "code",
   "execution_count": null,
   "id": "hungarian-queensland",
   "metadata": {},
   "outputs": [],
   "source": [
    "run -i ../../DDL/import_tables_and_change_views.py TRNG_QG_DEMO_db.ddl 1000"
   ]
  },
  {
   "cell_type": "markdown",
   "id": "smart-monitor",
   "metadata": {},
   "source": [
    "### TRNG_RETAILDSE\n",
    "TRNG_RETAILDSE has 19 tables, 7.7 MB. The largest: WEB_COMMENT, PURCHASE, CUSTOMER\n"
   ]
  },
  {
   "cell_type": "code",
   "execution_count": null,
   "id": "homeless-columbus",
   "metadata": {},
   "outputs": [],
   "source": [
    "run -i ../../DDL/create_NOS_tables_and_views.py TRNG_RETAILDSE.ddl"
   ]
  },
  {
   "cell_type": "code",
   "execution_count": null,
   "id": "everyday-climb",
   "metadata": {},
   "outputs": [],
   "source": [
    "run -i ../../DDL/import_tables_and_change_views.py TRNG_RETAILDSE_db.ddl 1000"
   ]
  },
  {
   "cell_type": "markdown",
   "id": "white-lemon",
   "metadata": {},
   "source": [
    "### TRNG_RETAILDSE_DEV\n",
    "TRNG_RETAILDSE_DEV has 23 tables, 17 MB. The largest: NEW_RETAIL_CUST_EVENTS, NEW_RETAIL_ALLCH_EVENT_DESC_MA, CUSTOMER_PURCHASES_FLAT\n"
   ]
  },
  {
   "cell_type": "code",
   "execution_count": null,
   "id": "auburn-firewall",
   "metadata": {},
   "outputs": [],
   "source": [
    "run -i ../../DDL/create_NOS_tables_and_views.py TRNG_RETAILDSE_DEV.ddl"
   ]
  },
  {
   "cell_type": "code",
   "execution_count": null,
   "id": "french-indonesia",
   "metadata": {},
   "outputs": [],
   "source": [
    "run -i ../../DDL/import_tables_and_change_views.py TRNG_RETAILDSE_DEV_db.ddl 1000"
   ]
  },
  {
   "cell_type": "markdown",
   "id": "manual-separation",
   "metadata": {},
   "source": [
    "### TRNG_RefineryOptimizer\n",
    "TRNG_RefineryOptimizer has 67 tables, 491.4 MB. The largest: DB250092_RO_SENSOR, DB250092_RO_LAB, DB250092_RO_PRICE\n"
   ]
  },
  {
   "cell_type": "code",
   "execution_count": null,
   "id": "acute-civilization",
   "metadata": {},
   "outputs": [],
   "source": [
    "run -i ../../DDL/create_NOS_tables_and_views.py TRNG_RefineryOptimizer.ddl"
   ]
  },
  {
   "cell_type": "code",
   "execution_count": null,
   "id": "violent-philip",
   "metadata": {},
   "outputs": [],
   "source": [
    "run -i ../../DDL/import_tables_and_change_views.py TRNG_RefineryOptimizer_db.ddl 1000"
   ]
  },
  {
   "cell_type": "markdown",
   "id": "enclosed-ground",
   "metadata": {},
   "source": [
    "### TRNG_SQLE_TEST\n",
    "TRNG_SQLE_TEST has 56 tables, 2150.8 MB. The largest: train_features, test_features, rf_model\n"
   ]
  },
  {
   "cell_type": "code",
   "execution_count": null,
   "id": "continued-identification",
   "metadata": {},
   "outputs": [],
   "source": [
    "run -i ../../DDL/create_NOS_tables_and_views.py TRNG_SQLE_TEST.ddl"
   ]
  },
  {
   "cell_type": "code",
   "execution_count": null,
   "id": "prostate-twenty",
   "metadata": {},
   "outputs": [],
   "source": [
    "run -i ../../DDL/import_tables_and_change_views.py TRNG_SQLE_TEST_db.ddl 1000"
   ]
  },
  {
   "cell_type": "markdown",
   "id": "refined-cyprus",
   "metadata": {},
   "source": [
    "### TRNG_STOFramework\n",
    "TRNG_STOFramework has 12 tables, 917.7 MB. The largest: test_dataset_redistributed, test_dataset, STO_Output\n"
   ]
  },
  {
   "cell_type": "code",
   "execution_count": null,
   "id": "second-sydney",
   "metadata": {},
   "outputs": [],
   "source": [
    "run -i ../../DDL/create_NOS_tables_and_views.py TRNG_STOFramework.ddl"
   ]
  },
  {
   "cell_type": "code",
   "execution_count": null,
   "id": "utility-spine",
   "metadata": {},
   "outputs": [],
   "source": [
    "run -i ../../DDL/import_tables_and_change_views.py TRNG_STOFramework_db.ddl 1000"
   ]
  },
  {
   "cell_type": "markdown",
   "id": "superior-opinion",
   "metadata": {},
   "source": [
    "### TRNG_SalesOffload\n",
    "TRNG_SalesOffload has 1 tables, 215.6 MB. The largest: sales_fact\n"
   ]
  },
  {
   "cell_type": "code",
   "execution_count": null,
   "id": "british-while",
   "metadata": {},
   "outputs": [],
   "source": [
    "run -i ../../DDL/create_NOS_tables_and_views.py TRNG_SalesOffload.ddl"
   ]
  },
  {
   "cell_type": "code",
   "execution_count": null,
   "id": "active-nashville",
   "metadata": {},
   "outputs": [],
   "source": [
    "run -i ../../DDL/import_tables_and_change_views.py TRNG_SalesOffload_db.ddl 1000"
   ]
  },
  {
   "cell_type": "markdown",
   "id": "stable-directive",
   "metadata": {},
   "source": [
    "### TRNG_SalesPrediction\n",
    "TRNG_SalesPrediction has 1 tables, 1.7 MB. The largest: pandas_stores_rossmann\n"
   ]
  },
  {
   "cell_type": "code",
   "execution_count": null,
   "id": "confident-embassy",
   "metadata": {},
   "outputs": [],
   "source": [
    "run -i ../../DDL/create_NOS_tables_and_views.py TRNG_SalesPrediction.ddl"
   ]
  },
  {
   "cell_type": "code",
   "execution_count": null,
   "id": "specialized-direction",
   "metadata": {},
   "outputs": [],
   "source": [
    "run -i ../../DDL/import_tables_and_change_views.py TRNG_SalesPrediction_db.ddl 1000"
   ]
  },
  {
   "cell_type": "markdown",
   "id": "white-gasoline",
   "metadata": {},
   "source": [
    "### TRNG_SurvivalAnalysis\n",
    "TRNG_SurvivalAnalysis has 2 tables, 0.8 MB. The largest: heart_failure\n"
   ]
  },
  {
   "cell_type": "code",
   "execution_count": null,
   "id": "prospective-execution",
   "metadata": {},
   "outputs": [],
   "source": [
    "run -i ../../DDL/create_NOS_tables_and_views.py TRNG_SurvivalAnalysis.ddl"
   ]
  },
  {
   "cell_type": "code",
   "execution_count": null,
   "id": "eastern-control",
   "metadata": {},
   "outputs": [],
   "source": [
    "run -i ../../DDL/import_tables_and_change_views.py TRNG_SurvivalAnalysis_db.ddl 1000"
   ]
  },
  {
   "cell_type": "markdown",
   "id": "varied-senate",
   "metadata": {},
   "source": [
    "### TRNG_TAU2018\n",
    "TRNG_TAU2018 has 3 tables, 1.4 MB. The largest: tau_submission, partners2016, partners2014\n"
   ]
  },
  {
   "cell_type": "code",
   "execution_count": null,
   "id": "sound-trash",
   "metadata": {},
   "outputs": [],
   "source": [
    "run -i ../../DDL/create_NOS_tables_and_views.py TRNG_TAU2018.ddl"
   ]
  },
  {
   "cell_type": "code",
   "execution_count": null,
   "id": "desperate-elevation",
   "metadata": {},
   "outputs": [],
   "source": [
    "run -i ../../DDL/import_tables_and_change_views.py TRNG_TAU2018_db.ddl 1000"
   ]
  },
  {
   "cell_type": "markdown",
   "id": "approximate-citation",
   "metadata": {},
   "source": [
    "### TRNG_TDRetail\n",
    "TRNG_TDRetail has 169 tables, 6924.7 MB. The largest: da_vinci_100_serie, SALES_TRANSACTION, SALES_TRANSACTION_STAGING\n"
   ]
  },
  {
   "cell_type": "code",
   "execution_count": null,
   "id": "further-energy",
   "metadata": {},
   "outputs": [],
   "source": [
    "run -i ../../DDL/create_NOS_tables_and_views.py TRNG_TDRetail.ddl"
   ]
  },
  {
   "cell_type": "code",
   "execution_count": null,
   "id": "constitutional-honolulu",
   "metadata": {},
   "outputs": [],
   "source": [
    "run -i ../../DDL/import_tables_and_change_views.py TRNG_TDRetail_db.ddl 1000"
   ]
  },
  {
   "cell_type": "markdown",
   "id": "parental-separation",
   "metadata": {},
   "source": [
    "### TRNG_TDSysAnalytics\n",
    "TRNG_TDSysAnalytics has 11 tables, 5.5 MB. The largest: CPU_HIST, USER_HIST, DB_HIST\n"
   ]
  },
  {
   "cell_type": "code",
   "execution_count": null,
   "id": "hydraulic-evolution",
   "metadata": {},
   "outputs": [],
   "source": [
    "run -i ../../DDL/create_NOS_tables_and_views.py TRNG_TDSysAnalytics.ddl"
   ]
  },
  {
   "cell_type": "code",
   "execution_count": null,
   "id": "historic-wireless",
   "metadata": {},
   "outputs": [],
   "source": [
    "run -i ../../DDL/import_tables_and_change_views.py TRNG_TDSysAnalytics_db.ddl 1000"
   ]
  },
  {
   "cell_type": "markdown",
   "id": "drawn-membership",
   "metadata": {},
   "source": [
    "### TRNG_TDU_CustomerService\n",
    "TRNG_TDU_CustomerService has 21 tables, 0.8 MB. The largest: Accounts, emp_phone_2010, agent_sales\n"
   ]
  },
  {
   "cell_type": "code",
   "execution_count": null,
   "id": "subjective-supplement",
   "metadata": {},
   "outputs": [],
   "source": [
    "run -i ../../DDL/create_NOS_tables_and_views.py TRNG_TDU_CustomerService.ddl"
   ]
  },
  {
   "cell_type": "code",
   "execution_count": null,
   "id": "integral-excitement",
   "metadata": {},
   "outputs": [],
   "source": [
    "run -i ../../DDL/import_tables_and_change_views.py TRNG_TDU_CustomerService_db.ddl 1000"
   ]
  },
  {
   "cell_type": "markdown",
   "id": "unable-vaccine",
   "metadata": {},
   "source": [
    "### TRNG_TDU_Employee_Sales\n",
    "TRNG_TDU_Employee_Sales has 13 tables, 0.4 MB. The largest: Customer, Location, Location_Phone\n"
   ]
  },
  {
   "cell_type": "code",
   "execution_count": null,
   "id": "spiritual-petersburg",
   "metadata": {},
   "outputs": [],
   "source": [
    "run -i ../../DDL/create_NOS_tables_and_views.py TRNG_TDU_Employee_Sales.ddl"
   ]
  },
  {
   "cell_type": "code",
   "execution_count": null,
   "id": "responsible-rachel",
   "metadata": {},
   "outputs": [],
   "source": [
    "run -i ../../DDL/import_tables_and_change_views.py TRNG_TDU_Employee_Sales_db.ddl 1000"
   ]
  },
  {
   "cell_type": "markdown",
   "id": "polyphonic-emerald",
   "metadata": {},
   "source": [
    "### TRNG_TDU_FACTORY\n",
    "No description available"
   ]
  },
  {
   "cell_type": "code",
   "execution_count": null,
   "id": "stunning-arcade",
   "metadata": {},
   "outputs": [],
   "source": [
    "run -i ../../DDL/create_NOS_tables_and_views.py TRNG_TDU_FACTORY.ddl"
   ]
  },
  {
   "cell_type": "code",
   "execution_count": null,
   "id": "younger-norfolk",
   "metadata": {},
   "outputs": [],
   "source": [
    "run -i ../../DDL/import_tables_and_change_views.py TRNG_TDU_FACTORY_db.ddl 1000"
   ]
  },
  {
   "cell_type": "markdown",
   "id": "mental-worse",
   "metadata": {},
   "source": [
    "### TRNG_TDU_Orders\n",
    "TRNG_TDU_Orders has 3 tables, 0.6 MB. The largest: orders_2012, orders_2013, orders\n"
   ]
  },
  {
   "cell_type": "code",
   "execution_count": null,
   "id": "verbal-dylan",
   "metadata": {},
   "outputs": [],
   "source": [
    "run -i ../../DDL/create_NOS_tables_and_views.py TRNG_TDU_Orders.ddl"
   ]
  },
  {
   "cell_type": "code",
   "execution_count": null,
   "id": "typical-italian",
   "metadata": {},
   "outputs": [],
   "source": [
    "run -i ../../DDL/import_tables_and_change_views.py TRNG_TDU_Orders_db.ddl 1000"
   ]
  },
  {
   "cell_type": "markdown",
   "id": "laden-breath",
   "metadata": {},
   "source": [
    "### TRNG_TDU_Students\n",
    "TRNG_TDU_Students has 4 tables, 0.4 MB. The largest: Orders, City, State\n"
   ]
  },
  {
   "cell_type": "code",
   "execution_count": null,
   "id": "chicken-muscle",
   "metadata": {},
   "outputs": [],
   "source": [
    "run -i ../../DDL/create_NOS_tables_and_views.py TRNG_TDU_Students.ddl"
   ]
  },
  {
   "cell_type": "code",
   "execution_count": null,
   "id": "built-cookbook",
   "metadata": {},
   "outputs": [],
   "source": [
    "run -i ../../DDL/import_tables_and_change_views.py TRNG_TDU_Students_db.ddl 1000"
   ]
  },
  {
   "cell_type": "markdown",
   "id": "abroad-voluntary",
   "metadata": {},
   "source": [
    "### TRNG_TDU_TD01\n",
    "TRNG_TDU_TD01 has 361 tables, 325.5 MB. The largest: fire_calls, fire_incidents, chips_weblog\n"
   ]
  },
  {
   "cell_type": "code",
   "execution_count": null,
   "id": "ordinary-criticism",
   "metadata": {},
   "outputs": [],
   "source": [
    "run -i ../../DDL/create_NOS_tables_and_views.py TRNG_TDU_TD01.ddl"
   ]
  },
  {
   "cell_type": "code",
   "execution_count": null,
   "id": "correct-experiment",
   "metadata": {},
   "outputs": [],
   "source": [
    "run -i ../../DDL/import_tables_and_change_views.py TRNG_TDU_TD01_db.ddl 1000"
   ]
  },
  {
   "cell_type": "markdown",
   "id": "least-advocate",
   "metadata": {},
   "source": [
    "### TRNG_TECHBYTES\n",
    "TRNG_TECHBYTES has 20 tables, 2.5 MB. The largest: Acct_Ind, Accounts, ml__valib_transform_1614360874\n"
   ]
  },
  {
   "cell_type": "code",
   "execution_count": null,
   "id": "interpreted-commissioner",
   "metadata": {},
   "outputs": [],
   "source": [
    "run -i ../../DDL/create_NOS_tables_and_views.py TRNG_TECHBYTES.ddl"
   ]
  },
  {
   "cell_type": "code",
   "execution_count": null,
   "id": "tender-uncertainty",
   "metadata": {},
   "outputs": [],
   "source": [
    "run -i ../../DDL/import_tables_and_change_views.py TRNG_TECHBYTES_db.ddl 1000"
   ]
  },
  {
   "cell_type": "markdown",
   "id": "broadband-nicaragua",
   "metadata": {},
   "source": [
    "### TRNG_TJ\n",
    "TRNG_TJ has 1 tables, 57.1 MB. The largest: dwh_coveo\n"
   ]
  },
  {
   "cell_type": "code",
   "execution_count": null,
   "id": "least-sierra",
   "metadata": {},
   "outputs": [],
   "source": [
    "run -i ../../DDL/create_NOS_tables_and_views.py TRNG_TJ.ddl"
   ]
  },
  {
   "cell_type": "code",
   "execution_count": null,
   "id": "illegal-savage",
   "metadata": {},
   "outputs": [],
   "source": [
    "run -i ../../DDL/import_tables_and_change_views.py TRNG_TJ_db.ddl 1000"
   ]
  },
  {
   "cell_type": "markdown",
   "id": "international-baseball",
   "metadata": {},
   "source": [
    "### TRNG_Telco\n",
    "TRNG_Telco has 3 tables, 2.6 MB. The largest: telco_events, telco_testing, telco_training\n"
   ]
  },
  {
   "cell_type": "code",
   "execution_count": null,
   "id": "seeing-taylor",
   "metadata": {},
   "outputs": [],
   "source": [
    "run -i ../../DDL/create_NOS_tables_and_views.py TRNG_Telco.ddl"
   ]
  },
  {
   "cell_type": "code",
   "execution_count": null,
   "id": "original-european",
   "metadata": {},
   "outputs": [],
   "source": [
    "run -i ../../DDL/import_tables_and_change_views.py TRNG_Telco_db.ddl 1000"
   ]
  },
  {
   "cell_type": "markdown",
   "id": "musical-pavilion",
   "metadata": {},
   "source": [
    "### TRNG_TelcoChurn\n",
    "TRNG_TelcoChurn has 50 tables, 68.5 MB. The largest: csi_telco_all_nonchurn_paths_t, telco_cdr_data, csi_telco_data\n"
   ]
  },
  {
   "cell_type": "code",
   "execution_count": null,
   "id": "pretty-soccer",
   "metadata": {},
   "outputs": [],
   "source": [
    "run -i ../../DDL/create_NOS_tables_and_views.py TRNG_TelcoChurn.ddl"
   ]
  },
  {
   "cell_type": "code",
   "execution_count": null,
   "id": "voluntary-tolerance",
   "metadata": {},
   "outputs": [],
   "source": [
    "run -i ../../DDL/import_tables_and_change_views.py TRNG_TelcoChurn_db.ddl 1000"
   ]
  },
  {
   "cell_type": "markdown",
   "id": "modular-space",
   "metadata": {},
   "source": [
    "### TRNG_TelcoNetwork\n",
    "TRNG_TelcoNetwork has 20 tables, 2.1 MB. The largest: NEXTGEN_MOBILE_NW_CUST_JOURNEY, NEXTGEN_MOBILE_NW_GPSLOC_CUM_E, NEXTGEN_MOBILE_NW_POSTAL_ZONES\n"
   ]
  },
  {
   "cell_type": "code",
   "execution_count": null,
   "id": "ranging-retro",
   "metadata": {},
   "outputs": [],
   "source": [
    "run -i ../../DDL/create_NOS_tables_and_views.py TRNG_TelcoNetwork.ddl"
   ]
  },
  {
   "cell_type": "code",
   "execution_count": null,
   "id": "preliminary-printing",
   "metadata": {},
   "outputs": [],
   "source": [
    "run -i ../../DDL/import_tables_and_change_views.py TRNG_TelcoNetwork_db.ddl 1000"
   ]
  },
  {
   "cell_type": "markdown",
   "id": "tired-maryland",
   "metadata": {},
   "source": [
    "### TRNG_TeradataSocial\n",
    "TRNG_TeradataSocial has 5 tables, 0.6 MB. The largest: Sprinklr, Events, Events_stg\n"
   ]
  },
  {
   "cell_type": "code",
   "execution_count": null,
   "id": "korean-turtle",
   "metadata": {},
   "outputs": [],
   "source": [
    "run -i ../../DDL/create_NOS_tables_and_views.py TRNG_TeradataSocial.ddl"
   ]
  },
  {
   "cell_type": "code",
   "execution_count": null,
   "id": "finite-montgomery",
   "metadata": {},
   "outputs": [],
   "source": [
    "run -i ../../DDL/import_tables_and_change_views.py TRNG_TeradataSocial_db.ddl 1000"
   ]
  },
  {
   "cell_type": "markdown",
   "id": "abandoned-violence",
   "metadata": {},
   "source": [
    "### TRNG_UX\n",
    "TRNG_UX has 3 tables, 0.3 MB. The largest: UXUserDatabase, QUALITY, INSIGHTS_DOVETAIL\n"
   ]
  },
  {
   "cell_type": "code",
   "execution_count": null,
   "id": "complimentary-darkness",
   "metadata": {},
   "outputs": [],
   "source": [
    "run -i ../../DDL/create_NOS_tables_and_views.py TRNG_UX.ddl"
   ]
  },
  {
   "cell_type": "code",
   "execution_count": null,
   "id": "figured-ensemble",
   "metadata": {},
   "outputs": [],
   "source": [
    "run -i ../../DDL/import_tables_and_change_views.py TRNG_UX_db.ddl 1000"
   ]
  },
  {
   "cell_type": "markdown",
   "id": "dangerous-vessel",
   "metadata": {},
   "source": [
    "### TRNG_VA_SCRATCH\n",
    "TRNG_VA_SCRATCH has 3 tables, 0.3 MB. The largest: VL_ops_check_ins, rf_test_1, test_1_rf185023\n"
   ]
  },
  {
   "cell_type": "code",
   "execution_count": null,
   "id": "flush-control",
   "metadata": {},
   "outputs": [],
   "source": [
    "run -i ../../DDL/create_NOS_tables_and_views.py TRNG_VA_SCRATCH.ddl"
   ]
  },
  {
   "cell_type": "code",
   "execution_count": null,
   "id": "approximate-fields",
   "metadata": {},
   "outputs": [],
   "source": [
    "run -i ../../DDL/import_tables_and_change_views.py TRNG_VA_SCRATCH_db.ddl 1000"
   ]
  },
  {
   "cell_type": "markdown",
   "id": "thrown-alias",
   "metadata": {},
   "source": [
    "### TRNG_XSP\n",
    "TRNG_XSP has 34 tables, 39.3 MB. The largest: Transactions, TWMS_Smirnov, TWMS_ShapiroWilkCoefficients\n"
   ]
  },
  {
   "cell_type": "code",
   "execution_count": null,
   "id": "respected-prior",
   "metadata": {},
   "outputs": [],
   "source": [
    "run -i ../../DDL/create_NOS_tables_and_views.py TRNG_XSP.ddl"
   ]
  },
  {
   "cell_type": "code",
   "execution_count": null,
   "id": "major-joseph",
   "metadata": {},
   "outputs": [],
   "source": [
    "run -i ../../DDL/import_tables_and_change_views.py TRNG_XSP_db.ddl 1000"
   ]
  },
  {
   "cell_type": "markdown",
   "id": "cloudy-state",
   "metadata": {},
   "source": [
    "### TRNG_iVSM\n",
    "TRNG_iVSM has 20 tables, 604 MB. The largest: test_dataset_redistributed, test_dataset, propensitytobuy_models\n"
   ]
  },
  {
   "cell_type": "code",
   "execution_count": null,
   "id": "white-rouge",
   "metadata": {},
   "outputs": [],
   "source": [
    "run -i ../../DDL/create_NOS_tables_and_views.py TRNG_iVSM.ddl"
   ]
  },
  {
   "cell_type": "code",
   "execution_count": null,
   "id": "numerous-burden",
   "metadata": {},
   "outputs": [],
   "source": [
    "run -i ../../DDL/import_tables_and_change_views.py TRNG_iVSM_db.ddl 1000"
   ]
  },
  {
   "cell_type": "markdown",
   "id": "synthetic-calculation",
   "metadata": {},
   "source": [
    "\n",
    "Copyright © 2022 Teradata Corporation"
   ]
  }
 ],
 "metadata": {
  "kernelspec": {
   "display_name": "Python 3 (ipykernel)",
   "language": "python",
   "name": "python3"
  },
  "language_info": {
   "codemirror_mode": {
    "name": "ipython",
    "version": 3
   },
   "file_extension": ".py",
   "mimetype": "text/x-python",
   "name": "python",
   "nbconvert_exporter": "python",
   "pygments_lexer": "ipython3",
   "version": "3.9.10"
  }
 },
 "nbformat": 4,
 "nbformat_minor": 5
}
