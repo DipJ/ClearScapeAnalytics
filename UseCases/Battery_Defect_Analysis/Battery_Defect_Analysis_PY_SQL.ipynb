{
 "cells": [
  {
   "cell_type": "markdown",
   "id": "conservative-singapore",
   "metadata": {},
   "source": [
    "<header style=\"padding:1px;background:#f9f9f9;border-top:3px solid #00b2b1\"><img id=\"Teradata-logo\" src=\"https://www.teradata.com/Teradata/Images/Rebrand/Teradata_logo-two_color.png\" alt=\"Teradata\" width=\"220\" align=\"right\" />\n",
    "\n",
    "<b style = 'font-size:28px;font-family:Arial;color:#E37C4D'>Manufacturing Defect Analysis</b>\n",
    "</header>\n",
    "\n",
    "<p style = 'font-size:18px;font-family:Arial;color:#E37C4D'><b>Introduction:</b></p>\n",
    "\n",
    "<p style = 'font-size:16px;font-family:Arial'>Consider a major auto manufacturer as our client. The client has reported a serious business issue with increasing warranty repairs. Battery pack replacements primarily drive the issue for EV(Electric Vehicle). As an EV manufacturer, batteries are one of the most expensive and critical components that go into the product. The client wants you to find the root cause and provide actionable insights.</p>\n",
    "<p style = 'font-size:18px;font-family:Arial;color:#E37C4D'><b>Data:</b></p>\n",
    "<p style = 'font-size:16px;font-family:Arial'>The data for this demonstration resides on Vantage as well as AWS S3. In a modern analytic ecosystem, vast amounts of data are collected from manufacturing lines and even sensors on the finished product. That data can be left on inexpensive cloud storage and accessed when investigating a problem. We have low-volume, high-value data referenced frequently inside Vantage that has gone through traditional ETL processes to ensure quality, ease of analysis, and performance.  \n",
    "</p>\n",
    "<p style = 'font-size:16px;font-family:Arial'>In this demonstration, we will use the structured data inside Vantage to narrow down a problem, then go out to the cloud storage to define a view that shreds a subset of that data so we can join both data sets in a single query to solve our business issue.  A description of the tables involved in this demo is at the end of this notebook.\n",
    "</p>\n",
    "\n",
    "\n",
    "\n",
    "<p style = 'font-size:16px;font-family:Arial;color:#E37C4D'><b>Steps in the analysis:</b></p>\n",
    "<ol style = 'font-size:16px;font-family:Arial'>\n",
    "    <li>Initiate a connection to Vantage</li>    \n",
    "    <li>Narrow down to root cause</li>\n",
    "        <ul>\n",
    "            <li>2.1 Were the defects based on the dealers?</li>\n",
    "            <li>2.2 Were the defects based on the model of the cars?</li>\n",
    "            <li>2.3 Were the defects based on the assembly plants?</li>\n",
    "            <li>2.4 Were the defects based on the battery cells?</li>\n",
    "            <li>2.5 Were the defects based on the lot numbers?</li>\n",
    "        </ul>\n",
    "    <li>Analysis of Test reports from Data Lake</li>\n",
    "        <ul>\n",
    "            <li>3.1 Create a foreign table to access the JSON data from Amazon S3</li>\n",
    "            <li>3.2 Access and join the JSON manufacturing test data natively in Vantage</li>\n",
    "        </ul>\n",
    "    <li>Clean-up</li>\n",
    "</ol>"
   ]
  },
  {
   "cell_type": "markdown",
   "id": "932ef271-1ac4-41c5-88ef-739e63310ef5",
   "metadata": {},
   "source": [
    "<hr>\n",
    "<b style = 'font-size:28px;font-family:Arial;color:#E37C4D'>1. Connect to Vantage</b>"
   ]
  },
  {
   "cell_type": "code",
   "execution_count": null,
   "id": "a2a0fc2c-54e7-4072-a012-d3cb87491528",
   "metadata": {},
   "outputs": [],
   "source": [
    "import pandas as pd\n",
    "import getpass\n",
    "from teradataml import *\n",
    "import plotly.express as px\n",
    "\n",
    "pd.set_option('display.max_colwidth', None)\n",
    "\n",
    "import warnings\n",
    "warnings.filterwarnings('ignore')"
   ]
  },
  {
   "cell_type": "markdown",
   "id": "03c4db26-25c4-4dfa-84fc-88a6a99af490",
   "metadata": {},
   "source": [
    "<p style = 'font-size:16px;font-family:Arial'>You will be prompted to provide the password. Enter your password, press the Enter key, and then use the down arrow to go to the next cell.</p>"
   ]
  },
  {
   "cell_type": "code",
   "execution_count": null,
   "id": "22e4ffe2-6ff9-445a-9345-3cb79cf46809",
   "metadata": {},
   "outputs": [],
   "source": [
    "%run -i ../startup.ipynb\n",
    "eng = create_context(host = 'host.docker.internal', username='demo_user', password = password)\n",
    "print(eng)"
   ]
  },
  {
   "cell_type": "code",
   "execution_count": null,
   "id": "afbd41ea-0cd2-40c1-9237-563ae35277f5",
   "metadata": {},
   "outputs": [],
   "source": [
    "%%capture\n",
    "execute_sql('''SET query_band='DEMO=ManufacturingDefects.ipynb;' UPDATE FOR SESSION; ''')"
   ]
  },
  {
   "cell_type": "markdown",
   "id": "1afc63de-d9a5-4261-9034-b6cd30bf6303",
   "metadata": {},
   "source": [
    "<p style = 'font-size:16px;font-family:Arial'>Begin running steps with Shift + Enter keys. </p>"
   ]
  },
  {
   "cell_type": "markdown",
   "id": "a17a73bf-9b2c-45c9-a6cc-594706c9a24d",
   "metadata": {},
   "source": [
    "<p style = 'font-size:20px;font-family:Arial;color:#E37C4D'><b>Getting Data for This Demo</b></p>\n",
    "<p style = 'font-size:16px;font-family:Arial'>We have provided data for this demo on cloud storage. You can either run the demo using foreign tables to access the data without any storage on your environment or download the data to local storage, which may yield faster execution. Still, there could be considerations of available storage. Two statements are in the following cell, and one is commented out. You may switch which mode you choose by changing the comment string.</p>"
   ]
  },
  {
   "cell_type": "code",
   "execution_count": null,
   "id": "8d389b95-be2f-4cf5-9ad8-7f644cf1db21",
   "metadata": {},
   "outputs": [],
   "source": [
    "# %run -i ../run_procedure.py \"call get_data('DEMO_EVCarBattery_cloud');\"        # Takes 15 seconds\n",
    "%run -i ../run_procedure.py \"call get_data('DEMO_EVCarBattery_local');\"        # Takes 30 seconds"
   ]
  },
  {
   "cell_type": "markdown",
   "id": "76266abc-8528-428b-a852-ef914b2a596b",
   "metadata": {},
   "source": [
    "<p style = 'font-size:16px;font-family:Arial'>Next is an optional step – if you want to see the status of databases/tables created and space used.</p>"
   ]
  },
  {
   "cell_type": "code",
   "execution_count": null,
   "id": "561ac9e9-c79a-4d7d-81fa-0c516dae57ac",
   "metadata": {},
   "outputs": [],
   "source": [
    "%run -i ../run_procedure.py \"call space_report();\"        # Takes 10 seconds"
   ]
  },
  {
   "cell_type": "markdown",
   "id": "certain-start",
   "metadata": {},
   "source": [
    "<hr>\n",
    "<b style = 'font-size:28px;font-family:Arial;color:#E37C4D'>2. Narrow down the root cause</b>\n",
    "<p style = 'font-size:16px;font-family:Arial'>This section will try to find the source of defective batteries. We'll answer questions such as whether bad batteries are installed in a specific model, whether cars with bad batteries are sold by a particular dealer, etc.</p>"
   ]
  },
  {
   "cell_type": "markdown",
   "id": "demanding-payday",
   "metadata": {},
   "source": [
    "<p style = 'font-size:18px;font-family:Arial;color:#E37C4D'><b>2.1 Were the defects based on the dealers?</b></p>\n",
    "<p style = 'font-size:16px;font-family:Arial'>Is any specific dealer the cause for the increased warranties?</p>"
   ]
  },
  {
   "cell_type": "code",
   "execution_count": null,
   "id": "finnish-morgan",
   "metadata": {},
   "outputs": [],
   "source": [
    "warnings.filterwarnings('ignore')\n",
    "\n",
    "query = '''\n",
    "SELECT d.company, count(*) as Num\n",
    "FROM DEMO_EVCarBattery.dealers d, DEMO_EVCarBattery.bad_batteries bb,\n",
    "DEMO_EVCarBattery.vehicles v\n",
    "WHERE bb.vin = v.vin\n",
    "AND v.dealer_id = d.id\n",
    "GROUP BY d.company; \n",
    "'''\n",
    "\n",
    "res = DataFrame.from_query(query)\n",
    "res = res.to_pandas()\n",
    "\n",
    "fig = px.pie(res, values='Num', names='Company', title='Proportion of bad battery warranty claims by dealers')\n",
    "fig.show()"
   ]
  },
  {
   "cell_type": "markdown",
   "id": "general-seafood",
   "metadata": {},
   "source": [
    "<p style = 'font-size:16px;font-family:Arial'>Warranty claims for cars with defective batteries are from all dealers equally. So dealers are not the culprits here. The issue is in the earlier stages of the manufacturing pipeline.</p>"
   ]
  },
  {
   "cell_type": "markdown",
   "id": "cheap-adventure",
   "metadata": {},
   "source": [
    "<hr>\n",
    "<p style = 'font-size:18px;font-family:Arial;color:#E37C4D'><b>2.2 Were the defects based on the model of the cars?</b></p>\n",
    "<p style = 'font-size:16px;font-family:Arial'>Is any specific model of car been installed with defective batteries? We use the same set of battery parts in several different models across our product line.</p>"
   ]
  },
  {
   "cell_type": "code",
   "execution_count": null,
   "id": "divine-termination",
   "metadata": {},
   "outputs": [],
   "source": [
    "warnings.filterwarnings('ignore')\n",
    "\n",
    "query = '''\n",
    "SELECT v.model, count(*) as Num\n",
    "FROM DEMO_EVCarBattery.vehicles v, DEMO_EVCarBattery.bad_batteries bb\n",
    "WHERE bb.vin = v.vin\n",
    "GROUP BY v.model;\n",
    "'''\n",
    "\n",
    "res = DataFrame.from_query(query)\n",
    "res = res.to_pandas()\n",
    "\n",
    "\n",
    "fig = px.pie(res, values='Num', names='model', title='Proportion of bad battery warranty claims by dealers vehicle model')\n",
    "fig.show()"
   ]
  },
  {
   "cell_type": "markdown",
   "id": "elder-yacht",
   "metadata": {},
   "source": [
    "<p style = 'font-size:16px;font-family:Arial'>Warranty claims for cars with defective batteries are from all models almost equally. So car models are not the culprits here. The issue is in the earlier stages of the manufacturing pipeline.</p>"
   ]
  },
  {
   "cell_type": "markdown",
   "id": "wanted-worker",
   "metadata": {},
   "source": [
    "<hr>\n",
    "<p style = 'font-size:18px;font-family:Arial;color:#E37C4D'><b>2.3 Were the defects based on the assembly plants?</b></p>\n",
    "<p style = 'font-size:16px;font-family:Arial'>Is any specific manufacturing plant installing the defective batteries in the cars?</p>"
   ]
  },
  {
   "cell_type": "code",
   "execution_count": null,
   "id": "negative-hammer",
   "metadata": {},
   "outputs": [],
   "source": [
    "warnings.filterwarnings('ignore')\n",
    "\n",
    "query = '''\n",
    "SELECT mfg.company, count(*) as Num\n",
    "FROM DEMO_EVCarBattery.mfg_plants mfg, DEMO_EVCarBattery.bad_batteries bb,\n",
    "DEMO_EVCarBattery.vehicles v\n",
    "WHERE bb.vin = v.vin\n",
    "AND v.mfg_plant_id = mfg.id\n",
    "GROUP BY mfg.company;\n",
    "'''\n",
    "\n",
    "res = DataFrame.from_query(query)\n",
    "res = res.to_pandas()\n",
    "\n",
    "\n",
    "fig = px.pie(res, values='Num', names='Company', title='Proportion of bad battery warranty claims by manufacturing plant')\n",
    "fig.show()"
   ]
  },
  {
   "cell_type": "markdown",
   "id": "polish-pantyhose",
   "metadata": {},
   "source": [
    "<p style = 'font-size:16px;font-family:Arial'>A whopping 81.4% of warranty claims for defective batteries are from a single manufacturing plant, i.e. Jackson Plant. We have found the culprit here!</p>"
   ]
  },
  {
   "cell_type": "markdown",
   "id": "previous-teddy",
   "metadata": {},
   "source": [
    "<hr>\n",
    "<p style = 'font-size:18px;font-family:Arial;color:#E37C4D'><b>2.4 Were the defects based on the battery cell?</b></p>\n",
    "<p style = 'font-size:16px;font-family:Arial'>Although we have found the manufacturing plant that installed the most defective batteries, it still makes sense to dig deeper and go into finer details. Let's find out what battery cells(type of battery) are installed in cars with bad batteries:</p>"
   ]
  },
  {
   "cell_type": "code",
   "execution_count": null,
   "id": "altered-fetish",
   "metadata": {},
   "outputs": [],
   "source": [
    "warnings.filterwarnings('ignore')\n",
    "\n",
    "query = '''\n",
    "SELECT DISTINCT bom.part_no, p.description, count(*) as Num\n",
    "FROM DEMO_EVCarBattery.bom, DEMO_EVCarBattery.bad_batteries bb, DEMO_EVCarBattery.parts p\n",
    "WHERE bb.vin = bom.vin\n",
    "AND bom.part_no = p.part_no\n",
    "AND p.description LIKE 'Battery Cell%'\n",
    "GROUP BY bom.part_no, p.description;\n",
    "'''\n",
    "\n",
    "res = DataFrame.from_query(query)\n",
    "res = res.to_pandas()\n",
    "\n",
    "\n",
    "fig = px.pie(res, values='Num', names='part_no', title='Proportion of bad battery warranty claims by battery cell')\n",
    "fig.show()"
   ]
  },
  {
   "cell_type": "markdown",
   "id": "suffering-practitioner",
   "metadata": {},
   "source": [
    "<p style = 'font-size:16px;font-family:Arial'>Ok, we have an issue with part_no '20rd0'! This part(type of EV battery) has led to a majority of warranty claims for bad batteries.</p>"
   ]
  },
  {
   "cell_type": "markdown",
   "id": "informative-weekend",
   "metadata": {},
   "source": [
    "<hr>\n",
    "<p style = 'font-size:18px;font-family:Arial;color:#E37C4D'><b>2.5 Were the defects based on the lot numbers?</b></p>\n",
    "<p style = 'font-size:16px;font-family:Arial'>In the previous step, we found the exact part that was the cause of the bad batteries. But are all the batteries with part_no '20rd0' faulty or is there any correlation with the lot number? In simple terms, were there any specific lot(s) which produced faulty batteries? We store detailed manufacturing data in our integrated data warehouse. Let us use that to perform the analysis.</p>"
   ]
  },
  {
   "cell_type": "code",
   "execution_count": null,
   "id": "raised-nirvana",
   "metadata": {},
   "outputs": [],
   "source": [
    "warnings.filterwarnings('ignore')\n",
    "\n",
    "query = '''\n",
    "SELECT bom.part_no, bom.lot_no, p.description, count(*) as Num\n",
    "FROM DEMO_EVCarBattery.bom bom, DEMO_EVCarBattery.bad_batteries bb, DEMO_EVCarBattery.parts p\n",
    "WHERE bb.vin = bom.vin\n",
    "AND p.part_no = bom.part_no\n",
    "AND p.description LIKE 'Battery Cell%'\n",
    "GROUP BY bom.part_no, bom.lot_no, p.description\n",
    ";\n",
    "'''\n",
    "\n",
    "res = DataFrame.from_query(query)\n",
    "res.sort('Num', ascending= False)\n"
   ]
  },
  {
   "cell_type": "markdown",
   "id": "under-height",
   "metadata": {},
   "source": [
    "<p style = 'font-size:16px;font-family:Arial'>Ok, now we know the underlying issue with part_no '20rd0' - the majority of the failures are from battery lot '4102' (which turns out to have been delivered to the Jackson Plant) has a considerable number of faulty batteries that are driving our warranty replacements.\n",
    "<br>\n",
    "<br>\n",
    "Great! So we found out the root cause for the increased warranty claims for faulty batteries. Could we do more to give some actionable insights?</p>"
   ]
  },
  {
   "cell_type": "markdown",
   "id": "returning-rubber",
   "metadata": {},
   "source": [
    "<hr>\n",
    "<b style = 'font-size:28px;font-family:Arial;color:#E37C4D'>3. Analysis of Test reports from Data Lake</b>\n",
    "<p style = 'font-size:16px;font-family:Arial'>Taking this analysis even further, we want to understand how we can detect bad batteries before they end up in our customers' cars. This will help us avoid expensive warranty repair cycles and poor customer satisfaction in the future. When the cars are manufactured, we store detailed test reports for the various parts and subsystems that comprise the vehicle. These are voluminous semi-structured data and are loaded directly into our Data Lake, which is housed in an object store(AWS S3).\n",
    "<br>\n",
    "<br>\n",
    "Using <b>Teradata Vantage</b> we can <b>natively</b> pull in this data and use it for our analysis!</p>\n",
    "<p style = 'font-size:18px;font-family:Arial;color:#E37C4D'><b>3.1 Create a foreign table to access the JSON data from Amazon S3</b></p>"
   ]
  },
  {
   "cell_type": "code",
   "execution_count": null,
   "id": "boxed-broadway",
   "metadata": {},
   "outputs": [],
   "source": [
    "%%capture\n",
    "query = '''\n",
    "CREATE FOREIGN TABLE test_reports\n",
    "(\n",
    "    Location VARCHAR(2048) CHARACTER SET UNICODE CASESPECIFIC,\n",
    "    payload JSON(16776192) INLINE LENGTH 64000 CHARACTER SET LATIN)\n",
    "USING (\n",
    "    Location ('/s3/s3.amazonaws.com/trial-datasets/EVCarBattery')\n",
    "), NO PRIMARY INDEX;\n",
    "'''\n",
    "\n",
    "execute_sql(query)"
   ]
  },
  {
   "cell_type": "code",
   "execution_count": null,
   "id": "exciting-debut",
   "metadata": {},
   "outputs": [],
   "source": [
    "query = '''\n",
    "SELECT *\n",
    "FROM test_reports\n",
    "SAMPLE 2;\n",
    "'''\n",
    "\n",
    "res = DataFrame.from_query(query)\n",
    "res"
   ]
  },
  {
   "cell_type": "markdown",
   "id": "interested-projector",
   "metadata": {},
   "source": [
    "<p style = 'font-size:16px;font-family:Arial'>The above data dump is not readable and hence let us put a user-friendly view on top of the foreign table to shred the files and make the test report data easier to access:</p>"
   ]
  },
  {
   "cell_type": "code",
   "execution_count": null,
   "id": "peripheral-european",
   "metadata": {},
   "outputs": [],
   "source": [
    "%%capture\n",
    "query = '''\n",
    "REPLACE VIEW test_reports_v AS\n",
    "(SELECT vin, part_no, lot_no, CAST(test_report AS JSON) test_report\n",
    "FROM TD_JSONSHRED(\n",
    "    ON (\n",
    "                SELECT payload.vin as vin, payload\n",
    "                FROM test_reports)\n",
    "            USING\n",
    "            ROWEXPR('parts')\n",
    "            COLEXPR('part_no', 'lot_no', 'test_report') \n",
    "            RETURNTYPES('VARCHAR(17)', 'VARCHAR(1000)', 'VARCHAR(10000)')\n",
    "        ) AS d1 (vin, part_no, lot_no, test_report)\n",
    "    )\n",
    "'''\n",
    "\n",
    "execute_sql(query)"
   ]
  },
  {
   "cell_type": "code",
   "execution_count": null,
   "id": "neutral-syntax",
   "metadata": {},
   "outputs": [],
   "source": [
    "query = '''\n",
    "SELECT *\n",
    "FROM test_reports_v\n",
    "SAMPLE 10;\n",
    "'''\n",
    "\n",
    "res = DataFrame.from_query(query)\n",
    "res"
   ]
  },
  {
   "cell_type": "markdown",
   "id": "enhanced-thirty",
   "metadata": {},
   "source": [
    "<p style = 'font-size:16px;font-family:Arial'>So now we have test reports for parts of each vehicle. Batteries have detailed test reports rather than just pass/fail. Can we use this data to provide any valuable insights?</p>"
   ]
  },
  {
   "cell_type": "markdown",
   "id": "chief-canyon",
   "metadata": {},
   "source": [
    "<hr>\n",
    "<p style = 'font-size:18px;font-family:Arial;color:#E37C4D'><b>3.2 Access and join the JSON manufacturing test data natively in Vantage</b></p>\n",
    "<p style = 'font-size:16px;font-family:Arial'>Various parts will have different data that gets reported when testing. The test report for the battery has detailed data on its performance after assembling but before fitting it into the vehicle.</p>\n",
    "<p style = 'font-size:16px;font-family:Arial'>We want to compare the rated and measured capacities along with part/lot numbers for just the batteries - we can easily drill into the JSON data using simple dot notation to access the test results we need.</p>"
   ]
  },
  {
   "cell_type": "code",
   "execution_count": null,
   "id": "comprehensive-google",
   "metadata": {},
   "outputs": [],
   "source": [
    "query = '''\n",
    "SELECT tr.part_no, p.description, tr.lot_no, \n",
    "tr.test_report.\"Rated Capacity\" AS rated_capacity,\n",
    "tr.test_report.\"Static Capacity Test\".\"Measured Average Capacity\" AS measured_capacity\n",
    "FROM DEMO_EVCarBattery.parts p, test_reports_v tr\n",
    "WHERE  p.part_no = tr.part_no\n",
    "AND p.description LIKE 'Battery Cell%';\n",
    "'''\n",
    "\n",
    "res = DataFrame.from_query(query).to_pandas(all_rows = True)\n",
    "res['measured_capacity'] = round(res['measured_capacity'].astype('float'), 2)\n",
    "res.head(10)"
   ]
  },
  {
   "cell_type": "code",
   "execution_count": null,
   "id": "bearing-provider",
   "metadata": {},
   "outputs": [],
   "source": [
    "warnings.filterwarnings('ignore')\n",
    "\n",
    "fig = px.violin(res, y = \"measured_capacity\", color = \"lot_no\")\n",
    "fig.add_hline(y = 6.9)\n",
    "fig.add_hline(y = 6.0)\n",
    "fig.show()"
   ]
  },
  {
   "cell_type": "markdown",
   "id": "faced-pantyhose",
   "metadata": {},
   "source": [
    "<p style = 'font-size:16px;font-family:Arial'>The above graph depicts the distribution of the measured capacity of batteries grouped by lot numbers. Each line(as it seems) is a violin plot. You may zoom in to have a clear picture. Violin plots show the probability density of the data, and here it is measured capacity data per lot. Hover over each violin plot to see values such as min, max, median, quantiles, etc.\n",
    "<br>\n",
    "<br>\n",
    "One observation is the pink plot which goes below the lower threshold. This plot is for <b>lot_no 4102</b>. Looking closely, we see that the violin plot for lot_no 4102 is inclined towards the bottom. The next graph shows the violin plot for lot_no 4102 explicitly.</p>"
   ]
  },
  {
   "cell_type": "code",
   "execution_count": null,
   "id": "interested-police",
   "metadata": {},
   "outputs": [],
   "source": [
    "warnings.filterwarnings('ignore')\n",
    "\n",
    "fig = px.violin(res[res.lot_no == '4102'], y=\"measured_capacity\", color = \"lot_no\", points='all')\n",
    "fig.add_hline(y = 6.9)\n",
    "fig.add_hline(y = 6.5)\n",
    "fig.add_hline(y = 6.0)\n",
    "fig.show()"
   ]
  },
  {
   "cell_type": "markdown",
   "id": "associate-needle",
   "metadata": {},
   "source": [
    "<p style = 'font-size:16px;font-family:Arial'>These battery packs(lot_no = 4102) are within the specification, but the range is much lower than the other battery lots. A significant amount of batteries are concentrated in the lower part of the graph, i.e. with lower measured capacity than what is rated for this lot(6.5).</p>\n",
    "\n",
    "<p style = 'font-size:16px;font-family:Arial;color:#E37C4D'><b>Insights:</b></p>\n",
    "<ol style = 'font-size:16px;font-family:Arial'>\n",
    "    <li>Test reports need to be proactively monitored in order to avoid installing faulty batteries</li>\n",
    "    <li>Tighten up the acceptance criteria of batteries</li>\n",
    "</ol>\n",
    "<p style = 'font-size:16px;font-family:Arial'>These initiatives will increase product quality and make sure this doesn't happen again!</p>"
   ]
  },
  {
   "cell_type": "markdown",
   "id": "stone-laundry",
   "metadata": {},
   "source": [
    "<hr>\n",
    "<b style = 'font-size:28px;font-family:Arial;color:#E37C4D'>4. Cleanup</b>\n",
    "<p style = 'font-size:18px;font-family:Arial;color:#E37C4D'><b>Work Tables</b></p>\n",
    "<p style = 'font-size:16px;font-family:Arial'>Cleanup work tables to prevent errors next time.</p>"
   ]
  },
  {
   "cell_type": "code",
   "execution_count": null,
   "id": "990346a8-bfcb-4186-a9aa-222545a0a28a",
   "metadata": {},
   "outputs": [],
   "source": [
    "tables = ['test_reports','test_reports_v']\n",
    "\n",
    "# Loop through the list of tables and execute the drop table command for each table\n",
    "for table in tables:\n",
    "    try:\n",
    "        db_drop_table(table_name=table)\n",
    "    except:\n",
    "        pass"
   ]
  },
  {
   "cell_type": "markdown",
   "id": "214801d4-dbd4-44cf-b0c5-deda582b7fb1",
   "metadata": {},
   "source": [
    "<p style = 'font-size:18px;font-family:Arial;color:#E37C4D'> <b>Databases and Tables </b></p>\n",
    "<p style = 'font-size:16px;font-family:Arial'>The following code will clean up tables and databases created above.</p>"
   ]
  },
  {
   "cell_type": "code",
   "execution_count": null,
   "id": "3e014aed-020c-4b45-8ea3-1eae9fccc54c",
   "metadata": {},
   "outputs": [],
   "source": [
    "%run -i ../run_procedure.py \"call remove_data('DEMO_EVCarBattery');\"        # Takes 5 seconds"
   ]
  },
  {
   "cell_type": "code",
   "execution_count": null,
   "id": "587dede0-680e-4e98-9b2d-64788a38e753",
   "metadata": {},
   "outputs": [],
   "source": [
    "remove_context()"
   ]
  },
  {
   "cell_type": "markdown",
   "id": "radical-communist",
   "metadata": {},
   "source": [
    "<hr>\n",
    "<b style = 'font-size:28px;font-family:Arial;color:#E37C4D'>Dataset</b>\n",
    "\n",
    "<b>bom</b> - Bill of materials - contains all major parts that make up each vehicle:\n",
    "\n",
    "- `id`: unique identifier\n",
    "- `vin`: vehicle identification number\n",
    "- `part_no`: part number\n",
    "- `vendor_id`: vendor the part was produced by (unused)\n",
    "- `lot_no`: lot number from the vendor\n",
    "- `quantity`: how many of this part are in the vehicle\n",
    "\n",
    "<b>dealers</b> - Vehicle sales and distributors:\n",
    "\n",
    "- `id`: unique identifier\n",
    "- `Company`: company name\n",
    "- `StreetAddress`: street address\n",
    "- `City`: city\n",
    "- `State`: state\n",
    "- `ZipCode`: postcode\n",
    "- `Country`: country\n",
    "- `EmailAddress`: main email address\n",
    "- `TelephoneNumber`: telephone number\n",
    "- `DomainName`: URL for company website\n",
    "- `Latitude`: latitude (location)\n",
    "- `Longitude`: longitude (location\n",
    "\n",
    "<b>mfg_plants</b> - Manufacturing facilities:\n",
    "\n",
    "- `id`: unique identifier\n",
    "- `Company`: facility name\n",
    "- `StreetAddress`: street address\n",
    "- `City`: city\n",
    "- `State`: state\n",
    "- `ZipCode`: postcode\n",
    "- `Country`: country\n",
    "- `EmailAddress`: main email address\n",
    "- `TelephoneNumber`: telephone number\n",
    "- `DomainName`: URL for plant website\n",
    "- `Latitude`: latitude (location)\n",
    "- `Longitude`: longitude (location\n",
    "\n",
    "<b>parts</b> - Master list of parts for all vehicles:\n",
    "\n",
    "- `part_no`: unique part number\n",
    "- `description`: part description\n",
    "\n",
    "\n",
    "<b>vehicles</b> - Vehicles we have built/are building:\n",
    "\n",
    "- `vin`: unique identifier\n",
    "- `yr`: model year\n",
    "- `model`: vehicle model code\n",
    "- `customer_id`: customer / purchaser\n",
    "- `dealer_id`: dealer where vehicle was sold/delivered\n",
    "- `mfg_plant_id`: plant the vehicle was assembled"
   ]
  },
  {
   "cell_type": "markdown",
   "id": "perfect-proportion",
   "metadata": {},
   "source": [
    "<footer style=\"padding:10px;background:#f9f9f9;border-bottom:3px solid #394851\">Copyright © Teradata Corporation - 2023. All Rights Reserved.</footer>"
   ]
  }
 ],
 "metadata": {
  "kernelspec": {
   "display_name": "Python 3 (ipykernel)",
   "language": "python",
   "name": "python3"
  },
  "language_info": {
   "codemirror_mode": {
    "name": "ipython",
    "version": 3
   },
   "file_extension": ".py",
   "mimetype": "text/x-python",
   "name": "python",
   "nbconvert_exporter": "python",
   "pygments_lexer": "ipython3",
   "version": "3.9.10"
  }
 },
 "nbformat": 4,
 "nbformat_minor": 5
}
