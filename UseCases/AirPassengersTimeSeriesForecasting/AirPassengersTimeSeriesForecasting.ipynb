{
 "cells": [
  {
   "cell_type": "markdown",
   "id": "1228a909-c831-403d-bdfc-678981a772ba",
   "metadata": {},
   "source": [
    "<header style=\"padding:1px;background:#f9f9f9;border-top:3px solid #00b2b1\"><img id=\"Teradata-logo\" src=\"https://www.teradata.com/Teradata/Images/Rebrand/Teradata_logo-two_color.png\" alt=\"Teradata\" width=\"220\" align=\"right\" />\n",
    "\n",
    "<b style = 'font-size:28px;font-family:Arial;color:#E37C4D'>Time Series Forecasting on Number of Passengers for FlyHigh Airline</b>\n",
    "</header>\n",
    "\n",
    "<p style = 'font-size:18px;font-family:Arial;color:#E37C4D'><b>Introduction:</b></p>\n",
    "\n",
    "<p style = 'font-size:16px;font-family:Arial'>Consider a startup airline <b>FlyHigh Airlines</b> as our client. The client requires us to forecast the number of passengers who fly using their airline. The ARIMA model has been widely utilized in many fields for forecasting since it is recognized as reliable, efficient, and capable of predicting short-term share market movements. Hence, we'll build an ARIMA model to forecast the demand(passenger traffic) for Airplanes.\n",
    "<br>\n",
    "<br>\n",
    "ARIMA(Auto Regressive Integrated Moving Average) is a combination of 2 models, AR(Auto Regressive) and MA(Moving Average). It has three hyperparameters - P(autoregressive lags), d(order of differentiation), and Q(moving avg.), which respectively come from the AR, I and MA components. The AR part is the correlation between previous and current periods. The MA part is used to smooth out the noise. The I part binds together the AR and MA parts.</p>\n",
    "<p style = 'font-size:18px;font-family:Arial;color:#E37C4D'><b>Data:</b></p>\n",
    "<p style = 'font-size:16px;font-family:Arial'>The data for this demonstration resides on Vantage. The data consists of monthly flights between 2007 and 2018  (144 rows), which we selected to be able to understand the functionality. The same functionality can be applied to massive datasets with multiple series concurrently.\n",
    "</p>\n",
    "\n",
    "<p style = 'font-size:16px;font-family:Arial;color:#E37C4D'><b>Steps in the analysis:</b></p>\n",
    "<ol style = 'font-size:16px;font-family:Arial'>\n",
    "    <li>Connect to Vantage</li>    \n",
    "    <li>Explore the dataset</li>\n",
    "    <li>Check for Stationarity using Dickey-Fuller Test</li>\n",
    "    <li>Make series stationary using TD_DIFF (D)</li>\n",
    "    <li>Check for autocorrelation of the time series (Q)</li>\n",
    "    <li>Check for partial autocorrelation of the time series (P)</li>\n",
    "    <li>Using ARIMA(AutoRegressive Integrated Moving Average) model to forecast number of passengers</li>\n",
    "        <ul>\n",
    "            <li>7.1 Estimation step using TD_ARIMAESTIMATE</li>\n",
    "            <li>7.2 Extract residuals</li>\n",
    "            <li>7.3 Create table PLOT_ESTIMATE for plotting</li>\n",
    "            <li>7.4 Validation step using TD_ARIMAVALIDATE</li>\n",
    "            <li>7.5 Extract residuals</li>\n",
    "            <li>7.6 Create table PLOT_VALIDATE for plotting</li>\n",
    "            <li>7.7 Forecast step using TD_ARIMAFORECAST</li>\n",
    "            <li>7.8 Create table PLOT_FORECAST for plotting</li>\n",
    "        </ul>\n",
    "    <li>Cleanup</li>\n",
    "</ol>"
   ]
  },
  {
   "cell_type": "markdown",
   "id": "5b75fa0e-f719-4f78-8505-1ac60c254a7b",
   "metadata": {},
   "source": [
    "<hr>\n",
    "<b style = 'font-size:28px;font-family:Arial;color:#E37C4D'>1. Connect to Vantage</b>\n",
    "<p style = 'font-size:16px;font-family:Arial'>You will be prompted to provide the password. Enter your password, press the Enter key, and then use the down arrow to go to the next cell.</p>"
   ]
  },
  {
   "cell_type": "code",
   "execution_count": null,
   "id": "4bdb3979-4cc8-4311-b349-d9d5bcaf08f3",
   "metadata": {
    "tags": []
   },
   "outputs": [],
   "source": [
    "%connect local, hidewarnings=True"
   ]
  },
  {
   "cell_type": "markdown",
   "id": "d10c9db4-e5f6-4654-99f5-b5953a6eff33",
   "metadata": {},
   "source": [
    "<p style = 'font-size:16px;font-family:Arial'>Setup for execution of notebook. Begin running steps with Shift + Enter keys.</p>\n"
   ]
  },
  {
   "cell_type": "code",
   "execution_count": null,
   "id": "22bc412c-644d-4090-bab1-9d41615076a7",
   "metadata": {},
   "outputs": [],
   "source": [
    "Set query_band='DEMO=AirPassengersTimeSeriesForecasting.ipynb;' update for session;"
   ]
  },
  {
   "cell_type": "markdown",
   "id": "74a31f81-c803-4aa7-bc55-acb5c3e3763b",
   "metadata": {},
   "source": [
    "<b style = 'font-size:20px;font-family:Arial;color:#E37C4D'>Getting Data for This Demo\n",
    "<p style = 'font-size:16px;font-family:Arial'>We have provided data for this demo on cloud storage. You can either run the demo using foreign tables to access the data without any storage on your environment or download the data to local storage, which may yield faster execution. Still, there could be considerations of available storage. Two statements are in the following cell, and one of them is commented out. You may switch between the modes by changing the comment string.</p>"
   ]
  },
  {
   "cell_type": "code",
   "execution_count": null,
   "id": "c4f641ec-5099-45f2-a18e-557f0b877f1a",
   "metadata": {},
   "outputs": [],
   "source": [
    "call get_data('DEMO_AirPassengers_cloud');           -- Takes 10 seconds\n",
    "-- call get_data('DEMO_AirPassengers_local');           -- Takes 10 seconds"
   ]
  },
  {
   "cell_type": "markdown",
   "id": "b7ad3a0d-74e5-4ca2-91fd-919fad72ab96",
   "metadata": {},
   "source": [
    "<p style = 'font-size:16px;font-family:Arial'>Optional step – if you want to see status of databases/tables created and space used.</p>\n"
   ]
  },
  {
   "cell_type": "code",
   "execution_count": null,
   "id": "361aa03f-0bf2-45f2-bc90-d848e31619fe",
   "metadata": {},
   "outputs": [],
   "source": [
    "call space_report();          -- Takes 5 seconds"
   ]
  },
  {
   "cell_type": "markdown",
   "id": "0e839447-207f-4148-919a-70a775221292",
   "metadata": {},
   "source": [
    "<hr>\n",
    "<b style = 'font-size:28px;font-family:Arial;color:#E37C4D'>2. Explore the dataset</b>\n",
    "<p style = 'font-size:16px;font-family:Arial'>The data is classified by date/time and the passengers travelling per month. Time series deals with two columns, one is temporal, i.e. <b>Date</b> in this case, and another is the value to be forecasted, i.e. <b>Passengers</b>. Following is a sample of the dataset.</p>"
   ]
  },
  {
   "cell_type": "code",
   "execution_count": null,
   "id": "804c87de-198c-4b7f-af8d-483a3719cad6",
   "metadata": {},
   "outputs": [],
   "source": [
    "SELECT TOP 5 * FROM DEMO_AirPassengers.airpassengers ORDER BY \"Date\";"
   ]
  },
  {
   "cell_type": "markdown",
   "id": "c84c07e3-360d-44ba-9286-bb21b9369fa0",
   "metadata": {},
   "source": [
    "<p style = 'font-size:16px;font-family:Arial'>The <b>TD_PLOT</b> function will return an image in the cell of the results showing the total passengers by month from 2007 to 2018.</p>\n",
    "\n",
    "<i>* Please <b> right click on the cell under the IMAGE column </b> from the output and choose view image to see the plot generated. </i>"
   ]
  },
  {
   "cell_type": "code",
   "execution_count": null,
   "id": "f12d02fd-6fba-4987-9699-75caba38d56f",
   "metadata": {},
   "outputs": [],
   "source": [
    "EXECUTE FUNCTION\n",
    "TD_Plot\n",
    "(\n",
    "    SERIES_SPEC\n",
    "    (\n",
    "        TABLE_NAME(DEMO_AirPassengers.airpassengers),\n",
    "        ROW_AXIS(TIMECODE(\"Date\")),\n",
    "        SERIES_ID(seriesID),\n",
    "        PAYLOAD (FIELDS(\"Passengers\"),CONTENT(REAL))\n",
    "    ),\n",
    "    FUNC_PARAMS\n",
    "    (\n",
    "        PLOTS[(\n",
    "            TYPE('line'),\n",
    "            LEGEND('upper left'),\n",
    "            TITLE('Number of Passengers Travelling Monthly')\n",
    "        )],\n",
    "        IMAGE('png')\n",
    "    )\n",
    ");"
   ]
  },
  {
   "cell_type": "markdown",
   "id": "6b03e62e-b871-4ebe-a7e3-28fc3eca8329",
   "metadata": {},
   "source": [
    "<p style = 'font-size:16px;font-family:Arial'>If you followed the instructions above, you should have seen a graph that looks like follows:</p>\n",
    "<img id=\"fig1\" src=\"images/fig1.png\" alt=\"Number of Passengers Travelling Monthly\" width=\"400\" />\n",
    "<p style = 'font-size:16px;font-family:Arial'>This shows that the data has yearly cycles and an upward trend.</p>"
   ]
  },
  {
   "cell_type": "markdown",
   "id": "c1f4a252-cc7d-45fa-a5b6-db4d4c8b59ae",
   "metadata": {},
   "source": [
    "<hr>\n",
    "<b style = 'font-size:28px;font-family:Arial;color:#E37C4D'>3. Check for Stationarity using Dickey-Fuller Test</b>\n",
    "<br>\n",
    "<b style = font-size:16px;font-family:Arial>What is Stationarity?</b>\n",
    "<br>\n",
    "<p style = 'font-size:16px;font-family:Arial'>Before applying any statistical model on a Time Series, the series has to be stationary, which means that, over different time periods,\n",
    "<br>\n",
    "a) It should have constant mean.\n",
    "<br>\n",
    "b) It should have constant variance or standard deviation.\n",
    "<br>\n",
    "c) Auto-covariance should not depend on time.\n",
    "</p>\n",
    "<p style = 'font-size:16px;font-family:Arial'> We can visually examine if the mean and variance are constant over different periods of time or not. Alternatively, Dickey-Fuller test is widely used to check for stationarity in the time series data.\n",
    "<br>\n",
    "\n",
    "<p style = 'font-size:16px;font-family:Arial'>The following query would check for stationarity by using Dickey-Fuller Test. If the Null Hypothesis of the Dickey-Fuller Test:\n",
    "<br>\n",
    "• <b>ACCEPT</b> means the null hypothesis is accepted. The process\n",
    "is <b>non-stationary</b> and unit roots are present.\n",
    "<br>\n",
    "• <b>REJECT</b> means the null hypothesis is rejected. The process is\n",
    "<b>stationary</b>, and no unit roots are present.</p>"
   ]
  },
  {
   "cell_type": "code",
   "execution_count": null,
   "id": "3d0b5e4b-2eed-427e-8611-0f6a2cea3716",
   "metadata": {},
   "outputs": [],
   "source": [
    "EXECUTE FUNCTION\n",
    "TD_DICKEY_FULLER(\n",
    "    SERIES_SPEC(\n",
    "        TABLE_NAME(DEMO_AirPassengers.airpassengers),\n",
    "        ROW_AXIS(TIMECODE(\"Date\")),\n",
    "        SERIES_ID(\"seriesID\"),\n",
    "        PAYLOAD(\n",
    "            FIELDS(\"Passengers\"),\n",
    "            CONTENT(REAL)\n",
    "        )\n",
    "    ),\n",
    "    FUNC_PARAMS(\n",
    "        ALGORITHM('TREND')\n",
    "    )\n",
    ");"
   ]
  },
  {
   "cell_type": "markdown",
   "id": "34329df1-fdaf-492a-950f-132e105f1e7d",
   "metadata": {},
   "source": [
    "<p style = 'font-size:16px;font-family:Arial'>Looking at the rightmost column named NULL_HYP, we observe that the NULL Hypothesis is accepted; hence, the series is Non-Stationary. This suggests that we make this series stationary.</p>"
   ]
  },
  {
   "cell_type": "markdown",
   "id": "1621c781-8661-4146-9e10-ccb41b816328",
   "metadata": {},
   "source": [
    "<hr>\n",
    "<b style = 'font-size:28px;font-family:Arial;color:#E37C4D'>4. Make series stationary using TD_DIFF</b>\n",
    "<p style = 'font-size:16px;font-family:Arial'>TD_DIFF transforms a stationary, seasonal, or nonstationary time series into a differenced time series. We are going to create a new table containing differenced series and then check if the differenced series is stationary. Here, the parameter <b>LAG</b> is set to 12(12 units of time, i.e. 12 months or one year) to consider the cyclical nature of the data. We'll check whether the newly created table(which contains differenced series) is stationary (Using the Dickey-Fuller test). If not, we'll again use TD_DIFF recursively till the series becomes stationary.</p>"
   ]
  },
  {
   "cell_type": "code",
   "execution_count": null,
   "id": "f6da73b8-6aa7-4910-a876-6b59726d1c99",
   "metadata": {},
   "outputs": [],
   "source": [
    "EXECUTE FUNCTION\n",
    "COLUMNS(OUT_Passengers AS Passengers)\n",
    "INTO VOLATILE ART(diff1_air)\n",
    "TD_DIFF(\n",
    "    SERIES_SPEC(\n",
    "            TABLE_NAME(DEMO_AirPassengers.airpassengers),\n",
    "            ROW_AXIS(TIMECODE(\"Date\")),\n",
    "            SERIES_ID(\"seriesID\"),\n",
    "            PAYLOAD(\n",
    "                FIELDS(\"Passengers\"),\n",
    "                CONTENT(REAL)\n",
    "            )\n",
    "    ),\n",
    "    FUNC_PARAMS(\n",
    "          LAG(12),\n",
    "          DIFFERENCES(4),\n",
    "          SEASONAL_MULTIPLIER(0)\n",
    "    )\n",
    ");"
   ]
  },
  {
   "cell_type": "code",
   "execution_count": null,
   "id": "4da3872e-11f2-47c4-98f8-2329351df32d",
   "metadata": {},
   "outputs": [],
   "source": [
    "SELECT TOP 5 * FROM diff1_air ORDER BY ROW_I;"
   ]
  },
  {
   "cell_type": "markdown",
   "id": "5d93d7b9-cd8e-4a59-b299-ca199bfc1c06",
   "metadata": {},
   "source": [
    "<p style = 'font-size:16px;font-family:Arial'>In the above result, <b>ROW_I</b> is the Row identifier of the ordered result sets and <b>OUT_Passengers</b> is Transformed magnitudes of differenced time series elements.\n",
    "    <br>\n",
    "    <br>\n",
    "The following cell applies Dickey-Fuller test to check for stationarity.</p>"
   ]
  },
  {
   "cell_type": "code",
   "execution_count": null,
   "id": "ba7aa982-4dd1-4171-a00d-43fbbd5575ec",
   "metadata": {},
   "outputs": [],
   "source": [
    "EXECUTE FUNCTION\n",
    "TD_DICKEY_FULLER(\n",
    "    SERIES_SPEC(\n",
    "        TABLE_NAME(diff1_air),\n",
    "        ROW_AXIS(SEQUENCE(ROW_I)),\n",
    "        SERIES_ID(\"seriesID\"),\n",
    "        PAYLOAD(\n",
    "            FIELDS(\"Passengers\"),\n",
    "            CONTENT(REAL)\n",
    "        )\n",
    "    ),\n",
    "    FUNC_PARAMS(\n",
    "        ALGORITHM('TREND')\n",
    "    )\n",
    ");"
   ]
  },
  {
   "cell_type": "markdown",
   "id": "8041b262-4308-43cd-9b67-b059dedda4ff",
   "metadata": {},
   "source": [
    "<p style = 'font-size:16px;font-family:Arial'>Looking at the rightmost column NULL_HYP, we observe that the NULL Hypothesis is rejected; hence, the series is stationary. Differencing the series once gave us stationary series. Thus the value of the order of differentiation or <b>D = 1</b>. This value will be used further in ARIMA_ESTIMATE.</p>\n",
    "<hr>\n",
    "<b style = 'font-size:28px;font-family:Arial;color:#E37C4D'>5. Check for autocorrelation of the time series</b>\n",
    "<p style = 'font-size:16px;font-family:Arial'>TD_ACF calculates the autocorrelation or autocovariance of a time series. The autocorrelation and autocovariance show how the time series correlates or covaries with itself when delayed by a lag in time or space. Here we check autocorrelation with a maximum lag of 12 time steps.</p>"
   ]
  },
  {
   "cell_type": "code",
   "execution_count": null,
   "id": "7755280f-e20e-484f-bbec-dbcf5bddc76f",
   "metadata": {},
   "outputs": [],
   "source": [
    "EXECUTE FUNCTION\n",
    "COLUMNS(OUT_Passengers AS Auto_Correlation)\n",
    "INTO VOLATILE ART(ACFDemo)\n",
    "TD_ACF(\n",
    "    SERIES_SPEC(\n",
    "        TABLE_NAME(diff1_air),\n",
    "        ROW_AXIS(SEQUENCE(ROW_I)),\n",
    "        SERIES_ID(\"seriesID\"),\n",
    "        PAYLOAD(\n",
    "            FIELDS(\"Passengers\"),\n",
    "            CONTENT(REAL)\n",
    "        )\n",
    "    ),\n",
    "    FUNC_PARAMS(\n",
    "        MAXLAGS(12),\n",
    "        UNBIASED(0),    -- Use 0 for Jenkins-Watts formula, or 1 for BoxJenkins formula\n",
    "        FUNC_TYPE(0),   -- Use 0 for autocorrelation, or 1 for autocovariance\n",
    "        DEMEAN(1),\n",
    "        QSTAT(0),\n",
    "        ALPHA(0.05)\n",
    "    )\n",
    ");"
   ]
  },
  {
   "cell_type": "code",
   "execution_count": null,
   "id": "5575d184-ceee-4ec4-9a69-e42dbec60523",
   "metadata": {},
   "outputs": [],
   "source": [
    "SELECT TOP 5 * FROM ACFDemo ORDER BY ROW_I;"
   ]
  },
  {
   "cell_type": "markdown",
   "id": "35bde77f-5f80-4538-a777-afe70070f83a",
   "metadata": {},
   "source": [
    "<p style = 'font-size:16px;font-family:Arial'>The <b>TD_PLOT</b> function will return an image in the cell of the results showing the Auto Correlation Plot.</p>\n",
    "<i>* Please <b> right click on the cell under the IMAGE column </b> from the output and choose view image to see the plot generated. </i>"
   ]
  },
  {
   "cell_type": "code",
   "execution_count": null,
   "id": "f411dd53-99d9-4b99-a4d4-94d773005639",
   "metadata": {},
   "outputs": [],
   "source": [
    "EXECUTE FUNCTION\n",
    "TD_Plot\n",
    "(\n",
    "    SERIES_SPEC\n",
    "    (\n",
    "        TABLE_NAME(ACFDemo),\n",
    "        ROW_AXIS(SEQUENCE(ROW_I)),\n",
    "        SERIES_ID(seriesID),\n",
    "        PAYLOAD (FIELDS(Auto_Correlation, CONF_OFF_Passengers),CONTENT(MULTIVAR_REAL))\n",
    "    ),\n",
    "    FUNC_PARAMS\n",
    "    (\n",
    "        PLOTS[(\n",
    "            TYPE('corr')\n",
    "           ,LEGEND('best') \n",
    "        )],\n",
    "        IMAGE('png')\n",
    "    )\n",
    ");"
   ]
  },
  {
   "cell_type": "markdown",
   "id": "7b75666d-22f7-4b14-9d52-0ca15a882569",
   "metadata": {},
   "source": [
    "<p style = 'font-size:16px;font-family:Arial'>If you followed the instructions above, you should have seen a graph that looks like follows:</p>\n",
    "<img id=\"fig2\" src=\"images/fig2.png\" alt=\"Auto Correlation\" width=\"400\" />\n",
    "<p style = 'font-size:16px;font-family:Arial'>To get the value of the Moving Average or Q, we need the lag(here, ROW_I) where the value from the ACF plot is just outside the significant limit. Looking at the graph, the Auto-Correlation value at ROW_I = 3 is outside the confidence band and much closer to it. Hence it is acceptable to say that the value of the Moving Average or <b>Q = 3</b>.</p>"
   ]
  },
  {
   "cell_type": "markdown",
   "id": "b3eaa923-4e38-44c4-99a6-29434e71130e",
   "metadata": {},
   "source": [
    "<hr>\n",
    "<b style = 'font-size:28px;font-family:Arial;color:#E37C4D'>6. Check for partial autocorrelation of the time series</b>\n",
    "<p style = 'font-size:16px;font-family:Arial'>The TD_PACF function provides insight as to whether the modelled function is stationary. The partial autocorrelations measure the degree of correlation between time series sample points. Here we check partial autocorrelation with a maximum lag of 12 time steps.</p>"
   ]
  },
  {
   "cell_type": "code",
   "execution_count": null,
   "id": "0895d36f-5989-4a57-9e94-215cd7a19f72",
   "metadata": {},
   "outputs": [],
   "source": [
    "EXECUTE FUNCTION\n",
    "COLUMNS(OUT_Passengers AS Partial_Auto_Correlation)\n",
    "INTO VOLATILE ART(PACFDemo)\n",
    "TD_PACF (\n",
    "    SERIES_SPEC(\n",
    "        TABLE_NAME(diff1_air),\n",
    "        ROW_AXIS(SEQUENCE(ROW_I)),\n",
    "        SERIES_ID(seriesID),\n",
    "        PAYLOAD(\n",
    "            FIELDS(\"Passengers\"),\n",
    "            CONTENT(REAL)\n",
    "        )\n",
    "    ) ,\n",
    "    FUNC_PARAMS(\n",
    "        MAXLAGS(12),\n",
    "        UNBIASED(0),    -- Use 0 for Jenkins-Watts formula, or 1 for BoxJenkins formula\n",
    "        ALGORITHM(LEVINSON_DURBIN),\n",
    "        ALPHA(0.05)\n",
    "    )\n",
    ");"
   ]
  },
  {
   "cell_type": "code",
   "execution_count": null,
   "id": "c0303e70-e60f-4054-9e51-c928c3862611",
   "metadata": {},
   "outputs": [],
   "source": [
    "SELECT TOP 5 * FROM PACFDemo ORDER BY ROW_I;"
   ]
  },
  {
   "cell_type": "markdown",
   "id": "cb78b851-8492-4909-9905-2a89e1517260",
   "metadata": {},
   "source": [
    "<p style = 'font-size:16px;font-family:Arial'>The <b>TD_PLOT</b> function will return an image in the cell of the results showing the Partial Auto Correlation Plot.</p>\n",
    "<i>* Please <b> right click on the cell under the IMAGE column </b> from the output and choose view image to see the plot generated. </i>"
   ]
  },
  {
   "cell_type": "code",
   "execution_count": null,
   "id": "ab6116ba-3c2a-4487-af90-c392ee373a0d",
   "metadata": {},
   "outputs": [],
   "source": [
    "EXECUTE FUNCTION\n",
    "TD_Plot\n",
    "(\n",
    "    SERIES_SPEC\n",
    "    (\n",
    "        TABLE_NAME(PACFDemo),\n",
    "        ROW_AXIS(SEQUENCE(ROW_I)),\n",
    "        SERIES_ID(seriesID),\n",
    "        PAYLOAD (FIELDS(Partial_Auto_Correlation, CONF_OFF_Passengers),CONTENT(MULTIVAR_REAL))\n",
    "    ),\n",
    "    FUNC_PARAMS\n",
    "    (\n",
    "        PLOTS[(\n",
    "            TYPE('corr')\n",
    "           ,LEGEND('best') \n",
    "        )],\n",
    "        IMAGE('png')\n",
    "    )\n",
    ");"
   ]
  },
  {
   "cell_type": "markdown",
   "id": "5fe521b9-df75-4e1c-9d4b-f7f655498825",
   "metadata": {},
   "source": [
    "<p style = 'font-size:16px;font-family:Arial'>If you followed the instructions above, you should have seen a graph that looks like follows:</p>\n",
    "<img id=\"fig3\" src=\"images/fig3.png\" alt=\"Partial Auto Correlation\" width=\"400\" />\n",
    "<p style = 'font-size:16px;font-family:Arial'>To get the value of Auto-Regressive lags or P, we need the lag(here, Row_I) where the value from the PACF plot falls just outside the significant limit. Looking at the graph, the Partial Auto-Correlation value at ROW_I = 1 falls outside the significant limit. Hence we can say that the value of Auto-Regressive lags or <b>P = 1</b>.</p>"
   ]
  },
  {
   "cell_type": "markdown",
   "id": "db14b297-601e-4efe-9ec4-a12d09f0d9ec",
   "metadata": {},
   "source": [
    "<hr>\n",
    "<b style = 'font-size:28px;font-family:Arial;color:#E37C4D'>7. Using ARIMA (AutoRegressive Integrated Moving Average) model to forecast number of passengers</b>\n",
    "<p style = 'font-size:16px;font-family:Arial'>\n",
    "ARIMA functions on VANTAGE run in the following order:\n",
    "<br>\n",
    "1. Run <b>TD_ARIMAESTIMATE</b> function to get the coefficients for the ARIMA model.\n",
    "<br>\n",
    "2. <i>[Optional]</i> Run <b>TD_ARIMAVALIDATE</b> function to validate the the \"goodness of fit\" of the ARIMA model, when\n",
    "FIT_PERCENTAGE is not 100 in TD_ARIMAESTIMATE.\n",
    "<br>\n",
    "3. Run the <b>TD_ARIMAFORECAST</b> function with input from step 1 or step 2 to forecast the future periods\n",
    "beyond the last observed period.\n",
    "</p>\n",
    "\n",
    "<hr>\n",
    "<p style = 'font-size:18px;font-family:Arial;color:#E37C4D'><b>7.1 Estimation step using TD_ARIMAESTIMATE</b></p>\n",
    "<p style = 'font-size:16px;font-family:Arial'>The TD_ARIMAESTIMATE function estimates the coefficients corresponding to an ARIMA model and fits a series with an existing ARIMA model. The function can also provide the \"goodness of fit\" and the residuals of the fitting operation. The function generates a model layer used as input for the TD_ARIMAVALIDATE and TD_ARIMAFORECAST functions. This function is for univariate series.</p>\n",
    "\n",
    "<br>\n",
    "\n",
    "<p style = 'font-size:16px;font-family:Arial'>Here, the previously estimated parameters P, d and Q need to be passed in the MODEL_ORDER(P, d, Q), i.e. <b>MODEL_ORDER(1, 1, 3)</b>. The output is stored in an ART(Analytical Result Table). The fit percentage is 80, meaning the ARIMA model is being trained on 80% of the data. The remaining 20% of the data will be used to validate the model.</p>"
   ]
  },
  {
   "cell_type": "code",
   "execution_count": null,
   "id": "8927e0b3-8a09-4c03-bb8a-70608ac54b77",
   "metadata": {},
   "outputs": [],
   "source": [
    "EXECUTE FUNCTION INTO VOLATILE ART(ART_EST)\n",
    "TD_ARIMAESTIMATE(\n",
    "    SERIES_SPEC(\n",
    "        TABLE_NAME(DEMO_AirPassengers.airpassengers),\n",
    "        ROW_AXIS(TIMECODE(\"Date\")),\n",
    "        SERIES_ID(seriesID),\n",
    "        PAYLOAD(\n",
    "            FIELDS(\"Passengers\"),\n",
    "            CONTENT(REAL))),\n",
    "     FUNC_PARAMS(\n",
    "        NONSEASONAL(MODEL_ORDER(1, 1, 3)),\n",
    "        SEASONAL(MODEL_ORDER(1, 1, 3), PERIOD(12)),\n",
    "        CONSTANT(1), COEFF_STATS(1), FIT_METRICS(1),\n",
    "        RESIDUALS(1), ALGORITHM(CSS_MLE),  FIT_PERCENTAGE(80)\n",
    "    )\n",
    ");"
   ]
  },
  {
   "cell_type": "markdown",
   "id": "1ac9bd6e-071d-406e-a62d-881297a2dc56",
   "metadata": {},
   "source": [
    "<hr>\n",
    "<p style = 'font-size:18px;font-family:Arial;color:#E37C4D'><b>7.2 Extract residuals</b></p>\n",
    "<p style = 'font-size:16px;font-family:Arial'>The TD_EXTRACT_RESULTS function retrieves auxiliary result sets stored in an ART(Analytical Result Table). Here we extract the residuals from the ART of the previous estimation step. Analytical Result Tables have multiple layers that store different data. The default layer has model information. The ARTFITRESIDUALS layer has information about actual, calculated and residual values. The ARTFITMETADATA layer has performance metrics.\n",
    "</p>"
   ]
  },
  {
   "cell_type": "code",
   "execution_count": null,
   "id": "79bb469b-71ab-418b-84a5-c671e1f98b2d",
   "metadata": {},
   "outputs": [],
   "source": [
    "CREATE TABLE AR_RESIDUALS AS (\n",
    "    EXECUTE FUNCTION\n",
    "    TD_EXTRACT_RESULTS(\n",
    "        ART_SPEC(\n",
    "            TABLE_NAME(ART_EST),\n",
    "            LAYER(ARTFITRESIDUALS)\n",
    "        )\n",
    "    )\n",
    ") WITH DATA;"
   ]
  },
  {
   "cell_type": "code",
   "execution_count": null,
   "id": "a0db8f8f-c939-465a-8b17-301f753a8fc4",
   "metadata": {},
   "outputs": [],
   "source": [
    "SELECT TOP 5 * FROM AR_RESIDUALS ORDER BY ROW_I;"
   ]
  },
  {
   "cell_type": "markdown",
   "id": "d21e265f-62de-4e9d-bbef-f2ce5bc9fb00",
   "metadata": {},
   "source": [
    "<p style = 'font-size:16px;font-family:Arial'>The output above shows the ARIMA model's actual value, calculated value, and residual. The Actual value indicates the number of passengers flying. The Calculated value indicates what the model has learned during the estimate phase. The residual value is the difference between the actual and calculated value.\n",
    "<br>\n",
    "<br>\n",
    "In the following cell, we extract additional metrics from the estimate phase i.e. TD_ARIMAESTIMATE.\n",
    "</p>"
   ]
  },
  {
   "cell_type": "code",
   "execution_count": null,
   "id": "b704f004-8743-4a43-941e-473ab434647e",
   "metadata": {},
   "outputs": [],
   "source": [
    "SELECT * FROM (\n",
    "    EXECUTE FUNCTION\n",
    "    TD_EXTRACT_RESULTS(\n",
    "        ART_SPEC(\n",
    "            TABLE_NAME(ART_EST),\n",
    "            LAYER(ARTFITMETADATA)\n",
    "        )\n",
    "    )\n",
    ") AS T;"
   ]
  },
  {
   "cell_type": "markdown",
   "id": "14d4b31a-ab9f-42ec-b3d6-bc08e6f5f16f",
   "metadata": {},
   "source": [
    "<p style = 'font-size:16px;font-family:Arial'>The output shown above shows performance metrics which tell us how well has the ARIMA Model trained. For example, the R_SQUARED value above is 0.99, which suggests that our model fits the data well. The higher the R_SQUARED value, the better the model fits the data. R_SQUARED value ranges from 0 to 1.</p>"
   ]
  },
  {
   "cell_type": "markdown",
   "id": "f735b9eb-57b0-4d2a-9840-8d9f835db289",
   "metadata": {},
   "source": [
    "<hr>\n",
    "<p style = 'font-size:18px;font-family:Arial;color:#E37C4D'><b>7.3 Create table PLOT_ESTIMATE for plotting</b></p>\n",
    "</p>\n",
    "<p style = 'font-size:16px;font-family:Arial'>Here, we'll create a table which will be used to plot the actual and estimated time series.</p>"
   ]
  },
  {
   "cell_type": "code",
   "execution_count": null,
   "id": "107dcdb9-db46-4aed-9570-d9c0dadbcd06",
   "metadata": {},
   "outputs": [],
   "source": [
    "CREATE TABLE PLOT_ESTIMATE (DatasetID VARCHAR(10), ROW_I BIGINT, FIT_MAGNITUDE FLOAT);"
   ]
  },
  {
   "cell_type": "code",
   "execution_count": null,
   "id": "b59f5b4c-d676-4719-b946-99c8c7c94217",
   "metadata": {},
   "outputs": [],
   "source": [
    "INSERT INTO PLOT_ESTIMATE SELECT 'FlyHigh', ROW_I, ACTUAL_VALUE FROM AR_RESIDUALS WHERE ROW_I>1; \n",
    "INSERT INTO PLOT_ESTIMATE SELECT 'ESTIMATED', ROW_I, CALC_VALUE FROM AR_RESIDUALS WHERE ROW_I>1; "
   ]
  },
  {
   "cell_type": "code",
   "execution_count": null,
   "id": "2e7f8787-b8ac-4f32-a717-35e801989d7f",
   "metadata": {},
   "outputs": [],
   "source": [
    "SELECT TOP 5 * FROM PLOT_ESTIMATE ORDER BY ROW_I;"
   ]
  },
  {
   "cell_type": "markdown",
   "id": "e70aaf45-7fb0-41d5-b20f-57f541572835",
   "metadata": {},
   "source": [
    "<p style = 'font-size:16px;font-family:Arial'>The <b>TD_PLOT</b> function will return an image in the cell of the results showing the Actual and Estimated values by the fitted ARIMA model.</p>\n",
    "<i>* Please <b> right click on the cell under the IMAGE column </b> from the output and choose view image to see the plot generated. </i>"
   ]
  },
  {
   "cell_type": "code",
   "execution_count": null,
   "id": "e82c6874-9967-4a6e-821a-e89b2476e343",
   "metadata": {},
   "outputs": [],
   "source": [
    "EXECUTE FUNCTION\n",
    "TD_Plot\n",
    "(\n",
    "    SERIES_SPEC(\n",
    "        TABLE_NAME(PLOT_ESTIMATE),\n",
    "        ROW_AXIS(SEQUENCE(ROW_I)),\n",
    "        SERIES_ID(DataSetID),\n",
    "        ID_SEQUENCE('[{\"DatasetID\":\"FlyHigh\"},{\"DatasetID\":\"ESTIMATED\"}]'),\n",
    "        PAYLOAD(\n",
    "            FIELDS(FIT_MAGNITUDE),\n",
    "            CONTENT(REAL)\n",
    "        )\n",
    "    ),\n",
    "    FUNC_PARAMS\n",
    "    (\n",
    "        WIDTH(1920),\n",
    "        HEIGHT(1080),\n",
    "        TITLE('ARIMA ESTIMATE'),\n",
    "        PLOTS[\n",
    "            (\n",
    "                TITLE ('ORIGINAL and ESTIMATED SERIES'),\n",
    "                GRID(FORMAT('-')),\n",
    "                TYPE('line'),\n",
    "                SERIES[\n",
    "                       (\n",
    "                        ID(1),\n",
    "                        FORMAT('r--')\n",
    "                       ),\n",
    "                       (\n",
    "                        ID(2),\n",
    "                        FORMAT('b-')\n",
    "                       )\n",
    "                     ],\n",
    "                MARKER('o'),\n",
    "                LEGEND('best'),\n",
    "                XLABEL('X SeqNo'),\n",
    "                YLABEL('Y Magnitude')\n",
    "            )\n",
    "        ]\n",
    "    )\n",
    ");"
   ]
  },
  {
   "cell_type": "markdown",
   "id": "79deaf8e-a658-4f7d-bfbe-1aa3a16f85db",
   "metadata": {},
   "source": [
    "<p style = 'font-size:16px;font-family:Arial'>If you followed the instructions above, you should have seen a graph looks like follows:</p>\n",
    "<img id=\"fig4\" src=\"images/fig4.png\" alt=\"ARIMA Estimate\" width=\"400\" />\n",
    "<p style = 'font-size:16px;font-family:Arial'>The red line indicates the actual number of passengers who travelled, and the blue line indicates the estimated number of passengers who travelled. This graph shows how well the ARIMA model has learned on the training dataset.</p>"
   ]
  },
  {
   "cell_type": "markdown",
   "id": "f76671b0-1087-4c79-8cf9-4181d550b586",
   "metadata": {},
   "source": [
    "<hr>\n",
    "<p style = 'font-size:18px;font-family:Arial;color:#E37C4D'><b>7.4 Validation step using TD_ARIMAVALIDATE</b></p>\n",
    "<p style = 'font-size:16px;font-family:Arial'>The TD_ARIMAVALIDATE function provides data scientists with a metrics collection for model selection and the produced residuals, such that several model validation tests can be performed. The TD_ARIMAVALIDATE function performs in-sample forecasting for seasonal and non-seasonal auto-regressive (AR), moving-average (MA), and ARIMA models. It also supports the extended Box Jenkins seasonal ARIMA model formula.\n",
    "</p>\n",
    "<p style = 'font-size:16px;font-family:Arial'>We'll use the output of the previous estimation step to validate the model. The train-validate split here for the dataset is 80:20. Hence 20% of the data will be used to validate the estimated model.</p>"
   ]
  },
  {
   "cell_type": "code",
   "execution_count": null,
   "id": "dd6fd13a-c987-45bf-91f8-ee77adedb317",
   "metadata": {},
   "outputs": [],
   "source": [
    "EXECUTE FUNCTION \n",
    "INTO VOLATILE ART(AR_VALIDATE)\n",
    "TD_ARIMAVALIDATE(\n",
    "    ART_SPEC(TABLE_NAME(ART_EST)),\n",
    "    FUNC_PARAMS(\n",
    "        FIT_METRICS(1),\n",
    "        RESIDUALS(1)\n",
    "    )\n",
    ");"
   ]
  },
  {
   "cell_type": "markdown",
   "id": "c8d850e9-54f5-4e70-8b0f-ba01f37c5db6",
   "metadata": {},
   "source": [
    "<hr>\n",
    "<p style = 'font-size:18px;font-family:Arial;color:#E37C4D'><b>7.5 Extract residuals</b></p>\n",
    "<p style = 'font-size:16px;font-family:Arial'>The TD_EXTRACT_RESULTS function retrieves auxiliary result sets stored in an ART. Here we extract the residuals from the ART table output of the previous validation step.\n",
    "</p>"
   ]
  },
  {
   "cell_type": "code",
   "execution_count": null,
   "id": "026c8c47-63cf-4b16-b2ad-2bb45811c916",
   "metadata": {},
   "outputs": [],
   "source": [
    "CREATE TABLE AR_VALIDATE_RESIDUALS AS (\n",
    "    EXECUTE FUNCTION \n",
    "    TD_EXTRACT_RESULTS(\n",
    "        ART_SPEC(\n",
    "            TABLE_NAME(AR_VALIDATE),\n",
    "            LAYER(ARTFITRESIDUALS)\n",
    "        )\n",
    "    )\n",
    ") WITH DATA;"
   ]
  },
  {
   "cell_type": "code",
   "execution_count": null,
   "id": "5376173c-ac32-436b-b636-1ca0d732dd2d",
   "metadata": {},
   "outputs": [],
   "source": [
    "SELECT TOP 5 * FROM AR_VALIDATE_RESIDUALS ORDER BY ROW_I;"
   ]
  },
  {
   "cell_type": "markdown",
   "id": "54b6690d-575d-4823-a3b8-73034091ba70",
   "metadata": {},
   "source": [
    "<p style = 'font-size:16px;font-family:Arial'>The output above shows the actual value, calculated value and residual of the ARIMA model for the validation phase. The actual value is the number of passengers from the unseen data, i.e. validation data. The calculated value is the predicted value by the ARIMA model on the unseen data.\n",
    "<br>\n",
    "<br>\n",
    "In the following step, we again pull the metadata from the ART, which is the output of the validation phase.\n",
    "</p>"
   ]
  },
  {
   "cell_type": "code",
   "execution_count": null,
   "id": "2e9c5160-7155-4b52-8fcb-6d45af8479fb",
   "metadata": {},
   "outputs": [],
   "source": [
    "SELECT * FROM (\n",
    "    EXECUTE FUNCTION\n",
    "    TD_EXTRACT_RESULTS(\n",
    "        ART_SPEC(\n",
    "            TABLE_NAME(AR_VALIDATE),\n",
    "            LAYER(ARTFITMETADATA)\n",
    "        )\n",
    "    )\n",
    ") AS T;"
   ]
  },
  {
   "cell_type": "markdown",
   "id": "4b6962dd-0973-43e6-822b-117ede851919",
   "metadata": {},
   "source": [
    "<p style = 'font-size:16px;font-family:Arial'>The output above shows the performance metrics for the validation phase. These metrics help us analyse how well our model performs on the unseen dataset, i.e. validation dataset. For example, the R_SQUARED value from the above output is 0.97, which is a good value. The higher the R_SQUARED value, the better the model is. R_SQUARED value ranges from 0 to 1.</p>"
   ]
  },
  {
   "cell_type": "markdown",
   "id": "9ef61eaa-86fc-4fd7-a132-5a0d71367af3",
   "metadata": {},
   "source": [
    "<hr>\n",
    "<p style = 'font-size:18px;font-family:Arial;color:#E37C4D'><b>7.6 Create table PLOT_VALIDATE for plotting</b></p>\n",
    "</p>\n",
    "<p style = 'font-size:16px;font-family:Arial'>Here, we'll create a table which will be used to plot the actual and validated time series.</p>"
   ]
  },
  {
   "cell_type": "code",
   "execution_count": null,
   "id": "b5da71a3-db76-41a8-9049-a2f6c7c543ec",
   "metadata": {},
   "outputs": [],
   "source": [
    "CREATE TABLE PLOT_VALIDATE (DatasetID VARCHAR(10), ROW_I BIGINT, FIT_MAGNITUDE FLOAT);"
   ]
  },
  {
   "cell_type": "code",
   "execution_count": null,
   "id": "a4797a37-353f-4663-b77d-63893782d447",
   "metadata": {},
   "outputs": [],
   "source": [
    "INSERT INTO PLOT_VALIDATE SELECT 'FlyHigh', ROW_I, ACTUAL_VALUE FROM AR_VALIDATE_RESIDUALS WHERE ROW_I>0; \n",
    "INSERT INTO PLOT_VALIDATE SELECT 'PREDICTED', ROW_I, CALC_VALUE FROM AR_VALIDATE_RESIDUALS WHERE ROW_I>0;"
   ]
  },
  {
   "cell_type": "markdown",
   "id": "cf92fa2d-1591-4a68-ba67-1f5378a3542b",
   "metadata": {},
   "source": [
    "<p style = 'font-size:16px;font-family:Arial'>The <b>TD_PLOT</b> function will return an image in the cell of the results showing the Actual and Predicted values by ARIMA model.</p>\n",
    "<i>* Please <b> right click on the cell under the IMAGE column </b> from the output and choose view image to see the plot generated. </i>"
   ]
  },
  {
   "cell_type": "code",
   "execution_count": null,
   "id": "a100d821-488f-4a82-94e9-e44e63146276",
   "metadata": {},
   "outputs": [],
   "source": [
    "EXECUTE FUNCTION\n",
    "TD_Plot\n",
    "(\n",
    "    SERIES_SPEC(\n",
    "        TABLE_NAME(PLOT_VALIDATE),\n",
    "        ROW_AXIS(SEQUENCE(ROW_I)),\n",
    "        SERIES_ID(DataSetID),\n",
    "        ID_SEQUENCE('[{\"DatasetID\":\"FlyHigh\"},{\"DatasetID\":\"PREDICTED\"}]'),\n",
    "        PAYLOAD(\n",
    "            FIELDS(FIT_MAGNITUDE),\n",
    "            CONTENT(REAL)\n",
    "        )\n",
    "    ),\n",
    "    FUNC_PARAMS\n",
    "    (\n",
    "        WIDTH(1920),\n",
    "        HEIGHT(1080),\n",
    "        TITLE('ARIMA VALIDATE'),\n",
    "        PLOTS[\n",
    "            (\n",
    "                TITLE ('ORIGINAL and PREDICTED SERIES'),\n",
    "                GRID(FORMAT('-')),\n",
    "                TYPE('line'),\n",
    "                SERIES[\n",
    "                       (\n",
    "                        ID(1),\n",
    "                        FORMAT('r--')\n",
    "                       ),\n",
    "                       (\n",
    "                        ID(2),\n",
    "                        FORMAT('b-')\n",
    "                       )\n",
    "                     ],\n",
    "                MARKER('o'),\n",
    "                LEGEND('best'),\n",
    "                XLABEL('X SeqNo'),\n",
    "                YLABEL('Y Magnitude')\n",
    "            )\n",
    "        ]\n",
    "    )\n",
    ");"
   ]
  },
  {
   "cell_type": "markdown",
   "id": "d0cf6e6d-78dc-4087-b0e3-45eb502d779b",
   "metadata": {},
   "source": [
    "<p style = 'font-size:16px;font-family:Arial'>If you followed the instructions above, you should have seen a graph that looks like follows:</p>\n",
    "<img id=\"fig5\" src=\"images/fig5.png\" alt=\"ARIMA Validate\" width=\"400\" />\n",
    "<p style = 'font-size:16px;font-family:Arial'>The red line indicates the actual number of passengers who travelled, and the blue line indicates the predicted number of passengers who travelled. This graph shows how well the ARIMA model predicts on the validation data.</p>"
   ]
  },
  {
   "cell_type": "markdown",
   "id": "419883f5-42ae-4443-960e-51b8e166f7b6",
   "metadata": {},
   "source": [
    "<hr>\n",
    "<p style = 'font-size:18px;font-family:Arial;color:#E37C4D'><b>7.7 Forecast step using TD_ARIMAFORECAST</b></p>\n",
    "<p style = 'font-size:16px;font-family:Arial'>The TD_ARIMAFORECAST function is used to forecast a user-defined number of periods based on models fitted from the TD_ARIMAESTIMATE function.</p>\n",
    "<p style = 'font-size:16px;font-family:Arial'>Here in the next cell, we use the estimated and validated model to forecast the number of passengers for the subsequent six periods, i.e. next six months.</p>"
   ]
  },
  {
   "cell_type": "code",
   "execution_count": null,
   "id": "338d3da2-5887-409b-889f-6b7826de67a7",
   "metadata": {},
   "outputs": [],
   "source": [
    "EXECUTE FUNCTION INTO VOLATILE ART(ARMA_FORECAST)\n",
    "TD_ARIMAFORECAST(\n",
    "           ART_SPEC(TABLE_NAME(AR_VALIDATE)),\n",
    "           FUNC_PARAMS(FORECAST_PERIODS(6)));"
   ]
  },
  {
   "cell_type": "code",
   "execution_count": null,
   "id": "78710c3a-c7ea-4f38-9549-b19b6e1c0bea",
   "metadata": {},
   "outputs": [],
   "source": [
    "SELECT * FROM ARMA_FORECAST;"
   ]
  },
  {
   "cell_type": "markdown",
   "id": "ec6373e7-0897-479e-8680-336d99b42b2e",
   "metadata": {},
   "source": [
    "<p style = 'font-size:16px;font-family:Arial'>The above output shows us the forecasted value for the next six months. Observe that we also have forecasted values with 80% and 95% confidence.</p>"
   ]
  },
  {
   "cell_type": "markdown",
   "id": "e121d6ad-7b21-4161-9d8b-bc66082ffc94",
   "metadata": {},
   "source": [
    "<hr>\n",
    "<p style = 'font-size:18px;font-family:Arial;color:#E37C4D'><b>7.8 Create table PLOT_FORECAST for plotting</b></p>\n",
    "<p style = 'font-size:16px;font-family:Arial'>Here, we'll create a table which will be used to plot the forecasted number of passengers in the next 6 months.</p>"
   ]
  },
  {
   "cell_type": "code",
   "execution_count": null,
   "id": "77cb9b96-3467-4eff-b76c-19c34441531a",
   "metadata": {},
   "outputs": [],
   "source": [
    "CREATE TABLE PLOT_FORECAST (DatasetID VARCHAR(16), ROW_I BIGINT, FORECAST_MAGNITUDE FLOAT);"
   ]
  },
  {
   "cell_type": "code",
   "execution_count": null,
   "id": "0e01798c-6f55-4ef1-b6ae-f44f2e0d77fd",
   "metadata": {},
   "outputs": [],
   "source": [
    "INSERT INTO PLOT_FORECAST   SELECT 'FORECASTED', ROW_I, FORECAST_VALUE FROM ARMA_FORECAST; \n",
    "INSERT INTO PLOT_FORECAST   SELECT 'UPPER_BOUND', ROW_I, HI_80 FROM ARMA_FORECAST ; \n",
    "INSERT INTO PLOT_FORECAST   SELECT 'LOWER_BOUND', ROW_I, LO_80 FROM ARMA_FORECAST ; "
   ]
  },
  {
   "cell_type": "code",
   "execution_count": null,
   "id": "d9ffa1cf-5522-44b0-86b4-11e868ba544c",
   "metadata": {},
   "outputs": [],
   "source": [
    "SELECT * FROM PLOT_FORECAST ORDER BY ROW_I;"
   ]
  },
  {
   "cell_type": "markdown",
   "id": "449eeaff-663f-4a25-b2c2-7f7209b762e9",
   "metadata": {},
   "source": [
    "<p style = 'font-size:16px;font-family:Arial'>The <b>TD_PLOT</b> function will return an image in the cell of the results showing the Forecasted values by ARIMA model.</p>\n",
    "<i>* Please <b> right click on the cell under the IMAGE column </b> from the output and choose view image to see the plot generated. </i>"
   ]
  },
  {
   "cell_type": "code",
   "execution_count": null,
   "id": "ed2b1f6e-7eb3-4ea2-9955-65bfe5317812",
   "metadata": {},
   "outputs": [],
   "source": [
    "EXECUTE FUNCTION\n",
    "TD_Plot\n",
    "(\n",
    "    SERIES_SPEC(\n",
    "        TABLE_NAME(PLOT_FORECAST),\n",
    "        ROW_AXIS(SEQUENCE(ROW_I)),\n",
    "        SERIES_ID(DataSetID),\n",
    "        ID_SEQUENCE('[{\"DatasetID\":\"FORECASTED\"},{\"DatasetID\":\"UPPER_BOUND\"},{\"DatasetID\":\"LOWER_BOUND\"}]'),\n",
    "        PAYLOAD(\n",
    "            FIELDS(FORECAST_MAGNITUDE),\n",
    "            CONTENT(REAL)\n",
    "        )\n",
    "    ),\n",
    "    FUNC_PARAMS\n",
    "    (\n",
    "        WIDTH(1920),\n",
    "        HEIGHT(1080),\n",
    "        TITLE('ARIMA FORECAST'),\n",
    "        PLOTS[\n",
    "            (\n",
    "                TITLE ('Forecast'),\n",
    "                GRID(FORMAT('-')),\n",
    "                TYPE('line'),\n",
    "                SERIES[\n",
    "                       (\n",
    "                        ID(1),\n",
    "                        FORMAT('r--')\n",
    "                       ),\n",
    "                       (\n",
    "                        ID(2),\n",
    "                        FORMAT('b-')\n",
    "                       ),\n",
    "                        (\n",
    "                        ID(3),\n",
    "                        FORMAT('b-')\n",
    "                       )\n",
    "                     ],\n",
    "                MARKER('o'),\n",
    "                LEGEND('best'),\n",
    "                XLABEL('X SeqNo'),\n",
    "                YLABEL('Y Magnitude')\n",
    "            )\n",
    "        ]\n",
    "    )\n",
    ");"
   ]
  },
  {
   "cell_type": "markdown",
   "id": "d5e84b78-7e30-4213-b01b-8d1c952fe4f8",
   "metadata": {},
   "source": [
    "<p style = 'font-size:16px;font-family:Arial'>If you followed the instructions above, you should have seen a graph that looks like follows:</p>\n",
    "<img id=\"fig6\" src=\"images/fig6.png\" alt=\"ARIMA Forecast\" width=\"400\" />\n",
    "<p style = 'font-size:16px;font-family:Arial'>The red line is the Forecasted number of passengers for the next six months, and the blue lines are the upper and lower confidence interval with an 80% confidence level.</p>\n",
    "<p style = 'font-size:18px;font-family:Arial;color:#E37C4D'><b>Conclusion:</b></p>\n",
    "<p style = 'font-size:16px;font-family:Arial'>We have trained and validated the ARIMA model on the air passengers dataset, and the results closely match the actual data. The goodness of fit metrics calculated in the estimate and validate phase also resonate with our understanding that the model is well-trained to forecast.</p>"
   ]
  },
  {
   "cell_type": "markdown",
   "id": "85334736-b79a-4aad-8149-d762ae5c522e",
   "metadata": {},
   "source": [
    "<b style = 'font-size:28px;font-family:Arial;color:#E37C4D'>8. Cleanup</b>\n",
    "<p style = 'font-size:18px;font-family:Arial;color:#E37C4D'><b>Work Tables</b></p>\n",
    "<p style = 'font-size:16px;font-family:Arial'>Cleanup work tables to prevent errors next time. This section drops all the tables created during the demonstration.</p>"
   ]
  },
  {
   "cell_type": "code",
   "execution_count": null,
   "id": "2a2212b4-9757-4a40-baa3-9b72b0a8c883",
   "metadata": {},
   "outputs": [],
   "source": [
    "DROP TABLE diff1_air;"
   ]
  },
  {
   "cell_type": "code",
   "execution_count": null,
   "id": "46b6cf68-79fc-44ee-92d6-99dc77e2ad06",
   "metadata": {},
   "outputs": [],
   "source": [
    "DROP TABLE ACFDemo;"
   ]
  },
  {
   "cell_type": "code",
   "execution_count": null,
   "id": "99142a6e-60a8-491e-a740-fcb545d7925d",
   "metadata": {},
   "outputs": [],
   "source": [
    "DROP TABLE PACFDemo;"
   ]
  },
  {
   "cell_type": "code",
   "execution_count": null,
   "id": "5d310c4c-53a0-4a07-b30c-f495346266ef",
   "metadata": {},
   "outputs": [],
   "source": [
    "DROP TABLE ART_EST;"
   ]
  },
  {
   "cell_type": "code",
   "execution_count": null,
   "id": "acb3b90d-5f64-433c-93c6-50c524327b47",
   "metadata": {},
   "outputs": [],
   "source": [
    "DROP TABLE AR_RESIDUALS;"
   ]
  },
  {
   "cell_type": "code",
   "execution_count": null,
   "id": "83d18072-8972-432d-80b0-8be1f46806ef",
   "metadata": {},
   "outputs": [],
   "source": [
    "DROP TABLE PLOT_ESTIMATE;"
   ]
  },
  {
   "cell_type": "code",
   "execution_count": null,
   "id": "d11ad8c1-3c4f-43e4-bee3-189b23a70bdd",
   "metadata": {},
   "outputs": [],
   "source": [
    "DROP TABLE AR_VALIDATE;"
   ]
  },
  {
   "cell_type": "code",
   "execution_count": null,
   "id": "04512118-944c-46b8-bf39-75bc6bf5c356",
   "metadata": {},
   "outputs": [],
   "source": [
    "DROP TABLE AR_VALIDATE_RESIDUALS;"
   ]
  },
  {
   "cell_type": "code",
   "execution_count": null,
   "id": "f8a1b3b3-3251-4492-a184-214973731be9",
   "metadata": {},
   "outputs": [],
   "source": [
    "DROP TABLE PLOT_VALIDATE;"
   ]
  },
  {
   "cell_type": "code",
   "execution_count": null,
   "id": "9da59c07-c3ef-4beb-adb6-a878135422e6",
   "metadata": {},
   "outputs": [],
   "source": [
    "DROP TABLE ARMA_FORECAST;"
   ]
  },
  {
   "cell_type": "code",
   "execution_count": null,
   "id": "abe6cf25-69d4-41ce-be29-09cf2d380cfe",
   "metadata": {},
   "outputs": [],
   "source": [
    "DROP TABLE PLOT_FORECAST;"
   ]
  },
  {
   "cell_type": "markdown",
   "id": "0c3da4fd-4fba-4904-9edb-5672ad528dbc",
   "metadata": {},
   "source": [
    "<p style = 'font-size:18px;font-family:Arial;color:#E37C4D'> <b>Databases and Tables </b></p>\n",
    "<p style = 'font-size:16px;font-family:Arial'>The following code will clean up tables and databases created above.</p>"
   ]
  },
  {
   "cell_type": "code",
   "execution_count": null,
   "id": "7d5a89ac-5a24-41d5-beb8-0147e4797e73",
   "metadata": {},
   "outputs": [],
   "source": [
    "call remove_data('DEMO_AirPassengers');          -- Takes 5 seconds"
   ]
  },
  {
   "cell_type": "markdown",
   "id": "a0890e2d-ec4f-46ab-a358-cbdf3f2ced61",
   "metadata": {},
   "source": [
    "<p style = 'font-size:16px;font-family:Arial;color:#E37C4D'><b>Links:</b></p>\n",
    "<ul style = 'font-size:16px;font-family:Arial'>\n",
    "    <li>UAF(Unbounded Array Framework) Documentation: <a href = 'https://docs.teradata.com/r/Teradata-VantageTM-Unbounded-Array-Framework-Time-Series-Reference/Unbounded-Array-Framework'>https://docs.teradata.com/r/Teradata-VantageTM-Unbounded-Array-Framework-Time-Series-Reference/Unbounded-Array-Framework</a></li>\n",
    "</ul>"
   ]
  },
  {
   "cell_type": "markdown",
   "id": "3790a30a-bb4f-437b-99e6-c4f6af6a41bb",
   "metadata": {},
   "source": [
    "<footer style=\"padding:10px;background:#f9f9f9;border-bottom:3px solid #394851\">Copyright © Teradata Corporation - 2023. All Rights Reserved.</footer>"
   ]
  }
 ],
 "metadata": {
  "kernelspec": {
   "display_name": "Teradata SQL",
   "language": "Teradata SQL",
   "name": "teradatasql"
  },
  "language_info": {
   "codemirror_mode": "Teradata SQL",
   "file_extension": ".tdrs",
   "mimetype": "application/vnd.teradata.resultset",
   "name": "Teradata SQL",
   "nbconvert_exporter": "",
   "pygments_lexer": "",
   "version": "16.20"
  }
 },
 "nbformat": 4,
 "nbformat_minor": 5
}
