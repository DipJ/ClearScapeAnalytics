{
 "cells": [
  {
   "cell_type": "markdown",
   "id": "f0d9dc65",
   "metadata": {},
   "source": [
    "<header style=\"padding:10px;background:#f9f9f9;border-top:3px solid #00b2b1\"><img id=\"Teradata-logo\" src=\"https://www.teradata.com/Teradata/Images/Rebrand/Teradata_logo-two_color.png\" alt=\"Teradata\" width=\"220\" align=\"right\" />\n",
    "\n",
    "<b style = 'font-size:28px;font-family:Arial;color:#E37C4D'>RETAIL: Broken Digital Journeys Demo</b>\n",
    "<hr>\n",
    "<br>\n",
    "\n",
    "<p style = 'font-size:20px;font-family:Arial;color:#E37C4D'><b>Introduction</b></p>    "
   ]
  },
  {
   "cell_type": "markdown",
   "id": "3c0a4921",
   "metadata": {},
   "source": [
    "\n",
    "\n",
    "<p style = 'font-size:16px;font-family:Arial'>This document provides a base demo script for showcasing the capabilities of CX 1-2-3 Broken Digital Journeys through a Jupyter Notebook using teradataml (Teradata Python package) and Plotly.  The target audience for either on-premise customers and/or Data Scientists.</p>\n",
    "\n",
    "\n",
    "<p style = 'font-size:16px;font-family:Arial'>The nPath function scans a set of rows, looking for patterns that you specify. For each set of input rows that matches the pattern, nPath produces a single output row. The function provides a flexible pattern-matching capability that lets you specify complex patterns in the input data and define the values that are output for each matched input set.</p>\n",
    "<p style = 'font-size:16px;font-family:Arial'>nPath is useful when your goal is to identify the paths that lead to an outcome. For example, you can use nPath to analyze:</p>\n",
    "\n",
    "<li style = 'font-size:16px;font-family:Arial'>Web site click data, to identify paths that lead to sales over a specified amount</li>\n",
    "<li style = 'font-size:16px;font-family:Arial'>Sensor data from industrial processes, to identify paths to poor product quality</li>\n",
    "<li style = 'font-size:16px;font-family:Arial'>Healthcare records of individual patients, to identify paths that indicate that patients are at risk of developing conditions such as heart disease or diabetes</li>\n",
    "<li style = 'font-size:16px;font-family:Arial'>Financial data for individuals, to identify paths that provide information about credit or fraud risks</li>\n",
    "<p style = 'font-size:16px;font-family:Arial'>The output from the nPath function can be input to other ML Engine functions or to a visualization tool.</p>\n",
    "<p style = 'font-size:16px;font-family:Arial'>This demo shows how to use Vantage nPath to analyze customer digital behavior, experience, and diagnosis of problems with customer experience and flow. It uses a simulated digital retail data set. Using this data we are conducting path analysis. Specifically, it has examples of looking at the most frequent customer journeys and identifying any common events that could potentially be stopping the customer from making a purchase.</p>"
   ]
  },
  {
   "cell_type": "markdown",
   "id": "e331a3b1-a538-47d2-99e8-7907048c4be5",
   "metadata": {
    "tags": []
   },
   "source": [
    "<p style = 'font-size:20px;font-family:Arial;color:#E37C4D'><b>1. Start by importing the required libraries and connecting to the Vantage system.</b></p>\n"
   ]
  },
  {
   "cell_type": "markdown",
   "id": "8c466b0e-4170-4cfd-b5b4-09c5d2fe0336",
   "metadata": {},
   "source": [
    "<p style = 'font-size:18px;font-family:Arial'>In the section, we import the required libraries and set environment variables and environment paths (if required).</p>"
   ]
  },
  {
   "cell_type": "code",
   "execution_count": null,
   "id": "5f8c3b27",
   "metadata": {},
   "outputs": [],
   "source": [
    "%%capture\n",
    "# RESTART KERNEL AFTER THIS. NO NEED TO EXECUTE THIS AFTER RESTART.\n",
    "!pip install teradataml --upgrade\n",
    "!pip install colorlover"
   ]
  },
  {
   "cell_type": "markdown",
   "id": "a48867ff-e909-4b90-93c0-be99507f3f26",
   "metadata": {},
   "source": [
    "<p style = 'font-size:18px;font-family:Arial'><b>** Restart Kernel before moving to next cell </b></p>\n",
    "<p style = 'font-size:18px;font-family:Arial'>Import the libraries mentioned in the below cell.</p>"
   ]
  },
  {
   "cell_type": "code",
   "execution_count": null,
   "id": "c62896af",
   "metadata": {},
   "outputs": [],
   "source": [
    "import json\n",
    "import getpass\n",
    "import os\n",
    "import warnings\n",
    "import datetime\n",
    "from collections import defaultdict\n",
    "\n",
    "import pandas as pd\n",
    "import numpy as np\n",
    "\n",
    "import teradataml.dataframe.dataframe as tdf\n",
    "from teradataml.dataframe.dataframe import in_schema\n",
    "from teradataml.context.context import create_context, remove_context, get_context\n",
    "from teradataml.dataframe.copy_to import copy_to_sql\n",
    "from teradataml.dataframe.fastload import fastload\n",
    "\n",
    "from teradataml.analytics.sqle.Sessionize import Sessionize\n",
    "from teradataml.analytics.sqle.NPath import NPath\n",
    "from teradataml.dataframe.dataframe import DataFrame\n",
    "\n",
    "from teradatasqlalchemy.types import *\n",
    "\n",
    "from plotly.offline import download_plotlyjs, init_notebook_mode, plot, iplot\n",
    "from collections import defaultdict\n",
    "import plotly.offline as offline\n",
    "import colorlover as cl\n",
    "\n",
    "offline.init_notebook_mode()\n",
    "\n",
    "warnings.filterwarnings('ignore')\n",
    "warnings.simplefilter(action='ignore', category=FutureWarning)\n",
    "warnings.simplefilter(action='ignore', category=DeprecationWarning)"
   ]
  },
  {
   "cell_type": "markdown",
   "id": "6e5f5de5",
   "metadata": {},
   "source": [
    "<p style = 'font-size:16px;font-family:Arial'>You will be prompted to provide the password. Enter your password, press the Enter key, then use down arrow to go to next cell. Begin running steps with Shift + Enter keys.</p> "
   ]
  },
  {
   "cell_type": "code",
   "execution_count": null,
   "id": "6635bd2d",
   "metadata": {},
   "outputs": [],
   "source": [
    "%run -i ../startup.ipynb\n",
    "eng = create_context(host = 'host.docker.internal', username='demo_user', password = password)\n",
    "print(eng)\n",
    "eng.execute('''SET query_band='DEMO=RetailBrokenDigitalJourneysPython.ipynb;' UPDATE FOR SESSION; ''')"
   ]
  },
  {
   "cell_type": "markdown",
   "id": "e87a5959-6275-44f5-9375-c9d500f6efbe",
   "metadata": {},
   "source": [
    "<b style = 'font-size:20px;font-family:Arial;color:#E37C4D'>2. Getting Data for This Demo\n",
    "<p style = 'font-size:16px;font-family:Arial'>We have provided data for this demo on cloud storage.  You have the option of either running the demo using foreign tables to access the data without using any storage on your environment or downloading the data to local storage which may yield somewhat faster execution, but there could be considerations of available storage.  There are two statements in the following cell, and one is commented out.  You may switch which mode you choose by changing the comment string.</p>    \n"
   ]
  },
  {
   "cell_type": "code",
   "execution_count": null,
   "id": "36a378d0-1638-4a89-a9f1-271d0c859e54",
   "metadata": {},
   "outputs": [],
   "source": [
    "#%run -i ../run_procedure.py \"call get_data('DEMO_DigitalEvents_cloud');\"\n",
    "# Takes about 12 seconds\n",
    "%run -i ../run_procedure.py \"call get_data('DEMO_DigitalEvents_local');\"\n",
    "# Takes about 20 seconds"
   ]
  },
  {
   "cell_type": "markdown",
   "id": "0cb2f007-e377-413a-8b8d-0efc7076a6b1",
   "metadata": {},
   "source": [
    "<p style = 'font-size:16px;font-family:Arial'>Next is an optional step – if you want to see status of databases/tables created and space used.</p>"
   ]
  },
  {
   "cell_type": "code",
   "execution_count": null,
   "id": "2d8b46d8-c768-48ae-a6df-7462e7bdd0d9",
   "metadata": {},
   "outputs": [],
   "source": [
    "%run -i ../run_procedure.py \"call space_report();\""
   ]
  },
  {
   "cell_type": "markdown",
   "id": "40d82a1f-73a4-4542-9f58-c8b43d0284eb",
   "metadata": {},
   "source": [
    "<hr>\n",
    "<p style = 'font-size:20px;font-family:Arial;color:#E37C4D'><b>5. Analyze the raw data set</b></p>\n",
    "\n",
    "<p style = 'font-size:16px;font-family:Arial'>Create a DataFrame to get the data from the tablecreated.</p>\n",
    "\n",
    "\n"
   ]
  },
  {
   "cell_type": "code",
   "execution_count": null,
   "id": "899ac9f5",
   "metadata": {},
   "outputs": [],
   "source": [
    "df = tdf.DataFrame(in_schema('DEMO_DigitalEvents', 'Digital_Retail_Events'))\n",
    "df.head(5)"
   ]
  },
  {
   "cell_type": "code",
   "execution_count": null,
   "id": "60421365-653a-4a37-944d-877fb9bad290",
   "metadata": {},
   "outputs": [],
   "source": [
    "from teradataml import ConvertTo\n",
    "converted_data = ConvertTo(data = df,\n",
    "                           target_columns = ['Customer_Id','datestamp', 'event','session_id'],\n",
    "                           target_datatype = [\"integer\",\"timestamp\",\"VARCHAR(charlen=20,charset=LATIN,casespecific=NO)\",\"integer\"])\n",
    "converted_data.result"
   ]
  },
  {
   "cell_type": "markdown",
   "id": "475953be",
   "metadata": {},
   "source": [
    "<hr>\n",
    "<p style = 'font-size:20px;font-family:Arial;color:#E37C4D'><b>6. Identifying Broken Digital Journy </b></p>\n",
    "\n",
    "<p style = 'font-size:18px;font-family:Arial'>This section will walkthrough conducting path analysis using retail data. Specifically, it has examples of looking at the most frequent customer journeys and identifying any common events that could potentially be stopping the customer from making a purchase.</p>"
   ]
  },
  {
   "cell_type": "markdown",
   "id": "1b29b5df",
   "metadata": {},
   "source": [
    "<p style = 'font-size:18px;font-family:Arial;color:#E37C4D'><b>6.1. Sankey Charts</b></p>\n",
    "<p style = 'font-size:16px;font-family:Arial'>Sankey charts can help visualize pathways and volume of events on the  most common paths.  Teradata VantageCloud does have built-in visualizations, but if users don't have access to these capabilities, or perhaps there is a preference to work in Python, the Plotly package provides Sankey charting capabilities.  Below the Python function reads output from nPath as pandas dataframe and plots Sankey chart. This method will be used throughout for plotting Sankey.</p>"
   ]
  },
  {
   "cell_type": "code",
   "execution_count": null,
   "id": "26bdeae2",
   "metadata": {},
   "outputs": [],
   "source": [
    "#Convert Teradata nPath output to plotly Sankey\n",
    "#can handle paths up to 999 links in length\n",
    "import plotly.graph_objects as go\n",
    "def sankeyPlot(res, title_text=\"Basic Sankey Path\"):\n",
    "    npath_pandas = res\n",
    "    \n",
    "    dataDict = defaultdict(int)\n",
    "    eventDict = defaultdict(int)\n",
    "    maxPath = npath_pandas['count_customer_id'].max()\n",
    "    \n",
    "    for index, row in npath_pandas.iterrows():\n",
    "        rowList = row['path'].replace('[','').replace(']','').split(',')\n",
    "        pathCnt = row['count_customer_id']\n",
    "        pathLen = len(rowList)\n",
    "        for i in range(len(rowList)-1):\n",
    "            leftValue = str(100 + i + maxPath - pathLen) + rowList[i].strip()\n",
    "            rightValue = str(100 + i + 1 + maxPath - pathLen) + rowList[i+1].strip()\n",
    "            valuePair = leftValue + '+' + rightValue\n",
    "            dataDict[valuePair] += pathCnt\n",
    "            eventDict[leftValue] += 1\n",
    "            eventDict[rightValue] += 1\n",
    "    \n",
    "    eventList = []\n",
    "    for key,val in eventDict.items():\n",
    "        eventList.append(key)\n",
    "    \n",
    "    sortedEventList = sorted(eventList)\n",
    "    sankeyLabel = []\n",
    "    for event in sortedEventList:\n",
    "        sankeyLabel.append(event[3:])\n",
    "    \n",
    "    sankeySource = []\n",
    "    sankeyTarget = []\n",
    "    sankeyValue = []\n",
    "\n",
    "    for key,val in dataDict.items():\n",
    "        sankeySource.append(sortedEventList.index(key.split('+')[0]))\n",
    "        sankeyTarget.append(sortedEventList.index(key.split('+')[1]))\n",
    "        sankeyValue.append(val)\n",
    "    \n",
    "    sankeyColor = []\n",
    "    for i in sankeyLabel:\n",
    "        sankeyColor.append('blue')\n",
    "    \n",
    "    sankeyChart = dict(\n",
    "        type='sankey',\n",
    "        node = dict(\n",
    "          pad = 15,\n",
    "          thickness = 20,\n",
    "          line = dict(\n",
    "            color = 'black',\n",
    "            width = 0.5\n",
    "          ),\n",
    "          label = sankeyLabel,\n",
    "          color = sankeyColor\n",
    "        ),\n",
    "        link = dict(\n",
    "            source = sankeySource,\n",
    "            target = sankeyTarget,\n",
    "            value = sankeyValue\n",
    "        )\n",
    "      )\n",
    "    layout =  dict(\n",
    "        title = title_text,\n",
    "        font = dict(\n",
    "          size = 10\n",
    "        )\n",
    "    )\n",
    "    \n",
    "    link = dict(source = sankeySource, target = sankeyTarget, value = sankeyValue, color='white')\n",
    "    node = dict(label=sankeyLabel, pad=15, thickness=20, color='orange')\n",
    "    data=go.Sankey(link=link, node=node)\n",
    "    # plot \n",
    "    fig=go.Figure(data)\n",
    "    fig.update_layout(\n",
    "            hovermode ='closest',\n",
    "            title = title_text,\n",
    "            title_font_size=20,\n",
    "            font = dict(size = 10, color = 'white'),\n",
    "            plot_bgcolor='black',\n",
    "            paper_bgcolor=\"#585958\"\n",
    "            )\n",
    "    fig.show()  \n",
    "\n",
    "    \n",
    "    # fig = dict(data=[sankeyChart], layout=layout)\n",
    "    # iplot(fig, validate=False)"
   ]
  },
  {
   "cell_type": "markdown",
   "id": "e30dbb89",
   "metadata": {},
   "source": [
    "<p style = 'font-size:20px;font-family:Arial;color:#E37C4D'><b>6.2 Calling a basic nPath function.</b></p>\n",
    "<li style = 'font-size:16px;font-family:Arial'>The Vantage nPath analytic function scans a set of rows, looking for patterns.</li>\n",
    "<li style = 'font-size:16px;font-family:Arial'>For each set of input rows that matches the pattern, nPath produces a single output row.</li>\n",
    "\n",
    "<p style = 'font-size:16px;font-family:Arial'>This function allows for matching of complex patterns in the input data, as well as defining the output values for each matched set of rows.</p>\n",
    "\n",
    "<p style = 'font-size:16px;font-family:Arial'>For the below example:\n",
    "<p style = 'font-size:16px;font-family:Arial'>1. Pass the input data by reference.</p>\n",
    "<p style = 'font-size:16px;font-family:Arial'>2. Provide partitioning (customer_id, session_id) and ordering columns.\n",
    "<p style = 'font-size:16px;font-family:Arial'>3. Mode.<b>**OVERLAPPING**</b> vs.<b> **NONOVERLAPPING**</b>\n",
    "    <li><b> **OVERLAPPING**</b> finds every occurrence of the match, regardless of the current row being part of a previous match.</li>\n",
    "    <li><b> **NONOVERLAPPING** </b>starts matching again at the row that follows the previous match.</li>\n",
    "<p style = 'font-size:16px;font-family:Arial'>4. Symbols.  Create a set of column expression aliases that can be assembled into a pattern to match.\n",
    " <li>Example: \"EVENT = 'Home Page' as P\" will alias a match on the EVENT column when the content equals 'Home Page'.</li></p>\n",
    "<p style = 'font-size:16px;font-family:Arial'>5. Pattern.  Compose a pattern to search for across the rows of events.  This pattern is composed of Symbols and directives.\n",
    " <li>Example: '^P' uses a directive ^ to indicate the P Symbol must occur at the beginning of the group of rows.</li></p>\n",
    "<p style = 'font-size:16px;font-family:Arial'>6. Result.  Since nPath emits a single row per group-of-row matches, Result indicates what columns make up this row and how to aggregate the data.</p>"
   ]
  },
  {
   "cell_type": "markdown",
   "id": "c8db8bb9",
   "metadata": {},
   "source": [
    "<p style = 'font-size:20px;font-family:Arial;color:#E37C4D'><b>6.3 Path to Sales Conversion</b></p>\n",
    "<p style = 'font-size:16px;font-family:Arial'>Let's start the analyis by taking a look at what a successful path looks like.  This is accomplished by running the Vantage nPath analytic function and specifying the pattern as from Any Event to Sales Conversion.</p>"
   ]
  },
  {
   "cell_type": "code",
   "execution_count": null,
   "id": "bd1921d8-4b34-4806-8d44-1c9819524548",
   "metadata": {},
   "outputs": [],
   "source": [
    "copy_to_sql(converted_data.result, table_name = 'npath_data', schema_name = 'demo_user', \n",
    "            if_exists = 'replace')"
   ]
  },
  {
   "cell_type": "code",
   "execution_count": null,
   "id": "f027e5f0",
   "metadata": {},
   "outputs": [],
   "source": [
    "#Create two symbols and assemble them with directives:\n",
    "# 1. EVENT Column match the string 'Sales Conversion' as B and all other EVENT as O\n",
    "# Pattern directs a range of any row (O) between 1 and 4 times preceding 'Sales Conversion' (B) - O{1,4}.B\n",
    "\n",
    "npath_sessions = NPath(data1 = DataFrame('\"demo_user\".\"npath_data\"'), \n",
    "                      data1_partition_column = ['Customer_Id','session_id'], \n",
    "                      data1_order_column = 'datestamp', \n",
    "                      mode = 'NONOVERLAPPING', \n",
    "                      symbols = ['event in (\\'Sales Conversion\\') as B', 'event not in (\\'Sales Conversion\\') as O'], \n",
    "                      pattern = 'O{1,4}.B', \n",
    "                      result = ['FIRST (customer_id OF O) AS customer_id',\n",
    "                                'ACCUMULATE (event of any(O,B) ) AS path'])\n",
    "\n",
    "npath_sessions.result\\\n",
    "                    .groupby(['path'])\\\n",
    "                    .count()\\\n",
    "                    .sort('count_customer_id',ascending=False)\\\n",
    "                    .to_pandas()\\\n",
    "                    .head(10)"
   ]
  },
  {
   "cell_type": "markdown",
   "id": "238a10cb",
   "metadata": {},
   "source": [
    "<p style = 'font-size:18px;font-family:Arial;color:#E37C4D'><b>Path to Sales Conversion Visualization</b></p>\n",
    "<p style = 'font-size:16px;font-family:Arial'>In the table view you can see that the most common last step before Sales Conversion is Add to Cart.  Visualizing the paths on a Sankey diagram is an effective way to see common digital customer journey patterns.</p>"
   ]
  },
  {
   "cell_type": "code",
   "execution_count": null,
   "id": "c5a9e174",
   "metadata": {},
   "outputs": [],
   "source": [
    "#warnings.simplefilter(action='ignore', category=DeprecationWarning)\n",
    "res = npath_sessions.result\\\n",
    "                    .groupby(['path'])\\\n",
    "                    .count()\\\n",
    "                    .sort('count_customer_id',ascending=False)\\\n",
    "                    .head(50)\\\n",
    "                    .to_pandas()\n",
    "sankeyPlot(res,\"Path to Sales Conversion\")"
   ]
  },
  {
   "cell_type": "markdown",
   "id": "2fafa76e",
   "metadata": {},
   "source": [
    "<p style = 'font-size:16px;font-family:Arial'>The TOP 3 events that led to Sales Conversion are <b>Add To Cart</b> ,<b>Product Search</b> and <b>Availability Status.</b></p>\n",
    "\n",
    "<p style = 'font-size:16px;font-family:Arial'>To check the details of any<b> path</b> or <b> node </b>we can move the mouse pointer over it and check details. For example if you mouse the pointer over the parth wihich is having the largest width going towards the right most node(Sales Conversion) it shows <b> 55.0, source:Add To Cart, target: Sales Conversion</b>. It means there were 55 events where after adding the product Cart the next step was that the product was bought, which led to Sales.</p>\n",
    "<p style = 'font-size:16px;font-family:Arial'>When the pointer is moved over a Node, for example when the pointer is on the last Node at the right <b>Availability Status</b> it shows <b>incoming flow count: 4</b> and <b>outgoing flow count: 1</b> which means that there are 4 different events which lead to <b>Availability Status</b> after which the next event is <b>Sales Conversion</b>.\n",
    "\n",
    "<p style = 'font-size:20px;font-family:Arial;color:#E37C4D'><b>6.4 Path to Cart Abandoned</b></p>\n",
    "<p style = 'font-size:16px;font-family:Arial'>The data available tracks customers who abandon their carts, change the Ending Pattern and see if you can learn anything from the common paths to the Cart Abandoned event.</p>"
   ]
  },
  {
   "cell_type": "code",
   "execution_count": null,
   "id": "472383e2",
   "metadata": {},
   "outputs": [],
   "source": [
    "#Create two symbols and assemble them with directives:\n",
    "# 1. EVENT Column match the string 'Cart Abandoned' as B and all other EVENT as O\n",
    "# Pattern directs a range of any row (O) between 1 and 4 times preceding 'Cart Abandoned' (B) - O{1,4}.B\n",
    "\n",
    "npath_sessions = NPath(data1 = DataFrame('\"demo_user\".\"npath_data\"'), \n",
    "                      data1_partition_column = ['Customer_Id','session_id'], \n",
    "                      data1_order_column = 'datestamp', \n",
    "                      mode = 'NONOVERLAPPING', \n",
    "                      symbols = ['event in (\\'Cart Abandoned\\') as B', 'event not in (\\'Cart Abandoned\\') as O'], \n",
    "                      pattern = 'O{1,4}.B', \n",
    "                      result = ['FIRST (customer_id OF O) AS customer_id',\n",
    "                                'ACCUMULATE (event of any(O,B) ) AS path'])\n",
    "\n",
    "npath_sessions.result\\\n",
    "                    .groupby(['path'])\\\n",
    "                    .count()\\\n",
    "                    .sort('count_customer_id',ascending=False)\\\n",
    "                    .to_pandas()\\\n",
    "                    .head(10)"
   ]
  },
  {
   "cell_type": "code",
   "execution_count": null,
   "id": "5c1589c9",
   "metadata": {},
   "outputs": [],
   "source": [
    "res = npath_sessions.result\\\n",
    "                    .groupby(['path'])\\\n",
    "                    .count()\\\n",
    "                    .sort('count_customer_id',ascending=False)\\\n",
    "                    .head(50)\\\n",
    "                    .to_pandas()\n",
    "sankeyPlot(res,\"Path to Cart Abandoned\")"
   ]
  },
  {
   "cell_type": "markdown",
   "id": "4166e196",
   "metadata": {},
   "source": [
    "<p style = 'font-size:16px;font-family:Arial'>The Cart was abondened by most of the customers of the <b>Search Not Found</b> event occurred.</p>\n",
    "<p style = 'font-size:20px;font-family:Arial;color:#E37C4D'><b>6.5 Path to Search Not Found</b></p>\n",
    "<p style = 'font-size:16px;font-family:Arial'>As you can see from the common paths to Cart Abandoned - Search Not Found is experienced by many customers.  Explore this further by changing the ending pattern to Search Not Found.</p>"
   ]
  },
  {
   "cell_type": "code",
   "execution_count": null,
   "id": "1708f6d4",
   "metadata": {},
   "outputs": [],
   "source": [
    "#Create two symbols and assemble them with directives:\n",
    "# 1. EVENT Column match the string 'Search Not Found' as B and all other EVENT as O\n",
    "# Pattern directs a range of any row (O) between 1 and 4 times preceding 'Search Not Found' (B) - O{1,4}.B\n",
    "\n",
    "npath_sessions = NPath(data1 = DataFrame('\"demo_user\".\"npath_data\"'), \n",
    "                      data1_partition_column = ['Customer_Id','session_id'], \n",
    "                      data1_order_column = 'datestamp', \n",
    "                      mode = 'NONOVERLAPPING', \n",
    "                      symbols = ['event in (\\'Search Not Found\\') as B', 'event not in (\\'Search Not Found\\') as O'], \n",
    "                      pattern = 'O{1,4}.B', \n",
    "                      result = ['FIRST (customer_id OF O) AS customer_id',\n",
    "                                'ACCUMULATE (event of any(O,B) ) AS path'])\n",
    "\n",
    "npath_sessions.result\\\n",
    "                    .groupby(['path'])\\\n",
    "                    .count()\\\n",
    "                    .sort('count_customer_id',ascending=False)\\\n",
    "                    .to_pandas()\\\n",
    "                    .head(10)"
   ]
  },
  {
   "cell_type": "code",
   "execution_count": null,
   "id": "c9502be4",
   "metadata": {},
   "outputs": [],
   "source": [
    "res = npath_sessions.result\\\n",
    "                    .groupby(['path'])\\\n",
    "                    .count()\\\n",
    "                    .sort('count_customer_id',ascending=False)\\\n",
    "                    .head(50)\\\n",
    "                    .to_pandas()\n",
    "\n",
    "sankeyPlot(res,\"Path to Search Not Found\")"
   ]
  },
  {
   "cell_type": "markdown",
   "id": "ea5b68f9",
   "metadata": {},
   "source": [
    "<p style = 'font-size:16px;font-family:Arial'>The <b>Search Not Found</b> event occurred mainly after <b>Product Search</b> from the Home Page.</p>\n",
    "<p style = 'font-size:20px;font-family:Arial;color:#E37C4D'><b>6.6 Path From Search Not Found</b></p>\n",
    "<p style = 'font-size:16px;font-family:Arial'>With a significant number of paths leading to Search Not found, as well as the number of customers on these paths, we need to explore more on this.</p>\n",
    "<p style = 'font-size:16px;font-family:Arial'>\n",
    "Now change to swap have 'Search Not Found' as the starting event and see where customers go to after this key event</p>"
   ]
  },
  {
   "cell_type": "code",
   "execution_count": null,
   "id": "a2c20d85",
   "metadata": {},
   "outputs": [],
   "source": [
    "#Create two symbols and assemble them with directives:\n",
    "# 1. EVENT Column match the string 'Search Not Found' as A and all other EVENT as O\n",
    "# Pattern directs a range of any row (O) between 1 and 4 times succeeding 'Search Not Found' (A) - A.O{1,4}\n",
    "\n",
    "npath_sessions = NPath(data1 = DataFrame('\"demo_user\".\"npath_data\"'), \n",
    "                      data1_partition_column = ['Customer_Id','session_id'], \n",
    "                      data1_order_column = 'datestamp', \n",
    "                      mode = 'NONOVERLAPPING', \n",
    "                      symbols = ['event in (\\'Search Not Found\\') as A', 'true as O'], \n",
    "                      pattern = 'A.O{1,4}', \n",
    "                      result = ['FIRST (customer_id OF O) AS customer_id',\n",
    "                                'ACCUMULATE (event of any(A,O) ) AS path'])\n",
    "\n",
    "npath_sessions.result\\\n",
    "                    .groupby(['path'])\\\n",
    "                    .count()\\\n",
    "                    .sort('count_customer_id',ascending=False)\\\n",
    "                    .to_pandas()\\\n",
    "                    .head(10)"
   ]
  },
  {
   "cell_type": "code",
   "execution_count": null,
   "id": "b974ea9d",
   "metadata": {},
   "outputs": [],
   "source": [
    "res = npath_sessions.result\\\n",
    "                    .groupby(['path'])\\\n",
    "                    .count()\\\n",
    "                    .sort('count_customer_id',ascending=False)\\\n",
    "                    .head(50)\\\n",
    "                    .to_pandas()\n",
    "\n",
    "sankeyPlot(res,\"Path From Search Not Found\")"
   ]
  },
  {
   "cell_type": "markdown",
   "id": "5f1d0fdf",
   "metadata": {},
   "source": [
    "<p style = 'font-size:16px;font-family:Arial'>The events that were followed by <b>Search Not Found</b> were mainly <b>Cart Abondoned</b> and <b>Availability Status</b>.</p>\n",
    "<p style = 'font-size:20px;font-family:Arial;color:#E37C4D'><b>6.7 Storing Customers on a Path</b></p>\n",
    "<p style = 'font-size:16px;font-family:Arial'>With the above analysis, it can now be confirmed that there is definitely an issue with unsuccessful searches. From here business actions could be taken such as:</p>\n",
    "\n",
    "<li style = 'font-size:16px;font-family:Arial'>Raising a defect for our Website Development team to focus on and with the data supporting this, it should be a high priority!</li>\n",
    "<li style = 'font-size:16px;font-family:Arial'>Save a list of the customers on the dominant path so that additional analysis could be preformed and/or so that the Customer Care team can proactively reach out to the customers.</li>\n",
    "\n",
    "<p style = 'font-size:16px;font-family:Arial'>The next section will demonstrate how to save a list of customers on any path of interest.</p>"
   ]
  },
  {
   "cell_type": "code",
   "execution_count": null,
   "id": "0856812c",
   "metadata": {},
   "outputs": [],
   "source": [
    "#Create symbols for each event in our desired path and assemble them with directives:\n",
    "# 1. EVENT Column match the string 'Cart Abandoned' as A\n",
    "# 2. EVENT Column match the string 'Search Not Found' as B\n",
    "# 3. EVENT Column match the string 'Product Search' as C\n",
    "# 4. EVENT Column match the string 'Home Page' as D\n",
    "# 5. EVENT Column match the string 'Search Not Found' as E\n",
    "# Pattern directs events in a particular order which in this case is E.D.C.B.A\n",
    "\n",
    "npath_sessions = NPath(data1 = DataFrame('\"demo_user\".\"npath_data\"'), \n",
    "                      data1_partition_column = ['Customer_Id','session_id'], \n",
    "                      data1_order_column = 'datestamp', \n",
    "                      mode = 'NONOVERLAPPING', \n",
    "                      symbols = ['event = \\'Search Not Found\\' as E', \n",
    "                                 'event = \\'Home Page\\' as D', \n",
    "                                 'event = \\'Product Search\\' as C', \n",
    "                                 'event = \\'Search Not Found\\' as B', \n",
    "                                 'event = \\'Cart Abandoned\\' as A'], \n",
    "                      pattern = 'E.D.C.B.A', \n",
    "                      result = ['FIRST (customer_id of ANY (E,D,C,B,A)) AS customer_id',\n",
    "                                'ACCUMULATE (event of ANY (E,D,C,B,A)) AS path'])\n",
    "\n",
    "npath_sessions.result.head()"
   ]
  },
  {
   "cell_type": "code",
   "execution_count": null,
   "id": "43309fff",
   "metadata": {},
   "outputs": [],
   "source": [
    "# Now we will take the list of distinct customers who have taken this path and \n",
    "# store it in Vantage table for detailed analysis\n",
    "\n",
    "res = npath_sessions.result\\\n",
    "              .groupby(['customer_id','path'])\\\n",
    "              .count()\\\n",
    "              .sort('count_path',ascending=False)\\\n",
    "              .to_pandas()\\\n",
    "              .reset_index()\n",
    "\n",
    "# Writing clean_input dataframe into MEDIQAN_TEMP_INPUT_TABLE table in Vantage\n",
    "copy_to_sql(df = res[['customer_id','path']], \n",
    "            table_name = 'CustomersOnPath', \n",
    "            #schema_name = 'target_db', # Uncomment & specify if not using the Vantage Live Default Database, which usually is your QLID.\n",
    "            if_exists=\"replace\")\n"
   ]
  },
  {
   "cell_type": "code",
   "execution_count": null,
   "id": "8c012656",
   "metadata": {},
   "outputs": [],
   "source": [
    "result_df = tdf.DataFrame('CustomersOnPath')\n",
    "print(\"Number of records in CustomersOnPath : \"+str(result_df.shape[0]))\n",
    "print(\"\\n\")\n",
    "print(\"Sample records: \\n\")\n",
    "result_df.head(5)"
   ]
  },
  {
   "cell_type": "markdown",
   "id": "5f1ef772",
   "metadata": {},
   "source": [
    "\n",
    "<p style = 'font-size:16px;font-family:Arial'>\n",
    "The table contains both the customer (Customer_id) and Path (the dominant path selected)</p>\n",
    "    \n",
    "<p style = 'font-size:16px;font-family:Arial'>This saved segment can be used as input for further analysis, such as clustering to see if there are any commonalities across the customers, products searched or potentially as input into a customer care process to reach out to the customers to acknowledge their bad experience with our online store.</p>"
   ]
  },
  {
   "cell_type": "markdown",
   "id": "4e141ce5-8dfb-4717-905d-421c1db0adc5",
   "metadata": {},
   "source": [
    "<hr>\n",
    "<p style = 'font-size:20px;font-family:Arial;color:#E37C4D'><b>10. Cleanup</b></p>\n",
    "<p style = 'font-size:18px;font-family:Arial;color:#E37C4D'><b>Work Tables</b></p>"
   ]
  },
  {
   "cell_type": "code",
   "execution_count": null,
   "id": "58a269fe-9bfb-4e59-865b-48e4606fb8b8",
   "metadata": {},
   "outputs": [],
   "source": [
    "eng.execute('DROP TABLE CustomersOnPath;')"
   ]
  },
  {
   "cell_type": "code",
   "execution_count": null,
   "id": "bf1c4d52-cd59-427d-8c6a-8a70c4d017d8",
   "metadata": {},
   "outputs": [],
   "source": [
    "eng.execute('DROP TABLE npath_data;')"
   ]
  },
  {
   "cell_type": "markdown",
   "id": "f9df0ec3-7dd3-4dc6-8f8b-24c49c18237b",
   "metadata": {},
   "source": [
    "<p style = 'font-size:18px;font-family:Arial;color:#E37C4D'><b>Databases and Tables</b></p>\n",
    "<p style = 'font-size:16px;font-family:Arial'>The following code will clean up tables and databases created above.</p>"
   ]
  },
  {
   "cell_type": "code",
   "execution_count": null,
   "id": "8cb501be-8002-4001-b284-dec6695677df",
   "metadata": {},
   "outputs": [],
   "source": [
    "%run -i ../run_procedure.py \"call remove_data('DEMO_DigitalEvents');\" \n",
    "#Takes 3 seconds"
   ]
  },
  {
   "cell_type": "code",
   "execution_count": null,
   "id": "d7d8bb2b",
   "metadata": {},
   "outputs": [],
   "source": [
    "# Removing the connection and clearing session\n",
    "remove_context()"
   ]
  },
  {
   "cell_type": "markdown",
   "id": "84857663",
   "metadata": {},
   "source": [
    "<hr>\n",
    "<b style = 'font-size:20px;font-family:Arial;color:#E37C4D'>Conclusion</b>\n",
    "\n",
    "<p style = 'font-size:16px;font-family:Arial'>As you can see from this brief demonstration, the Vantage nPath Analytic function is an effective way to conduct path analysis, such as the one we just viewed.   Path analysis can span multiple topics and crosses industries.</p> \n",
    "\n",
    "<ul style = 'font-size:16px;font-family:Arial'><b>Examples include:</b>\n",
    "    <li>Customer paths to complaints</li>\n",
    "<li>Paths to part failure</li>\n",
    "<li>Paths to Disease</li>\n",
    "<li>Path to Churn</li>\n",
    "</ul>"
   ]
  },
  {
   "cell_type": "markdown",
   "id": "d8337cf0-53c6-435f-803f-5e47096f53b6",
   "metadata": {},
   "source": [
    "<p style = 'font-size:20px;font-family:Arial;color:#E37C4D'><b>Links</b>\n",
    "<li><a href = 'https://docs.teradata.com/reader/eteIDCTX4O4IMvazRMypxQ/uDjppX7PJInABCckgu~KFg'>Teradata Python Package User Guide </a> </li>\n",
    "<li><a href = 'https://docs.teradata.com/reader/GsM0pYRZl5Plqjdf9ixmdA/MzdO1q_t80M47qY5lyImOA'>Teradataml Python Reference </a></li>\n",
    "<li><a href = 'https://docs.teradata.com/reader/CWVY0AJy8wyyf7Sm0EsK~w/wjkE42ypEfeMkRFOIqVXfQ'>Teradata nPath Function Reference:</a></li>\n",
    "<li><a href = 'https://docs.teradata.com/reader/CWVY0AJy8wyyf7Sm0EsK~w/RNbOiUg9~r~cxSZHrR~sFQ'>Teradata Sessionize Function Reference</a></li>\n",
    "<li><a href = 'https://pandas.pydata.org/docs/user_guide/index.html'>Python Pandas Reference</a></li>\n",
    "<li><a href = 'https://plotly.com/'>Plotly Reference</a></li>\n",
    "</p>    "
   ]
  },
  {
   "cell_type": "markdown",
   "id": "aec97ac5-0396-41a6-a9e7-9ec9b235ebf8",
   "metadata": {},
   "source": [
    "<footer style=\"padding:10px;background:#f9f9f9;border-bottom:3px solid #394851\">Copyright © Teradata Corporation - 2023. All Rights Reserved.</footer>"
   ]
  }
 ],
 "metadata": {
  "kernelspec": {
   "display_name": "Python 3 (ipykernel)",
   "language": "python",
   "name": "python3"
  },
  "language_info": {
   "codemirror_mode": {
    "name": "ipython",
    "version": 3
   },
   "file_extension": ".py",
   "mimetype": "text/x-python",
   "name": "python",
   "nbconvert_exporter": "python",
   "pygments_lexer": "ipython3",
   "version": "3.9.10"
  }
 },
 "nbformat": 4,
 "nbformat_minor": 5
}
