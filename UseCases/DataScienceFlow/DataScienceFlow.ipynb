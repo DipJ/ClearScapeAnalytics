{
 "cells": [
  {
   "cell_type": "markdown",
   "metadata": {},
   "source": [
    "<header style=\"padding:10px;background:#f9f9f9;border-top:3px solid #00b2b1\"><img id=\"Teradata-logo\" src=\"https://www.teradata.com/Teradata/Images/Rebrand/Teradata_logo-two_color.png\" alt=\"Teradata\" width=\"220\" align=\"right\" />\n",
    "\n",
    "## Data Science Flow 101\n",
    "</header>\n",
    "\n",
    "<h3>Introduction</h3>\n",
    "In this Jupyter Notebook, we will walk you through the standard flow of Data Science using the CRISP-DM standard (Cross-Industry Standard Process for Data Mining):\n",
    "\n",
    "<img src=\"https://upload.wikimedia.org/wikipedia/commons/thumb/b/b9/CRISP-DM_Process_Diagram.png/800px-CRISP-DM_Process_Diagram.png\"  alt=\"CRISP-DM\" style=\"width: 300px;\"/>\n",
    "\n",
    "You can find more information on <a href=\"https://en.wikipedia.org/wiki/Cross-industry_standard_process_for_data_mining\">Wikipedia</a> about this framework."
   ]
  },
  {
   "cell_type": "markdown",
   "metadata": {},
   "source": [
    "### 1. Business Understanding\n",
    "The first step in CRISP-DM is the Business Understanding. Here, we want to better understand the impact of COVID-19 in Italy. To be precise, we would like to understand the maximum number of new daily cases that we will have in Italy. \n",
    "\n",
    "To forecast the number of cases, we will use the framework of Diffusion of Innovations where the number of people purchasing a new product (e.g. iPhone 11) or contracting a virus such as COVID-19 is proportional to the number of people who already have it (product or virus) and to the number of people left (word of mouth, comunity spreading) as well as extragenous factor which will be proportional to the number of people left.\n",
    "\n",
    "(New People) = (some parameter) * (Number of People who already have it) * (Number of People left who don't have it) + (some other parameter) * (Number of People left who don't have it) \n",
    "\n",
    "dN = a * N * (NMAX - N) + b * (NMAX - N)\n",
    "\n",
    "with dN = New People (new cases), N = Total People with it (cumulative cases), NMAX = Total people in the market who could have it, and a & b  some parameters that we need to model.\n",
    "\n",
    "Transforming this function and you get a basic 2nd order polynomial, i.e. f(X) = A + B * x + C * x^2 with x = N"
   ]
  },
  {
   "cell_type": "markdown",
   "metadata": {},
   "source": [
    "### 2. Data Understanding\n",
    "There are many sources of data. Here, we will use the data from the European Centre for Disease Prevention and Control at https://www.ecdc.europa.eu/en/publications-data/download-todays-data-geographic-distribution-covid-19-cases-worldwide.\n",
    "\n",
    "The current data in Excel is located at https://www.ecdc.europa.eu/sites/default/files/documents/COVID-19-geographic-disbtribution-worldwide-2020-03-10.xls. \n",
    "\n",
    "We start by reading this remote data into a Pandas dataframe:"
   ]
  },
  {
   "cell_type": "code",
   "execution_count": 1,
   "metadata": {},
   "outputs": [],
   "source": [
    "import pandas as pd\n",
    "import warnings\n",
    "warnings.filterwarnings(\"ignore\")\n"
   ]
  },
  {
   "cell_type": "code",
   "execution_count": 2,
   "metadata": {},
   "outputs": [],
   "source": [
    "df = pd.read_excel(\"https://www.ecdc.europa.eu/sites/default/files/documents/COVID-19-geographic-disbtribution-worldwide-2020-03-10.xls\")"
   ]
  },
  {
   "cell_type": "markdown",
   "metadata": {},
   "source": [
    "Then we explore the data to better understand it. What is inside the dataframe?"
   ]
  },
  {
   "cell_type": "code",
   "execution_count": 3,
   "metadata": {},
   "outputs": [
    {
     "data": {
      "text/html": [
       "<div>\n",
       "<style scoped>\n",
       "    .dataframe tbody tr th:only-of-type {\n",
       "        vertical-align: middle;\n",
       "    }\n",
       "\n",
       "    .dataframe tbody tr th {\n",
       "        vertical-align: top;\n",
       "    }\n",
       "\n",
       "    .dataframe thead th {\n",
       "        text-align: right;\n",
       "    }\n",
       "</style>\n",
       "<table border=\"1\" class=\"dataframe\">\n",
       "  <thead>\n",
       "    <tr style=\"text-align: right;\">\n",
       "      <th></th>\n",
       "      <th>DateRep</th>\n",
       "      <th>CountryExp</th>\n",
       "      <th>NewConfCases</th>\n",
       "      <th>NewDeaths</th>\n",
       "      <th>GeoId</th>\n",
       "      <th>EU</th>\n",
       "    </tr>\n",
       "  </thead>\n",
       "  <tbody>\n",
       "    <tr>\n",
       "      <th>0</th>\n",
       "      <td>2020-03-08</td>\n",
       "      <td>Afghanistan</td>\n",
       "      <td>3</td>\n",
       "      <td>0</td>\n",
       "      <td>AF</td>\n",
       "      <td>Non-EU/EEA</td>\n",
       "    </tr>\n",
       "    <tr>\n",
       "      <th>1</th>\n",
       "      <td>2020-03-02</td>\n",
       "      <td>Afghanistan</td>\n",
       "      <td>0</td>\n",
       "      <td>0</td>\n",
       "      <td>AF</td>\n",
       "      <td>Non-EU/EEA</td>\n",
       "    </tr>\n",
       "    <tr>\n",
       "      <th>2</th>\n",
       "      <td>2020-03-01</td>\n",
       "      <td>Afghanistan</td>\n",
       "      <td>0</td>\n",
       "      <td>0</td>\n",
       "      <td>AF</td>\n",
       "      <td>Non-EU/EEA</td>\n",
       "    </tr>\n",
       "    <tr>\n",
       "      <th>3</th>\n",
       "      <td>2020-02-29</td>\n",
       "      <td>Afghanistan</td>\n",
       "      <td>0</td>\n",
       "      <td>0</td>\n",
       "      <td>AF</td>\n",
       "      <td>Non-EU/EEA</td>\n",
       "    </tr>\n",
       "    <tr>\n",
       "      <th>4</th>\n",
       "      <td>2020-02-28</td>\n",
       "      <td>Afghanistan</td>\n",
       "      <td>0</td>\n",
       "      <td>0</td>\n",
       "      <td>AF</td>\n",
       "      <td>Non-EU/EEA</td>\n",
       "    </tr>\n",
       "    <tr>\n",
       "      <th>...</th>\n",
       "      <td>...</td>\n",
       "      <td>...</td>\n",
       "      <td>...</td>\n",
       "      <td>...</td>\n",
       "      <td>...</td>\n",
       "      <td>...</td>\n",
       "    </tr>\n",
       "    <tr>\n",
       "      <th>4647</th>\n",
       "      <td>2020-01-04</td>\n",
       "      <td>Vietnam</td>\n",
       "      <td>0</td>\n",
       "      <td>0</td>\n",
       "      <td>VN</td>\n",
       "      <td>Non-EU/EEA</td>\n",
       "    </tr>\n",
       "    <tr>\n",
       "      <th>4648</th>\n",
       "      <td>2020-01-03</td>\n",
       "      <td>Vietnam</td>\n",
       "      <td>0</td>\n",
       "      <td>0</td>\n",
       "      <td>VN</td>\n",
       "      <td>Non-EU/EEA</td>\n",
       "    </tr>\n",
       "    <tr>\n",
       "      <th>4649</th>\n",
       "      <td>2020-01-02</td>\n",
       "      <td>Vietnam</td>\n",
       "      <td>0</td>\n",
       "      <td>0</td>\n",
       "      <td>VN</td>\n",
       "      <td>Non-EU/EEA</td>\n",
       "    </tr>\n",
       "    <tr>\n",
       "      <th>4650</th>\n",
       "      <td>2020-01-01</td>\n",
       "      <td>Vietnam</td>\n",
       "      <td>0</td>\n",
       "      <td>0</td>\n",
       "      <td>VN</td>\n",
       "      <td>Non-EU/EEA</td>\n",
       "    </tr>\n",
       "    <tr>\n",
       "      <th>4651</th>\n",
       "      <td>2019-12-31</td>\n",
       "      <td>Vietnam</td>\n",
       "      <td>0</td>\n",
       "      <td>0</td>\n",
       "      <td>VN</td>\n",
       "      <td>Non-EU/EEA</td>\n",
       "    </tr>\n",
       "  </tbody>\n",
       "</table>\n",
       "<p>4652 rows × 6 columns</p>\n",
       "</div>"
      ],
      "text/plain": [
       "        DateRep   CountryExp  NewConfCases  NewDeaths GeoId          EU\n",
       "0    2020-03-08  Afghanistan             3          0    AF  Non-EU/EEA\n",
       "1    2020-03-02  Afghanistan             0          0    AF  Non-EU/EEA\n",
       "2    2020-03-01  Afghanistan             0          0    AF  Non-EU/EEA\n",
       "3    2020-02-29  Afghanistan             0          0    AF  Non-EU/EEA\n",
       "4    2020-02-28  Afghanistan             0          0    AF  Non-EU/EEA\n",
       "...         ...          ...           ...        ...   ...         ...\n",
       "4647 2020-01-04      Vietnam             0          0    VN  Non-EU/EEA\n",
       "4648 2020-01-03      Vietnam             0          0    VN  Non-EU/EEA\n",
       "4649 2020-01-02      Vietnam             0          0    VN  Non-EU/EEA\n",
       "4650 2020-01-01      Vietnam             0          0    VN  Non-EU/EEA\n",
       "4651 2019-12-31      Vietnam             0          0    VN  Non-EU/EEA\n",
       "\n",
       "[4652 rows x 6 columns]"
      ]
     },
     "execution_count": 3,
     "metadata": {},
     "output_type": "execute_result"
    }
   ],
   "source": [
    "df"
   ]
  },
  {
   "cell_type": "markdown",
   "metadata": {},
   "source": [
    "From this, we can guess/infer the following:\n",
    "\n",
    "* DateRep is the date of the reported values\n",
    "* CountryExp is the country \n",
    "* NewConfCases is the number of new cases for that day in that country\n",
    "* NewDeaths is the number of new deaths for that day in that country\n",
    "* GeoId and EU are metadata information related to the country"
   ]
  },
  {
   "cell_type": "markdown",
   "metadata": {},
   "source": [
    "### 3. Data Preparation\n",
    "Now that we understand what each columns and column's values mean, we can manipulate the dataframe to get\n",
    "the analytics dataset that we will use for the modeling"
   ]
  },
  {
   "cell_type": "markdown",
   "metadata": {},
   "source": [
    "Let's filter down to Italy. First we create a list of boolean to check if the row is for Italy:"
   ]
  },
  {
   "cell_type": "code",
   "execution_count": 4,
   "metadata": {},
   "outputs": [
    {
     "data": {
      "text/plain": [
       "0       False\n",
       "1       False\n",
       "2       False\n",
       "3       False\n",
       "4       False\n",
       "        ...  \n",
       "4647    False\n",
       "4648    False\n",
       "4649    False\n",
       "4650    False\n",
       "4651    False\n",
       "Name: CountryExp, Length: 4652, dtype: bool"
      ]
     },
     "execution_count": 4,
     "metadata": {},
     "output_type": "execute_result"
    }
   ],
   "source": [
    "df['CountryExp']=='Italy'"
   ]
  },
  {
   "cell_type": "markdown",
   "metadata": {},
   "source": [
    "Then we apply this list to the current dataframe:"
   ]
  },
  {
   "cell_type": "code",
   "execution_count": 5,
   "metadata": {},
   "outputs": [],
   "source": [
    "df = df[df['CountryExp']=='Italy']"
   ]
  },
  {
   "cell_type": "code",
   "execution_count": 6,
   "metadata": {},
   "outputs": [
    {
     "data": {
      "text/html": [
       "<div>\n",
       "<style scoped>\n",
       "    .dataframe tbody tr th:only-of-type {\n",
       "        vertical-align: middle;\n",
       "    }\n",
       "\n",
       "    .dataframe tbody tr th {\n",
       "        vertical-align: top;\n",
       "    }\n",
       "\n",
       "    .dataframe thead th {\n",
       "        text-align: right;\n",
       "    }\n",
       "</style>\n",
       "<table border=\"1\" class=\"dataframe\">\n",
       "  <thead>\n",
       "    <tr style=\"text-align: right;\">\n",
       "      <th></th>\n",
       "      <th>DateRep</th>\n",
       "      <th>CountryExp</th>\n",
       "      <th>NewConfCases</th>\n",
       "      <th>NewDeaths</th>\n",
       "      <th>GeoId</th>\n",
       "      <th>EU</th>\n",
       "    </tr>\n",
       "  </thead>\n",
       "  <tbody>\n",
       "    <tr>\n",
       "      <th>2285</th>\n",
       "      <td>2020-03-10</td>\n",
       "      <td>Italy</td>\n",
       "      <td>1797</td>\n",
       "      <td>98</td>\n",
       "      <td>IT</td>\n",
       "      <td>EU</td>\n",
       "    </tr>\n",
       "    <tr>\n",
       "      <th>2286</th>\n",
       "      <td>2020-03-09</td>\n",
       "      <td>Italy</td>\n",
       "      <td>1492</td>\n",
       "      <td>133</td>\n",
       "      <td>IT</td>\n",
       "      <td>EU</td>\n",
       "    </tr>\n",
       "    <tr>\n",
       "      <th>2287</th>\n",
       "      <td>2020-03-08</td>\n",
       "      <td>Italy</td>\n",
       "      <td>1247</td>\n",
       "      <td>36</td>\n",
       "      <td>IT</td>\n",
       "      <td>EU</td>\n",
       "    </tr>\n",
       "    <tr>\n",
       "      <th>2288</th>\n",
       "      <td>2020-03-07</td>\n",
       "      <td>Italy</td>\n",
       "      <td>778</td>\n",
       "      <td>49</td>\n",
       "      <td>IT</td>\n",
       "      <td>EU</td>\n",
       "    </tr>\n",
       "    <tr>\n",
       "      <th>2289</th>\n",
       "      <td>2020-03-06</td>\n",
       "      <td>Italy</td>\n",
       "      <td>769</td>\n",
       "      <td>41</td>\n",
       "      <td>IT</td>\n",
       "      <td>EU</td>\n",
       "    </tr>\n",
       "    <tr>\n",
       "      <th>...</th>\n",
       "      <td>...</td>\n",
       "      <td>...</td>\n",
       "      <td>...</td>\n",
       "      <td>...</td>\n",
       "      <td>...</td>\n",
       "      <td>...</td>\n",
       "    </tr>\n",
       "    <tr>\n",
       "      <th>2351</th>\n",
       "      <td>2020-01-04</td>\n",
       "      <td>Italy</td>\n",
       "      <td>0</td>\n",
       "      <td>0</td>\n",
       "      <td>IT</td>\n",
       "      <td>EU</td>\n",
       "    </tr>\n",
       "    <tr>\n",
       "      <th>2352</th>\n",
       "      <td>2020-01-03</td>\n",
       "      <td>Italy</td>\n",
       "      <td>0</td>\n",
       "      <td>0</td>\n",
       "      <td>IT</td>\n",
       "      <td>EU</td>\n",
       "    </tr>\n",
       "    <tr>\n",
       "      <th>2353</th>\n",
       "      <td>2020-01-02</td>\n",
       "      <td>Italy</td>\n",
       "      <td>0</td>\n",
       "      <td>0</td>\n",
       "      <td>IT</td>\n",
       "      <td>EU</td>\n",
       "    </tr>\n",
       "    <tr>\n",
       "      <th>2354</th>\n",
       "      <td>2020-01-01</td>\n",
       "      <td>Italy</td>\n",
       "      <td>0</td>\n",
       "      <td>0</td>\n",
       "      <td>IT</td>\n",
       "      <td>EU</td>\n",
       "    </tr>\n",
       "    <tr>\n",
       "      <th>2355</th>\n",
       "      <td>2019-12-31</td>\n",
       "      <td>Italy</td>\n",
       "      <td>0</td>\n",
       "      <td>0</td>\n",
       "      <td>IT</td>\n",
       "      <td>EU</td>\n",
       "    </tr>\n",
       "  </tbody>\n",
       "</table>\n",
       "<p>71 rows × 6 columns</p>\n",
       "</div>"
      ],
      "text/plain": [
       "        DateRep CountryExp  NewConfCases  NewDeaths GeoId  EU\n",
       "2285 2020-03-10      Italy          1797         98    IT  EU\n",
       "2286 2020-03-09      Italy          1492        133    IT  EU\n",
       "2287 2020-03-08      Italy          1247         36    IT  EU\n",
       "2288 2020-03-07      Italy           778         49    IT  EU\n",
       "2289 2020-03-06      Italy           769         41    IT  EU\n",
       "...         ...        ...           ...        ...   ...  ..\n",
       "2351 2020-01-04      Italy             0          0    IT  EU\n",
       "2352 2020-01-03      Italy             0          0    IT  EU\n",
       "2353 2020-01-02      Italy             0          0    IT  EU\n",
       "2354 2020-01-01      Italy             0          0    IT  EU\n",
       "2355 2019-12-31      Italy             0          0    IT  EU\n",
       "\n",
       "[71 rows x 6 columns]"
      ]
     },
     "execution_count": 6,
     "metadata": {},
     "output_type": "execute_result"
    }
   ],
   "source": [
    "df"
   ]
  },
  {
   "cell_type": "markdown",
   "metadata": {},
   "source": [
    "We will now also remove all the zeros before the virus reached Italy with the same technique:"
   ]
  },
  {
   "cell_type": "code",
   "execution_count": 7,
   "metadata": {},
   "outputs": [],
   "source": [
    "df = df[df['NewConfCases']>0]"
   ]
  },
  {
   "cell_type": "code",
   "execution_count": 8,
   "metadata": {},
   "outputs": [
    {
     "data": {
      "text/html": [
       "<div>\n",
       "<style scoped>\n",
       "    .dataframe tbody tr th:only-of-type {\n",
       "        vertical-align: middle;\n",
       "    }\n",
       "\n",
       "    .dataframe tbody tr th {\n",
       "        vertical-align: top;\n",
       "    }\n",
       "\n",
       "    .dataframe thead th {\n",
       "        text-align: right;\n",
       "    }\n",
       "</style>\n",
       "<table border=\"1\" class=\"dataframe\">\n",
       "  <thead>\n",
       "    <tr style=\"text-align: right;\">\n",
       "      <th></th>\n",
       "      <th>DateRep</th>\n",
       "      <th>CountryExp</th>\n",
       "      <th>NewConfCases</th>\n",
       "      <th>NewDeaths</th>\n",
       "      <th>GeoId</th>\n",
       "      <th>EU</th>\n",
       "    </tr>\n",
       "  </thead>\n",
       "  <tbody>\n",
       "    <tr>\n",
       "      <th>2285</th>\n",
       "      <td>2020-03-10</td>\n",
       "      <td>Italy</td>\n",
       "      <td>1797</td>\n",
       "      <td>98</td>\n",
       "      <td>IT</td>\n",
       "      <td>EU</td>\n",
       "    </tr>\n",
       "    <tr>\n",
       "      <th>2286</th>\n",
       "      <td>2020-03-09</td>\n",
       "      <td>Italy</td>\n",
       "      <td>1492</td>\n",
       "      <td>133</td>\n",
       "      <td>IT</td>\n",
       "      <td>EU</td>\n",
       "    </tr>\n",
       "    <tr>\n",
       "      <th>2287</th>\n",
       "      <td>2020-03-08</td>\n",
       "      <td>Italy</td>\n",
       "      <td>1247</td>\n",
       "      <td>36</td>\n",
       "      <td>IT</td>\n",
       "      <td>EU</td>\n",
       "    </tr>\n",
       "    <tr>\n",
       "      <th>2288</th>\n",
       "      <td>2020-03-07</td>\n",
       "      <td>Italy</td>\n",
       "      <td>778</td>\n",
       "      <td>49</td>\n",
       "      <td>IT</td>\n",
       "      <td>EU</td>\n",
       "    </tr>\n",
       "    <tr>\n",
       "      <th>2289</th>\n",
       "      <td>2020-03-06</td>\n",
       "      <td>Italy</td>\n",
       "      <td>769</td>\n",
       "      <td>41</td>\n",
       "      <td>IT</td>\n",
       "      <td>EU</td>\n",
       "    </tr>\n",
       "    <tr>\n",
       "      <th>2290</th>\n",
       "      <td>2020-03-05</td>\n",
       "      <td>Italy</td>\n",
       "      <td>587</td>\n",
       "      <td>27</td>\n",
       "      <td>IT</td>\n",
       "      <td>EU</td>\n",
       "    </tr>\n",
       "    <tr>\n",
       "      <th>2291</th>\n",
       "      <td>2020-03-04</td>\n",
       "      <td>Italy</td>\n",
       "      <td>667</td>\n",
       "      <td>28</td>\n",
       "      <td>IT</td>\n",
       "      <td>EU</td>\n",
       "    </tr>\n",
       "    <tr>\n",
       "      <th>2292</th>\n",
       "      <td>2020-03-03</td>\n",
       "      <td>Italy</td>\n",
       "      <td>146</td>\n",
       "      <td>17</td>\n",
       "      <td>IT</td>\n",
       "      <td>EU</td>\n",
       "    </tr>\n",
       "    <tr>\n",
       "      <th>2293</th>\n",
       "      <td>2020-03-02</td>\n",
       "      <td>Italy</td>\n",
       "      <td>561</td>\n",
       "      <td>6</td>\n",
       "      <td>IT</td>\n",
       "      <td>EU</td>\n",
       "    </tr>\n",
       "    <tr>\n",
       "      <th>2294</th>\n",
       "      <td>2020-03-01</td>\n",
       "      <td>Italy</td>\n",
       "      <td>240</td>\n",
       "      <td>8</td>\n",
       "      <td>IT</td>\n",
       "      <td>EU</td>\n",
       "    </tr>\n",
       "    <tr>\n",
       "      <th>2295</th>\n",
       "      <td>2020-02-29</td>\n",
       "      <td>Italy</td>\n",
       "      <td>238</td>\n",
       "      <td>4</td>\n",
       "      <td>IT</td>\n",
       "      <td>EU</td>\n",
       "    </tr>\n",
       "    <tr>\n",
       "      <th>2296</th>\n",
       "      <td>2020-02-28</td>\n",
       "      <td>Italy</td>\n",
       "      <td>250</td>\n",
       "      <td>5</td>\n",
       "      <td>IT</td>\n",
       "      <td>EU</td>\n",
       "    </tr>\n",
       "    <tr>\n",
       "      <th>2297</th>\n",
       "      <td>2020-02-27</td>\n",
       "      <td>Italy</td>\n",
       "      <td>78</td>\n",
       "      <td>1</td>\n",
       "      <td>IT</td>\n",
       "      <td>EU</td>\n",
       "    </tr>\n",
       "    <tr>\n",
       "      <th>2298</th>\n",
       "      <td>2020-02-26</td>\n",
       "      <td>Italy</td>\n",
       "      <td>93</td>\n",
       "      <td>5</td>\n",
       "      <td>IT</td>\n",
       "      <td>EU</td>\n",
       "    </tr>\n",
       "    <tr>\n",
       "      <th>2299</th>\n",
       "      <td>2020-02-25</td>\n",
       "      <td>Italy</td>\n",
       "      <td>97</td>\n",
       "      <td>4</td>\n",
       "      <td>IT</td>\n",
       "      <td>EU</td>\n",
       "    </tr>\n",
       "    <tr>\n",
       "      <th>2300</th>\n",
       "      <td>2020-02-24</td>\n",
       "      <td>Italy</td>\n",
       "      <td>53</td>\n",
       "      <td>0</td>\n",
       "      <td>IT</td>\n",
       "      <td>EU</td>\n",
       "    </tr>\n",
       "    <tr>\n",
       "      <th>2301</th>\n",
       "      <td>2020-02-23</td>\n",
       "      <td>Italy</td>\n",
       "      <td>62</td>\n",
       "      <td>2</td>\n",
       "      <td>IT</td>\n",
       "      <td>EU</td>\n",
       "    </tr>\n",
       "    <tr>\n",
       "      <th>2302</th>\n",
       "      <td>2020-02-22</td>\n",
       "      <td>Italy</td>\n",
       "      <td>14</td>\n",
       "      <td>0</td>\n",
       "      <td>IT</td>\n",
       "      <td>EU</td>\n",
       "    </tr>\n",
       "    <tr>\n",
       "      <th>2324</th>\n",
       "      <td>2020-01-31</td>\n",
       "      <td>Italy</td>\n",
       "      <td>3</td>\n",
       "      <td>0</td>\n",
       "      <td>IT</td>\n",
       "      <td>EU</td>\n",
       "    </tr>\n",
       "  </tbody>\n",
       "</table>\n",
       "</div>"
      ],
      "text/plain": [
       "        DateRep CountryExp  NewConfCases  NewDeaths GeoId  EU\n",
       "2285 2020-03-10      Italy          1797         98    IT  EU\n",
       "2286 2020-03-09      Italy          1492        133    IT  EU\n",
       "2287 2020-03-08      Italy          1247         36    IT  EU\n",
       "2288 2020-03-07      Italy           778         49    IT  EU\n",
       "2289 2020-03-06      Italy           769         41    IT  EU\n",
       "2290 2020-03-05      Italy           587         27    IT  EU\n",
       "2291 2020-03-04      Italy           667         28    IT  EU\n",
       "2292 2020-03-03      Italy           146         17    IT  EU\n",
       "2293 2020-03-02      Italy           561          6    IT  EU\n",
       "2294 2020-03-01      Italy           240          8    IT  EU\n",
       "2295 2020-02-29      Italy           238          4    IT  EU\n",
       "2296 2020-02-28      Italy           250          5    IT  EU\n",
       "2297 2020-02-27      Italy            78          1    IT  EU\n",
       "2298 2020-02-26      Italy            93          5    IT  EU\n",
       "2299 2020-02-25      Italy            97          4    IT  EU\n",
       "2300 2020-02-24      Italy            53          0    IT  EU\n",
       "2301 2020-02-23      Italy            62          2    IT  EU\n",
       "2302 2020-02-22      Italy            14          0    IT  EU\n",
       "2324 2020-01-31      Italy             3          0    IT  EU"
      ]
     },
     "execution_count": 8,
     "metadata": {},
     "output_type": "execute_result"
    }
   ],
   "source": [
    "df"
   ]
  },
  {
   "cell_type": "markdown",
   "metadata": {},
   "source": [
    "Let's order now by day:"
   ]
  },
  {
   "cell_type": "code",
   "execution_count": 9,
   "metadata": {},
   "outputs": [],
   "source": [
    "df=df.sort_values(by=['DateRep'])"
   ]
  },
  {
   "cell_type": "code",
   "execution_count": 10,
   "metadata": {},
   "outputs": [
    {
     "data": {
      "text/html": [
       "<div>\n",
       "<style scoped>\n",
       "    .dataframe tbody tr th:only-of-type {\n",
       "        vertical-align: middle;\n",
       "    }\n",
       "\n",
       "    .dataframe tbody tr th {\n",
       "        vertical-align: top;\n",
       "    }\n",
       "\n",
       "    .dataframe thead th {\n",
       "        text-align: right;\n",
       "    }\n",
       "</style>\n",
       "<table border=\"1\" class=\"dataframe\">\n",
       "  <thead>\n",
       "    <tr style=\"text-align: right;\">\n",
       "      <th></th>\n",
       "      <th>DateRep</th>\n",
       "      <th>CountryExp</th>\n",
       "      <th>NewConfCases</th>\n",
       "      <th>NewDeaths</th>\n",
       "      <th>GeoId</th>\n",
       "      <th>EU</th>\n",
       "    </tr>\n",
       "  </thead>\n",
       "  <tbody>\n",
       "    <tr>\n",
       "      <th>2324</th>\n",
       "      <td>2020-01-31</td>\n",
       "      <td>Italy</td>\n",
       "      <td>3</td>\n",
       "      <td>0</td>\n",
       "      <td>IT</td>\n",
       "      <td>EU</td>\n",
       "    </tr>\n",
       "    <tr>\n",
       "      <th>2302</th>\n",
       "      <td>2020-02-22</td>\n",
       "      <td>Italy</td>\n",
       "      <td>14</td>\n",
       "      <td>0</td>\n",
       "      <td>IT</td>\n",
       "      <td>EU</td>\n",
       "    </tr>\n",
       "    <tr>\n",
       "      <th>2301</th>\n",
       "      <td>2020-02-23</td>\n",
       "      <td>Italy</td>\n",
       "      <td>62</td>\n",
       "      <td>2</td>\n",
       "      <td>IT</td>\n",
       "      <td>EU</td>\n",
       "    </tr>\n",
       "    <tr>\n",
       "      <th>2300</th>\n",
       "      <td>2020-02-24</td>\n",
       "      <td>Italy</td>\n",
       "      <td>53</td>\n",
       "      <td>0</td>\n",
       "      <td>IT</td>\n",
       "      <td>EU</td>\n",
       "    </tr>\n",
       "    <tr>\n",
       "      <th>2299</th>\n",
       "      <td>2020-02-25</td>\n",
       "      <td>Italy</td>\n",
       "      <td>97</td>\n",
       "      <td>4</td>\n",
       "      <td>IT</td>\n",
       "      <td>EU</td>\n",
       "    </tr>\n",
       "    <tr>\n",
       "      <th>2298</th>\n",
       "      <td>2020-02-26</td>\n",
       "      <td>Italy</td>\n",
       "      <td>93</td>\n",
       "      <td>5</td>\n",
       "      <td>IT</td>\n",
       "      <td>EU</td>\n",
       "    </tr>\n",
       "    <tr>\n",
       "      <th>2297</th>\n",
       "      <td>2020-02-27</td>\n",
       "      <td>Italy</td>\n",
       "      <td>78</td>\n",
       "      <td>1</td>\n",
       "      <td>IT</td>\n",
       "      <td>EU</td>\n",
       "    </tr>\n",
       "    <tr>\n",
       "      <th>2296</th>\n",
       "      <td>2020-02-28</td>\n",
       "      <td>Italy</td>\n",
       "      <td>250</td>\n",
       "      <td>5</td>\n",
       "      <td>IT</td>\n",
       "      <td>EU</td>\n",
       "    </tr>\n",
       "    <tr>\n",
       "      <th>2295</th>\n",
       "      <td>2020-02-29</td>\n",
       "      <td>Italy</td>\n",
       "      <td>238</td>\n",
       "      <td>4</td>\n",
       "      <td>IT</td>\n",
       "      <td>EU</td>\n",
       "    </tr>\n",
       "    <tr>\n",
       "      <th>2294</th>\n",
       "      <td>2020-03-01</td>\n",
       "      <td>Italy</td>\n",
       "      <td>240</td>\n",
       "      <td>8</td>\n",
       "      <td>IT</td>\n",
       "      <td>EU</td>\n",
       "    </tr>\n",
       "    <tr>\n",
       "      <th>2293</th>\n",
       "      <td>2020-03-02</td>\n",
       "      <td>Italy</td>\n",
       "      <td>561</td>\n",
       "      <td>6</td>\n",
       "      <td>IT</td>\n",
       "      <td>EU</td>\n",
       "    </tr>\n",
       "    <tr>\n",
       "      <th>2292</th>\n",
       "      <td>2020-03-03</td>\n",
       "      <td>Italy</td>\n",
       "      <td>146</td>\n",
       "      <td>17</td>\n",
       "      <td>IT</td>\n",
       "      <td>EU</td>\n",
       "    </tr>\n",
       "    <tr>\n",
       "      <th>2291</th>\n",
       "      <td>2020-03-04</td>\n",
       "      <td>Italy</td>\n",
       "      <td>667</td>\n",
       "      <td>28</td>\n",
       "      <td>IT</td>\n",
       "      <td>EU</td>\n",
       "    </tr>\n",
       "    <tr>\n",
       "      <th>2290</th>\n",
       "      <td>2020-03-05</td>\n",
       "      <td>Italy</td>\n",
       "      <td>587</td>\n",
       "      <td>27</td>\n",
       "      <td>IT</td>\n",
       "      <td>EU</td>\n",
       "    </tr>\n",
       "    <tr>\n",
       "      <th>2289</th>\n",
       "      <td>2020-03-06</td>\n",
       "      <td>Italy</td>\n",
       "      <td>769</td>\n",
       "      <td>41</td>\n",
       "      <td>IT</td>\n",
       "      <td>EU</td>\n",
       "    </tr>\n",
       "    <tr>\n",
       "      <th>2288</th>\n",
       "      <td>2020-03-07</td>\n",
       "      <td>Italy</td>\n",
       "      <td>778</td>\n",
       "      <td>49</td>\n",
       "      <td>IT</td>\n",
       "      <td>EU</td>\n",
       "    </tr>\n",
       "    <tr>\n",
       "      <th>2287</th>\n",
       "      <td>2020-03-08</td>\n",
       "      <td>Italy</td>\n",
       "      <td>1247</td>\n",
       "      <td>36</td>\n",
       "      <td>IT</td>\n",
       "      <td>EU</td>\n",
       "    </tr>\n",
       "    <tr>\n",
       "      <th>2286</th>\n",
       "      <td>2020-03-09</td>\n",
       "      <td>Italy</td>\n",
       "      <td>1492</td>\n",
       "      <td>133</td>\n",
       "      <td>IT</td>\n",
       "      <td>EU</td>\n",
       "    </tr>\n",
       "    <tr>\n",
       "      <th>2285</th>\n",
       "      <td>2020-03-10</td>\n",
       "      <td>Italy</td>\n",
       "      <td>1797</td>\n",
       "      <td>98</td>\n",
       "      <td>IT</td>\n",
       "      <td>EU</td>\n",
       "    </tr>\n",
       "  </tbody>\n",
       "</table>\n",
       "</div>"
      ],
      "text/plain": [
       "        DateRep CountryExp  NewConfCases  NewDeaths GeoId  EU\n",
       "2324 2020-01-31      Italy             3          0    IT  EU\n",
       "2302 2020-02-22      Italy            14          0    IT  EU\n",
       "2301 2020-02-23      Italy            62          2    IT  EU\n",
       "2300 2020-02-24      Italy            53          0    IT  EU\n",
       "2299 2020-02-25      Italy            97          4    IT  EU\n",
       "2298 2020-02-26      Italy            93          5    IT  EU\n",
       "2297 2020-02-27      Italy            78          1    IT  EU\n",
       "2296 2020-02-28      Italy           250          5    IT  EU\n",
       "2295 2020-02-29      Italy           238          4    IT  EU\n",
       "2294 2020-03-01      Italy           240          8    IT  EU\n",
       "2293 2020-03-02      Italy           561          6    IT  EU\n",
       "2292 2020-03-03      Italy           146         17    IT  EU\n",
       "2291 2020-03-04      Italy           667         28    IT  EU\n",
       "2290 2020-03-05      Italy           587         27    IT  EU\n",
       "2289 2020-03-06      Italy           769         41    IT  EU\n",
       "2288 2020-03-07      Italy           778         49    IT  EU\n",
       "2287 2020-03-08      Italy          1247         36    IT  EU\n",
       "2286 2020-03-09      Italy          1492        133    IT  EU\n",
       "2285 2020-03-10      Italy          1797         98    IT  EU"
      ]
     },
     "execution_count": 10,
     "metadata": {},
     "output_type": "execute_result"
    }
   ],
   "source": [
    "df"
   ]
  },
  {
   "cell_type": "markdown",
   "metadata": {},
   "source": [
    "Let's add the cumulative number of cases and deaths with:"
   ]
  },
  {
   "cell_type": "code",
   "execution_count": 11,
   "metadata": {},
   "outputs": [],
   "source": [
    "df[\"CumulConfCases\"] = df[\"NewConfCases\"].cumsum()\n",
    "df[\"CumulDeaths\"] = df[\"NewDeaths\"].cumsum()"
   ]
  },
  {
   "cell_type": "code",
   "execution_count": 12,
   "metadata": {},
   "outputs": [
    {
     "data": {
      "text/html": [
       "<div>\n",
       "<style scoped>\n",
       "    .dataframe tbody tr th:only-of-type {\n",
       "        vertical-align: middle;\n",
       "    }\n",
       "\n",
       "    .dataframe tbody tr th {\n",
       "        vertical-align: top;\n",
       "    }\n",
       "\n",
       "    .dataframe thead th {\n",
       "        text-align: right;\n",
       "    }\n",
       "</style>\n",
       "<table border=\"1\" class=\"dataframe\">\n",
       "  <thead>\n",
       "    <tr style=\"text-align: right;\">\n",
       "      <th></th>\n",
       "      <th>DateRep</th>\n",
       "      <th>CountryExp</th>\n",
       "      <th>NewConfCases</th>\n",
       "      <th>NewDeaths</th>\n",
       "      <th>GeoId</th>\n",
       "      <th>EU</th>\n",
       "      <th>CumulConfCases</th>\n",
       "      <th>CumulDeaths</th>\n",
       "    </tr>\n",
       "  </thead>\n",
       "  <tbody>\n",
       "    <tr>\n",
       "      <th>2324</th>\n",
       "      <td>2020-01-31</td>\n",
       "      <td>Italy</td>\n",
       "      <td>3</td>\n",
       "      <td>0</td>\n",
       "      <td>IT</td>\n",
       "      <td>EU</td>\n",
       "      <td>3</td>\n",
       "      <td>0</td>\n",
       "    </tr>\n",
       "    <tr>\n",
       "      <th>2302</th>\n",
       "      <td>2020-02-22</td>\n",
       "      <td>Italy</td>\n",
       "      <td>14</td>\n",
       "      <td>0</td>\n",
       "      <td>IT</td>\n",
       "      <td>EU</td>\n",
       "      <td>17</td>\n",
       "      <td>0</td>\n",
       "    </tr>\n",
       "    <tr>\n",
       "      <th>2301</th>\n",
       "      <td>2020-02-23</td>\n",
       "      <td>Italy</td>\n",
       "      <td>62</td>\n",
       "      <td>2</td>\n",
       "      <td>IT</td>\n",
       "      <td>EU</td>\n",
       "      <td>79</td>\n",
       "      <td>2</td>\n",
       "    </tr>\n",
       "    <tr>\n",
       "      <th>2300</th>\n",
       "      <td>2020-02-24</td>\n",
       "      <td>Italy</td>\n",
       "      <td>53</td>\n",
       "      <td>0</td>\n",
       "      <td>IT</td>\n",
       "      <td>EU</td>\n",
       "      <td>132</td>\n",
       "      <td>2</td>\n",
       "    </tr>\n",
       "    <tr>\n",
       "      <th>2299</th>\n",
       "      <td>2020-02-25</td>\n",
       "      <td>Italy</td>\n",
       "      <td>97</td>\n",
       "      <td>4</td>\n",
       "      <td>IT</td>\n",
       "      <td>EU</td>\n",
       "      <td>229</td>\n",
       "      <td>6</td>\n",
       "    </tr>\n",
       "    <tr>\n",
       "      <th>2298</th>\n",
       "      <td>2020-02-26</td>\n",
       "      <td>Italy</td>\n",
       "      <td>93</td>\n",
       "      <td>5</td>\n",
       "      <td>IT</td>\n",
       "      <td>EU</td>\n",
       "      <td>322</td>\n",
       "      <td>11</td>\n",
       "    </tr>\n",
       "    <tr>\n",
       "      <th>2297</th>\n",
       "      <td>2020-02-27</td>\n",
       "      <td>Italy</td>\n",
       "      <td>78</td>\n",
       "      <td>1</td>\n",
       "      <td>IT</td>\n",
       "      <td>EU</td>\n",
       "      <td>400</td>\n",
       "      <td>12</td>\n",
       "    </tr>\n",
       "    <tr>\n",
       "      <th>2296</th>\n",
       "      <td>2020-02-28</td>\n",
       "      <td>Italy</td>\n",
       "      <td>250</td>\n",
       "      <td>5</td>\n",
       "      <td>IT</td>\n",
       "      <td>EU</td>\n",
       "      <td>650</td>\n",
       "      <td>17</td>\n",
       "    </tr>\n",
       "    <tr>\n",
       "      <th>2295</th>\n",
       "      <td>2020-02-29</td>\n",
       "      <td>Italy</td>\n",
       "      <td>238</td>\n",
       "      <td>4</td>\n",
       "      <td>IT</td>\n",
       "      <td>EU</td>\n",
       "      <td>888</td>\n",
       "      <td>21</td>\n",
       "    </tr>\n",
       "    <tr>\n",
       "      <th>2294</th>\n",
       "      <td>2020-03-01</td>\n",
       "      <td>Italy</td>\n",
       "      <td>240</td>\n",
       "      <td>8</td>\n",
       "      <td>IT</td>\n",
       "      <td>EU</td>\n",
       "      <td>1128</td>\n",
       "      <td>29</td>\n",
       "    </tr>\n",
       "    <tr>\n",
       "      <th>2293</th>\n",
       "      <td>2020-03-02</td>\n",
       "      <td>Italy</td>\n",
       "      <td>561</td>\n",
       "      <td>6</td>\n",
       "      <td>IT</td>\n",
       "      <td>EU</td>\n",
       "      <td>1689</td>\n",
       "      <td>35</td>\n",
       "    </tr>\n",
       "    <tr>\n",
       "      <th>2292</th>\n",
       "      <td>2020-03-03</td>\n",
       "      <td>Italy</td>\n",
       "      <td>146</td>\n",
       "      <td>17</td>\n",
       "      <td>IT</td>\n",
       "      <td>EU</td>\n",
       "      <td>1835</td>\n",
       "      <td>52</td>\n",
       "    </tr>\n",
       "    <tr>\n",
       "      <th>2291</th>\n",
       "      <td>2020-03-04</td>\n",
       "      <td>Italy</td>\n",
       "      <td>667</td>\n",
       "      <td>28</td>\n",
       "      <td>IT</td>\n",
       "      <td>EU</td>\n",
       "      <td>2502</td>\n",
       "      <td>80</td>\n",
       "    </tr>\n",
       "    <tr>\n",
       "      <th>2290</th>\n",
       "      <td>2020-03-05</td>\n",
       "      <td>Italy</td>\n",
       "      <td>587</td>\n",
       "      <td>27</td>\n",
       "      <td>IT</td>\n",
       "      <td>EU</td>\n",
       "      <td>3089</td>\n",
       "      <td>107</td>\n",
       "    </tr>\n",
       "    <tr>\n",
       "      <th>2289</th>\n",
       "      <td>2020-03-06</td>\n",
       "      <td>Italy</td>\n",
       "      <td>769</td>\n",
       "      <td>41</td>\n",
       "      <td>IT</td>\n",
       "      <td>EU</td>\n",
       "      <td>3858</td>\n",
       "      <td>148</td>\n",
       "    </tr>\n",
       "    <tr>\n",
       "      <th>2288</th>\n",
       "      <td>2020-03-07</td>\n",
       "      <td>Italy</td>\n",
       "      <td>778</td>\n",
       "      <td>49</td>\n",
       "      <td>IT</td>\n",
       "      <td>EU</td>\n",
       "      <td>4636</td>\n",
       "      <td>197</td>\n",
       "    </tr>\n",
       "    <tr>\n",
       "      <th>2287</th>\n",
       "      <td>2020-03-08</td>\n",
       "      <td>Italy</td>\n",
       "      <td>1247</td>\n",
       "      <td>36</td>\n",
       "      <td>IT</td>\n",
       "      <td>EU</td>\n",
       "      <td>5883</td>\n",
       "      <td>233</td>\n",
       "    </tr>\n",
       "    <tr>\n",
       "      <th>2286</th>\n",
       "      <td>2020-03-09</td>\n",
       "      <td>Italy</td>\n",
       "      <td>1492</td>\n",
       "      <td>133</td>\n",
       "      <td>IT</td>\n",
       "      <td>EU</td>\n",
       "      <td>7375</td>\n",
       "      <td>366</td>\n",
       "    </tr>\n",
       "    <tr>\n",
       "      <th>2285</th>\n",
       "      <td>2020-03-10</td>\n",
       "      <td>Italy</td>\n",
       "      <td>1797</td>\n",
       "      <td>98</td>\n",
       "      <td>IT</td>\n",
       "      <td>EU</td>\n",
       "      <td>9172</td>\n",
       "      <td>464</td>\n",
       "    </tr>\n",
       "  </tbody>\n",
       "</table>\n",
       "</div>"
      ],
      "text/plain": [
       "        DateRep CountryExp  NewConfCases  NewDeaths GeoId  EU  CumulConfCases  \\\n",
       "2324 2020-01-31      Italy             3          0    IT  EU               3   \n",
       "2302 2020-02-22      Italy            14          0    IT  EU              17   \n",
       "2301 2020-02-23      Italy            62          2    IT  EU              79   \n",
       "2300 2020-02-24      Italy            53          0    IT  EU             132   \n",
       "2299 2020-02-25      Italy            97          4    IT  EU             229   \n",
       "2298 2020-02-26      Italy            93          5    IT  EU             322   \n",
       "2297 2020-02-27      Italy            78          1    IT  EU             400   \n",
       "2296 2020-02-28      Italy           250          5    IT  EU             650   \n",
       "2295 2020-02-29      Italy           238          4    IT  EU             888   \n",
       "2294 2020-03-01      Italy           240          8    IT  EU            1128   \n",
       "2293 2020-03-02      Italy           561          6    IT  EU            1689   \n",
       "2292 2020-03-03      Italy           146         17    IT  EU            1835   \n",
       "2291 2020-03-04      Italy           667         28    IT  EU            2502   \n",
       "2290 2020-03-05      Italy           587         27    IT  EU            3089   \n",
       "2289 2020-03-06      Italy           769         41    IT  EU            3858   \n",
       "2288 2020-03-07      Italy           778         49    IT  EU            4636   \n",
       "2287 2020-03-08      Italy          1247         36    IT  EU            5883   \n",
       "2286 2020-03-09      Italy          1492        133    IT  EU            7375   \n",
       "2285 2020-03-10      Italy          1797         98    IT  EU            9172   \n",
       "\n",
       "      CumulDeaths  \n",
       "2324            0  \n",
       "2302            0  \n",
       "2301            2  \n",
       "2300            2  \n",
       "2299            6  \n",
       "2298           11  \n",
       "2297           12  \n",
       "2296           17  \n",
       "2295           21  \n",
       "2294           29  \n",
       "2293           35  \n",
       "2292           52  \n",
       "2291           80  \n",
       "2290          107  \n",
       "2289          148  \n",
       "2288          197  \n",
       "2287          233  \n",
       "2286          366  \n",
       "2285          464  "
      ]
     },
     "execution_count": 12,
     "metadata": {},
     "output_type": "execute_result"
    }
   ],
   "source": [
    "df"
   ]
  },
  {
   "cell_type": "markdown",
   "metadata": {},
   "source": [
    "Finally, we filter down the dataset to the columns of interest while renaming it dN and N:"
   ]
  },
  {
   "cell_type": "code",
   "execution_count": 13,
   "metadata": {},
   "outputs": [],
   "source": [
    "df_cases = df.filter(items=['DateRep', 'NewConfCases','CumulConfCases']) \\\n",
    "    .rename(columns={\"DateRep\": \"T\", \"NewConfCases\": \"dN\", \"CumulConfCases\": \"N\"})\n",
    "df_deaths = df.filter(items=['DateRep', 'NewDeaths','CumulDeaths']) \\\n",
    "    .rename(columns={\"DateRep\": \"T\", \"NewDeaths\": \"dN\", \"CumulDeaths\": \"N\"})"
   ]
  },
  {
   "cell_type": "markdown",
   "metadata": {},
   "source": [
    "Finaly, we define the time series index of those two final datasets:"
   ]
  },
  {
   "cell_type": "code",
   "execution_count": 14,
   "metadata": {},
   "outputs": [],
   "source": [
    "df_cases = df_cases.set_index('T')\n",
    "df_deaths = df_deaths.set_index('T')"
   ]
  },
  {
   "cell_type": "code",
   "execution_count": 15,
   "metadata": {},
   "outputs": [
    {
     "data": {
      "text/html": [
       "<div>\n",
       "<style scoped>\n",
       "    .dataframe tbody tr th:only-of-type {\n",
       "        vertical-align: middle;\n",
       "    }\n",
       "\n",
       "    .dataframe tbody tr th {\n",
       "        vertical-align: top;\n",
       "    }\n",
       "\n",
       "    .dataframe thead th {\n",
       "        text-align: right;\n",
       "    }\n",
       "</style>\n",
       "<table border=\"1\" class=\"dataframe\">\n",
       "  <thead>\n",
       "    <tr style=\"text-align: right;\">\n",
       "      <th></th>\n",
       "      <th>dN</th>\n",
       "      <th>N</th>\n",
       "    </tr>\n",
       "    <tr>\n",
       "      <th>T</th>\n",
       "      <th></th>\n",
       "      <th></th>\n",
       "    </tr>\n",
       "  </thead>\n",
       "  <tbody>\n",
       "    <tr>\n",
       "      <th>2020-01-31</th>\n",
       "      <td>3</td>\n",
       "      <td>3</td>\n",
       "    </tr>\n",
       "    <tr>\n",
       "      <th>2020-02-22</th>\n",
       "      <td>14</td>\n",
       "      <td>17</td>\n",
       "    </tr>\n",
       "    <tr>\n",
       "      <th>2020-02-23</th>\n",
       "      <td>62</td>\n",
       "      <td>79</td>\n",
       "    </tr>\n",
       "    <tr>\n",
       "      <th>2020-02-24</th>\n",
       "      <td>53</td>\n",
       "      <td>132</td>\n",
       "    </tr>\n",
       "    <tr>\n",
       "      <th>2020-02-25</th>\n",
       "      <td>97</td>\n",
       "      <td>229</td>\n",
       "    </tr>\n",
       "    <tr>\n",
       "      <th>2020-02-26</th>\n",
       "      <td>93</td>\n",
       "      <td>322</td>\n",
       "    </tr>\n",
       "    <tr>\n",
       "      <th>2020-02-27</th>\n",
       "      <td>78</td>\n",
       "      <td>400</td>\n",
       "    </tr>\n",
       "    <tr>\n",
       "      <th>2020-02-28</th>\n",
       "      <td>250</td>\n",
       "      <td>650</td>\n",
       "    </tr>\n",
       "    <tr>\n",
       "      <th>2020-02-29</th>\n",
       "      <td>238</td>\n",
       "      <td>888</td>\n",
       "    </tr>\n",
       "    <tr>\n",
       "      <th>2020-03-01</th>\n",
       "      <td>240</td>\n",
       "      <td>1128</td>\n",
       "    </tr>\n",
       "    <tr>\n",
       "      <th>2020-03-02</th>\n",
       "      <td>561</td>\n",
       "      <td>1689</td>\n",
       "    </tr>\n",
       "    <tr>\n",
       "      <th>2020-03-03</th>\n",
       "      <td>146</td>\n",
       "      <td>1835</td>\n",
       "    </tr>\n",
       "    <tr>\n",
       "      <th>2020-03-04</th>\n",
       "      <td>667</td>\n",
       "      <td>2502</td>\n",
       "    </tr>\n",
       "    <tr>\n",
       "      <th>2020-03-05</th>\n",
       "      <td>587</td>\n",
       "      <td>3089</td>\n",
       "    </tr>\n",
       "    <tr>\n",
       "      <th>2020-03-06</th>\n",
       "      <td>769</td>\n",
       "      <td>3858</td>\n",
       "    </tr>\n",
       "    <tr>\n",
       "      <th>2020-03-07</th>\n",
       "      <td>778</td>\n",
       "      <td>4636</td>\n",
       "    </tr>\n",
       "    <tr>\n",
       "      <th>2020-03-08</th>\n",
       "      <td>1247</td>\n",
       "      <td>5883</td>\n",
       "    </tr>\n",
       "    <tr>\n",
       "      <th>2020-03-09</th>\n",
       "      <td>1492</td>\n",
       "      <td>7375</td>\n",
       "    </tr>\n",
       "    <tr>\n",
       "      <th>2020-03-10</th>\n",
       "      <td>1797</td>\n",
       "      <td>9172</td>\n",
       "    </tr>\n",
       "  </tbody>\n",
       "</table>\n",
       "</div>"
      ],
      "text/plain": [
       "              dN     N\n",
       "T                     \n",
       "2020-01-31     3     3\n",
       "2020-02-22    14    17\n",
       "2020-02-23    62    79\n",
       "2020-02-24    53   132\n",
       "2020-02-25    97   229\n",
       "2020-02-26    93   322\n",
       "2020-02-27    78   400\n",
       "2020-02-28   250   650\n",
       "2020-02-29   238   888\n",
       "2020-03-01   240  1128\n",
       "2020-03-02   561  1689\n",
       "2020-03-03   146  1835\n",
       "2020-03-04   667  2502\n",
       "2020-03-05   587  3089\n",
       "2020-03-06   769  3858\n",
       "2020-03-07   778  4636\n",
       "2020-03-08  1247  5883\n",
       "2020-03-09  1492  7375\n",
       "2020-03-10  1797  9172"
      ]
     },
     "execution_count": 15,
     "metadata": {},
     "output_type": "execute_result"
    }
   ],
   "source": [
    "df_cases"
   ]
  },
  {
   "cell_type": "markdown",
   "metadata": {},
   "source": [
    "Let's do some charts. For this we need to load matplotlib and enable inline charts in Jupyter notebook."
   ]
  },
  {
   "cell_type": "code",
   "execution_count": 16,
   "metadata": {},
   "outputs": [],
   "source": [
    "# Import Matplotlib for charts\n",
    "import matplotlib.pyplot as plt\n",
    "%matplotlib inline"
   ]
  },
  {
   "cell_type": "markdown",
   "metadata": {},
   "source": [
    "The time-series for N and dN:"
   ]
  },
  {
   "cell_type": "code",
   "execution_count": 17,
   "metadata": {},
   "outputs": [
    {
     "data": {
      "text/plain": [
       "<AxesSubplot:xlabel='T'>"
      ]
     },
     "execution_count": 17,
     "metadata": {},
     "output_type": "execute_result"
    },
    {
     "data": {
      "image/png": "[encoded data removed]",
      "text/plain": [
       "<Figure size 432x288 with 1 Axes>"
      ]
     },
     "metadata": {
      "needs_background": "light"
     },
     "output_type": "display_data"
    }
   ],
   "source": [
    "df_cases.plot(y=[\"N\",\"dN\"])"
   ]
  },
  {
   "cell_type": "markdown",
   "metadata": {},
   "source": [
    "Let's plot the data in a scatter plot dN as function of N, as defined in our Diffusion of Innovation framework:"
   ]
  },
  {
   "cell_type": "code",
   "execution_count": 18,
   "metadata": {},
   "outputs": [
    {
     "data": {
      "text/plain": [
       "<AxesSubplot:xlabel='N', ylabel='dN'>"
      ]
     },
     "execution_count": 18,
     "metadata": {},
     "output_type": "execute_result"
    },
    {
     "data": {
      "image/png": "[encoded data removed]",
      "text/plain": [
       "<Figure size 432x288 with 1 Axes>"
      ]
     },
     "metadata": {
      "needs_background": "light"
     },
     "output_type": "display_data"
    }
   ],
   "source": [
    "df_cases.plot.scatter(x='N',y='dN')"
   ]
  },
  {
   "cell_type": "markdown",
   "metadata": {},
   "source": [
    "### 4. Modeling\n",
    "We will use the package iMinuit which enables to fit any custom functions to a dataset."
   ]
  },
  {
   "cell_type": "code",
   "execution_count": 19,
   "metadata": {},
   "outputs": [
    {
     "name": "stdout",
     "output_type": "stream",
     "text": [
      "Requirement already satisfied: iminuit in /home/jovyan/.local/lib/python3.8/site-packages (2.11.2)\n",
      "Requirement already satisfied: numpy in /opt/conda/lib/python3.8/site-packages (from iminuit) (1.20.1)\n"
     ]
    }
   ],
   "source": [
    "!pip install --user iminuit"
   ]
  },
  {
   "cell_type": "code",
   "execution_count": 20,
   "metadata": {},
   "outputs": [],
   "source": [
    "# Import Python wrapper on CERN's Minuit to fit a function using the Chi Square Minimalization approach\n",
    "from iminuit import Minuit, describe\n",
    "# Import NumPy to numeric computation\n",
    "import numpy as np"
   ]
  },
  {
   "cell_type": "markdown",
   "metadata": {},
   "source": [
    "As seen in the scatter chart above, there is no sign of the data trending. This means that there is no sensitivity to how big NMAX will ever be (i.e. the total number of people that will be eventually infected). \n",
    "\n",
    "To make a prediction, let's define this as 1% of Italy's population (1% of 60.5 million)"
   ]
  },
  {
   "cell_type": "code",
   "execution_count": 21,
   "metadata": {},
   "outputs": [],
   "source": [
    "NMAX = 60.5e6 * 0.01"
   ]
  },
  {
   "cell_type": "code",
   "execution_count": 22,
   "metadata": {},
   "outputs": [],
   "source": [
    "def fit(a, b):\n",
    "    return a * (NMAX - df_cases['N']) + b * df_cases['N'] * (NMAX - df_cases['N'])"
   ]
  },
  {
   "cell_type": "markdown",
   "metadata": {},
   "source": [
    "We define the error function (i.e. Chi Square) which return the sum of the error squared for each points:"
   ]
  },
  {
   "cell_type": "code",
   "execution_count": 23,
   "metadata": {},
   "outputs": [],
   "source": [
    "def chisquare(a, b):    \n",
    "    return (df_cases['dN'] - fit(a,b)).pow(2).sum()"
   ]
  },
  {
   "cell_type": "markdown",
   "metadata": {},
   "source": [
    "For example, the total Chi Square error for a = 0.1 and b = 0.2 is"
   ]
  },
  {
   "cell_type": "code",
   "execution_count": 24,
   "metadata": {},
   "outputs": [
    {
     "data": {
      "text/plain": [
       "3.3551355075123845e+18"
      ]
     },
     "execution_count": 24,
     "metadata": {},
     "output_type": "execute_result"
    }
   ],
   "source": [
    "chisquare(0.1, 0.2)"
   ]
  },
  {
   "cell_type": "markdown",
   "metadata": {},
   "source": [
    "We create now the minimization object m with Minuit to minimize the function `chisquare`"
   ]
  },
  {
   "cell_type": "code",
   "execution_count": 25,
   "metadata": {},
   "outputs": [],
   "source": [
    "m = Minuit(chisquare, 0.1, 0.2)"
   ]
  },
  {
   "cell_type": "markdown",
   "metadata": {},
   "source": [
    "We now execute the fit to find the best parameters describing the data:"
   ]
  },
  {
   "cell_type": "code",
   "execution_count": 26,
   "metadata": {},
   "outputs": [
    {
     "data": {
      "text/html": [
       "<table>\n",
       "    <tr>\n",
       "        <th colspan=\"5\" style=\"text-align:center\" title=\"Minimizer\"> Migrad </th>\n",
       "    </tr>\n",
       "    <tr>\n",
       "        <td colspan=\"2\" style=\"text-align:left\" title=\"Minimum value of function\"> FCN = 1.663e+05 </td>\n",
       "        <td colspan=\"3\" style=\"text-align:center\" title=\"Total number of function and (optional) gradient evaluations\"> Nfcn = 35 </td>\n",
       "    </tr>\n",
       "    <tr>\n",
       "        <td colspan=\"2\" style=\"text-align:left\" title=\"Estimated distance to minimum and goal\"> EDM = 1.15e-06 (Goal: 0.0002) </td>\n",
       "        <td colspan=\"3\" style=\"text-align:center\" title=\"Total run time of algorithms\"> time = 0.1 sec </td>\n",
       "    </tr>\n",
       "    <tr>\n",
       "        <td colspan=\"2\" style=\"text-align:center;background-color:#92CCA6;color:black\"> Valid Minimum </td>\n",
       "        <td colspan=\"3\" style=\"text-align:center;background-color:#92CCA6;color:black\"> No Parameters at limit </td>\n",
       "    </tr>\n",
       "    <tr>\n",
       "        <td colspan=\"2\" style=\"text-align:center;background-color:#92CCA6;color:black\"> Below EDM threshold (goal x 10) </td>\n",
       "        <td colspan=\"3\" style=\"text-align:center;background-color:#92CCA6;color:black\"> Below call limit </td>\n",
       "    </tr>\n",
       "    <tr>\n",
       "        <td style=\"text-align:center;background-color:#92CCA6;color:black\"> Covariance </td>\n",
       "        <td style=\"text-align:center;background-color:#92CCA6;color:black\"> Hesse ok </td>\n",
       "        <td style=\"text-align:center;background-color:#92CCA6;color:black\" title=\"Is covariance matrix accurate?\"> Accurate </td>\n",
       "        <td style=\"text-align:center;background-color:#92CCA6;color:black\" title=\"Is covariance matrix positive definite?\"> Pos. def. </td>\n",
       "        <td style=\"text-align:center;background-color:#92CCA6;color:black\" title=\"Was positive definiteness enforced by Minuit?\"> Not forced </td>\n",
       "    </tr>\n",
       "</table><table>\n",
       "    <tr>\n",
       "        <td></td>\n",
       "        <th title=\"Variable name\"> Name </th>\n",
       "        <th title=\"Value of parameter\"> Value </th>\n",
       "        <th title=\"Hesse error\"> Hesse Error </th>\n",
       "        <th title=\"Minos lower error\"> Minos Error- </th>\n",
       "        <th title=\"Minos upper error\"> Minos Error+ </th>\n",
       "        <th title=\"Lower limit of the parameter\"> Limit- </th>\n",
       "        <th title=\"Upper limit of the parameter\"> Limit+ </th>\n",
       "        <th title=\"Is the parameter fixed in the fit\"> Fixed </th>\n",
       "    </tr>\n",
       "    <tr>\n",
       "        <th> 0 </th>\n",
       "        <td> a </td>\n",
       "        <td> 58.4e-6 </td>\n",
       "        <td> 0.5e-6 </td>\n",
       "        <td>  </td>\n",
       "        <td>  </td>\n",
       "        <td>  </td>\n",
       "        <td>  </td>\n",
       "        <td>  </td>\n",
       "    </tr>\n",
       "    <tr>\n",
       "        <th> 1 </th>\n",
       "        <td> b </td>\n",
       "        <td> 323.10e-9 </td>\n",
       "        <td> 0.14e-9 </td>\n",
       "        <td>  </td>\n",
       "        <td>  </td>\n",
       "        <td>  </td>\n",
       "        <td>  </td>\n",
       "        <td>  </td>\n",
       "    </tr>\n",
       "</table><table>\n",
       "    <tr>\n",
       "        <td></td>\n",
       "        <th> a </th>\n",
       "        <th> b </th>\n",
       "    </tr>\n",
       "    <tr>\n",
       "        <th> a </th>\n",
       "        <td> 2.54e-13 </td>\n",
       "        <td style=\"background-color:rgb(165,165,250);color:black\"> -4.79e-17 <strong>(-0.656)</strong> </td>\n",
       "    </tr>\n",
       "    <tr>\n",
       "        <th> b </th>\n",
       "        <td style=\"background-color:rgb(165,165,250);color:black\"> -4.79e-17 <strong>(-0.656)</strong> </td>\n",
       "        <td> 2.09e-20 </td>\n",
       "    </tr>\n",
       "</table>"
      ],
      "text/plain": [
       "┌─────────────────────────────────────────────────────────────────────────┐\n",
       "│                                Migrad                                   │\n",
       "├──────────────────────────────────┬──────────────────────────────────────┤\n",
       "│ FCN = 1.663e+05                  │              Nfcn = 35               │\n",
       "│ EDM = 1.15e-06 (Goal: 0.0002)    │            time = 0.1 sec            │\n",
       "├──────────────────────────────────┼──────────────────────────────────────┤\n",
       "│          Valid Minimum           │        No Parameters at limit        │\n",
       "├──────────────────────────────────┼──────────────────────────────────────┤\n",
       "│ Below EDM threshold (goal x 10)  │           Below call limit           │\n",
       "├───────────────┬──────────────────┼───────────┬─────────────┬────────────┤\n",
       "│  Covariance   │     Hesse ok     │ Accurate  │  Pos. def.  │ Not forced │\n",
       "└───────────────┴──────────────────┴───────────┴─────────────┴────────────┘\n",
       "┌───┬──────┬───────────┬───────────┬────────────┬────────────┬─────────┬─────────┬───────┐\n",
       "│   │ Name │   Value   │ Hesse Err │ Minos Err- │ Minos Err+ │ Limit-  │ Limit+  │ Fixed │\n",
       "├───┼──────┼───────────┼───────────┼────────────┼────────────┼─────────┼─────────┼───────┤\n",
       "│ 0 │ a    │  58.4e-6  │  0.5e-6   │            │            │         │         │       │\n",
       "│ 1 │ b    │ 323.10e-9 │  0.14e-9  │            │            │         │         │       │\n",
       "└───┴──────┴───────────┴───────────┴────────────┴────────────┴─────────┴─────────┴───────┘\n",
       "┌───┬─────────────────────┐\n",
       "│   │         a         b │\n",
       "├───┼─────────────────────┤\n",
       "│ a │  2.54e-13 -4.79e-17 │\n",
       "│ b │ -4.79e-17  2.09e-20 │\n",
       "└───┴─────────────────────┘"
      ]
     },
     "execution_count": 26,
     "metadata": {},
     "output_type": "execute_result"
    }
   ],
   "source": [
    "m.migrad()"
   ]
  },
  {
   "cell_type": "markdown",
   "metadata": {},
   "source": [
    "### 5. Evaluation\n",
    "\n",
    "Now that we have our model with parameters, we can check the robustness of our model. We can do this multiple way. \n",
    "In cases, we have a lot of data, we can use a test sample, or cross-validate with a different time range or market.\n",
    "\n",
    "Here, with very limited number, we can do basic assessment of the error of our parameters.\n",
    "\n",
    "We can start looking at this Chi Square function as function of the parameter `a` and identify the range in which we \n",
    "can trust its value (i.e. confidence interval)."
   ]
  },
  {
   "cell_type": "code",
   "execution_count": 27,
   "metadata": {},
   "outputs": [
    {
     "data": {
      "text/plain": [
       "(array([5.74130680e-05, 5.74826299e-05, 5.75521918e-05, 5.76217537e-05,\n",
       "        5.76913155e-05, 5.77608774e-05, 5.78304393e-05, 5.79000012e-05,\n",
       "        5.79695631e-05, 5.80391250e-05, 5.81086869e-05, 5.81782488e-05,\n",
       "        5.82478107e-05, 5.83173726e-05, 5.83869345e-05, 5.84564964e-05,\n",
       "        5.85260583e-05, 5.85956202e-05, 5.86651821e-05, 5.87347440e-05,\n",
       "        5.88043059e-05, 5.88738677e-05, 5.89434296e-05, 5.90129915e-05,\n",
       "        5.90825534e-05, 5.91521153e-05, 5.92216772e-05, 5.92912391e-05,\n",
       "        5.93608010e-05, 5.94303629e-05]),\n",
       " array([166305.1182034 , 166304.5855341 , 166304.09091473, 166303.63434531,\n",
       "        166303.21582582, 166302.83535628, 166302.49293668, 166302.18856701,\n",
       "        166301.92224729, 166301.69397751, 166301.50375767, 166301.35158777,\n",
       "        166301.23746781, 166301.16139779, 166301.12337771, 166301.12340757,\n",
       "        166301.16148737, 166301.23761712, 166301.3517968 , 166301.50402642,\n",
       "        166301.69430599, 166301.92263549, 166302.18901494, 166302.49344432,\n",
       "        166302.83592365, 166303.21645292, 166303.63503213, 166304.09166127,\n",
       "        166304.58634036, 166305.11906939]))"
      ]
     },
     "execution_count": 27,
     "metadata": {},
     "output_type": "execute_result"
    },
    {
     "data": {
      "image/png": "[encoded data removed]",
      "text/plain": [
       "<Figure size 432x288 with 1 Axes>"
      ]
     },
     "metadata": {
      "needs_background": "light"
     },
     "output_type": "display_data"
    }
   ],
   "source": [
    "m.draw_mnprofile(\"a\")"
   ]
  },
  {
   "cell_type": "markdown",
   "metadata": {},
   "source": [
    "Ballpark, the best value from the data is 6.15e-7, but there is 68% chance that the value is between 6.1e-7 and 6.2e-7.\n",
    "\n",
    "We can check now the parameter `b`:"
   ]
  },
  {
   "cell_type": "code",
   "execution_count": 28,
   "metadata": {},
   "outputs": [
    {
     "data": {
      "text/plain": [
       "(array([3.22806562e-07, 3.22826518e-07, 3.22846473e-07, 3.22866429e-07,\n",
       "        3.22886384e-07, 3.22906340e-07, 3.22926295e-07, 3.22946251e-07,\n",
       "        3.22966206e-07, 3.22986162e-07, 3.23006117e-07, 3.23026072e-07,\n",
       "        3.23046028e-07, 3.23065983e-07, 3.23085939e-07, 3.23105894e-07,\n",
       "        3.23125850e-07, 3.23145805e-07, 3.23165761e-07, 3.23185716e-07,\n",
       "        3.23205672e-07, 3.23225627e-07, 3.23245582e-07, 3.23265538e-07,\n",
       "        3.23285493e-07, 3.23305449e-07, 3.23325404e-07, 3.23345360e-07,\n",
       "        3.23365315e-07, 3.23385271e-07]),\n",
       " array([166305.11569611, 166304.58319975, 166304.08875334, 166303.63235687,\n",
       "        166303.21401034, 166302.83371375, 166302.4914671 , 166302.18727039,\n",
       "        166301.92112362, 166301.69302679, 166301.50297991, 166301.35098296,\n",
       "        166301.23703595, 166301.16113889, 166301.12329176, 166301.12349458,\n",
       "        166301.16174733, 166301.23805003, 166301.35240267, 166301.50480524,\n",
       "        166301.69525776, 166301.92376022, 166302.19031262, 166302.49491496,\n",
       "        166302.83756724, 166303.21826946, 166303.63702162, 166304.09382372,\n",
       "        166304.58867576, 166305.12157775]))"
      ]
     },
     "execution_count": 28,
     "metadata": {},
     "output_type": "execute_result"
    },
    {
     "data": {
      "image/png": "[encoded data removed]",
      "text/plain": [
       "<Figure size 432x288 with 1 Axes>"
      ]
     },
     "metadata": {
      "needs_background": "light"
     },
     "output_type": "display_data"
    }
   ],
   "source": [
    "m.draw_mnprofile(\"b\")"
   ]
  },
  {
   "cell_type": "markdown",
   "metadata": {},
   "source": [
    "Here the best value is 3.1885E-9, but there is 68% chance that the value is between 3.187e-9 and 3.190e-9.\n",
    "\n",
    "We can check the dependency between the two variables:"
   ]
  },
  {
   "cell_type": "code",
   "execution_count": 29,
   "metadata": {},
   "outputs": [
    {
     "data": {
      "text/plain": [
       "<matplotlib.contour.ContourSet at 0x7f91fcbe77c0>"
      ]
     },
     "execution_count": 29,
     "metadata": {},
     "output_type": "execute_result"
    },
    {
     "data": {
      "image/png": "[encoded data removed]",
      "text/plain": [
       "<Figure size 432x288 with 1 Axes>"
      ]
     },
     "metadata": {
      "needs_background": "light"
     },
     "output_type": "display_data"
    }
   ],
   "source": [
    "m.draw_mncontour(\"a\",\"b\", cl = [0.680, 0.950])"
   ]
  },
  {
   "cell_type": "markdown",
   "metadata": {},
   "source": [
    "Here, the black ellipse represent the range we just identified at 68% confidence interval. The red ellipse is at 95% confidence interval.\n",
    "\n",
    "Let's now apply those fitted value to see the result in a chart:"
   ]
  },
  {
   "cell_type": "code",
   "execution_count": 30,
   "metadata": {},
   "outputs": [],
   "source": [
    "a=m.values[\"a\"]\n",
    "b=m.values[\"b\"]"
   ]
  },
  {
   "cell_type": "code",
   "execution_count": 31,
   "metadata": {},
   "outputs": [],
   "source": [
    "df_cases['fit'] = a * (NMAX - df_cases['N']) + b * df_cases['N'] * (NMAX - df_cases['N'])"
   ]
  },
  {
   "cell_type": "code",
   "execution_count": 32,
   "metadata": {},
   "outputs": [
    {
     "data": {
      "text/plain": [
       "<AxesSubplot:xlabel='N'>"
      ]
     },
     "execution_count": 32,
     "metadata": {},
     "output_type": "execute_result"
    },
    {
     "data": {
      "image/png": "[encoded data removed]",
      "text/plain": [
       "<Figure size 432x288 with 1 Axes>"
      ]
     },
     "metadata": {
      "needs_background": "light"
     },
     "output_type": "display_data"
    }
   ],
   "source": [
    "df_cases.plot('N',['dN','fit'],style=['o','-'])"
   ]
  },
  {
   "cell_type": "markdown",
   "metadata": {},
   "source": [
    "### 6. Deployment\n",
    "Deployment is about using the insights we found to do something differently. It can be a single event or a repetitive tasks. \n",
    "\n",
    "Let's start with the simpler case. For one off case such as here, we would just extrapolate the insights into the answer we are looking for: what is the maximum daily new cases we can have in Italy."
   ]
  },
  {
   "cell_type": "code",
   "execution_count": 33,
   "metadata": {},
   "outputs": [],
   "source": [
    "xx=np.arange(0,NMAX*0.55,NMAX/1000)"
   ]
  },
  {
   "cell_type": "code",
   "execution_count": 34,
   "metadata": {},
   "outputs": [],
   "source": [
    "yy = a * (NMAX - xx) + b * xx * (NMAX - xx)"
   ]
  },
  {
   "cell_type": "code",
   "execution_count": 35,
   "metadata": {},
   "outputs": [
    {
     "data": {
      "text/plain": [
       "[<matplotlib.lines.Line2D at 0x7f91fcad6af0>,\n",
       " <matplotlib.lines.Line2D at 0x7f91fcad6b20>]"
      ]
     },
     "execution_count": 35,
     "metadata": {},
     "output_type": "execute_result"
    },
    {
     "data": {
      "image/png": "[encoded data removed]",
      "text/plain": [
       "<Figure size 432x288 with 1 Axes>"
      ]
     },
     "metadata": {
      "needs_background": "light"
     },
     "output_type": "display_data"
    }
   ],
   "source": [
    "plt.plot(df_cases['N'], df_cases['dN'], '^', xx, yy, '-')"
   ]
  },
  {
   "cell_type": "markdown",
   "metadata": {},
   "source": [
    "Assuming all our assumptions are correct (which they are likely not), this means that at the peak of the epidemic in Italy, we could see 30,000 new cases per day."
   ]
  },
  {
   "cell_type": "markdown",
   "metadata": {},
   "source": [
    "For repetitive tasks, we will need to automate the analysis and the deployment of the insights. \n",
    "So, we can start by developing one Python script with only the necessary steps, as well as input parameter to collect \n",
    "the relevant date of report, country, assumptiong, etc.\n",
    "\n",
    "Here is an example of a covid19.py script:\n",
    "\n",
    "```python\n",
    "#!//usr/bin/python3\n",
    "import sys\n",
    "import pandas as pd\n",
    "from iminuit import Minuit, describe\n",
    "import numpy as np\n",
    "\n",
    "# Get Report Date from command line\n",
    "if len(sys.argv) != 3:\n",
    "        print('Usage: covid19.py [date] [country]')\n",
    "        sys.exit(1)\n",
    "rep_date = sys.argv[1]\n",
    "country = sys.argv[2]\n",
    "\n",
    "# Import data locally\n",
    "data_url = \"https://www.ecdc.europa.eu/sites/default/files/documents/COVID-19-geographic-disbtribution-worldwide-\" + rep_date + \".xls\"\n",
    "df = pd.read_excel(data_url)\n",
    "\n",
    "# Filter data\n",
    "df = df[df['CountryExp']==country]\n",
    "df = df[df['NewConfCases']>0]\n",
    "df = df.sort_values(by=['DateRep'])\n",
    "df[\"CumulConfCases\"] = df[\"NewConfCases\"].cumsum()\n",
    "df[\"CumulDeaths\"] = df[\"NewDeaths\"].cumsum()\n",
    "df = df.filter(items=['DateRep', 'NewConfCases','CumulConfCases']). \\\n",
    "    rename(columns={\"DateRep\": \"T\", \"NewConfCases\": \"dN\", \"CumulConfCases\": \"N\"}). \\\n",
    "    set_index('T')\n",
    "\n",
    "# Prepare model fit\n",
    "NMAX = 60.5e6 * 0.01\n",
    "x = df['N']\n",
    "y = df['dN']\n",
    "\n",
    "def fit(a, b):\n",
    "    return a * (NMAX - x) + b * x * (NMAX - x)\n",
    "def chisquare(a, b):\n",
    "    return (y - fit(a,b)).pow(2).sum()\n",
    "\n",
    "# Execute the fit\n",
    "m = Minuit(chisquare, print_level=0, pedantic=False)\n",
    "m.migrad()\n",
    "a=m.values[\"a\"]\n",
    "b=m.values[\"b\"]\n",
    "xx=np.arange(0,NMAX,NMAX/100)\n",
    "yy = a * (NMAX - xx) + b * xx * (NMAX - xx)\n",
    "print(\"Max:\",max(yy))\n",
    "```"
   ]
  },
  {
   "cell_type": "markdown",
   "metadata": {},
   "source": [
    "Running ```./covid19.py 2020-03-10 Italy``` will give ```Max: 29582.958532824043```.\n",
    "\n",
    "Whereas ```./covid19.py 2020-03-08 Italy``` will give ```Max: 29105.409956316485```."
   ]
  },
  {
   "cell_type": "markdown",
   "metadata": {},
   "source": [
    "With this script doing the work, we would need to deploy it on a production system, for example a Docker image in AppCenter, AWS EC2, or\n",
    "other Google GCE. Then set up a scheduler to refresh the analysis, a monitoring to alert when there is an error, and finally \n",
    "integrate in the operation. What will you do with this data? Maybe here an automated email to the secretary of health in Italy with the forecast of the worst to come?\n",
    "\n",
    "And you, what do you think? What would you do?"
   ]
  },
  {
   "cell_type": "markdown",
   "metadata": {},
   "source": [
    "<footer style=\"padding:10px;background:#f9f9f9;border-bottom:3px solid #394851\">©2020 Teradata. All Rights Reserved</footer>"
   ]
  }
 ],
 "metadata": {
  "kernelspec": {
   "display_name": "Python 3",
   "language": "python",
   "name": "python3"
  },
  "language_info": {
   "codemirror_mode": {
    "name": "ipython",
    "version": 3
   },
   "file_extension": ".py",
   "mimetype": "text/x-python",
   "name": "python",
   "nbconvert_exporter": "python",
   "pygments_lexer": "ipython3",
   "version": "3.8.8"
  }
 },
 "nbformat": 4,
 "nbformat_minor": 4
}
