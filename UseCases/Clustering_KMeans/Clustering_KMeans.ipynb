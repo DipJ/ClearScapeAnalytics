{
 "cells": [
  {
   "cell_type": "markdown",
   "id": "221b5b2a",
   "metadata": {},
   "source": [
    "<header style=\"padding:10px;background:#f9f9f9;border-top:3px solid #00b2b1\"><img id=\"Teradata-logo\" src=\"https://www.teradata.com/Teradata/Images/Rebrand/Teradata_logo-two_color.png\" alt=\"Teradata\" width=\"220\" align=\"right\" />\n",
    "\n",
    "<p style = 'font-size:28px;font-family:Arial;color:#E37C4D'><b>Customer Segmentation with K-means Clustering and Data Preparation Piplelines</b></p>\n",
    "</header>\n",
    "<hr>\n"
   ]
  },
  {
   "cell_type": "markdown",
   "id": "7f6fb360",
   "metadata": {},
   "source": [
    "<br>\n",
    "\n",
    "<b style = 'font-size:24px;font-family:Arial;color:#E37C4D'>Leverage native Vantage processing for efficient and highly scalable data preparation, model training, and evaluation workflows</b>\n",
    "\n",
    "<p style = 'font-size:16px;font-family:Arial'>K-means clustering is one of the most popular <b>unsupervised</b> machine learning algorithms.  Essentially, the algorithm seeks to group similar data points together by minimizing the average (\"means\" in K-means) distance for all data points from each cluster's center (centroid).</p>\n",
    "\n",
    "<table style = 'width:100%;table-layout:fixed;'>\n",
    "    <tr>\n",
    "        <td style = 'vertical-align:top' width = '50%'>\n",
    "            <ol style = 'font-size:16px;font-family:Arial'>\n",
    "                <li>Define the number of clusters (k)</li>\n",
    "                <br>\n",
    "                <li>The algorithm chooses random points as centroids</li>\n",
    "                <br>\n",
    "                <li>Each iteration attempts to optimize the centroid locations</li>\n",
    "                <br>\n",
    "                <li>Iterations end once the distances have stabilized or the max iteration count is reached</li>\n",
    "            </ol>\n",
    "        </td>\n",
    "        <td><img src = 'images/K-means_convergence.gif' width = '250'></td>\n",
    "    </tr>\n",
    "</table>\n",
    "\n",
    "<p style = 'font-size:16px;font-family:Arial'>One limitation of this algorithm is that it only accepts numeric data as feature input (categorical clustering can be performed using K-modes algorithm).  Typically, data engineers or data scientists will perform multiple <b>serial</b> steps to prepare a numeric-only data set that can be passed to the K-means algorithm.</p>\n",
    "\n",
    "<p style = 'font-size:16px;font-family:Arial'>Vantage provides native \"Fit and Transform\" functions to assist in data preparation and transformation at scale.  To aid in efficiency and operationalization, Vantage provides a bulk <b>Column Transformer</b> function which can take multiple transformation directives at the same time, and act on the whole data set at once.  This allows for both process and code simplifcation, allowing more streamlined and robust operational deployment.</p> \n",
    "\n",
    "<img src = 'Flow_Diagram_KMeans.png' width = 100%>\n",
    "<hr>"
   ]
  },
  {
   "cell_type": "markdown",
   "id": "4e9acd56",
   "metadata": {},
   "source": [
    "<b style = 'font-size:24px;font-family:Arial;color:#E37C4D'>Live Demonstration</b>\n",
    "\n",
    "<p style = 'font-size:16px;font-family:Arial'>The data for this demonstration is based on online purchase history data set, which can be found <a href = 'https://www.kaggle.com/code/hellbuoy/online-retail-k-means-hierarchical-clustering/data'>here</a>.  The goal is to segment the customers by purchase volume and value.  Steps are as follow:</p>\n",
    "\n",
    "<table style = 'width:100%;table-layout:fixed;'>\n",
    "    <tr>\n",
    "        <td style = 'vertical-align:top' width = '50%'>\n",
    "            <ol style = 'font-size:16px;font-family:Arial'>\n",
    "                <li>Analyze the raw data, split a testing set</li>\n",
    "                <br>\n",
    "                <li>Engineer numeric features</li>\n",
    "                <br>\n",
    "                <li>Build the K-means model</li>\n",
    "                <br>\n",
    "                <li>Apply in-line transformation to the testing set</li>\n",
    "                <br>\n",
    "                <li>Make Predictions and evaluate model accuracy</li>\n",
    "            </ol>\n",
    "        </td>\n",
    "        <td><img src = 'images/clustering_img.png' width = '250'></td>\n",
    "    </tr>\n",
    "</table>"
   ]
  },
  {
   "cell_type": "markdown",
   "id": "aba72fbc-1d3d-4bed-a5f6-5a721972bc73",
   "metadata": {},
   "source": [
    "<p style = 'font-size:28px;font-family:Arial;color:#E37C4D'><b>1. Connect to Vantage and explore the dataset</b></p>\n",
    "<p style = 'font-size:18px;font-family:Arial;color:#E37C4D'> <b>Let's start by connecting to the Teradata system </b></p>\n",
    "<p style = 'font-size:16px;font-family:Arial'>You will be prompted to provide the password. Enter your password, press Enter, then use down arrow to go to next cell.</p>"
   ]
  },
  {
   "cell_type": "code",
   "execution_count": 2,
   "id": "e19a97de-4dce-4711-97e9-6a1d7c1d877d",
   "metadata": {},
   "outputs": [
    {
     "name": "stdin",
     "output_type": "stream",
     "text": [
      "Password: ········\n"
     ]
    },
    {
     "name": "stdout",
     "output_type": "stream",
     "text": [
      "Success: 'local' connection established and activated for user 'demo_user', with default database 'demo_user'\n"
     ]
    }
   ],
   "source": [
    "%connect local, hidewarnings=true"
   ]
  },
  {
   "cell_type": "markdown",
   "id": "6920942e-8c65-48e9-ac0e-7963a14bda72",
   "metadata": {},
   "source": [
    "<p style = 'font-size:16px;font-family:Arial'>Setup for execution of notebook. Begin running steps with Shift + Enter keys.</p>"
   ]
  },
  {
   "cell_type": "code",
   "execution_count": 3,
   "id": "424ff7ce-3eed-4736-a8d1-32bbda29a1ac",
   "metadata": {},
   "outputs": [
    {
     "data": {
      "text/plain": [
       "Success: 1 rows affected"
      ]
     },
     "execution_count": 3,
     "metadata": {
      "application/vnd.teradata.resultset": ""
     },
     "output_type": "execute_result"
    }
   ],
   "source": [
    "Set query_band='DEMO=Clustering_KMeans.ipynb;' update for session;"
   ]
  },
  {
   "cell_type": "markdown",
   "id": "0cbb88de-754c-4963-b9ad-4dd7a6669b11",
   "metadata": {},
   "source": [
    "<p style = 'font-size:18px;font-family:Arial;color:#E37C4D'> <b>Getting Data for This Demo</b></p>\n",
    "<p style = 'font-size:16px;font-family:Arial'>We have provided data for this demo on cloud storage. In this demo since we are using Temporal table we will be creating databases and tables in local storage and use them in the notebook. Please execute the procedure in the next cell.</p>"
   ]
  },
  {
   "cell_type": "code",
   "execution_count": 5,
   "id": "4ab0ff68-5c8e-4b2f-b9f7-65d02dc44c5a",
   "metadata": {},
   "outputs": [
    {
     "data": {
      "text/plain": [
       "Success: 0 rows affected"
      ]
     },
     "execution_count": 5,
     "metadata": {
      "application/vnd.teradata.resultset": ""
     },
     "output_type": "execute_result"
    },
    {
     "data": {
      "text/plain": [
       "Success: 0 rows affected"
      ]
     },
     "execution_count": 5,
     "metadata": {
      "application/vnd.teradata.resultset": ""
     },
     "output_type": "execute_result"
    },
    {
     "data": {
      "application/vnd.teradata.resultset": "\"Message\"\n\"That ran for   0:00:27.89 with 20 statements and 4 errors. \"",
      "text/html": [
       "<div class = \"td-resultset-table-div\" style = \"max-height: 100%; overflow-y: auto\">\n",
       "      <table class=\"tdhistory413684\"><style>\n",
       "      table.tdhistory413684 { display: block !important; min-height: 105px !important; overflow: auto !important; height: 105px !important; width: 100% !important; border: 1px solid rgb(207, 207, 207) !important; border-collapse: collapse !important; ; color: var(--jp-ui-font-color1) !important; }\n",
       "      th.tdhistory413684 { border: 1px solid rgb(198,198,198) !important; border-collapse: collapse !important; ; padding: 2px 5px !important; ; font-size: 13px !important; ; text-align: center !important; white-space: normal !important; color: var(--jp-ui-font-color1) !important; }\n",
       "      th.tdhistory413684:last-child { text-align: left !important; }\n",
       "      tbody.tdhistory413684 tr:nth-child(even) { background: rgba(243, 243, 243, 0.75) !important; }\n",
       "      tbody.tdhistory413684 tr:nth-child(odd) { background: var(--jp-ui-inverse-font-color1) !important; }\n",
       "      td.tdhistory413684 { border: 1px solid rgb(207, 207, 207) !important; border-collapse: collapse !important; ; padding: 2px 5px !important; ; font-size: 13px !important; ; text-align: left !important;          white-space: nowrap !important; overflow:hidden !important; text-overflow:ellipsis !important;; }\n",
       "    </style><thead><tr style= \"background: rgba(243, 243, 243, 0.75)\"><th class=\"tdhistory413684\"></th><th class=\"tdhistory413684\">Message</th></tr></thead><tbody class=\"tdhistory413684 resultset-body\"><tr><th class=\"tdhistory413684\" style= \"background: rgba(243, 243, 243, 0.75)\">1</th><td class=\"tdhistory413684\">That ran for   0:00:27.89 with 20 statements and 4 errors. </td></tr></tbody></table></div>"
      ]
     },
     "execution_count": 5,
     "metadata": {
      "application/vnd.teradata.resultset": "{\"resultSetID\":\"/home/jovyan/JupyterLabRoot/Teradata/Resultsets/2023.01.24_13.17.25.972_UTC\",\"historyID\":81,\"chunkID\":\"00001\",\"sessionid\":\"\",\"portnum\":\"\",\"dockermode\":\"docker\",\"totalRowCount\":1,\"chunkCount\":0,\"rowLimit\":0,\"columnMetadata\":[{\"columnName\":\"Message\",\"columnTypeName\":\"VARCHAR\",\"length\":150,\"scale\":150}]}"
     },
     "output_type": "execute_result"
    }
   ],
   "source": [
    "--call get_data('DEMO_Retail_cloud');    -- takes about 20 seconds, estimated space: 0 MB\n",
    "call get_data('DEMO_Retail_local');     -- takes about 35 seconds, estimated space: 11 MB"
   ]
  },
  {
   "cell_type": "markdown",
   "id": "753d6dfc-37a2-4bda-9ad9-dfce9571c67c",
   "metadata": {},
   "source": [
    "<p style = 'font-size:16px;font-family:Arial'>Optional step – if you want to see status of databases/tables created and space used.</p>"
   ]
  },
  {
   "cell_type": "code",
   "execution_count": 6,
   "id": "6ac90548-e904-49da-a8a6-769170ddefd5",
   "metadata": {},
   "outputs": [
    {
     "data": {
      "text/plain": [
       "Success: 0 rows affected"
      ]
     },
     "execution_count": 6,
     "metadata": {
      "application/vnd.teradata.resultset": ""
     },
     "output_type": "execute_result"
    },
    {
     "data": {
      "text/plain": [
       "Success: 0 rows affected"
      ]
     },
     "execution_count": 6,
     "metadata": {
      "application/vnd.teradata.resultset": ""
     },
     "output_type": "execute_result"
    },
    {
     "data": {
      "application/vnd.teradata.resultset": "\"Space_Report\"\n\"You have:  #databases=3 #tables=2 #views=8  You have used 23.7 MB of 30,851.3 MB available - 0.1%  ... Space Usage OK\"\n\" \"\n\"   Database Name                  #tables  #views     Avail MB      Used MB\"\n\"   demo_user                            0       4  30,815.4 MB       0.7 MB \"\n\"   DEMO_CreditCard                      0       1       0.0 MB       0.0 MB \"\n\"   DEMO_Retail                          0       3       0.0 MB       0.0 MB \"\n\"   DEMO_Retail_db                       2       0      35.9 MB      23.0 MB \"",
      "text/html": [
       "<div class = \"td-resultset-table-div\" style = \"max-height: 100%; overflow-y: auto\">\n",
       "      <table class=\"tdhistory690892\"><style>\n",
       "      table.tdhistory690892 { display: block !important; min-height: 231px !important; overflow: auto !important; height: 231px !important; width: 100% !important; border: 1px solid rgb(207, 207, 207) !important; border-collapse: collapse !important; ; color: var(--jp-ui-font-color1) !important; }\n",
       "      th.tdhistory690892 { border: 1px solid rgb(198,198,198) !important; border-collapse: collapse !important; ; padding: 2px 5px !important; ; font-size: 13px !important; ; text-align: center !important; white-space: normal !important; color: var(--jp-ui-font-color1) !important; }\n",
       "      th.tdhistory690892:last-child { text-align: left !important; }\n",
       "      tbody.tdhistory690892 tr:nth-child(even) { background: rgba(243, 243, 243, 0.75) !important; }\n",
       "      tbody.tdhistory690892 tr:nth-child(odd) { background: var(--jp-ui-inverse-font-color1) !important; }\n",
       "      td.tdhistory690892 { border: 1px solid rgb(207, 207, 207) !important; border-collapse: collapse !important; ; padding: 2px 5px !important; ; font-size: 13px !important; ; text-align: left !important;          white-space: nowrap !important; overflow:hidden !important; text-overflow:ellipsis !important;; }\n",
       "    </style><thead><tr style= \"background: rgba(243, 243, 243, 0.75)\"><th class=\"tdhistory690892\"></th><th class=\"tdhistory690892\">Space_Report</th></tr></thead><tbody class=\"tdhistory690892 resultset-body\"><tr><th class=\"tdhistory690892\" style= \"background: rgba(243, 243, 243, 0.75)\">1</th><td class=\"tdhistory690892\">You have:  #databases=3 #tables=2 #views=8  You have used 23.7 MB of 30,851.3 MB available - 0.1%  ... Space Usage OK</td></tr><tr><th class=\"tdhistory690892\" style= \"background: rgba(243, 243, 243, 0.75)\">2</th><td class=\"tdhistory690892\"> </td></tr><tr><th class=\"tdhistory690892\" style= \"background: rgba(243, 243, 243, 0.75)\">3</th><td class=\"tdhistory690892\">   Database Name                  #tables  #views     Avail MB      Used MB</td></tr><tr><th class=\"tdhistory690892\" style= \"background: rgba(243, 243, 243, 0.75)\">4</th><td class=\"tdhistory690892\">   demo_user                            0       4  30,815.4 MB       0.7 MB </td></tr><tr><th class=\"tdhistory690892\" style= \"background: rgba(243, 243, 243, 0.75)\">5</th><td class=\"tdhistory690892\">   DEMO_CreditCard                      0       1       0.0 MB       0.0 MB </td></tr><tr><th class=\"tdhistory690892\" style= \"background: rgba(243, 243, 243, 0.75)\">6</th><td class=\"tdhistory690892\">   DEMO_Retail                          0       3       0.0 MB       0.0 MB </td></tr><tr><th class=\"tdhistory690892\" style= \"background: rgba(243, 243, 243, 0.75)\">7</th><td class=\"tdhistory690892\">   DEMO_Retail_db                       2       0      35.9 MB      23.0 MB </td></tr></tbody></table></div>"
      ]
     },
     "execution_count": 6,
     "metadata": {
      "application/vnd.teradata.resultset": "{\"resultSetID\":\"/home/jovyan/JupyterLabRoot/Teradata/Resultsets/2023.01.24_13.18.16.086_UTC\",\"historyID\":82,\"chunkID\":\"00001\",\"sessionid\":\"\",\"portnum\":\"\",\"dockermode\":\"docker\",\"totalRowCount\":7,\"chunkCount\":0,\"rowLimit\":0,\"columnMetadata\":[{\"columnName\":\"Space_Report\",\"columnTypeName\":\"VARCHAR\",\"length\":150,\"scale\":150}]}"
     },
     "output_type": "execute_result"
    }
   ],
   "source": [
    "call space_report();  -- optional, takes about 10 seconds"
   ]
  },
  {
   "cell_type": "markdown",
   "id": "ec3cda83-bf40-42af-a1f8-a6102935c8bc",
   "metadata": {},
   "source": [
    "<p style = 'font-size:18px;font-family:Arial;color:#E37C4D'> <b> Access data in Vantage  </b> </p>\n",
    "<p style = 'font-size:16px;font-family:Arial'>For this demo, data is already resident in Object Storage which we are accessing via ReadNOS, create a reference to the table, and sample the contents using the get_data procedure used above.  Data could just as easily reside in permanent tables, another RDBMS, or another Vantage system.</p>"
   ]
  },
  {
   "cell_type": "code",
   "execution_count": 7,
   "id": "affb5a16-aaa0-45e7-8069-3619291bd1c5",
   "metadata": {},
   "outputs": [
    {
     "data": {
      "application/vnd.teradata.resultset": "\"InvoiceNo\",\"StockCode\",\"Description\",\"Quantity\",\"InvoiceDate\",\"UnitPrice\",\"CustomerID\",\"Country\"\n\"571067\",\"22952\",\"60 CAKE CASES VINTAGE CHRISTMAS\",\"24\",\"2011-10-13 15:08:00.000000\",\"0.55\",\"16793\",\"United Kingdom\"\n\"543476\",\"22984\",\"CARD GINGHAM ROSE \",\"12\",\"2011-08-02 15:24:00.000000\",\"0.42\",\"13050\",\"United Kingdom\"\n\"543476\",\"22441\",\"GROW YOUR OWN BASIL IN ENAMEL MUG\",\"8\",\"2011-08-02 15:24:00.000000\",\"2.1\",\"13050\",\"United Kingdom\"\n\"579558\",\"21175\",\"GIN AND TONIC DIET METAL SIGN\",\"12\",\"2011-11-30 11:24:00.000000\",\"2.55\",\"14755\",\"United Kingdom\"\n\"579558\",\"23298\",\"SPOTTY BUNTING\",\"3\",\"2011-11-30 11:24:00.000000\",\"4.95\",\"14755\",\"United Kingdom\"",
      "text/html": [
       "<div class = \"td-resultset-table-div\" style = \"max-height: 100%; overflow-y: auto\">\n",
       "      <table class=\"tdhistory632899\"><style>\n",
       "      table.tdhistory632899 { display: block !important; min-height: 189px !important; overflow: auto !important; height: 189px !important; width: 100% !important; border: 1px solid rgb(207, 207, 207) !important; border-collapse: collapse !important; ; color: var(--jp-ui-font-color1) !important; }\n",
       "      th.tdhistory632899 { border: 1px solid rgb(198,198,198) !important; border-collapse: collapse !important; ; padding: 2px 5px !important; ; font-size: 13px !important; ; text-align: center !important; white-space: normal !important; color: var(--jp-ui-font-color1) !important; }\n",
       "      th.tdhistory632899:last-child { text-align: left !important; }\n",
       "      tbody.tdhistory632899 tr:nth-child(even) { background: rgba(243, 243, 243, 0.75) !important; }\n",
       "      tbody.tdhistory632899 tr:nth-child(odd) { background: var(--jp-ui-inverse-font-color1) !important; }\n",
       "      td.tdhistory632899 { border: 1px solid rgb(207, 207, 207) !important; border-collapse: collapse !important; ; padding: 2px 5px !important; ; font-size: 13px !important; ; text-align: left !important;          white-space: nowrap !important; overflow:hidden !important; text-overflow:ellipsis !important;; }\n",
       "    </style><thead><tr style= \"background: rgba(243, 243, 243, 0.75)\"><th class=\"tdhistory632899\"></th><th class=\"tdhistory632899\">InvoiceNo</th><th class=\"tdhistory632899\">StockCode</th><th class=\"tdhistory632899\">Description</th><th class=\"tdhistory632899\">Quantity</th><th class=\"tdhistory632899\">InvoiceDate</th><th class=\"tdhistory632899\">UnitPrice</th><th class=\"tdhistory632899\">CustomerID</th><th class=\"tdhistory632899\">Country</th></tr></thead><tbody class=\"tdhistory632899 resultset-body\"><tr><th class=\"tdhistory632899\" style= \"background: rgba(243, 243, 243, 0.75)\">1</th><td class=\"tdhistory632899\">571067</td><td class=\"tdhistory632899\">22952</td><td class=\"tdhistory632899\">60 CAKE CASES VINTAGE CHRISTMAS</td><td class=\"tdhistory632899\">24</td><td class=\"tdhistory632899\">2011-10-13 15:08:00.000000</td><td class=\"tdhistory632899\">0.55</td><td class=\"tdhistory632899\">16793</td><td class=\"tdhistory632899\">United Kingdom</td></tr><tr><th class=\"tdhistory632899\" style= \"background: rgba(243, 243, 243, 0.75)\">2</th><td class=\"tdhistory632899\">543476</td><td class=\"tdhistory632899\">22984</td><td class=\"tdhistory632899\">CARD GINGHAM ROSE </td><td class=\"tdhistory632899\">12</td><td class=\"tdhistory632899\">2011-08-02 15:24:00.000000</td><td class=\"tdhistory632899\">0.42</td><td class=\"tdhistory632899\">13050</td><td class=\"tdhistory632899\">United Kingdom</td></tr><tr><th class=\"tdhistory632899\" style= \"background: rgba(243, 243, 243, 0.75)\">3</th><td class=\"tdhistory632899\">543476</td><td class=\"tdhistory632899\">22441</td><td class=\"tdhistory632899\">GROW YOUR OWN BASIL IN ENAMEL MUG</td><td class=\"tdhistory632899\">8</td><td class=\"tdhistory632899\">2011-08-02 15:24:00.000000</td><td class=\"tdhistory632899\">2.1</td><td class=\"tdhistory632899\">13050</td><td class=\"tdhistory632899\">United Kingdom</td></tr><tr><th class=\"tdhistory632899\" style= \"background: rgba(243, 243, 243, 0.75)\">4</th><td class=\"tdhistory632899\">579558</td><td class=\"tdhistory632899\">21175</td><td class=\"tdhistory632899\">GIN AND TONIC DIET METAL SIGN</td><td class=\"tdhistory632899\">12</td><td class=\"tdhistory632899\">2011-11-30 11:24:00.000000</td><td class=\"tdhistory632899\">2.55</td><td class=\"tdhistory632899\">14755</td><td class=\"tdhistory632899\">United Kingdom</td></tr><tr><th class=\"tdhistory632899\" style= \"background: rgba(243, 243, 243, 0.75)\">5</th><td class=\"tdhistory632899\">579558</td><td class=\"tdhistory632899\">23298</td><td class=\"tdhistory632899\">SPOTTY BUNTING</td><td class=\"tdhistory632899\">3</td><td class=\"tdhistory632899\">2011-11-30 11:24:00.000000</td><td class=\"tdhistory632899\">4.95</td><td class=\"tdhistory632899\">14755</td><td class=\"tdhistory632899\">United Kingdom</td></tr></tbody></table></div>"
      ]
     },
     "execution_count": 7,
     "metadata": {
      "application/vnd.teradata.resultset": "{\"resultSetID\":\"/home/jovyan/JupyterLabRoot/Teradata/Resultsets/2023.01.24_13.18.39.201_UTC\",\"historyID\":83,\"chunkID\":\"00001\",\"sessionid\":\"\",\"portnum\":\"\",\"dockermode\":\"docker\",\"totalRowCount\":5,\"chunkCount\":0,\"rowLimit\":0,\"columnMetadata\":[{\"columnName\":\"InvoiceNo\",\"columnTypeName\":\"VARCHAR\",\"length\":10,\"scale\":10},{\"columnNumber\":1,\"columnName\":\"StockCode\",\"columnTypeName\":\"VARCHAR\",\"length\":10,\"scale\":10},{\"columnNumber\":2,\"columnName\":\"Description\",\"columnTypeName\":\"VARCHAR\",\"length\":1024,\"scale\":1024},{\"columnNumber\":3,\"columnName\":\"Quantity\",\"columnTypeName\":\"BIGINT\"},{\"columnNumber\":4,\"columnName\":\"InvoiceDate\",\"columnTypeName\":\"TIMESTAMP\",\"length\":6,\"scale\":6},{\"columnNumber\":5,\"columnName\":\"UnitPrice\",\"columnTypeName\":\"FLOAT\"},{\"columnNumber\":6,\"columnName\":\"CustomerID\",\"columnTypeName\":\"FLOAT\"},{\"columnNumber\":7,\"columnName\":\"Country\",\"columnTypeName\":\"VARCHAR\",\"length\":1024,\"scale\":1024}]}"
     },
     "output_type": "execute_result"
    }
   ],
   "source": [
    "SELECT TOP 5 * FROM DEMO_Retail.UK_Retail_Data;"
   ]
  },
  {
   "cell_type": "markdown",
   "id": "83435d46",
   "metadata": {},
   "source": [
    "<hr>\n",
    "<p style = 'font-size:20px;font-family:Arial;color:#E37C4D'><b>Step 1 - Data Preparation</b></p>\n",
    "\n",
    "<p style = 'font-size:16px;font-family:Arial'>Here, we will inspect the original data set, and perform various preparation tasks.</p>\n",
    "\n",
    "<ol style = 'font-size:16px;font-family:Arial'>\n",
    "    <li>Inspect the rows of the table</li>\n",
    "    <li>Inspect the column metadata using <a href = 'https://docs-dev.teradata.com/r/Teradata-VantageTM-Advanced-SQL-Engine-Analytic-Functions/June-2022/Data-Exploration-Functions/TD_ColumnSummary'>TD_ColumnSummary</a></li>\n",
    "    <li>Split off a testing data set to be used in evaluation</li>\n",
    "    </ol>\n",
    "    \n",
    "<p style = 'font-size:16px;font-family:Arial'>Replace the following with a valid connection name:</p>"
   ]
  },
  {
   "cell_type": "markdown",
   "id": "079a8f67",
   "metadata": {},
   "source": [
    "<hr>\n",
    "<p style = 'font-size:18px;font-family:Arial;color:#E37C4D'>1.1 - Inspect the Data</p>\n",
    "\n",
    "<p style = 'font-size:16px;font-family:Arial'>Simple SQL query to show the data</p>"
   ]
  },
  {
   "cell_type": "code",
   "execution_count": null,
   "id": "11d83bef",
   "metadata": {},
   "outputs": [],
   "source": [
    "SELECT TOP 5 * FROM DEMO_Retail.UK_Retail_Data;"
   ]
  },
  {
   "cell_type": "markdown",
   "id": "dd822590",
   "metadata": {},
   "source": [
    "<hr>\n",
    "<p style = 'font-size:18px;font-family:Arial;color:#E37C4D'>1.2 View Column information</p>\n",
    "\n",
    "<p style = 'font-size:16px;font-family:Arial'><a href = 'https://docs-dev.teradata.com/r/Teradata-VantageTM-Advanced-SQL-Engine-Analytic-Functions/June-2022/Data-Exploration-Functions/TD_ColumnSummary'>TD_ColumnSummary</a> provides more details on column values and ranges</p>"
   ]
  },
  {
   "cell_type": "code",
   "execution_count": 8,
   "id": "0f3f56c4",
   "metadata": {},
   "outputs": [
    {
     "data": {
      "application/vnd.teradata.resultset": "\"ColumnName\",\"Datatype\",\"NonNullCount\",\"NullCount\",\"BlankCount\",\"ZeroCount\",\"PositiveCount\",\"NegativeCount\",\"NullPercentage\",\"NonNullPercentage\"\n\"StockCode\",\"VARCHAR(10) CHARACTER SET UNICODE\",\"536641\",\"0\",\"0\",\"\",\"\",\"\",\"0\",\"100\"\n\"InvoiceDate\",\"TIMESTAMP(6)\",\"536641\",\"0\",\"\",\"\",\"\",\"\",\"0\",\"100\"\n\"InvoiceNo\",\"VARCHAR(10) CHARACTER SET UNICODE\",\"536641\",\"0\",\"0\",\"\",\"\",\"\",\"0\",\"100\"\n\"Description\",\"VARCHAR(1024) CHARACTER SET UNICODE\",\"536641\",\"0\",\"0\",\"\",\"\",\"\",\"0\",\"100\"\n\"Country\",\"VARCHAR(1024) CHARACTER SET UNICODE\",\"536641\",\"0\",\"0\",\"\",\"\",\"\",\"0\",\"100\"\n\"CustomerID\",\"FLOAT\",\"401604\",\"0\",\"\",\"0\",\"401604\",\"0\",\"0\",\"100\"\n\"Quantity\",\"BIGINT\",\"536641\",\"0\",\"\",\"0\",\"526054\",\"10587\",\"0\",\"100\"\n\"UnitPrice\",\"FLOAT\",\"536641\",\"0\",\"\",\"2510\",\"534129\",\"2\",\"0\",\"100\"",
      "text/html": [
       "<div class = \"td-resultset-table-div\" style = \"max-height: 100%; overflow-y: auto\">\n",
       "      <table class=\"tdhistory831236\"><style>\n",
       "      table.tdhistory831236 { display: block !important; min-height: 252px !important; overflow: auto !important; height: 252px !important; width: 100% !important; border: 1px solid rgb(207, 207, 207) !important; border-collapse: collapse !important; ; color: var(--jp-ui-font-color1) !important; }\n",
       "      th.tdhistory831236 { border: 1px solid rgb(198,198,198) !important; border-collapse: collapse !important; ; padding: 2px 5px !important; ; font-size: 13px !important; ; text-align: center !important; white-space: normal !important; color: var(--jp-ui-font-color1) !important; }\n",
       "      th.tdhistory831236:last-child { text-align: left !important; }\n",
       "      tbody.tdhistory831236 tr:nth-child(even) { background: rgba(243, 243, 243, 0.75) !important; }\n",
       "      tbody.tdhistory831236 tr:nth-child(odd) { background: var(--jp-ui-inverse-font-color1) !important; }\n",
       "      td.tdhistory831236 { border: 1px solid rgb(207, 207, 207) !important; border-collapse: collapse !important; ; padding: 2px 5px !important; ; font-size: 13px !important; ; text-align: left !important;          white-space: nowrap !important; overflow:hidden !important; text-overflow:ellipsis !important;; }\n",
       "    </style><thead><tr style= \"background: rgba(243, 243, 243, 0.75)\"><th class=\"tdhistory831236\"></th><th class=\"tdhistory831236\">ColumnName</th><th class=\"tdhistory831236\">Datatype</th><th class=\"tdhistory831236\">NonNullCount</th><th class=\"tdhistory831236\">NullCount</th><th class=\"tdhistory831236\">BlankCount</th><th class=\"tdhistory831236\">ZeroCount</th><th class=\"tdhistory831236\">PositiveCount</th><th class=\"tdhistory831236\">NegativeCount</th><th class=\"tdhistory831236\">NullPercentage</th><th class=\"tdhistory831236\">NonNullPercentage</th></tr></thead><tbody class=\"tdhistory831236 resultset-body\"><tr><th class=\"tdhistory831236\" style= \"background: rgba(243, 243, 243, 0.75)\">1</th><td class=\"tdhistory831236\">StockCode</td><td class=\"tdhistory831236\">VARCHAR(10) CHARACTER SET UNICODE</td><td class=\"tdhistory831236\">536641</td><td class=\"tdhistory831236\">0</td><td class=\"tdhistory831236\">0</td><td class=\"tdhistory831236\"></td><td class=\"tdhistory831236\"></td><td class=\"tdhistory831236\"></td><td class=\"tdhistory831236\">0</td><td class=\"tdhistory831236\">100</td></tr><tr><th class=\"tdhistory831236\" style= \"background: rgba(243, 243, 243, 0.75)\">2</th><td class=\"tdhistory831236\">InvoiceDate</td><td class=\"tdhistory831236\">TIMESTAMP(6)</td><td class=\"tdhistory831236\">536641</td><td class=\"tdhistory831236\">0</td><td class=\"tdhistory831236\"></td><td class=\"tdhistory831236\"></td><td class=\"tdhistory831236\"></td><td class=\"tdhistory831236\"></td><td class=\"tdhistory831236\">0</td><td class=\"tdhistory831236\">100</td></tr><tr><th class=\"tdhistory831236\" style= \"background: rgba(243, 243, 243, 0.75)\">3</th><td class=\"tdhistory831236\">InvoiceNo</td><td class=\"tdhistory831236\">VARCHAR(10) CHARACTER SET UNICODE</td><td class=\"tdhistory831236\">536641</td><td class=\"tdhistory831236\">0</td><td class=\"tdhistory831236\">0</td><td class=\"tdhistory831236\"></td><td class=\"tdhistory831236\"></td><td class=\"tdhistory831236\"></td><td class=\"tdhistory831236\">0</td><td class=\"tdhistory831236\">100</td></tr><tr><th class=\"tdhistory831236\" style= \"background: rgba(243, 243, 243, 0.75)\">4</th><td class=\"tdhistory831236\">Description</td><td class=\"tdhistory831236\">VARCHAR(1024) CHARACTER SET UNICODE</td><td class=\"tdhistory831236\">536641</td><td class=\"tdhistory831236\">0</td><td class=\"tdhistory831236\">0</td><td class=\"tdhistory831236\"></td><td class=\"tdhistory831236\"></td><td class=\"tdhistory831236\"></td><td class=\"tdhistory831236\">0</td><td class=\"tdhistory831236\">100</td></tr><tr><th class=\"tdhistory831236\" style= \"background: rgba(243, 243, 243, 0.75)\">5</th><td class=\"tdhistory831236\">Country</td><td class=\"tdhistory831236\">VARCHAR(1024) CHARACTER SET UNICODE</td><td class=\"tdhistory831236\">536641</td><td class=\"tdhistory831236\">0</td><td class=\"tdhistory831236\">0</td><td class=\"tdhistory831236\"></td><td class=\"tdhistory831236\"></td><td class=\"tdhistory831236\"></td><td class=\"tdhistory831236\">0</td><td class=\"tdhistory831236\">100</td></tr><tr><th class=\"tdhistory831236\" style= \"background: rgba(243, 243, 243, 0.75)\">6</th><td class=\"tdhistory831236\">CustomerID</td><td class=\"tdhistory831236\">FLOAT</td><td class=\"tdhistory831236\">401604</td><td class=\"tdhistory831236\">0</td><td class=\"tdhistory831236\"></td><td class=\"tdhistory831236\">0</td><td class=\"tdhistory831236\">401604</td><td class=\"tdhistory831236\">0</td><td class=\"tdhistory831236\">0</td><td class=\"tdhistory831236\">100</td></tr><tr><th class=\"tdhistory831236\" style= \"background: rgba(243, 243, 243, 0.75)\">7</th><td class=\"tdhistory831236\">Quantity</td><td class=\"tdhistory831236\">BIGINT</td><td class=\"tdhistory831236\">536641</td><td class=\"tdhistory831236\">0</td><td class=\"tdhistory831236\"></td><td class=\"tdhistory831236\">0</td><td class=\"tdhistory831236\">526054</td><td class=\"tdhistory831236\">10587</td><td class=\"tdhistory831236\">0</td><td class=\"tdhistory831236\">100</td></tr><tr><th class=\"tdhistory831236\" style= \"background: rgba(243, 243, 243, 0.75)\">8</th><td class=\"tdhistory831236\">UnitPrice</td><td class=\"tdhistory831236\">FLOAT</td><td class=\"tdhistory831236\">536641</td><td class=\"tdhistory831236\">0</td><td class=\"tdhistory831236\"></td><td class=\"tdhistory831236\">2510</td><td class=\"tdhistory831236\">534129</td><td class=\"tdhistory831236\">2</td><td class=\"tdhistory831236\">0</td><td class=\"tdhistory831236\">100</td></tr></tbody></table></div>"
      ]
     },
     "execution_count": 8,
     "metadata": {
      "application/vnd.teradata.resultset": "{\"resultSetID\":\"/home/jovyan/JupyterLabRoot/Teradata/Resultsets/2023.01.24_13.19.23.273_UTC\",\"historyID\":84,\"chunkID\":\"00001\",\"sessionid\":\"\",\"portnum\":\"\",\"dockermode\":\"docker\",\"totalRowCount\":8,\"chunkCount\":0,\"rowLimit\":0,\"columnMetadata\":[{\"columnName\":\"ColumnName\",\"columnTypeName\":\"VARCHAR\",\"length\":128,\"scale\":128},{\"columnNumber\":1,\"columnName\":\"Datatype\",\"columnTypeName\":\"VARCHAR\",\"length\":128,\"scale\":128},{\"columnNumber\":2,\"columnName\":\"NonNullCount\",\"columnTypeName\":\"BIGINT\"},{\"columnNumber\":3,\"columnName\":\"NullCount\",\"columnTypeName\":\"BIGINT\"},{\"columnNumber\":4,\"columnName\":\"BlankCount\",\"columnTypeName\":\"BIGINT\"},{\"columnNumber\":5,\"columnName\":\"ZeroCount\",\"columnTypeName\":\"BIGINT\"},{\"columnNumber\":6,\"columnName\":\"PositiveCount\",\"columnTypeName\":\"BIGINT\"},{\"columnNumber\":7,\"columnName\":\"NegativeCount\",\"columnTypeName\":\"BIGINT\"},{\"columnNumber\":8,\"columnName\":\"NullPercentage\",\"columnTypeName\":\"FLOAT\"},{\"columnNumber\":9,\"columnName\":\"NonNullPercentage\",\"columnTypeName\":\"FLOAT\"}]}"
     },
     "output_type": "execute_result"
    }
   ],
   "source": [
    "SELECT * FROM TD_ColumnSummary(\n",
    "    ON DEMO_Retail.UK_Retail_Data as inputtable\n",
    "    USING\n",
    "        targetcolumns('[0:7]')\n",
    ") as dt;"
   ]
  },
  {
   "cell_type": "markdown",
   "id": "805e9e23",
   "metadata": {},
   "source": [
    "<hr>\n",
    "<p style = 'font-size:18px;font-family:Arial;color:#E37C4D'>1.3 Create a Testing data set</p>\n",
    "\n",
    "<p style = 'font-size:16px;font-family:Arial'>Manufactured example - select several \"Customer ID\" values for testing later.</p>"
   ]
  },
  {
   "cell_type": "code",
   "execution_count": 9,
   "id": "e41dc488",
   "metadata": {},
   "outputs": [
    {
     "data": {
      "text/plain": [
       "Success: 9 rows affected"
      ]
     },
     "execution_count": 9,
     "metadata": {
      "application/vnd.teradata.resultset": ""
     },
     "output_type": "execute_result"
    }
   ],
   "source": [
    "REPLACE VIEW UK_Retail_Test_V as (\n",
    "    SELECT * FROM DEMO_Retail.UK_Retail_Data \n",
    "    WHERE CustomerID IN ('17307', '12503', '18268', '12908', '13693')\n",
    ");"
   ]
  },
  {
   "cell_type": "markdown",
   "id": "40f1a089",
   "metadata": {},
   "source": [
    "<hr>\n",
    "<p style = 'font-size:20px;font-family:Arial;color:#E37C4D'><b>Step 2 - Feature Engineering</b></p>\n",
    "\n",
    "<p style = 'font-size:16px;font-family:Arial'>This section will illustrate how to prepare the data set for model training.  We will use standard SQL and various \"Fit\" functions to create input for the <a href = 'https://docs-dev.teradata.com/r/Teradata-VantageTM-Advanced-SQL-Engine-Analytic-Functions/June-2022/Feature-Engineering-Transform-Functions/TD_ColumnTransformer'>TD_ColumnTransformer</a> function to take as input in order to execute a bulk transformation.</p>\n",
    "\n",
    "<ol style = 'font-size:16px;font-family:Arial'>\n",
    "    <li>Create a per-customer grouping of data</li>\n",
    "    <li>Create Fit Tables\n",
    "        <ul><li>Remove Outliers</li>\n",
    "            <li>Impute Missing Values</li>\n",
    "            <li>Create New Numeric Features</li>\n",
    "            <li>Rescale the Data Set</li>\n",
    "        </ul></li>\n",
    "    <li>Call the final Transformation function</li>\n",
    "    </ol>"
   ]
  },
  {
   "cell_type": "markdown",
   "id": "555dfd13",
   "metadata": {},
   "source": [
    "<hr>\n",
    "<p style = 'font-size:18px;font-family:Arial;color:#E37C4D'>2.1 - Create a per-customer table</p>\n",
    "\n",
    "<p style = 'font-size:16px;font-family:Arial'>Simple GROUP BY, exclude the testing IDs.  Note there are 4367 unique customers in this training set.</p>"
   ]
  },
  {
   "cell_type": "code",
   "execution_count": 10,
   "id": "66cf25c4",
   "metadata": {},
   "outputs": [
    {
     "data": {
      "text/plain": [
       "Success: 5 rows affected"
      ]
     },
     "execution_count": 10,
     "metadata": {
      "application/vnd.teradata.resultset": ""
     },
     "output_type": "execute_result"
    }
   ],
   "source": [
    "REPLACE VIEW Customer_ID_Group_V AS (\n",
    "    SELECT CustomerID,\n",
    "        SUM(quantity) as TotalQuantity , \n",
    "        SUM(UnitPrice) as TotalPrice, \n",
    "        COUNT(DISTINCT(StockCode)) as TotalItems \n",
    "    FROM DEMO_Retail.UK_Retail_Data\n",
    "    WHERE CustomerID NOT IN ('17307', '12503', '18268', '12908', '13693')\n",
    "    GROUP BY CustomerID\n",
    ")"
   ]
  },
  {
   "cell_type": "code",
   "execution_count": 11,
   "id": "600ded66",
   "metadata": {},
   "outputs": [
    {
     "data": {
      "application/vnd.teradata.resultset": "\"Count(*)\"\n\"4367\"",
      "text/html": [
       "<div class = \"td-resultset-table-div\" style = \"max-height: 100%; overflow-y: auto\">\n",
       "      <table class=\"tdhistory581327\"><style>\n",
       "      table.tdhistory581327 { display: block !important; min-height: 105px !important; overflow: auto !important; height: 105px !important; width: 100% !important; border: 1px solid rgb(207, 207, 207) !important; border-collapse: collapse !important; ; color: var(--jp-ui-font-color1) !important; }\n",
       "      th.tdhistory581327 { border: 1px solid rgb(198,198,198) !important; border-collapse: collapse !important; ; padding: 2px 5px !important; ; font-size: 13px !important; ; text-align: center !important; white-space: normal !important; color: var(--jp-ui-font-color1) !important; }\n",
       "      th.tdhistory581327:last-child { text-align: left !important; }\n",
       "      tbody.tdhistory581327 tr:nth-child(even) { background: rgba(243, 243, 243, 0.75) !important; }\n",
       "      tbody.tdhistory581327 tr:nth-child(odd) { background: var(--jp-ui-inverse-font-color1) !important; }\n",
       "      td.tdhistory581327 { border: 1px solid rgb(207, 207, 207) !important; border-collapse: collapse !important; ; padding: 2px 5px !important; ; font-size: 13px !important; ; text-align: left !important;          white-space: nowrap !important; overflow:hidden !important; text-overflow:ellipsis !important;; }\n",
       "    </style><thead><tr style= \"background: rgba(243, 243, 243, 0.75)\"><th class=\"tdhistory581327\"></th><th class=\"tdhistory581327\">Count(*)</th></tr></thead><tbody class=\"tdhistory581327 resultset-body\"><tr><th class=\"tdhistory581327\" style= \"background: rgba(243, 243, 243, 0.75)\">1</th><td class=\"tdhistory581327\">4367</td></tr></tbody></table></div>"
      ]
     },
     "execution_count": 11,
     "metadata": {
      "application/vnd.teradata.resultset": "{\"resultSetID\":\"/home/jovyan/JupyterLabRoot/Teradata/Resultsets/2023.01.24_13.19.47.588_UTC\",\"historyID\":87,\"chunkID\":\"00001\",\"sessionid\":\"\",\"portnum\":\"\",\"dockermode\":\"docker\",\"totalRowCount\":1,\"chunkCount\":0,\"rowLimit\":0,\"columnMetadata\":[{\"columnName\":\"Count(*)\",\"columnTypeName\":\"INTEGER\"}]}"
     },
     "output_type": "execute_result"
    }
   ],
   "source": [
    "SELECT COUNT(*) FROM Customer_ID_Group_V"
   ]
  },
  {
   "cell_type": "markdown",
   "id": "dba90c65",
   "metadata": {},
   "source": [
    "<hr>\n",
    "<p style = 'font-size:18px;font-family:Arial;color:#E37C4D'>2.2 Create Fit Tables</p>\n",
    "\n",
    "<p style = 'font-size:16px;font-family:Arial'>Vantage <a href = 'https://docs-dev.teradata.com/r/Teradata-VantageTM-Advanced-SQL-Engine-Analytic-Functions/June-2022/Feature-Engineering-Transform-Functions'>Feature Engineering Transform Functions</a> Use a \"Fit and Transform\" approach to make processing more modular and efficient.  \"Fit tables\" can be used as input to either individual Transform functions, or passed to a single <a href = 'https://docs-dev.teradata.com/r/Teradata-VantageTM-Advanced-SQL-Engine-Analytic-Functions/June-2022/Feature-Engineering-Transform-Functions/TD_ColumnTransformer'>TD_ColumnTransformer</a> function.</p>\n",
    "\n",
    "<table style = 'width:100%;table-layout:fixed;'>\n",
    "    <tr>\n",
    "        <td style = 'vertical-align:top' width = '50%'>\n",
    "<ul style = 'font-size:16px;font-family:Arial'>\n",
    "    <li>Fit outlier removal using <a href = 'https://docs-dev.teradata.com/r/Teradata-VantageTM-Advanced-SQL-Engine-Analytic-Functions/June-2022/Data-Cleaning-Functions/Handling-Outliers/TD_OutlierFilterFit'>TD_OutlierFilterFit</a></li>\n",
    "    <li>Fit a simple imputer to replace missing values using <a href = 'https://docs-dev.teradata.com/r/Teradata-VantageTM-Advanced-SQL-Engine-Analytic-Functions/June-2022/Data-Cleaning-Functions/Handling-Missing-Values/TD_SimpleImputeFit'>TD_SimpleImputeFit</a></li>\n",
    "    <li>Fit column calculations to create new features using <a href = 'https://docs-dev.teradata.com/r/Teradata-VantageTM-Advanced-SQL-Engine-Analytic-Functions/June-2022/Feature-Engineering-Transform-Functions/TD_NonLinearCombineFit'>TD_NonLinearCombineFit</a></li>\n",
    "    <li>Call <a href = 'https://docs-dev.teradata.com/r/Teradata-VantageTM-Advanced-SQL-Engine-Analytic-Functions/June-2022/Feature-Engineering-Transform-Functions/TD_ColumnTransformer'>TD_ColumnTransformer</a> to execute the transformations (to allow for Scaling)</li>\n",
    "    <li>Rescale the data using <a href = 'https://docs-dev.teradata.com/r/Teradata-VantageTM-Advanced-SQL-Engine-Analytic-Functions/June-2022/Feature-Engineering-Transform-Functions/TD_ScaleFit'>TD_ScaleFit/Transform</a></li>\n",
    "            </ul></td>\n",
    "        <td><img src = 'images/fit_transform.png' width = '300'></td>\n",
    "    </tr>\n",
    "    </table>"
   ]
  },
  {
   "cell_type": "code",
   "execution_count": 12,
   "id": "5a654c73",
   "metadata": {},
   "outputs": [
    {
     "data": {
      "text/plain": [
       "Success: 0 rows affected"
      ]
     },
     "execution_count": 12,
     "metadata": {
      "application/vnd.teradata.resultset": ""
     },
     "output_type": "execute_result"
    }
   ],
   "source": [
    "--Remove Outliers\n",
    "--Trim below 3rd, and above 97th percentile\n",
    "\n",
    "CREATE VOLATILE TABLE outlierFit_CS as (\n",
    "    SELECT * from TD_OutlierFilterFit(\n",
    "        ON Customer_ID_Group_V as inputTable\n",
    "        USING\n",
    "        TargetColumns('TotalQuantity','TotalPrice')\n",
    "        LowerPercentile(0.03)\n",
    "        UpperPercentile(0.97)\n",
    "        OutlierMethod('Percentile')\n",
    "        PercentileMethod('PercentileCont')\n",
    "        ReplacementValue('Median')\n",
    "    )as dt\n",
    ") WITH DATA\n",
    "ON COMMIT PRESERVE ROWS;"
   ]
  },
  {
   "cell_type": "code",
   "execution_count": 13,
   "id": "5a18149d",
   "metadata": {},
   "outputs": [
    {
     "data": {
      "text/plain": [
       "Success: 0 rows affected"
      ]
     },
     "execution_count": 13,
     "metadata": {
      "application/vnd.teradata.resultset": ""
     },
     "output_type": "execute_result"
    }
   ],
   "source": [
    "--Impute Missing Values\n",
    "--Replace any missing CustomerID with a specific value\n",
    "CREATE VOLATILE TABLE ImputeFit_CS AS (\n",
    "    SELECT * FROM TD_SimpleImputeFit(\n",
    "        ON Customer_ID_Group_V AS InputTable\n",
    "        USING\n",
    "        ColsForLiterals('CustomerID')\n",
    "        Literals('19000')                                        \n",
    "    ) AS dt\n",
    ")WITH DATA\n",
    "ON COMMIT PRESERVE ROWS;"
   ]
  },
  {
   "cell_type": "code",
   "execution_count": 14,
   "id": "3a6abab5",
   "metadata": {},
   "outputs": [
    {
     "data": {
      "text/plain": [
       "Success: 0 rows affected"
      ]
     },
     "execution_count": 14,
     "metadata": {
      "application/vnd.teradata.resultset": ""
     },
     "output_type": "execute_result"
    },
    {
     "data": {
      "application/vnd.teradata.resultset": "\"TotalSales\",\"TotalQuantity\",\"TotalPrice\"\n\"Y = X1*X0\",\"\",\"\"",
      "text/html": [
       "<div class = \"td-resultset-table-div\" style = \"max-height: 100%; overflow-y: auto\">\n",
       "      <table class=\"tdhistory618707\"><style>\n",
       "      table.tdhistory618707 { display: block !important; min-height: 105px !important; overflow: auto !important; height: 105px !important; width: 100% !important; border: 1px solid rgb(207, 207, 207) !important; border-collapse: collapse !important; ; color: var(--jp-ui-font-color1) !important; }\n",
       "      th.tdhistory618707 { border: 1px solid rgb(198,198,198) !important; border-collapse: collapse !important; ; padding: 2px 5px !important; ; font-size: 13px !important; ; text-align: center !important; white-space: normal !important; color: var(--jp-ui-font-color1) !important; }\n",
       "      th.tdhistory618707:last-child { text-align: left !important; }\n",
       "      tbody.tdhistory618707 tr:nth-child(even) { background: rgba(243, 243, 243, 0.75) !important; }\n",
       "      tbody.tdhistory618707 tr:nth-child(odd) { background: var(--jp-ui-inverse-font-color1) !important; }\n",
       "      td.tdhistory618707 { border: 1px solid rgb(207, 207, 207) !important; border-collapse: collapse !important; ; padding: 2px 5px !important; ; font-size: 13px !important; ; text-align: left !important;          white-space: nowrap !important; overflow:hidden !important; text-overflow:ellipsis !important;; }\n",
       "    </style><thead><tr style= \"background: rgba(243, 243, 243, 0.75)\"><th class=\"tdhistory618707\"></th><th class=\"tdhistory618707\">TotalSales</th><th class=\"tdhistory618707\">TotalQuantity</th><th class=\"tdhistory618707\">TotalPrice</th></tr></thead><tbody class=\"tdhistory618707 resultset-body\"><tr><th class=\"tdhistory618707\" style= \"background: rgba(243, 243, 243, 0.75)\">1</th><td class=\"tdhistory618707\">Y = X1*X0</td><td class=\"tdhistory618707\"></td><td class=\"tdhistory618707\"></td></tr></tbody></table></div>"
      ]
     },
     "execution_count": 14,
     "metadata": {
      "application/vnd.teradata.resultset": "{\"resultSetID\":\"/home/jovyan/JupyterLabRoot/Teradata/Resultsets/2023.01.24_13.21.27.049_UTC\",\"historyID\":90,\"chunkID\":\"00001\",\"sessionid\":\"\",\"portnum\":\"\",\"dockermode\":\"docker\",\"totalRowCount\":1,\"chunkCount\":0,\"rowLimit\":0,\"columnMetadata\":[{\"columnName\":\"TotalSales\",\"columnTypeName\":\"VARCHAR\",\"length\":9,\"scale\":9},{\"columnNumber\":1,\"columnName\":\"TotalQuantity\",\"columnTypeName\":\"BIGINT\"},{\"columnNumber\":2,\"columnName\":\"TotalPrice\",\"columnTypeName\":\"FLOAT\"}]}"
     },
     "output_type": "execute_result"
    }
   ],
   "source": [
    "--Create a new column by multiplying quantity and price\n",
    "\n",
    "SELECT * FROM TD_NonLinearCombineFit (\n",
    "    ON Customer_ID_Group_V as InputTable\n",
    "    OUT VOLATILE TABLE OutputTable (NonLinearCombineFit_CS_TotalSales)\n",
    "    USING\n",
    "        TargetColumns ('TotalQuantity','TotalPrice')\n",
    "        Formula ('Y = X1*X0')\n",
    "        ResultColumn ('TotalSales')\n",
    ") AS dt;"
   ]
  },
  {
   "cell_type": "code",
   "execution_count": 15,
   "id": "1b08a0e4",
   "metadata": {},
   "outputs": [
    {
     "data": {
      "text/plain": [
       "Success: 0 rows affected"
      ]
     },
     "execution_count": 15,
     "metadata": {
      "application/vnd.teradata.resultset": ""
     },
     "output_type": "execute_result"
    },
    {
     "data": {
      "application/vnd.teradata.resultset": "\"SalesPerItem\",\"TotalQuantity\",\"TotalPrice\",\"TotalItems\"\n\"Y = (X0*X1)/X2\",\"\",\"\",\"\"",
      "text/html": [
       "<div class = \"td-resultset-table-div\" style = \"max-height: 100%; overflow-y: auto\">\n",
       "      <table class=\"tdhistory777781\"><style>\n",
       "      table.tdhistory777781 { display: block !important; min-height: 105px !important; overflow: auto !important; height: 105px !important; width: 100% !important; border: 1px solid rgb(207, 207, 207) !important; border-collapse: collapse !important; ; color: var(--jp-ui-font-color1) !important; }\n",
       "      th.tdhistory777781 { border: 1px solid rgb(198,198,198) !important; border-collapse: collapse !important; ; padding: 2px 5px !important; ; font-size: 13px !important; ; text-align: center !important; white-space: normal !important; color: var(--jp-ui-font-color1) !important; }\n",
       "      th.tdhistory777781:last-child { text-align: left !important; }\n",
       "      tbody.tdhistory777781 tr:nth-child(even) { background: rgba(243, 243, 243, 0.75) !important; }\n",
       "      tbody.tdhistory777781 tr:nth-child(odd) { background: var(--jp-ui-inverse-font-color1) !important; }\n",
       "      td.tdhistory777781 { border: 1px solid rgb(207, 207, 207) !important; border-collapse: collapse !important; ; padding: 2px 5px !important; ; font-size: 13px !important; ; text-align: left !important;          white-space: nowrap !important; overflow:hidden !important; text-overflow:ellipsis !important;; }\n",
       "    </style><thead><tr style= \"background: rgba(243, 243, 243, 0.75)\"><th class=\"tdhistory777781\"></th><th class=\"tdhistory777781\">SalesPerItem</th><th class=\"tdhistory777781\">TotalQuantity</th><th class=\"tdhistory777781\">TotalPrice</th><th class=\"tdhistory777781\">TotalItems</th></tr></thead><tbody class=\"tdhistory777781 resultset-body\"><tr><th class=\"tdhistory777781\" style= \"background: rgba(243, 243, 243, 0.75)\">1</th><td class=\"tdhistory777781\">Y = (X0*X1)/X2</td><td class=\"tdhistory777781\"></td><td class=\"tdhistory777781\"></td><td class=\"tdhistory777781\"></td></tr></tbody></table></div>"
      ]
     },
     "execution_count": 15,
     "metadata": {
      "application/vnd.teradata.resultset": "{\"resultSetID\":\"/home/jovyan/JupyterLabRoot/Teradata/Resultsets/2023.01.24_13.22.02.086_UTC\",\"historyID\":91,\"chunkID\":\"00001\",\"sessionid\":\"\",\"portnum\":\"\",\"dockermode\":\"docker\",\"totalRowCount\":1,\"chunkCount\":0,\"rowLimit\":0,\"columnMetadata\":[{\"columnName\":\"SalesPerItem\",\"columnTypeName\":\"VARCHAR\",\"length\":14,\"scale\":14},{\"columnNumber\":1,\"columnName\":\"TotalQuantity\",\"columnTypeName\":\"BIGINT\"},{\"columnNumber\":2,\"columnName\":\"TotalPrice\",\"columnTypeName\":\"FLOAT\"},{\"columnNumber\":3,\"columnName\":\"TotalItems\",\"columnTypeName\":\"INTEGER\"}]}"
     },
     "output_type": "execute_result"
    }
   ],
   "source": [
    "--Create another new column by diving the total sales by the number of unique items\n",
    "\n",
    "SELECT * FROM TD_NonLinearCombineFit (\n",
    "   ON Customer_ID_Group_V AS InputTable\n",
    "   OUT VOLATILE TABLE OutputTable (NonLinearCombineFit_CS_SalesPerItem)\n",
    "   USING\n",
    "   TargetColumns ('TotalQuantity','TotalPrice','TotalItems')\n",
    "   Formula ('Y = (X0*X1)/X2')\n",
    "   ResultColumn ('SalesPerItem')\n",
    ") AS dt;"
   ]
  },
  {
   "cell_type": "code",
   "execution_count": 16,
   "id": "511793d8",
   "metadata": {},
   "outputs": [
    {
     "data": {
      "text/plain": [
       "Success: 7 rows affected"
      ]
     },
     "execution_count": 16,
     "metadata": {
      "application/vnd.teradata.resultset": ""
     },
     "output_type": "execute_result"
    }
   ],
   "source": [
    "--Execute ColumnTransformer to build the data set\n",
    "REPLACE VIEW Transformed_Customer_ID_Group_V AS (\n",
    "    SELECT * from TD_ColumnTransformer(\n",
    "        ON Customer_ID_Group_V AS InputTable\n",
    "        \n",
    "        ON OutlierFit_CS AS OutlierFilterFitTable DIMENSION\n",
    "        ON ImputeFit_CS AS SimpleImputeFitTable DIMENSION\n",
    "        ON NonLinearCombineFit_CS_TotalSales AS NonLinearCombineFitTable DIMENSION\n",
    "        ON NonLinearCombineFit_CS_SalesPerItem as NonLinearCombineFitTable DIMENSION\n",
    "    )as dt\n",
    ")"
   ]
  },
  {
   "cell_type": "code",
   "execution_count": 19,
   "id": "b91eabd0-fca2-4c96-94df-1cc9dc20f6f6",
   "metadata": {},
   "outputs": [
    {
     "data": {
      "text/plain": [
       "Success: 0 rows affected"
      ]
     },
     "execution_count": 19,
     "metadata": {
      "application/vnd.teradata.resultset": ""
     },
     "output_type": "execute_result"
    }
   ],
   "source": [
    "--to test if by creating table it is working\n",
    "Create table Scaled_data as(\n",
    "    SELECT * from TD_ColumnTransformer(\n",
    "        ON Customer_ID_Group_V AS InputTable\n",
    "        \n",
    "        ON OutlierFit_CS AS OutlierFilterFitTable DIMENSION\n",
    "        ON ImputeFit_CS AS SimpleImputeFitTable DIMENSION\n",
    "        ON NonLinearCombineFit_CS_TotalSales AS NonLinearCombineFitTable DIMENSION\n",
    "        ON NonLinearCombineFit_CS_SalesPerItem as NonLinearCombineFitTable DIMENSION  \n",
    ")\n",
    "AS dt\n",
    ") WITH DATA\n",
    ";"
   ]
  },
  {
   "cell_type": "code",
   "execution_count": 17,
   "id": "b8386cb0",
   "metadata": {},
   "outputs": [
    {
     "ename": "ERROR",
     "evalue": "Unable to run SQL: Unable to run SQL query: Database reported error:3610:Internal error: Please do not resubmit the last request.  SubCode, CrashCode: 0, 0",
     "output_type": "error",
     "traceback": [
      "Unable to run SQL: Unable to run SQL query: Database reported error:3610:Internal error: Please do not resubmit the last request.  SubCode, CrashCode: 0, 0"
     ]
    }
   ],
   "source": [
    "--ScaleFit/Transform to rescale the data\n",
    "SELECT * FROM TD_ScaleFit(\n",
    "    ON Transformed_Customer_ID_Group_V AS InputTable\n",
    "    OUT VOLATILE TABLE OutputTable(ScaleFit_CS)\n",
    "    USING\n",
    "        TargetColumns('TotalQuantity','TotalItems','TotalPrice','TotalSales','SalesPerItem')\n",
    "        ScaleMethod('range')\n",
    ") as dt;"
   ]
  },
  {
   "cell_type": "code",
   "execution_count": 18,
   "id": "91cfd35f-9cb0-438a-be9a-9016a9cce810",
   "metadata": {},
   "outputs": [
    {
     "ename": "ERROR",
     "evalue": "Unable to run SQL: Unable to run SQL query: Database reported error:3610:Internal error: Please do not resubmit the last request.  SubCode, CrashCode: 0, 0",
     "output_type": "error",
     "traceback": [
      "Unable to run SQL: Unable to run SQL query: Database reported error:3610:Internal error: Please do not resubmit the last request.  SubCode, CrashCode: 0, 0"
     ]
    }
   ],
   "source": [
    "--ScaleFit/Transform to rescale the data\n",
    "SELECT * FROM TD_ScaleFit(\n",
    "    ON Transformed_Customer_ID_Group_V AS InputTable\n",
    "    OUT TABLE OutputTable(ScaleFit_CS)\n",
    "    USING\n",
    "        TargetColumns('TotalQuantity','TotalItems','TotalPrice','TotalSales','SalesPerItem')\n",
    "        ScaleMethod('range')\n",
    ") as dt;"
   ]
  },
  {
   "cell_type": "code",
   "execution_count": 20,
   "id": "455eb272-e2f0-4426-b74a-f2bcca1cce51",
   "metadata": {},
   "outputs": [
    {
     "data": {
      "text/plain": [
       "Success: 0 rows affected"
      ]
     },
     "execution_count": 20,
     "metadata": {
      "application/vnd.teradata.resultset": ""
     },
     "output_type": "execute_result"
    },
    {
     "data": {
      "application/vnd.teradata.resultset": "\"TD_STATTYPE_SCLFIT\",\"TotalQuantity\",\"TotalItems\",\"TotalPrice\",\"TotalSales\",\"SalesPerItem\"\n\"min\",\"24\",\"1\",\"6.72\",\"206.70000000000002\",\"26.260061315496095\"\n\"max\",\"4796\",\"1794\",\"1291.0499999999997\",\"5.751069009999999e+06\",\"555001\"\n\"sum\",\"2.967291e+06\",\"267606\",\"937127.7840000017\",\"1.0650948058069998e+09\",\"1.763385562153829e+07\"\n\"count\",\"4367\",\"4367\",\"4367\",\"4367\",\"4367\"\n\"null\",\"0\",\"0\",\"0\",\"0\",\"0\"\n\"avg\",\"679.4804213418823\",\"61.279138997023125\",\"214.59303503549387\",\"243896.2229922143\",\"4037.979304222187\"\n\"multiplier\",\"1\",\"1\",\"1\",\"1\",\"1\"\n\"intercept\",\"0\",\"0\",\"0\",\"0\",\"0\"\n\"location\",\"24\",\"1\",\"6.72\",\"206.70000000000002\",\"26.260061315496095\"\n\"scale\",\"4772\",\"1793\",\"1284.3299999999997\",\"5.750862309999999e+06\",\"554974.7399386845\"\n\"globalscale_false\",\"\",\"\",\"\",\"\",\"\"\n\"ScaleMethodNumberMapping: [0:mean,1:sum,2:ustd,3:std,4:range,5:midrange,6:maxabs,7:rescale]\",\"4\",\"4\",\"4\",\"4\",\"4\"\n\"missvalue_KEEP\",\"\",\"\",\"\",\"\",\"\"",
      "text/html": [
       "<div class = \"td-resultset-table-div\" style = \"max-height: 100%; overflow-y: auto\">\n",
       "      <table class=\"tdhistory662392\"><style>\n",
       "      table.tdhistory662392 { display: block !important; min-height: 357px !important; overflow: auto !important; height: 357px !important; width: 100% !important; border: 1px solid rgb(207, 207, 207) !important; border-collapse: collapse !important; ; color: var(--jp-ui-font-color1) !important; }\n",
       "      th.tdhistory662392 { border: 1px solid rgb(198,198,198) !important; border-collapse: collapse !important; ; padding: 2px 5px !important; ; font-size: 13px !important; ; text-align: center !important; white-space: normal !important; color: var(--jp-ui-font-color1) !important; }\n",
       "      th.tdhistory662392:last-child { text-align: left !important; }\n",
       "      tbody.tdhistory662392 tr:nth-child(even) { background: rgba(243, 243, 243, 0.75) !important; }\n",
       "      tbody.tdhistory662392 tr:nth-child(odd) { background: var(--jp-ui-inverse-font-color1) !important; }\n",
       "      td.tdhistory662392 { border: 1px solid rgb(207, 207, 207) !important; border-collapse: collapse !important; ; padding: 2px 5px !important; ; font-size: 13px !important; ; text-align: left !important;          white-space: nowrap !important; overflow:hidden !important; text-overflow:ellipsis !important;; }\n",
       "    </style><thead><tr style= \"background: rgba(243, 243, 243, 0.75)\"><th class=\"tdhistory662392\"></th><th class=\"tdhistory662392\">TD_STATTYPE_SCLFIT</th><th class=\"tdhistory662392\">TotalQuantity</th><th class=\"tdhistory662392\">TotalItems</th><th class=\"tdhistory662392\">TotalPrice</th><th class=\"tdhistory662392\">TotalSales</th><th class=\"tdhistory662392\">SalesPerItem</th></tr></thead><tbody class=\"tdhistory662392 resultset-body\"><tr><th class=\"tdhistory662392\" style= \"background: rgba(243, 243, 243, 0.75)\">1</th><td class=\"tdhistory662392\">min</td><td class=\"tdhistory662392\">24</td><td class=\"tdhistory662392\">1</td><td class=\"tdhistory662392\">6.72</td><td class=\"tdhistory662392\">206.70000000000002</td><td class=\"tdhistory662392\">26.260061315496095</td></tr><tr><th class=\"tdhistory662392\" style= \"background: rgba(243, 243, 243, 0.75)\">2</th><td class=\"tdhistory662392\">max</td><td class=\"tdhistory662392\">4796</td><td class=\"tdhistory662392\">1794</td><td class=\"tdhistory662392\">1291.0499999999997</td><td class=\"tdhistory662392\">5.751069009999999e+06</td><td class=\"tdhistory662392\">555001</td></tr><tr><th class=\"tdhistory662392\" style= \"background: rgba(243, 243, 243, 0.75)\">3</th><td class=\"tdhistory662392\">sum</td><td class=\"tdhistory662392\">2.967291e+06</td><td class=\"tdhistory662392\">267606</td><td class=\"tdhistory662392\">937127.7840000017</td><td class=\"tdhistory662392\">1.0650948058069998e+09</td><td class=\"tdhistory662392\">1.763385562153829e+07</td></tr><tr><th class=\"tdhistory662392\" style= \"background: rgba(243, 243, 243, 0.75)\">4</th><td class=\"tdhistory662392\">count</td><td class=\"tdhistory662392\">4367</td><td class=\"tdhistory662392\">4367</td><td class=\"tdhistory662392\">4367</td><td class=\"tdhistory662392\">4367</td><td class=\"tdhistory662392\">4367</td></tr><tr><th class=\"tdhistory662392\" style= \"background: rgba(243, 243, 243, 0.75)\">5</th><td class=\"tdhistory662392\">null</td><td class=\"tdhistory662392\">0</td><td class=\"tdhistory662392\">0</td><td class=\"tdhistory662392\">0</td><td class=\"tdhistory662392\">0</td><td class=\"tdhistory662392\">0</td></tr><tr><th class=\"tdhistory662392\" style= \"background: rgba(243, 243, 243, 0.75)\">6</th><td class=\"tdhistory662392\">avg</td><td class=\"tdhistory662392\">679.4804213418823</td><td class=\"tdhistory662392\">61.279138997023125</td><td class=\"tdhistory662392\">214.59303503549387</td><td class=\"tdhistory662392\">243896.2229922143</td><td class=\"tdhistory662392\">4037.979304222187</td></tr><tr><th class=\"tdhistory662392\" style= \"background: rgba(243, 243, 243, 0.75)\">7</th><td class=\"tdhistory662392\">multiplier</td><td class=\"tdhistory662392\">1</td><td class=\"tdhistory662392\">1</td><td class=\"tdhistory662392\">1</td><td class=\"tdhistory662392\">1</td><td class=\"tdhistory662392\">1</td></tr><tr><th class=\"tdhistory662392\" style= \"background: rgba(243, 243, 243, 0.75)\">8</th><td class=\"tdhistory662392\">intercept</td><td class=\"tdhistory662392\">0</td><td class=\"tdhistory662392\">0</td><td class=\"tdhistory662392\">0</td><td class=\"tdhistory662392\">0</td><td class=\"tdhistory662392\">0</td></tr><tr><th class=\"tdhistory662392\" style= \"background: rgba(243, 243, 243, 0.75)\">9</th><td class=\"tdhistory662392\">location</td><td class=\"tdhistory662392\">24</td><td class=\"tdhistory662392\">1</td><td class=\"tdhistory662392\">6.72</td><td class=\"tdhistory662392\">206.70000000000002</td><td class=\"tdhistory662392\">26.260061315496095</td></tr><tr><th class=\"tdhistory662392\" style= \"background: rgba(243, 243, 243, 0.75)\">10</th><td class=\"tdhistory662392\">scale</td><td class=\"tdhistory662392\">4772</td><td class=\"tdhistory662392\">1793</td><td class=\"tdhistory662392\">1284.3299999999997</td><td class=\"tdhistory662392\">5.750862309999999e+06</td><td class=\"tdhistory662392\">554974.7399386845</td></tr><tr><th class=\"tdhistory662392\" style= \"background: rgba(243, 243, 243, 0.75)\">11</th><td class=\"tdhistory662392\">globalscale_false</td><td class=\"tdhistory662392\"></td><td class=\"tdhistory662392\"></td><td class=\"tdhistory662392\"></td><td class=\"tdhistory662392\"></td><td class=\"tdhistory662392\"></td></tr><tr><th class=\"tdhistory662392\" style= \"background: rgba(243, 243, 243, 0.75)\">12</th><td class=\"tdhistory662392\">ScaleMethodNumberMapping: [0:mean,1:sum,2:ustd,3:std,4:range,5:midrange,6:maxabs,7:rescale]</td><td class=\"tdhistory662392\">4</td><td class=\"tdhistory662392\">4</td><td class=\"tdhistory662392\">4</td><td class=\"tdhistory662392\">4</td><td class=\"tdhistory662392\">4</td></tr><tr><th class=\"tdhistory662392\" style= \"background: rgba(243, 243, 243, 0.75)\">13</th><td class=\"tdhistory662392\">missvalue_KEEP</td><td class=\"tdhistory662392\"></td><td class=\"tdhistory662392\"></td><td class=\"tdhistory662392\"></td><td class=\"tdhistory662392\"></td><td class=\"tdhistory662392\"></td></tr></tbody></table></div>"
      ]
     },
     "execution_count": 20,
     "metadata": {
      "application/vnd.teradata.resultset": "{\"resultSetID\":\"/home/jovyan/JupyterLabRoot/Teradata/Resultsets/2023.01.24_13.28.23.949_UTC\",\"historyID\":96,\"chunkID\":\"00001\",\"sessionid\":\"\",\"portnum\":\"\",\"dockermode\":\"docker\",\"totalRowCount\":13,\"chunkCount\":0,\"rowLimit\":0,\"columnMetadata\":[{\"columnName\":\"TD_STATTYPE_SCLFIT\",\"columnTypeName\":\"VARCHAR\",\"length\":128,\"scale\":128},{\"columnNumber\":1,\"columnName\":\"TotalQuantity\",\"columnTypeName\":\"FLOAT\"},{\"columnNumber\":2,\"columnName\":\"TotalItems\",\"columnTypeName\":\"FLOAT\"},{\"columnNumber\":3,\"columnName\":\"TotalPrice\",\"columnTypeName\":\"FLOAT\"},{\"columnNumber\":4,\"columnName\":\"TotalSales\",\"columnTypeName\":\"FLOAT\"},{\"columnNumber\":5,\"columnName\":\"SalesPerItem\",\"columnTypeName\":\"FLOAT\"}]}"
     },
     "output_type": "execute_result"
    }
   ],
   "source": [
    "--ScaleFit/Transform to rescale the data\n",
    "SELECT * FROM TD_ScaleFit(\n",
    "    ON Scaled_data AS InputTable\n",
    "    OUT VOLATILE TABLE OutputTable(ScaleFit_CS)\n",
    "    USING\n",
    "        TargetColumns('TotalQuantity','TotalItems','TotalPrice','TotalSales','SalesPerItem')\n",
    "        ScaleMethod('range')\n",
    ") as dt;"
   ]
  },
  {
   "cell_type": "code",
   "execution_count": null,
   "id": "c2365728",
   "metadata": {},
   "outputs": [],
   "source": [
    "REPLACE VIEW Scaled_Transformed_Customer_ID_Group_V AS (\n",
    "    SELECT * FROM TD_ScaleTransform(\n",
    "        ON Transformed_Customer_ID_Group_V AS InputTable\n",
    "        ON ScaleFit_CS as FitTable DIMENSION\n",
    "        USING\n",
    "            Accumulate('CustomerID')\n",
    "    )as dt\n",
    ")"
   ]
  },
  {
   "cell_type": "code",
   "execution_count": null,
   "id": "7c24e41f",
   "metadata": {},
   "outputs": [],
   "source": [
    "SELECT TOP 5 * FROM Scaled_Transformed_Customer_ID_Group_V"
   ]
  },
  {
   "cell_type": "markdown",
   "id": "1b5a61ce",
   "metadata": {
    "tags": []
   },
   "source": [
    "<hr>\n",
    "<p style = 'font-size:20px;font-family:Arial;color:#E37C4D'><b>Step 3 - Build the K-means Model</b></p>\n",
    "\n",
    "<p style = 'font-size:16px;font-family:Arial'>As discussed above, the K-means algorithm takes a number of clusters \"k\", chooses a random starting point for each centroid, and iterates until a hard limit, or an optimium value is reached.</p>\n",
    "\n",
    "<p style = 'font-size:16px;font-family:Arial'><b>Finding an Ideal value for K</b></p>\n",
    "<table style = 'width:100%;table-layout:fixed;'>\n",
    "    <tr>\n",
    "        <td style = 'vertical-align:top' width = '50%'>\n",
    "<p style = 'font-size:16px;font-family:Arial'>The example below uses a value of 5 for the number of clusters to build the model against.  Typically, data scientists will build the model using various values for \"k\", and plot the \"WCSS\" (Within Cluster Sum-of-Squares) value on a series of each value chosen for k.  The \"elbow\" point (where the slope changes) is usually a good value for k.  <a href = 'https://docs-dev.teradata.com/r/Teradata-VantageTM-Advanced-SQL-Engine-Analytic-Functions/June-2022/Model-Training-Functions/TD_KMeans'>TD_KMeans</a> function will return this value as \"TotalWithinSS : ###\" as a row in the \"td_modelinfo_kmeans\" column.</p></td>\n",
    "        <td><img src = 'images/WCSS_elbow.png' width = '300'></td>\n",
    "    </tr>\n",
    "    </table>\n",
    "\n",
    "<p style = 'font-size:16px;font-family:Arial'><b>Other Function Parameters Include (but are not limited to)</b></p>\n",
    "<ul style = 'font-size:16px;font-family:Arial'>\n",
    "    <li>Input Table</li>\n",
    "    <li>StopThreshold - The algorithm converges if the distance between the centroids from the previous iteration and the current iteration is less than the specified value.</li>\n",
    "    <li>MaxIterNum</li>Specify the maximum number of iterations for the K-means algorithm. The algorithm stops after performing the specified number of iterations even if the convergence criterion is not met.\n",
    "    </ul>"
   ]
  },
  {
   "cell_type": "code",
   "execution_count": null,
   "id": "391180fe",
   "metadata": {},
   "outputs": [],
   "source": [
    "DROP TABLE KMeans_Model"
   ]
  },
  {
   "cell_type": "code",
   "execution_count": null,
   "id": "2913528c",
   "metadata": {},
   "outputs": [],
   "source": [
    "Select * from TD_KMeans (\n",
    "    ON Scaled_Transformed_Customer_ID_Group_V as InputTable\n",
    "    OUT TABLE ModelTable(KMeans_Model)\n",
    "    USING\n",
    "        IdColumn('CustomerID')\n",
    "        TargetColumns('TotalQuantity','TotalPrice','TotalItems','TotalSales','SalesPerItem')\n",
    "        StopThreshold(0.0395)\n",
    "        NumClusters(5)\n",
    "        --Seed(0)\n",
    "        MaxIterNum(500)\n",
    ")as dt;"
   ]
  },
  {
   "cell_type": "markdown",
   "id": "8304ae16",
   "metadata": {},
   "source": [
    "<hr>\n",
    "<p style = 'font-size:20px;font-family:Arial;color:#E37C4D'><b>Step 4 - Bulk Transformation</b></p>\n",
    "\n",
    "<p style = 'font-size:16px;font-family:Arial'>Here, the Fit tables created above will be passed to a single <a href = 'https://docs-dev.teradata.com/r/Teradata-VantageTM-Advanced-SQL-Engine-Analytic-Functions/June-2022/Feature-Engineering-Transform-Functions/TD_ColumnTransformer'>TD_ColumnTransformer</a> function.  This is similar to an operational approach, where a single query will prepare new or incoming data for immediate analysis.</p>\n",
    "\n",
    "<img src = 'images/column_transformer.png' width = '300'>"
   ]
  },
  {
   "cell_type": "code",
   "execution_count": null,
   "id": "fe00187b",
   "metadata": {},
   "outputs": [],
   "source": [
    "SELECT TOP 5 * FROM UK_Retail_Test_V"
   ]
  },
  {
   "cell_type": "code",
   "execution_count": null,
   "id": "11dd053c",
   "metadata": {},
   "outputs": [],
   "source": [
    "--Steps broken up above can be put together into a single query\n",
    "\n",
    "REPLACE VIEW Scaled_Transformed_Test_V AS (\n",
    "    \n",
    "SELECT * FROM TD_ColumnTransformer(\n",
    "            --Use our groupby inside the ON clause\n",
    "            ON (SELECT CustomerID,\n",
    "                    SUM(quantity) as TotalQuantity , \n",
    "                    SUM(UnitPrice) as TotalPrice, \n",
    "                    COUNT(DISTINCT(StockCode)) as TotalItems\n",
    "                FROM UK_Retail_Test_V\n",
    "                GROUP BY CustomerID\n",
    "                ) AS InputTable\n",
    "            \n",
    "            --Pass each fit table from above as dimensions\n",
    "            ON OutlierFit_CS AS OutlierFilterFitTable DIMENSION\n",
    "            ON ImputeFit_CS AS SimpleImputeFitTable DIMENSION\n",
    "            ON NonLinearCombineFit_CS_TotalSales AS NonLinearCombineFitTable DIMENSION\n",
    "            ON NonLinearCombineFit_CS_SalesPerItem AS NonLinearCombineFitTable DIMENSION\n",
    "            ON ScaleFit_CS as ScaleFitTable DIMENSION\n",
    "    )as dt\n",
    ")"
   ]
  },
  {
   "cell_type": "code",
   "execution_count": null,
   "id": "1e4d5980",
   "metadata": {},
   "outputs": [],
   "source": [
    "SELECT TOP 5 * FROM Scaled_Transformed_Test_V"
   ]
  },
  {
   "cell_type": "markdown",
   "id": "ddce515c",
   "metadata": {},
   "source": [
    "<hr>\n",
    "<p style = 'font-size:20px;font-family:Arial;color:#E37C4D'><b>Step 5 - Predict and Evaluate</b></p>\n",
    "\n",
    "<p style = 'font-size:16px;font-family:Arial'>Finally, we run the model against new (in this case testing) data using <a href = 'https://docs-dev.teradata.com/r/Teradata-VantageTM-Advanced-SQL-Engine-Analytic-Functions/June-2022/Model-Scoring-Functions/TD_KMeansPredict'>TD_KMeansPredict</a>.  The preparation step has been completed in a single query above.  Additionally, we will use an evaluation function <a href = 'https://docs-dev.teradata.com/r/Teradata-VantageTM-Advanced-SQL-Engine-Analytic-Functions/June-2022/Model-Evaluation-Functions/TD_Silhouette'>TD_Silhouette</a> to analyze how well the new cluster predictions match the original model.</p>\n",
    "\n",
    "<ol style = 'font-size:16px;font-family:Arial'>\n",
    "    <li>Call TD_KMeansPredict</li>\n",
    "    <li>Inpect the results</li>\n",
    "    <li>Call TD_Silhouette on the output</li>\n",
    "    </ol>"
   ]
  },
  {
   "cell_type": "markdown",
   "id": "bbd8c482",
   "metadata": {},
   "source": [
    "<hr>\n",
    "<p style = 'font-size:18px;font-family:Arial;color:#E37C4D'>5.1 - Call the Prediction Function</p>\n",
    "\n",
    "<p style = 'font-size:16px;font-family:Arial'>Pass the Input Data, Model Table, and other parameters including columns to accumulate.  Note here we create a new View to assist with Silhouette analysis of the prediction.</p>"
   ]
  },
  {
   "cell_type": "code",
   "execution_count": null,
   "id": "0508b593",
   "metadata": {},
   "outputs": [],
   "source": [
    "REPLACE VIEW KMeans_Output_V AS (\n",
    "    SELECT * FROM TD_KMeansPredict (\n",
    "        ON Scaled_Transformed_Test_V AS InputTable\n",
    "        ON KMeans_Model as ModelTable DIMENSION\n",
    "        USING\n",
    "            OutputDistance('true')\n",
    "            Accumulate('[1:5]')\n",
    "    )as dt\n",
    ")"
   ]
  },
  {
   "cell_type": "markdown",
   "id": "425d8e7e",
   "metadata": {},
   "source": [
    "<hr>\n",
    "<p style = 'font-size:18px;font-family:Arial;color:#E37C4D'>5.2 - Inspect the Results</p>\n",
    "\n",
    "<p style = 'font-size:16px;font-family:Arial'>Simple SELECT</p>"
   ]
  },
  {
   "cell_type": "code",
   "execution_count": null,
   "id": "7b242c95",
   "metadata": {},
   "outputs": [],
   "source": [
    "SELECT TOP 5 * FROM KMeans_Output_V "
   ]
  },
  {
   "cell_type": "markdown",
   "id": "7b3b1ebf",
   "metadata": {},
   "source": [
    "<hr>\n",
    "<p style = 'font-size:18px;font-family:Arial;color:#E37C4D'>5.3 - Evaluate the Prediction</p>\n",
    "\n",
    "<p style = 'font-size:16px;font-family:Arial'><a href = 'https://docs-dev.teradata.com/r/Teradata-VantageTM-Advanced-SQL-Engine-Analytic-Functions/June-2022/Model-Evaluation-Functions/TD_Silhouette'>TD_Silhouette</a> is a native Vantage function that evaluates the similarity of an object to its cluster (cohesion) compared to other clusters (separation).  The silhouette scores and its definitions are as follows:</p>\n",
    "\n",
    "<ul style = 'font-size:16px;font-family:Arial'>\n",
    "    <li>1: Data is appropriately clustered</li>\n",
    "    <li>-1: Data is not appropriately clustered</li>\n",
    "    <li>0: Datum is on the border of two natural clusters</li>\n",
    "    </ul>\n",
    "\n",
    "<p style = 'font-size:16px;font-family:Arial'>See the documentation for a full listing of parameters and return values.</p>"
   ]
  },
  {
   "cell_type": "code",
   "execution_count": null,
   "id": "abf6fee1",
   "metadata": {},
   "outputs": [],
   "source": [
    "SELECT * FROM TD_Silhouette(\n",
    "    ON KMeans_Output_V as inputTable\n",
    "    USING\n",
    "        IdColumn('CustomerID')\n",
    "        ClusterIdColumn('td_clusterid_kmeans')\n",
    "        TargetColumns('[3:7]')\n",
    "        OutputType('SCORE')\n",
    ") as dt"
   ]
  },
  {
   "cell_type": "markdown",
   "id": "6e3c45e9",
   "metadata": {},
   "source": [
    "<p style = 'font-size:28px;font-family:Arial;color:#E37C4D'><b>4.Clean up</b> </p>\n",
    "<p style = 'font-size:18px;font-family:Arial;color:#E37C4D'><b>Worktables</b> </p>"
   ]
  },
  {
   "cell_type": "code",
   "execution_count": null,
   "id": "6abb9da1",
   "metadata": {},
   "outputs": [],
   "source": [
    "DROP VIEW UK_Retail_Test_V"
   ]
  },
  {
   "cell_type": "code",
   "execution_count": null,
   "id": "b528cd76",
   "metadata": {},
   "outputs": [],
   "source": [
    "DROP VIEW Customer_ID_Group_V"
   ]
  },
  {
   "cell_type": "code",
   "execution_count": null,
   "id": "b3de98b6",
   "metadata": {},
   "outputs": [],
   "source": [
    "DROP VIEW Transformed_Customer_ID_Group_V"
   ]
  },
  {
   "cell_type": "markdown",
   "id": "ad5faff7-098d-47e5-aedc-b1c404065d26",
   "metadata": {},
   "source": [
    "<p style = 'font-size:20px;font-family:Arial;color:#E37C4D'> <b>Database and Tables </b></p>\n",
    "<p style = 'font-size:16px;font-family:Arial'>The following code will clean up tables and databases created above.</p>"
   ]
  },
  {
   "cell_type": "code",
   "execution_count": 4,
   "id": "fbf5f8df-ad8e-483d-951f-4339b567be1e",
   "metadata": {},
   "outputs": [
    {
     "data": {
      "text/plain": [
       "Success: 0 rows affected"
      ]
     },
     "execution_count": 4,
     "metadata": {
      "application/vnd.teradata.resultset": ""
     },
     "output_type": "execute_result"
    },
    {
     "data": {
      "text/plain": [
       "Success: 0 rows affected"
      ]
     },
     "execution_count": 4,
     "metadata": {
      "application/vnd.teradata.resultset": ""
     },
     "output_type": "execute_result"
    },
    {
     "data": {
      "application/vnd.teradata.resultset": "\"Message\"\n\"Removed objects related to DEMO_Retail. That ran for 0:00:02.40\"",
      "text/html": [
       "<div class = \"td-resultset-table-div\" style = \"max-height: 100%; overflow-y: auto\">\n",
       "      <table class=\"tdhistory522240\"><style>\n",
       "      table.tdhistory522240 { display: block !important; min-height: 105px !important; overflow: auto !important; height: 105px !important; width: 100% !important; border: 1px solid rgb(207, 207, 207) !important; border-collapse: collapse !important; ; color: var(--jp-ui-font-color1) !important; }\n",
       "      th.tdhistory522240 { border: 1px solid rgb(198,198,198) !important; border-collapse: collapse !important; ; padding: 2px 5px !important; ; font-size: 13px !important; ; text-align: center !important; white-space: normal !important; color: var(--jp-ui-font-color1) !important; }\n",
       "      th.tdhistory522240:last-child { text-align: left !important; }\n",
       "      tbody.tdhistory522240 tr:nth-child(even) { background: rgba(243, 243, 243, 0.75) !important; }\n",
       "      tbody.tdhistory522240 tr:nth-child(odd) { background: var(--jp-ui-inverse-font-color1) !important; }\n",
       "      td.tdhistory522240 { border: 1px solid rgb(207, 207, 207) !important; border-collapse: collapse !important; ; padding: 2px 5px !important; ; font-size: 13px !important; ; text-align: left !important;          white-space: nowrap !important; overflow:hidden !important; text-overflow:ellipsis !important;; }\n",
       "    </style><thead><tr style= \"background: rgba(243, 243, 243, 0.75)\"><th class=\"tdhistory522240\"></th><th class=\"tdhistory522240\">Message</th></tr></thead><tbody class=\"tdhistory522240 resultset-body\"><tr><th class=\"tdhistory522240\" style= \"background: rgba(243, 243, 243, 0.75)\">1</th><td class=\"tdhistory522240\">Removed objects related to DEMO_Retail. That ran for 0:00:02.40</td></tr></tbody></table></div>"
      ]
     },
     "execution_count": 4,
     "metadata": {
      "application/vnd.teradata.resultset": "{\"resultSetID\":\"/home/jovyan/JupyterLabRoot/Teradata/Resultsets/2023.01.24_13.16.48.749_UTC\",\"historyID\":80,\"chunkID\":\"00001\",\"sessionid\":\"\",\"portnum\":\"\",\"dockermode\":\"docker\",\"totalRowCount\":1,\"chunkCount\":0,\"rowLimit\":0,\"columnMetadata\":[{\"columnName\":\"Message\",\"columnTypeName\":\"VARCHAR\",\"length\":65,\"scale\":65}]}"
     },
     "output_type": "execute_result"
    }
   ],
   "source": [
    "call remove_data('DEMO_Retail');-- takes about 5 seconds, optional if you want to use the data later"
   ]
  },
  {
   "cell_type": "code",
   "execution_count": null,
   "id": "012f77fa",
   "metadata": {},
   "outputs": [],
   "source": [
    "DROP VIEW Scaled_Transformed_Customer_ID_Group_V"
   ]
  },
  {
   "cell_type": "code",
   "execution_count": null,
   "id": "922d1f62",
   "metadata": {},
   "outputs": [],
   "source": [
    "DROP VIEW Scaled_Transformed_Test_V"
   ]
  },
  {
   "cell_type": "code",
   "execution_count": null,
   "id": "73b8a312",
   "metadata": {},
   "outputs": [],
   "source": [
    "DROP VIEW KMeans_Output_V"
   ]
  },
  {
   "cell_type": "code",
   "execution_count": null,
   "id": "ed34ba7d",
   "metadata": {},
   "outputs": [],
   "source": [
    "DROP TABLE KMeans_Model"
   ]
  },
  {
   "cell_type": "code",
   "execution_count": null,
   "id": "80dd8a1b",
   "metadata": {},
   "outputs": [],
   "source": [
    "DROP TABLE ScaleFit_CS"
   ]
  },
  {
   "cell_type": "code",
   "execution_count": null,
   "id": "499326ba",
   "metadata": {},
   "outputs": [],
   "source": [
    "DROP TABLE NonLinearCombineFit_CS_SalesPerItem"
   ]
  },
  {
   "cell_type": "code",
   "execution_count": null,
   "id": "b573b308",
   "metadata": {},
   "outputs": [],
   "source": [
    "DROP TABLE NonLinearCombineFit_CS_TotalSales"
   ]
  },
  {
   "cell_type": "code",
   "execution_count": null,
   "id": "607903c7",
   "metadata": {},
   "outputs": [],
   "source": [
    "DROP TABLE ImputeFit_CS"
   ]
  },
  {
   "cell_type": "code",
   "execution_count": null,
   "id": "6fcd5ee6",
   "metadata": {},
   "outputs": [],
   "source": [
    "DROP TABLE OutlierFit_CS"
   ]
  },
  {
   "cell_type": "code",
   "execution_count": null,
   "id": "b2f2dc39",
   "metadata": {},
   "outputs": [],
   "source": []
  },
  {
   "cell_type": "code",
   "execution_count": null,
   "id": "9fc2ad87",
   "metadata": {},
   "outputs": [],
   "source": []
  }
 ],
 "metadata": {
  "kernelspec": {
   "display_name": "Teradata SQL",
   "language": "Teradata SQL",
   "name": "teradatasql"
  },
  "language_info": {
   "codemirror_mode": "Teradata SQL",
   "file_extension": ".tdrs",
   "mimetype": "application/vnd.teradata.resultset",
   "name": "Teradata SQL",
   "nbconvert_exporter": "",
   "pygments_lexer": "",
   "version": "16.20"
  },
  "toc-showmarkdowntxt": true
 },
 "nbformat": 4,
 "nbformat_minor": 5
}
