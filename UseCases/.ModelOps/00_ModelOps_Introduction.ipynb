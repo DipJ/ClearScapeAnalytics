{
 "cells": [
  {
   "cell_type": "markdown",
   "id": "78b31d68",
   "metadata": {},
   "source": [
    "![image](images/CSAE_Header.png)"
   ]
  },
  {
   "cell_type": "markdown",
   "id": "2d696522",
   "metadata": {},
   "source": [
    "<header style=\"padding:1px;background:#f9f9f9;border-top:3px solid #00b2b1\"><img id=\"Teradata-logo\" src=\"https://www.teradata.com/Teradata/Images/Rebrand/Teradata_logo-two_color.png\" alt=\"Teradata\" width=\"220\" align=\"right\" />\n",
    "\n",
    "    \n",
    "<b style = 'font-size:28px;font-family:Arial;color:#E37C4D'>ClearScape Analytics™ ModelOps Demonstrations</b>\n",
    "</header>"
   ]
  },
  {
   "cell_type": "markdown",
   "id": "4c4cd255-41d0-45d8-84d3-76365f9c7569",
   "metadata": {},
   "source": [
    "According to Gartner, **65% predictive models are never implemented in production** and according to Accenture 63% of organizations lack mature strategies and capabilities to operationalize AI/ML at scale. With the capabilities of **ClearScape Analytics ModelOps**, Analytics-driven organizations can follow a mature methodology and automated capabilities to solve this gap and make efficient model operationalization at Scale in Vantage."
   ]
  },
  {
   "cell_type": "markdown",
   "id": "d9cba7f5",
   "metadata": {},
   "source": [
    "ClearScape Analytics ModelOps manages the operationalization of advanced analytics in Teradata Vantage providing Deployment, Governance and Monitoring of your AI/ML models at scale. ModelOps provides an easy-to-use web-based user interface (UI), a command line interface (CLI) and Python/R Software Development Kit (SDK).\n",
    "\n"
   ]
  },
  {
   "cell_type": "markdown",
   "id": "a91e4534-13cb-4b8f-a39d-cfa189871f21",
   "metadata": {
    "tags": []
   },
   "source": [
    "For functionality testing, we have prepared one single demo Project (PIMA Diabetes prediction) with different demonstrations based on notebooks to walk you through the functionality of ModelOps in ClearScape Analytics Experience:\n"
   ]
  },
  {
   "cell_type": "markdown",
   "id": "8457fb2f-7234-4b56-9663-9ad7a299c6aa",
   "metadata": {},
   "source": [
    "![image](images/00_00.png)"
   ]
  },
  {
   "cell_type": "markdown",
   "id": "16014979-108c-4b6c-9202-0d10f8d704d7",
   "metadata": {},
   "source": [
    "We recommend you go through these steps in sequence to familiarize with ModelOps methodology and interface. "
   ]
  },
  {
   "cell_type": "markdown",
   "id": "cc14e246",
   "metadata": {},
   "source": [
    "<b style = 'font-size:16px;font-family:Arial;color:#E37C4D'>First explore the ModelOps User Interface and Capabilities</b>\n",
    "* [01 - ModelOps Getting Started](01_ModelOps_Getting_Started.ipynb)\n",
    "\n",
    "\n",
    "<b style = 'font-size:16px;font-family:Arial;color:#E37C4D'>Understand the PIMA Diabetes use case from Jupyter </b>\n",
    "* [02 - ModelOps PIMA Jupyter-only Data Exploration and Experimentation](02_ModelOps_PIMA_Experimentation.ipynb)\n",
    "\n",
    "<b style = 'font-size:16px;font-family:Arial;color:#E37C4D'>Try the BYOM no code operationalization (Easiest to operationalize)</b>\n",
    "\n",
    "* [03 - ModelOps-BYOM  with PMML](03_ModelOps_BYOM_PIMA_PMML.ipynb)\n",
    "* [04 - ModelOps-BYOM  with ONNX](04_ModelOps_BYOM_PIMA_ONNX.ipynb)\n",
    "* [05 - ModelOps-BYOM  with H2O](05_ModelOps_BYOM_PIMA_H2O.ipynb)\n",
    "* Dataiku with ModelOps BYOM no code (available soon)\n",
    "* SAS with ModelOps BYOM no code (available soon)\n",
    "\n",
    "<b style = 'font-size:16px;font-family:Arial;color:#E37C4D'>Try the In-database functions and Open Analytics operationalization (Advanced Users)</b>\n",
    "\n",
    "* [06 - ModelOps-GIT GIT Project and Dataset Setup](06_ModelOps_GIT_Project_Setup.ipynb)  <-- Setup needed for this section\n",
    "* [07 - ModelOps-GIT with Python In-database GLM](07_ModelOps_GIT_PIMA_Python_Indb_GLM.ipynb)\n",
    "* [08 - ModelOps-GIT with Python H2O AutoML](08_ModelOps_GIT_PIMA_Python_H2OAutoML.ipynb)\n",
    "* [09 - ModelOps-GIT with Python XGboost](09_ModelOps_GIT_PIMA_Python_XGboost.ipynb)\n",
    "* [10 - ModelOps-GIT with R GBM](10_ModelOps_GIT_PIMA_R_GBM.ipynb)\n",
    "* In-database Analytics XGBooost (available soon)"
   ]
  },
  {
   "cell_type": "markdown",
   "id": "17f8f520-2866-4d71-bf01-93cd11a5f469",
   "metadata": {},
   "source": [
    "If you are already familiar with ModelOps, and want to try the pre-loaded Demos you can go directly into ModelOps dashboard here:"
   ]
  },
  {
   "cell_type": "markdown",
   "id": "910d4ff9-21a6-4de7-bfaf-bf7ceaa40d76",
   "metadata": {},
   "source": [
    "[![image](images/launchModelOps.png)](/modelops)"
   ]
  },
  {
   "cell_type": "markdown",
   "id": "77ae6ce7",
   "metadata": {},
   "source": [
    "<footer style=\"padding:10px;background:#f9f9f9;border-bottom:3px solid #394851\">©2023 Teradata. All Rights Reserved</footer>"
   ]
  }
 ],
 "metadata": {
  "kernelspec": {
   "display_name": "Python 3 (ipykernel)",
   "language": "python",
   "name": "python3"
  },
  "language_info": {
   "codemirror_mode": {
    "name": "ipython",
    "version": 3
   },
   "file_extension": ".py",
   "mimetype": "text/x-python",
   "name": "python",
   "nbconvert_exporter": "python",
   "pygments_lexer": "ipython3",
   "version": "3.9.10"
  }
 },
 "nbformat": 4,
 "nbformat_minor": 5
}
