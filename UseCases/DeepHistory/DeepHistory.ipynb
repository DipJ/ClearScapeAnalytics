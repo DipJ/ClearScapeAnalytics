{
 "cells": [
  {
   "cell_type": "markdown",
   "metadata": {},
   "source": [
    "<header style=\"padding:1px;background:#f9f9f9;border-top:3px solid #00b2b1\"><img id=\"Teradata-logo\" src=\"https://www.teradata.com/Teradata/Images/Rebrand/Teradata_logo-two_color.png\" alt=\"Teradata\" width=\"220\" align=\"right\" />\n",
    "\n",
    "<b style = 'font-size:28px;font-family:Arial;color:#E37C4D'>Deep History</b>\n",
    "</header>\n",
    "\n",
    "<p style = 'font-size:20px;font-family:Arial;color:#E37C4D'><b>Introduction</b></p>\n",
    "\n",
    "\n",
    "<p style = 'font-size:16px;font-family:Arial'>Increasingly stringent regulations require companies to keep data online and accessible for regulatory compliance over many years. Although the most frequently accessed data is the latest or most current data, that doesn’t mean that the older information is not useful or relevant. Historical data that’s been compiled over the years gives a rich perspective of the business, such as long-term trends and cyclical patterns.</p>\n",
    "\n",
    "<p style = 'font-size:16px;font-family:Arial'>Teradata Vantage provides unmatched concurrency and performance for the world's largest and most demanding enterprises to analyze their data. Analysis and concurrency needs for older information is generally substantially less as data ages, and over time there is much more history data that accumulates than current 'hot' data, it makes sense to store it somewhere that has different performance and price characteristics: for example an object store such as Amazon S3 or Azure Blob storage.</p>\n",
    "\n",
    "<p style = 'font-size:16px;font-family:Arial'>Keeping historical and current data in separate systems can make it a challenge to gain unique insights that are possible only by analyzing the information together. But not any longer. Now, Teradata Vantage can be used to seamlessly join together all the historical and current information across the data warehouse AND object storage, without having to change the basic data structures and queries. This makes it possible to cost-effectively answer questions that could not be previously addressed so decision makers can better plan for the future.</p>"
   ]
  },
  {
   "cell_type": "markdown",
   "metadata": {},
   "source": [
    "<p style = 'font-size:20px;font-family:Arial;color:#E37C4D'><b>Accessing the Data</b></p>\n",
    "<p style = 'font-size:16px;font-family:Arial'>These demos will work either with foreign tables accessed from Cloud Storage via NOS or you may import the tables to your machine. If you import data for multiple demos, you may need to use the Data Dictionary \"Manage Your Space\" routine to cleanup tables you no longer need. \n",
    "    \n",
    "<p style = 'font-size:16px;font-family:Arial'>Use the link below to access the 2 options for using data from the data dictionary notebook:\n",
    "\n",
    "[Click Here to get data for this notebook](../Data_Dictionary/Data_Dictionary.ipynb#TRNG_SalesOffload)\n",
    "\n",
    "[Click Here to Manage Your Space](../Data_Dictionary/Data_Dictionary.ipynb#Manage_Your_Space)"
   ]
  },
  {
   "cell_type": "markdown",
   "metadata": {},
   "source": [
    "<p style = 'font-size:20px;font-family:Arial;color:#E37C4D'><b>Experience</b></p>\n",
    "\n",
    "<p style = 'font-size:16px;font-family:Arial'>The Experience section takes about 10 minutes to run.</p>\n",
    "\n",
    "<p style = 'font-size:16px;font-family:Arial'>First step is to connect to Vantage.You will be prompted to enter password.</p> "
   ]
  },
  {
   "cell_type": "code",
   "execution_count": null,
   "metadata": {},
   "outputs": [],
   "source": [
    "%connect local"
   ]
  },
  {
   "cell_type": "markdown",
   "metadata": {},
   "source": [
    "<p style = 'font-size:20px;font-family:Arial;color:#E37C4D'><b>Walkthrough</b></p>\n",
    "\n",
    "<p style = 'font-size:20px;font-family:Arial;color:#E37C4D'><b>Step 1: Querying the Data</b></p>"
   ]
  },
  {
   "cell_type": "markdown",
   "metadata": {},
   "source": [
    "<p style = 'font-size:16px;font-family:Arial'>Here is our current sales data. Lets grab some sample rows, we can see in this example we have customer, store, basket and discount information.</p>"
   ]
  },
  {
   "cell_type": "code",
   "execution_count": null,
   "metadata": {},
   "outputs": [],
   "source": [
    "SELECT TOP 10 * \n",
    "FROM TRNG_SalesOffload.sales_fact;"
   ]
  },
  {
   "cell_type": "markdown",
   "metadata": {},
   "source": [
    "<p style = 'font-size:16px;font-family:Arial'>Aggregating our current sales data for each date.</p>"
   ]
  },
  {
   "cell_type": "code",
   "execution_count": null,
   "metadata": {},
   "outputs": [],
   "source": [
    "SELECT sales_date, sum(sales_quantity) as total \n",
    "FROM TRNG_SalesOffload.sales_fact\n",
    "GROUP BY sales_date\n",
    "ORDER BY sales_date ASC"
   ]
  },
  {
   "cell_type": "markdown",
   "metadata": {},
   "source": [
    "<p style = 'font-size:16px;font-family:Arial'>Let's view our current sales data for each date by pltting it in a chart.</p>"
   ]
  },
  {
   "cell_type": "code",
   "execution_count": null,
   "metadata": {
    "tags": []
   },
   "outputs": [],
   "source": [
    "%chart sales_date, total, title='Recent Sales Trends', width=900, height=400"
   ]
  },
  {
   "cell_type": "markdown",
   "metadata": {},
   "source": [
    "<p style = 'font-size:16px;font-family:Arial'>Getting the minimum and maximum date for sales data for each date.</p>"
   ]
  },
  {
   "cell_type": "code",
   "execution_count": null,
   "metadata": {},
   "outputs": [],
   "source": [
    "SELECT MIN(sales_date) AS min_date, MAX(sales_date) AS max_date FROM TRNG_SalesOffload.sales_fact"
   ]
  },
  {
   "cell_type": "markdown",
   "metadata": {},
   "source": [
    "<p style = 'font-size:16px;font-family:Arial'>How many records do we have in the data warehouse (2019 data)? </p>"
   ]
  },
  {
   "cell_type": "code",
   "execution_count": null,
   "metadata": {},
   "outputs": [],
   "source": [
    "SELECT COUNT(*)\n",
    "FROM TRNG_SalesOffload.sales_fact"
   ]
  },
  {
   "cell_type": "markdown",
   "metadata": {},
   "source": [
    "<p style = 'font-size:20px;font-family:Arial;color:#E37C4D'><b>Step 2: Explore the offloaded historical data </b></p>\n",
    "\n",
    "<p style = 'font-size:16px;font-family:Arial'>As you have seen we only have 1 year of sales data in our data warehouse as this is by far the most queried, but for compliance many companies need to keep up to 10 years of historical data. The older data has been exported from Vantage on a monthly basis and loaded into Amazon S3 for long term storage. With Teradata Vantage we can seamlessly access this offloaded data and join with the rest of the data to get insights over long term trends and handle audit requests with ease. This includes using existing queries and reports that would otherwise need to be re-written!</p>"
   ]
  },
  {
   "cell_type": "markdown",
   "metadata": {},
   "source": [
    "<p style = 'font-size:16px;font-family:Arial'>We know the bucket where the offloaded sales data is located, so let's take a look at some of the data that is there - using the READ_NOS function we can get the list of files and their sizes.</p>"
   ]
  },
  {
   "cell_type": "code",
   "execution_count": null,
   "metadata": {},
   "outputs": [],
   "source": [
    "SELECT location(char(255)), ObjectLength \n",
    "FROM read_nos (\n",
    "ON (select cast(NULL AS DATASET INLINE LENGTH 64000 STORAGE FORMAT CSV))\n",
    "USING \n",
    " LOCATION  ('/s3/s3.amazonaws.com/trial-datasets/SalesOffload')\n",
    " RETURNTYPE ('NOSREAD_KEYS')\n",
    ") as d \n",
    "ORDER BY 1"
   ]
  },
  {
   "cell_type": "markdown",
   "metadata": {},
   "source": [
    "<p style = 'font-size:16px;font-family:Arial'>How many files and directories are there total? </p>"
   ]
  },
  {
   "cell_type": "code",
   "execution_count": null,
   "metadata": {},
   "outputs": [],
   "source": [
    "SELECT COUNT(location(char(255))) as NumFiles\n",
    "FROM read_nos (\n",
    "ON (select cast(NULL AS DATASET INLINE LENGTH 64000 STORAGE FORMAT CSV))\n",
    "USING \n",
    " LOCATION  ('/s3/s3.amazonaws.com/trial-datasets/SalesOffload')\n",
    " RETURNTYPE ('NOSREAD_KEYS')\n",
    ") as d \n",
    "ORDER BY 1"
   ]
  },
  {
   "cell_type": "markdown",
   "metadata": {},
   "source": [
    "<p style = 'font-size:16px;font-family:Arial'>Let's take a look at one of the files to get a better understanding of the file format:</p>"
   ]
  },
  {
   "cell_type": "code",
   "execution_count": null,
   "metadata": {},
   "outputs": [],
   "source": [
    "SELECT * FROM READ_NOS (\n",
    "      USING\n",
    "      LOCATION  ('/s3/s3.amazonaws.com/trial-datasets/SalesOffload/2010/1/object_33_0_1.parquet')\n",
    "      RETURNTYPE ('NOSREAD_PARQUET_SCHEMA')\n",
    "      FULLSCAN ('TRUE')\n",
    "      )\n",
    "AS d"
   ]
  },
  {
   "cell_type": "markdown",
   "metadata": {},
   "source": [
    "<p style = 'font-size:20px;font-family:Arial;color:#E37C4D'><b>Step 3: Create a simple abstraction layer for easy access</b></p>\n",
    "\n",
    "<p style = 'font-size:16px;font-family:Arial'>Create a foreign table and a view in Vantage to allow business analysts and other users to easily access the offloaded historical data:</p>"
   ]
  },
  {
   "cell_type": "markdown",
   "metadata": {},
   "source": [
    "<p style = 'font-size:16px;font-family:Arial'>Note, you will need to list all the columns in the foreign table definition </p>"
   ]
  },
  {
   "cell_type": "code",
   "execution_count": null,
   "metadata": {},
   "outputs": [],
   "source": [
    "CREATE FOREIGN TABLE sales_fact_offload\n",
    "       (\n",
    "Location VARCHAR(2048) CHARACTER SET UNICODE CASESPECIFIC,\n",
    "TheYear INTEGER,\n",
    "TheMonth INTEGER,\n",
    "sales_date DATE FORMAT 'YY/MM/DD',\n",
    "customer_id INTEGER,\n",
    "store_id INTEGER,\n",
    "basket_id INTEGER,\n",
    "product_id INTEGER,\n",
    "sales_quantity INTEGER,\n",
    "discount_amount FLOAT FORMAT '-ZZZ9.99'\n",
    ")\n",
    "USING\n",
    "       (\n",
    "LOCATION  ('/s3/s3.amazonaws.com/trial-datasets/SalesOffload')\n",
    "STOREDAS  ('PARQUET')\n",
    "       )\n",
    "NO PRIMARY INDEX\n",
    "PARTITION BY COLUMN"
   ]
  },
  {
   "cell_type": "markdown",
   "metadata": {},
   "source": [
    "<p style = 'font-size:16px;font-family:Arial'>Lets take a look at some of the rows that are in the offloaded files. </p>"
   ]
  },
  {
   "cell_type": "code",
   "execution_count": null,
   "metadata": {},
   "outputs": [],
   "source": [
    "SELECT TOP 10 *\n",
    "FROM sales_fact_offload"
   ]
  },
  {
   "cell_type": "markdown",
   "metadata": {},
   "source": [
    "<p style = 'font-size:16px;font-family:Arial'>How much data do we have out there? </p>"
   ]
  },
  {
   "cell_type": "code",
   "execution_count": null,
   "metadata": {},
   "outputs": [],
   "source": [
    "SELECT COUNT(*)\n",
    "FROM sales_fact_offload"
   ]
  },
  {
   "cell_type": "markdown",
   "metadata": {},
   "source": [
    "<p style = 'font-size:16px;font-family:Arial'>Ok, we are close! We want the data to look like a native table. So lets put a view on top to split it out into colummns. With CSV formatted data we need to reference the column names with 2 dots. </p>"
   ]
  },
  {
   "cell_type": "code",
   "execution_count": null,
   "metadata": {},
   "outputs": [],
   "source": [
    "REPLACE VIEW sales_fact_offload_v as (  \n",
    "SELECT \n",
    "    sales_date,\n",
    "    customer_id,\n",
    "    store_id,\n",
    "    basket_id,\n",
    "    product_id,\n",
    "    sales_quantity,\n",
    "    discount_amount\n",
    "FROM sales_fact_offload)"
   ]
  },
  {
   "cell_type": "markdown",
   "metadata": {},
   "source": [
    "<p style = 'font-size:16px;font-family:Arial'>Now we can query the data like any other table in Teradata Vantage, but the data is pulled at query runtime directly from the object store! We now have a seamless analytic experience by supporting the correlation of object store-based data sets with structured data sets in Teradata relational tables using existing SQL skills and workflows. </p>"
   ]
  },
  {
   "cell_type": "code",
   "execution_count": null,
   "metadata": {},
   "outputs": [],
   "source": [
    "SELECT TOP 10 *\n",
    "FROM sales_fact_offload_v"
   ]
  },
  {
   "cell_type": "markdown",
   "metadata": {},
   "source": [
    "<p style = 'font-size:16px;font-family:Arial'>That looks nice! Now our users can access all the historical data we have in the object store!</p>\n",
    "\n",
    "<p style = 'font-size:16px;font-family:Arial'>You can do everything in a view over a foreign table that you would do with a standard database view. This includes returning only a subset of the underlying table columns, as well as adding a WHERE clause in the view to limit what rows are made available using the view.</p>\n",
    "\n",
    "<p style = 'font-size:16px;font-family:Arial'>Often we want to be able to look at just a portion of this vast amount of data at a time, which is why we have stored it by year and month. Let's re-define the foreign table to allow us to pre-filter the data when reading it.</p>"
   ]
  },
  {
   "cell_type": "markdown",
   "metadata": {},
   "source": [
    "<p style = 'font-size:20px;font-family:Arial;color:#E37C4D'><b>Step 3: Optimize the foreign table and view for efficient access</b></p>\n",
    "\n",
    "<p style = 'font-size:16px;font-family:Arial'>We have a lot of data in S3! Let's optimize the foreign table so that we minimize the data we have to read when querying the object store. Designing an object store bucket and path structure is an important first step when creating an object store. It requires knowledge of the business needs, the expected patterns in accessing the data, an understanding of the data, and a sensitivity to the tradeoffs. In our case we will often know the approximate date we are looking at, so will use this to our advantage.</p>"
   ]
  },
  {
   "cell_type": "code",
   "execution_count": null,
   "metadata": {},
   "outputs": [],
   "source": [
    "DROP TABLE sales_fact_offload"
   ]
  },
  {
   "cell_type": "code",
   "execution_count": null,
   "metadata": {},
   "outputs": [],
   "source": [
    "CREATE FOREIGN TABLE sales_fact_offload\n",
    "       (\n",
    "Location VARCHAR(2048) CHARACTER SET UNICODE CASESPECIFIC,\n",
    "TheYear INTEGER,\n",
    "TheMonth INTEGER,\n",
    "sales_date DATE FORMAT 'YY/MM/DD',\n",
    "customer_id INTEGER,\n",
    "store_id INTEGER,\n",
    "basket_id INTEGER,\n",
    "product_id INTEGER,\n",
    "sales_quantity INTEGER,\n",
    "discount_amount FLOAT FORMAT '-ZZZ9.99'\n",
    ")\n",
    "USING\n",
    "       (\n",
    "LOCATION  ('/s3/s3.amazonaws.com/trial-datasets/SalesOffload')\n",
    "PATHPATTERN ('$dir1/$year/$month')\n",
    "STOREDAS  ('PARQUET')\n",
    "       )\n",
    "NO PRIMARY INDEX\n",
    "PARTITION BY COLUMN"
   ]
  },
  {
   "cell_type": "markdown",
   "metadata": {},
   "source": [
    "<p style = 'font-size:16px;font-family:Arial'>We have re-defined our foreign table to include a <b>PATHPATTERN</b> clause. When looking at historical data by date, this allows us to read only the files we need!</p>\n",
    "\n",
    "<p style = 'font-size:16px;font-family:Arial'>Now let's re-create our user-friendly view that allows for this path filtering...</p>"
   ]
  },
  {
   "cell_type": "code",
   "execution_count": null,
   "metadata": {},
   "outputs": [],
   "source": [
    "REPLACE VIEW sales_fact_offload_v as (  \n",
    "SELECT \n",
    "    CAST($path.$year AS CHAR(4)) sales_year,\n",
    "    CAST($path.$month AS CHAR(2)) sales_month,\n",
    "    sales_date,\n",
    "    customer_id,\n",
    "    store_id,\n",
    "    basket_id,\n",
    "    product_id,\n",
    "    sales_quantity,\n",
    "    discount_amount\n",
    "FROM sales_fact_offload)"
   ]
  },
  {
   "cell_type": "code",
   "execution_count": null,
   "metadata": {},
   "outputs": [],
   "source": [
    "SELECT TOP 10 *\n",
    "FROM sales_fact_offload_v\n",
    "WHERE sales_year = '2010'\n",
    "AND sales_month = '9'"
   ]
  },
  {
   "cell_type": "markdown",
   "metadata": {},
   "source": [
    "<p style = 'font-size:16px;font-family:Arial'>This is great for use cases where we know the date at least to the month. Suppose we need to see what a customer bought many years ago. Or maybe we want to report on historical store sales. The business analyst can easily query this with no IT intervention, no going to backups or other hard to reach data silos!</p>"
   ]
  },
  {
   "cell_type": "markdown",
   "metadata": {},
   "source": [
    "<p style = 'font-size:16px;font-family:Arial'>Let's take a look at what store 6 did for sales back in August 2012:</p>"
   ]
  },
  {
   "cell_type": "code",
   "execution_count": null,
   "metadata": {},
   "outputs": [],
   "source": [
    "SELECT store_id, SUM(sales_quantity)\n",
    "FROM sales_fact_offload_v\n",
    "WHERE store_id = 6\n",
    "AND sales_year = '2012'\n",
    "AND sales_month = '8'\n",
    "GROUP BY 1"
   ]
  },
  {
   "cell_type": "markdown",
   "metadata": {},
   "source": [
    "<p style = 'font-size:16px;font-family:Arial'>Let's join the historical data with the current data so we can see the full picture:</p>"
   ]
  },
  {
   "cell_type": "code",
   "execution_count": null,
   "metadata": {},
   "outputs": [],
   "source": [
    "REPLACE VIEW sales_fact_all as (\n",
    "SELECT sales_date,\n",
    "    customer_id,\n",
    "    store_id,\n",
    "    basket_id,\n",
    "    product_id,\n",
    "    sales_quantity,\n",
    "    discount_amount\n",
    "    FROM TRNG_SalesOffload.sales_fact\n",
    "    UNION ALL\n",
    "SELECT \n",
    "    sales_date,\n",
    "    customer_id,\n",
    "    store_id,\n",
    "    basket_id,\n",
    "    product_id,\n",
    "    sales_quantity,\n",
    "    discount_amount\n",
    "FROM sales_fact_offload_v)"
   ]
  },
  {
   "cell_type": "markdown",
   "metadata": {},
   "source": [
    "<p style = 'font-size:16px;font-family:Arial'>Final thing we will do is re-run our sales over time report, code is unchanged from the one above, we are now able to analyse all the sales data and not just the most recent year.</p>"
   ]
  },
  {
   "cell_type": "code",
   "execution_count": null,
   "metadata": {},
   "outputs": [],
   "source": [
    "SELECT sales_date, sum(sales_quantity) as total \n",
    "FROM sales_fact_all\n",
    "GROUP BY sales_date\n",
    "ORDER BY sales_date ASC"
   ]
  },
  {
   "cell_type": "code",
   "execution_count": null,
   "metadata": {},
   "outputs": [],
   "source": [
    "%chart sales_date, total, title='All Sales Trends', width=900, height=400, color=green"
   ]
  },
  {
   "cell_type": "markdown",
   "metadata": {},
   "source": [
    "<p style = 'font-size:16px;font-family:Arial'>Now we see that 2019 in the broader context was an off year, we will need to do further digging to see what happened. But thanks to Teradata Vantage we can cost-effectively analyse all our data by offloading the colder less queried data to object storage for safe keeping.</p>"
   ]
  },
  {
   "cell_type": "markdown",
   "metadata": {},
   "source": [
    "<p style = 'font-size:20px;font-family:Arial;color:#E37C4D'><b>Step 5: Clean-up</b></p>\n",
    "\n",
    "<p style = 'font-size:16px;font-family:Arial'>Drop the objects we created in our own database schema.</p>"
   ]
  },
  {
   "cell_type": "code",
   "execution_count": null,
   "metadata": {},
   "outputs": [],
   "source": [
    "DROP VIEW sales_fact_all"
   ]
  },
  {
   "cell_type": "code",
   "execution_count": null,
   "metadata": {},
   "outputs": [],
   "source": [
    "DROP VIEW sales_fact_offload_v"
   ]
  },
  {
   "cell_type": "code",
   "execution_count": null,
   "metadata": {},
   "outputs": [],
   "source": [
    "DROP TABLE sales_fact_offload"
   ]
  },
  {
   "cell_type": "code",
   "execution_count": null,
   "metadata": {},
   "outputs": [],
   "source": [
    "Drop View TRNG_SalesOffload.sales_fact;"
   ]
  },
  {
   "cell_type": "code",
   "execution_count": null,
   "metadata": {},
   "outputs": [],
   "source": [
    "Drop table gs_tables_db.TRNG_SalesOffload_sales_fact;"
   ]
  },
  {
   "cell_type": "code",
   "execution_count": null,
   "metadata": {},
   "outputs": [],
   "source": [
    "Drop Database TRNG_SalesOffload;"
   ]
  },
  {
   "cell_type": "markdown",
   "metadata": {},
   "source": [
    "<p style = 'font-size:20px;font-family:Arial;color:#E37C4D'><b>Dataset</b></p>\n",
    "\n",
    "<p style = 'font-size:16px;font-family:Arial'>\n",
    "The <b>sales_fact</b> dataset has approximately 43 million rows of sample sales data:\n",
    "\n",
    "- `sales_date`: date the order was processed\n",
    "- `customer_id`: customer identifier\n",
    "- `store_id`: store identifier where the order was taken\n",
    "- `basket_id`: grouping or order number\n",
    "- `product_id`: identifier of the product\n",
    "- `sales_quantity`: quantity of the product sold\n",
    "- `discount_amount`: how much of a discount was given on this line item </p>"
   ]
  },
  {
   "cell_type": "markdown",
   "metadata": {},
   "source": [
    "<footer style=\"padding:10px;background:#f9f9f9;border-bottom:3px solid #394851\">Copyright © Teradata Corporation - 2023. All Rights Reserved.</footer>"
   ]
  }
 ],
 "metadata": {
  "kernelspec": {
   "display_name": "Teradata SQL",
   "language": "Teradata SQL",
   "name": "teradatasql"
  },
  "language_info": {
   "codemirror_mode": "Teradata SQL",
   "file_extension": ".tdrs",
   "mimetype": "application/vnd.teradata.resultset",
   "name": "Teradata SQL",
   "nbconvert_exporter": "",
   "pygments_lexer": "",
   "version": "16.20"
  }
 },
 "nbformat": 4,
 "nbformat_minor": 4
}
