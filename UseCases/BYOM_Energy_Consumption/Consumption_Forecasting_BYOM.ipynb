{
 "cells": [
  {
   "cell_type": "markdown",
   "id": "acquired-consideration",
   "metadata": {},
   "source": [
    "<header style=\"padding:1px;background:#f9f9f9;border-top:3px solid #00b2b1\"><img id=\"Teradata-logo\" src=\"https://www.teradata.com/Teradata/Images/Rebrand/Teradata_logo-two_color.png\" alt=\"Teradata\" width=\"220\" align=\"right\" />\n",
    "\n",
    "<b style = 'font-size:28px;font-family:Arial;color:#E37C4D'>Energy Consumption Forecasting using Vantage and SKLearn</b>\n",
    "</header>"
   ]
  },
  {
   "cell_type": "markdown",
   "id": "0701a2ac-9d7c-4498-a23c-7ae3955f6a32",
   "metadata": {},
   "source": [
    "<p style = 'font-size:18px;font-family:Arial;color:#E37C4D'><b>Introduction:</b></p>\n",
    "\n",
    "<p style = 'font-size:16px;font-family:Arial'>For energy trading companies, forecasting of electricity consumption is one key driver in building a successful business. Proper forecasting of market demand prevents losses (in case of overselling energy to market) as well as lost profits (in case of underestimating of demand). Also, the regulator of the energy market can apply fees or even disqualify a trading company for certain time periods in case of frequent inaccurate forecasts. This is why increasing the accuracy even by 0.1% can significantly improve the profitability of the energy trading company.</p>\n",
    "\n",
    "<p style = 'font-size:16px;font-family:Arial'>In this demo we demonstrate how the full lifecycle of consumption forecast can be implemented using Vantage technologies and specifically, the combination of Bring Your Own Model (BYOM), Vantage Analytics Library (VAL) and teradataml python client library solution. This demo consists of four parts (details on Teradata \"Analytics 1-2-3\" strategy can be found <a href = 'https://assets.teradata.com/resourceCenter/downloads/WhitePapers/Analytics-123-Enabling-Enterprise-AI-at-Scale-MD006623.pdf'>here</a>):</p>\n",
    "<ol style = 'font-size:16px;font-family:Arial'>\n",
    "    <li>Data discovery using client python libraries</li>\n",
    "    <li>Feature Prep and Transformation using Vantage Analytic Library</li>\n",
    "    <li>Model training using the scikit-learn LinearRegression algorithm</li>\n",
    "    <li>Scoring the model in Vantage and analyzing the results</li>\n",
    "    </ol>\n",
    "\n",
    "<p style = 'font-size:16px;font-family:Arial'>This datamart represents electricity consumption in Norway for the period from 1st of January 2016 to 31st of August 2019. Each line in this datamart reflects consumption for one hour. Apart of electricity consumption this datamart also reflects additional data: weather from multiple sources, daylight information and labor calendar. All data were collected from open data sources</p>"
   ]
  },
  {
   "cell_type": "markdown",
   "id": "legislative-turkey",
   "metadata": {},
   "source": [
    "<br>\n",
    "\n",
    "<b style = 'font-size:18px;font-family:Arial;color:#E37C4D'>Utilize Vantage to Operationalize the Machine Learning Process</b>\n",
    "\n",
    "<p style = 'font-size:16px;font-family:Arial'>Open-source tools and techniques provide a rich ecosystem for data scientists and analysts to gain new insights into their data.  However, the process of obtaining these insights is manual, error-prone, and time-consuming process.  Most machine learning tools and platforms seek to make model training more efficient, and ignore the more significant challenges with;</p>\n",
    "\n",
    "<ul style = 'font-size:16px;font-family:Arial'>\n",
    "    <li>Data Discovery and Statistical Analysis</li>\n",
    "    <li>Data Preparation and Feature Engineering</li>\n",
    "    <li>Model Deployment and Evaluation At Operational Scale</li>\n",
    "    </ul>\n",
    "\n",
    "<p style = 'font-size:16px;font-family:Arial'>Traditional approaches require the developer to move data <b>from</b> the sources <b>to</b> the analytics.  Even \"integrated\" analytic systems like Apache Spark provide parallel processing for analyzing data, but don't optimize for loading data - neither locality nor quantity that needs to be moved.</p>\n",
    "\n",
    "\n",
    "\n",
    "<p style = 'font-size:16px;font-family:Arial'>Teradata Vantage reverses this model; and provides the ability to PUSH processing down to the individual processing nodes where the data resides.  This allows for unprecedented scale of the analytical proccessing, reduced costs in data movement/egress charges, and drastically improved performance.</p> "
   ]
  },
  {
   "cell_type": "markdown",
   "id": "c3bb6087-d823-467d-9103-6e897fb062d7",
   "metadata": {},
   "source": [
    "<p style = 'font-size:16px;font-family:Arial;color:#E37C4D'><b>Steps in the analysis:</b></p>\n",
    "<ol style = 'font-size:16px;font-family:Arial'>\n",
    "    <li>Initiate a connection to Vantage</li>    \n",
    "    <li>Narrow down to root cause</li>\n",
    "        <ul>\n",
    "            <li>2.1 Were the defects based on the dealers?</li>\n",
    "            <li>2.2 Were the defects based on the model of the cars?</li>\n",
    "            <li>2.3 Were the defects based on the assembly plants?</li>\n",
    "            <li>2.4 Were the defects based on the battery cells?</li>\n",
    "            <li>2.5 Were the defects based on the lot numbers?</li>\n",
    "        </ul>\n",
    "    <li>Analysis of Test reports from Data Lake</li>\n",
    "        <ul>\n",
    "            <li>3.1 Create a foreign table to access the JSON data from Amazon S3</li>\n",
    "            <li>3.2 Access and join the JSON manufacturing test data natively in Vantage</li>\n",
    "        </ul>\n",
    "    <li>Clean-up</li>\n",
    "</ol>"
   ]
  },
  {
   "cell_type": "markdown",
   "id": "e3f20b1f-ea53-445c-ab08-e028083d18eb",
   "metadata": {},
   "source": [
    "<hr>\n",
    "<b style = 'font-size:28px;font-family:Arial;color:#E37C4D'>1. Setting up the environment</b>"
   ]
  },
  {
   "cell_type": "code",
   "execution_count": 1,
   "id": "cordless-blond",
   "metadata": {},
   "outputs": [
    {
     "name": "stdout",
     "output_type": "stream",
     "text": [
      "Requirement already satisfied: sklearn2pmml in /opt/conda/lib/python3.9/site-packages (0.84.2)\n",
      "Requirement already satisfied: sklearn-pandas>=0.0.10 in /opt/conda/lib/python3.9/site-packages (from sklearn2pmml) (2.2.0)\n",
      "Requirement already satisfied: scikit-learn>=0.18.0 in /opt/conda/lib/python3.9/site-packages (from sklearn2pmml) (1.0.2)\n",
      "Requirement already satisfied: joblib>=0.13.0 in /opt/conda/lib/python3.9/site-packages (from sklearn2pmml) (1.1.0)\n",
      "Requirement already satisfied: threadpoolctl>=2.0.0 in /opt/conda/lib/python3.9/site-packages (from scikit-learn>=0.18.0->sklearn2pmml) (3.1.0)\n",
      "Requirement already satisfied: scipy>=1.1.0 in /opt/conda/lib/python3.9/site-packages (from scikit-learn>=0.18.0->sklearn2pmml) (1.8.0)\n",
      "Requirement already satisfied: numpy>=1.14.6 in /opt/conda/lib/python3.9/site-packages (from scikit-learn>=0.18.0->sklearn2pmml) (1.21.5)\n",
      "Requirement already satisfied: pandas>=1.1.4 in /opt/conda/lib/python3.9/site-packages (from sklearn-pandas>=0.0.10->sklearn2pmml) (1.4.2)\n",
      "Requirement already satisfied: python-dateutil>=2.8.1 in /opt/conda/lib/python3.9/site-packages (from pandas>=1.1.4->sklearn-pandas>=0.0.10->sklearn2pmml) (2.8.2)\n",
      "Requirement already satisfied: pytz>=2020.1 in /opt/conda/lib/python3.9/site-packages (from pandas>=1.1.4->sklearn-pandas>=0.0.10->sklearn2pmml) (2022.1)\n",
      "Requirement already satisfied: six>=1.5 in /opt/conda/lib/python3.9/site-packages (from python-dateutil>=2.8.1->pandas>=1.1.4->sklearn-pandas>=0.0.10->sklearn2pmml) (1.16.0)\n",
      "Requirement already satisfied: jdk4py in /opt/conda/lib/python3.9/site-packages (17.0.3.0)\n",
      "Requirement already satisfied: teradataml in /opt/conda/lib/python3.9/site-packages (17.10.0.1)\n",
      "Requirement already satisfied: psutil in /opt/conda/lib/python3.9/site-packages (from teradataml) (5.9.0)\n",
      "Requirement already satisfied: teradatasql>=17.10.0.11 in /opt/conda/lib/python3.9/site-packages (from teradataml) (17.20.0.0)\n",
      "Requirement already satisfied: pandas>=0.22 in /opt/conda/lib/python3.9/site-packages (from teradataml) (1.4.2)\n",
      "Requirement already satisfied: teradatasqlalchemy>=17.0.0.2 in /opt/conda/lib/python3.9/site-packages (from teradataml) (17.0.0.3)\n",
      "Requirement already satisfied: docker>=4.2.0 in /opt/conda/lib/python3.9/site-packages (from teradataml) (5.0.3)\n",
      "Requirement already satisfied: requests!=2.18.0,>=2.14.2 in /opt/conda/lib/python3.9/site-packages (from docker>=4.2.0->teradataml) (2.27.1)\n",
      "Requirement already satisfied: websocket-client>=0.32.0 in /opt/conda/lib/python3.9/site-packages (from docker>=4.2.0->teradataml) (1.3.2)\n",
      "Requirement already satisfied: python-dateutil>=2.8.1 in /opt/conda/lib/python3.9/site-packages (from pandas>=0.22->teradataml) (2.8.2)\n",
      "Requirement already satisfied: pytz>=2020.1 in /opt/conda/lib/python3.9/site-packages (from pandas>=0.22->teradataml) (2022.1)\n",
      "Requirement already satisfied: numpy>=1.18.5 in /opt/conda/lib/python3.9/site-packages (from pandas>=0.22->teradataml) (1.21.5)\n",
      "Requirement already satisfied: pycryptodome in /opt/conda/lib/python3.9/site-packages (from teradatasql>=17.10.0.11->teradataml) (3.14.1)\n",
      "Requirement already satisfied: sqlalchemy>=1.2.11 in /opt/conda/lib/python3.9/site-packages (from teradatasqlalchemy>=17.0.0.2->teradataml) (1.4.34)\n",
      "Requirement already satisfied: six>=1.5 in /opt/conda/lib/python3.9/site-packages (from python-dateutil>=2.8.1->pandas>=0.22->teradataml) (1.16.0)\n",
      "Requirement already satisfied: urllib3<1.27,>=1.21.1 in /opt/conda/lib/python3.9/site-packages (from requests!=2.18.0,>=2.14.2->docker>=4.2.0->teradataml) (1.26.9)\n",
      "Requirement already satisfied: certifi>=2017.4.17 in /opt/conda/lib/python3.9/site-packages (from requests!=2.18.0,>=2.14.2->docker>=4.2.0->teradataml) (2021.10.8)\n",
      "Requirement already satisfied: idna<4,>=2.5 in /opt/conda/lib/python3.9/site-packages (from requests!=2.18.0,>=2.14.2->docker>=4.2.0->teradataml) (3.3)\n",
      "Requirement already satisfied: charset-normalizer~=2.0.0 in /opt/conda/lib/python3.9/site-packages (from requests!=2.18.0,>=2.14.2->docker>=4.2.0->teradataml) (2.0.12)\n",
      "Requirement already satisfied: greenlet!=0.4.17 in /opt/conda/lib/python3.9/site-packages (from sqlalchemy>=1.2.11->teradatasqlalchemy>=17.0.0.2->teradataml) (1.1.2)\n"
     ]
    }
   ],
   "source": [
    "!pip install sklearn2pmml\n",
    "!pip install jdk4py\n",
    "!pip install teradataml"
   ]
  },
  {
   "cell_type": "code",
   "execution_count": 2,
   "id": "applicable-airfare",
   "metadata": {},
   "outputs": [],
   "source": [
    "import getpass\n",
    "import sys\n",
    "import os\n",
    "\n",
    "import teradataml as tdml\n",
    "from teradataml.analytics.valib import *\n",
    "import teradataml.analytics.Transformations as tdtf\n",
    "\n",
    "import pandas as pd\n",
    "import numpy as np\n",
    "from jdk4py import JAVA, JAVA_HOME, JAVA_VERSION\n",
    "\n",
    "from sklearn.pipeline import Pipeline\n",
    "from sklearn.linear_model import LinearRegression\n",
    "\n",
    "from sklearn2pmml.pipeline import PMMLPipeline\n",
    "from sklearn2pmml import sklearn2pmml\n",
    "\n",
    "import warnings\n",
    "warnings.filterwarnings('ignore')\n",
    "\n",
    "# Modify the following to match the specific client environment settings\n",
    "tdml.configure.val_install_location = 'val'\n",
    "tdml.configure.byom_install_location = 'mldb'\n",
    "os.environ['PATH'] = os.environ['PATH'] + os.pathsep + str(JAVA_HOME)\n",
    "os.environ['PATH'] = os.environ['PATH'] + os.pathsep + str(JAVA)[:-5]"
   ]
  },
  {
   "cell_type": "markdown",
   "id": "obvious-championship",
   "metadata": {},
   "source": [
    "<hr>\n",
    "<b style = 'font-size:28px;font-family:Arial;color:#E37C4D'>2. Data Discovery using teradataml</b>\n",
    "\n",
    "<table style = 'width:100%;table-layout:fixed;'>\n",
    "<tr>\n",
    "    <td style = 'vertical-align:top' width = '50%'>\n",
    "        <p style = 'font-size:16px;font-family:Arial'>Users can access large volumes of data by connecting remotely using the teradataml client connection library.  Python methods are translated to SQL and run remotely on the Vantage system.  Only the minimal amount of data required is copied to the client; allowing users to interact with data sets of any size and scale.\n",
    "        <ol style = 'font-size:16px;font-family:Arial'>\n",
    "            <li>Connect to the Vantage system</li>\n",
    "            <br>\n",
    "            <li>Create a \"Virtual DataFrame\" that points to the data set in Vantage</li>\n",
    "            <br>\n",
    "            <li>Use Pandas syntax to investigate the data</li>\n",
    "        </ol>\n",
    "    </td>\n",
    "    <td><img src = 'images/connect_and_discover.png' width = '400'></td>\n",
    "</tr>\n",
    "</table>"
   ]
  },
  {
   "cell_type": "code",
   "execution_count": 3,
   "id": "bearing-uruguay",
   "metadata": {},
   "outputs": [
    {
     "name": "stdin",
     "output_type": "stream",
     "text": [
      " ········\n"
     ]
    }
   ],
   "source": [
    "td_context = tdml.create_context(host = 'host.docker.internal', username='demo_user', password = getpass.getpass())"
   ]
  },
  {
   "cell_type": "code",
   "execution_count": 4,
   "id": "through-hearts",
   "metadata": {},
   "outputs": [],
   "source": [
    "tdf = tdml.DataFrame('\"TRNG_Energy_Consumption\".\"energy_no_consumption_datamart\"')"
   ]
  },
  {
   "cell_type": "code",
   "execution_count": 5,
   "id": "attached-daisy",
   "metadata": {},
   "outputs": [
    {
     "data": {
      "text/html": [
       "<style type=\"text/css\">\n",
       "\ttable {border:ridge 5px;}\n",
       "\ttable td {border:inset 1px;}\n",
       "\ttable tr#HeaderRow {background-color:grey; color:white;}</style>\n",
       "<html><table>\n",
       "\t<tr id=\"HeaderRow\">\n",
       "\t\t<th>TD_TIMECODE</th>\n",
       "\t\t<th>consumption</th>\n",
       "\t\t<th>y</th>\n",
       "\t\t<th>m</th>\n",
       "\t\t<th>d</th>\n",
       "\t\t<th>h</th>\n",
       "\t\t<th>weekday</th>\n",
       "\t\t<th>nasa_temp</th>\n",
       "\t\t<th>cap_air_temperature</th>\n",
       "\t\t<th>cap_cloud_area_fraction</th>\n",
       "\t\t<th>cap_precipitation_amount</th>\n",
       "\t\t<th>is_dark</th>\n",
       "\t\t<th>is_light</th>\n",
       "\t\t<th>is_from_light_to_dark</th>\n",
       "\t\t<th>is_from_dark_to_light</th>\n",
       "\t\t<th>is_holiday</th>\n",
       "\t\t<th>is_pre_holiday</th>\n",
       "\t</tr>\n",
       "\t<tr>\n",
       "\t\t<td>2015-12-31 20:00:00.000000</td>\n",
       "\t\t<td>14959.02</td>\n",
       "\t\t<td>2016</td>\n",
       "\t\t<td>1</td>\n",
       "\t\t<td>1</td>\n",
       "\t\t<td>1</td>\n",
       "\t\t<td>6</td>\n",
       "\t\t<td>0.11</td>\n",
       "\t\t<td>1.1</td>\n",
       "\t\t<td>8.0</td>\n",
       "\t\t<td>0.6</td>\n",
       "\t\t<td>1</td>\n",
       "\t\t<td>0</td>\n",
       "\t\t<td>0</td>\n",
       "\t\t<td>0</td>\n",
       "\t\t<td>1</td>\n",
       "\t\t<td>0</td>\n",
       "\t</tr>\n",
       "\t<tr>\n",
       "\t\t<td>2015-12-31 19:00:00.000000</td>\n",
       "\t\t<td>15128.76</td>\n",
       "\t\t<td>2016</td>\n",
       "\t\t<td>1</td>\n",
       "\t\t<td>1</td>\n",
       "\t\t<td>0</td>\n",
       "\t\t<td>6</td>\n",
       "\t\t<td>-0.005</td>\n",
       "\t\t<td>1.1</td>\n",
       "\t\t<td>8.0</td>\n",
       "\t\t<td>0.3</td>\n",
       "\t\t<td>1</td>\n",
       "\t\t<td>0</td>\n",
       "\t\t<td>0</td>\n",
       "\t\t<td>0</td>\n",
       "\t\t<td>1</td>\n",
       "\t\t<td>0</td>\n",
       "\t</tr>\n",
       "</table></html>"
      ],
      "text/plain": [
       "                  TD_TIMECODE  consumption     y  m  d  h  weekday  nasa_temp  cap_air_temperature  cap_cloud_area_fraction  cap_precipitation_amount  is_dark  is_light  is_from_light_to_dark  is_from_dark_to_light  is_holiday  is_pre_holiday\n",
       "0  2015-12-31 20:00:00.000000     14959.02  2016  1  1  1        6      0.110                  1.1                      8.0                       0.6        1         0                      0                      0           1               0\n",
       "1  2015-12-31 19:00:00.000000     15128.76  2016  1  1  0        6     -0.005                  1.1                      8.0                       0.3        1         0                      0                      0           1               0"
      ]
     },
     "execution_count": 5,
     "metadata": {},
     "output_type": "execute_result"
    }
   ],
   "source": [
    "tdf.head(2)"
   ]
  },
  {
   "cell_type": "markdown",
   "id": "characteristic-spencer",
   "metadata": {},
   "source": [
    "<hr>\n",
    "<b style = 'font-size:28px;font-family:Arial;color:#E37C4D'>3. Feature Prep and Transformation with Vantage Analytic Library</b>\n",
    "\n",
    "<table style = 'width:100%;table-layout:fixed;'>\n",
    "<tr>\n",
    "    <td style = 'vertical-align:top' width = '50%'>\n",
    "        <p style = 'font-size:16px;font-family:Arial'>The Vantage Analytic Library is a suite of powerful functions that allows for whole-data-set desrcriptive analysis, data transformation, hypothesis testing, and algorithmic algorithms at extreme scale.  As with all Vantage capabilities, these functions run in parallel, at the source of the data</p>\n",
    "        <ol style = 'font-size:16px;font-family:Arial'>\n",
    "            <li>Create Feature Transformation objects</li>\n",
    "            <br>\n",
    "            <li>Define the columns to be retained in the analytic data set</li>\n",
    "            <br>\n",
    "            <li>Push the transformations to the data in Vantage</li>\n",
    "            <br>\n",
    "            <li>Inspect the results</li>\n",
    "        </ol>\n",
    "    </td>\n",
    "    <td><img src = 'images/VAL_transformation.png' width = '400'></td>\n",
    "</tr>\n",
    "</table>"
   ]
  },
  {
   "cell_type": "code",
   "execution_count": 6,
   "id": "internal-motor",
   "metadata": {},
   "outputs": [],
   "source": [
    "weekday_mapping = {1:'monday', 2:'tuesday', 3:'wednesday', 4:'thursday', 5:'friday', 6:'saturday', 7:'sunday'}\n",
    "weekday_t = tdtf.OneHotEncoder(values = weekday_mapping, columns = 'weekday')\n",
    "\n",
    "hour_t = tdtf.OneHotEncoder(values = [x for x in range(1,24)],  columns = 'h')\n",
    "\n",
    "rs = tdtf.MinMaxScalar(columns = 'nasa_temp')\n",
    "\n",
    "rt = Retain(columns = ['consumption',  \n",
    "                       'cap_air_temperature', 'cap_cloud_area_fraction', 'cap_precipitation_amount', \n",
    "                       'is_dark', 'is_light', 'is_from_light_to_dark', 'is_from_dark_to_light', \n",
    "                       'is_holiday', 'is_pre_holiday'])"
   ]
  },
  {
   "cell_type": "code",
   "execution_count": 7,
   "id": "funny-apparatus",
   "metadata": {},
   "outputs": [],
   "source": [
    "t_output = valib.Transform(data = tdf,\n",
    "                           one_hot_encode = [weekday_t, hour_t], \n",
    "                           rescale = [rs], \n",
    "                           index_columns = 'TD_TIMECODE',\n",
    "                           retain = [rt])"
   ]
  },
  {
   "cell_type": "code",
   "execution_count": 8,
   "id": "honey-point",
   "metadata": {},
   "outputs": [
    {
     "data": {
      "text/html": [
       "<style type=\"text/css\">\n",
       "\ttable {border:ridge 5px;}\n",
       "\ttable td {border:inset 1px;}\n",
       "\ttable tr#HeaderRow {background-color:grey; color:white;}</style>\n",
       "<html><table>\n",
       "\t<tr id=\"HeaderRow\">\n",
       "\t\t<th>TD_TIMECODE</th>\n",
       "\t\t<th>consumption</th>\n",
       "\t\t<th>cap_air_temperature</th>\n",
       "\t\t<th>cap_cloud_area_fraction</th>\n",
       "\t\t<th>cap_precipitation_amount</th>\n",
       "\t\t<th>is_dark</th>\n",
       "\t\t<th>is_light</th>\n",
       "\t\t<th>is_from_light_to_dark</th>\n",
       "\t\t<th>is_from_dark_to_light</th>\n",
       "\t\t<th>is_holiday</th>\n",
       "\t\t<th>is_pre_holiday</th>\n",
       "\t\t<th>monday</th>\n",
       "\t\t<th>tuesday</th>\n",
       "\t\t<th>wednesday</th>\n",
       "\t\t<th>thursday</th>\n",
       "\t\t<th>friday</th>\n",
       "\t\t<th>saturday</th>\n",
       "\t\t<th>sunday</th>\n",
       "\t\t<th>1_h</th>\n",
       "\t\t<th>2_h</th>\n",
       "\t\t<th>3_h</th>\n",
       "\t\t<th>4_h</th>\n",
       "\t\t<th>5_h</th>\n",
       "\t\t<th>6_h</th>\n",
       "\t\t<th>7_h</th>\n",
       "\t\t<th>8_h</th>\n",
       "\t\t<th>9_h</th>\n",
       "\t\t<th>10_h</th>\n",
       "\t\t<th>11_h</th>\n",
       "\t\t<th>12_h</th>\n",
       "\t\t<th>13_h</th>\n",
       "\t\t<th>14_h</th>\n",
       "\t\t<th>15_h</th>\n",
       "\t\t<th>16_h</th>\n",
       "\t\t<th>17_h</th>\n",
       "\t\t<th>18_h</th>\n",
       "\t\t<th>19_h</th>\n",
       "\t\t<th>20_h</th>\n",
       "\t\t<th>21_h</th>\n",
       "\t\t<th>22_h</th>\n",
       "\t\t<th>23_h</th>\n",
       "\t\t<th>nasa_temp</th>\n",
       "\t</tr>\n",
       "\t<tr>\n",
       "\t\t<td>2015-12-31 20:00:00.000000</td>\n",
       "\t\t<td>14959.02</td>\n",
       "\t\t<td>1.1</td>\n",
       "\t\t<td>8.0</td>\n",
       "\t\t<td>0.6</td>\n",
       "\t\t<td>1</td>\n",
       "\t\t<td>0</td>\n",
       "\t\t<td>0</td>\n",
       "\t\t<td>0</td>\n",
       "\t\t<td>1</td>\n",
       "\t\t<td>0</td>\n",
       "\t\t<td>0</td>\n",
       "\t\t<td>0</td>\n",
       "\t\t<td>0</td>\n",
       "\t\t<td>0</td>\n",
       "\t\t<td>0</td>\n",
       "\t\t<td>1</td>\n",
       "\t\t<td>0</td>\n",
       "\t\t<td>1</td>\n",
       "\t\t<td>0</td>\n",
       "\t\t<td>0</td>\n",
       "\t\t<td>0</td>\n",
       "\t\t<td>0</td>\n",
       "\t\t<td>0</td>\n",
       "\t\t<td>0</td>\n",
       "\t\t<td>0</td>\n",
       "\t\t<td>0</td>\n",
       "\t\t<td>0</td>\n",
       "\t\t<td>0</td>\n",
       "\t\t<td>0</td>\n",
       "\t\t<td>0</td>\n",
       "\t\t<td>0</td>\n",
       "\t\t<td>0</td>\n",
       "\t\t<td>0</td>\n",
       "\t\t<td>0</td>\n",
       "\t\t<td>0</td>\n",
       "\t\t<td>0</td>\n",
       "\t\t<td>0</td>\n",
       "\t\t<td>0</td>\n",
       "\t\t<td>0</td>\n",
       "\t\t<td>0</td>\n",
       "\t\t<td>0.38618136952498455</td>\n",
       "\t</tr>\n",
       "\t<tr>\n",
       "\t\t<td>2015-12-31 19:00:00.000000</td>\n",
       "\t\t<td>15128.76</td>\n",
       "\t\t<td>1.1</td>\n",
       "\t\t<td>8.0</td>\n",
       "\t\t<td>0.3</td>\n",
       "\t\t<td>1</td>\n",
       "\t\t<td>0</td>\n",
       "\t\t<td>0</td>\n",
       "\t\t<td>0</td>\n",
       "\t\t<td>1</td>\n",
       "\t\t<td>0</td>\n",
       "\t\t<td>0</td>\n",
       "\t\t<td>0</td>\n",
       "\t\t<td>0</td>\n",
       "\t\t<td>0</td>\n",
       "\t\t<td>0</td>\n",
       "\t\t<td>1</td>\n",
       "\t\t<td>0</td>\n",
       "\t\t<td>0</td>\n",
       "\t\t<td>0</td>\n",
       "\t\t<td>0</td>\n",
       "\t\t<td>0</td>\n",
       "\t\t<td>0</td>\n",
       "\t\t<td>0</td>\n",
       "\t\t<td>0</td>\n",
       "\t\t<td>0</td>\n",
       "\t\t<td>0</td>\n",
       "\t\t<td>0</td>\n",
       "\t\t<td>0</td>\n",
       "\t\t<td>0</td>\n",
       "\t\t<td>0</td>\n",
       "\t\t<td>0</td>\n",
       "\t\t<td>0</td>\n",
       "\t\t<td>0</td>\n",
       "\t\t<td>0</td>\n",
       "\t\t<td>0</td>\n",
       "\t\t<td>0</td>\n",
       "\t\t<td>0</td>\n",
       "\t\t<td>0</td>\n",
       "\t\t<td>0</td>\n",
       "\t\t<td>0</td>\n",
       "\t\t<td>0.38345275945522705</td>\n",
       "\t</tr>\n",
       "</table></html>"
      ],
      "text/plain": [
       "                  TD_TIMECODE  consumption  cap_air_temperature  cap_cloud_area_fraction  cap_precipitation_amount  is_dark  is_light  is_from_light_to_dark  is_from_dark_to_light  is_holiday  is_pre_holiday  monday  tuesday  wednesday  thursday  friday  saturday  sunday  1_h  2_h  3_h  4_h  5_h  6_h  7_h  8_h  9_h  10_h  11_h  12_h  13_h  14_h  15_h  16_h  17_h  18_h  19_h  20_h  21_h  22_h  23_h  nasa_temp\n",
       "0  2015-12-31 20:00:00.000000     14959.02                  1.1                      8.0                       0.6        1         0                      0                      0           1               0       0        0          0         0       0         1       0    1    0    0    0    0    0    0    0    0     0     0     0     0     0     0     0     0     0     0     0     0     0     0   0.386181\n",
       "1  2015-12-31 19:00:00.000000     15128.76                  1.1                      8.0                       0.3        1         0                      0                      0           1               0       0        0          0         0       0         1       0    0    0    0    0    0    0    0    0    0     0     0     0     0     0     0     0     0     0     0     0     0     0     0   0.383453"
      ]
     },
     "execution_count": 8,
     "metadata": {},
     "output_type": "execute_result"
    }
   ],
   "source": [
    "t_output.result.head(2)"
   ]
  },
  {
   "cell_type": "markdown",
   "id": "great-instrument",
   "metadata": {},
   "source": [
    "<hr>\n",
    "<b style = 'font-size:28px;font-family:Arial;color:#E37C4D'>4. Model Training</b>\n",
    "\n",
    "<table style = 'width:100%;table-layout:fixed;'>\n",
    "<tr>\n",
    "    <td style = 'vertical-align:top' width = '50%'>\n",
    "        <p style = 'font-size:16px;font-family:Arial'>With Vantage Bring Your Own Model; users can take advantage of a rich ecosystem of Machine Learning, Data Preparation, and Advanced analytical libraries available in the open-source and commercial space.  This demonstration illustrates how to utilize simple client-side training pipelines</p>\n",
    "        <ol style = 'font-size:16px;font-family:Arial'>\n",
    "            <li>Create Train and Test data sets in Vantage</li>\n",
    "            <br>\n",
    "            <li>Copy the training data to the client</li>\n",
    "            <br>\n",
    "            <li>Prepare data and train the model</li>\n",
    "            <br>\n",
    "            <li>Load the model into Vantage</li>\n",
    "        </ol>\n",
    "    </td>\n",
    "    <td><img src = 'images/BYOM_model_training.png' width = '400'></td>\n",
    "</tr>\n",
    "</table>"
   ]
  },
  {
   "cell_type": "code",
   "execution_count": 9,
   "id": "complex-monroe",
   "metadata": {},
   "outputs": [],
   "source": [
    "tdml.copy_to_sql(t_output.result.iloc[int(t_output.result.shape[0])-24:], \n",
    "            table_name = 'energy_no_consumption_variables_rescaled_test', \n",
    "            if_exists = 'replace')\n",
    "\n",
    "tdml.copy_to_sql(t_output.result.iloc[:int(t_output.result.shape[0])-24], \n",
    "            table_name = 'energy_no_consumption_variables_rescaled_train', \n",
    "            if_exists = 'replace')"
   ]
  },
  {
   "cell_type": "code",
   "execution_count": 10,
   "id": "collective-establishment",
   "metadata": {},
   "outputs": [],
   "source": [
    "df = pd.read_sql('SELECT * FROM energy_no_consumption_variables_rescaled_train', td_context)"
   ]
  },
  {
   "cell_type": "markdown",
   "id": "innovative-shark",
   "metadata": {},
   "source": [
    "We calculate the average consumption for a last day of train period. We will use this number for normalization of the target variable"
   ]
  },
  {
   "cell_type": "code",
   "execution_count": 11,
   "id": "later-shadow",
   "metadata": {},
   "outputs": [
    {
     "name": "stdout",
     "output_type": "stream",
     "text": [
      "11908\n"
     ]
    }
   ],
   "source": [
    "normalize_value = int(df.sort_values(by = 'TD_TIMECODE').tail(24).mean()['consumption'])\n",
    "print(str(normalize_value))"
   ]
  },
  {
   "cell_type": "code",
   "execution_count": 12,
   "id": "little-charm",
   "metadata": {},
   "outputs": [],
   "source": [
    "train_x = df.drop(['TD_TIMECODE', 'consumption'], axis = 1).astype(float)\n",
    "feature_names = list(train_x.columns)\n",
    "train_x.shape\n",
    "train_y = df['consumption'] - normalize_value"
   ]
  },
  {
   "cell_type": "code",
   "execution_count": 13,
   "id": "silver-accessory",
   "metadata": {},
   "outputs": [],
   "source": [
    "pipeline_obj = PMMLPipeline([('lr', LinearRegression())])\n",
    "\n",
    "pipeline_obj.fit(train_x,train_y)\n",
    "sklearn2pmml(pipeline_obj, \"no_energy_consumption_LR.pmml\", with_repr = True)"
   ]
  },
  {
   "cell_type": "code",
   "execution_count": 14,
   "id": "thorough-oracle",
   "metadata": {},
   "outputs": [
    {
     "name": "stdout",
     "output_type": "stream",
     "text": [
      "Model is deleted.\n",
      "Model is saved.\n"
     ]
    }
   ],
   "source": [
    "# Load the PMML file into Vantage\n",
    "\n",
    "model_id = 'energy_consumption_lr2'\n",
    "model_file = 'no_energy_consumption_LR.pmml'\n",
    "table_name = 'energy_models'\n",
    "\n",
    "try:\n",
    "    res = tdml.save_byom(model_id = model_id, model_file = model_file, table_name = table_name)\n",
    "\n",
    "except Exception as e:\n",
    "    # if our model exists, delete and rewrite\n",
    "    if str(e.args).find('TDML_2200') >= 1:\n",
    "        res = tdml.delete_byom(model_id = model_id, table_name = table_name)\n",
    "        res = tdml.save_byom(model_id = model_id, model_file = model_file, table_name = table_name)\n",
    "        pass\n",
    "    else:\n",
    "        raise\n",
    "\n",
    "# Obtain a pointer to the model\n",
    "model_tdf = tdml.DataFrame.from_query(f\"SELECT * FROM {table_name} WHERE model_id = '{model_id}'\")"
   ]
  },
  {
   "cell_type": "code",
   "execution_count": 15,
   "id": "supposed-annotation",
   "metadata": {},
   "outputs": [
    {
     "name": "stdout",
     "output_type": "stream",
     "text": [
      "                                           model\n",
      "model_id                                        \n",
      "energy_consumption_lr2  b'3C3F786D6C20766572...'\n"
     ]
    }
   ],
   "source": [
    "tdml.list_byom(table_name)"
   ]
  },
  {
   "cell_type": "markdown",
   "id": "regional-poetry",
   "metadata": {},
   "source": [
    "<hr>\n",
    "<b style = 'font-size:28px;font-family:Arial;color:#E37C4D'>5. Score and Evaluate the Model</b>\n",
    "\n",
    "<table style = 'width:100%;table-layout:fixed;'>\n",
    "<tr>\n",
    "    <td style = 'vertical-align:top' width = '50%'>\n",
    "        <p style = 'font-size:16px;font-family:Arial'>The final step in this process is to test the trained model.  The PMMLPredict function will take the stored pipeline object (including any data preparation and mapping tasks) and execute it against the data on the Vantage Nodes.  Note there can be many models stored in the model table; with versioning, last scored timestamp, or any other management data to allow for operational management of the process.</p>\n",
    "        <ol style = 'font-size:16px;font-family:Arial'>\n",
    "            <li>Create a pointer to the model in Vantage</li>\n",
    "            <br>\n",
    "            <li>Execute the Scoring function using the model against the testing data</li>\n",
    "            <br>\n",
    "            <li>Copy the results of the test to the client - only needs to be a subset of rows if desired</li>\n",
    "            <br>\n",
    "            <li>Visualize the results</li>\n",
    "        </ol>\n",
    "    </td>\n",
    "    <td><img src = 'images/Score_and_Evaluate.png' width = '400'></td>\n",
    "</tr>\n",
    "</table>"
   ]
  },
  {
   "cell_type": "code",
   "execution_count": 16,
   "id": "warming-blocking",
   "metadata": {},
   "outputs": [],
   "source": [
    "tdf_test = tdml.DataFrame('energy_no_consumption_variables_rescaled_test')\n",
    "# Run the PMMLPredict function in Vantage\n",
    "result = tdml.PMMLPredict(\n",
    "            modeldata = model_tdf,\n",
    "            newdata = tdf_test,\n",
    "            accumulate = ['TD_TIMECODE','consumption']\n",
    "            )"
   ]
  },
  {
   "cell_type": "code",
   "execution_count": 17,
   "id": "promotional-knight",
   "metadata": {},
   "outputs": [],
   "source": [
    "df_prediction = result.result.to_pandas()\n",
    "df_prediction['prediction'] = df_prediction['prediction'].astype(float) + normalize_value\n",
    "df_prediction['TD_TIMECODE'] = pd.to_datetime(df_prediction['TD_TIMECODE'])\n",
    "df_prediction = df_prediction.set_index('TD_TIMECODE')"
   ]
  },
  {
   "cell_type": "code",
   "execution_count": 18,
   "id": "existing-damages",
   "metadata": {},
   "outputs": [
    {
     "data": {
      "image/png": "[encoded data removed]",
      "text/plain": [
       "<Figure size 432x288 with 1 Axes>"
      ]
     },
     "metadata": {
      "needs_background": "light"
     },
     "output_type": "display_data"
    }
   ],
   "source": [
    "df_prediction.plot();"
   ]
  },
  {
   "cell_type": "markdown",
   "id": "reverse-ground",
   "metadata": {},
   "source": [
    "<hr>\n",
    "<b style = 'font-size:28px;font-family:Arial;color:#E37C4D'>6. Conclusion</b>\n",
    "\n",
    "<p style = 'font-size:16px;font-family:Arial'>This demonstration has illustrated a simplified - but complete - overview of how a typical machine learning workflow can be improved using Vantage in conjunction with open-source tools and techniques.  This combination allows users to leverage the innovation of open-source with the operational scale, power, and stability of Vantage.</p>"
   ]
  },
  {
   "cell_type": "code",
   "execution_count": 19,
   "id": "adjacent-romantic",
   "metadata": {},
   "outputs": [
    {
     "data": {
      "text/plain": [
       "True"
      ]
     },
     "execution_count": 19,
     "metadata": {},
     "output_type": "execute_result"
    }
   ],
   "source": [
    "tdml.remove_context()"
   ]
  },
  {
   "cell_type": "markdown",
   "id": "58b0b73e-0c50-4110-be9c-05aaf1181960",
   "metadata": {},
   "source": [
    "<footer style=\"padding:10px;background:#f9f9f9;border-bottom:3px solid #394851\">©2022 Teradata. All Rights Reserved</footer>"
   ]
  }
 ],
 "metadata": {
  "kernelspec": {
   "display_name": "Python 3 (ipykernel)",
   "language": "python",
   "name": "python3"
  },
  "language_info": {
   "codemirror_mode": {
    "name": "ipython",
    "version": 3
   },
   "file_extension": ".py",
   "mimetype": "text/x-python",
   "name": "python",
   "nbconvert_exporter": "python",
   "pygments_lexer": "ipython3",
   "version": "3.9.10"
  }
 },
 "nbformat": 4,
 "nbformat_minor": 5
}
