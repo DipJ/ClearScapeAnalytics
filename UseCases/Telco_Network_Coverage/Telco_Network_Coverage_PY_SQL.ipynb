{
 "cells": [
  {
   "cell_type": "markdown",
   "id": "78ad8a32",
   "metadata": {},
   "source": [
    "<header style=\"padding:1px;background:#f9f9f9;border-top:3px solid #00b2b1\"><img id=\"Teradata-logo\" src=\"https://www.teradata.com/Teradata/Images/Rebrand/Teradata_logo-two_color.png\" alt=\"Teradata\" width=\"220\" align=\"right\" />\n",
    "\n",
    "<b style = 'font-size:28px;font-family:Arial;color:#E37C4D'>Telco Network Coverage Analysis</b>\n",
    "</header>"
   ]
  },
  {
   "cell_type": "markdown",
   "id": "454c6ae9",
   "metadata": {},
   "source": [
    "<p style = 'font-size:18px;font-family:Arial;color:#E37C4D'><b>Introduction</b></p>\n",
    "<p style = 'font-size:16px;font-family:Arial'>\n",
    "Driving Spatial Insights for Network Optimization to optimize network layouts, minimize construction costs and plan least-cost network reducing CapEx\n",
    "</p>\n",
    "<p style = 'font-size:16px;font-family:Arial'>\n",
    "Mobile communication is one of the technology that is essential in the present era. Telecommunication towers which is a supporting factor of mobile telecommunication services are constantly constructed as a form of community needs in communication.\n",
    "</p>\n",
    "<p style = 'font-size:16px;font-family:Arial'>\n",
    "To achieve these objectives, the calculation of the number of mobile subscribers and traffic capacity into a method of planning is needed to determine the number of base stations and telecommunication towers.\n",
    "\n",
    "</p>\n",
    "\n",
    "<p style = 'font-size:18px;font-family:Arial;color:#E37C4D'><b>Analyzing New Potential Coverage Area using GIS</b></p>\n",
    "\n",
    "<p style = 'font-size:16px;font-family:Arial'>With geographical information available in the form of Geographic Information Systems (GIS) can provide information about the reach and area of signal strength for each telecommunication tower. Information about prospective customers who are in an area that has not been reached by the existing tower so that it can be a reference for the addition of towers, this information system can facilitate the service provider to determine the service users who will subscribe.\n",
    "</p>"
   ]
  },
  {
   "cell_type": "markdown",
   "id": "22173c1b-a4eb-4cd7-b0ae-ba68bc39aba2",
   "metadata": {},
   "source": [
    "<hr>\n",
    "<p style = 'font-size:28px;font-family:Arial;color:#E37C4D'><b>1. Connect to Vantage</b></p>\n"
   ]
  },
  {
   "cell_type": "markdown",
   "id": "55434ae0-6795-4dd4-8cd6-d5c39b5808c0",
   "metadata": {},
   "source": [
    "<p style = 'font-size:16px;font-family:Arial'>Let's start by importing the libraries needed.</p>"
   ]
  },
  {
   "cell_type": "code",
   "execution_count": null,
   "id": "5199b325-11f8-4dbd-a13f-fadf334c58c6",
   "metadata": {},
   "outputs": [],
   "source": [
    "#import libraries\n",
    "import geopandas as gpd\n",
    "import matplotlib.pyplot as plt \n",
    "import pandas as pd\n",
    "import getpass\n",
    "import warnings\n",
    "\n",
    "\n",
    "warnings.filterwarnings('ignore')\n",
    "warnings.simplefilter(action='ignore', category=DeprecationWarning)\n",
    "warnings.simplefilter(action='ignore', category=RuntimeWarning)\n",
    "warnings.simplefilter(action='ignore', category=FutureWarning)\n",
    "\n",
    "from teradataml import *\n",
    "import plotly.express as px\n",
    "import plotly.graph_objects as go\n",
    "import json\n",
    "from pandas import json_normalize\n",
    "from  ipywidgets import widgets, interact\n",
    "\n",
    "display.max_rows = 5 "
   ]
  },
  {
   "cell_type": "markdown",
   "id": "113ada1d-a5ff-4d5e-9145-f0f03b26b3f2",
   "metadata": {},
   "source": [
    "<p style = 'font-size:16px;font-family:Arial'>You will be prompted to provide the password. Enter your password, press the Enter key, then <b>use down arrow</b> to go to next cell.</p>"
   ]
  },
  {
   "cell_type": "code",
   "execution_count": null,
   "id": "fdfeb088-39f6-40f8-a4e1-1d03fb5a3771",
   "metadata": {},
   "outputs": [],
   "source": [
    "%run -i ../startup.ipynb\n",
    "eng = create_context(host = 'host.docker.internal', username='demo_user', password = password)\n",
    "print(eng)"
   ]
  },
  {
   "cell_type": "code",
   "execution_count": null,
   "id": "ec94b292-b55f-418e-90da-40c4017f7b43",
   "metadata": {},
   "outputs": [],
   "source": [
    "%%capture\n",
    "execute_sql(\"SET query_band='DEMO=Telco_Network_Coverage_PY_SQL.ipynb;' UPDATE FOR SESSION;\")"
   ]
  },
  {
   "cell_type": "markdown",
   "id": "6d8f8388-e318-4bf4-84c1-7dfcf2d1dd40",
   "metadata": {},
   "source": [
    "<p style = 'font-size:18px;font-family:Arial;color:#E37C4D'> <b>Getting Data for This Demo</b></p>\n",
    "<p style = 'font-size:16px;font-family:Arial'>We have provided data for this demo on cloud storage. You have the option of either running the demo using foreign tables to access the data without using any storage on your environment or downloading the data to local storage which may yield somewhat faster execution, but there could be considerations of available storage. There are two statements in the following cell, and one is commented out. You may switch which mode you choose by changing the comment string.</p>"
   ]
  },
  {
   "cell_type": "code",
   "execution_count": null,
   "id": "b3460a89-d570-488e-a97a-39423afa7b27",
   "metadata": {},
   "outputs": [],
   "source": [
    "# %run -i ../run_procedure.py \"call get_data('DEMO_TelcoNetwork_cloud');\"\n",
    " # takes about 30 seconds, estimated space: 0 MB\n",
    "%run -i ../run_procedure.py \"call get_data('DEMO_TelcoNetwork_local');\" \n",
    "# takes about 30 seconds, estimated space: 3 MB"
   ]
  },
  {
   "cell_type": "markdown",
   "id": "53237f92-8be4-40eb-941b-6c5b9a778146",
   "metadata": {},
   "source": [
    "<p style = 'font-size:16px;font-family:Arial'>Next is an optional step – if you want to see status of databases/tables created and space used.</p>"
   ]
  },
  {
   "cell_type": "code",
   "execution_count": null,
   "id": "1dbc1f31-38b7-4d42-8573-5f05767c1591",
   "metadata": {},
   "outputs": [],
   "source": [
    "%run -i ../run_procedure.py \"call space_report();\""
   ]
  },
  {
   "cell_type": "markdown",
   "id": "bdd6dd8c",
   "metadata": {},
   "source": [
    "<p style = 'font-size:28px;font-family:Arial;color:#E37C4D'><b>2. Initial Data Sets</b></p>"
   ]
  },
  {
   "cell_type": "markdown",
   "id": "13288769-f1b3-40a5-8cad-95e5f4ae92fd",
   "metadata": {},
   "source": [
    "<p style = 'font-size:18px;font-family:Arial;color:#E37C4D'><b>Cell Tower</b></p>\n",
    "<p style = 'font-size:16px;font-family:Arial'>Geographical location (Longitude and Latitude) of Cell Towers with additional details of the cell towers were given in this file. Let's see how the data looks like.</p>"
   ]
  },
  {
   "cell_type": "code",
   "execution_count": null,
   "id": "4f842008-9a40-4475-8fbb-77dbf3800bc9",
   "metadata": {},
   "outputs": [],
   "source": [
    "res = DataFrame(in_schema(\"DEMO_TelcoNetwork\", \"Cell_Towers\"))\n",
    "res"
   ]
  },
  {
   "cell_type": "markdown",
   "id": "138b530b-8170-4706-80e0-f8181a9d0b53",
   "metadata": {},
   "source": [
    "<p style = 'font-size:16px;font-family:Arial'>We can see that the data has details of the cell towers. Let's visualize this data to better understand the location of towers.</p>"
   ]
  },
  {
   "cell_type": "code",
   "execution_count": null,
   "id": "aa3e35b2-dd62-4ed8-9009-ea01b85e12dd",
   "metadata": {},
   "outputs": [],
   "source": [
    "#cell tower sites\n",
    "res.drop(['radio_type','radio_freq','degree_facing','cell_id','postal_area_code','postal_area_name','dist_kms_from_map_centroid','cell_geom'], axis=1)\n",
    "cell_tower = res[(res.cell_lon < 152)].to_pandas()"
   ]
  },
  {
   "cell_type": "code",
   "execution_count": null,
   "id": "3cb2f3ff-2afb-4f7c-b2e4-1281a39e251a",
   "metadata": {},
   "outputs": [],
   "source": [
    "fig = px.scatter_mapbox(cell_tower, lat=\"cell_lat\", lon=\"cell_lon\", hover_name=\"cell_site_name\", \n",
    "                        hover_data=[\"site_num\"],\n",
    "                        color_discrete_sequence=[\"black\"], zoom=7, height=300)\n",
    "fig.update_layout(mapbox_style=\"open-street-map\")\n",
    "fig.update_layout(margin={\"r\":0,\"t\":0,\"l\":0,\"b\":0})\n",
    "fig.show()"
   ]
  },
  {
   "cell_type": "markdown",
   "id": "d1165880-157c-4cd1-a59b-aab34997de54",
   "metadata": {},
   "source": [
    "<p style = 'font-size:16px;font-family:Arial'>Here we can see the tower locations on the map.</p> "
   ]
  },
  {
   "cell_type": "markdown",
   "id": "9a7f5a3f-12af-4602-ab57-33c99ba4decb",
   "metadata": {},
   "source": [
    "<p style = 'font-size:18px;font-family:Arial;color:#E37C4D'><b>Aggregated Customer Experience</b></p>\n",
    "<p style = 'font-size:16px;font-family:Arial'>Geographical points (Longitude and Latitude) of customer experience using RSCP/signal dBm values were given in this file. Let's see how the data looks like.</p>"
   ]
  },
  {
   "cell_type": "code",
   "execution_count": null,
   "id": "58b8c367-f389-4e65-b6e6-265d3affa6fe",
   "metadata": {},
   "outputs": [],
   "source": [
    "res = DataFrame(in_schema(\"DEMO_TelcoNetwork\", \"Cust_Experience\"))\n",
    "res"
   ]
  },
  {
   "cell_type": "markdown",
   "id": "a2df130e-7d48-4982-9abf-9d64b3d27fe8",
   "metadata": {},
   "source": [
    "<p style = 'font-size:16px;font-family:Arial'>\n",
    "BTS antenna Coverage Area is a distribution of signals from the antenna on the earth surface. The aspects affecting the coverage area are the type of antenna, the type of environment, the propagation model, the cell radius and the power budget.</p>\n",
    "<p style = 'font-size:16px;font-family:Arial'>\n",
    "The Signal strength is measured in RSCP(Received Signal Code Power) which denoted the power measured by a receiver on a particular physical communication channel. It is used as an indication of signal strength, as a handover criterion.</p>\n",
    "<p style = 'font-size:16px;font-family:Arial'>Let's plot the information in the map for better understanding.</p>"
   ]
  },
  {
   "cell_type": "code",
   "execution_count": null,
   "id": "a2ce93d9-6216-4976-af20-47f783d87ce0",
   "metadata": {},
   "outputs": [],
   "source": [
    "#dbm point values\n",
    "query = '''\n",
    "select legend,rscpavg,Cast(POINT.ST_X() as Decimal(12,8)) lon,\n",
    "Cast(POINT.ST_Y() as Decimal(12,8)) lat, \n",
    "case  when (RSCPAVG <= -101) Then 'poor' \n",
    "    when  (RSCPAVG between -100 and -86) Then 'good'\n",
    "    when  (RSCPAVG >= -85 ) Then 'excellent'\n",
    "    else 'na' \n",
    "end as \"signal\"\n",
    "    from DEMO_TelcoNetwork.Cust_Experience;\n",
    "'''\n",
    "nw = DataFrame.from_query(query)\n",
    "nw"
   ]
  },
  {
   "cell_type": "code",
   "execution_count": null,
   "id": "01a3cb80-b89e-4ba8-9784-bc3dde80eda9",
   "metadata": {},
   "outputs": [],
   "source": [
    "nw=nw.to_pandas(all_rows=True)\n",
    "fig = px.scatter_mapbox(nw, lat=\"lat\", lon=\"lon\",  \n",
    "                        hover_data=[\"RSCPAVG\"],\n",
    "                        color=\"signal\"  ,\n",
    "                        color_discrete_map={\n",
    "                                             \"poor\": \"red\",\n",
    "                                             \"good\": \"yellow\",\n",
    "                                             \"excellent\": \"green\",\n",
    "                                             \"na\": \"black\"\n",
    "                                          } ,\n",
    "                        labels={\"signal\": \"RSCPAVG\" },\n",
    "                        zoom=11, height=300)\n",
    "fig.update_layout(mapbox_style=\"open-street-map\")\n",
    "fig.update_layout(margin={\"r\":0,\"t\":0,\"l\":0,\"b\":0})\n",
    "fig.show()"
   ]
  },
  {
   "cell_type": "markdown",
   "id": "fd09526c-2957-4c89-b81b-d76242df79bf",
   "metadata": {},
   "source": [
    "<p style = 'font-size:16px;font-family:Arial'>In this visualization we have divided our signal strengths into categories of excellent (rscpavg greater than -85) /good (rscpavg between -100 and -80) /poor (rscpavg less than -100) based on the rscpavg value we have recieved from the corresponding location.</p>"
   ]
  },
  {
   "cell_type": "markdown",
   "id": "84eea34c",
   "metadata": {},
   "source": [
    "<p style = 'font-size:18px;font-family:Arial;color:#E37C4D'><b>Coveage Map</b></p>\n",
    "<p style = 'font-size:16px;font-family:Arial'>GeoJson file of  a geographical area which covers the network area under consideration was given.</p>\n"
   ]
  },
  {
   "cell_type": "code",
   "execution_count": null,
   "id": "8d8a54a7-248d-4f08-a2c0-63ee28574559",
   "metadata": {},
   "outputs": [],
   "source": [
    "with open (\"./data/main_map.geojson\",'r') as infile:\n",
    "    counties = json.load(infile)"
   ]
  },
  {
   "cell_type": "code",
   "execution_count": null,
   "id": "6ab13f56-2f8c-474a-8799-ba56764e84a3",
   "metadata": {},
   "outputs": [],
   "source": [
    "#for colorcoding different coverage area\n",
    "df1 = json_normalize(counties['features'])\n",
    "c_code = df1[\"properties.SITEID\"].unique()\n",
    "df2 = pd.DataFrame(c_code)\n",
    "df3 = []\n",
    "for i in range(len(c_code)):\n",
    "    df3.append([c_code[i],i+1])\n",
    "df = pd.DataFrame(df3, columns = ['siteid', 'colourcode'])\n"
   ]
  },
  {
   "cell_type": "code",
   "execution_count": null,
   "id": "c4638ed2-e9a6-4340-b2fd-4e5f6677f3ab",
   "metadata": {},
   "outputs": [],
   "source": [
    "fig = px.choropleth_mapbox(df, geojson=counties,\n",
    "                           locations='siteid',\n",
    "                           featureidkey='properties.SITEID',\n",
    "                           color='colourcode',\n",
    "                           hover_name='siteid',\n",
    "                           range_color=(0,30),\n",
    "                           mapbox_style=\"open-street-map\",\n",
    "                           color_continuous_scale=\"Viridis\",\n",
    "                           zoom=10,height=300,center ={\"lat\":-33.06363, \"lon\":151.74148},\n",
    "                           opacity=0.5\n",
    "                          )\n",
    "fig.update_layout(margin={\"r\":0,\"t\":0,\"l\":0,\"b\":0})\n",
    "fig.show()\n"
   ]
  },
  {
   "cell_type": "markdown",
   "id": "f894cf7a-7e75-489c-9ca4-ad4828529d56",
   "metadata": {},
   "source": [
    "<p style = 'font-size:16px;font-family:Arial'>In the visualization we can see the area marked on the map. We can also load this GeoJson file in Vantage using GeoImport Utility</p>"
   ]
  },
  {
   "cell_type": "markdown",
   "id": "d4a8c848",
   "metadata": {},
   "source": [
    "<p style = 'font-size:18px;font-family:Arial;color:#E37C4D'><b>Customer Navigation</b></p>\n",
    "<p style = 'font-size:16px;font-family:Arial'>This file contains the Customer navigation steps for 364 journeys. It is the superset data and contains details like incremental journey sequence, incremental timestamp for each step, values of signal_dBm, geographical co-ordinates of each journey, mobile app,throughput etc. Let's check the data of this file. </p>"
   ]
  },
  {
   "cell_type": "code",
   "execution_count": null,
   "id": "03f81011-d53c-4e56-aa51-df9145705acf",
   "metadata": {},
   "outputs": [],
   "source": [
    "res = DataFrame(in_schema(\"DEMO_TelcoNetwork\", \"Cust_Journey\"))\n",
    "res"
   ]
  },
  {
   "cell_type": "markdown",
   "id": "fb10b36b",
   "metadata": {},
   "source": [
    "<p style = 'font-size:16px;font-family:Arial'>From this table we can create 1 row for each customer journey trajectory using <b>Vantage ClearScape Analytics UAF(unbounded array framework)</b>. <b>TD_TRACKINGOP</b> is a multi-dimensional function for geospatial data in UAF which can calculate trip distance, speed, time for a trip. Let's see how we can use that in our given data.<p>\n",
    "    "
   ]
  },
  {
   "cell_type": "code",
   "execution_count": null,
   "id": "a13fc5d0-8433-490e-ba78-8494c877ec69",
   "metadata": {},
   "outputs": [],
   "source": [
    "# Create a volatile table for selected customers to be used in UAF function \n",
    "qry = '''\n",
    "create volatile table uaf_customer as \n",
    "(select customer_id, \n",
    "        journey_id, \n",
    "        journey_seq,\n",
    "        signal_dBm,\n",
    "        journey_dttm as arv_ts, \n",
    "        (arv_ts + interval '1' second) as dep_ts ,\n",
    "        cast(journey_geom as SYSUDTLIB.ST_GEOMETRY(400)) as journey_geom \n",
    " from DEMO_TelcoNetwork.Cust_Journey\n",
    " where customer_id in ('CID-0005005','CID-0005073','CID-0005233','CID-0005243')\n",
    ") with data on commit preserve rows;\n",
    "'''\n",
    "\n",
    "execute_sql(qry)\n"
   ]
  },
  {
   "cell_type": "markdown",
   "id": "58f2c451-5a3e-425f-ba64-4fb245e94471",
   "metadata": {},
   "source": [
    "<p style = 'font-size:16px;font-family:Arial'>The data in the volatile table looks like below</p>"
   ]
  },
  {
   "cell_type": "code",
   "execution_count": null,
   "id": "93c73936-8803-4ca5-ac18-a6950f341e7a",
   "metadata": {},
   "outputs": [],
   "source": [
    "res = DataFrame(\"uaf_customer\")\n",
    "res[(res.customer_id == 'CID-0005243')]"
   ]
  },
  {
   "cell_type": "markdown",
   "id": "c721e612-4618-4328-b478-4c7e81d2f3f8",
   "metadata": {},
   "source": [
    "<p style = 'font-size:16px;font-family:Arial'>Now let's use the TD_TRACKINGOP function which stores the result in <b>Analytical Result Table (ART)</b></p>"
   ]
  },
  {
   "cell_type": "code",
   "execution_count": null,
   "id": "c7ffce68-a702-4214-be7f-6d6021604bbe",
   "metadata": {},
   "outputs": [],
   "source": [
    "qry = '''\n",
    "EXECUTE FUNCTION INTO VOLATILE ART(cust_travel)\n",
    "TD_TRACKINGOP( \n",
    " SERIES_SPEC( TABLE_NAME(uaf_customer),ROW_AXIS(TIMECODE(arv_ts)),\n",
    " SERIES_ID(customer_id, journey_id), \n",
    " PAYLOAD (FIELDS (arv_ts,dep_ts, journey_geom),\n",
    " CONTENT(MULTIVAR_ANYTYPE)) ),\n",
    " FUNC_PARAMS(DISTANCE(1), SPEED(1), TIME_SPENT(1), METRIC(1))\n",
    ");\n",
    "'''\n",
    "\n",
    "execute_sql(qry)"
   ]
  },
  {
   "cell_type": "markdown",
   "id": "741aa478-de94-4802-9339-586df2caa0d1",
   "metadata": {},
   "source": [
    "<p style = 'font-size:16px;font-family:Arial'>Let's check the output of function</p>"
   ]
  },
  {
   "cell_type": "code",
   "execution_count": null,
   "id": "3ba4ce95-4509-49f3-af3c-0be3d5a2f9f2",
   "metadata": {},
   "outputs": [],
   "source": [
    "res = DataFrame(\"cust_travel\")\n",
    "res[(res.customer_id == 'CID-0005243')]"
   ]
  },
  {
   "cell_type": "markdown",
   "id": "b6bcad34-44e2-451a-967c-aee86fd8cea5",
   "metadata": {},
   "source": [
    "<p style = 'font-size:16px;font-family:Arial'>From the above output, we can see the customer trajectory along with his speed and total trip time and trip distance. We can also plot the customer trajectory for better visualization.</p>"
   ]
  },
  {
   "cell_type": "code",
   "execution_count": null,
   "id": "c0136235-f489-422f-ae00-506c1df2c34f",
   "metadata": {},
   "outputs": [],
   "source": [
    "#customer navigation path\n",
    "qry = '''\n",
    "select customer_id,journey_id,journey_seq,signal_dBm,Cast(journey_geom.ST_X() as Decimal(12,8)) lon,\n",
    "Cast(journey_geom.ST_Y() as Decimal(12,8)) lat,\n",
    "case  when (signal_dBm <= -101) Then 0 /*poor*/\n",
    "    when  (signal_dBm between -100 and -86) Then 1 /*good*/\n",
    "    when  (signal_dBm >= -85 ) Then 2  /*excellent*/\n",
    "    else 0 \n",
    "end as color_scale \n",
    "from uaf_customer ;\n",
    "'''\n",
    "\n",
    "nw_path2 = DataFrame.from_query(qry)\n",
    "nw_path2.sort(['customer_id','journey_id','journey_seq'])\n"
   ]
  },
  {
   "cell_type": "code",
   "execution_count": null,
   "id": "b07ec079-4c84-4d6a-bc9e-ba3ca54f9094",
   "metadata": {},
   "outputs": [],
   "source": [
    "nw_path2=nw_path2.to_pandas(all_rows=True)\n",
    "def plot_map(customer):    \n",
    "    \n",
    "    custom_colors = [\n",
    "    [0, '#FF0000'], # red\n",
    "    [0.5, '#FFEA00'], # yellow\n",
    "    [1, '#028A0F'] # green\n",
    "    ]\n",
    "    \n",
    "    plt.figure(figsize=(8, 6))\n",
    "    df = nw_path2[nw_path2['customer_id'] == customer ]\n",
    "    fig = px.line_mapbox(df, lat=\"lat\", lon=\"lon\",\n",
    "                     hover_data=[\"journey_id\", \"customer_id\"],\n",
    "                     color=\"journey_id\"  ,\n",
    "                     zoom=8, height=300)\n",
    "    fig.add_trace(go.Scattermapbox(\n",
    "    name = \"signal\",\n",
    "    mode = \"markers\",\n",
    "    lat = df.lat.tolist(),\n",
    "    lon = df.lon.tolist(),\n",
    "    hoverinfo='text',\n",
    "    hovertemplate= ['<b>Signal_dBm:</b>:' + str(df.iloc[i, 3]) for i in range(df.shape[0])],\n",
    "    marker_color=df['color_scale'] ,\n",
    "    marker=dict(\n",
    "        color=[1, 2, 3],\n",
    "        colorscale=custom_colors,\n",
    "        size = 8\n",
    "    )    \n",
    "\n",
    "))\n",
    "\n",
    "    fig.update_layout(mapbox_style=\"open-street-map\" , #\"stamen-terrain\",\n",
    "                  mapbox_zoom=9,\n",
    "                  mapbox_center_lon=151.5,\n",
    "                  mapbox_center_lat=-33.1,\n",
    "                  margin={\"r\":0,\"t\":0,\"l\":0,\"b\":0}\n",
    "                 )\n",
    "    \n",
    "       \n",
    "    return fig\n",
    "\n",
    "# Create the dropdown widget\n",
    "customer = [\"CID-0005005\",\"CID-0005073\", \"CID-0005233\",\"CID-0005243\"]\n",
    "customer_dropdown = widgets.Dropdown(options=customer, description='Customer:', value='CID-0005005')\n",
    "\n",
    "# Call the plot_clusters function with the selected dropdown options\n",
    "def update_plot(customer):    \n",
    "    plot_map(customer).show()\n",
    "    \n",
    "widgets.interact(update_plot, customer=customer_dropdown)\n",
    "\n"
   ]
  },
  {
   "cell_type": "markdown",
   "id": "eec1fd80-0455-4652-bef2-8056bf2efed0",
   "metadata": {},
   "source": [
    "<p style = 'font-size:16px;font-family:Arial'>Please use the dropdown to see the navigation paths for customer. We have also marked the signal strength at points where data was captured based on the bDm values."
   ]
  },
  {
   "cell_type": "markdown",
   "id": "35ebb886-8da9-479a-8995-c6dd7ccebffd",
   "metadata": {},
   "source": [
    "<p style = 'font-size:28px;font-family:Arial;color:#E37C4D'><b>3. Cleanup</b></p>"
   ]
  },
  {
   "cell_type": "markdown",
   "id": "b3c74a61-3588-484d-83f6-69df969ff51f",
   "metadata": {},
   "source": [
    "<p style = 'font-size:16px;font-family:Arial'>The following code will clean up tables and databases created above.</p>"
   ]
  },
  {
   "cell_type": "code",
   "execution_count": null,
   "id": "7aae8012-ca09-4541-9389-1bb82f283ff1",
   "metadata": {},
   "outputs": [],
   "source": [
    "%run -i ../run_procedure.py \"call remove_data('DEMO_TelcoNetwork');\" \n",
    "#Takes 10 seconds"
   ]
  },
  {
   "cell_type": "code",
   "execution_count": null,
   "id": "1be6f3dd-163d-426e-bd20-8c0c90a5e0ad",
   "metadata": {},
   "outputs": [],
   "source": [
    "remove_context()"
   ]
  },
  {
   "cell_type": "markdown",
   "id": "a8f9f644",
   "metadata": {},
   "source": [
    "<p style = 'font-size:28px;font-family:Arial;color:#E37C4D'><b>4. Conclusion</b></p>\n",
    "<p style = 'font-size:16px;font-family:Arial'>Tower map distribution in digital form can be used as one of the tools that can facilitate the operational field for monitoring, organizing BTS assets owned by the company in map view.</p>\n",
    "<p style = 'font-size:16px;font-family:Arial'><b>Vantage Clearscape Analytics</b> can do complex geospatial calculations very easily and the results can be exported to visualization tools. The potential analysis of service area maps can be used as a reference by stakeholders for making crucial decisions in terms of telecommunications development and expansion of the business.</p>\n"
   ]
  },
  {
   "cell_type": "markdown",
   "id": "3eba2147-264c-4e0d-8b48-b2112351a290",
   "metadata": {},
   "source": [
    "<p style = 'font-size:20px;font-family:Arial;color:#E37C4D'><b>Reference Links:</b></p>\n",
    "<ul style = 'font-size:16px;font-family:Arial'> \n",
    "       <li>Teradata Vantage™ - Unbounded Array Framework Time Series Reference: <a href = 'https://docs.teradata.com/r/Teradata-VantageTM-Unbounded-Array-Framework-Time-Series-Reference/Unbounded-Array-Framework '>https://docs.teradata.com/r/Teradata-VantageTM-Unbounded-Array-Framework-Time-Series-Reference/Unbounded-Array-Framework </a></li>    \n",
    "  <li>Teradata® Geospatial Utilities User Guide: <a href = 'https://docs.teradata.com/r/Teradata-Geospatial-Utilities-User-Guide/June-2022/Teradata-Geospatial-Utilities-Overview/Welcome-to-Teradata-Tools-and-Utilities-Teradata-Geospatial-Utilities-User-Guide'>https://docs.teradata.com/r/Teradata-Geospatial-Utilities-User-Guide/June-2022/Teradata-Geospatial-Utilities-Overview/Welcome-to-Teradata-Tools-and-Utilities-Teradata-Geospatial-Utilities-User-Guide</a></li>\n",
    "  <li>Python Pandas Reference: <a href = 'https://pandas.pydata.org/docs/user_guide/index.html'>https://pandas.pydata.org/docs/user_guide/index.html</a></li>\n",
    "<li>Plotly Reference: <a href = 'https://plotly.com/'>https://plotly.com/</a></li>\n",
    "      \n",
    "</ul>\n"
   ]
  },
  {
   "cell_type": "markdown",
   "id": "c30802a4-8141-47f6-971d-0bb79be6f5bf",
   "metadata": {},
   "source": [
    "<footer style=\"padding:10px;background:#f9f9f9;border-bottom:3px solid #394851\">©2023 Teradata. All Rights Reserved</footer>"
   ]
  }
 ],
 "metadata": {
  "kernelspec": {
   "display_name": "Python 3 (ipykernel)",
   "language": "python",
   "name": "python3"
  },
  "language_info": {
   "codemirror_mode": {
    "name": "ipython",
    "version": 3
   },
   "file_extension": ".py",
   "mimetype": "text/x-python",
   "name": "python",
   "nbconvert_exporter": "python",
   "pygments_lexer": "ipython3",
   "version": "3.9.10"
  },
  "toc-autonumbering": true
 },
 "nbformat": 4,
 "nbformat_minor": 5
}
