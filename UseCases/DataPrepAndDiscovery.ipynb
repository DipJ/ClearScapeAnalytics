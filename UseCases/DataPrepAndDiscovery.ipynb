{
 "cells": [
  {
   "cell_type": "markdown",
   "metadata": {},
   "source": [
    "<header style=\"padding:1px;background:#f9f9f9;border-top:3px solid #00b2b1\"><img id=\"Teradata-logo\" src=\"https://www.teradata.com/Teradata/Images/Rebrand/Teradata_logo-two_color.png\" alt=\"Teradata\" width=\"220\" align=\"right\" />\n",
    "\n",
    "<b style = 'font-size:28px;font-family:Arial;color:#E37C4D'>TeradataML Package for the logistics of Data Science and Advanced Analytics</b>\n",
    "<br>\n",
    "<b style = 'font-size:20px;font-family:Arial;color:#E37C4D'>Load, Analyze, and Transform Data At Scale</b>\n",
    "</header>\n"
   ]
  },
  {
   "cell_type": "markdown",
   "metadata": {},
   "source": [
    "<p style = 'font-size:16px;font-family:Arial'><b>Links:</b></p>\n",
    "<ul style = 'font-size:16px;font-family:Arial'>\n",
    "    <li>Python Package User Guide: <a href = 'https://docs.teradata.com/r/1YKutX2ODdO9ppo_fnguTA/root'>https://docs.teradata.com/r/1YKutX2ODdO9ppo_fnguTA/root</a></li>\n",
    "    <li>Teradataml Python Reference: <a href = 'https://docs.teradata.com/r/xLnbN80h9C6037gi3ildag/root'>https://docs.teradata.com/r/xLnbN80h9C6037gi3ildag/root</a></li>\n",
    "</ul>\n",
    "\n",
    "<p style = 'font-size:16px;font-family:Arial'><b>Contents</b></p>\n",
    "<ol style = 'font-size:16px;font-family:Arial'>\n",
    "    <li>Connect to the Vantage environment</li>\n",
    "    <li>Create and Load Tables from source data sets</li>\n",
    "    <li>Basic Data Discovery.  Metadata and feature analysis</li>\n",
    "    <li>Working with Data - aggregations, joins, and basic transformations</li>\n",
    "    <li>Advanced Data Preparation - column assignments using complex functions</li>\n",
    "    <li>Visualizing results.</li>\n",
    "</ol>\n",
    "\n",
    "<hr>\n",
    "\n",
    "<b style = 'font-size:18px;font-family:Arial;color:#E37C4D'>Architecture of the Teradataml package</b>\n",
    "<p style = 'font-size:16px;font-family:Arial'>Teradataml seeks to provide easy-to-use interfaces for working with data that resides in a Teradata Vantage system.  Typically, Python developers will make use of common, powerful data management functions using libraries like python pandas.  Teradataml extends these same functions to the Teradata ecosystem, allowing users to apply straightforward, powerful analytics and data manipulation functions that leverage the full power and scale of Vantage without data movement or limitations on client resources without writing complex SQL.</p>\n",
    "\n",
    "<p style = 'font-size:16px;font-family:Arial'>Teradataml package utilizes SQLAlchemy and Pandas capabilities to provide this translation between the two environments as illustrated below:</p>\n",
    "<img src = \"Functional_Diagram.png\">"
   ]
  },
  {
   "cell_type": "markdown",
   "metadata": {},
   "source": [
    "<hr>\n",
    "<p style = 'font-size:18px;font-family:Arial;color:#E37C4D'><b>Experience</b></p>\n",
    "<p style = 'font-size:16px;font-family:Arial'>The Experience section takes about 5 minutes to run.</p>"
   ]
  },
  {
   "cell_type": "code",
   "execution_count": 1,
   "metadata": {},
   "outputs": [],
   "source": [
    "# import statements\n",
    "import json\n",
    "import getpass\n",
    "import os\n",
    "import warnings\n",
    "\n",
    "import pandas as pd\n",
    "import numpy as np\n",
    "\n",
    "from teradataml.dataframe.dataframe import DataFrame\n",
    "from teradataml.dataframe.dataframe import in_schema\n",
    "from teradataml.context.context import create_context, remove_context\n",
    "from teradataml.dataframe.copy_to import copy_to_sql\n",
    "from teradataml.dataframe.fastload import fastload\n",
    "\n",
    "import tdconnect\n",
    "\n",
    "from sqlalchemy import create_engine\n",
    "from sqlalchemy import func\n",
    "\n",
    "import seaborn as sns\n",
    "import matplotlib.pyplot as plt\n",
    "%matplotlib inline\n",
    "\n",
    "#Suppress Warnings\n",
    "warnings.filterwarnings('ignore')"
   ]
  },
  {
   "cell_type": "markdown",
   "metadata": {},
   "source": [
    "<hr>\n",
    "<b style = 'font-size:28px;font-family:Arial;color:#E37C4D'>Section 1. Connecting to Vantage</b>\n",
    "<p style = 'font-size:18px;font-family:Arial;color:#E37C4D'><b>Make changes for your execution</b></p>\n",
    "\n",
    "<p style = 'font-size:16px;font-family:Arial'>The Jupyter Module for Teradata provides a helper library called tdconnect - this can use the underlying client configs and pass a JWT token for SSO. Establish connection to Teradata Vantage server (uses the Teradata SQL Driver for Python). Before you execute the following statement, replace the variables &ltHOSTNAME&gt, &ltUID&gt and &ltPWD&gt with your target Vantage system hostname (or IP address), and your database user ID(QLID) and password, respectively.</p>\n",
    "    \n",
    "<p style = 'font-size:14px;font-family:Arial'>td_context = create_context(host=\"tdprdX.td.teradata.com\", username=\"xy123456\", password=gp.getpass(prompt='Password:'), logmech=\"LDAP\")</p>"
   ]
  },
  {
   "cell_type": "code",
   "execution_count": 2,
   "metadata": {},
   "outputs": [
    {
     "name": "stdout",
     "output_type": "stream",
     "text": [
      "<class 'sqlalchemy.engine.base.Engine'>\n"
     ]
    }
   ],
   "source": [
    "eng = tdconnect.create_context('Vantage-LIVE')\n",
    "\n",
    "print(type(eng))"
   ]
  },
  {
   "cell_type": "markdown",
   "metadata": {},
   "source": [
    "<hr>\n",
    "<b style = 'font-size:28px;font-family:Arial;color:#E37C4D'>Section 2. - Create and Load Tables</b>\n",
    "\n",
    "<p style = 'font-size:18px;font-family:Arial;color:#E37C4D'><b>Load Sample Data from CSV Files if needed</b></p>\n",
    "\n",
    "<p style = 'font-size:16px;font-family:Arial'>If these tables already exist in the database, you don't need to run this section</p>\n",
    "\n",
    "<p style = 'font-size:18px;font-family:Arial;color:#E37C4D'><b>2.1  Create Demo Transaction data - simulated funds transfers.  Use FastLoad to create and import data</b></p>"
   ]
  },
  {
   "cell_type": "code",
   "execution_count": 3,
   "metadata": {},
   "outputs": [
    {
     "name": "stdout",
     "output_type": "stream",
     "text": [
      "Processed 63626 rows in batch 1.\n"
     ]
    },
    {
     "data": {
      "text/plain": [
       "{'errors_dataframe': Empty DataFrame\n",
       " Columns: []\n",
       " Index: [],\n",
       " 'warnings_dataframe': Empty DataFrame\n",
       " Columns: []\n",
       " Index: [],\n",
       " 'errors_table': '',\n",
       " 'warnings_table': ''}"
      ]
     },
     "execution_count": 3,
     "metadata": {},
     "output_type": "execute_result"
    }
   ],
   "source": [
    "#Read the CSV data into a local pandas dataframe\n",
    "ip_data = pd.read_csv('Transactions_60K.csv')\n",
    "\n",
    "#Little bit of code that creates an index\n",
    "ip_data['txn_id'] = range(1, len(ip_data) + 1)\n",
    "\n",
    "#Load the Data:\n",
    "#Fastload protocol is nice for row counts over 100K - shown here as an illustration\n",
    "#These Teradata functions have lots of parameters to help control behavior - \n",
    "#The if_exists parameter is nice so we don't have to explictly drop the table before loading it - or we can append, etc.\n",
    "\n",
    "fastload(ip_data, \n",
    "         table_name='ip_data', \n",
    "         primary_index='txn_id', \n",
    "         if_exists = 'replace')\n",
    "\n",
    "#Can also use copy_to_sql for smaller row counts and more flexibility"
   ]
  },
  {
   "cell_type": "markdown",
   "metadata": {},
   "source": [
    "<p style = 'font-size:18px;font-family:Arial;color:#E37C4D'><b>2.2  Create Simulated Customer Data - load from CSV using SQL to create the table</b></p>\n",
    "<p style = 'font-size:16px;font-family:Arial'>In the example above, we created our table automatically by calling the Fastload.  These functions allow us to define data types, encoding, and other parameters.  However if we want more control, we can use SQL to create the table.  In the below example, we need the \"ST_GEOMETRY\" data type which isn't currently supported in the built-in functions.</p>"
   ]
  },
  {
   "cell_type": "code",
   "execution_count": 4,
   "metadata": {},
   "outputs": [
    {
     "data": {
      "text/plain": [
       "<sqlalchemy.engine.result.ResultProxy at 0x7f7bf1343950>"
      ]
     },
     "execution_count": 4,
     "metadata": {},
     "output_type": "execute_result"
    }
   ],
   "source": [
    "#Customer Table - drop if it exists\n",
    "#Note the use of try/except - this is a handy way of checking if the table exists, and quitely failing\n",
    "\n",
    "qry = 'DROP TABLE CUSTOMER;'\n",
    "\n",
    "try:\n",
    "    eng.execute(qry)\n",
    "except Exception as e:\n",
    "        if str(e.args).find(\"3807\") >= 1:\n",
    "            pass\n",
    "        else:\n",
    "            raise\n",
    "            \n",
    "#Create Demo customer data table.  Python is handy here because we can do string substitutions and other neat things\n",
    "\n",
    "\n",
    "qry = '''\n",
    "CREATE MULTISET TABLE CUSTOMER, NO FALLBACK,\n",
    "     NO BEFORE JOURNAL,\n",
    "     NO AFTER JOURNAL,\n",
    "     CHECKSUM = DEFAULT,\n",
    "     DEFAULT MERGEBLOCKRATIO\n",
    "(\n",
    "    CUSTOMER_ID DECIMAL(18,0) NOT NULL,\n",
    "    F_NAME VARCHAR(30),\n",
    "    L_NAME VARCHAR(30),\n",
    "    VALIDITY VARCHAR(60),\n",
    "    CUST_ZIP VARCHAR(5),\n",
    "    CUST_LOCATION ST_GEOMETRY,\n",
    "    ETHNICITY VARCHAR(20),\n",
    "    GENDER CHAR(1),\n",
    "    CHURN_FLAG VARCHAR(1)\n",
    ")\n",
    "INDEX(CUST_LOCATION);\n",
    "'''\n",
    "\n",
    "# Execute Query\n",
    "eng.execute(qry)"
   ]
  },
  {
   "cell_type": "code",
   "execution_count": 5,
   "metadata": {},
   "outputs": [],
   "source": [
    "#load the customer data - we're using the table created above, and reading the tdf directly - note we have flexibility on\n",
    "#different delimiters - this case is a tab\n",
    "copy_to_sql(pd.read_csv('CUSTOMER.tdf', sep='\\t'), table_name='CUSTOMER')"
   ]
  },
  {
   "cell_type": "markdown",
   "metadata": {},
   "source": [
    "<hr>\n",
    "<p style = 'font-size:18px;font-family:Arial;color:#E37C4D'><b>2.3  Create Simulated Customer Comment Table.  Use copy_to_sql to create the table and load the data</b></p>"
   ]
  },
  {
   "cell_type": "code",
   "execution_count": 6,
   "metadata": {},
   "outputs": [],
   "source": [
    "#load the data\n",
    "copy_to_sql(pd.read_csv('CUST_COMMENT.csv'), \n",
    "            table_name='CUST_COMMENT', \n",
    "            if_exists = 'replace')"
   ]
  },
  {
   "cell_type": "markdown",
   "metadata": {},
   "source": [
    "<hr>\n",
    "<p style = 'font-size:18px;font-family:Arial;color:#E37C4D'><b>2.4  Additional Simulated Data - Server Locations.  Use SQL to handle the ST_GEOMETRY data type </b></p>\n",
    "<p style = 'font-size:16px;font-family:Arial'>This shows an example where the automatic typing won't work, so we can use native SQL to overcome the limitations</p>"
   ]
  },
  {
   "cell_type": "code",
   "execution_count": 7,
   "metadata": {},
   "outputs": [
    {
     "data": {
      "text/plain": [
       "<sqlalchemy.engine.result.ResultProxy at 0x7f7bc1571810>"
      ]
     },
     "execution_count": 7,
     "metadata": {},
     "output_type": "execute_result"
    }
   ],
   "source": [
    "#Demo e-commerce server table - drop if it exists\n",
    "\n",
    "qry = 'DROP TABLE SERVER;'\n",
    "# Execute Query\n",
    "\n",
    "try:\n",
    "    eng.execute(qry)\n",
    "except Exception as e:\n",
    "        if str(e.args).find(\"3807\") >= 1:\n",
    "            pass\n",
    "        else:\n",
    "            raise\n",
    "\n",
    "#Create Demo e-commerce server table - we need the ST_GEOMETRY type again - use SQL\n",
    "\n",
    "\n",
    "qry = '''\n",
    "CREATE MULTISET TABLE SERVER, NO FALLBACK,\n",
    "     NO BEFORE JOURNAL,\n",
    "     NO AFTER JOURNAL,\n",
    "     CHECKSUM = DEFAULT,\n",
    "     DEFAULT MERGEBLOCKRATIO\n",
    "(\n",
    "    SERVER_ID VARCHAR(5) NOT NULL,\n",
    "    SERVER_ZIP VARCHAR(5),\n",
    "    SERVER_LOCATION ST_GEOMETRY\n",
    ")\n",
    "INDEX (SERVER_LOCATION);\n",
    "'''\n",
    "\n",
    "# Execute Query\n",
    "eng.execute(qry)"
   ]
  },
  {
   "cell_type": "code",
   "execution_count": 8,
   "metadata": {},
   "outputs": [],
   "source": [
    "#load the data - read the csv file using pandas read_csv\n",
    "srvr = pd.read_csv('SERVER.csv')\n",
    "srvr.rename(columns = {'SERVER ZIP':'SERVER_ZIP','SERVER_LAT':'SERVER_LOCATION'}, inplace = True)\n",
    "\n",
    "copy_to_sql(srvr, table_name='SERVER')"
   ]
  },
  {
   "cell_type": "markdown",
   "metadata": {},
   "source": [
    "<hr>\n",
    "<b style = 'font-size:28px;font-family:Arial;color:#E37C4D'>Section 3 - Data Discovery</b>\n",
    "\n",
    "<p style = 'font-size:18px;font-family:Arial;color:#E37C4D'><b>Look at table statistics, sample data, simple lookups</b></p>\n",
    "\n",
    "<p style = 'font-size:16px;font-family:Arial'>One of the most powerful features of the teradtaml functions is that they push processing down to the Teradata system, allowing users to perform analysis without pulling all the data back to the client.</p>"
   ]
  },
  {
   "cell_type": "code",
   "execution_count": 9,
   "metadata": {},
   "outputs": [
    {
     "name": "stdout",
     "output_type": "stream",
     "text": [
      "(63626, 12)\n"
     ]
    },
    {
     "data": {
      "text/html": [
       "<div>\n",
       "<style scoped>\n",
       "    .dataframe tbody tr th:only-of-type {\n",
       "        vertical-align: middle;\n",
       "    }\n",
       "\n",
       "    .dataframe tbody tr th {\n",
       "        vertical-align: top;\n",
       "    }\n",
       "\n",
       "    .dataframe thead th {\n",
       "        text-align: right;\n",
       "    }\n",
       "</style>\n",
       "<table border=\"1\" class=\"dataframe\">\n",
       "  <thead>\n",
       "    <tr style=\"text-align: right;\">\n",
       "      <th></th>\n",
       "      <th>step</th>\n",
       "      <th>type</th>\n",
       "      <th>amount</th>\n",
       "      <th>nameOrig</th>\n",
       "      <th>oldbalanceOrg</th>\n",
       "      <th>newbalanceOrig</th>\n",
       "      <th>nameDest</th>\n",
       "      <th>oldbalanceDest</th>\n",
       "      <th>newbalanceDest</th>\n",
       "      <th>isFraud</th>\n",
       "      <th>isFlaggedFraud</th>\n",
       "    </tr>\n",
       "    <tr>\n",
       "      <th>txn_id</th>\n",
       "      <th></th>\n",
       "      <th></th>\n",
       "      <th></th>\n",
       "      <th></th>\n",
       "      <th></th>\n",
       "      <th></th>\n",
       "      <th></th>\n",
       "      <th></th>\n",
       "      <th></th>\n",
       "      <th></th>\n",
       "      <th></th>\n",
       "    </tr>\n",
       "  </thead>\n",
       "  <tbody>\n",
       "    <tr>\n",
       "      <th>57250</th>\n",
       "      <td>163</td>\n",
       "      <td>CASH_IN</td>\n",
       "      <td>116111.79</td>\n",
       "      <td>C1881145462</td>\n",
       "      <td>26948355.12</td>\n",
       "      <td>27064466.91</td>\n",
       "      <td>C168698757</td>\n",
       "      <td>251988.69</td>\n",
       "      <td>135876.90</td>\n",
       "      <td>0</td>\n",
       "      <td>0</td>\n",
       "    </tr>\n",
       "    <tr>\n",
       "      <th>5382</th>\n",
       "      <td>43</td>\n",
       "      <td>CASH_OUT</td>\n",
       "      <td>250426.58</td>\n",
       "      <td>C237150183</td>\n",
       "      <td>0.00</td>\n",
       "      <td>0.00</td>\n",
       "      <td>C234235840</td>\n",
       "      <td>324119.46</td>\n",
       "      <td>574546.03</td>\n",
       "      <td>0</td>\n",
       "      <td>0</td>\n",
       "    </tr>\n",
       "    <tr>\n",
       "      <th>60160</th>\n",
       "      <td>207</td>\n",
       "      <td>CASH_OUT</td>\n",
       "      <td>40803.09</td>\n",
       "      <td>C514128000</td>\n",
       "      <td>45420.00</td>\n",
       "      <td>4616.91</td>\n",
       "      <td>C813097043</td>\n",
       "      <td>191439.05</td>\n",
       "      <td>232242.14</td>\n",
       "      <td>0</td>\n",
       "      <td>0</td>\n",
       "    </tr>\n",
       "    <tr>\n",
       "      <th>5221</th>\n",
       "      <td>324</td>\n",
       "      <td>TRANSFER</td>\n",
       "      <td>887861.93</td>\n",
       "      <td>C643464864</td>\n",
       "      <td>92497.00</td>\n",
       "      <td>0.00</td>\n",
       "      <td>C1373750687</td>\n",
       "      <td>3307997.56</td>\n",
       "      <td>4195859.49</td>\n",
       "      <td>0</td>\n",
       "      <td>0</td>\n",
       "    </tr>\n",
       "    <tr>\n",
       "      <th>33039</th>\n",
       "      <td>95</td>\n",
       "      <td>PAYMENT</td>\n",
       "      <td>2966.70</td>\n",
       "      <td>C1898120439</td>\n",
       "      <td>10950.00</td>\n",
       "      <td>7983.30</td>\n",
       "      <td>M1108014483</td>\n",
       "      <td>0.00</td>\n",
       "      <td>0.00</td>\n",
       "      <td>0</td>\n",
       "      <td>0</td>\n",
       "    </tr>\n",
       "  </tbody>\n",
       "</table>\n",
       "</div>"
      ],
      "text/plain": [
       "        step      type     amount     nameOrig  oldbalanceOrg  newbalanceOrig  \\\n",
       "txn_id                                                                          \n",
       "57250    163   CASH_IN  116111.79  C1881145462    26948355.12     27064466.91   \n",
       "5382      43  CASH_OUT  250426.58   C237150183           0.00            0.00   \n",
       "60160    207  CASH_OUT   40803.09   C514128000       45420.00         4616.91   \n",
       "5221     324  TRANSFER  887861.93   C643464864       92497.00            0.00   \n",
       "33039     95   PAYMENT    2966.70  C1898120439       10950.00         7983.30   \n",
       "\n",
       "           nameDest  oldbalanceDest  newbalanceDest  isFraud  isFlaggedFraud  \n",
       "txn_id                                                                        \n",
       "57250    C168698757       251988.69       135876.90        0               0  \n",
       "5382     C234235840       324119.46       574546.03        0               0  \n",
       "60160    C813097043       191439.05       232242.14        0               0  \n",
       "5221    C1373750687      3307997.56      4195859.49        0               0  \n",
       "33039   M1108014483            0.00            0.00        0               0  "
      ]
     },
     "execution_count": 9,
     "metadata": {},
     "output_type": "execute_result"
    }
   ],
   "source": [
    "#Get a teradata DataFrame - this creates a local reference to the large table on the server.\n",
    "tdf_ip_data = DataFrame('ip_data')\n",
    "\n",
    "#Check the data - size and sample rows without returning all the data\n",
    "print(tdf_ip_data.shape)\n",
    "\n",
    "#I can return a small set of the data back to a traditional Pandas DF for full-featured formatting.\n",
    "tdf_ip_data.to_pandas(num_rows = 5).head()"
   ]
  },
  {
   "cell_type": "code",
   "execution_count": 10,
   "metadata": {},
   "outputs": [
    {
     "name": "stdout",
     "output_type": "stream",
     "text": [
      "<class 'teradataml.dataframe.dataframe.DataFrame'>\n",
      "Data columns (total 12 columns):\n",
      "step              63626 non-null int  \n",
      "type              63626 non-null str  \n",
      "amount            63626 non-null float\n",
      "nameOrig          63626 non-null str  \n",
      "oldbalanceOrg     63626 non-null float\n",
      "newbalanceOrig    63626 non-null float\n",
      "nameDest          63626 non-null str  \n",
      "oldbalanceDest    63626 non-null float\n",
      "newbalanceDest    63626 non-null float\n",
      "isFraud           63626 non-null int  \n",
      "isFlaggedFraud    63626 non-null int  \n",
      "txn_id            63626 non-null int  \n",
      "dtypes: int(4), float(5), str(3)\n"
     ]
    }
   ],
   "source": [
    "# check for null values.\n",
    "tdf_ip_data.info(null_counts = True)"
   ]
  },
  {
   "cell_type": "code",
   "execution_count": 11,
   "metadata": {},
   "outputs": [
    {
     "data": {
      "text/html": [
       "<style type=\"text/css\">\n",
       "\ttable {border:ridge 5px;}\n",
       "\ttable td {border:inset 1px;}\n",
       "\ttable tr#HeaderRow {background-color:grey; color:white;}</style>\n",
       "<html><table>\n",
       "\t<tr id=\"HeaderRow\">\n",
       "\t\t<th>func</th>\n",
       "\t\t<th>step</th>\n",
       "\t\t<th>amount</th>\n",
       "\t\t<th>oldbalanceOrg</th>\n",
       "\t\t<th>newbalanceOrig</th>\n",
       "\t\t<th>oldbalanceDest</th>\n",
       "\t\t<th>newbalanceDest</th>\n",
       "\t\t<th>isFraud</th>\n",
       "\t\t<th>isFlaggedFraud</th>\n",
       "\t\t<th>txn_id</th>\n",
       "\t</tr>\n",
       "\t<tr>\n",
       "\t\t<td>std</td>\n",
       "\t\t<td>142.318</td>\n",
       "\t\t<td>625628.888</td>\n",
       "\t\t<td>2866643.897</td>\n",
       "\t\t<td>2901040.554</td>\n",
       "\t\t<td>3552471.713</td>\n",
       "\t\t<td>3910769.595</td>\n",
       "\t\t<td>.038</td>\n",
       "\t\t<td>0</td>\n",
       "\t\t<td>18367.388</td>\n",
       "\t</tr>\n",
       "\t<tr>\n",
       "\t\t<td>25%</td>\n",
       "\t\t<td>156</td>\n",
       "\t\t<td>13561.99</td>\n",
       "\t\t<td>0</td>\n",
       "\t\t<td>0</td>\n",
       "\t\t<td>0</td>\n",
       "\t\t<td>0</td>\n",
       "\t\t<td>0</td>\n",
       "\t\t<td>0</td>\n",
       "\t\t<td>15907.25</td>\n",
       "\t</tr>\n",
       "\t<tr>\n",
       "\t\t<td>50%</td>\n",
       "\t\t<td>239</td>\n",
       "\t\t<td>76313.375</td>\n",
       "\t\t<td>14441.84</td>\n",
       "\t\t<td>0</td>\n",
       "\t\t<td>131176.075</td>\n",
       "\t\t<td>216585.735</td>\n",
       "\t\t<td>0</td>\n",
       "\t\t<td>0</td>\n",
       "\t\t<td>31813.5</td>\n",
       "\t</tr>\n",
       "\t<tr>\n",
       "\t\t<td>75%</td>\n",
       "\t\t<td>335</td>\n",
       "\t\t<td>210643.125</td>\n",
       "\t\t<td>107501.635</td>\n",
       "\t\t<td>145702.508</td>\n",
       "\t\t<td>954010.54</td>\n",
       "\t\t<td>1133398.633</td>\n",
       "\t\t<td>0</td>\n",
       "\t\t<td>0</td>\n",
       "\t\t<td>47719.75</td>\n",
       "\t</tr>\n",
       "\t<tr>\n",
       "\t\t<td>max</td>\n",
       "\t\t<td>718</td>\n",
       "\t\t<td>36946551.76</td>\n",
       "\t\t<td>44892193.09</td>\n",
       "\t\t<td>34892193.09</td>\n",
       "\t\t<td>219244799.8</td>\n",
       "\t\t<td>233909900.9</td>\n",
       "\t\t<td>1</td>\n",
       "\t\t<td>0</td>\n",
       "\t\t<td>63626</td>\n",
       "\t</tr>\n",
       "\t<tr>\n",
       "\t\t<td>min</td>\n",
       "\t\t<td>1</td>\n",
       "\t\t<td>.79</td>\n",
       "\t\t<td>0</td>\n",
       "\t\t<td>0</td>\n",
       "\t\t<td>0</td>\n",
       "\t\t<td>0</td>\n",
       "\t\t<td>0</td>\n",
       "\t\t<td>0</td>\n",
       "\t\t<td>1</td>\n",
       "\t</tr>\n",
       "\t<tr>\n",
       "\t\t<td>mean</td>\n",
       "\t\t<td>243.939</td>\n",
       "\t\t<td>184019.525</td>\n",
       "\t\t<td>832860.089</td>\n",
       "\t\t<td>854203.893</td>\n",
       "\t\t<td>1122750.26</td>\n",
       "\t\t<td>1256132.554</td>\n",
       "\t\t<td>.001</td>\n",
       "\t\t<td>0</td>\n",
       "\t\t<td>31813.5</td>\n",
       "\t</tr>\n",
       "\t<tr>\n",
       "\t\t<td>count</td>\n",
       "\t\t<td>63626</td>\n",
       "\t\t<td>63626</td>\n",
       "\t\t<td>63626</td>\n",
       "\t\t<td>63626</td>\n",
       "\t\t<td>63626</td>\n",
       "\t\t<td>63626</td>\n",
       "\t\t<td>63626</td>\n",
       "\t\t<td>63626</td>\n",
       "\t\t<td>63626</td>\n",
       "\t</tr>\n",
       "</table></html>"
      ],
      "text/plain": [
       "          step       amount oldbalanceOrg newbalanceOrig oldbalanceDest newbalanceDest isFraud isFlaggedFraud     txn_id\n",
       "func                                                                                                                    \n",
       "std    142.318   625628.888   2866643.897    2901040.554    3552471.713    3910769.595    .038              0  18367.388\n",
       "25%        156     13561.99             0              0              0              0       0              0   15907.25\n",
       "50%        239    76313.375      14441.84              0     131176.075     216585.735       0              0    31813.5\n",
       "75%        335   210643.125    107501.635     145702.508      954010.54    1133398.633       0              0   47719.75\n",
       "max        718  36946551.76   44892193.09    34892193.09    219244799.8    233909900.9       1              0      63626\n",
       "min          1          .79             0              0              0              0       0              0          1\n",
       "mean   243.939   184019.525    832860.089     854203.893     1122750.26    1256132.554    .001              0    31813.5\n",
       "count    63626        63626         63626          63626          63626          63626   63626          63626      63626"
      ]
     },
     "execution_count": 11,
     "metadata": {},
     "output_type": "execute_result"
    }
   ],
   "source": [
    "#Generate Stats using Teradata DataFrame describe method - similar to pandas but it runs on the server, we don't need to retrieve all the data.\n",
    "tdf_ip_data.describe()"
   ]
  },
  {
   "cell_type": "code",
   "execution_count": 12,
   "metadata": {},
   "outputs": [
    {
     "data": {
      "text/html": [
       "<style type=\"text/css\">\n",
       "\ttable {border:ridge 5px;}\n",
       "\ttable td {border:inset 1px;}\n",
       "\ttable tr#HeaderRow {background-color:grey; color:white;}</style>\n",
       "<html><table>\n",
       "\t<tr id=\"HeaderRow\">\n",
       "\t\t<th>step</th>\n",
       "\t\t<th>type</th>\n",
       "\t\t<th>amount</th>\n",
       "\t\t<th>nameOrig</th>\n",
       "\t\t<th>oldbalanceOrg</th>\n",
       "\t\t<th>newbalanceOrig</th>\n",
       "\t\t<th>nameDest</th>\n",
       "\t\t<th>oldbalanceDest</th>\n",
       "\t\t<th>newbalanceDest</th>\n",
       "\t\t<th>isFraud</th>\n",
       "\t\t<th>isFlaggedFraud</th>\n",
       "\t\t<th>txn_id</th>\n",
       "\t</tr>\n",
       "\t<tr>\n",
       "\t\t<td>276</td>\n",
       "\t\t<td>TRANSFER</td>\n",
       "\t\t<td>1567591.24</td>\n",
       "\t\t<td>C1295443216</td>\n",
       "\t\t<td>1567591.24</td>\n",
       "\t\t<td>0.0</td>\n",
       "\t\t<td>C1682101725</td>\n",
       "\t\t<td>0.0</td>\n",
       "\t\t<td>0.0</td>\n",
       "\t\t<td>1</td>\n",
       "\t\t<td>0</td>\n",
       "\t\t<td>865</td>\n",
       "\t</tr>\n",
       "\t<tr>\n",
       "\t\t<td>624</td>\n",
       "\t\t<td>TRANSFER</td>\n",
       "\t\t<td>24366.07</td>\n",
       "\t\t<td>C113775713</td>\n",
       "\t\t<td>24366.07</td>\n",
       "\t\t<td>0.0</td>\n",
       "\t\t<td>C405489983</td>\n",
       "\t\t<td>0.0</td>\n",
       "\t\t<td>0.0</td>\n",
       "\t\t<td>1</td>\n",
       "\t\t<td>0</td>\n",
       "\t\t<td>665</td>\n",
       "\t</tr>\n",
       "</table></html>"
      ],
      "text/plain": [
       "        step      type      amount     nameOrig  oldbalanceOrg  newbalanceOrig     nameDest  oldbalanceDest  newbalanceDest  isFraud  isFlaggedFraud\n",
       "txn_id                                                                                                                                              \n",
       "865      276  TRANSFER  1567591.24  C1295443216     1567591.24             0.0  C1682101725             0.0             0.0        1               0\n",
       "665      624  TRANSFER    24366.07   C113775713       24366.07             0.0   C405489983             0.0             0.0        1               0"
      ]
     },
     "execution_count": 12,
     "metadata": {},
     "output_type": "execute_result"
    }
   ],
   "source": [
    "#apply a set of expressions on the virtual dataframe using loc (pandas set processing technique) to grab all fraudulent values\n",
    "#The logic here will filter fraudulent transactions of type 'TRANSFER' - as a view on the server, not actually move the data at all.\n",
    "#calling head(2) will only retrieve two values from the sever\n",
    "\n",
    "#This table could be billions of rows, and only returns the two values we request.\n",
    "\n",
    "tdf_ip_data.loc[(tdf_ip_data.isFraud == 1) & (tdf_ip_data.type == 'TRANSFER')].head(2)"
   ]
  },
  {
   "cell_type": "code",
   "execution_count": 13,
   "metadata": {},
   "outputs": [
    {
     "data": {
      "text/html": [
       "<style type=\"text/css\">\n",
       "\ttable {border:ridge 5px;}\n",
       "\ttable td {border:inset 1px;}\n",
       "\ttable tr#HeaderRow {background-color:grey; color:white;}</style>\n",
       "<html><table>\n",
       "\t<tr id=\"HeaderRow\">\n",
       "\t\t<th>amount</th>\n",
       "\t\t<th>isFraud</th>\n",
       "\t\t<th>type</th>\n",
       "\t</tr>\n",
       "\t<tr>\n",
       "\t\t<td>18982.32</td>\n",
       "\t\t<td>1</td>\n",
       "\t\t<td>TRANSFER</td>\n",
       "\t</tr>\n",
       "\t<tr>\n",
       "\t\t<td>9748.89</td>\n",
       "\t\t<td>1</td>\n",
       "\t\t<td>CASH_OUT</td>\n",
       "\t</tr>\n",
       "</table></html>"
      ],
      "text/plain": [
       "     amount  isFraud      type\n",
       "0  18982.32        1  TRANSFER\n",
       "1   9748.89        1  CASH_OUT"
      ]
     },
     "execution_count": 13,
     "metadata": {},
     "output_type": "execute_result"
    }
   ],
   "source": [
    "#filter the dataframe, then only retrive two rows of results\n",
    "tdf_ip_data.loc[tdf_ip_data.isFraud == 1].filter(items = ['amount', 'isFraud', 'type']).head(2)"
   ]
  },
  {
   "cell_type": "markdown",
   "metadata": {},
   "source": [
    "<hr>\n",
    "<b style = 'font-size:28px;font-family:Arial;color:#E37C4D'>Section 4 - Working with Data at Scale</b>\n",
    "\n",
    "<p style = 'font-size:16px;font-family:Arial'>Act on our data sets without having to return all of the data, and leverage the computing power of the Teradata Vantage cluster.</p>\n",
    "\n",
    "<p style = 'font-size:18px;font-family:Arial;color:#E37C4D'><b>4.1 Aggregations</b></p>\n",
    "\n",
    "<p style = 'font-size:16px;font-family:Arial'>We can use these \"fluent\" methods to keep the code as brief and expressive as possible</p>"
   ]
  },
  {
   "cell_type": "code",
   "execution_count": 14,
   "metadata": {},
   "outputs": [
    {
     "data": {
      "text/html": [
       "<style type=\"text/css\">\n",
       "\ttable {border:ridge 5px;}\n",
       "\ttable td {border:inset 1px;}\n",
       "\ttable tr#HeaderRow {background-color:grey; color:white;}</style>\n",
       "<html><table>\n",
       "\t<tr id=\"HeaderRow\">\n",
       "\t\t<th>type</th>\n",
       "\t\t<th>count_amount</th>\n",
       "\t\t<th>count_isFraud</th>\n",
       "\t</tr>\n",
       "\t<tr>\n",
       "\t\t<td>CASH_OUT</td>\n",
       "\t\t<td>45</td>\n",
       "\t\t<td>45</td>\n",
       "\t</tr>\n",
       "\t<tr>\n",
       "\t\t<td>TRANSFER</td>\n",
       "\t\t<td>47</td>\n",
       "\t\t<td>47</td>\n",
       "\t</tr>\n",
       "</table></html>"
      ],
      "text/plain": [
       "       type  count_amount  count_isFraud\n",
       "0  CASH_OUT            45             45\n",
       "1  TRANSFER            47             47"
      ]
     },
     "execution_count": 14,
     "metadata": {},
     "output_type": "execute_result"
    }
   ],
   "source": [
    "#count each instance of fraud grouped by transaction type\n",
    "#note the only data that actually moves out of the database is the final count() aggregation.\n",
    "\n",
    "tdf_ip_data.loc[tdf_ip_data.isFraud == 1].filter(items = ['amount', 'isFraud', 'type']).groupby('type').count()"
   ]
  },
  {
   "cell_type": "code",
   "execution_count": 15,
   "metadata": {},
   "outputs": [
    {
     "data": {
      "text/html": [
       "<style type=\"text/css\">\n",
       "\ttable {border:ridge 5px;}\n",
       "\ttable td {border:inset 1px;}\n",
       "\ttable tr#HeaderRow {background-color:grey; color:white;}</style>\n",
       "<html><table>\n",
       "\t<tr id=\"HeaderRow\">\n",
       "\t\t<th>type</th>\n",
       "\t\t<th>min_amount</th>\n",
       "\t\t<th>max_amount</th>\n",
       "\t</tr>\n",
       "\t<tr>\n",
       "\t\t<td>CASH_OUT</td>\n",
       "\t\t<td>9748.89</td>\n",
       "\t\t<td>7060216.94</td>\n",
       "\t</tr>\n",
       "\t<tr>\n",
       "\t\t<td>TRANSFER</td>\n",
       "\t\t<td>18982.32</td>\n",
       "\t\t<td>10000000.0</td>\n",
       "\t</tr>\n",
       "</table></html>"
      ],
      "text/plain": [
       "       type  min_amount   max_amount\n",
       "0  CASH_OUT     9748.89   7060216.94\n",
       "1  TRANSFER    18982.32  10000000.00"
      ]
     },
     "execution_count": 15,
     "metadata": {},
     "output_type": "execute_result"
    }
   ],
   "source": [
    "#max and min fraud amounts by type - use agg() to use multiple aggregates\n",
    "tdf_ip_data.loc[tdf_ip_data.isFraud == 1].filter(items = ['amount', 'isFraud', 'type']).groupby('type')\\\n",
    "  .agg({'amount' : ['min', 'max']})"
   ]
  },
  {
   "cell_type": "markdown",
   "metadata": {},
   "source": [
    "<hr>\n",
    "<p style = 'font-size:18px;font-family:Arial;color:#E37C4D'><b>4.2 Simple Transformations</b></p>\n",
    "\n",
    "<p style = 'font-size:16px;font-family:Arial'>Create new \"Virtual Dataframes\" that are the result of dropping columns or adding new ones via simple expressions</p>"
   ]
  },
  {
   "cell_type": "code",
   "execution_count": 16,
   "metadata": {},
   "outputs": [
    {
     "data": {
      "text/html": [
       "<style type=\"text/css\">\n",
       "\ttable {border:ridge 5px;}\n",
       "\ttable td {border:inset 1px;}\n",
       "\ttable tr#HeaderRow {background-color:grey; color:white;}</style>\n",
       "<html><table>\n",
       "\t<tr id=\"HeaderRow\">\n",
       "\t\t<th>step</th>\n",
       "\t\t<th>type</th>\n",
       "\t\t<th>amount</th>\n",
       "\t\t<th>oldbalanceOrg</th>\n",
       "\t\t<th>newbalanceOrig</th>\n",
       "\t\t<th>oldbalanceDest</th>\n",
       "\t\t<th>newbalanceDest</th>\n",
       "\t\t<th>isFraud</th>\n",
       "\t\t<th>txn_id</th>\n",
       "\t</tr>\n",
       "\t<tr>\n",
       "\t\t<td>624</td>\n",
       "\t\t<td>TRANSFER</td>\n",
       "\t\t<td>24366.07</td>\n",
       "\t\t<td>24366.07</td>\n",
       "\t\t<td>0.0</td>\n",
       "\t\t<td>0.0</td>\n",
       "\t\t<td>0.0</td>\n",
       "\t\t<td>1</td>\n",
       "\t\t<td>665</td>\n",
       "\t</tr>\n",
       "\t<tr>\n",
       "\t\t<td>50</td>\n",
       "\t\t<td>CASH_OUT</td>\n",
       "\t\t<td>592737.43</td>\n",
       "\t\t<td>592737.43</td>\n",
       "\t\t<td>0.0</td>\n",
       "\t\t<td>163646.39</td>\n",
       "\t\t<td>756383.82</td>\n",
       "\t\t<td>1</td>\n",
       "\t\t<td>260</td>\n",
       "\t</tr>\n",
       "</table></html>"
      ],
      "text/plain": [
       "        step      type     amount  oldbalanceOrg  newbalanceOrig  oldbalanceDest  newbalanceDest  isFraud\n",
       "txn_id                                                                                                   \n",
       "665      624  TRANSFER   24366.07       24366.07             0.0            0.00            0.00        1\n",
       "260       50  CASH_OUT  592737.43      592737.43             0.0       163646.39       756383.82        1"
      ]
     },
     "execution_count": 16,
     "metadata": {},
     "output_type": "execute_result"
    }
   ],
   "source": [
    "#Create a new df with flagged fraud, and Drop columns\n",
    "clean_data = tdf_ip_data.loc[tdf_ip_data.isFraud == 1].drop(['nameDest', 'nameOrig', 'isFlaggedFraud'], axis = 1)\n",
    "clean_data.head(2)"
   ]
  },
  {
   "cell_type": "code",
   "execution_count": 17,
   "metadata": {},
   "outputs": [
    {
     "data": {
      "text/html": [
       "<style type=\"text/css\">\n",
       "\ttable {border:ridge 5px;}\n",
       "\ttable td {border:inset 1px;}\n",
       "\ttable tr#HeaderRow {background-color:grey; color:white;}</style>\n",
       "<html><table>\n",
       "\t<tr id=\"HeaderRow\">\n",
       "\t\t<th>step</th>\n",
       "\t\t<th>type</th>\n",
       "\t\t<th>amount</th>\n",
       "\t\t<th>oldbalanceOrg</th>\n",
       "\t\t<th>newbalanceOrig</th>\n",
       "\t\t<th>oldbalanceDest</th>\n",
       "\t\t<th>newbalanceDest</th>\n",
       "\t\t<th>isFraud</th>\n",
       "\t\t<th>txn_id</th>\n",
       "\t\t<th>diff</th>\n",
       "\t</tr>\n",
       "\t<tr>\n",
       "\t\t<td>624</td>\n",
       "\t\t<td>TRANSFER</td>\n",
       "\t\t<td>24366.07</td>\n",
       "\t\t<td>24366.07</td>\n",
       "\t\t<td>0.0</td>\n",
       "\t\t<td>0.0</td>\n",
       "\t\t<td>0.0</td>\n",
       "\t\t<td>1</td>\n",
       "\t\t<td>665</td>\n",
       "\t\t<td>-24366.07</td>\n",
       "\t</tr>\n",
       "\t<tr>\n",
       "\t\t<td>50</td>\n",
       "\t\t<td>CASH_OUT</td>\n",
       "\t\t<td>592737.43</td>\n",
       "\t\t<td>592737.43</td>\n",
       "\t\t<td>0.0</td>\n",
       "\t\t<td>163646.39</td>\n",
       "\t\t<td>756383.82</td>\n",
       "\t\t<td>1</td>\n",
       "\t\t<td>260</td>\n",
       "\t\t<td>163646.3899999999</td>\n",
       "\t</tr>\n",
       "</table></html>"
      ],
      "text/plain": [
       "        step      type     amount  oldbalanceOrg  newbalanceOrig  oldbalanceDest  newbalanceDest  isFraud       diff\n",
       "txn_id                                                                                                              \n",
       "665      624  TRANSFER   24366.07       24366.07             0.0            0.00            0.00        1  -24366.07\n",
       "260       50  CASH_OUT  592737.43      592737.43             0.0       163646.39       756383.82        1  163646.39"
      ]
     },
     "execution_count": 17,
     "metadata": {},
     "output_type": "execute_result"
    }
   ],
   "source": [
    "#Assign a new column with the difference between newbalanceDest and amount of transaction \n",
    "#Note assign needs to be used, as traditional implicit columns assignments aren't translated\n",
    "#Meaning df['new_col'] = df['old1'] - df['old2']\n",
    "clean_data = clean_data.assign(diff = clean_data['newbalanceDest'] - clean_data['amount'])\n",
    "clean_data.head(2)"
   ]
  },
  {
   "cell_type": "code",
   "execution_count": 18,
   "metadata": {},
   "outputs": [
    {
     "data": {
      "text/html": [
       "<style type=\"text/css\">\n",
       "\ttable {border:ridge 5px;}\n",
       "\ttable td {border:inset 1px;}\n",
       "\ttable tr#HeaderRow {background-color:grey; color:white;}</style>\n",
       "<html><table>\n",
       "\t<tr id=\"HeaderRow\">\n",
       "\t\t<th>step</th>\n",
       "\t\t<th>type</th>\n",
       "\t\t<th>amount</th>\n",
       "\t\t<th>oldbalanceOrg</th>\n",
       "\t\t<th>newbalanceOrig</th>\n",
       "\t\t<th>oldbalanceDest</th>\n",
       "\t\t<th>newbalanceDest</th>\n",
       "\t\t<th>isFraud</th>\n",
       "\t\t<th>txn_id</th>\n",
       "\t\t<th>diff</th>\n",
       "\t\t<th>btype</th>\n",
       "\t</tr>\n",
       "\t<tr>\n",
       "\t\t<td>276</td>\n",
       "\t\t<td>TRANSFER</td>\n",
       "\t\t<td>1567591.24</td>\n",
       "\t\t<td>1567591.24</td>\n",
       "\t\t<td>0.0</td>\n",
       "\t\t<td>0.0</td>\n",
       "\t\t<td>0.0</td>\n",
       "\t\t<td>1</td>\n",
       "\t\t<td>865</td>\n",
       "\t\t<td>-1567591.24</td>\n",
       "\t\t<td>0</td>\n",
       "\t</tr>\n",
       "\t<tr>\n",
       "\t\t<td>431</td>\n",
       "\t\t<td>CASH_OUT</td>\n",
       "\t\t<td>526071.46</td>\n",
       "\t\t<td>526071.46</td>\n",
       "\t\t<td>0.0</td>\n",
       "\t\t<td>987448.67</td>\n",
       "\t\t<td>1513520.12</td>\n",
       "\t\t<td>1</td>\n",
       "\t\t<td>2114</td>\n",
       "\t\t<td>987448.6600000001</td>\n",
       "\t\t<td>1</td>\n",
       "\t</tr>\n",
       "\t<tr>\n",
       "\t\t<td>525</td>\n",
       "\t\t<td>CASH_OUT</td>\n",
       "\t\t<td>203280.85</td>\n",
       "\t\t<td>203280.85</td>\n",
       "\t\t<td>0.0</td>\n",
       "\t\t<td>0.0</td>\n",
       "\t\t<td>203280.85</td>\n",
       "\t\t<td>1</td>\n",
       "\t\t<td>2062</td>\n",
       "\t\t<td>0.0</td>\n",
       "\t\t<td>1</td>\n",
       "\t</tr>\n",
       "\t<tr>\n",
       "\t\t<td>624</td>\n",
       "\t\t<td>TRANSFER</td>\n",
       "\t\t<td>24366.07</td>\n",
       "\t\t<td>24366.07</td>\n",
       "\t\t<td>0.0</td>\n",
       "\t\t<td>0.0</td>\n",
       "\t\t<td>0.0</td>\n",
       "\t\t<td>1</td>\n",
       "\t\t<td>665</td>\n",
       "\t\t<td>-24366.07</td>\n",
       "\t\t<td>0</td>\n",
       "\t</tr>\n",
       "\t<tr>\n",
       "\t\t<td>50</td>\n",
       "\t\t<td>CASH_OUT</td>\n",
       "\t\t<td>592737.43</td>\n",
       "\t\t<td>592737.43</td>\n",
       "\t\t<td>0.0</td>\n",
       "\t\t<td>163646.39</td>\n",
       "\t\t<td>756383.82</td>\n",
       "\t\t<td>1</td>\n",
       "\t\t<td>260</td>\n",
       "\t\t<td>163646.3899999999</td>\n",
       "\t\t<td>1</td>\n",
       "\t</tr>\n",
       "</table></html>"
      ],
      "text/plain": [
       "        step      type      amount  oldbalanceOrg  newbalanceOrig  oldbalanceDest  newbalanceDest  isFraud        diff btype\n",
       "txn_id                                                                                                                      \n",
       "865      276  TRANSFER  1567591.24     1567591.24             0.0            0.00            0.00        1 -1567591.24     0\n",
       "2114     431  CASH_OUT   526071.46      526071.46             0.0       987448.67      1513520.12        1   987448.66     1\n",
       "2062     525  CASH_OUT   203280.85      203280.85             0.0            0.00       203280.85        1        0.00     1\n",
       "665      624  TRANSFER    24366.07       24366.07             0.0            0.00            0.00        1   -24366.07     0\n",
       "260       50  CASH_OUT   592737.43      592737.43             0.0       163646.39       756383.82        1   163646.39     1"
      ]
     },
     "execution_count": 18,
     "metadata": {},
     "output_type": "execute_result"
    }
   ],
   "source": [
    "#String assigment/operators\n",
    "#Create a new column which is the binary representation of transaction type\n",
    "clean_data = clean_data.assign(btype = clean_data['type'].str.contains('CASH_OUT'))\n",
    "clean_data.head(5)"
   ]
  },
  {
   "cell_type": "markdown",
   "metadata": {},
   "source": [
    "<hr>\n",
    "<p style = 'font-size:18px;font-family:Arial;color:#E37C4D'><b>4.3 Joins</b></p>\n",
    "<p style = 'font-size:16px;font-family:Arial'>Join dataframes using python pandas-style join methods</p>"
   ]
  },
  {
   "cell_type": "code",
   "execution_count": 19,
   "metadata": {},
   "outputs": [
    {
     "data": {
      "text/html": [
       "<style type=\"text/css\">\n",
       "\ttable {border:ridge 5px;}\n",
       "\ttable td {border:inset 1px;}\n",
       "\ttable tr#HeaderRow {background-color:grey; color:white;}</style>\n",
       "<html><table>\n",
       "\t<tr id=\"HeaderRow\">\n",
       "\t\t<th>CUSTOMER_ID</th>\n",
       "\t\t<th>F_NAME</th>\n",
       "\t\t<th>L_NAME</th>\n",
       "\t\t<th>VALIDITY</th>\n",
       "\t\t<th>CUST_ZIP</th>\n",
       "\t\t<th>CUST_LOCATION</th>\n",
       "\t\t<th>ETHNICITY</th>\n",
       "\t\t<th>GENDER</th>\n",
       "\t\t<th>CHURN_FLAG</th>\n",
       "\t</tr>\n",
       "\t<tr>\n",
       "\t\t<td>1484.000</td>\n",
       "\t\t<td>Theresa</td>\n",
       "\t\t<td>Norris</td>\n",
       "\t\t<td>(2010-06-13, 9999-12-31)</td>\n",
       "\t\t<td>     </td>\n",
       "\t\t<td>POINT (-75.426144 41.827285)</td>\n",
       "\t\t<td>Pacific Islander</td>\n",
       "\t\t<td>F </td>\n",
       "\t\t<td>N</td>\n",
       "\t</tr>\n",
       "\t<tr>\n",
       "\t\t<td>1526.000</td>\n",
       "\t\t<td>Norris</td>\n",
       "\t\t<td>Tucker</td>\n",
       "\t\t<td>(2010-04-04, 9999-12-31)</td>\n",
       "\t\t<td>     </td>\n",
       "\t\t<td>POINT (-78.78418 38.31321)</td>\n",
       "\t\t<td>African American</td>\n",
       "\t\t<td>M </td>\n",
       "\t\t<td>N</td>\n",
       "\t</tr>\n",
       "\t<tr>\n",
       "\t\t<td>1484.000</td>\n",
       "\t\t<td>Theresa</td>\n",
       "\t\t<td>Norris</td>\n",
       "\t\t<td>(2009-11-02, 2010-06-12)</td>\n",
       "\t\t<td>     </td>\n",
       "\t\t<td>POINT (-90.637706 36.587245)</td>\n",
       "\t\t<td>Pacific Islander</td>\n",
       "\t\t<td>F </td>\n",
       "\t\t<td>N</td>\n",
       "\t</tr>\n",
       "\t<tr>\n",
       "\t\t<td>1455.000</td>\n",
       "\t\t<td>Helena</td>\n",
       "\t\t<td>Mcgee</td>\n",
       "\t\t<td>(2011-08-26, 9999-12-31)</td>\n",
       "\t\t<td>     </td>\n",
       "\t\t<td>POINT (-74.940368 39.221854)</td>\n",
       "\t\t<td>Hispanic</td>\n",
       "\t\t<td>F </td>\n",
       "\t\t<td>N</td>\n",
       "\t</tr>\n",
       "\t<tr>\n",
       "\t\t<td>1455.000</td>\n",
       "\t\t<td>Helena</td>\n",
       "\t\t<td>Mcgee</td>\n",
       "\t\t<td>(2011-01-15, 2011-08-25)</td>\n",
       "\t\t<td>     </td>\n",
       "\t\t<td>POINT (-83.115979 37.369184)</td>\n",
       "\t\t<td>Hispanic</td>\n",
       "\t\t<td>F </td>\n",
       "\t\t<td>N</td>\n",
       "\t</tr>\n",
       "</table></html>"
      ],
      "text/plain": [
       "              F_NAME  L_NAME                  VALIDITY CUST_ZIP                 CUST_LOCATION         ETHNICITY GENDER CHURN_FLAG\n",
       "CUSTOMER_ID                                                                                                                      \n",
       "1484.000     Theresa  Norris  (2010-06-13, 9999-12-31)           POINT (-75.426144 41.827285)  Pacific Islander     F           N\n",
       "1526.000      Norris  Tucker  (2009-08-24, 2010-04-03)           POINT (-89.481382 39.131717)  African American     M           N\n",
       "1484.000     Theresa  Norris  (2009-11-02, 2010-06-12)           POINT (-90.637706 36.587245)  Pacific Islander     F           N\n",
       "1455.000      Helena   Mcgee  (2011-01-15, 2011-08-25)           POINT (-83.115979 37.369184)          Hispanic     F           N\n",
       "1455.000      Helena   Mcgee  (2011-08-26, 9999-12-31)           POINT (-74.940368 39.221854)          Hispanic     F           N"
      ]
     },
     "execution_count": 19,
     "metadata": {},
     "output_type": "execute_result"
    }
   ],
   "source": [
    "#Set up for Join - create two dataframes (dimension (customer) - and fact (comment) table)\n",
    "tdf_customer = DataFrame('CUSTOMER')\n",
    "tdf_customer.head(5)"
   ]
  },
  {
   "cell_type": "code",
   "execution_count": 20,
   "metadata": {},
   "outputs": [
    {
     "data": {
      "text/html": [
       "<style type=\"text/css\">\n",
       "\ttable {border:ridge 5px;}\n",
       "\ttable td {border:inset 1px;}\n",
       "\ttable tr#HeaderRow {background-color:grey; color:white;}</style>\n",
       "<html><table>\n",
       "\t<tr id=\"HeaderRow\">\n",
       "\t\t<th>COMMENT_ID</th>\n",
       "\t\t<th>CUSTOMER_ID</th>\n",
       "\t\t<th>COMMENT_DT</th>\n",
       "\t\t<th>CHANNEL_TYPE</th>\n",
       "\t\t<th>CHANNEL_ID</th>\n",
       "\t\t<th>COMMENT_TEXT</th>\n",
       "\t</tr>\n",
       "\t<tr>\n",
       "\t\t<td>T000010002</td>\n",
       "\t\t<td>67167</td>\n",
       "\t\t<td>2018-04-13 01:50:00.000</td>\n",
       "\t\t<td>C</td>\n",
       "\t\t<td>C0000503837</td>\n",
       "\t\t<td>Sample comment</td>\n",
       "\t</tr>\n",
       "\t<tr>\n",
       "\t\t<td>T000010004</td>\n",
       "\t\t<td>99187</td>\n",
       "\t\t<td>2018-04-13 01:50:00.000</td>\n",
       "\t\t<td>C</td>\n",
       "\t\t<td>C0000505422</td>\n",
       "\t\t<td>Sample comment</td>\n",
       "\t</tr>\n",
       "\t<tr>\n",
       "\t\t<td>T000010003</td>\n",
       "\t\t<td>131207</td>\n",
       "\t\t<td>2018-04-13 01:50:00.000</td>\n",
       "\t\t<td>C</td>\n",
       "\t\t<td>C0000506861</td>\n",
       "\t\t<td>Sample comment</td>\n",
       "\t</tr>\n",
       "\t<tr>\n",
       "\t\t<td>T000010001</td>\n",
       "\t\t<td>99187</td>\n",
       "\t\t<td>2018-04-13 01:43:00.000</td>\n",
       "\t\t<td>W</td>\n",
       "\t\t<td>W0000206454</td>\n",
       "\t\t<td>Sample comment</td>\n",
       "\t</tr>\n",
       "\t<tr>\n",
       "\t\t<td>T000010000</td>\n",
       "\t\t<td>67167</td>\n",
       "\t\t<td>2018-04-13 01:43:00.000</td>\n",
       "\t\t<td>W</td>\n",
       "\t\t<td>W0000206453</td>\n",
       "\t\t<td>Sample comment</td>\n",
       "\t</tr>\n",
       "</table></html>"
      ],
      "text/plain": [
       "   COMMENT_ID  CUSTOMER_ID               COMMENT_DT CHANNEL_TYPE   CHANNEL_ID    COMMENT_TEXT\n",
       "0  T000010002        67167  2018-04-13 01:50:00.000            C  C0000503837  Sample comment\n",
       "1  T000010004        99187  2018-04-13 01:50:00.000            C  C0000505422  Sample comment\n",
       "2  T000010003       131207  2018-04-13 01:50:00.000            C  C0000506861  Sample comment\n",
       "3  T000010001        99187  2018-04-13 01:43:00.000            W  W0000206454  Sample comment\n",
       "4  T000010000        67167  2018-04-13 01:43:00.000            W  W0000206453  Sample comment"
      ]
     },
     "execution_count": 20,
     "metadata": {},
     "output_type": "execute_result"
    }
   ],
   "source": [
    "tdf_cust_comment = DataFrame('CUST_COMMENT')\n",
    "tdf_cust_comment.head(5)"
   ]
  },
  {
   "cell_type": "code",
   "execution_count": 21,
   "metadata": {},
   "outputs": [
    {
     "data": {
      "text/html": [
       "<style type=\"text/css\">\n",
       "\ttable {border:ridge 5px;}\n",
       "\ttable td {border:inset 1px;}\n",
       "\ttable tr#HeaderRow {background-color:grey; color:white;}</style>\n",
       "<html><table>\n",
       "\t<tr id=\"HeaderRow\">\n",
       "\t\t<th>cID__CUSTOMER_ID</th>\n",
       "\t\t<th>COMMENT_DT</th>\n",
       "\t\t<th>COMMENT_TEXT</th>\n",
       "\t\t<th>F_NAME</th>\n",
       "\t\t<th>L_NAME</th>\n",
       "\t\t<th>CUST_ZIP</th>\n",
       "\t\t<th>CUST_LOCATION</th>\n",
       "\t\t<th>CHURN_FLAG</th>\n",
       "\t</tr>\n",
       "\t<tr>\n",
       "\t\t<td>116905</td>\n",
       "\t\t<td>2018-04-21 22:54:00.000</td>\n",
       "\t\t<td>Sample comment</td>\n",
       "\t\t<td>Aubrey</td>\n",
       "\t\t<td>Flynn</td>\n",
       "\t\t<td>     </td>\n",
       "\t\t<td>POINT (-121.096261 38.511992)</td>\n",
       "\t\t<td>Y</td>\n",
       "\t</tr>\n",
       "\t<tr>\n",
       "\t\t<td>130018</td>\n",
       "\t\t<td>2018-04-10 22:32:00.000</td>\n",
       "\t\t<td>Sample comment</td>\n",
       "\t\t<td>Willie</td>\n",
       "\t\t<td>Haynes</td>\n",
       "\t\t<td>     </td>\n",
       "\t\t<td>POINT (-91.942767 45.878861)</td>\n",
       "\t\t<td>Y</td>\n",
       "\t</tr>\n",
       "\t<tr>\n",
       "\t\t<td>69536</td>\n",
       "\t\t<td>2018-03-26 02:47:00.000</td>\n",
       "\t\t<td>Sample comment</td>\n",
       "\t\t<td>Dalton</td>\n",
       "\t\t<td>Key</td>\n",
       "\t\t<td>     </td>\n",
       "\t\t<td>POINT (-84.637685 36.010201)</td>\n",
       "\t\t<td>Y</td>\n",
       "\t</tr>\n",
       "\t<tr>\n",
       "\t\t<td>192336</td>\n",
       "\t\t<td>2018-05-13 20:30:00.000</td>\n",
       "\t\t<td>Sample comment</td>\n",
       "\t\t<td>Conrad</td>\n",
       "\t\t<td>Yates</td>\n",
       "\t\t<td>     </td>\n",
       "\t\t<td>POINT (-68.928337 44.598953)</td>\n",
       "\t\t<td>Y</td>\n",
       "\t</tr>\n",
       "\t<tr>\n",
       "\t\t<td>198637</td>\n",
       "\t\t<td>2018-05-08 19:58:00.000</td>\n",
       "\t\t<td>Sample comment</td>\n",
       "\t\t<td>Joanna</td>\n",
       "\t\t<td>Miller</td>\n",
       "\t\t<td>     </td>\n",
       "\t\t<td>POINT (-79.553568 38.764498)</td>\n",
       "\t\t<td>Y</td>\n",
       "\t</tr>\n",
       "\t<tr>\n",
       "\t\t<td>191663</td>\n",
       "\t\t<td>2018-05-11 11:11:00.000</td>\n",
       "\t\t<td>Sample comment</td>\n",
       "\t\t<td>Winifred</td>\n",
       "\t\t<td>Lawson</td>\n",
       "\t\t<td>     </td>\n",
       "\t\t<td>POINT (-100.211576 36.223812)</td>\n",
       "\t\t<td>Y</td>\n",
       "\t</tr>\n",
       "\t<tr>\n",
       "\t\t<td>177042</td>\n",
       "\t\t<td>2018-04-26 12:24:00.000</td>\n",
       "\t\t<td>Sample comment</td>\n",
       "\t\t<td>Lynnette</td>\n",
       "\t\t<td>Ross</td>\n",
       "\t\t<td>     </td>\n",
       "\t\t<td>POINT (-79.526578 37.778993)</td>\n",
       "\t\t<td>Y</td>\n",
       "\t</tr>\n",
       "\t<tr>\n",
       "\t\t<td>115805</td>\n",
       "\t\t<td>2018-03-18 14:18:00.000</td>\n",
       "\t\t<td>Sample comment</td>\n",
       "\t\t<td>Fabian</td>\n",
       "\t\t<td>Tran</td>\n",
       "\t\t<td>     </td>\n",
       "\t\t<td>POINT (-93.936807 39.193758)</td>\n",
       "\t\t<td>Y</td>\n",
       "\t</tr>\n",
       "\t<tr>\n",
       "\t\t<td>104383</td>\n",
       "\t\t<td>2018-05-05 01:12:00.000</td>\n",
       "\t\t<td>Sample comment</td>\n",
       "\t\t<td>Wilfredo</td>\n",
       "\t\t<td>Brown</td>\n",
       "\t\t<td>     </td>\n",
       "\t\t<td>POINT (-94.382352 35.41334)</td>\n",
       "\t\t<td>Y</td>\n",
       "\t</tr>\n",
       "\t<tr>\n",
       "\t\t<td>90397</td>\n",
       "\t\t<td>2018-05-12 22:51:00.000</td>\n",
       "\t\t<td>Sample comment</td>\n",
       "\t\t<td>Burl</td>\n",
       "\t\t<td>Mcmillan</td>\n",
       "\t\t<td>     </td>\n",
       "\t\t<td>POINT (-86.458306 45.961986)</td>\n",
       "\t\t<td>Y</td>\n",
       "\t</tr>\n",
       "</table></html>"
      ],
      "text/plain": [
       "   cID__CUSTOMER_ID               COMMENT_DT    COMMENT_TEXT    F_NAME   L_NAME CUST_ZIP                  CUST_LOCATION CHURN_FLAG\n",
       "0            114541  2018-03-22 18:13:00.000  Sample comment   Richard  Salazar            POINT (-76.514748 37.606769)          Y\n",
       "1             87846  2018-05-11 07:10:00.000  Sample comment   Gilbert  Collins            POINT (-82.870492 39.920951)          Y\n",
       "2             69536  2018-03-26 02:47:00.000  Sample comment    Dalton      Key            POINT (-84.637685 36.010201)          Y\n",
       "3            192336  2018-05-13 20:30:00.000  Sample comment    Conrad    Yates            POINT (-68.928337 44.598953)          Y\n",
       "4             91070  2018-04-21 17:13:00.000  Sample comment  Mauricio   Briggs            POINT (-99.220944 48.479397)          Y\n",
       "5            115805  2018-03-18 14:18:00.000  Sample comment    Fabian     Tran            POINT (-93.936807 39.193758)          Y\n",
       "6            116905  2018-04-21 22:54:00.000  Sample comment    Aubrey    Flynn           POINT (-121.096261 38.511992)          Y\n",
       "7            109357  2018-04-24 22:34:00.000  Sample comment    Eileen     Vega            POINT (-83.215582 33.046624)          Y\n",
       "8            122331  2018-03-25 13:16:00.000  Sample comment   Brandie    Greer            POINT (-92.480163 33.496803)          Y\n",
       "9            198637  2018-05-08 19:58:00.000  Sample comment    Joanna   Miller            POINT (-79.553568 38.764498)          Y"
      ]
     },
     "execution_count": 21,
     "metadata": {},
     "output_type": "execute_result"
    }
   ],
   "source": [
    "#Do an inner join and clean up fields I don't need.\n",
    "tdf_comment_full = tdf_cust_comment.join(other = tdf_customer, \n",
    "                                         on = ['CUSTOMER_ID = CUSTOMER_ID'], \n",
    "                                         how = 'inner', \n",
    "                                         lsuffix = 'cID_', \n",
    "                                         rsuffix = 'cOM_')\n",
    "tdf_comment_full.drop(['COMMENT_ID', 'cOM__CUSTOMER_ID', 'CHANNEL_ID', 'GENDER', 'CHANNEL_TYPE', 'ETHNICITY', 'VALIDITY'], axis = 1)"
   ]
  },
  {
   "cell_type": "markdown",
   "metadata": {},
   "source": [
    "<hr>\n",
    "<b style = 'font-size:28px;font-family:Arial;color:#E37C4D'>Section 5 - Advanced Data Preparation Functions</b>\n",
    "\n",
    "<p style = 'font-size:16px;font-family:Arial'>The TeradataML Python package has exposed many powerful SQL data transformation functions to the user.  These functions can be applied to Teradata Dataframes to operate on data at scale in the database.\n",
    "See the documentation for a full list of functions (including aggregate, arithmetic, Bit/Byte, Date and Time, Hash, Regular Expression, and String Functions).</p>\n",
    "<a href = 'https://docs.teradata.com/r/xLnbN80h9C6037gi3ildag/XBbIi3SxyFp4Vh9sz8rUqQ'>https://docs.teradata.com/r/xLnbN80h9C6037gi3ildag/XBbIi3SxyFp4Vh9sz8rUqQ</a>\n",
    "\n",
    "<p style = 'font-size:18px;font-family:Arial;color:#E37C4D'><b>5.1 Aggregate Functions:</b></p>"
   ]
  },
  {
   "cell_type": "code",
   "execution_count": 22,
   "metadata": {},
   "outputs": [
    {
     "data": {
      "text/html": [
       "<style type=\"text/css\">\n",
       "\ttable {border:ridge 5px;}\n",
       "\ttable td {border:inset 1px;}\n",
       "\ttable tr#HeaderRow {background-color:grey; color:white;}</style>\n",
       "<html><table>\n",
       "\t<tr id=\"HeaderRow\">\n",
       "\t\t<th>step</th>\n",
       "\t\t<th>type</th>\n",
       "\t\t<th>amount</th>\n",
       "\t\t<th>oldbalanceOrg</th>\n",
       "\t\t<th>newbalanceOrig</th>\n",
       "\t\t<th>oldbalanceDest</th>\n",
       "\t\t<th>newbalanceDest</th>\n",
       "\t\t<th>isFraud</th>\n",
       "\t\t<th>txn_id</th>\n",
       "\t\t<th>diff</th>\n",
       "\t\t<th>btype</th>\n",
       "\t</tr>\n",
       "\t<tr>\n",
       "\t\t<td>276</td>\n",
       "\t\t<td>TRANSFER</td>\n",
       "\t\t<td>1567591.24</td>\n",
       "\t\t<td>1567591.24</td>\n",
       "\t\t<td>0.0</td>\n",
       "\t\t<td>0.0</td>\n",
       "\t\t<td>0.0</td>\n",
       "\t\t<td>1</td>\n",
       "\t\t<td>865</td>\n",
       "\t\t<td>-1567591.24</td>\n",
       "\t\t<td>0</td>\n",
       "\t</tr>\n",
       "\t<tr>\n",
       "\t\t<td>431</td>\n",
       "\t\t<td>CASH_OUT</td>\n",
       "\t\t<td>526071.46</td>\n",
       "\t\t<td>526071.46</td>\n",
       "\t\t<td>0.0</td>\n",
       "\t\t<td>987448.67</td>\n",
       "\t\t<td>1513520.12</td>\n",
       "\t\t<td>1</td>\n",
       "\t\t<td>2114</td>\n",
       "\t\t<td>987448.6600000001</td>\n",
       "\t\t<td>1</td>\n",
       "\t</tr>\n",
       "\t<tr>\n",
       "\t\t<td>231</td>\n",
       "\t\t<td>CASH_OUT</td>\n",
       "\t\t<td>6029387.26</td>\n",
       "\t\t<td>6029387.26</td>\n",
       "\t\t<td>0.0</td>\n",
       "\t\t<td>662435.69</td>\n",
       "\t\t<td>6691822.95</td>\n",
       "\t\t<td>1</td>\n",
       "\t\t<td>2265</td>\n",
       "\t\t<td>662435.6900000004</td>\n",
       "\t\t<td>1</td>\n",
       "\t</tr>\n",
       "\t<tr>\n",
       "\t\t<td>673</td>\n",
       "\t\t<td>CASH_OUT</td>\n",
       "\t\t<td>897875.35</td>\n",
       "\t\t<td>897875.35</td>\n",
       "\t\t<td>0.0</td>\n",
       "\t\t<td>0.0</td>\n",
       "\t\t<td>897875.35</td>\n",
       "\t\t<td>1</td>\n",
       "\t\t<td>2903</td>\n",
       "\t\t<td>0.0</td>\n",
       "\t\t<td>1</td>\n",
       "\t</tr>\n",
       "\t<tr>\n",
       "\t\t<td>381</td>\n",
       "\t\t<td>CASH_OUT</td>\n",
       "\t\t<td>102256.57</td>\n",
       "\t\t<td>102256.57</td>\n",
       "\t\t<td>0.0</td>\n",
       "\t\t<td>0.0</td>\n",
       "\t\t<td>102256.57</td>\n",
       "\t\t<td>1</td>\n",
       "\t\t<td>3938</td>\n",
       "\t\t<td>0.0</td>\n",
       "\t\t<td>1</td>\n",
       "\t</tr>\n",
       "\t<tr>\n",
       "\t\t<td>450</td>\n",
       "\t\t<td>CASH_OUT</td>\n",
       "\t\t<td>133057.11</td>\n",
       "\t\t<td>133057.11</td>\n",
       "\t\t<td>0.0</td>\n",
       "\t\t<td>27926.24</td>\n",
       "\t\t<td>160983.35</td>\n",
       "\t\t<td>1</td>\n",
       "\t\t<td>4002</td>\n",
       "\t\t<td>27926.24000000002</td>\n",
       "\t\t<td>1</td>\n",
       "\t</tr>\n",
       "\t<tr>\n",
       "\t\t<td>183</td>\n",
       "\t\t<td>TRANSFER</td>\n",
       "\t\t<td>1503297.45</td>\n",
       "\t\t<td>1503297.45</td>\n",
       "\t\t<td>0.0</td>\n",
       "\t\t<td>0.0</td>\n",
       "\t\t<td>0.0</td>\n",
       "\t\t<td>1</td>\n",
       "\t\t<td>3011</td>\n",
       "\t\t<td>-1503297.45</td>\n",
       "\t\t<td>0</td>\n",
       "\t</tr>\n",
       "\t<tr>\n",
       "\t\t<td>525</td>\n",
       "\t\t<td>CASH_OUT</td>\n",
       "\t\t<td>203280.85</td>\n",
       "\t\t<td>203280.85</td>\n",
       "\t\t<td>0.0</td>\n",
       "\t\t<td>0.0</td>\n",
       "\t\t<td>203280.85</td>\n",
       "\t\t<td>1</td>\n",
       "\t\t<td>2062</td>\n",
       "\t\t<td>0.0</td>\n",
       "\t\t<td>1</td>\n",
       "\t</tr>\n",
       "\t<tr>\n",
       "\t\t<td>624</td>\n",
       "\t\t<td>TRANSFER</td>\n",
       "\t\t<td>24366.07</td>\n",
       "\t\t<td>24366.07</td>\n",
       "\t\t<td>0.0</td>\n",
       "\t\t<td>0.0</td>\n",
       "\t\t<td>0.0</td>\n",
       "\t\t<td>1</td>\n",
       "\t\t<td>665</td>\n",
       "\t\t<td>-24366.07</td>\n",
       "\t\t<td>0</td>\n",
       "\t</tr>\n",
       "\t<tr>\n",
       "\t\t<td>50</td>\n",
       "\t\t<td>CASH_OUT</td>\n",
       "\t\t<td>592737.43</td>\n",
       "\t\t<td>592737.43</td>\n",
       "\t\t<td>0.0</td>\n",
       "\t\t<td>163646.39</td>\n",
       "\t\t<td>756383.82</td>\n",
       "\t\t<td>1</td>\n",
       "\t\t<td>260</td>\n",
       "\t\t<td>163646.3899999999</td>\n",
       "\t\t<td>1</td>\n",
       "\t</tr>\n",
       "</table></html>"
      ],
      "text/plain": [
       "        step      type      amount  oldbalanceOrg  newbalanceOrig  oldbalanceDest  newbalanceDest  isFraud        diff btype\n",
       "txn_id                                                                                                                      \n",
       "865      276  TRANSFER  1567591.24     1567591.24             0.0            0.00            0.00        1 -1567591.24     0\n",
       "2114     431  CASH_OUT   526071.46      526071.46             0.0       987448.67      1513520.12        1   987448.66     1\n",
       "2265     231  CASH_OUT  6029387.26     6029387.26             0.0       662435.69      6691822.95        1   662435.69     1\n",
       "2903     673  CASH_OUT   897875.35      897875.35             0.0            0.00       897875.35        1        0.00     1\n",
       "3938     381  CASH_OUT   102256.57      102256.57             0.0            0.00       102256.57        1        0.00     1\n",
       "4002     450  CASH_OUT   133057.11      133057.11             0.0        27926.24       160983.35        1    27926.24     1\n",
       "3011     183  TRANSFER  1503297.45     1503297.45             0.0            0.00            0.00        1 -1503297.45     0\n",
       "2062     525  CASH_OUT   203280.85      203280.85             0.0            0.00       203280.85        1        0.00     1\n",
       "665      624  TRANSFER    24366.07       24366.07             0.0            0.00            0.00        1   -24366.07     0\n",
       "260       50  CASH_OUT   592737.43      592737.43             0.0       163646.39       756383.82        1   163646.39     1"
      ]
     },
     "execution_count": 22,
     "metadata": {},
     "output_type": "execute_result"
    }
   ],
   "source": [
    "#Use several aggregate functions as illustration on our Transaction Dataset\n",
    "#clean_data that we created above\n",
    "\n",
    "#This import statement is also above, but rewritten here for emphasis.  These functions are applied to the\n",
    "#Teradata dataframe via the SQLAlchemy func class\n",
    "\n",
    "from sqlalchemy import func\n",
    "\n",
    "#reuse our datasets from above\n",
    "clean_data.head()"
   ]
  },
  {
   "cell_type": "code",
   "execution_count": 23,
   "metadata": {},
   "outputs": [
    {
     "name": "stdout",
     "output_type": "stream",
     "text": [
      "     corr_\n",
      "0  0.77692\n"
     ]
    }
   ],
   "source": [
    "#Pearson Correlation Coefficient - in this example, for our fraudulent data set,\n",
    "#what's the correlation between the original balance and the transfer amount?\n",
    "\n",
    "corr_func = func.corr(clean_data['oldbalanceOrg'].expression, clean_data['amount'].expression)\n",
    "\n",
    "\n",
    "#Setting drop_columns = True here\n",
    "df_corr = clean_data.assign(drop_columns = True, corr_ = corr_func)\n",
    "\n",
    "print(df_corr)"
   ]
  },
  {
   "cell_type": "code",
   "execution_count": 24,
   "metadata": {},
   "outputs": [
    {
     "name": "stdout",
     "output_type": "stream",
     "text": [
      "       type  kurtosis_xfer_amt\n",
      "0   PAYMENT           7.330355\n",
      "1  TRANSFER         100.001161\n",
      "2     DEBIT          54.357622\n",
      "3  CASH_OUT         397.403338\n",
      "4   CASH_IN           1.524714\n"
     ]
    }
   ],
   "source": [
    "# Kurtosis.  Let's see what the variance from the normal distribution looks like for our full data set\n",
    "# for example - transfer amounts, grouped by the transfer type.\n",
    "# Normal distribution has a kurtosis of 0, negative indicates less outliers, positive represents larger outliers.\n",
    "\n",
    "kurtosis_func = func.kurtosis(tdf_ip_data['amount'].expression)\n",
    "\n",
    "#Can also set drop_columns positionally\n",
    "df_kurtosis = tdf_ip_data.groupby('type').assign(True, kurtosis_xfer_amt = kurtosis_func)\n",
    "\n",
    "print(df_kurtosis)"
   ]
  },
  {
   "cell_type": "markdown",
   "metadata": {},
   "source": [
    "<hr>\n",
    "<p style = 'font-size:18px;font-family:Arial;color:#E37C4D'><b>5.2 Arithmetic Functions</b></p>"
   ]
  },
  {
   "cell_type": "code",
   "execution_count": 25,
   "metadata": {},
   "outputs": [
    {
     "name": "stdout",
     "output_type": "stream",
     "text": [
      "      amount  ln_amount\n",
      "0   21747.90   9.987272\n",
      "1   61140.67  11.020933\n",
      "2  203304.58  12.222461\n",
      "3   29979.46  10.308268\n",
      "4    9676.12   9.177416\n",
      "5  186185.53  12.134499\n",
      "6   18479.26   9.824404\n",
      "7  185009.60  12.128163\n",
      "8  177158.70  12.084801\n",
      "9   15795.90   9.667506\n"
     ]
    }
   ],
   "source": [
    "#Natual Log\n",
    "#Let's add an additional column which is the natural log of the transfer amount\n",
    "#Since we see from above in calling the describe() method, min is .79, max is 36946551.76.\n",
    "#We can use the natural log to create a tighter range of values for possible use in analysys\n",
    "\n",
    "tdf_new = tdf_ip_data.assign(ln_amount = func.ln(tdf_ip_data['amount'].expression))\n",
    "\n",
    "print(tdf_new.filter(items = ['amount', 'ln_amount']))"
   ]
  },
  {
   "cell_type": "markdown",
   "metadata": {},
   "source": [
    "<hr>\n",
    "<p style = 'font-size:18px;font-family:Arial;color:#E37C4D'><b>5.3 String Functions</b></p>"
   ]
  },
  {
   "cell_type": "code",
   "execution_count": 26,
   "metadata": {},
   "outputs": [
    {
     "name": "stdout",
     "output_type": "stream",
     "text": [
      "       type type_lower\n",
      "0   PAYMENT    payment\n",
      "1   PAYMENT    payment\n",
      "2   CASH_IN    cash_in\n",
      "3   PAYMENT    payment\n",
      "4   PAYMENT    payment\n",
      "5  CASH_OUT   cash_out\n",
      "6   PAYMENT    payment\n",
      "7   CASH_IN    cash_in\n",
      "8  CASH_OUT   cash_out\n",
      "9  CASH_OUT   cash_out\n"
     ]
    }
   ],
   "source": [
    "#lower - transform to lower case\n",
    "\n",
    "tdf_lower = tdf_ip_data.assign(False, type_lower = func.lower(tdf_ip_data['type'].expression))\n",
    "print(tdf_lower.filter(items = ['type', 'type_lower']))"
   ]
  },
  {
   "cell_type": "markdown",
   "metadata": {},
   "source": [
    "<hr>\n",
    "<p style = 'font-size:18px;font-family:Arial;color:#E37C4D'><b>5.4 Regular Expression Functions</b></p>"
   ]
  },
  {
   "cell_type": "code",
   "execution_count": 27,
   "metadata": {},
   "outputs": [
    {
     "name": "stdout",
     "output_type": "stream",
     "text": [
      "      nameDest acct_ind\n",
      "0   C105015847        C\n",
      "1    C46303872        C\n",
      "2   C539124433        C\n",
      "3   M695826535        M\n",
      "4   M874277679        M\n",
      "5   C409064693        C\n",
      "6   C335819121        C\n",
      "7  C2103593766        C\n",
      "8  C1780365144        C\n",
      "9  C1476333158        C\n"
     ]
    }
   ],
   "source": [
    "#regexp_substr\n",
    "#Return the substring based on a regular expression\n",
    "\n",
    "#In our demo data, the \"nameDest\" has a character code as the first character of the account name (example M1057061069)\n",
    "#This is contrived, as one could use a positional substring; but let's play with it anyway:\n",
    "\n",
    "regexp_func = func.regexp_substr(tdf_ip_data['nameDest'].expression, '^[A-Z]{1}')\n",
    "\n",
    "tdf_regex = tdf_ip_data.assign(False, acct_ind = regexp_func)\n",
    "\n",
    "print(tdf_regex.filter(items = ['nameDest', 'acct_ind']))"
   ]
  },
  {
   "cell_type": "markdown",
   "metadata": {},
   "source": [
    "<hr>\n",
    "<b style = 'font-size:28px;font-family:Arial;color:#E37C4D'>6 - Visualizations</b>\n",
    "\n",
    "<p style = 'font-size:18px;font-family:Arial;color:#E37C4D'><b>6.1 - Example - Geospatial query to return plottable data</b></p>\n",
    "\n",
    "<p style = 'font-size:16px;font-family:Arial'>Use a limited SQL statement to generate my dataframe</p>"
   ]
  },
  {
   "cell_type": "code",
   "execution_count": 28,
   "metadata": {},
   "outputs": [],
   "source": [
    "#Geospatial - let's dive into some sql queries - create a DF from that\n",
    "qry = '''\n",
    "SELECT C.CUSTOMER_ID, \n",
    "  S.SERVER_ID, \n",
    "  CAST(C.CUST_LOCATION.ST_SphericalDistance(S.SERVER_LOCATION)/1000 AS DECIMAL(10,0))AS KM_DISTANCE \n",
    "FROM CUSTOMER C, SERVER S\n",
    "'''\n",
    "\n",
    "tdf_distance = DataFrame.from_query(qry)"
   ]
  },
  {
   "cell_type": "code",
   "execution_count": 29,
   "metadata": {},
   "outputs": [
    {
     "data": {
      "text/html": [
       "<style type=\"text/css\">\n",
       "\ttable {border:ridge 5px;}\n",
       "\ttable td {border:inset 1px;}\n",
       "\ttable tr#HeaderRow {background-color:grey; color:white;}</style>\n",
       "<html><table>\n",
       "\t<tr id=\"HeaderRow\">\n",
       "\t\t<th>CUSTOMER_ID</th>\n",
       "\t\t<th>SERVER_ID</th>\n",
       "\t\t<th>KM_DISTANCE</th>\n",
       "\t</tr>\n",
       "\t<tr>\n",
       "\t\t<td>1455.000</td>\n",
       "\t\t<td>VP10</td>\n",
       "\t\t<td>1815.000</td>\n",
       "\t</tr>\n",
       "\t<tr>\n",
       "\t\t<td>1455.000</td>\n",
       "\t\t<td>CV186</td>\n",
       "\t\t<td>813.000</td>\n",
       "\t</tr>\n",
       "\t<tr>\n",
       "\t\t<td>1455.000</td>\n",
       "\t\t<td>OL162</td>\n",
       "\t\t<td>1170.000</td>\n",
       "\t</tr>\n",
       "\t<tr>\n",
       "\t\t<td>1455.000</td>\n",
       "\t\t<td>VP10</td>\n",
       "\t\t<td>1091.000</td>\n",
       "\t</tr>\n",
       "\t<tr>\n",
       "\t\t<td>1455.000</td>\n",
       "\t\t<td>JM76</td>\n",
       "\t\t<td>395.000</td>\n",
       "\t</tr>\n",
       "\t<tr>\n",
       "\t\t<td>1455.000</td>\n",
       "\t\t<td>EA59</td>\n",
       "\t\t<td>3264.000</td>\n",
       "\t</tr>\n",
       "\t<tr>\n",
       "\t\t<td>1455.000</td>\n",
       "\t\t<td>JM76</td>\n",
       "\t\t<td>1107.000</td>\n",
       "\t</tr>\n",
       "\t<tr>\n",
       "\t\t<td>1455.000</td>\n",
       "\t\t<td>CV186</td>\n",
       "\t\t<td>546.000</td>\n",
       "\t</tr>\n",
       "\t<tr>\n",
       "\t\t<td>1455.000</td>\n",
       "\t\t<td>OL162</td>\n",
       "\t\t<td>1779.000</td>\n",
       "\t</tr>\n",
       "\t<tr>\n",
       "\t\t<td>1455.000</td>\n",
       "\t\t<td>ZG67</td>\n",
       "\t\t<td>238.000</td>\n",
       "\t</tr>\n",
       "</table></html>"
      ],
      "text/plain": [
       "  CUSTOMER_ID SERVER_ID KM_DISTANCE\n",
       "0    1455.000     CV186     813.000\n",
       "1    1455.000      ZG67     923.000\n",
       "2    1455.000      JM76     395.000\n",
       "3    1455.000      VP10    1815.000\n",
       "4    1455.000      EA59    3264.000\n",
       "5    1455.000     CV186     546.000\n",
       "6    1455.000      ZG67     238.000\n",
       "7    1455.000      EA59    3806.000\n",
       "8    1455.000      VP10    1091.000\n",
       "9    1455.000      JM76    1107.000"
      ]
     },
     "execution_count": 29,
     "metadata": {},
     "output_type": "execute_result"
    }
   ],
   "source": [
    "tdf_distance.head()"
   ]
  },
  {
   "cell_type": "code",
   "execution_count": 30,
   "metadata": {},
   "outputs": [
    {
     "data": {
      "text/html": [
       "<style type=\"text/css\">\n",
       "\ttable {border:ridge 5px;}\n",
       "\ttable td {border:inset 1px;}\n",
       "\ttable tr#HeaderRow {background-color:grey; color:white;}</style>\n",
       "<html><table>\n",
       "\t<tr id=\"HeaderRow\">\n",
       "\t\t<th>CUSTOMER_ID</th>\n",
       "\t\t<th>SERVER_ID</th>\n",
       "\t\t<th>KM_DISTANCE</th>\n",
       "\t</tr>\n",
       "\t<tr>\n",
       "\t\t<td>3506.000</td>\n",
       "\t\t<td>CV186</td>\n",
       "\t\t<td>13007.000</td>\n",
       "\t</tr>\n",
       "\t<tr>\n",
       "\t\t<td>241678.000</td>\n",
       "\t\t<td>CV186</td>\n",
       "\t\t<td>13001.000</td>\n",
       "\t</tr>\n",
       "\t<tr>\n",
       "\t\t<td>124994.000</td>\n",
       "\t\t<td>CV186</td>\n",
       "\t\t<td>13001.000</td>\n",
       "\t</tr>\n",
       "\t<tr>\n",
       "\t\t<td>53249.000</td>\n",
       "\t\t<td>CV186</td>\n",
       "\t\t<td>13000.000</td>\n",
       "\t</tr>\n",
       "\t<tr>\n",
       "\t\t<td>7639.000</td>\n",
       "\t\t<td>CV186</td>\n",
       "\t\t<td>12997.000</td>\n",
       "\t</tr>\n",
       "\t<tr>\n",
       "\t\t<td>202637.000</td>\n",
       "\t\t<td>CV186</td>\n",
       "\t\t<td>12981.000</td>\n",
       "\t</tr>\n",
       "\t<tr>\n",
       "\t\t<td>60313.000</td>\n",
       "\t\t<td>CV186</td>\n",
       "\t\t<td>12969.000</td>\n",
       "\t</tr>\n",
       "\t<tr>\n",
       "\t\t<td>3506.000</td>\n",
       "\t\t<td>ZG67</td>\n",
       "\t\t<td>12810.000</td>\n",
       "\t</tr>\n",
       "\t<tr>\n",
       "\t\t<td>241678.000</td>\n",
       "\t\t<td>ZG67</td>\n",
       "\t\t<td>12804.000</td>\n",
       "\t</tr>\n",
       "\t<tr>\n",
       "\t\t<td>124994.000</td>\n",
       "\t\t<td>ZG67</td>\n",
       "\t\t<td>12804.000</td>\n",
       "\t</tr>\n",
       "</table></html>"
      ],
      "text/plain": [
       "  CUSTOMER_ID SERVER_ID KM_DISTANCE\n",
       "0    3506.000     CV186   13007.000\n",
       "1  124994.000     CV186   13001.000\n",
       "2  241678.000     CV186   13001.000\n",
       "3   53249.000     CV186   13000.000\n",
       "4    7639.000     CV186   12997.000\n",
       "5  202637.000     CV186   12981.000\n",
       "6   60313.000     CV186   12969.000\n",
       "7    3506.000      ZG67   12810.000\n",
       "8  241678.000      ZG67   12804.000\n",
       "9  124994.000      ZG67   12804.000"
      ]
     },
     "execution_count": 30,
     "metadata": {},
     "output_type": "execute_result"
    }
   ],
   "source": [
    "#Sort by greatest distance away\n",
    "tdf_distance.sort('KM_DISTANCE', ascending = False)"
   ]
  },
  {
   "cell_type": "markdown",
   "metadata": {},
   "source": [
    "<hr>\n",
    "<p style = 'font-size:18px;font-family:Arial;color:#E37C4D'><b>Use Pandas/seaborn to create visualizations inline</b></p>"
   ]
  },
  {
   "cell_type": "code",
   "execution_count": 31,
   "metadata": {},
   "outputs": [
    {
     "data": {
      "image/png": "[encoded data removed]",
      "text/plain": [
       "<Figure size 432x288 with 1 Axes>"
      ]
     },
     "metadata": {
      "needs_background": "light"
     },
     "output_type": "display_data"
    }
   ],
   "source": [
    "#distribution of the distance users connect from\n",
    "#This loads the data to a Pandas DataFrame, and uses \"seaborn\" open source visualization library\n",
    "\n",
    "sns.distplot(tdf_distance.to_pandas()['KM_DISTANCE'].astype(float), bins=50);"
   ]
  },
  {
   "cell_type": "code",
   "execution_count": 32,
   "metadata": {},
   "outputs": [
    {
     "data": {
      "image/png": "[encoded data removed]",
      "text/plain": [
       "<Figure size 432x288 with 1 Axes>"
      ]
     },
     "metadata": {
      "needs_background": "light"
     },
     "output_type": "display_data"
    }
   ],
   "source": [
    "#Do a bunch of work to filter, group, aggregate, retrieve, and format our chart\n",
    "tdf_ip_data.drop(['step', 'isFraud', 'isFlaggedFraud'], axis = 1).groupby('type').sum().to_pandas().set_index('type').plot(kind = 'bar');"
   ]
  },
  {
   "cell_type": "markdown",
   "metadata": {},
   "source": [
    "<hr>\n",
    "<b style = 'font-size:18px;font-family:Arial;color:#E37C4D'>Cleanup</b>\n",
    "<p style = 'font-size:16px;font-family:Arial'>It is a good practice to remove the context that we created to connect to Vantage</p>"
   ]
  },
  {
   "cell_type": "code",
   "execution_count": 33,
   "metadata": {},
   "outputs": [
    {
     "data": {
      "text/plain": [
       "<sqlalchemy.engine.result.ResultProxy at 0x7f7bc0bc5950>"
      ]
     },
     "execution_count": 33,
     "metadata": {},
     "output_type": "execute_result"
    }
   ],
   "source": [
    "eng.execute('DROP TABLE CUSTOMER;')"
   ]
  },
  {
   "cell_type": "code",
   "execution_count": 34,
   "metadata": {},
   "outputs": [
    {
     "data": {
      "text/plain": [
       "<sqlalchemy.engine.result.ResultProxy at 0x7f7b900e4b90>"
      ]
     },
     "execution_count": 34,
     "metadata": {},
     "output_type": "execute_result"
    }
   ],
   "source": [
    "eng.execute('DROP TABLE SERVER;')"
   ]
  },
  {
   "cell_type": "code",
   "execution_count": 35,
   "metadata": {},
   "outputs": [
    {
     "data": {
      "text/plain": [
       "True"
      ]
     },
     "execution_count": 35,
     "metadata": {},
     "output_type": "execute_result"
    }
   ],
   "source": [
    "remove_context()"
   ]
  },
  {
   "cell_type": "markdown",
   "metadata": {},
   "source": [
    "<footer style=\"padding:10px;background:#f9f9f9;border-bottom:3px solid #394851\">©2022 Teradata. All Rights Reserved</footer>"
   ]
  }
 ],
 "metadata": {
  "kernelspec": {
   "display_name": "Python 3",
   "language": "python",
   "name": "python3"
  },
  "language_info": {
   "codemirror_mode": {
    "name": "ipython",
    "version": 3
   },
   "file_extension": ".py",
   "mimetype": "text/x-python",
   "name": "python",
   "nbconvert_exporter": "python",
   "pygments_lexer": "ipython3",
   "version": "3.7.10"
  }
 },
 "nbformat": 4,
 "nbformat_minor": 4
}
