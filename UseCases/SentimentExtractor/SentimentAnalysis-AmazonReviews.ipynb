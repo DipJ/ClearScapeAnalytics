{
 "cells": [
  {
   "cell_type": "markdown",
   "id": "b1b8df4f",
   "metadata": {},
   "source": [
    "<header style=\"padding:1px;background:#f9f9f9;border-top:3px solid #00b2b1\"><img id=\"Teradata-logo\" src=\"https://www.teradata.com/Teradata/Images/Rebrand/Teradata_logo-two_color.png\" alt=\"Teradata\" width=\"220\" align=\"right\" />\n",
    "\n",
    "<b style = 'font-size:28px;font-family:Arial;color:#E37C4D'>Customer Sentiment Analysis using Vantage Advanced SQL Functions</b>\n",
    "</header>\n",
    "\n",
    "\n",
    "<p style = 'font-size:20px;font-family:Arial;color:#E37C4D'><b>Introduction</b></p>\n",
    "    "
   ]
  },
  {
   "cell_type": "markdown",
   "id": "81065da4",
   "metadata": {},
   "source": [
    "<br>\n",
    "\n",
    "<p style = 'font-size:16px;font-family:Arial'>Sentiment Analysis is defined as the process of computationally identifying and categorizing opinions expressed in a piece of text, especially in order to determine whether the writer's attitude towards a particular topic, product, etc. is positive, negative, or neutral.</p>\n",
    "\n",
    "<p style = 'font-size:16px;font-family:Arial'>Many sentiment analysis tools exist, but most of them cannot perform flexibly enough and at a scale that allows the ability to deploy these insights to <b>all</b> types of use cases including real-time, high concurrency, or extreme volume</p> \n",
    "\n",
    "<p style = 'font-size:16px;font-family:Arial'>Teradata Vantage native Natural Langyage Analysis functions, combined with whole-data set statistical analysis; can provide deep insights into natural language intent, patterns, and author sentiment at extreme scale, speed, and concurrency.</p> \n",
    "<hr>"
   ]
  },
  {
   "cell_type": "markdown",
   "id": "bae27075",
   "metadata": {},
   "source": [
    "<p style = 'font-size:16px;font-family:Arial'>The following demonstration will illustrate how simple it is to utilize these native functions to understand customer sentiment, and measure the accuracy of machine-generated predictions.</p>\n",
    "\n",
    "<p style = 'font-size:16px;font-family:Arial'>Additionally, since Vantage supports client tools and applications ranging from the most modern programmatic APIs such as Python, REST, and R; to traditional dashboards, BI tools, and analytics via SQL, a virtually unlimited number and types of users and applications can consume the results of this deep analysis; effectively democratizing specialized analytics to the widest possible audience.</p>\n",
    "\n",
    "<p style = 'font-size:16px;font-family:Arial'>The data for this demonstration consists of Amazon Fine Foods Reviews, which can be found <a href = 'https://www.kaggle.com/datasets/snap/amazon-fine-food-reviews'>here</a>.  The Demonstration below consists of three steps:</p>\n",
    "\n",
    "<ol style = 'font-size:16px;font-family:Arial'>\n",
    "    <li>Analyze the raw data set, including customer rating values</li>\n",
    "    <li>Execute native Sentiment Analysis function and inspect the output</li>\n",
    "    <li>Analyze the results and compare to the author rating</li>\n",
    "    </ol>\n",
    "    \n",
    "<img src = 'images/Flow_Diagram_Sentiment.png' width = 100%>"
   ]
  },
  {
   "cell_type": "markdown",
   "id": "4b1c75ea",
   "metadata": {},
   "source": [
    "<hr>\n",
    "\n",
    "<p style = 'font-size:16px;font-family:Arial'>Here, we will inspect the original data set, and perform some analysis on customer-provided ratings values.</p>\n",
    "\n",
    "<p style = 'font-size:16px;font-family:Arial'>\n",
    "\n",
    "<ol style = 'font-size:16px;font-family:Arial'>\n",
    "    <li>Inspect the rows of the table</li>\n",
    "    <li>Analyze the distribution of ratings</li>\n",
    "    <li>Visualize the results</li>\n",
    "    </ol>\n",
    "    </p>"
   ]
  },
  {
   "cell_type": "markdown",
   "id": "e86ed769-41c2-4760-9457-29b0a5a2afff",
   "metadata": {},
   "source": [
    "<p style = 'font-size:20px;font-family:Arial;color:#E37C4D'> <b>1. Start by connecting to the Teradata system </b></p>\n",
    "<p style = 'font-size:16px;font-family:Arial'>You will be prompted to provide the password. Enter your password, press Enter, then use down arrow to go to next cell.</p>"
   ]
  },
  {
   "cell_type": "code",
   "execution_count": 1,
   "id": "d5297d89-ae7e-4ce5-a398-66cbbf7ef779",
   "metadata": {
    "tags": []
   },
   "outputs": [
    {
     "name": "stdin",
     "output_type": "stream",
     "text": [
      "Password: ········\n"
     ]
    },
    {
     "name": "stdout",
     "output_type": "stream",
     "text": [
      "Success: 'local' connection established and activated for user 'demo_user', with default database 'demo_user'\n"
     ]
    }
   ],
   "source": [
    "%connect local,  hidewarnings=true"
   ]
  },
  {
   "cell_type": "markdown",
   "id": "3ac77e28-8611-4860-b615-8b34b50cfd2d",
   "metadata": {},
   "source": [
    "<p style = 'font-size:16px;font-family:Arial'>Setup for execution of notebook. Begin running steps with Shift + Enter keys.</p>\n"
   ]
  },
  {
   "cell_type": "code",
   "execution_count": 2,
   "id": "a7d94cff-c8e8-4319-b4b7-5f1450c9b28a",
   "metadata": {},
   "outputs": [
    {
     "data": {
      "text/plain": [
       "Success: 1 rows affected"
      ]
     },
     "execution_count": 2,
     "metadata": {
      "application/vnd.teradata.resultset": ""
     },
     "output_type": "execute_result"
    }
   ],
   "source": [
    "Set query_band='DEMO=SentimentAnalysis-AmazonReviews.ipynb;' update for session;"
   ]
  },
  {
   "cell_type": "markdown",
   "id": "4b77f501-0012-4c2f-9719-8b8d37e05794",
   "metadata": {},
   "source": [
    "<b style = 'font-size:20px;font-family:Arial;color:#E37C4D'>2. Getting Data for This Demo\n",
    "<p style = 'font-size:16px;font-family:Arial'>We have provided data for this demo on cloud storage.  You have the option of either running the demo using foreign tables to access the data without using any storage on your environment or downloading the data to local storage which may yield somewhat faster execution, but there could be considerations of available storage.  There are two statements in the following cell, and one is commented out.  You may switch which mode you choose by changing the comment string.\n",
    "Here we are only creating local databases and tables as there are 755 columns in table which will be faster in local tables.</p>    \n"
   ]
  },
  {
   "cell_type": "code",
   "execution_count": 4,
   "id": "92829256-9b7c-43c7-aea6-7c1f2ea0852e",
   "metadata": {},
   "outputs": [
    {
     "data": {
      "text/plain": [
       "Success: 0 rows affected"
      ]
     },
     "execution_count": 4,
     "metadata": {
      "application/vnd.teradata.resultset": ""
     },
     "output_type": "execute_result"
    },
    {
     "data": {
      "text/plain": [
       "Success: 0 rows affected"
      ]
     },
     "execution_count": 4,
     "metadata": {
      "application/vnd.teradata.resultset": ""
     },
     "output_type": "execute_result"
    },
    {
     "data": {
      "application/vnd.teradata.resultset": "\"Message\"\n\"That ran for   0:00:12.68 with 4 statements and 0 errors. \"",
      "text/html": [
       "<div class = \"td-resultset-table-div\" style = \"max-height: 100%; overflow-y: auto\">\n",
       "      <table class=\"tdhistory328045\"><style>\n",
       "      table.tdhistory328045 { display: block !important; min-height: 105px !important; overflow: auto !important; height: 105px !important; width: 100% !important; border: 1px solid rgb(207, 207, 207) !important; border-collapse: collapse !important; ; color: var(--jp-ui-font-color1) !important; }\n",
       "      th.tdhistory328045 { border: 1px solid rgb(198,198,198) !important; border-collapse: collapse !important; ; padding: 2px 5px !important; ; font-size: 13px !important; ; text-align: center !important; white-space: normal !important; color: var(--jp-ui-font-color1) !important; }\n",
       "      th.tdhistory328045:last-child { text-align: left !important; }\n",
       "      tbody.tdhistory328045 tr:nth-child(even) { background: rgba(243, 243, 243, 0.75) !important; }\n",
       "      tbody.tdhistory328045 tr:nth-child(odd) { background: var(--jp-ui-inverse-font-color1) !important; }\n",
       "      td.tdhistory328045 { border: 1px solid rgb(207, 207, 207) !important; border-collapse: collapse !important; ; padding: 2px 5px !important; ; font-size: 13px !important; ; text-align: left !important;          white-space: nowrap !important; overflow:hidden !important; text-overflow:ellipsis !important;; }\n",
       "    </style><thead><tr style= \"background: rgba(243, 243, 243, 0.75)\"><th class=\"tdhistory328045\"></th><th class=\"tdhistory328045\">Message</th></tr></thead><tbody class=\"tdhistory328045 resultset-body\"><tr><th class=\"tdhistory328045\" style= \"background: rgba(243, 243, 243, 0.75)\">1</th><td class=\"tdhistory328045\">That ran for   0:00:12.68 with 4 statements and 0 errors. </td></tr></tbody></table></div>"
      ]
     },
     "execution_count": 4,
     "metadata": {
      "application/vnd.teradata.resultset": "{\"resultSetID\":\"/home/jovyan/JupyterLabRoot/Teradata/Resultsets/2023.01.24_05.45.06.590_UTC\",\"historyID\":243,\"chunkID\":\"00001\",\"sessionid\":\"\",\"portnum\":\"\",\"dockermode\":\"docker\",\"totalRowCount\":1,\"chunkCount\":0,\"rowLimit\":0,\"columnMetadata\":[{\"columnName\":\"Message\",\"columnTypeName\":\"VARCHAR\",\"length\":150,\"scale\":150}]}"
     },
     "output_type": "execute_result"
    }
   ],
   "source": [
    "call get_data('DEMO_FoodReviews_cloud'); ---takes about 35 seconds\n",
    "---call get_data('DEMO_FoodReviews_local'); ---takes about 35 seconds"
   ]
  },
  {
   "cell_type": "markdown",
   "id": "92a7f74f-f86d-40e1-8dcb-745cb554f3bf",
   "metadata": {},
   "source": [
    "<p style = 'font-size:16px;font-family:Arial'>Optional step – if you want to see status of databases/tables created and space used.</p>\n"
   ]
  },
  {
   "cell_type": "code",
   "execution_count": 5,
   "id": "6e6f60d6-b44a-432d-bd4d-29b2e598decf",
   "metadata": {},
   "outputs": [
    {
     "data": {
      "text/plain": [
       "Success: 0 rows affected"
      ]
     },
     "execution_count": 5,
     "metadata": {
      "application/vnd.teradata.resultset": ""
     },
     "output_type": "execute_result"
    },
    {
     "data": {
      "text/plain": [
       "Success: 0 rows affected"
      ]
     },
     "execution_count": 5,
     "metadata": {
      "application/vnd.teradata.resultset": ""
     },
     "output_type": "execute_result"
    },
    {
     "data": {
      "application/vnd.teradata.resultset": "\"Space_Report\"\n\"You have:  #databases=1 #tables=18 #views=28  You have used 17.4 MB of 30,851.3 MB available - 0.1%  ... Space Usage OK\"\n\" \"\n\"   Database Name                  #tables  #views     Avail MB      Used MB\"\n\"   demo_user                           18      27  30,851.3 MB      17.4 MB \"\n\"   DEMO_FoodReviews                     0       1       0.0 MB       0.0 MB \"",
      "text/html": [
       "<div class = \"td-resultset-table-div\" style = \"max-height: 100%; overflow-y: auto\">\n",
       "      <table class=\"tdhistory6860\"><style>\n",
       "      table.tdhistory6860 { display: block !important; min-height: 189px !important; overflow: auto !important; height: 189px !important; width: 100% !important; border: 1px solid rgb(207, 207, 207) !important; border-collapse: collapse !important; ; color: var(--jp-ui-font-color1) !important; }\n",
       "      th.tdhistory6860 { border: 1px solid rgb(198,198,198) !important; border-collapse: collapse !important; ; padding: 2px 5px !important; ; font-size: 13px !important; ; text-align: center !important; white-space: normal !important; color: var(--jp-ui-font-color1) !important; }\n",
       "      th.tdhistory6860:last-child { text-align: left !important; }\n",
       "      tbody.tdhistory6860 tr:nth-child(even) { background: rgba(243, 243, 243, 0.75) !important; }\n",
       "      tbody.tdhistory6860 tr:nth-child(odd) { background: var(--jp-ui-inverse-font-color1) !important; }\n",
       "      td.tdhistory6860 { border: 1px solid rgb(207, 207, 207) !important; border-collapse: collapse !important; ; padding: 2px 5px !important; ; font-size: 13px !important; ; text-align: left !important;          white-space: nowrap !important; overflow:hidden !important; text-overflow:ellipsis !important;; }\n",
       "    </style><thead><tr style= \"background: rgba(243, 243, 243, 0.75)\"><th class=\"tdhistory6860\"></th><th class=\"tdhistory6860\">Space_Report</th></tr></thead><tbody class=\"tdhistory6860 resultset-body\"><tr><th class=\"tdhistory6860\" style= \"background: rgba(243, 243, 243, 0.75)\">1</th><td class=\"tdhistory6860\">You have:  #databases=1 #tables=18 #views=28  You have used 17.4 MB of 30,851.3 MB available - 0.1%  ... Space Usage OK</td></tr><tr><th class=\"tdhistory6860\" style= \"background: rgba(243, 243, 243, 0.75)\">2</th><td class=\"tdhistory6860\"> </td></tr><tr><th class=\"tdhistory6860\" style= \"background: rgba(243, 243, 243, 0.75)\">3</th><td class=\"tdhistory6860\">   Database Name                  #tables  #views     Avail MB      Used MB</td></tr><tr><th class=\"tdhistory6860\" style= \"background: rgba(243, 243, 243, 0.75)\">4</th><td class=\"tdhistory6860\">   demo_user                           18      27  30,851.3 MB      17.4 MB </td></tr><tr><th class=\"tdhistory6860\" style= \"background: rgba(243, 243, 243, 0.75)\">5</th><td class=\"tdhistory6860\">   DEMO_FoodReviews                     0       1       0.0 MB       0.0 MB </td></tr></tbody></table></div>"
      ]
     },
     "execution_count": 5,
     "metadata": {
      "application/vnd.teradata.resultset": "{\"resultSetID\":\"/home/jovyan/JupyterLabRoot/Teradata/Resultsets/2023.01.24_05.45.18.546_UTC\",\"historyID\":244,\"chunkID\":\"00001\",\"sessionid\":\"\",\"portnum\":\"\",\"dockermode\":\"docker\",\"totalRowCount\":5,\"chunkCount\":0,\"rowLimit\":0,\"columnMetadata\":[{\"columnName\":\"Space_Report\",\"columnTypeName\":\"VARCHAR\",\"length\":150,\"scale\":150}]}"
     },
     "output_type": "execute_result"
    }
   ],
   "source": [
    "call space_report();  -- optional, takes about 10 seconds"
   ]
  },
  {
   "cell_type": "markdown",
   "id": "fda1fe10",
   "metadata": {},
   "source": [
    "<p style = 'font-size:18px;font-family:Arial;color:#E37C4D'>Inspect the Data</p>\n",
    "\n",
    "<p style = 'font-size:16px;font-family:Arial'>Simple SQL queries to show the data - counts, ranges, content.</p>"
   ]
  },
  {
   "cell_type": "code",
   "execution_count": 6,
   "id": "bb26f0e0",
   "metadata": {},
   "outputs": [
    {
     "data": {
      "application/vnd.teradata.resultset": "\"Count(*)\",\"MinValue\",\"MaxValue\"\n\"568454\",\"1\",\"5\"",
      "text/html": [
       "<div class = \"td-resultset-table-div\" style = \"max-height: 100%; overflow-y: auto\">\n",
       "      <table class=\"tdhistory254614\"><style>\n",
       "      table.tdhistory254614 { display: block !important; min-height: 105px !important; overflow: auto !important; height: 105px !important; width: 100% !important; border: 1px solid rgb(207, 207, 207) !important; border-collapse: collapse !important; ; color: var(--jp-ui-font-color1) !important; }\n",
       "      th.tdhistory254614 { border: 1px solid rgb(198,198,198) !important; border-collapse: collapse !important; ; padding: 2px 5px !important; ; font-size: 13px !important; ; text-align: center !important; white-space: normal !important; color: var(--jp-ui-font-color1) !important; }\n",
       "      th.tdhistory254614:last-child { text-align: left !important; }\n",
       "      tbody.tdhistory254614 tr:nth-child(even) { background: rgba(243, 243, 243, 0.75) !important; }\n",
       "      tbody.tdhistory254614 tr:nth-child(odd) { background: var(--jp-ui-inverse-font-color1) !important; }\n",
       "      td.tdhistory254614 { border: 1px solid rgb(207, 207, 207) !important; border-collapse: collapse !important; ; padding: 2px 5px !important; ; font-size: 13px !important; ; text-align: left !important;          white-space: nowrap !important; overflow:hidden !important; text-overflow:ellipsis !important;; }\n",
       "    </style><thead><tr style= \"background: rgba(243, 243, 243, 0.75)\"><th class=\"tdhistory254614\"></th><th class=\"tdhistory254614\">Count(*)</th><th class=\"tdhistory254614\">MinValue</th><th class=\"tdhistory254614\">MaxValue</th></tr></thead><tbody class=\"tdhistory254614 resultset-body\"><tr><th class=\"tdhistory254614\" style= \"background: rgba(243, 243, 243, 0.75)\">1</th><td class=\"tdhistory254614\">568454</td><td class=\"tdhistory254614\">1</td><td class=\"tdhistory254614\">5</td></tr></tbody></table></div>"
      ]
     },
     "execution_count": 6,
     "metadata": {
      "application/vnd.teradata.resultset": "{\"resultSetID\":\"/home/jovyan/JupyterLabRoot/Teradata/Resultsets/2023.01.24_05.46.20.532_UTC\",\"historyID\":245,\"chunkID\":\"00001\",\"sessionid\":\"\",\"portnum\":\"\",\"dockermode\":\"docker\",\"totalRowCount\":1,\"chunkCount\":0,\"rowLimit\":0,\"columnMetadata\":[{\"columnName\":\"Count(*)\",\"columnTypeName\":\"INTEGER\"},{\"columnNumber\":1,\"columnName\":\"MinValue\",\"columnTypeName\":\"VARCHAR\",\"length\":1,\"scale\":1},{\"columnNumber\":2,\"columnName\":\"MaxValue\",\"columnTypeName\":\"VARCHAR\",\"length\":1,\"scale\":1}]}"
     },
     "output_type": "execute_result"
    },
    {
     "data": {
      "application/vnd.teradata.resultset": "\"Id\",\"ProductId\",\"UserId\",\"ProfileName\",\"HelpfulnessNumerator\",\"HelpfulnessDenominator\",\"Score\",\"ReviewTime\",\"ReviewSummary\",\"ReviewText\"\n\"481295\",\"B0014CRQWS\",\"A1RTX8TMMP3RB9\",\"Clairene M. Guerra\",\"0\",\"0\",\"5\",\"2011-12-14\",\"Well Received\",\"I purchased this, along with the gatorade bottle, for my brother as a gift and he loved it and used every last bit of powder. Loved the flavor, mixability. Great product.<br /><br />For me, personally, I wish they had powders in the reduced sugar/calorie.\"\n\"145383\",\"B0012BSMJM\",\"A1OTXOGDLHTYSR\",\"M. Whitehead\",\"2\",\"2\",\"5\",\"2010-10-12\",\"Stash Green Tea Powder\",\"This is a quick and convenient way to drink green tea! I add lemon juice and stevia.\"\n\"403836\",\"B000LKZ3I8\",\"A268FJIKIXBKV6\",\"Jennifer Lin\",\"0\",\"0\",\"4\",\"2009-05-14\",\"Solution for anti-milk toddler\",\"After nursing for about 15 months, my toddler wouldn't drink cow milk, soy milk, chocolate milk, etc... but somehow found the Horizon strawberry milk box fascinating and yummy. A good source of calcium and protein of course, plus very convenient. For kids who like to chew on their straws this one doesn't last very long and often sinks down all the way into the box. I usually toss the straw that comes with the box and use a taller, bendy straw instead.\"\n\"430912\",\"B001IZHX8I\",\"A1YWCDXH7PCM4\",\"K. Tutor \"\"techno geek\"\"\",\"1\",\"1\",\"5\",\"2009-06-08\",\"Good to the last nut\",\"Old time favorite.  It has never changed.  I wish I could say the same for my waist size.\"\n\"69745\",\"B003CK7O36\",\"A1SCQ87CZEJKTJ\",\"S. Baksa \"\"Mamma Bear\"\"\",\"4\",\"6\",\"5\",\"2006-04-05\",\"Remarkable\",\"A friend of mine brought this tea to work one day to share.<br /><br />I am prepared to drop coffee altogether. It has captured my sences and \"\"Bravo\"\" to the genious behind it.\"",
      "text/html": [
       "<div class = \"td-resultset-table-div\" style = \"max-height: 100%; overflow-y: auto\">\n",
       "      <table class=\"tdhistory965835\"><style>\n",
       "      table.tdhistory965835 { display: block !important; min-height: 189px !important; overflow: auto !important; height: 189px !important; width: 100% !important; border: 1px solid rgb(207, 207, 207) !important; border-collapse: collapse !important; ; color: var(--jp-ui-font-color1) !important; }\n",
       "      th.tdhistory965835 { border: 1px solid rgb(198,198,198) !important; border-collapse: collapse !important; ; padding: 2px 5px !important; ; font-size: 13px !important; ; text-align: center !important; white-space: normal !important; color: var(--jp-ui-font-color1) !important; }\n",
       "      th.tdhistory965835:last-child { text-align: left !important; }\n",
       "      tbody.tdhistory965835 tr:nth-child(even) { background: rgba(243, 243, 243, 0.75) !important; }\n",
       "      tbody.tdhistory965835 tr:nth-child(odd) { background: var(--jp-ui-inverse-font-color1) !important; }\n",
       "      td.tdhistory965835 { border: 1px solid rgb(207, 207, 207) !important; border-collapse: collapse !important; ; padding: 2px 5px !important; ; font-size: 13px !important; ; text-align: left !important;          white-space: nowrap !important; overflow:hidden !important; text-overflow:ellipsis !important;; }\n",
       "    </style><thead><tr style= \"background: rgba(243, 243, 243, 0.75)\"><th class=\"tdhistory965835\"></th><th class=\"tdhistory965835\">Id</th><th class=\"tdhistory965835\">ProductId</th><th class=\"tdhistory965835\">UserId</th><th class=\"tdhistory965835\">ProfileName</th><th class=\"tdhistory965835\">HelpfulnessNumerator</th><th class=\"tdhistory965835\">HelpfulnessDenominator</th><th class=\"tdhistory965835\">Score</th><th class=\"tdhistory965835\">ReviewTime</th><th class=\"tdhistory965835\">ReviewSummary</th><th class=\"tdhistory965835\">ReviewText</th></tr></thead><tbody class=\"tdhistory965835 resultset-body\"><tr><th class=\"tdhistory965835\" style= \"background: rgba(243, 243, 243, 0.75)\">1</th><td class=\"tdhistory965835\">481295</td><td class=\"tdhistory965835\">B0014CRQWS</td><td class=\"tdhistory965835\">A1RTX8TMMP3RB9</td><td class=\"tdhistory965835\">Clairene M. Guerra</td><td class=\"tdhistory965835\">0</td><td class=\"tdhistory965835\">0</td><td class=\"tdhistory965835\">5</td><td class=\"tdhistory965835\">2011-12-14</td><td class=\"tdhistory965835\">Well Received</td><td class=\"tdhistory965835\">I purchased this, along with the gatorade bottle, for my brother as a gift and he loved it and used every last bit of powder. Loved the flavor, mixability. Great product.<br /><br />For me, personally, I wish they had powders in the reduced sugar/calorie.</td></tr><tr><th class=\"tdhistory965835\" style= \"background: rgba(243, 243, 243, 0.75)\">2</th><td class=\"tdhistory965835\">145383</td><td class=\"tdhistory965835\">B0012BSMJM</td><td class=\"tdhistory965835\">A1OTXOGDLHTYSR</td><td class=\"tdhistory965835\">M. Whitehead</td><td class=\"tdhistory965835\">2</td><td class=\"tdhistory965835\">2</td><td class=\"tdhistory965835\">5</td><td class=\"tdhistory965835\">2010-10-12</td><td class=\"tdhistory965835\">Stash Green Tea Powder</td><td class=\"tdhistory965835\">This is a quick and convenient way to drink green tea! I add lemon juice and stevia.</td></tr><tr><th class=\"tdhistory965835\" style= \"background: rgba(243, 243, 243, 0.75)\">3</th><td class=\"tdhistory965835\">403836</td><td class=\"tdhistory965835\">B000LKZ3I8</td><td class=\"tdhistory965835\">A268FJIKIXBKV6</td><td class=\"tdhistory965835\">Jennifer Lin</td><td class=\"tdhistory965835\">0</td><td class=\"tdhistory965835\">0</td><td class=\"tdhistory965835\">4</td><td class=\"tdhistory965835\">2009-05-14</td><td class=\"tdhistory965835\">Solution for anti-milk toddler</td><td class=\"tdhistory965835\">After nursing for about 15 months, my toddler wouldn't drink cow milk, soy milk, chocolate milk, etc... but somehow found the Horizon strawberry milk box fascinating and yummy. A good source of calcium and protein of course, plus very convenient. For kids who like to chew on their straws this one doesn't last very long and often sinks down all the way into the box. I usually toss the straw that comes with the box and use a taller, bendy straw instead.</td></tr><tr><th class=\"tdhistory965835\" style= \"background: rgba(243, 243, 243, 0.75)\">4</th><td class=\"tdhistory965835\">430912</td><td class=\"tdhistory965835\">B001IZHX8I</td><td class=\"tdhistory965835\">A1YWCDXH7PCM4</td><td class=\"tdhistory965835\">K. Tutor \"techno geek\"</td><td class=\"tdhistory965835\">1</td><td class=\"tdhistory965835\">1</td><td class=\"tdhistory965835\">5</td><td class=\"tdhistory965835\">2009-06-08</td><td class=\"tdhistory965835\">Good to the last nut</td><td class=\"tdhistory965835\">Old time favorite.  It has never changed.  I wish I could say the same for my waist size.</td></tr><tr><th class=\"tdhistory965835\" style= \"background: rgba(243, 243, 243, 0.75)\">5</th><td class=\"tdhistory965835\">69745</td><td class=\"tdhistory965835\">B003CK7O36</td><td class=\"tdhistory965835\">A1SCQ87CZEJKTJ</td><td class=\"tdhistory965835\">S. Baksa \"Mamma Bear\"</td><td class=\"tdhistory965835\">4</td><td class=\"tdhistory965835\">6</td><td class=\"tdhistory965835\">5</td><td class=\"tdhistory965835\">2006-04-05</td><td class=\"tdhistory965835\">Remarkable</td><td class=\"tdhistory965835\">A friend of mine brought this tea to work one day to share.<br /><br />I am prepared to drop coffee altogether. It has captured my sences and \"Bravo\" to the genious behind it.</td></tr></tbody></table></div>"
      ]
     },
     "execution_count": 6,
     "metadata": {
      "application/vnd.teradata.resultset": "{\"resultSetID\":\"/home/jovyan/JupyterLabRoot/Teradata/Resultsets/2023.01.24_05.46.20.583_UTC\",\"historyID\":246,\"chunkID\":\"00001\",\"sessionid\":\"\",\"portnum\":\"\",\"dockermode\":\"docker\",\"totalRowCount\":5,\"chunkCount\":0,\"rowLimit\":0,\"columnMetadata\":[{\"columnName\":\"Id\",\"columnTypeName\":\"INTEGER\"},{\"columnNumber\":1,\"columnName\":\"ProductId\",\"columnTypeName\":\"VARCHAR\",\"length\":16,\"scale\":16},{\"columnNumber\":2,\"columnName\":\"UserId\",\"columnTypeName\":\"VARCHAR\",\"length\":32,\"scale\":32},{\"columnNumber\":3,\"columnName\":\"ProfileName\",\"columnTypeName\":\"VARCHAR\",\"length\":128,\"scale\":128},{\"columnNumber\":4,\"columnName\":\"HelpfulnessNumerator\",\"columnTypeName\":\"INTEGER\"},{\"columnNumber\":5,\"columnName\":\"HelpfulnessDenominator\",\"columnTypeName\":\"INTEGER\"},{\"columnNumber\":6,\"columnName\":\"Score\",\"columnTypeName\":\"VARCHAR\",\"length\":1,\"scale\":1},{\"columnNumber\":7,\"columnName\":\"ReviewTime\",\"columnTypeName\":\"DATE\"},{\"columnNumber\":8,\"columnName\":\"ReviewSummary\",\"columnTypeName\":\"VARCHAR\",\"length\":256,\"scale\":256},{\"columnNumber\":9,\"columnName\":\"ReviewText\",\"columnTypeName\":\"VARCHAR\",\"length\":22000,\"scale\":22000}]}"
     },
     "output_type": "execute_result"
    }
   ],
   "source": [
    "select count(*), min(Score) as MinValue, max(Score) as MaxValue from \"DEMO_FoodReviews\".\"FINE_FOOD_REVIEWS\";\n",
    "select * from \"DEMO_FoodReviews\".\"FINE_FOOD_REVIEWS\" sample 5;"
   ]
  },
  {
   "cell_type": "markdown",
   "id": "7ef831f9",
   "metadata": {},
   "source": [
    "<p style = 'font-size:16px;font-family:Arial'>We have 500K reviews, rating from 1 to 5.</p>"
   ]
  },
  {
   "cell_type": "markdown",
   "id": "1e22d2ae",
   "metadata": {},
   "source": [
    "<hr>\n",
    "<p style = 'font-size:18px;font-family:Arial;color:#E37C4D'>Analyze the distribution of author ratings</p>\n",
    "\n",
    "<p style = 'font-size:16px;font-family:Arial'>Create a simple aggregation query to calculate distribution</p>"
   ]
  },
  {
   "cell_type": "code",
   "execution_count": 7,
   "id": "2d54981b",
   "metadata": {},
   "outputs": [
    {
     "data": {
      "application/vnd.teradata.resultset": "\"Score\",\"CountOfValues\"\n\"1\",\"52268\"\n\"2\",\"29769\"\n\"3\",\"42640\"\n\"4\",\"80655\"\n\"5\",\"363122\"",
      "text/html": [
       "<div class = \"td-resultset-table-div\" style = \"max-height: 100%; overflow-y: auto\">\n",
       "      <table class=\"tdhistory788857\"><style>\n",
       "      table.tdhistory788857 { display: block !important; min-height: 189px !important; overflow: auto !important; height: 189px !important; width: 100% !important; border: 1px solid rgb(207, 207, 207) !important; border-collapse: collapse !important; ; color: var(--jp-ui-font-color1) !important; }\n",
       "      th.tdhistory788857 { border: 1px solid rgb(198,198,198) !important; border-collapse: collapse !important; ; padding: 2px 5px !important; ; font-size: 13px !important; ; text-align: center !important; white-space: normal !important; color: var(--jp-ui-font-color1) !important; }\n",
       "      th.tdhistory788857:last-child { text-align: left !important; }\n",
       "      tbody.tdhistory788857 tr:nth-child(even) { background: rgba(243, 243, 243, 0.75) !important; }\n",
       "      tbody.tdhistory788857 tr:nth-child(odd) { background: var(--jp-ui-inverse-font-color1) !important; }\n",
       "      td.tdhistory788857 { border: 1px solid rgb(207, 207, 207) !important; border-collapse: collapse !important; ; padding: 2px 5px !important; ; font-size: 13px !important; ; text-align: left !important;          white-space: nowrap !important; overflow:hidden !important; text-overflow:ellipsis !important;; }\n",
       "    </style><thead><tr style= \"background: rgba(243, 243, 243, 0.75)\"><th class=\"tdhistory788857\"></th><th class=\"tdhistory788857\">Score</th><th class=\"tdhistory788857\">CountOfValues</th></tr></thead><tbody class=\"tdhistory788857 resultset-body\"><tr><th class=\"tdhistory788857\" style= \"background: rgba(243, 243, 243, 0.75)\">1</th><td class=\"tdhistory788857\">1</td><td class=\"tdhistory788857\">52268</td></tr><tr><th class=\"tdhistory788857\" style= \"background: rgba(243, 243, 243, 0.75)\">2</th><td class=\"tdhistory788857\">2</td><td class=\"tdhistory788857\">29769</td></tr><tr><th class=\"tdhistory788857\" style= \"background: rgba(243, 243, 243, 0.75)\">3</th><td class=\"tdhistory788857\">3</td><td class=\"tdhistory788857\">42640</td></tr><tr><th class=\"tdhistory788857\" style= \"background: rgba(243, 243, 243, 0.75)\">4</th><td class=\"tdhistory788857\">4</td><td class=\"tdhistory788857\">80655</td></tr><tr><th class=\"tdhistory788857\" style= \"background: rgba(243, 243, 243, 0.75)\">5</th><td class=\"tdhistory788857\">5</td><td class=\"tdhistory788857\">363122</td></tr></tbody></table></div>"
      ]
     },
     "execution_count": 7,
     "metadata": {
      "application/vnd.teradata.resultset": "{\"resultSetID\":\"/home/jovyan/JupyterLabRoot/Teradata/Resultsets/2023.01.24_05.47.00.487_UTC\",\"historyID\":247,\"chunkID\":\"00001\",\"sessionid\":\"\",\"portnum\":\"\",\"dockermode\":\"docker\",\"totalRowCount\":5,\"chunkCount\":0,\"rowLimit\":0,\"columnMetadata\":[{\"columnName\":\"Score\",\"columnTypeName\":\"VARCHAR\",\"length\":1,\"scale\":1},{\"columnNumber\":1,\"columnName\":\"CountOfValues\",\"columnTypeName\":\"INTEGER\"}]}"
     },
     "output_type": "execute_result"
    }
   ],
   "source": [
    "SELECT Score, count(Score) as CountOfValues\n",
    "FROM \"DEMO_FoodReviews\".\"FINE_FOOD_REVIEWS\"\n",
    "GROUP BY 1 \n",
    "ORDER BY 1"
   ]
  },
  {
   "cell_type": "markdown",
   "id": "311b8bb9",
   "metadata": {},
   "source": [
    "<hr>\n",
    "<p style = 'font-size:18px;font-family:Arial;color:#E37C4D'>Visualize the results</p>\n",
    "\n",
    "<p style = 'font-size:16px;font-family:Arial'>Chart the results with a simple bar plot</p>"
   ]
  },
  {
   "cell_type": "code",
   "execution_count": 8,
   "id": "69a688ad",
   "metadata": {},
   "outputs": [
    {
     "data": {
      "application/vnd.vegalite.v3+json": {
       "$schema": "https://vega.github.io/schema/vega-lite/v3.json",
       "data": {
        "format": {
         "type": "csv"
        },
        "values": "\"Score\",\"CountOfValues\"\n\"1\",\"52268\"\n\"2\",\"29769\"\n\"3\",\"42640\"\n\"4\",\"80655\"\n\"5\",\"363122\"\n"
       },
       "encoding": {
        "x": {
         "axis": {
          "grid": true,
          "title": "Score"
         },
         "field": "Score",
         "type": "nominal"
        },
        "y": {
         "axis": {
          "grid": true,
          "title": "CountOfValues"
         },
         "field": "CountOfValues",
         "type": "quantitative"
        }
       },
       "height": "300",
       "mark": {
        "color": "#4C78A8",
        "type": "bar"
       },
       "title": "Histogram of ratings",
       "width": "300"
      },
      "image/png": "[encoded data removed]"
     },
     "execution_count": 8,
     "metadata": {
      "application/vnd.teradata.resultset": ""
     },
     "output_type": "execute_result"
    }
   ],
   "source": [
    "%chart x=Score, y=CountOfValues, title=Histogram of ratings, height=300, width=300"
   ]
  },
  {
   "cell_type": "markdown",
   "id": "99449f20",
   "metadata": {},
   "source": [
    "<hr>\n",
    "\n",
    "<p style = 'font-size:20px;font-family:Arial;color:#E37C4D'><b>Step 2- Use Sentiment Extractor to calculate the sentiment score</b></p>\n",
    "\n",
    "<p style = 'font-size:16px;font-family:Arial'>Steps are as follow:</p>\n",
    "<ol style = 'font-size:16px;font-family:Arial'>\n",
    "    <li>Call the TD_SentimentExtractor function on reviews data</li>\n",
    "    <li>Inspect the Results</li>\n",
    "    <li>Create a new table that can be used for analysis later</li>\n",
    "    </ol>\n",
    "\n",
    "<p style = 'font-size:16px;font-family:Arial'>The TD_SentimentExtractor function uses a dictionary model to extract the sentiment (positive, negative, or neutral) of each input document or sentence.</p>\n",
    "\n",
    "<p style = 'font-size:16px;font-family:Arial'>The function handles negated sentiments as follows:</p>\n",
    "\n",
    "<ul style = 'font-size:16px;font-family:Arial'>\n",
    "    <li>-1 if the sentiment is negated (for example, \"I am not happy\")</li>\n",
    "    <li>-1 if the sentiment and a negation word are separated by one word (for example, \"I am not very happy\")</li>\n",
    "    <li>+1 if the sentiment and a negation word are separated by two or more words (for example, \"I am not saying I am happy\")</li>\n",
    "    </ul>\n",
    "<hr>   \n",
    "<p style = 'font-size:18px;font-family:Arial;color:#E37C4D'>2.1 TD_SentimentExtractor Syntax</p>\n",
    "\n",
    "<p style = 'font-size:16px;font-family:Arial'>TD_SentimentExtractor Syntax follows the Teradata SQL_MR conventions that take an InputTable and optional Dimension Table in the ON clause, followed by function parameters.  See the <a href = 'https://docs.teradata.com/search/all?query=TD_SentimentExtractor&content-lang=en-US'>documentation</a> for more details.</p>"
   ]
  },
  {
   "cell_type": "code",
   "execution_count": 9,
   "id": "339827f3",
   "metadata": {},
   "outputs": [
    {
     "data": {
      "application/vnd.teradata.resultset": "\"ReviewText\",\"polarity\",\"sentiment_score\",\"sentiment_words\"\n\"i was expecting something like a bunch of bully sticks but these are gone in literally 4 bites! even with my 14 week old aussie! it seems like a bargain but it's seriously not much at all when the dogs devour a stick in like a min.  they smell like they where dipped in motor oil or something awful. it get a bit better when you rinse them but still stinky and i feel reluctant to feed them to my dogs. my cattle dog mix turns his head when i try t give him these! awful treats, don't recommend to anyone!!! (i bought the beef basted)\",\"NEU\",\"0\",\"In total, positive score:6 negative score:-6. awful -1 (2), don't recommend -1 (1), better 1 (1), reluctant -1 (1), bully -1 (1), bargain 1 (1), smell -1 (1), like 1 (4).\"\n\"My 2 1/2 year old son is a very picky eater and this is one of the few foods I feel really good that I can get him to eat.  So tasty - they pass his test!  I love them too, would live on them if I could pick one food to eat for the rest of my life!\",\"POS\",\"2\",\"In total, positive score:2 negative score:-1. good 1 (1), love 1 (1), picky -1 (1).\"\n\"I started eating Quaker's Oatmeal To Go about 7 or 8 years ago - my favorite being banana.  But, they have all disappeared from the grocery stores.  We travel in our RV across the country, and I always look for Oatmeal To Go.  Not finding any, I now purchase Oatmeal To Go from Amazon.<a href=\"\"http://www.amazon.com/gp/product/B001G8R9WW\"\">Quaker Oatmeal To Go Variety Pack - 24 Count please note: Does not contain Bananna / Contains Apple</a>  Unfortunately, my first choice, banana, is evidently not being made anymore but I am happy with my present choices.<br /><br />Thank goodness for Amazon.\",\"POS\",\"2\",\"In total, positive score:4 negative score:-1. Unfortunately -1 (1), happy 1 (1), favorite 1 (1), Variety 1 (1), goodness 1 (1).\"\n\"I bought these for my wife becuase she loves these pops, and although I don't have the sweet tooth she does, I have to agree that these are tastier than most I've tried. We were buying them from a local candy store, but they were expensive and they didn't always carry them in stock, so I bought this pack for her birthday, saving money and ending up with a nice reserve. She likes all the flavors, which is unusual because usually there is one or two flavors in a box of candies that she doesn't. Anyway, these are more expensive than most pops, but her happiness is worth it.\",\"POS\",\"2\",\"In total, positive score:6 negative score:-3. unusual -1 (1), likes 1 (1), happiness 1 (1), nice 1 (1), worth 1 (1), expensive -1 (2), sweet 1 (1), loves 1 (1).\"\n\"I consider myself a chocolate connoisseur, with dark chocolates being my ultimate pleasure. My boyfriend, however, is a very picky chocolate eater. For Christmas I had to get him his favorite chocolate, unfortunately they don't sell it locally. Honestly, after trying Milka, I have a new favorite milk chocolate. Smooth, creamy, and melt-in-your-mouth irresistible, Milka is definitely worth buying online, even worth coercing some of the local vendors into keeping it in stock regularly!\",\"POS\",\"2\",\"In total, positive score:7 negative score:-3. unfortunately -1 (1), dark -1 (1), Smooth 1 (1), favorite 1 (2), worth 1 (2), irresistible 1 (1), picky -1 (1), pleasure 1 (1).\"",
      "text/html": [
       "<div class = \"td-resultset-table-div\" style = \"max-height: 100%; overflow-y: auto\">\n",
       "      <table class=\"tdhistory907771\"><style>\n",
       "      table.tdhistory907771 { display: block !important; min-height: 189px !important; overflow: auto !important; height: 189px !important; width: 100% !important; border: 1px solid rgb(207, 207, 207) !important; border-collapse: collapse !important; ; color: var(--jp-ui-font-color1) !important; }\n",
       "      th.tdhistory907771 { border: 1px solid rgb(198,198,198) !important; border-collapse: collapse !important; ; padding: 2px 5px !important; ; font-size: 13px !important; ; text-align: center !important; white-space: normal !important; color: var(--jp-ui-font-color1) !important; }\n",
       "      th.tdhistory907771:last-child { text-align: left !important; }\n",
       "      tbody.tdhistory907771 tr:nth-child(even) { background: rgba(243, 243, 243, 0.75) !important; }\n",
       "      tbody.tdhistory907771 tr:nth-child(odd) { background: var(--jp-ui-inverse-font-color1) !important; }\n",
       "      td.tdhistory907771 { border: 1px solid rgb(207, 207, 207) !important; border-collapse: collapse !important; ; padding: 2px 5px !important; ; font-size: 13px !important; ; text-align: left !important;          white-space: nowrap !important; overflow:hidden !important; text-overflow:ellipsis !important;; }\n",
       "    </style><thead><tr style= \"background: rgba(243, 243, 243, 0.75)\"><th class=\"tdhistory907771\"></th><th class=\"tdhistory907771\">ReviewText</th><th class=\"tdhistory907771\">polarity</th><th class=\"tdhistory907771\">sentiment_score</th><th class=\"tdhistory907771\">sentiment_words</th></tr></thead><tbody class=\"tdhistory907771 resultset-body\"><tr><th class=\"tdhistory907771\" style= \"background: rgba(243, 243, 243, 0.75)\">1</th><td class=\"tdhistory907771\">i was expecting something like a bunch of bully sticks but these are gone in literally 4 bites! even with my 14 week old aussie! it seems like a bargain but it's seriously not much at all when the dogs devour a stick in like a min.  they smell like they where dipped in motor oil or something awful. it get a bit better when you rinse them but still stinky and i feel reluctant to feed them to my dogs. my cattle dog mix turns his head when i try t give him these! awful treats, don't recommend to anyone!!! (i bought the beef basted)</td><td class=\"tdhistory907771\">NEU</td><td class=\"tdhistory907771\">0</td><td class=\"tdhistory907771\">In total, positive score:6 negative score:-6. awful -1 (2), don't recommend -1 (1), better 1 (1), reluctant -1 (1), bully -1 (1), bargain 1 (1), smell -1 (1), like 1 (4).</td></tr><tr><th class=\"tdhistory907771\" style= \"background: rgba(243, 243, 243, 0.75)\">2</th><td class=\"tdhistory907771\">My 2 1/2 year old son is a very picky eater and this is one of the few foods I feel really good that I can get him to eat.  So tasty - they pass his test!  I love them too, would live on them if I could pick one food to eat for the rest of my life!</td><td class=\"tdhistory907771\">POS</td><td class=\"tdhistory907771\">2</td><td class=\"tdhistory907771\">In total, positive score:2 negative score:-1. good 1 (1), love 1 (1), picky -1 (1).</td></tr><tr><th class=\"tdhistory907771\" style= \"background: rgba(243, 243, 243, 0.75)\">3</th><td class=\"tdhistory907771\">I started eating Quaker's Oatmeal To Go about 7 or 8 years ago - my favorite being banana.  But, they have all disappeared from the grocery stores.  We travel in our RV across the country, and I always look for Oatmeal To Go.  Not finding any, I now purchase Oatmeal To Go from Amazon.<a href=\"http://www.amazon.com/gp/product/B001G8R9WW\">Quaker Oatmeal To Go Variety Pack - 24 Count please note: Does not contain Bananna / Contains Apple</a>  Unfortunately, my first choice, banana, is evidently not being made anymore but I am happy with my present choices.<br /><br />Thank goodness for Amazon.</td><td class=\"tdhistory907771\">POS</td><td class=\"tdhistory907771\">2</td><td class=\"tdhistory907771\">In total, positive score:4 negative score:-1. Unfortunately -1 (1), happy 1 (1), favorite 1 (1), Variety 1 (1), goodness 1 (1).</td></tr><tr><th class=\"tdhistory907771\" style= \"background: rgba(243, 243, 243, 0.75)\">4</th><td class=\"tdhistory907771\">I bought these for my wife becuase she loves these pops, and although I don't have the sweet tooth she does, I have to agree that these are tastier than most I've tried. We were buying them from a local candy store, but they were expensive and they didn't always carry them in stock, so I bought this pack for her birthday, saving money and ending up with a nice reserve. She likes all the flavors, which is unusual because usually there is one or two flavors in a box of candies that she doesn't. Anyway, these are more expensive than most pops, but her happiness is worth it.</td><td class=\"tdhistory907771\">POS</td><td class=\"tdhistory907771\">2</td><td class=\"tdhistory907771\">In total, positive score:6 negative score:-3. unusual -1 (1), likes 1 (1), happiness 1 (1), nice 1 (1), worth 1 (1), expensive -1 (2), sweet 1 (1), loves 1 (1).</td></tr><tr><th class=\"tdhistory907771\" style= \"background: rgba(243, 243, 243, 0.75)\">5</th><td class=\"tdhistory907771\">I consider myself a chocolate connoisseur, with dark chocolates being my ultimate pleasure. My boyfriend, however, is a very picky chocolate eater. For Christmas I had to get him his favorite chocolate, unfortunately they don't sell it locally. Honestly, after trying Milka, I have a new favorite milk chocolate. Smooth, creamy, and melt-in-your-mouth irresistible, Milka is definitely worth buying online, even worth coercing some of the local vendors into keeping it in stock regularly!</td><td class=\"tdhistory907771\">POS</td><td class=\"tdhistory907771\">2</td><td class=\"tdhistory907771\">In total, positive score:7 negative score:-3. unfortunately -1 (1), dark -1 (1), Smooth 1 (1), favorite 1 (2), worth 1 (2), irresistible 1 (1), picky -1 (1), pleasure 1 (1).</td></tr></tbody></table></div>"
      ]
     },
     "execution_count": 9,
     "metadata": {
      "application/vnd.teradata.resultset": "{\"resultSetID\":\"/home/jovyan/JupyterLabRoot/Teradata/Resultsets/2023.01.24_05.50.13.113_UTC\",\"historyID\":248,\"chunkID\":\"00001\",\"sessionid\":\"\",\"portnum\":\"\",\"dockermode\":\"docker\",\"totalRowCount\":5,\"chunkCount\":0,\"rowLimit\":0,\"columnMetadata\":[{\"columnName\":\"ReviewText\",\"columnTypeName\":\"VARCHAR\",\"length\":22000,\"scale\":22000},{\"columnNumber\":1,\"columnName\":\"polarity\",\"columnTypeName\":\"VARCHAR\",\"length\":8,\"scale\":8},{\"columnNumber\":2,\"columnName\":\"sentiment_score\",\"columnTypeName\":\"INTEGER\"},{\"columnNumber\":3,\"columnName\":\"sentiment_words\",\"columnTypeName\":\"LONG VARCHAR\",\"length\":32000,\"scale\":32000}]}"
     },
     "output_type": "execute_result"
    }
   ],
   "source": [
    "SELECT TOP 5 * FROM TD_SentimentExtractor (\n",
    "    ON \"DEMO_FoodReviews\".\"FINE_FOOD_REVIEWS\" AS INPUTTABLE PARTITION BY ANY\n",
    "    USING\n",
    "        TextColumn ('ReviewText')\n",
    "        AnalysisType ('DOCUMENT')\n",
    "        Accumulate('ReviewText')\n",
    ") as dt;"
   ]
  },
  {
   "cell_type": "markdown",
   "id": "758fa1f1",
   "metadata": {},
   "source": [
    "<hr>\n",
    "<p style = 'font-size:18px;font-family:Arial;color:#E37C4D'>2.2 TD_SentimentExtractor Output</p>\n",
    "\n",
    "<p style = 'font-size:16px;font-family:Arial'>The function outputs three new columns (in addition to the columns declared in the Accumulate parameter.</p>\n",
    "\n",
    "<ul style = 'font-size:16px;font-family:Arial'>\n",
    "    <li><b>content</b>  The column contains the sentence extracted from the document. The column displays if you use Sentence as the AnalysisType.</li>\n",
    "    <li><b>polarity</b>  The sentiment value of the result. Possible values are POS (positive), NEG (negative), or NEU (neutral)Possible values are POS (positive), NEG (negative), or NEU (neutral)</li>\n",
    "    <li><b>sentiment_score</b>  The sentiment score of polarity. Possible values are 0 (neutral), 1 (higher than neutral), or 2 (higher than 1)</li>\n",
    "    <li><b>sentiment_words</b>  The string that contains a total positive score, total negative score, and sentiment words with their polarity_strength and frequency enclosed in parenthesis.</li>\n",
    "    </ul>\n",
    "    \n",
    "<hr>\n",
    "<p style = 'font-size:18px;font-family:Arial;color:#E37C4D'>2.3 Create a permanent table with results</p>\n",
    "<p style = 'font-size:16px;font-family:Arial'><b>(Table and view creation isn't currently working as of 01-SEP-22 - the rest of the demo uses subselects)</b>Note we accumulate the original id, review and rating columns, so we can compare the calculated values to the ratings provided by the author.</p>"
   ]
  },
  {
   "cell_type": "code",
   "execution_count": 11,
   "id": "72c7ac43",
   "metadata": {},
   "outputs": [
    {
     "data": {
      "text/plain": [
       "Success: 0 rows affected"
      ]
     },
     "execution_count": 11,
     "metadata": {
      "application/vnd.teradata.resultset": ""
     },
     "output_type": "execute_result"
    }
   ],
   "source": [
    "\n",
    "CREATE VIEW SentimentExtractor_output_V as(\n",
    "    SELECT TOP 5 * FROM TD_SentimentExtractor (\n",
    "        ON \"DEMO_FoodReviews\".\"FINE_FOOD_REVIEWS\" AS INPUTTABLE PARTITION BY ANY\n",
    "    USING\n",
    "    TextColumn ('ReviewText')\n",
    "    AnalysisType ('DOCUMENT')\n",
    "    Accumulate('id','ReviewText','Score') --retain the original columns\n",
    "    ) AS dt \n",
    ");\n"
   ]
  },
  {
   "cell_type": "code",
   "execution_count": 12,
   "id": "59f376c6",
   "metadata": {},
   "outputs": [
    {
     "data": {
      "application/vnd.teradata.resultset": "\"Id\",\"ReviewText\",\"Score\",\"polarity\",\"sentiment_score\",\"sentiment_words\"\n\"323620\",\"My golden retriever, Whisper, is very prone to anxiety when I leave the house. I just fill this cube with Cheerios, or even her regular serving of her dog food, and she goes to town rolling it on the floor to get every bit of treats from the cube. We both love it!<br />Word of caution: You need to have the cube in a room where there are no places for the cube to roll into and get stuck, like under couches or chairs. I have blocked off high bottomed chairs and couches so the cube does not get rolled into and stuck. My dog rolls this all around the room. I should spray her with Endust and have her clean up her hair while she is playing. KIDDING!\",\"5\",\"POS\",\"1\",\"In total, positive score:4 negative score:-3. stuck -1 (2), clean 1 (1), love 1 (1), golden 1 (1), anxiety -1 (1), like 1 (1).\"\n\"298334\",\"MIO \"\"Fruit Punch\"\" has good sweetness and good flavor, being one of the better tasting ones of this brand. This one makes an excellent \"\"mixer\"\" as well!<br /><br />MIO is intended to be added to water and can be mixed \"\"to taste\"\", I like four short squirts into a 12oz water bottle. The snap lock lid is secure enough to carry the container in a shirt pocket and does not need to be refrigerated after opening.<br /><br />Recommended!<br /><br />CFH\",\"4\",\"POS\",\"2\",\"In total, positive score:8 negative score:-1. secure 1 (1), good 1 (2), better 1 (1), enough 1 (1), Punch -1 (1), sweetness 1 (1), excellent 1 (1), like 1 (1).\"\n\"149167\",\"This particular product was unpleasant at best. The consistancy was awful..... It reminded me of taking a curling iron to my barbie dolls hair as a young child.... plasticy/rubbery..... No thanks\",\"1\",\"NEU\",\"0\",\"In total, positive score:1 negative score:-1. unpleasant -1 (1), best 1 (1).\"\n\"498073\",\"i was expecting something like a bunch of bully sticks but these are gone in literally 4 bites! even with my 14 week old aussie! it seems like a bargain but it's seriously not much at all when the dogs devour a stick in like a min.  they smell like they where dipped in motor oil or something awful. it get a bit better when you rinse them but still stinky and i feel reluctant to feed them to my dogs. my cattle dog mix turns his head when i try t give him these! awful treats, don't recommend to anyone!!! (i bought the beef basted)\",\"1\",\"NEU\",\"0\",\"In total, positive score:6 negative score:-6. awful -1 (2), don't recommend -1 (1), better 1 (1), reluctant -1 (1), bully -1 (1), bargain 1 (1), smell -1 (1), like 1 (4).\"\n\"492506\",\"I bought these for my wife becuase she loves these pops, and although I don't have the sweet tooth she does, I have to agree that these are tastier than most I've tried. We were buying them from a local candy store, but they were expensive and they didn't always carry them in stock, so I bought this pack for her birthday, saving money and ending up with a nice reserve. She likes all the flavors, which is unusual because usually there is one or two flavors in a box of candies that she doesn't. Anyway, these are more expensive than most pops, but her happiness is worth it.\",\"5\",\"POS\",\"2\",\"In total, positive score:6 negative score:-3. unusual -1 (1), likes 1 (1), happiness 1 (1), nice 1 (1), worth 1 (1), expensive -1 (2), sweet 1 (1), loves 1 (1).\"",
      "text/html": [
       "<div class = \"td-resultset-table-div\" style = \"max-height: 100%; overflow-y: auto\">\n",
       "      <table class=\"tdhistory961330\"><style>\n",
       "      table.tdhistory961330 { display: block !important; min-height: 189px !important; overflow: auto !important; height: 189px !important; width: 100% !important; border: 1px solid rgb(207, 207, 207) !important; border-collapse: collapse !important; ; color: var(--jp-ui-font-color1) !important; }\n",
       "      th.tdhistory961330 { border: 1px solid rgb(198,198,198) !important; border-collapse: collapse !important; ; padding: 2px 5px !important; ; font-size: 13px !important; ; text-align: center !important; white-space: normal !important; color: var(--jp-ui-font-color1) !important; }\n",
       "      th.tdhistory961330:last-child { text-align: left !important; }\n",
       "      tbody.tdhistory961330 tr:nth-child(even) { background: rgba(243, 243, 243, 0.75) !important; }\n",
       "      tbody.tdhistory961330 tr:nth-child(odd) { background: var(--jp-ui-inverse-font-color1) !important; }\n",
       "      td.tdhistory961330 { border: 1px solid rgb(207, 207, 207) !important; border-collapse: collapse !important; ; padding: 2px 5px !important; ; font-size: 13px !important; ; text-align: left !important;          white-space: nowrap !important; overflow:hidden !important; text-overflow:ellipsis !important;; }\n",
       "    </style><thead><tr style= \"background: rgba(243, 243, 243, 0.75)\"><th class=\"tdhistory961330\"></th><th class=\"tdhistory961330\">Id</th><th class=\"tdhistory961330\">ReviewText</th><th class=\"tdhistory961330\">Score</th><th class=\"tdhistory961330\">polarity</th><th class=\"tdhistory961330\">sentiment_score</th><th class=\"tdhistory961330\">sentiment_words</th></tr></thead><tbody class=\"tdhistory961330 resultset-body\"><tr><th class=\"tdhistory961330\" style= \"background: rgba(243, 243, 243, 0.75)\">1</th><td class=\"tdhistory961330\">323620</td><td class=\"tdhistory961330\">My golden retriever, Whisper, is very prone to anxiety when I leave the house. I just fill this cube with Cheerios, or even her regular serving of her dog food, and she goes to town rolling it on the floor to get every bit of treats from the cube. We both love it!<br />Word of caution: You need to have the cube in a room where there are no places for the cube to roll into and get stuck, like under couches or chairs. I have blocked off high bottomed chairs and couches so the cube does not get rolled into and stuck. My dog rolls this all around the room. I should spray her with Endust and have her clean up her hair while she is playing. KIDDING!</td><td class=\"tdhistory961330\">5</td><td class=\"tdhistory961330\">POS</td><td class=\"tdhistory961330\">1</td><td class=\"tdhistory961330\">In total, positive score:4 negative score:-3. stuck -1 (2), clean 1 (1), love 1 (1), golden 1 (1), anxiety -1 (1), like 1 (1).</td></tr><tr><th class=\"tdhistory961330\" style= \"background: rgba(243, 243, 243, 0.75)\">2</th><td class=\"tdhistory961330\">298334</td><td class=\"tdhistory961330\">MIO \"Fruit Punch\" has good sweetness and good flavor, being one of the better tasting ones of this brand. This one makes an excellent \"mixer\" as well!<br /><br />MIO is intended to be added to water and can be mixed \"to taste\", I like four short squirts into a 12oz water bottle. The snap lock lid is secure enough to carry the container in a shirt pocket and does not need to be refrigerated after opening.<br /><br />Recommended!<br /><br />CFH</td><td class=\"tdhistory961330\">4</td><td class=\"tdhistory961330\">POS</td><td class=\"tdhistory961330\">2</td><td class=\"tdhistory961330\">In total, positive score:8 negative score:-1. secure 1 (1), good 1 (2), better 1 (1), enough 1 (1), Punch -1 (1), sweetness 1 (1), excellent 1 (1), like 1 (1).</td></tr><tr><th class=\"tdhistory961330\" style= \"background: rgba(243, 243, 243, 0.75)\">3</th><td class=\"tdhistory961330\">149167</td><td class=\"tdhistory961330\">This particular product was unpleasant at best. The consistancy was awful..... It reminded me of taking a curling iron to my barbie dolls hair as a young child.... plasticy/rubbery..... No thanks</td><td class=\"tdhistory961330\">1</td><td class=\"tdhistory961330\">NEU</td><td class=\"tdhistory961330\">0</td><td class=\"tdhistory961330\">In total, positive score:1 negative score:-1. unpleasant -1 (1), best 1 (1).</td></tr><tr><th class=\"tdhistory961330\" style= \"background: rgba(243, 243, 243, 0.75)\">4</th><td class=\"tdhistory961330\">498073</td><td class=\"tdhistory961330\">i was expecting something like a bunch of bully sticks but these are gone in literally 4 bites! even with my 14 week old aussie! it seems like a bargain but it's seriously not much at all when the dogs devour a stick in like a min.  they smell like they where dipped in motor oil or something awful. it get a bit better when you rinse them but still stinky and i feel reluctant to feed them to my dogs. my cattle dog mix turns his head when i try t give him these! awful treats, don't recommend to anyone!!! (i bought the beef basted)</td><td class=\"tdhistory961330\">1</td><td class=\"tdhistory961330\">NEU</td><td class=\"tdhistory961330\">0</td><td class=\"tdhistory961330\">In total, positive score:6 negative score:-6. awful -1 (2), don't recommend -1 (1), better 1 (1), reluctant -1 (1), bully -1 (1), bargain 1 (1), smell -1 (1), like 1 (4).</td></tr><tr><th class=\"tdhistory961330\" style= \"background: rgba(243, 243, 243, 0.75)\">5</th><td class=\"tdhistory961330\">492506</td><td class=\"tdhistory961330\">I bought these for my wife becuase she loves these pops, and although I don't have the sweet tooth she does, I have to agree that these are tastier than most I've tried. We were buying them from a local candy store, but they were expensive and they didn't always carry them in stock, so I bought this pack for her birthday, saving money and ending up with a nice reserve. She likes all the flavors, which is unusual because usually there is one or two flavors in a box of candies that she doesn't. Anyway, these are more expensive than most pops, but her happiness is worth it.</td><td class=\"tdhistory961330\">5</td><td class=\"tdhistory961330\">POS</td><td class=\"tdhistory961330\">2</td><td class=\"tdhistory961330\">In total, positive score:6 negative score:-3. unusual -1 (1), likes 1 (1), happiness 1 (1), nice 1 (1), worth 1 (1), expensive -1 (2), sweet 1 (1), loves 1 (1).</td></tr></tbody></table></div>"
      ]
     },
     "execution_count": 12,
     "metadata": {
      "application/vnd.teradata.resultset": "{\"resultSetID\":\"/home/jovyan/JupyterLabRoot/Teradata/Resultsets/2023.01.24_05.54.19.572_UTC\",\"historyID\":251,\"chunkID\":\"00001\",\"sessionid\":\"\",\"portnum\":\"\",\"dockermode\":\"docker\",\"totalRowCount\":5,\"chunkCount\":0,\"rowLimit\":0,\"columnMetadata\":[{\"columnName\":\"Id\",\"columnTypeName\":\"INTEGER\"},{\"columnNumber\":1,\"columnName\":\"ReviewText\",\"columnTypeName\":\"VARCHAR\",\"length\":22000,\"scale\":22000},{\"columnNumber\":2,\"columnName\":\"Score\",\"columnTypeName\":\"VARCHAR\",\"length\":1,\"scale\":1},{\"columnNumber\":3,\"columnName\":\"polarity\",\"columnTypeName\":\"VARCHAR\",\"length\":8,\"scale\":8},{\"columnNumber\":4,\"columnName\":\"sentiment_score\",\"columnTypeName\":\"INTEGER\"},{\"columnNumber\":5,\"columnName\":\"sentiment_words\",\"columnTypeName\":\"LONG VARCHAR\",\"length\":32000,\"scale\":32000}]}"
     },
     "output_type": "execute_result"
    }
   ],
   "source": [
    "SELECT TOP 5 * FROM SentimentExtractor_output_V\n"
   ]
  },
  {
   "cell_type": "markdown",
   "id": "6599f4e9",
   "metadata": {},
   "source": [
    "<hr>\n",
    "<p style = 'font-size:20px;font-family:Arial;color:#E37C4D'><b>Step 3 - Analyze the results and compare to author rating</b></p>\n",
    "\n",
    "<p style = 'font-size:16px;font-family:Arial'>Additional analytic and data processing functions can be used to provide deeper insights into model accuracy, or inform better tuning of the analytic process.  What follows are some examples:</p>\n",
    "\n",
    "<ol style = 'font-size:16px;font-family:Arial'>\n",
    "    <li>Create a sentiment polarity out of the author ratings</li>\n",
    "    <li>Use Vantage Functions to analyze the classification accuracy of our model</li>\n",
    "    <li>Create a ratings value out of sentiment score and polarity</li>\n",
    "    <li>Calculate the distributions of ratings values and visualize results</li>\n",
    " </ol>\n",
    "\n",
    "<hr>\n",
    "<p style = 'font-size:18px;font-family:Arial;color:#E37C4D'>3.1 Create a categorical representation of author ratings.</p>\n",
    "<p style = 'font-size:16px;font-family:Arial'>For purposes of comparison, assume the ratings values can be categorized into Negative, Neutral, and Positive categories to match the output of the Sentiment Analysis function.</p>"
   ]
  },
  {
   "cell_type": "code",
   "execution_count": 13,
   "id": "2494dbcf",
   "metadata": {},
   "outputs": [
    {
     "data": {
      "application/vnd.teradata.resultset": "\"Id\",\"Score\",\"polarity\",\"sentiment_score\",\"rating_polarity\"\n\"432071\",\"5\",\"POS\",\"2\",\"POS\"\n\"492506\",\"5\",\"POS\",\"2\",\"POS\"\n\"467220\",\"4\",\"POS\",\"2\",\"POS\"\n\"498073\",\"1\",\"NEU\",\"0\",\"NEG\"\n\"323620\",\"5\",\"POS\",\"1\",\"POS\"",
      "text/html": [
       "<div class = \"td-resultset-table-div\" style = \"max-height: 100%; overflow-y: auto\">\n",
       "      <table class=\"tdhistory324806\"><style>\n",
       "      table.tdhistory324806 { display: block !important; min-height: 189px !important; overflow: auto !important; height: 189px !important; width: 100% !important; border: 1px solid rgb(207, 207, 207) !important; border-collapse: collapse !important; ; color: var(--jp-ui-font-color1) !important; }\n",
       "      th.tdhistory324806 { border: 1px solid rgb(198,198,198) !important; border-collapse: collapse !important; ; padding: 2px 5px !important; ; font-size: 13px !important; ; text-align: center !important; white-space: normal !important; color: var(--jp-ui-font-color1) !important; }\n",
       "      th.tdhistory324806:last-child { text-align: left !important; }\n",
       "      tbody.tdhistory324806 tr:nth-child(even) { background: rgba(243, 243, 243, 0.75) !important; }\n",
       "      tbody.tdhistory324806 tr:nth-child(odd) { background: var(--jp-ui-inverse-font-color1) !important; }\n",
       "      td.tdhistory324806 { border: 1px solid rgb(207, 207, 207) !important; border-collapse: collapse !important; ; padding: 2px 5px !important; ; font-size: 13px !important; ; text-align: left !important;          white-space: nowrap !important; overflow:hidden !important; text-overflow:ellipsis !important;; }\n",
       "    </style><thead><tr style= \"background: rgba(243, 243, 243, 0.75)\"><th class=\"tdhistory324806\"></th><th class=\"tdhistory324806\">Id</th><th class=\"tdhistory324806\">Score</th><th class=\"tdhistory324806\">polarity</th><th class=\"tdhistory324806\">sentiment_score</th><th class=\"tdhistory324806\">rating_polarity</th></tr></thead><tbody class=\"tdhistory324806 resultset-body\"><tr><th class=\"tdhistory324806\" style= \"background: rgba(243, 243, 243, 0.75)\">1</th><td class=\"tdhistory324806\">432071</td><td class=\"tdhistory324806\">5</td><td class=\"tdhistory324806\">POS</td><td class=\"tdhistory324806\">2</td><td class=\"tdhistory324806\">POS</td></tr><tr><th class=\"tdhistory324806\" style= \"background: rgba(243, 243, 243, 0.75)\">2</th><td class=\"tdhistory324806\">492506</td><td class=\"tdhistory324806\">5</td><td class=\"tdhistory324806\">POS</td><td class=\"tdhistory324806\">2</td><td class=\"tdhistory324806\">POS</td></tr><tr><th class=\"tdhistory324806\" style= \"background: rgba(243, 243, 243, 0.75)\">3</th><td class=\"tdhistory324806\">467220</td><td class=\"tdhistory324806\">4</td><td class=\"tdhistory324806\">POS</td><td class=\"tdhistory324806\">2</td><td class=\"tdhistory324806\">POS</td></tr><tr><th class=\"tdhistory324806\" style= \"background: rgba(243, 243, 243, 0.75)\">4</th><td class=\"tdhistory324806\">498073</td><td class=\"tdhistory324806\">1</td><td class=\"tdhistory324806\">NEU</td><td class=\"tdhistory324806\">0</td><td class=\"tdhistory324806\">NEG</td></tr><tr><th class=\"tdhistory324806\" style= \"background: rgba(243, 243, 243, 0.75)\">5</th><td class=\"tdhistory324806\">323620</td><td class=\"tdhistory324806\">5</td><td class=\"tdhistory324806\">POS</td><td class=\"tdhistory324806\">1</td><td class=\"tdhistory324806\">POS</td></tr></tbody></table></div>"
      ]
     },
     "execution_count": 13,
     "metadata": {
      "application/vnd.teradata.resultset": "{\"resultSetID\":\"/home/jovyan/JupyterLabRoot/Teradata/Resultsets/2023.01.24_05.56.57.978_UTC\",\"historyID\":252,\"chunkID\":\"00001\",\"sessionid\":\"\",\"portnum\":\"\",\"dockermode\":\"docker\",\"totalRowCount\":5,\"chunkCount\":0,\"rowLimit\":0,\"columnMetadata\":[{\"columnName\":\"Id\",\"columnTypeName\":\"INTEGER\"},{\"columnNumber\":1,\"columnName\":\"Score\",\"columnTypeName\":\"VARCHAR\",\"length\":1,\"scale\":1},{\"columnNumber\":2,\"columnName\":\"polarity\",\"columnTypeName\":\"VARCHAR\",\"length\":8,\"scale\":8},{\"columnNumber\":3,\"columnName\":\"sentiment_score\",\"columnTypeName\":\"INTEGER\"},{\"columnNumber\":4,\"columnName\":\"rating_polarity\",\"columnTypeName\":\"VARCHAR\",\"length\":3,\"scale\":3}]}"
     },
     "output_type": "execute_result"
    }
   ],
   "source": [
    "/*\n",
    "Assume that a rating of 1 or 2 is Negative, 3 is Neutral, and 4 or 5 is Positive\n",
    "*/\n",
    "SELECT TOP 5 id, Score, polarity, sentiment_score,\n",
    "    CASE  \n",
    "        WHEN Score<3 THEN 'NEG'\n",
    "        WHEN Score=3 THEN 'NEU'\n",
    "        WHEN Score>3 THEN 'POS'\n",
    "    END AS rating_polarity\n",
    "FROM (SELECT * FROM TD_SentimentExtractor (\n",
    "        ON \"DEMO_FoodReviews\".\"FINE_FOOD_REVIEWS\" AS INPUTTABLE PARTITION BY ANY\n",
    "    USING\n",
    "    TextColumn ('ReviewText')\n",
    "    AnalysisType ('DOCUMENT')\n",
    "    Accumulate('id','ReviewText','Score') --retain the original columns\n",
    "    )as dt) se"
   ]
  },
  {
   "cell_type": "markdown",
   "id": "ad1b86eb",
   "metadata": {},
   "source": [
    "<p style = 'font-size:18px;font-family:Arial;color:#E37C4D'>3.2 Using TD_ClassificationEvaluator</p>\n",
    "\n",
    "<p style = 'font-size:16px;font-family:Arial'>In classification problems, a confusion matrix is used to visualize the performance of a classifier. The confusion matrix contains predicted labels represented across the row-axis and actual labels represented across the column-axis. Each cell in the confusion matrix corresponds to the count of occurrences of labels in the test data.  See the <a href = 'https://docs.teradata.com/search/all?query=TD_ClassificationEvaluator&content-lang=en-US'>documentation</a> for more details.</p>\n",
    "\n",
    "<p style = 'font-size:16px;font-family:Arial'>This function takes an input table (in this case, the query we developed above), an optional output table with additional metrics, and function parameters including the columns that ate to be compared.</p>"
   ]
  },
  {
   "cell_type": "code",
   "execution_count": 201,
   "id": "2f0e520e",
   "metadata": {},
   "outputs": [
    {
     "ename": "ERROR",
     "evalue": "Unable to run SQL: Unable to run SQL query: Database reported error:3807:Object 'additional_metrics_labels' does not exist.",
     "output_type": "error",
     "traceback": [
      "Unable to run SQL: Unable to run SQL query: Database reported error:3807:Object 'additional_metrics_labels' does not exist."
     ]
    }
   ],
   "source": [
    "DROP TABLE additional_metrics_labels"
   ]
  },
  {
   "cell_type": "code",
   "execution_count": 14,
   "id": "1607be65",
   "metadata": {},
   "outputs": [
    {
     "data": {
      "text/plain": [
       "Success: 0 rows affected"
      ]
     },
     "execution_count": 14,
     "metadata": {
      "application/vnd.teradata.resultset": ""
     },
     "output_type": "execute_result"
    },
    {
     "data": {
      "application/vnd.teradata.resultset": "\"SeqNum\",\"Prediction\",\"Mapping\",\"CLASS_1\",\"CLASS_2\",\"CLASS_3\",\"Precision\",\"Recall\",\"F1\",\"Support\"\n\"0\",\"NEG\",\"CLASS_1\",\"35322\",\"7987\",\"24317\",\"0.5223139029367403\",\"0.43056181966673573\",\"0.47202047266191377\",\"82037\"\n\"1\",\"NEU\",\"CLASS_2\",\"15455\",\"6313\",\"33819\",\"0.11356971953874108\",\"0.14805347091932458\",\"0.12853899640628344\",\"42640\"\n\"2\",\"POS\",\"CLASS_3\",\"31260\",\"28340\",\"385641\",\"0.8661399107449673\",\"0.8689972666451844\",\"0.8675662360042202\",\"443777\"",
      "text/html": [
       "<div class = \"td-resultset-table-div\" style = \"max-height: 100%; overflow-y: auto\">\n",
       "      <table class=\"tdhistory864077\"><style>\n",
       "      table.tdhistory864077 { display: block !important; min-height: 147px !important; overflow: auto !important; height: 147px !important; width: 100% !important; border: 1px solid rgb(207, 207, 207) !important; border-collapse: collapse !important; ; color: var(--jp-ui-font-color1) !important; }\n",
       "      th.tdhistory864077 { border: 1px solid rgb(198,198,198) !important; border-collapse: collapse !important; ; padding: 2px 5px !important; ; font-size: 13px !important; ; text-align: center !important; white-space: normal !important; color: var(--jp-ui-font-color1) !important; }\n",
       "      th.tdhistory864077:last-child { text-align: left !important; }\n",
       "      tbody.tdhistory864077 tr:nth-child(even) { background: rgba(243, 243, 243, 0.75) !important; }\n",
       "      tbody.tdhistory864077 tr:nth-child(odd) { background: var(--jp-ui-inverse-font-color1) !important; }\n",
       "      td.tdhistory864077 { border: 1px solid rgb(207, 207, 207) !important; border-collapse: collapse !important; ; padding: 2px 5px !important; ; font-size: 13px !important; ; text-align: left !important;          white-space: nowrap !important; overflow:hidden !important; text-overflow:ellipsis !important;; }\n",
       "    </style><thead><tr style= \"background: rgba(243, 243, 243, 0.75)\"><th class=\"tdhistory864077\"></th><th class=\"tdhistory864077\">SeqNum</th><th class=\"tdhistory864077\">Prediction</th><th class=\"tdhistory864077\">Mapping</th><th class=\"tdhistory864077\">CLASS_1</th><th class=\"tdhistory864077\">CLASS_2</th><th class=\"tdhistory864077\">CLASS_3</th><th class=\"tdhistory864077\">Precision</th><th class=\"tdhistory864077\">Recall</th><th class=\"tdhistory864077\">F1</th><th class=\"tdhistory864077\">Support</th></tr></thead><tbody class=\"tdhistory864077 resultset-body\"><tr><th class=\"tdhistory864077\" style= \"background: rgba(243, 243, 243, 0.75)\">1</th><td class=\"tdhistory864077\">0</td><td class=\"tdhistory864077\">NEG</td><td class=\"tdhistory864077\">CLASS_1</td><td class=\"tdhistory864077\">35322</td><td class=\"tdhistory864077\">7987</td><td class=\"tdhistory864077\">24317</td><td class=\"tdhistory864077\">0.5223139029367403</td><td class=\"tdhistory864077\">0.43056181966673573</td><td class=\"tdhistory864077\">0.47202047266191377</td><td class=\"tdhistory864077\">82037</td></tr><tr><th class=\"tdhistory864077\" style= \"background: rgba(243, 243, 243, 0.75)\">2</th><td class=\"tdhistory864077\">1</td><td class=\"tdhistory864077\">NEU</td><td class=\"tdhistory864077\">CLASS_2</td><td class=\"tdhistory864077\">15455</td><td class=\"tdhistory864077\">6313</td><td class=\"tdhistory864077\">33819</td><td class=\"tdhistory864077\">0.11356971953874108</td><td class=\"tdhistory864077\">0.14805347091932458</td><td class=\"tdhistory864077\">0.12853899640628344</td><td class=\"tdhistory864077\">42640</td></tr><tr><th class=\"tdhistory864077\" style= \"background: rgba(243, 243, 243, 0.75)\">3</th><td class=\"tdhistory864077\">2</td><td class=\"tdhistory864077\">POS</td><td class=\"tdhistory864077\">CLASS_3</td><td class=\"tdhistory864077\">31260</td><td class=\"tdhistory864077\">28340</td><td class=\"tdhistory864077\">385641</td><td class=\"tdhistory864077\">0.8661399107449673</td><td class=\"tdhistory864077\">0.8689972666451844</td><td class=\"tdhistory864077\">0.8675662360042202</td><td class=\"tdhistory864077\">443777</td></tr></tbody></table></div>"
      ]
     },
     "execution_count": 14,
     "metadata": {
      "application/vnd.teradata.resultset": "{\"resultSetID\":\"/home/jovyan/JupyterLabRoot/Teradata/Resultsets/2023.01.24_06.01.34.656_UTC\",\"historyID\":253,\"chunkID\":\"00001\",\"sessionid\":\"\",\"portnum\":\"\",\"dockermode\":\"docker\",\"totalRowCount\":3,\"chunkCount\":0,\"rowLimit\":0,\"columnMetadata\":[{\"columnName\":\"SeqNum\",\"columnTypeName\":\"INTEGER\"},{\"columnNumber\":1,\"columnName\":\"Prediction\",\"columnTypeName\":\"VARCHAR\",\"length\":16,\"scale\":16},{\"columnNumber\":2,\"columnName\":\"Mapping\",\"columnTypeName\":\"VARCHAR\",\"length\":12,\"scale\":12},{\"columnNumber\":3,\"columnName\":\"CLASS_1\",\"columnTypeName\":\"BIGINT\"},{\"columnNumber\":4,\"columnName\":\"CLASS_2\",\"columnTypeName\":\"BIGINT\"},{\"columnNumber\":5,\"columnName\":\"CLASS_3\",\"columnTypeName\":\"BIGINT\"},{\"columnNumber\":6,\"columnName\":\"Precision\",\"columnTypeName\":\"FLOAT\"},{\"columnNumber\":7,\"columnName\":\"Recall\",\"columnTypeName\":\"FLOAT\"},{\"columnNumber\":8,\"columnName\":\"F1\",\"columnTypeName\":\"FLOAT\"},{\"columnNumber\":9,\"columnName\":\"Support\",\"columnTypeName\":\"BIGINT\"}]}"
     },
     "output_type": "execute_result"
    }
   ],
   "source": [
    "SELECT * FROM TD_ClassificationEvaluator(\n",
    "ON (SELECT id, Score, polarity, sentiment_score,\n",
    "    CASE  \n",
    "        WHEN Score<3 THEN 'NEG'\n",
    "        WHEN Score=3 THEN 'NEU'\n",
    "        WHEN Score>3 THEN 'POS'\n",
    "    END AS rating_polarity\n",
    "FROM (SELECT * FROM TD_SentimentExtractor (\n",
    "        ON \"DEMO_FoodReviews\".\"FINE_FOOD_REVIEWS\" AS INPUTTABLE PARTITION BY ANY\n",
    "    USING\n",
    "    TextColumn ('ReviewText')\n",
    "    AnalysisType ('DOCUMENT')\n",
    "    Accumulate('id','ReviewText','Score') --retain the original columns\n",
    "    )as dt) se) AS InputTable\n",
    "OUT VOLATILE TABLE OutputTable(additional_metrics_labels)\n",
    "USING\n",
    "ObservationColumn('rating_polarity')\n",
    "PredictionColumn('polarity')\n",
    "NumLabels(3)\n",
    ") AS du;"
   ]
  },
  {
   "cell_type": "markdown",
   "id": "5f944338",
   "metadata": {},
   "source": [
    "<p style = 'font-size:16px;font-family:Arial'>We can see in the above output, these assumptions seem to indicate better predictive capabilities at  positive sentiment and possible correlation to higher ratings.</p>\n",
    "\n",
    "<p style = 'font-size:16px;font-family:Arial'>Additional metrics table can be queried from the OutputTable</p>"
   ]
  },
  {
   "cell_type": "code",
   "execution_count": 17,
   "id": "4a2b947f",
   "metadata": {},
   "outputs": [
    {
     "data": {
      "application/vnd.teradata.resultset": "\"SeqNum\",\"Metric\",\"MetricValue\"\n\"1\",\"Accuracy\u0000\u0000\u0000\u0000\u0000\u0000\u0000\u0000\u0000\u0000\u0000\u0000\u0000\u0000\u0000\u0000\u0000\u0000\u0000\u0000\u0000\u0000\u0000\u0000\u0000\u0000\u0000\u0000\u0000\u0000\u0000\u0000\u0000\u0000\u0000\u0000\u0000\u0000\u0000\u0000\u0000\u0000\",\"0.751645691647873\"\n\"2\",\"Micro-Precision\u0000\u0000\u0000\u0000\u0000\u0000\u0000\u0000\u0000\u0000\u0000\u0000\u0000\u0000\u0000\u0000\u0000\u0000\u0000\u0000\u0000\u0000\u0000\u0000\u0000\u0000\u0000\u0000\u0000\u0000\u0000\u0000\u0000\u0000\u0000\",\"0.751645691647873\"\n\"3\",\"Micro-Recall\u0000\u0000\u0000\u0000\u0000\u0000\u0000\u0000\u0000\u0000\u0000\u0000\u0000\u0000\u0000\u0000\u0000\u0000\u0000\u0000\u0000\u0000\u0000\u0000\u0000\u0000\u0000\u0000\u0000\u0000\u0000\u0000\u0000\u0000\u0000\u0000\u0000\u0000\",\"0.751645691647873\"\n\"4\",\"Micro-F1\u0000\u0000\u0000\u0000\u0000\u0000\u0000\u0000\u0000\u0000\u0000\u0000\u0000\u0000\u0000\u0000\u0000\u0000\u0000\u0000\u0000\u0000\u0000\u0000\u0000\u0000\u0000\u0000\u0000\u0000\u0000\u0000\u0000\u0000\u0000\u0000\u0000\u0000\u0000\u0000\u0000\u0000\",\"0.751645691647873\"\n\"5\",\"Macro-Precision\u0000\u0000\u0000\u0000\u0000\u0000\u0000\u0000\u0000\u0000\u0000\u0000\u0000\u0000\u0000\u0000\u0000\u0000\u0000\u0000\u0000\u0000\u0000\u0000\u0000\u0000\u0000\u0000\u0000\u0000\u0000\u0000\u0000\u0000\u0000\",\"0.5006745110734828\"\n\"6\",\"Macro-Recall\u0000\u0000\u0000\u0000\u0000\u0000\u0000\u0000\u0000\u0000\u0000\u0000\u0000\u0000\u0000\u0000\u0000\u0000\u0000\u0000\u0000\u0000\u0000\u0000\u0000\u0000\u0000\u0000\u0000\u0000\u0000\u0000\u0000\u0000\u0000\u0000\u0000\u0000\",\"0.48253751907708153\"\n\"7\",\"Macro-F1\u0000\u0000\u0000\u0000\u0000\u0000\u0000\u0000\u0000\u0000\u0000\u0000\u0000\u0000\u0000\u0000\u0000\u0000\u0000\u0000\u0000\u0000\u0000\u0000\u0000\u0000\u0000\u0000\u0000\u0000\u0000\u0000\u0000\u0000\u0000\u0000\u0000\u0000\u0000\u0000\u0000\u0000\",\"0.48937523502413915\"\n\"8\",\"Weighted-Precision\u0000\u0000\u0000\u0000\u0000\u0000\u0000\u0000\u0000\u0000\u0000\u0000\u0000\u0000\u0000\u0000\u0000\u0000\u0000\u0000\u0000\u0000\u0000\u0000\u0000\u0000\u0000\u0000\u0000\u0000\u0000\u0000\",\"0.7600696796346277\"\n\"9\",\"Weighted-Recall\u0000\u0000\u0000\u0000\u0000\u0000\u0000\u0000\u0000\u0000\u0000\u0000\u0000\u0000\u0000\u0000\u0000\u0000\u0000\u0000\u0000\u0000\u0000\u0000\u0000\u0000\u0000\u0000\u0000\u0000\u0000\u0000\u0000\u0000\u0000\",\"0.751645691647873\"\n\"10\",\"Weighted-F1\u0000\u0000\u0000\u0000\u0000\u0000\u0000\u0000\u0000\u0000\u0000\u0000\u0000\u0000\u0000\u0000\u0000\u0000\u0000\u0000\u0000\u0000\u0000\u0000\u0000\u0000\u0000\u0000\u0000\u0000\u0000\u0000\u0000\u0000\u0000\u0000\u0000\u0000\u0000\",\"0.755047880457828\"",
      "text/html": [
       "<div class = \"td-resultset-table-div\" style = \"max-height: 100%; overflow-y: auto\">\n",
       "      <table class=\"tdhistory706275\"><style>\n",
       "      table.tdhistory706275 { display: block !important; min-height: 294px !important; overflow: auto !important; height: 294px !important; width: 100% !important; border: 1px solid rgb(207, 207, 207) !important; border-collapse: collapse !important; ; color: var(--jp-ui-font-color1) !important; }\n",
       "      th.tdhistory706275 { border: 1px solid rgb(198,198,198) !important; border-collapse: collapse !important; ; padding: 2px 5px !important; ; font-size: 13px !important; ; text-align: center !important; white-space: normal !important; color: var(--jp-ui-font-color1) !important; }\n",
       "      th.tdhistory706275:last-child { text-align: left !important; }\n",
       "      tbody.tdhistory706275 tr:nth-child(even) { background: rgba(243, 243, 243, 0.75) !important; }\n",
       "      tbody.tdhistory706275 tr:nth-child(odd) { background: var(--jp-ui-inverse-font-color1) !important; }\n",
       "      td.tdhistory706275 { border: 1px solid rgb(207, 207, 207) !important; border-collapse: collapse !important; ; padding: 2px 5px !important; ; font-size: 13px !important; ; text-align: left !important;          white-space: nowrap !important; overflow:hidden !important; text-overflow:ellipsis !important;; }\n",
       "    </style><thead><tr style= \"background: rgba(243, 243, 243, 0.75)\"><th class=\"tdhistory706275\"></th><th class=\"tdhistory706275\">SeqNum</th><th class=\"tdhistory706275\">Metric</th><th class=\"tdhistory706275\">MetricValue</th></tr></thead><tbody class=\"tdhistory706275 resultset-body\"><tr><th class=\"tdhistory706275\" style= \"background: rgba(243, 243, 243, 0.75)\">1</th><td class=\"tdhistory706275\">1</td><td class=\"tdhistory706275\">Accuracy\u0000\u0000\u0000\u0000\u0000\u0000\u0000\u0000\u0000\u0000\u0000\u0000\u0000\u0000\u0000\u0000\u0000\u0000\u0000\u0000\u0000\u0000\u0000\u0000\u0000\u0000\u0000\u0000\u0000\u0000\u0000\u0000\u0000\u0000\u0000\u0000\u0000\u0000\u0000\u0000\u0000\u0000</td><td class=\"tdhistory706275\">0.751645691647873</td></tr><tr><th class=\"tdhistory706275\" style= \"background: rgba(243, 243, 243, 0.75)\">2</th><td class=\"tdhistory706275\">2</td><td class=\"tdhistory706275\">Micro-Precision\u0000\u0000\u0000\u0000\u0000\u0000\u0000\u0000\u0000\u0000\u0000\u0000\u0000\u0000\u0000\u0000\u0000\u0000\u0000\u0000\u0000\u0000\u0000\u0000\u0000\u0000\u0000\u0000\u0000\u0000\u0000\u0000\u0000\u0000\u0000</td><td class=\"tdhistory706275\">0.751645691647873</td></tr><tr><th class=\"tdhistory706275\" style= \"background: rgba(243, 243, 243, 0.75)\">3</th><td class=\"tdhistory706275\">3</td><td class=\"tdhistory706275\">Micro-Recall\u0000\u0000\u0000\u0000\u0000\u0000\u0000\u0000\u0000\u0000\u0000\u0000\u0000\u0000\u0000\u0000\u0000\u0000\u0000\u0000\u0000\u0000\u0000\u0000\u0000\u0000\u0000\u0000\u0000\u0000\u0000\u0000\u0000\u0000\u0000\u0000\u0000\u0000</td><td class=\"tdhistory706275\">0.751645691647873</td></tr><tr><th class=\"tdhistory706275\" style= \"background: rgba(243, 243, 243, 0.75)\">4</th><td class=\"tdhistory706275\">4</td><td class=\"tdhistory706275\">Micro-F1\u0000\u0000\u0000\u0000\u0000\u0000\u0000\u0000\u0000\u0000\u0000\u0000\u0000\u0000\u0000\u0000\u0000\u0000\u0000\u0000\u0000\u0000\u0000\u0000\u0000\u0000\u0000\u0000\u0000\u0000\u0000\u0000\u0000\u0000\u0000\u0000\u0000\u0000\u0000\u0000\u0000\u0000</td><td class=\"tdhistory706275\">0.751645691647873</td></tr><tr><th class=\"tdhistory706275\" style= \"background: rgba(243, 243, 243, 0.75)\">5</th><td class=\"tdhistory706275\">5</td><td class=\"tdhistory706275\">Macro-Precision\u0000\u0000\u0000\u0000\u0000\u0000\u0000\u0000\u0000\u0000\u0000\u0000\u0000\u0000\u0000\u0000\u0000\u0000\u0000\u0000\u0000\u0000\u0000\u0000\u0000\u0000\u0000\u0000\u0000\u0000\u0000\u0000\u0000\u0000\u0000</td><td class=\"tdhistory706275\">0.5006745110734828</td></tr><tr><th class=\"tdhistory706275\" style= \"background: rgba(243, 243, 243, 0.75)\">6</th><td class=\"tdhistory706275\">6</td><td class=\"tdhistory706275\">Macro-Recall\u0000\u0000\u0000\u0000\u0000\u0000\u0000\u0000\u0000\u0000\u0000\u0000\u0000\u0000\u0000\u0000\u0000\u0000\u0000\u0000\u0000\u0000\u0000\u0000\u0000\u0000\u0000\u0000\u0000\u0000\u0000\u0000\u0000\u0000\u0000\u0000\u0000\u0000</td><td class=\"tdhistory706275\">0.48253751907708153</td></tr><tr><th class=\"tdhistory706275\" style= \"background: rgba(243, 243, 243, 0.75)\">7</th><td class=\"tdhistory706275\">7</td><td class=\"tdhistory706275\">Macro-F1\u0000\u0000\u0000\u0000\u0000\u0000\u0000\u0000\u0000\u0000\u0000\u0000\u0000\u0000\u0000\u0000\u0000\u0000\u0000\u0000\u0000\u0000\u0000\u0000\u0000\u0000\u0000\u0000\u0000\u0000\u0000\u0000\u0000\u0000\u0000\u0000\u0000\u0000\u0000\u0000\u0000\u0000</td><td class=\"tdhistory706275\">0.48937523502413915</td></tr><tr><th class=\"tdhistory706275\" style= \"background: rgba(243, 243, 243, 0.75)\">8</th><td class=\"tdhistory706275\">8</td><td class=\"tdhistory706275\">Weighted-Precision\u0000\u0000\u0000\u0000\u0000\u0000\u0000\u0000\u0000\u0000\u0000\u0000\u0000\u0000\u0000\u0000\u0000\u0000\u0000\u0000\u0000\u0000\u0000\u0000\u0000\u0000\u0000\u0000\u0000\u0000\u0000\u0000</td><td class=\"tdhistory706275\">0.7600696796346277</td></tr><tr><th class=\"tdhistory706275\" style= \"background: rgba(243, 243, 243, 0.75)\">9</th><td class=\"tdhistory706275\">9</td><td class=\"tdhistory706275\">Weighted-Recall\u0000\u0000\u0000\u0000\u0000\u0000\u0000\u0000\u0000\u0000\u0000\u0000\u0000\u0000\u0000\u0000\u0000\u0000\u0000\u0000\u0000\u0000\u0000\u0000\u0000\u0000\u0000\u0000\u0000\u0000\u0000\u0000\u0000\u0000\u0000</td><td class=\"tdhistory706275\">0.751645691647873</td></tr><tr><th class=\"tdhistory706275\" style= \"background: rgba(243, 243, 243, 0.75)\">10</th><td class=\"tdhistory706275\">10</td><td class=\"tdhistory706275\">Weighted-F1\u0000\u0000\u0000\u0000\u0000\u0000\u0000\u0000\u0000\u0000\u0000\u0000\u0000\u0000\u0000\u0000\u0000\u0000\u0000\u0000\u0000\u0000\u0000\u0000\u0000\u0000\u0000\u0000\u0000\u0000\u0000\u0000\u0000\u0000\u0000\u0000\u0000\u0000\u0000</td><td class=\"tdhistory706275\">0.755047880457828</td></tr></tbody></table></div>"
      ]
     },
     "execution_count": 17,
     "metadata": {
      "application/vnd.teradata.resultset": "{\"resultSetID\":\"/home/jovyan/Teradata/Resultsets/2022.09.01_17.39.11.308_UTC\",\"historyID\":1603,\"chunkID\":\"00001\",\"sessionid\":\"\",\"portnum\":\"\",\"dockermode\":\"appcenter\",\"totalRowCount\":10,\"chunkCount\":0,\"rowLimit\":0,\"columnMetadata\":[{\"columnName\":\"SeqNum\",\"columnTypeName\":\"INTEGER\"},{\"columnNumber\":1,\"columnName\":\"Metric\",\"columnTypeName\":\"VARCHAR\",\"length\":30,\"scale\":30},{\"columnNumber\":2,\"columnName\":\"MetricValue\",\"columnTypeName\":\"FLOAT\"}]}"
     },
     "output_type": "execute_result"
    }
   ],
   "source": [
    "select * from additional_metrics_labels order by 1,2,3;"
   ]
  },
  {
   "cell_type": "markdown",
   "id": "41657143",
   "metadata": {},
   "source": [
    "<hr>\n",
    "<p style = 'font-size:18px;font-family:Arial;color:#E37C4D'>3.3 Create a Numeric value of sentiment polarity and strength to compare with author rating value</p>\n",
    "\n",
    "<p style = 'font-size:16px;font-family:Arial'>For another method of comparison, let's assume the calculated sentiment polarity and score can be combined to create a ratings value.  Positive and Negative polarity can score 1 or 2 in 'strength', and Neutral has a 0 strength value.</p>\n"
   ]
  },
  {
   "cell_type": "code",
   "execution_count": 15,
   "id": "d1835e68",
   "metadata": {},
   "outputs": [
    {
     "data": {
      "application/vnd.teradata.resultset": "\"Id\",\"polarity\",\"sentiment_score\",\"calculated_rating\",\"author_rating\"\n\"492506\",\"POS\",\"2\",\"5\",\"5\"\n\"432071\",\"POS\",\"2\",\"5\",\"5\"\n\"406785\",\"POS\",\"2\",\"5\",\"5\"\n\"149167\",\"NEU\",\"0\",\"3\",\"1\"\n\"298334\",\"POS\",\"2\",\"5\",\"4\"",
      "text/html": [
       "<div class = \"td-resultset-table-div\" style = \"max-height: 100%; overflow-y: auto\">\n",
       "      <table class=\"tdhistory347113\"><style>\n",
       "      table.tdhistory347113 { display: block !important; min-height: 189px !important; overflow: auto !important; height: 189px !important; width: 100% !important; border: 1px solid rgb(207, 207, 207) !important; border-collapse: collapse !important; ; color: var(--jp-ui-font-color1) !important; }\n",
       "      th.tdhistory347113 { border: 1px solid rgb(198,198,198) !important; border-collapse: collapse !important; ; padding: 2px 5px !important; ; font-size: 13px !important; ; text-align: center !important; white-space: normal !important; color: var(--jp-ui-font-color1) !important; }\n",
       "      th.tdhistory347113:last-child { text-align: left !important; }\n",
       "      tbody.tdhistory347113 tr:nth-child(even) { background: rgba(243, 243, 243, 0.75) !important; }\n",
       "      tbody.tdhistory347113 tr:nth-child(odd) { background: var(--jp-ui-inverse-font-color1) !important; }\n",
       "      td.tdhistory347113 { border: 1px solid rgb(207, 207, 207) !important; border-collapse: collapse !important; ; padding: 2px 5px !important; ; font-size: 13px !important; ; text-align: left !important;          white-space: nowrap !important; overflow:hidden !important; text-overflow:ellipsis !important;; }\n",
       "    </style><thead><tr style= \"background: rgba(243, 243, 243, 0.75)\"><th class=\"tdhistory347113\"></th><th class=\"tdhistory347113\">Id</th><th class=\"tdhistory347113\">polarity</th><th class=\"tdhistory347113\">sentiment_score</th><th class=\"tdhistory347113\">calculated_rating</th><th class=\"tdhistory347113\">author_rating</th></tr></thead><tbody class=\"tdhistory347113 resultset-body\"><tr><th class=\"tdhistory347113\" style= \"background: rgba(243, 243, 243, 0.75)\">1</th><td class=\"tdhistory347113\">492506</td><td class=\"tdhistory347113\">POS</td><td class=\"tdhistory347113\">2</td><td class=\"tdhistory347113\">5</td><td class=\"tdhistory347113\">5</td></tr><tr><th class=\"tdhistory347113\" style= \"background: rgba(243, 243, 243, 0.75)\">2</th><td class=\"tdhistory347113\">432071</td><td class=\"tdhistory347113\">POS</td><td class=\"tdhistory347113\">2</td><td class=\"tdhistory347113\">5</td><td class=\"tdhistory347113\">5</td></tr><tr><th class=\"tdhistory347113\" style= \"background: rgba(243, 243, 243, 0.75)\">3</th><td class=\"tdhistory347113\">406785</td><td class=\"tdhistory347113\">POS</td><td class=\"tdhistory347113\">2</td><td class=\"tdhistory347113\">5</td><td class=\"tdhistory347113\">5</td></tr><tr><th class=\"tdhistory347113\" style= \"background: rgba(243, 243, 243, 0.75)\">4</th><td class=\"tdhistory347113\">149167</td><td class=\"tdhistory347113\">NEU</td><td class=\"tdhistory347113\">0</td><td class=\"tdhistory347113\">3</td><td class=\"tdhistory347113\">1</td></tr><tr><th class=\"tdhistory347113\" style= \"background: rgba(243, 243, 243, 0.75)\">5</th><td class=\"tdhistory347113\">298334</td><td class=\"tdhistory347113\">POS</td><td class=\"tdhistory347113\">2</td><td class=\"tdhistory347113\">5</td><td class=\"tdhistory347113\">4</td></tr></tbody></table></div>"
      ]
     },
     "execution_count": 15,
     "metadata": {
      "application/vnd.teradata.resultset": "{\"resultSetID\":\"/home/jovyan/JupyterLabRoot/Teradata/Resultsets/2023.01.24_06.03.30.493_UTC\",\"historyID\":254,\"chunkID\":\"00001\",\"sessionid\":\"\",\"portnum\":\"\",\"dockermode\":\"docker\",\"totalRowCount\":5,\"chunkCount\":0,\"rowLimit\":0,\"columnMetadata\":[{\"columnName\":\"Id\",\"columnTypeName\":\"INTEGER\"},{\"columnNumber\":1,\"columnName\":\"polarity\",\"columnTypeName\":\"VARCHAR\",\"length\":8,\"scale\":8},{\"columnNumber\":2,\"columnName\":\"sentiment_score\",\"columnTypeName\":\"INTEGER\"},{\"columnNumber\":3,\"columnName\":\"calculated_rating\",\"columnTypeName\":\"INTEGER\"},{\"columnNumber\":4,\"columnName\":\"author_rating\",\"columnTypeName\":\"VARCHAR\",\"length\":1,\"scale\":1}]}"
     },
     "output_type": "execute_result"
    }
   ],
   "source": [
    "SELECT TOP 5 id, polarity, sentiment_score,\n",
    "    CASE polarity \n",
    "        WHEN 'POS' THEN sentiment_score+3\n",
    "        WHEN 'NEG' THEN ABS(sentiment_score-3)\n",
    "        WHEN 'NEU' THEN 3\n",
    "    END AS calculated_rating,\n",
    "    Score as author_rating\n",
    "FROM (SELECT * FROM TD_SentimentExtractor (\n",
    "        ON \"DEMO_FoodReviews\".\"FINE_FOOD_REVIEWS\" AS INPUTTABLE PARTITION BY ANY\n",
    "    USING\n",
    "    TextColumn ('ReviewText')\n",
    "    AnalysisType ('DOCUMENT')\n",
    "    Accumulate('id','ReviewText','Score') --retain the original columns\n",
    "    )as dt) se"
   ]
  },
  {
   "cell_type": "code",
   "execution_count": 205,
   "id": "eddc11dd",
   "metadata": {},
   "outputs": [
    {
     "ename": "ERROR",
     "evalue": "Unable to run SQL: Unable to run SQL query: Database reported error:3807:Object 'ratings_comparison' does not exist.",
     "output_type": "error",
     "traceback": [
      "Unable to run SQL: Unable to run SQL query: Database reported error:3807:Object 'ratings_comparison' does not exist."
     ]
    }
   ],
   "source": [
    "/*\n",
    "DROP TABLE ratings_comparison\n",
    "*/"
   ]
  },
  {
   "cell_type": "code",
   "execution_count": 17,
   "id": "c93f1874",
   "metadata": {},
   "outputs": [
    {
     "data": {
      "text/plain": [
       "Success: 0 rows affected"
      ]
     },
     "execution_count": 17,
     "metadata": {
      "application/vnd.teradata.resultset": ""
     },
     "output_type": "execute_result"
    }
   ],
   "source": [
    "\n",
    "CREATE TABLE ratings_comparison AS (\n",
    "    SELECT id, polarity, sentiment_score,\n",
    "    CASE polarity \n",
    "        WHEN 'POS' THEN sentiment_score+3\n",
    "        WHEN 'NEG' THEN ABS(sentiment_score-3)\n",
    "        WHEN 'NEU' THEN 3\n",
    "    END AS calculated_rating,\n",
    "    Score as author_rating\n",
    "FROM (SELECT * FROM TD_SentimentExtractor (\n",
    "        ON \"DEMO_FoodReviews\".\"FINE_FOOD_REVIEWS\" AS INPUTTABLE PARTITION BY ANY\n",
    "    USING\n",
    "    TextColumn ('ReviewText')\n",
    "    AnalysisType ('DOCUMENT')\n",
    "    Accumulate('id','ReviewText','Score') --retain the original columns\n",
    "    )as dt) se\n",
    ") WITH DATA\n"
   ]
  },
  {
   "cell_type": "markdown",
   "id": "6173f6d9",
   "metadata": {},
   "source": [
    "<hr>\n",
    "<p style = 'font-size:18px;font-family:Arial;color:#E37C4D'>3.4 Visualize the results</p>\n",
    "\n",
    "<p style = 'font-size:16px;font-family:Arial'>Aggregate and union the data to create an unpivoted table that can be easily charted.</p>"
   ]
  },
  {
   "cell_type": "code",
   "execution_count": 18,
   "id": "180acd9c",
   "metadata": {},
   "outputs": [
    {
     "data": {
      "application/vnd.teradata.resultset": "\"rating\",\"CountOfValues\",\"rating_type\"\n\"1                             \",\"46910\",\"calc\"\n\"1                             \",\"52268\",\"author\"\n\"2                             \",\"20716\",\"calc\"\n\"2                             \",\"29769\",\"author\"\n\"3                             \",\"42640\",\"author\"\n\"3                             \",\"55587\",\"calc\"\n\"4                             \",\"37115\",\"calc\"\n\"4                             \",\"80655\",\"author\"\n\"5                             \",\"363122\",\"author\"\n\"5                             \",\"408126\",\"calc\"",
      "text/html": [
       "<div class = \"td-resultset-table-div\" style = \"max-height: 100%; overflow-y: auto\">\n",
       "      <table class=\"tdhistory165977\"><style>\n",
       "      table.tdhistory165977 { display: block !important; min-height: 294px !important; overflow: auto !important; height: 294px !important; width: 100% !important; border: 1px solid rgb(207, 207, 207) !important; border-collapse: collapse !important; ; color: var(--jp-ui-font-color1) !important; }\n",
       "      th.tdhistory165977 { border: 1px solid rgb(198,198,198) !important; border-collapse: collapse !important; ; padding: 2px 5px !important; ; font-size: 13px !important; ; text-align: center !important; white-space: normal !important; color: var(--jp-ui-font-color1) !important; }\n",
       "      th.tdhistory165977:last-child { text-align: left !important; }\n",
       "      tbody.tdhistory165977 tr:nth-child(even) { background: rgba(243, 243, 243, 0.75) !important; }\n",
       "      tbody.tdhistory165977 tr:nth-child(odd) { background: var(--jp-ui-inverse-font-color1) !important; }\n",
       "      td.tdhistory165977 { border: 1px solid rgb(207, 207, 207) !important; border-collapse: collapse !important; ; padding: 2px 5px !important; ; font-size: 13px !important; ; text-align: left !important;          white-space: nowrap !important; overflow:hidden !important; text-overflow:ellipsis !important;; }\n",
       "    </style><thead><tr style= \"background: rgba(243, 243, 243, 0.75)\"><th class=\"tdhistory165977\"></th><th class=\"tdhistory165977\">rating</th><th class=\"tdhistory165977\">CountOfValues</th><th class=\"tdhistory165977\">rating_type</th></tr></thead><tbody class=\"tdhistory165977 resultset-body\"><tr><th class=\"tdhistory165977\" style= \"background: rgba(243, 243, 243, 0.75)\">1</th><td class=\"tdhistory165977\">1                             </td><td class=\"tdhistory165977\">46910</td><td class=\"tdhistory165977\">calc</td></tr><tr><th class=\"tdhistory165977\" style= \"background: rgba(243, 243, 243, 0.75)\">2</th><td class=\"tdhistory165977\">1                             </td><td class=\"tdhistory165977\">52268</td><td class=\"tdhistory165977\">author</td></tr><tr><th class=\"tdhistory165977\" style= \"background: rgba(243, 243, 243, 0.75)\">3</th><td class=\"tdhistory165977\">2                             </td><td class=\"tdhistory165977\">20716</td><td class=\"tdhistory165977\">calc</td></tr><tr><th class=\"tdhistory165977\" style= \"background: rgba(243, 243, 243, 0.75)\">4</th><td class=\"tdhistory165977\">2                             </td><td class=\"tdhistory165977\">29769</td><td class=\"tdhistory165977\">author</td></tr><tr><th class=\"tdhistory165977\" style= \"background: rgba(243, 243, 243, 0.75)\">5</th><td class=\"tdhistory165977\">3                             </td><td class=\"tdhistory165977\">42640</td><td class=\"tdhistory165977\">author</td></tr><tr><th class=\"tdhistory165977\" style= \"background: rgba(243, 243, 243, 0.75)\">6</th><td class=\"tdhistory165977\">3                             </td><td class=\"tdhistory165977\">55587</td><td class=\"tdhistory165977\">calc</td></tr><tr><th class=\"tdhistory165977\" style= \"background: rgba(243, 243, 243, 0.75)\">7</th><td class=\"tdhistory165977\">4                             </td><td class=\"tdhistory165977\">37115</td><td class=\"tdhistory165977\">calc</td></tr><tr><th class=\"tdhistory165977\" style= \"background: rgba(243, 243, 243, 0.75)\">8</th><td class=\"tdhistory165977\">4                             </td><td class=\"tdhistory165977\">80655</td><td class=\"tdhistory165977\">author</td></tr><tr><th class=\"tdhistory165977\" style= \"background: rgba(243, 243, 243, 0.75)\">9</th><td class=\"tdhistory165977\">5                             </td><td class=\"tdhistory165977\">363122</td><td class=\"tdhistory165977\">author</td></tr><tr><th class=\"tdhistory165977\" style= \"background: rgba(243, 243, 243, 0.75)\">10</th><td class=\"tdhistory165977\">5                             </td><td class=\"tdhistory165977\">408126</td><td class=\"tdhistory165977\">calc</td></tr></tbody></table></div>"
      ]
     },
     "execution_count": 18,
     "metadata": {
      "application/vnd.teradata.resultset": "{\"resultSetID\":\"/home/jovyan/JupyterLabRoot/Teradata/Resultsets/2023.01.24_06.10.41.810_UTC\",\"historyID\":257,\"chunkID\":\"00001\",\"sessionid\":\"\",\"portnum\":\"\",\"dockermode\":\"docker\",\"totalRowCount\":10,\"chunkCount\":0,\"rowLimit\":0,\"columnMetadata\":[{\"columnName\":\"rating\",\"columnTypeName\":\"CHAR\",\"length\":10,\"scale\":10},{\"columnNumber\":1,\"columnName\":\"CountOfValues\",\"columnTypeName\":\"INTEGER\"},{\"columnNumber\":2,\"columnName\":\"rating_type\",\"columnTypeName\":\"VARCHAR\",\"length\":6,\"scale\":6}]}"
     },
     "output_type": "execute_result"
    }
   ],
   "source": [
    "SELECT CAST(author_rating as CHAR(10)) as rating, count(author_rating) as CountOfValues, 'author' as rating_type\n",
    "FROM (\n",
    "    SELECT id, polarity, sentiment_score,\n",
    "    CASE polarity \n",
    "        WHEN 'POS' THEN sentiment_score+3\n",
    "        WHEN 'NEG' THEN ABS(sentiment_score-3)\n",
    "        WHEN 'NEU' THEN 3\n",
    "    END AS calculated_rating,\n",
    "    Score as author_rating\n",
    "FROM (SELECT * FROM TD_SentimentExtractor (\n",
    "        ON \"DEMO_FoodReviews\".\"FINE_FOOD_REVIEWS\" AS INPUTTABLE PARTITION BY ANY\n",
    "    USING\n",
    "    TextColumn ('ReviewText')\n",
    "    AnalysisType ('DOCUMENT')\n",
    "    Accumulate('id','ReviewText','Score') --retain the original columns\n",
    "    )as dt) se) du\n",
    "GROUP BY 1 \n",
    "\n",
    "UNION\n",
    "\n",
    "SELECT CAST(calculated_rating as CHAR(10)) as rating, count(calculated_rating) as CountOfValues, 'calc' as rating_type\n",
    "FROM (\n",
    "    SELECT id, polarity, sentiment_score,\n",
    "    CASE polarity \n",
    "        WHEN 'POS' THEN sentiment_score+3\n",
    "        WHEN 'NEG' THEN ABS(sentiment_score-3)\n",
    "        WHEN 'NEU' THEN 3\n",
    "    END AS calculated_rating,\n",
    "    Score as author_rating\n",
    "FROM (SELECT * FROM TD_SentimentExtractor (\n",
    "        ON \"DEMO_FoodReviews\".\"FINE_FOOD_REVIEWS\" AS INPUTTABLE PARTITION BY ANY\n",
    "    USING\n",
    "    TextColumn ('ReviewText')\n",
    "    AnalysisType ('DOCUMENT')\n",
    "    Accumulate('id','ReviewText','Score') --retain the original columns\n",
    "    )as dt) se) du\n",
    "GROUP BY 1 "
   ]
  },
  {
   "cell_type": "code",
   "execution_count": 19,
   "id": "76b1b5f6",
   "metadata": {},
   "outputs": [
    {
     "data": {
      "application/vnd.vegalite.v3+json": {
       "$schema": "https://vega.github.io/schema/vega-lite/v3.json",
       "data": {
        "format": {
         "type": "csv"
        },
        "values": "\"rating\",\"CountOfValues\",\"rating_type\"\n\"1                             \",\"46910\",\"calc\"\n\"1                             \",\"52268\",\"author\"\n\"2                             \",\"20716\",\"calc\"\n\"2                             \",\"29769\",\"author\"\n\"3                             \",\"42640\",\"author\"\n\"3                             \",\"55587\",\"calc\"\n\"4                             \",\"37115\",\"calc\"\n\"4                             \",\"80655\",\"author\"\n\"5                             \",\"363122\",\"author\"\n\"5                             \",\"408126\",\"calc\"\n"
       },
       "encoding": {
        "color": {
         "field": "rating_type",
         "type": "nominal"
        },
        "x": {
         "axis": {
          "grid": true,
          "title": "rating"
         },
         "field": "rating",
         "type": "nominal"
        },
        "y": {
         "axis": {
          "grid": true,
          "title": "CountOfValues"
         },
         "field": "CountOfValues",
         "type": "quantitative"
        }
       },
       "height": "500",
       "mark": {
        "color": "#4C78A8",
        "type": "line"
       },
       "title": "Distribuition of Ratings",
       "width": "500"
      },
      "image/png": "[encoded data removed]"
     },
     "execution_count": 19,
     "metadata": {
      "application/vnd.teradata.resultset": ""
     },
     "output_type": "execute_result"
    }
   ],
   "source": [
    "%chart x=rating, y=CountOfValues, groupingcol=rating_type, mark=line, title=Distribuition of Ratings, height=500, width=500"
   ]
  },
  {
   "cell_type": "markdown",
   "id": "67712a67",
   "metadata": {},
   "source": [
    "\n",
    "<p style = 'font-size:18px;font-family:Arial;color:#E37C4D'>An observation</p>\n",
    "\n",
    "<p style = 'font-size:16px;font-family:Arial'>Overlaying the calculated rating on top of the author rating shows an interesting potential conclusion at the most positive of ratings - the calculation <b>over</b>estimates ratings of five, but <b>under</b>estimates ratings of four.  Could this be due to natural resistance to rating things the 'best' even though they use very positive language?</p>\n",
    "\n",
    "<p style = 'font-size:16px;font-family:Arial'>Another possible question to ponder on the other side of this; are users more willing to give a lower rating value, but moderate their language in their review?</p>"
   ]
  },
  {
   "cell_type": "code",
   "execution_count": 20,
   "id": "bdb3a5bd",
   "metadata": {},
   "outputs": [
    {
     "data": {
      "text/plain": [
       "Success: 19 rows affected"
      ]
     },
     "execution_count": 20,
     "metadata": {
      "application/vnd.teradata.resultset": ""
     },
     "output_type": "execute_result"
    }
   ],
   "source": [
    "--Clean up all the tables we created above, except for the reviews table\n",
    "DROP TABLE ratings_comparison"
   ]
  },
  {
   "cell_type": "code",
   "execution_count": 21,
   "id": "acb0dac3",
   "metadata": {},
   "outputs": [
    {
     "ename": "ERROR",
     "evalue": "Unable to run SQL: Unable to run SQL query: Database reported error:3807:Object 'SentimentExtractor_output' does not exist.",
     "output_type": "error",
     "traceback": [
      "Unable to run SQL: Unable to run SQL query: Database reported error:3807:Object 'SentimentExtractor_output' does not exist."
     ]
    }
   ],
   "source": [
    "DROP TABLE SentimentExtractor_output"
   ]
  },
  {
   "cell_type": "code",
   "execution_count": 22,
   "id": "dad7f51c",
   "metadata": {},
   "outputs": [
    {
     "data": {
      "text/plain": [
       "Success: 0 rows affected"
      ]
     },
     "execution_count": 22,
     "metadata": {
      "application/vnd.teradata.resultset": ""
     },
     "output_type": "execute_result"
    }
   ],
   "source": [
    "DROP TABLE additional_metrics_labels"
   ]
  },
  {
   "cell_type": "markdown",
   "id": "cdd3abf9-585e-43fe-90d8-747c8b6ae3b1",
   "metadata": {},
   "source": [
    "<p style = 'font-size:20px;font-family:Arial;color:#E37C4D'> <b>9. CleanUp </b></p>\n",
    "<p style = 'font-size:16px;font-family:Arial'>The following code will clean up tables and databases created above.</p>"
   ]
  },
  {
   "cell_type": "code",
   "execution_count": 23,
   "id": "04bb4d32-d4d8-4cee-8d5f-0e811e052656",
   "metadata": {},
   "outputs": [
    {
     "data": {
      "text/plain": [
       "Success: 0 rows affected"
      ]
     },
     "execution_count": 23,
     "metadata": {
      "application/vnd.teradata.resultset": ""
     },
     "output_type": "execute_result"
    },
    {
     "data": {
      "text/plain": [
       "Success: 0 rows affected"
      ]
     },
     "execution_count": 23,
     "metadata": {
      "application/vnd.teradata.resultset": ""
     },
     "output_type": "execute_result"
    },
    {
     "data": {
      "application/vnd.teradata.resultset": "\"Message\"\n\"Removed objects related to DEMO_FoodReviews. That ran for 0:00:04.18\"",
      "text/html": [
       "<div class = \"td-resultset-table-div\" style = \"max-height: 100%; overflow-y: auto\">\n",
       "      <table class=\"tdhistory529683\"><style>\n",
       "      table.tdhistory529683 { display: block !important; min-height: 105px !important; overflow: auto !important; height: 105px !important; width: 100% !important; border: 1px solid rgb(207, 207, 207) !important; border-collapse: collapse !important; ; color: var(--jp-ui-font-color1) !important; }\n",
       "      th.tdhistory529683 { border: 1px solid rgb(198,198,198) !important; border-collapse: collapse !important; ; padding: 2px 5px !important; ; font-size: 13px !important; ; text-align: center !important; white-space: normal !important; color: var(--jp-ui-font-color1) !important; }\n",
       "      th.tdhistory529683:last-child { text-align: left !important; }\n",
       "      tbody.tdhistory529683 tr:nth-child(even) { background: rgba(243, 243, 243, 0.75) !important; }\n",
       "      tbody.tdhistory529683 tr:nth-child(odd) { background: var(--jp-ui-inverse-font-color1) !important; }\n",
       "      td.tdhistory529683 { border: 1px solid rgb(207, 207, 207) !important; border-collapse: collapse !important; ; padding: 2px 5px !important; ; font-size: 13px !important; ; text-align: left !important;          white-space: nowrap !important; overflow:hidden !important; text-overflow:ellipsis !important;; }\n",
       "    </style><thead><tr style= \"background: rgba(243, 243, 243, 0.75)\"><th class=\"tdhistory529683\"></th><th class=\"tdhistory529683\">Message</th></tr></thead><tbody class=\"tdhistory529683 resultset-body\"><tr><th class=\"tdhistory529683\" style= \"background: rgba(243, 243, 243, 0.75)\">1</th><td class=\"tdhistory529683\">Removed objects related to DEMO_FoodReviews. That ran for 0:00:04.18</td></tr></tbody></table></div>"
      ]
     },
     "execution_count": 23,
     "metadata": {
      "application/vnd.teradata.resultset": "{\"resultSetID\":\"/home/jovyan/JupyterLabRoot/Teradata/Resultsets/2023.01.24_06.12.35.569_UTC\",\"historyID\":261,\"chunkID\":\"00001\",\"sessionid\":\"\",\"portnum\":\"\",\"dockermode\":\"docker\",\"totalRowCount\":1,\"chunkCount\":0,\"rowLimit\":0,\"columnMetadata\":[{\"columnName\":\"Message\",\"columnTypeName\":\"VARCHAR\",\"length\":70,\"scale\":70}]}"
     },
     "output_type": "execute_result"
    }
   ],
   "source": [
    "call remove_data('DEMO_FoodReviews');-- takes about 10 seconds, optional if you want to use the data later"
   ]
  },
  {
   "cell_type": "markdown",
   "id": "16693d8b",
   "metadata": {},
   "source": [
    "<footer style=\"padding:10px;background:#f9f9f9;border-bottom:3px solid #394851\">©2022 Teradata. All Rights Reserved</footer>"
   ]
  },
  {
   "cell_type": "code",
   "execution_count": null,
   "id": "aeea848c",
   "metadata": {},
   "outputs": [],
   "source": []
  }
 ],
 "metadata": {
  "kernelspec": {
   "display_name": "Teradata SQL",
   "language": "Teradata SQL",
   "name": "teradatasql"
  },
  "language_info": {
   "codemirror_mode": "Teradata SQL",
   "file_extension": ".tdrs",
   "mimetype": "application/vnd.teradata.resultset",
   "name": "Teradata SQL",
   "nbconvert_exporter": "",
   "pygments_lexer": "",
   "version": "16.20"
  },
  "toc-showmarkdowntxt": true
 },
 "nbformat": 4,
 "nbformat_minor": 5
}
