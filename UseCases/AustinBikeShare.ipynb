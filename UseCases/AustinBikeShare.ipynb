{
 "cells": [
  {
   "cell_type": "markdown",
   "metadata": {},
   "source": [
    "<header style=\"padding:1px;background:#f9f9f9;border-top:3px solid #00b2b1\"><img id=\"Teradata-logo\" src=\"https://www.teradata.com/Teradata/Images/Rebrand/Teradata_logo-two_color.png\" alt=\"Teradata\" width=\"220\" align=\"right\" />\n",
    "\n",
    "<b style = 'font-size:28px;font-family:Arial;color:#E37C4D'>Austin Bike Share</b>\n",
    "</header>"
   ]
  },
  {
   "cell_type": "markdown",
   "metadata": {},
   "source": [
    "<p style = 'font-size:16px;font-family:Arial'><b>Links:</b></p>\n",
    "<ul style = 'font-size:16px;font-family:Arial'>\n",
    "    <li>Information about Geospatial datatype can be found at: <a href = 'https://docs.teradata.com/r/Teradata-VantageTM-Geospatial-Data-Types/July-2021'>https://docs.teradata.com/r/Teradata-VantageTM-Geospatial-Data-Types/July-2021</a></li>\n",
    "    <li>Information about Temporal datatype can be found at: <a href = 'https://docs.teradata.com/r/Teradata-VantageTM-Temporal-Table-Support/July-2021'>https://docs.teradata.com/r/Teradata-VantageTM-Temporal-Table-Support/July-2021</a></li>\n",
    "</ul>\n",
    "\n",
    "<p style = 'font-size:16px;font-family:Arial'><b>Contents</b></p>\n",
    "<ol style = 'font-size:16px;font-family:Arial'>\n",
    "    <li>Connect to Teradata </li>\n",
    "    <li>Explore the data </li>\n",
    "    <li>Load local data </li>\n",
    "    <li>Create and Explore Temporal, Time index and Geospatial data </li>\n",
    "    <li>Clean up </li>\n",
    "<hr>"
   ]
  },
  {
   "cell_type": "markdown",
   "metadata": {},
   "source": [
    "<p style = 'font-size:18px;font-family:Arial;color:#E37C4D'><b>Experience</b></p>\n",
    "\n",
    "\n",
    "<p style = 'font-size:16px;font-family:Arial'>This demo takes about 15 minutes to run.</p>"
   ]
  },
  {
   "cell_type": "markdown",
   "metadata": {},
   "source": [
    "<b style = 'font-size:28px;font-family:Arial;color:#E37C4D'>1. Connect to Teradata</b>\n",
    "\n",
    "<p style = 'font-size:16px;font-family:Arial'>This is a Teradata SQL Kernel in Jupyter, but how do I connect to Teradata? What can I do?</p>\n",
    "<p style = 'font-size:16px;font-family:Arial'>Let's start by checking the main help page</p>"
   ]
  },
  {
   "cell_type": "code",
   "execution_count": 1,
   "metadata": {},
   "outputs": [
    {
     "data": {
      "text/markdown": [
       "#### %dataload\n",
       "Load a CSV file into a database table.\n",
       "\n",
       "%dataload database=&lt;DatabaseName&gt;, table=&lt;TableName&gt;, filepath=&lt;Path to CSV file&gt; [, batchsize=&lt;Rows per Batch&gt;]\n",
       "\n",
       "* The **filepath** is relative to the JupyterLab workspace (where JupyterLab was launched).\n",
       "* You can specify an absolute file path by starting the path with the OS specific directory notation.\n",
       "* **batchsize** specifies the number of rows per batch.\n",
       "  * Valid values are between 1 and 16383. The default value is 5000.\n",
       "* The maximum number of rows that the **%dataload** magic will load is currently set to 100,000 rows.  Loading will stop when the maximum is reached.\n",
       "* The data must be in the proper format to insert into the columns of your table. Specifically, data types must match and any data constraints must be met. \n",
       "No pre-processing of the data file is performed.\n",
       "* If an error occurs while attempting to load your data, the entire load operation will be rolled back. \n",
       "* The status of your dataload is stored in the Teradata SQL History."
      ]
     },
     "execution_count": 1,
     "metadata": {
      "application/vnd.teradata.resultset": "helpdata"
     },
     "output_type": "execute_result"
    }
   ],
   "source": [
    "%help dataload"
   ]
  },
  {
   "cell_type": "markdown",
   "metadata": {},
   "source": [
    "<p style = 'font-size:16px;font-family:Arial'>Ok, to connect I need to use %connect, so let's see what connections already exist with %lsconnect:</p>"
   ]
  },
  {
   "cell_type": "code",
   "execution_count": 2,
   "metadata": {},
   "outputs": [
    {
     "name": "stdout",
     "output_type": "stream",
     "text": [
      "Disconnected: NAME=Transcend-Production, USER=, HOST=tdprd.td.teradata.com, PROPS=\"logMech=JWT,logmech=JWT\"\n",
      "Disconnected: NAME=Transcend-Production-AWS, USER=, HOST=tdprd2.td.teradata.com, PROPS=\"logMech=JWT,logmech=JWT\"\n",
      "Disconnected: NAME=Vantage-LIVE, USER=, HOST=tdprd3.td.teradata.com, PROPS=\"logmech=JWT,logMech=JWT\"\n"
     ]
    }
   ],
   "source": [
    "%lsconnect"
   ]
  },
  {
   "cell_type": "markdown",
   "metadata": {},
   "source": [
    "<p style = 'font-size:16px;font-family:Arial'>Here is the help page for %connect</p>    "
   ]
  },
  {
   "cell_type": "code",
   "execution_count": 3,
   "metadata": {},
   "outputs": [
    {
     "data": {
      "text/markdown": [
       "#### %connect\n",
       "Connect to a Vantage system and/or make the connection active\n",
       "\n",
       "%connect | %%connect [name=]&lt;Connection Name&gt; [, user=&lt;User Name&gt;] [, database=&lt;Default Database&gt;] [, rowcount=&lt;Row Count&gt;] [, props=\"&lt;DB Properties&gt;\"]\n",
       "\t\t\t\t\n",
       "* **%connect** will make the named connection the active connection.\n",
       "* **%%connect** is a cell magic command and can be followed on a new line in the same cell by a SQL statement.\n",
       "  * The SQL statement must not be on the same line as the magic and it's parameters.\n",
       "  * This will set the connection used for this SQL statement but will not change the active connection.\n",
       "* **User Name** is required only if not already connected or if not using Single Sign-On.\n",
       "\t* A password is required only if not already connected or if not using Single Sign-On. A prompt will be displayed and the password can be entered in a hidden text field.\n",
       "* **database=\"&lt;Default Database&gt;\"** will set the default database for the connection. This will override the default database setting stored for the connection.\n",
       "\t* Executing the DATABASE SQL command statement will take precedence over the default database connection setting.\n",
       "* **%help currentdb** command will display the current database value.   \n",
       "* **rowcount** limits the number of rows displayed in the result set (e.g. rowcount=100).\n",
       "  * If **rowcount** is provided with the cell magic, it will only be applied to the result set returned for the cell SQL statement.\n",
       "* **%help rowcount** command will display the current rowcount value.\n",
       "* **props=\"&lt;DB Properties&gt;\"** is used to set or override certain supported connection properties. The supported properties are:\n",
       "\n",
       "| Property        | Default | Description\n",
       "|:----------------|:--------|:----------------------------------------------------------------\n",
       "| **account**     |         | Specifies the Teradata Database account.\n",
       "| **cop**         | true    | Specifies whether COP Discovery is performed.\n",
       "| **coplast**     | false   | Specifies how COP Discovery determines the last COP hostname.\n",
       "| **dbs_port**    | 1025    | Specifies the Teradata Database port number.\n",
       "| **encryptdata** | true    | Controls encryption of data to database.  It is not recommended to set this to false.\n",
       "| **log**         | 0       | Controls driver debug logging.\n",
       "| **logdata**     |         | Specifies extra data for the chosen logon authentication method.\n",
       "| **logmech**     | TD2     | Specifies the logon authentication method. Supported values are **TD2**,**LDAP**,**TDNEGO**.\n",
       "| **sip_support** | true    | Controls whether StatementInfo parcel is used.\n",
       "| **tmode**       | DEFAULT | Specifies the transaction mode. Possible values are **DEFAULT**, **ANSI**, or **TERA** (must be uppercase).\n",
       "\n",
       "For more detailed information on the supported properties see\n",
       "https://github.com/Teradata/jupyterextensions/blob/master/docs/CONNECTIONPARAMETERS.md\n",
       "\n",
       "* Multiple DB properties can be passed in a comma-separated list, e.g. props=\"encryptdata=false, tmode=ANSI\".\n",
       "* Use of any unsupported properties will be ignored or errors will be reported as appropriate.\n",
       "\n",
       "The **Connection Manager** can also be used to manage Teradata connections. The Connection Manager can be\n",
       "accessed from the left-hand, vertical toolbar, by selecting the Manage Teradata Connections icon. The Connection Manager will\n",
       "display the list of connections, with the option to **test** the connection. If you hover over a connection, the details for that connection are provided in a pop-up message.\n",
       "Options are also provided in the Connection Manager toolbar to **refresh** the list of connections."
      ]
     },
     "execution_count": 3,
     "metadata": {
      "application/vnd.teradata.resultset": "helpdata"
     },
     "output_type": "execute_result"
    }
   ],
   "source": [
    "%help connect"
   ]
  },
  {
   "cell_type": "markdown",
   "metadata": {},
   "source": [
    "<p style = 'font-size:16px;font-family:Arial'>Let's connect to our Teradata system</p>       "
   ]
  },
  {
   "cell_type": "code",
   "execution_count": 4,
   "metadata": {},
   "outputs": [
    {
     "name": "stdout",
     "output_type": "stream",
     "text": [
      "Success: 'Vantage-LIVE' connection established and activated for user 'nl186010'\n"
     ]
    }
   ],
   "source": [
    "%connect Vantage-LIVE"
   ]
  },
  {
   "cell_type": "markdown",
   "metadata": {},
   "source": [
    "<b style = 'font-size:28px;font-family:Arial;color:#E37C4D'>2. Explore the data</b>\n",
    "\n",
    "<p style = 'font-size:16px;font-family:Arial'>Let's see what tables we have in this demo DataLab</p>    "
   ]
  },
  {
   "cell_type": "markdown",
   "metadata": {},
   "source": [
    "Source: [Github Austin Bike Share Demo](https://consulting-github.teradata.com/Vantage-Demos/Demos/tree/master/AustinBikeShare)"
   ]
  },
  {
   "cell_type": "code",
   "execution_count": 5,
   "metadata": {},
   "outputs": [
    {
     "data": {
      "application/vnd.teradata.resultset": "\"DatabaseName\",\"TableName\"\n\"TRNG_AustinBikeShare                                        \",\"trips                                                       \"\n\"TRNG_AustinBikeShare                                        \",\"Weather                                                     \"\n\"TRNG_AustinBikeShare                                        \",\"stations                                                    \"\n\"TRNG_AustinBikeShare                                        \",\"weather_temporal                                            \"",
      "text/html": [
       "<div class = \"td-resultset-table-div\" style = \"max-height: 100%; overflow-y: auto\">\n",
       "      <table class=\"tdhistory481122\"><style>\n",
       "      table.tdhistory481122 { display: block !important; min-height: 168px !important; overflow: auto !important; height: 168px !important; width: 100% !important; border: 1px solid rgb(207, 207, 207) !important; border-collapse: collapse !important; ; color: var(--jp-ui-font-color1) !important; }\n",
       "      th.tdhistory481122 { border: 1px solid rgb(198,198,198) !important; border-collapse: collapse !important; ; padding: 2px 5px !important; ; font-size: 13px !important; ; text-align: center !important; white-space: normal !important; color: var(--jp-ui-font-color1) !important; }\n",
       "      th.tdhistory481122:last-child { text-align: left !important; }\n",
       "      tbody.tdhistory481122 tr:nth-child(even) { background: rgba(243, 243, 243, 0.75) !important; }\n",
       "      tbody.tdhistory481122 tr:nth-child(odd) { background: var(--jp-ui-inverse-font-color1) !important; }\n",
       "      td.tdhistory481122 { border: 1px solid rgb(207, 207, 207) !important; border-collapse: collapse !important; ; padding: 2px 5px !important; ; font-size: 13px !important; ; text-align: left !important;          white-space: nowrap !important; overflow:hidden !important; text-overflow:ellipsis !important;; }\n",
       "    </style><thead><tr style= \"background: rgba(243, 243, 243, 0.75)\"><th class=\"tdhistory481122\"></th><th class=\"tdhistory481122\">DatabaseName</th><th class=\"tdhistory481122\">TableName</th></tr></thead><tbody class=\"tdhistory481122 resultset-body\"><tr><th class=\"tdhistory481122\" style= \"background: rgba(243, 243, 243, 0.75)\">1</th><td class=\"tdhistory481122\">TRNG_AustinBikeShare                                        </td><td class=\"tdhistory481122\">trips                                                       </td></tr><tr><th class=\"tdhistory481122\" style= \"background: rgba(243, 243, 243, 0.75)\">2</th><td class=\"tdhistory481122\">TRNG_AustinBikeShare                                        </td><td class=\"tdhistory481122\">Weather                                                     </td></tr><tr><th class=\"tdhistory481122\" style= \"background: rgba(243, 243, 243, 0.75)\">3</th><td class=\"tdhistory481122\">TRNG_AustinBikeShare                                        </td><td class=\"tdhistory481122\">stations                                                    </td></tr><tr><th class=\"tdhistory481122\" style= \"background: rgba(243, 243, 243, 0.75)\">4</th><td class=\"tdhistory481122\">TRNG_AustinBikeShare                                        </td><td class=\"tdhistory481122\">weather_temporal                                            </td></tr></tbody></table></div>"
      ]
     },
     "execution_count": 5,
     "metadata": {
      "application/vnd.teradata.resultset": "{\"resultSetID\":\"/home/jovyan/Teradata/Resultsets/2022.04.07_10.10.49.086_UTC\",\"historyID\":1023,\"chunkID\":\"00001\",\"sessionid\":\"\",\"portnum\":\"\",\"dockermode\":\"appcenter\",\"totalRowCount\":4,\"chunkCount\":0,\"rowLimit\":0,\"columnMetadata\":[{\"columnName\":\"DatabaseName\",\"columnTypeName\":\"CHAR\",\"length\":30,\"scale\":30},{\"columnNumber\":1,\"columnName\":\"TableName\",\"columnTypeName\":\"CHAR\",\"length\":30,\"scale\":30}]}"
     },
     "output_type": "execute_result"
    }
   ],
   "source": [
    "SELECT \n",
    "    DatabaseName,\n",
    "    TableName\n",
    "FROM\n",
    "    DBC.Tables\n",
    "WHERE\n",
    "    DatabaseName = 'TRNG_AustinBikeShare'\n",
    "    AND TableKind='T'"
   ]
  },
  {
   "cell_type": "markdown",
   "metadata": {},
   "source": [
    "<p style = 'font-size:16px;font-family:Arial'>We can explore the tables manually as below, or start a new Teradata Navigator tab</p>    "
   ]
  },
  {
   "cell_type": "code",
   "execution_count": 6,
   "metadata": {},
   "outputs": [
    {
     "data": {
      "application/vnd.teradata.resultset": "\"bikeid\",\"checkout_time\",\"duration_minutes\",\"end_station_id\",\"end_station_name\",\"MONTH_NUM\",\"start_station_id\",\"start_station_name\",\"start_time\",\"subscriber_type\",\"trip_id\",\"YEAR_NUM\"\n\"283\",\"0:45:08\",\"6\",\"2542\",\"Plaza Saltillo\",\"11\",\"2571\",\"Red River & 8th Street\",\"2016-11-04 00:45:08.000000\",\"Local30\",\"12676850\",\"2016\"\n\"191\",\"14:12:00\",\"6\",\"2567\",\"Palmer Auditorium\",\"5\",\"2566\",\"Pfluger Bridge @ W 2nd Street\",\"2015-05-01 14:12:00.000000\",\"Walk Up\",\"9900139498\",\"2015\"\n\"134\",\"13:12:26\",\"69\",\"2569\",\"East 11th St. & San Marcos\",\"9\",\"2569\",\"East 11th St. & San Marcos\",\"2015-09-26 13:12:26.000000\",\"Walk Up\",\"9900263379\",\"2015\"\n\"411\",\"17:11:39\",\"79\",\"2494\",\"2nd & Congress\",\"10\",\"2494\",\"2nd & Congress\",\"2016-10-24 17:11:39.000000\",\"Walk Up\",\"12536268\",\"2016\"\n\"432\",\"13:12:00\",\"1\",\"2503\",\"South Congress & James\",\"2\",\"2503\",\"South Congress & James\",\"2014-02-15 13:12:00.000000\",\"24-Hour Kiosk (Austin B-cycle)\",\"9900024202\",\"2014\"\n\"680\",\"21:47:00\",\"18\",\"2707\",\"Rainey St @ Cummings\",\"8\",\"2575\",\"Riverside @ S. Lamar\",\"2016-08-03 21:47:00.000000\",\"Walk Up\",\"11255940\",\"2016\"\n\"576\",\"19:12:00\",\"29\",\"2537\",\"West & 6th St.\",\"7\",\"2547\",\"Guadalupe & 21st\",\"2015-07-03 19:12:00.000000\",\"Walk Up\",\"9900198655\",\"2015\"\n\"855\",\"23:42:56\",\"8\",\"3513\",\"South Congress & Barton Springs at the Austin American-Statesman\",\"1\",\"3390\",\"Brazos & 6th\",\"2017-01-20 23:42:56.000000\",\"Local365\",\"13498543\",\"2017\"\n\"663\",\"10:12:00\",\"39\",\"1002\",\"6th & Navasota St.\",\"4\",\"\",\"ACC - West & 12th\",\"2014-04-18 10:12:00.000000\",\"24-Hour Kiosk (Austin B-cycle)\",\"9900100060\",\"2014\"\n\"523\",\"22:12:00\",\"8\",\"\",\"Convention Center/ 3rd & Trinity\",\"10\",\"2502\",\"Barton Springs & Riverside\",\"2014-10-10 22:12:00.000000\",\"24-Hour Kiosk (Austin B-cycle)\",\"9900274513\",\"2014\"",
      "text/html": [
       "<div class = \"td-resultset-table-div\" style = \"max-height: 100%; overflow-y: auto\">\n",
       "      <table class=\"tdhistory683956\"><style>\n",
       "      table.tdhistory683956 { display: block !important; min-height: 294px !important; overflow: auto !important; height: 294px !important; width: 100% !important; border: 1px solid rgb(207, 207, 207) !important; border-collapse: collapse !important; ; color: var(--jp-ui-font-color1) !important; }\n",
       "      th.tdhistory683956 { border: 1px solid rgb(198,198,198) !important; border-collapse: collapse !important; ; padding: 2px 5px !important; ; font-size: 13px !important; ; text-align: center !important; white-space: normal !important; color: var(--jp-ui-font-color1) !important; }\n",
       "      th.tdhistory683956:last-child { text-align: left !important; }\n",
       "      tbody.tdhistory683956 tr:nth-child(even) { background: rgba(243, 243, 243, 0.75) !important; }\n",
       "      tbody.tdhistory683956 tr:nth-child(odd) { background: var(--jp-ui-inverse-font-color1) !important; }\n",
       "      td.tdhistory683956 { border: 1px solid rgb(207, 207, 207) !important; border-collapse: collapse !important; ; padding: 2px 5px !important; ; font-size: 13px !important; ; text-align: left !important;          white-space: nowrap !important; overflow:hidden !important; text-overflow:ellipsis !important;; }\n",
       "    </style><thead><tr style= \"background: rgba(243, 243, 243, 0.75)\"><th class=\"tdhistory683956\"></th><th class=\"tdhistory683956\">bikeid</th><th class=\"tdhistory683956\">checkout_time</th><th class=\"tdhistory683956\">duration_minutes</th><th class=\"tdhistory683956\">end_station_id</th><th class=\"tdhistory683956\">end_station_name</th><th class=\"tdhistory683956\">MONTH_NUM</th><th class=\"tdhistory683956\">start_station_id</th><th class=\"tdhistory683956\">start_station_name</th><th class=\"tdhistory683956\">start_time</th><th class=\"tdhistory683956\">subscriber_type</th><th class=\"tdhistory683956\">trip_id</th><th class=\"tdhistory683956\">YEAR_NUM</th></tr></thead><tbody class=\"tdhistory683956 resultset-body\"><tr><th class=\"tdhistory683956\" style= \"background: rgba(243, 243, 243, 0.75)\">1</th><td class=\"tdhistory683956\">283</td><td class=\"tdhistory683956\">0:45:08</td><td class=\"tdhistory683956\">6</td><td class=\"tdhistory683956\">2542</td><td class=\"tdhistory683956\">Plaza Saltillo</td><td class=\"tdhistory683956\">11</td><td class=\"tdhistory683956\">2571</td><td class=\"tdhistory683956\">Red River & 8th Street</td><td class=\"tdhistory683956\">2016-11-04 00:45:08.000000</td><td class=\"tdhistory683956\">Local30</td><td class=\"tdhistory683956\">12676850</td><td class=\"tdhistory683956\">2016</td></tr><tr><th class=\"tdhistory683956\" style= \"background: rgba(243, 243, 243, 0.75)\">2</th><td class=\"tdhistory683956\">191</td><td class=\"tdhistory683956\">14:12:00</td><td class=\"tdhistory683956\">6</td><td class=\"tdhistory683956\">2567</td><td class=\"tdhistory683956\">Palmer Auditorium</td><td class=\"tdhistory683956\">5</td><td class=\"tdhistory683956\">2566</td><td class=\"tdhistory683956\">Pfluger Bridge @ W 2nd Street</td><td class=\"tdhistory683956\">2015-05-01 14:12:00.000000</td><td class=\"tdhistory683956\">Walk Up</td><td class=\"tdhistory683956\">9900139498</td><td class=\"tdhistory683956\">2015</td></tr><tr><th class=\"tdhistory683956\" style= \"background: rgba(243, 243, 243, 0.75)\">3</th><td class=\"tdhistory683956\">134</td><td class=\"tdhistory683956\">13:12:26</td><td class=\"tdhistory683956\">69</td><td class=\"tdhistory683956\">2569</td><td class=\"tdhistory683956\">East 11th St. & San Marcos</td><td class=\"tdhistory683956\">9</td><td class=\"tdhistory683956\">2569</td><td class=\"tdhistory683956\">East 11th St. & San Marcos</td><td class=\"tdhistory683956\">2015-09-26 13:12:26.000000</td><td class=\"tdhistory683956\">Walk Up</td><td class=\"tdhistory683956\">9900263379</td><td class=\"tdhistory683956\">2015</td></tr><tr><th class=\"tdhistory683956\" style= \"background: rgba(243, 243, 243, 0.75)\">4</th><td class=\"tdhistory683956\">411</td><td class=\"tdhistory683956\">17:11:39</td><td class=\"tdhistory683956\">79</td><td class=\"tdhistory683956\">2494</td><td class=\"tdhistory683956\">2nd & Congress</td><td class=\"tdhistory683956\">10</td><td class=\"tdhistory683956\">2494</td><td class=\"tdhistory683956\">2nd & Congress</td><td class=\"tdhistory683956\">2016-10-24 17:11:39.000000</td><td class=\"tdhistory683956\">Walk Up</td><td class=\"tdhistory683956\">12536268</td><td class=\"tdhistory683956\">2016</td></tr><tr><th class=\"tdhistory683956\" style= \"background: rgba(243, 243, 243, 0.75)\">5</th><td class=\"tdhistory683956\">432</td><td class=\"tdhistory683956\">13:12:00</td><td class=\"tdhistory683956\">1</td><td class=\"tdhistory683956\">2503</td><td class=\"tdhistory683956\">South Congress & James</td><td class=\"tdhistory683956\">2</td><td class=\"tdhistory683956\">2503</td><td class=\"tdhistory683956\">South Congress & James</td><td class=\"tdhistory683956\">2014-02-15 13:12:00.000000</td><td class=\"tdhistory683956\">24-Hour Kiosk (Austin B-cycle)</td><td class=\"tdhistory683956\">9900024202</td><td class=\"tdhistory683956\">2014</td></tr><tr><th class=\"tdhistory683956\" style= \"background: rgba(243, 243, 243, 0.75)\">6</th><td class=\"tdhistory683956\">680</td><td class=\"tdhistory683956\">21:47:00</td><td class=\"tdhistory683956\">18</td><td class=\"tdhistory683956\">2707</td><td class=\"tdhistory683956\">Rainey St @ Cummings</td><td class=\"tdhistory683956\">8</td><td class=\"tdhistory683956\">2575</td><td class=\"tdhistory683956\">Riverside @ S. Lamar</td><td class=\"tdhistory683956\">2016-08-03 21:47:00.000000</td><td class=\"tdhistory683956\">Walk Up</td><td class=\"tdhistory683956\">11255940</td><td class=\"tdhistory683956\">2016</td></tr><tr><th class=\"tdhistory683956\" style= \"background: rgba(243, 243, 243, 0.75)\">7</th><td class=\"tdhistory683956\">576</td><td class=\"tdhistory683956\">19:12:00</td><td class=\"tdhistory683956\">29</td><td class=\"tdhistory683956\">2537</td><td class=\"tdhistory683956\">West & 6th St.</td><td class=\"tdhistory683956\">7</td><td class=\"tdhistory683956\">2547</td><td class=\"tdhistory683956\">Guadalupe & 21st</td><td class=\"tdhistory683956\">2015-07-03 19:12:00.000000</td><td class=\"tdhistory683956\">Walk Up</td><td class=\"tdhistory683956\">9900198655</td><td class=\"tdhistory683956\">2015</td></tr><tr><th class=\"tdhistory683956\" style= \"background: rgba(243, 243, 243, 0.75)\">8</th><td class=\"tdhistory683956\">855</td><td class=\"tdhistory683956\">23:42:56</td><td class=\"tdhistory683956\">8</td><td class=\"tdhistory683956\">3513</td><td class=\"tdhistory683956\">South Congress & Barton Springs at the Austin American-Statesman</td><td class=\"tdhistory683956\">1</td><td class=\"tdhistory683956\">3390</td><td class=\"tdhistory683956\">Brazos & 6th</td><td class=\"tdhistory683956\">2017-01-20 23:42:56.000000</td><td class=\"tdhistory683956\">Local365</td><td class=\"tdhistory683956\">13498543</td><td class=\"tdhistory683956\">2017</td></tr><tr><th class=\"tdhistory683956\" style= \"background: rgba(243, 243, 243, 0.75)\">9</th><td class=\"tdhistory683956\">663</td><td class=\"tdhistory683956\">10:12:00</td><td class=\"tdhistory683956\">39</td><td class=\"tdhistory683956\">1002</td><td class=\"tdhistory683956\">6th & Navasota St.</td><td class=\"tdhistory683956\">4</td><td class=\"tdhistory683956\"></td><td class=\"tdhistory683956\">ACC - West & 12th</td><td class=\"tdhistory683956\">2014-04-18 10:12:00.000000</td><td class=\"tdhistory683956\">24-Hour Kiosk (Austin B-cycle)</td><td class=\"tdhistory683956\">9900100060</td><td class=\"tdhistory683956\">2014</td></tr><tr><th class=\"tdhistory683956\" style= \"background: rgba(243, 243, 243, 0.75)\">10</th><td class=\"tdhistory683956\">523</td><td class=\"tdhistory683956\">22:12:00</td><td class=\"tdhistory683956\">8</td><td class=\"tdhistory683956\"></td><td class=\"tdhistory683956\">Convention Center/ 3rd & Trinity</td><td class=\"tdhistory683956\">10</td><td class=\"tdhistory683956\">2502</td><td class=\"tdhistory683956\">Barton Springs & Riverside</td><td class=\"tdhistory683956\">2014-10-10 22:12:00.000000</td><td class=\"tdhistory683956\">24-Hour Kiosk (Austin B-cycle)</td><td class=\"tdhistory683956\">9900274513</td><td class=\"tdhistory683956\">2014</td></tr></tbody></table></div>"
      ]
     },
     "execution_count": 6,
     "metadata": {
      "application/vnd.teradata.resultset": "{\"resultSetID\":\"/home/jovyan/Teradata/Resultsets/2022.04.07_10.10.49.304_UTC\",\"historyID\":1024,\"chunkID\":\"00001\",\"sessionid\":\"\",\"portnum\":\"\",\"dockermode\":\"appcenter\",\"totalRowCount\":10,\"chunkCount\":0,\"rowLimit\":0,\"columnMetadata\":[{\"columnName\":\"bikeid\",\"columnTypeName\":\"INTEGER\"},{\"columnNumber\":1,\"columnName\":\"checkout_time\",\"columnTypeName\":\"VARCHAR\",\"length\":50,\"scale\":50},{\"columnNumber\":2,\"columnName\":\"duration_minutes\",\"columnTypeName\":\"INTEGER\"},{\"columnNumber\":3,\"columnName\":\"end_station_id\",\"columnTypeName\":\"INTEGER\"},{\"columnNumber\":4,\"columnName\":\"end_station_name\",\"columnTypeName\":\"VARCHAR\",\"length\":100,\"scale\":100},{\"columnNumber\":5,\"columnName\":\"MONTH_NUM\",\"columnTypeName\":\"INTEGER\"},{\"columnNumber\":6,\"columnName\":\"start_station_id\",\"columnTypeName\":\"INTEGER\"},{\"columnNumber\":7,\"columnName\":\"start_station_name\",\"columnTypeName\":\"VARCHAR\",\"length\":100,\"scale\":100},{\"columnNumber\":8,\"columnName\":\"start_time\",\"columnTypeName\":\"TIMESTAMP\",\"length\":6,\"scale\":6},{\"columnNumber\":9,\"columnName\":\"subscriber_type\",\"columnTypeName\":\"VARCHAR\",\"length\":50,\"scale\":50},{\"columnNumber\":10,\"columnName\":\"trip_id\",\"columnTypeName\":\"BIGINT\"},{\"columnNumber\":11,\"columnName\":\"YEAR_NUM\",\"columnTypeName\":\"INTEGER\"}]}"
     },
     "output_type": "execute_result"
    }
   ],
   "source": [
    "SELECT\n",
    "    TOP 10\n",
    "    *\n",
    "FROM\n",
    "    TRNG_AustinBikeShare.trips"
   ]
  },
  {
   "cell_type": "markdown",
   "metadata": {},
   "source": [
    "<b style = 'font-size:28px;font-family:Arial;color:#E37C4D'>3.Load local data</b>\n",
    "\n",
    "<p style = 'font-size:16px;font-family:Arial'>Alternatively, we can load local data and prepare those tables</p>"
   ]
  },
  {
   "cell_type": "markdown",
   "metadata": {},
   "source": [
    "<p style = 'font-size:16px;font-family:Arial'>We will create a few tables in our personal database</p>    "
   ]
  },
  {
   "cell_type": "markdown",
   "metadata": {},
   "source": [
    "<p style = 'font-size:18px;font-family:Arial;color:#E37C4D'>Please change the database name according to your quicklook id</p>"
   ]
  },
  {
   "cell_type": "code",
   "execution_count": 7,
   "metadata": {},
   "outputs": [
    {
     "data": {
      "text/plain": [
       "Success: 1 rows affected"
      ]
     },
     "execution_count": 7,
     "metadata": {
      "application/vnd.teradata.resultset": ""
     },
     "output_type": "execute_result"
    }
   ],
   "source": [
    "DATABASE nl186010;"
   ]
  },
  {
   "cell_type": "markdown",
   "metadata": {},
   "source": [
    "<p style = 'font-size:18px;font-family:Arial;color:#E37C4D'><b>3.1 Load Stations data from local file (in Jupyter)</b></p>    "
   ]
  },
  {
   "cell_type": "code",
   "execution_count": 8,
   "metadata": {},
   "outputs": [
    {
     "data": {
      "text/plain": [
       "Success: 0 rows affected"
      ]
     },
     "execution_count": 8,
     "metadata": {
      "application/vnd.teradata.resultset": ""
     },
     "output_type": "execute_result"
    }
   ],
   "source": [
    "CREATE TABLE stations_staging (\n",
    "    lat            DECIMAL(18,5),\n",
    "    location       VARCHAR(200),    -- e.g. \"POINT(30.27041 -97.75046)\"\n",
    "    longitude      DECIMAL(18,5),\n",
    "    name           VARCHAR(100),\n",
    "    station_id     INTEGER,\n",
    "    status         VARCHAR(50)\n",
    ")\n",
    "PRIMARY INDEX (station_id);"
   ]
  },
  {
   "cell_type": "markdown",
   "metadata": {},
   "source": [
    "<p style = 'font-size:18px;font-family:Arial;color:#E37C4D'>Please change the database name according to your quicklook id</p>"
   ]
  },
  {
   "cell_type": "code",
   "execution_count": 9,
   "metadata": {},
   "outputs": [
    {
     "name": "stdout",
     "output_type": "stream",
     "text": [
      "2022-04-07T10:10:49.725 Start Loading...\n",
      "  \u001b[36m\u001b[m   \n",
      "Data Load: Number Rows Loaded = 72, Elapsed Time = 00:00:00.257, History ID = 1027\n",
      "Success Loading Data: from file,'/home/jovyan/Demos/UseCases/AustinBikeShare/stations_staging.csv', into table, nl186010.stations_staging."
     ]
    }
   ],
   "source": [
    "%dataload DATABASE=nl186010, TABLE=stations_staging, FILEPATH=Demos/UseCases/AustinBikeShare/stations_staging.csv"
   ]
  },
  {
   "cell_type": "code",
   "execution_count": 10,
   "metadata": {},
   "outputs": [
    {
     "data": {
      "application/vnd.teradata.resultset": "\"lat\",\"location\",\"longitude\",\"name\",\"station_id\",\"status\"\n\"30.26019\",\"POINT(30.26019 -97.73845)\",\"-97.73845\",\"Davis at Rainey Street\",\"2563\",\"active\"\n\"30.26694\",\"POINT(30.26694 -97.74939)\",\"-97.74939\",\"Nueces @ 3rd\",\"1008\",\"moved\"\n\"30.26968\",\"POINT(30.26968 -97.73074)\",\"-97.73074\",\"East 11th St. & San Marcos\",\"2569\",\"active\"\n\"30.25579\",\"POINT(30.25579 -97.73982)\",\"-97.73982\",\"Rainey St @ Cummings\",\"2707\",\"active\"\n\"30.27624\",\"POINT(30.27624 -97.74831)\",\"-97.74831\",\"ACC - West & 12th Street\",\"2546\",\"closed\"\n\"30.26416\",\"POINT(30.26416 -97.73289)\",\"-97.73289\",\"5th & San Marcos\",\"2564\",\"moved\"\n\"30.26200\",\"POINT(30.262 -97.76118)\",\"-97.76118\",\"Barton Springs @ Kinney Ave\",\"2711\",\"active\"\n\"30.26383\",\"POINT(30.26383 -97.72864)\",\"-97.72864\",\"6th & Navasota St.\",\"1002\",\"closed\"\n\"30.27907\",\"POINT(30.27907 -97.73715)\",\"-97.73715\",\"State Parking Garage @ Brazos & 18th\",\"1005\",\"closed\"\n\"30.28576\",\"POINT(30.28576 -97.74181)\",\"-97.74181\",\"UT West Mall @ Guadalupe\",\"2548\",\"active\"",
      "text/html": [
       "<div class = \"td-resultset-table-div\" style = \"max-height: 100%; overflow-y: auto\">\n",
       "      <table class=\"tdhistory465843\"><style>\n",
       "      table.tdhistory465843 { display: block !important; min-height: 294px !important; overflow: auto !important; height: 294px !important; width: 100% !important; border: 1px solid rgb(207, 207, 207) !important; border-collapse: collapse !important; ; color: var(--jp-ui-font-color1) !important; }\n",
       "      th.tdhistory465843 { border: 1px solid rgb(198,198,198) !important; border-collapse: collapse !important; ; padding: 2px 5px !important; ; font-size: 13px !important; ; text-align: center !important; white-space: normal !important; color: var(--jp-ui-font-color1) !important; }\n",
       "      th.tdhistory465843:last-child { text-align: left !important; }\n",
       "      tbody.tdhistory465843 tr:nth-child(even) { background: rgba(243, 243, 243, 0.75) !important; }\n",
       "      tbody.tdhistory465843 tr:nth-child(odd) { background: var(--jp-ui-inverse-font-color1) !important; }\n",
       "      td.tdhistory465843 { border: 1px solid rgb(207, 207, 207) !important; border-collapse: collapse !important; ; padding: 2px 5px !important; ; font-size: 13px !important; ; text-align: left !important;          white-space: nowrap !important; overflow:hidden !important; text-overflow:ellipsis !important;; }\n",
       "    </style><thead><tr style= \"background: rgba(243, 243, 243, 0.75)\"><th class=\"tdhistory465843\"></th><th class=\"tdhistory465843\">lat</th><th class=\"tdhistory465843\">location</th><th class=\"tdhistory465843\">longitude</th><th class=\"tdhistory465843\">name</th><th class=\"tdhistory465843\">station_id</th><th class=\"tdhistory465843\">status</th></tr></thead><tbody class=\"tdhistory465843 resultset-body\"><tr><th class=\"tdhistory465843\" style= \"background: rgba(243, 243, 243, 0.75)\">1</th><td class=\"tdhistory465843\">30.26019</td><td class=\"tdhistory465843\">POINT(30.26019 -97.73845)</td><td class=\"tdhistory465843\">-97.73845</td><td class=\"tdhistory465843\">Davis at Rainey Street</td><td class=\"tdhistory465843\">2563</td><td class=\"tdhistory465843\">active</td></tr><tr><th class=\"tdhistory465843\" style= \"background: rgba(243, 243, 243, 0.75)\">2</th><td class=\"tdhistory465843\">30.26694</td><td class=\"tdhistory465843\">POINT(30.26694 -97.74939)</td><td class=\"tdhistory465843\">-97.74939</td><td class=\"tdhistory465843\">Nueces @ 3rd</td><td class=\"tdhistory465843\">1008</td><td class=\"tdhistory465843\">moved</td></tr><tr><th class=\"tdhistory465843\" style= \"background: rgba(243, 243, 243, 0.75)\">3</th><td class=\"tdhistory465843\">30.26968</td><td class=\"tdhistory465843\">POINT(30.26968 -97.73074)</td><td class=\"tdhistory465843\">-97.73074</td><td class=\"tdhistory465843\">East 11th St. & San Marcos</td><td class=\"tdhistory465843\">2569</td><td class=\"tdhistory465843\">active</td></tr><tr><th class=\"tdhistory465843\" style= \"background: rgba(243, 243, 243, 0.75)\">4</th><td class=\"tdhistory465843\">30.25579</td><td class=\"tdhistory465843\">POINT(30.25579 -97.73982)</td><td class=\"tdhistory465843\">-97.73982</td><td class=\"tdhistory465843\">Rainey St @ Cummings</td><td class=\"tdhistory465843\">2707</td><td class=\"tdhistory465843\">active</td></tr><tr><th class=\"tdhistory465843\" style= \"background: rgba(243, 243, 243, 0.75)\">5</th><td class=\"tdhistory465843\">30.27624</td><td class=\"tdhistory465843\">POINT(30.27624 -97.74831)</td><td class=\"tdhistory465843\">-97.74831</td><td class=\"tdhistory465843\">ACC - West & 12th Street</td><td class=\"tdhistory465843\">2546</td><td class=\"tdhistory465843\">closed</td></tr><tr><th class=\"tdhistory465843\" style= \"background: rgba(243, 243, 243, 0.75)\">6</th><td class=\"tdhistory465843\">30.26416</td><td class=\"tdhistory465843\">POINT(30.26416 -97.73289)</td><td class=\"tdhistory465843\">-97.73289</td><td class=\"tdhistory465843\">5th & San Marcos</td><td class=\"tdhistory465843\">2564</td><td class=\"tdhistory465843\">moved</td></tr><tr><th class=\"tdhistory465843\" style= \"background: rgba(243, 243, 243, 0.75)\">7</th><td class=\"tdhistory465843\">30.26200</td><td class=\"tdhistory465843\">POINT(30.262 -97.76118)</td><td class=\"tdhistory465843\">-97.76118</td><td class=\"tdhistory465843\">Barton Springs @ Kinney Ave</td><td class=\"tdhistory465843\">2711</td><td class=\"tdhistory465843\">active</td></tr><tr><th class=\"tdhistory465843\" style= \"background: rgba(243, 243, 243, 0.75)\">8</th><td class=\"tdhistory465843\">30.26383</td><td class=\"tdhistory465843\">POINT(30.26383 -97.72864)</td><td class=\"tdhistory465843\">-97.72864</td><td class=\"tdhistory465843\">6th & Navasota St.</td><td class=\"tdhistory465843\">1002</td><td class=\"tdhistory465843\">closed</td></tr><tr><th class=\"tdhistory465843\" style= \"background: rgba(243, 243, 243, 0.75)\">9</th><td class=\"tdhistory465843\">30.27907</td><td class=\"tdhistory465843\">POINT(30.27907 -97.73715)</td><td class=\"tdhistory465843\">-97.73715</td><td class=\"tdhistory465843\">State Parking Garage @ Brazos & 18th</td><td class=\"tdhistory465843\">1005</td><td class=\"tdhistory465843\">closed</td></tr><tr><th class=\"tdhistory465843\" style= \"background: rgba(243, 243, 243, 0.75)\">10</th><td class=\"tdhistory465843\">30.28576</td><td class=\"tdhistory465843\">POINT(30.28576 -97.74181)</td><td class=\"tdhistory465843\">-97.74181</td><td class=\"tdhistory465843\">UT West Mall @ Guadalupe</td><td class=\"tdhistory465843\">2548</td><td class=\"tdhistory465843\">active</td></tr></tbody></table></div>"
      ]
     },
     "execution_count": 10,
     "metadata": {
      "application/vnd.teradata.resultset": "{\"resultSetID\":\"/home/jovyan/Teradata/Resultsets/2022.04.07_10.10.49.933_UTC\",\"historyID\":1028,\"chunkID\":\"00001\",\"sessionid\":\"\",\"portnum\":\"\",\"dockermode\":\"appcenter\",\"totalRowCount\":10,\"chunkCount\":0,\"rowLimit\":0,\"columnMetadata\":[{\"columnName\":\"lat\",\"columnTypeName\":\"DECIMAL\",\"length\":5,\"precision\":18,\"scale\":5},{\"columnNumber\":1,\"columnName\":\"location\",\"columnTypeName\":\"VARCHAR\",\"length\":200,\"scale\":200},{\"columnNumber\":2,\"columnName\":\"longitude\",\"columnTypeName\":\"DECIMAL\",\"length\":5,\"precision\":18,\"scale\":5},{\"columnNumber\":3,\"columnName\":\"name\",\"columnTypeName\":\"VARCHAR\",\"length\":100,\"scale\":100},{\"columnNumber\":4,\"columnName\":\"station_id\",\"columnTypeName\":\"INTEGER\"},{\"columnNumber\":5,\"columnName\":\"status\",\"columnTypeName\":\"VARCHAR\",\"length\":50,\"scale\":50}]}"
     },
     "output_type": "execute_result"
    }
   ],
   "source": [
    "SELECT TOP 10 * FROM stations_staging"
   ]
  },
  {
   "cell_type": "code",
   "execution_count": 11,
   "metadata": {},
   "outputs": [
    {
     "data": {
      "text/plain": [
       "Success: 0 rows affected"
      ]
     },
     "execution_count": 11,
     "metadata": {
      "application/vnd.teradata.resultset": ""
     },
     "output_type": "execute_result"
    }
   ],
   "source": [
    "CREATE TABLE stations (\n",
    "    lat            DECIMAL(18,5),\n",
    "    location       SYSUDTLIB.ST_Geometry,     -- e.g. \"POINT(30.27041 -97.75046)\"\n",
    "    longitude      DECIMAL(18,5),\n",
    "    name           VARCHAR(100),\n",
    "    station_id     INTEGER,\n",
    "    status         VARCHAR(50)\n",
    ")\n",
    "PRIMARY INDEX (station_id);"
   ]
  },
  {
   "cell_type": "code",
   "execution_count": 12,
   "metadata": {},
   "outputs": [
    {
     "data": {
      "text/plain": [
       "Success: 72 rows affected"
      ]
     },
     "execution_count": 12,
     "metadata": {
      "application/vnd.teradata.resultset": ""
     },
     "output_type": "execute_result"
    }
   ],
   "source": [
    "INSERT INTO stations SELECT * FROM stations_staging"
   ]
  },
  {
   "cell_type": "code",
   "execution_count": 13,
   "metadata": {},
   "outputs": [
    {
     "data": {
      "application/vnd.teradata.resultset": "\"lat\",\"location\",\"longitude\",\"name\",\"station_id\",\"status\"\n\"30.26694\",\"POINT (30.26694 -97.74939)\",\"-97.74939\",\"Nueces @ 3rd\",\"1008\",\"moved\"\n\"30.26019\",\"POINT (30.26019 -97.73845)\",\"-97.73845\",\"Davis at Rainey Street\",\"2563\",\"active\"\n\"30.26968\",\"POINT (30.26968 -97.73074)\",\"-97.73074\",\"East 11th St. & San Marcos\",\"2569\",\"active\"\n\"30.25579\",\"POINT (30.25579 -97.73982)\",\"-97.73982\",\"Rainey St @ Cummings\",\"2707\",\"active\"\n\"30.27624\",\"POINT (30.27624 -97.74831)\",\"-97.74831\",\"ACC - West & 12th Street\",\"2546\",\"closed\"\n\"30.26416\",\"POINT (30.26416 -97.73289)\",\"-97.73289\",\"5th & San Marcos\",\"2564\",\"moved\"\n\"30.28576\",\"POINT (30.28576 -97.74181)\",\"-97.74181\",\"UT West Mall @ Guadalupe\",\"2548\",\"active\"\n\"30.26383\",\"POINT (30.26383 -97.72864)\",\"-97.72864\",\"6th & Navasota St.\",\"1002\",\"closed\"\n\"30.25839\",\"POINT (30.25839 -97.74592)\",\"-97.74592\",\"South Congress & Barton Springs at the Austin American-Statesman\",\"3513\",\"active\"\n\"30.26200\",\"POINT (30.262 -97.76118)\",\"-97.76118\",\"Barton Springs @ Kinney Ave\",\"2711\",\"active\"",
      "text/html": [
       "<div class = \"td-resultset-table-div\" style = \"max-height: 100%; overflow-y: auto\">\n",
       "      <table class=\"tdhistory766980\"><style>\n",
       "      table.tdhistory766980 { display: block !important; min-height: 294px !important; overflow: auto !important; height: 294px !important; width: 100% !important; border: 1px solid rgb(207, 207, 207) !important; border-collapse: collapse !important; ; color: var(--jp-ui-font-color1) !important; }\n",
       "      th.tdhistory766980 { border: 1px solid rgb(198,198,198) !important; border-collapse: collapse !important; ; padding: 2px 5px !important; ; font-size: 13px !important; ; text-align: center !important; white-space: normal !important; color: var(--jp-ui-font-color1) !important; }\n",
       "      th.tdhistory766980:last-child { text-align: left !important; }\n",
       "      tbody.tdhistory766980 tr:nth-child(even) { background: rgba(243, 243, 243, 0.75) !important; }\n",
       "      tbody.tdhistory766980 tr:nth-child(odd) { background: var(--jp-ui-inverse-font-color1) !important; }\n",
       "      td.tdhistory766980 { border: 1px solid rgb(207, 207, 207) !important; border-collapse: collapse !important; ; padding: 2px 5px !important; ; font-size: 13px !important; ; text-align: left !important;          white-space: nowrap !important; overflow:hidden !important; text-overflow:ellipsis !important;; }\n",
       "    </style><thead><tr style= \"background: rgba(243, 243, 243, 0.75)\"><th class=\"tdhistory766980\"></th><th class=\"tdhistory766980\">lat</th><th class=\"tdhistory766980\">location</th><th class=\"tdhistory766980\">longitude</th><th class=\"tdhistory766980\">name</th><th class=\"tdhistory766980\">station_id</th><th class=\"tdhistory766980\">status</th></tr></thead><tbody class=\"tdhistory766980 resultset-body\"><tr><th class=\"tdhistory766980\" style= \"background: rgba(243, 243, 243, 0.75)\">1</th><td class=\"tdhistory766980\">30.26694</td><td class=\"tdhistory766980\">POINT (30.26694 -97.74939)</td><td class=\"tdhistory766980\">-97.74939</td><td class=\"tdhistory766980\">Nueces @ 3rd</td><td class=\"tdhistory766980\">1008</td><td class=\"tdhistory766980\">moved</td></tr><tr><th class=\"tdhistory766980\" style= \"background: rgba(243, 243, 243, 0.75)\">2</th><td class=\"tdhistory766980\">30.26019</td><td class=\"tdhistory766980\">POINT (30.26019 -97.73845)</td><td class=\"tdhistory766980\">-97.73845</td><td class=\"tdhistory766980\">Davis at Rainey Street</td><td class=\"tdhistory766980\">2563</td><td class=\"tdhistory766980\">active</td></tr><tr><th class=\"tdhistory766980\" style= \"background: rgba(243, 243, 243, 0.75)\">3</th><td class=\"tdhistory766980\">30.26968</td><td class=\"tdhistory766980\">POINT (30.26968 -97.73074)</td><td class=\"tdhistory766980\">-97.73074</td><td class=\"tdhistory766980\">East 11th St. & San Marcos</td><td class=\"tdhistory766980\">2569</td><td class=\"tdhistory766980\">active</td></tr><tr><th class=\"tdhistory766980\" style= \"background: rgba(243, 243, 243, 0.75)\">4</th><td class=\"tdhistory766980\">30.25579</td><td class=\"tdhistory766980\">POINT (30.25579 -97.73982)</td><td class=\"tdhistory766980\">-97.73982</td><td class=\"tdhistory766980\">Rainey St @ Cummings</td><td class=\"tdhistory766980\">2707</td><td class=\"tdhistory766980\">active</td></tr><tr><th class=\"tdhistory766980\" style= \"background: rgba(243, 243, 243, 0.75)\">5</th><td class=\"tdhistory766980\">30.27624</td><td class=\"tdhistory766980\">POINT (30.27624 -97.74831)</td><td class=\"tdhistory766980\">-97.74831</td><td class=\"tdhistory766980\">ACC - West & 12th Street</td><td class=\"tdhistory766980\">2546</td><td class=\"tdhistory766980\">closed</td></tr><tr><th class=\"tdhistory766980\" style= \"background: rgba(243, 243, 243, 0.75)\">6</th><td class=\"tdhistory766980\">30.26416</td><td class=\"tdhistory766980\">POINT (30.26416 -97.73289)</td><td class=\"tdhistory766980\">-97.73289</td><td class=\"tdhistory766980\">5th & San Marcos</td><td class=\"tdhistory766980\">2564</td><td class=\"tdhistory766980\">moved</td></tr><tr><th class=\"tdhistory766980\" style= \"background: rgba(243, 243, 243, 0.75)\">7</th><td class=\"tdhistory766980\">30.28576</td><td class=\"tdhistory766980\">POINT (30.28576 -97.74181)</td><td class=\"tdhistory766980\">-97.74181</td><td class=\"tdhistory766980\">UT West Mall @ Guadalupe</td><td class=\"tdhistory766980\">2548</td><td class=\"tdhistory766980\">active</td></tr><tr><th class=\"tdhistory766980\" style= \"background: rgba(243, 243, 243, 0.75)\">8</th><td class=\"tdhistory766980\">30.26383</td><td class=\"tdhistory766980\">POINT (30.26383 -97.72864)</td><td class=\"tdhistory766980\">-97.72864</td><td class=\"tdhistory766980\">6th & Navasota St.</td><td class=\"tdhistory766980\">1002</td><td class=\"tdhistory766980\">closed</td></tr><tr><th class=\"tdhistory766980\" style= \"background: rgba(243, 243, 243, 0.75)\">9</th><td class=\"tdhistory766980\">30.25839</td><td class=\"tdhistory766980\">POINT (30.25839 -97.74592)</td><td class=\"tdhistory766980\">-97.74592</td><td class=\"tdhistory766980\">South Congress & Barton Springs at the Austin American-Statesman</td><td class=\"tdhistory766980\">3513</td><td class=\"tdhistory766980\">active</td></tr><tr><th class=\"tdhistory766980\" style= \"background: rgba(243, 243, 243, 0.75)\">10</th><td class=\"tdhistory766980\">30.26200</td><td class=\"tdhistory766980\">POINT (30.262 -97.76118)</td><td class=\"tdhistory766980\">-97.76118</td><td class=\"tdhistory766980\">Barton Springs @ Kinney Ave</td><td class=\"tdhistory766980\">2711</td><td class=\"tdhistory766980\">active</td></tr></tbody></table></div>"
      ]
     },
     "execution_count": 13,
     "metadata": {
      "application/vnd.teradata.resultset": "{\"resultSetID\":\"/home/jovyan/Teradata/Resultsets/2022.04.07_10.10.50.279_UTC\",\"historyID\":1031,\"chunkID\":\"00001\",\"sessionid\":\"\",\"portnum\":\"\",\"dockermode\":\"appcenter\",\"totalRowCount\":10,\"chunkCount\":0,\"rowLimit\":0,\"columnMetadata\":[{\"columnName\":\"lat\",\"columnTypeName\":\"DECIMAL\",\"length\":5,\"precision\":18,\"scale\":5},{\"columnNumber\":1,\"columnName\":\"location\",\"columnTypeName\":\"CLOB\",\"length\":2097088000,\"scale\":2097088000},{\"columnNumber\":2,\"columnName\":\"longitude\",\"columnTypeName\":\"DECIMAL\",\"length\":5,\"precision\":18,\"scale\":5},{\"columnNumber\":3,\"columnName\":\"name\",\"columnTypeName\":\"VARCHAR\",\"length\":100,\"scale\":100},{\"columnNumber\":4,\"columnName\":\"station_id\",\"columnTypeName\":\"INTEGER\"},{\"columnNumber\":5,\"columnName\":\"status\",\"columnTypeName\":\"VARCHAR\",\"length\":50,\"scale\":50}]}"
     },
     "output_type": "execute_result"
    }
   ],
   "source": [
    "SELECT\n",
    "    TOP 10 *\n",
    "FROM\n",
    "    stations"
   ]
  },
  {
   "cell_type": "markdown",
   "metadata": {},
   "source": [
    "<p style = 'font-size:18px;font-family:Arial;color:#E37C4D'><b>3.2 Load Trips data from local file(s)</b></p>    "
   ]
  },
  {
   "cell_type": "markdown",
   "metadata": {},
   "source": [
    "Note that ```%dataload``` is currently limited to 100,000 rows. So, we can use the Linux command split, e.g. ```split -l 100000  trips.csv trips_```"
   ]
  },
  {
   "cell_type": "code",
   "execution_count": 14,
   "metadata": {},
   "outputs": [
    {
     "data": {
      "text/plain": [
       "Success: 0 rows affected"
      ]
     },
     "execution_count": 14,
     "metadata": {
      "application/vnd.teradata.resultset": ""
     },
     "output_type": "execute_result"
    }
   ],
   "source": [
    "CREATE TABLE trips_staging (\n",
    "      bikeid             FLOAT,\n",
    "      checkout_time      VARCHAR(50),\n",
    "      duration_minutes   FLOAT,\n",
    "      end_station_id     FLOAT,\n",
    "      end_station_name   VARCHAR(100),\n",
    "      MONTH_NUM          FLOAT,\n",
    "      start_station_id   FLOAT,\n",
    "      start_station_name VARCHAR(100),\n",
    "      start_time         TIMESTAMP(6),\n",
    "      subscriber_type    VARCHAR(50),\n",
    "      trip_id            BIGINT,\n",
    "      YEAR_NUM           FLOAT\n",
    ")\n",
    "PRIMARY INDEX (trip_id);"
   ]
  },
  {
   "cell_type": "markdown",
   "metadata": {},
   "source": [
    "<p style = 'font-size:18px;font-family:Arial;color:#E37C4D'>Please change the database name according to your quicklook id in below %dataload commands</p>"
   ]
  },
  {
   "cell_type": "code",
   "execution_count": 15,
   "metadata": {},
   "outputs": [
    {
     "name": "stdout",
     "output_type": "stream",
     "text": [
      "2022-04-07T10:10:50.619 Start Loading...\n",
      "  \u001b[36m\u001b[m   \n",
      "Data Load: Hit row limit, rowcount = '100000'\n",
      "  \u001b[36m\u001b[m   \n",
      "Data Load: Number Rows Loaded = 100,000, Elapsed Time = 00:00:12.759, History ID = 1033\n",
      "Success Loading Data: from file,'/home/jovyan/Demos/UseCases/AustinBikeShare/trips_1.csv', into table, nl186010.trips_staging."
     ]
    }
   ],
   "source": [
    "%dataload DATABASE=nl186010, TABLE=trips_staging, FILEPATH=Demos/UseCases/AustinBikeShare/trips_1.csv"
   ]
  },
  {
   "cell_type": "code",
   "execution_count": 16,
   "metadata": {},
   "outputs": [
    {
     "name": "stdout",
     "output_type": "stream",
     "text": [
      "2022-04-07T10:11:03.425 Start Loading...\n",
      "  \u001b[36m\u001b[m   \n",
      "Data Load: Hit row limit, rowcount = '100000'\n",
      "  \u001b[36m\u001b[m   \n",
      "Data Load: Number Rows Loaded = 100,000, Elapsed Time = 00:00:12.318, History ID = 1034\n",
      "Success Loading Data: from file,'/home/jovyan/Demos/UseCases/AustinBikeShare/trips_2.csv', into table, nl186010.trips_staging."
     ]
    }
   ],
   "source": [
    "%dataload DATABASE=nl186010, TABLE=trips_staging, FILEPATH=Demos/UseCases/AustinBikeShare/trips_2.csv"
   ]
  },
  {
   "cell_type": "code",
   "execution_count": 17,
   "metadata": {},
   "outputs": [
    {
     "name": "stdout",
     "output_type": "stream",
     "text": [
      "2022-04-07T10:11:15.716 Start Loading...\n",
      "  \u001b[36m\u001b[m   \n",
      "Data Load: Hit row limit, rowcount = '100000'\n",
      "  \u001b[36m\u001b[m   \n",
      "Data Load: Number Rows Loaded = 100,000, Elapsed Time = 00:00:13.216, History ID = 1035\n",
      "Success Loading Data: from file,'/home/jovyan/Demos/UseCases/AustinBikeShare/trips_3.csv', into table, nl186010.trips_staging."
     ]
    }
   ],
   "source": [
    "%dataload DATABASE=nl186010, TABLE=trips_staging, FILEPATH=Demos/UseCases/AustinBikeShare/trips_3.csv"
   ]
  },
  {
   "cell_type": "code",
   "execution_count": 18,
   "metadata": {},
   "outputs": [
    {
     "name": "stdout",
     "output_type": "stream",
     "text": [
      "2022-04-07T10:11:28.936 Start Loading...\n",
      "  \u001b[36m\u001b[m   \n",
      "Data Load: Number Rows Loaded = 100,000, Elapsed Time = 00:00:14.005, History ID = 1036\n",
      "Success Loading Data: from file,'/home/jovyan/Demos/UseCases/AustinBikeShare/trips_4.csv', into table, nl186010.trips_staging."
     ]
    }
   ],
   "source": [
    "%dataload DATABASE=nl186010, TABLE=trips_staging, FILEPATH=Demos/UseCases/AustinBikeShare/trips_4.csv"
   ]
  },
  {
   "cell_type": "code",
   "execution_count": 19,
   "metadata": {},
   "outputs": [
    {
     "name": "stdout",
     "output_type": "stream",
     "text": [
      "2022-04-07T10:11:42.929 Start Loading...\n",
      "  \u001b[36m\u001b[m   \n",
      "Data Load: Hit row limit, rowcount = '100000'\n",
      "  \u001b[36m\u001b[m   \n",
      "Data Load: Number Rows Loaded = 100,000, Elapsed Time = 00:00:16.399, History ID = 1037\n",
      "Success Loading Data: from file,'/home/jovyan/Demos/UseCases/AustinBikeShare/trips_5.csv', into table, nl186010.trips_staging."
     ]
    }
   ],
   "source": [
    "%dataload DATABASE=nl186010, TABLE=trips_staging, FILEPATH=Demos/UseCases/AustinBikeShare/trips_5.csv"
   ]
  },
  {
   "cell_type": "code",
   "execution_count": 20,
   "metadata": {},
   "outputs": [
    {
     "name": "stdout",
     "output_type": "stream",
     "text": [
      "2022-04-07T10:11:59.376 Start Loading...\n",
      "  \u001b[36m\u001b[m   \n",
      "Data Load: Hit row limit, rowcount = '100000'\n",
      "  \u001b[36m\u001b[m   \n",
      "Data Load: Number Rows Loaded = 100,000, Elapsed Time = 00:00:16.110, History ID = 1038\n",
      "Success Loading Data: from file,'/home/jovyan/Demos/UseCases/AustinBikeShare/trips_6.csv', into table, nl186010.trips_staging."
     ]
    }
   ],
   "source": [
    "%dataload DATABASE=nl186010, TABLE=trips_staging, FILEPATH=Demos/UseCases/AustinBikeShare/trips_6.csv"
   ]
  },
  {
   "cell_type": "code",
   "execution_count": 21,
   "metadata": {},
   "outputs": [
    {
     "name": "stdout",
     "output_type": "stream",
     "text": [
      "2022-04-07T10:12:15.489 Start Loading...\n",
      "  \u001b[36m\u001b[m   \n",
      "Data Load: Number Rows Loaded = 49,231, Elapsed Time = 00:00:07.381, History ID = 1039\n",
      "Success Loading Data: from file,'/home/jovyan/Demos/UseCases/AustinBikeShare/trips_7.csv', into table, nl186010.trips_staging."
     ]
    }
   ],
   "source": [
    "%dataload DATABASE=nl186010, TABLE=trips_staging, FILEPATH=Demos/UseCases/AustinBikeShare/trips_7.csv"
   ]
  },
  {
   "cell_type": "code",
   "execution_count": 22,
   "metadata": {},
   "outputs": [
    {
     "data": {
      "text/plain": [
       "Success: 0 rows affected"
      ]
     },
     "execution_count": 22,
     "metadata": {
      "application/vnd.teradata.resultset": ""
     },
     "output_type": "execute_result"
    }
   ],
   "source": [
    "CREATE TABLE trips (\n",
    "      bikeid             INTEGER,\n",
    "      checkout_time      VARCHAR(50),\n",
    "      duration_minutes   INTEGER,\n",
    "      end_station_id     INTEGER,\n",
    "      end_station_name   VARCHAR(100),\n",
    "      MONTH_NUM          INTEGER,\n",
    "      start_station_id   INTEGER,\n",
    "      start_station_name VARCHAR(100),\n",
    "      start_time         TIMESTAMP(6),\n",
    "      subscriber_type    VARCHAR(50),\n",
    "      trip_id            BIGINT,\n",
    "      YEAR_NUM           INTEGER\n",
    ")\n",
    "PRIMARY INDEX (trip_id);"
   ]
  },
  {
   "cell_type": "code",
   "execution_count": 23,
   "metadata": {},
   "outputs": [
    {
     "data": {
      "text/plain": [
       "Success: 649231 rows affected"
      ]
     },
     "execution_count": 23,
     "metadata": {
      "application/vnd.teradata.resultset": ""
     },
     "output_type": "execute_result"
    }
   ],
   "source": [
    "INSERT INTO trips \n",
    "SELECT\n",
    "    CAST(bikeid AS INTEGER),    \n",
    "    checkout_time,\n",
    "    CAST(duration_minutes AS INTEGER),    \n",
    "    CAST(end_station_id AS INTEGER),    \n",
    "    end_station_name,\n",
    "    CAST(MONTH_NUM AS INTEGER),    \n",
    "    CAST(start_station_id AS INTEGER),    \n",
    "    start_station_name,\n",
    "    start_time,\n",
    "    subscriber_type,\n",
    "    trip_id,\n",
    "    CAST(YEAR_NUM AS INTEGER)\n",
    "FROM \n",
    "    trips_staging;"
   ]
  },
  {
   "cell_type": "code",
   "execution_count": 24,
   "metadata": {},
   "outputs": [
    {
     "data": {
      "application/vnd.teradata.resultset": "\"bikeid\",\"checkout_time\",\"duration_minutes\",\"end_station_id\",\"end_station_name\",\"MONTH_NUM\",\"start_station_id\",\"start_station_name\",\"start_time\",\"subscriber_type\",\"trip_id\",\"YEAR_NUM\"\n\"272\",\"17:17:48\",\"19\",\"3293\",\"East 2nd & Pedernales\",\"10\",\"2569\",\"East 11th St. & San Marcos\",\"2016-10-21 17:17:48.000000\",\"Walk Up\",\"12496830\",\"2016\"\n\"545\",\"10:12:00\",\"7\",\"2495\",\"4th & Congress\",\"5\",\"2567\",\"Palmer Auditorium\",\"2014-05-22 10:12:00.000000\",\"Annual Membership (Austin B-cycle)\",\"9900133931\",\"2014\"\n\"588\",\"14:19:04\",\"14\",\"3513\",\"South Congress & Barton Springs at the Austin American-Statesman\",\"9\",\"2711\",\"Barton Springs @ Kinney Ave\",\"2016-09-17 14:19:04.000000\",\"Walk Up\",\"11967904\",\"2016\"\n\"25\",\"18:12:00\",\"9\",\"2542\",\"Plaza Saltillo\",\"7\",\"2495\",\"4th & Congress\",\"2015-07-30 18:12:00.000000\",\"Local365\",\"9900212807\",\"2015\"\n\"862\",\"20:59:27\",\"11\",\"2496\",\"8th & Congress\",\"2\",\"2503\",\"South Congress & James\",\"2017-02-12 20:59:27.000000\",\"Walk Up\",\"13709885\",\"2017\"\n\"522\",\"15:17:05\",\"39\",\"2549\",\"Long Center @ South 1st & Riverside\",\"3\",\"2549\",\"Long Center @ South 1st & Riverside\",\"2016-03-19 15:17:05.000000\",\"Walk Up\",\"9201942\",\"2016\"\n\"843\",\"11:12:41\",\"14\",\"2495\",\"4th & Congress\",\"10\",\"2569\",\"East 11th St. & San Marcos\",\"2015-10-31 11:12:41.000000\",\"Local365\",\"9900311402\",\"2015\"\n\"387\",\"13:12:00\",\"18\",\"2499\",\"City Hall / Lavaca & 2nd\",\"11\",\"2548\",\"UT West Mall @ Guadalupe\",\"2014-11-07 13:12:00.000000\",\"24-Hour Kiosk (Austin B-cycle)\",\"9900313951\",\"2014\"\n\"425\",\"13:12:00\",\"7\",\"2501\",\"5th & Bowie\",\"4\",\"2712\",\"Toomey Rd @ South Lamar\",\"2015-04-23 13:12:00.000000\",\"Local365\",\"9900119779\",\"2015\"\n\"220\",\"15:12:00\",\"12\",\"2565\",\"Trinity & 6th Street\",\"3\",\"2822\",\"East 6th at Robert Martinez\",\"2015-03-16 15:12:00.000000\",\"7-Day\",\"9900074774\",\"2015\"",
      "text/html": [
       "<div class = \"td-resultset-table-div\" style = \"max-height: 100%; overflow-y: auto\">\n",
       "      <table class=\"tdhistory162999\"><style>\n",
       "      table.tdhistory162999 { display: block !important; min-height: 294px !important; overflow: auto !important; height: 294px !important; width: 100% !important; border: 1px solid rgb(207, 207, 207) !important; border-collapse: collapse !important; ; color: var(--jp-ui-font-color1) !important; }\n",
       "      th.tdhistory162999 { border: 1px solid rgb(198,198,198) !important; border-collapse: collapse !important; ; padding: 2px 5px !important; ; font-size: 13px !important; ; text-align: center !important; white-space: normal !important; color: var(--jp-ui-font-color1) !important; }\n",
       "      th.tdhistory162999:last-child { text-align: left !important; }\n",
       "      tbody.tdhistory162999 tr:nth-child(even) { background: rgba(243, 243, 243, 0.75) !important; }\n",
       "      tbody.tdhistory162999 tr:nth-child(odd) { background: var(--jp-ui-inverse-font-color1) !important; }\n",
       "      td.tdhistory162999 { border: 1px solid rgb(207, 207, 207) !important; border-collapse: collapse !important; ; padding: 2px 5px !important; ; font-size: 13px !important; ; text-align: left !important;          white-space: nowrap !important; overflow:hidden !important; text-overflow:ellipsis !important;; }\n",
       "    </style><thead><tr style= \"background: rgba(243, 243, 243, 0.75)\"><th class=\"tdhistory162999\"></th><th class=\"tdhistory162999\">bikeid</th><th class=\"tdhistory162999\">checkout_time</th><th class=\"tdhistory162999\">duration_minutes</th><th class=\"tdhistory162999\">end_station_id</th><th class=\"tdhistory162999\">end_station_name</th><th class=\"tdhistory162999\">MONTH_NUM</th><th class=\"tdhistory162999\">start_station_id</th><th class=\"tdhistory162999\">start_station_name</th><th class=\"tdhistory162999\">start_time</th><th class=\"tdhistory162999\">subscriber_type</th><th class=\"tdhistory162999\">trip_id</th><th class=\"tdhistory162999\">YEAR_NUM</th></tr></thead><tbody class=\"tdhistory162999 resultset-body\"><tr><th class=\"tdhistory162999\" style= \"background: rgba(243, 243, 243, 0.75)\">1</th><td class=\"tdhistory162999\">272</td><td class=\"tdhistory162999\">17:17:48</td><td class=\"tdhistory162999\">19</td><td class=\"tdhistory162999\">3293</td><td class=\"tdhistory162999\">East 2nd & Pedernales</td><td class=\"tdhistory162999\">10</td><td class=\"tdhistory162999\">2569</td><td class=\"tdhistory162999\">East 11th St. & San Marcos</td><td class=\"tdhistory162999\">2016-10-21 17:17:48.000000</td><td class=\"tdhistory162999\">Walk Up</td><td class=\"tdhistory162999\">12496830</td><td class=\"tdhistory162999\">2016</td></tr><tr><th class=\"tdhistory162999\" style= \"background: rgba(243, 243, 243, 0.75)\">2</th><td class=\"tdhistory162999\">545</td><td class=\"tdhistory162999\">10:12:00</td><td class=\"tdhistory162999\">7</td><td class=\"tdhistory162999\">2495</td><td class=\"tdhistory162999\">4th & Congress</td><td class=\"tdhistory162999\">5</td><td class=\"tdhistory162999\">2567</td><td class=\"tdhistory162999\">Palmer Auditorium</td><td class=\"tdhistory162999\">2014-05-22 10:12:00.000000</td><td class=\"tdhistory162999\">Annual Membership (Austin B-cycle)</td><td class=\"tdhistory162999\">9900133931</td><td class=\"tdhistory162999\">2014</td></tr><tr><th class=\"tdhistory162999\" style= \"background: rgba(243, 243, 243, 0.75)\">3</th><td class=\"tdhistory162999\">588</td><td class=\"tdhistory162999\">14:19:04</td><td class=\"tdhistory162999\">14</td><td class=\"tdhistory162999\">3513</td><td class=\"tdhistory162999\">South Congress & Barton Springs at the Austin American-Statesman</td><td class=\"tdhistory162999\">9</td><td class=\"tdhistory162999\">2711</td><td class=\"tdhistory162999\">Barton Springs @ Kinney Ave</td><td class=\"tdhistory162999\">2016-09-17 14:19:04.000000</td><td class=\"tdhistory162999\">Walk Up</td><td class=\"tdhistory162999\">11967904</td><td class=\"tdhistory162999\">2016</td></tr><tr><th class=\"tdhistory162999\" style= \"background: rgba(243, 243, 243, 0.75)\">4</th><td class=\"tdhistory162999\">25</td><td class=\"tdhistory162999\">18:12:00</td><td class=\"tdhistory162999\">9</td><td class=\"tdhistory162999\">2542</td><td class=\"tdhistory162999\">Plaza Saltillo</td><td class=\"tdhistory162999\">7</td><td class=\"tdhistory162999\">2495</td><td class=\"tdhistory162999\">4th & Congress</td><td class=\"tdhistory162999\">2015-07-30 18:12:00.000000</td><td class=\"tdhistory162999\">Local365</td><td class=\"tdhistory162999\">9900212807</td><td class=\"tdhistory162999\">2015</td></tr><tr><th class=\"tdhistory162999\" style= \"background: rgba(243, 243, 243, 0.75)\">5</th><td class=\"tdhistory162999\">862</td><td class=\"tdhistory162999\">20:59:27</td><td class=\"tdhistory162999\">11</td><td class=\"tdhistory162999\">2496</td><td class=\"tdhistory162999\">8th & Congress</td><td class=\"tdhistory162999\">2</td><td class=\"tdhistory162999\">2503</td><td class=\"tdhistory162999\">South Congress & James</td><td class=\"tdhistory162999\">2017-02-12 20:59:27.000000</td><td class=\"tdhistory162999\">Walk Up</td><td class=\"tdhistory162999\">13709885</td><td class=\"tdhistory162999\">2017</td></tr><tr><th class=\"tdhistory162999\" style= \"background: rgba(243, 243, 243, 0.75)\">6</th><td class=\"tdhistory162999\">522</td><td class=\"tdhistory162999\">15:17:05</td><td class=\"tdhistory162999\">39</td><td class=\"tdhistory162999\">2549</td><td class=\"tdhistory162999\">Long Center @ South 1st & Riverside</td><td class=\"tdhistory162999\">3</td><td class=\"tdhistory162999\">2549</td><td class=\"tdhistory162999\">Long Center @ South 1st & Riverside</td><td class=\"tdhistory162999\">2016-03-19 15:17:05.000000</td><td class=\"tdhistory162999\">Walk Up</td><td class=\"tdhistory162999\">9201942</td><td class=\"tdhistory162999\">2016</td></tr><tr><th class=\"tdhistory162999\" style= \"background: rgba(243, 243, 243, 0.75)\">7</th><td class=\"tdhistory162999\">843</td><td class=\"tdhistory162999\">11:12:41</td><td class=\"tdhistory162999\">14</td><td class=\"tdhistory162999\">2495</td><td class=\"tdhistory162999\">4th & Congress</td><td class=\"tdhistory162999\">10</td><td class=\"tdhistory162999\">2569</td><td class=\"tdhistory162999\">East 11th St. & San Marcos</td><td class=\"tdhistory162999\">2015-10-31 11:12:41.000000</td><td class=\"tdhistory162999\">Local365</td><td class=\"tdhistory162999\">9900311402</td><td class=\"tdhistory162999\">2015</td></tr><tr><th class=\"tdhistory162999\" style= \"background: rgba(243, 243, 243, 0.75)\">8</th><td class=\"tdhistory162999\">387</td><td class=\"tdhistory162999\">13:12:00</td><td class=\"tdhistory162999\">18</td><td class=\"tdhistory162999\">2499</td><td class=\"tdhistory162999\">City Hall / Lavaca & 2nd</td><td class=\"tdhistory162999\">11</td><td class=\"tdhistory162999\">2548</td><td class=\"tdhistory162999\">UT West Mall @ Guadalupe</td><td class=\"tdhistory162999\">2014-11-07 13:12:00.000000</td><td class=\"tdhistory162999\">24-Hour Kiosk (Austin B-cycle)</td><td class=\"tdhistory162999\">9900313951</td><td class=\"tdhistory162999\">2014</td></tr><tr><th class=\"tdhistory162999\" style= \"background: rgba(243, 243, 243, 0.75)\">9</th><td class=\"tdhistory162999\">425</td><td class=\"tdhistory162999\">13:12:00</td><td class=\"tdhistory162999\">7</td><td class=\"tdhistory162999\">2501</td><td class=\"tdhistory162999\">5th & Bowie</td><td class=\"tdhistory162999\">4</td><td class=\"tdhistory162999\">2712</td><td class=\"tdhistory162999\">Toomey Rd @ South Lamar</td><td class=\"tdhistory162999\">2015-04-23 13:12:00.000000</td><td class=\"tdhistory162999\">Local365</td><td class=\"tdhistory162999\">9900119779</td><td class=\"tdhistory162999\">2015</td></tr><tr><th class=\"tdhistory162999\" style= \"background: rgba(243, 243, 243, 0.75)\">10</th><td class=\"tdhistory162999\">220</td><td class=\"tdhistory162999\">15:12:00</td><td class=\"tdhistory162999\">12</td><td class=\"tdhistory162999\">2565</td><td class=\"tdhistory162999\">Trinity & 6th Street</td><td class=\"tdhistory162999\">3</td><td class=\"tdhistory162999\">2822</td><td class=\"tdhistory162999\">East 6th at Robert Martinez</td><td class=\"tdhistory162999\">2015-03-16 15:12:00.000000</td><td class=\"tdhistory162999\">7-Day</td><td class=\"tdhistory162999\">9900074774</td><td class=\"tdhistory162999\">2015</td></tr></tbody></table></div>"
      ]
     },
     "execution_count": 24,
     "metadata": {
      "application/vnd.teradata.resultset": "{\"resultSetID\":\"/home/jovyan/Teradata/Resultsets/2022.04.07_10.12.23.226_UTC\",\"historyID\":1042,\"chunkID\":\"00001\",\"sessionid\":\"\",\"portnum\":\"\",\"dockermode\":\"appcenter\",\"totalRowCount\":10,\"chunkCount\":0,\"rowLimit\":0,\"columnMetadata\":[{\"columnName\":\"bikeid\",\"columnTypeName\":\"INTEGER\"},{\"columnNumber\":1,\"columnName\":\"checkout_time\",\"columnTypeName\":\"VARCHAR\",\"length\":50,\"scale\":50},{\"columnNumber\":2,\"columnName\":\"duration_minutes\",\"columnTypeName\":\"INTEGER\"},{\"columnNumber\":3,\"columnName\":\"end_station_id\",\"columnTypeName\":\"INTEGER\"},{\"columnNumber\":4,\"columnName\":\"end_station_name\",\"columnTypeName\":\"VARCHAR\",\"length\":100,\"scale\":100},{\"columnNumber\":5,\"columnName\":\"MONTH_NUM\",\"columnTypeName\":\"INTEGER\"},{\"columnNumber\":6,\"columnName\":\"start_station_id\",\"columnTypeName\":\"INTEGER\"},{\"columnNumber\":7,\"columnName\":\"start_station_name\",\"columnTypeName\":\"VARCHAR\",\"length\":100,\"scale\":100},{\"columnNumber\":8,\"columnName\":\"start_time\",\"columnTypeName\":\"TIMESTAMP\",\"length\":6,\"scale\":6},{\"columnNumber\":9,\"columnName\":\"subscriber_type\",\"columnTypeName\":\"VARCHAR\",\"length\":50,\"scale\":50},{\"columnNumber\":10,\"columnName\":\"trip_id\",\"columnTypeName\":\"BIGINT\"},{\"columnNumber\":11,\"columnName\":\"YEAR_NUM\",\"columnTypeName\":\"INTEGER\"}]}"
     },
     "output_type": "execute_result"
    }
   ],
   "source": [
    "SELECT TOP 10 * FROM trips"
   ]
  },
  {
   "cell_type": "code",
   "execution_count": 25,
   "metadata": {},
   "outputs": [
    {
     "data": {
      "application/vnd.teradata.resultset": "\"start_station_name\",\"trips\"\n\"Riverside @ S. Lamar\",\"28695\"\n\"City Hall / Lavaca & 2nd\",\"28535\"\n\"5th & Bowie\",\"26669\"\n\"2nd & Congress\",\"26612\"\n\"4th & Congress\",\"24972\"\n\"Convention Center / 4th St. @ MetroRail\",\"24357\"\n\"Rainey St @ Cummings\",\"23468\"\n\"Davis at Rainey Street\",\"22273\"\n\"Capitol Station / Congress & 11th\",\"20056\"\n\"Pfluger Bridge @ W 2nd Street\",\"19434\"\n\"Long Center @ South 1st & Riverside\",\"16285\"\n\"Barton Springs & Riverside\",\"16130\"\n\"Barton Springs @ Kinney Ave\",\"15816\"\n\"3rd & West\",\"15576\"\n\"Palmer Auditorium\",\"15044\"\n\"South Congress & James\",\"14802\"\n\"South Congress & Academy\",\"14607\"\n\"Zilker Park\",\"13390\"\n\"8th & Congress\",\"13034\"\n\"Convention Center / 3rd & Trinity\",\"12848\"",
      "text/html": [
       "<div class = \"td-resultset-table-div\" style = \"max-height: 100%; overflow-y: auto\">\n",
       "      <table class=\"tdhistory834285\"><style>\n",
       "      table.tdhistory834285 { display: block !important; min-height: 504px !important; overflow: auto !important; height: 504px !important; width: 100% !important; border: 1px solid rgb(207, 207, 207) !important; border-collapse: collapse !important; ; color: var(--jp-ui-font-color1) !important; }\n",
       "      th.tdhistory834285 { border: 1px solid rgb(198,198,198) !important; border-collapse: collapse !important; ; padding: 2px 5px !important; ; font-size: 13px !important; ; text-align: center !important; white-space: normal !important; color: var(--jp-ui-font-color1) !important; }\n",
       "      th.tdhistory834285:last-child { text-align: left !important; }\n",
       "      tbody.tdhistory834285 tr:nth-child(even) { background: rgba(243, 243, 243, 0.75) !important; }\n",
       "      tbody.tdhistory834285 tr:nth-child(odd) { background: var(--jp-ui-inverse-font-color1) !important; }\n",
       "      td.tdhistory834285 { border: 1px solid rgb(207, 207, 207) !important; border-collapse: collapse !important; ; padding: 2px 5px !important; ; font-size: 13px !important; ; text-align: left !important;          white-space: nowrap !important; overflow:hidden !important; text-overflow:ellipsis !important;; }\n",
       "    </style><thead><tr style= \"background: rgba(243, 243, 243, 0.75)\"><th class=\"tdhistory834285\"></th><th class=\"tdhistory834285\">start_station_name</th><th class=\"tdhistory834285\">trips</th></tr></thead><tbody class=\"tdhistory834285 resultset-body\"><tr><th class=\"tdhistory834285\" style= \"background: rgba(243, 243, 243, 0.75)\">1</th><td class=\"tdhistory834285\">Riverside @ S. Lamar</td><td class=\"tdhistory834285\">28695</td></tr><tr><th class=\"tdhistory834285\" style= \"background: rgba(243, 243, 243, 0.75)\">2</th><td class=\"tdhistory834285\">City Hall / Lavaca & 2nd</td><td class=\"tdhistory834285\">28535</td></tr><tr><th class=\"tdhistory834285\" style= \"background: rgba(243, 243, 243, 0.75)\">3</th><td class=\"tdhistory834285\">5th & Bowie</td><td class=\"tdhistory834285\">26669</td></tr><tr><th class=\"tdhistory834285\" style= \"background: rgba(243, 243, 243, 0.75)\">4</th><td class=\"tdhistory834285\">2nd & Congress</td><td class=\"tdhistory834285\">26612</td></tr><tr><th class=\"tdhistory834285\" style= \"background: rgba(243, 243, 243, 0.75)\">5</th><td class=\"tdhistory834285\">4th & Congress</td><td class=\"tdhistory834285\">24972</td></tr><tr><th class=\"tdhistory834285\" style= \"background: rgba(243, 243, 243, 0.75)\">6</th><td class=\"tdhistory834285\">Convention Center / 4th St. @ MetroRail</td><td class=\"tdhistory834285\">24357</td></tr><tr><th class=\"tdhistory834285\" style= \"background: rgba(243, 243, 243, 0.75)\">7</th><td class=\"tdhistory834285\">Rainey St @ Cummings</td><td class=\"tdhistory834285\">23468</td></tr><tr><th class=\"tdhistory834285\" style= \"background: rgba(243, 243, 243, 0.75)\">8</th><td class=\"tdhistory834285\">Davis at Rainey Street</td><td class=\"tdhistory834285\">22273</td></tr><tr><th class=\"tdhistory834285\" style= \"background: rgba(243, 243, 243, 0.75)\">9</th><td class=\"tdhistory834285\">Capitol Station / Congress & 11th</td><td class=\"tdhistory834285\">20056</td></tr><tr><th class=\"tdhistory834285\" style= \"background: rgba(243, 243, 243, 0.75)\">10</th><td class=\"tdhistory834285\">Pfluger Bridge @ W 2nd Street</td><td class=\"tdhistory834285\">19434</td></tr><tr><th class=\"tdhistory834285\" style= \"background: rgba(243, 243, 243, 0.75)\">11</th><td class=\"tdhistory834285\">Long Center @ South 1st & Riverside</td><td class=\"tdhistory834285\">16285</td></tr><tr><th class=\"tdhistory834285\" style= \"background: rgba(243, 243, 243, 0.75)\">12</th><td class=\"tdhistory834285\">Barton Springs & Riverside</td><td class=\"tdhistory834285\">16130</td></tr><tr><th class=\"tdhistory834285\" style= \"background: rgba(243, 243, 243, 0.75)\">13</th><td class=\"tdhistory834285\">Barton Springs @ Kinney Ave</td><td class=\"tdhistory834285\">15816</td></tr><tr><th class=\"tdhistory834285\" style= \"background: rgba(243, 243, 243, 0.75)\">14</th><td class=\"tdhistory834285\">3rd & West</td><td class=\"tdhistory834285\">15576</td></tr><tr><th class=\"tdhistory834285\" style= \"background: rgba(243, 243, 243, 0.75)\">15</th><td class=\"tdhistory834285\">Palmer Auditorium</td><td class=\"tdhistory834285\">15044</td></tr><tr><th class=\"tdhistory834285\" style= \"background: rgba(243, 243, 243, 0.75)\">16</th><td class=\"tdhistory834285\">South Congress & James</td><td class=\"tdhistory834285\">14802</td></tr><tr><th class=\"tdhistory834285\" style= \"background: rgba(243, 243, 243, 0.75)\">17</th><td class=\"tdhistory834285\">South Congress & Academy</td><td class=\"tdhistory834285\">14607</td></tr><tr><th class=\"tdhistory834285\" style= \"background: rgba(243, 243, 243, 0.75)\">18</th><td class=\"tdhistory834285\">Zilker Park</td><td class=\"tdhistory834285\">13390</td></tr><tr><th class=\"tdhistory834285\" style= \"background: rgba(243, 243, 243, 0.75)\">19</th><td class=\"tdhistory834285\">8th & Congress</td><td class=\"tdhistory834285\">13034</td></tr><tr><th class=\"tdhistory834285\" style= \"background: rgba(243, 243, 243, 0.75)\">20</th><td class=\"tdhistory834285\">Convention Center / 3rd & Trinity</td><td class=\"tdhistory834285\">12848</td></tr></tbody></table></div>"
      ]
     },
     "execution_count": 25,
     "metadata": {
      "application/vnd.teradata.resultset": "{\"resultSetID\":\"/home/jovyan/Teradata/Resultsets/2022.04.07_10.12.23.368_UTC\",\"historyID\":1043,\"chunkID\":\"00001\",\"sessionid\":\"\",\"portnum\":\"\",\"dockermode\":\"appcenter\",\"totalRowCount\":20,\"chunkCount\":0,\"rowLimit\":0,\"columnMetadata\":[{\"columnName\":\"start_station_name\",\"columnTypeName\":\"VARCHAR\",\"length\":100,\"scale\":100},{\"columnNumber\":1,\"columnName\":\"trips\",\"columnTypeName\":\"INTEGER\"}]}"
     },
     "output_type": "execute_result"
    }
   ],
   "source": [
    "SELECT\n",
    "    TOP 20\n",
    "    start_station_name,\n",
    "    COUNT(1) AS trips\n",
    "FROM\n",
    "    trips\n",
    "GROUP BY 1\n",
    "ORDER BY 2 DESC"
   ]
  },
  {
   "cell_type": "code",
   "execution_count": 26,
   "metadata": {},
   "outputs": [
    {
     "data": {
      "application/vnd.vegalite.v3+json": {
       "$schema": "https://vega.github.io/schema/vega-lite/v3.json",
       "data": {
        "format": {
         "type": "csv"
        },
        "values": "\"start_station_name\",\"trips\"\n\"Riverside @ S. Lamar\",\"28695\"\n\"City Hall / Lavaca & 2nd\",\"28535\"\n\"5th & Bowie\",\"26669\"\n\"2nd & Congress\",\"26612\"\n\"4th & Congress\",\"24972\"\n\"Convention Center / 4th St. @ MetroRail\",\"24357\"\n\"Rainey St @ Cummings\",\"23468\"\n\"Davis at Rainey Street\",\"22273\"\n\"Capitol Station / Congress & 11th\",\"20056\"\n\"Pfluger Bridge @ W 2nd Street\",\"19434\"\n\"Long Center @ South 1st & Riverside\",\"16285\"\n\"Barton Springs & Riverside\",\"16130\"\n\"Barton Springs @ Kinney Ave\",\"15816\"\n\"3rd & West\",\"15576\"\n\"Palmer Auditorium\",\"15044\"\n\"South Congress & James\",\"14802\"\n\"South Congress & Academy\",\"14607\"\n\"Zilker Park\",\"13390\"\n\"8th & Congress\",\"13034\"\n\"Convention Center / 3rd & Trinity\",\"12848\"\n"
       },
       "encoding": {
        "x": {
         "axis": {
          "grid": true,
          "title": "start_station_name"
         },
         "field": "start_station_name",
         "type": "nominal"
        },
        "y": {
         "axis": {
          "grid": true,
          "title": "trips"
         },
         "field": "trips",
         "type": "quantitative"
        }
       },
       "mark": {
        "color": "#4C78A8",
        "type": "bar"
       },
       "title": "Trips by station"
      },
      "image/png": "[encoded data removed]"
     },
     "execution_count": 26,
     "metadata": {
      "application/vnd.teradata.resultset": ""
     },
     "output_type": "execute_result"
    }
   ],
   "source": [
    "%chart start_station_name, trips, title=Trips by station"
   ]
  },
  {
   "cell_type": "code",
   "execution_count": 27,
   "metadata": {},
   "outputs": [
    {
     "data": {
      "text/markdown": [
       "#### %chart\n",
       "Display a Vega-Lite visualization of a query result set or an existing Vega or VegaLite chart.\n",
       "\n",
       "%chart x=&lt;XColumnName&gt;, y=&lt;YColumnName&gt;,</br>\n",
       "[title=&lt;ChartTitle&gt;,] [id=&lt;ResultSetID&gt;|&lt;HistoryID&gt;,] [part=&lt;PartNum&gt;]</br>\n",
       "[labelx=&lt;XLabel&gt;,] [labely=&lt;YLabel&gt;,]</br>\n",
       "[gridx=&lt;ttrue|false&gt;,] [gridy=&lt;true|false&gt;,]</br>\n",
       "[typex=&lt;q|n|o|t&gt;,] [typey=&lt;q|n|o|t&gt;,]</br>\n",
       "[mark=&lt;area|bar|circle|line|point|rect|rule|square|text|tick&gt;,]</br>\n",
       "[color=&lt;CSSColorSpec&gt;,] [height=&lt;ChartHeight&gt;,] [width=&lt;ChartWidth&gt;]</br>\n",
       "[spec=&lt;ChartSpec&gt;, [data=&lt;ChartData&gt;]]\n",
       "\n",
       "* **typex** and **typey** values: q=quantitative n=nominal o=ordinal t=temporal\n",
       "  * (defaults based on column type: numeric types -> quantitative, time times -> temporal, other types -> nominal)\n",
       "* **&lt;ResultSetID&gt;** is the timestamp/directory name of the result set.\n",
       "* **&lt;HistoryID&gt;** is the id of the history item (see **%history** command).\n",
       "* If the **id** is not specified, the most recently accessed result set is displayed.\n",
       "* The **spec** parameter is used to display an existing chart spec.\n",
       "* If **spec** is used, only **data**, **id**, and **part** parameters are supported."
      ]
     },
     "execution_count": 27,
     "metadata": {
      "application/vnd.teradata.resultset": "helpdata"
     },
     "output_type": "execute_result"
    }
   ],
   "source": [
    "%help chart"
   ]
  },
  {
   "cell_type": "code",
   "execution_count": 28,
   "metadata": {},
   "outputs": [
    {
     "data": {
      "application/vnd.teradata.resultset": "\"start_date\",\"trips\"\n\"2013-12-15\",\"103\"\n\"2013-12-22\",\"852\"\n\"2013-12-29\",\"1149\"\n\"2014-01-05\",\"567\"\n\"2014-01-12\",\"837\"\n\"2014-01-19\",\"771\"\n\"2014-01-26\",\"838\"\n\"2014-02-02\",\"586\"\n\"2014-02-09\",\"1531\"\n\"2014-02-16\",\"1903\"\n\"2014-02-23\",\"1748\"\n\"2014-03-02\",\"2463\"\n\"2014-03-09\",\"14612\"\n\"2014-03-16\",\"3991\"\n\"2014-03-23\",\"3064\"\n\"2014-03-30\",\"3089\"\n\"2014-04-06\",\"3082\"\n\"2014-04-13\",\"3626\"\n\"2014-04-20\",\"4145\"\n\"2014-04-27\",\"3497\"\n\"2014-05-04\",\"3089\"\n\"2014-05-11\",\"3140\"\n\"2014-05-18\",\"3452\"\n\"2014-05-25\",\"3503\"\n\"2014-06-01\",\"3849\"\n\"2014-06-08\",\"3073\"\n\"2014-06-15\",\"3094\"\n\"2014-06-22\",\"2854\"\n\"2014-06-29\",\"4030\"\n\"2014-07-06\",\"3311\"\n\"2014-07-13\",\"2917\"\n\"2014-07-20\",\"3119\"\n\"2014-07-27\",\"2903\"\n\"2014-08-03\",\"2689\"\n\"2014-08-10\",\"2422\"\n\"2014-08-17\",\"2488\"\n\"2014-08-24\",\"2375\"\n\"2014-08-31\",\"2277\"\n\"2014-09-07\",\"2115\"\n\"2014-09-14\",\"2599\"\n\"2014-09-21\",\"3280\"\n\"2014-09-28\",\"5144\"\n\"2014-10-05\",\"6428\"\n\"2014-10-12\",\"5817\"\n\"2014-10-19\",\"3665\"\n\"2014-10-26\",\"3876\"\n\"2014-11-02\",\"3091\"\n\"2014-11-09\",\"2307\"\n\"2014-11-16\",\"1294\"\n\"2014-11-23\",\"2736\"\n\"2014-11-30\",\"2085\"\n\"2014-12-07\",\"1802\"\n\"2014-12-14\",\"1517\"\n\"2014-12-21\",\"1502\"\n\"2014-12-28\",\"1312\"\n\"2015-01-04\",\"952\"\n\"2015-01-11\",\"1928\"\n\"2015-01-18\",\"2371\"\n\"2015-01-25\",\"2065\"\n\"2015-02-01\",\"1726\"\n\"2015-02-08\",\"3719\"\n\"2015-02-15\",\"3361\"\n\"2015-02-22\",\"766\"\n\"2015-03-01\",\"1737\"\n\"2015-03-08\",\"6134\"\n\"2015-03-15\",\"15538\"\n\"2015-03-22\",\"4841\"\n\"2015-03-29\",\"4491\"\n\"2015-04-05\",\"3471\"\n\"2015-04-12\",\"3795\"\n\"2015-04-19\",\"4297\"\n\"2015-04-26\",\"3897\"\n\"2015-05-03\",\"3429\"\n\"2015-05-10\",\"2680\"\n\"2015-05-17\",\"3078\"\n\"2015-05-24\",\"4355\"\n\"2015-05-31\",\"3789\"\n\"2015-06-07\",\"3805\"\n\"2015-06-14\",\"2621\"\n\"2015-06-21\",\"3272\"\n\"2015-06-28\",\"4326\"\n\"2015-07-05\",\"3797\"\n\"2015-07-12\",\"3599\"\n\"2015-07-19\",\"3374\"\n\"2015-07-26\",\"3094\"\n\"2015-08-02\",\"3613\"\n\"2015-08-09\",\"3081\"\n\"2015-08-16\",\"3227\"\n\"2015-08-23\",\"3013\"\n\"2015-08-30\",\"3442\"\n\"2015-09-06\",\"3924\"\n\"2015-09-13\",\"3478\"\n\"2015-09-20\",\"3537\"\n\"2015-09-27\",\"5573\"\n\"2015-10-04\",\"7463\"\n\"2015-10-11\",\"5550\"\n\"2015-10-18\",\"2845\"\n\"2015-10-25\",\"3199\"\n\"2015-11-01\",\"3332\"\n\"2015-11-08\",\"3409\"\n\"2015-11-15\",\"3014\"\n\"2015-11-22\",\"1771\"\n\"2015-11-29\",\"1854\"\n\"2015-12-06\",\"2725\"\n\"2015-12-13\",\"2096\"\n\"2015-12-20\",\"2233\"\n\"2015-12-27\",\"2425\"\n\"2016-01-03\",\"4709\"\n\"2016-01-10\",\"4858\"\n\"2016-01-17\",\"5028\"\n\"2016-01-24\",\"5066\"\n\"2016-01-31\",\"3576\"\n\"2016-02-07\",\"3368\"\n\"2016-02-14\",\"3903\"\n\"2016-02-21\",\"2998\"\n\"2016-02-28\",\"3883\"\n\"2016-03-06\",\"5139\"\n\"2016-03-13\",\"13414\"\n\"2016-03-20\",\"5185\"\n\"2016-03-27\",\"2915\"\n\"2016-05-01\",\"4178\"\n\"2016-05-08\",\"3782\"\n\"2016-05-15\",\"4857\"\n\"2016-05-22\",\"4136\"\n\"2016-05-29\",\"4793\"\n\"2016-06-05\",\"4419\"\n\"2016-06-12\",\"3892\"\n\"2016-06-19\",\"3800\"\n\"2016-06-26\",\"3673\"\n\"2016-07-03\",\"4155\"\n\"2016-07-10\",\"3551\"\n\"2016-07-17\",\"3180\"\n\"2016-07-24\",\"3348\"\n\"2016-07-31\",\"3662\"\n\"2016-08-07\",\"2923\"\n\"2016-08-14\",\"1858\"\n\"2016-08-21\",\"3144\"\n\"2016-08-28\",\"3231\"\n\"2016-09-04\",\"4098\"\n\"2016-09-11\",\"3172\"\n\"2016-09-18\",\"3180\"\n\"2016-09-25\",\"5536\"\n\"2016-10-02\",\"7484\"\n\"2016-10-09\",\"6108\"\n\"2016-10-16\",\"3615\"\n\"2016-10-23\",\"3935\"\n\"2016-10-30\",\"3501\"\n\"2016-11-06\",\"4229\"\n\"2016-11-13\",\"3599\"\n\"2016-11-20\",\"3256\"\n\"2016-11-27\",\"1303\"\n\"2017-01-01\",\"2357\"\n\"2017-01-08\",\"2367\"\n\"2017-01-15\",\"2411\"\n\"2017-01-22\",\"2262\"\n\"2017-01-29\",\"1972\"\n\"2017-02-05\",\"3061\"\n\"2017-02-12\",\"3866\"\n\"2017-02-19\",\"4202\"\n\"2017-02-26\",\"3034\"\n\"2017-03-05\",\"4214\"\n\"2017-03-12\",\"12212\"\n\"2017-03-19\",\"4853\"\n\"2017-03-26\",\"4611\"\n\"2017-04-02\",\"5437\"\n\"2017-04-09\",\"5494\"\n\"2017-04-16\",\"4959\"\n\"2017-04-23\",\"4786\"\n\"2017-04-30\",\"4425\"\n\"2017-05-07\",\"4168\"\n\"2017-05-14\",\"3756\"\n\"2017-05-21\",\"4741\"\n\"2017-05-28\",\"4845\"\n\"2017-06-04\",\"4094\"\n\"2017-06-11\",\"3848\"\n\"2017-06-18\",\"3446\"\n\"2017-06-25\",\"3502\"\n\"2017-07-02\",\"4184\"\n\"2017-07-09\",\"3169\"\n\"2017-07-16\",\"3018\"\n\"2017-07-23\",\"2867\"\n\"2017-07-30\",\"709\"",
      "text/html": [
       "<div class = \"td-resultset-table-div\" style = \"max-height: 100%; overflow-y: auto\">\n",
       "      <table class=\"tdhistory284515\"><style>\n",
       "      table.tdhistory284515 { display: block !important; min-height: 588px !important; overflow: auto !important; height: 588px !important; width: 100% !important; border: 1px solid rgb(207, 207, 207) !important; border-collapse: collapse !important; ; color: var(--jp-ui-font-color1) !important; }\n",
       "      th.tdhistory284515 { border: 1px solid rgb(198,198,198) !important; border-collapse: collapse !important; ; padding: 2px 5px !important; ; font-size: 13px !important; ; text-align: center !important; white-space: normal !important; color: var(--jp-ui-font-color1) !important; }\n",
       "      th.tdhistory284515:last-child { text-align: left !important; }\n",
       "      tbody.tdhistory284515 tr:nth-child(even) { background: rgba(243, 243, 243, 0.75) !important; }\n",
       "      tbody.tdhistory284515 tr:nth-child(odd) { background: var(--jp-ui-inverse-font-color1) !important; }\n",
       "      td.tdhistory284515 { border: 1px solid rgb(207, 207, 207) !important; border-collapse: collapse !important; ; padding: 2px 5px !important; ; font-size: 13px !important; ; text-align: left !important;          white-space: nowrap !important; overflow:hidden !important; text-overflow:ellipsis !important;; }\n",
       "    </style><thead><tr style= \"background: rgba(243, 243, 243, 0.75)\"><th class=\"tdhistory284515\"></th><th class=\"tdhistory284515\">start_date</th><th class=\"tdhistory284515\">trips</th></tr></thead><tbody class=\"tdhistory284515 resultset-body\"><tr><th class=\"tdhistory284515\" style= \"background: rgba(243, 243, 243, 0.75)\">1</th><td class=\"tdhistory284515\">2013-12-15</td><td class=\"tdhistory284515\">103</td></tr><tr><th class=\"tdhistory284515\" style= \"background: rgba(243, 243, 243, 0.75)\">2</th><td class=\"tdhistory284515\">2013-12-22</td><td class=\"tdhistory284515\">852</td></tr><tr><th class=\"tdhistory284515\" style= \"background: rgba(243, 243, 243, 0.75)\">3</th><td class=\"tdhistory284515\">2013-12-29</td><td class=\"tdhistory284515\">1149</td></tr><tr><th class=\"tdhistory284515\" style= \"background: rgba(243, 243, 243, 0.75)\">4</th><td class=\"tdhistory284515\">2014-01-05</td><td class=\"tdhistory284515\">567</td></tr><tr><th class=\"tdhistory284515\" style= \"background: rgba(243, 243, 243, 0.75)\">5</th><td class=\"tdhistory284515\">2014-01-12</td><td class=\"tdhistory284515\">837</td></tr><tr><th class=\"tdhistory284515\" style= \"background: rgba(243, 243, 243, 0.75)\">6</th><td class=\"tdhistory284515\">2014-01-19</td><td class=\"tdhistory284515\">771</td></tr><tr><th class=\"tdhistory284515\" style= \"background: rgba(243, 243, 243, 0.75)\">7</th><td class=\"tdhistory284515\">2014-01-26</td><td class=\"tdhistory284515\">838</td></tr><tr><th class=\"tdhistory284515\" style= \"background: rgba(243, 243, 243, 0.75)\">8</th><td class=\"tdhistory284515\">2014-02-02</td><td class=\"tdhistory284515\">586</td></tr><tr><th class=\"tdhistory284515\" style= \"background: rgba(243, 243, 243, 0.75)\">9</th><td class=\"tdhistory284515\">2014-02-09</td><td class=\"tdhistory284515\">1531</td></tr><tr><th class=\"tdhistory284515\" style= \"background: rgba(243, 243, 243, 0.75)\">10</th><td class=\"tdhistory284515\">2014-02-16</td><td class=\"tdhistory284515\">1903</td></tr><tr><th class=\"tdhistory284515\" style= \"background: rgba(243, 243, 243, 0.75)\">11</th><td class=\"tdhistory284515\">2014-02-23</td><td class=\"tdhistory284515\">1748</td></tr><tr><th class=\"tdhistory284515\" style= \"background: rgba(243, 243, 243, 0.75)\">12</th><td class=\"tdhistory284515\">2014-03-02</td><td class=\"tdhistory284515\">2463</td></tr><tr><th class=\"tdhistory284515\" style= \"background: rgba(243, 243, 243, 0.75)\">13</th><td class=\"tdhistory284515\">2014-03-09</td><td class=\"tdhistory284515\">14612</td></tr><tr><th class=\"tdhistory284515\" style= \"background: rgba(243, 243, 243, 0.75)\">14</th><td class=\"tdhistory284515\">2014-03-16</td><td class=\"tdhistory284515\">3991</td></tr><tr><th class=\"tdhistory284515\" style= \"background: rgba(243, 243, 243, 0.75)\">15</th><td class=\"tdhistory284515\">2014-03-23</td><td class=\"tdhistory284515\">3064</td></tr><tr><th class=\"tdhistory284515\" style= \"background: rgba(243, 243, 243, 0.75)\">16</th><td class=\"tdhistory284515\">2014-03-30</td><td class=\"tdhistory284515\">3089</td></tr><tr><th class=\"tdhistory284515\" style= \"background: rgba(243, 243, 243, 0.75)\">17</th><td class=\"tdhistory284515\">2014-04-06</td><td class=\"tdhistory284515\">3082</td></tr><tr><th class=\"tdhistory284515\" style= \"background: rgba(243, 243, 243, 0.75)\">18</th><td class=\"tdhistory284515\">2014-04-13</td><td class=\"tdhistory284515\">3626</td></tr><tr><th class=\"tdhistory284515\" style= \"background: rgba(243, 243, 243, 0.75)\">19</th><td class=\"tdhistory284515\">2014-04-20</td><td class=\"tdhistory284515\">4145</td></tr><tr><th class=\"tdhistory284515\" style= \"background: rgba(243, 243, 243, 0.75)\">20</th><td class=\"tdhistory284515\">2014-04-27</td><td class=\"tdhistory284515\">3497</td></tr><tr><th class=\"tdhistory284515\" style= \"background: rgba(243, 243, 243, 0.75)\">21</th><td class=\"tdhistory284515\">2014-05-04</td><td class=\"tdhistory284515\">3089</td></tr><tr><th class=\"tdhistory284515\" style= \"background: rgba(243, 243, 243, 0.75)\">22</th><td class=\"tdhistory284515\">2014-05-11</td><td class=\"tdhistory284515\">3140</td></tr><tr><th class=\"tdhistory284515\" style= \"background: rgba(243, 243, 243, 0.75)\">23</th><td class=\"tdhistory284515\">2014-05-18</td><td class=\"tdhistory284515\">3452</td></tr><tr><th class=\"tdhistory284515\" style= \"background: rgba(243, 243, 243, 0.75)\">24</th><td class=\"tdhistory284515\">2014-05-25</td><td class=\"tdhistory284515\">3503</td></tr><tr><th class=\"tdhistory284515\" style= \"background: rgba(243, 243, 243, 0.75)\">25</th><td class=\"tdhistory284515\">2014-06-01</td><td class=\"tdhistory284515\">3849</td></tr><tr><th class=\"tdhistory284515\" style= \"background: rgba(243, 243, 243, 0.75)\">26</th><td class=\"tdhistory284515\">2014-06-08</td><td class=\"tdhistory284515\">3073</td></tr><tr><th class=\"tdhistory284515\" style= \"background: rgba(243, 243, 243, 0.75)\">27</th><td class=\"tdhistory284515\">2014-06-15</td><td class=\"tdhistory284515\">3094</td></tr><tr><th class=\"tdhistory284515\" style= \"background: rgba(243, 243, 243, 0.75)\">28</th><td class=\"tdhistory284515\">2014-06-22</td><td class=\"tdhistory284515\">2854</td></tr><tr><th class=\"tdhistory284515\" style= \"background: rgba(243, 243, 243, 0.75)\">29</th><td class=\"tdhistory284515\">2014-06-29</td><td class=\"tdhistory284515\">4030</td></tr><tr><th class=\"tdhistory284515\" style= \"background: rgba(243, 243, 243, 0.75)\">30</th><td class=\"tdhistory284515\">2014-07-06</td><td class=\"tdhistory284515\">3311</td></tr><tr><th class=\"tdhistory284515\" style= \"background: rgba(243, 243, 243, 0.75)\">31</th><td class=\"tdhistory284515\">2014-07-13</td><td class=\"tdhistory284515\">2917</td></tr><tr><th class=\"tdhistory284515\" style= \"background: rgba(243, 243, 243, 0.75)\">32</th><td class=\"tdhistory284515\">2014-07-20</td><td class=\"tdhistory284515\">3119</td></tr><tr><th class=\"tdhistory284515\" style= \"background: rgba(243, 243, 243, 0.75)\">33</th><td class=\"tdhistory284515\">2014-07-27</td><td class=\"tdhistory284515\">2903</td></tr><tr><th class=\"tdhistory284515\" style= \"background: rgba(243, 243, 243, 0.75)\">34</th><td class=\"tdhistory284515\">2014-08-03</td><td class=\"tdhistory284515\">2689</td></tr><tr><th class=\"tdhistory284515\" style= \"background: rgba(243, 243, 243, 0.75)\">35</th><td class=\"tdhistory284515\">2014-08-10</td><td class=\"tdhistory284515\">2422</td></tr><tr><th class=\"tdhistory284515\" style= \"background: rgba(243, 243, 243, 0.75)\">36</th><td class=\"tdhistory284515\">2014-08-17</td><td class=\"tdhistory284515\">2488</td></tr><tr><th class=\"tdhistory284515\" style= \"background: rgba(243, 243, 243, 0.75)\">37</th><td class=\"tdhistory284515\">2014-08-24</td><td class=\"tdhistory284515\">2375</td></tr><tr><th class=\"tdhistory284515\" style= \"background: rgba(243, 243, 243, 0.75)\">38</th><td class=\"tdhistory284515\">2014-08-31</td><td class=\"tdhistory284515\">2277</td></tr><tr><th class=\"tdhistory284515\" style= \"background: rgba(243, 243, 243, 0.75)\">39</th><td class=\"tdhistory284515\">2014-09-07</td><td class=\"tdhistory284515\">2115</td></tr><tr><th class=\"tdhistory284515\" style= \"background: rgba(243, 243, 243, 0.75)\">40</th><td class=\"tdhistory284515\">2014-09-14</td><td class=\"tdhistory284515\">2599</td></tr><tr><th class=\"tdhistory284515\" style= \"background: rgba(243, 243, 243, 0.75)\">41</th><td class=\"tdhistory284515\">2014-09-21</td><td class=\"tdhistory284515\">3280</td></tr><tr><th class=\"tdhistory284515\" style= \"background: rgba(243, 243, 243, 0.75)\">42</th><td class=\"tdhistory284515\">2014-09-28</td><td class=\"tdhistory284515\">5144</td></tr><tr><th class=\"tdhistory284515\" style= \"background: rgba(243, 243, 243, 0.75)\">43</th><td class=\"tdhistory284515\">2014-10-05</td><td class=\"tdhistory284515\">6428</td></tr><tr><th class=\"tdhistory284515\" style= \"background: rgba(243, 243, 243, 0.75)\">44</th><td class=\"tdhistory284515\">2014-10-12</td><td class=\"tdhistory284515\">5817</td></tr><tr><th class=\"tdhistory284515\" style= \"background: rgba(243, 243, 243, 0.75)\">45</th><td class=\"tdhistory284515\">2014-10-19</td><td class=\"tdhistory284515\">3665</td></tr><tr><th class=\"tdhistory284515\" style= \"background: rgba(243, 243, 243, 0.75)\">46</th><td class=\"tdhistory284515\">2014-10-26</td><td class=\"tdhistory284515\">3876</td></tr><tr><th class=\"tdhistory284515\" style= \"background: rgba(243, 243, 243, 0.75)\">47</th><td class=\"tdhistory284515\">2014-11-02</td><td class=\"tdhistory284515\">3091</td></tr><tr><th class=\"tdhistory284515\" style= \"background: rgba(243, 243, 243, 0.75)\">48</th><td class=\"tdhistory284515\">2014-11-09</td><td class=\"tdhistory284515\">2307</td></tr><tr><th class=\"tdhistory284515\" style= \"background: rgba(243, 243, 243, 0.75)\">49</th><td class=\"tdhistory284515\">2014-11-16</td><td class=\"tdhistory284515\">1294</td></tr><tr><th class=\"tdhistory284515\" style= \"background: rgba(243, 243, 243, 0.75)\">50</th><td class=\"tdhistory284515\">2014-11-23</td><td class=\"tdhistory284515\">2736</td></tr><tr><th class=\"tdhistory284515\" style= \"background: rgba(243, 243, 243, 0.75)\">51</th><td class=\"tdhistory284515\">2014-11-30</td><td class=\"tdhistory284515\">2085</td></tr><tr><th class=\"tdhistory284515\" style= \"background: rgba(243, 243, 243, 0.75)\">52</th><td class=\"tdhistory284515\">2014-12-07</td><td class=\"tdhistory284515\">1802</td></tr><tr><th class=\"tdhistory284515\" style= \"background: rgba(243, 243, 243, 0.75)\">53</th><td class=\"tdhistory284515\">2014-12-14</td><td class=\"tdhistory284515\">1517</td></tr><tr><th class=\"tdhistory284515\" style= \"background: rgba(243, 243, 243, 0.75)\">54</th><td class=\"tdhistory284515\">2014-12-21</td><td class=\"tdhistory284515\">1502</td></tr><tr><th class=\"tdhistory284515\" style= \"background: rgba(243, 243, 243, 0.75)\">55</th><td class=\"tdhistory284515\">2014-12-28</td><td class=\"tdhistory284515\">1312</td></tr><tr><th class=\"tdhistory284515\" style= \"background: rgba(243, 243, 243, 0.75)\">56</th><td class=\"tdhistory284515\">2015-01-04</td><td class=\"tdhistory284515\">952</td></tr><tr><th class=\"tdhistory284515\" style= \"background: rgba(243, 243, 243, 0.75)\">57</th><td class=\"tdhistory284515\">2015-01-11</td><td class=\"tdhistory284515\">1928</td></tr><tr><th class=\"tdhistory284515\" style= \"background: rgba(243, 243, 243, 0.75)\">58</th><td class=\"tdhistory284515\">2015-01-18</td><td class=\"tdhistory284515\">2371</td></tr><tr><th class=\"tdhistory284515\" style= \"background: rgba(243, 243, 243, 0.75)\">59</th><td class=\"tdhistory284515\">2015-01-25</td><td class=\"tdhistory284515\">2065</td></tr><tr><th class=\"tdhistory284515\" style= \"background: rgba(243, 243, 243, 0.75)\">60</th><td class=\"tdhistory284515\">2015-02-01</td><td class=\"tdhistory284515\">1726</td></tr><tr><th class=\"tdhistory284515\" style= \"background: rgba(243, 243, 243, 0.75)\">61</th><td class=\"tdhistory284515\">2015-02-08</td><td class=\"tdhistory284515\">3719</td></tr><tr><th class=\"tdhistory284515\" style= \"background: rgba(243, 243, 243, 0.75)\">62</th><td class=\"tdhistory284515\">2015-02-15</td><td class=\"tdhistory284515\">3361</td></tr><tr><th class=\"tdhistory284515\" style= \"background: rgba(243, 243, 243, 0.75)\">63</th><td class=\"tdhistory284515\">2015-02-22</td><td class=\"tdhistory284515\">766</td></tr><tr><th class=\"tdhistory284515\" style= \"background: rgba(243, 243, 243, 0.75)\">64</th><td class=\"tdhistory284515\">2015-03-01</td><td class=\"tdhistory284515\">1737</td></tr><tr><th class=\"tdhistory284515\" style= \"background: rgba(243, 243, 243, 0.75)\">65</th><td class=\"tdhistory284515\">2015-03-08</td><td class=\"tdhistory284515\">6134</td></tr><tr><th class=\"tdhistory284515\" style= \"background: rgba(243, 243, 243, 0.75)\">66</th><td class=\"tdhistory284515\">2015-03-15</td><td class=\"tdhistory284515\">15538</td></tr><tr><th class=\"tdhistory284515\" style= \"background: rgba(243, 243, 243, 0.75)\">67</th><td class=\"tdhistory284515\">2015-03-22</td><td class=\"tdhistory284515\">4841</td></tr><tr><th class=\"tdhistory284515\" style= \"background: rgba(243, 243, 243, 0.75)\">68</th><td class=\"tdhistory284515\">2015-03-29</td><td class=\"tdhistory284515\">4491</td></tr><tr><th class=\"tdhistory284515\" style= \"background: rgba(243, 243, 243, 0.75)\">69</th><td class=\"tdhistory284515\">2015-04-05</td><td class=\"tdhistory284515\">3471</td></tr><tr><th class=\"tdhistory284515\" style= \"background: rgba(243, 243, 243, 0.75)\">70</th><td class=\"tdhistory284515\">2015-04-12</td><td class=\"tdhistory284515\">3795</td></tr><tr><th class=\"tdhistory284515\" style= \"background: rgba(243, 243, 243, 0.75)\">71</th><td class=\"tdhistory284515\">2015-04-19</td><td class=\"tdhistory284515\">4297</td></tr><tr><th class=\"tdhistory284515\" style= \"background: rgba(243, 243, 243, 0.75)\">72</th><td class=\"tdhistory284515\">2015-04-26</td><td class=\"tdhistory284515\">3897</td></tr><tr><th class=\"tdhistory284515\" style= \"background: rgba(243, 243, 243, 0.75)\">73</th><td class=\"tdhistory284515\">2015-05-03</td><td class=\"tdhistory284515\">3429</td></tr><tr><th class=\"tdhistory284515\" style= \"background: rgba(243, 243, 243, 0.75)\">74</th><td class=\"tdhistory284515\">2015-05-10</td><td class=\"tdhistory284515\">2680</td></tr><tr><th class=\"tdhistory284515\" style= \"background: rgba(243, 243, 243, 0.75)\">75</th><td class=\"tdhistory284515\">2015-05-17</td><td class=\"tdhistory284515\">3078</td></tr><tr><th class=\"tdhistory284515\" style= \"background: rgba(243, 243, 243, 0.75)\">76</th><td class=\"tdhistory284515\">2015-05-24</td><td class=\"tdhistory284515\">4355</td></tr><tr><th class=\"tdhistory284515\" style= \"background: rgba(243, 243, 243, 0.75)\">77</th><td class=\"tdhistory284515\">2015-05-31</td><td class=\"tdhistory284515\">3789</td></tr><tr><th class=\"tdhistory284515\" style= \"background: rgba(243, 243, 243, 0.75)\">78</th><td class=\"tdhistory284515\">2015-06-07</td><td class=\"tdhistory284515\">3805</td></tr><tr><th class=\"tdhistory284515\" style= \"background: rgba(243, 243, 243, 0.75)\">79</th><td class=\"tdhistory284515\">2015-06-14</td><td class=\"tdhistory284515\">2621</td></tr><tr><th class=\"tdhistory284515\" style= \"background: rgba(243, 243, 243, 0.75)\">80</th><td class=\"tdhistory284515\">2015-06-21</td><td class=\"tdhistory284515\">3272</td></tr><tr><th class=\"tdhistory284515\" style= \"background: rgba(243, 243, 243, 0.75)\">81</th><td class=\"tdhistory284515\">2015-06-28</td><td class=\"tdhistory284515\">4326</td></tr><tr><th class=\"tdhistory284515\" style= \"background: rgba(243, 243, 243, 0.75)\">82</th><td class=\"tdhistory284515\">2015-07-05</td><td class=\"tdhistory284515\">3797</td></tr><tr><th class=\"tdhistory284515\" style= \"background: rgba(243, 243, 243, 0.75)\">83</th><td class=\"tdhistory284515\">2015-07-12</td><td class=\"tdhistory284515\">3599</td></tr><tr><th class=\"tdhistory284515\" style= \"background: rgba(243, 243, 243, 0.75)\">84</th><td class=\"tdhistory284515\">2015-07-19</td><td class=\"tdhistory284515\">3374</td></tr><tr><th class=\"tdhistory284515\" style= \"background: rgba(243, 243, 243, 0.75)\">85</th><td class=\"tdhistory284515\">2015-07-26</td><td class=\"tdhistory284515\">3094</td></tr><tr><th class=\"tdhistory284515\" style= \"background: rgba(243, 243, 243, 0.75)\">86</th><td class=\"tdhistory284515\">2015-08-02</td><td class=\"tdhistory284515\">3613</td></tr><tr><th class=\"tdhistory284515\" style= \"background: rgba(243, 243, 243, 0.75)\">87</th><td class=\"tdhistory284515\">2015-08-09</td><td class=\"tdhistory284515\">3081</td></tr><tr><th class=\"tdhistory284515\" style= \"background: rgba(243, 243, 243, 0.75)\">88</th><td class=\"tdhistory284515\">2015-08-16</td><td class=\"tdhistory284515\">3227</td></tr><tr><th class=\"tdhistory284515\" style= \"background: rgba(243, 243, 243, 0.75)\">89</th><td class=\"tdhistory284515\">2015-08-23</td><td class=\"tdhistory284515\">3013</td></tr><tr><th class=\"tdhistory284515\" style= \"background: rgba(243, 243, 243, 0.75)\">90</th><td class=\"tdhistory284515\">2015-08-30</td><td class=\"tdhistory284515\">3442</td></tr><tr><th class=\"tdhistory284515\" style= \"background: rgba(243, 243, 243, 0.75)\">91</th><td class=\"tdhistory284515\">2015-09-06</td><td class=\"tdhistory284515\">3924</td></tr><tr><th class=\"tdhistory284515\" style= \"background: rgba(243, 243, 243, 0.75)\">92</th><td class=\"tdhistory284515\">2015-09-13</td><td class=\"tdhistory284515\">3478</td></tr><tr><th class=\"tdhistory284515\" style= \"background: rgba(243, 243, 243, 0.75)\">93</th><td class=\"tdhistory284515\">2015-09-20</td><td class=\"tdhistory284515\">3537</td></tr><tr><th class=\"tdhistory284515\" style= \"background: rgba(243, 243, 243, 0.75)\">94</th><td class=\"tdhistory284515\">2015-09-27</td><td class=\"tdhistory284515\">5573</td></tr><tr><th class=\"tdhistory284515\" style= \"background: rgba(243, 243, 243, 0.75)\">95</th><td class=\"tdhistory284515\">2015-10-04</td><td class=\"tdhistory284515\">7463</td></tr><tr><th class=\"tdhistory284515\" style= \"background: rgba(243, 243, 243, 0.75)\">96</th><td class=\"tdhistory284515\">2015-10-11</td><td class=\"tdhistory284515\">5550</td></tr><tr><th class=\"tdhistory284515\" style= \"background: rgba(243, 243, 243, 0.75)\">97</th><td class=\"tdhistory284515\">2015-10-18</td><td class=\"tdhistory284515\">2845</td></tr><tr><th class=\"tdhistory284515\" style= \"background: rgba(243, 243, 243, 0.75)\">98</th><td class=\"tdhistory284515\">2015-10-25</td><td class=\"tdhistory284515\">3199</td></tr><tr><th class=\"tdhistory284515\" style= \"background: rgba(243, 243, 243, 0.75)\">99</th><td class=\"tdhistory284515\">2015-11-01</td><td class=\"tdhistory284515\">3332</td></tr><tr><th class=\"tdhistory284515\" style= \"background: rgba(243, 243, 243, 0.75)\">100</th><td class=\"tdhistory284515\">2015-11-08</td><td class=\"tdhistory284515\">3409</td></tr><tr><th class=\"tdhistory284515\" style= \"background: rgba(243, 243, 243, 0.75)\">101</th><td class=\"tdhistory284515\">2015-11-15</td><td class=\"tdhistory284515\">3014</td></tr><tr><th class=\"tdhistory284515\" style= \"background: rgba(243, 243, 243, 0.75)\">102</th><td class=\"tdhistory284515\">2015-11-22</td><td class=\"tdhistory284515\">1771</td></tr><tr><th class=\"tdhistory284515\" style= \"background: rgba(243, 243, 243, 0.75)\">103</th><td class=\"tdhistory284515\">2015-11-29</td><td class=\"tdhistory284515\">1854</td></tr><tr><th class=\"tdhistory284515\" style= \"background: rgba(243, 243, 243, 0.75)\">104</th><td class=\"tdhistory284515\">2015-12-06</td><td class=\"tdhistory284515\">2725</td></tr><tr><th class=\"tdhistory284515\" style= \"background: rgba(243, 243, 243, 0.75)\">105</th><td class=\"tdhistory284515\">2015-12-13</td><td class=\"tdhistory284515\">2096</td></tr><tr><th class=\"tdhistory284515\" style= \"background: rgba(243, 243, 243, 0.75)\">106</th><td class=\"tdhistory284515\">2015-12-20</td><td class=\"tdhistory284515\">2233</td></tr><tr><th class=\"tdhistory284515\" style= \"background: rgba(243, 243, 243, 0.75)\">107</th><td class=\"tdhistory284515\">2015-12-27</td><td class=\"tdhistory284515\">2425</td></tr><tr><th class=\"tdhistory284515\" style= \"background: rgba(243, 243, 243, 0.75)\">108</th><td class=\"tdhistory284515\">2016-01-03</td><td class=\"tdhistory284515\">4709</td></tr><tr><th class=\"tdhistory284515\" style= \"background: rgba(243, 243, 243, 0.75)\">109</th><td class=\"tdhistory284515\">2016-01-10</td><td class=\"tdhistory284515\">4858</td></tr><tr><th class=\"tdhistory284515\" style= \"background: rgba(243, 243, 243, 0.75)\">110</th><td class=\"tdhistory284515\">2016-01-17</td><td class=\"tdhistory284515\">5028</td></tr><tr><th class=\"tdhistory284515\" style= \"background: rgba(243, 243, 243, 0.75)\">111</th><td class=\"tdhistory284515\">2016-01-24</td><td class=\"tdhistory284515\">5066</td></tr><tr><th class=\"tdhistory284515\" style= \"background: rgba(243, 243, 243, 0.75)\">112</th><td class=\"tdhistory284515\">2016-01-31</td><td class=\"tdhistory284515\">3576</td></tr><tr><th class=\"tdhistory284515\" style= \"background: rgba(243, 243, 243, 0.75)\">113</th><td class=\"tdhistory284515\">2016-02-07</td><td class=\"tdhistory284515\">3368</td></tr><tr><th class=\"tdhistory284515\" style= \"background: rgba(243, 243, 243, 0.75)\">114</th><td class=\"tdhistory284515\">2016-02-14</td><td class=\"tdhistory284515\">3903</td></tr><tr><th class=\"tdhistory284515\" style= \"background: rgba(243, 243, 243, 0.75)\">115</th><td class=\"tdhistory284515\">2016-02-21</td><td class=\"tdhistory284515\">2998</td></tr><tr><th class=\"tdhistory284515\" style= \"background: rgba(243, 243, 243, 0.75)\">116</th><td class=\"tdhistory284515\">2016-02-28</td><td class=\"tdhistory284515\">3883</td></tr><tr><th class=\"tdhistory284515\" style= \"background: rgba(243, 243, 243, 0.75)\">117</th><td class=\"tdhistory284515\">2016-03-06</td><td class=\"tdhistory284515\">5139</td></tr><tr><th class=\"tdhistory284515\" style= \"background: rgba(243, 243, 243, 0.75)\">118</th><td class=\"tdhistory284515\">2016-03-13</td><td class=\"tdhistory284515\">13414</td></tr><tr><th class=\"tdhistory284515\" style= \"background: rgba(243, 243, 243, 0.75)\">119</th><td class=\"tdhistory284515\">2016-03-20</td><td class=\"tdhistory284515\">5185</td></tr><tr><th class=\"tdhistory284515\" style= \"background: rgba(243, 243, 243, 0.75)\">120</th><td class=\"tdhistory284515\">2016-03-27</td><td class=\"tdhistory284515\">2915</td></tr><tr><th class=\"tdhistory284515\" style= \"background: rgba(243, 243, 243, 0.75)\">121</th><td class=\"tdhistory284515\">2016-05-01</td><td class=\"tdhistory284515\">4178</td></tr><tr><th class=\"tdhistory284515\" style= \"background: rgba(243, 243, 243, 0.75)\">122</th><td class=\"tdhistory284515\">2016-05-08</td><td class=\"tdhistory284515\">3782</td></tr><tr><th class=\"tdhistory284515\" style= \"background: rgba(243, 243, 243, 0.75)\">123</th><td class=\"tdhistory284515\">2016-05-15</td><td class=\"tdhistory284515\">4857</td></tr><tr><th class=\"tdhistory284515\" style= \"background: rgba(243, 243, 243, 0.75)\">124</th><td class=\"tdhistory284515\">2016-05-22</td><td class=\"tdhistory284515\">4136</td></tr><tr><th class=\"tdhistory284515\" style= \"background: rgba(243, 243, 243, 0.75)\">125</th><td class=\"tdhistory284515\">2016-05-29</td><td class=\"tdhistory284515\">4793</td></tr><tr><th class=\"tdhistory284515\" style= \"background: rgba(243, 243, 243, 0.75)\">126</th><td class=\"tdhistory284515\">2016-06-05</td><td class=\"tdhistory284515\">4419</td></tr><tr><th class=\"tdhistory284515\" style= \"background: rgba(243, 243, 243, 0.75)\">127</th><td class=\"tdhistory284515\">2016-06-12</td><td class=\"tdhistory284515\">3892</td></tr><tr><th class=\"tdhistory284515\" style= \"background: rgba(243, 243, 243, 0.75)\">128</th><td class=\"tdhistory284515\">2016-06-19</td><td class=\"tdhistory284515\">3800</td></tr><tr><th class=\"tdhistory284515\" style= \"background: rgba(243, 243, 243, 0.75)\">129</th><td class=\"tdhistory284515\">2016-06-26</td><td class=\"tdhistory284515\">3673</td></tr><tr><th class=\"tdhistory284515\" style= \"background: rgba(243, 243, 243, 0.75)\">130</th><td class=\"tdhistory284515\">2016-07-03</td><td class=\"tdhistory284515\">4155</td></tr><tr><th class=\"tdhistory284515\" style= \"background: rgba(243, 243, 243, 0.75)\">131</th><td class=\"tdhistory284515\">2016-07-10</td><td class=\"tdhistory284515\">3551</td></tr><tr><th class=\"tdhistory284515\" style= \"background: rgba(243, 243, 243, 0.75)\">132</th><td class=\"tdhistory284515\">2016-07-17</td><td class=\"tdhistory284515\">3180</td></tr><tr><th class=\"tdhistory284515\" style= \"background: rgba(243, 243, 243, 0.75)\">133</th><td class=\"tdhistory284515\">2016-07-24</td><td class=\"tdhistory284515\">3348</td></tr><tr><th class=\"tdhistory284515\" style= \"background: rgba(243, 243, 243, 0.75)\">134</th><td class=\"tdhistory284515\">2016-07-31</td><td class=\"tdhistory284515\">3662</td></tr><tr><th class=\"tdhistory284515\" style= \"background: rgba(243, 243, 243, 0.75)\">135</th><td class=\"tdhistory284515\">2016-08-07</td><td class=\"tdhistory284515\">2923</td></tr><tr><th class=\"tdhistory284515\" style= \"background: rgba(243, 243, 243, 0.75)\">136</th><td class=\"tdhistory284515\">2016-08-14</td><td class=\"tdhistory284515\">1858</td></tr><tr><th class=\"tdhistory284515\" style= \"background: rgba(243, 243, 243, 0.75)\">137</th><td class=\"tdhistory284515\">2016-08-21</td><td class=\"tdhistory284515\">3144</td></tr><tr><th class=\"tdhistory284515\" style= \"background: rgba(243, 243, 243, 0.75)\">138</th><td class=\"tdhistory284515\">2016-08-28</td><td class=\"tdhistory284515\">3231</td></tr><tr><th class=\"tdhistory284515\" style= \"background: rgba(243, 243, 243, 0.75)\">139</th><td class=\"tdhistory284515\">2016-09-04</td><td class=\"tdhistory284515\">4098</td></tr><tr><th class=\"tdhistory284515\" style= \"background: rgba(243, 243, 243, 0.75)\">140</th><td class=\"tdhistory284515\">2016-09-11</td><td class=\"tdhistory284515\">3172</td></tr><tr><th class=\"tdhistory284515\" style= \"background: rgba(243, 243, 243, 0.75)\">141</th><td class=\"tdhistory284515\">2016-09-18</td><td class=\"tdhistory284515\">3180</td></tr><tr><th class=\"tdhistory284515\" style= \"background: rgba(243, 243, 243, 0.75)\">142</th><td class=\"tdhistory284515\">2016-09-25</td><td class=\"tdhistory284515\">5536</td></tr><tr><th class=\"tdhistory284515\" style= \"background: rgba(243, 243, 243, 0.75)\">143</th><td class=\"tdhistory284515\">2016-10-02</td><td class=\"tdhistory284515\">7484</td></tr><tr><th class=\"tdhistory284515\" style= \"background: rgba(243, 243, 243, 0.75)\">144</th><td class=\"tdhistory284515\">2016-10-09</td><td class=\"tdhistory284515\">6108</td></tr><tr><th class=\"tdhistory284515\" style= \"background: rgba(243, 243, 243, 0.75)\">145</th><td class=\"tdhistory284515\">2016-10-16</td><td class=\"tdhistory284515\">3615</td></tr><tr><th class=\"tdhistory284515\" style= \"background: rgba(243, 243, 243, 0.75)\">146</th><td class=\"tdhistory284515\">2016-10-23</td><td class=\"tdhistory284515\">3935</td></tr><tr><th class=\"tdhistory284515\" style= \"background: rgba(243, 243, 243, 0.75)\">147</th><td class=\"tdhistory284515\">2016-10-30</td><td class=\"tdhistory284515\">3501</td></tr><tr><th class=\"tdhistory284515\" style= \"background: rgba(243, 243, 243, 0.75)\">148</th><td class=\"tdhistory284515\">2016-11-06</td><td class=\"tdhistory284515\">4229</td></tr><tr><th class=\"tdhistory284515\" style= \"background: rgba(243, 243, 243, 0.75)\">149</th><td class=\"tdhistory284515\">2016-11-13</td><td class=\"tdhistory284515\">3599</td></tr><tr><th class=\"tdhistory284515\" style= \"background: rgba(243, 243, 243, 0.75)\">150</th><td class=\"tdhistory284515\">2016-11-20</td><td class=\"tdhistory284515\">3256</td></tr><tr><th class=\"tdhistory284515\" style= \"background: rgba(243, 243, 243, 0.75)\">151</th><td class=\"tdhistory284515\">2016-11-27</td><td class=\"tdhistory284515\">1303</td></tr><tr><th class=\"tdhistory284515\" style= \"background: rgba(243, 243, 243, 0.75)\">152</th><td class=\"tdhistory284515\">2017-01-01</td><td class=\"tdhistory284515\">2357</td></tr><tr><th class=\"tdhistory284515\" style= \"background: rgba(243, 243, 243, 0.75)\">153</th><td class=\"tdhistory284515\">2017-01-08</td><td class=\"tdhistory284515\">2367</td></tr><tr><th class=\"tdhistory284515\" style= \"background: rgba(243, 243, 243, 0.75)\">154</th><td class=\"tdhistory284515\">2017-01-15</td><td class=\"tdhistory284515\">2411</td></tr><tr><th class=\"tdhistory284515\" style= \"background: rgba(243, 243, 243, 0.75)\">155</th><td class=\"tdhistory284515\">2017-01-22</td><td class=\"tdhistory284515\">2262</td></tr><tr><th class=\"tdhistory284515\" style= \"background: rgba(243, 243, 243, 0.75)\">156</th><td class=\"tdhistory284515\">2017-01-29</td><td class=\"tdhistory284515\">1972</td></tr><tr><th class=\"tdhistory284515\" style= \"background: rgba(243, 243, 243, 0.75)\">157</th><td class=\"tdhistory284515\">2017-02-05</td><td class=\"tdhistory284515\">3061</td></tr><tr><th class=\"tdhistory284515\" style= \"background: rgba(243, 243, 243, 0.75)\">158</th><td class=\"tdhistory284515\">2017-02-12</td><td class=\"tdhistory284515\">3866</td></tr><tr><th class=\"tdhistory284515\" style= \"background: rgba(243, 243, 243, 0.75)\">159</th><td class=\"tdhistory284515\">2017-02-19</td><td class=\"tdhistory284515\">4202</td></tr><tr><th class=\"tdhistory284515\" style= \"background: rgba(243, 243, 243, 0.75)\">160</th><td class=\"tdhistory284515\">2017-02-26</td><td class=\"tdhistory284515\">3034</td></tr><tr><th class=\"tdhistory284515\" style= \"background: rgba(243, 243, 243, 0.75)\">161</th><td class=\"tdhistory284515\">2017-03-05</td><td class=\"tdhistory284515\">4214</td></tr><tr><th class=\"tdhistory284515\" style= \"background: rgba(243, 243, 243, 0.75)\">162</th><td class=\"tdhistory284515\">2017-03-12</td><td class=\"tdhistory284515\">12212</td></tr><tr><th class=\"tdhistory284515\" style= \"background: rgba(243, 243, 243, 0.75)\">163</th><td class=\"tdhistory284515\">2017-03-19</td><td class=\"tdhistory284515\">4853</td></tr><tr><th class=\"tdhistory284515\" style= \"background: rgba(243, 243, 243, 0.75)\">164</th><td class=\"tdhistory284515\">2017-03-26</td><td class=\"tdhistory284515\">4611</td></tr><tr><th class=\"tdhistory284515\" style= \"background: rgba(243, 243, 243, 0.75)\">165</th><td class=\"tdhistory284515\">2017-04-02</td><td class=\"tdhistory284515\">5437</td></tr><tr><th class=\"tdhistory284515\" style= \"background: rgba(243, 243, 243, 0.75)\">166</th><td class=\"tdhistory284515\">2017-04-09</td><td class=\"tdhistory284515\">5494</td></tr><tr><th class=\"tdhistory284515\" style= \"background: rgba(243, 243, 243, 0.75)\">167</th><td class=\"tdhistory284515\">2017-04-16</td><td class=\"tdhistory284515\">4959</td></tr><tr><th class=\"tdhistory284515\" style= \"background: rgba(243, 243, 243, 0.75)\">168</th><td class=\"tdhistory284515\">2017-04-23</td><td class=\"tdhistory284515\">4786</td></tr><tr><th class=\"tdhistory284515\" style= \"background: rgba(243, 243, 243, 0.75)\">169</th><td class=\"tdhistory284515\">2017-04-30</td><td class=\"tdhistory284515\">4425</td></tr><tr><th class=\"tdhistory284515\" style= \"background: rgba(243, 243, 243, 0.75)\">170</th><td class=\"tdhistory284515\">2017-05-07</td><td class=\"tdhistory284515\">4168</td></tr><tr><th class=\"tdhistory284515\" style= \"background: rgba(243, 243, 243, 0.75)\">171</th><td class=\"tdhistory284515\">2017-05-14</td><td class=\"tdhistory284515\">3756</td></tr><tr><th class=\"tdhistory284515\" style= \"background: rgba(243, 243, 243, 0.75)\">172</th><td class=\"tdhistory284515\">2017-05-21</td><td class=\"tdhistory284515\">4741</td></tr><tr><th class=\"tdhistory284515\" style= \"background: rgba(243, 243, 243, 0.75)\">173</th><td class=\"tdhistory284515\">2017-05-28</td><td class=\"tdhistory284515\">4845</td></tr><tr><th class=\"tdhistory284515\" style= \"background: rgba(243, 243, 243, 0.75)\">174</th><td class=\"tdhistory284515\">2017-06-04</td><td class=\"tdhistory284515\">4094</td></tr><tr><th class=\"tdhistory284515\" style= \"background: rgba(243, 243, 243, 0.75)\">175</th><td class=\"tdhistory284515\">2017-06-11</td><td class=\"tdhistory284515\">3848</td></tr><tr><th class=\"tdhistory284515\" style= \"background: rgba(243, 243, 243, 0.75)\">176</th><td class=\"tdhistory284515\">2017-06-18</td><td class=\"tdhistory284515\">3446</td></tr><tr><th class=\"tdhistory284515\" style= \"background: rgba(243, 243, 243, 0.75)\">177</th><td class=\"tdhistory284515\">2017-06-25</td><td class=\"tdhistory284515\">3502</td></tr><tr><th class=\"tdhistory284515\" style= \"background: rgba(243, 243, 243, 0.75)\">178</th><td class=\"tdhistory284515\">2017-07-02</td><td class=\"tdhistory284515\">4184</td></tr><tr><th class=\"tdhistory284515\" style= \"background: rgba(243, 243, 243, 0.75)\">179</th><td class=\"tdhistory284515\">2017-07-09</td><td class=\"tdhistory284515\">3169</td></tr><tr><th class=\"tdhistory284515\" style= \"background: rgba(243, 243, 243, 0.75)\">180</th><td class=\"tdhistory284515\">2017-07-16</td><td class=\"tdhistory284515\">3018</td></tr><tr><th class=\"tdhistory284515\" style= \"background: rgba(243, 243, 243, 0.75)\">181</th><td class=\"tdhistory284515\">2017-07-23</td><td class=\"tdhistory284515\">2867</td></tr><tr><th class=\"tdhistory284515\" style= \"background: rgba(243, 243, 243, 0.75)\">182</th><td class=\"tdhistory284515\">2017-07-30</td><td class=\"tdhistory284515\">709</td></tr></tbody></table></div>"
      ]
     },
     "execution_count": 28,
     "metadata": {
      "application/vnd.teradata.resultset": "{\"resultSetID\":\"/home/jovyan/Teradata/Resultsets/2022.04.07_10.12.23.547_UTC\",\"historyID\":1044,\"chunkID\":\"00001\",\"sessionid\":\"\",\"portnum\":\"\",\"dockermode\":\"appcenter\",\"totalRowCount\":182,\"chunkCount\":0,\"rowLimit\":0,\"columnMetadata\":[{\"columnName\":\"start_date\",\"columnTypeName\":\"DATE\"},{\"columnNumber\":1,\"columnName\":\"trips\",\"columnTypeName\":\"INTEGER\"}]}"
     },
     "output_type": "execute_result"
    }
   ],
   "source": [
    "SELECT    \n",
    "    TRUNC(start_time,'DAY') AS start_date,\n",
    "    COUNT(1) AS trips\n",
    "FROM\n",
    "    trips\n",
    "GROUP BY 1\n",
    "ORDER BY 1"
   ]
  },
  {
   "cell_type": "code",
   "execution_count": 29,
   "metadata": {},
   "outputs": [
    {
     "data": {
      "application/vnd.vegalite.v3+json": {
       "$schema": "https://vega.github.io/schema/vega-lite/v3.json",
       "data": {
        "format": {
         "type": "csv"
        },
        "values": "\"start_date\",\"trips\"\n\"2013-12-15\",\"103\"\n\"2013-12-22\",\"852\"\n\"2013-12-29\",\"1149\"\n\"2014-01-05\",\"567\"\n\"2014-01-12\",\"837\"\n\"2014-01-19\",\"771\"\n\"2014-01-26\",\"838\"\n\"2014-02-02\",\"586\"\n\"2014-02-09\",\"1531\"\n\"2014-02-16\",\"1903\"\n\"2014-02-23\",\"1748\"\n\"2014-03-02\",\"2463\"\n\"2014-03-09\",\"14612\"\n\"2014-03-16\",\"3991\"\n\"2014-03-23\",\"3064\"\n\"2014-03-30\",\"3089\"\n\"2014-04-06\",\"3082\"\n\"2014-04-13\",\"3626\"\n\"2014-04-20\",\"4145\"\n\"2014-04-27\",\"3497\"\n\"2014-05-04\",\"3089\"\n\"2014-05-11\",\"3140\"\n\"2014-05-18\",\"3452\"\n\"2014-05-25\",\"3503\"\n\"2014-06-01\",\"3849\"\n\"2014-06-08\",\"3073\"\n\"2014-06-15\",\"3094\"\n\"2014-06-22\",\"2854\"\n\"2014-06-29\",\"4030\"\n\"2014-07-06\",\"3311\"\n\"2014-07-13\",\"2917\"\n\"2014-07-20\",\"3119\"\n\"2014-07-27\",\"2903\"\n\"2014-08-03\",\"2689\"\n\"2014-08-10\",\"2422\"\n\"2014-08-17\",\"2488\"\n\"2014-08-24\",\"2375\"\n\"2014-08-31\",\"2277\"\n\"2014-09-07\",\"2115\"\n\"2014-09-14\",\"2599\"\n\"2014-09-21\",\"3280\"\n\"2014-09-28\",\"5144\"\n\"2014-10-05\",\"6428\"\n\"2014-10-12\",\"5817\"\n\"2014-10-19\",\"3665\"\n\"2014-10-26\",\"3876\"\n\"2014-11-02\",\"3091\"\n\"2014-11-09\",\"2307\"\n\"2014-11-16\",\"1294\"\n\"2014-11-23\",\"2736\"\n\"2014-11-30\",\"2085\"\n\"2014-12-07\",\"1802\"\n\"2014-12-14\",\"1517\"\n\"2014-12-21\",\"1502\"\n\"2014-12-28\",\"1312\"\n\"2015-01-04\",\"952\"\n\"2015-01-11\",\"1928\"\n\"2015-01-18\",\"2371\"\n\"2015-01-25\",\"2065\"\n\"2015-02-01\",\"1726\"\n\"2015-02-08\",\"3719\"\n\"2015-02-15\",\"3361\"\n\"2015-02-22\",\"766\"\n\"2015-03-01\",\"1737\"\n\"2015-03-08\",\"6134\"\n\"2015-03-15\",\"15538\"\n\"2015-03-22\",\"4841\"\n\"2015-03-29\",\"4491\"\n\"2015-04-05\",\"3471\"\n\"2015-04-12\",\"3795\"\n\"2015-04-19\",\"4297\"\n\"2015-04-26\",\"3897\"\n\"2015-05-03\",\"3429\"\n\"2015-05-10\",\"2680\"\n\"2015-05-17\",\"3078\"\n\"2015-05-24\",\"4355\"\n\"2015-05-31\",\"3789\"\n\"2015-06-07\",\"3805\"\n\"2015-06-14\",\"2621\"\n\"2015-06-21\",\"3272\"\n\"2015-06-28\",\"4326\"\n\"2015-07-05\",\"3797\"\n\"2015-07-12\",\"3599\"\n\"2015-07-19\",\"3374\"\n\"2015-07-26\",\"3094\"\n\"2015-08-02\",\"3613\"\n\"2015-08-09\",\"3081\"\n\"2015-08-16\",\"3227\"\n\"2015-08-23\",\"3013\"\n\"2015-08-30\",\"3442\"\n\"2015-09-06\",\"3924\"\n\"2015-09-13\",\"3478\"\n\"2015-09-20\",\"3537\"\n\"2015-09-27\",\"5573\"\n\"2015-10-04\",\"7463\"\n\"2015-10-11\",\"5550\"\n\"2015-10-18\",\"2845\"\n\"2015-10-25\",\"3199\"\n\"2015-11-01\",\"3332\"\n\"2015-11-08\",\"3409\"\n\"2015-11-15\",\"3014\"\n\"2015-11-22\",\"1771\"\n\"2015-11-29\",\"1854\"\n\"2015-12-06\",\"2725\"\n\"2015-12-13\",\"2096\"\n\"2015-12-20\",\"2233\"\n\"2015-12-27\",\"2425\"\n\"2016-01-03\",\"4709\"\n\"2016-01-10\",\"4858\"\n\"2016-01-17\",\"5028\"\n\"2016-01-24\",\"5066\"\n\"2016-01-31\",\"3576\"\n\"2016-02-07\",\"3368\"\n\"2016-02-14\",\"3903\"\n\"2016-02-21\",\"2998\"\n\"2016-02-28\",\"3883\"\n\"2016-03-06\",\"5139\"\n\"2016-03-13\",\"13414\"\n\"2016-03-20\",\"5185\"\n\"2016-03-27\",\"2915\"\n\"2016-05-01\",\"4178\"\n\"2016-05-08\",\"3782\"\n\"2016-05-15\",\"4857\"\n\"2016-05-22\",\"4136\"\n\"2016-05-29\",\"4793\"\n\"2016-06-05\",\"4419\"\n\"2016-06-12\",\"3892\"\n\"2016-06-19\",\"3800\"\n\"2016-06-26\",\"3673\"\n\"2016-07-03\",\"4155\"\n\"2016-07-10\",\"3551\"\n\"2016-07-17\",\"3180\"\n\"2016-07-24\",\"3348\"\n\"2016-07-31\",\"3662\"\n\"2016-08-07\",\"2923\"\n\"2016-08-14\",\"1858\"\n\"2016-08-21\",\"3144\"\n\"2016-08-28\",\"3231\"\n\"2016-09-04\",\"4098\"\n\"2016-09-11\",\"3172\"\n\"2016-09-18\",\"3180\"\n\"2016-09-25\",\"5536\"\n\"2016-10-02\",\"7484\"\n\"2016-10-09\",\"6108\"\n\"2016-10-16\",\"3615\"\n\"2016-10-23\",\"3935\"\n\"2016-10-30\",\"3501\"\n\"2016-11-06\",\"4229\"\n\"2016-11-13\",\"3599\"\n\"2016-11-20\",\"3256\"\n\"2016-11-27\",\"1303\"\n\"2017-01-01\",\"2357\"\n\"2017-01-08\",\"2367\"\n\"2017-01-15\",\"2411\"\n\"2017-01-22\",\"2262\"\n\"2017-01-29\",\"1972\"\n\"2017-02-05\",\"3061\"\n\"2017-02-12\",\"3866\"\n\"2017-02-19\",\"4202\"\n\"2017-02-26\",\"3034\"\n\"2017-03-05\",\"4214\"\n\"2017-03-12\",\"12212\"\n\"2017-03-19\",\"4853\"\n\"2017-03-26\",\"4611\"\n\"2017-04-02\",\"5437\"\n\"2017-04-09\",\"5494\"\n\"2017-04-16\",\"4959\"\n\"2017-04-23\",\"4786\"\n\"2017-04-30\",\"4425\"\n\"2017-05-07\",\"4168\"\n\"2017-05-14\",\"3756\"\n\"2017-05-21\",\"4741\"\n\"2017-05-28\",\"4845\"\n\"2017-06-04\",\"4094\"\n\"2017-06-11\",\"3848\"\n\"2017-06-18\",\"3446\"\n\"2017-06-25\",\"3502\"\n\"2017-07-02\",\"4184\"\n\"2017-07-09\",\"3169\"\n\"2017-07-16\",\"3018\"\n\"2017-07-23\",\"2867\"\n\"2017-07-30\",\"709\"\n"
       },
       "encoding": {
        "x": {
         "axis": {
          "grid": true,
          "title": "start_date"
         },
         "field": "start_date",
         "type": "temporal"
        },
        "y": {
         "axis": {
          "grid": true,
          "title": "trips"
         },
         "field": "trips",
         "type": "quantitative"
        }
       },
       "mark": {
        "color": "#4C78A8",
        "type": "bar"
       },
       "title": "Trips by day"
      },
      "image/png": "[encoded data removed]"
     },
     "execution_count": 29,
     "metadata": {
      "application/vnd.teradata.resultset": ""
     },
     "output_type": "execute_result"
    }
   ],
   "source": [
    "%chart start_date, trips, title=Trips by day, typex=t"
   ]
  },
  {
   "cell_type": "markdown",
   "metadata": {},
   "source": [
    "<p style = 'font-size:18px;font-family:Arial;color:#E37C4D'><b>3.4 Load local data into table weather</b></p>    "
   ]
  },
  {
   "cell_type": "code",
   "execution_count": 30,
   "metadata": {},
   "outputs": [
    {
     "data": {
      "text/plain": [
       "Success: 0 rows affected"
      ]
     },
     "execution_count": 30,
     "metadata": {
      "application/vnd.teradata.resultset": ""
     },
     "output_type": "execute_result"
    }
   ],
   "source": [
    "CREATE TABLE weather_staging (\n",
    "    dt            TIMESTAMP(0),\n",
    "    temp          FLOAT,\n",
    "    temp_min      FLOAT,\n",
    "    temp_max      FLOAT,\n",
    "    pressure      INTEGER,\n",
    "    humidity      INTEGER,\n",
    "    wind_speed    INTEGER,\n",
    "    wind_deg      INTEGER,\n",
    "    rain_1h       FLOAT,\n",
    "    rain_3h       FLOAT,\n",
    "    clouds        INTEGER,\n",
    "    weather_id    INTEGER,\n",
    "    weather_main  VARCHAR(50),\n",
    "    weather_desc  VARCHAR(50),\n",
    "    weather_icon  VARCHAR(50)\n",
    ")\n",
    "NO PRIMARY INDEX;"
   ]
  },
  {
   "cell_type": "markdown",
   "metadata": {},
   "source": [
    "<p style = 'font-size:18px;font-family:Arial;color:#E37C4D'>Please change the database name according to your quicklook id n below %dataload command</p>"
   ]
  },
  {
   "cell_type": "code",
   "execution_count": 31,
   "metadata": {},
   "outputs": [
    {
     "name": "stdout",
     "output_type": "stream",
     "text": [
      "2022-04-07T10:12:23.872 Start Loading...\n",
      "  \u001b[36m\u001b[m   \n",
      "Data Load: Number Rows Loaded = 24,606, Elapsed Time = 00:00:03.481, History ID = 1046\n",
      "Success Loading Data: from file,'/home/jovyan/Demos/UseCases/AustinBikeShare/weather.csv', into table, nl186010.weather_staging."
     ]
    }
   ],
   "source": [
    "%dataload  DATABASE=nl186010, TABLE=weather_staging, FILEPATH=Demos/UseCases/AustinBikeShare/weather.csv"
   ]
  },
  {
   "cell_type": "code",
   "execution_count": 32,
   "metadata": {},
   "outputs": [
    {
     "data": {
      "text/plain": [
       "Success: 0 rows affected"
      ]
     },
     "execution_count": 32,
     "metadata": {
      "application/vnd.teradata.resultset": ""
     },
     "output_type": "execute_result"
    }
   ],
   "source": [
    "CREATE TABLE weather (\n",
    "    dt            TIMESTAMP(0),\n",
    "    temp          FLOAT,\n",
    "    temp_min      FLOAT,\n",
    "    temp_max      FLOAT,\n",
    "    pressure      INTEGER,\n",
    "    humidity      INTEGER,\n",
    "    wind_speed    INTEGER,\n",
    "    wind_deg      INTEGER,\n",
    "    rain_1h       FLOAT,\n",
    "    rain_3h       FLOAT,\n",
    "    clouds        INTEGER,\n",
    "    weather_id    INTEGER,\n",
    "    weather_main  VARCHAR(50),\n",
    "    weather_desc  VARCHAR(50),\n",
    "    weather_icon  VARCHAR(50)\n",
    ")\n",
    "PRIMARY INDEX(dt);"
   ]
  },
  {
   "cell_type": "code",
   "execution_count": 33,
   "metadata": {},
   "outputs": [
    {
     "data": {
      "text/plain": [
       "Success: 24592 rows affected"
      ]
     },
     "execution_count": 33,
     "metadata": {
      "application/vnd.teradata.resultset": ""
     },
     "output_type": "execute_result"
    }
   ],
   "source": [
    "INSERT INTO weather SELECT * FROM weather_staging"
   ]
  },
  {
   "cell_type": "code",
   "execution_count": 34,
   "metadata": {},
   "outputs": [
    {
     "data": {
      "application/vnd.teradata.resultset": "\"dt\",\"temp\",\"temp_min\",\"temp_max\",\"pressure\",\"humidity\",\"wind_speed\",\"wind_deg\",\"rain_1h\",\"rain_3h\",\"clouds\",\"weather_id\",\"weather_main\",\"weather_desc\",\"weather_icon\"\n\"2014-05-20 05:00:00\",\"294.2699890136719\",\"293.1499938964844\",\"295.3699951171875\",\"1014\",\"64\",\"1\",\"0\",\"\",\"\",\"0\",\"800\",\"Clear\",\"Sky is Clear\",\"01n\"\n\"2013-12-24 17:00:00\",\"281.54998779296875\",\"279.82000732421875\",\"283.1499938964844\",\"1032\",\"55\",\"2\",\"161\",\"\",\"0\",\"0\",\"800\",\"Clear\",\"Sky is Clear\",\"01d\"\n\"2016-12-24 02:00:00\",\"291.42999267578125\",\"289.1499938964844\",\"294.1499938964844\",\"1017\",\"93\",\"3\",\"200\",\"\",\"\",\"90\",\"500\",\"Rain\",\"light rain\",\"10n\"\n\"2015-10-08 12:00:00\",\"292.3699951171875\",\"290.1499938964844\",\"294.1499938964844\",\"1017\",\"88\",\"0\",\"153\",\"\",\"\",\"75\",\"803\",\"Clouds\",\"broken clouds\",\"04n\"\n\"2017-09-25 00:00:00\",\"301.6000061035156\",\"300.1499938964844\",\"303.1499938964844\",\"1011\",\"65\",\"3\",\"150\",\"\",\"\",\"20\",\"801\",\"Clouds\",\"few clouds\",\"02d\"\n\"2016-09-25 05:00:00\",\"297.2699890136719\",\"296.4800109863281\",\"297.75\",\"1014\",\"94\",\"4\",\"153\",\"\",\"0\",\"64\",\"803\",\"Clouds\",\"broken clouds\",\"04n\"\n\"2016-10-08 07:00:00\",\"292.6629943847656\",\"292.6629943847656\",\"292.6629943847656\",\"1010\",\"75\",\"6\",\"7\",\"\",\"\",\"0\",\"800\",\"Clear\",\"Sky is Clear\",\"01n\"\n\"2016-12-24 02:00:00\",\"291.42999267578125\",\"289.1499938964844\",\"294.1499938964844\",\"1017\",\"93\",\"3\",\"200\",\"\",\"\",\"90\",\"701\",\"Mist\",\"mist\",\"50n\"\n\"2014-03-23 09:00:00\",\"286.2099914550781\",\"284.82000732421875\",\"287.5899963378906\",\"1019\",\"67\",\"2\",\"360\",\"\",\"\",\"90\",\"804\",\"Clouds\",\"overcast clouds\",\"4\"\n\"2014-03-31 08:00:00\",\"288.30999755859375\",\"287.5899963378906\",\"289.1499938964844\",\"1016\",\"77\",\"5\",\"160\",\"\",\"\",\"90\",\"804\",\"Clouds\",\"overcast clouds\",\"4\"",
      "text/html": [
       "<div class = \"td-resultset-table-div\" style = \"max-height: 100%; overflow-y: auto\">\n",
       "      <table class=\"tdhistory355439\"><style>\n",
       "      table.tdhistory355439 { display: block !important; min-height: 294px !important; overflow: auto !important; height: 294px !important; width: 100% !important; border: 1px solid rgb(207, 207, 207) !important; border-collapse: collapse !important; ; color: var(--jp-ui-font-color1) !important; }\n",
       "      th.tdhistory355439 { border: 1px solid rgb(198,198,198) !important; border-collapse: collapse !important; ; padding: 2px 5px !important; ; font-size: 13px !important; ; text-align: center !important; white-space: normal !important; color: var(--jp-ui-font-color1) !important; }\n",
       "      th.tdhistory355439:last-child { text-align: left !important; }\n",
       "      tbody.tdhistory355439 tr:nth-child(even) { background: rgba(243, 243, 243, 0.75) !important; }\n",
       "      tbody.tdhistory355439 tr:nth-child(odd) { background: var(--jp-ui-inverse-font-color1) !important; }\n",
       "      td.tdhistory355439 { border: 1px solid rgb(207, 207, 207) !important; border-collapse: collapse !important; ; padding: 2px 5px !important; ; font-size: 13px !important; ; text-align: left !important;          white-space: nowrap !important; overflow:hidden !important; text-overflow:ellipsis !important;; }\n",
       "    </style><thead><tr style= \"background: rgba(243, 243, 243, 0.75)\"><th class=\"tdhistory355439\"></th><th class=\"tdhistory355439\">dt</th><th class=\"tdhistory355439\">temp</th><th class=\"tdhistory355439\">temp_min</th><th class=\"tdhistory355439\">temp_max</th><th class=\"tdhistory355439\">pressure</th><th class=\"tdhistory355439\">humidity</th><th class=\"tdhistory355439\">wind_speed</th><th class=\"tdhistory355439\">wind_deg</th><th class=\"tdhistory355439\">rain_1h</th><th class=\"tdhistory355439\">rain_3h</th><th class=\"tdhistory355439\">clouds</th><th class=\"tdhistory355439\">weather_id</th><th class=\"tdhistory355439\">weather_main</th><th class=\"tdhistory355439\">weather_desc</th><th class=\"tdhistory355439\">weather_icon</th></tr></thead><tbody class=\"tdhistory355439 resultset-body\"><tr><th class=\"tdhistory355439\" style= \"background: rgba(243, 243, 243, 0.75)\">1</th><td class=\"tdhistory355439\">2014-05-20 05:00:00</td><td class=\"tdhistory355439\">294.2699890136719</td><td class=\"tdhistory355439\">293.1499938964844</td><td class=\"tdhistory355439\">295.3699951171875</td><td class=\"tdhistory355439\">1014</td><td class=\"tdhistory355439\">64</td><td class=\"tdhistory355439\">1</td><td class=\"tdhistory355439\">0</td><td class=\"tdhistory355439\"></td><td class=\"tdhistory355439\"></td><td class=\"tdhistory355439\">0</td><td class=\"tdhistory355439\">800</td><td class=\"tdhistory355439\">Clear</td><td class=\"tdhistory355439\">Sky is Clear</td><td class=\"tdhistory355439\">01n</td></tr><tr><th class=\"tdhistory355439\" style= \"background: rgba(243, 243, 243, 0.75)\">2</th><td class=\"tdhistory355439\">2013-12-24 17:00:00</td><td class=\"tdhistory355439\">281.54998779296875</td><td class=\"tdhistory355439\">279.82000732421875</td><td class=\"tdhistory355439\">283.1499938964844</td><td class=\"tdhistory355439\">1032</td><td class=\"tdhistory355439\">55</td><td class=\"tdhistory355439\">2</td><td class=\"tdhistory355439\">161</td><td class=\"tdhistory355439\"></td><td class=\"tdhistory355439\">0</td><td class=\"tdhistory355439\">0</td><td class=\"tdhistory355439\">800</td><td class=\"tdhistory355439\">Clear</td><td class=\"tdhistory355439\">Sky is Clear</td><td class=\"tdhistory355439\">01d</td></tr><tr><th class=\"tdhistory355439\" style= \"background: rgba(243, 243, 243, 0.75)\">3</th><td class=\"tdhistory355439\">2016-12-24 02:00:00</td><td class=\"tdhistory355439\">291.42999267578125</td><td class=\"tdhistory355439\">289.1499938964844</td><td class=\"tdhistory355439\">294.1499938964844</td><td class=\"tdhistory355439\">1017</td><td class=\"tdhistory355439\">93</td><td class=\"tdhistory355439\">3</td><td class=\"tdhistory355439\">200</td><td class=\"tdhistory355439\"></td><td class=\"tdhistory355439\"></td><td class=\"tdhistory355439\">90</td><td class=\"tdhistory355439\">500</td><td class=\"tdhistory355439\">Rain</td><td class=\"tdhistory355439\">light rain</td><td class=\"tdhistory355439\">10n</td></tr><tr><th class=\"tdhistory355439\" style= \"background: rgba(243, 243, 243, 0.75)\">4</th><td class=\"tdhistory355439\">2015-10-08 12:00:00</td><td class=\"tdhistory355439\">292.3699951171875</td><td class=\"tdhistory355439\">290.1499938964844</td><td class=\"tdhistory355439\">294.1499938964844</td><td class=\"tdhistory355439\">1017</td><td class=\"tdhistory355439\">88</td><td class=\"tdhistory355439\">0</td><td class=\"tdhistory355439\">153</td><td class=\"tdhistory355439\"></td><td class=\"tdhistory355439\"></td><td class=\"tdhistory355439\">75</td><td class=\"tdhistory355439\">803</td><td class=\"tdhistory355439\">Clouds</td><td class=\"tdhistory355439\">broken clouds</td><td class=\"tdhistory355439\">04n</td></tr><tr><th class=\"tdhistory355439\" style= \"background: rgba(243, 243, 243, 0.75)\">5</th><td class=\"tdhistory355439\">2017-09-25 00:00:00</td><td class=\"tdhistory355439\">301.6000061035156</td><td class=\"tdhistory355439\">300.1499938964844</td><td class=\"tdhistory355439\">303.1499938964844</td><td class=\"tdhistory355439\">1011</td><td class=\"tdhistory355439\">65</td><td class=\"tdhistory355439\">3</td><td class=\"tdhistory355439\">150</td><td class=\"tdhistory355439\"></td><td class=\"tdhistory355439\"></td><td class=\"tdhistory355439\">20</td><td class=\"tdhistory355439\">801</td><td class=\"tdhistory355439\">Clouds</td><td class=\"tdhistory355439\">few clouds</td><td class=\"tdhistory355439\">02d</td></tr><tr><th class=\"tdhistory355439\" style= \"background: rgba(243, 243, 243, 0.75)\">6</th><td class=\"tdhistory355439\">2016-09-25 05:00:00</td><td class=\"tdhistory355439\">297.2699890136719</td><td class=\"tdhistory355439\">296.4800109863281</td><td class=\"tdhistory355439\">297.75</td><td class=\"tdhistory355439\">1014</td><td class=\"tdhistory355439\">94</td><td class=\"tdhistory355439\">4</td><td class=\"tdhistory355439\">153</td><td class=\"tdhistory355439\"></td><td class=\"tdhistory355439\">0</td><td class=\"tdhistory355439\">64</td><td class=\"tdhistory355439\">803</td><td class=\"tdhistory355439\">Clouds</td><td class=\"tdhistory355439\">broken clouds</td><td class=\"tdhistory355439\">04n</td></tr><tr><th class=\"tdhistory355439\" style= \"background: rgba(243, 243, 243, 0.75)\">7</th><td class=\"tdhistory355439\">2016-10-08 07:00:00</td><td class=\"tdhistory355439\">292.6629943847656</td><td class=\"tdhistory355439\">292.6629943847656</td><td class=\"tdhistory355439\">292.6629943847656</td><td class=\"tdhistory355439\">1010</td><td class=\"tdhistory355439\">75</td><td class=\"tdhistory355439\">6</td><td class=\"tdhistory355439\">7</td><td class=\"tdhistory355439\"></td><td class=\"tdhistory355439\"></td><td class=\"tdhistory355439\">0</td><td class=\"tdhistory355439\">800</td><td class=\"tdhistory355439\">Clear</td><td class=\"tdhistory355439\">Sky is Clear</td><td class=\"tdhistory355439\">01n</td></tr><tr><th class=\"tdhistory355439\" style= \"background: rgba(243, 243, 243, 0.75)\">8</th><td class=\"tdhistory355439\">2016-12-24 02:00:00</td><td class=\"tdhistory355439\">291.42999267578125</td><td class=\"tdhistory355439\">289.1499938964844</td><td class=\"tdhistory355439\">294.1499938964844</td><td class=\"tdhistory355439\">1017</td><td class=\"tdhistory355439\">93</td><td class=\"tdhistory355439\">3</td><td class=\"tdhistory355439\">200</td><td class=\"tdhistory355439\"></td><td class=\"tdhistory355439\"></td><td class=\"tdhistory355439\">90</td><td class=\"tdhistory355439\">701</td><td class=\"tdhistory355439\">Mist</td><td class=\"tdhistory355439\">mist</td><td class=\"tdhistory355439\">50n</td></tr><tr><th class=\"tdhistory355439\" style= \"background: rgba(243, 243, 243, 0.75)\">9</th><td class=\"tdhistory355439\">2014-03-23 09:00:00</td><td class=\"tdhistory355439\">286.2099914550781</td><td class=\"tdhistory355439\">284.82000732421875</td><td class=\"tdhistory355439\">287.5899963378906</td><td class=\"tdhistory355439\">1019</td><td class=\"tdhistory355439\">67</td><td class=\"tdhistory355439\">2</td><td class=\"tdhistory355439\">360</td><td class=\"tdhistory355439\"></td><td class=\"tdhistory355439\"></td><td class=\"tdhistory355439\">90</td><td class=\"tdhistory355439\">804</td><td class=\"tdhistory355439\">Clouds</td><td class=\"tdhistory355439\">overcast clouds</td><td class=\"tdhistory355439\">4</td></tr><tr><th class=\"tdhistory355439\" style= \"background: rgba(243, 243, 243, 0.75)\">10</th><td class=\"tdhistory355439\">2014-03-31 08:00:00</td><td class=\"tdhistory355439\">288.30999755859375</td><td class=\"tdhistory355439\">287.5899963378906</td><td class=\"tdhistory355439\">289.1499938964844</td><td class=\"tdhistory355439\">1016</td><td class=\"tdhistory355439\">77</td><td class=\"tdhistory355439\">5</td><td class=\"tdhistory355439\">160</td><td class=\"tdhistory355439\"></td><td class=\"tdhistory355439\"></td><td class=\"tdhistory355439\">90</td><td class=\"tdhistory355439\">804</td><td class=\"tdhistory355439\">Clouds</td><td class=\"tdhistory355439\">overcast clouds</td><td class=\"tdhistory355439\">4</td></tr></tbody></table></div>"
      ]
     },
     "execution_count": 34,
     "metadata": {
      "application/vnd.teradata.resultset": "{\"resultSetID\":\"/home/jovyan/Teradata/Resultsets/2022.04.07_10.12.27.613_UTC\",\"historyID\":1049,\"chunkID\":\"00001\",\"sessionid\":\"\",\"portnum\":\"\",\"dockermode\":\"appcenter\",\"totalRowCount\":10,\"chunkCount\":0,\"rowLimit\":0,\"columnMetadata\":[{\"columnName\":\"dt\",\"columnTypeName\":\"TIMESTAMP\"},{\"columnNumber\":1,\"columnName\":\"temp\",\"columnTypeName\":\"FLOAT\"},{\"columnNumber\":2,\"columnName\":\"temp_min\",\"columnTypeName\":\"FLOAT\"},{\"columnNumber\":3,\"columnName\":\"temp_max\",\"columnTypeName\":\"FLOAT\"},{\"columnNumber\":4,\"columnName\":\"pressure\",\"columnTypeName\":\"INTEGER\"},{\"columnNumber\":5,\"columnName\":\"humidity\",\"columnTypeName\":\"INTEGER\"},{\"columnNumber\":6,\"columnName\":\"wind_speed\",\"columnTypeName\":\"INTEGER\"},{\"columnNumber\":7,\"columnName\":\"wind_deg\",\"columnTypeName\":\"INTEGER\"},{\"columnNumber\":8,\"columnName\":\"rain_1h\",\"columnTypeName\":\"FLOAT\"},{\"columnNumber\":9,\"columnName\":\"rain_3h\",\"columnTypeName\":\"FLOAT\"},{\"columnNumber\":10,\"columnName\":\"clouds\",\"columnTypeName\":\"INTEGER\"},{\"columnNumber\":11,\"columnName\":\"weather_id\",\"columnTypeName\":\"INTEGER\"},{\"columnNumber\":12,\"columnName\":\"weather_main\",\"columnTypeName\":\"VARCHAR\",\"length\":50,\"scale\":50},{\"columnNumber\":13,\"columnName\":\"weather_desc\",\"columnTypeName\":\"VARCHAR\",\"length\":50,\"scale\":50},{\"columnNumber\":14,\"columnName\":\"weather_icon\",\"columnTypeName\":\"VARCHAR\",\"length\":50,\"scale\":50}]}"
     },
     "output_type": "execute_result"
    }
   ],
   "source": [
    "SELECT TOP 10 * FROM weather"
   ]
  },
  {
   "cell_type": "code",
   "execution_count": 35,
   "metadata": {},
   "outputs": [
    {
     "data": {
      "application/vnd.teradata.resultset": "\"dt\",\"avg_temp\"\n\"2013-12-15\",\"285.56625270843506\"\n\"2013-12-22\",\"279.9445611953735\"\n\"2013-12-29\",\"279.6733713032287\"\n\"2014-01-05\",\"281.8405904535002\"\n\"2014-01-12\",\"285.65487428990804\"\n\"2014-01-19\",\"281.58417178663007\"\n\"2014-01-26\",\"282.22880270952237\"\n\"2014-02-02\",\"276.3663686116536\"\n\"2014-02-09\",\"281.3410713559105\"\n\"2014-02-16\",\"290.24446578252883\"\n\"2014-02-23\",\"286.4204685144257\"\n\"2014-03-02\",\"280.83846727616947\"\n\"2014-03-09\",\"287.0829160781134\"\n\"2014-03-16\",\"288.889760698591\"\n\"2014-03-23\",\"289.1686900910877\"\n\"2014-03-30\",\"292.8972460352732\"\n\"2014-04-06\",\"290.78357115246\"\n\"2014-04-13\",\"289.23827471051897\"\n\"2014-04-20\",\"295.41833514258974\"\n\"2014-04-27\",\"298.2893534014302\"\n\"2014-05-04\",\"296.8404172867063\"\n\"2014-05-11\",\"293.42024918788456\"\n\"2014-05-18\",\"297.00343259551823\"\n\"2014-05-25\",\"296.3916571803347\"\n\"2014-06-01\",\"299.7946067116477\"\n\"2014-06-08\",\"299.5706404016373\"\n\"2014-06-15\",\"300.1484846635298\"\n\"2014-06-22\",\"299.263126373291\"\n\"2014-06-29\",\"301.08952092549885\"\n\"2014-07-06\",\"301.02725398191933\"\n\"2014-07-13\",\"299.7183064455709\"\n\"2014-07-20\",\"301.98155377362224\"\n\"2014-07-27\",\"301.61076282319567\"\n\"2014-08-03\",\"302.9282662527902\"\n\"2015-06-07\",\"302.96275329589844\"\n\"2015-06-14\",\"300.193408203125\"\n\"2015-06-21\",\"301.155109980335\"\n\"2015-06-28\",\"300.0416365189986\"\n\"2015-07-05\",\"301.3132943546071\"\n\"2015-07-12\",\"302.27018015970015\"\n\"2015-07-19\",\"302.9005942571731\"\n\"2015-07-26\",\"303.54640718562877\"\n\"2015-08-02\",\"303.5998222670869\"\n\"2015-08-09\",\"304.5715562283636\"\n\"2015-08-16\",\"301.2879074451535\"\n\"2015-08-23\",\"302.28205899325286\"\n\"2015-08-30\",\"301.12354214986163\"\n\"2015-09-06\",\"301.17384656969006\"\n\"2015-09-13\",\"299.6758519614615\"\n\"2015-09-20\",\"299.92080823112934\"\n\"2015-09-27\",\"297.99687470330133\"\n\"2015-10-04\",\"297.2477451378191\"\n\"2015-10-11\",\"298.76333428907765\"\n\"2015-10-18\",\"295.59691569010414\"\n\"2015-10-25\",\"293.64684933179046\"\n\"2015-11-01\",\"292.10131568239444\"\n\"2015-11-08\",\"290.0431180564306\"\n\"2015-11-15\",\"289.08382311054305\"\n\"2015-11-22\",\"286.1606047874273\"\n\"2015-11-29\",\"281.4320824940999\"\n\"2015-12-06\",\"288.0857154690489\"\n\"2015-12-13\",\"285.6942311800443\"\n\"2015-12-20\",\"290.9749115535191\"\n\"2015-12-27\",\"280.56182841381997\"\n\"2016-01-03\",\"282.5274627685547\"\n\"2016-01-10\",\"281.4274475720464\"\n\"2016-01-17\",\"281.10809529622395\"\n\"2016-01-24\",\"283.4887268066406\"\n\"2016-01-31\",\"284.64097094179976\"\n\"2016-02-07\",\"285.54397353080856\"\n\"2016-02-14\",\"290.0679652327198\"\n\"2016-02-21\",\"286.2987978515625\"\n\"2016-02-28\",\"291.2640907981179\"\n\"2016-03-06\",\"290.5322388606285\"\n\"2016-03-13\",\"292.853422024106\"\n\"2016-03-20\",\"287.41102613139356\"\n\"2016-03-27\",\"290.7498490304658\"\n\"2016-04-03\",\"291.287193463003\"\n\"2016-04-10\",\"291.8648720765725\"\n\"2016-04-17\",\"292.81636725531683\"\n\"2016-04-24\",\"296.5154837331464\"\n\"2016-05-01\",\"292.92888165642233\"\n\"2016-05-08\",\"296.5529944715161\"\n\"2016-05-15\",\"292.97551434953635\"\n\"2016-05-22\",\"297.2279509044829\"\n\"2016-05-29\",\"296.6443246377481\"\n\"2016-06-05\",\"299.18047568911595\"\n\"2016-06-12\",\"302.27466655912855\"\n\"2016-06-19\",\"301.48441054400274\"\n\"2016-06-26\",\"301.30194196428573\"\n\"2016-07-03\",\"303.1185707818894\"\n\"2016-07-10\",\"303.0444195626796\"\n\"2016-07-17\",\"304.40021969023206\"\n\"2016-07-24\",\"301.34190473606975\"\n\"2016-07-31\",\"303.28976204281764\"\n\"2016-08-07\",\"304.0219472249349\"\n\"2016-08-14\",\"297.7079674672272\"\n\"2016-08-21\",\"299.8416195661662\"\n\"2016-08-28\",\"299.4889404296875\"\n\"2016-09-04\",\"300.3372674327079\"\n\"2016-09-11\",\"300.0783252164808\"\n\"2016-09-18\",\"301.2157488567073\"\n\"2016-09-25\",\"294.40672520228793\"\n\"2016-10-02\",\"296.8157441110322\"\n\"2016-10-09\",\"294.90323554144965\"\n\"2016-10-16\",\"296.777949436455\"\n\"2016-10-23\",\"294.22197632562546\"\n\"2016-10-30\",\"295.3701035348993\"\n\"2016-11-06\",\"290.69234490027793\"\n\"2016-11-13\",\"291.0741716657366\"\n\"2016-11-20\",\"288.22466183780284\"\n\"2016-11-27\",\"287.0891323478854\"\n\"2016-12-04\",\"281.0426415663499\"\n\"2016-12-11\",\"285.80499872668037\"\n\"2016-12-18\",\"282.96428555281705\"\n\"2016-12-25\",\"291.301666435154\"\n\"2017-01-01\",\"281.88105006771195\"\n\"2017-01-08\",\"286.84220163445724\"\n\"2017-01-15\",\"286.134762942136\"\n\"2017-01-22\",\"285.94105304063424\"\n\"2017-01-29\",\"285.07698519267734\"\n\"2017-02-05\",\"290.42757848366017\"\n\"2017-02-12\",\"287.84221260502653\"\n\"2017-02-19\",\"291.4480871506679\"\n\"2017-02-26\",\"289.2310876401595\"\n\"2017-03-05\",\"291.64515502929686\"\n\"2017-03-12\",\"288.733299407959\"\n\"2017-03-19\",\"294.95919058915507\"\n\"2017-03-26\",\"294.42618600117794\"\n\"2017-04-02\",\"292.17284122321126\"\n\"2017-04-09\",\"294.673005415368\"\n\"2017-04-16\",\"295.0928875393338\"\n\"2017-04-23\",\"295.0370768943028\"\n\"2017-04-30\",\"293.9892623207786\"\n\"2017-05-07\",\"296.1812169312169\"\n\"2017-05-14\",\"297.73502541566506\"\n\"2017-05-21\",\"295.9072219386245\"\n\"2017-05-28\",\"298.20302734375\"\n\"2017-06-04\",\"298.5269184834248\"\n\"2017-06-11\",\"302.00559543427966\"\n\"2017-06-18\",\"301.7114025051311\"\n\"2017-06-25\",\"300.1164900694842\"\n\"2017-07-02\",\"302.7539628191692\"\n\"2017-07-09\",\"302.6300593784877\"\n\"2017-07-16\",\"302.7301729778911\"\n\"2017-07-23\",\"303.3692535751167\"\n\"2017-07-30\",\"302.3772055088789\"\n\"2017-08-06\",\"300.85566837271466\"\n\"2017-08-13\",\"303.5746483717136\"\n\"2017-08-20\",\"300.90940791304394\"\n\"2017-08-27\",\"297.8886556293241\"\n\"2017-09-03\",\"297.68308222571085\"\n\"2017-09-10\",\"297.9091804013615\"\n\"2017-09-17\",\"300.5019541773303\"\n\"2017-09-24\",\"298.45515174472456\"",
      "text/html": [
       "<div class = \"td-resultset-table-div\" style = \"max-height: 100%; overflow-y: auto\">\n",
       "      <table class=\"tdhistory660999\"><style>\n",
       "      table.tdhistory660999 { display: block !important; min-height: 588px !important; overflow: auto !important; height: 588px !important; width: 100% !important; border: 1px solid rgb(207, 207, 207) !important; border-collapse: collapse !important; ; color: var(--jp-ui-font-color1) !important; }\n",
       "      th.tdhistory660999 { border: 1px solid rgb(198,198,198) !important; border-collapse: collapse !important; ; padding: 2px 5px !important; ; font-size: 13px !important; ; text-align: center !important; white-space: normal !important; color: var(--jp-ui-font-color1) !important; }\n",
       "      th.tdhistory660999:last-child { text-align: left !important; }\n",
       "      tbody.tdhistory660999 tr:nth-child(even) { background: rgba(243, 243, 243, 0.75) !important; }\n",
       "      tbody.tdhistory660999 tr:nth-child(odd) { background: var(--jp-ui-inverse-font-color1) !important; }\n",
       "      td.tdhistory660999 { border: 1px solid rgb(207, 207, 207) !important; border-collapse: collapse !important; ; padding: 2px 5px !important; ; font-size: 13px !important; ; text-align: left !important;          white-space: nowrap !important; overflow:hidden !important; text-overflow:ellipsis !important;; }\n",
       "    </style><thead><tr style= \"background: rgba(243, 243, 243, 0.75)\"><th class=\"tdhistory660999\"></th><th class=\"tdhistory660999\">dt</th><th class=\"tdhistory660999\">avg_temp</th></tr></thead><tbody class=\"tdhistory660999 resultset-body\"><tr><th class=\"tdhistory660999\" style= \"background: rgba(243, 243, 243, 0.75)\">1</th><td class=\"tdhistory660999\">2013-12-15</td><td class=\"tdhistory660999\">285.56625270843506</td></tr><tr><th class=\"tdhistory660999\" style= \"background: rgba(243, 243, 243, 0.75)\">2</th><td class=\"tdhistory660999\">2013-12-22</td><td class=\"tdhistory660999\">279.9445611953735</td></tr><tr><th class=\"tdhistory660999\" style= \"background: rgba(243, 243, 243, 0.75)\">3</th><td class=\"tdhistory660999\">2013-12-29</td><td class=\"tdhistory660999\">279.6733713032287</td></tr><tr><th class=\"tdhistory660999\" style= \"background: rgba(243, 243, 243, 0.75)\">4</th><td class=\"tdhistory660999\">2014-01-05</td><td class=\"tdhistory660999\">281.8405904535002</td></tr><tr><th class=\"tdhistory660999\" style= \"background: rgba(243, 243, 243, 0.75)\">5</th><td class=\"tdhistory660999\">2014-01-12</td><td class=\"tdhistory660999\">285.65487428990804</td></tr><tr><th class=\"tdhistory660999\" style= \"background: rgba(243, 243, 243, 0.75)\">6</th><td class=\"tdhistory660999\">2014-01-19</td><td class=\"tdhistory660999\">281.58417178663007</td></tr><tr><th class=\"tdhistory660999\" style= \"background: rgba(243, 243, 243, 0.75)\">7</th><td class=\"tdhistory660999\">2014-01-26</td><td class=\"tdhistory660999\">282.22880270952237</td></tr><tr><th class=\"tdhistory660999\" style= \"background: rgba(243, 243, 243, 0.75)\">8</th><td class=\"tdhistory660999\">2014-02-02</td><td class=\"tdhistory660999\">276.3663686116536</td></tr><tr><th class=\"tdhistory660999\" style= \"background: rgba(243, 243, 243, 0.75)\">9</th><td class=\"tdhistory660999\">2014-02-09</td><td class=\"tdhistory660999\">281.3410713559105</td></tr><tr><th class=\"tdhistory660999\" style= \"background: rgba(243, 243, 243, 0.75)\">10</th><td class=\"tdhistory660999\">2014-02-16</td><td class=\"tdhistory660999\">290.24446578252883</td></tr><tr><th class=\"tdhistory660999\" style= \"background: rgba(243, 243, 243, 0.75)\">11</th><td class=\"tdhistory660999\">2014-02-23</td><td class=\"tdhistory660999\">286.4204685144257</td></tr><tr><th class=\"tdhistory660999\" style= \"background: rgba(243, 243, 243, 0.75)\">12</th><td class=\"tdhistory660999\">2014-03-02</td><td class=\"tdhistory660999\">280.83846727616947</td></tr><tr><th class=\"tdhistory660999\" style= \"background: rgba(243, 243, 243, 0.75)\">13</th><td class=\"tdhistory660999\">2014-03-09</td><td class=\"tdhistory660999\">287.0829160781134</td></tr><tr><th class=\"tdhistory660999\" style= \"background: rgba(243, 243, 243, 0.75)\">14</th><td class=\"tdhistory660999\">2014-03-16</td><td class=\"tdhistory660999\">288.889760698591</td></tr><tr><th class=\"tdhistory660999\" style= \"background: rgba(243, 243, 243, 0.75)\">15</th><td class=\"tdhistory660999\">2014-03-23</td><td class=\"tdhistory660999\">289.1686900910877</td></tr><tr><th class=\"tdhistory660999\" style= \"background: rgba(243, 243, 243, 0.75)\">16</th><td class=\"tdhistory660999\">2014-03-30</td><td class=\"tdhistory660999\">292.8972460352732</td></tr><tr><th class=\"tdhistory660999\" style= \"background: rgba(243, 243, 243, 0.75)\">17</th><td class=\"tdhistory660999\">2014-04-06</td><td class=\"tdhistory660999\">290.78357115246</td></tr><tr><th class=\"tdhistory660999\" style= \"background: rgba(243, 243, 243, 0.75)\">18</th><td class=\"tdhistory660999\">2014-04-13</td><td class=\"tdhistory660999\">289.23827471051897</td></tr><tr><th class=\"tdhistory660999\" style= \"background: rgba(243, 243, 243, 0.75)\">19</th><td class=\"tdhistory660999\">2014-04-20</td><td class=\"tdhistory660999\">295.41833514258974</td></tr><tr><th class=\"tdhistory660999\" style= \"background: rgba(243, 243, 243, 0.75)\">20</th><td class=\"tdhistory660999\">2014-04-27</td><td class=\"tdhistory660999\">298.2893534014302</td></tr><tr><th class=\"tdhistory660999\" style= \"background: rgba(243, 243, 243, 0.75)\">21</th><td class=\"tdhistory660999\">2014-05-04</td><td class=\"tdhistory660999\">296.8404172867063</td></tr><tr><th class=\"tdhistory660999\" style= \"background: rgba(243, 243, 243, 0.75)\">22</th><td class=\"tdhistory660999\">2014-05-11</td><td class=\"tdhistory660999\">293.42024918788456</td></tr><tr><th class=\"tdhistory660999\" style= \"background: rgba(243, 243, 243, 0.75)\">23</th><td class=\"tdhistory660999\">2014-05-18</td><td class=\"tdhistory660999\">297.00343259551823</td></tr><tr><th class=\"tdhistory660999\" style= \"background: rgba(243, 243, 243, 0.75)\">24</th><td class=\"tdhistory660999\">2014-05-25</td><td class=\"tdhistory660999\">296.3916571803347</td></tr><tr><th class=\"tdhistory660999\" style= \"background: rgba(243, 243, 243, 0.75)\">25</th><td class=\"tdhistory660999\">2014-06-01</td><td class=\"tdhistory660999\">299.7946067116477</td></tr><tr><th class=\"tdhistory660999\" style= \"background: rgba(243, 243, 243, 0.75)\">26</th><td class=\"tdhistory660999\">2014-06-08</td><td class=\"tdhistory660999\">299.5706404016373</td></tr><tr><th class=\"tdhistory660999\" style= \"background: rgba(243, 243, 243, 0.75)\">27</th><td class=\"tdhistory660999\">2014-06-15</td><td class=\"tdhistory660999\">300.1484846635298</td></tr><tr><th class=\"tdhistory660999\" style= \"background: rgba(243, 243, 243, 0.75)\">28</th><td class=\"tdhistory660999\">2014-06-22</td><td class=\"tdhistory660999\">299.263126373291</td></tr><tr><th class=\"tdhistory660999\" style= \"background: rgba(243, 243, 243, 0.75)\">29</th><td class=\"tdhistory660999\">2014-06-29</td><td class=\"tdhistory660999\">301.08952092549885</td></tr><tr><th class=\"tdhistory660999\" style= \"background: rgba(243, 243, 243, 0.75)\">30</th><td class=\"tdhistory660999\">2014-07-06</td><td class=\"tdhistory660999\">301.02725398191933</td></tr><tr><th class=\"tdhistory660999\" style= \"background: rgba(243, 243, 243, 0.75)\">31</th><td class=\"tdhistory660999\">2014-07-13</td><td class=\"tdhistory660999\">299.7183064455709</td></tr><tr><th class=\"tdhistory660999\" style= \"background: rgba(243, 243, 243, 0.75)\">32</th><td class=\"tdhistory660999\">2014-07-20</td><td class=\"tdhistory660999\">301.98155377362224</td></tr><tr><th class=\"tdhistory660999\" style= \"background: rgba(243, 243, 243, 0.75)\">33</th><td class=\"tdhistory660999\">2014-07-27</td><td class=\"tdhistory660999\">301.61076282319567</td></tr><tr><th class=\"tdhistory660999\" style= \"background: rgba(243, 243, 243, 0.75)\">34</th><td class=\"tdhistory660999\">2014-08-03</td><td class=\"tdhistory660999\">302.9282662527902</td></tr><tr><th class=\"tdhistory660999\" style= \"background: rgba(243, 243, 243, 0.75)\">35</th><td class=\"tdhistory660999\">2015-06-07</td><td class=\"tdhistory660999\">302.96275329589844</td></tr><tr><th class=\"tdhistory660999\" style= \"background: rgba(243, 243, 243, 0.75)\">36</th><td class=\"tdhistory660999\">2015-06-14</td><td class=\"tdhistory660999\">300.193408203125</td></tr><tr><th class=\"tdhistory660999\" style= \"background: rgba(243, 243, 243, 0.75)\">37</th><td class=\"tdhistory660999\">2015-06-21</td><td class=\"tdhistory660999\">301.155109980335</td></tr><tr><th class=\"tdhistory660999\" style= \"background: rgba(243, 243, 243, 0.75)\">38</th><td class=\"tdhistory660999\">2015-06-28</td><td class=\"tdhistory660999\">300.0416365189986</td></tr><tr><th class=\"tdhistory660999\" style= \"background: rgba(243, 243, 243, 0.75)\">39</th><td class=\"tdhistory660999\">2015-07-05</td><td class=\"tdhistory660999\">301.3132943546071</td></tr><tr><th class=\"tdhistory660999\" style= \"background: rgba(243, 243, 243, 0.75)\">40</th><td class=\"tdhistory660999\">2015-07-12</td><td class=\"tdhistory660999\">302.27018015970015</td></tr><tr><th class=\"tdhistory660999\" style= \"background: rgba(243, 243, 243, 0.75)\">41</th><td class=\"tdhistory660999\">2015-07-19</td><td class=\"tdhistory660999\">302.9005942571731</td></tr><tr><th class=\"tdhistory660999\" style= \"background: rgba(243, 243, 243, 0.75)\">42</th><td class=\"tdhistory660999\">2015-07-26</td><td class=\"tdhistory660999\">303.54640718562877</td></tr><tr><th class=\"tdhistory660999\" style= \"background: rgba(243, 243, 243, 0.75)\">43</th><td class=\"tdhistory660999\">2015-08-02</td><td class=\"tdhistory660999\">303.5998222670869</td></tr><tr><th class=\"tdhistory660999\" style= \"background: rgba(243, 243, 243, 0.75)\">44</th><td class=\"tdhistory660999\">2015-08-09</td><td class=\"tdhistory660999\">304.5715562283636</td></tr><tr><th class=\"tdhistory660999\" style= \"background: rgba(243, 243, 243, 0.75)\">45</th><td class=\"tdhistory660999\">2015-08-16</td><td class=\"tdhistory660999\">301.2879074451535</td></tr><tr><th class=\"tdhistory660999\" style= \"background: rgba(243, 243, 243, 0.75)\">46</th><td class=\"tdhistory660999\">2015-08-23</td><td class=\"tdhistory660999\">302.28205899325286</td></tr><tr><th class=\"tdhistory660999\" style= \"background: rgba(243, 243, 243, 0.75)\">47</th><td class=\"tdhistory660999\">2015-08-30</td><td class=\"tdhistory660999\">301.12354214986163</td></tr><tr><th class=\"tdhistory660999\" style= \"background: rgba(243, 243, 243, 0.75)\">48</th><td class=\"tdhistory660999\">2015-09-06</td><td class=\"tdhistory660999\">301.17384656969006</td></tr><tr><th class=\"tdhistory660999\" style= \"background: rgba(243, 243, 243, 0.75)\">49</th><td class=\"tdhistory660999\">2015-09-13</td><td class=\"tdhistory660999\">299.6758519614615</td></tr><tr><th class=\"tdhistory660999\" style= \"background: rgba(243, 243, 243, 0.75)\">50</th><td class=\"tdhistory660999\">2015-09-20</td><td class=\"tdhistory660999\">299.92080823112934</td></tr><tr><th class=\"tdhistory660999\" style= \"background: rgba(243, 243, 243, 0.75)\">51</th><td class=\"tdhistory660999\">2015-09-27</td><td class=\"tdhistory660999\">297.99687470330133</td></tr><tr><th class=\"tdhistory660999\" style= \"background: rgba(243, 243, 243, 0.75)\">52</th><td class=\"tdhistory660999\">2015-10-04</td><td class=\"tdhistory660999\">297.2477451378191</td></tr><tr><th class=\"tdhistory660999\" style= \"background: rgba(243, 243, 243, 0.75)\">53</th><td class=\"tdhistory660999\">2015-10-11</td><td class=\"tdhistory660999\">298.76333428907765</td></tr><tr><th class=\"tdhistory660999\" style= \"background: rgba(243, 243, 243, 0.75)\">54</th><td class=\"tdhistory660999\">2015-10-18</td><td class=\"tdhistory660999\">295.59691569010414</td></tr><tr><th class=\"tdhistory660999\" style= \"background: rgba(243, 243, 243, 0.75)\">55</th><td class=\"tdhistory660999\">2015-10-25</td><td class=\"tdhistory660999\">293.64684933179046</td></tr><tr><th class=\"tdhistory660999\" style= \"background: rgba(243, 243, 243, 0.75)\">56</th><td class=\"tdhistory660999\">2015-11-01</td><td class=\"tdhistory660999\">292.10131568239444</td></tr><tr><th class=\"tdhistory660999\" style= \"background: rgba(243, 243, 243, 0.75)\">57</th><td class=\"tdhistory660999\">2015-11-08</td><td class=\"tdhistory660999\">290.0431180564306</td></tr><tr><th class=\"tdhistory660999\" style= \"background: rgba(243, 243, 243, 0.75)\">58</th><td class=\"tdhistory660999\">2015-11-15</td><td class=\"tdhistory660999\">289.08382311054305</td></tr><tr><th class=\"tdhistory660999\" style= \"background: rgba(243, 243, 243, 0.75)\">59</th><td class=\"tdhistory660999\">2015-11-22</td><td class=\"tdhistory660999\">286.1606047874273</td></tr><tr><th class=\"tdhistory660999\" style= \"background: rgba(243, 243, 243, 0.75)\">60</th><td class=\"tdhistory660999\">2015-11-29</td><td class=\"tdhistory660999\">281.4320824940999</td></tr><tr><th class=\"tdhistory660999\" style= \"background: rgba(243, 243, 243, 0.75)\">61</th><td class=\"tdhistory660999\">2015-12-06</td><td class=\"tdhistory660999\">288.0857154690489</td></tr><tr><th class=\"tdhistory660999\" style= \"background: rgba(243, 243, 243, 0.75)\">62</th><td class=\"tdhistory660999\">2015-12-13</td><td class=\"tdhistory660999\">285.6942311800443</td></tr><tr><th class=\"tdhistory660999\" style= \"background: rgba(243, 243, 243, 0.75)\">63</th><td class=\"tdhistory660999\">2015-12-20</td><td class=\"tdhistory660999\">290.9749115535191</td></tr><tr><th class=\"tdhistory660999\" style= \"background: rgba(243, 243, 243, 0.75)\">64</th><td class=\"tdhistory660999\">2015-12-27</td><td class=\"tdhistory660999\">280.56182841381997</td></tr><tr><th class=\"tdhistory660999\" style= \"background: rgba(243, 243, 243, 0.75)\">65</th><td class=\"tdhistory660999\">2016-01-03</td><td class=\"tdhistory660999\">282.5274627685547</td></tr><tr><th class=\"tdhistory660999\" style= \"background: rgba(243, 243, 243, 0.75)\">66</th><td class=\"tdhistory660999\">2016-01-10</td><td class=\"tdhistory660999\">281.4274475720464</td></tr><tr><th class=\"tdhistory660999\" style= \"background: rgba(243, 243, 243, 0.75)\">67</th><td class=\"tdhistory660999\">2016-01-17</td><td class=\"tdhistory660999\">281.10809529622395</td></tr><tr><th class=\"tdhistory660999\" style= \"background: rgba(243, 243, 243, 0.75)\">68</th><td class=\"tdhistory660999\">2016-01-24</td><td class=\"tdhistory660999\">283.4887268066406</td></tr><tr><th class=\"tdhistory660999\" style= \"background: rgba(243, 243, 243, 0.75)\">69</th><td class=\"tdhistory660999\">2016-01-31</td><td class=\"tdhistory660999\">284.64097094179976</td></tr><tr><th class=\"tdhistory660999\" style= \"background: rgba(243, 243, 243, 0.75)\">70</th><td class=\"tdhistory660999\">2016-02-07</td><td class=\"tdhistory660999\">285.54397353080856</td></tr><tr><th class=\"tdhistory660999\" style= \"background: rgba(243, 243, 243, 0.75)\">71</th><td class=\"tdhistory660999\">2016-02-14</td><td class=\"tdhistory660999\">290.0679652327198</td></tr><tr><th class=\"tdhistory660999\" style= \"background: rgba(243, 243, 243, 0.75)\">72</th><td class=\"tdhistory660999\">2016-02-21</td><td class=\"tdhistory660999\">286.2987978515625</td></tr><tr><th class=\"tdhistory660999\" style= \"background: rgba(243, 243, 243, 0.75)\">73</th><td class=\"tdhistory660999\">2016-02-28</td><td class=\"tdhistory660999\">291.2640907981179</td></tr><tr><th class=\"tdhistory660999\" style= \"background: rgba(243, 243, 243, 0.75)\">74</th><td class=\"tdhistory660999\">2016-03-06</td><td class=\"tdhistory660999\">290.5322388606285</td></tr><tr><th class=\"tdhistory660999\" style= \"background: rgba(243, 243, 243, 0.75)\">75</th><td class=\"tdhistory660999\">2016-03-13</td><td class=\"tdhistory660999\">292.853422024106</td></tr><tr><th class=\"tdhistory660999\" style= \"background: rgba(243, 243, 243, 0.75)\">76</th><td class=\"tdhistory660999\">2016-03-20</td><td class=\"tdhistory660999\">287.41102613139356</td></tr><tr><th class=\"tdhistory660999\" style= \"background: rgba(243, 243, 243, 0.75)\">77</th><td class=\"tdhistory660999\">2016-03-27</td><td class=\"tdhistory660999\">290.7498490304658</td></tr><tr><th class=\"tdhistory660999\" style= \"background: rgba(243, 243, 243, 0.75)\">78</th><td class=\"tdhistory660999\">2016-04-03</td><td class=\"tdhistory660999\">291.287193463003</td></tr><tr><th class=\"tdhistory660999\" style= \"background: rgba(243, 243, 243, 0.75)\">79</th><td class=\"tdhistory660999\">2016-04-10</td><td class=\"tdhistory660999\">291.8648720765725</td></tr><tr><th class=\"tdhistory660999\" style= \"background: rgba(243, 243, 243, 0.75)\">80</th><td class=\"tdhistory660999\">2016-04-17</td><td class=\"tdhistory660999\">292.81636725531683</td></tr><tr><th class=\"tdhistory660999\" style= \"background: rgba(243, 243, 243, 0.75)\">81</th><td class=\"tdhistory660999\">2016-04-24</td><td class=\"tdhistory660999\">296.5154837331464</td></tr><tr><th class=\"tdhistory660999\" style= \"background: rgba(243, 243, 243, 0.75)\">82</th><td class=\"tdhistory660999\">2016-05-01</td><td class=\"tdhistory660999\">292.92888165642233</td></tr><tr><th class=\"tdhistory660999\" style= \"background: rgba(243, 243, 243, 0.75)\">83</th><td class=\"tdhistory660999\">2016-05-08</td><td class=\"tdhistory660999\">296.5529944715161</td></tr><tr><th class=\"tdhistory660999\" style= \"background: rgba(243, 243, 243, 0.75)\">84</th><td class=\"tdhistory660999\">2016-05-15</td><td class=\"tdhistory660999\">292.97551434953635</td></tr><tr><th class=\"tdhistory660999\" style= \"background: rgba(243, 243, 243, 0.75)\">85</th><td class=\"tdhistory660999\">2016-05-22</td><td class=\"tdhistory660999\">297.2279509044829</td></tr><tr><th class=\"tdhistory660999\" style= \"background: rgba(243, 243, 243, 0.75)\">86</th><td class=\"tdhistory660999\">2016-05-29</td><td class=\"tdhistory660999\">296.6443246377481</td></tr><tr><th class=\"tdhistory660999\" style= \"background: rgba(243, 243, 243, 0.75)\">87</th><td class=\"tdhistory660999\">2016-06-05</td><td class=\"tdhistory660999\">299.18047568911595</td></tr><tr><th class=\"tdhistory660999\" style= \"background: rgba(243, 243, 243, 0.75)\">88</th><td class=\"tdhistory660999\">2016-06-12</td><td class=\"tdhistory660999\">302.27466655912855</td></tr><tr><th class=\"tdhistory660999\" style= \"background: rgba(243, 243, 243, 0.75)\">89</th><td class=\"tdhistory660999\">2016-06-19</td><td class=\"tdhistory660999\">301.48441054400274</td></tr><tr><th class=\"tdhistory660999\" style= \"background: rgba(243, 243, 243, 0.75)\">90</th><td class=\"tdhistory660999\">2016-06-26</td><td class=\"tdhistory660999\">301.30194196428573</td></tr><tr><th class=\"tdhistory660999\" style= \"background: rgba(243, 243, 243, 0.75)\">91</th><td class=\"tdhistory660999\">2016-07-03</td><td class=\"tdhistory660999\">303.1185707818894</td></tr><tr><th class=\"tdhistory660999\" style= \"background: rgba(243, 243, 243, 0.75)\">92</th><td class=\"tdhistory660999\">2016-07-10</td><td class=\"tdhistory660999\">303.0444195626796</td></tr><tr><th class=\"tdhistory660999\" style= \"background: rgba(243, 243, 243, 0.75)\">93</th><td class=\"tdhistory660999\">2016-07-17</td><td class=\"tdhistory660999\">304.40021969023206</td></tr><tr><th class=\"tdhistory660999\" style= \"background: rgba(243, 243, 243, 0.75)\">94</th><td class=\"tdhistory660999\">2016-07-24</td><td class=\"tdhistory660999\">301.34190473606975</td></tr><tr><th class=\"tdhistory660999\" style= \"background: rgba(243, 243, 243, 0.75)\">95</th><td class=\"tdhistory660999\">2016-07-31</td><td class=\"tdhistory660999\">303.28976204281764</td></tr><tr><th class=\"tdhistory660999\" style= \"background: rgba(243, 243, 243, 0.75)\">96</th><td class=\"tdhistory660999\">2016-08-07</td><td class=\"tdhistory660999\">304.0219472249349</td></tr><tr><th class=\"tdhistory660999\" style= \"background: rgba(243, 243, 243, 0.75)\">97</th><td class=\"tdhistory660999\">2016-08-14</td><td class=\"tdhistory660999\">297.7079674672272</td></tr><tr><th class=\"tdhistory660999\" style= \"background: rgba(243, 243, 243, 0.75)\">98</th><td class=\"tdhistory660999\">2016-08-21</td><td class=\"tdhistory660999\">299.8416195661662</td></tr><tr><th class=\"tdhistory660999\" style= \"background: rgba(243, 243, 243, 0.75)\">99</th><td class=\"tdhistory660999\">2016-08-28</td><td class=\"tdhistory660999\">299.4889404296875</td></tr><tr><th class=\"tdhistory660999\" style= \"background: rgba(243, 243, 243, 0.75)\">100</th><td class=\"tdhistory660999\">2016-09-04</td><td class=\"tdhistory660999\">300.3372674327079</td></tr><tr><th class=\"tdhistory660999\" style= \"background: rgba(243, 243, 243, 0.75)\">101</th><td class=\"tdhistory660999\">2016-09-11</td><td class=\"tdhistory660999\">300.0783252164808</td></tr><tr><th class=\"tdhistory660999\" style= \"background: rgba(243, 243, 243, 0.75)\">102</th><td class=\"tdhistory660999\">2016-09-18</td><td class=\"tdhistory660999\">301.2157488567073</td></tr><tr><th class=\"tdhistory660999\" style= \"background: rgba(243, 243, 243, 0.75)\">103</th><td class=\"tdhistory660999\">2016-09-25</td><td class=\"tdhistory660999\">294.40672520228793</td></tr><tr><th class=\"tdhistory660999\" style= \"background: rgba(243, 243, 243, 0.75)\">104</th><td class=\"tdhistory660999\">2016-10-02</td><td class=\"tdhistory660999\">296.8157441110322</td></tr><tr><th class=\"tdhistory660999\" style= \"background: rgba(243, 243, 243, 0.75)\">105</th><td class=\"tdhistory660999\">2016-10-09</td><td class=\"tdhistory660999\">294.90323554144965</td></tr><tr><th class=\"tdhistory660999\" style= \"background: rgba(243, 243, 243, 0.75)\">106</th><td class=\"tdhistory660999\">2016-10-16</td><td class=\"tdhistory660999\">296.777949436455</td></tr><tr><th class=\"tdhistory660999\" style= \"background: rgba(243, 243, 243, 0.75)\">107</th><td class=\"tdhistory660999\">2016-10-23</td><td class=\"tdhistory660999\">294.22197632562546</td></tr><tr><th class=\"tdhistory660999\" style= \"background: rgba(243, 243, 243, 0.75)\">108</th><td class=\"tdhistory660999\">2016-10-30</td><td class=\"tdhistory660999\">295.3701035348993</td></tr><tr><th class=\"tdhistory660999\" style= \"background: rgba(243, 243, 243, 0.75)\">109</th><td class=\"tdhistory660999\">2016-11-06</td><td class=\"tdhistory660999\">290.69234490027793</td></tr><tr><th class=\"tdhistory660999\" style= \"background: rgba(243, 243, 243, 0.75)\">110</th><td class=\"tdhistory660999\">2016-11-13</td><td class=\"tdhistory660999\">291.0741716657366</td></tr><tr><th class=\"tdhistory660999\" style= \"background: rgba(243, 243, 243, 0.75)\">111</th><td class=\"tdhistory660999\">2016-11-20</td><td class=\"tdhistory660999\">288.22466183780284</td></tr><tr><th class=\"tdhistory660999\" style= \"background: rgba(243, 243, 243, 0.75)\">112</th><td class=\"tdhistory660999\">2016-11-27</td><td class=\"tdhistory660999\">287.0891323478854</td></tr><tr><th class=\"tdhistory660999\" style= \"background: rgba(243, 243, 243, 0.75)\">113</th><td class=\"tdhistory660999\">2016-12-04</td><td class=\"tdhistory660999\">281.0426415663499</td></tr><tr><th class=\"tdhistory660999\" style= \"background: rgba(243, 243, 243, 0.75)\">114</th><td class=\"tdhistory660999\">2016-12-11</td><td class=\"tdhistory660999\">285.80499872668037</td></tr><tr><th class=\"tdhistory660999\" style= \"background: rgba(243, 243, 243, 0.75)\">115</th><td class=\"tdhistory660999\">2016-12-18</td><td class=\"tdhistory660999\">282.96428555281705</td></tr><tr><th class=\"tdhistory660999\" style= \"background: rgba(243, 243, 243, 0.75)\">116</th><td class=\"tdhistory660999\">2016-12-25</td><td class=\"tdhistory660999\">291.301666435154</td></tr><tr><th class=\"tdhistory660999\" style= \"background: rgba(243, 243, 243, 0.75)\">117</th><td class=\"tdhistory660999\">2017-01-01</td><td class=\"tdhistory660999\">281.88105006771195</td></tr><tr><th class=\"tdhistory660999\" style= \"background: rgba(243, 243, 243, 0.75)\">118</th><td class=\"tdhistory660999\">2017-01-08</td><td class=\"tdhistory660999\">286.84220163445724</td></tr><tr><th class=\"tdhistory660999\" style= \"background: rgba(243, 243, 243, 0.75)\">119</th><td class=\"tdhistory660999\">2017-01-15</td><td class=\"tdhistory660999\">286.134762942136</td></tr><tr><th class=\"tdhistory660999\" style= \"background: rgba(243, 243, 243, 0.75)\">120</th><td class=\"tdhistory660999\">2017-01-22</td><td class=\"tdhistory660999\">285.94105304063424</td></tr><tr><th class=\"tdhistory660999\" style= \"background: rgba(243, 243, 243, 0.75)\">121</th><td class=\"tdhistory660999\">2017-01-29</td><td class=\"tdhistory660999\">285.07698519267734</td></tr><tr><th class=\"tdhistory660999\" style= \"background: rgba(243, 243, 243, 0.75)\">122</th><td class=\"tdhistory660999\">2017-02-05</td><td class=\"tdhistory660999\">290.42757848366017</td></tr><tr><th class=\"tdhistory660999\" style= \"background: rgba(243, 243, 243, 0.75)\">123</th><td class=\"tdhistory660999\">2017-02-12</td><td class=\"tdhistory660999\">287.84221260502653</td></tr><tr><th class=\"tdhistory660999\" style= \"background: rgba(243, 243, 243, 0.75)\">124</th><td class=\"tdhistory660999\">2017-02-19</td><td class=\"tdhistory660999\">291.4480871506679</td></tr><tr><th class=\"tdhistory660999\" style= \"background: rgba(243, 243, 243, 0.75)\">125</th><td class=\"tdhistory660999\">2017-02-26</td><td class=\"tdhistory660999\">289.2310876401595</td></tr><tr><th class=\"tdhistory660999\" style= \"background: rgba(243, 243, 243, 0.75)\">126</th><td class=\"tdhistory660999\">2017-03-05</td><td class=\"tdhistory660999\">291.64515502929686</td></tr><tr><th class=\"tdhistory660999\" style= \"background: rgba(243, 243, 243, 0.75)\">127</th><td class=\"tdhistory660999\">2017-03-12</td><td class=\"tdhistory660999\">288.733299407959</td></tr><tr><th class=\"tdhistory660999\" style= \"background: rgba(243, 243, 243, 0.75)\">128</th><td class=\"tdhistory660999\">2017-03-19</td><td class=\"tdhistory660999\">294.95919058915507</td></tr><tr><th class=\"tdhistory660999\" style= \"background: rgba(243, 243, 243, 0.75)\">129</th><td class=\"tdhistory660999\">2017-03-26</td><td class=\"tdhistory660999\">294.42618600117794</td></tr><tr><th class=\"tdhistory660999\" style= \"background: rgba(243, 243, 243, 0.75)\">130</th><td class=\"tdhistory660999\">2017-04-02</td><td class=\"tdhistory660999\">292.17284122321126</td></tr><tr><th class=\"tdhistory660999\" style= \"background: rgba(243, 243, 243, 0.75)\">131</th><td class=\"tdhistory660999\">2017-04-09</td><td class=\"tdhistory660999\">294.673005415368</td></tr><tr><th class=\"tdhistory660999\" style= \"background: rgba(243, 243, 243, 0.75)\">132</th><td class=\"tdhistory660999\">2017-04-16</td><td class=\"tdhistory660999\">295.0928875393338</td></tr><tr><th class=\"tdhistory660999\" style= \"background: rgba(243, 243, 243, 0.75)\">133</th><td class=\"tdhistory660999\">2017-04-23</td><td class=\"tdhistory660999\">295.0370768943028</td></tr><tr><th class=\"tdhistory660999\" style= \"background: rgba(243, 243, 243, 0.75)\">134</th><td class=\"tdhistory660999\">2017-04-30</td><td class=\"tdhistory660999\">293.9892623207786</td></tr><tr><th class=\"tdhistory660999\" style= \"background: rgba(243, 243, 243, 0.75)\">135</th><td class=\"tdhistory660999\">2017-05-07</td><td class=\"tdhistory660999\">296.1812169312169</td></tr><tr><th class=\"tdhistory660999\" style= \"background: rgba(243, 243, 243, 0.75)\">136</th><td class=\"tdhistory660999\">2017-05-14</td><td class=\"tdhistory660999\">297.73502541566506</td></tr><tr><th class=\"tdhistory660999\" style= \"background: rgba(243, 243, 243, 0.75)\">137</th><td class=\"tdhistory660999\">2017-05-21</td><td class=\"tdhistory660999\">295.9072219386245</td></tr><tr><th class=\"tdhistory660999\" style= \"background: rgba(243, 243, 243, 0.75)\">138</th><td class=\"tdhistory660999\">2017-05-28</td><td class=\"tdhistory660999\">298.20302734375</td></tr><tr><th class=\"tdhistory660999\" style= \"background: rgba(243, 243, 243, 0.75)\">139</th><td class=\"tdhistory660999\">2017-06-04</td><td class=\"tdhistory660999\">298.5269184834248</td></tr><tr><th class=\"tdhistory660999\" style= \"background: rgba(243, 243, 243, 0.75)\">140</th><td class=\"tdhistory660999\">2017-06-11</td><td class=\"tdhistory660999\">302.00559543427966</td></tr><tr><th class=\"tdhistory660999\" style= \"background: rgba(243, 243, 243, 0.75)\">141</th><td class=\"tdhistory660999\">2017-06-18</td><td class=\"tdhistory660999\">301.7114025051311</td></tr><tr><th class=\"tdhistory660999\" style= \"background: rgba(243, 243, 243, 0.75)\">142</th><td class=\"tdhistory660999\">2017-06-25</td><td class=\"tdhistory660999\">300.1164900694842</td></tr><tr><th class=\"tdhistory660999\" style= \"background: rgba(243, 243, 243, 0.75)\">143</th><td class=\"tdhistory660999\">2017-07-02</td><td class=\"tdhistory660999\">302.7539628191692</td></tr><tr><th class=\"tdhistory660999\" style= \"background: rgba(243, 243, 243, 0.75)\">144</th><td class=\"tdhistory660999\">2017-07-09</td><td class=\"tdhistory660999\">302.6300593784877</td></tr><tr><th class=\"tdhistory660999\" style= \"background: rgba(243, 243, 243, 0.75)\">145</th><td class=\"tdhistory660999\">2017-07-16</td><td class=\"tdhistory660999\">302.7301729778911</td></tr><tr><th class=\"tdhistory660999\" style= \"background: rgba(243, 243, 243, 0.75)\">146</th><td class=\"tdhistory660999\">2017-07-23</td><td class=\"tdhistory660999\">303.3692535751167</td></tr><tr><th class=\"tdhistory660999\" style= \"background: rgba(243, 243, 243, 0.75)\">147</th><td class=\"tdhistory660999\">2017-07-30</td><td class=\"tdhistory660999\">302.3772055088789</td></tr><tr><th class=\"tdhistory660999\" style= \"background: rgba(243, 243, 243, 0.75)\">148</th><td class=\"tdhistory660999\">2017-08-06</td><td class=\"tdhistory660999\">300.85566837271466</td></tr><tr><th class=\"tdhistory660999\" style= \"background: rgba(243, 243, 243, 0.75)\">149</th><td class=\"tdhistory660999\">2017-08-13</td><td class=\"tdhistory660999\">303.5746483717136</td></tr><tr><th class=\"tdhistory660999\" style= \"background: rgba(243, 243, 243, 0.75)\">150</th><td class=\"tdhistory660999\">2017-08-20</td><td class=\"tdhistory660999\">300.90940791304394</td></tr><tr><th class=\"tdhistory660999\" style= \"background: rgba(243, 243, 243, 0.75)\">151</th><td class=\"tdhistory660999\">2017-08-27</td><td class=\"tdhistory660999\">297.8886556293241</td></tr><tr><th class=\"tdhistory660999\" style= \"background: rgba(243, 243, 243, 0.75)\">152</th><td class=\"tdhistory660999\">2017-09-03</td><td class=\"tdhistory660999\">297.68308222571085</td></tr><tr><th class=\"tdhistory660999\" style= \"background: rgba(243, 243, 243, 0.75)\">153</th><td class=\"tdhistory660999\">2017-09-10</td><td class=\"tdhistory660999\">297.9091804013615</td></tr><tr><th class=\"tdhistory660999\" style= \"background: rgba(243, 243, 243, 0.75)\">154</th><td class=\"tdhistory660999\">2017-09-17</td><td class=\"tdhistory660999\">300.5019541773303</td></tr><tr><th class=\"tdhistory660999\" style= \"background: rgba(243, 243, 243, 0.75)\">155</th><td class=\"tdhistory660999\">2017-09-24</td><td class=\"tdhistory660999\">298.45515174472456</td></tr></tbody></table></div>"
      ]
     },
     "execution_count": 35,
     "metadata": {
      "application/vnd.teradata.resultset": "{\"resultSetID\":\"/home/jovyan/Teradata/Resultsets/2022.04.07_10.12.27.768_UTC\",\"historyID\":1050,\"chunkID\":\"00001\",\"sessionid\":\"\",\"portnum\":\"\",\"dockermode\":\"appcenter\",\"totalRowCount\":155,\"chunkCount\":0,\"rowLimit\":0,\"columnMetadata\":[{\"columnName\":\"dt\",\"columnTypeName\":\"DATE\"},{\"columnNumber\":1,\"columnName\":\"avg_temp\",\"columnTypeName\":\"FLOAT\"}]}"
     },
     "output_type": "execute_result"
    }
   ],
   "source": [
    "SELECT    \n",
    "    TRUNC(dt,'DAY') AS dt,\n",
    "    AVG(temp) AS avg_temp\n",
    "FROM\n",
    "    weather\n",
    "GROUP BY 1\n",
    "ORDER BY 1"
   ]
  },
  {
   "cell_type": "code",
   "execution_count": 36,
   "metadata": {},
   "outputs": [
    {
     "data": {
      "application/vnd.vegalite.v3+json": {
       "$schema": "https://vega.github.io/schema/vega-lite/v3.json",
       "data": {
        "format": {
         "type": "csv"
        },
        "values": "\"dt\",\"avg_temp\"\n\"2013-12-15\",\"285.56625270843506\"\n\"2013-12-22\",\"279.9445611953735\"\n\"2013-12-29\",\"279.6733713032287\"\n\"2014-01-05\",\"281.8405904535002\"\n\"2014-01-12\",\"285.65487428990804\"\n\"2014-01-19\",\"281.58417178663007\"\n\"2014-01-26\",\"282.22880270952237\"\n\"2014-02-02\",\"276.3663686116536\"\n\"2014-02-09\",\"281.3410713559105\"\n\"2014-02-16\",\"290.24446578252883\"\n\"2014-02-23\",\"286.4204685144257\"\n\"2014-03-02\",\"280.83846727616947\"\n\"2014-03-09\",\"287.0829160781134\"\n\"2014-03-16\",\"288.889760698591\"\n\"2014-03-23\",\"289.1686900910877\"\n\"2014-03-30\",\"292.8972460352732\"\n\"2014-04-06\",\"290.78357115246\"\n\"2014-04-13\",\"289.23827471051897\"\n\"2014-04-20\",\"295.41833514258974\"\n\"2014-04-27\",\"298.2893534014302\"\n\"2014-05-04\",\"296.8404172867063\"\n\"2014-05-11\",\"293.42024918788456\"\n\"2014-05-18\",\"297.00343259551823\"\n\"2014-05-25\",\"296.3916571803347\"\n\"2014-06-01\",\"299.7946067116477\"\n\"2014-06-08\",\"299.5706404016373\"\n\"2014-06-15\",\"300.1484846635298\"\n\"2014-06-22\",\"299.263126373291\"\n\"2014-06-29\",\"301.08952092549885\"\n\"2014-07-06\",\"301.02725398191933\"\n\"2014-07-13\",\"299.7183064455709\"\n\"2014-07-20\",\"301.98155377362224\"\n\"2014-07-27\",\"301.61076282319567\"\n\"2014-08-03\",\"302.9282662527902\"\n\"2015-06-07\",\"302.96275329589844\"\n\"2015-06-14\",\"300.193408203125\"\n\"2015-06-21\",\"301.155109980335\"\n\"2015-06-28\",\"300.0416365189986\"\n\"2015-07-05\",\"301.3132943546071\"\n\"2015-07-12\",\"302.27018015970015\"\n\"2015-07-19\",\"302.9005942571731\"\n\"2015-07-26\",\"303.54640718562877\"\n\"2015-08-02\",\"303.5998222670869\"\n\"2015-08-09\",\"304.5715562283636\"\n\"2015-08-16\",\"301.2879074451535\"\n\"2015-08-23\",\"302.28205899325286\"\n\"2015-08-30\",\"301.12354214986163\"\n\"2015-09-06\",\"301.17384656969006\"\n\"2015-09-13\",\"299.6758519614615\"\n\"2015-09-20\",\"299.92080823112934\"\n\"2015-09-27\",\"297.99687470330133\"\n\"2015-10-04\",\"297.2477451378191\"\n\"2015-10-11\",\"298.76333428907765\"\n\"2015-10-18\",\"295.59691569010414\"\n\"2015-10-25\",\"293.64684933179046\"\n\"2015-11-01\",\"292.10131568239444\"\n\"2015-11-08\",\"290.0431180564306\"\n\"2015-11-15\",\"289.08382311054305\"\n\"2015-11-22\",\"286.1606047874273\"\n\"2015-11-29\",\"281.4320824940999\"\n\"2015-12-06\",\"288.0857154690489\"\n\"2015-12-13\",\"285.6942311800443\"\n\"2015-12-20\",\"290.9749115535191\"\n\"2015-12-27\",\"280.56182841381997\"\n\"2016-01-03\",\"282.5274627685547\"\n\"2016-01-10\",\"281.4274475720464\"\n\"2016-01-17\",\"281.10809529622395\"\n\"2016-01-24\",\"283.4887268066406\"\n\"2016-01-31\",\"284.64097094179976\"\n\"2016-02-07\",\"285.54397353080856\"\n\"2016-02-14\",\"290.0679652327198\"\n\"2016-02-21\",\"286.2987978515625\"\n\"2016-02-28\",\"291.2640907981179\"\n\"2016-03-06\",\"290.5322388606285\"\n\"2016-03-13\",\"292.853422024106\"\n\"2016-03-20\",\"287.41102613139356\"\n\"2016-03-27\",\"290.7498490304658\"\n\"2016-04-03\",\"291.287193463003\"\n\"2016-04-10\",\"291.8648720765725\"\n\"2016-04-17\",\"292.81636725531683\"\n\"2016-04-24\",\"296.5154837331464\"\n\"2016-05-01\",\"292.92888165642233\"\n\"2016-05-08\",\"296.5529944715161\"\n\"2016-05-15\",\"292.97551434953635\"\n\"2016-05-22\",\"297.2279509044829\"\n\"2016-05-29\",\"296.6443246377481\"\n\"2016-06-05\",\"299.18047568911595\"\n\"2016-06-12\",\"302.27466655912855\"\n\"2016-06-19\",\"301.48441054400274\"\n\"2016-06-26\",\"301.30194196428573\"\n\"2016-07-03\",\"303.1185707818894\"\n\"2016-07-10\",\"303.0444195626796\"\n\"2016-07-17\",\"304.40021969023206\"\n\"2016-07-24\",\"301.34190473606975\"\n\"2016-07-31\",\"303.28976204281764\"\n\"2016-08-07\",\"304.0219472249349\"\n\"2016-08-14\",\"297.7079674672272\"\n\"2016-08-21\",\"299.8416195661662\"\n\"2016-08-28\",\"299.4889404296875\"\n\"2016-09-04\",\"300.3372674327079\"\n\"2016-09-11\",\"300.0783252164808\"\n\"2016-09-18\",\"301.2157488567073\"\n\"2016-09-25\",\"294.40672520228793\"\n\"2016-10-02\",\"296.8157441110322\"\n\"2016-10-09\",\"294.90323554144965\"\n\"2016-10-16\",\"296.777949436455\"\n\"2016-10-23\",\"294.22197632562546\"\n\"2016-10-30\",\"295.3701035348993\"\n\"2016-11-06\",\"290.69234490027793\"\n\"2016-11-13\",\"291.0741716657366\"\n\"2016-11-20\",\"288.22466183780284\"\n\"2016-11-27\",\"287.0891323478854\"\n\"2016-12-04\",\"281.0426415663499\"\n\"2016-12-11\",\"285.80499872668037\"\n\"2016-12-18\",\"282.96428555281705\"\n\"2016-12-25\",\"291.301666435154\"\n\"2017-01-01\",\"281.88105006771195\"\n\"2017-01-08\",\"286.84220163445724\"\n\"2017-01-15\",\"286.134762942136\"\n\"2017-01-22\",\"285.94105304063424\"\n\"2017-01-29\",\"285.07698519267734\"\n\"2017-02-05\",\"290.42757848366017\"\n\"2017-02-12\",\"287.84221260502653\"\n\"2017-02-19\",\"291.4480871506679\"\n\"2017-02-26\",\"289.2310876401595\"\n\"2017-03-05\",\"291.64515502929686\"\n\"2017-03-12\",\"288.733299407959\"\n\"2017-03-19\",\"294.95919058915507\"\n\"2017-03-26\",\"294.42618600117794\"\n\"2017-04-02\",\"292.17284122321126\"\n\"2017-04-09\",\"294.673005415368\"\n\"2017-04-16\",\"295.0928875393338\"\n\"2017-04-23\",\"295.0370768943028\"\n\"2017-04-30\",\"293.9892623207786\"\n\"2017-05-07\",\"296.1812169312169\"\n\"2017-05-14\",\"297.73502541566506\"\n\"2017-05-21\",\"295.9072219386245\"\n\"2017-05-28\",\"298.20302734375\"\n\"2017-06-04\",\"298.5269184834248\"\n\"2017-06-11\",\"302.00559543427966\"\n\"2017-06-18\",\"301.7114025051311\"\n\"2017-06-25\",\"300.1164900694842\"\n\"2017-07-02\",\"302.7539628191692\"\n\"2017-07-09\",\"302.6300593784877\"\n\"2017-07-16\",\"302.7301729778911\"\n\"2017-07-23\",\"303.3692535751167\"\n\"2017-07-30\",\"302.3772055088789\"\n\"2017-08-06\",\"300.85566837271466\"\n\"2017-08-13\",\"303.5746483717136\"\n\"2017-08-20\",\"300.90940791304394\"\n\"2017-08-27\",\"297.8886556293241\"\n\"2017-09-03\",\"297.68308222571085\"\n\"2017-09-10\",\"297.9091804013615\"\n\"2017-09-17\",\"300.5019541773303\"\n\"2017-09-24\",\"298.45515174472456\"\n"
       },
       "encoding": {
        "x": {
         "axis": {
          "grid": true,
          "title": "dt"
         },
         "field": "dt",
         "type": "temporal"
        },
        "y": {
         "axis": {
          "grid": true,
          "title": "avg_temp"
         },
         "field": "avg_temp",
         "type": "quantitative"
        }
       },
       "mark": {
        "color": "#4C78A8",
        "type": "bar"
       },
       "title": "Average Temperature by Day"
      },
      "image/png": "[encoded data removed]"
     },
     "execution_count": 36,
     "metadata": {
      "application/vnd.teradata.resultset": ""
     },
     "output_type": "execute_result"
    }
   ],
   "source": [
    "%chart dt, avg_temp, title=Average Temperature by Day"
   ]
  },
  {
   "cell_type": "markdown",
   "metadata": {},
   "source": [
    "<b style = 'font-size:28px;font-family:Arial;color:#E37C4D'>4. Create and Explore Temporal, Time index and Geospatial data</b>    "
   ]
  },
  {
   "cell_type": "markdown",
   "metadata": {},
   "source": [
    "<p style = 'font-size:18px;font-family:Arial;color:#E37C4D'><b>4.1 Create a temporal table with weather data</b></p>    "
   ]
  },
  {
   "cell_type": "code",
   "execution_count": 37,
   "metadata": {},
   "outputs": [
    {
     "data": {
      "text/plain": [
       "Success: 0 rows affected"
      ]
     },
     "execution_count": 37,
     "metadata": {
      "application/vnd.teradata.resultset": ""
     },
     "output_type": "execute_result"
    }
   ],
   "source": [
    "CREATE TABLE weather_temporal (\n",
    "    begin_dt      TIMESTAMP(0) NOT NULL,\n",
    "    end_dt        TIMESTAMP(0) NOT NULL,\n",
    "    temp          FLOAT,\n",
    "    temp_min      FLOAT,\n",
    "    temp_max      FLOAT,\n",
    "    pressure      INTEGER,\n",
    "    humidity      INTEGER,\n",
    "    wind_speed    INTEGER,\n",
    "    wind_deg      INTEGER,\n",
    "    rain_1h       FLOAT,\n",
    "    rain_3h       FLOAT,\n",
    "    clouds        INTEGER,\n",
    "    weather_id    INTEGER,\n",
    "    weather_main  VARCHAR(50),\n",
    "    weather_desc  VARCHAR(50),\n",
    "    weather_icon  VARCHAR(50),\n",
    "    PERIOD FOR Weather_Duration(begin_dt,end_dt) AS VALIDTIME\n",
    ")\n",
    "PRIMARY INDEX (weather_id);"
   ]
  },
  {
   "cell_type": "code",
   "execution_count": 38,
   "metadata": {},
   "outputs": [
    {
     "data": {
      "text/plain": [
       "Success: 24592 rows affected"
      ]
     },
     "execution_count": 38,
     "metadata": {
      "application/vnd.teradata.resultset": ""
     },
     "output_type": "execute_result"
    }
   ],
   "source": [
    "INSERT INTO weather_temporal\n",
    "SELECT\n",
    "    dt,\n",
    "    dt + INTERVAL '59' MINUTE + INTERVAL '59' SECOND,\n",
    "    temp,\n",
    "    temp_min,\n",
    "    temp_max,\n",
    "    pressure,\n",
    "    humidity,\n",
    "    wind_speed,\n",
    "    wind_deg,\n",
    "    rain_1h,\n",
    "    rain_3h,\n",
    "    clouds,\n",
    "    weather_id,\n",
    "    weather_main,\n",
    "    weather_desc,\n",
    "    weather_icon\n",
    "FROM \n",
    "    weather;"
   ]
  },
  {
   "cell_type": "code",
   "execution_count": 39,
   "metadata": {},
   "outputs": [
    {
     "data": {
      "application/vnd.teradata.resultset": "\"begin_dt\",\"end_dt\",\"temp\",\"temp_min\",\"temp_max\",\"pressure\",\"humidity\",\"wind_speed\",\"wind_deg\",\"rain_1h\",\"rain_3h\",\"clouds\",\"weather_id\",\"weather_main\",\"weather_desc\",\"weather_icon\"\n\"2016-01-06 00:00:00\",\"2016-01-06 00:59:59\",\"284.1099853515625\",\"283.1499938964844\",\"285.1499938964844\",\"1023\",\"66\",\"2\",\"50\",\"\",\"\",\"75\",\"803\",\"Clouds\",\"broken clouds\",\"04n\"\n\"2016-09-07 06:00:00\",\"2016-09-07 06:59:59\",\"298.6600036621094\",\"298.1499938964844\",\"299.260009765625\",\"1020\",\"94\",\"2\",\"0\",\"\",\"\",\"90\",\"804\",\"Clouds\",\"overcast clouds\",\"04n\"\n\"2016-12-03 23:00:00\",\"2016-12-03 23:59:59\",\"283.3999938964844\",\"283.1499938964844\",\"284.1499938964844\",\"1014\",\"93\",\"1\",\"0\",\"\",\"\",\"90\",\"520\",\"Rain\",\"light intensity shower rain\",\"09d\"\n\"2016-07-27 12:00:00\",\"2016-07-27 12:59:59\",\"296.7699890136719\",\"296.1499938964844\",\"297.25\",\"1016\",\"94\",\"2\",\"0\",\"1.5199999809265137\",\"\",\"90\",\"200\",\"Thunderstorm\",\"thunderstorm with light rain\",\"11d\"\n\"2015-12-27 21:00:00\",\"2015-12-27 21:59:59\",\"278.8800048828125\",\"277.1499938964844\",\"280.3699951171875\",\"1006\",\"93\",\"6\",\"320\",\"0.25\",\"\",\"90\",\"230\",\"Thunderstorm\",\"thunderstorm with light drizzle\",\"11d\"\n\"2016-04-06 15:00:00\",\"2016-04-06 15:59:59\",\"292.7200012207031\",\"292.1499938964844\",\"293.1499938964844\",\"1020\",\"68\",\"3\",\"230\",\"\",\"\",\"40\",\"802\",\"Clouds\",\"scattered clouds\",\"03d\"\n\"2015-10-15 15:00:00\",\"2015-10-15 15:59:59\",\"296.67999267578125\",\"294.82000732421875\",\"299.1499938964844\",\"1021\",\"73\",\"4\",\"220\",\"\",\"\",\"1\",\"711\",\"Smoke\",\"smoke\",\"50d\"\n\"2017-01-05 23:00:00\",\"2017-01-05 23:59:59\",\"279.989990234375\",\"277.1499938964844\",\"282.1499938964844\",\"1014\",\"61\",\"4\",\"30\",\"\",\"\",\"90\",\"721\",\"Haze\",\"haze\",\"50d\"\n\"2017-01-08 05:00:00\",\"2017-01-08 05:59:59\",\"269.6199951171875\",\"267.1499938964844\",\"272.1499938964844\",\"1042\",\"42\",\"1\",\"66\",\"\",\"\",\"1\",\"600\",\"Snow\",\"light snow\",\"13n\"\n\"2017-04-18 09:00:00\",\"2017-04-18 09:59:59\",\"288.75\",\"286.1499938964844\",\"291.1499938964844\",\"1016\",\"82\",\"2\",\"176\",\"\",\"\",\"75\",\"741\",\"Fog\",\"fog\",\"50n\"",
      "text/html": [
       "<div class = \"td-resultset-table-div\" style = \"max-height: 100%; overflow-y: auto\">\n",
       "      <table class=\"tdhistory428385\"><style>\n",
       "      table.tdhistory428385 { display: block !important; min-height: 294px !important; overflow: auto !important; height: 294px !important; width: 100% !important; border: 1px solid rgb(207, 207, 207) !important; border-collapse: collapse !important; ; color: var(--jp-ui-font-color1) !important; }\n",
       "      th.tdhistory428385 { border: 1px solid rgb(198,198,198) !important; border-collapse: collapse !important; ; padding: 2px 5px !important; ; font-size: 13px !important; ; text-align: center !important; white-space: normal !important; color: var(--jp-ui-font-color1) !important; }\n",
       "      th.tdhistory428385:last-child { text-align: left !important; }\n",
       "      tbody.tdhistory428385 tr:nth-child(even) { background: rgba(243, 243, 243, 0.75) !important; }\n",
       "      tbody.tdhistory428385 tr:nth-child(odd) { background: var(--jp-ui-inverse-font-color1) !important; }\n",
       "      td.tdhistory428385 { border: 1px solid rgb(207, 207, 207) !important; border-collapse: collapse !important; ; padding: 2px 5px !important; ; font-size: 13px !important; ; text-align: left !important;          white-space: nowrap !important; overflow:hidden !important; text-overflow:ellipsis !important;; }\n",
       "    </style><thead><tr style= \"background: rgba(243, 243, 243, 0.75)\"><th class=\"tdhistory428385\"></th><th class=\"tdhistory428385\">begin_dt</th><th class=\"tdhistory428385\">end_dt</th><th class=\"tdhistory428385\">temp</th><th class=\"tdhistory428385\">temp_min</th><th class=\"tdhistory428385\">temp_max</th><th class=\"tdhistory428385\">pressure</th><th class=\"tdhistory428385\">humidity</th><th class=\"tdhistory428385\">wind_speed</th><th class=\"tdhistory428385\">wind_deg</th><th class=\"tdhistory428385\">rain_1h</th><th class=\"tdhistory428385\">rain_3h</th><th class=\"tdhistory428385\">clouds</th><th class=\"tdhistory428385\">weather_id</th><th class=\"tdhistory428385\">weather_main</th><th class=\"tdhistory428385\">weather_desc</th><th class=\"tdhistory428385\">weather_icon</th></tr></thead><tbody class=\"tdhistory428385 resultset-body\"><tr><th class=\"tdhistory428385\" style= \"background: rgba(243, 243, 243, 0.75)\">1</th><td class=\"tdhistory428385\">2016-01-06 00:00:00</td><td class=\"tdhistory428385\">2016-01-06 00:59:59</td><td class=\"tdhistory428385\">284.1099853515625</td><td class=\"tdhistory428385\">283.1499938964844</td><td class=\"tdhistory428385\">285.1499938964844</td><td class=\"tdhistory428385\">1023</td><td class=\"tdhistory428385\">66</td><td class=\"tdhistory428385\">2</td><td class=\"tdhistory428385\">50</td><td class=\"tdhistory428385\"></td><td class=\"tdhistory428385\"></td><td class=\"tdhistory428385\">75</td><td class=\"tdhistory428385\">803</td><td class=\"tdhistory428385\">Clouds</td><td class=\"tdhistory428385\">broken clouds</td><td class=\"tdhistory428385\">04n</td></tr><tr><th class=\"tdhistory428385\" style= \"background: rgba(243, 243, 243, 0.75)\">2</th><td class=\"tdhistory428385\">2016-09-07 06:00:00</td><td class=\"tdhistory428385\">2016-09-07 06:59:59</td><td class=\"tdhistory428385\">298.6600036621094</td><td class=\"tdhistory428385\">298.1499938964844</td><td class=\"tdhistory428385\">299.260009765625</td><td class=\"tdhistory428385\">1020</td><td class=\"tdhistory428385\">94</td><td class=\"tdhistory428385\">2</td><td class=\"tdhistory428385\">0</td><td class=\"tdhistory428385\"></td><td class=\"tdhistory428385\"></td><td class=\"tdhistory428385\">90</td><td class=\"tdhistory428385\">804</td><td class=\"tdhistory428385\">Clouds</td><td class=\"tdhistory428385\">overcast clouds</td><td class=\"tdhistory428385\">04n</td></tr><tr><th class=\"tdhistory428385\" style= \"background: rgba(243, 243, 243, 0.75)\">3</th><td class=\"tdhistory428385\">2016-12-03 23:00:00</td><td class=\"tdhistory428385\">2016-12-03 23:59:59</td><td class=\"tdhistory428385\">283.3999938964844</td><td class=\"tdhistory428385\">283.1499938964844</td><td class=\"tdhistory428385\">284.1499938964844</td><td class=\"tdhistory428385\">1014</td><td class=\"tdhistory428385\">93</td><td class=\"tdhistory428385\">1</td><td class=\"tdhistory428385\">0</td><td class=\"tdhistory428385\"></td><td class=\"tdhistory428385\"></td><td class=\"tdhistory428385\">90</td><td class=\"tdhistory428385\">520</td><td class=\"tdhistory428385\">Rain</td><td class=\"tdhistory428385\">light intensity shower rain</td><td class=\"tdhistory428385\">09d</td></tr><tr><th class=\"tdhistory428385\" style= \"background: rgba(243, 243, 243, 0.75)\">4</th><td class=\"tdhistory428385\">2016-07-27 12:00:00</td><td class=\"tdhistory428385\">2016-07-27 12:59:59</td><td class=\"tdhistory428385\">296.7699890136719</td><td class=\"tdhistory428385\">296.1499938964844</td><td class=\"tdhistory428385\">297.25</td><td class=\"tdhistory428385\">1016</td><td class=\"tdhistory428385\">94</td><td class=\"tdhistory428385\">2</td><td class=\"tdhistory428385\">0</td><td class=\"tdhistory428385\">1.5199999809265137</td><td class=\"tdhistory428385\"></td><td class=\"tdhistory428385\">90</td><td class=\"tdhistory428385\">200</td><td class=\"tdhistory428385\">Thunderstorm</td><td class=\"tdhistory428385\">thunderstorm with light rain</td><td class=\"tdhistory428385\">11d</td></tr><tr><th class=\"tdhistory428385\" style= \"background: rgba(243, 243, 243, 0.75)\">5</th><td class=\"tdhistory428385\">2015-12-27 21:00:00</td><td class=\"tdhistory428385\">2015-12-27 21:59:59</td><td class=\"tdhistory428385\">278.8800048828125</td><td class=\"tdhistory428385\">277.1499938964844</td><td class=\"tdhistory428385\">280.3699951171875</td><td class=\"tdhistory428385\">1006</td><td class=\"tdhistory428385\">93</td><td class=\"tdhistory428385\">6</td><td class=\"tdhistory428385\">320</td><td class=\"tdhistory428385\">0.25</td><td class=\"tdhistory428385\"></td><td class=\"tdhistory428385\">90</td><td class=\"tdhistory428385\">230</td><td class=\"tdhistory428385\">Thunderstorm</td><td class=\"tdhistory428385\">thunderstorm with light drizzle</td><td class=\"tdhistory428385\">11d</td></tr><tr><th class=\"tdhistory428385\" style= \"background: rgba(243, 243, 243, 0.75)\">6</th><td class=\"tdhistory428385\">2016-04-06 15:00:00</td><td class=\"tdhistory428385\">2016-04-06 15:59:59</td><td class=\"tdhistory428385\">292.7200012207031</td><td class=\"tdhistory428385\">292.1499938964844</td><td class=\"tdhistory428385\">293.1499938964844</td><td class=\"tdhistory428385\">1020</td><td class=\"tdhistory428385\">68</td><td class=\"tdhistory428385\">3</td><td class=\"tdhistory428385\">230</td><td class=\"tdhistory428385\"></td><td class=\"tdhistory428385\"></td><td class=\"tdhistory428385\">40</td><td class=\"tdhistory428385\">802</td><td class=\"tdhistory428385\">Clouds</td><td class=\"tdhistory428385\">scattered clouds</td><td class=\"tdhistory428385\">03d</td></tr><tr><th class=\"tdhistory428385\" style= \"background: rgba(243, 243, 243, 0.75)\">7</th><td class=\"tdhistory428385\">2015-10-15 15:00:00</td><td class=\"tdhistory428385\">2015-10-15 15:59:59</td><td class=\"tdhistory428385\">296.67999267578125</td><td class=\"tdhistory428385\">294.82000732421875</td><td class=\"tdhistory428385\">299.1499938964844</td><td class=\"tdhistory428385\">1021</td><td class=\"tdhistory428385\">73</td><td class=\"tdhistory428385\">4</td><td class=\"tdhistory428385\">220</td><td class=\"tdhistory428385\"></td><td class=\"tdhistory428385\"></td><td class=\"tdhistory428385\">1</td><td class=\"tdhistory428385\">711</td><td class=\"tdhistory428385\">Smoke</td><td class=\"tdhistory428385\">smoke</td><td class=\"tdhistory428385\">50d</td></tr><tr><th class=\"tdhistory428385\" style= \"background: rgba(243, 243, 243, 0.75)\">8</th><td class=\"tdhistory428385\">2017-01-05 23:00:00</td><td class=\"tdhistory428385\">2017-01-05 23:59:59</td><td class=\"tdhistory428385\">279.989990234375</td><td class=\"tdhistory428385\">277.1499938964844</td><td class=\"tdhistory428385\">282.1499938964844</td><td class=\"tdhistory428385\">1014</td><td class=\"tdhistory428385\">61</td><td class=\"tdhistory428385\">4</td><td class=\"tdhistory428385\">30</td><td class=\"tdhistory428385\"></td><td class=\"tdhistory428385\"></td><td class=\"tdhistory428385\">90</td><td class=\"tdhistory428385\">721</td><td class=\"tdhistory428385\">Haze</td><td class=\"tdhistory428385\">haze</td><td class=\"tdhistory428385\">50d</td></tr><tr><th class=\"tdhistory428385\" style= \"background: rgba(243, 243, 243, 0.75)\">9</th><td class=\"tdhistory428385\">2017-01-08 05:00:00</td><td class=\"tdhistory428385\">2017-01-08 05:59:59</td><td class=\"tdhistory428385\">269.6199951171875</td><td class=\"tdhistory428385\">267.1499938964844</td><td class=\"tdhistory428385\">272.1499938964844</td><td class=\"tdhistory428385\">1042</td><td class=\"tdhistory428385\">42</td><td class=\"tdhistory428385\">1</td><td class=\"tdhistory428385\">66</td><td class=\"tdhistory428385\"></td><td class=\"tdhistory428385\"></td><td class=\"tdhistory428385\">1</td><td class=\"tdhistory428385\">600</td><td class=\"tdhistory428385\">Snow</td><td class=\"tdhistory428385\">light snow</td><td class=\"tdhistory428385\">13n</td></tr><tr><th class=\"tdhistory428385\" style= \"background: rgba(243, 243, 243, 0.75)\">10</th><td class=\"tdhistory428385\">2017-04-18 09:00:00</td><td class=\"tdhistory428385\">2017-04-18 09:59:59</td><td class=\"tdhistory428385\">288.75</td><td class=\"tdhistory428385\">286.1499938964844</td><td class=\"tdhistory428385\">291.1499938964844</td><td class=\"tdhistory428385\">1016</td><td class=\"tdhistory428385\">82</td><td class=\"tdhistory428385\">2</td><td class=\"tdhistory428385\">176</td><td class=\"tdhistory428385\"></td><td class=\"tdhistory428385\"></td><td class=\"tdhistory428385\">75</td><td class=\"tdhistory428385\">741</td><td class=\"tdhistory428385\">Fog</td><td class=\"tdhistory428385\">fog</td><td class=\"tdhistory428385\">50n</td></tr></tbody></table></div>"
      ]
     },
     "execution_count": 39,
     "metadata": {
      "application/vnd.teradata.resultset": "{\"resultSetID\":\"/home/jovyan/Teradata/Resultsets/2022.04.07_10.12.28.272_UTC\",\"historyID\":1053,\"chunkID\":\"00001\",\"sessionid\":\"\",\"portnum\":\"\",\"dockermode\":\"appcenter\",\"totalRowCount\":10,\"chunkCount\":0,\"rowLimit\":0,\"columnMetadata\":[{\"columnName\":\"begin_dt\",\"columnTypeName\":\"TIMESTAMP\"},{\"columnNumber\":1,\"columnName\":\"end_dt\",\"columnTypeName\":\"TIMESTAMP\"},{\"columnNumber\":2,\"columnName\":\"temp\",\"columnTypeName\":\"FLOAT\"},{\"columnNumber\":3,\"columnName\":\"temp_min\",\"columnTypeName\":\"FLOAT\"},{\"columnNumber\":4,\"columnName\":\"temp_max\",\"columnTypeName\":\"FLOAT\"},{\"columnNumber\":5,\"columnName\":\"pressure\",\"columnTypeName\":\"INTEGER\"},{\"columnNumber\":6,\"columnName\":\"humidity\",\"columnTypeName\":\"INTEGER\"},{\"columnNumber\":7,\"columnName\":\"wind_speed\",\"columnTypeName\":\"INTEGER\"},{\"columnNumber\":8,\"columnName\":\"wind_deg\",\"columnTypeName\":\"INTEGER\"},{\"columnNumber\":9,\"columnName\":\"rain_1h\",\"columnTypeName\":\"FLOAT\"},{\"columnNumber\":10,\"columnName\":\"rain_3h\",\"columnTypeName\":\"FLOAT\"},{\"columnNumber\":11,\"columnName\":\"clouds\",\"columnTypeName\":\"INTEGER\"},{\"columnNumber\":12,\"columnName\":\"weather_id\",\"columnTypeName\":\"INTEGER\"},{\"columnNumber\":13,\"columnName\":\"weather_main\",\"columnTypeName\":\"VARCHAR\",\"length\":50,\"scale\":50},{\"columnNumber\":14,\"columnName\":\"weather_desc\",\"columnTypeName\":\"VARCHAR\",\"length\":50,\"scale\":50},{\"columnNumber\":15,\"columnName\":\"weather_icon\",\"columnTypeName\":\"VARCHAR\",\"length\":50,\"scale\":50}]}"
     },
     "output_type": "execute_result"
    }
   ],
   "source": [
    "SELECT TOP 10 * FROM weather_temporal;"
   ]
  },
  {
   "cell_type": "markdown",
   "metadata": {},
   "source": [
    "<p style = 'font-size:18px;font-family:Arial;color:#E37C4D'><b>4.2 Create a view for all trips with start/end stations data and a GEOSEQUENCE with start/end lat/long/time</b></p>"
   ]
  },
  {
   "cell_type": "code",
   "execution_count": 40,
   "metadata": {},
   "outputs": [
    {
     "data": {
      "text/plain": [
       "Success: 0 rows affected"
      ]
     },
     "execution_count": 40,
     "metadata": {
      "application/vnd.teradata.resultset": ""
     },
     "output_type": "execute_result"
    }
   ],
   "source": [
    "REPLACE VIEW trips_geo AS\n",
    "SELECT\n",
    "    t.bikeid,\n",
    "    t.trip_ID,\n",
    "    t.subscriber_type,\n",
    "    t.start_station_id,\n",
    "    COALESCE(t.start_station_name, st.NAME) AS start_station_name,\n",
    "    t.start_time,\n",
    "    st.status starting_station_status,\n",
    "    t.end_station_id,\n",
    "    COALESCE(t.end_station_name, ed.NAME) AS end_station_name,\n",
    "    t.start_time \n",
    "        + CAST(t.duration_minutes/60 AS INTERVAL HOUR(4)) \n",
    "        + CAST(t.duration_minutes MOD 60 AS INTERVAL MINUTE(4)) AS end_time,\n",
    "    ed.status AS End_station_status,\n",
    "    t.duration_minutes,\n",
    "    CAST('GEOSEQUENCE( ('\n",
    "        || COALESCE(st.Longitude,-98.272797)\n",
    "        || ' '\n",
    "        || COALESCE(st.Lat,30.578245)\n",
    "        || ','\n",
    "        || COALESCE(ed.longitude,-98.272797)\n",
    "        || ' '\n",
    "        || COALESCE(ed.lat,30.578245)\n",
    "        || '), ('\n",
    "        || CAST(CAST(t.start_time AS FORMAT 'yyyy-mm-ddbhh:mi:ss') AS VARCHAR(50))\n",
    "        || ','\n",
    "        || CAST(CAST(end_time AS FORMAT 'yyyy-mm-ddbhh:mi:ss') AS VARCHAR(50))\n",
    "        || '), ('\n",
    "        || '1,2), (0) )' AS ST_GEOMETRY) AS GEOM\n",
    "FROM\n",
    "    trips AS t\n",
    "    LEFT JOIN stations AS st ON t.start_station_id = st.station_id\n",
    "    LEFT JOIN stations AS ed ON t.end_station_id = ed.station_id;"
   ]
  },
  {
   "cell_type": "code",
   "execution_count": 41,
   "metadata": {},
   "outputs": [
    {
     "data": {
      "application/vnd.teradata.resultset": "\"bikeid\",\"trip_id\",\"subscriber_type\",\"start_station_id\",\"start_station_name\",\"start_time\",\"starting_station_status\",\"end_station_id\",\"end_station_name\",\"end_time\",\"End_station_status\",\"duration_minutes\",\"GEOM\"\n\"435\",\"9900181954\",\"Local365\",\"2495\",\"4th & Congress\",\"2015-06-28 20:12:00.000000\",\"active\",\"2549\",\"Long Center @ South 1st & Riverside\",\"2015-06-28 20:22:00.000000\",\"active\",\"10\",\"GEOSEQUENCE((-97.74378 30.26634,-97.74971 30.25941),(2015-06-28 20:12:00.000000,2015-06-28 20:22:00.000000),(1,2),(0))\"\n\"62\",\"13431270\",\"Local365\",\"2563\",\"Davis at Rainey Street\",\"2017-01-13 16:37:51.000000\",\"active\",\"2565\",\"Trinity & 6th Street\",\"2017-01-13 17:07:51.000000\",\"active\",\"30\",\"GEOSEQUENCE((-97.73845 30.26019,-97.73933 30.26735),(2017-01-13 16:37:51.000000,2017-01-13 17:07:51.000000),(1,2),(0))\"\n\"765\",\"10273946\",\"Local365\",\"2546\",\"ACC - West & 12th Street\",\"2016-06-01 17:40:15.000000\",\"closed\",\"2497\",\"Capitol Station / Congress & 11th\",\"2016-06-01 17:45:15.000000\",\"active\",\"5\",\"GEOSEQUENCE((-97.74831 30.27624,-97.74127 30.2726),(2016-06-01 17:40:15.000000,2016-06-01 17:45:15.000000),(1,2),(0))\"\n\"400\",\"14945208\",\"Walk Up\",\"2538\",\"Bullock Museum @ Congress & MLK\",\"2017-05-27 16:48:14.000000\",\"active\",\"2547\",\"Guadalupe & 21st\",\"2017-05-27 17:06:14.000000\",\"moved\",\"18\",\"GEOSEQUENCE((-97.73809 30.28039,-97.74198 30.28395),(2017-05-27 16:48:14.000000,2017-05-27 17:06:14.000000),(1,2),(0))\"\n\"385\",\"9900257812\",\"Walk Up\",\"2504\",\"South Congress & Elizabeth\",\"2015-09-14 14:12:51.000000\",\"active\",\"2561\",\"State Capitol Visitors Garage @ San Jacinto & 12th\",\"2015-09-14 14:37:51.000000\",\"active\",\"25\",\"GEOSEQUENCE((-97.75019 30.24891,-97.73805 30.27336),(2015-09-14 14:12:51.000000,2015-09-14 14:37:51.000000),(1,2),(0))\"\n\"396\",\"9900283098\",\"24-Hour Kiosk (Austin B-cycle)\",\"2567\",\"Palmer Auditorium\",\"2014-10-21 11:12:00.000000\",\"active\",\"2566\",\"Pfluger Bridge @ W 2nd Street\",\"2014-10-21 11:27:00.000000\",\"active\",\"15\",\"GEOSEQUENCE((-97.75346 30.25971,-97.75484 30.26717),(2014-10-21 11:12:00.000000,2014-10-21 11:27:00.000000),(1,2),(0))\"\n\"283\",\"13597138\",\"Local365\",\"2540\",\"17th & Guadalupe\",\"2017-01-31 17:19:24.000000\",\"active\",\"3292\",\"East 4th & Chicon\",\"2017-01-31 17:33:24.000000\",\"active\",\"14\",\"GEOSEQUENCE((-97.74254 30.27974,-97.72373 30.25987),(2017-01-31 17:19:24.000000,2017-01-31 17:33:24.000000),(1,2),(0))\"\n\"420\",\"13507128\",\"Walk Up\",\"3390\",\"Brazos & 6th\",\"2017-01-21 20:50:10.000000\",\"active\",\"2563\",\"Davis at Rainey Street\",\"2017-01-21 21:02:10.000000\",\"active\",\"12\",\"GEOSEQUENCE((-97.74154 30.26754,-97.73845 30.26019),(2017-01-21 20:50:10.000000,2017-01-21 21:02:10.000000),(1,2),(0))\"\n\"540\",\"9900173369\",\"Walk Up\",\"2571\",\"Red River & 8th Street\",\"2015-06-10 11:12:00.000000\",\"active\",\"2498\",\"Convention Center / 4th St. @ MetroRail\",\"2015-06-10 11:15:00.000000\",\"active\",\"3\",\"GEOSEQUENCE((-97.73646 30.26854,-97.739 30.26483),(2015-06-10 11:12:00.000000,2015-06-10 11:15:00.000000),(1,2),(0))\"\n\"311\",\"14081059\",\"Walk Up\",\"2571\",\"Red River & 8th Street\",\"2017-03-17 16:27:02.000000\",\"active\",\"3292\",\"East 4th & Chicon\",\"2017-03-17 16:37:02.000000\",\"active\",\"10\",\"GEOSEQUENCE((-97.73646 30.26854,-97.72373 30.25987),(2017-03-17 16:27:02.000000,2017-03-17 16:37:02.000000),(1,2),(0))\"",
      "text/html": [
       "<div class = \"td-resultset-table-div\" style = \"max-height: 100%; overflow-y: auto\">\n",
       "      <table class=\"tdhistory234598\"><style>\n",
       "      table.tdhistory234598 { display: block !important; min-height: 294px !important; overflow: auto !important; height: 294px !important; width: 100% !important; border: 1px solid rgb(207, 207, 207) !important; border-collapse: collapse !important; ; color: var(--jp-ui-font-color1) !important; }\n",
       "      th.tdhistory234598 { border: 1px solid rgb(198,198,198) !important; border-collapse: collapse !important; ; padding: 2px 5px !important; ; font-size: 13px !important; ; text-align: center !important; white-space: normal !important; color: var(--jp-ui-font-color1) !important; }\n",
       "      th.tdhistory234598:last-child { text-align: left !important; }\n",
       "      tbody.tdhistory234598 tr:nth-child(even) { background: rgba(243, 243, 243, 0.75) !important; }\n",
       "      tbody.tdhistory234598 tr:nth-child(odd) { background: var(--jp-ui-inverse-font-color1) !important; }\n",
       "      td.tdhistory234598 { border: 1px solid rgb(207, 207, 207) !important; border-collapse: collapse !important; ; padding: 2px 5px !important; ; font-size: 13px !important; ; text-align: left !important;          white-space: nowrap !important; overflow:hidden !important; text-overflow:ellipsis !important;; }\n",
       "    </style><thead><tr style= \"background: rgba(243, 243, 243, 0.75)\"><th class=\"tdhistory234598\"></th><th class=\"tdhistory234598\">bikeid</th><th class=\"tdhistory234598\">trip_id</th><th class=\"tdhistory234598\">subscriber_type</th><th class=\"tdhistory234598\">start_station_id</th><th class=\"tdhistory234598\">start_station_name</th><th class=\"tdhistory234598\">start_time</th><th class=\"tdhistory234598\">starting_station_status</th><th class=\"tdhistory234598\">end_station_id</th><th class=\"tdhistory234598\">end_station_name</th><th class=\"tdhistory234598\">end_time</th><th class=\"tdhistory234598\">End_station_status</th><th class=\"tdhistory234598\">duration_minutes</th><th class=\"tdhistory234598\">GEOM</th></tr></thead><tbody class=\"tdhistory234598 resultset-body\"><tr><th class=\"tdhistory234598\" style= \"background: rgba(243, 243, 243, 0.75)\">1</th><td class=\"tdhistory234598\">435</td><td class=\"tdhistory234598\">9900181954</td><td class=\"tdhistory234598\">Local365</td><td class=\"tdhistory234598\">2495</td><td class=\"tdhistory234598\">4th & Congress</td><td class=\"tdhistory234598\">2015-06-28 20:12:00.000000</td><td class=\"tdhistory234598\">active</td><td class=\"tdhistory234598\">2549</td><td class=\"tdhistory234598\">Long Center @ South 1st & Riverside</td><td class=\"tdhistory234598\">2015-06-28 20:22:00.000000</td><td class=\"tdhistory234598\">active</td><td class=\"tdhistory234598\">10</td><td class=\"tdhistory234598\">GEOSEQUENCE((-97.74378 30.26634,-97.74971 30.25941),(2015-06-28 20:12:00.000000,2015-06-28 20:22:00.000000),(1,2),(0))</td></tr><tr><th class=\"tdhistory234598\" style= \"background: rgba(243, 243, 243, 0.75)\">2</th><td class=\"tdhistory234598\">62</td><td class=\"tdhistory234598\">13431270</td><td class=\"tdhistory234598\">Local365</td><td class=\"tdhistory234598\">2563</td><td class=\"tdhistory234598\">Davis at Rainey Street</td><td class=\"tdhistory234598\">2017-01-13 16:37:51.000000</td><td class=\"tdhistory234598\">active</td><td class=\"tdhistory234598\">2565</td><td class=\"tdhistory234598\">Trinity & 6th Street</td><td class=\"tdhistory234598\">2017-01-13 17:07:51.000000</td><td class=\"tdhistory234598\">active</td><td class=\"tdhistory234598\">30</td><td class=\"tdhistory234598\">GEOSEQUENCE((-97.73845 30.26019,-97.73933 30.26735),(2017-01-13 16:37:51.000000,2017-01-13 17:07:51.000000),(1,2),(0))</td></tr><tr><th class=\"tdhistory234598\" style= \"background: rgba(243, 243, 243, 0.75)\">3</th><td class=\"tdhistory234598\">765</td><td class=\"tdhistory234598\">10273946</td><td class=\"tdhistory234598\">Local365</td><td class=\"tdhistory234598\">2546</td><td class=\"tdhistory234598\">ACC - West & 12th Street</td><td class=\"tdhistory234598\">2016-06-01 17:40:15.000000</td><td class=\"tdhistory234598\">closed</td><td class=\"tdhistory234598\">2497</td><td class=\"tdhistory234598\">Capitol Station / Congress & 11th</td><td class=\"tdhistory234598\">2016-06-01 17:45:15.000000</td><td class=\"tdhistory234598\">active</td><td class=\"tdhistory234598\">5</td><td class=\"tdhistory234598\">GEOSEQUENCE((-97.74831 30.27624,-97.74127 30.2726),(2016-06-01 17:40:15.000000,2016-06-01 17:45:15.000000),(1,2),(0))</td></tr><tr><th class=\"tdhistory234598\" style= \"background: rgba(243, 243, 243, 0.75)\">4</th><td class=\"tdhistory234598\">400</td><td class=\"tdhistory234598\">14945208</td><td class=\"tdhistory234598\">Walk Up</td><td class=\"tdhistory234598\">2538</td><td class=\"tdhistory234598\">Bullock Museum @ Congress & MLK</td><td class=\"tdhistory234598\">2017-05-27 16:48:14.000000</td><td class=\"tdhistory234598\">active</td><td class=\"tdhistory234598\">2547</td><td class=\"tdhistory234598\">Guadalupe & 21st</td><td class=\"tdhistory234598\">2017-05-27 17:06:14.000000</td><td class=\"tdhistory234598\">moved</td><td class=\"tdhistory234598\">18</td><td class=\"tdhistory234598\">GEOSEQUENCE((-97.73809 30.28039,-97.74198 30.28395),(2017-05-27 16:48:14.000000,2017-05-27 17:06:14.000000),(1,2),(0))</td></tr><tr><th class=\"tdhistory234598\" style= \"background: rgba(243, 243, 243, 0.75)\">5</th><td class=\"tdhistory234598\">385</td><td class=\"tdhistory234598\">9900257812</td><td class=\"tdhistory234598\">Walk Up</td><td class=\"tdhistory234598\">2504</td><td class=\"tdhistory234598\">South Congress & Elizabeth</td><td class=\"tdhistory234598\">2015-09-14 14:12:51.000000</td><td class=\"tdhistory234598\">active</td><td class=\"tdhistory234598\">2561</td><td class=\"tdhistory234598\">State Capitol Visitors Garage @ San Jacinto & 12th</td><td class=\"tdhistory234598\">2015-09-14 14:37:51.000000</td><td class=\"tdhistory234598\">active</td><td class=\"tdhistory234598\">25</td><td class=\"tdhistory234598\">GEOSEQUENCE((-97.75019 30.24891,-97.73805 30.27336),(2015-09-14 14:12:51.000000,2015-09-14 14:37:51.000000),(1,2),(0))</td></tr><tr><th class=\"tdhistory234598\" style= \"background: rgba(243, 243, 243, 0.75)\">6</th><td class=\"tdhistory234598\">396</td><td class=\"tdhistory234598\">9900283098</td><td class=\"tdhistory234598\">24-Hour Kiosk (Austin B-cycle)</td><td class=\"tdhistory234598\">2567</td><td class=\"tdhistory234598\">Palmer Auditorium</td><td class=\"tdhistory234598\">2014-10-21 11:12:00.000000</td><td class=\"tdhistory234598\">active</td><td class=\"tdhistory234598\">2566</td><td class=\"tdhistory234598\">Pfluger Bridge @ W 2nd Street</td><td class=\"tdhistory234598\">2014-10-21 11:27:00.000000</td><td class=\"tdhistory234598\">active</td><td class=\"tdhistory234598\">15</td><td class=\"tdhistory234598\">GEOSEQUENCE((-97.75346 30.25971,-97.75484 30.26717),(2014-10-21 11:12:00.000000,2014-10-21 11:27:00.000000),(1,2),(0))</td></tr><tr><th class=\"tdhistory234598\" style= \"background: rgba(243, 243, 243, 0.75)\">7</th><td class=\"tdhistory234598\">283</td><td class=\"tdhistory234598\">13597138</td><td class=\"tdhistory234598\">Local365</td><td class=\"tdhistory234598\">2540</td><td class=\"tdhistory234598\">17th & Guadalupe</td><td class=\"tdhistory234598\">2017-01-31 17:19:24.000000</td><td class=\"tdhistory234598\">active</td><td class=\"tdhistory234598\">3292</td><td class=\"tdhistory234598\">East 4th & Chicon</td><td class=\"tdhistory234598\">2017-01-31 17:33:24.000000</td><td class=\"tdhistory234598\">active</td><td class=\"tdhistory234598\">14</td><td class=\"tdhistory234598\">GEOSEQUENCE((-97.74254 30.27974,-97.72373 30.25987),(2017-01-31 17:19:24.000000,2017-01-31 17:33:24.000000),(1,2),(0))</td></tr><tr><th class=\"tdhistory234598\" style= \"background: rgba(243, 243, 243, 0.75)\">8</th><td class=\"tdhistory234598\">420</td><td class=\"tdhistory234598\">13507128</td><td class=\"tdhistory234598\">Walk Up</td><td class=\"tdhistory234598\">3390</td><td class=\"tdhistory234598\">Brazos & 6th</td><td class=\"tdhistory234598\">2017-01-21 20:50:10.000000</td><td class=\"tdhistory234598\">active</td><td class=\"tdhistory234598\">2563</td><td class=\"tdhistory234598\">Davis at Rainey Street</td><td class=\"tdhistory234598\">2017-01-21 21:02:10.000000</td><td class=\"tdhistory234598\">active</td><td class=\"tdhistory234598\">12</td><td class=\"tdhistory234598\">GEOSEQUENCE((-97.74154 30.26754,-97.73845 30.26019),(2017-01-21 20:50:10.000000,2017-01-21 21:02:10.000000),(1,2),(0))</td></tr><tr><th class=\"tdhistory234598\" style= \"background: rgba(243, 243, 243, 0.75)\">9</th><td class=\"tdhistory234598\">540</td><td class=\"tdhistory234598\">9900173369</td><td class=\"tdhistory234598\">Walk Up</td><td class=\"tdhistory234598\">2571</td><td class=\"tdhistory234598\">Red River & 8th Street</td><td class=\"tdhistory234598\">2015-06-10 11:12:00.000000</td><td class=\"tdhistory234598\">active</td><td class=\"tdhistory234598\">2498</td><td class=\"tdhistory234598\">Convention Center / 4th St. @ MetroRail</td><td class=\"tdhistory234598\">2015-06-10 11:15:00.000000</td><td class=\"tdhistory234598\">active</td><td class=\"tdhistory234598\">3</td><td class=\"tdhistory234598\">GEOSEQUENCE((-97.73646 30.26854,-97.739 30.26483),(2015-06-10 11:12:00.000000,2015-06-10 11:15:00.000000),(1,2),(0))</td></tr><tr><th class=\"tdhistory234598\" style= \"background: rgba(243, 243, 243, 0.75)\">10</th><td class=\"tdhistory234598\">311</td><td class=\"tdhistory234598\">14081059</td><td class=\"tdhistory234598\">Walk Up</td><td class=\"tdhistory234598\">2571</td><td class=\"tdhistory234598\">Red River & 8th Street</td><td class=\"tdhistory234598\">2017-03-17 16:27:02.000000</td><td class=\"tdhistory234598\">active</td><td class=\"tdhistory234598\">3292</td><td class=\"tdhistory234598\">East 4th & Chicon</td><td class=\"tdhistory234598\">2017-03-17 16:37:02.000000</td><td class=\"tdhistory234598\">active</td><td class=\"tdhistory234598\">10</td><td class=\"tdhistory234598\">GEOSEQUENCE((-97.73646 30.26854,-97.72373 30.25987),(2017-03-17 16:27:02.000000,2017-03-17 16:37:02.000000),(1,2),(0))</td></tr></tbody></table></div>"
      ]
     },
     "execution_count": 41,
     "metadata": {
      "application/vnd.teradata.resultset": "{\"resultSetID\":\"/home/jovyan/Teradata/Resultsets/2022.04.07_10.12.28.637_UTC\",\"historyID\":1055,\"chunkID\":\"00001\",\"sessionid\":\"\",\"portnum\":\"\",\"dockermode\":\"appcenter\",\"totalRowCount\":10,\"chunkCount\":0,\"rowLimit\":0,\"columnMetadata\":[{\"columnName\":\"bikeid\",\"columnTypeName\":\"INTEGER\"},{\"columnNumber\":1,\"columnName\":\"trip_id\",\"columnTypeName\":\"BIGINT\"},{\"columnNumber\":2,\"columnName\":\"subscriber_type\",\"columnTypeName\":\"VARCHAR\",\"length\":50,\"scale\":50},{\"columnNumber\":3,\"columnName\":\"start_station_id\",\"columnTypeName\":\"INTEGER\"},{\"columnNumber\":4,\"columnName\":\"start_station_name\",\"columnTypeName\":\"VARCHAR\",\"length\":100,\"scale\":100},{\"columnNumber\":5,\"columnName\":\"start_time\",\"columnTypeName\":\"TIMESTAMP\",\"length\":6,\"scale\":6},{\"columnNumber\":6,\"columnName\":\"starting_station_status\",\"columnTypeName\":\"VARCHAR\",\"length\":50,\"scale\":50},{\"columnNumber\":7,\"columnName\":\"end_station_id\",\"columnTypeName\":\"INTEGER\"},{\"columnNumber\":8,\"columnName\":\"end_station_name\",\"columnTypeName\":\"VARCHAR\",\"length\":100,\"scale\":100},{\"columnNumber\":9,\"columnName\":\"end_time\",\"columnTypeName\":\"TIMESTAMP\",\"length\":6,\"scale\":6},{\"columnNumber\":10,\"columnName\":\"End_station_status\",\"columnTypeName\":\"VARCHAR\",\"length\":50,\"scale\":50},{\"columnNumber\":11,\"columnName\":\"duration_minutes\",\"columnTypeName\":\"INTEGER\"},{\"columnNumber\":12,\"columnName\":\"GEOM\",\"columnTypeName\":\"CLOB\",\"length\":2097088000,\"scale\":2097088000}]}"
     },
     "output_type": "execute_result"
    }
   ],
   "source": [
    "SELECT TOP 10 * FROM trips_geo"
   ]
  },
  {
   "cell_type": "markdown",
   "metadata": {},
   "source": [
    "<p style = 'font-size:18px;font-family:Arial;color:#E37C4D'><b>4.3 Create a Time Index table of the trips to accelerate time related analysis</b></p>    "
   ]
  },
  {
   "cell_type": "code",
   "execution_count": 42,
   "metadata": {},
   "outputs": [
    {
     "data": {
      "text/plain": [
       "Success: 0 rows affected"
      ]
     },
     "execution_count": 42,
     "metadata": {
      "application/vnd.teradata.resultset": ""
     },
     "output_type": "execute_result"
    }
   ],
   "source": [
    "CREATE TABLE trips_geo_pti (\n",
    "    bikeid                    INTEGER,\n",
    "    trip_id                   BIGINT,\n",
    "    subscriber_type           VARCHAR(50),\n",
    "    start_station_id          INTEGER,\n",
    "    start_station_name        VARCHAR(100),\n",
    "    starting_station_status   VARCHAR(50),\n",
    "    end_station_id            INTEGER,\n",
    "    end_station_name          VARCHAR(100),\n",
    "    end_time                  TIMESTAMP(6),\n",
    "    end_station_status        VARCHAR(50),\n",
    "    duration_minutes          INTEGER,\n",
    "    geom                      SYSUDTLIB.ST_GEOMETRY(16776192) INLINE LENGTH 9920\n",
    ")\n",
    "PRIMARY TIME INDEX (TIMESTAMP(6), DATE '2013-12-20', MINUTES(60));"
   ]
  },
  {
   "cell_type": "code",
   "execution_count": 43,
   "metadata": {},
   "outputs": [
    {
     "data": {
      "text/plain": [
       "Success: 649231 rows affected"
      ]
     },
     "execution_count": 43,
     "metadata": {
      "application/vnd.teradata.resultset": ""
     },
     "output_type": "execute_result"
    }
   ],
   "source": [
    "INSERT INTO trips_geo_pti\n",
    "SELECT\n",
    "    start_time,\n",
    "    bikeid,\n",
    "    trip_id,\n",
    "    subscriber_type,\n",
    "    start_station_id,\n",
    "    start_station_name,\n",
    "    starting_station_status,\n",
    "    end_station_id,\n",
    "    end_station_name,\n",
    "    end_time,\n",
    "    End_station_status,\n",
    "    duration_minutes,\n",
    "    geom\n",
    "FROM\n",
    "    trips_geo;"
   ]
  },
  {
   "cell_type": "code",
   "execution_count": 44,
   "metadata": {},
   "outputs": [
    {
     "data": {
      "application/vnd.teradata.resultset": "\"TD_TIMECODE\",\"bikeid\",\"trip_id\",\"subscriber_type\",\"start_station_id\",\"start_station_name\",\"starting_station_status\",\"end_station_id\",\"end_station_name\",\"end_time\",\"end_station_status\",\"duration_minutes\",\"geom\"\n\"2013-12-27 20:12:00.000000\",\"951\",\"9900334732\",\"Annual Membership (Austin B-cycle)\",\"2495\",\"4th & Congress\",\"active\",\"2501\",\"5th & Bowie\",\"2013-12-27 20:17:00.000000\",\"active\",\"5\",\"GEOSEQUENCE((-97.74378 30.26634,-97.75332 30.2696),(2013-12-27 20:12:00.000000,2013-12-27 20:17:00.000000),(1,2),(0))\"\n\"2014-01-11 08:12:00.000000\",\"54\",\"9900000947\",\"7-Day Membership (Austin B-cycle)\",\"2496\",\"8th & Congress\",\"active\",\"2496\",\"8th & Congress\",\"2014-01-11 10:01:00.000000\",\"active\",\"109\",\"GEOSEQUENCE((-97.74186 30.2698,-97.74186 30.2698),(2014-01-11 08:12:00.000000,2014-01-11 10:01:00.000000),(1,2),(0))\"\n\"2014-01-11 08:12:00.000000\",\"646\",\"9900000946\",\"7-Day Membership (Austin B-cycle)\",\"2496\",\"8th & Congress\",\"active\",\"2496\",\"8th & Congress\",\"2014-01-11 10:01:00.000000\",\"active\",\"109\",\"GEOSEQUENCE((-97.74186 30.2698,-97.74186 30.2698),(2014-01-11 08:12:00.000000,2014-01-11 10:01:00.000000),(1,2),(0))\"\n\"2014-01-11 08:12:00.000000\",\"54\",\"9900000945\",\"7-Day Membership (Austin B-cycle)\",\"2496\",\"8th & Congress\",\"active\",\"2496\",\"8th & Congress\",\"2014-01-11 08:13:00.000000\",\"active\",\"1\",\"GEOSEQUENCE((-97.74186 30.2698,-97.74186 30.2698),(2014-01-11 08:12:00.000000,2014-01-11 08:13:00.000000),(1,2),(0))\"\n\"2014-01-17 07:12:00.000000\",\"980\",\"9900001689\",\"Annual Membership (Austin B-cycle)\",\"2497\",\"Capitol Station / Congress & 11th\",\"active\",\"2499\",\"City Hall / Lavaca & 2nd\",\"2014-01-17 07:24:00.000000\",\"active\",\"12\",\"GEOSEQUENCE((-97.74127 30.2726,-97.74678 30.26476),(2014-01-17 07:12:00.000000,2014-01-17 07:24:00.000000),(1,2),(0))\"\n\"2014-01-17 07:12:00.000000\",\"306\",\"9900001688\",\"24-Hour Kiosk (Austin B-cycle)\",\"2503\",\"South Congress & James\",\"active\",\"2503\",\"South Congress & James\",\"2014-01-17 08:00:00.000000\",\"active\",\"48\",\"GEOSEQUENCE((-97.74926 30.25103,-97.74926 30.25103),(2014-01-17 07:12:00.000000,2014-01-17 08:00:00.000000),(1,2),(0))\"\n\"2014-01-17 07:12:00.000000\",\"52\",\"9900001687\",\"24-Hour Kiosk (Austin B-cycle)\",\"2502\",\"Barton Springs & Riverside\",\"active\",\"2494\",\"2nd & Congress\",\"2014-01-17 07:17:00.000000\",\"active\",\"5\",\"GEOSEQUENCE((-97.74872 30.2587,-97.74355 30.26408),(2014-01-17 07:12:00.000000,2014-01-17 07:17:00.000000),(1,2),(0))\"\n\"2013-12-27 20:12:00.000000\",\"425\",\"9900334735\",\"24-Hour Kiosk (Austin B-cycle)\",\"2502\",\"Barton Springs & Riverside\",\"active\",\"2498\",\"Convention Center / 4th St. @ MetroRail\",\"2013-12-27 20:26:00.000000\",\"active\",\"14\",\"GEOSEQUENCE((-97.74872 30.2587,-97.739 30.26483),(2013-12-27 20:12:00.000000,2013-12-27 20:26:00.000000),(1,2),(0))\"\n\"2013-12-27 20:12:00.000000\",\"829\",\"9900334733\",\"24-Hour Kiosk (Austin B-cycle)\",\"2497\",\"Capitol Station / Congress & 11th\",\"active\",\"2498\",\"Convention Center / 4th St. @ MetroRail\",\"2013-12-27 20:21:00.000000\",\"active\",\"9\",\"GEOSEQUENCE((-97.74127 30.2726,-97.739 30.26483),(2013-12-27 20:12:00.000000,2013-12-27 20:21:00.000000),(1,2),(0))\"\n\"2013-12-27 20:12:00.000000\",\"975\",\"9900334734\",\"24-Hour Kiosk (Austin B-cycle)\",\"2497\",\"Capitol Station / Congress & 11th\",\"active\",\"2498\",\"Convention Center / 4th St. @ MetroRail\",\"2013-12-27 20:21:00.000000\",\"active\",\"9\",\"GEOSEQUENCE((-97.74127 30.2726,-97.739 30.26483),(2013-12-27 20:12:00.000000,2013-12-27 20:21:00.000000),(1,2),(0))\"",
      "text/html": [
       "<div class = \"td-resultset-table-div\" style = \"max-height: 100%; overflow-y: auto\">\n",
       "      <table class=\"tdhistory901280\"><style>\n",
       "      table.tdhistory901280 { display: block !important; min-height: 294px !important; overflow: auto !important; height: 294px !important; width: 100% !important; border: 1px solid rgb(207, 207, 207) !important; border-collapse: collapse !important; ; color: var(--jp-ui-font-color1) !important; }\n",
       "      th.tdhistory901280 { border: 1px solid rgb(198,198,198) !important; border-collapse: collapse !important; ; padding: 2px 5px !important; ; font-size: 13px !important; ; text-align: center !important; white-space: normal !important; color: var(--jp-ui-font-color1) !important; }\n",
       "      th.tdhistory901280:last-child { text-align: left !important; }\n",
       "      tbody.tdhistory901280 tr:nth-child(even) { background: rgba(243, 243, 243, 0.75) !important; }\n",
       "      tbody.tdhistory901280 tr:nth-child(odd) { background: var(--jp-ui-inverse-font-color1) !important; }\n",
       "      td.tdhistory901280 { border: 1px solid rgb(207, 207, 207) !important; border-collapse: collapse !important; ; padding: 2px 5px !important; ; font-size: 13px !important; ; text-align: left !important;          white-space: nowrap !important; overflow:hidden !important; text-overflow:ellipsis !important;; }\n",
       "    </style><thead><tr style= \"background: rgba(243, 243, 243, 0.75)\"><th class=\"tdhistory901280\"></th><th class=\"tdhistory901280\">TD_TIMECODE</th><th class=\"tdhistory901280\">bikeid</th><th class=\"tdhistory901280\">trip_id</th><th class=\"tdhistory901280\">subscriber_type</th><th class=\"tdhistory901280\">start_station_id</th><th class=\"tdhistory901280\">start_station_name</th><th class=\"tdhistory901280\">starting_station_status</th><th class=\"tdhistory901280\">end_station_id</th><th class=\"tdhistory901280\">end_station_name</th><th class=\"tdhistory901280\">end_time</th><th class=\"tdhistory901280\">end_station_status</th><th class=\"tdhistory901280\">duration_minutes</th><th class=\"tdhistory901280\">geom</th></tr></thead><tbody class=\"tdhistory901280 resultset-body\"><tr><th class=\"tdhistory901280\" style= \"background: rgba(243, 243, 243, 0.75)\">1</th><td class=\"tdhistory901280\">2013-12-27 20:12:00.000000</td><td class=\"tdhistory901280\">951</td><td class=\"tdhistory901280\">9900334732</td><td class=\"tdhistory901280\">Annual Membership (Austin B-cycle)</td><td class=\"tdhistory901280\">2495</td><td class=\"tdhistory901280\">4th & Congress</td><td class=\"tdhistory901280\">active</td><td class=\"tdhistory901280\">2501</td><td class=\"tdhistory901280\">5th & Bowie</td><td class=\"tdhistory901280\">2013-12-27 20:17:00.000000</td><td class=\"tdhistory901280\">active</td><td class=\"tdhistory901280\">5</td><td class=\"tdhistory901280\">GEOSEQUENCE((-97.74378 30.26634,-97.75332 30.2696),(2013-12-27 20:12:00.000000,2013-12-27 20:17:00.000000),(1,2),(0))</td></tr><tr><th class=\"tdhistory901280\" style= \"background: rgba(243, 243, 243, 0.75)\">2</th><td class=\"tdhistory901280\">2014-01-11 08:12:00.000000</td><td class=\"tdhistory901280\">54</td><td class=\"tdhistory901280\">9900000947</td><td class=\"tdhistory901280\">7-Day Membership (Austin B-cycle)</td><td class=\"tdhistory901280\">2496</td><td class=\"tdhistory901280\">8th & Congress</td><td class=\"tdhistory901280\">active</td><td class=\"tdhistory901280\">2496</td><td class=\"tdhistory901280\">8th & Congress</td><td class=\"tdhistory901280\">2014-01-11 10:01:00.000000</td><td class=\"tdhistory901280\">active</td><td class=\"tdhistory901280\">109</td><td class=\"tdhistory901280\">GEOSEQUENCE((-97.74186 30.2698,-97.74186 30.2698),(2014-01-11 08:12:00.000000,2014-01-11 10:01:00.000000),(1,2),(0))</td></tr><tr><th class=\"tdhistory901280\" style= \"background: rgba(243, 243, 243, 0.75)\">3</th><td class=\"tdhistory901280\">2014-01-11 08:12:00.000000</td><td class=\"tdhistory901280\">646</td><td class=\"tdhistory901280\">9900000946</td><td class=\"tdhistory901280\">7-Day Membership (Austin B-cycle)</td><td class=\"tdhistory901280\">2496</td><td class=\"tdhistory901280\">8th & Congress</td><td class=\"tdhistory901280\">active</td><td class=\"tdhistory901280\">2496</td><td class=\"tdhistory901280\">8th & Congress</td><td class=\"tdhistory901280\">2014-01-11 10:01:00.000000</td><td class=\"tdhistory901280\">active</td><td class=\"tdhistory901280\">109</td><td class=\"tdhistory901280\">GEOSEQUENCE((-97.74186 30.2698,-97.74186 30.2698),(2014-01-11 08:12:00.000000,2014-01-11 10:01:00.000000),(1,2),(0))</td></tr><tr><th class=\"tdhistory901280\" style= \"background: rgba(243, 243, 243, 0.75)\">4</th><td class=\"tdhistory901280\">2014-01-11 08:12:00.000000</td><td class=\"tdhistory901280\">54</td><td class=\"tdhistory901280\">9900000945</td><td class=\"tdhistory901280\">7-Day Membership (Austin B-cycle)</td><td class=\"tdhistory901280\">2496</td><td class=\"tdhistory901280\">8th & Congress</td><td class=\"tdhistory901280\">active</td><td class=\"tdhistory901280\">2496</td><td class=\"tdhistory901280\">8th & Congress</td><td class=\"tdhistory901280\">2014-01-11 08:13:00.000000</td><td class=\"tdhistory901280\">active</td><td class=\"tdhistory901280\">1</td><td class=\"tdhistory901280\">GEOSEQUENCE((-97.74186 30.2698,-97.74186 30.2698),(2014-01-11 08:12:00.000000,2014-01-11 08:13:00.000000),(1,2),(0))</td></tr><tr><th class=\"tdhistory901280\" style= \"background: rgba(243, 243, 243, 0.75)\">5</th><td class=\"tdhistory901280\">2014-01-17 07:12:00.000000</td><td class=\"tdhistory901280\">980</td><td class=\"tdhistory901280\">9900001689</td><td class=\"tdhistory901280\">Annual Membership (Austin B-cycle)</td><td class=\"tdhistory901280\">2497</td><td class=\"tdhistory901280\">Capitol Station / Congress & 11th</td><td class=\"tdhistory901280\">active</td><td class=\"tdhistory901280\">2499</td><td class=\"tdhistory901280\">City Hall / Lavaca & 2nd</td><td class=\"tdhistory901280\">2014-01-17 07:24:00.000000</td><td class=\"tdhistory901280\">active</td><td class=\"tdhistory901280\">12</td><td class=\"tdhistory901280\">GEOSEQUENCE((-97.74127 30.2726,-97.74678 30.26476),(2014-01-17 07:12:00.000000,2014-01-17 07:24:00.000000),(1,2),(0))</td></tr><tr><th class=\"tdhistory901280\" style= \"background: rgba(243, 243, 243, 0.75)\">6</th><td class=\"tdhistory901280\">2014-01-17 07:12:00.000000</td><td class=\"tdhistory901280\">306</td><td class=\"tdhistory901280\">9900001688</td><td class=\"tdhistory901280\">24-Hour Kiosk (Austin B-cycle)</td><td class=\"tdhistory901280\">2503</td><td class=\"tdhistory901280\">South Congress & James</td><td class=\"tdhistory901280\">active</td><td class=\"tdhistory901280\">2503</td><td class=\"tdhistory901280\">South Congress & James</td><td class=\"tdhistory901280\">2014-01-17 08:00:00.000000</td><td class=\"tdhistory901280\">active</td><td class=\"tdhistory901280\">48</td><td class=\"tdhistory901280\">GEOSEQUENCE((-97.74926 30.25103,-97.74926 30.25103),(2014-01-17 07:12:00.000000,2014-01-17 08:00:00.000000),(1,2),(0))</td></tr><tr><th class=\"tdhistory901280\" style= \"background: rgba(243, 243, 243, 0.75)\">7</th><td class=\"tdhistory901280\">2014-01-17 07:12:00.000000</td><td class=\"tdhistory901280\">52</td><td class=\"tdhistory901280\">9900001687</td><td class=\"tdhistory901280\">24-Hour Kiosk (Austin B-cycle)</td><td class=\"tdhistory901280\">2502</td><td class=\"tdhistory901280\">Barton Springs & Riverside</td><td class=\"tdhistory901280\">active</td><td class=\"tdhistory901280\">2494</td><td class=\"tdhistory901280\">2nd & Congress</td><td class=\"tdhistory901280\">2014-01-17 07:17:00.000000</td><td class=\"tdhistory901280\">active</td><td class=\"tdhistory901280\">5</td><td class=\"tdhistory901280\">GEOSEQUENCE((-97.74872 30.2587,-97.74355 30.26408),(2014-01-17 07:12:00.000000,2014-01-17 07:17:00.000000),(1,2),(0))</td></tr><tr><th class=\"tdhistory901280\" style= \"background: rgba(243, 243, 243, 0.75)\">8</th><td class=\"tdhistory901280\">2013-12-27 20:12:00.000000</td><td class=\"tdhistory901280\">425</td><td class=\"tdhistory901280\">9900334735</td><td class=\"tdhistory901280\">24-Hour Kiosk (Austin B-cycle)</td><td class=\"tdhistory901280\">2502</td><td class=\"tdhistory901280\">Barton Springs & Riverside</td><td class=\"tdhistory901280\">active</td><td class=\"tdhistory901280\">2498</td><td class=\"tdhistory901280\">Convention Center / 4th St. @ MetroRail</td><td class=\"tdhistory901280\">2013-12-27 20:26:00.000000</td><td class=\"tdhistory901280\">active</td><td class=\"tdhistory901280\">14</td><td class=\"tdhistory901280\">GEOSEQUENCE((-97.74872 30.2587,-97.739 30.26483),(2013-12-27 20:12:00.000000,2013-12-27 20:26:00.000000),(1,2),(0))</td></tr><tr><th class=\"tdhistory901280\" style= \"background: rgba(243, 243, 243, 0.75)\">9</th><td class=\"tdhistory901280\">2013-12-27 20:12:00.000000</td><td class=\"tdhistory901280\">829</td><td class=\"tdhistory901280\">9900334733</td><td class=\"tdhistory901280\">24-Hour Kiosk (Austin B-cycle)</td><td class=\"tdhistory901280\">2497</td><td class=\"tdhistory901280\">Capitol Station / Congress & 11th</td><td class=\"tdhistory901280\">active</td><td class=\"tdhistory901280\">2498</td><td class=\"tdhistory901280\">Convention Center / 4th St. @ MetroRail</td><td class=\"tdhistory901280\">2013-12-27 20:21:00.000000</td><td class=\"tdhistory901280\">active</td><td class=\"tdhistory901280\">9</td><td class=\"tdhistory901280\">GEOSEQUENCE((-97.74127 30.2726,-97.739 30.26483),(2013-12-27 20:12:00.000000,2013-12-27 20:21:00.000000),(1,2),(0))</td></tr><tr><th class=\"tdhistory901280\" style= \"background: rgba(243, 243, 243, 0.75)\">10</th><td class=\"tdhistory901280\">2013-12-27 20:12:00.000000</td><td class=\"tdhistory901280\">975</td><td class=\"tdhistory901280\">9900334734</td><td class=\"tdhistory901280\">24-Hour Kiosk (Austin B-cycle)</td><td class=\"tdhistory901280\">2497</td><td class=\"tdhistory901280\">Capitol Station / Congress & 11th</td><td class=\"tdhistory901280\">active</td><td class=\"tdhistory901280\">2498</td><td class=\"tdhistory901280\">Convention Center / 4th St. @ MetroRail</td><td class=\"tdhistory901280\">2013-12-27 20:21:00.000000</td><td class=\"tdhistory901280\">active</td><td class=\"tdhistory901280\">9</td><td class=\"tdhistory901280\">GEOSEQUENCE((-97.74127 30.2726,-97.739 30.26483),(2013-12-27 20:12:00.000000,2013-12-27 20:21:00.000000),(1,2),(0))</td></tr></tbody></table></div>"
      ]
     },
     "execution_count": 44,
     "metadata": {
      "application/vnd.teradata.resultset": "{\"resultSetID\":\"/home/jovyan/Teradata/Resultsets/2022.04.07_10.12.30.067_UTC\",\"historyID\":1058,\"chunkID\":\"00001\",\"sessionid\":\"\",\"portnum\":\"\",\"dockermode\":\"appcenter\",\"totalRowCount\":10,\"chunkCount\":0,\"rowLimit\":0,\"columnMetadata\":[{\"columnName\":\"TD_TIMECODE\",\"columnTypeName\":\"TIMESTAMP\",\"length\":6,\"scale\":6},{\"columnNumber\":1,\"columnName\":\"bikeid\",\"columnTypeName\":\"INTEGER\"},{\"columnNumber\":2,\"columnName\":\"trip_id\",\"columnTypeName\":\"BIGINT\"},{\"columnNumber\":3,\"columnName\":\"subscriber_type\",\"columnTypeName\":\"VARCHAR\",\"length\":50,\"scale\":50},{\"columnNumber\":4,\"columnName\":\"start_station_id\",\"columnTypeName\":\"INTEGER\"},{\"columnNumber\":5,\"columnName\":\"start_station_name\",\"columnTypeName\":\"VARCHAR\",\"length\":100,\"scale\":100},{\"columnNumber\":6,\"columnName\":\"starting_station_status\",\"columnTypeName\":\"VARCHAR\",\"length\":50,\"scale\":50},{\"columnNumber\":7,\"columnName\":\"end_station_id\",\"columnTypeName\":\"INTEGER\"},{\"columnNumber\":8,\"columnName\":\"end_station_name\",\"columnTypeName\":\"VARCHAR\",\"length\":100,\"scale\":100},{\"columnNumber\":9,\"columnName\":\"end_time\",\"columnTypeName\":\"TIMESTAMP\",\"length\":6,\"scale\":6},{\"columnNumber\":10,\"columnName\":\"end_station_status\",\"columnTypeName\":\"VARCHAR\",\"length\":50,\"scale\":50},{\"columnNumber\":11,\"columnName\":\"duration_minutes\",\"columnTypeName\":\"INTEGER\"},{\"columnNumber\":12,\"columnName\":\"geom\",\"columnTypeName\":\"CLOB\",\"length\":2097088000,\"scale\":2097088000}]}"
     },
     "output_type": "execute_result"
    }
   ],
   "source": [
    "SELECT TOP 10 * FROM trips_geo_pti"
   ]
  },
  {
   "cell_type": "markdown",
   "metadata": {},
   "source": [
    "<p style = 'font-size:18px;font-family:Arial;color:#E37C4D'><b>4.4 Augment trips data with weather data and extract geospatial information</b></p>    "
   ]
  },
  {
   "cell_type": "code",
   "execution_count": 45,
   "metadata": {},
   "outputs": [
    {
     "data": {
      "text/plain": [
       "Success: 0 rows affected"
      ]
     },
     "execution_count": 45,
     "metadata": {
      "application/vnd.teradata.resultset": ""
     },
     "output_type": "execute_result"
    }
   ],
   "source": [
    "CREATE TABLE trips_and_weather AS (\n",
    "    SELECT \n",
    "        t.start_station_name,\n",
    "        t.end_station_name,\n",
    "        t.bikeid,\n",
    "        t.trip_id,\n",
    "        t.geom.GetInitT() AS pickup_time,\n",
    "        t.geom.GetFinalT() AS dropoff_time,\n",
    "        t.geom.ST_POINTN(1).ST_SPHEROIDALDISTANCE(geom.ST_POINTN(2))/1000 AS total_distance,\n",
    "        t.geom.ST_POINTN(1).ST_X() AS pickup_location_lon,\n",
    "        t.geom.ST_POINTN(1).ST_Y() AS pickup_location_lat,\n",
    "        t.geom.ST_POINTN(2).ST_X() AS dropoff_location_lon,\n",
    "        t.geom.ST_POINTN(2).ST_Y() AS dropoff_location_lat,        \n",
    "        t.duration_minutes,\n",
    "        t.TD_TIMECODE,\n",
    "        wt.*\n",
    "    FROM \n",
    "        trips_geo_pti AS t\n",
    "        LEFT JOIN Weather_temporal AS wt ON wt.weather_duration CONTAINS t.TD_TIMECODE\n",
    ")\n",
    "WITH DATA;"
   ]
  },
  {
   "cell_type": "code",
   "execution_count": 46,
   "metadata": {},
   "outputs": [
    {
     "data": {
      "application/vnd.teradata.resultset": "\"start_station_name\",\"end_station_name\",\"bikeid\",\"trip_id\",\"pickup_time\",\"dropoff_time\",\"total_distance\",\"pickup_location_lon\",\"pickup_location_lat\",\"dropoff_location_lon\",\"dropoff_location_lat\",\"duration_minutes\",\"TD_TIMECODE\",\"begin_dt\",\"end_dt\",\"temp\",\"temp_min\",\"temp_max\",\"pressure\",\"humidity\",\"wind_speed\",\"wind_deg\",\"rain_1h\",\"rain_3h\",\"clouds\",\"weather_id\",\"weather_main\",\"weather_desc\",\"weather_icon\"\n\"Zilker Park\",\"Pfluger Bridge @ W 2nd Street\",\"938\",\"12296023\",\"2016-10-08 11:35:27.000000\",\"2016-10-08 11:44:27.000000\",\"1.2951972044141373\",\"-97.76822\",\"30.2659\",\"-97.75484\",\"30.26717\",\"9\",\"2016-10-08 11:35:27.000000\",\"2016-10-08 11:00:00\",\"2016-10-08 11:59:59\",\"289.0409851074219\",\"289.0409851074219\",\"289.0409851074219\",\"1011\",\"72\",\"6\",\"3\",\"\",\"\",\"0\",\"800\",\"Clear\",\"Sky is Clear\",\"01n\"\n\"Zilker Park\",\"Zilker Park\",\"133\",\"9848059\",\"2016-05-04 17:03:34.000000\",\"2016-05-04 19:15:34.000000\",\"0\",\"-97.76822\",\"30.2659\",\"-97.76822\",\"30.2659\",\"132\",\"2016-05-04 17:03:34.000000\",\"2016-05-04 17:00:00\",\"2016-05-04 17:59:59\",\"298.8299865722656\",\"296.4800109863281\",\"301.4800109863281\",\"1020\",\"39\",\"4\",\"310\",\"\",\"\",\"1\",\"800\",\"Clear\",\"sky is clear\",\"01d\"\n\"Zilker Park\",\"Barton Springs Pool\",\"881\",\"13767140\",\"2017-02-18 11:36:31.000000\",\"2017-02-18 11:40:31.000000\",\"0.3250166420001558\",\"-97.76822\",\"30.2659\",\"-97.7712\",\"30.26452\",\"4\",\"2017-02-18 11:36:31.000000\",\"2017-02-18 11:00:00\",\"2017-02-18 11:59:59\",\"284.6610107421875\",\"284.6610107421875\",\"284.6610107421875\",\"997\",\"92\",\"4\",\"196\",\"\",\"\",\"0\",\"800\",\"Clear\",\"Sky is Clear\",\"01n\"\n\"Zilker Park\",\"2nd & Congress\",\"104\",\"10506494\",\"2016-06-16 20:19:59.000000\",\"2016-06-16 20:41:59.000000\",\"2.382525285502613\",\"-97.76822\",\"30.2659\",\"-97.74355\",\"30.26408\",\"22\",\"2016-06-16 20:19:59.000000\",\"2016-06-16 20:00:00\",\"2016-06-16 20:59:59\",\"307.8900146484375\",\"305.3699951171875\",\"310.8500061035156\",\"1013\",\"53\",\"5\",\"136\",\"\",\"0\",\"0\",\"800\",\"Clear\",\"Sky is Clear\",\"01d\"\n\"Zilker Park\",\"Zilker Park\",\"822\",\"9900018118\",\"2016-01-22 14:12:42.000000\",\"2016-01-22 14:28:42.000000\",\"0\",\"-97.76822\",\"30.2659\",\"-97.76822\",\"30.2659\",\"16\",\"2016-01-22 14:12:42.000000\",\"2016-01-22 14:00:00\",\"2016-01-22 14:59:59\",\"275.6499938964844\",\"274.1499938964844\",\"277.1499938964844\",\"1026\",\"74\",\"5\",\"330\",\"\",\"\",\"20\",\"801\",\"Clouds\",\"few clouds\",\"02d\"\n\"Zilker Park\",\"State Capitol Visitors Garage @ San Jacinto & 12th\",\"453\",\"9900347732\",\"2015-12-15 12:12:21.000000\",\"2015-12-15 14:22:21.000000\",\"3.018583566892411\",\"-97.76822\",\"30.2659\",\"-97.73805\",\"30.27336\",\"130\",\"2015-12-15 12:12:21.000000\",\"2015-12-15 12:00:00\",\"2015-12-15 12:59:59\",\"285.6400146484375\",\"284.1499938964844\",\"288.1499938964844\",\"1006\",\"87\",\"4\",\"180\",\"\",\"\",\"1\",\"701\",\"Mist\",\"mist\",\"50n\"\n\"Zilker Park\",\"San Jacinto & 8th Street\",\"513\",\"14335661\",\"2017-04-06 16:52:54.000000\",\"2017-04-06 17:17:54.000000\",\"2.7522287614714034\",\"-97.76822\",\"30.2659\",\"-97.73986\",\"30.26912\",\"25\",\"2017-04-06 16:52:54.000000\",\"2017-04-06 16:00:00\",\"2017-04-06 16:59:59\",\"293.2699890136719\",\"292.1499938964844\",\"294.1499938964844\",\"1026\",\"32\",\"3\",\"140\",\"\",\"\",\"1\",\"800\",\"Clear\",\"sky is clear\",\"01d\"\n\"Zilker Park\",\"Riverside @ S. Lamar\",\"230\",\"9900296607\",\"2015-10-09 20:12:50.000000\",\"2015-10-10 15:43:50.000000\",\"1.1247522012104383\",\"-97.76822\",\"30.2659\",\"-97.75665\",\"30.26446\",\"1171\",\"2015-10-09 20:12:50.000000\",\"2015-10-09 20:00:00\",\"2015-10-09 20:59:59\",\"302.79998779296875\",\"302.0400085449219\",\"303.7099914550781\",\"1019\",\"45\",\"2\",\"50\",\"\",\"\",\"20\",\"801\",\"Clouds\",\"few clouds\",\"02d\"\n\"Zilker Park\",\"Barton Springs & Riverside\",\"669\",\"9900251769\",\"2015-09-04 15:12:03.000000\",\"2015-09-04 18:24:03.000000\",\"2.0392112139140575\",\"-97.76822\",\"30.2659\",\"-97.74872\",\"30.2587\",\"192\",\"2015-09-04 15:12:03.000000\",\"2015-09-04 15:00:00\",\"2015-09-04 15:59:59\",\"301.42999267578125\",\"300.1499938964844\",\"303.1499938964844\",\"1015\",\"62\",\"2\",\"0\",\"\",\"\",\"75\",\"803\",\"Clouds\",\"broken clouds\",\"04d\"\n\"Zilker Park\",\"Zilker Park\",\"420\",\"15135191\",\"2017-06-16 11:41:29.000000\",\"2017-06-16 12:41:29.000000\",\"0\",\"-97.76822\",\"30.2659\",\"-97.76822\",\"30.2659\",\"60\",\"2017-06-16 11:41:29.000000\",\"2017-06-16 11:00:00\",\"2017-06-16 11:59:59\",\"298.2799987792969\",\"297.1499938964844\",\"299.1499938964844\",\"1013\",\"78\",\"3\",\"190\",\"\",\"\",\"90\",\"804\",\"Clouds\",\"overcast clouds\",\"04n\"",
      "text/html": [
       "<div class = \"td-resultset-table-div\" style = \"max-height: 100%; overflow-y: auto\">\n",
       "      <table class=\"tdhistory702094\"><style>\n",
       "      table.tdhistory702094 { display: block !important; min-height: 294px !important; overflow: auto !important; height: 294px !important; width: 100% !important; border: 1px solid rgb(207, 207, 207) !important; border-collapse: collapse !important; ; color: var(--jp-ui-font-color1) !important; }\n",
       "      th.tdhistory702094 { border: 1px solid rgb(198,198,198) !important; border-collapse: collapse !important; ; padding: 2px 5px !important; ; font-size: 13px !important; ; text-align: center !important; white-space: normal !important; color: var(--jp-ui-font-color1) !important; }\n",
       "      th.tdhistory702094:last-child { text-align: left !important; }\n",
       "      tbody.tdhistory702094 tr:nth-child(even) { background: rgba(243, 243, 243, 0.75) !important; }\n",
       "      tbody.tdhistory702094 tr:nth-child(odd) { background: var(--jp-ui-inverse-font-color1) !important; }\n",
       "      td.tdhistory702094 { border: 1px solid rgb(207, 207, 207) !important; border-collapse: collapse !important; ; padding: 2px 5px !important; ; font-size: 13px !important; ; text-align: left !important;          white-space: nowrap !important; overflow:hidden !important; text-overflow:ellipsis !important;; }\n",
       "    </style><thead><tr style= \"background: rgba(243, 243, 243, 0.75)\"><th class=\"tdhistory702094\"></th><th class=\"tdhistory702094\">start_station_name</th><th class=\"tdhistory702094\">end_station_name</th><th class=\"tdhistory702094\">bikeid</th><th class=\"tdhistory702094\">trip_id</th><th class=\"tdhistory702094\">pickup_time</th><th class=\"tdhistory702094\">dropoff_time</th><th class=\"tdhistory702094\">total_distance</th><th class=\"tdhistory702094\">pickup_location_lon</th><th class=\"tdhistory702094\">pickup_location_lat</th><th class=\"tdhistory702094\">dropoff_location_lon</th><th class=\"tdhistory702094\">dropoff_location_lat</th><th class=\"tdhistory702094\">duration_minutes</th><th class=\"tdhistory702094\">TD_TIMECODE</th><th class=\"tdhistory702094\">begin_dt</th><th class=\"tdhistory702094\">end_dt</th><th class=\"tdhistory702094\">temp</th><th class=\"tdhistory702094\">temp_min</th><th class=\"tdhistory702094\">temp_max</th><th class=\"tdhistory702094\">pressure</th><th class=\"tdhistory702094\">humidity</th><th class=\"tdhistory702094\">wind_speed</th><th class=\"tdhistory702094\">wind_deg</th><th class=\"tdhistory702094\">rain_1h</th><th class=\"tdhistory702094\">rain_3h</th><th class=\"tdhistory702094\">clouds</th><th class=\"tdhistory702094\">weather_id</th><th class=\"tdhistory702094\">weather_main</th><th class=\"tdhistory702094\">weather_desc</th><th class=\"tdhistory702094\">weather_icon</th></tr></thead><tbody class=\"tdhistory702094 resultset-body\"><tr><th class=\"tdhistory702094\" style= \"background: rgba(243, 243, 243, 0.75)\">1</th><td class=\"tdhistory702094\">Zilker Park</td><td class=\"tdhistory702094\">Pfluger Bridge @ W 2nd Street</td><td class=\"tdhistory702094\">938</td><td class=\"tdhistory702094\">12296023</td><td class=\"tdhistory702094\">2016-10-08 11:35:27.000000</td><td class=\"tdhistory702094\">2016-10-08 11:44:27.000000</td><td class=\"tdhistory702094\">1.2951972044141373</td><td class=\"tdhistory702094\">-97.76822</td><td class=\"tdhistory702094\">30.2659</td><td class=\"tdhistory702094\">-97.75484</td><td class=\"tdhistory702094\">30.26717</td><td class=\"tdhistory702094\">9</td><td class=\"tdhistory702094\">2016-10-08 11:35:27.000000</td><td class=\"tdhistory702094\">2016-10-08 11:00:00</td><td class=\"tdhistory702094\">2016-10-08 11:59:59</td><td class=\"tdhistory702094\">289.0409851074219</td><td class=\"tdhistory702094\">289.0409851074219</td><td class=\"tdhistory702094\">289.0409851074219</td><td class=\"tdhistory702094\">1011</td><td class=\"tdhistory702094\">72</td><td class=\"tdhistory702094\">6</td><td class=\"tdhistory702094\">3</td><td class=\"tdhistory702094\"></td><td class=\"tdhistory702094\"></td><td class=\"tdhistory702094\">0</td><td class=\"tdhistory702094\">800</td><td class=\"tdhistory702094\">Clear</td><td class=\"tdhistory702094\">Sky is Clear</td><td class=\"tdhistory702094\">01n</td></tr><tr><th class=\"tdhistory702094\" style= \"background: rgba(243, 243, 243, 0.75)\">2</th><td class=\"tdhistory702094\">Zilker Park</td><td class=\"tdhistory702094\">Zilker Park</td><td class=\"tdhistory702094\">133</td><td class=\"tdhistory702094\">9848059</td><td class=\"tdhistory702094\">2016-05-04 17:03:34.000000</td><td class=\"tdhistory702094\">2016-05-04 19:15:34.000000</td><td class=\"tdhistory702094\">0</td><td class=\"tdhistory702094\">-97.76822</td><td class=\"tdhistory702094\">30.2659</td><td class=\"tdhistory702094\">-97.76822</td><td class=\"tdhistory702094\">30.2659</td><td class=\"tdhistory702094\">132</td><td class=\"tdhistory702094\">2016-05-04 17:03:34.000000</td><td class=\"tdhistory702094\">2016-05-04 17:00:00</td><td class=\"tdhistory702094\">2016-05-04 17:59:59</td><td class=\"tdhistory702094\">298.8299865722656</td><td class=\"tdhistory702094\">296.4800109863281</td><td class=\"tdhistory702094\">301.4800109863281</td><td class=\"tdhistory702094\">1020</td><td class=\"tdhistory702094\">39</td><td class=\"tdhistory702094\">4</td><td class=\"tdhistory702094\">310</td><td class=\"tdhistory702094\"></td><td class=\"tdhistory702094\"></td><td class=\"tdhistory702094\">1</td><td class=\"tdhistory702094\">800</td><td class=\"tdhistory702094\">Clear</td><td class=\"tdhistory702094\">sky is clear</td><td class=\"tdhistory702094\">01d</td></tr><tr><th class=\"tdhistory702094\" style= \"background: rgba(243, 243, 243, 0.75)\">3</th><td class=\"tdhistory702094\">Zilker Park</td><td class=\"tdhistory702094\">Barton Springs Pool</td><td class=\"tdhistory702094\">881</td><td class=\"tdhistory702094\">13767140</td><td class=\"tdhistory702094\">2017-02-18 11:36:31.000000</td><td class=\"tdhistory702094\">2017-02-18 11:40:31.000000</td><td class=\"tdhistory702094\">0.3250166420001558</td><td class=\"tdhistory702094\">-97.76822</td><td class=\"tdhistory702094\">30.2659</td><td class=\"tdhistory702094\">-97.7712</td><td class=\"tdhistory702094\">30.26452</td><td class=\"tdhistory702094\">4</td><td class=\"tdhistory702094\">2017-02-18 11:36:31.000000</td><td class=\"tdhistory702094\">2017-02-18 11:00:00</td><td class=\"tdhistory702094\">2017-02-18 11:59:59</td><td class=\"tdhistory702094\">284.6610107421875</td><td class=\"tdhistory702094\">284.6610107421875</td><td class=\"tdhistory702094\">284.6610107421875</td><td class=\"tdhistory702094\">997</td><td class=\"tdhistory702094\">92</td><td class=\"tdhistory702094\">4</td><td class=\"tdhistory702094\">196</td><td class=\"tdhistory702094\"></td><td class=\"tdhistory702094\"></td><td class=\"tdhistory702094\">0</td><td class=\"tdhistory702094\">800</td><td class=\"tdhistory702094\">Clear</td><td class=\"tdhistory702094\">Sky is Clear</td><td class=\"tdhistory702094\">01n</td></tr><tr><th class=\"tdhistory702094\" style= \"background: rgba(243, 243, 243, 0.75)\">4</th><td class=\"tdhistory702094\">Zilker Park</td><td class=\"tdhistory702094\">2nd & Congress</td><td class=\"tdhistory702094\">104</td><td class=\"tdhistory702094\">10506494</td><td class=\"tdhistory702094\">2016-06-16 20:19:59.000000</td><td class=\"tdhistory702094\">2016-06-16 20:41:59.000000</td><td class=\"tdhistory702094\">2.382525285502613</td><td class=\"tdhistory702094\">-97.76822</td><td class=\"tdhistory702094\">30.2659</td><td class=\"tdhistory702094\">-97.74355</td><td class=\"tdhistory702094\">30.26408</td><td class=\"tdhistory702094\">22</td><td class=\"tdhistory702094\">2016-06-16 20:19:59.000000</td><td class=\"tdhistory702094\">2016-06-16 20:00:00</td><td class=\"tdhistory702094\">2016-06-16 20:59:59</td><td class=\"tdhistory702094\">307.8900146484375</td><td class=\"tdhistory702094\">305.3699951171875</td><td class=\"tdhistory702094\">310.8500061035156</td><td class=\"tdhistory702094\">1013</td><td class=\"tdhistory702094\">53</td><td class=\"tdhistory702094\">5</td><td class=\"tdhistory702094\">136</td><td class=\"tdhistory702094\"></td><td class=\"tdhistory702094\">0</td><td class=\"tdhistory702094\">0</td><td class=\"tdhistory702094\">800</td><td class=\"tdhistory702094\">Clear</td><td class=\"tdhistory702094\">Sky is Clear</td><td class=\"tdhistory702094\">01d</td></tr><tr><th class=\"tdhistory702094\" style= \"background: rgba(243, 243, 243, 0.75)\">5</th><td class=\"tdhistory702094\">Zilker Park</td><td class=\"tdhistory702094\">Zilker Park</td><td class=\"tdhistory702094\">822</td><td class=\"tdhistory702094\">9900018118</td><td class=\"tdhistory702094\">2016-01-22 14:12:42.000000</td><td class=\"tdhistory702094\">2016-01-22 14:28:42.000000</td><td class=\"tdhistory702094\">0</td><td class=\"tdhistory702094\">-97.76822</td><td class=\"tdhistory702094\">30.2659</td><td class=\"tdhistory702094\">-97.76822</td><td class=\"tdhistory702094\">30.2659</td><td class=\"tdhistory702094\">16</td><td class=\"tdhistory702094\">2016-01-22 14:12:42.000000</td><td class=\"tdhistory702094\">2016-01-22 14:00:00</td><td class=\"tdhistory702094\">2016-01-22 14:59:59</td><td class=\"tdhistory702094\">275.6499938964844</td><td class=\"tdhistory702094\">274.1499938964844</td><td class=\"tdhistory702094\">277.1499938964844</td><td class=\"tdhistory702094\">1026</td><td class=\"tdhistory702094\">74</td><td class=\"tdhistory702094\">5</td><td class=\"tdhistory702094\">330</td><td class=\"tdhistory702094\"></td><td class=\"tdhistory702094\"></td><td class=\"tdhistory702094\">20</td><td class=\"tdhistory702094\">801</td><td class=\"tdhistory702094\">Clouds</td><td class=\"tdhistory702094\">few clouds</td><td class=\"tdhistory702094\">02d</td></tr><tr><th class=\"tdhistory702094\" style= \"background: rgba(243, 243, 243, 0.75)\">6</th><td class=\"tdhistory702094\">Zilker Park</td><td class=\"tdhistory702094\">State Capitol Visitors Garage @ San Jacinto & 12th</td><td class=\"tdhistory702094\">453</td><td class=\"tdhistory702094\">9900347732</td><td class=\"tdhistory702094\">2015-12-15 12:12:21.000000</td><td class=\"tdhistory702094\">2015-12-15 14:22:21.000000</td><td class=\"tdhistory702094\">3.018583566892411</td><td class=\"tdhistory702094\">-97.76822</td><td class=\"tdhistory702094\">30.2659</td><td class=\"tdhistory702094\">-97.73805</td><td class=\"tdhistory702094\">30.27336</td><td class=\"tdhistory702094\">130</td><td class=\"tdhistory702094\">2015-12-15 12:12:21.000000</td><td class=\"tdhistory702094\">2015-12-15 12:00:00</td><td class=\"tdhistory702094\">2015-12-15 12:59:59</td><td class=\"tdhistory702094\">285.6400146484375</td><td class=\"tdhistory702094\">284.1499938964844</td><td class=\"tdhistory702094\">288.1499938964844</td><td class=\"tdhistory702094\">1006</td><td class=\"tdhistory702094\">87</td><td class=\"tdhistory702094\">4</td><td class=\"tdhistory702094\">180</td><td class=\"tdhistory702094\"></td><td class=\"tdhistory702094\"></td><td class=\"tdhistory702094\">1</td><td class=\"tdhistory702094\">701</td><td class=\"tdhistory702094\">Mist</td><td class=\"tdhistory702094\">mist</td><td class=\"tdhistory702094\">50n</td></tr><tr><th class=\"tdhistory702094\" style= \"background: rgba(243, 243, 243, 0.75)\">7</th><td class=\"tdhistory702094\">Zilker Park</td><td class=\"tdhistory702094\">San Jacinto & 8th Street</td><td class=\"tdhistory702094\">513</td><td class=\"tdhistory702094\">14335661</td><td class=\"tdhistory702094\">2017-04-06 16:52:54.000000</td><td class=\"tdhistory702094\">2017-04-06 17:17:54.000000</td><td class=\"tdhistory702094\">2.7522287614714034</td><td class=\"tdhistory702094\">-97.76822</td><td class=\"tdhistory702094\">30.2659</td><td class=\"tdhistory702094\">-97.73986</td><td class=\"tdhistory702094\">30.26912</td><td class=\"tdhistory702094\">25</td><td class=\"tdhistory702094\">2017-04-06 16:52:54.000000</td><td class=\"tdhistory702094\">2017-04-06 16:00:00</td><td class=\"tdhistory702094\">2017-04-06 16:59:59</td><td class=\"tdhistory702094\">293.2699890136719</td><td class=\"tdhistory702094\">292.1499938964844</td><td class=\"tdhistory702094\">294.1499938964844</td><td class=\"tdhistory702094\">1026</td><td class=\"tdhistory702094\">32</td><td class=\"tdhistory702094\">3</td><td class=\"tdhistory702094\">140</td><td class=\"tdhistory702094\"></td><td class=\"tdhistory702094\"></td><td class=\"tdhistory702094\">1</td><td class=\"tdhistory702094\">800</td><td class=\"tdhistory702094\">Clear</td><td class=\"tdhistory702094\">sky is clear</td><td class=\"tdhistory702094\">01d</td></tr><tr><th class=\"tdhistory702094\" style= \"background: rgba(243, 243, 243, 0.75)\">8</th><td class=\"tdhistory702094\">Zilker Park</td><td class=\"tdhistory702094\">Riverside @ S. Lamar</td><td class=\"tdhistory702094\">230</td><td class=\"tdhistory702094\">9900296607</td><td class=\"tdhistory702094\">2015-10-09 20:12:50.000000</td><td class=\"tdhistory702094\">2015-10-10 15:43:50.000000</td><td class=\"tdhistory702094\">1.1247522012104383</td><td class=\"tdhistory702094\">-97.76822</td><td class=\"tdhistory702094\">30.2659</td><td class=\"tdhistory702094\">-97.75665</td><td class=\"tdhistory702094\">30.26446</td><td class=\"tdhistory702094\">1171</td><td class=\"tdhistory702094\">2015-10-09 20:12:50.000000</td><td class=\"tdhistory702094\">2015-10-09 20:00:00</td><td class=\"tdhistory702094\">2015-10-09 20:59:59</td><td class=\"tdhistory702094\">302.79998779296875</td><td class=\"tdhistory702094\">302.0400085449219</td><td class=\"tdhistory702094\">303.7099914550781</td><td class=\"tdhistory702094\">1019</td><td class=\"tdhistory702094\">45</td><td class=\"tdhistory702094\">2</td><td class=\"tdhistory702094\">50</td><td class=\"tdhistory702094\"></td><td class=\"tdhistory702094\"></td><td class=\"tdhistory702094\">20</td><td class=\"tdhistory702094\">801</td><td class=\"tdhistory702094\">Clouds</td><td class=\"tdhistory702094\">few clouds</td><td class=\"tdhistory702094\">02d</td></tr><tr><th class=\"tdhistory702094\" style= \"background: rgba(243, 243, 243, 0.75)\">9</th><td class=\"tdhistory702094\">Zilker Park</td><td class=\"tdhistory702094\">Barton Springs & Riverside</td><td class=\"tdhistory702094\">669</td><td class=\"tdhistory702094\">9900251769</td><td class=\"tdhistory702094\">2015-09-04 15:12:03.000000</td><td class=\"tdhistory702094\">2015-09-04 18:24:03.000000</td><td class=\"tdhistory702094\">2.0392112139140575</td><td class=\"tdhistory702094\">-97.76822</td><td class=\"tdhistory702094\">30.2659</td><td class=\"tdhistory702094\">-97.74872</td><td class=\"tdhistory702094\">30.2587</td><td class=\"tdhistory702094\">192</td><td class=\"tdhistory702094\">2015-09-04 15:12:03.000000</td><td class=\"tdhistory702094\">2015-09-04 15:00:00</td><td class=\"tdhistory702094\">2015-09-04 15:59:59</td><td class=\"tdhistory702094\">301.42999267578125</td><td class=\"tdhistory702094\">300.1499938964844</td><td class=\"tdhistory702094\">303.1499938964844</td><td class=\"tdhistory702094\">1015</td><td class=\"tdhistory702094\">62</td><td class=\"tdhistory702094\">2</td><td class=\"tdhistory702094\">0</td><td class=\"tdhistory702094\"></td><td class=\"tdhistory702094\"></td><td class=\"tdhistory702094\">75</td><td class=\"tdhistory702094\">803</td><td class=\"tdhistory702094\">Clouds</td><td class=\"tdhistory702094\">broken clouds</td><td class=\"tdhistory702094\">04d</td></tr><tr><th class=\"tdhistory702094\" style= \"background: rgba(243, 243, 243, 0.75)\">10</th><td class=\"tdhistory702094\">Zilker Park</td><td class=\"tdhistory702094\">Zilker Park</td><td class=\"tdhistory702094\">420</td><td class=\"tdhistory702094\">15135191</td><td class=\"tdhistory702094\">2017-06-16 11:41:29.000000</td><td class=\"tdhistory702094\">2017-06-16 12:41:29.000000</td><td class=\"tdhistory702094\">0</td><td class=\"tdhistory702094\">-97.76822</td><td class=\"tdhistory702094\">30.2659</td><td class=\"tdhistory702094\">-97.76822</td><td class=\"tdhistory702094\">30.2659</td><td class=\"tdhistory702094\">60</td><td class=\"tdhistory702094\">2017-06-16 11:41:29.000000</td><td class=\"tdhistory702094\">2017-06-16 11:00:00</td><td class=\"tdhistory702094\">2017-06-16 11:59:59</td><td class=\"tdhistory702094\">298.2799987792969</td><td class=\"tdhistory702094\">297.1499938964844</td><td class=\"tdhistory702094\">299.1499938964844</td><td class=\"tdhistory702094\">1013</td><td class=\"tdhistory702094\">78</td><td class=\"tdhistory702094\">3</td><td class=\"tdhistory702094\">190</td><td class=\"tdhistory702094\"></td><td class=\"tdhistory702094\"></td><td class=\"tdhistory702094\">90</td><td class=\"tdhistory702094\">804</td><td class=\"tdhistory702094\">Clouds</td><td class=\"tdhistory702094\">overcast clouds</td><td class=\"tdhistory702094\">04n</td></tr></tbody></table></div>"
      ]
     },
     "execution_count": 46,
     "metadata": {
      "application/vnd.teradata.resultset": "{\"resultSetID\":\"/home/jovyan/Teradata/Resultsets/2022.04.07_10.19.55.798_UTC\",\"historyID\":1060,\"chunkID\":\"00001\",\"sessionid\":\"\",\"portnum\":\"\",\"dockermode\":\"appcenter\",\"totalRowCount\":10,\"chunkCount\":0,\"rowLimit\":0,\"columnMetadata\":[{\"columnName\":\"start_station_name\",\"columnTypeName\":\"VARCHAR\",\"length\":100,\"scale\":100},{\"columnNumber\":1,\"columnName\":\"end_station_name\",\"columnTypeName\":\"VARCHAR\",\"length\":100,\"scale\":100},{\"columnNumber\":2,\"columnName\":\"bikeid\",\"columnTypeName\":\"INTEGER\"},{\"columnNumber\":3,\"columnName\":\"trip_id\",\"columnTypeName\":\"BIGINT\"},{\"columnNumber\":4,\"columnName\":\"pickup_time\",\"columnTypeName\":\"TIMESTAMP\",\"length\":6,\"scale\":6},{\"columnNumber\":5,\"columnName\":\"dropoff_time\",\"columnTypeName\":\"TIMESTAMP\",\"length\":6,\"scale\":6},{\"columnNumber\":6,\"columnName\":\"total_distance\",\"columnTypeName\":\"FLOAT\"},{\"columnNumber\":7,\"columnName\":\"pickup_location_lon\",\"columnTypeName\":\"FLOAT\"},{\"columnNumber\":8,\"columnName\":\"pickup_location_lat\",\"columnTypeName\":\"FLOAT\"},{\"columnNumber\":9,\"columnName\":\"dropoff_location_lon\",\"columnTypeName\":\"FLOAT\"},{\"columnNumber\":10,\"columnName\":\"dropoff_location_lat\",\"columnTypeName\":\"FLOAT\"},{\"columnNumber\":11,\"columnName\":\"duration_minutes\",\"columnTypeName\":\"INTEGER\"},{\"columnNumber\":12,\"columnName\":\"TD_TIMECODE\",\"columnTypeName\":\"TIMESTAMP\",\"length\":6,\"scale\":6},{\"columnNumber\":13,\"columnName\":\"begin_dt\",\"columnTypeName\":\"TIMESTAMP\"},{\"columnNumber\":14,\"columnName\":\"end_dt\",\"columnTypeName\":\"TIMESTAMP\"},{\"columnNumber\":15,\"columnName\":\"temp\",\"columnTypeName\":\"FLOAT\"},{\"columnNumber\":16,\"columnName\":\"temp_min\",\"columnTypeName\":\"FLOAT\"},{\"columnNumber\":17,\"columnName\":\"temp_max\",\"columnTypeName\":\"FLOAT\"},{\"columnNumber\":18,\"columnName\":\"pressure\",\"columnTypeName\":\"INTEGER\"},{\"columnNumber\":19,\"columnName\":\"humidity\",\"columnTypeName\":\"INTEGER\"},{\"columnNumber\":20,\"columnName\":\"wind_speed\",\"columnTypeName\":\"INTEGER\"},{\"columnNumber\":21,\"columnName\":\"wind_deg\",\"columnTypeName\":\"INTEGER\"},{\"columnNumber\":22,\"columnName\":\"rain_1h\",\"columnTypeName\":\"FLOAT\"},{\"columnNumber\":23,\"columnName\":\"rain_3h\",\"columnTypeName\":\"FLOAT\"},{\"columnNumber\":24,\"columnName\":\"clouds\",\"columnTypeName\":\"INTEGER\"},{\"columnNumber\":25,\"columnName\":\"weather_id\",\"columnTypeName\":\"INTEGER\"},{\"columnNumber\":26,\"columnName\":\"weather_main\",\"columnTypeName\":\"VARCHAR\",\"length\":50,\"scale\":50},{\"columnNumber\":27,\"columnName\":\"weather_desc\",\"columnTypeName\":\"VARCHAR\",\"length\":50,\"scale\":50},{\"columnNumber\":28,\"columnName\":\"weather_icon\",\"columnTypeName\":\"VARCHAR\",\"length\":50,\"scale\":50}]}"
     },
     "output_type": "execute_result"
    }
   ],
   "source": [
    "SELECT TOP 10 * FROM trips_and_weather"
   ]
  },
  {
   "cell_type": "markdown",
   "metadata": {},
   "source": [
    "<b style = 'font-size:28px;font-family:Arial;color:#E37C4D'>5. Clean up</b>\n",
    "\n",
    "<p style = 'font-size:16px;font-family:Arial'>Drop the objects we created in our user database</p>"
   ]
  },
  {
   "cell_type": "code",
   "execution_count": 47,
   "metadata": {},
   "outputs": [
    {
     "data": {
      "text/plain": [
       "Success: 20 rows affected"
      ]
     },
     "execution_count": 47,
     "metadata": {
      "application/vnd.teradata.resultset": ""
     },
     "output_type": "execute_result"
    }
   ],
   "source": [
    "DROP TABLE stations_staging;"
   ]
  },
  {
   "cell_type": "code",
   "execution_count": 48,
   "metadata": {},
   "outputs": [
    {
     "data": {
      "text/plain": [
       "Success: 21 rows affected"
      ]
     },
     "execution_count": 48,
     "metadata": {
      "application/vnd.teradata.resultset": ""
     },
     "output_type": "execute_result"
    }
   ],
   "source": [
    "DROP TABLE stations;"
   ]
  },
  {
   "cell_type": "code",
   "execution_count": 49,
   "metadata": {},
   "outputs": [
    {
     "data": {
      "text/plain": [
       "Success: 26 rows affected"
      ]
     },
     "execution_count": 49,
     "metadata": {
      "application/vnd.teradata.resultset": ""
     },
     "output_type": "execute_result"
    }
   ],
   "source": [
    "DROP TABLE trips_staging;"
   ]
  },
  {
   "cell_type": "code",
   "execution_count": 50,
   "metadata": {},
   "outputs": [
    {
     "data": {
      "text/plain": [
       "Success: 26 rows affected"
      ]
     },
     "execution_count": 50,
     "metadata": {
      "application/vnd.teradata.resultset": ""
     },
     "output_type": "execute_result"
    }
   ],
   "source": [
    "DROP TABLE trips;"
   ]
  },
  {
   "cell_type": "code",
   "execution_count": 51,
   "metadata": {},
   "outputs": [
    {
     "data": {
      "text/plain": [
       "Success: 28 rows affected"
      ]
     },
     "execution_count": 51,
     "metadata": {
      "application/vnd.teradata.resultset": ""
     },
     "output_type": "execute_result"
    }
   ],
   "source": [
    "DROP TABLE weather_staging;"
   ]
  },
  {
   "cell_type": "code",
   "execution_count": 52,
   "metadata": {},
   "outputs": [
    {
     "data": {
      "text/plain": [
       "Success: 29 rows affected"
      ]
     },
     "execution_count": 52,
     "metadata": {
      "application/vnd.teradata.resultset": ""
     },
     "output_type": "execute_result"
    }
   ],
   "source": [
    "DROP TABLE weather;"
   ]
  },
  {
   "cell_type": "code",
   "execution_count": 53,
   "metadata": {},
   "outputs": [
    {
     "data": {
      "text/plain": [
       "Success: 32 rows affected"
      ]
     },
     "execution_count": 53,
     "metadata": {
      "application/vnd.teradata.resultset": ""
     },
     "output_type": "execute_result"
    }
   ],
   "source": [
    "DROP TABLE weather_temporal;"
   ]
  },
  {
   "cell_type": "code",
   "execution_count": 54,
   "metadata": {},
   "outputs": [
    {
     "data": {
      "text/plain": [
       "Success: 30 rows affected"
      ]
     },
     "execution_count": 54,
     "metadata": {
      "application/vnd.teradata.resultset": ""
     },
     "output_type": "execute_result"
    }
   ],
   "source": [
    "DROP TABLE trips_geo_pti;"
   ]
  },
  {
   "cell_type": "code",
   "execution_count": 55,
   "metadata": {},
   "outputs": [
    {
     "data": {
      "text/plain": [
       "Success: 43 rows affected"
      ]
     },
     "execution_count": 55,
     "metadata": {
      "application/vnd.teradata.resultset": ""
     },
     "output_type": "execute_result"
    }
   ],
   "source": [
    "DROP TABLE trips_and_weather;"
   ]
  },
  {
   "cell_type": "code",
   "execution_count": 56,
   "metadata": {},
   "outputs": [
    {
     "data": {
      "text/plain": [
       "Success: 19 rows affected"
      ]
     },
     "execution_count": 56,
     "metadata": {
      "application/vnd.teradata.resultset": ""
     },
     "output_type": "execute_result"
    }
   ],
   "source": [
    "DROP VIEW trips_geo;"
   ]
  },
  {
   "cell_type": "markdown",
   "metadata": {},
   "source": [
    "<footer style=\"padding:10px;background:#f9f9f9;border-bottom:3px solid #394851\">©2022 Teradata. All Rights Reserved</footer>"
   ]
  }
 ],
 "metadata": {
  "kernelspec": {
   "display_name": "Teradata SQL",
   "language": "Teradata SQL",
   "name": "teradatasql"
  },
  "language_info": {
   "codemirror_mode": "Teradata SQL",
   "file_extension": ".tdrs",
   "mimetype": "application/vnd.teradata.resultset",
   "name": "Teradata SQL",
   "nbconvert_exporter": "",
   "pygments_lexer": "",
   "version": "16.20"
  }
 },
 "nbformat": 4,
 "nbformat_minor": 4
}
