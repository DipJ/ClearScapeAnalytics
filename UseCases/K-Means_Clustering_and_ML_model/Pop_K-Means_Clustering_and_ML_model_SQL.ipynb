{
 "cells": [
  {
   "cell_type": "markdown",
   "id": "221b5b2a",
   "metadata": {},
   "source": [
    "<header>\n",
    "   <p  style='font-size:36px;font-family:Arial; color:#F0F0F0; background-color: #00233c; padding-left: 20pt; padding-top: 20pt;padding-bottom: 10pt; padding-right: 20pt;'>\n",
    "       Customer Segmentation with K-means Clustering and Data Preparation Piplelines\n",
    "  <br>\n",
    "       <img id=\"teradata-logo\" src=\"https://storage.googleapis.com/clearscape_analytics_demo_data/DEMO_Logo/teradata.svg\" alt=\"Teradata\" style=\"width: 125px; height: auto; margin-top: 20pt;\">\n",
    "    </p>\n",
    "</header>"
   ]
  },
  {
   "cell_type": "markdown",
   "id": "db3c9b69-2ca6-4e86-84ec-31d4af2b7432",
   "metadata": {},
   "source": [
    "<p style = 'font-size:20px;font-family:Arial;color:#00233C'><b>Introduction</b></p>"
   ]
  },
  {
   "cell_type": "markdown",
   "id": "7f6fb360",
   "metadata": {},
   "source": [
    "<b style = 'font-size:20px;font-family:Arial;'>Leverage native Vantage processing for efficient and highly scalable data preparation, model training, and evaluation workflows</b>\n",
    "\n",
    "<p style = 'font-size:16px;font-family:Arial;color:#00233C'>K-means clustering is one of the most popular <b>unsupervised</b> machine learning algorithms.  Essentially, the algorithm seeks to group similar data points together by minimizing the average (\"means\" in K-means) distance for all data points from each cluster's center (centroid).</p>\n",
    "\n",
    "<table style = 'width:100%;table-layout:fixed;'>\n",
    "    <tr>\n",
    "        <td style = 'vertical-align:top' width = '50%'>\n",
    "            <ol style = 'font-size:16px;font-family:Arial;color:#00233C'>\n",
    "                <li>Define the number of clusters (k)</li>\n",
    "                <br>\n",
    "                <li>The algorithm chooses random points as centroids</li>\n",
    "                <br>\n",
    "                <li>Each iteration attempts to optimize the centroid locations</li>\n",
    "                <br>\n",
    "                <li>Iterations end once the distances have stabilized or the max iteration count is reached</li>\n",
    "            </ol>\n",
    "        </td>\n",
    "        <td><img src = 'images/K-means_convergence.gif' width = '250'></td>\n",
    "    </tr>\n",
    "</table>\n",
    "\n",
    "<p style = 'font-size:16px;font-family:Arial;color:#00233C'>One limitation of this algorithm is that it only accepts numeric data as feature input (categorical clustering can be performed using K-modes algorithm).  Typically, data engineers or data scientists will perform multiple <b>serial</b> steps to prepare a numeric-only data set that can be passed to the K-means algorithm.</p>\n",
    "\n",
    "<p style = 'font-size:16px;font-family:Arial;color:#00233C'>Vantage provides native \"Fit and Transform\" functions to assist in data preparation and transformation at scale.  To aid in efficiency and operationalization, Vantage provides a bulk <b>Column Transformer</b> function which can take multiple transformation directives at the same time, and act on the whole data set at once.  This allows for both process and code simplification, allowing more streamlined and robust operational deployment.</p> \n",
    "\n",
    "<img src = 'Flow_Diagram_KMeans.png' width = 100%>\n"
   ]
  },
  {
   "cell_type": "markdown",
   "id": "4e9acd56",
   "metadata": {},
   "source": [
    "<p style = 'font-size:16px;font-family:Arial;color:#00233C'>The data for this demonstration is based on online purchase history data set, which can be found <a href = 'https://www.kaggle.com/code/hellbuoy/online-retail-k-means-hierarchical-clustering/data'>here</a>.  The goal is to segment the customers by purchase volume and value.  Steps are as follow:</p>\n",
    "\n",
    "<table style = 'width:100%;table-layout:fixed;'>\n",
    "    <tr>\n",
    "        <td style = 'vertical-align:top' width = '50%'>\n",
    "            <ol style = 'font-size:16px;font-family:Arial;color:#00233C'>\n",
    "                <li>Analyze the raw data, split a testing set</li>\n",
    "                <br>\n",
    "                <li>Engineer numeric features</li>\n",
    "                <br>\n",
    "                <li>Build the K-means model</li>\n",
    "                <br>\n",
    "                <li>Apply in-line transformation to the testing set</li>\n",
    "                <br>\n",
    "                <li>Make Predictions and evaluate model accuracy</li>\n",
    "            </ol>\n",
    "        </td>\n",
    "        <td><img src = 'images/clustering_img.png' width = '250'></td>\n",
    "    </tr>\n",
    "</table>"
   ]
  },
  {
   "cell_type": "markdown",
   "id": "aba72fbc-1d3d-4bed-a5f6-5a721972bc73",
   "metadata": {},
   "source": [
    "<hr style=\"height:2px;border:none;background-color:#00233C;\">\n",
    "<p style = 'font-size:20px;font-family:Arial;color:#00233C'><b>1. Connect to Vantage</b></p>\n",
    "<p style = 'font-size:16px;font-family:Arial;color:#00233C'>You will be prompted to provide the password. Enter your password, press Enter, then use down arrow to go to next cell.</p>"
   ]
  },
  {
   "cell_type": "code",
   "execution_count": 1,
   "id": "e19a97de-4dce-4711-97e9-6a1d7c1d877d",
   "metadata": {},
   "outputs": [
    {
     "name": "stdin",
     "output_type": "stream",
     "text": [
      "Password: ········\n"
     ]
    },
    {
     "name": "stdout",
     "output_type": "stream",
     "text": [
      "Success: 'local' connection established and activated for user 'demo_user', with default database 'demo_user'\n"
     ]
    }
   ],
   "source": [
    "%connect local, hidewarnings=true"
   ]
  },
  {
   "cell_type": "markdown",
   "id": "6920942e-8c65-48e9-ac0e-7963a14bda72",
   "metadata": {},
   "source": [
    "<p style = 'font-size:16px;font-family:Arial;color:#00233C'>Setup for execution of notebook. Begin running steps with Shift + Enter keys.</p>"
   ]
  },
  {
   "cell_type": "code",
   "execution_count": 2,
   "id": "424ff7ce-3eed-4736-a8d1-32bbda29a1ac",
   "metadata": {},
   "outputs": [
    {
     "data": {
      "text/plain": [
       "Success: 1 rows affected"
      ]
     },
     "execution_count": 2,
     "metadata": {
      "application/vnd.teradata.resultset": ""
     },
     "output_type": "execute_result"
    }
   ],
   "source": [
    "SET query_band='DEMO=K-Means_Clustering_and_ML_model_SQL.ipynb;' UPDATE FOR SESSION;"
   ]
  },
  {
   "cell_type": "markdown",
   "id": "0cbb88de-754c-4963-b9ad-4dd7a6669b11",
   "metadata": {},
   "source": [
    "<p style = 'font-size:18px;font-family:Arial;color:#00233C'> <b>Getting Data for This Demo</b></p>\n",
    "<p style = 'font-size:16px;font-family:Arial;color:#00233C'>We have provided data for this demo on cloud storage. In this demo since we are using Temporal table we will be creating databases and tables in local storage and use them in the notebook. Please execute the procedure in the next cell.</p>"
   ]
  },
  {
   "cell_type": "code",
   "execution_count": 3,
   "id": "4ab0ff68-5c8e-4b2f-b9f7-65d02dc44c5a",
   "metadata": {},
   "outputs": [
    {
     "data": {
      "text/plain": [
       "Success: 0 rows affected"
      ]
     },
     "execution_count": 3,
     "metadata": {
      "application/vnd.teradata.resultset": ""
     },
     "output_type": "execute_result"
    },
    {
     "data": {
      "text/plain": [
       "Success: 0 rows affected"
      ]
     },
     "execution_count": 3,
     "metadata": {
      "application/vnd.teradata.resultset": ""
     },
     "output_type": "execute_result"
    },
    {
     "data": {
      "application/vnd.teradata.resultset": "\"Message\"\n\"That ran for   0:01:40.04 with 24 statements and 0 errors. \"",
      "text/html": [
       "<div class = \"td-resultset-table-div\" style = \"max-height: 100%; overflow-y: auto\">\n",
       "      <table class=\"tdhistory385835\"><style>\n",
       "      table.tdhistory385835 { display: block !important; min-height: 105px !important; overflow: auto !important; height: 105px !important; width: 100% !important; border: 1px solid rgb(207, 207, 207) !important; border-collapse: collapse !important; ; color: var(--jp-ui-font-color1) !important; }\n",
       "      th.tdhistory385835 { border: 1px solid rgb(198,198,198) !important; border-collapse: collapse !important; ; padding: 2px 5px !important; ; font-size: 13px !important; ; text-align: center !important; white-space: normal !important; color: var(--jp-ui-font-color1) !important; }\n",
       "      th.tdhistory385835:last-child { text-align: left !important; }\n",
       "      tbody.tdhistory385835 tr:nth-child(even) { background: rgba(243, 243, 243, 0.75) !important; }\n",
       "      tbody.tdhistory385835 tr:nth-child(odd) { background: var(--jp-ui-inverse-font-color1) !important; }\n",
       "      td.tdhistory385835 { border: 1px solid rgb(207, 207, 207) !important; border-collapse: collapse !important; ; padding: 2px 5px !important; ; font-size: 13px !important; ; text-align: left !important;          white-space: nowrap !important; overflow:hidden !important; text-overflow:ellipsis !important;; }\n",
       "    </style><thead><tr style= \"background: rgba(243, 243, 243, 0.75)\"><th class=\"tdhistory385835\"></th><th class=\"tdhistory385835\">Message</th></tr></thead><tbody class=\"tdhistory385835 resultset-body\"><tr><th class=\"tdhistory385835\" style= \"background: rgba(243, 243, 243, 0.75)\">1</th><td class=\"tdhistory385835\">That ran for   0:01:40.04 with 24 statements and 0 errors. </td></tr></tbody></table></div>"
      ]
     },
     "execution_count": 3,
     "metadata": {
      "application/vnd.teradata.resultset": "{\"resultSetID\":\"/home/jovyan/JupyterLabRoot/Teradata/Resultsets/2024.09.06_05.00.45.328_UTC\",\"historyID\":173,\"chunkID\":\"00001\",\"sessionid\":\"\",\"portnum\":\"\",\"dockermode\":\"docker\",\"totalRowCount\":1,\"chunkCount\":0,\"rowLimit\":0,\"columnMetadata\":[{\"columnName\":\"Message\",\"columnTypeName\":\"VARCHAR\",\"length\":150,\"scale\":150}]}"
     },
     "output_type": "execute_result"
    }
   ],
   "source": [
    "-- call get_data('DEMO_Retail_cloud');    -- takes about 4 minutes\n",
    "call get_data('DEMO_Retail_local');     -- takes about 7 minutes"
   ]
  },
  {
   "cell_type": "markdown",
   "id": "753d6dfc-37a2-4bda-9ad9-dfce9571c67c",
   "metadata": {},
   "source": [
    "<p style = 'font-size:16px;font-family:Arial;color:#00233C'>Optional step – if you want to see status of databases/tables created and space used.</p>"
   ]
  },
  {
   "cell_type": "code",
   "execution_count": 4,
   "id": "6ac90548-e904-49da-a8a6-769170ddefd5",
   "metadata": {},
   "outputs": [
    {
     "data": {
      "text/plain": [
       "Success: 0 rows affected"
      ]
     },
     "execution_count": 4,
     "metadata": {
      "application/vnd.teradata.resultset": ""
     },
     "output_type": "execute_result"
    },
    {
     "data": {
      "text/plain": [
       "Success: 0 rows affected"
      ]
     },
     "execution_count": 4,
     "metadata": {
      "application/vnd.teradata.resultset": ""
     },
     "output_type": "execute_result"
    },
    {
     "data": {
      "application/vnd.teradata.resultset": "\"Space_Report\"\n\"You have:  #databases=2 #tables=5 #views=12  You have used 66.3 MB of 30,678.9 MB available - 0.2%  ... Space Usage OK\"\n\" \"\n\"   Database Name                  #tables  #views     Avail MB      Used MB\"\n\"   demo_user                            1       8  30,583.0 MB       1.1 MB \"\n\"   DEMO_Retail                          0       4       0.0 MB       0.0 MB \"\n\"   DEMO_Retail_db                       4       0      95.9 MB      65.2 MB \"",
      "text/html": [
       "<div class = \"td-resultset-table-div\" style = \"max-height: 100%; overflow-y: auto\">\n",
       "      <table class=\"tdhistory783222\"><style>\n",
       "      table.tdhistory783222 { display: block !important; min-height: 210px !important; overflow: auto !important; height: 210px !important; width: 100% !important; border: 1px solid rgb(207, 207, 207) !important; border-collapse: collapse !important; ; color: var(--jp-ui-font-color1) !important; }\n",
       "      th.tdhistory783222 { border: 1px solid rgb(198,198,198) !important; border-collapse: collapse !important; ; padding: 2px 5px !important; ; font-size: 13px !important; ; text-align: center !important; white-space: normal !important; color: var(--jp-ui-font-color1) !important; }\n",
       "      th.tdhistory783222:last-child { text-align: left !important; }\n",
       "      tbody.tdhistory783222 tr:nth-child(even) { background: rgba(243, 243, 243, 0.75) !important; }\n",
       "      tbody.tdhistory783222 tr:nth-child(odd) { background: var(--jp-ui-inverse-font-color1) !important; }\n",
       "      td.tdhistory783222 { border: 1px solid rgb(207, 207, 207) !important; border-collapse: collapse !important; ; padding: 2px 5px !important; ; font-size: 13px !important; ; text-align: left !important;          white-space: nowrap !important; overflow:hidden !important; text-overflow:ellipsis !important;; }\n",
       "    </style><thead><tr style= \"background: rgba(243, 243, 243, 0.75)\"><th class=\"tdhistory783222\"></th><th class=\"tdhistory783222\">Space_Report</th></tr></thead><tbody class=\"tdhistory783222 resultset-body\"><tr><th class=\"tdhistory783222\" style= \"background: rgba(243, 243, 243, 0.75)\">1</th><td class=\"tdhistory783222\">You have:  #databases=2 #tables=5 #views=12  You have used 66.3 MB of 30,678.9 MB available - 0.2%  ... Space Usage OK</td></tr><tr><th class=\"tdhistory783222\" style= \"background: rgba(243, 243, 243, 0.75)\">2</th><td class=\"tdhistory783222\"> </td></tr><tr><th class=\"tdhistory783222\" style= \"background: rgba(243, 243, 243, 0.75)\">3</th><td class=\"tdhistory783222\">   Database Name                  #tables  #views     Avail MB      Used MB</td></tr><tr><th class=\"tdhistory783222\" style= \"background: rgba(243, 243, 243, 0.75)\">4</th><td class=\"tdhistory783222\">   demo_user                            1       8  30,583.0 MB       1.1 MB </td></tr><tr><th class=\"tdhistory783222\" style= \"background: rgba(243, 243, 243, 0.75)\">5</th><td class=\"tdhistory783222\">   DEMO_Retail                          0       4       0.0 MB       0.0 MB </td></tr><tr><th class=\"tdhistory783222\" style= \"background: rgba(243, 243, 243, 0.75)\">6</th><td class=\"tdhistory783222\">   DEMO_Retail_db                       4       0      95.9 MB      65.2 MB </td></tr></tbody></table></div>"
      ]
     },
     "execution_count": 4,
     "metadata": {
      "application/vnd.teradata.resultset": "{\"resultSetID\":\"/home/jovyan/JupyterLabRoot/Teradata/Resultsets/2024.09.06_05.00.47.102_UTC\",\"historyID\":174,\"chunkID\":\"00001\",\"sessionid\":\"\",\"portnum\":\"\",\"dockermode\":\"docker\",\"totalRowCount\":6,\"chunkCount\":0,\"rowLimit\":0,\"columnMetadata\":[{\"columnName\":\"Space_Report\",\"columnTypeName\":\"VARCHAR\",\"length\":150,\"scale\":150}]}"
     },
     "output_type": "execute_result"
    }
   ],
   "source": [
    "call space_report();  -- optional, takes about 10 seconds"
   ]
  },
  {
   "cell_type": "markdown",
   "id": "ec3cda83-bf40-42af-a1f8-a6102935c8bc",
   "metadata": {},
   "source": [
    "<p style = 'font-size:18px;font-family:Arial;color:#00233C'> <b> Access data in Vantage  </b> </p>\n",
    "<p style = 'font-size:16px;font-family:Arial;color:#00233C'>For this demo, data is already resident in Object Storage which we are accessing via ReadNOS, create a reference to the table, and sample the contents using the get_data procedure used above.  Data could just as easily reside in permanent tables, another RDBMS, or another Vantage system.</p>"
   ]
  },
  {
   "cell_type": "code",
   "execution_count": 5,
   "id": "affb5a16-aaa0-45e7-8069-3619291bd1c5",
   "metadata": {},
   "outputs": [
    {
     "data": {
      "application/vnd.teradata.resultset": "\"InvoiceNo\",\"StockCode\",\"Description\",\"Quantity\",\"InvoiceDate\",\"UnitPrice\",\"CustomerID\",\"Country\"\n\"562377\",\"72122\",\"COFFEE SCENT PILLAR CANDLE\",\"4\",\"2011-04-08 15:04:00.000000\",\"0.95\",\"14535\",\"United Kingdom\"\n\"562377\",\"23029\",\"DRAWER KNOB CRACKLE GLAZE GREEN\",\"6\",\"2011-04-08 15:04:00.000000\",\"1.65\",\"14535\",\"United Kingdom\"\n\"562377\",\"22564\",\"ALPHABET STENCIL CRAFT\",\"4\",\"2011-04-08 15:04:00.000000\",\"1.25\",\"14535\",\"United Kingdom\"\n\"562377\",\"21755\",\"LOVE BUILDING BLOCK WORD\",\"1\",\"2011-04-08 15:04:00.000000\",\"5.95\",\"14535\",\"United Kingdom\"\n\"539005\",\"22834\",\"HAND WARMER BABUSHKA DESIGN\",\"24\",\"2010-12-15 12:47:00.000000\",\"0.85\",\"16638\",\"United Kingdom\"",
      "text/html": [
       "<div class = \"td-resultset-table-div\" style = \"max-height: 100%; overflow-y: auto\">\n",
       "      <table class=\"tdhistory826521\"><style>\n",
       "      table.tdhistory826521 { display: block !important; min-height: 189px !important; overflow: auto !important; height: 189px !important; width: 100% !important; border: 1px solid rgb(207, 207, 207) !important; border-collapse: collapse !important; ; color: var(--jp-ui-font-color1) !important; }\n",
       "      th.tdhistory826521 { border: 1px solid rgb(198,198,198) !important; border-collapse: collapse !important; ; padding: 2px 5px !important; ; font-size: 13px !important; ; text-align: center !important; white-space: normal !important; color: var(--jp-ui-font-color1) !important; }\n",
       "      th.tdhistory826521:last-child { text-align: left !important; }\n",
       "      tbody.tdhistory826521 tr:nth-child(even) { background: rgba(243, 243, 243, 0.75) !important; }\n",
       "      tbody.tdhistory826521 tr:nth-child(odd) { background: var(--jp-ui-inverse-font-color1) !important; }\n",
       "      td.tdhistory826521 { border: 1px solid rgb(207, 207, 207) !important; border-collapse: collapse !important; ; padding: 2px 5px !important; ; font-size: 13px !important; ; text-align: left !important;          white-space: nowrap !important; overflow:hidden !important; text-overflow:ellipsis !important;; }\n",
       "    </style><thead><tr style= \"background: rgba(243, 243, 243, 0.75)\"><th class=\"tdhistory826521\"></th><th class=\"tdhistory826521\">InvoiceNo</th><th class=\"tdhistory826521\">StockCode</th><th class=\"tdhistory826521\">Description</th><th class=\"tdhistory826521\">Quantity</th><th class=\"tdhistory826521\">InvoiceDate</th><th class=\"tdhistory826521\">UnitPrice</th><th class=\"tdhistory826521\">CustomerID</th><th class=\"tdhistory826521\">Country</th></tr></thead><tbody class=\"tdhistory826521 resultset-body\"><tr><th class=\"tdhistory826521\" style= \"background: rgba(243, 243, 243, 0.75)\">1</th><td class=\"tdhistory826521\">562377</td><td class=\"tdhistory826521\">72122</td><td class=\"tdhistory826521\">COFFEE SCENT PILLAR CANDLE</td><td class=\"tdhistory826521\">4</td><td class=\"tdhistory826521\">2011-04-08 15:04:00.000000</td><td class=\"tdhistory826521\">0.95</td><td class=\"tdhistory826521\">14535</td><td class=\"tdhistory826521\">United Kingdom</td></tr><tr><th class=\"tdhistory826521\" style= \"background: rgba(243, 243, 243, 0.75)\">2</th><td class=\"tdhistory826521\">562377</td><td class=\"tdhistory826521\">23029</td><td class=\"tdhistory826521\">DRAWER KNOB CRACKLE GLAZE GREEN</td><td class=\"tdhistory826521\">6</td><td class=\"tdhistory826521\">2011-04-08 15:04:00.000000</td><td class=\"tdhistory826521\">1.65</td><td class=\"tdhistory826521\">14535</td><td class=\"tdhistory826521\">United Kingdom</td></tr><tr><th class=\"tdhistory826521\" style= \"background: rgba(243, 243, 243, 0.75)\">3</th><td class=\"tdhistory826521\">562377</td><td class=\"tdhistory826521\">22564</td><td class=\"tdhistory826521\">ALPHABET STENCIL CRAFT</td><td class=\"tdhistory826521\">4</td><td class=\"tdhistory826521\">2011-04-08 15:04:00.000000</td><td class=\"tdhistory826521\">1.25</td><td class=\"tdhistory826521\">14535</td><td class=\"tdhistory826521\">United Kingdom</td></tr><tr><th class=\"tdhistory826521\" style= \"background: rgba(243, 243, 243, 0.75)\">4</th><td class=\"tdhistory826521\">562377</td><td class=\"tdhistory826521\">21755</td><td class=\"tdhistory826521\">LOVE BUILDING BLOCK WORD</td><td class=\"tdhistory826521\">1</td><td class=\"tdhistory826521\">2011-04-08 15:04:00.000000</td><td class=\"tdhistory826521\">5.95</td><td class=\"tdhistory826521\">14535</td><td class=\"tdhistory826521\">United Kingdom</td></tr><tr><th class=\"tdhistory826521\" style= \"background: rgba(243, 243, 243, 0.75)\">5</th><td class=\"tdhistory826521\">539005</td><td class=\"tdhistory826521\">22834</td><td class=\"tdhistory826521\">HAND WARMER BABUSHKA DESIGN</td><td class=\"tdhistory826521\">24</td><td class=\"tdhistory826521\">2010-12-15 12:47:00.000000</td><td class=\"tdhistory826521\">0.85</td><td class=\"tdhistory826521\">16638</td><td class=\"tdhistory826521\">United Kingdom</td></tr></tbody></table></div>"
      ]
     },
     "execution_count": 5,
     "metadata": {
      "application/vnd.teradata.resultset": "{\"resultSetID\":\"/home/jovyan/JupyterLabRoot/Teradata/Resultsets/2024.09.06_05.00.47.181_UTC\",\"historyID\":175,\"chunkID\":\"00001\",\"sessionid\":\"\",\"portnum\":\"\",\"dockermode\":\"docker\",\"totalRowCount\":5,\"chunkCount\":0,\"rowLimit\":0,\"columnMetadata\":[{\"columnName\":\"InvoiceNo\",\"columnTypeName\":\"VARCHAR\",\"length\":10,\"scale\":10},{\"columnNumber\":1,\"columnName\":\"StockCode\",\"columnTypeName\":\"VARCHAR\",\"length\":10,\"scale\":10},{\"columnNumber\":2,\"columnName\":\"Description\",\"columnTypeName\":\"VARCHAR\",\"length\":40,\"scale\":40},{\"columnNumber\":3,\"columnName\":\"Quantity\",\"columnTypeName\":\"BIGINT\"},{\"columnNumber\":4,\"columnName\":\"InvoiceDate\",\"columnTypeName\":\"TIMESTAMP\",\"length\":6,\"scale\":6},{\"columnNumber\":5,\"columnName\":\"UnitPrice\",\"columnTypeName\":\"FLOAT\"},{\"columnNumber\":6,\"columnName\":\"CustomerID\",\"columnTypeName\":\"FLOAT\"},{\"columnNumber\":7,\"columnName\":\"Country\",\"columnTypeName\":\"VARCHAR\",\"length\":25,\"scale\":25}]}"
     },
     "output_type": "execute_result"
    }
   ],
   "source": [
    "SELECT TOP 5 * FROM DEMO_Retail.UK_Retail_Data;"
   ]
  },
  {
   "cell_type": "markdown",
   "id": "83435d46",
   "metadata": {},
   "source": [
    "<hr style=\"height:2px;border:none;background-color:#00233C;\">\n",
    "<p style = 'font-size:20px;font-family:Arial;color:#00233C'><b>2. Data Preparation</b></p>\n",
    "<p style = 'font-size:16px;font-family:Arial;color:#00233C'>Here, we will inspect the original data set, and perform various preparation tasks.</p>\n",
    "\n",
    "<ol style = 'font-size:16px;font-family:Arial;color:#00233C'>\n",
    "    <li>Inspect the rows of the table</li>\n",
    "    <li>Inspect the column metadata using <a href = 'https://docs.teradata.com/search/all?query=TD_ColumnSummary&content-lang=en-US'>TD_ColumnSummary</a></li>\n",
    "    <li>Split off a testing data set to be used in evaluation</li>\n",
    "    </ol>"
   ]
  },
  {
   "cell_type": "markdown",
   "id": "4e586da8-8c11-4730-9111-d379e565f665",
   "metadata": {},
   "source": [
    "<hr style=\"height:1px;border:none;background-color:#00233C;\">"
   ]
  },
  {
   "cell_type": "markdown",
   "id": "dd822590",
   "metadata": {},
   "source": [
    "<p style = 'font-size:18px;font-family:Arial;color:#00233C'><b>2.1 View Column information</b></p>\n",
    "\n",
    "<p style = 'font-size:16px;font-family:Arial;color:#00233C'><a href = 'https://docs.teradata.com/search/all?query=TD_ColumnSummary&content-lang=en-US'>TD_ColumnSummary</a> provides more details on column values and ranges</p>"
   ]
  },
  {
   "cell_type": "code",
   "execution_count": 6,
   "id": "0f3f56c4",
   "metadata": {},
   "outputs": [
    {
     "data": {
      "application/vnd.teradata.resultset": "\"ColumnName\",\"Datatype\",\"NonNullCount\",\"NullCount\",\"BlankCount\",\"ZeroCount\",\"PositiveCount\",\"NegativeCount\",\"NullPercentage\",\"NonNullPercentage\"\n\"StockCode\",\"VARCHAR(10) CHARACTER SET UNICODE\",\"536641\",\"0\",\"0\",\"\",\"\",\"\",\"0\",\"100\"\n\"InvoiceDate\",\"TIMESTAMP(6)\",\"536641\",\"0\",\"\",\"\",\"\",\"\",\"0\",\"100\"\n\"InvoiceNo\",\"VARCHAR(10) CHARACTER SET UNICODE\",\"536641\",\"0\",\"0\",\"\",\"\",\"\",\"0\",\"100\"\n\"Description\",\"VARCHAR(40) CHARACTER SET UNICODE\",\"536641\",\"0\",\"0\",\"\",\"\",\"\",\"0\",\"100\"\n\"Country\",\"VARCHAR(25) CHARACTER SET UNICODE\",\"536641\",\"0\",\"0\",\"\",\"\",\"\",\"0\",\"100\"\n\"CustomerID\",\"FLOAT\",\"401604\",\"0\",\"\",\"0\",\"401604\",\"0\",\"0\",\"100\"\n\"Quantity\",\"BIGINT\",\"536641\",\"0\",\"\",\"0\",\"526054\",\"10587\",\"0\",\"100\"\n\"UnitPrice\",\"FLOAT\",\"536641\",\"0\",\"\",\"2510\",\"534129\",\"2\",\"0\",\"100\"",
      "text/html": [
       "<div class = \"td-resultset-table-div\" style = \"max-height: 100%; overflow-y: auto\">\n",
       "      <table class=\"tdhistory961335\"><style>\n",
       "      table.tdhistory961335 { display: block !important; min-height: 252px !important; overflow: auto !important; height: 252px !important; width: 100% !important; border: 1px solid rgb(207, 207, 207) !important; border-collapse: collapse !important; ; color: var(--jp-ui-font-color1) !important; }\n",
       "      th.tdhistory961335 { border: 1px solid rgb(198,198,198) !important; border-collapse: collapse !important; ; padding: 2px 5px !important; ; font-size: 13px !important; ; text-align: center !important; white-space: normal !important; color: var(--jp-ui-font-color1) !important; }\n",
       "      th.tdhistory961335:last-child { text-align: left !important; }\n",
       "      tbody.tdhistory961335 tr:nth-child(even) { background: rgba(243, 243, 243, 0.75) !important; }\n",
       "      tbody.tdhistory961335 tr:nth-child(odd) { background: var(--jp-ui-inverse-font-color1) !important; }\n",
       "      td.tdhistory961335 { border: 1px solid rgb(207, 207, 207) !important; border-collapse: collapse !important; ; padding: 2px 5px !important; ; font-size: 13px !important; ; text-align: left !important;          white-space: nowrap !important; overflow:hidden !important; text-overflow:ellipsis !important;; }\n",
       "    </style><thead><tr style= \"background: rgba(243, 243, 243, 0.75)\"><th class=\"tdhistory961335\"></th><th class=\"tdhistory961335\">ColumnName</th><th class=\"tdhistory961335\">Datatype</th><th class=\"tdhistory961335\">NonNullCount</th><th class=\"tdhistory961335\">NullCount</th><th class=\"tdhistory961335\">BlankCount</th><th class=\"tdhistory961335\">ZeroCount</th><th class=\"tdhistory961335\">PositiveCount</th><th class=\"tdhistory961335\">NegativeCount</th><th class=\"tdhistory961335\">NullPercentage</th><th class=\"tdhistory961335\">NonNullPercentage</th></tr></thead><tbody class=\"tdhistory961335 resultset-body\"><tr><th class=\"tdhistory961335\" style= \"background: rgba(243, 243, 243, 0.75)\">1</th><td class=\"tdhistory961335\">StockCode</td><td class=\"tdhistory961335\">VARCHAR(10) CHARACTER SET UNICODE</td><td class=\"tdhistory961335\">536641</td><td class=\"tdhistory961335\">0</td><td class=\"tdhistory961335\">0</td><td class=\"tdhistory961335\"></td><td class=\"tdhistory961335\"></td><td class=\"tdhistory961335\"></td><td class=\"tdhistory961335\">0</td><td class=\"tdhistory961335\">100</td></tr><tr><th class=\"tdhistory961335\" style= \"background: rgba(243, 243, 243, 0.75)\">2</th><td class=\"tdhistory961335\">InvoiceDate</td><td class=\"tdhistory961335\">TIMESTAMP(6)</td><td class=\"tdhistory961335\">536641</td><td class=\"tdhistory961335\">0</td><td class=\"tdhistory961335\"></td><td class=\"tdhistory961335\"></td><td class=\"tdhistory961335\"></td><td class=\"tdhistory961335\"></td><td class=\"tdhistory961335\">0</td><td class=\"tdhistory961335\">100</td></tr><tr><th class=\"tdhistory961335\" style= \"background: rgba(243, 243, 243, 0.75)\">3</th><td class=\"tdhistory961335\">InvoiceNo</td><td class=\"tdhistory961335\">VARCHAR(10) CHARACTER SET UNICODE</td><td class=\"tdhistory961335\">536641</td><td class=\"tdhistory961335\">0</td><td class=\"tdhistory961335\">0</td><td class=\"tdhistory961335\"></td><td class=\"tdhistory961335\"></td><td class=\"tdhistory961335\"></td><td class=\"tdhistory961335\">0</td><td class=\"tdhistory961335\">100</td></tr><tr><th class=\"tdhistory961335\" style= \"background: rgba(243, 243, 243, 0.75)\">4</th><td class=\"tdhistory961335\">Description</td><td class=\"tdhistory961335\">VARCHAR(40) CHARACTER SET UNICODE</td><td class=\"tdhistory961335\">536641</td><td class=\"tdhistory961335\">0</td><td class=\"tdhistory961335\">0</td><td class=\"tdhistory961335\"></td><td class=\"tdhistory961335\"></td><td class=\"tdhistory961335\"></td><td class=\"tdhistory961335\">0</td><td class=\"tdhistory961335\">100</td></tr><tr><th class=\"tdhistory961335\" style= \"background: rgba(243, 243, 243, 0.75)\">5</th><td class=\"tdhistory961335\">Country</td><td class=\"tdhistory961335\">VARCHAR(25) CHARACTER SET UNICODE</td><td class=\"tdhistory961335\">536641</td><td class=\"tdhistory961335\">0</td><td class=\"tdhistory961335\">0</td><td class=\"tdhistory961335\"></td><td class=\"tdhistory961335\"></td><td class=\"tdhistory961335\"></td><td class=\"tdhistory961335\">0</td><td class=\"tdhistory961335\">100</td></tr><tr><th class=\"tdhistory961335\" style= \"background: rgba(243, 243, 243, 0.75)\">6</th><td class=\"tdhistory961335\">CustomerID</td><td class=\"tdhistory961335\">FLOAT</td><td class=\"tdhistory961335\">401604</td><td class=\"tdhistory961335\">0</td><td class=\"tdhistory961335\"></td><td class=\"tdhistory961335\">0</td><td class=\"tdhistory961335\">401604</td><td class=\"tdhistory961335\">0</td><td class=\"tdhistory961335\">0</td><td class=\"tdhistory961335\">100</td></tr><tr><th class=\"tdhistory961335\" style= \"background: rgba(243, 243, 243, 0.75)\">7</th><td class=\"tdhistory961335\">Quantity</td><td class=\"tdhistory961335\">BIGINT</td><td class=\"tdhistory961335\">536641</td><td class=\"tdhistory961335\">0</td><td class=\"tdhistory961335\"></td><td class=\"tdhistory961335\">0</td><td class=\"tdhistory961335\">526054</td><td class=\"tdhistory961335\">10587</td><td class=\"tdhistory961335\">0</td><td class=\"tdhistory961335\">100</td></tr><tr><th class=\"tdhistory961335\" style= \"background: rgba(243, 243, 243, 0.75)\">8</th><td class=\"tdhistory961335\">UnitPrice</td><td class=\"tdhistory961335\">FLOAT</td><td class=\"tdhistory961335\">536641</td><td class=\"tdhistory961335\">0</td><td class=\"tdhistory961335\"></td><td class=\"tdhistory961335\">2510</td><td class=\"tdhistory961335\">534129</td><td class=\"tdhistory961335\">2</td><td class=\"tdhistory961335\">0</td><td class=\"tdhistory961335\">100</td></tr></tbody></table></div>"
      ]
     },
     "execution_count": 6,
     "metadata": {
      "application/vnd.teradata.resultset": "{\"resultSetID\":\"/home/jovyan/JupyterLabRoot/Teradata/Resultsets/2024.09.06_05.00.48.046_UTC\",\"historyID\":176,\"chunkID\":\"00001\",\"sessionid\":\"\",\"portnum\":\"\",\"dockermode\":\"docker\",\"totalRowCount\":8,\"chunkCount\":0,\"rowLimit\":0,\"columnMetadata\":[{\"columnName\":\"ColumnName\",\"columnTypeName\":\"VARCHAR\",\"length\":128,\"scale\":128},{\"columnNumber\":1,\"columnName\":\"Datatype\",\"columnTypeName\":\"VARCHAR\",\"length\":128,\"scale\":128},{\"columnNumber\":2,\"columnName\":\"NonNullCount\",\"columnTypeName\":\"BIGINT\"},{\"columnNumber\":3,\"columnName\":\"NullCount\",\"columnTypeName\":\"BIGINT\"},{\"columnNumber\":4,\"columnName\":\"BlankCount\",\"columnTypeName\":\"BIGINT\"},{\"columnNumber\":5,\"columnName\":\"ZeroCount\",\"columnTypeName\":\"BIGINT\"},{\"columnNumber\":6,\"columnName\":\"PositiveCount\",\"columnTypeName\":\"BIGINT\"},{\"columnNumber\":7,\"columnName\":\"NegativeCount\",\"columnTypeName\":\"BIGINT\"},{\"columnNumber\":8,\"columnName\":\"NullPercentage\",\"columnTypeName\":\"FLOAT\"},{\"columnNumber\":9,\"columnName\":\"NonNullPercentage\",\"columnTypeName\":\"FLOAT\"}]}"
     },
     "output_type": "execute_result"
    }
   ],
   "source": [
    "SELECT * FROM TD_ColumnSummary(\n",
    "    ON DEMO_Retail.UK_Retail_Data as inputtable\n",
    "    USING\n",
    "        targetcolumns('[0:7]')\n",
    ") as dt;"
   ]
  },
  {
   "cell_type": "markdown",
   "id": "6923aa5c-289f-488d-9d59-c2d9fac0fb38",
   "metadata": {},
   "source": [
    "<hr style=\"height:1px;border:none;background-color:#00233C;\">"
   ]
  },
  {
   "cell_type": "markdown",
   "id": "805e9e23",
   "metadata": {},
   "source": [
    "<p style = 'font-size:18px;font-family:Arial;color:#00233C'><b>2.2 Create a Testing data set</b></p>\n",
    "\n",
    "<p style = 'font-size:16px;font-family:Arial;color:#00233C'>From our sample data we are selecting some \"Customer ID\" values for testing later.</p>"
   ]
  },
  {
   "cell_type": "code",
   "execution_count": 7,
   "id": "e41dc488",
   "metadata": {},
   "outputs": [
    {
     "data": {
      "text/plain": [
       "Success: 0 rows affected"
      ]
     },
     "execution_count": 7,
     "metadata": {
      "application/vnd.teradata.resultset": ""
     },
     "output_type": "execute_result"
    }
   ],
   "source": [
    "REPLACE VIEW UK_Retail_Test_V as (\n",
    "    SELECT * FROM DEMO_Retail.UK_Retail_Data \n",
    "    WHERE CustomerID IN ('17307', '12503', '18268', '12908', '13693')\n",
    ");"
   ]
  },
  {
   "cell_type": "markdown",
   "id": "40f1a089",
   "metadata": {},
   "source": [
    "<hr style=\"height:2px;border:none;background-color:#00233C;\">\n",
    "<p style = 'font-size:20px;font-family:Arial;color:#00233C'><b>3. Feature Engineering</b></p>\n",
    "\n",
    "<p style = 'font-size:16px;font-family:Arial;color:#00233C'>Vantage provides many inDb feature engineering functions, in this section we will see how to prepare the data set for model training.  We will use standard SQL and various \"Fit\" functions to create input for the <a href = 'https://docs.teradata.com/search/all?query=TD_ColumnTransformer&content-lang=en-US'>TD_ColumnTransformer</a> function to take as input in order to execute a bulk transformation.</p>\n",
    "\n",
    "<ol style = 'font-size:16px;font-family:Arial;color:#00233C'>\n",
    "    <li>Create a per-customer grouping of data</li>\n",
    "    <li>Create Fit Tables\n",
    "        <ul><li>Remove Outliers</li>\n",
    "            <li>Impute Missing Values</li>\n",
    "            <li>Create New Numeric Features</li>\n",
    "            <li>Rescale the Data Set</li>\n",
    "        </ul></li>\n",
    "    <li>Call the final Transformation function</li>\n",
    "    </ol>"
   ]
  },
  {
   "cell_type": "markdown",
   "id": "da99ac70-04d1-4587-a888-930eb035e733",
   "metadata": {},
   "source": [
    "<hr style=\"height:1px;border:none;background-color:#00233C;\">"
   ]
  },
  {
   "cell_type": "markdown",
   "id": "555dfd13",
   "metadata": {},
   "source": [
    "<p style = 'font-size:18px;font-family:Arial;color:#00233C'><b>3.1 Create a per-customer table</b></p>\n",
    "\n",
    "<p style = 'font-size:16px;font-family:Arial;color:#00233C'>Simple GROUP BY, exclude the testing IDs.<br> Note there are 4367 unique customers in this training set.</p>"
   ]
  },
  {
   "cell_type": "code",
   "execution_count": 8,
   "id": "66cf25c4",
   "metadata": {},
   "outputs": [
    {
     "data": {
      "text/plain": [
       "Success: 0 rows affected"
      ]
     },
     "execution_count": 8,
     "metadata": {
      "application/vnd.teradata.resultset": ""
     },
     "output_type": "execute_result"
    }
   ],
   "source": [
    "REPLACE VIEW Customer_ID_Group_V AS (\n",
    "    SELECT CustomerID,\n",
    "        SUM(quantity) as TotalQuantity , \n",
    "        SUM(UnitPrice) as TotalPrice, \n",
    "        COUNT(DISTINCT(StockCode)) as TotalItems \n",
    "    FROM DEMO_Retail.UK_Retail_Data\n",
    "    WHERE CustomerID NOT IN ('17307', '12503', '18268', '12908', '13693')\n",
    "    GROUP BY CustomerID\n",
    ");"
   ]
  },
  {
   "cell_type": "code",
   "execution_count": 9,
   "id": "600ded66",
   "metadata": {},
   "outputs": [
    {
     "data": {
      "application/vnd.teradata.resultset": "\"Count(*)\"\n\"4368\"",
      "text/html": [
       "<div class = \"td-resultset-table-div\" style = \"max-height: 100%; overflow-y: auto\">\n",
       "      <table class=\"tdhistory797504\"><style>\n",
       "      table.tdhistory797504 { display: block !important; min-height: 105px !important; overflow: auto !important; height: 105px !important; width: 100% !important; border: 1px solid rgb(207, 207, 207) !important; border-collapse: collapse !important; ; color: var(--jp-ui-font-color1) !important; }\n",
       "      th.tdhistory797504 { border: 1px solid rgb(198,198,198) !important; border-collapse: collapse !important; ; padding: 2px 5px !important; ; font-size: 13px !important; ; text-align: center !important; white-space: normal !important; color: var(--jp-ui-font-color1) !important; }\n",
       "      th.tdhistory797504:last-child { text-align: left !important; }\n",
       "      tbody.tdhistory797504 tr:nth-child(even) { background: rgba(243, 243, 243, 0.75) !important; }\n",
       "      tbody.tdhistory797504 tr:nth-child(odd) { background: var(--jp-ui-inverse-font-color1) !important; }\n",
       "      td.tdhistory797504 { border: 1px solid rgb(207, 207, 207) !important; border-collapse: collapse !important; ; padding: 2px 5px !important; ; font-size: 13px !important; ; text-align: left !important;          white-space: nowrap !important; overflow:hidden !important; text-overflow:ellipsis !important;; }\n",
       "    </style><thead><tr style= \"background: rgba(243, 243, 243, 0.75)\"><th class=\"tdhistory797504\"></th><th class=\"tdhistory797504\">Count(*)</th></tr></thead><tbody class=\"tdhistory797504 resultset-body\"><tr><th class=\"tdhistory797504\" style= \"background: rgba(243, 243, 243, 0.75)\">1</th><td class=\"tdhistory797504\">4368</td></tr></tbody></table></div>"
      ]
     },
     "execution_count": 9,
     "metadata": {
      "application/vnd.teradata.resultset": "{\"resultSetID\":\"/home/jovyan/JupyterLabRoot/Teradata/Resultsets/2024.09.06_05.00.48.991_UTC\",\"historyID\":179,\"chunkID\":\"00001\",\"sessionid\":\"\",\"portnum\":\"\",\"dockermode\":\"docker\",\"totalRowCount\":1,\"chunkCount\":0,\"rowLimit\":0,\"columnMetadata\":[{\"columnName\":\"Count(*)\",\"columnTypeName\":\"INTEGER\"}]}"
     },
     "output_type": "execute_result"
    }
   ],
   "source": [
    "SELECT COUNT(*) FROM Customer_ID_Group_V;"
   ]
  },
  {
   "cell_type": "markdown",
   "id": "f15fa44b-b8d6-4e86-b264-4c3944c04377",
   "metadata": {},
   "source": [
    "<hr style=\"height:1px;border:none;background-color:#00233C;\">"
   ]
  },
  {
   "cell_type": "markdown",
   "id": "dba90c65",
   "metadata": {},
   "source": [
    "<p style = 'font-size:18px;font-family:Arial;color:#00233C'><b>3.2 Create Fit Tables</b></p>\n",
    "\n",
    "<p style = 'font-size:16px;font-family:Arial;color:#00233C'>Vantage <a href = 'https://docs.teradata.com/search/all?query=Feature+Engineering+Transform+Functions&content-lang=en-US'>Feature Engineering Transform Functions</a> Use a \"Fit and Transform\" approach to make processing more modular and efficient.  \"Fit tables\" can be used as input to either individual Transform functions, or passed to a single <a href = 'https://docs.teradata.com/search/all?query=TD_ColumnTransformer&content-lang=en-US'>TD_ColumnTransformer</a> function.</p>\n",
    "\n",
    "<table style = 'width:100%;table-layout:fixed;'>\n",
    "    <tr>\n",
    "        <td style = 'vertical-align:top' width = '50%'>\n",
    "<ul style = 'font-size:16px;font-family:Arial;color:#00233C'>\n",
    "    <li>Fit outlier removal using <a href = 'https://docs.teradata.com/search/all?query=TD_OutlierFilterFit&content-lang=en-US'>TD_OutlierFilterFit</a></li>\n",
    "    <li>Fit a simple imputer to replace missing values using <a href = 'https://docs.teradata.com/search/all?query=TD_SimpleImputeFit&content-lang=en-US'>TD_SimpleImputeFit</a></li>\n",
    "    <li>Fit column calculations to create new features using <a href = 'https://docs.teradata.com/search/all?query=TD_NonLinearCombineFit&content-lang=en-US'>TD_NonLinearCombineFit</a></li>\n",
    "    <li>Call <a href = 'https://docs.teradata.com/search/all?query=TD_ColumnTransformer&content-lang=en-US'>TD_ColumnTransformer</a> to execute the transformations (to allow for Scaling)</li>\n",
    "    <li>Rescale the data using <a href = 'https://docs.teradata.com/search/all?query=TD_ScaleFit&content-lang=en-US'>TD_ScaleFit/Transform</a></li>\n",
    "            </ul></td>\n",
    "        <td><img src = 'images/fit_transform.png' width = '300'></td>\n",
    "    </tr>\n",
    "    </table>"
   ]
  },
  {
   "cell_type": "markdown",
   "id": "882d613e-9565-45cf-81fb-f528bd9d4c38",
   "metadata": {},
   "source": [
    "<p style = 'font-size:16px;font-family:Arial;color:#00233C'><b>TD_OutlierFilterFit</b> function calculates the lower_percentile, upper_percentile, count of rows and median for the specified input table columns. The calculated values for each column help the\n",
    "    <b>TD_OutlierFilterTransform</b> function detect outliers in the input table."
   ]
  },
  {
   "cell_type": "code",
   "execution_count": 10,
   "id": "4eb93c8c-f84b-4e10-a5da-32a431f09f97",
   "metadata": {},
   "outputs": [
    {
     "data": {
      "text/plain": [
       "Success: 0 rows affected"
      ]
     },
     "execution_count": 10,
     "metadata": {
      "application/vnd.teradata.resultset": ""
     },
     "output_type": "execute_result"
    }
   ],
   "source": [
    "-- Remove Outliers\n",
    "-- Trim below 3rd, and above 97th percentile\n",
    "\n",
    "CREATE MULTISET VOLATILE TABLE outlierFit_CS as (\n",
    "    SELECT * from TD_OutlierFilterFit(\n",
    "        ON Customer_ID_Group_V as inputTable\n",
    "        USING\n",
    "        TargetColumns('TotalQuantity','TotalPrice')\n",
    "        LowerPercentile(0.03)\n",
    "        UpperPercentile(0.97)\n",
    "        OutlierMethod('Percentile')\n",
    "        PercentileMethod('PercentileCont')\n",
    "        ReplacementValue('Median')\n",
    "    )as dt\n",
    ") WITH DATA\n",
    "ON COMMIT PRESERVE ROWS;"
   ]
  },
  {
   "cell_type": "markdown",
   "id": "ed1d1825-83bd-4b92-9d53-87cfea6bf046",
   "metadata": {},
   "source": [
    "<p style = 'font-size:16px;font-family:Arial;color:#00233C'><b>TD_SimpleImputeFit </b>will output a table with the values that will be used to substitute the missing values<br>\n",
    "    <b>TD_SimpleImputeTransform</b> will return the input data set with the missing values filled in."
   ]
  },
  {
   "cell_type": "code",
   "execution_count": 11,
   "id": "83d09e2f-898a-4d2c-b1cf-79daa8cf80df",
   "metadata": {},
   "outputs": [
    {
     "data": {
      "text/plain": [
       "Success: 0 rows affected"
      ]
     },
     "execution_count": 11,
     "metadata": {
      "application/vnd.teradata.resultset": ""
     },
     "output_type": "execute_result"
    }
   ],
   "source": [
    "-- Impute Missing Values\n",
    "-- Replace any missing CustomerID with a specific value\n",
    "\n",
    "CREATE MULTISET VOLATILE TABLE ImputeFit_CS AS (\n",
    "    SELECT * FROM TD_SimpleImputeFit(\n",
    "        ON Customer_ID_Group_V AS InputTable\n",
    "        USING\n",
    "        ColsForLiterals('CustomerID')\n",
    "        Literals('19000')                                        \n",
    "    ) AS dt\n",
    ") WITH DATA\n",
    "ON COMMIT PRESERVE ROWS;"
   ]
  },
  {
   "cell_type": "markdown",
   "id": "548d4822-3e13-4c50-afac-995aaad2fa9d",
   "metadata": {},
   "source": [
    "<p style = 'font-size:16px;font-family:Arial;color:#00233C'><b>TD_NonLinearCombineFit</b> function returns the target columns and a specified formula which uses the non-linear combination of existing features.\n"
   ]
  },
  {
   "cell_type": "code",
   "execution_count": 12,
   "id": "b585b0bd-6db2-41b0-a638-ecc1899b0c70",
   "metadata": {},
   "outputs": [
    {
     "data": {
      "text/plain": [
       "Success: 0 rows affected"
      ]
     },
     "execution_count": 12,
     "metadata": {
      "application/vnd.teradata.resultset": ""
     },
     "output_type": "execute_result"
    },
    {
     "data": {
      "application/vnd.teradata.resultset": "\"TotalSales\",\"TotalQuantity\",\"TotalPrice\"\n\"Y = X1*X0\",\"\",\"\"",
      "text/html": [
       "<div class = \"td-resultset-table-div\" style = \"max-height: 100%; overflow-y: auto\">\n",
       "      <table class=\"tdhistory871070\"><style>\n",
       "      table.tdhistory871070 { display: block !important; min-height: 105px !important; overflow: auto !important; height: 105px !important; width: 100% !important; border: 1px solid rgb(207, 207, 207) !important; border-collapse: collapse !important; ; color: var(--jp-ui-font-color1) !important; }\n",
       "      th.tdhistory871070 { border: 1px solid rgb(198,198,198) !important; border-collapse: collapse !important; ; padding: 2px 5px !important; ; font-size: 13px !important; ; text-align: center !important; white-space: normal !important; color: var(--jp-ui-font-color1) !important; }\n",
       "      th.tdhistory871070:last-child { text-align: left !important; }\n",
       "      tbody.tdhistory871070 tr:nth-child(even) { background: rgba(243, 243, 243, 0.75) !important; }\n",
       "      tbody.tdhistory871070 tr:nth-child(odd) { background: var(--jp-ui-inverse-font-color1) !important; }\n",
       "      td.tdhistory871070 { border: 1px solid rgb(207, 207, 207) !important; border-collapse: collapse !important; ; padding: 2px 5px !important; ; font-size: 13px !important; ; text-align: left !important;          white-space: nowrap !important; overflow:hidden !important; text-overflow:ellipsis !important;; }\n",
       "    </style><thead><tr style= \"background: rgba(243, 243, 243, 0.75)\"><th class=\"tdhistory871070\"></th><th class=\"tdhistory871070\">TotalSales</th><th class=\"tdhistory871070\">TotalQuantity</th><th class=\"tdhistory871070\">TotalPrice</th></tr></thead><tbody class=\"tdhistory871070 resultset-body\"><tr><th class=\"tdhistory871070\" style= \"background: rgba(243, 243, 243, 0.75)\">1</th><td class=\"tdhistory871070\">Y = X1*X0</td><td class=\"tdhistory871070\"></td><td class=\"tdhistory871070\"></td></tr></tbody></table></div>"
      ]
     },
     "execution_count": 12,
     "metadata": {
      "application/vnd.teradata.resultset": "{\"resultSetID\":\"/home/jovyan/JupyterLabRoot/Teradata/Resultsets/2024.09.06_05.00.52.779_UTC\",\"historyID\":182,\"chunkID\":\"00001\",\"sessionid\":\"\",\"portnum\":\"\",\"dockermode\":\"docker\",\"totalRowCount\":1,\"chunkCount\":0,\"rowLimit\":0,\"columnMetadata\":[{\"columnName\":\"TotalSales\",\"columnTypeName\":\"VARCHAR\",\"length\":9,\"scale\":9},{\"columnNumber\":1,\"columnName\":\"TotalQuantity\",\"columnTypeName\":\"BIGINT\"},{\"columnNumber\":2,\"columnName\":\"TotalPrice\",\"columnTypeName\":\"FLOAT\"}]}"
     },
     "output_type": "execute_result"
    }
   ],
   "source": [
    "-- Create a new column by multiplying quantity and price\n",
    "\n",
    "SELECT * FROM TD_NonLinearCombineFit (\n",
    "    ON Customer_ID_Group_V as InputTable\n",
    "    OUT VOLATILE TABLE OutputTable (NonLinearCombineFit_CS_TotalSales)\n",
    "    USING\n",
    "        TargetColumns ('TotalQuantity','TotalPrice')\n",
    "        Formula ('Y = X1*X0')\n",
    "        ResultColumn ('TotalSales')\n",
    ") AS dt;"
   ]
  },
  {
   "cell_type": "code",
   "execution_count": 13,
   "id": "1b08a0e4",
   "metadata": {},
   "outputs": [
    {
     "data": {
      "text/plain": [
       "Success: 0 rows affected"
      ]
     },
     "execution_count": 13,
     "metadata": {
      "application/vnd.teradata.resultset": ""
     },
     "output_type": "execute_result"
    },
    {
     "data": {
      "application/vnd.teradata.resultset": "\"SalesPerItem\",\"TotalQuantity\",\"TotalPrice\",\"TotalItems\"\n\"Y = (X0*X1)/X2\",\"\",\"\",\"\"",
      "text/html": [
       "<div class = \"td-resultset-table-div\" style = \"max-height: 100%; overflow-y: auto\">\n",
       "      <table class=\"tdhistory505958\"><style>\n",
       "      table.tdhistory505958 { display: block !important; min-height: 105px !important; overflow: auto !important; height: 105px !important; width: 100% !important; border: 1px solid rgb(207, 207, 207) !important; border-collapse: collapse !important; ; color: var(--jp-ui-font-color1) !important; }\n",
       "      th.tdhistory505958 { border: 1px solid rgb(198,198,198) !important; border-collapse: collapse !important; ; padding: 2px 5px !important; ; font-size: 13px !important; ; text-align: center !important; white-space: normal !important; color: var(--jp-ui-font-color1) !important; }\n",
       "      th.tdhistory505958:last-child { text-align: left !important; }\n",
       "      tbody.tdhistory505958 tr:nth-child(even) { background: rgba(243, 243, 243, 0.75) !important; }\n",
       "      tbody.tdhistory505958 tr:nth-child(odd) { background: var(--jp-ui-inverse-font-color1) !important; }\n",
       "      td.tdhistory505958 { border: 1px solid rgb(207, 207, 207) !important; border-collapse: collapse !important; ; padding: 2px 5px !important; ; font-size: 13px !important; ; text-align: left !important;          white-space: nowrap !important; overflow:hidden !important; text-overflow:ellipsis !important;; }\n",
       "    </style><thead><tr style= \"background: rgba(243, 243, 243, 0.75)\"><th class=\"tdhistory505958\"></th><th class=\"tdhistory505958\">SalesPerItem</th><th class=\"tdhistory505958\">TotalQuantity</th><th class=\"tdhistory505958\">TotalPrice</th><th class=\"tdhistory505958\">TotalItems</th></tr></thead><tbody class=\"tdhistory505958 resultset-body\"><tr><th class=\"tdhistory505958\" style= \"background: rgba(243, 243, 243, 0.75)\">1</th><td class=\"tdhistory505958\">Y = (X0*X1)/X2</td><td class=\"tdhistory505958\"></td><td class=\"tdhistory505958\"></td><td class=\"tdhistory505958\"></td></tr></tbody></table></div>"
      ]
     },
     "execution_count": 13,
     "metadata": {
      "application/vnd.teradata.resultset": "{\"resultSetID\":\"/home/jovyan/JupyterLabRoot/Teradata/Resultsets/2024.09.06_05.00.55.116_UTC\",\"historyID\":183,\"chunkID\":\"00001\",\"sessionid\":\"\",\"portnum\":\"\",\"dockermode\":\"docker\",\"totalRowCount\":1,\"chunkCount\":0,\"rowLimit\":0,\"columnMetadata\":[{\"columnName\":\"SalesPerItem\",\"columnTypeName\":\"VARCHAR\",\"length\":14,\"scale\":14},{\"columnNumber\":1,\"columnName\":\"TotalQuantity\",\"columnTypeName\":\"BIGINT\"},{\"columnNumber\":2,\"columnName\":\"TotalPrice\",\"columnTypeName\":\"FLOAT\"},{\"columnNumber\":3,\"columnName\":\"TotalItems\",\"columnTypeName\":\"INTEGER\"}]}"
     },
     "output_type": "execute_result"
    }
   ],
   "source": [
    "-- Create another new column by diving the total sales by the number of unique items\n",
    "\n",
    "SELECT * FROM TD_NonLinearCombineFit (\n",
    "   ON Customer_ID_Group_V AS InputTable\n",
    "   OUT VOLATILE TABLE OutputTable (NonLinearCombineFit_CS_SalesPerItem)\n",
    "   USING\n",
    "   TargetColumns ('TotalQuantity','TotalPrice','TotalItems')\n",
    "   Formula ('Y = (X0*X1)/X2')\n",
    "   ResultColumn ('SalesPerItem')\n",
    ") AS dt;"
   ]
  },
  {
   "cell_type": "markdown",
   "id": "5dc7b2b7-c4ce-47bd-9569-675e553f9757",
   "metadata": {},
   "source": [
    "<p style = 'font-size:16px;font-family:Arial;color:#00233C'><b>The TD_ColumnTransformer</b> function transforms the entire dataset in a single operation. You only need to provide the FIT tables to the function, and the function runs all transformations that you require in a\n",
    "single operation. Running all the it table transformations together in one-go gives approx. 30% performance improvement over running each transformation sequentially.</p>"
   ]
  },
  {
   "cell_type": "code",
   "execution_count": 14,
   "id": "5ddf01fb-b734-4e6f-9ab0-a3a359596e39",
   "metadata": {},
   "outputs": [
    {
     "data": {
      "text/plain": [
       "Success: 0 rows affected"
      ]
     },
     "execution_count": 14,
     "metadata": {
      "application/vnd.teradata.resultset": ""
     },
     "output_type": "execute_result"
    }
   ],
   "source": [
    "-- Execute ColumnTransformer to build the data set\n",
    "\n",
    "CREATE MULTISET VOLATILE TABLE Transformed_Customer_ID_Group_VT AS (\n",
    "    SELECT * from TD_ColumnTransformer(\n",
    "        ON Customer_ID_Group_V AS InputTable\n",
    "        \n",
    "        ON OutlierFit_CS AS OutlierFilterFitTable DIMENSION\n",
    "        ON ImputeFit_CS AS SimpleImputeFitTable DIMENSION\n",
    "        ON NonLinearCombineFit_CS_TotalSales AS NonLinearCombineFitTable DIMENSION\n",
    "        ON NonLinearCombineFit_CS_SalesPerItem as NonLinearCombineFitTable DIMENSION\n",
    "    ) AS dt\n",
    ")WITH DATA \n",
    "ON COMMIT PRESERVE ROWS;"
   ]
  },
  {
   "cell_type": "markdown",
   "id": "2f839c04-8146-4d1b-9c4a-7ecde400d9d5",
   "metadata": {},
   "source": [
    "<p style = 'font-size:16px;font-family:Arial;color:#00233C'><b>TD_ScaleFit and TDScaleTransform </b>scales specified input\n",
    "table columns i.e perform the specific scale methods like standard deviation, mean etc to the input columns </p> "
   ]
  },
  {
   "cell_type": "code",
   "execution_count": 15,
   "id": "ef7ca038-1dc6-4433-800d-fbc8864210f3",
   "metadata": {},
   "outputs": [
    {
     "data": {
      "text/plain": [
       "Success: 0 rows affected"
      ]
     },
     "execution_count": 15,
     "metadata": {
      "application/vnd.teradata.resultset": ""
     },
     "output_type": "execute_result"
    },
    {
     "data": {
      "application/vnd.teradata.resultset": "\"TD_STATTYPE_SCLFIT\",\"TotalQuantity\",\"TotalItems\",\"TotalPrice\",\"TotalSales\",\"SalesPerItem\"\n\"min\",\"24\",\"1\",\"6.82\",\"206.70000000000002\",\"12.751292286874154\"\n\"max\",\"4796\",\"3695\",\"1291.0499999999997\",\"5.751069009999999e+06\",\"555065.5\"\n\"sum\",\"2.967656e+06\",\"271301\",\"937383.1639999992\",\"1.0652000234370003e+09\",\"1.7645179379158065e+07\"\n\"count\",\"4368\",\"4368\",\"4368\",\"4368\",\"4368\"\n\"null\",\"0\",\"0\",\"0\",\"0\",\"0\"\n\"avg\",\"679.4084249084249\",\"62.111034798534796\",\"214.60237271062252\",\"243864.47423008247\",\"4039.6472937632934\"\n\"multiplier\",\"1\",\"1\",\"1\",\"1\",\"1\"\n\"intercept\",\"0\",\"0\",\"0\",\"0\",\"0\"\n\"location\",\"24\",\"1\",\"6.82\",\"206.70000000000002\",\"12.751292286874154\"\n\"scale\",\"4772\",\"3694\",\"1284.2299999999998\",\"5.750862309999999e+06\",\"555052.7487077131\"\n\"globalscale_false\",\"\",\"\",\"\",\"\",\"\"\n\"ScaleMethodNumberMapping: [0:mean,1:sum,2:ustd,3:std,4:range,5:midrange,6:maxabs,7:rescale]\",\"4\",\"4\",\"4\",\"4\",\"4\"\n\"missvalue_KEEP\",\"\",\"\",\"\",\"\",\"\"",
      "text/html": [
       "<div class = \"td-resultset-table-div\" style = \"max-height: 100%; overflow-y: auto\">\n",
       "      <table class=\"tdhistory843519\"><style>\n",
       "      table.tdhistory843519 { display: block !important; min-height: 357px !important; overflow: auto !important; height: 357px !important; width: 100% !important; border: 1px solid rgb(207, 207, 207) !important; border-collapse: collapse !important; ; color: var(--jp-ui-font-color1) !important; }\n",
       "      th.tdhistory843519 { border: 1px solid rgb(198,198,198) !important; border-collapse: collapse !important; ; padding: 2px 5px !important; ; font-size: 13px !important; ; text-align: center !important; white-space: normal !important; color: var(--jp-ui-font-color1) !important; }\n",
       "      th.tdhistory843519:last-child { text-align: left !important; }\n",
       "      tbody.tdhistory843519 tr:nth-child(even) { background: rgba(243, 243, 243, 0.75) !important; }\n",
       "      tbody.tdhistory843519 tr:nth-child(odd) { background: var(--jp-ui-inverse-font-color1) !important; }\n",
       "      td.tdhistory843519 { border: 1px solid rgb(207, 207, 207) !important; border-collapse: collapse !important; ; padding: 2px 5px !important; ; font-size: 13px !important; ; text-align: left !important;          white-space: nowrap !important; overflow:hidden !important; text-overflow:ellipsis !important;; }\n",
       "    </style><thead><tr style= \"background: rgba(243, 243, 243, 0.75)\"><th class=\"tdhistory843519\"></th><th class=\"tdhistory843519\">TD_STATTYPE_SCLFIT</th><th class=\"tdhistory843519\">TotalQuantity</th><th class=\"tdhistory843519\">TotalItems</th><th class=\"tdhistory843519\">TotalPrice</th><th class=\"tdhistory843519\">TotalSales</th><th class=\"tdhistory843519\">SalesPerItem</th></tr></thead><tbody class=\"tdhistory843519 resultset-body\"><tr><th class=\"tdhistory843519\" style= \"background: rgba(243, 243, 243, 0.75)\">1</th><td class=\"tdhistory843519\">min</td><td class=\"tdhistory843519\">24</td><td class=\"tdhistory843519\">1</td><td class=\"tdhistory843519\">6.82</td><td class=\"tdhistory843519\">206.70000000000002</td><td class=\"tdhistory843519\">12.751292286874154</td></tr><tr><th class=\"tdhistory843519\" style= \"background: rgba(243, 243, 243, 0.75)\">2</th><td class=\"tdhistory843519\">max</td><td class=\"tdhistory843519\">4796</td><td class=\"tdhistory843519\">3695</td><td class=\"tdhistory843519\">1291.0499999999997</td><td class=\"tdhistory843519\">5.751069009999999e+06</td><td class=\"tdhistory843519\">555065.5</td></tr><tr><th class=\"tdhistory843519\" style= \"background: rgba(243, 243, 243, 0.75)\">3</th><td class=\"tdhistory843519\">sum</td><td class=\"tdhistory843519\">2.967656e+06</td><td class=\"tdhistory843519\">271301</td><td class=\"tdhistory843519\">937383.1639999992</td><td class=\"tdhistory843519\">1.0652000234370003e+09</td><td class=\"tdhistory843519\">1.7645179379158065e+07</td></tr><tr><th class=\"tdhistory843519\" style= \"background: rgba(243, 243, 243, 0.75)\">4</th><td class=\"tdhistory843519\">count</td><td class=\"tdhistory843519\">4368</td><td class=\"tdhistory843519\">4368</td><td class=\"tdhistory843519\">4368</td><td class=\"tdhistory843519\">4368</td><td class=\"tdhistory843519\">4368</td></tr><tr><th class=\"tdhistory843519\" style= \"background: rgba(243, 243, 243, 0.75)\">5</th><td class=\"tdhistory843519\">null</td><td class=\"tdhistory843519\">0</td><td class=\"tdhistory843519\">0</td><td class=\"tdhistory843519\">0</td><td class=\"tdhistory843519\">0</td><td class=\"tdhistory843519\">0</td></tr><tr><th class=\"tdhistory843519\" style= \"background: rgba(243, 243, 243, 0.75)\">6</th><td class=\"tdhistory843519\">avg</td><td class=\"tdhistory843519\">679.4084249084249</td><td class=\"tdhistory843519\">62.111034798534796</td><td class=\"tdhistory843519\">214.60237271062252</td><td class=\"tdhistory843519\">243864.47423008247</td><td class=\"tdhistory843519\">4039.6472937632934</td></tr><tr><th class=\"tdhistory843519\" style= \"background: rgba(243, 243, 243, 0.75)\">7</th><td class=\"tdhistory843519\">multiplier</td><td class=\"tdhistory843519\">1</td><td class=\"tdhistory843519\">1</td><td class=\"tdhistory843519\">1</td><td class=\"tdhistory843519\">1</td><td class=\"tdhistory843519\">1</td></tr><tr><th class=\"tdhistory843519\" style= \"background: rgba(243, 243, 243, 0.75)\">8</th><td class=\"tdhistory843519\">intercept</td><td class=\"tdhistory843519\">0</td><td class=\"tdhistory843519\">0</td><td class=\"tdhistory843519\">0</td><td class=\"tdhistory843519\">0</td><td class=\"tdhistory843519\">0</td></tr><tr><th class=\"tdhistory843519\" style= \"background: rgba(243, 243, 243, 0.75)\">9</th><td class=\"tdhistory843519\">location</td><td class=\"tdhistory843519\">24</td><td class=\"tdhistory843519\">1</td><td class=\"tdhistory843519\">6.82</td><td class=\"tdhistory843519\">206.70000000000002</td><td class=\"tdhistory843519\">12.751292286874154</td></tr><tr><th class=\"tdhistory843519\" style= \"background: rgba(243, 243, 243, 0.75)\">10</th><td class=\"tdhistory843519\">scale</td><td class=\"tdhistory843519\">4772</td><td class=\"tdhistory843519\">3694</td><td class=\"tdhistory843519\">1284.2299999999998</td><td class=\"tdhistory843519\">5.750862309999999e+06</td><td class=\"tdhistory843519\">555052.7487077131</td></tr><tr><th class=\"tdhistory843519\" style= \"background: rgba(243, 243, 243, 0.75)\">11</th><td class=\"tdhistory843519\">globalscale_false</td><td class=\"tdhistory843519\"></td><td class=\"tdhistory843519\"></td><td class=\"tdhistory843519\"></td><td class=\"tdhistory843519\"></td><td class=\"tdhistory843519\"></td></tr><tr><th class=\"tdhistory843519\" style= \"background: rgba(243, 243, 243, 0.75)\">12</th><td class=\"tdhistory843519\">ScaleMethodNumberMapping: [0:mean,1:sum,2:ustd,3:std,4:range,5:midrange,6:maxabs,7:rescale]</td><td class=\"tdhistory843519\">4</td><td class=\"tdhistory843519\">4</td><td class=\"tdhistory843519\">4</td><td class=\"tdhistory843519\">4</td><td class=\"tdhistory843519\">4</td></tr><tr><th class=\"tdhistory843519\" style= \"background: rgba(243, 243, 243, 0.75)\">13</th><td class=\"tdhistory843519\">missvalue_KEEP</td><td class=\"tdhistory843519\"></td><td class=\"tdhistory843519\"></td><td class=\"tdhistory843519\"></td><td class=\"tdhistory843519\"></td><td class=\"tdhistory843519\"></td></tr></tbody></table></div>"
      ]
     },
     "execution_count": 15,
     "metadata": {
      "application/vnd.teradata.resultset": "{\"resultSetID\":\"/home/jovyan/JupyterLabRoot/Teradata/Resultsets/2024.09.06_05.00.57.982_UTC\",\"historyID\":185,\"chunkID\":\"00001\",\"sessionid\":\"\",\"portnum\":\"\",\"dockermode\":\"docker\",\"totalRowCount\":13,\"chunkCount\":0,\"rowLimit\":0,\"columnMetadata\":[{\"columnName\":\"TD_STATTYPE_SCLFIT\",\"columnTypeName\":\"VARCHAR\",\"length\":128,\"scale\":128},{\"columnNumber\":1,\"columnName\":\"TotalQuantity\",\"columnTypeName\":\"FLOAT\"},{\"columnNumber\":2,\"columnName\":\"TotalItems\",\"columnTypeName\":\"FLOAT\"},{\"columnNumber\":3,\"columnName\":\"TotalPrice\",\"columnTypeName\":\"FLOAT\"},{\"columnNumber\":4,\"columnName\":\"TotalSales\",\"columnTypeName\":\"FLOAT\"},{\"columnNumber\":5,\"columnName\":\"SalesPerItem\",\"columnTypeName\":\"FLOAT\"}]}"
     },
     "output_type": "execute_result"
    }
   ],
   "source": [
    "-- ScaleFit/Transform to rescale the data\n",
    "\n",
    "SELECT * FROM TD_ScaleFit(\n",
    "    ON Transformed_Customer_ID_Group_VT AS InputTable\n",
    "    OUT VOLATILE TABLE OutputTable(ScaleFit_CS)\n",
    "    USING\n",
    "        TargetColumns('TotalQuantity','TotalItems','TotalPrice','TotalSales','SalesPerItem')\n",
    "        ScaleMethod('range')\n",
    ") AS dt;"
   ]
  },
  {
   "cell_type": "code",
   "execution_count": 16,
   "id": "9d527164-6711-4403-98a2-308c76f8b474",
   "metadata": {},
   "outputs": [
    {
     "data": {
      "text/plain": [
       "Success: 0 rows affected"
      ]
     },
     "execution_count": 16,
     "metadata": {
      "application/vnd.teradata.resultset": ""
     },
     "output_type": "execute_result"
    }
   ],
   "source": [
    "CREATE MULTISET VOLATILE TABLE Scaled_Transformed_Customer_ID_Group_VT AS (\n",
    "    SELECT * FROM TD_ScaleTransform(\n",
    "        ON Transformed_Customer_ID_Group_VT AS InputTable\n",
    "        ON ScaleFit_CS as FitTable DIMENSION\n",
    "        USING\n",
    "            Accumulate('CustomerID')\n",
    "    ) AS dt\n",
    ") WITH DATA\n",
    "ON COMMIT PRESERVE ROWS;"
   ]
  },
  {
   "cell_type": "markdown",
   "id": "1600baf7-be81-4e2b-9a7a-87a7677f8f19",
   "metadata": {},
   "source": [
    "<p style = 'font-size:16px;font-family:Arial;color:#00233C'>Let us look at the final values which we will now input to the model. </p> "
   ]
  },
  {
   "cell_type": "code",
   "execution_count": 17,
   "id": "d9d2acef-faab-47e5-ac09-64df7351004b",
   "metadata": {},
   "outputs": [
    {
     "data": {
      "application/vnd.teradata.resultset": "\"CustomerID\",\"TotalQuantity\",\"TotalItems\",\"TotalPrice\",\"TotalSales\",\"SalesPerItem\"\n\"14680\",\"0.07145850796311819\",\"0.022198159177043854\",\"0.5991839468008066\",\"0.04923547717490039\",\"0.006127601546205689\"\n\"13239\",\"0.07103939647946354\",\"0.00568489442338928\",\"0.020705013899379395\",\"0.0020729291291274195\",\"0.0009702027581466917\"\n\"15270\",\"0.3007124895222129\",\"0.00568489442338928\",\"0.22187614368142786\",\"0.07398388573139046\",\"0.03483676367697476\"\n\"14090\",\"0.010058675607711651\",\"0\",\"0.09520490877802265\",\"0.0015801838941958606\",\"0.01672159759468308\"\n\"16168\",\"0.3906119027661358\",\"0.015159718462371413\",\"0.25100643965644787\",\"0.10803010514087587\",\"0.01962026693685069\"",
      "text/html": [
       "<div class = \"td-resultset-table-div\" style = \"max-height: 100%; overflow-y: auto\">\n",
       "      <table class=\"tdhistory79557\"><style>\n",
       "      table.tdhistory79557 { display: block !important; min-height: 189px !important; overflow: auto !important; height: 189px !important; width: 100% !important; border: 1px solid rgb(207, 207, 207) !important; border-collapse: collapse !important; ; color: var(--jp-ui-font-color1) !important; }\n",
       "      th.tdhistory79557 { border: 1px solid rgb(198,198,198) !important; border-collapse: collapse !important; ; padding: 2px 5px !important; ; font-size: 13px !important; ; text-align: center !important; white-space: normal !important; color: var(--jp-ui-font-color1) !important; }\n",
       "      th.tdhistory79557:last-child { text-align: left !important; }\n",
       "      tbody.tdhistory79557 tr:nth-child(even) { background: rgba(243, 243, 243, 0.75) !important; }\n",
       "      tbody.tdhistory79557 tr:nth-child(odd) { background: var(--jp-ui-inverse-font-color1) !important; }\n",
       "      td.tdhistory79557 { border: 1px solid rgb(207, 207, 207) !important; border-collapse: collapse !important; ; padding: 2px 5px !important; ; font-size: 13px !important; ; text-align: left !important;          white-space: nowrap !important; overflow:hidden !important; text-overflow:ellipsis !important;; }\n",
       "    </style><thead><tr style= \"background: rgba(243, 243, 243, 0.75)\"><th class=\"tdhistory79557\"></th><th class=\"tdhistory79557\">CustomerID</th><th class=\"tdhistory79557\">TotalQuantity</th><th class=\"tdhistory79557\">TotalItems</th><th class=\"tdhistory79557\">TotalPrice</th><th class=\"tdhistory79557\">TotalSales</th><th class=\"tdhistory79557\">SalesPerItem</th></tr></thead><tbody class=\"tdhistory79557 resultset-body\"><tr><th class=\"tdhistory79557\" style= \"background: rgba(243, 243, 243, 0.75)\">1</th><td class=\"tdhistory79557\">14680</td><td class=\"tdhistory79557\">0.07145850796311819</td><td class=\"tdhistory79557\">0.022198159177043854</td><td class=\"tdhistory79557\">0.5991839468008066</td><td class=\"tdhistory79557\">0.04923547717490039</td><td class=\"tdhistory79557\">0.006127601546205689</td></tr><tr><th class=\"tdhistory79557\" style= \"background: rgba(243, 243, 243, 0.75)\">2</th><td class=\"tdhistory79557\">13239</td><td class=\"tdhistory79557\">0.07103939647946354</td><td class=\"tdhistory79557\">0.00568489442338928</td><td class=\"tdhistory79557\">0.020705013899379395</td><td class=\"tdhistory79557\">0.0020729291291274195</td><td class=\"tdhistory79557\">0.0009702027581466917</td></tr><tr><th class=\"tdhistory79557\" style= \"background: rgba(243, 243, 243, 0.75)\">3</th><td class=\"tdhistory79557\">15270</td><td class=\"tdhistory79557\">0.3007124895222129</td><td class=\"tdhistory79557\">0.00568489442338928</td><td class=\"tdhistory79557\">0.22187614368142786</td><td class=\"tdhistory79557\">0.07398388573139046</td><td class=\"tdhistory79557\">0.03483676367697476</td></tr><tr><th class=\"tdhistory79557\" style= \"background: rgba(243, 243, 243, 0.75)\">4</th><td class=\"tdhistory79557\">14090</td><td class=\"tdhistory79557\">0.010058675607711651</td><td class=\"tdhistory79557\">0</td><td class=\"tdhistory79557\">0.09520490877802265</td><td class=\"tdhistory79557\">0.0015801838941958606</td><td class=\"tdhistory79557\">0.01672159759468308</td></tr><tr><th class=\"tdhistory79557\" style= \"background: rgba(243, 243, 243, 0.75)\">5</th><td class=\"tdhistory79557\">16168</td><td class=\"tdhistory79557\">0.3906119027661358</td><td class=\"tdhistory79557\">0.015159718462371413</td><td class=\"tdhistory79557\">0.25100643965644787</td><td class=\"tdhistory79557\">0.10803010514087587</td><td class=\"tdhistory79557\">0.01962026693685069</td></tr></tbody></table></div>"
      ]
     },
     "execution_count": 17,
     "metadata": {
      "application/vnd.teradata.resultset": "{\"resultSetID\":\"/home/jovyan/JupyterLabRoot/Teradata/Resultsets/2024.09.06_05.00.58.477_UTC\",\"historyID\":187,\"chunkID\":\"00001\",\"sessionid\":\"\",\"portnum\":\"\",\"dockermode\":\"docker\",\"totalRowCount\":5,\"chunkCount\":0,\"rowLimit\":0,\"columnMetadata\":[{\"columnName\":\"CustomerID\",\"columnTypeName\":\"FLOAT\"},{\"columnNumber\":1,\"columnName\":\"TotalQuantity\",\"columnTypeName\":\"FLOAT\"},{\"columnNumber\":2,\"columnName\":\"TotalItems\",\"columnTypeName\":\"FLOAT\"},{\"columnNumber\":3,\"columnName\":\"TotalPrice\",\"columnTypeName\":\"FLOAT\"},{\"columnNumber\":4,\"columnName\":\"TotalSales\",\"columnTypeName\":\"FLOAT\"},{\"columnNumber\":5,\"columnName\":\"SalesPerItem\",\"columnTypeName\":\"FLOAT\"}]}"
     },
     "output_type": "execute_result"
    }
   ],
   "source": [
    "SELECT TOP 5 * FROM Scaled_Transformed_Customer_ID_Group_VT;"
   ]
  },
  {
   "cell_type": "markdown",
   "id": "1e4d43dc-d5a4-47c1-adae-78754f6008c2",
   "metadata": {},
   "source": [
    "<hr style=\"height:2px;border:none;background-color:#00233C;\">"
   ]
  },
  {
   "cell_type": "markdown",
   "id": "1b5a61ce",
   "metadata": {
    "tags": []
   },
   "source": [
    "<p style = 'font-size:20px;font-family:Arial;color:#00233C'><b>4. Build the K-means Model</b></p>\n",
    "\n",
    "<p style = 'font-size:16px;font-family:Arial;color:#00233C'>As discussed above, the K-means algorithm takes a number of clusters \"k\", chooses a random starting point for each centroid, and iterates until a hard limit, or an optimum value is reached.</p>\n",
    "\n",
    "<p style = 'font-size:16px;font-family:Arial;color:#00233C'><b>Finding an Ideal value for K</b></p>\n",
    "<table style = 'width:100%;table-layout:fixed;'>\n",
    "    <tr>\n",
    "        <td style = 'vertical-align:top' width = '50%'>\n",
    "<p style = 'font-size:16px;font-family:Arial;color:#00233C'>The example below uses a value of 5 for the number of clusters to build the model against.  Typically, data scientists will build the model using various values for \"k\", and plot the \"WCSS\" (Within Cluster Sum-of-Squares) value on a series of each value chosen for k.  The \"elbow\" point (where the slope changes) is usually a good value for k.  <a href = 'https://docs.teradata.com/search/all?query=TD_KMeans&content-lang=en-US'>TD_KMeans</a> function will return this value as \"TotalWithinSS : ###\" as a row in the \"td_modelinfo_kmeans\" column.</p></td>\n",
    "        <td><img src = 'images/WCSS_elbow.png' width = '300'></td>\n",
    "    </tr>\n",
    "    </table>\n",
    "\n",
    "<p style = 'font-size:16px;font-family:Arial;color:#00233C'><b>Other Function Parameters Include (but are not limited to)</b></p>\n",
    "<ul style = 'font-size:16px;font-family:Arial;color:#00233C'>\n",
    "    <li>Input Table</li>\n",
    "    <li>StopThreshold - The algorithm converges if the distance between the centroids from the previous iteration and the current iteration is less than the specified value.</li>\n",
    "    <li>MaxIterNum</li>Specify the maximum number of iterations for the K-means algorithm. The algorithm stops after performing the specified number of iterations even if the convergence criterion is not met.\n",
    "    </ul>"
   ]
  },
  {
   "cell_type": "code",
   "execution_count": 18,
   "id": "2913528c",
   "metadata": {},
   "outputs": [
    {
     "data": {
      "text/plain": [
       "Success: 0 rows affected"
      ]
     },
     "execution_count": 18,
     "metadata": {
      "application/vnd.teradata.resultset": ""
     },
     "output_type": "execute_result"
    },
    {
     "data": {
      "application/vnd.teradata.resultset": "\"td_clusterid_kmeans\",\"TotalQuantity\",\"TotalPrice\",\"TotalItems\",\"TotalSales\",\"SalesPerItem\",\"td_size_kmeans\",\"td_withinss_kmeans\",\"CustomerID\",\"td_modelinfo_kmeans\"\n\"2\",\"0.04675353208463018\",\"0.05498315305826422\",\"0.007254280941341039\",\"0.003382055962886926\",\"0.0034154666943265067\",\"2457\",\"8.223280887967551\",\"\",\"\"\n\"4\",\"0.14324327870834136\",\"0.19020160280037574\",\"0.020141642069965243\",\"0.029489241293372943\",\"0.006316166477047894\",\"1054\",\"13.567773328328158\",\"\",\"\"\n\"3\",\"0.5124443871300536\",\"0.18776377673781178\",\"0.03423691224855275\",\"0.10387349776442172\",\"0.021347253832132426\",\"312\",\"16.133216284816996\",\"\",\"\"\n\"1\",\"0.20738703240468798\",\"0.5224699858446383\",\"0.03766908670796226\",\"0.1145542341500908\",\"0.012103246415903315\",\"381\",\"15.049233054797611\",\"\",\"\"\n\"0\",\"0.5803186269498907\",\"0.692148735609437\",\"0.049843516843397995\",\"0.42452644848579635\",\"0.03273796821523418\",\"164\",\"13.571058852696183\",\"\",\"\"",
      "text/html": [
       "<div class = \"td-resultset-table-div\" style = \"max-height: 100%; overflow-y: auto\">\n",
       "      <table class=\"tdhistory596606\"><style>\n",
       "      table.tdhistory596606 { display: block !important; min-height: 189px !important; overflow: auto !important; height: 189px !important; width: 100% !important; border: 1px solid rgb(207, 207, 207) !important; border-collapse: collapse !important; ; color: var(--jp-ui-font-color1) !important; }\n",
       "      th.tdhistory596606 { border: 1px solid rgb(198,198,198) !important; border-collapse: collapse !important; ; padding: 2px 5px !important; ; font-size: 13px !important; ; text-align: center !important; white-space: normal !important; color: var(--jp-ui-font-color1) !important; }\n",
       "      th.tdhistory596606:last-child { text-align: left !important; }\n",
       "      tbody.tdhistory596606 tr:nth-child(even) { background: rgba(243, 243, 243, 0.75) !important; }\n",
       "      tbody.tdhistory596606 tr:nth-child(odd) { background: var(--jp-ui-inverse-font-color1) !important; }\n",
       "      td.tdhistory596606 { border: 1px solid rgb(207, 207, 207) !important; border-collapse: collapse !important; ; padding: 2px 5px !important; ; font-size: 13px !important; ; text-align: left !important;          white-space: nowrap !important; overflow:hidden !important; text-overflow:ellipsis !important;; }\n",
       "    </style><thead><tr style= \"background: rgba(243, 243, 243, 0.75)\"><th class=\"tdhistory596606\"></th><th class=\"tdhistory596606\">td_clusterid_kmeans</th><th class=\"tdhistory596606\">TotalQuantity</th><th class=\"tdhistory596606\">TotalPrice</th><th class=\"tdhistory596606\">TotalItems</th><th class=\"tdhistory596606\">TotalSales</th><th class=\"tdhistory596606\">SalesPerItem</th><th class=\"tdhistory596606\">td_size_kmeans</th><th class=\"tdhistory596606\">td_withinss_kmeans</th><th class=\"tdhistory596606\">CustomerID</th><th class=\"tdhistory596606\">td_modelinfo_kmeans</th></tr></thead><tbody class=\"tdhistory596606 resultset-body\"><tr><th class=\"tdhistory596606\" style= \"background: rgba(243, 243, 243, 0.75)\">1</th><td class=\"tdhistory596606\">2</td><td class=\"tdhistory596606\">0.04675353208463018</td><td class=\"tdhistory596606\">0.05498315305826422</td><td class=\"tdhistory596606\">0.007254280941341039</td><td class=\"tdhistory596606\">0.003382055962886926</td><td class=\"tdhistory596606\">0.0034154666943265067</td><td class=\"tdhistory596606\">2457</td><td class=\"tdhistory596606\">8.223280887967551</td><td class=\"tdhistory596606\"></td><td class=\"tdhistory596606\"></td></tr><tr><th class=\"tdhistory596606\" style= \"background: rgba(243, 243, 243, 0.75)\">2</th><td class=\"tdhistory596606\">4</td><td class=\"tdhistory596606\">0.14324327870834136</td><td class=\"tdhistory596606\">0.19020160280037574</td><td class=\"tdhistory596606\">0.020141642069965243</td><td class=\"tdhistory596606\">0.029489241293372943</td><td class=\"tdhistory596606\">0.006316166477047894</td><td class=\"tdhistory596606\">1054</td><td class=\"tdhistory596606\">13.567773328328158</td><td class=\"tdhistory596606\"></td><td class=\"tdhistory596606\"></td></tr><tr><th class=\"tdhistory596606\" style= \"background: rgba(243, 243, 243, 0.75)\">3</th><td class=\"tdhistory596606\">3</td><td class=\"tdhistory596606\">0.5124443871300536</td><td class=\"tdhistory596606\">0.18776377673781178</td><td class=\"tdhistory596606\">0.03423691224855275</td><td class=\"tdhistory596606\">0.10387349776442172</td><td class=\"tdhistory596606\">0.021347253832132426</td><td class=\"tdhistory596606\">312</td><td class=\"tdhistory596606\">16.133216284816996</td><td class=\"tdhistory596606\"></td><td class=\"tdhistory596606\"></td></tr><tr><th class=\"tdhistory596606\" style= \"background: rgba(243, 243, 243, 0.75)\">4</th><td class=\"tdhistory596606\">1</td><td class=\"tdhistory596606\">0.20738703240468798</td><td class=\"tdhistory596606\">0.5224699858446383</td><td class=\"tdhistory596606\">0.03766908670796226</td><td class=\"tdhistory596606\">0.1145542341500908</td><td class=\"tdhistory596606\">0.012103246415903315</td><td class=\"tdhistory596606\">381</td><td class=\"tdhistory596606\">15.049233054797611</td><td class=\"tdhistory596606\"></td><td class=\"tdhistory596606\"></td></tr><tr><th class=\"tdhistory596606\" style= \"background: rgba(243, 243, 243, 0.75)\">5</th><td class=\"tdhistory596606\">0</td><td class=\"tdhistory596606\">0.5803186269498907</td><td class=\"tdhistory596606\">0.692148735609437</td><td class=\"tdhistory596606\">0.049843516843397995</td><td class=\"tdhistory596606\">0.42452644848579635</td><td class=\"tdhistory596606\">0.03273796821523418</td><td class=\"tdhistory596606\">164</td><td class=\"tdhistory596606\">13.571058852696183</td><td class=\"tdhistory596606\"></td><td class=\"tdhistory596606\"></td></tr></tbody></table></div>"
      ]
     },
     "execution_count": 18,
     "metadata": {
      "application/vnd.teradata.resultset": "{\"resultSetID\":\"/home/jovyan/JupyterLabRoot/Teradata/Resultsets/2024.09.06_05.01.00.511_UTC\",\"historyID\":188,\"chunkID\":\"00001\",\"sessionid\":\"\",\"portnum\":\"\",\"dockermode\":\"docker\",\"totalRowCount\":5,\"chunkCount\":0,\"rowLimit\":0,\"columnMetadata\":[{\"columnName\":\"td_clusterid_kmeans\",\"columnTypeName\":\"BIGINT\"},{\"columnNumber\":1,\"columnName\":\"TotalQuantity\",\"columnTypeName\":\"FLOAT\"},{\"columnNumber\":2,\"columnName\":\"TotalPrice\",\"columnTypeName\":\"FLOAT\"},{\"columnNumber\":3,\"columnName\":\"TotalItems\",\"columnTypeName\":\"FLOAT\"},{\"columnNumber\":4,\"columnName\":\"TotalSales\",\"columnTypeName\":\"FLOAT\"},{\"columnNumber\":5,\"columnName\":\"SalesPerItem\",\"columnTypeName\":\"FLOAT\"},{\"columnNumber\":6,\"columnName\":\"td_size_kmeans\",\"columnTypeName\":\"BIGINT\"},{\"columnNumber\":7,\"columnName\":\"td_withinss_kmeans\",\"columnTypeName\":\"FLOAT\"},{\"columnNumber\":8,\"columnName\":\"CustomerID\",\"columnTypeName\":\"BYTEINT\"},{\"columnNumber\":9,\"columnName\":\"td_modelinfo_kmeans\",\"columnTypeName\":\"VARCHAR\",\"length\":128,\"scale\":128}]}"
     },
     "output_type": "execute_result"
    }
   ],
   "source": [
    "SELECT TOP 5 * from TD_KMeans (\n",
    "    ON Scaled_Transformed_Customer_ID_Group_VT as InputTable\n",
    "    OUT TABLE ModelTable(KMeans_Model)\n",
    "    USING\n",
    "        IdColumn('CustomerID')\n",
    "        TargetColumns('TotalQuantity','TotalPrice','TotalItems','TotalSales','SalesPerItem')\n",
    "        StopThreshold(0.0395)\n",
    "        NumClusters(5)\n",
    "        -- Seed(0)\n",
    "        MaxIterNum(500)\n",
    "        -- OutputClusterAssignment('true')\n",
    ") AS dt;"
   ]
  },
  {
   "cell_type": "markdown",
   "id": "e21eab9f-69af-427a-a523-c6aca8cd187f",
   "metadata": {},
   "source": [
    "<p style = 'font-size:16px;font-family:Arial;color:#00233C'>From the generated model we can see how many ids are there in each cluster, what is the size of each cluster, number of iterations it took for model to converge etc.\n",
    "    "
   ]
  },
  {
   "cell_type": "code",
   "execution_count": 19,
   "id": "f60ce225-1d8b-4c8b-ab0a-1c8c0aa7e147",
   "metadata": {},
   "outputs": [
    {
     "data": {
      "application/vnd.teradata.resultset": "\"td_clusterid_kmeans\",\"td_size_kmeans\"\n\"2\",\"2457\"\n\"4\",\"1054\"\n\"3\",\"312\"\n\"1\",\"381\"\n\"0\",\"164\"",
      "text/html": [
       "<div class = \"td-resultset-table-div\" style = \"max-height: 100%; overflow-y: auto\">\n",
       "      <table class=\"tdhistory64732\"><style>\n",
       "      table.tdhistory64732 { display: block !important; min-height: 189px !important; overflow: auto !important; height: 189px !important; width: 100% !important; border: 1px solid rgb(207, 207, 207) !important; border-collapse: collapse !important; ; color: var(--jp-ui-font-color1) !important; }\n",
       "      th.tdhistory64732 { border: 1px solid rgb(198,198,198) !important; border-collapse: collapse !important; ; padding: 2px 5px !important; ; font-size: 13px !important; ; text-align: center !important; white-space: normal !important; color: var(--jp-ui-font-color1) !important; }\n",
       "      th.tdhistory64732:last-child { text-align: left !important; }\n",
       "      tbody.tdhistory64732 tr:nth-child(even) { background: rgba(243, 243, 243, 0.75) !important; }\n",
       "      tbody.tdhistory64732 tr:nth-child(odd) { background: var(--jp-ui-inverse-font-color1) !important; }\n",
       "      td.tdhistory64732 { border: 1px solid rgb(207, 207, 207) !important; border-collapse: collapse !important; ; padding: 2px 5px !important; ; font-size: 13px !important; ; text-align: left !important;          white-space: nowrap !important; overflow:hidden !important; text-overflow:ellipsis !important;; }\n",
       "    </style><thead><tr style= \"background: rgba(243, 243, 243, 0.75)\"><th class=\"tdhistory64732\"></th><th class=\"tdhistory64732\">td_clusterid_kmeans</th><th class=\"tdhistory64732\">td_size_kmeans</th></tr></thead><tbody class=\"tdhistory64732 resultset-body\"><tr><th class=\"tdhistory64732\" style= \"background: rgba(243, 243, 243, 0.75)\">1</th><td class=\"tdhistory64732\">2</td><td class=\"tdhistory64732\">2457</td></tr><tr><th class=\"tdhistory64732\" style= \"background: rgba(243, 243, 243, 0.75)\">2</th><td class=\"tdhistory64732\">4</td><td class=\"tdhistory64732\">1054</td></tr><tr><th class=\"tdhistory64732\" style= \"background: rgba(243, 243, 243, 0.75)\">3</th><td class=\"tdhistory64732\">3</td><td class=\"tdhistory64732\">312</td></tr><tr><th class=\"tdhistory64732\" style= \"background: rgba(243, 243, 243, 0.75)\">4</th><td class=\"tdhistory64732\">1</td><td class=\"tdhistory64732\">381</td></tr><tr><th class=\"tdhistory64732\" style= \"background: rgba(243, 243, 243, 0.75)\">5</th><td class=\"tdhistory64732\">0</td><td class=\"tdhistory64732\">164</td></tr></tbody></table></div>"
      ]
     },
     "execution_count": 19,
     "metadata": {
      "application/vnd.teradata.resultset": "{\"resultSetID\":\"/home/jovyan/JupyterLabRoot/Teradata/Resultsets/2024.09.06_05.01.00.627_UTC\",\"historyID\":189,\"chunkID\":\"00001\",\"sessionid\":\"\",\"portnum\":\"\",\"dockermode\":\"docker\",\"totalRowCount\":5,\"chunkCount\":0,\"rowLimit\":0,\"columnMetadata\":[{\"columnName\":\"td_clusterid_kmeans\",\"columnTypeName\":\"BIGINT\"},{\"columnNumber\":1,\"columnName\":\"td_size_kmeans\",\"columnTypeName\":\"BIGINT\"}]}"
     },
     "output_type": "execute_result"
    }
   ],
   "source": [
    "SELECT TOP 5 td_clusterid_kmeans, td_size_kmeans FROM KMeans_Model;"
   ]
  },
  {
   "cell_type": "code",
   "execution_count": 20,
   "id": "da4009af-4bb7-461f-b0a8-ca9a7cdae0b3",
   "metadata": {},
   "outputs": [
    {
     "data": {
      "application/vnd.vegalite.v3+json": {
       "$schema": "https://vega.github.io/schema/vega-lite/v3.json",
       "data": {
        "format": {
         "type": "csv"
        },
        "values": "\"td_clusterid_kmeans\",\"td_size_kmeans\"\n\"2\",\"2457\"\n\"4\",\"1054\"\n\"3\",\"312\"\n\"1\",\"381\"\n\"0\",\"164\"\n"
       },
       "encoding": {
        "x": {
         "axis": {
          "grid": true,
          "title": "cluster ids"
         },
         "field": "td_clusterid_kmeans",
         "type": "quantitative"
        },
        "y": {
         "axis": {
          "grid": true,
          "title": "count of ids"
         },
         "field": "td_size_kmeans",
         "type": "quantitative"
        }
       },
       "height": "400",
       "mark": {
        "color": "#4C78A8",
        "type": "bar"
       },
       "title": "Number of Ids in each Cluster",
       "width": "400"
      },
      "image/png": "[encoded data removed]"
     },
     "execution_count": 20,
     "metadata": {
      "application/vnd.teradata.resultset": ""
     },
     "output_type": "execute_result"
    }
   ],
   "source": [
    "%chart x = td_clusterid_kmeans, y = td_size_kmeans, typex = q, typey = q,\n",
    "labelx = \"cluster ids\", labely = \"count of ids\", type = bar,\n",
    "title = \"Number of Ids in each Cluster\", height = 400, width = 400"
   ]
  },
  {
   "cell_type": "markdown",
   "id": "edc5f4a7-b685-4044-8802-a208abe21f81",
   "metadata": {},
   "source": [
    "<p style = 'font-size:16px;font-family:Arial;color:#00233C'>The above barchart shows the number of ids in each cluster where cluster_id is 0-4 generated by the TD_Kmeans function.<br>Let us now visualize how the clusters look like. We have used five columns to create clusters namely 'TotalQuantity','TotalPrice','TotalItems','TotalSales','SalesPerItem'.<br> For the visualization in 2d plane i.e with X and Y coordinates we will use two of these column values for our plots."
   ]
  },
  {
   "cell_type": "code",
   "execution_count": 21,
   "id": "e2dc2050-d8ff-42c2-a455-feaf0cd0e06a",
   "metadata": {},
   "outputs": [
    {
     "data": {
      "application/vnd.teradata.resultset": "\"CustomerID\",\"td_clusterid_kmeans\",\"td_distance_kmeans\",\"TotalQuantity\",\"TotalItems\",\"TotalPrice\",\"TotalSales\",\"SalesPerItem\"\n\"16168\",\"3\",\"0.13866141442628693\",\"0.3906119027661358\",\"0.015159718462371413\",\"0.25100643965644787\",\"0.10803010514087587\",\"0.01962026693685069\"\n\"12957\",\"0\",\"0.20785050235296937\",\"0.5253562447611064\",\"0.0560368164591229\",\"0.5329341317365269\",\"0.30417984916074264\",\"0.015130672657059911\"\n\"14288\",\"2\",\"0.01850088097389275\",\"0.03415758591785415\",\"0.004060638873849486\",\"0.04207190300802816\",\"0.0019427086578951672\",\"0.0012583183928720906\"\n\"12910\",\"3\",\"0.1883715905103075\",\"0.3495389773679799\",\"0.012723335138061722\",\"0.11691052225847395\",\"0.04614431813791765\",\"0.009945160564586204\"\n\"13500\",\"4\",\"0.02844782715159868\",\"0.11756077116512992\",\"0.01597184623714131\",\"0.18021693933329705\",\"0.02420078807277165\",\"0.004162277753045964\"",
      "text/html": [
       "<div class = \"td-resultset-table-div\" style = \"max-height: 100%; overflow-y: auto\">\n",
       "      <table class=\"tdhistory50006\"><style>\n",
       "      table.tdhistory50006 { display: block !important; min-height: 189px !important; overflow: auto !important; height: 189px !important; width: 100% !important; border: 1px solid rgb(207, 207, 207) !important; border-collapse: collapse !important; ; color: var(--jp-ui-font-color1) !important; }\n",
       "      th.tdhistory50006 { border: 1px solid rgb(198,198,198) !important; border-collapse: collapse !important; ; padding: 2px 5px !important; ; font-size: 13px !important; ; text-align: center !important; white-space: normal !important; color: var(--jp-ui-font-color1) !important; }\n",
       "      th.tdhistory50006:last-child { text-align: left !important; }\n",
       "      tbody.tdhistory50006 tr:nth-child(even) { background: rgba(243, 243, 243, 0.75) !important; }\n",
       "      tbody.tdhistory50006 tr:nth-child(odd) { background: var(--jp-ui-inverse-font-color1) !important; }\n",
       "      td.tdhistory50006 { border: 1px solid rgb(207, 207, 207) !important; border-collapse: collapse !important; ; padding: 2px 5px !important; ; font-size: 13px !important; ; text-align: left !important;          white-space: nowrap !important; overflow:hidden !important; text-overflow:ellipsis !important;; }\n",
       "    </style><thead><tr style= \"background: rgba(243, 243, 243, 0.75)\"><th class=\"tdhistory50006\"></th><th class=\"tdhistory50006\">CustomerID</th><th class=\"tdhistory50006\">td_clusterid_kmeans</th><th class=\"tdhistory50006\">td_distance_kmeans</th><th class=\"tdhistory50006\">TotalQuantity</th><th class=\"tdhistory50006\">TotalItems</th><th class=\"tdhistory50006\">TotalPrice</th><th class=\"tdhistory50006\">TotalSales</th><th class=\"tdhistory50006\">SalesPerItem</th></tr></thead><tbody class=\"tdhistory50006 resultset-body\"><tr><th class=\"tdhistory50006\" style= \"background: rgba(243, 243, 243, 0.75)\">1</th><td class=\"tdhistory50006\">16168</td><td class=\"tdhistory50006\">3</td><td class=\"tdhistory50006\">0.13866141442628693</td><td class=\"tdhistory50006\">0.3906119027661358</td><td class=\"tdhistory50006\">0.015159718462371413</td><td class=\"tdhistory50006\">0.25100643965644787</td><td class=\"tdhistory50006\">0.10803010514087587</td><td class=\"tdhistory50006\">0.01962026693685069</td></tr><tr><th class=\"tdhistory50006\" style= \"background: rgba(243, 243, 243, 0.75)\">2</th><td class=\"tdhistory50006\">12957</td><td class=\"tdhistory50006\">0</td><td class=\"tdhistory50006\">0.20785050235296937</td><td class=\"tdhistory50006\">0.5253562447611064</td><td class=\"tdhistory50006\">0.0560368164591229</td><td class=\"tdhistory50006\">0.5329341317365269</td><td class=\"tdhistory50006\">0.30417984916074264</td><td class=\"tdhistory50006\">0.015130672657059911</td></tr><tr><th class=\"tdhistory50006\" style= \"background: rgba(243, 243, 243, 0.75)\">3</th><td class=\"tdhistory50006\">14288</td><td class=\"tdhistory50006\">2</td><td class=\"tdhistory50006\">0.01850088097389275</td><td class=\"tdhistory50006\">0.03415758591785415</td><td class=\"tdhistory50006\">0.004060638873849486</td><td class=\"tdhistory50006\">0.04207190300802816</td><td class=\"tdhistory50006\">0.0019427086578951672</td><td class=\"tdhistory50006\">0.0012583183928720906</td></tr><tr><th class=\"tdhistory50006\" style= \"background: rgba(243, 243, 243, 0.75)\">4</th><td class=\"tdhistory50006\">12910</td><td class=\"tdhistory50006\">3</td><td class=\"tdhistory50006\">0.1883715905103075</td><td class=\"tdhistory50006\">0.3495389773679799</td><td class=\"tdhistory50006\">0.012723335138061722</td><td class=\"tdhistory50006\">0.11691052225847395</td><td class=\"tdhistory50006\">0.04614431813791765</td><td class=\"tdhistory50006\">0.009945160564586204</td></tr><tr><th class=\"tdhistory50006\" style= \"background: rgba(243, 243, 243, 0.75)\">5</th><td class=\"tdhistory50006\">13500</td><td class=\"tdhistory50006\">4</td><td class=\"tdhistory50006\">0.02844782715159868</td><td class=\"tdhistory50006\">0.11756077116512992</td><td class=\"tdhistory50006\">0.01597184623714131</td><td class=\"tdhistory50006\">0.18021693933329705</td><td class=\"tdhistory50006\">0.02420078807277165</td><td class=\"tdhistory50006\">0.004162277753045964</td></tr></tbody></table></div>"
      ]
     },
     "execution_count": 21,
     "metadata": {
      "application/vnd.teradata.resultset": "{\"resultSetID\":\"/home/jovyan/JupyterLabRoot/Teradata/Resultsets/2024.09.06_05.01.00.829_UTC\",\"historyID\":190,\"chunkID\":\"00001\",\"sessionid\":\"\",\"portnum\":\"\",\"dockermode\":\"docker\",\"totalRowCount\":5,\"chunkCount\":0,\"rowLimit\":0,\"columnMetadata\":[{\"columnName\":\"CustomerID\",\"columnTypeName\":\"FLOAT\"},{\"columnNumber\":1,\"columnName\":\"td_clusterid_kmeans\",\"columnTypeName\":\"BIGINT\"},{\"columnNumber\":2,\"columnName\":\"td_distance_kmeans\",\"columnTypeName\":\"FLOAT\"},{\"columnNumber\":3,\"columnName\":\"TotalQuantity\",\"columnTypeName\":\"FLOAT\"},{\"columnNumber\":4,\"columnName\":\"TotalItems\",\"columnTypeName\":\"FLOAT\"},{\"columnNumber\":5,\"columnName\":\"TotalPrice\",\"columnTypeName\":\"FLOAT\"},{\"columnNumber\":6,\"columnName\":\"TotalSales\",\"columnTypeName\":\"FLOAT\"},{\"columnNumber\":7,\"columnName\":\"SalesPerItem\",\"columnTypeName\":\"FLOAT\"}]}"
     },
     "output_type": "execute_result"
    }
   ],
   "source": [
    "SELECT TOP 5 * FROM TD_KMeansPredict (\n",
    "        ON Scaled_Transformed_Customer_ID_Group_VT AS InputTable\n",
    "        ON KMeans_Model AS ModelTable DIMENSION\n",
    "        USING\n",
    "            OutputDistance('true')\n",
    "            Accumulate('[1:5]')\n",
    ") AS dt;"
   ]
  },
  {
   "cell_type": "code",
   "execution_count": 22,
   "id": "4ec7dac0-f873-4b04-bd9e-a285700c496c",
   "metadata": {},
   "outputs": [
    {
     "data": {
      "application/vnd.vegalite.v3+json": {
       "$schema": "https://vega.github.io/schema/vega-lite/v3.json",
       "data": {
        "format": {
         "type": "csv"
        },
        "values": "\"CustomerID\",\"td_clusterid_kmeans\",\"td_distance_kmeans\",\"TotalQuantity\",\"TotalItems\",\"TotalPrice\",\"TotalSales\",\"SalesPerItem\"\n\"16168\",\"3\",\"0.13866141442628693\",\"0.3906119027661358\",\"0.015159718462371413\",\"0.25100643965644787\",\"0.10803010514087587\",\"0.01962026693685069\"\n\"12957\",\"0\",\"0.20785050235296937\",\"0.5253562447611064\",\"0.0560368164591229\",\"0.5329341317365269\",\"0.30417984916074264\",\"0.015130672657059911\"\n\"14288\",\"2\",\"0.01850088097389275\",\"0.03415758591785415\",\"0.004060638873849486\",\"0.04207190300802816\",\"0.0019427086578951672\",\"0.0012583183928720906\"\n\"12910\",\"3\",\"0.1883715905103075\",\"0.3495389773679799\",\"0.012723335138061722\",\"0.11691052225847395\",\"0.04614431813791765\",\"0.009945160564586204\"\n\"13500\",\"4\",\"0.02844782715159868\",\"0.11756077116512992\",\"0.01597184623714131\",\"0.18021693933329705\",\"0.02420078807277165\",\"0.004162277753045964\"\n"
       },
       "encoding": {
        "color": {
         "field": "td_clusterid_kmeans",
         "type": "nominal"
        },
        "x": {
         "axis": {
          "grid": true,
          "title": "TotalQuantity"
         },
         "field": "TotalQuantity",
         "type": "quantitative"
        },
        "y": {
         "axis": {
          "grid": true,
          "title": "TotalPrice"
         },
         "field": "TotalPrice",
         "type": "quantitative"
        }
       },
       "height": "400",
       "mark": {
        "color": "#4C78A8",
        "type": "point"
       },
       "title": "'TotalQuantity Vs TotalPrice clusters'",
       "width": "600"
      },
      "image/png": "[encoded data removed]"
     },
     "execution_count": 22,
     "metadata": {
      "application/vnd.teradata.resultset": ""
     },
     "output_type": "execute_result"
    }
   ],
   "source": [
    "%chart x = TotalQuantity, y = TotalPrice, groupingcol = td_clusterid_kmeans, typegroupingcol = nominal,\n",
    "mark = point, title = 'TotalQuantity Vs TotalPrice clusters', height = 400, width = 600"
   ]
  },
  {
   "cell_type": "markdown",
   "id": "47575320-8a67-465c-85bd-c12d15e02131",
   "metadata": {},
   "source": [
    "<p style = 'font-size:16px;font-family:Arial;color:#00233C'> In the above chart we have plotted TotalQuantity Vs TotalPrice to see how the clusters look like in the 2d plane where X axis is TotalQuantity and Y axis is TotalPrice. Note that this is only due to the limitation of visualization on being only in 2 dimensions where as the cluster creation is based on all 5 columns."
   ]
  },
  {
   "cell_type": "code",
   "execution_count": 23,
   "id": "03f288d2-479a-4318-acfc-3a0536ee22ff",
   "metadata": {},
   "outputs": [
    {
     "data": {
      "application/vnd.vegalite.v3+json": {
       "$schema": "https://vega.github.io/schema/vega-lite/v3.json",
       "data": {
        "format": {
         "type": "csv"
        },
        "values": "\"CustomerID\",\"td_clusterid_kmeans\",\"td_distance_kmeans\",\"TotalQuantity\",\"TotalItems\",\"TotalPrice\",\"TotalSales\",\"SalesPerItem\"\n\"16168\",\"3\",\"0.13866141442628693\",\"0.3906119027661358\",\"0.015159718462371413\",\"0.25100643965644787\",\"0.10803010514087587\",\"0.01962026693685069\"\n\"12957\",\"0\",\"0.20785050235296937\",\"0.5253562447611064\",\"0.0560368164591229\",\"0.5329341317365269\",\"0.30417984916074264\",\"0.015130672657059911\"\n\"14288\",\"2\",\"0.01850088097389275\",\"0.03415758591785415\",\"0.004060638873849486\",\"0.04207190300802816\",\"0.0019427086578951672\",\"0.0012583183928720906\"\n\"12910\",\"3\",\"0.1883715905103075\",\"0.3495389773679799\",\"0.012723335138061722\",\"0.11691052225847395\",\"0.04614431813791765\",\"0.009945160564586204\"\n\"13500\",\"4\",\"0.02844782715159868\",\"0.11756077116512992\",\"0.01597184623714131\",\"0.18021693933329705\",\"0.02420078807277165\",\"0.004162277753045964\"\n"
       },
       "encoding": {
        "color": {
         "field": "td_clusterid_kmeans",
         "type": "nominal"
        },
        "x": {
         "axis": {
          "grid": true,
          "title": "TotalQuantity"
         },
         "field": "TotalQuantity",
         "type": "quantitative"
        },
        "y": {
         "axis": {
          "grid": true,
          "title": "TotalSales"
         },
         "field": "TotalSales",
         "type": "quantitative"
        }
       },
       "height": "400",
       "mark": {
        "color": "#4C78A8",
        "type": "point"
       },
       "title": "'TotalQuantity Vs TotalSales clusters'",
       "width": "600"
      },
      "image/png": "[encoded data removed]"
     },
     "execution_count": 23,
     "metadata": {
      "application/vnd.teradata.resultset": ""
     },
     "output_type": "execute_result"
    }
   ],
   "source": [
    "%chart x = TotalQuantity, y = TotalSales, groupingcol = td_clusterid_kmeans, typegroupingcol = nominal,\n",
    "mark = point, title = 'TotalQuantity Vs TotalSales clusters', height = 400, width = 600"
   ]
  },
  {
   "cell_type": "markdown",
   "id": "f21a88b9-6209-4687-955e-07dc97952c13",
   "metadata": {},
   "source": [
    "<p style = 'font-size:16px;font-family:Arial;color:#00233C'> In the above chart we have plotted TotalQuantity Vs TotalSales. See how the chart is different from the TotalQuantity Vs TotalPrice chart. You can change the values for x-axis and y-axis to see how the clusters with rest of the columns looks like."
   ]
  },
  {
   "cell_type": "markdown",
   "id": "8304ae16",
   "metadata": {},
   "source": [
    "<hr style=\"height:2px;border:none;background-color:#00233C;\">\n",
    "<p style = 'font-size:20px;font-family:Arial;color:#00233C'><b>5. Bulk Transformation</b></p>\n",
    "\n",
    "<p style = 'font-size:16px;font-family:Arial;color:#00233C'>Here, the Fit tables created above will be passed to a single <a href = 'https://docs.teradata.com/search/all?query=TD_ColumnTransformer&content-lang=en-US'>TD_ColumnTransformer</a> function.  This is similar to an operational approach, where a single query will prepare new or incoming data for immediate analysis.</p>\n",
    "\n",
    "<img src = 'images/column_transformer.png' width = '300'>"
   ]
  },
  {
   "cell_type": "code",
   "execution_count": 24,
   "id": "fe00187b",
   "metadata": {},
   "outputs": [
    {
     "data": {
      "application/vnd.teradata.resultset": "\"InvoiceNo\",\"StockCode\",\"Description\",\"Quantity\",\"InvoiceDate\",\"UnitPrice\",\"CustomerID\",\"Country\"\n\"C541499\",\"84819\",\"DANISH ROSE ROUND SEWING BOX\",\"-1\",\"2011-01-18 15:23:00.000000\",\"4.25\",\"13693\",\"United Kingdom\"\n\"C540271\",\"M\",\"Manual\",\"-1\",\"2011-06-01 11:51:00.000000\",\"1126\",\"12503\",\"Spain\"\n\"557092\",\"15036\",\"ASSORTED COLOURS SILK FAN\",\"600\",\"2011-06-16 15:39:00.000000\",\"0.72\",\"12908\",\"United Kingdom\"\n\"C561590\",\"84968A\",\"SET OF 16 VINTAGE ROSE CUTLERY\",\"-2\",\"2011-07-28 11:16:00.000000\",\"12.75\",\"18268\",\"United Kingdom\"\n\"561680\",\"84968A\",\"SET OF 16 VINTAGE ROSE CUTLERY\",\"2\",\"2011-07-28 19:13:00.000000\",\"12.75\",\"18268\",\"United Kingdom\"",
      "text/html": [
       "<div class = \"td-resultset-table-div\" style = \"max-height: 100%; overflow-y: auto\">\n",
       "      <table class=\"tdhistory695978\"><style>\n",
       "      table.tdhistory695978 { display: block !important; min-height: 189px !important; overflow: auto !important; height: 189px !important; width: 100% !important; border: 1px solid rgb(207, 207, 207) !important; border-collapse: collapse !important; ; color: var(--jp-ui-font-color1) !important; }\n",
       "      th.tdhistory695978 { border: 1px solid rgb(198,198,198) !important; border-collapse: collapse !important; ; padding: 2px 5px !important; ; font-size: 13px !important; ; text-align: center !important; white-space: normal !important; color: var(--jp-ui-font-color1) !important; }\n",
       "      th.tdhistory695978:last-child { text-align: left !important; }\n",
       "      tbody.tdhistory695978 tr:nth-child(even) { background: rgba(243, 243, 243, 0.75) !important; }\n",
       "      tbody.tdhistory695978 tr:nth-child(odd) { background: var(--jp-ui-inverse-font-color1) !important; }\n",
       "      td.tdhistory695978 { border: 1px solid rgb(207, 207, 207) !important; border-collapse: collapse !important; ; padding: 2px 5px !important; ; font-size: 13px !important; ; text-align: left !important;          white-space: nowrap !important; overflow:hidden !important; text-overflow:ellipsis !important;; }\n",
       "    </style><thead><tr style= \"background: rgba(243, 243, 243, 0.75)\"><th class=\"tdhistory695978\"></th><th class=\"tdhistory695978\">InvoiceNo</th><th class=\"tdhistory695978\">StockCode</th><th class=\"tdhistory695978\">Description</th><th class=\"tdhistory695978\">Quantity</th><th class=\"tdhistory695978\">InvoiceDate</th><th class=\"tdhistory695978\">UnitPrice</th><th class=\"tdhistory695978\">CustomerID</th><th class=\"tdhistory695978\">Country</th></tr></thead><tbody class=\"tdhistory695978 resultset-body\"><tr><th class=\"tdhistory695978\" style= \"background: rgba(243, 243, 243, 0.75)\">1</th><td class=\"tdhistory695978\">C541499</td><td class=\"tdhistory695978\">84819</td><td class=\"tdhistory695978\">DANISH ROSE ROUND SEWING BOX</td><td class=\"tdhistory695978\">-1</td><td class=\"tdhistory695978\">2011-01-18 15:23:00.000000</td><td class=\"tdhistory695978\">4.25</td><td class=\"tdhistory695978\">13693</td><td class=\"tdhistory695978\">United Kingdom</td></tr><tr><th class=\"tdhistory695978\" style= \"background: rgba(243, 243, 243, 0.75)\">2</th><td class=\"tdhistory695978\">C540271</td><td class=\"tdhistory695978\">M</td><td class=\"tdhistory695978\">Manual</td><td class=\"tdhistory695978\">-1</td><td class=\"tdhistory695978\">2011-06-01 11:51:00.000000</td><td class=\"tdhistory695978\">1126</td><td class=\"tdhistory695978\">12503</td><td class=\"tdhistory695978\">Spain</td></tr><tr><th class=\"tdhistory695978\" style= \"background: rgba(243, 243, 243, 0.75)\">3</th><td class=\"tdhistory695978\">557092</td><td class=\"tdhistory695978\">15036</td><td class=\"tdhistory695978\">ASSORTED COLOURS SILK FAN</td><td class=\"tdhistory695978\">600</td><td class=\"tdhistory695978\">2011-06-16 15:39:00.000000</td><td class=\"tdhistory695978\">0.72</td><td class=\"tdhistory695978\">12908</td><td class=\"tdhistory695978\">United Kingdom</td></tr><tr><th class=\"tdhistory695978\" style= \"background: rgba(243, 243, 243, 0.75)\">4</th><td class=\"tdhistory695978\">C561590</td><td class=\"tdhistory695978\">84968A</td><td class=\"tdhistory695978\">SET OF 16 VINTAGE ROSE CUTLERY</td><td class=\"tdhistory695978\">-2</td><td class=\"tdhistory695978\">2011-07-28 11:16:00.000000</td><td class=\"tdhistory695978\">12.75</td><td class=\"tdhistory695978\">18268</td><td class=\"tdhistory695978\">United Kingdom</td></tr><tr><th class=\"tdhistory695978\" style= \"background: rgba(243, 243, 243, 0.75)\">5</th><td class=\"tdhistory695978\">561680</td><td class=\"tdhistory695978\">84968A</td><td class=\"tdhistory695978\">SET OF 16 VINTAGE ROSE CUTLERY</td><td class=\"tdhistory695978\">2</td><td class=\"tdhistory695978\">2011-07-28 19:13:00.000000</td><td class=\"tdhistory695978\">12.75</td><td class=\"tdhistory695978\">18268</td><td class=\"tdhistory695978\">United Kingdom</td></tr></tbody></table></div>"
      ]
     },
     "execution_count": 24,
     "metadata": {
      "application/vnd.teradata.resultset": "{\"resultSetID\":\"/home/jovyan/JupyterLabRoot/Teradata/Resultsets/2024.09.06_05.01.01.287_UTC\",\"historyID\":191,\"chunkID\":\"00001\",\"sessionid\":\"\",\"portnum\":\"\",\"dockermode\":\"docker\",\"totalRowCount\":5,\"chunkCount\":0,\"rowLimit\":0,\"columnMetadata\":[{\"columnName\":\"InvoiceNo\",\"columnTypeName\":\"VARCHAR\",\"length\":10,\"scale\":10},{\"columnNumber\":1,\"columnName\":\"StockCode\",\"columnTypeName\":\"VARCHAR\",\"length\":10,\"scale\":10},{\"columnNumber\":2,\"columnName\":\"Description\",\"columnTypeName\":\"VARCHAR\",\"length\":40,\"scale\":40},{\"columnNumber\":3,\"columnName\":\"Quantity\",\"columnTypeName\":\"BIGINT\"},{\"columnNumber\":4,\"columnName\":\"InvoiceDate\",\"columnTypeName\":\"TIMESTAMP\",\"length\":6,\"scale\":6},{\"columnNumber\":5,\"columnName\":\"UnitPrice\",\"columnTypeName\":\"FLOAT\"},{\"columnNumber\":6,\"columnName\":\"CustomerID\",\"columnTypeName\":\"FLOAT\"},{\"columnNumber\":7,\"columnName\":\"Country\",\"columnTypeName\":\"VARCHAR\",\"length\":25,\"scale\":25}]}"
     },
     "output_type": "execute_result"
    }
   ],
   "source": [
    "SELECT TOP 5 * FROM UK_Retail_Test_V;"
   ]
  },
  {
   "cell_type": "code",
   "execution_count": 25,
   "id": "11dd053c",
   "metadata": {},
   "outputs": [
    {
     "data": {
      "text/plain": [
       "Success: 0 rows affected"
      ]
     },
     "execution_count": 25,
     "metadata": {
      "application/vnd.teradata.resultset": ""
     },
     "output_type": "execute_result"
    }
   ],
   "source": [
    "-- Steps broken up above can be put together into a single query\n",
    "\n",
    "REPLACE VIEW Scaled_Transformed_Test_V AS (\n",
    "    \n",
    "SELECT * FROM TD_ColumnTransformer(\n",
    "            -- Use our groupby inside the ON clause\n",
    "            ON (SELECT CustomerID,\n",
    "                    SUM(quantity) AS TotalQuantity , \n",
    "                    SUM(UnitPrice) AS TotalPrice, \n",
    "                    COUNT(DISTINCT(StockCode)) AS TotalItems\n",
    "                FROM UK_Retail_Test_V\n",
    "                GROUP BY CustomerID\n",
    "                ) AS InputTable\n",
    "            \n",
    "            -- Pass each fit table from above as dimensions\n",
    "            ON OutlierFit_CS AS OutlierFilterFitTable DIMENSION\n",
    "            ON ImputeFit_CS AS SimpleImputeFitTable DIMENSION\n",
    "            ON NonLinearCombineFit_CS_TotalSales AS NonLinearCombineFitTable DIMENSION\n",
    "            ON NonLinearCombineFit_CS_SalesPerItem AS NonLinearCombineFitTable DIMENSION\n",
    "            ON ScaleFit_CS as ScaleFitTable DIMENSION\n",
    "    ) AS dt\n",
    ")"
   ]
  },
  {
   "cell_type": "code",
   "execution_count": 26,
   "id": "1e4d5980",
   "metadata": {},
   "outputs": [
    {
     "data": {
      "application/vnd.teradata.resultset": "\"CustomerID\",\"TotalQuantity\",\"TotalPrice\",\"TotalItems\",\"TotalSales\",\"SalesPerItem\"\n\"12503\",\"0.07145850796311819\",\"0.8714794078942247\",\"0\",\"0.07142986179406546\",\"0.7404291748208798\"\n\"12908\",\"0.07145850796311819\",\"0.09520490877802265\",\"0.0002707092582566324\",\"0.008156920209762424\",\"0.04241986236899423\"\n\"17307\",\"0.07145850796311819\",\"0.09520490877802265\",\"0\",\"0.008156920209762424\",\"0.08486269785597869\"\n\"13693\",\"0.07145850796311819\",\"0.01189818023251287\",\"0.0008121277747698972\",\"0.001366716776774995\",\"0.0036102401301112232\"\n\"18268\",\"0.07145850796311819\",\"0.01454568106959034\",\"0\",\"0.0015825105018033377\",\"0.01674570341170885\"",
      "text/html": [
       "<div class = \"td-resultset-table-div\" style = \"max-height: 100%; overflow-y: auto\">\n",
       "      <table class=\"tdhistory373278\"><style>\n",
       "      table.tdhistory373278 { display: block !important; min-height: 189px !important; overflow: auto !important; height: 189px !important; width: 100% !important; border: 1px solid rgb(207, 207, 207) !important; border-collapse: collapse !important; ; color: var(--jp-ui-font-color1) !important; }\n",
       "      th.tdhistory373278 { border: 1px solid rgb(198,198,198) !important; border-collapse: collapse !important; ; padding: 2px 5px !important; ; font-size: 13px !important; ; text-align: center !important; white-space: normal !important; color: var(--jp-ui-font-color1) !important; }\n",
       "      th.tdhistory373278:last-child { text-align: left !important; }\n",
       "      tbody.tdhistory373278 tr:nth-child(even) { background: rgba(243, 243, 243, 0.75) !important; }\n",
       "      tbody.tdhistory373278 tr:nth-child(odd) { background: var(--jp-ui-inverse-font-color1) !important; }\n",
       "      td.tdhistory373278 { border: 1px solid rgb(207, 207, 207) !important; border-collapse: collapse !important; ; padding: 2px 5px !important; ; font-size: 13px !important; ; text-align: left !important;          white-space: nowrap !important; overflow:hidden !important; text-overflow:ellipsis !important;; }\n",
       "    </style><thead><tr style= \"background: rgba(243, 243, 243, 0.75)\"><th class=\"tdhistory373278\"></th><th class=\"tdhistory373278\">CustomerID</th><th class=\"tdhistory373278\">TotalQuantity</th><th class=\"tdhistory373278\">TotalPrice</th><th class=\"tdhistory373278\">TotalItems</th><th class=\"tdhistory373278\">TotalSales</th><th class=\"tdhistory373278\">SalesPerItem</th></tr></thead><tbody class=\"tdhistory373278 resultset-body\"><tr><th class=\"tdhistory373278\" style= \"background: rgba(243, 243, 243, 0.75)\">1</th><td class=\"tdhistory373278\">12503</td><td class=\"tdhistory373278\">0.07145850796311819</td><td class=\"tdhistory373278\">0.8714794078942247</td><td class=\"tdhistory373278\">0</td><td class=\"tdhistory373278\">0.07142986179406546</td><td class=\"tdhistory373278\">0.7404291748208798</td></tr><tr><th class=\"tdhistory373278\" style= \"background: rgba(243, 243, 243, 0.75)\">2</th><td class=\"tdhistory373278\">12908</td><td class=\"tdhistory373278\">0.07145850796311819</td><td class=\"tdhistory373278\">0.09520490877802265</td><td class=\"tdhistory373278\">0.0002707092582566324</td><td class=\"tdhistory373278\">0.008156920209762424</td><td class=\"tdhistory373278\">0.04241986236899423</td></tr><tr><th class=\"tdhistory373278\" style= \"background: rgba(243, 243, 243, 0.75)\">3</th><td class=\"tdhistory373278\">17307</td><td class=\"tdhistory373278\">0.07145850796311819</td><td class=\"tdhistory373278\">0.09520490877802265</td><td class=\"tdhistory373278\">0</td><td class=\"tdhistory373278\">0.008156920209762424</td><td class=\"tdhistory373278\">0.08486269785597869</td></tr><tr><th class=\"tdhistory373278\" style= \"background: rgba(243, 243, 243, 0.75)\">4</th><td class=\"tdhistory373278\">13693</td><td class=\"tdhistory373278\">0.07145850796311819</td><td class=\"tdhistory373278\">0.01189818023251287</td><td class=\"tdhistory373278\">0.0008121277747698972</td><td class=\"tdhistory373278\">0.001366716776774995</td><td class=\"tdhistory373278\">0.0036102401301112232</td></tr><tr><th class=\"tdhistory373278\" style= \"background: rgba(243, 243, 243, 0.75)\">5</th><td class=\"tdhistory373278\">18268</td><td class=\"tdhistory373278\">0.07145850796311819</td><td class=\"tdhistory373278\">0.01454568106959034</td><td class=\"tdhistory373278\">0</td><td class=\"tdhistory373278\">0.0015825105018033377</td><td class=\"tdhistory373278\">0.01674570341170885</td></tr></tbody></table></div>"
      ]
     },
     "execution_count": 26,
     "metadata": {
      "application/vnd.teradata.resultset": "{\"resultSetID\":\"/home/jovyan/JupyterLabRoot/Teradata/Resultsets/2024.09.06_05.01.02.209_UTC\",\"historyID\":193,\"chunkID\":\"00001\",\"sessionid\":\"\",\"portnum\":\"\",\"dockermode\":\"docker\",\"totalRowCount\":5,\"chunkCount\":0,\"rowLimit\":0,\"columnMetadata\":[{\"columnName\":\"CustomerID\",\"columnTypeName\":\"FLOAT\"},{\"columnNumber\":1,\"columnName\":\"TotalQuantity\",\"columnTypeName\":\"FLOAT\"},{\"columnNumber\":2,\"columnName\":\"TotalPrice\",\"columnTypeName\":\"FLOAT\"},{\"columnNumber\":3,\"columnName\":\"TotalItems\",\"columnTypeName\":\"FLOAT\"},{\"columnNumber\":4,\"columnName\":\"TotalSales\",\"columnTypeName\":\"FLOAT\"},{\"columnNumber\":5,\"columnName\":\"SalesPerItem\",\"columnTypeName\":\"FLOAT\"}]}"
     },
     "output_type": "execute_result"
    }
   ],
   "source": [
    "SELECT TOP 5 * FROM Scaled_Transformed_Test_V;"
   ]
  },
  {
   "cell_type": "markdown",
   "id": "ddce515c",
   "metadata": {},
   "source": [
    "<hr style=\"height:2px;border:none;background-color:#00233C;\">\n",
    "<p style = 'font-size:20px;font-family:Arial;color:#00233C'><b>6. Predict and Evaluate</b></p>\n",
    "\n",
    "<p style = 'font-size:16px;font-family:Arial;color:#00233C'>Finally, we run the model against new (in this case testing) data using <a href = 'https://docs.teradata.com/search/all?query=TD_KMeansPredict&content-lang=en-US'>TD_KMeansPredict</a>.  The preparation step has been completed in a single query above.  Additionally, we will use an evaluation function <a href = 'https://docs.teradata.com/search/all?query=TD_Silhouette&content-lang=en-US'>TD_Silhouette</a> to analyze how well the new cluster predictions match the original model.</p>\n",
    "\n",
    "<ol style = 'font-size:16px;font-family:Arial;color:#00233C'>\n",
    "    <li>Call TD_KMeansPredict</li>\n",
    "    <li>Inpect the results</li>\n",
    "    <li>Call TD_Silhouette on the output</li>\n",
    "    </ol>"
   ]
  },
  {
   "cell_type": "markdown",
   "id": "a056326b-e80d-4655-96c3-bfa3e6bba20b",
   "metadata": {},
   "source": [
    "<hr style=\"height:1px;border:none;background-color:#00233C;\">"
   ]
  },
  {
   "cell_type": "markdown",
   "id": "bbd8c482",
   "metadata": {},
   "source": [
    "<p style = 'font-size:20px;font-family:Arial;color:#00233C'><b>6.1 Call the Prediction Function</b></p>\n",
    "\n",
    "<p style = 'font-size:16px;font-family:Arial;color:#00233C'>Pass the Input Data, Model Table, and other parameters including columns to accumulate.  Note here we create a new View to assist with Silhouette analysis of the prediction.</p>"
   ]
  },
  {
   "cell_type": "code",
   "execution_count": 27,
   "id": "0508b593",
   "metadata": {},
   "outputs": [
    {
     "data": {
      "text/plain": [
       "Success: 0 rows affected"
      ]
     },
     "execution_count": 27,
     "metadata": {
      "application/vnd.teradata.resultset": ""
     },
     "output_type": "execute_result"
    }
   ],
   "source": [
    "REPLACE VIEW KMeans_Output_V AS (\n",
    "    SELECT * FROM TD_KMeansPredict (\n",
    "        ON Scaled_Transformed_Test_V AS InputTable\n",
    "        ON KMeans_Model as ModelTable DIMENSION\n",
    "        USING\n",
    "            OutputDistance('true')\n",
    "            Accumulate('[1:5]')\n",
    "    ) AS dt\n",
    ")"
   ]
  },
  {
   "cell_type": "markdown",
   "id": "372fcd7c-63aa-4863-81e1-ea409e305190",
   "metadata": {},
   "source": [
    "<hr style=\"height:1px;border:none;background-color:#00233C;\">"
   ]
  },
  {
   "cell_type": "markdown",
   "id": "425d8e7e",
   "metadata": {},
   "source": [
    "<p style = 'font-size:18px;font-family:Arial;color:#00233C'><b>6.2 Inspect the Results</b></p>\n",
    "\n",
    "<p style = 'font-size:16px;font-family:Arial;color:#00233C'>Simple SELECT on the output view will show us the results</p>"
   ]
  },
  {
   "cell_type": "code",
   "execution_count": 28,
   "id": "7b242c95",
   "metadata": {},
   "outputs": [
    {
     "data": {
      "application/vnd.teradata.resultset": "\"CustomerID\",\"td_clusterid_kmeans\",\"td_distance_kmeans\",\"TotalQuantity\",\"TotalPrice\",\"TotalItems\",\"TotalSales\",\"SalesPerItem\"\n\"12503\",\"1\",\"0.8209881058868835\",\"0.07145850796311819\",\"0.8714794078942247\",\"0\",\"0.07142986179406546\",\"0.7404291748208798\"\n\"12908\",\"2\",\"0.06181454481197367\",\"0.07145850796311819\",\"0.09520490877802265\",\"0.0002707092582566324\",\"0.008156920209762424\",\"0.04241986236899423\"\n\"17307\",\"2\",\"0.0945367698347484\",\"0.07145850796311819\",\"0.09520490877802265\",\"0\",\"0.008156920209762424\",\"0.08486269785597869\"\n\"13693\",\"2\",\"0.05012236609239767\",\"0.07145850796311819\",\"0.011898180232512868\",\"0.0008121277747698972\",\"0.0013667167767749948\",\"0.0036102401301112224\"\n\"18268\",\"2\",\"0.04979039205283805\",\"0.07145850796311819\",\"0.01454568106959034\",\"0\",\"0.0015825105018033377\",\"0.01674570341170885\"",
      "text/html": [
       "<div class = \"td-resultset-table-div\" style = \"max-height: 100%; overflow-y: auto\">\n",
       "      <table class=\"tdhistory180257\"><style>\n",
       "      table.tdhistory180257 { display: block !important; min-height: 189px !important; overflow: auto !important; height: 189px !important; width: 100% !important; border: 1px solid rgb(207, 207, 207) !important; border-collapse: collapse !important; ; color: var(--jp-ui-font-color1) !important; }\n",
       "      th.tdhistory180257 { border: 1px solid rgb(198,198,198) !important; border-collapse: collapse !important; ; padding: 2px 5px !important; ; font-size: 13px !important; ; text-align: center !important; white-space: normal !important; color: var(--jp-ui-font-color1) !important; }\n",
       "      th.tdhistory180257:last-child { text-align: left !important; }\n",
       "      tbody.tdhistory180257 tr:nth-child(even) { background: rgba(243, 243, 243, 0.75) !important; }\n",
       "      tbody.tdhistory180257 tr:nth-child(odd) { background: var(--jp-ui-inverse-font-color1) !important; }\n",
       "      td.tdhistory180257 { border: 1px solid rgb(207, 207, 207) !important; border-collapse: collapse !important; ; padding: 2px 5px !important; ; font-size: 13px !important; ; text-align: left !important;          white-space: nowrap !important; overflow:hidden !important; text-overflow:ellipsis !important;; }\n",
       "    </style><thead><tr style= \"background: rgba(243, 243, 243, 0.75)\"><th class=\"tdhistory180257\"></th><th class=\"tdhistory180257\">CustomerID</th><th class=\"tdhistory180257\">td_clusterid_kmeans</th><th class=\"tdhistory180257\">td_distance_kmeans</th><th class=\"tdhistory180257\">TotalQuantity</th><th class=\"tdhistory180257\">TotalPrice</th><th class=\"tdhistory180257\">TotalItems</th><th class=\"tdhistory180257\">TotalSales</th><th class=\"tdhistory180257\">SalesPerItem</th></tr></thead><tbody class=\"tdhistory180257 resultset-body\"><tr><th class=\"tdhistory180257\" style= \"background: rgba(243, 243, 243, 0.75)\">1</th><td class=\"tdhistory180257\">12503</td><td class=\"tdhistory180257\">1</td><td class=\"tdhistory180257\">0.8209881058868835</td><td class=\"tdhistory180257\">0.07145850796311819</td><td class=\"tdhistory180257\">0.8714794078942247</td><td class=\"tdhistory180257\">0</td><td class=\"tdhistory180257\">0.07142986179406546</td><td class=\"tdhistory180257\">0.7404291748208798</td></tr><tr><th class=\"tdhistory180257\" style= \"background: rgba(243, 243, 243, 0.75)\">2</th><td class=\"tdhistory180257\">12908</td><td class=\"tdhistory180257\">2</td><td class=\"tdhistory180257\">0.06181454481197367</td><td class=\"tdhistory180257\">0.07145850796311819</td><td class=\"tdhistory180257\">0.09520490877802265</td><td class=\"tdhistory180257\">0.0002707092582566324</td><td class=\"tdhistory180257\">0.008156920209762424</td><td class=\"tdhistory180257\">0.04241986236899423</td></tr><tr><th class=\"tdhistory180257\" style= \"background: rgba(243, 243, 243, 0.75)\">3</th><td class=\"tdhistory180257\">17307</td><td class=\"tdhistory180257\">2</td><td class=\"tdhistory180257\">0.0945367698347484</td><td class=\"tdhistory180257\">0.07145850796311819</td><td class=\"tdhistory180257\">0.09520490877802265</td><td class=\"tdhistory180257\">0</td><td class=\"tdhistory180257\">0.008156920209762424</td><td class=\"tdhistory180257\">0.08486269785597869</td></tr><tr><th class=\"tdhistory180257\" style= \"background: rgba(243, 243, 243, 0.75)\">4</th><td class=\"tdhistory180257\">13693</td><td class=\"tdhistory180257\">2</td><td class=\"tdhistory180257\">0.05012236609239767</td><td class=\"tdhistory180257\">0.07145850796311819</td><td class=\"tdhistory180257\">0.011898180232512868</td><td class=\"tdhistory180257\">0.0008121277747698972</td><td class=\"tdhistory180257\">0.0013667167767749948</td><td class=\"tdhistory180257\">0.0036102401301112224</td></tr><tr><th class=\"tdhistory180257\" style= \"background: rgba(243, 243, 243, 0.75)\">5</th><td class=\"tdhistory180257\">18268</td><td class=\"tdhistory180257\">2</td><td class=\"tdhistory180257\">0.04979039205283805</td><td class=\"tdhistory180257\">0.07145850796311819</td><td class=\"tdhistory180257\">0.01454568106959034</td><td class=\"tdhistory180257\">0</td><td class=\"tdhistory180257\">0.0015825105018033377</td><td class=\"tdhistory180257\">0.01674570341170885</td></tr></tbody></table></div>"
      ]
     },
     "execution_count": 28,
     "metadata": {
      "application/vnd.teradata.resultset": "{\"resultSetID\":\"/home/jovyan/JupyterLabRoot/Teradata/Resultsets/2024.09.06_05.01.03.211_UTC\",\"historyID\":195,\"chunkID\":\"00001\",\"sessionid\":\"\",\"portnum\":\"\",\"dockermode\":\"docker\",\"totalRowCount\":5,\"chunkCount\":0,\"rowLimit\":0,\"columnMetadata\":[{\"columnName\":\"CustomerID\",\"columnTypeName\":\"FLOAT\"},{\"columnNumber\":1,\"columnName\":\"td_clusterid_kmeans\",\"columnTypeName\":\"BIGINT\"},{\"columnNumber\":2,\"columnName\":\"td_distance_kmeans\",\"columnTypeName\":\"FLOAT\"},{\"columnNumber\":3,\"columnName\":\"TotalQuantity\",\"columnTypeName\":\"FLOAT\"},{\"columnNumber\":4,\"columnName\":\"TotalPrice\",\"columnTypeName\":\"FLOAT\"},{\"columnNumber\":5,\"columnName\":\"TotalItems\",\"columnTypeName\":\"FLOAT\"},{\"columnNumber\":6,\"columnName\":\"TotalSales\",\"columnTypeName\":\"FLOAT\"},{\"columnNumber\":7,\"columnName\":\"SalesPerItem\",\"columnTypeName\":\"FLOAT\"}]}"
     },
     "output_type": "execute_result"
    }
   ],
   "source": [
    "SELECT TOP 5 * FROM KMeans_Output_V;"
   ]
  },
  {
   "cell_type": "markdown",
   "id": "31622174-0e43-47a6-8ac4-574e49c20969",
   "metadata": {},
   "source": [
    "<hr style=\"height:1px;border:none;background-color:#00233C;\">"
   ]
  },
  {
   "cell_type": "markdown",
   "id": "7b3b1ebf",
   "metadata": {},
   "source": [
    "<p style = 'font-size:20px;font-family:Arial;color:#00233C'><b>6.3 Evaluate the Prediction</b></p>\n",
    "\n",
    "<p style = 'font-size:16px;font-family:Arial;color:#00233C'><a href = 'https://docs.teradata.com/search/all?query=TD_Silhouette&content-lang=en-US'>TD_Silhouette</a> is a native Vantage function that evaluates the similarity of an object to its cluster (cohesion) compared to other clusters (separation).  The silhouette scores and its definitions are as follows:</p>\n",
    "\n",
    "<ul style = 'font-size:16px;font-family:Arial;color:#00233C'>\n",
    "    <li>1: Data is appropriately clustered</li>\n",
    "    <li>-1: Data is not appropriately clustered</li>\n",
    "    <li>0: Datum is on the border of two natural clusters</li>\n",
    "    </ul>\n",
    "\n",
    "<p style = 'font-size:16px;font-family:Arial;color:#00233C'>See the documentation for a full listing of parameters and return values.</p>"
   ]
  },
  {
   "cell_type": "code",
   "execution_count": 29,
   "id": "abf6fee1",
   "metadata": {},
   "outputs": [
    {
     "data": {
      "application/vnd.teradata.resultset": "\"silhouette_score\"\n\"0.7435035095255595\"",
      "text/html": [
       "<div class = \"td-resultset-table-div\" style = \"max-height: 100%; overflow-y: auto\">\n",
       "      <table class=\"tdhistory125653\"><style>\n",
       "      table.tdhistory125653 { display: block !important; min-height: 105px !important; overflow: auto !important; height: 105px !important; width: 100% !important; border: 1px solid rgb(207, 207, 207) !important; border-collapse: collapse !important; ; color: var(--jp-ui-font-color1) !important; }\n",
       "      th.tdhistory125653 { border: 1px solid rgb(198,198,198) !important; border-collapse: collapse !important; ; padding: 2px 5px !important; ; font-size: 13px !important; ; text-align: center !important; white-space: normal !important; color: var(--jp-ui-font-color1) !important; }\n",
       "      th.tdhistory125653:last-child { text-align: left !important; }\n",
       "      tbody.tdhistory125653 tr:nth-child(even) { background: rgba(243, 243, 243, 0.75) !important; }\n",
       "      tbody.tdhistory125653 tr:nth-child(odd) { background: var(--jp-ui-inverse-font-color1) !important; }\n",
       "      td.tdhistory125653 { border: 1px solid rgb(207, 207, 207) !important; border-collapse: collapse !important; ; padding: 2px 5px !important; ; font-size: 13px !important; ; text-align: left !important;          white-space: nowrap !important; overflow:hidden !important; text-overflow:ellipsis !important;; }\n",
       "    </style><thead><tr style= \"background: rgba(243, 243, 243, 0.75)\"><th class=\"tdhistory125653\"></th><th class=\"tdhistory125653\">silhouette_score</th></tr></thead><tbody class=\"tdhistory125653 resultset-body\"><tr><th class=\"tdhistory125653\" style= \"background: rgba(243, 243, 243, 0.75)\">1</th><td class=\"tdhistory125653\">0.7435035095255595</td></tr></tbody></table></div>"
      ]
     },
     "execution_count": 29,
     "metadata": {
      "application/vnd.teradata.resultset": "{\"resultSetID\":\"/home/jovyan/JupyterLabRoot/Teradata/Resultsets/2024.09.06_05.01.04.855_UTC\",\"historyID\":196,\"chunkID\":\"00001\",\"sessionid\":\"\",\"portnum\":\"\",\"dockermode\":\"docker\",\"totalRowCount\":1,\"chunkCount\":0,\"rowLimit\":0,\"columnMetadata\":[{\"columnName\":\"silhouette_score\",\"columnTypeName\":\"FLOAT\"}]}"
     },
     "output_type": "execute_result"
    }
   ],
   "source": [
    "SELECT * FROM TD_Silhouette(\n",
    "    ON KMeans_Output_V AS inputTable\n",
    "    USING\n",
    "        IdColumn('CustomerID')\n",
    "        ClusterIdColumn('td_clusterid_kmeans')\n",
    "        TargetColumns('[3:7]')\n",
    "        OutputType('SCORE')\n",
    ") AS dt;"
   ]
  },
  {
   "cell_type": "markdown",
   "id": "6e3c45e9",
   "metadata": {},
   "source": [
    "<hr style=\"height:2px;border:none;background-color:#00233C;\">\n",
    "<p style = 'font-size:20px;font-family:Arial;color:#00233C'><b>7. Clean up</b></p>\n",
    "<p style = 'font-size:18px;font-family:Arial;color:#00233C'><b>Worktables</b></p>"
   ]
  },
  {
   "cell_type": "code",
   "execution_count": 30,
   "id": "6abb9da1",
   "metadata": {},
   "outputs": [
    {
     "data": {
      "text/plain": [
       "Success: 14 rows affected"
      ]
     },
     "execution_count": 30,
     "metadata": {
      "application/vnd.teradata.resultset": ""
     },
     "output_type": "execute_result"
    }
   ],
   "source": [
    "DROP VIEW UK_Retail_Test_V;"
   ]
  },
  {
   "cell_type": "code",
   "execution_count": 31,
   "id": "b528cd76",
   "metadata": {},
   "outputs": [
    {
     "data": {
      "text/plain": [
       "Success: 10 rows affected"
      ]
     },
     "execution_count": 31,
     "metadata": {
      "application/vnd.teradata.resultset": ""
     },
     "output_type": "execute_result"
    }
   ],
   "source": [
    "DROP VIEW Customer_ID_Group_V;"
   ]
  },
  {
   "cell_type": "code",
   "execution_count": 32,
   "id": "b3de98b6",
   "metadata": {},
   "outputs": [
    {
     "data": {
      "text/plain": [
       "Success: 23 rows affected"
      ]
     },
     "execution_count": 32,
     "metadata": {
      "application/vnd.teradata.resultset": ""
     },
     "output_type": "execute_result"
    }
   ],
   "source": [
    "DROP TABLE KMeans_Model;"
   ]
  },
  {
   "cell_type": "code",
   "execution_count": 33,
   "id": "98583a63-1ad3-42b6-88f2-5cf490cae4d3",
   "metadata": {},
   "outputs": [
    {
     "data": {
      "text/plain": [
       "Success: 12 rows affected"
      ]
     },
     "execution_count": 33,
     "metadata": {
      "application/vnd.teradata.resultset": ""
     },
     "output_type": "execute_result"
    }
   ],
   "source": [
    "DROP VIEW Scaled_Transformed_Test_V;"
   ]
  },
  {
   "cell_type": "code",
   "execution_count": 34,
   "id": "8e840190-7fdd-4fc4-a232-f61bc94699b5",
   "metadata": {},
   "outputs": [
    {
     "data": {
      "text/plain": [
       "Success: 14 rows affected"
      ]
     },
     "execution_count": 34,
     "metadata": {
      "application/vnd.teradata.resultset": ""
     },
     "output_type": "execute_result"
    }
   ],
   "source": [
    "DROP VIEW KMeans_Output_V;"
   ]
  },
  {
   "cell_type": "markdown",
   "id": "ad5faff7-098d-47e5-aedc-b1c404065d26",
   "metadata": {},
   "source": [
    "<p style = 'font-size:20px;font-family:Arial;color:#00233C'> <b>Database and Tables </b></p>\n",
    "<p style = 'font-size:16px;font-family:Arial;color:#00233C'>The following code will clean up tables and databases created above.</p>"
   ]
  },
  {
   "cell_type": "code",
   "execution_count": 35,
   "id": "fbf5f8df-ad8e-483d-951f-4339b567be1e",
   "metadata": {},
   "outputs": [
    {
     "data": {
      "text/plain": [
       "Success: 0 rows affected"
      ]
     },
     "execution_count": 35,
     "metadata": {
      "application/vnd.teradata.resultset": ""
     },
     "output_type": "execute_result"
    },
    {
     "data": {
      "text/plain": [
       "Success: 0 rows affected"
      ]
     },
     "execution_count": 35,
     "metadata": {
      "application/vnd.teradata.resultset": ""
     },
     "output_type": "execute_result"
    },
    {
     "data": {
      "application/vnd.teradata.resultset": "\"Message\"\n\"Removed objects related to DEMO_Retail. That ran for 0:00:14.04\"",
      "text/html": [
       "<div class = \"td-resultset-table-div\" style = \"max-height: 100%; overflow-y: auto\">\n",
       "      <table class=\"tdhistory977769\"><style>\n",
       "      table.tdhistory977769 { display: block !important; min-height: 105px !important; overflow: auto !important; height: 105px !important; width: 100% !important; border: 1px solid rgb(207, 207, 207) !important; border-collapse: collapse !important; ; color: var(--jp-ui-font-color1) !important; }\n",
       "      th.tdhistory977769 { border: 1px solid rgb(198,198,198) !important; border-collapse: collapse !important; ; padding: 2px 5px !important; ; font-size: 13px !important; ; text-align: center !important; white-space: normal !important; color: var(--jp-ui-font-color1) !important; }\n",
       "      th.tdhistory977769:last-child { text-align: left !important; }\n",
       "      tbody.tdhistory977769 tr:nth-child(even) { background: rgba(243, 243, 243, 0.75) !important; }\n",
       "      tbody.tdhistory977769 tr:nth-child(odd) { background: var(--jp-ui-inverse-font-color1) !important; }\n",
       "      td.tdhistory977769 { border: 1px solid rgb(207, 207, 207) !important; border-collapse: collapse !important; ; padding: 2px 5px !important; ; font-size: 13px !important; ; text-align: left !important;          white-space: nowrap !important; overflow:hidden !important; text-overflow:ellipsis !important;; }\n",
       "    </style><thead><tr style= \"background: rgba(243, 243, 243, 0.75)\"><th class=\"tdhistory977769\"></th><th class=\"tdhistory977769\">Message</th></tr></thead><tbody class=\"tdhistory977769 resultset-body\"><tr><th class=\"tdhistory977769\" style= \"background: rgba(243, 243, 243, 0.75)\">1</th><td class=\"tdhistory977769\">Removed objects related to DEMO_Retail. That ran for 0:00:14.04</td></tr></tbody></table></div>"
      ]
     },
     "execution_count": 35,
     "metadata": {
      "application/vnd.teradata.resultset": "{\"resultSetID\":\"/home/jovyan/JupyterLabRoot/Teradata/Resultsets/2024.09.06_05.01.19.873_UTC\",\"historyID\":202,\"chunkID\":\"00001\",\"sessionid\":\"\",\"portnum\":\"\",\"dockermode\":\"docker\",\"totalRowCount\":1,\"chunkCount\":0,\"rowLimit\":0,\"columnMetadata\":[{\"columnName\":\"Message\",\"columnTypeName\":\"VARCHAR\",\"length\":65,\"scale\":65}]}"
     },
     "output_type": "execute_result"
    }
   ],
   "source": [
    "call remove_data('DEMO_Retail');    -- takes about 5 seconds, optional if you want to use the data later"
   ]
  },
  {
   "cell_type": "markdown",
   "id": "1eeef016-05c7-45e4-af12-3bcf958f13b3",
   "metadata": {},
   "source": [
    "<hr style=\"height:2px;border:none;background-color:#00233C;\">\n",
    "<p style = 'font-size:20px;font-family:Arial;color:#00233C'> <b> 8. Conclusion </b> </p>\n",
    "<p style = 'font-size:16px;font-family:Arial;color:#00233C'>In this notebook we have seen some of the Teradata Vantage Clearscape's new inDb functions and how we can create k clustering model from the transformed data.</p>"
   ]
  },
  {
   "cell_type": "markdown",
   "id": "56d2506b-0db7-4aeb-9b52-40af76e4201a",
   "metadata": {},
   "source": [
    "<p style = 'font-size:20px;font-family:Arial;color:#00233C'><b>Reference Links:</b></p>\n",
    "<ul style = 'font-size:16px;font-family:Arial;color:#00233C'>\n",
    "        <li>Teradata Analytic Function Reference:\n",
    "        <a href = 'https://docs.teradata.com/r/Teradata-VantageCloud-Lake/Analyzing-Your-Data/Analytics-Database-Analytic-Functions/Analytics-Database-Analytic-Functions-Overview'>\n",
    "        https://docs.teradata.com/r/Teradata-VantageCloud-Lake/Analyzing-Your-Data/Analytics-Database-Analytic-Functions/Analytics-Database-Analytic-Functions-Overview</a></li>\n",
    "  \n",
    "</ul>"
   ]
  },
  {
   "cell_type": "markdown",
   "id": "e439c913-9462-4bd4-aaec-51563ab81fa6",
   "metadata": {},
   "source": [
    "<footer style=\"padding-bottom:35px; background:#f9f9f9; border-bottom:3px solid #00233C\">\n",
    "    <div style=\"float:left;margin-top:14px\">ClearScape Analytics™</div>\n",
    "    <div style=\"float:right;\">\n",
    "        <div style=\"float:left; margin-top:14px\">\n",
    "            Copyright © Teradata Corporation - 2023. All Rights Reserved\n",
    "        </div>\n",
    "    </div>\n",
    "</footer>"
   ]
  }
 ],
 "metadata": {
  "kernelspec": {
   "display_name": "Teradata SQL",
   "language": "Teradata SQL",
   "name": "teradatasql"
  },
  "language_info": {
   "codemirror_mode": "Teradata SQL",
   "file_extension": ".tdrs",
   "mimetype": "application/vnd.teradata.resultset",
   "name": "Teradata SQL",
   "nbconvert_exporter": "",
   "pygments_lexer": "",
   "version": "16.20"
  },
  "toc-showmarkdowntxt": true
 },
 "nbformat": 4,
 "nbformat_minor": 5
}
