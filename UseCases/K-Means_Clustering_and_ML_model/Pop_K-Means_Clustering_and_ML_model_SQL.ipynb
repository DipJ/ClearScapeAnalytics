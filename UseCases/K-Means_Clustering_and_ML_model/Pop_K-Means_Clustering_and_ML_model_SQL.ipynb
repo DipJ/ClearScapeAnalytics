{
 "cells": [
  {
   "cell_type": "markdown",
   "id": "221b5b2a",
   "metadata": {},
   "source": [
    "<header>\n",
    "   <p  style='font-size:36px;font-family:Arial; color:#F0F0F0; background-color: #00233c; padding-left: 20pt; padding-top: 20pt;padding-bottom: 10pt; padding-right: 20pt;'>\n",
    "       Customer Segmentation with K-means Clustering and Data Preparation Piplelines\n",
    "  <br>\n",
    "       <img id=\"teradata-logo\" src=\"https://storage.googleapis.com/clearscape_analytics_demo_data/DEMO_Logo/teradata.svg\" alt=\"Teradata\" style=\"width: 125px; height: auto; margin-top: 20pt;\">\n",
    "    </p>\n",
    "</header>"
   ]
  },
  {
   "cell_type": "markdown",
   "id": "db3c9b69-2ca6-4e86-84ec-31d4af2b7432",
   "metadata": {},
   "source": [
    "<p style = 'font-size:20px;font-family:Arial;color:#00233C'><b>Introduction</b></p>"
   ]
  },
  {
   "cell_type": "markdown",
   "id": "7f6fb360",
   "metadata": {},
   "source": [
    "<b style = 'font-size:20px;font-family:Arial;'>Leverage native Vantage processing for efficient and highly scalable data preparation, model training, and evaluation workflows</b>\n",
    "\n",
    "<p style = 'font-size:16px;font-family:Arial;color:#00233C'>K-means clustering is one of the most popular <b>unsupervised</b> machine learning algorithms.  Essentially, the algorithm seeks to group similar data points together by minimizing the average (\"means\" in K-means) distance for all data points from each cluster's center (centroid).</p>\n",
    "\n",
    "<table style = 'width:100%;table-layout:fixed;'>\n",
    "    <tr>\n",
    "        <td style = 'vertical-align:top' width = '50%'>\n",
    "            <ol style = 'font-size:16px;font-family:Arial;color:#00233C'>\n",
    "                <li>Define the number of clusters (k)</li>\n",
    "                <br>\n",
    "                <li>The algorithm chooses random points as centroids</li>\n",
    "                <br>\n",
    "                <li>Each iteration attempts to optimize the centroid locations</li>\n",
    "                <br>\n",
    "                <li>Iterations end once the distances have stabilized or the max iteration count is reached</li>\n",
    "            </ol>\n",
    "        </td>\n",
    "        <td><img src = 'images/K-means_convergence.gif' width = '250'></td>\n",
    "    </tr>\n",
    "</table>\n",
    "\n",
    "<p style = 'font-size:16px;font-family:Arial;color:#00233C'>One limitation of this algorithm is that it only accepts numeric data as feature input (categorical clustering can be performed using K-modes algorithm).  Typically, data engineers or data scientists will perform multiple <b>serial</b> steps to prepare a numeric-only data set that can be passed to the K-means algorithm.</p>\n",
    "\n",
    "<p style = 'font-size:16px;font-family:Arial;color:#00233C'>Vantage provides native \"Fit and Transform\" functions to assist in data preparation and transformation at scale.  To aid in efficiency and operationalization, Vantage provides a bulk <b>Column Transformer</b> function which can take multiple transformation directives at the same time, and act on the whole data set at once.  This allows for both process and code simplification, allowing more streamlined and robust operational deployment.</p> \n",
    "\n",
    "<img src = 'Flow_Diagram_KMeans.png' width = 100%>\n"
   ]
  },
  {
   "cell_type": "markdown",
   "id": "4e9acd56",
   "metadata": {},
   "source": [
    "<p style = 'font-size:16px;font-family:Arial;color:#00233C'>The data for this demonstration is based on online purchase history data set, which can be found <a href = 'https://www.kaggle.com/code/hellbuoy/online-retail-k-means-hierarchical-clustering/data'>here</a>.  The goal is to segment the customers by purchase volume and value.  Steps are as follow:</p>\n",
    "\n",
    "<table style = 'width:100%;table-layout:fixed;'>\n",
    "    <tr>\n",
    "        <td style = 'vertical-align:top' width = '50%'>\n",
    "            <ol style = 'font-size:16px;font-family:Arial;color:#00233C'>\n",
    "                <li>Analyze the raw data, split a testing set</li>\n",
    "                <br>\n",
    "                <li>Engineer numeric features</li>\n",
    "                <br>\n",
    "                <li>Build the K-means model</li>\n",
    "                <br>\n",
    "                <li>Apply in-line transformation to the testing set</li>\n",
    "                <br>\n",
    "                <li>Make Predictions and evaluate model accuracy</li>\n",
    "            </ol>\n",
    "        </td>\n",
    "        <td><img src = 'images/clustering_img.png' width = '250'></td>\n",
    "    </tr>\n",
    "</table>"
   ]
  },
  {
   "cell_type": "markdown",
   "id": "aba72fbc-1d3d-4bed-a5f6-5a721972bc73",
   "metadata": {},
   "source": [
    "<hr style=\"height:2px;border:none;background-color:#00233C;\">\n",
    "<p style = 'font-size:20px;font-family:Arial;color:#00233C'><b>1. Connect to Vantage</b></p>\n",
    "<p style = 'font-size:16px;font-family:Arial;color:#00233C'>You will be prompted to provide the password. Enter your password, press Enter, then use down arrow to go to next cell.</p>"
   ]
  },
  {
   "cell_type": "code",
   "execution_count": 1,
   "id": "e19a97de-4dce-4711-97e9-6a1d7c1d877d",
   "metadata": {},
   "outputs": [
    {
     "name": "stdin",
     "output_type": "stream",
     "text": [
      "Password: ········\n"
     ]
    },
    {
     "name": "stdout",
     "output_type": "stream",
     "text": [
      "Success: 'local' connection established and activated for user 'demo_user', with default database 'demo_user'\n"
     ]
    }
   ],
   "source": [
    "%connect local, hidewarnings=true"
   ]
  },
  {
   "cell_type": "markdown",
   "id": "6920942e-8c65-48e9-ac0e-7963a14bda72",
   "metadata": {},
   "source": [
    "<p style = 'font-size:16px;font-family:Arial;color:#00233C'>Setup for execution of notebook. Begin running steps with Shift + Enter keys.</p>"
   ]
  },
  {
   "cell_type": "code",
   "execution_count": 2,
   "id": "424ff7ce-3eed-4736-a8d1-32bbda29a1ac",
   "metadata": {},
   "outputs": [
    {
     "data": {
      "text/plain": [
       "Success: 1 rows affected"
      ]
     },
     "execution_count": 2,
     "metadata": {
      "application/vnd.teradata.resultset": ""
     },
     "output_type": "execute_result"
    }
   ],
   "source": [
    "SET query_band='DEMO=K-Means_Clustering_and_ML_model_SQL.ipynb;' UPDATE FOR SESSION;"
   ]
  },
  {
   "cell_type": "markdown",
   "id": "0cbb88de-754c-4963-b9ad-4dd7a6669b11",
   "metadata": {},
   "source": [
    "<p style = 'font-size:18px;font-family:Arial;color:#00233C'> <b>Getting Data for This Demo</b></p>\n",
    "<p style = 'font-size:16px;font-family:Arial;color:#00233C'>We have provided data for this demo on cloud storage. In this demo since we are using Temporal table we will be creating databases and tables in local storage and use them in the notebook. Please execute the procedure in the next cell.</p>"
   ]
  },
  {
   "cell_type": "code",
   "execution_count": 3,
   "id": "4ab0ff68-5c8e-4b2f-b9f7-65d02dc44c5a",
   "metadata": {},
   "outputs": [
    {
     "data": {
      "text/plain": [
       "Success: 0 rows affected"
      ]
     },
     "execution_count": 3,
     "metadata": {
      "application/vnd.teradata.resultset": ""
     },
     "output_type": "execute_result"
    },
    {
     "data": {
      "text/plain": [
       "Success: 0 rows affected"
      ]
     },
     "execution_count": 3,
     "metadata": {
      "application/vnd.teradata.resultset": ""
     },
     "output_type": "execute_result"
    },
    {
     "data": {
      "application/vnd.teradata.resultset": "\"Message\"\n\"That ran for   0:00:41.66 with 20 statements and 0 errors. \"",
      "text/html": [
       "<div class = \"td-resultset-table-div\" style = \"max-height: 100%; overflow-y: auto\">\n",
       "      <table class=\"tdhistory535094\"><style>\n",
       "      table.tdhistory535094 { display: block !important; min-height: 105px !important; overflow: auto !important; height: 105px !important; width: 100% !important; border: 1px solid rgb(207, 207, 207) !important; border-collapse: collapse !important; ; color: var(--jp-ui-font-color1) !important; }\n",
       "      th.tdhistory535094 { border: 1px solid rgb(198,198,198) !important; border-collapse: collapse !important; ; padding: 2px 5px !important; ; font-size: 13px !important; ; text-align: center !important; white-space: normal !important; color: var(--jp-ui-font-color1) !important; }\n",
       "      th.tdhistory535094:last-child { text-align: left !important; }\n",
       "      tbody.tdhistory535094 tr:nth-child(even) { background: rgba(243, 243, 243, 0.75) !important; }\n",
       "      tbody.tdhistory535094 tr:nth-child(odd) { background: var(--jp-ui-inverse-font-color1) !important; }\n",
       "      td.tdhistory535094 { border: 1px solid rgb(207, 207, 207) !important; border-collapse: collapse !important; ; padding: 2px 5px !important; ; font-size: 13px !important; ; text-align: left !important;          white-space: nowrap !important; overflow:hidden !important; text-overflow:ellipsis !important;; }\n",
       "    </style><thead><tr style= \"background: rgba(243, 243, 243, 0.75)\"><th class=\"tdhistory535094\"></th><th class=\"tdhistory535094\">Message</th></tr></thead><tbody class=\"tdhistory535094 resultset-body\"><tr><th class=\"tdhistory535094\" style= \"background: rgba(243, 243, 243, 0.75)\">1</th><td class=\"tdhistory535094\">That ran for   0:00:41.66 with 20 statements and 0 errors. </td></tr></tbody></table></div>"
      ]
     },
     "execution_count": 3,
     "metadata": {
      "application/vnd.teradata.resultset": "{\"resultSetID\":\"/home/jovyan/JupyterLabRoot/Teradata/Resultsets/2023.12.21_07.58.55.989_UTC\",\"historyID\":219,\"chunkID\":\"00001\",\"sessionid\":\"\",\"portnum\":\"\",\"dockermode\":\"docker\",\"totalRowCount\":1,\"chunkCount\":0,\"rowLimit\":0,\"columnMetadata\":[{\"columnName\":\"Message\",\"columnTypeName\":\"VARCHAR\",\"length\":150,\"scale\":150}]}"
     },
     "output_type": "execute_result"
    }
   ],
   "source": [
    "-- call get_data('DEMO_Retail_cloud');    -- takes about 4 minutes\n",
    "call get_data('DEMO_Retail_local');     -- takes about 7 minutes"
   ]
  },
  {
   "cell_type": "markdown",
   "id": "753d6dfc-37a2-4bda-9ad9-dfce9571c67c",
   "metadata": {},
   "source": [
    "<p style = 'font-size:16px;font-family:Arial;color:#00233C'>Optional step – if you want to see status of databases/tables created and space used.</p>"
   ]
  },
  {
   "cell_type": "code",
   "execution_count": 4,
   "id": "6ac90548-e904-49da-a8a6-769170ddefd5",
   "metadata": {},
   "outputs": [
    {
     "data": {
      "text/plain": [
       "Success: 0 rows affected"
      ]
     },
     "execution_count": 4,
     "metadata": {
      "application/vnd.teradata.resultset": ""
     },
     "output_type": "execute_result"
    },
    {
     "data": {
      "text/plain": [
       "Success: 0 rows affected"
      ]
     },
     "execution_count": 4,
     "metadata": {
      "application/vnd.teradata.resultset": ""
     },
     "output_type": "execute_result"
    },
    {
     "data": {
      "application/vnd.teradata.resultset": "\"Space_Report\"\n\"You have:  #databases=2 #tables=3 #views=11  You have used 61.2 MB of 27,890.4 MB available - 0.2%  ... Space Usage OK\"\n\" \"\n\"   Database Name                  #tables  #views     Avail MB      Used MB\"\n\"   demo_user                            0       8  27,813.5 MB       0.7 MB \"\n\"   DEMO_Retail                          0       3       0.0 MB       0.0 MB \"\n\"   DEMO_Retail_db                       3       0      76.9 MB      60.5 MB \"",
      "text/html": [
       "<div class = \"td-resultset-table-div\" style = \"max-height: 100%; overflow-y: auto\">\n",
       "      <table class=\"tdhistory615562\"><style>\n",
       "      table.tdhistory615562 { display: block !important; min-height: 210px !important; overflow: auto !important; height: 210px !important; width: 100% !important; border: 1px solid rgb(207, 207, 207) !important; border-collapse: collapse !important; ; color: var(--jp-ui-font-color1) !important; }\n",
       "      th.tdhistory615562 { border: 1px solid rgb(198,198,198) !important; border-collapse: collapse !important; ; padding: 2px 5px !important; ; font-size: 13px !important; ; text-align: center !important; white-space: normal !important; color: var(--jp-ui-font-color1) !important; }\n",
       "      th.tdhistory615562:last-child { text-align: left !important; }\n",
       "      tbody.tdhistory615562 tr:nth-child(even) { background: rgba(243, 243, 243, 0.75) !important; }\n",
       "      tbody.tdhistory615562 tr:nth-child(odd) { background: var(--jp-ui-inverse-font-color1) !important; }\n",
       "      td.tdhistory615562 { border: 1px solid rgb(207, 207, 207) !important; border-collapse: collapse !important; ; padding: 2px 5px !important; ; font-size: 13px !important; ; text-align: left !important;          white-space: nowrap !important; overflow:hidden !important; text-overflow:ellipsis !important;; }\n",
       "    </style><thead><tr style= \"background: rgba(243, 243, 243, 0.75)\"><th class=\"tdhistory615562\"></th><th class=\"tdhistory615562\">Space_Report</th></tr></thead><tbody class=\"tdhistory615562 resultset-body\"><tr><th class=\"tdhistory615562\" style= \"background: rgba(243, 243, 243, 0.75)\">1</th><td class=\"tdhistory615562\">You have:  #databases=2 #tables=3 #views=11  You have used 61.2 MB of 27,890.4 MB available - 0.2%  ... Space Usage OK</td></tr><tr><th class=\"tdhistory615562\" style= \"background: rgba(243, 243, 243, 0.75)\">2</th><td class=\"tdhistory615562\"> </td></tr><tr><th class=\"tdhistory615562\" style= \"background: rgba(243, 243, 243, 0.75)\">3</th><td class=\"tdhistory615562\">   Database Name                  #tables  #views     Avail MB      Used MB</td></tr><tr><th class=\"tdhistory615562\" style= \"background: rgba(243, 243, 243, 0.75)\">4</th><td class=\"tdhistory615562\">   demo_user                            0       8  27,813.5 MB       0.7 MB </td></tr><tr><th class=\"tdhistory615562\" style= \"background: rgba(243, 243, 243, 0.75)\">5</th><td class=\"tdhistory615562\">   DEMO_Retail                          0       3       0.0 MB       0.0 MB </td></tr><tr><th class=\"tdhistory615562\" style= \"background: rgba(243, 243, 243, 0.75)\">6</th><td class=\"tdhistory615562\">   DEMO_Retail_db                       3       0      76.9 MB      60.5 MB </td></tr></tbody></table></div>"
      ]
     },
     "execution_count": 4,
     "metadata": {
      "application/vnd.teradata.resultset": "{\"resultSetID\":\"/home/jovyan/JupyterLabRoot/Teradata/Resultsets/2023.12.21_07.58.58.012_UTC\",\"historyID\":220,\"chunkID\":\"00001\",\"sessionid\":\"\",\"portnum\":\"\",\"dockermode\":\"docker\",\"totalRowCount\":6,\"chunkCount\":0,\"rowLimit\":0,\"columnMetadata\":[{\"columnName\":\"Space_Report\",\"columnTypeName\":\"VARCHAR\",\"length\":150,\"scale\":150}]}"
     },
     "output_type": "execute_result"
    }
   ],
   "source": [
    "call space_report();  -- optional, takes about 10 seconds"
   ]
  },
  {
   "cell_type": "markdown",
   "id": "ec3cda83-bf40-42af-a1f8-a6102935c8bc",
   "metadata": {},
   "source": [
    "<p style = 'font-size:18px;font-family:Arial;color:#00233C'> <b> Access data in Vantage  </b> </p>\n",
    "<p style = 'font-size:16px;font-family:Arial;color:#00233C'>For this demo, data is already resident in Object Storage which we are accessing via ReadNOS, create a reference to the table, and sample the contents using the get_data procedure used above.  Data could just as easily reside in permanent tables, another RDBMS, or another Vantage system.</p>"
   ]
  },
  {
   "cell_type": "code",
   "execution_count": 5,
   "id": "affb5a16-aaa0-45e7-8069-3619291bd1c5",
   "metadata": {},
   "outputs": [
    {
     "data": {
      "application/vnd.teradata.resultset": "\"InvoiceNo\",\"StockCode\",\"Description\",\"Quantity\",\"InvoiceDate\",\"UnitPrice\",\"CustomerID\",\"Country\"\n\"562615\",\"85123A\",\"WHITE HANGING HEART T-LIGHT HOLDER\",\"5\",\"2011-08-08 12:20:00.000000\",\"2.95\",\"16458\",\"United Kingdom\"\n\"562615\",\"20725\",\"LUNCH BAG RED RETROSPOT\",\"10\",\"2011-08-08 12:20:00.000000\",\"1.65\",\"16458\",\"United Kingdom\"\n\"562615\",\"21931\",\"JUMBO STORAGE BAG SUKI\",\"10\",\"2011-08-08 12:20:00.000000\",\"2.08\",\"16458\",\"United Kingdom\"\n\"562615\",\"22173\",\"METAL 4 HOOK HANGER FRENCH CHATEAU\",\"2\",\"2011-08-08 12:20:00.000000\",\"2.95\",\"16458\",\"United Kingdom\"\n\"562615\",\"82581\",\"TOILET METAL SIGN\",\"9\",\"2011-08-08 12:20:00.000000\",\"0.55\",\"16458\",\"United Kingdom\"",
      "text/html": [
       "<div class = \"td-resultset-table-div\" style = \"max-height: 100%; overflow-y: auto\">\n",
       "      <table class=\"tdhistory13874\"><style>\n",
       "      table.tdhistory13874 { display: block !important; min-height: 189px !important; overflow: auto !important; height: 189px !important; width: 100% !important; border: 1px solid rgb(207, 207, 207) !important; border-collapse: collapse !important; ; color: var(--jp-ui-font-color1) !important; }\n",
       "      th.tdhistory13874 { border: 1px solid rgb(198,198,198) !important; border-collapse: collapse !important; ; padding: 2px 5px !important; ; font-size: 13px !important; ; text-align: center !important; white-space: normal !important; color: var(--jp-ui-font-color1) !important; }\n",
       "      th.tdhistory13874:last-child { text-align: left !important; }\n",
       "      tbody.tdhistory13874 tr:nth-child(even) { background: rgba(243, 243, 243, 0.75) !important; }\n",
       "      tbody.tdhistory13874 tr:nth-child(odd) { background: var(--jp-ui-inverse-font-color1) !important; }\n",
       "      td.tdhistory13874 { border: 1px solid rgb(207, 207, 207) !important; border-collapse: collapse !important; ; padding: 2px 5px !important; ; font-size: 13px !important; ; text-align: left !important;          white-space: nowrap !important; overflow:hidden !important; text-overflow:ellipsis !important;; }\n",
       "    </style><thead><tr style= \"background: rgba(243, 243, 243, 0.75)\"><th class=\"tdhistory13874\"></th><th class=\"tdhistory13874\">InvoiceNo</th><th class=\"tdhistory13874\">StockCode</th><th class=\"tdhistory13874\">Description</th><th class=\"tdhistory13874\">Quantity</th><th class=\"tdhistory13874\">InvoiceDate</th><th class=\"tdhistory13874\">UnitPrice</th><th class=\"tdhistory13874\">CustomerID</th><th class=\"tdhistory13874\">Country</th></tr></thead><tbody class=\"tdhistory13874 resultset-body\"><tr><th class=\"tdhistory13874\" style= \"background: rgba(243, 243, 243, 0.75)\">1</th><td class=\"tdhistory13874\">562615</td><td class=\"tdhistory13874\">85123A</td><td class=\"tdhistory13874\">WHITE HANGING HEART T-LIGHT HOLDER</td><td class=\"tdhistory13874\">5</td><td class=\"tdhistory13874\">2011-08-08 12:20:00.000000</td><td class=\"tdhistory13874\">2.95</td><td class=\"tdhistory13874\">16458</td><td class=\"tdhistory13874\">United Kingdom</td></tr><tr><th class=\"tdhistory13874\" style= \"background: rgba(243, 243, 243, 0.75)\">2</th><td class=\"tdhistory13874\">562615</td><td class=\"tdhistory13874\">20725</td><td class=\"tdhistory13874\">LUNCH BAG RED RETROSPOT</td><td class=\"tdhistory13874\">10</td><td class=\"tdhistory13874\">2011-08-08 12:20:00.000000</td><td class=\"tdhistory13874\">1.65</td><td class=\"tdhistory13874\">16458</td><td class=\"tdhistory13874\">United Kingdom</td></tr><tr><th class=\"tdhistory13874\" style= \"background: rgba(243, 243, 243, 0.75)\">3</th><td class=\"tdhistory13874\">562615</td><td class=\"tdhistory13874\">21931</td><td class=\"tdhistory13874\">JUMBO STORAGE BAG SUKI</td><td class=\"tdhistory13874\">10</td><td class=\"tdhistory13874\">2011-08-08 12:20:00.000000</td><td class=\"tdhistory13874\">2.08</td><td class=\"tdhistory13874\">16458</td><td class=\"tdhistory13874\">United Kingdom</td></tr><tr><th class=\"tdhistory13874\" style= \"background: rgba(243, 243, 243, 0.75)\">4</th><td class=\"tdhistory13874\">562615</td><td class=\"tdhistory13874\">22173</td><td class=\"tdhistory13874\">METAL 4 HOOK HANGER FRENCH CHATEAU</td><td class=\"tdhistory13874\">2</td><td class=\"tdhistory13874\">2011-08-08 12:20:00.000000</td><td class=\"tdhistory13874\">2.95</td><td class=\"tdhistory13874\">16458</td><td class=\"tdhistory13874\">United Kingdom</td></tr><tr><th class=\"tdhistory13874\" style= \"background: rgba(243, 243, 243, 0.75)\">5</th><td class=\"tdhistory13874\">562615</td><td class=\"tdhistory13874\">82581</td><td class=\"tdhistory13874\">TOILET METAL SIGN</td><td class=\"tdhistory13874\">9</td><td class=\"tdhistory13874\">2011-08-08 12:20:00.000000</td><td class=\"tdhistory13874\">0.55</td><td class=\"tdhistory13874\">16458</td><td class=\"tdhistory13874\">United Kingdom</td></tr></tbody></table></div>"
      ]
     },
     "execution_count": 5,
     "metadata": {
      "application/vnd.teradata.resultset": "{\"resultSetID\":\"/home/jovyan/JupyterLabRoot/Teradata/Resultsets/2023.12.21_07.58.58.108_UTC\",\"historyID\":221,\"chunkID\":\"00001\",\"sessionid\":\"\",\"portnum\":\"\",\"dockermode\":\"docker\",\"totalRowCount\":5,\"chunkCount\":0,\"rowLimit\":0,\"columnMetadata\":[{\"columnName\":\"InvoiceNo\",\"columnTypeName\":\"VARCHAR\",\"length\":10,\"scale\":10},{\"columnNumber\":1,\"columnName\":\"StockCode\",\"columnTypeName\":\"VARCHAR\",\"length\":10,\"scale\":10},{\"columnNumber\":2,\"columnName\":\"Description\",\"columnTypeName\":\"VARCHAR\",\"length\":40,\"scale\":40},{\"columnNumber\":3,\"columnName\":\"Quantity\",\"columnTypeName\":\"BIGINT\"},{\"columnNumber\":4,\"columnName\":\"InvoiceDate\",\"columnTypeName\":\"TIMESTAMP\",\"length\":6,\"scale\":6},{\"columnNumber\":5,\"columnName\":\"UnitPrice\",\"columnTypeName\":\"FLOAT\"},{\"columnNumber\":6,\"columnName\":\"CustomerID\",\"columnTypeName\":\"FLOAT\"},{\"columnNumber\":7,\"columnName\":\"Country\",\"columnTypeName\":\"VARCHAR\",\"length\":25,\"scale\":25}]}"
     },
     "output_type": "execute_result"
    }
   ],
   "source": [
    "SELECT TOP 5 * FROM DEMO_Retail.UK_Retail_Data;"
   ]
  },
  {
   "cell_type": "markdown",
   "id": "83435d46",
   "metadata": {},
   "source": [
    "<hr style=\"height:2px;border:none;background-color:#00233C;\">\n",
    "<p style = 'font-size:20px;font-family:Arial;color:#00233C'><b>2. Data Preparation</b></p>\n",
    "<p style = 'font-size:16px;font-family:Arial;color:#00233C'>Here, we will inspect the original data set, and perform various preparation tasks.</p>\n",
    "\n",
    "<ol style = 'font-size:16px;font-family:Arial;color:#00233C'>\n",
    "    <li>Inspect the rows of the table</li>\n",
    "    <li>Inspect the column metadata using <a href = 'https://docs.teradata.com/search/all?query=TD_ColumnSummary&content-lang=en-US'>TD_ColumnSummary</a></li>\n",
    "    <li>Split off a testing data set to be used in evaluation</li>\n",
    "    </ol>"
   ]
  },
  {
   "cell_type": "markdown",
   "id": "4e586da8-8c11-4730-9111-d379e565f665",
   "metadata": {},
   "source": [
    "<hr style=\"height:1px;border:none;background-color:#00233C;\">"
   ]
  },
  {
   "cell_type": "markdown",
   "id": "dd822590",
   "metadata": {},
   "source": [
    "<p style = 'font-size:18px;font-family:Arial;color:#00233C'><b>2.1 View Column information</b></p>\n",
    "\n",
    "<p style = 'font-size:16px;font-family:Arial;color:#00233C'><a href = 'https://docs.teradata.com/search/all?query=TD_ColumnSummary&content-lang=en-US'>TD_ColumnSummary</a> provides more details on column values and ranges</p>"
   ]
  },
  {
   "cell_type": "code",
   "execution_count": 6,
   "id": "0f3f56c4",
   "metadata": {},
   "outputs": [
    {
     "data": {
      "application/vnd.teradata.resultset": "\"ColumnName\",\"Datatype\",\"NonNullCount\",\"NullCount\",\"BlankCount\",\"ZeroCount\",\"PositiveCount\",\"NegativeCount\",\"NullPercentage\",\"NonNullPercentage\"\n\"StockCode\",\"VARCHAR(10) CHARACTER SET UNICODE\",\"536641\",\"0\",\"0\",\"\",\"\",\"\",\"0\",\"100\"\n\"InvoiceDate\",\"TIMESTAMP(6)\",\"536641\",\"0\",\"\",\"\",\"\",\"\",\"0\",\"100\"\n\"InvoiceNo\",\"VARCHAR(10) CHARACTER SET UNICODE\",\"536641\",\"0\",\"0\",\"\",\"\",\"\",\"0\",\"100\"\n\"Description\",\"VARCHAR(40) CHARACTER SET UNICODE\",\"536641\",\"0\",\"0\",\"\",\"\",\"\",\"0\",\"100\"\n\"Country\",\"VARCHAR(25) CHARACTER SET UNICODE\",\"536641\",\"0\",\"0\",\"\",\"\",\"\",\"0\",\"100\"\n\"CustomerID\",\"FLOAT\",\"401604\",\"0\",\"\",\"0\",\"401604\",\"0\",\"0\",\"100\"\n\"Quantity\",\"BIGINT\",\"536641\",\"0\",\"\",\"0\",\"526054\",\"10587\",\"0\",\"100\"\n\"UnitPrice\",\"FLOAT\",\"536641\",\"0\",\"\",\"2510\",\"534129\",\"2\",\"0\",\"100\"",
      "text/html": [
       "<div class = \"td-resultset-table-div\" style = \"max-height: 100%; overflow-y: auto\">\n",
       "      <table class=\"tdhistory450875\"><style>\n",
       "      table.tdhistory450875 { display: block !important; min-height: 252px !important; overflow: auto !important; height: 252px !important; width: 100% !important; border: 1px solid rgb(207, 207, 207) !important; border-collapse: collapse !important; ; color: var(--jp-ui-font-color1) !important; }\n",
       "      th.tdhistory450875 { border: 1px solid rgb(198,198,198) !important; border-collapse: collapse !important; ; padding: 2px 5px !important; ; font-size: 13px !important; ; text-align: center !important; white-space: normal !important; color: var(--jp-ui-font-color1) !important; }\n",
       "      th.tdhistory450875:last-child { text-align: left !important; }\n",
       "      tbody.tdhistory450875 tr:nth-child(even) { background: rgba(243, 243, 243, 0.75) !important; }\n",
       "      tbody.tdhistory450875 tr:nth-child(odd) { background: var(--jp-ui-inverse-font-color1) !important; }\n",
       "      td.tdhistory450875 { border: 1px solid rgb(207, 207, 207) !important; border-collapse: collapse !important; ; padding: 2px 5px !important; ; font-size: 13px !important; ; text-align: left !important;          white-space: nowrap !important; overflow:hidden !important; text-overflow:ellipsis !important;; }\n",
       "    </style><thead><tr style= \"background: rgba(243, 243, 243, 0.75)\"><th class=\"tdhistory450875\"></th><th class=\"tdhistory450875\">ColumnName</th><th class=\"tdhistory450875\">Datatype</th><th class=\"tdhistory450875\">NonNullCount</th><th class=\"tdhistory450875\">NullCount</th><th class=\"tdhistory450875\">BlankCount</th><th class=\"tdhistory450875\">ZeroCount</th><th class=\"tdhistory450875\">PositiveCount</th><th class=\"tdhistory450875\">NegativeCount</th><th class=\"tdhistory450875\">NullPercentage</th><th class=\"tdhistory450875\">NonNullPercentage</th></tr></thead><tbody class=\"tdhistory450875 resultset-body\"><tr><th class=\"tdhistory450875\" style= \"background: rgba(243, 243, 243, 0.75)\">1</th><td class=\"tdhistory450875\">StockCode</td><td class=\"tdhistory450875\">VARCHAR(10) CHARACTER SET UNICODE</td><td class=\"tdhistory450875\">536641</td><td class=\"tdhistory450875\">0</td><td class=\"tdhistory450875\">0</td><td class=\"tdhistory450875\"></td><td class=\"tdhistory450875\"></td><td class=\"tdhistory450875\"></td><td class=\"tdhistory450875\">0</td><td class=\"tdhistory450875\">100</td></tr><tr><th class=\"tdhistory450875\" style= \"background: rgba(243, 243, 243, 0.75)\">2</th><td class=\"tdhistory450875\">InvoiceDate</td><td class=\"tdhistory450875\">TIMESTAMP(6)</td><td class=\"tdhistory450875\">536641</td><td class=\"tdhistory450875\">0</td><td class=\"tdhistory450875\"></td><td class=\"tdhistory450875\"></td><td class=\"tdhistory450875\"></td><td class=\"tdhistory450875\"></td><td class=\"tdhistory450875\">0</td><td class=\"tdhistory450875\">100</td></tr><tr><th class=\"tdhistory450875\" style= \"background: rgba(243, 243, 243, 0.75)\">3</th><td class=\"tdhistory450875\">InvoiceNo</td><td class=\"tdhistory450875\">VARCHAR(10) CHARACTER SET UNICODE</td><td class=\"tdhistory450875\">536641</td><td class=\"tdhistory450875\">0</td><td class=\"tdhistory450875\">0</td><td class=\"tdhistory450875\"></td><td class=\"tdhistory450875\"></td><td class=\"tdhistory450875\"></td><td class=\"tdhistory450875\">0</td><td class=\"tdhistory450875\">100</td></tr><tr><th class=\"tdhistory450875\" style= \"background: rgba(243, 243, 243, 0.75)\">4</th><td class=\"tdhistory450875\">Description</td><td class=\"tdhistory450875\">VARCHAR(40) CHARACTER SET UNICODE</td><td class=\"tdhistory450875\">536641</td><td class=\"tdhistory450875\">0</td><td class=\"tdhistory450875\">0</td><td class=\"tdhistory450875\"></td><td class=\"tdhistory450875\"></td><td class=\"tdhistory450875\"></td><td class=\"tdhistory450875\">0</td><td class=\"tdhistory450875\">100</td></tr><tr><th class=\"tdhistory450875\" style= \"background: rgba(243, 243, 243, 0.75)\">5</th><td class=\"tdhistory450875\">Country</td><td class=\"tdhistory450875\">VARCHAR(25) CHARACTER SET UNICODE</td><td class=\"tdhistory450875\">536641</td><td class=\"tdhistory450875\">0</td><td class=\"tdhistory450875\">0</td><td class=\"tdhistory450875\"></td><td class=\"tdhistory450875\"></td><td class=\"tdhistory450875\"></td><td class=\"tdhistory450875\">0</td><td class=\"tdhistory450875\">100</td></tr><tr><th class=\"tdhistory450875\" style= \"background: rgba(243, 243, 243, 0.75)\">6</th><td class=\"tdhistory450875\">CustomerID</td><td class=\"tdhistory450875\">FLOAT</td><td class=\"tdhistory450875\">401604</td><td class=\"tdhistory450875\">0</td><td class=\"tdhistory450875\"></td><td class=\"tdhistory450875\">0</td><td class=\"tdhistory450875\">401604</td><td class=\"tdhistory450875\">0</td><td class=\"tdhistory450875\">0</td><td class=\"tdhistory450875\">100</td></tr><tr><th class=\"tdhistory450875\" style= \"background: rgba(243, 243, 243, 0.75)\">7</th><td class=\"tdhistory450875\">Quantity</td><td class=\"tdhistory450875\">BIGINT</td><td class=\"tdhistory450875\">536641</td><td class=\"tdhistory450875\">0</td><td class=\"tdhistory450875\"></td><td class=\"tdhistory450875\">0</td><td class=\"tdhistory450875\">526054</td><td class=\"tdhistory450875\">10587</td><td class=\"tdhistory450875\">0</td><td class=\"tdhistory450875\">100</td></tr><tr><th class=\"tdhistory450875\" style= \"background: rgba(243, 243, 243, 0.75)\">8</th><td class=\"tdhistory450875\">UnitPrice</td><td class=\"tdhistory450875\">FLOAT</td><td class=\"tdhistory450875\">536641</td><td class=\"tdhistory450875\">0</td><td class=\"tdhistory450875\"></td><td class=\"tdhistory450875\">2510</td><td class=\"tdhistory450875\">534129</td><td class=\"tdhistory450875\">2</td><td class=\"tdhistory450875\">0</td><td class=\"tdhistory450875\">100</td></tr></tbody></table></div>"
      ]
     },
     "execution_count": 6,
     "metadata": {
      "application/vnd.teradata.resultset": "{\"resultSetID\":\"/home/jovyan/JupyterLabRoot/Teradata/Resultsets/2023.12.21_07.58.58.975_UTC\",\"historyID\":222,\"chunkID\":\"00001\",\"sessionid\":\"\",\"portnum\":\"\",\"dockermode\":\"docker\",\"totalRowCount\":8,\"chunkCount\":0,\"rowLimit\":0,\"columnMetadata\":[{\"columnName\":\"ColumnName\",\"columnTypeName\":\"VARCHAR\",\"length\":128,\"scale\":128},{\"columnNumber\":1,\"columnName\":\"Datatype\",\"columnTypeName\":\"VARCHAR\",\"length\":128,\"scale\":128},{\"columnNumber\":2,\"columnName\":\"NonNullCount\",\"columnTypeName\":\"BIGINT\"},{\"columnNumber\":3,\"columnName\":\"NullCount\",\"columnTypeName\":\"BIGINT\"},{\"columnNumber\":4,\"columnName\":\"BlankCount\",\"columnTypeName\":\"BIGINT\"},{\"columnNumber\":5,\"columnName\":\"ZeroCount\",\"columnTypeName\":\"BIGINT\"},{\"columnNumber\":6,\"columnName\":\"PositiveCount\",\"columnTypeName\":\"BIGINT\"},{\"columnNumber\":7,\"columnName\":\"NegativeCount\",\"columnTypeName\":\"BIGINT\"},{\"columnNumber\":8,\"columnName\":\"NullPercentage\",\"columnTypeName\":\"FLOAT\"},{\"columnNumber\":9,\"columnName\":\"NonNullPercentage\",\"columnTypeName\":\"FLOAT\"}]}"
     },
     "output_type": "execute_result"
    }
   ],
   "source": [
    "SELECT * FROM TD_ColumnSummary(\n",
    "    ON DEMO_Retail.UK_Retail_Data as inputtable\n",
    "    USING\n",
    "        targetcolumns('[0:7]')\n",
    ") as dt;"
   ]
  },
  {
   "cell_type": "markdown",
   "id": "6923aa5c-289f-488d-9d59-c2d9fac0fb38",
   "metadata": {},
   "source": [
    "<hr style=\"height:1px;border:none;background-color:#00233C;\">"
   ]
  },
  {
   "cell_type": "markdown",
   "id": "805e9e23",
   "metadata": {},
   "source": [
    "<p style = 'font-size:18px;font-family:Arial;color:#00233C'><b>2.2 Create a Testing data set</b></p>\n",
    "\n",
    "<p style = 'font-size:16px;font-family:Arial;color:#00233C'>From our sample data we are selecting some \"Customer ID\" values for testing later.</p>"
   ]
  },
  {
   "cell_type": "code",
   "execution_count": 7,
   "id": "e41dc488",
   "metadata": {},
   "outputs": [
    {
     "data": {
      "text/plain": [
       "Success: 0 rows affected"
      ]
     },
     "execution_count": 7,
     "metadata": {
      "application/vnd.teradata.resultset": ""
     },
     "output_type": "execute_result"
    }
   ],
   "source": [
    "REPLACE VIEW UK_Retail_Test_V as (\n",
    "    SELECT * FROM DEMO_Retail.UK_Retail_Data \n",
    "    WHERE CustomerID IN ('17307', '12503', '18268', '12908', '13693')\n",
    ");"
   ]
  },
  {
   "cell_type": "markdown",
   "id": "40f1a089",
   "metadata": {},
   "source": [
    "<hr style=\"height:2px;border:none;background-color:#00233C;\">\n",
    "<p style = 'font-size:20px;font-family:Arial;color:#00233C'><b>3. Feature Engineering</b></p>\n",
    "\n",
    "<p style = 'font-size:16px;font-family:Arial;color:#00233C'>Vantage provides many inDb feature engineering functions, in this section we will see how to prepare the data set for model training.  We will use standard SQL and various \"Fit\" functions to create input for the <a href = 'https://docs.teradata.com/search/all?query=TD_ColumnTransformer&content-lang=en-US'>TD_ColumnTransformer</a> function to take as input in order to execute a bulk transformation.</p>\n",
    "\n",
    "<ol style = 'font-size:16px;font-family:Arial;color:#00233C'>\n",
    "    <li>Create a per-customer grouping of data</li>\n",
    "    <li>Create Fit Tables\n",
    "        <ul><li>Remove Outliers</li>\n",
    "            <li>Impute Missing Values</li>\n",
    "            <li>Create New Numeric Features</li>\n",
    "            <li>Rescale the Data Set</li>\n",
    "        </ul></li>\n",
    "    <li>Call the final Transformation function</li>\n",
    "    </ol>"
   ]
  },
  {
   "cell_type": "markdown",
   "id": "da99ac70-04d1-4587-a888-930eb035e733",
   "metadata": {},
   "source": [
    "<hr style=\"height:1px;border:none;background-color:#00233C;\">"
   ]
  },
  {
   "cell_type": "markdown",
   "id": "555dfd13",
   "metadata": {},
   "source": [
    "<p style = 'font-size:18px;font-family:Arial;color:#00233C'><b>3.1 Create a per-customer table</b></p>\n",
    "\n",
    "<p style = 'font-size:16px;font-family:Arial;color:#00233C'>Simple GROUP BY, exclude the testing IDs.<br> Note there are 4367 unique customers in this training set.</p>"
   ]
  },
  {
   "cell_type": "code",
   "execution_count": 8,
   "id": "66cf25c4",
   "metadata": {},
   "outputs": [
    {
     "data": {
      "text/plain": [
       "Success: 0 rows affected"
      ]
     },
     "execution_count": 8,
     "metadata": {
      "application/vnd.teradata.resultset": ""
     },
     "output_type": "execute_result"
    }
   ],
   "source": [
    "REPLACE VIEW Customer_ID_Group_V AS (\n",
    "    SELECT CustomerID,\n",
    "        SUM(quantity) as TotalQuantity , \n",
    "        SUM(UnitPrice) as TotalPrice, \n",
    "        COUNT(DISTINCT(StockCode)) as TotalItems \n",
    "    FROM DEMO_Retail.UK_Retail_Data\n",
    "    WHERE CustomerID NOT IN ('17307', '12503', '18268', '12908', '13693')\n",
    "    GROUP BY CustomerID\n",
    ");"
   ]
  },
  {
   "cell_type": "code",
   "execution_count": 9,
   "id": "600ded66",
   "metadata": {},
   "outputs": [
    {
     "data": {
      "application/vnd.teradata.resultset": "\"Count(*)\"\n\"4368\"",
      "text/html": [
       "<div class = \"td-resultset-table-div\" style = \"max-height: 100%; overflow-y: auto\">\n",
       "      <table class=\"tdhistory754104\"><style>\n",
       "      table.tdhistory754104 { display: block !important; min-height: 105px !important; overflow: auto !important; height: 105px !important; width: 100% !important; border: 1px solid rgb(207, 207, 207) !important; border-collapse: collapse !important; ; color: var(--jp-ui-font-color1) !important; }\n",
       "      th.tdhistory754104 { border: 1px solid rgb(198,198,198) !important; border-collapse: collapse !important; ; padding: 2px 5px !important; ; font-size: 13px !important; ; text-align: center !important; white-space: normal !important; color: var(--jp-ui-font-color1) !important; }\n",
       "      th.tdhistory754104:last-child { text-align: left !important; }\n",
       "      tbody.tdhistory754104 tr:nth-child(even) { background: rgba(243, 243, 243, 0.75) !important; }\n",
       "      tbody.tdhistory754104 tr:nth-child(odd) { background: var(--jp-ui-inverse-font-color1) !important; }\n",
       "      td.tdhistory754104 { border: 1px solid rgb(207, 207, 207) !important; border-collapse: collapse !important; ; padding: 2px 5px !important; ; font-size: 13px !important; ; text-align: left !important;          white-space: nowrap !important; overflow:hidden !important; text-overflow:ellipsis !important;; }\n",
       "    </style><thead><tr style= \"background: rgba(243, 243, 243, 0.75)\"><th class=\"tdhistory754104\"></th><th class=\"tdhistory754104\">Count(*)</th></tr></thead><tbody class=\"tdhistory754104 resultset-body\"><tr><th class=\"tdhistory754104\" style= \"background: rgba(243, 243, 243, 0.75)\">1</th><td class=\"tdhistory754104\">4368</td></tr></tbody></table></div>"
      ]
     },
     "execution_count": 9,
     "metadata": {
      "application/vnd.teradata.resultset": "{\"resultSetID\":\"/home/jovyan/JupyterLabRoot/Teradata/Resultsets/2023.12.21_07.59.00.007_UTC\",\"historyID\":225,\"chunkID\":\"00001\",\"sessionid\":\"\",\"portnum\":\"\",\"dockermode\":\"docker\",\"totalRowCount\":1,\"chunkCount\":0,\"rowLimit\":0,\"columnMetadata\":[{\"columnName\":\"Count(*)\",\"columnTypeName\":\"INTEGER\"}]}"
     },
     "output_type": "execute_result"
    }
   ],
   "source": [
    "SELECT COUNT(*) FROM Customer_ID_Group_V;"
   ]
  },
  {
   "cell_type": "markdown",
   "id": "f15fa44b-b8d6-4e86-b264-4c3944c04377",
   "metadata": {},
   "source": [
    "<hr style=\"height:1px;border:none;background-color:#00233C;\">"
   ]
  },
  {
   "cell_type": "markdown",
   "id": "dba90c65",
   "metadata": {},
   "source": [
    "<p style = 'font-size:18px;font-family:Arial;color:#00233C'><b>3.2 Create Fit Tables</b></p>\n",
    "\n",
    "<p style = 'font-size:16px;font-family:Arial;color:#00233C'>Vantage <a href = 'https://docs.teradata.com/search/all?query=Feature+Engineering+Transform+Functions&content-lang=en-US'>Feature Engineering Transform Functions</a> Use a \"Fit and Transform\" approach to make processing more modular and efficient.  \"Fit tables\" can be used as input to either individual Transform functions, or passed to a single <a href = 'https://docs.teradata.com/search/all?query=TD_ColumnTransformer&content-lang=en-US'>TD_ColumnTransformer</a> function.</p>\n",
    "\n",
    "<table style = 'width:100%;table-layout:fixed;'>\n",
    "    <tr>\n",
    "        <td style = 'vertical-align:top' width = '50%'>\n",
    "<ul style = 'font-size:16px;font-family:Arial;color:#00233C'>\n",
    "    <li>Fit outlier removal using <a href = 'https://docs.teradata.com/search/all?query=TD_OutlierFilterFit&content-lang=en-US'>TD_OutlierFilterFit</a></li>\n",
    "    <li>Fit a simple imputer to replace missing values using <a href = 'https://docs.teradata.com/search/all?query=TD_SimpleImputeFit&content-lang=en-US'>TD_SimpleImputeFit</a></li>\n",
    "    <li>Fit column calculations to create new features using <a href = 'https://docs.teradata.com/search/all?query=TD_NonLinearCombineFit&content-lang=en-US'>TD_NonLinearCombineFit</a></li>\n",
    "    <li>Call <a href = 'https://docs.teradata.com/search/all?query=TD_ColumnTransformer&content-lang=en-US'>TD_ColumnTransformer</a> to execute the transformations (to allow for Scaling)</li>\n",
    "    <li>Rescale the data using <a href = 'https://docs.teradata.com/search/all?query=TD_ScaleFit&content-lang=en-US'>TD_ScaleFit/Transform</a></li>\n",
    "            </ul></td>\n",
    "        <td><img src = 'images/fit_transform.png' width = '300'></td>\n",
    "    </tr>\n",
    "    </table>"
   ]
  },
  {
   "cell_type": "markdown",
   "id": "882d613e-9565-45cf-81fb-f528bd9d4c38",
   "metadata": {},
   "source": [
    "<p style = 'font-size:16px;font-family:Arial;color:#00233C'><b>TD_OutlierFilterFit</b> function calculates the lower_percentile, upper_percentile, count of rows and median for the specified input table columns. The calculated values for each column help the\n",
    "    <b>TD_OutlierFilterTransform</b> function detect outliers in the input table."
   ]
  },
  {
   "cell_type": "code",
   "execution_count": 10,
   "id": "4eb93c8c-f84b-4e10-a5da-32a431f09f97",
   "metadata": {},
   "outputs": [
    {
     "data": {
      "text/plain": [
       "Success: 0 rows affected"
      ]
     },
     "execution_count": 10,
     "metadata": {
      "application/vnd.teradata.resultset": ""
     },
     "output_type": "execute_result"
    }
   ],
   "source": [
    "-- Remove Outliers\n",
    "-- Trim below 3rd, and above 97th percentile\n",
    "\n",
    "CREATE MULTISET VOLATILE TABLE outlierFit_CS as (\n",
    "    SELECT * from TD_OutlierFilterFit(\n",
    "        ON Customer_ID_Group_V as inputTable\n",
    "        USING\n",
    "        TargetColumns('TotalQuantity','TotalPrice')\n",
    "        LowerPercentile(0.03)\n",
    "        UpperPercentile(0.97)\n",
    "        OutlierMethod('Percentile')\n",
    "        PercentileMethod('PercentileCont')\n",
    "        ReplacementValue('Median')\n",
    "    )as dt\n",
    ") WITH DATA\n",
    "ON COMMIT PRESERVE ROWS;"
   ]
  },
  {
   "cell_type": "markdown",
   "id": "ed1d1825-83bd-4b92-9d53-87cfea6bf046",
   "metadata": {},
   "source": [
    "<p style = 'font-size:16px;font-family:Arial;color:#00233C'><b>TD_SimpleImputeFit </b>will output a table with the values that will be used to substitute the missing values<br>\n",
    "    <b>TD_SimpleImputeTransform</b> will return the input data set with the missing values filled in."
   ]
  },
  {
   "cell_type": "code",
   "execution_count": 11,
   "id": "83d09e2f-898a-4d2c-b1cf-79daa8cf80df",
   "metadata": {},
   "outputs": [
    {
     "data": {
      "text/plain": [
       "Success: 0 rows affected"
      ]
     },
     "execution_count": 11,
     "metadata": {
      "application/vnd.teradata.resultset": ""
     },
     "output_type": "execute_result"
    }
   ],
   "source": [
    "-- Impute Missing Values\n",
    "-- Replace any missing CustomerID with a specific value\n",
    "\n",
    "CREATE MULTISET VOLATILE TABLE ImputeFit_CS AS (\n",
    "    SELECT * FROM TD_SimpleImputeFit(\n",
    "        ON Customer_ID_Group_V AS InputTable\n",
    "        USING\n",
    "        ColsForLiterals('CustomerID')\n",
    "        Literals('19000')                                        \n",
    "    ) AS dt\n",
    ") WITH DATA\n",
    "ON COMMIT PRESERVE ROWS;"
   ]
  },
  {
   "cell_type": "markdown",
   "id": "548d4822-3e13-4c50-afac-995aaad2fa9d",
   "metadata": {},
   "source": [
    "<p style = 'font-size:16px;font-family:Arial;color:#00233C'><b>TD_NonLinearCombineFit</b> function returns the target columns and a specified formula which uses the non-linear combination of existing features.\n"
   ]
  },
  {
   "cell_type": "code",
   "execution_count": 12,
   "id": "b585b0bd-6db2-41b0-a638-ecc1899b0c70",
   "metadata": {},
   "outputs": [
    {
     "data": {
      "text/plain": [
       "Success: 0 rows affected"
      ]
     },
     "execution_count": 12,
     "metadata": {
      "application/vnd.teradata.resultset": ""
     },
     "output_type": "execute_result"
    },
    {
     "data": {
      "application/vnd.teradata.resultset": "\"TotalSales\",\"TotalQuantity\",\"TotalPrice\"\n\"Y = X1*X0\",\"\",\"\"",
      "text/html": [
       "<div class = \"td-resultset-table-div\" style = \"max-height: 100%; overflow-y: auto\">\n",
       "      <table class=\"tdhistory830250\"><style>\n",
       "      table.tdhistory830250 { display: block !important; min-height: 105px !important; overflow: auto !important; height: 105px !important; width: 100% !important; border: 1px solid rgb(207, 207, 207) !important; border-collapse: collapse !important; ; color: var(--jp-ui-font-color1) !important; }\n",
       "      th.tdhistory830250 { border: 1px solid rgb(198,198,198) !important; border-collapse: collapse !important; ; padding: 2px 5px !important; ; font-size: 13px !important; ; text-align: center !important; white-space: normal !important; color: var(--jp-ui-font-color1) !important; }\n",
       "      th.tdhistory830250:last-child { text-align: left !important; }\n",
       "      tbody.tdhistory830250 tr:nth-child(even) { background: rgba(243, 243, 243, 0.75) !important; }\n",
       "      tbody.tdhistory830250 tr:nth-child(odd) { background: var(--jp-ui-inverse-font-color1) !important; }\n",
       "      td.tdhistory830250 { border: 1px solid rgb(207, 207, 207) !important; border-collapse: collapse !important; ; padding: 2px 5px !important; ; font-size: 13px !important; ; text-align: left !important;          white-space: nowrap !important; overflow:hidden !important; text-overflow:ellipsis !important;; }\n",
       "    </style><thead><tr style= \"background: rgba(243, 243, 243, 0.75)\"><th class=\"tdhistory830250\"></th><th class=\"tdhistory830250\">TotalSales</th><th class=\"tdhistory830250\">TotalQuantity</th><th class=\"tdhistory830250\">TotalPrice</th></tr></thead><tbody class=\"tdhistory830250 resultset-body\"><tr><th class=\"tdhistory830250\" style= \"background: rgba(243, 243, 243, 0.75)\">1</th><td class=\"tdhistory830250\">Y = X1*X0</td><td class=\"tdhistory830250\"></td><td class=\"tdhistory830250\"></td></tr></tbody></table></div>"
      ]
     },
     "execution_count": 12,
     "metadata": {
      "application/vnd.teradata.resultset": "{\"resultSetID\":\"/home/jovyan/JupyterLabRoot/Teradata/Resultsets/2023.12.21_07.59.03.989_UTC\",\"historyID\":228,\"chunkID\":\"00001\",\"sessionid\":\"\",\"portnum\":\"\",\"dockermode\":\"docker\",\"totalRowCount\":1,\"chunkCount\":0,\"rowLimit\":0,\"columnMetadata\":[{\"columnName\":\"TotalSales\",\"columnTypeName\":\"VARCHAR\",\"length\":9,\"scale\":9},{\"columnNumber\":1,\"columnName\":\"TotalQuantity\",\"columnTypeName\":\"BIGINT\"},{\"columnNumber\":2,\"columnName\":\"TotalPrice\",\"columnTypeName\":\"FLOAT\"}]}"
     },
     "output_type": "execute_result"
    }
   ],
   "source": [
    "-- Create a new column by multiplying quantity and price\n",
    "\n",
    "SELECT * FROM TD_NonLinearCombineFit (\n",
    "    ON Customer_ID_Group_V as InputTable\n",
    "    OUT VOLATILE TABLE OutputTable (NonLinearCombineFit_CS_TotalSales)\n",
    "    USING\n",
    "        TargetColumns ('TotalQuantity','TotalPrice')\n",
    "        Formula ('Y = X1*X0')\n",
    "        ResultColumn ('TotalSales')\n",
    ") AS dt;"
   ]
  },
  {
   "cell_type": "code",
   "execution_count": 13,
   "id": "1b08a0e4",
   "metadata": {},
   "outputs": [
    {
     "data": {
      "text/plain": [
       "Success: 0 rows affected"
      ]
     },
     "execution_count": 13,
     "metadata": {
      "application/vnd.teradata.resultset": ""
     },
     "output_type": "execute_result"
    },
    {
     "data": {
      "application/vnd.teradata.resultset": "\"SalesPerItem\",\"TotalQuantity\",\"TotalPrice\",\"TotalItems\"\n\"Y = (X0*X1)/X2\",\"\",\"\",\"\"",
      "text/html": [
       "<div class = \"td-resultset-table-div\" style = \"max-height: 100%; overflow-y: auto\">\n",
       "      <table class=\"tdhistory551344\"><style>\n",
       "      table.tdhistory551344 { display: block !important; min-height: 105px !important; overflow: auto !important; height: 105px !important; width: 100% !important; border: 1px solid rgb(207, 207, 207) !important; border-collapse: collapse !important; ; color: var(--jp-ui-font-color1) !important; }\n",
       "      th.tdhistory551344 { border: 1px solid rgb(198,198,198) !important; border-collapse: collapse !important; ; padding: 2px 5px !important; ; font-size: 13px !important; ; text-align: center !important; white-space: normal !important; color: var(--jp-ui-font-color1) !important; }\n",
       "      th.tdhistory551344:last-child { text-align: left !important; }\n",
       "      tbody.tdhistory551344 tr:nth-child(even) { background: rgba(243, 243, 243, 0.75) !important; }\n",
       "      tbody.tdhistory551344 tr:nth-child(odd) { background: var(--jp-ui-inverse-font-color1) !important; }\n",
       "      td.tdhistory551344 { border: 1px solid rgb(207, 207, 207) !important; border-collapse: collapse !important; ; padding: 2px 5px !important; ; font-size: 13px !important; ; text-align: left !important;          white-space: nowrap !important; overflow:hidden !important; text-overflow:ellipsis !important;; }\n",
       "    </style><thead><tr style= \"background: rgba(243, 243, 243, 0.75)\"><th class=\"tdhistory551344\"></th><th class=\"tdhistory551344\">SalesPerItem</th><th class=\"tdhistory551344\">TotalQuantity</th><th class=\"tdhistory551344\">TotalPrice</th><th class=\"tdhistory551344\">TotalItems</th></tr></thead><tbody class=\"tdhistory551344 resultset-body\"><tr><th class=\"tdhistory551344\" style= \"background: rgba(243, 243, 243, 0.75)\">1</th><td class=\"tdhistory551344\">Y = (X0*X1)/X2</td><td class=\"tdhistory551344\"></td><td class=\"tdhistory551344\"></td><td class=\"tdhistory551344\"></td></tr></tbody></table></div>"
      ]
     },
     "execution_count": 13,
     "metadata": {
      "application/vnd.teradata.resultset": "{\"resultSetID\":\"/home/jovyan/JupyterLabRoot/Teradata/Resultsets/2023.12.21_07.59.06.247_UTC\",\"historyID\":229,\"chunkID\":\"00001\",\"sessionid\":\"\",\"portnum\":\"\",\"dockermode\":\"docker\",\"totalRowCount\":1,\"chunkCount\":0,\"rowLimit\":0,\"columnMetadata\":[{\"columnName\":\"SalesPerItem\",\"columnTypeName\":\"VARCHAR\",\"length\":14,\"scale\":14},{\"columnNumber\":1,\"columnName\":\"TotalQuantity\",\"columnTypeName\":\"BIGINT\"},{\"columnNumber\":2,\"columnName\":\"TotalPrice\",\"columnTypeName\":\"FLOAT\"},{\"columnNumber\":3,\"columnName\":\"TotalItems\",\"columnTypeName\":\"INTEGER\"}]}"
     },
     "output_type": "execute_result"
    }
   ],
   "source": [
    "-- Create another new column by diving the total sales by the number of unique items\n",
    "\n",
    "SELECT * FROM TD_NonLinearCombineFit (\n",
    "   ON Customer_ID_Group_V AS InputTable\n",
    "   OUT VOLATILE TABLE OutputTable (NonLinearCombineFit_CS_SalesPerItem)\n",
    "   USING\n",
    "   TargetColumns ('TotalQuantity','TotalPrice','TotalItems')\n",
    "   Formula ('Y = (X0*X1)/X2')\n",
    "   ResultColumn ('SalesPerItem')\n",
    ") AS dt;"
   ]
  },
  {
   "cell_type": "markdown",
   "id": "5dc7b2b7-c4ce-47bd-9569-675e553f9757",
   "metadata": {},
   "source": [
    "<p style = 'font-size:16px;font-family:Arial;color:#00233C'><b>The TD_ColumnTransformer</b> function transforms the entire dataset in a single operation. You only need to provide the FIT tables to the function, and the function runs all transformations that you require in a\n",
    "single operation. Running all the it table transformations together in one-go gives approx. 30% performance improvement over running each transformation sequentially.</p>"
   ]
  },
  {
   "cell_type": "code",
   "execution_count": 14,
   "id": "5ddf01fb-b734-4e6f-9ab0-a3a359596e39",
   "metadata": {},
   "outputs": [
    {
     "data": {
      "text/plain": [
       "Success: 0 rows affected"
      ]
     },
     "execution_count": 14,
     "metadata": {
      "application/vnd.teradata.resultset": ""
     },
     "output_type": "execute_result"
    }
   ],
   "source": [
    "-- Execute ColumnTransformer to build the data set\n",
    "\n",
    "CREATE MULTISET VOLATILE TABLE Transformed_Customer_ID_Group_VT AS (\n",
    "    SELECT * from TD_ColumnTransformer(\n",
    "        ON Customer_ID_Group_V AS InputTable\n",
    "        \n",
    "        ON OutlierFit_CS AS OutlierFilterFitTable DIMENSION\n",
    "        ON ImputeFit_CS AS SimpleImputeFitTable DIMENSION\n",
    "        ON NonLinearCombineFit_CS_TotalSales AS NonLinearCombineFitTable DIMENSION\n",
    "        ON NonLinearCombineFit_CS_SalesPerItem as NonLinearCombineFitTable DIMENSION\n",
    "    ) AS dt\n",
    ")WITH DATA \n",
    "ON COMMIT PRESERVE ROWS;"
   ]
  },
  {
   "cell_type": "markdown",
   "id": "2f839c04-8146-4d1b-9c4a-7ecde400d9d5",
   "metadata": {},
   "source": [
    "<p style = 'font-size:16px;font-family:Arial;color:#00233C'><b>TD_ScaleFit and TDScaleTransform </b>scales specified input\n",
    "table columns i.e perform the specific scale methods like standard deviation, mean etc to the input columns </p> "
   ]
  },
  {
   "cell_type": "code",
   "execution_count": 15,
   "id": "ef7ca038-1dc6-4433-800d-fbc8864210f3",
   "metadata": {},
   "outputs": [
    {
     "data": {
      "text/plain": [
       "Success: 0 rows affected"
      ]
     },
     "execution_count": 15,
     "metadata": {
      "application/vnd.teradata.resultset": ""
     },
     "output_type": "execute_result"
    },
    {
     "data": {
      "application/vnd.teradata.resultset": "\"TD_STATTYPE_SCLFIT\",\"TotalQuantity\",\"TotalItems\",\"TotalPrice\",\"TotalSales\",\"SalesPerItem\"\n\"min\",\"24\",\"1\",\"6.819999999999999\",\"206.70000000000002\",\"12.75129228687416\"\n\"max\",\"4796\",\"3695\",\"1291.0499999999997\",\"5.751069009999999e+06\",\"555065.5000000001\"\n\"sum\",\"2.967656e+06\",\"271301\",\"937383.1639999992\",\"1.0652000234370003e+09\",\"1.7645179379158065e+07\"\n\"count\",\"4368\",\"4368\",\"4368\",\"4368\",\"4368\"\n\"null\",\"0\",\"0\",\"0\",\"0\",\"0\"\n\"avg\",\"679.4084249084249\",\"62.111034798534796\",\"214.60237271062252\",\"243864.47423008247\",\"4039.6472937632934\"\n\"multiplier\",\"1\",\"1\",\"1\",\"1\",\"1\"\n\"intercept\",\"0\",\"0\",\"0\",\"0\",\"0\"\n\"location\",\"24\",\"1\",\"6.819999999999999\",\"206.70000000000002\",\"12.75129228687416\"\n\"scale\",\"4772\",\"3694\",\"1284.2299999999998\",\"5.750862309999999e+06\",\"555052.7487077132\"\n\"globalscale_false\",\"\",\"\",\"\",\"\",\"\"\n\"ScaleMethodNumberMapping: [0:mean,1:sum,2:ustd,3:std,4:range,5:midrange,6:maxabs,7:rescale]\",\"4\",\"4\",\"4\",\"4\",\"4\"\n\"missvalue_KEEP\",\"\",\"\",\"\",\"\",\"\"",
      "text/html": [
       "<div class = \"td-resultset-table-div\" style = \"max-height: 100%; overflow-y: auto\">\n",
       "      <table class=\"tdhistory515323\"><style>\n",
       "      table.tdhistory515323 { display: block !important; min-height: 357px !important; overflow: auto !important; height: 357px !important; width: 100% !important; border: 1px solid rgb(207, 207, 207) !important; border-collapse: collapse !important; ; color: var(--jp-ui-font-color1) !important; }\n",
       "      th.tdhistory515323 { border: 1px solid rgb(198,198,198) !important; border-collapse: collapse !important; ; padding: 2px 5px !important; ; font-size: 13px !important; ; text-align: center !important; white-space: normal !important; color: var(--jp-ui-font-color1) !important; }\n",
       "      th.tdhistory515323:last-child { text-align: left !important; }\n",
       "      tbody.tdhistory515323 tr:nth-child(even) { background: rgba(243, 243, 243, 0.75) !important; }\n",
       "      tbody.tdhistory515323 tr:nth-child(odd) { background: var(--jp-ui-inverse-font-color1) !important; }\n",
       "      td.tdhistory515323 { border: 1px solid rgb(207, 207, 207) !important; border-collapse: collapse !important; ; padding: 2px 5px !important; ; font-size: 13px !important; ; text-align: left !important;          white-space: nowrap !important; overflow:hidden !important; text-overflow:ellipsis !important;; }\n",
       "    </style><thead><tr style= \"background: rgba(243, 243, 243, 0.75)\"><th class=\"tdhistory515323\"></th><th class=\"tdhistory515323\">TD_STATTYPE_SCLFIT</th><th class=\"tdhistory515323\">TotalQuantity</th><th class=\"tdhistory515323\">TotalItems</th><th class=\"tdhistory515323\">TotalPrice</th><th class=\"tdhistory515323\">TotalSales</th><th class=\"tdhistory515323\">SalesPerItem</th></tr></thead><tbody class=\"tdhistory515323 resultset-body\"><tr><th class=\"tdhistory515323\" style= \"background: rgba(243, 243, 243, 0.75)\">1</th><td class=\"tdhistory515323\">min</td><td class=\"tdhistory515323\">24</td><td class=\"tdhistory515323\">1</td><td class=\"tdhistory515323\">6.819999999999999</td><td class=\"tdhistory515323\">206.70000000000002</td><td class=\"tdhistory515323\">12.75129228687416</td></tr><tr><th class=\"tdhistory515323\" style= \"background: rgba(243, 243, 243, 0.75)\">2</th><td class=\"tdhistory515323\">max</td><td class=\"tdhistory515323\">4796</td><td class=\"tdhistory515323\">3695</td><td class=\"tdhistory515323\">1291.0499999999997</td><td class=\"tdhistory515323\">5.751069009999999e+06</td><td class=\"tdhistory515323\">555065.5000000001</td></tr><tr><th class=\"tdhistory515323\" style= \"background: rgba(243, 243, 243, 0.75)\">3</th><td class=\"tdhistory515323\">sum</td><td class=\"tdhistory515323\">2.967656e+06</td><td class=\"tdhistory515323\">271301</td><td class=\"tdhistory515323\">937383.1639999992</td><td class=\"tdhistory515323\">1.0652000234370003e+09</td><td class=\"tdhistory515323\">1.7645179379158065e+07</td></tr><tr><th class=\"tdhistory515323\" style= \"background: rgba(243, 243, 243, 0.75)\">4</th><td class=\"tdhistory515323\">count</td><td class=\"tdhistory515323\">4368</td><td class=\"tdhistory515323\">4368</td><td class=\"tdhistory515323\">4368</td><td class=\"tdhistory515323\">4368</td><td class=\"tdhistory515323\">4368</td></tr><tr><th class=\"tdhistory515323\" style= \"background: rgba(243, 243, 243, 0.75)\">5</th><td class=\"tdhistory515323\">null</td><td class=\"tdhistory515323\">0</td><td class=\"tdhistory515323\">0</td><td class=\"tdhistory515323\">0</td><td class=\"tdhistory515323\">0</td><td class=\"tdhistory515323\">0</td></tr><tr><th class=\"tdhistory515323\" style= \"background: rgba(243, 243, 243, 0.75)\">6</th><td class=\"tdhistory515323\">avg</td><td class=\"tdhistory515323\">679.4084249084249</td><td class=\"tdhistory515323\">62.111034798534796</td><td class=\"tdhistory515323\">214.60237271062252</td><td class=\"tdhistory515323\">243864.47423008247</td><td class=\"tdhistory515323\">4039.6472937632934</td></tr><tr><th class=\"tdhistory515323\" style= \"background: rgba(243, 243, 243, 0.75)\">7</th><td class=\"tdhistory515323\">multiplier</td><td class=\"tdhistory515323\">1</td><td class=\"tdhistory515323\">1</td><td class=\"tdhistory515323\">1</td><td class=\"tdhistory515323\">1</td><td class=\"tdhistory515323\">1</td></tr><tr><th class=\"tdhistory515323\" style= \"background: rgba(243, 243, 243, 0.75)\">8</th><td class=\"tdhistory515323\">intercept</td><td class=\"tdhistory515323\">0</td><td class=\"tdhistory515323\">0</td><td class=\"tdhistory515323\">0</td><td class=\"tdhistory515323\">0</td><td class=\"tdhistory515323\">0</td></tr><tr><th class=\"tdhistory515323\" style= \"background: rgba(243, 243, 243, 0.75)\">9</th><td class=\"tdhistory515323\">location</td><td class=\"tdhistory515323\">24</td><td class=\"tdhistory515323\">1</td><td class=\"tdhistory515323\">6.819999999999999</td><td class=\"tdhistory515323\">206.70000000000002</td><td class=\"tdhistory515323\">12.75129228687416</td></tr><tr><th class=\"tdhistory515323\" style= \"background: rgba(243, 243, 243, 0.75)\">10</th><td class=\"tdhistory515323\">scale</td><td class=\"tdhistory515323\">4772</td><td class=\"tdhistory515323\">3694</td><td class=\"tdhistory515323\">1284.2299999999998</td><td class=\"tdhistory515323\">5.750862309999999e+06</td><td class=\"tdhistory515323\">555052.7487077132</td></tr><tr><th class=\"tdhistory515323\" style= \"background: rgba(243, 243, 243, 0.75)\">11</th><td class=\"tdhistory515323\">globalscale_false</td><td class=\"tdhistory515323\"></td><td class=\"tdhistory515323\"></td><td class=\"tdhistory515323\"></td><td class=\"tdhistory515323\"></td><td class=\"tdhistory515323\"></td></tr><tr><th class=\"tdhistory515323\" style= \"background: rgba(243, 243, 243, 0.75)\">12</th><td class=\"tdhistory515323\">ScaleMethodNumberMapping: [0:mean,1:sum,2:ustd,3:std,4:range,5:midrange,6:maxabs,7:rescale]</td><td class=\"tdhistory515323\">4</td><td class=\"tdhistory515323\">4</td><td class=\"tdhistory515323\">4</td><td class=\"tdhistory515323\">4</td><td class=\"tdhistory515323\">4</td></tr><tr><th class=\"tdhistory515323\" style= \"background: rgba(243, 243, 243, 0.75)\">13</th><td class=\"tdhistory515323\">missvalue_KEEP</td><td class=\"tdhistory515323\"></td><td class=\"tdhistory515323\"></td><td class=\"tdhistory515323\"></td><td class=\"tdhistory515323\"></td><td class=\"tdhistory515323\"></td></tr></tbody></table></div>"
      ]
     },
     "execution_count": 15,
     "metadata": {
      "application/vnd.teradata.resultset": "{\"resultSetID\":\"/home/jovyan/JupyterLabRoot/Teradata/Resultsets/2023.12.21_07.59.08.997_UTC\",\"historyID\":231,\"chunkID\":\"00001\",\"sessionid\":\"\",\"portnum\":\"\",\"dockermode\":\"docker\",\"totalRowCount\":13,\"chunkCount\":0,\"rowLimit\":0,\"columnMetadata\":[{\"columnName\":\"TD_STATTYPE_SCLFIT\",\"columnTypeName\":\"VARCHAR\",\"length\":128,\"scale\":128},{\"columnNumber\":1,\"columnName\":\"TotalQuantity\",\"columnTypeName\":\"FLOAT\"},{\"columnNumber\":2,\"columnName\":\"TotalItems\",\"columnTypeName\":\"FLOAT\"},{\"columnNumber\":3,\"columnName\":\"TotalPrice\",\"columnTypeName\":\"FLOAT\"},{\"columnNumber\":4,\"columnName\":\"TotalSales\",\"columnTypeName\":\"FLOAT\"},{\"columnNumber\":5,\"columnName\":\"SalesPerItem\",\"columnTypeName\":\"FLOAT\"}]}"
     },
     "output_type": "execute_result"
    }
   ],
   "source": [
    "-- ScaleFit/Transform to rescale the data\n",
    "\n",
    "SELECT * FROM TD_ScaleFit(\n",
    "    ON Transformed_Customer_ID_Group_VT AS InputTable\n",
    "    OUT VOLATILE TABLE OutputTable(ScaleFit_CS)\n",
    "    USING\n",
    "        TargetColumns('TotalQuantity','TotalItems','TotalPrice','TotalSales','SalesPerItem')\n",
    "        ScaleMethod('range')\n",
    ") AS dt;"
   ]
  },
  {
   "cell_type": "code",
   "execution_count": 16,
   "id": "9d527164-6711-4403-98a2-308c76f8b474",
   "metadata": {},
   "outputs": [
    {
     "data": {
      "text/plain": [
       "Success: 0 rows affected"
      ]
     },
     "execution_count": 16,
     "metadata": {
      "application/vnd.teradata.resultset": ""
     },
     "output_type": "execute_result"
    }
   ],
   "source": [
    "CREATE MULTISET VOLATILE TABLE Scaled_Transformed_Customer_ID_Group_VT AS (\n",
    "    SELECT * FROM TD_ScaleTransform(\n",
    "        ON Transformed_Customer_ID_Group_VT AS InputTable\n",
    "        ON ScaleFit_CS as FitTable DIMENSION\n",
    "        USING\n",
    "            Accumulate('CustomerID')\n",
    "    ) AS dt\n",
    ") WITH DATA\n",
    "ON COMMIT PRESERVE ROWS;"
   ]
  },
  {
   "cell_type": "markdown",
   "id": "1600baf7-be81-4e2b-9a7a-87a7677f8f19",
   "metadata": {},
   "source": [
    "<p style = 'font-size:16px;font-family:Arial;color:#00233C'>Let us look at the final values which we will now input to the model. </p> "
   ]
  },
  {
   "cell_type": "code",
   "execution_count": 17,
   "id": "d9d2acef-faab-47e5-ac09-64df7351004b",
   "metadata": {},
   "outputs": [
    {
     "data": {
      "application/vnd.teradata.resultset": "\"CustomerID\",\"TotalQuantity\",\"TotalItems\",\"TotalPrice\",\"TotalSales\",\"SalesPerItem\"\n\"12649\",\"0.11525565800502934\",\"0.00785056848944234\",\"0.06236421824751019\",\"0.008638641880473055\",\"0.00297291872088732\"\n\"16669\",\"0.1785414920368818\",\"0.03789929615592853\",\"0.3292167290905836\",\"0.0654043932413329\",\"0.004785698470778398\"\n\"17394\",\"0.04547359597652976\",\"0.0008121277747698972\",\"0.005411803181673066\",\"0.0005411136334439558\",\"0.0014717361721296419\"\n\"13500\",\"0.11756077116512992\",\"0.01597184623714131\",\"0.18021693933329705\",\"0.02420078807277165\",\"0.004162277753045963\"\n\"12910\",\"0.3495389773679799\",\"0.012723335138061722\",\"0.11691052225847395\",\"0.04614431813791765\",\"0.009945160564586202\"",
      "text/html": [
       "<div class = \"td-resultset-table-div\" style = \"max-height: 100%; overflow-y: auto\">\n",
       "      <table class=\"tdhistory334877\"><style>\n",
       "      table.tdhistory334877 { display: block !important; min-height: 189px !important; overflow: auto !important; height: 189px !important; width: 100% !important; border: 1px solid rgb(207, 207, 207) !important; border-collapse: collapse !important; ; color: var(--jp-ui-font-color1) !important; }\n",
       "      th.tdhistory334877 { border: 1px solid rgb(198,198,198) !important; border-collapse: collapse !important; ; padding: 2px 5px !important; ; font-size: 13px !important; ; text-align: center !important; white-space: normal !important; color: var(--jp-ui-font-color1) !important; }\n",
       "      th.tdhistory334877:last-child { text-align: left !important; }\n",
       "      tbody.tdhistory334877 tr:nth-child(even) { background: rgba(243, 243, 243, 0.75) !important; }\n",
       "      tbody.tdhistory334877 tr:nth-child(odd) { background: var(--jp-ui-inverse-font-color1) !important; }\n",
       "      td.tdhistory334877 { border: 1px solid rgb(207, 207, 207) !important; border-collapse: collapse !important; ; padding: 2px 5px !important; ; font-size: 13px !important; ; text-align: left !important;          white-space: nowrap !important; overflow:hidden !important; text-overflow:ellipsis !important;; }\n",
       "    </style><thead><tr style= \"background: rgba(243, 243, 243, 0.75)\"><th class=\"tdhistory334877\"></th><th class=\"tdhistory334877\">CustomerID</th><th class=\"tdhistory334877\">TotalQuantity</th><th class=\"tdhistory334877\">TotalItems</th><th class=\"tdhistory334877\">TotalPrice</th><th class=\"tdhistory334877\">TotalSales</th><th class=\"tdhistory334877\">SalesPerItem</th></tr></thead><tbody class=\"tdhistory334877 resultset-body\"><tr><th class=\"tdhistory334877\" style= \"background: rgba(243, 243, 243, 0.75)\">1</th><td class=\"tdhistory334877\">12649</td><td class=\"tdhistory334877\">0.11525565800502934</td><td class=\"tdhistory334877\">0.00785056848944234</td><td class=\"tdhistory334877\">0.06236421824751019</td><td class=\"tdhistory334877\">0.008638641880473055</td><td class=\"tdhistory334877\">0.00297291872088732</td></tr><tr><th class=\"tdhistory334877\" style= \"background: rgba(243, 243, 243, 0.75)\">2</th><td class=\"tdhistory334877\">16669</td><td class=\"tdhistory334877\">0.1785414920368818</td><td class=\"tdhistory334877\">0.03789929615592853</td><td class=\"tdhistory334877\">0.3292167290905836</td><td class=\"tdhistory334877\">0.0654043932413329</td><td class=\"tdhistory334877\">0.004785698470778398</td></tr><tr><th class=\"tdhistory334877\" style= \"background: rgba(243, 243, 243, 0.75)\">3</th><td class=\"tdhistory334877\">17394</td><td class=\"tdhistory334877\">0.04547359597652976</td><td class=\"tdhistory334877\">0.0008121277747698972</td><td class=\"tdhistory334877\">0.005411803181673066</td><td class=\"tdhistory334877\">0.0005411136334439558</td><td class=\"tdhistory334877\">0.0014717361721296419</td></tr><tr><th class=\"tdhistory334877\" style= \"background: rgba(243, 243, 243, 0.75)\">4</th><td class=\"tdhistory334877\">13500</td><td class=\"tdhistory334877\">0.11756077116512992</td><td class=\"tdhistory334877\">0.01597184623714131</td><td class=\"tdhistory334877\">0.18021693933329705</td><td class=\"tdhistory334877\">0.02420078807277165</td><td class=\"tdhistory334877\">0.004162277753045963</td></tr><tr><th class=\"tdhistory334877\" style= \"background: rgba(243, 243, 243, 0.75)\">5</th><td class=\"tdhistory334877\">12910</td><td class=\"tdhistory334877\">0.3495389773679799</td><td class=\"tdhistory334877\">0.012723335138061722</td><td class=\"tdhistory334877\">0.11691052225847395</td><td class=\"tdhistory334877\">0.04614431813791765</td><td class=\"tdhistory334877\">0.009945160564586202</td></tr></tbody></table></div>"
      ]
     },
     "execution_count": 17,
     "metadata": {
      "application/vnd.teradata.resultset": "{\"resultSetID\":\"/home/jovyan/JupyterLabRoot/Teradata/Resultsets/2023.12.21_07.59.09.369_UTC\",\"historyID\":233,\"chunkID\":\"00001\",\"sessionid\":\"\",\"portnum\":\"\",\"dockermode\":\"docker\",\"totalRowCount\":5,\"chunkCount\":0,\"rowLimit\":0,\"columnMetadata\":[{\"columnName\":\"CustomerID\",\"columnTypeName\":\"FLOAT\"},{\"columnNumber\":1,\"columnName\":\"TotalQuantity\",\"columnTypeName\":\"FLOAT\"},{\"columnNumber\":2,\"columnName\":\"TotalItems\",\"columnTypeName\":\"FLOAT\"},{\"columnNumber\":3,\"columnName\":\"TotalPrice\",\"columnTypeName\":\"FLOAT\"},{\"columnNumber\":4,\"columnName\":\"TotalSales\",\"columnTypeName\":\"FLOAT\"},{\"columnNumber\":5,\"columnName\":\"SalesPerItem\",\"columnTypeName\":\"FLOAT\"}]}"
     },
     "output_type": "execute_result"
    }
   ],
   "source": [
    "SELECT TOP 5 * FROM Scaled_Transformed_Customer_ID_Group_VT;"
   ]
  },
  {
   "cell_type": "markdown",
   "id": "1e4d43dc-d5a4-47c1-adae-78754f6008c2",
   "metadata": {},
   "source": [
    "<hr style=\"height:2px;border:none;background-color:#00233C;\">"
   ]
  },
  {
   "cell_type": "markdown",
   "id": "1b5a61ce",
   "metadata": {
    "tags": []
   },
   "source": [
    "<p style = 'font-size:20px;font-family:Arial;color:#00233C'><b>4. Build the K-means Model</b></p>\n",
    "\n",
    "<p style = 'font-size:16px;font-family:Arial;color:#00233C'>As discussed above, the K-means algorithm takes a number of clusters \"k\", chooses a random starting point for each centroid, and iterates until a hard limit, or an optimum value is reached.</p>\n",
    "\n",
    "<p style = 'font-size:16px;font-family:Arial;color:#00233C'><b>Finding an Ideal value for K</b></p>\n",
    "<table style = 'width:100%;table-layout:fixed;'>\n",
    "    <tr>\n",
    "        <td style = 'vertical-align:top' width = '50%'>\n",
    "<p style = 'font-size:16px;font-family:Arial;color:#00233C'>The example below uses a value of 5 for the number of clusters to build the model against.  Typically, data scientists will build the model using various values for \"k\", and plot the \"WCSS\" (Within Cluster Sum-of-Squares) value on a series of each value chosen for k.  The \"elbow\" point (where the slope changes) is usually a good value for k.  <a href = 'https://docs.teradata.com/search/all?query=TD_KMeans&content-lang=en-US'>TD_KMeans</a> function will return this value as \"TotalWithinSS : ###\" as a row in the \"td_modelinfo_kmeans\" column.</p></td>\n",
    "        <td><img src = 'images/WCSS_elbow.png' width = '300'></td>\n",
    "    </tr>\n",
    "    </table>\n",
    "\n",
    "<p style = 'font-size:16px;font-family:Arial;color:#00233C'><b>Other Function Parameters Include (but are not limited to)</b></p>\n",
    "<ul style = 'font-size:16px;font-family:Arial;color:#00233C'>\n",
    "    <li>Input Table</li>\n",
    "    <li>StopThreshold - The algorithm converges if the distance between the centroids from the previous iteration and the current iteration is less than the specified value.</li>\n",
    "    <li>MaxIterNum</li>Specify the maximum number of iterations for the K-means algorithm. The algorithm stops after performing the specified number of iterations even if the convergence criterion is not met.\n",
    "    </ul>"
   ]
  },
  {
   "cell_type": "code",
   "execution_count": 18,
   "id": "2913528c",
   "metadata": {},
   "outputs": [
    {
     "data": {
      "text/plain": [
       "Success: 0 rows affected"
      ]
     },
     "execution_count": 18,
     "metadata": {
      "application/vnd.teradata.resultset": ""
     },
     "output_type": "execute_result"
    },
    {
     "data": {
      "application/vnd.teradata.resultset": "\"td_clusterid_kmeans\",\"TotalQuantity\",\"TotalPrice\",\"TotalItems\",\"TotalSales\",\"SalesPerItem\",\"td_size_kmeans\",\"td_withinss_kmeans\",\"CustomerID\",\"td_modelinfo_kmeans\"\n\"2\",\"0.12628561091890003\",\"0.19100850984262494\",\"0.02011004506483512\",\"0.02668859174163989\",\"0.005460674735405416\",\"1082\",\"12.523016588563792\",\"\",\"\"\n\"4\",\"0.21000082641701012\",\"0.5552928816993753\",\"0.039701991047530444\",\"0.1253395467319963\",\"0.01230365678297573\",\"355\",\"14.728360537634728\",\"\",\"\"\n\"3\",\"0.6221212951619491\",\"0.6599737406251817\",\"0.04814112975997112\",\"0.43297020725958785\",\"0.03428119021793607\",\"156\",\"13.176755462437939\",\"\",\"\"\n\"1\",\"0.45603446637712425\",\"0.19079591960062872\",\"0.031991424585310235\",\"0.09219292594627396\",\"0.020208149676309368\",\"397\",\"19.28166549602284\",\"\",\"\"\n\"0\",\"0.04652366587544249\",\"0.05223708483293819\",\"0.00681133181214007\",\"0.0031753005054262\",\"0.003382253441965391\",\"2378\",\"7.538329818692205\",\"\",\"\"",
      "text/html": [
       "<div class = \"td-resultset-table-div\" style = \"max-height: 100%; overflow-y: auto\">\n",
       "      <table class=\"tdhistory665820\"><style>\n",
       "      table.tdhistory665820 { display: block !important; min-height: 189px !important; overflow: auto !important; height: 189px !important; width: 100% !important; border: 1px solid rgb(207, 207, 207) !important; border-collapse: collapse !important; ; color: var(--jp-ui-font-color1) !important; }\n",
       "      th.tdhistory665820 { border: 1px solid rgb(198,198,198) !important; border-collapse: collapse !important; ; padding: 2px 5px !important; ; font-size: 13px !important; ; text-align: center !important; white-space: normal !important; color: var(--jp-ui-font-color1) !important; }\n",
       "      th.tdhistory665820:last-child { text-align: left !important; }\n",
       "      tbody.tdhistory665820 tr:nth-child(even) { background: rgba(243, 243, 243, 0.75) !important; }\n",
       "      tbody.tdhistory665820 tr:nth-child(odd) { background: var(--jp-ui-inverse-font-color1) !important; }\n",
       "      td.tdhistory665820 { border: 1px solid rgb(207, 207, 207) !important; border-collapse: collapse !important; ; padding: 2px 5px !important; ; font-size: 13px !important; ; text-align: left !important;          white-space: nowrap !important; overflow:hidden !important; text-overflow:ellipsis !important;; }\n",
       "    </style><thead><tr style= \"background: rgba(243, 243, 243, 0.75)\"><th class=\"tdhistory665820\"></th><th class=\"tdhistory665820\">td_clusterid_kmeans</th><th class=\"tdhistory665820\">TotalQuantity</th><th class=\"tdhistory665820\">TotalPrice</th><th class=\"tdhistory665820\">TotalItems</th><th class=\"tdhistory665820\">TotalSales</th><th class=\"tdhistory665820\">SalesPerItem</th><th class=\"tdhistory665820\">td_size_kmeans</th><th class=\"tdhistory665820\">td_withinss_kmeans</th><th class=\"tdhistory665820\">CustomerID</th><th class=\"tdhistory665820\">td_modelinfo_kmeans</th></tr></thead><tbody class=\"tdhistory665820 resultset-body\"><tr><th class=\"tdhistory665820\" style= \"background: rgba(243, 243, 243, 0.75)\">1</th><td class=\"tdhistory665820\">2</td><td class=\"tdhistory665820\">0.12628561091890003</td><td class=\"tdhistory665820\">0.19100850984262494</td><td class=\"tdhistory665820\">0.02011004506483512</td><td class=\"tdhistory665820\">0.02668859174163989</td><td class=\"tdhistory665820\">0.005460674735405416</td><td class=\"tdhistory665820\">1082</td><td class=\"tdhistory665820\">12.523016588563792</td><td class=\"tdhistory665820\"></td><td class=\"tdhistory665820\"></td></tr><tr><th class=\"tdhistory665820\" style= \"background: rgba(243, 243, 243, 0.75)\">2</th><td class=\"tdhistory665820\">4</td><td class=\"tdhistory665820\">0.21000082641701012</td><td class=\"tdhistory665820\">0.5552928816993753</td><td class=\"tdhistory665820\">0.039701991047530444</td><td class=\"tdhistory665820\">0.1253395467319963</td><td class=\"tdhistory665820\">0.01230365678297573</td><td class=\"tdhistory665820\">355</td><td class=\"tdhistory665820\">14.728360537634728</td><td class=\"tdhistory665820\"></td><td class=\"tdhistory665820\"></td></tr><tr><th class=\"tdhistory665820\" style= \"background: rgba(243, 243, 243, 0.75)\">3</th><td class=\"tdhistory665820\">3</td><td class=\"tdhistory665820\">0.6221212951619491</td><td class=\"tdhistory665820\">0.6599737406251817</td><td class=\"tdhistory665820\">0.04814112975997112</td><td class=\"tdhistory665820\">0.43297020725958785</td><td class=\"tdhistory665820\">0.03428119021793607</td><td class=\"tdhistory665820\">156</td><td class=\"tdhistory665820\">13.176755462437939</td><td class=\"tdhistory665820\"></td><td class=\"tdhistory665820\"></td></tr><tr><th class=\"tdhistory665820\" style= \"background: rgba(243, 243, 243, 0.75)\">4</th><td class=\"tdhistory665820\">1</td><td class=\"tdhistory665820\">0.45603446637712425</td><td class=\"tdhistory665820\">0.19079591960062872</td><td class=\"tdhistory665820\">0.031991424585310235</td><td class=\"tdhistory665820\">0.09219292594627396</td><td class=\"tdhistory665820\">0.020208149676309368</td><td class=\"tdhistory665820\">397</td><td class=\"tdhistory665820\">19.28166549602284</td><td class=\"tdhistory665820\"></td><td class=\"tdhistory665820\"></td></tr><tr><th class=\"tdhistory665820\" style= \"background: rgba(243, 243, 243, 0.75)\">5</th><td class=\"tdhistory665820\">0</td><td class=\"tdhistory665820\">0.04652366587544249</td><td class=\"tdhistory665820\">0.05223708483293819</td><td class=\"tdhistory665820\">0.00681133181214007</td><td class=\"tdhistory665820\">0.0031753005054262</td><td class=\"tdhistory665820\">0.003382253441965391</td><td class=\"tdhistory665820\">2378</td><td class=\"tdhistory665820\">7.538329818692205</td><td class=\"tdhistory665820\"></td><td class=\"tdhistory665820\"></td></tr></tbody></table></div>"
      ]
     },
     "execution_count": 18,
     "metadata": {
      "application/vnd.teradata.resultset": "{\"resultSetID\":\"/home/jovyan/JupyterLabRoot/Teradata/Resultsets/2023.12.21_07.59.11.185_UTC\",\"historyID\":234,\"chunkID\":\"00001\",\"sessionid\":\"\",\"portnum\":\"\",\"dockermode\":\"docker\",\"totalRowCount\":5,\"chunkCount\":0,\"rowLimit\":0,\"columnMetadata\":[{\"columnName\":\"td_clusterid_kmeans\",\"columnTypeName\":\"BIGINT\"},{\"columnNumber\":1,\"columnName\":\"TotalQuantity\",\"columnTypeName\":\"FLOAT\"},{\"columnNumber\":2,\"columnName\":\"TotalPrice\",\"columnTypeName\":\"FLOAT\"},{\"columnNumber\":3,\"columnName\":\"TotalItems\",\"columnTypeName\":\"FLOAT\"},{\"columnNumber\":4,\"columnName\":\"TotalSales\",\"columnTypeName\":\"FLOAT\"},{\"columnNumber\":5,\"columnName\":\"SalesPerItem\",\"columnTypeName\":\"FLOAT\"},{\"columnNumber\":6,\"columnName\":\"td_size_kmeans\",\"columnTypeName\":\"BIGINT\"},{\"columnNumber\":7,\"columnName\":\"td_withinss_kmeans\",\"columnTypeName\":\"FLOAT\"},{\"columnNumber\":8,\"columnName\":\"CustomerID\",\"columnTypeName\":\"BYTEINT\"},{\"columnNumber\":9,\"columnName\":\"td_modelinfo_kmeans\",\"columnTypeName\":\"VARCHAR\",\"length\":128,\"scale\":128}]}"
     },
     "output_type": "execute_result"
    }
   ],
   "source": [
    "SELECT TOP 5 * from TD_KMeans (\n",
    "    ON Scaled_Transformed_Customer_ID_Group_VT as InputTable\n",
    "    OUT TABLE ModelTable(KMeans_Model)\n",
    "    USING\n",
    "        IdColumn('CustomerID')\n",
    "        TargetColumns('TotalQuantity','TotalPrice','TotalItems','TotalSales','SalesPerItem')\n",
    "        StopThreshold(0.0395)\n",
    "        NumClusters(5)\n",
    "        -- Seed(0)\n",
    "        MaxIterNum(500)\n",
    "        -- OutputClusterAssignment('true')\n",
    ") AS dt;"
   ]
  },
  {
   "cell_type": "markdown",
   "id": "e21eab9f-69af-427a-a523-c6aca8cd187f",
   "metadata": {},
   "source": [
    "<p style = 'font-size:16px;font-family:Arial;color:#00233C'>From the generated model we can see how many ids are there in each cluster, what is the size of each cluster, number of iterations it took for model to converge etc.\n",
    "    "
   ]
  },
  {
   "cell_type": "code",
   "execution_count": 19,
   "id": "f60ce225-1d8b-4c8b-ab0a-1c8c0aa7e147",
   "metadata": {},
   "outputs": [
    {
     "data": {
      "application/vnd.teradata.resultset": "\"td_clusterid_kmeans\",\"td_size_kmeans\"\n\"2\",\"1082\"\n\"4\",\"355\"\n\"3\",\"156\"\n\"1\",\"397\"\n\"0\",\"2378\"",
      "text/html": [
       "<div class = \"td-resultset-table-div\" style = \"max-height: 100%; overflow-y: auto\">\n",
       "      <table class=\"tdhistory72364\"><style>\n",
       "      table.tdhistory72364 { display: block !important; min-height: 189px !important; overflow: auto !important; height: 189px !important; width: 100% !important; border: 1px solid rgb(207, 207, 207) !important; border-collapse: collapse !important; ; color: var(--jp-ui-font-color1) !important; }\n",
       "      th.tdhistory72364 { border: 1px solid rgb(198,198,198) !important; border-collapse: collapse !important; ; padding: 2px 5px !important; ; font-size: 13px !important; ; text-align: center !important; white-space: normal !important; color: var(--jp-ui-font-color1) !important; }\n",
       "      th.tdhistory72364:last-child { text-align: left !important; }\n",
       "      tbody.tdhistory72364 tr:nth-child(even) { background: rgba(243, 243, 243, 0.75) !important; }\n",
       "      tbody.tdhistory72364 tr:nth-child(odd) { background: var(--jp-ui-inverse-font-color1) !important; }\n",
       "      td.tdhistory72364 { border: 1px solid rgb(207, 207, 207) !important; border-collapse: collapse !important; ; padding: 2px 5px !important; ; font-size: 13px !important; ; text-align: left !important;          white-space: nowrap !important; overflow:hidden !important; text-overflow:ellipsis !important;; }\n",
       "    </style><thead><tr style= \"background: rgba(243, 243, 243, 0.75)\"><th class=\"tdhistory72364\"></th><th class=\"tdhistory72364\">td_clusterid_kmeans</th><th class=\"tdhistory72364\">td_size_kmeans</th></tr></thead><tbody class=\"tdhistory72364 resultset-body\"><tr><th class=\"tdhistory72364\" style= \"background: rgba(243, 243, 243, 0.75)\">1</th><td class=\"tdhistory72364\">2</td><td class=\"tdhistory72364\">1082</td></tr><tr><th class=\"tdhistory72364\" style= \"background: rgba(243, 243, 243, 0.75)\">2</th><td class=\"tdhistory72364\">4</td><td class=\"tdhistory72364\">355</td></tr><tr><th class=\"tdhistory72364\" style= \"background: rgba(243, 243, 243, 0.75)\">3</th><td class=\"tdhistory72364\">3</td><td class=\"tdhistory72364\">156</td></tr><tr><th class=\"tdhistory72364\" style= \"background: rgba(243, 243, 243, 0.75)\">4</th><td class=\"tdhistory72364\">1</td><td class=\"tdhistory72364\">397</td></tr><tr><th class=\"tdhistory72364\" style= \"background: rgba(243, 243, 243, 0.75)\">5</th><td class=\"tdhistory72364\">0</td><td class=\"tdhistory72364\">2378</td></tr></tbody></table></div>"
      ]
     },
     "execution_count": 19,
     "metadata": {
      "application/vnd.teradata.resultset": "{\"resultSetID\":\"/home/jovyan/JupyterLabRoot/Teradata/Resultsets/2023.12.21_07.59.11.300_UTC\",\"historyID\":235,\"chunkID\":\"00001\",\"sessionid\":\"\",\"portnum\":\"\",\"dockermode\":\"docker\",\"totalRowCount\":5,\"chunkCount\":0,\"rowLimit\":0,\"columnMetadata\":[{\"columnName\":\"td_clusterid_kmeans\",\"columnTypeName\":\"BIGINT\"},{\"columnNumber\":1,\"columnName\":\"td_size_kmeans\",\"columnTypeName\":\"BIGINT\"}]}"
     },
     "output_type": "execute_result"
    }
   ],
   "source": [
    "SELECT TOP 5 td_clusterid_kmeans, td_size_kmeans FROM KMeans_Model;"
   ]
  },
  {
   "cell_type": "code",
   "execution_count": 20,
   "id": "da4009af-4bb7-461f-b0a8-ca9a7cdae0b3",
   "metadata": {},
   "outputs": [
    {
     "data": {
      "application/vnd.vegalite.v3+json": {
       "$schema": "https://vega.github.io/schema/vega-lite/v3.json",
       "data": {
        "format": {
         "type": "csv"
        },
        "values": "\"td_clusterid_kmeans\",\"td_size_kmeans\"\n\"2\",\"1082\"\n\"4\",\"355\"\n\"3\",\"156\"\n\"1\",\"397\"\n\"0\",\"2378\"\n"
       },
       "encoding": {
        "x": {
         "axis": {
          "grid": true,
          "title": "cluster ids"
         },
         "field": "td_clusterid_kmeans",
         "type": "quantitative"
        },
        "y": {
         "axis": {
          "grid": true,
          "title": "count of ids"
         },
         "field": "td_size_kmeans",
         "type": "quantitative"
        }
       },
       "height": "400",
       "mark": {
        "color": "#4C78A8",
        "type": "bar"
       },
       "title": "Number of Ids in each Cluster",
       "width": "400"
      },
      "image/png": "[encoded data removed]"
     },
     "execution_count": 20,
     "metadata": {
      "application/vnd.teradata.resultset": ""
     },
     "output_type": "execute_result"
    }
   ],
   "source": [
    "%chart x = td_clusterid_kmeans, y = td_size_kmeans, typex = q, typey = q,\n",
    "labelx = \"cluster ids\", labely = \"count of ids\", type = bar,\n",
    "title = \"Number of Ids in each Cluster\", height = 400, width = 400"
   ]
  },
  {
   "cell_type": "markdown",
   "id": "edc5f4a7-b685-4044-8802-a208abe21f81",
   "metadata": {},
   "source": [
    "<p style = 'font-size:16px;font-family:Arial;color:#00233C'>The above barchart shows the number of ids in each cluster where cluster_id is 0-4 generated by the TD_Kmeans function.<br>Let us now visualize how the clusters look like. We have used five columns to create clusters namely 'TotalQuantity','TotalPrice','TotalItems','TotalSales','SalesPerItem'.<br> For the visualization in 2d plane i.e with X and Y coordinates we will use two of these column values for our plots."
   ]
  },
  {
   "cell_type": "code",
   "execution_count": 21,
   "id": "e2dc2050-d8ff-42c2-a455-feaf0cd0e06a",
   "metadata": {},
   "outputs": [
    {
     "data": {
      "application/vnd.teradata.resultset": "\"CustomerID\",\"td_clusterid_kmeans\",\"td_distance_kmeans\",\"TotalQuantity\",\"TotalItems\",\"TotalPrice\",\"TotalSales\",\"SalesPerItem\"\n\"12957\",\"3\",\"0.20620033398660964\",\"0.5253562447611064\",\"0.0560368164591229\",\"0.5329341317365269\",\"0.30417984916074264\",\"0.015130672657059908\"\n\"13349\",\"0\",\"0.009225851369446442\",\"0.04212070410729254\",\"0.004060638873849486\",\"0.04485177888695951\",\"0.0024844621953746624\",\"0.0016091352755077605\"\n\"16434\",\"2\",\"0.08421952588823309\",\"0.15423302598491198\",\"0.023551705468327015\",\"0.2679115111779043\",\"0.04633428617072907\",\"0.00543655713347243\"\n\"16168\",\"1\",\"0.09186885618528345\",\"0.3906119027661358\",\"0.015159718462371413\",\"0.25100643965644787\",\"0.10803010514087587\",\"0.019620266936850688\"\n\"14090\",\"0\",\"0.05833357652574218\",\"0.010058675607711651\",\"0\",\"0.09520490877802268\",\"0.0015801838941958608\",\"0.01672159759468308\"",
      "text/html": [
       "<div class = \"td-resultset-table-div\" style = \"max-height: 100%; overflow-y: auto\">\n",
       "      <table class=\"tdhistory477085\"><style>\n",
       "      table.tdhistory477085 { display: block !important; min-height: 189px !important; overflow: auto !important; height: 189px !important; width: 100% !important; border: 1px solid rgb(207, 207, 207) !important; border-collapse: collapse !important; ; color: var(--jp-ui-font-color1) !important; }\n",
       "      th.tdhistory477085 { border: 1px solid rgb(198,198,198) !important; border-collapse: collapse !important; ; padding: 2px 5px !important; ; font-size: 13px !important; ; text-align: center !important; white-space: normal !important; color: var(--jp-ui-font-color1) !important; }\n",
       "      th.tdhistory477085:last-child { text-align: left !important; }\n",
       "      tbody.tdhistory477085 tr:nth-child(even) { background: rgba(243, 243, 243, 0.75) !important; }\n",
       "      tbody.tdhistory477085 tr:nth-child(odd) { background: var(--jp-ui-inverse-font-color1) !important; }\n",
       "      td.tdhistory477085 { border: 1px solid rgb(207, 207, 207) !important; border-collapse: collapse !important; ; padding: 2px 5px !important; ; font-size: 13px !important; ; text-align: left !important;          white-space: nowrap !important; overflow:hidden !important; text-overflow:ellipsis !important;; }\n",
       "    </style><thead><tr style= \"background: rgba(243, 243, 243, 0.75)\"><th class=\"tdhistory477085\"></th><th class=\"tdhistory477085\">CustomerID</th><th class=\"tdhistory477085\">td_clusterid_kmeans</th><th class=\"tdhistory477085\">td_distance_kmeans</th><th class=\"tdhistory477085\">TotalQuantity</th><th class=\"tdhistory477085\">TotalItems</th><th class=\"tdhistory477085\">TotalPrice</th><th class=\"tdhistory477085\">TotalSales</th><th class=\"tdhistory477085\">SalesPerItem</th></tr></thead><tbody class=\"tdhistory477085 resultset-body\"><tr><th class=\"tdhistory477085\" style= \"background: rgba(243, 243, 243, 0.75)\">1</th><td class=\"tdhistory477085\">12957</td><td class=\"tdhistory477085\">3</td><td class=\"tdhistory477085\">0.20620033398660964</td><td class=\"tdhistory477085\">0.5253562447611064</td><td class=\"tdhistory477085\">0.0560368164591229</td><td class=\"tdhistory477085\">0.5329341317365269</td><td class=\"tdhistory477085\">0.30417984916074264</td><td class=\"tdhistory477085\">0.015130672657059908</td></tr><tr><th class=\"tdhistory477085\" style= \"background: rgba(243, 243, 243, 0.75)\">2</th><td class=\"tdhistory477085\">13349</td><td class=\"tdhistory477085\">0</td><td class=\"tdhistory477085\">0.009225851369446442</td><td class=\"tdhistory477085\">0.04212070410729254</td><td class=\"tdhistory477085\">0.004060638873849486</td><td class=\"tdhistory477085\">0.04485177888695951</td><td class=\"tdhistory477085\">0.0024844621953746624</td><td class=\"tdhistory477085\">0.0016091352755077605</td></tr><tr><th class=\"tdhistory477085\" style= \"background: rgba(243, 243, 243, 0.75)\">3</th><td class=\"tdhistory477085\">16434</td><td class=\"tdhistory477085\">2</td><td class=\"tdhistory477085\">0.08421952588823309</td><td class=\"tdhistory477085\">0.15423302598491198</td><td class=\"tdhistory477085\">0.023551705468327015</td><td class=\"tdhistory477085\">0.2679115111779043</td><td class=\"tdhistory477085\">0.04633428617072907</td><td class=\"tdhistory477085\">0.00543655713347243</td></tr><tr><th class=\"tdhistory477085\" style= \"background: rgba(243, 243, 243, 0.75)\">4</th><td class=\"tdhistory477085\">16168</td><td class=\"tdhistory477085\">1</td><td class=\"tdhistory477085\">0.09186885618528345</td><td class=\"tdhistory477085\">0.3906119027661358</td><td class=\"tdhistory477085\">0.015159718462371413</td><td class=\"tdhistory477085\">0.25100643965644787</td><td class=\"tdhistory477085\">0.10803010514087587</td><td class=\"tdhistory477085\">0.019620266936850688</td></tr><tr><th class=\"tdhistory477085\" style= \"background: rgba(243, 243, 243, 0.75)\">5</th><td class=\"tdhistory477085\">14090</td><td class=\"tdhistory477085\">0</td><td class=\"tdhistory477085\">0.05833357652574218</td><td class=\"tdhistory477085\">0.010058675607711651</td><td class=\"tdhistory477085\">0</td><td class=\"tdhistory477085\">0.09520490877802268</td><td class=\"tdhistory477085\">0.0015801838941958608</td><td class=\"tdhistory477085\">0.01672159759468308</td></tr></tbody></table></div>"
      ]
     },
     "execution_count": 21,
     "metadata": {
      "application/vnd.teradata.resultset": "{\"resultSetID\":\"/home/jovyan/JupyterLabRoot/Teradata/Resultsets/2023.12.21_07.59.11.508_UTC\",\"historyID\":236,\"chunkID\":\"00001\",\"sessionid\":\"\",\"portnum\":\"\",\"dockermode\":\"docker\",\"totalRowCount\":5,\"chunkCount\":0,\"rowLimit\":0,\"columnMetadata\":[{\"columnName\":\"CustomerID\",\"columnTypeName\":\"FLOAT\"},{\"columnNumber\":1,\"columnName\":\"td_clusterid_kmeans\",\"columnTypeName\":\"BIGINT\"},{\"columnNumber\":2,\"columnName\":\"td_distance_kmeans\",\"columnTypeName\":\"FLOAT\"},{\"columnNumber\":3,\"columnName\":\"TotalQuantity\",\"columnTypeName\":\"FLOAT\"},{\"columnNumber\":4,\"columnName\":\"TotalItems\",\"columnTypeName\":\"FLOAT\"},{\"columnNumber\":5,\"columnName\":\"TotalPrice\",\"columnTypeName\":\"FLOAT\"},{\"columnNumber\":6,\"columnName\":\"TotalSales\",\"columnTypeName\":\"FLOAT\"},{\"columnNumber\":7,\"columnName\":\"SalesPerItem\",\"columnTypeName\":\"FLOAT\"}]}"
     },
     "output_type": "execute_result"
    }
   ],
   "source": [
    "SELECT TOP 5 * FROM TD_KMeansPredict (\n",
    "        ON Scaled_Transformed_Customer_ID_Group_VT AS InputTable\n",
    "        ON KMeans_Model AS ModelTable DIMENSION\n",
    "        USING\n",
    "            OutputDistance('true')\n",
    "            Accumulate('[1:5]')\n",
    ") AS dt;"
   ]
  },
  {
   "cell_type": "code",
   "execution_count": 22,
   "id": "4ec7dac0-f873-4b04-bd9e-a285700c496c",
   "metadata": {},
   "outputs": [
    {
     "data": {
      "application/vnd.vegalite.v3+json": {
       "$schema": "https://vega.github.io/schema/vega-lite/v3.json",
       "data": {
        "format": {
         "type": "csv"
        },
        "values": "\"CustomerID\",\"td_clusterid_kmeans\",\"td_distance_kmeans\",\"TotalQuantity\",\"TotalItems\",\"TotalPrice\",\"TotalSales\",\"SalesPerItem\"\n\"12957\",\"3\",\"0.20620033398660964\",\"0.5253562447611064\",\"0.0560368164591229\",\"0.5329341317365269\",\"0.30417984916074264\",\"0.015130672657059908\"\n\"13349\",\"0\",\"0.009225851369446442\",\"0.04212070410729254\",\"0.004060638873849486\",\"0.04485177888695951\",\"0.0024844621953746624\",\"0.0016091352755077605\"\n\"16434\",\"2\",\"0.08421952588823309\",\"0.15423302598491198\",\"0.023551705468327015\",\"0.2679115111779043\",\"0.04633428617072907\",\"0.00543655713347243\"\n\"16168\",\"1\",\"0.09186885618528345\",\"0.3906119027661358\",\"0.015159718462371413\",\"0.25100643965644787\",\"0.10803010514087587\",\"0.019620266936850688\"\n\"14090\",\"0\",\"0.05833357652574218\",\"0.010058675607711651\",\"0\",\"0.09520490877802268\",\"0.0015801838941958608\",\"0.01672159759468308\"\n"
       },
       "encoding": {
        "color": {
         "field": "td_clusterid_kmeans",
         "type": "nominal"
        },
        "x": {
         "axis": {
          "grid": true,
          "title": "TotalQuantity"
         },
         "field": "TotalQuantity",
         "type": "quantitative"
        },
        "y": {
         "axis": {
          "grid": true,
          "title": "TotalPrice"
         },
         "field": "TotalPrice",
         "type": "quantitative"
        }
       },
       "height": "400",
       "mark": {
        "color": "#4C78A8",
        "type": "point"
       },
       "title": "'TotalQuantity Vs TotalPrice clusters'",
       "width": "600"
      },
      "image/png": "[encoded data removed]"
     },
     "execution_count": 22,
     "metadata": {
      "application/vnd.teradata.resultset": ""
     },
     "output_type": "execute_result"
    }
   ],
   "source": [
    "%chart x = TotalQuantity, y = TotalPrice, groupingcol = td_clusterid_kmeans, typegroupingcol = nominal,\n",
    "mark = point, title = 'TotalQuantity Vs TotalPrice clusters', height = 400, width = 600"
   ]
  },
  {
   "cell_type": "markdown",
   "id": "47575320-8a67-465c-85bd-c12d15e02131",
   "metadata": {},
   "source": [
    "<p style = 'font-size:16px;font-family:Arial;color:#00233C'> In the above chart we have plotted TotalQuantity Vs TotalPrice to see how the clusters look like in the 2d plane where X axis is TotalQuantity and Y axis is TotalPrice. Note that this is only due to the limitation of visualization on being only in 2 dimensions where as the cluster creation is based on all 5 columns."
   ]
  },
  {
   "cell_type": "code",
   "execution_count": 23,
   "id": "03f288d2-479a-4318-acfc-3a0536ee22ff",
   "metadata": {},
   "outputs": [
    {
     "data": {
      "application/vnd.vegalite.v3+json": {
       "$schema": "https://vega.github.io/schema/vega-lite/v3.json",
       "data": {
        "format": {
         "type": "csv"
        },
        "values": "\"CustomerID\",\"td_clusterid_kmeans\",\"td_distance_kmeans\",\"TotalQuantity\",\"TotalItems\",\"TotalPrice\",\"TotalSales\",\"SalesPerItem\"\n\"12957\",\"3\",\"0.20620033398660964\",\"0.5253562447611064\",\"0.0560368164591229\",\"0.5329341317365269\",\"0.30417984916074264\",\"0.015130672657059908\"\n\"13349\",\"0\",\"0.009225851369446442\",\"0.04212070410729254\",\"0.004060638873849486\",\"0.04485177888695951\",\"0.0024844621953746624\",\"0.0016091352755077605\"\n\"16434\",\"2\",\"0.08421952588823309\",\"0.15423302598491198\",\"0.023551705468327015\",\"0.2679115111779043\",\"0.04633428617072907\",\"0.00543655713347243\"\n\"16168\",\"1\",\"0.09186885618528345\",\"0.3906119027661358\",\"0.015159718462371413\",\"0.25100643965644787\",\"0.10803010514087587\",\"0.019620266936850688\"\n\"14090\",\"0\",\"0.05833357652574218\",\"0.010058675607711651\",\"0\",\"0.09520490877802268\",\"0.0015801838941958608\",\"0.01672159759468308\"\n"
       },
       "encoding": {
        "color": {
         "field": "td_clusterid_kmeans",
         "type": "nominal"
        },
        "x": {
         "axis": {
          "grid": true,
          "title": "TotalQuantity"
         },
         "field": "TotalQuantity",
         "type": "quantitative"
        },
        "y": {
         "axis": {
          "grid": true,
          "title": "TotalSales"
         },
         "field": "TotalSales",
         "type": "quantitative"
        }
       },
       "height": "400",
       "mark": {
        "color": "#4C78A8",
        "type": "point"
       },
       "title": "'TotalQuantity Vs TotalSales clusters'",
       "width": "600"
      },
      "image/png": "[encoded data removed]"
     },
     "execution_count": 23,
     "metadata": {
      "application/vnd.teradata.resultset": ""
     },
     "output_type": "execute_result"
    }
   ],
   "source": [
    "%chart x = TotalQuantity, y = TotalSales, groupingcol = td_clusterid_kmeans, typegroupingcol = nominal,\n",
    "mark = point, title = 'TotalQuantity Vs TotalSales clusters', height = 400, width = 600"
   ]
  },
  {
   "cell_type": "markdown",
   "id": "f21a88b9-6209-4687-955e-07dc97952c13",
   "metadata": {},
   "source": [
    "<p style = 'font-size:16px;font-family:Arial;color:#00233C'> In the above chart we have plotted TotalQuantity Vs TotalSales. See how the chart is different from the TotalQuantity Vs TotalPrice chart. You can change the values for x-axis and y-axis to see how the clusters with rest of the columns looks like."
   ]
  },
  {
   "cell_type": "markdown",
   "id": "8304ae16",
   "metadata": {},
   "source": [
    "<hr style=\"height:2px;border:none;background-color:#00233C;\">\n",
    "<p style = 'font-size:20px;font-family:Arial;color:#00233C'><b>5. Bulk Transformation</b></p>\n",
    "\n",
    "<p style = 'font-size:16px;font-family:Arial;color:#00233C'>Here, the Fit tables created above will be passed to a single <a href = 'https://docs.teradata.com/search/all?query=TD_ColumnTransformer&content-lang=en-US'>TD_ColumnTransformer</a> function.  This is similar to an operational approach, where a single query will prepare new or incoming data for immediate analysis.</p>\n",
    "\n",
    "<img src = 'images/column_transformer.png' width = '300'>"
   ]
  },
  {
   "cell_type": "code",
   "execution_count": 24,
   "id": "fe00187b",
   "metadata": {},
   "outputs": [
    {
     "data": {
      "application/vnd.teradata.resultset": "\"InvoiceNo\",\"StockCode\",\"Description\",\"Quantity\",\"InvoiceDate\",\"UnitPrice\",\"CustomerID\",\"Country\"\n\"C542693\",\"15036\",\"ASSORTED COLOURS SILK FAN\",\"-600\",\"2011-01-31 12:36:00.000000\",\"0.65\",\"12908\",\"United Kingdom\"\n\"C541499\",\"84819\",\"DANISH ROSE ROUND SEWING BOX\",\"-1\",\"2011-01-18 15:23:00.000000\",\"4.25\",\"13693\",\"United Kingdom\"\n\"C541499\",\"22325\",\"MOBILE VINTAGE HEARTS \",\"-3\",\"2011-01-18 15:23:00.000000\",\"4.95\",\"13693\",\"United Kingdom\"\n\"C540271\",\"M\",\"Manual\",\"-1\",\"2011-06-01 11:51:00.000000\",\"1126\",\"12503\",\"Spain\"\n\"557092\",\"15036\",\"ASSORTED COLOURS SILK FAN\",\"600\",\"2011-06-16 15:39:00.000000\",\"0.72\",\"12908\",\"United Kingdom\"",
      "text/html": [
       "<div class = \"td-resultset-table-div\" style = \"max-height: 100%; overflow-y: auto\">\n",
       "      <table class=\"tdhistory207298\"><style>\n",
       "      table.tdhistory207298 { display: block !important; min-height: 189px !important; overflow: auto !important; height: 189px !important; width: 100% !important; border: 1px solid rgb(207, 207, 207) !important; border-collapse: collapse !important; ; color: var(--jp-ui-font-color1) !important; }\n",
       "      th.tdhistory207298 { border: 1px solid rgb(198,198,198) !important; border-collapse: collapse !important; ; padding: 2px 5px !important; ; font-size: 13px !important; ; text-align: center !important; white-space: normal !important; color: var(--jp-ui-font-color1) !important; }\n",
       "      th.tdhistory207298:last-child { text-align: left !important; }\n",
       "      tbody.tdhistory207298 tr:nth-child(even) { background: rgba(243, 243, 243, 0.75) !important; }\n",
       "      tbody.tdhistory207298 tr:nth-child(odd) { background: var(--jp-ui-inverse-font-color1) !important; }\n",
       "      td.tdhistory207298 { border: 1px solid rgb(207, 207, 207) !important; border-collapse: collapse !important; ; padding: 2px 5px !important; ; font-size: 13px !important; ; text-align: left !important;          white-space: nowrap !important; overflow:hidden !important; text-overflow:ellipsis !important;; }\n",
       "    </style><thead><tr style= \"background: rgba(243, 243, 243, 0.75)\"><th class=\"tdhistory207298\"></th><th class=\"tdhistory207298\">InvoiceNo</th><th class=\"tdhistory207298\">StockCode</th><th class=\"tdhistory207298\">Description</th><th class=\"tdhistory207298\">Quantity</th><th class=\"tdhistory207298\">InvoiceDate</th><th class=\"tdhistory207298\">UnitPrice</th><th class=\"tdhistory207298\">CustomerID</th><th class=\"tdhistory207298\">Country</th></tr></thead><tbody class=\"tdhistory207298 resultset-body\"><tr><th class=\"tdhistory207298\" style= \"background: rgba(243, 243, 243, 0.75)\">1</th><td class=\"tdhistory207298\">C542693</td><td class=\"tdhistory207298\">15036</td><td class=\"tdhistory207298\">ASSORTED COLOURS SILK FAN</td><td class=\"tdhistory207298\">-600</td><td class=\"tdhistory207298\">2011-01-31 12:36:00.000000</td><td class=\"tdhistory207298\">0.65</td><td class=\"tdhistory207298\">12908</td><td class=\"tdhistory207298\">United Kingdom</td></tr><tr><th class=\"tdhistory207298\" style= \"background: rgba(243, 243, 243, 0.75)\">2</th><td class=\"tdhistory207298\">C541499</td><td class=\"tdhistory207298\">84819</td><td class=\"tdhistory207298\">DANISH ROSE ROUND SEWING BOX</td><td class=\"tdhistory207298\">-1</td><td class=\"tdhistory207298\">2011-01-18 15:23:00.000000</td><td class=\"tdhistory207298\">4.25</td><td class=\"tdhistory207298\">13693</td><td class=\"tdhistory207298\">United Kingdom</td></tr><tr><th class=\"tdhistory207298\" style= \"background: rgba(243, 243, 243, 0.75)\">3</th><td class=\"tdhistory207298\">C541499</td><td class=\"tdhistory207298\">22325</td><td class=\"tdhistory207298\">MOBILE VINTAGE HEARTS </td><td class=\"tdhistory207298\">-3</td><td class=\"tdhistory207298\">2011-01-18 15:23:00.000000</td><td class=\"tdhistory207298\">4.95</td><td class=\"tdhistory207298\">13693</td><td class=\"tdhistory207298\">United Kingdom</td></tr><tr><th class=\"tdhistory207298\" style= \"background: rgba(243, 243, 243, 0.75)\">4</th><td class=\"tdhistory207298\">C540271</td><td class=\"tdhistory207298\">M</td><td class=\"tdhistory207298\">Manual</td><td class=\"tdhistory207298\">-1</td><td class=\"tdhistory207298\">2011-06-01 11:51:00.000000</td><td class=\"tdhistory207298\">1126</td><td class=\"tdhistory207298\">12503</td><td class=\"tdhistory207298\">Spain</td></tr><tr><th class=\"tdhistory207298\" style= \"background: rgba(243, 243, 243, 0.75)\">5</th><td class=\"tdhistory207298\">557092</td><td class=\"tdhistory207298\">15036</td><td class=\"tdhistory207298\">ASSORTED COLOURS SILK FAN</td><td class=\"tdhistory207298\">600</td><td class=\"tdhistory207298\">2011-06-16 15:39:00.000000</td><td class=\"tdhistory207298\">0.72</td><td class=\"tdhistory207298\">12908</td><td class=\"tdhistory207298\">United Kingdom</td></tr></tbody></table></div>"
      ]
     },
     "execution_count": 24,
     "metadata": {
      "application/vnd.teradata.resultset": "{\"resultSetID\":\"/home/jovyan/JupyterLabRoot/Teradata/Resultsets/2023.12.21_07.59.11.958_UTC\",\"historyID\":237,\"chunkID\":\"00001\",\"sessionid\":\"\",\"portnum\":\"\",\"dockermode\":\"docker\",\"totalRowCount\":5,\"chunkCount\":0,\"rowLimit\":0,\"columnMetadata\":[{\"columnName\":\"InvoiceNo\",\"columnTypeName\":\"VARCHAR\",\"length\":10,\"scale\":10},{\"columnNumber\":1,\"columnName\":\"StockCode\",\"columnTypeName\":\"VARCHAR\",\"length\":10,\"scale\":10},{\"columnNumber\":2,\"columnName\":\"Description\",\"columnTypeName\":\"VARCHAR\",\"length\":40,\"scale\":40},{\"columnNumber\":3,\"columnName\":\"Quantity\",\"columnTypeName\":\"BIGINT\"},{\"columnNumber\":4,\"columnName\":\"InvoiceDate\",\"columnTypeName\":\"TIMESTAMP\",\"length\":6,\"scale\":6},{\"columnNumber\":5,\"columnName\":\"UnitPrice\",\"columnTypeName\":\"FLOAT\"},{\"columnNumber\":6,\"columnName\":\"CustomerID\",\"columnTypeName\":\"FLOAT\"},{\"columnNumber\":7,\"columnName\":\"Country\",\"columnTypeName\":\"VARCHAR\",\"length\":25,\"scale\":25}]}"
     },
     "output_type": "execute_result"
    }
   ],
   "source": [
    "SELECT TOP 5 * FROM UK_Retail_Test_V;"
   ]
  },
  {
   "cell_type": "code",
   "execution_count": 25,
   "id": "11dd053c",
   "metadata": {},
   "outputs": [
    {
     "data": {
      "text/plain": [
       "Success: 0 rows affected"
      ]
     },
     "execution_count": 25,
     "metadata": {
      "application/vnd.teradata.resultset": ""
     },
     "output_type": "execute_result"
    }
   ],
   "source": [
    "-- Steps broken up above can be put together into a single query\n",
    "\n",
    "REPLACE VIEW Scaled_Transformed_Test_V AS (\n",
    "    \n",
    "SELECT * FROM TD_ColumnTransformer(\n",
    "            -- Use our groupby inside the ON clause\n",
    "            ON (SELECT CustomerID,\n",
    "                    SUM(quantity) AS TotalQuantity , \n",
    "                    SUM(UnitPrice) AS TotalPrice, \n",
    "                    COUNT(DISTINCT(StockCode)) AS TotalItems\n",
    "                FROM UK_Retail_Test_V\n",
    "                GROUP BY CustomerID\n",
    "                ) AS InputTable\n",
    "            \n",
    "            -- Pass each fit table from above as dimensions\n",
    "            ON OutlierFit_CS AS OutlierFilterFitTable DIMENSION\n",
    "            ON ImputeFit_CS AS SimpleImputeFitTable DIMENSION\n",
    "            ON NonLinearCombineFit_CS_TotalSales AS NonLinearCombineFitTable DIMENSION\n",
    "            ON NonLinearCombineFit_CS_SalesPerItem AS NonLinearCombineFitTable DIMENSION\n",
    "            ON ScaleFit_CS as ScaleFitTable DIMENSION\n",
    "    ) AS dt\n",
    ")"
   ]
  },
  {
   "cell_type": "code",
   "execution_count": 26,
   "id": "1e4d5980",
   "metadata": {},
   "outputs": [
    {
     "data": {
      "application/vnd.teradata.resultset": "\"CustomerID\",\"TotalQuantity\",\"TotalPrice\",\"TotalItems\",\"TotalSales\",\"SalesPerItem\"\n\"18268\",\"0.07145850796311819\",\"0.01454568106959034\",\"0\",\"0.0015825105018033377\",\"0.016745703411708848\"\n\"12503\",\"0.07145850796311819\",\"0.8714794078942247\",\"0\",\"0.07142986179406546\",\"0.7404291748208797\"\n\"13693\",\"0.07145850796311819\",\"0.011898180232512868\",\"0.0008121277747698972\",\"0.0013667167767749948\",\"0.0036102401301112215\"\n\"12908\",\"0.07145850796311819\",\"0.09520490877802268\",\"0.0002707092582566324\",\"0.008156920209762426\",\"0.04241986236899423\"\n\"17307\",\"0.07145850796311819\",\"0.09520490877802268\",\"0\",\"0.008156920209762426\",\"0.0848626978559787\"",
      "text/html": [
       "<div class = \"td-resultset-table-div\" style = \"max-height: 100%; overflow-y: auto\">\n",
       "      <table class=\"tdhistory246557\"><style>\n",
       "      table.tdhistory246557 { display: block !important; min-height: 189px !important; overflow: auto !important; height: 189px !important; width: 100% !important; border: 1px solid rgb(207, 207, 207) !important; border-collapse: collapse !important; ; color: var(--jp-ui-font-color1) !important; }\n",
       "      th.tdhistory246557 { border: 1px solid rgb(198,198,198) !important; border-collapse: collapse !important; ; padding: 2px 5px !important; ; font-size: 13px !important; ; text-align: center !important; white-space: normal !important; color: var(--jp-ui-font-color1) !important; }\n",
       "      th.tdhistory246557:last-child { text-align: left !important; }\n",
       "      tbody.tdhistory246557 tr:nth-child(even) { background: rgba(243, 243, 243, 0.75) !important; }\n",
       "      tbody.tdhistory246557 tr:nth-child(odd) { background: var(--jp-ui-inverse-font-color1) !important; }\n",
       "      td.tdhistory246557 { border: 1px solid rgb(207, 207, 207) !important; border-collapse: collapse !important; ; padding: 2px 5px !important; ; font-size: 13px !important; ; text-align: left !important;          white-space: nowrap !important; overflow:hidden !important; text-overflow:ellipsis !important;; }\n",
       "    </style><thead><tr style= \"background: rgba(243, 243, 243, 0.75)\"><th class=\"tdhistory246557\"></th><th class=\"tdhistory246557\">CustomerID</th><th class=\"tdhistory246557\">TotalQuantity</th><th class=\"tdhistory246557\">TotalPrice</th><th class=\"tdhistory246557\">TotalItems</th><th class=\"tdhistory246557\">TotalSales</th><th class=\"tdhistory246557\">SalesPerItem</th></tr></thead><tbody class=\"tdhistory246557 resultset-body\"><tr><th class=\"tdhistory246557\" style= \"background: rgba(243, 243, 243, 0.75)\">1</th><td class=\"tdhistory246557\">18268</td><td class=\"tdhistory246557\">0.07145850796311819</td><td class=\"tdhistory246557\">0.01454568106959034</td><td class=\"tdhistory246557\">0</td><td class=\"tdhistory246557\">0.0015825105018033377</td><td class=\"tdhistory246557\">0.016745703411708848</td></tr><tr><th class=\"tdhistory246557\" style= \"background: rgba(243, 243, 243, 0.75)\">2</th><td class=\"tdhistory246557\">12503</td><td class=\"tdhistory246557\">0.07145850796311819</td><td class=\"tdhistory246557\">0.8714794078942247</td><td class=\"tdhistory246557\">0</td><td class=\"tdhistory246557\">0.07142986179406546</td><td class=\"tdhistory246557\">0.7404291748208797</td></tr><tr><th class=\"tdhistory246557\" style= \"background: rgba(243, 243, 243, 0.75)\">3</th><td class=\"tdhistory246557\">13693</td><td class=\"tdhistory246557\">0.07145850796311819</td><td class=\"tdhistory246557\">0.011898180232512868</td><td class=\"tdhistory246557\">0.0008121277747698972</td><td class=\"tdhistory246557\">0.0013667167767749948</td><td class=\"tdhistory246557\">0.0036102401301112215</td></tr><tr><th class=\"tdhistory246557\" style= \"background: rgba(243, 243, 243, 0.75)\">4</th><td class=\"tdhistory246557\">12908</td><td class=\"tdhistory246557\">0.07145850796311819</td><td class=\"tdhistory246557\">0.09520490877802268</td><td class=\"tdhistory246557\">0.0002707092582566324</td><td class=\"tdhistory246557\">0.008156920209762426</td><td class=\"tdhistory246557\">0.04241986236899423</td></tr><tr><th class=\"tdhistory246557\" style= \"background: rgba(243, 243, 243, 0.75)\">5</th><td class=\"tdhistory246557\">17307</td><td class=\"tdhistory246557\">0.07145850796311819</td><td class=\"tdhistory246557\">0.09520490877802268</td><td class=\"tdhistory246557\">0</td><td class=\"tdhistory246557\">0.008156920209762426</td><td class=\"tdhistory246557\">0.0848626978559787</td></tr></tbody></table></div>"
      ]
     },
     "execution_count": 26,
     "metadata": {
      "application/vnd.teradata.resultset": "{\"resultSetID\":\"/home/jovyan/JupyterLabRoot/Teradata/Resultsets/2023.12.21_07.59.13.290_UTC\",\"historyID\":239,\"chunkID\":\"00001\",\"sessionid\":\"\",\"portnum\":\"\",\"dockermode\":\"docker\",\"totalRowCount\":5,\"chunkCount\":0,\"rowLimit\":0,\"columnMetadata\":[{\"columnName\":\"CustomerID\",\"columnTypeName\":\"FLOAT\"},{\"columnNumber\":1,\"columnName\":\"TotalQuantity\",\"columnTypeName\":\"FLOAT\"},{\"columnNumber\":2,\"columnName\":\"TotalPrice\",\"columnTypeName\":\"FLOAT\"},{\"columnNumber\":3,\"columnName\":\"TotalItems\",\"columnTypeName\":\"FLOAT\"},{\"columnNumber\":4,\"columnName\":\"TotalSales\",\"columnTypeName\":\"FLOAT\"},{\"columnNumber\":5,\"columnName\":\"SalesPerItem\",\"columnTypeName\":\"FLOAT\"}]}"
     },
     "output_type": "execute_result"
    }
   ],
   "source": [
    "SELECT TOP 5 * FROM Scaled_Transformed_Test_V;"
   ]
  },
  {
   "cell_type": "markdown",
   "id": "ddce515c",
   "metadata": {},
   "source": [
    "<hr style=\"height:2px;border:none;background-color:#00233C;\">\n",
    "<p style = 'font-size:20px;font-family:Arial;color:#00233C'><b>6. Predict and Evaluate</b></p>\n",
    "\n",
    "<p style = 'font-size:16px;font-family:Arial;color:#00233C'>Finally, we run the model against new (in this case testing) data using <a href = 'https://docs.teradata.com/search/all?query=TD_KMeansPredict&content-lang=en-US'>TD_KMeansPredict</a>.  The preparation step has been completed in a single query above.  Additionally, we will use an evaluation function <a href = 'https://docs.teradata.com/search/all?query=TD_Silhouette&content-lang=en-US'>TD_Silhouette</a> to analyze how well the new cluster predictions match the original model.</p>\n",
    "\n",
    "<ol style = 'font-size:16px;font-family:Arial;color:#00233C'>\n",
    "    <li>Call TD_KMeansPredict</li>\n",
    "    <li>Inpect the results</li>\n",
    "    <li>Call TD_Silhouette on the output</li>\n",
    "    </ol>"
   ]
  },
  {
   "cell_type": "markdown",
   "id": "a056326b-e80d-4655-96c3-bfa3e6bba20b",
   "metadata": {},
   "source": [
    "<hr style=\"height:1px;border:none;background-color:#00233C;\">"
   ]
  },
  {
   "cell_type": "markdown",
   "id": "bbd8c482",
   "metadata": {},
   "source": [
    "<p style = 'font-size:20px;font-family:Arial;color:#00233C'><b>6.1 Call the Prediction Function</b></p>\n",
    "\n",
    "<p style = 'font-size:16px;font-family:Arial;color:#00233C'>Pass the Input Data, Model Table, and other parameters including columns to accumulate.  Note here we create a new View to assist with Silhouette analysis of the prediction.</p>"
   ]
  },
  {
   "cell_type": "code",
   "execution_count": 27,
   "id": "0508b593",
   "metadata": {},
   "outputs": [
    {
     "data": {
      "text/plain": [
       "Success: 0 rows affected"
      ]
     },
     "execution_count": 27,
     "metadata": {
      "application/vnd.teradata.resultset": ""
     },
     "output_type": "execute_result"
    }
   ],
   "source": [
    "REPLACE VIEW KMeans_Output_V AS (\n",
    "    SELECT * FROM TD_KMeansPredict (\n",
    "        ON Scaled_Transformed_Test_V AS InputTable\n",
    "        ON KMeans_Model as ModelTable DIMENSION\n",
    "        USING\n",
    "            OutputDistance('true')\n",
    "            Accumulate('[1:5]')\n",
    "    ) AS dt\n",
    ")"
   ]
  },
  {
   "cell_type": "markdown",
   "id": "372fcd7c-63aa-4863-81e1-ea409e305190",
   "metadata": {},
   "source": [
    "<hr style=\"height:1px;border:none;background-color:#00233C;\">"
   ]
  },
  {
   "cell_type": "markdown",
   "id": "425d8e7e",
   "metadata": {},
   "source": [
    "<p style = 'font-size:18px;font-family:Arial;color:#00233C'><b>6.2 Inspect the Results</b></p>\n",
    "\n",
    "<p style = 'font-size:16px;font-family:Arial;color:#00233C'>Simple SELECT on the output view will show us the results</p>"
   ]
  },
  {
   "cell_type": "code",
   "execution_count": 28,
   "id": "7b242c95",
   "metadata": {},
   "outputs": [
    {
     "data": {
      "application/vnd.teradata.resultset": "\"CustomerID\",\"td_clusterid_kmeans\",\"td_distance_kmeans\",\"TotalQuantity\",\"TotalPrice\",\"TotalItems\",\"TotalSales\",\"SalesPerItem\"\n\"18268\",\"0\",\"0.04764348102031992\",\"0.07145850796311819\",\"0.01454568106959034\",\"0\",\"0.0015825105018033377\",\"0.016745703411708848\"\n\"12503\",\"4\",\"0.808589615064995\",\"0.07145850796311819\",\"0.8714794078942247\",\"0\",\"0.07142986179406546\",\"0.7404291748208797\"\n\"13693\",\"0\",\"0.04783604265002541\",\"0.07145850796311819\",\"0.011898180232512868\",\"0.0008121277747698972\",\"0.0013667167767749948\",\"0.0036102401301112215\"\n\"12908\",\"0\",\"0.06371429536237327\",\"0.07145850796311819\",\"0.09520490877802268\",\"0.0002707092582566324\",\"0.008156920209762426\",\"0.04241986236899423\"\n\"17307\",\"0\",\"0.09580320371653504\",\"0.07145850796311819\",\"0.09520490877802268\",\"0\",\"0.008156920209762426\",\"0.0848626978559787\"",
      "text/html": [
       "<div class = \"td-resultset-table-div\" style = \"max-height: 100%; overflow-y: auto\">\n",
       "      <table class=\"tdhistory723005\"><style>\n",
       "      table.tdhistory723005 { display: block !important; min-height: 189px !important; overflow: auto !important; height: 189px !important; width: 100% !important; border: 1px solid rgb(207, 207, 207) !important; border-collapse: collapse !important; ; color: var(--jp-ui-font-color1) !important; }\n",
       "      th.tdhistory723005 { border: 1px solid rgb(198,198,198) !important; border-collapse: collapse !important; ; padding: 2px 5px !important; ; font-size: 13px !important; ; text-align: center !important; white-space: normal !important; color: var(--jp-ui-font-color1) !important; }\n",
       "      th.tdhistory723005:last-child { text-align: left !important; }\n",
       "      tbody.tdhistory723005 tr:nth-child(even) { background: rgba(243, 243, 243, 0.75) !important; }\n",
       "      tbody.tdhistory723005 tr:nth-child(odd) { background: var(--jp-ui-inverse-font-color1) !important; }\n",
       "      td.tdhistory723005 { border: 1px solid rgb(207, 207, 207) !important; border-collapse: collapse !important; ; padding: 2px 5px !important; ; font-size: 13px !important; ; text-align: left !important;          white-space: nowrap !important; overflow:hidden !important; text-overflow:ellipsis !important;; }\n",
       "    </style><thead><tr style= \"background: rgba(243, 243, 243, 0.75)\"><th class=\"tdhistory723005\"></th><th class=\"tdhistory723005\">CustomerID</th><th class=\"tdhistory723005\">td_clusterid_kmeans</th><th class=\"tdhistory723005\">td_distance_kmeans</th><th class=\"tdhistory723005\">TotalQuantity</th><th class=\"tdhistory723005\">TotalPrice</th><th class=\"tdhistory723005\">TotalItems</th><th class=\"tdhistory723005\">TotalSales</th><th class=\"tdhistory723005\">SalesPerItem</th></tr></thead><tbody class=\"tdhistory723005 resultset-body\"><tr><th class=\"tdhistory723005\" style= \"background: rgba(243, 243, 243, 0.75)\">1</th><td class=\"tdhistory723005\">18268</td><td class=\"tdhistory723005\">0</td><td class=\"tdhistory723005\">0.04764348102031992</td><td class=\"tdhistory723005\">0.07145850796311819</td><td class=\"tdhistory723005\">0.01454568106959034</td><td class=\"tdhistory723005\">0</td><td class=\"tdhistory723005\">0.0015825105018033377</td><td class=\"tdhistory723005\">0.016745703411708848</td></tr><tr><th class=\"tdhistory723005\" style= \"background: rgba(243, 243, 243, 0.75)\">2</th><td class=\"tdhistory723005\">12503</td><td class=\"tdhistory723005\">4</td><td class=\"tdhistory723005\">0.808589615064995</td><td class=\"tdhistory723005\">0.07145850796311819</td><td class=\"tdhistory723005\">0.8714794078942247</td><td class=\"tdhistory723005\">0</td><td class=\"tdhistory723005\">0.07142986179406546</td><td class=\"tdhistory723005\">0.7404291748208797</td></tr><tr><th class=\"tdhistory723005\" style= \"background: rgba(243, 243, 243, 0.75)\">3</th><td class=\"tdhistory723005\">13693</td><td class=\"tdhistory723005\">0</td><td class=\"tdhistory723005\">0.04783604265002541</td><td class=\"tdhistory723005\">0.07145850796311819</td><td class=\"tdhistory723005\">0.011898180232512868</td><td class=\"tdhistory723005\">0.0008121277747698972</td><td class=\"tdhistory723005\">0.0013667167767749948</td><td class=\"tdhistory723005\">0.0036102401301112215</td></tr><tr><th class=\"tdhistory723005\" style= \"background: rgba(243, 243, 243, 0.75)\">4</th><td class=\"tdhistory723005\">12908</td><td class=\"tdhistory723005\">0</td><td class=\"tdhistory723005\">0.06371429536237327</td><td class=\"tdhistory723005\">0.07145850796311819</td><td class=\"tdhistory723005\">0.09520490877802268</td><td class=\"tdhistory723005\">0.0002707092582566324</td><td class=\"tdhistory723005\">0.008156920209762426</td><td class=\"tdhistory723005\">0.04241986236899423</td></tr><tr><th class=\"tdhistory723005\" style= \"background: rgba(243, 243, 243, 0.75)\">5</th><td class=\"tdhistory723005\">17307</td><td class=\"tdhistory723005\">0</td><td class=\"tdhistory723005\">0.09580320371653504</td><td class=\"tdhistory723005\">0.07145850796311819</td><td class=\"tdhistory723005\">0.09520490877802268</td><td class=\"tdhistory723005\">0</td><td class=\"tdhistory723005\">0.008156920209762426</td><td class=\"tdhistory723005\">0.0848626978559787</td></tr></tbody></table></div>"
      ]
     },
     "execution_count": 28,
     "metadata": {
      "application/vnd.teradata.resultset": "{\"resultSetID\":\"/home/jovyan/JupyterLabRoot/Teradata/Resultsets/2023.12.21_07.59.14.573_UTC\",\"historyID\":241,\"chunkID\":\"00001\",\"sessionid\":\"\",\"portnum\":\"\",\"dockermode\":\"docker\",\"totalRowCount\":5,\"chunkCount\":0,\"rowLimit\":0,\"columnMetadata\":[{\"columnName\":\"CustomerID\",\"columnTypeName\":\"FLOAT\"},{\"columnNumber\":1,\"columnName\":\"td_clusterid_kmeans\",\"columnTypeName\":\"BIGINT\"},{\"columnNumber\":2,\"columnName\":\"td_distance_kmeans\",\"columnTypeName\":\"FLOAT\"},{\"columnNumber\":3,\"columnName\":\"TotalQuantity\",\"columnTypeName\":\"FLOAT\"},{\"columnNumber\":4,\"columnName\":\"TotalPrice\",\"columnTypeName\":\"FLOAT\"},{\"columnNumber\":5,\"columnName\":\"TotalItems\",\"columnTypeName\":\"FLOAT\"},{\"columnNumber\":6,\"columnName\":\"TotalSales\",\"columnTypeName\":\"FLOAT\"},{\"columnNumber\":7,\"columnName\":\"SalesPerItem\",\"columnTypeName\":\"FLOAT\"}]}"
     },
     "output_type": "execute_result"
    }
   ],
   "source": [
    "SELECT TOP 5 * FROM KMeans_Output_V;"
   ]
  },
  {
   "cell_type": "markdown",
   "id": "31622174-0e43-47a6-8ac4-574e49c20969",
   "metadata": {},
   "source": [
    "<hr style=\"height:1px;border:none;background-color:#00233C;\">"
   ]
  },
  {
   "cell_type": "markdown",
   "id": "7b3b1ebf",
   "metadata": {},
   "source": [
    "<p style = 'font-size:20px;font-family:Arial;color:#00233C'><b>6.3 Evaluate the Prediction</b></p>\n",
    "\n",
    "<p style = 'font-size:16px;font-family:Arial;color:#00233C'><a href = 'https://docs.teradata.com/search/all?query=TD_Silhouette&content-lang=en-US'>TD_Silhouette</a> is a native Vantage function that evaluates the similarity of an object to its cluster (cohesion) compared to other clusters (separation).  The silhouette scores and its definitions are as follows:</p>\n",
    "\n",
    "<ul style = 'font-size:16px;font-family:Arial;color:#00233C'>\n",
    "    <li>1: Data is appropriately clustered</li>\n",
    "    <li>-1: Data is not appropriately clustered</li>\n",
    "    <li>0: Datum is on the border of two natural clusters</li>\n",
    "    </ul>\n",
    "\n",
    "<p style = 'font-size:16px;font-family:Arial;color:#00233C'>See the documentation for a full listing of parameters and return values.</p>"
   ]
  },
  {
   "cell_type": "code",
   "execution_count": 29,
   "id": "abf6fee1",
   "metadata": {},
   "outputs": [
    {
     "data": {
      "application/vnd.teradata.resultset": "\"silhouette_score\"\n\"0.7435035095255595\"",
      "text/html": [
       "<div class = \"td-resultset-table-div\" style = \"max-height: 100%; overflow-y: auto\">\n",
       "      <table class=\"tdhistory395476\"><style>\n",
       "      table.tdhistory395476 { display: block !important; min-height: 105px !important; overflow: auto !important; height: 105px !important; width: 100% !important; border: 1px solid rgb(207, 207, 207) !important; border-collapse: collapse !important; ; color: var(--jp-ui-font-color1) !important; }\n",
       "      th.tdhistory395476 { border: 1px solid rgb(198,198,198) !important; border-collapse: collapse !important; ; padding: 2px 5px !important; ; font-size: 13px !important; ; text-align: center !important; white-space: normal !important; color: var(--jp-ui-font-color1) !important; }\n",
       "      th.tdhistory395476:last-child { text-align: left !important; }\n",
       "      tbody.tdhistory395476 tr:nth-child(even) { background: rgba(243, 243, 243, 0.75) !important; }\n",
       "      tbody.tdhistory395476 tr:nth-child(odd) { background: var(--jp-ui-inverse-font-color1) !important; }\n",
       "      td.tdhistory395476 { border: 1px solid rgb(207, 207, 207) !important; border-collapse: collapse !important; ; padding: 2px 5px !important; ; font-size: 13px !important; ; text-align: left !important;          white-space: nowrap !important; overflow:hidden !important; text-overflow:ellipsis !important;; }\n",
       "    </style><thead><tr style= \"background: rgba(243, 243, 243, 0.75)\"><th class=\"tdhistory395476\"></th><th class=\"tdhistory395476\">silhouette_score</th></tr></thead><tbody class=\"tdhistory395476 resultset-body\"><tr><th class=\"tdhistory395476\" style= \"background: rgba(243, 243, 243, 0.75)\">1</th><td class=\"tdhistory395476\">0.7435035095255595</td></tr></tbody></table></div>"
      ]
     },
     "execution_count": 29,
     "metadata": {
      "application/vnd.teradata.resultset": "{\"resultSetID\":\"/home/jovyan/JupyterLabRoot/Teradata/Resultsets/2023.12.21_07.59.17.353_UTC\",\"historyID\":242,\"chunkID\":\"00001\",\"sessionid\":\"\",\"portnum\":\"\",\"dockermode\":\"docker\",\"totalRowCount\":1,\"chunkCount\":0,\"rowLimit\":0,\"columnMetadata\":[{\"columnName\":\"silhouette_score\",\"columnTypeName\":\"FLOAT\"}]}"
     },
     "output_type": "execute_result"
    }
   ],
   "source": [
    "SELECT * FROM TD_Silhouette(\n",
    "    ON KMeans_Output_V AS inputTable\n",
    "    USING\n",
    "        IdColumn('CustomerID')\n",
    "        ClusterIdColumn('td_clusterid_kmeans')\n",
    "        TargetColumns('[3:7]')\n",
    "        OutputType('SCORE')\n",
    ") AS dt;"
   ]
  },
  {
   "cell_type": "markdown",
   "id": "6e3c45e9",
   "metadata": {},
   "source": [
    "<hr style=\"height:2px;border:none;background-color:#00233C;\">\n",
    "<p style = 'font-size:20px;font-family:Arial;color:#00233C'><b>7. Clean up</b></p>\n",
    "<p style = 'font-size:18px;font-family:Arial;color:#00233C'><b>Worktables</b></p>"
   ]
  },
  {
   "cell_type": "code",
   "execution_count": 30,
   "id": "6abb9da1",
   "metadata": {},
   "outputs": [
    {
     "data": {
      "text/plain": [
       "Success: 14 rows affected"
      ]
     },
     "execution_count": 30,
     "metadata": {
      "application/vnd.teradata.resultset": ""
     },
     "output_type": "execute_result"
    }
   ],
   "source": [
    "DROP VIEW UK_Retail_Test_V;"
   ]
  },
  {
   "cell_type": "code",
   "execution_count": 31,
   "id": "b528cd76",
   "metadata": {},
   "outputs": [
    {
     "data": {
      "text/plain": [
       "Success: 10 rows affected"
      ]
     },
     "execution_count": 31,
     "metadata": {
      "application/vnd.teradata.resultset": ""
     },
     "output_type": "execute_result"
    }
   ],
   "source": [
    "DROP VIEW Customer_ID_Group_V;"
   ]
  },
  {
   "cell_type": "code",
   "execution_count": 32,
   "id": "b3de98b6",
   "metadata": {},
   "outputs": [
    {
     "data": {
      "text/plain": [
       "Success: 23 rows affected"
      ]
     },
     "execution_count": 32,
     "metadata": {
      "application/vnd.teradata.resultset": ""
     },
     "output_type": "execute_result"
    }
   ],
   "source": [
    "DROP TABLE KMeans_Model;"
   ]
  },
  {
   "cell_type": "code",
   "execution_count": 33,
   "id": "98583a63-1ad3-42b6-88f2-5cf490cae4d3",
   "metadata": {},
   "outputs": [
    {
     "data": {
      "text/plain": [
       "Success: 12 rows affected"
      ]
     },
     "execution_count": 33,
     "metadata": {
      "application/vnd.teradata.resultset": ""
     },
     "output_type": "execute_result"
    }
   ],
   "source": [
    "DROP VIEW Scaled_Transformed_Test_V;"
   ]
  },
  {
   "cell_type": "code",
   "execution_count": 34,
   "id": "8e840190-7fdd-4fc4-a232-f61bc94699b5",
   "metadata": {},
   "outputs": [
    {
     "data": {
      "text/plain": [
       "Success: 14 rows affected"
      ]
     },
     "execution_count": 34,
     "metadata": {
      "application/vnd.teradata.resultset": ""
     },
     "output_type": "execute_result"
    }
   ],
   "source": [
    "DROP VIEW KMeans_Output_V;"
   ]
  },
  {
   "cell_type": "markdown",
   "id": "ad5faff7-098d-47e5-aedc-b1c404065d26",
   "metadata": {},
   "source": [
    "<p style = 'font-size:20px;font-family:Arial;color:#00233C'> <b>Database and Tables </b></p>\n",
    "<p style = 'font-size:16px;font-family:Arial;color:#00233C'>The following code will clean up tables and databases created above.</p>"
   ]
  },
  {
   "cell_type": "code",
   "execution_count": 35,
   "id": "fbf5f8df-ad8e-483d-951f-4339b567be1e",
   "metadata": {},
   "outputs": [
    {
     "data": {
      "text/plain": [
       "Success: 0 rows affected"
      ]
     },
     "execution_count": 35,
     "metadata": {
      "application/vnd.teradata.resultset": ""
     },
     "output_type": "execute_result"
    },
    {
     "data": {
      "text/plain": [
       "Success: 0 rows affected"
      ]
     },
     "execution_count": 35,
     "metadata": {
      "application/vnd.teradata.resultset": ""
     },
     "output_type": "execute_result"
    },
    {
     "data": {
      "application/vnd.teradata.resultset": "\"Message\"\n\"Removed objects related to DEMO_Retail. That ran for 0:00:02.49\"",
      "text/html": [
       "<div class = \"td-resultset-table-div\" style = \"max-height: 100%; overflow-y: auto\">\n",
       "      <table class=\"tdhistory305525\"><style>\n",
       "      table.tdhistory305525 { display: block !important; min-height: 105px !important; overflow: auto !important; height: 105px !important; width: 100% !important; border: 1px solid rgb(207, 207, 207) !important; border-collapse: collapse !important; ; color: var(--jp-ui-font-color1) !important; }\n",
       "      th.tdhistory305525 { border: 1px solid rgb(198,198,198) !important; border-collapse: collapse !important; ; padding: 2px 5px !important; ; font-size: 13px !important; ; text-align: center !important; white-space: normal !important; color: var(--jp-ui-font-color1) !important; }\n",
       "      th.tdhistory305525:last-child { text-align: left !important; }\n",
       "      tbody.tdhistory305525 tr:nth-child(even) { background: rgba(243, 243, 243, 0.75) !important; }\n",
       "      tbody.tdhistory305525 tr:nth-child(odd) { background: var(--jp-ui-inverse-font-color1) !important; }\n",
       "      td.tdhistory305525 { border: 1px solid rgb(207, 207, 207) !important; border-collapse: collapse !important; ; padding: 2px 5px !important; ; font-size: 13px !important; ; text-align: left !important;          white-space: nowrap !important; overflow:hidden !important; text-overflow:ellipsis !important;; }\n",
       "    </style><thead><tr style= \"background: rgba(243, 243, 243, 0.75)\"><th class=\"tdhistory305525\"></th><th class=\"tdhistory305525\">Message</th></tr></thead><tbody class=\"tdhistory305525 resultset-body\"><tr><th class=\"tdhistory305525\" style= \"background: rgba(243, 243, 243, 0.75)\">1</th><td class=\"tdhistory305525\">Removed objects related to DEMO_Retail. That ran for 0:00:02.49</td></tr></tbody></table></div>"
      ]
     },
     "execution_count": 35,
     "metadata": {
      "application/vnd.teradata.resultset": "{\"resultSetID\":\"/home/jovyan/JupyterLabRoot/Teradata/Resultsets/2023.12.21_07.59.21.005_UTC\",\"historyID\":248,\"chunkID\":\"00001\",\"sessionid\":\"\",\"portnum\":\"\",\"dockermode\":\"docker\",\"totalRowCount\":1,\"chunkCount\":0,\"rowLimit\":0,\"columnMetadata\":[{\"columnName\":\"Message\",\"columnTypeName\":\"VARCHAR\",\"length\":65,\"scale\":65}]}"
     },
     "output_type": "execute_result"
    }
   ],
   "source": [
    "call remove_data('DEMO_Retail');    -- takes about 5 seconds, optional if you want to use the data later"
   ]
  },
  {
   "cell_type": "markdown",
   "id": "1eeef016-05c7-45e4-af12-3bcf958f13b3",
   "metadata": {},
   "source": [
    "<hr style=\"height:2px;border:none;background-color:#00233C;\">\n",
    "<p style = 'font-size:20px;font-family:Arial;color:#00233C'> <b> 8. Conclusion </b> </p>\n",
    "<p style = 'font-size:16px;font-family:Arial;color:#00233C'>In this notebook we have seen some of the Teradata Vantage Clearscape's new inDb functions and how we can create k clustering model from the transformed data.</p>"
   ]
  },
  {
   "cell_type": "markdown",
   "id": "56d2506b-0db7-4aeb-9b52-40af76e4201a",
   "metadata": {},
   "source": [
    "<p style = 'font-size:20px;font-family:Arial;color:#00233C'><b>Reference Links:</b></p>\n",
    "<ul style = 'font-size:16px;font-family:Arial;color:#00233C'>\n",
    "        <li>Teradata Analytic Function Reference:\n",
    "        <a href = 'https://docs.teradata.com/r/Teradata-VantageCloud-Lake/Analyzing-Your-Data/Analytics-Database-Analytic-Functions/Analytics-Database-Analytic-Functions-Overview'>\n",
    "        https://docs.teradata.com/r/Teradata-VantageCloud-Lake/Analyzing-Your-Data/Analytics-Database-Analytic-Functions/Analytics-Database-Analytic-Functions-Overview</a></li>\n",
    "  \n",
    "</ul>"
   ]
  },
  {
   "cell_type": "markdown",
   "id": "e439c913-9462-4bd4-aaec-51563ab81fa6",
   "metadata": {},
   "source": [
    "<footer style=\"padding-bottom:35px; background:#f9f9f9; border-bottom:3px solid #00233C\">\n",
    "    <div style=\"float:left;margin-top:14px\">ClearScape Analytics™</div>\n",
    "    <div style=\"float:right;\">\n",
    "        <div style=\"float:left; margin-top:14px\">\n",
    "            Copyright © Teradata Corporation - 2023. All Rights Reserved\n",
    "        </div>\n",
    "    </div>\n",
    "</footer>"
   ]
  }
 ],
 "metadata": {
  "kernelspec": {
   "display_name": "Teradata SQL",
   "language": "Teradata SQL",
   "name": "teradatasql"
  },
  "language_info": {
   "codemirror_mode": "Teradata SQL",
   "file_extension": ".tdrs",
   "mimetype": "application/vnd.teradata.resultset",
   "name": "Teradata SQL",
   "nbconvert_exporter": "",
   "pygments_lexer": "",
   "version": "16.20"
  },
  "toc-showmarkdowntxt": true
 },
 "nbformat": 4,
 "nbformat_minor": 5
}
