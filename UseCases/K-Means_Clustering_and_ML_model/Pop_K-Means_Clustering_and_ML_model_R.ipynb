{
 "cells": [
  {
   "cell_type": "markdown",
   "id": "c04a34e8-a9ce-4cb9-992f-e3fbfe3fb908",
   "metadata": {},
   "source": [
    "<header>\n",
    "   <p  style='font-size:36px;font-family:Arial; color:#F0F0F0; background-color: #00233c; padding-left: 20pt; padding-top: 20pt;padding-bottom: 10pt; padding-right: 20pt;'>\n",
    "       Customer Segmentation with K-means Clustering and Data Preparation Pipelines with R and tdplyr\n",
    "  <br>\n",
    "       <img id=\"teradata-logo\" src=\"https://storage.googleapis.com/clearscape_analytics_demo_data/DEMO_Logo/teradata.svg\" alt=\"Teradata\" style=\"width: 125px; height: auto; margin-top: 20pt;\">\n",
    "    </p>\n",
    "</header>"
   ]
  },
  {
   "cell_type": "markdown",
   "id": "c2ad6d6b-f94a-4d15-9885-07aaf253712a",
   "metadata": {},
   "source": [
    "<p style = 'font-size:20px;font-family:Arial;color:#00233C'><b>Introduction</b></p>"
   ]
  },
  {
   "cell_type": "markdown",
   "id": "7f6fb360",
   "metadata": {},
   "source": [
    "<b style = 'font-size:20px;font-family:Arial;'>Leverage native Vantage processing for efficient and highly scalable data preparation, model training, and evaluation workflows</b>\n",
    "\n",
    "<p style = 'font-size:16px;font-family:Arial;color:#00233C'>K-means clustering is one of the most popular <b>unsupervised</b> machine learning algorithms.  Essentially, the algorithm seeks to group similar data points together by minimizing the average (\"means\" in K-means) distance for all data points from each cluster's center (centroid).</p>\n",
    "\n",
    "<table style = 'width:100%;table-layout:fixed;'>\n",
    "    <tr>\n",
    "        <td style = 'vertical-align:top' width = '50%'>\n",
    "            <ol style = 'font-size:16px;font-family:Arial;color:#00233C'>\n",
    "                <li>Define the number of clusters (k)</li>\n",
    "                <br>\n",
    "                <li>The algorithm chooses random points as centroids</li>\n",
    "                <br>\n",
    "                <li>Each iteration attempts to optimize the centroid locations</li>\n",
    "                <br>\n",
    "                <li>Iterations end once the distances have stabilized or the max iteration count is reached</li>\n",
    "            </ol>\n",
    "        </td>\n",
    "        <td><img src = 'images/K-means_convergence.gif' width = '250'></td>\n",
    "    </tr>\n",
    "</table>\n",
    "\n",
    "<p style = 'font-size:16px;font-family:Arial;color:#00233C'>One limitation of this algorithm is that it only accepts numeric data as feature input (categorical clustering can be performed using K-modes algorithm).  Typically, data engineers or data scientists will perform multiple <b>serial</b> steps to prepare a numeric-only data set that can be passed to the K-means algorithm.</p>\n",
    "\n",
    "<p style = 'font-size:16px;font-family:Arial;color:#00233C'>Vantage provides native \"Fit and Transform\" functions to assist in data preparation and transformation at scale.  To aid in efficiency and operationalization, Vantage provides a bulk <b>Column Transformer</b> function which can take multiple transformation directives at the same time, and act on the whole data set at once.  This allows for both process and code simplification, allowing more streamlined and robust operational deployment.</p> \n",
    "\n",
    "<img src = 'Flow_Diagram_KMeans.png' width = 100%>\n"
   ]
  },
  {
   "cell_type": "markdown",
   "id": "4e9acd56",
   "metadata": {},
   "source": [
    "<p style = 'font-size:16px;font-family:Arial;color:#00233C'>The data for this demonstration is based on online purchase history data set, which can be found <a href = 'https://www.kaggle.com/code/hellbuoy/online-retail-k-means-hierarchical-clustering/data'>here</a>.  The goal is to segment the customers by purchase volume and value.  Steps are as follow:</p>\n",
    "\n",
    "<table style = 'width:100%;table-layout:fixed;'>\n",
    "    <tr>\n",
    "        <td style = 'vertical-align:top' width = '50%'>\n",
    "            <ol style = 'font-size:16px;font-family:Arial;color:#00233C'>\n",
    "                <li>Analyze the raw data, split a testing set</li>\n",
    "                <br>\n",
    "                <li>Engineer numeric features</li>\n",
    "                <br>\n",
    "                <li>Build the K-means model</li>\n",
    "                <br>\n",
    "                <li>Apply in-line transformation to the testing set</li>\n",
    "                <br>\n",
    "                <li>Make Predictions and evaluate model accuracy</li>\n",
    "            </ol>\n",
    "        </td>\n",
    "        <td><img src = 'images/clustering_img.png' width = '250'></td>\n",
    "    </tr>\n",
    "</table>"
   ]
  },
  {
   "cell_type": "markdown",
   "id": "db975364-0246-42aa-9fae-a5fc0028ad61",
   "metadata": {},
   "source": [
    "<hr style=\"height:2px;border:none;background-color:#00233C;\">\n",
    "<p style = 'font-size:20px;font-family:Arial;color:#00233C'><b>1. Connect to Vantage</b></p>\n",
    "<p style = 'font-size:16px;font-family:Arial;color:#00233C'>First we import the required libraries, set environment variables and environment paths (if required).</p>"
   ]
  },
  {
   "cell_type": "code",
   "execution_count": 1,
   "id": "db654e2b-edbe-47a5-a82c-ec5b956635ec",
   "metadata": {},
   "outputs": [],
   "source": [
    "suppressMessages(install.packages(\"dbplot\", quiet = TRUE))"
   ]
  },
  {
   "cell_type": "markdown",
   "id": "4537ee17-17c8-4655-86e2-55327356bae3",
   "metadata": {},
   "source": [
    "<div class=\"alert alert-block alert-info\">\n",
    "<p style = 'font-size:16px;font-family:Arial;color:#00233C'><b>Note: </b><i>The above statement will install the required libraries and may give a message about the installation. In case of any message please make sure its just a message or a warning and not any error. After installation make sure to restart the kernel. The simplest way to restart the Kernel is by typing zero zero: <b> 0 0</b></i></p>\n",
    "</div>"
   ]
  },
  {
   "cell_type": "code",
   "execution_count": 2,
   "id": "9c076a80-1aea-44d1-994a-8bbd346aec00",
   "metadata": {},
   "outputs": [],
   "source": [
    "suppressWarnings(suppressMessages({\n",
    "library(tdplyr)\n",
    "library(dbplyr)\n",
    "library(dplyr)\n",
    "library(DBI) \n",
    "library(ggplot2)   \n",
    "library(dbplot)    \n",
    "    }))"
   ]
  },
  {
   "cell_type": "markdown",
   "id": "ef86b871-d671-46e3-9fbc-a21e867b55d1",
   "metadata": {},
   "source": [
    "<p style = 'font-size:16px;font-family:Arial;color:#00233C'>We will be prompted to provide the password. We will enter the password, press the Enter key, and then use the down arrow to go to the next cell.</p>"
   ]
  },
  {
   "cell_type": "code",
   "execution_count": 3,
   "id": "e19a97de-4dce-4711-97e9-6a1d7c1d877d",
   "metadata": {},
   "outputs": [
    {
     "name": "stdin",
     "output_type": "stream",
     "text": [
      "Enter your password:  ········\n"
     ]
    }
   ],
   "source": [
    "con <- td_create_context(host = 'host.docker.internal', uid = \"demo_user\", pwd = getPass(\"Enter your password: \"), dType = \"NATIVE\", logmech = \"TD2\")"
   ]
  },
  {
   "cell_type": "markdown",
   "id": "6920942e-8c65-48e9-ac0e-7963a14bda72",
   "metadata": {},
   "source": [
    "<p style = 'font-size:16px;font-family:Arial;color:#00233C'>Setup for execution of notebook. Begin running steps with Shift + Enter keys.</p>"
   ]
  },
  {
   "cell_type": "code",
   "execution_count": 4,
   "id": "424ff7ce-3eed-4736-a8d1-32bbda29a1ac",
   "metadata": {},
   "outputs": [
    {
     "data": {
      "text/html": [
       "1"
      ],
      "text/latex": [
       "1"
      ],
      "text/markdown": [
       "1"
      ],
      "text/plain": [
       "[1] 1"
      ]
     },
     "metadata": {},
     "output_type": "display_data"
    }
   ],
   "source": [
    "dbExecute(con,\"SET query_band='DEMO=K-Means_Clustering_and_ML_model_R.ipynb;' UPDATE FOR SESSION;\") "
   ]
  },
  {
   "cell_type": "markdown",
   "id": "0cbb88de-754c-4963-b9ad-4dd7a6669b11",
   "metadata": {},
   "source": [
    "<p style = 'font-size:18px;font-family:Arial;color:#00233C'> <b>Getting Data for This Demo</b></p>\n",
    "<p style = 'font-size:16px;font-family:Arial;color:#00233C'>We have provided data for this demo on cloud storage. We have the option of either running the demo using foreign tables to access the data without using any storage on our environment or downloading the data to local storage, which may yield somewhat faster execution. However, we need to consider available storage. There are two statements in the following cell, and one is commented out. We may switch which mode we choose by changing the comment string.</p>"
   ]
  },
  {
   "cell_type": "code",
   "execution_count": 5,
   "id": "768933b3-7eca-4e3f-85ca-033212069909",
   "metadata": {},
   "outputs": [
    {
     "data": {
      "text/html": [
       "0"
      ],
      "text/latex": [
       "0"
      ],
      "text/markdown": [
       "0"
      ],
      "text/plain": [
       "[1] 0"
      ]
     },
     "metadata": {},
     "output_type": "display_data"
    }
   ],
   "source": [
    "#dbExecute(con,\"call get_data('DEMO_Retail_cloud');\") \n",
    "dbExecute(con,\"call get_data('DEMO_Retail_local');\") "
   ]
  },
  {
   "cell_type": "markdown",
   "id": "ec3cda83-bf40-42af-a1f8-a6102935c8bc",
   "metadata": {},
   "source": [
    "<p style = 'font-size:18px;font-family:Arial;color:#00233C'> <b> Access data in Vantage  </b> </p>\n",
    "<p style = 'font-size:16px;font-family:Arial;color:#00233C'>For this demo, data is already resident in Object Storage which we are accessing via ReadNOS, create a reference to the table, and sample the contents using the get_data procedure used above.  Data could just as easily reside in permanent tables, another RDBMS, or another Vantage system.</p>"
   ]
  },
  {
   "cell_type": "code",
   "execution_count": 6,
   "id": "affb5a16-aaa0-45e7-8069-3619291bd1c5",
   "metadata": {},
   "outputs": [
    {
     "data": {
      "text/html": [
       "<table class=\"dataframe\">\n",
       "<caption>A data.frame: 5 × 8</caption>\n",
       "<thead>\n",
       "\t<tr><th scope=col>InvoiceNo</th><th scope=col>StockCode</th><th scope=col>Description</th><th scope=col>Quantity</th><th scope=col>InvoiceDate</th><th scope=col>UnitPrice</th><th scope=col>CustomerID</th><th scope=col>Country</th></tr>\n",
       "\t<tr><th scope=col>&lt;chr&gt;</th><th scope=col>&lt;chr&gt;</th><th scope=col>&lt;chr&gt;</th><th scope=col>&lt;int64&gt;</th><th scope=col>&lt;dttm&gt;</th><th scope=col>&lt;dbl&gt;</th><th scope=col>&lt;dbl&gt;</th><th scope=col>&lt;chr&gt;</th></tr>\n",
       "</thead>\n",
       "<tbody>\n",
       "\t<tr><td>555550</td><td>21830</td><td>ASSORTED CREEPY CRAWLIES       </td><td>24</td><td>2011-05-06 13:29:00</td><td>0.42</td><td>15245</td><td>United Kingdom</td></tr>\n",
       "\t<tr><td>555550</td><td>21916</td><td>SET 12 RETRO WHITE CHALK STICKS</td><td>48</td><td>2011-05-06 13:29:00</td><td>0.42</td><td>15245</td><td>United Kingdom</td></tr>\n",
       "\t<tr><td>555550</td><td>22383</td><td>LUNCH BAG SUKI DESIGN          </td><td>10</td><td>2011-05-06 13:29:00</td><td>1.65</td><td>15245</td><td>United Kingdom</td></tr>\n",
       "\t<tr><td>555550</td><td>22382</td><td>LUNCH BAG SPACEBOY DESIGN      </td><td>10</td><td>2011-05-06 13:29:00</td><td>1.65</td><td>15245</td><td>United Kingdom</td></tr>\n",
       "\t<tr><td>555550</td><td>21166</td><td>COOK WITH WINE METAL SIGN      </td><td>12</td><td>2011-05-06 13:29:00</td><td>2.08</td><td>15245</td><td>United Kingdom</td></tr>\n",
       "</tbody>\n",
       "</table>\n"
      ],
      "text/latex": [
       "A data.frame: 5 × 8\n",
       "\\begin{tabular}{llllllll}\n",
       " InvoiceNo & StockCode & Description & Quantity & InvoiceDate & UnitPrice & CustomerID & Country\\\\\n",
       " <chr> & <chr> & <chr> & <int64> & <dttm> & <dbl> & <dbl> & <chr>\\\\\n",
       "\\hline\n",
       "\t 555550 & 21830 & ASSORTED CREEPY CRAWLIES        & 24 & 2011-05-06 13:29:00 & 0.42 & 15245 & United Kingdom\\\\\n",
       "\t 555550 & 21916 & SET 12 RETRO WHITE CHALK STICKS & 48 & 2011-05-06 13:29:00 & 0.42 & 15245 & United Kingdom\\\\\n",
       "\t 555550 & 22383 & LUNCH BAG SUKI DESIGN           & 10 & 2011-05-06 13:29:00 & 1.65 & 15245 & United Kingdom\\\\\n",
       "\t 555550 & 22382 & LUNCH BAG SPACEBOY DESIGN       & 10 & 2011-05-06 13:29:00 & 1.65 & 15245 & United Kingdom\\\\\n",
       "\t 555550 & 21166 & COOK WITH WINE METAL SIGN       & 12 & 2011-05-06 13:29:00 & 2.08 & 15245 & United Kingdom\\\\\n",
       "\\end{tabular}\n"
      ],
      "text/markdown": [
       "\n",
       "A data.frame: 5 × 8\n",
       "\n",
       "| InvoiceNo &lt;chr&gt; | StockCode &lt;chr&gt; | Description &lt;chr&gt; | Quantity &lt;int64&gt; | InvoiceDate &lt;dttm&gt; | UnitPrice &lt;dbl&gt; | CustomerID &lt;dbl&gt; | Country &lt;chr&gt; |\n",
       "|---|---|---|---|---|---|---|---|\n",
       "| 555550 | 21830 | ASSORTED CREEPY CRAWLIES        | 24 | 2011-05-06 13:29:00 | 0.42 | 15245 | United Kingdom |\n",
       "| 555550 | 21916 | SET 12 RETRO WHITE CHALK STICKS | 48 | 2011-05-06 13:29:00 | 0.42 | 15245 | United Kingdom |\n",
       "| 555550 | 22383 | LUNCH BAG SUKI DESIGN           | 10 | 2011-05-06 13:29:00 | 1.65 | 15245 | United Kingdom |\n",
       "| 555550 | 22382 | LUNCH BAG SPACEBOY DESIGN       | 10 | 2011-05-06 13:29:00 | 1.65 | 15245 | United Kingdom |\n",
       "| 555550 | 21166 | COOK WITH WINE METAL SIGN       | 12 | 2011-05-06 13:29:00 | 2.08 | 15245 | United Kingdom |\n",
       "\n"
      ],
      "text/plain": [
       "  InvoiceNo StockCode Description                     Quantity\n",
       "1 555550    21830     ASSORTED CREEPY CRAWLIES        24      \n",
       "2 555550    21916     SET 12 RETRO WHITE CHALK STICKS 48      \n",
       "3 555550    22383     LUNCH BAG SUKI DESIGN           10      \n",
       "4 555550    22382     LUNCH BAG SPACEBOY DESIGN       10      \n",
       "5 555550    21166     COOK WITH WINE METAL SIGN       12      \n",
       "  InvoiceDate         UnitPrice CustomerID Country       \n",
       "1 2011-05-06 13:29:00 0.42      15245      United Kingdom\n",
       "2 2011-05-06 13:29:00 0.42      15245      United Kingdom\n",
       "3 2011-05-06 13:29:00 1.65      15245      United Kingdom\n",
       "4 2011-05-06 13:29:00 1.65      15245      United Kingdom\n",
       "5 2011-05-06 13:29:00 2.08      15245      United Kingdom"
      ]
     },
     "metadata": {},
     "output_type": "display_data"
    }
   ],
   "source": [
    "top_df <- dbGetQuery(con, \"SELECT TOP 5 * FROM DEMO_Retail.UK_Retail_Data;\")\n",
    "top_df"
   ]
  },
  {
   "cell_type": "markdown",
   "id": "83435d46",
   "metadata": {},
   "source": [
    "<hr style=\"height:2px;border:none;background-color:#00233C;\">\n",
    "<p style = 'font-size:20px;font-family:Arial;color:#00233C'><b>2. Data Preparation</b></p>\n",
    "<p style = 'font-size:16px;font-family:Arial;color:#00233C'>Here, we will inspect the original data set, and perform various preparation tasks.</p>\n",
    "\n",
    "<ol style = 'font-size:16px;font-family:Arial;color:#00233C'>\n",
    "    <li>Inspect the rows of the table</li>\n",
    "    <li>Inspect the column metadata using <a href = 'https://docs.teradata.com/search/all?query=td_column_summary_sqle&filters=prodname~%2522Teradata+Package+for+R%2522&content-lang=en-US'>ColumnSummary</a></li>\n",
    "    <li>Split off a testing data set to be used in evaluation</li>\n",
    "    </ol>"
   ]
  },
  {
   "cell_type": "markdown",
   "id": "4e586da8-8c11-4730-9111-d379e565f665",
   "metadata": {},
   "source": [
    "<hr style=\"height:1px;border:none;background-color:#00233C;\">"
   ]
  },
  {
   "cell_type": "markdown",
   "id": "dd822590",
   "metadata": {},
   "source": [
    "<p style = 'font-size:18px;font-family:Arial;color:#00233C'><b>2.1 View Column information</b></p>\n",
    "\n",
    "<p style = 'font-size:16px;font-family:Arial;color:#00233C'><a href = 'https://docs.teradata.com/search/all?query=td_column_summary_sqle&filters=prodname~%2522Teradata+Package+for+R%2522&content-lang=en-US'>ColumnSummary</a> provides more details on column values and ranges</p>"
   ]
  },
  {
   "cell_type": "code",
   "execution_count": 7,
   "id": "cdb3d6cf-a754-4e2b-b19e-242033f27c13",
   "metadata": {},
   "outputs": [
    {
     "data": {
      "text/html": [
       "'No of Rows :536641'"
      ],
      "text/latex": [
       "'No of Rows :536641'"
      ],
      "text/markdown": [
       "'No of Rows :536641'"
      ],
      "text/plain": [
       "[1] \"No of Rows :536641\""
      ]
     },
     "metadata": {},
     "output_type": "display_data"
    }
   ],
   "source": [
    "tdf <- tbl(con, in_schema(\"DEMO_Retail\", \"UK_Retail_Data\"))\n",
    "sprintf(\"No of Rows :%s\",td_nrow(tdf))"
   ]
  },
  {
   "cell_type": "code",
   "execution_count": 8,
   "id": "0f3f56c4",
   "metadata": {},
   "outputs": [
    {
     "name": "stdout",
     "output_type": "stream",
     "text": [
      "\u001b[90m# Source:   table<\"DEMO_USER\".\"r__t__td_sqlmr_out_1725598465879735\"> [8 x 10]\u001b[39m\n",
      "\u001b[90m# Database: Teradata\u001b[39m\n",
      "  ColumnName  Datatype                          NonNullCount NullCount\n",
      "  \u001b[3m\u001b[90m<chr>\u001b[39m\u001b[23m       \u001b[3m\u001b[90m<chr>\u001b[39m\u001b[23m                                  \u001b[3m\u001b[90m<int64>\u001b[39m\u001b[23m   \u001b[3m\u001b[90m<int64>\u001b[39m\u001b[23m\n",
      "\u001b[90m1\u001b[39m StockCode   VARCHAR(10) CHARACTER SET UNICODE       \u001b[4m5\u001b[24m\u001b[4m3\u001b[24m\u001b[4m6\u001b[24m641         0\n",
      "\u001b[90m2\u001b[39m Quantity    BIGINT                                  \u001b[4m5\u001b[24m\u001b[4m3\u001b[24m\u001b[4m6\u001b[24m641         0\n",
      "\u001b[90m3\u001b[39m UnitPrice   FLOAT                                   \u001b[4m5\u001b[24m\u001b[4m3\u001b[24m\u001b[4m6\u001b[24m641         0\n",
      "\u001b[90m4\u001b[39m InvoiceNo   VARCHAR(10) CHARACTER SET UNICODE       \u001b[4m5\u001b[24m\u001b[4m3\u001b[24m\u001b[4m6\u001b[24m641         0\n",
      "\u001b[90m5\u001b[39m CustomerID  FLOAT                                   \u001b[4m4\u001b[24m\u001b[4m0\u001b[24m\u001b[4m1\u001b[24m604         0\n",
      "\u001b[90m6\u001b[39m Description VARCHAR(40) CHARACTER SET UNICODE       \u001b[4m5\u001b[24m\u001b[4m3\u001b[24m\u001b[4m6\u001b[24m641         0\n",
      "\u001b[90m7\u001b[39m Country     VARCHAR(25) CHARACTER SET UNICODE       \u001b[4m5\u001b[24m\u001b[4m3\u001b[24m\u001b[4m6\u001b[24m641         0\n",
      "\u001b[90m8\u001b[39m InvoiceDate TIMESTAMP(6)                            \u001b[4m5\u001b[24m\u001b[4m3\u001b[24m\u001b[4m6\u001b[24m641         0\n",
      "  BlankCount ZeroCount PositiveCount NegativeCount NullPercentage\n",
      "     \u001b[3m\u001b[90m<int64>\u001b[39m\u001b[23m   \u001b[3m\u001b[90m<int64>\u001b[39m\u001b[23m       \u001b[3m\u001b[90m<int64>\u001b[39m\u001b[23m       \u001b[3m\u001b[90m<int64>\u001b[39m\u001b[23m          \u001b[3m\u001b[90m<dbl>\u001b[39m\u001b[23m\n",
      "\u001b[90m1\u001b[39m          0        \u001b[31mNA\u001b[39m            \u001b[31mNA\u001b[39m            \u001b[31mNA\u001b[39m              0\n",
      "\u001b[90m2\u001b[39m         \u001b[31mNA\u001b[39m         0        \u001b[4m5\u001b[24m\u001b[4m2\u001b[24m\u001b[4m6\u001b[24m054         \u001b[4m1\u001b[24m\u001b[4m0\u001b[24m587              0\n",
      "\u001b[90m3\u001b[39m         \u001b[31mNA\u001b[39m      \u001b[4m2\u001b[24m510        \u001b[4m5\u001b[24m\u001b[4m3\u001b[24m\u001b[4m4\u001b[24m129             2              0\n",
      "\u001b[90m4\u001b[39m          0        \u001b[31mNA\u001b[39m            \u001b[31mNA\u001b[39m            \u001b[31mNA\u001b[39m              0\n",
      "\u001b[90m5\u001b[39m         \u001b[31mNA\u001b[39m         0        \u001b[4m4\u001b[24m\u001b[4m0\u001b[24m\u001b[4m1\u001b[24m604             0              0\n",
      "\u001b[90m6\u001b[39m          0        \u001b[31mNA\u001b[39m            \u001b[31mNA\u001b[39m            \u001b[31mNA\u001b[39m              0\n",
      "\u001b[90m7\u001b[39m          0        \u001b[31mNA\u001b[39m            \u001b[31mNA\u001b[39m            \u001b[31mNA\u001b[39m              0\n",
      "\u001b[90m8\u001b[39m         \u001b[31mNA\u001b[39m        \u001b[31mNA\u001b[39m            \u001b[31mNA\u001b[39m            \u001b[31mNA\u001b[39m              0\n",
      "  NonNullPercentage\n",
      "              \u001b[3m\u001b[90m<dbl>\u001b[39m\u001b[23m\n",
      "\u001b[90m1\u001b[39m               100\n",
      "\u001b[90m2\u001b[39m               100\n",
      "\u001b[90m3\u001b[39m               100\n",
      "\u001b[90m4\u001b[39m               100\n",
      "\u001b[90m5\u001b[39m               100\n",
      "\u001b[90m6\u001b[39m               100\n",
      "\u001b[90m7\u001b[39m               100\n",
      "\u001b[90m8\u001b[39m               100\n"
     ]
    }
   ],
   "source": [
    "column_names <- colnames(tdf)\n",
    "obj <- td_column_summary_sqle(data=tdf,\n",
    "                        target.columns=(column_names)\n",
    "                       )\n",
    "print(obj$result, width =Inf)"
   ]
  },
  {
   "cell_type": "markdown",
   "id": "6923aa5c-289f-488d-9d59-c2d9fac0fb38",
   "metadata": {},
   "source": [
    "<hr style=\"height:1px;border:none;background-color:#00233C;\">"
   ]
  },
  {
   "cell_type": "markdown",
   "id": "805e9e23",
   "metadata": {},
   "source": [
    "<p style = 'font-size:18px;font-family:Arial;color:#00233C'><b>2.2 Create a Testing data set</b></p>\n",
    "\n",
    "<p style = 'font-size:16px;font-family:Arial;color:#00233C'>From our sample data we are selecting some \"Customer ID\" values for testing later.</p>"
   ]
  },
  {
   "cell_type": "code",
   "execution_count": 9,
   "id": "e41dc488",
   "metadata": {},
   "outputs": [
    {
     "data": {
      "text/html": [
       "0"
      ],
      "text/latex": [
       "0"
      ],
      "text/markdown": [
       "0"
      ],
      "text/plain": [
       "[1] 0"
      ]
     },
     "metadata": {},
     "output_type": "display_data"
    }
   ],
   "source": [
    "dbExecute(con,\"REPLACE VIEW UK_Retail_Test_V as (\n",
    "    SELECT * FROM DEMO_Retail.UK_Retail_Data \n",
    "    WHERE CustomerID IN ('17307', '12503', '18268', '12908', '13693')\n",
    ");\") "
   ]
  },
  {
   "cell_type": "markdown",
   "id": "40f1a089",
   "metadata": {},
   "source": [
    "<hr style=\"height:2px;border:none;background-color:#00233C;\">\n",
    "<p style = 'font-size:20px;font-family:Arial;color:#00233C'><b>3. Feature Engineering</b></p>\n",
    "\n",
    "<p style = 'font-size:16px;font-family:Arial;color:#00233C'>Vantage provides many inDb feature engineering functions, in this section we will see how to prepare the data set for model training.  We will use \"Fit\" functions available in the tdplyr package to create input for the <a href = 'https://docs.teradata.com/search/all?query=column+transformer&filters=prodname~%2522Teradata+Package+for+R%2522&content-lang=en-US'>ColumnTransformer</a> function to take as input in order to execute a bulk transformation.</p>\n",
    "\n",
    "<ol style = 'font-size:16px;font-family:Arial;color:#00233C'>\n",
    "    <li>Create a per-customer grouping of data</li>\n",
    "    <li>Create Fit Tables\n",
    "        <ul><li>Remove Outliers</li>\n",
    "            <li>Impute Missing Values</li>\n",
    "            <li>Create New Numeric Features</li>\n",
    "            <li>Rescale the Data Set</li>\n",
    "        </ul></li>\n",
    "    <li>Call the final Transformation function</li>\n",
    "    </ol>"
   ]
  },
  {
   "cell_type": "markdown",
   "id": "da99ac70-04d1-4587-a888-930eb035e733",
   "metadata": {},
   "source": [
    "<hr style=\"height:1px;border:none;background-color:#00233C;\">"
   ]
  },
  {
   "cell_type": "markdown",
   "id": "555dfd13",
   "metadata": {},
   "source": [
    "<p style = 'font-size:18px;font-family:Arial;color:#00233C'><b>3.1 Create a per-customer table</b></p>\n",
    "\n",
    "<p style = 'font-size:16px;font-family:Arial;color:#00233C'>Simple GROUP BY, exclude the testing IDs.<br> Note there are 4368 unique customers in this training set.</p>"
   ]
  },
  {
   "cell_type": "code",
   "execution_count": 10,
   "id": "66cf25c4",
   "metadata": {},
   "outputs": [
    {
     "data": {
      "text/html": [
       "0"
      ],
      "text/latex": [
       "0"
      ],
      "text/markdown": [
       "0"
      ],
      "text/plain": [
       "[1] 0"
      ]
     },
     "metadata": {},
     "output_type": "display_data"
    }
   ],
   "source": [
    "sql <- \"\n",
    "REPLACE VIEW Customer_ID_Group_V AS (\n",
    "    SELECT CustomerID,\n",
    "           SUM(quantity) as TotalQuantity, \n",
    "           SUM(UnitPrice) as TotalPrice, \n",
    "           COUNT(DISTINCT StockCode) as TotalItems \n",
    "    FROM DEMO_Retail.UK_Retail_Data\n",
    "    WHERE CustomerID NOT IN ('17307', '12503', '18268', '12908', '13693')\n",
    "    GROUP BY CustomerID\n",
    ");\"\n",
    "dbExecute(con, sql)"
   ]
  },
  {
   "cell_type": "code",
   "execution_count": 11,
   "id": "600ded66",
   "metadata": {},
   "outputs": [
    {
     "data": {
      "text/html": [
       "'No of Rows :4368'"
      ],
      "text/latex": [
       "'No of Rows :4368'"
      ],
      "text/markdown": [
       "'No of Rows :4368'"
      ],
      "text/plain": [
       "[1] \"No of Rows :4368\""
      ]
     },
     "metadata": {},
     "output_type": "display_data"
    }
   ],
   "source": [
    "tdf2 <- tbl(con, in_schema(\"DEMO_user\", \"Customer_ID_Group_V\"))\n",
    "sprintf(\"No of Rows :%s\",td_nrow(tdf2))"
   ]
  },
  {
   "cell_type": "markdown",
   "id": "f15fa44b-b8d6-4e86-b264-4c3944c04377",
   "metadata": {},
   "source": [
    "<hr style=\"height:1px;border:none;background-color:#00233C;\">"
   ]
  },
  {
   "cell_type": "markdown",
   "id": "dba90c65",
   "metadata": {},
   "source": [
    "<p style = 'font-size:18px;font-family:Arial;color:#00233C'><b>3.2 Create Fit Tables</b></p>\n",
    "\n",
    "<p style = 'font-size:16px;font-family:Arial;color:#00233C'>Vantage <a href = 'https://docs.teradata.com/search/all?query=Feature+Engineering+Transform+Functions&filters=prodname~%2522Teradata+Package+for+R%2522&content-lang=en-US'>Feature Engineering Transform Functions</a> Use a \"Fit and Transform\" approach to make processing more modular and efficient.  \"Fit tables\" can be used as input to either individual Transform functions, or passed to a single <a href = 'https://docs.teradata.com/search/all?query=column+transformer&filters=prodname~%2522Teradata+Package+for+R%2522&content-lang=en-US'>ColumnTransformer</a> function.</p>\n",
    "\n",
    "<table style = 'width:100%;table-layout:fixed;'>\n",
    "    <tr>\n",
    "        <td style = 'vertical-align:top' width = '50%'>\n",
    "<ul style = 'font-size:16px;font-family:Arial;color:#00233C'>\n",
    "    <li>Fit outlier removal using <a href = 'https://docs.teradata.com/search/all?query=OutlierFilterFit&filters=prodname~%2522Teradata+Package+for+R%2522&content-lang=en-US'>OutlierFilterFit</a></li>\n",
    "    <li>Fit a simple imputer to replace missing values using <a href = 'https://docs.teradata.com/search/all?query=simpleimputefit&filters=prodname~%2522Teradata+Package+for+R%2522&content-lang=en-US'>SimpleImputeFit</a></li>\n",
    "    <li>Fit column calculations to create new features using <a href = 'https://docs.teradata.com/search/all?query=NonLinearCombineFit&filters=prodname~%2522Teradata+Package+for+R%2522&content-lang=en-US'>NonLinearCombineFit</a></li>\n",
    "    <li>Call <a href = 'https://docs.teradata.com/search/all?query=column+transformer&filters=prodname~%2522Teradata+Package+for+R%2522&content-lang=en-US'>ColumnTransformer</a> to execute the transformations (to allow for Scaling)</li>\n",
    "    <li>Rescale the data using <a href = 'https://docs.teradata.com/search/all?query=ScaleFit&filters=prodname~%2522Teradata+Package+for+R%2522&content-lang=en-US'>ScaleFit/Transform</a></li>\n",
    "            </ul></td>\n",
    "        <td><img src = 'images/fit_transform.png' width = '300'></td>\n",
    "    </tr>\n",
    "    </table>"
   ]
  },
  {
   "cell_type": "markdown",
   "id": "882d613e-9565-45cf-81fb-f528bd9d4c38",
   "metadata": {},
   "source": [
    "<p style = 'font-size:16px;font-family:Arial;color:#00233C'><b>OutlierFilterFit</b> function calculates the lower_percentile, upper_percentile, count of rows and median for the specified input table columns. The calculated values for each column help the\n",
    "    <b>OutlierFilterTransform</b> function detect outliers in the input table."
   ]
  },
  {
   "cell_type": "code",
   "execution_count": 12,
   "id": "4eb93c8c-f84b-4e10-a5da-32a431f09f97",
   "metadata": {},
   "outputs": [
    {
     "data": {
      "text/plain": [
       "\u001b[90m# Source:   table<\"DEMO_USER\".\"r__t__td_sqlmr_out_1725598471366527\"> [2 x 11]\u001b[39m\n",
       "\u001b[90m# Database: Teradata\u001b[39m\n",
       "  TD_OUTLIERMETHOD_OFTFIT TD_IQRMULTIPLIER_OFTFIT TD_REMOVETAIL_OFTFIT\n",
       "  \u001b[3m\u001b[90m<chr>\u001b[39m\u001b[23m                                     \u001b[3m\u001b[90m<dbl>\u001b[39m\u001b[23m \u001b[3m\u001b[90m<chr>\u001b[39m\u001b[23m               \n",
       "\u001b[90m1\u001b[39m PERCENTILE                                  1.5 BOTH                \n",
       "\u001b[90m2\u001b[39m PERCENTILE                                  1.5 BOTH                \n",
       "\u001b[90m# ℹ 8 more variables: TD_REPLACEMENTVALUE_OFTFIT <chr>,\u001b[39m\n",
       "\u001b[90m#   TD_MINTHRESHOLD_OFTFIT <dbl>, TD_MAXTHRESHOLD_OFTFIT <dbl>,\u001b[39m\n",
       "\u001b[90m#   TD_ATTRIBUTEVALUE_OFTFIT <chr>, TD_COUNTVALUE_OFTFIT <int64>,\u001b[39m\n",
       "\u001b[90m#   TD_MEDIANVALUE_OFTFIT <dbl>, TD_LOWERPERCENTILE_OFTFIT <dbl>,\u001b[39m\n",
       "\u001b[90m#   TD_UPPERPERCENTILE_OFTFIT <dbl>\u001b[39m"
      ]
     },
     "metadata": {},
     "output_type": "display_data"
    }
   ],
   "source": [
    "#Remove Outliers\n",
    "#Trim below 3rd, and above 97th percentile\n",
    "\n",
    " outlierfit_obj <- td_outlier_filter_fit_sqle(\n",
    "                data=tdf2,\n",
    "                target.columns=c('TotalQuantity','TotalPrice'),\n",
    "                lower.percentile=0.03,\n",
    "                upper.percentile=0.97,\n",
    "                outlier.method=\"PERCENTILE\",\n",
    "                replacement.value=\"MEDIAN\",\n",
    "                percentile.method=\"PERCENTILECONT\")\n",
    "outlierfit_obj$result"
   ]
  },
  {
   "cell_type": "markdown",
   "id": "ed1d1825-83bd-4b92-9d53-87cfea6bf046",
   "metadata": {},
   "source": [
    "<p style = 'font-size:16px;font-family:Arial;color:#00233C'><b>SimpleImputeFit </b>will output a table with the values that will be used to substitute the missing values<br>\n",
    "    <b>SimpleImputeTransform</b> will return the input data set with the missing values filled in."
   ]
  },
  {
   "cell_type": "code",
   "execution_count": 13,
   "id": "83d09e2f-898a-4d2c-b1cf-79daa8cf80df",
   "metadata": {},
   "outputs": [
    {
     "data": {
      "text/plain": [
       "\u001b[90m# Source:   table<\"DEMO_USER\".\"r__t__td_sqlmr_out_1725598473867916\"> [1 x 5]\u001b[39m\n",
       "\u001b[90m# Database: Teradata\u001b[39m\n",
       "  TD_INDEX_SIMFIT TD_TARGETCOLUMN_SIMFIT TD_NUM_COLVAL_SIMFIT\n",
       "            \u001b[3m\u001b[90m<int>\u001b[39m\u001b[23m \u001b[3m\u001b[90m<chr>\u001b[39m\u001b[23m                                 \u001b[3m\u001b[90m<dbl>\u001b[39m\u001b[23m\n",
       "\u001b[90m1\u001b[39m               0 CustomerID                            \u001b[4m1\u001b[24m\u001b[4m9\u001b[24m000\n",
       "\u001b[90m# ℹ 2 more variables: TD_STR_COLVAL_SIMFIT <chr>, TD_ISNUMERIC_SIMFIT <int>\u001b[39m"
      ]
     },
     "metadata": {},
     "output_type": "display_data"
    }
   ],
   "source": [
    "#Impute Missing Values\n",
    "#Replace any missing CustomerID with a specific value\n",
    "\n",
    "imputefit_obj <- td_simple_impute_fit_sqle(data=tdf2,\n",
    "                                         literals.columns=\"CustomerID\",\n",
    "                                         literals=\"19000\")\n",
    "imputefit_obj$result"
   ]
  },
  {
   "cell_type": "markdown",
   "id": "548d4822-3e13-4c50-afac-995aaad2fa9d",
   "metadata": {},
   "source": [
    "<p style = 'font-size:16px;font-family:Arial;color:#00233C'><b>NonLinearCombineFit</b> function returns the target columns and a specified formula which uses the non-linear combination of existing features.\n"
   ]
  },
  {
   "cell_type": "code",
   "execution_count": 14,
   "id": "b585b0bd-6db2-41b0-a638-ecc1899b0c70",
   "metadata": {},
   "outputs": [
    {
     "data": {
      "text/plain": [
       "\u001b[90m# Source:   table<\"DEMO_USER\".\"r__t__td_sqlmr_out_1725598477422650\"> [1 x 3]\u001b[39m\n",
       "\u001b[90m# Database: Teradata\u001b[39m\n",
       "  TotalSales TotalQuantity TotalPrice\n",
       "  \u001b[3m\u001b[90m<chr>\u001b[39m\u001b[23m            \u001b[3m\u001b[90m<int64>\u001b[39m\u001b[23m      \u001b[3m\u001b[90m<dbl>\u001b[39m\u001b[23m\n",
       "\u001b[90m1\u001b[39m Y = X1*X0             \u001b[31mNA\u001b[39m         \u001b[31mNA\u001b[39m"
      ]
     },
     "metadata": {},
     "output_type": "display_data"
    }
   ],
   "source": [
    "# Create a new column by multiplying quantity and price\n",
    "\n",
    "nonlinearfit_out <- td_non_linear_combine_fit_sqle(\n",
    "                                                  data = tdf2,\n",
    "                                                  target.columns = c('TotalQuantity','TotalPrice'),\n",
    "                                                  formula = \"Y = X1*X0\",\n",
    "                                                  result.column = \"TotalSales\")\n",
    "nonlinearfit_out$result"
   ]
  },
  {
   "cell_type": "code",
   "execution_count": 15,
   "id": "1b08a0e4",
   "metadata": {},
   "outputs": [
    {
     "data": {
      "text/plain": [
       "\u001b[90m# Source:   table<\"DEMO_USER\".\"r__t__td_sqlmr_out_1725598480788991\"> [1 x 4]\u001b[39m\n",
       "\u001b[90m# Database: Teradata\u001b[39m\n",
       "  SalesPerItem   TotalQuantity TotalPrice TotalItems\n",
       "  \u001b[3m\u001b[90m<chr>\u001b[39m\u001b[23m                \u001b[3m\u001b[90m<int64>\u001b[39m\u001b[23m      \u001b[3m\u001b[90m<dbl>\u001b[39m\u001b[23m      \u001b[3m\u001b[90m<int>\u001b[39m\u001b[23m\n",
       "\u001b[90m1\u001b[39m Y = (X0*X1)/X2            \u001b[31mNA\u001b[39m         \u001b[31mNA\u001b[39m         \u001b[31mNA\u001b[39m"
      ]
     },
     "metadata": {},
     "output_type": "display_data"
    }
   ],
   "source": [
    "# Create another new column by diving the total sales by the number of unique items\n",
    "\n",
    "nonlinearfit2_out <- td_non_linear_combine_fit_sqle(\n",
    "                                                  data = tdf2,\n",
    "                                                  target.columns = c('TotalQuantity','TotalPrice','TotalItems'),\n",
    "                                                  formula = \"Y = (X0*X1)/X2\",\n",
    "                                                  result.column = \"SalesPerItem\")\n",
    "nonlinearfit2_out$result"
   ]
  },
  {
   "cell_type": "markdown",
   "id": "5dc7b2b7-c4ce-47bd-9569-675e553f9757",
   "metadata": {},
   "source": [
    "<p style = 'font-size:16px;font-family:Arial;color:#00233C'><b>The ColumnTransformer</b> function transforms the entire dataset in a single operation. You only need to provide the FIT tables to the function, and the function runs all transformations that you require in a\n",
    "single operation. Running all the it table transformations together in one-go gives approx. 30% performance improvement over running each transformation sequentially.</p>"
   ]
  },
  {
   "cell_type": "code",
   "execution_count": 16,
   "id": "5ddf01fb-b734-4e6f-9ab0-a3a359596e39",
   "metadata": {},
   "outputs": [
    {
     "data": {
      "text/plain": [
       "\u001b[90m# Source:   table<\"DEMO_USER\".\"r__t__td_sqlmr_out_1725598484687191\"> [?? x 5]\u001b[39m\n",
       "\u001b[90m# Database: Teradata\u001b[39m\n",
       "   CustomerID TotalQuantity TotalPrice TotalItems TotalSales\n",
       "        \u001b[3m\u001b[90m<dbl>\u001b[39m\u001b[23m       \u001b[3m\u001b[90m<int64>\u001b[39m\u001b[23m      \u001b[3m\u001b[90m<dbl>\u001b[39m\u001b[23m      \u001b[3m\u001b[90m<int>\u001b[39m\u001b[23m      \u001b[3m\u001b[90m<dbl>\u001b[39m\u001b[23m\n",
       "\u001b[90m 1\u001b[39m      \u001b[4m1\u001b[24m\u001b[4m7\u001b[24m614           235      219.          97    \u001b[4m5\u001b[24m\u001b[4m1\u001b[24m385. \n",
       "\u001b[90m 2\u001b[39m      \u001b[4m1\u001b[24m\u001b[4m2\u001b[24m957          \u001b[4m2\u001b[24m531      691.         208  1\u001b[4m7\u001b[24m\u001b[4m4\u001b[24m\u001b[4m9\u001b[24m503. \n",
       "\u001b[90m 3\u001b[39m      \u001b[4m1\u001b[24m\u001b[4m4\u001b[24m288           187       60.8         16    \u001b[4m1\u001b[24m\u001b[4m1\u001b[24m379. \n",
       "\u001b[90m 4\u001b[39m      \u001b[4m1\u001b[24m\u001b[4m6\u001b[24m830           264       49.0         23    \u001b[4m1\u001b[24m\u001b[4m2\u001b[24m933. \n",
       "\u001b[90m 5\u001b[39m      \u001b[4m1\u001b[24m\u001b[4m6\u001b[24m168          \u001b[4m1\u001b[24m888      329.          57   \u001b[4m6\u001b[24m\u001b[4m2\u001b[24m\u001b[4m1\u001b[24m473. \n",
       "\u001b[90m 6\u001b[39m      \u001b[4m1\u001b[24m\u001b[4m4\u001b[24m090            72      129.           1       76.3\n",
       "\u001b[90m 7\u001b[39m      \u001b[4m1\u001b[24m\u001b[4m4\u001b[24m680           365      776.          83  9\u001b[4m6\u001b[24m\u001b[4m8\u001b[24m\u001b[4m3\u001b[24m691. \n",
       "\u001b[90m 8\u001b[39m      \u001b[4m1\u001b[24m\u001b[4m5\u001b[24m270          \u001b[4m1\u001b[24m459      292.          22   \u001b[4m4\u001b[24m\u001b[4m2\u001b[24m\u001b[4m5\u001b[24m678. \n",
       "\u001b[90m 9\u001b[39m      \u001b[4m1\u001b[24m\u001b[4m2\u001b[24m910          \u001b[4m1\u001b[24m692      157.          48   \u001b[4m2\u001b[24m\u001b[4m6\u001b[24m\u001b[4m5\u001b[24m576. \n",
       "\u001b[90m10\u001b[39m      \u001b[4m1\u001b[24m\u001b[4m3\u001b[24m500           585      238.          60   \u001b[4m1\u001b[24m\u001b[4m3\u001b[24m\u001b[4m9\u001b[24m382. \n",
       "\u001b[90m# ℹ more rows\u001b[39m"
      ]
     },
     "metadata": {},
     "output_type": "display_data"
    }
   ],
   "source": [
    "# Execute ColumnTransformer to build the data set\n",
    "\n",
    "coltrans_out <- \n",
    "      td_column_transformer_sqle(\n",
    "       input.data=tdf2,\n",
    "       outlierfilter.fit.data=outlierfit_obj$result,\n",
    "       simpleimpute.fit.data=imputefit_obj$result,\n",
    "       nonlinearcombine.fit.data=nonlinearfit_out$result)\n",
    "coltrans_out$result"
   ]
  },
  {
   "cell_type": "code",
   "execution_count": 17,
   "id": "3c3bfc48-2de8-4525-b95e-adfba08cda9e",
   "metadata": {},
   "outputs": [
    {
     "data": {
      "text/plain": [
       "\u001b[90m# Source:   table<\"DEMO_USER\".\"r__t__td_sqlmr_out_1725598493616862\"> [?? x 6]\u001b[39m\n",
       "\u001b[90m# Database: Teradata\u001b[39m\n",
       "   CustomerID TotalQuantity TotalPrice TotalItems TotalSales SalesPerItem\n",
       "        \u001b[3m\u001b[90m<dbl>\u001b[39m\u001b[23m         \u001b[3m\u001b[90m<dbl>\u001b[39m\u001b[23m      \u001b[3m\u001b[90m<dbl>\u001b[39m\u001b[23m      \u001b[3m\u001b[90m<dbl>\u001b[39m\u001b[23m      \u001b[3m\u001b[90m<dbl>\u001b[39m\u001b[23m        \u001b[3m\u001b[90m<dbl>\u001b[39m\u001b[23m\n",
       "\u001b[90m 1\u001b[39m      \u001b[4m1\u001b[24m\u001b[4m7\u001b[24m614           235      219.          97    \u001b[4m5\u001b[24m\u001b[4m1\u001b[24m385.          530.\n",
       "\u001b[90m 2\u001b[39m      \u001b[4m1\u001b[24m\u001b[4m2\u001b[24m957          \u001b[4m2\u001b[24m531      691.         208  1\u001b[4m7\u001b[24m\u001b[4m4\u001b[24m\u001b[4m9\u001b[24m503.         \u001b[4m8\u001b[24m411.\n",
       "\u001b[90m 3\u001b[39m      \u001b[4m1\u001b[24m\u001b[4m4\u001b[24m288           187       60.8         16    \u001b[4m1\u001b[24m\u001b[4m1\u001b[24m379.          711.\n",
       "\u001b[90m 4\u001b[39m      \u001b[4m1\u001b[24m\u001b[4m6\u001b[24m830           264       49.0         23    \u001b[4m1\u001b[24m\u001b[4m2\u001b[24m933.          562.\n",
       "\u001b[90m 5\u001b[39m      \u001b[4m1\u001b[24m\u001b[4m6\u001b[24m168          \u001b[4m1\u001b[24m888      329.          57   \u001b[4m6\u001b[24m\u001b[4m2\u001b[24m\u001b[4m1\u001b[24m473.        \u001b[4m1\u001b[24m\u001b[4m0\u001b[24m903.\n",
       "\u001b[90m 6\u001b[39m      \u001b[4m1\u001b[24m\u001b[4m4\u001b[24m090            72      129.           1       76.3        \u001b[4m9\u001b[24m294.\n",
       "\u001b[90m 7\u001b[39m      \u001b[4m1\u001b[24m\u001b[4m4\u001b[24m680           365      776.          83  9\u001b[4m6\u001b[24m\u001b[4m8\u001b[24m\u001b[4m3\u001b[24m691.         \u001b[4m3\u001b[24m414.\n",
       "\u001b[90m 8\u001b[39m      \u001b[4m1\u001b[24m\u001b[4m5\u001b[24m270          \u001b[4m1\u001b[24m459      292.          22   \u001b[4m4\u001b[24m\u001b[4m2\u001b[24m\u001b[4m5\u001b[24m678.        \u001b[4m1\u001b[24m\u001b[4m9\u001b[24m349.\n",
       "\u001b[90m 9\u001b[39m      \u001b[4m1\u001b[24m\u001b[4m2\u001b[24m910          \u001b[4m1\u001b[24m692      157.          48   \u001b[4m2\u001b[24m\u001b[4m6\u001b[24m\u001b[4m5\u001b[24m576.         \u001b[4m5\u001b[24m533.\n",
       "\u001b[90m10\u001b[39m      \u001b[4m1\u001b[24m\u001b[4m3\u001b[24m500           585      238.          60   \u001b[4m1\u001b[24m\u001b[4m3\u001b[24m\u001b[4m9\u001b[24m382.         \u001b[4m2\u001b[24m323.\n",
       "\u001b[90m# ℹ more rows\u001b[39m"
      ]
     },
     "metadata": {},
     "output_type": "display_data"
    }
   ],
   "source": [
    "tdf3 <- coltrans_out$result\n",
    "tdf4 <- td_non_linear_combine_transform_sqle(\n",
    "                                             data=tdf3,\n",
    "                                             object=nonlinearfit2_out,\n",
    "                                             accumulate=colnames(tdf3))\n",
    "tdf4$result"
   ]
  },
  {
   "cell_type": "markdown",
   "id": "2f839c04-8146-4d1b-9c4a-7ecde400d9d5",
   "metadata": {},
   "source": [
    "<p style = 'font-size:16px;font-family:Arial;color:#00233C'><b>ScaleFit and ScaleTransform </b>scales specified input\n",
    "table columns i.e perform the specific scale methods like standard deviation, mean etc to the input columns </p> "
   ]
  },
  {
   "cell_type": "code",
   "execution_count": 18,
   "id": "ef7ca038-1dc6-4433-800d-fbc8864210f3",
   "metadata": {},
   "outputs": [],
   "source": [
    "# ScaleFit/Transform to rescale the data\n",
    "scalefit_obj <- td_scale_fit_sqle(data=tdf4$result,\n",
    "                                 target.columns=c('TotalQuantity','TotalItems','TotalPrice','TotalSales','SalesPerItem'),\n",
    "                                 scale.method=\"RANGE\",\n",
    "                                 miss.value=\"KEEP\",\n",
    "                                 global.scale=FALSE,\n",
    "                                 multiplier=\"1\",\n",
    "                                 intercept=\"0\")"
   ]
  },
  {
   "cell_type": "code",
   "execution_count": 19,
   "id": "c6de35ed-a499-489f-af6e-2f68c7f0028b",
   "metadata": {},
   "outputs": [
    {
     "data": {
      "text/plain": [
       "\u001b[90m# Source:   table<\"DEMO_USER\".\"r__t__td_sqlmr_out_1725598511463243\"> [?? x 6]\u001b[39m\n",
       "\u001b[90m# Database: Teradata\u001b[39m\n",
       "   CustomerID TotalQuantity TotalItems TotalPrice  TotalSales SalesPerItem\n",
       "        \u001b[3m\u001b[90m<dbl>\u001b[39m\u001b[23m         \u001b[3m\u001b[90m<dbl>\u001b[39m\u001b[23m      \u001b[3m\u001b[90m<dbl>\u001b[39m\u001b[23m      \u001b[3m\u001b[90m<dbl>\u001b[39m\u001b[23m       \u001b[3m\u001b[90m<dbl>\u001b[39m\u001b[23m        \u001b[3m\u001b[90m<dbl>\u001b[39m\u001b[23m\n",
       "\u001b[90m 1\u001b[39m      \u001b[4m1\u001b[24m\u001b[4m2\u001b[24m649        0.115     0.007\u001b[4m8\u001b[24m\u001b[4m5\u001b[24m     0.062\u001b[4m4\u001b[24m 0.000\u001b[4m0\u001b[24m\u001b[4m0\u001b[24m\u001b[4m0\u001b[24m473     0.002\u001b[4m9\u001b[24m\u001b[4m7\u001b[24m \n",
       "\u001b[90m 2\u001b[39m      \u001b[4m1\u001b[24m\u001b[4m3\u001b[24m349        0.042\u001b[4m1\u001b[24m    0.004\u001b[4m0\u001b[24m\u001b[4m6\u001b[24m     0.044\u001b[4m9\u001b[24m 0.000\u001b[4m0\u001b[24m\u001b[4m0\u001b[24m\u001b[4m0\u001b[24m353     0.001\u001b[4m6\u001b[24m\u001b[4m1\u001b[24m \n",
       "\u001b[90m 3\u001b[39m      \u001b[4m1\u001b[24m\u001b[4m6\u001b[24m434        0.154     0.023\u001b[4m6\u001b[24m      0.268  0.000\u001b[4m0\u001b[24m\u001b[4m0\u001b[24m\u001b[4m1\u001b[24m21      0.005\u001b[4m4\u001b[24m\u001b[4m4\u001b[24m \n",
       "\u001b[90m 4\u001b[39m      \u001b[4m1\u001b[24m\u001b[4m7\u001b[24m614        0.044\u001b[4m2\u001b[24m    0.026\u001b[4m0\u001b[24m      0.165  0.000\u001b[4m0\u001b[24m\u001b[4m0\u001b[24m\u001b[4m0\u001b[24m478     0.000\u001b[4m9\u001b[24m\u001b[4m3\u001b[24m\u001b[4m1\u001b[24m\n",
       "\u001b[90m 5\u001b[39m      \u001b[4m1\u001b[24m\u001b[4m6\u001b[24m168        0.391     0.015\u001b[4m2\u001b[24m      0.251  0.000\u001b[4m0\u001b[24m\u001b[4m0\u001b[24m\u001b[4m2\u001b[24m42      0.019\u001b[4m6\u001b[24m  \n",
       "\u001b[90m 6\u001b[39m      \u001b[4m1\u001b[24m\u001b[4m4\u001b[24m090        0.010\u001b[4m1\u001b[24m    0           0.095\u001b[4m2\u001b[24m 0.000\u001b[4m0\u001b[24m\u001b[4m0\u001b[24m\u001b[4m0\u001b[24m304     0.016\u001b[4m7\u001b[24m  \n",
       "\u001b[90m 7\u001b[39m      \u001b[4m1\u001b[24m\u001b[4m4\u001b[24m680        0.071\u001b[4m5\u001b[24m    0.022\u001b[4m2\u001b[24m      0.599  0.000\u001b[4m0\u001b[24m\u001b[4m3\u001b[24m\u001b[4m3\u001b[24m2       0.006\u001b[4m1\u001b[24m\u001b[4m3\u001b[24m \n",
       "\u001b[90m 8\u001b[39m      \u001b[4m1\u001b[24m\u001b[4m5\u001b[24m270        0.301     0.005\u001b[4m6\u001b[24m\u001b[4m8\u001b[24m     0.222  0.000\u001b[4m0\u001b[24m\u001b[4m0\u001b[24m\u001b[4m1\u001b[24m75      0.034\u001b[4m8\u001b[24m  \n",
       "\u001b[90m 9\u001b[39m      \u001b[4m1\u001b[24m\u001b[4m2\u001b[24m957        0.525     0.056\u001b[4m0\u001b[24m      0.533  0.000\u001b[4m0\u001b[24m\u001b[4m0\u001b[24m\u001b[4m6\u001b[24m25      0.015\u001b[4m1\u001b[24m  \n",
       "\u001b[90m10\u001b[39m      \u001b[4m1\u001b[24m\u001b[4m4\u001b[24m288        0.034\u001b[4m2\u001b[24m    0.004\u001b[4m0\u001b[24m\u001b[4m6\u001b[24m     0.042\u001b[4m1\u001b[24m 0.000\u001b[4m0\u001b[24m\u001b[4m0\u001b[24m\u001b[4m0\u001b[24m342     0.001\u001b[4m2\u001b[24m\u001b[4m6\u001b[24m \n",
       "\u001b[90m# ℹ more rows\u001b[39m"
      ]
     },
     "metadata": {},
     "output_type": "display_data"
    }
   ],
   "source": [
    "tdf5 <- td_scale_transform_sqle(data=tdf4$result,\n",
    "                                   object=scalefit_obj$result,\n",
    "                                   accumulate=\"CustomerID\")\n",
    "tdf5$result"
   ]
  },
  {
   "cell_type": "markdown",
   "id": "1600baf7-be81-4e2b-9a7a-87a7677f8f19",
   "metadata": {},
   "source": [
    "<p style = 'font-size:16px;font-family:Arial;color:#00233C'>Above are the final values which we will now input to the model. </p> "
   ]
  },
  {
   "cell_type": "markdown",
   "id": "1e4d43dc-d5a4-47c1-adae-78754f6008c2",
   "metadata": {},
   "source": [
    "<hr style=\"height:2px;border:none;background-color:#00233C;\">"
   ]
  },
  {
   "cell_type": "markdown",
   "id": "1b5a61ce",
   "metadata": {
    "tags": []
   },
   "source": [
    "<p style = 'font-size:20px;font-family:Arial;color:#00233C'><b>4. Build the K-means Model</b></p>\n",
    "\n",
    "<p style = 'font-size:16px;font-family:Arial;color:#00233C'>As discussed above, the K-means algorithm takes a number of clusters \"k\", chooses a random starting point for each centroid, and iterates until a hard limit, or an optimum value is reached.</p>\n",
    "\n",
    "<p style = 'font-size:16px;font-family:Arial;color:#00233C'><b>Finding an Ideal value for K</b></p>\n",
    "<table style = 'width:100%;table-layout:fixed;'>\n",
    "    <tr>\n",
    "        <td style = 'vertical-align:top' width = '50%'>\n",
    "<p style = 'font-size:16px;font-family:Arial;color:#00233C'>The example below uses a value of 5 for the number of clusters to build the model against.  Typically, data scientists will build the model using various values for \"k\", and plot the \"WCSS\" (Within Cluster Sum-of-Squares) value on a series of each value chosen for k.  The \"elbow\" point (where the slope changes) is usually a good value for k.  <a href = 'https://docs.teradata.com/search/all?query=Kmeans&filters=prodname~%2522Teradata+Package+for+R%2522&sort=last_update&content-lang=en-US'>KMeans</a> function will return this value as \"TotalWithinSS : ###\" as a row in the \"td_modelinfo_kmeans\" column.</p></td>\n",
    "        <td><img src = 'images/WCSS_elbow.png' width = '300'></td>\n",
    "    </tr>\n",
    "    </table>\n",
    "\n",
    "<p style = 'font-size:16px;font-family:Arial;color:#00233C'><b>Other Function Parameters Include (but are not limited to)</b></p>\n",
    "<ul style = 'font-size:16px;font-family:Arial;color:#00233C'>\n",
    "    <li>Input Table</li>\n",
    "    <li>StopThreshold - The algorithm converges if the distance between the centroids from the previous iteration and the current iteration is less than the specified value.</li>\n",
    "    <li>MaxIterNum</li>Specify the maximum number of iterations for the K-means algorithm. The algorithm stops after performing the specified number of iterations even if the convergence criterion is not met.\n",
    "    </ul>"
   ]
  },
  {
   "cell_type": "code",
   "execution_count": 20,
   "id": "2913528c",
   "metadata": {},
   "outputs": [
    {
     "data": {
      "text/plain": [
       "\u001b[90m# Source:   table<\"DEMO_USER\".\"r__t__td_sqlmr_out_1725598518675153\"> [?? x 10]\u001b[39m\n",
       "\u001b[90m# Database: Teradata\u001b[39m\n",
       "   td_clusterid_kmeans TotalQuantity TotalPrice TotalItems   TotalSales\n",
       "               \u001b[3m\u001b[90m<int64>\u001b[39m\u001b[23m         \u001b[3m\u001b[90m<dbl>\u001b[39m\u001b[23m      \u001b[3m\u001b[90m<dbl>\u001b[39m\u001b[23m      \u001b[3m\u001b[90m<dbl>\u001b[39m\u001b[23m        \u001b[3m\u001b[90m<dbl>\u001b[39m\u001b[23m\n",
       "\u001b[90m 1\u001b[39m                   2        0.193      0.220     0.021\u001b[4m7\u001b[24m   0.000\u001b[4m0\u001b[24m\u001b[4m0\u001b[24m\u001b[4m1\u001b[24m64 \n",
       "\u001b[90m 2\u001b[39m                   4        0.269      0.637     0.044\u001b[4m1\u001b[24m   0.000\u001b[4m0\u001b[24m\u001b[4m0\u001b[24m\u001b[4m8\u001b[24m25 \n",
       "\u001b[90m 3\u001b[39m                  \u001b[31mNA\u001b[39m       \u001b[31mNA\u001b[39m         \u001b[31mNA\u001b[39m        \u001b[31mNA\u001b[39m       \u001b[31mNA\u001b[39m          \n",
       "\u001b[90m 4\u001b[39m                  \u001b[31mNA\u001b[39m       \u001b[31mNA\u001b[39m         \u001b[31mNA\u001b[39m        \u001b[31mNA\u001b[39m       \u001b[31mNA\u001b[39m          \n",
       "\u001b[90m 5\u001b[39m                  \u001b[31mNA\u001b[39m       \u001b[31mNA\u001b[39m         \u001b[31mNA\u001b[39m        \u001b[31mNA\u001b[39m       \u001b[31mNA\u001b[39m          \n",
       "\u001b[90m 6\u001b[39m                  \u001b[31mNA\u001b[39m       \u001b[31mNA\u001b[39m         \u001b[31mNA\u001b[39m        \u001b[31mNA\u001b[39m       \u001b[31mNA\u001b[39m          \n",
       "\u001b[90m 7\u001b[39m                  \u001b[31mNA\u001b[39m       \u001b[31mNA\u001b[39m         \u001b[31mNA\u001b[39m        \u001b[31mNA\u001b[39m       \u001b[31mNA\u001b[39m          \n",
       "\u001b[90m 8\u001b[39m                  \u001b[31mNA\u001b[39m       \u001b[31mNA\u001b[39m         \u001b[31mNA\u001b[39m        \u001b[31mNA\u001b[39m       \u001b[31mNA\u001b[39m          \n",
       "\u001b[90m 9\u001b[39m                   3        0.043\u001b[4m2\u001b[24m     0.029\u001b[4m0\u001b[24m    0.003\u001b[4m8\u001b[24m\u001b[4m9\u001b[24m  0.000\u001b[4m0\u001b[24m\u001b[4m0\u001b[24m\u001b[4m0\u001b[24m343\n",
       "\u001b[90m10\u001b[39m                   1        0.621      0.306     0.041\u001b[4m0\u001b[24m   0.000\u001b[4m0\u001b[24m\u001b[4m0\u001b[24m\u001b[4m9\u001b[24m15 \n",
       "\u001b[90m# ℹ more rows\u001b[39m\n",
       "\u001b[90m# ℹ 5 more variables: SalesPerItem <dbl>, td_size_kmeans <int64>,\u001b[39m\n",
       "\u001b[90m#   td_withinss_kmeans <dbl>, CustomerID <int>, td_modelinfo_kmeans <chr>\u001b[39m"
      ]
     },
     "metadata": {},
     "output_type": "display_data"
    }
   ],
   "source": [
    "KMeans_out <- td_kmeans_sqle(id.column=\"CustomerID\",\n",
    "                                 target.columns=c('TotalQuantity','TotalPrice','TotalItems','TotalSales','SalesPerItem'),\n",
    "                                 data=tdf5$result,\n",
    "                                 num.clusters=5,\n",
    "                                 iter.max = 500)\n",
    "KMeans_out$result"
   ]
  },
  {
   "cell_type": "markdown",
   "id": "e21eab9f-69af-427a-a523-c6aca8cd187f",
   "metadata": {},
   "source": [
    "<p style = 'font-size:16px;font-family:Arial;color:#00233C'>From the generated model we can see how many ids are there in each cluster, what is the size of each cluster, number of iterations it took for model to converge etc.\n",
    "    "
   ]
  },
  {
   "cell_type": "code",
   "execution_count": 21,
   "id": "f60ce225-1d8b-4c8b-ab0a-1c8c0aa7e147",
   "metadata": {},
   "outputs": [],
   "source": [
    "selected_df <- as.data.frame(KMeans_out$model.data, width = Inf) %>%\n",
    "  slice(1:5) %>%\n",
    "  select(td_clusterid_kmeans, td_size_kmeans)"
   ]
  },
  {
   "cell_type": "code",
   "execution_count": 22,
   "id": "d2df0e30-c1d5-46ad-8d85-e7924dfb7eb5",
   "metadata": {},
   "outputs": [
    {
     "data": {
      "text/html": [
       "<table class=\"dataframe\">\n",
       "<caption>A data.frame: 5 × 2</caption>\n",
       "<thead>\n",
       "\t<tr><th scope=col>td_clusterid_kmeans</th><th scope=col>td_size_kmeans</th></tr>\n",
       "\t<tr><th scope=col>&lt;int64&gt;</th><th scope=col>&lt;int64&gt;</th></tr>\n",
       "</thead>\n",
       "<tbody>\n",
       "\t<tr><td>0</td><td>1271</td></tr>\n",
       "\t<tr><td>1</td><td> 288</td></tr>\n",
       "\t<tr><td>2</td><td> 964</td></tr>\n",
       "\t<tr><td>3</td><td>1494</td></tr>\n",
       "\t<tr><td>4</td><td> 351</td></tr>\n",
       "</tbody>\n",
       "</table>\n"
      ],
      "text/latex": [
       "A data.frame: 5 × 2\n",
       "\\begin{tabular}{ll}\n",
       " td\\_clusterid\\_kmeans & td\\_size\\_kmeans\\\\\n",
       " <int64> & <int64>\\\\\n",
       "\\hline\n",
       "\t 0 & 1271\\\\\n",
       "\t 1 &  288\\\\\n",
       "\t 2 &  964\\\\\n",
       "\t 3 & 1494\\\\\n",
       "\t 4 &  351\\\\\n",
       "\\end{tabular}\n"
      ],
      "text/markdown": [
       "\n",
       "A data.frame: 5 × 2\n",
       "\n",
       "| td_clusterid_kmeans &lt;int64&gt; | td_size_kmeans &lt;int64&gt; |\n",
       "|---|---|\n",
       "| 0 | 1271 |\n",
       "| 1 |  288 |\n",
       "| 2 |  964 |\n",
       "| 3 | 1494 |\n",
       "| 4 |  351 |\n",
       "\n"
      ],
      "text/plain": [
       "  td_clusterid_kmeans td_size_kmeans\n",
       "1 0                   1271          \n",
       "2 1                    288          \n",
       "3 2                    964          \n",
       "4 3                   1494          \n",
       "5 4                    351          "
      ]
     },
     "metadata": {},
     "output_type": "display_data"
    }
   ],
   "source": [
    "selected_df"
   ]
  },
  {
   "cell_type": "code",
   "execution_count": 23,
   "id": "7ea81d02-7014-4498-a75f-33891595818c",
   "metadata": {},
   "outputs": [
    {
     "data": {
      "image/png": "[encoded data removed]",
      "text/plain": [
       "plot without title"
      ]
     },
     "metadata": {
      "image/png": {
       "height": 420,
       "width": 420
      }
     },
     "output_type": "display_data"
    }
   ],
   "source": [
    "dbplot_bar(selected_df, x = as.integer(td_clusterid_kmeans), y=as.integer(td_size_kmeans))+\n",
    "  labs(title = \"Number of Ids in each Cluster\",x = \"cluster ids\",y = \"count of ids\") +\n",
    "  theme_light()#also changing the theme"
   ]
  },
  {
   "cell_type": "markdown",
   "id": "edc5f4a7-b685-4044-8802-a208abe21f81",
   "metadata": {},
   "source": [
    "<p style = 'font-size:16px;font-family:Arial;color:#00233C'>The above barchart shows the number of ids in each cluster where cluster_id is 0-4 generated by the Kmeans function."
   ]
  },
  {
   "cell_type": "code",
   "execution_count": 24,
   "id": "5e22aced-f331-4738-aac3-c82e2eb2230e",
   "metadata": {},
   "outputs": [
    {
     "name": "stdout",
     "output_type": "stream",
     "text": [
      "\u001b[90m# Source:   table<\"DEMO_USER\".\"r__t__td_sqlmr_out_1725598532385713\"> [?? x 8]\u001b[39m\n",
      "\u001b[90m# Database: Teradata\u001b[39m\n",
      "   CustomerID td_clusterid_kmeans td_distance_kmeans TotalQuantity TotalPrice\n",
      "        \u001b[3m\u001b[90m<dbl>\u001b[39m\u001b[23m             \u001b[3m\u001b[90m<int64>\u001b[39m\u001b[23m              \u001b[3m\u001b[90m<dbl>\u001b[39m\u001b[23m         \u001b[3m\u001b[90m<dbl>\u001b[39m\u001b[23m      \u001b[3m\u001b[90m<dbl>\u001b[39m\u001b[23m\n",
      "\u001b[90m 1\u001b[39m      \u001b[4m1\u001b[24m\u001b[4m2\u001b[24m649                   0             0.073\u001b[4m2\u001b[24m        0.115      0.062\u001b[4m4\u001b[24m\n",
      "\u001b[90m 2\u001b[39m      \u001b[4m1\u001b[24m\u001b[4m6\u001b[24m168                   2             0.200         0.391      0.251 \n",
      "\u001b[90m 3\u001b[39m      \u001b[4m1\u001b[24m\u001b[4m4\u001b[24m090                   0             0.054\u001b[4m8\u001b[24m        0.010\u001b[4m1\u001b[24m     0.095\u001b[4m2\u001b[24m\n",
      "\u001b[90m 4\u001b[39m      \u001b[4m1\u001b[24m\u001b[4m4\u001b[24m680                   4             0.203         0.071\u001b[4m5\u001b[24m     0.599 \n",
      "\u001b[90m 5\u001b[39m      \u001b[4m1\u001b[24m\u001b[4m3\u001b[24m349                   3             0.015\u001b[4m9\u001b[24m        0.042\u001b[4m1\u001b[24m     0.044\u001b[4m9\u001b[24m\n",
      "\u001b[90m 6\u001b[39m      \u001b[4m1\u001b[24m\u001b[4m6\u001b[24m434                   2             0.061\u001b[4m7\u001b[24m        0.154      0.268 \n",
      "\u001b[90m 7\u001b[39m      \u001b[4m1\u001b[24m\u001b[4m7\u001b[24m614                   0             0.058\u001b[4m9\u001b[24m        0.044\u001b[4m2\u001b[24m     0.165 \n",
      "\u001b[90m 8\u001b[39m      \u001b[4m1\u001b[24m\u001b[4m7\u001b[24m065                   0             0.075\u001b[4m6\u001b[24m        0.071\u001b[4m5\u001b[24m     0.082\u001b[4m2\u001b[24m\n",
      "\u001b[90m 9\u001b[39m      \u001b[4m1\u001b[24m\u001b[4m2\u001b[24m957                   1             0.247         0.525      0.533 \n",
      "\u001b[90m10\u001b[39m      \u001b[4m1\u001b[24m\u001b[4m4\u001b[24m288                   3             0.015\u001b[4m9\u001b[24m        0.034\u001b[4m2\u001b[24m     0.042\u001b[4m1\u001b[24m\n",
      "   TotalItems  TotalSales SalesPerItem\n",
      "        \u001b[3m\u001b[90m<dbl>\u001b[39m\u001b[23m       \u001b[3m\u001b[90m<dbl>\u001b[39m\u001b[23m        \u001b[3m\u001b[90m<dbl>\u001b[39m\u001b[23m\n",
      "\u001b[90m 1\u001b[39m    0.007\u001b[4m8\u001b[24m\u001b[4m5\u001b[24m 0.000\u001b[4m0\u001b[24m\u001b[4m0\u001b[24m\u001b[4m0\u001b[24m473     0.002\u001b[4m9\u001b[24m\u001b[4m7\u001b[24m \n",
      "\u001b[90m 2\u001b[39m    0.015\u001b[4m2\u001b[24m  0.000\u001b[4m0\u001b[24m\u001b[4m0\u001b[24m\u001b[4m2\u001b[24m42      0.019\u001b[4m6\u001b[24m  \n",
      "\u001b[90m 3\u001b[39m    0       0.000\u001b[4m0\u001b[24m\u001b[4m0\u001b[24m\u001b[4m0\u001b[24m304     0.016\u001b[4m7\u001b[24m  \n",
      "\u001b[90m 4\u001b[39m    0.022\u001b[4m2\u001b[24m  0.000\u001b[4m0\u001b[24m\u001b[4m3\u001b[24m\u001b[4m3\u001b[24m2       0.006\u001b[4m1\u001b[24m\u001b[4m3\u001b[24m \n",
      "\u001b[90m 5\u001b[39m    0.004\u001b[4m0\u001b[24m\u001b[4m6\u001b[24m 0.000\u001b[4m0\u001b[24m\u001b[4m0\u001b[24m\u001b[4m0\u001b[24m353     0.001\u001b[4m6\u001b[24m\u001b[4m1\u001b[24m \n",
      "\u001b[90m 6\u001b[39m    0.023\u001b[4m6\u001b[24m  0.000\u001b[4m0\u001b[24m\u001b[4m0\u001b[24m\u001b[4m1\u001b[24m21      0.005\u001b[4m4\u001b[24m\u001b[4m4\u001b[24m \n",
      "\u001b[90m 7\u001b[39m    0.026\u001b[4m0\u001b[24m  0.000\u001b[4m0\u001b[24m\u001b[4m0\u001b[24m\u001b[4m0\u001b[24m478     0.000\u001b[4m9\u001b[24m\u001b[4m3\u001b[24m\u001b[4m1\u001b[24m\n",
      "\u001b[90m 8\u001b[39m    0       0.000\u001b[4m0\u001b[24m\u001b[4m0\u001b[24m\u001b[4m0\u001b[24m303     0.073\u001b[4m9\u001b[24m  \n",
      "\u001b[90m 9\u001b[39m    0.056\u001b[4m0\u001b[24m  0.000\u001b[4m0\u001b[24m\u001b[4m0\u001b[24m\u001b[4m6\u001b[24m25      0.015\u001b[4m1\u001b[24m  \n",
      "\u001b[90m10\u001b[39m    0.004\u001b[4m0\u001b[24m\u001b[4m6\u001b[24m 0.000\u001b[4m0\u001b[24m\u001b[4m0\u001b[24m\u001b[4m0\u001b[24m342     0.001\u001b[4m2\u001b[24m\u001b[4m6\u001b[24m \n",
      "\u001b[90m# ℹ more rows\u001b[39m\n"
     ]
    }
   ],
   "source": [
    "KMeansPredict_out <- td_kmeans_predict_sqle(object=KMeans_out$result,\n",
    "                                                data=tdf5$result,\n",
    "                                           accumulate=c('TotalQuantity','TotalPrice','TotalItems','TotalSales','SalesPerItem'),\n",
    "                                           output.distance=TRUE)\n",
    "print(KMeansPredict_out$result, width = Inf)"
   ]
  },
  {
   "cell_type": "code",
   "execution_count": 25,
   "id": "51819643-3670-4a41-bbbc-7e8dc9af0e5e",
   "metadata": {},
   "outputs": [],
   "source": [
    "tdf6 <- KMeansPredict_out$result"
   ]
  },
  {
   "cell_type": "markdown",
   "id": "8cc76f57-3a76-4367-bb7e-6edfa18f587d",
   "metadata": {},
   "source": [
    "<hr style=\"height:2px;border:none;background-color:#00233C;\">\n",
    "<p style = 'font-size:20px;font-family:Arial;color:#00233C'><b>5. PCA</b></p>\n",
    "<p style = 'font-size:16px;font-family:Arial;color:#00233C'>Principal Component Analysis (PCA) is a technique used for dimensionality reduction in data analysis and machine learning. It works by transforming the original high-dimensional data into a lower-dimensional space while retaining as much of the original variance as possible. PCA achieves this by identifying the principal components, which are the directions in feature space along which the data varies the most. These principal components are computed as the eigenvectors of the covariance matrix of the standardized data, and they represent the most significant sources of variation in the data. By selecting a subset of the principal components that capture the most variance, PCA allows for a more compact representation of the data while preserving its essential structure and relationships. The transformed data can be used for visualization, feature extraction, noise reduction, and other analysis tasks, making PCA a powerful tool for data exploration and dimensionality reduction.</p>\n",
    "<p style = 'font-size:16px;font-family:Arial;color:#00233C'>We will use the <a href = 'https://docs.teradata.com/search/all?query=pca&filters=prodname~%2522Teradata+Package+for+R%2522&sort=last_update&content-lang=en-US'>PCA</a>  function available in the Valib library for our analysis.</p> "
   ]
  },
  {
   "cell_type": "code",
   "execution_count": 26,
   "id": "3b573eb7-e398-4dcb-b9aa-ce914a6af575",
   "metadata": {},
   "outputs": [],
   "source": [
    "options(val.install.location = \"val\")"
   ]
  },
  {
   "cell_type": "code",
   "execution_count": 27,
   "id": "607dbf76-9944-46e0-a885-31ee4627091c",
   "metadata": {},
   "outputs": [
    {
     "data": {
      "text/plain": [
       "\u001b[90m# Source:   table<\"DEMO_USER\".\"r__t__valib_td_pca_valib1725598541119930\"> [1 x 4]\u001b[39m\n",
       "\u001b[90m# Database: Teradata\u001b[39m\n",
       "  partid mfactors modelstatus xmlmodel                                          \n",
       "   \u001b[3m\u001b[90m<int>\u001b[39m\u001b[23m    \u001b[3m\u001b[90m<int>\u001b[39m\u001b[23m \u001b[3m\u001b[90m<chr>\u001b[39m\u001b[23m       \u001b[3m\u001b[90m<chr>\u001b[39m\u001b[23m                                             \n",
       "\u001b[90m1\u001b[39m      1        2 SUCCEEDED   \u001b[90m\"\u001b[39m<?xml version=\\\"1.0\\\" encoding=\\\"UTF-8\\\" standal…"
      ]
     },
     "metadata": {},
     "output_type": "display_data"
    }
   ],
   "source": [
    "pca_obj <- td_pca_valib(data=tdf6,\n",
    "                    columns=c('TotalQuantity','TotalPrice','TotalItems','TotalSales','SalesPerItem'))\n",
    "pca_obj$result"
   ]
  },
  {
   "cell_type": "code",
   "execution_count": 28,
   "id": "47c34a43-f8f4-4bc2-a16c-4829b37cad3e",
   "metadata": {},
   "outputs": [
    {
     "data": {
      "text/plain": [
       "\u001b[90m# Source:   table<\"DEMO_USER\".\"r__t__valib_td_pca_predict_valib1725598561591593\"> [?? x 4]\u001b[39m\n",
       "\u001b[90m# Database: Teradata\u001b[39m\n",
       "   CustomerID td_clusterid_kmeans `Factor 1` `Factor 2`\n",
       "        \u001b[3m\u001b[90m<dbl>\u001b[39m\u001b[23m             \u001b[3m\u001b[90m<int64>\u001b[39m\u001b[23m      \u001b[3m\u001b[90m<dbl>\u001b[39m\u001b[23m      \u001b[3m\u001b[90m<dbl>\u001b[39m\u001b[23m\n",
       "\u001b[90m 1\u001b[39m      \u001b[4m1\u001b[24m\u001b[4m5\u001b[24m263                   3  -\u001b[31m0\u001b[39m\u001b[31m.\u001b[39m\u001b[31m781\u001b[39m       -\u001b[31m0\u001b[39m\u001b[31m.\u001b[39m\u001b[31m296\u001b[39m \n",
       "\u001b[90m 2\u001b[39m      \u001b[4m1\u001b[24m\u001b[4m6\u001b[24m358                   2   0.337        0.140 \n",
       "\u001b[90m 3\u001b[39m      \u001b[4m1\u001b[24m\u001b[4m5\u001b[24m737                   2   0.084\u001b[4m5\u001b[24m       0.047\u001b[4m1\u001b[24m\n",
       "\u001b[90m 4\u001b[39m      \u001b[4m1\u001b[24m\u001b[4m6\u001b[24m792                   3  -\u001b[31m0\u001b[39m\u001b[31m.\u001b[39m\u001b[31m786\u001b[39m       -\u001b[31m0\u001b[39m\u001b[31m.\u001b[39m\u001b[31m299\u001b[39m \n",
       "\u001b[90m 5\u001b[39m      \u001b[4m1\u001b[24m\u001b[4m4\u001b[24m723                   4   1.06        -\u001b[31m0\u001b[39m\u001b[31m.\u001b[39m\u001b[31m138\u001b[39m \n",
       "\u001b[90m 6\u001b[39m      \u001b[4m1\u001b[24m\u001b[4m2\u001b[24m473                   1   0.896        0.211 \n",
       "\u001b[90m 7\u001b[39m      \u001b[4m1\u001b[24m\u001b[4m2\u001b[24m717                   2   0.000\u001b[4m2\u001b[24m\u001b[4m8\u001b[24m\u001b[4m1\u001b[24m     0.055\u001b[4m1\u001b[24m\n",
       "\u001b[90m 8\u001b[39m      \u001b[4m1\u001b[24m\u001b[4m4\u001b[24m479                   3  -\u001b[31m0\u001b[39m\u001b[31m.\u001b[39m\u001b[31m686\u001b[39m       -\u001b[31m0\u001b[39m\u001b[31m.\u001b[39m\u001b[31m266\u001b[39m \n",
       "\u001b[90m 9\u001b[39m      \u001b[4m1\u001b[24m\u001b[4m6\u001b[24m114                   3  -\u001b[31m0\u001b[39m\u001b[31m.\u001b[39m\u001b[31m832\u001b[39m       -\u001b[31m0\u001b[39m\u001b[31m.\u001b[39m\u001b[31m310\u001b[39m \n",
       "\u001b[90m10\u001b[39m      \u001b[4m1\u001b[24m\u001b[4m2\u001b[24m620                   2   0.286        0.045\u001b[4m7\u001b[24m\n",
       "\u001b[90m# ℹ more rows\u001b[39m"
      ]
     },
     "metadata": {},
     "output_type": "display_data"
    }
   ],
   "source": [
    "obj <- td_pca_predict_valib(data=tdf6,\n",
    "                            model=pca_obj$result,\n",
    "                            index.columns=\"CustomerID\",\n",
    "                            accumulate=c('td_clusterid_kmeans'))\n",
    "obj$result"
   ]
  },
  {
   "cell_type": "markdown",
   "id": "7b6f8cb4-45b3-42f5-9b48-159c5328aa8d",
   "metadata": {},
   "source": [
    "<p style = 'font-size:16px;font-family:Arial;color:#00233C'>From above we can see that we have reduced our columns to two Factors using the PCA function. Now let us visualize these to see how our clusters are looking.</p>"
   ]
  },
  {
   "cell_type": "code",
   "execution_count": 29,
   "id": "40e19334-9f8b-4f31-994a-ddd48fb0e7ba",
   "metadata": {},
   "outputs": [
    {
     "name": "stderr",
     "output_type": "stream",
     "text": [
      "Warning message:\n",
      "“Removed 1 rows containing missing values (geom_point).”\n"
     ]
    },
    {
     "data": {
      "image/png": "[encoded data removed]",
      "text/plain": [
       "plot without title"
      ]
     },
     "metadata": {
      "image/png": {
       "height": 600,
       "width": 900
      }
     },
     "output_type": "display_data"
    }
   ],
   "source": [
    "options(repr.plot.width = 15, repr.plot.height = 10)\n",
    "ggplot(obj$result, aes(x=`Factor 1`, y=`Factor 2`)) + \n",
    "    geom_point(aes(color=as.integer(td_clusterid_kmeans))) + xlim(-1,8) +ylim(-10,16) "
   ]
  },
  {
   "cell_type": "markdown",
   "id": "47575320-8a67-465c-85bd-c12d15e02131",
   "metadata": {},
   "source": [
    "<p style = 'font-size:16px;font-family:Arial;color:#00233C'> In the above chart we have plotted the two factors generated by the PCA analysis."
   ]
  },
  {
   "cell_type": "markdown",
   "id": "8304ae16",
   "metadata": {},
   "source": [
    "<hr style=\"height:2px;border:none;background-color:#00233C;\">\n",
    "<p style = 'font-size:20px;font-family:Arial;color:#00233C'><b>6. Bulk Transformation</b></p>\n",
    "\n",
    "<p style = 'font-size:16px;font-family:Arial;color:#00233C'>Here, the Fit tables created above will be passed to a single <a href = 'https://docs.teradata.com/search/all?query=columntransformer&filters=prodname~%2522Teradata+Package+for+R%2522&sort=last_update&content-lang=en-US'>ColumnTransformer</a> function.  This is similar to an operational approach, where a single query will prepare new or incoming data for immediate analysis.</p>\n",
    "\n",
    "<img src = 'images/column_transformer.png' width = '300'>"
   ]
  },
  {
   "cell_type": "code",
   "execution_count": 30,
   "id": "ebc0a8a0-e13e-48a4-82ad-02db03db0521",
   "metadata": {},
   "outputs": [
    {
     "data": {
      "text/plain": [
       "\u001b[90m# Source:   table<\"UK_Retail_Test_V\"> [?? x 8]\u001b[39m\n",
       "\u001b[90m# Database: Teradata\u001b[39m\n",
       "   InvoiceNo StockCode Description        Quantity InvoiceDate         UnitPrice\n",
       "   \u001b[3m\u001b[90m<chr>\u001b[39m\u001b[23m     \u001b[3m\u001b[90m<chr>\u001b[39m\u001b[23m     \u001b[3m\u001b[90m<chr>\u001b[39m\u001b[23m               \u001b[3m\u001b[90m<int64>\u001b[39m\u001b[23m \u001b[3m\u001b[90m<dttm>\u001b[39m\u001b[23m                  \u001b[3m\u001b[90m<dbl>\u001b[39m\u001b[23m\n",
       "\u001b[90m 1\u001b[39m 542694    15036     \u001b[90m\"\u001b[39mASSORTED COLOURS…      600 2011-01-31 \u001b[90m12:37:00\u001b[39m      0.53\n",
       "\u001b[90m 2\u001b[39m C541498   22776     \u001b[90m\"\u001b[39mSWEETHEART CAKES…       -\u001b[31m1\u001b[39m 2011-01-18 \u001b[90m15:21:00\u001b[39m      9.95\n",
       "\u001b[90m 3\u001b[39m C541499   84819     \u001b[90m\"\u001b[39mDANISH ROSE ROUN…       -\u001b[31m1\u001b[39m 2011-01-18 \u001b[90m15:23:00\u001b[39m      4.25\n",
       "\u001b[90m 4\u001b[39m C541499   22325     \u001b[90m\"\u001b[39mMOBILE VINTAGE H…       -\u001b[31m3\u001b[39m 2011-01-18 \u001b[90m15:23:00\u001b[39m      4.95\n",
       "\u001b[90m 5\u001b[39m C570708   M         \u001b[90m\"\u001b[39mManual\u001b[90m\"\u001b[39m               -\u001b[31m600\u001b[39m 2011-12-10 \u001b[90m10:11:00\u001b[39m      0.19\n",
       "\u001b[90m 6\u001b[39m C540271   M         \u001b[90m\"\u001b[39mManual\u001b[90m\"\u001b[39m                 -\u001b[31m1\u001b[39m 2011-06-01 \u001b[90m11:51:00\u001b[39m   \u001b[4m1\u001b[24m126   \n",
       "\u001b[90m 7\u001b[39m 557092    15036     \u001b[90m\"\u001b[39mASSORTED COLOURS…      600 2011-06-16 \u001b[90m15:39:00\u001b[39m      0.72\n",
       "\u001b[90m 8\u001b[39m C541499   22766     \u001b[90m\"\u001b[39mPHOTO FRAME CORN…       -\u001b[31m1\u001b[39m 2011-01-18 \u001b[90m15:23:00\u001b[39m      2.95\n",
       "\u001b[90m 9\u001b[39m C542693   15036     \u001b[90m\"\u001b[39mASSORTED COLOURS…     -\u001b[31m600\u001b[39m 2011-01-31 \u001b[90m12:36:00\u001b[39m      0.65\n",
       "\u001b[90m10\u001b[39m 561680    84968A    \u001b[90m\"\u001b[39mSET OF 16 VINTAG…        2 2011-07-28 \u001b[90m19:13:00\u001b[39m     12.8 \n",
       "\u001b[90m# ℹ more rows\u001b[39m\n",
       "\u001b[90m# ℹ 2 more variables: CustomerID <dbl>, Country <chr>\u001b[39m"
      ]
     },
     "metadata": {},
     "output_type": "display_data"
    }
   ],
   "source": [
    "test_tdf <- tbl(con, \"UK_Retail_Test_V\")\n",
    "test_tdf"
   ]
  },
  {
   "cell_type": "code",
   "execution_count": 31,
   "id": "1450c3c2-c9b7-4357-8e9d-a6141ae32ea8",
   "metadata": {},
   "outputs": [
    {
     "data": {
      "text/html": [
       "0"
      ],
      "text/latex": [
       "0"
      ],
      "text/markdown": [
       "0"
      ],
      "text/plain": [
       "[1] 0"
      ]
     },
     "metadata": {},
     "output_type": "display_data"
    }
   ],
   "source": [
    "sql <- \"\n",
    "REPLACE VIEW Customer_ID_Group_Test_V AS (\n",
    "    SELECT CustomerID,\n",
    "           SUM(quantity) as TotalQuantity, \n",
    "           SUM(UnitPrice) as TotalPrice, \n",
    "           COUNT(DISTINCT StockCode) as TotalItems \n",
    "    FROM DEMO_USER.UK_Retail_Test_V\n",
    "    GROUP BY CustomerID\n",
    ");\"\n",
    "dbExecute(con, sql)"
   ]
  },
  {
   "cell_type": "code",
   "execution_count": 32,
   "id": "827a463a-bfa1-4710-b1a1-66b1281880dc",
   "metadata": {},
   "outputs": [],
   "source": [
    "test_tdf1 <- tbl(con, \"Customer_ID_Group_Test_V\")"
   ]
  },
  {
   "cell_type": "code",
   "execution_count": 33,
   "id": "11dd053c",
   "metadata": {},
   "outputs": [
    {
     "data": {
      "text/plain": [
       "\u001b[90m# Source:   table<\"DEMO_USER\".\"r__t__td_sqlmr_out_1725598585608540\"> [5 x 6]\u001b[39m\n",
       "\u001b[90m# Database: Teradata\u001b[39m\n",
       "  CustomerID TotalQuantity TotalItems TotalPrice  TotalSales SalesPerItem\n",
       "       \u001b[3m\u001b[90m<dbl>\u001b[39m\u001b[23m         \u001b[3m\u001b[90m<dbl>\u001b[39m\u001b[23m      \u001b[3m\u001b[90m<dbl>\u001b[39m\u001b[23m      \u001b[3m\u001b[90m<dbl>\u001b[39m\u001b[23m       \u001b[3m\u001b[90m<dbl>\u001b[39m\u001b[23m        \u001b[3m\u001b[90m<dbl>\u001b[39m\u001b[23m\n",
       "\u001b[90m1\u001b[39m      \u001b[4m1\u001b[24m\u001b[4m2\u001b[24m503        0.071\u001b[4m5\u001b[24m   0            0.871  0.000\u001b[4m0\u001b[24m\u001b[4m0\u001b[24m\u001b[4m0\u001b[24m300      0.740  \n",
       "\u001b[90m2\u001b[39m      \u001b[4m1\u001b[24m\u001b[4m2\u001b[24m908        0.071\u001b[4m5\u001b[24m   0.000\u001b[4m2\u001b[24m\u001b[4m7\u001b[24m\u001b[4m1\u001b[24m     0.095\u001b[4m2\u001b[24m 0.000\u001b[4m0\u001b[24m\u001b[4m0\u001b[24m\u001b[4m0\u001b[24m304      0.042\u001b[4m4\u001b[24m \n",
       "\u001b[90m3\u001b[39m      \u001b[4m1\u001b[24m\u001b[4m7\u001b[24m307        0.071\u001b[4m5\u001b[24m   0            0.095\u001b[4m2\u001b[24m 0.000\u001b[4m0\u001b[24m\u001b[4m0\u001b[24m\u001b[4m0\u001b[24m303      0.084\u001b[4m9\u001b[24m \n",
       "\u001b[90m4\u001b[39m      \u001b[4m1\u001b[24m\u001b[4m3\u001b[24m693        0.071\u001b[4m5\u001b[24m   0.000\u001b[4m8\u001b[24m\u001b[4m1\u001b[24m\u001b[4m2\u001b[24m     0.011\u001b[4m9\u001b[24m 0.000\u001b[4m0\u001b[24m\u001b[4m0\u001b[24m\u001b[4m0\u001b[24m303      0.003\u001b[4m6\u001b[24m\u001b[4m1\u001b[24m\n",
       "\u001b[90m5\u001b[39m      \u001b[4m1\u001b[24m\u001b[4m8\u001b[24m268        0.071\u001b[4m5\u001b[24m   0            0.014\u001b[4m5\u001b[24m 0.000\u001b[4m0\u001b[24m\u001b[4m0\u001b[24m\u001b[4m0\u001b[24m304      0.016\u001b[4m7\u001b[24m "
      ]
     },
     "metadata": {},
     "output_type": "display_data"
    }
   ],
   "source": [
    "# We will run the same dataprep steps on the test data, we will use the fit tables generated in above steps\n",
    "test_coltrans_out <- \n",
    "      td_column_transformer_sqle(\n",
    "       input.data=test_tdf1,\n",
    "       outlierfilter.fit.data=outlierfit_obj$result,\n",
    "       simpleimpute.fit.data=imputefit_obj$result,\n",
    "       nonlinearcombine.fit.data=nonlinearfit_out$result)\n",
    "\n",
    "test_tdf2 <- td_non_linear_combine_transform_sqle(\n",
    "                                             data=test_coltrans_out$result,\n",
    "                                             object=nonlinearfit2_out,\n",
    "                                             accumulate=colnames(test_coltrans_out$result))\n",
    "\n",
    "test_tdf3 <- td_scale_transform_sqle(data=test_tdf2$result,\n",
    "                                   object=scalefit_obj$result,\n",
    "                                   accumulate=\"CustomerID\")\n",
    "\n",
    "test_tdf3$result\n"
   ]
  },
  {
   "cell_type": "markdown",
   "id": "ddce515c",
   "metadata": {},
   "source": [
    "<hr style=\"height:2px;border:none;background-color:#00233C;\">\n",
    "<p style = 'font-size:20px;font-family:Arial;color:#00233C'><b>7. Predict and Evaluate</b></p>\n",
    "\n",
    "<p style = 'font-size:16px;font-family:Arial;color:#00233C'>Finally, we run the model against new (in this case testing) data using <a href = 'https://docs.teradata.com/search/all?query=KMeansPredict&filters=prodname~%2522Teradata+Package+for+R%2522&sort=last_update&content-lang=en-US'>KMeansPredict</a>.  The preparation step has been completed in a single query above.  Additionally, we will use an evaluation function <a href = 'https://docs.teradata.com/search/all?query=Silhouette&filters=prodname~%2522Teradata+Package+for+R%2522&sort=last_update&content-lang=en-US'>Silhouette</a> to analyze how well the new cluster predictions match the original model.</p>\n",
    "\n",
    "<ol style = 'font-size:16px;font-family:Arial;color:#00233C'>\n",
    "    <li>Call KMeansPredict</li>\n",
    "    <li>Inpect the results</li>\n",
    "    <li>Call Silhouette on the output</li>\n",
    "    </ol>"
   ]
  },
  {
   "cell_type": "markdown",
   "id": "a056326b-e80d-4655-96c3-bfa3e6bba20b",
   "metadata": {},
   "source": [
    "<hr style=\"height:1px;border:none;background-color:#00233C;\">"
   ]
  },
  {
   "cell_type": "markdown",
   "id": "bbd8c482",
   "metadata": {},
   "source": [
    "<p style = 'font-size:20px;font-family:Arial;color:#00233C'><b>7.1 Call the Prediction Function</b></p>\n",
    "\n",
    "<p style = 'font-size:16px;font-family:Arial;color:#00233C'>Pass the Input Data, Model Table, and other parameters including columns to accumulate.  Note here we create a new View to assist with Silhouette analysis of the prediction.</p>"
   ]
  },
  {
   "cell_type": "code",
   "execution_count": 34,
   "id": "8a7c36ac-617a-4551-9193-7026d8f66731",
   "metadata": {},
   "outputs": [
    {
     "data": {
      "text/plain": [
       "\u001b[90m# Source:   table<\"DEMO_USER\".\"r__t__td_sqlmr_out_1725598589785968\"> [5 x 8]\u001b[39m\n",
       "\u001b[90m# Database: Teradata\u001b[39m\n",
       "  CustomerID td_clusterid_kmeans td_distance_kmeans TotalQuantity TotalPrice\n",
       "       \u001b[3m\u001b[90m<dbl>\u001b[39m\u001b[23m             \u001b[3m\u001b[90m<int64>\u001b[39m\u001b[23m              \u001b[3m\u001b[90m<dbl>\u001b[39m\u001b[23m         \u001b[3m\u001b[90m<dbl>\u001b[39m\u001b[23m      \u001b[3m\u001b[90m<dbl>\u001b[39m\u001b[23m\n",
       "\u001b[90m1\u001b[39m      \u001b[4m1\u001b[24m\u001b[4m8\u001b[24m268                   3             0.035\u001b[4m5\u001b[24m        0.071\u001b[4m5\u001b[24m     0.014\u001b[4m5\u001b[24m\n",
       "\u001b[90m2\u001b[39m      \u001b[4m1\u001b[24m\u001b[4m2\u001b[24m503                   4             0.788         0.071\u001b[4m5\u001b[24m     0.871 \n",
       "\u001b[90m3\u001b[39m      \u001b[4m1\u001b[24m\u001b[4m3\u001b[24m693                   3             0.033\u001b[4m3\u001b[24m        0.071\u001b[4m5\u001b[24m     0.011\u001b[4m9\u001b[24m\n",
       "\u001b[90m4\u001b[39m      \u001b[4m1\u001b[24m\u001b[4m2\u001b[24m908                   0             0.043\u001b[4m4\u001b[24m        0.071\u001b[4m5\u001b[24m     0.095\u001b[4m2\u001b[24m\n",
       "\u001b[90m5\u001b[39m      \u001b[4m1\u001b[24m\u001b[4m7\u001b[24m307                   0             0.082\u001b[4m4\u001b[24m        0.071\u001b[4m5\u001b[24m     0.095\u001b[4m2\u001b[24m\n",
       "\u001b[90m# ℹ 3 more variables: TotalItems <dbl>, TotalSales <dbl>, SalesPerItem <dbl>\u001b[39m"
      ]
     },
     "metadata": {},
     "output_type": "display_data"
    }
   ],
   "source": [
    "Test_KMeansPredict_out <- td_kmeans_predict_sqle(object=KMeans_out$result,\n",
    "                                                data=test_tdf3$result,\n",
    "                                           accumulate=c('TotalQuantity','TotalPrice','TotalItems','TotalSales','SalesPerItem'),\n",
    "                                           output.distance=TRUE)\n",
    "Test_KMeansPredict_out$result"
   ]
  },
  {
   "cell_type": "markdown",
   "id": "31622174-0e43-47a6-8ac4-574e49c20969",
   "metadata": {},
   "source": [
    "<hr style=\"height:1px;border:none;background-color:#00233C;\">"
   ]
  },
  {
   "cell_type": "markdown",
   "id": "7b3b1ebf",
   "metadata": {},
   "source": [
    "<p style = 'font-size:20px;font-family:Arial;color:#00233C'><b>7.2 Evaluate the Prediction</b></p>\n",
    "\n",
    "<p style = 'font-size:16px;font-family:Arial;color:#00233C'><a href = 'https://docs.teradata.com/search/all?query=Silhouette&filters=prodname~%2522Teradata+Package+for+R%2522&sort=last_update&content-lang=en-US'>Silhouette</a> is a native Vantage function that evaluates the similarity of an object to its cluster (cohesion) compared to other clusters (separation).  The silhouette scores and its definitions are as follows:</p>\n",
    "\n",
    "<ul style = 'font-size:16px;font-family:Arial;color:#00233C'>\n",
    "    <li>1: Data is appropriately clustered</li>\n",
    "    <li>-1: Data is not appropriately clustered</li>\n",
    "    <li>0: Datum is on the border of two natural clusters</li>\n",
    "    </ul>\n",
    "\n",
    "<p style = 'font-size:16px;font-family:Arial;color:#00233C'>See the documentation for a full listing of parameters and return values.</p>"
   ]
  },
  {
   "cell_type": "code",
   "execution_count": 35,
   "id": "7a25e1dc-480c-4411-b4f7-f39e818989b3",
   "metadata": {},
   "outputs": [
    {
     "data": {
      "text/plain": [
       "\u001b[90m# Source:   table<\"DEMO_USER\".\"r__t__td_sqlmr_out_1725598598445249\"> [1 x 1]\u001b[39m\n",
       "\u001b[90m# Database: Teradata\u001b[39m\n",
       "  silhouette_score\n",
       "             \u001b[3m\u001b[90m<dbl>\u001b[39m\u001b[23m\n",
       "\u001b[90m1\u001b[39m            0.573"
      ]
     },
     "metadata": {},
     "output_type": "display_data"
    }
   ],
   "source": [
    "Silhouette_result <- td_silhouette_sqle(\n",
    "                            id.column=\"CustomerID\",\n",
    "                            cluster.id.column=\"td_clusterid_kmeans\",\n",
    "                            target.columns=c('TotalQuantity','TotalPrice','TotalItems','TotalSales','SalesPerItem'),\n",
    "                            data=Test_KMeansPredict_out$result,\n",
    "                            output.type=\"SCORE\")\n",
    "Silhouette_result$result"
   ]
  },
  {
   "cell_type": "markdown",
   "id": "fde17b62-2d9a-4ef3-a60d-ff63b2eee47a",
   "metadata": {},
   "source": [
    "<hr style=\"height:2px;border:none;background-color:#00233C;\">\n",
    "<p style = 'font-size:20px;font-family:Arial;color:#00233C'> <b> 8. Conclusion </b> </p>\n",
    "<p style = 'font-size:16px;font-family:Arial;color:#00233C'>In this notebook we have seen some of the Teradata Vantage Clearscape's new in-DB functions availble in the tdplyr R package and how we can create k-means clustering model from the transformed data.</p>"
   ]
  },
  {
   "cell_type": "markdown",
   "id": "6e3c45e9",
   "metadata": {},
   "source": [
    "<hr style=\"height:2px;border:none;background-color:#00233C;\">\n",
    "<p style = 'font-size:20px;font-family:Arial;color:#00233C'><b>9. Clean up</b></p>\n",
    "<p style = 'font-size:18px;font-family:Arial;color:#00233C'><b>Worktables</b></p>\n",
    "<p style = 'font-size:16px;font-family:Arial;color:#00233C'>We need to clean up our work tables/views  to prevent errors next time.</p>"
   ]
  },
  {
   "cell_type": "code",
   "execution_count": 36,
   "id": "f717e336-c211-40ae-b3ea-5ebbe13a7fce",
   "metadata": {},
   "outputs": [],
   "source": [
    "# List of view names\n",
    "view_names <- c(\"UK_Retail_Test_V\", \"Customer_ID_Group_V\", \"Customer_ID_Group_Test_V\")\n",
    " \n",
    "# Loop through the view names and execute the DROP VIEW statements\n",
    "for (view_name in view_names) {\n",
    "    sql_statement <- paste(\"DROP VIEW\", view_name)\n",
    "    dbExecute(con, sql_statement)\n",
    "}"
   ]
  },
  {
   "cell_type": "markdown",
   "id": "ad5faff7-098d-47e5-aedc-b1c404065d26",
   "metadata": {},
   "source": [
    "<p style = 'font-size:20px;font-family:Arial;color:#00233C'> <b>Database and Tables </b></p>\n",
    "<p style = 'font-size:16px;font-family:Arial;color:#00233C'>The following code will clean up tables and databases created above.</p>"
   ]
  },
  {
   "cell_type": "code",
   "execution_count": 37,
   "id": "fef9272e-1ab5-46e4-adbb-c253e633c499",
   "metadata": {},
   "outputs": [
    {
     "data": {
      "text/html": [
       "0"
      ],
      "text/latex": [
       "0"
      ],
      "text/markdown": [
       "0"
      ],
      "text/plain": [
       "[1] 0"
      ]
     },
     "metadata": {},
     "output_type": "display_data"
    }
   ],
   "source": [
    "dbExecute(con,\"call remove_data('DEMO_Retail');\")  # Takes 5 seconds, optional if you want to use the data later"
   ]
  },
  {
   "cell_type": "code",
   "execution_count": 38,
   "id": "db817100-945d-49c5-ae04-d595c13a99de",
   "metadata": {},
   "outputs": [],
   "source": [
    "td_remove_context()"
   ]
  },
  {
   "cell_type": "markdown",
   "id": "721f0446-6600-4d4e-bf4e-bd044574fe66",
   "metadata": {},
   "source": [
    "<hr style=\"height:2px;border:none;background-color:#00233C;\">\n",
    "\n",
    "<b style = 'font-size:20px;font-family:Arial;color:#00233C'>Required Materials</b>\n",
    "<p style = 'font-size:16px;font-family:Arial;color:#00233C'>Let’s look at the elements we have available for reference for this notebook:</p>\n",
    "\n",
    "<p style = 'font-size:18px;font-family:Arial;color:#00233C'><b>Filters:</b></p>\n",
    "<ul style = 'font-size:16px;font-family:Arial;color:#00233C'>\n",
    "    <li><b>Industry:</b> Retail</li>\n",
    "    <li><b>Functionality:</b> Machine Learning</li>\n",
    "    <li><b>Use Case:</b> KMeans Clustering</li>\n",
    "</ul>\n",
    "\n",
    "<p style = 'font-size:18px;font-family:Arial;color:#00233C'><b>Related Resources:</b></p>\n",
    "\n",
    "<ul style = 'font-size:16px;font-family:Arial;color:#00233C'>\n",
    "    <li><a href='https://www.teradata.com/insights/videos/fast-track-customer-complaint-resolution'>Fast-Track Customer Complaint Resolution With Generative AI</a></li>\n",
    "    <li><a href='https://www.teradata.com/resources/demos/pinpoint-high-impact-moments-in-your-customers'>Pinpoint high-impact moments in your customers' digital journeys</a></li>\n",
    "    <li><a href='https://www.teradata.com/insights/cloud-data-analytics/top-5-reasons-to-use-in-database-analytics'>Top 5 reasons to use in-database analytics</a></li>\n",
    "</ul>\n",
    "<p style = 'font-size:18px;font-family:Arial;color:#00233C'><b>Links:</b></p>\n",
    "<ul style = 'font-size:16px;font-family:Arial;color:#00233C'>\n",
    "    <li>Teradataml R reference: <a href = 'https://docs.teradata.com/search/all?query=Teradata%25C2%25AE+Package+for+R+Function+Reference&content-lang=en-US'>here</a></li>\n",
    "</ul>"
   ]
  },
  {
   "cell_type": "markdown",
   "id": "e439c913-9462-4bd4-aaec-51563ab81fa6",
   "metadata": {},
   "source": [
    "<footer style=\"padding-bottom:35px; background:#f9f9f9; border-bottom:3px solid #00233C\">\n",
    "    <div style=\"float:left;margin-top:14px\">ClearScape Analytics™</div>\n",
    "    <div style=\"float:right;\">\n",
    "        <div style=\"float:left; margin-top:14px\">\n",
    "            Copyright © Teradata Corporation - 2024. All Rights Reserved\n",
    "        </div>\n",
    "    </div>\n",
    "</footer>"
   ]
  }
 ],
 "metadata": {
  "kernelspec": {
   "display_name": "R",
   "language": "R",
   "name": "ir"
  },
  "language_info": {
   "codemirror_mode": "r",
   "file_extension": ".r",
   "mimetype": "text/x-r-source",
   "name": "R",
   "pygments_lexer": "r",
   "version": "4.1.3"
  },
  "toc-showmarkdowntxt": true
 },
 "nbformat": 4,
 "nbformat_minor": 5
}
