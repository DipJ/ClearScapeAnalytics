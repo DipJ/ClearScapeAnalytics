{
 "cells": [
  {
   "cell_type": "markdown",
   "id": "laden-behavior",
   "metadata": {},
   "source": [
    "<header style=\"padding:1px;background:#f9f9f9;border-top:3px solid #00b2b1\"><img id=\"Teradata-logo\" src=\"https://www.teradata.com/Teradata/Images/Rebrand/Teradata_logo-two_color.png\" alt=\"Teradata\" width=\"220\" align=\"right\" />\n",
    "\n",
    "<b style = 'font-size:28px;font-family:Arial;color:#E37C4D'>Parkinson's Disease prediction using Feature Projection and Decision Tree Classifier and GLM</b>\n",
    "</header>\n",
    "\n",
    "<p style = 'font-size:20px;font-family:Arial;color:#E37C4D'><b>Introduction</b></p>\n",
    "\n",
    "<p style = 'font-size:16px;font-family:Arial'>Research shows that 89 percent of people with Parkinson’s disease (PD) experience speech and voice disorders, including soft, monotone, breathy and hoarse voice and uncertain articulation. As a result, people with PD report they are less likely to participate in conversation, or have confidence in social settings than healthy individuals in their age group.\n",
    "<br>\n",
    "Speech disorders can progressively diminish quality of life for a person with PD. The earlier a person receives a baseline speech evaluation and speech therapy, the more likely he or she will be able to maintain communication skills as the disease progresses. Communication is a key element in quality of life and positive self-concept and confidence for people with PD.\n",
    "<br>\n",
    "Hence as a consultant, we are approached by an organization to detect Parkinson's Disease at an early stage.</p>\n",
    "\n",
    "<p style = 'font-size:18px;font-family:Arial;color:#E37C4D'><b>Data</b></p>\n",
    "<p style = 'font-size:16px;font-family:Arial'>This dataset is composed of a range of biomedical voice measurements from 31 people, 23 with Parkinson's disease (PD). Each column in the table is a particular voice measure, and each row corresponds one of 195 voice recording from these individuals (\"name\" column). The main aim of the data is to discriminate healthy people from those with PD, according to \"status\" column which is set to 0 for healthy and 1 for PD.</p>\n",
    "\n",
    "<p style = 'font-size:16px;font-family:Arial'><a href = 'https://archive.ics.uci.edu/ml/datasets/parkinsons'>Link to the dataset</a>: Max A. Little, Patrick E. McSharry, Eric J. Hunter, Lorraine O. Ramig (2008), 'Suitability of dysphonia measurements for telemonitoring of Parkinson's disease', IEEE Transactions on Biomedical Engineering (to appear).</p>\n",
    "\n",
    "\n",
    "<p style = 'font-size:20px;font-family:Arial;color:#E37C4D'><b>Accessing the Data</b></p>\n",
    "<p style = 'font-size:16px;font-family:Arial'>These demos will work either with foreign tables accessed from Cloud Storage via NOS or you may import the tables to your machine. If you import data for multiple demos, you may need to use the Data Dictionary \"Manage Your Space\" routine to cleanup tables you no longer need. \n",
    "    \n",
    "<p style = 'font-size:16px;font-family:Arial'>Use the link below to access the 2 options for using data from the data dictionary notebook:\n",
    "\n",
    "[Click Here to get data for this notebook](../Data_Dictionary/Data_Dictionary.ipynb#TRNG_ParkinsonsDisease)\n",
    "\n",
    "[Click Here to Manage Your Space](../Data_Dictionary/Data_Dictionary.ipynb#Manage_Your_Space)\n",
    "\n",
    "\n",
    "<p style = 'font-size:20px;font-family:Arial;color:#E37C4D'><b>Contents:</b></p>\n",
    "<ol style = 'font-size:16px;font-family:Arial'>\n",
    "    <li>Configuring the Environment</li>\n",
    "    <li>Initiate a connection to Vantage</li>\n",
    "    <li>Analyze the raw data set</li>\n",
    "    <li>Train and Test a Decision Forest Model</li>\n",
    "        <ul>\n",
    "            <li>4.1 Train and Test split using SAMPLE. Splitting the dataset in 80:20 ratio for Train and Test respectively</li>\n",
    "            <li>4.2 Train a Decision Tree Model</li> \n",
    "                <ol style = 'font-size:16px;font-family:Arial'>\n",
    "                    <li style = 'font-size:16px;font-family:Arial' >Using the TD_DecisionForest and TD_DecisonForestPredict In Database function to predict if the persion can have Parkinson's Disease or not. So there are only 2 responses '0' and '1'.</li>\n",
    "                    <li style = 'font-size:16px;font-family:Arial'>Using the TD_GLM and TD_GLMPredict In Database function to predict if the persion can have Parkinson's Disease or not. So there are only 2 responses '0' and '1'.</li>\n",
    "            </ol>\n",
    "            <li>4.3 Evaluate the Model :- Evaluation of the model is done using the TD_ClassificationEvaluator which provides various parameters for the model like Accuracy, Precision ,Recall etc.</li>\n",
    "        </ul>\n",
    "    <li>Cleanup</li>\n",
    "</ol>"
   ]
  },
  {
   "cell_type": "markdown",
   "id": "forty-hungarian",
   "metadata": {},
   "source": [
    "<hr>\n",
    "<b style = 'font-size:22px;font-family:Arial;color:#E37C4D'>1. Configuring the Environment</b>\n",
    "<p style = 'font-size:16px;font-family:Arial'>In the section, we import the required libraries and set environment variables and environment paths (if required).</p>"
   ]
  },
  {
   "cell_type": "code",
   "execution_count": null,
   "id": "violent-bunny",
   "metadata": {},
   "outputs": [],
   "source": [
    "import json\n",
    "import getpass\n",
    "import pandas as pd\n",
    "from teradataml import *"
   ]
  },
  {
   "cell_type": "markdown",
   "id": "round-evans",
   "metadata": {},
   "source": [
    "<hr>\n",
    "<b style = 'font-size:22px;font-family:Arial;color:#E37C4D'>2. Initiate a connection to Vantage</b>\n",
    "\n",
    "<p style = 'font-size:18px;font-family:Arial;color:#E37C4D'><b>Make changes for your execution</b></p>\n",
    "\n",
    "<p style = 'font-size:16px;font-family:Arial'>The Jupyter Module for Teradata provides a helper library called tdconnect - this can use the underlying client configs and pass a JWT token for SSO. Establish connection to Teradata Vantage server (uses the Teradata SQL Driver for Python). Before you execute the following statement, replace the variables &ltHOSTNAME&gt, &ltUID&gt and &ltPWD&gt with your target Vantage system hostname (or IP address), and your database user ID(QLID) and password, respectively.</p>\n",
    "    \n",
    "<p style = 'font-size:14px;font-family:Arial'>td_context = create_context(host=\"tdprdX.td.teradata.com\", username=\"xy123456\", password=gp.getpass(prompt='Password:'), logmech=\"LDAP\")</p>"
   ]
  },
  {
   "cell_type": "code",
   "execution_count": null,
   "id": "classified-harbor",
   "metadata": {},
   "outputs": [],
   "source": [
    "eng = create_context(host = 'host.docker.internal', username='demo_user', password = getpass.getpass())"
   ]
  },
  {
   "cell_type": "markdown",
   "id": "hundred-reliance",
   "metadata": {},
   "source": [
    "<hr>\n",
    "<p style = 'font-size:22px;font-family:Arial;color:#E37C4D'><b>3. Analyze the raw data set</b></p>\n",
    "<!-- <p style = 'font-size:16px;font-family:Arial'>One of the challenges with this data set is that each recording consists of 755 individual metrics.  If this data set were to be used as input to a Decision Forest or other supervised learning algorithm \"as is\"; this large number of features would cause extraordinary performance degradation for very little gain in accuracy.  Not to mention, wrangling 755 columns adds additional complexity in programming and automation.</p> -->\n",
    "\n",
    "<p style = 'font-size:16px;font-family:Arial'>Simple SQL query to show the data. Taking just a sample set of data to show case how we can use the Teradata In database functions</p>"
   ]
  },
  {
   "cell_type": "code",
   "execution_count": null,
   "id": "capital-intermediate",
   "metadata": {},
   "outputs": [],
   "source": [
    "query = '''\n",
    "SELECT * FROM TRNG_ParkinsonsDisease.pd_speech_features;\n",
    "'''\n",
    "\n",
    "pd.read_sql(query, eng)"
   ]
  },
  {
   "cell_type": "markdown",
   "id": "innocent-remove",
   "metadata": {},
   "source": [
    "<hr>\n",
    "<p style = 'font-size:22px;font-family:Arial;color:#E37C4D'><b>4. Train and Test a Decision Tree Model</b></p>\n",
    "\n",
    "<p style = 'font-size:16px;font-family:Arial'>Now that we have our prepared data set, we can perform an abbreviated machine learning workflow:</p>\n",
    "\n",
    "<ol style = 'font-size:16px;font-family:Arial'>\n",
    "    <li>Create Train and Test data sets using SAMPLE Clause</li>\n",
    "    <li>Train the model</li>\n",
    "    <li>Evaluate the model using Test data</li>\n",
    "</ol>\n",
    "<p style = 'font-size:18px;font-family:Arial;color:#E37C4D'><b>4.1 - Train and Test split using SAMPLE</b></p>\n",
    "\n",
    "<p style = 'font-size:16px;font-family:Arial'>Using EXCEPT clause in the second statement ensures a non-intersecting set of data</p>"
   ]
  },
  {
   "cell_type": "code",
   "execution_count": null,
   "id": "confused-bidder",
   "metadata": {},
   "outputs": [],
   "source": [
    "query = '''\n",
    "CREATE MULTISET TABLE pd_speech_features_train AS (\n",
    "    SELECT * FROM TRNG_ParkinsonsDisease.pd_speech_features SAMPLE 0.8\n",
    ") WITH DATA\n",
    "PRIMARY INDEX(id)\n",
    "'''\n",
    "\n",
    "try:\n",
    "    eng.execute(query)\n",
    "except:\n",
    "    eng.execute('DROP TABLE pd_speech_features_train;')\n",
    "    eng.execute(query)\n",
    "\n",
    "train = pd.read_sql('SELECT * FROM pd_speech_features_train', eng)\n",
    "pd.read_sql('SELECT \"class\", COUNT(*) FROM pd_speech_features_train GROUP BY \"class\"', eng)"
   ]
  },
  {
   "cell_type": "markdown",
   "id": "360ab0d4-a661-4d70-8ef5-30e5777dd811",
   "metadata": {},
   "source": [
    "<p style = 'font-size:16px;font-family:Arial'>The output shows the number of people we are considering for each class to train the model</p>\n",
    "\n"
   ]
  },
  {
   "cell_type": "code",
   "execution_count": null,
   "id": "general-calibration",
   "metadata": {},
   "outputs": [],
   "source": [
    "query = '''\n",
    "CREATE MULTISET TABLE pd_speech_features_test AS (\n",
    "    SELECT * FROM TRNG_ParkinsonsDisease.pd_speech_features\n",
    "    EXCEPT\n",
    "    SELECT * FROM pd_speech_features_train\n",
    ") WITH DATA\n",
    "PRIMARY INDEX(id)\n",
    "'''\n",
    "\n",
    "try:\n",
    "    eng.execute(query)\n",
    "except:\n",
    "    eng.execute('DROP TABLE pd_speech_features_test;')\n",
    "    eng.execute(query)\n",
    "\n",
    "test = pd.read_sql('SELECT * FROM pd_speech_features_test', eng)\n",
    "pd.read_sql('SELECT \"class\", COUNT(*) FROM pd_speech_features_test GROUP BY \"class\"', eng)"
   ]
  },
  {
   "cell_type": "markdown",
   "id": "bigger-reaction",
   "metadata": {},
   "source": [
    "<hr>\n",
    "<p style = 'font-size:18px;font-family:Arial;color:#E37C4D'><b>4.2.1 - Train a Decision Tree Model</b></p>\n",
    "\n",
    "<p style = 'font-size:16px;font-family:Arial'>The <a href = 'https://docs.teradata.com/r/Teradata-VantageTM-Advanced-SQL-Engine-Analytic-Functions/April-2022/Advanced-SQL-Engine-Analytic-Functions/TD_DecisionForest'>TD_DecisionForest</a> is an ensemble algorithm used for classification and regression predictive modeling problems. It is an extension of bootstrap aggregation (bagging) of decision trees. </p>\n",
    "\n",
    "<p style = 'font-size:16px;font-family:Arial'>This function takes the training data as input, as well as the following function parameters</p>\n",
    "    <ul style = 'font-size:16px;font-family:Arial'>\n",
    "        <li>InputColumns; list or range of columns used as features</li>\n",
    "        <li>ResponseColumn; the dependend or target value</li>\n",
    "        <li>TreeType; either CLASSIFICATION or REGRESSION</li>\n",
    "    <li>Other hyperparameter values detailed in the documentation</li>\n",
    "        </ul>"
   ]
  },
  {
   "cell_type": "code",
   "execution_count": null,
   "id": "794af0e3-ff22-4ab2-a7c8-6512b110591f",
   "metadata": {},
   "outputs": [],
   "source": [
    "%%time\n",
    "query = '''\n",
    "CREATE multiset table DF_table as (\n",
    "    SELECT * FROM TD_DecisionForest (\n",
    "    ON pd_speech_features_train PARTITION BY ANY\n",
    "  USING\n",
    "      InputColumns('[2:753]')\n",
    "      ResponseColumn('\"class\"')\n",
    "      MaxDepth(5)\n",
    "      MinNodeSize(1)\n",
    "      TreeType('CLASSIFICATION')\n",
    "      Seed(2)\n",
    "      Mtry(3)\n",
    "      MtrySeed(1)\n",
    "    ) as dt\n",
    ") with data;\n",
    "'''\n",
    "\n",
    "try:\n",
    "    eng.execute(query)\n",
    "except:\n",
    "    eng.execute('DROP TABLE DF_table;')\n",
    "    eng.execute(query)\n",
    "\n",
    "pd.read_sql('SELECT * FROM DF_table', eng)"
   ]
  },
  {
   "cell_type": "markdown",
   "id": "2793009a-3b30-4af3-bbf3-433df6c7bbc5",
   "metadata": {},
   "source": [
    "<p style = 'font-size:16px;font-family:Arial'>The TD_DecisionForest function creates a tree as seen in the output above based on the parameters passed in the query</p>\n",
    "\n"
   ]
  },
  {
   "cell_type": "markdown",
   "id": "663350b7-61c1-497f-8adb-b77ca03128b2",
   "metadata": {},
   "source": [
    "<hr>\n",
    "<p style = 'font-size:18px;font-family:Arial;color:#E37C4D'><b>4.2.2 - Train a GLM Model</b></p>\n",
    "\n",
    "<p style = 'font-size:16px;font-family:Arial'>The <a href = 'https://docs.teradata.com/r/Teradata-Vantage-Machine-Learning-Engine-Analytic-Function-Reference/May-2019/Statistical-Analysis/Generalized-Linear-Model-Functions/GLM'>The generalized linear model (GLM) is an extension of the linear regression model that enables the linear equation to relate to the dependent variables by a link function. The GLM function supports several distribution families and associated link functions. </p>\n",
    "\n",
    "<p style = 'font-size:16px;font-family:Arial'>This function takes the training data as input, as well as the following function parameters</p>\n",
    "    <ul style = 'font-size:16px;font-family:Arial'>\n",
    "        <li>InputColumns; list or range of columns used as features</li>\n",
    "        <li>ResponseColumn; the dependend or target value</li>\n",
    "        <li>Family; either Binomial or Gaussian</li>\n",
    "    <li>Other hyperparameter values detailed in the documentation</li>\n",
    "        </ul>"
   ]
  },
  {
   "cell_type": "code",
   "execution_count": null,
   "id": "1455eeae-1ccd-4cb2-ad54-12e40203272e",
   "metadata": {},
   "outputs": [],
   "source": [
    "%%time\n",
    "query = '''\n",
    "CREATE TABLE td_glm_output_credit_ex AS (\n",
    "SELECT * FROM td_glm (\n",
    "ON pd_speech_features_train\n",
    "USING\n",
    "InputColumns('[2:753]')\n",
    "ResponseColumn('\"class\"')\n",
    "Family('Binomial')\n",
    "BatchSize(10)\n",
    "MaxIterNum(300)\n",
    "RegularizationLambda(0.02)\n",
    "Alpha(0.15)\n",
    "IterNumNoChange(50)\n",
    "Tolerance(0.001)\n",
    "Intercept('true')\n",
    "LearningRate('optimal')\n",
    "InitialEta(0.05)\n",
    "Momentum(0.0)\n",
    "LocalSGDIterations(0)\n",
    ") AS dt\n",
    ") WITH DATA\n",
    ";\n",
    "'''\n",
    "\n",
    "try:\n",
    "    eng.execute(query)\n",
    "except:\n",
    "    eng.execute('DROP TABLE td_glm_output_credit_ex;')\n",
    "    eng.execute(query)\n",
    "\n",
    "pd.read_sql('SELECT * FROM td_glm_output_credit_ex', eng)"
   ]
  },
  {
   "cell_type": "markdown",
   "id": "e02e8116-33d7-423a-ba9e-5314ee713b77",
   "metadata": {},
   "source": [
    "<p style = 'font-size:16px;font-family:Arial'>The TD_GLM function creates various output predictors and values based on the above parameters passed in the query</p>\n",
    "\n"
   ]
  },
  {
   "cell_type": "markdown",
   "id": "728bfe6b-aac7-4cdb-80b1-5387520ef636",
   "metadata": {},
   "source": [
    "<p style = 'font-size:16px;font-family:Arial;> The TD_DecisionForest function creates a tree as seen in the output above based on the parameters applied in the query. </b></p>\n",
    "\n"
   ]
  },
  {
   "cell_type": "markdown",
   "id": "modified-drawing",
   "metadata": {},
   "source": [
    "<hr>\n",
    "<p style = 'font-size:18px;font-family:Arial;color:#E37C4D'><b>4.3.1 - Evaluate the Model</b></p>\n",
    "\n",
    "<p style = 'font-size:16px;font-family:Arial'>Execute a testing prediction using the split data above.  Evaluate the model by creating a confusion matrix with the <a href = 'https://docs.teradata.com/r/Teradata-VantageTM-Advanced-SQL-Engine-Analytic-Functions/April-2022/Advanced-SQL-Engine-Analytic-Functions/TD_ClassificationEvaluator'>TD_ClassificationEvaluator</a> SQL Function.</p>\n",
    "\n",
    "\n",
    "<ol style = 'font-size:16px;font-family:Arial'>\n",
    "    <li>Execute <a href = 'https://docs.teradata.com/r/Teradata-VantageTM-Advanced-SQL-Engine-Analytic-Functions/April-2022/Advanced-SQL-Engine-Analytic-Functions/DecisionForestPredict-SQL-Engine'>DecisionForestPredict</a> using the model built above</li>\n",
    "    <li>Execute <a href = 'https://docs.teradata.com/r/Teradata-VantageTM-Advanced-SQL-Engine-Analytic-Functions/April-2022/Advanced-SQL-Engine-Analytic-Functions/TD_ClassificationEvaluator'>TD_ClassificationEvaluator</a> and pass the actual classification and the predicted value</li>\n",
    "    <li>Investigate the Confusion Matrix and additional metrics values</li>\n",
    "    </ol>"
   ]
  },
  {
   "cell_type": "code",
   "execution_count": null,
   "id": "a69cc110-08fa-4d00-aa5b-fe541c305671",
   "metadata": {},
   "outputs": [],
   "source": [
    "query = '''\n",
    "create multiset table DF_predict_test as (\n",
    "    select * from DecisionForestPredict (\n",
    "        ON pd_speech_features_test PARTITION BY ANY\n",
    "        ON DF_table as Model dimension\n",
    "        using\n",
    "        IDColumn ('id')\n",
    "        OutputProb ('true')\n",
    "        Responses ('0', '1')\n",
    "        Accumulate ('\"class\"')\n",
    "    ) as dt\n",
    ") with data;\n",
    "'''\n",
    "\n",
    "try:\n",
    "    eng.execute(query)\n",
    "except:\n",
    "    eng.execute('DROP TABLE DF_predict_test;')\n",
    "    eng.execute(query)\n",
    "\n",
    "pd.read_sql('SELECT * FROM DF_predict_test', eng)"
   ]
  },
  {
   "cell_type": "markdown",
   "id": "b8f1e892-73de-4bb0-b303-3c21660feba7",
   "metadata": {},
   "source": [
    "<p style = 'font-size:16px;font-family:Arial'>The TD_DecisionForestPredict function creates probabilities for the prediction made depending on the class and the Id cloumns. The output of the predict function is passed to the Classification Evaluator to get the parameters of the functions.</p>\n",
    "\n"
   ]
  },
  {
   "cell_type": "markdown",
   "id": "b56d4594-3ae6-4c29-9eb0-2ef1c736d4b5",
   "metadata": {},
   "source": [
    "<hr>\n",
    "<p style = 'font-size:18px;font-family:Arial;color:#E37C4D'><b>4.3.2 - Evaluate the Model</b></p>\n",
    "\n",
    "<p style = 'font-size:16px;font-family:Arial'>Execute a testing prediction using the split data above.  Evaluate the model by creating a confusion matrix with the <a href = 'https://docs.teradata.com/r/Teradata-VantageTM-Advanced-SQL-Engine-Analytic-Functions/April-2022/Advanced-SQL-Engine-Analytic-Functions/TD_ClassificationEvaluator'>TD_ClassificationEvaluator</a> SQL Function.</p>\n",
    "\n",
    "\n",
    "<ol style = 'font-size:16px;font-family:Arial'>\n",
    "    <li>Execute <a href = 'https://docs.teradata.com/r/Teradata-VantageTM-Advanced-SQL-Engine-Analytic-Functions/April-2022/Advanced-SQL-Engine-Analytic-Functions/DecisionForestPredict-SQL-Engine'>GLMPredict</a> using the model built above</li>\n",
    "    <li>Execute <a href = 'https://docs.teradata.com/r/Teradata-VantageTM-Advanced-SQL-Engine-Analytic-Functions/April-2022/Advanced-SQL-Engine-Analytic-Functions/TD_ClassificationEvaluator'>TD_ClassificationEvaluator</a> and pass the actual classification and the predicted value</li>\n",
    "    <li>Investigate the Confusion Matrix and additional metrics values</li>\n",
    "    </ol>"
   ]
  },
  {
   "cell_type": "code",
   "execution_count": null,
   "id": "2db61972-c2c2-4fa0-a05d-4baf76331f9e",
   "metadata": {},
   "outputs": [],
   "source": [
    "query = '''\n",
    "CREATE TABLE vt_glm_predict_credit_ex AS (\n",
    "SELECT * from TD_GLMPredict (\n",
    "ON pd_speech_features_test AS INPUTTABLE\n",
    "ON td_glm_output_credit_ex AS Model DIMENSION\n",
    "USING\n",
    "IDColumn ('ID')\n",
    "Accumulate('\"class\"')\n",
    "OutputProb('true')\n",
    "Responses ('0','1')\n",
    ") AS dt\n",
    ") WITH DATA\n",
    ";\n",
    "'''\n",
    "\n",
    "try:\n",
    "    eng.execute(query)\n",
    "except:\n",
    "    eng.execute('DROP TABLE vt_glm_predict_credit_ex;')\n",
    "    eng.execute(query)\n",
    "\n",
    "pd.read_sql('SELECT * FROM vt_glm_predict_credit_ex', eng)"
   ]
  },
  {
   "cell_type": "markdown",
   "id": "5dd40f9c-3a46-4f87-987c-d86e4459d3e6",
   "metadata": {},
   "source": [
    "<p style = 'font-size:16px;font-family:Arial'>The TD_GLMPredict function creates probabilities for the prediction made depending on the class and the Id cloumns. The output of the predict function is passed to the Classification Evaluator to get the parameters of the functions.</p>\n",
    "\n"
   ]
  },
  {
   "cell_type": "code",
   "execution_count": null,
   "id": "c2b7471e-a023-4269-a509-8bcc36602843",
   "metadata": {},
   "outputs": [],
   "source": [
    "query = '''\n",
    "SELECT * FROM TD_ClassificationEvaluator(\n",
    "   ON (select prediction, cast(\"class\" as VARCHAR(32000) CHARACTER SET UNICODE NOT CASESPECIFIC) as \"class\" from DF_predict_test) AS InputTable\n",
    "   OUT VOLATILE TABLE OutputTable(additional_metrics_speech_test)\n",
    "   USING\n",
    "   ObservationColumn('\"class\"')\n",
    "   PredictionColumn('prediction')\n",
    "   Labels('0','1')\n",
    ") AS dt;\n",
    "'''\n",
    "\n",
    "try:\n",
    "    eng.execute(query)\n",
    "except:\n",
    "    eng.execute('DROP TABLE additional_metrics_speech_test;')\n",
    "    eng.execute(query)\n",
    "\n",
    "pd.read_sql('SELECT * FROM additional_metrics_speech_test', eng)"
   ]
  },
  {
   "cell_type": "code",
   "execution_count": null,
   "id": "76f91ec9-ef77-4f89-9f07-e280e5cbbe3e",
   "metadata": {},
   "outputs": [],
   "source": [
    "query = '''CREATE SET TABLE vt_glm_predict_credit_ex_1 ,FALLBACK ,\n",
    "     CHECKSUM = DEFAULT,\n",
    "     DEFAULT MERGEBLOCKRATIO,\n",
    "     MAP = TD_MAP1,\n",
    "     LOG\n",
    "     (\n",
    "      id BIGINT,\n",
    "      prediction INT,\n",
    "      \"class\" INT,\n",
    "            prob_0 FLOAT,\n",
    "      prob_1 FLOAT\n",
    "\n",
    ")PRIMARY INDEX ( id )\n",
    ";\n",
    "'''\n",
    "\n",
    "try:\n",
    "    eng.execute(query)\n",
    "except:\n",
    "    eng.execute('DROP TABLE vt_glm_predict_credit_ex_1;')\n",
    "    eng.execute(query)\n"
   ]
  },
  {
   "cell_type": "code",
   "execution_count": null,
   "id": "704c8fe3-f8f2-4123-8189-09bac51c74e4",
   "metadata": {},
   "outputs": [],
   "source": [
    "query = '''insert into vt_glm_predict_credit_ex_1 sel id , cast(prediction as int), \"class\" , prob_0, prob_1 from vt_glm_predict_credit_ex;'''\n",
    "eng.execute(query)"
   ]
  },
  {
   "cell_type": "code",
   "execution_count": null,
   "id": "ba548f4e-be6d-40d4-b474-a3d1c5c635c0",
   "metadata": {
    "tags": []
   },
   "outputs": [],
   "source": [
    "query = '''\n",
    "SELECT * FROM TD_ClassificationEvaluator(\n",
    "       ON (select prediction,  \"class\" from vt_glm_predict_credit_ex_1) AS InputTable\n",
    "       OUT TABLE OutputTable(additional_metrics_speech_test_glm)\n",
    "       USING\n",
    "       ObservationColumn('\"class\"')\n",
    "       PredictionColumn('prediction')\n",
    "       Labels(0,1)\n",
    "    ) AS dt;\n",
    "'''\n",
    "\n",
    "try:\n",
    "    eng.execute(query)\n",
    "except:\n",
    "    eng.execute('DROP TABLE additional_metrics_speech_test_glm;')\n",
    "    eng.execute(query)\n",
    "\n",
    "pd.read_sql('SELECT * FROM additional_metrics_speech_test_glm', eng)"
   ]
  },
  {
   "cell_type": "markdown",
   "id": "0fb3cfe1-026d-4eaa-a0a8-e77653bc2029",
   "metadata": {},
   "source": [
    "<p style = 'font-size:16px;font-family:Arial'>The TD_ClassificationEvaluator generates various metrics for the prediction function , like Accuracy, Precision, Recall etc. As seen above the Accuracy is 0.70 Precision is above 0.35 etc</p>\n",
    "\n"
   ]
  },
  {
   "cell_type": "markdown",
   "id": "66ed1e6c-d263-464a-98be-2a574a6e0a03",
   "metadata": {},
   "source": [
    "<p style = 'font-size:16px;font-family:Arial'>Thus we can evaluate and compare 2 different models using the IN-Database functions. In this case since we have sample data the result parameters like the Accuracy, Precision, Recall etc. seem to be similar for both the models, but we can still see that TD_DecisionForest is slightly better TD_GLM.  \n"
   ]
  },
  {
   "cell_type": "markdown",
   "id": "tutorial-lying",
   "metadata": {},
   "source": [
    "<hr>\n",
    "<b style = 'font-size:22px;font-family:Arial;color:#E37C4D'>5. Cleanup</b>"
   ]
  },
  {
   "cell_type": "code",
   "execution_count": null,
   "id": "fe3c3c14-7d3a-43e9-91e7-e035a9cafebf",
   "metadata": {},
   "outputs": [],
   "source": [
    "eng.execute('DROP view TRNG_ParkinsonsDisease.pd_speech_features;')"
   ]
  },
  {
   "cell_type": "code",
   "execution_count": null,
   "id": "88365472-b492-4369-9f7b-af5e5e7ad186",
   "metadata": {},
   "outputs": [],
   "source": [
    "eng.execute('DROP TABLE gs_tables_db.TRNG_ParkinsonsDisease_pd_speech_features;')"
   ]
  },
  {
   "cell_type": "code",
   "execution_count": null,
   "id": "dfae1080-a4ba-4796-8c16-212beb769ee5",
   "metadata": {},
   "outputs": [],
   "source": [
    "eng.execute('DROP TABLE pd_speech_features_train;')"
   ]
  },
  {
   "cell_type": "code",
   "execution_count": null,
   "id": "possible-geneva",
   "metadata": {},
   "outputs": [],
   "source": [
    "eng.execute('DROP TABLE pd_speech_features_test;')"
   ]
  },
  {
   "cell_type": "code",
   "execution_count": null,
   "id": "b0f3c99b-57ee-458c-a1b0-86c7b279374d",
   "metadata": {},
   "outputs": [],
   "source": [
    "eng.execute('DROP TABLE DF_table;')"
   ]
  },
  {
   "cell_type": "code",
   "execution_count": null,
   "id": "moved-multiple",
   "metadata": {},
   "outputs": [],
   "source": [
    "eng.execute('DROP TABLE DF_predict_test;')"
   ]
  },
  {
   "cell_type": "code",
   "execution_count": null,
   "id": "sublime-laptop",
   "metadata": {},
   "outputs": [],
   "source": [
    "eng.execute('DROP TABLE additional_metrics_speech_test;')"
   ]
  },
  {
   "cell_type": "code",
   "execution_count": null,
   "id": "29bee73e-aa0e-4030-bb9b-2a4f8219b45c",
   "metadata": {},
   "outputs": [],
   "source": [
    "eng.execute('DROP TABLE td_glm_output_credit_ex;')"
   ]
  },
  {
   "cell_type": "code",
   "execution_count": null,
   "id": "46f96a3e-1f49-4d25-8b35-302d93830125",
   "metadata": {},
   "outputs": [],
   "source": [
    "eng.execute('DROP TABLE vt_glm_predict_credit_ex_1;')"
   ]
  },
  {
   "cell_type": "code",
   "execution_count": null,
   "id": "d3a1fa0c-d539-453b-8278-ad4057dc6d4a",
   "metadata": {},
   "outputs": [],
   "source": [
    "eng.execute('DROP TABLE vt_glm_predict_credit_ex;')"
   ]
  },
  {
   "cell_type": "code",
   "execution_count": null,
   "id": "db771ad4-ace8-42c2-b247-3613e9744337",
   "metadata": {},
   "outputs": [],
   "source": [
    "eng.execute('DROP TABLE additional_metrics_speech_test_glm;')"
   ]
  },
  {
   "cell_type": "code",
   "execution_count": null,
   "id": "efdc8a78-e1e7-4f27-868f-2e64556d810b",
   "metadata": {},
   "outputs": [],
   "source": [
    "eng.execute('DROP database TRNG_ParkinsonsDisease;')"
   ]
  },
  {
   "cell_type": "markdown",
   "id": "julian-modern",
   "metadata": {},
   "source": [
    "<footer style=\"padding:10px;background:#f9f9f9;border-bottom:3px solid #394851\">Copyright © Teradata Corporation - 2023. All Rights Reserved.</footer>"
   ]
  },
  {
   "cell_type": "code",
   "execution_count": null,
   "id": "7f3f3a81-f4a0-40f0-adfb-5c60818074f5",
   "metadata": {},
   "outputs": [],
   "source": []
  }
 ],
 "metadata": {
  "kernelspec": {
   "display_name": "Python 3 (ipykernel)",
   "language": "python",
   "name": "python3"
  },
  "language_info": {
   "codemirror_mode": {
    "name": "ipython",
    "version": 3
   },
   "file_extension": ".py",
   "mimetype": "text/x-python",
   "name": "python",
   "nbconvert_exporter": "python",
   "pygments_lexer": "ipython3",
   "version": "3.9.10"
  }
 },
 "nbformat": 4,
 "nbformat_minor": 5
}
