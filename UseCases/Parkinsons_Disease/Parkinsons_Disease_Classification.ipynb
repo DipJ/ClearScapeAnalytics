{
 "cells": [
  {
   "cell_type": "markdown",
   "id": "badff87f-8d63-4dfe-a1fa-0db73fcbcc1a",
   "metadata": {},
   "source": [
    "<header style=\"padding:1px;background:#f9f9f9;border-top:3px solid #00b2b1\"><img id=\"Teradata-logo\" src=\"https://www.teradata.com/Teradata/Images/Rebrand/Teradata_logo-two_color.png\" alt=\"Teradata\" width=\"220\" align=\"right\" />\n",
    "\n",
    "<b style = 'font-size:28px;font-family:Arial;color:#E37C4D'>Parkinson's Disease prediction using Decision Forest Classifier and GLM</b>\n",
    "</header>\n",
    "\n",
    "<p style = 'font-size:20px;font-family:Arial;color:#E37C4D'><b>Introduction</b></p>\n",
    "\n",
    "<p style = 'font-size:16px;font-family:Arial'>Research shows that 89 percent of people with Parkinson’s disease (PD) experience speech and voice disorders, including soft, monotone, breathy and hoarse voice and uncertain articulation. As a result, people with PD report they are less likely to participate in conversation, or have confidence in social settings than healthy individuals in their age group.\n",
    "<br>\n",
    "<br>    \n",
    "Speech disorders can progressively diminish quality of life for a person with PD. The earlier a person receives a baseline speech evaluation and speech therapy, the more likely he or she will be able to maintain communication skills as the disease progresses. Communication is a key element in quality of life and positive self-concept and confidence for people with PD.\n",
    "<br>\n",
    "<br>    \n",
    "Hence as a consultant, we are approached by an organization to detect Parkinson's Disease at an early stage. We are not showcasing a complete DataScience Usecase but we are trying to show how the Teradata In Database functions can be used for Model training and scoring and comparing the performance of 2 models. The data we are using is sample data and the results and predictions may not be entirely accurate.</p>\n",
    "\n",
    "<p style = 'font-size:20px;font-family:Arial;color:#E37C4D'><b>1. Data</b></p>\n",
    "<p style = 'font-size:16px;font-family:Arial'>This dataset is composed of a range of biomedical voice measurements from 31 people, 23 with Parkinson's disease (PD). Each column in the table is a particular voice measure, and each row corresponds one of 195 voice recording from these individuals (\"name\" column). The main aim of the data is to discriminate healthy people from those with PD, according to \"status\" column which is set to 0 for healthy and 1 for PD.</p>\n",
    "\n",
    "<p style = 'font-size:16px;font-family:Arial'><a href = 'https://archive.ics.uci.edu/ml/datasets/parkinsons'>Link to the dataset</a>: Max A. Little, Patrick E. McSharry, Eric J. Hunter, Lorraine O. Ramig (2008), 'Suitability of dysphonia measurements for telemonitoring of Parkinson's disease', IEEE Transactions on Biomedical Engineering (to appear).</p>"
   ]
  },
  {
   "cell_type": "markdown",
   "id": "66077c1a-bd61-4393-83d2-177631ebbaec",
   "metadata": {},
   "source": [
    "<p style = 'font-size:20px;font-family:Arial;color:#E37C4D'><b>2. Contents:</b></p>\n",
    "<ol style = 'font-size:16px;font-family:Arial'>\n",
    "    <li>Configuring the Environment</li>\n",
    "    <li>Initiate a connection to Vantage</li>\n",
    "    <li>Analyze the raw data set</li>\n",
    "    <li>Train and Test a Decision Forest Model</li>\n",
    "        <ul>\n",
    "            <li>4.1 Train and Test split using SAMPLE. Splitting the dataset in 80:20 ratio for Train and Test respectively</li>\n",
    "            <li>4.2 Train a Model</li> \n",
    "                <ol style = 'font-size:16px;font-family:Arial'>\n",
    "                    <li style = 'font-size:16px;font-family:Arial' >Using the TD_DecisionForest and TD_DecisonForestPredict In Database function to predict if the persion can have Parkinson's Disease or not. So there are only 2 responses '0' and '1'.</li>\n",
    "                    <li style = 'font-size:16px;font-family:Arial'>Using the TD_GLM and TD_GLMPredict In Database function to predict if the persion can have Parkinson's Disease or not. So there are only 2 responses '0' and '1'.</li>\n",
    "            </ol>\n",
    "            <li>4.3 Evaluate the Model :- Evaluation of the model is done using the TD_ClassificationEvaluator which provides various parameters for the model like Accuracy, Precision ,Recall etc.</li>\n",
    "        </ul>\n",
    "    <li>Cleanup</li>\n",
    "</ol>"
   ]
  },
  {
   "cell_type": "markdown",
   "id": "29b025bb-c63d-47e7-8de7-ba08db7da5ac",
   "metadata": {
    "tags": []
   },
   "source": [
    "<p style = 'font-size:20px;font-family:Arial;color:#E37C4D'><b>3. Start by connecting to the Vantage system.</b></p>\n"
   ]
  },
  {
   "cell_type": "markdown",
   "id": "55b5391d-d20a-4b98-8677-ea1542dca22c",
   "metadata": {},
   "source": [
    "<p style = 'font-size:16px;font-family:Arial'>In the section, we import the required libraries and set environment variables and environment paths (if required).</p>"
   ]
  },
  {
   "cell_type": "code",
   "execution_count": null,
   "id": "violent-bunny",
   "metadata": {},
   "outputs": [],
   "source": [
    "import json\n",
    "import getpass\n",
    "import pandas as pd\n",
    "from teradataml import *\n",
    "import warnings\n",
    "warnings.filterwarnings(\"ignore\")"
   ]
  },
  {
   "cell_type": "markdown",
   "id": "ec1a9abf-42e4-4f76-804f-b04cc1af26f8",
   "metadata": {},
   "source": [
    "<p style = 'font-size:16px;font-family:Arial'>You will be prompted to provide the password. Enter your password, press the Enter key, then use down arrow to go to next cell.</p>"
   ]
  },
  {
   "cell_type": "code",
   "execution_count": null,
   "id": "1c9d919e-7a8b-4e46-847f-b3e4a7c815bf",
   "metadata": {},
   "outputs": [],
   "source": [
    "%run -i ../startup.ipynb\n"
   ]
  },
  {
   "cell_type": "code",
   "execution_count": null,
   "id": "5a20347e-668b-4f51-9636-91ce71b53ba1",
   "metadata": {},
   "outputs": [],
   "source": [
    "eng = create_context(host = 'host.docker.internal', username='demo_user', password = password)\n",
    "print(eng)"
   ]
  },
  {
   "cell_type": "markdown",
   "id": "7c9259e1-1637-4a47-9d6d-2e653a4bc502",
   "metadata": {},
   "source": [
    "<p style = 'font-size:16px;font-family:Arial'>Begin running steps with Shift + Enter keys.</p>"
   ]
  },
  {
   "cell_type": "code",
   "execution_count": null,
   "id": "1263f331-d178-4c53-800b-3c0e0e8b697f",
   "metadata": {},
   "outputs": [],
   "source": [
    "%sql SET query_band='DEMO=VAL-teradataml-Demo.ipynb;' UPDATE FOR SESSION; "
   ]
  },
  {
   "cell_type": "markdown",
   "id": "1704cdf4-3849-443b-9c2b-516034b1b688",
   "metadata": {},
   "source": [
    "<b style = 'font-size:20px;font-family:Arial;color:#E37C4D'>4. Getting Data for This Demo\n",
    "<p style = 'font-size:16px;font-family:Arial'>We have provided data for this demo on cloud storage.  You have the option of either running the demo using foreign tables to access the data without using any storage on your environment or downloading the data to local storage which may yield somewhat faster execution, but there could be considerations of available storage.  There are two statements in the following cell, and one is commented out.  You may switch which mode you choose by changing the comment string.\n",
    "Here we are only creating local databases and tables as there are 755 coulmns in table which will be faster in local tables.</p>    \n"
   ]
  },
  {
   "cell_type": "code",
   "execution_count": null,
   "id": "996607e5-fd2b-4b80-9ce7-e6dd7ececc76",
   "metadata": {},
   "outputs": [],
   "source": [
    "%run -i ../run_procedure.py \"call get_data('DEMO_ParkinsonsDisease_local');\"\n",
    " # Takes about 2 minutes\n"
   ]
  },
  {
   "cell_type": "markdown",
   "id": "9d562967-cc8f-46c9-8342-cf2b64a1842d",
   "metadata": {},
   "source": [
    "<p style = 'font-size:16px;font-family:Arial'>Next is an optional step – if you want to see status of databases/tables created and space used.</p>"
   ]
  },
  {
   "cell_type": "code",
   "execution_count": null,
   "id": "55407bf6-80d4-438e-9533-05ce5ad3b40a",
   "metadata": {},
   "outputs": [],
   "source": [
    "%run -i ../run_procedure.py \"call space_report();\""
   ]
  },
  {
   "cell_type": "markdown",
   "id": "hundred-reliance",
   "metadata": {},
   "source": [
    "<hr>\n",
    "<p style = 'font-size:20px;font-family:Arial;color:#E37C4D'><b>5. Analyze the raw data set</b></p>\n",
    "<!-- <p style = 'font-size:16px;font-family:Arial'>One of the challenges with this data set is that each recording consists of 755 individual metrics.  If this data set were to be used as input to a Decision Forest or other supervised learning algorithm \"as is\"; this large number of features would cause extraordinary performance degradation for very little gain in accuracy.  Not to mention, wrangling 755 columns adds additional complexity in programming and automation.</p> -->\n",
    "\n",
    "<p style = 'font-size:16px;font-family:Arial'>Simple SQL query to show the data. Taking just a sample set of data to show case how we can use the Teradata In-Database functions</p>\n",
    "\n",
    "\n"
   ]
  },
  {
   "cell_type": "code",
   "execution_count": null,
   "id": "capital-intermediate",
   "metadata": {},
   "outputs": [],
   "source": [
    "query = '''\n",
    "SELECT * FROM DEMO_ParkinsonsDisease.Speech_Features;\n",
    "'''\n",
    "\n",
    "pd.read_sql(query, eng)"
   ]
  },
  {
   "cell_type": "markdown",
   "id": "cae81b57-f9c6-4a61-ad0e-dd6f508090d6",
   "metadata": {},
   "source": [
    "<p style = 'font-size:16px;font-family:Arial'>There are more than 750 different features of the speech recordings which are used for analysis. The \"CLASS\" column which is the rightmost column of the answerset above(please scroll to the right), indicates whether the person has Parkinson's Disease(1) or DOES NOT have Parkinson's Disease(0)</p>\n",
    "\n"
   ]
  },
  {
   "cell_type": "markdown",
   "id": "innocent-remove",
   "metadata": {},
   "source": [
    "<hr>\n",
    "<p style = 'font-size:20px;font-family:Arial;color:#E37C4D'><b>6. Create Train and Test Dataset</b></p>\n",
    "\n",
    "<p style = 'font-size:16px;font-family:Arial'>Now that we have our prepared data set, we can perform an abbreviated machine learning workflow:</p>\n",
    "\n",
    "<ol style = 'font-size:16px;font-family:Arial'>\n",
    "    <li>Create Train and Test data sets using SAMPLE Clause(80:20 split)</li>\n",
    "    <li>Train the model</li>\n",
    "    <li>Evaluate the model using Test data</li>\n",
    "</ol>\n",
    "<p style = 'font-size:18px;font-family:Arial;color:#E37C4D'><b>Train and Test split using SAMPLE</b></p>\n",
    "\n",
    "<p style = 'font-size:16px;font-family:Arial'>Using EXCEPT clause in the second statement ensures a non-intersecting set of data</p>"
   ]
  },
  {
   "cell_type": "code",
   "execution_count": null,
   "id": "confused-bidder",
   "metadata": {},
   "outputs": [],
   "source": [
    "query = '''\n",
    "CREATE MULTISET TABLE pd_speech_features_train AS (\n",
    "    SELECT * FROM DEMO_ParkinsonsDisease.Speech_Features where id mod 10 >= 1\n",
    ") WITH DATA\n",
    "PRIMARY INDEX(id)\n",
    "'''\n",
    "\n",
    "try:\n",
    "    eng.execute(query)\n",
    "except:\n",
    "    eng.execute('DROP TABLE pd_speech_features_train;')\n",
    "    eng.execute(query)\n",
    "\n",
    "train = pd.read_sql('SELECT * FROM pd_speech_features_train', eng)\n",
    "pd.read_sql('SELECT \"class\", COUNT(*) FROM pd_speech_features_train GROUP BY \"class\"', eng)"
   ]
  },
  {
   "cell_type": "markdown",
   "id": "360ab0d4-a661-4d70-8ef5-30e5777dd811",
   "metadata": {},
   "source": [
    "<p style = 'font-size:16px;font-family:Arial'>The output shows the number of people we are considering for each class to train the model – class 1 has Parkinson’s</p>\n",
    "\n"
   ]
  },
  {
   "cell_type": "code",
   "execution_count": null,
   "id": "general-calibration",
   "metadata": {},
   "outputs": [],
   "source": [
    "query = '''\n",
    "CREATE MULTISET TABLE pd_speech_features_test AS (\n",
    "    SELECT * FROM DEMO_ParkinsonsDisease.Speech_Features\n",
    "    EXCEPT\n",
    "    SELECT * FROM pd_speech_features_train\n",
    ") WITH DATA\n",
    "PRIMARY INDEX(id)\n",
    "'''\n",
    "\n",
    "try:\n",
    "    eng.execute(query)\n",
    "except:\n",
    "    eng.execute('DROP TABLE pd_speech_features_test;')\n",
    "    eng.execute(query)\n",
    "\n",
    "test = pd.read_sql('SELECT * FROM pd_speech_features_test', eng)\n",
    "pd.read_sql('SELECT \"class\", COUNT(*) FROM pd_speech_features_test GROUP BY \"class\"', eng)"
   ]
  },
  {
   "cell_type": "markdown",
   "id": "2a7591bf-d26d-4849-84b2-3eddcc357390",
   "metadata": {},
   "source": [
    "<p style = 'font-size:16px;font-family:Arial'>The output shows the number of people we are considering for each class to validate the model – class 1 has Parkinson’s</p>\n",
    "\n"
   ]
  },
  {
   "cell_type": "markdown",
   "id": "bigger-reaction",
   "metadata": {},
   "source": [
    "<hr>\n",
    "<p style = 'font-size:20px;font-family:Arial;color:#E37C4D'><b>7. Decision Tree Model</b></p>\n",
    "\n",
    "<p style = 'font-size:18px;font-family:Arial;color:#E37C4D'><b>7.1 - Train a Decision Tree Model</b></p>\n",
    "\n",
    "<p style = 'font-size:16px;font-family:Arial'>The <a href = 'https://docs.teradata.com/search/all?query=TD_DecisionForest&content-lang=en-US'>TD_DecisionForest</a> is an ensemble algorithm used for classification and regression predictive modeling problems. It is an extension of bootstrap aggregation (bagging) of decision trees. </p>\n",
    "\n",
    "<p style = 'font-size:16px;font-family:Arial'>This function takes the training data as input, as well as the following function parameters</p>\n",
    "    <ul style = 'font-size:16px;font-family:Arial'>\n",
    "        <li>InputColumns; list or range of columns used as features (we used an ordinal reference of columns 2:753)</li>\n",
    "        <li>ResponseColumn; the dependend or target value (we used “class”, the first column)</li>\n",
    "        <li>TreeType; either CLASSIFICATION or REGRESSION</li>\n",
    "    <li>Other hyperparameter values detailed in the documentation</li>\n",
    "        </ul>"
   ]
  },
  {
   "cell_type": "code",
   "execution_count": null,
   "id": "794af0e3-ff22-4ab2-a7c8-6512b110591f",
   "metadata": {},
   "outputs": [],
   "source": [
    "%%time\n",
    "query = '''\n",
    "CREATE multiset table DF_table as (\n",
    "    SELECT * FROM TD_DecisionForest (\n",
    "    ON pd_speech_features_train PARTITION BY ANY\n",
    "  USING\n",
    "      InputColumns('[2:753]')\n",
    "      ResponseColumn('\"class\"')\n",
    "      MaxDepth(5)\n",
    "      MinNodeSize(1)\n",
    "      TreeType('CLASSIFICATION')\n",
    "      Seed(2)\n",
    "      Mtry(3)\n",
    "      MtrySeed(1)\n",
    "    ) as dt\n",
    ") with data;\n",
    "'''\n",
    "\n",
    "try:\n",
    "    eng.execute(query)\n",
    "except:\n",
    "    eng.execute('DROP TABLE DF_table;')\n",
    "    eng.execute(query)\n",
    "\n"
   ]
  },
  {
   "cell_type": "markdown",
   "id": "36a6f3b3-c47b-4010-bc18-721a5d1b9c60",
   "metadata": {},
   "source": [
    "<p style = 'font-size:16px;font-family:Arial'>The TD_DecisionForest function produces a model and a JSON representation of the decision tree. Below is explaination for some columns in the JSON tree. The other details can be found at the link <a href = 'https://docs.teradata.com/search/all?query=TD_DecisionForest&content-lang=en-US'>here.</a></p>\n",
    "\n",
    "</p>\n",
    "<html>\n",
    "   <head>\n",
    "      <style>\n",
    "         table, th, td {\n",
    "            border: 1px solid black;\n",
    "            border-collapse:collapse;\n",
    "         }\n",
    "      </style>\n",
    "   </head>\n",
    "   <body>\n",
    "      <table>\n",
    "         <tr>\n",
    "            <th>JSON Type</th>\n",
    "            <th>Description</th>             \n",
    "         </tr>\n",
    "         <tr>\n",
    "            <td>id_</td>\n",
    "            <td>\"Node identifier\"</td>\n",
    "         </tr>\n",
    "         <tr>\n",
    "            <td>nodeType_</td> \n",
    "            <td>The node type. Possible values: CLASSIFICATION_NODE,CLASSIFICATION_LEAF,REGRESSION_NODE,REGRESSION_LEAF.</td>\n",
    "         </tr>\n",
    "         <tr>\n",
    "            <td>split_</td> \n",
    "            <td>The start of JSON item that describes a split in the node.</td>\n",
    "         </tr> \n",
    "         <tr>\n",
    "            <td>responseCounts_</td> \n",
    "            <td>[Classification trees] Number of observations in each class at node identified by id.</td>\n",
    "         </tr>\n",
    "         <tr>\n",
    "            <td>size_</td> \n",
    "            <td>Total number of observations at node identified by id.</td>\n",
    "         </tr> \n",
    "         <tr>\n",
    "            <td>maxDepth_</td> \n",
    "            <td>Maximum possible depth of tree, starting from node identified by id. For root node, the\n",
    "value is max_depth. For leaf nodes, the value is 0. For other nodes, the value is the\n",
    "maximum possible depth of tree, starting from that node.</td>\n",
    "         </tr>  \n",
    "      </table>\n",
    "   </body>\n",
    "</html>\n"
   ]
  },
  {
   "cell_type": "markdown",
   "id": "5bb1c7c6-b3e0-49a1-8823-c3c4a7ab3fef",
   "metadata": {},
   "source": [
    "<hr>\n",
    "<p style = 'font-size:18px;font-family:Arial;color:#E37C4D'><b>7.2 - Evaluate the Model</b></p>\n",
    "\n",
    "<p style = 'font-size:16px;font-family:Arial'>Execute a testing prediction using the split data above.  Evaluate the model by creating a confusion matrix with the <a href = 'https://docs.teradata.com/search/all?query=TD_ClassificationEvaluator&content-lang=en-US'>TD_ClassificationEvaluator</a> SQL Function.</p>\n",
    "\n",
    "\n",
    "<ol style = 'font-size:16px;font-family:Arial'>\n",
    "    <li>Execute <a href = 'https://docs.teradata.com/r/Teradata-VantageTM-Analytics-Database-Analytic-Functions-17.20/Model-Scoring-Functions/DecisionForestPredict'>DecisionForestPredict</a> using the model built above</li>\n",
    "    <li>Execute <a href = 'https://docs.teradata.com/search/all?query=TD_ClassificationEvaluator&content-lang=en-US'>TD_ClassificationEvaluator</a> and pass the actual classification and the predicted value</li>\n",
    "</ol>"
   ]
  },
  {
   "cell_type": "code",
   "execution_count": null,
   "id": "a69cc110-08fa-4d00-aa5b-fe541c305671",
   "metadata": {},
   "outputs": [],
   "source": [
    "query = '''\n",
    "create multiset table DF_predict_test as (\n",
    "    select * from DecisionForestPredict (\n",
    "        ON pd_speech_features_test PARTITION BY ANY\n",
    "        ON DF_table as Model dimension\n",
    "        using\n",
    "        IDColumn ('id')\n",
    "        OutputProb ('true')\n",
    "        Responses ('0', '1')\n",
    "        Accumulate ('\"class\"')\n",
    "    ) as dt\n",
    ") with data;\n",
    "'''\n",
    "\n",
    "try:\n",
    "    eng.execute(query)\n",
    "except:\n",
    "    eng.execute('DROP TABLE DF_predict_test;')\n",
    "    eng.execute(query)\n",
    "\n",
    "pd.read_sql('SELECT * FROM DF_predict_test', eng)"
   ]
  },
  {
   "cell_type": "markdown",
   "id": "39d5c169-a296-439c-a799-1e0d5970df36",
   "metadata": {},
   "source": [
    "<p style = 'font-size:16px;font-family:Arial'>The TD_DecisionForestPredict function creates probabilities for the prediction made depending on the class and the Id cloumns. The output of the predict function is passed to the Classification Evaluator to get the parameters of the functions.</p>\n",
    "\n",
    "<p style = 'font-size:16px;font-family:Arial'>DecisionForestPredict outputs the probability that each observation is in the predicted class. To use DecisionForestPredict output as input to ML Engine ROC function, you must first transform it to show the probability that each observation is in the positive class. One way to do this is to change the probability to (1- current probability) when the predicted class is negative.The prediction algorithm compares floating-point numbers. Due to possible inherent data type differences between ML Engine and Analytics Database executions, predictions can differ.</p>\n"
   ]
  },
  {
   "cell_type": "markdown",
   "id": "f35d7512-bffa-4925-95ad-2a9c2c4cd7bc",
   "metadata": {},
   "source": [
    "<p style = 'font-size:16px;font-family:Arial'>We create the Confusion Matrix to compare the actual and the Predicted values. Confusion matrix is a very popular measure used while solving classification problems. It can be applied to binary classification as well as for multiclass classification problems. Confusion matrices represent counts from predicted and actual values. It is an N x N matrix used for evaluating the performance of a classification model, where N is the number of target classes.</p>\n"
   ]
  },
  {
   "cell_type": "code",
   "execution_count": null,
   "id": "7622b18e-7bbf-4c14-8a9e-16b2b81eb3cb",
   "metadata": {},
   "outputs": [],
   "source": [
    "from sklearn.metrics import confusion_matrix, ConfusionMatrixDisplay\n",
    "df = pd.read_sql('SELECT id, cast(\"class\" as int) \"class\", cast(prediction as int) prediction FROM DF_predict_test', eng)\n",
    "cm = confusion_matrix(df['class'], df['prediction'], normalize='all')\n",
    "cmd = ConfusionMatrixDisplay(cm, display_labels=['DoesNotHaveParkinson', 'HasParkinson'])\n",
    "cmd.plot()"
   ]
  },
  {
   "cell_type": "markdown",
   "id": "883a9c2b-3284-4535-baf4-176d9ecc3430",
   "metadata": {},
   "source": [
    "<hr>\n",
    "<p style = 'font-size:18px;font-family:Arial;color:#E37C4D'><b>7.3 - Use classification Evaluator for DecisionForestPredict</b></p>\n",
    "\n",
    "<p style = 'font-size:16px;font-family:Arial'>Evaluate the model by creating a confusion matrix with the <a href = 'https://docs.teradata.com/search/all?query=TD_ClassificationEvaluator&content-lang=en-US'>TD_ClassificationEvaluator</a> SQL Function.</p>\n",
    "\n",
    "<p style = 'font-size:16px;font-family:Arial'>In classification problems, a confusion matrix is used to visualize the performance of a classifier. The confusion matrix contains predicted labels represented across the row-axis and actual labels represented\n",
    "across the column-axis. Each cell in the confusion matrix corresponds to the count of occurrences of labels\n",
    "in the test data.</p>\n",
    "\n",
    "<p style = 'font-size:16px;font-family:Arial'>Apart from accuracy, the secondary output table returns micro, macro, and weighted-averaged metrics of precision, recall, and F1-score values.</p>\n"
   ]
  },
  {
   "cell_type": "code",
   "execution_count": null,
   "id": "c2b7471e-a023-4269-a509-8bcc36602843",
   "metadata": {},
   "outputs": [],
   "source": [
    "query = '''\n",
    "SELECT * FROM TD_ClassificationEvaluator(\n",
    "   ON (select prediction, cast(\"class\" as VARCHAR(32000) CHARACTER SET UNICODE NOT CASESPECIFIC) as \"class\" from DF_predict_test) AS InputTable\n",
    "   OUT VOLATILE TABLE OutputTable(additional_metrics_speech_test)\n",
    "   USING\n",
    "   ObservationColumn('\"class\"')\n",
    "   PredictionColumn('prediction')\n",
    "   Labels('0','1')\n",
    ") AS dt;\n",
    "'''\n",
    "\n",
    "try:\n",
    "    eng.execute(query)\n",
    "except:\n",
    "    eng.execute('DROP TABLE additional_metrics_speech_test;')\n",
    "    eng.execute(query)\n",
    "\n",
    "pd.read_sql('SELECT * FROM additional_metrics_speech_test', eng)"
   ]
  },
  {
   "cell_type": "markdown",
   "id": "c681131e-4252-4eb9-be4f-dc887a203864",
   "metadata": {},
   "source": [
    "<p style = 'font-size:16px;font-family:Arial'>The above output has the secondary output table that returns micro, macro, and weighted-averaged metrics of precision, recall, and F1-score values.</p>\n",
    "<table style = 'font-size:16px;font-family:Arial'>\n",
    "  <tr>\n",
    "    <th>Column</th>\n",
    "    <th>Description</th>\n",
    "  </tr>\n",
    "  <tr>\n",
    "    <td>Precision</td>\n",
    "    <td>The positive predictive value. Refers to the fraction of relevant instances among\n",
    "the total retrieved instances.</td>\n",
    "  </tr>\n",
    "  <tr>\n",
    "    <td>Recall</td>\n",
    "    <td>Refers to the fraction of relevant instances retrieved over the total amount of\n",
    "relevant instances.</td>\n",
    "  </tr>\n",
    "  <tr>\n",
    "    <td>F1</td>\n",
    "    <td>F1 score, defined as the harmonic mean of the precision and recall.</td>\n",
    "  </tr>\n",
    "  <tr>\n",
    "    <td>Support</td>\n",
    "    <td>The number of times a label displays in the ObservationColumn.</td>\n",
    "  </tr>\n",
    "</table>"
   ]
  },
  {
   "cell_type": "markdown",
   "id": "663350b7-61c1-497f-8adb-b77ca03128b2",
   "metadata": {},
   "source": [
    "<hr>\n",
    "<p style = 'font-size:20px;font-family:Arial;color:#E37C4D'><b>8. Generalized Linear Model(GLM)</b></p>\n",
    "<p style = 'font-size:18px;font-family:Arial;color:#E37C4D'><b>8.1 - Train a GLM Model</b></p>\n",
    "\n",
    "<p style = 'font-size:16px;font-family:Arial'>The <a href = 'https://docs.teradata.com/search/all?query=TD_GLM&content-lang=en-US'>Generalized Linear Model (GLM)</a> is an extension of the linear regression model that enables the linear equation to relate to the dependent variables by a link function. The GLM function supports several distribution families and associated link functions. </p>\n",
    "\n",
    "<p style = 'font-size:16px;font-family:Arial'>This function takes the training data as input, as well as the following function parameters</p>\n",
    "    <ul style = 'font-size:16px;font-family:Arial'>\n",
    "        <li>InputColumns; list or range of columns used as features (we used an ordinal reference of columns 2:753)</li>\n",
    "        <li>ResponseColumn; the dependend or target value (we used “class”, the first column) </li>\n",
    "        <li>Family; either Binomial or Gaussian</li>\n",
    "    <li>Other hyperparameter values detailed in the documentation</li>\n",
    "        </ul>\n",
    "        \n",
    "<p style = 'font-size:16px;font-family:Arial'>Feature engineering transform functions encapsulate variable transformations during the training phase so you can chain them to create a pipeline for operationalization.</p>\n",
    "<p style = 'font-size:16px;font-family:Arial'>Each TD_nameFit function outputs a table to input to the TD_nameTransform function as FitTable. For example, TD_ScaleFit outputs a FitTable for TD_ScaleTransform. We are using the mean ScaleMethod for this case.</p>"
   ]
  },
  {
   "cell_type": "code",
   "execution_count": null,
   "id": "fb72d64e-e0c3-4388-b645-e72c63801583",
   "metadata": {},
   "outputs": [],
   "source": [
    "%%time\n",
    "query = '''select * from TD_scaleFit(\n",
    "on pd_speech_features_train as InputTable\n",
    "OUT VOLATILE TABLE OutputTable(scaleFitOut_train)\n",
    "using\n",
    "TargetColumns('[2:753]')\n",
    "MissValue('Keep')\n",
    "ScaleMethod('mean')\n",
    "GlobalScale('f')\n",
    ")as dt;\n",
    "'''\n",
    "\n",
    "try:\n",
    "    eng.execute(query)\n",
    "except:\n",
    "    eng.execute('DROP TABLE scaleFitOut_train;')\n",
    "    eng.execute(query)\n",
    "\n",
    "pd.read_sql('SELECT * FROM scaleFitOut_train', eng)"
   ]
  },
  {
   "cell_type": "markdown",
   "id": "6107a313-f2f5-4746-b93b-e19b8f0c68e4",
   "metadata": {},
   "source": [
    "<p style = 'font-size:16px;font-family:Arial'>Using the mean ScaleMethod the ScaleFit function calculates the mean values of each feature used and the output of this ScaleFit function is used in the TD_ScaleTransform function as the fit table.</p>"
   ]
  },
  {
   "cell_type": "code",
   "execution_count": null,
   "id": "c2ed3c56-ca64-4e17-be4d-89ab9ef16968",
   "metadata": {},
   "outputs": [],
   "source": [
    "%%time\n",
    "query = '''Create table Trasformed_data_train as( SELECT * FROM TD_scaleTransform (\n",
    "ON pd_speech_features_train AS InputTable\n",
    "ON scaleFitOut_train AS FitTable DIMENSION\n",
    "USING\n",
    "Accumulate ('id','\"class\"')\n",
    ") AS dt )with data;\n",
    "'''\n",
    "\n",
    "#eng.execute(query)\n",
    "\n",
    "try:\n",
    "    eng.execute(query)\n",
    "except:\n",
    "    eng.execute('DROP TABLE Trasformed_data_train;')\n",
    "    eng.execute(query)\n",
    "\n",
    "pd.read_sql('SELECT * FROM Trasformed_data_train', eng)"
   ]
  },
  {
   "cell_type": "markdown",
   "id": "fc7dc1f9-c3bb-4877-9fb0-29d5cdfda585",
   "metadata": {},
   "source": [
    "<p style = 'font-size:16px;font-family:Arial'>Using the ScaleTransform method, we tranform the values of the features to make them more feasible for th GLM model. Here we are tranforming the training data.</p>"
   ]
  },
  {
   "cell_type": "code",
   "execution_count": null,
   "id": "d3d328d3-3e4d-45fe-bb3a-a37979af2691",
   "metadata": {},
   "outputs": [],
   "source": [
    "%%time\n",
    "query = '''Create table Trasformed_data_test as( SELECT * FROM TD_scaleTransform (\n",
    "ON pd_speech_features_test AS InputTable\n",
    "ON scaleFitOut_train AS FitTable DIMENSION\n",
    "USING\n",
    "Accumulate ('id','\"class\"')\n",
    ") AS dt )with data;\n",
    "'''\n",
    "\n",
    "#eng.execute(query)\n",
    "\n",
    "try:\n",
    "    eng.execute(query)\n",
    "except:\n",
    "    eng.execute('DROP TABLE Trasformed_data_test;')\n",
    "    eng.execute(query)\n",
    "\n",
    "pd.read_sql('SELECT * FROM Trasformed_data_test', eng)"
   ]
  },
  {
   "cell_type": "markdown",
   "id": "909cb408-f928-4e0a-87e4-ae2e6799e299",
   "metadata": {},
   "source": [
    "<p style = 'font-size:16px;font-family:Arial'>Using the ScaleTransform method, we tranform the values of the features to make them more feasible for th GLM model. Here we are tranforming the data for scoring.</p>"
   ]
  },
  {
   "cell_type": "code",
   "execution_count": null,
   "id": "1455eeae-1ccd-4cb2-ad54-12e40203272e",
   "metadata": {},
   "outputs": [],
   "source": [
    "%%time\n",
    "query = '''\n",
    "CREATE TABLE td_glm_output AS (\n",
    "SELECT * FROM td_glm (\n",
    "ON Transformed_data_train\n",
    "USING\n",
    "InputColumns('[2:353]')\n",
    "ResponseColumn('\"class\"')\n",
    "Family('Binomial')\n",
    "BatchSize(200)\n",
    "MaxIterNum(300)\n",
    "RegularizationLambda(0.02)\n",
    "Alpha(0.15)\n",
    "IterNumNoChange(50)\n",
    "Tolerance(0.001)\n",
    "Intercept('true')\n",
    "LearningRate('optimal')\n",
    "InitialEta(0.001)\n",
    "Momentum(0.0)\n",
    "LocalSGDIterations(0)\n",
    ") AS dt\n",
    ") WITH DATA\n",
    ";\n",
    "'''\n",
    "\n",
    "try:\n",
    "    eng.execute(query)\n",
    "except:\n",
    "    eng.execute('DROP TABLE td_glm_output;')\n",
    "    eng.execute(query)\n",
    "\n",
    "pd.read_sql('SELECT * FROM td_glm_output', eng)"
   ]
  },
  {
   "cell_type": "markdown",
   "id": "e02e8116-33d7-423a-ba9e-5314ee713b77",
   "metadata": {},
   "source": [
    "<p style = 'font-size:16px;font-family:Arial'>The TD_GLM function creates various output predictors and values based on the above parameters passed in the query</p>\n",
    "\n",
    "<p style = 'font-size:16px;font-family:Arial'>The function output is a trained GLM model which can be input to the TD_GLMPredict function\n",
    "for prediction. The model also contains model statistics of MSE, Loglikelihood, AIC, and BIC.\n",
    "Further model evaluation can be done as a post-processing step using functions such as\n",
    "TD_RegressionEvaluator,TD_ClassificationEvaluator and TD_ROC.</p>\n"
   ]
  },
  {
   "cell_type": "markdown",
   "id": "728bfe6b-aac7-4cdb-80b1-5387520ef636",
   "metadata": {},
   "source": [
    "<p style = 'font-size:16px;font-family:Arial;> The TD_DecisionForest function creates a tree as seen in the output above based on the parameters applied in the query. </b></p>\n",
    "\n"
   ]
  },
  {
   "cell_type": "markdown",
   "id": "b56d4594-3ae6-4c29-9eb0-2ef1c736d4b5",
   "metadata": {},
   "source": [
    "<hr>\n",
    "<p style = 'font-size:18px;font-family:Arial;color:#E37C4D'><b>8.2 - Evaluate the Model</b></p>\n",
    "\n",
    "<p style = 'font-size:16px;font-family:Arial'>Execute a testing prediction using the split data above.  Evaluate the model by creating a confusion matrix with the <a href = 'https://docs.teradata.com/search/all?query=TD_ClassificationEvaluator&content-lang=en-US'>TD_ClassificationEvaluator</a> SQL Function.</p>\n",
    "\n",
    "\n",
    "<ol style = 'font-size:16px;font-family:Arial'>\n",
    "    <li>Execute <a href = 'https://docs.teradata.com/search/all?query=TD_GLMPredict&content-lang=en-US'>GLMPredict</a> using the model built above</li>\n",
    "    <li>Execute <a href = 'https://docs.teradata.com/search/all?query=TD_ClassificationEvaluator&content-lang=en-US'>TD_ClassificationEvaluator</a> and pass the actual classification and the predicted value</li>\n",
    "</ol>"
   ]
  },
  {
   "cell_type": "code",
   "execution_count": null,
   "id": "2db61972-c2c2-4fa0-a05d-4baf76331f9e",
   "metadata": {},
   "outputs": [],
   "source": [
    "query = '''\n",
    "CREATE TABLE vt_glm_predict AS (\n",
    "SELECT * from TD_GLMPredict (\n",
    "ON Transformed_data_test AS INPUTTABLE\n",
    "ON td_glm_output AS Model DIMENSION\n",
    "USING\n",
    "IDColumn ('ID')\n",
    "Accumulate('\"class\"')\n",
    "OutputProb('true')\n",
    "Responses ('0','1')\n",
    ") AS dt\n",
    ") WITH DATA\n",
    ";\n",
    "'''\n",
    "\n",
    "try:\n",
    "    eng.execute(query)\n",
    "except:\n",
    "    eng.execute('DROP TABLE vt_glm_predict;')\n",
    "    eng.execute(query)\n",
    "\n",
    "pd.read_sql('SELECT * FROM vt_glm_predict', eng)"
   ]
  },
  {
   "cell_type": "markdown",
   "id": "5dd40f9c-3a46-4f87-987c-d86e4459d3e6",
   "metadata": {},
   "source": [
    "<p style = 'font-size:16px;font-family:Arial'>The TD_GLMPredict function predicts target values (regression) and class labels (classification) for test data using a GLM model trained by the TD_GLM function.Similar to TD_GLM, input features should be standardized, such as using TD_ScaleFit, and TD_ScaleTransform, before using in the function. The function takes only numeric features. The categorical\n",
    "features must be converted to numeric values prior to prediction.</p>\n",
    "\n",
    "<p style = 'font-size:16px;font-family:Arial'>Rows with missing (null) values are skipped by the function during prediction. For prediction results evaluation, you can use TD_RegressionEvaluator, TD_ClassificationEvaluator or TD_ROC function as\n",
    "postprocessing step.</p>\n"
   ]
  },
  {
   "cell_type": "markdown",
   "id": "ad90cfeb-f928-4ba3-b188-3a38ce76f6a0",
   "metadata": {},
   "source": [
    "<hr>\n",
    "<p style = 'font-size:18px;font-family:Arial;color:#E37C4D'><b>8.3 - Use classification Evaluator for GLMPredict</b></p>\n",
    "\n",
    "<p style = 'font-size:16px;font-family:Arial'>Evaluate the model by creating a confusion matrix with the <a href = 'https://docs.teradata.com/search/all?query=TD_ClassificationEvaluator&content-lang=en-US'>TD_ClassificationEvaluator</a> SQL Function.</p>\n",
    "\n"
   ]
  },
  {
   "cell_type": "markdown",
   "id": "3c852363-5102-49ec-8a3c-19cc9d9d25e1",
   "metadata": {},
   "source": [
    "<p style = 'font-size:16px;font-family:Arial'>Since TD_ClassificationEvaluator requires same datatype for prediction and class columns so creating another table with same datatype.</p>"
   ]
  },
  {
   "cell_type": "code",
   "execution_count": null,
   "id": "76f91ec9-ef77-4f89-9f07-e280e5cbbe3e",
   "metadata": {},
   "outputs": [],
   "source": [
    "query = '''CREATE SET TABLE vt_glm_predict_conv ,FALLBACK ,\n",
    "     CHECKSUM = DEFAULT,\n",
    "     DEFAULT MERGEBLOCKRATIO,\n",
    "     MAP = TD_MAP1,\n",
    "     LOG\n",
    "     (\n",
    "      id BIGINT,\n",
    "      prediction INT,\n",
    "      \"class\" INT,\n",
    "            prob_0 FLOAT,\n",
    "      prob_1 FLOAT\n",
    "\n",
    ")PRIMARY INDEX ( id )\n",
    ";\n",
    "'''\n",
    "\n",
    "try:\n",
    "    eng.execute(query)\n",
    "except:\n",
    "    eng.execute('DROP TABLE vt_glm_predict_conv;')\n",
    "    eng.execute(query)\n",
    "\n",
    "query = '''insert into vt_glm_predict_conv sel id , cast(prediction as int), \"class\" , prob_0, prob_1 from vt_glm_predict;'''\n",
    "eng.execute(query)    "
   ]
  },
  {
   "cell_type": "markdown",
   "id": "29dff5f7-6748-41c4-a2c7-a3ffefbda815",
   "metadata": {},
   "source": [
    "<p style = 'font-size:16px;font-family:Arial'>Create CONFUSION MATRIX for the GLM Predict model.</p>"
   ]
  },
  {
   "cell_type": "code",
   "execution_count": null,
   "id": "2a076266-37fc-4576-8ee7-6ddcdeaf1a05",
   "metadata": {},
   "outputs": [],
   "source": [
    "from sklearn.metrics import confusion_matrix, ConfusionMatrixDisplay\n",
    "df_glm = pd.read_sql('SELECT * FROM vt_glm_predict_conv', eng)\n",
    "cm = confusion_matrix(df_glm['class'], df_glm['prediction'], normalize='all')\n",
    "cmd = ConfusionMatrixDisplay(cm, display_labels=['DoesNotHaveParkinson', 'HasParkinson'])\n",
    "cmd.plot()"
   ]
  },
  {
   "cell_type": "code",
   "execution_count": null,
   "id": "ba548f4e-be6d-40d4-b474-a3d1c5c635c0",
   "metadata": {
    "tags": []
   },
   "outputs": [],
   "source": [
    "query = '''\n",
    "SELECT * FROM TD_ClassificationEvaluator(\n",
    "       ON (select prediction,  \"class\" from vt_glm_predict_conv) AS InputTable\n",
    "       OUT TABLE OutputTable(additional_metrics_speech_test_glm)\n",
    "       USING\n",
    "       ObservationColumn('\"class\"')\n",
    "       PredictionColumn('prediction')\n",
    "       Labels(0,1)\n",
    "    ) AS dt;\n",
    "'''\n",
    "\n",
    "try:\n",
    "    eng.execute(query)\n",
    "except:\n",
    "    eng.execute('DROP TABLE additional_metrics_speech_test_glm;')\n",
    "    eng.execute(query)\n",
    "\n",
    "pd.read_sql('SELECT * FROM additional_metrics_speech_test_glm', eng)"
   ]
  },
  {
   "cell_type": "markdown",
   "id": "3529157f-b9a6-4253-8400-f9afc3091590",
   "metadata": {},
   "source": [
    "<p style = 'font-size:20px;font-family:Arial;color:#E37C4D'><b>9. Comparison of the Metrics generated by the 2 Models. Decision Forest vs GLM</b></p>"
   ]
  },
  {
   "cell_type": "code",
   "execution_count": null,
   "id": "b4ea70c9-4ce7-4297-9849-d86582d2d21f",
   "metadata": {},
   "outputs": [],
   "source": [
    "query = '''CREATE MULTISET TABLE metric_union as (select cast('DecisionForest' as VARCHAR(15)) as Model, trim(Metric) as Metric,MetricValue from additional_metrics_speech_test a \n",
    "union all \n",
    "select 'GLM' as Model ,  trim(Metric) as Metric,MetricValue from additional_metrics_speech_test_glm b\n",
    ")with data PRIMARY INDEX (Metric)\n",
    ";\n",
    "'''\n",
    "\n",
    "try:\n",
    "    eng.execute(query)\n",
    "except:\n",
    "    eng.execute('DROP TABLE metric_union;')\n",
    "    eng.execute(query)\n",
    "    \n",
    "df_chart = pd.read_sql('select * from metric_union', eng)\n"
   ]
  },
  {
   "cell_type": "code",
   "execution_count": null,
   "id": "6c2d8a62-4732-40e6-b37b-e01d782efaac",
   "metadata": {},
   "outputs": [],
   "source": [
    "from matplotlib import pyplot as plt\n",
    "df_chart['Metric'] = df_chart['Metric'].str.replace(r'\\x00', '')\n",
    "df_pivot = pd.pivot_table(\n",
    "df_chart,\n",
    "values=\"MetricValue\",\n",
    "index=\"Metric\",\n",
    "columns=\"Model\"\n",
    ")\n",
    "#df_chart.plot.bar(x='Metric',y='MetricValue' , legend='model')\n",
    "ax=df_pivot.plot(kind='bar')\n",
    "# Get a Matplotlib figure from the axes object for formatting purposes\n",
    "fig = ax.get_figure()\n",
    "# Change the plot dimensions (width, height)\n",
    "fig.set_size_inches(12, 6)\n",
    "# Change the axes labels\n",
    "ax.set_xlabel(\"Metrics\")\n",
    "ax.set_ylabel(\"Metric Values\")"
   ]
  },
  {
   "cell_type": "markdown",
   "id": "cefce3e7-2df3-4d19-9edb-c77d30d03fbd",
   "metadata": {},
   "source": [
    "<p style = 'font-size:16px;font-family:Arial'>Thus here we have used 2 different models to train and predict the data. The classification evaluator is used to evaluate and compare the models. The Teradata In-Database functions are used for training, prediction and evaluation. In this case since we have sample data the result parameters like the Accuracy, Precision, Recall etc. may not be accurate for both the models, still from the above graph we can conclude that in this case TD_DecisionForest is better TD_GLM.  \n"
   ]
  },
  {
   "cell_type": "markdown",
   "id": "tutorial-lying",
   "metadata": {},
   "source": [
    "<hr>\n",
    "<p style = 'font-size:20px;font-family:Arial;color:#E37C4D'><b>10. Cleanup</b></p>\n",
    "<p style = 'font-size:18px;font-family:Arial;color:#E37C4D'><b>Work Tables</b></p>"
   ]
  },
  {
   "cell_type": "code",
   "execution_count": null,
   "id": "dfae1080-a4ba-4796-8c16-212beb769ee5",
   "metadata": {},
   "outputs": [],
   "source": [
    "eng.execute('DROP TABLE pd_speech_features_train;')"
   ]
  },
  {
   "cell_type": "code",
   "execution_count": null,
   "id": "possible-geneva",
   "metadata": {},
   "outputs": [],
   "source": [
    "eng.execute('DROP TABLE pd_speech_features_test;')"
   ]
  },
  {
   "cell_type": "code",
   "execution_count": null,
   "id": "b0f3c99b-57ee-458c-a1b0-86c7b279374d",
   "metadata": {},
   "outputs": [],
   "source": [
    "eng.execute('DROP TABLE DF_table;')"
   ]
  },
  {
   "cell_type": "code",
   "execution_count": null,
   "id": "moved-multiple",
   "metadata": {},
   "outputs": [],
   "source": [
    "eng.execute('DROP TABLE DF_predict_test;')"
   ]
  },
  {
   "cell_type": "code",
   "execution_count": null,
   "id": "sublime-laptop",
   "metadata": {},
   "outputs": [],
   "source": [
    "eng.execute('DROP TABLE additional_metrics_speech_test;')"
   ]
  },
  {
   "cell_type": "code",
   "execution_count": null,
   "id": "29bee73e-aa0e-4030-bb9b-2a4f8219b45c",
   "metadata": {},
   "outputs": [],
   "source": [
    "eng.execute('DROP TABLE td_glm_output;')"
   ]
  },
  {
   "cell_type": "code",
   "execution_count": null,
   "id": "46f96a3e-1f49-4d25-8b35-302d93830125",
   "metadata": {},
   "outputs": [],
   "source": [
    "eng.execute('DROP TABLE vt_glm_predict_conv;')"
   ]
  },
  {
   "cell_type": "code",
   "execution_count": null,
   "id": "d3a1fa0c-d539-453b-8278-ad4057dc6d4a",
   "metadata": {},
   "outputs": [],
   "source": [
    "eng.execute('DROP TABLE vt_glm_predict;')"
   ]
  },
  {
   "cell_type": "code",
   "execution_count": null,
   "id": "db771ad4-ace8-42c2-b247-3613e9744337",
   "metadata": {},
   "outputs": [],
   "source": [
    "eng.execute('DROP TABLE additional_metrics_speech_test_glm;')"
   ]
  },
  {
   "cell_type": "code",
   "execution_count": null,
   "id": "9721411d-3a99-43da-9d75-045d5bd42d3f",
   "metadata": {},
   "outputs": [],
   "source": [
    "eng.execute('DROP TABLE metric_union;')"
   ]
  },
  {
   "cell_type": "code",
   "execution_count": null,
   "id": "f760ecb8-cefe-4678-bffc-b3d6e73649d1",
   "metadata": {},
   "outputs": [],
   "source": [
    "eng.execute('DROP TABLE Trasformed_data_train;')"
   ]
  },
  {
   "cell_type": "code",
   "execution_count": null,
   "id": "228f7eb1-992c-47f6-bbc0-abcc33756d9c",
   "metadata": {},
   "outputs": [],
   "source": [
    "eng.execute('DROP TABLE Trasformed_data_test;')"
   ]
  },
  {
   "cell_type": "markdown",
   "id": "b4ddd629-53b5-4c4d-91b1-01c4aa61bc75",
   "metadata": {},
   "source": [
    "<p style = 'font-size:18px;font-family:Arial;color:#E37C4D'><b>Databases and Tables</b></p>\n",
    "<p style = 'font-size:16px;font-family:Arial'>The following code will clean up tables and databases created above.</p>"
   ]
  },
  {
   "cell_type": "code",
   "execution_count": null,
   "id": "23ff81f2-eadc-48fb-9047-5a688ec929fd",
   "metadata": {},
   "outputs": [],
   "source": [
    "%run -i ../run_procedure.py \"call remove_data('DEMO_ParkinsonsDisease');\" \n",
    "#Takes 45 seconds"
   ]
  },
  {
   "cell_type": "markdown",
   "id": "julian-modern",
   "metadata": {},
   "source": [
    "<footer style=\"padding:10px;background:#f9f9f9;border-bottom:3px solid #394851\">Copyright © Teradata Corporation - 2023. All Rights Reserved.</footer>"
   ]
  }
 ],
 "metadata": {
  "kernelspec": {
   "display_name": "Python 3 (ipykernel)",
   "language": "python",
   "name": "python3"
  },
  "language_info": {
   "codemirror_mode": {
    "name": "ipython",
    "version": 3
   },
   "file_extension": ".py",
   "mimetype": "text/x-python",
   "name": "python",
   "nbconvert_exporter": "python",
   "pygments_lexer": "ipython3",
   "version": "3.9.10"
  }
 },
 "nbformat": 4,
 "nbformat_minor": 5
}
