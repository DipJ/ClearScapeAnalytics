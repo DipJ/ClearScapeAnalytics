{
 "cells": [
  {
   "cell_type": "markdown",
   "id": "acquired-consideration",
   "metadata": {},
   "source": [
    "<header style=\"padding:1px;background:#f9f9f9;border-top:3px solid #00b2b1\"><img id=\"Teradata-logo\" src=\"https://www.teradata.com/Teradata/Images/Rebrand/Teradata_logo-two_color.png\" alt=\"Teradata\" width=\"220\" align=\"right\" />\n",
    "\n",
    "<b style = 'font-size:28px;font-family:Arial;color:#E37C4D'>Energy Consumption Forecasting using AzureML</b>\n",
    "</header>"
   ]
  },
  {
   "cell_type": "markdown",
   "id": "0701a2ac-9d7c-4498-a23c-7ae3955f6a32",
   "metadata": {},
   "source": [
    "<p style = 'font-size:18px;font-family:Arial;color:#E37C4D'><b>Introduction:</b></p>\n",
    "\n",
    "<p style = 'font-size:16px;font-family:Arial'>In this business use case, we leverage the power of AzureML and Teradata Vantage to enhance our machine learning capabilities and enable scalable model scoring. Our goal is to efficiently utilize the strengths of both platforms to streamline our data analysis and decision-making processes.\n",
    "<br>\n",
    "<!-- <img src=\"images/microsoft-global-partnership-with-teradata.jpg\" alt=\"Microsoft X Teradata\"> -->\n",
    "<br>\n",
    "<strong>Azure Machine Learning (AzureML):</strong> AzureML is a cloud-based platform provided by Microsoft, designed to simplify and accelerate the end-to-end machine learning workflow. It enables data scientists and developers to collaborate on data preparation, model training, and model deployment with ease, utilizing various frameworks and libraries for building intelligent applications.</p>\n",
    "\n",
    "<p style = 'font-size:16px;font-family:Arial;color:#E37C4D'><b>Key Highlights of the Demo:</b></p>\n",
    "<ol style = 'font-size:16px;font-family:Arial'>\n",
    "    <li><strong>Data Preparation and Exploration:</strong> We will explore the data in Teradata Vantage and get it ready for training our model.</li>\n",
    "    <li><strong>Model Training and Evaluation:</strong> Using AzureML, we'll create a tailored machine learning model for our usecase.</li>\n",
    "    <li><strong>Inference using Teradata Vantage:</strong> Finally, we'll show how Teradata Vantage can run the AzureML model we trained. This lets us make predictions quickly and efficiently, right from the Vantage platform using BYOM (Bring Your Own Model).</li>\n",
    "</ol>\n",
    "<p style = 'font-size:16px;font-family:Arial;color:#E37C4D'><b>Dataset:</b></p>\n",
    "<p style = 'font-size:16px;font-family:Arial'>The dataset used in this demo represents electricity consumption in Norway from the 1st of January 2016 to the 31st of August 2019. Each line in this dataset reflects consumption for one hour. Apart from electricity consumption, this datamart also reflects additional data: weather from multiple sources, daylight information and labour calendar. We collected all data from open data sources.</p>\n",
    "\n",
    "<p style = 'font-size:16px;font-family:Arial'><b>But what if I don't have AzureML?</b> Don't worry, we will execute the steps before AzureML would be used, show you screen shots of what the AzureML user would be doing, and then we've included the completed model that you will import into Vantage for scoring.</p>"
   ]
  },
  {
   "cell_type": "markdown",
   "id": "b85119eb-78d0-4d48-9ce4-01fb2709f146",
   "metadata": {},
   "source": [
    "<hr>\n",
    "<b style = 'font-size:28px;font-family:Arial;color:#E37C4D'>1. Initial setup</b>\n",
    "<p style = 'font-size:18px;font-family:Arial;color:#E37C4D'><b>1.1 Downloading and installing additional software needed</b>"
   ]
  },
  {
   "cell_type": "code",
   "execution_count": null,
   "id": "7cce3f40-bf70-4c64-9152-6fb67c325924",
   "metadata": {
    "tags": []
   },
   "outputs": [],
   "source": [
    "%%capture\n",
    "!pip install azureml-core azureml"
   ]
  },
  {
   "cell_type": "markdown",
   "id": "50f454b5-59b8-43be-9c3b-6d720b42738d",
   "metadata": {},
   "source": [
    "<p style = 'font-size:16px;font-family:Arial'><i>The above statements may need to be uncommented if you run the notebooks on a platform other than ClearScape Analytics Experience that does not have the libraries installed. If you uncomment those installs, be sure to restart the kernel after executing those lines to bring the installed libraries into memory. The simplest way to restart the Kernel is by typing zero zero: <b> 0 0</b></i></p>"
   ]
  },
  {
   "cell_type": "markdown",
   "id": "884e509c-0630-4efd-9778-1c5142689dea",
   "metadata": {},
   "source": [
    "<hr>\n",
    "<a id=\"anchor\"></a>\n",
    "<p style = 'font-size:18px;font-family:Arial;color:#E37C4D'><b>1.2 Setting up Azure credentials</b>\n",
    "\n",
    "<p style=\"font-size: 16px; font-family: Arial;color:#E37C4D\"><b>Required Azure Credentials:</b></p>\n",
    "<ul style=\"font-size: 16px; font-family: Arial;\">\n",
    "    <li><strong>Tenant ID:</strong> This is a unique identifier for the Azure Active Directory (AAD) tenant associated with the Azure subscription.</li>\n",
    "    <li><strong>Subscription ID:</strong> It is a unique identifier for the Azure subscription, which represents the purchased plan and services.</li>\n",
    "    <li><strong>Resource Group</strong>: Azure organizes resources into resource groups, which help manage and monitor related resources as a single unit.</li>\n",
    "    <li><strong>Workspace Name:</strong> This is the name of the Azure Machine Learning Workspace, which provides a centralized location to work with machine learning resources.</li>\n",
    "    <li><strong>ClearScape Host:</strong> This is a host of a ClearScape machine.</li>\n",
    "</ul>\n",
    "\n",
    "<p style=\"font-size: 16px; font-family: Arial;color:#E37C4D\"><b>How to Get These Inputs:</b></p>\n",
    "<ol style=\"font-size: 16px; font-family: Arial;\">\n",
    "    <li><strong>Tenant ID, Subscription ID, and Resource Group:</strong> These credentials are related to your Azure account and subscription. If you already have an Azure account and an active subscription, you can find these credentials in the Azure portal. Here's how:\n",
    "        <ul style=\"font-size: 16px; font-family: Arial;\">\n",
    "            <li><a href=\"https://docs.microsoft.com/azure/active-directory/fundamentals/active-directory-how-to-find-tenant\">Find your tenant ID</a></li>\n",
    "            <li><a href=\"https://learn.microsoft.com/en-us/azure/azure-portal/get-subscription-tenant-id\">Find your subscription ID</a></li>\n",
    "            <li><a href=\"https://docs.microsoft.com/azure/azure-resource-manager/management/manage-resource-groups-portal\">Create and manage Azure resource groups</a></li>\n",
    "        </ul>\n",
    "    </li>\n",
    "    <li><strong>Workspace Name:</strong> If you have already set up an Azure Machine Learning Workspace, you can use the name of the workspace you created. If not, you can create one by following the steps in the Azure Machine Learning documentation:\n",
    "        <ul style=\"font-size: 16px; font-family: Arial;\">\n",
    "            <li><a href=\"https://docs.microsoft.com/azure/machine-learning/how-to-manage-workspace#create-a-workspace\">Create an Azure Machine Learning Workspace</a></li>\n",
    "        </ul>\n",
    "    </li>\n",
    "    <li><strong>ClearScape Host:</strong> The ClearScape host is shown on the <a href = \"https://clearscape.teradata.com/dashboard\">Clearscape dashboard</a> for this machine.</li>\n",
    "</ol>\n",
    "\n",
    "<p style=\"font-size: 16px; font-family: Arial;color:#E37C4D\"><b>No Azure Credentials:</b></p>\n",
    "<p style=\"font-size: 16px; font-family: Arial;\">\n",
    "If you don't have the required Azure credentials, the <a href=\"./Getting Started with Azure.ipynb\">Getting Started with Azure</a> will guide you through the process of setting up an Azure account and acquiring the necessary credentials.\n",
    "</p>"
   ]
  },
  {
   "cell_type": "code",
   "execution_count": null,
   "id": "3f9fbb15-af17-4b49-adb0-4906e8074b00",
   "metadata": {
    "tags": []
   },
   "outputs": [],
   "source": [
    "from IPython.display import display, HTML\n",
    "\n",
    "def get_yes_no_input(prompt):\n",
    "    while True:\n",
    "        user_input = input(prompt).strip().lower()\n",
    "        if user_input == 'yes' or user_input == 'no':\n",
    "            return user_input\n",
    "        else:\n",
    "            print(\"\\033[1mInvalid input. Please enter 'yes' or 'no'.\\033[0m\")\n",
    "\n",
    "user_choice = get_yes_no_input('''Do you have the following Azure credentials? (yes/no):\n",
    "\n",
    "- Tenant ID\n",
    "- Subscription ID\n",
    "- Resource Group\n",
    "- Workspace Name\n",
    "- ClearScape Host\n",
    "\n",
    "Enter 'yes' or 'no': ''')\n",
    "\n",
    "if user_choice == 'yes':\n",
    "    print(\"\\033[1mPlease enter the credentials:\\033[0m\")\n",
    "    tenant_id = input('Tenant ID:')\n",
    "    subscription_id = input('Subscription ID:')\n",
    "    resource_group = input('Resource Group:')\n",
    "    workspace_name = input('Workspace Name:')\n",
    "    host = input('ClearScape Host:')\n",
    "elif user_choice == 'no':\n",
    "    display(HTML(f'''<div class=\"alert alert-block alert-info\">\n",
    "<p style = 'font-size:16px;font-family:Arial'><i><b>Note</b>: If you do not have an Azure subscription, please set-up an Azure account. Click on the link below to get started with Azure:</i></p>\n",
    "    <a href = './Getting Started with Azure.ipynb'>Getting Started with Azure</a>\n",
    "</div>'''))"
   ]
  },
  {
   "cell_type": "markdown",
   "id": "6eddf997-c064-43cd-923a-6a2092fd64a9",
   "metadata": {},
   "source": [
    "<hr>\n",
    "<p style = 'font-size:18px;font-family:Arial;color:#E37C4D'><b>1.3 Importing libraries</b>\n",
    "<p style = 'font-size:16px;font-family:Arial'>Here, we import the required libraries, set environment variables and environment paths (if required).</p>"
   ]
  },
  {
   "cell_type": "code",
   "execution_count": null,
   "id": "7c9d4207-bc98-428b-93d3-7955c99a34fa",
   "metadata": {},
   "outputs": [],
   "source": [
    "import os\n",
    "import getpass\n",
    "import sys\n",
    "import warnings\n",
    "\n",
    "import matplotlib.pyplot as plt\n",
    "import matplotlib.dates as mdates\n",
    "import numpy as np\n",
    "import pandas as pd\n",
    "\n",
    "from jdk4py import JAVA, JAVA_HOME, JAVA_VERSION\n",
    "\n",
    "from teradataml.analytics.valib import *\n",
    "from teradataml.analytics.Transformations import *\n",
    "from teradataml.dataframe.copy_to import copy_to_sql\n",
    "from teradataml.dataframe.dataframe import DataFrame, in_schema\n",
    "from teradataml.context.context import create_context, remove_context\n",
    "from teradataml import save_byom, delete_byom, list_byom, retrieve_byom, PMMLPredict, db_drop_table, db_drop_view, display\n",
    "\n",
    "from sklearn.metrics import mean_squared_error\n",
    "from sklearn.preprocessing import MinMaxScaler\n",
    "import seaborn as sns\n",
    "\n",
    "from azureml.core import Workspace, Experiment, ScriptRunConfig\n",
    "from azureml.core.authentication import InteractiveLoginAuthentication\n",
    "\n",
    "# Suppress warnings\n",
    "warnings.filterwarnings('ignore')\n",
    "display.max_rows = 5\n",
    "\n",
    "# Modify the following to match the specific client environment settings\n",
    "configure.val_install_location = 'val'\n",
    "configure.byom_install_location = 'mldb'\n",
    "os.environ['PATH'] = os.pathsep.join([os.environ['PATH'], str(JAVA_HOME), str(JAVA)[:-5]])"
   ]
  },
  {
   "cell_type": "markdown",
   "id": "b08d32da-e7b5-4512-8116-608b8f64004c",
   "metadata": {
    "tags": []
   },
   "source": [
    "<hr>\n",
    "<b style = 'font-size:28px;font-family:Arial;color:#E37C4D'>2. Initiate a connection to Vantage</b>\n",
    "<p style = 'font-size:18px;font-family:Arial;color:#E37C4D'><b>2.1 Let's start by connecting to the Teradata system </b></p>\n",
    "<p style = 'font-size:16px;font-family:Arial'>You will be prompted to provide the password. Enter your password, press the Enter key, and then use the down arrow to go to the next cell.</p>"
   ]
  },
  {
   "cell_type": "code",
   "execution_count": null,
   "id": "8440f566-a0be-4dc7-abc3-b5c5e70291bf",
   "metadata": {},
   "outputs": [],
   "source": [
    "%run -i ../startup.ipynb\n",
    "eng = create_context(host = 'host.docker.internal', username='demo_user', password = password)\n",
    "print(eng)\n",
    "eng.execute('''SET query_band='DEMO=Energy_Consumption_Forecasting_AzureML.ipynb;' UPDATE FOR SESSION; ''')"
   ]
  },
  {
   "cell_type": "markdown",
   "id": "86b60563-efd1-4969-9177-a16dd5ff0d30",
   "metadata": {},
   "source": [
    "<p style = 'font-size:16px;font-family:Arial'>Begin running steps with Shift + Enter keys. </p>"
   ]
  },
  {
   "cell_type": "markdown",
   "id": "78841dac-5d26-4eb3-b9b8-726cce4e2b83",
   "metadata": {},
   "source": [
    "<hr>\n",
    "<p style = 'font-size:20px;font-family:Arial;color:#E37C4D'><b>2.2 Getting Data for This Demo</b></p>\n",
    "<p style = 'font-size:16px;font-family:Arial'>We have provided data for this demo on cloud storage. You can either run the demo using foreign tables to access the data without any storage on your environment or download the data to local storage, which may yield faster execution. Still, there could be considerations of available storage. Two statements are in the following cell, and one is commented out. You may switch which mode you choose by changing the comment string.</p>"
   ]
  },
  {
   "cell_type": "code",
   "execution_count": null,
   "id": "5c69f6a0-d700-45be-bab4-c93cd13458f6",
   "metadata": {},
   "outputs": [],
   "source": [
    "# %run -i ../run_procedure.py \"call get_data('DEMO_Energy_cloud');\"        # Takes 1 minute\n",
    "%run -i ../run_procedure.py \"call get_data('DEMO_Energy_local');\"        # Takes 2 minutes"
   ]
  },
  {
   "cell_type": "markdown",
   "id": "57400b0a-c702-4013-9d8c-1f03f0496283",
   "metadata": {},
   "source": [
    "<p style = 'font-size:16px;font-family:Arial'>Next is an optional step – if you want to see the status of databases/tables created and space used.</p>"
   ]
  },
  {
   "cell_type": "code",
   "execution_count": null,
   "id": "81c9562f-32a1-4fe4-9feb-5d78bbf3a931",
   "metadata": {},
   "outputs": [],
   "source": [
    "%run -i ../run_procedure.py \"call space_report();\"        # Takes 10 seconds"
   ]
  },
  {
   "cell_type": "markdown",
   "id": "ce86f838-6785-40cb-9b99-a67781e2a395",
   "metadata": {},
   "source": [
    "<hr>\n",
    "<b style = 'font-size:28px;font-family:Arial;color:#E37C4D'>3. Data Exploration</b>\n",
    "\n",
    "<table style = 'width:100%;table-layout:fixed;'>\n",
    "<tr>\n",
    "    <td style = 'vertical-align:middle' width = '50%'>\n",
    "        <p style = 'font-size:16px;font-family:Arial'>Users can access large volumes of data by connecting remotely using the teradataml client connection library.  Python methods are translated to SQL and run remotely on the Vantage system.  Only the minimal amount of data required is copied to the client, allowing users to interact with data sets of any size and scale.\n",
    "    </td>\n",
    "    <td><img src = 'images/connect_and_discover.png' width = '400'></td>\n",
    "</tr>\n",
    "</table>\n",
    "\n",
    "<p style = 'font-size:16px;font-family:Arial'>Create a \"Virtual DataFrame\" that points to the data set in Vantage</p>"
   ]
  },
  {
   "cell_type": "code",
   "execution_count": null,
   "id": "3ebcb0e5-caf7-4e6a-8417-09d4105dc493",
   "metadata": {},
   "outputs": [],
   "source": [
    "df = DataFrame(in_schema(\"DEMO_Energy\", \"consumption\"))\n",
    "print(df.shape)"
   ]
  },
  {
   "cell_type": "markdown",
   "id": "2cb75208-dcee-4c2a-b32f-4baedb21e909",
   "metadata": {},
   "source": [
    "<p style = 'font-size:16px;font-family:Arial'>Let's investigate the data by looking at a sample.</p>"
   ]
  },
  {
   "cell_type": "code",
   "execution_count": null,
   "id": "765d14de-d3af-4940-a19c-b41fc96f8d9e",
   "metadata": {},
   "outputs": [],
   "source": [
    "df"
   ]
  },
  {
   "cell_type": "markdown",
   "id": "ca5a0983-f482-46bc-a64e-50372bb4f19f",
   "metadata": {},
   "source": [
    "<p style = 'font-size:16px;font-family:Arial'>The dataset contains hourly energy consumption data along with various related features. These features include:</p>\n",
    "\n",
    "<ul style = 'font-size:16px;font-family:Arial'>\n",
    "    <li><b>TD_TIMECODE:</b> Date and time information in a specific format.</li>\n",
    "    <li><b>consumption:</b> Hourly energy consumption values.</li>\n",
    "    <li><b>y, m, d, h:</b> Year, month, day, and hour components of the timestamp.</li>\n",
    "    <li><b>weekday:</b> Indicator for the day of the week (e.g., Monday, Tuesday).</li>\n",
    "    <li><b>nasa_temp:</b> Temperature readings from NASA.</li>\n",
    "    <li><b>cap_air_temperature:</b> Ambient air temperature measurements.</li>\n",
    "    <li><b>cap_cloud_area_fraction:</b> Cloud cover percentage.</li>\n",
    "    <li><b>cap_precipitation_amount:</b> Amount of precipitation.</li>\n",
    "    <li><b>is_dark:</b> Flag indicating if it is dark.</li>\n",
    "    <li><b>is_light:</b> Flag indicating if it is light.</li>\n",
    "    <li><b>is_from_light_to_dark:</b> Flag indicating the transition from light to dark.</li>\n",
    "    <li><b>is_from_dark_to_light:</b> Flag indicating the transition from dark to light.</li>\n",
    "    <li><b>is_holiday:</b> Flag indicating if it is a holiday.</li>\n",
    "    <li><b>is_pre_holiday:</b> Flag indicating if it is a day before a holiday.</li>\n",
    "</ul>\n",
    "\n",
    "<p style = 'font-size:16px;font-family:Arial'>\n",
    "    These columns provide valuable insights into energy consumption patterns and the factors that might influence it, such as weather conditions, time of day, and holidays.\n",
    "</p>"
   ]
  },
  {
   "cell_type": "code",
   "execution_count": null,
   "id": "11bbdb46-192a-4c5a-98e4-b1d06fb004a1",
   "metadata": {
    "tags": []
   },
   "outputs": [],
   "source": [
    "# Convert to pandas dataframe\n",
    "pd_df = df.to_pandas(all_rows=True)\n",
    "\n",
    "# Set the size of the plot\n",
    "plt.figure(figsize=(12, 6))\n",
    "\n",
    "# Create line plot using seaborn\n",
    "sns.set_palette(['#add8e6', '#90ee90', '#00bfff'])\n",
    "sns.lineplot(data=pd_df, x='TD_TIMECODE', y='consumption')\n",
    "\n",
    "# Add x label\n",
    "plt.xlabel('Date', fontsize=12)\n",
    "\n",
    "# Add y label\n",
    "plt.ylabel('Energy Units', fontsize=12)\n",
    "\n",
    "# Add title\n",
    "plt.title('Energy Demand', fontsize=16)\n",
    "\n",
    "# Add legend\n",
    "plt.legend(labels=['Energy'], fontsize=12)\n",
    "\n",
    "# Add grid lines\n",
    "plt.grid(axis='y', alpha=0.5)\n",
    "\n",
    "# Remove spines\n",
    "sns.despine()\n",
    "\n",
    "# Show the plot\n",
    "plt.show()"
   ]
  },
  {
   "cell_type": "code",
   "execution_count": null,
   "id": "d9ce13fa-e33f-440a-bb2e-12e6622eaa81",
   "metadata": {},
   "outputs": [],
   "source": [
    "# Normalize the data\n",
    "scaler = MinMaxScaler()\n",
    "cols = ['cap_air_temperature', 'cap_cloud_area_fraction', 'cap_precipitation_amount']\n",
    "pd_df[cols] = scaler.fit_transform(pd_df[cols])\n",
    "\n",
    "# Create three subplots\n",
    "fig, axs = plt.subplots(nrows=3, ncols=1, figsize=(12, 9))\n",
    "sns.set_palette(['#add8e6', '#90ee90', '#00bfff'])\n",
    "sns.lineplot(x='TD_TIMECODE', y='cap_air_temperature', data=pd_df, ax=axs[0])\n",
    "sns.lineplot(x='TD_TIMECODE', y='cap_cloud_area_fraction', data=pd_df, ax=axs[1])\n",
    "sns.lineplot(x='TD_TIMECODE', y='cap_precipitation_amount', data=pd_df, ax=axs[2])\n",
    "\n",
    "# Set the labels, titles, and other properties for each subplot\n",
    "cols = ['cap_air_temperature', 'cap_cloud_area_fraction', 'cap_precipitation_amount']\n",
    "for i, ax in enumerate(axs):\n",
    "    ax.set_ylabel('Normalized Values')\n",
    "    ax.set_title(cols[i])\n",
    "    ax.set_xlabel('Date')\n",
    "    ax.grid()\n",
    "    ax.xaxis.set_major_formatter(mdates.DateFormatter('%Y-%m-%d'))\n",
    "    fig.autofmt_xdate(rotation=45)\n",
    "\n",
    "plt.tight_layout()\n",
    "plt.show()"
   ]
  },
  {
   "cell_type": "markdown",
   "id": "22431d21-ad4c-4207-a80b-96e6ea670df3",
   "metadata": {},
   "source": [
    "<p style = 'font-size:16px;font-family:Arial'>The graph of cap_air_temperature shows an inverse relationship with energy consumption, meaning that in countries with colder climates like Norway, electricity usage tends to increase as the temperature drops, likely due to increased demand for heating. Conversely, electricity usage tends to decrease when the temperature rises, potentially due to reduced need for heating.</p> "
   ]
  },
  {
   "cell_type": "code",
   "execution_count": null,
   "id": "07e219a2-ecc6-4d75-92a1-f80e405b0661",
   "metadata": {},
   "outputs": [],
   "source": [
    "pd_df['quarter'] = pd_df['TD_TIMECODE'].dt.quarter\n",
    "# create boxplots for selected columns for each quarter\n",
    "sns.boxplot(x='quarter', y='consumption', data=pd_df, palette='pastel')"
   ]
  },
  {
   "cell_type": "markdown",
   "id": "554c7861-fb86-4d03-8d00-60af9e23c076",
   "metadata": {},
   "source": [
    "<p style = 'font-size:16px;font-family:Arial'>The above graph shows the distribution of energy consumption across quarters. It indicates that the 1st and 4th quarters across years witness high energy consumption due to cold weather, while the 3rd quarter witnesses the least energy consumption across years, indicating the summer season.</p> "
   ]
  },
  {
   "cell_type": "markdown",
   "id": "9bc27733-d8ae-4035-a789-6501fbcefcd4",
   "metadata": {},
   "source": [
    "<hr>\n",
    "<b style = 'font-size:28px;font-family:Arial;color:#E37C4D'>4. Data Preparation</b>\n",
    "\n",
    "<table style = 'width:100%;table-layout:fixed;'>\n",
    "<tr>\n",
    "    <td style = 'vertical-align:top' width = '50%'>\n",
    "        <p style = 'font-size:16px;font-family:Arial'>The Vantage Analytic Library is a suite of powerful functions that allows for whole-data-set descriptive analysis, data transformation, hypothesis testing, and algorithmic algorithms at an extreme scale.  As with all Vantage capabilities, these functions run in parallel at the source of the data</p>\n",
    "        <ol style = 'font-size:16px;font-family:Arial'>\n",
    "            <li>Create Feature Transformation objects</li>\n",
    "            <br>\n",
    "            <li>Define the columns to be retained in the analytic data set</li>\n",
    "            <br>\n",
    "            <li>Push the transformations to the data in Vantage</li>\n",
    "            <br>\n",
    "            <li>Inspect the results</li>\n",
    "        </ol>\n",
    "    </td>\n",
    "    <td><img src = 'images/VAL_transformation.png' width = '400'></td>\n",
    "</tr>\n",
    "</table>"
   ]
  },
  {
   "cell_type": "code",
   "execution_count": null,
   "id": "36183ce8-be23-412f-a0f6-4aeefd1d8cb7",
   "metadata": {},
   "outputs": [],
   "source": [
    "weekday_mapping = {1:'monday', 2:'tuesday', 3:'wednesday', 4:'thursday', 5:'friday', 6:'saturday', 7:'sunday'}\n",
    "weekday_t = OneHotEncoder(values = weekday_mapping, columns = 'weekday')\n",
    "\n",
    "hour_t = OneHotEncoder(values = [x for x in range(0,24)],  columns = 'h')\n",
    "\n",
    "rs = MinMaxScalar(columns = ['nasa_temp','cap_air_temperature', 'cap_cloud_area_fraction', 'cap_precipitation_amount'])\n",
    "\n",
    "rt = Retain(columns = ['consumption',\n",
    "                       'is_dark', 'is_light', 'is_from_light_to_dark', 'is_from_dark_to_light', \n",
    "                       'is_holiday', 'is_pre_holiday'])"
   ]
  },
  {
   "cell_type": "markdown",
   "id": "098b44a6-56ab-412f-b661-b4b3ae652077",
   "metadata": {},
   "source": [
    "<p style = 'font-size:16px;font-family:Arial'>The transformation objects created in the previous step will be used to prepare the data for modeling. Specifically, weekday_t and hour_t will be used to convert weekday and hour columns from numeric to one-hot encoded columns. rs will be used to scale the nasa_temp using MinMaxScalar, and rt will be used to retain the specified columns. These transformations will enable the data to be used effectively in a machine learning model.</p>"
   ]
  },
  {
   "cell_type": "code",
   "execution_count": null,
   "id": "6879ab57-8e84-480d-baaa-13c6012763c5",
   "metadata": {},
   "outputs": [],
   "source": [
    "t_output = valib.Transform(data = df,\n",
    "                           one_hot_encode = [weekday_t, hour_t], \n",
    "                           rescale = [rs], \n",
    "                           index_columns = 'TD_TIMECODE',\n",
    "                           retain = [rt])\n",
    "\n",
    "copy_to_sql(t_output.result,\n",
    "            table_name = 'output',\n",
    "            if_exists = 'replace')"
   ]
  },
  {
   "cell_type": "code",
   "execution_count": null,
   "id": "efaab645-8bad-4669-89e0-e6cd304e5c9b",
   "metadata": {},
   "outputs": [],
   "source": [
    "t_output.result"
   ]
  },
  {
   "cell_type": "markdown",
   "id": "35c02128-1322-4121-81e2-46bd83d345b0",
   "metadata": {},
   "source": [
    "<p style = 'font-size:16px;font-family:Arial'>Please scroll to the right and observe that we now have columns named <b>monday-sunday</b> and <b>0_h - 23_h</b>. Also, nasa_temp has been scaled.\n",
    "<br>\n",
    "<br>\n",
    "The following cell splits the data in to train and test data. The last week's data(24 * 7 = 168 hours) is kept for testing and remaining data is used for training.\n",
    "</p>"
   ]
  },
  {
   "cell_type": "code",
   "execution_count": null,
   "id": "53118dba-2799-457a-b1dd-b19786539f2d",
   "metadata": {},
   "outputs": [],
   "source": [
    "eng.execute('''\n",
    "    REPLACE VIEW test_df AS\n",
    "    SELECT * FROM output\n",
    "    QUALIFY row_number() OVER (order by TD_TIMECODE DESC) <= 168\n",
    "''')\n",
    "\n",
    "eng.execute('''\n",
    "    REPLACE VIEW train_df AS\n",
    "    SELECT * FROM output\n",
    "    QUALIFY row_number() OVER (order by TD_TIMECODE DESC) > 168\n",
    "''')"
   ]
  },
  {
   "cell_type": "markdown",
   "id": "4d9a806c-fa38-47fe-ba2f-d42e8d914e8b",
   "metadata": {
    "tags": []
   },
   "source": [
    "<hr>\n",
    "<b style = 'font-size:28px;font-family:Arial;color:#E37C4D'>5. AzureML</b>\n",
    "<!-- <ul style = 'font-size:16px;font-family:Arial'>\n",
    "<li>\n",
    "        <strong>Importing Required Libraries:</strong>\n",
    "        <p>\n",
    "            These typically include <code>azureml.core.authentication.InteractiveLoginAuthentication</code> and <code>azureml.core.Workspace</code>.\n",
    "        </p>\n",
    "    </li>\n",
    "</ul> -->\n",
    "<p style=\"font-size: 16px; font-family: Arial;color:#E37C4D\"><b>Overview:</b></p>\n",
    "\n",
    "<ol style=\"font-size: 16px; font-family: Arial;\">\n",
    "    <li>\n",
    "        <b>Checking for Required Variables:</b>\n",
    "        <p style=\"font-size: 16px; font-family: Arial;\">\n",
    "            This section checks if all the credentials are defined.\n",
    "            If any required credentials are missing, it shows a message with the names of the missing variables and a link for more information.\n",
    "        </p>\n",
    "    </li>\n",
    "    <li>\n",
    "        <b>Azure Machine Learning Workspace Setup:</b>\n",
    "        <p style=\"font-size: 16px; font-family: Arial;\">\n",
    "            The code sets up a workspace for Azure Machine Learning using specific credentials.\n",
    "            This workspace allows running machine learning experiments.\n",
    "        </p>\n",
    "    </li>\n",
    "    <li>\n",
    "        <b>File Operation - Replacing a Line in a Python File:</b>\n",
    "        <p style=\"font-size: 16px; font-family: Arial;\">\n",
    "            The code swaps default connection string with client connection string.\n",
    "        </p>\n",
    "    </li>\n",
    "    <li>\n",
    "        <b>Running a Python Script as an Experiment:</b>\n",
    "        <p style=\"font-size: 16px; font-family: Arial;\">\n",
    "            The code creates an experiment for running a Python script.\n",
    "            It submits the script to the Azure Machine Learning workspace for execution.\n",
    "            The script's execution is monitored until completion.\n",
    "        </p>\n",
    "    </li>\n",
    "</ol>"
   ]
  },
  {
   "cell_type": "markdown",
   "id": "97a8e016-fe40-47aa-91c5-c4b421c9f8a9",
   "metadata": {},
   "source": [
    "<hr>\n",
    "<p style = 'font-size:18px;font-family:Arial;color:#E37C4D'><b>5.1 Checking for Required Variables</b></p>\n",
    "<p style=\"font-size: 16px; font-family: Arial;\">The function <code>check_variables(variable_names)</code> checks if certain variables specified in the <code>required_variables</code> list are defined in the local environment.\n",
    "<br>\n",
    "If any of the required variables are missing, it prints the names of the missing variables and displays a message with a link to more information.</p>"
   ]
  },
  {
   "cell_type": "code",
   "execution_count": null,
   "id": "f6085ffb-7a82-421b-abf9-9a94da238932",
   "metadata": {},
   "outputs": [],
   "source": [
    "def check_variables(variable_names):\n",
    "    missing_variables = [var for var in variable_names if var not in locals()]\n",
    "    \n",
    "    if missing_variables:\n",
    "        print(\"The following variables are missing:\")\n",
    "        for var in missing_variables:\n",
    "            print(f\" - {var}\")\n",
    "        display(HTML(f'''\n",
    "            <p>Please ensure all the required credentials are defined.</p>\n",
    "            <p>For more information, please go to <a href=\"#anchor\">this section</a>.</p>\n",
    "        '''))\n",
    "    else:\n",
    "        print(\"All required credentials are present.\")\n",
    "\n",
    "required_variables = ['tenant_id', 'subscription_id', 'resource_group', 'workspace_name', 'host']\n",
    "check_variables(required_variables)"
   ]
  },
  {
   "cell_type": "markdown",
   "id": "bcc2553a-a109-43cd-b2dc-fcb3e83f9c97",
   "metadata": {},
   "source": [
    "<hr>\n",
    "<p style = 'font-size:18px;font-family:Arial;color:#E37C4D'><b>5.2 Azure Machine Learning Workspace Setup</b></p>\n",
    "<ul style = 'font-size:16px;font-family:Arial'>\n",
    "<li>\n",
    "        <strong>Authentication:</strong>\n",
    "        <p>\n",
    "        The first line of code creates an instance of <code>InteractiveLoginAuthentication</code>. This class is used to authenticate and establish a connection to Azure services interactively. It allows you to log in to your Azure account using an interactive login prompt.\n",
    "        </p>\n",
    "        <ul>\n",
    "            <li>\n",
    "                <code>tenant_id:</code>This parameter is required and should be replaced with your Azure Active Directory (Azure AD) tenant ID. The tenant ID identifies the organization or tenant associated with your Azure subscription.\n",
    "            </li>\n",
    "        </ul>\n",
    "    </li>\n",
    "    <li>\n",
    "        <strong>Creating the Azure Machine Learning Workspace:</strong>\n",
    "        <p>\n",
    "        The second part of the code creates an instance of the <code>Workspace</code> class, which represents the Azure Machine Learning Workspace. This is the primary entry point for interacting with Azure Machine Learning resources.\n",
    "        </p>\n",
    "        <ul>\n",
    "            <li>\n",
    "                <code>subscription_id:</code>The subscription ID identifies your Azure subscription, which is associated with the Azure Machine Learning resources.\n",
    "            </li>\n",
    "            <li>\n",
    "                <code>resource_group:</code>Name of the resource group where your Azure Machine Learning Workspace is located. A resource group is a logical container for resources in Azure.\n",
    "            </li>\n",
    "            <li>\n",
    "                <code>workspace_name:</code>Name of your Azure Machine Learning Workspace.\n",
    "            </li>\n",
    "            <li>\n",
    "                <code>auth:</code> The <code>auth</code> parameter is set to the previously created <code>InteractiveLoginAuthentication</code> instance. This provides the authentication context for the workspace.\n",
    "            </li>\n",
    "        </ul>\n",
    "    </li>\n",
    "</ul>\n",
    "\n",
    "<div class=\"alert alert-block alert-info\">\n",
    "<p style = 'font-size:16px;font-family:Arial'><i><b>Note</b>: If running the following cell for first time, you need to perform authentication. The output might look as follows:\n",
    "    <img src = './images/authenticate.png'></i></p>\n",
    "</div>"
   ]
  },
  {
   "cell_type": "code",
   "execution_count": null,
   "id": "ef2cb8eb-5b01-47d3-97d5-cbc7abccf371",
   "metadata": {},
   "outputs": [],
   "source": [
    "interactive_auth = InteractiveLoginAuthentication(tenant_id = tenant_id)\n",
    "ws = Workspace(subscription_id = subscription_id,\n",
    "               resource_group = resource_group,\n",
    "               workspace_name = workspace_name,\n",
    "               auth = interactive_auth)"
   ]
  },
  {
   "cell_type": "code",
   "execution_count": null,
   "id": "660096fe-8169-4a5d-a09d-9c0dd5d9b175",
   "metadata": {},
   "outputs": [],
   "source": [
    "ws"
   ]
  },
  {
   "cell_type": "markdown",
   "id": "481b5c0c-2891-4074-965b-4340d15a096a",
   "metadata": {},
   "source": [
    "<ul style = 'font-size:16px;font-family:Arial'>\n",
    "    <li>\n",
    "        <strong>Creating an Experiment:</strong>\n",
    "        <p>\n",
    "        The code is creating an instance of the <code>Experiment</code> class, which represents an experiment in Azure Machine Learning. An experiment is a container that holds runs, and each run corresponds to a specific iteration or execution of a machine learning model or a data processing task.\n",
    "        </p>\n",
    "        <ul>\n",
    "            <li>\n",
    "                <code>workspace:</code> The <code>workspace</code> parameter is required and should be replaced with the actual Azure Machine Learning Workspace object (<code>ws</code>). This object represents the connection to your Azure Machine Learning workspace.\n",
    "            </li>\n",
    "            <li>\n",
    "                <code>name:</code> The <code>name</code> parameter is used to specify the name of the experiment. In the provided code, the experiment name is set to 'python_snippet'. You can change this to a more descriptive name that represents the purpose of your experiment.\n",
    "            </li>\n",
    "        </ul>\n",
    "    </li>\n",
    "</ul>"
   ]
  },
  {
   "cell_type": "code",
   "execution_count": null,
   "id": "e0f452cc-ec9c-4998-9c97-ec9d8c9dd1c5",
   "metadata": {},
   "outputs": [],
   "source": [
    "# Create an experiment\n",
    "experiment_name = 'python_snippet'\n",
    "experiment = Experiment(workspace = ws, name = experiment_name)"
   ]
  },
  {
   "cell_type": "markdown",
   "id": "9d1fdd0d-414e-4df6-b9a3-98c318380d54",
   "metadata": {},
   "source": [
    "<hr>\n",
    "<p style = 'font-size:18px;font-family:Arial;color:#E37C4D'><b>5.3 File Operation - Replacing connection string in Python File</b></p>\n",
    "<div class=\"alert alert-block alert-info\">\n",
    "<p style = 'font-size:16px;font-family:Arial'><i><b>Note</b>: The following cell updates the connection details in the <a href = './train.py'>train.py</a> file</i></p>\n",
    "</div>\n",
    "\n",
    "<ul style=\"font-size: 16px; font-family: Arial;\">\n",
    "            <li>\n",
    "                The function <code>replace_line_in_py_file(file_path, old_line_content, new_line_content)</code> reads the content of a specified Python file (<code>train.py</code>) and finds the line containing the <code>old_line_content</code> i.e. the default connection string.\n",
    "            </li>\n",
    "            <li>\n",
    "                If found, it replaces the line with the <code>new_line_content</code> i.e. new connection string.\n",
    "            </li>\n",
    "</ul>"
   ]
  },
  {
   "cell_type": "code",
   "execution_count": null,
   "id": "e93e7366-e0a0-4744-ae3f-0ceef7922fcc",
   "metadata": {},
   "outputs": [],
   "source": [
    "def replace_line_in_py_file(file_path, old_line_content, new_line_content):\n",
    "    # Read the content of the file\n",
    "    with open(file_path, 'r') as file:\n",
    "        lines = file.readlines()\n",
    "\n",
    "    # Find the line containing the old content\n",
    "    line_number = None\n",
    "    for i, line in enumerate(lines):\n",
    "        if old_line_content in line:\n",
    "            line_number = i + 1  # Line numbers are 1-based in the file\n",
    "\n",
    "    if line_number is not None:\n",
    "        # Replace the line with the new content\n",
    "        lines[line_number - 1] = new_line_content + '\\n'  # Add '\\n' to maintain line breaks\n",
    "\n",
    "        # Write the changes back to the file\n",
    "        with open(file_path, 'w') as file:\n",
    "            file.writelines(lines)\n",
    "        print(f\"Line containing '{old_line_content}' in {file_path} has been replaced.\")\n",
    "    else:\n",
    "        print(f\"Line containing '{old_line_content}' not found in the file.\")\n",
    "\n",
    "# Example usage\n",
    "file_path = 'train.py'  # Replace with the path of your .py file\n",
    "old_line_content = \"eng = create_context(host = 'xxx', username = 'demo_user', password = 'xxx')\"\n",
    "new_line_content = \"eng = create_context(host='{}', username='demo_user', password='{}')\".format(host, password)\n",
    "\n",
    "replace_line_in_py_file(file_path, old_line_content, new_line_content)"
   ]
  },
  {
   "cell_type": "markdown",
   "id": "0fde0f64-eff4-432b-9d5d-8e020a635554",
   "metadata": {},
   "source": [
    "<hr>\n",
    "<p style = 'font-size:18px;font-family:Arial;color:#E37C4D'><b>5.4 Running a Python Script as an Experiment</b></p>\n",
    "\n",
    "<ul style = 'font-size:16px;font-family:Arial'>\n",
    "    <li>\n",
    "        <strong>Creating a ScriptRunConfig:</strong>\n",
    "        <p>\n",
    "        The code is creating an instance of the <code>ScriptRunConfig</code> class, which represents the configuration for running a script as an experiment in AzureML.\n",
    "        </p>\n",
    "        <ul>\n",
    "            <li>\n",
    "                <code>source_directory:</code> The <code>source_directory</code> parameter specifies the directory where the Python script <code>train.py</code> is located. The dot (<code>./</code>) represents the current working directory, assuming that the script is in the same directory as the Python script executing the code. Adjust this path if the <code>train.py</code> script is in a different directory.\n",
    "            </li>\n",
    "            <li>\n",
    "                <code>script:</code> The <code>script</code> parameter should be replaced with the filename of your Python snippet file, in this case, <code>'train.py'</code>. This script contains the code that will be executed as part of the experiment. You should replace <code>'train.py'</code> with the actual name of your Python script.\n",
    "            </li>\n",
    "            <li>\n",
    "                <code>compute_target:</code> The <code>compute_target</code> parameter specifies the name of the Azure Machine Learning compute target where the script will be executed. In this code, <code>'demo-compute'</code> is used as the compute target name. You should replace this with the actual name of your desired compute target.\n",
    "            </li>\n",
    "        </ul>\n",
    "    </li>\n",
    "</ul>"
   ]
  },
  {
   "cell_type": "code",
   "execution_count": null,
   "id": "ce28cb21-e560-4b69-85aa-40ccee453434",
   "metadata": {},
   "outputs": [],
   "source": [
    "# Create a ScriptRunConfig with the Python snippet\n",
    "script_run_config = ScriptRunConfig(source_directory='./',\n",
    "                                   script='train.py',  # Replace with your Python snippet file name\n",
    "                                   compute_target='demo-compute'  # Replace with your compute target name\n",
    "                                   )"
   ]
  },
  {
   "cell_type": "markdown",
   "id": "f04e360d-6c4f-4fbc-9d7e-60aa5cde25cc",
   "metadata": {},
   "source": [
    "<ul style = 'font-size:16px;font-family:Arial'>\n",
    "    <li>\n",
    "        <strong>Submitting the Script Run:</strong>\n",
    "        <p>\n",
    "        The first line of code is submitting the script run as an experiment using the <code>experiment.submit()</code> method. The <code>run</code> variable holds the run object returned by the <code>submit()</code> method. This run object represents the execution of the script on the specified compute target.\n",
    "        </p>\n",
    "        <ul>\n",
    "            <li>\n",
    "                <code>experiment:</code> The <code>experiment</code> object is the instance of the <code>Experiment</code> class that you created earlier. It represents the Azure Machine Learning experiment where you want to log and track the run results.\n",
    "            </li>\n",
    "            <li>\n",
    "                <code>config:</code> The <code>config</code> parameter is set to the previously created <code>script_run_config</code> object. This object contains the configuration for running the script, including the source code, dependencies, and execution settings.\n",
    "            </li>\n",
    "        </ul>\n",
    "    </li>\n",
    "    <li>\n",
    "        <strong>Waiting for Completion:</strong>\n",
    "        <p>\n",
    "        The second line of code is waiting for the script run to complete using the <code>wait_for_completion()</code> method of the <code>run</code> object. The method call includes <code>show_output=True</code>, which means that the output of the run will be shown in the console while waiting for completion.\n",
    "        </p>\n",
    "        <p>\n",
    "        The <code>wait_for_completion()</code> method allows the code to wait until the script execution finishes. This is useful for long-running scripts or experiments that require some time to complete. By setting <code>show_output=True</code>, you can view the progress and output of the script run in real-time.\n",
    "        </p>\n",
    "    </li>\n",
    "</ul>"
   ]
  },
  {
   "cell_type": "code",
   "execution_count": null,
   "id": "ed066c13-9579-4ff1-85a5-613bf3297a92",
   "metadata": {
    "tags": []
   },
   "outputs": [],
   "source": [
    "# Submit the script run\n",
    "run = experiment.submit(config=script_run_config)\n",
    "\n",
    "# Wait for the script run to complete\n",
    "run.wait_for_completion()"
   ]
  },
  {
   "cell_type": "markdown",
   "id": "92df57de-c492-460b-a22b-3ce8010d5a91",
   "metadata": {},
   "source": [
    "<div class=\"alert alert-block alert-info\">\n",
    "<p style = 'font-size:16px;font-family:Arial'><i><b>Note</b>: If you do not have AzureML or did not perform the above steps, the following cell will do the required setup to run the remaining notebook.</i></p>\n",
    "</div>"
   ]
  },
  {
   "cell_type": "code",
   "execution_count": null,
   "id": "19bc0ba2-a488-4538-892e-89a57853d7ad",
   "metadata": {},
   "outputs": [],
   "source": [
    "# Load the PMML file into Vantage\n",
    "model_ids = ['lr']\n",
    "model_files = ['energy_consumption_LR.pmml']\n",
    "table_name = 'azureml_models'\n",
    "\n",
    "if table_name not in eng.table_names(schema = 'demo_user'):\n",
    "    for model_id, model_file in zip(model_ids, model_files):\n",
    "        try:\n",
    "            save_byom(model_id = model_id, model_file = model_file, table_name = table_name)\n",
    "        except Exception as e:\n",
    "            # if our model exists, delete and rewrite\n",
    "            if str(e.args).find('TDML_2200') >= 1:\n",
    "                delete_byom(model_id = model_id, table_name = table_name)\n",
    "                save_byom(model_id = model_id, model_file = model_file, table_name = table_name)\n",
    "            else:\n",
    "                raise ValueError(f\"Unable to save the model '{model_id}' in '{table_name}' due to the following error: {e}\")\n",
    "\n",
    "# Show the azureml_models table\n",
    "list_byom(table_name)"
   ]
  },
  {
   "cell_type": "markdown",
   "id": "regional-poetry",
   "metadata": {},
   "source": [
    "<hr>\n",
    "<b style = 'font-size:28px;font-family:Arial;color:#E37C4D'>6. Model Scoring and Evaluation</b>\n",
    "\n",
    "<p style = 'font-size:16px;font-family:Arial'>The final step in this process is to test the trained model.  The PMMLPredict function will take the stored pipeline object (including any data preparation and mapping tasks) and execute it against the data on the Vantage Nodes.  Note that we can keep many models in the model table, with versioning, last scored timestamp, or any other management data to allow for the operational management of the process.</p>\n",
    "        <ol style = 'font-size:16px;font-family:Arial'>\n",
    "            <li>Create a pointer to the model in Vantage</li>\n",
    "            <li>Execute the Scoring function using the model against the testing data</li>\n",
    "            <li>Visualize the results</li>\n",
    "        </ol>"
   ]
  },
  {
   "cell_type": "code",
   "execution_count": null,
   "id": "7dd3f5de-48ac-40e8-8815-12066e927438",
   "metadata": {},
   "outputs": [],
   "source": [
    "# Obtain a pointer to the model\n",
    "table_name = 'azureml_models'\n",
    "model_id = 'lr'\n",
    "model_lr = retrieve_byom(model_id, table_name=table_name, schema_name=\"demo_user\")\n",
    "df_test = DataFrame('test_df').sort('TD_TIMECODE')\n",
    "\n",
    "result_lr = PMMLPredict(\n",
    "            modeldata = model_lr,\n",
    "            newdata = df_test,\n",
    "            accumulate = ['TD_TIMECODE','consumption'],\n",
    "            ).result.to_pandas(all_rows = True)\n",
    "\n",
    "result_lr['prediction'] = pd.to_numeric(result_lr['prediction'], errors='coerce')\n",
    "\n",
    "copy_to_sql(result_lr,\n",
    "            table_name = 'result_lr',\n",
    "            if_exists = 'replace')"
   ]
  },
  {
   "cell_type": "code",
   "execution_count": null,
   "id": "0c31e0ce-b465-44eb-87ac-42af306d4076",
   "metadata": {},
   "outputs": [],
   "source": [
    "result_lr"
   ]
  },
  {
   "cell_type": "markdown",
   "id": "aee4881e-3107-4567-aad6-4daac51b6231",
   "metadata": {},
   "source": [
    "<p style = 'font-size:16px;font-family:Arial'>In the above step, we use the PMMLPredict method from teradataml library to score the model in the database. The PMMLPredict function in Teradata allows users to score the PMML model directly on the data in the Vantage system, without having to move the data or the model outside the system. This can help to improve the efficiency and security of the scoring process.</p>"
   ]
  },
  {
   "cell_type": "markdown",
   "id": "6989b9d6-cd74-4e66-a2c6-c08051f4bcc1",
   "metadata": {},
   "source": [
    "<hr>\n",
    "<b style = 'font-size:28px;font-family:Arial;color:#E37C4D'>7. Visualize the results</b>"
   ]
  },
  {
   "cell_type": "code",
   "execution_count": null,
   "id": "4431d9da-347a-4d22-9815-7afa31fa099d",
   "metadata": {},
   "outputs": [],
   "source": [
    "res = pd.read_sql('''SELECT * FROM TD_RegressionEvaluator(\n",
    "    ON demo_user.result_lr as InputTable\n",
    "    USING\n",
    "    ObservationColumn('consumption')\n",
    "    PredictionColumn('prediction')\n",
    "    Metrics('RMSE','R2','FSTAT')\n",
    "    DegreesOfFreedom(5,48)\n",
    "    ) as dt;\n",
    "''', eng)\n",
    "res"
   ]
  },
  {
   "cell_type": "markdown",
   "id": "4de78acf-db9a-420e-8d49-03b9e603a61c",
   "metadata": {},
   "source": [
    "<p style=\"font-size: 16px; font-family: Arial;color:#E37C4D\">\n",
    "    <b>Explanation:</b>\n",
    "</p>\n",
    "\n",
    "<p style=\"font-size: 16px; font-family: Arial;\">\n",
    "    The table above provides evaluation metrics for a regression model:\n",
    "</p>\n",
    "\n",
    "<ol style=\"font-size: 16px; font-family: Arial;\">\n",
    "    <li>\n",
    "        <b>RMSE (Root Mean Squared Error):</b>\n",
    "        RMSE is a measure of the average prediction error of the model.\n",
    "    </li>\n",
    "    <li>\n",
    "        <b>R2 (R-Squared):</b>\n",
    "        R2 represents the proportion of the variance in the target variable that is predictable from the features.\n",
    "    </li>\n",
    "    <li>\n",
    "        <b>F_SCORE (F-Statistic):</b>\n",
    "        F-score measures the overall fit of the model. The value is high, suggesting a reasonably good fit.\n",
    "    </li>\n",
    "    <li>\n",
    "        <b>F_CRITICALVALUE (Critical Value for F-Statistic):</b>\n",
    "        The critical value for the F-statistic is used to determine statistical significance.\n",
    "    </li>\n",
    "    <li>\n",
    "        <b>P_VALUE (P-Value):</b>\n",
    "        The p-value is very small, indicating strong evidence against the null hypothesis.\n",
    "    </li>\n",
    "    <li>\n",
    "        <b>F_CONCLUSION (Conclusion based on F-Test):</b>\n",
    "        The F-test result leads to the conclusion of \"Reject null hypothesis\", suggesting the model's fit is statistically significant.\n",
    "    </li>\n",
    "</ol>"
   ]
  },
  {
   "cell_type": "code",
   "execution_count": null,
   "id": "e1e58fc8-b32a-4e73-93b0-d280381ada63",
   "metadata": {},
   "outputs": [],
   "source": [
    "# Create the subplots\n",
    "df_lr = result_lr\n",
    "\n",
    "fig, ax = plt.subplots(figsize=(14, 6))\n",
    "\n",
    "# Calculate RMS error for Linear Regression\n",
    "rms_lr = res['RMSE'][0]\n",
    "\n",
    "# Plot Linear Regression\n",
    "ax.plot(df_lr.index, df_lr['consumption'], label=f'Actual Consumption', color='#1f77b4', linewidth=2)\n",
    "ax.plot(df_lr.index, df_lr['prediction'].astype(float), label=f'Linear Regression (RMS={rms_lr:.2f})', color='#ff7f0e', linestyle='--')\n",
    "ax.set_ylabel('Energy Consumption')\n",
    "ax.set_title('Energy Consumption Prediction - Linear Regression')\n",
    "ax.legend()\n",
    "ax.grid(axis='y', linestyle='--')\n",
    "\n",
    "# Add a background color\n",
    "fig.patch.set_facecolor('#f2f2f2')\n",
    "\n",
    "# Display the plot\n",
    "plt.show()"
   ]
  },
  {
   "cell_type": "markdown",
   "id": "0db5e1b8-f01e-490b-a8f9-15f2d0a201b6",
   "metadata": {},
   "source": [
    "<p style = 'font-size:16px;font-family:Arial'>The above graph displays the Actual and Predicted values and Root Mean Squared (RMS) error value for Linear Regression models. The lower the RMS error value, the better the model's performance. </p>\n",
    "\n",
    "<p style = 'font-size:16px;font-family:Arial'>This demonstration has illustrated a simplified - but complete - overview of how a typical machine learning workflow can be improved using Vantage in conjunction with 3rd-party tools and techniques.  This combination allows users to leverage 3rd-party innovation with Vantage's operational scale, power, and stability.</p>"
   ]
  },
  {
   "cell_type": "markdown",
   "id": "256e9e44-3119-4852-8574-9303a40fcd52",
   "metadata": {},
   "source": [
    "<hr>\n",
    "<b style = 'font-size:28px;font-family:Arial;color:#E37C4D'>8. Cleanup</b>\n",
    "<p style = 'font-size:18px;font-family:Arial;color:#E37C4D'><b>Work Tables</b></p>\n",
    "<p style = 'font-size:16px;font-family:Arial'>Cleanup work tables to prevent errors next time.</p>"
   ]
  },
  {
   "cell_type": "code",
   "execution_count": null,
   "id": "b52ce515-d02e-4872-91ae-7735a9db9ef3",
   "metadata": {},
   "outputs": [],
   "source": [
    "db_drop_view(view_name='train_df', schema_name = 'demo_user')"
   ]
  },
  {
   "cell_type": "code",
   "execution_count": null,
   "id": "a80323e7-2d7b-40e1-be91-2ed040b795bf",
   "metadata": {},
   "outputs": [],
   "source": [
    "db_drop_view(view_name='test_df', schema_name = 'demo_user')"
   ]
  },
  {
   "cell_type": "code",
   "execution_count": null,
   "id": "2024e65c-581b-4b59-9d09-75995a7d07a7",
   "metadata": {},
   "outputs": [],
   "source": [
    "db_drop_table(table_name='azureml_models', schema_name = 'demo_user')"
   ]
  },
  {
   "cell_type": "markdown",
   "id": "d377fef9-b377-4b59-a313-5eb9784dba93",
   "metadata": {},
   "source": [
    "<p style = 'font-size:18px;font-family:Arial;color:#E37C4D'> <b>Databases and Tables </b></p>\n",
    "<p style = 'font-size:16px;font-family:Arial'>The following code will clean up tables and databases created above.</p>"
   ]
  },
  {
   "cell_type": "code",
   "execution_count": null,
   "id": "9472c2ca-65d0-4116-9c45-6411fcea52ef",
   "metadata": {},
   "outputs": [],
   "source": [
    "%run -i ../run_procedure.py \"call remove_data('DEMO_Energy');\"        # Takes 5 seconds"
   ]
  },
  {
   "cell_type": "code",
   "execution_count": null,
   "id": "adjacent-romantic",
   "metadata": {},
   "outputs": [],
   "source": [
    "remove_context()"
   ]
  },
  {
   "cell_type": "markdown",
   "id": "58b0b73e-0c50-4110-be9c-05aaf1181960",
   "metadata": {},
   "source": [
    "<footer style=\"padding:10px;background:#f9f9f9;border-bottom:3px solid #394851\">Copyright © Teradata Corporation - 2023. All Rights Reserved.</footer>"
   ]
  }
 ],
 "metadata": {
  "kernelspec": {
   "display_name": "Python 3 (ipykernel)",
   "language": "python",
   "name": "python3"
  },
  "language_info": {
   "codemirror_mode": {
    "name": "ipython",
    "version": 3
   },
   "file_extension": ".py",
   "mimetype": "text/x-python",
   "name": "python",
   "nbconvert_exporter": "python",
   "pygments_lexer": "ipython3",
   "version": "3.9.10"
  }
 },
 "nbformat": 4,
 "nbformat_minor": 5
}
