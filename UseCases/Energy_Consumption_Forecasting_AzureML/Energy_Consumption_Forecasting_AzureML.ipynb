{
 "cells": [
  {
   "cell_type": "markdown",
   "id": "acquired-consideration",
   "metadata": {},
   "source": [
    "<header style=\"padding:1px;background:#f9f9f9;border-top:3px solid #00b2b1\"><img id=\"Teradata-logo\" src=\"https://www.teradata.com/Teradata/Images/Rebrand/Teradata_logo-two_color.png\" alt=\"Teradata\" width=\"220\" align=\"right\" />\n",
    "\n",
    "<b style = 'font-size:28px;font-family:Arial;color:#E37C4D'>Energy Consumption Forecasting using AzureML</b>\n",
    "</header>"
   ]
  },
  {
   "cell_type": "markdown",
   "id": "0701a2ac-9d7c-4498-a23c-7ae3955f6a32",
   "metadata": {},
   "source": [
    "<p style = 'font-size:18px;font-family:Arial;color:#E37C4D'><b>Introduction:</b></p>\n",
    "\n",
    "<p style = 'font-size:16px;font-family:Arial'>In this business use case, we leverage the power of AzureML and Teradata Vantage to enhance our machine learning capabilities and enable scalable model scoring. Our goal is to efficiently utilize the strengths of both platforms to streamline our data analysis and decision-making processes.\n",
    "<br>\n",
    "<img src=\"images/microsoft-global-partnership-with-teradata.jpg\" alt=\"Microsoft X Teradata\">\n",
    "<br>\n",
    "<strong>Azure Machine Learning (AzureML):</strong> AzureML is a cloud-based platform provided by Microsoft, designed to simplify and accelerate the end-to-end machine learning workflow. It enables data scientists and developers to collaborate on data preparation, model training, and model deployment with ease, utilizing various frameworks and libraries for building intelligent applications.</p>\n",
    "\n",
    "<p style = 'font-size:16px;font-family:Arial;color:#E37C4D'><b>Key Highlights of the Demo:</b></p>\n",
    "<ol style = 'font-size:16px;font-family:Arial'>\n",
    "    <li><strong>Data Preparation and Exploration:</strong> With the connection established, we will explore the data available in Teradata Vantage and perform necessary data preparation steps to ensure the data is ready for model training.</li>\n",
    "    <li><strong>Model Training and Evaluation:</strong> Using AzureML's extensive library support and powerful compute resources, we will build a machine learning model tailored to our specific use case. We will then evaluate the model's performance to ensure its effectiveness.</li>\n",
    "    <li><strong>Inference using Teradata Vantage:</strong> Lastly, we will demonstrate how Teradata Vantage can execute the deployed AzureML model, enabling low-latency, high-throughput predictions directly from the Vantage platform.</li>\n",
    "</ol>\n",
    "\n",
    "<p style = 'font-size:16px;font-family:Arial'>Once the model is trained and validated within AzureML, we can seamlessly bring them back to Teradata Vantage. Here, we leverage Vantage's advanced functionality known as BYOM (Bring Your Own Model), which allows us to score our machine learning models directly within the Vantage environment. This capability empowers us to perform model scoring at scale, leveraging the high-performance and parallel processing capabilities of Vantage.</p>\n",
    "\n",
    "<p style = 'font-size:16px;font-family:Arial;color:#E37C4D'><b>Dataset:</b></p>\n",
    "<p style = 'font-size:16px;font-family:Arial'>The dataset used in this demo represents electricity consumption in Norway from the 1st of January 2016 to the 31st of August 2019. Each line in this dataset reflects consumption for one hour. Apart from electricity consumption, this datamart also reflects additional data: weather from multiple sources, daylight information and labour calendar. We collected all data from open data sources.</p>\n",
    "\n",
    "<p style = 'font-size:16px;font-family:Arial'><b>But what if I don't have AzureML?</b>  Don't worry, we will execute the steps before Dataiku would be used, show you screen shots of what the AzureML user would be doing, and then we've included the completed model that you will import into Vantage for scoring.</p>"
   ]
  },
  {
   "cell_type": "markdown",
   "id": "b85119eb-78d0-4d48-9ce4-01fb2709f146",
   "metadata": {},
   "source": [
    "<hr>\n",
    "<p style = 'font-size:18px;font-family:Arial;color:#E37C4D'><b>Downloading and installing additional software needed</b>"
   ]
  },
  {
   "cell_type": "code",
   "execution_count": null,
   "id": "7cce3f40-bf70-4c64-9152-6fb67c325924",
   "metadata": {},
   "outputs": [],
   "source": [
    "# %%capture\n",
    "# !pip install azureml-core azureml-sdk azureml"
   ]
  },
  {
   "cell_type": "markdown",
   "id": "77ae6ad1-0e84-4b75-bb15-48c76c69d932",
   "metadata": {},
   "source": [
    "<p style = 'font-size:16px;font-family:Arial'><i>The above statements may need to be uncommented if you run the notebooks on a platform other than ClearScape Analytics Experience that does not have the libraries installed. If you uncomment those installs, be sure to restart the kernel after executing those lines.</i></p>\n",
    "<p style = 'font-size:16px;font-family:Arial'>Here, we import the required libraries, set environment variables and environment paths (if required).</p>"
   ]
  },
  {
   "cell_type": "code",
   "execution_count": null,
   "id": "7c9d4207-bc98-428b-93d3-7955c99a34fa",
   "metadata": {},
   "outputs": [],
   "source": [
    "import os\n",
    "import getpass\n",
    "import sys\n",
    "import warnings\n",
    "\n",
    "import matplotlib.pyplot as plt\n",
    "import matplotlib.dates as mdates\n",
    "import numpy as np\n",
    "import pandas as pd\n",
    "\n",
    "from jdk4py import JAVA, JAVA_HOME, JAVA_VERSION\n",
    "\n",
    "from teradataml import *\n",
    "from teradataml.analytics.valib import *\n",
    "from teradataml.analytics.Transformations import *\n",
    "from teradataml.dataframe.copy_to import copy_to_sql\n",
    "from teradataml.dataframe.dataframe import DataFrame, in_schema\n",
    "from teradataml.context.context import create_context, remove_context, get_connection\n",
    "from teradataml.options.display import display\n",
    "\n",
    "from sklearn.pipeline import Pipeline\n",
    "from sklearn.metrics import mean_squared_error\n",
    "from sklearn.linear_model import LinearRegression\n",
    "from sklearn.ensemble import RandomForestRegressor\n",
    "from sklearn.preprocessing import MinMaxScaler\n",
    "\n",
    "from sklearn2pmml.pipeline import PMMLPipeline\n",
    "from sklearn2pmml import sklearn2pmml\n",
    "import seaborn as sns\n",
    "\n",
    "# Suppress warnings\n",
    "warnings.filterwarnings('ignore')\n",
    "display.max_rows = 5\n",
    "\n",
    "# Modify the following to match the specific client environment settings\n",
    "configure.val_install_location = 'val'\n",
    "configure.byom_install_location = 'mldb'\n",
    "os.environ['PATH'] = os.pathsep.join([os.environ['PATH'], str(JAVA_HOME), str(JAVA)[:-5]])"
   ]
  },
  {
   "cell_type": "markdown",
   "id": "b08d32da-e7b5-4512-8116-608b8f64004c",
   "metadata": {
    "tags": []
   },
   "source": [
    "<hr>\n",
    "<b style = 'font-size:28px;font-family:Arial;color:#E37C4D'>1. Initiate a connection to Vantage</b>\n",
    "<p style = 'font-size:18px;font-family:Arial;color:#E37C4D'> <b>Let's start by connecting to the Teradata system </b></p>\n",
    "<p style = 'font-size:16px;font-family:Arial'>You will be prompted to provide the password. Enter your password, press the Enter key, and then use the down arrow to go to the next cell.</p>"
   ]
  },
  {
   "cell_type": "code",
   "execution_count": null,
   "id": "8440f566-a0be-4dc7-abc3-b5c5e70291bf",
   "metadata": {},
   "outputs": [],
   "source": [
    "%run -i ../startup.ipynb\n",
    "eng = create_context(host = 'host.docker.internal', username='demo_user', password = password)\n",
    "print(eng)\n",
    "eng.execute('''SET query_band='DEMO=Energy_Consumption_Forecasting_AzureML.ipynb;' UPDATE FOR SESSION; ''')"
   ]
  },
  {
   "cell_type": "markdown",
   "id": "86b60563-efd1-4969-9177-a16dd5ff0d30",
   "metadata": {},
   "source": [
    "<p style = 'font-size:16px;font-family:Arial'>Begin running steps with Shift + Enter keys. </p>"
   ]
  },
  {
   "cell_type": "markdown",
   "id": "78841dac-5d26-4eb3-b9b8-726cce4e2b83",
   "metadata": {},
   "source": [
    "<p style = 'font-size:20px;font-family:Arial;color:#E37C4D'><b>Getting Data for This Demo</b></p>\n",
    "<p style = 'font-size:16px;font-family:Arial'>We have provided data for this demo on cloud storage. You can either run the demo using foreign tables to access the data without any storage on your environment or download the data to local storage, which may yield faster execution. Still, there could be considerations of available storage. Two statements are in the following cell, and one is commented out. You may switch which mode you choose by changing the comment string.</p>"
   ]
  },
  {
   "cell_type": "code",
   "execution_count": null,
   "id": "5c69f6a0-d700-45be-bab4-c93cd13458f6",
   "metadata": {},
   "outputs": [],
   "source": [
    "# %run -i ../run_procedure.py \"call get_data('DEMO_Energy_cloud');\"        # Takes 1 minutes\n",
    "%run -i ../run_procedure.py \"call get_data('DEMO_Energy_local');\"        # Takes 2 minutes"
   ]
  },
  {
   "cell_type": "markdown",
   "id": "57400b0a-c702-4013-9d8c-1f03f0496283",
   "metadata": {},
   "source": [
    "<p style = 'font-size:16px;font-family:Arial'>Next is an optional step – if you want to see the status of databases/tables created and space used.</p>"
   ]
  },
  {
   "cell_type": "code",
   "execution_count": null,
   "id": "81c9562f-32a1-4fe4-9feb-5d78bbf3a931",
   "metadata": {},
   "outputs": [],
   "source": [
    "%run -i ../run_procedure.py \"call space_report();\"        # Takes 10 seconds"
   ]
  },
  {
   "cell_type": "markdown",
   "id": "ce86f838-6785-40cb-9b99-a67781e2a395",
   "metadata": {},
   "source": [
    "<hr>\n",
    "<b style = 'font-size:28px;font-family:Arial;color:#E37C4D'>2. Data Exploration</b>\n",
    "\n",
    "<table style = 'width:100%;table-layout:fixed;'>\n",
    "<tr>\n",
    "    <td style = 'vertical-align:middle' width = '50%'>\n",
    "        <p style = 'font-size:16px;font-family:Arial'>Users can access large volumes of data by connecting remotely using the teradataml client connection library.  Python methods are translated to SQL and run remotely on the Vantage system.  Only the minimal amount of data required is copied to the client, allowing users to interact with data sets of any size and scale.\n",
    "    </td>\n",
    "    <td><img src = 'images/connect_and_discover.png' width = '400'></td>\n",
    "</tr>\n",
    "</table>\n",
    "\n",
    "<p style = 'font-size:16px;font-family:Arial'>Create a \"Virtual DataFrame\" that points to the data set in Vantage</p>"
   ]
  },
  {
   "cell_type": "code",
   "execution_count": null,
   "id": "3ebcb0e5-caf7-4e6a-8417-09d4105dc493",
   "metadata": {},
   "outputs": [],
   "source": [
    "df = DataFrame(in_schema(\"DEMO_Energy\", \"consumption\"))\n",
    "print(df.shape)"
   ]
  },
  {
   "cell_type": "markdown",
   "id": "2cb75208-dcee-4c2a-b32f-4baedb21e909",
   "metadata": {},
   "source": [
    "<p style = 'font-size:16px;font-family:Arial'>Let's investigate the data by looking at a data sample.</p>"
   ]
  },
  {
   "cell_type": "code",
   "execution_count": null,
   "id": "765d14de-d3af-4940-a19c-b41fc96f8d9e",
   "metadata": {},
   "outputs": [],
   "source": [
    "df"
   ]
  },
  {
   "cell_type": "markdown",
   "id": "ca5a0983-f482-46bc-a64e-50372bb4f19f",
   "metadata": {},
   "source": [
    "<p style = 'font-size:16px;font-family:Arial'>The dataset above shows the hourly consumption of energy. Multiple columns are potential factors affecting energy consumption, such as is_dark, is_holiday, etc.</p> "
   ]
  },
  {
   "cell_type": "code",
   "execution_count": null,
   "id": "11bbdb46-192a-4c5a-98e4-b1d06fb004a1",
   "metadata": {
    "tags": []
   },
   "outputs": [],
   "source": [
    "# Convert to pandas dataframe\n",
    "pd_df = df.to_pandas(all_rows=True)\n",
    "\n",
    "# Set the size of the plot\n",
    "plt.figure(figsize=(12, 6))\n",
    "\n",
    "# Create line plot using seaborn\n",
    "sns.set_palette(['#add8e6', '#90ee90', '#00bfff'])\n",
    "sns.lineplot(data=pd_df, x='TD_TIMECODE', y='consumption')\n",
    "\n",
    "# Add x label\n",
    "plt.xlabel('Date', fontsize=12)\n",
    "\n",
    "# Add y label\n",
    "plt.ylabel('Energy Units', fontsize=12)\n",
    "\n",
    "# Add title\n",
    "plt.title('Energy Demand', fontsize=16)\n",
    "\n",
    "# Add legend\n",
    "plt.legend(labels=['Energy'], fontsize=12)\n",
    "\n",
    "# Add grid lines\n",
    "plt.grid(axis='y', alpha=0.5)\n",
    "\n",
    "# Remove spines\n",
    "sns.despine()\n",
    "\n",
    "# Show the plot\n",
    "plt.show()"
   ]
  },
  {
   "cell_type": "code",
   "execution_count": null,
   "id": "d9ce13fa-e33f-440a-bb2e-12e6622eaa81",
   "metadata": {},
   "outputs": [],
   "source": [
    "# Normalize the data\n",
    "scaler = MinMaxScaler()\n",
    "cols = ['cap_air_temperature', 'cap_cloud_area_fraction', 'cap_precipitation_amount']\n",
    "pd_df[cols] = scaler.fit_transform(pd_df[cols])\n",
    "\n",
    "# Create three subplots\n",
    "fig, axs = plt.subplots(nrows=3, ncols=1, figsize=(12, 9))\n",
    "sns.set_palette(['#add8e6', '#90ee90', '#00bfff'])\n",
    "sns.lineplot(x='TD_TIMECODE', y='cap_air_temperature', data=pd_df, ax=axs[0])\n",
    "sns.lineplot(x='TD_TIMECODE', y='cap_cloud_area_fraction', data=pd_df, ax=axs[1])\n",
    "sns.lineplot(x='TD_TIMECODE', y='cap_precipitation_amount', data=pd_df, ax=axs[2])\n",
    "\n",
    "# Set the labels, titles, and other properties for each subplot\n",
    "cols = ['cap_air_temperature', 'cap_cloud_area_fraction', 'cap_precipitation_amount']\n",
    "for i, ax in enumerate(axs):\n",
    "    ax.set_ylabel('Normalized Values')\n",
    "    ax.set_title(cols[i])\n",
    "    ax.set_xlabel('Date')\n",
    "    ax.grid()\n",
    "    ax.xaxis.set_major_formatter(mdates.DateFormatter('%Y-%m-%d'))\n",
    "    fig.autofmt_xdate(rotation=45)\n",
    "\n",
    "plt.tight_layout()\n",
    "plt.show()"
   ]
  },
  {
   "cell_type": "markdown",
   "id": "22431d21-ad4c-4207-a80b-96e6ea670df3",
   "metadata": {},
   "source": [
    "<p style = 'font-size:16px;font-family:Arial'>The graph of cap_air_temperature shows an inverse relationship with energy consumption, meaning that in countries with colder climates like Norway, electricity usage tends to increase as the temperature drops, likely due to increased demand for heating. Conversely, electricity usage tends to decrease when the temperature rises, potentially due to reduced need for heating.</p> "
   ]
  },
  {
   "cell_type": "code",
   "execution_count": null,
   "id": "07e219a2-ecc6-4d75-92a1-f80e405b0661",
   "metadata": {},
   "outputs": [],
   "source": [
    "pd_df['quarter'] = pd_df['TD_TIMECODE'].dt.quarter\n",
    "# create boxplots for selected columns for each quarter\n",
    "sns.boxplot(x='quarter', y='consumption', data=pd_df, palette='pastel')"
   ]
  },
  {
   "cell_type": "markdown",
   "id": "554c7861-fb86-4d03-8d00-60af9e23c076",
   "metadata": {},
   "source": [
    "<p style = 'font-size:16px;font-family:Arial'>The above graph shows the distribution of energy consumption across quarters. It indicates that the 1st and 4th quarters across years witness high energy consumption due to cold weather, while the 3rd quarter witnesses the least energy consumption across years, indicating the summer season.</p> "
   ]
  },
  {
   "cell_type": "markdown",
   "id": "9bc27733-d8ae-4035-a789-6501fbcefcd4",
   "metadata": {},
   "source": [
    "<hr>\n",
    "<b style = 'font-size:28px;font-family:Arial;color:#E37C4D'>3. Data Preparation</b>\n",
    "\n",
    "<table style = 'width:100%;table-layout:fixed;'>\n",
    "<tr>\n",
    "    <td style = 'vertical-align:top' width = '50%'>\n",
    "        <p style = 'font-size:16px;font-family:Arial'>The Vantage Analytic Library is a suite of powerful functions that allows for whole-data-set descriptive analysis, data transformation, hypothesis testing, and algorithmic algorithms at an extreme scale.  As with all Vantage capabilities, these functions run in parallel at the source of the data</p>\n",
    "        <ol style = 'font-size:16px;font-family:Arial'>\n",
    "            <li>Create Feature Transformation objects</li>\n",
    "            <br>\n",
    "            <li>Define the columns to be retained in the analytic data set</li>\n",
    "            <br>\n",
    "            <li>Push the transformations to the data in Vantage</li>\n",
    "            <br>\n",
    "            <li>Inspect the results</li>\n",
    "        </ol>\n",
    "    </td>\n",
    "    <td><img src = 'images/VAL_transformation.png' width = '400'></td>\n",
    "</tr>\n",
    "</table>"
   ]
  },
  {
   "cell_type": "code",
   "execution_count": null,
   "id": "36183ce8-be23-412f-a0f6-4aeefd1d8cb7",
   "metadata": {},
   "outputs": [],
   "source": [
    "weekday_mapping = {1:'monday', 2:'tuesday', 3:'wednesday', 4:'thursday', 5:'friday', 6:'saturday', 7:'sunday'}\n",
    "weekday_t = OneHotEncoder(values = weekday_mapping, columns = 'weekday')\n",
    "\n",
    "hour_t = OneHotEncoder(values = [x for x in range(0,24)],  columns = 'h')\n",
    "\n",
    "rs = MinMaxScalar(columns = ['nasa_temp','cap_air_temperature', 'cap_cloud_area_fraction', 'cap_precipitation_amount'])\n",
    "\n",
    "rt = Retain(columns = ['consumption',\n",
    "                       'is_dark', 'is_light', 'is_from_light_to_dark', 'is_from_dark_to_light', \n",
    "                       'is_holiday', 'is_pre_holiday'])"
   ]
  },
  {
   "cell_type": "markdown",
   "id": "098b44a6-56ab-412f-b661-b4b3ae652077",
   "metadata": {},
   "source": [
    "<p style = 'font-size:16px;font-family:Arial'>The transformation objects created in the previous step will be used to prepare the data for modeling. Specifically, weekday_t and hour_t will be used to convert weekday and hour columns from numeric to one-hot encoded columns. rs will be used to scale the nasa_temp using MinMaxScalar, and rt will be used to retain the specified columns. These transformations will enable the data to be used effectively in a machine learning model.</p>"
   ]
  },
  {
   "cell_type": "code",
   "execution_count": null,
   "id": "6879ab57-8e84-480d-baaa-13c6012763c5",
   "metadata": {},
   "outputs": [],
   "source": [
    "t_output = valib.Transform(data = df,\n",
    "                           one_hot_encode = [weekday_t, hour_t], \n",
    "                           rescale = [rs], \n",
    "                           index_columns = 'TD_TIMECODE',\n",
    "                           retain = [rt])"
   ]
  },
  {
   "cell_type": "code",
   "execution_count": null,
   "id": "efaab645-8bad-4669-89e0-e6cd304e5c9b",
   "metadata": {},
   "outputs": [],
   "source": [
    "t_output.result"
   ]
  },
  {
   "cell_type": "markdown",
   "id": "35c02128-1322-4121-81e2-46bd83d345b0",
   "metadata": {},
   "source": [
    "<p style = 'font-size:16px;font-family:Arial'>Please scroll to the right and observe that we now have columns named <b>monday-sunday</b> and <b>0_h - 23_h</b>. Also, nasa_temp has been scaled.</p>"
   ]
  },
  {
   "cell_type": "code",
   "execution_count": null,
   "id": "accdc83f-eadd-4db6-b268-5d9d3d39e8fc",
   "metadata": {},
   "outputs": [],
   "source": [
    "output = t_output.result.to_pandas(all_rows = True).reset_index()\n",
    "normalize_value = int(output.tail(24).mean()['consumption'])\n",
    "normalize_value"
   ]
  },
  {
   "cell_type": "code",
   "execution_count": null,
   "id": "93ef6c48-18b7-4aee-8d69-210372cdfbd4",
   "metadata": {},
   "outputs": [],
   "source": [
    "copy_to_sql(output.iloc[:int(output.shape[0])-168],\n",
    "            table_name = 'train_df',\n",
    "            if_exists = 'replace')\n",
    "\n",
    "copy_to_sql(output.iloc[int(output.shape[0])-168:],\n",
    "            table_name = 'test_df',\n",
    "            if_exists = 'replace')"
   ]
  },
  {
   "cell_type": "markdown",
   "id": "4d9a806c-fa38-47fe-ba2f-d42e8d914e8b",
   "metadata": {
    "tags": []
   },
   "source": [
    "<hr>\n",
    "<b style = 'font-size:28px;font-family:Arial;color:#E37C4D'>2. AzureML</b>\n",
    "<ul style = 'font-size:16px;font-family:Arial'>\n",
    "<li>\n",
    "        <strong>Importing Required Libraries:</strong>\n",
    "        <p>\n",
    "            These typically include <code>azureml.core.authentication.InteractiveLoginAuthentication</code> and <code>azureml.core.Workspace</code>.\n",
    "        </p>\n",
    "    </li>\n",
    "</ul>"
   ]
  },
  {
   "cell_type": "code",
   "execution_count": null,
   "id": "f11d61f3-bc08-44b8-b165-e1b6de780779",
   "metadata": {},
   "outputs": [],
   "source": [
    "from azureml.core import Workspace, Experiment, ScriptRunConfig\n",
    "from azureml.core.authentication import InteractiveLoginAuthentication"
   ]
  },
  {
   "cell_type": "markdown",
   "id": "bcc2553a-a109-43cd-b2dc-fcb3e83f9c97",
   "metadata": {},
   "source": [
    "<ul style = 'font-size:16px;font-family:Arial'>\n",
    "<li>\n",
    "        <strong>Authentication:</strong>\n",
    "        <p>\n",
    "        The first line of code creates an instance of <code>InteractiveLoginAuthentication</code>. This class is used to authenticate and establish a connection to Azure services interactively. It allows you to log in to your Azure account using an interactive login prompt, where you provide your credentials, such as the tenant ID, username, and password.\n",
    "        </p>\n",
    "        <ul>\n",
    "            <li>\n",
    "                <code>tenant_id:</code> Replace \"xxx\" with your Azure tenant ID. This parameter is required and should be replaced with your Azure Active Directory (Azure AD) tenant ID. The tenant ID identifies the organization or tenant associated with your Azure subscription.\n",
    "            </li>\n",
    "        </ul>\n",
    "    </li>\n",
    "    <li>\n",
    "        <strong>Creating the Azure Machine Learning Workspace:</strong>\n",
    "        <p>\n",
    "        The second part of the code creates an instance of the <code>Workspace</code> class, which represents the Azure Machine Learning Workspace. This is the primary entry point for interacting with Azure Machine Learning resources.\n",
    "        </p>\n",
    "        <ul>\n",
    "            <li>\n",
    "                <code>subscription_id:</code> Replace \"xxx\" with your Azure subscription ID. The subscription ID identifies your Azure subscription, which is associated with the Azure Machine Learning resources.\n",
    "            </li>\n",
    "            <li>\n",
    "                <code>resource_group:</code> Replace \"Demo-AzureML\" with the name of the resource group where your Azure Machine Learning Workspace is located. A resource group is a logical container for resources in Azure.\n",
    "            </li>\n",
    "            <li>\n",
    "                <code>workspace_name:</code> Replace \"Demo-CSAE\" with the name of your Azure Machine Learning Workspace.\n",
    "            </li>\n",
    "            <li>\n",
    "                <code>auth:</code> The <code>auth</code> parameter is set to the previously created <code>InteractiveLoginAuthentication</code> instance. This provides the authentication context for the workspace.\n",
    "            </li>\n",
    "        </ul>\n",
    "    </li>\n",
    "</ul>"
   ]
  },
  {
   "cell_type": "code",
   "execution_count": null,
   "id": "ef2cb8eb-5b01-47d3-97d5-cbc7abccf371",
   "metadata": {},
   "outputs": [],
   "source": [
    "interactive_auth = InteractiveLoginAuthentication(tenant_id=\"xxx\")\n",
    "ws = Workspace(subscription_id=\"xxx\",\n",
    "               resource_group=\"Demo-AzureML\",\n",
    "               workspace_name=\"Demo-CSAE\",\n",
    "               auth=interactive_auth)"
   ]
  },
  {
   "cell_type": "code",
   "execution_count": null,
   "id": "660096fe-8169-4a5d-a09d-9c0dd5d9b175",
   "metadata": {},
   "outputs": [],
   "source": [
    "ws"
   ]
  },
  {
   "cell_type": "markdown",
   "id": "481b5c0c-2891-4074-965b-4340d15a096a",
   "metadata": {},
   "source": [
    "<ul style = 'font-size:16px;font-family:Arial'>\n",
    "    <li>\n",
    "        <strong>Creating an Experiment:</strong>\n",
    "        <p>\n",
    "        The code is creating an instance of the <code>Experiment</code> class, which represents an experiment in Azure Machine Learning. An experiment is a container that holds runs, and each run corresponds to a specific iteration or execution of a machine learning model or a data processing task.\n",
    "        </p>\n",
    "        <ul>\n",
    "            <li>\n",
    "                <code>workspace:</code> The <code>workspace</code> parameter is required and should be replaced with the actual Azure Machine Learning Workspace object (<code>ws</code>). This object represents the connection to your Azure Machine Learning workspace.\n",
    "            </li>\n",
    "            <li>\n",
    "                <code>name:</code> The <code>name</code> parameter is used to specify the name of the experiment. In the provided code, the experiment name is set to 'python_snippet'. You can change this to a more descriptive name that represents the purpose of your experiment.\n",
    "            </li>\n",
    "        </ul>\n",
    "    </li>\n",
    "</ul>"
   ]
  },
  {
   "cell_type": "code",
   "execution_count": null,
   "id": "e0f452cc-ec9c-4998-9c97-ec9d8c9dd1c5",
   "metadata": {},
   "outputs": [],
   "source": [
    "# Create an experiment\n",
    "experiment_name = 'python_snippet'\n",
    "experiment = Experiment(workspace = ws, name = experiment_name)"
   ]
  },
  {
   "cell_type": "markdown",
   "id": "1d91f734-6b5d-4c5c-ae2a-4882843c3cbb",
   "metadata": {},
   "source": [
    "<ul style = 'font-size:16px;font-family:Arial'>\n",
    "    <li>\n",
    "        <strong>Creating a ScriptRunConfig:</strong>\n",
    "        <p>\n",
    "        The code is creating an instance of the <code>ScriptRunConfig</code> class, which represents the configuration for running a script as an experiment in AzureML.\n",
    "        </p>\n",
    "        <ul>\n",
    "            <li>\n",
    "                <code>source_directory:</code> The <code>source_directory</code> parameter specifies the directory where the Python script <code>train.py</code> is located. The dot (<code>./</code>) represents the current working directory, assuming that the script is in the same directory as the Python script executing the code. Adjust this path if the <code>train.py</code> script is in a different directory.\n",
    "            </li>\n",
    "            <li>\n",
    "                <code>script:</code> The <code>script</code> parameter should be replaced with the filename of your Python snippet file, in this case, <code>'train.py'</code>. This script contains the code that will be executed as part of the experiment. You should replace <code>'train.py'</code> with the actual name of your Python script.\n",
    "            </li>\n",
    "            <li>\n",
    "                <code>compute_target:</code> The <code>compute_target</code> parameter specifies the name of the Azure Machine Learning compute target where the script will be executed. In this code, <code>'demo-compute'</code> is used as the compute target name. You should replace this with the actual name of your desired compute target.\n",
    "            </li>\n",
    "        </ul>\n",
    "    </li>\n",
    "</ul>"
   ]
  },
  {
   "cell_type": "code",
   "execution_count": null,
   "id": "ce28cb21-e560-4b69-85aa-40ccee453434",
   "metadata": {},
   "outputs": [],
   "source": [
    "# Create a ScriptRunConfig with the Python snippet\n",
    "script_run_config = ScriptRunConfig(source_directory='./',\n",
    "                                   script='train.py',  # Replace with your Python snippet file name\n",
    "                                   compute_target='demo-compute'  # Replace with your compute target name\n",
    "                                   )"
   ]
  },
  {
   "cell_type": "markdown",
   "id": "f04e360d-6c4f-4fbc-9d7e-60aa5cde25cc",
   "metadata": {},
   "source": [
    "<ul style = 'font-size:16px;font-family:Arial'>\n",
    "    <li>\n",
    "        <strong>Submitting the Script Run:</strong>\n",
    "        <p>\n",
    "        The first line of code is submitting the script run as an experiment using the <code>experiment.submit()</code> method. The <code>run</code> variable holds the run object returned by the <code>submit()</code> method. This run object represents the execution of the script on the specified compute target.\n",
    "        </p>\n",
    "        <ul>\n",
    "            <li>\n",
    "                <code>experiment:</code> The <code>experiment</code> object is the instance of the <code>Experiment</code> class that you created earlier. It represents the Azure Machine Learning experiment where you want to log and track the run results.\n",
    "            </li>\n",
    "            <li>\n",
    "                <code>config:</code> The <code>config</code> parameter is set to the previously created <code>script_run_config</code> object. This object contains the configuration for running the script, including the source code, dependencies, and execution settings.\n",
    "            </li>\n",
    "        </ul>\n",
    "    </li>\n",
    "    <li>\n",
    "        <strong>Waiting for Completion:</strong>\n",
    "        <p>\n",
    "        The second line of code is waiting for the script run to complete using the <code>wait_for_completion()</code> method of the <code>run</code> object. The method call includes <code>show_output=True</code>, which means that the output of the run will be shown in the console while waiting for completion.\n",
    "        </p>\n",
    "        <p>\n",
    "        The <code>wait_for_completion()</code> method allows the code to wait until the script execution finishes. This is useful for long-running scripts or experiments that require some time to complete. By setting <code>show_output=True</code>, you can view the progress and output of the script run in real-time.\n",
    "        </p>\n",
    "    </li>\n",
    "</ul>"
   ]
  },
  {
   "cell_type": "code",
   "execution_count": null,
   "id": "ed066c13-9579-4ff1-85a5-613bf3297a92",
   "metadata": {
    "tags": []
   },
   "outputs": [],
   "source": [
    "# Submit the script run\n",
    "run = experiment.submit(config=script_run_config)\n",
    "\n",
    "# Wait for the script run to complete\n",
    "run.wait_for_completion()"
   ]
  },
  {
   "cell_type": "markdown",
   "id": "92df57de-c492-460b-a22b-3ce8010d5a91",
   "metadata": {},
   "source": [
    "<div class=\"alert alert-block alert-info\">\n",
    "<p style = 'font-size:16px;font-family:Arial'><i><b>Note</b>: If you do not have AzureML or did not perform the above steps, the following cell will do the required setup to run the remaining notebook. <strong>Please uncomment and run the below cell.</strong></i></p>\n",
    "</div>"
   ]
  },
  {
   "cell_type": "code",
   "execution_count": null,
   "id": "19bc0ba2-a488-4538-892e-89a57853d7ad",
   "metadata": {},
   "outputs": [],
   "source": [
    "# # Load the PMML file into Vantage\n",
    "\n",
    "# model_ids = ['lr']\n",
    "# model_files = ['energy_consumption_LR.pmml']\n",
    "# table_name = 'azureml_models'\n",
    "\n",
    "# for model_id, model_file in zip(model_ids, model_files):\n",
    "#     try:\n",
    "#         save_byom(model_id = model_id, model_file = model_file, table_name = table_name)\n",
    "#     except Exception as e:\n",
    "#         # if our model exists, delete and rewrite\n",
    "#         if str(e.args).find('TDML_2200') >= 1:\n",
    "#             delete_byom(model_id = model_id, table_name = table_name)\n",
    "#             save_byom(model_id = model_id, model_file = model_file, table_name = table_name)\n",
    "#         else:\n",
    "#             raise ValueError(f\"Unable to save the model '{model_id}' in '{table_name}' due to the following error: {e}\")\n",
    "\n",
    "# # Show the bank_models table\n",
    "# list_byom(table_name)"
   ]
  },
  {
   "cell_type": "markdown",
   "id": "regional-poetry",
   "metadata": {},
   "source": [
    "<hr>\n",
    "<b style = 'font-size:28px;font-family:Arial;color:#E37C4D'>3. Model Scoring and Evaluation</b>\n",
    "\n",
    "<p style = 'font-size:16px;font-family:Arial'>The final step in this process is to test the trained model.  The PMMLPredict function will take the stored pipeline object (including any data preparation and mapping tasks) and execute it against the data on the Vantage Nodes.  Note that we can keep many models in the model table, with versioning, last scored timestamp, or any other management data to allow for the operational management of the process.</p>\n",
    "        <ol style = 'font-size:16px;font-family:Arial'>\n",
    "            <li>Create a pointer to the model in Vantage</li>\n",
    "            <li>Execute the Scoring function using the model against the testing data</li>\n",
    "            <li>Visualize the results</li>\n",
    "        </ol>"
   ]
  },
  {
   "cell_type": "code",
   "execution_count": null,
   "id": "7dd3f5de-48ac-40e8-8815-12066e927438",
   "metadata": {},
   "outputs": [],
   "source": [
    "# Obtain a pointer to the model\n",
    "table_name = 'azureml_models'\n",
    "model_id = 'lr'\n",
    "model_lr = retrieve_byom(model_id, table_name=table_name, schema_name=\"demo_user\")\n",
    "df_test = DataFrame('test_df')\n",
    "\n",
    "result_lr = PMMLPredict(\n",
    "            modeldata = model_lr,\n",
    "            newdata = df_test,\n",
    "            accumulate = ['TD_TIMECODE','consumption'],\n",
    "            ).result.to_pandas(all_rows = True)"
   ]
  },
  {
   "cell_type": "code",
   "execution_count": null,
   "id": "0c31e0ce-b465-44eb-87ac-42af306d4076",
   "metadata": {},
   "outputs": [],
   "source": [
    "result_lr"
   ]
  },
  {
   "cell_type": "markdown",
   "id": "aee4881e-3107-4567-aad6-4daac51b6231",
   "metadata": {},
   "source": [
    "<p style = 'font-size:16px;font-family:Arial'>In the above step, we use the PMMLPredict method from teradataml library to score the model in the database. The PMMLPredict function in Teradata allows users to score the PMML model directly on the data in the Vantage system, without having to move the data or the model outside the system. This can help to improve the efficiency and security of the scoring process.</p>"
   ]
  },
  {
   "cell_type": "markdown",
   "id": "6989b9d6-cd74-4e66-a2c6-c08051f4bcc1",
   "metadata": {},
   "source": [
    "<hr>\n",
    "<b style = 'font-size:28px;font-family:Arial;color:#E37C4D'>4. Visualize the results</b>"
   ]
  },
  {
   "cell_type": "code",
   "execution_count": null,
   "id": "e1e58fc8-b32a-4e73-93b0-d280381ada63",
   "metadata": {},
   "outputs": [],
   "source": [
    "# Create the subplots\n",
    "df_lr = result_lr\n",
    "\n",
    "fig, ax = plt.subplots(figsize=(14, 6))\n",
    "\n",
    "# Calculate RMS error for Linear Regression\n",
    "rms_lr = mean_squared_error(result_lr['consumption'], result_lr['prediction'].astype(float) + normalize_value, squared=False)\n",
    "\n",
    "# Plot Linear Regression\n",
    "ax.plot(df_lr.index, df_lr['consumption'], label=f'Actual Consumption', color='#1f77b4', linewidth=2)\n",
    "ax.plot(df_lr.index, df_lr['prediction'].astype(float) + normalize_value, label=f'Linear Regression (RMS={rms_lr:.2f})', color='#ff7f0e', linestyle='--')\n",
    "ax.set_ylabel('Energy Consumption')\n",
    "ax.set_title('Energy Consumption Prediction - Linear Regression')\n",
    "ax.legend()\n",
    "ax.grid(axis='y', linestyle='--')\n",
    "\n",
    "# Add a background color\n",
    "fig.patch.set_facecolor('#f2f2f2')\n",
    "\n",
    "# Display the plot\n",
    "plt.show()"
   ]
  },
  {
   "cell_type": "markdown",
   "id": "0db5e1b8-f01e-490b-a8f9-15f2d0a201b6",
   "metadata": {},
   "source": [
    "<p style = 'font-size:16px;font-family:Arial'>The above graph displays the Actual and Predicted values and Root Mean Squared (RMS) error value for Linear Regression models. The lower the RMS error value, the better the model's performance. </p>\n",
    "\n",
    "<p style = 'font-size:16px;font-family:Arial'>This demonstration has illustrated a simplified - but complete - overview of how a typical machine learning workflow can be improved using Vantage in conjunction with 3rd-party tools and techniques.  This combination allows users to leverage 3rd-party innovation with Vantage's operational scale, power, and stability.</p>"
   ]
  },
  {
   "cell_type": "markdown",
   "id": "256e9e44-3119-4852-8574-9303a40fcd52",
   "metadata": {},
   "source": [
    "<hr>\n",
    "<b style = 'font-size:28px;font-family:Arial;color:#E37C4D'>5. Cleanup</b>\n",
    "<p style = 'font-size:18px;font-family:Arial;color:#E37C4D'><b>Work Tables</b></p>\n",
    "<p style = 'font-size:16px;font-family:Arial'>Cleanup work tables to prevent errors next time.</p>"
   ]
  },
  {
   "cell_type": "code",
   "execution_count": null,
   "id": "b52ce515-d02e-4872-91ae-7735a9db9ef3",
   "metadata": {},
   "outputs": [],
   "source": [
    "db_drop_table(table_name='train_df', schema_name = 'demo_user')"
   ]
  },
  {
   "cell_type": "code",
   "execution_count": null,
   "id": "a80323e7-2d7b-40e1-be91-2ed040b795bf",
   "metadata": {},
   "outputs": [],
   "source": [
    "db_drop_table(table_name='test_df', schema_name = 'demo_user')"
   ]
  },
  {
   "cell_type": "code",
   "execution_count": null,
   "id": "2024e65c-581b-4b59-9d09-75995a7d07a7",
   "metadata": {},
   "outputs": [],
   "source": [
    "db_drop_table(table_name='azureml_models', schema_name = 'demo_user')"
   ]
  },
  {
   "cell_type": "markdown",
   "id": "d377fef9-b377-4b59-a313-5eb9784dba93",
   "metadata": {},
   "source": [
    "<p style = 'font-size:18px;font-family:Arial;color:#E37C4D'> <b>Databases and Tables </b></p>\n",
    "<p style = 'font-size:16px;font-family:Arial'>The following code will clean up tables and databases created above.</p>"
   ]
  },
  {
   "cell_type": "code",
   "execution_count": null,
   "id": "9472c2ca-65d0-4116-9c45-6411fcea52ef",
   "metadata": {},
   "outputs": [],
   "source": [
    "%run -i ../run_procedure.py \"call remove_data('DEMO_Energy');\"        # Takes 5 seconds"
   ]
  },
  {
   "cell_type": "code",
   "execution_count": null,
   "id": "adjacent-romantic",
   "metadata": {},
   "outputs": [],
   "source": [
    "remove_context()"
   ]
  },
  {
   "cell_type": "markdown",
   "id": "58b0b73e-0c50-4110-be9c-05aaf1181960",
   "metadata": {},
   "source": [
    "<footer style=\"padding:10px;background:#f9f9f9;border-bottom:3px solid #394851\">Copyright © Teradata Corporation - 2023. All Rights Reserved.</footer>"
   ]
  }
 ],
 "metadata": {
  "kernelspec": {
   "display_name": "Python 3 (ipykernel)",
   "language": "python",
   "name": "python3"
  },
  "language_info": {
   "codemirror_mode": {
    "name": "ipython",
    "version": 3
   },
   "file_extension": ".py",
   "mimetype": "text/x-python",
   "name": "python",
   "nbconvert_exporter": "python",
   "pygments_lexer": "ipython3",
   "version": "3.9.10"
  }
 },
 "nbformat": 4,
 "nbformat_minor": 5
}
