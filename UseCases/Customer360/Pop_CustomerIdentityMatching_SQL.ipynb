{
 "cells": [
  {
   "cell_type": "markdown",
   "id": "e39130df",
   "metadata": {},
   "source": [
    "<header>\n",
    "   <p  style='font-size:36px;font-family:Arial; color:#F0F0F0; background-color: #00233c; padding-left: 20pt; padding-top: 20pt;padding-bottom: 10pt; padding-right: 20pt;'>\n",
    "       Creating the Golden Record and Possible Uses\n",
    "  <br>\n",
    "       <img id=\"teradata-logo\" src=\"https://storage.googleapis.com/clearscape_analytics_demo_data/DEMO_Logo/teradata.svg\" alt=\"Teradata\" style=\"width: 125px; height: auto; margin-top: 20pt;\">\n",
    "    </p>\n",
    "</header>\n"
   ]
  },
  {
   "cell_type": "markdown",
   "id": "5dae4f7d",
   "metadata": {},
   "source": [
    "<p style = 'font-size:20px;font-family:Arial;color:#00233C'><b>Introduction</b></p>\n",
    "<p style = 'font-size:16px;font-family:Arial;color:#00233C'>Companies rely on accurate customer valuations to correctly determine how to treat certain classes, what offers to serve them, and how much effort to exert in retaining them. Multi-channel companies often have silos of data from separate sales channels and supplement the data using third-party sources. These multi-channel companies need to combine the data souces to create a holistic view of their customers, particularly their valuation. This demonstration showcases Vantage's capabilities in matching customers from different datasets.</p>\n",
    "\n",
    "<p style = 'font-size:16px;font-family:Arial;color:#00233C'>Data analysts match customers across different data sources by calculating the similarity between two names (or other fields) using one of several distance measurements. Steps involved in matching two strings are:</p>\n",
    "\n",
    "<table style = 'width:100%;table-layout:fixed;'>\n",
    "    <tr>\n",
    "        <td style = 'vertical-align:top' width = '50%'>\n",
    "            <ol style = 'font-size:16px;font-family:Arial;color:#00233C'>\n",
    "                <li>Select one string to be the base and the other to be the target</li>\n",
    "                <br>\n",
    "                <li>Select a string comparison type to use. Examples include Jaro, Jaro-Winkler, Hamming, and cosine</li>\n",
    "                <br>\n",
    "                <li>Determine the number of insertions, deletions, replacements, and tranpositions needed to morph the base string into the target string</li>\n",
    "                <br>\n",
    "                <li>Calculate the similarity of the two strings by using the formula for the string comparison type chosen and the insertions, deletions, replacements, and transposes</li>\n",
    "            </ol>\n",
    "        </td>\n",
    "        <td><img src = 'images/counting.png' width = '250'></td>\n",
    "    </tr>\n",
    "</table>\n",
    "\n",
    "\n",
    "<b style = 'font-size:16px;font-family:Arial;color:#00233C'>Leverage native Vantage processing for efficient data field matching workflows</b>\n",
    "\n",
    "<p style = 'font-size:16px;font-family:Arial;color:#00233C'>ClearScape Analytics provides a StringSimilarity function to calculate how close two key strings are. Typically, analysts will use different key strings depending on the lists. For example, matching on name works when combining two customer lists, whereas matching on physical addresses works when comparing a customer list with a household list.</p>\n",
    "\n",
    "<p style = 'font-size:16px;font-family:Arial;color:#00233C'>Data engineers  combine lists two at a time. For instance, combining four lists A, B, C, and D involves three matching steps. The first step combines A and B to form AB. The second step combines lists AB with C to form ABC. The final step combines ABC with D to form ABCD. Each step requires its own matching table and possibly different key strings.</p>\n",
    "\n",
    "<img src = 'images/fourlists.png' width = 50% align = \"center\">\n"
   ]
  },
  {
   "cell_type": "markdown",
   "id": "4adcffde",
   "metadata": {},
   "source": [
    "<b style = 'font-size:20px;font-family:Arial;color:#00233C'>Data</b>\n",
    "\n",
    "<p style = 'font-size:16px;font-family:Arial;color:#00233C'>The data for this demonstration is based on a brick-and-mortar equipment distributor selling to farmers in four states: New York, Ohio, Pennsylvania, and West Virginia. Over time, this company built a reliable customer list. As customers asked for electronic monitoring service, the company employed an online partner to sell this product. The company also outsourced its call center to a third-party to handle customer service at a cost. Finally, the company worked with a digital marketing group to place cookies on website visitors.</p>\n",
    "\n",
    "\n",
    "<p style = 'font-size:16px;font-family:Arial;color:#00233C'>The goal is to create a golden record of customers by combining the four lists mentioned above.  Steps in this demonstration are as follows:</p>\n",
    "\n",
    "<table style = 'width:100%;table-layout:fixed;'>\n",
    "    <tr>\n",
    "        <td style = 'vertical-align:top' width = '50%'>\n",
    "            <ol style = 'font-size:16px;font-family:Arial;color:#00233C'>\n",
    "                <li>Analyze the raw data from each of the four sources</li>\n",
    "                <br>\n",
    "                <li>Append matched online data to the equipment data</li>\n",
    "                <br>\n",
    "                <li>Append call center data</li>\n",
    "                <br>\n",
    "                <li>Append tagging data</li>\n",
    "                <br>\n",
    "                <li>Calculate lifetime value</li>\n",
    "            </ol>\n",
    "        </td>\n",
    "        <td><img src = 'images/process.png' width = '250'></td>\n",
    "    </tr>\n",
    "</table>"
   ]
  },
  {
   "cell_type": "markdown",
   "id": "75157714-ad50-40f0-bd0e-38fea9f76c1e",
   "metadata": {},
   "source": [
    "<hr style=\"height:2px;border:none;background-color:#00233C;\">\n",
    "\n",
    "<p style = 'font-size:20px;font-family:Arial;color:#00233C'><b>1. Connect to Vantage </b></p>\n",
    "<p style = 'font-size:16px;font-family:Arial;color:#00233C'>You will be prompted to provide the password. Enter your password, press Enter, then use down arrow to go to next cell.</p>"
   ]
  },
  {
   "cell_type": "code",
   "execution_count": 1,
   "id": "ba7c1828-741a-4089-a21e-f7ea46a4f577",
   "metadata": {
    "tags": []
   },
   "outputs": [
    {
     "name": "stdin",
     "output_type": "stream",
     "text": [
      "Password: ········\n"
     ]
    },
    {
     "name": "stdout",
     "output_type": "stream",
     "text": [
      "Success: 'local' connection established and activated for user 'demo_user', with default database 'demo_user'\n"
     ]
    }
   ],
   "source": [
    "%connect local, hidewarnings=true"
   ]
  },
  {
   "cell_type": "markdown",
   "id": "cad4f702-9018-4deb-b5e6-aa4f1d3b0cef",
   "metadata": {},
   "source": [
    "<p style = 'font-size:16px;font-family:Arial;color:#00233C'>Setup for execution of notebook. Begin running steps with Shift + Enter keys.</p>\n"
   ]
  },
  {
   "cell_type": "code",
   "execution_count": 2,
   "id": "d165bf64-906e-46c7-afe0-ac577a19d201",
   "metadata": {},
   "outputs": [
    {
     "data": {
      "text/plain": [
       "Success: 1 rows affected"
      ]
     },
     "execution_count": 2,
     "metadata": {
      "application/vnd.teradata.resultset": ""
     },
     "output_type": "execute_result"
    }
   ],
   "source": [
    "Set query_band='DEMO=CustomerIdentityMatching_SQL.ipynb;' update for session;"
   ]
  },
  {
   "cell_type": "markdown",
   "id": "cd952154-8e89-473c-a4e1-c15b9a4cc7aa",
   "metadata": {},
   "source": [
    "<hr style=\"height:2px;border:none;background-color:#00233C;\">\n",
    "\n",
    "<p style = 'font-size:20px;font-family:Arial;color:#00233C'><b>2. Getting Data for This Demo</b></p>\n",
    "<p style = 'font-size:16px;font-family:Arial;color:#00233C'>We have provided data for this demo on cloud storage.  You have the option of either running the demo using foreign tables to access the data without using any storage on your environment or downloading the data to local storage which may yield somewhat faster execution, but there could be considerations of available storage.  There are two statements in the following cell, and one is commented out.  You may switch which mode you choose by changing the comment string.</p>\n"
   ]
  },
  {
   "cell_type": "code",
   "execution_count": 3,
   "id": "bb54055c-7d11-469d-b589-ae1ad820e14b",
   "metadata": {},
   "outputs": [
    {
     "data": {
      "text/plain": [
       "Success: 0 rows affected"
      ]
     },
     "execution_count": 3,
     "metadata": {
      "application/vnd.teradata.resultset": ""
     },
     "output_type": "execute_result"
    },
    {
     "data": {
      "text/plain": [
       "Success: 0 rows affected"
      ]
     },
     "execution_count": 3,
     "metadata": {
      "application/vnd.teradata.resultset": ""
     },
     "output_type": "execute_result"
    },
    {
     "data": {
      "application/vnd.teradata.resultset": "\"Message\"\n\"That ran for   0:00:35.07 with 25 statements and 0 errors. \"",
      "text/html": [
       "<div class = \"td-resultset-table-div\" style = \"max-height: 100%; overflow-y: auto\">\n",
       "      <table class=\"tdhistory336416\"><style>\n",
       "      table.tdhistory336416 { display: block !important; min-height: 105px !important; overflow: auto !important; height: 105px !important; width: 100% !important; border: 1px solid rgb(207, 207, 207) !important; border-collapse: collapse !important; ; color: var(--jp-ui-font-color1) !important; }\n",
       "      th.tdhistory336416 { border: 1px solid rgb(198,198,198) !important; border-collapse: collapse !important; ; padding: 2px 5px !important; ; font-size: 13px !important; ; text-align: center !important; white-space: normal !important; color: var(--jp-ui-font-color1) !important; }\n",
       "      th.tdhistory336416:last-child { text-align: left !important; }\n",
       "      tbody.tdhistory336416 tr:nth-child(even) { background: rgba(243, 243, 243, 0.75) !important; }\n",
       "      tbody.tdhistory336416 tr:nth-child(odd) { background: var(--jp-ui-inverse-font-color1) !important; }\n",
       "      td.tdhistory336416 { border: 1px solid rgb(207, 207, 207) !important; border-collapse: collapse !important; ; padding: 2px 5px !important; ; font-size: 13px !important; ; text-align: left !important;          white-space: nowrap !important; overflow:hidden !important; text-overflow:ellipsis !important;; }\n",
       "    </style><thead><tr style= \"background: rgba(243, 243, 243, 0.75)\"><th class=\"tdhistory336416\"></th><th class=\"tdhistory336416\">Message</th></tr></thead><tbody class=\"tdhistory336416 resultset-body\"><tr><th class=\"tdhistory336416\" style= \"background: rgba(243, 243, 243, 0.75)\">1</th><td class=\"tdhistory336416\">That ran for   0:00:35.07 with 25 statements and 0 errors. </td></tr></tbody></table></div>"
      ]
     },
     "execution_count": 3,
     "metadata": {
      "application/vnd.teradata.resultset": "{\"resultSetID\":\"/home/jovyan/JupyterLabRoot/Teradata/Resultsets/2023.12.21_06.27.00.355_UTC\",\"historyID\":247,\"chunkID\":\"00001\",\"sessionid\":\"\",\"portnum\":\"\",\"dockermode\":\"docker\",\"totalRowCount\":1,\"chunkCount\":0,\"rowLimit\":0,\"columnMetadata\":[{\"columnName\":\"Message\",\"columnTypeName\":\"VARCHAR\",\"length\":150,\"scale\":150}]}"
     },
     "output_type": "execute_result"
    }
   ],
   "source": [
    "--call get_data('DEMO_Customer360_cloud'); ---takes about 10 seconds\n",
    "call get_data('DEMO_Customer360_local'); ---takes about 30 seconds"
   ]
  },
  {
   "cell_type": "markdown",
   "id": "b09c43a5-b29e-4ffa-ae85-0fe5b9134300",
   "metadata": {},
   "source": [
    "<p style = 'font-size:16px;font-family:Arial;color:#00233C'>Optional step – if you want to see status of databases/tables created and space used.</p>\n"
   ]
  },
  {
   "cell_type": "code",
   "execution_count": 4,
   "id": "ca177ad2-ac1d-4024-a256-c37f90e24297",
   "metadata": {
    "tags": []
   },
   "outputs": [
    {
     "data": {
      "text/plain": [
       "Success: 0 rows affected"
      ]
     },
     "execution_count": 4,
     "metadata": {
      "application/vnd.teradata.resultset": ""
     },
     "output_type": "execute_result"
    },
    {
     "data": {
      "text/plain": [
       "Success: 0 rows affected"
      ]
     },
     "execution_count": 4,
     "metadata": {
      "application/vnd.teradata.resultset": ""
     },
     "output_type": "execute_result"
    },
    {
     "data": {
      "application/vnd.teradata.resultset": "\"Space_Report\"\n\"You have:  #databases=4 #tables=53 #views=6  You have used 14.7 MB of 27,890.4 MB available - 0.1%  ... Space Usage OK\"\n\" \"\n\"   Database Name                  #tables  #views     Avail MB      Used MB\"\n\"   demo_user                           48       1  27,822.3 MB      14.1 MB \"\n\"   DEMO_Customer360                     0       4       0.0 MB       0.0 MB \"\n\"   DEMO_Customer360_db                  4       0      58.0 MB       0.4 MB \"\n\"   DEMO_GraphAnalysis                   0       1       0.0 MB       0.0 MB \"\n\"   DEMO_GraphAnalysis_db                1       0      10.1 MB       0.2 MB \"",
      "text/html": [
       "<div class = \"td-resultset-table-div\" style = \"max-height: 100%; overflow-y: auto\">\n",
       "      <table class=\"tdhistory949547\"><style>\n",
       "      table.tdhistory949547 { display: block !important; min-height: 252px !important; overflow: auto !important; height: 252px !important; width: 100% !important; border: 1px solid rgb(207, 207, 207) !important; border-collapse: collapse !important; ; color: var(--jp-ui-font-color1) !important; }\n",
       "      th.tdhistory949547 { border: 1px solid rgb(198,198,198) !important; border-collapse: collapse !important; ; padding: 2px 5px !important; ; font-size: 13px !important; ; text-align: center !important; white-space: normal !important; color: var(--jp-ui-font-color1) !important; }\n",
       "      th.tdhistory949547:last-child { text-align: left !important; }\n",
       "      tbody.tdhistory949547 tr:nth-child(even) { background: rgba(243, 243, 243, 0.75) !important; }\n",
       "      tbody.tdhistory949547 tr:nth-child(odd) { background: var(--jp-ui-inverse-font-color1) !important; }\n",
       "      td.tdhistory949547 { border: 1px solid rgb(207, 207, 207) !important; border-collapse: collapse !important; ; padding: 2px 5px !important; ; font-size: 13px !important; ; text-align: left !important;          white-space: nowrap !important; overflow:hidden !important; text-overflow:ellipsis !important;; }\n",
       "    </style><thead><tr style= \"background: rgba(243, 243, 243, 0.75)\"><th class=\"tdhistory949547\"></th><th class=\"tdhistory949547\">Space_Report</th></tr></thead><tbody class=\"tdhistory949547 resultset-body\"><tr><th class=\"tdhistory949547\" style= \"background: rgba(243, 243, 243, 0.75)\">1</th><td class=\"tdhistory949547\">You have:  #databases=4 #tables=53 #views=6  You have used 14.7 MB of 27,890.4 MB available - 0.1%  ... Space Usage OK</td></tr><tr><th class=\"tdhistory949547\" style= \"background: rgba(243, 243, 243, 0.75)\">2</th><td class=\"tdhistory949547\"> </td></tr><tr><th class=\"tdhistory949547\" style= \"background: rgba(243, 243, 243, 0.75)\">3</th><td class=\"tdhistory949547\">   Database Name                  #tables  #views     Avail MB      Used MB</td></tr><tr><th class=\"tdhistory949547\" style= \"background: rgba(243, 243, 243, 0.75)\">4</th><td class=\"tdhistory949547\">   demo_user                           48       1  27,822.3 MB      14.1 MB </td></tr><tr><th class=\"tdhistory949547\" style= \"background: rgba(243, 243, 243, 0.75)\">5</th><td class=\"tdhistory949547\">   DEMO_Customer360                     0       4       0.0 MB       0.0 MB </td></tr><tr><th class=\"tdhistory949547\" style= \"background: rgba(243, 243, 243, 0.75)\">6</th><td class=\"tdhistory949547\">   DEMO_Customer360_db                  4       0      58.0 MB       0.4 MB </td></tr><tr><th class=\"tdhistory949547\" style= \"background: rgba(243, 243, 243, 0.75)\">7</th><td class=\"tdhistory949547\">   DEMO_GraphAnalysis                   0       1       0.0 MB       0.0 MB </td></tr><tr><th class=\"tdhistory949547\" style= \"background: rgba(243, 243, 243, 0.75)\">8</th><td class=\"tdhistory949547\">   DEMO_GraphAnalysis_db                1       0      10.1 MB       0.2 MB </td></tr></tbody></table></div>"
      ]
     },
     "execution_count": 4,
     "metadata": {
      "application/vnd.teradata.resultset": "{\"resultSetID\":\"/home/jovyan/JupyterLabRoot/Teradata/Resultsets/2023.12.21_06.27.02.830_UTC\",\"historyID\":248,\"chunkID\":\"00001\",\"sessionid\":\"\",\"portnum\":\"\",\"dockermode\":\"docker\",\"totalRowCount\":8,\"chunkCount\":0,\"rowLimit\":0,\"columnMetadata\":[{\"columnName\":\"Space_Report\",\"columnTypeName\":\"VARCHAR\",\"length\":150,\"scale\":150}]}"
     },
     "output_type": "execute_result"
    }
   ],
   "source": [
    "call space_report();  -- optional, takes about 10 seconds"
   ]
  },
  {
   "cell_type": "markdown",
   "id": "36a5d933",
   "metadata": {},
   "source": [
    "<hr style=\"height:2px;border:none;background-color:#00233C;\">\n",
    "\n",
    "<p style = 'font-size:20px;font-family:Arial;color:#00233C'><b>3. Analyze Raw Data</b></p>\n",
    "\n",
    "<p style = 'font-size:16px;font-family:Arial;color:#00233C'>Here, we will inspect each of the four data sets, and determine what fields to use from each table to create a comparison key string.</p>\n",
    "\n",
    "<p style = 'font-size:16px;font-family:Arial;color:#00233C'>We will inspect:</p>\n",
    "<ol style = 'font-size:16px;font-family:Arial;color:#00233C'>\n",
    "    <li>The equipment distributor's customer table</li>\n",
    "    <li>The electronic monitor service's e-commerce list relative to the customer table</li>\n",
    "    <li>The call center list relative to the customer table</li>\n",
    "    <li>The tagging list relative to the customer table</li>        \n",
    "</ol>\n",
    "    \n",
    "<p style = 'font-size:16px;font-family:Arial;color:#00233C'>Replace the following with a valid connection name:</p>"
   ]
  },
  {
   "cell_type": "markdown",
   "id": "8d6c7441",
   "metadata": {},
   "source": [
    "<hr style=\"height:1px;border:none;background-color:#00233C;\">\n",
    "<p style = 'font-size:18px;font-family:Arial;color:#00233C'><b>3.1- Inspect the Equipment Reseller's Customer Table</b></p>\n",
    "\n",
    "<p style = 'font-size:16px;font-family:Arial;color:#00233C'>The simple SQL select query below shows that the fields include a customer ID, gender, name, address, and a lifetime value for this channel.</p>"
   ]
  },
  {
   "cell_type": "code",
   "execution_count": 5,
   "id": "ad8b7760",
   "metadata": {},
   "outputs": [
    {
     "data": {
      "application/vnd.teradata.resultset": "\"CUST_ID\",\"GENDER\",\"FIRSTNAME\",\"LASTNAME\",\"ADDRESS\",\"STATE\",\"CITY\",\"ZIP\",\"EQUIP_LTV\"\n\"19579\",\"M\",\"Pedro\",\"Gonsalves\",\"1233 El Camino Real\",\"NY\",\"Greenville\",\"10586\",\"6159\"\n\"19688\",\"F\",\"Luiza\",\"Teixeira\",\"1522 North U.S. Highway 1\",\"OH\",\"Kerr\",\"45643\",\"5894\"\n\"22143\",\"M\",\"Lucas\",\"Moreau\",\"1455 Sixth Street\",\"OH\",\"Winchester\",\"45697\",\"6299\"\n\"22142\",\"F\",\"Beatriz\",\"Gonsalves\",\"1212 Fifth Street\",\"OH\",\"Fairfield\",\"45018\",\"6463\"\n\"20575\",\"F\",\"Laura\",\"DeSilva\",\"11 Red Mill Road\",\"PA\",\"New Castle\",\"16105\",\"5652\"",
      "text/html": [
       "<div class = \"td-resultset-table-div\" style = \"max-height: 100%; overflow-y: auto\">\n",
       "      <table class=\"tdhistory130049\"><style>\n",
       "      table.tdhistory130049 { display: block !important; min-height: 189px !important; overflow: auto !important; height: 189px !important; width: 100% !important; border: 1px solid rgb(207, 207, 207) !important; border-collapse: collapse !important; ; color: var(--jp-ui-font-color1) !important; }\n",
       "      th.tdhistory130049 { border: 1px solid rgb(198,198,198) !important; border-collapse: collapse !important; ; padding: 2px 5px !important; ; font-size: 13px !important; ; text-align: center !important; white-space: normal !important; color: var(--jp-ui-font-color1) !important; }\n",
       "      th.tdhistory130049:last-child { text-align: left !important; }\n",
       "      tbody.tdhistory130049 tr:nth-child(even) { background: rgba(243, 243, 243, 0.75) !important; }\n",
       "      tbody.tdhistory130049 tr:nth-child(odd) { background: var(--jp-ui-inverse-font-color1) !important; }\n",
       "      td.tdhistory130049 { border: 1px solid rgb(207, 207, 207) !important; border-collapse: collapse !important; ; padding: 2px 5px !important; ; font-size: 13px !important; ; text-align: left !important;          white-space: nowrap !important; overflow:hidden !important; text-overflow:ellipsis !important;; }\n",
       "    </style><thead><tr style= \"background: rgba(243, 243, 243, 0.75)\"><th class=\"tdhistory130049\"></th><th class=\"tdhistory130049\">CUST_ID</th><th class=\"tdhistory130049\">GENDER</th><th class=\"tdhistory130049\">FIRSTNAME</th><th class=\"tdhistory130049\">LASTNAME</th><th class=\"tdhistory130049\">ADDRESS</th><th class=\"tdhistory130049\">STATE</th><th class=\"tdhistory130049\">CITY</th><th class=\"tdhistory130049\">ZIP</th><th class=\"tdhistory130049\">EQUIP_LTV</th></tr></thead><tbody class=\"tdhistory130049 resultset-body\"><tr><th class=\"tdhistory130049\" style= \"background: rgba(243, 243, 243, 0.75)\">1</th><td class=\"tdhistory130049\">19579</td><td class=\"tdhistory130049\">M</td><td class=\"tdhistory130049\">Pedro</td><td class=\"tdhistory130049\">Gonsalves</td><td class=\"tdhistory130049\">1233 El Camino Real</td><td class=\"tdhistory130049\">NY</td><td class=\"tdhistory130049\">Greenville</td><td class=\"tdhistory130049\">10586</td><td class=\"tdhistory130049\">6159</td></tr><tr><th class=\"tdhistory130049\" style= \"background: rgba(243, 243, 243, 0.75)\">2</th><td class=\"tdhistory130049\">19688</td><td class=\"tdhistory130049\">F</td><td class=\"tdhistory130049\">Luiza</td><td class=\"tdhistory130049\">Teixeira</td><td class=\"tdhistory130049\">1522 North U.S. Highway 1</td><td class=\"tdhistory130049\">OH</td><td class=\"tdhistory130049\">Kerr</td><td class=\"tdhistory130049\">45643</td><td class=\"tdhistory130049\">5894</td></tr><tr><th class=\"tdhistory130049\" style= \"background: rgba(243, 243, 243, 0.75)\">3</th><td class=\"tdhistory130049\">22143</td><td class=\"tdhistory130049\">M</td><td class=\"tdhistory130049\">Lucas</td><td class=\"tdhistory130049\">Moreau</td><td class=\"tdhistory130049\">1455 Sixth Street</td><td class=\"tdhistory130049\">OH</td><td class=\"tdhistory130049\">Winchester</td><td class=\"tdhistory130049\">45697</td><td class=\"tdhistory130049\">6299</td></tr><tr><th class=\"tdhistory130049\" style= \"background: rgba(243, 243, 243, 0.75)\">4</th><td class=\"tdhistory130049\">22142</td><td class=\"tdhistory130049\">F</td><td class=\"tdhistory130049\">Beatriz</td><td class=\"tdhistory130049\">Gonsalves</td><td class=\"tdhistory130049\">1212 Fifth Street</td><td class=\"tdhistory130049\">OH</td><td class=\"tdhistory130049\">Fairfield</td><td class=\"tdhistory130049\">45018</td><td class=\"tdhistory130049\">6463</td></tr><tr><th class=\"tdhistory130049\" style= \"background: rgba(243, 243, 243, 0.75)\">5</th><td class=\"tdhistory130049\">20575</td><td class=\"tdhistory130049\">F</td><td class=\"tdhistory130049\">Laura</td><td class=\"tdhistory130049\">DeSilva</td><td class=\"tdhistory130049\">11 Red Mill Road</td><td class=\"tdhistory130049\">PA</td><td class=\"tdhistory130049\">New Castle</td><td class=\"tdhistory130049\">16105</td><td class=\"tdhistory130049\">5652</td></tr></tbody></table></div>"
      ]
     },
     "execution_count": 5,
     "metadata": {
      "application/vnd.teradata.resultset": "{\"resultSetID\":\"/home/jovyan/JupyterLabRoot/Teradata/Resultsets/2023.12.21_06.27.03.007_UTC\",\"historyID\":249,\"chunkID\":\"00001\",\"sessionid\":\"\",\"portnum\":\"\",\"dockermode\":\"docker\",\"totalRowCount\":5,\"chunkCount\":0,\"rowLimit\":0,\"columnMetadata\":[{\"columnName\":\"CUST_ID\",\"columnTypeName\":\"SMALLINT\"},{\"columnNumber\":1,\"columnName\":\"GENDER\",\"columnTypeName\":\"VARCHAR\",\"length\":1,\"scale\":1},{\"columnNumber\":2,\"columnName\":\"FIRSTNAME\",\"columnTypeName\":\"VARCHAR\",\"length\":11,\"scale\":11},{\"columnNumber\":3,\"columnName\":\"LASTNAME\",\"columnTypeName\":\"VARCHAR\",\"length\":9,\"scale\":9},{\"columnNumber\":4,\"columnName\":\"ADDRESS\",\"columnTypeName\":\"VARCHAR\",\"length\":25,\"scale\":25},{\"columnNumber\":5,\"columnName\":\"STATE\",\"columnTypeName\":\"VARCHAR\",\"length\":2,\"scale\":2},{\"columnNumber\":6,\"columnName\":\"CITY\",\"columnTypeName\":\"VARCHAR\",\"length\":16,\"scale\":16},{\"columnNumber\":7,\"columnName\":\"ZIP\",\"columnTypeName\":\"INTEGER\"},{\"columnNumber\":8,\"columnName\":\"EQUIP_LTV\",\"columnTypeName\":\"SMALLINT\"}]}"
     },
     "output_type": "execute_result"
    }
   ],
   "source": [
    "SELECT TOP 5 * FROM DEMO_Customer360.Equipment"
   ]
  },
  {
   "cell_type": "markdown",
   "id": "e7e47139",
   "metadata": {},
   "source": [
    "<hr style=\"height:1px;border:none;background-color:#00233C;\">\n",
    "<p style = 'font-size:18px;font-family:Arial;color:#00233C'><b>3.2- Inspect E-Commerce Table</b></p>\n",
    "\n",
    "<p style = 'font-size:16px;font-family:Arial;color:#00233C'>A similar SQL query shows this table has a loyalty number, sex, name, physical address, email address and e-commerce lifetime value. Since both tables' records are at an individual level, we will use first name, last name, and city as a matching key string. Fields to import for now include the loyalty number, and email address.</p>"
   ]
  },
  {
   "cell_type": "code",
   "execution_count": 6,
   "id": "3498e740",
   "metadata": {},
   "outputs": [
    {
     "data": {
      "application/vnd.teradata.resultset": "\"LOYALTY_NUM\",\"SEX\",\"FNAME\",\"LNAME\",\"ADDR\",\"STATE\",\"CITY\",\"ZIP\",\"EMAIL\",\"ONLINE_LTV\"\n\"5969239\",\"M\",\"Pedro\",\"Gonsalves\",\"1233 El Camino Real\",\"NY\",\"Greenville\",\"10586\",\"pedro.gonsalves@teratitan.com\",\"465\"\n\"6428173\",\"F\",\"Luiza\",\"Teixeira\",\"1522 North U.S. Highway 1\",\"OH\",\"Kerr\",\"45643\",\"lteixeira@gmail.com\",\"936\"\n\"1481403\",\"M\",\"Lucas\",\"Moreau\",\"1455 Sixth Street\",\"OH\",\"Winchester\",\"45697\",\"lucas.moreau@teratitan.com\",\"497\"\n\"1584600\",\"F\",\"Beatriz\",\"Gonsalves\",\"1212 Fifth Street\",\"OH\",\"Fairfield\",\"45018\",\"beatriz.gonsalves@teratitan.com\",\"1708\"\n\"1233911\",\"F\",\"Laura\",\"DeSilva\",\"11 Red Mill Road\",\"PA\",\"New Castle\",\"16105\",\"ldesilva@gmail.com\",\"1766\"",
      "text/html": [
       "<div class = \"td-resultset-table-div\" style = \"max-height: 100%; overflow-y: auto\">\n",
       "      <table class=\"tdhistory492676\"><style>\n",
       "      table.tdhistory492676 { display: block !important; min-height: 189px !important; overflow: auto !important; height: 189px !important; width: 100% !important; border: 1px solid rgb(207, 207, 207) !important; border-collapse: collapse !important; ; color: var(--jp-ui-font-color1) !important; }\n",
       "      th.tdhistory492676 { border: 1px solid rgb(198,198,198) !important; border-collapse: collapse !important; ; padding: 2px 5px !important; ; font-size: 13px !important; ; text-align: center !important; white-space: normal !important; color: var(--jp-ui-font-color1) !important; }\n",
       "      th.tdhistory492676:last-child { text-align: left !important; }\n",
       "      tbody.tdhistory492676 tr:nth-child(even) { background: rgba(243, 243, 243, 0.75) !important; }\n",
       "      tbody.tdhistory492676 tr:nth-child(odd) { background: var(--jp-ui-inverse-font-color1) !important; }\n",
       "      td.tdhistory492676 { border: 1px solid rgb(207, 207, 207) !important; border-collapse: collapse !important; ; padding: 2px 5px !important; ; font-size: 13px !important; ; text-align: left !important;          white-space: nowrap !important; overflow:hidden !important; text-overflow:ellipsis !important;; }\n",
       "    </style><thead><tr style= \"background: rgba(243, 243, 243, 0.75)\"><th class=\"tdhistory492676\"></th><th class=\"tdhistory492676\">LOYALTY_NUM</th><th class=\"tdhistory492676\">SEX</th><th class=\"tdhistory492676\">FNAME</th><th class=\"tdhistory492676\">LNAME</th><th class=\"tdhistory492676\">ADDR</th><th class=\"tdhistory492676\">STATE</th><th class=\"tdhistory492676\">CITY</th><th class=\"tdhistory492676\">ZIP</th><th class=\"tdhistory492676\">EMAIL</th><th class=\"tdhistory492676\">ONLINE_LTV</th></tr></thead><tbody class=\"tdhistory492676 resultset-body\"><tr><th class=\"tdhistory492676\" style= \"background: rgba(243, 243, 243, 0.75)\">1</th><td class=\"tdhistory492676\">5969239</td><td class=\"tdhistory492676\">M</td><td class=\"tdhistory492676\">Pedro</td><td class=\"tdhistory492676\">Gonsalves</td><td class=\"tdhistory492676\">1233 El Camino Real</td><td class=\"tdhistory492676\">NY</td><td class=\"tdhistory492676\">Greenville</td><td class=\"tdhistory492676\">10586</td><td class=\"tdhistory492676\">pedro.gonsalves@teratitan.com</td><td class=\"tdhistory492676\">465</td></tr><tr><th class=\"tdhistory492676\" style= \"background: rgba(243, 243, 243, 0.75)\">2</th><td class=\"tdhistory492676\">6428173</td><td class=\"tdhistory492676\">F</td><td class=\"tdhistory492676\">Luiza</td><td class=\"tdhistory492676\">Teixeira</td><td class=\"tdhistory492676\">1522 North U.S. Highway 1</td><td class=\"tdhistory492676\">OH</td><td class=\"tdhistory492676\">Kerr</td><td class=\"tdhistory492676\">45643</td><td class=\"tdhistory492676\">lteixeira@gmail.com</td><td class=\"tdhistory492676\">936</td></tr><tr><th class=\"tdhistory492676\" style= \"background: rgba(243, 243, 243, 0.75)\">3</th><td class=\"tdhistory492676\">1481403</td><td class=\"tdhistory492676\">M</td><td class=\"tdhistory492676\">Lucas</td><td class=\"tdhistory492676\">Moreau</td><td class=\"tdhistory492676\">1455 Sixth Street</td><td class=\"tdhistory492676\">OH</td><td class=\"tdhistory492676\">Winchester</td><td class=\"tdhistory492676\">45697</td><td class=\"tdhistory492676\">lucas.moreau@teratitan.com</td><td class=\"tdhistory492676\">497</td></tr><tr><th class=\"tdhistory492676\" style= \"background: rgba(243, 243, 243, 0.75)\">4</th><td class=\"tdhistory492676\">1584600</td><td class=\"tdhistory492676\">F</td><td class=\"tdhistory492676\">Beatriz</td><td class=\"tdhistory492676\">Gonsalves</td><td class=\"tdhistory492676\">1212 Fifth Street</td><td class=\"tdhistory492676\">OH</td><td class=\"tdhistory492676\">Fairfield</td><td class=\"tdhistory492676\">45018</td><td class=\"tdhistory492676\">beatriz.gonsalves@teratitan.com</td><td class=\"tdhistory492676\">1708</td></tr><tr><th class=\"tdhistory492676\" style= \"background: rgba(243, 243, 243, 0.75)\">5</th><td class=\"tdhistory492676\">1233911</td><td class=\"tdhistory492676\">F</td><td class=\"tdhistory492676\">Laura</td><td class=\"tdhistory492676\">DeSilva</td><td class=\"tdhistory492676\">11 Red Mill Road</td><td class=\"tdhistory492676\">PA</td><td class=\"tdhistory492676\">New Castle</td><td class=\"tdhistory492676\">16105</td><td class=\"tdhistory492676\">ldesilva@gmail.com</td><td class=\"tdhistory492676\">1766</td></tr></tbody></table></div>"
      ]
     },
     "execution_count": 6,
     "metadata": {
      "application/vnd.teradata.resultset": "{\"resultSetID\":\"/home/jovyan/JupyterLabRoot/Teradata/Resultsets/2023.12.21_06.27.03.190_UTC\",\"historyID\":250,\"chunkID\":\"00001\",\"sessionid\":\"\",\"portnum\":\"\",\"dockermode\":\"docker\",\"totalRowCount\":5,\"chunkCount\":0,\"rowLimit\":0,\"columnMetadata\":[{\"columnName\":\"LOYALTY_NUM\",\"columnTypeName\":\"INTEGER\"},{\"columnNumber\":1,\"columnName\":\"SEX\",\"columnTypeName\":\"VARCHAR\",\"length\":1,\"scale\":1},{\"columnNumber\":2,\"columnName\":\"FNAME\",\"columnTypeName\":\"VARCHAR\",\"length\":11,\"scale\":11},{\"columnNumber\":3,\"columnName\":\"LNAME\",\"columnTypeName\":\"VARCHAR\",\"length\":9,\"scale\":9},{\"columnNumber\":4,\"columnName\":\"ADDR\",\"columnTypeName\":\"VARCHAR\",\"length\":25,\"scale\":25},{\"columnNumber\":5,\"columnName\":\"STATE\",\"columnTypeName\":\"VARCHAR\",\"length\":2,\"scale\":2},{\"columnNumber\":6,\"columnName\":\"CITY\",\"columnTypeName\":\"VARCHAR\",\"length\":16,\"scale\":16},{\"columnNumber\":7,\"columnName\":\"ZIP\",\"columnTypeName\":\"INTEGER\"},{\"columnNumber\":8,\"columnName\":\"EMAIL\",\"columnTypeName\":\"VARCHAR\",\"length\":31,\"scale\":31},{\"columnNumber\":9,\"columnName\":\"ONLINE_LTV\",\"columnTypeName\":\"SMALLINT\"}]}"
     },
     "output_type": "execute_result"
    }
   ],
   "source": [
    "SELECT TOP 5 * FROM DEMO_Customer360.Online"
   ]
  },
  {
   "cell_type": "markdown",
   "id": "68c29344",
   "metadata": {},
   "source": [
    "<hr style=\"height:1px;border:none;background-color:#00233C;\">\n",
    "<p style = 'font-size:18px;font-family:Arial;color:#00233C'><b>3.3- Inspect Call Center List</b></p>\n",
    "\n",
    "<p style = 'font-size:16px;font-family:Arial;color:#00233C'>Note that this table also has records at an individual level, so we can use the same fields to create a matching key. Unique fields to this table include the phone number and call center cost. After matching, we will import the phone number.</p>"
   ]
  },
  {
   "cell_type": "code",
   "execution_count": 7,
   "id": "68cb5898",
   "metadata": {},
   "outputs": [
    {
     "data": {
      "application/vnd.teradata.resultset": "\"GENDER\",\"FIRST_NAME\",\"LAST_NAME\",\"ADDRESS\",\"STATE\",\"CITY\",\"ZIPCODE\",\"PHONE\",\"CALL_CENTER_COST\"\n\"M\",\"Pedro\",\"Gonsalves\",\"1233 El Camino Real\",\"NY\",\"Greenville\",\"10586\",\"(434) 432-6306\",\"75\"\n\"F\",\"Luiza\",\"Teixeira\",\"1522 North U.S. Highway 1\",\"OH\",\"Kerr\",\"45643\",\"(253) 470-1804\",\"75\"\n\"M\",\"Lucas\",\"Moreau\",\"1455 Sixth Street\",\"OH\",\"Winchester\",\"45697\",\"(941) 929-3922\",\"25\"\n\"F\",\"Beatriz\",\"Gonsalves\",\"1212 Fifth Street\",\"OH\",\"Fairfield\",\"45018\",\"(510) 563-2532\",\"50\"\n\"F\",\"Laura\",\"DeSilva\",\"11 Red Mill Road\",\"PA\",\"New Castle\",\"16105\",\"(570) 387-2031\",\"25\"",
      "text/html": [
       "<div class = \"td-resultset-table-div\" style = \"max-height: 100%; overflow-y: auto\">\n",
       "      <table class=\"tdhistory163439\"><style>\n",
       "      table.tdhistory163439 { display: block !important; min-height: 189px !important; overflow: auto !important; height: 189px !important; width: 100% !important; border: 1px solid rgb(207, 207, 207) !important; border-collapse: collapse !important; ; color: var(--jp-ui-font-color1) !important; }\n",
       "      th.tdhistory163439 { border: 1px solid rgb(198,198,198) !important; border-collapse: collapse !important; ; padding: 2px 5px !important; ; font-size: 13px !important; ; text-align: center !important; white-space: normal !important; color: var(--jp-ui-font-color1) !important; }\n",
       "      th.tdhistory163439:last-child { text-align: left !important; }\n",
       "      tbody.tdhistory163439 tr:nth-child(even) { background: rgba(243, 243, 243, 0.75) !important; }\n",
       "      tbody.tdhistory163439 tr:nth-child(odd) { background: var(--jp-ui-inverse-font-color1) !important; }\n",
       "      td.tdhistory163439 { border: 1px solid rgb(207, 207, 207) !important; border-collapse: collapse !important; ; padding: 2px 5px !important; ; font-size: 13px !important; ; text-align: left !important;          white-space: nowrap !important; overflow:hidden !important; text-overflow:ellipsis !important;; }\n",
       "    </style><thead><tr style= \"background: rgba(243, 243, 243, 0.75)\"><th class=\"tdhistory163439\"></th><th class=\"tdhistory163439\">GENDER</th><th class=\"tdhistory163439\">FIRST_NAME</th><th class=\"tdhistory163439\">LAST_NAME</th><th class=\"tdhistory163439\">ADDRESS</th><th class=\"tdhistory163439\">STATE</th><th class=\"tdhistory163439\">CITY</th><th class=\"tdhistory163439\">ZIPCODE</th><th class=\"tdhistory163439\">PHONE</th><th class=\"tdhistory163439\">CALL_CENTER_COST</th></tr></thead><tbody class=\"tdhistory163439 resultset-body\"><tr><th class=\"tdhistory163439\" style= \"background: rgba(243, 243, 243, 0.75)\">1</th><td class=\"tdhistory163439\">M</td><td class=\"tdhistory163439\">Pedro</td><td class=\"tdhistory163439\">Gonsalves</td><td class=\"tdhistory163439\">1233 El Camino Real</td><td class=\"tdhistory163439\">NY</td><td class=\"tdhistory163439\">Greenville</td><td class=\"tdhistory163439\">10586</td><td class=\"tdhistory163439\">(434) 432-6306</td><td class=\"tdhistory163439\">75</td></tr><tr><th class=\"tdhistory163439\" style= \"background: rgba(243, 243, 243, 0.75)\">2</th><td class=\"tdhistory163439\">F</td><td class=\"tdhistory163439\">Luiza</td><td class=\"tdhistory163439\">Teixeira</td><td class=\"tdhistory163439\">1522 North U.S. Highway 1</td><td class=\"tdhistory163439\">OH</td><td class=\"tdhistory163439\">Kerr</td><td class=\"tdhistory163439\">45643</td><td class=\"tdhistory163439\">(253) 470-1804</td><td class=\"tdhistory163439\">75</td></tr><tr><th class=\"tdhistory163439\" style= \"background: rgba(243, 243, 243, 0.75)\">3</th><td class=\"tdhistory163439\">M</td><td class=\"tdhistory163439\">Lucas</td><td class=\"tdhistory163439\">Moreau</td><td class=\"tdhistory163439\">1455 Sixth Street</td><td class=\"tdhistory163439\">OH</td><td class=\"tdhistory163439\">Winchester</td><td class=\"tdhistory163439\">45697</td><td class=\"tdhistory163439\">(941) 929-3922</td><td class=\"tdhistory163439\">25</td></tr><tr><th class=\"tdhistory163439\" style= \"background: rgba(243, 243, 243, 0.75)\">4</th><td class=\"tdhistory163439\">F</td><td class=\"tdhistory163439\">Beatriz</td><td class=\"tdhistory163439\">Gonsalves</td><td class=\"tdhistory163439\">1212 Fifth Street</td><td class=\"tdhistory163439\">OH</td><td class=\"tdhistory163439\">Fairfield</td><td class=\"tdhistory163439\">45018</td><td class=\"tdhistory163439\">(510) 563-2532</td><td class=\"tdhistory163439\">50</td></tr><tr><th class=\"tdhistory163439\" style= \"background: rgba(243, 243, 243, 0.75)\">5</th><td class=\"tdhistory163439\">F</td><td class=\"tdhistory163439\">Laura</td><td class=\"tdhistory163439\">DeSilva</td><td class=\"tdhistory163439\">11 Red Mill Road</td><td class=\"tdhistory163439\">PA</td><td class=\"tdhistory163439\">New Castle</td><td class=\"tdhistory163439\">16105</td><td class=\"tdhistory163439\">(570) 387-2031</td><td class=\"tdhistory163439\">25</td></tr></tbody></table></div>"
      ]
     },
     "execution_count": 7,
     "metadata": {
      "application/vnd.teradata.resultset": "{\"resultSetID\":\"/home/jovyan/JupyterLabRoot/Teradata/Resultsets/2023.12.21_06.27.03.403_UTC\",\"historyID\":251,\"chunkID\":\"00001\",\"sessionid\":\"\",\"portnum\":\"\",\"dockermode\":\"docker\",\"totalRowCount\":5,\"chunkCount\":0,\"rowLimit\":0,\"columnMetadata\":[{\"columnName\":\"GENDER\",\"columnTypeName\":\"VARCHAR\",\"length\":1,\"scale\":1},{\"columnNumber\":1,\"columnName\":\"FIRST_NAME\",\"columnTypeName\":\"VARCHAR\",\"length\":10,\"scale\":10},{\"columnNumber\":2,\"columnName\":\"LAST_NAME\",\"columnTypeName\":\"VARCHAR\",\"length\":9,\"scale\":9},{\"columnNumber\":3,\"columnName\":\"ADDRESS\",\"columnTypeName\":\"VARCHAR\",\"length\":25,\"scale\":25},{\"columnNumber\":4,\"columnName\":\"STATE\",\"columnTypeName\":\"VARCHAR\",\"length\":2,\"scale\":2},{\"columnNumber\":5,\"columnName\":\"CITY\",\"columnTypeName\":\"VARCHAR\",\"length\":16,\"scale\":16},{\"columnNumber\":6,\"columnName\":\"ZIPCODE\",\"columnTypeName\":\"INTEGER\"},{\"columnNumber\":7,\"columnName\":\"PHONE\",\"columnTypeName\":\"VARCHAR\",\"length\":14,\"scale\":14},{\"columnNumber\":8,\"columnName\":\"CALL_CENTER_COST\",\"columnTypeName\":\"BYTEINT\"}]}"
     },
     "output_type": "execute_result"
    }
   ],
   "source": [
    "SELECT TOP 5 * FROM DEMO_Customer360.CallCenter"
   ]
  },
  {
   "cell_type": "markdown",
   "id": "45fa0ae6",
   "metadata": {},
   "source": [
    "<hr style=\"height:1px;border:none;background-color:#00233C;\">\n",
    "<p style = 'font-size:18px;font-family:Arial;color:#00233C'><b>3.4 Inspect Cookie List</b></p>\n",
    "\n",
    "<p style = 'font-size:16px;font-family:Arial;color:#00233C'>Since cookies are collected at the household level and there are no names provided, we will use address as the matching key string. We will append the cookie and campaign to any matching records.</p>"
   ]
  },
  {
   "cell_type": "code",
   "execution_count": 8,
   "id": "bc47046f",
   "metadata": {},
   "outputs": [
    {
     "data": {
      "application/vnd.teradata.resultset": "\"ADDR_LN_1_TXT\",\"ST_OR_PROV_CD\",\"CITY_NAME\",\"ZIP\",\"COOKIE\",\"CAMPAIGN\"\n\"1233 El Camino Real\",\"NY\",\"Greenville\",\"10586\",\"9AB4BD59BCF976409A5887ED77EB333\",\"Social\"\n\"1522 North U.S. Highway 1\",\"OH\",\"Kerr\",\"45643\",\"F7C0C15D6A14F6206CAABF7B6E45477\",\"Search\"\n\"1455 Sixth Street\",\"OH\",\"Winchester\",\"45697\",\"B0273ABF9237CD15EA547F97104D46FA\",\"Email\"\n\"1212 Fifth Street\",\"OH\",\"Fairfield\",\"45018\",\"44C13D702EBA675AE341AC9BF9C1B89\",\"Email\"\n\"11 Red Mill Road\",\"PA\",\"New Castle\",\"16105\",\"AB7DBCFFD0AD5577560D8B545A842B41\",\"Display\"",
      "text/html": [
       "<div class = \"td-resultset-table-div\" style = \"max-height: 100%; overflow-y: auto\">\n",
       "      <table class=\"tdhistory729992\"><style>\n",
       "      table.tdhistory729992 { display: block !important; min-height: 189px !important; overflow: auto !important; height: 189px !important; width: 100% !important; border: 1px solid rgb(207, 207, 207) !important; border-collapse: collapse !important; ; color: var(--jp-ui-font-color1) !important; }\n",
       "      th.tdhistory729992 { border: 1px solid rgb(198,198,198) !important; border-collapse: collapse !important; ; padding: 2px 5px !important; ; font-size: 13px !important; ; text-align: center !important; white-space: normal !important; color: var(--jp-ui-font-color1) !important; }\n",
       "      th.tdhistory729992:last-child { text-align: left !important; }\n",
       "      tbody.tdhistory729992 tr:nth-child(even) { background: rgba(243, 243, 243, 0.75) !important; }\n",
       "      tbody.tdhistory729992 tr:nth-child(odd) { background: var(--jp-ui-inverse-font-color1) !important; }\n",
       "      td.tdhistory729992 { border: 1px solid rgb(207, 207, 207) !important; border-collapse: collapse !important; ; padding: 2px 5px !important; ; font-size: 13px !important; ; text-align: left !important;          white-space: nowrap !important; overflow:hidden !important; text-overflow:ellipsis !important;; }\n",
       "    </style><thead><tr style= \"background: rgba(243, 243, 243, 0.75)\"><th class=\"tdhistory729992\"></th><th class=\"tdhistory729992\">ADDR_LN_1_TXT</th><th class=\"tdhistory729992\">ST_OR_PROV_CD</th><th class=\"tdhistory729992\">CITY_NAME</th><th class=\"tdhistory729992\">ZIP</th><th class=\"tdhistory729992\">COOKIE</th><th class=\"tdhistory729992\">CAMPAIGN</th></tr></thead><tbody class=\"tdhistory729992 resultset-body\"><tr><th class=\"tdhistory729992\" style= \"background: rgba(243, 243, 243, 0.75)\">1</th><td class=\"tdhistory729992\">1233 El Camino Real</td><td class=\"tdhistory729992\">NY</td><td class=\"tdhistory729992\">Greenville</td><td class=\"tdhistory729992\">10586</td><td class=\"tdhistory729992\">9AB4BD59BCF976409A5887ED77EB333</td><td class=\"tdhistory729992\">Social</td></tr><tr><th class=\"tdhistory729992\" style= \"background: rgba(243, 243, 243, 0.75)\">2</th><td class=\"tdhistory729992\">1522 North U.S. Highway 1</td><td class=\"tdhistory729992\">OH</td><td class=\"tdhistory729992\">Kerr</td><td class=\"tdhistory729992\">45643</td><td class=\"tdhistory729992\">F7C0C15D6A14F6206CAABF7B6E45477</td><td class=\"tdhistory729992\">Search</td></tr><tr><th class=\"tdhistory729992\" style= \"background: rgba(243, 243, 243, 0.75)\">3</th><td class=\"tdhistory729992\">1455 Sixth Street</td><td class=\"tdhistory729992\">OH</td><td class=\"tdhistory729992\">Winchester</td><td class=\"tdhistory729992\">45697</td><td class=\"tdhistory729992\">B0273ABF9237CD15EA547F97104D46FA</td><td class=\"tdhistory729992\">Email</td></tr><tr><th class=\"tdhistory729992\" style= \"background: rgba(243, 243, 243, 0.75)\">4</th><td class=\"tdhistory729992\">1212 Fifth Street</td><td class=\"tdhistory729992\">OH</td><td class=\"tdhistory729992\">Fairfield</td><td class=\"tdhistory729992\">45018</td><td class=\"tdhistory729992\">44C13D702EBA675AE341AC9BF9C1B89</td><td class=\"tdhistory729992\">Email</td></tr><tr><th class=\"tdhistory729992\" style= \"background: rgba(243, 243, 243, 0.75)\">5</th><td class=\"tdhistory729992\">11 Red Mill Road</td><td class=\"tdhistory729992\">PA</td><td class=\"tdhistory729992\">New Castle</td><td class=\"tdhistory729992\">16105</td><td class=\"tdhistory729992\">AB7DBCFFD0AD5577560D8B545A842B41</td><td class=\"tdhistory729992\">Display</td></tr></tbody></table></div>"
      ]
     },
     "execution_count": 8,
     "metadata": {
      "application/vnd.teradata.resultset": "{\"resultSetID\":\"/home/jovyan/JupyterLabRoot/Teradata/Resultsets/2023.12.21_06.27.03.533_UTC\",\"historyID\":252,\"chunkID\":\"00001\",\"sessionid\":\"\",\"portnum\":\"\",\"dockermode\":\"docker\",\"totalRowCount\":5,\"chunkCount\":0,\"rowLimit\":0,\"columnMetadata\":[{\"columnName\":\"ADDR_LN_1_TXT\",\"columnTypeName\":\"VARCHAR\",\"length\":25,\"scale\":25},{\"columnNumber\":1,\"columnName\":\"ST_OR_PROV_CD\",\"columnTypeName\":\"VARCHAR\",\"length\":2,\"scale\":2},{\"columnNumber\":2,\"columnName\":\"CITY_NAME\",\"columnTypeName\":\"VARCHAR\",\"length\":21,\"scale\":21},{\"columnNumber\":3,\"columnName\":\"ZIP\",\"columnTypeName\":\"INTEGER\"},{\"columnNumber\":4,\"columnName\":\"COOKIE\",\"columnTypeName\":\"VARCHAR\",\"length\":32,\"scale\":32},{\"columnNumber\":5,\"columnName\":\"CAMPAIGN\",\"columnTypeName\":\"VARCHAR\",\"length\":7,\"scale\":7}]}"
     },
     "output_type": "execute_result"
    }
   ],
   "source": [
    "SELECT TOP 5 * FROM DEMO_Customer360.Cookie"
   ]
  },
  {
   "cell_type": "markdown",
   "id": "2e715879",
   "metadata": {},
   "source": [
    "<hr style=\"height:1px;border:none;background-color:#00233C;\">\n",
    "<p style = 'font-size:18px;font-family:Arial;color:#00233C'><b>3.5 Inspect Customer Across Lists</b></p>\n",
    "\n",
    "<p style = 'font-size:16px;font-family:Arial;color:#00233C'>We will also examine one customer closely to see how his information is matched throughout the lists. This customer is Jessica Rego, and she (or her address) appears in all four tables.  Note that her name is slightly misspelled in the e-commerce (as Jessika), her city is misspelled in call center table (as Nashporte), and her address is misspelled (with no space between 3114 and Park) in the cookie table. </p>"
   ]
  },
  {
   "cell_type": "code",
   "execution_count": 9,
   "id": "ff2d2dc5",
   "metadata": {},
   "outputs": [
    {
     "data": {
      "application/vnd.teradata.resultset": "\"CUST_ID\",\"GENDER\",\"FIRSTNAME\",\"LASTNAME\",\"ADDRESS\",\"STATE\",\"CITY\",\"ZIP\",\"EQUIP_LTV\"\n\"21903\",\"F\",\"Jessica\",\"Rego\",\"3114 Park Street\",\"OH\",\"Nashport\",\"43830\",\"6952\"",
      "text/html": [
       "<div class = \"td-resultset-table-div\" style = \"max-height: 100%; overflow-y: auto\">\n",
       "      <table class=\"tdhistory50631\"><style>\n",
       "      table.tdhistory50631 { display: block !important; min-height: 105px !important; overflow: auto !important; height: 105px !important; width: 100% !important; border: 1px solid rgb(207, 207, 207) !important; border-collapse: collapse !important; ; color: var(--jp-ui-font-color1) !important; }\n",
       "      th.tdhistory50631 { border: 1px solid rgb(198,198,198) !important; border-collapse: collapse !important; ; padding: 2px 5px !important; ; font-size: 13px !important; ; text-align: center !important; white-space: normal !important; color: var(--jp-ui-font-color1) !important; }\n",
       "      th.tdhistory50631:last-child { text-align: left !important; }\n",
       "      tbody.tdhistory50631 tr:nth-child(even) { background: rgba(243, 243, 243, 0.75) !important; }\n",
       "      tbody.tdhistory50631 tr:nth-child(odd) { background: var(--jp-ui-inverse-font-color1) !important; }\n",
       "      td.tdhistory50631 { border: 1px solid rgb(207, 207, 207) !important; border-collapse: collapse !important; ; padding: 2px 5px !important; ; font-size: 13px !important; ; text-align: left !important;          white-space: nowrap !important; overflow:hidden !important; text-overflow:ellipsis !important;; }\n",
       "    </style><thead><tr style= \"background: rgba(243, 243, 243, 0.75)\"><th class=\"tdhistory50631\"></th><th class=\"tdhistory50631\">CUST_ID</th><th class=\"tdhistory50631\">GENDER</th><th class=\"tdhistory50631\">FIRSTNAME</th><th class=\"tdhistory50631\">LASTNAME</th><th class=\"tdhistory50631\">ADDRESS</th><th class=\"tdhistory50631\">STATE</th><th class=\"tdhistory50631\">CITY</th><th class=\"tdhistory50631\">ZIP</th><th class=\"tdhistory50631\">EQUIP_LTV</th></tr></thead><tbody class=\"tdhistory50631 resultset-body\"><tr><th class=\"tdhistory50631\" style= \"background: rgba(243, 243, 243, 0.75)\">1</th><td class=\"tdhistory50631\">21903</td><td class=\"tdhistory50631\">F</td><td class=\"tdhistory50631\">Jessica</td><td class=\"tdhistory50631\">Rego</td><td class=\"tdhistory50631\">3114 Park Street</td><td class=\"tdhistory50631\">OH</td><td class=\"tdhistory50631\">Nashport</td><td class=\"tdhistory50631\">43830</td><td class=\"tdhistory50631\">6952</td></tr></tbody></table></div>"
      ]
     },
     "execution_count": 9,
     "metadata": {
      "application/vnd.teradata.resultset": "{\"resultSetID\":\"/home/jovyan/JupyterLabRoot/Teradata/Resultsets/2023.12.21_06.27.03.650_UTC\",\"historyID\":253,\"chunkID\":\"00001\",\"sessionid\":\"\",\"portnum\":\"\",\"dockermode\":\"docker\",\"totalRowCount\":1,\"chunkCount\":0,\"rowLimit\":0,\"columnMetadata\":[{\"columnName\":\"CUST_ID\",\"columnTypeName\":\"SMALLINT\"},{\"columnNumber\":1,\"columnName\":\"GENDER\",\"columnTypeName\":\"VARCHAR\",\"length\":1,\"scale\":1},{\"columnNumber\":2,\"columnName\":\"FIRSTNAME\",\"columnTypeName\":\"VARCHAR\",\"length\":11,\"scale\":11},{\"columnNumber\":3,\"columnName\":\"LASTNAME\",\"columnTypeName\":\"VARCHAR\",\"length\":9,\"scale\":9},{\"columnNumber\":4,\"columnName\":\"ADDRESS\",\"columnTypeName\":\"VARCHAR\",\"length\":25,\"scale\":25},{\"columnNumber\":5,\"columnName\":\"STATE\",\"columnTypeName\":\"VARCHAR\",\"length\":2,\"scale\":2},{\"columnNumber\":6,\"columnName\":\"CITY\",\"columnTypeName\":\"VARCHAR\",\"length\":16,\"scale\":16},{\"columnNumber\":7,\"columnName\":\"ZIP\",\"columnTypeName\":\"INTEGER\"},{\"columnNumber\":8,\"columnName\":\"EQUIP_LTV\",\"columnTypeName\":\"SMALLINT\"}]}"
     },
     "output_type": "execute_result"
    }
   ],
   "source": [
    "-- Find Jessica Rego in in-store table\n",
    "SELECT * FROM DEMO_Customer360.Equipment\n",
    "WHERE FIRSTNAME = 'Jessica' AND LASTNAME = 'Rego'"
   ]
  },
  {
   "cell_type": "code",
   "execution_count": 10,
   "id": "89f77f29",
   "metadata": {},
   "outputs": [
    {
     "data": {
      "application/vnd.teradata.resultset": "\"LOYALTY_NUM\",\"SEX\",\"FNAME\",\"LNAME\",\"ADDR\",\"STATE\",\"CITY\",\"ZIP\",\"EMAIL\",\"ONLINE_LTV\"\n\"1460445\",\"F\",\"Jessika\",\"Rego\",\"3114 Park Street\",\"OH\",\"Nashport\",\"43830\",\"jrego@yahoo.com\",\"1696\"",
      "text/html": [
       "<div class = \"td-resultset-table-div\" style = \"max-height: 100%; overflow-y: auto\">\n",
       "      <table class=\"tdhistory604612\"><style>\n",
       "      table.tdhistory604612 { display: block !important; min-height: 105px !important; overflow: auto !important; height: 105px !important; width: 100% !important; border: 1px solid rgb(207, 207, 207) !important; border-collapse: collapse !important; ; color: var(--jp-ui-font-color1) !important; }\n",
       "      th.tdhistory604612 { border: 1px solid rgb(198,198,198) !important; border-collapse: collapse !important; ; padding: 2px 5px !important; ; font-size: 13px !important; ; text-align: center !important; white-space: normal !important; color: var(--jp-ui-font-color1) !important; }\n",
       "      th.tdhistory604612:last-child { text-align: left !important; }\n",
       "      tbody.tdhistory604612 tr:nth-child(even) { background: rgba(243, 243, 243, 0.75) !important; }\n",
       "      tbody.tdhistory604612 tr:nth-child(odd) { background: var(--jp-ui-inverse-font-color1) !important; }\n",
       "      td.tdhistory604612 { border: 1px solid rgb(207, 207, 207) !important; border-collapse: collapse !important; ; padding: 2px 5px !important; ; font-size: 13px !important; ; text-align: left !important;          white-space: nowrap !important; overflow:hidden !important; text-overflow:ellipsis !important;; }\n",
       "    </style><thead><tr style= \"background: rgba(243, 243, 243, 0.75)\"><th class=\"tdhistory604612\"></th><th class=\"tdhistory604612\">LOYALTY_NUM</th><th class=\"tdhistory604612\">SEX</th><th class=\"tdhistory604612\">FNAME</th><th class=\"tdhistory604612\">LNAME</th><th class=\"tdhistory604612\">ADDR</th><th class=\"tdhistory604612\">STATE</th><th class=\"tdhistory604612\">CITY</th><th class=\"tdhistory604612\">ZIP</th><th class=\"tdhistory604612\">EMAIL</th><th class=\"tdhistory604612\">ONLINE_LTV</th></tr></thead><tbody class=\"tdhistory604612 resultset-body\"><tr><th class=\"tdhistory604612\" style= \"background: rgba(243, 243, 243, 0.75)\">1</th><td class=\"tdhistory604612\">1460445</td><td class=\"tdhistory604612\">F</td><td class=\"tdhistory604612\">Jessika</td><td class=\"tdhistory604612\">Rego</td><td class=\"tdhistory604612\">3114 Park Street</td><td class=\"tdhistory604612\">OH</td><td class=\"tdhistory604612\">Nashport</td><td class=\"tdhistory604612\">43830</td><td class=\"tdhistory604612\">jrego@yahoo.com</td><td class=\"tdhistory604612\">1696</td></tr></tbody></table></div>"
      ]
     },
     "execution_count": 10,
     "metadata": {
      "application/vnd.teradata.resultset": "{\"resultSetID\":\"/home/jovyan/JupyterLabRoot/Teradata/Resultsets/2023.12.21_06.27.03.777_UTC\",\"historyID\":254,\"chunkID\":\"00001\",\"sessionid\":\"\",\"portnum\":\"\",\"dockermode\":\"docker\",\"totalRowCount\":1,\"chunkCount\":0,\"rowLimit\":0,\"columnMetadata\":[{\"columnName\":\"LOYALTY_NUM\",\"columnTypeName\":\"INTEGER\"},{\"columnNumber\":1,\"columnName\":\"SEX\",\"columnTypeName\":\"VARCHAR\",\"length\":1,\"scale\":1},{\"columnNumber\":2,\"columnName\":\"FNAME\",\"columnTypeName\":\"VARCHAR\",\"length\":11,\"scale\":11},{\"columnNumber\":3,\"columnName\":\"LNAME\",\"columnTypeName\":\"VARCHAR\",\"length\":9,\"scale\":9},{\"columnNumber\":4,\"columnName\":\"ADDR\",\"columnTypeName\":\"VARCHAR\",\"length\":25,\"scale\":25},{\"columnNumber\":5,\"columnName\":\"STATE\",\"columnTypeName\":\"VARCHAR\",\"length\":2,\"scale\":2},{\"columnNumber\":6,\"columnName\":\"CITY\",\"columnTypeName\":\"VARCHAR\",\"length\":16,\"scale\":16},{\"columnNumber\":7,\"columnName\":\"ZIP\",\"columnTypeName\":\"INTEGER\"},{\"columnNumber\":8,\"columnName\":\"EMAIL\",\"columnTypeName\":\"VARCHAR\",\"length\":31,\"scale\":31},{\"columnNumber\":9,\"columnName\":\"ONLINE_LTV\",\"columnTypeName\":\"SMALLINT\"}]}"
     },
     "output_type": "execute_result"
    }
   ],
   "source": [
    "-- Find Jessica Rego in online table\n",
    "SELECT * FROM DEMO_Customer360.Online\n",
    "WHERE FNAME LIKE 'Jes%' AND LNAME LIKE 'Reg%'"
   ]
  },
  {
   "cell_type": "code",
   "execution_count": 11,
   "id": "4b2bf6c3",
   "metadata": {},
   "outputs": [
    {
     "data": {
      "application/vnd.teradata.resultset": "\"GENDER\",\"FIRST_NAME\",\"LAST_NAME\",\"ADDRESS\",\"STATE\",\"CITY\",\"ZIPCODE\",\"PHONE\",\"CALL_CENTER_COST\"\n\"F\",\"Jessica\",\"Rego\",\"3114 Park Street\",\"OH\",\"Nashporte\",\"43830\",\"(530) 696-4308\",\"50\"",
      "text/html": [
       "<div class = \"td-resultset-table-div\" style = \"max-height: 100%; overflow-y: auto\">\n",
       "      <table class=\"tdhistory74285\"><style>\n",
       "      table.tdhistory74285 { display: block !important; min-height: 105px !important; overflow: auto !important; height: 105px !important; width: 100% !important; border: 1px solid rgb(207, 207, 207) !important; border-collapse: collapse !important; ; color: var(--jp-ui-font-color1) !important; }\n",
       "      th.tdhistory74285 { border: 1px solid rgb(198,198,198) !important; border-collapse: collapse !important; ; padding: 2px 5px !important; ; font-size: 13px !important; ; text-align: center !important; white-space: normal !important; color: var(--jp-ui-font-color1) !important; }\n",
       "      th.tdhistory74285:last-child { text-align: left !important; }\n",
       "      tbody.tdhistory74285 tr:nth-child(even) { background: rgba(243, 243, 243, 0.75) !important; }\n",
       "      tbody.tdhistory74285 tr:nth-child(odd) { background: var(--jp-ui-inverse-font-color1) !important; }\n",
       "      td.tdhistory74285 { border: 1px solid rgb(207, 207, 207) !important; border-collapse: collapse !important; ; padding: 2px 5px !important; ; font-size: 13px !important; ; text-align: left !important;          white-space: nowrap !important; overflow:hidden !important; text-overflow:ellipsis !important;; }\n",
       "    </style><thead><tr style= \"background: rgba(243, 243, 243, 0.75)\"><th class=\"tdhistory74285\"></th><th class=\"tdhistory74285\">GENDER</th><th class=\"tdhistory74285\">FIRST_NAME</th><th class=\"tdhistory74285\">LAST_NAME</th><th class=\"tdhistory74285\">ADDRESS</th><th class=\"tdhistory74285\">STATE</th><th class=\"tdhistory74285\">CITY</th><th class=\"tdhistory74285\">ZIPCODE</th><th class=\"tdhistory74285\">PHONE</th><th class=\"tdhistory74285\">CALL_CENTER_COST</th></tr></thead><tbody class=\"tdhistory74285 resultset-body\"><tr><th class=\"tdhistory74285\" style= \"background: rgba(243, 243, 243, 0.75)\">1</th><td class=\"tdhistory74285\">F</td><td class=\"tdhistory74285\">Jessica</td><td class=\"tdhistory74285\">Rego</td><td class=\"tdhistory74285\">3114 Park Street</td><td class=\"tdhistory74285\">OH</td><td class=\"tdhistory74285\">Nashporte</td><td class=\"tdhistory74285\">43830</td><td class=\"tdhistory74285\">(530) 696-4308</td><td class=\"tdhistory74285\">50</td></tr></tbody></table></div>"
      ]
     },
     "execution_count": 11,
     "metadata": {
      "application/vnd.teradata.resultset": "{\"resultSetID\":\"/home/jovyan/JupyterLabRoot/Teradata/Resultsets/2023.12.21_06.27.03.863_UTC\",\"historyID\":255,\"chunkID\":\"00001\",\"sessionid\":\"\",\"portnum\":\"\",\"dockermode\":\"docker\",\"totalRowCount\":1,\"chunkCount\":0,\"rowLimit\":0,\"columnMetadata\":[{\"columnName\":\"GENDER\",\"columnTypeName\":\"VARCHAR\",\"length\":1,\"scale\":1},{\"columnNumber\":1,\"columnName\":\"FIRST_NAME\",\"columnTypeName\":\"VARCHAR\",\"length\":10,\"scale\":10},{\"columnNumber\":2,\"columnName\":\"LAST_NAME\",\"columnTypeName\":\"VARCHAR\",\"length\":9,\"scale\":9},{\"columnNumber\":3,\"columnName\":\"ADDRESS\",\"columnTypeName\":\"VARCHAR\",\"length\":25,\"scale\":25},{\"columnNumber\":4,\"columnName\":\"STATE\",\"columnTypeName\":\"VARCHAR\",\"length\":2,\"scale\":2},{\"columnNumber\":5,\"columnName\":\"CITY\",\"columnTypeName\":\"VARCHAR\",\"length\":16,\"scale\":16},{\"columnNumber\":6,\"columnName\":\"ZIPCODE\",\"columnTypeName\":\"INTEGER\"},{\"columnNumber\":7,\"columnName\":\"PHONE\",\"columnTypeName\":\"VARCHAR\",\"length\":14,\"scale\":14},{\"columnNumber\":8,\"columnName\":\"CALL_CENTER_COST\",\"columnTypeName\":\"BYTEINT\"}]}"
     },
     "output_type": "execute_result"
    }
   ],
   "source": [
    "-- Find Jessica Rego in call center table\n",
    "SELECT * FROM DEMO_Customer360.CallCenter\n",
    "WHERE FIRST_NAME LIKE 'Jes%' AND LAST_NAME LIKE 'Reg%'"
   ]
  },
  {
   "cell_type": "code",
   "execution_count": 12,
   "id": "1b8603ec",
   "metadata": {},
   "outputs": [
    {
     "data": {
      "application/vnd.teradata.resultset": "\"ADDR_LN_1_TXT\",\"ST_OR_PROV_CD\",\"CITY_NAME\",\"ZIP\",\"COOKIE\",\"CAMPAIGN\"\n\"3114Park Street\",\"OH\",\"Nashport\",\"43830\",\"2846E54D5FFE2905099AC6E23014DF7\",\"Email\"",
      "text/html": [
       "<div class = \"td-resultset-table-div\" style = \"max-height: 100%; overflow-y: auto\">\n",
       "      <table class=\"tdhistory685732\"><style>\n",
       "      table.tdhistory685732 { display: block !important; min-height: 105px !important; overflow: auto !important; height: 105px !important; width: 100% !important; border: 1px solid rgb(207, 207, 207) !important; border-collapse: collapse !important; ; color: var(--jp-ui-font-color1) !important; }\n",
       "      th.tdhistory685732 { border: 1px solid rgb(198,198,198) !important; border-collapse: collapse !important; ; padding: 2px 5px !important; ; font-size: 13px !important; ; text-align: center !important; white-space: normal !important; color: var(--jp-ui-font-color1) !important; }\n",
       "      th.tdhistory685732:last-child { text-align: left !important; }\n",
       "      tbody.tdhistory685732 tr:nth-child(even) { background: rgba(243, 243, 243, 0.75) !important; }\n",
       "      tbody.tdhistory685732 tr:nth-child(odd) { background: var(--jp-ui-inverse-font-color1) !important; }\n",
       "      td.tdhistory685732 { border: 1px solid rgb(207, 207, 207) !important; border-collapse: collapse !important; ; padding: 2px 5px !important; ; font-size: 13px !important; ; text-align: left !important;          white-space: nowrap !important; overflow:hidden !important; text-overflow:ellipsis !important;; }\n",
       "    </style><thead><tr style= \"background: rgba(243, 243, 243, 0.75)\"><th class=\"tdhistory685732\"></th><th class=\"tdhistory685732\">ADDR_LN_1_TXT</th><th class=\"tdhistory685732\">ST_OR_PROV_CD</th><th class=\"tdhistory685732\">CITY_NAME</th><th class=\"tdhistory685732\">ZIP</th><th class=\"tdhistory685732\">COOKIE</th><th class=\"tdhistory685732\">CAMPAIGN</th></tr></thead><tbody class=\"tdhistory685732 resultset-body\"><tr><th class=\"tdhistory685732\" style= \"background: rgba(243, 243, 243, 0.75)\">1</th><td class=\"tdhistory685732\">3114Park Street</td><td class=\"tdhistory685732\">OH</td><td class=\"tdhistory685732\">Nashport</td><td class=\"tdhistory685732\">43830</td><td class=\"tdhistory685732\">2846E54D5FFE2905099AC6E23014DF7</td><td class=\"tdhistory685732\">Email</td></tr></tbody></table></div>"
      ]
     },
     "execution_count": 12,
     "metadata": {
      "application/vnd.teradata.resultset": "{\"resultSetID\":\"/home/jovyan/JupyterLabRoot/Teradata/Resultsets/2023.12.21_06.27.03.954_UTC\",\"historyID\":256,\"chunkID\":\"00001\",\"sessionid\":\"\",\"portnum\":\"\",\"dockermode\":\"docker\",\"totalRowCount\":1,\"chunkCount\":0,\"rowLimit\":0,\"columnMetadata\":[{\"columnName\":\"ADDR_LN_1_TXT\",\"columnTypeName\":\"VARCHAR\",\"length\":25,\"scale\":25},{\"columnNumber\":1,\"columnName\":\"ST_OR_PROV_CD\",\"columnTypeName\":\"VARCHAR\",\"length\":2,\"scale\":2},{\"columnNumber\":2,\"columnName\":\"CITY_NAME\",\"columnTypeName\":\"VARCHAR\",\"length\":21,\"scale\":21},{\"columnNumber\":3,\"columnName\":\"ZIP\",\"columnTypeName\":\"INTEGER\"},{\"columnNumber\":4,\"columnName\":\"COOKIE\",\"columnTypeName\":\"VARCHAR\",\"length\":32,\"scale\":32},{\"columnNumber\":5,\"columnName\":\"CAMPAIGN\",\"columnTypeName\":\"VARCHAR\",\"length\":7,\"scale\":7}]}"
     },
     "output_type": "execute_result"
    }
   ],
   "source": [
    "-- Find Jessica Rego's address in tagging table\n",
    "SELECT * FROM DEMO_Customer360.Cookie\n",
    "WHERE ADDR_LN_1_TXT LIKE '3114%Park%'"
   ]
  },
  {
   "cell_type": "markdown",
   "id": "83392067",
   "metadata": {},
   "source": [
    "<hr style=\"height:2px;border:none;background-color:#00233C;\">\n",
    "<p style = 'font-size:20px;font-family:Arial;color:#00233C'><b>4. Append Online Data to Equipment Table</b></p>\n",
    "\n",
    "<p style = 'font-size:16px;font-family:Arial;color:#00233C'>This section will illustrate matching between the equipment and e-commerce tables using the StringSimilarity function built into ClearScape Analytics. The <a href=\"https://docs.teradata.com/r/Database-Analytic-Functions/July-2021/Advanced-SQL-Engine-Analytic-Functions/StringSimilarity-SQL-Engine\">StringSimiliarity documentation</a> contains more information on the function. The StringSimiliarty function supports 10 different ways of comparing two strings. We will use the Jaro similiarity, which accounts for the number of matching characters and transpositions.</p>\n",
    "\n",
    "<p style = 'font-size:16px;font-family:Arial;color:#00233C'>Steps for this section include: \n",
    "    <img src = 'images/step4.png' width = '350' align='right' padding='padding:50px'></p>\n",
    "\n",
    "<ol style = 'font-size:16px;font-family:Arial;color:#00233C'>\n",
    "        <li>Exploring which key strings will be matched from a full join</li> \n",
    "        <li>Creating a matching table consisting of: \n",
    "        <ul><li>The key string from the equipment table</li>\n",
    "            <li>The key string from the e-commerce table</li>\n",
    "            <li>The matching score</li>\n",
    "            <li>Any columns from the e-commerce table we want to append</li>\n",
    "        </ul></li>\n",
    "    <li style = 'font-size:16px;font-family:Arial;color:#00233C'>Joining the in-store table with the matching table to form an intermediate golden record</li>\n",
    "    </ol>\n",
    "    "
   ]
  },
  {
   "cell_type": "markdown",
   "id": "b7839a39",
   "metadata": {},
   "source": [
    "<hr style=\"height:1px;border:none;background-color:#00233C;\">\n",
    "<p style = 'font-size:18px;font-family:Arial;color:#00233C'><b>4.1 - Exploring full join key strings</b></p>\n",
    "\n",
    "<p style = 'font-size:16px;font-family:Arial;color:#00233C'>We will create a key string for each row of the equipment and online tables. The key string will consist of the first name, last name, and city with all spaces removed. Then each key string from the retail table will be compared with each key string in the e-commerce table. The statement below shows the first 20 rows of the comparison. Note that every equipment key is being compared to the first online key.</p>"
   ]
  },
  {
   "cell_type": "code",
   "execution_count": 13,
   "id": "9287ff8f",
   "metadata": {},
   "outputs": [
    {
     "data": {
      "application/vnd.teradata.resultset": "\"CUST_ID\",\"LOYALTY_NUM\",\"EQUIPMENT_KEY\",\"ONLINE_KEY\"\n\"19579\",\"1233911\",\"MPedroGonsalvesGreenville\",\"FLauraDeSilvaNewCastle\"\n\"19688\",\"1233911\",\"FLuizaTeixeiraKerr\",\"FLauraDeSilvaNewCastle\"\n\"22143\",\"1233911\",\"MLucasMoreauWinchester\",\"FLauraDeSilvaNewCastle\"\n\"22142\",\"1233911\",\"FBeatrizGonsalvesFairfield\",\"FLauraDeSilvaNewCastle\"\n\"20575\",\"1233911\",\"FLauraDeSilvaNewCastle\",\"FLauraDeSilvaNewCastle\"",
      "text/html": [
       "<div class = \"td-resultset-table-div\" style = \"max-height: 100%; overflow-y: auto\">\n",
       "      <table class=\"tdhistory482792\"><style>\n",
       "      table.tdhistory482792 { display: block !important; min-height: 189px !important; overflow: auto !important; height: 189px !important; width: 100% !important; border: 1px solid rgb(207, 207, 207) !important; border-collapse: collapse !important; ; color: var(--jp-ui-font-color1) !important; }\n",
       "      th.tdhistory482792 { border: 1px solid rgb(198,198,198) !important; border-collapse: collapse !important; ; padding: 2px 5px !important; ; font-size: 13px !important; ; text-align: center !important; white-space: normal !important; color: var(--jp-ui-font-color1) !important; }\n",
       "      th.tdhistory482792:last-child { text-align: left !important; }\n",
       "      tbody.tdhistory482792 tr:nth-child(even) { background: rgba(243, 243, 243, 0.75) !important; }\n",
       "      tbody.tdhistory482792 tr:nth-child(odd) { background: var(--jp-ui-inverse-font-color1) !important; }\n",
       "      td.tdhistory482792 { border: 1px solid rgb(207, 207, 207) !important; border-collapse: collapse !important; ; padding: 2px 5px !important; ; font-size: 13px !important; ; text-align: left !important;          white-space: nowrap !important; overflow:hidden !important; text-overflow:ellipsis !important;; }\n",
       "    </style><thead><tr style= \"background: rgba(243, 243, 243, 0.75)\"><th class=\"tdhistory482792\"></th><th class=\"tdhistory482792\">CUST_ID</th><th class=\"tdhistory482792\">LOYALTY_NUM</th><th class=\"tdhistory482792\">EQUIPMENT_KEY</th><th class=\"tdhistory482792\">ONLINE_KEY</th></tr></thead><tbody class=\"tdhistory482792 resultset-body\"><tr><th class=\"tdhistory482792\" style= \"background: rgba(243, 243, 243, 0.75)\">1</th><td class=\"tdhistory482792\">19579</td><td class=\"tdhistory482792\">1233911</td><td class=\"tdhistory482792\">MPedroGonsalvesGreenville</td><td class=\"tdhistory482792\">FLauraDeSilvaNewCastle</td></tr><tr><th class=\"tdhistory482792\" style= \"background: rgba(243, 243, 243, 0.75)\">2</th><td class=\"tdhistory482792\">19688</td><td class=\"tdhistory482792\">1233911</td><td class=\"tdhistory482792\">FLuizaTeixeiraKerr</td><td class=\"tdhistory482792\">FLauraDeSilvaNewCastle</td></tr><tr><th class=\"tdhistory482792\" style= \"background: rgba(243, 243, 243, 0.75)\">3</th><td class=\"tdhistory482792\">22143</td><td class=\"tdhistory482792\">1233911</td><td class=\"tdhistory482792\">MLucasMoreauWinchester</td><td class=\"tdhistory482792\">FLauraDeSilvaNewCastle</td></tr><tr><th class=\"tdhistory482792\" style= \"background: rgba(243, 243, 243, 0.75)\">4</th><td class=\"tdhistory482792\">22142</td><td class=\"tdhistory482792\">1233911</td><td class=\"tdhistory482792\">FBeatrizGonsalvesFairfield</td><td class=\"tdhistory482792\">FLauraDeSilvaNewCastle</td></tr><tr><th class=\"tdhistory482792\" style= \"background: rgba(243, 243, 243, 0.75)\">5</th><td class=\"tdhistory482792\">20575</td><td class=\"tdhistory482792\">1233911</td><td class=\"tdhistory482792\">FLauraDeSilvaNewCastle</td><td class=\"tdhistory482792\">FLauraDeSilvaNewCastle</td></tr></tbody></table></div>"
      ]
     },
     "execution_count": 13,
     "metadata": {
      "application/vnd.teradata.resultset": "{\"resultSetID\":\"/home/jovyan/JupyterLabRoot/Teradata/Resultsets/2023.12.21_06.27.04.418_UTC\",\"historyID\":257,\"chunkID\":\"00001\",\"sessionid\":\"\",\"portnum\":\"\",\"dockermode\":\"docker\",\"totalRowCount\":5,\"chunkCount\":0,\"rowLimit\":0,\"columnMetadata\":[{\"columnName\":\"CUST_ID\",\"columnTypeName\":\"SMALLINT\"},{\"columnNumber\":1,\"columnName\":\"LOYALTY_NUM\",\"columnTypeName\":\"INTEGER\"},{\"columnNumber\":2,\"columnName\":\"EQUIPMENT_KEY\",\"columnTypeName\":\"VARCHAR\",\"length\":8000,\"scale\":8000},{\"columnNumber\":3,\"columnName\":\"ONLINE_KEY\",\"columnTypeName\":\"VARCHAR\",\"length\":8000,\"scale\":8000}]}"
     },
     "output_type": "execute_result"
    }
   ],
   "source": [
    "SELECT TOP 5\n",
    "    e.CUST_ID,\n",
    "    o.LOYALTY_NUM,\n",
    "    REGEXP_REPLACE(OREPLACE((e.GENDER||e.FIRSTNAME||e.LASTNAME||e.CITY),\n",
    "                            ' ',''), \n",
    "                   '[^a-zA-Z\\d:]','',1,0) as EQUIPMENT_KEY,\n",
    "    REGEXP_REPLACE(OREPLACE((o.SEX||o.FNAME||o.LNAME||o.CITY),\n",
    "                            ' ',''), \n",
    "                   '[^a-zA-Z\\d:]','',1,0) as ONLINE_KEY\n",
    "FROM DEMO_Customer360.Equipment e, DEMO_Customer360.Online o;"
   ]
  },
  {
   "cell_type": "markdown",
   "id": "3eb098b0",
   "metadata": {},
   "source": [
    "<hr style=\"height:1px;border:none;background-color:#00233C;\">\n",
    "<p style = 'font-size:18px;font-family:Arial;color:#00233C'><b>4.2 - Creating a matching table</b></p>\n",
    "\n",
    "<p style = 'font-size:16px;font-family:Arial;color:#00233C'>We will run the StringSimiliarity function on each row of the table above and only select the rows with a Jaro match of at least a certain threshold. Since the Jaro simliarity score is normalized between 0 and 1, we will choose a threshold of 0.90.</p>"
   ]
  },
  {
   "cell_type": "code",
   "execution_count": 14,
   "id": "f6a89e43",
   "metadata": {},
   "outputs": [
    {
     "data": {
      "text/plain": [
       "Success: 0 rows affected"
      ]
     },
     "execution_count": 14,
     "metadata": {
      "application/vnd.teradata.resultset": ""
     },
     "output_type": "execute_result"
    }
   ],
   "source": [
    "REPLACE VIEW C360_MatchAB_V AS (\n",
    "    SELECT * FROM StringSimilarity (\n",
    "        ON (\n",
    "            SELECT \n",
    "                e.CUST_ID, \n",
    "                o.LOYALTY_NUM, \n",
    "                CAST(REGEXP_REPLACE(OREPLACE((e.GENDER||e.FIRSTNAME||e.LASTNAME||e.CITY),' ',''), \n",
    "                                             '[^a-zA-Z\\d:]','',1,0) as VARCHAR(50)) \n",
    "                                             as EQUIPMENT_KEY,\n",
    "                CAST(REGEXP_REPLACE(OREPLACE((o.SEX||o.FNAME||o.LNAME||o.CITY),' ',''), \n",
    "                                             '[^a-zA-Z\\d:]','',1,0) as VARCHAR(50)) \n",
    "                                             as ONLINE_KEY,\n",
    "                o.email\n",
    "            FROM DEMO_Customer360.Equipment e, DEMO_Customer360.Online o\n",
    "        ) PARTITION BY ANY\n",
    "        USING\n",
    "        ComparisonColumnPairs(\n",
    "            'jaro (EQUIPMENT_KEY, ONLINE_KEY) AS jaro'\n",
    "        )\n",
    "        CaseSensitive('false')\n",
    "        Accumulate('CUST_ID', 'LOYALTY_NUM', 'EQUIPMENT_KEY', 'ONLINE_KEY', 'EMAIL')\n",
    "    ) AS dt \n",
    "WHERE jaro > .90)"
   ]
  },
  {
   "cell_type": "code",
   "execution_count": 15,
   "id": "78e27c66",
   "metadata": {},
   "outputs": [
    {
     "data": {
      "application/vnd.teradata.resultset": "\"CUST_ID\",\"LOYALTY_NUM\",\"EQUIPMENT_KEY\",\"ONLINE_KEY\",\"EMAIL\",\"jaro\"\n\"20521\",\"6947731\",\"FBrunaGonsalvesHighlandFalls\",\"FBrunaGonsalvesHighlandFalls\",\"bgonsalves@gmail.com\",\"1\"\n\"19397\",\"5353875\",\"FBeatrizMartinsAshley\",\"FBeatrizMartinsAshley\",\"bmartins@gmail.com\",\"1\"\n\"22142\",\"1584600\",\"FBeatrizGonsalvesFairfield\",\"FBeatrizGonsalvesFairfield\",\"beatriz.gonsalves@teratitan.com\",\"1\"\n\"19463\",\"7782697\",\"FAaryaPatelWaiteville\",\"FAaryaPatelWaiteville\",\"apatel@gmail.com\",\"1\"\n\"19939\",\"5698076\",\"MJuanTorresBretz\",\"MJuanTorresBretz\",\"jtorres@gmail.com\",\"1\"\n\"19579\",\"5969239\",\"MPedroGonsalvesGreenville\",\"MPedroGonsalvesGreenville\",\"pedro.gonsalves@teratitan.com\",\"1\"\n\"21832\",\"1596672\",\"FJiaojieGaoLakeAriel\",\"FJiaojieGaoLakeAriel\",\"jgao@gmail.com\",\"1\"\n\"22143\",\"1481403\",\"MLucasMoreauWinchester\",\"MLucasMoreauWinchester\",\"lucas.moreau@teratitan.com\",\"1\"\n\"21964\",\"1937953\",\"MStevenSugarHamilton\",\"MStevenSugarHamilton\",\"Steven.Sugar@teratitan.com\",\"1\"\n\"19688\",\"6428173\",\"FLuizaTeixeiraKerr\",\"FLuizaTeixeiraKerr\",\"lteixeira@gmail.com\",\"1\"\n\"21604\",\"5640564\",\"FSofieLarsenJavaCenter\",\"FSofieLarsenJavaCenter\",\"sofie.larsen@teratitan.com\",\"1\"\n\"20575\",\"1233911\",\"FLauraDeSilvaNewCastle\",\"FLauraDeSilvaNewCastle\",\"ldesilva@gmail.com\",\"1\"\n\"19499\",\"2050619\",\"MMiguelSousaLinden\",\"MMiguelSousaLinden\",\"msousa@gmail.com\",\"1\"\n\"22099\",\"3947978\",\"FAmySmithBrooklyn\",\"FAmySmithBrooklyn\",\"asmith@gmail.com\",\"1\"\n\"22217\",\"7804483\",\"MAlexanderSchaferSmithburg\",\"MAlexanderSchafferSmithburg\",\"alexander.schafer@teratitan.com\",\"0.9876543209876543\"\n\"19565\",\"5927010\",\"FNishiDwivediSheakleyville\",\"FNishinDwivediSheakleyville\",\"nishi.dwivedi@teratitan.com\",\"0.9876543209876543\"\n\"19649\",\"1249080\",\"MVitorTeixeiraBridgeport\",\"MVictorTeixeiraBridgeport\",\"vteixeira@gmail.com\",\"0.9866666666666667\"\n\"19674\",\"1547675\",\"MLucasRegoWestFarmington\",\"MLucasRegooWestFarmington\",\"lregoo@yahoo.com\",\"0.9866666666666667\"\n\"20171\",\"5582138\",\"MMiguelTeixeiraEauClaire\",\"MMigeulTeixeiraEauClaire\",\"mteixeira@outlook.com\",\"0.9861111111111112\"\n\"21805\",\"3927985\",\"MTiffanyLongTuscarawas\",\"MTiffanyLongeTuscarawas\",\"Tiffany.Long@teratitan.com\",\"0.9855072463768115\"",
      "text/html": [
       "<div class = \"td-resultset-table-div\" style = \"max-height: 100%; overflow-y: auto\">\n",
       "      <table class=\"tdhistory508044\"><style>\n",
       "      table.tdhistory508044 { display: block !important; min-height: 504px !important; overflow: auto !important; height: 504px !important; width: 100% !important; border: 1px solid rgb(207, 207, 207) !important; border-collapse: collapse !important; ; color: var(--jp-ui-font-color1) !important; }\n",
       "      th.tdhistory508044 { border: 1px solid rgb(198,198,198) !important; border-collapse: collapse !important; ; padding: 2px 5px !important; ; font-size: 13px !important; ; text-align: center !important; white-space: normal !important; color: var(--jp-ui-font-color1) !important; }\n",
       "      th.tdhistory508044:last-child { text-align: left !important; }\n",
       "      tbody.tdhistory508044 tr:nth-child(even) { background: rgba(243, 243, 243, 0.75) !important; }\n",
       "      tbody.tdhistory508044 tr:nth-child(odd) { background: var(--jp-ui-inverse-font-color1) !important; }\n",
       "      td.tdhistory508044 { border: 1px solid rgb(207, 207, 207) !important; border-collapse: collapse !important; ; padding: 2px 5px !important; ; font-size: 13px !important; ; text-align: left !important;          white-space: nowrap !important; overflow:hidden !important; text-overflow:ellipsis !important;; }\n",
       "    </style><thead><tr style= \"background: rgba(243, 243, 243, 0.75)\"><th class=\"tdhistory508044\"></th><th class=\"tdhistory508044\">CUST_ID</th><th class=\"tdhistory508044\">LOYALTY_NUM</th><th class=\"tdhistory508044\">EQUIPMENT_KEY</th><th class=\"tdhistory508044\">ONLINE_KEY</th><th class=\"tdhistory508044\">EMAIL</th><th class=\"tdhistory508044\">jaro</th></tr></thead><tbody class=\"tdhistory508044 resultset-body\"><tr><th class=\"tdhistory508044\" style= \"background: rgba(243, 243, 243, 0.75)\">1</th><td class=\"tdhistory508044\">20521</td><td class=\"tdhistory508044\">6947731</td><td class=\"tdhistory508044\">FBrunaGonsalvesHighlandFalls</td><td class=\"tdhistory508044\">FBrunaGonsalvesHighlandFalls</td><td class=\"tdhistory508044\">bgonsalves@gmail.com</td><td class=\"tdhistory508044\">1</td></tr><tr><th class=\"tdhistory508044\" style= \"background: rgba(243, 243, 243, 0.75)\">2</th><td class=\"tdhistory508044\">19397</td><td class=\"tdhistory508044\">5353875</td><td class=\"tdhistory508044\">FBeatrizMartinsAshley</td><td class=\"tdhistory508044\">FBeatrizMartinsAshley</td><td class=\"tdhistory508044\">bmartins@gmail.com</td><td class=\"tdhistory508044\">1</td></tr><tr><th class=\"tdhistory508044\" style= \"background: rgba(243, 243, 243, 0.75)\">3</th><td class=\"tdhistory508044\">22142</td><td class=\"tdhistory508044\">1584600</td><td class=\"tdhistory508044\">FBeatrizGonsalvesFairfield</td><td class=\"tdhistory508044\">FBeatrizGonsalvesFairfield</td><td class=\"tdhistory508044\">beatriz.gonsalves@teratitan.com</td><td class=\"tdhistory508044\">1</td></tr><tr><th class=\"tdhistory508044\" style= \"background: rgba(243, 243, 243, 0.75)\">4</th><td class=\"tdhistory508044\">19463</td><td class=\"tdhistory508044\">7782697</td><td class=\"tdhistory508044\">FAaryaPatelWaiteville</td><td class=\"tdhistory508044\">FAaryaPatelWaiteville</td><td class=\"tdhistory508044\">apatel@gmail.com</td><td class=\"tdhistory508044\">1</td></tr><tr><th class=\"tdhistory508044\" style= \"background: rgba(243, 243, 243, 0.75)\">5</th><td class=\"tdhistory508044\">19939</td><td class=\"tdhistory508044\">5698076</td><td class=\"tdhistory508044\">MJuanTorresBretz</td><td class=\"tdhistory508044\">MJuanTorresBretz</td><td class=\"tdhistory508044\">jtorres@gmail.com</td><td class=\"tdhistory508044\">1</td></tr><tr><th class=\"tdhistory508044\" style= \"background: rgba(243, 243, 243, 0.75)\">6</th><td class=\"tdhistory508044\">19579</td><td class=\"tdhistory508044\">5969239</td><td class=\"tdhistory508044\">MPedroGonsalvesGreenville</td><td class=\"tdhistory508044\">MPedroGonsalvesGreenville</td><td class=\"tdhistory508044\">pedro.gonsalves@teratitan.com</td><td class=\"tdhistory508044\">1</td></tr><tr><th class=\"tdhistory508044\" style= \"background: rgba(243, 243, 243, 0.75)\">7</th><td class=\"tdhistory508044\">21832</td><td class=\"tdhistory508044\">1596672</td><td class=\"tdhistory508044\">FJiaojieGaoLakeAriel</td><td class=\"tdhistory508044\">FJiaojieGaoLakeAriel</td><td class=\"tdhistory508044\">jgao@gmail.com</td><td class=\"tdhistory508044\">1</td></tr><tr><th class=\"tdhistory508044\" style= \"background: rgba(243, 243, 243, 0.75)\">8</th><td class=\"tdhistory508044\">22143</td><td class=\"tdhistory508044\">1481403</td><td class=\"tdhistory508044\">MLucasMoreauWinchester</td><td class=\"tdhistory508044\">MLucasMoreauWinchester</td><td class=\"tdhistory508044\">lucas.moreau@teratitan.com</td><td class=\"tdhistory508044\">1</td></tr><tr><th class=\"tdhistory508044\" style= \"background: rgba(243, 243, 243, 0.75)\">9</th><td class=\"tdhistory508044\">21964</td><td class=\"tdhistory508044\">1937953</td><td class=\"tdhistory508044\">MStevenSugarHamilton</td><td class=\"tdhistory508044\">MStevenSugarHamilton</td><td class=\"tdhistory508044\">Steven.Sugar@teratitan.com</td><td class=\"tdhistory508044\">1</td></tr><tr><th class=\"tdhistory508044\" style= \"background: rgba(243, 243, 243, 0.75)\">10</th><td class=\"tdhistory508044\">19688</td><td class=\"tdhistory508044\">6428173</td><td class=\"tdhistory508044\">FLuizaTeixeiraKerr</td><td class=\"tdhistory508044\">FLuizaTeixeiraKerr</td><td class=\"tdhistory508044\">lteixeira@gmail.com</td><td class=\"tdhistory508044\">1</td></tr><tr><th class=\"tdhistory508044\" style= \"background: rgba(243, 243, 243, 0.75)\">11</th><td class=\"tdhistory508044\">21604</td><td class=\"tdhistory508044\">5640564</td><td class=\"tdhistory508044\">FSofieLarsenJavaCenter</td><td class=\"tdhistory508044\">FSofieLarsenJavaCenter</td><td class=\"tdhistory508044\">sofie.larsen@teratitan.com</td><td class=\"tdhistory508044\">1</td></tr><tr><th class=\"tdhistory508044\" style= \"background: rgba(243, 243, 243, 0.75)\">12</th><td class=\"tdhistory508044\">20575</td><td class=\"tdhistory508044\">1233911</td><td class=\"tdhistory508044\">FLauraDeSilvaNewCastle</td><td class=\"tdhistory508044\">FLauraDeSilvaNewCastle</td><td class=\"tdhistory508044\">ldesilva@gmail.com</td><td class=\"tdhistory508044\">1</td></tr><tr><th class=\"tdhistory508044\" style= \"background: rgba(243, 243, 243, 0.75)\">13</th><td class=\"tdhistory508044\">19499</td><td class=\"tdhistory508044\">2050619</td><td class=\"tdhistory508044\">MMiguelSousaLinden</td><td class=\"tdhistory508044\">MMiguelSousaLinden</td><td class=\"tdhistory508044\">msousa@gmail.com</td><td class=\"tdhistory508044\">1</td></tr><tr><th class=\"tdhistory508044\" style= \"background: rgba(243, 243, 243, 0.75)\">14</th><td class=\"tdhistory508044\">22099</td><td class=\"tdhistory508044\">3947978</td><td class=\"tdhistory508044\">FAmySmithBrooklyn</td><td class=\"tdhistory508044\">FAmySmithBrooklyn</td><td class=\"tdhistory508044\">asmith@gmail.com</td><td class=\"tdhistory508044\">1</td></tr><tr><th class=\"tdhistory508044\" style= \"background: rgba(243, 243, 243, 0.75)\">15</th><td class=\"tdhistory508044\">22217</td><td class=\"tdhistory508044\">7804483</td><td class=\"tdhistory508044\">MAlexanderSchaferSmithburg</td><td class=\"tdhistory508044\">MAlexanderSchafferSmithburg</td><td class=\"tdhistory508044\">alexander.schafer@teratitan.com</td><td class=\"tdhistory508044\">0.9876543209876543</td></tr><tr><th class=\"tdhistory508044\" style= \"background: rgba(243, 243, 243, 0.75)\">16</th><td class=\"tdhistory508044\">19565</td><td class=\"tdhistory508044\">5927010</td><td class=\"tdhistory508044\">FNishiDwivediSheakleyville</td><td class=\"tdhistory508044\">FNishinDwivediSheakleyville</td><td class=\"tdhistory508044\">nishi.dwivedi@teratitan.com</td><td class=\"tdhistory508044\">0.9876543209876543</td></tr><tr><th class=\"tdhistory508044\" style= \"background: rgba(243, 243, 243, 0.75)\">17</th><td class=\"tdhistory508044\">19649</td><td class=\"tdhistory508044\">1249080</td><td class=\"tdhistory508044\">MVitorTeixeiraBridgeport</td><td class=\"tdhistory508044\">MVictorTeixeiraBridgeport</td><td class=\"tdhistory508044\">vteixeira@gmail.com</td><td class=\"tdhistory508044\">0.9866666666666667</td></tr><tr><th class=\"tdhistory508044\" style= \"background: rgba(243, 243, 243, 0.75)\">18</th><td class=\"tdhistory508044\">19674</td><td class=\"tdhistory508044\">1547675</td><td class=\"tdhistory508044\">MLucasRegoWestFarmington</td><td class=\"tdhistory508044\">MLucasRegooWestFarmington</td><td class=\"tdhistory508044\">lregoo@yahoo.com</td><td class=\"tdhistory508044\">0.9866666666666667</td></tr><tr><th class=\"tdhistory508044\" style= \"background: rgba(243, 243, 243, 0.75)\">19</th><td class=\"tdhistory508044\">20171</td><td class=\"tdhistory508044\">5582138</td><td class=\"tdhistory508044\">MMiguelTeixeiraEauClaire</td><td class=\"tdhistory508044\">MMigeulTeixeiraEauClaire</td><td class=\"tdhistory508044\">mteixeira@outlook.com</td><td class=\"tdhistory508044\">0.9861111111111112</td></tr><tr><th class=\"tdhistory508044\" style= \"background: rgba(243, 243, 243, 0.75)\">20</th><td class=\"tdhistory508044\">21805</td><td class=\"tdhistory508044\">3927985</td><td class=\"tdhistory508044\">MTiffanyLongTuscarawas</td><td class=\"tdhistory508044\">MTiffanyLongeTuscarawas</td><td class=\"tdhistory508044\">Tiffany.Long@teratitan.com</td><td class=\"tdhistory508044\">0.9855072463768115</td></tr></tbody></table></div>"
      ]
     },
     "execution_count": 15,
     "metadata": {
      "application/vnd.teradata.resultset": "{\"resultSetID\":\"/home/jovyan/JupyterLabRoot/Teradata/Resultsets/2023.12.21_06.27.06.485_UTC\",\"historyID\":259,\"chunkID\":\"00001\",\"sessionid\":\"\",\"portnum\":\"\",\"dockermode\":\"docker\",\"totalRowCount\":20,\"chunkCount\":0,\"rowLimit\":0,\"columnMetadata\":[{\"columnName\":\"CUST_ID\",\"columnTypeName\":\"SMALLINT\"},{\"columnNumber\":1,\"columnName\":\"LOYALTY_NUM\",\"columnTypeName\":\"INTEGER\"},{\"columnNumber\":2,\"columnName\":\"EQUIPMENT_KEY\",\"columnTypeName\":\"VARCHAR\",\"length\":50,\"scale\":50},{\"columnNumber\":3,\"columnName\":\"ONLINE_KEY\",\"columnTypeName\":\"VARCHAR\",\"length\":50,\"scale\":50},{\"columnNumber\":4,\"columnName\":\"EMAIL\",\"columnTypeName\":\"VARCHAR\",\"length\":31,\"scale\":31},{\"columnNumber\":5,\"columnName\":\"jaro\",\"columnTypeName\":\"FLOAT\"}]}"
     },
     "output_type": "execute_result"
    }
   ],
   "source": [
    "SELECT Top 20 * FROM C360_MatchAB_V ORDER BY jaro DESC;"
   ]
  },
  {
   "cell_type": "markdown",
   "id": "7d52a784",
   "metadata": {},
   "source": [
    "<p style = 'font-size:16px;font-family:Arial;color:#00233C'>We see that the first 14 rows consist of exact matches. But starting with the 15th row, the Jaro similarity score is less than 1, indicating there are some discrepancies. For example, taking a look at Jessica Rego, we see that her first name is spelled as Jessika in the online key field:</p>"
   ]
  },
  {
   "cell_type": "code",
   "execution_count": 16,
   "id": "a4f56adf",
   "metadata": {},
   "outputs": [
    {
     "data": {
      "application/vnd.teradata.resultset": "\"CUST_ID\",\"LOYALTY_NUM\",\"EQUIPMENT_KEY\",\"ONLINE_KEY\",\"EMAIL\",\"jaro\"\n\"21903\",\"1460445\",\"FJessicaRegoNashport\",\"FJessikaRegoNashport\",\"jrego@yahoo.com\",\"0.9666666666666667\"",
      "text/html": [
       "<div class = \"td-resultset-table-div\" style = \"max-height: 100%; overflow-y: auto\">\n",
       "      <table class=\"tdhistory607554\"><style>\n",
       "      table.tdhistory607554 { display: block !important; min-height: 105px !important; overflow: auto !important; height: 105px !important; width: 100% !important; border: 1px solid rgb(207, 207, 207) !important; border-collapse: collapse !important; ; color: var(--jp-ui-font-color1) !important; }\n",
       "      th.tdhistory607554 { border: 1px solid rgb(198,198,198) !important; border-collapse: collapse !important; ; padding: 2px 5px !important; ; font-size: 13px !important; ; text-align: center !important; white-space: normal !important; color: var(--jp-ui-font-color1) !important; }\n",
       "      th.tdhistory607554:last-child { text-align: left !important; }\n",
       "      tbody.tdhistory607554 tr:nth-child(even) { background: rgba(243, 243, 243, 0.75) !important; }\n",
       "      tbody.tdhistory607554 tr:nth-child(odd) { background: var(--jp-ui-inverse-font-color1) !important; }\n",
       "      td.tdhistory607554 { border: 1px solid rgb(207, 207, 207) !important; border-collapse: collapse !important; ; padding: 2px 5px !important; ; font-size: 13px !important; ; text-align: left !important;          white-space: nowrap !important; overflow:hidden !important; text-overflow:ellipsis !important;; }\n",
       "    </style><thead><tr style= \"background: rgba(243, 243, 243, 0.75)\"><th class=\"tdhistory607554\"></th><th class=\"tdhistory607554\">CUST_ID</th><th class=\"tdhistory607554\">LOYALTY_NUM</th><th class=\"tdhistory607554\">EQUIPMENT_KEY</th><th class=\"tdhistory607554\">ONLINE_KEY</th><th class=\"tdhistory607554\">EMAIL</th><th class=\"tdhistory607554\">jaro</th></tr></thead><tbody class=\"tdhistory607554 resultset-body\"><tr><th class=\"tdhistory607554\" style= \"background: rgba(243, 243, 243, 0.75)\">1</th><td class=\"tdhistory607554\">21903</td><td class=\"tdhistory607554\">1460445</td><td class=\"tdhistory607554\">FJessicaRegoNashport</td><td class=\"tdhistory607554\">FJessikaRegoNashport</td><td class=\"tdhistory607554\">jrego@yahoo.com</td><td class=\"tdhistory607554\">0.9666666666666667</td></tr></tbody></table></div>"
      ]
     },
     "execution_count": 16,
     "metadata": {
      "application/vnd.teradata.resultset": "{\"resultSetID\":\"/home/jovyan/JupyterLabRoot/Teradata/Resultsets/2023.12.21_06.27.07.158_UTC\",\"historyID\":260,\"chunkID\":\"00001\",\"sessionid\":\"\",\"portnum\":\"\",\"dockermode\":\"docker\",\"totalRowCount\":1,\"chunkCount\":0,\"rowLimit\":0,\"columnMetadata\":[{\"columnName\":\"CUST_ID\",\"columnTypeName\":\"SMALLINT\"},{\"columnNumber\":1,\"columnName\":\"LOYALTY_NUM\",\"columnTypeName\":\"INTEGER\"},{\"columnNumber\":2,\"columnName\":\"EQUIPMENT_KEY\",\"columnTypeName\":\"VARCHAR\",\"length\":50,\"scale\":50},{\"columnNumber\":3,\"columnName\":\"ONLINE_KEY\",\"columnTypeName\":\"VARCHAR\",\"length\":50,\"scale\":50},{\"columnNumber\":4,\"columnName\":\"EMAIL\",\"columnTypeName\":\"VARCHAR\",\"length\":31,\"scale\":31},{\"columnNumber\":5,\"columnName\":\"jaro\",\"columnTypeName\":\"FLOAT\"}]}"
     },
     "output_type": "execute_result"
    }
   ],
   "source": [
    "SELECT * FROM C360_MatchAB_V WHERE EQUIPMENT_KEY LIKE '%JessicaRego%'"
   ]
  },
  {
   "cell_type": "markdown",
   "id": "e5f68727",
   "metadata": {},
   "source": [
    "<p style = 'font-size:16px;font-family:Arial;color:#00233C'>We find that out of the 100 records in the retail table and 70 in the e-commerce table, 67 were matched.</p>"
   ]
  },
  {
   "cell_type": "code",
   "execution_count": 17,
   "id": "6fd28b5e",
   "metadata": {},
   "outputs": [
    {
     "data": {
      "application/vnd.teradata.resultset": "\"Count(*)\"\n\"100\"",
      "text/html": [
       "<div class = \"td-resultset-table-div\" style = \"max-height: 100%; overflow-y: auto\">\n",
       "      <table class=\"tdhistory552203\"><style>\n",
       "      table.tdhistory552203 { display: block !important; min-height: 105px !important; overflow: auto !important; height: 105px !important; width: 100% !important; border: 1px solid rgb(207, 207, 207) !important; border-collapse: collapse !important; ; color: var(--jp-ui-font-color1) !important; }\n",
       "      th.tdhistory552203 { border: 1px solid rgb(198,198,198) !important; border-collapse: collapse !important; ; padding: 2px 5px !important; ; font-size: 13px !important; ; text-align: center !important; white-space: normal !important; color: var(--jp-ui-font-color1) !important; }\n",
       "      th.tdhistory552203:last-child { text-align: left !important; }\n",
       "      tbody.tdhistory552203 tr:nth-child(even) { background: rgba(243, 243, 243, 0.75) !important; }\n",
       "      tbody.tdhistory552203 tr:nth-child(odd) { background: var(--jp-ui-inverse-font-color1) !important; }\n",
       "      td.tdhistory552203 { border: 1px solid rgb(207, 207, 207) !important; border-collapse: collapse !important; ; padding: 2px 5px !important; ; font-size: 13px !important; ; text-align: left !important;          white-space: nowrap !important; overflow:hidden !important; text-overflow:ellipsis !important;; }\n",
       "    </style><thead><tr style= \"background: rgba(243, 243, 243, 0.75)\"><th class=\"tdhistory552203\"></th><th class=\"tdhistory552203\">Count(*)</th></tr></thead><tbody class=\"tdhistory552203 resultset-body\"><tr><th class=\"tdhistory552203\" style= \"background: rgba(243, 243, 243, 0.75)\">1</th><td class=\"tdhistory552203\">100</td></tr></tbody></table></div>"
      ]
     },
     "execution_count": 17,
     "metadata": {
      "application/vnd.teradata.resultset": "{\"resultSetID\":\"/home/jovyan/JupyterLabRoot/Teradata/Resultsets/2023.12.21_06.27.07.226_UTC\",\"historyID\":261,\"chunkID\":\"00001\",\"sessionid\":\"\",\"portnum\":\"\",\"dockermode\":\"docker\",\"totalRowCount\":1,\"chunkCount\":0,\"rowLimit\":0,\"columnMetadata\":[{\"columnName\":\"Count(*)\",\"columnTypeName\":\"INTEGER\"}]}"
     },
     "output_type": "execute_result"
    }
   ],
   "source": [
    "SELECT COUNT(*) FROM DEMO_Customer360.Equipment"
   ]
  },
  {
   "cell_type": "code",
   "execution_count": 18,
   "id": "bee28711",
   "metadata": {},
   "outputs": [
    {
     "data": {
      "application/vnd.teradata.resultset": "\"Count(*)\"\n\"70\"",
      "text/html": [
       "<div class = \"td-resultset-table-div\" style = \"max-height: 100%; overflow-y: auto\">\n",
       "      <table class=\"tdhistory5295\"><style>\n",
       "      table.tdhistory5295 { display: block !important; min-height: 105px !important; overflow: auto !important; height: 105px !important; width: 100% !important; border: 1px solid rgb(207, 207, 207) !important; border-collapse: collapse !important; ; color: var(--jp-ui-font-color1) !important; }\n",
       "      th.tdhistory5295 { border: 1px solid rgb(198,198,198) !important; border-collapse: collapse !important; ; padding: 2px 5px !important; ; font-size: 13px !important; ; text-align: center !important; white-space: normal !important; color: var(--jp-ui-font-color1) !important; }\n",
       "      th.tdhistory5295:last-child { text-align: left !important; }\n",
       "      tbody.tdhistory5295 tr:nth-child(even) { background: rgba(243, 243, 243, 0.75) !important; }\n",
       "      tbody.tdhistory5295 tr:nth-child(odd) { background: var(--jp-ui-inverse-font-color1) !important; }\n",
       "      td.tdhistory5295 { border: 1px solid rgb(207, 207, 207) !important; border-collapse: collapse !important; ; padding: 2px 5px !important; ; font-size: 13px !important; ; text-align: left !important;          white-space: nowrap !important; overflow:hidden !important; text-overflow:ellipsis !important;; }\n",
       "    </style><thead><tr style= \"background: rgba(243, 243, 243, 0.75)\"><th class=\"tdhistory5295\"></th><th class=\"tdhistory5295\">Count(*)</th></tr></thead><tbody class=\"tdhistory5295 resultset-body\"><tr><th class=\"tdhistory5295\" style= \"background: rgba(243, 243, 243, 0.75)\">1</th><td class=\"tdhistory5295\">70</td></tr></tbody></table></div>"
      ]
     },
     "execution_count": 18,
     "metadata": {
      "application/vnd.teradata.resultset": "{\"resultSetID\":\"/home/jovyan/JupyterLabRoot/Teradata/Resultsets/2023.12.21_06.27.07.288_UTC\",\"historyID\":262,\"chunkID\":\"00001\",\"sessionid\":\"\",\"portnum\":\"\",\"dockermode\":\"docker\",\"totalRowCount\":1,\"chunkCount\":0,\"rowLimit\":0,\"columnMetadata\":[{\"columnName\":\"Count(*)\",\"columnTypeName\":\"INTEGER\"}]}"
     },
     "output_type": "execute_result"
    }
   ],
   "source": [
    "SELECT COUNT(*) FROM DEMO_Customer360.Online"
   ]
  },
  {
   "cell_type": "code",
   "execution_count": 19,
   "id": "7853c0b9",
   "metadata": {},
   "outputs": [
    {
     "data": {
      "application/vnd.teradata.resultset": "\"Count(*)\"\n\"67\"",
      "text/html": [
       "<div class = \"td-resultset-table-div\" style = \"max-height: 100%; overflow-y: auto\">\n",
       "      <table class=\"tdhistory887671\"><style>\n",
       "      table.tdhistory887671 { display: block !important; min-height: 105px !important; overflow: auto !important; height: 105px !important; width: 100% !important; border: 1px solid rgb(207, 207, 207) !important; border-collapse: collapse !important; ; color: var(--jp-ui-font-color1) !important; }\n",
       "      th.tdhistory887671 { border: 1px solid rgb(198,198,198) !important; border-collapse: collapse !important; ; padding: 2px 5px !important; ; font-size: 13px !important; ; text-align: center !important; white-space: normal !important; color: var(--jp-ui-font-color1) !important; }\n",
       "      th.tdhistory887671:last-child { text-align: left !important; }\n",
       "      tbody.tdhistory887671 tr:nth-child(even) { background: rgba(243, 243, 243, 0.75) !important; }\n",
       "      tbody.tdhistory887671 tr:nth-child(odd) { background: var(--jp-ui-inverse-font-color1) !important; }\n",
       "      td.tdhistory887671 { border: 1px solid rgb(207, 207, 207) !important; border-collapse: collapse !important; ; padding: 2px 5px !important; ; font-size: 13px !important; ; text-align: left !important;          white-space: nowrap !important; overflow:hidden !important; text-overflow:ellipsis !important;; }\n",
       "    </style><thead><tr style= \"background: rgba(243, 243, 243, 0.75)\"><th class=\"tdhistory887671\"></th><th class=\"tdhistory887671\">Count(*)</th></tr></thead><tbody class=\"tdhistory887671 resultset-body\"><tr><th class=\"tdhistory887671\" style= \"background: rgba(243, 243, 243, 0.75)\">1</th><td class=\"tdhistory887671\">67</td></tr></tbody></table></div>"
      ]
     },
     "execution_count": 19,
     "metadata": {
      "application/vnd.teradata.resultset": "{\"resultSetID\":\"/home/jovyan/JupyterLabRoot/Teradata/Resultsets/2023.12.21_06.27.08.015_UTC\",\"historyID\":263,\"chunkID\":\"00001\",\"sessionid\":\"\",\"portnum\":\"\",\"dockermode\":\"docker\",\"totalRowCount\":1,\"chunkCount\":0,\"rowLimit\":0,\"columnMetadata\":[{\"columnName\":\"Count(*)\",\"columnTypeName\":\"INTEGER\"}]}"
     },
     "output_type": "execute_result"
    }
   ],
   "source": [
    "SELECT COUNT(*) FROM C360_MatchAB_V"
   ]
  },
  {
   "cell_type": "markdown",
   "id": "3c2b44a4",
   "metadata": {},
   "source": [
    "<hr style=\"height:1px;border:none;background-color:#00233C;\">\n",
    "<p style = 'font-size:18px;font-family:Arial;color:#00233C'><b>4.3 - Join tables to create intermediate golden record</b></p>\n",
    "\n",
    "<p style = 'font-size:16px;font-family:Arial;color:#00233C'>Using the CUST_ID and LOYALTY_NUM fields from the above match table, we create an interim golden record from merged retail and e-commerce tables.</p>"
   ]
  },
  {
   "cell_type": "code",
   "execution_count": 20,
   "id": "7b8f7fcf",
   "metadata": {},
   "outputs": [
    {
     "data": {
      "text/plain": [
       "Success: 0 rows affected"
      ]
     },
     "execution_count": 20,
     "metadata": {
      "application/vnd.teradata.resultset": ""
     },
     "output_type": "execute_result"
    }
   ],
   "source": [
    "REPLACE VIEW C360_gr1_V AS (\n",
    "    SELECT e.CUST_ID, mab.LOYALTY_NUM, e.GENDER, \n",
    "           e.FIRSTNAME, e.LASTNAME, \n",
    "           e.ADDRESS, e.STATE, e.CITY, e.ZIP, \n",
    "           mab.EMAIL \n",
    "    FROM DEMO_Customer360.Equipment e LEFT JOIN C360_MatchAB_V mab\n",
    "    ON e.CUST_ID = mab.CUST_ID\n",
    ")"
   ]
  },
  {
   "cell_type": "code",
   "execution_count": 21,
   "id": "b48024a4",
   "metadata": {},
   "outputs": [
    {
     "data": {
      "application/vnd.teradata.resultset": "\"CUST_ID\",\"LOYALTY_NUM\",\"GENDER\",\"FIRSTNAME\",\"LASTNAME\",\"ADDRESS\",\"STATE\",\"CITY\",\"ZIP\",\"EMAIL\"\n\"22142\",\"1584600\",\"F\",\"Beatriz\",\"Gonsalves\",\"1212 Fifth Street\",\"OH\",\"Fairfield\",\"45018\",\"beatriz.gonsalves@teratitan.com\"\n\"20575\",\"1233911\",\"F\",\"Laura\",\"DeSilva\",\"11 Red Mill Road\",\"PA\",\"New Castle\",\"16105\",\"ldesilva@gmail.com\"\n\"20003\",\"\",\"M\",\"Ethan\",\"Martin\",\"7693 Cedar Street\",\"PA\",\"Greensboro\",\"15338\",\"\"\n\"20350\",\"1143641\",\"M\",\"Clement\",\"Vincent\",\"6236 Burnt Mill Road\",\"OH\",\"Edon\",\"43518\",\"clement.vincent@teratitan.com\"\n\"19980\",\"\",\"F\",\"Maria\",\"Silva\",\"8147 Center Mill Road\",\"WV\",\"Kellysville\",\"24732\",\"\"\n\"19921\",\"5729451\",\"M\",\"Thiago\",\"Pena\",\"2591 Seventh Street\",\"PA\",\"Millerstown\",\"17062\",\"tpena@gmail.com\"\n\"19513\",\"\",\"M\",\"Cheung\",\"Yang\",\"7462 Hollywood Boulevard\",\"PA\",\"Richland\",\"17087\",\"\"\n\"19553\",\"5451688\",\"M\",\"Bo\",\"Li\",\"3248 N. Torrey Pines Road\",\"PA\",\"Oak Ridge\",\"16245\",\"bo.li@teratitan.com\"\n\"19614\",\"\",\"M\",\"Clement\",\"Bertrand\",\"5606 Paper Mill Road\",\"NY\",\"Rochester\",\"14660\",\"\"\n\"19372\",\"1118440\",\"F\",\"Fei\",\"Zhou\",\"5957 Hill Street\",\"PA\",\"Harrisburg\",\"17128\",\"fzhou@outlook.com\"",
      "text/html": [
       "<div class = \"td-resultset-table-div\" style = \"max-height: 100%; overflow-y: auto\">\n",
       "      <table class=\"tdhistory121165\"><style>\n",
       "      table.tdhistory121165 { display: block !important; min-height: 294px !important; overflow: auto !important; height: 294px !important; width: 100% !important; border: 1px solid rgb(207, 207, 207) !important; border-collapse: collapse !important; ; color: var(--jp-ui-font-color1) !important; }\n",
       "      th.tdhistory121165 { border: 1px solid rgb(198,198,198) !important; border-collapse: collapse !important; ; padding: 2px 5px !important; ; font-size: 13px !important; ; text-align: center !important; white-space: normal !important; color: var(--jp-ui-font-color1) !important; }\n",
       "      th.tdhistory121165:last-child { text-align: left !important; }\n",
       "      tbody.tdhistory121165 tr:nth-child(even) { background: rgba(243, 243, 243, 0.75) !important; }\n",
       "      tbody.tdhistory121165 tr:nth-child(odd) { background: var(--jp-ui-inverse-font-color1) !important; }\n",
       "      td.tdhistory121165 { border: 1px solid rgb(207, 207, 207) !important; border-collapse: collapse !important; ; padding: 2px 5px !important; ; font-size: 13px !important; ; text-align: left !important;          white-space: nowrap !important; overflow:hidden !important; text-overflow:ellipsis !important;; }\n",
       "    </style><thead><tr style= \"background: rgba(243, 243, 243, 0.75)\"><th class=\"tdhistory121165\"></th><th class=\"tdhistory121165\">CUST_ID</th><th class=\"tdhistory121165\">LOYALTY_NUM</th><th class=\"tdhistory121165\">GENDER</th><th class=\"tdhistory121165\">FIRSTNAME</th><th class=\"tdhistory121165\">LASTNAME</th><th class=\"tdhistory121165\">ADDRESS</th><th class=\"tdhistory121165\">STATE</th><th class=\"tdhistory121165\">CITY</th><th class=\"tdhistory121165\">ZIP</th><th class=\"tdhistory121165\">EMAIL</th></tr></thead><tbody class=\"tdhistory121165 resultset-body\"><tr><th class=\"tdhistory121165\" style= \"background: rgba(243, 243, 243, 0.75)\">1</th><td class=\"tdhistory121165\">22142</td><td class=\"tdhistory121165\">1584600</td><td class=\"tdhistory121165\">F</td><td class=\"tdhistory121165\">Beatriz</td><td class=\"tdhistory121165\">Gonsalves</td><td class=\"tdhistory121165\">1212 Fifth Street</td><td class=\"tdhistory121165\">OH</td><td class=\"tdhistory121165\">Fairfield</td><td class=\"tdhistory121165\">45018</td><td class=\"tdhistory121165\">beatriz.gonsalves@teratitan.com</td></tr><tr><th class=\"tdhistory121165\" style= \"background: rgba(243, 243, 243, 0.75)\">2</th><td class=\"tdhistory121165\">20575</td><td class=\"tdhistory121165\">1233911</td><td class=\"tdhistory121165\">F</td><td class=\"tdhistory121165\">Laura</td><td class=\"tdhistory121165\">DeSilva</td><td class=\"tdhistory121165\">11 Red Mill Road</td><td class=\"tdhistory121165\">PA</td><td class=\"tdhistory121165\">New Castle</td><td class=\"tdhistory121165\">16105</td><td class=\"tdhistory121165\">ldesilva@gmail.com</td></tr><tr><th class=\"tdhistory121165\" style= \"background: rgba(243, 243, 243, 0.75)\">3</th><td class=\"tdhistory121165\">20003</td><td class=\"tdhistory121165\"></td><td class=\"tdhistory121165\">M</td><td class=\"tdhistory121165\">Ethan</td><td class=\"tdhistory121165\">Martin</td><td class=\"tdhistory121165\">7693 Cedar Street</td><td class=\"tdhistory121165\">PA</td><td class=\"tdhistory121165\">Greensboro</td><td class=\"tdhistory121165\">15338</td><td class=\"tdhistory121165\"></td></tr><tr><th class=\"tdhistory121165\" style= \"background: rgba(243, 243, 243, 0.75)\">4</th><td class=\"tdhistory121165\">20350</td><td class=\"tdhistory121165\">1143641</td><td class=\"tdhistory121165\">M</td><td class=\"tdhistory121165\">Clement</td><td class=\"tdhistory121165\">Vincent</td><td class=\"tdhistory121165\">6236 Burnt Mill Road</td><td class=\"tdhistory121165\">OH</td><td class=\"tdhistory121165\">Edon</td><td class=\"tdhistory121165\">43518</td><td class=\"tdhistory121165\">clement.vincent@teratitan.com</td></tr><tr><th class=\"tdhistory121165\" style= \"background: rgba(243, 243, 243, 0.75)\">5</th><td class=\"tdhistory121165\">19980</td><td class=\"tdhistory121165\"></td><td class=\"tdhistory121165\">F</td><td class=\"tdhistory121165\">Maria</td><td class=\"tdhistory121165\">Silva</td><td class=\"tdhistory121165\">8147 Center Mill Road</td><td class=\"tdhistory121165\">WV</td><td class=\"tdhistory121165\">Kellysville</td><td class=\"tdhistory121165\">24732</td><td class=\"tdhistory121165\"></td></tr><tr><th class=\"tdhistory121165\" style= \"background: rgba(243, 243, 243, 0.75)\">6</th><td class=\"tdhistory121165\">19921</td><td class=\"tdhistory121165\">5729451</td><td class=\"tdhistory121165\">M</td><td class=\"tdhistory121165\">Thiago</td><td class=\"tdhistory121165\">Pena</td><td class=\"tdhistory121165\">2591 Seventh Street</td><td class=\"tdhistory121165\">PA</td><td class=\"tdhistory121165\">Millerstown</td><td class=\"tdhistory121165\">17062</td><td class=\"tdhistory121165\">tpena@gmail.com</td></tr><tr><th class=\"tdhistory121165\" style= \"background: rgba(243, 243, 243, 0.75)\">7</th><td class=\"tdhistory121165\">19513</td><td class=\"tdhistory121165\"></td><td class=\"tdhistory121165\">M</td><td class=\"tdhistory121165\">Cheung</td><td class=\"tdhistory121165\">Yang</td><td class=\"tdhistory121165\">7462 Hollywood Boulevard</td><td class=\"tdhistory121165\">PA</td><td class=\"tdhistory121165\">Richland</td><td class=\"tdhistory121165\">17087</td><td class=\"tdhistory121165\"></td></tr><tr><th class=\"tdhistory121165\" style= \"background: rgba(243, 243, 243, 0.75)\">8</th><td class=\"tdhistory121165\">19553</td><td class=\"tdhistory121165\">5451688</td><td class=\"tdhistory121165\">M</td><td class=\"tdhistory121165\">Bo</td><td class=\"tdhistory121165\">Li</td><td class=\"tdhistory121165\">3248 N. Torrey Pines Road</td><td class=\"tdhistory121165\">PA</td><td class=\"tdhistory121165\">Oak Ridge</td><td class=\"tdhistory121165\">16245</td><td class=\"tdhistory121165\">bo.li@teratitan.com</td></tr><tr><th class=\"tdhistory121165\" style= \"background: rgba(243, 243, 243, 0.75)\">9</th><td class=\"tdhistory121165\">19614</td><td class=\"tdhistory121165\"></td><td class=\"tdhistory121165\">M</td><td class=\"tdhistory121165\">Clement</td><td class=\"tdhistory121165\">Bertrand</td><td class=\"tdhistory121165\">5606 Paper Mill Road</td><td class=\"tdhistory121165\">NY</td><td class=\"tdhistory121165\">Rochester</td><td class=\"tdhistory121165\">14660</td><td class=\"tdhistory121165\"></td></tr><tr><th class=\"tdhistory121165\" style= \"background: rgba(243, 243, 243, 0.75)\">10</th><td class=\"tdhistory121165\">19372</td><td class=\"tdhistory121165\">1118440</td><td class=\"tdhistory121165\">F</td><td class=\"tdhistory121165\">Fei</td><td class=\"tdhistory121165\">Zhou</td><td class=\"tdhistory121165\">5957 Hill Street</td><td class=\"tdhistory121165\">PA</td><td class=\"tdhistory121165\">Harrisburg</td><td class=\"tdhistory121165\">17128</td><td class=\"tdhistory121165\">fzhou@outlook.com</td></tr></tbody></table></div>"
      ]
     },
     "execution_count": 21,
     "metadata": {
      "application/vnd.teradata.resultset": "{\"resultSetID\":\"/home/jovyan/JupyterLabRoot/Teradata/Resultsets/2023.12.21_06.27.09.202_UTC\",\"historyID\":265,\"chunkID\":\"00001\",\"sessionid\":\"\",\"portnum\":\"\",\"dockermode\":\"docker\",\"totalRowCount\":10,\"chunkCount\":0,\"rowLimit\":0,\"columnMetadata\":[{\"columnName\":\"CUST_ID\",\"columnTypeName\":\"SMALLINT\"},{\"columnNumber\":1,\"columnName\":\"LOYALTY_NUM\",\"columnTypeName\":\"INTEGER\"},{\"columnNumber\":2,\"columnName\":\"GENDER\",\"columnTypeName\":\"VARCHAR\",\"length\":1,\"scale\":1},{\"columnNumber\":3,\"columnName\":\"FIRSTNAME\",\"columnTypeName\":\"VARCHAR\",\"length\":11,\"scale\":11},{\"columnNumber\":4,\"columnName\":\"LASTNAME\",\"columnTypeName\":\"VARCHAR\",\"length\":9,\"scale\":9},{\"columnNumber\":5,\"columnName\":\"ADDRESS\",\"columnTypeName\":\"VARCHAR\",\"length\":25,\"scale\":25},{\"columnNumber\":6,\"columnName\":\"STATE\",\"columnTypeName\":\"VARCHAR\",\"length\":2,\"scale\":2},{\"columnNumber\":7,\"columnName\":\"CITY\",\"columnTypeName\":\"VARCHAR\",\"length\":16,\"scale\":16},{\"columnNumber\":8,\"columnName\":\"ZIP\",\"columnTypeName\":\"INTEGER\"},{\"columnNumber\":9,\"columnName\":\"EMAIL\",\"columnTypeName\":\"VARCHAR\",\"length\":31,\"scale\":31}]}"
     },
     "output_type": "execute_result"
    }
   ],
   "source": [
    "SELECT Top 10 * FROM C360_gr1_V;"
   ]
  },
  {
   "cell_type": "markdown",
   "id": "ec17fb6b-ee8f-4477-b83f-ff3b2f8f6649",
   "metadata": {},
   "source": [
    "<p style = 'font-size:16px;font-family:Arial;color:#00233C'>We see Jessica's record has been updated with an email address.</p>"
   ]
  },
  {
   "cell_type": "code",
   "execution_count": 22,
   "id": "43e859b1",
   "metadata": {},
   "outputs": [
    {
     "data": {
      "application/vnd.teradata.resultset": "\"CUST_ID\",\"LOYALTY_NUM\",\"GENDER\",\"FIRSTNAME\",\"LASTNAME\",\"ADDRESS\",\"STATE\",\"CITY\",\"ZIP\",\"EMAIL\"\n\"21903\",\"1460445\",\"F\",\"Jessica\",\"Rego\",\"3114 Park Street\",\"OH\",\"Nashport\",\"43830\",\"jrego@yahoo.com\"",
      "text/html": [
       "<div class = \"td-resultset-table-div\" style = \"max-height: 100%; overflow-y: auto\">\n",
       "      <table class=\"tdhistory209743\"><style>\n",
       "      table.tdhistory209743 { display: block !important; min-height: 105px !important; overflow: auto !important; height: 105px !important; width: 100% !important; border: 1px solid rgb(207, 207, 207) !important; border-collapse: collapse !important; ; color: var(--jp-ui-font-color1) !important; }\n",
       "      th.tdhistory209743 { border: 1px solid rgb(198,198,198) !important; border-collapse: collapse !important; ; padding: 2px 5px !important; ; font-size: 13px !important; ; text-align: center !important; white-space: normal !important; color: var(--jp-ui-font-color1) !important; }\n",
       "      th.tdhistory209743:last-child { text-align: left !important; }\n",
       "      tbody.tdhistory209743 tr:nth-child(even) { background: rgba(243, 243, 243, 0.75) !important; }\n",
       "      tbody.tdhistory209743 tr:nth-child(odd) { background: var(--jp-ui-inverse-font-color1) !important; }\n",
       "      td.tdhistory209743 { border: 1px solid rgb(207, 207, 207) !important; border-collapse: collapse !important; ; padding: 2px 5px !important; ; font-size: 13px !important; ; text-align: left !important;          white-space: nowrap !important; overflow:hidden !important; text-overflow:ellipsis !important;; }\n",
       "    </style><thead><tr style= \"background: rgba(243, 243, 243, 0.75)\"><th class=\"tdhistory209743\"></th><th class=\"tdhistory209743\">CUST_ID</th><th class=\"tdhistory209743\">LOYALTY_NUM</th><th class=\"tdhistory209743\">GENDER</th><th class=\"tdhistory209743\">FIRSTNAME</th><th class=\"tdhistory209743\">LASTNAME</th><th class=\"tdhistory209743\">ADDRESS</th><th class=\"tdhistory209743\">STATE</th><th class=\"tdhistory209743\">CITY</th><th class=\"tdhistory209743\">ZIP</th><th class=\"tdhistory209743\">EMAIL</th></tr></thead><tbody class=\"tdhistory209743 resultset-body\"><tr><th class=\"tdhistory209743\" style= \"background: rgba(243, 243, 243, 0.75)\">1</th><td class=\"tdhistory209743\">21903</td><td class=\"tdhistory209743\">1460445</td><td class=\"tdhistory209743\">F</td><td class=\"tdhistory209743\">Jessica</td><td class=\"tdhistory209743\">Rego</td><td class=\"tdhistory209743\">3114 Park Street</td><td class=\"tdhistory209743\">OH</td><td class=\"tdhistory209743\">Nashport</td><td class=\"tdhistory209743\">43830</td><td class=\"tdhistory209743\">jrego@yahoo.com</td></tr></tbody></table></div>"
      ]
     },
     "execution_count": 22,
     "metadata": {
      "application/vnd.teradata.resultset": "{\"resultSetID\":\"/home/jovyan/JupyterLabRoot/Teradata/Resultsets/2023.12.21_06.27.10.799_UTC\",\"historyID\":266,\"chunkID\":\"00001\",\"sessionid\":\"\",\"portnum\":\"\",\"dockermode\":\"docker\",\"totalRowCount\":1,\"chunkCount\":0,\"rowLimit\":0,\"columnMetadata\":[{\"columnName\":\"CUST_ID\",\"columnTypeName\":\"SMALLINT\"},{\"columnNumber\":1,\"columnName\":\"LOYALTY_NUM\",\"columnTypeName\":\"INTEGER\"},{\"columnNumber\":2,\"columnName\":\"GENDER\",\"columnTypeName\":\"VARCHAR\",\"length\":1,\"scale\":1},{\"columnNumber\":3,\"columnName\":\"FIRSTNAME\",\"columnTypeName\":\"VARCHAR\",\"length\":11,\"scale\":11},{\"columnNumber\":4,\"columnName\":\"LASTNAME\",\"columnTypeName\":\"VARCHAR\",\"length\":9,\"scale\":9},{\"columnNumber\":5,\"columnName\":\"ADDRESS\",\"columnTypeName\":\"VARCHAR\",\"length\":25,\"scale\":25},{\"columnNumber\":6,\"columnName\":\"STATE\",\"columnTypeName\":\"VARCHAR\",\"length\":2,\"scale\":2},{\"columnNumber\":7,\"columnName\":\"CITY\",\"columnTypeName\":\"VARCHAR\",\"length\":16,\"scale\":16},{\"columnNumber\":8,\"columnName\":\"ZIP\",\"columnTypeName\":\"INTEGER\"},{\"columnNumber\":9,\"columnName\":\"EMAIL\",\"columnTypeName\":\"VARCHAR\",\"length\":31,\"scale\":31}]}"
     },
     "output_type": "execute_result"
    }
   ],
   "source": [
    "SELECT * FROM C360_gr1_V WHERE FIRSTNAME = 'Jessica' AND LASTNAME = 'Rego'"
   ]
  },
  {
   "cell_type": "markdown",
   "id": "e8ac4d9b",
   "metadata": {},
   "source": [
    "<hr style=\"height:2px;border:none;background-color:#00233C;\">\n",
    "<p style = 'font-size:20px;font-family:Arial;color:#00233C'><b>5. Append Call Center Data</b></p>\n",
    "\n",
    "<p style = 'font-size:16px;font-family:Arial;color:#00233C'>We repeat the process, this time appending the call center data.</p>\n",
    "\n",
    "<p style = 'font-size:16px;font-family:Arial;color:#00233C'>Steps for this section include:\n",
    "    <img src = 'images/step5.png' width = '300' align='right' padding='padding:50px'></p>\n",
    "\n",
    "<ol style = 'font-size:16px;font-family:Arial;color:#00233C'>\n",
    "    <li>Creating a matching table consisting of:\n",
    "        <ul><li>The key string from the intermediate golden record table</li>\n",
    "            <li>The key string from the call center table</li>\n",
    "            <li>The matching score</li>\n",
    "            <li>Any columns from the call center table we want to append</li>\n",
    "        </ul></li>\n",
    "    <li style = 'font-size:16px;font-family:Arial;color:#00233C'>Joining the intermediate golden record table with the matching table to form a new intermediate golden record</li>\n",
    "    </ol>"
   ]
  },
  {
   "cell_type": "markdown",
   "id": "cb4a8c33",
   "metadata": {},
   "source": [
    "<hr style=\"height:1px;border:none;background-color:#00233C;\">\n",
    "<p style = 'font-size:18px;font-family:Arial;color:#00233C'><b>5.1 - Creating a matching table</b></p>\n",
    "\n",
    "<p style = 'font-size:16px;font-family:Arial;color:#00233C'>As in the previous section, we will create a view consisting of rows with a Jaro match greater than 0.9.</p>"
   ]
  },
  {
   "cell_type": "code",
   "execution_count": 23,
   "id": "e0ff74b2",
   "metadata": {},
   "outputs": [
    {
     "data": {
      "text/plain": [
       "Success: 0 rows affected"
      ]
     },
     "execution_count": 23,
     "metadata": {
      "application/vnd.teradata.resultset": ""
     },
     "output_type": "execute_result"
    }
   ],
   "source": [
    "REPLACE VIEW C360_MatchABC_V AS (\n",
    "    SELECT * FROM StringSimilarity (\n",
    "        ON (\n",
    "            SELECT \n",
    "                gr1.CUST_ID, \n",
    "                CAST(REGEXP_REPLACE(OREPLACE((gr1.FIRSTNAME||gr1.LASTNAME||gr1.CITY),' ',''), \n",
    "                                             '[^a-zA-Z\\d:]','',1,0) as VARCHAR(50)) \n",
    "                                             as GR1_KEY,\n",
    "                CAST(REGEXP_REPLACE(OREPLACE((cc.FIRST_NAME||cc.LAST_NAME||cc.CITY),' ',''), \n",
    "                                             '[^a-zA-Z\\d:]','',1,0) as VARCHAR(50)) \n",
    "                                             as CALLCENTER_KEY,\n",
    "                cc.PHONE                               \n",
    "            FROM C360_gr1_V gr1, DEMO_Customer360.CallCenter cc\n",
    "        ) PARTITION BY ANY\n",
    "        USING\n",
    "        ComparisonColumnPairs(\n",
    "            'jaro (GR1_KEY, CALLCENTER_KEY) AS jaro'\n",
    "        )\n",
    "        CaseSensitive('false')\n",
    "        Accumulate('CUST_ID', 'GR1_KEY', 'CALLCENTER_KEY', 'PHONE'/*, 'CALL_CENTER_COST'*/)\n",
    "    ) AS dt \n",
    "WHERE jaro > .90)"
   ]
  },
  {
   "cell_type": "code",
   "execution_count": 24,
   "id": "2b44dcd5",
   "metadata": {},
   "outputs": [
    {
     "data": {
      "application/vnd.teradata.resultset": "\"CUST_ID\",\"GR1_KEY\",\"CALLCENTER_KEY\",\"PHONE\",\"jaro\"\n\"21964\",\"StevenSugarHamilton\",\"StevenSugarHamilton\",\"(513) 273-2352\",\"1\"\n\"19939\",\"JuanTorresBretz\",\"JuanTorresBretz\",\"(775) 202-5303\",\"1\"\n\"21604\",\"SofieLarsenJavaCenter\",\"SofieLarsenJavaCenter\",\"(772) 503-2101\",\"1\"\n\"20575\",\"LauraDeSilvaNewCastle\",\"LauraDeSilvaNewCastle\",\"(570) 387-2031\",\"1\"\n\"21832\",\"JiaojieGaoLakeAriel\",\"JiaojieGaoLakeAriel\",\"(504) 787-0477\",\"1\"\n\"19499\",\"MiguelSousaLinden\",\"MiguelSousaLinden\",\"(304) 231-8631\",\"1\"\n\"19553\",\"BoLiOakRidge\",\"BoLiOakRidge\",\"(617) 284-2673\",\"1\"\n\"19688\",\"LuizaTeixeiraKerr\",\"LuizaTeixeiraKerr\",\"(253) 470-1804\",\"1\"\n\"22142\",\"BeatrizGonsalvesFairfield\",\"BeatrizGonsalvesFairfield\",\"(510) 563-2532\",\"1\"\n\"19579\",\"PedroGonsalvesGreenville\",\"PedroGonsalvesGreenville\",\"(434) 432-6306\",\"1\"\n\"22143\",\"LucasMoreauWinchester\",\"LucasMoreauWinchester\",\"(941) 929-3922\",\"1\"\n\"19397\",\"BeatrizMartinsAshley\",\"BeatrizMartinsAshley\",\"(216) 364-9325\",\"1\"\n\"20521\",\"BrunaGonsalvesHighlandFalls\",\"BrunaGonsalvesHighlandFalls\",\"(509) 567-1484\",\"1\"\n\"19463\",\"AaryaPatelWaiteville\",\"AaryaPatelWaiteville\",\"(304) 864-1382\",\"1\"\n\"21647\",\"HarishBanerjeeCleveland\",\"HarishBanerjeeClevland\",\"(216) 258-3212\",\"0.9855072463768115\"\n\"19344\",\"CharlotteKingMarchand\",\"CharlotteKinMarchand\",\"(760) 229-0754\",\"0.9841269841269842\"\n\"21903\",\"JessicaRegoNashport\",\"JessicaRegoNashporte\",\"(530) 696-4308\",\"0.9833333333333334\"\n\"21705\",\"MariaRochaStockton\",\"MarianRochaStockton\",\"(917) 904-2312\",\"0.9824561403508771\"\n\"21707\",\"JuanGomezBloomingburg\",\"JuanGomesBloomingburg\",\"(916) 768-6879\",\"0.9682539682539683\"\n\"19457\",\"RafaelBenitezBrooklyn\",\"RafaelBenitesBrooklyn\",\"(785) 435-7536\",\"0.9682539682539683\"\n\"19994\",\"EthanTaylorCanton\",\"EthanTaylorCantan\",\"(302) 953-9585\",\"0.9607843137254902\"\n\"20387\",\"TomasMedinaSpencer\",\"TomasMedinnaSpencer\",\"(813) 611-8265\",\"0.94541910331384\"\n\"20117\",\"MayaCampbellParkersburg\",\"MajaCampbellParkersberg\",\"(304) 903-1275\",\"0.9420289855072465\"\n\"20158\",\"NishiMahawarKane\",\"NishiiMahawarCane\",\"(619) 912-4407\",\"0.9399509803921569\"\n\"19921\",\"ThiagoPenaMillerstown\",\"ThigoPenaMillerstown\",\"(702) 821-1527\",\"0.934126984126984\"\n\"22099\",\"AmySmithBrooklyn\",\"AmeeSmithBrooklynn\",\"(253) 403-8318\",\"0.9236111111111112\"\n\"19310\",\"IsabellaMayerFranklinSprings\",\"IsabelaMayerFranklinSprings\",\"(360) 692-8811\",\"0.9140211640211641\"",
      "text/html": [
       "<div class = \"td-resultset-table-div\" style = \"max-height: 100%; overflow-y: auto\">\n",
       "      <table class=\"tdhistory482953\"><style>\n",
       "      table.tdhistory482953 { display: block !important; min-height: 588px !important; overflow: auto !important; height: 588px !important; width: 100% !important; border: 1px solid rgb(207, 207, 207) !important; border-collapse: collapse !important; ; color: var(--jp-ui-font-color1) !important; }\n",
       "      th.tdhistory482953 { border: 1px solid rgb(198,198,198) !important; border-collapse: collapse !important; ; padding: 2px 5px !important; ; font-size: 13px !important; ; text-align: center !important; white-space: normal !important; color: var(--jp-ui-font-color1) !important; }\n",
       "      th.tdhistory482953:last-child { text-align: left !important; }\n",
       "      tbody.tdhistory482953 tr:nth-child(even) { background: rgba(243, 243, 243, 0.75) !important; }\n",
       "      tbody.tdhistory482953 tr:nth-child(odd) { background: var(--jp-ui-inverse-font-color1) !important; }\n",
       "      td.tdhistory482953 { border: 1px solid rgb(207, 207, 207) !important; border-collapse: collapse !important; ; padding: 2px 5px !important; ; font-size: 13px !important; ; text-align: left !important;          white-space: nowrap !important; overflow:hidden !important; text-overflow:ellipsis !important;; }\n",
       "    </style><thead><tr style= \"background: rgba(243, 243, 243, 0.75)\"><th class=\"tdhistory482953\"></th><th class=\"tdhistory482953\">CUST_ID</th><th class=\"tdhistory482953\">GR1_KEY</th><th class=\"tdhistory482953\">CALLCENTER_KEY</th><th class=\"tdhistory482953\">PHONE</th><th class=\"tdhistory482953\">jaro</th></tr></thead><tbody class=\"tdhistory482953 resultset-body\"><tr><th class=\"tdhistory482953\" style= \"background: rgba(243, 243, 243, 0.75)\">1</th><td class=\"tdhistory482953\">21964</td><td class=\"tdhistory482953\">StevenSugarHamilton</td><td class=\"tdhistory482953\">StevenSugarHamilton</td><td class=\"tdhistory482953\">(513) 273-2352</td><td class=\"tdhistory482953\">1</td></tr><tr><th class=\"tdhistory482953\" style= \"background: rgba(243, 243, 243, 0.75)\">2</th><td class=\"tdhistory482953\">19939</td><td class=\"tdhistory482953\">JuanTorresBretz</td><td class=\"tdhistory482953\">JuanTorresBretz</td><td class=\"tdhistory482953\">(775) 202-5303</td><td class=\"tdhistory482953\">1</td></tr><tr><th class=\"tdhistory482953\" style= \"background: rgba(243, 243, 243, 0.75)\">3</th><td class=\"tdhistory482953\">21604</td><td class=\"tdhistory482953\">SofieLarsenJavaCenter</td><td class=\"tdhistory482953\">SofieLarsenJavaCenter</td><td class=\"tdhistory482953\">(772) 503-2101</td><td class=\"tdhistory482953\">1</td></tr><tr><th class=\"tdhistory482953\" style= \"background: rgba(243, 243, 243, 0.75)\">4</th><td class=\"tdhistory482953\">20575</td><td class=\"tdhistory482953\">LauraDeSilvaNewCastle</td><td class=\"tdhistory482953\">LauraDeSilvaNewCastle</td><td class=\"tdhistory482953\">(570) 387-2031</td><td class=\"tdhistory482953\">1</td></tr><tr><th class=\"tdhistory482953\" style= \"background: rgba(243, 243, 243, 0.75)\">5</th><td class=\"tdhistory482953\">21832</td><td class=\"tdhistory482953\">JiaojieGaoLakeAriel</td><td class=\"tdhistory482953\">JiaojieGaoLakeAriel</td><td class=\"tdhistory482953\">(504) 787-0477</td><td class=\"tdhistory482953\">1</td></tr><tr><th class=\"tdhistory482953\" style= \"background: rgba(243, 243, 243, 0.75)\">6</th><td class=\"tdhistory482953\">19499</td><td class=\"tdhistory482953\">MiguelSousaLinden</td><td class=\"tdhistory482953\">MiguelSousaLinden</td><td class=\"tdhistory482953\">(304) 231-8631</td><td class=\"tdhistory482953\">1</td></tr><tr><th class=\"tdhistory482953\" style= \"background: rgba(243, 243, 243, 0.75)\">7</th><td class=\"tdhistory482953\">19553</td><td class=\"tdhistory482953\">BoLiOakRidge</td><td class=\"tdhistory482953\">BoLiOakRidge</td><td class=\"tdhistory482953\">(617) 284-2673</td><td class=\"tdhistory482953\">1</td></tr><tr><th class=\"tdhistory482953\" style= \"background: rgba(243, 243, 243, 0.75)\">8</th><td class=\"tdhistory482953\">19688</td><td class=\"tdhistory482953\">LuizaTeixeiraKerr</td><td class=\"tdhistory482953\">LuizaTeixeiraKerr</td><td class=\"tdhistory482953\">(253) 470-1804</td><td class=\"tdhistory482953\">1</td></tr><tr><th class=\"tdhistory482953\" style= \"background: rgba(243, 243, 243, 0.75)\">9</th><td class=\"tdhistory482953\">22142</td><td class=\"tdhistory482953\">BeatrizGonsalvesFairfield</td><td class=\"tdhistory482953\">BeatrizGonsalvesFairfield</td><td class=\"tdhistory482953\">(510) 563-2532</td><td class=\"tdhistory482953\">1</td></tr><tr><th class=\"tdhistory482953\" style= \"background: rgba(243, 243, 243, 0.75)\">10</th><td class=\"tdhistory482953\">19579</td><td class=\"tdhistory482953\">PedroGonsalvesGreenville</td><td class=\"tdhistory482953\">PedroGonsalvesGreenville</td><td class=\"tdhistory482953\">(434) 432-6306</td><td class=\"tdhistory482953\">1</td></tr><tr><th class=\"tdhistory482953\" style= \"background: rgba(243, 243, 243, 0.75)\">11</th><td class=\"tdhistory482953\">22143</td><td class=\"tdhistory482953\">LucasMoreauWinchester</td><td class=\"tdhistory482953\">LucasMoreauWinchester</td><td class=\"tdhistory482953\">(941) 929-3922</td><td class=\"tdhistory482953\">1</td></tr><tr><th class=\"tdhistory482953\" style= \"background: rgba(243, 243, 243, 0.75)\">12</th><td class=\"tdhistory482953\">19397</td><td class=\"tdhistory482953\">BeatrizMartinsAshley</td><td class=\"tdhistory482953\">BeatrizMartinsAshley</td><td class=\"tdhistory482953\">(216) 364-9325</td><td class=\"tdhistory482953\">1</td></tr><tr><th class=\"tdhistory482953\" style= \"background: rgba(243, 243, 243, 0.75)\">13</th><td class=\"tdhistory482953\">20521</td><td class=\"tdhistory482953\">BrunaGonsalvesHighlandFalls</td><td class=\"tdhistory482953\">BrunaGonsalvesHighlandFalls</td><td class=\"tdhistory482953\">(509) 567-1484</td><td class=\"tdhistory482953\">1</td></tr><tr><th class=\"tdhistory482953\" style= \"background: rgba(243, 243, 243, 0.75)\">14</th><td class=\"tdhistory482953\">19463</td><td class=\"tdhistory482953\">AaryaPatelWaiteville</td><td class=\"tdhistory482953\">AaryaPatelWaiteville</td><td class=\"tdhistory482953\">(304) 864-1382</td><td class=\"tdhistory482953\">1</td></tr><tr><th class=\"tdhistory482953\" style= \"background: rgba(243, 243, 243, 0.75)\">15</th><td class=\"tdhistory482953\">21647</td><td class=\"tdhistory482953\">HarishBanerjeeCleveland</td><td class=\"tdhistory482953\">HarishBanerjeeClevland</td><td class=\"tdhistory482953\">(216) 258-3212</td><td class=\"tdhistory482953\">0.9855072463768115</td></tr><tr><th class=\"tdhistory482953\" style= \"background: rgba(243, 243, 243, 0.75)\">16</th><td class=\"tdhistory482953\">19344</td><td class=\"tdhistory482953\">CharlotteKingMarchand</td><td class=\"tdhistory482953\">CharlotteKinMarchand</td><td class=\"tdhistory482953\">(760) 229-0754</td><td class=\"tdhistory482953\">0.9841269841269842</td></tr><tr><th class=\"tdhistory482953\" style= \"background: rgba(243, 243, 243, 0.75)\">17</th><td class=\"tdhistory482953\">21903</td><td class=\"tdhistory482953\">JessicaRegoNashport</td><td class=\"tdhistory482953\">JessicaRegoNashporte</td><td class=\"tdhistory482953\">(530) 696-4308</td><td class=\"tdhistory482953\">0.9833333333333334</td></tr><tr><th class=\"tdhistory482953\" style= \"background: rgba(243, 243, 243, 0.75)\">18</th><td class=\"tdhistory482953\">21705</td><td class=\"tdhistory482953\">MariaRochaStockton</td><td class=\"tdhistory482953\">MarianRochaStockton</td><td class=\"tdhistory482953\">(917) 904-2312</td><td class=\"tdhistory482953\">0.9824561403508771</td></tr><tr><th class=\"tdhistory482953\" style= \"background: rgba(243, 243, 243, 0.75)\">19</th><td class=\"tdhistory482953\">21707</td><td class=\"tdhistory482953\">JuanGomezBloomingburg</td><td class=\"tdhistory482953\">JuanGomesBloomingburg</td><td class=\"tdhistory482953\">(916) 768-6879</td><td class=\"tdhistory482953\">0.9682539682539683</td></tr><tr><th class=\"tdhistory482953\" style= \"background: rgba(243, 243, 243, 0.75)\">20</th><td class=\"tdhistory482953\">19457</td><td class=\"tdhistory482953\">RafaelBenitezBrooklyn</td><td class=\"tdhistory482953\">RafaelBenitesBrooklyn</td><td class=\"tdhistory482953\">(785) 435-7536</td><td class=\"tdhistory482953\">0.9682539682539683</td></tr><tr><th class=\"tdhistory482953\" style= \"background: rgba(243, 243, 243, 0.75)\">21</th><td class=\"tdhistory482953\">19994</td><td class=\"tdhistory482953\">EthanTaylorCanton</td><td class=\"tdhistory482953\">EthanTaylorCantan</td><td class=\"tdhistory482953\">(302) 953-9585</td><td class=\"tdhistory482953\">0.9607843137254902</td></tr><tr><th class=\"tdhistory482953\" style= \"background: rgba(243, 243, 243, 0.75)\">22</th><td class=\"tdhistory482953\">20387</td><td class=\"tdhistory482953\">TomasMedinaSpencer</td><td class=\"tdhistory482953\">TomasMedinnaSpencer</td><td class=\"tdhistory482953\">(813) 611-8265</td><td class=\"tdhistory482953\">0.94541910331384</td></tr><tr><th class=\"tdhistory482953\" style= \"background: rgba(243, 243, 243, 0.75)\">23</th><td class=\"tdhistory482953\">20117</td><td class=\"tdhistory482953\">MayaCampbellParkersburg</td><td class=\"tdhistory482953\">MajaCampbellParkersberg</td><td class=\"tdhistory482953\">(304) 903-1275</td><td class=\"tdhistory482953\">0.9420289855072465</td></tr><tr><th class=\"tdhistory482953\" style= \"background: rgba(243, 243, 243, 0.75)\">24</th><td class=\"tdhistory482953\">20158</td><td class=\"tdhistory482953\">NishiMahawarKane</td><td class=\"tdhistory482953\">NishiiMahawarCane</td><td class=\"tdhistory482953\">(619) 912-4407</td><td class=\"tdhistory482953\">0.9399509803921569</td></tr><tr><th class=\"tdhistory482953\" style= \"background: rgba(243, 243, 243, 0.75)\">25</th><td class=\"tdhistory482953\">19921</td><td class=\"tdhistory482953\">ThiagoPenaMillerstown</td><td class=\"tdhistory482953\">ThigoPenaMillerstown</td><td class=\"tdhistory482953\">(702) 821-1527</td><td class=\"tdhistory482953\">0.934126984126984</td></tr><tr><th class=\"tdhistory482953\" style= \"background: rgba(243, 243, 243, 0.75)\">26</th><td class=\"tdhistory482953\">22099</td><td class=\"tdhistory482953\">AmySmithBrooklyn</td><td class=\"tdhistory482953\">AmeeSmithBrooklynn</td><td class=\"tdhistory482953\">(253) 403-8318</td><td class=\"tdhistory482953\">0.9236111111111112</td></tr><tr><th class=\"tdhistory482953\" style= \"background: rgba(243, 243, 243, 0.75)\">27</th><td class=\"tdhistory482953\">19310</td><td class=\"tdhistory482953\">IsabellaMayerFranklinSprings</td><td class=\"tdhistory482953\">IsabelaMayerFranklinSprings</td><td class=\"tdhistory482953\">(360) 692-8811</td><td class=\"tdhistory482953\">0.9140211640211641</td></tr></tbody></table></div>"
      ]
     },
     "execution_count": 24,
     "metadata": {
      "application/vnd.teradata.resultset": "{\"resultSetID\":\"/home/jovyan/JupyterLabRoot/Teradata/Resultsets/2023.12.21_06.27.13.561_UTC\",\"historyID\":268,\"chunkID\":\"00001\",\"sessionid\":\"\",\"portnum\":\"\",\"dockermode\":\"docker\",\"totalRowCount\":27,\"chunkCount\":0,\"rowLimit\":0,\"columnMetadata\":[{\"columnName\":\"CUST_ID\",\"columnTypeName\":\"SMALLINT\"},{\"columnNumber\":1,\"columnName\":\"GR1_KEY\",\"columnTypeName\":\"VARCHAR\",\"length\":50,\"scale\":50},{\"columnNumber\":2,\"columnName\":\"CALLCENTER_KEY\",\"columnTypeName\":\"VARCHAR\",\"length\":50,\"scale\":50},{\"columnNumber\":3,\"columnName\":\"PHONE\",\"columnTypeName\":\"VARCHAR\",\"length\":14,\"scale\":14},{\"columnNumber\":4,\"columnName\":\"jaro\",\"columnTypeName\":\"FLOAT\"}]}"
     },
     "output_type": "execute_result"
    }
   ],
   "source": [
    "SELECT * FROM C360_MatchABC_V ORDER BY jaro DESC"
   ]
  },
  {
   "cell_type": "markdown",
   "id": "a62d14d7",
   "metadata": {},
   "source": [
    "<p style = 'font-size:16px;font-family:Arial;color:#00233C'>We find that out of the 30 in the call center table, 27 were matched.</p>"
   ]
  },
  {
   "cell_type": "code",
   "execution_count": 25,
   "id": "af3d06cd",
   "metadata": {},
   "outputs": [
    {
     "data": {
      "application/vnd.teradata.resultset": "\"Count(*)\"\n\"30\"",
      "text/html": [
       "<div class = \"td-resultset-table-div\" style = \"max-height: 100%; overflow-y: auto\">\n",
       "      <table class=\"tdhistory402305\"><style>\n",
       "      table.tdhistory402305 { display: block !important; min-height: 105px !important; overflow: auto !important; height: 105px !important; width: 100% !important; border: 1px solid rgb(207, 207, 207) !important; border-collapse: collapse !important; ; color: var(--jp-ui-font-color1) !important; }\n",
       "      th.tdhistory402305 { border: 1px solid rgb(198,198,198) !important; border-collapse: collapse !important; ; padding: 2px 5px !important; ; font-size: 13px !important; ; text-align: center !important; white-space: normal !important; color: var(--jp-ui-font-color1) !important; }\n",
       "      th.tdhistory402305:last-child { text-align: left !important; }\n",
       "      tbody.tdhistory402305 tr:nth-child(even) { background: rgba(243, 243, 243, 0.75) !important; }\n",
       "      tbody.tdhistory402305 tr:nth-child(odd) { background: var(--jp-ui-inverse-font-color1) !important; }\n",
       "      td.tdhistory402305 { border: 1px solid rgb(207, 207, 207) !important; border-collapse: collapse !important; ; padding: 2px 5px !important; ; font-size: 13px !important; ; text-align: left !important;          white-space: nowrap !important; overflow:hidden !important; text-overflow:ellipsis !important;; }\n",
       "    </style><thead><tr style= \"background: rgba(243, 243, 243, 0.75)\"><th class=\"tdhistory402305\"></th><th class=\"tdhistory402305\">Count(*)</th></tr></thead><tbody class=\"tdhistory402305 resultset-body\"><tr><th class=\"tdhistory402305\" style= \"background: rgba(243, 243, 243, 0.75)\">1</th><td class=\"tdhistory402305\">30</td></tr></tbody></table></div>"
      ]
     },
     "execution_count": 25,
     "metadata": {
      "application/vnd.teradata.resultset": "{\"resultSetID\":\"/home/jovyan/JupyterLabRoot/Teradata/Resultsets/2023.12.21_06.27.13.690_UTC\",\"historyID\":269,\"chunkID\":\"00001\",\"sessionid\":\"\",\"portnum\":\"\",\"dockermode\":\"docker\",\"totalRowCount\":1,\"chunkCount\":0,\"rowLimit\":0,\"columnMetadata\":[{\"columnName\":\"Count(*)\",\"columnTypeName\":\"INTEGER\"}]}"
     },
     "output_type": "execute_result"
    }
   ],
   "source": [
    "SELECT COUNT(*) FROM DEMO_Customer360.CALLCENTER"
   ]
  },
  {
   "cell_type": "code",
   "execution_count": 26,
   "id": "40306d53",
   "metadata": {},
   "outputs": [
    {
     "data": {
      "application/vnd.teradata.resultset": "\"Count(*)\"\n\"27\"",
      "text/html": [
       "<div class = \"td-resultset-table-div\" style = \"max-height: 100%; overflow-y: auto\">\n",
       "      <table class=\"tdhistory109953\"><style>\n",
       "      table.tdhistory109953 { display: block !important; min-height: 105px !important; overflow: auto !important; height: 105px !important; width: 100% !important; border: 1px solid rgb(207, 207, 207) !important; border-collapse: collapse !important; ; color: var(--jp-ui-font-color1) !important; }\n",
       "      th.tdhistory109953 { border: 1px solid rgb(198,198,198) !important; border-collapse: collapse !important; ; padding: 2px 5px !important; ; font-size: 13px !important; ; text-align: center !important; white-space: normal !important; color: var(--jp-ui-font-color1) !important; }\n",
       "      th.tdhistory109953:last-child { text-align: left !important; }\n",
       "      tbody.tdhistory109953 tr:nth-child(even) { background: rgba(243, 243, 243, 0.75) !important; }\n",
       "      tbody.tdhistory109953 tr:nth-child(odd) { background: var(--jp-ui-inverse-font-color1) !important; }\n",
       "      td.tdhistory109953 { border: 1px solid rgb(207, 207, 207) !important; border-collapse: collapse !important; ; padding: 2px 5px !important; ; font-size: 13px !important; ; text-align: left !important;          white-space: nowrap !important; overflow:hidden !important; text-overflow:ellipsis !important;; }\n",
       "    </style><thead><tr style= \"background: rgba(243, 243, 243, 0.75)\"><th class=\"tdhistory109953\"></th><th class=\"tdhistory109953\">Count(*)</th></tr></thead><tbody class=\"tdhistory109953 resultset-body\"><tr><th class=\"tdhistory109953\" style= \"background: rgba(243, 243, 243, 0.75)\">1</th><td class=\"tdhistory109953\">27</td></tr></tbody></table></div>"
      ]
     },
     "execution_count": 26,
     "metadata": {
      "application/vnd.teradata.resultset": "{\"resultSetID\":\"/home/jovyan/JupyterLabRoot/Teradata/Resultsets/2023.12.21_06.27.15.216_UTC\",\"historyID\":270,\"chunkID\":\"00001\",\"sessionid\":\"\",\"portnum\":\"\",\"dockermode\":\"docker\",\"totalRowCount\":1,\"chunkCount\":0,\"rowLimit\":0,\"columnMetadata\":[{\"columnName\":\"Count(*)\",\"columnTypeName\":\"INTEGER\"}]}"
     },
     "output_type": "execute_result"
    }
   ],
   "source": [
    "SELECT COUNT(*) FROM C360_MatchABC_V"
   ]
  },
  {
   "cell_type": "markdown",
   "id": "f1e41204-81c7-4031-bc66-3dfba85c535e",
   "metadata": {},
   "source": [
    "<p style = 'font-size:16px;font-family:Arial;color:#00233C'>We see that Jessica Nashport was matched between the two lists even though her last name was misspelled in the Call Center list. The matching score was 0.983.</p>"
   ]
  },
  {
   "cell_type": "code",
   "execution_count": 27,
   "id": "1decd9ad",
   "metadata": {},
   "outputs": [
    {
     "data": {
      "application/vnd.teradata.resultset": "\"CUST_ID\",\"GR1_KEY\",\"CALLCENTER_KEY\",\"PHONE\",\"jaro\"\n\"21903\",\"JessicaRegoNashport\",\"JessicaRegoNashporte\",\"(530) 696-4308\",\"0.9833333333333334\"",
      "text/html": [
       "<div class = \"td-resultset-table-div\" style = \"max-height: 100%; overflow-y: auto\">\n",
       "      <table class=\"tdhistory812718\"><style>\n",
       "      table.tdhistory812718 { display: block !important; min-height: 105px !important; overflow: auto !important; height: 105px !important; width: 100% !important; border: 1px solid rgb(207, 207, 207) !important; border-collapse: collapse !important; ; color: var(--jp-ui-font-color1) !important; }\n",
       "      th.tdhistory812718 { border: 1px solid rgb(198,198,198) !important; border-collapse: collapse !important; ; padding: 2px 5px !important; ; font-size: 13px !important; ; text-align: center !important; white-space: normal !important; color: var(--jp-ui-font-color1) !important; }\n",
       "      th.tdhistory812718:last-child { text-align: left !important; }\n",
       "      tbody.tdhistory812718 tr:nth-child(even) { background: rgba(243, 243, 243, 0.75) !important; }\n",
       "      tbody.tdhistory812718 tr:nth-child(odd) { background: var(--jp-ui-inverse-font-color1) !important; }\n",
       "      td.tdhistory812718 { border: 1px solid rgb(207, 207, 207) !important; border-collapse: collapse !important; ; padding: 2px 5px !important; ; font-size: 13px !important; ; text-align: left !important;          white-space: nowrap !important; overflow:hidden !important; text-overflow:ellipsis !important;; }\n",
       "    </style><thead><tr style= \"background: rgba(243, 243, 243, 0.75)\"><th class=\"tdhistory812718\"></th><th class=\"tdhistory812718\">CUST_ID</th><th class=\"tdhistory812718\">GR1_KEY</th><th class=\"tdhistory812718\">CALLCENTER_KEY</th><th class=\"tdhistory812718\">PHONE</th><th class=\"tdhistory812718\">jaro</th></tr></thead><tbody class=\"tdhistory812718 resultset-body\"><tr><th class=\"tdhistory812718\" style= \"background: rgba(243, 243, 243, 0.75)\">1</th><td class=\"tdhistory812718\">21903</td><td class=\"tdhistory812718\">JessicaRegoNashport</td><td class=\"tdhistory812718\">JessicaRegoNashporte</td><td class=\"tdhistory812718\">(530) 696-4308</td><td class=\"tdhistory812718\">0.9833333333333334</td></tr></tbody></table></div>"
      ]
     },
     "execution_count": 27,
     "metadata": {
      "application/vnd.teradata.resultset": "{\"resultSetID\":\"/home/jovyan/JupyterLabRoot/Teradata/Resultsets/2023.12.21_06.27.16.832_UTC\",\"historyID\":271,\"chunkID\":\"00001\",\"sessionid\":\"\",\"portnum\":\"\",\"dockermode\":\"docker\",\"totalRowCount\":1,\"chunkCount\":0,\"rowLimit\":0,\"columnMetadata\":[{\"columnName\":\"CUST_ID\",\"columnTypeName\":\"SMALLINT\"},{\"columnNumber\":1,\"columnName\":\"GR1_KEY\",\"columnTypeName\":\"VARCHAR\",\"length\":50,\"scale\":50},{\"columnNumber\":2,\"columnName\":\"CALLCENTER_KEY\",\"columnTypeName\":\"VARCHAR\",\"length\":50,\"scale\":50},{\"columnNumber\":3,\"columnName\":\"PHONE\",\"columnTypeName\":\"VARCHAR\",\"length\":14,\"scale\":14},{\"columnNumber\":4,\"columnName\":\"jaro\",\"columnTypeName\":\"FLOAT\"}]}"
     },
     "output_type": "execute_result"
    }
   ],
   "source": [
    "SELECT * FROM C360_MatchABC_V WHERE GR1_KEY LIKE '%JessicaRego%'"
   ]
  },
  {
   "cell_type": "markdown",
   "id": "55f0dea9",
   "metadata": {},
   "source": [
    "<hr style=\"height:1px;border:none;background-color:#00233C;\">\n",
    "<p style = 'font-size:18px;font-family:Arial;color:#00233C'><b>5.2 - Join tables to create intermediate golden record</b></p>\n",
    "\n",
    "<p style = 'font-size:16px;font-family:Arial;color:#00233C'>Using the CUST_ID, we create another interim golden record including data from the call center table.</p>"
   ]
  },
  {
   "cell_type": "code",
   "execution_count": 28,
   "id": "93fdf40e",
   "metadata": {},
   "outputs": [
    {
     "data": {
      "text/plain": [
       "Success: 0 rows affected"
      ]
     },
     "execution_count": 28,
     "metadata": {
      "application/vnd.teradata.resultset": ""
     },
     "output_type": "execute_result"
    }
   ],
   "source": [
    "REPLACE VIEW C360_GR2_V AS (\n",
    "    SELECT gr.CUST_ID, gr.LOYALTY_NUM, gr.GENDER, \n",
    "           gr.FIRSTNAME, gr.LASTNAME, \n",
    "           gr.ADDRESS, gr.STATE, gr.CITY, gr.ZIP, \n",
    "           --gr.EQUIP_LTV, gr.ONLINE_LTV, \n",
    "           --COALESCE(mabc.CALL_CENTER_COST, 0) as CALL_CENTER_COST, \n",
    "            gr.EMAIL,\n",
    "            mabc.PHONE\n",
    "    FROM C360_GR1_V gr LEFT JOIN C360_MatchABC_V mabc\n",
    "    ON gr.CUST_ID = mabc.CUST_ID\n",
    ")"
   ]
  },
  {
   "cell_type": "code",
   "execution_count": 29,
   "id": "6d2e914f",
   "metadata": {},
   "outputs": [
    {
     "data": {
      "application/vnd.teradata.resultset": "\"CUST_ID\",\"LOYALTY_NUM\",\"GENDER\",\"FIRSTNAME\",\"LASTNAME\",\"ADDRESS\",\"STATE\",\"CITY\",\"ZIP\",\"EMAIL\",\"PHONE\"\n\"22142\",\"1584600\",\"F\",\"Beatriz\",\"Gonsalves\",\"1212 Fifth Street\",\"OH\",\"Fairfield\",\"45018\",\"beatriz.gonsalves@teratitan.com\",\"(510) 563-2532\"\n\"19513\",\"\",\"M\",\"Cheung\",\"Yang\",\"7462 Hollywood Boulevard\",\"PA\",\"Richland\",\"17087\",\"\",\"\"\n\"19553\",\"5451688\",\"M\",\"Bo\",\"Li\",\"3248 N. Torrey Pines Road\",\"PA\",\"Oak Ridge\",\"16245\",\"bo.li@teratitan.com\",\"(617) 284-2673\"\n\"19372\",\"1118440\",\"F\",\"Fei\",\"Zhou\",\"5957 Hill Street\",\"PA\",\"Harrisburg\",\"17128\",\"fzhou@outlook.com\",\"\"\n\"20003\",\"\",\"M\",\"Ethan\",\"Martin\",\"7693 Cedar Street\",\"PA\",\"Greensboro\",\"15338\",\"\",\"\"\n\"20350\",\"1143641\",\"M\",\"Clement\",\"Vincent\",\"6236 Burnt Mill Road\",\"OH\",\"Edon\",\"43518\",\"clement.vincent@teratitan.com\",\"\"\n\"19614\",\"\",\"M\",\"Clement\",\"Bertrand\",\"5606 Paper Mill Road\",\"NY\",\"Rochester\",\"14660\",\"\",\"\"\n\"19980\",\"\",\"F\",\"Maria\",\"Silva\",\"8147 Center Mill Road\",\"WV\",\"Kellysville\",\"24732\",\"\",\"\"\n\"20575\",\"1233911\",\"F\",\"Laura\",\"DeSilva\",\"11 Red Mill Road\",\"PA\",\"New Castle\",\"16105\",\"ldesilva@gmail.com\",\"(570) 387-2031\"\n\"19921\",\"5729451\",\"M\",\"Thiago\",\"Pena\",\"2591 Seventh Street\",\"PA\",\"Millerstown\",\"17062\",\"tpena@gmail.com\",\"(702) 821-1527\"",
      "text/html": [
       "<div class = \"td-resultset-table-div\" style = \"max-height: 100%; overflow-y: auto\">\n",
       "      <table class=\"tdhistory879798\"><style>\n",
       "      table.tdhistory879798 { display: block !important; min-height: 294px !important; overflow: auto !important; height: 294px !important; width: 100% !important; border: 1px solid rgb(207, 207, 207) !important; border-collapse: collapse !important; ; color: var(--jp-ui-font-color1) !important; }\n",
       "      th.tdhistory879798 { border: 1px solid rgb(198,198,198) !important; border-collapse: collapse !important; ; padding: 2px 5px !important; ; font-size: 13px !important; ; text-align: center !important; white-space: normal !important; color: var(--jp-ui-font-color1) !important; }\n",
       "      th.tdhistory879798:last-child { text-align: left !important; }\n",
       "      tbody.tdhistory879798 tr:nth-child(even) { background: rgba(243, 243, 243, 0.75) !important; }\n",
       "      tbody.tdhistory879798 tr:nth-child(odd) { background: var(--jp-ui-inverse-font-color1) !important; }\n",
       "      td.tdhistory879798 { border: 1px solid rgb(207, 207, 207) !important; border-collapse: collapse !important; ; padding: 2px 5px !important; ; font-size: 13px !important; ; text-align: left !important;          white-space: nowrap !important; overflow:hidden !important; text-overflow:ellipsis !important;; }\n",
       "    </style><thead><tr style= \"background: rgba(243, 243, 243, 0.75)\"><th class=\"tdhistory879798\"></th><th class=\"tdhistory879798\">CUST_ID</th><th class=\"tdhistory879798\">LOYALTY_NUM</th><th class=\"tdhistory879798\">GENDER</th><th class=\"tdhistory879798\">FIRSTNAME</th><th class=\"tdhistory879798\">LASTNAME</th><th class=\"tdhistory879798\">ADDRESS</th><th class=\"tdhistory879798\">STATE</th><th class=\"tdhistory879798\">CITY</th><th class=\"tdhistory879798\">ZIP</th><th class=\"tdhistory879798\">EMAIL</th><th class=\"tdhistory879798\">PHONE</th></tr></thead><tbody class=\"tdhistory879798 resultset-body\"><tr><th class=\"tdhistory879798\" style= \"background: rgba(243, 243, 243, 0.75)\">1</th><td class=\"tdhistory879798\">22142</td><td class=\"tdhistory879798\">1584600</td><td class=\"tdhistory879798\">F</td><td class=\"tdhistory879798\">Beatriz</td><td class=\"tdhistory879798\">Gonsalves</td><td class=\"tdhistory879798\">1212 Fifth Street</td><td class=\"tdhistory879798\">OH</td><td class=\"tdhistory879798\">Fairfield</td><td class=\"tdhistory879798\">45018</td><td class=\"tdhistory879798\">beatriz.gonsalves@teratitan.com</td><td class=\"tdhistory879798\">(510) 563-2532</td></tr><tr><th class=\"tdhistory879798\" style= \"background: rgba(243, 243, 243, 0.75)\">2</th><td class=\"tdhistory879798\">19513</td><td class=\"tdhistory879798\"></td><td class=\"tdhistory879798\">M</td><td class=\"tdhistory879798\">Cheung</td><td class=\"tdhistory879798\">Yang</td><td class=\"tdhistory879798\">7462 Hollywood Boulevard</td><td class=\"tdhistory879798\">PA</td><td class=\"tdhistory879798\">Richland</td><td class=\"tdhistory879798\">17087</td><td class=\"tdhistory879798\"></td><td class=\"tdhistory879798\"></td></tr><tr><th class=\"tdhistory879798\" style= \"background: rgba(243, 243, 243, 0.75)\">3</th><td class=\"tdhistory879798\">19553</td><td class=\"tdhistory879798\">5451688</td><td class=\"tdhistory879798\">M</td><td class=\"tdhistory879798\">Bo</td><td class=\"tdhistory879798\">Li</td><td class=\"tdhistory879798\">3248 N. Torrey Pines Road</td><td class=\"tdhistory879798\">PA</td><td class=\"tdhistory879798\">Oak Ridge</td><td class=\"tdhistory879798\">16245</td><td class=\"tdhistory879798\">bo.li@teratitan.com</td><td class=\"tdhistory879798\">(617) 284-2673</td></tr><tr><th class=\"tdhistory879798\" style= \"background: rgba(243, 243, 243, 0.75)\">4</th><td class=\"tdhistory879798\">19372</td><td class=\"tdhistory879798\">1118440</td><td class=\"tdhistory879798\">F</td><td class=\"tdhistory879798\">Fei</td><td class=\"tdhistory879798\">Zhou</td><td class=\"tdhistory879798\">5957 Hill Street</td><td class=\"tdhistory879798\">PA</td><td class=\"tdhistory879798\">Harrisburg</td><td class=\"tdhistory879798\">17128</td><td class=\"tdhistory879798\">fzhou@outlook.com</td><td class=\"tdhistory879798\"></td></tr><tr><th class=\"tdhistory879798\" style= \"background: rgba(243, 243, 243, 0.75)\">5</th><td class=\"tdhistory879798\">20003</td><td class=\"tdhistory879798\"></td><td class=\"tdhistory879798\">M</td><td class=\"tdhistory879798\">Ethan</td><td class=\"tdhistory879798\">Martin</td><td class=\"tdhistory879798\">7693 Cedar Street</td><td class=\"tdhistory879798\">PA</td><td class=\"tdhistory879798\">Greensboro</td><td class=\"tdhistory879798\">15338</td><td class=\"tdhistory879798\"></td><td class=\"tdhistory879798\"></td></tr><tr><th class=\"tdhistory879798\" style= \"background: rgba(243, 243, 243, 0.75)\">6</th><td class=\"tdhistory879798\">20350</td><td class=\"tdhistory879798\">1143641</td><td class=\"tdhistory879798\">M</td><td class=\"tdhistory879798\">Clement</td><td class=\"tdhistory879798\">Vincent</td><td class=\"tdhistory879798\">6236 Burnt Mill Road</td><td class=\"tdhistory879798\">OH</td><td class=\"tdhistory879798\">Edon</td><td class=\"tdhistory879798\">43518</td><td class=\"tdhistory879798\">clement.vincent@teratitan.com</td><td class=\"tdhistory879798\"></td></tr><tr><th class=\"tdhistory879798\" style= \"background: rgba(243, 243, 243, 0.75)\">7</th><td class=\"tdhistory879798\">19614</td><td class=\"tdhistory879798\"></td><td class=\"tdhistory879798\">M</td><td class=\"tdhistory879798\">Clement</td><td class=\"tdhistory879798\">Bertrand</td><td class=\"tdhistory879798\">5606 Paper Mill Road</td><td class=\"tdhistory879798\">NY</td><td class=\"tdhistory879798\">Rochester</td><td class=\"tdhistory879798\">14660</td><td class=\"tdhistory879798\"></td><td class=\"tdhistory879798\"></td></tr><tr><th class=\"tdhistory879798\" style= \"background: rgba(243, 243, 243, 0.75)\">8</th><td class=\"tdhistory879798\">19980</td><td class=\"tdhistory879798\"></td><td class=\"tdhistory879798\">F</td><td class=\"tdhistory879798\">Maria</td><td class=\"tdhistory879798\">Silva</td><td class=\"tdhistory879798\">8147 Center Mill Road</td><td class=\"tdhistory879798\">WV</td><td class=\"tdhistory879798\">Kellysville</td><td class=\"tdhistory879798\">24732</td><td class=\"tdhistory879798\"></td><td class=\"tdhistory879798\"></td></tr><tr><th class=\"tdhistory879798\" style= \"background: rgba(243, 243, 243, 0.75)\">9</th><td class=\"tdhistory879798\">20575</td><td class=\"tdhistory879798\">1233911</td><td class=\"tdhistory879798\">F</td><td class=\"tdhistory879798\">Laura</td><td class=\"tdhistory879798\">DeSilva</td><td class=\"tdhistory879798\">11 Red Mill Road</td><td class=\"tdhistory879798\">PA</td><td class=\"tdhistory879798\">New Castle</td><td class=\"tdhistory879798\">16105</td><td class=\"tdhistory879798\">ldesilva@gmail.com</td><td class=\"tdhistory879798\">(570) 387-2031</td></tr><tr><th class=\"tdhistory879798\" style= \"background: rgba(243, 243, 243, 0.75)\">10</th><td class=\"tdhistory879798\">19921</td><td class=\"tdhistory879798\">5729451</td><td class=\"tdhistory879798\">M</td><td class=\"tdhistory879798\">Thiago</td><td class=\"tdhistory879798\">Pena</td><td class=\"tdhistory879798\">2591 Seventh Street</td><td class=\"tdhistory879798\">PA</td><td class=\"tdhistory879798\">Millerstown</td><td class=\"tdhistory879798\">17062</td><td class=\"tdhistory879798\">tpena@gmail.com</td><td class=\"tdhistory879798\">(702) 821-1527</td></tr></tbody></table></div>"
      ]
     },
     "execution_count": 29,
     "metadata": {
      "application/vnd.teradata.resultset": "{\"resultSetID\":\"/home/jovyan/JupyterLabRoot/Teradata/Resultsets/2023.12.21_06.27.19.655_UTC\",\"historyID\":273,\"chunkID\":\"00001\",\"sessionid\":\"\",\"portnum\":\"\",\"dockermode\":\"docker\",\"totalRowCount\":10,\"chunkCount\":0,\"rowLimit\":0,\"columnMetadata\":[{\"columnName\":\"CUST_ID\",\"columnTypeName\":\"SMALLINT\"},{\"columnNumber\":1,\"columnName\":\"LOYALTY_NUM\",\"columnTypeName\":\"INTEGER\"},{\"columnNumber\":2,\"columnName\":\"GENDER\",\"columnTypeName\":\"VARCHAR\",\"length\":1,\"scale\":1},{\"columnNumber\":3,\"columnName\":\"FIRSTNAME\",\"columnTypeName\":\"VARCHAR\",\"length\":11,\"scale\":11},{\"columnNumber\":4,\"columnName\":\"LASTNAME\",\"columnTypeName\":\"VARCHAR\",\"length\":9,\"scale\":9},{\"columnNumber\":5,\"columnName\":\"ADDRESS\",\"columnTypeName\":\"VARCHAR\",\"length\":25,\"scale\":25},{\"columnNumber\":6,\"columnName\":\"STATE\",\"columnTypeName\":\"VARCHAR\",\"length\":2,\"scale\":2},{\"columnNumber\":7,\"columnName\":\"CITY\",\"columnTypeName\":\"VARCHAR\",\"length\":16,\"scale\":16},{\"columnNumber\":8,\"columnName\":\"ZIP\",\"columnTypeName\":\"INTEGER\"},{\"columnNumber\":9,\"columnName\":\"EMAIL\",\"columnTypeName\":\"VARCHAR\",\"length\":31,\"scale\":31},{\"columnNumber\":10,\"columnName\":\"PHONE\",\"columnTypeName\":\"VARCHAR\",\"length\":14,\"scale\":14}]}"
     },
     "output_type": "execute_result"
    }
   ],
   "source": [
    "SELECT TOP 10 * FROM C360_GR2_V;"
   ]
  },
  {
   "cell_type": "markdown",
   "id": "0aa2668f-f37a-44d6-9404-6f873a902539",
   "metadata": {},
   "source": [
    "<p style = 'font-size:16px;font-family:Arial;color:#00233C'>We see Jessica's record has been updated with an email address (from the last join) and a phone number (from this join).</p>"
   ]
  },
  {
   "cell_type": "code",
   "execution_count": 30,
   "id": "2e7a6bfd",
   "metadata": {},
   "outputs": [
    {
     "data": {
      "application/vnd.teradata.resultset": "\"CUST_ID\",\"LOYALTY_NUM\",\"GENDER\",\"FIRSTNAME\",\"LASTNAME\",\"ADDRESS\",\"STATE\",\"CITY\",\"ZIP\",\"EMAIL\",\"PHONE\"\n\"21903\",\"1460445\",\"F\",\"Jessica\",\"Rego\",\"3114 Park Street\",\"OH\",\"Nashport\",\"43830\",\"jrego@yahoo.com\",\"(530) 696-4308\"",
      "text/html": [
       "<div class = \"td-resultset-table-div\" style = \"max-height: 100%; overflow-y: auto\">\n",
       "      <table class=\"tdhistory599178\"><style>\n",
       "      table.tdhistory599178 { display: block !important; min-height: 105px !important; overflow: auto !important; height: 105px !important; width: 100% !important; border: 1px solid rgb(207, 207, 207) !important; border-collapse: collapse !important; ; color: var(--jp-ui-font-color1) !important; }\n",
       "      th.tdhistory599178 { border: 1px solid rgb(198,198,198) !important; border-collapse: collapse !important; ; padding: 2px 5px !important; ; font-size: 13px !important; ; text-align: center !important; white-space: normal !important; color: var(--jp-ui-font-color1) !important; }\n",
       "      th.tdhistory599178:last-child { text-align: left !important; }\n",
       "      tbody.tdhistory599178 tr:nth-child(even) { background: rgba(243, 243, 243, 0.75) !important; }\n",
       "      tbody.tdhistory599178 tr:nth-child(odd) { background: var(--jp-ui-inverse-font-color1) !important; }\n",
       "      td.tdhistory599178 { border: 1px solid rgb(207, 207, 207) !important; border-collapse: collapse !important; ; padding: 2px 5px !important; ; font-size: 13px !important; ; text-align: left !important;          white-space: nowrap !important; overflow:hidden !important; text-overflow:ellipsis !important;; }\n",
       "    </style><thead><tr style= \"background: rgba(243, 243, 243, 0.75)\"><th class=\"tdhistory599178\"></th><th class=\"tdhistory599178\">CUST_ID</th><th class=\"tdhistory599178\">LOYALTY_NUM</th><th class=\"tdhistory599178\">GENDER</th><th class=\"tdhistory599178\">FIRSTNAME</th><th class=\"tdhistory599178\">LASTNAME</th><th class=\"tdhistory599178\">ADDRESS</th><th class=\"tdhistory599178\">STATE</th><th class=\"tdhistory599178\">CITY</th><th class=\"tdhistory599178\">ZIP</th><th class=\"tdhistory599178\">EMAIL</th><th class=\"tdhistory599178\">PHONE</th></tr></thead><tbody class=\"tdhistory599178 resultset-body\"><tr><th class=\"tdhistory599178\" style= \"background: rgba(243, 243, 243, 0.75)\">1</th><td class=\"tdhistory599178\">21903</td><td class=\"tdhistory599178\">1460445</td><td class=\"tdhistory599178\">F</td><td class=\"tdhistory599178\">Jessica</td><td class=\"tdhistory599178\">Rego</td><td class=\"tdhistory599178\">3114 Park Street</td><td class=\"tdhistory599178\">OH</td><td class=\"tdhistory599178\">Nashport</td><td class=\"tdhistory599178\">43830</td><td class=\"tdhistory599178\">jrego@yahoo.com</td><td class=\"tdhistory599178\">(530) 696-4308</td></tr></tbody></table></div>"
      ]
     },
     "execution_count": 30,
     "metadata": {
      "application/vnd.teradata.resultset": "{\"resultSetID\":\"/home/jovyan/JupyterLabRoot/Teradata/Resultsets/2023.12.21_06.27.21.654_UTC\",\"historyID\":274,\"chunkID\":\"00001\",\"sessionid\":\"\",\"portnum\":\"\",\"dockermode\":\"docker\",\"totalRowCount\":1,\"chunkCount\":0,\"rowLimit\":0,\"columnMetadata\":[{\"columnName\":\"CUST_ID\",\"columnTypeName\":\"SMALLINT\"},{\"columnNumber\":1,\"columnName\":\"LOYALTY_NUM\",\"columnTypeName\":\"INTEGER\"},{\"columnNumber\":2,\"columnName\":\"GENDER\",\"columnTypeName\":\"VARCHAR\",\"length\":1,\"scale\":1},{\"columnNumber\":3,\"columnName\":\"FIRSTNAME\",\"columnTypeName\":\"VARCHAR\",\"length\":11,\"scale\":11},{\"columnNumber\":4,\"columnName\":\"LASTNAME\",\"columnTypeName\":\"VARCHAR\",\"length\":9,\"scale\":9},{\"columnNumber\":5,\"columnName\":\"ADDRESS\",\"columnTypeName\":\"VARCHAR\",\"length\":25,\"scale\":25},{\"columnNumber\":6,\"columnName\":\"STATE\",\"columnTypeName\":\"VARCHAR\",\"length\":2,\"scale\":2},{\"columnNumber\":7,\"columnName\":\"CITY\",\"columnTypeName\":\"VARCHAR\",\"length\":16,\"scale\":16},{\"columnNumber\":8,\"columnName\":\"ZIP\",\"columnTypeName\":\"INTEGER\"},{\"columnNumber\":9,\"columnName\":\"EMAIL\",\"columnTypeName\":\"VARCHAR\",\"length\":31,\"scale\":31},{\"columnNumber\":10,\"columnName\":\"PHONE\",\"columnTypeName\":\"VARCHAR\",\"length\":14,\"scale\":14}]}"
     },
     "output_type": "execute_result"
    }
   ],
   "source": [
    "SELECT * FROM C360_GR2_V WHERE FIRSTNAME = 'Jessica' AND LASTNAME = 'Rego'"
   ]
  },
  {
   "cell_type": "markdown",
   "id": "e2fd136a",
   "metadata": {},
   "source": [
    "<hr style=\"height:2px;border:none;background-color:#00233C;\">\n",
    "<p style = 'font-size:20px;font-family:Arial;color:#00233C'><b>6. Append Cookie Data</b></p>\n",
    "\n",
    "<p style = 'font-size:16px;font-family:Arial;color:#00233C'>We repeat the process, this time appending the cookie data. Since cookies are collected at the household level, we will use address as the matching string.</p>\n",
    "\n",
    "<p style = 'font-size:16px;font-family:Arial;color:#00233C'>Steps for this section include:\n",
    "<img src = 'images/step6.png' width = '300' align='right' padding='padding:50px'></p>\n",
    "\n",
    "<ol style = 'font-size:16px;font-family:Arial;color:#00233C'>\n",
    "    <li>Creating a matching table\n",
    "    <li>Joining the intermediate golden record table with the matching table to form a new intermediate golden record</li>\n",
    "    </ol>"
   ]
  },
  {
   "cell_type": "markdown",
   "id": "72035eda",
   "metadata": {},
   "source": [
    "<hr style=\"height:1px;border:none;background-color:#00233C;\">\n",
    "<p style = 'font-size:18px;font-family:Arial;color:#00233C'><b>6.1 - Creating a matching table</b></p>\n",
    "\n",
    "<p style = 'font-size:16px;font-family:Arial;color:#00233C'>As in the previous section, we will create a view consisting of rows with a Jaro match greater than 0.9.</p>"
   ]
  },
  {
   "cell_type": "code",
   "execution_count": 31,
   "id": "f834fc3f",
   "metadata": {},
   "outputs": [
    {
     "data": {
      "text/plain": [
       "Success: 0 rows affected"
      ]
     },
     "execution_count": 31,
     "metadata": {
      "application/vnd.teradata.resultset": ""
     },
     "output_type": "execute_result"
    }
   ],
   "source": [
    "REPLACE VIEW C360_MatchABCD_V AS (\n",
    "    SELECT * FROM StringSimilarity (\n",
    "        ON (\n",
    "            SELECT \n",
    "                gr2.CUST_ID, \n",
    "                gr2.EMAIL,\n",
    "                gr2.PHONE,\n",
    "                CAST(REGEXP_REPLACE(OREPLACE((gr2.ADDRESS||gr2.CITY),' ',''), \n",
    "                                             '[^a-zA-Z\\d:]','',1,0) as VARCHAR(50)) \n",
    "                                             as GR2_KEY,\n",
    "                CAST(REGEXP_REPLACE(OREPLACE((t.ADDR_LN_1_TXT||t.CITY_NAME),' ',''), \n",
    "                                             '[^a-zA-Z\\d:]','',1,0) as VARCHAR(50)) \n",
    "                                             as TAGGING_KEY,\n",
    "                t.COOKIE,\n",
    "                t.CAMPAIGN\n",
    "            FROM C360_GR2_V gr2, DEMO_Customer360.Cookie t\n",
    "        ) PARTITION BY ANY\n",
    "        USING\n",
    "        ComparisonColumnPairs(\n",
    "            'jaro (GR2_KEY, TAGGING_KEY) AS jaro'\n",
    "        )\n",
    "        CaseSensitive('false')\n",
    "        Accumulate('CUST_ID','EMAIL','PHONE', 'GR2_KEY', 'TAGGING_KEY', 'COOKIE','CAMPAIGN')\n",
    "    ) AS dt \n",
    "WHERE jaro > .90)"
   ]
  },
  {
   "cell_type": "code",
   "execution_count": 32,
   "id": "2f342ac1",
   "metadata": {},
   "outputs": [
    {
     "data": {
      "application/vnd.teradata.resultset": "\"CUST_ID\",\"EMAIL\",\"PHONE\",\"GR2_KEY\",\"TAGGING_KEY\",\"COOKIE\",\"CAMPAIGN\",\"jaro\"\n\"21647\",\"harish.banerjee@teratitan.com\",\"(216) 258-3212\",\"331CityBlvdWCleveland\",\"331CityBlvdWCleveland\",\"3FDBF0376A814344908925F93F3ED59\",\"Search\",\"1\"\n\"20387\",\"tmedina@yahoo.com\",\"(813) 611-8265\",\"2729AbbotKinneyBlvdSpencer\",\"2729AbbotKinneyBlvdSpencer\",\"402F84D4AD94ECF934252A443F6ED42F\",\"Search\",\"1\"\n\"22018\",\"sahil.sharma@teratitan.com\",\"\",\"3739BarleyMillRoadBrooklyn\",\"3739BarleyMillRoadBrooklyn\",\"DD884D7B1EE46E7B6E1BF8DA9B10988F\",\"Search\",\"1\"\n\"20117\",\"maya.campbell@teratitan.com\",\"(304) 903-1275\",\"2585HayesStParkersburg\",\"2585HayesStParkersburg\",\"73C79D2507929CC9284C702263C942\",\"Email\",\"1\"\n\"19403\",\"gsilvan@yahoo.com\",\"\",\"4132WillieMaysPlazaLimestone\",\"4132WillieMaysPlazaLimestone\",\"F657E711ED332EBF9B60A921143A8341\",\"Display\",\"1\"\n\"19939\",\"jtorres@gmail.com\",\"(775) 202-5303\",\"2193UpperSnuffMillRowBretz\",\"2193UpperSnuffMillRowBretz\",\"82E3A91DF019BDAE7210E63B782F\",\"Search\",\"1\"\n\"21964\",\"Steven.Sugar@teratitan.com\",\"(513) 273-2352\",\"1854OakStreetHamilton\",\"1854OakStreetHamilton\",\"15CDB6C74BD9B2929FB0F41359ECEE42\",\"Social\",\"1\"\n\"21604\",\"sofie.larsen@teratitan.com\",\"(772) 503-2101\",\"1600BeverlyBoulevardJavaCenter\",\"1600BeverlyBoulevardJavaCenter\",\"4CF6A88A0664B34BD89ED714A11DF5F\",\"Search\",\"1\"\n\"21903\",\"jrego@yahoo.com\",\"(530) 696-4308\",\"3114ParkStreetNashport\",\"3114ParkStreetNashport\",\"2846E54D5FFE2905099AC6E23014DF7\",\"Email\",\"1\"\n\"21832\",\"jgao@gmail.com\",\"(504) 787-0477\",\"1964ViewStreetLakeAriel\",\"1964ViewStreetLakeAriel\",\"F4056690A7878DA98044A8B55F3A9DE\",\"Search\",\"1\"\n\"19376\",\"kruis@yahoo.com\",\"\",\"4660ViewStreetStatenIsland\",\"4660ViewStreetStatenIsland\",\"95DCCA7FF8B3AC0C2CA92AA3F6D0FAA6\",\"Social\",\"1\"\n\"19857\",\"\",\"\",\"2699MendenhallMillRoadNorthEvans\",\"2699MendenhallMillRoadNorthEvans\",\"F962365BA3DCF5CA20D27A28FA725618\",\"Social\",\"1\"\n\"22120\",\"matias.lopez@teratitan.com\",\"\",\"4086UpperSnuffMillRowTelford\",\"4086UpperSnuffMillRowTelford\",\"7F3A73C52275AD957B54E3C0CD3244\",\"Social\",\"1\"\n\"19716\",\"fu.lao@teratitan.com\",\"\",\"3967EighthStreetRome\",\"3967EighthStreetRome\",\"60B6602E2103AFC9D6D5255B15AAF\",\"Email\",\"1\"\n\"19499\",\"msousa@gmail.com\",\"(304) 231-8631\",\"158WestPicoBoulevardLinden\",\"158WestPicoBoulevardLinden\",\"752F442D3CD539A61B68BA6E53519A13\",\"Search\",\"1\"\n\"21707\",\"jgomez@yahoo.com\",\"(916) 768-6879\",\"2938AlexanderValleyRdBloomingburg\",\"2938AlexanderValleyRdBloomingburg\",\"5A069EEFB8D678AE938CEFC8BB62E65\",\"Search\",\"1\"\n\"20575\",\"ldesilva@gmail.com\",\"(570) 387-2031\",\"11RedMillRoadNewCastle\",\"11RedMillRoadNewCastle\",\"AB7DBCFFD0AD5577560D8B545A842B41\",\"Display\",\"1\"\n\"19688\",\"lteixeira@gmail.com\",\"(253) 470-1804\",\"1522NorthUSHighway1Kerr\",\"1522NorthUSHighway1Kerr\",\"F7C0C15D6A14F6206CAABF7B6E45477\",\"Search\",\"1\"\n\"19344\",\"charlotte.king@teratitan.com\",\"(760) 229-0754\",\"3056MissionStMarchand\",\"3056MissionStMarchand\",\"66F65FCE49D783B606770528DC6F6F\",\"Display\",\"1\"\n\"21991\",\"vregon@yahoo.com\",\"\",\"3695CityBlvdWFallentimber\",\"3695CityBlvdWFallentimber\",\"B08B0A84F973C3F790E34D01FEC5558\",\"Display\",\"1\"\n\"19472\",\"aguta@yahoo.com\",\"\",\"4634ElCaminoRealElysburg\",\"4634ElCaminoRealElysburg\",\"E68F98BD8E903C65CF93E750245666B6\",\"Social\",\"1\"\n\"19553\",\"bo.li@teratitan.com\",\"(617) 284-2673\",\"3248NTorreyPinesRoadOakRidge\",\"3248NTorreyPinesRoadOakRidge\",\"368C1B6E30E1930927E0C0BF603DDB70\",\"Email\",\"1\"\n\"21862\",\"fu.liu@teratitan.com\",\"\",\"4267SouthArroyoPkwyHogansburg\",\"4267SouthArroyoPkwyHogansburg\",\"B013B6A6B59CF4A772E1FFDAC6BE29F\",\"Display\",\"1\"\n\"22142\",\"beatriz.gonsalves@teratitan.com\",\"(510) 563-2532\",\"1212FifthStreetFairfield\",\"1212FifthStreetFairfield\",\"44C13D702EBA675AE341AC9BF9C1B89\",\"Email\",\"1\"\n\"19579\",\"pedro.gonsalves@teratitan.com\",\"(434) 432-6306\",\"1233ElCaminoRealGreenville\",\"1233ElCaminoRealGreenville\",\"9AB4BD59BCF976409A5887ED77EB333\",\"Social\",\"1\"\n\"22143\",\"lucas.moreau@teratitan.com\",\"(941) 929-3922\",\"1455SixthStreetWinchester\",\"1455SixthStreetWinchester\",\"B0273ABF9237CD15EA547F97104D46FA\",\"Email\",\"1\"\n\"19463\",\"apatel@gmail.com\",\"(304) 864-1382\",\"1676MainStWaiteville\",\"1676MainStWaiteville\",\"A2D7671FDB136EDACC21D4CE4E25F6C1\",\"Email\",\"1\"\n\"19397\",\"bmartins@gmail.com\",\"(216) 364-9325\",\"2178HydeStreetAshley\",\"2178HydeStreetAshley\",\"71A74C1B65E8370D688067478FB958\",\"Search\",\"1\"\n\"20521\",\"bgonsalves@gmail.com\",\"(509) 567-1484\",\"1896MasonStreetHighlandFalls\",\"1896MasonStreetHighlandFalls\",\"9363AB7AE6B9E16D493E717B4FC9C70\",\"Email\",\"1\"\n\"19310\",\"isabella.mayer@teratitan.com\",\"(360) 692-8811\",\"2670MusicConcourseDrFranklinSprings\",\"2670MusicConcoursDrFranklinSprings\",\"ABA85B63EE0DAD5C1A7DF14321F61AC2\",\"Social\",\"0.9904761904761905\"\n\"19649\",\"vteixeira@gmail.com\",\"\",\"2384ManhattanAvenueBridgeport\",\"2384ManhatanAvenueBridgeport\",\"A1AA755BB886ABC1665AAB8F708BA164\",\"Display\",\"0.9885057471264368\"\n\"19457\",\"rafael.benitez@teratitan.com\",\"(785) 435-7536\",\"2808FillmoreStreetBrooklyn\",\"2808FilmoreStreetBrooklyn\",\"2A2361F8D9C155E6789CD58A6C7A0F0\",\"Email\",\"0.9871794871794872\"\n\"19377\",\"christopher.brown@teratitan.com\",\"\",\"4839FillmoreStreetArtie\",\"4839FilmoreStreetArtie\",\"F7DC6533675B20757A2A5F119805B7C\",\"Social\",\"0.9855072463768115\"\n\"19994\",\"ethan.taylor@teratitan.com\",\"(302) 953-9585\",\"3601WillieMaysPlazaCanton\",\"3601WillieMaysPlzCanton\",\"117727C337813D50AAF628EA35A7470F\",\"Social\",\"0.9588405797101448\"\n\"20557\",\"lfari@yahoo.com\",\"\",\"4161PineStreetAlbany\",\"4161PinStreetAlbany\",\"57915704D0E07D5E71BB37FCC74028B1\",\"Display\",\"0.9482456140350877\"\n\"20158\",\"nishi.mahawar@teratitan.com\",\"(619) 912-4407\",\"2440AbbotKinneyKane\",\"2440AbbotKineyKane\",\"833F46D6A8D13CF742D69C9B6F27D2E6\",\"Display\",\"0.94541910331384\"\n\"19562\",\"anna.winkler@teratitan.com\",\"\",\"2823JonesSausageRdRochester\",\"2823JonesSausageRochester\",\"C6F42C9899C7CEAF78D19ACD1B7B8D9B\",\"Social\",\"0.9219753086419753\"\n\"19540\",\"jmartin@outlook.com\",\"\",\"491CedarStreetHamilton\",\"491CedrStreetHamilton\",\"F1A8A5675E5036CC2CC5ECDC26D1A313\",\"Email\",\"0.9213564213564215\"\n\"19948\",\"asouza@yahoo.com\",\"\",\"4245SnuffMillRoadSomerdale\",\"4245SnuffMillRdSomerdale\",\"3427606FBCDAF543BD334F93D2C17AF6\",\"Search\",\"0.9188034188034188\"\n\"21705\",\"mrocha@gmail.com\",\"(917) 904-2312\",\"2588CurtisMillRoadStockton\",\"2588CurtisMillRdStockton\",\"AEFF363C2DE8F1B4287233D7E6FB423\",\"Social\",\"0.9188034188034188\"\n\"21902\",\"jgomes@yahoo.com\",\"\",\"4321FifthStreetLatty\",\"4321FilfthStreetLatty\",\"517E7D1C4CBF13FAC7D1BE18214A312\",\"Display\",\"0.9174603174603174\"\n\"19674\",\"lregoo@yahoo.com\",\"\",\"4205NinthStreetWestFarmington\",\"4205NinthStreeWestFarmington\",\"593EBF1F7F37D94F4716FBE7A6ACCC3\",\"Email\",\"0.9170771756978654\"\n\"22099\",\"asmith@gmail.com\",\"(253) 403-8318\",\"2253MelroseAvenueBrooklyn\",\"2253MelroseAveBrooklyn\",\"2AE67BA5E179764FC0297BB7BD329A65\",\"Display\",\"0.9145454545454546\"\n\"21635\",\"alexander.muller@teratitan.com\",\"\",\"3649MainStreetYork\",\"3649MainStYork\",\"9856C1982CB8FD2ABF9AC11CB7A9FD\",\"Display\",\"0.9021164021164022\"",
      "text/html": [
       "<div class = \"td-resultset-table-div\" style = \"max-height: 100%; overflow-y: auto\">\n",
       "      <table class=\"tdhistory280569\"><style>\n",
       "      table.tdhistory280569 { display: block !important; min-height: 588px !important; overflow: auto !important; height: 588px !important; width: 100% !important; border: 1px solid rgb(207, 207, 207) !important; border-collapse: collapse !important; ; color: var(--jp-ui-font-color1) !important; }\n",
       "      th.tdhistory280569 { border: 1px solid rgb(198,198,198) !important; border-collapse: collapse !important; ; padding: 2px 5px !important; ; font-size: 13px !important; ; text-align: center !important; white-space: normal !important; color: var(--jp-ui-font-color1) !important; }\n",
       "      th.tdhistory280569:last-child { text-align: left !important; }\n",
       "      tbody.tdhistory280569 tr:nth-child(even) { background: rgba(243, 243, 243, 0.75) !important; }\n",
       "      tbody.tdhistory280569 tr:nth-child(odd) { background: var(--jp-ui-inverse-font-color1) !important; }\n",
       "      td.tdhistory280569 { border: 1px solid rgb(207, 207, 207) !important; border-collapse: collapse !important; ; padding: 2px 5px !important; ; font-size: 13px !important; ; text-align: left !important;          white-space: nowrap !important; overflow:hidden !important; text-overflow:ellipsis !important;; }\n",
       "    </style><thead><tr style= \"background: rgba(243, 243, 243, 0.75)\"><th class=\"tdhistory280569\"></th><th class=\"tdhistory280569\">CUST_ID</th><th class=\"tdhistory280569\">EMAIL</th><th class=\"tdhistory280569\">PHONE</th><th class=\"tdhistory280569\">GR2_KEY</th><th class=\"tdhistory280569\">TAGGING_KEY</th><th class=\"tdhistory280569\">COOKIE</th><th class=\"tdhistory280569\">CAMPAIGN</th><th class=\"tdhistory280569\">jaro</th></tr></thead><tbody class=\"tdhistory280569 resultset-body\"><tr><th class=\"tdhistory280569\" style= \"background: rgba(243, 243, 243, 0.75)\">1</th><td class=\"tdhistory280569\">21647</td><td class=\"tdhistory280569\">harish.banerjee@teratitan.com</td><td class=\"tdhistory280569\">(216) 258-3212</td><td class=\"tdhistory280569\">331CityBlvdWCleveland</td><td class=\"tdhistory280569\">331CityBlvdWCleveland</td><td class=\"tdhistory280569\">3FDBF0376A814344908925F93F3ED59</td><td class=\"tdhistory280569\">Search</td><td class=\"tdhistory280569\">1</td></tr><tr><th class=\"tdhistory280569\" style= \"background: rgba(243, 243, 243, 0.75)\">2</th><td class=\"tdhistory280569\">20387</td><td class=\"tdhistory280569\">tmedina@yahoo.com</td><td class=\"tdhistory280569\">(813) 611-8265</td><td class=\"tdhistory280569\">2729AbbotKinneyBlvdSpencer</td><td class=\"tdhistory280569\">2729AbbotKinneyBlvdSpencer</td><td class=\"tdhistory280569\">402F84D4AD94ECF934252A443F6ED42F</td><td class=\"tdhistory280569\">Search</td><td class=\"tdhistory280569\">1</td></tr><tr><th class=\"tdhistory280569\" style= \"background: rgba(243, 243, 243, 0.75)\">3</th><td class=\"tdhistory280569\">22018</td><td class=\"tdhistory280569\">sahil.sharma@teratitan.com</td><td class=\"tdhistory280569\"></td><td class=\"tdhistory280569\">3739BarleyMillRoadBrooklyn</td><td class=\"tdhistory280569\">3739BarleyMillRoadBrooklyn</td><td class=\"tdhistory280569\">DD884D7B1EE46E7B6E1BF8DA9B10988F</td><td class=\"tdhistory280569\">Search</td><td class=\"tdhistory280569\">1</td></tr><tr><th class=\"tdhistory280569\" style= \"background: rgba(243, 243, 243, 0.75)\">4</th><td class=\"tdhistory280569\">20117</td><td class=\"tdhistory280569\">maya.campbell@teratitan.com</td><td class=\"tdhistory280569\">(304) 903-1275</td><td class=\"tdhistory280569\">2585HayesStParkersburg</td><td class=\"tdhistory280569\">2585HayesStParkersburg</td><td class=\"tdhistory280569\">73C79D2507929CC9284C702263C942</td><td class=\"tdhistory280569\">Email</td><td class=\"tdhistory280569\">1</td></tr><tr><th class=\"tdhistory280569\" style= \"background: rgba(243, 243, 243, 0.75)\">5</th><td class=\"tdhistory280569\">19403</td><td class=\"tdhistory280569\">gsilvan@yahoo.com</td><td class=\"tdhistory280569\"></td><td class=\"tdhistory280569\">4132WillieMaysPlazaLimestone</td><td class=\"tdhistory280569\">4132WillieMaysPlazaLimestone</td><td class=\"tdhistory280569\">F657E711ED332EBF9B60A921143A8341</td><td class=\"tdhistory280569\">Display</td><td class=\"tdhistory280569\">1</td></tr><tr><th class=\"tdhistory280569\" style= \"background: rgba(243, 243, 243, 0.75)\">6</th><td class=\"tdhistory280569\">19939</td><td class=\"tdhistory280569\">jtorres@gmail.com</td><td class=\"tdhistory280569\">(775) 202-5303</td><td class=\"tdhistory280569\">2193UpperSnuffMillRowBretz</td><td class=\"tdhistory280569\">2193UpperSnuffMillRowBretz</td><td class=\"tdhistory280569\">82E3A91DF019BDAE7210E63B782F</td><td class=\"tdhistory280569\">Search</td><td class=\"tdhistory280569\">1</td></tr><tr><th class=\"tdhistory280569\" style= \"background: rgba(243, 243, 243, 0.75)\">7</th><td class=\"tdhistory280569\">21964</td><td class=\"tdhistory280569\">Steven.Sugar@teratitan.com</td><td class=\"tdhistory280569\">(513) 273-2352</td><td class=\"tdhistory280569\">1854OakStreetHamilton</td><td class=\"tdhistory280569\">1854OakStreetHamilton</td><td class=\"tdhistory280569\">15CDB6C74BD9B2929FB0F41359ECEE42</td><td class=\"tdhistory280569\">Social</td><td class=\"tdhistory280569\">1</td></tr><tr><th class=\"tdhistory280569\" style= \"background: rgba(243, 243, 243, 0.75)\">8</th><td class=\"tdhistory280569\">21604</td><td class=\"tdhistory280569\">sofie.larsen@teratitan.com</td><td class=\"tdhistory280569\">(772) 503-2101</td><td class=\"tdhistory280569\">1600BeverlyBoulevardJavaCenter</td><td class=\"tdhistory280569\">1600BeverlyBoulevardJavaCenter</td><td class=\"tdhistory280569\">4CF6A88A0664B34BD89ED714A11DF5F</td><td class=\"tdhistory280569\">Search</td><td class=\"tdhistory280569\">1</td></tr><tr><th class=\"tdhistory280569\" style= \"background: rgba(243, 243, 243, 0.75)\">9</th><td class=\"tdhistory280569\">21903</td><td class=\"tdhistory280569\">jrego@yahoo.com</td><td class=\"tdhistory280569\">(530) 696-4308</td><td class=\"tdhistory280569\">3114ParkStreetNashport</td><td class=\"tdhistory280569\">3114ParkStreetNashport</td><td class=\"tdhistory280569\">2846E54D5FFE2905099AC6E23014DF7</td><td class=\"tdhistory280569\">Email</td><td class=\"tdhistory280569\">1</td></tr><tr><th class=\"tdhistory280569\" style= \"background: rgba(243, 243, 243, 0.75)\">10</th><td class=\"tdhistory280569\">21832</td><td class=\"tdhistory280569\">jgao@gmail.com</td><td class=\"tdhistory280569\">(504) 787-0477</td><td class=\"tdhistory280569\">1964ViewStreetLakeAriel</td><td class=\"tdhistory280569\">1964ViewStreetLakeAriel</td><td class=\"tdhistory280569\">F4056690A7878DA98044A8B55F3A9DE</td><td class=\"tdhistory280569\">Search</td><td class=\"tdhistory280569\">1</td></tr><tr><th class=\"tdhistory280569\" style= \"background: rgba(243, 243, 243, 0.75)\">11</th><td class=\"tdhistory280569\">19376</td><td class=\"tdhistory280569\">kruis@yahoo.com</td><td class=\"tdhistory280569\"></td><td class=\"tdhistory280569\">4660ViewStreetStatenIsland</td><td class=\"tdhistory280569\">4660ViewStreetStatenIsland</td><td class=\"tdhistory280569\">95DCCA7FF8B3AC0C2CA92AA3F6D0FAA6</td><td class=\"tdhistory280569\">Social</td><td class=\"tdhistory280569\">1</td></tr><tr><th class=\"tdhistory280569\" style= \"background: rgba(243, 243, 243, 0.75)\">12</th><td class=\"tdhistory280569\">19857</td><td class=\"tdhistory280569\"></td><td class=\"tdhistory280569\"></td><td class=\"tdhistory280569\">2699MendenhallMillRoadNorthEvans</td><td class=\"tdhistory280569\">2699MendenhallMillRoadNorthEvans</td><td class=\"tdhistory280569\">F962365BA3DCF5CA20D27A28FA725618</td><td class=\"tdhistory280569\">Social</td><td class=\"tdhistory280569\">1</td></tr><tr><th class=\"tdhistory280569\" style= \"background: rgba(243, 243, 243, 0.75)\">13</th><td class=\"tdhistory280569\">22120</td><td class=\"tdhistory280569\">matias.lopez@teratitan.com</td><td class=\"tdhistory280569\"></td><td class=\"tdhistory280569\">4086UpperSnuffMillRowTelford</td><td class=\"tdhistory280569\">4086UpperSnuffMillRowTelford</td><td class=\"tdhistory280569\">7F3A73C52275AD957B54E3C0CD3244</td><td class=\"tdhistory280569\">Social</td><td class=\"tdhistory280569\">1</td></tr><tr><th class=\"tdhistory280569\" style= \"background: rgba(243, 243, 243, 0.75)\">14</th><td class=\"tdhistory280569\">19716</td><td class=\"tdhistory280569\">fu.lao@teratitan.com</td><td class=\"tdhistory280569\"></td><td class=\"tdhistory280569\">3967EighthStreetRome</td><td class=\"tdhistory280569\">3967EighthStreetRome</td><td class=\"tdhistory280569\">60B6602E2103AFC9D6D5255B15AAF</td><td class=\"tdhistory280569\">Email</td><td class=\"tdhistory280569\">1</td></tr><tr><th class=\"tdhistory280569\" style= \"background: rgba(243, 243, 243, 0.75)\">15</th><td class=\"tdhistory280569\">19499</td><td class=\"tdhistory280569\">msousa@gmail.com</td><td class=\"tdhistory280569\">(304) 231-8631</td><td class=\"tdhistory280569\">158WestPicoBoulevardLinden</td><td class=\"tdhistory280569\">158WestPicoBoulevardLinden</td><td class=\"tdhistory280569\">752F442D3CD539A61B68BA6E53519A13</td><td class=\"tdhistory280569\">Search</td><td class=\"tdhistory280569\">1</td></tr><tr><th class=\"tdhistory280569\" style= \"background: rgba(243, 243, 243, 0.75)\">16</th><td class=\"tdhistory280569\">21707</td><td class=\"tdhistory280569\">jgomez@yahoo.com</td><td class=\"tdhistory280569\">(916) 768-6879</td><td class=\"tdhistory280569\">2938AlexanderValleyRdBloomingburg</td><td class=\"tdhistory280569\">2938AlexanderValleyRdBloomingburg</td><td class=\"tdhistory280569\">5A069EEFB8D678AE938CEFC8BB62E65</td><td class=\"tdhistory280569\">Search</td><td class=\"tdhistory280569\">1</td></tr><tr><th class=\"tdhistory280569\" style= \"background: rgba(243, 243, 243, 0.75)\">17</th><td class=\"tdhistory280569\">20575</td><td class=\"tdhistory280569\">ldesilva@gmail.com</td><td class=\"tdhistory280569\">(570) 387-2031</td><td class=\"tdhistory280569\">11RedMillRoadNewCastle</td><td class=\"tdhistory280569\">11RedMillRoadNewCastle</td><td class=\"tdhistory280569\">AB7DBCFFD0AD5577560D8B545A842B41</td><td class=\"tdhistory280569\">Display</td><td class=\"tdhistory280569\">1</td></tr><tr><th class=\"tdhistory280569\" style= \"background: rgba(243, 243, 243, 0.75)\">18</th><td class=\"tdhistory280569\">19688</td><td class=\"tdhistory280569\">lteixeira@gmail.com</td><td class=\"tdhistory280569\">(253) 470-1804</td><td class=\"tdhistory280569\">1522NorthUSHighway1Kerr</td><td class=\"tdhistory280569\">1522NorthUSHighway1Kerr</td><td class=\"tdhistory280569\">F7C0C15D6A14F6206CAABF7B6E45477</td><td class=\"tdhistory280569\">Search</td><td class=\"tdhistory280569\">1</td></tr><tr><th class=\"tdhistory280569\" style= \"background: rgba(243, 243, 243, 0.75)\">19</th><td class=\"tdhistory280569\">19344</td><td class=\"tdhistory280569\">charlotte.king@teratitan.com</td><td class=\"tdhistory280569\">(760) 229-0754</td><td class=\"tdhistory280569\">3056MissionStMarchand</td><td class=\"tdhistory280569\">3056MissionStMarchand</td><td class=\"tdhistory280569\">66F65FCE49D783B606770528DC6F6F</td><td class=\"tdhistory280569\">Display</td><td class=\"tdhistory280569\">1</td></tr><tr><th class=\"tdhistory280569\" style= \"background: rgba(243, 243, 243, 0.75)\">20</th><td class=\"tdhistory280569\">21991</td><td class=\"tdhistory280569\">vregon@yahoo.com</td><td class=\"tdhistory280569\"></td><td class=\"tdhistory280569\">3695CityBlvdWFallentimber</td><td class=\"tdhistory280569\">3695CityBlvdWFallentimber</td><td class=\"tdhistory280569\">B08B0A84F973C3F790E34D01FEC5558</td><td class=\"tdhistory280569\">Display</td><td class=\"tdhistory280569\">1</td></tr><tr><th class=\"tdhistory280569\" style= \"background: rgba(243, 243, 243, 0.75)\">21</th><td class=\"tdhistory280569\">19472</td><td class=\"tdhistory280569\">aguta@yahoo.com</td><td class=\"tdhistory280569\"></td><td class=\"tdhistory280569\">4634ElCaminoRealElysburg</td><td class=\"tdhistory280569\">4634ElCaminoRealElysburg</td><td class=\"tdhistory280569\">E68F98BD8E903C65CF93E750245666B6</td><td class=\"tdhistory280569\">Social</td><td class=\"tdhistory280569\">1</td></tr><tr><th class=\"tdhistory280569\" style= \"background: rgba(243, 243, 243, 0.75)\">22</th><td class=\"tdhistory280569\">19553</td><td class=\"tdhistory280569\">bo.li@teratitan.com</td><td class=\"tdhistory280569\">(617) 284-2673</td><td class=\"tdhistory280569\">3248NTorreyPinesRoadOakRidge</td><td class=\"tdhistory280569\">3248NTorreyPinesRoadOakRidge</td><td class=\"tdhistory280569\">368C1B6E30E1930927E0C0BF603DDB70</td><td class=\"tdhistory280569\">Email</td><td class=\"tdhistory280569\">1</td></tr><tr><th class=\"tdhistory280569\" style= \"background: rgba(243, 243, 243, 0.75)\">23</th><td class=\"tdhistory280569\">21862</td><td class=\"tdhistory280569\">fu.liu@teratitan.com</td><td class=\"tdhistory280569\"></td><td class=\"tdhistory280569\">4267SouthArroyoPkwyHogansburg</td><td class=\"tdhistory280569\">4267SouthArroyoPkwyHogansburg</td><td class=\"tdhistory280569\">B013B6A6B59CF4A772E1FFDAC6BE29F</td><td class=\"tdhistory280569\">Display</td><td class=\"tdhistory280569\">1</td></tr><tr><th class=\"tdhistory280569\" style= \"background: rgba(243, 243, 243, 0.75)\">24</th><td class=\"tdhistory280569\">22142</td><td class=\"tdhistory280569\">beatriz.gonsalves@teratitan.com</td><td class=\"tdhistory280569\">(510) 563-2532</td><td class=\"tdhistory280569\">1212FifthStreetFairfield</td><td class=\"tdhistory280569\">1212FifthStreetFairfield</td><td class=\"tdhistory280569\">44C13D702EBA675AE341AC9BF9C1B89</td><td class=\"tdhistory280569\">Email</td><td class=\"tdhistory280569\">1</td></tr><tr><th class=\"tdhistory280569\" style= \"background: rgba(243, 243, 243, 0.75)\">25</th><td class=\"tdhistory280569\">19579</td><td class=\"tdhistory280569\">pedro.gonsalves@teratitan.com</td><td class=\"tdhistory280569\">(434) 432-6306</td><td class=\"tdhistory280569\">1233ElCaminoRealGreenville</td><td class=\"tdhistory280569\">1233ElCaminoRealGreenville</td><td class=\"tdhistory280569\">9AB4BD59BCF976409A5887ED77EB333</td><td class=\"tdhistory280569\">Social</td><td class=\"tdhistory280569\">1</td></tr><tr><th class=\"tdhistory280569\" style= \"background: rgba(243, 243, 243, 0.75)\">26</th><td class=\"tdhistory280569\">22143</td><td class=\"tdhistory280569\">lucas.moreau@teratitan.com</td><td class=\"tdhistory280569\">(941) 929-3922</td><td class=\"tdhistory280569\">1455SixthStreetWinchester</td><td class=\"tdhistory280569\">1455SixthStreetWinchester</td><td class=\"tdhistory280569\">B0273ABF9237CD15EA547F97104D46FA</td><td class=\"tdhistory280569\">Email</td><td class=\"tdhistory280569\">1</td></tr><tr><th class=\"tdhistory280569\" style= \"background: rgba(243, 243, 243, 0.75)\">27</th><td class=\"tdhistory280569\">19463</td><td class=\"tdhistory280569\">apatel@gmail.com</td><td class=\"tdhistory280569\">(304) 864-1382</td><td class=\"tdhistory280569\">1676MainStWaiteville</td><td class=\"tdhistory280569\">1676MainStWaiteville</td><td class=\"tdhistory280569\">A2D7671FDB136EDACC21D4CE4E25F6C1</td><td class=\"tdhistory280569\">Email</td><td class=\"tdhistory280569\">1</td></tr><tr><th class=\"tdhistory280569\" style= \"background: rgba(243, 243, 243, 0.75)\">28</th><td class=\"tdhistory280569\">19397</td><td class=\"tdhistory280569\">bmartins@gmail.com</td><td class=\"tdhistory280569\">(216) 364-9325</td><td class=\"tdhistory280569\">2178HydeStreetAshley</td><td class=\"tdhistory280569\">2178HydeStreetAshley</td><td class=\"tdhistory280569\">71A74C1B65E8370D688067478FB958</td><td class=\"tdhistory280569\">Search</td><td class=\"tdhistory280569\">1</td></tr><tr><th class=\"tdhistory280569\" style= \"background: rgba(243, 243, 243, 0.75)\">29</th><td class=\"tdhistory280569\">20521</td><td class=\"tdhistory280569\">bgonsalves@gmail.com</td><td class=\"tdhistory280569\">(509) 567-1484</td><td class=\"tdhistory280569\">1896MasonStreetHighlandFalls</td><td class=\"tdhistory280569\">1896MasonStreetHighlandFalls</td><td class=\"tdhistory280569\">9363AB7AE6B9E16D493E717B4FC9C70</td><td class=\"tdhistory280569\">Email</td><td class=\"tdhistory280569\">1</td></tr><tr><th class=\"tdhistory280569\" style= \"background: rgba(243, 243, 243, 0.75)\">30</th><td class=\"tdhistory280569\">19310</td><td class=\"tdhistory280569\">isabella.mayer@teratitan.com</td><td class=\"tdhistory280569\">(360) 692-8811</td><td class=\"tdhistory280569\">2670MusicConcourseDrFranklinSprings</td><td class=\"tdhistory280569\">2670MusicConcoursDrFranklinSprings</td><td class=\"tdhistory280569\">ABA85B63EE0DAD5C1A7DF14321F61AC2</td><td class=\"tdhistory280569\">Social</td><td class=\"tdhistory280569\">0.9904761904761905</td></tr><tr><th class=\"tdhistory280569\" style= \"background: rgba(243, 243, 243, 0.75)\">31</th><td class=\"tdhistory280569\">19649</td><td class=\"tdhistory280569\">vteixeira@gmail.com</td><td class=\"tdhistory280569\"></td><td class=\"tdhistory280569\">2384ManhattanAvenueBridgeport</td><td class=\"tdhistory280569\">2384ManhatanAvenueBridgeport</td><td class=\"tdhistory280569\">A1AA755BB886ABC1665AAB8F708BA164</td><td class=\"tdhistory280569\">Display</td><td class=\"tdhistory280569\">0.9885057471264368</td></tr><tr><th class=\"tdhistory280569\" style= \"background: rgba(243, 243, 243, 0.75)\">32</th><td class=\"tdhistory280569\">19457</td><td class=\"tdhistory280569\">rafael.benitez@teratitan.com</td><td class=\"tdhistory280569\">(785) 435-7536</td><td class=\"tdhistory280569\">2808FillmoreStreetBrooklyn</td><td class=\"tdhistory280569\">2808FilmoreStreetBrooklyn</td><td class=\"tdhistory280569\">2A2361F8D9C155E6789CD58A6C7A0F0</td><td class=\"tdhistory280569\">Email</td><td class=\"tdhistory280569\">0.9871794871794872</td></tr><tr><th class=\"tdhistory280569\" style= \"background: rgba(243, 243, 243, 0.75)\">33</th><td class=\"tdhistory280569\">19377</td><td class=\"tdhistory280569\">christopher.brown@teratitan.com</td><td class=\"tdhistory280569\"></td><td class=\"tdhistory280569\">4839FillmoreStreetArtie</td><td class=\"tdhistory280569\">4839FilmoreStreetArtie</td><td class=\"tdhistory280569\">F7DC6533675B20757A2A5F119805B7C</td><td class=\"tdhistory280569\">Social</td><td class=\"tdhistory280569\">0.9855072463768115</td></tr><tr><th class=\"tdhistory280569\" style= \"background: rgba(243, 243, 243, 0.75)\">34</th><td class=\"tdhistory280569\">19994</td><td class=\"tdhistory280569\">ethan.taylor@teratitan.com</td><td class=\"tdhistory280569\">(302) 953-9585</td><td class=\"tdhistory280569\">3601WillieMaysPlazaCanton</td><td class=\"tdhistory280569\">3601WillieMaysPlzCanton</td><td class=\"tdhistory280569\">117727C337813D50AAF628EA35A7470F</td><td class=\"tdhistory280569\">Social</td><td class=\"tdhistory280569\">0.9588405797101448</td></tr><tr><th class=\"tdhistory280569\" style= \"background: rgba(243, 243, 243, 0.75)\">35</th><td class=\"tdhistory280569\">20557</td><td class=\"tdhistory280569\">lfari@yahoo.com</td><td class=\"tdhistory280569\"></td><td class=\"tdhistory280569\">4161PineStreetAlbany</td><td class=\"tdhistory280569\">4161PinStreetAlbany</td><td class=\"tdhistory280569\">57915704D0E07D5E71BB37FCC74028B1</td><td class=\"tdhistory280569\">Display</td><td class=\"tdhistory280569\">0.9482456140350877</td></tr><tr><th class=\"tdhistory280569\" style= \"background: rgba(243, 243, 243, 0.75)\">36</th><td class=\"tdhistory280569\">20158</td><td class=\"tdhistory280569\">nishi.mahawar@teratitan.com</td><td class=\"tdhistory280569\">(619) 912-4407</td><td class=\"tdhistory280569\">2440AbbotKinneyKane</td><td class=\"tdhistory280569\">2440AbbotKineyKane</td><td class=\"tdhistory280569\">833F46D6A8D13CF742D69C9B6F27D2E6</td><td class=\"tdhistory280569\">Display</td><td class=\"tdhistory280569\">0.94541910331384</td></tr><tr><th class=\"tdhistory280569\" style= \"background: rgba(243, 243, 243, 0.75)\">37</th><td class=\"tdhistory280569\">19562</td><td class=\"tdhistory280569\">anna.winkler@teratitan.com</td><td class=\"tdhistory280569\"></td><td class=\"tdhistory280569\">2823JonesSausageRdRochester</td><td class=\"tdhistory280569\">2823JonesSausageRochester</td><td class=\"tdhistory280569\">C6F42C9899C7CEAF78D19ACD1B7B8D9B</td><td class=\"tdhistory280569\">Social</td><td class=\"tdhistory280569\">0.9219753086419753</td></tr><tr><th class=\"tdhistory280569\" style= \"background: rgba(243, 243, 243, 0.75)\">38</th><td class=\"tdhistory280569\">19540</td><td class=\"tdhistory280569\">jmartin@outlook.com</td><td class=\"tdhistory280569\"></td><td class=\"tdhistory280569\">491CedarStreetHamilton</td><td class=\"tdhistory280569\">491CedrStreetHamilton</td><td class=\"tdhistory280569\">F1A8A5675E5036CC2CC5ECDC26D1A313</td><td class=\"tdhistory280569\">Email</td><td class=\"tdhistory280569\">0.9213564213564215</td></tr><tr><th class=\"tdhistory280569\" style= \"background: rgba(243, 243, 243, 0.75)\">39</th><td class=\"tdhistory280569\">19948</td><td class=\"tdhistory280569\">asouza@yahoo.com</td><td class=\"tdhistory280569\"></td><td class=\"tdhistory280569\">4245SnuffMillRoadSomerdale</td><td class=\"tdhistory280569\">4245SnuffMillRdSomerdale</td><td class=\"tdhistory280569\">3427606FBCDAF543BD334F93D2C17AF6</td><td class=\"tdhistory280569\">Search</td><td class=\"tdhistory280569\">0.9188034188034188</td></tr><tr><th class=\"tdhistory280569\" style= \"background: rgba(243, 243, 243, 0.75)\">40</th><td class=\"tdhistory280569\">21705</td><td class=\"tdhistory280569\">mrocha@gmail.com</td><td class=\"tdhistory280569\">(917) 904-2312</td><td class=\"tdhistory280569\">2588CurtisMillRoadStockton</td><td class=\"tdhistory280569\">2588CurtisMillRdStockton</td><td class=\"tdhistory280569\">AEFF363C2DE8F1B4287233D7E6FB423</td><td class=\"tdhistory280569\">Social</td><td class=\"tdhistory280569\">0.9188034188034188</td></tr><tr><th class=\"tdhistory280569\" style= \"background: rgba(243, 243, 243, 0.75)\">41</th><td class=\"tdhistory280569\">21902</td><td class=\"tdhistory280569\">jgomes@yahoo.com</td><td class=\"tdhistory280569\"></td><td class=\"tdhistory280569\">4321FifthStreetLatty</td><td class=\"tdhistory280569\">4321FilfthStreetLatty</td><td class=\"tdhistory280569\">517E7D1C4CBF13FAC7D1BE18214A312</td><td class=\"tdhistory280569\">Display</td><td class=\"tdhistory280569\">0.9174603174603174</td></tr><tr><th class=\"tdhistory280569\" style= \"background: rgba(243, 243, 243, 0.75)\">42</th><td class=\"tdhistory280569\">19674</td><td class=\"tdhistory280569\">lregoo@yahoo.com</td><td class=\"tdhistory280569\"></td><td class=\"tdhistory280569\">4205NinthStreetWestFarmington</td><td class=\"tdhistory280569\">4205NinthStreeWestFarmington</td><td class=\"tdhistory280569\">593EBF1F7F37D94F4716FBE7A6ACCC3</td><td class=\"tdhistory280569\">Email</td><td class=\"tdhistory280569\">0.9170771756978654</td></tr><tr><th class=\"tdhistory280569\" style= \"background: rgba(243, 243, 243, 0.75)\">43</th><td class=\"tdhistory280569\">22099</td><td class=\"tdhistory280569\">asmith@gmail.com</td><td class=\"tdhistory280569\">(253) 403-8318</td><td class=\"tdhistory280569\">2253MelroseAvenueBrooklyn</td><td class=\"tdhistory280569\">2253MelroseAveBrooklyn</td><td class=\"tdhistory280569\">2AE67BA5E179764FC0297BB7BD329A65</td><td class=\"tdhistory280569\">Display</td><td class=\"tdhistory280569\">0.9145454545454546</td></tr><tr><th class=\"tdhistory280569\" style= \"background: rgba(243, 243, 243, 0.75)\">44</th><td class=\"tdhistory280569\">21635</td><td class=\"tdhistory280569\">alexander.muller@teratitan.com</td><td class=\"tdhistory280569\"></td><td class=\"tdhistory280569\">3649MainStreetYork</td><td class=\"tdhistory280569\">3649MainStYork</td><td class=\"tdhistory280569\">9856C1982CB8FD2ABF9AC11CB7A9FD</td><td class=\"tdhistory280569\">Display</td><td class=\"tdhistory280569\">0.9021164021164022</td></tr></tbody></table></div>"
      ]
     },
     "execution_count": 32,
     "metadata": {
      "application/vnd.teradata.resultset": "{\"resultSetID\":\"/home/jovyan/JupyterLabRoot/Teradata/Resultsets/2023.12.21_06.27.24.441_UTC\",\"historyID\":276,\"chunkID\":\"00001\",\"sessionid\":\"\",\"portnum\":\"\",\"dockermode\":\"docker\",\"totalRowCount\":44,\"chunkCount\":0,\"rowLimit\":0,\"columnMetadata\":[{\"columnName\":\"CUST_ID\",\"columnTypeName\":\"SMALLINT\"},{\"columnNumber\":1,\"columnName\":\"EMAIL\",\"columnTypeName\":\"VARCHAR\",\"length\":31,\"scale\":31},{\"columnNumber\":2,\"columnName\":\"PHONE\",\"columnTypeName\":\"VARCHAR\",\"length\":14,\"scale\":14},{\"columnNumber\":3,\"columnName\":\"GR2_KEY\",\"columnTypeName\":\"VARCHAR\",\"length\":50,\"scale\":50},{\"columnNumber\":4,\"columnName\":\"TAGGING_KEY\",\"columnTypeName\":\"VARCHAR\",\"length\":50,\"scale\":50},{\"columnNumber\":5,\"columnName\":\"COOKIE\",\"columnTypeName\":\"VARCHAR\",\"length\":32,\"scale\":32},{\"columnNumber\":6,\"columnName\":\"CAMPAIGN\",\"columnTypeName\":\"VARCHAR\",\"length\":7,\"scale\":7},{\"columnNumber\":7,\"columnName\":\"jaro\",\"columnTypeName\":\"FLOAT\"}]}"
     },
     "output_type": "execute_result"
    }
   ],
   "source": [
    "SELECT * FROM C360_MatchABCD_V ORDER BY jaro DESC"
   ]
  },
  {
   "cell_type": "markdown",
   "id": "79e6a947",
   "metadata": {},
   "source": [
    "<p style = 'font-size:16px;font-family:Arial;color:#00233C'>We find that out of the 45 in the cookie table, 44 were matched.</p>"
   ]
  },
  {
   "cell_type": "code",
   "execution_count": 33,
   "id": "1aa7465b",
   "metadata": {},
   "outputs": [
    {
     "data": {
      "application/vnd.teradata.resultset": "\"Count(*)\"\n\"45\"",
      "text/html": [
       "<div class = \"td-resultset-table-div\" style = \"max-height: 100%; overflow-y: auto\">\n",
       "      <table class=\"tdhistory58459\"><style>\n",
       "      table.tdhistory58459 { display: block !important; min-height: 105px !important; overflow: auto !important; height: 105px !important; width: 100% !important; border: 1px solid rgb(207, 207, 207) !important; border-collapse: collapse !important; ; color: var(--jp-ui-font-color1) !important; }\n",
       "      th.tdhistory58459 { border: 1px solid rgb(198,198,198) !important; border-collapse: collapse !important; ; padding: 2px 5px !important; ; font-size: 13px !important; ; text-align: center !important; white-space: normal !important; color: var(--jp-ui-font-color1) !important; }\n",
       "      th.tdhistory58459:last-child { text-align: left !important; }\n",
       "      tbody.tdhistory58459 tr:nth-child(even) { background: rgba(243, 243, 243, 0.75) !important; }\n",
       "      tbody.tdhistory58459 tr:nth-child(odd) { background: var(--jp-ui-inverse-font-color1) !important; }\n",
       "      td.tdhistory58459 { border: 1px solid rgb(207, 207, 207) !important; border-collapse: collapse !important; ; padding: 2px 5px !important; ; font-size: 13px !important; ; text-align: left !important;          white-space: nowrap !important; overflow:hidden !important; text-overflow:ellipsis !important;; }\n",
       "    </style><thead><tr style= \"background: rgba(243, 243, 243, 0.75)\"><th class=\"tdhistory58459\"></th><th class=\"tdhistory58459\">Count(*)</th></tr></thead><tbody class=\"tdhistory58459 resultset-body\"><tr><th class=\"tdhistory58459\" style= \"background: rgba(243, 243, 243, 0.75)\">1</th><td class=\"tdhistory58459\">45</td></tr></tbody></table></div>"
      ]
     },
     "execution_count": 33,
     "metadata": {
      "application/vnd.teradata.resultset": "{\"resultSetID\":\"/home/jovyan/JupyterLabRoot/Teradata/Resultsets/2023.12.21_06.27.24.514_UTC\",\"historyID\":277,\"chunkID\":\"00001\",\"sessionid\":\"\",\"portnum\":\"\",\"dockermode\":\"docker\",\"totalRowCount\":1,\"chunkCount\":0,\"rowLimit\":0,\"columnMetadata\":[{\"columnName\":\"Count(*)\",\"columnTypeName\":\"INTEGER\"}]}"
     },
     "output_type": "execute_result"
    }
   ],
   "source": [
    "SELECT COUNT(*) FROM DEMO_Customer360.Cookie"
   ]
  },
  {
   "cell_type": "code",
   "execution_count": 34,
   "id": "c674ee59",
   "metadata": {},
   "outputs": [
    {
     "data": {
      "application/vnd.teradata.resultset": "\"Count(*)\"\n\"44\"",
      "text/html": [
       "<div class = \"td-resultset-table-div\" style = \"max-height: 100%; overflow-y: auto\">\n",
       "      <table class=\"tdhistory540460\"><style>\n",
       "      table.tdhistory540460 { display: block !important; min-height: 105px !important; overflow: auto !important; height: 105px !important; width: 100% !important; border: 1px solid rgb(207, 207, 207) !important; border-collapse: collapse !important; ; color: var(--jp-ui-font-color1) !important; }\n",
       "      th.tdhistory540460 { border: 1px solid rgb(198,198,198) !important; border-collapse: collapse !important; ; padding: 2px 5px !important; ; font-size: 13px !important; ; text-align: center !important; white-space: normal !important; color: var(--jp-ui-font-color1) !important; }\n",
       "      th.tdhistory540460:last-child { text-align: left !important; }\n",
       "      tbody.tdhistory540460 tr:nth-child(even) { background: rgba(243, 243, 243, 0.75) !important; }\n",
       "      tbody.tdhistory540460 tr:nth-child(odd) { background: var(--jp-ui-inverse-font-color1) !important; }\n",
       "      td.tdhistory540460 { border: 1px solid rgb(207, 207, 207) !important; border-collapse: collapse !important; ; padding: 2px 5px !important; ; font-size: 13px !important; ; text-align: left !important;          white-space: nowrap !important; overflow:hidden !important; text-overflow:ellipsis !important;; }\n",
       "    </style><thead><tr style= \"background: rgba(243, 243, 243, 0.75)\"><th class=\"tdhistory540460\"></th><th class=\"tdhistory540460\">Count(*)</th></tr></thead><tbody class=\"tdhistory540460 resultset-body\"><tr><th class=\"tdhistory540460\" style= \"background: rgba(243, 243, 243, 0.75)\">1</th><td class=\"tdhistory540460\">44</td></tr></tbody></table></div>"
      ]
     },
     "execution_count": 34,
     "metadata": {
      "application/vnd.teradata.resultset": "{\"resultSetID\":\"/home/jovyan/JupyterLabRoot/Teradata/Resultsets/2023.12.21_06.27.26.357_UTC\",\"historyID\":278,\"chunkID\":\"00001\",\"sessionid\":\"\",\"portnum\":\"\",\"dockermode\":\"docker\",\"totalRowCount\":1,\"chunkCount\":0,\"rowLimit\":0,\"columnMetadata\":[{\"columnName\":\"Count(*)\",\"columnTypeName\":\"INTEGER\"}]}"
     },
     "output_type": "execute_result"
    }
   ],
   "source": [
    "SELECT COUNT(*) FROM C360_MatchABCD_V"
   ]
  },
  {
   "cell_type": "markdown",
   "id": "5cc1624e-cf4d-4162-9477-797c37a73571",
   "metadata": {},
   "source": [
    "<p style = 'font-size:16px;font-family:Arial;color:#00233C'>We see that Jessica's physical address was matched between the two lists.</p>"
   ]
  },
  {
   "cell_type": "code",
   "execution_count": 35,
   "id": "352b3646-d2a7-4d10-8306-2f47e3ebc1fa",
   "metadata": {},
   "outputs": [
    {
     "data": {
      "application/vnd.teradata.resultset": "\"CUST_ID\",\"EMAIL\",\"PHONE\",\"GR2_KEY\",\"TAGGING_KEY\",\"COOKIE\",\"CAMPAIGN\",\"jaro\"\n\"21903\",\"jrego@yahoo.com\",\"(530) 696-4308\",\"3114ParkStreetNashport\",\"3114ParkStreetNashport\",\"2846E54D5FFE2905099AC6E23014DF7\",\"Email\",\"1\"",
      "text/html": [
       "<div class = \"td-resultset-table-div\" style = \"max-height: 100%; overflow-y: auto\">\n",
       "      <table class=\"tdhistory879722\"><style>\n",
       "      table.tdhistory879722 { display: block !important; min-height: 105px !important; overflow: auto !important; height: 105px !important; width: 100% !important; border: 1px solid rgb(207, 207, 207) !important; border-collapse: collapse !important; ; color: var(--jp-ui-font-color1) !important; }\n",
       "      th.tdhistory879722 { border: 1px solid rgb(198,198,198) !important; border-collapse: collapse !important; ; padding: 2px 5px !important; ; font-size: 13px !important; ; text-align: center !important; white-space: normal !important; color: var(--jp-ui-font-color1) !important; }\n",
       "      th.tdhistory879722:last-child { text-align: left !important; }\n",
       "      tbody.tdhistory879722 tr:nth-child(even) { background: rgba(243, 243, 243, 0.75) !important; }\n",
       "      tbody.tdhistory879722 tr:nth-child(odd) { background: var(--jp-ui-inverse-font-color1) !important; }\n",
       "      td.tdhistory879722 { border: 1px solid rgb(207, 207, 207) !important; border-collapse: collapse !important; ; padding: 2px 5px !important; ; font-size: 13px !important; ; text-align: left !important;          white-space: nowrap !important; overflow:hidden !important; text-overflow:ellipsis !important;; }\n",
       "    </style><thead><tr style= \"background: rgba(243, 243, 243, 0.75)\"><th class=\"tdhistory879722\"></th><th class=\"tdhistory879722\">CUST_ID</th><th class=\"tdhistory879722\">EMAIL</th><th class=\"tdhistory879722\">PHONE</th><th class=\"tdhistory879722\">GR2_KEY</th><th class=\"tdhistory879722\">TAGGING_KEY</th><th class=\"tdhistory879722\">COOKIE</th><th class=\"tdhistory879722\">CAMPAIGN</th><th class=\"tdhistory879722\">jaro</th></tr></thead><tbody class=\"tdhistory879722 resultset-body\"><tr><th class=\"tdhistory879722\" style= \"background: rgba(243, 243, 243, 0.75)\">1</th><td class=\"tdhistory879722\">21903</td><td class=\"tdhistory879722\">jrego@yahoo.com</td><td class=\"tdhistory879722\">(530) 696-4308</td><td class=\"tdhistory879722\">3114ParkStreetNashport</td><td class=\"tdhistory879722\">3114ParkStreetNashport</td><td class=\"tdhistory879722\">2846E54D5FFE2905099AC6E23014DF7</td><td class=\"tdhistory879722\">Email</td><td class=\"tdhistory879722\">1</td></tr></tbody></table></div>"
      ]
     },
     "execution_count": 35,
     "metadata": {
      "application/vnd.teradata.resultset": "{\"resultSetID\":\"/home/jovyan/JupyterLabRoot/Teradata/Resultsets/2023.12.21_06.27.28.773_UTC\",\"historyID\":279,\"chunkID\":\"00001\",\"sessionid\":\"\",\"portnum\":\"\",\"dockermode\":\"docker\",\"totalRowCount\":1,\"chunkCount\":0,\"rowLimit\":0,\"columnMetadata\":[{\"columnName\":\"CUST_ID\",\"columnTypeName\":\"SMALLINT\"},{\"columnNumber\":1,\"columnName\":\"EMAIL\",\"columnTypeName\":\"VARCHAR\",\"length\":31,\"scale\":31},{\"columnNumber\":2,\"columnName\":\"PHONE\",\"columnTypeName\":\"VARCHAR\",\"length\":14,\"scale\":14},{\"columnNumber\":3,\"columnName\":\"GR2_KEY\",\"columnTypeName\":\"VARCHAR\",\"length\":50,\"scale\":50},{\"columnNumber\":4,\"columnName\":\"TAGGING_KEY\",\"columnTypeName\":\"VARCHAR\",\"length\":50,\"scale\":50},{\"columnNumber\":5,\"columnName\":\"COOKIE\",\"columnTypeName\":\"VARCHAR\",\"length\":32,\"scale\":32},{\"columnNumber\":6,\"columnName\":\"CAMPAIGN\",\"columnTypeName\":\"VARCHAR\",\"length\":7,\"scale\":7},{\"columnNumber\":7,\"columnName\":\"jaro\",\"columnTypeName\":\"FLOAT\"}]}"
     },
     "output_type": "execute_result"
    }
   ],
   "source": [
    "SELECT * FROM C360_MatchABCD_V WHERE GR2_KEY LIKE '%3114Park%'"
   ]
  },
  {
   "cell_type": "markdown",
   "id": "40e9daa6",
   "metadata": {},
   "source": [
    "<hr style=\"height:1px;border:none;background-color:#00233C;\">\n",
    "<p style = 'font-size:18px;font-family:Arial;color:#00233C'><b>6.2 - Join tables to create intermediate golden record</b></p>\n",
    "\n",
    "<p style = 'font-size:16px;font-family:Arial;color:#00233C'>Using the CUST_ID, we create another interim golden record from merged intermediate golden record and cookie tables.</p>"
   ]
  },
  {
   "cell_type": "code",
   "execution_count": 36,
   "id": "abadbdae",
   "metadata": {},
   "outputs": [
    {
     "data": {
      "text/plain": [
       "Success: 0 rows affected"
      ]
     },
     "execution_count": 36,
     "metadata": {
      "application/vnd.teradata.resultset": ""
     },
     "output_type": "execute_result"
    }
   ],
   "source": [
    "REPLACE VIEW C360_GR3_V AS (\n",
    "    SELECT gr2.CUST_ID, gr2.LOYALTY_NUM, gr2.GENDER, \n",
    "           gr2.FIRSTNAME, gr2.LASTNAME, \n",
    "           gr2.ADDRESS, gr2.STATE, gr2.CITY, gr2.ZIP, gr2.EMAIL,gr2.PHONE,\n",
    "           mabcd.COOKIE,\n",
    "           mabcd.CAMPAIGN \n",
    "    FROM C360_GR2_V gr2 LEFT JOIN C360_MatchABCD_V mabcd\n",
    "    ON gr2.CUST_ID = mabcd.CUST_ID\n",
    ")"
   ]
  },
  {
   "cell_type": "code",
   "execution_count": 37,
   "id": "48c33389",
   "metadata": {},
   "outputs": [
    {
     "data": {
      "application/vnd.teradata.resultset": "\"CUST_ID\",\"LOYALTY_NUM\",\"GENDER\",\"FIRSTNAME\",\"LASTNAME\",\"ADDRESS\",\"STATE\",\"CITY\",\"ZIP\",\"EMAIL\",\"PHONE\",\"COOKIE\",\"CAMPAIGN\"\n\"20350\",\"1143641\",\"M\",\"Clement\",\"Vincent\",\"6236 Burnt Mill Road\",\"OH\",\"Edon\",\"43518\",\"clement.vincent@teratitan.com\",\"\",\"\",\"\"\n\"19372\",\"1118440\",\"F\",\"Fei\",\"Zhou\",\"5957 Hill Street\",\"PA\",\"Harrisburg\",\"17128\",\"fzhou@outlook.com\",\"\",\"\",\"\"\n\"20575\",\"1233911\",\"F\",\"Laura\",\"DeSilva\",\"11 Red Mill Road\",\"PA\",\"New Castle\",\"16105\",\"ldesilva@gmail.com\",\"(570) 387-2031\",\"AB7DBCFFD0AD5577560D8B545A842B41\",\"Display\"\n\"21635\",\"2242698\",\"M\",\"Alexander\",\"Muller\",\"3649 Main Street\",\"PA\",\"York\",\"17407\",\"alexander.muller@teratitan.com\",\"\",\"9856C1982CB8FD2ABF9AC11CB7A9FD\",\"Display\"\n\"19410\",\"6170383\",\"M\",\"Rodrigo\",\"Gonsalves\",\"7150 Second Street\",\"PA\",\"Refton\",\"17568\",\"rgonsalvez@outlook.com\",\"\",\"\",\"\"",
      "text/html": [
       "<div class = \"td-resultset-table-div\" style = \"max-height: 100%; overflow-y: auto\">\n",
       "      <table class=\"tdhistory237158\"><style>\n",
       "      table.tdhistory237158 { display: block !important; min-height: 189px !important; overflow: auto !important; height: 189px !important; width: 100% !important; border: 1px solid rgb(207, 207, 207) !important; border-collapse: collapse !important; ; color: var(--jp-ui-font-color1) !important; }\n",
       "      th.tdhistory237158 { border: 1px solid rgb(198,198,198) !important; border-collapse: collapse !important; ; padding: 2px 5px !important; ; font-size: 13px !important; ; text-align: center !important; white-space: normal !important; color: var(--jp-ui-font-color1) !important; }\n",
       "      th.tdhistory237158:last-child { text-align: left !important; }\n",
       "      tbody.tdhistory237158 tr:nth-child(even) { background: rgba(243, 243, 243, 0.75) !important; }\n",
       "      tbody.tdhistory237158 tr:nth-child(odd) { background: var(--jp-ui-inverse-font-color1) !important; }\n",
       "      td.tdhistory237158 { border: 1px solid rgb(207, 207, 207) !important; border-collapse: collapse !important; ; padding: 2px 5px !important; ; font-size: 13px !important; ; text-align: left !important;          white-space: nowrap !important; overflow:hidden !important; text-overflow:ellipsis !important;; }\n",
       "    </style><thead><tr style= \"background: rgba(243, 243, 243, 0.75)\"><th class=\"tdhistory237158\"></th><th class=\"tdhistory237158\">CUST_ID</th><th class=\"tdhistory237158\">LOYALTY_NUM</th><th class=\"tdhistory237158\">GENDER</th><th class=\"tdhistory237158\">FIRSTNAME</th><th class=\"tdhistory237158\">LASTNAME</th><th class=\"tdhistory237158\">ADDRESS</th><th class=\"tdhistory237158\">STATE</th><th class=\"tdhistory237158\">CITY</th><th class=\"tdhistory237158\">ZIP</th><th class=\"tdhistory237158\">EMAIL</th><th class=\"tdhistory237158\">PHONE</th><th class=\"tdhistory237158\">COOKIE</th><th class=\"tdhistory237158\">CAMPAIGN</th></tr></thead><tbody class=\"tdhistory237158 resultset-body\"><tr><th class=\"tdhistory237158\" style= \"background: rgba(243, 243, 243, 0.75)\">1</th><td class=\"tdhistory237158\">20350</td><td class=\"tdhistory237158\">1143641</td><td class=\"tdhistory237158\">M</td><td class=\"tdhistory237158\">Clement</td><td class=\"tdhistory237158\">Vincent</td><td class=\"tdhistory237158\">6236 Burnt Mill Road</td><td class=\"tdhistory237158\">OH</td><td class=\"tdhistory237158\">Edon</td><td class=\"tdhistory237158\">43518</td><td class=\"tdhistory237158\">clement.vincent@teratitan.com</td><td class=\"tdhistory237158\"></td><td class=\"tdhistory237158\"></td><td class=\"tdhistory237158\"></td></tr><tr><th class=\"tdhistory237158\" style= \"background: rgba(243, 243, 243, 0.75)\">2</th><td class=\"tdhistory237158\">19372</td><td class=\"tdhistory237158\">1118440</td><td class=\"tdhistory237158\">F</td><td class=\"tdhistory237158\">Fei</td><td class=\"tdhistory237158\">Zhou</td><td class=\"tdhistory237158\">5957 Hill Street</td><td class=\"tdhistory237158\">PA</td><td class=\"tdhistory237158\">Harrisburg</td><td class=\"tdhistory237158\">17128</td><td class=\"tdhistory237158\">fzhou@outlook.com</td><td class=\"tdhistory237158\"></td><td class=\"tdhistory237158\"></td><td class=\"tdhistory237158\"></td></tr><tr><th class=\"tdhistory237158\" style= \"background: rgba(243, 243, 243, 0.75)\">3</th><td class=\"tdhistory237158\">20575</td><td class=\"tdhistory237158\">1233911</td><td class=\"tdhistory237158\">F</td><td class=\"tdhistory237158\">Laura</td><td class=\"tdhistory237158\">DeSilva</td><td class=\"tdhistory237158\">11 Red Mill Road</td><td class=\"tdhistory237158\">PA</td><td class=\"tdhistory237158\">New Castle</td><td class=\"tdhistory237158\">16105</td><td class=\"tdhistory237158\">ldesilva@gmail.com</td><td class=\"tdhistory237158\">(570) 387-2031</td><td class=\"tdhistory237158\">AB7DBCFFD0AD5577560D8B545A842B41</td><td class=\"tdhistory237158\">Display</td></tr><tr><th class=\"tdhistory237158\" style= \"background: rgba(243, 243, 243, 0.75)\">4</th><td class=\"tdhistory237158\">21635</td><td class=\"tdhistory237158\">2242698</td><td class=\"tdhistory237158\">M</td><td class=\"tdhistory237158\">Alexander</td><td class=\"tdhistory237158\">Muller</td><td class=\"tdhistory237158\">3649 Main Street</td><td class=\"tdhistory237158\">PA</td><td class=\"tdhistory237158\">York</td><td class=\"tdhistory237158\">17407</td><td class=\"tdhistory237158\">alexander.muller@teratitan.com</td><td class=\"tdhistory237158\"></td><td class=\"tdhistory237158\">9856C1982CB8FD2ABF9AC11CB7A9FD</td><td class=\"tdhistory237158\">Display</td></tr><tr><th class=\"tdhistory237158\" style= \"background: rgba(243, 243, 243, 0.75)\">5</th><td class=\"tdhistory237158\">19410</td><td class=\"tdhistory237158\">6170383</td><td class=\"tdhistory237158\">M</td><td class=\"tdhistory237158\">Rodrigo</td><td class=\"tdhistory237158\">Gonsalves</td><td class=\"tdhistory237158\">7150 Second Street</td><td class=\"tdhistory237158\">PA</td><td class=\"tdhistory237158\">Refton</td><td class=\"tdhistory237158\">17568</td><td class=\"tdhistory237158\">rgonsalvez@outlook.com</td><td class=\"tdhistory237158\"></td><td class=\"tdhistory237158\"></td><td class=\"tdhistory237158\"></td></tr></tbody></table></div>"
      ]
     },
     "execution_count": 37,
     "metadata": {
      "application/vnd.teradata.resultset": "{\"resultSetID\":\"/home/jovyan/JupyterLabRoot/Teradata/Resultsets/2023.12.21_06.27.32.294_UTC\",\"historyID\":281,\"chunkID\":\"00001\",\"sessionid\":\"\",\"portnum\":\"\",\"dockermode\":\"docker\",\"totalRowCount\":5,\"chunkCount\":0,\"rowLimit\":0,\"columnMetadata\":[{\"columnName\":\"CUST_ID\",\"columnTypeName\":\"SMALLINT\"},{\"columnNumber\":1,\"columnName\":\"LOYALTY_NUM\",\"columnTypeName\":\"INTEGER\"},{\"columnNumber\":2,\"columnName\":\"GENDER\",\"columnTypeName\":\"VARCHAR\",\"length\":1,\"scale\":1},{\"columnNumber\":3,\"columnName\":\"FIRSTNAME\",\"columnTypeName\":\"VARCHAR\",\"length\":11,\"scale\":11},{\"columnNumber\":4,\"columnName\":\"LASTNAME\",\"columnTypeName\":\"VARCHAR\",\"length\":9,\"scale\":9},{\"columnNumber\":5,\"columnName\":\"ADDRESS\",\"columnTypeName\":\"VARCHAR\",\"length\":25,\"scale\":25},{\"columnNumber\":6,\"columnName\":\"STATE\",\"columnTypeName\":\"VARCHAR\",\"length\":2,\"scale\":2},{\"columnNumber\":7,\"columnName\":\"CITY\",\"columnTypeName\":\"VARCHAR\",\"length\":16,\"scale\":16},{\"columnNumber\":8,\"columnName\":\"ZIP\",\"columnTypeName\":\"INTEGER\"},{\"columnNumber\":9,\"columnName\":\"EMAIL\",\"columnTypeName\":\"VARCHAR\",\"length\":31,\"scale\":31},{\"columnNumber\":10,\"columnName\":\"PHONE\",\"columnTypeName\":\"VARCHAR\",\"length\":14,\"scale\":14},{\"columnNumber\":11,\"columnName\":\"COOKIE\",\"columnTypeName\":\"VARCHAR\",\"length\":32,\"scale\":32},{\"columnNumber\":12,\"columnName\":\"CAMPAIGN\",\"columnTypeName\":\"VARCHAR\",\"length\":7,\"scale\":7}]}"
     },
     "output_type": "execute_result"
    }
   ],
   "source": [
    "SELECT TOP 5 * FROM C360_GR3_V"
   ]
  },
  {
   "cell_type": "markdown",
   "id": "24a3e354-c321-404d-83e7-f44b36085fe3",
   "metadata": {},
   "source": [
    "<p style = 'font-size:16px;font-family:Arial;color:#00233C'>We see that Jessica's record has been updated with a cookie and a campaign.</p>"
   ]
  },
  {
   "cell_type": "code",
   "execution_count": 38,
   "id": "7585ba3d",
   "metadata": {},
   "outputs": [
    {
     "data": {
      "application/vnd.teradata.resultset": "\"CUST_ID\",\"LOYALTY_NUM\",\"GENDER\",\"FIRSTNAME\",\"LASTNAME\",\"ADDRESS\",\"STATE\",\"CITY\",\"ZIP\",\"EMAIL\",\"PHONE\",\"COOKIE\",\"CAMPAIGN\"\n\"21903\",\"1460445\",\"F\",\"Jessica\",\"Rego\",\"3114 Park Street\",\"OH\",\"Nashport\",\"43830\",\"jrego@yahoo.com\",\"(530) 696-4308\",\"2846E54D5FFE2905099AC6E23014DF7\",\"Email\"",
      "text/html": [
       "<div class = \"td-resultset-table-div\" style = \"max-height: 100%; overflow-y: auto\">\n",
       "      <table class=\"tdhistory957505\"><style>\n",
       "      table.tdhistory957505 { display: block !important; min-height: 105px !important; overflow: auto !important; height: 105px !important; width: 100% !important; border: 1px solid rgb(207, 207, 207) !important; border-collapse: collapse !important; ; color: var(--jp-ui-font-color1) !important; }\n",
       "      th.tdhistory957505 { border: 1px solid rgb(198,198,198) !important; border-collapse: collapse !important; ; padding: 2px 5px !important; ; font-size: 13px !important; ; text-align: center !important; white-space: normal !important; color: var(--jp-ui-font-color1) !important; }\n",
       "      th.tdhistory957505:last-child { text-align: left !important; }\n",
       "      tbody.tdhistory957505 tr:nth-child(even) { background: rgba(243, 243, 243, 0.75) !important; }\n",
       "      tbody.tdhistory957505 tr:nth-child(odd) { background: var(--jp-ui-inverse-font-color1) !important; }\n",
       "      td.tdhistory957505 { border: 1px solid rgb(207, 207, 207) !important; border-collapse: collapse !important; ; padding: 2px 5px !important; ; font-size: 13px !important; ; text-align: left !important;          white-space: nowrap !important; overflow:hidden !important; text-overflow:ellipsis !important;; }\n",
       "    </style><thead><tr style= \"background: rgba(243, 243, 243, 0.75)\"><th class=\"tdhistory957505\"></th><th class=\"tdhistory957505\">CUST_ID</th><th class=\"tdhistory957505\">LOYALTY_NUM</th><th class=\"tdhistory957505\">GENDER</th><th class=\"tdhistory957505\">FIRSTNAME</th><th class=\"tdhistory957505\">LASTNAME</th><th class=\"tdhistory957505\">ADDRESS</th><th class=\"tdhistory957505\">STATE</th><th class=\"tdhistory957505\">CITY</th><th class=\"tdhistory957505\">ZIP</th><th class=\"tdhistory957505\">EMAIL</th><th class=\"tdhistory957505\">PHONE</th><th class=\"tdhistory957505\">COOKIE</th><th class=\"tdhistory957505\">CAMPAIGN</th></tr></thead><tbody class=\"tdhistory957505 resultset-body\"><tr><th class=\"tdhistory957505\" style= \"background: rgba(243, 243, 243, 0.75)\">1</th><td class=\"tdhistory957505\">21903</td><td class=\"tdhistory957505\">1460445</td><td class=\"tdhistory957505\">F</td><td class=\"tdhistory957505\">Jessica</td><td class=\"tdhistory957505\">Rego</td><td class=\"tdhistory957505\">3114 Park Street</td><td class=\"tdhistory957505\">OH</td><td class=\"tdhistory957505\">Nashport</td><td class=\"tdhistory957505\">43830</td><td class=\"tdhistory957505\">jrego@yahoo.com</td><td class=\"tdhistory957505\">(530) 696-4308</td><td class=\"tdhistory957505\">2846E54D5FFE2905099AC6E23014DF7</td><td class=\"tdhistory957505\">Email</td></tr></tbody></table></div>"
      ]
     },
     "execution_count": 38,
     "metadata": {
      "application/vnd.teradata.resultset": "{\"resultSetID\":\"/home/jovyan/JupyterLabRoot/Teradata/Resultsets/2023.12.21_06.27.35.990_UTC\",\"historyID\":282,\"chunkID\":\"00001\",\"sessionid\":\"\",\"portnum\":\"\",\"dockermode\":\"docker\",\"totalRowCount\":1,\"chunkCount\":0,\"rowLimit\":0,\"columnMetadata\":[{\"columnName\":\"CUST_ID\",\"columnTypeName\":\"SMALLINT\"},{\"columnNumber\":1,\"columnName\":\"LOYALTY_NUM\",\"columnTypeName\":\"INTEGER\"},{\"columnNumber\":2,\"columnName\":\"GENDER\",\"columnTypeName\":\"VARCHAR\",\"length\":1,\"scale\":1},{\"columnNumber\":3,\"columnName\":\"FIRSTNAME\",\"columnTypeName\":\"VARCHAR\",\"length\":11,\"scale\":11},{\"columnNumber\":4,\"columnName\":\"LASTNAME\",\"columnTypeName\":\"VARCHAR\",\"length\":9,\"scale\":9},{\"columnNumber\":5,\"columnName\":\"ADDRESS\",\"columnTypeName\":\"VARCHAR\",\"length\":25,\"scale\":25},{\"columnNumber\":6,\"columnName\":\"STATE\",\"columnTypeName\":\"VARCHAR\",\"length\":2,\"scale\":2},{\"columnNumber\":7,\"columnName\":\"CITY\",\"columnTypeName\":\"VARCHAR\",\"length\":16,\"scale\":16},{\"columnNumber\":8,\"columnName\":\"ZIP\",\"columnTypeName\":\"INTEGER\"},{\"columnNumber\":9,\"columnName\":\"EMAIL\",\"columnTypeName\":\"VARCHAR\",\"length\":31,\"scale\":31},{\"columnNumber\":10,\"columnName\":\"PHONE\",\"columnTypeName\":\"VARCHAR\",\"length\":14,\"scale\":14},{\"columnNumber\":11,\"columnName\":\"COOKIE\",\"columnTypeName\":\"VARCHAR\",\"length\":32,\"scale\":32},{\"columnNumber\":12,\"columnName\":\"CAMPAIGN\",\"columnTypeName\":\"VARCHAR\",\"length\":7,\"scale\":7}]}"
     },
     "output_type": "execute_result"
    }
   ],
   "source": [
    "SELECT * FROM C360_GR3_V WHERE FIRSTNAME = 'Jessica' AND LASTNAME = 'Rego'"
   ]
  },
  {
   "cell_type": "markdown",
   "id": "fc37c299",
   "metadata": {},
   "source": [
    "<hr style=\"height:2px;border:none;background-color:#00233C;\">\n",
    "<p style = 'font-size:20px;font-family:Arial;color:#00233C'><b>7. Calculate Lifetime Value Across All Channels</b></p>\n",
    "\n",
    "<p style = 'font-size:16px;font-family:Arial;color:#00233C'>Finally, we calculate the lifetime value by taking into account the channel lifetime value from equipment and online as well as the cost to service a customer from the call center using the formula:<br>\n",
    "&ensp; LTV = Equipment Purchases + Online Services Sales - Call Center Cost<br>\n",
    "    Since this is the final calculation, we will write out our results to a table rather than a view.</p>"
   ]
  },
  {
   "cell_type": "code",
   "execution_count": 39,
   "id": "b959ab86",
   "metadata": {},
   "outputs": [
    {
     "data": {
      "text/plain": [
       "Success: 0 rows affected"
      ]
     },
     "execution_count": 39,
     "metadata": {
      "application/vnd.teradata.resultset": ""
     },
     "output_type": "execute_result"
    }
   ],
   "source": [
    "CREATE TABLE C360_GoldenRecord AS (\n",
    "    SELECT gr3.CUST_ID, gr3.LOYALTY_NUM, gr3.GENDER, \n",
    "           gr3.FIRSTNAME, gr3.LASTNAME, gr3.EMAIL,gr3.PHONE,\n",
    "           gr3.ADDRESS, gr3.STATE, gr3.CITY, gr3.ZIP, \n",
    "           COALESCE(e.EQUIP_LTV,0) as EQUIPLTV , COALESCE(o.ONLINE_LTV,0) as ONLINELTV, COALESCE(c.CALL_CENTER_COST,0) as CALLCENTER_COST,\n",
    "            gr3.COOKIE, gr3.CAMPAIGN,\n",
    "           EQUIPLTV + ONLINELTV - CALLCENTER_COST as LTV\n",
    "    FROM C360_GR3_V gr3 LEFT JOIN DEMO_Customer360.Equipment e ON gr3.CUST_ID = e.CUST_ID\n",
    "    LEFT JOIN DEMO_Customer360.Online o ON gr3.EMAIL = o.EMAIL\n",
    "    LEFT JOIN DEMO_Customer360.CallCenter c ON gr3.PHONE= c.PHONE\n",
    "    \n",
    "    )\n",
    "WITH DATA;"
   ]
  },
  {
   "cell_type": "code",
   "execution_count": 40,
   "id": "5b960cd7",
   "metadata": {},
   "outputs": [
    {
     "data": {
      "application/vnd.teradata.resultset": "\"CUST_ID\",\"LOYALTY_NUM\",\"GENDER\",\"FIRSTNAME\",\"LASTNAME\",\"EMAIL\",\"PHONE\",\"ADDRESS\",\"STATE\",\"CITY\",\"ZIP\",\"EQUIPLTV\",\"ONLINELTV\",\"CALLCENTER_COST\",\"COOKIE\",\"CAMPAIGN\",\"LTV\"\n\"19980\",\"\",\"F\",\"Maria\",\"Silva\",\"\",\"\",\"8147 Center Mill Road\",\"WV\",\"Kellysville\",\"24732\",\"5095\",\"0\",\"0\",\"\",\"\",\"5095\"\n\"19364\",\"\",\"F\",\"Chen-chi\",\"Wang\",\"\",\"\",\"7703 Fifth Street\",\"OH\",\"Fredericksburg\",\"44627\",\"6188\",\"0\",\"0\",\"\",\"\",\"6188\"\n\"22018\",\"4479603\",\"M\",\"Sahil\",\"Sharma\",\"sahil.sharma@teratitan.com\",\"\",\"3739 Barley Mill Road\",\"NY\",\"Brooklyn\",\"11252\",\"6198\",\"1931\",\"0\",\"DD884D7B1EE46E7B6E1BF8DA9B10988F\",\"Search\",\"8129\"\n\"19614\",\"\",\"M\",\"Clement\",\"Bertrand\",\"\",\"\",\"5606 Paper Mill Road\",\"NY\",\"Rochester\",\"14660\",\"5705\",\"0\",\"0\",\"\",\"\",\"5705\"\n\"20350\",\"1143641\",\"M\",\"Clement\",\"Vincent\",\"clement.vincent@teratitan.com\",\"\",\"6236 Burnt Mill Road\",\"OH\",\"Edon\",\"43518\",\"5762\",\"649\",\"0\",\"\",\"\",\"6411\"",
      "text/html": [
       "<div class = \"td-resultset-table-div\" style = \"max-height: 100%; overflow-y: auto\">\n",
       "      <table class=\"tdhistory143286\"><style>\n",
       "      table.tdhistory143286 { display: block !important; min-height: 189px !important; overflow: auto !important; height: 189px !important; width: 100% !important; border: 1px solid rgb(207, 207, 207) !important; border-collapse: collapse !important; ; color: var(--jp-ui-font-color1) !important; }\n",
       "      th.tdhistory143286 { border: 1px solid rgb(198,198,198) !important; border-collapse: collapse !important; ; padding: 2px 5px !important; ; font-size: 13px !important; ; text-align: center !important; white-space: normal !important; color: var(--jp-ui-font-color1) !important; }\n",
       "      th.tdhistory143286:last-child { text-align: left !important; }\n",
       "      tbody.tdhistory143286 tr:nth-child(even) { background: rgba(243, 243, 243, 0.75) !important; }\n",
       "      tbody.tdhistory143286 tr:nth-child(odd) { background: var(--jp-ui-inverse-font-color1) !important; }\n",
       "      td.tdhistory143286 { border: 1px solid rgb(207, 207, 207) !important; border-collapse: collapse !important; ; padding: 2px 5px !important; ; font-size: 13px !important; ; text-align: left !important;          white-space: nowrap !important; overflow:hidden !important; text-overflow:ellipsis !important;; }\n",
       "    </style><thead><tr style= \"background: rgba(243, 243, 243, 0.75)\"><th class=\"tdhistory143286\"></th><th class=\"tdhistory143286\">CUST_ID</th><th class=\"tdhistory143286\">LOYALTY_NUM</th><th class=\"tdhistory143286\">GENDER</th><th class=\"tdhistory143286\">FIRSTNAME</th><th class=\"tdhistory143286\">LASTNAME</th><th class=\"tdhistory143286\">EMAIL</th><th class=\"tdhistory143286\">PHONE</th><th class=\"tdhistory143286\">ADDRESS</th><th class=\"tdhistory143286\">STATE</th><th class=\"tdhistory143286\">CITY</th><th class=\"tdhistory143286\">ZIP</th><th class=\"tdhistory143286\">EQUIPLTV</th><th class=\"tdhistory143286\">ONLINELTV</th><th class=\"tdhistory143286\">CALLCENTER_COST</th><th class=\"tdhistory143286\">COOKIE</th><th class=\"tdhistory143286\">CAMPAIGN</th><th class=\"tdhistory143286\">LTV</th></tr></thead><tbody class=\"tdhistory143286 resultset-body\"><tr><th class=\"tdhistory143286\" style= \"background: rgba(243, 243, 243, 0.75)\">1</th><td class=\"tdhistory143286\">19980</td><td class=\"tdhistory143286\"></td><td class=\"tdhistory143286\">F</td><td class=\"tdhistory143286\">Maria</td><td class=\"tdhistory143286\">Silva</td><td class=\"tdhistory143286\"></td><td class=\"tdhistory143286\"></td><td class=\"tdhistory143286\">8147 Center Mill Road</td><td class=\"tdhistory143286\">WV</td><td class=\"tdhistory143286\">Kellysville</td><td class=\"tdhistory143286\">24732</td><td class=\"tdhistory143286\">5095</td><td class=\"tdhistory143286\">0</td><td class=\"tdhistory143286\">0</td><td class=\"tdhistory143286\"></td><td class=\"tdhistory143286\"></td><td class=\"tdhistory143286\">5095</td></tr><tr><th class=\"tdhistory143286\" style= \"background: rgba(243, 243, 243, 0.75)\">2</th><td class=\"tdhistory143286\">19364</td><td class=\"tdhistory143286\"></td><td class=\"tdhistory143286\">F</td><td class=\"tdhistory143286\">Chen-chi</td><td class=\"tdhistory143286\">Wang</td><td class=\"tdhistory143286\"></td><td class=\"tdhistory143286\"></td><td class=\"tdhistory143286\">7703 Fifth Street</td><td class=\"tdhistory143286\">OH</td><td class=\"tdhistory143286\">Fredericksburg</td><td class=\"tdhistory143286\">44627</td><td class=\"tdhistory143286\">6188</td><td class=\"tdhistory143286\">0</td><td class=\"tdhistory143286\">0</td><td class=\"tdhistory143286\"></td><td class=\"tdhistory143286\"></td><td class=\"tdhistory143286\">6188</td></tr><tr><th class=\"tdhistory143286\" style= \"background: rgba(243, 243, 243, 0.75)\">3</th><td class=\"tdhistory143286\">22018</td><td class=\"tdhistory143286\">4479603</td><td class=\"tdhistory143286\">M</td><td class=\"tdhistory143286\">Sahil</td><td class=\"tdhistory143286\">Sharma</td><td class=\"tdhistory143286\">sahil.sharma@teratitan.com</td><td class=\"tdhistory143286\"></td><td class=\"tdhistory143286\">3739 Barley Mill Road</td><td class=\"tdhistory143286\">NY</td><td class=\"tdhistory143286\">Brooklyn</td><td class=\"tdhistory143286\">11252</td><td class=\"tdhistory143286\">6198</td><td class=\"tdhistory143286\">1931</td><td class=\"tdhistory143286\">0</td><td class=\"tdhistory143286\">DD884D7B1EE46E7B6E1BF8DA9B10988F</td><td class=\"tdhistory143286\">Search</td><td class=\"tdhistory143286\">8129</td></tr><tr><th class=\"tdhistory143286\" style= \"background: rgba(243, 243, 243, 0.75)\">4</th><td class=\"tdhistory143286\">19614</td><td class=\"tdhistory143286\"></td><td class=\"tdhistory143286\">M</td><td class=\"tdhistory143286\">Clement</td><td class=\"tdhistory143286\">Bertrand</td><td class=\"tdhistory143286\"></td><td class=\"tdhistory143286\"></td><td class=\"tdhistory143286\">5606 Paper Mill Road</td><td class=\"tdhistory143286\">NY</td><td class=\"tdhistory143286\">Rochester</td><td class=\"tdhistory143286\">14660</td><td class=\"tdhistory143286\">5705</td><td class=\"tdhistory143286\">0</td><td class=\"tdhistory143286\">0</td><td class=\"tdhistory143286\"></td><td class=\"tdhistory143286\"></td><td class=\"tdhistory143286\">5705</td></tr><tr><th class=\"tdhistory143286\" style= \"background: rgba(243, 243, 243, 0.75)\">5</th><td class=\"tdhistory143286\">20350</td><td class=\"tdhistory143286\">1143641</td><td class=\"tdhistory143286\">M</td><td class=\"tdhistory143286\">Clement</td><td class=\"tdhistory143286\">Vincent</td><td class=\"tdhistory143286\">clement.vincent@teratitan.com</td><td class=\"tdhistory143286\"></td><td class=\"tdhistory143286\">6236 Burnt Mill Road</td><td class=\"tdhistory143286\">OH</td><td class=\"tdhistory143286\">Edon</td><td class=\"tdhistory143286\">43518</td><td class=\"tdhistory143286\">5762</td><td class=\"tdhistory143286\">649</td><td class=\"tdhistory143286\">0</td><td class=\"tdhistory143286\"></td><td class=\"tdhistory143286\"></td><td class=\"tdhistory143286\">6411</td></tr></tbody></table></div>"
      ]
     },
     "execution_count": 40,
     "metadata": {
      "application/vnd.teradata.resultset": "{\"resultSetID\":\"/home/jovyan/JupyterLabRoot/Teradata/Resultsets/2023.12.21_06.27.39.391_UTC\",\"historyID\":284,\"chunkID\":\"00001\",\"sessionid\":\"\",\"portnum\":\"\",\"dockermode\":\"docker\",\"totalRowCount\":5,\"chunkCount\":0,\"rowLimit\":0,\"columnMetadata\":[{\"columnName\":\"CUST_ID\",\"columnTypeName\":\"SMALLINT\"},{\"columnNumber\":1,\"columnName\":\"LOYALTY_NUM\",\"columnTypeName\":\"INTEGER\"},{\"columnNumber\":2,\"columnName\":\"GENDER\",\"columnTypeName\":\"VARCHAR\",\"length\":1,\"scale\":1},{\"columnNumber\":3,\"columnName\":\"FIRSTNAME\",\"columnTypeName\":\"VARCHAR\",\"length\":11,\"scale\":11},{\"columnNumber\":4,\"columnName\":\"LASTNAME\",\"columnTypeName\":\"VARCHAR\",\"length\":9,\"scale\":9},{\"columnNumber\":5,\"columnName\":\"EMAIL\",\"columnTypeName\":\"VARCHAR\",\"length\":31,\"scale\":31},{\"columnNumber\":6,\"columnName\":\"PHONE\",\"columnTypeName\":\"VARCHAR\",\"length\":14,\"scale\":14},{\"columnNumber\":7,\"columnName\":\"ADDRESS\",\"columnTypeName\":\"VARCHAR\",\"length\":25,\"scale\":25},{\"columnNumber\":8,\"columnName\":\"STATE\",\"columnTypeName\":\"VARCHAR\",\"length\":2,\"scale\":2},{\"columnNumber\":9,\"columnName\":\"CITY\",\"columnTypeName\":\"VARCHAR\",\"length\":16,\"scale\":16},{\"columnNumber\":10,\"columnName\":\"ZIP\",\"columnTypeName\":\"INTEGER\"},{\"columnNumber\":11,\"columnName\":\"EQUIPLTV\",\"columnTypeName\":\"SMALLINT\"},{\"columnNumber\":12,\"columnName\":\"ONLINELTV\",\"columnTypeName\":\"SMALLINT\"},{\"columnNumber\":13,\"columnName\":\"CALLCENTER_COST\",\"columnTypeName\":\"BYTEINT\"},{\"columnNumber\":14,\"columnName\":\"COOKIE\",\"columnTypeName\":\"VARCHAR\",\"length\":32,\"scale\":32},{\"columnNumber\":15,\"columnName\":\"CAMPAIGN\",\"columnTypeName\":\"VARCHAR\",\"length\":7,\"scale\":7},{\"columnNumber\":16,\"columnName\":\"LTV\",\"columnTypeName\":\"INTEGER\"}]}"
     },
     "output_type": "execute_result"
    }
   ],
   "source": [
    "SELECT TOP 5 * FROM C360_GoldenRecord"
   ]
  },
  {
   "cell_type": "markdown",
   "id": "e3359662-3469-45c2-9759-270b48f7809d",
   "metadata": {},
   "source": [
    "<p style = 'font-size:16px;font-family:Arial;color:#00233C'>Focusing in on Jessica, we see her lifetime value across all channels.</p>"
   ]
  },
  {
   "cell_type": "code",
   "execution_count": 41,
   "id": "adf5018b",
   "metadata": {},
   "outputs": [
    {
     "data": {
      "application/vnd.teradata.resultset": "\"CUST_ID\",\"LOYALTY_NUM\",\"GENDER\",\"FIRSTNAME\",\"LASTNAME\",\"EMAIL\",\"PHONE\",\"ADDRESS\",\"STATE\",\"CITY\",\"ZIP\",\"EQUIPLTV\",\"ONLINELTV\",\"CALLCENTER_COST\",\"COOKIE\",\"CAMPAIGN\",\"LTV\"\n\"21903\",\"1460445\",\"F\",\"Jessica\",\"Rego\",\"jrego@yahoo.com\",\"(530) 696-4308\",\"3114 Park Street\",\"OH\",\"Nashport\",\"43830\",\"6952\",\"1696\",\"50\",\"2846E54D5FFE2905099AC6E23014DF7\",\"Email\",\"8598\"",
      "text/html": [
       "<div class = \"td-resultset-table-div\" style = \"max-height: 100%; overflow-y: auto\">\n",
       "      <table class=\"tdhistory907354\"><style>\n",
       "      table.tdhistory907354 { display: block !important; min-height: 105px !important; overflow: auto !important; height: 105px !important; width: 100% !important; border: 1px solid rgb(207, 207, 207) !important; border-collapse: collapse !important; ; color: var(--jp-ui-font-color1) !important; }\n",
       "      th.tdhistory907354 { border: 1px solid rgb(198,198,198) !important; border-collapse: collapse !important; ; padding: 2px 5px !important; ; font-size: 13px !important; ; text-align: center !important; white-space: normal !important; color: var(--jp-ui-font-color1) !important; }\n",
       "      th.tdhistory907354:last-child { text-align: left !important; }\n",
       "      tbody.tdhistory907354 tr:nth-child(even) { background: rgba(243, 243, 243, 0.75) !important; }\n",
       "      tbody.tdhistory907354 tr:nth-child(odd) { background: var(--jp-ui-inverse-font-color1) !important; }\n",
       "      td.tdhistory907354 { border: 1px solid rgb(207, 207, 207) !important; border-collapse: collapse !important; ; padding: 2px 5px !important; ; font-size: 13px !important; ; text-align: left !important;          white-space: nowrap !important; overflow:hidden !important; text-overflow:ellipsis !important;; }\n",
       "    </style><thead><tr style= \"background: rgba(243, 243, 243, 0.75)\"><th class=\"tdhistory907354\"></th><th class=\"tdhistory907354\">CUST_ID</th><th class=\"tdhistory907354\">LOYALTY_NUM</th><th class=\"tdhistory907354\">GENDER</th><th class=\"tdhistory907354\">FIRSTNAME</th><th class=\"tdhistory907354\">LASTNAME</th><th class=\"tdhistory907354\">EMAIL</th><th class=\"tdhistory907354\">PHONE</th><th class=\"tdhistory907354\">ADDRESS</th><th class=\"tdhistory907354\">STATE</th><th class=\"tdhistory907354\">CITY</th><th class=\"tdhistory907354\">ZIP</th><th class=\"tdhistory907354\">EQUIPLTV</th><th class=\"tdhistory907354\">ONLINELTV</th><th class=\"tdhistory907354\">CALLCENTER_COST</th><th class=\"tdhistory907354\">COOKIE</th><th class=\"tdhistory907354\">CAMPAIGN</th><th class=\"tdhistory907354\">LTV</th></tr></thead><tbody class=\"tdhistory907354 resultset-body\"><tr><th class=\"tdhistory907354\" style= \"background: rgba(243, 243, 243, 0.75)\">1</th><td class=\"tdhistory907354\">21903</td><td class=\"tdhistory907354\">1460445</td><td class=\"tdhistory907354\">F</td><td class=\"tdhistory907354\">Jessica</td><td class=\"tdhistory907354\">Rego</td><td class=\"tdhistory907354\">jrego@yahoo.com</td><td class=\"tdhistory907354\">(530) 696-4308</td><td class=\"tdhistory907354\">3114 Park Street</td><td class=\"tdhistory907354\">OH</td><td class=\"tdhistory907354\">Nashport</td><td class=\"tdhistory907354\">43830</td><td class=\"tdhistory907354\">6952</td><td class=\"tdhistory907354\">1696</td><td class=\"tdhistory907354\">50</td><td class=\"tdhistory907354\">2846E54D5FFE2905099AC6E23014DF7</td><td class=\"tdhistory907354\">Email</td><td class=\"tdhistory907354\">8598</td></tr></tbody></table></div>"
      ]
     },
     "execution_count": 41,
     "metadata": {
      "application/vnd.teradata.resultset": "{\"resultSetID\":\"/home/jovyan/JupyterLabRoot/Teradata/Resultsets/2023.12.21_06.27.39.457_UTC\",\"historyID\":285,\"chunkID\":\"00001\",\"sessionid\":\"\",\"portnum\":\"\",\"dockermode\":\"docker\",\"totalRowCount\":1,\"chunkCount\":0,\"rowLimit\":0,\"columnMetadata\":[{\"columnName\":\"CUST_ID\",\"columnTypeName\":\"SMALLINT\"},{\"columnNumber\":1,\"columnName\":\"LOYALTY_NUM\",\"columnTypeName\":\"INTEGER\"},{\"columnNumber\":2,\"columnName\":\"GENDER\",\"columnTypeName\":\"VARCHAR\",\"length\":1,\"scale\":1},{\"columnNumber\":3,\"columnName\":\"FIRSTNAME\",\"columnTypeName\":\"VARCHAR\",\"length\":11,\"scale\":11},{\"columnNumber\":4,\"columnName\":\"LASTNAME\",\"columnTypeName\":\"VARCHAR\",\"length\":9,\"scale\":9},{\"columnNumber\":5,\"columnName\":\"EMAIL\",\"columnTypeName\":\"VARCHAR\",\"length\":31,\"scale\":31},{\"columnNumber\":6,\"columnName\":\"PHONE\",\"columnTypeName\":\"VARCHAR\",\"length\":14,\"scale\":14},{\"columnNumber\":7,\"columnName\":\"ADDRESS\",\"columnTypeName\":\"VARCHAR\",\"length\":25,\"scale\":25},{\"columnNumber\":8,\"columnName\":\"STATE\",\"columnTypeName\":\"VARCHAR\",\"length\":2,\"scale\":2},{\"columnNumber\":9,\"columnName\":\"CITY\",\"columnTypeName\":\"VARCHAR\",\"length\":16,\"scale\":16},{\"columnNumber\":10,\"columnName\":\"ZIP\",\"columnTypeName\":\"INTEGER\"},{\"columnNumber\":11,\"columnName\":\"EQUIPLTV\",\"columnTypeName\":\"SMALLINT\"},{\"columnNumber\":12,\"columnName\":\"ONLINELTV\",\"columnTypeName\":\"SMALLINT\"},{\"columnNumber\":13,\"columnName\":\"CALLCENTER_COST\",\"columnTypeName\":\"BYTEINT\"},{\"columnNumber\":14,\"columnName\":\"COOKIE\",\"columnTypeName\":\"VARCHAR\",\"length\":32,\"scale\":32},{\"columnNumber\":15,\"columnName\":\"CAMPAIGN\",\"columnTypeName\":\"VARCHAR\",\"length\":7,\"scale\":7},{\"columnNumber\":16,\"columnName\":\"LTV\",\"columnTypeName\":\"INTEGER\"}]}"
     },
     "output_type": "execute_result"
    }
   ],
   "source": [
    "SELECT * FROM C360_GoldenRecord WHERE FIRSTNAME = 'Jessica' AND LASTNAME = 'Rego'"
   ]
  },
  {
   "cell_type": "markdown",
   "id": "d99d434c-2148-44ed-850c-665c6d449c93",
   "metadata": {},
   "source": [
    "<hr style=\"height:2px;border:none;background-color:#00233C;\">\n",
    "<p style = 'font-size:20px;font-family:Arial;color:#00233C'><b>8. Conclusion</b></p>\n",
    "\n",
    "<p style = 'font-size:16px;font-family:Arial;color:#00233C'>Thus by combinig the data from Multiple channels we are able to create a golden record for each customers and calculate the value based on the various channels used. This kind of combined data can be used for various kind of analysis including the one shown in this demo which calculates the life time value for each customers based on the various channels used by the customer and the cost involved.</p>"
   ]
  },
  {
   "cell_type": "markdown",
   "id": "b3f6ac2a-e8a0-4de1-98a1-1b91a8c7f085",
   "metadata": {},
   "source": [
    "<hr style=\"height:2px;border:none;background-color:#00233C;\">\n",
    "<p style = 'font-size:20px;font-family:Arial;color:#00233C'><b>9. Cleanup</b></p>\n",
    "<p style = 'font-size:18px;font-family:Arial;color:#00233C'><b>Work Tables</b></p>\n",
    "<p style = 'font-size:16px;font-family:Arial;color:#00233C'>Clean up the work tables to prevent error next time.</p>"
   ]
  },
  {
   "cell_type": "code",
   "execution_count": 42,
   "id": "3525bac0-8856-4cc2-9f3a-6eb0ba1ffdc1",
   "metadata": {},
   "outputs": [
    {
     "data": {
      "text/plain": [
       "Success: 12 rows affected"
      ]
     },
     "execution_count": 42,
     "metadata": {
      "application/vnd.teradata.resultset": ""
     },
     "output_type": "execute_result"
    }
   ],
   "source": [
    "DROP VIEW C360_MatchAB_V;"
   ]
  },
  {
   "cell_type": "code",
   "execution_count": 43,
   "id": "eee1fb61-71cc-448d-93cd-cd45f926dc72",
   "metadata": {},
   "outputs": [
    {
     "data": {
      "text/plain": [
       "Success: 16 rows affected"
      ]
     },
     "execution_count": 43,
     "metadata": {
      "application/vnd.teradata.resultset": ""
     },
     "output_type": "execute_result"
    }
   ],
   "source": [
    "DROP VIEW C360_gr1_V; "
   ]
  },
  {
   "cell_type": "code",
   "execution_count": 44,
   "id": "a1e1a9d1-20a7-44e0-9db8-53f42b501e0e",
   "metadata": {},
   "outputs": [
    {
     "data": {
      "text/plain": [
       "Success: 11 rows affected"
      ]
     },
     "execution_count": 44,
     "metadata": {
      "application/vnd.teradata.resultset": ""
     },
     "output_type": "execute_result"
    }
   ],
   "source": [
    "DROP VIEW C360_MatchABC_V;"
   ]
  },
  {
   "cell_type": "code",
   "execution_count": 45,
   "id": "f506f93e-3619-4eb4-baa5-62a99983c371",
   "metadata": {},
   "outputs": [
    {
     "data": {
      "text/plain": [
       "Success: 14 rows affected"
      ]
     },
     "execution_count": 45,
     "metadata": {
      "application/vnd.teradata.resultset": ""
     },
     "output_type": "execute_result"
    }
   ],
   "source": [
    "DROP VIEW C360_MatchABCD_V; "
   ]
  },
  {
   "cell_type": "code",
   "execution_count": 46,
   "id": "5f30b3c1-0b3e-4258-97a3-ec6f16725ba4",
   "metadata": {},
   "outputs": [
    {
     "data": {
      "text/plain": [
       "Success: 19 rows affected"
      ]
     },
     "execution_count": 46,
     "metadata": {
      "application/vnd.teradata.resultset": ""
     },
     "output_type": "execute_result"
    }
   ],
   "source": [
    "DROP VIEW C360_GR3_V; "
   ]
  },
  {
   "cell_type": "code",
   "execution_count": 47,
   "id": "38748366-dc8d-43e3-a07f-dbead5902c85",
   "metadata": {},
   "outputs": [
    {
     "data": {
      "text/plain": [
       "Success: 30 rows affected"
      ]
     },
     "execution_count": 47,
     "metadata": {
      "application/vnd.teradata.resultset": ""
     },
     "output_type": "execute_result"
    }
   ],
   "source": [
    "DROP TABLE C360_GoldenRecord;"
   ]
  },
  {
   "cell_type": "markdown",
   "id": "3b466641-72cb-4b97-b1a8-ac73bb53aa6f",
   "metadata": {},
   "source": [
    "<p style = 'font-size:18px;font-family:Arial;color:#00233C'><b>Databases and Tables</b></p>\n",
    "<p style = 'font-size:16px;font-family:Arial;color:#00233C'>The following code will clean up tables and databases created above.</p>\n"
   ]
  },
  {
   "cell_type": "code",
   "execution_count": 48,
   "id": "cf225777-6ea0-482e-858b-bc30068b02d5",
   "metadata": {},
   "outputs": [
    {
     "data": {
      "text/plain": [
       "Success: 0 rows affected"
      ]
     },
     "execution_count": 48,
     "metadata": {
      "application/vnd.teradata.resultset": ""
     },
     "output_type": "execute_result"
    },
    {
     "data": {
      "application/vnd.teradata.resultset": "\"Message\"\n\"Removed objects related to DEMO_Customer360. That ran for 0:00:04.61\"",
      "text/html": [
       "<div class = \"td-resultset-table-div\" style = \"max-height: 100%; overflow-y: auto\">\n",
       "      <table class=\"tdhistory823694\"><style>\n",
       "      table.tdhistory823694 { display: block !important; min-height: 105px !important; overflow: auto !important; height: 105px !important; width: 100% !important; border: 1px solid rgb(207, 207, 207) !important; border-collapse: collapse !important; ; color: var(--jp-ui-font-color1) !important; }\n",
       "      th.tdhistory823694 { border: 1px solid rgb(198,198,198) !important; border-collapse: collapse !important; ; padding: 2px 5px !important; ; font-size: 13px !important; ; text-align: center !important; white-space: normal !important; color: var(--jp-ui-font-color1) !important; }\n",
       "      th.tdhistory823694:last-child { text-align: left !important; }\n",
       "      tbody.tdhistory823694 tr:nth-child(even) { background: rgba(243, 243, 243, 0.75) !important; }\n",
       "      tbody.tdhistory823694 tr:nth-child(odd) { background: var(--jp-ui-inverse-font-color1) !important; }\n",
       "      td.tdhistory823694 { border: 1px solid rgb(207, 207, 207) !important; border-collapse: collapse !important; ; padding: 2px 5px !important; ; font-size: 13px !important; ; text-align: left !important;          white-space: nowrap !important; overflow:hidden !important; text-overflow:ellipsis !important;; }\n",
       "    </style><thead><tr style= \"background: rgba(243, 243, 243, 0.75)\"><th class=\"tdhistory823694\"></th><th class=\"tdhistory823694\">Message</th></tr></thead><tbody class=\"tdhistory823694 resultset-body\"><tr><th class=\"tdhistory823694\" style= \"background: rgba(243, 243, 243, 0.75)\">1</th><td class=\"tdhistory823694\">Removed objects related to DEMO_Customer360. That ran for 0:00:04.61</td></tr></tbody></table></div>"
      ]
     },
     "execution_count": 48,
     "metadata": {
      "application/vnd.teradata.resultset": "{\"resultSetID\":\"/home/jovyan/JupyterLabRoot/Teradata/Resultsets/2023.12.21_06.27.45.490_UTC\",\"historyID\":292,\"chunkID\":\"00001\",\"sessionid\":\"\",\"portnum\":\"\",\"dockermode\":\"docker\",\"totalRowCount\":1,\"chunkCount\":0,\"rowLimit\":0,\"columnMetadata\":[{\"columnName\":\"Message\",\"columnTypeName\":\"VARCHAR\",\"length\":70,\"scale\":70}]}"
     },
     "output_type": "execute_result"
    }
   ],
   "source": [
    "call remove_data('DEMO_Customer360'); "
   ]
  },
  {
   "cell_type": "markdown",
   "id": "138065f0-9519-413c-a510-81caff85b45a",
   "metadata": {},
   "source": [
    "<footer style=\"padding-bottom:35px; background:#f9f9f9; border-bottom:3px solid #00233C\">\n",
    "    <div style=\"float:left;margin-top:14px\">ClearScape Analytics™</div>\n",
    "    <div style=\"float:right;\">\n",
    "        <div style=\"float:left; margin-top:14px\">\n",
    "            Copyright © Teradata Corporation - 2023. All Rights Reserved\n",
    "        </div>\n",
    "    </div>\n",
    "</footer>"
   ]
  }
 ],
 "metadata": {
  "kernelspec": {
   "display_name": "Teradata SQL",
   "language": "Teradata SQL",
   "name": "teradatasql"
  },
  "language_info": {
   "codemirror_mode": "Teradata SQL",
   "file_extension": ".tdrs",
   "mimetype": "application/vnd.teradata.resultset",
   "name": "Teradata SQL",
   "nbconvert_exporter": "",
   "pygments_lexer": "",
   "version": "16.20"
  },
  "toc-showmarkdowntxt": true,
  "widgets": {
   "application/vnd.jupyter.widget-state+json": {
    "state": {},
    "version_major": 2,
    "version_minor": 0
   }
  }
 },
 "nbformat": 4,
 "nbformat_minor": 5
}
