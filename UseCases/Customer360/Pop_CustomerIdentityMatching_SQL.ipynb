{
 "cells": [
  {
   "cell_type": "markdown",
   "id": "e39130df",
   "metadata": {},
   "source": [
    "<header>\n",
    "   <p  style='font-size:36px;font-family:Arial; color:#F0F0F0; background-color: #00233c; padding-left: 20pt; padding-top: 20pt;padding-bottom: 10pt; padding-right: 20pt;'>\n",
    "       Creating the Golden Record and Possible Uses\n",
    "  <br>\n",
    "       <img id=\"teradata-logo\" src=\"https://storage.googleapis.com/clearscape_analytics_demo_data/DEMO_Logo/teradata.svg\" alt=\"Teradata\" style=\"width: 125px; height: auto; margin-top: 20pt;\">\n",
    "    </p>\n",
    "</header>\n"
   ]
  },
  {
   "cell_type": "markdown",
   "id": "5dae4f7d",
   "metadata": {},
   "source": [
    "<p style = 'font-size:20px;font-family:Arial;color:#00233C'><b>Introduction</b></p>\n",
    "<p style = 'font-size:16px;font-family:Arial;color:#00233C'>Companies rely on accurate customer valuations to correctly determine how to treat certain classes, what offers to serve them, and how much effort to exert in retaining them. Multi-channel companies often have silos of data from separate sales channels and supplement the data using third-party sources. These multi-channel companies need to combine the data souces to create a holistic view of their customers, particularly their valuation. This demonstration showcases Vantage's capabilities in matching customers from different datasets.</p>\n",
    "\n",
    "<p style = 'font-size:16px;font-family:Arial;color:#00233C'>Data analysts match customers across different data sources by calculating the similarity between two names (or other fields) using one of several distance measurements. Steps involved in matching two strings are:</p>\n",
    "\n",
    "<table style = 'width:100%;table-layout:fixed;'>\n",
    "    <tr>\n",
    "        <td style = 'vertical-align:top' width = '50%'>\n",
    "            <ol style = 'font-size:16px;font-family:Arial;color:#00233C'>\n",
    "                <li>Select one string to be the base and the other to be the target</li>\n",
    "                <br>\n",
    "                <li>Select a string comparison type to use. Examples include Jaro, Jaro-Winkler, Hamming, and cosine</li>\n",
    "                <br>\n",
    "                <li>Determine the number of insertions, deletions, replacements, and tranpositions needed to morph the base string into the target string</li>\n",
    "                <br>\n",
    "                <li>Calculate the similarity of the two strings by using the formula for the string comparison type chosen and the insertions, deletions, replacements, and transposes</li>\n",
    "            </ol>\n",
    "        </td>\n",
    "        <td><img src = 'images/counting.png' width = '250'></td>\n",
    "    </tr>\n",
    "</table>\n",
    "\n",
    "\n",
    "<b style = 'font-size:16px;font-family:Arial;color:#00233C'>Leverage native Vantage processing for efficient data field matching workflows</b>\n",
    "\n",
    "<p style = 'font-size:16px;font-family:Arial;color:#00233C'>ClearScape Analytics provides a StringSimilarity function to calculate how close two key strings are. Typically, analysts will use different key strings depending on the lists. For example, matching on name works when combining two customer lists, whereas matching on physical addresses works when comparing a customer list with a household list.</p>\n",
    "\n",
    "<p style = 'font-size:16px;font-family:Arial;color:#00233C'>Data engineers  combine lists two at a time. For instance, combining four lists A, B, C, and D involves three matching steps. The first step combines A and B to form AB. The second step combines lists AB with C to form ABC. The final step combines ABC with D to form ABCD. Each step requires its own matching table and possibly different key strings.</p>\n",
    "\n",
    "<img src = 'images/fourlists.png' width = 50% align = \"center\">\n"
   ]
  },
  {
   "cell_type": "markdown",
   "id": "4adcffde",
   "metadata": {},
   "source": [
    "<b style = 'font-size:20px;font-family:Arial;color:#00233C'>Data</b>\n",
    "\n",
    "<p style = 'font-size:16px;font-family:Arial;color:#00233C'>The data for this demonstration is based on a brick-and-mortar equipment distributor selling to farmers in four states: New York, Ohio, Pennsylvania, and West Virginia. Over time, this company built a reliable customer list. As customers asked for electronic monitoring service, the company employed an online partner to sell this product. The company also outsourced its call center to a third-party to handle customer service at a cost. Finally, the company worked with a digital marketing group to place cookies on website visitors.</p>\n",
    "\n",
    "\n",
    "<p style = 'font-size:16px;font-family:Arial;color:#00233C'>The goal is to create a golden record of customers by combining the four lists mentioned above.  Steps in this demonstration are as follows:</p>\n",
    "\n",
    "<table style = 'width:100%;table-layout:fixed;'>\n",
    "    <tr>\n",
    "        <td style = 'vertical-align:top' width = '50%'>\n",
    "            <ol style = 'font-size:16px;font-family:Arial;color:#00233C'>\n",
    "                <li>Analyze the raw data from each of the four sources</li>\n",
    "                <br>\n",
    "                <li>Append matched online data to the equipment data</li>\n",
    "                <br>\n",
    "                <li>Append call center data</li>\n",
    "                <br>\n",
    "                <li>Append tagging data</li>\n",
    "                <br>\n",
    "                <li>Calculate lifetime value</li>\n",
    "            </ol>\n",
    "        </td>\n",
    "        <td><img src = 'images/process.png' width = '250'></td>\n",
    "    </tr>\n",
    "</table>"
   ]
  },
  {
   "cell_type": "markdown",
   "id": "75157714-ad50-40f0-bd0e-38fea9f76c1e",
   "metadata": {},
   "source": [
    "<hr style=\"height:2px;border:none;background-color:#00233C;\">\n",
    "\n",
    "<p style = 'font-size:20px;font-family:Arial;color:#00233C'><b>1. Connect to Vantage </b></p>\n",
    "<p style = 'font-size:16px;font-family:Arial;color:#00233C'>You will be prompted to provide the password. Enter your password, press Enter, then use down arrow to go to next cell.</p>"
   ]
  },
  {
   "cell_type": "code",
   "execution_count": 1,
   "id": "ba7c1828-741a-4089-a21e-f7ea46a4f577",
   "metadata": {
    "tags": []
   },
   "outputs": [
    {
     "name": "stdin",
     "output_type": "stream",
     "text": [
      "Password: ········\n"
     ]
    },
    {
     "name": "stdout",
     "output_type": "stream",
     "text": [
      "Success: 'local' connection established and activated for user 'demo_user', with default database 'demo_user'\n"
     ]
    }
   ],
   "source": [
    "%connect local, hidewarnings=true"
   ]
  },
  {
   "cell_type": "markdown",
   "id": "cad4f702-9018-4deb-b5e6-aa4f1d3b0cef",
   "metadata": {},
   "source": [
    "<p style = 'font-size:16px;font-family:Arial;color:#00233C'>Setup for execution of notebook. Begin running steps with Shift + Enter keys.</p>\n"
   ]
  },
  {
   "cell_type": "code",
   "execution_count": 2,
   "id": "d165bf64-906e-46c7-afe0-ac577a19d201",
   "metadata": {},
   "outputs": [
    {
     "data": {
      "text/plain": [
       "Success: 1 rows affected"
      ]
     },
     "execution_count": 2,
     "metadata": {
      "application/vnd.teradata.resultset": ""
     },
     "output_type": "execute_result"
    }
   ],
   "source": [
    "Set query_band='DEMO=CustomerIdentityMatching_SQL.ipynb;' update for session;"
   ]
  },
  {
   "cell_type": "markdown",
   "id": "cd952154-8e89-473c-a4e1-c15b9a4cc7aa",
   "metadata": {},
   "source": [
    "<hr style=\"height:2px;border:none;background-color:#00233C;\">\n",
    "\n",
    "<p style = 'font-size:20px;font-family:Arial;color:#00233C'><b>2. Getting Data for This Demo</b></p>\n",
    "<p style = 'font-size:16px;font-family:Arial;color:#00233C'>We have provided data for this demo on cloud storage.  You have the option of either running the demo using foreign tables to access the data without using any storage on your environment or downloading the data to local storage which may yield somewhat faster execution, but there could be considerations of available storage.  There are two statements in the following cell, and one is commented out.  You may switch which mode you choose by changing the comment string.</p>\n"
   ]
  },
  {
   "cell_type": "code",
   "execution_count": 3,
   "id": "bb54055c-7d11-469d-b589-ae1ad820e14b",
   "metadata": {},
   "outputs": [
    {
     "data": {
      "text/plain": [
       "Success: 0 rows affected"
      ]
     },
     "execution_count": 3,
     "metadata": {
      "application/vnd.teradata.resultset": ""
     },
     "output_type": "execute_result"
    },
    {
     "data": {
      "text/plain": [
       "Success: 0 rows affected"
      ]
     },
     "execution_count": 3,
     "metadata": {
      "application/vnd.teradata.resultset": ""
     },
     "output_type": "execute_result"
    },
    {
     "data": {
      "application/vnd.teradata.resultset": "\"Message\"\n\"That ran for   0:00:16.40 with 25 statements and 0 errors. \"",
      "text/html": [
       "<div class = \"td-resultset-table-div\" style = \"max-height: 100%; overflow-y: auto\">\n",
       "      <table class=\"tdhistory127710\"><style>\n",
       "      table.tdhistory127710 { display: block !important; min-height: 105px !important; overflow: auto !important; height: 105px !important; width: 100% !important; border: 1px solid rgb(207, 207, 207) !important; border-collapse: collapse !important; ; color: var(--jp-ui-font-color1) !important; }\n",
       "      th.tdhistory127710 { border: 1px solid rgb(198,198,198) !important; border-collapse: collapse !important; ; padding: 2px 5px !important; ; font-size: 13px !important; ; text-align: center !important; white-space: normal !important; color: var(--jp-ui-font-color1) !important; }\n",
       "      th.tdhistory127710:last-child { text-align: left !important; }\n",
       "      tbody.tdhistory127710 tr:nth-child(even) { background: rgba(243, 243, 243, 0.75) !important; }\n",
       "      tbody.tdhistory127710 tr:nth-child(odd) { background: var(--jp-ui-inverse-font-color1) !important; }\n",
       "      td.tdhistory127710 { border: 1px solid rgb(207, 207, 207) !important; border-collapse: collapse !important; ; padding: 2px 5px !important; ; font-size: 13px !important; ; text-align: left !important;          white-space: nowrap !important; overflow:hidden !important; text-overflow:ellipsis !important;; }\n",
       "    </style><thead><tr style= \"background: rgba(243, 243, 243, 0.75)\"><th class=\"tdhistory127710\"></th><th class=\"tdhistory127710\">Message</th></tr></thead><tbody class=\"tdhistory127710 resultset-body\"><tr><th class=\"tdhistory127710\" style= \"background: rgba(243, 243, 243, 0.75)\">1</th><td class=\"tdhistory127710\">That ran for   0:00:16.40 with 25 statements and 0 errors. </td></tr></tbody></table></div>"
      ]
     },
     "execution_count": 3,
     "metadata": {
      "application/vnd.teradata.resultset": "{\"resultSetID\":\"/home/jovyan/JupyterLabRoot/Teradata/Resultsets/2024.09.05_08.53.25.559_UTC\",\"historyID\":79,\"chunkID\":\"00001\",\"sessionid\":\"\",\"portnum\":\"\",\"dockermode\":\"docker\",\"totalRowCount\":1,\"chunkCount\":0,\"rowLimit\":0,\"columnMetadata\":[{\"columnName\":\"Message\",\"columnTypeName\":\"VARCHAR\",\"length\":150,\"scale\":150}]}"
     },
     "output_type": "execute_result"
    }
   ],
   "source": [
    "--call get_data('DEMO_Customer360_cloud'); ---takes about 10 seconds\n",
    "call get_data('DEMO_Customer360_local'); ---takes about 30 seconds"
   ]
  },
  {
   "cell_type": "markdown",
   "id": "b09c43a5-b29e-4ffa-ae85-0fe5b9134300",
   "metadata": {},
   "source": [
    "<p style = 'font-size:16px;font-family:Arial;color:#00233C'>Optional step – if you want to see status of databases/tables created and space used.</p>\n"
   ]
  },
  {
   "cell_type": "code",
   "execution_count": 4,
   "id": "ca177ad2-ac1d-4024-a256-c37f90e24297",
   "metadata": {
    "tags": []
   },
   "outputs": [
    {
     "data": {
      "text/plain": [
       "Success: 0 rows affected"
      ]
     },
     "execution_count": 4,
     "metadata": {
      "application/vnd.teradata.resultset": ""
     },
     "output_type": "execute_result"
    },
    {
     "data": {
      "text/plain": [
       "Success: 0 rows affected"
      ]
     },
     "execution_count": 4,
     "metadata": {
      "application/vnd.teradata.resultset": ""
     },
     "output_type": "execute_result"
    },
    {
     "data": {
      "application/vnd.teradata.resultset": "\"Space_Report\"\n\"You have:  #databases=4 #tables=7 #views=24  You have used 2.0 MB of 30,678.9 MB available - 0.0%  ... Space Usage OK\"\n\" \"\n\"   Database Name                  #tables  #views     Avail MB      Used MB\"\n\"   demo_user                            2      19  30,086.1 MB       1.4 MB \"\n\"   DEMO_CancerPrediction                0       1       0.0 MB       0.0 MB \"\n\"   DEMO_CancerPrediction_db             1       0     534.9 MB       0.3 MB \"\n\"   DEMO_Customer360                     0       4       0.0 MB       0.0 MB \"\n\"   DEMO_Customer360_db                  4       0      58.0 MB       0.4 MB \"",
      "text/html": [
       "<div class = \"td-resultset-table-div\" style = \"max-height: 100%; overflow-y: auto\">\n",
       "      <table class=\"tdhistory360112\"><style>\n",
       "      table.tdhistory360112 { display: block !important; min-height: 252px !important; overflow: auto !important; height: 252px !important; width: 100% !important; border: 1px solid rgb(207, 207, 207) !important; border-collapse: collapse !important; ; color: var(--jp-ui-font-color1) !important; }\n",
       "      th.tdhistory360112 { border: 1px solid rgb(198,198,198) !important; border-collapse: collapse !important; ; padding: 2px 5px !important; ; font-size: 13px !important; ; text-align: center !important; white-space: normal !important; color: var(--jp-ui-font-color1) !important; }\n",
       "      th.tdhistory360112:last-child { text-align: left !important; }\n",
       "      tbody.tdhistory360112 tr:nth-child(even) { background: rgba(243, 243, 243, 0.75) !important; }\n",
       "      tbody.tdhistory360112 tr:nth-child(odd) { background: var(--jp-ui-inverse-font-color1) !important; }\n",
       "      td.tdhistory360112 { border: 1px solid rgb(207, 207, 207) !important; border-collapse: collapse !important; ; padding: 2px 5px !important; ; font-size: 13px !important; ; text-align: left !important;          white-space: nowrap !important; overflow:hidden !important; text-overflow:ellipsis !important;; }\n",
       "    </style><thead><tr style= \"background: rgba(243, 243, 243, 0.75)\"><th class=\"tdhistory360112\"></th><th class=\"tdhistory360112\">Space_Report</th></tr></thead><tbody class=\"tdhistory360112 resultset-body\"><tr><th class=\"tdhistory360112\" style= \"background: rgba(243, 243, 243, 0.75)\">1</th><td class=\"tdhistory360112\">You have:  #databases=4 #tables=7 #views=24  You have used 2.0 MB of 30,678.9 MB available - 0.0%  ... Space Usage OK</td></tr><tr><th class=\"tdhistory360112\" style= \"background: rgba(243, 243, 243, 0.75)\">2</th><td class=\"tdhistory360112\"> </td></tr><tr><th class=\"tdhistory360112\" style= \"background: rgba(243, 243, 243, 0.75)\">3</th><td class=\"tdhistory360112\">   Database Name                  #tables  #views     Avail MB      Used MB</td></tr><tr><th class=\"tdhistory360112\" style= \"background: rgba(243, 243, 243, 0.75)\">4</th><td class=\"tdhistory360112\">   demo_user                            2      19  30,086.1 MB       1.4 MB </td></tr><tr><th class=\"tdhistory360112\" style= \"background: rgba(243, 243, 243, 0.75)\">5</th><td class=\"tdhistory360112\">   DEMO_CancerPrediction                0       1       0.0 MB       0.0 MB </td></tr><tr><th class=\"tdhistory360112\" style= \"background: rgba(243, 243, 243, 0.75)\">6</th><td class=\"tdhistory360112\">   DEMO_CancerPrediction_db             1       0     534.9 MB       0.3 MB </td></tr><tr><th class=\"tdhistory360112\" style= \"background: rgba(243, 243, 243, 0.75)\">7</th><td class=\"tdhistory360112\">   DEMO_Customer360                     0       4       0.0 MB       0.0 MB </td></tr><tr><th class=\"tdhistory360112\" style= \"background: rgba(243, 243, 243, 0.75)\">8</th><td class=\"tdhistory360112\">   DEMO_Customer360_db                  4       0      58.0 MB       0.4 MB </td></tr></tbody></table></div>"
      ]
     },
     "execution_count": 4,
     "metadata": {
      "application/vnd.teradata.resultset": "{\"resultSetID\":\"/home/jovyan/JupyterLabRoot/Teradata/Resultsets/2024.09.05_08.53.27.276_UTC\",\"historyID\":80,\"chunkID\":\"00001\",\"sessionid\":\"\",\"portnum\":\"\",\"dockermode\":\"docker\",\"totalRowCount\":8,\"chunkCount\":0,\"rowLimit\":0,\"columnMetadata\":[{\"columnName\":\"Space_Report\",\"columnTypeName\":\"VARCHAR\",\"length\":150,\"scale\":150}]}"
     },
     "output_type": "execute_result"
    }
   ],
   "source": [
    "call space_report();  -- optional, takes about 10 seconds"
   ]
  },
  {
   "cell_type": "markdown",
   "id": "36a5d933",
   "metadata": {},
   "source": [
    "<hr style=\"height:2px;border:none;background-color:#00233C;\">\n",
    "\n",
    "<p style = 'font-size:20px;font-family:Arial;color:#00233C'><b>3. Analyze Raw Data</b></p>\n",
    "\n",
    "<p style = 'font-size:16px;font-family:Arial;color:#00233C'>Here, we will inspect each of the four data sets, and determine what fields to use from each table to create a comparison key string.</p>\n",
    "\n",
    "<p style = 'font-size:16px;font-family:Arial;color:#00233C'>We will inspect:</p>\n",
    "<ol style = 'font-size:16px;font-family:Arial;color:#00233C'>\n",
    "    <li>The equipment distributor's customer table</li>\n",
    "    <li>The electronic monitor service's e-commerce list relative to the customer table</li>\n",
    "    <li>The call center list relative to the customer table</li>\n",
    "    <li>The tagging list relative to the customer table</li>        \n",
    "</ol>\n",
    "    \n",
    "<p style = 'font-size:16px;font-family:Arial;color:#00233C'>Replace the following with a valid connection name:</p>"
   ]
  },
  {
   "cell_type": "markdown",
   "id": "8d6c7441",
   "metadata": {},
   "source": [
    "<hr style=\"height:1px;border:none;background-color:#00233C;\">\n",
    "<p style = 'font-size:18px;font-family:Arial;color:#00233C'><b>3.1- Inspect the Equipment Reseller's Customer Table</b></p>\n",
    "\n",
    "<p style = 'font-size:16px;font-family:Arial;color:#00233C'>The simple SQL select query below shows that the fields include a customer ID, gender, name, address, and a lifetime value for this channel.</p>"
   ]
  },
  {
   "cell_type": "code",
   "execution_count": 5,
   "id": "ad8b7760",
   "metadata": {},
   "outputs": [
    {
     "data": {
      "application/vnd.teradata.resultset": "\"CUST_ID\",\"GENDER\",\"FIRSTNAME\",\"LASTNAME\",\"ADDRESS\",\"STATE\",\"CITY\",\"ZIP\",\"EQUIP_LTV\"\n\"19579\",\"M\",\"Pedro\",\"Gonsalves\",\"1233 El Camino Real\",\"NY\",\"Greenville\",\"10586\",\"6159\"\n\"19688\",\"F\",\"Luiza\",\"Teixeira\",\"1522 North U.S. Highway 1\",\"OH\",\"Kerr\",\"45643\",\"5894\"\n\"22143\",\"M\",\"Lucas\",\"Moreau\",\"1455 Sixth Street\",\"OH\",\"Winchester\",\"45697\",\"6299\"\n\"22142\",\"F\",\"Beatriz\",\"Gonsalves\",\"1212 Fifth Street\",\"OH\",\"Fairfield\",\"45018\",\"6463\"\n\"20575\",\"F\",\"Laura\",\"DeSilva\",\"11 Red Mill Road\",\"PA\",\"New Castle\",\"16105\",\"5652\"",
      "text/html": [
       "<div class = \"td-resultset-table-div\" style = \"max-height: 100%; overflow-y: auto\">\n",
       "      <table class=\"tdhistory775785\"><style>\n",
       "      table.tdhistory775785 { display: block !important; min-height: 189px !important; overflow: auto !important; height: 189px !important; width: 100% !important; border: 1px solid rgb(207, 207, 207) !important; border-collapse: collapse !important; ; color: var(--jp-ui-font-color1) !important; }\n",
       "      th.tdhistory775785 { border: 1px solid rgb(198,198,198) !important; border-collapse: collapse !important; ; padding: 2px 5px !important; ; font-size: 13px !important; ; text-align: center !important; white-space: normal !important; color: var(--jp-ui-font-color1) !important; }\n",
       "      th.tdhistory775785:last-child { text-align: left !important; }\n",
       "      tbody.tdhistory775785 tr:nth-child(even) { background: rgba(243, 243, 243, 0.75) !important; }\n",
       "      tbody.tdhistory775785 tr:nth-child(odd) { background: var(--jp-ui-inverse-font-color1) !important; }\n",
       "      td.tdhistory775785 { border: 1px solid rgb(207, 207, 207) !important; border-collapse: collapse !important; ; padding: 2px 5px !important; ; font-size: 13px !important; ; text-align: left !important;          white-space: nowrap !important; overflow:hidden !important; text-overflow:ellipsis !important;; }\n",
       "    </style><thead><tr style= \"background: rgba(243, 243, 243, 0.75)\"><th class=\"tdhistory775785\"></th><th class=\"tdhistory775785\">CUST_ID</th><th class=\"tdhistory775785\">GENDER</th><th class=\"tdhistory775785\">FIRSTNAME</th><th class=\"tdhistory775785\">LASTNAME</th><th class=\"tdhistory775785\">ADDRESS</th><th class=\"tdhistory775785\">STATE</th><th class=\"tdhistory775785\">CITY</th><th class=\"tdhistory775785\">ZIP</th><th class=\"tdhistory775785\">EQUIP_LTV</th></tr></thead><tbody class=\"tdhistory775785 resultset-body\"><tr><th class=\"tdhistory775785\" style= \"background: rgba(243, 243, 243, 0.75)\">1</th><td class=\"tdhistory775785\">19579</td><td class=\"tdhistory775785\">M</td><td class=\"tdhistory775785\">Pedro</td><td class=\"tdhistory775785\">Gonsalves</td><td class=\"tdhistory775785\">1233 El Camino Real</td><td class=\"tdhistory775785\">NY</td><td class=\"tdhistory775785\">Greenville</td><td class=\"tdhistory775785\">10586</td><td class=\"tdhistory775785\">6159</td></tr><tr><th class=\"tdhistory775785\" style= \"background: rgba(243, 243, 243, 0.75)\">2</th><td class=\"tdhistory775785\">19688</td><td class=\"tdhistory775785\">F</td><td class=\"tdhistory775785\">Luiza</td><td class=\"tdhistory775785\">Teixeira</td><td class=\"tdhistory775785\">1522 North U.S. Highway 1</td><td class=\"tdhistory775785\">OH</td><td class=\"tdhistory775785\">Kerr</td><td class=\"tdhistory775785\">45643</td><td class=\"tdhistory775785\">5894</td></tr><tr><th class=\"tdhistory775785\" style= \"background: rgba(243, 243, 243, 0.75)\">3</th><td class=\"tdhistory775785\">22143</td><td class=\"tdhistory775785\">M</td><td class=\"tdhistory775785\">Lucas</td><td class=\"tdhistory775785\">Moreau</td><td class=\"tdhistory775785\">1455 Sixth Street</td><td class=\"tdhistory775785\">OH</td><td class=\"tdhistory775785\">Winchester</td><td class=\"tdhistory775785\">45697</td><td class=\"tdhistory775785\">6299</td></tr><tr><th class=\"tdhistory775785\" style= \"background: rgba(243, 243, 243, 0.75)\">4</th><td class=\"tdhistory775785\">22142</td><td class=\"tdhistory775785\">F</td><td class=\"tdhistory775785\">Beatriz</td><td class=\"tdhistory775785\">Gonsalves</td><td class=\"tdhistory775785\">1212 Fifth Street</td><td class=\"tdhistory775785\">OH</td><td class=\"tdhistory775785\">Fairfield</td><td class=\"tdhistory775785\">45018</td><td class=\"tdhistory775785\">6463</td></tr><tr><th class=\"tdhistory775785\" style= \"background: rgba(243, 243, 243, 0.75)\">5</th><td class=\"tdhistory775785\">20575</td><td class=\"tdhistory775785\">F</td><td class=\"tdhistory775785\">Laura</td><td class=\"tdhistory775785\">DeSilva</td><td class=\"tdhistory775785\">11 Red Mill Road</td><td class=\"tdhistory775785\">PA</td><td class=\"tdhistory775785\">New Castle</td><td class=\"tdhistory775785\">16105</td><td class=\"tdhistory775785\">5652</td></tr></tbody></table></div>"
      ]
     },
     "execution_count": 5,
     "metadata": {
      "application/vnd.teradata.resultset": "{\"resultSetID\":\"/home/jovyan/JupyterLabRoot/Teradata/Resultsets/2024.09.05_08.53.27.376_UTC\",\"historyID\":81,\"chunkID\":\"00001\",\"sessionid\":\"\",\"portnum\":\"\",\"dockermode\":\"docker\",\"totalRowCount\":5,\"chunkCount\":0,\"rowLimit\":0,\"columnMetadata\":[{\"columnName\":\"CUST_ID\",\"columnTypeName\":\"SMALLINT\"},{\"columnNumber\":1,\"columnName\":\"GENDER\",\"columnTypeName\":\"VARCHAR\",\"length\":1,\"scale\":1},{\"columnNumber\":2,\"columnName\":\"FIRSTNAME\",\"columnTypeName\":\"VARCHAR\",\"length\":11,\"scale\":11},{\"columnNumber\":3,\"columnName\":\"LASTNAME\",\"columnTypeName\":\"VARCHAR\",\"length\":9,\"scale\":9},{\"columnNumber\":4,\"columnName\":\"ADDRESS\",\"columnTypeName\":\"VARCHAR\",\"length\":25,\"scale\":25},{\"columnNumber\":5,\"columnName\":\"STATE\",\"columnTypeName\":\"VARCHAR\",\"length\":2,\"scale\":2},{\"columnNumber\":6,\"columnName\":\"CITY\",\"columnTypeName\":\"VARCHAR\",\"length\":16,\"scale\":16},{\"columnNumber\":7,\"columnName\":\"ZIP\",\"columnTypeName\":\"INTEGER\"},{\"columnNumber\":8,\"columnName\":\"EQUIP_LTV\",\"columnTypeName\":\"SMALLINT\"}]}"
     },
     "output_type": "execute_result"
    }
   ],
   "source": [
    "SELECT TOP 5 * FROM DEMO_Customer360.Equipment"
   ]
  },
  {
   "cell_type": "markdown",
   "id": "e7e47139",
   "metadata": {},
   "source": [
    "<hr style=\"height:1px;border:none;background-color:#00233C;\">\n",
    "<p style = 'font-size:18px;font-family:Arial;color:#00233C'><b>3.2- Inspect E-Commerce Table</b></p>\n",
    "\n",
    "<p style = 'font-size:16px;font-family:Arial;color:#00233C'>A similar SQL query shows this table has a loyalty number, sex, name, physical address, email address and e-commerce lifetime value. Since both tables' records are at an individual level, we will use first name, last name, and city as a matching key string. Fields to import for now include the loyalty number, and email address.</p>"
   ]
  },
  {
   "cell_type": "code",
   "execution_count": 6,
   "id": "3498e740",
   "metadata": {},
   "outputs": [
    {
     "data": {
      "application/vnd.teradata.resultset": "\"LOYALTY_NUM\",\"SEX\",\"FNAME\",\"LNAME\",\"ADDR\",\"STATE\",\"CITY\",\"ZIP\",\"EMAIL\",\"ONLINE_LTV\"\n\"5969239\",\"M\",\"Pedro\",\"Gonsalves\",\"1233 El Camino Real\",\"NY\",\"Greenville\",\"10586\",\"pedro.gonsalves@teratitan.com\",\"465\"\n\"6428173\",\"F\",\"Luiza\",\"Teixeira\",\"1522 North U.S. Highway 1\",\"OH\",\"Kerr\",\"45643\",\"lteixeira@gmail.com\",\"936\"\n\"1481403\",\"M\",\"Lucas\",\"Moreau\",\"1455 Sixth Street\",\"OH\",\"Winchester\",\"45697\",\"lucas.moreau@teratitan.com\",\"497\"\n\"1584600\",\"F\",\"Beatriz\",\"Gonsalves\",\"1212 Fifth Street\",\"OH\",\"Fairfield\",\"45018\",\"beatriz.gonsalves@teratitan.com\",\"1708\"\n\"1233911\",\"F\",\"Laura\",\"DeSilva\",\"11 Red Mill Road\",\"PA\",\"New Castle\",\"16105\",\"ldesilva@gmail.com\",\"1766\"",
      "text/html": [
       "<div class = \"td-resultset-table-div\" style = \"max-height: 100%; overflow-y: auto\">\n",
       "      <table class=\"tdhistory13751\"><style>\n",
       "      table.tdhistory13751 { display: block !important; min-height: 189px !important; overflow: auto !important; height: 189px !important; width: 100% !important; border: 1px solid rgb(207, 207, 207) !important; border-collapse: collapse !important; ; color: var(--jp-ui-font-color1) !important; }\n",
       "      th.tdhistory13751 { border: 1px solid rgb(198,198,198) !important; border-collapse: collapse !important; ; padding: 2px 5px !important; ; font-size: 13px !important; ; text-align: center !important; white-space: normal !important; color: var(--jp-ui-font-color1) !important; }\n",
       "      th.tdhistory13751:last-child { text-align: left !important; }\n",
       "      tbody.tdhistory13751 tr:nth-child(even) { background: rgba(243, 243, 243, 0.75) !important; }\n",
       "      tbody.tdhistory13751 tr:nth-child(odd) { background: var(--jp-ui-inverse-font-color1) !important; }\n",
       "      td.tdhistory13751 { border: 1px solid rgb(207, 207, 207) !important; border-collapse: collapse !important; ; padding: 2px 5px !important; ; font-size: 13px !important; ; text-align: left !important;          white-space: nowrap !important; overflow:hidden !important; text-overflow:ellipsis !important;; }\n",
       "    </style><thead><tr style= \"background: rgba(243, 243, 243, 0.75)\"><th class=\"tdhistory13751\"></th><th class=\"tdhistory13751\">LOYALTY_NUM</th><th class=\"tdhistory13751\">SEX</th><th class=\"tdhistory13751\">FNAME</th><th class=\"tdhistory13751\">LNAME</th><th class=\"tdhistory13751\">ADDR</th><th class=\"tdhistory13751\">STATE</th><th class=\"tdhistory13751\">CITY</th><th class=\"tdhistory13751\">ZIP</th><th class=\"tdhistory13751\">EMAIL</th><th class=\"tdhistory13751\">ONLINE_LTV</th></tr></thead><tbody class=\"tdhistory13751 resultset-body\"><tr><th class=\"tdhistory13751\" style= \"background: rgba(243, 243, 243, 0.75)\">1</th><td class=\"tdhistory13751\">5969239</td><td class=\"tdhistory13751\">M</td><td class=\"tdhistory13751\">Pedro</td><td class=\"tdhistory13751\">Gonsalves</td><td class=\"tdhistory13751\">1233 El Camino Real</td><td class=\"tdhistory13751\">NY</td><td class=\"tdhistory13751\">Greenville</td><td class=\"tdhistory13751\">10586</td><td class=\"tdhistory13751\">pedro.gonsalves@teratitan.com</td><td class=\"tdhistory13751\">465</td></tr><tr><th class=\"tdhistory13751\" style= \"background: rgba(243, 243, 243, 0.75)\">2</th><td class=\"tdhistory13751\">6428173</td><td class=\"tdhistory13751\">F</td><td class=\"tdhistory13751\">Luiza</td><td class=\"tdhistory13751\">Teixeira</td><td class=\"tdhistory13751\">1522 North U.S. Highway 1</td><td class=\"tdhistory13751\">OH</td><td class=\"tdhistory13751\">Kerr</td><td class=\"tdhistory13751\">45643</td><td class=\"tdhistory13751\">lteixeira@gmail.com</td><td class=\"tdhistory13751\">936</td></tr><tr><th class=\"tdhistory13751\" style= \"background: rgba(243, 243, 243, 0.75)\">3</th><td class=\"tdhistory13751\">1481403</td><td class=\"tdhistory13751\">M</td><td class=\"tdhistory13751\">Lucas</td><td class=\"tdhistory13751\">Moreau</td><td class=\"tdhistory13751\">1455 Sixth Street</td><td class=\"tdhistory13751\">OH</td><td class=\"tdhistory13751\">Winchester</td><td class=\"tdhistory13751\">45697</td><td class=\"tdhistory13751\">lucas.moreau@teratitan.com</td><td class=\"tdhistory13751\">497</td></tr><tr><th class=\"tdhistory13751\" style= \"background: rgba(243, 243, 243, 0.75)\">4</th><td class=\"tdhistory13751\">1584600</td><td class=\"tdhistory13751\">F</td><td class=\"tdhistory13751\">Beatriz</td><td class=\"tdhistory13751\">Gonsalves</td><td class=\"tdhistory13751\">1212 Fifth Street</td><td class=\"tdhistory13751\">OH</td><td class=\"tdhistory13751\">Fairfield</td><td class=\"tdhistory13751\">45018</td><td class=\"tdhistory13751\">beatriz.gonsalves@teratitan.com</td><td class=\"tdhistory13751\">1708</td></tr><tr><th class=\"tdhistory13751\" style= \"background: rgba(243, 243, 243, 0.75)\">5</th><td class=\"tdhistory13751\">1233911</td><td class=\"tdhistory13751\">F</td><td class=\"tdhistory13751\">Laura</td><td class=\"tdhistory13751\">DeSilva</td><td class=\"tdhistory13751\">11 Red Mill Road</td><td class=\"tdhistory13751\">PA</td><td class=\"tdhistory13751\">New Castle</td><td class=\"tdhistory13751\">16105</td><td class=\"tdhistory13751\">ldesilva@gmail.com</td><td class=\"tdhistory13751\">1766</td></tr></tbody></table></div>"
      ]
     },
     "execution_count": 6,
     "metadata": {
      "application/vnd.teradata.resultset": "{\"resultSetID\":\"/home/jovyan/JupyterLabRoot/Teradata/Resultsets/2024.09.05_08.53.27.477_UTC\",\"historyID\":82,\"chunkID\":\"00001\",\"sessionid\":\"\",\"portnum\":\"\",\"dockermode\":\"docker\",\"totalRowCount\":5,\"chunkCount\":0,\"rowLimit\":0,\"columnMetadata\":[{\"columnName\":\"LOYALTY_NUM\",\"columnTypeName\":\"INTEGER\"},{\"columnNumber\":1,\"columnName\":\"SEX\",\"columnTypeName\":\"VARCHAR\",\"length\":1,\"scale\":1},{\"columnNumber\":2,\"columnName\":\"FNAME\",\"columnTypeName\":\"VARCHAR\",\"length\":11,\"scale\":11},{\"columnNumber\":3,\"columnName\":\"LNAME\",\"columnTypeName\":\"VARCHAR\",\"length\":9,\"scale\":9},{\"columnNumber\":4,\"columnName\":\"ADDR\",\"columnTypeName\":\"VARCHAR\",\"length\":25,\"scale\":25},{\"columnNumber\":5,\"columnName\":\"STATE\",\"columnTypeName\":\"VARCHAR\",\"length\":2,\"scale\":2},{\"columnNumber\":6,\"columnName\":\"CITY\",\"columnTypeName\":\"VARCHAR\",\"length\":16,\"scale\":16},{\"columnNumber\":7,\"columnName\":\"ZIP\",\"columnTypeName\":\"INTEGER\"},{\"columnNumber\":8,\"columnName\":\"EMAIL\",\"columnTypeName\":\"VARCHAR\",\"length\":31,\"scale\":31},{\"columnNumber\":9,\"columnName\":\"ONLINE_LTV\",\"columnTypeName\":\"SMALLINT\"}]}"
     },
     "output_type": "execute_result"
    }
   ],
   "source": [
    "SELECT TOP 5 * FROM DEMO_Customer360.Online"
   ]
  },
  {
   "cell_type": "markdown",
   "id": "68c29344",
   "metadata": {},
   "source": [
    "<hr style=\"height:1px;border:none;background-color:#00233C;\">\n",
    "<p style = 'font-size:18px;font-family:Arial;color:#00233C'><b>3.3- Inspect Call Center List</b></p>\n",
    "\n",
    "<p style = 'font-size:16px;font-family:Arial;color:#00233C'>Note that this table also has records at an individual level, so we can use the same fields to create a matching key. Unique fields to this table include the phone number and call center cost. After matching, we will import the phone number.</p>"
   ]
  },
  {
   "cell_type": "code",
   "execution_count": 7,
   "id": "68cb5898",
   "metadata": {},
   "outputs": [
    {
     "data": {
      "application/vnd.teradata.resultset": "\"GENDER\",\"FIRST_NAME\",\"LAST_NAME\",\"ADDRESS\",\"STATE\",\"CITY\",\"ZIPCODE\",\"PHONE\",\"CALL_CENTER_COST\"\n\"M\",\"Pedro\",\"Gonsalves\",\"1233 El Camino Real\",\"NY\",\"Greenville\",\"10586\",\"(434) 432-6306\",\"75\"\n\"F\",\"Luiza\",\"Teixeira\",\"1522 North U.S. Highway 1\",\"OH\",\"Kerr\",\"45643\",\"(253) 470-1804\",\"75\"\n\"M\",\"Lucas\",\"Moreau\",\"1455 Sixth Street\",\"OH\",\"Winchester\",\"45697\",\"(941) 929-3922\",\"25\"\n\"F\",\"Beatriz\",\"Gonsalves\",\"1212 Fifth Street\",\"OH\",\"Fairfield\",\"45018\",\"(510) 563-2532\",\"50\"\n\"F\",\"Laura\",\"DeSilva\",\"11 Red Mill Road\",\"PA\",\"New Castle\",\"16105\",\"(570) 387-2031\",\"25\"",
      "text/html": [
       "<div class = \"td-resultset-table-div\" style = \"max-height: 100%; overflow-y: auto\">\n",
       "      <table class=\"tdhistory923530\"><style>\n",
       "      table.tdhistory923530 { display: block !important; min-height: 189px !important; overflow: auto !important; height: 189px !important; width: 100% !important; border: 1px solid rgb(207, 207, 207) !important; border-collapse: collapse !important; ; color: var(--jp-ui-font-color1) !important; }\n",
       "      th.tdhistory923530 { border: 1px solid rgb(198,198,198) !important; border-collapse: collapse !important; ; padding: 2px 5px !important; ; font-size: 13px !important; ; text-align: center !important; white-space: normal !important; color: var(--jp-ui-font-color1) !important; }\n",
       "      th.tdhistory923530:last-child { text-align: left !important; }\n",
       "      tbody.tdhistory923530 tr:nth-child(even) { background: rgba(243, 243, 243, 0.75) !important; }\n",
       "      tbody.tdhistory923530 tr:nth-child(odd) { background: var(--jp-ui-inverse-font-color1) !important; }\n",
       "      td.tdhistory923530 { border: 1px solid rgb(207, 207, 207) !important; border-collapse: collapse !important; ; padding: 2px 5px !important; ; font-size: 13px !important; ; text-align: left !important;          white-space: nowrap !important; overflow:hidden !important; text-overflow:ellipsis !important;; }\n",
       "    </style><thead><tr style= \"background: rgba(243, 243, 243, 0.75)\"><th class=\"tdhistory923530\"></th><th class=\"tdhistory923530\">GENDER</th><th class=\"tdhistory923530\">FIRST_NAME</th><th class=\"tdhistory923530\">LAST_NAME</th><th class=\"tdhistory923530\">ADDRESS</th><th class=\"tdhistory923530\">STATE</th><th class=\"tdhistory923530\">CITY</th><th class=\"tdhistory923530\">ZIPCODE</th><th class=\"tdhistory923530\">PHONE</th><th class=\"tdhistory923530\">CALL_CENTER_COST</th></tr></thead><tbody class=\"tdhistory923530 resultset-body\"><tr><th class=\"tdhistory923530\" style= \"background: rgba(243, 243, 243, 0.75)\">1</th><td class=\"tdhistory923530\">M</td><td class=\"tdhistory923530\">Pedro</td><td class=\"tdhistory923530\">Gonsalves</td><td class=\"tdhistory923530\">1233 El Camino Real</td><td class=\"tdhistory923530\">NY</td><td class=\"tdhistory923530\">Greenville</td><td class=\"tdhistory923530\">10586</td><td class=\"tdhistory923530\">(434) 432-6306</td><td class=\"tdhistory923530\">75</td></tr><tr><th class=\"tdhistory923530\" style= \"background: rgba(243, 243, 243, 0.75)\">2</th><td class=\"tdhistory923530\">F</td><td class=\"tdhistory923530\">Luiza</td><td class=\"tdhistory923530\">Teixeira</td><td class=\"tdhistory923530\">1522 North U.S. Highway 1</td><td class=\"tdhistory923530\">OH</td><td class=\"tdhistory923530\">Kerr</td><td class=\"tdhistory923530\">45643</td><td class=\"tdhistory923530\">(253) 470-1804</td><td class=\"tdhistory923530\">75</td></tr><tr><th class=\"tdhistory923530\" style= \"background: rgba(243, 243, 243, 0.75)\">3</th><td class=\"tdhistory923530\">M</td><td class=\"tdhistory923530\">Lucas</td><td class=\"tdhistory923530\">Moreau</td><td class=\"tdhistory923530\">1455 Sixth Street</td><td class=\"tdhistory923530\">OH</td><td class=\"tdhistory923530\">Winchester</td><td class=\"tdhistory923530\">45697</td><td class=\"tdhistory923530\">(941) 929-3922</td><td class=\"tdhistory923530\">25</td></tr><tr><th class=\"tdhistory923530\" style= \"background: rgba(243, 243, 243, 0.75)\">4</th><td class=\"tdhistory923530\">F</td><td class=\"tdhistory923530\">Beatriz</td><td class=\"tdhistory923530\">Gonsalves</td><td class=\"tdhistory923530\">1212 Fifth Street</td><td class=\"tdhistory923530\">OH</td><td class=\"tdhistory923530\">Fairfield</td><td class=\"tdhistory923530\">45018</td><td class=\"tdhistory923530\">(510) 563-2532</td><td class=\"tdhistory923530\">50</td></tr><tr><th class=\"tdhistory923530\" style= \"background: rgba(243, 243, 243, 0.75)\">5</th><td class=\"tdhistory923530\">F</td><td class=\"tdhistory923530\">Laura</td><td class=\"tdhistory923530\">DeSilva</td><td class=\"tdhistory923530\">11 Red Mill Road</td><td class=\"tdhistory923530\">PA</td><td class=\"tdhistory923530\">New Castle</td><td class=\"tdhistory923530\">16105</td><td class=\"tdhistory923530\">(570) 387-2031</td><td class=\"tdhistory923530\">25</td></tr></tbody></table></div>"
      ]
     },
     "execution_count": 7,
     "metadata": {
      "application/vnd.teradata.resultset": "{\"resultSetID\":\"/home/jovyan/JupyterLabRoot/Teradata/Resultsets/2024.09.05_08.53.27.591_UTC\",\"historyID\":83,\"chunkID\":\"00001\",\"sessionid\":\"\",\"portnum\":\"\",\"dockermode\":\"docker\",\"totalRowCount\":5,\"chunkCount\":0,\"rowLimit\":0,\"columnMetadata\":[{\"columnName\":\"GENDER\",\"columnTypeName\":\"VARCHAR\",\"length\":1,\"scale\":1},{\"columnNumber\":1,\"columnName\":\"FIRST_NAME\",\"columnTypeName\":\"VARCHAR\",\"length\":10,\"scale\":10},{\"columnNumber\":2,\"columnName\":\"LAST_NAME\",\"columnTypeName\":\"VARCHAR\",\"length\":9,\"scale\":9},{\"columnNumber\":3,\"columnName\":\"ADDRESS\",\"columnTypeName\":\"VARCHAR\",\"length\":25,\"scale\":25},{\"columnNumber\":4,\"columnName\":\"STATE\",\"columnTypeName\":\"VARCHAR\",\"length\":2,\"scale\":2},{\"columnNumber\":5,\"columnName\":\"CITY\",\"columnTypeName\":\"VARCHAR\",\"length\":16,\"scale\":16},{\"columnNumber\":6,\"columnName\":\"ZIPCODE\",\"columnTypeName\":\"INTEGER\"},{\"columnNumber\":7,\"columnName\":\"PHONE\",\"columnTypeName\":\"VARCHAR\",\"length\":14,\"scale\":14},{\"columnNumber\":8,\"columnName\":\"CALL_CENTER_COST\",\"columnTypeName\":\"BYTEINT\"}]}"
     },
     "output_type": "execute_result"
    }
   ],
   "source": [
    "SELECT TOP 5 * FROM DEMO_Customer360.CallCenter"
   ]
  },
  {
   "cell_type": "markdown",
   "id": "45fa0ae6",
   "metadata": {},
   "source": [
    "<hr style=\"height:1px;border:none;background-color:#00233C;\">\n",
    "<p style = 'font-size:18px;font-family:Arial;color:#00233C'><b>3.4 Inspect Cookie List</b></p>\n",
    "\n",
    "<p style = 'font-size:16px;font-family:Arial;color:#00233C'>Since cookies are collected at the household level and there are no names provided, we will use address as the matching key string. We will append the cookie and campaign to any matching records.</p>"
   ]
  },
  {
   "cell_type": "code",
   "execution_count": 8,
   "id": "bc47046f",
   "metadata": {},
   "outputs": [
    {
     "data": {
      "application/vnd.teradata.resultset": "\"ADDR_LN_1_TXT\",\"ST_OR_PROV_CD\",\"CITY_NAME\",\"ZIP\",\"COOKIE\",\"CAMPAIGN\"\n\"1233 El Camino Real\",\"NY\",\"Greenville\",\"10586\",\"9AB4BD59BCF976409A5887ED77EB333\",\"Social\"\n\"1522 North U.S. Highway 1\",\"OH\",\"Kerr\",\"45643\",\"F7C0C15D6A14F6206CAABF7B6E45477\",\"Search\"\n\"1455 Sixth Street\",\"OH\",\"Winchester\",\"45697\",\"B0273ABF9237CD15EA547F97104D46FA\",\"Email\"\n\"1212 Fifth Street\",\"OH\",\"Fairfield\",\"45018\",\"44C13D702EBA675AE341AC9BF9C1B89\",\"Email\"\n\"11 Red Mill Road\",\"PA\",\"New Castle\",\"16105\",\"AB7DBCFFD0AD5577560D8B545A842B41\",\"Display\"",
      "text/html": [
       "<div class = \"td-resultset-table-div\" style = \"max-height: 100%; overflow-y: auto\">\n",
       "      <table class=\"tdhistory422428\"><style>\n",
       "      table.tdhistory422428 { display: block !important; min-height: 189px !important; overflow: auto !important; height: 189px !important; width: 100% !important; border: 1px solid rgb(207, 207, 207) !important; border-collapse: collapse !important; ; color: var(--jp-ui-font-color1) !important; }\n",
       "      th.tdhistory422428 { border: 1px solid rgb(198,198,198) !important; border-collapse: collapse !important; ; padding: 2px 5px !important; ; font-size: 13px !important; ; text-align: center !important; white-space: normal !important; color: var(--jp-ui-font-color1) !important; }\n",
       "      th.tdhistory422428:last-child { text-align: left !important; }\n",
       "      tbody.tdhistory422428 tr:nth-child(even) { background: rgba(243, 243, 243, 0.75) !important; }\n",
       "      tbody.tdhistory422428 tr:nth-child(odd) { background: var(--jp-ui-inverse-font-color1) !important; }\n",
       "      td.tdhistory422428 { border: 1px solid rgb(207, 207, 207) !important; border-collapse: collapse !important; ; padding: 2px 5px !important; ; font-size: 13px !important; ; text-align: left !important;          white-space: nowrap !important; overflow:hidden !important; text-overflow:ellipsis !important;; }\n",
       "    </style><thead><tr style= \"background: rgba(243, 243, 243, 0.75)\"><th class=\"tdhistory422428\"></th><th class=\"tdhistory422428\">ADDR_LN_1_TXT</th><th class=\"tdhistory422428\">ST_OR_PROV_CD</th><th class=\"tdhistory422428\">CITY_NAME</th><th class=\"tdhistory422428\">ZIP</th><th class=\"tdhistory422428\">COOKIE</th><th class=\"tdhistory422428\">CAMPAIGN</th></tr></thead><tbody class=\"tdhistory422428 resultset-body\"><tr><th class=\"tdhistory422428\" style= \"background: rgba(243, 243, 243, 0.75)\">1</th><td class=\"tdhistory422428\">1233 El Camino Real</td><td class=\"tdhistory422428\">NY</td><td class=\"tdhistory422428\">Greenville</td><td class=\"tdhistory422428\">10586</td><td class=\"tdhistory422428\">9AB4BD59BCF976409A5887ED77EB333</td><td class=\"tdhistory422428\">Social</td></tr><tr><th class=\"tdhistory422428\" style= \"background: rgba(243, 243, 243, 0.75)\">2</th><td class=\"tdhistory422428\">1522 North U.S. Highway 1</td><td class=\"tdhistory422428\">OH</td><td class=\"tdhistory422428\">Kerr</td><td class=\"tdhistory422428\">45643</td><td class=\"tdhistory422428\">F7C0C15D6A14F6206CAABF7B6E45477</td><td class=\"tdhistory422428\">Search</td></tr><tr><th class=\"tdhistory422428\" style= \"background: rgba(243, 243, 243, 0.75)\">3</th><td class=\"tdhistory422428\">1455 Sixth Street</td><td class=\"tdhistory422428\">OH</td><td class=\"tdhistory422428\">Winchester</td><td class=\"tdhistory422428\">45697</td><td class=\"tdhistory422428\">B0273ABF9237CD15EA547F97104D46FA</td><td class=\"tdhistory422428\">Email</td></tr><tr><th class=\"tdhistory422428\" style= \"background: rgba(243, 243, 243, 0.75)\">4</th><td class=\"tdhistory422428\">1212 Fifth Street</td><td class=\"tdhistory422428\">OH</td><td class=\"tdhistory422428\">Fairfield</td><td class=\"tdhistory422428\">45018</td><td class=\"tdhistory422428\">44C13D702EBA675AE341AC9BF9C1B89</td><td class=\"tdhistory422428\">Email</td></tr><tr><th class=\"tdhistory422428\" style= \"background: rgba(243, 243, 243, 0.75)\">5</th><td class=\"tdhistory422428\">11 Red Mill Road</td><td class=\"tdhistory422428\">PA</td><td class=\"tdhistory422428\">New Castle</td><td class=\"tdhistory422428\">16105</td><td class=\"tdhistory422428\">AB7DBCFFD0AD5577560D8B545A842B41</td><td class=\"tdhistory422428\">Display</td></tr></tbody></table></div>"
      ]
     },
     "execution_count": 8,
     "metadata": {
      "application/vnd.teradata.resultset": "{\"resultSetID\":\"/home/jovyan/JupyterLabRoot/Teradata/Resultsets/2024.09.05_08.53.27.696_UTC\",\"historyID\":84,\"chunkID\":\"00001\",\"sessionid\":\"\",\"portnum\":\"\",\"dockermode\":\"docker\",\"totalRowCount\":5,\"chunkCount\":0,\"rowLimit\":0,\"columnMetadata\":[{\"columnName\":\"ADDR_LN_1_TXT\",\"columnTypeName\":\"VARCHAR\",\"length\":25,\"scale\":25},{\"columnNumber\":1,\"columnName\":\"ST_OR_PROV_CD\",\"columnTypeName\":\"VARCHAR\",\"length\":2,\"scale\":2},{\"columnNumber\":2,\"columnName\":\"CITY_NAME\",\"columnTypeName\":\"VARCHAR\",\"length\":21,\"scale\":21},{\"columnNumber\":3,\"columnName\":\"ZIP\",\"columnTypeName\":\"INTEGER\"},{\"columnNumber\":4,\"columnName\":\"COOKIE\",\"columnTypeName\":\"VARCHAR\",\"length\":32,\"scale\":32},{\"columnNumber\":5,\"columnName\":\"CAMPAIGN\",\"columnTypeName\":\"VARCHAR\",\"length\":7,\"scale\":7}]}"
     },
     "output_type": "execute_result"
    }
   ],
   "source": [
    "SELECT TOP 5 * FROM DEMO_Customer360.Cookie"
   ]
  },
  {
   "cell_type": "markdown",
   "id": "2e715879",
   "metadata": {},
   "source": [
    "<hr style=\"height:1px;border:none;background-color:#00233C;\">\n",
    "<p style = 'font-size:18px;font-family:Arial;color:#00233C'><b>3.5 Inspect Customer Across Lists</b></p>\n",
    "\n",
    "<p style = 'font-size:16px;font-family:Arial;color:#00233C'>We will also examine one customer closely to see how his information is matched throughout the lists. This customer is Jessica Rego, and she (or her address) appears in all four tables.  Note that her name is slightly misspelled in the e-commerce (as Jessika), her city is misspelled in call center table (as Nashporte), and her address is misspelled (with no space between 3114 and Park) in the cookie table. </p>"
   ]
  },
  {
   "cell_type": "code",
   "execution_count": 9,
   "id": "ff2d2dc5",
   "metadata": {},
   "outputs": [
    {
     "data": {
      "application/vnd.teradata.resultset": "\"CUST_ID\",\"GENDER\",\"FIRSTNAME\",\"LASTNAME\",\"ADDRESS\",\"STATE\",\"CITY\",\"ZIP\",\"EQUIP_LTV\"\n\"21903\",\"F\",\"Jessica\",\"Rego\",\"3114 Park Street\",\"OH\",\"Nashport\",\"43830\",\"6952\"",
      "text/html": [
       "<div class = \"td-resultset-table-div\" style = \"max-height: 100%; overflow-y: auto\">\n",
       "      <table class=\"tdhistory978090\"><style>\n",
       "      table.tdhistory978090 { display: block !important; min-height: 105px !important; overflow: auto !important; height: 105px !important; width: 100% !important; border: 1px solid rgb(207, 207, 207) !important; border-collapse: collapse !important; ; color: var(--jp-ui-font-color1) !important; }\n",
       "      th.tdhistory978090 { border: 1px solid rgb(198,198,198) !important; border-collapse: collapse !important; ; padding: 2px 5px !important; ; font-size: 13px !important; ; text-align: center !important; white-space: normal !important; color: var(--jp-ui-font-color1) !important; }\n",
       "      th.tdhistory978090:last-child { text-align: left !important; }\n",
       "      tbody.tdhistory978090 tr:nth-child(even) { background: rgba(243, 243, 243, 0.75) !important; }\n",
       "      tbody.tdhistory978090 tr:nth-child(odd) { background: var(--jp-ui-inverse-font-color1) !important; }\n",
       "      td.tdhistory978090 { border: 1px solid rgb(207, 207, 207) !important; border-collapse: collapse !important; ; padding: 2px 5px !important; ; font-size: 13px !important; ; text-align: left !important;          white-space: nowrap !important; overflow:hidden !important; text-overflow:ellipsis !important;; }\n",
       "    </style><thead><tr style= \"background: rgba(243, 243, 243, 0.75)\"><th class=\"tdhistory978090\"></th><th class=\"tdhistory978090\">CUST_ID</th><th class=\"tdhistory978090\">GENDER</th><th class=\"tdhistory978090\">FIRSTNAME</th><th class=\"tdhistory978090\">LASTNAME</th><th class=\"tdhistory978090\">ADDRESS</th><th class=\"tdhistory978090\">STATE</th><th class=\"tdhistory978090\">CITY</th><th class=\"tdhistory978090\">ZIP</th><th class=\"tdhistory978090\">EQUIP_LTV</th></tr></thead><tbody class=\"tdhistory978090 resultset-body\"><tr><th class=\"tdhistory978090\" style= \"background: rgba(243, 243, 243, 0.75)\">1</th><td class=\"tdhistory978090\">21903</td><td class=\"tdhistory978090\">F</td><td class=\"tdhistory978090\">Jessica</td><td class=\"tdhistory978090\">Rego</td><td class=\"tdhistory978090\">3114 Park Street</td><td class=\"tdhistory978090\">OH</td><td class=\"tdhistory978090\">Nashport</td><td class=\"tdhistory978090\">43830</td><td class=\"tdhistory978090\">6952</td></tr></tbody></table></div>"
      ]
     },
     "execution_count": 9,
     "metadata": {
      "application/vnd.teradata.resultset": "{\"resultSetID\":\"/home/jovyan/JupyterLabRoot/Teradata/Resultsets/2024.09.05_08.53.27.758_UTC\",\"historyID\":85,\"chunkID\":\"00001\",\"sessionid\":\"\",\"portnum\":\"\",\"dockermode\":\"docker\",\"totalRowCount\":1,\"chunkCount\":0,\"rowLimit\":0,\"columnMetadata\":[{\"columnName\":\"CUST_ID\",\"columnTypeName\":\"SMALLINT\"},{\"columnNumber\":1,\"columnName\":\"GENDER\",\"columnTypeName\":\"VARCHAR\",\"length\":1,\"scale\":1},{\"columnNumber\":2,\"columnName\":\"FIRSTNAME\",\"columnTypeName\":\"VARCHAR\",\"length\":11,\"scale\":11},{\"columnNumber\":3,\"columnName\":\"LASTNAME\",\"columnTypeName\":\"VARCHAR\",\"length\":9,\"scale\":9},{\"columnNumber\":4,\"columnName\":\"ADDRESS\",\"columnTypeName\":\"VARCHAR\",\"length\":25,\"scale\":25},{\"columnNumber\":5,\"columnName\":\"STATE\",\"columnTypeName\":\"VARCHAR\",\"length\":2,\"scale\":2},{\"columnNumber\":6,\"columnName\":\"CITY\",\"columnTypeName\":\"VARCHAR\",\"length\":16,\"scale\":16},{\"columnNumber\":7,\"columnName\":\"ZIP\",\"columnTypeName\":\"INTEGER\"},{\"columnNumber\":8,\"columnName\":\"EQUIP_LTV\",\"columnTypeName\":\"SMALLINT\"}]}"
     },
     "output_type": "execute_result"
    }
   ],
   "source": [
    "-- Find Jessica Rego in in-store table\n",
    "SELECT * FROM DEMO_Customer360.Equipment\n",
    "WHERE FIRSTNAME = 'Jessica' AND LASTNAME = 'Rego'"
   ]
  },
  {
   "cell_type": "code",
   "execution_count": 10,
   "id": "89f77f29",
   "metadata": {},
   "outputs": [
    {
     "data": {
      "application/vnd.teradata.resultset": "\"LOYALTY_NUM\",\"SEX\",\"FNAME\",\"LNAME\",\"ADDR\",\"STATE\",\"CITY\",\"ZIP\",\"EMAIL\",\"ONLINE_LTV\"\n\"1460445\",\"F\",\"Jessika\",\"Rego\",\"3114 Park Street\",\"OH\",\"Nashport\",\"43830\",\"jrego@yahoo.com\",\"1696\"",
      "text/html": [
       "<div class = \"td-resultset-table-div\" style = \"max-height: 100%; overflow-y: auto\">\n",
       "      <table class=\"tdhistory239692\"><style>\n",
       "      table.tdhistory239692 { display: block !important; min-height: 105px !important; overflow: auto !important; height: 105px !important; width: 100% !important; border: 1px solid rgb(207, 207, 207) !important; border-collapse: collapse !important; ; color: var(--jp-ui-font-color1) !important; }\n",
       "      th.tdhistory239692 { border: 1px solid rgb(198,198,198) !important; border-collapse: collapse !important; ; padding: 2px 5px !important; ; font-size: 13px !important; ; text-align: center !important; white-space: normal !important; color: var(--jp-ui-font-color1) !important; }\n",
       "      th.tdhistory239692:last-child { text-align: left !important; }\n",
       "      tbody.tdhistory239692 tr:nth-child(even) { background: rgba(243, 243, 243, 0.75) !important; }\n",
       "      tbody.tdhistory239692 tr:nth-child(odd) { background: var(--jp-ui-inverse-font-color1) !important; }\n",
       "      td.tdhistory239692 { border: 1px solid rgb(207, 207, 207) !important; border-collapse: collapse !important; ; padding: 2px 5px !important; ; font-size: 13px !important; ; text-align: left !important;          white-space: nowrap !important; overflow:hidden !important; text-overflow:ellipsis !important;; }\n",
       "    </style><thead><tr style= \"background: rgba(243, 243, 243, 0.75)\"><th class=\"tdhistory239692\"></th><th class=\"tdhistory239692\">LOYALTY_NUM</th><th class=\"tdhistory239692\">SEX</th><th class=\"tdhistory239692\">FNAME</th><th class=\"tdhistory239692\">LNAME</th><th class=\"tdhistory239692\">ADDR</th><th class=\"tdhistory239692\">STATE</th><th class=\"tdhistory239692\">CITY</th><th class=\"tdhistory239692\">ZIP</th><th class=\"tdhistory239692\">EMAIL</th><th class=\"tdhistory239692\">ONLINE_LTV</th></tr></thead><tbody class=\"tdhistory239692 resultset-body\"><tr><th class=\"tdhistory239692\" style= \"background: rgba(243, 243, 243, 0.75)\">1</th><td class=\"tdhistory239692\">1460445</td><td class=\"tdhistory239692\">F</td><td class=\"tdhistory239692\">Jessika</td><td class=\"tdhistory239692\">Rego</td><td class=\"tdhistory239692\">3114 Park Street</td><td class=\"tdhistory239692\">OH</td><td class=\"tdhistory239692\">Nashport</td><td class=\"tdhistory239692\">43830</td><td class=\"tdhistory239692\">jrego@yahoo.com</td><td class=\"tdhistory239692\">1696</td></tr></tbody></table></div>"
      ]
     },
     "execution_count": 10,
     "metadata": {
      "application/vnd.teradata.resultset": "{\"resultSetID\":\"/home/jovyan/JupyterLabRoot/Teradata/Resultsets/2024.09.05_08.53.27.823_UTC\",\"historyID\":86,\"chunkID\":\"00001\",\"sessionid\":\"\",\"portnum\":\"\",\"dockermode\":\"docker\",\"totalRowCount\":1,\"chunkCount\":0,\"rowLimit\":0,\"columnMetadata\":[{\"columnName\":\"LOYALTY_NUM\",\"columnTypeName\":\"INTEGER\"},{\"columnNumber\":1,\"columnName\":\"SEX\",\"columnTypeName\":\"VARCHAR\",\"length\":1,\"scale\":1},{\"columnNumber\":2,\"columnName\":\"FNAME\",\"columnTypeName\":\"VARCHAR\",\"length\":11,\"scale\":11},{\"columnNumber\":3,\"columnName\":\"LNAME\",\"columnTypeName\":\"VARCHAR\",\"length\":9,\"scale\":9},{\"columnNumber\":4,\"columnName\":\"ADDR\",\"columnTypeName\":\"VARCHAR\",\"length\":25,\"scale\":25},{\"columnNumber\":5,\"columnName\":\"STATE\",\"columnTypeName\":\"VARCHAR\",\"length\":2,\"scale\":2},{\"columnNumber\":6,\"columnName\":\"CITY\",\"columnTypeName\":\"VARCHAR\",\"length\":16,\"scale\":16},{\"columnNumber\":7,\"columnName\":\"ZIP\",\"columnTypeName\":\"INTEGER\"},{\"columnNumber\":8,\"columnName\":\"EMAIL\",\"columnTypeName\":\"VARCHAR\",\"length\":31,\"scale\":31},{\"columnNumber\":9,\"columnName\":\"ONLINE_LTV\",\"columnTypeName\":\"SMALLINT\"}]}"
     },
     "output_type": "execute_result"
    }
   ],
   "source": [
    "-- Find Jessica Rego in online table\n",
    "SELECT * FROM DEMO_Customer360.Online\n",
    "WHERE FNAME LIKE 'Jes%' AND LNAME LIKE 'Reg%'"
   ]
  },
  {
   "cell_type": "code",
   "execution_count": 11,
   "id": "4b2bf6c3",
   "metadata": {},
   "outputs": [
    {
     "data": {
      "application/vnd.teradata.resultset": "\"GENDER\",\"FIRST_NAME\",\"LAST_NAME\",\"ADDRESS\",\"STATE\",\"CITY\",\"ZIPCODE\",\"PHONE\",\"CALL_CENTER_COST\"\n\"F\",\"Jessica\",\"Rego\",\"3114 Park Street\",\"OH\",\"Nashporte\",\"43830\",\"(530) 696-4308\",\"50\"",
      "text/html": [
       "<div class = \"td-resultset-table-div\" style = \"max-height: 100%; overflow-y: auto\">\n",
       "      <table class=\"tdhistory616161\"><style>\n",
       "      table.tdhistory616161 { display: block !important; min-height: 105px !important; overflow: auto !important; height: 105px !important; width: 100% !important; border: 1px solid rgb(207, 207, 207) !important; border-collapse: collapse !important; ; color: var(--jp-ui-font-color1) !important; }\n",
       "      th.tdhistory616161 { border: 1px solid rgb(198,198,198) !important; border-collapse: collapse !important; ; padding: 2px 5px !important; ; font-size: 13px !important; ; text-align: center !important; white-space: normal !important; color: var(--jp-ui-font-color1) !important; }\n",
       "      th.tdhistory616161:last-child { text-align: left !important; }\n",
       "      tbody.tdhistory616161 tr:nth-child(even) { background: rgba(243, 243, 243, 0.75) !important; }\n",
       "      tbody.tdhistory616161 tr:nth-child(odd) { background: var(--jp-ui-inverse-font-color1) !important; }\n",
       "      td.tdhistory616161 { border: 1px solid rgb(207, 207, 207) !important; border-collapse: collapse !important; ; padding: 2px 5px !important; ; font-size: 13px !important; ; text-align: left !important;          white-space: nowrap !important; overflow:hidden !important; text-overflow:ellipsis !important;; }\n",
       "    </style><thead><tr style= \"background: rgba(243, 243, 243, 0.75)\"><th class=\"tdhistory616161\"></th><th class=\"tdhistory616161\">GENDER</th><th class=\"tdhistory616161\">FIRST_NAME</th><th class=\"tdhistory616161\">LAST_NAME</th><th class=\"tdhistory616161\">ADDRESS</th><th class=\"tdhistory616161\">STATE</th><th class=\"tdhistory616161\">CITY</th><th class=\"tdhistory616161\">ZIPCODE</th><th class=\"tdhistory616161\">PHONE</th><th class=\"tdhistory616161\">CALL_CENTER_COST</th></tr></thead><tbody class=\"tdhistory616161 resultset-body\"><tr><th class=\"tdhistory616161\" style= \"background: rgba(243, 243, 243, 0.75)\">1</th><td class=\"tdhistory616161\">F</td><td class=\"tdhistory616161\">Jessica</td><td class=\"tdhistory616161\">Rego</td><td class=\"tdhistory616161\">3114 Park Street</td><td class=\"tdhistory616161\">OH</td><td class=\"tdhistory616161\">Nashporte</td><td class=\"tdhistory616161\">43830</td><td class=\"tdhistory616161\">(530) 696-4308</td><td class=\"tdhistory616161\">50</td></tr></tbody></table></div>"
      ]
     },
     "execution_count": 11,
     "metadata": {
      "application/vnd.teradata.resultset": "{\"resultSetID\":\"/home/jovyan/JupyterLabRoot/Teradata/Resultsets/2024.09.05_08.53.27.880_UTC\",\"historyID\":87,\"chunkID\":\"00001\",\"sessionid\":\"\",\"portnum\":\"\",\"dockermode\":\"docker\",\"totalRowCount\":1,\"chunkCount\":0,\"rowLimit\":0,\"columnMetadata\":[{\"columnName\":\"GENDER\",\"columnTypeName\":\"VARCHAR\",\"length\":1,\"scale\":1},{\"columnNumber\":1,\"columnName\":\"FIRST_NAME\",\"columnTypeName\":\"VARCHAR\",\"length\":10,\"scale\":10},{\"columnNumber\":2,\"columnName\":\"LAST_NAME\",\"columnTypeName\":\"VARCHAR\",\"length\":9,\"scale\":9},{\"columnNumber\":3,\"columnName\":\"ADDRESS\",\"columnTypeName\":\"VARCHAR\",\"length\":25,\"scale\":25},{\"columnNumber\":4,\"columnName\":\"STATE\",\"columnTypeName\":\"VARCHAR\",\"length\":2,\"scale\":2},{\"columnNumber\":5,\"columnName\":\"CITY\",\"columnTypeName\":\"VARCHAR\",\"length\":16,\"scale\":16},{\"columnNumber\":6,\"columnName\":\"ZIPCODE\",\"columnTypeName\":\"INTEGER\"},{\"columnNumber\":7,\"columnName\":\"PHONE\",\"columnTypeName\":\"VARCHAR\",\"length\":14,\"scale\":14},{\"columnNumber\":8,\"columnName\":\"CALL_CENTER_COST\",\"columnTypeName\":\"BYTEINT\"}]}"
     },
     "output_type": "execute_result"
    }
   ],
   "source": [
    "-- Find Jessica Rego in call center table\n",
    "SELECT * FROM DEMO_Customer360.CallCenter\n",
    "WHERE FIRST_NAME LIKE 'Jes%' AND LAST_NAME LIKE 'Reg%'"
   ]
  },
  {
   "cell_type": "code",
   "execution_count": 12,
   "id": "1b8603ec",
   "metadata": {},
   "outputs": [
    {
     "data": {
      "application/vnd.teradata.resultset": "\"ADDR_LN_1_TXT\",\"ST_OR_PROV_CD\",\"CITY_NAME\",\"ZIP\",\"COOKIE\",\"CAMPAIGN\"\n\"3114Park Street\",\"OH\",\"Nashport\",\"43830\",\"2846E54D5FFE2905099AC6E23014DF7\",\"Email\"",
      "text/html": [
       "<div class = \"td-resultset-table-div\" style = \"max-height: 100%; overflow-y: auto\">\n",
       "      <table class=\"tdhistory793338\"><style>\n",
       "      table.tdhistory793338 { display: block !important; min-height: 105px !important; overflow: auto !important; height: 105px !important; width: 100% !important; border: 1px solid rgb(207, 207, 207) !important; border-collapse: collapse !important; ; color: var(--jp-ui-font-color1) !important; }\n",
       "      th.tdhistory793338 { border: 1px solid rgb(198,198,198) !important; border-collapse: collapse !important; ; padding: 2px 5px !important; ; font-size: 13px !important; ; text-align: center !important; white-space: normal !important; color: var(--jp-ui-font-color1) !important; }\n",
       "      th.tdhistory793338:last-child { text-align: left !important; }\n",
       "      tbody.tdhistory793338 tr:nth-child(even) { background: rgba(243, 243, 243, 0.75) !important; }\n",
       "      tbody.tdhistory793338 tr:nth-child(odd) { background: var(--jp-ui-inverse-font-color1) !important; }\n",
       "      td.tdhistory793338 { border: 1px solid rgb(207, 207, 207) !important; border-collapse: collapse !important; ; padding: 2px 5px !important; ; font-size: 13px !important; ; text-align: left !important;          white-space: nowrap !important; overflow:hidden !important; text-overflow:ellipsis !important;; }\n",
       "    </style><thead><tr style= \"background: rgba(243, 243, 243, 0.75)\"><th class=\"tdhistory793338\"></th><th class=\"tdhistory793338\">ADDR_LN_1_TXT</th><th class=\"tdhistory793338\">ST_OR_PROV_CD</th><th class=\"tdhistory793338\">CITY_NAME</th><th class=\"tdhistory793338\">ZIP</th><th class=\"tdhistory793338\">COOKIE</th><th class=\"tdhistory793338\">CAMPAIGN</th></tr></thead><tbody class=\"tdhistory793338 resultset-body\"><tr><th class=\"tdhistory793338\" style= \"background: rgba(243, 243, 243, 0.75)\">1</th><td class=\"tdhistory793338\">3114Park Street</td><td class=\"tdhistory793338\">OH</td><td class=\"tdhistory793338\">Nashport</td><td class=\"tdhistory793338\">43830</td><td class=\"tdhistory793338\">2846E54D5FFE2905099AC6E23014DF7</td><td class=\"tdhistory793338\">Email</td></tr></tbody></table></div>"
      ]
     },
     "execution_count": 12,
     "metadata": {
      "application/vnd.teradata.resultset": "{\"resultSetID\":\"/home/jovyan/JupyterLabRoot/Teradata/Resultsets/2024.09.05_08.53.27.934_UTC\",\"historyID\":88,\"chunkID\":\"00001\",\"sessionid\":\"\",\"portnum\":\"\",\"dockermode\":\"docker\",\"totalRowCount\":1,\"chunkCount\":0,\"rowLimit\":0,\"columnMetadata\":[{\"columnName\":\"ADDR_LN_1_TXT\",\"columnTypeName\":\"VARCHAR\",\"length\":25,\"scale\":25},{\"columnNumber\":1,\"columnName\":\"ST_OR_PROV_CD\",\"columnTypeName\":\"VARCHAR\",\"length\":2,\"scale\":2},{\"columnNumber\":2,\"columnName\":\"CITY_NAME\",\"columnTypeName\":\"VARCHAR\",\"length\":21,\"scale\":21},{\"columnNumber\":3,\"columnName\":\"ZIP\",\"columnTypeName\":\"INTEGER\"},{\"columnNumber\":4,\"columnName\":\"COOKIE\",\"columnTypeName\":\"VARCHAR\",\"length\":32,\"scale\":32},{\"columnNumber\":5,\"columnName\":\"CAMPAIGN\",\"columnTypeName\":\"VARCHAR\",\"length\":7,\"scale\":7}]}"
     },
     "output_type": "execute_result"
    }
   ],
   "source": [
    "-- Find Jessica Rego's address in tagging table\n",
    "SELECT * FROM DEMO_Customer360.Cookie\n",
    "WHERE ADDR_LN_1_TXT LIKE '3114%Park%'"
   ]
  },
  {
   "cell_type": "markdown",
   "id": "83392067",
   "metadata": {},
   "source": [
    "<hr style=\"height:2px;border:none;background-color:#00233C;\">\n",
    "<p style = 'font-size:20px;font-family:Arial;color:#00233C'><b>4. Append Online Data to Equipment Table</b></p>\n",
    "\n",
    "<p style = 'font-size:16px;font-family:Arial;color:#00233C'>This section will illustrate matching between the equipment and e-commerce tables using the StringSimilarity function built into ClearScape Analytics. The <a href=\"https://docs.teradata.com/r/Database-Analytic-Functions/July-2021/Advanced-SQL-Engine-Analytic-Functions/StringSimilarity-SQL-Engine\">StringSimiliarity documentation</a> contains more information on the function. The StringSimiliarty function supports 10 different ways of comparing two strings. We will use the Jaro similiarity, which accounts for the number of matching characters and transpositions.</p>\n",
    "\n",
    "<p style = 'font-size:16px;font-family:Arial;color:#00233C'>Steps for this section include: \n",
    "    <img src = 'images/step4.png' width = '350' align='right' padding='padding:50px'></p>\n",
    "\n",
    "<ol style = 'font-size:16px;font-family:Arial;color:#00233C'>\n",
    "        <li>Exploring which key strings will be matched from a full join</li> \n",
    "        <li>Creating a matching table consisting of: \n",
    "        <ul><li>The key string from the equipment table</li>\n",
    "            <li>The key string from the e-commerce table</li>\n",
    "            <li>The matching score</li>\n",
    "            <li>Any columns from the e-commerce table we want to append</li>\n",
    "        </ul></li>\n",
    "    <li style = 'font-size:16px;font-family:Arial;color:#00233C'>Joining the in-store table with the matching table to form an intermediate golden record</li>\n",
    "    </ol>\n",
    "    "
   ]
  },
  {
   "cell_type": "markdown",
   "id": "b7839a39",
   "metadata": {},
   "source": [
    "<hr style=\"height:1px;border:none;background-color:#00233C;\">\n",
    "<p style = 'font-size:18px;font-family:Arial;color:#00233C'><b>4.1 - Exploring full join key strings</b></p>\n",
    "\n",
    "<p style = 'font-size:16px;font-family:Arial;color:#00233C'>We will create a key string for each row of the equipment and online tables. The key string will consist of the first name, last name, and city with all spaces removed. Then each key string from the retail table will be compared with each key string in the e-commerce table. The statement below shows the first 20 rows of the comparison. Note that every equipment key is being compared to the first online key.</p>"
   ]
  },
  {
   "cell_type": "code",
   "execution_count": 13,
   "id": "9287ff8f",
   "metadata": {},
   "outputs": [
    {
     "data": {
      "application/vnd.teradata.resultset": "\"CUST_ID\",\"LOYALTY_NUM\",\"EQUIPMENT_KEY\",\"ONLINE_KEY\"\n\"19579\",\"1233911\",\"MPedroGonsalvesGreenville\",\"FLauraDeSilvaNewCastle\"\n\"19688\",\"1233911\",\"FLuizaTeixeiraKerr\",\"FLauraDeSilvaNewCastle\"\n\"22143\",\"1233911\",\"MLucasMoreauWinchester\",\"FLauraDeSilvaNewCastle\"\n\"22142\",\"1233911\",\"FBeatrizGonsalvesFairfield\",\"FLauraDeSilvaNewCastle\"\n\"20575\",\"1233911\",\"FLauraDeSilvaNewCastle\",\"FLauraDeSilvaNewCastle\"",
      "text/html": [
       "<div class = \"td-resultset-table-div\" style = \"max-height: 100%; overflow-y: auto\">\n",
       "      <table class=\"tdhistory763545\"><style>\n",
       "      table.tdhistory763545 { display: block !important; min-height: 189px !important; overflow: auto !important; height: 189px !important; width: 100% !important; border: 1px solid rgb(207, 207, 207) !important; border-collapse: collapse !important; ; color: var(--jp-ui-font-color1) !important; }\n",
       "      th.tdhistory763545 { border: 1px solid rgb(198,198,198) !important; border-collapse: collapse !important; ; padding: 2px 5px !important; ; font-size: 13px !important; ; text-align: center !important; white-space: normal !important; color: var(--jp-ui-font-color1) !important; }\n",
       "      th.tdhistory763545:last-child { text-align: left !important; }\n",
       "      tbody.tdhistory763545 tr:nth-child(even) { background: rgba(243, 243, 243, 0.75) !important; }\n",
       "      tbody.tdhistory763545 tr:nth-child(odd) { background: var(--jp-ui-inverse-font-color1) !important; }\n",
       "      td.tdhistory763545 { border: 1px solid rgb(207, 207, 207) !important; border-collapse: collapse !important; ; padding: 2px 5px !important; ; font-size: 13px !important; ; text-align: left !important;          white-space: nowrap !important; overflow:hidden !important; text-overflow:ellipsis !important;; }\n",
       "    </style><thead><tr style= \"background: rgba(243, 243, 243, 0.75)\"><th class=\"tdhistory763545\"></th><th class=\"tdhistory763545\">CUST_ID</th><th class=\"tdhistory763545\">LOYALTY_NUM</th><th class=\"tdhistory763545\">EQUIPMENT_KEY</th><th class=\"tdhistory763545\">ONLINE_KEY</th></tr></thead><tbody class=\"tdhistory763545 resultset-body\"><tr><th class=\"tdhistory763545\" style= \"background: rgba(243, 243, 243, 0.75)\">1</th><td class=\"tdhistory763545\">19579</td><td class=\"tdhistory763545\">1233911</td><td class=\"tdhistory763545\">MPedroGonsalvesGreenville</td><td class=\"tdhistory763545\">FLauraDeSilvaNewCastle</td></tr><tr><th class=\"tdhistory763545\" style= \"background: rgba(243, 243, 243, 0.75)\">2</th><td class=\"tdhistory763545\">19688</td><td class=\"tdhistory763545\">1233911</td><td class=\"tdhistory763545\">FLuizaTeixeiraKerr</td><td class=\"tdhistory763545\">FLauraDeSilvaNewCastle</td></tr><tr><th class=\"tdhistory763545\" style= \"background: rgba(243, 243, 243, 0.75)\">3</th><td class=\"tdhistory763545\">22143</td><td class=\"tdhistory763545\">1233911</td><td class=\"tdhistory763545\">MLucasMoreauWinchester</td><td class=\"tdhistory763545\">FLauraDeSilvaNewCastle</td></tr><tr><th class=\"tdhistory763545\" style= \"background: rgba(243, 243, 243, 0.75)\">4</th><td class=\"tdhistory763545\">22142</td><td class=\"tdhistory763545\">1233911</td><td class=\"tdhistory763545\">FBeatrizGonsalvesFairfield</td><td class=\"tdhistory763545\">FLauraDeSilvaNewCastle</td></tr><tr><th class=\"tdhistory763545\" style= \"background: rgba(243, 243, 243, 0.75)\">5</th><td class=\"tdhistory763545\">20575</td><td class=\"tdhistory763545\">1233911</td><td class=\"tdhistory763545\">FLauraDeSilvaNewCastle</td><td class=\"tdhistory763545\">FLauraDeSilvaNewCastle</td></tr></tbody></table></div>"
      ]
     },
     "execution_count": 13,
     "metadata": {
      "application/vnd.teradata.resultset": "{\"resultSetID\":\"/home/jovyan/JupyterLabRoot/Teradata/Resultsets/2024.09.05_08.53.28.111_UTC\",\"historyID\":89,\"chunkID\":\"00001\",\"sessionid\":\"\",\"portnum\":\"\",\"dockermode\":\"docker\",\"totalRowCount\":5,\"chunkCount\":0,\"rowLimit\":0,\"columnMetadata\":[{\"columnName\":\"CUST_ID\",\"columnTypeName\":\"SMALLINT\"},{\"columnNumber\":1,\"columnName\":\"LOYALTY_NUM\",\"columnTypeName\":\"INTEGER\"},{\"columnNumber\":2,\"columnName\":\"EQUIPMENT_KEY\",\"columnTypeName\":\"VARCHAR\",\"length\":8000,\"scale\":8000},{\"columnNumber\":3,\"columnName\":\"ONLINE_KEY\",\"columnTypeName\":\"VARCHAR\",\"length\":8000,\"scale\":8000}]}"
     },
     "output_type": "execute_result"
    }
   ],
   "source": [
    "SELECT TOP 5\n",
    "    e.CUST_ID,\n",
    "    o.LOYALTY_NUM,\n",
    "    REGEXP_REPLACE(OREPLACE((e.GENDER||e.FIRSTNAME||e.LASTNAME||e.CITY),\n",
    "                            ' ',''), \n",
    "                   '[^a-zA-Z\\d:]','',1,0) as EQUIPMENT_KEY,\n",
    "    REGEXP_REPLACE(OREPLACE((o.SEX||o.FNAME||o.LNAME||o.CITY),\n",
    "                            ' ',''), \n",
    "                   '[^a-zA-Z\\d:]','',1,0) as ONLINE_KEY\n",
    "FROM DEMO_Customer360.Equipment e, DEMO_Customer360.Online o;"
   ]
  },
  {
   "cell_type": "markdown",
   "id": "3eb098b0",
   "metadata": {},
   "source": [
    "<hr style=\"height:1px;border:none;background-color:#00233C;\">\n",
    "<p style = 'font-size:18px;font-family:Arial;color:#00233C'><b>4.2 - Creating a matching table</b></p>\n",
    "\n",
    "<p style = 'font-size:16px;font-family:Arial;color:#00233C'>We will run the StringSimiliarity function on each row of the table above and only select the rows with a Jaro match of at least a certain threshold. Since the Jaro simliarity score is normalized between 0 and 1, we will choose a threshold of 0.90.</p>"
   ]
  },
  {
   "cell_type": "code",
   "execution_count": 14,
   "id": "f6a89e43",
   "metadata": {},
   "outputs": [
    {
     "data": {
      "text/plain": [
       "Success: 0 rows affected"
      ]
     },
     "execution_count": 14,
     "metadata": {
      "application/vnd.teradata.resultset": ""
     },
     "output_type": "execute_result"
    }
   ],
   "source": [
    "REPLACE VIEW C360_MatchAB_V AS (\n",
    "    SELECT * FROM StringSimilarity (\n",
    "        ON (\n",
    "            SELECT \n",
    "                e.CUST_ID, \n",
    "                o.LOYALTY_NUM, \n",
    "                CAST(REGEXP_REPLACE(OREPLACE((e.GENDER||e.FIRSTNAME||e.LASTNAME||e.CITY),' ',''), \n",
    "                                             '[^a-zA-Z\\d:]','',1,0) as VARCHAR(50)) \n",
    "                                             as EQUIPMENT_KEY,\n",
    "                CAST(REGEXP_REPLACE(OREPLACE((o.SEX||o.FNAME||o.LNAME||o.CITY),' ',''), \n",
    "                                             '[^a-zA-Z\\d:]','',1,0) as VARCHAR(50)) \n",
    "                                             as ONLINE_KEY,\n",
    "                o.email\n",
    "            FROM DEMO_Customer360.Equipment e, DEMO_Customer360.Online o\n",
    "        ) PARTITION BY ANY\n",
    "        USING\n",
    "        ComparisonColumnPairs(\n",
    "            'jaro (EQUIPMENT_KEY, ONLINE_KEY) AS jaro'\n",
    "        )\n",
    "        CaseSensitive('false')\n",
    "        Accumulate('CUST_ID', 'LOYALTY_NUM', 'EQUIPMENT_KEY', 'ONLINE_KEY', 'EMAIL')\n",
    "    ) AS dt \n",
    "WHERE jaro > .90)"
   ]
  },
  {
   "cell_type": "code",
   "execution_count": 15,
   "id": "78e27c66",
   "metadata": {},
   "outputs": [
    {
     "data": {
      "application/vnd.teradata.resultset": "\"CUST_ID\",\"LOYALTY_NUM\",\"EQUIPMENT_KEY\",\"ONLINE_KEY\",\"EMAIL\",\"jaro\"\n\"20521\",\"6947731\",\"FBrunaGonsalvesHighlandFalls\",\"FBrunaGonsalvesHighlandFalls\",\"bgonsalves@gmail.com\",\"1\"\n\"19397\",\"5353875\",\"FBeatrizMartinsAshley\",\"FBeatrizMartinsAshley\",\"bmartins@gmail.com\",\"1\"\n\"22142\",\"1584600\",\"FBeatrizGonsalvesFairfield\",\"FBeatrizGonsalvesFairfield\",\"beatriz.gonsalves@teratitan.com\",\"1\"\n\"19463\",\"7782697\",\"FAaryaPatelWaiteville\",\"FAaryaPatelWaiteville\",\"apatel@gmail.com\",\"1\"\n\"19939\",\"5698076\",\"MJuanTorresBretz\",\"MJuanTorresBretz\",\"jtorres@gmail.com\",\"1\"\n\"19579\",\"5969239\",\"MPedroGonsalvesGreenville\",\"MPedroGonsalvesGreenville\",\"pedro.gonsalves@teratitan.com\",\"1\"\n\"21832\",\"1596672\",\"FJiaojieGaoLakeAriel\",\"FJiaojieGaoLakeAriel\",\"jgao@gmail.com\",\"1\"\n\"22143\",\"1481403\",\"MLucasMoreauWinchester\",\"MLucasMoreauWinchester\",\"lucas.moreau@teratitan.com\",\"1\"\n\"21964\",\"1937953\",\"MStevenSugarHamilton\",\"MStevenSugarHamilton\",\"Steven.Sugar@teratitan.com\",\"1\"\n\"19688\",\"6428173\",\"FLuizaTeixeiraKerr\",\"FLuizaTeixeiraKerr\",\"lteixeira@gmail.com\",\"1\"\n\"21604\",\"5640564\",\"FSofieLarsenJavaCenter\",\"FSofieLarsenJavaCenter\",\"sofie.larsen@teratitan.com\",\"1\"\n\"20575\",\"1233911\",\"FLauraDeSilvaNewCastle\",\"FLauraDeSilvaNewCastle\",\"ldesilva@gmail.com\",\"1\"\n\"19499\",\"2050619\",\"MMiguelSousaLinden\",\"MMiguelSousaLinden\",\"msousa@gmail.com\",\"1\"\n\"22099\",\"3947978\",\"FAmySmithBrooklyn\",\"FAmySmithBrooklyn\",\"asmith@gmail.com\",\"1\"\n\"22217\",\"7804483\",\"MAlexanderSchaferSmithburg\",\"MAlexanderSchafferSmithburg\",\"alexander.schafer@teratitan.com\",\"0.9876543209876543\"\n\"19565\",\"5927010\",\"FNishiDwivediSheakleyville\",\"FNishinDwivediSheakleyville\",\"nishi.dwivedi@teratitan.com\",\"0.9876543209876543\"\n\"19649\",\"1249080\",\"MVitorTeixeiraBridgeport\",\"MVictorTeixeiraBridgeport\",\"vteixeira@gmail.com\",\"0.9866666666666667\"\n\"19674\",\"1547675\",\"MLucasRegoWestFarmington\",\"MLucasRegooWestFarmington\",\"lregoo@yahoo.com\",\"0.9866666666666667\"\n\"20171\",\"5582138\",\"MMiguelTeixeiraEauClaire\",\"MMigeulTeixeiraEauClaire\",\"mteixeira@outlook.com\",\"0.9861111111111112\"\n\"21805\",\"3927985\",\"MTiffanyLongTuscarawas\",\"MTiffanyLongeTuscarawas\",\"Tiffany.Long@teratitan.com\",\"0.9855072463768115\"",
      "text/html": [
       "<div class = \"td-resultset-table-div\" style = \"max-height: 100%; overflow-y: auto\">\n",
       "      <table class=\"tdhistory46512\"><style>\n",
       "      table.tdhistory46512 { display: block !important; min-height: 504px !important; overflow: auto !important; height: 504px !important; width: 100% !important; border: 1px solid rgb(207, 207, 207) !important; border-collapse: collapse !important; ; color: var(--jp-ui-font-color1) !important; }\n",
       "      th.tdhistory46512 { border: 1px solid rgb(198,198,198) !important; border-collapse: collapse !important; ; padding: 2px 5px !important; ; font-size: 13px !important; ; text-align: center !important; white-space: normal !important; color: var(--jp-ui-font-color1) !important; }\n",
       "      th.tdhistory46512:last-child { text-align: left !important; }\n",
       "      tbody.tdhistory46512 tr:nth-child(even) { background: rgba(243, 243, 243, 0.75) !important; }\n",
       "      tbody.tdhistory46512 tr:nth-child(odd) { background: var(--jp-ui-inverse-font-color1) !important; }\n",
       "      td.tdhistory46512 { border: 1px solid rgb(207, 207, 207) !important; border-collapse: collapse !important; ; padding: 2px 5px !important; ; font-size: 13px !important; ; text-align: left !important;          white-space: nowrap !important; overflow:hidden !important; text-overflow:ellipsis !important;; }\n",
       "    </style><thead><tr style= \"background: rgba(243, 243, 243, 0.75)\"><th class=\"tdhistory46512\"></th><th class=\"tdhistory46512\">CUST_ID</th><th class=\"tdhistory46512\">LOYALTY_NUM</th><th class=\"tdhistory46512\">EQUIPMENT_KEY</th><th class=\"tdhistory46512\">ONLINE_KEY</th><th class=\"tdhistory46512\">EMAIL</th><th class=\"tdhistory46512\">jaro</th></tr></thead><tbody class=\"tdhistory46512 resultset-body\"><tr><th class=\"tdhistory46512\" style= \"background: rgba(243, 243, 243, 0.75)\">1</th><td class=\"tdhistory46512\">20521</td><td class=\"tdhistory46512\">6947731</td><td class=\"tdhistory46512\">FBrunaGonsalvesHighlandFalls</td><td class=\"tdhistory46512\">FBrunaGonsalvesHighlandFalls</td><td class=\"tdhistory46512\">bgonsalves@gmail.com</td><td class=\"tdhistory46512\">1</td></tr><tr><th class=\"tdhistory46512\" style= \"background: rgba(243, 243, 243, 0.75)\">2</th><td class=\"tdhistory46512\">19397</td><td class=\"tdhistory46512\">5353875</td><td class=\"tdhistory46512\">FBeatrizMartinsAshley</td><td class=\"tdhistory46512\">FBeatrizMartinsAshley</td><td class=\"tdhistory46512\">bmartins@gmail.com</td><td class=\"tdhistory46512\">1</td></tr><tr><th class=\"tdhistory46512\" style= \"background: rgba(243, 243, 243, 0.75)\">3</th><td class=\"tdhistory46512\">22142</td><td class=\"tdhistory46512\">1584600</td><td class=\"tdhistory46512\">FBeatrizGonsalvesFairfield</td><td class=\"tdhistory46512\">FBeatrizGonsalvesFairfield</td><td class=\"tdhistory46512\">beatriz.gonsalves@teratitan.com</td><td class=\"tdhistory46512\">1</td></tr><tr><th class=\"tdhistory46512\" style= \"background: rgba(243, 243, 243, 0.75)\">4</th><td class=\"tdhistory46512\">19463</td><td class=\"tdhistory46512\">7782697</td><td class=\"tdhistory46512\">FAaryaPatelWaiteville</td><td class=\"tdhistory46512\">FAaryaPatelWaiteville</td><td class=\"tdhistory46512\">apatel@gmail.com</td><td class=\"tdhistory46512\">1</td></tr><tr><th class=\"tdhistory46512\" style= \"background: rgba(243, 243, 243, 0.75)\">5</th><td class=\"tdhistory46512\">19939</td><td class=\"tdhistory46512\">5698076</td><td class=\"tdhistory46512\">MJuanTorresBretz</td><td class=\"tdhistory46512\">MJuanTorresBretz</td><td class=\"tdhistory46512\">jtorres@gmail.com</td><td class=\"tdhistory46512\">1</td></tr><tr><th class=\"tdhistory46512\" style= \"background: rgba(243, 243, 243, 0.75)\">6</th><td class=\"tdhistory46512\">19579</td><td class=\"tdhistory46512\">5969239</td><td class=\"tdhistory46512\">MPedroGonsalvesGreenville</td><td class=\"tdhistory46512\">MPedroGonsalvesGreenville</td><td class=\"tdhistory46512\">pedro.gonsalves@teratitan.com</td><td class=\"tdhistory46512\">1</td></tr><tr><th class=\"tdhistory46512\" style= \"background: rgba(243, 243, 243, 0.75)\">7</th><td class=\"tdhistory46512\">21832</td><td class=\"tdhistory46512\">1596672</td><td class=\"tdhistory46512\">FJiaojieGaoLakeAriel</td><td class=\"tdhistory46512\">FJiaojieGaoLakeAriel</td><td class=\"tdhistory46512\">jgao@gmail.com</td><td class=\"tdhistory46512\">1</td></tr><tr><th class=\"tdhistory46512\" style= \"background: rgba(243, 243, 243, 0.75)\">8</th><td class=\"tdhistory46512\">22143</td><td class=\"tdhistory46512\">1481403</td><td class=\"tdhistory46512\">MLucasMoreauWinchester</td><td class=\"tdhistory46512\">MLucasMoreauWinchester</td><td class=\"tdhistory46512\">lucas.moreau@teratitan.com</td><td class=\"tdhistory46512\">1</td></tr><tr><th class=\"tdhistory46512\" style= \"background: rgba(243, 243, 243, 0.75)\">9</th><td class=\"tdhistory46512\">21964</td><td class=\"tdhistory46512\">1937953</td><td class=\"tdhistory46512\">MStevenSugarHamilton</td><td class=\"tdhistory46512\">MStevenSugarHamilton</td><td class=\"tdhistory46512\">Steven.Sugar@teratitan.com</td><td class=\"tdhistory46512\">1</td></tr><tr><th class=\"tdhistory46512\" style= \"background: rgba(243, 243, 243, 0.75)\">10</th><td class=\"tdhistory46512\">19688</td><td class=\"tdhistory46512\">6428173</td><td class=\"tdhistory46512\">FLuizaTeixeiraKerr</td><td class=\"tdhistory46512\">FLuizaTeixeiraKerr</td><td class=\"tdhistory46512\">lteixeira@gmail.com</td><td class=\"tdhistory46512\">1</td></tr><tr><th class=\"tdhistory46512\" style= \"background: rgba(243, 243, 243, 0.75)\">11</th><td class=\"tdhistory46512\">21604</td><td class=\"tdhistory46512\">5640564</td><td class=\"tdhistory46512\">FSofieLarsenJavaCenter</td><td class=\"tdhistory46512\">FSofieLarsenJavaCenter</td><td class=\"tdhistory46512\">sofie.larsen@teratitan.com</td><td class=\"tdhistory46512\">1</td></tr><tr><th class=\"tdhistory46512\" style= \"background: rgba(243, 243, 243, 0.75)\">12</th><td class=\"tdhistory46512\">20575</td><td class=\"tdhistory46512\">1233911</td><td class=\"tdhistory46512\">FLauraDeSilvaNewCastle</td><td class=\"tdhistory46512\">FLauraDeSilvaNewCastle</td><td class=\"tdhistory46512\">ldesilva@gmail.com</td><td class=\"tdhistory46512\">1</td></tr><tr><th class=\"tdhistory46512\" style= \"background: rgba(243, 243, 243, 0.75)\">13</th><td class=\"tdhistory46512\">19499</td><td class=\"tdhistory46512\">2050619</td><td class=\"tdhistory46512\">MMiguelSousaLinden</td><td class=\"tdhistory46512\">MMiguelSousaLinden</td><td class=\"tdhistory46512\">msousa@gmail.com</td><td class=\"tdhistory46512\">1</td></tr><tr><th class=\"tdhistory46512\" style= \"background: rgba(243, 243, 243, 0.75)\">14</th><td class=\"tdhistory46512\">22099</td><td class=\"tdhistory46512\">3947978</td><td class=\"tdhistory46512\">FAmySmithBrooklyn</td><td class=\"tdhistory46512\">FAmySmithBrooklyn</td><td class=\"tdhistory46512\">asmith@gmail.com</td><td class=\"tdhistory46512\">1</td></tr><tr><th class=\"tdhistory46512\" style= \"background: rgba(243, 243, 243, 0.75)\">15</th><td class=\"tdhistory46512\">22217</td><td class=\"tdhistory46512\">7804483</td><td class=\"tdhistory46512\">MAlexanderSchaferSmithburg</td><td class=\"tdhistory46512\">MAlexanderSchafferSmithburg</td><td class=\"tdhistory46512\">alexander.schafer@teratitan.com</td><td class=\"tdhistory46512\">0.9876543209876543</td></tr><tr><th class=\"tdhistory46512\" style= \"background: rgba(243, 243, 243, 0.75)\">16</th><td class=\"tdhistory46512\">19565</td><td class=\"tdhistory46512\">5927010</td><td class=\"tdhistory46512\">FNishiDwivediSheakleyville</td><td class=\"tdhistory46512\">FNishinDwivediSheakleyville</td><td class=\"tdhistory46512\">nishi.dwivedi@teratitan.com</td><td class=\"tdhistory46512\">0.9876543209876543</td></tr><tr><th class=\"tdhistory46512\" style= \"background: rgba(243, 243, 243, 0.75)\">17</th><td class=\"tdhistory46512\">19649</td><td class=\"tdhistory46512\">1249080</td><td class=\"tdhistory46512\">MVitorTeixeiraBridgeport</td><td class=\"tdhistory46512\">MVictorTeixeiraBridgeport</td><td class=\"tdhistory46512\">vteixeira@gmail.com</td><td class=\"tdhistory46512\">0.9866666666666667</td></tr><tr><th class=\"tdhistory46512\" style= \"background: rgba(243, 243, 243, 0.75)\">18</th><td class=\"tdhistory46512\">19674</td><td class=\"tdhistory46512\">1547675</td><td class=\"tdhistory46512\">MLucasRegoWestFarmington</td><td class=\"tdhistory46512\">MLucasRegooWestFarmington</td><td class=\"tdhistory46512\">lregoo@yahoo.com</td><td class=\"tdhistory46512\">0.9866666666666667</td></tr><tr><th class=\"tdhistory46512\" style= \"background: rgba(243, 243, 243, 0.75)\">19</th><td class=\"tdhistory46512\">20171</td><td class=\"tdhistory46512\">5582138</td><td class=\"tdhistory46512\">MMiguelTeixeiraEauClaire</td><td class=\"tdhistory46512\">MMigeulTeixeiraEauClaire</td><td class=\"tdhistory46512\">mteixeira@outlook.com</td><td class=\"tdhistory46512\">0.9861111111111112</td></tr><tr><th class=\"tdhistory46512\" style= \"background: rgba(243, 243, 243, 0.75)\">20</th><td class=\"tdhistory46512\">21805</td><td class=\"tdhistory46512\">3927985</td><td class=\"tdhistory46512\">MTiffanyLongTuscarawas</td><td class=\"tdhistory46512\">MTiffanyLongeTuscarawas</td><td class=\"tdhistory46512\">Tiffany.Long@teratitan.com</td><td class=\"tdhistory46512\">0.9855072463768115</td></tr></tbody></table></div>"
      ]
     },
     "execution_count": 15,
     "metadata": {
      "application/vnd.teradata.resultset": "{\"resultSetID\":\"/home/jovyan/JupyterLabRoot/Teradata/Resultsets/2024.09.05_08.53.29.122_UTC\",\"historyID\":91,\"chunkID\":\"00001\",\"sessionid\":\"\",\"portnum\":\"\",\"dockermode\":\"docker\",\"totalRowCount\":20,\"chunkCount\":0,\"rowLimit\":0,\"columnMetadata\":[{\"columnName\":\"CUST_ID\",\"columnTypeName\":\"SMALLINT\"},{\"columnNumber\":1,\"columnName\":\"LOYALTY_NUM\",\"columnTypeName\":\"INTEGER\"},{\"columnNumber\":2,\"columnName\":\"EQUIPMENT_KEY\",\"columnTypeName\":\"VARCHAR\",\"length\":50,\"scale\":50},{\"columnNumber\":3,\"columnName\":\"ONLINE_KEY\",\"columnTypeName\":\"VARCHAR\",\"length\":50,\"scale\":50},{\"columnNumber\":4,\"columnName\":\"EMAIL\",\"columnTypeName\":\"VARCHAR\",\"length\":31,\"scale\":31},{\"columnNumber\":5,\"columnName\":\"jaro\",\"columnTypeName\":\"FLOAT\"}]}"
     },
     "output_type": "execute_result"
    }
   ],
   "source": [
    "SELECT Top 20 * FROM C360_MatchAB_V ORDER BY jaro DESC;"
   ]
  },
  {
   "cell_type": "markdown",
   "id": "7d52a784",
   "metadata": {},
   "source": [
    "<p style = 'font-size:16px;font-family:Arial;color:#00233C'>We see that the first 14 rows consist of exact matches. But starting with the 15th row, the Jaro similarity score is less than 1, indicating there are some discrepancies. For example, taking a look at Jessica Rego, we see that her first name is spelled as Jessika in the online key field:</p>"
   ]
  },
  {
   "cell_type": "code",
   "execution_count": 16,
   "id": "a4f56adf",
   "metadata": {},
   "outputs": [
    {
     "data": {
      "application/vnd.teradata.resultset": "\"CUST_ID\",\"LOYALTY_NUM\",\"EQUIPMENT_KEY\",\"ONLINE_KEY\",\"EMAIL\",\"jaro\"\n\"21903\",\"1460445\",\"FJessicaRegoNashport\",\"FJessikaRegoNashport\",\"jrego@yahoo.com\",\"0.9666666666666667\"",
      "text/html": [
       "<div class = \"td-resultset-table-div\" style = \"max-height: 100%; overflow-y: auto\">\n",
       "      <table class=\"tdhistory24515\"><style>\n",
       "      table.tdhistory24515 { display: block !important; min-height: 105px !important; overflow: auto !important; height: 105px !important; width: 100% !important; border: 1px solid rgb(207, 207, 207) !important; border-collapse: collapse !important; ; color: var(--jp-ui-font-color1) !important; }\n",
       "      th.tdhistory24515 { border: 1px solid rgb(198,198,198) !important; border-collapse: collapse !important; ; padding: 2px 5px !important; ; font-size: 13px !important; ; text-align: center !important; white-space: normal !important; color: var(--jp-ui-font-color1) !important; }\n",
       "      th.tdhistory24515:last-child { text-align: left !important; }\n",
       "      tbody.tdhistory24515 tr:nth-child(even) { background: rgba(243, 243, 243, 0.75) !important; }\n",
       "      tbody.tdhistory24515 tr:nth-child(odd) { background: var(--jp-ui-inverse-font-color1) !important; }\n",
       "      td.tdhistory24515 { border: 1px solid rgb(207, 207, 207) !important; border-collapse: collapse !important; ; padding: 2px 5px !important; ; font-size: 13px !important; ; text-align: left !important;          white-space: nowrap !important; overflow:hidden !important; text-overflow:ellipsis !important;; }\n",
       "    </style><thead><tr style= \"background: rgba(243, 243, 243, 0.75)\"><th class=\"tdhistory24515\"></th><th class=\"tdhistory24515\">CUST_ID</th><th class=\"tdhistory24515\">LOYALTY_NUM</th><th class=\"tdhistory24515\">EQUIPMENT_KEY</th><th class=\"tdhistory24515\">ONLINE_KEY</th><th class=\"tdhistory24515\">EMAIL</th><th class=\"tdhistory24515\">jaro</th></tr></thead><tbody class=\"tdhistory24515 resultset-body\"><tr><th class=\"tdhistory24515\" style= \"background: rgba(243, 243, 243, 0.75)\">1</th><td class=\"tdhistory24515\">21903</td><td class=\"tdhistory24515\">1460445</td><td class=\"tdhistory24515\">FJessicaRegoNashport</td><td class=\"tdhistory24515\">FJessikaRegoNashport</td><td class=\"tdhistory24515\">jrego@yahoo.com</td><td class=\"tdhistory24515\">0.9666666666666667</td></tr></tbody></table></div>"
      ]
     },
     "execution_count": 16,
     "metadata": {
      "application/vnd.teradata.resultset": "{\"resultSetID\":\"/home/jovyan/JupyterLabRoot/Teradata/Resultsets/2024.09.05_08.53.29.731_UTC\",\"historyID\":92,\"chunkID\":\"00001\",\"sessionid\":\"\",\"portnum\":\"\",\"dockermode\":\"docker\",\"totalRowCount\":1,\"chunkCount\":0,\"rowLimit\":0,\"columnMetadata\":[{\"columnName\":\"CUST_ID\",\"columnTypeName\":\"SMALLINT\"},{\"columnNumber\":1,\"columnName\":\"LOYALTY_NUM\",\"columnTypeName\":\"INTEGER\"},{\"columnNumber\":2,\"columnName\":\"EQUIPMENT_KEY\",\"columnTypeName\":\"VARCHAR\",\"length\":50,\"scale\":50},{\"columnNumber\":3,\"columnName\":\"ONLINE_KEY\",\"columnTypeName\":\"VARCHAR\",\"length\":50,\"scale\":50},{\"columnNumber\":4,\"columnName\":\"EMAIL\",\"columnTypeName\":\"VARCHAR\",\"length\":31,\"scale\":31},{\"columnNumber\":5,\"columnName\":\"jaro\",\"columnTypeName\":\"FLOAT\"}]}"
     },
     "output_type": "execute_result"
    }
   ],
   "source": [
    "SELECT * FROM C360_MatchAB_V WHERE EQUIPMENT_KEY LIKE '%JessicaRego%'"
   ]
  },
  {
   "cell_type": "markdown",
   "id": "e5f68727",
   "metadata": {},
   "source": [
    "<p style = 'font-size:16px;font-family:Arial;color:#00233C'>We find that out of the 100 records in the retail table and 70 in the e-commerce table, 67 were matched.</p>"
   ]
  },
  {
   "cell_type": "code",
   "execution_count": 17,
   "id": "6fd28b5e",
   "metadata": {},
   "outputs": [
    {
     "data": {
      "application/vnd.teradata.resultset": "\"Count(*)\"\n\"100\"",
      "text/html": [
       "<div class = \"td-resultset-table-div\" style = \"max-height: 100%; overflow-y: auto\">\n",
       "      <table class=\"tdhistory495878\"><style>\n",
       "      table.tdhistory495878 { display: block !important; min-height: 105px !important; overflow: auto !important; height: 105px !important; width: 100% !important; border: 1px solid rgb(207, 207, 207) !important; border-collapse: collapse !important; ; color: var(--jp-ui-font-color1) !important; }\n",
       "      th.tdhistory495878 { border: 1px solid rgb(198,198,198) !important; border-collapse: collapse !important; ; padding: 2px 5px !important; ; font-size: 13px !important; ; text-align: center !important; white-space: normal !important; color: var(--jp-ui-font-color1) !important; }\n",
       "      th.tdhistory495878:last-child { text-align: left !important; }\n",
       "      tbody.tdhistory495878 tr:nth-child(even) { background: rgba(243, 243, 243, 0.75) !important; }\n",
       "      tbody.tdhistory495878 tr:nth-child(odd) { background: var(--jp-ui-inverse-font-color1) !important; }\n",
       "      td.tdhistory495878 { border: 1px solid rgb(207, 207, 207) !important; border-collapse: collapse !important; ; padding: 2px 5px !important; ; font-size: 13px !important; ; text-align: left !important;          white-space: nowrap !important; overflow:hidden !important; text-overflow:ellipsis !important;; }\n",
       "    </style><thead><tr style= \"background: rgba(243, 243, 243, 0.75)\"><th class=\"tdhistory495878\"></th><th class=\"tdhistory495878\">Count(*)</th></tr></thead><tbody class=\"tdhistory495878 resultset-body\"><tr><th class=\"tdhistory495878\" style= \"background: rgba(243, 243, 243, 0.75)\">1</th><td class=\"tdhistory495878\">100</td></tr></tbody></table></div>"
      ]
     },
     "execution_count": 17,
     "metadata": {
      "application/vnd.teradata.resultset": "{\"resultSetID\":\"/home/jovyan/JupyterLabRoot/Teradata/Resultsets/2024.09.05_08.53.29.783_UTC\",\"historyID\":93,\"chunkID\":\"00001\",\"sessionid\":\"\",\"portnum\":\"\",\"dockermode\":\"docker\",\"totalRowCount\":1,\"chunkCount\":0,\"rowLimit\":0,\"columnMetadata\":[{\"columnName\":\"Count(*)\",\"columnTypeName\":\"INTEGER\"}]}"
     },
     "output_type": "execute_result"
    }
   ],
   "source": [
    "SELECT COUNT(*) FROM DEMO_Customer360.Equipment"
   ]
  },
  {
   "cell_type": "code",
   "execution_count": 18,
   "id": "bee28711",
   "metadata": {},
   "outputs": [
    {
     "data": {
      "application/vnd.teradata.resultset": "\"Count(*)\"\n\"70\"",
      "text/html": [
       "<div class = \"td-resultset-table-div\" style = \"max-height: 100%; overflow-y: auto\">\n",
       "      <table class=\"tdhistory637431\"><style>\n",
       "      table.tdhistory637431 { display: block !important; min-height: 105px !important; overflow: auto !important; height: 105px !important; width: 100% !important; border: 1px solid rgb(207, 207, 207) !important; border-collapse: collapse !important; ; color: var(--jp-ui-font-color1) !important; }\n",
       "      th.tdhistory637431 { border: 1px solid rgb(198,198,198) !important; border-collapse: collapse !important; ; padding: 2px 5px !important; ; font-size: 13px !important; ; text-align: center !important; white-space: normal !important; color: var(--jp-ui-font-color1) !important; }\n",
       "      th.tdhistory637431:last-child { text-align: left !important; }\n",
       "      tbody.tdhistory637431 tr:nth-child(even) { background: rgba(243, 243, 243, 0.75) !important; }\n",
       "      tbody.tdhistory637431 tr:nth-child(odd) { background: var(--jp-ui-inverse-font-color1) !important; }\n",
       "      td.tdhistory637431 { border: 1px solid rgb(207, 207, 207) !important; border-collapse: collapse !important; ; padding: 2px 5px !important; ; font-size: 13px !important; ; text-align: left !important;          white-space: nowrap !important; overflow:hidden !important; text-overflow:ellipsis !important;; }\n",
       "    </style><thead><tr style= \"background: rgba(243, 243, 243, 0.75)\"><th class=\"tdhistory637431\"></th><th class=\"tdhistory637431\">Count(*)</th></tr></thead><tbody class=\"tdhistory637431 resultset-body\"><tr><th class=\"tdhistory637431\" style= \"background: rgba(243, 243, 243, 0.75)\">1</th><td class=\"tdhistory637431\">70</td></tr></tbody></table></div>"
      ]
     },
     "execution_count": 18,
     "metadata": {
      "application/vnd.teradata.resultset": "{\"resultSetID\":\"/home/jovyan/JupyterLabRoot/Teradata/Resultsets/2024.09.05_08.53.29.853_UTC\",\"historyID\":94,\"chunkID\":\"00001\",\"sessionid\":\"\",\"portnum\":\"\",\"dockermode\":\"docker\",\"totalRowCount\":1,\"chunkCount\":0,\"rowLimit\":0,\"columnMetadata\":[{\"columnName\":\"Count(*)\",\"columnTypeName\":\"INTEGER\"}]}"
     },
     "output_type": "execute_result"
    }
   ],
   "source": [
    "SELECT COUNT(*) FROM DEMO_Customer360.Online"
   ]
  },
  {
   "cell_type": "code",
   "execution_count": 19,
   "id": "7853c0b9",
   "metadata": {},
   "outputs": [
    {
     "data": {
      "application/vnd.teradata.resultset": "\"Count(*)\"\n\"67\"",
      "text/html": [
       "<div class = \"td-resultset-table-div\" style = \"max-height: 100%; overflow-y: auto\">\n",
       "      <table class=\"tdhistory405040\"><style>\n",
       "      table.tdhistory405040 { display: block !important; min-height: 105px !important; overflow: auto !important; height: 105px !important; width: 100% !important; border: 1px solid rgb(207, 207, 207) !important; border-collapse: collapse !important; ; color: var(--jp-ui-font-color1) !important; }\n",
       "      th.tdhistory405040 { border: 1px solid rgb(198,198,198) !important; border-collapse: collapse !important; ; padding: 2px 5px !important; ; font-size: 13px !important; ; text-align: center !important; white-space: normal !important; color: var(--jp-ui-font-color1) !important; }\n",
       "      th.tdhistory405040:last-child { text-align: left !important; }\n",
       "      tbody.tdhistory405040 tr:nth-child(even) { background: rgba(243, 243, 243, 0.75) !important; }\n",
       "      tbody.tdhistory405040 tr:nth-child(odd) { background: var(--jp-ui-inverse-font-color1) !important; }\n",
       "      td.tdhistory405040 { border: 1px solid rgb(207, 207, 207) !important; border-collapse: collapse !important; ; padding: 2px 5px !important; ; font-size: 13px !important; ; text-align: left !important;          white-space: nowrap !important; overflow:hidden !important; text-overflow:ellipsis !important;; }\n",
       "    </style><thead><tr style= \"background: rgba(243, 243, 243, 0.75)\"><th class=\"tdhistory405040\"></th><th class=\"tdhistory405040\">Count(*)</th></tr></thead><tbody class=\"tdhistory405040 resultset-body\"><tr><th class=\"tdhistory405040\" style= \"background: rgba(243, 243, 243, 0.75)\">1</th><td class=\"tdhistory405040\">67</td></tr></tbody></table></div>"
      ]
     },
     "execution_count": 19,
     "metadata": {
      "application/vnd.teradata.resultset": "{\"resultSetID\":\"/home/jovyan/JupyterLabRoot/Teradata/Resultsets/2024.09.05_08.53.30.563_UTC\",\"historyID\":95,\"chunkID\":\"00001\",\"sessionid\":\"\",\"portnum\":\"\",\"dockermode\":\"docker\",\"totalRowCount\":1,\"chunkCount\":0,\"rowLimit\":0,\"columnMetadata\":[{\"columnName\":\"Count(*)\",\"columnTypeName\":\"INTEGER\"}]}"
     },
     "output_type": "execute_result"
    }
   ],
   "source": [
    "SELECT COUNT(*) FROM C360_MatchAB_V"
   ]
  },
  {
   "cell_type": "markdown",
   "id": "3c2b44a4",
   "metadata": {},
   "source": [
    "<hr style=\"height:1px;border:none;background-color:#00233C;\">\n",
    "<p style = 'font-size:18px;font-family:Arial;color:#00233C'><b>4.3 - Join tables to create intermediate golden record</b></p>\n",
    "\n",
    "<p style = 'font-size:16px;font-family:Arial;color:#00233C'>Using the CUST_ID and LOYALTY_NUM fields from the above match table, we create an interim golden record from merged retail and e-commerce tables.</p>"
   ]
  },
  {
   "cell_type": "code",
   "execution_count": 20,
   "id": "7b8f7fcf",
   "metadata": {},
   "outputs": [
    {
     "data": {
      "text/plain": [
       "Success: 0 rows affected"
      ]
     },
     "execution_count": 20,
     "metadata": {
      "application/vnd.teradata.resultset": ""
     },
     "output_type": "execute_result"
    }
   ],
   "source": [
    "REPLACE VIEW C360_gr1_V AS (\n",
    "    SELECT e.CUST_ID, mab.LOYALTY_NUM, e.GENDER, \n",
    "           e.FIRSTNAME, e.LASTNAME, \n",
    "           e.ADDRESS, e.STATE, e.CITY, e.ZIP, \n",
    "           mab.EMAIL \n",
    "    FROM DEMO_Customer360.Equipment e LEFT JOIN C360_MatchAB_V mab\n",
    "    ON e.CUST_ID = mab.CUST_ID\n",
    ")"
   ]
  },
  {
   "cell_type": "code",
   "execution_count": 21,
   "id": "b48024a4",
   "metadata": {},
   "outputs": [
    {
     "data": {
      "application/vnd.teradata.resultset": "\"CUST_ID\",\"LOYALTY_NUM\",\"GENDER\",\"FIRSTNAME\",\"LASTNAME\",\"ADDRESS\",\"STATE\",\"CITY\",\"ZIP\",\"EMAIL\"\n\"19553\",\"5451688\",\"M\",\"Bo\",\"Li\",\"3248 N. Torrey Pines Road\",\"PA\",\"Oak Ridge\",\"16245\",\"bo.li@teratitan.com\"\n\"20575\",\"1233911\",\"F\",\"Laura\",\"DeSilva\",\"11 Red Mill Road\",\"PA\",\"New Castle\",\"16105\",\"ldesilva@gmail.com\"\n\"20003\",\"\",\"M\",\"Ethan\",\"Martin\",\"7693 Cedar Street\",\"PA\",\"Greensboro\",\"15338\",\"\"\n\"20350\",\"1143641\",\"M\",\"Clement\",\"Vincent\",\"6236 Burnt Mill Road\",\"OH\",\"Edon\",\"43518\",\"clement.vincent@teratitan.com\"\n\"19980\",\"\",\"F\",\"Maria\",\"Silva\",\"8147 Center Mill Road\",\"WV\",\"Kellysville\",\"24732\",\"\"\n\"21635\",\"2242698\",\"M\",\"Alexander\",\"Muller\",\"3649 Main Street\",\"PA\",\"York\",\"17407\",\"alexander.muller@teratitan.com\"\n\"19410\",\"6170383\",\"M\",\"Rodrigo\",\"Gonsalves\",\"7150 Second Street\",\"PA\",\"Refton\",\"17568\",\"rgonsalvez@outlook.com\"\n\"22142\",\"1584600\",\"F\",\"Beatriz\",\"Gonsalves\",\"1212 Fifth Street\",\"OH\",\"Fairfield\",\"45018\",\"beatriz.gonsalves@teratitan.com\"\n\"19614\",\"\",\"M\",\"Clement\",\"Bertrand\",\"5606 Paper Mill Road\",\"NY\",\"Rochester\",\"14660\",\"\"\n\"19372\",\"1118440\",\"F\",\"Fei\",\"Zhou\",\"5957 Hill Street\",\"PA\",\"Harrisburg\",\"17128\",\"fzhou@outlook.com\"",
      "text/html": [
       "<div class = \"td-resultset-table-div\" style = \"max-height: 100%; overflow-y: auto\">\n",
       "      <table class=\"tdhistory791181\"><style>\n",
       "      table.tdhistory791181 { display: block !important; min-height: 294px !important; overflow: auto !important; height: 294px !important; width: 100% !important; border: 1px solid rgb(207, 207, 207) !important; border-collapse: collapse !important; ; color: var(--jp-ui-font-color1) !important; }\n",
       "      th.tdhistory791181 { border: 1px solid rgb(198,198,198) !important; border-collapse: collapse !important; ; padding: 2px 5px !important; ; font-size: 13px !important; ; text-align: center !important; white-space: normal !important; color: var(--jp-ui-font-color1) !important; }\n",
       "      th.tdhistory791181:last-child { text-align: left !important; }\n",
       "      tbody.tdhistory791181 tr:nth-child(even) { background: rgba(243, 243, 243, 0.75) !important; }\n",
       "      tbody.tdhistory791181 tr:nth-child(odd) { background: var(--jp-ui-inverse-font-color1) !important; }\n",
       "      td.tdhistory791181 { border: 1px solid rgb(207, 207, 207) !important; border-collapse: collapse !important; ; padding: 2px 5px !important; ; font-size: 13px !important; ; text-align: left !important;          white-space: nowrap !important; overflow:hidden !important; text-overflow:ellipsis !important;; }\n",
       "    </style><thead><tr style= \"background: rgba(243, 243, 243, 0.75)\"><th class=\"tdhistory791181\"></th><th class=\"tdhistory791181\">CUST_ID</th><th class=\"tdhistory791181\">LOYALTY_NUM</th><th class=\"tdhistory791181\">GENDER</th><th class=\"tdhistory791181\">FIRSTNAME</th><th class=\"tdhistory791181\">LASTNAME</th><th class=\"tdhistory791181\">ADDRESS</th><th class=\"tdhistory791181\">STATE</th><th class=\"tdhistory791181\">CITY</th><th class=\"tdhistory791181\">ZIP</th><th class=\"tdhistory791181\">EMAIL</th></tr></thead><tbody class=\"tdhistory791181 resultset-body\"><tr><th class=\"tdhistory791181\" style= \"background: rgba(243, 243, 243, 0.75)\">1</th><td class=\"tdhistory791181\">19553</td><td class=\"tdhistory791181\">5451688</td><td class=\"tdhistory791181\">M</td><td class=\"tdhistory791181\">Bo</td><td class=\"tdhistory791181\">Li</td><td class=\"tdhistory791181\">3248 N. Torrey Pines Road</td><td class=\"tdhistory791181\">PA</td><td class=\"tdhistory791181\">Oak Ridge</td><td class=\"tdhistory791181\">16245</td><td class=\"tdhistory791181\">bo.li@teratitan.com</td></tr><tr><th class=\"tdhistory791181\" style= \"background: rgba(243, 243, 243, 0.75)\">2</th><td class=\"tdhistory791181\">20575</td><td class=\"tdhistory791181\">1233911</td><td class=\"tdhistory791181\">F</td><td class=\"tdhistory791181\">Laura</td><td class=\"tdhistory791181\">DeSilva</td><td class=\"tdhistory791181\">11 Red Mill Road</td><td class=\"tdhistory791181\">PA</td><td class=\"tdhistory791181\">New Castle</td><td class=\"tdhistory791181\">16105</td><td class=\"tdhistory791181\">ldesilva@gmail.com</td></tr><tr><th class=\"tdhistory791181\" style= \"background: rgba(243, 243, 243, 0.75)\">3</th><td class=\"tdhistory791181\">20003</td><td class=\"tdhistory791181\"></td><td class=\"tdhistory791181\">M</td><td class=\"tdhistory791181\">Ethan</td><td class=\"tdhistory791181\">Martin</td><td class=\"tdhistory791181\">7693 Cedar Street</td><td class=\"tdhistory791181\">PA</td><td class=\"tdhistory791181\">Greensboro</td><td class=\"tdhistory791181\">15338</td><td class=\"tdhistory791181\"></td></tr><tr><th class=\"tdhistory791181\" style= \"background: rgba(243, 243, 243, 0.75)\">4</th><td class=\"tdhistory791181\">20350</td><td class=\"tdhistory791181\">1143641</td><td class=\"tdhistory791181\">M</td><td class=\"tdhistory791181\">Clement</td><td class=\"tdhistory791181\">Vincent</td><td class=\"tdhistory791181\">6236 Burnt Mill Road</td><td class=\"tdhistory791181\">OH</td><td class=\"tdhistory791181\">Edon</td><td class=\"tdhistory791181\">43518</td><td class=\"tdhistory791181\">clement.vincent@teratitan.com</td></tr><tr><th class=\"tdhistory791181\" style= \"background: rgba(243, 243, 243, 0.75)\">5</th><td class=\"tdhistory791181\">19980</td><td class=\"tdhistory791181\"></td><td class=\"tdhistory791181\">F</td><td class=\"tdhistory791181\">Maria</td><td class=\"tdhistory791181\">Silva</td><td class=\"tdhistory791181\">8147 Center Mill Road</td><td class=\"tdhistory791181\">WV</td><td class=\"tdhistory791181\">Kellysville</td><td class=\"tdhistory791181\">24732</td><td class=\"tdhistory791181\"></td></tr><tr><th class=\"tdhistory791181\" style= \"background: rgba(243, 243, 243, 0.75)\">6</th><td class=\"tdhistory791181\">21635</td><td class=\"tdhistory791181\">2242698</td><td class=\"tdhistory791181\">M</td><td class=\"tdhistory791181\">Alexander</td><td class=\"tdhistory791181\">Muller</td><td class=\"tdhistory791181\">3649 Main Street</td><td class=\"tdhistory791181\">PA</td><td class=\"tdhistory791181\">York</td><td class=\"tdhistory791181\">17407</td><td class=\"tdhistory791181\">alexander.muller@teratitan.com</td></tr><tr><th class=\"tdhistory791181\" style= \"background: rgba(243, 243, 243, 0.75)\">7</th><td class=\"tdhistory791181\">19410</td><td class=\"tdhistory791181\">6170383</td><td class=\"tdhistory791181\">M</td><td class=\"tdhistory791181\">Rodrigo</td><td class=\"tdhistory791181\">Gonsalves</td><td class=\"tdhistory791181\">7150 Second Street</td><td class=\"tdhistory791181\">PA</td><td class=\"tdhistory791181\">Refton</td><td class=\"tdhistory791181\">17568</td><td class=\"tdhistory791181\">rgonsalvez@outlook.com</td></tr><tr><th class=\"tdhistory791181\" style= \"background: rgba(243, 243, 243, 0.75)\">8</th><td class=\"tdhistory791181\">22142</td><td class=\"tdhistory791181\">1584600</td><td class=\"tdhistory791181\">F</td><td class=\"tdhistory791181\">Beatriz</td><td class=\"tdhistory791181\">Gonsalves</td><td class=\"tdhistory791181\">1212 Fifth Street</td><td class=\"tdhistory791181\">OH</td><td class=\"tdhistory791181\">Fairfield</td><td class=\"tdhistory791181\">45018</td><td class=\"tdhistory791181\">beatriz.gonsalves@teratitan.com</td></tr><tr><th class=\"tdhistory791181\" style= \"background: rgba(243, 243, 243, 0.75)\">9</th><td class=\"tdhistory791181\">19614</td><td class=\"tdhistory791181\"></td><td class=\"tdhistory791181\">M</td><td class=\"tdhistory791181\">Clement</td><td class=\"tdhistory791181\">Bertrand</td><td class=\"tdhistory791181\">5606 Paper Mill Road</td><td class=\"tdhistory791181\">NY</td><td class=\"tdhistory791181\">Rochester</td><td class=\"tdhistory791181\">14660</td><td class=\"tdhistory791181\"></td></tr><tr><th class=\"tdhistory791181\" style= \"background: rgba(243, 243, 243, 0.75)\">10</th><td class=\"tdhistory791181\">19372</td><td class=\"tdhistory791181\">1118440</td><td class=\"tdhistory791181\">F</td><td class=\"tdhistory791181\">Fei</td><td class=\"tdhistory791181\">Zhou</td><td class=\"tdhistory791181\">5957 Hill Street</td><td class=\"tdhistory791181\">PA</td><td class=\"tdhistory791181\">Harrisburg</td><td class=\"tdhistory791181\">17128</td><td class=\"tdhistory791181\">fzhou@outlook.com</td></tr></tbody></table></div>"
      ]
     },
     "execution_count": 21,
     "metadata": {
      "application/vnd.teradata.resultset": "{\"resultSetID\":\"/home/jovyan/JupyterLabRoot/Teradata/Resultsets/2024.09.05_08.53.31.536_UTC\",\"historyID\":97,\"chunkID\":\"00001\",\"sessionid\":\"\",\"portnum\":\"\",\"dockermode\":\"docker\",\"totalRowCount\":10,\"chunkCount\":0,\"rowLimit\":0,\"columnMetadata\":[{\"columnName\":\"CUST_ID\",\"columnTypeName\":\"SMALLINT\"},{\"columnNumber\":1,\"columnName\":\"LOYALTY_NUM\",\"columnTypeName\":\"INTEGER\"},{\"columnNumber\":2,\"columnName\":\"GENDER\",\"columnTypeName\":\"VARCHAR\",\"length\":1,\"scale\":1},{\"columnNumber\":3,\"columnName\":\"FIRSTNAME\",\"columnTypeName\":\"VARCHAR\",\"length\":11,\"scale\":11},{\"columnNumber\":4,\"columnName\":\"LASTNAME\",\"columnTypeName\":\"VARCHAR\",\"length\":9,\"scale\":9},{\"columnNumber\":5,\"columnName\":\"ADDRESS\",\"columnTypeName\":\"VARCHAR\",\"length\":25,\"scale\":25},{\"columnNumber\":6,\"columnName\":\"STATE\",\"columnTypeName\":\"VARCHAR\",\"length\":2,\"scale\":2},{\"columnNumber\":7,\"columnName\":\"CITY\",\"columnTypeName\":\"VARCHAR\",\"length\":16,\"scale\":16},{\"columnNumber\":8,\"columnName\":\"ZIP\",\"columnTypeName\":\"INTEGER\"},{\"columnNumber\":9,\"columnName\":\"EMAIL\",\"columnTypeName\":\"VARCHAR\",\"length\":31,\"scale\":31}]}"
     },
     "output_type": "execute_result"
    }
   ],
   "source": [
    "SELECT Top 10 * FROM C360_gr1_V;"
   ]
  },
  {
   "cell_type": "markdown",
   "id": "ec17fb6b-ee8f-4477-b83f-ff3b2f8f6649",
   "metadata": {},
   "source": [
    "<p style = 'font-size:16px;font-family:Arial;color:#00233C'>We see Jessica's record has been updated with an email address.</p>"
   ]
  },
  {
   "cell_type": "code",
   "execution_count": 22,
   "id": "43e859b1",
   "metadata": {},
   "outputs": [
    {
     "data": {
      "application/vnd.teradata.resultset": "\"CUST_ID\",\"LOYALTY_NUM\",\"GENDER\",\"FIRSTNAME\",\"LASTNAME\",\"ADDRESS\",\"STATE\",\"CITY\",\"ZIP\",\"EMAIL\"\n\"21903\",\"1460445\",\"F\",\"Jessica\",\"Rego\",\"3114 Park Street\",\"OH\",\"Nashport\",\"43830\",\"jrego@yahoo.com\"",
      "text/html": [
       "<div class = \"td-resultset-table-div\" style = \"max-height: 100%; overflow-y: auto\">\n",
       "      <table class=\"tdhistory325041\"><style>\n",
       "      table.tdhistory325041 { display: block !important; min-height: 105px !important; overflow: auto !important; height: 105px !important; width: 100% !important; border: 1px solid rgb(207, 207, 207) !important; border-collapse: collapse !important; ; color: var(--jp-ui-font-color1) !important; }\n",
       "      th.tdhistory325041 { border: 1px solid rgb(198,198,198) !important; border-collapse: collapse !important; ; padding: 2px 5px !important; ; font-size: 13px !important; ; text-align: center !important; white-space: normal !important; color: var(--jp-ui-font-color1) !important; }\n",
       "      th.tdhistory325041:last-child { text-align: left !important; }\n",
       "      tbody.tdhistory325041 tr:nth-child(even) { background: rgba(243, 243, 243, 0.75) !important; }\n",
       "      tbody.tdhistory325041 tr:nth-child(odd) { background: var(--jp-ui-inverse-font-color1) !important; }\n",
       "      td.tdhistory325041 { border: 1px solid rgb(207, 207, 207) !important; border-collapse: collapse !important; ; padding: 2px 5px !important; ; font-size: 13px !important; ; text-align: left !important;          white-space: nowrap !important; overflow:hidden !important; text-overflow:ellipsis !important;; }\n",
       "    </style><thead><tr style= \"background: rgba(243, 243, 243, 0.75)\"><th class=\"tdhistory325041\"></th><th class=\"tdhistory325041\">CUST_ID</th><th class=\"tdhistory325041\">LOYALTY_NUM</th><th class=\"tdhistory325041\">GENDER</th><th class=\"tdhistory325041\">FIRSTNAME</th><th class=\"tdhistory325041\">LASTNAME</th><th class=\"tdhistory325041\">ADDRESS</th><th class=\"tdhistory325041\">STATE</th><th class=\"tdhistory325041\">CITY</th><th class=\"tdhistory325041\">ZIP</th><th class=\"tdhistory325041\">EMAIL</th></tr></thead><tbody class=\"tdhistory325041 resultset-body\"><tr><th class=\"tdhistory325041\" style= \"background: rgba(243, 243, 243, 0.75)\">1</th><td class=\"tdhistory325041\">21903</td><td class=\"tdhistory325041\">1460445</td><td class=\"tdhistory325041\">F</td><td class=\"tdhistory325041\">Jessica</td><td class=\"tdhistory325041\">Rego</td><td class=\"tdhistory325041\">3114 Park Street</td><td class=\"tdhistory325041\">OH</td><td class=\"tdhistory325041\">Nashport</td><td class=\"tdhistory325041\">43830</td><td class=\"tdhistory325041\">jrego@yahoo.com</td></tr></tbody></table></div>"
      ]
     },
     "execution_count": 22,
     "metadata": {
      "application/vnd.teradata.resultset": "{\"resultSetID\":\"/home/jovyan/JupyterLabRoot/Teradata/Resultsets/2024.09.05_08.53.32.175_UTC\",\"historyID\":98,\"chunkID\":\"00001\",\"sessionid\":\"\",\"portnum\":\"\",\"dockermode\":\"docker\",\"totalRowCount\":1,\"chunkCount\":0,\"rowLimit\":0,\"columnMetadata\":[{\"columnName\":\"CUST_ID\",\"columnTypeName\":\"SMALLINT\"},{\"columnNumber\":1,\"columnName\":\"LOYALTY_NUM\",\"columnTypeName\":\"INTEGER\"},{\"columnNumber\":2,\"columnName\":\"GENDER\",\"columnTypeName\":\"VARCHAR\",\"length\":1,\"scale\":1},{\"columnNumber\":3,\"columnName\":\"FIRSTNAME\",\"columnTypeName\":\"VARCHAR\",\"length\":11,\"scale\":11},{\"columnNumber\":4,\"columnName\":\"LASTNAME\",\"columnTypeName\":\"VARCHAR\",\"length\":9,\"scale\":9},{\"columnNumber\":5,\"columnName\":\"ADDRESS\",\"columnTypeName\":\"VARCHAR\",\"length\":25,\"scale\":25},{\"columnNumber\":6,\"columnName\":\"STATE\",\"columnTypeName\":\"VARCHAR\",\"length\":2,\"scale\":2},{\"columnNumber\":7,\"columnName\":\"CITY\",\"columnTypeName\":\"VARCHAR\",\"length\":16,\"scale\":16},{\"columnNumber\":8,\"columnName\":\"ZIP\",\"columnTypeName\":\"INTEGER\"},{\"columnNumber\":9,\"columnName\":\"EMAIL\",\"columnTypeName\":\"VARCHAR\",\"length\":31,\"scale\":31}]}"
     },
     "output_type": "execute_result"
    }
   ],
   "source": [
    "SELECT * FROM C360_gr1_V WHERE FIRSTNAME = 'Jessica' AND LASTNAME = 'Rego'"
   ]
  },
  {
   "cell_type": "markdown",
   "id": "e8ac4d9b",
   "metadata": {},
   "source": [
    "<hr style=\"height:2px;border:none;background-color:#00233C;\">\n",
    "<p style = 'font-size:20px;font-family:Arial;color:#00233C'><b>5. Append Call Center Data</b></p>\n",
    "\n",
    "<p style = 'font-size:16px;font-family:Arial;color:#00233C'>We repeat the process, this time appending the call center data.</p>\n",
    "\n",
    "<p style = 'font-size:16px;font-family:Arial;color:#00233C'>Steps for this section include:\n",
    "    <img src = 'images/step5.png' width = '300' align='right' padding='padding:50px'></p>\n",
    "\n",
    "<ol style = 'font-size:16px;font-family:Arial;color:#00233C'>\n",
    "    <li>Creating a matching table consisting of:\n",
    "        <ul><li>The key string from the intermediate golden record table</li>\n",
    "            <li>The key string from the call center table</li>\n",
    "            <li>The matching score</li>\n",
    "            <li>Any columns from the call center table we want to append</li>\n",
    "        </ul></li>\n",
    "    <li style = 'font-size:16px;font-family:Arial;color:#00233C'>Joining the intermediate golden record table with the matching table to form a new intermediate golden record</li>\n",
    "    </ol>"
   ]
  },
  {
   "cell_type": "markdown",
   "id": "cb4a8c33",
   "metadata": {},
   "source": [
    "<hr style=\"height:1px;border:none;background-color:#00233C;\">\n",
    "<p style = 'font-size:18px;font-family:Arial;color:#00233C'><b>5.1 - Creating a matching table</b></p>\n",
    "\n",
    "<p style = 'font-size:16px;font-family:Arial;color:#00233C'>As in the previous section, we will create a view consisting of rows with a Jaro match greater than 0.9.</p>"
   ]
  },
  {
   "cell_type": "code",
   "execution_count": 23,
   "id": "e0ff74b2",
   "metadata": {},
   "outputs": [
    {
     "data": {
      "text/plain": [
       "Success: 0 rows affected"
      ]
     },
     "execution_count": 23,
     "metadata": {
      "application/vnd.teradata.resultset": ""
     },
     "output_type": "execute_result"
    }
   ],
   "source": [
    "REPLACE VIEW C360_MatchABC_V AS (\n",
    "    SELECT * FROM StringSimilarity (\n",
    "        ON (\n",
    "            SELECT \n",
    "                gr1.CUST_ID, \n",
    "                CAST(REGEXP_REPLACE(OREPLACE((gr1.FIRSTNAME||gr1.LASTNAME||gr1.CITY),' ',''), \n",
    "                                             '[^a-zA-Z\\d:]','',1,0) as VARCHAR(50)) \n",
    "                                             as GR1_KEY,\n",
    "                CAST(REGEXP_REPLACE(OREPLACE((cc.FIRST_NAME||cc.LAST_NAME||cc.CITY),' ',''), \n",
    "                                             '[^a-zA-Z\\d:]','',1,0) as VARCHAR(50)) \n",
    "                                             as CALLCENTER_KEY,\n",
    "                cc.PHONE                               \n",
    "            FROM C360_gr1_V gr1, DEMO_Customer360.CallCenter cc\n",
    "        ) PARTITION BY ANY\n",
    "        USING\n",
    "        ComparisonColumnPairs(\n",
    "            'jaro (GR1_KEY, CALLCENTER_KEY) AS jaro'\n",
    "        )\n",
    "        CaseSensitive('false')\n",
    "        Accumulate('CUST_ID', 'GR1_KEY', 'CALLCENTER_KEY', 'PHONE'/*, 'CALL_CENTER_COST'*/)\n",
    "    ) AS dt \n",
    "WHERE jaro > .90)"
   ]
  },
  {
   "cell_type": "code",
   "execution_count": 24,
   "id": "2b44dcd5",
   "metadata": {},
   "outputs": [
    {
     "data": {
      "application/vnd.teradata.resultset": "\"CUST_ID\",\"GR1_KEY\",\"CALLCENTER_KEY\",\"PHONE\",\"jaro\"\n\"21964\",\"StevenSugarHamilton\",\"StevenSugarHamilton\",\"(513) 273-2352\",\"1\"\n\"19939\",\"JuanTorresBretz\",\"JuanTorresBretz\",\"(775) 202-5303\",\"1\"\n\"21604\",\"SofieLarsenJavaCenter\",\"SofieLarsenJavaCenter\",\"(772) 503-2101\",\"1\"\n\"20575\",\"LauraDeSilvaNewCastle\",\"LauraDeSilvaNewCastle\",\"(570) 387-2031\",\"1\"\n\"21832\",\"JiaojieGaoLakeAriel\",\"JiaojieGaoLakeAriel\",\"(504) 787-0477\",\"1\"\n\"19499\",\"MiguelSousaLinden\",\"MiguelSousaLinden\",\"(304) 231-8631\",\"1\"\n\"19553\",\"BoLiOakRidge\",\"BoLiOakRidge\",\"(617) 284-2673\",\"1\"\n\"19688\",\"LuizaTeixeiraKerr\",\"LuizaTeixeiraKerr\",\"(253) 470-1804\",\"1\"\n\"22142\",\"BeatrizGonsalvesFairfield\",\"BeatrizGonsalvesFairfield\",\"(510) 563-2532\",\"1\"\n\"19579\",\"PedroGonsalvesGreenville\",\"PedroGonsalvesGreenville\",\"(434) 432-6306\",\"1\"\n\"22143\",\"LucasMoreauWinchester\",\"LucasMoreauWinchester\",\"(941) 929-3922\",\"1\"\n\"19397\",\"BeatrizMartinsAshley\",\"BeatrizMartinsAshley\",\"(216) 364-9325\",\"1\"\n\"20521\",\"BrunaGonsalvesHighlandFalls\",\"BrunaGonsalvesHighlandFalls\",\"(509) 567-1484\",\"1\"\n\"19463\",\"AaryaPatelWaiteville\",\"AaryaPatelWaiteville\",\"(304) 864-1382\",\"1\"\n\"21647\",\"HarishBanerjeeCleveland\",\"HarishBanerjeeClevland\",\"(216) 258-3212\",\"0.9855072463768115\"\n\"19344\",\"CharlotteKingMarchand\",\"CharlotteKinMarchand\",\"(760) 229-0754\",\"0.9841269841269842\"\n\"21903\",\"JessicaRegoNashport\",\"JessicaRegoNashporte\",\"(530) 696-4308\",\"0.9833333333333334\"\n\"21705\",\"MariaRochaStockton\",\"MarianRochaStockton\",\"(917) 904-2312\",\"0.9824561403508771\"\n\"21707\",\"JuanGomezBloomingburg\",\"JuanGomesBloomingburg\",\"(916) 768-6879\",\"0.9682539682539683\"\n\"19457\",\"RafaelBenitezBrooklyn\",\"RafaelBenitesBrooklyn\",\"(785) 435-7536\",\"0.9682539682539683\"\n\"19994\",\"EthanTaylorCanton\",\"EthanTaylorCantan\",\"(302) 953-9585\",\"0.9607843137254902\"\n\"20387\",\"TomasMedinaSpencer\",\"TomasMedinnaSpencer\",\"(813) 611-8265\",\"0.94541910331384\"\n\"20117\",\"MayaCampbellParkersburg\",\"MajaCampbellParkersberg\",\"(304) 903-1275\",\"0.9420289855072465\"\n\"20158\",\"NishiMahawarKane\",\"NishiiMahawarCane\",\"(619) 912-4407\",\"0.9399509803921569\"\n\"19921\",\"ThiagoPenaMillerstown\",\"ThigoPenaMillerstown\",\"(702) 821-1527\",\"0.934126984126984\"\n\"22099\",\"AmySmithBrooklyn\",\"AmeeSmithBrooklynn\",\"(253) 403-8318\",\"0.9236111111111112\"\n\"19310\",\"IsabellaMayerFranklinSprings\",\"IsabelaMayerFranklinSprings\",\"(360) 692-8811\",\"0.9140211640211641\"",
      "text/html": [
       "<div class = \"td-resultset-table-div\" style = \"max-height: 100%; overflow-y: auto\">\n",
       "      <table class=\"tdhistory884229\"><style>\n",
       "      table.tdhistory884229 { display: block !important; min-height: 588px !important; overflow: auto !important; height: 588px !important; width: 100% !important; border: 1px solid rgb(207, 207, 207) !important; border-collapse: collapse !important; ; color: var(--jp-ui-font-color1) !important; }\n",
       "      th.tdhistory884229 { border: 1px solid rgb(198,198,198) !important; border-collapse: collapse !important; ; padding: 2px 5px !important; ; font-size: 13px !important; ; text-align: center !important; white-space: normal !important; color: var(--jp-ui-font-color1) !important; }\n",
       "      th.tdhistory884229:last-child { text-align: left !important; }\n",
       "      tbody.tdhistory884229 tr:nth-child(even) { background: rgba(243, 243, 243, 0.75) !important; }\n",
       "      tbody.tdhistory884229 tr:nth-child(odd) { background: var(--jp-ui-inverse-font-color1) !important; }\n",
       "      td.tdhistory884229 { border: 1px solid rgb(207, 207, 207) !important; border-collapse: collapse !important; ; padding: 2px 5px !important; ; font-size: 13px !important; ; text-align: left !important;          white-space: nowrap !important; overflow:hidden !important; text-overflow:ellipsis !important;; }\n",
       "    </style><thead><tr style= \"background: rgba(243, 243, 243, 0.75)\"><th class=\"tdhistory884229\"></th><th class=\"tdhistory884229\">CUST_ID</th><th class=\"tdhistory884229\">GR1_KEY</th><th class=\"tdhistory884229\">CALLCENTER_KEY</th><th class=\"tdhistory884229\">PHONE</th><th class=\"tdhistory884229\">jaro</th></tr></thead><tbody class=\"tdhistory884229 resultset-body\"><tr><th class=\"tdhistory884229\" style= \"background: rgba(243, 243, 243, 0.75)\">1</th><td class=\"tdhistory884229\">21964</td><td class=\"tdhistory884229\">StevenSugarHamilton</td><td class=\"tdhistory884229\">StevenSugarHamilton</td><td class=\"tdhistory884229\">(513) 273-2352</td><td class=\"tdhistory884229\">1</td></tr><tr><th class=\"tdhistory884229\" style= \"background: rgba(243, 243, 243, 0.75)\">2</th><td class=\"tdhistory884229\">19939</td><td class=\"tdhistory884229\">JuanTorresBretz</td><td class=\"tdhistory884229\">JuanTorresBretz</td><td class=\"tdhistory884229\">(775) 202-5303</td><td class=\"tdhistory884229\">1</td></tr><tr><th class=\"tdhistory884229\" style= \"background: rgba(243, 243, 243, 0.75)\">3</th><td class=\"tdhistory884229\">21604</td><td class=\"tdhistory884229\">SofieLarsenJavaCenter</td><td class=\"tdhistory884229\">SofieLarsenJavaCenter</td><td class=\"tdhistory884229\">(772) 503-2101</td><td class=\"tdhistory884229\">1</td></tr><tr><th class=\"tdhistory884229\" style= \"background: rgba(243, 243, 243, 0.75)\">4</th><td class=\"tdhistory884229\">20575</td><td class=\"tdhistory884229\">LauraDeSilvaNewCastle</td><td class=\"tdhistory884229\">LauraDeSilvaNewCastle</td><td class=\"tdhistory884229\">(570) 387-2031</td><td class=\"tdhistory884229\">1</td></tr><tr><th class=\"tdhistory884229\" style= \"background: rgba(243, 243, 243, 0.75)\">5</th><td class=\"tdhistory884229\">21832</td><td class=\"tdhistory884229\">JiaojieGaoLakeAriel</td><td class=\"tdhistory884229\">JiaojieGaoLakeAriel</td><td class=\"tdhistory884229\">(504) 787-0477</td><td class=\"tdhistory884229\">1</td></tr><tr><th class=\"tdhistory884229\" style= \"background: rgba(243, 243, 243, 0.75)\">6</th><td class=\"tdhistory884229\">19499</td><td class=\"tdhistory884229\">MiguelSousaLinden</td><td class=\"tdhistory884229\">MiguelSousaLinden</td><td class=\"tdhistory884229\">(304) 231-8631</td><td class=\"tdhistory884229\">1</td></tr><tr><th class=\"tdhistory884229\" style= \"background: rgba(243, 243, 243, 0.75)\">7</th><td class=\"tdhistory884229\">19553</td><td class=\"tdhistory884229\">BoLiOakRidge</td><td class=\"tdhistory884229\">BoLiOakRidge</td><td class=\"tdhistory884229\">(617) 284-2673</td><td class=\"tdhistory884229\">1</td></tr><tr><th class=\"tdhistory884229\" style= \"background: rgba(243, 243, 243, 0.75)\">8</th><td class=\"tdhistory884229\">19688</td><td class=\"tdhistory884229\">LuizaTeixeiraKerr</td><td class=\"tdhistory884229\">LuizaTeixeiraKerr</td><td class=\"tdhistory884229\">(253) 470-1804</td><td class=\"tdhistory884229\">1</td></tr><tr><th class=\"tdhistory884229\" style= \"background: rgba(243, 243, 243, 0.75)\">9</th><td class=\"tdhistory884229\">22142</td><td class=\"tdhistory884229\">BeatrizGonsalvesFairfield</td><td class=\"tdhistory884229\">BeatrizGonsalvesFairfield</td><td class=\"tdhistory884229\">(510) 563-2532</td><td class=\"tdhistory884229\">1</td></tr><tr><th class=\"tdhistory884229\" style= \"background: rgba(243, 243, 243, 0.75)\">10</th><td class=\"tdhistory884229\">19579</td><td class=\"tdhistory884229\">PedroGonsalvesGreenville</td><td class=\"tdhistory884229\">PedroGonsalvesGreenville</td><td class=\"tdhistory884229\">(434) 432-6306</td><td class=\"tdhistory884229\">1</td></tr><tr><th class=\"tdhistory884229\" style= \"background: rgba(243, 243, 243, 0.75)\">11</th><td class=\"tdhistory884229\">22143</td><td class=\"tdhistory884229\">LucasMoreauWinchester</td><td class=\"tdhistory884229\">LucasMoreauWinchester</td><td class=\"tdhistory884229\">(941) 929-3922</td><td class=\"tdhistory884229\">1</td></tr><tr><th class=\"tdhistory884229\" style= \"background: rgba(243, 243, 243, 0.75)\">12</th><td class=\"tdhistory884229\">19397</td><td class=\"tdhistory884229\">BeatrizMartinsAshley</td><td class=\"tdhistory884229\">BeatrizMartinsAshley</td><td class=\"tdhistory884229\">(216) 364-9325</td><td class=\"tdhistory884229\">1</td></tr><tr><th class=\"tdhistory884229\" style= \"background: rgba(243, 243, 243, 0.75)\">13</th><td class=\"tdhistory884229\">20521</td><td class=\"tdhistory884229\">BrunaGonsalvesHighlandFalls</td><td class=\"tdhistory884229\">BrunaGonsalvesHighlandFalls</td><td class=\"tdhistory884229\">(509) 567-1484</td><td class=\"tdhistory884229\">1</td></tr><tr><th class=\"tdhistory884229\" style= \"background: rgba(243, 243, 243, 0.75)\">14</th><td class=\"tdhistory884229\">19463</td><td class=\"tdhistory884229\">AaryaPatelWaiteville</td><td class=\"tdhistory884229\">AaryaPatelWaiteville</td><td class=\"tdhistory884229\">(304) 864-1382</td><td class=\"tdhistory884229\">1</td></tr><tr><th class=\"tdhistory884229\" style= \"background: rgba(243, 243, 243, 0.75)\">15</th><td class=\"tdhistory884229\">21647</td><td class=\"tdhistory884229\">HarishBanerjeeCleveland</td><td class=\"tdhistory884229\">HarishBanerjeeClevland</td><td class=\"tdhistory884229\">(216) 258-3212</td><td class=\"tdhistory884229\">0.9855072463768115</td></tr><tr><th class=\"tdhistory884229\" style= \"background: rgba(243, 243, 243, 0.75)\">16</th><td class=\"tdhistory884229\">19344</td><td class=\"tdhistory884229\">CharlotteKingMarchand</td><td class=\"tdhistory884229\">CharlotteKinMarchand</td><td class=\"tdhistory884229\">(760) 229-0754</td><td class=\"tdhistory884229\">0.9841269841269842</td></tr><tr><th class=\"tdhistory884229\" style= \"background: rgba(243, 243, 243, 0.75)\">17</th><td class=\"tdhistory884229\">21903</td><td class=\"tdhistory884229\">JessicaRegoNashport</td><td class=\"tdhistory884229\">JessicaRegoNashporte</td><td class=\"tdhistory884229\">(530) 696-4308</td><td class=\"tdhistory884229\">0.9833333333333334</td></tr><tr><th class=\"tdhistory884229\" style= \"background: rgba(243, 243, 243, 0.75)\">18</th><td class=\"tdhistory884229\">21705</td><td class=\"tdhistory884229\">MariaRochaStockton</td><td class=\"tdhistory884229\">MarianRochaStockton</td><td class=\"tdhistory884229\">(917) 904-2312</td><td class=\"tdhistory884229\">0.9824561403508771</td></tr><tr><th class=\"tdhistory884229\" style= \"background: rgba(243, 243, 243, 0.75)\">19</th><td class=\"tdhistory884229\">21707</td><td class=\"tdhistory884229\">JuanGomezBloomingburg</td><td class=\"tdhistory884229\">JuanGomesBloomingburg</td><td class=\"tdhistory884229\">(916) 768-6879</td><td class=\"tdhistory884229\">0.9682539682539683</td></tr><tr><th class=\"tdhistory884229\" style= \"background: rgba(243, 243, 243, 0.75)\">20</th><td class=\"tdhistory884229\">19457</td><td class=\"tdhistory884229\">RafaelBenitezBrooklyn</td><td class=\"tdhistory884229\">RafaelBenitesBrooklyn</td><td class=\"tdhistory884229\">(785) 435-7536</td><td class=\"tdhistory884229\">0.9682539682539683</td></tr><tr><th class=\"tdhistory884229\" style= \"background: rgba(243, 243, 243, 0.75)\">21</th><td class=\"tdhistory884229\">19994</td><td class=\"tdhistory884229\">EthanTaylorCanton</td><td class=\"tdhistory884229\">EthanTaylorCantan</td><td class=\"tdhistory884229\">(302) 953-9585</td><td class=\"tdhistory884229\">0.9607843137254902</td></tr><tr><th class=\"tdhistory884229\" style= \"background: rgba(243, 243, 243, 0.75)\">22</th><td class=\"tdhistory884229\">20387</td><td class=\"tdhistory884229\">TomasMedinaSpencer</td><td class=\"tdhistory884229\">TomasMedinnaSpencer</td><td class=\"tdhistory884229\">(813) 611-8265</td><td class=\"tdhistory884229\">0.94541910331384</td></tr><tr><th class=\"tdhistory884229\" style= \"background: rgba(243, 243, 243, 0.75)\">23</th><td class=\"tdhistory884229\">20117</td><td class=\"tdhistory884229\">MayaCampbellParkersburg</td><td class=\"tdhistory884229\">MajaCampbellParkersberg</td><td class=\"tdhistory884229\">(304) 903-1275</td><td class=\"tdhistory884229\">0.9420289855072465</td></tr><tr><th class=\"tdhistory884229\" style= \"background: rgba(243, 243, 243, 0.75)\">24</th><td class=\"tdhistory884229\">20158</td><td class=\"tdhistory884229\">NishiMahawarKane</td><td class=\"tdhistory884229\">NishiiMahawarCane</td><td class=\"tdhistory884229\">(619) 912-4407</td><td class=\"tdhistory884229\">0.9399509803921569</td></tr><tr><th class=\"tdhistory884229\" style= \"background: rgba(243, 243, 243, 0.75)\">25</th><td class=\"tdhistory884229\">19921</td><td class=\"tdhistory884229\">ThiagoPenaMillerstown</td><td class=\"tdhistory884229\">ThigoPenaMillerstown</td><td class=\"tdhistory884229\">(702) 821-1527</td><td class=\"tdhistory884229\">0.934126984126984</td></tr><tr><th class=\"tdhistory884229\" style= \"background: rgba(243, 243, 243, 0.75)\">26</th><td class=\"tdhistory884229\">22099</td><td class=\"tdhistory884229\">AmySmithBrooklyn</td><td class=\"tdhistory884229\">AmeeSmithBrooklynn</td><td class=\"tdhistory884229\">(253) 403-8318</td><td class=\"tdhistory884229\">0.9236111111111112</td></tr><tr><th class=\"tdhistory884229\" style= \"background: rgba(243, 243, 243, 0.75)\">27</th><td class=\"tdhistory884229\">19310</td><td class=\"tdhistory884229\">IsabellaMayerFranklinSprings</td><td class=\"tdhistory884229\">IsabelaMayerFranklinSprings</td><td class=\"tdhistory884229\">(360) 692-8811</td><td class=\"tdhistory884229\">0.9140211640211641</td></tr></tbody></table></div>"
      ]
     },
     "execution_count": 24,
     "metadata": {
      "application/vnd.teradata.resultset": "{\"resultSetID\":\"/home/jovyan/JupyterLabRoot/Teradata/Resultsets/2024.09.05_08.53.33.428_UTC\",\"historyID\":100,\"chunkID\":\"00001\",\"sessionid\":\"\",\"portnum\":\"\",\"dockermode\":\"docker\",\"totalRowCount\":27,\"chunkCount\":0,\"rowLimit\":0,\"columnMetadata\":[{\"columnName\":\"CUST_ID\",\"columnTypeName\":\"SMALLINT\"},{\"columnNumber\":1,\"columnName\":\"GR1_KEY\",\"columnTypeName\":\"VARCHAR\",\"length\":50,\"scale\":50},{\"columnNumber\":2,\"columnName\":\"CALLCENTER_KEY\",\"columnTypeName\":\"VARCHAR\",\"length\":50,\"scale\":50},{\"columnNumber\":3,\"columnName\":\"PHONE\",\"columnTypeName\":\"VARCHAR\",\"length\":14,\"scale\":14},{\"columnNumber\":4,\"columnName\":\"jaro\",\"columnTypeName\":\"FLOAT\"}]}"
     },
     "output_type": "execute_result"
    }
   ],
   "source": [
    "SELECT * FROM C360_MatchABC_V ORDER BY jaro DESC"
   ]
  },
  {
   "cell_type": "markdown",
   "id": "a62d14d7",
   "metadata": {},
   "source": [
    "<p style = 'font-size:16px;font-family:Arial;color:#00233C'>We find that out of the 30 in the call center table, 27 were matched.</p>"
   ]
  },
  {
   "cell_type": "code",
   "execution_count": 25,
   "id": "af3d06cd",
   "metadata": {},
   "outputs": [
    {
     "data": {
      "application/vnd.teradata.resultset": "\"Count(*)\"\n\"30\"",
      "text/html": [
       "<div class = \"td-resultset-table-div\" style = \"max-height: 100%; overflow-y: auto\">\n",
       "      <table class=\"tdhistory447760\"><style>\n",
       "      table.tdhistory447760 { display: block !important; min-height: 105px !important; overflow: auto !important; height: 105px !important; width: 100% !important; border: 1px solid rgb(207, 207, 207) !important; border-collapse: collapse !important; ; color: var(--jp-ui-font-color1) !important; }\n",
       "      th.tdhistory447760 { border: 1px solid rgb(198,198,198) !important; border-collapse: collapse !important; ; padding: 2px 5px !important; ; font-size: 13px !important; ; text-align: center !important; white-space: normal !important; color: var(--jp-ui-font-color1) !important; }\n",
       "      th.tdhistory447760:last-child { text-align: left !important; }\n",
       "      tbody.tdhistory447760 tr:nth-child(even) { background: rgba(243, 243, 243, 0.75) !important; }\n",
       "      tbody.tdhistory447760 tr:nth-child(odd) { background: var(--jp-ui-inverse-font-color1) !important; }\n",
       "      td.tdhistory447760 { border: 1px solid rgb(207, 207, 207) !important; border-collapse: collapse !important; ; padding: 2px 5px !important; ; font-size: 13px !important; ; text-align: left !important;          white-space: nowrap !important; overflow:hidden !important; text-overflow:ellipsis !important;; }\n",
       "    </style><thead><tr style= \"background: rgba(243, 243, 243, 0.75)\"><th class=\"tdhistory447760\"></th><th class=\"tdhistory447760\">Count(*)</th></tr></thead><tbody class=\"tdhistory447760 resultset-body\"><tr><th class=\"tdhistory447760\" style= \"background: rgba(243, 243, 243, 0.75)\">1</th><td class=\"tdhistory447760\">30</td></tr></tbody></table></div>"
      ]
     },
     "execution_count": 25,
     "metadata": {
      "application/vnd.teradata.resultset": "{\"resultSetID\":\"/home/jovyan/JupyterLabRoot/Teradata/Resultsets/2024.09.05_08.53.33.497_UTC\",\"historyID\":101,\"chunkID\":\"00001\",\"sessionid\":\"\",\"portnum\":\"\",\"dockermode\":\"docker\",\"totalRowCount\":1,\"chunkCount\":0,\"rowLimit\":0,\"columnMetadata\":[{\"columnName\":\"Count(*)\",\"columnTypeName\":\"INTEGER\"}]}"
     },
     "output_type": "execute_result"
    }
   ],
   "source": [
    "SELECT COUNT(*) FROM DEMO_Customer360.CALLCENTER"
   ]
  },
  {
   "cell_type": "code",
   "execution_count": 26,
   "id": "40306d53",
   "metadata": {},
   "outputs": [
    {
     "data": {
      "application/vnd.teradata.resultset": "\"Count(*)\"\n\"27\"",
      "text/html": [
       "<div class = \"td-resultset-table-div\" style = \"max-height: 100%; overflow-y: auto\">\n",
       "      <table class=\"tdhistory361017\"><style>\n",
       "      table.tdhistory361017 { display: block !important; min-height: 105px !important; overflow: auto !important; height: 105px !important; width: 100% !important; border: 1px solid rgb(207, 207, 207) !important; border-collapse: collapse !important; ; color: var(--jp-ui-font-color1) !important; }\n",
       "      th.tdhistory361017 { border: 1px solid rgb(198,198,198) !important; border-collapse: collapse !important; ; padding: 2px 5px !important; ; font-size: 13px !important; ; text-align: center !important; white-space: normal !important; color: var(--jp-ui-font-color1) !important; }\n",
       "      th.tdhistory361017:last-child { text-align: left !important; }\n",
       "      tbody.tdhistory361017 tr:nth-child(even) { background: rgba(243, 243, 243, 0.75) !important; }\n",
       "      tbody.tdhistory361017 tr:nth-child(odd) { background: var(--jp-ui-inverse-font-color1) !important; }\n",
       "      td.tdhistory361017 { border: 1px solid rgb(207, 207, 207) !important; border-collapse: collapse !important; ; padding: 2px 5px !important; ; font-size: 13px !important; ; text-align: left !important;          white-space: nowrap !important; overflow:hidden !important; text-overflow:ellipsis !important;; }\n",
       "    </style><thead><tr style= \"background: rgba(243, 243, 243, 0.75)\"><th class=\"tdhistory361017\"></th><th class=\"tdhistory361017\">Count(*)</th></tr></thead><tbody class=\"tdhistory361017 resultset-body\"><tr><th class=\"tdhistory361017\" style= \"background: rgba(243, 243, 243, 0.75)\">1</th><td class=\"tdhistory361017\">27</td></tr></tbody></table></div>"
      ]
     },
     "execution_count": 26,
     "metadata": {
      "application/vnd.teradata.resultset": "{\"resultSetID\":\"/home/jovyan/JupyterLabRoot/Teradata/Resultsets/2024.09.05_08.53.34.427_UTC\",\"historyID\":102,\"chunkID\":\"00001\",\"sessionid\":\"\",\"portnum\":\"\",\"dockermode\":\"docker\",\"totalRowCount\":1,\"chunkCount\":0,\"rowLimit\":0,\"columnMetadata\":[{\"columnName\":\"Count(*)\",\"columnTypeName\":\"INTEGER\"}]}"
     },
     "output_type": "execute_result"
    }
   ],
   "source": [
    "SELECT COUNT(*) FROM C360_MatchABC_V"
   ]
  },
  {
   "cell_type": "markdown",
   "id": "f1e41204-81c7-4031-bc66-3dfba85c535e",
   "metadata": {},
   "source": [
    "<p style = 'font-size:16px;font-family:Arial;color:#00233C'>We see that Jessica Nashport was matched between the two lists even though her last name was misspelled in the Call Center list. The matching score was 0.983.</p>"
   ]
  },
  {
   "cell_type": "code",
   "execution_count": 27,
   "id": "1decd9ad",
   "metadata": {},
   "outputs": [
    {
     "data": {
      "application/vnd.teradata.resultset": "\"CUST_ID\",\"GR1_KEY\",\"CALLCENTER_KEY\",\"PHONE\",\"jaro\"\n\"21903\",\"JessicaRegoNashport\",\"JessicaRegoNashporte\",\"(530) 696-4308\",\"0.9833333333333334\"",
      "text/html": [
       "<div class = \"td-resultset-table-div\" style = \"max-height: 100%; overflow-y: auto\">\n",
       "      <table class=\"tdhistory801810\"><style>\n",
       "      table.tdhistory801810 { display: block !important; min-height: 105px !important; overflow: auto !important; height: 105px !important; width: 100% !important; border: 1px solid rgb(207, 207, 207) !important; border-collapse: collapse !important; ; color: var(--jp-ui-font-color1) !important; }\n",
       "      th.tdhistory801810 { border: 1px solid rgb(198,198,198) !important; border-collapse: collapse !important; ; padding: 2px 5px !important; ; font-size: 13px !important; ; text-align: center !important; white-space: normal !important; color: var(--jp-ui-font-color1) !important; }\n",
       "      th.tdhistory801810:last-child { text-align: left !important; }\n",
       "      tbody.tdhistory801810 tr:nth-child(even) { background: rgba(243, 243, 243, 0.75) !important; }\n",
       "      tbody.tdhistory801810 tr:nth-child(odd) { background: var(--jp-ui-inverse-font-color1) !important; }\n",
       "      td.tdhistory801810 { border: 1px solid rgb(207, 207, 207) !important; border-collapse: collapse !important; ; padding: 2px 5px !important; ; font-size: 13px !important; ; text-align: left !important;          white-space: nowrap !important; overflow:hidden !important; text-overflow:ellipsis !important;; }\n",
       "    </style><thead><tr style= \"background: rgba(243, 243, 243, 0.75)\"><th class=\"tdhistory801810\"></th><th class=\"tdhistory801810\">CUST_ID</th><th class=\"tdhistory801810\">GR1_KEY</th><th class=\"tdhistory801810\">CALLCENTER_KEY</th><th class=\"tdhistory801810\">PHONE</th><th class=\"tdhistory801810\">jaro</th></tr></thead><tbody class=\"tdhistory801810 resultset-body\"><tr><th class=\"tdhistory801810\" style= \"background: rgba(243, 243, 243, 0.75)\">1</th><td class=\"tdhistory801810\">21903</td><td class=\"tdhistory801810\">JessicaRegoNashport</td><td class=\"tdhistory801810\">JessicaRegoNashporte</td><td class=\"tdhistory801810\">(530) 696-4308</td><td class=\"tdhistory801810\">0.9833333333333334</td></tr></tbody></table></div>"
      ]
     },
     "execution_count": 27,
     "metadata": {
      "application/vnd.teradata.resultset": "{\"resultSetID\":\"/home/jovyan/JupyterLabRoot/Teradata/Resultsets/2024.09.05_08.53.35.342_UTC\",\"historyID\":103,\"chunkID\":\"00001\",\"sessionid\":\"\",\"portnum\":\"\",\"dockermode\":\"docker\",\"totalRowCount\":1,\"chunkCount\":0,\"rowLimit\":0,\"columnMetadata\":[{\"columnName\":\"CUST_ID\",\"columnTypeName\":\"SMALLINT\"},{\"columnNumber\":1,\"columnName\":\"GR1_KEY\",\"columnTypeName\":\"VARCHAR\",\"length\":50,\"scale\":50},{\"columnNumber\":2,\"columnName\":\"CALLCENTER_KEY\",\"columnTypeName\":\"VARCHAR\",\"length\":50,\"scale\":50},{\"columnNumber\":3,\"columnName\":\"PHONE\",\"columnTypeName\":\"VARCHAR\",\"length\":14,\"scale\":14},{\"columnNumber\":4,\"columnName\":\"jaro\",\"columnTypeName\":\"FLOAT\"}]}"
     },
     "output_type": "execute_result"
    }
   ],
   "source": [
    "SELECT * FROM C360_MatchABC_V WHERE GR1_KEY LIKE '%JessicaRego%'"
   ]
  },
  {
   "cell_type": "markdown",
   "id": "55f0dea9",
   "metadata": {},
   "source": [
    "<hr style=\"height:1px;border:none;background-color:#00233C;\">\n",
    "<p style = 'font-size:18px;font-family:Arial;color:#00233C'><b>5.2 - Join tables to create intermediate golden record</b></p>\n",
    "\n",
    "<p style = 'font-size:16px;font-family:Arial;color:#00233C'>Using the CUST_ID, we create another interim golden record including data from the call center table.</p>"
   ]
  },
  {
   "cell_type": "code",
   "execution_count": 28,
   "id": "93fdf40e",
   "metadata": {},
   "outputs": [
    {
     "data": {
      "text/plain": [
       "Success: 0 rows affected"
      ]
     },
     "execution_count": 28,
     "metadata": {
      "application/vnd.teradata.resultset": ""
     },
     "output_type": "execute_result"
    }
   ],
   "source": [
    "REPLACE VIEW C360_GR2_V AS (\n",
    "    SELECT gr.CUST_ID, gr.LOYALTY_NUM, gr.GENDER, \n",
    "           gr.FIRSTNAME, gr.LASTNAME, \n",
    "           gr.ADDRESS, gr.STATE, gr.CITY, gr.ZIP, \n",
    "           --gr.EQUIP_LTV, gr.ONLINE_LTV, \n",
    "           --COALESCE(mabc.CALL_CENTER_COST, 0) as CALL_CENTER_COST, \n",
    "            gr.EMAIL,\n",
    "            mabc.PHONE\n",
    "    FROM C360_GR1_V gr LEFT JOIN C360_MatchABC_V mabc\n",
    "    ON gr.CUST_ID = mabc.CUST_ID\n",
    ")"
   ]
  },
  {
   "cell_type": "code",
   "execution_count": 29,
   "id": "6d2e914f",
   "metadata": {},
   "outputs": [
    {
     "data": {
      "application/vnd.teradata.resultset": "\"CUST_ID\",\"LOYALTY_NUM\",\"GENDER\",\"FIRSTNAME\",\"LASTNAME\",\"ADDRESS\",\"STATE\",\"CITY\",\"ZIP\",\"EMAIL\",\"PHONE\"\n\"20003\",\"\",\"M\",\"Ethan\",\"Martin\",\"7693 Cedar Street\",\"PA\",\"Greensboro\",\"15338\",\"\",\"\"\n\"19614\",\"\",\"M\",\"Clement\",\"Bertrand\",\"5606 Paper Mill Road\",\"NY\",\"Rochester\",\"14660\",\"\",\"\"\n\"19980\",\"\",\"F\",\"Maria\",\"Silva\",\"8147 Center Mill Road\",\"WV\",\"Kellysville\",\"24732\",\"\",\"\"\n\"19921\",\"5729451\",\"M\",\"Thiago\",\"Pena\",\"2591 Seventh Street\",\"PA\",\"Millerstown\",\"17062\",\"tpena@gmail.com\",\"(702) 821-1527\"\n\"19553\",\"5451688\",\"M\",\"Bo\",\"Li\",\"3248 N. Torrey Pines Road\",\"PA\",\"Oak Ridge\",\"16245\",\"bo.li@teratitan.com\",\"(617) 284-2673\"\n\"21635\",\"2242698\",\"M\",\"Alexander\",\"Muller\",\"3649 Main Street\",\"PA\",\"York\",\"17407\",\"alexander.muller@teratitan.com\",\"\"\n\"19410\",\"6170383\",\"M\",\"Rodrigo\",\"Gonsalves\",\"7150 Second Street\",\"PA\",\"Refton\",\"17568\",\"rgonsalvez@outlook.com\",\"\"\n\"22142\",\"1584600\",\"F\",\"Beatriz\",\"Gonsalves\",\"1212 Fifth Street\",\"OH\",\"Fairfield\",\"45018\",\"beatriz.gonsalves@teratitan.com\",\"(510) 563-2532\"\n\"19513\",\"\",\"M\",\"Cheung\",\"Yang\",\"7462 Hollywood Boulevard\",\"PA\",\"Richland\",\"17087\",\"\",\"\"\n\"20350\",\"1143641\",\"M\",\"Clement\",\"Vincent\",\"6236 Burnt Mill Road\",\"OH\",\"Edon\",\"43518\",\"clement.vincent@teratitan.com\",\"\"",
      "text/html": [
       "<div class = \"td-resultset-table-div\" style = \"max-height: 100%; overflow-y: auto\">\n",
       "      <table class=\"tdhistory394448\"><style>\n",
       "      table.tdhistory394448 { display: block !important; min-height: 294px !important; overflow: auto !important; height: 294px !important; width: 100% !important; border: 1px solid rgb(207, 207, 207) !important; border-collapse: collapse !important; ; color: var(--jp-ui-font-color1) !important; }\n",
       "      th.tdhistory394448 { border: 1px solid rgb(198,198,198) !important; border-collapse: collapse !important; ; padding: 2px 5px !important; ; font-size: 13px !important; ; text-align: center !important; white-space: normal !important; color: var(--jp-ui-font-color1) !important; }\n",
       "      th.tdhistory394448:last-child { text-align: left !important; }\n",
       "      tbody.tdhistory394448 tr:nth-child(even) { background: rgba(243, 243, 243, 0.75) !important; }\n",
       "      tbody.tdhistory394448 tr:nth-child(odd) { background: var(--jp-ui-inverse-font-color1) !important; }\n",
       "      td.tdhistory394448 { border: 1px solid rgb(207, 207, 207) !important; border-collapse: collapse !important; ; padding: 2px 5px !important; ; font-size: 13px !important; ; text-align: left !important;          white-space: nowrap !important; overflow:hidden !important; text-overflow:ellipsis !important;; }\n",
       "    </style><thead><tr style= \"background: rgba(243, 243, 243, 0.75)\"><th class=\"tdhistory394448\"></th><th class=\"tdhistory394448\">CUST_ID</th><th class=\"tdhistory394448\">LOYALTY_NUM</th><th class=\"tdhistory394448\">GENDER</th><th class=\"tdhistory394448\">FIRSTNAME</th><th class=\"tdhistory394448\">LASTNAME</th><th class=\"tdhistory394448\">ADDRESS</th><th class=\"tdhistory394448\">STATE</th><th class=\"tdhistory394448\">CITY</th><th class=\"tdhistory394448\">ZIP</th><th class=\"tdhistory394448\">EMAIL</th><th class=\"tdhistory394448\">PHONE</th></tr></thead><tbody class=\"tdhistory394448 resultset-body\"><tr><th class=\"tdhistory394448\" style= \"background: rgba(243, 243, 243, 0.75)\">1</th><td class=\"tdhistory394448\">20003</td><td class=\"tdhistory394448\"></td><td class=\"tdhistory394448\">M</td><td class=\"tdhistory394448\">Ethan</td><td class=\"tdhistory394448\">Martin</td><td class=\"tdhistory394448\">7693 Cedar Street</td><td class=\"tdhistory394448\">PA</td><td class=\"tdhistory394448\">Greensboro</td><td class=\"tdhistory394448\">15338</td><td class=\"tdhistory394448\"></td><td class=\"tdhistory394448\"></td></tr><tr><th class=\"tdhistory394448\" style= \"background: rgba(243, 243, 243, 0.75)\">2</th><td class=\"tdhistory394448\">19614</td><td class=\"tdhistory394448\"></td><td class=\"tdhistory394448\">M</td><td class=\"tdhistory394448\">Clement</td><td class=\"tdhistory394448\">Bertrand</td><td class=\"tdhistory394448\">5606 Paper Mill Road</td><td class=\"tdhistory394448\">NY</td><td class=\"tdhistory394448\">Rochester</td><td class=\"tdhistory394448\">14660</td><td class=\"tdhistory394448\"></td><td class=\"tdhistory394448\"></td></tr><tr><th class=\"tdhistory394448\" style= \"background: rgba(243, 243, 243, 0.75)\">3</th><td class=\"tdhistory394448\">19980</td><td class=\"tdhistory394448\"></td><td class=\"tdhistory394448\">F</td><td class=\"tdhistory394448\">Maria</td><td class=\"tdhistory394448\">Silva</td><td class=\"tdhistory394448\">8147 Center Mill Road</td><td class=\"tdhistory394448\">WV</td><td class=\"tdhistory394448\">Kellysville</td><td class=\"tdhistory394448\">24732</td><td class=\"tdhistory394448\"></td><td class=\"tdhistory394448\"></td></tr><tr><th class=\"tdhistory394448\" style= \"background: rgba(243, 243, 243, 0.75)\">4</th><td class=\"tdhistory394448\">19921</td><td class=\"tdhistory394448\">5729451</td><td class=\"tdhistory394448\">M</td><td class=\"tdhistory394448\">Thiago</td><td class=\"tdhistory394448\">Pena</td><td class=\"tdhistory394448\">2591 Seventh Street</td><td class=\"tdhistory394448\">PA</td><td class=\"tdhistory394448\">Millerstown</td><td class=\"tdhistory394448\">17062</td><td class=\"tdhistory394448\">tpena@gmail.com</td><td class=\"tdhistory394448\">(702) 821-1527</td></tr><tr><th class=\"tdhistory394448\" style= \"background: rgba(243, 243, 243, 0.75)\">5</th><td class=\"tdhistory394448\">19553</td><td class=\"tdhistory394448\">5451688</td><td class=\"tdhistory394448\">M</td><td class=\"tdhistory394448\">Bo</td><td class=\"tdhistory394448\">Li</td><td class=\"tdhistory394448\">3248 N. Torrey Pines Road</td><td class=\"tdhistory394448\">PA</td><td class=\"tdhistory394448\">Oak Ridge</td><td class=\"tdhistory394448\">16245</td><td class=\"tdhistory394448\">bo.li@teratitan.com</td><td class=\"tdhistory394448\">(617) 284-2673</td></tr><tr><th class=\"tdhistory394448\" style= \"background: rgba(243, 243, 243, 0.75)\">6</th><td class=\"tdhistory394448\">21635</td><td class=\"tdhistory394448\">2242698</td><td class=\"tdhistory394448\">M</td><td class=\"tdhistory394448\">Alexander</td><td class=\"tdhistory394448\">Muller</td><td class=\"tdhistory394448\">3649 Main Street</td><td class=\"tdhistory394448\">PA</td><td class=\"tdhistory394448\">York</td><td class=\"tdhistory394448\">17407</td><td class=\"tdhistory394448\">alexander.muller@teratitan.com</td><td class=\"tdhistory394448\"></td></tr><tr><th class=\"tdhistory394448\" style= \"background: rgba(243, 243, 243, 0.75)\">7</th><td class=\"tdhistory394448\">19410</td><td class=\"tdhistory394448\">6170383</td><td class=\"tdhistory394448\">M</td><td class=\"tdhistory394448\">Rodrigo</td><td class=\"tdhistory394448\">Gonsalves</td><td class=\"tdhistory394448\">7150 Second Street</td><td class=\"tdhistory394448\">PA</td><td class=\"tdhistory394448\">Refton</td><td class=\"tdhistory394448\">17568</td><td class=\"tdhistory394448\">rgonsalvez@outlook.com</td><td class=\"tdhistory394448\"></td></tr><tr><th class=\"tdhistory394448\" style= \"background: rgba(243, 243, 243, 0.75)\">8</th><td class=\"tdhistory394448\">22142</td><td class=\"tdhistory394448\">1584600</td><td class=\"tdhistory394448\">F</td><td class=\"tdhistory394448\">Beatriz</td><td class=\"tdhistory394448\">Gonsalves</td><td class=\"tdhistory394448\">1212 Fifth Street</td><td class=\"tdhistory394448\">OH</td><td class=\"tdhistory394448\">Fairfield</td><td class=\"tdhistory394448\">45018</td><td class=\"tdhistory394448\">beatriz.gonsalves@teratitan.com</td><td class=\"tdhistory394448\">(510) 563-2532</td></tr><tr><th class=\"tdhistory394448\" style= \"background: rgba(243, 243, 243, 0.75)\">9</th><td class=\"tdhistory394448\">19513</td><td class=\"tdhistory394448\"></td><td class=\"tdhistory394448\">M</td><td class=\"tdhistory394448\">Cheung</td><td class=\"tdhistory394448\">Yang</td><td class=\"tdhistory394448\">7462 Hollywood Boulevard</td><td class=\"tdhistory394448\">PA</td><td class=\"tdhistory394448\">Richland</td><td class=\"tdhistory394448\">17087</td><td class=\"tdhistory394448\"></td><td class=\"tdhistory394448\"></td></tr><tr><th class=\"tdhistory394448\" style= \"background: rgba(243, 243, 243, 0.75)\">10</th><td class=\"tdhistory394448\">20350</td><td class=\"tdhistory394448\">1143641</td><td class=\"tdhistory394448\">M</td><td class=\"tdhistory394448\">Clement</td><td class=\"tdhistory394448\">Vincent</td><td class=\"tdhistory394448\">6236 Burnt Mill Road</td><td class=\"tdhistory394448\">OH</td><td class=\"tdhistory394448\">Edon</td><td class=\"tdhistory394448\">43518</td><td class=\"tdhistory394448\">clement.vincent@teratitan.com</td><td class=\"tdhistory394448\"></td></tr></tbody></table></div>"
      ]
     },
     "execution_count": 29,
     "metadata": {
      "application/vnd.teradata.resultset": "{\"resultSetID\":\"/home/jovyan/JupyterLabRoot/Teradata/Resultsets/2024.09.05_08.53.36.994_UTC\",\"historyID\":105,\"chunkID\":\"00001\",\"sessionid\":\"\",\"portnum\":\"\",\"dockermode\":\"docker\",\"totalRowCount\":10,\"chunkCount\":0,\"rowLimit\":0,\"columnMetadata\":[{\"columnName\":\"CUST_ID\",\"columnTypeName\":\"SMALLINT\"},{\"columnNumber\":1,\"columnName\":\"LOYALTY_NUM\",\"columnTypeName\":\"INTEGER\"},{\"columnNumber\":2,\"columnName\":\"GENDER\",\"columnTypeName\":\"VARCHAR\",\"length\":1,\"scale\":1},{\"columnNumber\":3,\"columnName\":\"FIRSTNAME\",\"columnTypeName\":\"VARCHAR\",\"length\":11,\"scale\":11},{\"columnNumber\":4,\"columnName\":\"LASTNAME\",\"columnTypeName\":\"VARCHAR\",\"length\":9,\"scale\":9},{\"columnNumber\":5,\"columnName\":\"ADDRESS\",\"columnTypeName\":\"VARCHAR\",\"length\":25,\"scale\":25},{\"columnNumber\":6,\"columnName\":\"STATE\",\"columnTypeName\":\"VARCHAR\",\"length\":2,\"scale\":2},{\"columnNumber\":7,\"columnName\":\"CITY\",\"columnTypeName\":\"VARCHAR\",\"length\":16,\"scale\":16},{\"columnNumber\":8,\"columnName\":\"ZIP\",\"columnTypeName\":\"INTEGER\"},{\"columnNumber\":9,\"columnName\":\"EMAIL\",\"columnTypeName\":\"VARCHAR\",\"length\":31,\"scale\":31},{\"columnNumber\":10,\"columnName\":\"PHONE\",\"columnTypeName\":\"VARCHAR\",\"length\":14,\"scale\":14}]}"
     },
     "output_type": "execute_result"
    }
   ],
   "source": [
    "SELECT TOP 10 * FROM C360_GR2_V;"
   ]
  },
  {
   "cell_type": "markdown",
   "id": "0aa2668f-f37a-44d6-9404-6f873a902539",
   "metadata": {},
   "source": [
    "<p style = 'font-size:16px;font-family:Arial;color:#00233C'>We see Jessica's record has been updated with an email address (from the last join) and a phone number (from this join).</p>"
   ]
  },
  {
   "cell_type": "code",
   "execution_count": 30,
   "id": "2e7a6bfd",
   "metadata": {},
   "outputs": [
    {
     "data": {
      "application/vnd.teradata.resultset": "\"CUST_ID\",\"LOYALTY_NUM\",\"GENDER\",\"FIRSTNAME\",\"LASTNAME\",\"ADDRESS\",\"STATE\",\"CITY\",\"ZIP\",\"EMAIL\",\"PHONE\"\n\"21903\",\"1460445\",\"F\",\"Jessica\",\"Rego\",\"3114 Park Street\",\"OH\",\"Nashport\",\"43830\",\"jrego@yahoo.com\",\"(530) 696-4308\"",
      "text/html": [
       "<div class = \"td-resultset-table-div\" style = \"max-height: 100%; overflow-y: auto\">\n",
       "      <table class=\"tdhistory957395\"><style>\n",
       "      table.tdhistory957395 { display: block !important; min-height: 105px !important; overflow: auto !important; height: 105px !important; width: 100% !important; border: 1px solid rgb(207, 207, 207) !important; border-collapse: collapse !important; ; color: var(--jp-ui-font-color1) !important; }\n",
       "      th.tdhistory957395 { border: 1px solid rgb(198,198,198) !important; border-collapse: collapse !important; ; padding: 2px 5px !important; ; font-size: 13px !important; ; text-align: center !important; white-space: normal !important; color: var(--jp-ui-font-color1) !important; }\n",
       "      th.tdhistory957395:last-child { text-align: left !important; }\n",
       "      tbody.tdhistory957395 tr:nth-child(even) { background: rgba(243, 243, 243, 0.75) !important; }\n",
       "      tbody.tdhistory957395 tr:nth-child(odd) { background: var(--jp-ui-inverse-font-color1) !important; }\n",
       "      td.tdhistory957395 { border: 1px solid rgb(207, 207, 207) !important; border-collapse: collapse !important; ; padding: 2px 5px !important; ; font-size: 13px !important; ; text-align: left !important;          white-space: nowrap !important; overflow:hidden !important; text-overflow:ellipsis !important;; }\n",
       "    </style><thead><tr style= \"background: rgba(243, 243, 243, 0.75)\"><th class=\"tdhistory957395\"></th><th class=\"tdhistory957395\">CUST_ID</th><th class=\"tdhistory957395\">LOYALTY_NUM</th><th class=\"tdhistory957395\">GENDER</th><th class=\"tdhistory957395\">FIRSTNAME</th><th class=\"tdhistory957395\">LASTNAME</th><th class=\"tdhistory957395\">ADDRESS</th><th class=\"tdhistory957395\">STATE</th><th class=\"tdhistory957395\">CITY</th><th class=\"tdhistory957395\">ZIP</th><th class=\"tdhistory957395\">EMAIL</th><th class=\"tdhistory957395\">PHONE</th></tr></thead><tbody class=\"tdhistory957395 resultset-body\"><tr><th class=\"tdhistory957395\" style= \"background: rgba(243, 243, 243, 0.75)\">1</th><td class=\"tdhistory957395\">21903</td><td class=\"tdhistory957395\">1460445</td><td class=\"tdhistory957395\">F</td><td class=\"tdhistory957395\">Jessica</td><td class=\"tdhistory957395\">Rego</td><td class=\"tdhistory957395\">3114 Park Street</td><td class=\"tdhistory957395\">OH</td><td class=\"tdhistory957395\">Nashport</td><td class=\"tdhistory957395\">43830</td><td class=\"tdhistory957395\">jrego@yahoo.com</td><td class=\"tdhistory957395\">(530) 696-4308</td></tr></tbody></table></div>"
      ]
     },
     "execution_count": 30,
     "metadata": {
      "application/vnd.teradata.resultset": "{\"resultSetID\":\"/home/jovyan/JupyterLabRoot/Teradata/Resultsets/2024.09.05_08.53.38.113_UTC\",\"historyID\":106,\"chunkID\":\"00001\",\"sessionid\":\"\",\"portnum\":\"\",\"dockermode\":\"docker\",\"totalRowCount\":1,\"chunkCount\":0,\"rowLimit\":0,\"columnMetadata\":[{\"columnName\":\"CUST_ID\",\"columnTypeName\":\"SMALLINT\"},{\"columnNumber\":1,\"columnName\":\"LOYALTY_NUM\",\"columnTypeName\":\"INTEGER\"},{\"columnNumber\":2,\"columnName\":\"GENDER\",\"columnTypeName\":\"VARCHAR\",\"length\":1,\"scale\":1},{\"columnNumber\":3,\"columnName\":\"FIRSTNAME\",\"columnTypeName\":\"VARCHAR\",\"length\":11,\"scale\":11},{\"columnNumber\":4,\"columnName\":\"LASTNAME\",\"columnTypeName\":\"VARCHAR\",\"length\":9,\"scale\":9},{\"columnNumber\":5,\"columnName\":\"ADDRESS\",\"columnTypeName\":\"VARCHAR\",\"length\":25,\"scale\":25},{\"columnNumber\":6,\"columnName\":\"STATE\",\"columnTypeName\":\"VARCHAR\",\"length\":2,\"scale\":2},{\"columnNumber\":7,\"columnName\":\"CITY\",\"columnTypeName\":\"VARCHAR\",\"length\":16,\"scale\":16},{\"columnNumber\":8,\"columnName\":\"ZIP\",\"columnTypeName\":\"INTEGER\"},{\"columnNumber\":9,\"columnName\":\"EMAIL\",\"columnTypeName\":\"VARCHAR\",\"length\":31,\"scale\":31},{\"columnNumber\":10,\"columnName\":\"PHONE\",\"columnTypeName\":\"VARCHAR\",\"length\":14,\"scale\":14}]}"
     },
     "output_type": "execute_result"
    }
   ],
   "source": [
    "SELECT * FROM C360_GR2_V WHERE FIRSTNAME = 'Jessica' AND LASTNAME = 'Rego'"
   ]
  },
  {
   "cell_type": "markdown",
   "id": "e2fd136a",
   "metadata": {},
   "source": [
    "<hr style=\"height:2px;border:none;background-color:#00233C;\">\n",
    "<p style = 'font-size:20px;font-family:Arial;color:#00233C'><b>6. Append Cookie Data</b></p>\n",
    "\n",
    "<p style = 'font-size:16px;font-family:Arial;color:#00233C'>We repeat the process, this time appending the cookie data. Since cookies are collected at the household level, we will use address as the matching string.</p>\n",
    "\n",
    "<p style = 'font-size:16px;font-family:Arial;color:#00233C'>Steps for this section include:\n",
    "<img src = 'images/step6.png' width = '300' align='right' padding='padding:50px'></p>\n",
    "\n",
    "<ol style = 'font-size:16px;font-family:Arial;color:#00233C'>\n",
    "    <li>Creating a matching table\n",
    "    <li>Joining the intermediate golden record table with the matching table to form a new intermediate golden record</li>\n",
    "    </ol>"
   ]
  },
  {
   "cell_type": "markdown",
   "id": "72035eda",
   "metadata": {},
   "source": [
    "<hr style=\"height:1px;border:none;background-color:#00233C;\">\n",
    "<p style = 'font-size:18px;font-family:Arial;color:#00233C'><b>6.1 - Creating a matching table</b></p>\n",
    "\n",
    "<p style = 'font-size:16px;font-family:Arial;color:#00233C'>As in the previous section, we will create a view consisting of rows with a Jaro match greater than 0.9.</p>"
   ]
  },
  {
   "cell_type": "code",
   "execution_count": 31,
   "id": "f834fc3f",
   "metadata": {},
   "outputs": [
    {
     "data": {
      "text/plain": [
       "Success: 0 rows affected"
      ]
     },
     "execution_count": 31,
     "metadata": {
      "application/vnd.teradata.resultset": ""
     },
     "output_type": "execute_result"
    }
   ],
   "source": [
    "REPLACE VIEW C360_MatchABCD_V AS (\n",
    "    SELECT * FROM StringSimilarity (\n",
    "        ON (\n",
    "            SELECT \n",
    "                gr2.CUST_ID, \n",
    "                gr2.EMAIL,\n",
    "                gr2.PHONE,\n",
    "                CAST(REGEXP_REPLACE(OREPLACE((gr2.ADDRESS||gr2.CITY),' ',''), \n",
    "                                             '[^a-zA-Z\\d:]','',1,0) as VARCHAR(50)) \n",
    "                                             as GR2_KEY,\n",
    "                CAST(REGEXP_REPLACE(OREPLACE((t.ADDR_LN_1_TXT||t.CITY_NAME),' ',''), \n",
    "                                             '[^a-zA-Z\\d:]','',1,0) as VARCHAR(50)) \n",
    "                                             as TAGGING_KEY,\n",
    "                t.COOKIE,\n",
    "                t.CAMPAIGN\n",
    "            FROM C360_GR2_V gr2, DEMO_Customer360.Cookie t\n",
    "        ) PARTITION BY ANY\n",
    "        USING\n",
    "        ComparisonColumnPairs(\n",
    "            'jaro (GR2_KEY, TAGGING_KEY) AS jaro'\n",
    "        )\n",
    "        CaseSensitive('false')\n",
    "        Accumulate('CUST_ID','EMAIL','PHONE', 'GR2_KEY', 'TAGGING_KEY', 'COOKIE','CAMPAIGN')\n",
    "    ) AS dt \n",
    "WHERE jaro > .90)"
   ]
  },
  {
   "cell_type": "code",
   "execution_count": 32,
   "id": "2f342ac1",
   "metadata": {},
   "outputs": [
    {
     "data": {
      "application/vnd.teradata.resultset": "\"CUST_ID\",\"EMAIL\",\"PHONE\",\"GR2_KEY\",\"TAGGING_KEY\",\"COOKIE\",\"CAMPAIGN\",\"jaro\"\n\"21647\",\"harish.banerjee@teratitan.com\",\"(216) 258-3212\",\"331CityBlvdWCleveland\",\"331CityBlvdWCleveland\",\"3FDBF0376A814344908925F93F3ED59\",\"Search\",\"1\"\n\"20387\",\"tmedina@yahoo.com\",\"(813) 611-8265\",\"2729AbbotKinneyBlvdSpencer\",\"2729AbbotKinneyBlvdSpencer\",\"402F84D4AD94ECF934252A443F6ED42F\",\"Search\",\"1\"\n\"22018\",\"sahil.sharma@teratitan.com\",\"\",\"3739BarleyMillRoadBrooklyn\",\"3739BarleyMillRoadBrooklyn\",\"DD884D7B1EE46E7B6E1BF8DA9B10988F\",\"Search\",\"1\"\n\"20117\",\"maya.campbell@teratitan.com\",\"(304) 903-1275\",\"2585HayesStParkersburg\",\"2585HayesStParkersburg\",\"73C79D2507929CC9284C702263C942\",\"Email\",\"1\"\n\"19403\",\"gsilvan@yahoo.com\",\"\",\"4132WillieMaysPlazaLimestone\",\"4132WillieMaysPlazaLimestone\",\"F657E711ED332EBF9B60A921143A8341\",\"Display\",\"1\"\n\"19939\",\"jtorres@gmail.com\",\"(775) 202-5303\",\"2193UpperSnuffMillRowBretz\",\"2193UpperSnuffMillRowBretz\",\"82E3A91DF019BDAE7210E63B782F\",\"Search\",\"1\"\n\"21964\",\"Steven.Sugar@teratitan.com\",\"(513) 273-2352\",\"1854OakStreetHamilton\",\"1854OakStreetHamilton\",\"15CDB6C74BD9B2929FB0F41359ECEE42\",\"Social\",\"1\"\n\"21604\",\"sofie.larsen@teratitan.com\",\"(772) 503-2101\",\"1600BeverlyBoulevardJavaCenter\",\"1600BeverlyBoulevardJavaCenter\",\"4CF6A88A0664B34BD89ED714A11DF5F\",\"Search\",\"1\"\n\"21903\",\"jrego@yahoo.com\",\"(530) 696-4308\",\"3114ParkStreetNashport\",\"3114ParkStreetNashport\",\"2846E54D5FFE2905099AC6E23014DF7\",\"Email\",\"1\"\n\"21832\",\"jgao@gmail.com\",\"(504) 787-0477\",\"1964ViewStreetLakeAriel\",\"1964ViewStreetLakeAriel\",\"F4056690A7878DA98044A8B55F3A9DE\",\"Search\",\"1\"\n\"19376\",\"kruis@yahoo.com\",\"\",\"4660ViewStreetStatenIsland\",\"4660ViewStreetStatenIsland\",\"95DCCA7FF8B3AC0C2CA92AA3F6D0FAA6\",\"Social\",\"1\"\n\"19857\",\"\",\"\",\"2699MendenhallMillRoadNorthEvans\",\"2699MendenhallMillRoadNorthEvans\",\"F962365BA3DCF5CA20D27A28FA725618\",\"Social\",\"1\"\n\"22120\",\"matias.lopez@teratitan.com\",\"\",\"4086UpperSnuffMillRowTelford\",\"4086UpperSnuffMillRowTelford\",\"7F3A73C52275AD957B54E3C0CD3244\",\"Social\",\"1\"\n\"19716\",\"fu.lao@teratitan.com\",\"\",\"3967EighthStreetRome\",\"3967EighthStreetRome\",\"60B6602E2103AFC9D6D5255B15AAF\",\"Email\",\"1\"\n\"19499\",\"msousa@gmail.com\",\"(304) 231-8631\",\"158WestPicoBoulevardLinden\",\"158WestPicoBoulevardLinden\",\"752F442D3CD539A61B68BA6E53519A13\",\"Search\",\"1\"\n\"21707\",\"jgomez@yahoo.com\",\"(916) 768-6879\",\"2938AlexanderValleyRdBloomingburg\",\"2938AlexanderValleyRdBloomingburg\",\"5A069EEFB8D678AE938CEFC8BB62E65\",\"Search\",\"1\"\n\"20575\",\"ldesilva@gmail.com\",\"(570) 387-2031\",\"11RedMillRoadNewCastle\",\"11RedMillRoadNewCastle\",\"AB7DBCFFD0AD5577560D8B545A842B41\",\"Display\",\"1\"\n\"19688\",\"lteixeira@gmail.com\",\"(253) 470-1804\",\"1522NorthUSHighway1Kerr\",\"1522NorthUSHighway1Kerr\",\"F7C0C15D6A14F6206CAABF7B6E45477\",\"Search\",\"1\"\n\"19344\",\"charlotte.king@teratitan.com\",\"(760) 229-0754\",\"3056MissionStMarchand\",\"3056MissionStMarchand\",\"66F65FCE49D783B606770528DC6F6F\",\"Display\",\"1\"\n\"21991\",\"vregon@yahoo.com\",\"\",\"3695CityBlvdWFallentimber\",\"3695CityBlvdWFallentimber\",\"B08B0A84F973C3F790E34D01FEC5558\",\"Display\",\"1\"\n\"19472\",\"aguta@yahoo.com\",\"\",\"4634ElCaminoRealElysburg\",\"4634ElCaminoRealElysburg\",\"E68F98BD8E903C65CF93E750245666B6\",\"Social\",\"1\"\n\"19553\",\"bo.li@teratitan.com\",\"(617) 284-2673\",\"3248NTorreyPinesRoadOakRidge\",\"3248NTorreyPinesRoadOakRidge\",\"368C1B6E30E1930927E0C0BF603DDB70\",\"Email\",\"1\"\n\"21862\",\"fu.liu@teratitan.com\",\"\",\"4267SouthArroyoPkwyHogansburg\",\"4267SouthArroyoPkwyHogansburg\",\"B013B6A6B59CF4A772E1FFDAC6BE29F\",\"Display\",\"1\"\n\"22142\",\"beatriz.gonsalves@teratitan.com\",\"(510) 563-2532\",\"1212FifthStreetFairfield\",\"1212FifthStreetFairfield\",\"44C13D702EBA675AE341AC9BF9C1B89\",\"Email\",\"1\"\n\"19579\",\"pedro.gonsalves@teratitan.com\",\"(434) 432-6306\",\"1233ElCaminoRealGreenville\",\"1233ElCaminoRealGreenville\",\"9AB4BD59BCF976409A5887ED77EB333\",\"Social\",\"1\"\n\"22143\",\"lucas.moreau@teratitan.com\",\"(941) 929-3922\",\"1455SixthStreetWinchester\",\"1455SixthStreetWinchester\",\"B0273ABF9237CD15EA547F97104D46FA\",\"Email\",\"1\"\n\"19463\",\"apatel@gmail.com\",\"(304) 864-1382\",\"1676MainStWaiteville\",\"1676MainStWaiteville\",\"A2D7671FDB136EDACC21D4CE4E25F6C1\",\"Email\",\"1\"\n\"19397\",\"bmartins@gmail.com\",\"(216) 364-9325\",\"2178HydeStreetAshley\",\"2178HydeStreetAshley\",\"71A74C1B65E8370D688067478FB958\",\"Search\",\"1\"\n\"20521\",\"bgonsalves@gmail.com\",\"(509) 567-1484\",\"1896MasonStreetHighlandFalls\",\"1896MasonStreetHighlandFalls\",\"9363AB7AE6B9E16D493E717B4FC9C70\",\"Email\",\"1\"\n\"19310\",\"isabella.mayer@teratitan.com\",\"(360) 692-8811\",\"2670MusicConcourseDrFranklinSprings\",\"2670MusicConcoursDrFranklinSprings\",\"ABA85B63EE0DAD5C1A7DF14321F61AC2\",\"Social\",\"0.9904761904761905\"\n\"19649\",\"vteixeira@gmail.com\",\"\",\"2384ManhattanAvenueBridgeport\",\"2384ManhatanAvenueBridgeport\",\"A1AA755BB886ABC1665AAB8F708BA164\",\"Display\",\"0.9885057471264368\"\n\"19457\",\"rafael.benitez@teratitan.com\",\"(785) 435-7536\",\"2808FillmoreStreetBrooklyn\",\"2808FilmoreStreetBrooklyn\",\"2A2361F8D9C155E6789CD58A6C7A0F0\",\"Email\",\"0.9871794871794872\"\n\"19377\",\"christopher.brown@teratitan.com\",\"\",\"4839FillmoreStreetArtie\",\"4839FilmoreStreetArtie\",\"F7DC6533675B20757A2A5F119805B7C\",\"Social\",\"0.9855072463768115\"\n\"19994\",\"ethan.taylor@teratitan.com\",\"(302) 953-9585\",\"3601WillieMaysPlazaCanton\",\"3601WillieMaysPlzCanton\",\"117727C337813D50AAF628EA35A7470F\",\"Social\",\"0.9588405797101448\"\n\"20557\",\"lfari@yahoo.com\",\"\",\"4161PineStreetAlbany\",\"4161PinStreetAlbany\",\"57915704D0E07D5E71BB37FCC74028B1\",\"Display\",\"0.9482456140350877\"\n\"20158\",\"nishi.mahawar@teratitan.com\",\"(619) 912-4407\",\"2440AbbotKinneyKane\",\"2440AbbotKineyKane\",\"833F46D6A8D13CF742D69C9B6F27D2E6\",\"Display\",\"0.94541910331384\"\n\"19562\",\"anna.winkler@teratitan.com\",\"\",\"2823JonesSausageRdRochester\",\"2823JonesSausageRochester\",\"C6F42C9899C7CEAF78D19ACD1B7B8D9B\",\"Social\",\"0.9219753086419753\"\n\"19540\",\"jmartin@outlook.com\",\"\",\"491CedarStreetHamilton\",\"491CedrStreetHamilton\",\"F1A8A5675E5036CC2CC5ECDC26D1A313\",\"Email\",\"0.9213564213564215\"\n\"19948\",\"asouza@yahoo.com\",\"\",\"4245SnuffMillRoadSomerdale\",\"4245SnuffMillRdSomerdale\",\"3427606FBCDAF543BD334F93D2C17AF6\",\"Search\",\"0.9188034188034188\"\n\"21705\",\"mrocha@gmail.com\",\"(917) 904-2312\",\"2588CurtisMillRoadStockton\",\"2588CurtisMillRdStockton\",\"AEFF363C2DE8F1B4287233D7E6FB423\",\"Social\",\"0.9188034188034188\"\n\"21902\",\"jgomes@yahoo.com\",\"\",\"4321FifthStreetLatty\",\"4321FilfthStreetLatty\",\"517E7D1C4CBF13FAC7D1BE18214A312\",\"Display\",\"0.9174603174603174\"\n\"19674\",\"lregoo@yahoo.com\",\"\",\"4205NinthStreetWestFarmington\",\"4205NinthStreeWestFarmington\",\"593EBF1F7F37D94F4716FBE7A6ACCC3\",\"Email\",\"0.9170771756978654\"\n\"22099\",\"asmith@gmail.com\",\"(253) 403-8318\",\"2253MelroseAvenueBrooklyn\",\"2253MelroseAveBrooklyn\",\"2AE67BA5E179764FC0297BB7BD329A65\",\"Display\",\"0.9145454545454546\"\n\"21635\",\"alexander.muller@teratitan.com\",\"\",\"3649MainStreetYork\",\"3649MainStYork\",\"9856C1982CB8FD2ABF9AC11CB7A9FD\",\"Display\",\"0.9021164021164022\"",
      "text/html": [
       "<div class = \"td-resultset-table-div\" style = \"max-height: 100%; overflow-y: auto\">\n",
       "      <table class=\"tdhistory570753\"><style>\n",
       "      table.tdhistory570753 { display: block !important; min-height: 588px !important; overflow: auto !important; height: 588px !important; width: 100% !important; border: 1px solid rgb(207, 207, 207) !important; border-collapse: collapse !important; ; color: var(--jp-ui-font-color1) !important; }\n",
       "      th.tdhistory570753 { border: 1px solid rgb(198,198,198) !important; border-collapse: collapse !important; ; padding: 2px 5px !important; ; font-size: 13px !important; ; text-align: center !important; white-space: normal !important; color: var(--jp-ui-font-color1) !important; }\n",
       "      th.tdhistory570753:last-child { text-align: left !important; }\n",
       "      tbody.tdhistory570753 tr:nth-child(even) { background: rgba(243, 243, 243, 0.75) !important; }\n",
       "      tbody.tdhistory570753 tr:nth-child(odd) { background: var(--jp-ui-inverse-font-color1) !important; }\n",
       "      td.tdhistory570753 { border: 1px solid rgb(207, 207, 207) !important; border-collapse: collapse !important; ; padding: 2px 5px !important; ; font-size: 13px !important; ; text-align: left !important;          white-space: nowrap !important; overflow:hidden !important; text-overflow:ellipsis !important;; }\n",
       "    </style><thead><tr style= \"background: rgba(243, 243, 243, 0.75)\"><th class=\"tdhistory570753\"></th><th class=\"tdhistory570753\">CUST_ID</th><th class=\"tdhistory570753\">EMAIL</th><th class=\"tdhistory570753\">PHONE</th><th class=\"tdhistory570753\">GR2_KEY</th><th class=\"tdhistory570753\">TAGGING_KEY</th><th class=\"tdhistory570753\">COOKIE</th><th class=\"tdhistory570753\">CAMPAIGN</th><th class=\"tdhistory570753\">jaro</th></tr></thead><tbody class=\"tdhistory570753 resultset-body\"><tr><th class=\"tdhistory570753\" style= \"background: rgba(243, 243, 243, 0.75)\">1</th><td class=\"tdhistory570753\">21647</td><td class=\"tdhistory570753\">harish.banerjee@teratitan.com</td><td class=\"tdhistory570753\">(216) 258-3212</td><td class=\"tdhistory570753\">331CityBlvdWCleveland</td><td class=\"tdhistory570753\">331CityBlvdWCleveland</td><td class=\"tdhistory570753\">3FDBF0376A814344908925F93F3ED59</td><td class=\"tdhistory570753\">Search</td><td class=\"tdhistory570753\">1</td></tr><tr><th class=\"tdhistory570753\" style= \"background: rgba(243, 243, 243, 0.75)\">2</th><td class=\"tdhistory570753\">20387</td><td class=\"tdhistory570753\">tmedina@yahoo.com</td><td class=\"tdhistory570753\">(813) 611-8265</td><td class=\"tdhistory570753\">2729AbbotKinneyBlvdSpencer</td><td class=\"tdhistory570753\">2729AbbotKinneyBlvdSpencer</td><td class=\"tdhistory570753\">402F84D4AD94ECF934252A443F6ED42F</td><td class=\"tdhistory570753\">Search</td><td class=\"tdhistory570753\">1</td></tr><tr><th class=\"tdhistory570753\" style= \"background: rgba(243, 243, 243, 0.75)\">3</th><td class=\"tdhistory570753\">22018</td><td class=\"tdhistory570753\">sahil.sharma@teratitan.com</td><td class=\"tdhistory570753\"></td><td class=\"tdhistory570753\">3739BarleyMillRoadBrooklyn</td><td class=\"tdhistory570753\">3739BarleyMillRoadBrooklyn</td><td class=\"tdhistory570753\">DD884D7B1EE46E7B6E1BF8DA9B10988F</td><td class=\"tdhistory570753\">Search</td><td class=\"tdhistory570753\">1</td></tr><tr><th class=\"tdhistory570753\" style= \"background: rgba(243, 243, 243, 0.75)\">4</th><td class=\"tdhistory570753\">20117</td><td class=\"tdhistory570753\">maya.campbell@teratitan.com</td><td class=\"tdhistory570753\">(304) 903-1275</td><td class=\"tdhistory570753\">2585HayesStParkersburg</td><td class=\"tdhistory570753\">2585HayesStParkersburg</td><td class=\"tdhistory570753\">73C79D2507929CC9284C702263C942</td><td class=\"tdhistory570753\">Email</td><td class=\"tdhistory570753\">1</td></tr><tr><th class=\"tdhistory570753\" style= \"background: rgba(243, 243, 243, 0.75)\">5</th><td class=\"tdhistory570753\">19403</td><td class=\"tdhistory570753\">gsilvan@yahoo.com</td><td class=\"tdhistory570753\"></td><td class=\"tdhistory570753\">4132WillieMaysPlazaLimestone</td><td class=\"tdhistory570753\">4132WillieMaysPlazaLimestone</td><td class=\"tdhistory570753\">F657E711ED332EBF9B60A921143A8341</td><td class=\"tdhistory570753\">Display</td><td class=\"tdhistory570753\">1</td></tr><tr><th class=\"tdhistory570753\" style= \"background: rgba(243, 243, 243, 0.75)\">6</th><td class=\"tdhistory570753\">19939</td><td class=\"tdhistory570753\">jtorres@gmail.com</td><td class=\"tdhistory570753\">(775) 202-5303</td><td class=\"tdhistory570753\">2193UpperSnuffMillRowBretz</td><td class=\"tdhistory570753\">2193UpperSnuffMillRowBretz</td><td class=\"tdhistory570753\">82E3A91DF019BDAE7210E63B782F</td><td class=\"tdhistory570753\">Search</td><td class=\"tdhistory570753\">1</td></tr><tr><th class=\"tdhistory570753\" style= \"background: rgba(243, 243, 243, 0.75)\">7</th><td class=\"tdhistory570753\">21964</td><td class=\"tdhistory570753\">Steven.Sugar@teratitan.com</td><td class=\"tdhistory570753\">(513) 273-2352</td><td class=\"tdhistory570753\">1854OakStreetHamilton</td><td class=\"tdhistory570753\">1854OakStreetHamilton</td><td class=\"tdhistory570753\">15CDB6C74BD9B2929FB0F41359ECEE42</td><td class=\"tdhistory570753\">Social</td><td class=\"tdhistory570753\">1</td></tr><tr><th class=\"tdhistory570753\" style= \"background: rgba(243, 243, 243, 0.75)\">8</th><td class=\"tdhistory570753\">21604</td><td class=\"tdhistory570753\">sofie.larsen@teratitan.com</td><td class=\"tdhistory570753\">(772) 503-2101</td><td class=\"tdhistory570753\">1600BeverlyBoulevardJavaCenter</td><td class=\"tdhistory570753\">1600BeverlyBoulevardJavaCenter</td><td class=\"tdhistory570753\">4CF6A88A0664B34BD89ED714A11DF5F</td><td class=\"tdhistory570753\">Search</td><td class=\"tdhistory570753\">1</td></tr><tr><th class=\"tdhistory570753\" style= \"background: rgba(243, 243, 243, 0.75)\">9</th><td class=\"tdhistory570753\">21903</td><td class=\"tdhistory570753\">jrego@yahoo.com</td><td class=\"tdhistory570753\">(530) 696-4308</td><td class=\"tdhistory570753\">3114ParkStreetNashport</td><td class=\"tdhistory570753\">3114ParkStreetNashport</td><td class=\"tdhistory570753\">2846E54D5FFE2905099AC6E23014DF7</td><td class=\"tdhistory570753\">Email</td><td class=\"tdhistory570753\">1</td></tr><tr><th class=\"tdhistory570753\" style= \"background: rgba(243, 243, 243, 0.75)\">10</th><td class=\"tdhistory570753\">21832</td><td class=\"tdhistory570753\">jgao@gmail.com</td><td class=\"tdhistory570753\">(504) 787-0477</td><td class=\"tdhistory570753\">1964ViewStreetLakeAriel</td><td class=\"tdhistory570753\">1964ViewStreetLakeAriel</td><td class=\"tdhistory570753\">F4056690A7878DA98044A8B55F3A9DE</td><td class=\"tdhistory570753\">Search</td><td class=\"tdhistory570753\">1</td></tr><tr><th class=\"tdhistory570753\" style= \"background: rgba(243, 243, 243, 0.75)\">11</th><td class=\"tdhistory570753\">19376</td><td class=\"tdhistory570753\">kruis@yahoo.com</td><td class=\"tdhistory570753\"></td><td class=\"tdhistory570753\">4660ViewStreetStatenIsland</td><td class=\"tdhistory570753\">4660ViewStreetStatenIsland</td><td class=\"tdhistory570753\">95DCCA7FF8B3AC0C2CA92AA3F6D0FAA6</td><td class=\"tdhistory570753\">Social</td><td class=\"tdhistory570753\">1</td></tr><tr><th class=\"tdhistory570753\" style= \"background: rgba(243, 243, 243, 0.75)\">12</th><td class=\"tdhistory570753\">19857</td><td class=\"tdhistory570753\"></td><td class=\"tdhistory570753\"></td><td class=\"tdhistory570753\">2699MendenhallMillRoadNorthEvans</td><td class=\"tdhistory570753\">2699MendenhallMillRoadNorthEvans</td><td class=\"tdhistory570753\">F962365BA3DCF5CA20D27A28FA725618</td><td class=\"tdhistory570753\">Social</td><td class=\"tdhistory570753\">1</td></tr><tr><th class=\"tdhistory570753\" style= \"background: rgba(243, 243, 243, 0.75)\">13</th><td class=\"tdhistory570753\">22120</td><td class=\"tdhistory570753\">matias.lopez@teratitan.com</td><td class=\"tdhistory570753\"></td><td class=\"tdhistory570753\">4086UpperSnuffMillRowTelford</td><td class=\"tdhistory570753\">4086UpperSnuffMillRowTelford</td><td class=\"tdhistory570753\">7F3A73C52275AD957B54E3C0CD3244</td><td class=\"tdhistory570753\">Social</td><td class=\"tdhistory570753\">1</td></tr><tr><th class=\"tdhistory570753\" style= \"background: rgba(243, 243, 243, 0.75)\">14</th><td class=\"tdhistory570753\">19716</td><td class=\"tdhistory570753\">fu.lao@teratitan.com</td><td class=\"tdhistory570753\"></td><td class=\"tdhistory570753\">3967EighthStreetRome</td><td class=\"tdhistory570753\">3967EighthStreetRome</td><td class=\"tdhistory570753\">60B6602E2103AFC9D6D5255B15AAF</td><td class=\"tdhistory570753\">Email</td><td class=\"tdhistory570753\">1</td></tr><tr><th class=\"tdhistory570753\" style= \"background: rgba(243, 243, 243, 0.75)\">15</th><td class=\"tdhistory570753\">19499</td><td class=\"tdhistory570753\">msousa@gmail.com</td><td class=\"tdhistory570753\">(304) 231-8631</td><td class=\"tdhistory570753\">158WestPicoBoulevardLinden</td><td class=\"tdhistory570753\">158WestPicoBoulevardLinden</td><td class=\"tdhistory570753\">752F442D3CD539A61B68BA6E53519A13</td><td class=\"tdhistory570753\">Search</td><td class=\"tdhistory570753\">1</td></tr><tr><th class=\"tdhistory570753\" style= \"background: rgba(243, 243, 243, 0.75)\">16</th><td class=\"tdhistory570753\">21707</td><td class=\"tdhistory570753\">jgomez@yahoo.com</td><td class=\"tdhistory570753\">(916) 768-6879</td><td class=\"tdhistory570753\">2938AlexanderValleyRdBloomingburg</td><td class=\"tdhistory570753\">2938AlexanderValleyRdBloomingburg</td><td class=\"tdhistory570753\">5A069EEFB8D678AE938CEFC8BB62E65</td><td class=\"tdhistory570753\">Search</td><td class=\"tdhistory570753\">1</td></tr><tr><th class=\"tdhistory570753\" style= \"background: rgba(243, 243, 243, 0.75)\">17</th><td class=\"tdhistory570753\">20575</td><td class=\"tdhistory570753\">ldesilva@gmail.com</td><td class=\"tdhistory570753\">(570) 387-2031</td><td class=\"tdhistory570753\">11RedMillRoadNewCastle</td><td class=\"tdhistory570753\">11RedMillRoadNewCastle</td><td class=\"tdhistory570753\">AB7DBCFFD0AD5577560D8B545A842B41</td><td class=\"tdhistory570753\">Display</td><td class=\"tdhistory570753\">1</td></tr><tr><th class=\"tdhistory570753\" style= \"background: rgba(243, 243, 243, 0.75)\">18</th><td class=\"tdhistory570753\">19688</td><td class=\"tdhistory570753\">lteixeira@gmail.com</td><td class=\"tdhistory570753\">(253) 470-1804</td><td class=\"tdhistory570753\">1522NorthUSHighway1Kerr</td><td class=\"tdhistory570753\">1522NorthUSHighway1Kerr</td><td class=\"tdhistory570753\">F7C0C15D6A14F6206CAABF7B6E45477</td><td class=\"tdhistory570753\">Search</td><td class=\"tdhistory570753\">1</td></tr><tr><th class=\"tdhistory570753\" style= \"background: rgba(243, 243, 243, 0.75)\">19</th><td class=\"tdhistory570753\">19344</td><td class=\"tdhistory570753\">charlotte.king@teratitan.com</td><td class=\"tdhistory570753\">(760) 229-0754</td><td class=\"tdhistory570753\">3056MissionStMarchand</td><td class=\"tdhistory570753\">3056MissionStMarchand</td><td class=\"tdhistory570753\">66F65FCE49D783B606770528DC6F6F</td><td class=\"tdhistory570753\">Display</td><td class=\"tdhistory570753\">1</td></tr><tr><th class=\"tdhistory570753\" style= \"background: rgba(243, 243, 243, 0.75)\">20</th><td class=\"tdhistory570753\">21991</td><td class=\"tdhistory570753\">vregon@yahoo.com</td><td class=\"tdhistory570753\"></td><td class=\"tdhistory570753\">3695CityBlvdWFallentimber</td><td class=\"tdhistory570753\">3695CityBlvdWFallentimber</td><td class=\"tdhistory570753\">B08B0A84F973C3F790E34D01FEC5558</td><td class=\"tdhistory570753\">Display</td><td class=\"tdhistory570753\">1</td></tr><tr><th class=\"tdhistory570753\" style= \"background: rgba(243, 243, 243, 0.75)\">21</th><td class=\"tdhistory570753\">19472</td><td class=\"tdhistory570753\">aguta@yahoo.com</td><td class=\"tdhistory570753\"></td><td class=\"tdhistory570753\">4634ElCaminoRealElysburg</td><td class=\"tdhistory570753\">4634ElCaminoRealElysburg</td><td class=\"tdhistory570753\">E68F98BD8E903C65CF93E750245666B6</td><td class=\"tdhistory570753\">Social</td><td class=\"tdhistory570753\">1</td></tr><tr><th class=\"tdhistory570753\" style= \"background: rgba(243, 243, 243, 0.75)\">22</th><td class=\"tdhistory570753\">19553</td><td class=\"tdhistory570753\">bo.li@teratitan.com</td><td class=\"tdhistory570753\">(617) 284-2673</td><td class=\"tdhistory570753\">3248NTorreyPinesRoadOakRidge</td><td class=\"tdhistory570753\">3248NTorreyPinesRoadOakRidge</td><td class=\"tdhistory570753\">368C1B6E30E1930927E0C0BF603DDB70</td><td class=\"tdhistory570753\">Email</td><td class=\"tdhistory570753\">1</td></tr><tr><th class=\"tdhistory570753\" style= \"background: rgba(243, 243, 243, 0.75)\">23</th><td class=\"tdhistory570753\">21862</td><td class=\"tdhistory570753\">fu.liu@teratitan.com</td><td class=\"tdhistory570753\"></td><td class=\"tdhistory570753\">4267SouthArroyoPkwyHogansburg</td><td class=\"tdhistory570753\">4267SouthArroyoPkwyHogansburg</td><td class=\"tdhistory570753\">B013B6A6B59CF4A772E1FFDAC6BE29F</td><td class=\"tdhistory570753\">Display</td><td class=\"tdhistory570753\">1</td></tr><tr><th class=\"tdhistory570753\" style= \"background: rgba(243, 243, 243, 0.75)\">24</th><td class=\"tdhistory570753\">22142</td><td class=\"tdhistory570753\">beatriz.gonsalves@teratitan.com</td><td class=\"tdhistory570753\">(510) 563-2532</td><td class=\"tdhistory570753\">1212FifthStreetFairfield</td><td class=\"tdhistory570753\">1212FifthStreetFairfield</td><td class=\"tdhistory570753\">44C13D702EBA675AE341AC9BF9C1B89</td><td class=\"tdhistory570753\">Email</td><td class=\"tdhistory570753\">1</td></tr><tr><th class=\"tdhistory570753\" style= \"background: rgba(243, 243, 243, 0.75)\">25</th><td class=\"tdhistory570753\">19579</td><td class=\"tdhistory570753\">pedro.gonsalves@teratitan.com</td><td class=\"tdhistory570753\">(434) 432-6306</td><td class=\"tdhistory570753\">1233ElCaminoRealGreenville</td><td class=\"tdhistory570753\">1233ElCaminoRealGreenville</td><td class=\"tdhistory570753\">9AB4BD59BCF976409A5887ED77EB333</td><td class=\"tdhistory570753\">Social</td><td class=\"tdhistory570753\">1</td></tr><tr><th class=\"tdhistory570753\" style= \"background: rgba(243, 243, 243, 0.75)\">26</th><td class=\"tdhistory570753\">22143</td><td class=\"tdhistory570753\">lucas.moreau@teratitan.com</td><td class=\"tdhistory570753\">(941) 929-3922</td><td class=\"tdhistory570753\">1455SixthStreetWinchester</td><td class=\"tdhistory570753\">1455SixthStreetWinchester</td><td class=\"tdhistory570753\">B0273ABF9237CD15EA547F97104D46FA</td><td class=\"tdhistory570753\">Email</td><td class=\"tdhistory570753\">1</td></tr><tr><th class=\"tdhistory570753\" style= \"background: rgba(243, 243, 243, 0.75)\">27</th><td class=\"tdhistory570753\">19463</td><td class=\"tdhistory570753\">apatel@gmail.com</td><td class=\"tdhistory570753\">(304) 864-1382</td><td class=\"tdhistory570753\">1676MainStWaiteville</td><td class=\"tdhistory570753\">1676MainStWaiteville</td><td class=\"tdhistory570753\">A2D7671FDB136EDACC21D4CE4E25F6C1</td><td class=\"tdhistory570753\">Email</td><td class=\"tdhistory570753\">1</td></tr><tr><th class=\"tdhistory570753\" style= \"background: rgba(243, 243, 243, 0.75)\">28</th><td class=\"tdhistory570753\">19397</td><td class=\"tdhistory570753\">bmartins@gmail.com</td><td class=\"tdhistory570753\">(216) 364-9325</td><td class=\"tdhistory570753\">2178HydeStreetAshley</td><td class=\"tdhistory570753\">2178HydeStreetAshley</td><td class=\"tdhistory570753\">71A74C1B65E8370D688067478FB958</td><td class=\"tdhistory570753\">Search</td><td class=\"tdhistory570753\">1</td></tr><tr><th class=\"tdhistory570753\" style= \"background: rgba(243, 243, 243, 0.75)\">29</th><td class=\"tdhistory570753\">20521</td><td class=\"tdhistory570753\">bgonsalves@gmail.com</td><td class=\"tdhistory570753\">(509) 567-1484</td><td class=\"tdhistory570753\">1896MasonStreetHighlandFalls</td><td class=\"tdhistory570753\">1896MasonStreetHighlandFalls</td><td class=\"tdhistory570753\">9363AB7AE6B9E16D493E717B4FC9C70</td><td class=\"tdhistory570753\">Email</td><td class=\"tdhistory570753\">1</td></tr><tr><th class=\"tdhistory570753\" style= \"background: rgba(243, 243, 243, 0.75)\">30</th><td class=\"tdhistory570753\">19310</td><td class=\"tdhistory570753\">isabella.mayer@teratitan.com</td><td class=\"tdhistory570753\">(360) 692-8811</td><td class=\"tdhistory570753\">2670MusicConcourseDrFranklinSprings</td><td class=\"tdhistory570753\">2670MusicConcoursDrFranklinSprings</td><td class=\"tdhistory570753\">ABA85B63EE0DAD5C1A7DF14321F61AC2</td><td class=\"tdhistory570753\">Social</td><td class=\"tdhistory570753\">0.9904761904761905</td></tr><tr><th class=\"tdhistory570753\" style= \"background: rgba(243, 243, 243, 0.75)\">31</th><td class=\"tdhistory570753\">19649</td><td class=\"tdhistory570753\">vteixeira@gmail.com</td><td class=\"tdhistory570753\"></td><td class=\"tdhistory570753\">2384ManhattanAvenueBridgeport</td><td class=\"tdhistory570753\">2384ManhatanAvenueBridgeport</td><td class=\"tdhistory570753\">A1AA755BB886ABC1665AAB8F708BA164</td><td class=\"tdhistory570753\">Display</td><td class=\"tdhistory570753\">0.9885057471264368</td></tr><tr><th class=\"tdhistory570753\" style= \"background: rgba(243, 243, 243, 0.75)\">32</th><td class=\"tdhistory570753\">19457</td><td class=\"tdhistory570753\">rafael.benitez@teratitan.com</td><td class=\"tdhistory570753\">(785) 435-7536</td><td class=\"tdhistory570753\">2808FillmoreStreetBrooklyn</td><td class=\"tdhistory570753\">2808FilmoreStreetBrooklyn</td><td class=\"tdhistory570753\">2A2361F8D9C155E6789CD58A6C7A0F0</td><td class=\"tdhistory570753\">Email</td><td class=\"tdhistory570753\">0.9871794871794872</td></tr><tr><th class=\"tdhistory570753\" style= \"background: rgba(243, 243, 243, 0.75)\">33</th><td class=\"tdhistory570753\">19377</td><td class=\"tdhistory570753\">christopher.brown@teratitan.com</td><td class=\"tdhistory570753\"></td><td class=\"tdhistory570753\">4839FillmoreStreetArtie</td><td class=\"tdhistory570753\">4839FilmoreStreetArtie</td><td class=\"tdhistory570753\">F7DC6533675B20757A2A5F119805B7C</td><td class=\"tdhistory570753\">Social</td><td class=\"tdhistory570753\">0.9855072463768115</td></tr><tr><th class=\"tdhistory570753\" style= \"background: rgba(243, 243, 243, 0.75)\">34</th><td class=\"tdhistory570753\">19994</td><td class=\"tdhistory570753\">ethan.taylor@teratitan.com</td><td class=\"tdhistory570753\">(302) 953-9585</td><td class=\"tdhistory570753\">3601WillieMaysPlazaCanton</td><td class=\"tdhistory570753\">3601WillieMaysPlzCanton</td><td class=\"tdhistory570753\">117727C337813D50AAF628EA35A7470F</td><td class=\"tdhistory570753\">Social</td><td class=\"tdhistory570753\">0.9588405797101448</td></tr><tr><th class=\"tdhistory570753\" style= \"background: rgba(243, 243, 243, 0.75)\">35</th><td class=\"tdhistory570753\">20557</td><td class=\"tdhistory570753\">lfari@yahoo.com</td><td class=\"tdhistory570753\"></td><td class=\"tdhistory570753\">4161PineStreetAlbany</td><td class=\"tdhistory570753\">4161PinStreetAlbany</td><td class=\"tdhistory570753\">57915704D0E07D5E71BB37FCC74028B1</td><td class=\"tdhistory570753\">Display</td><td class=\"tdhistory570753\">0.9482456140350877</td></tr><tr><th class=\"tdhistory570753\" style= \"background: rgba(243, 243, 243, 0.75)\">36</th><td class=\"tdhistory570753\">20158</td><td class=\"tdhistory570753\">nishi.mahawar@teratitan.com</td><td class=\"tdhistory570753\">(619) 912-4407</td><td class=\"tdhistory570753\">2440AbbotKinneyKane</td><td class=\"tdhistory570753\">2440AbbotKineyKane</td><td class=\"tdhistory570753\">833F46D6A8D13CF742D69C9B6F27D2E6</td><td class=\"tdhistory570753\">Display</td><td class=\"tdhistory570753\">0.94541910331384</td></tr><tr><th class=\"tdhistory570753\" style= \"background: rgba(243, 243, 243, 0.75)\">37</th><td class=\"tdhistory570753\">19562</td><td class=\"tdhistory570753\">anna.winkler@teratitan.com</td><td class=\"tdhistory570753\"></td><td class=\"tdhistory570753\">2823JonesSausageRdRochester</td><td class=\"tdhistory570753\">2823JonesSausageRochester</td><td class=\"tdhistory570753\">C6F42C9899C7CEAF78D19ACD1B7B8D9B</td><td class=\"tdhistory570753\">Social</td><td class=\"tdhistory570753\">0.9219753086419753</td></tr><tr><th class=\"tdhistory570753\" style= \"background: rgba(243, 243, 243, 0.75)\">38</th><td class=\"tdhistory570753\">19540</td><td class=\"tdhistory570753\">jmartin@outlook.com</td><td class=\"tdhistory570753\"></td><td class=\"tdhistory570753\">491CedarStreetHamilton</td><td class=\"tdhistory570753\">491CedrStreetHamilton</td><td class=\"tdhistory570753\">F1A8A5675E5036CC2CC5ECDC26D1A313</td><td class=\"tdhistory570753\">Email</td><td class=\"tdhistory570753\">0.9213564213564215</td></tr><tr><th class=\"tdhistory570753\" style= \"background: rgba(243, 243, 243, 0.75)\">39</th><td class=\"tdhistory570753\">19948</td><td class=\"tdhistory570753\">asouza@yahoo.com</td><td class=\"tdhistory570753\"></td><td class=\"tdhistory570753\">4245SnuffMillRoadSomerdale</td><td class=\"tdhistory570753\">4245SnuffMillRdSomerdale</td><td class=\"tdhistory570753\">3427606FBCDAF543BD334F93D2C17AF6</td><td class=\"tdhistory570753\">Search</td><td class=\"tdhistory570753\">0.9188034188034188</td></tr><tr><th class=\"tdhistory570753\" style= \"background: rgba(243, 243, 243, 0.75)\">40</th><td class=\"tdhistory570753\">21705</td><td class=\"tdhistory570753\">mrocha@gmail.com</td><td class=\"tdhistory570753\">(917) 904-2312</td><td class=\"tdhistory570753\">2588CurtisMillRoadStockton</td><td class=\"tdhistory570753\">2588CurtisMillRdStockton</td><td class=\"tdhistory570753\">AEFF363C2DE8F1B4287233D7E6FB423</td><td class=\"tdhistory570753\">Social</td><td class=\"tdhistory570753\">0.9188034188034188</td></tr><tr><th class=\"tdhistory570753\" style= \"background: rgba(243, 243, 243, 0.75)\">41</th><td class=\"tdhistory570753\">21902</td><td class=\"tdhistory570753\">jgomes@yahoo.com</td><td class=\"tdhistory570753\"></td><td class=\"tdhistory570753\">4321FifthStreetLatty</td><td class=\"tdhistory570753\">4321FilfthStreetLatty</td><td class=\"tdhistory570753\">517E7D1C4CBF13FAC7D1BE18214A312</td><td class=\"tdhistory570753\">Display</td><td class=\"tdhistory570753\">0.9174603174603174</td></tr><tr><th class=\"tdhistory570753\" style= \"background: rgba(243, 243, 243, 0.75)\">42</th><td class=\"tdhistory570753\">19674</td><td class=\"tdhistory570753\">lregoo@yahoo.com</td><td class=\"tdhistory570753\"></td><td class=\"tdhistory570753\">4205NinthStreetWestFarmington</td><td class=\"tdhistory570753\">4205NinthStreeWestFarmington</td><td class=\"tdhistory570753\">593EBF1F7F37D94F4716FBE7A6ACCC3</td><td class=\"tdhistory570753\">Email</td><td class=\"tdhistory570753\">0.9170771756978654</td></tr><tr><th class=\"tdhistory570753\" style= \"background: rgba(243, 243, 243, 0.75)\">43</th><td class=\"tdhistory570753\">22099</td><td class=\"tdhistory570753\">asmith@gmail.com</td><td class=\"tdhistory570753\">(253) 403-8318</td><td class=\"tdhistory570753\">2253MelroseAvenueBrooklyn</td><td class=\"tdhistory570753\">2253MelroseAveBrooklyn</td><td class=\"tdhistory570753\">2AE67BA5E179764FC0297BB7BD329A65</td><td class=\"tdhistory570753\">Display</td><td class=\"tdhistory570753\">0.9145454545454546</td></tr><tr><th class=\"tdhistory570753\" style= \"background: rgba(243, 243, 243, 0.75)\">44</th><td class=\"tdhistory570753\">21635</td><td class=\"tdhistory570753\">alexander.muller@teratitan.com</td><td class=\"tdhistory570753\"></td><td class=\"tdhistory570753\">3649MainStreetYork</td><td class=\"tdhistory570753\">3649MainStYork</td><td class=\"tdhistory570753\">9856C1982CB8FD2ABF9AC11CB7A9FD</td><td class=\"tdhistory570753\">Display</td><td class=\"tdhistory570753\">0.9021164021164022</td></tr></tbody></table></div>"
      ]
     },
     "execution_count": 32,
     "metadata": {
      "application/vnd.teradata.resultset": "{\"resultSetID\":\"/home/jovyan/JupyterLabRoot/Teradata/Resultsets/2024.09.05_08.53.40.315_UTC\",\"historyID\":108,\"chunkID\":\"00001\",\"sessionid\":\"\",\"portnum\":\"\",\"dockermode\":\"docker\",\"totalRowCount\":44,\"chunkCount\":0,\"rowLimit\":0,\"columnMetadata\":[{\"columnName\":\"CUST_ID\",\"columnTypeName\":\"SMALLINT\"},{\"columnNumber\":1,\"columnName\":\"EMAIL\",\"columnTypeName\":\"VARCHAR\",\"length\":31,\"scale\":31},{\"columnNumber\":2,\"columnName\":\"PHONE\",\"columnTypeName\":\"VARCHAR\",\"length\":14,\"scale\":14},{\"columnNumber\":3,\"columnName\":\"GR2_KEY\",\"columnTypeName\":\"VARCHAR\",\"length\":50,\"scale\":50},{\"columnNumber\":4,\"columnName\":\"TAGGING_KEY\",\"columnTypeName\":\"VARCHAR\",\"length\":50,\"scale\":50},{\"columnNumber\":5,\"columnName\":\"COOKIE\",\"columnTypeName\":\"VARCHAR\",\"length\":32,\"scale\":32},{\"columnNumber\":6,\"columnName\":\"CAMPAIGN\",\"columnTypeName\":\"VARCHAR\",\"length\":7,\"scale\":7},{\"columnNumber\":7,\"columnName\":\"jaro\",\"columnTypeName\":\"FLOAT\"}]}"
     },
     "output_type": "execute_result"
    }
   ],
   "source": [
    "SELECT * FROM C360_MatchABCD_V ORDER BY jaro DESC"
   ]
  },
  {
   "cell_type": "markdown",
   "id": "79e6a947",
   "metadata": {},
   "source": [
    "<p style = 'font-size:16px;font-family:Arial;color:#00233C'>We find that out of the 45 in the cookie table, 44 were matched.</p>"
   ]
  },
  {
   "cell_type": "code",
   "execution_count": 33,
   "id": "1aa7465b",
   "metadata": {},
   "outputs": [
    {
     "data": {
      "application/vnd.teradata.resultset": "\"Count(*)\"\n\"45\"",
      "text/html": [
       "<div class = \"td-resultset-table-div\" style = \"max-height: 100%; overflow-y: auto\">\n",
       "      <table class=\"tdhistory355830\"><style>\n",
       "      table.tdhistory355830 { display: block !important; min-height: 105px !important; overflow: auto !important; height: 105px !important; width: 100% !important; border: 1px solid rgb(207, 207, 207) !important; border-collapse: collapse !important; ; color: var(--jp-ui-font-color1) !important; }\n",
       "      th.tdhistory355830 { border: 1px solid rgb(198,198,198) !important; border-collapse: collapse !important; ; padding: 2px 5px !important; ; font-size: 13px !important; ; text-align: center !important; white-space: normal !important; color: var(--jp-ui-font-color1) !important; }\n",
       "      th.tdhistory355830:last-child { text-align: left !important; }\n",
       "      tbody.tdhistory355830 tr:nth-child(even) { background: rgba(243, 243, 243, 0.75) !important; }\n",
       "      tbody.tdhistory355830 tr:nth-child(odd) { background: var(--jp-ui-inverse-font-color1) !important; }\n",
       "      td.tdhistory355830 { border: 1px solid rgb(207, 207, 207) !important; border-collapse: collapse !important; ; padding: 2px 5px !important; ; font-size: 13px !important; ; text-align: left !important;          white-space: nowrap !important; overflow:hidden !important; text-overflow:ellipsis !important;; }\n",
       "    </style><thead><tr style= \"background: rgba(243, 243, 243, 0.75)\"><th class=\"tdhistory355830\"></th><th class=\"tdhistory355830\">Count(*)</th></tr></thead><tbody class=\"tdhistory355830 resultset-body\"><tr><th class=\"tdhistory355830\" style= \"background: rgba(243, 243, 243, 0.75)\">1</th><td class=\"tdhistory355830\">45</td></tr></tbody></table></div>"
      ]
     },
     "execution_count": 33,
     "metadata": {
      "application/vnd.teradata.resultset": "{\"resultSetID\":\"/home/jovyan/JupyterLabRoot/Teradata/Resultsets/2024.09.05_08.53.40.430_UTC\",\"historyID\":109,\"chunkID\":\"00001\",\"sessionid\":\"\",\"portnum\":\"\",\"dockermode\":\"docker\",\"totalRowCount\":1,\"chunkCount\":0,\"rowLimit\":0,\"columnMetadata\":[{\"columnName\":\"Count(*)\",\"columnTypeName\":\"INTEGER\"}]}"
     },
     "output_type": "execute_result"
    }
   ],
   "source": [
    "SELECT COUNT(*) FROM DEMO_Customer360.Cookie"
   ]
  },
  {
   "cell_type": "code",
   "execution_count": 34,
   "id": "c674ee59",
   "metadata": {},
   "outputs": [
    {
     "data": {
      "application/vnd.teradata.resultset": "\"Count(*)\"\n\"44\"",
      "text/html": [
       "<div class = \"td-resultset-table-div\" style = \"max-height: 100%; overflow-y: auto\">\n",
       "      <table class=\"tdhistory956099\"><style>\n",
       "      table.tdhistory956099 { display: block !important; min-height: 105px !important; overflow: auto !important; height: 105px !important; width: 100% !important; border: 1px solid rgb(207, 207, 207) !important; border-collapse: collapse !important; ; color: var(--jp-ui-font-color1) !important; }\n",
       "      th.tdhistory956099 { border: 1px solid rgb(198,198,198) !important; border-collapse: collapse !important; ; padding: 2px 5px !important; ; font-size: 13px !important; ; text-align: center !important; white-space: normal !important; color: var(--jp-ui-font-color1) !important; }\n",
       "      th.tdhistory956099:last-child { text-align: left !important; }\n",
       "      tbody.tdhistory956099 tr:nth-child(even) { background: rgba(243, 243, 243, 0.75) !important; }\n",
       "      tbody.tdhistory956099 tr:nth-child(odd) { background: var(--jp-ui-inverse-font-color1) !important; }\n",
       "      td.tdhistory956099 { border: 1px solid rgb(207, 207, 207) !important; border-collapse: collapse !important; ; padding: 2px 5px !important; ; font-size: 13px !important; ; text-align: left !important;          white-space: nowrap !important; overflow:hidden !important; text-overflow:ellipsis !important;; }\n",
       "    </style><thead><tr style= \"background: rgba(243, 243, 243, 0.75)\"><th class=\"tdhistory956099\"></th><th class=\"tdhistory956099\">Count(*)</th></tr></thead><tbody class=\"tdhistory956099 resultset-body\"><tr><th class=\"tdhistory956099\" style= \"background: rgba(243, 243, 243, 0.75)\">1</th><td class=\"tdhistory956099\">44</td></tr></tbody></table></div>"
      ]
     },
     "execution_count": 34,
     "metadata": {
      "application/vnd.teradata.resultset": "{\"resultSetID\":\"/home/jovyan/JupyterLabRoot/Teradata/Resultsets/2024.09.05_08.53.42.025_UTC\",\"historyID\":110,\"chunkID\":\"00001\",\"sessionid\":\"\",\"portnum\":\"\",\"dockermode\":\"docker\",\"totalRowCount\":1,\"chunkCount\":0,\"rowLimit\":0,\"columnMetadata\":[{\"columnName\":\"Count(*)\",\"columnTypeName\":\"INTEGER\"}]}"
     },
     "output_type": "execute_result"
    }
   ],
   "source": [
    "SELECT COUNT(*) FROM C360_MatchABCD_V"
   ]
  },
  {
   "cell_type": "markdown",
   "id": "5cc1624e-cf4d-4162-9477-797c37a73571",
   "metadata": {},
   "source": [
    "<p style = 'font-size:16px;font-family:Arial;color:#00233C'>We see that Jessica's physical address was matched between the two lists.</p>"
   ]
  },
  {
   "cell_type": "code",
   "execution_count": 35,
   "id": "352b3646-d2a7-4d10-8306-2f47e3ebc1fa",
   "metadata": {},
   "outputs": [
    {
     "data": {
      "application/vnd.teradata.resultset": "\"CUST_ID\",\"EMAIL\",\"PHONE\",\"GR2_KEY\",\"TAGGING_KEY\",\"COOKIE\",\"CAMPAIGN\",\"jaro\"\n\"21903\",\"jrego@yahoo.com\",\"(530) 696-4308\",\"3114ParkStreetNashport\",\"3114ParkStreetNashport\",\"2846E54D5FFE2905099AC6E23014DF7\",\"Email\",\"1\"",
      "text/html": [
       "<div class = \"td-resultset-table-div\" style = \"max-height: 100%; overflow-y: auto\">\n",
       "      <table class=\"tdhistory472548\"><style>\n",
       "      table.tdhistory472548 { display: block !important; min-height: 105px !important; overflow: auto !important; height: 105px !important; width: 100% !important; border: 1px solid rgb(207, 207, 207) !important; border-collapse: collapse !important; ; color: var(--jp-ui-font-color1) !important; }\n",
       "      th.tdhistory472548 { border: 1px solid rgb(198,198,198) !important; border-collapse: collapse !important; ; padding: 2px 5px !important; ; font-size: 13px !important; ; text-align: center !important; white-space: normal !important; color: var(--jp-ui-font-color1) !important; }\n",
       "      th.tdhistory472548:last-child { text-align: left !important; }\n",
       "      tbody.tdhistory472548 tr:nth-child(even) { background: rgba(243, 243, 243, 0.75) !important; }\n",
       "      tbody.tdhistory472548 tr:nth-child(odd) { background: var(--jp-ui-inverse-font-color1) !important; }\n",
       "      td.tdhistory472548 { border: 1px solid rgb(207, 207, 207) !important; border-collapse: collapse !important; ; padding: 2px 5px !important; ; font-size: 13px !important; ; text-align: left !important;          white-space: nowrap !important; overflow:hidden !important; text-overflow:ellipsis !important;; }\n",
       "    </style><thead><tr style= \"background: rgba(243, 243, 243, 0.75)\"><th class=\"tdhistory472548\"></th><th class=\"tdhistory472548\">CUST_ID</th><th class=\"tdhistory472548\">EMAIL</th><th class=\"tdhistory472548\">PHONE</th><th class=\"tdhistory472548\">GR2_KEY</th><th class=\"tdhistory472548\">TAGGING_KEY</th><th class=\"tdhistory472548\">COOKIE</th><th class=\"tdhistory472548\">CAMPAIGN</th><th class=\"tdhistory472548\">jaro</th></tr></thead><tbody class=\"tdhistory472548 resultset-body\"><tr><th class=\"tdhistory472548\" style= \"background: rgba(243, 243, 243, 0.75)\">1</th><td class=\"tdhistory472548\">21903</td><td class=\"tdhistory472548\">jrego@yahoo.com</td><td class=\"tdhistory472548\">(530) 696-4308</td><td class=\"tdhistory472548\">3114ParkStreetNashport</td><td class=\"tdhistory472548\">3114ParkStreetNashport</td><td class=\"tdhistory472548\">2846E54D5FFE2905099AC6E23014DF7</td><td class=\"tdhistory472548\">Email</td><td class=\"tdhistory472548\">1</td></tr></tbody></table></div>"
      ]
     },
     "execution_count": 35,
     "metadata": {
      "application/vnd.teradata.resultset": "{\"resultSetID\":\"/home/jovyan/JupyterLabRoot/Teradata/Resultsets/2024.09.05_08.53.43.558_UTC\",\"historyID\":111,\"chunkID\":\"00001\",\"sessionid\":\"\",\"portnum\":\"\",\"dockermode\":\"docker\",\"totalRowCount\":1,\"chunkCount\":0,\"rowLimit\":0,\"columnMetadata\":[{\"columnName\":\"CUST_ID\",\"columnTypeName\":\"SMALLINT\"},{\"columnNumber\":1,\"columnName\":\"EMAIL\",\"columnTypeName\":\"VARCHAR\",\"length\":31,\"scale\":31},{\"columnNumber\":2,\"columnName\":\"PHONE\",\"columnTypeName\":\"VARCHAR\",\"length\":14,\"scale\":14},{\"columnNumber\":3,\"columnName\":\"GR2_KEY\",\"columnTypeName\":\"VARCHAR\",\"length\":50,\"scale\":50},{\"columnNumber\":4,\"columnName\":\"TAGGING_KEY\",\"columnTypeName\":\"VARCHAR\",\"length\":50,\"scale\":50},{\"columnNumber\":5,\"columnName\":\"COOKIE\",\"columnTypeName\":\"VARCHAR\",\"length\":32,\"scale\":32},{\"columnNumber\":6,\"columnName\":\"CAMPAIGN\",\"columnTypeName\":\"VARCHAR\",\"length\":7,\"scale\":7},{\"columnNumber\":7,\"columnName\":\"jaro\",\"columnTypeName\":\"FLOAT\"}]}"
     },
     "output_type": "execute_result"
    }
   ],
   "source": [
    "SELECT * FROM C360_MatchABCD_V WHERE GR2_KEY LIKE '%3114Park%'"
   ]
  },
  {
   "cell_type": "markdown",
   "id": "40e9daa6",
   "metadata": {},
   "source": [
    "<hr style=\"height:1px;border:none;background-color:#00233C;\">\n",
    "<p style = 'font-size:18px;font-family:Arial;color:#00233C'><b>6.2 - Join tables to create intermediate golden record</b></p>\n",
    "\n",
    "<p style = 'font-size:16px;font-family:Arial;color:#00233C'>Using the CUST_ID, we create another interim golden record from merged intermediate golden record and cookie tables.</p>"
   ]
  },
  {
   "cell_type": "code",
   "execution_count": 36,
   "id": "abadbdae",
   "metadata": {},
   "outputs": [
    {
     "data": {
      "text/plain": [
       "Success: 0 rows affected"
      ]
     },
     "execution_count": 36,
     "metadata": {
      "application/vnd.teradata.resultset": ""
     },
     "output_type": "execute_result"
    }
   ],
   "source": [
    "REPLACE VIEW C360_GR3_V AS (\n",
    "    SELECT gr2.CUST_ID, gr2.LOYALTY_NUM, gr2.GENDER, \n",
    "           gr2.FIRSTNAME, gr2.LASTNAME, \n",
    "           gr2.ADDRESS, gr2.STATE, gr2.CITY, gr2.ZIP, gr2.EMAIL,gr2.PHONE,\n",
    "           mabcd.COOKIE,\n",
    "           mabcd.CAMPAIGN \n",
    "    FROM C360_GR2_V gr2 LEFT JOIN C360_MatchABCD_V mabcd\n",
    "    ON gr2.CUST_ID = mabcd.CUST_ID\n",
    ")"
   ]
  },
  {
   "cell_type": "code",
   "execution_count": 37,
   "id": "48c33389",
   "metadata": {},
   "outputs": [
    {
     "data": {
      "application/vnd.teradata.resultset": "\"CUST_ID\",\"LOYALTY_NUM\",\"GENDER\",\"FIRSTNAME\",\"LASTNAME\",\"ADDRESS\",\"STATE\",\"CITY\",\"ZIP\",\"EMAIL\",\"PHONE\",\"COOKIE\",\"CAMPAIGN\"\n\"21635\",\"2242698\",\"M\",\"Alexander\",\"Muller\",\"3649 Main Street\",\"PA\",\"York\",\"17407\",\"alexander.muller@teratitan.com\",\"\",\"9856C1982CB8FD2ABF9AC11CB7A9FD\",\"Display\"\n\"19372\",\"1118440\",\"F\",\"Fei\",\"Zhou\",\"5957 Hill Street\",\"PA\",\"Harrisburg\",\"17128\",\"fzhou@outlook.com\",\"\",\"\",\"\"\n\"20575\",\"1233911\",\"F\",\"Laura\",\"DeSilva\",\"11 Red Mill Road\",\"PA\",\"New Castle\",\"16105\",\"ldesilva@gmail.com\",\"(570) 387-2031\",\"AB7DBCFFD0AD5577560D8B545A842B41\",\"Display\"\n\"20350\",\"1143641\",\"M\",\"Clement\",\"Vincent\",\"6236 Burnt Mill Road\",\"OH\",\"Edon\",\"43518\",\"clement.vincent@teratitan.com\",\"\",\"\",\"\"\n\"19614\",\"\",\"M\",\"Clement\",\"Bertrand\",\"5606 Paper Mill Road\",\"NY\",\"Rochester\",\"14660\",\"\",\"\",\"\",\"\"",
      "text/html": [
       "<div class = \"td-resultset-table-div\" style = \"max-height: 100%; overflow-y: auto\">\n",
       "      <table class=\"tdhistory568984\"><style>\n",
       "      table.tdhistory568984 { display: block !important; min-height: 189px !important; overflow: auto !important; height: 189px !important; width: 100% !important; border: 1px solid rgb(207, 207, 207) !important; border-collapse: collapse !important; ; color: var(--jp-ui-font-color1) !important; }\n",
       "      th.tdhistory568984 { border: 1px solid rgb(198,198,198) !important; border-collapse: collapse !important; ; padding: 2px 5px !important; ; font-size: 13px !important; ; text-align: center !important; white-space: normal !important; color: var(--jp-ui-font-color1) !important; }\n",
       "      th.tdhistory568984:last-child { text-align: left !important; }\n",
       "      tbody.tdhistory568984 tr:nth-child(even) { background: rgba(243, 243, 243, 0.75) !important; }\n",
       "      tbody.tdhistory568984 tr:nth-child(odd) { background: var(--jp-ui-inverse-font-color1) !important; }\n",
       "      td.tdhistory568984 { border: 1px solid rgb(207, 207, 207) !important; border-collapse: collapse !important; ; padding: 2px 5px !important; ; font-size: 13px !important; ; text-align: left !important;          white-space: nowrap !important; overflow:hidden !important; text-overflow:ellipsis !important;; }\n",
       "    </style><thead><tr style= \"background: rgba(243, 243, 243, 0.75)\"><th class=\"tdhistory568984\"></th><th class=\"tdhistory568984\">CUST_ID</th><th class=\"tdhistory568984\">LOYALTY_NUM</th><th class=\"tdhistory568984\">GENDER</th><th class=\"tdhistory568984\">FIRSTNAME</th><th class=\"tdhistory568984\">LASTNAME</th><th class=\"tdhistory568984\">ADDRESS</th><th class=\"tdhistory568984\">STATE</th><th class=\"tdhistory568984\">CITY</th><th class=\"tdhistory568984\">ZIP</th><th class=\"tdhistory568984\">EMAIL</th><th class=\"tdhistory568984\">PHONE</th><th class=\"tdhistory568984\">COOKIE</th><th class=\"tdhistory568984\">CAMPAIGN</th></tr></thead><tbody class=\"tdhistory568984 resultset-body\"><tr><th class=\"tdhistory568984\" style= \"background: rgba(243, 243, 243, 0.75)\">1</th><td class=\"tdhistory568984\">21635</td><td class=\"tdhistory568984\">2242698</td><td class=\"tdhistory568984\">M</td><td class=\"tdhistory568984\">Alexander</td><td class=\"tdhistory568984\">Muller</td><td class=\"tdhistory568984\">3649 Main Street</td><td class=\"tdhistory568984\">PA</td><td class=\"tdhistory568984\">York</td><td class=\"tdhistory568984\">17407</td><td class=\"tdhistory568984\">alexander.muller@teratitan.com</td><td class=\"tdhistory568984\"></td><td class=\"tdhistory568984\">9856C1982CB8FD2ABF9AC11CB7A9FD</td><td class=\"tdhistory568984\">Display</td></tr><tr><th class=\"tdhistory568984\" style= \"background: rgba(243, 243, 243, 0.75)\">2</th><td class=\"tdhistory568984\">19372</td><td class=\"tdhistory568984\">1118440</td><td class=\"tdhistory568984\">F</td><td class=\"tdhistory568984\">Fei</td><td class=\"tdhistory568984\">Zhou</td><td class=\"tdhistory568984\">5957 Hill Street</td><td class=\"tdhistory568984\">PA</td><td class=\"tdhistory568984\">Harrisburg</td><td class=\"tdhistory568984\">17128</td><td class=\"tdhistory568984\">fzhou@outlook.com</td><td class=\"tdhistory568984\"></td><td class=\"tdhistory568984\"></td><td class=\"tdhistory568984\"></td></tr><tr><th class=\"tdhistory568984\" style= \"background: rgba(243, 243, 243, 0.75)\">3</th><td class=\"tdhistory568984\">20575</td><td class=\"tdhistory568984\">1233911</td><td class=\"tdhistory568984\">F</td><td class=\"tdhistory568984\">Laura</td><td class=\"tdhistory568984\">DeSilva</td><td class=\"tdhistory568984\">11 Red Mill Road</td><td class=\"tdhistory568984\">PA</td><td class=\"tdhistory568984\">New Castle</td><td class=\"tdhistory568984\">16105</td><td class=\"tdhistory568984\">ldesilva@gmail.com</td><td class=\"tdhistory568984\">(570) 387-2031</td><td class=\"tdhistory568984\">AB7DBCFFD0AD5577560D8B545A842B41</td><td class=\"tdhistory568984\">Display</td></tr><tr><th class=\"tdhistory568984\" style= \"background: rgba(243, 243, 243, 0.75)\">4</th><td class=\"tdhistory568984\">20350</td><td class=\"tdhistory568984\">1143641</td><td class=\"tdhistory568984\">M</td><td class=\"tdhistory568984\">Clement</td><td class=\"tdhistory568984\">Vincent</td><td class=\"tdhistory568984\">6236 Burnt Mill Road</td><td class=\"tdhistory568984\">OH</td><td class=\"tdhistory568984\">Edon</td><td class=\"tdhistory568984\">43518</td><td class=\"tdhistory568984\">clement.vincent@teratitan.com</td><td class=\"tdhistory568984\"></td><td class=\"tdhistory568984\"></td><td class=\"tdhistory568984\"></td></tr><tr><th class=\"tdhistory568984\" style= \"background: rgba(243, 243, 243, 0.75)\">5</th><td class=\"tdhistory568984\">19614</td><td class=\"tdhistory568984\"></td><td class=\"tdhistory568984\">M</td><td class=\"tdhistory568984\">Clement</td><td class=\"tdhistory568984\">Bertrand</td><td class=\"tdhistory568984\">5606 Paper Mill Road</td><td class=\"tdhistory568984\">NY</td><td class=\"tdhistory568984\">Rochester</td><td class=\"tdhistory568984\">14660</td><td class=\"tdhistory568984\"></td><td class=\"tdhistory568984\"></td><td class=\"tdhistory568984\"></td><td class=\"tdhistory568984\"></td></tr></tbody></table></div>"
      ]
     },
     "execution_count": 37,
     "metadata": {
      "application/vnd.teradata.resultset": "{\"resultSetID\":\"/home/jovyan/JupyterLabRoot/Teradata/Resultsets/2024.09.05_08.53.46.655_UTC\",\"historyID\":113,\"chunkID\":\"00001\",\"sessionid\":\"\",\"portnum\":\"\",\"dockermode\":\"docker\",\"totalRowCount\":5,\"chunkCount\":0,\"rowLimit\":0,\"columnMetadata\":[{\"columnName\":\"CUST_ID\",\"columnTypeName\":\"SMALLINT\"},{\"columnNumber\":1,\"columnName\":\"LOYALTY_NUM\",\"columnTypeName\":\"INTEGER\"},{\"columnNumber\":2,\"columnName\":\"GENDER\",\"columnTypeName\":\"VARCHAR\",\"length\":1,\"scale\":1},{\"columnNumber\":3,\"columnName\":\"FIRSTNAME\",\"columnTypeName\":\"VARCHAR\",\"length\":11,\"scale\":11},{\"columnNumber\":4,\"columnName\":\"LASTNAME\",\"columnTypeName\":\"VARCHAR\",\"length\":9,\"scale\":9},{\"columnNumber\":5,\"columnName\":\"ADDRESS\",\"columnTypeName\":\"VARCHAR\",\"length\":25,\"scale\":25},{\"columnNumber\":6,\"columnName\":\"STATE\",\"columnTypeName\":\"VARCHAR\",\"length\":2,\"scale\":2},{\"columnNumber\":7,\"columnName\":\"CITY\",\"columnTypeName\":\"VARCHAR\",\"length\":16,\"scale\":16},{\"columnNumber\":8,\"columnName\":\"ZIP\",\"columnTypeName\":\"INTEGER\"},{\"columnNumber\":9,\"columnName\":\"EMAIL\",\"columnTypeName\":\"VARCHAR\",\"length\":31,\"scale\":31},{\"columnNumber\":10,\"columnName\":\"PHONE\",\"columnTypeName\":\"VARCHAR\",\"length\":14,\"scale\":14},{\"columnNumber\":11,\"columnName\":\"COOKIE\",\"columnTypeName\":\"VARCHAR\",\"length\":32,\"scale\":32},{\"columnNumber\":12,\"columnName\":\"CAMPAIGN\",\"columnTypeName\":\"VARCHAR\",\"length\":7,\"scale\":7}]}"
     },
     "output_type": "execute_result"
    }
   ],
   "source": [
    "SELECT TOP 5 * FROM C360_GR3_V"
   ]
  },
  {
   "cell_type": "markdown",
   "id": "24a3e354-c321-404d-83e7-f44b36085fe3",
   "metadata": {},
   "source": [
    "<p style = 'font-size:16px;font-family:Arial;color:#00233C'>We see that Jessica's record has been updated with a cookie and a campaign.</p>"
   ]
  },
  {
   "cell_type": "code",
   "execution_count": 38,
   "id": "7585ba3d",
   "metadata": {},
   "outputs": [
    {
     "data": {
      "application/vnd.teradata.resultset": "\"CUST_ID\",\"LOYALTY_NUM\",\"GENDER\",\"FIRSTNAME\",\"LASTNAME\",\"ADDRESS\",\"STATE\",\"CITY\",\"ZIP\",\"EMAIL\",\"PHONE\",\"COOKIE\",\"CAMPAIGN\"\n\"21903\",\"1460445\",\"F\",\"Jessica\",\"Rego\",\"3114 Park Street\",\"OH\",\"Nashport\",\"43830\",\"jrego@yahoo.com\",\"(530) 696-4308\",\"2846E54D5FFE2905099AC6E23014DF7\",\"Email\"",
      "text/html": [
       "<div class = \"td-resultset-table-div\" style = \"max-height: 100%; overflow-y: auto\">\n",
       "      <table class=\"tdhistory590397\"><style>\n",
       "      table.tdhistory590397 { display: block !important; min-height: 105px !important; overflow: auto !important; height: 105px !important; width: 100% !important; border: 1px solid rgb(207, 207, 207) !important; border-collapse: collapse !important; ; color: var(--jp-ui-font-color1) !important; }\n",
       "      th.tdhistory590397 { border: 1px solid rgb(198,198,198) !important; border-collapse: collapse !important; ; padding: 2px 5px !important; ; font-size: 13px !important; ; text-align: center !important; white-space: normal !important; color: var(--jp-ui-font-color1) !important; }\n",
       "      th.tdhistory590397:last-child { text-align: left !important; }\n",
       "      tbody.tdhistory590397 tr:nth-child(even) { background: rgba(243, 243, 243, 0.75) !important; }\n",
       "      tbody.tdhistory590397 tr:nth-child(odd) { background: var(--jp-ui-inverse-font-color1) !important; }\n",
       "      td.tdhistory590397 { border: 1px solid rgb(207, 207, 207) !important; border-collapse: collapse !important; ; padding: 2px 5px !important; ; font-size: 13px !important; ; text-align: left !important;          white-space: nowrap !important; overflow:hidden !important; text-overflow:ellipsis !important;; }\n",
       "    </style><thead><tr style= \"background: rgba(243, 243, 243, 0.75)\"><th class=\"tdhistory590397\"></th><th class=\"tdhistory590397\">CUST_ID</th><th class=\"tdhistory590397\">LOYALTY_NUM</th><th class=\"tdhistory590397\">GENDER</th><th class=\"tdhistory590397\">FIRSTNAME</th><th class=\"tdhistory590397\">LASTNAME</th><th class=\"tdhistory590397\">ADDRESS</th><th class=\"tdhistory590397\">STATE</th><th class=\"tdhistory590397\">CITY</th><th class=\"tdhistory590397\">ZIP</th><th class=\"tdhistory590397\">EMAIL</th><th class=\"tdhistory590397\">PHONE</th><th class=\"tdhistory590397\">COOKIE</th><th class=\"tdhistory590397\">CAMPAIGN</th></tr></thead><tbody class=\"tdhistory590397 resultset-body\"><tr><th class=\"tdhistory590397\" style= \"background: rgba(243, 243, 243, 0.75)\">1</th><td class=\"tdhistory590397\">21903</td><td class=\"tdhistory590397\">1460445</td><td class=\"tdhistory590397\">F</td><td class=\"tdhistory590397\">Jessica</td><td class=\"tdhistory590397\">Rego</td><td class=\"tdhistory590397\">3114 Park Street</td><td class=\"tdhistory590397\">OH</td><td class=\"tdhistory590397\">Nashport</td><td class=\"tdhistory590397\">43830</td><td class=\"tdhistory590397\">jrego@yahoo.com</td><td class=\"tdhistory590397\">(530) 696-4308</td><td class=\"tdhistory590397\">2846E54D5FFE2905099AC6E23014DF7</td><td class=\"tdhistory590397\">Email</td></tr></tbody></table></div>"
      ]
     },
     "execution_count": 38,
     "metadata": {
      "application/vnd.teradata.resultset": "{\"resultSetID\":\"/home/jovyan/JupyterLabRoot/Teradata/Resultsets/2024.09.05_08.53.48.904_UTC\",\"historyID\":114,\"chunkID\":\"00001\",\"sessionid\":\"\",\"portnum\":\"\",\"dockermode\":\"docker\",\"totalRowCount\":1,\"chunkCount\":0,\"rowLimit\":0,\"columnMetadata\":[{\"columnName\":\"CUST_ID\",\"columnTypeName\":\"SMALLINT\"},{\"columnNumber\":1,\"columnName\":\"LOYALTY_NUM\",\"columnTypeName\":\"INTEGER\"},{\"columnNumber\":2,\"columnName\":\"GENDER\",\"columnTypeName\":\"VARCHAR\",\"length\":1,\"scale\":1},{\"columnNumber\":3,\"columnName\":\"FIRSTNAME\",\"columnTypeName\":\"VARCHAR\",\"length\":11,\"scale\":11},{\"columnNumber\":4,\"columnName\":\"LASTNAME\",\"columnTypeName\":\"VARCHAR\",\"length\":9,\"scale\":9},{\"columnNumber\":5,\"columnName\":\"ADDRESS\",\"columnTypeName\":\"VARCHAR\",\"length\":25,\"scale\":25},{\"columnNumber\":6,\"columnName\":\"STATE\",\"columnTypeName\":\"VARCHAR\",\"length\":2,\"scale\":2},{\"columnNumber\":7,\"columnName\":\"CITY\",\"columnTypeName\":\"VARCHAR\",\"length\":16,\"scale\":16},{\"columnNumber\":8,\"columnName\":\"ZIP\",\"columnTypeName\":\"INTEGER\"},{\"columnNumber\":9,\"columnName\":\"EMAIL\",\"columnTypeName\":\"VARCHAR\",\"length\":31,\"scale\":31},{\"columnNumber\":10,\"columnName\":\"PHONE\",\"columnTypeName\":\"VARCHAR\",\"length\":14,\"scale\":14},{\"columnNumber\":11,\"columnName\":\"COOKIE\",\"columnTypeName\":\"VARCHAR\",\"length\":32,\"scale\":32},{\"columnNumber\":12,\"columnName\":\"CAMPAIGN\",\"columnTypeName\":\"VARCHAR\",\"length\":7,\"scale\":7}]}"
     },
     "output_type": "execute_result"
    }
   ],
   "source": [
    "SELECT * FROM C360_GR3_V WHERE FIRSTNAME = 'Jessica' AND LASTNAME = 'Rego'"
   ]
  },
  {
   "cell_type": "markdown",
   "id": "fc37c299",
   "metadata": {},
   "source": [
    "<hr style=\"height:2px;border:none;background-color:#00233C;\">\n",
    "<p style = 'font-size:20px;font-family:Arial;color:#00233C'><b>7. Calculate Lifetime Value Across All Channels</b></p>\n",
    "\n",
    "<p style = 'font-size:16px;font-family:Arial;color:#00233C'>Finally, we calculate the lifetime value by taking into account the channel lifetime value from equipment and online as well as the cost to service a customer from the call center using the formula:<br>\n",
    "&ensp; LTV = Equipment Purchases + Online Services Sales - Call Center Cost<br>\n",
    "    Since this is the final calculation, we will write out our results to a table rather than a view.</p>"
   ]
  },
  {
   "cell_type": "code",
   "execution_count": 39,
   "id": "b959ab86",
   "metadata": {},
   "outputs": [
    {
     "data": {
      "text/plain": [
       "Success: 0 rows affected"
      ]
     },
     "execution_count": 39,
     "metadata": {
      "application/vnd.teradata.resultset": ""
     },
     "output_type": "execute_result"
    }
   ],
   "source": [
    "CREATE TABLE C360_GoldenRecord AS (\n",
    "    SELECT gr3.CUST_ID, gr3.LOYALTY_NUM, gr3.GENDER, \n",
    "           gr3.FIRSTNAME, gr3.LASTNAME, gr3.EMAIL,gr3.PHONE,\n",
    "           gr3.ADDRESS, gr3.STATE, gr3.CITY, gr3.ZIP, \n",
    "           COALESCE(e.EQUIP_LTV,0) as EQUIPLTV , COALESCE(o.ONLINE_LTV,0) as ONLINELTV, COALESCE(c.CALL_CENTER_COST,0) as CALLCENTER_COST,\n",
    "            gr3.COOKIE, gr3.CAMPAIGN,\n",
    "           EQUIPLTV + ONLINELTV - CALLCENTER_COST as LTV\n",
    "    FROM C360_GR3_V gr3 LEFT JOIN DEMO_Customer360.Equipment e ON gr3.CUST_ID = e.CUST_ID\n",
    "    LEFT JOIN DEMO_Customer360.Online o ON gr3.EMAIL = o.EMAIL\n",
    "    LEFT JOIN DEMO_Customer360.CallCenter c ON gr3.PHONE= c.PHONE\n",
    "    \n",
    "    )\n",
    "WITH DATA;"
   ]
  },
  {
   "cell_type": "code",
   "execution_count": 40,
   "id": "5b960cd7",
   "metadata": {},
   "outputs": [
    {
     "data": {
      "application/vnd.teradata.resultset": "\"CUST_ID\",\"LOYALTY_NUM\",\"GENDER\",\"FIRSTNAME\",\"LASTNAME\",\"EMAIL\",\"PHONE\",\"ADDRESS\",\"STATE\",\"CITY\",\"ZIP\",\"EQUIPLTV\",\"ONLINELTV\",\"CALLCENTER_COST\",\"COOKIE\",\"CAMPAIGN\",\"LTV\"\n\"19553\",\"5451688\",\"M\",\"Bo\",\"Li\",\"bo.li@teratitan.com\",\"(617) 284-2673\",\"3248 N. Torrey Pines Road\",\"PA\",\"Oak Ridge\",\"16245\",\"5535\",\"544\",\"75\",\"368C1B6E30E1930927E0C0BF603DDB70\",\"Email\",\"6004\"\n\"19608\",\"\",\"F\",\"Mariana\",\"Sousa\",\"\",\"\",\"4982 Abbot Kinney Blvd\",\"NY\",\"Salisbury Mills\",\"12577\",\"6611\",\"0\",\"0\",\"\",\"\",\"6611\"\n\"21591\",\"2969453\",\"M\",\"Chao\",\"Guo\",\"chao.guo@teratitan.com\",\"\",\"7281 Second Street\",\"PA\",\"Paradise\",\"17562\",\"6474\",\"1144\",\"0\",\"\",\"\",\"7618\"\n\"19513\",\"\",\"M\",\"Cheung\",\"Yang\",\"\",\"\",\"7462 Hollywood Boulevard\",\"PA\",\"Richland\",\"17087\",\"6087\",\"0\",\"0\",\"\",\"\",\"6087\"\n\"19921\",\"5729451\",\"M\",\"Thiago\",\"Pena\",\"tpena@gmail.com\",\"(702) 821-1527\",\"2591 Seventh Street\",\"PA\",\"Millerstown\",\"17062\",\"5682\",\"1305\",\"100\",\"\",\"\",\"6887\"",
      "text/html": [
       "<div class = \"td-resultset-table-div\" style = \"max-height: 100%; overflow-y: auto\">\n",
       "      <table class=\"tdhistory443860\"><style>\n",
       "      table.tdhistory443860 { display: block !important; min-height: 189px !important; overflow: auto !important; height: 189px !important; width: 100% !important; border: 1px solid rgb(207, 207, 207) !important; border-collapse: collapse !important; ; color: var(--jp-ui-font-color1) !important; }\n",
       "      th.tdhistory443860 { border: 1px solid rgb(198,198,198) !important; border-collapse: collapse !important; ; padding: 2px 5px !important; ; font-size: 13px !important; ; text-align: center !important; white-space: normal !important; color: var(--jp-ui-font-color1) !important; }\n",
       "      th.tdhistory443860:last-child { text-align: left !important; }\n",
       "      tbody.tdhistory443860 tr:nth-child(even) { background: rgba(243, 243, 243, 0.75) !important; }\n",
       "      tbody.tdhistory443860 tr:nth-child(odd) { background: var(--jp-ui-inverse-font-color1) !important; }\n",
       "      td.tdhistory443860 { border: 1px solid rgb(207, 207, 207) !important; border-collapse: collapse !important; ; padding: 2px 5px !important; ; font-size: 13px !important; ; text-align: left !important;          white-space: nowrap !important; overflow:hidden !important; text-overflow:ellipsis !important;; }\n",
       "    </style><thead><tr style= \"background: rgba(243, 243, 243, 0.75)\"><th class=\"tdhistory443860\"></th><th class=\"tdhistory443860\">CUST_ID</th><th class=\"tdhistory443860\">LOYALTY_NUM</th><th class=\"tdhistory443860\">GENDER</th><th class=\"tdhistory443860\">FIRSTNAME</th><th class=\"tdhistory443860\">LASTNAME</th><th class=\"tdhistory443860\">EMAIL</th><th class=\"tdhistory443860\">PHONE</th><th class=\"tdhistory443860\">ADDRESS</th><th class=\"tdhistory443860\">STATE</th><th class=\"tdhistory443860\">CITY</th><th class=\"tdhistory443860\">ZIP</th><th class=\"tdhistory443860\">EQUIPLTV</th><th class=\"tdhistory443860\">ONLINELTV</th><th class=\"tdhistory443860\">CALLCENTER_COST</th><th class=\"tdhistory443860\">COOKIE</th><th class=\"tdhistory443860\">CAMPAIGN</th><th class=\"tdhistory443860\">LTV</th></tr></thead><tbody class=\"tdhistory443860 resultset-body\"><tr><th class=\"tdhistory443860\" style= \"background: rgba(243, 243, 243, 0.75)\">1</th><td class=\"tdhistory443860\">19553</td><td class=\"tdhistory443860\">5451688</td><td class=\"tdhistory443860\">M</td><td class=\"tdhistory443860\">Bo</td><td class=\"tdhistory443860\">Li</td><td class=\"tdhistory443860\">bo.li@teratitan.com</td><td class=\"tdhistory443860\">(617) 284-2673</td><td class=\"tdhistory443860\">3248 N. Torrey Pines Road</td><td class=\"tdhistory443860\">PA</td><td class=\"tdhistory443860\">Oak Ridge</td><td class=\"tdhistory443860\">16245</td><td class=\"tdhistory443860\">5535</td><td class=\"tdhistory443860\">544</td><td class=\"tdhistory443860\">75</td><td class=\"tdhistory443860\">368C1B6E30E1930927E0C0BF603DDB70</td><td class=\"tdhistory443860\">Email</td><td class=\"tdhistory443860\">6004</td></tr><tr><th class=\"tdhistory443860\" style= \"background: rgba(243, 243, 243, 0.75)\">2</th><td class=\"tdhistory443860\">19608</td><td class=\"tdhistory443860\"></td><td class=\"tdhistory443860\">F</td><td class=\"tdhistory443860\">Mariana</td><td class=\"tdhistory443860\">Sousa</td><td class=\"tdhistory443860\"></td><td class=\"tdhistory443860\"></td><td class=\"tdhistory443860\">4982 Abbot Kinney Blvd</td><td class=\"tdhistory443860\">NY</td><td class=\"tdhistory443860\">Salisbury Mills</td><td class=\"tdhistory443860\">12577</td><td class=\"tdhistory443860\">6611</td><td class=\"tdhistory443860\">0</td><td class=\"tdhistory443860\">0</td><td class=\"tdhistory443860\"></td><td class=\"tdhistory443860\"></td><td class=\"tdhistory443860\">6611</td></tr><tr><th class=\"tdhistory443860\" style= \"background: rgba(243, 243, 243, 0.75)\">3</th><td class=\"tdhistory443860\">21591</td><td class=\"tdhistory443860\">2969453</td><td class=\"tdhistory443860\">M</td><td class=\"tdhistory443860\">Chao</td><td class=\"tdhistory443860\">Guo</td><td class=\"tdhistory443860\">chao.guo@teratitan.com</td><td class=\"tdhistory443860\"></td><td class=\"tdhistory443860\">7281 Second Street</td><td class=\"tdhistory443860\">PA</td><td class=\"tdhistory443860\">Paradise</td><td class=\"tdhistory443860\">17562</td><td class=\"tdhistory443860\">6474</td><td class=\"tdhistory443860\">1144</td><td class=\"tdhistory443860\">0</td><td class=\"tdhistory443860\"></td><td class=\"tdhistory443860\"></td><td class=\"tdhistory443860\">7618</td></tr><tr><th class=\"tdhistory443860\" style= \"background: rgba(243, 243, 243, 0.75)\">4</th><td class=\"tdhistory443860\">19513</td><td class=\"tdhistory443860\"></td><td class=\"tdhistory443860\">M</td><td class=\"tdhistory443860\">Cheung</td><td class=\"tdhistory443860\">Yang</td><td class=\"tdhistory443860\"></td><td class=\"tdhistory443860\"></td><td class=\"tdhistory443860\">7462 Hollywood Boulevard</td><td class=\"tdhistory443860\">PA</td><td class=\"tdhistory443860\">Richland</td><td class=\"tdhistory443860\">17087</td><td class=\"tdhistory443860\">6087</td><td class=\"tdhistory443860\">0</td><td class=\"tdhistory443860\">0</td><td class=\"tdhistory443860\"></td><td class=\"tdhistory443860\"></td><td class=\"tdhistory443860\">6087</td></tr><tr><th class=\"tdhistory443860\" style= \"background: rgba(243, 243, 243, 0.75)\">5</th><td class=\"tdhistory443860\">19921</td><td class=\"tdhistory443860\">5729451</td><td class=\"tdhistory443860\">M</td><td class=\"tdhistory443860\">Thiago</td><td class=\"tdhistory443860\">Pena</td><td class=\"tdhistory443860\">tpena@gmail.com</td><td class=\"tdhistory443860\">(702) 821-1527</td><td class=\"tdhistory443860\">2591 Seventh Street</td><td class=\"tdhistory443860\">PA</td><td class=\"tdhistory443860\">Millerstown</td><td class=\"tdhistory443860\">17062</td><td class=\"tdhistory443860\">5682</td><td class=\"tdhistory443860\">1305</td><td class=\"tdhistory443860\">100</td><td class=\"tdhistory443860\"></td><td class=\"tdhistory443860\"></td><td class=\"tdhistory443860\">6887</td></tr></tbody></table></div>"
      ]
     },
     "execution_count": 40,
     "metadata": {
      "application/vnd.teradata.resultset": "{\"resultSetID\":\"/home/jovyan/JupyterLabRoot/Teradata/Resultsets/2024.09.05_08.53.52.141_UTC\",\"historyID\":116,\"chunkID\":\"00001\",\"sessionid\":\"\",\"portnum\":\"\",\"dockermode\":\"docker\",\"totalRowCount\":5,\"chunkCount\":0,\"rowLimit\":0,\"columnMetadata\":[{\"columnName\":\"CUST_ID\",\"columnTypeName\":\"SMALLINT\"},{\"columnNumber\":1,\"columnName\":\"LOYALTY_NUM\",\"columnTypeName\":\"INTEGER\"},{\"columnNumber\":2,\"columnName\":\"GENDER\",\"columnTypeName\":\"VARCHAR\",\"length\":1,\"scale\":1},{\"columnNumber\":3,\"columnName\":\"FIRSTNAME\",\"columnTypeName\":\"VARCHAR\",\"length\":11,\"scale\":11},{\"columnNumber\":4,\"columnName\":\"LASTNAME\",\"columnTypeName\":\"VARCHAR\",\"length\":9,\"scale\":9},{\"columnNumber\":5,\"columnName\":\"EMAIL\",\"columnTypeName\":\"VARCHAR\",\"length\":31,\"scale\":31},{\"columnNumber\":6,\"columnName\":\"PHONE\",\"columnTypeName\":\"VARCHAR\",\"length\":14,\"scale\":14},{\"columnNumber\":7,\"columnName\":\"ADDRESS\",\"columnTypeName\":\"VARCHAR\",\"length\":25,\"scale\":25},{\"columnNumber\":8,\"columnName\":\"STATE\",\"columnTypeName\":\"VARCHAR\",\"length\":2,\"scale\":2},{\"columnNumber\":9,\"columnName\":\"CITY\",\"columnTypeName\":\"VARCHAR\",\"length\":16,\"scale\":16},{\"columnNumber\":10,\"columnName\":\"ZIP\",\"columnTypeName\":\"INTEGER\"},{\"columnNumber\":11,\"columnName\":\"EQUIPLTV\",\"columnTypeName\":\"SMALLINT\"},{\"columnNumber\":12,\"columnName\":\"ONLINELTV\",\"columnTypeName\":\"SMALLINT\"},{\"columnNumber\":13,\"columnName\":\"CALLCENTER_COST\",\"columnTypeName\":\"BYTEINT\"},{\"columnNumber\":14,\"columnName\":\"COOKIE\",\"columnTypeName\":\"VARCHAR\",\"length\":32,\"scale\":32},{\"columnNumber\":15,\"columnName\":\"CAMPAIGN\",\"columnTypeName\":\"VARCHAR\",\"length\":7,\"scale\":7},{\"columnNumber\":16,\"columnName\":\"LTV\",\"columnTypeName\":\"INTEGER\"}]}"
     },
     "output_type": "execute_result"
    }
   ],
   "source": [
    "SELECT TOP 5 * FROM C360_GoldenRecord"
   ]
  },
  {
   "cell_type": "markdown",
   "id": "e3359662-3469-45c2-9759-270b48f7809d",
   "metadata": {},
   "source": [
    "<p style = 'font-size:16px;font-family:Arial;color:#00233C'>Focusing in on Jessica, we see her lifetime value across all channels.</p>"
   ]
  },
  {
   "cell_type": "code",
   "execution_count": 41,
   "id": "adf5018b",
   "metadata": {},
   "outputs": [
    {
     "data": {
      "application/vnd.teradata.resultset": "\"CUST_ID\",\"LOYALTY_NUM\",\"GENDER\",\"FIRSTNAME\",\"LASTNAME\",\"EMAIL\",\"PHONE\",\"ADDRESS\",\"STATE\",\"CITY\",\"ZIP\",\"EQUIPLTV\",\"ONLINELTV\",\"CALLCENTER_COST\",\"COOKIE\",\"CAMPAIGN\",\"LTV\"\n\"21903\",\"1460445\",\"F\",\"Jessica\",\"Rego\",\"jrego@yahoo.com\",\"(530) 696-4308\",\"3114 Park Street\",\"OH\",\"Nashport\",\"43830\",\"6952\",\"1696\",\"50\",\"2846E54D5FFE2905099AC6E23014DF7\",\"Email\",\"8598\"",
      "text/html": [
       "<div class = \"td-resultset-table-div\" style = \"max-height: 100%; overflow-y: auto\">\n",
       "      <table class=\"tdhistory587431\"><style>\n",
       "      table.tdhistory587431 { display: block !important; min-height: 105px !important; overflow: auto !important; height: 105px !important; width: 100% !important; border: 1px solid rgb(207, 207, 207) !important; border-collapse: collapse !important; ; color: var(--jp-ui-font-color1) !important; }\n",
       "      th.tdhistory587431 { border: 1px solid rgb(198,198,198) !important; border-collapse: collapse !important; ; padding: 2px 5px !important; ; font-size: 13px !important; ; text-align: center !important; white-space: normal !important; color: var(--jp-ui-font-color1) !important; }\n",
       "      th.tdhistory587431:last-child { text-align: left !important; }\n",
       "      tbody.tdhistory587431 tr:nth-child(even) { background: rgba(243, 243, 243, 0.75) !important; }\n",
       "      tbody.tdhistory587431 tr:nth-child(odd) { background: var(--jp-ui-inverse-font-color1) !important; }\n",
       "      td.tdhistory587431 { border: 1px solid rgb(207, 207, 207) !important; border-collapse: collapse !important; ; padding: 2px 5px !important; ; font-size: 13px !important; ; text-align: left !important;          white-space: nowrap !important; overflow:hidden !important; text-overflow:ellipsis !important;; }\n",
       "    </style><thead><tr style= \"background: rgba(243, 243, 243, 0.75)\"><th class=\"tdhistory587431\"></th><th class=\"tdhistory587431\">CUST_ID</th><th class=\"tdhistory587431\">LOYALTY_NUM</th><th class=\"tdhistory587431\">GENDER</th><th class=\"tdhistory587431\">FIRSTNAME</th><th class=\"tdhistory587431\">LASTNAME</th><th class=\"tdhistory587431\">EMAIL</th><th class=\"tdhistory587431\">PHONE</th><th class=\"tdhistory587431\">ADDRESS</th><th class=\"tdhistory587431\">STATE</th><th class=\"tdhistory587431\">CITY</th><th class=\"tdhistory587431\">ZIP</th><th class=\"tdhistory587431\">EQUIPLTV</th><th class=\"tdhistory587431\">ONLINELTV</th><th class=\"tdhistory587431\">CALLCENTER_COST</th><th class=\"tdhistory587431\">COOKIE</th><th class=\"tdhistory587431\">CAMPAIGN</th><th class=\"tdhistory587431\">LTV</th></tr></thead><tbody class=\"tdhistory587431 resultset-body\"><tr><th class=\"tdhistory587431\" style= \"background: rgba(243, 243, 243, 0.75)\">1</th><td class=\"tdhistory587431\">21903</td><td class=\"tdhistory587431\">1460445</td><td class=\"tdhistory587431\">F</td><td class=\"tdhistory587431\">Jessica</td><td class=\"tdhistory587431\">Rego</td><td class=\"tdhistory587431\">jrego@yahoo.com</td><td class=\"tdhistory587431\">(530) 696-4308</td><td class=\"tdhistory587431\">3114 Park Street</td><td class=\"tdhistory587431\">OH</td><td class=\"tdhistory587431\">Nashport</td><td class=\"tdhistory587431\">43830</td><td class=\"tdhistory587431\">6952</td><td class=\"tdhistory587431\">1696</td><td class=\"tdhistory587431\">50</td><td class=\"tdhistory587431\">2846E54D5FFE2905099AC6E23014DF7</td><td class=\"tdhistory587431\">Email</td><td class=\"tdhistory587431\">8598</td></tr></tbody></table></div>"
      ]
     },
     "execution_count": 41,
     "metadata": {
      "application/vnd.teradata.resultset": "{\"resultSetID\":\"/home/jovyan/JupyterLabRoot/Teradata/Resultsets/2024.09.05_08.53.52.203_UTC\",\"historyID\":117,\"chunkID\":\"00001\",\"sessionid\":\"\",\"portnum\":\"\",\"dockermode\":\"docker\",\"totalRowCount\":1,\"chunkCount\":0,\"rowLimit\":0,\"columnMetadata\":[{\"columnName\":\"CUST_ID\",\"columnTypeName\":\"SMALLINT\"},{\"columnNumber\":1,\"columnName\":\"LOYALTY_NUM\",\"columnTypeName\":\"INTEGER\"},{\"columnNumber\":2,\"columnName\":\"GENDER\",\"columnTypeName\":\"VARCHAR\",\"length\":1,\"scale\":1},{\"columnNumber\":3,\"columnName\":\"FIRSTNAME\",\"columnTypeName\":\"VARCHAR\",\"length\":11,\"scale\":11},{\"columnNumber\":4,\"columnName\":\"LASTNAME\",\"columnTypeName\":\"VARCHAR\",\"length\":9,\"scale\":9},{\"columnNumber\":5,\"columnName\":\"EMAIL\",\"columnTypeName\":\"VARCHAR\",\"length\":31,\"scale\":31},{\"columnNumber\":6,\"columnName\":\"PHONE\",\"columnTypeName\":\"VARCHAR\",\"length\":14,\"scale\":14},{\"columnNumber\":7,\"columnName\":\"ADDRESS\",\"columnTypeName\":\"VARCHAR\",\"length\":25,\"scale\":25},{\"columnNumber\":8,\"columnName\":\"STATE\",\"columnTypeName\":\"VARCHAR\",\"length\":2,\"scale\":2},{\"columnNumber\":9,\"columnName\":\"CITY\",\"columnTypeName\":\"VARCHAR\",\"length\":16,\"scale\":16},{\"columnNumber\":10,\"columnName\":\"ZIP\",\"columnTypeName\":\"INTEGER\"},{\"columnNumber\":11,\"columnName\":\"EQUIPLTV\",\"columnTypeName\":\"SMALLINT\"},{\"columnNumber\":12,\"columnName\":\"ONLINELTV\",\"columnTypeName\":\"SMALLINT\"},{\"columnNumber\":13,\"columnName\":\"CALLCENTER_COST\",\"columnTypeName\":\"BYTEINT\"},{\"columnNumber\":14,\"columnName\":\"COOKIE\",\"columnTypeName\":\"VARCHAR\",\"length\":32,\"scale\":32},{\"columnNumber\":15,\"columnName\":\"CAMPAIGN\",\"columnTypeName\":\"VARCHAR\",\"length\":7,\"scale\":7},{\"columnNumber\":16,\"columnName\":\"LTV\",\"columnTypeName\":\"INTEGER\"}]}"
     },
     "output_type": "execute_result"
    }
   ],
   "source": [
    "SELECT * FROM C360_GoldenRecord WHERE FIRSTNAME = 'Jessica' AND LASTNAME = 'Rego'"
   ]
  },
  {
   "cell_type": "markdown",
   "id": "d99d434c-2148-44ed-850c-665c6d449c93",
   "metadata": {},
   "source": [
    "<hr style=\"height:2px;border:none;background-color:#00233C;\">\n",
    "<p style = 'font-size:20px;font-family:Arial;color:#00233C'><b>8. Conclusion</b></p>\n",
    "\n",
    "<p style = 'font-size:16px;font-family:Arial;color:#00233C'>Thus by combinig the data from Multiple channels we are able to create a golden record for each customers and calculate the value based on the various channels used. This kind of combined data can be used for various kind of analysis including the one shown in this demo which calculates the life time value for each customers based on the various channels used by the customer and the cost involved.</p>"
   ]
  },
  {
   "cell_type": "markdown",
   "id": "b3f6ac2a-e8a0-4de1-98a1-1b91a8c7f085",
   "metadata": {},
   "source": [
    "<hr style=\"height:2px;border:none;background-color:#00233C;\">\n",
    "<p style = 'font-size:20px;font-family:Arial;color:#00233C'><b>9. Cleanup</b></p>\n",
    "<p style = 'font-size:18px;font-family:Arial;color:#00233C'><b>Work Tables</b></p>\n",
    "<p style = 'font-size:16px;font-family:Arial;color:#00233C'>Clean up the work tables to prevent error next time.</p>"
   ]
  },
  {
   "cell_type": "code",
   "execution_count": 42,
   "id": "3525bac0-8856-4cc2-9f3a-6eb0ba1ffdc1",
   "metadata": {},
   "outputs": [
    {
     "data": {
      "text/plain": [
       "Success: 12 rows affected"
      ]
     },
     "execution_count": 42,
     "metadata": {
      "application/vnd.teradata.resultset": ""
     },
     "output_type": "execute_result"
    }
   ],
   "source": [
    "DROP VIEW C360_MatchAB_V;"
   ]
  },
  {
   "cell_type": "code",
   "execution_count": 43,
   "id": "eee1fb61-71cc-448d-93cd-cd45f926dc72",
   "metadata": {},
   "outputs": [
    {
     "data": {
      "text/plain": [
       "Success: 16 rows affected"
      ]
     },
     "execution_count": 43,
     "metadata": {
      "application/vnd.teradata.resultset": ""
     },
     "output_type": "execute_result"
    }
   ],
   "source": [
    "DROP VIEW C360_gr1_V; "
   ]
  },
  {
   "cell_type": "code",
   "execution_count": 44,
   "id": "a1e1a9d1-20a7-44e0-9db8-53f42b501e0e",
   "metadata": {},
   "outputs": [
    {
     "data": {
      "text/plain": [
       "Success: 11 rows affected"
      ]
     },
     "execution_count": 44,
     "metadata": {
      "application/vnd.teradata.resultset": ""
     },
     "output_type": "execute_result"
    }
   ],
   "source": [
    "DROP VIEW C360_MatchABC_V;"
   ]
  },
  {
   "cell_type": "code",
   "execution_count": 45,
   "id": "f506f93e-3619-4eb4-baa5-62a99983c371",
   "metadata": {},
   "outputs": [
    {
     "data": {
      "text/plain": [
       "Success: 14 rows affected"
      ]
     },
     "execution_count": 45,
     "metadata": {
      "application/vnd.teradata.resultset": ""
     },
     "output_type": "execute_result"
    }
   ],
   "source": [
    "DROP VIEW C360_MatchABCD_V; "
   ]
  },
  {
   "cell_type": "code",
   "execution_count": 46,
   "id": "5f30b3c1-0b3e-4258-97a3-ec6f16725ba4",
   "metadata": {},
   "outputs": [
    {
     "data": {
      "text/plain": [
       "Success: 19 rows affected"
      ]
     },
     "execution_count": 46,
     "metadata": {
      "application/vnd.teradata.resultset": ""
     },
     "output_type": "execute_result"
    }
   ],
   "source": [
    "DROP VIEW C360_GR3_V; "
   ]
  },
  {
   "cell_type": "code",
   "execution_count": 47,
   "id": "38748366-dc8d-43e3-a07f-dbead5902c85",
   "metadata": {},
   "outputs": [
    {
     "data": {
      "text/plain": [
       "Success: 30 rows affected"
      ]
     },
     "execution_count": 47,
     "metadata": {
      "application/vnd.teradata.resultset": ""
     },
     "output_type": "execute_result"
    }
   ],
   "source": [
    "DROP TABLE C360_GoldenRecord;"
   ]
  },
  {
   "cell_type": "markdown",
   "id": "3b466641-72cb-4b97-b1a8-ac73bb53aa6f",
   "metadata": {},
   "source": [
    "<p style = 'font-size:18px;font-family:Arial;color:#00233C'><b>Databases and Tables</b></p>\n",
    "<p style = 'font-size:16px;font-family:Arial;color:#00233C'>The following code will clean up tables and databases created above.</p>\n"
   ]
  },
  {
   "cell_type": "code",
   "execution_count": 48,
   "id": "cf225777-6ea0-482e-858b-bc30068b02d5",
   "metadata": {},
   "outputs": [
    {
     "data": {
      "text/plain": [
       "Success: 0 rows affected"
      ]
     },
     "execution_count": 48,
     "metadata": {
      "application/vnd.teradata.resultset": ""
     },
     "output_type": "execute_result"
    },
    {
     "data": {
      "application/vnd.teradata.resultset": "\"Message\"\n\"Removed objects related to DEMO_Customer360. That ran for 0:00:02.96\"",
      "text/html": [
       "<div class = \"td-resultset-table-div\" style = \"max-height: 100%; overflow-y: auto\">\n",
       "      <table class=\"tdhistory494953\"><style>\n",
       "      table.tdhistory494953 { display: block !important; min-height: 105px !important; overflow: auto !important; height: 105px !important; width: 100% !important; border: 1px solid rgb(207, 207, 207) !important; border-collapse: collapse !important; ; color: var(--jp-ui-font-color1) !important; }\n",
       "      th.tdhistory494953 { border: 1px solid rgb(198,198,198) !important; border-collapse: collapse !important; ; padding: 2px 5px !important; ; font-size: 13px !important; ; text-align: center !important; white-space: normal !important; color: var(--jp-ui-font-color1) !important; }\n",
       "      th.tdhistory494953:last-child { text-align: left !important; }\n",
       "      tbody.tdhistory494953 tr:nth-child(even) { background: rgba(243, 243, 243, 0.75) !important; }\n",
       "      tbody.tdhistory494953 tr:nth-child(odd) { background: var(--jp-ui-inverse-font-color1) !important; }\n",
       "      td.tdhistory494953 { border: 1px solid rgb(207, 207, 207) !important; border-collapse: collapse !important; ; padding: 2px 5px !important; ; font-size: 13px !important; ; text-align: left !important;          white-space: nowrap !important; overflow:hidden !important; text-overflow:ellipsis !important;; }\n",
       "    </style><thead><tr style= \"background: rgba(243, 243, 243, 0.75)\"><th class=\"tdhistory494953\"></th><th class=\"tdhistory494953\">Message</th></tr></thead><tbody class=\"tdhistory494953 resultset-body\"><tr><th class=\"tdhistory494953\" style= \"background: rgba(243, 243, 243, 0.75)\">1</th><td class=\"tdhistory494953\">Removed objects related to DEMO_Customer360. That ran for 0:00:02.96</td></tr></tbody></table></div>"
      ]
     },
     "execution_count": 48,
     "metadata": {
      "application/vnd.teradata.resultset": "{\"resultSetID\":\"/home/jovyan/JupyterLabRoot/Teradata/Resultsets/2024.09.05_08.53.56.295_UTC\",\"historyID\":124,\"chunkID\":\"00001\",\"sessionid\":\"\",\"portnum\":\"\",\"dockermode\":\"docker\",\"totalRowCount\":1,\"chunkCount\":0,\"rowLimit\":0,\"columnMetadata\":[{\"columnName\":\"Message\",\"columnTypeName\":\"VARCHAR\",\"length\":70,\"scale\":70}]}"
     },
     "output_type": "execute_result"
    }
   ],
   "source": [
    "call remove_data('DEMO_Customer360'); "
   ]
  },
  {
   "cell_type": "markdown",
   "id": "138065f0-9519-413c-a510-81caff85b45a",
   "metadata": {},
   "source": [
    "<footer style=\"padding-bottom:35px; background:#f9f9f9; border-bottom:3px solid #00233C\">\n",
    "    <div style=\"float:left;margin-top:14px\">ClearScape Analytics™</div>\n",
    "    <div style=\"float:right;\">\n",
    "        <div style=\"float:left; margin-top:14px\">\n",
    "            Copyright © Teradata Corporation - 2023. All Rights Reserved\n",
    "        </div>\n",
    "    </div>\n",
    "</footer>"
   ]
  }
 ],
 "metadata": {
  "kernelspec": {
   "display_name": "Teradata SQL",
   "language": "Teradata SQL",
   "name": "teradatasql"
  },
  "language_info": {
   "codemirror_mode": "Teradata SQL",
   "file_extension": ".tdrs",
   "mimetype": "application/vnd.teradata.resultset",
   "name": "Teradata SQL",
   "nbconvert_exporter": "",
   "pygments_lexer": "",
   "version": "16.20"
  },
  "toc-showmarkdowntxt": true,
  "widgets": {
   "application/vnd.jupyter.widget-state+json": {
    "state": {},
    "version_major": 2,
    "version_minor": 0
   }
  }
 },
 "nbformat": 4,
 "nbformat_minor": 5
}
