{
 "cells": [
  {
   "cell_type": "markdown",
   "id": "5c49e3cf-e89a-40b0-8e6a-414d8ec337a6",
   "metadata": {},
   "source": [
    "<header>\n",
    "   <p  style='font-size:36px;font-family:Arial; color:#F0F0F0; background-color: #00233c; padding-left: 20pt; padding-top: 20pt;padding-bottom: 10pt; padding-right: 20pt;'>\n",
    "       Complaints Analysis using Vantage and OpenAI\n",
    "  <br>\n",
    "       <img id=\"teradata-logo\" src=\"https://storage.googleapis.com/clearscape_analytics_demo_data/DEMO_Logo/teradata.svg\" alt=\"Teradata\" style=\"width: 125px; height: auto; margin-top: 20pt;\">\n",
    "    </p>\n",
    "</header>"
   ]
  },
  {
   "cell_type": "markdown",
   "id": "26752df7-32dc-42f9-b2a4-6db953108237",
   "metadata": {},
   "source": [
    "<p style = 'font-size:20px;font-family:Arial;color:#00233c'><b>Introduction:</b></p>\n",
    "\n",
    "<p style = 'font-size:16px;font-family:Arial;color:#00233C'>Analyzing consumer complaints using audio files conversations involves leveraging advanced technologies like large language models (LLM) and OpenAI to extract insights from unstructured data. This process can be applied to various sectors, including financial services, telecommunications, and e-commerce, to improve customer experience and protect consumer rights.</p>\n",
    "\n",
    "<p style = 'font-size:16px;font-family:Arial;color:#00233c'><b>Steps in the analysis:</b></p>\n",
    "<ol style = 'font-size:16px;font-family:Arial;color:#00233C'>\n",
    "    <li>Configuring the environment</li>\n",
    "    <li>Configuring OpenAI Model</li>\n",
    "    <li>Speech Analysis</li>\n",
    "</ol>"
   ]
  },
  {
   "cell_type": "markdown",
   "id": "04ebe8de-14d7-4ee4-a726-5acd2bbc0669",
   "metadata": {},
   "source": [
    "<hr style=\"height:2px;border:none;background-color:#00233C;\">\n",
    "<b style = 'font-size:20px;font-family:Arial;color:#00233C'>1. Configuring the environment</b>"
   ]
  },
  {
   "cell_type": "code",
   "execution_count": null,
   "id": "c7f231b3-7dbf-4379-b9d3-9f09be350c4b",
   "metadata": {},
   "outputs": [],
   "source": [
    "!pip install -r requirements.txt --quiet"
   ]
  },
  {
   "cell_type": "markdown",
   "id": "d54d7c1c-10d7-407a-ba2a-a4550615f9ea",
   "metadata": {},
   "source": [
    "<div class=\"alert alert-block alert-info\">\n",
    "<p style = 'font-size:16px;font-family:Arial;color:#00233C'><b>Note: </b><i>Please restart the kernel after executing these two lines. The simplest way to restart the Kernel is by typing zero zero: <b> 0 0</b></i></p>"
   ]
  },
  {
   "cell_type": "markdown",
   "id": "c233ee65-c69c-4ea4-8964-d4b53acdb5cd",
   "metadata": {},
   "source": [
    "<hr style='height:1px;border:none;background-color:#00233C;'>\n",
    "\n",
    "<p style = 'font-size:18px;font-family:Arial;color:#00233c'><b>1.1 Import the required libraries</b></p>\n",
    "\n",
    "<p style = 'font-size:16px;font-family:Arial;color:#00233C'>Here, we import the required libraries, set environment variables and environment paths (if required).</p>"
   ]
  },
  {
   "cell_type": "code",
   "execution_count": null,
   "id": "39e495ff-d24d-4f26-84d3-9192ae149dc1",
   "metadata": {
    "tags": []
   },
   "outputs": [],
   "source": [
    "# Data manipulation and analysis\n",
    "import numpy as np\n",
    "import pandas as pd\n",
    "\n",
    "# Progress bar\n",
    "from tqdm import tqdm\n",
    "\n",
    "# User input\n",
    "import getpass\n",
    "\n",
    "# Teradata utilities\n",
    "from teradataml import *\n",
    "\n",
    "# OpenAI API\n",
    "import openai\n",
    "from openai import OpenAI\n",
    "\n",
    "# Display settings\n",
    "display.max_rows = 5\n",
    "pd.set_option('display.max_colwidth', None)"
   ]
  },
  {
   "cell_type": "markdown",
   "id": "36286ba3-9b9a-49de-abab-fa821d16adf9",
   "metadata": {},
   "source": [
    "<hr style=\"height:2px;border:none;background-color:#00233C;\">\n",
    "<b style = 'font-size:20px;font-family:Arial;color:#00233C'>2. Configuring OpenAI Model</b>\n",
    "<p style = 'font-size:16px;font-family:Arial;color:#00233C'>The following cell will prompt us for the following information:</p>\n",
    "<ul style = 'font-size:16px;font-family:Arial;color:#00233C'>\n",
    "<li><b>OpenAI API Key</b>: Enter your OpenAI API Key</li>\n",
    "<ul>"
   ]
  },
  {
   "cell_type": "code",
   "execution_count": null,
   "id": "145fbb61-8ee8-4b4b-9b68-0748eb0f0f90",
   "metadata": {
    "tags": []
   },
   "outputs": [],
   "source": [
    "# Prompt user for OpenAI API key securely\n",
    "openai.api_key = getpass.getpass(prompt=\"\\nPlease enter your OpenAI API key: \")"
   ]
  },
  {
   "cell_type": "markdown",
   "id": "a97854ce-f934-438a-935d-0d6cf0470541",
   "metadata": {},
   "source": [
    "<hr style=\"height:1px;border:none;background-color:#00233C;\">\n",
    "<b style = 'font-size:18px;font-family:Arial;color:#00233C'>2.1 Initialize the OpenAI Model</b>\n",
    "<ul style = 'font-size:16px;font-family:Arial;color:#00233C'>\n",
    "<li>The code below initializes a OpenAI client.</li>\n",
    "</ul>"
   ]
  },
  {
   "cell_type": "code",
   "execution_count": null,
   "id": "00636e83-ffec-4415-9309-4b025bbb0276",
   "metadata": {
    "tags": []
   },
   "outputs": [],
   "source": [
    "client = OpenAI(\n",
    "    api_key = openai.api_key\n",
    ")"
   ]
  },
  {
   "cell_type": "markdown",
   "id": "d4bbf63f-b3b7-4668-b48f-fc5513c7f19d",
   "metadata": {},
   "source": [
    "<hr style=\"height:2px;border:none;background-color:#00233C;\">\n",
    "<b style = 'font-size:20px;font-family:Arial;color:#00233C'>3. Speech Analysis</b>\n",
    "<p style = 'font-size:16px;font-family:Arial;color:#00233C'>The following cell defines a prompt that instructs the LLM on steps to be performed.</p>"
   ]
  },
  {
   "cell_type": "code",
   "execution_count": null,
   "id": "57cbc048-f369-4c8a-b1d4-9826743bd34f",
   "metadata": {
    "tags": []
   },
   "outputs": [],
   "source": [
    "prompt = '''\n",
    "    review: “{}”\n",
    "    Analyze the given review to extract relevant information and categorize it accordingly. Follow these steps, providing reasoning for each task:\n",
    "\n",
    "    Complaint Categorization: Determine whether the review is a complaint or a non-complaint. A complaint is typically a statement expressing dissatisfaction or grievance, while a non-complaint does not contain such elements. Explain why you categorized it this way.\n",
    "\n",
    "    Topic Classification: If the review is a complaint, identify the most appropriate topic from the following list:\n",
    "        Mortgage Application\n",
    "        Payment Trouble\n",
    "        Mortgage Closing\n",
    "        Report Inaccuracy\n",
    "        Payment Struggle\n",
    "        Select only one topic based on the central issue or subject of the complaint. Explain the reasoning behind your choice of topic.\n",
    "\n",
    "    Sentiment Analysis: Determine the sentiment of the review, which can be:\n",
    "        Positive\n",
    "        Negative\n",
    "        Neutral\n",
    "        Sentiment refers to the emotional tone or attitude conveyed in the review. Describe the reasoning behind the sentiment you identified.\n",
    "\n",
    "    Summarization: Summarize the review in one sentence. A good summary should capture the essence of the review, highlighting the main point or issue. Explain the key elements that formed the basis of your summary.\n",
    "\n",
    "    Return your results in the following format. Only keep the headings in bold:\n",
    "\n",
    "    #### Complaint:\n",
    "    - [Provide the raw complaint from the input.]\n",
    "\n",
    "    #### Classification:\n",
    "    - [Specify whether it's a Complaint or Non-Complaint]\n",
    "      - **Reasoning with Chain-of-Thought**: [Explain the reasoning behind the classification.]\n",
    "\n",
    "    #### Topic:\n",
    "    - [Specify the relevant topic]\n",
    "      - **Reasoning with Chain-of-Thought**: [Provide additional context or reasoning related to the topic.]\n",
    "\n",
    "    #### Sentiment:\n",
    "    - [Specify the sentiment (e.g., Positive, Negative, Neutral)]\n",
    "      - **Reasoning with Chain-of-Thought**: [Explain the rationale for the sentiment.]\n",
    "\n",
    "    #### Summary:\n",
    "    - [Summarize the complaint in a concise sentence]\n",
    "      - **Reasoning with Chain-of-Thought**: [Include any relevant reasoning or context for the summary.]\n",
    "'''"
   ]
  },
  {
   "cell_type": "markdown",
   "id": "84ad4bf2-f81b-43cb-a4cc-5e6670ff6c3f",
   "metadata": {
    "execution": {
     "iopub.execute_input": "2024-08-12T10:55:31.779304Z",
     "iopub.status.busy": "2024-08-12T10:55:31.778974Z",
     "iopub.status.idle": "2024-08-12T10:55:31.785980Z",
     "shell.execute_reply": "2024-08-12T10:55:31.784985Z",
     "shell.execute_reply.started": "2024-08-12T10:55:31.779270Z"
    },
    "tags": []
   },
   "source": [
    "<p style = 'font-size:16px;font-family:Arial;color:#00233C'>The following cell will transcribe the audio files using OpenAI <b>whisper-1</b> LLM model and call then call OpenAI <b>gpt-4o-mini</b> LLM to perform Complaint Analysis on it.</p>"
   ]
  },
  {
   "cell_type": "code",
   "execution_count": null,
   "id": "3209a7e5-7511-4695-90ab-3ba2ad047bde",
   "metadata": {
    "tags": []
   },
   "outputs": [],
   "source": [
    "from IPython.display import display, Markdown, Audio, HTML\n",
    "\n",
    "for file_name in sorted(os.listdir('./audio_files/')):\n",
    "    audio_file= open(f\"./audio_files/{file_name}\", \"rb\")\n",
    "\n",
    "    transcription = client.audio.transcriptions.create(\n",
    "      model = \"whisper-1\",\n",
    "      file = audio_file\n",
    "    )\n",
    "\n",
    "    completion = client.chat.completions.create(\n",
    "        model=\"gpt-4o-mini\",\n",
    "        messages=[\n",
    "            {\"role\": \"system\", \"content\": \"You are an assistant that analyzes a given review as per the instructions.\"},\n",
    "            {\"role\": \"user\", \"content\": prompt.format(transcription.text)}\n",
    "        ]\n",
    "    )\n",
    "    output = completion.choices[0].message.content\n",
    "\n",
    "    # Description HTML content\n",
    "    desc = f'''<hr style=\"height:1px;border:none;background-color:#00233C;\">\n",
    "               <p style='font-size:18px;font-family:Arial;color:#00233C'><b>For file: {file_name}</b></p>'''\n",
    "\n",
    "    # Create the HTML, audio, and markdown objects\n",
    "    desc_display = HTML(desc)\n",
    "    audio_display = Audio(f\"./audio_files/{file_name}\")\n",
    "    markdown_display = Markdown(output)\n",
    "\n",
    "    # Display all elements in a single output\n",
    "    display(desc_display, audio_display, markdown_display)"
   ]
  },
  {
   "cell_type": "markdown",
   "id": "50c05788-5048-42fd-8327-ae8e1c52e114",
   "metadata": {},
   "source": [
    "<footer style=\"padding-bottom:35px; background:#f9f9f9; border-bottom:3px solid #00233C\">\n",
    "    <div style=\"float:left;margin-top:14px\">ClearScape Analytics™</div>\n",
    "    <div style=\"float:right;\">\n",
    "        <div style=\"float:left; margin-top:14px\">\n",
    "            Copyright © Teradata Corporation - 2024. All Rights Reserved\n",
    "        </div>\n",
    "    </div>\n",
    "</footer>"
   ]
  }
 ],
 "metadata": {
  "kernelspec": {
   "display_name": "Python 3 (ipykernel)",
   "language": "python",
   "name": "python3"
  },
  "language_info": {
   "codemirror_mode": {
    "name": "ipython",
    "version": 3
   },
   "file_extension": ".py",
   "mimetype": "text/x-python",
   "name": "python",
   "nbconvert_exporter": "python",
   "pygments_lexer": "ipython3",
   "version": "3.9.10"
  }
 },
 "nbformat": 4,
 "nbformat_minor": 5
}
