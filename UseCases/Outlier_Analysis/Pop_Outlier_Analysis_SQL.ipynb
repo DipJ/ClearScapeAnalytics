{
 "cells": [
  {
   "cell_type": "markdown",
   "metadata": {},
   "source": [
    "<header style=\"padding:10px;background:#f9f9f9;border-top:3px solid #00b2b1\"><img id=\"Teradata-logo\" src=\"https://www.teradata.com/Teradata/Images/Rebrand/Teradata_logo-two_color.png\" alt=\"Teradata\" width=\"220\" align=\"right\" />\n",
    "\n",
    "<p style = 'font-size:28px;font-family:Arial;color:#E37C4D'><b>Outlier Analysis</b></p>\n",
    "</header>\n",
    "<hr>"
   ]
  },
  {
   "cell_type": "markdown",
   "metadata": {},
   "source": [
    "<br>\n",
    "<b style = 'font-size:20px;font-family:Arial;color:#E37C4D'>Introduction:</b>\n",
    "<p style = 'font-size:16px;font-family:Arial'>An outlier is a data point that is significantly different from other data points in a dataset. Outlier removal is important because outliers can skew the overall analysis and conclusions drawn from a dataset, leading to inaccurate results. By removing outliers, the data can better represent the majority of the dataset and improve the accuracy of the analysis.</p>\n",
    "\n",
    "<!-- <p style = 'font-size:16px;font-family:Arial'>In the typical process for creating Machine Learning models, a significant amount of time is spent on data preparation and feature selection.  Data scientists and engineers will typically copy data to a tool of choice or data virtualization to perform these tasks.  Moving this data to these tools is impossible at a sufficient scale reflecting typical production volumes.  Even if we can transfer data to another system, the resource requirements to process and analyze this data becomes prohibitively large or expensive.</p>\n",
    " -->\n",
    "<p style = 'font-size:16px;font-family:Arial'>The following demonstration will illustrate using native Vantage SQL functions that can provide greater efficiency, ease of use, and the ability to process data at an extreme scale.  Additionally, a new SQL function <b>TD_ColumnTransformer</b> can create a single, efficient data transformation pipeline.</p>\n",
    "\n",
    "<p style = 'font-size:16px;font-family:Arial'>The data for this demonstration consists of New York City taxi trip data and includes 500,000 rows with fare amount, passenger count, and pickup and dropoff latitude/longitude.  The demonstration illustrates various functions for data exploration and outlier removal.  The steps in this demo are as follows:</p>\n",
    "\n",
    "<ol style = 'font-size:16px;font-family:Arial'>\n",
    "    <li>Perform statistical analysis on the whole data set</li>\n",
    "    <li>Identify outliers and abnormal data distribution</li>\n",
    "    <li>Remove outliers and review data</li>\n",
    "    <li>Perform Bin Coding and Column Transformation to combine Feature Engineering steps</li>\n",
    "    </ol>\n",
    "\n",
    "<img src = 'images/Flow_Diagram_Outlier.png' width=100%>"
   ]
  },
  {
   "cell_type": "markdown",
   "metadata": {},
   "source": [
    "<hr>\n",
    "<b style = 'font-size:28px;font-family:Arial;color:#E37C4D'>1. Connect to Vantage</b>\n",
    "<p style = 'font-size:16px;font-family:Arial'>You will be prompted to provide the password. Enter your password, press Enter, then use down arrow to go to next cell.</p>"
   ]
  },
  {
   "cell_type": "code",
   "execution_count": 1,
   "metadata": {},
   "outputs": [
    {
     "name": "stdin",
     "output_type": "stream",
     "text": [
      "Password: ········\n"
     ]
    },
    {
     "name": "stdout",
     "output_type": "stream",
     "text": [
      "Success: 'local' connection established and activated for user 'demo_user', with default database 'demo_user'\n"
     ]
    }
   ],
   "source": [
    "%connect local, hidewarnings=true"
   ]
  },
  {
   "cell_type": "markdown",
   "metadata": {},
   "source": [
    "<p style = 'font-size:16px;font-family:Arial'>Setup for execution of notebook. Begin running steps with Shift + Enter keys.</p>\n"
   ]
  },
  {
   "cell_type": "code",
   "execution_count": 2,
   "metadata": {},
   "outputs": [
    {
     "data": {
      "text/plain": [
       "Success: 1 rows affected"
      ]
     },
     "execution_count": 2,
     "metadata": {
      "application/vnd.teradata.resultset": ""
     },
     "output_type": "execute_result"
    }
   ],
   "source": [
    "SET query_band='DEMO=Outlier_Analysis_Transformation.ipynb;' update for session;"
   ]
  },
  {
   "cell_type": "markdown",
   "metadata": {},
   "source": [
    "<b style = 'font-size:20px;font-family:Arial;color:#E37C4D'>Getting Data for This Demo</b>\n",
    "<p style = 'font-size:16px;font-family:Arial'>We have provided data for this demo on cloud storage.  You have the option of either running the demo using foreign tables to access the data without using any storage on your environment or downloading the data to local storage which may yield somewhat faster execution, but there could be considerations of available storage.  There are two statements in the following cell, and one is commented out.  You may switch which mode you choose by changing the comment string. \n"
   ]
  },
  {
   "cell_type": "code",
   "execution_count": 3,
   "metadata": {},
   "outputs": [
    {
     "data": {
      "text/plain": [
       "Success: 0 rows affected"
      ]
     },
     "execution_count": 3,
     "metadata": {
      "application/vnd.teradata.resultset": ""
     },
     "output_type": "execute_result"
    },
    {
     "data": {
      "text/plain": [
       "Success: 0 rows affected"
      ]
     },
     "execution_count": 3,
     "metadata": {
      "application/vnd.teradata.resultset": ""
     },
     "output_type": "execute_result"
    },
    {
     "data": {
      "application/vnd.teradata.resultset": "\"Message\"\n\"That ran for   0:00:53.76 with 15 statements and 0 errors. \"",
      "text/html": [
       "<div class = \"td-resultset-table-div\" style = \"max-height: 100%; overflow-y: auto\">\n",
       "      <table class=\"tdhistory965984\"><style>\n",
       "      table.tdhistory965984 { display: block !important; min-height: 105px !important; overflow: auto !important; height: 105px !important; width: 100% !important; border: 1px solid rgb(207, 207, 207) !important; border-collapse: collapse !important; ; color: var(--jp-ui-font-color1) !important; }\n",
       "      th.tdhistory965984 { border: 1px solid rgb(198,198,198) !important; border-collapse: collapse !important; ; padding: 2px 5px !important; ; font-size: 13px !important; ; text-align: center !important; white-space: normal !important; color: var(--jp-ui-font-color1) !important; }\n",
       "      th.tdhistory965984:last-child { text-align: left !important; }\n",
       "      tbody.tdhistory965984 tr:nth-child(even) { background: rgba(243, 243, 243, 0.75) !important; }\n",
       "      tbody.tdhistory965984 tr:nth-child(odd) { background: var(--jp-ui-inverse-font-color1) !important; }\n",
       "      td.tdhistory965984 { border: 1px solid rgb(207, 207, 207) !important; border-collapse: collapse !important; ; padding: 2px 5px !important; ; font-size: 13px !important; ; text-align: left !important;          white-space: nowrap !important; overflow:hidden !important; text-overflow:ellipsis !important;; }\n",
       "    </style><thead><tr style= \"background: rgba(243, 243, 243, 0.75)\"><th class=\"tdhistory965984\"></th><th class=\"tdhistory965984\">Message</th></tr></thead><tbody class=\"tdhistory965984 resultset-body\"><tr><th class=\"tdhistory965984\" style= \"background: rgba(243, 243, 243, 0.75)\">1</th><td class=\"tdhistory965984\">That ran for   0:00:53.76 with 15 statements and 0 errors. </td></tr></tbody></table></div>"
      ]
     },
     "execution_count": 3,
     "metadata": {
      "application/vnd.teradata.resultset": "{\"resultSetID\":\"/home/jovyan/JupyterLabRoot/Teradata/Resultsets/2023.07.13_11.53.25.913_UTC\",\"historyID\":168,\"chunkID\":\"00001\",\"sessionid\":\"\",\"portnum\":\"\",\"dockermode\":\"docker\",\"totalRowCount\":1,\"chunkCount\":0,\"rowLimit\":0,\"columnMetadata\":[{\"columnName\":\"Message\",\"columnTypeName\":\"VARCHAR\",\"length\":150,\"scale\":150}]}"
     },
     "output_type": "execute_result"
    }
   ],
   "source": [
    "-- CALL get_data('DEMO_NYCTaxi_cloud');    -- takes about 25 seconds, estimated space: 0 MB\n",
    "CALL get_data('DEMO_NYCTaxi_local');     -- takes about 1 minute 20 seconds, estimated space: 70 MB"
   ]
  },
  {
   "cell_type": "markdown",
   "metadata": {},
   "source": [
    "<p style = 'font-size:16px;font-family:Arial'>Optional step – if you want to see status of databases/tables created and space used.</p>\n"
   ]
  },
  {
   "cell_type": "code",
   "execution_count": 4,
   "metadata": {},
   "outputs": [
    {
     "data": {
      "text/plain": [
       "Success: 0 rows affected"
      ]
     },
     "execution_count": 4,
     "metadata": {
      "application/vnd.teradata.resultset": ""
     },
     "output_type": "execute_result"
    },
    {
     "data": {
      "text/plain": [
       "Success: 0 rows affected"
      ]
     },
     "execution_count": 4,
     "metadata": {
      "application/vnd.teradata.resultset": ""
     },
     "output_type": "execute_result"
    },
    {
     "data": {
      "application/vnd.teradata.resultset": "\"Space_Report\"\n\"You have:  #databases=2 #tables=22 #views=5  You have used 80.2 MB of 27,914.4 MB available - 0.3%  ... Space Usage OK\"\n\" \"\n\"   Database Name                  #tables  #views     Avail MB      Used MB\"\n\"   demo_user                           20       3  27,812.9 MB      11.3 MB \"\n\"   DEMO_NYCTaxi                         0       2       0.0 MB       0.0 MB \"\n\"   DEMO_NYCTaxi_db                      2       0     101.4 MB      68.9 MB \"",
      "text/html": [
       "<div class = \"td-resultset-table-div\" style = \"max-height: 100%; overflow-y: auto\">\n",
       "      <table class=\"tdhistory592445\"><style>\n",
       "      table.tdhistory592445 { display: block !important; min-height: 210px !important; overflow: auto !important; height: 210px !important; width: 100% !important; border: 1px solid rgb(207, 207, 207) !important; border-collapse: collapse !important; ; color: var(--jp-ui-font-color1) !important; }\n",
       "      th.tdhistory592445 { border: 1px solid rgb(198,198,198) !important; border-collapse: collapse !important; ; padding: 2px 5px !important; ; font-size: 13px !important; ; text-align: center !important; white-space: normal !important; color: var(--jp-ui-font-color1) !important; }\n",
       "      th.tdhistory592445:last-child { text-align: left !important; }\n",
       "      tbody.tdhistory592445 tr:nth-child(even) { background: rgba(243, 243, 243, 0.75) !important; }\n",
       "      tbody.tdhistory592445 tr:nth-child(odd) { background: var(--jp-ui-inverse-font-color1) !important; }\n",
       "      td.tdhistory592445 { border: 1px solid rgb(207, 207, 207) !important; border-collapse: collapse !important; ; padding: 2px 5px !important; ; font-size: 13px !important; ; text-align: left !important;          white-space: nowrap !important; overflow:hidden !important; text-overflow:ellipsis !important;; }\n",
       "    </style><thead><tr style= \"background: rgba(243, 243, 243, 0.75)\"><th class=\"tdhistory592445\"></th><th class=\"tdhistory592445\">Space_Report</th></tr></thead><tbody class=\"tdhistory592445 resultset-body\"><tr><th class=\"tdhistory592445\" style= \"background: rgba(243, 243, 243, 0.75)\">1</th><td class=\"tdhistory592445\">You have:  #databases=2 #tables=22 #views=5  You have used 80.2 MB of 27,914.4 MB available - 0.3%  ... Space Usage OK</td></tr><tr><th class=\"tdhistory592445\" style= \"background: rgba(243, 243, 243, 0.75)\">2</th><td class=\"tdhistory592445\"> </td></tr><tr><th class=\"tdhistory592445\" style= \"background: rgba(243, 243, 243, 0.75)\">3</th><td class=\"tdhistory592445\">   Database Name                  #tables  #views     Avail MB      Used MB</td></tr><tr><th class=\"tdhistory592445\" style= \"background: rgba(243, 243, 243, 0.75)\">4</th><td class=\"tdhistory592445\">   demo_user                           20       3  27,812.9 MB      11.3 MB </td></tr><tr><th class=\"tdhistory592445\" style= \"background: rgba(243, 243, 243, 0.75)\">5</th><td class=\"tdhistory592445\">   DEMO_NYCTaxi                         0       2       0.0 MB       0.0 MB </td></tr><tr><th class=\"tdhistory592445\" style= \"background: rgba(243, 243, 243, 0.75)\">6</th><td class=\"tdhistory592445\">   DEMO_NYCTaxi_db                      2       0     101.4 MB      68.9 MB </td></tr></tbody></table></div>"
      ]
     },
     "execution_count": 4,
     "metadata": {
      "application/vnd.teradata.resultset": "{\"resultSetID\":\"/home/jovyan/JupyterLabRoot/Teradata/Resultsets/2023.07.13_11.53.27.986_UTC\",\"historyID\":169,\"chunkID\":\"00001\",\"sessionid\":\"\",\"portnum\":\"\",\"dockermode\":\"docker\",\"totalRowCount\":6,\"chunkCount\":0,\"rowLimit\":0,\"columnMetadata\":[{\"columnName\":\"Space_Report\",\"columnTypeName\":\"VARCHAR\",\"length\":150,\"scale\":150}]}"
     },
     "output_type": "execute_result"
    }
   ],
   "source": [
    "CALL space_report();  -- optional, takes about 10 seconds"
   ]
  },
  {
   "cell_type": "markdown",
   "metadata": {},
   "source": [
    "<hr>\n",
    "<b style = 'font-size:28px;font-family:Arial;color:#E37C4D'>2. Statistical Analysis</b>\n",
    "\n",
    "<ol style = 'font-size:16px;font-family:Arial'>\n",
    "    <li>Inspect the data</li>\n",
    "    <li>Call TD_UnivariateStatistics function to gather statistics</li>\n",
    "    <li>Pivot and select outlier stats</li>\n",
    "    </ol>"
   ]
  },
  {
   "cell_type": "markdown",
   "metadata": {},
   "source": [
    "<hr>\n",
    "<p style = 'font-size:18px;font-family:Arial;color:#E37C4D'><b>2.1 Inspect the Data</b></p>\n",
    "<p style = 'font-size:16px;font-family:Arial'>As a warm-up, let us look at the tables in our database DEMO_NYCTaxi.</p>       "
   ]
  },
  {
   "cell_type": "code",
   "execution_count": 5,
   "metadata": {},
   "outputs": [
    {
     "data": {
      "application/vnd.teradata.resultset": "\"DatabaseName\",\"TableName\"\n\"DEMO_NYCTaxi                                                \",\"Trip_Fare                                                   \"\n\"DEMO_NYCTaxi                                                \",\"Trip                                                        \"",
      "text/html": [
       "<div class = \"td-resultset-table-div\" style = \"max-height: 100%; overflow-y: auto\">\n",
       "      <table class=\"tdhistory74297\"><style>\n",
       "      table.tdhistory74297 { display: block !important; min-height: 126px !important; overflow: auto !important; height: 126px !important; width: 100% !important; border: 1px solid rgb(207, 207, 207) !important; border-collapse: collapse !important; ; color: var(--jp-ui-font-color1) !important; }\n",
       "      th.tdhistory74297 { border: 1px solid rgb(198,198,198) !important; border-collapse: collapse !important; ; padding: 2px 5px !important; ; font-size: 13px !important; ; text-align: center !important; white-space: normal !important; color: var(--jp-ui-font-color1) !important; }\n",
       "      th.tdhistory74297:last-child { text-align: left !important; }\n",
       "      tbody.tdhistory74297 tr:nth-child(even) { background: rgba(243, 243, 243, 0.75) !important; }\n",
       "      tbody.tdhistory74297 tr:nth-child(odd) { background: var(--jp-ui-inverse-font-color1) !important; }\n",
       "      td.tdhistory74297 { border: 1px solid rgb(207, 207, 207) !important; border-collapse: collapse !important; ; padding: 2px 5px !important; ; font-size: 13px !important; ; text-align: left !important;          white-space: nowrap !important; overflow:hidden !important; text-overflow:ellipsis !important;; }\n",
       "    </style><thead><tr style= \"background: rgba(243, 243, 243, 0.75)\"><th class=\"tdhistory74297\"></th><th class=\"tdhistory74297\">DatabaseName</th><th class=\"tdhistory74297\">TableName</th></tr></thead><tbody class=\"tdhistory74297 resultset-body\"><tr><th class=\"tdhistory74297\" style= \"background: rgba(243, 243, 243, 0.75)\">1</th><td class=\"tdhistory74297\">DEMO_NYCTaxi                                                </td><td class=\"tdhistory74297\">Trip_Fare                                                   </td></tr><tr><th class=\"tdhistory74297\" style= \"background: rgba(243, 243, 243, 0.75)\">2</th><td class=\"tdhistory74297\">DEMO_NYCTaxi                                                </td><td class=\"tdhistory74297\">Trip                                                        </td></tr></tbody></table></div>"
      ]
     },
     "execution_count": 5,
     "metadata": {
      "application/vnd.teradata.resultset": "{\"resultSetID\":\"/home/jovyan/JupyterLabRoot/Teradata/Resultsets/2023.07.13_11.53.28.143_UTC\",\"historyID\":170,\"chunkID\":\"00001\",\"sessionid\":\"\",\"portnum\":\"\",\"dockermode\":\"docker\",\"totalRowCount\":2,\"chunkCount\":0,\"rowLimit\":0,\"columnMetadata\":[{\"columnName\":\"DatabaseName\",\"columnTypeName\":\"CHAR\",\"length\":30,\"scale\":30},{\"columnNumber\":1,\"columnName\":\"TableName\",\"columnTypeName\":\"CHAR\",\"length\":30,\"scale\":30}]}"
     },
     "output_type": "execute_result"
    }
   ],
   "source": [
    "SELECT \n",
    "    DatabaseName,\n",
    "    TableName\n",
    "FROM\n",
    "    DBC.Tables\n",
    "WHERE\n",
    "    DatabaseName = 'DEMO_NYCTaxi'"
   ]
  },
  {
   "cell_type": "markdown",
   "metadata": {},
   "source": [
    "<p style = 'font-size:16px;font-family:Arial'>The query below shows the number of rows in each of the tables in the database.</p>"
   ]
  },
  {
   "cell_type": "code",
   "execution_count": 6,
   "metadata": {},
   "outputs": [
    {
     "data": {
      "application/vnd.teradata.resultset": "\"trip\",\"trip_fare\"\n\"480535\",\"473151\"",
      "text/html": [
       "<div class = \"td-resultset-table-div\" style = \"max-height: 100%; overflow-y: auto\">\n",
       "      <table class=\"tdhistory199538\"><style>\n",
       "      table.tdhistory199538 { display: block !important; min-height: 105px !important; overflow: auto !important; height: 105px !important; width: 100% !important; border: 1px solid rgb(207, 207, 207) !important; border-collapse: collapse !important; ; color: var(--jp-ui-font-color1) !important; }\n",
       "      th.tdhistory199538 { border: 1px solid rgb(198,198,198) !important; border-collapse: collapse !important; ; padding: 2px 5px !important; ; font-size: 13px !important; ; text-align: center !important; white-space: normal !important; color: var(--jp-ui-font-color1) !important; }\n",
       "      th.tdhistory199538:last-child { text-align: left !important; }\n",
       "      tbody.tdhistory199538 tr:nth-child(even) { background: rgba(243, 243, 243, 0.75) !important; }\n",
       "      tbody.tdhistory199538 tr:nth-child(odd) { background: var(--jp-ui-inverse-font-color1) !important; }\n",
       "      td.tdhistory199538 { border: 1px solid rgb(207, 207, 207) !important; border-collapse: collapse !important; ; padding: 2px 5px !important; ; font-size: 13px !important; ; text-align: left !important;          white-space: nowrap !important; overflow:hidden !important; text-overflow:ellipsis !important;; }\n",
       "    </style><thead><tr style= \"background: rgba(243, 243, 243, 0.75)\"><th class=\"tdhistory199538\"></th><th class=\"tdhistory199538\">trip</th><th class=\"tdhistory199538\">trip_fare</th></tr></thead><tbody class=\"tdhistory199538 resultset-body\"><tr><th class=\"tdhistory199538\" style= \"background: rgba(243, 243, 243, 0.75)\">1</th><td class=\"tdhistory199538\">480535</td><td class=\"tdhistory199538\">473151</td></tr></tbody></table></div>"
      ]
     },
     "execution_count": 6,
     "metadata": {
      "application/vnd.teradata.resultset": "{\"resultSetID\":\"/home/jovyan/JupyterLabRoot/Teradata/Resultsets/2023.07.13_11.53.28.339_UTC\",\"historyID\":171,\"chunkID\":\"00001\",\"sessionid\":\"\",\"portnum\":\"\",\"dockermode\":\"docker\",\"totalRowCount\":1,\"chunkCount\":0,\"rowLimit\":0,\"columnMetadata\":[{\"columnName\":\"trip\",\"columnTypeName\":\"INTEGER\"},{\"columnNumber\":1,\"columnName\":\"trip_fare\",\"columnTypeName\":\"INTEGER\"}]}"
     },
     "output_type": "execute_result"
    }
   ],
   "source": [
    "SELECT\n",
    "(\n",
    "    SELECT COUNT(*)\n",
    "    FROM DEMO_NYCTaxi.trip\n",
    ") AS trip,\n",
    "(\n",
    "    SELECT COUNT(*)\n",
    "    FROM DEMO_NYCTaxi.trip_fare\n",
    ") AS trip_fare;"
   ]
  },
  {
   "cell_type": "markdown",
   "metadata": {},
   "source": [
    "<p style = 'font-size:16px;font-family:Arial'>Let's look at the sample data from trip and trip_fare tables.</p>"
   ]
  },
  {
   "cell_type": "code",
   "execution_count": 7,
   "metadata": {},
   "outputs": [
    {
     "data": {
      "application/vnd.teradata.resultset": "\"medallion\",\"hack_license\",\"vendor_id\",\"rate_code\",\"store_and_fwd_flag\",\"pickup_datetime\",\"dropoff_datetime\",\"passenger_count\",\"trip_time_in_secs\",\"trip_distance\",\"pickup_longitude\",\"pickup_latitude\",\"dropoff_longitude\",\"dropoff_latitude\"\n\"D93C9B85BF766435B7711C16DA556792\",\"07037577036DFF8546BE3638F4B90541\",\"VTS\",\"1\",\"\",\"2013-11-09 19:08:00.000000\",\"2013-11-09 19:27:00.000000\",\"1\",\"1140\",\"5.59\",\"-73.979134\",\"40.728092\",\"-73.966309\",\"40.789864\"\n\"BE2FECC90EEAEA44A97897BDFB3A14E4\",\"8D54A8FD5FD884D833310168F5E1056F\",\"VTS\",\"1\",\"\",\"2013-11-10 05:38:00.000000\",\"2013-11-10 05:46:00.000000\",\"5\",\"480\",\"2.18\",\"-73.949097\",\"40.828537\",\"-73.952888\",\"40.802887\"\n\"B685F8B1CD40C96AD9C3876B904609B2\",\"2003B45CB4AEB9EEE19D976C61E408A5\",\"VTS\",\"1\",\"\",\"2013-11-10 03:23:00.000000\",\"2013-11-10 03:43:00.000000\",\"1\",\"1200\",\"10.52\",\"-73.97892\",\"40.762482\",\"-73.870979\",\"40.77412\"\n\"83D30B1DDEB63761051E96590CE912D9\",\"1DB1792CA46C5A19729DF7B9A26C3766\",\"CMT\",\"1\",\"N \",\"2013-11-10 17:01:05.000000\",\"2013-11-10 17:05:30.000000\",\"1\",\"264\",\"1.3\",\"-73.985062\",\"40.768986\",\"-73.973625\",\"40.757587\"\n\"B09CBB3A924A4E59F80E41E8DE9AED49\",\"4D74C0974ACFC69FC64F380C53F281E7\",\"VTS\",\"1\",\"\",\"2013-11-10 05:53:00.000000\",\"2013-11-10 06:02:00.000000\",\"5\",\"540\",\"1.51\",\"-73.981056\",\"40.764767\",\"-74.00071\",\"40.758202\"",
      "text/html": [
       "<div class = \"td-resultset-table-div\" style = \"max-height: 100%; overflow-y: auto\">\n",
       "      <table class=\"tdhistory254028\"><style>\n",
       "      table.tdhistory254028 { display: block !important; min-height: 189px !important; overflow: auto !important; height: 189px !important; width: 100% !important; border: 1px solid rgb(207, 207, 207) !important; border-collapse: collapse !important; ; color: var(--jp-ui-font-color1) !important; }\n",
       "      th.tdhistory254028 { border: 1px solid rgb(198,198,198) !important; border-collapse: collapse !important; ; padding: 2px 5px !important; ; font-size: 13px !important; ; text-align: center !important; white-space: normal !important; color: var(--jp-ui-font-color1) !important; }\n",
       "      th.tdhistory254028:last-child { text-align: left !important; }\n",
       "      tbody.tdhistory254028 tr:nth-child(even) { background: rgba(243, 243, 243, 0.75) !important; }\n",
       "      tbody.tdhistory254028 tr:nth-child(odd) { background: var(--jp-ui-inverse-font-color1) !important; }\n",
       "      td.tdhistory254028 { border: 1px solid rgb(207, 207, 207) !important; border-collapse: collapse !important; ; padding: 2px 5px !important; ; font-size: 13px !important; ; text-align: left !important;          white-space: nowrap !important; overflow:hidden !important; text-overflow:ellipsis !important;; }\n",
       "    </style><thead><tr style= \"background: rgba(243, 243, 243, 0.75)\"><th class=\"tdhistory254028\"></th><th class=\"tdhistory254028\">medallion</th><th class=\"tdhistory254028\">hack_license</th><th class=\"tdhistory254028\">vendor_id</th><th class=\"tdhistory254028\">rate_code</th><th class=\"tdhistory254028\">store_and_fwd_flag</th><th class=\"tdhistory254028\">pickup_datetime</th><th class=\"tdhistory254028\">dropoff_datetime</th><th class=\"tdhistory254028\">passenger_count</th><th class=\"tdhistory254028\">trip_time_in_secs</th><th class=\"tdhistory254028\">trip_distance</th><th class=\"tdhistory254028\">pickup_longitude</th><th class=\"tdhistory254028\">pickup_latitude</th><th class=\"tdhistory254028\">dropoff_longitude</th><th class=\"tdhistory254028\">dropoff_latitude</th></tr></thead><tbody class=\"tdhistory254028 resultset-body\"><tr><th class=\"tdhistory254028\" style= \"background: rgba(243, 243, 243, 0.75)\">1</th><td class=\"tdhistory254028\">D93C9B85BF766435B7711C16DA556792</td><td class=\"tdhistory254028\">07037577036DFF8546BE3638F4B90541</td><td class=\"tdhistory254028\">VTS</td><td class=\"tdhistory254028\">1</td><td class=\"tdhistory254028\"></td><td class=\"tdhistory254028\">2013-11-09 19:08:00.000000</td><td class=\"tdhistory254028\">2013-11-09 19:27:00.000000</td><td class=\"tdhistory254028\">1</td><td class=\"tdhistory254028\">1140</td><td class=\"tdhistory254028\">5.59</td><td class=\"tdhistory254028\">-73.979134</td><td class=\"tdhistory254028\">40.728092</td><td class=\"tdhistory254028\">-73.966309</td><td class=\"tdhistory254028\">40.789864</td></tr><tr><th class=\"tdhistory254028\" style= \"background: rgba(243, 243, 243, 0.75)\">2</th><td class=\"tdhistory254028\">BE2FECC90EEAEA44A97897BDFB3A14E4</td><td class=\"tdhistory254028\">8D54A8FD5FD884D833310168F5E1056F</td><td class=\"tdhistory254028\">VTS</td><td class=\"tdhistory254028\">1</td><td class=\"tdhistory254028\"></td><td class=\"tdhistory254028\">2013-11-10 05:38:00.000000</td><td class=\"tdhistory254028\">2013-11-10 05:46:00.000000</td><td class=\"tdhistory254028\">5</td><td class=\"tdhistory254028\">480</td><td class=\"tdhistory254028\">2.18</td><td class=\"tdhistory254028\">-73.949097</td><td class=\"tdhistory254028\">40.828537</td><td class=\"tdhistory254028\">-73.952888</td><td class=\"tdhistory254028\">40.802887</td></tr><tr><th class=\"tdhistory254028\" style= \"background: rgba(243, 243, 243, 0.75)\">3</th><td class=\"tdhistory254028\">B685F8B1CD40C96AD9C3876B904609B2</td><td class=\"tdhistory254028\">2003B45CB4AEB9EEE19D976C61E408A5</td><td class=\"tdhistory254028\">VTS</td><td class=\"tdhistory254028\">1</td><td class=\"tdhistory254028\"></td><td class=\"tdhistory254028\">2013-11-10 03:23:00.000000</td><td class=\"tdhistory254028\">2013-11-10 03:43:00.000000</td><td class=\"tdhistory254028\">1</td><td class=\"tdhistory254028\">1200</td><td class=\"tdhistory254028\">10.52</td><td class=\"tdhistory254028\">-73.97892</td><td class=\"tdhistory254028\">40.762482</td><td class=\"tdhistory254028\">-73.870979</td><td class=\"tdhistory254028\">40.77412</td></tr><tr><th class=\"tdhistory254028\" style= \"background: rgba(243, 243, 243, 0.75)\">4</th><td class=\"tdhistory254028\">83D30B1DDEB63761051E96590CE912D9</td><td class=\"tdhistory254028\">1DB1792CA46C5A19729DF7B9A26C3766</td><td class=\"tdhistory254028\">CMT</td><td class=\"tdhistory254028\">1</td><td class=\"tdhistory254028\">N </td><td class=\"tdhistory254028\">2013-11-10 17:01:05.000000</td><td class=\"tdhistory254028\">2013-11-10 17:05:30.000000</td><td class=\"tdhistory254028\">1</td><td class=\"tdhistory254028\">264</td><td class=\"tdhistory254028\">1.3</td><td class=\"tdhistory254028\">-73.985062</td><td class=\"tdhistory254028\">40.768986</td><td class=\"tdhistory254028\">-73.973625</td><td class=\"tdhistory254028\">40.757587</td></tr><tr><th class=\"tdhistory254028\" style= \"background: rgba(243, 243, 243, 0.75)\">5</th><td class=\"tdhistory254028\">B09CBB3A924A4E59F80E41E8DE9AED49</td><td class=\"tdhistory254028\">4D74C0974ACFC69FC64F380C53F281E7</td><td class=\"tdhistory254028\">VTS</td><td class=\"tdhistory254028\">1</td><td class=\"tdhistory254028\"></td><td class=\"tdhistory254028\">2013-11-10 05:53:00.000000</td><td class=\"tdhistory254028\">2013-11-10 06:02:00.000000</td><td class=\"tdhistory254028\">5</td><td class=\"tdhistory254028\">540</td><td class=\"tdhistory254028\">1.51</td><td class=\"tdhistory254028\">-73.981056</td><td class=\"tdhistory254028\">40.764767</td><td class=\"tdhistory254028\">-74.00071</td><td class=\"tdhistory254028\">40.758202</td></tr></tbody></table></div>"
      ]
     },
     "execution_count": 7,
     "metadata": {
      "application/vnd.teradata.resultset": "{\"resultSetID\":\"/home/jovyan/JupyterLabRoot/Teradata/Resultsets/2023.07.13_11.53.28.733_UTC\",\"historyID\":172,\"chunkID\":\"00001\",\"sessionid\":\"\",\"portnum\":\"\",\"dockermode\":\"docker\",\"totalRowCount\":5,\"chunkCount\":0,\"rowLimit\":0,\"columnMetadata\":[{\"columnName\":\"medallion\",\"columnTypeName\":\"VARCHAR\",\"length\":50,\"scale\":50},{\"columnNumber\":1,\"columnName\":\"hack_license\",\"columnTypeName\":\"VARCHAR\",\"length\":50,\"scale\":50},{\"columnNumber\":2,\"columnName\":\"vendor_id\",\"columnTypeName\":\"VARCHAR\",\"length\":10,\"scale\":10},{\"columnNumber\":3,\"columnName\":\"rate_code\",\"columnTypeName\":\"INTEGER\"},{\"columnNumber\":4,\"columnName\":\"store_and_fwd_flag\",\"columnTypeName\":\"CHAR\",\"length\":1,\"scale\":1},{\"columnNumber\":5,\"columnName\":\"pickup_datetime\",\"columnTypeName\":\"TIMESTAMP\",\"length\":6,\"scale\":6},{\"columnNumber\":6,\"columnName\":\"dropoff_datetime\",\"columnTypeName\":\"TIMESTAMP\",\"length\":6,\"scale\":6},{\"columnNumber\":7,\"columnName\":\"passenger_count\",\"columnTypeName\":\"SMALLINT\"},{\"columnNumber\":8,\"columnName\":\"trip_time_in_secs\",\"columnTypeName\":\"INTEGER\"},{\"columnNumber\":9,\"columnName\":\"trip_distance\",\"columnTypeName\":\"FLOAT\"},{\"columnNumber\":10,\"columnName\":\"pickup_longitude\",\"columnTypeName\":\"FLOAT\"},{\"columnNumber\":11,\"columnName\":\"pickup_latitude\",\"columnTypeName\":\"FLOAT\"},{\"columnNumber\":12,\"columnName\":\"dropoff_longitude\",\"columnTypeName\":\"FLOAT\"},{\"columnNumber\":13,\"columnName\":\"dropoff_latitude\",\"columnTypeName\":\"FLOAT\"}]}"
     },
     "output_type": "execute_result"
    }
   ],
   "source": [
    "SELECT * FROM DEMO_NYCTaxi.trip SAMPLE 5;"
   ]
  },
  {
   "cell_type": "code",
   "execution_count": 8,
   "metadata": {},
   "outputs": [
    {
     "data": {
      "application/vnd.teradata.resultset": "\"medallion\",\"hack_license\",\"vendor_id\",\"pickup_datetime\",\"payment_type\",\"fare_amount\",\"surcharge\",\"mta_tax\",\"tip_amount\",\"tolls_amount\",\"total_amount\"\n\"D3185D739F7471BFA3C8AF99912DF870\",\"E68526A7ACA09F05E50EF99992C84F1E\",\"CMT\",\"2013-11-10 07:38:58.000000\",\"CRD\",\"7.5\",\"0\",\"0.5\",\"1.6\",\"0\",\"9.6\"\n\"0B24B84044C6BD495B9B9C704BE18FFF\",\"608D3852BA3D23425D33F9F629E2E4DA\",\"VTS\",\"2013-11-10 18:33:00.000000\",\"CRD\",\"7.5\",\"0.5\",\"0.5\",\"1\",\"0\",\"9.5\"\n\"E1258EF6EBE8C3AE1BDEFBB282E8F51E\",\"C42A51C4FA022B9B5401AFFBA50DAA67\",\"CMT\",\"2013-11-09 20:16:26.000000\",\"CSH\",\"6.5\",\"0.5\",\"0.5\",\"0\",\"0\",\"7.5\"\n\"0A6716952AE1B7B1EB901776A8DB82C8\",\"60EBBCD334EE43E67C35522B24E3B249\",\"VTS\",\"2013-11-10 10:15:00.000000\",\"CRD\",\"7\",\"0\",\"0.5\",\"1.4\",\"0\",\"8.9\"\n\"ED7A06D80D0F51DA041E783E51F113EB\",\"20E7855D86C40A61F611564256A11CC1\",\"VTS\",\"2013-11-10 15:29:00.000000\",\"CRD\",\"52\",\"0\",\"0.5\",\"11.47\",\"5.33\",\"69.3\"",
      "text/html": [
       "<div class = \"td-resultset-table-div\" style = \"max-height: 100%; overflow-y: auto\">\n",
       "      <table class=\"tdhistory938855\"><style>\n",
       "      table.tdhistory938855 { display: block !important; min-height: 189px !important; overflow: auto !important; height: 189px !important; width: 100% !important; border: 1px solid rgb(207, 207, 207) !important; border-collapse: collapse !important; ; color: var(--jp-ui-font-color1) !important; }\n",
       "      th.tdhistory938855 { border: 1px solid rgb(198,198,198) !important; border-collapse: collapse !important; ; padding: 2px 5px !important; ; font-size: 13px !important; ; text-align: center !important; white-space: normal !important; color: var(--jp-ui-font-color1) !important; }\n",
       "      th.tdhistory938855:last-child { text-align: left !important; }\n",
       "      tbody.tdhistory938855 tr:nth-child(even) { background: rgba(243, 243, 243, 0.75) !important; }\n",
       "      tbody.tdhistory938855 tr:nth-child(odd) { background: var(--jp-ui-inverse-font-color1) !important; }\n",
       "      td.tdhistory938855 { border: 1px solid rgb(207, 207, 207) !important; border-collapse: collapse !important; ; padding: 2px 5px !important; ; font-size: 13px !important; ; text-align: left !important;          white-space: nowrap !important; overflow:hidden !important; text-overflow:ellipsis !important;; }\n",
       "    </style><thead><tr style= \"background: rgba(243, 243, 243, 0.75)\"><th class=\"tdhistory938855\"></th><th class=\"tdhistory938855\">medallion</th><th class=\"tdhistory938855\">hack_license</th><th class=\"tdhistory938855\">vendor_id</th><th class=\"tdhistory938855\">pickup_datetime</th><th class=\"tdhistory938855\">payment_type</th><th class=\"tdhistory938855\">fare_amount</th><th class=\"tdhistory938855\">surcharge</th><th class=\"tdhistory938855\">mta_tax</th><th class=\"tdhistory938855\">tip_amount</th><th class=\"tdhistory938855\">tolls_amount</th><th class=\"tdhistory938855\">total_amount</th></tr></thead><tbody class=\"tdhistory938855 resultset-body\"><tr><th class=\"tdhistory938855\" style= \"background: rgba(243, 243, 243, 0.75)\">1</th><td class=\"tdhistory938855\">D3185D739F7471BFA3C8AF99912DF870</td><td class=\"tdhistory938855\">E68526A7ACA09F05E50EF99992C84F1E</td><td class=\"tdhistory938855\">CMT</td><td class=\"tdhistory938855\">2013-11-10 07:38:58.000000</td><td class=\"tdhistory938855\">CRD</td><td class=\"tdhistory938855\">7.5</td><td class=\"tdhistory938855\">0</td><td class=\"tdhistory938855\">0.5</td><td class=\"tdhistory938855\">1.6</td><td class=\"tdhistory938855\">0</td><td class=\"tdhistory938855\">9.6</td></tr><tr><th class=\"tdhistory938855\" style= \"background: rgba(243, 243, 243, 0.75)\">2</th><td class=\"tdhistory938855\">0B24B84044C6BD495B9B9C704BE18FFF</td><td class=\"tdhistory938855\">608D3852BA3D23425D33F9F629E2E4DA</td><td class=\"tdhistory938855\">VTS</td><td class=\"tdhistory938855\">2013-11-10 18:33:00.000000</td><td class=\"tdhistory938855\">CRD</td><td class=\"tdhistory938855\">7.5</td><td class=\"tdhistory938855\">0.5</td><td class=\"tdhistory938855\">0.5</td><td class=\"tdhistory938855\">1</td><td class=\"tdhistory938855\">0</td><td class=\"tdhistory938855\">9.5</td></tr><tr><th class=\"tdhistory938855\" style= \"background: rgba(243, 243, 243, 0.75)\">3</th><td class=\"tdhistory938855\">E1258EF6EBE8C3AE1BDEFBB282E8F51E</td><td class=\"tdhistory938855\">C42A51C4FA022B9B5401AFFBA50DAA67</td><td class=\"tdhistory938855\">CMT</td><td class=\"tdhistory938855\">2013-11-09 20:16:26.000000</td><td class=\"tdhistory938855\">CSH</td><td class=\"tdhistory938855\">6.5</td><td class=\"tdhistory938855\">0.5</td><td class=\"tdhistory938855\">0.5</td><td class=\"tdhistory938855\">0</td><td class=\"tdhistory938855\">0</td><td class=\"tdhistory938855\">7.5</td></tr><tr><th class=\"tdhistory938855\" style= \"background: rgba(243, 243, 243, 0.75)\">4</th><td class=\"tdhistory938855\">0A6716952AE1B7B1EB901776A8DB82C8</td><td class=\"tdhistory938855\">60EBBCD334EE43E67C35522B24E3B249</td><td class=\"tdhistory938855\">VTS</td><td class=\"tdhistory938855\">2013-11-10 10:15:00.000000</td><td class=\"tdhistory938855\">CRD</td><td class=\"tdhistory938855\">7</td><td class=\"tdhistory938855\">0</td><td class=\"tdhistory938855\">0.5</td><td class=\"tdhistory938855\">1.4</td><td class=\"tdhistory938855\">0</td><td class=\"tdhistory938855\">8.9</td></tr><tr><th class=\"tdhistory938855\" style= \"background: rgba(243, 243, 243, 0.75)\">5</th><td class=\"tdhistory938855\">ED7A06D80D0F51DA041E783E51F113EB</td><td class=\"tdhistory938855\">20E7855D86C40A61F611564256A11CC1</td><td class=\"tdhistory938855\">VTS</td><td class=\"tdhistory938855\">2013-11-10 15:29:00.000000</td><td class=\"tdhistory938855\">CRD</td><td class=\"tdhistory938855\">52</td><td class=\"tdhistory938855\">0</td><td class=\"tdhistory938855\">0.5</td><td class=\"tdhistory938855\">11.47</td><td class=\"tdhistory938855\">5.33</td><td class=\"tdhistory938855\">69.3</td></tr></tbody></table></div>"
      ]
     },
     "execution_count": 8,
     "metadata": {
      "application/vnd.teradata.resultset": "{\"resultSetID\":\"/home/jovyan/JupyterLabRoot/Teradata/Resultsets/2023.07.13_11.53.28.841_UTC\",\"historyID\":173,\"chunkID\":\"00001\",\"sessionid\":\"\",\"portnum\":\"\",\"dockermode\":\"docker\",\"totalRowCount\":5,\"chunkCount\":0,\"rowLimit\":0,\"columnMetadata\":[{\"columnName\":\"medallion\",\"columnTypeName\":\"VARCHAR\",\"length\":50,\"scale\":50},{\"columnNumber\":1,\"columnName\":\"hack_license\",\"columnTypeName\":\"VARCHAR\",\"length\":50,\"scale\":50},{\"columnNumber\":2,\"columnName\":\"vendor_id\",\"columnTypeName\":\"VARCHAR\",\"length\":10,\"scale\":10},{\"columnNumber\":3,\"columnName\":\"pickup_datetime\",\"columnTypeName\":\"TIMESTAMP\",\"length\":6,\"scale\":6},{\"columnNumber\":4,\"columnName\":\"payment_type\",\"columnTypeName\":\"VARCHAR\",\"length\":10,\"scale\":10},{\"columnNumber\":5,\"columnName\":\"fare_amount\",\"columnTypeName\":\"FLOAT\"},{\"columnNumber\":6,\"columnName\":\"surcharge\",\"columnTypeName\":\"FLOAT\"},{\"columnNumber\":7,\"columnName\":\"mta_tax\",\"columnTypeName\":\"FLOAT\"},{\"columnNumber\":8,\"columnName\":\"tip_amount\",\"columnTypeName\":\"FLOAT\"},{\"columnNumber\":9,\"columnName\":\"tolls_amount\",\"columnTypeName\":\"FLOAT\"},{\"columnNumber\":10,\"columnName\":\"total_amount\",\"columnTypeName\":\"FLOAT\"}]}"
     },
     "output_type": "execute_result"
    }
   ],
   "source": [
    "SELECT * FROM DEMO_NYCTaxi.trip_fare SAMPLE 5;"
   ]
  },
  {
   "cell_type": "markdown",
   "metadata": {},
   "source": [
    "<p style = 'font-size:16px;font-family:Arial'>We are interested in the following columns from the above tables:</p>\n",
    "<ul style = 'font-size:16px;font-family:Arial'>\n",
    "    <li>pickup_datetime</li>\n",
    "    <li>passenger_count</li>\n",
    "    <li>pickup_latitude</li>\n",
    "    <li>pickup_longitude</li>\n",
    "    <li>dropoff_latitude</li>\n",
    "    <li>dropoff_longitude</li>\n",
    "    <li>total_amount</li>\n",
    "</ul>\n",
    "\n",
    "<p style = 'font-size:16px;font-family:Arial'>Hence, we create a table with the interested columns as follows:</p>"
   ]
  },
  {
   "cell_type": "code",
   "execution_count": 9,
   "metadata": {},
   "outputs": [
    {
     "data": {
      "text/plain": [
       "Success: 0 rows affected"
      ]
     },
     "execution_count": 9,
     "metadata": {
      "application/vnd.teradata.resultset": ""
     },
     "output_type": "execute_result"
    }
   ],
   "source": [
    "CREATE TABLE NYC_FULL_T AS (\n",
    "    SELECT t.pickup_datetime as pickup_datetime,\n",
    "    t.passenger_count as passenger_count,\n",
    "    t.pickup_latitude as pickup_latitude,\n",
    "    t.pickup_longitude as pickup_longitude,\n",
    "    t.dropoff_latitude as dropoff_latitude,\n",
    "    t.dropoff_longitude as dropoff_longitude,\n",
    "    f.total_amount as fare_amount\n",
    "FROM \"DEMO_NYCTaxi\".\"trip\" t\n",
    "LEFT JOIN \"DEMO_NYCTaxi\".\"trip_fare\" f\n",
    "    ON f.medallion = t.medallion\n",
    "    AND f.pickup_datetime = t.pickup_datetime) WITH DATA;"
   ]
  },
  {
   "cell_type": "code",
   "execution_count": 10,
   "metadata": {
    "tags": []
   },
   "outputs": [
    {
     "data": {
      "application/vnd.teradata.resultset": "\"Count(*)\"\n\"480493\"",
      "text/html": [
       "<div class = \"td-resultset-table-div\" style = \"max-height: 100%; overflow-y: auto\">\n",
       "      <table class=\"tdhistory783353\"><style>\n",
       "      table.tdhistory783353 { display: block !important; min-height: 105px !important; overflow: auto !important; height: 105px !important; width: 100% !important; border: 1px solid rgb(207, 207, 207) !important; border-collapse: collapse !important; ; color: var(--jp-ui-font-color1) !important; }\n",
       "      th.tdhistory783353 { border: 1px solid rgb(198,198,198) !important; border-collapse: collapse !important; ; padding: 2px 5px !important; ; font-size: 13px !important; ; text-align: center !important; white-space: normal !important; color: var(--jp-ui-font-color1) !important; }\n",
       "      th.tdhistory783353:last-child { text-align: left !important; }\n",
       "      tbody.tdhistory783353 tr:nth-child(even) { background: rgba(243, 243, 243, 0.75) !important; }\n",
       "      tbody.tdhistory783353 tr:nth-child(odd) { background: var(--jp-ui-inverse-font-color1) !important; }\n",
       "      td.tdhistory783353 { border: 1px solid rgb(207, 207, 207) !important; border-collapse: collapse !important; ; padding: 2px 5px !important; ; font-size: 13px !important; ; text-align: left !important;          white-space: nowrap !important; overflow:hidden !important; text-overflow:ellipsis !important;; }\n",
       "    </style><thead><tr style= \"background: rgba(243, 243, 243, 0.75)\"><th class=\"tdhistory783353\"></th><th class=\"tdhistory783353\">Count(*)</th></tr></thead><tbody class=\"tdhistory783353 resultset-body\"><tr><th class=\"tdhistory783353\" style= \"background: rgba(243, 243, 243, 0.75)\">1</th><td class=\"tdhistory783353\">480493</td></tr></tbody></table></div>"
      ]
     },
     "execution_count": 10,
     "metadata": {
      "application/vnd.teradata.resultset": "{\"resultSetID\":\"/home/jovyan/JupyterLabRoot/Teradata/Resultsets/2023.07.13_11.53.41.788_UTC\",\"historyID\":175,\"chunkID\":\"00001\",\"sessionid\":\"\",\"portnum\":\"\",\"dockermode\":\"docker\",\"totalRowCount\":1,\"chunkCount\":0,\"rowLimit\":0,\"columnMetadata\":[{\"columnName\":\"Count(*)\",\"columnTypeName\":\"INTEGER\"}]}"
     },
     "output_type": "execute_result"
    },
    {
     "data": {
      "application/vnd.teradata.resultset": "\"pickup_datetime\",\"passenger_count\",\"pickup_latitude\",\"pickup_longitude\",\"dropoff_latitude\",\"dropoff_longitude\",\"fare_amount\"\n\"2013-11-10 17:50:00.000000\",\"1\",\"40.740761\",\"-73.998184\",\"40.726463\",\"-74.005562\",\"6.5\"\n\"2013-11-09 21:43:00.000000\",\"6\",\"40.750637\",\"-73.987236\",\"40.763126\",\"-73.981262\",\"6.5\"\n\"2013-11-10 16:22:37.000000\",\"1\",\"40.708012\",\"-74.015793\",\"40.742519\",\"-74.004486\",\"11\"\n\"2013-11-10 06:45:00.000000\",\"6\",\"40.745232\",\"-73.976952\",\"40.741669\",\"-73.98597\",\"9\"\n\"2013-11-10 15:59:00.000000\",\"1\",\"40.75449\",\"-73.988075\",\"40.697277\",\"-73.931381\",\"35.3\"",
      "text/html": [
       "<div class = \"td-resultset-table-div\" style = \"max-height: 100%; overflow-y: auto\">\n",
       "      <table class=\"tdhistory725552\"><style>\n",
       "      table.tdhistory725552 { display: block !important; min-height: 189px !important; overflow: auto !important; height: 189px !important; width: 100% !important; border: 1px solid rgb(207, 207, 207) !important; border-collapse: collapse !important; ; color: var(--jp-ui-font-color1) !important; }\n",
       "      th.tdhistory725552 { border: 1px solid rgb(198,198,198) !important; border-collapse: collapse !important; ; padding: 2px 5px !important; ; font-size: 13px !important; ; text-align: center !important; white-space: normal !important; color: var(--jp-ui-font-color1) !important; }\n",
       "      th.tdhistory725552:last-child { text-align: left !important; }\n",
       "      tbody.tdhistory725552 tr:nth-child(even) { background: rgba(243, 243, 243, 0.75) !important; }\n",
       "      tbody.tdhistory725552 tr:nth-child(odd) { background: var(--jp-ui-inverse-font-color1) !important; }\n",
       "      td.tdhistory725552 { border: 1px solid rgb(207, 207, 207) !important; border-collapse: collapse !important; ; padding: 2px 5px !important; ; font-size: 13px !important; ; text-align: left !important;          white-space: nowrap !important; overflow:hidden !important; text-overflow:ellipsis !important;; }\n",
       "    </style><thead><tr style= \"background: rgba(243, 243, 243, 0.75)\"><th class=\"tdhistory725552\"></th><th class=\"tdhistory725552\">pickup_datetime</th><th class=\"tdhistory725552\">passenger_count</th><th class=\"tdhistory725552\">pickup_latitude</th><th class=\"tdhistory725552\">pickup_longitude</th><th class=\"tdhistory725552\">dropoff_latitude</th><th class=\"tdhistory725552\">dropoff_longitude</th><th class=\"tdhistory725552\">fare_amount</th></tr></thead><tbody class=\"tdhistory725552 resultset-body\"><tr><th class=\"tdhistory725552\" style= \"background: rgba(243, 243, 243, 0.75)\">1</th><td class=\"tdhistory725552\">2013-11-10 17:50:00.000000</td><td class=\"tdhistory725552\">1</td><td class=\"tdhistory725552\">40.740761</td><td class=\"tdhistory725552\">-73.998184</td><td class=\"tdhistory725552\">40.726463</td><td class=\"tdhistory725552\">-74.005562</td><td class=\"tdhistory725552\">6.5</td></tr><tr><th class=\"tdhistory725552\" style= \"background: rgba(243, 243, 243, 0.75)\">2</th><td class=\"tdhistory725552\">2013-11-09 21:43:00.000000</td><td class=\"tdhistory725552\">6</td><td class=\"tdhistory725552\">40.750637</td><td class=\"tdhistory725552\">-73.987236</td><td class=\"tdhistory725552\">40.763126</td><td class=\"tdhistory725552\">-73.981262</td><td class=\"tdhistory725552\">6.5</td></tr><tr><th class=\"tdhistory725552\" style= \"background: rgba(243, 243, 243, 0.75)\">3</th><td class=\"tdhistory725552\">2013-11-10 16:22:37.000000</td><td class=\"tdhistory725552\">1</td><td class=\"tdhistory725552\">40.708012</td><td class=\"tdhistory725552\">-74.015793</td><td class=\"tdhistory725552\">40.742519</td><td class=\"tdhistory725552\">-74.004486</td><td class=\"tdhistory725552\">11</td></tr><tr><th class=\"tdhistory725552\" style= \"background: rgba(243, 243, 243, 0.75)\">4</th><td class=\"tdhistory725552\">2013-11-10 06:45:00.000000</td><td class=\"tdhistory725552\">6</td><td class=\"tdhistory725552\">40.745232</td><td class=\"tdhistory725552\">-73.976952</td><td class=\"tdhistory725552\">40.741669</td><td class=\"tdhistory725552\">-73.98597</td><td class=\"tdhistory725552\">9</td></tr><tr><th class=\"tdhistory725552\" style= \"background: rgba(243, 243, 243, 0.75)\">5</th><td class=\"tdhistory725552\">2013-11-10 15:59:00.000000</td><td class=\"tdhistory725552\">1</td><td class=\"tdhistory725552\">40.75449</td><td class=\"tdhistory725552\">-73.988075</td><td class=\"tdhistory725552\">40.697277</td><td class=\"tdhistory725552\">-73.931381</td><td class=\"tdhistory725552\">35.3</td></tr></tbody></table></div>"
      ]
     },
     "execution_count": 10,
     "metadata": {
      "application/vnd.teradata.resultset": "{\"resultSetID\":\"/home/jovyan/JupyterLabRoot/Teradata/Resultsets/2023.07.13_11.53.41.817_UTC\",\"historyID\":176,\"chunkID\":\"00001\",\"sessionid\":\"\",\"portnum\":\"\",\"dockermode\":\"docker\",\"totalRowCount\":5,\"chunkCount\":0,\"rowLimit\":0,\"columnMetadata\":[{\"columnName\":\"pickup_datetime\",\"columnTypeName\":\"TIMESTAMP\",\"length\":6,\"scale\":6},{\"columnNumber\":1,\"columnName\":\"passenger_count\",\"columnTypeName\":\"SMALLINT\"},{\"columnNumber\":2,\"columnName\":\"pickup_latitude\",\"columnTypeName\":\"FLOAT\"},{\"columnNumber\":3,\"columnName\":\"pickup_longitude\",\"columnTypeName\":\"FLOAT\"},{\"columnNumber\":4,\"columnName\":\"dropoff_latitude\",\"columnTypeName\":\"FLOAT\"},{\"columnNumber\":5,\"columnName\":\"dropoff_longitude\",\"columnTypeName\":\"FLOAT\"},{\"columnNumber\":6,\"columnName\":\"fare_amount\",\"columnTypeName\":\"FLOAT\"}]}"
     },
     "output_type": "execute_result"
    }
   ],
   "source": [
    "SELECT COUNT(*) FROM NYC_FULL_T;\n",
    "SELECT * FROM NYC_FULL_T SAMPLE 5;"
   ]
  },
  {
   "cell_type": "markdown",
   "metadata": {},
   "source": [
    "<p style = 'font-size:16px;font-family:Arial'>The above output shows five rows from the view created in the previous step. The view has 480k+ rows.</p>"
   ]
  },
  {
   "cell_type": "markdown",
   "metadata": {},
   "source": [
    "<hr>\n",
    "<p style = 'font-size:18px;font-family:Arial;color:#E37C4D'><b>2.2 Gather statistics using TD_UnivariateStatistics</b></p>\n",
    "\n",
    "<p style = 'font-size:16px;font-family:Arial'>Univariate analysis is the simplest form of analyzing data. Its significant purpose is to describe; It takes data, summarizes it, and finds patterns in the data.\n",
    "    <br>\n",
    "    <a href = 'https://docs.teradata.com/search/all?query=TD_UnivariateStatistics&content-lang=en-US'>TD_UnivariateStatistics</a> displays descriptive statistics for each specified numeric input table column.\n",
    "</p>\n",
    "\n",
    "<p style = 'font-size:16px;font-family:Arial'><b><i>*Note that the next cell might take upto 1 minute to run.</i><b>"
   ]
  },
  {
   "cell_type": "code",
   "execution_count": 11,
   "metadata": {},
   "outputs": [
    {
     "data": {
      "text/plain": [
       "Success: 0 rows affected"
      ]
     },
     "execution_count": 11,
     "metadata": {
      "application/vnd.teradata.resultset": ""
     },
     "output_type": "execute_result"
    }
   ],
   "source": [
    "CREATE TABLE AllStats_unpivoted AS (\n",
    "    SELECT *\n",
    "        FROM TD_UnivariateStatistics (\n",
    "        ON NYC_FULL_T AS InputTable\n",
    "        USING\n",
    "        TargetColumns('fare_amount', 'pickup_longitude', 'pickup_latitude', 'dropoff_longitude', 'dropoff_latitude')\n",
    "        STATS( \n",
    "              'BOTTOM5',\n",
    "              'COEFFICIENT OF VARIATION',\n",
    "              'CORRECTED SUM OF SQUARES',\n",
    "              'MEAN',\n",
    "              'MEDIAN',\n",
    "              'MODE',           \n",
    "              'GEOMETRIC MEAN', \n",
    "              'HARMONIC MEAN', \n",
    "              'TRIMMED MEAN',\n",
    "              'KURTOSIS',\n",
    "              'SKEWNESS',\n",
    "              'STANDARD ERROR',\n",
    "              'STANDARD DEVIATION',\n",
    "              'SUM',\n",
    "              'POSITIVE VALUES COUNT', \n",
    "              'TOP5', \n",
    "              'INTERQUARTILE RANGE',\n",
    "              'NEGATIVE VALUES COUNT',\n",
    "              'NULL COUNT',\n",
    "              'RANGE',\n",
    "              'UNCORRECTED SUM OF SQUARES',\n",
    "              'UNIQUE ENTITY COUNT',\n",
    "              'VARIANCE',\n",
    "              'ZERO VALUES COUNT',\n",
    "              'PERCENTILES',\n",
    "              'MINIMUM',\n",
    "              'MAXIMUM'\n",
    "        )\n",
    "        ) AS dt\n",
    ") WITH DATA;"
   ]
  },
  {
   "cell_type": "code",
   "execution_count": 12,
   "metadata": {},
   "outputs": [
    {
     "data": {
      "application/vnd.teradata.resultset": "\"ATTRIBUTE\",\"StatName\",\"StatValue\"\n\"fare_amount\",\"SKEWNESS\",\"3.4816900635613797\"\n\"pickup_latitude\",\"MODE\",\"0\"\n\"pickup_longitude\",\"PERCENTILES(25)\",\"-73.992554\"\n\"pickup_longitude\",\"TRIMMED MEAN\",\"-73.98185047550923\"\n\"dropoff_longitude\",\"STANDARD DEVIATION\",\"8.892694780521119\"",
      "text/html": [
       "<div class = \"td-resultset-table-div\" style = \"max-height: 100%; overflow-y: auto\">\n",
       "      <table class=\"tdhistory738449\"><style>\n",
       "      table.tdhistory738449 { display: block !important; min-height: 189px !important; overflow: auto !important; height: 189px !important; width: 100% !important; border: 1px solid rgb(207, 207, 207) !important; border-collapse: collapse !important; ; color: var(--jp-ui-font-color1) !important; }\n",
       "      th.tdhistory738449 { border: 1px solid rgb(198,198,198) !important; border-collapse: collapse !important; ; padding: 2px 5px !important; ; font-size: 13px !important; ; text-align: center !important; white-space: normal !important; color: var(--jp-ui-font-color1) !important; }\n",
       "      th.tdhistory738449:last-child { text-align: left !important; }\n",
       "      tbody.tdhistory738449 tr:nth-child(even) { background: rgba(243, 243, 243, 0.75) !important; }\n",
       "      tbody.tdhistory738449 tr:nth-child(odd) { background: var(--jp-ui-inverse-font-color1) !important; }\n",
       "      td.tdhistory738449 { border: 1px solid rgb(207, 207, 207) !important; border-collapse: collapse !important; ; padding: 2px 5px !important; ; font-size: 13px !important; ; text-align: left !important;          white-space: nowrap !important; overflow:hidden !important; text-overflow:ellipsis !important;; }\n",
       "    </style><thead><tr style= \"background: rgba(243, 243, 243, 0.75)\"><th class=\"tdhistory738449\"></th><th class=\"tdhistory738449\">ATTRIBUTE</th><th class=\"tdhistory738449\">StatName</th><th class=\"tdhistory738449\">StatValue</th></tr></thead><tbody class=\"tdhistory738449 resultset-body\"><tr><th class=\"tdhistory738449\" style= \"background: rgba(243, 243, 243, 0.75)\">1</th><td class=\"tdhistory738449\">fare_amount</td><td class=\"tdhistory738449\">SKEWNESS</td><td class=\"tdhistory738449\">3.4816900635613797</td></tr><tr><th class=\"tdhistory738449\" style= \"background: rgba(243, 243, 243, 0.75)\">2</th><td class=\"tdhistory738449\">pickup_latitude</td><td class=\"tdhistory738449\">MODE</td><td class=\"tdhistory738449\">0</td></tr><tr><th class=\"tdhistory738449\" style= \"background: rgba(243, 243, 243, 0.75)\">3</th><td class=\"tdhistory738449\">pickup_longitude</td><td class=\"tdhistory738449\">PERCENTILES(25)</td><td class=\"tdhistory738449\">-73.992554</td></tr><tr><th class=\"tdhistory738449\" style= \"background: rgba(243, 243, 243, 0.75)\">4</th><td class=\"tdhistory738449\">pickup_longitude</td><td class=\"tdhistory738449\">TRIMMED MEAN</td><td class=\"tdhistory738449\">-73.98185047550923</td></tr><tr><th class=\"tdhistory738449\" style= \"background: rgba(243, 243, 243, 0.75)\">5</th><td class=\"tdhistory738449\">dropoff_longitude</td><td class=\"tdhistory738449\">STANDARD DEVIATION</td><td class=\"tdhistory738449\">8.892694780521119</td></tr></tbody></table></div>"
      ]
     },
     "execution_count": 12,
     "metadata": {
      "application/vnd.teradata.resultset": "{\"resultSetID\":\"/home/jovyan/JupyterLabRoot/Teradata/Resultsets/2023.07.13_11.54.24.788_UTC\",\"historyID\":178,\"chunkID\":\"00001\",\"sessionid\":\"\",\"portnum\":\"\",\"dockermode\":\"docker\",\"totalRowCount\":5,\"chunkCount\":0,\"rowLimit\":0,\"columnMetadata\":[{\"columnName\":\"ATTRIBUTE\",\"columnTypeName\":\"VARCHAR\",\"length\":128,\"scale\":128},{\"columnNumber\":1,\"columnName\":\"StatName\",\"columnTypeName\":\"VARCHAR\",\"length\":31,\"scale\":31},{\"columnNumber\":2,\"columnName\":\"StatValue\",\"columnTypeName\":\"FLOAT\"}]}"
     },
     "output_type": "execute_result"
    }
   ],
   "source": [
    "SELECT * FROM AllStats_unpivoted SAMPLE 5;"
   ]
  },
  {
   "cell_type": "markdown",
   "metadata": {},
   "source": [
    "<hr>\n",
    "<p style = 'font-size:18px;font-family:Arial;color:#E37C4D'><b>2.3 Pivot for easier analysis</b></p>\n",
    "<p style = 'font-size:16px;font-family:Arial'><a href='https://docs.teradata.com/search/all?query=PIVOT&content-lang=en-US'>PIVOT</a> is a relational operator for transforming rows into columns. The function is helpful for reporting purposes, allowing you to aggregate and rotate data to create easy-to-read tables.</p>"
   ]
  },
  {
   "cell_type": "code",
   "execution_count": 13,
   "metadata": {},
   "outputs": [
    {
     "data": {
      "text/plain": [
       "Success: 0 rows affected"
      ]
     },
     "execution_count": 13,
     "metadata": {
      "application/vnd.teradata.resultset": ""
     },
     "output_type": "execute_result"
    }
   ],
   "source": [
    "REPLACE VIEW AllStats_pivoted AS\n",
    "    SELECT *\n",
    "        FROM AllStats_unpivoted\n",
    "        PIVOT (\n",
    "            MAX(StatValue) FOR  ATTRIBUTE IN ('fare_amount', \n",
    "                                                 'pickup_longitude',  \n",
    "                                                 'pickup_latitude',\n",
    "                                                 'dropoff_longitude',\n",
    "                                                 'dropoff_latitude')\n",
    "        ) tmp;"
   ]
  },
  {
   "cell_type": "code",
   "execution_count": 14,
   "metadata": {},
   "outputs": [
    {
     "data": {
      "application/vnd.teradata.resultset": "\"StatName\",\"'fare_amount'\",\"'pickup_longitude'\",\"'pickup_latitude'\",\"'dropoff_longitude'\",\"'dropoff_latitude'\"\n\"BOTTOM5(1)\",\"2.6\",\"-88.810226\",\"0\",\"-89.452866\",\"0\"\n\"BOTTOM5(2)\",\"3\",\"-85.308685\",\"0.74427998\",\"-87.662605\",\"33.076866\"\n\"BOTTOM5(3)\",\"3.01\",\"-82.792358\",\"20.445541\",\"-81.642937\",\"33.639912\"\n\"BOTTOM5(4)\",\"3.46\",\"-81.642937\",\"30.291594\",\"-79.796814\",\"33.658512\"\n\"BOTTOM5(5)\",\"3.5\",\"-80.155426\",\"30.515829\",\"-78.300003\",\"40.366444\"\n\"COEFFICIENT OF VARIATION\",\"0.8407865849380025\",\"-0.1189640465853331\",\"0.1189772824830056\",\"-0.12200410004291205\",\"0.12199706775346573\"\n\"CORRECTED SUM OF SQUARES\",\"7.774925192680965e+07\",\"3.6181581367708035e+07\",\"1.0980557590859763e+07\",\"3.79973171906297e+07\",\"1.1529159383876666e+07\"\n\"GEOMETRIC MEAN\",\"+Inf\",\"NaN\",\"0\",\"NaN\",\"0\"\n\"HARMONIC MEAN\",\"10.469093854269458\",\"0\",\"0\",\"0\",\"0\"\n\"INTERQUARTILE RANGE\",\"9\",\"0.024818999999993707\",\"0.03446199999999777\",\"0.030129000000002293\",\"0.03692200000000412\"\n\"KURTOSIS\",\"26.11295638276514\",\"66.67171604201627\",\"66.6510297410212\",\"63.195283245204585\",\"63.20119729811696\"\n\"MAXIMUM\",\"450.01\",\"0\",\"46.435387\",\"0\",\"46.232815\"\n\"MEAN\",\"15.246729039720687\",\"-72.9432254320106\",\"40.179550260957726\",\"-72.88849126704204\",\"40.15192288374637\"\n\"MEDIAN\",\"11.3\",\"-73.98288\",\"40.75008\",\"-73.980759\",\"40.750927\"\n\"MINIMUM\",\"2.6\",\"-88.810226\",\"0\",\"-89.452866\",\"0\"\n\"MODE\",\"9\",\"0\",\"0\",\"0\",\"0\"\n\"NEGATIVE VALUES COUNT\",\"0\",\"473788\",\"0\",\"473447\",\"0\"\n\"NULL COUNT\",\"7372\",\"0\",\"0\",\"0\",\"0\"\n\"PERCENTILES(1)\",\"4\",\"-74.013451\",\"0\",\"-74.01539663999999\",\"0\"\n\"PERCENTILES(10)\",\"6\",\"-74.002739\",\"40.717228\",\"-74.002632\",\"40.709984\"\n\"PERCENTILES(25)\",\"8\",\"-73.992554\",\"40.731022\",\"-73.991814\",\"40.73106\"\n\"PERCENTILES(5)\",\"5.5\",\"-74.006348\",\"40.7003828\",\"-74.006889\",\"40.683881\"\n\"PERCENTILES(50)\",\"11.3\",\"-73.98288\",\"40.75008\",\"-73.980759\",\"40.750927\"\n\"PERCENTILES(75)\",\"17\",\"-73.967735\",\"40.765484\",\"-73.961685\",\"40.767982\"\n\"PERCENTILES(90)\",\"28.62\",\"-73.950325\",\"40.779202\",\"-73.940895\",\"40.783108\"\n\"PERCENTILES(95)\",\"41.25\",\"-73.873322\",\"40.787151\",\"-73.876793\",\"40.795422\"\n\"PERCENTILES(99)\",\"69.3\",\"0\",\"40.805256\",\"0\",\"40.834214519999996\"\n\"POSITIVE VALUES COUNT\",\"473121\",\"0\",\"473788\",\"0\",\"473447\"\n\"RANGE\",\"447.40999999999997\",\"88.810226\",\"46.435387\",\"89.452866\",\"46.232815\"\n\"SKEWNESS\",\"3.4816900635613797\",\"8.286641142311078\",\"-8.28525886500515\",\"8.074179693048816\",\"-8.074463050616721\"\n\"STANDARD DEVIATION\",\"12.819245240781827\",\"8.677621268378164\",\"4.780453701438089\",\"8.892694780521119\",\"4.898416856480337\"\n\"STANDARD ERROR\",\"0.018637014512873896\",\"0.012518640244576077\",\"0.006896449872989264\",\"0.012828912822899644\",\"0.007066627650333662\"\n\"SUM\",\"7.213547690001692e+06\",\"-3.504870921750307e+07\",\"1.930599264353836e+07\",\"-3.502240983437483e+07\",\"1.9292717882179946e+07\"\n\"TOP5(1)\",\"450.01\",\"0\",\"46.435387\",\"0\",\"46.232815\"\n\"TOP5(2)\",\"445\",\"-67.808868\",\"43.924164\",\"-0.116667\",\"42.853703\"\n\"TOP5(3)\",\"322.33\",\"-69.571465\",\"43.321465\",\"-68.077629\",\"41.419224\"\n\"TOP5(4)\",\"309.66\",\"-71.341316\",\"43.19944\",\"-69.571213\",\"41.389053\"\n\"TOP5(5)\",\"305.33\",\"-72.055038\",\"41.509212\",\"-71.686378\",\"41.32584\"\n\"TRIMMED MEAN\",\"11.843431358386788\",\"-73.98185047550923\",\"40.749382278771826\",\"-73.97906294039555\",\"40.75052909667879\"\n\"UNCORRECTED SUM OF SQUARES\",\"1.87732258971306e+08\",\"2.592747478920623e+09\",\"7.866866593494288e+08\",\"2.5907279305535903e+09\",\"7.861688800069642e+08\"\n\"UNIQUE ENTITY COUNT\",\"3475\",\"18497\",\"37431\",\"24657\",\"48594\"\n\"VARIANCE\",\"164.3330485433075\",\"75.30111087740906\",\"22.852737591593122\",\"79.08002045950754\",\"23.99448769985071\"\n\"ZERO VALUES COUNT\",\"0\",\"6705\",\"6705\",\"7046\",\"7046\"",
      "text/html": [
       "<div class = \"td-resultset-table-div\" style = \"max-height: 100%; overflow-y: auto\">\n",
       "      <table class=\"tdhistory794101\"><style>\n",
       "      table.tdhistory794101 { display: block !important; min-height: 588px !important; overflow: auto !important; height: 588px !important; width: 100% !important; border: 1px solid rgb(207, 207, 207) !important; border-collapse: collapse !important; ; color: var(--jp-ui-font-color1) !important; }\n",
       "      th.tdhistory794101 { border: 1px solid rgb(198,198,198) !important; border-collapse: collapse !important; ; padding: 2px 5px !important; ; font-size: 13px !important; ; text-align: center !important; white-space: normal !important; color: var(--jp-ui-font-color1) !important; }\n",
       "      th.tdhistory794101:last-child { text-align: left !important; }\n",
       "      tbody.tdhistory794101 tr:nth-child(even) { background: rgba(243, 243, 243, 0.75) !important; }\n",
       "      tbody.tdhistory794101 tr:nth-child(odd) { background: var(--jp-ui-inverse-font-color1) !important; }\n",
       "      td.tdhistory794101 { border: 1px solid rgb(207, 207, 207) !important; border-collapse: collapse !important; ; padding: 2px 5px !important; ; font-size: 13px !important; ; text-align: left !important;          white-space: nowrap !important; overflow:hidden !important; text-overflow:ellipsis !important;; }\n",
       "    </style><thead><tr style= \"background: rgba(243, 243, 243, 0.75)\"><th class=\"tdhistory794101\"></th><th class=\"tdhistory794101\">StatName</th><th class=\"tdhistory794101\">'fare_amount'</th><th class=\"tdhistory794101\">'pickup_longitude'</th><th class=\"tdhistory794101\">'pickup_latitude'</th><th class=\"tdhistory794101\">'dropoff_longitude'</th><th class=\"tdhistory794101\">'dropoff_latitude'</th></tr></thead><tbody class=\"tdhistory794101 resultset-body\"><tr><th class=\"tdhistory794101\" style= \"background: rgba(243, 243, 243, 0.75)\">1</th><td class=\"tdhistory794101\">BOTTOM5(1)</td><td class=\"tdhistory794101\">2.6</td><td class=\"tdhistory794101\">-88.810226</td><td class=\"tdhistory794101\">0</td><td class=\"tdhistory794101\">-89.452866</td><td class=\"tdhistory794101\">0</td></tr><tr><th class=\"tdhistory794101\" style= \"background: rgba(243, 243, 243, 0.75)\">2</th><td class=\"tdhistory794101\">BOTTOM5(2)</td><td class=\"tdhistory794101\">3</td><td class=\"tdhistory794101\">-85.308685</td><td class=\"tdhistory794101\">0.74427998</td><td class=\"tdhistory794101\">-87.662605</td><td class=\"tdhistory794101\">33.076866</td></tr><tr><th class=\"tdhistory794101\" style= \"background: rgba(243, 243, 243, 0.75)\">3</th><td class=\"tdhistory794101\">BOTTOM5(3)</td><td class=\"tdhistory794101\">3.01</td><td class=\"tdhistory794101\">-82.792358</td><td class=\"tdhistory794101\">20.445541</td><td class=\"tdhistory794101\">-81.642937</td><td class=\"tdhistory794101\">33.639912</td></tr><tr><th class=\"tdhistory794101\" style= \"background: rgba(243, 243, 243, 0.75)\">4</th><td class=\"tdhistory794101\">BOTTOM5(4)</td><td class=\"tdhistory794101\">3.46</td><td class=\"tdhistory794101\">-81.642937</td><td class=\"tdhistory794101\">30.291594</td><td class=\"tdhistory794101\">-79.796814</td><td class=\"tdhistory794101\">33.658512</td></tr><tr><th class=\"tdhistory794101\" style= \"background: rgba(243, 243, 243, 0.75)\">5</th><td class=\"tdhistory794101\">BOTTOM5(5)</td><td class=\"tdhistory794101\">3.5</td><td class=\"tdhistory794101\">-80.155426</td><td class=\"tdhistory794101\">30.515829</td><td class=\"tdhistory794101\">-78.300003</td><td class=\"tdhistory794101\">40.366444</td></tr><tr><th class=\"tdhistory794101\" style= \"background: rgba(243, 243, 243, 0.75)\">6</th><td class=\"tdhistory794101\">COEFFICIENT OF VARIATION</td><td class=\"tdhistory794101\">0.8407865849380025</td><td class=\"tdhistory794101\">-0.1189640465853331</td><td class=\"tdhistory794101\">0.1189772824830056</td><td class=\"tdhistory794101\">-0.12200410004291205</td><td class=\"tdhistory794101\">0.12199706775346573</td></tr><tr><th class=\"tdhistory794101\" style= \"background: rgba(243, 243, 243, 0.75)\">7</th><td class=\"tdhistory794101\">CORRECTED SUM OF SQUARES</td><td class=\"tdhistory794101\">7.774925192680965e+07</td><td class=\"tdhistory794101\">3.6181581367708035e+07</td><td class=\"tdhistory794101\">1.0980557590859763e+07</td><td class=\"tdhistory794101\">3.79973171906297e+07</td><td class=\"tdhistory794101\">1.1529159383876666e+07</td></tr><tr><th class=\"tdhistory794101\" style= \"background: rgba(243, 243, 243, 0.75)\">8</th><td class=\"tdhistory794101\">GEOMETRIC MEAN</td><td class=\"tdhistory794101\">+Inf</td><td class=\"tdhistory794101\">NaN</td><td class=\"tdhistory794101\">0</td><td class=\"tdhistory794101\">NaN</td><td class=\"tdhistory794101\">0</td></tr><tr><th class=\"tdhistory794101\" style= \"background: rgba(243, 243, 243, 0.75)\">9</th><td class=\"tdhistory794101\">HARMONIC MEAN</td><td class=\"tdhistory794101\">10.469093854269458</td><td class=\"tdhistory794101\">0</td><td class=\"tdhistory794101\">0</td><td class=\"tdhistory794101\">0</td><td class=\"tdhistory794101\">0</td></tr><tr><th class=\"tdhistory794101\" style= \"background: rgba(243, 243, 243, 0.75)\">10</th><td class=\"tdhistory794101\">INTERQUARTILE RANGE</td><td class=\"tdhistory794101\">9</td><td class=\"tdhistory794101\">0.024818999999993707</td><td class=\"tdhistory794101\">0.03446199999999777</td><td class=\"tdhistory794101\">0.030129000000002293</td><td class=\"tdhistory794101\">0.03692200000000412</td></tr><tr><th class=\"tdhistory794101\" style= \"background: rgba(243, 243, 243, 0.75)\">11</th><td class=\"tdhistory794101\">KURTOSIS</td><td class=\"tdhistory794101\">26.11295638276514</td><td class=\"tdhistory794101\">66.67171604201627</td><td class=\"tdhistory794101\">66.6510297410212</td><td class=\"tdhistory794101\">63.195283245204585</td><td class=\"tdhistory794101\">63.20119729811696</td></tr><tr><th class=\"tdhistory794101\" style= \"background: rgba(243, 243, 243, 0.75)\">12</th><td class=\"tdhistory794101\">MAXIMUM</td><td class=\"tdhistory794101\">450.01</td><td class=\"tdhistory794101\">0</td><td class=\"tdhistory794101\">46.435387</td><td class=\"tdhistory794101\">0</td><td class=\"tdhistory794101\">46.232815</td></tr><tr><th class=\"tdhistory794101\" style= \"background: rgba(243, 243, 243, 0.75)\">13</th><td class=\"tdhistory794101\">MEAN</td><td class=\"tdhistory794101\">15.246729039720687</td><td class=\"tdhistory794101\">-72.9432254320106</td><td class=\"tdhistory794101\">40.179550260957726</td><td class=\"tdhistory794101\">-72.88849126704204</td><td class=\"tdhistory794101\">40.15192288374637</td></tr><tr><th class=\"tdhistory794101\" style= \"background: rgba(243, 243, 243, 0.75)\">14</th><td class=\"tdhistory794101\">MEDIAN</td><td class=\"tdhistory794101\">11.3</td><td class=\"tdhistory794101\">-73.98288</td><td class=\"tdhistory794101\">40.75008</td><td class=\"tdhistory794101\">-73.980759</td><td class=\"tdhistory794101\">40.750927</td></tr><tr><th class=\"tdhistory794101\" style= \"background: rgba(243, 243, 243, 0.75)\">15</th><td class=\"tdhistory794101\">MINIMUM</td><td class=\"tdhistory794101\">2.6</td><td class=\"tdhistory794101\">-88.810226</td><td class=\"tdhistory794101\">0</td><td class=\"tdhistory794101\">-89.452866</td><td class=\"tdhistory794101\">0</td></tr><tr><th class=\"tdhistory794101\" style= \"background: rgba(243, 243, 243, 0.75)\">16</th><td class=\"tdhistory794101\">MODE</td><td class=\"tdhistory794101\">9</td><td class=\"tdhistory794101\">0</td><td class=\"tdhistory794101\">0</td><td class=\"tdhistory794101\">0</td><td class=\"tdhistory794101\">0</td></tr><tr><th class=\"tdhistory794101\" style= \"background: rgba(243, 243, 243, 0.75)\">17</th><td class=\"tdhistory794101\">NEGATIVE VALUES COUNT</td><td class=\"tdhistory794101\">0</td><td class=\"tdhistory794101\">473788</td><td class=\"tdhistory794101\">0</td><td class=\"tdhistory794101\">473447</td><td class=\"tdhistory794101\">0</td></tr><tr><th class=\"tdhistory794101\" style= \"background: rgba(243, 243, 243, 0.75)\">18</th><td class=\"tdhistory794101\">NULL COUNT</td><td class=\"tdhistory794101\">7372</td><td class=\"tdhistory794101\">0</td><td class=\"tdhistory794101\">0</td><td class=\"tdhistory794101\">0</td><td class=\"tdhistory794101\">0</td></tr><tr><th class=\"tdhistory794101\" style= \"background: rgba(243, 243, 243, 0.75)\">19</th><td class=\"tdhistory794101\">PERCENTILES(1)</td><td class=\"tdhistory794101\">4</td><td class=\"tdhistory794101\">-74.013451</td><td class=\"tdhistory794101\">0</td><td class=\"tdhistory794101\">-74.01539663999999</td><td class=\"tdhistory794101\">0</td></tr><tr><th class=\"tdhistory794101\" style= \"background: rgba(243, 243, 243, 0.75)\">20</th><td class=\"tdhistory794101\">PERCENTILES(10)</td><td class=\"tdhistory794101\">6</td><td class=\"tdhistory794101\">-74.002739</td><td class=\"tdhistory794101\">40.717228</td><td class=\"tdhistory794101\">-74.002632</td><td class=\"tdhistory794101\">40.709984</td></tr><tr><th class=\"tdhistory794101\" style= \"background: rgba(243, 243, 243, 0.75)\">21</th><td class=\"tdhistory794101\">PERCENTILES(25)</td><td class=\"tdhistory794101\">8</td><td class=\"tdhistory794101\">-73.992554</td><td class=\"tdhistory794101\">40.731022</td><td class=\"tdhistory794101\">-73.991814</td><td class=\"tdhistory794101\">40.73106</td></tr><tr><th class=\"tdhistory794101\" style= \"background: rgba(243, 243, 243, 0.75)\">22</th><td class=\"tdhistory794101\">PERCENTILES(5)</td><td class=\"tdhistory794101\">5.5</td><td class=\"tdhistory794101\">-74.006348</td><td class=\"tdhistory794101\">40.7003828</td><td class=\"tdhistory794101\">-74.006889</td><td class=\"tdhistory794101\">40.683881</td></tr><tr><th class=\"tdhistory794101\" style= \"background: rgba(243, 243, 243, 0.75)\">23</th><td class=\"tdhistory794101\">PERCENTILES(50)</td><td class=\"tdhistory794101\">11.3</td><td class=\"tdhistory794101\">-73.98288</td><td class=\"tdhistory794101\">40.75008</td><td class=\"tdhistory794101\">-73.980759</td><td class=\"tdhistory794101\">40.750927</td></tr><tr><th class=\"tdhistory794101\" style= \"background: rgba(243, 243, 243, 0.75)\">24</th><td class=\"tdhistory794101\">PERCENTILES(75)</td><td class=\"tdhistory794101\">17</td><td class=\"tdhistory794101\">-73.967735</td><td class=\"tdhistory794101\">40.765484</td><td class=\"tdhistory794101\">-73.961685</td><td class=\"tdhistory794101\">40.767982</td></tr><tr><th class=\"tdhistory794101\" style= \"background: rgba(243, 243, 243, 0.75)\">25</th><td class=\"tdhistory794101\">PERCENTILES(90)</td><td class=\"tdhistory794101\">28.62</td><td class=\"tdhistory794101\">-73.950325</td><td class=\"tdhistory794101\">40.779202</td><td class=\"tdhistory794101\">-73.940895</td><td class=\"tdhistory794101\">40.783108</td></tr><tr><th class=\"tdhistory794101\" style= \"background: rgba(243, 243, 243, 0.75)\">26</th><td class=\"tdhistory794101\">PERCENTILES(95)</td><td class=\"tdhistory794101\">41.25</td><td class=\"tdhistory794101\">-73.873322</td><td class=\"tdhistory794101\">40.787151</td><td class=\"tdhistory794101\">-73.876793</td><td class=\"tdhistory794101\">40.795422</td></tr><tr><th class=\"tdhistory794101\" style= \"background: rgba(243, 243, 243, 0.75)\">27</th><td class=\"tdhistory794101\">PERCENTILES(99)</td><td class=\"tdhistory794101\">69.3</td><td class=\"tdhistory794101\">0</td><td class=\"tdhistory794101\">40.805256</td><td class=\"tdhistory794101\">0</td><td class=\"tdhistory794101\">40.834214519999996</td></tr><tr><th class=\"tdhistory794101\" style= \"background: rgba(243, 243, 243, 0.75)\">28</th><td class=\"tdhistory794101\">POSITIVE VALUES COUNT</td><td class=\"tdhistory794101\">473121</td><td class=\"tdhistory794101\">0</td><td class=\"tdhistory794101\">473788</td><td class=\"tdhistory794101\">0</td><td class=\"tdhistory794101\">473447</td></tr><tr><th class=\"tdhistory794101\" style= \"background: rgba(243, 243, 243, 0.75)\">29</th><td class=\"tdhistory794101\">RANGE</td><td class=\"tdhistory794101\">447.40999999999997</td><td class=\"tdhistory794101\">88.810226</td><td class=\"tdhistory794101\">46.435387</td><td class=\"tdhistory794101\">89.452866</td><td class=\"tdhistory794101\">46.232815</td></tr><tr><th class=\"tdhistory794101\" style= \"background: rgba(243, 243, 243, 0.75)\">30</th><td class=\"tdhistory794101\">SKEWNESS</td><td class=\"tdhistory794101\">3.4816900635613797</td><td class=\"tdhistory794101\">8.286641142311078</td><td class=\"tdhistory794101\">-8.28525886500515</td><td class=\"tdhistory794101\">8.074179693048816</td><td class=\"tdhistory794101\">-8.074463050616721</td></tr><tr><th class=\"tdhistory794101\" style= \"background: rgba(243, 243, 243, 0.75)\">31</th><td class=\"tdhistory794101\">STANDARD DEVIATION</td><td class=\"tdhistory794101\">12.819245240781827</td><td class=\"tdhistory794101\">8.677621268378164</td><td class=\"tdhistory794101\">4.780453701438089</td><td class=\"tdhistory794101\">8.892694780521119</td><td class=\"tdhistory794101\">4.898416856480337</td></tr><tr><th class=\"tdhistory794101\" style= \"background: rgba(243, 243, 243, 0.75)\">32</th><td class=\"tdhistory794101\">STANDARD ERROR</td><td class=\"tdhistory794101\">0.018637014512873896</td><td class=\"tdhistory794101\">0.012518640244576077</td><td class=\"tdhistory794101\">0.006896449872989264</td><td class=\"tdhistory794101\">0.012828912822899644</td><td class=\"tdhistory794101\">0.007066627650333662</td></tr><tr><th class=\"tdhistory794101\" style= \"background: rgba(243, 243, 243, 0.75)\">33</th><td class=\"tdhistory794101\">SUM</td><td class=\"tdhistory794101\">7.213547690001692e+06</td><td class=\"tdhistory794101\">-3.504870921750307e+07</td><td class=\"tdhistory794101\">1.930599264353836e+07</td><td class=\"tdhistory794101\">-3.502240983437483e+07</td><td class=\"tdhistory794101\">1.9292717882179946e+07</td></tr><tr><th class=\"tdhistory794101\" style= \"background: rgba(243, 243, 243, 0.75)\">34</th><td class=\"tdhistory794101\">TOP5(1)</td><td class=\"tdhistory794101\">450.01</td><td class=\"tdhistory794101\">0</td><td class=\"tdhistory794101\">46.435387</td><td class=\"tdhistory794101\">0</td><td class=\"tdhistory794101\">46.232815</td></tr><tr><th class=\"tdhistory794101\" style= \"background: rgba(243, 243, 243, 0.75)\">35</th><td class=\"tdhistory794101\">TOP5(2)</td><td class=\"tdhistory794101\">445</td><td class=\"tdhistory794101\">-67.808868</td><td class=\"tdhistory794101\">43.924164</td><td class=\"tdhistory794101\">-0.116667</td><td class=\"tdhistory794101\">42.853703</td></tr><tr><th class=\"tdhistory794101\" style= \"background: rgba(243, 243, 243, 0.75)\">36</th><td class=\"tdhistory794101\">TOP5(3)</td><td class=\"tdhistory794101\">322.33</td><td class=\"tdhistory794101\">-69.571465</td><td class=\"tdhistory794101\">43.321465</td><td class=\"tdhistory794101\">-68.077629</td><td class=\"tdhistory794101\">41.419224</td></tr><tr><th class=\"tdhistory794101\" style= \"background: rgba(243, 243, 243, 0.75)\">37</th><td class=\"tdhistory794101\">TOP5(4)</td><td class=\"tdhistory794101\">309.66</td><td class=\"tdhistory794101\">-71.341316</td><td class=\"tdhistory794101\">43.19944</td><td class=\"tdhistory794101\">-69.571213</td><td class=\"tdhistory794101\">41.389053</td></tr><tr><th class=\"tdhistory794101\" style= \"background: rgba(243, 243, 243, 0.75)\">38</th><td class=\"tdhistory794101\">TOP5(5)</td><td class=\"tdhistory794101\">305.33</td><td class=\"tdhistory794101\">-72.055038</td><td class=\"tdhistory794101\">41.509212</td><td class=\"tdhistory794101\">-71.686378</td><td class=\"tdhistory794101\">41.32584</td></tr><tr><th class=\"tdhistory794101\" style= \"background: rgba(243, 243, 243, 0.75)\">39</th><td class=\"tdhistory794101\">TRIMMED MEAN</td><td class=\"tdhistory794101\">11.843431358386788</td><td class=\"tdhistory794101\">-73.98185047550923</td><td class=\"tdhistory794101\">40.749382278771826</td><td class=\"tdhistory794101\">-73.97906294039555</td><td class=\"tdhistory794101\">40.75052909667879</td></tr><tr><th class=\"tdhistory794101\" style= \"background: rgba(243, 243, 243, 0.75)\">40</th><td class=\"tdhistory794101\">UNCORRECTED SUM OF SQUARES</td><td class=\"tdhistory794101\">1.87732258971306e+08</td><td class=\"tdhistory794101\">2.592747478920623e+09</td><td class=\"tdhistory794101\">7.866866593494288e+08</td><td class=\"tdhistory794101\">2.5907279305535903e+09</td><td class=\"tdhistory794101\">7.861688800069642e+08</td></tr><tr><th class=\"tdhistory794101\" style= \"background: rgba(243, 243, 243, 0.75)\">41</th><td class=\"tdhistory794101\">UNIQUE ENTITY COUNT</td><td class=\"tdhistory794101\">3475</td><td class=\"tdhistory794101\">18497</td><td class=\"tdhistory794101\">37431</td><td class=\"tdhistory794101\">24657</td><td class=\"tdhistory794101\">48594</td></tr><tr><th class=\"tdhistory794101\" style= \"background: rgba(243, 243, 243, 0.75)\">42</th><td class=\"tdhistory794101\">VARIANCE</td><td class=\"tdhistory794101\">164.3330485433075</td><td class=\"tdhistory794101\">75.30111087740906</td><td class=\"tdhistory794101\">22.852737591593122</td><td class=\"tdhistory794101\">79.08002045950754</td><td class=\"tdhistory794101\">23.99448769985071</td></tr><tr><th class=\"tdhistory794101\" style= \"background: rgba(243, 243, 243, 0.75)\">43</th><td class=\"tdhistory794101\">ZERO VALUES COUNT</td><td class=\"tdhistory794101\">0</td><td class=\"tdhistory794101\">6705</td><td class=\"tdhistory794101\">6705</td><td class=\"tdhistory794101\">7046</td><td class=\"tdhistory794101\">7046</td></tr></tbody></table></div>"
      ]
     },
     "execution_count": 14,
     "metadata": {
      "application/vnd.teradata.resultset": "{\"resultSetID\":\"/home/jovyan/JupyterLabRoot/Teradata/Resultsets/2023.07.13_11.54.25.157_UTC\",\"historyID\":180,\"chunkID\":\"00001\",\"sessionid\":\"\",\"portnum\":\"\",\"dockermode\":\"docker\",\"totalRowCount\":43,\"chunkCount\":0,\"rowLimit\":0,\"columnMetadata\":[{\"columnName\":\"StatName\",\"columnTypeName\":\"VARCHAR\",\"length\":31,\"scale\":31},{\"columnNumber\":1,\"columnName\":\"'fare_amount'\",\"columnTypeName\":\"FLOAT\"},{\"columnNumber\":2,\"columnName\":\"'pickup_longitude'\",\"columnTypeName\":\"FLOAT\"},{\"columnNumber\":3,\"columnName\":\"'pickup_latitude'\",\"columnTypeName\":\"FLOAT\"},{\"columnNumber\":4,\"columnName\":\"'dropoff_longitude'\",\"columnTypeName\":\"FLOAT\"},{\"columnNumber\":5,\"columnName\":\"'dropoff_latitude'\",\"columnTypeName\":\"FLOAT\"}]}"
     },
     "output_type": "execute_result"
    }
   ],
   "source": [
    "SELECT * FROM Allstats_pivoted ORDER BY 1;"
   ]
  },
  {
   "cell_type": "markdown",
   "metadata": {},
   "source": [
    "<p style = 'font-size:16px;font-family:Arial'>The output above shows a cleaner way to look at the various statistics for all the specified columns.</p>"
   ]
  },
  {
   "cell_type": "markdown",
   "metadata": {},
   "source": [
    "<hr>\n",
    "<b style = 'font-size:28px;font-family:Arial;color:#E37C4D'>3. Outlier Identification</b>\n",
    "\n",
    "<p style = 'font-size:16px;font-family:Arial'>We can see some extraordinary value outliers in our numeric data based on the statistics gathered above. We can use the <a href='https://docs.teradata.com/search/all?query=TD_HISTOGRAM&content-lang=en-US'>TD_Histogram</a> function to look at the distribution of each data column, which can guide how to remove outliers.</p>\n",
    "    \n",
    "<ol style = 'font-size:16px;font-family:Arial'>\n",
    "    <li>Inspect the distribution stastics</li>\n",
    "    <li>Use TD_Histogram to view column distributions using calculated binning</li>\n",
    "    <li>Use TD_Histogram using MinMax table as input</li>\n",
    "    </ol>"
   ]
  },
  {
   "cell_type": "markdown",
   "metadata": {},
   "source": [
    "<hr>\n",
    "<p style = 'font-size:18px;font-family:Arial;color:#E37C4D'><b>3.1 Simple SELECT</b></p>\n",
    "\n",
    "<p style = 'font-size:16px;font-family:Arial'>Filter results out of the Pivoted table of Stats. We are interested in maximum, minimum and percentiles for all the columns.</p>"
   ]
  },
  {
   "cell_type": "code",
   "execution_count": 15,
   "metadata": {},
   "outputs": [
    {
     "data": {
      "application/vnd.teradata.resultset": "\"StatName\",\"'fare_amount'\",\"'pickup_longitude'\",\"'pickup_latitude'\",\"'dropoff_longitude'\",\"'dropoff_latitude'\"\n\"MAXIMUM\",\"450.01\",\"0\",\"46.435387\",\"0\",\"46.232815\"\n\"MINIMUM\",\"2.6\",\"-88.810226\",\"0\",\"-89.452866\",\"0\"\n\"PERCENTILES(1)\",\"4\",\"-74.013451\",\"0\",\"-74.01539663999999\",\"0\"\n\"PERCENTILES(10)\",\"6\",\"-74.002739\",\"40.717228\",\"-74.002632\",\"40.709984\"\n\"PERCENTILES(25)\",\"8\",\"-73.992554\",\"40.731022\",\"-73.991814\",\"40.73106\"\n\"PERCENTILES(5)\",\"5.5\",\"-74.006348\",\"40.7003828\",\"-74.006889\",\"40.683881\"\n\"PERCENTILES(50)\",\"11.3\",\"-73.98288\",\"40.75008\",\"-73.980759\",\"40.750927\"\n\"PERCENTILES(75)\",\"17\",\"-73.967735\",\"40.765484\",\"-73.961685\",\"40.767982\"\n\"PERCENTILES(90)\",\"28.62\",\"-73.950325\",\"40.779202\",\"-73.940895\",\"40.783108\"\n\"PERCENTILES(95)\",\"41.25\",\"-73.873322\",\"40.787151\",\"-73.876793\",\"40.795422\"\n\"PERCENTILES(99)\",\"69.3\",\"0\",\"40.805256\",\"0\",\"40.834214519999996\"",
      "text/html": [
       "<div class = \"td-resultset-table-div\" style = \"max-height: 100%; overflow-y: auto\">\n",
       "      <table class=\"tdhistory870041\"><style>\n",
       "      table.tdhistory870041 { display: block !important; min-height: 315px !important; overflow: auto !important; height: 315px !important; width: 100% !important; border: 1px solid rgb(207, 207, 207) !important; border-collapse: collapse !important; ; color: var(--jp-ui-font-color1) !important; }\n",
       "      th.tdhistory870041 { border: 1px solid rgb(198,198,198) !important; border-collapse: collapse !important; ; padding: 2px 5px !important; ; font-size: 13px !important; ; text-align: center !important; white-space: normal !important; color: var(--jp-ui-font-color1) !important; }\n",
       "      th.tdhistory870041:last-child { text-align: left !important; }\n",
       "      tbody.tdhistory870041 tr:nth-child(even) { background: rgba(243, 243, 243, 0.75) !important; }\n",
       "      tbody.tdhistory870041 tr:nth-child(odd) { background: var(--jp-ui-inverse-font-color1) !important; }\n",
       "      td.tdhistory870041 { border: 1px solid rgb(207, 207, 207) !important; border-collapse: collapse !important; ; padding: 2px 5px !important; ; font-size: 13px !important; ; text-align: left !important;          white-space: nowrap !important; overflow:hidden !important; text-overflow:ellipsis !important;; }\n",
       "    </style><thead><tr style= \"background: rgba(243, 243, 243, 0.75)\"><th class=\"tdhistory870041\"></th><th class=\"tdhistory870041\">StatName</th><th class=\"tdhistory870041\">'fare_amount'</th><th class=\"tdhistory870041\">'pickup_longitude'</th><th class=\"tdhistory870041\">'pickup_latitude'</th><th class=\"tdhistory870041\">'dropoff_longitude'</th><th class=\"tdhistory870041\">'dropoff_latitude'</th></tr></thead><tbody class=\"tdhistory870041 resultset-body\"><tr><th class=\"tdhistory870041\" style= \"background: rgba(243, 243, 243, 0.75)\">1</th><td class=\"tdhistory870041\">MAXIMUM</td><td class=\"tdhistory870041\">450.01</td><td class=\"tdhistory870041\">0</td><td class=\"tdhistory870041\">46.435387</td><td class=\"tdhistory870041\">0</td><td class=\"tdhistory870041\">46.232815</td></tr><tr><th class=\"tdhistory870041\" style= \"background: rgba(243, 243, 243, 0.75)\">2</th><td class=\"tdhistory870041\">MINIMUM</td><td class=\"tdhistory870041\">2.6</td><td class=\"tdhistory870041\">-88.810226</td><td class=\"tdhistory870041\">0</td><td class=\"tdhistory870041\">-89.452866</td><td class=\"tdhistory870041\">0</td></tr><tr><th class=\"tdhistory870041\" style= \"background: rgba(243, 243, 243, 0.75)\">3</th><td class=\"tdhistory870041\">PERCENTILES(1)</td><td class=\"tdhistory870041\">4</td><td class=\"tdhistory870041\">-74.013451</td><td class=\"tdhistory870041\">0</td><td class=\"tdhistory870041\">-74.01539663999999</td><td class=\"tdhistory870041\">0</td></tr><tr><th class=\"tdhistory870041\" style= \"background: rgba(243, 243, 243, 0.75)\">4</th><td class=\"tdhistory870041\">PERCENTILES(10)</td><td class=\"tdhistory870041\">6</td><td class=\"tdhistory870041\">-74.002739</td><td class=\"tdhistory870041\">40.717228</td><td class=\"tdhistory870041\">-74.002632</td><td class=\"tdhistory870041\">40.709984</td></tr><tr><th class=\"tdhistory870041\" style= \"background: rgba(243, 243, 243, 0.75)\">5</th><td class=\"tdhistory870041\">PERCENTILES(25)</td><td class=\"tdhistory870041\">8</td><td class=\"tdhistory870041\">-73.992554</td><td class=\"tdhistory870041\">40.731022</td><td class=\"tdhistory870041\">-73.991814</td><td class=\"tdhistory870041\">40.73106</td></tr><tr><th class=\"tdhistory870041\" style= \"background: rgba(243, 243, 243, 0.75)\">6</th><td class=\"tdhistory870041\">PERCENTILES(5)</td><td class=\"tdhistory870041\">5.5</td><td class=\"tdhistory870041\">-74.006348</td><td class=\"tdhistory870041\">40.7003828</td><td class=\"tdhistory870041\">-74.006889</td><td class=\"tdhistory870041\">40.683881</td></tr><tr><th class=\"tdhistory870041\" style= \"background: rgba(243, 243, 243, 0.75)\">7</th><td class=\"tdhistory870041\">PERCENTILES(50)</td><td class=\"tdhistory870041\">11.3</td><td class=\"tdhistory870041\">-73.98288</td><td class=\"tdhistory870041\">40.75008</td><td class=\"tdhistory870041\">-73.980759</td><td class=\"tdhistory870041\">40.750927</td></tr><tr><th class=\"tdhistory870041\" style= \"background: rgba(243, 243, 243, 0.75)\">8</th><td class=\"tdhistory870041\">PERCENTILES(75)</td><td class=\"tdhistory870041\">17</td><td class=\"tdhistory870041\">-73.967735</td><td class=\"tdhistory870041\">40.765484</td><td class=\"tdhistory870041\">-73.961685</td><td class=\"tdhistory870041\">40.767982</td></tr><tr><th class=\"tdhistory870041\" style= \"background: rgba(243, 243, 243, 0.75)\">9</th><td class=\"tdhistory870041\">PERCENTILES(90)</td><td class=\"tdhistory870041\">28.62</td><td class=\"tdhistory870041\">-73.950325</td><td class=\"tdhistory870041\">40.779202</td><td class=\"tdhistory870041\">-73.940895</td><td class=\"tdhistory870041\">40.783108</td></tr><tr><th class=\"tdhistory870041\" style= \"background: rgba(243, 243, 243, 0.75)\">10</th><td class=\"tdhistory870041\">PERCENTILES(95)</td><td class=\"tdhistory870041\">41.25</td><td class=\"tdhistory870041\">-73.873322</td><td class=\"tdhistory870041\">40.787151</td><td class=\"tdhistory870041\">-73.876793</td><td class=\"tdhistory870041\">40.795422</td></tr><tr><th class=\"tdhistory870041\" style= \"background: rgba(243, 243, 243, 0.75)\">11</th><td class=\"tdhistory870041\">PERCENTILES(99)</td><td class=\"tdhistory870041\">69.3</td><td class=\"tdhistory870041\">0</td><td class=\"tdhistory870041\">40.805256</td><td class=\"tdhistory870041\">0</td><td class=\"tdhistory870041\">40.834214519999996</td></tr></tbody></table></div>"
      ]
     },
     "execution_count": 15,
     "metadata": {
      "application/vnd.teradata.resultset": "{\"resultSetID\":\"/home/jovyan/JupyterLabRoot/Teradata/Resultsets/2023.07.13_11.54.25.273_UTC\",\"historyID\":181,\"chunkID\":\"00001\",\"sessionid\":\"\",\"portnum\":\"\",\"dockermode\":\"docker\",\"totalRowCount\":11,\"chunkCount\":0,\"rowLimit\":0,\"columnMetadata\":[{\"columnName\":\"StatName\",\"columnTypeName\":\"VARCHAR\",\"length\":31,\"scale\":31},{\"columnNumber\":1,\"columnName\":\"'fare_amount'\",\"columnTypeName\":\"FLOAT\"},{\"columnNumber\":2,\"columnName\":\"'pickup_longitude'\",\"columnTypeName\":\"FLOAT\"},{\"columnNumber\":3,\"columnName\":\"'pickup_latitude'\",\"columnTypeName\":\"FLOAT\"},{\"columnNumber\":4,\"columnName\":\"'dropoff_longitude'\",\"columnTypeName\":\"FLOAT\"},{\"columnNumber\":5,\"columnName\":\"'dropoff_latitude'\",\"columnTypeName\":\"FLOAT\"}]}"
     },
     "output_type": "execute_result"
    }
   ],
   "source": [
    "SELECT *\n",
    "FROM AllStats_pivoted\n",
    "WHERE \"StatName\" LIKE 'PERCENTILES(%)'\n",
    "    OR  \"StatName\" IN ('MINIMUM', 'MAXIMUM')\n",
    "ORDER BY 1;"
   ]
  },
  {
   "cell_type": "markdown",
   "metadata": {},
   "source": [
    "<hr>\n",
    "<p style = 'font-size:18px;font-family:Arial;color:#E37C4D'><b>3.2 Histograms for distribution analysis</b></p>\n",
    "\n",
    "<p style = 'font-size:16px;font-family:Arial'><a href = 'https://docs.teradata.com/r/Teradata-VantageTM-Advanced-SQL-Engine-Analytic-Functions/April-2022/Data-Exploration-Functions/TD_Histogram'>TD_Histogram</a> calculates the frequency distribution of a data set using your choice from these methods:</p>\n",
    "<ul style = 'font-size:16px;font-family:Arial'>\n",
    "    <li>Sturges, which uses w = r/(1 + log2n) for bin width</li>\n",
    "    <li>Scott, which uses w = 3.49s/(n1/3) for bin width</li>\n",
    "    <li>Variable-width, which requires a MinMax table</li>   \n",
    "    <li>Equal-width, which requires a MinMax table</li>\n",
    "    </ul>\n",
    "\n",
    "<p style = 'font-size:16px;font-family:Arial'>An example using Sturges is below; note that the algorithmic methods work best on normally distributed data, so in this case, the bin widths illustrate how a few extreme outliers can skew the overall data distribution.</p>"
   ]
  },
  {
   "cell_type": "code",
   "execution_count": 16,
   "metadata": {},
   "outputs": [
    {
     "data": {
      "application/vnd.teradata.resultset": "\"ColumnName\",\"Label\",\"MinValue\",\"MaxValue\",\"CountOfValues\",\"Bin_Percent\"\n\"fare_amount\",\"3\",\"150\",\"200\",\"69\",\"0.014584007051050367\"\n\"fare_amount\",\"8\",\"400\",\"450\",\"1\",\"0.00021136242102971542\"\n\"fare_amount\",\"5\",\"250\",\"300\",\"7\",\"0.001479536947208008\"\n\"fare_amount\",\"2\",\"100\",\"150\",\"387\",\"0.08179725693849987\"\n\"fare_amount\",\"1\",\"50\",\"100\",\"15264\",\"3.2262359945975767\"\n\"fare_amount\",\"9\",\"450\",\"500\",\"1\",\"0.00021136242102971542\"\n\"fare_amount\",\"7\",\"350\",\"400\",\"0\",\"0\"\n\"fare_amount\",\"4\",\"200\",\"250\",\"28\",\"0.005918147788832032\"\n\"fare_amount\",\"6\",\"300\",\"350\",\"4\",\"0.0008454496841188617\"\n\"fare_amount\",\"0\",\"0\",\"50\",\"457360\",\"96.66871688215065\"",
      "text/html": [
       "<div class = \"td-resultset-table-div\" style = \"max-height: 100%; overflow-y: auto\">\n",
       "      <table class=\"tdhistory958830\"><style>\n",
       "      table.tdhistory958830 { display: block !important; min-height: 294px !important; overflow: auto !important; height: 294px !important; width: 100% !important; border: 1px solid rgb(207, 207, 207) !important; border-collapse: collapse !important; ; color: var(--jp-ui-font-color1) !important; }\n",
       "      th.tdhistory958830 { border: 1px solid rgb(198,198,198) !important; border-collapse: collapse !important; ; padding: 2px 5px !important; ; font-size: 13px !important; ; text-align: center !important; white-space: normal !important; color: var(--jp-ui-font-color1) !important; }\n",
       "      th.tdhistory958830:last-child { text-align: left !important; }\n",
       "      tbody.tdhistory958830 tr:nth-child(even) { background: rgba(243, 243, 243, 0.75) !important; }\n",
       "      tbody.tdhistory958830 tr:nth-child(odd) { background: var(--jp-ui-inverse-font-color1) !important; }\n",
       "      td.tdhistory958830 { border: 1px solid rgb(207, 207, 207) !important; border-collapse: collapse !important; ; padding: 2px 5px !important; ; font-size: 13px !important; ; text-align: left !important;          white-space: nowrap !important; overflow:hidden !important; text-overflow:ellipsis !important;; }\n",
       "    </style><thead><tr style= \"background: rgba(243, 243, 243, 0.75)\"><th class=\"tdhistory958830\"></th><th class=\"tdhistory958830\">ColumnName</th><th class=\"tdhistory958830\">Label</th><th class=\"tdhistory958830\">MinValue</th><th class=\"tdhistory958830\">MaxValue</th><th class=\"tdhistory958830\">CountOfValues</th><th class=\"tdhistory958830\">Bin_Percent</th></tr></thead><tbody class=\"tdhistory958830 resultset-body\"><tr><th class=\"tdhistory958830\" style= \"background: rgba(243, 243, 243, 0.75)\">1</th><td class=\"tdhistory958830\">fare_amount</td><td class=\"tdhistory958830\">3</td><td class=\"tdhistory958830\">150</td><td class=\"tdhistory958830\">200</td><td class=\"tdhistory958830\">69</td><td class=\"tdhistory958830\">0.014584007051050367</td></tr><tr><th class=\"tdhistory958830\" style= \"background: rgba(243, 243, 243, 0.75)\">2</th><td class=\"tdhistory958830\">fare_amount</td><td class=\"tdhistory958830\">8</td><td class=\"tdhistory958830\">400</td><td class=\"tdhistory958830\">450</td><td class=\"tdhistory958830\">1</td><td class=\"tdhistory958830\">0.00021136242102971542</td></tr><tr><th class=\"tdhistory958830\" style= \"background: rgba(243, 243, 243, 0.75)\">3</th><td class=\"tdhistory958830\">fare_amount</td><td class=\"tdhistory958830\">5</td><td class=\"tdhistory958830\">250</td><td class=\"tdhistory958830\">300</td><td class=\"tdhistory958830\">7</td><td class=\"tdhistory958830\">0.001479536947208008</td></tr><tr><th class=\"tdhistory958830\" style= \"background: rgba(243, 243, 243, 0.75)\">4</th><td class=\"tdhistory958830\">fare_amount</td><td class=\"tdhistory958830\">2</td><td class=\"tdhistory958830\">100</td><td class=\"tdhistory958830\">150</td><td class=\"tdhistory958830\">387</td><td class=\"tdhistory958830\">0.08179725693849987</td></tr><tr><th class=\"tdhistory958830\" style= \"background: rgba(243, 243, 243, 0.75)\">5</th><td class=\"tdhistory958830\">fare_amount</td><td class=\"tdhistory958830\">1</td><td class=\"tdhistory958830\">50</td><td class=\"tdhistory958830\">100</td><td class=\"tdhistory958830\">15264</td><td class=\"tdhistory958830\">3.2262359945975767</td></tr><tr><th class=\"tdhistory958830\" style= \"background: rgba(243, 243, 243, 0.75)\">6</th><td class=\"tdhistory958830\">fare_amount</td><td class=\"tdhistory958830\">9</td><td class=\"tdhistory958830\">450</td><td class=\"tdhistory958830\">500</td><td class=\"tdhistory958830\">1</td><td class=\"tdhistory958830\">0.00021136242102971542</td></tr><tr><th class=\"tdhistory958830\" style= \"background: rgba(243, 243, 243, 0.75)\">7</th><td class=\"tdhistory958830\">fare_amount</td><td class=\"tdhistory958830\">7</td><td class=\"tdhistory958830\">350</td><td class=\"tdhistory958830\">400</td><td class=\"tdhistory958830\">0</td><td class=\"tdhistory958830\">0</td></tr><tr><th class=\"tdhistory958830\" style= \"background: rgba(243, 243, 243, 0.75)\">8</th><td class=\"tdhistory958830\">fare_amount</td><td class=\"tdhistory958830\">4</td><td class=\"tdhistory958830\">200</td><td class=\"tdhistory958830\">250</td><td class=\"tdhistory958830\">28</td><td class=\"tdhistory958830\">0.005918147788832032</td></tr><tr><th class=\"tdhistory958830\" style= \"background: rgba(243, 243, 243, 0.75)\">9</th><td class=\"tdhistory958830\">fare_amount</td><td class=\"tdhistory958830\">6</td><td class=\"tdhistory958830\">300</td><td class=\"tdhistory958830\">350</td><td class=\"tdhistory958830\">4</td><td class=\"tdhistory958830\">0.0008454496841188617</td></tr><tr><th class=\"tdhistory958830\" style= \"background: rgba(243, 243, 243, 0.75)\">10</th><td class=\"tdhistory958830\">fare_amount</td><td class=\"tdhistory958830\">0</td><td class=\"tdhistory958830\">0</td><td class=\"tdhistory958830\">50</td><td class=\"tdhistory958830\">457360</td><td class=\"tdhistory958830\">96.66871688215065</td></tr></tbody></table></div>"
      ]
     },
     "execution_count": 16,
     "metadata": {
      "application/vnd.teradata.resultset": "{\"resultSetID\":\"/home/jovyan/JupyterLabRoot/Teradata/Resultsets/2023.07.13_11.54.26.793_UTC\",\"historyID\":182,\"chunkID\":\"00001\",\"sessionid\":\"\",\"portnum\":\"\",\"dockermode\":\"docker\",\"totalRowCount\":10,\"chunkCount\":0,\"rowLimit\":0,\"columnMetadata\":[{\"columnName\":\"ColumnName\",\"columnTypeName\":\"VARCHAR\",\"length\":128,\"scale\":128},{\"columnNumber\":1,\"columnName\":\"Label\",\"columnTypeName\":\"BIGINT\"},{\"columnNumber\":2,\"columnName\":\"MinValue\",\"columnTypeName\":\"FLOAT\"},{\"columnNumber\":3,\"columnName\":\"MaxValue\",\"columnTypeName\":\"FLOAT\"},{\"columnNumber\":4,\"columnName\":\"CountOfValues\",\"columnTypeName\":\"BIGINT\"},{\"columnNumber\":5,\"columnName\":\"Bin_Percent\",\"columnTypeName\":\"FLOAT\"}]}"
     },
     "output_type": "execute_result"
    }
   ],
   "source": [
    "SELECT *\n",
    "FROM TD_Histogram (\n",
    "    ON NYC_FULL_T AS InputTable\n",
    "    USING\n",
    "    TargetColumn('fare_amount')\n",
    "    MethodType('Sturges')\n",
    ") AS dt ORDER BY 1;"
   ]
  },
  {
   "cell_type": "code",
   "execution_count": 17,
   "metadata": {},
   "outputs": [
    {
     "data": {
      "application/vnd.vegalite.v3+json": {
       "$schema": "https://vega.github.io/schema/vega-lite/v3.json",
       "data": {
        "format": {
         "type": "csv"
        },
        "values": "\"ColumnName\",\"Label\",\"MinValue\",\"MaxValue\",\"CountOfValues\",\"Bin_Percent\"\n\"fare_amount\",\"3\",\"150\",\"200\",\"69\",\"0.014584007051050367\"\n\"fare_amount\",\"8\",\"400\",\"450\",\"1\",\"0.00021136242102971542\"\n\"fare_amount\",\"5\",\"250\",\"300\",\"7\",\"0.001479536947208008\"\n\"fare_amount\",\"2\",\"100\",\"150\",\"387\",\"0.08179725693849987\"\n\"fare_amount\",\"1\",\"50\",\"100\",\"15264\",\"3.2262359945975767\"\n\"fare_amount\",\"9\",\"450\",\"500\",\"1\",\"0.00021136242102971542\"\n\"fare_amount\",\"7\",\"350\",\"400\",\"0\",\"0\"\n\"fare_amount\",\"4\",\"200\",\"250\",\"28\",\"0.005918147788832032\"\n\"fare_amount\",\"6\",\"300\",\"350\",\"4\",\"0.0008454496841188617\"\n\"fare_amount\",\"0\",\"0\",\"50\",\"457360\",\"96.66871688215065\"\n"
       },
       "encoding": {
        "x": {
         "axis": {
          "grid": true,
          "title": "MinValue"
         },
         "field": "MinValue",
         "type": "quantitative"
        },
        "y": {
         "axis": {
          "grid": true,
          "title": "bin_percent"
         },
         "field": "Bin_Percent",
         "type": "quantitative"
        }
       },
       "mark": {
        "color": "#4C78A8",
        "type": "bar"
       },
       "title": "Histogram of fare_amount"
      },
      "image/png": "[encoded data removed]"
     },
     "execution_count": 17,
     "metadata": {
      "application/vnd.teradata.resultset": ""
     },
     "output_type": "execute_result"
    }
   ],
   "source": [
    "%chart x = MinValue, y = bin_percent, title = \"Histogram of fare_amount\""
   ]
  },
  {
   "cell_type": "markdown",
   "metadata": {},
   "source": [
    "<p style = 'font-size:16px;font-family:Arial'>The results above indicate that <b>96.6%</b> of fares are in the range 0-50. Almost all the data is residing in the 0-100 fare price range.</p>"
   ]
  },
  {
   "cell_type": "markdown",
   "metadata": {},
   "source": [
    "<hr>\n",
    "<p style = 'font-size:18px;font-family:Arial;color:#E37C4D'><b>3.3 Histograms with MinMax table</b></p>\n",
    "\n",
    "<p style = 'font-size:16px;font-family:Arial'>An alternative method for defining bin width is to use a MinMax table. For fixed-width bins, the MinMax table only needs two columns, \"MinValue\" and \"MaxValue\", representing the column's overall min and max values. For variable-width bins, the MinMax table needs an extra \"label\" column, and each row MinValue and MaxValue will represent the value range of the bin.</p>\n",
    "\n",
    "<p style = 'font-size:16px;font-family:Arial'>Specifically for the fare amount column, this MinMax table will only bin values from 0 to 100 in the specified range. Visualization of the results yields a much more manageable distribution.</p>"
   ]
  },
  {
   "cell_type": "code",
   "execution_count": 18,
   "metadata": {},
   "outputs": [
    {
     "data": {
      "text/plain": [
       "Success: 0 rows affected"
      ]
     },
     "execution_count": 18,
     "metadata": {
      "application/vnd.teradata.resultset": ""
     },
     "output_type": "execute_result"
    }
   ],
   "source": [
    "CREATE MULTISET TABLE fare_amount_minmax ( \n",
    "    MinValue INTEGER, \n",
    "    MaxValue INTEGER,\n",
    "    Label VARCHAR(10)\n",
    ");"
   ]
  },
  {
   "cell_type": "code",
   "execution_count": 19,
   "metadata": {},
   "outputs": [
    {
     "name": "stdout",
     "output_type": "stream",
     "text": [
      "Using database: demo_user\n",
      "2023-07-13T11:54:27.300 Start Batch Loading...\n",
      "  \u001b[36m\u001b[m   \n",
      "Data Load: Number Rows Loaded = 51, Elapsed Time = 00:00:00.403, History ID = 184\n",
      "Success Loading Data: from file,'/home/jovyan/JupyterLabRoot/UseCases/Outlier_Analysis/data/EDA_MinMax.csv', into table, demo_user.fare_amount_minmax."
     ]
    }
   ],
   "source": [
    "%dataload table=fare_amount_minmax, database=demo_user, filepath=UseCases/Outlier_Analysis/data/EDA_MinMax.csv"
   ]
  },
  {
   "cell_type": "code",
   "execution_count": 20,
   "metadata": {},
   "outputs": [
    {
     "data": {
      "application/vnd.teradata.resultset": "\"MinValue\",\"MaxValue\",\"Label\"\n\"0\",\"2\",\"0-2\"\n\"2\",\"4\",\"2-4\"\n\"4\",\"6\",\"4-6\"\n\"6\",\"8\",\"6-8\"\n\"8\",\"10\",\"8-10\"\n\"10\",\"12\",\"10-12\"\n\"12\",\"14\",\"12-14\"\n\"14\",\"16\",\"14-16\"\n\"16\",\"18\",\"16-18\"\n\"18\",\"20\",\"18-20\"\n\"20\",\"22\",\"20-22\"\n\"22\",\"24\",\"22-24\"\n\"24\",\"26\",\"24-26\"\n\"26\",\"28\",\"26-28\"\n\"28\",\"30\",\"28-30\"\n\"30\",\"32\",\"30-32\"\n\"32\",\"34\",\"32-34\"\n\"34\",\"36\",\"34-36\"\n\"36\",\"38\",\"36-38\"\n\"38\",\"40\",\"38-40\"\n\"40\",\"42\",\"40-42\"\n\"42\",\"44\",\"42-44\"\n\"44\",\"46\",\"44-46\"\n\"46\",\"48\",\"46-48\"\n\"48\",\"50\",\"48-50\"\n\"50\",\"52\",\"50-52\"\n\"52\",\"54\",\"52-54\"\n\"54\",\"56\",\"54-56\"\n\"56\",\"58\",\"56-58\"\n\"58\",\"60\",\"58-60\"\n\"60\",\"62\",\"60-62\"\n\"62\",\"64\",\"62-64\"\n\"64\",\"66\",\"64-66\"\n\"66\",\"68\",\"66-68\"\n\"68\",\"70\",\"68-70\"\n\"70\",\"72\",\"70-72\"\n\"72\",\"74\",\"72-74\"\n\"74\",\"76\",\"74-76\"\n\"76\",\"78\",\"76-78\"\n\"78\",\"80\",\"78-80\"\n\"80\",\"82\",\"80-82\"\n\"82\",\"84\",\"82-84\"\n\"84\",\"86\",\"84-86\"\n\"86\",\"88\",\"86-88\"\n\"88\",\"90\",\"88-90\"\n\"90\",\"92\",\"90-92\"\n\"92\",\"94\",\"92-94\"\n\"94\",\"96\",\"94-96\"\n\"96\",\"98\",\"96-98\"\n\"98\",\"100\",\"98-100\"\n\"100\",\"100\",\"100\"",
      "text/html": [
       "<div class = \"td-resultset-table-div\" style = \"max-height: 100%; overflow-y: auto\">\n",
       "      <table class=\"tdhistory646924\"><style>\n",
       "      table.tdhistory646924 { display: block !important; min-height: 588px !important; overflow: auto !important; height: 588px !important; width: 100% !important; border: 1px solid rgb(207, 207, 207) !important; border-collapse: collapse !important; ; color: var(--jp-ui-font-color1) !important; }\n",
       "      th.tdhistory646924 { border: 1px solid rgb(198,198,198) !important; border-collapse: collapse !important; ; padding: 2px 5px !important; ; font-size: 13px !important; ; text-align: center !important; white-space: normal !important; color: var(--jp-ui-font-color1) !important; }\n",
       "      th.tdhistory646924:last-child { text-align: left !important; }\n",
       "      tbody.tdhistory646924 tr:nth-child(even) { background: rgba(243, 243, 243, 0.75) !important; }\n",
       "      tbody.tdhistory646924 tr:nth-child(odd) { background: var(--jp-ui-inverse-font-color1) !important; }\n",
       "      td.tdhistory646924 { border: 1px solid rgb(207, 207, 207) !important; border-collapse: collapse !important; ; padding: 2px 5px !important; ; font-size: 13px !important; ; text-align: left !important;          white-space: nowrap !important; overflow:hidden !important; text-overflow:ellipsis !important;; }\n",
       "    </style><thead><tr style= \"background: rgba(243, 243, 243, 0.75)\"><th class=\"tdhistory646924\"></th><th class=\"tdhistory646924\">MinValue</th><th class=\"tdhistory646924\">MaxValue</th><th class=\"tdhistory646924\">Label</th></tr></thead><tbody class=\"tdhistory646924 resultset-body\"><tr><th class=\"tdhistory646924\" style= \"background: rgba(243, 243, 243, 0.75)\">1</th><td class=\"tdhistory646924\">0</td><td class=\"tdhistory646924\">2</td><td class=\"tdhistory646924\">0-2</td></tr><tr><th class=\"tdhistory646924\" style= \"background: rgba(243, 243, 243, 0.75)\">2</th><td class=\"tdhistory646924\">2</td><td class=\"tdhistory646924\">4</td><td class=\"tdhistory646924\">2-4</td></tr><tr><th class=\"tdhistory646924\" style= \"background: rgba(243, 243, 243, 0.75)\">3</th><td class=\"tdhistory646924\">4</td><td class=\"tdhistory646924\">6</td><td class=\"tdhistory646924\">4-6</td></tr><tr><th class=\"tdhistory646924\" style= \"background: rgba(243, 243, 243, 0.75)\">4</th><td class=\"tdhistory646924\">6</td><td class=\"tdhistory646924\">8</td><td class=\"tdhistory646924\">6-8</td></tr><tr><th class=\"tdhistory646924\" style= \"background: rgba(243, 243, 243, 0.75)\">5</th><td class=\"tdhistory646924\">8</td><td class=\"tdhistory646924\">10</td><td class=\"tdhistory646924\">8-10</td></tr><tr><th class=\"tdhistory646924\" style= \"background: rgba(243, 243, 243, 0.75)\">6</th><td class=\"tdhistory646924\">10</td><td class=\"tdhistory646924\">12</td><td class=\"tdhistory646924\">10-12</td></tr><tr><th class=\"tdhistory646924\" style= \"background: rgba(243, 243, 243, 0.75)\">7</th><td class=\"tdhistory646924\">12</td><td class=\"tdhistory646924\">14</td><td class=\"tdhistory646924\">12-14</td></tr><tr><th class=\"tdhistory646924\" style= \"background: rgba(243, 243, 243, 0.75)\">8</th><td class=\"tdhistory646924\">14</td><td class=\"tdhistory646924\">16</td><td class=\"tdhistory646924\">14-16</td></tr><tr><th class=\"tdhistory646924\" style= \"background: rgba(243, 243, 243, 0.75)\">9</th><td class=\"tdhistory646924\">16</td><td class=\"tdhistory646924\">18</td><td class=\"tdhistory646924\">16-18</td></tr><tr><th class=\"tdhistory646924\" style= \"background: rgba(243, 243, 243, 0.75)\">10</th><td class=\"tdhistory646924\">18</td><td class=\"tdhistory646924\">20</td><td class=\"tdhistory646924\">18-20</td></tr><tr><th class=\"tdhistory646924\" style= \"background: rgba(243, 243, 243, 0.75)\">11</th><td class=\"tdhistory646924\">20</td><td class=\"tdhistory646924\">22</td><td class=\"tdhistory646924\">20-22</td></tr><tr><th class=\"tdhistory646924\" style= \"background: rgba(243, 243, 243, 0.75)\">12</th><td class=\"tdhistory646924\">22</td><td class=\"tdhistory646924\">24</td><td class=\"tdhistory646924\">22-24</td></tr><tr><th class=\"tdhistory646924\" style= \"background: rgba(243, 243, 243, 0.75)\">13</th><td class=\"tdhistory646924\">24</td><td class=\"tdhistory646924\">26</td><td class=\"tdhistory646924\">24-26</td></tr><tr><th class=\"tdhistory646924\" style= \"background: rgba(243, 243, 243, 0.75)\">14</th><td class=\"tdhistory646924\">26</td><td class=\"tdhistory646924\">28</td><td class=\"tdhistory646924\">26-28</td></tr><tr><th class=\"tdhistory646924\" style= \"background: rgba(243, 243, 243, 0.75)\">15</th><td class=\"tdhistory646924\">28</td><td class=\"tdhistory646924\">30</td><td class=\"tdhistory646924\">28-30</td></tr><tr><th class=\"tdhistory646924\" style= \"background: rgba(243, 243, 243, 0.75)\">16</th><td class=\"tdhistory646924\">30</td><td class=\"tdhistory646924\">32</td><td class=\"tdhistory646924\">30-32</td></tr><tr><th class=\"tdhistory646924\" style= \"background: rgba(243, 243, 243, 0.75)\">17</th><td class=\"tdhistory646924\">32</td><td class=\"tdhistory646924\">34</td><td class=\"tdhistory646924\">32-34</td></tr><tr><th class=\"tdhistory646924\" style= \"background: rgba(243, 243, 243, 0.75)\">18</th><td class=\"tdhistory646924\">34</td><td class=\"tdhistory646924\">36</td><td class=\"tdhistory646924\">34-36</td></tr><tr><th class=\"tdhistory646924\" style= \"background: rgba(243, 243, 243, 0.75)\">19</th><td class=\"tdhistory646924\">36</td><td class=\"tdhistory646924\">38</td><td class=\"tdhistory646924\">36-38</td></tr><tr><th class=\"tdhistory646924\" style= \"background: rgba(243, 243, 243, 0.75)\">20</th><td class=\"tdhistory646924\">38</td><td class=\"tdhistory646924\">40</td><td class=\"tdhistory646924\">38-40</td></tr><tr><th class=\"tdhistory646924\" style= \"background: rgba(243, 243, 243, 0.75)\">21</th><td class=\"tdhistory646924\">40</td><td class=\"tdhistory646924\">42</td><td class=\"tdhistory646924\">40-42</td></tr><tr><th class=\"tdhistory646924\" style= \"background: rgba(243, 243, 243, 0.75)\">22</th><td class=\"tdhistory646924\">42</td><td class=\"tdhistory646924\">44</td><td class=\"tdhistory646924\">42-44</td></tr><tr><th class=\"tdhistory646924\" style= \"background: rgba(243, 243, 243, 0.75)\">23</th><td class=\"tdhistory646924\">44</td><td class=\"tdhistory646924\">46</td><td class=\"tdhistory646924\">44-46</td></tr><tr><th class=\"tdhistory646924\" style= \"background: rgba(243, 243, 243, 0.75)\">24</th><td class=\"tdhistory646924\">46</td><td class=\"tdhistory646924\">48</td><td class=\"tdhistory646924\">46-48</td></tr><tr><th class=\"tdhistory646924\" style= \"background: rgba(243, 243, 243, 0.75)\">25</th><td class=\"tdhistory646924\">48</td><td class=\"tdhistory646924\">50</td><td class=\"tdhistory646924\">48-50</td></tr><tr><th class=\"tdhistory646924\" style= \"background: rgba(243, 243, 243, 0.75)\">26</th><td class=\"tdhistory646924\">50</td><td class=\"tdhistory646924\">52</td><td class=\"tdhistory646924\">50-52</td></tr><tr><th class=\"tdhistory646924\" style= \"background: rgba(243, 243, 243, 0.75)\">27</th><td class=\"tdhistory646924\">52</td><td class=\"tdhistory646924\">54</td><td class=\"tdhistory646924\">52-54</td></tr><tr><th class=\"tdhistory646924\" style= \"background: rgba(243, 243, 243, 0.75)\">28</th><td class=\"tdhistory646924\">54</td><td class=\"tdhistory646924\">56</td><td class=\"tdhistory646924\">54-56</td></tr><tr><th class=\"tdhistory646924\" style= \"background: rgba(243, 243, 243, 0.75)\">29</th><td class=\"tdhistory646924\">56</td><td class=\"tdhistory646924\">58</td><td class=\"tdhistory646924\">56-58</td></tr><tr><th class=\"tdhistory646924\" style= \"background: rgba(243, 243, 243, 0.75)\">30</th><td class=\"tdhistory646924\">58</td><td class=\"tdhistory646924\">60</td><td class=\"tdhistory646924\">58-60</td></tr><tr><th class=\"tdhistory646924\" style= \"background: rgba(243, 243, 243, 0.75)\">31</th><td class=\"tdhistory646924\">60</td><td class=\"tdhistory646924\">62</td><td class=\"tdhistory646924\">60-62</td></tr><tr><th class=\"tdhistory646924\" style= \"background: rgba(243, 243, 243, 0.75)\">32</th><td class=\"tdhistory646924\">62</td><td class=\"tdhistory646924\">64</td><td class=\"tdhistory646924\">62-64</td></tr><tr><th class=\"tdhistory646924\" style= \"background: rgba(243, 243, 243, 0.75)\">33</th><td class=\"tdhistory646924\">64</td><td class=\"tdhistory646924\">66</td><td class=\"tdhistory646924\">64-66</td></tr><tr><th class=\"tdhistory646924\" style= \"background: rgba(243, 243, 243, 0.75)\">34</th><td class=\"tdhistory646924\">66</td><td class=\"tdhistory646924\">68</td><td class=\"tdhistory646924\">66-68</td></tr><tr><th class=\"tdhistory646924\" style= \"background: rgba(243, 243, 243, 0.75)\">35</th><td class=\"tdhistory646924\">68</td><td class=\"tdhistory646924\">70</td><td class=\"tdhistory646924\">68-70</td></tr><tr><th class=\"tdhistory646924\" style= \"background: rgba(243, 243, 243, 0.75)\">36</th><td class=\"tdhistory646924\">70</td><td class=\"tdhistory646924\">72</td><td class=\"tdhistory646924\">70-72</td></tr><tr><th class=\"tdhistory646924\" style= \"background: rgba(243, 243, 243, 0.75)\">37</th><td class=\"tdhistory646924\">72</td><td class=\"tdhistory646924\">74</td><td class=\"tdhistory646924\">72-74</td></tr><tr><th class=\"tdhistory646924\" style= \"background: rgba(243, 243, 243, 0.75)\">38</th><td class=\"tdhistory646924\">74</td><td class=\"tdhistory646924\">76</td><td class=\"tdhistory646924\">74-76</td></tr><tr><th class=\"tdhistory646924\" style= \"background: rgba(243, 243, 243, 0.75)\">39</th><td class=\"tdhistory646924\">76</td><td class=\"tdhistory646924\">78</td><td class=\"tdhistory646924\">76-78</td></tr><tr><th class=\"tdhistory646924\" style= \"background: rgba(243, 243, 243, 0.75)\">40</th><td class=\"tdhistory646924\">78</td><td class=\"tdhistory646924\">80</td><td class=\"tdhistory646924\">78-80</td></tr><tr><th class=\"tdhistory646924\" style= \"background: rgba(243, 243, 243, 0.75)\">41</th><td class=\"tdhistory646924\">80</td><td class=\"tdhistory646924\">82</td><td class=\"tdhistory646924\">80-82</td></tr><tr><th class=\"tdhistory646924\" style= \"background: rgba(243, 243, 243, 0.75)\">42</th><td class=\"tdhistory646924\">82</td><td class=\"tdhistory646924\">84</td><td class=\"tdhistory646924\">82-84</td></tr><tr><th class=\"tdhistory646924\" style= \"background: rgba(243, 243, 243, 0.75)\">43</th><td class=\"tdhistory646924\">84</td><td class=\"tdhistory646924\">86</td><td class=\"tdhistory646924\">84-86</td></tr><tr><th class=\"tdhistory646924\" style= \"background: rgba(243, 243, 243, 0.75)\">44</th><td class=\"tdhistory646924\">86</td><td class=\"tdhistory646924\">88</td><td class=\"tdhistory646924\">86-88</td></tr><tr><th class=\"tdhistory646924\" style= \"background: rgba(243, 243, 243, 0.75)\">45</th><td class=\"tdhistory646924\">88</td><td class=\"tdhistory646924\">90</td><td class=\"tdhistory646924\">88-90</td></tr><tr><th class=\"tdhistory646924\" style= \"background: rgba(243, 243, 243, 0.75)\">46</th><td class=\"tdhistory646924\">90</td><td class=\"tdhistory646924\">92</td><td class=\"tdhistory646924\">90-92</td></tr><tr><th class=\"tdhistory646924\" style= \"background: rgba(243, 243, 243, 0.75)\">47</th><td class=\"tdhistory646924\">92</td><td class=\"tdhistory646924\">94</td><td class=\"tdhistory646924\">92-94</td></tr><tr><th class=\"tdhistory646924\" style= \"background: rgba(243, 243, 243, 0.75)\">48</th><td class=\"tdhistory646924\">94</td><td class=\"tdhistory646924\">96</td><td class=\"tdhistory646924\">94-96</td></tr><tr><th class=\"tdhistory646924\" style= \"background: rgba(243, 243, 243, 0.75)\">49</th><td class=\"tdhistory646924\">96</td><td class=\"tdhistory646924\">98</td><td class=\"tdhistory646924\">96-98</td></tr><tr><th class=\"tdhistory646924\" style= \"background: rgba(243, 243, 243, 0.75)\">50</th><td class=\"tdhistory646924\">98</td><td class=\"tdhistory646924\">100</td><td class=\"tdhistory646924\">98-100</td></tr><tr><th class=\"tdhistory646924\" style= \"background: rgba(243, 243, 243, 0.75)\">51</th><td class=\"tdhistory646924\">100</td><td class=\"tdhistory646924\">100</td><td class=\"tdhistory646924\">100</td></tr></tbody></table></div>"
      ]
     },
     "execution_count": 20,
     "metadata": {
      "application/vnd.teradata.resultset": "{\"resultSetID\":\"/home/jovyan/JupyterLabRoot/Teradata/Resultsets/2023.07.13_11.54.27.478_UTC\",\"historyID\":185,\"chunkID\":\"00001\",\"sessionid\":\"\",\"portnum\":\"\",\"dockermode\":\"docker\",\"totalRowCount\":51,\"chunkCount\":0,\"rowLimit\":0,\"columnMetadata\":[{\"columnName\":\"MinValue\",\"columnTypeName\":\"INTEGER\"},{\"columnNumber\":1,\"columnName\":\"MaxValue\",\"columnTypeName\":\"INTEGER\"},{\"columnNumber\":2,\"columnName\":\"Label\",\"columnTypeName\":\"VARCHAR\",\"length\":10,\"scale\":10}]}"
     },
     "output_type": "execute_result"
    }
   ],
   "source": [
    "SELECT * FROM fare_amount_minmax ORDER BY MinValue;"
   ]
  },
  {
   "cell_type": "markdown",
   "metadata": {},
   "source": [
    "<p style = 'font-size:16px;font-family:Arial'>The table fare_amount_minmax has 51 bins of width 2 in the range 0 to 100. We will use this table to create a variable-width histogram. Note that you can change the fare_amount_minmax table to declare bins of any width.</p>"
   ]
  },
  {
   "cell_type": "code",
   "execution_count": 21,
   "metadata": {},
   "outputs": [
    {
     "data": {
      "application/vnd.teradata.resultset": "\"ColumnName\",\"Label\",\"MinValue\",\"MaxValue\",\"CountOfValues\",\"Bin_Percent\"\n\"fare_amount\",\"0-2\",\"0\",\"2\",\"0\",\"0\"\n\"fare_amount\",\"10-12\",\"10\",\"12\",\"64678\",\"13.670498667359935\"\n\"fare_amount\",\"100\",\"100\",\"100\",\"0\",\"0\"\n\"fare_amount\",\"12-14\",\"12\",\"14\",\"48759\",\"10.305820286987895\"\n\"fare_amount\",\"14-16\",\"14\",\"16\",\"35016\",\"7.401066534776516\"\n\"fare_amount\",\"16-18\",\"16\",\"18\",\"27424\",\"5.796403034318916\"\n\"fare_amount\",\"18-20\",\"18\",\"20\",\"19887\",\"4.203364467017951\"\n\"fare_amount\",\"2-4\",\"2\",\"4\",\"2474\",\"0.522910629627516\"\n\"fare_amount\",\"20-22\",\"20\",\"22\",\"14299\",\"3.0222712583039013\"\n\"fare_amount\",\"22-24\",\"22\",\"24\",\"10916\",\"2.307232187960374\"\n\"fare_amount\",\"24-26\",\"24\",\"26\",\"8302\",\"1.7547308193886977\"\n\"fare_amount\",\"26-28\",\"26\",\"28\",\"5910\",\"1.2491519082856184\"\n\"fare_amount\",\"28-30\",\"28\",\"30\",\"5143\",\"1.0870369313558266\"\n\"fare_amount\",\"30-32\",\"30\",\"32\",\"4328\",\"0.9147765582166085\"\n\"fare_amount\",\"32-34\",\"32\",\"34\",\"3739\",\"0.790284092230106\"\n\"fare_amount\",\"34-36\",\"34\",\"36\",\"3780\",\"0.7989499514923244\"\n\"fare_amount\",\"36-38\",\"36\",\"38\",\"3589\",\"0.7585797290756487\"\n\"fare_amount\",\"38-40\",\"38\",\"40\",\"3295\",\"0.6964391772929124\"\n\"fare_amount\",\"4-6\",\"4\",\"6\",\"33071\",\"6.98996662587372\"\n\"fare_amount\",\"40-42\",\"40\",\"42\",\"2893\",\"0.6114714840389668\"\n\"fare_amount\",\"42-44\",\"42\",\"44\",\"2220\",\"0.4692245746859683\"\n\"fare_amount\",\"44-46\",\"44\",\"46\",\"2052\",\"0.43371568795297605\"\n\"fare_amount\",\"46-48\",\"46\",\"48\",\"1478\",\"0.31239365828191945\"\n\"fare_amount\",\"48-50\",\"48\",\"50\",\"1203\",\"0.2542689924987477\"\n\"fare_amount\",\"50-52\",\"50\",\"52\",\"978\",\"0.2067124477670617\"\n\"fare_amount\",\"52-54\",\"52\",\"54\",\"1636\",\"0.34578892080461443\"\n\"fare_amount\",\"54-56\",\"54\",\"56\",\"567\",\"0.11984249272384866\"\n\"fare_amount\",\"56-58\",\"56\",\"58\",\"3229\",\"0.6824892575049512\"\n\"fare_amount\",\"58-60\",\"58\",\"60\",\"458\",\"0.09680398883160968\"\n\"fare_amount\",\"6-8\",\"6\",\"8\",\"76119\",\"16.08869612636091\"\n\"fare_amount\",\"60-62\",\"60\",\"62\",\"638\",\"0.13484922461695845\"\n\"fare_amount\",\"62-64\",\"62\",\"64\",\"1485\",\"0.31387319522912743\"\n\"fare_amount\",\"64-66\",\"64\",\"66\",\"843\",\"0.17817852092805012\"\n\"fare_amount\",\"66-68\",\"66\",\"68\",\"649\",\"0.1371742112482853\"\n\"fare_amount\",\"68-70\",\"68\",\"70\",\"2538\",\"0.5364378245734178\"\n\"fare_amount\",\"70-72\",\"70\",\"72\",\"201\",\"0.042483846626972806\"\n\"fare_amount\",\"72-74\",\"72\",\"74\",\"713\",\"0.1507014061941871\"\n\"fare_amount\",\"74-76\",\"74\",\"76\",\"267\",\"0.05643376641493403\"\n\"fare_amount\",\"76-78\",\"76\",\"78\",\"122\",\"0.025786215365625285\"\n\"fare_amount\",\"78-80\",\"78\",\"80\",\"115\",\"0.024306678418417275\"\n\"fare_amount\",\"8-10\",\"8\",\"10\",\"76785\",\"16.229463498766698\"\n\"fare_amount\",\"80-82\",\"80\",\"82\",\"125\",\"0.02642030262871443\"\n\"fare_amount\",\"82-84\",\"82\",\"84\",\"107\",\"0.022615779050179554\"\n\"fare_amount\",\"84-86\",\"84\",\"86\",\"100\",\"0.021136242102971544\"\n\"fare_amount\",\"86-88\",\"86\",\"88\",\"70\",\"0.01479536947208008\"\n\"fare_amount\",\"88-90\",\"88\",\"90\",\"76\",\"0.016063543998258375\"\n\"fare_amount\",\"90-92\",\"90\",\"92\",\"91\",\"0.019233980313704106\"\n\"fare_amount\",\"92-94\",\"92\",\"94\",\"61\",\"0.012893107682812642\"\n\"fare_amount\",\"94-96\",\"94\",\"96\",\"65\",\"0.013738557366931503\"\n\"fare_amount\",\"96-98\",\"96\",\"98\",\"81\",\"0.01712035610340695\"\n\"fare_amount\",\"98-100\",\"98\",\"100\",\"73\",\"0.015429456735169227\"",
      "text/html": [
       "<div class = \"td-resultset-table-div\" style = \"max-height: 100%; overflow-y: auto\">\n",
       "      <table class=\"tdhistory109990\"><style>\n",
       "      table.tdhistory109990 { display: block !important; min-height: 588px !important; overflow: auto !important; height: 588px !important; width: 100% !important; border: 1px solid rgb(207, 207, 207) !important; border-collapse: collapse !important; ; color: var(--jp-ui-font-color1) !important; }\n",
       "      th.tdhistory109990 { border: 1px solid rgb(198,198,198) !important; border-collapse: collapse !important; ; padding: 2px 5px !important; ; font-size: 13px !important; ; text-align: center !important; white-space: normal !important; color: var(--jp-ui-font-color1) !important; }\n",
       "      th.tdhistory109990:last-child { text-align: left !important; }\n",
       "      tbody.tdhistory109990 tr:nth-child(even) { background: rgba(243, 243, 243, 0.75) !important; }\n",
       "      tbody.tdhistory109990 tr:nth-child(odd) { background: var(--jp-ui-inverse-font-color1) !important; }\n",
       "      td.tdhistory109990 { border: 1px solid rgb(207, 207, 207) !important; border-collapse: collapse !important; ; padding: 2px 5px !important; ; font-size: 13px !important; ; text-align: left !important;          white-space: nowrap !important; overflow:hidden !important; text-overflow:ellipsis !important;; }\n",
       "    </style><thead><tr style= \"background: rgba(243, 243, 243, 0.75)\"><th class=\"tdhistory109990\"></th><th class=\"tdhistory109990\">ColumnName</th><th class=\"tdhistory109990\">Label</th><th class=\"tdhistory109990\">MinValue</th><th class=\"tdhistory109990\">MaxValue</th><th class=\"tdhistory109990\">CountOfValues</th><th class=\"tdhistory109990\">Bin_Percent</th></tr></thead><tbody class=\"tdhistory109990 resultset-body\"><tr><th class=\"tdhistory109990\" style= \"background: rgba(243, 243, 243, 0.75)\">1</th><td class=\"tdhistory109990\">fare_amount</td><td class=\"tdhistory109990\">0-2</td><td class=\"tdhistory109990\">0</td><td class=\"tdhistory109990\">2</td><td class=\"tdhistory109990\">0</td><td class=\"tdhistory109990\">0</td></tr><tr><th class=\"tdhistory109990\" style= \"background: rgba(243, 243, 243, 0.75)\">2</th><td class=\"tdhistory109990\">fare_amount</td><td class=\"tdhistory109990\">10-12</td><td class=\"tdhistory109990\">10</td><td class=\"tdhistory109990\">12</td><td class=\"tdhistory109990\">64678</td><td class=\"tdhistory109990\">13.670498667359935</td></tr><tr><th class=\"tdhistory109990\" style= \"background: rgba(243, 243, 243, 0.75)\">3</th><td class=\"tdhistory109990\">fare_amount</td><td class=\"tdhistory109990\">100</td><td class=\"tdhistory109990\">100</td><td class=\"tdhistory109990\">100</td><td class=\"tdhistory109990\">0</td><td class=\"tdhistory109990\">0</td></tr><tr><th class=\"tdhistory109990\" style= \"background: rgba(243, 243, 243, 0.75)\">4</th><td class=\"tdhistory109990\">fare_amount</td><td class=\"tdhistory109990\">12-14</td><td class=\"tdhistory109990\">12</td><td class=\"tdhistory109990\">14</td><td class=\"tdhistory109990\">48759</td><td class=\"tdhistory109990\">10.305820286987895</td></tr><tr><th class=\"tdhistory109990\" style= \"background: rgba(243, 243, 243, 0.75)\">5</th><td class=\"tdhistory109990\">fare_amount</td><td class=\"tdhistory109990\">14-16</td><td class=\"tdhistory109990\">14</td><td class=\"tdhistory109990\">16</td><td class=\"tdhistory109990\">35016</td><td class=\"tdhistory109990\">7.401066534776516</td></tr><tr><th class=\"tdhistory109990\" style= \"background: rgba(243, 243, 243, 0.75)\">6</th><td class=\"tdhistory109990\">fare_amount</td><td class=\"tdhistory109990\">16-18</td><td class=\"tdhistory109990\">16</td><td class=\"tdhistory109990\">18</td><td class=\"tdhistory109990\">27424</td><td class=\"tdhistory109990\">5.796403034318916</td></tr><tr><th class=\"tdhistory109990\" style= \"background: rgba(243, 243, 243, 0.75)\">7</th><td class=\"tdhistory109990\">fare_amount</td><td class=\"tdhistory109990\">18-20</td><td class=\"tdhistory109990\">18</td><td class=\"tdhistory109990\">20</td><td class=\"tdhistory109990\">19887</td><td class=\"tdhistory109990\">4.203364467017951</td></tr><tr><th class=\"tdhistory109990\" style= \"background: rgba(243, 243, 243, 0.75)\">8</th><td class=\"tdhistory109990\">fare_amount</td><td class=\"tdhistory109990\">2-4</td><td class=\"tdhistory109990\">2</td><td class=\"tdhistory109990\">4</td><td class=\"tdhistory109990\">2474</td><td class=\"tdhistory109990\">0.522910629627516</td></tr><tr><th class=\"tdhistory109990\" style= \"background: rgba(243, 243, 243, 0.75)\">9</th><td class=\"tdhistory109990\">fare_amount</td><td class=\"tdhistory109990\">20-22</td><td class=\"tdhistory109990\">20</td><td class=\"tdhistory109990\">22</td><td class=\"tdhistory109990\">14299</td><td class=\"tdhistory109990\">3.0222712583039013</td></tr><tr><th class=\"tdhistory109990\" style= \"background: rgba(243, 243, 243, 0.75)\">10</th><td class=\"tdhistory109990\">fare_amount</td><td class=\"tdhistory109990\">22-24</td><td class=\"tdhistory109990\">22</td><td class=\"tdhistory109990\">24</td><td class=\"tdhistory109990\">10916</td><td class=\"tdhistory109990\">2.307232187960374</td></tr><tr><th class=\"tdhistory109990\" style= \"background: rgba(243, 243, 243, 0.75)\">11</th><td class=\"tdhistory109990\">fare_amount</td><td class=\"tdhistory109990\">24-26</td><td class=\"tdhistory109990\">24</td><td class=\"tdhistory109990\">26</td><td class=\"tdhistory109990\">8302</td><td class=\"tdhistory109990\">1.7547308193886977</td></tr><tr><th class=\"tdhistory109990\" style= \"background: rgba(243, 243, 243, 0.75)\">12</th><td class=\"tdhistory109990\">fare_amount</td><td class=\"tdhistory109990\">26-28</td><td class=\"tdhistory109990\">26</td><td class=\"tdhistory109990\">28</td><td class=\"tdhistory109990\">5910</td><td class=\"tdhistory109990\">1.2491519082856184</td></tr><tr><th class=\"tdhistory109990\" style= \"background: rgba(243, 243, 243, 0.75)\">13</th><td class=\"tdhistory109990\">fare_amount</td><td class=\"tdhistory109990\">28-30</td><td class=\"tdhistory109990\">28</td><td class=\"tdhistory109990\">30</td><td class=\"tdhistory109990\">5143</td><td class=\"tdhistory109990\">1.0870369313558266</td></tr><tr><th class=\"tdhistory109990\" style= \"background: rgba(243, 243, 243, 0.75)\">14</th><td class=\"tdhistory109990\">fare_amount</td><td class=\"tdhistory109990\">30-32</td><td class=\"tdhistory109990\">30</td><td class=\"tdhistory109990\">32</td><td class=\"tdhistory109990\">4328</td><td class=\"tdhistory109990\">0.9147765582166085</td></tr><tr><th class=\"tdhistory109990\" style= \"background: rgba(243, 243, 243, 0.75)\">15</th><td class=\"tdhistory109990\">fare_amount</td><td class=\"tdhistory109990\">32-34</td><td class=\"tdhistory109990\">32</td><td class=\"tdhistory109990\">34</td><td class=\"tdhistory109990\">3739</td><td class=\"tdhistory109990\">0.790284092230106</td></tr><tr><th class=\"tdhistory109990\" style= \"background: rgba(243, 243, 243, 0.75)\">16</th><td class=\"tdhistory109990\">fare_amount</td><td class=\"tdhistory109990\">34-36</td><td class=\"tdhistory109990\">34</td><td class=\"tdhistory109990\">36</td><td class=\"tdhistory109990\">3780</td><td class=\"tdhistory109990\">0.7989499514923244</td></tr><tr><th class=\"tdhistory109990\" style= \"background: rgba(243, 243, 243, 0.75)\">17</th><td class=\"tdhistory109990\">fare_amount</td><td class=\"tdhistory109990\">36-38</td><td class=\"tdhistory109990\">36</td><td class=\"tdhistory109990\">38</td><td class=\"tdhistory109990\">3589</td><td class=\"tdhistory109990\">0.7585797290756487</td></tr><tr><th class=\"tdhistory109990\" style= \"background: rgba(243, 243, 243, 0.75)\">18</th><td class=\"tdhistory109990\">fare_amount</td><td class=\"tdhistory109990\">38-40</td><td class=\"tdhistory109990\">38</td><td class=\"tdhistory109990\">40</td><td class=\"tdhistory109990\">3295</td><td class=\"tdhistory109990\">0.6964391772929124</td></tr><tr><th class=\"tdhistory109990\" style= \"background: rgba(243, 243, 243, 0.75)\">19</th><td class=\"tdhistory109990\">fare_amount</td><td class=\"tdhistory109990\">4-6</td><td class=\"tdhistory109990\">4</td><td class=\"tdhistory109990\">6</td><td class=\"tdhistory109990\">33071</td><td class=\"tdhistory109990\">6.98996662587372</td></tr><tr><th class=\"tdhistory109990\" style= \"background: rgba(243, 243, 243, 0.75)\">20</th><td class=\"tdhistory109990\">fare_amount</td><td class=\"tdhistory109990\">40-42</td><td class=\"tdhistory109990\">40</td><td class=\"tdhistory109990\">42</td><td class=\"tdhistory109990\">2893</td><td class=\"tdhistory109990\">0.6114714840389668</td></tr><tr><th class=\"tdhistory109990\" style= \"background: rgba(243, 243, 243, 0.75)\">21</th><td class=\"tdhistory109990\">fare_amount</td><td class=\"tdhistory109990\">42-44</td><td class=\"tdhistory109990\">42</td><td class=\"tdhistory109990\">44</td><td class=\"tdhistory109990\">2220</td><td class=\"tdhistory109990\">0.4692245746859683</td></tr><tr><th class=\"tdhistory109990\" style= \"background: rgba(243, 243, 243, 0.75)\">22</th><td class=\"tdhistory109990\">fare_amount</td><td class=\"tdhistory109990\">44-46</td><td class=\"tdhistory109990\">44</td><td class=\"tdhistory109990\">46</td><td class=\"tdhistory109990\">2052</td><td class=\"tdhistory109990\">0.43371568795297605</td></tr><tr><th class=\"tdhistory109990\" style= \"background: rgba(243, 243, 243, 0.75)\">23</th><td class=\"tdhistory109990\">fare_amount</td><td class=\"tdhistory109990\">46-48</td><td class=\"tdhistory109990\">46</td><td class=\"tdhistory109990\">48</td><td class=\"tdhistory109990\">1478</td><td class=\"tdhistory109990\">0.31239365828191945</td></tr><tr><th class=\"tdhistory109990\" style= \"background: rgba(243, 243, 243, 0.75)\">24</th><td class=\"tdhistory109990\">fare_amount</td><td class=\"tdhistory109990\">48-50</td><td class=\"tdhistory109990\">48</td><td class=\"tdhistory109990\">50</td><td class=\"tdhistory109990\">1203</td><td class=\"tdhistory109990\">0.2542689924987477</td></tr><tr><th class=\"tdhistory109990\" style= \"background: rgba(243, 243, 243, 0.75)\">25</th><td class=\"tdhistory109990\">fare_amount</td><td class=\"tdhistory109990\">50-52</td><td class=\"tdhistory109990\">50</td><td class=\"tdhistory109990\">52</td><td class=\"tdhistory109990\">978</td><td class=\"tdhistory109990\">0.2067124477670617</td></tr><tr><th class=\"tdhistory109990\" style= \"background: rgba(243, 243, 243, 0.75)\">26</th><td class=\"tdhistory109990\">fare_amount</td><td class=\"tdhistory109990\">52-54</td><td class=\"tdhistory109990\">52</td><td class=\"tdhistory109990\">54</td><td class=\"tdhistory109990\">1636</td><td class=\"tdhistory109990\">0.34578892080461443</td></tr><tr><th class=\"tdhistory109990\" style= \"background: rgba(243, 243, 243, 0.75)\">27</th><td class=\"tdhistory109990\">fare_amount</td><td class=\"tdhistory109990\">54-56</td><td class=\"tdhistory109990\">54</td><td class=\"tdhistory109990\">56</td><td class=\"tdhistory109990\">567</td><td class=\"tdhistory109990\">0.11984249272384866</td></tr><tr><th class=\"tdhistory109990\" style= \"background: rgba(243, 243, 243, 0.75)\">28</th><td class=\"tdhistory109990\">fare_amount</td><td class=\"tdhistory109990\">56-58</td><td class=\"tdhistory109990\">56</td><td class=\"tdhistory109990\">58</td><td class=\"tdhistory109990\">3229</td><td class=\"tdhistory109990\">0.6824892575049512</td></tr><tr><th class=\"tdhistory109990\" style= \"background: rgba(243, 243, 243, 0.75)\">29</th><td class=\"tdhistory109990\">fare_amount</td><td class=\"tdhistory109990\">58-60</td><td class=\"tdhistory109990\">58</td><td class=\"tdhistory109990\">60</td><td class=\"tdhistory109990\">458</td><td class=\"tdhistory109990\">0.09680398883160968</td></tr><tr><th class=\"tdhistory109990\" style= \"background: rgba(243, 243, 243, 0.75)\">30</th><td class=\"tdhistory109990\">fare_amount</td><td class=\"tdhistory109990\">6-8</td><td class=\"tdhistory109990\">6</td><td class=\"tdhistory109990\">8</td><td class=\"tdhistory109990\">76119</td><td class=\"tdhistory109990\">16.08869612636091</td></tr><tr><th class=\"tdhistory109990\" style= \"background: rgba(243, 243, 243, 0.75)\">31</th><td class=\"tdhistory109990\">fare_amount</td><td class=\"tdhistory109990\">60-62</td><td class=\"tdhistory109990\">60</td><td class=\"tdhistory109990\">62</td><td class=\"tdhistory109990\">638</td><td class=\"tdhistory109990\">0.13484922461695845</td></tr><tr><th class=\"tdhistory109990\" style= \"background: rgba(243, 243, 243, 0.75)\">32</th><td class=\"tdhistory109990\">fare_amount</td><td class=\"tdhistory109990\">62-64</td><td class=\"tdhistory109990\">62</td><td class=\"tdhistory109990\">64</td><td class=\"tdhistory109990\">1485</td><td class=\"tdhistory109990\">0.31387319522912743</td></tr><tr><th class=\"tdhistory109990\" style= \"background: rgba(243, 243, 243, 0.75)\">33</th><td class=\"tdhistory109990\">fare_amount</td><td class=\"tdhistory109990\">64-66</td><td class=\"tdhistory109990\">64</td><td class=\"tdhistory109990\">66</td><td class=\"tdhistory109990\">843</td><td class=\"tdhistory109990\">0.17817852092805012</td></tr><tr><th class=\"tdhistory109990\" style= \"background: rgba(243, 243, 243, 0.75)\">34</th><td class=\"tdhistory109990\">fare_amount</td><td class=\"tdhistory109990\">66-68</td><td class=\"tdhistory109990\">66</td><td class=\"tdhistory109990\">68</td><td class=\"tdhistory109990\">649</td><td class=\"tdhistory109990\">0.1371742112482853</td></tr><tr><th class=\"tdhistory109990\" style= \"background: rgba(243, 243, 243, 0.75)\">35</th><td class=\"tdhistory109990\">fare_amount</td><td class=\"tdhistory109990\">68-70</td><td class=\"tdhistory109990\">68</td><td class=\"tdhistory109990\">70</td><td class=\"tdhistory109990\">2538</td><td class=\"tdhistory109990\">0.5364378245734178</td></tr><tr><th class=\"tdhistory109990\" style= \"background: rgba(243, 243, 243, 0.75)\">36</th><td class=\"tdhistory109990\">fare_amount</td><td class=\"tdhistory109990\">70-72</td><td class=\"tdhistory109990\">70</td><td class=\"tdhistory109990\">72</td><td class=\"tdhistory109990\">201</td><td class=\"tdhistory109990\">0.042483846626972806</td></tr><tr><th class=\"tdhistory109990\" style= \"background: rgba(243, 243, 243, 0.75)\">37</th><td class=\"tdhistory109990\">fare_amount</td><td class=\"tdhistory109990\">72-74</td><td class=\"tdhistory109990\">72</td><td class=\"tdhistory109990\">74</td><td class=\"tdhistory109990\">713</td><td class=\"tdhistory109990\">0.1507014061941871</td></tr><tr><th class=\"tdhistory109990\" style= \"background: rgba(243, 243, 243, 0.75)\">38</th><td class=\"tdhistory109990\">fare_amount</td><td class=\"tdhistory109990\">74-76</td><td class=\"tdhistory109990\">74</td><td class=\"tdhistory109990\">76</td><td class=\"tdhistory109990\">267</td><td class=\"tdhistory109990\">0.05643376641493403</td></tr><tr><th class=\"tdhistory109990\" style= \"background: rgba(243, 243, 243, 0.75)\">39</th><td class=\"tdhistory109990\">fare_amount</td><td class=\"tdhistory109990\">76-78</td><td class=\"tdhistory109990\">76</td><td class=\"tdhistory109990\">78</td><td class=\"tdhistory109990\">122</td><td class=\"tdhistory109990\">0.025786215365625285</td></tr><tr><th class=\"tdhistory109990\" style= \"background: rgba(243, 243, 243, 0.75)\">40</th><td class=\"tdhistory109990\">fare_amount</td><td class=\"tdhistory109990\">78-80</td><td class=\"tdhistory109990\">78</td><td class=\"tdhistory109990\">80</td><td class=\"tdhistory109990\">115</td><td class=\"tdhistory109990\">0.024306678418417275</td></tr><tr><th class=\"tdhistory109990\" style= \"background: rgba(243, 243, 243, 0.75)\">41</th><td class=\"tdhistory109990\">fare_amount</td><td class=\"tdhistory109990\">8-10</td><td class=\"tdhistory109990\">8</td><td class=\"tdhistory109990\">10</td><td class=\"tdhistory109990\">76785</td><td class=\"tdhistory109990\">16.229463498766698</td></tr><tr><th class=\"tdhistory109990\" style= \"background: rgba(243, 243, 243, 0.75)\">42</th><td class=\"tdhistory109990\">fare_amount</td><td class=\"tdhistory109990\">80-82</td><td class=\"tdhistory109990\">80</td><td class=\"tdhistory109990\">82</td><td class=\"tdhistory109990\">125</td><td class=\"tdhistory109990\">0.02642030262871443</td></tr><tr><th class=\"tdhistory109990\" style= \"background: rgba(243, 243, 243, 0.75)\">43</th><td class=\"tdhistory109990\">fare_amount</td><td class=\"tdhistory109990\">82-84</td><td class=\"tdhistory109990\">82</td><td class=\"tdhistory109990\">84</td><td class=\"tdhistory109990\">107</td><td class=\"tdhistory109990\">0.022615779050179554</td></tr><tr><th class=\"tdhistory109990\" style= \"background: rgba(243, 243, 243, 0.75)\">44</th><td class=\"tdhistory109990\">fare_amount</td><td class=\"tdhistory109990\">84-86</td><td class=\"tdhistory109990\">84</td><td class=\"tdhistory109990\">86</td><td class=\"tdhistory109990\">100</td><td class=\"tdhistory109990\">0.021136242102971544</td></tr><tr><th class=\"tdhistory109990\" style= \"background: rgba(243, 243, 243, 0.75)\">45</th><td class=\"tdhistory109990\">fare_amount</td><td class=\"tdhistory109990\">86-88</td><td class=\"tdhistory109990\">86</td><td class=\"tdhistory109990\">88</td><td class=\"tdhistory109990\">70</td><td class=\"tdhistory109990\">0.01479536947208008</td></tr><tr><th class=\"tdhistory109990\" style= \"background: rgba(243, 243, 243, 0.75)\">46</th><td class=\"tdhistory109990\">fare_amount</td><td class=\"tdhistory109990\">88-90</td><td class=\"tdhistory109990\">88</td><td class=\"tdhistory109990\">90</td><td class=\"tdhistory109990\">76</td><td class=\"tdhistory109990\">0.016063543998258375</td></tr><tr><th class=\"tdhistory109990\" style= \"background: rgba(243, 243, 243, 0.75)\">47</th><td class=\"tdhistory109990\">fare_amount</td><td class=\"tdhistory109990\">90-92</td><td class=\"tdhistory109990\">90</td><td class=\"tdhistory109990\">92</td><td class=\"tdhistory109990\">91</td><td class=\"tdhistory109990\">0.019233980313704106</td></tr><tr><th class=\"tdhistory109990\" style= \"background: rgba(243, 243, 243, 0.75)\">48</th><td class=\"tdhistory109990\">fare_amount</td><td class=\"tdhistory109990\">92-94</td><td class=\"tdhistory109990\">92</td><td class=\"tdhistory109990\">94</td><td class=\"tdhistory109990\">61</td><td class=\"tdhistory109990\">0.012893107682812642</td></tr><tr><th class=\"tdhistory109990\" style= \"background: rgba(243, 243, 243, 0.75)\">49</th><td class=\"tdhistory109990\">fare_amount</td><td class=\"tdhistory109990\">94-96</td><td class=\"tdhistory109990\">94</td><td class=\"tdhistory109990\">96</td><td class=\"tdhistory109990\">65</td><td class=\"tdhistory109990\">0.013738557366931503</td></tr><tr><th class=\"tdhistory109990\" style= \"background: rgba(243, 243, 243, 0.75)\">50</th><td class=\"tdhistory109990\">fare_amount</td><td class=\"tdhistory109990\">96-98</td><td class=\"tdhistory109990\">96</td><td class=\"tdhistory109990\">98</td><td class=\"tdhistory109990\">81</td><td class=\"tdhistory109990\">0.01712035610340695</td></tr><tr><th class=\"tdhistory109990\" style= \"background: rgba(243, 243, 243, 0.75)\">51</th><td class=\"tdhistory109990\">fare_amount</td><td class=\"tdhistory109990\">98-100</td><td class=\"tdhistory109990\">98</td><td class=\"tdhistory109990\">100</td><td class=\"tdhistory109990\">73</td><td class=\"tdhistory109990\">0.015429456735169227</td></tr></tbody></table></div>"
      ]
     },
     "execution_count": 21,
     "metadata": {
      "application/vnd.teradata.resultset": "{\"resultSetID\":\"/home/jovyan/JupyterLabRoot/Teradata/Resultsets/2023.07.13_11.54.28.736_UTC\",\"historyID\":186,\"chunkID\":\"00001\",\"sessionid\":\"\",\"portnum\":\"\",\"dockermode\":\"docker\",\"totalRowCount\":51,\"chunkCount\":0,\"rowLimit\":0,\"columnMetadata\":[{\"columnName\":\"ColumnName\",\"columnTypeName\":\"VARCHAR\",\"length\":128,\"scale\":128},{\"columnNumber\":1,\"columnName\":\"Label\",\"columnTypeName\":\"VARCHAR\",\"length\":128,\"scale\":128},{\"columnNumber\":2,\"columnName\":\"MinValue\",\"columnTypeName\":\"FLOAT\"},{\"columnNumber\":3,\"columnName\":\"MaxValue\",\"columnTypeName\":\"FLOAT\"},{\"columnNumber\":4,\"columnName\":\"CountOfValues\",\"columnTypeName\":\"BIGINT\"},{\"columnNumber\":5,\"columnName\":\"Bin_Percent\",\"columnTypeName\":\"FLOAT\"}]}"
     },
     "output_type": "execute_result"
    }
   ],
   "source": [
    "SELECT *\n",
    "FROM TD_Histogram (\n",
    "    ON NYC_FULL_T AS InputTable\n",
    "    ON fare_amount_minmax AS minmax DIMENSION\n",
    "    USING\n",
    "    MethodType ('variable-width')\n",
    "    TargetColumn ('fare_amount')\n",
    "    nbins(51)\n",
    ") AS dt ORDER BY 2;"
   ]
  },
  {
   "cell_type": "code",
   "execution_count": 22,
   "metadata": {},
   "outputs": [
    {
     "data": {
      "application/vnd.vegalite.v3+json": {
       "$schema": "https://vega.github.io/schema/vega-lite/v3.json",
       "data": {
        "format": {
         "type": "csv"
        },
        "values": "\"ColumnName\",\"Label\",\"MinValue\",\"MaxValue\",\"CountOfValues\",\"Bin_Percent\"\n\"fare_amount\",\"0-2\",\"0\",\"2\",\"0\",\"0\"\n\"fare_amount\",\"10-12\",\"10\",\"12\",\"64678\",\"13.670498667359935\"\n\"fare_amount\",\"100\",\"100\",\"100\",\"0\",\"0\"\n\"fare_amount\",\"12-14\",\"12\",\"14\",\"48759\",\"10.305820286987895\"\n\"fare_amount\",\"14-16\",\"14\",\"16\",\"35016\",\"7.401066534776516\"\n\"fare_amount\",\"16-18\",\"16\",\"18\",\"27424\",\"5.796403034318916\"\n\"fare_amount\",\"18-20\",\"18\",\"20\",\"19887\",\"4.203364467017951\"\n\"fare_amount\",\"2-4\",\"2\",\"4\",\"2474\",\"0.522910629627516\"\n\"fare_amount\",\"20-22\",\"20\",\"22\",\"14299\",\"3.0222712583039013\"\n\"fare_amount\",\"22-24\",\"22\",\"24\",\"10916\",\"2.307232187960374\"\n\"fare_amount\",\"24-26\",\"24\",\"26\",\"8302\",\"1.7547308193886977\"\n\"fare_amount\",\"26-28\",\"26\",\"28\",\"5910\",\"1.2491519082856184\"\n\"fare_amount\",\"28-30\",\"28\",\"30\",\"5143\",\"1.0870369313558266\"\n\"fare_amount\",\"30-32\",\"30\",\"32\",\"4328\",\"0.9147765582166085\"\n\"fare_amount\",\"32-34\",\"32\",\"34\",\"3739\",\"0.790284092230106\"\n\"fare_amount\",\"34-36\",\"34\",\"36\",\"3780\",\"0.7989499514923244\"\n\"fare_amount\",\"36-38\",\"36\",\"38\",\"3589\",\"0.7585797290756487\"\n\"fare_amount\",\"38-40\",\"38\",\"40\",\"3295\",\"0.6964391772929124\"\n\"fare_amount\",\"4-6\",\"4\",\"6\",\"33071\",\"6.98996662587372\"\n\"fare_amount\",\"40-42\",\"40\",\"42\",\"2893\",\"0.6114714840389668\"\n\"fare_amount\",\"42-44\",\"42\",\"44\",\"2220\",\"0.4692245746859683\"\n\"fare_amount\",\"44-46\",\"44\",\"46\",\"2052\",\"0.43371568795297605\"\n\"fare_amount\",\"46-48\",\"46\",\"48\",\"1478\",\"0.31239365828191945\"\n\"fare_amount\",\"48-50\",\"48\",\"50\",\"1203\",\"0.2542689924987477\"\n\"fare_amount\",\"50-52\",\"50\",\"52\",\"978\",\"0.2067124477670617\"\n\"fare_amount\",\"52-54\",\"52\",\"54\",\"1636\",\"0.34578892080461443\"\n\"fare_amount\",\"54-56\",\"54\",\"56\",\"567\",\"0.11984249272384866\"\n\"fare_amount\",\"56-58\",\"56\",\"58\",\"3229\",\"0.6824892575049512\"\n\"fare_amount\",\"58-60\",\"58\",\"60\",\"458\",\"0.09680398883160968\"\n\"fare_amount\",\"6-8\",\"6\",\"8\",\"76119\",\"16.08869612636091\"\n\"fare_amount\",\"60-62\",\"60\",\"62\",\"638\",\"0.13484922461695845\"\n\"fare_amount\",\"62-64\",\"62\",\"64\",\"1485\",\"0.31387319522912743\"\n\"fare_amount\",\"64-66\",\"64\",\"66\",\"843\",\"0.17817852092805012\"\n\"fare_amount\",\"66-68\",\"66\",\"68\",\"649\",\"0.1371742112482853\"\n\"fare_amount\",\"68-70\",\"68\",\"70\",\"2538\",\"0.5364378245734178\"\n\"fare_amount\",\"70-72\",\"70\",\"72\",\"201\",\"0.042483846626972806\"\n\"fare_amount\",\"72-74\",\"72\",\"74\",\"713\",\"0.1507014061941871\"\n\"fare_amount\",\"74-76\",\"74\",\"76\",\"267\",\"0.05643376641493403\"\n\"fare_amount\",\"76-78\",\"76\",\"78\",\"122\",\"0.025786215365625285\"\n\"fare_amount\",\"78-80\",\"78\",\"80\",\"115\",\"0.024306678418417275\"\n\"fare_amount\",\"8-10\",\"8\",\"10\",\"76785\",\"16.229463498766698\"\n\"fare_amount\",\"80-82\",\"80\",\"82\",\"125\",\"0.02642030262871443\"\n\"fare_amount\",\"82-84\",\"82\",\"84\",\"107\",\"0.022615779050179554\"\n\"fare_amount\",\"84-86\",\"84\",\"86\",\"100\",\"0.021136242102971544\"\n\"fare_amount\",\"86-88\",\"86\",\"88\",\"70\",\"0.01479536947208008\"\n\"fare_amount\",\"88-90\",\"88\",\"90\",\"76\",\"0.016063543998258375\"\n\"fare_amount\",\"90-92\",\"90\",\"92\",\"91\",\"0.019233980313704106\"\n\"fare_amount\",\"92-94\",\"92\",\"94\",\"61\",\"0.012893107682812642\"\n\"fare_amount\",\"94-96\",\"94\",\"96\",\"65\",\"0.013738557366931503\"\n\"fare_amount\",\"96-98\",\"96\",\"98\",\"81\",\"0.01712035610340695\"\n\"fare_amount\",\"98-100\",\"98\",\"100\",\"73\",\"0.015429456735169227\"\n"
       },
       "encoding": {
        "x": {
         "axis": {
          "grid": true,
          "title": "MinValue"
         },
         "field": "MinValue",
         "type": "quantitative"
        },
        "y": {
         "axis": {
          "grid": true,
          "title": "bin_percent"
         },
         "field": "Bin_Percent",
         "type": "quantitative"
        }
       },
       "mark": {
        "color": "#4C78A8",
        "type": "bar"
       },
       "title": "Histogram of fare_amount (0 to 100)",
       "width": "500"
      },
      "image/png": "[encoded data removed]"
     },
     "execution_count": 22,
     "metadata": {
      "application/vnd.teradata.resultset": ""
     },
     "output_type": "execute_result"
    }
   ],
   "source": [
    "%chart x=MinValue, y=bin_percent, title=\"Histogram of fare_amount (0 to 100)\", width=500"
   ]
  },
  {
   "cell_type": "markdown",
   "metadata": {},
   "source": [
    "<p style = 'font-size:16px;font-family:Arial'>Now we have a better visualization of the distribution of majority of trips with fare in the range 1 to 100.</p>"
   ]
  },
  {
   "cell_type": "markdown",
   "metadata": {},
   "source": [
    "<hr>\n",
    "<b style = 'font-size:28px;font-family:Arial;color:#E37C4D'>4. Outlier Removal</b>\n",
    "\n",
    "<p style = 'font-size:16px;font-family:Arial'>At this point, we've identified that our data has some extreme outliers. The Histogram illustration quantifies this for fare amount, but if we inspect the other columns, we will see similar features in the data.</p>\n",
    "\n",
    "<p style = 'font-size:16px;font-family:Arial'>TD_OutlierFilterFit and TD_OutlierFilterTransform can selectively modify values or remove rows representing the outlier columns.</p>\n",
    "\n",
    "<ol style = 'font-size:16px;font-family:Arial'>\n",
    "    <li>Create a Fit Table using TD_OutlierFilterFit</li>\n",
    "    <li>Transform the data set using TD_OutlierFilterTransform</li>\n",
    "    <li>Compare distributions before and after</li>\n",
    "</ol>"
   ]
  },
  {
   "cell_type": "markdown",
   "metadata": {},
   "source": [
    "<hr>\n",
    "<p style = 'font-size:18px;font-family:Arial;color:#E37C4D'><b>4.1 TD_OutlierFilterFit</b></p>\n",
    "\n",
    "<p style = 'font-size:16px;font-family:Arial'><a href = 'https://docs.teradata.com/search/all?query=TD_OutlierFilterFit&content-lang=en-US'>TD_OutlierFilterFit</a> function calculates the lower_percentile, upper_percentile, count of rows and median for the specified input table columns. The calculated values for each column help the TD_OutlierFilterTransform function detect outliers in the input table.</p>\n",
    "<p style = 'font-size:16px;font-family:Arial'>Some select parameters include</p>\n",
    "<ul style = 'font-size:16px;font-family:Arial'>\n",
    "    <li>TargetColumns; which takes a list or a range of values/ordinals</li>\n",
    "    <li>ReplacementValue; delete, null. median, or a value</li>\n",
    "    <li>OutlierMethod; Percentile, tukey, or carling</li>\n",
    "    <li>Variable-width, which requires a MinMax table</li>   \n",
    "    <li>Other outlier identification parameters depending on OutlierMethod</li>\n",
    "    </ul>\n",
    "\n",
    "<p style = 'font-size:16px;font-family:Arial'>In this case, we will use the Percentile method on our latitude/longitude on columns to delete rows containing outlier values. Additional parameter values define upper and lower percentile values and the percentile calculation method (Discrete).</p>\n",
    "<p style = 'font-size:16px;font-family:Arial'><b><i>*Note that the next cell might take upto 1 minute to run.</i><b>"
   ]
  },
  {
   "cell_type": "code",
   "execution_count": 23,
   "metadata": {},
   "outputs": [
    {
     "data": {
      "text/plain": [
       "Success: 0 rows affected"
      ]
     },
     "execution_count": 23,
     "metadata": {
      "application/vnd.teradata.resultset": ""
     },
     "output_type": "execute_result"
    }
   ],
   "source": [
    "CREATE TABLE OutlierFitTbl AS(\n",
    "    SELECT *\n",
    "        FROM TD_OutlierFilterFit(\n",
    "            ON NYC_FULL_T AS InputTable\n",
    "            USING\n",
    "            TargetColumns('pickup_longitude', 'pickup_latitude', 'dropoff_longitude', 'dropoff_latitude')  \n",
    "            LowerPercentile(0.02)\n",
    "            UpperPercentile(0.98)  \n",
    "            OutlierMethod('Percentile')            \n",
    "            ReplacementValue('delete')\n",
    "        ) AS dt\n",
    ") WITH DATA;"
   ]
  },
  {
   "cell_type": "code",
   "execution_count": 24,
   "metadata": {},
   "outputs": [
    {
     "data": {
      "application/vnd.teradata.resultset": "\"TD_OUTLIERMETHOD_OFTFIT\",\"TD_IQRMULTIPLIER_OFTFIT\",\"TD_REMOVETAIL_OFTFIT\",\"TD_REPLACEMENTVALUE_OFTFIT\",\"TD_MINTHRESHOLD_OFTFIT\",\"TD_MAXTHRESHOLD_OFTFIT\",\"TD_ATTRIBUTEVALUE_OFTFIT\",\"TD_COUNTVALUE_OFTFIT\",\"TD_MEDIANVALUE_OFTFIT\",\"TD_LOWERPERCENTILE_OFTFIT\",\"TD_UPPERPERCENTILE_OFTFIT\"\n\"PERCENTILE\",\"1.5\",\"BOTH\",\"DELETE\",\"0.02\",\"0.98\",\"dropoff_longitude\",\"480493\",\"-73.980759\",\"-74.011742\",\"-73.783173\"\n\"PERCENTILE\",\"1.5\",\"BOTH\",\"DELETE\",\"0.02\",\"0.98\",\"pickup_longitude\",\"480493\",\"-73.98288\",\"-74.009659\",\"-73.782463\"\n\"PERCENTILE\",\"1.5\",\"BOTH\",\"DELETE\",\"0.02\",\"0.98\",\"dropoff_latitude\",\"480493\",\"40.750927\",\"40.642479\",\"40.812508\"\n\"PERCENTILE\",\"1.5\",\"BOTH\",\"DELETE\",\"0.02\",\"0.98\",\"pickup_latitude\",\"480493\",\"40.75008\",\"40.644638\",\"40.798721\"",
      "text/html": [
       "<div class = \"td-resultset-table-div\" style = \"max-height: 100%; overflow-y: auto\">\n",
       "      <table class=\"tdhistory952586\"><style>\n",
       "      table.tdhistory952586 { display: block !important; min-height: 168px !important; overflow: auto !important; height: 168px !important; width: 100% !important; border: 1px solid rgb(207, 207, 207) !important; border-collapse: collapse !important; ; color: var(--jp-ui-font-color1) !important; }\n",
       "      th.tdhistory952586 { border: 1px solid rgb(198,198,198) !important; border-collapse: collapse !important; ; padding: 2px 5px !important; ; font-size: 13px !important; ; text-align: center !important; white-space: normal !important; color: var(--jp-ui-font-color1) !important; }\n",
       "      th.tdhistory952586:last-child { text-align: left !important; }\n",
       "      tbody.tdhistory952586 tr:nth-child(even) { background: rgba(243, 243, 243, 0.75) !important; }\n",
       "      tbody.tdhistory952586 tr:nth-child(odd) { background: var(--jp-ui-inverse-font-color1) !important; }\n",
       "      td.tdhistory952586 { border: 1px solid rgb(207, 207, 207) !important; border-collapse: collapse !important; ; padding: 2px 5px !important; ; font-size: 13px !important; ; text-align: left !important;          white-space: nowrap !important; overflow:hidden !important; text-overflow:ellipsis !important;; }\n",
       "    </style><thead><tr style= \"background: rgba(243, 243, 243, 0.75)\"><th class=\"tdhistory952586\"></th><th class=\"tdhistory952586\">TD_OUTLIERMETHOD_OFTFIT</th><th class=\"tdhistory952586\">TD_IQRMULTIPLIER_OFTFIT</th><th class=\"tdhistory952586\">TD_REMOVETAIL_OFTFIT</th><th class=\"tdhistory952586\">TD_REPLACEMENTVALUE_OFTFIT</th><th class=\"tdhistory952586\">TD_MINTHRESHOLD_OFTFIT</th><th class=\"tdhistory952586\">TD_MAXTHRESHOLD_OFTFIT</th><th class=\"tdhistory952586\">TD_ATTRIBUTEVALUE_OFTFIT</th><th class=\"tdhistory952586\">TD_COUNTVALUE_OFTFIT</th><th class=\"tdhistory952586\">TD_MEDIANVALUE_OFTFIT</th><th class=\"tdhistory952586\">TD_LOWERPERCENTILE_OFTFIT</th><th class=\"tdhistory952586\">TD_UPPERPERCENTILE_OFTFIT</th></tr></thead><tbody class=\"tdhistory952586 resultset-body\"><tr><th class=\"tdhistory952586\" style= \"background: rgba(243, 243, 243, 0.75)\">1</th><td class=\"tdhistory952586\">PERCENTILE</td><td class=\"tdhistory952586\">1.5</td><td class=\"tdhistory952586\">BOTH</td><td class=\"tdhistory952586\">DELETE</td><td class=\"tdhistory952586\">0.02</td><td class=\"tdhistory952586\">0.98</td><td class=\"tdhistory952586\">dropoff_longitude</td><td class=\"tdhistory952586\">480493</td><td class=\"tdhistory952586\">-73.980759</td><td class=\"tdhistory952586\">-74.011742</td><td class=\"tdhistory952586\">-73.783173</td></tr><tr><th class=\"tdhistory952586\" style= \"background: rgba(243, 243, 243, 0.75)\">2</th><td class=\"tdhistory952586\">PERCENTILE</td><td class=\"tdhistory952586\">1.5</td><td class=\"tdhistory952586\">BOTH</td><td class=\"tdhistory952586\">DELETE</td><td class=\"tdhistory952586\">0.02</td><td class=\"tdhistory952586\">0.98</td><td class=\"tdhistory952586\">pickup_longitude</td><td class=\"tdhistory952586\">480493</td><td class=\"tdhistory952586\">-73.98288</td><td class=\"tdhistory952586\">-74.009659</td><td class=\"tdhistory952586\">-73.782463</td></tr><tr><th class=\"tdhistory952586\" style= \"background: rgba(243, 243, 243, 0.75)\">3</th><td class=\"tdhistory952586\">PERCENTILE</td><td class=\"tdhistory952586\">1.5</td><td class=\"tdhistory952586\">BOTH</td><td class=\"tdhistory952586\">DELETE</td><td class=\"tdhistory952586\">0.02</td><td class=\"tdhistory952586\">0.98</td><td class=\"tdhistory952586\">dropoff_latitude</td><td class=\"tdhistory952586\">480493</td><td class=\"tdhistory952586\">40.750927</td><td class=\"tdhistory952586\">40.642479</td><td class=\"tdhistory952586\">40.812508</td></tr><tr><th class=\"tdhistory952586\" style= \"background: rgba(243, 243, 243, 0.75)\">4</th><td class=\"tdhistory952586\">PERCENTILE</td><td class=\"tdhistory952586\">1.5</td><td class=\"tdhistory952586\">BOTH</td><td class=\"tdhistory952586\">DELETE</td><td class=\"tdhistory952586\">0.02</td><td class=\"tdhistory952586\">0.98</td><td class=\"tdhistory952586\">pickup_latitude</td><td class=\"tdhistory952586\">480493</td><td class=\"tdhistory952586\">40.75008</td><td class=\"tdhistory952586\">40.644638</td><td class=\"tdhistory952586\">40.798721</td></tr></tbody></table></div>"
      ]
     },
     "execution_count": 24,
     "metadata": {
      "application/vnd.teradata.resultset": "{\"resultSetID\":\"/home/jovyan/JupyterLabRoot/Teradata/Resultsets/2023.07.13_11.55.08.716_UTC\",\"historyID\":188,\"chunkID\":\"00001\",\"sessionid\":\"\",\"portnum\":\"\",\"dockermode\":\"docker\",\"totalRowCount\":4,\"chunkCount\":0,\"rowLimit\":0,\"columnMetadata\":[{\"columnName\":\"TD_OUTLIERMETHOD_OFTFIT\",\"columnTypeName\":\"VARCHAR\",\"length\":30,\"scale\":30},{\"columnNumber\":1,\"columnName\":\"TD_IQRMULTIPLIER_OFTFIT\",\"columnTypeName\":\"FLOAT\"},{\"columnNumber\":2,\"columnName\":\"TD_REMOVETAIL_OFTFIT\",\"columnTypeName\":\"VARCHAR\",\"length\":30,\"scale\":30},{\"columnNumber\":3,\"columnName\":\"TD_REPLACEMENTVALUE_OFTFIT\",\"columnTypeName\":\"VARCHAR\",\"length\":50,\"scale\":50},{\"columnNumber\":4,\"columnName\":\"TD_MINTHRESHOLD_OFTFIT\",\"columnTypeName\":\"FLOAT\"},{\"columnNumber\":5,\"columnName\":\"TD_MAXTHRESHOLD_OFTFIT\",\"columnTypeName\":\"FLOAT\"},{\"columnNumber\":6,\"columnName\":\"TD_ATTRIBUTEVALUE_OFTFIT\",\"columnTypeName\":\"VARCHAR\",\"length\":128,\"scale\":128},{\"columnNumber\":7,\"columnName\":\"TD_COUNTVALUE_OFTFIT\",\"columnTypeName\":\"BIGINT\"},{\"columnNumber\":8,\"columnName\":\"TD_MEDIANVALUE_OFTFIT\",\"columnTypeName\":\"FLOAT\"},{\"columnNumber\":9,\"columnName\":\"TD_LOWERPERCENTILE_OFTFIT\",\"columnTypeName\":\"FLOAT\"},{\"columnNumber\":10,\"columnName\":\"TD_UPPERPERCENTILE_OFTFIT\",\"columnTypeName\":\"FLOAT\"}]}"
     },
     "output_type": "execute_result"
    }
   ],
   "source": [
    "SELECT * FROM OutlierFitTbl;"
   ]
  },
  {
   "cell_type": "markdown",
   "metadata": {},
   "source": [
    "<p style = 'font-size:16px;font-family:Arial'>The above calculated values for each column in the OutlierFitTbl will help in removing outliers from the original data set.</p>"
   ]
  },
  {
   "cell_type": "markdown",
   "metadata": {},
   "source": [
    "<hr>\n",
    "<p style = 'font-size:18px;font-family:Arial;color:#E37C4D'><b>4.2 TD_OutlierFilterTransform</b></p>\n",
    "\n",
    "<p style = 'font-size:16px;font-family:Arial'><a href = 'https://docs.teradata.com/search/all?query=TD_OutlierFilterTransform&content-lang=en-USm'>TD_OutlierFilterTransform</a> filters outliers from the input table. The metrics for determining outliers come from TD_OutlierFilterFit output, i.e. OutlierFitTbl in our case.</p>\n",
    "\n",
    "<p style = 'font-size:16px;font-family:Arial'>Here, we create a View to save on space and allow for before and after comparison. This view has no outliers w.r.t. 'pickup_longitude', 'pickup_latitude', 'dropoff_longitude', 'dropoff_latitude'.</p>"
   ]
  },
  {
   "cell_type": "code",
   "execution_count": 25,
   "metadata": {},
   "outputs": [
    {
     "data": {
      "text/plain": [
       "Success: 0 rows affected"
      ]
     },
     "execution_count": 25,
     "metadata": {
      "application/vnd.teradata.resultset": ""
     },
     "output_type": "execute_result"
    }
   ],
   "source": [
    "REPLACE VIEW latlong_no_outliers AS (\n",
    "    SELECT *\n",
    "        FROM TD_OutlierFilterTransform(\n",
    "        ON NYC_FULL_T AS InputTable PARTITION BY ANY\n",
    "        ON OutlierFitTbl AS FitTable DIMENSION \n",
    "        ) AS dt\n",
    ");"
   ]
  },
  {
   "cell_type": "markdown",
   "metadata": {},
   "source": [
    "<hr>\n",
    "<p style = 'font-size:18px;font-family:Arial;color:#E37C4D'><b>4.3 Before and After Comparison</b></p>\n",
    "\n",
    "<p style = 'font-size:16px;font-family:Arial'>Use TD_Histogram to visualize the distributions of data before and after transformation. Use the <b>Pickup Latitude</b> column as a good example.</p>"
   ]
  },
  {
   "cell_type": "code",
   "execution_count": 26,
   "metadata": {},
   "outputs": [
    {
     "data": {
      "application/vnd.teradata.resultset": "\"ColumnName\",\"Label\",\"MinValue\",\"MaxValue\",\"CountOfValues\",\"Bin_Percent\"\n\"pickup_latitude\",\"3\",\"15\",\"20\",\"0\",\"0\"\n\"pickup_latitude\",\"8\",\"40\",\"45\",\"473779\",\"98.60268515878484\"\n\"pickup_latitude\",\"5\",\"25\",\"30\",\"0\",\"0\"\n\"pickup_latitude\",\"2\",\"10\",\"15\",\"0\",\"0\"\n\"pickup_latitude\",\"1\",\"5\",\"10\",\"0\",\"0\"\n\"pickup_latitude\",\"9\",\"45\",\"50\",\"1\",\"0.000208119577184267\"\n\"pickup_latitude\",\"7\",\"35\",\"40\",\"1\",\"0.000208119577184267\"\n\"pickup_latitude\",\"4\",\"20\",\"25\",\"1\",\"0.000208119577184267\"\n\"pickup_latitude\",\"6\",\"30\",\"35\",\"5\",\"0.001040597885921335\"\n\"pickup_latitude\",\"0\",\"0\",\"5\",\"6706\",\"1.3956498845976943\"",
      "text/html": [
       "<div class = \"td-resultset-table-div\" style = \"max-height: 100%; overflow-y: auto\">\n",
       "      <table class=\"tdhistory830899\"><style>\n",
       "      table.tdhistory830899 { display: block !important; min-height: 294px !important; overflow: auto !important; height: 294px !important; width: 100% !important; border: 1px solid rgb(207, 207, 207) !important; border-collapse: collapse !important; ; color: var(--jp-ui-font-color1) !important; }\n",
       "      th.tdhistory830899 { border: 1px solid rgb(198,198,198) !important; border-collapse: collapse !important; ; padding: 2px 5px !important; ; font-size: 13px !important; ; text-align: center !important; white-space: normal !important; color: var(--jp-ui-font-color1) !important; }\n",
       "      th.tdhistory830899:last-child { text-align: left !important; }\n",
       "      tbody.tdhistory830899 tr:nth-child(even) { background: rgba(243, 243, 243, 0.75) !important; }\n",
       "      tbody.tdhistory830899 tr:nth-child(odd) { background: var(--jp-ui-inverse-font-color1) !important; }\n",
       "      td.tdhistory830899 { border: 1px solid rgb(207, 207, 207) !important; border-collapse: collapse !important; ; padding: 2px 5px !important; ; font-size: 13px !important; ; text-align: left !important;          white-space: nowrap !important; overflow:hidden !important; text-overflow:ellipsis !important;; }\n",
       "    </style><thead><tr style= \"background: rgba(243, 243, 243, 0.75)\"><th class=\"tdhistory830899\"></th><th class=\"tdhistory830899\">ColumnName</th><th class=\"tdhistory830899\">Label</th><th class=\"tdhistory830899\">MinValue</th><th class=\"tdhistory830899\">MaxValue</th><th class=\"tdhistory830899\">CountOfValues</th><th class=\"tdhistory830899\">Bin_Percent</th></tr></thead><tbody class=\"tdhistory830899 resultset-body\"><tr><th class=\"tdhistory830899\" style= \"background: rgba(243, 243, 243, 0.75)\">1</th><td class=\"tdhistory830899\">pickup_latitude</td><td class=\"tdhistory830899\">3</td><td class=\"tdhistory830899\">15</td><td class=\"tdhistory830899\">20</td><td class=\"tdhistory830899\">0</td><td class=\"tdhistory830899\">0</td></tr><tr><th class=\"tdhistory830899\" style= \"background: rgba(243, 243, 243, 0.75)\">2</th><td class=\"tdhistory830899\">pickup_latitude</td><td class=\"tdhistory830899\">8</td><td class=\"tdhistory830899\">40</td><td class=\"tdhistory830899\">45</td><td class=\"tdhistory830899\">473779</td><td class=\"tdhistory830899\">98.60268515878484</td></tr><tr><th class=\"tdhistory830899\" style= \"background: rgba(243, 243, 243, 0.75)\">3</th><td class=\"tdhistory830899\">pickup_latitude</td><td class=\"tdhistory830899\">5</td><td class=\"tdhistory830899\">25</td><td class=\"tdhistory830899\">30</td><td class=\"tdhistory830899\">0</td><td class=\"tdhistory830899\">0</td></tr><tr><th class=\"tdhistory830899\" style= \"background: rgba(243, 243, 243, 0.75)\">4</th><td class=\"tdhistory830899\">pickup_latitude</td><td class=\"tdhistory830899\">2</td><td class=\"tdhistory830899\">10</td><td class=\"tdhistory830899\">15</td><td class=\"tdhistory830899\">0</td><td class=\"tdhistory830899\">0</td></tr><tr><th class=\"tdhistory830899\" style= \"background: rgba(243, 243, 243, 0.75)\">5</th><td class=\"tdhistory830899\">pickup_latitude</td><td class=\"tdhistory830899\">1</td><td class=\"tdhistory830899\">5</td><td class=\"tdhistory830899\">10</td><td class=\"tdhistory830899\">0</td><td class=\"tdhistory830899\">0</td></tr><tr><th class=\"tdhistory830899\" style= \"background: rgba(243, 243, 243, 0.75)\">6</th><td class=\"tdhistory830899\">pickup_latitude</td><td class=\"tdhistory830899\">9</td><td class=\"tdhistory830899\">45</td><td class=\"tdhistory830899\">50</td><td class=\"tdhistory830899\">1</td><td class=\"tdhistory830899\">0.000208119577184267</td></tr><tr><th class=\"tdhistory830899\" style= \"background: rgba(243, 243, 243, 0.75)\">7</th><td class=\"tdhistory830899\">pickup_latitude</td><td class=\"tdhistory830899\">7</td><td class=\"tdhistory830899\">35</td><td class=\"tdhistory830899\">40</td><td class=\"tdhistory830899\">1</td><td class=\"tdhistory830899\">0.000208119577184267</td></tr><tr><th class=\"tdhistory830899\" style= \"background: rgba(243, 243, 243, 0.75)\">8</th><td class=\"tdhistory830899\">pickup_latitude</td><td class=\"tdhistory830899\">4</td><td class=\"tdhistory830899\">20</td><td class=\"tdhistory830899\">25</td><td class=\"tdhistory830899\">1</td><td class=\"tdhistory830899\">0.000208119577184267</td></tr><tr><th class=\"tdhistory830899\" style= \"background: rgba(243, 243, 243, 0.75)\">9</th><td class=\"tdhistory830899\">pickup_latitude</td><td class=\"tdhistory830899\">6</td><td class=\"tdhistory830899\">30</td><td class=\"tdhistory830899\">35</td><td class=\"tdhistory830899\">5</td><td class=\"tdhistory830899\">0.001040597885921335</td></tr><tr><th class=\"tdhistory830899\" style= \"background: rgba(243, 243, 243, 0.75)\">10</th><td class=\"tdhistory830899\">pickup_latitude</td><td class=\"tdhistory830899\">0</td><td class=\"tdhistory830899\">0</td><td class=\"tdhistory830899\">5</td><td class=\"tdhistory830899\">6706</td><td class=\"tdhistory830899\">1.3956498845976943</td></tr></tbody></table></div>"
      ]
     },
     "execution_count": 26,
     "metadata": {
      "application/vnd.teradata.resultset": "{\"resultSetID\":\"/home/jovyan/JupyterLabRoot/Teradata/Resultsets/2023.07.13_11.55.10.993_UTC\",\"historyID\":190,\"chunkID\":\"00001\",\"sessionid\":\"\",\"portnum\":\"\",\"dockermode\":\"docker\",\"totalRowCount\":10,\"chunkCount\":0,\"rowLimit\":0,\"columnMetadata\":[{\"columnName\":\"ColumnName\",\"columnTypeName\":\"VARCHAR\",\"length\":128,\"scale\":128},{\"columnNumber\":1,\"columnName\":\"Label\",\"columnTypeName\":\"BIGINT\"},{\"columnNumber\":2,\"columnName\":\"MinValue\",\"columnTypeName\":\"FLOAT\"},{\"columnNumber\":3,\"columnName\":\"MaxValue\",\"columnTypeName\":\"FLOAT\"},{\"columnNumber\":4,\"columnName\":\"CountOfValues\",\"columnTypeName\":\"BIGINT\"},{\"columnNumber\":5,\"columnName\":\"Bin_Percent\",\"columnTypeName\":\"FLOAT\"}]}"
     },
     "output_type": "execute_result"
    }
   ],
   "source": [
    "SELECT *\n",
    "    FROM TD_Histogram (\n",
    "    ON NYC_FULL_T  AS InputTable\n",
    "    USING\n",
    "    MethodType ('Sturges')\n",
    "    TargetColumn ('pickup_latitude')\n",
    ") AS dt ORDER BY 1;"
   ]
  },
  {
   "cell_type": "code",
   "execution_count": 27,
   "metadata": {},
   "outputs": [
    {
     "data": {
      "application/vnd.vegalite.v3+json": {
       "$schema": "https://vega.github.io/schema/vega-lite/v3.json",
       "data": {
        "format": {
         "type": "csv"
        },
        "values": "\"ColumnName\",\"Label\",\"MinValue\",\"MaxValue\",\"CountOfValues\",\"Bin_Percent\"\n\"pickup_latitude\",\"3\",\"15\",\"20\",\"0\",\"0\"\n\"pickup_latitude\",\"8\",\"40\",\"45\",\"473779\",\"98.60268515878484\"\n\"pickup_latitude\",\"5\",\"25\",\"30\",\"0\",\"0\"\n\"pickup_latitude\",\"2\",\"10\",\"15\",\"0\",\"0\"\n\"pickup_latitude\",\"1\",\"5\",\"10\",\"0\",\"0\"\n\"pickup_latitude\",\"9\",\"45\",\"50\",\"1\",\"0.000208119577184267\"\n\"pickup_latitude\",\"7\",\"35\",\"40\",\"1\",\"0.000208119577184267\"\n\"pickup_latitude\",\"4\",\"20\",\"25\",\"1\",\"0.000208119577184267\"\n\"pickup_latitude\",\"6\",\"30\",\"35\",\"5\",\"0.001040597885921335\"\n\"pickup_latitude\",\"0\",\"0\",\"5\",\"6706\",\"1.3956498845976943\"\n"
       },
       "encoding": {
        "x": {
         "axis": {
          "grid": true,
          "title": "MinValue"
         },
         "field": "MinValue",
         "type": "quantitative"
        },
        "y": {
         "axis": {
          "grid": true,
          "title": "bin_percent"
         },
         "field": "Bin_Percent",
         "type": "quantitative"
        }
       },
       "mark": {
        "color": "#4C78A8",
        "type": "bar"
       },
       "title": "Histogram of pickup_latitude Raw"
      },
      "image/png": "[encoded data removed]"
     },
     "execution_count": 27,
     "metadata": {
      "application/vnd.teradata.resultset": ""
     },
     "output_type": "execute_result"
    }
   ],
   "source": [
    "%chart x=MinValue, y=bin_percent, title=\"Histogram of pickup_latitude Raw\""
   ]
  },
  {
   "cell_type": "markdown",
   "metadata": {},
   "source": [
    "<p style = 'font-size:16px;font-family:Arial'>This graph shows that a staggering 98.6% of rides were having pickup_lattitude between 40-45. Nearly 1.4% of rides have pickup_latitude outside the 40-45 range. This implies that these are outliers and might give incorrect results if used further in the analysis. These outliers may point to a geographic location that the company doesn't cater to. Hence we should remove these outliers.</p>"
   ]
  },
  {
   "cell_type": "markdown",
   "metadata": {},
   "source": [
    "<hr>\n",
    "<p style = 'font-size:18px;font-family:Arial;color:#E37C4D'><b>After Outlier Removal Comparison</b></p>\n",
    "\n",
    "<p style = 'font-size:16px;font-family:Arial'>Use the <b>View</b> created above instead of the raw data. We will see a striking difference in the distribution of data.</p>"
   ]
  },
  {
   "cell_type": "code",
   "execution_count": 28,
   "metadata": {},
   "outputs": [
    {
     "data": {
      "application/vnd.teradata.resultset": "\"ColumnName\",\"Label\",\"MinValue\",\"MaxValue\",\"CountOfValues\",\"Bin_Percent\"\n\"pickup_latitude\",\"3\",\"40.67\",\"40.68\",\"1813\",\"0.42235671787130347\"\n\"pickup_latitude\",\"8\",\"40.72\",\"40.730000000000004\",\"49444\",\"11.518480727208345\"\n\"pickup_latitude\",\"5\",\"40.69\",\"40.7\",\"2417\",\"0.5630646371180036\"\n\"pickup_latitude\",\"2\",\"40.660000000000004\",\"40.67\",\"524\",\"0.12207110875044845\"\n\"pickup_latitude\",\"1\",\"40.65\",\"40.660000000000004\",\"245\",\"0.05707523214477074\"\n\"pickup_latitude\",\"11\",\"40.75\",\"40.76\",\"70998\",\"16.539703395160952\"\n\"pickup_latitude\",\"13\",\"40.77\",\"40.78\",\"48569\",\"11.314640612405592\"\n\"pickup_latitude\",\"10\",\"40.74\",\"40.75\",\"66785\",\"15.558242362402098\"\n\"pickup_latitude\",\"9\",\"40.730000000000004\",\"40.74\",\"52591\",\"12.251606260104646\"\n\"pickup_latitude\",\"12\",\"40.76\",\"40.77\",\"68370\",\"15.927484170359085\"\n\"pickup_latitude\",\"7\",\"40.71\",\"40.72\",\"23879\",\"5.56285497299992\"\n\"pickup_latitude\",\"4\",\"40.68\",\"40.69\",\"3450\",\"0.8037124526508532\"\n\"pickup_latitude\",\"14\",\"40.78\",\"40.79\",\"23966\",\"5.583122504414594\"\n\"pickup_latitude\",\"15\",\"40.79\",\"40.8\",\"9122\",\"2.1250623168350966\"\n\"pickup_latitude\",\"6\",\"40.7\",\"40.71\",\"4530\",\"1.0553093943502507\"\n\"pickup_latitude\",\"0\",\"40.64\",\"40.65\",\"2555\",\"0.5952131352240377\"",
      "text/html": [
       "<div class = \"td-resultset-table-div\" style = \"max-height: 100%; overflow-y: auto\">\n",
       "      <table class=\"tdhistory944083\"><style>\n",
       "      table.tdhistory944083 { display: block !important; min-height: 420px !important; overflow: auto !important; height: 420px !important; width: 100% !important; border: 1px solid rgb(207, 207, 207) !important; border-collapse: collapse !important; ; color: var(--jp-ui-font-color1) !important; }\n",
       "      th.tdhistory944083 { border: 1px solid rgb(198,198,198) !important; border-collapse: collapse !important; ; padding: 2px 5px !important; ; font-size: 13px !important; ; text-align: center !important; white-space: normal !important; color: var(--jp-ui-font-color1) !important; }\n",
       "      th.tdhistory944083:last-child { text-align: left !important; }\n",
       "      tbody.tdhistory944083 tr:nth-child(even) { background: rgba(243, 243, 243, 0.75) !important; }\n",
       "      tbody.tdhistory944083 tr:nth-child(odd) { background: var(--jp-ui-inverse-font-color1) !important; }\n",
       "      td.tdhistory944083 { border: 1px solid rgb(207, 207, 207) !important; border-collapse: collapse !important; ; padding: 2px 5px !important; ; font-size: 13px !important; ; text-align: left !important;          white-space: nowrap !important; overflow:hidden !important; text-overflow:ellipsis !important;; }\n",
       "    </style><thead><tr style= \"background: rgba(243, 243, 243, 0.75)\"><th class=\"tdhistory944083\"></th><th class=\"tdhistory944083\">ColumnName</th><th class=\"tdhistory944083\">Label</th><th class=\"tdhistory944083\">MinValue</th><th class=\"tdhistory944083\">MaxValue</th><th class=\"tdhistory944083\">CountOfValues</th><th class=\"tdhistory944083\">Bin_Percent</th></tr></thead><tbody class=\"tdhistory944083 resultset-body\"><tr><th class=\"tdhistory944083\" style= \"background: rgba(243, 243, 243, 0.75)\">1</th><td class=\"tdhistory944083\">pickup_latitude</td><td class=\"tdhistory944083\">3</td><td class=\"tdhistory944083\">40.67</td><td class=\"tdhistory944083\">40.68</td><td class=\"tdhistory944083\">1813</td><td class=\"tdhistory944083\">0.42235671787130347</td></tr><tr><th class=\"tdhistory944083\" style= \"background: rgba(243, 243, 243, 0.75)\">2</th><td class=\"tdhistory944083\">pickup_latitude</td><td class=\"tdhistory944083\">8</td><td class=\"tdhistory944083\">40.72</td><td class=\"tdhistory944083\">40.730000000000004</td><td class=\"tdhistory944083\">49444</td><td class=\"tdhistory944083\">11.518480727208345</td></tr><tr><th class=\"tdhistory944083\" style= \"background: rgba(243, 243, 243, 0.75)\">3</th><td class=\"tdhistory944083\">pickup_latitude</td><td class=\"tdhistory944083\">5</td><td class=\"tdhistory944083\">40.69</td><td class=\"tdhistory944083\">40.7</td><td class=\"tdhistory944083\">2417</td><td class=\"tdhistory944083\">0.5630646371180036</td></tr><tr><th class=\"tdhistory944083\" style= \"background: rgba(243, 243, 243, 0.75)\">4</th><td class=\"tdhistory944083\">pickup_latitude</td><td class=\"tdhistory944083\">2</td><td class=\"tdhistory944083\">40.660000000000004</td><td class=\"tdhistory944083\">40.67</td><td class=\"tdhistory944083\">524</td><td class=\"tdhistory944083\">0.12207110875044845</td></tr><tr><th class=\"tdhistory944083\" style= \"background: rgba(243, 243, 243, 0.75)\">5</th><td class=\"tdhistory944083\">pickup_latitude</td><td class=\"tdhistory944083\">1</td><td class=\"tdhistory944083\">40.65</td><td class=\"tdhistory944083\">40.660000000000004</td><td class=\"tdhistory944083\">245</td><td class=\"tdhistory944083\">0.05707523214477074</td></tr><tr><th class=\"tdhistory944083\" style= \"background: rgba(243, 243, 243, 0.75)\">6</th><td class=\"tdhistory944083\">pickup_latitude</td><td class=\"tdhistory944083\">11</td><td class=\"tdhistory944083\">40.75</td><td class=\"tdhistory944083\">40.76</td><td class=\"tdhistory944083\">70998</td><td class=\"tdhistory944083\">16.539703395160952</td></tr><tr><th class=\"tdhistory944083\" style= \"background: rgba(243, 243, 243, 0.75)\">7</th><td class=\"tdhistory944083\">pickup_latitude</td><td class=\"tdhistory944083\">13</td><td class=\"tdhistory944083\">40.77</td><td class=\"tdhistory944083\">40.78</td><td class=\"tdhistory944083\">48569</td><td class=\"tdhistory944083\">11.314640612405592</td></tr><tr><th class=\"tdhistory944083\" style= \"background: rgba(243, 243, 243, 0.75)\">8</th><td class=\"tdhistory944083\">pickup_latitude</td><td class=\"tdhistory944083\">10</td><td class=\"tdhistory944083\">40.74</td><td class=\"tdhistory944083\">40.75</td><td class=\"tdhistory944083\">66785</td><td class=\"tdhistory944083\">15.558242362402098</td></tr><tr><th class=\"tdhistory944083\" style= \"background: rgba(243, 243, 243, 0.75)\">9</th><td class=\"tdhistory944083\">pickup_latitude</td><td class=\"tdhistory944083\">9</td><td class=\"tdhistory944083\">40.730000000000004</td><td class=\"tdhistory944083\">40.74</td><td class=\"tdhistory944083\">52591</td><td class=\"tdhistory944083\">12.251606260104646</td></tr><tr><th class=\"tdhistory944083\" style= \"background: rgba(243, 243, 243, 0.75)\">10</th><td class=\"tdhistory944083\">pickup_latitude</td><td class=\"tdhistory944083\">12</td><td class=\"tdhistory944083\">40.76</td><td class=\"tdhistory944083\">40.77</td><td class=\"tdhistory944083\">68370</td><td class=\"tdhistory944083\">15.927484170359085</td></tr><tr><th class=\"tdhistory944083\" style= \"background: rgba(243, 243, 243, 0.75)\">11</th><td class=\"tdhistory944083\">pickup_latitude</td><td class=\"tdhistory944083\">7</td><td class=\"tdhistory944083\">40.71</td><td class=\"tdhistory944083\">40.72</td><td class=\"tdhistory944083\">23879</td><td class=\"tdhistory944083\">5.56285497299992</td></tr><tr><th class=\"tdhistory944083\" style= \"background: rgba(243, 243, 243, 0.75)\">12</th><td class=\"tdhistory944083\">pickup_latitude</td><td class=\"tdhistory944083\">4</td><td class=\"tdhistory944083\">40.68</td><td class=\"tdhistory944083\">40.69</td><td class=\"tdhistory944083\">3450</td><td class=\"tdhistory944083\">0.8037124526508532</td></tr><tr><th class=\"tdhistory944083\" style= \"background: rgba(243, 243, 243, 0.75)\">13</th><td class=\"tdhistory944083\">pickup_latitude</td><td class=\"tdhistory944083\">14</td><td class=\"tdhistory944083\">40.78</td><td class=\"tdhistory944083\">40.79</td><td class=\"tdhistory944083\">23966</td><td class=\"tdhistory944083\">5.583122504414594</td></tr><tr><th class=\"tdhistory944083\" style= \"background: rgba(243, 243, 243, 0.75)\">14</th><td class=\"tdhistory944083\">pickup_latitude</td><td class=\"tdhistory944083\">15</td><td class=\"tdhistory944083\">40.79</td><td class=\"tdhistory944083\">40.8</td><td class=\"tdhistory944083\">9122</td><td class=\"tdhistory944083\">2.1250623168350966</td></tr><tr><th class=\"tdhistory944083\" style= \"background: rgba(243, 243, 243, 0.75)\">15</th><td class=\"tdhistory944083\">pickup_latitude</td><td class=\"tdhistory944083\">6</td><td class=\"tdhistory944083\">40.7</td><td class=\"tdhistory944083\">40.71</td><td class=\"tdhistory944083\">4530</td><td class=\"tdhistory944083\">1.0553093943502507</td></tr><tr><th class=\"tdhistory944083\" style= \"background: rgba(243, 243, 243, 0.75)\">16</th><td class=\"tdhistory944083\">pickup_latitude</td><td class=\"tdhistory944083\">0</td><td class=\"tdhistory944083\">40.64</td><td class=\"tdhistory944083\">40.65</td><td class=\"tdhistory944083\">2555</td><td class=\"tdhistory944083\">0.5952131352240377</td></tr></tbody></table></div>"
      ]
     },
     "execution_count": 28,
     "metadata": {
      "application/vnd.teradata.resultset": "{\"resultSetID\":\"/home/jovyan/JupyterLabRoot/Teradata/Resultsets/2023.07.13_11.55.16.152_UTC\",\"historyID\":191,\"chunkID\":\"00001\",\"sessionid\":\"\",\"portnum\":\"\",\"dockermode\":\"docker\",\"totalRowCount\":16,\"chunkCount\":0,\"rowLimit\":0,\"columnMetadata\":[{\"columnName\":\"ColumnName\",\"columnTypeName\":\"VARCHAR\",\"length\":128,\"scale\":128},{\"columnNumber\":1,\"columnName\":\"Label\",\"columnTypeName\":\"BIGINT\"},{\"columnNumber\":2,\"columnName\":\"MinValue\",\"columnTypeName\":\"FLOAT\"},{\"columnNumber\":3,\"columnName\":\"MaxValue\",\"columnTypeName\":\"FLOAT\"},{\"columnNumber\":4,\"columnName\":\"CountOfValues\",\"columnTypeName\":\"BIGINT\"},{\"columnNumber\":5,\"columnName\":\"Bin_Percent\",\"columnTypeName\":\"FLOAT\"}]}"
     },
     "output_type": "execute_result"
    }
   ],
   "source": [
    "SELECT *\n",
    "    FROM TD_Histogram (\n",
    "    ON latlong_no_outliers AS InputTable\n",
    "    USING\n",
    "    MethodType ('Sturges')\n",
    "    TargetColumn ('pickup_latitude')\n",
    ") AS dt ORDER BY 1;"
   ]
  },
  {
   "cell_type": "code",
   "execution_count": 29,
   "metadata": {},
   "outputs": [
    {
     "data": {
      "application/vnd.vegalite.v3+json": {
       "$schema": "https://vega.github.io/schema/vega-lite/v3.json",
       "data": {
        "format": {
         "type": "csv"
        },
        "values": "\"ColumnName\",\"Label\",\"MinValue\",\"MaxValue\",\"CountOfValues\",\"Bin_Percent\"\n\"pickup_latitude\",\"3\",\"40.67\",\"40.68\",\"1813\",\"0.42235671787130347\"\n\"pickup_latitude\",\"8\",\"40.72\",\"40.730000000000004\",\"49444\",\"11.518480727208345\"\n\"pickup_latitude\",\"5\",\"40.69\",\"40.7\",\"2417\",\"0.5630646371180036\"\n\"pickup_latitude\",\"2\",\"40.660000000000004\",\"40.67\",\"524\",\"0.12207110875044845\"\n\"pickup_latitude\",\"1\",\"40.65\",\"40.660000000000004\",\"245\",\"0.05707523214477074\"\n\"pickup_latitude\",\"11\",\"40.75\",\"40.76\",\"70998\",\"16.539703395160952\"\n\"pickup_latitude\",\"13\",\"40.77\",\"40.78\",\"48569\",\"11.314640612405592\"\n\"pickup_latitude\",\"10\",\"40.74\",\"40.75\",\"66785\",\"15.558242362402098\"\n\"pickup_latitude\",\"9\",\"40.730000000000004\",\"40.74\",\"52591\",\"12.251606260104646\"\n\"pickup_latitude\",\"12\",\"40.76\",\"40.77\",\"68370\",\"15.927484170359085\"\n\"pickup_latitude\",\"7\",\"40.71\",\"40.72\",\"23879\",\"5.56285497299992\"\n\"pickup_latitude\",\"4\",\"40.68\",\"40.69\",\"3450\",\"0.8037124526508532\"\n\"pickup_latitude\",\"14\",\"40.78\",\"40.79\",\"23966\",\"5.583122504414594\"\n\"pickup_latitude\",\"15\",\"40.79\",\"40.8\",\"9122\",\"2.1250623168350966\"\n\"pickup_latitude\",\"6\",\"40.7\",\"40.71\",\"4530\",\"1.0553093943502507\"\n\"pickup_latitude\",\"0\",\"40.64\",\"40.65\",\"2555\",\"0.5952131352240377\"\n"
       },
       "encoding": {
        "x": {
         "axis": {
          "grid": true,
          "title": "MinValue"
         },
         "field": "MinValue",
         "type": "quantitative"
        },
        "y": {
         "axis": {
          "grid": true,
          "title": "bin_percent"
         },
         "field": "Bin_Percent",
         "type": "quantitative"
        }
       },
       "mark": {
        "color": "#4C78A8",
        "type": "bar"
       },
       "title": "Histogram of pickup_latitude Filtered"
      },
      "image/png": "[encoded data removed]"
     },
     "execution_count": 29,
     "metadata": {
      "application/vnd.teradata.resultset": ""
     },
     "output_type": "execute_result"
    }
   ],
   "source": [
    "%chart x=MinValue, y=bin_percent, title=\"Histogram of pickup_latitude Filtered\""
   ]
  },
  {
   "cell_type": "markdown",
   "metadata": {},
   "source": [
    "<p style = 'font-size:16px;font-family:Arial'>By removing the outliers in the pickup_latitude, we are better able to represent the dataset.</p>"
   ]
  },
  {
   "cell_type": "markdown",
   "metadata": {},
   "source": [
    "<hr>\n",
    "<b style = 'font-size:28px;font-family:Arial;color:#E37C4D'>5. Bin Coding</b>\n",
    "\n",
    "<p style = 'font-size:16px;font-family:Arial'>Note that we've only filtered out latitude and longitude outliers and still need to transform the fare amount column, which does have extreme values that need to be addressed.  For this demonstration, we will use TD_BinCodeFit to create a fit table and then use TD_ColumnTransformer to combine the Outlier Filtering and Bin Coding steps into a single statement.</p>\n",
    "\n",
    "<ol style = 'font-size:16px;font-family:Arial'>\n",
    "    <li>Inspect the rows with max and min values</li>\n",
    "    <li>Create a fit table with the value ranges and category labels</li>\n",
    "    <li>Use TD_ColumnTransformer to create a transformation \"Pipeline\"</li>\n",
    "    <li>Compare distributions before and after using TD_CategoricalSummary</li>\n",
    "    </ol>"
   ]
  },
  {
   "cell_type": "markdown",
   "metadata": {},
   "source": [
    "<hr>\n",
    "<p style = 'font-size:18px;font-family:Arial;color:#E37C4D'><b>5.1 Min and Max Values</b></p>\n",
    "\n",
    "<p style = 'font-size:16px;font-family:Arial'>Use <a href = 'https://docs.teradata.com/search/all?query=TD_WhichMin&content-lang=en-US'>TD_WhichMin</a> and <a href='https://docs.teradata.com/search/all?query=TD_WhichMax&content-lang=en-US'>TD_WhichMax</a> to inspect the rows of the raw data table that contain the min and max values.</p>"
   ]
  },
  {
   "cell_type": "code",
   "execution_count": 30,
   "metadata": {},
   "outputs": [
    {
     "data": {
      "application/vnd.teradata.resultset": "\"pickup_datetime\",\"passenger_count\",\"pickup_latitude\",\"pickup_longitude\",\"dropoff_latitude\",\"dropoff_longitude\",\"fare_amount\"\n\"2013-11-10 09:27:00.000000\",\"1\",\"0\",\"0\",\"0\",\"0\",\"2.6\"",
      "text/html": [
       "<div class = \"td-resultset-table-div\" style = \"max-height: 100%; overflow-y: auto\">\n",
       "      <table class=\"tdhistory80368\"><style>\n",
       "      table.tdhistory80368 { display: block !important; min-height: 105px !important; overflow: auto !important; height: 105px !important; width: 100% !important; border: 1px solid rgb(207, 207, 207) !important; border-collapse: collapse !important; ; color: var(--jp-ui-font-color1) !important; }\n",
       "      th.tdhistory80368 { border: 1px solid rgb(198,198,198) !important; border-collapse: collapse !important; ; padding: 2px 5px !important; ; font-size: 13px !important; ; text-align: center !important; white-space: normal !important; color: var(--jp-ui-font-color1) !important; }\n",
       "      th.tdhistory80368:last-child { text-align: left !important; }\n",
       "      tbody.tdhistory80368 tr:nth-child(even) { background: rgba(243, 243, 243, 0.75) !important; }\n",
       "      tbody.tdhistory80368 tr:nth-child(odd) { background: var(--jp-ui-inverse-font-color1) !important; }\n",
       "      td.tdhistory80368 { border: 1px solid rgb(207, 207, 207) !important; border-collapse: collapse !important; ; padding: 2px 5px !important; ; font-size: 13px !important; ; text-align: left !important;          white-space: nowrap !important; overflow:hidden !important; text-overflow:ellipsis !important;; }\n",
       "    </style><thead><tr style= \"background: rgba(243, 243, 243, 0.75)\"><th class=\"tdhistory80368\"></th><th class=\"tdhistory80368\">pickup_datetime</th><th class=\"tdhistory80368\">passenger_count</th><th class=\"tdhistory80368\">pickup_latitude</th><th class=\"tdhistory80368\">pickup_longitude</th><th class=\"tdhistory80368\">dropoff_latitude</th><th class=\"tdhistory80368\">dropoff_longitude</th><th class=\"tdhistory80368\">fare_amount</th></tr></thead><tbody class=\"tdhistory80368 resultset-body\"><tr><th class=\"tdhistory80368\" style= \"background: rgba(243, 243, 243, 0.75)\">1</th><td class=\"tdhistory80368\">2013-11-10 09:27:00.000000</td><td class=\"tdhistory80368\">1</td><td class=\"tdhistory80368\">0</td><td class=\"tdhistory80368\">0</td><td class=\"tdhistory80368\">0</td><td class=\"tdhistory80368\">0</td><td class=\"tdhistory80368\">2.6</td></tr></tbody></table></div>"
      ]
     },
     "execution_count": 30,
     "metadata": {
      "application/vnd.teradata.resultset": "{\"resultSetID\":\"/home/jovyan/JupyterLabRoot/Teradata/Resultsets/2023.07.13_11.55.16.757_UTC\",\"historyID\":192,\"chunkID\":\"00001\",\"sessionid\":\"\",\"portnum\":\"\",\"dockermode\":\"docker\",\"totalRowCount\":1,\"chunkCount\":0,\"rowLimit\":0,\"columnMetadata\":[{\"columnName\":\"pickup_datetime\",\"columnTypeName\":\"TIMESTAMP\",\"length\":6,\"scale\":6},{\"columnNumber\":1,\"columnName\":\"passenger_count\",\"columnTypeName\":\"SMALLINT\"},{\"columnNumber\":2,\"columnName\":\"pickup_latitude\",\"columnTypeName\":\"FLOAT\"},{\"columnNumber\":3,\"columnName\":\"pickup_longitude\",\"columnTypeName\":\"FLOAT\"},{\"columnNumber\":4,\"columnName\":\"dropoff_latitude\",\"columnTypeName\":\"FLOAT\"},{\"columnNumber\":5,\"columnName\":\"dropoff_longitude\",\"columnTypeName\":\"FLOAT\"},{\"columnNumber\":6,\"columnName\":\"fare_amount\",\"columnTypeName\":\"FLOAT\"}]}"
     },
     "output_type": "execute_result"
    }
   ],
   "source": [
    "SELECT * FROM TD_WhichMin (\n",
    "   ON NYC_FULL_T AS InputTable\n",
    "   USING\n",
    "   TargetColumn('fare_amount')\n",
    ") AS dt;"
   ]
  },
  {
   "cell_type": "code",
   "execution_count": 31,
   "metadata": {},
   "outputs": [
    {
     "data": {
      "application/vnd.teradata.resultset": "\"pickup_datetime\",\"passenger_count\",\"pickup_latitude\",\"pickup_longitude\",\"dropoff_latitude\",\"dropoff_longitude\",\"fare_amount\"\n\"2013-11-10 00:59:05.000000\",\"1\",\"40.779091\",\"-73.985077\",\"40.776436\",\"-73.987083\",\"450.01\"",
      "text/html": [
       "<div class = \"td-resultset-table-div\" style = \"max-height: 100%; overflow-y: auto\">\n",
       "      <table class=\"tdhistory865291\"><style>\n",
       "      table.tdhistory865291 { display: block !important; min-height: 105px !important; overflow: auto !important; height: 105px !important; width: 100% !important; border: 1px solid rgb(207, 207, 207) !important; border-collapse: collapse !important; ; color: var(--jp-ui-font-color1) !important; }\n",
       "      th.tdhistory865291 { border: 1px solid rgb(198,198,198) !important; border-collapse: collapse !important; ; padding: 2px 5px !important; ; font-size: 13px !important; ; text-align: center !important; white-space: normal !important; color: var(--jp-ui-font-color1) !important; }\n",
       "      th.tdhistory865291:last-child { text-align: left !important; }\n",
       "      tbody.tdhistory865291 tr:nth-child(even) { background: rgba(243, 243, 243, 0.75) !important; }\n",
       "      tbody.tdhistory865291 tr:nth-child(odd) { background: var(--jp-ui-inverse-font-color1) !important; }\n",
       "      td.tdhistory865291 { border: 1px solid rgb(207, 207, 207) !important; border-collapse: collapse !important; ; padding: 2px 5px !important; ; font-size: 13px !important; ; text-align: left !important;          white-space: nowrap !important; overflow:hidden !important; text-overflow:ellipsis !important;; }\n",
       "    </style><thead><tr style= \"background: rgba(243, 243, 243, 0.75)\"><th class=\"tdhistory865291\"></th><th class=\"tdhistory865291\">pickup_datetime</th><th class=\"tdhistory865291\">passenger_count</th><th class=\"tdhistory865291\">pickup_latitude</th><th class=\"tdhistory865291\">pickup_longitude</th><th class=\"tdhistory865291\">dropoff_latitude</th><th class=\"tdhistory865291\">dropoff_longitude</th><th class=\"tdhistory865291\">fare_amount</th></tr></thead><tbody class=\"tdhistory865291 resultset-body\"><tr><th class=\"tdhistory865291\" style= \"background: rgba(243, 243, 243, 0.75)\">1</th><td class=\"tdhistory865291\">2013-11-10 00:59:05.000000</td><td class=\"tdhistory865291\">1</td><td class=\"tdhistory865291\">40.779091</td><td class=\"tdhistory865291\">-73.985077</td><td class=\"tdhistory865291\">40.776436</td><td class=\"tdhistory865291\">-73.987083</td><td class=\"tdhistory865291\">450.01</td></tr></tbody></table></div>"
      ]
     },
     "execution_count": 31,
     "metadata": {
      "application/vnd.teradata.resultset": "{\"resultSetID\":\"/home/jovyan/JupyterLabRoot/Teradata/Resultsets/2023.07.13_11.55.17.249_UTC\",\"historyID\":193,\"chunkID\":\"00001\",\"sessionid\":\"\",\"portnum\":\"\",\"dockermode\":\"docker\",\"totalRowCount\":1,\"chunkCount\":0,\"rowLimit\":0,\"columnMetadata\":[{\"columnName\":\"pickup_datetime\",\"columnTypeName\":\"TIMESTAMP\",\"length\":6,\"scale\":6},{\"columnNumber\":1,\"columnName\":\"passenger_count\",\"columnTypeName\":\"SMALLINT\"},{\"columnNumber\":2,\"columnName\":\"pickup_latitude\",\"columnTypeName\":\"FLOAT\"},{\"columnNumber\":3,\"columnName\":\"pickup_longitude\",\"columnTypeName\":\"FLOAT\"},{\"columnNumber\":4,\"columnName\":\"dropoff_latitude\",\"columnTypeName\":\"FLOAT\"},{\"columnNumber\":5,\"columnName\":\"dropoff_longitude\",\"columnTypeName\":\"FLOAT\"},{\"columnNumber\":6,\"columnName\":\"fare_amount\",\"columnTypeName\":\"FLOAT\"}]}"
     },
     "output_type": "execute_result"
    }
   ],
   "source": [
    "SELECT * FROM TD_WhichMax (\n",
    "   ON NYC_FULL_T AS InputTable\n",
    "   USING\n",
    "   TargetColumn('fare_amount')\n",
    ") AS dt;"
   ]
  },
  {
   "cell_type": "markdown",
   "metadata": {},
   "source": [
    "<p style = 'font-size:16px;font-family:Arial'>Above are the rows with min fare($2.6) and max fare(\\$450).</p>"
   ]
  },
  {
   "cell_type": "markdown",
   "metadata": {},
   "source": [
    "<hr>\n",
    "<p style = 'font-size:18px;font-family:Arial;color:#E37C4D'><b>5.2 TD_BinCodeFit</b></p>\n",
    "\n",
    "<p style = 'font-size:16px;font-family:Arial'>Bin coding is typically used to convert numeric data to categorical data by binning the numeric data into multiple numeric bins (intervals). The bins can have a fixed width with auto-generated labels or specified variable widths and labels.</p>\n",
    "\n",
    "<p style = 'font-size:16px;font-family:Arial'><a href = 'https://docs.teradata.com/search/all?query=TD_BinCodeFit&content-lang=en-US'>TD_BinCodeFit</a> outputs a table of information to input to TD_BinCodeTransform, which bin-codes the specified input table columns.</p>\n",
    "\n",
    "<p style = 'font-size:16px;font-family:Arial'>Above, when we investigated the <b>Fare Amount</b> column using TD_Histogram, we could use a custom MinMax table to create custom bins. The process is similar to Bin Coding. Here we will:</p>\n",
    "\n",
    "<ul style = 'font-size:16px;font-family:Arial'>\n",
    "    <li>Create a custom Dimension table with the column name, MinValue, MaxValue, and label</li>\n",
    "    <li>Use that as input to the TD_BinCodeFit function</li>\n",
    "    <li>Pass additional parameter values such as MethodType and TargetColumns</li> \n",
    "    </ul>"
   ]
  },
  {
   "cell_type": "code",
   "execution_count": 32,
   "metadata": {},
   "outputs": [
    {
     "data": {
      "text/plain": [
       "Success: 0 rows affected"
      ]
     },
     "execution_count": 32,
     "metadata": {
      "application/vnd.teradata.resultset": ""
     },
     "output_type": "execute_result"
    }
   ],
   "source": [
    "CREATE TABLE fare_amount_range (ColumnName CHAR(15), MinValue SMALLINT, MaxValue SMALLINT, label CHAR(35));"
   ]
  },
  {
   "cell_type": "code",
   "execution_count": 33,
   "metadata": {},
   "outputs": [
    {
     "data": {
      "text/plain": [
       "Success: 1 rows affected"
      ]
     },
     "execution_count": 33,
     "metadata": {
      "application/vnd.teradata.resultset": ""
     },
     "output_type": "execute_result"
    },
    {
     "data": {
      "text/plain": [
       "Success: 1 rows affected"
      ]
     },
     "execution_count": 33,
     "metadata": {
      "application/vnd.teradata.resultset": ""
     },
     "output_type": "execute_result"
    },
    {
     "data": {
      "text/plain": [
       "Success: 1 rows affected"
      ]
     },
     "execution_count": 33,
     "metadata": {
      "application/vnd.teradata.resultset": ""
     },
     "output_type": "execute_result"
    },
    {
     "data": {
      "text/plain": [
       "Success: 1 rows affected"
      ]
     },
     "execution_count": 33,
     "metadata": {
      "application/vnd.teradata.resultset": ""
     },
     "output_type": "execute_result"
    },
    {
     "data": {
      "text/plain": [
       "Success: 1 rows affected"
      ]
     },
     "execution_count": 33,
     "metadata": {
      "application/vnd.teradata.resultset": ""
     },
     "output_type": "execute_result"
    },
    {
     "data": {
      "text/plain": [
       "Success: 1 rows affected"
      ]
     },
     "execution_count": 33,
     "metadata": {
      "application/vnd.teradata.resultset": ""
     },
     "output_type": "execute_result"
    },
    {
     "data": {
      "text/plain": [
       "Success: 1 rows affected"
      ]
     },
     "execution_count": 33,
     "metadata": {
      "application/vnd.teradata.resultset": ""
     },
     "output_type": "execute_result"
    },
    {
     "data": {
      "text/plain": [
       "Success: 1 rows affected"
      ]
     },
     "execution_count": 33,
     "metadata": {
      "application/vnd.teradata.resultset": ""
     },
     "output_type": "execute_result"
    },
    {
     "data": {
      "text/plain": [
       "Success: 1 rows affected"
      ]
     },
     "execution_count": 33,
     "metadata": {
      "application/vnd.teradata.resultset": ""
     },
     "output_type": "execute_result"
    }
   ],
   "source": [
    "INSERT INTO fare_amount_range VALUES ('fare_amount', 0, 5, '00-05');\n",
    "INSERT INTO fare_amount_range VALUES ('fare_amount', 5, 10, '05-10');\n",
    "INSERT INTO fare_amount_range VALUES ('fare_amount', 10, 15, '10-15');\n",
    "INSERT INTO fare_amount_range VALUES ('fare_amount', 15, 20, '15-20');\n",
    "INSERT INTO fare_amount_range VALUES ('fare_amount', 20, 25, '20-25');\n",
    "INSERT INTO fare_amount_range VALUES ('fare_amount', 25, 30, '25-30');\n",
    "INSERT INTO fare_amount_range VALUES ('fare_amount', 30, 35, '30-35');\n",
    "INSERT INTO fare_amount_range VALUES ('fare_amount', 35, 40, '35-40');\n",
    "INSERT INTO fare_amount_range VALUES ('fare_amount', 40, 45, '40-45');"
   ]
  },
  {
   "cell_type": "code",
   "execution_count": 34,
   "metadata": {},
   "outputs": [
    {
     "data": {
      "text/plain": [
       "Success: 0 rows affected"
      ]
     },
     "execution_count": 34,
     "metadata": {
      "application/vnd.teradata.resultset": ""
     },
     "output_type": "execute_result"
    }
   ],
   "source": [
    "CREATE TABLE BinCodeFitTbl AS (\n",
    "    SELECT *\n",
    "        FROM TD_BincodeFit(\n",
    "        ON NYC_FULL_T AS InputTable\n",
    "        ON fare_amount_range as FitInput Dimension\n",
    "        USING\n",
    "            TargetColumns('fare_amount')\n",
    "            MethodType('Variable-Width')\n",
    "        ) AS dt\n",
    ") WITH DATA;"
   ]
  },
  {
   "cell_type": "code",
   "execution_count": 35,
   "metadata": {},
   "outputs": [
    {
     "data": {
      "application/vnd.teradata.resultset": "\"TD_ColumnName_BINFIT\",\"TD_MinValue_BINFIT\",\"TD_MaxValue_BINFIT\",\"TD_Label_BINFIT\",\"TD_Bins_BINFIT\",\"TD_IndexValue_BINFIT\",\"TD_MaxLenLabel_BINFIT\",\"fare_amount\"\n\"fare_amount\",\"0\",\"5\",\"00-05\",\"9\",\"0\",\"5\",\"\"\n\"fare_amount\",\"5\",\"10\",\"05-10\",\"9\",\"0\",\"5\",\"\"\n\"fare_amount\",\"10\",\"15\",\"10-15\",\"9\",\"0\",\"5\",\"\"\n\"fare_amount\",\"15\",\"20\",\"15-20\",\"9\",\"0\",\"5\",\"\"\n\"fare_amount\",\"20\",\"25\",\"20-25\",\"9\",\"0\",\"5\",\"\"\n\"fare_amount\",\"25\",\"30\",\"25-30\",\"9\",\"0\",\"5\",\"\"\n\"fare_amount\",\"30\",\"35\",\"30-35\",\"9\",\"0\",\"5\",\"\"\n\"fare_amount\",\"35\",\"40\",\"35-40\",\"9\",\"0\",\"5\",\"\"\n\"fare_amount\",\"40\",\"45\",\"40-45\",\"9\",\"0\",\"5\",\"\"",
      "text/html": [
       "<div class = \"td-resultset-table-div\" style = \"max-height: 100%; overflow-y: auto\">\n",
       "      <table class=\"tdhistory394859\"><style>\n",
       "      table.tdhistory394859 { display: block !important; min-height: 273px !important; overflow: auto !important; height: 273px !important; width: 100% !important; border: 1px solid rgb(207, 207, 207) !important; border-collapse: collapse !important; ; color: var(--jp-ui-font-color1) !important; }\n",
       "      th.tdhistory394859 { border: 1px solid rgb(198,198,198) !important; border-collapse: collapse !important; ; padding: 2px 5px !important; ; font-size: 13px !important; ; text-align: center !important; white-space: normal !important; color: var(--jp-ui-font-color1) !important; }\n",
       "      th.tdhistory394859:last-child { text-align: left !important; }\n",
       "      tbody.tdhistory394859 tr:nth-child(even) { background: rgba(243, 243, 243, 0.75) !important; }\n",
       "      tbody.tdhistory394859 tr:nth-child(odd) { background: var(--jp-ui-inverse-font-color1) !important; }\n",
       "      td.tdhistory394859 { border: 1px solid rgb(207, 207, 207) !important; border-collapse: collapse !important; ; padding: 2px 5px !important; ; font-size: 13px !important; ; text-align: left !important;          white-space: nowrap !important; overflow:hidden !important; text-overflow:ellipsis !important;; }\n",
       "    </style><thead><tr style= \"background: rgba(243, 243, 243, 0.75)\"><th class=\"tdhistory394859\"></th><th class=\"tdhistory394859\">TD_ColumnName_BINFIT</th><th class=\"tdhistory394859\">TD_MinValue_BINFIT</th><th class=\"tdhistory394859\">TD_MaxValue_BINFIT</th><th class=\"tdhistory394859\">TD_Label_BINFIT</th><th class=\"tdhistory394859\">TD_Bins_BINFIT</th><th class=\"tdhistory394859\">TD_IndexValue_BINFIT</th><th class=\"tdhistory394859\">TD_MaxLenLabel_BINFIT</th><th class=\"tdhistory394859\">fare_amount</th></tr></thead><tbody class=\"tdhistory394859 resultset-body\"><tr><th class=\"tdhistory394859\" style= \"background: rgba(243, 243, 243, 0.75)\">1</th><td class=\"tdhistory394859\">fare_amount</td><td class=\"tdhistory394859\">0</td><td class=\"tdhistory394859\">5</td><td class=\"tdhistory394859\">00-05</td><td class=\"tdhistory394859\">9</td><td class=\"tdhistory394859\">0</td><td class=\"tdhistory394859\">5</td><td class=\"tdhistory394859\"></td></tr><tr><th class=\"tdhistory394859\" style= \"background: rgba(243, 243, 243, 0.75)\">2</th><td class=\"tdhistory394859\">fare_amount</td><td class=\"tdhistory394859\">5</td><td class=\"tdhistory394859\">10</td><td class=\"tdhistory394859\">05-10</td><td class=\"tdhistory394859\">9</td><td class=\"tdhistory394859\">0</td><td class=\"tdhistory394859\">5</td><td class=\"tdhistory394859\"></td></tr><tr><th class=\"tdhistory394859\" style= \"background: rgba(243, 243, 243, 0.75)\">3</th><td class=\"tdhistory394859\">fare_amount</td><td class=\"tdhistory394859\">10</td><td class=\"tdhistory394859\">15</td><td class=\"tdhistory394859\">10-15</td><td class=\"tdhistory394859\">9</td><td class=\"tdhistory394859\">0</td><td class=\"tdhistory394859\">5</td><td class=\"tdhistory394859\"></td></tr><tr><th class=\"tdhistory394859\" style= \"background: rgba(243, 243, 243, 0.75)\">4</th><td class=\"tdhistory394859\">fare_amount</td><td class=\"tdhistory394859\">15</td><td class=\"tdhistory394859\">20</td><td class=\"tdhistory394859\">15-20</td><td class=\"tdhistory394859\">9</td><td class=\"tdhistory394859\">0</td><td class=\"tdhistory394859\">5</td><td class=\"tdhistory394859\"></td></tr><tr><th class=\"tdhistory394859\" style= \"background: rgba(243, 243, 243, 0.75)\">5</th><td class=\"tdhistory394859\">fare_amount</td><td class=\"tdhistory394859\">20</td><td class=\"tdhistory394859\">25</td><td class=\"tdhistory394859\">20-25</td><td class=\"tdhistory394859\">9</td><td class=\"tdhistory394859\">0</td><td class=\"tdhistory394859\">5</td><td class=\"tdhistory394859\"></td></tr><tr><th class=\"tdhistory394859\" style= \"background: rgba(243, 243, 243, 0.75)\">6</th><td class=\"tdhistory394859\">fare_amount</td><td class=\"tdhistory394859\">25</td><td class=\"tdhistory394859\">30</td><td class=\"tdhistory394859\">25-30</td><td class=\"tdhistory394859\">9</td><td class=\"tdhistory394859\">0</td><td class=\"tdhistory394859\">5</td><td class=\"tdhistory394859\"></td></tr><tr><th class=\"tdhistory394859\" style= \"background: rgba(243, 243, 243, 0.75)\">7</th><td class=\"tdhistory394859\">fare_amount</td><td class=\"tdhistory394859\">30</td><td class=\"tdhistory394859\">35</td><td class=\"tdhistory394859\">30-35</td><td class=\"tdhistory394859\">9</td><td class=\"tdhistory394859\">0</td><td class=\"tdhistory394859\">5</td><td class=\"tdhistory394859\"></td></tr><tr><th class=\"tdhistory394859\" style= \"background: rgba(243, 243, 243, 0.75)\">8</th><td class=\"tdhistory394859\">fare_amount</td><td class=\"tdhistory394859\">35</td><td class=\"tdhistory394859\">40</td><td class=\"tdhistory394859\">35-40</td><td class=\"tdhistory394859\">9</td><td class=\"tdhistory394859\">0</td><td class=\"tdhistory394859\">5</td><td class=\"tdhistory394859\"></td></tr><tr><th class=\"tdhistory394859\" style= \"background: rgba(243, 243, 243, 0.75)\">9</th><td class=\"tdhistory394859\">fare_amount</td><td class=\"tdhistory394859\">40</td><td class=\"tdhistory394859\">45</td><td class=\"tdhistory394859\">40-45</td><td class=\"tdhistory394859\">9</td><td class=\"tdhistory394859\">0</td><td class=\"tdhistory394859\">5</td><td class=\"tdhistory394859\"></td></tr></tbody></table></div>"
      ]
     },
     "execution_count": 35,
     "metadata": {
      "application/vnd.teradata.resultset": "{\"resultSetID\":\"/home/jovyan/JupyterLabRoot/Teradata/Resultsets/2023.07.13_11.55.18.183_UTC\",\"historyID\":197,\"chunkID\":\"00001\",\"sessionid\":\"\",\"portnum\":\"\",\"dockermode\":\"docker\",\"totalRowCount\":9,\"chunkCount\":0,\"rowLimit\":0,\"columnMetadata\":[{\"columnName\":\"TD_ColumnName_BINFIT\",\"columnTypeName\":\"VARCHAR\",\"length\":128,\"scale\":128},{\"columnNumber\":1,\"columnName\":\"TD_MinValue_BINFIT\",\"columnTypeName\":\"FLOAT\"},{\"columnNumber\":2,\"columnName\":\"TD_MaxValue_BINFIT\",\"columnTypeName\":\"FLOAT\"},{\"columnNumber\":3,\"columnName\":\"TD_Label_BINFIT\",\"columnTypeName\":\"VARCHAR\",\"length\":128,\"scale\":128},{\"columnNumber\":4,\"columnName\":\"TD_Bins_BINFIT\",\"columnTypeName\":\"INTEGER\"},{\"columnNumber\":5,\"columnName\":\"TD_IndexValue_BINFIT\",\"columnTypeName\":\"SMALLINT\"},{\"columnNumber\":6,\"columnName\":\"TD_MaxLenLabel_BINFIT\",\"columnTypeName\":\"SMALLINT\"},{\"columnNumber\":7,\"columnName\":\"fare_amount\",\"columnTypeName\":\"FLOAT\"}]}"
     },
     "output_type": "execute_result"
    }
   ],
   "source": [
    "SELECT * from BinCodeFitTbl ORDER BY 2;"
   ]
  },
  {
   "cell_type": "markdown",
   "metadata": {},
   "source": [
    "<p style = 'font-size:16px;font-family:Arial'>Here we can see that we created BinCodeFitTble using the fare_amount_range table. We will use this in the next step of the transformation.</p>"
   ]
  },
  {
   "cell_type": "markdown",
   "metadata": {},
   "source": [
    "<hr>\n",
    "<p style = 'font-size:18px;font-family:Arial;color:#E37C4D'><b>5.3 TD_ColumnTransformer</b></p>\n",
    "\n",
    "<p style = 'font-size:16px;font-family:Arial'>The <a href = 'https://docs.teradata.com/search/all?query=TD_ColumnTransformer&content-lang=en-US'>TD_ColumnTransformer</a> function transforms the entire dataset in a single operation. You only need to provide the FIT tables to the function, and the function runs all the transformations required in a single operation.</p>\n",
    "\n",
    "<p style = 'font-size:16px;font-family:Arial'>For this demonstration, we will create another view using TD_ColumnTransformer, passing both <b>Outlier Filter Fit</b> and <b>Bin Coding Fit</b> tables.</p>\n"
   ]
  },
  {
   "cell_type": "code",
   "execution_count": 36,
   "metadata": {},
   "outputs": [
    {
     "data": {
      "text/plain": [
       "Success: 0 rows affected"
      ]
     },
     "execution_count": 36,
     "metadata": {
      "application/vnd.teradata.resultset": ""
     },
     "output_type": "execute_result"
    }
   ],
   "source": [
    "REPLACE VIEW nyc_outlier_transformed AS (\n",
    "    SELECT *\n",
    "        FROM TD_ColumnTransformer(\n",
    "        ON NYC_FULL_T AS InputTable\n",
    "            \n",
    "        ON OutlierFitTbl AS OutlierFilterFitTable DIMENSION\n",
    "        ON BinCodeFitTbl AS BincodeFitTable DIMENSION\n",
    "            \n",
    "    ) AS dt\n",
    ");"
   ]
  },
  {
   "cell_type": "code",
   "execution_count": 37,
   "metadata": {},
   "outputs": [
    {
     "data": {
      "application/vnd.teradata.resultset": "\"pickup_datetime\",\"passenger_count\",\"pickup_latitude\",\"pickup_longitude\",\"dropoff_latitude\",\"dropoff_longitude\",\"fare_amount\"\n\"2013-11-10 11:24:00.000000\",\"1\",\"40.725315\",\"-73.995567\",\"40.74028\",\"-74.005936\",\"05-10\"\n\"2013-11-10 09:53:01.000000\",\"1\",\"40.744682\",\"-73.976044\",\"40.741577\",\"-74.004166\",\"10-15\"\n\"2013-11-09 20:06:18.000000\",\"1\",\"40.756256\",\"-73.972481\",\"40.746609\",\"-74.000931\",\"10-15\"\n\"2013-11-09 20:53:00.000000\",\"3\",\"40.736488\",\"-73.988464\",\"40.792805\",\"-73.967644\",\"15-20\"\n\"2013-11-09 19:52:45.000000\",\"2\",\"40.742664\",\"-73.984741\",\"40.729713\",\"-73.998566\",\"05-10\"",
      "text/html": [
       "<div class = \"td-resultset-table-div\" style = \"max-height: 100%; overflow-y: auto\">\n",
       "      <table class=\"tdhistory622117\"><style>\n",
       "      table.tdhistory622117 { display: block !important; min-height: 189px !important; overflow: auto !important; height: 189px !important; width: 100% !important; border: 1px solid rgb(207, 207, 207) !important; border-collapse: collapse !important; ; color: var(--jp-ui-font-color1) !important; }\n",
       "      th.tdhistory622117 { border: 1px solid rgb(198,198,198) !important; border-collapse: collapse !important; ; padding: 2px 5px !important; ; font-size: 13px !important; ; text-align: center !important; white-space: normal !important; color: var(--jp-ui-font-color1) !important; }\n",
       "      th.tdhistory622117:last-child { text-align: left !important; }\n",
       "      tbody.tdhistory622117 tr:nth-child(even) { background: rgba(243, 243, 243, 0.75) !important; }\n",
       "      tbody.tdhistory622117 tr:nth-child(odd) { background: var(--jp-ui-inverse-font-color1) !important; }\n",
       "      td.tdhistory622117 { border: 1px solid rgb(207, 207, 207) !important; border-collapse: collapse !important; ; padding: 2px 5px !important; ; font-size: 13px !important; ; text-align: left !important;          white-space: nowrap !important; overflow:hidden !important; text-overflow:ellipsis !important;; }\n",
       "    </style><thead><tr style= \"background: rgba(243, 243, 243, 0.75)\"><th class=\"tdhistory622117\"></th><th class=\"tdhistory622117\">pickup_datetime</th><th class=\"tdhistory622117\">passenger_count</th><th class=\"tdhistory622117\">pickup_latitude</th><th class=\"tdhistory622117\">pickup_longitude</th><th class=\"tdhistory622117\">dropoff_latitude</th><th class=\"tdhistory622117\">dropoff_longitude</th><th class=\"tdhistory622117\">fare_amount</th></tr></thead><tbody class=\"tdhistory622117 resultset-body\"><tr><th class=\"tdhistory622117\" style= \"background: rgba(243, 243, 243, 0.75)\">1</th><td class=\"tdhistory622117\">2013-11-10 11:24:00.000000</td><td class=\"tdhistory622117\">1</td><td class=\"tdhistory622117\">40.725315</td><td class=\"tdhistory622117\">-73.995567</td><td class=\"tdhistory622117\">40.74028</td><td class=\"tdhistory622117\">-74.005936</td><td class=\"tdhistory622117\">05-10</td></tr><tr><th class=\"tdhistory622117\" style= \"background: rgba(243, 243, 243, 0.75)\">2</th><td class=\"tdhistory622117\">2013-11-10 09:53:01.000000</td><td class=\"tdhistory622117\">1</td><td class=\"tdhistory622117\">40.744682</td><td class=\"tdhistory622117\">-73.976044</td><td class=\"tdhistory622117\">40.741577</td><td class=\"tdhistory622117\">-74.004166</td><td class=\"tdhistory622117\">10-15</td></tr><tr><th class=\"tdhistory622117\" style= \"background: rgba(243, 243, 243, 0.75)\">3</th><td class=\"tdhistory622117\">2013-11-09 20:06:18.000000</td><td class=\"tdhistory622117\">1</td><td class=\"tdhistory622117\">40.756256</td><td class=\"tdhistory622117\">-73.972481</td><td class=\"tdhistory622117\">40.746609</td><td class=\"tdhistory622117\">-74.000931</td><td class=\"tdhistory622117\">10-15</td></tr><tr><th class=\"tdhistory622117\" style= \"background: rgba(243, 243, 243, 0.75)\">4</th><td class=\"tdhistory622117\">2013-11-09 20:53:00.000000</td><td class=\"tdhistory622117\">3</td><td class=\"tdhistory622117\">40.736488</td><td class=\"tdhistory622117\">-73.988464</td><td class=\"tdhistory622117\">40.792805</td><td class=\"tdhistory622117\">-73.967644</td><td class=\"tdhistory622117\">15-20</td></tr><tr><th class=\"tdhistory622117\" style= \"background: rgba(243, 243, 243, 0.75)\">5</th><td class=\"tdhistory622117\">2013-11-09 19:52:45.000000</td><td class=\"tdhistory622117\">2</td><td class=\"tdhistory622117\">40.742664</td><td class=\"tdhistory622117\">-73.984741</td><td class=\"tdhistory622117\">40.729713</td><td class=\"tdhistory622117\">-73.998566</td><td class=\"tdhistory622117\">05-10</td></tr></tbody></table></div>"
      ]
     },
     "execution_count": 37,
     "metadata": {
      "application/vnd.teradata.resultset": "{\"resultSetID\":\"/home/jovyan/JupyterLabRoot/Teradata/Resultsets/2023.07.13_11.55.20.913_UTC\",\"historyID\":199,\"chunkID\":\"00001\",\"sessionid\":\"\",\"portnum\":\"\",\"dockermode\":\"docker\",\"totalRowCount\":5,\"chunkCount\":0,\"rowLimit\":0,\"columnMetadata\":[{\"columnName\":\"pickup_datetime\",\"columnTypeName\":\"TIMESTAMP\",\"length\":6,\"scale\":6},{\"columnNumber\":1,\"columnName\":\"passenger_count\",\"columnTypeName\":\"SMALLINT\"},{\"columnNumber\":2,\"columnName\":\"pickup_latitude\",\"columnTypeName\":\"FLOAT\"},{\"columnNumber\":3,\"columnName\":\"pickup_longitude\",\"columnTypeName\":\"FLOAT\"},{\"columnNumber\":4,\"columnName\":\"dropoff_latitude\",\"columnTypeName\":\"FLOAT\"},{\"columnNumber\":5,\"columnName\":\"dropoff_longitude\",\"columnTypeName\":\"FLOAT\"},{\"columnNumber\":6,\"columnName\":\"fare_amount\",\"columnTypeName\":\"VARCHAR\",\"length\":128,\"scale\":128}]}"
     },
     "output_type": "execute_result"
    }
   ],
   "source": [
    "SELECT * FROM nyc_outlier_transformed SAMPLE 5;"
   ]
  },
  {
   "cell_type": "markdown",
   "metadata": {},
   "source": [
    "<p style = 'font-size:16px;font-family:Arial'>As shown above, the data has been divided into the bins specified in the fare_amount_range table.</p>"
   ]
  },
  {
   "cell_type": "markdown",
   "metadata": {},
   "source": [
    "<hr>\n",
    "<p style = 'font-size:18px;font-family:Arial;color:#E37C4D'><b>5.4 TD_CategoricalSummary</b></p>\n",
    "\n",
    "<p style = 'font-size:16px;font-family:Arial'>The <a href = 'https://docs.teradata.com/search/all?query=TD_CategoricalSummary&content-lang=en-US'>TD_CategoricalSummary</a> function displays the distinct values and their counts for each specified input table column.</p>\n",
    "\n",
    "<p style = 'font-size:16px;font-family:Arial'>Since the fare_amount column has been converted from a numeric column to a categorical one, we will use TD_CategoricalSummary instead of TD_Histogram to count the distinct category values, and value counts across the data set.</p>"
   ]
  },
  {
   "cell_type": "code",
   "execution_count": 38,
   "metadata": {},
   "outputs": [
    {
     "data": {
      "application/vnd.teradata.resultset": "\"ColumnName\",\"DistinctValue\",\"DistinctValueCount\"\n\"fare_amount\",\"\",\"6591\"\n\"fare_amount\",\"00-05\",\"19415\"\n\"fare_amount\",\"05-10\",\"171022\"\n\"fare_amount\",\"10-15\",\"111487\"\n\"fare_amount\",\"15-20\",\"58884\"\n\"fare_amount\",\"20-25\",\"21727\"\n\"fare_amount\",\"25-30\",\"12327\"\n\"fare_amount\",\"30-35\",\"6900\"\n\"fare_amount\",\"35-40\",\"6972\"\n\"fare_amount\",\"40-45\",\"4881\"\n\"fare_amount\",\"BIN_N+1\",\"9052\"",
      "text/html": [
       "<div class = \"td-resultset-table-div\" style = \"max-height: 100%; overflow-y: auto\">\n",
       "      <table class=\"tdhistory578066\"><style>\n",
       "      table.tdhistory578066 { display: block !important; min-height: 315px !important; overflow: auto !important; height: 315px !important; width: 100% !important; border: 1px solid rgb(207, 207, 207) !important; border-collapse: collapse !important; ; color: var(--jp-ui-font-color1) !important; }\n",
       "      th.tdhistory578066 { border: 1px solid rgb(198,198,198) !important; border-collapse: collapse !important; ; padding: 2px 5px !important; ; font-size: 13px !important; ; text-align: center !important; white-space: normal !important; color: var(--jp-ui-font-color1) !important; }\n",
       "      th.tdhistory578066:last-child { text-align: left !important; }\n",
       "      tbody.tdhistory578066 tr:nth-child(even) { background: rgba(243, 243, 243, 0.75) !important; }\n",
       "      tbody.tdhistory578066 tr:nth-child(odd) { background: var(--jp-ui-inverse-font-color1) !important; }\n",
       "      td.tdhistory578066 { border: 1px solid rgb(207, 207, 207) !important; border-collapse: collapse !important; ; padding: 2px 5px !important; ; font-size: 13px !important; ; text-align: left !important;          white-space: nowrap !important; overflow:hidden !important; text-overflow:ellipsis !important;; }\n",
       "    </style><thead><tr style= \"background: rgba(243, 243, 243, 0.75)\"><th class=\"tdhistory578066\"></th><th class=\"tdhistory578066\">ColumnName</th><th class=\"tdhistory578066\">DistinctValue</th><th class=\"tdhistory578066\">DistinctValueCount</th></tr></thead><tbody class=\"tdhistory578066 resultset-body\"><tr><th class=\"tdhistory578066\" style= \"background: rgba(243, 243, 243, 0.75)\">1</th><td class=\"tdhistory578066\">fare_amount</td><td class=\"tdhistory578066\"></td><td class=\"tdhistory578066\">6591</td></tr><tr><th class=\"tdhistory578066\" style= \"background: rgba(243, 243, 243, 0.75)\">2</th><td class=\"tdhistory578066\">fare_amount</td><td class=\"tdhistory578066\">00-05</td><td class=\"tdhistory578066\">19415</td></tr><tr><th class=\"tdhistory578066\" style= \"background: rgba(243, 243, 243, 0.75)\">3</th><td class=\"tdhistory578066\">fare_amount</td><td class=\"tdhistory578066\">05-10</td><td class=\"tdhistory578066\">171022</td></tr><tr><th class=\"tdhistory578066\" style= \"background: rgba(243, 243, 243, 0.75)\">4</th><td class=\"tdhistory578066\">fare_amount</td><td class=\"tdhistory578066\">10-15</td><td class=\"tdhistory578066\">111487</td></tr><tr><th class=\"tdhistory578066\" style= \"background: rgba(243, 243, 243, 0.75)\">5</th><td class=\"tdhistory578066\">fare_amount</td><td class=\"tdhistory578066\">15-20</td><td class=\"tdhistory578066\">58884</td></tr><tr><th class=\"tdhistory578066\" style= \"background: rgba(243, 243, 243, 0.75)\">6</th><td class=\"tdhistory578066\">fare_amount</td><td class=\"tdhistory578066\">20-25</td><td class=\"tdhistory578066\">21727</td></tr><tr><th class=\"tdhistory578066\" style= \"background: rgba(243, 243, 243, 0.75)\">7</th><td class=\"tdhistory578066\">fare_amount</td><td class=\"tdhistory578066\">25-30</td><td class=\"tdhistory578066\">12327</td></tr><tr><th class=\"tdhistory578066\" style= \"background: rgba(243, 243, 243, 0.75)\">8</th><td class=\"tdhistory578066\">fare_amount</td><td class=\"tdhistory578066\">30-35</td><td class=\"tdhistory578066\">6900</td></tr><tr><th class=\"tdhistory578066\" style= \"background: rgba(243, 243, 243, 0.75)\">9</th><td class=\"tdhistory578066\">fare_amount</td><td class=\"tdhistory578066\">35-40</td><td class=\"tdhistory578066\">6972</td></tr><tr><th class=\"tdhistory578066\" style= \"background: rgba(243, 243, 243, 0.75)\">10</th><td class=\"tdhistory578066\">fare_amount</td><td class=\"tdhistory578066\">40-45</td><td class=\"tdhistory578066\">4881</td></tr><tr><th class=\"tdhistory578066\" style= \"background: rgba(243, 243, 243, 0.75)\">11</th><td class=\"tdhistory578066\">fare_amount</td><td class=\"tdhistory578066\">BIN_N+1</td><td class=\"tdhistory578066\">9052</td></tr></tbody></table></div>"
      ]
     },
     "execution_count": 38,
     "metadata": {
      "application/vnd.teradata.resultset": "{\"resultSetID\":\"/home/jovyan/JupyterLabRoot/Teradata/Resultsets/2023.07.13_11.55.30.873_UTC\",\"historyID\":200,\"chunkID\":\"00001\",\"sessionid\":\"\",\"portnum\":\"\",\"dockermode\":\"docker\",\"totalRowCount\":11,\"chunkCount\":0,\"rowLimit\":0,\"columnMetadata\":[{\"columnName\":\"ColumnName\",\"columnTypeName\":\"VARCHAR\",\"length\":128,\"scale\":128},{\"columnNumber\":1,\"columnName\":\"DistinctValue\",\"columnTypeName\":\"LONG VARCHAR\",\"length\":32000,\"scale\":32000},{\"columnNumber\":2,\"columnName\":\"DistinctValueCount\",\"columnTypeName\":\"BIGINT\"}]}"
     },
     "output_type": "execute_result"
    }
   ],
   "source": [
    "SELECT  *\n",
    "FROM TD_CategoricalSummary (\n",
    "    ON nyc_outlier_transformed AS InputTable\n",
    "USING\n",
    "    TargetColumns('fare_amount')\n",
    ") AS dt ORDER BY 2;"
   ]
  },
  {
   "cell_type": "code",
   "execution_count": 39,
   "metadata": {
    "slideshow": {
     "slide_type": "fragment"
    }
   },
   "outputs": [
    {
     "data": {
      "application/vnd.vegalite.v3+json": {
       "$schema": "https://vega.github.io/schema/vega-lite/v3.json",
       "data": {
        "format": {
         "type": "csv"
        },
        "values": "\"ColumnName\",\"DistinctValue\",\"DistinctValueCount\"\n\"fare_amount\",\"\",\"6591\"\n\"fare_amount\",\"00-05\",\"19415\"\n\"fare_amount\",\"05-10\",\"171022\"\n\"fare_amount\",\"10-15\",\"111487\"\n\"fare_amount\",\"15-20\",\"58884\"\n\"fare_amount\",\"20-25\",\"21727\"\n\"fare_amount\",\"25-30\",\"12327\"\n\"fare_amount\",\"30-35\",\"6900\"\n\"fare_amount\",\"35-40\",\"6972\"\n\"fare_amount\",\"40-45\",\"4881\"\n\"fare_amount\",\"BIN_N+1\",\"9052\"\n"
       },
       "encoding": {
        "x": {
         "axis": {
          "grid": true,
          "title": "DistinctValue"
         },
         "field": "DistinctValue",
         "type": "nominal"
        },
        "y": {
         "axis": {
          "grid": true,
          "title": "DistinctValueCount"
         },
         "field": "DistinctValueCount",
         "type": "quantitative"
        }
       },
       "mark": {
        "color": "#4C78A8",
        "type": "bar"
       },
       "title": "Histogram of fare_amount range and DistinctValue_count",
       "width": "300"
      },
      "image/png": "[encoded data removed]"
     },
     "execution_count": 39,
     "metadata": {
      "application/vnd.teradata.resultset": ""
     },
     "output_type": "execute_result"
    }
   ],
   "source": [
    "%chart x=DistinctValue, y=DistinctValueCount, title=\"Histogram of fare_amount range and DistinctValue_count\", width=300"
   ]
  },
  {
   "cell_type": "markdown",
   "metadata": {},
   "source": [
    "<p style = 'font-size:16px;font-family:Arial'>The above graph shows a better distribution of fare amount.\n",
    "<br>\n",
    "<br>\n",
    "    So in this demonstration, we handled the outliers in the latitude longitude as well as fare_amount. Now this filtered dataset most closely represents the actual data i.e., the rides taken. This dataset can safely be used for further analysis.\n",
    "</p>"
   ]
  },
  {
   "cell_type": "markdown",
   "metadata": {},
   "source": [
    "<hr>\n",
    "<b style = 'font-size:28px;font-family:Arial;color:#E37C4D'>8. Cleanup</b>\n",
    "<p style = 'font-size:18px;font-family:Arial;color:#E37C4D'><b>Work Tables</b></p>\n",
    "<p style = 'font-size:16px;font-family:Arial'>Cleanup work tables to prevent errors next time. This section drops all the tables created during the demonstration.</p>"
   ]
  },
  {
   "cell_type": "code",
   "execution_count": 40,
   "metadata": {},
   "outputs": [
    {
     "data": {
      "text/plain": [
       "Success: 21 rows affected"
      ]
     },
     "execution_count": 40,
     "metadata": {
      "application/vnd.teradata.resultset": ""
     },
     "output_type": "execute_result"
    }
   ],
   "source": [
    "DROP TABLE NYC_FULL_T"
   ]
  },
  {
   "cell_type": "code",
   "execution_count": 41,
   "metadata": {},
   "outputs": [
    {
     "data": {
      "text/plain": [
       "Success: 17 rows affected"
      ]
     },
     "execution_count": 41,
     "metadata": {
      "application/vnd.teradata.resultset": ""
     },
     "output_type": "execute_result"
    }
   ],
   "source": [
    "DROP TABLE AllStats_unpivoted;"
   ]
  },
  {
   "cell_type": "code",
   "execution_count": 42,
   "metadata": {},
   "outputs": [
    {
     "data": {
      "text/plain": [
       "Success: 12 rows affected"
      ]
     },
     "execution_count": 42,
     "metadata": {
      "application/vnd.teradata.resultset": ""
     },
     "output_type": "execute_result"
    }
   ],
   "source": [
    "DROP VIEW AllStats_pivoted"
   ]
  },
  {
   "cell_type": "code",
   "execution_count": 43,
   "metadata": {},
   "outputs": [
    {
     "data": {
      "text/plain": [
       "Success: 17 rows affected"
      ]
     },
     "execution_count": 43,
     "metadata": {
      "application/vnd.teradata.resultset": ""
     },
     "output_type": "execute_result"
    }
   ],
   "source": [
    "DROP TABLE fare_amount_minmax;"
   ]
  },
  {
   "cell_type": "code",
   "execution_count": 44,
   "metadata": {},
   "outputs": [
    {
     "data": {
      "text/plain": [
       "Success: 25 rows affected"
      ]
     },
     "execution_count": 44,
     "metadata": {
      "application/vnd.teradata.resultset": ""
     },
     "output_type": "execute_result"
    }
   ],
   "source": [
    "DROP TABLE outlierFitTbl"
   ]
  },
  {
   "cell_type": "code",
   "execution_count": 45,
   "metadata": {},
   "outputs": [
    {
     "data": {
      "text/plain": [
       "Success: 13 rows affected"
      ]
     },
     "execution_count": 45,
     "metadata": {
      "application/vnd.teradata.resultset": ""
     },
     "output_type": "execute_result"
    }
   ],
   "source": [
    "DROP VIEW latlong_no_outliers"
   ]
  },
  {
   "cell_type": "code",
   "execution_count": 46,
   "metadata": {},
   "outputs": [
    {
     "data": {
      "text/plain": [
       "Success: 18 rows affected"
      ]
     },
     "execution_count": 46,
     "metadata": {
      "application/vnd.teradata.resultset": ""
     },
     "output_type": "execute_result"
    }
   ],
   "source": [
    "DROP TABLE fare_amount_range"
   ]
  },
  {
   "cell_type": "code",
   "execution_count": 47,
   "metadata": {},
   "outputs": [
    {
     "data": {
      "text/plain": [
       "Success: 22 rows affected"
      ]
     },
     "execution_count": 47,
     "metadata": {
      "application/vnd.teradata.resultset": ""
     },
     "output_type": "execute_result"
    }
   ],
   "source": [
    "DROP TABLE BinCodeFitTbl"
   ]
  },
  {
   "cell_type": "markdown",
   "metadata": {},
   "source": [
    "<p style = 'font-size:18px;font-family:Arial;color:#E37C4D'> <b>Databases and Tables </b></p>\n",
    "<p style = 'font-size:16px;font-family:Arial'>The following code will clean up tables and databases created above.</p>"
   ]
  },
  {
   "cell_type": "code",
   "execution_count": 48,
   "metadata": {},
   "outputs": [
    {
     "data": {
      "text/plain": [
       "Success: 0 rows affected"
      ]
     },
     "execution_count": 48,
     "metadata": {
      "application/vnd.teradata.resultset": ""
     },
     "output_type": "execute_result"
    },
    {
     "data": {
      "text/plain": [
       "Success: 0 rows affected"
      ]
     },
     "execution_count": 48,
     "metadata": {
      "application/vnd.teradata.resultset": ""
     },
     "output_type": "execute_result"
    },
    {
     "data": {
      "application/vnd.teradata.resultset": "\"Message\"\n\"Removed objects related to DEMO_NYCTaxi. That ran for 0:00:03.07\"",
      "text/html": [
       "<div class = \"td-resultset-table-div\" style = \"max-height: 100%; overflow-y: auto\">\n",
       "      <table class=\"tdhistory247971\"><style>\n",
       "      table.tdhistory247971 { display: block !important; min-height: 105px !important; overflow: auto !important; height: 105px !important; width: 100% !important; border: 1px solid rgb(207, 207, 207) !important; border-collapse: collapse !important; ; color: var(--jp-ui-font-color1) !important; }\n",
       "      th.tdhistory247971 { border: 1px solid rgb(198,198,198) !important; border-collapse: collapse !important; ; padding: 2px 5px !important; ; font-size: 13px !important; ; text-align: center !important; white-space: normal !important; color: var(--jp-ui-font-color1) !important; }\n",
       "      th.tdhistory247971:last-child { text-align: left !important; }\n",
       "      tbody.tdhistory247971 tr:nth-child(even) { background: rgba(243, 243, 243, 0.75) !important; }\n",
       "      tbody.tdhistory247971 tr:nth-child(odd) { background: var(--jp-ui-inverse-font-color1) !important; }\n",
       "      td.tdhistory247971 { border: 1px solid rgb(207, 207, 207) !important; border-collapse: collapse !important; ; padding: 2px 5px !important; ; font-size: 13px !important; ; text-align: left !important;          white-space: nowrap !important; overflow:hidden !important; text-overflow:ellipsis !important;; }\n",
       "    </style><thead><tr style= \"background: rgba(243, 243, 243, 0.75)\"><th class=\"tdhistory247971\"></th><th class=\"tdhistory247971\">Message</th></tr></thead><tbody class=\"tdhistory247971 resultset-body\"><tr><th class=\"tdhistory247971\" style= \"background: rgba(243, 243, 243, 0.75)\">1</th><td class=\"tdhistory247971\">Removed objects related to DEMO_NYCTaxi. That ran for 0:00:03.07</td></tr></tbody></table></div>"
      ]
     },
     "execution_count": 48,
     "metadata": {
      "application/vnd.teradata.resultset": "{\"resultSetID\":\"/home/jovyan/JupyterLabRoot/Teradata/Resultsets/2023.07.13_11.55.36.284_UTC\",\"historyID\":209,\"chunkID\":\"00001\",\"sessionid\":\"\",\"portnum\":\"\",\"dockermode\":\"docker\",\"totalRowCount\":1,\"chunkCount\":0,\"rowLimit\":0,\"columnMetadata\":[{\"columnName\":\"Message\",\"columnTypeName\":\"VARCHAR\",\"length\":66,\"scale\":66}]}"
     },
     "output_type": "execute_result"
    }
   ],
   "source": [
    "call remove_data('DEMO_NYCTaxi');          -- Takes 10 seconds"
   ]
  },
  {
   "cell_type": "markdown",
   "metadata": {},
   "source": [
    "<footer style=\"padding:10px;background:#f9f9f9;border-bottom:3px solid #394851\">©2023 Teradata. All Rights Reserved</footer>"
   ]
  }
 ],
 "metadata": {
  "kernelspec": {
   "display_name": "Teradata SQL",
   "language": "Teradata SQL",
   "name": "teradatasql"
  },
  "language_info": {
   "codemirror_mode": "Teradata SQL",
   "file_extension": ".tdrs",
   "mimetype": "application/vnd.teradata.resultset",
   "name": "Teradata SQL",
   "nbconvert_exporter": "",
   "pygments_lexer": "",
   "version": "16.20"
  },
  "toc-showmarkdowntxt": true
 },
 "nbformat": 4,
 "nbformat_minor": 4
}
