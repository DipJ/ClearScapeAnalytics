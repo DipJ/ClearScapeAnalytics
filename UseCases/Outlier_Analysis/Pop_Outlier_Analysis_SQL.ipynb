{
 "cells": [
  {
   "cell_type": "markdown",
   "metadata": {},
   "source": [
    "<header>\n",
    "   <p  style='font-size:36px;font-family:Arial; color:#F0F0F0; background-color: #00233c; padding-left: 20pt; padding-top: 20pt;padding-bottom: 10pt; padding-right: 20pt;'>\n",
    "       Outlier Analysis\n",
    "  <br>\n",
    "       <img id=\"teradata-logo\" src=\"https://storage.googleapis.com/clearscape_analytics_demo_data/DEMO_Logo/teradata.svg\" alt=\"Teradata\" style=\"width: 125px; height: auto; margin-top: 20pt;\">\n",
    "    </p>\n",
    "</header>"
   ]
  },
  {
   "cell_type": "markdown",
   "metadata": {},
   "source": [
    "<p style = 'font-size:20px;font-family:Arial;color:#00233C'><b>Introduction</b></p>\n",
    "<p style = 'font-size:16px;font-family:Arial;color:#00233C'>An outlier is a data point that is significantly different from other data points in a dataset. Outlier removal is important because outliers can skew the overall analysis and conclusions drawn from a dataset, leading to inaccurate results. By removing outliers, the data can better represent the majority of the dataset and improve the accuracy of the analysis.</p>\n",
    "\n",
    "<!-- <p style = 'font-size:16px;font-family:Arial;color:#00233C'>In the typical process for creating Machine Learning models, a significant amount of time is spent on data preparation and feature selection.  Data scientists and engineers will typically copy data to a tool of choice or data virtualization to perform these tasks.  Moving this data to these tools is impossible at a sufficient scale reflecting typical production volumes.  Even if we can transfer data to another system, the resource requirements to process and analyze this data becomes prohibitively large or expensive.</p>\n",
    " -->\n",
    "<p style = 'font-size:16px;font-family:Arial;color:#00233C'>The following demonstration will illustrate using native Vantage SQL functions that can provide greater efficiency, ease of use, and the ability to process data at an extreme scale.  Additionally, a new SQL function <b>TD_ColumnTransformer</b> can create a single, efficient data transformation pipeline.</p>\n",
    "\n",
    "<p style = 'font-size:16px;font-family:Arial;color:#00233C'>The data for this demonstration consists of New York City taxi trip data and includes 500,000 rows with fare amount, passenger count, and pickup and dropoff latitude/longitude.  The demonstration illustrates various functions for data exploration and outlier removal.  The steps in this demo are as follows:</p>\n",
    "\n",
    "<ol style = 'font-size:16px;font-family:Arial;color:#00233C'>\n",
    "    <li>Perform statistical analysis on the whole data set</li>\n",
    "    <li>Identify outliers and abnormal data distribution</li>\n",
    "    <li>Remove outliers and review data</li>\n",
    "    <li>Perform Bin Coding and Column Transformation to combine Feature Engineering steps</li>\n",
    "    </ol>\n",
    "\n",
    "<img src = 'images/Flow_Diagram_Outlier.png' width=100%>"
   ]
  },
  {
   "cell_type": "markdown",
   "metadata": {},
   "source": [
    "<hr style=\"height:2px;border:none;background-color:#00233C;\">\n",
    "<p style = 'font-size:20px;font-family:Arial;color:#00233C'><b>1. Connect to Vantage</b></p>\n",
    "<p style = 'font-size:16px;font-family:Arial;color:#00233C'>You will be prompted to provide the password. Enter your password, press Enter, then use down arrow to go to next cell.</p>"
   ]
  },
  {
   "cell_type": "code",
   "execution_count": 1,
   "metadata": {},
   "outputs": [
    {
     "name": "stdin",
     "output_type": "stream",
     "text": [
      "Password: ········\n"
     ]
    },
    {
     "name": "stdout",
     "output_type": "stream",
     "text": [
      "Success: 'local' connection established and activated for user 'demo_user', with default database 'demo_user'\n"
     ]
    }
   ],
   "source": [
    "%connect local, hidewarnings=true"
   ]
  },
  {
   "cell_type": "markdown",
   "metadata": {},
   "source": [
    "<p style = 'font-size:16px;font-family:Arial;color:#00233C'>Setup for execution of notebook. Begin running steps with Shift + Enter keys.</p>\n"
   ]
  },
  {
   "cell_type": "code",
   "execution_count": 2,
   "metadata": {},
   "outputs": [
    {
     "data": {
      "text/plain": [
       "Success: 1 rows affected"
      ]
     },
     "execution_count": 2,
     "metadata": {
      "application/vnd.teradata.resultset": ""
     },
     "output_type": "execute_result"
    }
   ],
   "source": [
    "SET query_band='DEMO=Outlier_Analysis_SQL.ipynb.ipynb;' UPDATE FOR SESSION;"
   ]
  },
  {
   "cell_type": "markdown",
   "metadata": {},
   "source": [
    "<p style = 'font-size:18px;font-family:Arial;color:#00233C'><b>Getting Data for This Demo</b></p>\n",
    "<p style = 'font-size:16px;font-family:Arial;color:#00233C'>We have provided data for this demo on cloud storage.  You have the option of either running the demo using foreign tables to access the data without using any storage on your environment or downloading the data to local storage which may yield somewhat faster execution, but there could be considerations of available storage.  There are two statements in the following cell, and one is commented out.  You may switch which mode you choose by changing the comment string. </p>\n"
   ]
  },
  {
   "cell_type": "code",
   "execution_count": 3,
   "metadata": {},
   "outputs": [
    {
     "data": {
      "text/plain": [
       "Success: 0 rows affected"
      ]
     },
     "execution_count": 3,
     "metadata": {
      "application/vnd.teradata.resultset": ""
     },
     "output_type": "execute_result"
    },
    {
     "data": {
      "text/plain": [
       "Success: 0 rows affected"
      ]
     },
     "execution_count": 3,
     "metadata": {
      "application/vnd.teradata.resultset": ""
     },
     "output_type": "execute_result"
    },
    {
     "data": {
      "application/vnd.teradata.resultset": "\"Message\"\n\"That ran for   0:00:50.81 with 15 statements and 0 errors. \"",
      "text/html": [
       "<div class = \"td-resultset-table-div\" style = \"max-height: 100%; overflow-y: auto\">\n",
       "      <table class=\"tdhistory510003\"><style>\n",
       "      table.tdhistory510003 { display: block !important; min-height: 105px !important; overflow: auto !important; height: 105px !important; width: 100% !important; border: 1px solid rgb(207, 207, 207) !important; border-collapse: collapse !important; ; color: var(--jp-ui-font-color1) !important; }\n",
       "      th.tdhistory510003 { border: 1px solid rgb(198,198,198) !important; border-collapse: collapse !important; ; padding: 2px 5px !important; ; font-size: 13px !important; ; text-align: center !important; white-space: normal !important; color: var(--jp-ui-font-color1) !important; }\n",
       "      th.tdhistory510003:last-child { text-align: left !important; }\n",
       "      tbody.tdhistory510003 tr:nth-child(even) { background: rgba(243, 243, 243, 0.75) !important; }\n",
       "      tbody.tdhistory510003 tr:nth-child(odd) { background: var(--jp-ui-inverse-font-color1) !important; }\n",
       "      td.tdhistory510003 { border: 1px solid rgb(207, 207, 207) !important; border-collapse: collapse !important; ; padding: 2px 5px !important; ; font-size: 13px !important; ; text-align: left !important;          white-space: nowrap !important; overflow:hidden !important; text-overflow:ellipsis !important;; }\n",
       "    </style><thead><tr style= \"background: rgba(243, 243, 243, 0.75)\"><th class=\"tdhistory510003\"></th><th class=\"tdhistory510003\">Message</th></tr></thead><tbody class=\"tdhistory510003 resultset-body\"><tr><th class=\"tdhistory510003\" style= \"background: rgba(243, 243, 243, 0.75)\">1</th><td class=\"tdhistory510003\">That ran for   0:00:50.81 with 15 statements and 0 errors. </td></tr></tbody></table></div>"
      ]
     },
     "execution_count": 3,
     "metadata": {
      "application/vnd.teradata.resultset": "{\"resultSetID\":\"/home/jovyan/JupyterLabRoot/Teradata/Resultsets/2023.12.21_08.09.34.444_UTC\",\"historyID\":250,\"chunkID\":\"00001\",\"sessionid\":\"\",\"portnum\":\"\",\"dockermode\":\"docker\",\"totalRowCount\":1,\"chunkCount\":0,\"rowLimit\":0,\"columnMetadata\":[{\"columnName\":\"Message\",\"columnTypeName\":\"VARCHAR\",\"length\":150,\"scale\":150}]}"
     },
     "output_type": "execute_result"
    }
   ],
   "source": [
    "-- call get_data('DEMO_NYCTaxi_cloud');    -- Takes about 2 minutes\n",
    "call get_data('DEMO_NYCTaxi_local');     -- Takes about 3 minutes"
   ]
  },
  {
   "cell_type": "markdown",
   "metadata": {},
   "source": [
    "<p style = 'font-size:16px;font-family:Arial;color:#00233C'>Optional step – if you want to see status of databases/tables created and space used.</p>\n"
   ]
  },
  {
   "cell_type": "code",
   "execution_count": 4,
   "metadata": {},
   "outputs": [
    {
     "data": {
      "text/plain": [
       "Success: 0 rows affected"
      ]
     },
     "execution_count": 4,
     "metadata": {
      "application/vnd.teradata.resultset": ""
     },
     "output_type": "execute_result"
    },
    {
     "data": {
      "text/plain": [
       "Success: 0 rows affected"
      ]
     },
     "execution_count": 4,
     "metadata": {
      "application/vnd.teradata.resultset": ""
     },
     "output_type": "execute_result"
    },
    {
     "data": {
      "application/vnd.teradata.resultset": "\"Space_Report\"\n\"You have:  #databases=2 #tables=2 #views=10  You have used 69.7 MB of 27,890.4 MB available - 0.2%  ... Space Usage OK\"\n\" \"\n\"   Database Name                  #tables  #views     Avail MB      Used MB\"\n\"   demo_user                            0       8  27,788.9 MB       0.7 MB \"\n\"   DEMO_NYCTaxi                         0       2       0.0 MB       0.0 MB \"\n\"   DEMO_NYCTaxi_db                      2       0     101.4 MB      68.9 MB \"",
      "text/html": [
       "<div class = \"td-resultset-table-div\" style = \"max-height: 100%; overflow-y: auto\">\n",
       "      <table class=\"tdhistory475931\"><style>\n",
       "      table.tdhistory475931 { display: block !important; min-height: 210px !important; overflow: auto !important; height: 210px !important; width: 100% !important; border: 1px solid rgb(207, 207, 207) !important; border-collapse: collapse !important; ; color: var(--jp-ui-font-color1) !important; }\n",
       "      th.tdhistory475931 { border: 1px solid rgb(198,198,198) !important; border-collapse: collapse !important; ; padding: 2px 5px !important; ; font-size: 13px !important; ; text-align: center !important; white-space: normal !important; color: var(--jp-ui-font-color1) !important; }\n",
       "      th.tdhistory475931:last-child { text-align: left !important; }\n",
       "      tbody.tdhistory475931 tr:nth-child(even) { background: rgba(243, 243, 243, 0.75) !important; }\n",
       "      tbody.tdhistory475931 tr:nth-child(odd) { background: var(--jp-ui-inverse-font-color1) !important; }\n",
       "      td.tdhistory475931 { border: 1px solid rgb(207, 207, 207) !important; border-collapse: collapse !important; ; padding: 2px 5px !important; ; font-size: 13px !important; ; text-align: left !important;          white-space: nowrap !important; overflow:hidden !important; text-overflow:ellipsis !important;; }\n",
       "    </style><thead><tr style= \"background: rgba(243, 243, 243, 0.75)\"><th class=\"tdhistory475931\"></th><th class=\"tdhistory475931\">Space_Report</th></tr></thead><tbody class=\"tdhistory475931 resultset-body\"><tr><th class=\"tdhistory475931\" style= \"background: rgba(243, 243, 243, 0.75)\">1</th><td class=\"tdhistory475931\">You have:  #databases=2 #tables=2 #views=10  You have used 69.7 MB of 27,890.4 MB available - 0.2%  ... Space Usage OK</td></tr><tr><th class=\"tdhistory475931\" style= \"background: rgba(243, 243, 243, 0.75)\">2</th><td class=\"tdhistory475931\"> </td></tr><tr><th class=\"tdhistory475931\" style= \"background: rgba(243, 243, 243, 0.75)\">3</th><td class=\"tdhistory475931\">   Database Name                  #tables  #views     Avail MB      Used MB</td></tr><tr><th class=\"tdhistory475931\" style= \"background: rgba(243, 243, 243, 0.75)\">4</th><td class=\"tdhistory475931\">   demo_user                            0       8  27,788.9 MB       0.7 MB </td></tr><tr><th class=\"tdhistory475931\" style= \"background: rgba(243, 243, 243, 0.75)\">5</th><td class=\"tdhistory475931\">   DEMO_NYCTaxi                         0       2       0.0 MB       0.0 MB </td></tr><tr><th class=\"tdhistory475931\" style= \"background: rgba(243, 243, 243, 0.75)\">6</th><td class=\"tdhistory475931\">   DEMO_NYCTaxi_db                      2       0     101.4 MB      68.9 MB </td></tr></tbody></table></div>"
      ]
     },
     "execution_count": 4,
     "metadata": {
      "application/vnd.teradata.resultset": "{\"resultSetID\":\"/home/jovyan/JupyterLabRoot/Teradata/Resultsets/2023.12.21_08.09.36.429_UTC\",\"historyID\":251,\"chunkID\":\"00001\",\"sessionid\":\"\",\"portnum\":\"\",\"dockermode\":\"docker\",\"totalRowCount\":6,\"chunkCount\":0,\"rowLimit\":0,\"columnMetadata\":[{\"columnName\":\"Space_Report\",\"columnTypeName\":\"VARCHAR\",\"length\":150,\"scale\":150}]}"
     },
     "output_type": "execute_result"
    }
   ],
   "source": [
    "call space_report();  -- optional, takes about 10 seconds"
   ]
  },
  {
   "cell_type": "markdown",
   "metadata": {},
   "source": [
    "<hr style=\"height:2px;border:none;background-color:#00233C;\">\n",
    "<p style = 'font-size:20px;font-family:Arial;color:#00233C'><b>2. Statistical Analysis</b></p>\n",
    "<ol style = 'font-size:16px;font-family:Arial;color:#00233C'>\n",
    "    <li>Inspect the data</li>\n",
    "    <li>Call TD_UnivariateStatistics function to gather statistics</li>\n",
    "    <li>Pivot and select outlier stats</li>\n",
    "    </ol>"
   ]
  },
  {
   "cell_type": "markdown",
   "metadata": {},
   "source": [
    "<hr style=\"height:1px;border:none;background-color:#00233C;\">\n",
    "<p style = 'font-size:18px;font-family:Arial;color:#00233C'><b>2.1 Inspect the Data</b></p>\n",
    "<p style = 'font-size:16px;font-family:Arial;color:#00233C'>As a warm-up, let us look at the tables in our database DEMO_NYCTaxi.</p>       "
   ]
  },
  {
   "cell_type": "code",
   "execution_count": 5,
   "metadata": {},
   "outputs": [
    {
     "data": {
      "application/vnd.teradata.resultset": "\"DatabaseName\",\"TableName\"\n\"DEMO_NYCTaxi                                                \",\"Trip                                                        \"\n\"DEMO_NYCTaxi                                                \",\"Trip_Fare                                                   \"",
      "text/html": [
       "<div class = \"td-resultset-table-div\" style = \"max-height: 100%; overflow-y: auto\">\n",
       "      <table class=\"tdhistory306712\"><style>\n",
       "      table.tdhistory306712 { display: block !important; min-height: 126px !important; overflow: auto !important; height: 126px !important; width: 100% !important; border: 1px solid rgb(207, 207, 207) !important; border-collapse: collapse !important; ; color: var(--jp-ui-font-color1) !important; }\n",
       "      th.tdhistory306712 { border: 1px solid rgb(198,198,198) !important; border-collapse: collapse !important; ; padding: 2px 5px !important; ; font-size: 13px !important; ; text-align: center !important; white-space: normal !important; color: var(--jp-ui-font-color1) !important; }\n",
       "      th.tdhistory306712:last-child { text-align: left !important; }\n",
       "      tbody.tdhistory306712 tr:nth-child(even) { background: rgba(243, 243, 243, 0.75) !important; }\n",
       "      tbody.tdhistory306712 tr:nth-child(odd) { background: var(--jp-ui-inverse-font-color1) !important; }\n",
       "      td.tdhistory306712 { border: 1px solid rgb(207, 207, 207) !important; border-collapse: collapse !important; ; padding: 2px 5px !important; ; font-size: 13px !important; ; text-align: left !important;          white-space: nowrap !important; overflow:hidden !important; text-overflow:ellipsis !important;; }\n",
       "    </style><thead><tr style= \"background: rgba(243, 243, 243, 0.75)\"><th class=\"tdhistory306712\"></th><th class=\"tdhistory306712\">DatabaseName</th><th class=\"tdhistory306712\">TableName</th></tr></thead><tbody class=\"tdhistory306712 resultset-body\"><tr><th class=\"tdhistory306712\" style= \"background: rgba(243, 243, 243, 0.75)\">1</th><td class=\"tdhistory306712\">DEMO_NYCTaxi                                                </td><td class=\"tdhistory306712\">Trip                                                        </td></tr><tr><th class=\"tdhistory306712\" style= \"background: rgba(243, 243, 243, 0.75)\">2</th><td class=\"tdhistory306712\">DEMO_NYCTaxi                                                </td><td class=\"tdhistory306712\">Trip_Fare                                                   </td></tr></tbody></table></div>"
      ]
     },
     "execution_count": 5,
     "metadata": {
      "application/vnd.teradata.resultset": "{\"resultSetID\":\"/home/jovyan/JupyterLabRoot/Teradata/Resultsets/2023.12.21_08.09.36.568_UTC\",\"historyID\":252,\"chunkID\":\"00001\",\"sessionid\":\"\",\"portnum\":\"\",\"dockermode\":\"docker\",\"totalRowCount\":2,\"chunkCount\":0,\"rowLimit\":0,\"columnMetadata\":[{\"columnName\":\"DatabaseName\",\"columnTypeName\":\"CHAR\",\"length\":30,\"scale\":30},{\"columnNumber\":1,\"columnName\":\"TableName\",\"columnTypeName\":\"CHAR\",\"length\":30,\"scale\":30}]}"
     },
     "output_type": "execute_result"
    }
   ],
   "source": [
    "SELECT \n",
    "    DatabaseName,\n",
    "    TableName\n",
    "FROM\n",
    "    DBC.Tables\n",
    "WHERE\n",
    "    DatabaseName = 'DEMO_NYCTaxi'"
   ]
  },
  {
   "cell_type": "markdown",
   "metadata": {},
   "source": [
    "<p style = 'font-size:16px;font-family:Arial;color:#00233C'>The query below shows the number of rows in each of the tables in the database.</p>"
   ]
  },
  {
   "cell_type": "code",
   "execution_count": 6,
   "metadata": {},
   "outputs": [
    {
     "data": {
      "application/vnd.teradata.resultset": "\"trip\",\"trip_fare\"\n\"480535\",\"473151\"",
      "text/html": [
       "<div class = \"td-resultset-table-div\" style = \"max-height: 100%; overflow-y: auto\">\n",
       "      <table class=\"tdhistory115246\"><style>\n",
       "      table.tdhistory115246 { display: block !important; min-height: 105px !important; overflow: auto !important; height: 105px !important; width: 100% !important; border: 1px solid rgb(207, 207, 207) !important; border-collapse: collapse !important; ; color: var(--jp-ui-font-color1) !important; }\n",
       "      th.tdhistory115246 { border: 1px solid rgb(198,198,198) !important; border-collapse: collapse !important; ; padding: 2px 5px !important; ; font-size: 13px !important; ; text-align: center !important; white-space: normal !important; color: var(--jp-ui-font-color1) !important; }\n",
       "      th.tdhistory115246:last-child { text-align: left !important; }\n",
       "      tbody.tdhistory115246 tr:nth-child(even) { background: rgba(243, 243, 243, 0.75) !important; }\n",
       "      tbody.tdhistory115246 tr:nth-child(odd) { background: var(--jp-ui-inverse-font-color1) !important; }\n",
       "      td.tdhistory115246 { border: 1px solid rgb(207, 207, 207) !important; border-collapse: collapse !important; ; padding: 2px 5px !important; ; font-size: 13px !important; ; text-align: left !important;          white-space: nowrap !important; overflow:hidden !important; text-overflow:ellipsis !important;; }\n",
       "    </style><thead><tr style= \"background: rgba(243, 243, 243, 0.75)\"><th class=\"tdhistory115246\"></th><th class=\"tdhistory115246\">trip</th><th class=\"tdhistory115246\">trip_fare</th></tr></thead><tbody class=\"tdhistory115246 resultset-body\"><tr><th class=\"tdhistory115246\" style= \"background: rgba(243, 243, 243, 0.75)\">1</th><td class=\"tdhistory115246\">480535</td><td class=\"tdhistory115246\">473151</td></tr></tbody></table></div>"
      ]
     },
     "execution_count": 6,
     "metadata": {
      "application/vnd.teradata.resultset": "{\"resultSetID\":\"/home/jovyan/JupyterLabRoot/Teradata/Resultsets/2023.12.21_08.09.36.709_UTC\",\"historyID\":253,\"chunkID\":\"00001\",\"sessionid\":\"\",\"portnum\":\"\",\"dockermode\":\"docker\",\"totalRowCount\":1,\"chunkCount\":0,\"rowLimit\":0,\"columnMetadata\":[{\"columnName\":\"trip\",\"columnTypeName\":\"INTEGER\"},{\"columnNumber\":1,\"columnName\":\"trip_fare\",\"columnTypeName\":\"INTEGER\"}]}"
     },
     "output_type": "execute_result"
    }
   ],
   "source": [
    "SELECT\n",
    "(\n",
    "    SELECT COUNT(*)\n",
    "    FROM DEMO_NYCTaxi.trip\n",
    ") AS trip,\n",
    "(\n",
    "    SELECT COUNT(*)\n",
    "    FROM DEMO_NYCTaxi.trip_fare\n",
    ") AS trip_fare;"
   ]
  },
  {
   "cell_type": "markdown",
   "metadata": {},
   "source": [
    "<p style = 'font-size:16px;font-family:Arial;color:#00233C'>Let's look at the sample data from trip and trip_fare tables.</p>"
   ]
  },
  {
   "cell_type": "code",
   "execution_count": 7,
   "metadata": {},
   "outputs": [
    {
     "data": {
      "application/vnd.teradata.resultset": "\"medallion\",\"hack_license\",\"vendor_id\",\"rate_code\",\"store_and_fwd_flag\",\"pickup_datetime\",\"dropoff_datetime\",\"passenger_count\",\"trip_time_in_secs\",\"trip_distance\",\"pickup_longitude\",\"pickup_latitude\",\"dropoff_longitude\",\"dropoff_latitude\"\n\"AAC26FD8FF0C03D8D1CC093A39489BE2\",\"CA0D6019D8C38B1BCE8589772A86335D\",\"VTS\",\"1\",\"\",\"2013-11-10 05:37:00.000000\",\"2013-11-10 05:49:00.000000\",\"1\",\"720\",\"3.43\",\"-73.985771\",\"40.74509\",\"-73.952705\",\"40.780869\"\n\"AAC26FD8FF0C03D8D1CC093A39489BE2\",\"CA0D6019D8C38B1BCE8589772A86335D\",\"VTS\",\"1\",\"\",\"2013-11-10 16:35:00.000000\",\"2013-11-10 16:38:00.000000\",\"1\",\"180\",\"0.4\",\"-73.951942\",\"40.777626\",\"-73.955811\",\"40.772453\"\n\"AAC26FD8FF0C03D8D1CC093A39489BE2\",\"CA0D6019D8C38B1BCE8589772A86335D\",\"VTS\",\"1\",\"\",\"2013-11-10 05:27:00.000000\",\"2013-11-10 05:32:00.000000\",\"1\",\"300\",\"1.28\",\"-73.976105\",\"40.762276\",\"-73.989922\",\"40.751102\"\n\"AAC26FD8FF0C03D8D1CC093A39489BE2\",\"CA0D6019D8C38B1BCE8589772A86335D\",\"VTS\",\"1\",\"\",\"2013-11-10 08:11:00.000000\",\"2013-11-10 08:12:00.000000\",\"1\",\"60\",\"0.73\",\"-74.008522\",\"40.720413\",\"-74.00589\",\"40.729416\"\n\"AAC26FD8FF0C03D8D1CC093A39489BE2\",\"CA0D6019D8C38B1BCE8589772A86335D\",\"VTS\",\"1\",\"\",\"2013-11-10 09:10:00.000000\",\"2013-11-10 09:34:00.000000\",\"1\",\"1440\",\"1.76\",\"-73.971504\",\"40.755905\",\"-73.991562\",\"40.749111\"",
      "text/html": [
       "<div class = \"td-resultset-table-div\" style = \"max-height: 100%; overflow-y: auto\">\n",
       "      <table class=\"tdhistory429551\"><style>\n",
       "      table.tdhistory429551 { display: block !important; min-height: 189px !important; overflow: auto !important; height: 189px !important; width: 100% !important; border: 1px solid rgb(207, 207, 207) !important; border-collapse: collapse !important; ; color: var(--jp-ui-font-color1) !important; }\n",
       "      th.tdhistory429551 { border: 1px solid rgb(198,198,198) !important; border-collapse: collapse !important; ; padding: 2px 5px !important; ; font-size: 13px !important; ; text-align: center !important; white-space: normal !important; color: var(--jp-ui-font-color1) !important; }\n",
       "      th.tdhistory429551:last-child { text-align: left !important; }\n",
       "      tbody.tdhistory429551 tr:nth-child(even) { background: rgba(243, 243, 243, 0.75) !important; }\n",
       "      tbody.tdhistory429551 tr:nth-child(odd) { background: var(--jp-ui-inverse-font-color1) !important; }\n",
       "      td.tdhistory429551 { border: 1px solid rgb(207, 207, 207) !important; border-collapse: collapse !important; ; padding: 2px 5px !important; ; font-size: 13px !important; ; text-align: left !important;          white-space: nowrap !important; overflow:hidden !important; text-overflow:ellipsis !important;; }\n",
       "    </style><thead><tr style= \"background: rgba(243, 243, 243, 0.75)\"><th class=\"tdhistory429551\"></th><th class=\"tdhistory429551\">medallion</th><th class=\"tdhistory429551\">hack_license</th><th class=\"tdhistory429551\">vendor_id</th><th class=\"tdhistory429551\">rate_code</th><th class=\"tdhistory429551\">store_and_fwd_flag</th><th class=\"tdhistory429551\">pickup_datetime</th><th class=\"tdhistory429551\">dropoff_datetime</th><th class=\"tdhistory429551\">passenger_count</th><th class=\"tdhistory429551\">trip_time_in_secs</th><th class=\"tdhistory429551\">trip_distance</th><th class=\"tdhistory429551\">pickup_longitude</th><th class=\"tdhistory429551\">pickup_latitude</th><th class=\"tdhistory429551\">dropoff_longitude</th><th class=\"tdhistory429551\">dropoff_latitude</th></tr></thead><tbody class=\"tdhistory429551 resultset-body\"><tr><th class=\"tdhistory429551\" style= \"background: rgba(243, 243, 243, 0.75)\">1</th><td class=\"tdhistory429551\">AAC26FD8FF0C03D8D1CC093A39489BE2</td><td class=\"tdhistory429551\">CA0D6019D8C38B1BCE8589772A86335D</td><td class=\"tdhistory429551\">VTS</td><td class=\"tdhistory429551\">1</td><td class=\"tdhistory429551\"></td><td class=\"tdhistory429551\">2013-11-10 05:37:00.000000</td><td class=\"tdhistory429551\">2013-11-10 05:49:00.000000</td><td class=\"tdhistory429551\">1</td><td class=\"tdhistory429551\">720</td><td class=\"tdhistory429551\">3.43</td><td class=\"tdhistory429551\">-73.985771</td><td class=\"tdhistory429551\">40.74509</td><td class=\"tdhistory429551\">-73.952705</td><td class=\"tdhistory429551\">40.780869</td></tr><tr><th class=\"tdhistory429551\" style= \"background: rgba(243, 243, 243, 0.75)\">2</th><td class=\"tdhistory429551\">AAC26FD8FF0C03D8D1CC093A39489BE2</td><td class=\"tdhistory429551\">CA0D6019D8C38B1BCE8589772A86335D</td><td class=\"tdhistory429551\">VTS</td><td class=\"tdhistory429551\">1</td><td class=\"tdhistory429551\"></td><td class=\"tdhistory429551\">2013-11-10 16:35:00.000000</td><td class=\"tdhistory429551\">2013-11-10 16:38:00.000000</td><td class=\"tdhistory429551\">1</td><td class=\"tdhistory429551\">180</td><td class=\"tdhistory429551\">0.4</td><td class=\"tdhistory429551\">-73.951942</td><td class=\"tdhistory429551\">40.777626</td><td class=\"tdhistory429551\">-73.955811</td><td class=\"tdhistory429551\">40.772453</td></tr><tr><th class=\"tdhistory429551\" style= \"background: rgba(243, 243, 243, 0.75)\">3</th><td class=\"tdhistory429551\">AAC26FD8FF0C03D8D1CC093A39489BE2</td><td class=\"tdhistory429551\">CA0D6019D8C38B1BCE8589772A86335D</td><td class=\"tdhistory429551\">VTS</td><td class=\"tdhistory429551\">1</td><td class=\"tdhistory429551\"></td><td class=\"tdhistory429551\">2013-11-10 05:27:00.000000</td><td class=\"tdhistory429551\">2013-11-10 05:32:00.000000</td><td class=\"tdhistory429551\">1</td><td class=\"tdhistory429551\">300</td><td class=\"tdhistory429551\">1.28</td><td class=\"tdhistory429551\">-73.976105</td><td class=\"tdhistory429551\">40.762276</td><td class=\"tdhistory429551\">-73.989922</td><td class=\"tdhistory429551\">40.751102</td></tr><tr><th class=\"tdhistory429551\" style= \"background: rgba(243, 243, 243, 0.75)\">4</th><td class=\"tdhistory429551\">AAC26FD8FF0C03D8D1CC093A39489BE2</td><td class=\"tdhistory429551\">CA0D6019D8C38B1BCE8589772A86335D</td><td class=\"tdhistory429551\">VTS</td><td class=\"tdhistory429551\">1</td><td class=\"tdhistory429551\"></td><td class=\"tdhistory429551\">2013-11-10 08:11:00.000000</td><td class=\"tdhistory429551\">2013-11-10 08:12:00.000000</td><td class=\"tdhistory429551\">1</td><td class=\"tdhistory429551\">60</td><td class=\"tdhistory429551\">0.73</td><td class=\"tdhistory429551\">-74.008522</td><td class=\"tdhistory429551\">40.720413</td><td class=\"tdhistory429551\">-74.00589</td><td class=\"tdhistory429551\">40.729416</td></tr><tr><th class=\"tdhistory429551\" style= \"background: rgba(243, 243, 243, 0.75)\">5</th><td class=\"tdhistory429551\">AAC26FD8FF0C03D8D1CC093A39489BE2</td><td class=\"tdhistory429551\">CA0D6019D8C38B1BCE8589772A86335D</td><td class=\"tdhistory429551\">VTS</td><td class=\"tdhistory429551\">1</td><td class=\"tdhistory429551\"></td><td class=\"tdhistory429551\">2013-11-10 09:10:00.000000</td><td class=\"tdhistory429551\">2013-11-10 09:34:00.000000</td><td class=\"tdhistory429551\">1</td><td class=\"tdhistory429551\">1440</td><td class=\"tdhistory429551\">1.76</td><td class=\"tdhistory429551\">-73.971504</td><td class=\"tdhistory429551\">40.755905</td><td class=\"tdhistory429551\">-73.991562</td><td class=\"tdhistory429551\">40.749111</td></tr></tbody></table></div>"
      ]
     },
     "execution_count": 7,
     "metadata": {
      "application/vnd.teradata.resultset": "{\"resultSetID\":\"/home/jovyan/JupyterLabRoot/Teradata/Resultsets/2023.12.21_08.09.36.809_UTC\",\"historyID\":254,\"chunkID\":\"00001\",\"sessionid\":\"\",\"portnum\":\"\",\"dockermode\":\"docker\",\"totalRowCount\":5,\"chunkCount\":0,\"rowLimit\":0,\"columnMetadata\":[{\"columnName\":\"medallion\",\"columnTypeName\":\"VARCHAR\",\"length\":50,\"scale\":50},{\"columnNumber\":1,\"columnName\":\"hack_license\",\"columnTypeName\":\"VARCHAR\",\"length\":50,\"scale\":50},{\"columnNumber\":2,\"columnName\":\"vendor_id\",\"columnTypeName\":\"VARCHAR\",\"length\":10,\"scale\":10},{\"columnNumber\":3,\"columnName\":\"rate_code\",\"columnTypeName\":\"INTEGER\"},{\"columnNumber\":4,\"columnName\":\"store_and_fwd_flag\",\"columnTypeName\":\"CHAR\",\"length\":1,\"scale\":1},{\"columnNumber\":5,\"columnName\":\"pickup_datetime\",\"columnTypeName\":\"TIMESTAMP\",\"length\":6,\"scale\":6},{\"columnNumber\":6,\"columnName\":\"dropoff_datetime\",\"columnTypeName\":\"TIMESTAMP\",\"length\":6,\"scale\":6},{\"columnNumber\":7,\"columnName\":\"passenger_count\",\"columnTypeName\":\"SMALLINT\"},{\"columnNumber\":8,\"columnName\":\"trip_time_in_secs\",\"columnTypeName\":\"INTEGER\"},{\"columnNumber\":9,\"columnName\":\"trip_distance\",\"columnTypeName\":\"FLOAT\"},{\"columnNumber\":10,\"columnName\":\"pickup_longitude\",\"columnTypeName\":\"FLOAT\"},{\"columnNumber\":11,\"columnName\":\"pickup_latitude\",\"columnTypeName\":\"FLOAT\"},{\"columnNumber\":12,\"columnName\":\"dropoff_longitude\",\"columnTypeName\":\"FLOAT\"},{\"columnNumber\":13,\"columnName\":\"dropoff_latitude\",\"columnTypeName\":\"FLOAT\"}]}"
     },
     "output_type": "execute_result"
    }
   ],
   "source": [
    "SELECT TOP 5 * FROM DEMO_NYCTaxi.trip;"
   ]
  },
  {
   "cell_type": "code",
   "execution_count": 8,
   "metadata": {},
   "outputs": [
    {
     "data": {
      "application/vnd.teradata.resultset": "\"medallion\",\"hack_license\",\"vendor_id\",\"pickup_datetime\",\"payment_type\",\"fare_amount\",\"surcharge\",\"mta_tax\",\"tip_amount\",\"tolls_amount\",\"total_amount\"\n\"D9B9634B4EB6F365E7EA4B6F6C80FE39\",\"4B4287DDB52E0954516F5A1FD9CCBF36\",\"CMT\",\"2013-11-10 11:08:52.000000\",\"CRD\",\"27\",\"0\",\"0.5\",\"8.2\",\"5.33\",\"41.03\"\n\"D9B9634B4EB6F365E7EA4B6F6C80FE39\",\"ED5FDDFAE5077BBCF0E24CB2080BF6F0\",\"CMT\",\"2013-11-09 22:26:52.000000\",\"CSH\",\"12\",\"0.5\",\"0.5\",\"0\",\"0\",\"13\"\n\"D9B9634B4EB6F365E7EA4B6F6C80FE39\",\"ED5FDDFAE5077BBCF0E24CB2080BF6F0\",\"CMT\",\"2013-11-10 17:06:01.000000\",\"CSH\",\"14\",\"0.5\",\"0.5\",\"0\",\"0\",\"15\"\n\"D9B9634B4EB6F365E7EA4B6F6C80FE39\",\"ED5FDDFAE5077BBCF0E24CB2080BF6F0\",\"CMT\",\"2013-11-09 20:50:08.000000\",\"CRD\",\"16\",\"0.5\",\"0.5\",\"3.4\",\"0\",\"20.4\"\n\"D9B9634B4EB6F365E7EA4B6F6C80FE39\",\"4B4287DDB52E0954516F5A1FD9CCBF36\",\"CMT\",\"2013-11-10 10:05:44.000000\",\"CRD\",\"14.5\",\"0\",\"0.5\",\"1\",\"0\",\"16\"",
      "text/html": [
       "<div class = \"td-resultset-table-div\" style = \"max-height: 100%; overflow-y: auto\">\n",
       "      <table class=\"tdhistory261567\"><style>\n",
       "      table.tdhistory261567 { display: block !important; min-height: 189px !important; overflow: auto !important; height: 189px !important; width: 100% !important; border: 1px solid rgb(207, 207, 207) !important; border-collapse: collapse !important; ; color: var(--jp-ui-font-color1) !important; }\n",
       "      th.tdhistory261567 { border: 1px solid rgb(198,198,198) !important; border-collapse: collapse !important; ; padding: 2px 5px !important; ; font-size: 13px !important; ; text-align: center !important; white-space: normal !important; color: var(--jp-ui-font-color1) !important; }\n",
       "      th.tdhistory261567:last-child { text-align: left !important; }\n",
       "      tbody.tdhistory261567 tr:nth-child(even) { background: rgba(243, 243, 243, 0.75) !important; }\n",
       "      tbody.tdhistory261567 tr:nth-child(odd) { background: var(--jp-ui-inverse-font-color1) !important; }\n",
       "      td.tdhistory261567 { border: 1px solid rgb(207, 207, 207) !important; border-collapse: collapse !important; ; padding: 2px 5px !important; ; font-size: 13px !important; ; text-align: left !important;          white-space: nowrap !important; overflow:hidden !important; text-overflow:ellipsis !important;; }\n",
       "    </style><thead><tr style= \"background: rgba(243, 243, 243, 0.75)\"><th class=\"tdhistory261567\"></th><th class=\"tdhistory261567\">medallion</th><th class=\"tdhistory261567\">hack_license</th><th class=\"tdhistory261567\">vendor_id</th><th class=\"tdhistory261567\">pickup_datetime</th><th class=\"tdhistory261567\">payment_type</th><th class=\"tdhistory261567\">fare_amount</th><th class=\"tdhistory261567\">surcharge</th><th class=\"tdhistory261567\">mta_tax</th><th class=\"tdhistory261567\">tip_amount</th><th class=\"tdhistory261567\">tolls_amount</th><th class=\"tdhistory261567\">total_amount</th></tr></thead><tbody class=\"tdhistory261567 resultset-body\"><tr><th class=\"tdhistory261567\" style= \"background: rgba(243, 243, 243, 0.75)\">1</th><td class=\"tdhistory261567\">D9B9634B4EB6F365E7EA4B6F6C80FE39</td><td class=\"tdhistory261567\">4B4287DDB52E0954516F5A1FD9CCBF36</td><td class=\"tdhistory261567\">CMT</td><td class=\"tdhistory261567\">2013-11-10 11:08:52.000000</td><td class=\"tdhistory261567\">CRD</td><td class=\"tdhistory261567\">27</td><td class=\"tdhistory261567\">0</td><td class=\"tdhistory261567\">0.5</td><td class=\"tdhistory261567\">8.2</td><td class=\"tdhistory261567\">5.33</td><td class=\"tdhistory261567\">41.03</td></tr><tr><th class=\"tdhistory261567\" style= \"background: rgba(243, 243, 243, 0.75)\">2</th><td class=\"tdhistory261567\">D9B9634B4EB6F365E7EA4B6F6C80FE39</td><td class=\"tdhistory261567\">ED5FDDFAE5077BBCF0E24CB2080BF6F0</td><td class=\"tdhistory261567\">CMT</td><td class=\"tdhistory261567\">2013-11-09 22:26:52.000000</td><td class=\"tdhistory261567\">CSH</td><td class=\"tdhistory261567\">12</td><td class=\"tdhistory261567\">0.5</td><td class=\"tdhistory261567\">0.5</td><td class=\"tdhistory261567\">0</td><td class=\"tdhistory261567\">0</td><td class=\"tdhistory261567\">13</td></tr><tr><th class=\"tdhistory261567\" style= \"background: rgba(243, 243, 243, 0.75)\">3</th><td class=\"tdhistory261567\">D9B9634B4EB6F365E7EA4B6F6C80FE39</td><td class=\"tdhistory261567\">ED5FDDFAE5077BBCF0E24CB2080BF6F0</td><td class=\"tdhistory261567\">CMT</td><td class=\"tdhistory261567\">2013-11-10 17:06:01.000000</td><td class=\"tdhistory261567\">CSH</td><td class=\"tdhistory261567\">14</td><td class=\"tdhistory261567\">0.5</td><td class=\"tdhistory261567\">0.5</td><td class=\"tdhistory261567\">0</td><td class=\"tdhistory261567\">0</td><td class=\"tdhistory261567\">15</td></tr><tr><th class=\"tdhistory261567\" style= \"background: rgba(243, 243, 243, 0.75)\">4</th><td class=\"tdhistory261567\">D9B9634B4EB6F365E7EA4B6F6C80FE39</td><td class=\"tdhistory261567\">ED5FDDFAE5077BBCF0E24CB2080BF6F0</td><td class=\"tdhistory261567\">CMT</td><td class=\"tdhistory261567\">2013-11-09 20:50:08.000000</td><td class=\"tdhistory261567\">CRD</td><td class=\"tdhistory261567\">16</td><td class=\"tdhistory261567\">0.5</td><td class=\"tdhistory261567\">0.5</td><td class=\"tdhistory261567\">3.4</td><td class=\"tdhistory261567\">0</td><td class=\"tdhistory261567\">20.4</td></tr><tr><th class=\"tdhistory261567\" style= \"background: rgba(243, 243, 243, 0.75)\">5</th><td class=\"tdhistory261567\">D9B9634B4EB6F365E7EA4B6F6C80FE39</td><td class=\"tdhistory261567\">4B4287DDB52E0954516F5A1FD9CCBF36</td><td class=\"tdhistory261567\">CMT</td><td class=\"tdhistory261567\">2013-11-10 10:05:44.000000</td><td class=\"tdhistory261567\">CRD</td><td class=\"tdhistory261567\">14.5</td><td class=\"tdhistory261567\">0</td><td class=\"tdhistory261567\">0.5</td><td class=\"tdhistory261567\">1</td><td class=\"tdhistory261567\">0</td><td class=\"tdhistory261567\">16</td></tr></tbody></table></div>"
      ]
     },
     "execution_count": 8,
     "metadata": {
      "application/vnd.teradata.resultset": "{\"resultSetID\":\"/home/jovyan/JupyterLabRoot/Teradata/Resultsets/2023.12.21_08.09.36.899_UTC\",\"historyID\":255,\"chunkID\":\"00001\",\"sessionid\":\"\",\"portnum\":\"\",\"dockermode\":\"docker\",\"totalRowCount\":5,\"chunkCount\":0,\"rowLimit\":0,\"columnMetadata\":[{\"columnName\":\"medallion\",\"columnTypeName\":\"VARCHAR\",\"length\":50,\"scale\":50},{\"columnNumber\":1,\"columnName\":\"hack_license\",\"columnTypeName\":\"VARCHAR\",\"length\":50,\"scale\":50},{\"columnNumber\":2,\"columnName\":\"vendor_id\",\"columnTypeName\":\"VARCHAR\",\"length\":10,\"scale\":10},{\"columnNumber\":3,\"columnName\":\"pickup_datetime\",\"columnTypeName\":\"TIMESTAMP\",\"length\":6,\"scale\":6},{\"columnNumber\":4,\"columnName\":\"payment_type\",\"columnTypeName\":\"VARCHAR\",\"length\":10,\"scale\":10},{\"columnNumber\":5,\"columnName\":\"fare_amount\",\"columnTypeName\":\"FLOAT\"},{\"columnNumber\":6,\"columnName\":\"surcharge\",\"columnTypeName\":\"FLOAT\"},{\"columnNumber\":7,\"columnName\":\"mta_tax\",\"columnTypeName\":\"FLOAT\"},{\"columnNumber\":8,\"columnName\":\"tip_amount\",\"columnTypeName\":\"FLOAT\"},{\"columnNumber\":9,\"columnName\":\"tolls_amount\",\"columnTypeName\":\"FLOAT\"},{\"columnNumber\":10,\"columnName\":\"total_amount\",\"columnTypeName\":\"FLOAT\"}]}"
     },
     "output_type": "execute_result"
    }
   ],
   "source": [
    "SELECT TOP 5 * FROM DEMO_NYCTaxi.trip_fare;"
   ]
  },
  {
   "cell_type": "markdown",
   "metadata": {},
   "source": [
    "<p style = 'font-size:16px;font-family:Arial;color:#00233C'>We are interested in the following columns from the above tables:</p>\n",
    "<ul style = 'font-size:16px;font-family:Arial;color:#00233C'>\n",
    "    <li>pickup_datetime</li>\n",
    "    <li>passenger_count</li>\n",
    "    <li>pickup_latitude</li>\n",
    "    <li>pickup_longitude</li>\n",
    "    <li>dropoff_latitude</li>\n",
    "    <li>dropoff_longitude</li>\n",
    "    <li>total_amount</li>\n",
    "</ul>\n",
    "\n",
    "<p style = 'font-size:16px;font-family:Arial;color:#00233C'>Hence, we create a table with the interested columns as follows:</p>"
   ]
  },
  {
   "cell_type": "code",
   "execution_count": 9,
   "metadata": {},
   "outputs": [
    {
     "data": {
      "text/plain": [
       "Success: 0 rows affected"
      ]
     },
     "execution_count": 9,
     "metadata": {
      "application/vnd.teradata.resultset": ""
     },
     "output_type": "execute_result"
    }
   ],
   "source": [
    "CREATE MULTISET TABLE NYC_FULL_T AS (\n",
    "    SELECT t.pickup_datetime as pickup_datetime,\n",
    "    t.passenger_count as passenger_count,\n",
    "    t.pickup_latitude as pickup_latitude,\n",
    "    t.pickup_longitude as pickup_longitude,\n",
    "    t.dropoff_latitude as dropoff_latitude,\n",
    "    t.dropoff_longitude as dropoff_longitude,\n",
    "    f.total_amount as fare_amount\n",
    "FROM \"DEMO_NYCTaxi\".\"trip\" t\n",
    "LEFT JOIN \"DEMO_NYCTaxi\".\"trip_fare\" f\n",
    "    ON f.medallion = t.medallion\n",
    "    AND f.pickup_datetime = t.pickup_datetime) WITH DATA;"
   ]
  },
  {
   "cell_type": "code",
   "execution_count": 10,
   "metadata": {
    "tags": []
   },
   "outputs": [
    {
     "data": {
      "application/vnd.teradata.resultset": "\"Count(*)\"\n\"480535\"",
      "text/html": [
       "<div class = \"td-resultset-table-div\" style = \"max-height: 100%; overflow-y: auto\">\n",
       "      <table class=\"tdhistory382843\"><style>\n",
       "      table.tdhistory382843 { display: block !important; min-height: 105px !important; overflow: auto !important; height: 105px !important; width: 100% !important; border: 1px solid rgb(207, 207, 207) !important; border-collapse: collapse !important; ; color: var(--jp-ui-font-color1) !important; }\n",
       "      th.tdhistory382843 { border: 1px solid rgb(198,198,198) !important; border-collapse: collapse !important; ; padding: 2px 5px !important; ; font-size: 13px !important; ; text-align: center !important; white-space: normal !important; color: var(--jp-ui-font-color1) !important; }\n",
       "      th.tdhistory382843:last-child { text-align: left !important; }\n",
       "      tbody.tdhistory382843 tr:nth-child(even) { background: rgba(243, 243, 243, 0.75) !important; }\n",
       "      tbody.tdhistory382843 tr:nth-child(odd) { background: var(--jp-ui-inverse-font-color1) !important; }\n",
       "      td.tdhistory382843 { border: 1px solid rgb(207, 207, 207) !important; border-collapse: collapse !important; ; padding: 2px 5px !important; ; font-size: 13px !important; ; text-align: left !important;          white-space: nowrap !important; overflow:hidden !important; text-overflow:ellipsis !important;; }\n",
       "    </style><thead><tr style= \"background: rgba(243, 243, 243, 0.75)\"><th class=\"tdhistory382843\"></th><th class=\"tdhistory382843\">Count(*)</th></tr></thead><tbody class=\"tdhistory382843 resultset-body\"><tr><th class=\"tdhistory382843\" style= \"background: rgba(243, 243, 243, 0.75)\">1</th><td class=\"tdhistory382843\">480535</td></tr></tbody></table></div>"
      ]
     },
     "execution_count": 10,
     "metadata": {
      "application/vnd.teradata.resultset": "{\"resultSetID\":\"/home/jovyan/JupyterLabRoot/Teradata/Resultsets/2023.12.21_08.09.43.464_UTC\",\"historyID\":257,\"chunkID\":\"00001\",\"sessionid\":\"\",\"portnum\":\"\",\"dockermode\":\"docker\",\"totalRowCount\":1,\"chunkCount\":0,\"rowLimit\":0,\"columnMetadata\":[{\"columnName\":\"Count(*)\",\"columnTypeName\":\"INTEGER\"}]}"
     },
     "output_type": "execute_result"
    },
    {
     "data": {
      "application/vnd.teradata.resultset": "\"pickup_datetime\",\"passenger_count\",\"pickup_latitude\",\"pickup_longitude\",\"dropoff_latitude\",\"dropoff_longitude\",\"fare_amount\"\n\"2013-11-10 09:28:27.000000\",\"2\",\"40.720352\",\"-73.989075\",\"40.732456\",\"-73.98761\",\"11.5\"\n\"2013-11-10 00:26:50.000000\",\"1\",\"40.71735\",\"-73.995247\",\"40.774452\",\"-73.872398\",\"36\"\n\"2013-11-10 07:20:35.000000\",\"2\",\"40.75507\",\"-73.941429\",\"40.764729\",\"-73.930771\",\"5\"\n\"2013-11-10 08:22:00.000000\",\"2\",\"40.685856\",\"-73.994217\",\"40.720276\",\"-73.961861\",\"19.8\"\n\"2013-11-09 20:01:00.000000\",\"1\",\"40.752903\",\"-73.989471\",\"40.692158\",\"-73.963951\",\"26.5\"",
      "text/html": [
       "<div class = \"td-resultset-table-div\" style = \"max-height: 100%; overflow-y: auto\">\n",
       "      <table class=\"tdhistory659097\"><style>\n",
       "      table.tdhistory659097 { display: block !important; min-height: 189px !important; overflow: auto !important; height: 189px !important; width: 100% !important; border: 1px solid rgb(207, 207, 207) !important; border-collapse: collapse !important; ; color: var(--jp-ui-font-color1) !important; }\n",
       "      th.tdhistory659097 { border: 1px solid rgb(198,198,198) !important; border-collapse: collapse !important; ; padding: 2px 5px !important; ; font-size: 13px !important; ; text-align: center !important; white-space: normal !important; color: var(--jp-ui-font-color1) !important; }\n",
       "      th.tdhistory659097:last-child { text-align: left !important; }\n",
       "      tbody.tdhistory659097 tr:nth-child(even) { background: rgba(243, 243, 243, 0.75) !important; }\n",
       "      tbody.tdhistory659097 tr:nth-child(odd) { background: var(--jp-ui-inverse-font-color1) !important; }\n",
       "      td.tdhistory659097 { border: 1px solid rgb(207, 207, 207) !important; border-collapse: collapse !important; ; padding: 2px 5px !important; ; font-size: 13px !important; ; text-align: left !important;          white-space: nowrap !important; overflow:hidden !important; text-overflow:ellipsis !important;; }\n",
       "    </style><thead><tr style= \"background: rgba(243, 243, 243, 0.75)\"><th class=\"tdhistory659097\"></th><th class=\"tdhistory659097\">pickup_datetime</th><th class=\"tdhistory659097\">passenger_count</th><th class=\"tdhistory659097\">pickup_latitude</th><th class=\"tdhistory659097\">pickup_longitude</th><th class=\"tdhistory659097\">dropoff_latitude</th><th class=\"tdhistory659097\">dropoff_longitude</th><th class=\"tdhistory659097\">fare_amount</th></tr></thead><tbody class=\"tdhistory659097 resultset-body\"><tr><th class=\"tdhistory659097\" style= \"background: rgba(243, 243, 243, 0.75)\">1</th><td class=\"tdhistory659097\">2013-11-10 09:28:27.000000</td><td class=\"tdhistory659097\">2</td><td class=\"tdhistory659097\">40.720352</td><td class=\"tdhistory659097\">-73.989075</td><td class=\"tdhistory659097\">40.732456</td><td class=\"tdhistory659097\">-73.98761</td><td class=\"tdhistory659097\">11.5</td></tr><tr><th class=\"tdhistory659097\" style= \"background: rgba(243, 243, 243, 0.75)\">2</th><td class=\"tdhistory659097\">2013-11-10 00:26:50.000000</td><td class=\"tdhistory659097\">1</td><td class=\"tdhistory659097\">40.71735</td><td class=\"tdhistory659097\">-73.995247</td><td class=\"tdhistory659097\">40.774452</td><td class=\"tdhistory659097\">-73.872398</td><td class=\"tdhistory659097\">36</td></tr><tr><th class=\"tdhistory659097\" style= \"background: rgba(243, 243, 243, 0.75)\">3</th><td class=\"tdhistory659097\">2013-11-10 07:20:35.000000</td><td class=\"tdhistory659097\">2</td><td class=\"tdhistory659097\">40.75507</td><td class=\"tdhistory659097\">-73.941429</td><td class=\"tdhistory659097\">40.764729</td><td class=\"tdhistory659097\">-73.930771</td><td class=\"tdhistory659097\">5</td></tr><tr><th class=\"tdhistory659097\" style= \"background: rgba(243, 243, 243, 0.75)\">4</th><td class=\"tdhistory659097\">2013-11-10 08:22:00.000000</td><td class=\"tdhistory659097\">2</td><td class=\"tdhistory659097\">40.685856</td><td class=\"tdhistory659097\">-73.994217</td><td class=\"tdhistory659097\">40.720276</td><td class=\"tdhistory659097\">-73.961861</td><td class=\"tdhistory659097\">19.8</td></tr><tr><th class=\"tdhistory659097\" style= \"background: rgba(243, 243, 243, 0.75)\">5</th><td class=\"tdhistory659097\">2013-11-09 20:01:00.000000</td><td class=\"tdhistory659097\">1</td><td class=\"tdhistory659097\">40.752903</td><td class=\"tdhistory659097\">-73.989471</td><td class=\"tdhistory659097\">40.692158</td><td class=\"tdhistory659097\">-73.963951</td><td class=\"tdhistory659097\">26.5</td></tr></tbody></table></div>"
      ]
     },
     "execution_count": 10,
     "metadata": {
      "application/vnd.teradata.resultset": "{\"resultSetID\":\"/home/jovyan/JupyterLabRoot/Teradata/Resultsets/2023.12.21_08.09.43.490_UTC\",\"historyID\":258,\"chunkID\":\"00001\",\"sessionid\":\"\",\"portnum\":\"\",\"dockermode\":\"docker\",\"totalRowCount\":5,\"chunkCount\":0,\"rowLimit\":0,\"columnMetadata\":[{\"columnName\":\"pickup_datetime\",\"columnTypeName\":\"TIMESTAMP\",\"length\":6,\"scale\":6},{\"columnNumber\":1,\"columnName\":\"passenger_count\",\"columnTypeName\":\"SMALLINT\"},{\"columnNumber\":2,\"columnName\":\"pickup_latitude\",\"columnTypeName\":\"FLOAT\"},{\"columnNumber\":3,\"columnName\":\"pickup_longitude\",\"columnTypeName\":\"FLOAT\"},{\"columnNumber\":4,\"columnName\":\"dropoff_latitude\",\"columnTypeName\":\"FLOAT\"},{\"columnNumber\":5,\"columnName\":\"dropoff_longitude\",\"columnTypeName\":\"FLOAT\"},{\"columnNumber\":6,\"columnName\":\"fare_amount\",\"columnTypeName\":\"FLOAT\"}]}"
     },
     "output_type": "execute_result"
    }
   ],
   "source": [
    "SELECT COUNT(*) FROM NYC_FULL_T;\n",
    "SELECT TOP 5 * FROM NYC_FULL_T;"
   ]
  },
  {
   "cell_type": "markdown",
   "metadata": {},
   "source": [
    "<p style = 'font-size:16px;font-family:Arial;color:#00233C'>The above output shows five rows from the view created in the previous step. The view has 480k+ rows.</p>"
   ]
  },
  {
   "cell_type": "markdown",
   "metadata": {},
   "source": [
    "<hr style=\"height:1px;border:none;background-color:#00233C;\">\n",
    "<p style = 'font-size:18px;font-family:Arial;color:#00233C'><b>2.2 Gather statistics using TD_UnivariateStatistics</b></p>\n",
    "\n",
    "<p style = 'font-size:16px;font-family:Arial;color:#00233C'>Univariate analysis is the simplest form of analyzing data. Its significant purpose is to describe; It takes data, summarizes it, and finds patterns in the data.\n",
    "    <br>\n",
    "    <a href = 'https://docs.teradata.com/search/all?query=TD_UnivariateStatistics&content-lang=en-US'>TD_UnivariateStatistics</a> displays descriptive statistics for each specified numeric input table column.\n",
    "</p>\n",
    "\n",
    "<p style = 'font-size:16px;font-family:Arial;color:#00233C'><b><i>*Note that the next cell might take upto 1 minute to run.</i></b></p>"
   ]
  },
  {
   "cell_type": "code",
   "execution_count": 11,
   "metadata": {},
   "outputs": [
    {
     "data": {
      "text/plain": [
       "Success: 0 rows affected"
      ]
     },
     "execution_count": 11,
     "metadata": {
      "application/vnd.teradata.resultset": ""
     },
     "output_type": "execute_result"
    }
   ],
   "source": [
    "CREATE MULTISET TABLE AllStats_unpivoted AS (\n",
    "    SELECT *\n",
    "        FROM TD_UnivariateStatistics (\n",
    "        ON NYC_FULL_T AS InputTable\n",
    "        USING\n",
    "        TargetColumns('fare_amount', 'pickup_longitude', 'pickup_latitude', 'dropoff_longitude', 'dropoff_latitude')\n",
    "        STATS( \n",
    "              'BOTTOM5',\n",
    "              'COEFFICIENT OF VARIATION',\n",
    "              'CORRECTED SUM OF SQUARES',\n",
    "              'MEAN',\n",
    "              'MEDIAN',\n",
    "              'MODE',           \n",
    "              'GEOMETRIC MEAN', \n",
    "              'HARMONIC MEAN', \n",
    "              'TRIMMED MEAN',\n",
    "              'KURTOSIS',\n",
    "              'SKEWNESS',\n",
    "              'STANDARD ERROR',\n",
    "              'STANDARD DEVIATION',\n",
    "              'SUM',\n",
    "              'POSITIVE VALUES COUNT', \n",
    "              'TOP5', \n",
    "              'INTERQUARTILE RANGE',\n",
    "              'NEGATIVE VALUES COUNT',\n",
    "              'NULL COUNT',\n",
    "              'RANGE',\n",
    "              'UNCORRECTED SUM OF SQUARES',\n",
    "              'UNIQUE ENTITY COUNT',\n",
    "              'VARIANCE',\n",
    "              'ZERO VALUES COUNT',\n",
    "              'PERCENTILES',\n",
    "              'MINIMUM',\n",
    "              'MAXIMUM'\n",
    "        )\n",
    "        ) AS dt\n",
    ") WITH DATA;"
   ]
  },
  {
   "cell_type": "code",
   "execution_count": 12,
   "metadata": {},
   "outputs": [
    {
     "data": {
      "application/vnd.teradata.resultset": "\"ATTRIBUTE\",\"StatName\",\"StatValue\"\n\"pickup_latitude\",\"MAXIMUM\",\"46.435387\"\n\"pickup_latitude\",\"UNCORRECTED SUM OF SQUARES\",\"7.866866593494288e+08\"\n\"pickup_latitude\",\"MEAN\",\"40.17603846449969\"\n\"pickup_latitude\",\"MINIMUM\",\"0\"\n\"pickup_latitude\",\"SUM\",\"1.930599264353836e+07\"",
      "text/html": [
       "<div class = \"td-resultset-table-div\" style = \"max-height: 100%; overflow-y: auto\">\n",
       "      <table class=\"tdhistory749658\"><style>\n",
       "      table.tdhistory749658 { display: block !important; min-height: 189px !important; overflow: auto !important; height: 189px !important; width: 100% !important; border: 1px solid rgb(207, 207, 207) !important; border-collapse: collapse !important; ; color: var(--jp-ui-font-color1) !important; }\n",
       "      th.tdhistory749658 { border: 1px solid rgb(198,198,198) !important; border-collapse: collapse !important; ; padding: 2px 5px !important; ; font-size: 13px !important; ; text-align: center !important; white-space: normal !important; color: var(--jp-ui-font-color1) !important; }\n",
       "      th.tdhistory749658:last-child { text-align: left !important; }\n",
       "      tbody.tdhistory749658 tr:nth-child(even) { background: rgba(243, 243, 243, 0.75) !important; }\n",
       "      tbody.tdhistory749658 tr:nth-child(odd) { background: var(--jp-ui-inverse-font-color1) !important; }\n",
       "      td.tdhistory749658 { border: 1px solid rgb(207, 207, 207) !important; border-collapse: collapse !important; ; padding: 2px 5px !important; ; font-size: 13px !important; ; text-align: left !important;          white-space: nowrap !important; overflow:hidden !important; text-overflow:ellipsis !important;; }\n",
       "    </style><thead><tr style= \"background: rgba(243, 243, 243, 0.75)\"><th class=\"tdhistory749658\"></th><th class=\"tdhistory749658\">ATTRIBUTE</th><th class=\"tdhistory749658\">StatName</th><th class=\"tdhistory749658\">StatValue</th></tr></thead><tbody class=\"tdhistory749658 resultset-body\"><tr><th class=\"tdhistory749658\" style= \"background: rgba(243, 243, 243, 0.75)\">1</th><td class=\"tdhistory749658\">pickup_latitude</td><td class=\"tdhistory749658\">MAXIMUM</td><td class=\"tdhistory749658\">46.435387</td></tr><tr><th class=\"tdhistory749658\" style= \"background: rgba(243, 243, 243, 0.75)\">2</th><td class=\"tdhistory749658\">pickup_latitude</td><td class=\"tdhistory749658\">UNCORRECTED SUM OF SQUARES</td><td class=\"tdhistory749658\">7.866866593494288e+08</td></tr><tr><th class=\"tdhistory749658\" style= \"background: rgba(243, 243, 243, 0.75)\">3</th><td class=\"tdhistory749658\">pickup_latitude</td><td class=\"tdhistory749658\">MEAN</td><td class=\"tdhistory749658\">40.17603846449969</td></tr><tr><th class=\"tdhistory749658\" style= \"background: rgba(243, 243, 243, 0.75)\">4</th><td class=\"tdhistory749658\">pickup_latitude</td><td class=\"tdhistory749658\">MINIMUM</td><td class=\"tdhistory749658\">0</td></tr><tr><th class=\"tdhistory749658\" style= \"background: rgba(243, 243, 243, 0.75)\">5</th><td class=\"tdhistory749658\">pickup_latitude</td><td class=\"tdhistory749658\">SUM</td><td class=\"tdhistory749658\">1.930599264353836e+07</td></tr></tbody></table></div>"
      ]
     },
     "execution_count": 12,
     "metadata": {
      "application/vnd.teradata.resultset": "{\"resultSetID\":\"/home/jovyan/JupyterLabRoot/Teradata/Resultsets/2023.12.21_08.10.27.551_UTC\",\"historyID\":260,\"chunkID\":\"00001\",\"sessionid\":\"\",\"portnum\":\"\",\"dockermode\":\"docker\",\"totalRowCount\":5,\"chunkCount\":0,\"rowLimit\":0,\"columnMetadata\":[{\"columnName\":\"ATTRIBUTE\",\"columnTypeName\":\"VARCHAR\",\"length\":128,\"scale\":128},{\"columnNumber\":1,\"columnName\":\"StatName\",\"columnTypeName\":\"VARCHAR\",\"length\":31,\"scale\":31},{\"columnNumber\":2,\"columnName\":\"StatValue\",\"columnTypeName\":\"FLOAT\"}]}"
     },
     "output_type": "execute_result"
    }
   ],
   "source": [
    "SELECT TOP 5 * FROM AllStats_unpivoted;"
   ]
  },
  {
   "cell_type": "markdown",
   "metadata": {},
   "source": [
    "<hr style=\"height:1px;border:none;background-color:#00233C;\">\n",
    "<p style = 'font-size:18px;font-family:Arial;color:#00233C'><b>2.3 Pivot for easier analysis</b></p>\n",
    "<p style = 'font-size:16px;font-family:Arial;color:#00233C'><a href='https://docs.teradata.com/search/all?query=PIVOT&content-lang=en-US'>PIVOT</a> is a relational operator for transforming rows into columns. The function is helpful for reporting purposes, allowing you to aggregate and rotate data to create easy-to-read tables.</p>"
   ]
  },
  {
   "cell_type": "code",
   "execution_count": 13,
   "metadata": {},
   "outputs": [
    {
     "data": {
      "text/plain": [
       "Success: 0 rows affected"
      ]
     },
     "execution_count": 13,
     "metadata": {
      "application/vnd.teradata.resultset": ""
     },
     "output_type": "execute_result"
    }
   ],
   "source": [
    "REPLACE VIEW AllStats_pivoted AS\n",
    "    SELECT *\n",
    "        FROM AllStats_unpivoted\n",
    "        PIVOT (\n",
    "            MAX(StatValue) FOR  ATTRIBUTE IN ('fare_amount', \n",
    "                                                 'pickup_longitude',  \n",
    "                                                 'pickup_latitude',\n",
    "                                                 'dropoff_longitude',\n",
    "                                                 'dropoff_latitude')\n",
    "        ) tmp;"
   ]
  },
  {
   "cell_type": "code",
   "execution_count": 14,
   "metadata": {},
   "outputs": [
    {
     "data": {
      "application/vnd.teradata.resultset": "\"StatName\",\"'fare_amount'\",\"'pickup_longitude'\",\"'pickup_latitude'\",\"'dropoff_longitude'\",\"'dropoff_latitude'\"\n\"BOTTOM5(1)\",\"2.6\",\"-88.810226\",\"0\",\"-89.452866\",\"0\"\n\"BOTTOM5(2)\",\"3\",\"-85.308685\",\"0.74427998\",\"-87.662605\",\"33.076866\"\n\"BOTTOM5(3)\",\"3.01\",\"-82.792358\",\"20.445541\",\"-81.642937\",\"33.639912\"\n\"BOTTOM5(4)\",\"3.46\",\"-81.642937\",\"30.291594\",\"-79.796814\",\"33.658512\"\n\"BOTTOM5(5)\",\"3.5\",\"-80.155426\",\"30.515829\",\"-78.300003\",\"40.366444\"",
      "text/html": [
       "<div class = \"td-resultset-table-div\" style = \"max-height: 100%; overflow-y: auto\">\n",
       "      <table class=\"tdhistory562789\"><style>\n",
       "      table.tdhistory562789 { display: block !important; min-height: 189px !important; overflow: auto !important; height: 189px !important; width: 100% !important; border: 1px solid rgb(207, 207, 207) !important; border-collapse: collapse !important; ; color: var(--jp-ui-font-color1) !important; }\n",
       "      th.tdhistory562789 { border: 1px solid rgb(198,198,198) !important; border-collapse: collapse !important; ; padding: 2px 5px !important; ; font-size: 13px !important; ; text-align: center !important; white-space: normal !important; color: var(--jp-ui-font-color1) !important; }\n",
       "      th.tdhistory562789:last-child { text-align: left !important; }\n",
       "      tbody.tdhistory562789 tr:nth-child(even) { background: rgba(243, 243, 243, 0.75) !important; }\n",
       "      tbody.tdhistory562789 tr:nth-child(odd) { background: var(--jp-ui-inverse-font-color1) !important; }\n",
       "      td.tdhistory562789 { border: 1px solid rgb(207, 207, 207) !important; border-collapse: collapse !important; ; padding: 2px 5px !important; ; font-size: 13px !important; ; text-align: left !important;          white-space: nowrap !important; overflow:hidden !important; text-overflow:ellipsis !important;; }\n",
       "    </style><thead><tr style= \"background: rgba(243, 243, 243, 0.75)\"><th class=\"tdhistory562789\"></th><th class=\"tdhistory562789\">StatName</th><th class=\"tdhistory562789\">'fare_amount'</th><th class=\"tdhistory562789\">'pickup_longitude'</th><th class=\"tdhistory562789\">'pickup_latitude'</th><th class=\"tdhistory562789\">'dropoff_longitude'</th><th class=\"tdhistory562789\">'dropoff_latitude'</th></tr></thead><tbody class=\"tdhistory562789 resultset-body\"><tr><th class=\"tdhistory562789\" style= \"background: rgba(243, 243, 243, 0.75)\">1</th><td class=\"tdhistory562789\">BOTTOM5(1)</td><td class=\"tdhistory562789\">2.6</td><td class=\"tdhistory562789\">-88.810226</td><td class=\"tdhistory562789\">0</td><td class=\"tdhistory562789\">-89.452866</td><td class=\"tdhistory562789\">0</td></tr><tr><th class=\"tdhistory562789\" style= \"background: rgba(243, 243, 243, 0.75)\">2</th><td class=\"tdhistory562789\">BOTTOM5(2)</td><td class=\"tdhistory562789\">3</td><td class=\"tdhistory562789\">-85.308685</td><td class=\"tdhistory562789\">0.74427998</td><td class=\"tdhistory562789\">-87.662605</td><td class=\"tdhistory562789\">33.076866</td></tr><tr><th class=\"tdhistory562789\" style= \"background: rgba(243, 243, 243, 0.75)\">3</th><td class=\"tdhistory562789\">BOTTOM5(3)</td><td class=\"tdhistory562789\">3.01</td><td class=\"tdhistory562789\">-82.792358</td><td class=\"tdhistory562789\">20.445541</td><td class=\"tdhistory562789\">-81.642937</td><td class=\"tdhistory562789\">33.639912</td></tr><tr><th class=\"tdhistory562789\" style= \"background: rgba(243, 243, 243, 0.75)\">4</th><td class=\"tdhistory562789\">BOTTOM5(4)</td><td class=\"tdhistory562789\">3.46</td><td class=\"tdhistory562789\">-81.642937</td><td class=\"tdhistory562789\">30.291594</td><td class=\"tdhistory562789\">-79.796814</td><td class=\"tdhistory562789\">33.658512</td></tr><tr><th class=\"tdhistory562789\" style= \"background: rgba(243, 243, 243, 0.75)\">5</th><td class=\"tdhistory562789\">BOTTOM5(5)</td><td class=\"tdhistory562789\">3.5</td><td class=\"tdhistory562789\">-80.155426</td><td class=\"tdhistory562789\">30.515829</td><td class=\"tdhistory562789\">-78.300003</td><td class=\"tdhistory562789\">40.366444</td></tr></tbody></table></div>"
      ]
     },
     "execution_count": 14,
     "metadata": {
      "application/vnd.teradata.resultset": "{\"resultSetID\":\"/home/jovyan/JupyterLabRoot/Teradata/Resultsets/2023.12.21_08.10.27.935_UTC\",\"historyID\":262,\"chunkID\":\"00001\",\"sessionid\":\"\",\"portnum\":\"\",\"dockermode\":\"docker\",\"totalRowCount\":5,\"chunkCount\":0,\"rowLimit\":0,\"columnMetadata\":[{\"columnName\":\"StatName\",\"columnTypeName\":\"VARCHAR\",\"length\":31,\"scale\":31},{\"columnNumber\":1,\"columnName\":\"'fare_amount'\",\"columnTypeName\":\"FLOAT\"},{\"columnNumber\":2,\"columnName\":\"'pickup_longitude'\",\"columnTypeName\":\"FLOAT\"},{\"columnNumber\":3,\"columnName\":\"'pickup_latitude'\",\"columnTypeName\":\"FLOAT\"},{\"columnNumber\":4,\"columnName\":\"'dropoff_longitude'\",\"columnTypeName\":\"FLOAT\"},{\"columnNumber\":5,\"columnName\":\"'dropoff_latitude'\",\"columnTypeName\":\"FLOAT\"}]}"
     },
     "output_type": "execute_result"
    }
   ],
   "source": [
    "SELECT TOP 5 * FROM Allstats_pivoted ORDER BY 1;"
   ]
  },
  {
   "cell_type": "markdown",
   "metadata": {},
   "source": [
    "<p style = 'font-size:16px;font-family:Arial;color:#00233C'>The output above shows a cleaner way to look at the various statistics for all the specified columns.</p>"
   ]
  },
  {
   "cell_type": "markdown",
   "metadata": {},
   "source": [
    "<hr style=\"height:2px;border:none;background-color:#00233C;\">\n",
    "<p style = 'font-size:20px;font-family:Arial;color:#00233C'><b>3. Outlier Identification</b></p>\n",
    "\n",
    "<p style = 'font-size:16px;font-family:Arial;color:#00233C'>We can see some extraordinary value outliers in our numeric data based on the statistics gathered above. We can use the <a href='https://docs.teradata.com/search/all?query=TD_HISTOGRAM&content-lang=en-US'>TD_Histogram</a> function to look at the distribution of each data column, which can guide how to remove outliers.</p>\n",
    "    \n",
    "<ol style = 'font-size:16px;font-family:Arial;color:#00233C'>\n",
    "    <li>Inspect the distribution stastics</li>\n",
    "    <li>Use TD_Histogram to view column distributions using calculated binning</li>\n",
    "    <li>Use TD_Histogram using MinMax table as input</li>\n",
    "    </ol>"
   ]
  },
  {
   "cell_type": "markdown",
   "metadata": {},
   "source": [
    "<hr style=\"height:1px;border:none;background-color:#00233C;\">\n",
    "<p style = 'font-size:18px;font-family:Arial;color:#00233C'><b>3.1 Simple SELECT</b></p>\n",
    "\n",
    "<p style = 'font-size:16px;font-family:Arial;color:#00233C'>Filter results out of the Pivoted table of Stats. We are interested in maximum, minimum and percentiles for all the columns.</p>"
   ]
  },
  {
   "cell_type": "code",
   "execution_count": 15,
   "metadata": {},
   "outputs": [
    {
     "data": {
      "application/vnd.teradata.resultset": "\"StatName\",\"'fare_amount'\",\"'pickup_longitude'\",\"'pickup_latitude'\",\"'dropoff_longitude'\",\"'dropoff_latitude'\"\n\"MAXIMUM\",\"450.01\",\"0\",\"46.435387\",\"0\",\"46.232815\"\n\"MINIMUM\",\"2.6\",\"-88.810226\",\"0\",\"-89.452866\",\"0\"\n\"PERCENTILES(1)\",\"4\",\"-74.01344828\",\"0\",\"-74.015396\",\"0\"\n\"PERCENTILES(10)\",\"6\",\"-74.002739\",\"40.7172142\",\"-74.002632\",\"40.709969\"\n\"PERCENTILES(25)\",\"8\",\"-73.992554\",\"40.73101\",\"-73.991814\",\"40.731049\"",
      "text/html": [
       "<div class = \"td-resultset-table-div\" style = \"max-height: 100%; overflow-y: auto\">\n",
       "      <table class=\"tdhistory840894\"><style>\n",
       "      table.tdhistory840894 { display: block !important; min-height: 189px !important; overflow: auto !important; height: 189px !important; width: 100% !important; border: 1px solid rgb(207, 207, 207) !important; border-collapse: collapse !important; ; color: var(--jp-ui-font-color1) !important; }\n",
       "      th.tdhistory840894 { border: 1px solid rgb(198,198,198) !important; border-collapse: collapse !important; ; padding: 2px 5px !important; ; font-size: 13px !important; ; text-align: center !important; white-space: normal !important; color: var(--jp-ui-font-color1) !important; }\n",
       "      th.tdhistory840894:last-child { text-align: left !important; }\n",
       "      tbody.tdhistory840894 tr:nth-child(even) { background: rgba(243, 243, 243, 0.75) !important; }\n",
       "      tbody.tdhistory840894 tr:nth-child(odd) { background: var(--jp-ui-inverse-font-color1) !important; }\n",
       "      td.tdhistory840894 { border: 1px solid rgb(207, 207, 207) !important; border-collapse: collapse !important; ; padding: 2px 5px !important; ; font-size: 13px !important; ; text-align: left !important;          white-space: nowrap !important; overflow:hidden !important; text-overflow:ellipsis !important;; }\n",
       "    </style><thead><tr style= \"background: rgba(243, 243, 243, 0.75)\"><th class=\"tdhistory840894\"></th><th class=\"tdhistory840894\">StatName</th><th class=\"tdhistory840894\">'fare_amount'</th><th class=\"tdhistory840894\">'pickup_longitude'</th><th class=\"tdhistory840894\">'pickup_latitude'</th><th class=\"tdhistory840894\">'dropoff_longitude'</th><th class=\"tdhistory840894\">'dropoff_latitude'</th></tr></thead><tbody class=\"tdhistory840894 resultset-body\"><tr><th class=\"tdhistory840894\" style= \"background: rgba(243, 243, 243, 0.75)\">1</th><td class=\"tdhistory840894\">MAXIMUM</td><td class=\"tdhistory840894\">450.01</td><td class=\"tdhistory840894\">0</td><td class=\"tdhistory840894\">46.435387</td><td class=\"tdhistory840894\">0</td><td class=\"tdhistory840894\">46.232815</td></tr><tr><th class=\"tdhistory840894\" style= \"background: rgba(243, 243, 243, 0.75)\">2</th><td class=\"tdhistory840894\">MINIMUM</td><td class=\"tdhistory840894\">2.6</td><td class=\"tdhistory840894\">-88.810226</td><td class=\"tdhistory840894\">0</td><td class=\"tdhistory840894\">-89.452866</td><td class=\"tdhistory840894\">0</td></tr><tr><th class=\"tdhistory840894\" style= \"background: rgba(243, 243, 243, 0.75)\">3</th><td class=\"tdhistory840894\">PERCENTILES(1)</td><td class=\"tdhistory840894\">4</td><td class=\"tdhistory840894\">-74.01344828</td><td class=\"tdhistory840894\">0</td><td class=\"tdhistory840894\">-74.015396</td><td class=\"tdhistory840894\">0</td></tr><tr><th class=\"tdhistory840894\" style= \"background: rgba(243, 243, 243, 0.75)\">4</th><td class=\"tdhistory840894\">PERCENTILES(10)</td><td class=\"tdhistory840894\">6</td><td class=\"tdhistory840894\">-74.002739</td><td class=\"tdhistory840894\">40.7172142</td><td class=\"tdhistory840894\">-74.002632</td><td class=\"tdhistory840894\">40.709969</td></tr><tr><th class=\"tdhistory840894\" style= \"background: rgba(243, 243, 243, 0.75)\">5</th><td class=\"tdhistory840894\">PERCENTILES(25)</td><td class=\"tdhistory840894\">8</td><td class=\"tdhistory840894\">-73.992554</td><td class=\"tdhistory840894\">40.73101</td><td class=\"tdhistory840894\">-73.991814</td><td class=\"tdhistory840894\">40.731049</td></tr></tbody></table></div>"
      ]
     },
     "execution_count": 15,
     "metadata": {
      "application/vnd.teradata.resultset": "{\"resultSetID\":\"/home/jovyan/JupyterLabRoot/Teradata/Resultsets/2023.12.21_08.10.28.072_UTC\",\"historyID\":263,\"chunkID\":\"00001\",\"sessionid\":\"\",\"portnum\":\"\",\"dockermode\":\"docker\",\"totalRowCount\":5,\"chunkCount\":0,\"rowLimit\":0,\"columnMetadata\":[{\"columnName\":\"StatName\",\"columnTypeName\":\"VARCHAR\",\"length\":31,\"scale\":31},{\"columnNumber\":1,\"columnName\":\"'fare_amount'\",\"columnTypeName\":\"FLOAT\"},{\"columnNumber\":2,\"columnName\":\"'pickup_longitude'\",\"columnTypeName\":\"FLOAT\"},{\"columnNumber\":3,\"columnName\":\"'pickup_latitude'\",\"columnTypeName\":\"FLOAT\"},{\"columnNumber\":4,\"columnName\":\"'dropoff_longitude'\",\"columnTypeName\":\"FLOAT\"},{\"columnNumber\":5,\"columnName\":\"'dropoff_latitude'\",\"columnTypeName\":\"FLOAT\"}]}"
     },
     "output_type": "execute_result"
    }
   ],
   "source": [
    "SELECT TOP 5 *\n",
    "FROM AllStats_pivoted\n",
    "WHERE \"StatName\" LIKE 'PERCENTILES(%)'\n",
    "    OR  \"StatName\" IN ('MINIMUM', 'MAXIMUM')\n",
    "ORDER BY 1;"
   ]
  },
  {
   "cell_type": "markdown",
   "metadata": {},
   "source": [
    "<hr style=\"height:1px;border:none;background-color:#00233C;\">\n",
    "<p style = 'font-size:18px;font-family:Arial;color:#00233C'><b>3.2 Histograms for distribution analysis</b></p>\n",
    "\n",
    "<p style = 'font-size:16px;font-family:Arial;color:#00233C'><a href = 'https://docs.teradata.com/r/Teradata-VantageTM-Advanced-SQL-Engine-Analytic-Functions/April-2022/Data-Exploration-Functions/TD_Histogram'>TD_Histogram</a> calculates the frequency distribution of a data set using your choice from these methods:</p>\n",
    "<ul style = 'font-size:16px;font-family:Arial;color:#00233C'>\n",
    "    <li>Sturges, which uses w = r/(1 + log2n) for bin width</li>\n",
    "    <li>Scott, which uses w = 3.49s/(n1/3) for bin width</li>\n",
    "    <li>Variable-width, which requires a MinMax table</li>   \n",
    "    <li>Equal-width, which requires a MinMax table</li>\n",
    "    </ul>\n",
    "\n",
    "<p style = 'font-size:16px;font-family:Arial;color:#00233C'>An example using Sturges is below; note that the algorithmic methods work best on normally distributed data, so in this case, the bin widths illustrate how a few extreme outliers can skew the overall data distribution.</p>"
   ]
  },
  {
   "cell_type": "code",
   "execution_count": 16,
   "metadata": {},
   "outputs": [
    {
     "data": {
      "application/vnd.teradata.resultset": "\"ColumnName\",\"Label\",\"MinValue\",\"MaxValue\",\"CountOfValues\",\"Bin_Percent\"\n\"fare_amount\",\"3\",\"150\",\"200\",\"69\",\"0.01458308235637249\"\n\"fare_amount\",\"8\",\"400\",\"450\",\"1\",\"0.0002113490196575723\"\n\"fare_amount\",\"5\",\"250\",\"300\",\"7\",\"0.0014794431376030062\"\n\"fare_amount\",\"2\",\"100\",\"150\",\"387\",\"0.08179207060748048\"\n\"fare_amount\",\"1\",\"50\",\"100\",\"15265\",\"3.2262427850728415\"\n\"fare_amount\",\"9\",\"450\",\"500\",\"1\",\"0.0002113490196575723\"\n\"fare_amount\",\"7\",\"350\",\"400\",\"0\",\"0\"\n\"fare_amount\",\"4\",\"200\",\"250\",\"28\",\"0.005917772550412025\"\n\"fare_amount\",\"6\",\"300\",\"350\",\"4\",\"0.0008453960786302892\"\n\"fare_amount\",\"0\",\"0\",\"50\",\"457389\",\"96.66871675215735\"",
      "text/html": [
       "<div class = \"td-resultset-table-div\" style = \"max-height: 100%; overflow-y: auto\">\n",
       "      <table class=\"tdhistory847146\"><style>\n",
       "      table.tdhistory847146 { display: block !important; min-height: 294px !important; overflow: auto !important; height: 294px !important; width: 100% !important; border: 1px solid rgb(207, 207, 207) !important; border-collapse: collapse !important; ; color: var(--jp-ui-font-color1) !important; }\n",
       "      th.tdhistory847146 { border: 1px solid rgb(198,198,198) !important; border-collapse: collapse !important; ; padding: 2px 5px !important; ; font-size: 13px !important; ; text-align: center !important; white-space: normal !important; color: var(--jp-ui-font-color1) !important; }\n",
       "      th.tdhistory847146:last-child { text-align: left !important; }\n",
       "      tbody.tdhistory847146 tr:nth-child(even) { background: rgba(243, 243, 243, 0.75) !important; }\n",
       "      tbody.tdhistory847146 tr:nth-child(odd) { background: var(--jp-ui-inverse-font-color1) !important; }\n",
       "      td.tdhistory847146 { border: 1px solid rgb(207, 207, 207) !important; border-collapse: collapse !important; ; padding: 2px 5px !important; ; font-size: 13px !important; ; text-align: left !important;          white-space: nowrap !important; overflow:hidden !important; text-overflow:ellipsis !important;; }\n",
       "    </style><thead><tr style= \"background: rgba(243, 243, 243, 0.75)\"><th class=\"tdhistory847146\"></th><th class=\"tdhistory847146\">ColumnName</th><th class=\"tdhistory847146\">Label</th><th class=\"tdhistory847146\">MinValue</th><th class=\"tdhistory847146\">MaxValue</th><th class=\"tdhistory847146\">CountOfValues</th><th class=\"tdhistory847146\">Bin_Percent</th></tr></thead><tbody class=\"tdhistory847146 resultset-body\"><tr><th class=\"tdhistory847146\" style= \"background: rgba(243, 243, 243, 0.75)\">1</th><td class=\"tdhistory847146\">fare_amount</td><td class=\"tdhistory847146\">3</td><td class=\"tdhistory847146\">150</td><td class=\"tdhistory847146\">200</td><td class=\"tdhistory847146\">69</td><td class=\"tdhistory847146\">0.01458308235637249</td></tr><tr><th class=\"tdhistory847146\" style= \"background: rgba(243, 243, 243, 0.75)\">2</th><td class=\"tdhistory847146\">fare_amount</td><td class=\"tdhistory847146\">8</td><td class=\"tdhistory847146\">400</td><td class=\"tdhistory847146\">450</td><td class=\"tdhistory847146\">1</td><td class=\"tdhistory847146\">0.0002113490196575723</td></tr><tr><th class=\"tdhistory847146\" style= \"background: rgba(243, 243, 243, 0.75)\">3</th><td class=\"tdhistory847146\">fare_amount</td><td class=\"tdhistory847146\">5</td><td class=\"tdhistory847146\">250</td><td class=\"tdhistory847146\">300</td><td class=\"tdhistory847146\">7</td><td class=\"tdhistory847146\">0.0014794431376030062</td></tr><tr><th class=\"tdhistory847146\" style= \"background: rgba(243, 243, 243, 0.75)\">4</th><td class=\"tdhistory847146\">fare_amount</td><td class=\"tdhistory847146\">2</td><td class=\"tdhistory847146\">100</td><td class=\"tdhistory847146\">150</td><td class=\"tdhistory847146\">387</td><td class=\"tdhistory847146\">0.08179207060748048</td></tr><tr><th class=\"tdhistory847146\" style= \"background: rgba(243, 243, 243, 0.75)\">5</th><td class=\"tdhistory847146\">fare_amount</td><td class=\"tdhistory847146\">1</td><td class=\"tdhistory847146\">50</td><td class=\"tdhistory847146\">100</td><td class=\"tdhistory847146\">15265</td><td class=\"tdhistory847146\">3.2262427850728415</td></tr><tr><th class=\"tdhistory847146\" style= \"background: rgba(243, 243, 243, 0.75)\">6</th><td class=\"tdhistory847146\">fare_amount</td><td class=\"tdhistory847146\">9</td><td class=\"tdhistory847146\">450</td><td class=\"tdhistory847146\">500</td><td class=\"tdhistory847146\">1</td><td class=\"tdhistory847146\">0.0002113490196575723</td></tr><tr><th class=\"tdhistory847146\" style= \"background: rgba(243, 243, 243, 0.75)\">7</th><td class=\"tdhistory847146\">fare_amount</td><td class=\"tdhistory847146\">7</td><td class=\"tdhistory847146\">350</td><td class=\"tdhistory847146\">400</td><td class=\"tdhistory847146\">0</td><td class=\"tdhistory847146\">0</td></tr><tr><th class=\"tdhistory847146\" style= \"background: rgba(243, 243, 243, 0.75)\">8</th><td class=\"tdhistory847146\">fare_amount</td><td class=\"tdhistory847146\">4</td><td class=\"tdhistory847146\">200</td><td class=\"tdhistory847146\">250</td><td class=\"tdhistory847146\">28</td><td class=\"tdhistory847146\">0.005917772550412025</td></tr><tr><th class=\"tdhistory847146\" style= \"background: rgba(243, 243, 243, 0.75)\">9</th><td class=\"tdhistory847146\">fare_amount</td><td class=\"tdhistory847146\">6</td><td class=\"tdhistory847146\">300</td><td class=\"tdhistory847146\">350</td><td class=\"tdhistory847146\">4</td><td class=\"tdhistory847146\">0.0008453960786302892</td></tr><tr><th class=\"tdhistory847146\" style= \"background: rgba(243, 243, 243, 0.75)\">10</th><td class=\"tdhistory847146\">fare_amount</td><td class=\"tdhistory847146\">0</td><td class=\"tdhistory847146\">0</td><td class=\"tdhistory847146\">50</td><td class=\"tdhistory847146\">457389</td><td class=\"tdhistory847146\">96.66871675215735</td></tr></tbody></table></div>"
      ]
     },
     "execution_count": 16,
     "metadata": {
      "application/vnd.teradata.resultset": "{\"resultSetID\":\"/home/jovyan/JupyterLabRoot/Teradata/Resultsets/2023.12.21_08.10.29.579_UTC\",\"historyID\":264,\"chunkID\":\"00001\",\"sessionid\":\"\",\"portnum\":\"\",\"dockermode\":\"docker\",\"totalRowCount\":10,\"chunkCount\":0,\"rowLimit\":0,\"columnMetadata\":[{\"columnName\":\"ColumnName\",\"columnTypeName\":\"VARCHAR\",\"length\":128,\"scale\":128},{\"columnNumber\":1,\"columnName\":\"Label\",\"columnTypeName\":\"BIGINT\"},{\"columnNumber\":2,\"columnName\":\"MinValue\",\"columnTypeName\":\"FLOAT\"},{\"columnNumber\":3,\"columnName\":\"MaxValue\",\"columnTypeName\":\"FLOAT\"},{\"columnNumber\":4,\"columnName\":\"CountOfValues\",\"columnTypeName\":\"BIGINT\"},{\"columnNumber\":5,\"columnName\":\"Bin_Percent\",\"columnTypeName\":\"FLOAT\"}]}"
     },
     "output_type": "execute_result"
    }
   ],
   "source": [
    "SELECT *\n",
    "FROM TD_Histogram (\n",
    "    ON NYC_FULL_T AS InputTable\n",
    "    USING\n",
    "    TargetColumn('fare_amount')\n",
    "    MethodType('Sturges')\n",
    ") AS dt ORDER BY 1;"
   ]
  },
  {
   "cell_type": "code",
   "execution_count": 17,
   "metadata": {},
   "outputs": [
    {
     "data": {
      "application/vnd.vegalite.v3+json": {
       "$schema": "https://vega.github.io/schema/vega-lite/v3.json",
       "data": {
        "format": {
         "type": "csv"
        },
        "values": "\"ColumnName\",\"Label\",\"MinValue\",\"MaxValue\",\"CountOfValues\",\"Bin_Percent\"\n\"fare_amount\",\"3\",\"150\",\"200\",\"69\",\"0.01458308235637249\"\n\"fare_amount\",\"8\",\"400\",\"450\",\"1\",\"0.0002113490196575723\"\n\"fare_amount\",\"5\",\"250\",\"300\",\"7\",\"0.0014794431376030062\"\n\"fare_amount\",\"2\",\"100\",\"150\",\"387\",\"0.08179207060748048\"\n\"fare_amount\",\"1\",\"50\",\"100\",\"15265\",\"3.2262427850728415\"\n\"fare_amount\",\"9\",\"450\",\"500\",\"1\",\"0.0002113490196575723\"\n\"fare_amount\",\"7\",\"350\",\"400\",\"0\",\"0\"\n\"fare_amount\",\"4\",\"200\",\"250\",\"28\",\"0.005917772550412025\"\n\"fare_amount\",\"6\",\"300\",\"350\",\"4\",\"0.0008453960786302892\"\n\"fare_amount\",\"0\",\"0\",\"50\",\"457389\",\"96.66871675215735\"\n"
       },
       "encoding": {
        "x": {
         "axis": {
          "grid": true,
          "title": "MinValue"
         },
         "field": "MinValue",
         "type": "quantitative"
        },
        "y": {
         "axis": {
          "grid": true,
          "title": "bin_percent"
         },
         "field": "Bin_Percent",
         "type": "quantitative"
        }
       },
       "mark": {
        "color": "#4C78A8",
        "type": "bar"
       },
       "title": "Histogram of fare_amount"
      },
      "image/png": "[encoded data removed]"
     },
     "execution_count": 17,
     "metadata": {
      "application/vnd.teradata.resultset": ""
     },
     "output_type": "execute_result"
    }
   ],
   "source": [
    "%chart x = MinValue, y = bin_percent, title = \"Histogram of fare_amount\""
   ]
  },
  {
   "cell_type": "markdown",
   "metadata": {},
   "source": [
    "<p style = 'font-size:16px;font-family:Arial;color:#00233C'>The results above indicate that <b>96.6%</b> of fares are in the range 0-50. Almost all the data is residing in the 0-100 fare price range.</p>"
   ]
  },
  {
   "cell_type": "markdown",
   "metadata": {},
   "source": [
    "<hr style=\"height:1px;border:none;background-color:#00233C;\">\n",
    "<p style = 'font-size:18px;font-family:Arial;color:#00233C'><b>3.3 Histograms with MinMax table</b></p>\n",
    "\n",
    "<p style = 'font-size:16px;font-family:Arial;color:#00233C'>An alternative method for defining bin width is to use a MinMax table. For fixed-width bins, the MinMax table only needs two columns, \"MinValue\" and \"MaxValue\", representing the column's overall min and max values. For variable-width bins, the MinMax table needs an extra \"label\" column, and each row MinValue and MaxValue will represent the value range of the bin.</p>\n",
    "\n",
    "<p style = 'font-size:16px;font-family:Arial;color:#00233C'>Specifically for the fare amount column, this MinMax table will only bin values from 0 to 100 in the specified range. Visualization of the results yields a much more manageable distribution.</p>"
   ]
  },
  {
   "cell_type": "code",
   "execution_count": 18,
   "metadata": {},
   "outputs": [
    {
     "data": {
      "text/plain": [
       "Success: 0 rows affected"
      ]
     },
     "execution_count": 18,
     "metadata": {
      "application/vnd.teradata.resultset": ""
     },
     "output_type": "execute_result"
    }
   ],
   "source": [
    "CREATE MULTISET TABLE fare_amount_minmax ( \n",
    "    MinValue INTEGER, \n",
    "    MaxValue INTEGER,\n",
    "    Label VARCHAR(10)\n",
    ");"
   ]
  },
  {
   "cell_type": "code",
   "execution_count": 19,
   "metadata": {},
   "outputs": [
    {
     "name": "stdout",
     "output_type": "stream",
     "text": [
      "Using database: DEMO_USER\n",
      "2023-12-21T08:10:30.074 Start Batch Loading...\n",
      "  \u001b[36m\u001b[m   \n",
      "Data Load: Number Rows Loaded = 51, Elapsed Time = 00:00:00.303, History ID = 266\n",
      "Success Loading Data: from file,'/home/jovyan/JupyterLabRoot/UseCases/Outlier_Analysis/data/EDA_MinMax.csv', into table, DEMO_USER.fare_amount_minmax."
     ]
    }
   ],
   "source": [
    "%dataload table = fare_amount_minmax, filepath = UseCases/Outlier_Analysis/data/EDA_MinMax.csv"
   ]
  },
  {
   "cell_type": "code",
   "execution_count": 20,
   "metadata": {},
   "outputs": [
    {
     "data": {
      "application/vnd.teradata.resultset": "\"MinValue\",\"MaxValue\",\"Label\"\n\"0\",\"2\",\"0-2\"\n\"2\",\"4\",\"2-4\"\n\"4\",\"6\",\"4-6\"\n\"6\",\"8\",\"6-8\"\n\"8\",\"10\",\"8-10\"",
      "text/html": [
       "<div class = \"td-resultset-table-div\" style = \"max-height: 100%; overflow-y: auto\">\n",
       "      <table class=\"tdhistory69249\"><style>\n",
       "      table.tdhistory69249 { display: block !important; min-height: 189px !important; overflow: auto !important; height: 189px !important; width: 100% !important; border: 1px solid rgb(207, 207, 207) !important; border-collapse: collapse !important; ; color: var(--jp-ui-font-color1) !important; }\n",
       "      th.tdhistory69249 { border: 1px solid rgb(198,198,198) !important; border-collapse: collapse !important; ; padding: 2px 5px !important; ; font-size: 13px !important; ; text-align: center !important; white-space: normal !important; color: var(--jp-ui-font-color1) !important; }\n",
       "      th.tdhistory69249:last-child { text-align: left !important; }\n",
       "      tbody.tdhistory69249 tr:nth-child(even) { background: rgba(243, 243, 243, 0.75) !important; }\n",
       "      tbody.tdhistory69249 tr:nth-child(odd) { background: var(--jp-ui-inverse-font-color1) !important; }\n",
       "      td.tdhistory69249 { border: 1px solid rgb(207, 207, 207) !important; border-collapse: collapse !important; ; padding: 2px 5px !important; ; font-size: 13px !important; ; text-align: left !important;          white-space: nowrap !important; overflow:hidden !important; text-overflow:ellipsis !important;; }\n",
       "    </style><thead><tr style= \"background: rgba(243, 243, 243, 0.75)\"><th class=\"tdhistory69249\"></th><th class=\"tdhistory69249\">MinValue</th><th class=\"tdhistory69249\">MaxValue</th><th class=\"tdhistory69249\">Label</th></tr></thead><tbody class=\"tdhistory69249 resultset-body\"><tr><th class=\"tdhistory69249\" style= \"background: rgba(243, 243, 243, 0.75)\">1</th><td class=\"tdhistory69249\">0</td><td class=\"tdhistory69249\">2</td><td class=\"tdhistory69249\">0-2</td></tr><tr><th class=\"tdhistory69249\" style= \"background: rgba(243, 243, 243, 0.75)\">2</th><td class=\"tdhistory69249\">2</td><td class=\"tdhistory69249\">4</td><td class=\"tdhistory69249\">2-4</td></tr><tr><th class=\"tdhistory69249\" style= \"background: rgba(243, 243, 243, 0.75)\">3</th><td class=\"tdhistory69249\">4</td><td class=\"tdhistory69249\">6</td><td class=\"tdhistory69249\">4-6</td></tr><tr><th class=\"tdhistory69249\" style= \"background: rgba(243, 243, 243, 0.75)\">4</th><td class=\"tdhistory69249\">6</td><td class=\"tdhistory69249\">8</td><td class=\"tdhistory69249\">6-8</td></tr><tr><th class=\"tdhistory69249\" style= \"background: rgba(243, 243, 243, 0.75)\">5</th><td class=\"tdhistory69249\">8</td><td class=\"tdhistory69249\">10</td><td class=\"tdhistory69249\">8-10</td></tr></tbody></table></div>"
      ]
     },
     "execution_count": 20,
     "metadata": {
      "application/vnd.teradata.resultset": "{\"resultSetID\":\"/home/jovyan/JupyterLabRoot/Teradata/Resultsets/2023.12.21_08.10.30.224_UTC\",\"historyID\":267,\"chunkID\":\"00001\",\"sessionid\":\"\",\"portnum\":\"\",\"dockermode\":\"docker\",\"totalRowCount\":5,\"chunkCount\":0,\"rowLimit\":0,\"columnMetadata\":[{\"columnName\":\"MinValue\",\"columnTypeName\":\"INTEGER\"},{\"columnNumber\":1,\"columnName\":\"MaxValue\",\"columnTypeName\":\"INTEGER\"},{\"columnNumber\":2,\"columnName\":\"Label\",\"columnTypeName\":\"VARCHAR\",\"length\":10,\"scale\":10}]}"
     },
     "output_type": "execute_result"
    }
   ],
   "source": [
    "SELECT TOP 5 * FROM fare_amount_minmax ORDER BY MinValue;"
   ]
  },
  {
   "cell_type": "markdown",
   "metadata": {},
   "source": [
    "<p style = 'font-size:16px;font-family:Arial;color:#00233C'>The table fare_amount_minmax has 51 bins of width 2 in the range 0 to 100. We will use this table to create a variable-width histogram. Note that you can change the fare_amount_minmax table to declare bins of any width.</p>"
   ]
  },
  {
   "cell_type": "code",
   "execution_count": 21,
   "metadata": {},
   "outputs": [
    {
     "data": {
      "application/vnd.teradata.resultset": "\"ColumnName\",\"Label\",\"MinValue\",\"MaxValue\",\"CountOfValues\",\"Bin_Percent\"\n\"fare_amount\",\"0-2\",\"0\",\"2\",\"0\",\"0\"\n\"fare_amount\",\"10-12\",\"10\",\"12\",\"64684\",\"13.670899987530408\"\n\"fare_amount\",\"100\",\"100\",\"100\",\"24\",\"0.005072376471781736\"\n\"fare_amount\",\"12-14\",\"12\",\"14\",\"48762\",\"10.305800896542541\"\n\"fare_amount\",\"14-16\",\"14\",\"16\",\"35016\",\"7.400597272329552\"\n\"fare_amount\",\"16-18\",\"16\",\"18\",\"27424\",\"5.796035515089263\"\n\"fare_amount\",\"18-20\",\"18\",\"20\",\"19888\",\"4.203309302949798\"\n\"fare_amount\",\"2-4\",\"2\",\"4\",\"2477\",\"0.5235115216918066\"\n\"fare_amount\",\"20-22\",\"20\",\"22\",\"14299\",\"3.0220796320836265\"\n\"fare_amount\",\"22-24\",\"22\",\"24\",\"10916\",\"2.3070858985820597\"\n\"fare_amount\",\"24-26\",\"24\",\"26\",\"8302\",\"1.7546195611971656\"\n\"fare_amount\",\"26-28\",\"26\",\"28\",\"5910\",\"1.2490727061762523\"\n\"fare_amount\",\"28-30\",\"28\",\"30\",\"5143\",\"1.0869680080988944\"\n\"fare_amount\",\"30-32\",\"30\",\"32\",\"4328\",\"0.9147185570779729\"\n\"fare_amount\",\"32-34\",\"32\",\"34\",\"3739\",\"0.790233984499663\"\n\"fare_amount\",\"34-36\",\"34\",\"36\",\"3780\",\"0.7988992943056235\"\n\"fare_amount\",\"36-38\",\"36\",\"38\",\"3589\",\"0.7585316315510271\"\n\"fare_amount\",\"38-40\",\"38\",\"40\",\"3295\",\"0.6963950197717008\"\n\"fare_amount\",\"4-6\",\"4\",\"6\",\"33073\",\"6.98994612713489\"\n\"fare_amount\",\"40-42\",\"40\",\"42\",\"2893\",\"0.6114327138693567\"\n\"fare_amount\",\"42-44\",\"42\",\"44\",\"2220\",\"0.4691948236398106\"\n\"fare_amount\",\"44-46\",\"44\",\"46\",\"2052\",\"0.4336881883373384\"\n\"fare_amount\",\"46-48\",\"46\",\"48\",\"1478\",\"0.31237385105389187\"\n\"fare_amount\",\"48-50\",\"48\",\"50\",\"1203\",\"0.2542528706480595\"\n\"fare_amount\",\"50-52\",\"50\",\"52\",\"978\",\"0.20669934122510572\"\n\"fare_amount\",\"52-54\",\"52\",\"54\",\"1636\",\"0.3457669961597883\"\n\"fare_amount\",\"54-56\",\"54\",\"56\",\"568\",\"0.12004624316550108\"\n\"fare_amount\",\"56-58\",\"56\",\"58\",\"3229\",\"0.682445984474301\"\n\"fare_amount\",\"58-60\",\"58\",\"60\",\"458\",\"0.09679785100316812\"\n\"fare_amount\",\"6-8\",\"6\",\"8\",\"76128\",\"16.089578168491666\"\n\"fare_amount\",\"60-62\",\"60\",\"62\",\"638\",\"0.13484067454153115\"\n\"fare_amount\",\"62-64\",\"62\",\"64\",\"1485\",\"0.31385329419149494\"\n\"fare_amount\",\"64-66\",\"64\",\"66\",\"843\",\"0.17816722357133347\"\n\"fare_amount\",\"66-68\",\"66\",\"68\",\"649\",\"0.13716551375776445\"\n\"fare_amount\",\"68-70\",\"68\",\"70\",\"2538\",\"0.5364038118909186\"\n\"fare_amount\",\"70-72\",\"70\",\"72\",\"201\",\"0.04248115295117204\"\n\"fare_amount\",\"72-74\",\"72\",\"74\",\"713\",\"0.15069185101584906\"\n\"fare_amount\",\"74-76\",\"74\",\"76\",\"267\",\"0.05643018824857181\"\n\"fare_amount\",\"76-78\",\"76\",\"78\",\"122\",\"0.025784580398223823\"\n\"fare_amount\",\"78-80\",\"78\",\"80\",\"115\",\"0.024305137260620818\"\n\"fare_amount\",\"8-10\",\"8\",\"10\",\"76790\",\"16.22949121950498\"\n\"fare_amount\",\"80-82\",\"80\",\"82\",\"125\",\"0.026418627457196538\"\n\"fare_amount\",\"82-84\",\"82\",\"84\",\"107\",\"0.022614345103360238\"\n\"fare_amount\",\"84-86\",\"84\",\"86\",\"100\",\"0.021134901965757232\"\n\"fare_amount\",\"86-88\",\"86\",\"88\",\"70\",\"0.014794431376030062\"\n\"fare_amount\",\"88-90\",\"88\",\"90\",\"76\",\"0.016062525493975494\"\n\"fare_amount\",\"90-92\",\"90\",\"92\",\"91\",\"0.01923276078883908\"\n\"fare_amount\",\"92-94\",\"92\",\"94\",\"61\",\"0.012892290199111912\"\n\"fare_amount\",\"94-96\",\"94\",\"96\",\"65\",\"0.0137376862777422\"\n\"fare_amount\",\"96-98\",\"96\",\"98\",\"81\",\"0.01711927059226336\"\n\"fare_amount\",\"98-100\",\"98\",\"100\",\"49\",\"0.010356101963221044\"",
      "text/html": [
       "<div class = \"td-resultset-table-div\" style = \"max-height: 100%; overflow-y: auto\">\n",
       "      <table class=\"tdhistory552448\"><style>\n",
       "      table.tdhistory552448 { display: block !important; min-height: 588px !important; overflow: auto !important; height: 588px !important; width: 100% !important; border: 1px solid rgb(207, 207, 207) !important; border-collapse: collapse !important; ; color: var(--jp-ui-font-color1) !important; }\n",
       "      th.tdhistory552448 { border: 1px solid rgb(198,198,198) !important; border-collapse: collapse !important; ; padding: 2px 5px !important; ; font-size: 13px !important; ; text-align: center !important; white-space: normal !important; color: var(--jp-ui-font-color1) !important; }\n",
       "      th.tdhistory552448:last-child { text-align: left !important; }\n",
       "      tbody.tdhistory552448 tr:nth-child(even) { background: rgba(243, 243, 243, 0.75) !important; }\n",
       "      tbody.tdhistory552448 tr:nth-child(odd) { background: var(--jp-ui-inverse-font-color1) !important; }\n",
       "      td.tdhistory552448 { border: 1px solid rgb(207, 207, 207) !important; border-collapse: collapse !important; ; padding: 2px 5px !important; ; font-size: 13px !important; ; text-align: left !important;          white-space: nowrap !important; overflow:hidden !important; text-overflow:ellipsis !important;; }\n",
       "    </style><thead><tr style= \"background: rgba(243, 243, 243, 0.75)\"><th class=\"tdhistory552448\"></th><th class=\"tdhistory552448\">ColumnName</th><th class=\"tdhistory552448\">Label</th><th class=\"tdhistory552448\">MinValue</th><th class=\"tdhistory552448\">MaxValue</th><th class=\"tdhistory552448\">CountOfValues</th><th class=\"tdhistory552448\">Bin_Percent</th></tr></thead><tbody class=\"tdhistory552448 resultset-body\"><tr><th class=\"tdhistory552448\" style= \"background: rgba(243, 243, 243, 0.75)\">1</th><td class=\"tdhistory552448\">fare_amount</td><td class=\"tdhistory552448\">0-2</td><td class=\"tdhistory552448\">0</td><td class=\"tdhistory552448\">2</td><td class=\"tdhistory552448\">0</td><td class=\"tdhistory552448\">0</td></tr><tr><th class=\"tdhistory552448\" style= \"background: rgba(243, 243, 243, 0.75)\">2</th><td class=\"tdhistory552448\">fare_amount</td><td class=\"tdhistory552448\">10-12</td><td class=\"tdhistory552448\">10</td><td class=\"tdhistory552448\">12</td><td class=\"tdhistory552448\">64684</td><td class=\"tdhistory552448\">13.670899987530408</td></tr><tr><th class=\"tdhistory552448\" style= \"background: rgba(243, 243, 243, 0.75)\">3</th><td class=\"tdhistory552448\">fare_amount</td><td class=\"tdhistory552448\">100</td><td class=\"tdhistory552448\">100</td><td class=\"tdhistory552448\">100</td><td class=\"tdhistory552448\">24</td><td class=\"tdhistory552448\">0.005072376471781736</td></tr><tr><th class=\"tdhistory552448\" style= \"background: rgba(243, 243, 243, 0.75)\">4</th><td class=\"tdhistory552448\">fare_amount</td><td class=\"tdhistory552448\">12-14</td><td class=\"tdhistory552448\">12</td><td class=\"tdhistory552448\">14</td><td class=\"tdhistory552448\">48762</td><td class=\"tdhistory552448\">10.305800896542541</td></tr><tr><th class=\"tdhistory552448\" style= \"background: rgba(243, 243, 243, 0.75)\">5</th><td class=\"tdhistory552448\">fare_amount</td><td class=\"tdhistory552448\">14-16</td><td class=\"tdhistory552448\">14</td><td class=\"tdhistory552448\">16</td><td class=\"tdhistory552448\">35016</td><td class=\"tdhistory552448\">7.400597272329552</td></tr><tr><th class=\"tdhistory552448\" style= \"background: rgba(243, 243, 243, 0.75)\">6</th><td class=\"tdhistory552448\">fare_amount</td><td class=\"tdhistory552448\">16-18</td><td class=\"tdhistory552448\">16</td><td class=\"tdhistory552448\">18</td><td class=\"tdhistory552448\">27424</td><td class=\"tdhistory552448\">5.796035515089263</td></tr><tr><th class=\"tdhistory552448\" style= \"background: rgba(243, 243, 243, 0.75)\">7</th><td class=\"tdhistory552448\">fare_amount</td><td class=\"tdhistory552448\">18-20</td><td class=\"tdhistory552448\">18</td><td class=\"tdhistory552448\">20</td><td class=\"tdhistory552448\">19888</td><td class=\"tdhistory552448\">4.203309302949798</td></tr><tr><th class=\"tdhistory552448\" style= \"background: rgba(243, 243, 243, 0.75)\">8</th><td class=\"tdhistory552448\">fare_amount</td><td class=\"tdhistory552448\">2-4</td><td class=\"tdhistory552448\">2</td><td class=\"tdhistory552448\">4</td><td class=\"tdhistory552448\">2477</td><td class=\"tdhistory552448\">0.5235115216918066</td></tr><tr><th class=\"tdhistory552448\" style= \"background: rgba(243, 243, 243, 0.75)\">9</th><td class=\"tdhistory552448\">fare_amount</td><td class=\"tdhistory552448\">20-22</td><td class=\"tdhistory552448\">20</td><td class=\"tdhistory552448\">22</td><td class=\"tdhistory552448\">14299</td><td class=\"tdhistory552448\">3.0220796320836265</td></tr><tr><th class=\"tdhistory552448\" style= \"background: rgba(243, 243, 243, 0.75)\">10</th><td class=\"tdhistory552448\">fare_amount</td><td class=\"tdhistory552448\">22-24</td><td class=\"tdhistory552448\">22</td><td class=\"tdhistory552448\">24</td><td class=\"tdhistory552448\">10916</td><td class=\"tdhistory552448\">2.3070858985820597</td></tr><tr><th class=\"tdhistory552448\" style= \"background: rgba(243, 243, 243, 0.75)\">11</th><td class=\"tdhistory552448\">fare_amount</td><td class=\"tdhistory552448\">24-26</td><td class=\"tdhistory552448\">24</td><td class=\"tdhistory552448\">26</td><td class=\"tdhistory552448\">8302</td><td class=\"tdhistory552448\">1.7546195611971656</td></tr><tr><th class=\"tdhistory552448\" style= \"background: rgba(243, 243, 243, 0.75)\">12</th><td class=\"tdhistory552448\">fare_amount</td><td class=\"tdhistory552448\">26-28</td><td class=\"tdhistory552448\">26</td><td class=\"tdhistory552448\">28</td><td class=\"tdhistory552448\">5910</td><td class=\"tdhistory552448\">1.2490727061762523</td></tr><tr><th class=\"tdhistory552448\" style= \"background: rgba(243, 243, 243, 0.75)\">13</th><td class=\"tdhistory552448\">fare_amount</td><td class=\"tdhistory552448\">28-30</td><td class=\"tdhistory552448\">28</td><td class=\"tdhistory552448\">30</td><td class=\"tdhistory552448\">5143</td><td class=\"tdhistory552448\">1.0869680080988944</td></tr><tr><th class=\"tdhistory552448\" style= \"background: rgba(243, 243, 243, 0.75)\">14</th><td class=\"tdhistory552448\">fare_amount</td><td class=\"tdhistory552448\">30-32</td><td class=\"tdhistory552448\">30</td><td class=\"tdhistory552448\">32</td><td class=\"tdhistory552448\">4328</td><td class=\"tdhistory552448\">0.9147185570779729</td></tr><tr><th class=\"tdhistory552448\" style= \"background: rgba(243, 243, 243, 0.75)\">15</th><td class=\"tdhistory552448\">fare_amount</td><td class=\"tdhistory552448\">32-34</td><td class=\"tdhistory552448\">32</td><td class=\"tdhistory552448\">34</td><td class=\"tdhistory552448\">3739</td><td class=\"tdhistory552448\">0.790233984499663</td></tr><tr><th class=\"tdhistory552448\" style= \"background: rgba(243, 243, 243, 0.75)\">16</th><td class=\"tdhistory552448\">fare_amount</td><td class=\"tdhistory552448\">34-36</td><td class=\"tdhistory552448\">34</td><td class=\"tdhistory552448\">36</td><td class=\"tdhistory552448\">3780</td><td class=\"tdhistory552448\">0.7988992943056235</td></tr><tr><th class=\"tdhistory552448\" style= \"background: rgba(243, 243, 243, 0.75)\">17</th><td class=\"tdhistory552448\">fare_amount</td><td class=\"tdhistory552448\">36-38</td><td class=\"tdhistory552448\">36</td><td class=\"tdhistory552448\">38</td><td class=\"tdhistory552448\">3589</td><td class=\"tdhistory552448\">0.7585316315510271</td></tr><tr><th class=\"tdhistory552448\" style= \"background: rgba(243, 243, 243, 0.75)\">18</th><td class=\"tdhistory552448\">fare_amount</td><td class=\"tdhistory552448\">38-40</td><td class=\"tdhistory552448\">38</td><td class=\"tdhistory552448\">40</td><td class=\"tdhistory552448\">3295</td><td class=\"tdhistory552448\">0.6963950197717008</td></tr><tr><th class=\"tdhistory552448\" style= \"background: rgba(243, 243, 243, 0.75)\">19</th><td class=\"tdhistory552448\">fare_amount</td><td class=\"tdhistory552448\">4-6</td><td class=\"tdhistory552448\">4</td><td class=\"tdhistory552448\">6</td><td class=\"tdhistory552448\">33073</td><td class=\"tdhistory552448\">6.98994612713489</td></tr><tr><th class=\"tdhistory552448\" style= \"background: rgba(243, 243, 243, 0.75)\">20</th><td class=\"tdhistory552448\">fare_amount</td><td class=\"tdhistory552448\">40-42</td><td class=\"tdhistory552448\">40</td><td class=\"tdhistory552448\">42</td><td class=\"tdhistory552448\">2893</td><td class=\"tdhistory552448\">0.6114327138693567</td></tr><tr><th class=\"tdhistory552448\" style= \"background: rgba(243, 243, 243, 0.75)\">21</th><td class=\"tdhistory552448\">fare_amount</td><td class=\"tdhistory552448\">42-44</td><td class=\"tdhistory552448\">42</td><td class=\"tdhistory552448\">44</td><td class=\"tdhistory552448\">2220</td><td class=\"tdhistory552448\">0.4691948236398106</td></tr><tr><th class=\"tdhistory552448\" style= \"background: rgba(243, 243, 243, 0.75)\">22</th><td class=\"tdhistory552448\">fare_amount</td><td class=\"tdhistory552448\">44-46</td><td class=\"tdhistory552448\">44</td><td class=\"tdhistory552448\">46</td><td class=\"tdhistory552448\">2052</td><td class=\"tdhistory552448\">0.4336881883373384</td></tr><tr><th class=\"tdhistory552448\" style= \"background: rgba(243, 243, 243, 0.75)\">23</th><td class=\"tdhistory552448\">fare_amount</td><td class=\"tdhistory552448\">46-48</td><td class=\"tdhistory552448\">46</td><td class=\"tdhistory552448\">48</td><td class=\"tdhistory552448\">1478</td><td class=\"tdhistory552448\">0.31237385105389187</td></tr><tr><th class=\"tdhistory552448\" style= \"background: rgba(243, 243, 243, 0.75)\">24</th><td class=\"tdhistory552448\">fare_amount</td><td class=\"tdhistory552448\">48-50</td><td class=\"tdhistory552448\">48</td><td class=\"tdhistory552448\">50</td><td class=\"tdhistory552448\">1203</td><td class=\"tdhistory552448\">0.2542528706480595</td></tr><tr><th class=\"tdhistory552448\" style= \"background: rgba(243, 243, 243, 0.75)\">25</th><td class=\"tdhistory552448\">fare_amount</td><td class=\"tdhistory552448\">50-52</td><td class=\"tdhistory552448\">50</td><td class=\"tdhistory552448\">52</td><td class=\"tdhistory552448\">978</td><td class=\"tdhistory552448\">0.20669934122510572</td></tr><tr><th class=\"tdhistory552448\" style= \"background: rgba(243, 243, 243, 0.75)\">26</th><td class=\"tdhistory552448\">fare_amount</td><td class=\"tdhistory552448\">52-54</td><td class=\"tdhistory552448\">52</td><td class=\"tdhistory552448\">54</td><td class=\"tdhistory552448\">1636</td><td class=\"tdhistory552448\">0.3457669961597883</td></tr><tr><th class=\"tdhistory552448\" style= \"background: rgba(243, 243, 243, 0.75)\">27</th><td class=\"tdhistory552448\">fare_amount</td><td class=\"tdhistory552448\">54-56</td><td class=\"tdhistory552448\">54</td><td class=\"tdhistory552448\">56</td><td class=\"tdhistory552448\">568</td><td class=\"tdhistory552448\">0.12004624316550108</td></tr><tr><th class=\"tdhistory552448\" style= \"background: rgba(243, 243, 243, 0.75)\">28</th><td class=\"tdhistory552448\">fare_amount</td><td class=\"tdhistory552448\">56-58</td><td class=\"tdhistory552448\">56</td><td class=\"tdhistory552448\">58</td><td class=\"tdhistory552448\">3229</td><td class=\"tdhistory552448\">0.682445984474301</td></tr><tr><th class=\"tdhistory552448\" style= \"background: rgba(243, 243, 243, 0.75)\">29</th><td class=\"tdhistory552448\">fare_amount</td><td class=\"tdhistory552448\">58-60</td><td class=\"tdhistory552448\">58</td><td class=\"tdhistory552448\">60</td><td class=\"tdhistory552448\">458</td><td class=\"tdhistory552448\">0.09679785100316812</td></tr><tr><th class=\"tdhistory552448\" style= \"background: rgba(243, 243, 243, 0.75)\">30</th><td class=\"tdhistory552448\">fare_amount</td><td class=\"tdhistory552448\">6-8</td><td class=\"tdhistory552448\">6</td><td class=\"tdhistory552448\">8</td><td class=\"tdhistory552448\">76128</td><td class=\"tdhistory552448\">16.089578168491666</td></tr><tr><th class=\"tdhistory552448\" style= \"background: rgba(243, 243, 243, 0.75)\">31</th><td class=\"tdhistory552448\">fare_amount</td><td class=\"tdhistory552448\">60-62</td><td class=\"tdhistory552448\">60</td><td class=\"tdhistory552448\">62</td><td class=\"tdhistory552448\">638</td><td class=\"tdhistory552448\">0.13484067454153115</td></tr><tr><th class=\"tdhistory552448\" style= \"background: rgba(243, 243, 243, 0.75)\">32</th><td class=\"tdhistory552448\">fare_amount</td><td class=\"tdhistory552448\">62-64</td><td class=\"tdhistory552448\">62</td><td class=\"tdhistory552448\">64</td><td class=\"tdhistory552448\">1485</td><td class=\"tdhistory552448\">0.31385329419149494</td></tr><tr><th class=\"tdhistory552448\" style= \"background: rgba(243, 243, 243, 0.75)\">33</th><td class=\"tdhistory552448\">fare_amount</td><td class=\"tdhistory552448\">64-66</td><td class=\"tdhistory552448\">64</td><td class=\"tdhistory552448\">66</td><td class=\"tdhistory552448\">843</td><td class=\"tdhistory552448\">0.17816722357133347</td></tr><tr><th class=\"tdhistory552448\" style= \"background: rgba(243, 243, 243, 0.75)\">34</th><td class=\"tdhistory552448\">fare_amount</td><td class=\"tdhistory552448\">66-68</td><td class=\"tdhistory552448\">66</td><td class=\"tdhistory552448\">68</td><td class=\"tdhistory552448\">649</td><td class=\"tdhistory552448\">0.13716551375776445</td></tr><tr><th class=\"tdhistory552448\" style= \"background: rgba(243, 243, 243, 0.75)\">35</th><td class=\"tdhistory552448\">fare_amount</td><td class=\"tdhistory552448\">68-70</td><td class=\"tdhistory552448\">68</td><td class=\"tdhistory552448\">70</td><td class=\"tdhistory552448\">2538</td><td class=\"tdhistory552448\">0.5364038118909186</td></tr><tr><th class=\"tdhistory552448\" style= \"background: rgba(243, 243, 243, 0.75)\">36</th><td class=\"tdhistory552448\">fare_amount</td><td class=\"tdhistory552448\">70-72</td><td class=\"tdhistory552448\">70</td><td class=\"tdhistory552448\">72</td><td class=\"tdhistory552448\">201</td><td class=\"tdhistory552448\">0.04248115295117204</td></tr><tr><th class=\"tdhistory552448\" style= \"background: rgba(243, 243, 243, 0.75)\">37</th><td class=\"tdhistory552448\">fare_amount</td><td class=\"tdhistory552448\">72-74</td><td class=\"tdhistory552448\">72</td><td class=\"tdhistory552448\">74</td><td class=\"tdhistory552448\">713</td><td class=\"tdhistory552448\">0.15069185101584906</td></tr><tr><th class=\"tdhistory552448\" style= \"background: rgba(243, 243, 243, 0.75)\">38</th><td class=\"tdhistory552448\">fare_amount</td><td class=\"tdhistory552448\">74-76</td><td class=\"tdhistory552448\">74</td><td class=\"tdhistory552448\">76</td><td class=\"tdhistory552448\">267</td><td class=\"tdhistory552448\">0.05643018824857181</td></tr><tr><th class=\"tdhistory552448\" style= \"background: rgba(243, 243, 243, 0.75)\">39</th><td class=\"tdhistory552448\">fare_amount</td><td class=\"tdhistory552448\">76-78</td><td class=\"tdhistory552448\">76</td><td class=\"tdhistory552448\">78</td><td class=\"tdhistory552448\">122</td><td class=\"tdhistory552448\">0.025784580398223823</td></tr><tr><th class=\"tdhistory552448\" style= \"background: rgba(243, 243, 243, 0.75)\">40</th><td class=\"tdhistory552448\">fare_amount</td><td class=\"tdhistory552448\">78-80</td><td class=\"tdhistory552448\">78</td><td class=\"tdhistory552448\">80</td><td class=\"tdhistory552448\">115</td><td class=\"tdhistory552448\">0.024305137260620818</td></tr><tr><th class=\"tdhistory552448\" style= \"background: rgba(243, 243, 243, 0.75)\">41</th><td class=\"tdhistory552448\">fare_amount</td><td class=\"tdhistory552448\">8-10</td><td class=\"tdhistory552448\">8</td><td class=\"tdhistory552448\">10</td><td class=\"tdhistory552448\">76790</td><td class=\"tdhistory552448\">16.22949121950498</td></tr><tr><th class=\"tdhistory552448\" style= \"background: rgba(243, 243, 243, 0.75)\">42</th><td class=\"tdhistory552448\">fare_amount</td><td class=\"tdhistory552448\">80-82</td><td class=\"tdhistory552448\">80</td><td class=\"tdhistory552448\">82</td><td class=\"tdhistory552448\">125</td><td class=\"tdhistory552448\">0.026418627457196538</td></tr><tr><th class=\"tdhistory552448\" style= \"background: rgba(243, 243, 243, 0.75)\">43</th><td class=\"tdhistory552448\">fare_amount</td><td class=\"tdhistory552448\">82-84</td><td class=\"tdhistory552448\">82</td><td class=\"tdhistory552448\">84</td><td class=\"tdhistory552448\">107</td><td class=\"tdhistory552448\">0.022614345103360238</td></tr><tr><th class=\"tdhistory552448\" style= \"background: rgba(243, 243, 243, 0.75)\">44</th><td class=\"tdhistory552448\">fare_amount</td><td class=\"tdhistory552448\">84-86</td><td class=\"tdhistory552448\">84</td><td class=\"tdhistory552448\">86</td><td class=\"tdhistory552448\">100</td><td class=\"tdhistory552448\">0.021134901965757232</td></tr><tr><th class=\"tdhistory552448\" style= \"background: rgba(243, 243, 243, 0.75)\">45</th><td class=\"tdhistory552448\">fare_amount</td><td class=\"tdhistory552448\">86-88</td><td class=\"tdhistory552448\">86</td><td class=\"tdhistory552448\">88</td><td class=\"tdhistory552448\">70</td><td class=\"tdhistory552448\">0.014794431376030062</td></tr><tr><th class=\"tdhistory552448\" style= \"background: rgba(243, 243, 243, 0.75)\">46</th><td class=\"tdhistory552448\">fare_amount</td><td class=\"tdhistory552448\">88-90</td><td class=\"tdhistory552448\">88</td><td class=\"tdhistory552448\">90</td><td class=\"tdhistory552448\">76</td><td class=\"tdhistory552448\">0.016062525493975494</td></tr><tr><th class=\"tdhistory552448\" style= \"background: rgba(243, 243, 243, 0.75)\">47</th><td class=\"tdhistory552448\">fare_amount</td><td class=\"tdhistory552448\">90-92</td><td class=\"tdhistory552448\">90</td><td class=\"tdhistory552448\">92</td><td class=\"tdhistory552448\">91</td><td class=\"tdhistory552448\">0.01923276078883908</td></tr><tr><th class=\"tdhistory552448\" style= \"background: rgba(243, 243, 243, 0.75)\">48</th><td class=\"tdhistory552448\">fare_amount</td><td class=\"tdhistory552448\">92-94</td><td class=\"tdhistory552448\">92</td><td class=\"tdhistory552448\">94</td><td class=\"tdhistory552448\">61</td><td class=\"tdhistory552448\">0.012892290199111912</td></tr><tr><th class=\"tdhistory552448\" style= \"background: rgba(243, 243, 243, 0.75)\">49</th><td class=\"tdhistory552448\">fare_amount</td><td class=\"tdhistory552448\">94-96</td><td class=\"tdhistory552448\">94</td><td class=\"tdhistory552448\">96</td><td class=\"tdhistory552448\">65</td><td class=\"tdhistory552448\">0.0137376862777422</td></tr><tr><th class=\"tdhistory552448\" style= \"background: rgba(243, 243, 243, 0.75)\">50</th><td class=\"tdhistory552448\">fare_amount</td><td class=\"tdhistory552448\">96-98</td><td class=\"tdhistory552448\">96</td><td class=\"tdhistory552448\">98</td><td class=\"tdhistory552448\">81</td><td class=\"tdhistory552448\">0.01711927059226336</td></tr><tr><th class=\"tdhistory552448\" style= \"background: rgba(243, 243, 243, 0.75)\">51</th><td class=\"tdhistory552448\">fare_amount</td><td class=\"tdhistory552448\">98-100</td><td class=\"tdhistory552448\">98</td><td class=\"tdhistory552448\">100</td><td class=\"tdhistory552448\">49</td><td class=\"tdhistory552448\">0.010356101963221044</td></tr></tbody></table></div>"
      ]
     },
     "execution_count": 21,
     "metadata": {
      "application/vnd.teradata.resultset": "{\"resultSetID\":\"/home/jovyan/JupyterLabRoot/Teradata/Resultsets/2023.12.21_08.10.31.525_UTC\",\"historyID\":268,\"chunkID\":\"00001\",\"sessionid\":\"\",\"portnum\":\"\",\"dockermode\":\"docker\",\"totalRowCount\":51,\"chunkCount\":0,\"rowLimit\":0,\"columnMetadata\":[{\"columnName\":\"ColumnName\",\"columnTypeName\":\"VARCHAR\",\"length\":128,\"scale\":128},{\"columnNumber\":1,\"columnName\":\"Label\",\"columnTypeName\":\"VARCHAR\",\"length\":128,\"scale\":128},{\"columnNumber\":2,\"columnName\":\"MinValue\",\"columnTypeName\":\"FLOAT\"},{\"columnNumber\":3,\"columnName\":\"MaxValue\",\"columnTypeName\":\"FLOAT\"},{\"columnNumber\":4,\"columnName\":\"CountOfValues\",\"columnTypeName\":\"BIGINT\"},{\"columnNumber\":5,\"columnName\":\"Bin_Percent\",\"columnTypeName\":\"FLOAT\"}]}"
     },
     "output_type": "execute_result"
    }
   ],
   "source": [
    "SELECT *\n",
    "FROM TD_Histogram (\n",
    "    ON NYC_FULL_T AS InputTable\n",
    "    ON fare_amount_minmax AS minmax DIMENSION\n",
    "    USING\n",
    "    MethodType ('variable-width')\n",
    "    TargetColumn ('fare_amount')\n",
    "    nbins(51)\n",
    ") AS dt ORDER BY 2;"
   ]
  },
  {
   "cell_type": "code",
   "execution_count": 22,
   "metadata": {},
   "outputs": [
    {
     "data": {
      "application/vnd.vegalite.v3+json": {
       "$schema": "https://vega.github.io/schema/vega-lite/v3.json",
       "data": {
        "format": {
         "type": "csv"
        },
        "values": "\"ColumnName\",\"Label\",\"MinValue\",\"MaxValue\",\"CountOfValues\",\"Bin_Percent\"\n\"fare_amount\",\"0-2\",\"0\",\"2\",\"0\",\"0\"\n\"fare_amount\",\"10-12\",\"10\",\"12\",\"64684\",\"13.670899987530408\"\n\"fare_amount\",\"100\",\"100\",\"100\",\"24\",\"0.005072376471781736\"\n\"fare_amount\",\"12-14\",\"12\",\"14\",\"48762\",\"10.305800896542541\"\n\"fare_amount\",\"14-16\",\"14\",\"16\",\"35016\",\"7.400597272329552\"\n\"fare_amount\",\"16-18\",\"16\",\"18\",\"27424\",\"5.796035515089263\"\n\"fare_amount\",\"18-20\",\"18\",\"20\",\"19888\",\"4.203309302949798\"\n\"fare_amount\",\"2-4\",\"2\",\"4\",\"2477\",\"0.5235115216918066\"\n\"fare_amount\",\"20-22\",\"20\",\"22\",\"14299\",\"3.0220796320836265\"\n\"fare_amount\",\"22-24\",\"22\",\"24\",\"10916\",\"2.3070858985820597\"\n\"fare_amount\",\"24-26\",\"24\",\"26\",\"8302\",\"1.7546195611971656\"\n\"fare_amount\",\"26-28\",\"26\",\"28\",\"5910\",\"1.2490727061762523\"\n\"fare_amount\",\"28-30\",\"28\",\"30\",\"5143\",\"1.0869680080988944\"\n\"fare_amount\",\"30-32\",\"30\",\"32\",\"4328\",\"0.9147185570779729\"\n\"fare_amount\",\"32-34\",\"32\",\"34\",\"3739\",\"0.790233984499663\"\n\"fare_amount\",\"34-36\",\"34\",\"36\",\"3780\",\"0.7988992943056235\"\n\"fare_amount\",\"36-38\",\"36\",\"38\",\"3589\",\"0.7585316315510271\"\n\"fare_amount\",\"38-40\",\"38\",\"40\",\"3295\",\"0.6963950197717008\"\n\"fare_amount\",\"4-6\",\"4\",\"6\",\"33073\",\"6.98994612713489\"\n\"fare_amount\",\"40-42\",\"40\",\"42\",\"2893\",\"0.6114327138693567\"\n\"fare_amount\",\"42-44\",\"42\",\"44\",\"2220\",\"0.4691948236398106\"\n\"fare_amount\",\"44-46\",\"44\",\"46\",\"2052\",\"0.4336881883373384\"\n\"fare_amount\",\"46-48\",\"46\",\"48\",\"1478\",\"0.31237385105389187\"\n\"fare_amount\",\"48-50\",\"48\",\"50\",\"1203\",\"0.2542528706480595\"\n\"fare_amount\",\"50-52\",\"50\",\"52\",\"978\",\"0.20669934122510572\"\n\"fare_amount\",\"52-54\",\"52\",\"54\",\"1636\",\"0.3457669961597883\"\n\"fare_amount\",\"54-56\",\"54\",\"56\",\"568\",\"0.12004624316550108\"\n\"fare_amount\",\"56-58\",\"56\",\"58\",\"3229\",\"0.682445984474301\"\n\"fare_amount\",\"58-60\",\"58\",\"60\",\"458\",\"0.09679785100316812\"\n\"fare_amount\",\"6-8\",\"6\",\"8\",\"76128\",\"16.089578168491666\"\n\"fare_amount\",\"60-62\",\"60\",\"62\",\"638\",\"0.13484067454153115\"\n\"fare_amount\",\"62-64\",\"62\",\"64\",\"1485\",\"0.31385329419149494\"\n\"fare_amount\",\"64-66\",\"64\",\"66\",\"843\",\"0.17816722357133347\"\n\"fare_amount\",\"66-68\",\"66\",\"68\",\"649\",\"0.13716551375776445\"\n\"fare_amount\",\"68-70\",\"68\",\"70\",\"2538\",\"0.5364038118909186\"\n\"fare_amount\",\"70-72\",\"70\",\"72\",\"201\",\"0.04248115295117204\"\n\"fare_amount\",\"72-74\",\"72\",\"74\",\"713\",\"0.15069185101584906\"\n\"fare_amount\",\"74-76\",\"74\",\"76\",\"267\",\"0.05643018824857181\"\n\"fare_amount\",\"76-78\",\"76\",\"78\",\"122\",\"0.025784580398223823\"\n\"fare_amount\",\"78-80\",\"78\",\"80\",\"115\",\"0.024305137260620818\"\n\"fare_amount\",\"8-10\",\"8\",\"10\",\"76790\",\"16.22949121950498\"\n\"fare_amount\",\"80-82\",\"80\",\"82\",\"125\",\"0.026418627457196538\"\n\"fare_amount\",\"82-84\",\"82\",\"84\",\"107\",\"0.022614345103360238\"\n\"fare_amount\",\"84-86\",\"84\",\"86\",\"100\",\"0.021134901965757232\"\n\"fare_amount\",\"86-88\",\"86\",\"88\",\"70\",\"0.014794431376030062\"\n\"fare_amount\",\"88-90\",\"88\",\"90\",\"76\",\"0.016062525493975494\"\n\"fare_amount\",\"90-92\",\"90\",\"92\",\"91\",\"0.01923276078883908\"\n\"fare_amount\",\"92-94\",\"92\",\"94\",\"61\",\"0.012892290199111912\"\n\"fare_amount\",\"94-96\",\"94\",\"96\",\"65\",\"0.0137376862777422\"\n\"fare_amount\",\"96-98\",\"96\",\"98\",\"81\",\"0.01711927059226336\"\n\"fare_amount\",\"98-100\",\"98\",\"100\",\"49\",\"0.010356101963221044\"\n"
       },
       "encoding": {
        "x": {
         "axis": {
          "grid": true,
          "title": "MinValue"
         },
         "field": "MinValue",
         "type": "quantitative"
        },
        "y": {
         "axis": {
          "grid": true,
          "title": "bin_percent"
         },
         "field": "Bin_Percent",
         "type": "quantitative"
        }
       },
       "mark": {
        "color": "#4C78A8",
        "type": "bar"
       },
       "title": "Histogram of fare_amount (0 to 100)",
       "width": "500"
      },
      "image/png": "[encoded data removed]"
     },
     "execution_count": 22,
     "metadata": {
      "application/vnd.teradata.resultset": ""
     },
     "output_type": "execute_result"
    }
   ],
   "source": [
    "%chart x = MinValue, y = bin_percent, title = \"Histogram of fare_amount (0 to 100)\", width = 500"
   ]
  },
  {
   "cell_type": "markdown",
   "metadata": {},
   "source": [
    "<p style = 'font-size:16px;font-family:Arial;color:#00233C'>Now we have a better visualization of the distribution of majority of trips with fare in the range 1 to 100.</p>"
   ]
  },
  {
   "cell_type": "markdown",
   "metadata": {},
   "source": [
    "<hr style=\"height:2px;border:none;background-color:#00233C;\">\n",
    "<p style = 'font-size:20px;font-family:Arial;color:#00233C'><b>4. Outlier Removal</b></p>\n",
    "\n",
    "<p style = 'font-size:16px;font-family:Arial;color:#00233C'>At this point, we've identified that our data has some extreme outliers. The Histogram illustration quantifies this for fare amount, but if we inspect the other columns, we will see similar features in the data.</p>\n",
    "\n",
    "<p style = 'font-size:16px;font-family:Arial;color:#00233C'>TD_OutlierFilterFit and TD_OutlierFilterTransform can selectively modify values or remove rows representing the outlier columns.</p>\n",
    "\n",
    "<ol style = 'font-size:16px;font-family:Arial;color:#00233C'>\n",
    "    <li>Create a Fit Table using TD_OutlierFilterFit</li>\n",
    "    <li>Transform the data set using TD_OutlierFilterTransform</li>\n",
    "    <li>Compare distributions before and after</li>\n",
    "</ol>"
   ]
  },
  {
   "cell_type": "markdown",
   "metadata": {},
   "source": [
    "<hr style=\"height:1px;border:none;background-color:#00233C;\">\n",
    "<p style = 'font-size:18px;font-family:Arial;color:#00233C'><b>4.1 TD_OutlierFilterFit</b></p>\n",
    "\n",
    "<p style = 'font-size:16px;font-family:Arial;color:#00233C'><a href = 'https://docs.teradata.com/search/all?query=TD_OutlierFilterFit&content-lang=en-US'>TD_OutlierFilterFit</a> function calculates the lower_percentile, upper_percentile, count of rows and median for the specified input table columns. The calculated values for each column help the TD_OutlierFilterTransform function detect outliers in the input table.</p>\n",
    "<p style = 'font-size:16px;font-family:Arial;color:#00233C'>Some select parameters include</p>\n",
    "<ul style = 'font-size:16px;font-family:Arial;color:#00233C'>\n",
    "    <li>TargetColumns; which takes a list or a range of values/ordinals</li>\n",
    "    <li>ReplacementValue; delete, null. median, or a value</li>\n",
    "    <li>OutlierMethod; Percentile, tukey, or carling</li>\n",
    "    <li>Variable-width, which requires a MinMax table</li>   \n",
    "    <li>Other outlier identification parameters depending on OutlierMethod</li>\n",
    "    </ul>\n",
    "\n",
    "<p style = 'font-size:16px;font-family:Arial;color:#00233C'>In this case, we will use the Percentile method on our latitude/longitude on columns to delete rows containing outlier values. Additional parameter values define upper and lower percentile values and the percentile calculation method (Discrete).</p>\n",
    "<p style = 'font-size:16px;font-family:Arial;color:#00233C'><b><i>*Note that the next cell might take upto 1 minute to run.</i></b></p>"
   ]
  },
  {
   "cell_type": "code",
   "execution_count": 23,
   "metadata": {},
   "outputs": [
    {
     "data": {
      "text/plain": [
       "Success: 0 rows affected"
      ]
     },
     "execution_count": 23,
     "metadata": {
      "application/vnd.teradata.resultset": ""
     },
     "output_type": "execute_result"
    }
   ],
   "source": [
    "CREATE MULTISET TABLE OutlierFitTbl AS(\n",
    "    SELECT *\n",
    "        FROM TD_OutlierFilterFit(\n",
    "            ON NYC_FULL_T AS InputTable\n",
    "            USING\n",
    "            TargetColumns('pickup_longitude', 'pickup_latitude', 'dropoff_longitude', 'dropoff_latitude')  \n",
    "            LowerPercentile(0.02)\n",
    "            UpperPercentile(0.98)  \n",
    "            OutlierMethod('Percentile')            \n",
    "            ReplacementValue('delete')\n",
    "        ) AS dt\n",
    ") WITH DATA;"
   ]
  },
  {
   "cell_type": "code",
   "execution_count": 24,
   "metadata": {},
   "outputs": [
    {
     "data": {
      "application/vnd.teradata.resultset": "\"TD_OUTLIERMETHOD_OFTFIT\",\"TD_IQRMULTIPLIER_OFTFIT\",\"TD_REMOVETAIL_OFTFIT\",\"TD_REPLACEMENTVALUE_OFTFIT\",\"TD_MINTHRESHOLD_OFTFIT\",\"TD_MAXTHRESHOLD_OFTFIT\",\"TD_ATTRIBUTEVALUE_OFTFIT\",\"TD_COUNTVALUE_OFTFIT\",\"TD_MEDIANVALUE_OFTFIT\",\"TD_LOWERPERCENTILE_OFTFIT\",\"TD_UPPERPERCENTILE_OFTFIT\"\n\"PERCENTILE\",\"1.5\",\"BOTH\",\"DELETE\",\"0.02\",\"0.98\",\"dropoff_longitude\",\"480535\",\"-73.980759\",\"-74.011742\",\"-73.783104\"\n\"PERCENTILE\",\"1.5\",\"BOTH\",\"DELETE\",\"0.02\",\"0.98\",\"pickup_longitude\",\"480535\",\"-73.98288\",\"-74.009659\",\"-73.78244\"\n\"PERCENTILE\",\"1.5\",\"BOTH\",\"DELETE\",\"0.02\",\"0.98\",\"dropoff_latitude\",\"480535\",\"40.750923\",\"40.642056\",\"40.812504\"\n\"PERCENTILE\",\"1.5\",\"BOTH\",\"DELETE\",\"0.02\",\"0.98\",\"pickup_latitude\",\"480535\",\"40.75008\",\"40.644627\",\"40.798721\"",
      "text/html": [
       "<div class = \"td-resultset-table-div\" style = \"max-height: 100%; overflow-y: auto\">\n",
       "      <table class=\"tdhistory767561\"><style>\n",
       "      table.tdhistory767561 { display: block !important; min-height: 168px !important; overflow: auto !important; height: 168px !important; width: 100% !important; border: 1px solid rgb(207, 207, 207) !important; border-collapse: collapse !important; ; color: var(--jp-ui-font-color1) !important; }\n",
       "      th.tdhistory767561 { border: 1px solid rgb(198,198,198) !important; border-collapse: collapse !important; ; padding: 2px 5px !important; ; font-size: 13px !important; ; text-align: center !important; white-space: normal !important; color: var(--jp-ui-font-color1) !important; }\n",
       "      th.tdhistory767561:last-child { text-align: left !important; }\n",
       "      tbody.tdhistory767561 tr:nth-child(even) { background: rgba(243, 243, 243, 0.75) !important; }\n",
       "      tbody.tdhistory767561 tr:nth-child(odd) { background: var(--jp-ui-inverse-font-color1) !important; }\n",
       "      td.tdhistory767561 { border: 1px solid rgb(207, 207, 207) !important; border-collapse: collapse !important; ; padding: 2px 5px !important; ; font-size: 13px !important; ; text-align: left !important;          white-space: nowrap !important; overflow:hidden !important; text-overflow:ellipsis !important;; }\n",
       "    </style><thead><tr style= \"background: rgba(243, 243, 243, 0.75)\"><th class=\"tdhistory767561\"></th><th class=\"tdhistory767561\">TD_OUTLIERMETHOD_OFTFIT</th><th class=\"tdhistory767561\">TD_IQRMULTIPLIER_OFTFIT</th><th class=\"tdhistory767561\">TD_REMOVETAIL_OFTFIT</th><th class=\"tdhistory767561\">TD_REPLACEMENTVALUE_OFTFIT</th><th class=\"tdhistory767561\">TD_MINTHRESHOLD_OFTFIT</th><th class=\"tdhistory767561\">TD_MAXTHRESHOLD_OFTFIT</th><th class=\"tdhistory767561\">TD_ATTRIBUTEVALUE_OFTFIT</th><th class=\"tdhistory767561\">TD_COUNTVALUE_OFTFIT</th><th class=\"tdhistory767561\">TD_MEDIANVALUE_OFTFIT</th><th class=\"tdhistory767561\">TD_LOWERPERCENTILE_OFTFIT</th><th class=\"tdhistory767561\">TD_UPPERPERCENTILE_OFTFIT</th></tr></thead><tbody class=\"tdhistory767561 resultset-body\"><tr><th class=\"tdhistory767561\" style= \"background: rgba(243, 243, 243, 0.75)\">1</th><td class=\"tdhistory767561\">PERCENTILE</td><td class=\"tdhistory767561\">1.5</td><td class=\"tdhistory767561\">BOTH</td><td class=\"tdhistory767561\">DELETE</td><td class=\"tdhistory767561\">0.02</td><td class=\"tdhistory767561\">0.98</td><td class=\"tdhistory767561\">dropoff_longitude</td><td class=\"tdhistory767561\">480535</td><td class=\"tdhistory767561\">-73.980759</td><td class=\"tdhistory767561\">-74.011742</td><td class=\"tdhistory767561\">-73.783104</td></tr><tr><th class=\"tdhistory767561\" style= \"background: rgba(243, 243, 243, 0.75)\">2</th><td class=\"tdhistory767561\">PERCENTILE</td><td class=\"tdhistory767561\">1.5</td><td class=\"tdhistory767561\">BOTH</td><td class=\"tdhistory767561\">DELETE</td><td class=\"tdhistory767561\">0.02</td><td class=\"tdhistory767561\">0.98</td><td class=\"tdhistory767561\">pickup_longitude</td><td class=\"tdhistory767561\">480535</td><td class=\"tdhistory767561\">-73.98288</td><td class=\"tdhistory767561\">-74.009659</td><td class=\"tdhistory767561\">-73.78244</td></tr><tr><th class=\"tdhistory767561\" style= \"background: rgba(243, 243, 243, 0.75)\">3</th><td class=\"tdhistory767561\">PERCENTILE</td><td class=\"tdhistory767561\">1.5</td><td class=\"tdhistory767561\">BOTH</td><td class=\"tdhistory767561\">DELETE</td><td class=\"tdhistory767561\">0.02</td><td class=\"tdhistory767561\">0.98</td><td class=\"tdhistory767561\">dropoff_latitude</td><td class=\"tdhistory767561\">480535</td><td class=\"tdhistory767561\">40.750923</td><td class=\"tdhistory767561\">40.642056</td><td class=\"tdhistory767561\">40.812504</td></tr><tr><th class=\"tdhistory767561\" style= \"background: rgba(243, 243, 243, 0.75)\">4</th><td class=\"tdhistory767561\">PERCENTILE</td><td class=\"tdhistory767561\">1.5</td><td class=\"tdhistory767561\">BOTH</td><td class=\"tdhistory767561\">DELETE</td><td class=\"tdhistory767561\">0.02</td><td class=\"tdhistory767561\">0.98</td><td class=\"tdhistory767561\">pickup_latitude</td><td class=\"tdhistory767561\">480535</td><td class=\"tdhistory767561\">40.75008</td><td class=\"tdhistory767561\">40.644627</td><td class=\"tdhistory767561\">40.798721</td></tr></tbody></table></div>"
      ]
     },
     "execution_count": 24,
     "metadata": {
      "application/vnd.teradata.resultset": "{\"resultSetID\":\"/home/jovyan/JupyterLabRoot/Teradata/Resultsets/2023.12.21_08.11.11.150_UTC\",\"historyID\":270,\"chunkID\":\"00001\",\"sessionid\":\"\",\"portnum\":\"\",\"dockermode\":\"docker\",\"totalRowCount\":4,\"chunkCount\":0,\"rowLimit\":0,\"columnMetadata\":[{\"columnName\":\"TD_OUTLIERMETHOD_OFTFIT\",\"columnTypeName\":\"VARCHAR\",\"length\":30,\"scale\":30},{\"columnNumber\":1,\"columnName\":\"TD_IQRMULTIPLIER_OFTFIT\",\"columnTypeName\":\"FLOAT\"},{\"columnNumber\":2,\"columnName\":\"TD_REMOVETAIL_OFTFIT\",\"columnTypeName\":\"VARCHAR\",\"length\":30,\"scale\":30},{\"columnNumber\":3,\"columnName\":\"TD_REPLACEMENTVALUE_OFTFIT\",\"columnTypeName\":\"VARCHAR\",\"length\":50,\"scale\":50},{\"columnNumber\":4,\"columnName\":\"TD_MINTHRESHOLD_OFTFIT\",\"columnTypeName\":\"FLOAT\"},{\"columnNumber\":5,\"columnName\":\"TD_MAXTHRESHOLD_OFTFIT\",\"columnTypeName\":\"FLOAT\"},{\"columnNumber\":6,\"columnName\":\"TD_ATTRIBUTEVALUE_OFTFIT\",\"columnTypeName\":\"VARCHAR\",\"length\":128,\"scale\":128},{\"columnNumber\":7,\"columnName\":\"TD_COUNTVALUE_OFTFIT\",\"columnTypeName\":\"BIGINT\"},{\"columnNumber\":8,\"columnName\":\"TD_MEDIANVALUE_OFTFIT\",\"columnTypeName\":\"FLOAT\"},{\"columnNumber\":9,\"columnName\":\"TD_LOWERPERCENTILE_OFTFIT\",\"columnTypeName\":\"FLOAT\"},{\"columnNumber\":10,\"columnName\":\"TD_UPPERPERCENTILE_OFTFIT\",\"columnTypeName\":\"FLOAT\"}]}"
     },
     "output_type": "execute_result"
    }
   ],
   "source": [
    "SELECT TOP 5 * FROM OutlierFitTbl;"
   ]
  },
  {
   "cell_type": "markdown",
   "metadata": {},
   "source": [
    "<p style = 'font-size:16px;font-family:Arial;color:#00233C'>The above calculated values for each column in the OutlierFitTbl will help in removing outliers from the original data set.</p>"
   ]
  },
  {
   "cell_type": "markdown",
   "metadata": {},
   "source": [
    "<hr style=\"height:1px;border:none;background-color:#00233C;\">\n",
    "<p style = 'font-size:18px;font-family:Arial;color:#00233C'><b>4.2 TD_OutlierFilterTransform</b></p>\n",
    "\n",
    "<p style = 'font-size:16px;font-family:Arial;color:#00233C'><a href = 'https://docs.teradata.com/search/all?query=TD_OutlierFilterTransform&content-lang=en-USm'>TD_OutlierFilterTransform</a> filters outliers from the input table. The metrics for determining outliers come from TD_OutlierFilterFit output, i.e. OutlierFitTbl in our case.</p>\n",
    "\n",
    "<p style = 'font-size:16px;font-family:Arial;color:#00233C'>Here, we create a View to save on space and allow for before and after comparison. This view has no outliers w.r.t. 'pickup_longitude', 'pickup_latitude', 'dropoff_longitude', 'dropoff_latitude'.</p>"
   ]
  },
  {
   "cell_type": "code",
   "execution_count": 25,
   "metadata": {},
   "outputs": [
    {
     "data": {
      "text/plain": [
       "Success: 0 rows affected"
      ]
     },
     "execution_count": 25,
     "metadata": {
      "application/vnd.teradata.resultset": ""
     },
     "output_type": "execute_result"
    }
   ],
   "source": [
    "REPLACE VIEW latlong_no_outliers AS (\n",
    "    SELECT *\n",
    "        FROM TD_OutlierFilterTransform(\n",
    "        ON NYC_FULL_T AS InputTable PARTITION BY ANY\n",
    "        ON OutlierFitTbl AS FitTable DIMENSION \n",
    "        ) AS dt\n",
    ");"
   ]
  },
  {
   "cell_type": "markdown",
   "metadata": {},
   "source": [
    "<hr style=\"height:1px;border:none;background-color:#00233C;\">\n",
    "<p style = 'font-size:18px;font-family:Arial;color:#00233C'><b>4.3 Before and After Comparison</b></p>\n",
    "\n",
    "<p style = 'font-size:16px;font-family:Arial;color:#00233C'>Use TD_Histogram to visualize the distributions of data before and after transformation. Use the <b>Pickup Latitude</b> column as a good example.</p>"
   ]
  },
  {
   "cell_type": "code",
   "execution_count": 26,
   "metadata": {},
   "outputs": [
    {
     "data": {
      "application/vnd.teradata.resultset": "\"ColumnName\",\"Label\",\"MinValue\",\"MaxValue\",\"CountOfValues\",\"Bin_Percent\"\n\"pickup_latitude\",\"3\",\"15\",\"20\",\"0\",\"0\"\n\"pickup_latitude\",\"8\",\"40\",\"45\",\"473779\",\"98.59406702945675\"\n\"pickup_latitude\",\"5\",\"25\",\"30\",\"0\",\"0\"\n\"pickup_latitude\",\"2\",\"10\",\"15\",\"0\",\"0\"\n\"pickup_latitude\",\"1\",\"5\",\"10\",\"0\",\"0\"\n\"pickup_latitude\",\"9\",\"45\",\"50\",\"1\",\"0.00020810138699574432\"\n\"pickup_latitude\",\"7\",\"35\",\"40\",\"1\",\"0.00020810138699574432\"\n\"pickup_latitude\",\"4\",\"20\",\"25\",\"1\",\"0.00020810138699574432\"\n\"pickup_latitude\",\"6\",\"30\",\"35\",\"5\",\"0.0010405069349787215\"\n\"pickup_latitude\",\"0\",\"0\",\"5\",\"6748\",\"1.4042681594472826\"",
      "text/html": [
       "<div class = \"td-resultset-table-div\" style = \"max-height: 100%; overflow-y: auto\">\n",
       "      <table class=\"tdhistory533269\"><style>\n",
       "      table.tdhistory533269 { display: block !important; min-height: 294px !important; overflow: auto !important; height: 294px !important; width: 100% !important; border: 1px solid rgb(207, 207, 207) !important; border-collapse: collapse !important; ; color: var(--jp-ui-font-color1) !important; }\n",
       "      th.tdhistory533269 { border: 1px solid rgb(198,198,198) !important; border-collapse: collapse !important; ; padding: 2px 5px !important; ; font-size: 13px !important; ; text-align: center !important; white-space: normal !important; color: var(--jp-ui-font-color1) !important; }\n",
       "      th.tdhistory533269:last-child { text-align: left !important; }\n",
       "      tbody.tdhistory533269 tr:nth-child(even) { background: rgba(243, 243, 243, 0.75) !important; }\n",
       "      tbody.tdhistory533269 tr:nth-child(odd) { background: var(--jp-ui-inverse-font-color1) !important; }\n",
       "      td.tdhistory533269 { border: 1px solid rgb(207, 207, 207) !important; border-collapse: collapse !important; ; padding: 2px 5px !important; ; font-size: 13px !important; ; text-align: left !important;          white-space: nowrap !important; overflow:hidden !important; text-overflow:ellipsis !important;; }\n",
       "    </style><thead><tr style= \"background: rgba(243, 243, 243, 0.75)\"><th class=\"tdhistory533269\"></th><th class=\"tdhistory533269\">ColumnName</th><th class=\"tdhistory533269\">Label</th><th class=\"tdhistory533269\">MinValue</th><th class=\"tdhistory533269\">MaxValue</th><th class=\"tdhistory533269\">CountOfValues</th><th class=\"tdhistory533269\">Bin_Percent</th></tr></thead><tbody class=\"tdhistory533269 resultset-body\"><tr><th class=\"tdhistory533269\" style= \"background: rgba(243, 243, 243, 0.75)\">1</th><td class=\"tdhistory533269\">pickup_latitude</td><td class=\"tdhistory533269\">3</td><td class=\"tdhistory533269\">15</td><td class=\"tdhistory533269\">20</td><td class=\"tdhistory533269\">0</td><td class=\"tdhistory533269\">0</td></tr><tr><th class=\"tdhistory533269\" style= \"background: rgba(243, 243, 243, 0.75)\">2</th><td class=\"tdhistory533269\">pickup_latitude</td><td class=\"tdhistory533269\">8</td><td class=\"tdhistory533269\">40</td><td class=\"tdhistory533269\">45</td><td class=\"tdhistory533269\">473779</td><td class=\"tdhistory533269\">98.59406702945675</td></tr><tr><th class=\"tdhistory533269\" style= \"background: rgba(243, 243, 243, 0.75)\">3</th><td class=\"tdhistory533269\">pickup_latitude</td><td class=\"tdhistory533269\">5</td><td class=\"tdhistory533269\">25</td><td class=\"tdhistory533269\">30</td><td class=\"tdhistory533269\">0</td><td class=\"tdhistory533269\">0</td></tr><tr><th class=\"tdhistory533269\" style= \"background: rgba(243, 243, 243, 0.75)\">4</th><td class=\"tdhistory533269\">pickup_latitude</td><td class=\"tdhistory533269\">2</td><td class=\"tdhistory533269\">10</td><td class=\"tdhistory533269\">15</td><td class=\"tdhistory533269\">0</td><td class=\"tdhistory533269\">0</td></tr><tr><th class=\"tdhistory533269\" style= \"background: rgba(243, 243, 243, 0.75)\">5</th><td class=\"tdhistory533269\">pickup_latitude</td><td class=\"tdhistory533269\">1</td><td class=\"tdhistory533269\">5</td><td class=\"tdhistory533269\">10</td><td class=\"tdhistory533269\">0</td><td class=\"tdhistory533269\">0</td></tr><tr><th class=\"tdhistory533269\" style= \"background: rgba(243, 243, 243, 0.75)\">6</th><td class=\"tdhistory533269\">pickup_latitude</td><td class=\"tdhistory533269\">9</td><td class=\"tdhistory533269\">45</td><td class=\"tdhistory533269\">50</td><td class=\"tdhistory533269\">1</td><td class=\"tdhistory533269\">0.00020810138699574432</td></tr><tr><th class=\"tdhistory533269\" style= \"background: rgba(243, 243, 243, 0.75)\">7</th><td class=\"tdhistory533269\">pickup_latitude</td><td class=\"tdhistory533269\">7</td><td class=\"tdhistory533269\">35</td><td class=\"tdhistory533269\">40</td><td class=\"tdhistory533269\">1</td><td class=\"tdhistory533269\">0.00020810138699574432</td></tr><tr><th class=\"tdhistory533269\" style= \"background: rgba(243, 243, 243, 0.75)\">8</th><td class=\"tdhistory533269\">pickup_latitude</td><td class=\"tdhistory533269\">4</td><td class=\"tdhistory533269\">20</td><td class=\"tdhistory533269\">25</td><td class=\"tdhistory533269\">1</td><td class=\"tdhistory533269\">0.00020810138699574432</td></tr><tr><th class=\"tdhistory533269\" style= \"background: rgba(243, 243, 243, 0.75)\">9</th><td class=\"tdhistory533269\">pickup_latitude</td><td class=\"tdhistory533269\">6</td><td class=\"tdhistory533269\">30</td><td class=\"tdhistory533269\">35</td><td class=\"tdhistory533269\">5</td><td class=\"tdhistory533269\">0.0010405069349787215</td></tr><tr><th class=\"tdhistory533269\" style= \"background: rgba(243, 243, 243, 0.75)\">10</th><td class=\"tdhistory533269\">pickup_latitude</td><td class=\"tdhistory533269\">0</td><td class=\"tdhistory533269\">0</td><td class=\"tdhistory533269\">5</td><td class=\"tdhistory533269\">6748</td><td class=\"tdhistory533269\">1.4042681594472826</td></tr></tbody></table></div>"
      ]
     },
     "execution_count": 26,
     "metadata": {
      "application/vnd.teradata.resultset": "{\"resultSetID\":\"/home/jovyan/JupyterLabRoot/Teradata/Resultsets/2023.12.21_08.11.12.990_UTC\",\"historyID\":272,\"chunkID\":\"00001\",\"sessionid\":\"\",\"portnum\":\"\",\"dockermode\":\"docker\",\"totalRowCount\":10,\"chunkCount\":0,\"rowLimit\":0,\"columnMetadata\":[{\"columnName\":\"ColumnName\",\"columnTypeName\":\"VARCHAR\",\"length\":128,\"scale\":128},{\"columnNumber\":1,\"columnName\":\"Label\",\"columnTypeName\":\"BIGINT\"},{\"columnNumber\":2,\"columnName\":\"MinValue\",\"columnTypeName\":\"FLOAT\"},{\"columnNumber\":3,\"columnName\":\"MaxValue\",\"columnTypeName\":\"FLOAT\"},{\"columnNumber\":4,\"columnName\":\"CountOfValues\",\"columnTypeName\":\"BIGINT\"},{\"columnNumber\":5,\"columnName\":\"Bin_Percent\",\"columnTypeName\":\"FLOAT\"}]}"
     },
     "output_type": "execute_result"
    }
   ],
   "source": [
    "SELECT *\n",
    "    FROM TD_Histogram (\n",
    "    ON NYC_FULL_T  AS InputTable\n",
    "    USING\n",
    "    MethodType ('Sturges')\n",
    "    TargetColumn ('pickup_latitude')\n",
    ") AS dt ORDER BY 1;"
   ]
  },
  {
   "cell_type": "code",
   "execution_count": 27,
   "metadata": {},
   "outputs": [
    {
     "data": {
      "application/vnd.vegalite.v3+json": {
       "$schema": "https://vega.github.io/schema/vega-lite/v3.json",
       "data": {
        "format": {
         "type": "csv"
        },
        "values": "\"ColumnName\",\"Label\",\"MinValue\",\"MaxValue\",\"CountOfValues\",\"Bin_Percent\"\n\"pickup_latitude\",\"3\",\"15\",\"20\",\"0\",\"0\"\n\"pickup_latitude\",\"8\",\"40\",\"45\",\"473779\",\"98.59406702945675\"\n\"pickup_latitude\",\"5\",\"25\",\"30\",\"0\",\"0\"\n\"pickup_latitude\",\"2\",\"10\",\"15\",\"0\",\"0\"\n\"pickup_latitude\",\"1\",\"5\",\"10\",\"0\",\"0\"\n\"pickup_latitude\",\"9\",\"45\",\"50\",\"1\",\"0.00020810138699574432\"\n\"pickup_latitude\",\"7\",\"35\",\"40\",\"1\",\"0.00020810138699574432\"\n\"pickup_latitude\",\"4\",\"20\",\"25\",\"1\",\"0.00020810138699574432\"\n\"pickup_latitude\",\"6\",\"30\",\"35\",\"5\",\"0.0010405069349787215\"\n\"pickup_latitude\",\"0\",\"0\",\"5\",\"6748\",\"1.4042681594472826\"\n"
       },
       "encoding": {
        "x": {
         "axis": {
          "grid": true,
          "title": "MinValue"
         },
         "field": "MinValue",
         "type": "quantitative"
        },
        "y": {
         "axis": {
          "grid": true,
          "title": "bin_percent"
         },
         "field": "Bin_Percent",
         "type": "quantitative"
        }
       },
       "mark": {
        "color": "#4C78A8",
        "type": "bar"
       },
       "title": "Histogram of pickup_latitude Raw"
      },
      "image/png": "[encoded data removed]"
     },
     "execution_count": 27,
     "metadata": {
      "application/vnd.teradata.resultset": ""
     },
     "output_type": "execute_result"
    }
   ],
   "source": [
    "%chart x = MinValue, y = bin_percent, title = \"Histogram of pickup_latitude Raw\""
   ]
  },
  {
   "cell_type": "markdown",
   "metadata": {},
   "source": [
    "<p style = 'font-size:16px;font-family:Arial;color:#00233C'>This graph shows that a staggering 98.6% of rides were having pickup_lattitude between 40-45. Nearly 1.4% of rides have pickup_latitude outside the 40-45 range. This implies that these are outliers and might give incorrect results if used further in the analysis. These outliers may point to a geographic location that the company doesn't cater to. Hence we should remove these outliers.</p>"
   ]
  },
  {
   "cell_type": "markdown",
   "metadata": {},
   "source": [
    "<hr style=\"height:1px;border:none;background-color:#00233C;\">\n",
    "<p style = 'font-size:18px;font-family:Arial;color:#00233C'><b>After Outlier Removal Comparison</b></p>\n",
    "\n",
    "<p style = 'font-size:16px;font-family:Arial;color:#00233C'>Use the <b>View</b> created above instead of the raw data. We will see a striking difference in the distribution of data.</p>"
   ]
  },
  {
   "cell_type": "code",
   "execution_count": 28,
   "metadata": {},
   "outputs": [
    {
     "data": {
      "application/vnd.teradata.resultset": "\"ColumnName\",\"Label\",\"MinValue\",\"MaxValue\",\"CountOfValues\",\"Bin_Percent\"\n\"pickup_latitude\",\"3\",\"40.67\",\"40.68\",\"1813\",\"0.42226719987702316\"\n\"pickup_latitude\",\"8\",\"40.72\",\"40.730000000000004\",\"49453\",\"11.518135595983688\"\n\"pickup_latitude\",\"5\",\"40.69\",\"40.7\",\"2417\",\"0.5629452962508356\"\n\"pickup_latitude\",\"2\",\"40.660000000000004\",\"40.67\",\"525\",\"0.12227814668253566\"\n\"pickup_latitude\",\"1\",\"40.65\",\"40.660000000000004\",\"245\",\"0.05706313511851664\"\n\"pickup_latitude\",\"11\",\"40.75\",\"40.76\",\"71013\",\"16.53969148641315\"\n\"pickup_latitude\",\"13\",\"40.77\",\"40.78\",\"48576\",\"11.313872863334955\"\n\"pickup_latitude\",\"10\",\"40.74\",\"40.75\",\"66795\",\"15.55727391935232\"\n\"pickup_latitude\",\"9\",\"40.730000000000004\",\"40.74\",\"52597\",\"12.250407011545386\"\n\"pickup_latitude\",\"12\",\"40.76\",\"40.77\",\"68382\",\"15.92690328846696\"\n\"pickup_latitude\",\"7\",\"40.71\",\"40.72\",\"23882\",\"5.56237466489965\"\n\"pickup_latitude\",\"4\",\"40.68\",\"40.69\",\"3450\",\"0.8035421067709486\"\n\"pickup_latitude\",\"14\",\"40.78\",\"40.79\",\"23969\",\"5.582637900635613\"\n\"pickup_latitude\",\"15\",\"40.79\",\"40.8\",\"9122\",\"2.1246119124535054\"\n\"pickup_latitude\",\"6\",\"40.7\",\"40.71\",\"4531\",\"1.055318633559179\"\n\"pickup_latitude\",\"0\",\"40.64\",\"40.65\",\"2579\",\"0.6006768386557323\"",
      "text/html": [
       "<div class = \"td-resultset-table-div\" style = \"max-height: 100%; overflow-y: auto\">\n",
       "      <table class=\"tdhistory895255\"><style>\n",
       "      table.tdhistory895255 { display: block !important; min-height: 420px !important; overflow: auto !important; height: 420px !important; width: 100% !important; border: 1px solid rgb(207, 207, 207) !important; border-collapse: collapse !important; ; color: var(--jp-ui-font-color1) !important; }\n",
       "      th.tdhistory895255 { border: 1px solid rgb(198,198,198) !important; border-collapse: collapse !important; ; padding: 2px 5px !important; ; font-size: 13px !important; ; text-align: center !important; white-space: normal !important; color: var(--jp-ui-font-color1) !important; }\n",
       "      th.tdhistory895255:last-child { text-align: left !important; }\n",
       "      tbody.tdhistory895255 tr:nth-child(even) { background: rgba(243, 243, 243, 0.75) !important; }\n",
       "      tbody.tdhistory895255 tr:nth-child(odd) { background: var(--jp-ui-inverse-font-color1) !important; }\n",
       "      td.tdhistory895255 { border: 1px solid rgb(207, 207, 207) !important; border-collapse: collapse !important; ; padding: 2px 5px !important; ; font-size: 13px !important; ; text-align: left !important;          white-space: nowrap !important; overflow:hidden !important; text-overflow:ellipsis !important;; }\n",
       "    </style><thead><tr style= \"background: rgba(243, 243, 243, 0.75)\"><th class=\"tdhistory895255\"></th><th class=\"tdhistory895255\">ColumnName</th><th class=\"tdhistory895255\">Label</th><th class=\"tdhistory895255\">MinValue</th><th class=\"tdhistory895255\">MaxValue</th><th class=\"tdhistory895255\">CountOfValues</th><th class=\"tdhistory895255\">Bin_Percent</th></tr></thead><tbody class=\"tdhistory895255 resultset-body\"><tr><th class=\"tdhistory895255\" style= \"background: rgba(243, 243, 243, 0.75)\">1</th><td class=\"tdhistory895255\">pickup_latitude</td><td class=\"tdhistory895255\">3</td><td class=\"tdhistory895255\">40.67</td><td class=\"tdhistory895255\">40.68</td><td class=\"tdhistory895255\">1813</td><td class=\"tdhistory895255\">0.42226719987702316</td></tr><tr><th class=\"tdhistory895255\" style= \"background: rgba(243, 243, 243, 0.75)\">2</th><td class=\"tdhistory895255\">pickup_latitude</td><td class=\"tdhistory895255\">8</td><td class=\"tdhistory895255\">40.72</td><td class=\"tdhistory895255\">40.730000000000004</td><td class=\"tdhistory895255\">49453</td><td class=\"tdhistory895255\">11.518135595983688</td></tr><tr><th class=\"tdhistory895255\" style= \"background: rgba(243, 243, 243, 0.75)\">3</th><td class=\"tdhistory895255\">pickup_latitude</td><td class=\"tdhistory895255\">5</td><td class=\"tdhistory895255\">40.69</td><td class=\"tdhistory895255\">40.7</td><td class=\"tdhistory895255\">2417</td><td class=\"tdhistory895255\">0.5629452962508356</td></tr><tr><th class=\"tdhistory895255\" style= \"background: rgba(243, 243, 243, 0.75)\">4</th><td class=\"tdhistory895255\">pickup_latitude</td><td class=\"tdhistory895255\">2</td><td class=\"tdhistory895255\">40.660000000000004</td><td class=\"tdhistory895255\">40.67</td><td class=\"tdhistory895255\">525</td><td class=\"tdhistory895255\">0.12227814668253566</td></tr><tr><th class=\"tdhistory895255\" style= \"background: rgba(243, 243, 243, 0.75)\">5</th><td class=\"tdhistory895255\">pickup_latitude</td><td class=\"tdhistory895255\">1</td><td class=\"tdhistory895255\">40.65</td><td class=\"tdhistory895255\">40.660000000000004</td><td class=\"tdhistory895255\">245</td><td class=\"tdhistory895255\">0.05706313511851664</td></tr><tr><th class=\"tdhistory895255\" style= \"background: rgba(243, 243, 243, 0.75)\">6</th><td class=\"tdhistory895255\">pickup_latitude</td><td class=\"tdhistory895255\">11</td><td class=\"tdhistory895255\">40.75</td><td class=\"tdhistory895255\">40.76</td><td class=\"tdhistory895255\">71013</td><td class=\"tdhistory895255\">16.53969148641315</td></tr><tr><th class=\"tdhistory895255\" style= \"background: rgba(243, 243, 243, 0.75)\">7</th><td class=\"tdhistory895255\">pickup_latitude</td><td class=\"tdhistory895255\">13</td><td class=\"tdhistory895255\">40.77</td><td class=\"tdhistory895255\">40.78</td><td class=\"tdhistory895255\">48576</td><td class=\"tdhistory895255\">11.313872863334955</td></tr><tr><th class=\"tdhistory895255\" style= \"background: rgba(243, 243, 243, 0.75)\">8</th><td class=\"tdhistory895255\">pickup_latitude</td><td class=\"tdhistory895255\">10</td><td class=\"tdhistory895255\">40.74</td><td class=\"tdhistory895255\">40.75</td><td class=\"tdhistory895255\">66795</td><td class=\"tdhistory895255\">15.55727391935232</td></tr><tr><th class=\"tdhistory895255\" style= \"background: rgba(243, 243, 243, 0.75)\">9</th><td class=\"tdhistory895255\">pickup_latitude</td><td class=\"tdhistory895255\">9</td><td class=\"tdhistory895255\">40.730000000000004</td><td class=\"tdhistory895255\">40.74</td><td class=\"tdhistory895255\">52597</td><td class=\"tdhistory895255\">12.250407011545386</td></tr><tr><th class=\"tdhistory895255\" style= \"background: rgba(243, 243, 243, 0.75)\">10</th><td class=\"tdhistory895255\">pickup_latitude</td><td class=\"tdhistory895255\">12</td><td class=\"tdhistory895255\">40.76</td><td class=\"tdhistory895255\">40.77</td><td class=\"tdhistory895255\">68382</td><td class=\"tdhistory895255\">15.92690328846696</td></tr><tr><th class=\"tdhistory895255\" style= \"background: rgba(243, 243, 243, 0.75)\">11</th><td class=\"tdhistory895255\">pickup_latitude</td><td class=\"tdhistory895255\">7</td><td class=\"tdhistory895255\">40.71</td><td class=\"tdhistory895255\">40.72</td><td class=\"tdhistory895255\">23882</td><td class=\"tdhistory895255\">5.56237466489965</td></tr><tr><th class=\"tdhistory895255\" style= \"background: rgba(243, 243, 243, 0.75)\">12</th><td class=\"tdhistory895255\">pickup_latitude</td><td class=\"tdhistory895255\">4</td><td class=\"tdhistory895255\">40.68</td><td class=\"tdhistory895255\">40.69</td><td class=\"tdhistory895255\">3450</td><td class=\"tdhistory895255\">0.8035421067709486</td></tr><tr><th class=\"tdhistory895255\" style= \"background: rgba(243, 243, 243, 0.75)\">13</th><td class=\"tdhistory895255\">pickup_latitude</td><td class=\"tdhistory895255\">14</td><td class=\"tdhistory895255\">40.78</td><td class=\"tdhistory895255\">40.79</td><td class=\"tdhistory895255\">23969</td><td class=\"tdhistory895255\">5.582637900635613</td></tr><tr><th class=\"tdhistory895255\" style= \"background: rgba(243, 243, 243, 0.75)\">14</th><td class=\"tdhistory895255\">pickup_latitude</td><td class=\"tdhistory895255\">15</td><td class=\"tdhistory895255\">40.79</td><td class=\"tdhistory895255\">40.8</td><td class=\"tdhistory895255\">9122</td><td class=\"tdhistory895255\">2.1246119124535054</td></tr><tr><th class=\"tdhistory895255\" style= \"background: rgba(243, 243, 243, 0.75)\">15</th><td class=\"tdhistory895255\">pickup_latitude</td><td class=\"tdhistory895255\">6</td><td class=\"tdhistory895255\">40.7</td><td class=\"tdhistory895255\">40.71</td><td class=\"tdhistory895255\">4531</td><td class=\"tdhistory895255\">1.055318633559179</td></tr><tr><th class=\"tdhistory895255\" style= \"background: rgba(243, 243, 243, 0.75)\">16</th><td class=\"tdhistory895255\">pickup_latitude</td><td class=\"tdhistory895255\">0</td><td class=\"tdhistory895255\">40.64</td><td class=\"tdhistory895255\">40.65</td><td class=\"tdhistory895255\">2579</td><td class=\"tdhistory895255\">0.6006768386557323</td></tr></tbody></table></div>"
      ]
     },
     "execution_count": 28,
     "metadata": {
      "application/vnd.teradata.resultset": "{\"resultSetID\":\"/home/jovyan/JupyterLabRoot/Teradata/Resultsets/2023.12.21_08.11.17.880_UTC\",\"historyID\":273,\"chunkID\":\"00001\",\"sessionid\":\"\",\"portnum\":\"\",\"dockermode\":\"docker\",\"totalRowCount\":16,\"chunkCount\":0,\"rowLimit\":0,\"columnMetadata\":[{\"columnName\":\"ColumnName\",\"columnTypeName\":\"VARCHAR\",\"length\":128,\"scale\":128},{\"columnNumber\":1,\"columnName\":\"Label\",\"columnTypeName\":\"BIGINT\"},{\"columnNumber\":2,\"columnName\":\"MinValue\",\"columnTypeName\":\"FLOAT\"},{\"columnNumber\":3,\"columnName\":\"MaxValue\",\"columnTypeName\":\"FLOAT\"},{\"columnNumber\":4,\"columnName\":\"CountOfValues\",\"columnTypeName\":\"BIGINT\"},{\"columnNumber\":5,\"columnName\":\"Bin_Percent\",\"columnTypeName\":\"FLOAT\"}]}"
     },
     "output_type": "execute_result"
    }
   ],
   "source": [
    "SELECT *\n",
    "    FROM TD_Histogram (\n",
    "    ON latlong_no_outliers AS InputTable\n",
    "    USING\n",
    "    MethodType ('Sturges')\n",
    "    TargetColumn ('pickup_latitude')\n",
    ") AS dt ORDER BY 1;"
   ]
  },
  {
   "cell_type": "code",
   "execution_count": 29,
   "metadata": {},
   "outputs": [
    {
     "data": {
      "application/vnd.vegalite.v3+json": {
       "$schema": "https://vega.github.io/schema/vega-lite/v3.json",
       "data": {
        "format": {
         "type": "csv"
        },
        "values": "\"ColumnName\",\"Label\",\"MinValue\",\"MaxValue\",\"CountOfValues\",\"Bin_Percent\"\n\"pickup_latitude\",\"3\",\"40.67\",\"40.68\",\"1813\",\"0.42226719987702316\"\n\"pickup_latitude\",\"8\",\"40.72\",\"40.730000000000004\",\"49453\",\"11.518135595983688\"\n\"pickup_latitude\",\"5\",\"40.69\",\"40.7\",\"2417\",\"0.5629452962508356\"\n\"pickup_latitude\",\"2\",\"40.660000000000004\",\"40.67\",\"525\",\"0.12227814668253566\"\n\"pickup_latitude\",\"1\",\"40.65\",\"40.660000000000004\",\"245\",\"0.05706313511851664\"\n\"pickup_latitude\",\"11\",\"40.75\",\"40.76\",\"71013\",\"16.53969148641315\"\n\"pickup_latitude\",\"13\",\"40.77\",\"40.78\",\"48576\",\"11.313872863334955\"\n\"pickup_latitude\",\"10\",\"40.74\",\"40.75\",\"66795\",\"15.55727391935232\"\n\"pickup_latitude\",\"9\",\"40.730000000000004\",\"40.74\",\"52597\",\"12.250407011545386\"\n\"pickup_latitude\",\"12\",\"40.76\",\"40.77\",\"68382\",\"15.92690328846696\"\n\"pickup_latitude\",\"7\",\"40.71\",\"40.72\",\"23882\",\"5.56237466489965\"\n\"pickup_latitude\",\"4\",\"40.68\",\"40.69\",\"3450\",\"0.8035421067709486\"\n\"pickup_latitude\",\"14\",\"40.78\",\"40.79\",\"23969\",\"5.582637900635613\"\n\"pickup_latitude\",\"15\",\"40.79\",\"40.8\",\"9122\",\"2.1246119124535054\"\n\"pickup_latitude\",\"6\",\"40.7\",\"40.71\",\"4531\",\"1.055318633559179\"\n\"pickup_latitude\",\"0\",\"40.64\",\"40.65\",\"2579\",\"0.6006768386557323\"\n"
       },
       "encoding": {
        "x": {
         "axis": {
          "grid": true,
          "title": "MinValue"
         },
         "field": "MinValue",
         "type": "quantitative"
        },
        "y": {
         "axis": {
          "grid": true,
          "title": "bin_percent"
         },
         "field": "Bin_Percent",
         "type": "quantitative"
        }
       },
       "mark": {
        "color": "#4C78A8",
        "type": "bar"
       },
       "title": "Histogram of pickup_latitude Filtered"
      },
      "image/png": "[encoded data removed]"
     },
     "execution_count": 29,
     "metadata": {
      "application/vnd.teradata.resultset": ""
     },
     "output_type": "execute_result"
    }
   ],
   "source": [
    "%chart x = MinValue, y = bin_percent, title = \"Histogram of pickup_latitude Filtered\""
   ]
  },
  {
   "cell_type": "markdown",
   "metadata": {},
   "source": [
    "<p style = 'font-size:16px;font-family:Arial;color:#00233C'>By removing the outliers in the pickup_latitude, we are better able to represent the dataset.</p>"
   ]
  },
  {
   "cell_type": "markdown",
   "metadata": {},
   "source": [
    "<hr style=\"height:2px;border:none;background-color:#00233C;\">\n",
    "<p style = 'font-size:20px;font-family:Arial;color:#00233C'><b>5. Bin Coding</b></p>\n",
    "\n",
    "<p style = 'font-size:16px;font-family:Arial;color:#00233C'>Note that we've only filtered out latitude and longitude outliers and still need to transform the fare amount column, which does have extreme values that need to be addressed.  For this demonstration, we will use TD_BinCodeFit to create a fit table and then use TD_ColumnTransformer to combine the Outlier Filtering and Bin Coding steps into a single statement.</p>\n",
    "\n",
    "<ol style = 'font-size:16px;font-family:Arial;color:#00233C'>\n",
    "    <li>Inspect the rows with max and min values</li>\n",
    "    <li>Create a fit table with the value ranges and category labels</li>\n",
    "    <li>Use TD_ColumnTransformer to create a transformation \"Pipeline\"</li>\n",
    "    <li>Compare distributions before and after using TD_CategoricalSummary</li>\n",
    "    </ol>"
   ]
  },
  {
   "cell_type": "markdown",
   "metadata": {},
   "source": [
    "<hr style=\"height:1px;border:none;background-color:#00233C;\">\n",
    "<p style = 'font-size:18px;font-family:Arial;color:#00233C'><b>5.1 Min and Max Values</b></p>\n",
    "\n",
    "<p style = 'font-size:16px;font-family:Arial;color:#00233C'>Use <a href = 'https://docs.teradata.com/search/all?query=TD_WhichMin&content-lang=en-US'>TD_WhichMin</a> and <a href='https://docs.teradata.com/search/all?query=TD_WhichMax&content-lang=en-US'>TD_WhichMax</a> to inspect the rows of the raw data table that contain the min and max values.</p>"
   ]
  },
  {
   "cell_type": "code",
   "execution_count": 30,
   "metadata": {},
   "outputs": [
    {
     "data": {
      "application/vnd.teradata.resultset": "\"pickup_datetime\",\"passenger_count\",\"pickup_latitude\",\"pickup_longitude\",\"dropoff_latitude\",\"dropoff_longitude\",\"fare_amount\"\n\"2013-11-10 09:27:00.000000\",\"1\",\"0\",\"0\",\"0\",\"0\",\"2.6\"",
      "text/html": [
       "<div class = \"td-resultset-table-div\" style = \"max-height: 100%; overflow-y: auto\">\n",
       "      <table class=\"tdhistory826183\"><style>\n",
       "      table.tdhistory826183 { display: block !important; min-height: 105px !important; overflow: auto !important; height: 105px !important; width: 100% !important; border: 1px solid rgb(207, 207, 207) !important; border-collapse: collapse !important; ; color: var(--jp-ui-font-color1) !important; }\n",
       "      th.tdhistory826183 { border: 1px solid rgb(198,198,198) !important; border-collapse: collapse !important; ; padding: 2px 5px !important; ; font-size: 13px !important; ; text-align: center !important; white-space: normal !important; color: var(--jp-ui-font-color1) !important; }\n",
       "      th.tdhistory826183:last-child { text-align: left !important; }\n",
       "      tbody.tdhistory826183 tr:nth-child(even) { background: rgba(243, 243, 243, 0.75) !important; }\n",
       "      tbody.tdhistory826183 tr:nth-child(odd) { background: var(--jp-ui-inverse-font-color1) !important; }\n",
       "      td.tdhistory826183 { border: 1px solid rgb(207, 207, 207) !important; border-collapse: collapse !important; ; padding: 2px 5px !important; ; font-size: 13px !important; ; text-align: left !important;          white-space: nowrap !important; overflow:hidden !important; text-overflow:ellipsis !important;; }\n",
       "    </style><thead><tr style= \"background: rgba(243, 243, 243, 0.75)\"><th class=\"tdhistory826183\"></th><th class=\"tdhistory826183\">pickup_datetime</th><th class=\"tdhistory826183\">passenger_count</th><th class=\"tdhistory826183\">pickup_latitude</th><th class=\"tdhistory826183\">pickup_longitude</th><th class=\"tdhistory826183\">dropoff_latitude</th><th class=\"tdhistory826183\">dropoff_longitude</th><th class=\"tdhistory826183\">fare_amount</th></tr></thead><tbody class=\"tdhistory826183 resultset-body\"><tr><th class=\"tdhistory826183\" style= \"background: rgba(243, 243, 243, 0.75)\">1</th><td class=\"tdhistory826183\">2013-11-10 09:27:00.000000</td><td class=\"tdhistory826183\">1</td><td class=\"tdhistory826183\">0</td><td class=\"tdhistory826183\">0</td><td class=\"tdhistory826183\">0</td><td class=\"tdhistory826183\">0</td><td class=\"tdhistory826183\">2.6</td></tr></tbody></table></div>"
      ]
     },
     "execution_count": 30,
     "metadata": {
      "application/vnd.teradata.resultset": "{\"resultSetID\":\"/home/jovyan/JupyterLabRoot/Teradata/Resultsets/2023.12.21_08.11.18.377_UTC\",\"historyID\":274,\"chunkID\":\"00001\",\"sessionid\":\"\",\"portnum\":\"\",\"dockermode\":\"docker\",\"totalRowCount\":1,\"chunkCount\":0,\"rowLimit\":0,\"columnMetadata\":[{\"columnName\":\"pickup_datetime\",\"columnTypeName\":\"TIMESTAMP\",\"length\":6,\"scale\":6},{\"columnNumber\":1,\"columnName\":\"passenger_count\",\"columnTypeName\":\"SMALLINT\"},{\"columnNumber\":2,\"columnName\":\"pickup_latitude\",\"columnTypeName\":\"FLOAT\"},{\"columnNumber\":3,\"columnName\":\"pickup_longitude\",\"columnTypeName\":\"FLOAT\"},{\"columnNumber\":4,\"columnName\":\"dropoff_latitude\",\"columnTypeName\":\"FLOAT\"},{\"columnNumber\":5,\"columnName\":\"dropoff_longitude\",\"columnTypeName\":\"FLOAT\"},{\"columnNumber\":6,\"columnName\":\"fare_amount\",\"columnTypeName\":\"FLOAT\"}]}"
     },
     "output_type": "execute_result"
    }
   ],
   "source": [
    "SELECT * FROM TD_WhichMin (\n",
    "   ON NYC_FULL_T AS InputTable\n",
    "   USING\n",
    "   TargetColumn('fare_amount')\n",
    ") AS dt;"
   ]
  },
  {
   "cell_type": "code",
   "execution_count": 31,
   "metadata": {},
   "outputs": [
    {
     "data": {
      "application/vnd.teradata.resultset": "\"pickup_datetime\",\"passenger_count\",\"pickup_latitude\",\"pickup_longitude\",\"dropoff_latitude\",\"dropoff_longitude\",\"fare_amount\"\n\"2013-11-10 00:59:05.000000\",\"1\",\"40.779091\",\"-73.985077\",\"40.776436\",\"-73.987083\",\"450.01\"",
      "text/html": [
       "<div class = \"td-resultset-table-div\" style = \"max-height: 100%; overflow-y: auto\">\n",
       "      <table class=\"tdhistory273990\"><style>\n",
       "      table.tdhistory273990 { display: block !important; min-height: 105px !important; overflow: auto !important; height: 105px !important; width: 100% !important; border: 1px solid rgb(207, 207, 207) !important; border-collapse: collapse !important; ; color: var(--jp-ui-font-color1) !important; }\n",
       "      th.tdhistory273990 { border: 1px solid rgb(198,198,198) !important; border-collapse: collapse !important; ; padding: 2px 5px !important; ; font-size: 13px !important; ; text-align: center !important; white-space: normal !important; color: var(--jp-ui-font-color1) !important; }\n",
       "      th.tdhistory273990:last-child { text-align: left !important; }\n",
       "      tbody.tdhistory273990 tr:nth-child(even) { background: rgba(243, 243, 243, 0.75) !important; }\n",
       "      tbody.tdhistory273990 tr:nth-child(odd) { background: var(--jp-ui-inverse-font-color1) !important; }\n",
       "      td.tdhistory273990 { border: 1px solid rgb(207, 207, 207) !important; border-collapse: collapse !important; ; padding: 2px 5px !important; ; font-size: 13px !important; ; text-align: left !important;          white-space: nowrap !important; overflow:hidden !important; text-overflow:ellipsis !important;; }\n",
       "    </style><thead><tr style= \"background: rgba(243, 243, 243, 0.75)\"><th class=\"tdhistory273990\"></th><th class=\"tdhistory273990\">pickup_datetime</th><th class=\"tdhistory273990\">passenger_count</th><th class=\"tdhistory273990\">pickup_latitude</th><th class=\"tdhistory273990\">pickup_longitude</th><th class=\"tdhistory273990\">dropoff_latitude</th><th class=\"tdhistory273990\">dropoff_longitude</th><th class=\"tdhistory273990\">fare_amount</th></tr></thead><tbody class=\"tdhistory273990 resultset-body\"><tr><th class=\"tdhistory273990\" style= \"background: rgba(243, 243, 243, 0.75)\">1</th><td class=\"tdhistory273990\">2013-11-10 00:59:05.000000</td><td class=\"tdhistory273990\">1</td><td class=\"tdhistory273990\">40.779091</td><td class=\"tdhistory273990\">-73.985077</td><td class=\"tdhistory273990\">40.776436</td><td class=\"tdhistory273990\">-73.987083</td><td class=\"tdhistory273990\">450.01</td></tr></tbody></table></div>"
      ]
     },
     "execution_count": 31,
     "metadata": {
      "application/vnd.teradata.resultset": "{\"resultSetID\":\"/home/jovyan/JupyterLabRoot/Teradata/Resultsets/2023.12.21_08.11.18.817_UTC\",\"historyID\":275,\"chunkID\":\"00001\",\"sessionid\":\"\",\"portnum\":\"\",\"dockermode\":\"docker\",\"totalRowCount\":1,\"chunkCount\":0,\"rowLimit\":0,\"columnMetadata\":[{\"columnName\":\"pickup_datetime\",\"columnTypeName\":\"TIMESTAMP\",\"length\":6,\"scale\":6},{\"columnNumber\":1,\"columnName\":\"passenger_count\",\"columnTypeName\":\"SMALLINT\"},{\"columnNumber\":2,\"columnName\":\"pickup_latitude\",\"columnTypeName\":\"FLOAT\"},{\"columnNumber\":3,\"columnName\":\"pickup_longitude\",\"columnTypeName\":\"FLOAT\"},{\"columnNumber\":4,\"columnName\":\"dropoff_latitude\",\"columnTypeName\":\"FLOAT\"},{\"columnNumber\":5,\"columnName\":\"dropoff_longitude\",\"columnTypeName\":\"FLOAT\"},{\"columnNumber\":6,\"columnName\":\"fare_amount\",\"columnTypeName\":\"FLOAT\"}]}"
     },
     "output_type": "execute_result"
    }
   ],
   "source": [
    "SELECT * FROM TD_WhichMax (\n",
    "   ON NYC_FULL_T AS InputTable\n",
    "   USING\n",
    "   TargetColumn('fare_amount')\n",
    ") AS dt;"
   ]
  },
  {
   "cell_type": "markdown",
   "metadata": {},
   "source": [
    "<p style = 'font-size:16px;font-family:Arial;color:#00233C'>Above are the rows with min fare($2.6) and max fare(\\$450).</p>"
   ]
  },
  {
   "cell_type": "markdown",
   "metadata": {},
   "source": [
    "<hr style=\"height:1px;border:none;background-color:#00233C;\">\n",
    "<p style = 'font-size:18px;font-family:Arial;color:#00233C'><b>5.2 TD_BinCodeFit</b></p>\n",
    "\n",
    "<p style = 'font-size:16px;font-family:Arial;color:#00233C'>Bin coding is typically used to convert numeric data to categorical data by binning the numeric data into multiple numeric bins (intervals). The bins can have a fixed width with auto-generated labels or specified variable widths and labels.</p>\n",
    "\n",
    "<p style = 'font-size:16px;font-family:Arial;color:#00233C'><a href = 'https://docs.teradata.com/search/all?query=TD_BinCodeFit&content-lang=en-US'>TD_BinCodeFit</a> outputs a table of information to input to TD_BinCodeTransform, which bin-codes the specified input table columns.</p>\n",
    "\n",
    "<p style = 'font-size:16px;font-family:Arial;color:#00233C'>Above, when we investigated the <b>Fare Amount</b> column using TD_Histogram, we could use a custom MinMax table to create custom bins. The process is similar to Bin Coding. Here we will:</p>\n",
    "\n",
    "<ul style = 'font-size:16px;font-family:Arial;color:#00233C'>\n",
    "    <li>Create a custom Dimension table with the column name, MinValue, MaxValue, and label</li>\n",
    "    <li>Use that as input to the TD_BinCodeFit function</li>\n",
    "    <li>Pass additional parameter values such as MethodType and TargetColumns</li> \n",
    "    </ul>"
   ]
  },
  {
   "cell_type": "code",
   "execution_count": 32,
   "metadata": {},
   "outputs": [
    {
     "data": {
      "text/plain": [
       "Success: 0 rows affected"
      ]
     },
     "execution_count": 32,
     "metadata": {
      "application/vnd.teradata.resultset": ""
     },
     "output_type": "execute_result"
    }
   ],
   "source": [
    "CREATE MULTISET TABLE fare_amount_range (\n",
    "    ColumnName CHAR(15),\n",
    "    MinValue SMALLINT,\n",
    "    MaxValue SMALLINT,\n",
    "    label CHAR(35)\n",
    ");"
   ]
  },
  {
   "cell_type": "code",
   "execution_count": 33,
   "metadata": {},
   "outputs": [
    {
     "data": {
      "text/plain": [
       "Success: 1 rows affected"
      ]
     },
     "execution_count": 33,
     "metadata": {
      "application/vnd.teradata.resultset": ""
     },
     "output_type": "execute_result"
    },
    {
     "data": {
      "text/plain": [
       "Success: 1 rows affected"
      ]
     },
     "execution_count": 33,
     "metadata": {
      "application/vnd.teradata.resultset": ""
     },
     "output_type": "execute_result"
    },
    {
     "data": {
      "text/plain": [
       "Success: 1 rows affected"
      ]
     },
     "execution_count": 33,
     "metadata": {
      "application/vnd.teradata.resultset": ""
     },
     "output_type": "execute_result"
    },
    {
     "data": {
      "text/plain": [
       "Success: 1 rows affected"
      ]
     },
     "execution_count": 33,
     "metadata": {
      "application/vnd.teradata.resultset": ""
     },
     "output_type": "execute_result"
    },
    {
     "data": {
      "text/plain": [
       "Success: 1 rows affected"
      ]
     },
     "execution_count": 33,
     "metadata": {
      "application/vnd.teradata.resultset": ""
     },
     "output_type": "execute_result"
    },
    {
     "data": {
      "text/plain": [
       "Success: 1 rows affected"
      ]
     },
     "execution_count": 33,
     "metadata": {
      "application/vnd.teradata.resultset": ""
     },
     "output_type": "execute_result"
    },
    {
     "data": {
      "text/plain": [
       "Success: 1 rows affected"
      ]
     },
     "execution_count": 33,
     "metadata": {
      "application/vnd.teradata.resultset": ""
     },
     "output_type": "execute_result"
    },
    {
     "data": {
      "text/plain": [
       "Success: 1 rows affected"
      ]
     },
     "execution_count": 33,
     "metadata": {
      "application/vnd.teradata.resultset": ""
     },
     "output_type": "execute_result"
    },
    {
     "data": {
      "text/plain": [
       "Success: 1 rows affected"
      ]
     },
     "execution_count": 33,
     "metadata": {
      "application/vnd.teradata.resultset": ""
     },
     "output_type": "execute_result"
    }
   ],
   "source": [
    "INSERT INTO fare_amount_range VALUES ('fare_amount', 0, 5, '00-05');\n",
    "INSERT INTO fare_amount_range VALUES ('fare_amount', 5, 10, '05-10');\n",
    "INSERT INTO fare_amount_range VALUES ('fare_amount', 10, 15, '10-15');\n",
    "INSERT INTO fare_amount_range VALUES ('fare_amount', 15, 20, '15-20');\n",
    "INSERT INTO fare_amount_range VALUES ('fare_amount', 20, 25, '20-25');\n",
    "INSERT INTO fare_amount_range VALUES ('fare_amount', 25, 30, '25-30');\n",
    "INSERT INTO fare_amount_range VALUES ('fare_amount', 30, 35, '30-35');\n",
    "INSERT INTO fare_amount_range VALUES ('fare_amount', 35, 40, '35-40');\n",
    "INSERT INTO fare_amount_range VALUES ('fare_amount', 40, 45, '40-45');"
   ]
  },
  {
   "cell_type": "code",
   "execution_count": 34,
   "metadata": {},
   "outputs": [
    {
     "data": {
      "text/plain": [
       "Success: 0 rows affected"
      ]
     },
     "execution_count": 34,
     "metadata": {
      "application/vnd.teradata.resultset": ""
     },
     "output_type": "execute_result"
    }
   ],
   "source": [
    "CREATE MULTISET TABLE BinCodeFitTbl AS (\n",
    "    SELECT *\n",
    "        FROM TD_BincodeFit(\n",
    "        ON NYC_FULL_T AS InputTable\n",
    "        ON fare_amount_range as FitInput Dimension\n",
    "        USING\n",
    "            TargetColumns('fare_amount')\n",
    "            MethodType('Variable-Width')\n",
    "        ) AS dt\n",
    ") WITH DATA;"
   ]
  },
  {
   "cell_type": "code",
   "execution_count": 35,
   "metadata": {},
   "outputs": [
    {
     "data": {
      "application/vnd.teradata.resultset": "\"TD_ColumnName_BINFIT\",\"TD_MinValue_BINFIT\",\"TD_MaxValue_BINFIT\",\"TD_Label_BINFIT\",\"TD_Bins_BINFIT\",\"TD_IndexValue_BINFIT\",\"TD_MaxLenLabel_BINFIT\",\"fare_amount\"\n\"fare_amount\",\"0\",\"5\",\"00-05\",\"9\",\"0\",\"5\",\"\"\n\"fare_amount\",\"5\",\"10\",\"05-10\",\"9\",\"0\",\"5\",\"\"\n\"fare_amount\",\"10\",\"15\",\"10-15\",\"9\",\"0\",\"5\",\"\"\n\"fare_amount\",\"15\",\"20\",\"15-20\",\"9\",\"0\",\"5\",\"\"\n\"fare_amount\",\"20\",\"25\",\"20-25\",\"9\",\"0\",\"5\",\"\"",
      "text/html": [
       "<div class = \"td-resultset-table-div\" style = \"max-height: 100%; overflow-y: auto\">\n",
       "      <table class=\"tdhistory463224\"><style>\n",
       "      table.tdhistory463224 { display: block !important; min-height: 189px !important; overflow: auto !important; height: 189px !important; width: 100% !important; border: 1px solid rgb(207, 207, 207) !important; border-collapse: collapse !important; ; color: var(--jp-ui-font-color1) !important; }\n",
       "      th.tdhistory463224 { border: 1px solid rgb(198,198,198) !important; border-collapse: collapse !important; ; padding: 2px 5px !important; ; font-size: 13px !important; ; text-align: center !important; white-space: normal !important; color: var(--jp-ui-font-color1) !important; }\n",
       "      th.tdhistory463224:last-child { text-align: left !important; }\n",
       "      tbody.tdhistory463224 tr:nth-child(even) { background: rgba(243, 243, 243, 0.75) !important; }\n",
       "      tbody.tdhistory463224 tr:nth-child(odd) { background: var(--jp-ui-inverse-font-color1) !important; }\n",
       "      td.tdhistory463224 { border: 1px solid rgb(207, 207, 207) !important; border-collapse: collapse !important; ; padding: 2px 5px !important; ; font-size: 13px !important; ; text-align: left !important;          white-space: nowrap !important; overflow:hidden !important; text-overflow:ellipsis !important;; }\n",
       "    </style><thead><tr style= \"background: rgba(243, 243, 243, 0.75)\"><th class=\"tdhistory463224\"></th><th class=\"tdhistory463224\">TD_ColumnName_BINFIT</th><th class=\"tdhistory463224\">TD_MinValue_BINFIT</th><th class=\"tdhistory463224\">TD_MaxValue_BINFIT</th><th class=\"tdhistory463224\">TD_Label_BINFIT</th><th class=\"tdhistory463224\">TD_Bins_BINFIT</th><th class=\"tdhistory463224\">TD_IndexValue_BINFIT</th><th class=\"tdhistory463224\">TD_MaxLenLabel_BINFIT</th><th class=\"tdhistory463224\">fare_amount</th></tr></thead><tbody class=\"tdhistory463224 resultset-body\"><tr><th class=\"tdhistory463224\" style= \"background: rgba(243, 243, 243, 0.75)\">1</th><td class=\"tdhistory463224\">fare_amount</td><td class=\"tdhistory463224\">0</td><td class=\"tdhistory463224\">5</td><td class=\"tdhistory463224\">00-05</td><td class=\"tdhistory463224\">9</td><td class=\"tdhistory463224\">0</td><td class=\"tdhistory463224\">5</td><td class=\"tdhistory463224\"></td></tr><tr><th class=\"tdhistory463224\" style= \"background: rgba(243, 243, 243, 0.75)\">2</th><td class=\"tdhistory463224\">fare_amount</td><td class=\"tdhistory463224\">5</td><td class=\"tdhistory463224\">10</td><td class=\"tdhistory463224\">05-10</td><td class=\"tdhistory463224\">9</td><td class=\"tdhistory463224\">0</td><td class=\"tdhistory463224\">5</td><td class=\"tdhistory463224\"></td></tr><tr><th class=\"tdhistory463224\" style= \"background: rgba(243, 243, 243, 0.75)\">3</th><td class=\"tdhistory463224\">fare_amount</td><td class=\"tdhistory463224\">10</td><td class=\"tdhistory463224\">15</td><td class=\"tdhistory463224\">10-15</td><td class=\"tdhistory463224\">9</td><td class=\"tdhistory463224\">0</td><td class=\"tdhistory463224\">5</td><td class=\"tdhistory463224\"></td></tr><tr><th class=\"tdhistory463224\" style= \"background: rgba(243, 243, 243, 0.75)\">4</th><td class=\"tdhistory463224\">fare_amount</td><td class=\"tdhistory463224\">15</td><td class=\"tdhistory463224\">20</td><td class=\"tdhistory463224\">15-20</td><td class=\"tdhistory463224\">9</td><td class=\"tdhistory463224\">0</td><td class=\"tdhistory463224\">5</td><td class=\"tdhistory463224\"></td></tr><tr><th class=\"tdhistory463224\" style= \"background: rgba(243, 243, 243, 0.75)\">5</th><td class=\"tdhistory463224\">fare_amount</td><td class=\"tdhistory463224\">20</td><td class=\"tdhistory463224\">25</td><td class=\"tdhistory463224\">20-25</td><td class=\"tdhistory463224\">9</td><td class=\"tdhistory463224\">0</td><td class=\"tdhistory463224\">5</td><td class=\"tdhistory463224\"></td></tr></tbody></table></div>"
      ]
     },
     "execution_count": 35,
     "metadata": {
      "application/vnd.teradata.resultset": "{\"resultSetID\":\"/home/jovyan/JupyterLabRoot/Teradata/Resultsets/2023.12.21_08.11.19.889_UTC\",\"historyID\":279,\"chunkID\":\"00001\",\"sessionid\":\"\",\"portnum\":\"\",\"dockermode\":\"docker\",\"totalRowCount\":5,\"chunkCount\":0,\"rowLimit\":0,\"columnMetadata\":[{\"columnName\":\"TD_ColumnName_BINFIT\",\"columnTypeName\":\"VARCHAR\",\"length\":128,\"scale\":128},{\"columnNumber\":1,\"columnName\":\"TD_MinValue_BINFIT\",\"columnTypeName\":\"FLOAT\"},{\"columnNumber\":2,\"columnName\":\"TD_MaxValue_BINFIT\",\"columnTypeName\":\"FLOAT\"},{\"columnNumber\":3,\"columnName\":\"TD_Label_BINFIT\",\"columnTypeName\":\"VARCHAR\",\"length\":128,\"scale\":128},{\"columnNumber\":4,\"columnName\":\"TD_Bins_BINFIT\",\"columnTypeName\":\"INTEGER\"},{\"columnNumber\":5,\"columnName\":\"TD_IndexValue_BINFIT\",\"columnTypeName\":\"SMALLINT\"},{\"columnNumber\":6,\"columnName\":\"TD_MaxLenLabel_BINFIT\",\"columnTypeName\":\"SMALLINT\"},{\"columnNumber\":7,\"columnName\":\"fare_amount\",\"columnTypeName\":\"FLOAT\"}]}"
     },
     "output_type": "execute_result"
    }
   ],
   "source": [
    "SELECT TOP 5 * from BinCodeFitTbl ORDER BY 2;"
   ]
  },
  {
   "cell_type": "markdown",
   "metadata": {},
   "source": [
    "<p style = 'font-size:16px;font-family:Arial;color:#00233C'>Here we can see that we created BinCodeFitTble using the fare_amount_range table. We will use this in the next step of the transformation.</p>"
   ]
  },
  {
   "cell_type": "markdown",
   "metadata": {},
   "source": [
    "<hr style=\"height:1px;border:none;background-color:#00233C;\">\n",
    "<p style = 'font-size:18px;font-family:Arial;color:#00233C'><b>5.3 TD_ColumnTransformer</b></p>\n",
    "\n",
    "<p style = 'font-size:16px;font-family:Arial;color:#00233C'>The <a href = 'https://docs.teradata.com/search/all?query=TD_ColumnTransformer&content-lang=en-US'>TD_ColumnTransformer</a> function transforms the entire dataset in a single operation. You only need to provide the FIT tables to the function, and the function runs all the transformations required in a single operation.</p>\n",
    "\n",
    "<p style = 'font-size:16px;font-family:Arial;color:#00233C'>For this demonstration, we will create another view using TD_ColumnTransformer, passing both <b>Outlier Filter Fit</b> and <b>Bin Coding Fit</b> tables.</p>\n"
   ]
  },
  {
   "cell_type": "code",
   "execution_count": 36,
   "metadata": {},
   "outputs": [
    {
     "data": {
      "text/plain": [
       "Success: 0 rows affected"
      ]
     },
     "execution_count": 36,
     "metadata": {
      "application/vnd.teradata.resultset": ""
     },
     "output_type": "execute_result"
    }
   ],
   "source": [
    "REPLACE VIEW nyc_outlier_transformed AS (\n",
    "    SELECT *\n",
    "        FROM TD_ColumnTransformer(\n",
    "        ON NYC_FULL_T AS InputTable\n",
    "            \n",
    "        ON OutlierFitTbl AS OutlierFilterFitTable DIMENSION\n",
    "        ON BinCodeFitTbl AS BincodeFitTable DIMENSION\n",
    "            \n",
    "    ) AS dt\n",
    ");"
   ]
  },
  {
   "cell_type": "code",
   "execution_count": 37,
   "metadata": {},
   "outputs": [
    {
     "data": {
      "application/vnd.teradata.resultset": "\"pickup_datetime\",\"passenger_count\",\"pickup_latitude\",\"pickup_longitude\",\"dropoff_latitude\",\"dropoff_longitude\",\"fare_amount\"\n\"2013-11-09 20:01:00.000000\",\"1\",\"40.752903\",\"-73.989471\",\"40.692158\",\"-73.963951\",\"25-30\"\n\"2013-11-10 15:53:00.000000\",\"1\",\"40.779816\",\"-73.953331\",\"40.786682\",\"-73.952957\",\"05-10\"\n\"2013-11-10 12:48:00.000000\",\"1\",\"40.72369\",\"-73.993668\",\"40.753906\",\"-73.981842\",\"15-20\"\n\"2013-11-09 21:06:49.000000\",\"1\",\"40.710659\",\"-73.965668\",\"40.722031\",\"-73.98378\",\"10-15\"\n\"2013-11-10 14:15:37.000000\",\"1\",\"40.769279\",\"-73.982887\",\"40.758987\",\"-73.964653\",\"10-15\"",
      "text/html": [
       "<div class = \"td-resultset-table-div\" style = \"max-height: 100%; overflow-y: auto\">\n",
       "      <table class=\"tdhistory983837\"><style>\n",
       "      table.tdhistory983837 { display: block !important; min-height: 189px !important; overflow: auto !important; height: 189px !important; width: 100% !important; border: 1px solid rgb(207, 207, 207) !important; border-collapse: collapse !important; ; color: var(--jp-ui-font-color1) !important; }\n",
       "      th.tdhistory983837 { border: 1px solid rgb(198,198,198) !important; border-collapse: collapse !important; ; padding: 2px 5px !important; ; font-size: 13px !important; ; text-align: center !important; white-space: normal !important; color: var(--jp-ui-font-color1) !important; }\n",
       "      th.tdhistory983837:last-child { text-align: left !important; }\n",
       "      tbody.tdhistory983837 tr:nth-child(even) { background: rgba(243, 243, 243, 0.75) !important; }\n",
       "      tbody.tdhistory983837 tr:nth-child(odd) { background: var(--jp-ui-inverse-font-color1) !important; }\n",
       "      td.tdhistory983837 { border: 1px solid rgb(207, 207, 207) !important; border-collapse: collapse !important; ; padding: 2px 5px !important; ; font-size: 13px !important; ; text-align: left !important;          white-space: nowrap !important; overflow:hidden !important; text-overflow:ellipsis !important;; }\n",
       "    </style><thead><tr style= \"background: rgba(243, 243, 243, 0.75)\"><th class=\"tdhistory983837\"></th><th class=\"tdhistory983837\">pickup_datetime</th><th class=\"tdhistory983837\">passenger_count</th><th class=\"tdhistory983837\">pickup_latitude</th><th class=\"tdhistory983837\">pickup_longitude</th><th class=\"tdhistory983837\">dropoff_latitude</th><th class=\"tdhistory983837\">dropoff_longitude</th><th class=\"tdhistory983837\">fare_amount</th></tr></thead><tbody class=\"tdhistory983837 resultset-body\"><tr><th class=\"tdhistory983837\" style= \"background: rgba(243, 243, 243, 0.75)\">1</th><td class=\"tdhistory983837\">2013-11-09 20:01:00.000000</td><td class=\"tdhistory983837\">1</td><td class=\"tdhistory983837\">40.752903</td><td class=\"tdhistory983837\">-73.989471</td><td class=\"tdhistory983837\">40.692158</td><td class=\"tdhistory983837\">-73.963951</td><td class=\"tdhistory983837\">25-30</td></tr><tr><th class=\"tdhistory983837\" style= \"background: rgba(243, 243, 243, 0.75)\">2</th><td class=\"tdhistory983837\">2013-11-10 15:53:00.000000</td><td class=\"tdhistory983837\">1</td><td class=\"tdhistory983837\">40.779816</td><td class=\"tdhistory983837\">-73.953331</td><td class=\"tdhistory983837\">40.786682</td><td class=\"tdhistory983837\">-73.952957</td><td class=\"tdhistory983837\">05-10</td></tr><tr><th class=\"tdhistory983837\" style= \"background: rgba(243, 243, 243, 0.75)\">3</th><td class=\"tdhistory983837\">2013-11-10 12:48:00.000000</td><td class=\"tdhistory983837\">1</td><td class=\"tdhistory983837\">40.72369</td><td class=\"tdhistory983837\">-73.993668</td><td class=\"tdhistory983837\">40.753906</td><td class=\"tdhistory983837\">-73.981842</td><td class=\"tdhistory983837\">15-20</td></tr><tr><th class=\"tdhistory983837\" style= \"background: rgba(243, 243, 243, 0.75)\">4</th><td class=\"tdhistory983837\">2013-11-09 21:06:49.000000</td><td class=\"tdhistory983837\">1</td><td class=\"tdhistory983837\">40.710659</td><td class=\"tdhistory983837\">-73.965668</td><td class=\"tdhistory983837\">40.722031</td><td class=\"tdhistory983837\">-73.98378</td><td class=\"tdhistory983837\">10-15</td></tr><tr><th class=\"tdhistory983837\" style= \"background: rgba(243, 243, 243, 0.75)\">5</th><td class=\"tdhistory983837\">2013-11-10 14:15:37.000000</td><td class=\"tdhistory983837\">1</td><td class=\"tdhistory983837\">40.769279</td><td class=\"tdhistory983837\">-73.982887</td><td class=\"tdhistory983837\">40.758987</td><td class=\"tdhistory983837\">-73.964653</td><td class=\"tdhistory983837\">10-15</td></tr></tbody></table></div>"
      ]
     },
     "execution_count": 37,
     "metadata": {
      "application/vnd.teradata.resultset": "{\"resultSetID\":\"/home/jovyan/JupyterLabRoot/Teradata/Resultsets/2023.12.21_08.11.22.605_UTC\",\"historyID\":281,\"chunkID\":\"00001\",\"sessionid\":\"\",\"portnum\":\"\",\"dockermode\":\"docker\",\"totalRowCount\":5,\"chunkCount\":0,\"rowLimit\":0,\"columnMetadata\":[{\"columnName\":\"pickup_datetime\",\"columnTypeName\":\"TIMESTAMP\",\"length\":6,\"scale\":6},{\"columnNumber\":1,\"columnName\":\"passenger_count\",\"columnTypeName\":\"SMALLINT\"},{\"columnNumber\":2,\"columnName\":\"pickup_latitude\",\"columnTypeName\":\"FLOAT\"},{\"columnNumber\":3,\"columnName\":\"pickup_longitude\",\"columnTypeName\":\"FLOAT\"},{\"columnNumber\":4,\"columnName\":\"dropoff_latitude\",\"columnTypeName\":\"FLOAT\"},{\"columnNumber\":5,\"columnName\":\"dropoff_longitude\",\"columnTypeName\":\"FLOAT\"},{\"columnNumber\":6,\"columnName\":\"fare_amount\",\"columnTypeName\":\"VARCHAR\",\"length\":128,\"scale\":128}]}"
     },
     "output_type": "execute_result"
    }
   ],
   "source": [
    "SELECT TOP 5 * FROM nyc_outlier_transformed;"
   ]
  },
  {
   "cell_type": "markdown",
   "metadata": {},
   "source": [
    "<p style = 'font-size:16px;font-family:Arial;color:#00233C'>As shown above, the data has been divided into the bins specified in the fare_amount_range table.</p>"
   ]
  },
  {
   "cell_type": "markdown",
   "metadata": {},
   "source": [
    "<hr style=\"height:1px;border:none;background-color:#00233C;\">\n",
    "<p style = 'font-size:18px;font-family:Arial;color:#00233C'><b>5.4 TD_CategoricalSummary</b></p>\n",
    "\n",
    "<p style = 'font-size:16px;font-family:Arial;color:#00233C'>The <a href = 'https://docs.teradata.com/search/all?query=TD_CategoricalSummary&content-lang=en-US'>TD_CategoricalSummary</a> function displays the distinct values and their counts for each specified input table column.</p>\n",
    "\n",
    "<p style = 'font-size:16px;font-family:Arial;color:#00233C'>Since the fare_amount column has been converted from a numeric column to a categorical one, we will use TD_CategoricalSummary instead of TD_Histogram to count the distinct category values, and value counts across the data set.</p>"
   ]
  },
  {
   "cell_type": "code",
   "execution_count": 38,
   "metadata": {},
   "outputs": [
    {
     "data": {
      "application/vnd.teradata.resultset": "\"ColumnName\",\"DistinctValue\",\"DistinctValueCount\"\n\"fare_amount\",\"\",\"6592\"\n\"fare_amount\",\"00-05\",\"10886\"\n\"fare_amount\",\"05-10\",\"167561\"\n\"fare_amount\",\"10-15\",\"130248\"\n\"fare_amount\",\"15-20\",\"49743\"\n\"fare_amount\",\"20-25\",\"25072\"\n\"fare_amount\",\"25-30\",\"11355\"\n\"fare_amount\",\"30-35\",\"7122\"\n\"fare_amount\",\"35-40\",\"6761\"\n\"fare_amount\",\"40-45\",\"4886\"\n\"fare_amount\",\"BIN_N+1\",\"9123\"",
      "text/html": [
       "<div class = \"td-resultset-table-div\" style = \"max-height: 100%; overflow-y: auto\">\n",
       "      <table class=\"tdhistory94182\"><style>\n",
       "      table.tdhistory94182 { display: block !important; min-height: 315px !important; overflow: auto !important; height: 315px !important; width: 100% !important; border: 1px solid rgb(207, 207, 207) !important; border-collapse: collapse !important; ; color: var(--jp-ui-font-color1) !important; }\n",
       "      th.tdhistory94182 { border: 1px solid rgb(198,198,198) !important; border-collapse: collapse !important; ; padding: 2px 5px !important; ; font-size: 13px !important; ; text-align: center !important; white-space: normal !important; color: var(--jp-ui-font-color1) !important; }\n",
       "      th.tdhistory94182:last-child { text-align: left !important; }\n",
       "      tbody.tdhistory94182 tr:nth-child(even) { background: rgba(243, 243, 243, 0.75) !important; }\n",
       "      tbody.tdhistory94182 tr:nth-child(odd) { background: var(--jp-ui-inverse-font-color1) !important; }\n",
       "      td.tdhistory94182 { border: 1px solid rgb(207, 207, 207) !important; border-collapse: collapse !important; ; padding: 2px 5px !important; ; font-size: 13px !important; ; text-align: left !important;          white-space: nowrap !important; overflow:hidden !important; text-overflow:ellipsis !important;; }\n",
       "    </style><thead><tr style= \"background: rgba(243, 243, 243, 0.75)\"><th class=\"tdhistory94182\"></th><th class=\"tdhistory94182\">ColumnName</th><th class=\"tdhistory94182\">DistinctValue</th><th class=\"tdhistory94182\">DistinctValueCount</th></tr></thead><tbody class=\"tdhistory94182 resultset-body\"><tr><th class=\"tdhistory94182\" style= \"background: rgba(243, 243, 243, 0.75)\">1</th><td class=\"tdhistory94182\">fare_amount</td><td class=\"tdhistory94182\"></td><td class=\"tdhistory94182\">6592</td></tr><tr><th class=\"tdhistory94182\" style= \"background: rgba(243, 243, 243, 0.75)\">2</th><td class=\"tdhistory94182\">fare_amount</td><td class=\"tdhistory94182\">00-05</td><td class=\"tdhistory94182\">10886</td></tr><tr><th class=\"tdhistory94182\" style= \"background: rgba(243, 243, 243, 0.75)\">3</th><td class=\"tdhistory94182\">fare_amount</td><td class=\"tdhistory94182\">05-10</td><td class=\"tdhistory94182\">167561</td></tr><tr><th class=\"tdhistory94182\" style= \"background: rgba(243, 243, 243, 0.75)\">4</th><td class=\"tdhistory94182\">fare_amount</td><td class=\"tdhistory94182\">10-15</td><td class=\"tdhistory94182\">130248</td></tr><tr><th class=\"tdhistory94182\" style= \"background: rgba(243, 243, 243, 0.75)\">5</th><td class=\"tdhistory94182\">fare_amount</td><td class=\"tdhistory94182\">15-20</td><td class=\"tdhistory94182\">49743</td></tr><tr><th class=\"tdhistory94182\" style= \"background: rgba(243, 243, 243, 0.75)\">6</th><td class=\"tdhistory94182\">fare_amount</td><td class=\"tdhistory94182\">20-25</td><td class=\"tdhistory94182\">25072</td></tr><tr><th class=\"tdhistory94182\" style= \"background: rgba(243, 243, 243, 0.75)\">7</th><td class=\"tdhistory94182\">fare_amount</td><td class=\"tdhistory94182\">25-30</td><td class=\"tdhistory94182\">11355</td></tr><tr><th class=\"tdhistory94182\" style= \"background: rgba(243, 243, 243, 0.75)\">8</th><td class=\"tdhistory94182\">fare_amount</td><td class=\"tdhistory94182\">30-35</td><td class=\"tdhistory94182\">7122</td></tr><tr><th class=\"tdhistory94182\" style= \"background: rgba(243, 243, 243, 0.75)\">9</th><td class=\"tdhistory94182\">fare_amount</td><td class=\"tdhistory94182\">35-40</td><td class=\"tdhistory94182\">6761</td></tr><tr><th class=\"tdhistory94182\" style= \"background: rgba(243, 243, 243, 0.75)\">10</th><td class=\"tdhistory94182\">fare_amount</td><td class=\"tdhistory94182\">40-45</td><td class=\"tdhistory94182\">4886</td></tr><tr><th class=\"tdhistory94182\" style= \"background: rgba(243, 243, 243, 0.75)\">11</th><td class=\"tdhistory94182\">fare_amount</td><td class=\"tdhistory94182\">BIN_N+1</td><td class=\"tdhistory94182\">9123</td></tr></tbody></table></div>"
      ]
     },
     "execution_count": 38,
     "metadata": {
      "application/vnd.teradata.resultset": "{\"resultSetID\":\"/home/jovyan/JupyterLabRoot/Teradata/Resultsets/2023.12.21_08.11.32.900_UTC\",\"historyID\":282,\"chunkID\":\"00001\",\"sessionid\":\"\",\"portnum\":\"\",\"dockermode\":\"docker\",\"totalRowCount\":11,\"chunkCount\":0,\"rowLimit\":0,\"columnMetadata\":[{\"columnName\":\"ColumnName\",\"columnTypeName\":\"VARCHAR\",\"length\":128,\"scale\":128},{\"columnNumber\":1,\"columnName\":\"DistinctValue\",\"columnTypeName\":\"LONG VARCHAR\",\"length\":32000,\"scale\":32000},{\"columnNumber\":2,\"columnName\":\"DistinctValueCount\",\"columnTypeName\":\"BIGINT\"}]}"
     },
     "output_type": "execute_result"
    }
   ],
   "source": [
    "SELECT  *\n",
    "FROM TD_CategoricalSummary (\n",
    "    ON nyc_outlier_transformed AS InputTable\n",
    "USING\n",
    "    TargetColumns('fare_amount')\n",
    ") AS dt ORDER BY 2;"
   ]
  },
  {
   "cell_type": "code",
   "execution_count": 39,
   "metadata": {
    "slideshow": {
     "slide_type": "fragment"
    }
   },
   "outputs": [
    {
     "data": {
      "application/vnd.vegalite.v3+json": {
       "$schema": "https://vega.github.io/schema/vega-lite/v3.json",
       "data": {
        "format": {
         "type": "csv"
        },
        "values": "\"ColumnName\",\"DistinctValue\",\"DistinctValueCount\"\n\"fare_amount\",\"\",\"6592\"\n\"fare_amount\",\"00-05\",\"10886\"\n\"fare_amount\",\"05-10\",\"167561\"\n\"fare_amount\",\"10-15\",\"130248\"\n\"fare_amount\",\"15-20\",\"49743\"\n\"fare_amount\",\"20-25\",\"25072\"\n\"fare_amount\",\"25-30\",\"11355\"\n\"fare_amount\",\"30-35\",\"7122\"\n\"fare_amount\",\"35-40\",\"6761\"\n\"fare_amount\",\"40-45\",\"4886\"\n\"fare_amount\",\"BIN_N+1\",\"9123\"\n"
       },
       "encoding": {
        "x": {
         "axis": {
          "grid": true,
          "title": "DistinctValue"
         },
         "field": "DistinctValue",
         "type": "nominal"
        },
        "y": {
         "axis": {
          "grid": true,
          "title": "DistinctValueCount"
         },
         "field": "DistinctValueCount",
         "type": "quantitative"
        }
       },
       "mark": {
        "color": "#4C78A8",
        "type": "bar"
       },
       "title": "Histogram of fare_amount range and DistinctValue_count",
       "width": "300"
      },
      "image/png": "[encoded data removed]"
     },
     "execution_count": 39,
     "metadata": {
      "application/vnd.teradata.resultset": ""
     },
     "output_type": "execute_result"
    }
   ],
   "source": [
    "%chart x = DistinctValue, y = DistinctValueCount, title = \"Histogram of fare_amount range and DistinctValue_count\", width = 300"
   ]
  },
  {
   "cell_type": "markdown",
   "metadata": {},
   "source": [
    "<p style = 'font-size:16px;font-family:Arial;color:#00233C'>The above graph shows a better distribution of fare amount.\n",
    "<br>\n",
    "<br>\n",
    "    So in this demonstration, we handled the outliers in the latitude longitude as well as fare_amount. Now this filtered dataset most closely represents the actual data i.e., the rides taken. This dataset can safely be used for further analysis.\n",
    "</p>"
   ]
  },
  {
   "cell_type": "markdown",
   "metadata": {},
   "source": [
    "<hr style=\"height:2px;border:none;background-color:#00233C;\">\n",
    "<b style = 'font-size:20px;font-family:Arial;color:#00233C'>8. Cleanup</b>\n",
    "<p style = 'font-size:18px;font-family:Arial;color:#00233C'><b>Work Tables</b></p>\n",
    "<p style = 'font-size:16px;font-family:Arial;color:#00233C'>Cleanup work tables to prevent errors next time. This section drops all the tables created during the demonstration.</p>"
   ]
  },
  {
   "cell_type": "code",
   "execution_count": 40,
   "metadata": {},
   "outputs": [
    {
     "data": {
      "text/plain": [
       "Success: 20 rows affected"
      ]
     },
     "execution_count": 40,
     "metadata": {
      "application/vnd.teradata.resultset": ""
     },
     "output_type": "execute_result"
    }
   ],
   "source": [
    "DROP TABLE NYC_FULL_T"
   ]
  },
  {
   "cell_type": "code",
   "execution_count": 41,
   "metadata": {},
   "outputs": [
    {
     "data": {
      "text/plain": [
       "Success: 16 rows affected"
      ]
     },
     "execution_count": 41,
     "metadata": {
      "application/vnd.teradata.resultset": ""
     },
     "output_type": "execute_result"
    }
   ],
   "source": [
    "DROP TABLE AllStats_unpivoted;"
   ]
  },
  {
   "cell_type": "code",
   "execution_count": 42,
   "metadata": {},
   "outputs": [
    {
     "data": {
      "text/plain": [
       "Success: 12 rows affected"
      ]
     },
     "execution_count": 42,
     "metadata": {
      "application/vnd.teradata.resultset": ""
     },
     "output_type": "execute_result"
    }
   ],
   "source": [
    "DROP VIEW AllStats_pivoted"
   ]
  },
  {
   "cell_type": "code",
   "execution_count": 43,
   "metadata": {},
   "outputs": [
    {
     "data": {
      "text/plain": [
       "Success: 16 rows affected"
      ]
     },
     "execution_count": 43,
     "metadata": {
      "application/vnd.teradata.resultset": ""
     },
     "output_type": "execute_result"
    }
   ],
   "source": [
    "DROP TABLE fare_amount_minmax;"
   ]
  },
  {
   "cell_type": "code",
   "execution_count": 44,
   "metadata": {},
   "outputs": [
    {
     "data": {
      "text/plain": [
       "Success: 24 rows affected"
      ]
     },
     "execution_count": 44,
     "metadata": {
      "application/vnd.teradata.resultset": ""
     },
     "output_type": "execute_result"
    }
   ],
   "source": [
    "DROP TABLE outlierFitTbl"
   ]
  },
  {
   "cell_type": "code",
   "execution_count": 45,
   "metadata": {},
   "outputs": [
    {
     "data": {
      "text/plain": [
       "Success: 13 rows affected"
      ]
     },
     "execution_count": 45,
     "metadata": {
      "application/vnd.teradata.resultset": ""
     },
     "output_type": "execute_result"
    }
   ],
   "source": [
    "DROP VIEW latlong_no_outliers"
   ]
  },
  {
   "cell_type": "code",
   "execution_count": 46,
   "metadata": {},
   "outputs": [
    {
     "data": {
      "text/plain": [
       "Success: 17 rows affected"
      ]
     },
     "execution_count": 46,
     "metadata": {
      "application/vnd.teradata.resultset": ""
     },
     "output_type": "execute_result"
    }
   ],
   "source": [
    "DROP TABLE fare_amount_range"
   ]
  },
  {
   "cell_type": "code",
   "execution_count": 47,
   "metadata": {},
   "outputs": [
    {
     "data": {
      "text/plain": [
       "Success: 21 rows affected"
      ]
     },
     "execution_count": 47,
     "metadata": {
      "application/vnd.teradata.resultset": ""
     },
     "output_type": "execute_result"
    }
   ],
   "source": [
    "DROP TABLE BinCodeFitTbl"
   ]
  },
  {
   "cell_type": "markdown",
   "metadata": {},
   "source": [
    "<p style = 'font-size:18px;font-family:Arial;color:#00233C'> <b>Databases and Tables </b></p>\n",
    "<p style = 'font-size:16px;font-family:Arial;color:#00233C'>The following code will clean up tables and databases created above.</p>"
   ]
  },
  {
   "cell_type": "code",
   "execution_count": 48,
   "metadata": {},
   "outputs": [
    {
     "data": {
      "text/plain": [
       "Success: 0 rows affected"
      ]
     },
     "execution_count": 48,
     "metadata": {
      "application/vnd.teradata.resultset": ""
     },
     "output_type": "execute_result"
    },
    {
     "data": {
      "text/plain": [
       "Success: 0 rows affected"
      ]
     },
     "execution_count": 48,
     "metadata": {
      "application/vnd.teradata.resultset": ""
     },
     "output_type": "execute_result"
    },
    {
     "data": {
      "application/vnd.teradata.resultset": "\"Message\"\n\"Removed objects related to DEMO_NYCTaxi. That ran for 0:00:02.70\"",
      "text/html": [
       "<div class = \"td-resultset-table-div\" style = \"max-height: 100%; overflow-y: auto\">\n",
       "      <table class=\"tdhistory72991\"><style>\n",
       "      table.tdhistory72991 { display: block !important; min-height: 105px !important; overflow: auto !important; height: 105px !important; width: 100% !important; border: 1px solid rgb(207, 207, 207) !important; border-collapse: collapse !important; ; color: var(--jp-ui-font-color1) !important; }\n",
       "      th.tdhistory72991 { border: 1px solid rgb(198,198,198) !important; border-collapse: collapse !important; ; padding: 2px 5px !important; ; font-size: 13px !important; ; text-align: center !important; white-space: normal !important; color: var(--jp-ui-font-color1) !important; }\n",
       "      th.tdhistory72991:last-child { text-align: left !important; }\n",
       "      tbody.tdhistory72991 tr:nth-child(even) { background: rgba(243, 243, 243, 0.75) !important; }\n",
       "      tbody.tdhistory72991 tr:nth-child(odd) { background: var(--jp-ui-inverse-font-color1) !important; }\n",
       "      td.tdhistory72991 { border: 1px solid rgb(207, 207, 207) !important; border-collapse: collapse !important; ; padding: 2px 5px !important; ; font-size: 13px !important; ; text-align: left !important;          white-space: nowrap !important; overflow:hidden !important; text-overflow:ellipsis !important;; }\n",
       "    </style><thead><tr style= \"background: rgba(243, 243, 243, 0.75)\"><th class=\"tdhistory72991\"></th><th class=\"tdhistory72991\">Message</th></tr></thead><tbody class=\"tdhistory72991 resultset-body\"><tr><th class=\"tdhistory72991\" style= \"background: rgba(243, 243, 243, 0.75)\">1</th><td class=\"tdhistory72991\">Removed objects related to DEMO_NYCTaxi. That ran for 0:00:02.70</td></tr></tbody></table></div>"
      ]
     },
     "execution_count": 48,
     "metadata": {
      "application/vnd.teradata.resultset": "{\"resultSetID\":\"/home/jovyan/JupyterLabRoot/Teradata/Resultsets/2023.12.21_08.11.37.653_UTC\",\"historyID\":291,\"chunkID\":\"00001\",\"sessionid\":\"\",\"portnum\":\"\",\"dockermode\":\"docker\",\"totalRowCount\":1,\"chunkCount\":0,\"rowLimit\":0,\"columnMetadata\":[{\"columnName\":\"Message\",\"columnTypeName\":\"VARCHAR\",\"length\":66,\"scale\":66}]}"
     },
     "output_type": "execute_result"
    }
   ],
   "source": [
    "call remove_data('DEMO_NYCTaxi');          -- Takes 10 seconds"
   ]
  },
  {
   "cell_type": "markdown",
   "metadata": {},
   "source": [
    "<footer style=\"padding-bottom:35px; background:#f9f9f9; border-bottom:3px solid #00233C\">\n",
    "    <div style=\"float:left;margin-top:14px\">ClearScape Analytics™</div>\n",
    "    <div style=\"float:right;\">\n",
    "        <div style=\"float:left; margin-top:14px\">\n",
    "            Copyright © Teradata Corporation - 2023. All Rights Reserved\n",
    "        </div>\n",
    "    </div>\n",
    "</footer>"
   ]
  }
 ],
 "metadata": {
  "kernelspec": {
   "display_name": "Teradata SQL",
   "language": "Teradata SQL",
   "name": "teradatasql"
  },
  "language_info": {
   "codemirror_mode": "Teradata SQL",
   "file_extension": ".tdrs",
   "mimetype": "application/vnd.teradata.resultset",
   "name": "Teradata SQL",
   "nbconvert_exporter": "",
   "pygments_lexer": "",
   "version": "16.20"
  },
  "toc-showmarkdowntxt": true
 },
 "nbformat": 4,
 "nbformat_minor": 4
}
