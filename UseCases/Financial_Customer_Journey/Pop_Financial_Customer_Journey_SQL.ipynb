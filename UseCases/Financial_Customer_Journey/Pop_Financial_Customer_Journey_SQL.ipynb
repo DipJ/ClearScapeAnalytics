{
 "cells": [
  {
   "cell_type": "markdown",
   "metadata": {},
   "source": [
    "<header>\n",
    "   <p  style='font-size:36px;font-family:Arial; color:#F0F0F0; background-color: #00233c; padding-left: 20pt; padding-top: 20pt;padding-bottom: 10pt; padding-right: 20pt;'>\n",
    "       Financial Services Customer Journey\n",
    "  <br>\n",
    "       <img id=\"teradata-logo\" src=\"https://storage.googleapis.com/clearscape_analytics_demo_data/DEMO_Logo/teradata.svg\" alt=\"Teradata\" style=\"width: 125px; height: auto; margin-top: 20pt;\">\n",
    "    </p>\n",
    "</header>"
   ]
  },
  {
   "cell_type": "markdown",
   "metadata": {},
   "source": [
    "<p style = 'font-size:20px;font-family:Arial;color:#00233C'><b>Introduction </b></p>\n",
    "\n",
    "<p style = 'font-size:16px;font-family:Arial;color:#00233C'>In today's business landscape, customers engage with numerous in person and digital platforms, including various company websites and online interfaces. As a result, the experiences offered by firms have become increasingly critical. However, many enterprises struggle to consider all aspects of customers’ journeys at once. Fortunately, Teradata offers innovative solutions in Vantage and ClearScape Analytics to address these challenges. Teradata’s capabilities provide impactful strategies that companies can utilize to overcome common obstacles and enhance the digital experience.</p>\n",
    "<p style = 'font-size:16px;font-family:Arial;color:#00233C'>Customer journeys are imperative to consider in many industries, especially financial based scenarios. In this demo, we will consider the important interactions customers have with a retail bank. In Vantage, users can discover new insights across various steps in a customer journey. With these functionalities, users can enhance the financial services customer journey to increase customer acquisition and adoption. \n",
    "<p>\n",
    "\n",
    "<p style = 'font-size:18px;font-family:Arial;color:#00233C'><b>Business Value</b>\n",
    "<p style = 'font-size:16px;font-family:Arial;color:#00233C'>Customer Acquisition\n",
    "<li style = 'font-size:16px;font-family:Arial;color:#00233C'>Find new customers</li>\n",
    "<li style = 'font-size:16px;font-family:Arial;color:#00233C'>Measure Marketing Attribution</li>\n",
    "<li style = 'font-size:16px;font-family:Arial;color:#00233C'>Determine how to increase ROI and maximize marketing effectiveness, all while minimizing the time to conversion.</li></p>\n",
    "<p style = 'font-size:16px;font-family:Arial;color:#00233C'>Customer Adoption\n",
    "<li style = 'font-size:16px;font-family:Arial;color:#00233C'>Identify what leads customers to additional high-end products such as wealth management accounts</li>\n",
    "<li style = 'font-size:16px;font-family:Arial;color:#00233C'>Analyze all online and offline touchpoints in one place (e.g. in-branch interactions with tellers, online banking, email, call center logs)</li>\n",
    "<li style = 'font-size:16px;font-family:Arial;color:#00233C'>Analyze promotions and advertising networks by identifying which produce the most traction across channels</li>\n",
    "    <li style = 'font-size:16px;font-family:Arial;color:#00233C'>Aggregate data sources</li></p>\n",
    "    \n",
    "<p style = 'font-size:18px;font-family:Arial;color:#00233C'><b>Why Vantage?</b></p>\n",
    "<p style = 'font-size:16px;font-family:Arial;color:#00233C'>Vantage has unique analytic capabilities for understanding customer and user behavior over time. In fact, these analytic techniques can be applied at massive scale to derive more accurate results. Then, these results can be combined with other analytics to create more advanced and accurate prediction models. Vantage also allows organizations to scale these models horizontally, by training segmented models per region, user type, etc., or vertically, by combining data from millions or billions of interactions. All of this can be deployed operationally to understand and predict actions in real-time.</p>\n",
    "\n",
    "\n",
    "<p style = 'font-size:16px;font-family:Arial;color:#00233C'>We will see later that the insights we find are coming from these various channels both online AND offline.</p>"
   ]
  },
  {
   "cell_type": "markdown",
   "metadata": {},
   "source": [
    "<hr style=\"height:2px;border:none;background-color:#00233C;\">\n",
    "<p style = 'font-size:20px;font-family:Arial;color:#00233C'><b>1. Connect to Vantage</b></p>\n",
    "<p style = 'font-size:16px;font-family:Arial;color:#00233C'>We will be prompted to provide the password. We will enter the password, press the Enter key, and then use the down arrow to go to the next cell. Begin running steps with Shift + Enter keys.</p>"
   ]
  },
  {
   "cell_type": "code",
   "execution_count": 1,
   "metadata": {
    "tags": []
   },
   "outputs": [
    {
     "name": "stdin",
     "output_type": "stream",
     "text": [
      "Password: ········\n"
     ]
    },
    {
     "name": "stdout",
     "output_type": "stream",
     "text": [
      "Success: 'local' connection established and activated for user 'demo_user', with default database 'demo_user'\n"
     ]
    }
   ],
   "source": [
    "%connect local, hidewarnings=true"
   ]
  },
  {
   "cell_type": "markdown",
   "metadata": {},
   "source": [
    "<p style = 'font-size:16px;font-family:Arial;color:#00233C'>Setup for execution of notebook. Begin running steps with Shift + Enter keys.</p>\n"
   ]
  },
  {
   "cell_type": "code",
   "execution_count": 2,
   "metadata": {},
   "outputs": [
    {
     "data": {
      "text/plain": [
       "Success: 1 rows affected"
      ]
     },
     "execution_count": 2,
     "metadata": {
      "application/vnd.teradata.resultset": ""
     },
     "output_type": "execute_result"
    }
   ],
   "source": [
    "SET query_band='DEMO=FSCustomerJourney_SQL.ipynb;' UPDATE FOR SESSION;"
   ]
  },
  {
   "cell_type": "markdown",
   "metadata": {},
   "source": [
    "<hr style=\"height:2px;border:none;background-color:#00233C;\">\n",
    "<p style = 'font-size:20px;font-family:Arial;color:#00233C'><b>2. Getting Data for This Demo</b>\n",
    "<p style = 'font-size:16px;font-family:Arial;color:#00233C'>We have provided data for this demo on cloud storage. We have the option of either running the demo using foreign tables to access the data without using any storage on our environment or downloading the data to local storage, which may yield somewhat faster execution. However, we need to consider available storage. There are two statements in the following cell, and one is commented out. We may switch which mode we choose by changing the comment string.</p> \n"
   ]
  },
  {
   "cell_type": "code",
   "execution_count": 3,
   "metadata": {},
   "outputs": [
    {
     "data": {
      "text/plain": [
       "Success: 0 rows affected"
      ]
     },
     "execution_count": 3,
     "metadata": {
      "application/vnd.teradata.resultset": ""
     },
     "output_type": "execute_result"
    },
    {
     "data": {
      "text/plain": [
       "Success: 0 rows affected"
      ]
     },
     "execution_count": 3,
     "metadata": {
      "application/vnd.teradata.resultset": ""
     },
     "output_type": "execute_result"
    },
    {
     "data": {
      "application/vnd.teradata.resultset": "\"Message\"\n\"That ran for   0:00:35.30 with 17 statements and 0 errors. \"",
      "text/html": [
       "<div class = \"td-resultset-table-div\" style = \"max-height: 100%; overflow-y: auto\">\n",
       "      <table class=\"tdhistory821676\"><style>\n",
       "      table.tdhistory821676 { display: block !important; min-height: 105px !important; overflow: auto !important; height: 105px !important; width: 100% !important; border: 1px solid rgb(207, 207, 207) !important; border-collapse: collapse !important; ; color: var(--jp-ui-font-color1) !important; }\n",
       "      th.tdhistory821676 { border: 1px solid rgb(198,198,198) !important; border-collapse: collapse !important; ; padding: 2px 5px !important; ; font-size: 13px !important; ; text-align: center !important; white-space: normal !important; color: var(--jp-ui-font-color1) !important; }\n",
       "      th.tdhistory821676:last-child { text-align: left !important; }\n",
       "      tbody.tdhistory821676 tr:nth-child(even) { background: rgba(243, 243, 243, 0.75) !important; }\n",
       "      tbody.tdhistory821676 tr:nth-child(odd) { background: var(--jp-ui-inverse-font-color1) !important; }\n",
       "      td.tdhistory821676 { border: 1px solid rgb(207, 207, 207) !important; border-collapse: collapse !important; ; padding: 2px 5px !important; ; font-size: 13px !important; ; text-align: left !important;          white-space: nowrap !important; overflow:hidden !important; text-overflow:ellipsis !important;; }\n",
       "    </style><thead><tr style= \"background: rgba(243, 243, 243, 0.75)\"><th class=\"tdhistory821676\"></th><th class=\"tdhistory821676\">Message</th></tr></thead><tbody class=\"tdhistory821676 resultset-body\"><tr><th class=\"tdhistory821676\" style= \"background: rgba(243, 243, 243, 0.75)\">1</th><td class=\"tdhistory821676\">That ran for   0:00:35.30 with 17 statements and 0 errors. </td></tr></tbody></table></div>"
      ]
     },
     "execution_count": 3,
     "metadata": {
      "application/vnd.teradata.resultset": "{\"resultSetID\":\"/home/jovyan/JupyterLabRoot/Teradata/Resultsets/2024.09.05_10.04.49.155_UTC\",\"historyID\":149,\"chunkID\":\"00001\",\"sessionid\":\"\",\"portnum\":\"\",\"dockermode\":\"docker\",\"totalRowCount\":1,\"chunkCount\":0,\"rowLimit\":0,\"columnMetadata\":[{\"columnName\":\"Message\",\"columnTypeName\":\"VARCHAR\",\"length\":150,\"scale\":150}]}"
     },
     "output_type": "execute_result"
    }
   ],
   "source": [
    "call get_data('DEMO_Financial_cloud');    -- takes about 3 minutes\n",
    "-- call get_data('DEMO_Financial_local');    -- takes about 7 minutes"
   ]
  },
  {
   "cell_type": "markdown",
   "metadata": {},
   "source": [
    "<p style = 'font-size:16px;font-family:Arial;color:#00233C'>Optional step – We should execute the below step only if we want to see the status of databases/tables created and space used.</p>\n"
   ]
  },
  {
   "cell_type": "code",
   "execution_count": 4,
   "metadata": {},
   "outputs": [
    {
     "data": {
      "text/plain": [
       "Success: 0 rows affected"
      ]
     },
     "execution_count": 4,
     "metadata": {
      "application/vnd.teradata.resultset": ""
     },
     "output_type": "execute_result"
    },
    {
     "data": {
      "text/plain": [
       "Success: 0 rows affected"
      ]
     },
     "execution_count": 4,
     "metadata": {
      "application/vnd.teradata.resultset": ""
     },
     "output_type": "execute_result"
    },
    {
     "data": {
      "application/vnd.teradata.resultset": "\"Space_Report\"\n\"You have:  #databases=3 #tables=4 #views=28  You have used 1.8 MB of 30,678.9 MB available - 0.0%  ... Space Usage OK\"\n\" \"\n\"   Database Name                  #tables  #views     Avail MB      Used MB\"\n\"   demo_user                            3      20  30,144.1 MB       1.5 MB \"\n\"   DEMO_CancerPrediction                0       1       0.0 MB       0.0 MB \"\n\"   DEMO_CancerPrediction_db             1       0     534.9 MB       0.3 MB \"\n\"   DEMO_Financial                       0       7       0.0 MB       0.0 MB \"",
      "text/html": [
       "<div class = \"td-resultset-table-div\" style = \"max-height: 100%; overflow-y: auto\">\n",
       "      <table class=\"tdhistory778958\"><style>\n",
       "      table.tdhistory778958 { display: block !important; min-height: 231px !important; overflow: auto !important; height: 231px !important; width: 100% !important; border: 1px solid rgb(207, 207, 207) !important; border-collapse: collapse !important; ; color: var(--jp-ui-font-color1) !important; }\n",
       "      th.tdhistory778958 { border: 1px solid rgb(198,198,198) !important; border-collapse: collapse !important; ; padding: 2px 5px !important; ; font-size: 13px !important; ; text-align: center !important; white-space: normal !important; color: var(--jp-ui-font-color1) !important; }\n",
       "      th.tdhistory778958:last-child { text-align: left !important; }\n",
       "      tbody.tdhistory778958 tr:nth-child(even) { background: rgba(243, 243, 243, 0.75) !important; }\n",
       "      tbody.tdhistory778958 tr:nth-child(odd) { background: var(--jp-ui-inverse-font-color1) !important; }\n",
       "      td.tdhistory778958 { border: 1px solid rgb(207, 207, 207) !important; border-collapse: collapse !important; ; padding: 2px 5px !important; ; font-size: 13px !important; ; text-align: left !important;          white-space: nowrap !important; overflow:hidden !important; text-overflow:ellipsis !important;; }\n",
       "    </style><thead><tr style= \"background: rgba(243, 243, 243, 0.75)\"><th class=\"tdhistory778958\"></th><th class=\"tdhistory778958\">Space_Report</th></tr></thead><tbody class=\"tdhistory778958 resultset-body\"><tr><th class=\"tdhistory778958\" style= \"background: rgba(243, 243, 243, 0.75)\">1</th><td class=\"tdhistory778958\">You have:  #databases=3 #tables=4 #views=28  You have used 1.8 MB of 30,678.9 MB available - 0.0%  ... Space Usage OK</td></tr><tr><th class=\"tdhistory778958\" style= \"background: rgba(243, 243, 243, 0.75)\">2</th><td class=\"tdhistory778958\"> </td></tr><tr><th class=\"tdhistory778958\" style= \"background: rgba(243, 243, 243, 0.75)\">3</th><td class=\"tdhistory778958\">   Database Name                  #tables  #views     Avail MB      Used MB</td></tr><tr><th class=\"tdhistory778958\" style= \"background: rgba(243, 243, 243, 0.75)\">4</th><td class=\"tdhistory778958\">   demo_user                            3      20  30,144.1 MB       1.5 MB </td></tr><tr><th class=\"tdhistory778958\" style= \"background: rgba(243, 243, 243, 0.75)\">5</th><td class=\"tdhistory778958\">   DEMO_CancerPrediction                0       1       0.0 MB       0.0 MB </td></tr><tr><th class=\"tdhistory778958\" style= \"background: rgba(243, 243, 243, 0.75)\">6</th><td class=\"tdhistory778958\">   DEMO_CancerPrediction_db             1       0     534.9 MB       0.3 MB </td></tr><tr><th class=\"tdhistory778958\" style= \"background: rgba(243, 243, 243, 0.75)\">7</th><td class=\"tdhistory778958\">   DEMO_Financial                       0       7       0.0 MB       0.0 MB </td></tr></tbody></table></div>"
      ]
     },
     "execution_count": 4,
     "metadata": {
      "application/vnd.teradata.resultset": "{\"resultSetID\":\"/home/jovyan/JupyterLabRoot/Teradata/Resultsets/2024.09.05_10.04.51.033_UTC\",\"historyID\":150,\"chunkID\":\"00001\",\"sessionid\":\"\",\"portnum\":\"\",\"dockermode\":\"docker\",\"totalRowCount\":7,\"chunkCount\":0,\"rowLimit\":0,\"columnMetadata\":[{\"columnName\":\"Space_Report\",\"columnTypeName\":\"VARCHAR\",\"length\":150,\"scale\":150}]}"
     },
     "output_type": "execute_result"
    }
   ],
   "source": [
    "call space_report();  -- optional, takes about 10 seconds"
   ]
  },
  {
   "cell_type": "markdown",
   "metadata": {},
   "source": [
    "<hr style=\"height:2px;border:none;background-color:#00233C;\">\n",
    "<p style = 'font-size:20px;font-family:Arial;color:#00233C'><b>3. Customer Acquisition</b></p>\n",
    "\n",
    "<p style = 'font-size:16px;font-family:Arial;color:#00233C'>This is the first part of our journey. We will focus on the opening of a credit card account. Our goal is to figure out where our customers are coming from and how we can maximize our marketing return on investment (ROI). Attribution modeling describes various methods we use as marketers to properly break up and assign conversion credits to various different channels in case users take multiple website visits, via multiple channels, to arrive at the ultimate conversion behavior. We will use the powerful marketing Attribution function in Vantage to look at the multi-channel data.</p>\n",
    "\n",
    "<p style = 'font-size:16px;font-family:Arial;color:#00233C'>This will allow us to quantify the marketing effectiveness of both our promotions and channels (online and offline). We can analyze which promotions are most effective. Using this information, we can then collectively optimize marketing spend and placement.</p>"
   ]
  },
  {
   "cell_type": "markdown",
   "metadata": {},
   "source": [
    "<p style = 'font-size:16px;font-family:Arial;color:#00233C'>We will leverage Vantage native Attribution function and consider the following methods available in Attribution:\n",
    "<ul style = 'font-size:16px;font-family:Arial;color:#00233C'>\n",
    "    <li>Uniform: Conversion event is attributed uniformly to preceding attributable events.</li>\n",
    "    <li>First Click: Conversion event is attributed entirely to first attributable event.</li>\n",
    "    <li>Last Click: Conversion event is attributed entirely to most recent attributable event</li> \n",
    "    <li>Exponential:  Conversion event is attributed exponentially to preceding attributable events (the more recent the event, the higher the attribution).</li>\n",
    " </ul>\n",
    "</p>\n",
    "\n",
    "<p style = 'font-size:16px;font-family:Arial;color:#00233C'>The function takes data and parameters from multiple tables and outputs attributions. Please refer to Teradata Vantage™ - Analytics Database Analytic Functions documentation for more on Attribution function.</p>\n",
    "\n",
    "<p style = 'font-size:16px;font-family:Arial;color:#00233C'>Attribution Input :\n",
    "<ol style = 'font-size:14px;font-family:Arial;color:#00233C'>\n",
    "<li style = 'font-size:14px;font-family:Arial;color:#00233C'>Input tables (maximum of five) (Contain data for computing attributions).</li>\n",
    "<li style = 'font-size:14px;font-family:Arial;color:#00233C'>ConversionEventTable (Contains conversion events).</li>\n",
    "<li style = 'font-size:14px;font-family:Arial;color:#00233C'>FirstModelTable (Defines type and distributions of model - we'll create one table per model)</li></ol>\n",
    "</p>\n",
    "\n",
    "<p style = 'font-size:16px;font-family:Arial;color:#00233C'>Attribution Syntax Elements:\n",
    "<ol style = 'font-size:14px;font-family:Arial;color:#00233C'>\n",
    "<li style = 'font-size:14px;font-family:Arial;color:#00233C'>EventColumn specifies the name of the input column that contains the events.</li>\n",
    "<li style = 'font-size:14px;font-family:Arial;color:#00233C'>TimeColumn specifies the name of the input column that contains the timestamps of the  events.</li>\n",
    "<li style = 'font-size:14px;font-family:Arial;color:#00233C'>WindowSize specifies how to determine the maximum window size for the attribution calculation</li></ol>\n",
    "    </p>\n",
    "\n",
    "<p style = 'font-size:16px;font-family:Arial;color:#00233C'>We will create the model and conversion tables that allow us to send large numbers of parameters programmatically to the Attribution analytic function.</p>\n",
    "\n"
   ]
  },
  {
   "cell_type": "markdown",
   "metadata": {},
   "source": [
    "<p style = 'font-size:16px;font-family:Arial;color:#00233C'>We will create some tables that allow us to send large numbers of parameters programmatically to the Attribution analytic function.</p>"
   ]
  },
  {
   "cell_type": "code",
   "execution_count": 5,
   "metadata": {},
   "outputs": [
    {
     "data": {
      "text/plain": [
       "Success: 0 rows affected"
      ]
     },
     "execution_count": 5,
     "metadata": {
      "application/vnd.teradata.resultset": ""
     },
     "output_type": "execute_result"
    }
   ],
   "source": [
    "CREATE MULTISET TABLE FSCJ_conversion_events (\n",
    "    conversion_event VARCHAR(55)\n",
    ")\n",
    "NO PRIMARY INDEX;"
   ]
  },
  {
   "cell_type": "markdown",
   "metadata": {},
   "source": [
    "<p style = 'font-size:16px;font-family:Arial;color:#00233C'>We want to find when people have booked accounts both online and offline and use that as our success criteria: </p>"
   ]
  },
  {
   "cell_type": "code",
   "execution_count": 6,
   "metadata": {},
   "outputs": [
    {
     "data": {
      "text/plain": [
       "Success: 1 rows affected"
      ]
     },
     "execution_count": 6,
     "metadata": {
      "application/vnd.teradata.resultset": ""
     },
     "output_type": "execute_result"
    },
    {
     "data": {
      "text/plain": [
       "Success: 1 rows affected"
      ]
     },
     "execution_count": 6,
     "metadata": {
      "application/vnd.teradata.resultset": ""
     },
     "output_type": "execute_result"
    }
   ],
   "source": [
    "INSERT INTO FSCJ_conversion_events VALUES('ACCOUNT_BOOKED_ONLINE');\n",
    "INSERT INTO FSCJ_conversion_events VALUES('ACCOUNT_BOOKED_OFFLINE');"
   ]
  },
  {
   "cell_type": "markdown",
   "metadata": {},
   "source": [
    "<p style = 'font-size:16px;font-family:Arial;color:#00233C'>Vantage allows us to specify what type of attribution models we would like to apply. In this case we will keep it simple and choose a basic 'UNIFORM' strategy.</p>\n",
    "\n",
    "<p style = 'font-size:16px;font-family:Arial;color:#00233C'>UNIFORM or Linear attribution provides a look at our marketing strategy as a whole. This model is especially useful if we need to maintain awareness throughout the entire journey of the customer. The credit for a conversion is equally distributed among all the channels a customer engages with, meaning each step in the conversion process receives an equal portion of the credit.</p>"
   ]
  },
  {
   "cell_type": "code",
   "execution_count": 7,
   "metadata": {},
   "outputs": [
    {
     "data": {
      "text/plain": [
       "Success: 0 rows affected"
      ]
     },
     "execution_count": 7,
     "metadata": {
      "application/vnd.teradata.resultset": ""
     },
     "output_type": "execute_result"
    }
   ],
   "source": [
    "CREATE MULTISET TABLE FSCJ_attribution_model (\n",
    "    id    INTEGER,\n",
    "    model VARCHAR(100)\n",
    ")\n",
    "NO PRIMARY INDEX;"
   ]
  },
  {
   "cell_type": "code",
   "execution_count": 8,
   "metadata": {},
   "outputs": [
    {
     "data": {
      "text/plain": [
       "Success: 1 rows affected"
      ]
     },
     "execution_count": 8,
     "metadata": {
      "application/vnd.teradata.resultset": ""
     },
     "output_type": "execute_result"
    },
    {
     "data": {
      "text/plain": [
       "Success: 1 rows affected"
      ]
     },
     "execution_count": 8,
     "metadata": {
      "application/vnd.teradata.resultset": ""
     },
     "output_type": "execute_result"
    }
   ],
   "source": [
    "INSERT INTO FSCJ_attribution_model VALUES(0, 'SIMPLE');\n",
    "INSERT INTO FSCJ_attribution_model VALUES(1, 'UNIFORM:NA');"
   ]
  },
  {
   "cell_type": "markdown",
   "metadata": {},
   "source": [
    "<p style = 'font-size:16px;font-family:Arial;color:#00233C'>Now we are ready to invoke the Attribution function on our dataset. The dataset has all kinds of cross channel customer interactions we can analyze.</p>"
   ]
  },
  {
   "cell_type": "code",
   "execution_count": 9,
   "metadata": {},
   "outputs": [
    {
     "data": {
      "text/plain": [
       "Success: 0 rows affected"
      ]
     },
     "execution_count": 9,
     "metadata": {
      "application/vnd.teradata.resultset": ""
     },
     "output_type": "execute_result"
    }
   ],
   "source": [
    "CREATE MULTISET TABLE FSCJ_marketing_attribution AS (\n",
    "    SELECT * FROM Attribution (\n",
    "        ON (\n",
    "            SELECT\n",
    "                customer_identifier, interaction_timestamp, \n",
    "                TRANSLATE(interaction_type USING UNICODE_TO_LATIN) AS interaction_type, customer_days_active, \n",
    "                customer_type, marketing_placement, marketing_description, marketing_category,\n",
    "                interaction_type || product_category AS interaction_product\n",
    "            FROM DEMO_Financial.Customer_Journey\n",
    "            WHERE\n",
    "                interaction_type IN ('ACCOUNT_BOOKED_OFFLINE', 'ACCOUNT_BOOKED_ONLINE', 'CLICK', 'REFERRAL', 'BROWSE')\n",
    "                AND product_category <> '-1'\n",
    "        ) \n",
    "        PARTITION BY customer_identifier\n",
    "        ORDER BY interaction_timestamp\n",
    "        ON FSCJ_conversion_events AS ConversionEventTable DIMENSION\n",
    "        ON FSCJ_attribution_model AS FirstModel DIMENSION\n",
    "        USING\n",
    "            EventColumn ('interaction_type')\n",
    "            TimestampColumn ('interaction_timestamp')\n",
    "            WindowSize('rows:10')\n",
    "    ) AS attrib\n",
    ")\n",
    "WITH DATA;"
   ]
  },
  {
   "cell_type": "markdown",
   "metadata": {},
   "source": [
    "<p style = 'font-size:16px;font-family:Arial;color:#00233C'>Marketing attribution aims to identify the events leading to the opening of a credit card account and assign value to them. The specific conversion events in the data are 'ACCOUNT_BOOKED_ONLINE', 'ACCOUNT_BOOKED_OFFLINE'. Thus, calculating the most influential events and channels that are driving customer acquisition. The attribution function in Vantage supports a variety of standard attribution models. Using Vantage, we can quickly see how changes to the attribution model/parameters will affect our analyses!</p>\n",
    "\n",
    "<p style = 'font-size:16px;font-family:Arial;color:#00233C'>Now let's get some summary statistics from the results:</p>"
   ]
  },
  {
   "cell_type": "code",
   "execution_count": 10,
   "metadata": {},
   "outputs": [
    {
     "data": {
      "application/vnd.teradata.resultset": "\"MARKETING_DESCRIPTION\",\"avg_attrib\",\"sum_attrib\",\"time_to_conversion\"\n\"OTHER PROMOTION\",\"0.12269708441256559\",\"58.64920634920635\",\"10.126256256256257\"\n\"MONEYSUPERMARKET.COM PROMOTION\",\"0.2220879120879121\",\"14.435714285714287\",\"7.953019323671498\"\n\"REWARDS CARD PROMOTION\",\"0.10231916295930137\",\"29.570238095238096\",\"39.61428451178451\"\n\"GOLD CARD PROMOTION II\",\"0.14665750915750916\",\"7.626190476190477\",\"2.279333333333333\"\n\"PLATINUM CARD PROMOTION\",\"0.07232704402515723\",\"3.833333333333333\",\"19.674027777777777\"\n\"HOTEL CARD PROMOTION\",\"0.09703703703703703\",\"4.366666666666666\",\"6.186361111111111\"\n\"SECURED CARD PROMOTION\",\"0.03439153439153439\",\"2.1666666666666665\",\"11.110805555555556\"\n\"AIRLINE CARD PROMOTION\",\"0.08527966742252457\",\"23.28134920634921\",\"9.534586288416076\"\n\"GOLD CARD PROMOTION\",\"0.11260683760683761\",\"7.319444444444445\",\"13.39695987654321\"",
      "text/html": [
       "<div class = \"td-resultset-table-div\" style = \"max-height: 100%; overflow-y: auto\">\n",
       "      <table class=\"tdhistory705683\"><style>\n",
       "      table.tdhistory705683 { display: block !important; min-height: 273px !important; overflow: auto !important; height: 273px !important; width: 100% !important; border: 1px solid rgb(207, 207, 207) !important; border-collapse: collapse !important; ; color: var(--jp-ui-font-color1) !important; }\n",
       "      th.tdhistory705683 { border: 1px solid rgb(198,198,198) !important; border-collapse: collapse !important; ; padding: 2px 5px !important; ; font-size: 13px !important; ; text-align: center !important; white-space: normal !important; color: var(--jp-ui-font-color1) !important; }\n",
       "      th.tdhistory705683:last-child { text-align: left !important; }\n",
       "      tbody.tdhistory705683 tr:nth-child(even) { background: rgba(243, 243, 243, 0.75) !important; }\n",
       "      tbody.tdhistory705683 tr:nth-child(odd) { background: var(--jp-ui-inverse-font-color1) !important; }\n",
       "      td.tdhistory705683 { border: 1px solid rgb(207, 207, 207) !important; border-collapse: collapse !important; ; padding: 2px 5px !important; ; font-size: 13px !important; ; text-align: left !important;          white-space: nowrap !important; overflow:hidden !important; text-overflow:ellipsis !important;; }\n",
       "    </style><thead><tr style= \"background: rgba(243, 243, 243, 0.75)\"><th class=\"tdhistory705683\"></th><th class=\"tdhistory705683\">MARKETING_DESCRIPTION</th><th class=\"tdhistory705683\">avg_attrib</th><th class=\"tdhistory705683\">sum_attrib</th><th class=\"tdhistory705683\">time_to_conversion</th></tr></thead><tbody class=\"tdhistory705683 resultset-body\"><tr><th class=\"tdhistory705683\" style= \"background: rgba(243, 243, 243, 0.75)\">1</th><td class=\"tdhistory705683\">OTHER PROMOTION</td><td class=\"tdhistory705683\">0.12269708441256559</td><td class=\"tdhistory705683\">58.64920634920635</td><td class=\"tdhistory705683\">10.126256256256257</td></tr><tr><th class=\"tdhistory705683\" style= \"background: rgba(243, 243, 243, 0.75)\">2</th><td class=\"tdhistory705683\">MONEYSUPERMARKET.COM PROMOTION</td><td class=\"tdhistory705683\">0.2220879120879121</td><td class=\"tdhistory705683\">14.435714285714287</td><td class=\"tdhistory705683\">7.953019323671498</td></tr><tr><th class=\"tdhistory705683\" style= \"background: rgba(243, 243, 243, 0.75)\">3</th><td class=\"tdhistory705683\">REWARDS CARD PROMOTION</td><td class=\"tdhistory705683\">0.10231916295930137</td><td class=\"tdhistory705683\">29.570238095238096</td><td class=\"tdhistory705683\">39.61428451178451</td></tr><tr><th class=\"tdhistory705683\" style= \"background: rgba(243, 243, 243, 0.75)\">4</th><td class=\"tdhistory705683\">GOLD CARD PROMOTION II</td><td class=\"tdhistory705683\">0.14665750915750916</td><td class=\"tdhistory705683\">7.626190476190477</td><td class=\"tdhistory705683\">2.279333333333333</td></tr><tr><th class=\"tdhistory705683\" style= \"background: rgba(243, 243, 243, 0.75)\">5</th><td class=\"tdhistory705683\">PLATINUM CARD PROMOTION</td><td class=\"tdhistory705683\">0.07232704402515723</td><td class=\"tdhistory705683\">3.833333333333333</td><td class=\"tdhistory705683\">19.674027777777777</td></tr><tr><th class=\"tdhistory705683\" style= \"background: rgba(243, 243, 243, 0.75)\">6</th><td class=\"tdhistory705683\">HOTEL CARD PROMOTION</td><td class=\"tdhistory705683\">0.09703703703703703</td><td class=\"tdhistory705683\">4.366666666666666</td><td class=\"tdhistory705683\">6.186361111111111</td></tr><tr><th class=\"tdhistory705683\" style= \"background: rgba(243, 243, 243, 0.75)\">7</th><td class=\"tdhistory705683\">SECURED CARD PROMOTION</td><td class=\"tdhistory705683\">0.03439153439153439</td><td class=\"tdhistory705683\">2.1666666666666665</td><td class=\"tdhistory705683\">11.110805555555556</td></tr><tr><th class=\"tdhistory705683\" style= \"background: rgba(243, 243, 243, 0.75)\">8</th><td class=\"tdhistory705683\">AIRLINE CARD PROMOTION</td><td class=\"tdhistory705683\">0.08527966742252457</td><td class=\"tdhistory705683\">23.28134920634921</td><td class=\"tdhistory705683\">9.534586288416076</td></tr><tr><th class=\"tdhistory705683\" style= \"background: rgba(243, 243, 243, 0.75)\">9</th><td class=\"tdhistory705683\">GOLD CARD PROMOTION</td><td class=\"tdhistory705683\">0.11260683760683761</td><td class=\"tdhistory705683\">7.319444444444445</td><td class=\"tdhistory705683\">13.39695987654321</td></tr></tbody></table></div>"
      ]
     },
     "execution_count": 10,
     "metadata": {
      "application/vnd.teradata.resultset": "{\"resultSetID\":\"/home/jovyan/JupyterLabRoot/Teradata/Resultsets/2024.09.05_10.05.11.902_UTC\",\"historyID\":156,\"chunkID\":\"00001\",\"sessionid\":\"\",\"portnum\":\"\",\"dockermode\":\"docker\",\"totalRowCount\":9,\"chunkCount\":0,\"rowLimit\":0,\"columnMetadata\":[{\"columnName\":\"MARKETING_DESCRIPTION\",\"columnTypeName\":\"VARCHAR\",\"length\":50,\"scale\":50},{\"columnNumber\":1,\"columnName\":\"avg_attrib\",\"columnTypeName\":\"FLOAT\"},{\"columnNumber\":2,\"columnName\":\"sum_attrib\",\"columnTypeName\":\"FLOAT\"},{\"columnNumber\":3,\"columnName\":\"time_to_conversion\",\"columnTypeName\":\"FLOAT\"}]}"
     },
     "output_type": "execute_result"
    }
   ],
   "source": [
    "SELECT marketing_description, AVG(attribution) AS avg_attrib, SUM(attribution) AS sum_attrib, AVG(-time_to_conversion)/3600 AS time_to_conversion\n",
    "FROM FSCJ_marketing_attribution \n",
    "WHERE marketing_description NOT IN ('\\N', '-1')\n",
    "GROUP BY marketing_description;"
   ]
  },
  {
   "cell_type": "code",
   "execution_count": 11,
   "metadata": {},
   "outputs": [
    {
     "data": {
      "application/vnd.vegalite.v3+json": {
       "$schema": "https://vega.github.io/schema/vega-lite/v3.json",
       "data": {
        "format": {
         "type": "csv"
        },
        "values": "\"MARKETING_DESCRIPTION\",\"avg_attrib\",\"sum_attrib\",\"time_to_conversion\"\n\"OTHER PROMOTION\",\"0.12269708441256559\",\"58.64920634920635\",\"10.126256256256257\"\n\"MONEYSUPERMARKET.COM PROMOTION\",\"0.2220879120879121\",\"14.435714285714287\",\"7.953019323671498\"\n\"REWARDS CARD PROMOTION\",\"0.10231916295930137\",\"29.570238095238096\",\"39.61428451178451\"\n\"GOLD CARD PROMOTION II\",\"0.14665750915750916\",\"7.626190476190477\",\"2.279333333333333\"\n\"PLATINUM CARD PROMOTION\",\"0.07232704402515723\",\"3.833333333333333\",\"19.674027777777777\"\n\"HOTEL CARD PROMOTION\",\"0.09703703703703703\",\"4.366666666666666\",\"6.186361111111111\"\n\"SECURED CARD PROMOTION\",\"0.03439153439153439\",\"2.1666666666666665\",\"11.110805555555556\"\n\"AIRLINE CARD PROMOTION\",\"0.08527966742252457\",\"23.28134920634921\",\"9.534586288416076\"\n\"GOLD CARD PROMOTION\",\"0.11260683760683761\",\"7.319444444444445\",\"13.39695987654321\"\n"
       },
       "encoding": {
        "x": {
         "axis": {
          "grid": true,
          "title": "avg_attrib"
         },
         "field": "avg_attrib",
         "type": "quantitative"
        },
        "y": {
         "axis": {
          "grid": true,
          "title": "marketing_description"
         },
         "field": "MARKETING_DESCRIPTION",
         "type": "nominal"
        }
       },
       "height": "300",
       "mark": {
        "color": "#4C78A8",
        "type": "bar"
       },
       "title": "Average Attribution",
       "width": "700"
      },
      "image/png": "[encoded data removed]"
     },
     "execution_count": 11,
     "metadata": {
      "application/vnd.teradata.resultset": ""
     },
     "output_type": "execute_result"
    }
   ],
   "source": [
    "%chart x=avg_attrib, y=marketing_description, gridx=true, gridy=true, mark=bar, title=\"Average Attribution\", width=700, height=300"
   ]
  },
  {
   "cell_type": "markdown",
   "metadata": {},
   "source": [
    "<p style = 'font-size:16px;font-family:Arial;color:#00233C'>The above visualization is centered around the various promotions we have run. The larger the bar the more influence they had towards a customer opening an account. </p>\n",
    "\n"
   ]
  },
  {
   "cell_type": "code",
   "execution_count": 12,
   "metadata": {},
   "outputs": [
    {
     "data": {
      "application/vnd.vegalite.v3+json": {
       "$schema": "https://vega.github.io/schema/vega-lite/v3.json",
       "data": {
        "format": {
         "type": "csv"
        },
        "values": "\"MARKETING_DESCRIPTION\",\"avg_attrib\",\"sum_attrib\",\"time_to_conversion\"\n\"OTHER PROMOTION\",\"0.12269708441256559\",\"58.64920634920635\",\"10.126256256256257\"\n\"MONEYSUPERMARKET.COM PROMOTION\",\"0.2220879120879121\",\"14.435714285714287\",\"7.953019323671498\"\n\"REWARDS CARD PROMOTION\",\"0.10231916295930137\",\"29.570238095238096\",\"39.61428451178451\"\n\"GOLD CARD PROMOTION II\",\"0.14665750915750916\",\"7.626190476190477\",\"2.279333333333333\"\n\"PLATINUM CARD PROMOTION\",\"0.07232704402515723\",\"3.833333333333333\",\"19.674027777777777\"\n\"HOTEL CARD PROMOTION\",\"0.09703703703703703\",\"4.366666666666666\",\"6.186361111111111\"\n\"SECURED CARD PROMOTION\",\"0.03439153439153439\",\"2.1666666666666665\",\"11.110805555555556\"\n\"AIRLINE CARD PROMOTION\",\"0.08527966742252457\",\"23.28134920634921\",\"9.534586288416076\"\n\"GOLD CARD PROMOTION\",\"0.11260683760683761\",\"7.319444444444445\",\"13.39695987654321\"\n"
       },
       "encoding": {
        "x": {
         "axis": {
          "grid": true,
          "title": "sum_attrib"
         },
         "field": "sum_attrib",
         "type": "quantitative"
        },
        "y": {
         "axis": {
          "grid": true,
          "title": "marketing_description"
         },
         "field": "MARKETING_DESCRIPTION",
         "type": "nominal"
        }
       },
       "height": "300",
       "mark": {
        "color": "green",
        "type": "bar"
       },
       "title": "Total Attribution",
       "width": "700"
      },
      "image/png": "[encoded data removed]"
     },
     "execution_count": 12,
     "metadata": {
      "application/vnd.teradata.resultset": ""
     },
     "output_type": "execute_result"
    }
   ],
   "source": [
    "%chart x=sum_attrib, y=marketing_description, gridx=true, gridy=true, mark=bar, color=green, title=\"Total Attribution\", width=700, height=300"
   ]
  },
  {
   "cell_type": "markdown",
   "metadata": {},
   "source": [
    "<p style = 'font-size:16px;font-family:Arial;color:#00233C'>The chart above shows the total attribution score the promotion had. So, the biggest drivers of signups will be the longest. Here the OTHER PROMOTIONS followed by REWARDS CARD PROMOTION and then AIRLINE CARD PROMOTION. </p>\n",
    "\n"
   ]
  },
  {
   "cell_type": "code",
   "execution_count": 13,
   "metadata": {},
   "outputs": [
    {
     "data": {
      "application/vnd.vegalite.v3+json": {
       "$schema": "https://vega.github.io/schema/vega-lite/v3.json",
       "data": {
        "format": {
         "type": "csv"
        },
        "values": "\"MARKETING_DESCRIPTION\",\"avg_attrib\",\"sum_attrib\",\"time_to_conversion\"\n\"OTHER PROMOTION\",\"0.12269708441256559\",\"58.64920634920635\",\"10.126256256256257\"\n\"MONEYSUPERMARKET.COM PROMOTION\",\"0.2220879120879121\",\"14.435714285714287\",\"7.953019323671498\"\n\"REWARDS CARD PROMOTION\",\"0.10231916295930137\",\"29.570238095238096\",\"39.61428451178451\"\n\"GOLD CARD PROMOTION II\",\"0.14665750915750916\",\"7.626190476190477\",\"2.279333333333333\"\n\"PLATINUM CARD PROMOTION\",\"0.07232704402515723\",\"3.833333333333333\",\"19.674027777777777\"\n\"HOTEL CARD PROMOTION\",\"0.09703703703703703\",\"4.366666666666666\",\"6.186361111111111\"\n\"SECURED CARD PROMOTION\",\"0.03439153439153439\",\"2.1666666666666665\",\"11.110805555555556\"\n\"AIRLINE CARD PROMOTION\",\"0.08527966742252457\",\"23.28134920634921\",\"9.534586288416076\"\n\"GOLD CARD PROMOTION\",\"0.11260683760683761\",\"7.319444444444445\",\"13.39695987654321\"\n"
       },
       "encoding": {
        "x": {
         "axis": {
          "grid": true,
          "title": "time_to_conversion"
         },
         "field": "time_to_conversion",
         "type": "quantitative"
        },
        "y": {
         "axis": {
          "grid": true,
          "title": "marketing_description"
         },
         "field": "MARKETING_DESCRIPTION",
         "type": "nominal"
        }
       },
       "height": "300",
       "mark": {
        "color": "red",
        "type": "bar"
       },
       "title": "Time to Conversion",
       "width": "700"
      },
      "image/png": "[encoded data removed]"
     },
     "execution_count": 13,
     "metadata": {
      "application/vnd.teradata.resultset": ""
     },
     "output_type": "execute_result"
    }
   ],
   "source": [
    "%chart x=time_to_conversion, y=marketing_description, gridx=true, gridy=true, mark=bar, color=red, title=\"Time to Conversion\", width=700, height=300"
   ]
  },
  {
   "cell_type": "markdown",
   "metadata": {},
   "source": [
    "<p style = 'font-size:16px;font-family:Arial;color:#00233C'>The above chart shows time to conversion, so how many hours on average that promotion took place before the user went ahead and signed up. The shorter time - the faster people took action. We can see that the Gold Card Promotion II did overall the best, followed by the Hotel card and MoneySupermarket.com promotions.  </p>"
   ]
  },
  {
   "cell_type": "markdown",
   "metadata": {},
   "source": [
    "<hr style=\"height:2px;border:none;background-color:#00233C;\">\n",
    "<p style = 'font-size:20px;font-family:Arial;color:#00233C'><b>4. Channel analysis</b></p>\n",
    "\n",
    "<p style = 'font-size:16px;font-family:Arial;color:#00233C'>We have different promotions and advertising networks, now let's take a look at the traction we are getting with the various promotions across different channels:</p>"
   ]
  },
  {
   "cell_type": "code",
   "execution_count": 14,
   "metadata": {},
   "outputs": [
    {
     "data": {
      "application/vnd.teradata.resultset": "\"MARKETING_CATEGORY\",\"MARKETING_PLACEMENT\",\"total_attribution\"\n\"EMAIL_ADVERTISING\",\"EMAIL\",\"22.43015873015873\"\n\"INBRANCH\",\"INBRANCH_REFERRAL\",\"24.302777777777777\"\n\"OFFSITE_DISPLAY_ADVERTISING\",\"AFFILIATES\",\"8.75\"\n\"OFFSITE_DISPLAY_ADVERTISING\",\"DOTOMI\",\"0\"\n\"SEARCH_ADVERTISING\",\"GOOGLE\",\"16.291666666666664\"\n\"OFFSITE_DISPLAY_ADVERTISING\",\"MINT.COM\",\"4.309523809523809\"\n\"OFFSITE_DISPLAY_ADVERTISING\",\"FACEBOOK\",\"4.17063492063492\"\n\"ONSITE_DISPLAY_ADVERTISING\",\"HOMEPAGE_BANNER\",\"44.88333333333333\"\n\"OFFSITE_DISPLAY_ADVERTISING\",\"BLOOMBERG.COM\",\"8.749999999999998\"\n\"OFFSITE_DISPLAY_ADVERTISING\",\"AOL\",\"0\"\n\"OFFSITE_DISPLAY_ADVERTISING\",\"GOOGLE\",\"0.5\"\n\"OFFSITE_DISPLAY_ADVERTISING\",\"MONEYSUPERMARKET.COM\",\"15.860714285714288\"\n\"OFFSITE_DISPLAY_ADVERTISING\",\"CNBC.COM\",\"1\"",
      "text/html": [
       "<div class = \"td-resultset-table-div\" style = \"max-height: 100%; overflow-y: auto\">\n",
       "      <table class=\"tdhistory699354\"><style>\n",
       "      table.tdhistory699354 { display: block !important; min-height: 357px !important; overflow: auto !important; height: 357px !important; width: 100% !important; border: 1px solid rgb(207, 207, 207) !important; border-collapse: collapse !important; ; color: var(--jp-ui-font-color1) !important; }\n",
       "      th.tdhistory699354 { border: 1px solid rgb(198,198,198) !important; border-collapse: collapse !important; ; padding: 2px 5px !important; ; font-size: 13px !important; ; text-align: center !important; white-space: normal !important; color: var(--jp-ui-font-color1) !important; }\n",
       "      th.tdhistory699354:last-child { text-align: left !important; }\n",
       "      tbody.tdhistory699354 tr:nth-child(even) { background: rgba(243, 243, 243, 0.75) !important; }\n",
       "      tbody.tdhistory699354 tr:nth-child(odd) { background: var(--jp-ui-inverse-font-color1) !important; }\n",
       "      td.tdhistory699354 { border: 1px solid rgb(207, 207, 207) !important; border-collapse: collapse !important; ; padding: 2px 5px !important; ; font-size: 13px !important; ; text-align: left !important;          white-space: nowrap !important; overflow:hidden !important; text-overflow:ellipsis !important;; }\n",
       "    </style><thead><tr style= \"background: rgba(243, 243, 243, 0.75)\"><th class=\"tdhistory699354\"></th><th class=\"tdhistory699354\">MARKETING_CATEGORY</th><th class=\"tdhistory699354\">MARKETING_PLACEMENT</th><th class=\"tdhistory699354\">total_attribution</th></tr></thead><tbody class=\"tdhistory699354 resultset-body\"><tr><th class=\"tdhistory699354\" style= \"background: rgba(243, 243, 243, 0.75)\">1</th><td class=\"tdhistory699354\">EMAIL_ADVERTISING</td><td class=\"tdhistory699354\">EMAIL</td><td class=\"tdhistory699354\">22.43015873015873</td></tr><tr><th class=\"tdhistory699354\" style= \"background: rgba(243, 243, 243, 0.75)\">2</th><td class=\"tdhistory699354\">INBRANCH</td><td class=\"tdhistory699354\">INBRANCH_REFERRAL</td><td class=\"tdhistory699354\">24.302777777777777</td></tr><tr><th class=\"tdhistory699354\" style= \"background: rgba(243, 243, 243, 0.75)\">3</th><td class=\"tdhistory699354\">OFFSITE_DISPLAY_ADVERTISING</td><td class=\"tdhistory699354\">AFFILIATES</td><td class=\"tdhistory699354\">8.75</td></tr><tr><th class=\"tdhistory699354\" style= \"background: rgba(243, 243, 243, 0.75)\">4</th><td class=\"tdhistory699354\">OFFSITE_DISPLAY_ADVERTISING</td><td class=\"tdhistory699354\">DOTOMI</td><td class=\"tdhistory699354\">0</td></tr><tr><th class=\"tdhistory699354\" style= \"background: rgba(243, 243, 243, 0.75)\">5</th><td class=\"tdhistory699354\">SEARCH_ADVERTISING</td><td class=\"tdhistory699354\">GOOGLE</td><td class=\"tdhistory699354\">16.291666666666664</td></tr><tr><th class=\"tdhistory699354\" style= \"background: rgba(243, 243, 243, 0.75)\">6</th><td class=\"tdhistory699354\">OFFSITE_DISPLAY_ADVERTISING</td><td class=\"tdhistory699354\">MINT.COM</td><td class=\"tdhistory699354\">4.309523809523809</td></tr><tr><th class=\"tdhistory699354\" style= \"background: rgba(243, 243, 243, 0.75)\">7</th><td class=\"tdhistory699354\">OFFSITE_DISPLAY_ADVERTISING</td><td class=\"tdhistory699354\">FACEBOOK</td><td class=\"tdhistory699354\">4.17063492063492</td></tr><tr><th class=\"tdhistory699354\" style= \"background: rgba(243, 243, 243, 0.75)\">8</th><td class=\"tdhistory699354\">ONSITE_DISPLAY_ADVERTISING</td><td class=\"tdhistory699354\">HOMEPAGE_BANNER</td><td class=\"tdhistory699354\">44.88333333333333</td></tr><tr><th class=\"tdhistory699354\" style= \"background: rgba(243, 243, 243, 0.75)\">9</th><td class=\"tdhistory699354\">OFFSITE_DISPLAY_ADVERTISING</td><td class=\"tdhistory699354\">BLOOMBERG.COM</td><td class=\"tdhistory699354\">8.749999999999998</td></tr><tr><th class=\"tdhistory699354\" style= \"background: rgba(243, 243, 243, 0.75)\">10</th><td class=\"tdhistory699354\">OFFSITE_DISPLAY_ADVERTISING</td><td class=\"tdhistory699354\">AOL</td><td class=\"tdhistory699354\">0</td></tr><tr><th class=\"tdhistory699354\" style= \"background: rgba(243, 243, 243, 0.75)\">11</th><td class=\"tdhistory699354\">OFFSITE_DISPLAY_ADVERTISING</td><td class=\"tdhistory699354\">GOOGLE</td><td class=\"tdhistory699354\">0.5</td></tr><tr><th class=\"tdhistory699354\" style= \"background: rgba(243, 243, 243, 0.75)\">12</th><td class=\"tdhistory699354\">OFFSITE_DISPLAY_ADVERTISING</td><td class=\"tdhistory699354\">MONEYSUPERMARKET.COM</td><td class=\"tdhistory699354\">15.860714285714288</td></tr><tr><th class=\"tdhistory699354\" style= \"background: rgba(243, 243, 243, 0.75)\">13</th><td class=\"tdhistory699354\">OFFSITE_DISPLAY_ADVERTISING</td><td class=\"tdhistory699354\">CNBC.COM</td><td class=\"tdhistory699354\">1</td></tr></tbody></table></div>"
      ]
     },
     "execution_count": 14,
     "metadata": {
      "application/vnd.teradata.resultset": "{\"resultSetID\":\"/home/jovyan/JupyterLabRoot/Teradata/Resultsets/2024.09.05_10.05.12.145_UTC\",\"historyID\":157,\"chunkID\":\"00001\",\"sessionid\":\"\",\"portnum\":\"\",\"dockermode\":\"docker\",\"totalRowCount\":13,\"chunkCount\":0,\"rowLimit\":0,\"columnMetadata\":[{\"columnName\":\"MARKETING_CATEGORY\",\"columnTypeName\":\"VARCHAR\",\"length\":50,\"scale\":50},{\"columnNumber\":1,\"columnName\":\"MARKETING_PLACEMENT\",\"columnTypeName\":\"VARCHAR\",\"length\":50,\"scale\":50},{\"columnNumber\":2,\"columnName\":\"total_attribution\",\"columnTypeName\":\"FLOAT\"}]}"
     },
     "output_type": "execute_result"
    }
   ],
   "source": [
    "SELECT marketing_category, marketing_placement, SUM(attribution) AS total_attribution \n",
    "FROM FSCJ_marketing_attribution \n",
    "WHERE marketing_description NOT IN ('\\N', '-1')\n",
    "GROUP BY 1, 2;"
   ]
  },
  {
   "cell_type": "code",
   "execution_count": 15,
   "metadata": {},
   "outputs": [
    {
     "data": {
      "application/vnd.vegalite.v3+json": {
       "$schema": "https://vega.github.io/schema/vega-lite/v3.json",
       "data": {
        "format": {
         "type": "csv"
        },
        "values": "\"MARKETING_CATEGORY\",\"MARKETING_PLACEMENT\",\"total_attribution\"\n\"EMAIL_ADVERTISING\",\"EMAIL\",\"22.43015873015873\"\n\"INBRANCH\",\"INBRANCH_REFERRAL\",\"24.302777777777777\"\n\"OFFSITE_DISPLAY_ADVERTISING\",\"AFFILIATES\",\"8.75\"\n\"OFFSITE_DISPLAY_ADVERTISING\",\"DOTOMI\",\"0\"\n\"SEARCH_ADVERTISING\",\"GOOGLE\",\"16.291666666666664\"\n\"OFFSITE_DISPLAY_ADVERTISING\",\"MINT.COM\",\"4.309523809523809\"\n\"OFFSITE_DISPLAY_ADVERTISING\",\"FACEBOOK\",\"4.17063492063492\"\n\"ONSITE_DISPLAY_ADVERTISING\",\"HOMEPAGE_BANNER\",\"44.88333333333333\"\n\"OFFSITE_DISPLAY_ADVERTISING\",\"BLOOMBERG.COM\",\"8.749999999999998\"\n\"OFFSITE_DISPLAY_ADVERTISING\",\"AOL\",\"0\"\n\"OFFSITE_DISPLAY_ADVERTISING\",\"GOOGLE\",\"0.5\"\n\"OFFSITE_DISPLAY_ADVERTISING\",\"MONEYSUPERMARKET.COM\",\"15.860714285714288\"\n\"OFFSITE_DISPLAY_ADVERTISING\",\"CNBC.COM\",\"1\"\n"
       },
       "encoding": {
        "x": {
         "axis": {
          "grid": true,
          "title": "total_attribution"
         },
         "field": "total_attribution",
         "type": "quantitative"
        },
        "y": {
         "axis": {
          "grid": true,
          "title": "marketing_placement"
         },
         "field": "MARKETING_PLACEMENT",
         "type": "nominal"
        }
       },
       "height": "300",
       "mark": {
        "color": "purple",
        "type": "bar"
       },
       "title": "Channel Performance",
       "width": "700"
      },
      "image/png": "[encoded data removed]"
     },
     "execution_count": 15,
     "metadata": {
      "application/vnd.teradata.resultset": ""
     },
     "output_type": "execute_result"
    }
   ],
   "source": [
    "%chart x=total_attribution, y=marketing_placement, gridx=true, gridy=true, mark=bar, color=purple, title=\"Channel Performance\", width=700, height=300"
   ]
  },
  {
   "cell_type": "markdown",
   "metadata": {},
   "source": [
    "<p style = 'font-size:16px;font-family:Arial;color:#00233C'>In the above chart we can see that the HOMEPAGE BANNER has resulted into maximum attribution and is the most effective.</p>\n",
    "\n",
    "<p style = 'font-size:16px;font-family:Arial;color:#00233C'>The next visual revolves around the various channels where we ran our marketing. As a team, we observe that the length of the bar shows the overall total attribution to that channel. The colors correspond to the promotions that we looked at in the top view, allowing us to discern which promotions were on which channels and the performance of each. In our data result set, we can identify email, in-branch (offline), as well as web. </p>\n",
    "\n",
    "<p style = 'font-size:16px;font-family:Arial;color:#00233C'>For the digital channels - collectively, we can see that the homepage ads did the best, followed by email and Google searches.</p>\n",
    "\n",
    "<p style = 'font-size:16px;font-family:Arial;color:#00233C'>Using a BI tool, we can take this analysis to another level. We do not have BI tool available in this environment, so we have captured a screen image displaying an analysis of data produced by the analysis we did using the queries above. </p>\n",
    "\n",
    "<p style = 'font-size:16px;font-family:Arial;color:#00233C'>The Top chart shows the Total Attributions for various kinds of promotions. The biggest drivers are the promotions that have the largest circle size. </p>\n",
    "<img  src=\"images/ChannelPerformance.png\"/>"
   ]
  },
  {
   "cell_type": "markdown",
   "metadata": {},
   "source": [
    "<p style = 'font-size:16px;font-family:Arial;color:#00233C'>The chart below with vertical lines shows the various channels and the colors of the bars indicate the type of promotion. The larger the size of the colored bar , more the contribution of that promotion using the specified channel. </p>\n",
    "\n",
    "<img  src=\"images/AttrSumm.png\"/>"
   ]
  },
  {
   "cell_type": "markdown",
   "metadata": {},
   "source": [
    "<p style = 'font-size:16px;font-family:Arial;color:#00233C'>Now we can see the promotions and their success across the various channels. We collectively observe an interesting insight that the Money Supermarket promotion and the Gold Card Promotion II were our most effective promotions. It is intriguing for us to compare Gold Card II to the first Gold Card Promotion. Looking down at our channels, we can collectively see that the first Gold Card promotion was only run over email, and the Gold Card Promotion II was run on multiple channels, proving to be a lot more effective for the same exact product. </p>\n",
    "\n",
    "<p style = 'font-size:16px;font-family:Arial;color:#00233C'>Using this dashboard and the power of Vantage, we can easily compare the different promotions. We also notice that we did a special promotion on MoneySupermarket.com that was particularly effective. This was only run on that particular channel and had both a quick time to conversion as well as strong average attribution. </p>\n",
    "\n",
    "<p style = 'font-size:16px;font-family:Arial;color:#00233C'>Additionally, we can look at some other promotions. We collectively see that we did a Rewards Card promotion that performed well across channels but was particularly effective through in-branch referrals. The airline card promotion did the best on the homepage and Google compared to the other channels.</p>"
   ]
  },
  {
   "cell_type": "markdown",
   "metadata": {},
   "source": [
    "<hr style=\"height:2px;border:none;background-color:#00233C;\">\n",
    "<p style = 'font-size:20px;font-family:Arial;color:#00233C'><b>5. Path To Adoption</b>\n",
    "\n",
    "<p style = 'font-size:16px;font-family:Arial;color:#00233C'>We want to see how our customers are opening higher end accounts such as wealth management. Many retail banks have found wealth management to be a key profit center, so they are looking to build their business in this area.</p>\n",
    "<p style = 'font-size:16px;font-family:Arial;color:#00233C'>Pathing is the process of discovering a sequence of antecedent actions that occur prior to a specific event of interest on sessionized data. Pathing discovers the most salient patterns across a group of individuals or entities based on which further actions are considered. Pathing allows you to provide an explanation of the relation and the relative importance of each factor.</p>\n",
    "\n",
    "<p style = 'font-size:16px;font-family:Arial;color:#00233C'>The nPath® function provides a flexible pattern-matching capability that lets you specify complex patterns in the input data and define the values that are output for each matched input set. So, we can use the nPath® analytic function in ClearScape Analytics to do pattern/time series analysis that is very hard to do in simple SQL. We want to see the common paths that customers take when they go to open a wealth management account. We will also look at the affiliation between the other accounts that wealth management customers hold. </p>\n",
    "\n",
    "<p style = 'font-size:16px;font-family:Arial;color:#00233C'>In the code here you can see a few key points:</p>\n",
    "<li style = 'font-size:16px;font-family:Arial;color:#00233C'>We are concatenating the interaction and the product category to make unique events </li>\n",
    "<li style = 'font-size:16px;font-family:Arial;color:#00233C'>We are ignoring the starting / completing of the wealth management application because everyone does that by definition and in this case we want to reduce the noise. Further analysis could be done later on incomplete applications or other scenarios.</li>\n",
    "<li style = 'font-size:16px;font-family:Arial;color:#00233C'>The __'PATTERN'__ we are searching for is 4 events followed by opening (ACCOUNT_BOOKED) a Wealth Management account.</li>\n",
    "<li style = 'font-size:16px;font-family:Arial;color:#00233C'>The __'SYMBOLS'__ we are using is anything but opening a wealth management account is 'EVENT' and opening said account is 'ADOPTION' </li>\n",
    "</p>\n",
    "<br>\n"
   ]
  },
  {
   "cell_type": "code",
   "execution_count": 16,
   "metadata": {},
   "outputs": [
    {
     "data": {
      "application/vnd.teradata.resultset": "\"interaction_type_list\",\"click_depth\",\"customer_identifier\",\"product_category\"\n\"[STARTS_APPLICATION_BROKERAGE, COMPARE_CHECKING, ACCOUNT_BOOKED_OFFLINE_BROKERAGE, OLB_CHECKING, ACCOUNT_BOOKED_OFFLINE_WEALTH MANAGEMENT]\",\"5\",\"108350971xmrixvo993049433\",\"WEALTH MANAGEMENT\"\n\"[COMPLETE_APPLICATION_SAVINGS, ACCOUNT_BOOKED_ONLINE_SAVINGS, COMPARE_WEALTH MANAGEMENT, ENROLL_AUTO_SAVINGS_CHECKING, ACCOUNT_BOOKED_ONLINE_WEALTH MANAGEMENT]\",\"5\",\"106966564pzjxhia819813298\",\"WEALTH MANAGEMENT\"\n\"[COMPLETE_APPLICATION_BROKERAGE, COMPARE_BROKERAGE, ACCOUNT_BOOKED_ONLINE_BROKERAGE, BROWSE_WEALTH MANAGEMENT, ACCOUNT_BOOKED_ONLINE_WEALTH MANAGEMENT]\",\"5\",\"113852197uxhbxhc635320451\",\"WEALTH MANAGEMENT\"\n\"[COMPLETE_APPLICATION_BROKERAGE, COMPARE_BROKERAGE, ACCOUNT_BOOKED_ONLINE_BROKERAGE, REFERRAL_WEALTH MANAGEMENT, ACCOUNT_BOOKED_OFFLINE_WEALTH MANAGEMENT]\",\"5\",\"121227172molmfix560934233\",\"WEALTH MANAGEMENT\"\n\"[COMPLETE_APPLICATION_SAVINGS, ACCOUNT_BOOKED_ONLINE_SAVINGS, BROWSE_WEALTH MANAGEMENT, COMPARE_WEALTH MANAGEMENT, ACCOUNT_BOOKED_ONLINE_WEALTH MANAGEMENT]\",\"5\",\"141814136krojbqa350350327\",\"WEALTH MANAGEMENT\"",
      "text/html": [
       "<div class = \"td-resultset-table-div\" style = \"max-height: 100%; overflow-y: auto\">\n",
       "      <table class=\"tdhistory567515\"><style>\n",
       "      table.tdhistory567515 { display: block !important; min-height: 189px !important; overflow: auto !important; height: 189px !important; width: 100% !important; border: 1px solid rgb(207, 207, 207) !important; border-collapse: collapse !important; ; color: var(--jp-ui-font-color1) !important; }\n",
       "      th.tdhistory567515 { border: 1px solid rgb(198,198,198) !important; border-collapse: collapse !important; ; padding: 2px 5px !important; ; font-size: 13px !important; ; text-align: center !important; white-space: normal !important; color: var(--jp-ui-font-color1) !important; }\n",
       "      th.tdhistory567515:last-child { text-align: left !important; }\n",
       "      tbody.tdhistory567515 tr:nth-child(even) { background: rgba(243, 243, 243, 0.75) !important; }\n",
       "      tbody.tdhistory567515 tr:nth-child(odd) { background: var(--jp-ui-inverse-font-color1) !important; }\n",
       "      td.tdhistory567515 { border: 1px solid rgb(207, 207, 207) !important; border-collapse: collapse !important; ; padding: 2px 5px !important; ; font-size: 13px !important; ; text-align: left !important;          white-space: nowrap !important; overflow:hidden !important; text-overflow:ellipsis !important;; }\n",
       "    </style><thead><tr style= \"background: rgba(243, 243, 243, 0.75)\"><th class=\"tdhistory567515\"></th><th class=\"tdhistory567515\">interaction_type_list</th><th class=\"tdhistory567515\">click_depth</th><th class=\"tdhistory567515\">customer_identifier</th><th class=\"tdhistory567515\">product_category</th></tr></thead><tbody class=\"tdhistory567515 resultset-body\"><tr><th class=\"tdhistory567515\" style= \"background: rgba(243, 243, 243, 0.75)\">1</th><td class=\"tdhistory567515\">[STARTS_APPLICATION_BROKERAGE, COMPARE_CHECKING, ACCOUNT_BOOKED_OFFLINE_BROKERAGE, OLB_CHECKING, ACCOUNT_BOOKED_OFFLINE_WEALTH MANAGEMENT]</td><td class=\"tdhistory567515\">5</td><td class=\"tdhistory567515\">108350971xmrixvo993049433</td><td class=\"tdhistory567515\">WEALTH MANAGEMENT</td></tr><tr><th class=\"tdhistory567515\" style= \"background: rgba(243, 243, 243, 0.75)\">2</th><td class=\"tdhistory567515\">[COMPLETE_APPLICATION_SAVINGS, ACCOUNT_BOOKED_ONLINE_SAVINGS, COMPARE_WEALTH MANAGEMENT, ENROLL_AUTO_SAVINGS_CHECKING, ACCOUNT_BOOKED_ONLINE_WEALTH MANAGEMENT]</td><td class=\"tdhistory567515\">5</td><td class=\"tdhistory567515\">106966564pzjxhia819813298</td><td class=\"tdhistory567515\">WEALTH MANAGEMENT</td></tr><tr><th class=\"tdhistory567515\" style= \"background: rgba(243, 243, 243, 0.75)\">3</th><td class=\"tdhistory567515\">[COMPLETE_APPLICATION_BROKERAGE, COMPARE_BROKERAGE, ACCOUNT_BOOKED_ONLINE_BROKERAGE, BROWSE_WEALTH MANAGEMENT, ACCOUNT_BOOKED_ONLINE_WEALTH MANAGEMENT]</td><td class=\"tdhistory567515\">5</td><td class=\"tdhistory567515\">113852197uxhbxhc635320451</td><td class=\"tdhistory567515\">WEALTH MANAGEMENT</td></tr><tr><th class=\"tdhistory567515\" style= \"background: rgba(243, 243, 243, 0.75)\">4</th><td class=\"tdhistory567515\">[COMPLETE_APPLICATION_BROKERAGE, COMPARE_BROKERAGE, ACCOUNT_BOOKED_ONLINE_BROKERAGE, REFERRAL_WEALTH MANAGEMENT, ACCOUNT_BOOKED_OFFLINE_WEALTH MANAGEMENT]</td><td class=\"tdhistory567515\">5</td><td class=\"tdhistory567515\">121227172molmfix560934233</td><td class=\"tdhistory567515\">WEALTH MANAGEMENT</td></tr><tr><th class=\"tdhistory567515\" style= \"background: rgba(243, 243, 243, 0.75)\">5</th><td class=\"tdhistory567515\">[COMPLETE_APPLICATION_SAVINGS, ACCOUNT_BOOKED_ONLINE_SAVINGS, BROWSE_WEALTH MANAGEMENT, COMPARE_WEALTH MANAGEMENT, ACCOUNT_BOOKED_ONLINE_WEALTH MANAGEMENT]</td><td class=\"tdhistory567515\">5</td><td class=\"tdhistory567515\">141814136krojbqa350350327</td><td class=\"tdhistory567515\">WEALTH MANAGEMENT</td></tr></tbody></table></div>"
      ]
     },
     "execution_count": 16,
     "metadata": {
      "application/vnd.teradata.resultset": "{\"resultSetID\":\"/home/jovyan/JupyterLabRoot/Teradata/Resultsets/2024.09.05_10.05.33.994_UTC\",\"historyID\":158,\"chunkID\":\"00001\",\"sessionid\":\"\",\"portnum\":\"\",\"dockermode\":\"docker\",\"totalRowCount\":5,\"chunkCount\":0,\"rowLimit\":0,\"columnMetadata\":[{\"columnName\":\"interaction_type_list\",\"columnTypeName\":\"LONG VARCHAR\",\"length\":64000,\"scale\":64000},{\"columnNumber\":1,\"columnName\":\"click_depth\",\"columnTypeName\":\"INTEGER\"},{\"columnNumber\":2,\"columnName\":\"customer_identifier\",\"columnTypeName\":\"VARCHAR\",\"length\":26,\"scale\":26},{\"columnNumber\":3,\"columnName\":\"product_category\",\"columnTypeName\":\"VARCHAR\",\"length\":90,\"scale\":90}]}"
     },
     "output_type": "execute_result"
    }
   ],
   "source": [
    "SELECT TOP 5 *\n",
    "FROM nPath (\n",
    "    ON (\n",
    "        SELECT\n",
    "            customer_identifier,\n",
    "            interaction_timestamp,\n",
    "            interaction_type,\n",
    "            product_category,\n",
    "            interaction_type || '_' || product_category AS event,\n",
    "            marketing_category,\n",
    "            marketing_description,\n",
    "            marketing_placement,\n",
    "            sales_channel,\n",
    "            conversion_sales,\n",
    "            conversion_cost,\n",
    "            conversion_margin\n",
    "        FROM\n",
    "            DEMO_Financial.Customer_Journey\n",
    "        WHERE\n",
    "            product_category <> '-1'\n",
    "            AND interaction_type || '_' || product_category <> 'STARTS_APPLICATION_WEALTH MANAGEMENT'\n",
    "            AND interaction_type || '_' || product_category <> 'COMPLETE_APPLICATION_WEALTH MANAGEMENT'\n",
    "    )\n",
    "    PARTITION BY\n",
    "        customer_identifier\n",
    "    ORDER BY\n",
    "        interaction_timestamp\n",
    "    USING\n",
    "        MODE (NONOVERLAPPING)\n",
    "        -- Limit to a depth of 4\n",
    "        PATTERN ('(EVENT){4}.ADOPTION')\n",
    "        SYMBOLS (\n",
    "            event NOT LIKE 'ACCOUNT_BOOKED%_WEALTH MANAGEMENT' AS EVENT,\n",
    "            event LIKE 'ACCOUNT_BOOKED%' AND product_category = 'WEALTH MANAGEMENT' AS ADOPTION\n",
    "        )\n",
    "    RESULT (\n",
    "        ACCUMULATE(event OF ANY(EVENT, ADOPTION)) AS interaction_type_list,\n",
    "        COUNT(event OF ANY(EVENT, ADOPTION)) AS click_depth,\n",
    "        FIRST(customer_identifier OF ADOPTION) AS customer_identifier,\n",
    "        FIRST(product_category OF ADOPTION) AS product_category\n",
    "    )\n",
    ") a;"
   ]
  },
  {
   "cell_type": "markdown",
   "metadata": {},
   "source": [
    "<p style = 'font-size:16px;font-family:Arial;color:#00233C'>A visualization of this gives us lots of insight into the most common paths that users are taking when opening Wealth Management accounts. This is an SQL notebook, and we have another Notebook for same usecase which has python code for visualizations. A Sankey Diagram was created using the output (interacion_type_list) of the nPath® function used in the query above and below is the image for the nPath® function.</p>\n",
    "\n",
    "<img  src=\"images/PathAnalysis.png\"/>"
   ]
  },
  {
   "cell_type": "markdown",
   "metadata": {},
   "source": [
    "<p style = 'font-size:16px;font-family:Arial;'>We can filter it down to the most popular paths:</p>\n",
    "\n",
    "<img  src=\"images/PathForTopCust.png\"/>"
   ]
  },
  {
   "cell_type": "markdown",
   "metadata": {},
   "source": [
    "<p style = 'font-size:16px;font-family:Arial;'>The above diagram shows paths which have at least 16 customers on the path.  Of course, this notebook is just working with small data to demonstrate the functionality. In a real-world data volume, you’d be filtering for paths repeated hundreds or thousands of times. </p>\n",
    "  \n",
    "<p style = 'font-size:16px;font-family:Arial;'>So, let’s start by looking at the drivers of wealth management accounts online. We can see that the ‘Compare’ tool that the bank has on its’ website is a main step in opening an account. This allows you to compare its’ wealth management offerings to its competitors and this is proving to be very compelling. So, customers are browsing the offerings then using the compare tool and ultimately booking. </p>\n",
    "\n",
    "<p style = 'font-size:16px;font-family:Arial;'>The other main drivers of online account signups are people signing up for an auto-savings plan. So, people that are savings minded tend to open wealth management accounts. Also, general browsing the offerings and opening a CD appear to be secondary paths as well. </p>\n",
    "\n",
    "<p style = 'font-size:16px;font-family:Arial;'>Moving to offline - which we can see has different drivers. It appears to be predominately people that are opening other types of accounts as well such as CDs and Brokerage - both online and offline. We can see that the main path to booking a wealth management account offline is from in-branch referrals. So, people go into a branch and are opening another type of account and they are referred to opening a wealth management account as well!</p>"
   ]
  },
  {
   "cell_type": "markdown",
   "metadata": {},
   "source": [
    "<b style = 'font-size:18px;font-family:Arial;color:#00233C'>Conclusion</b>\n",
    "\n",
    "<p style = 'font-size:16px;font-family:Arial;color:#00233C'>Thus, we can use the unique analytic capabilities of Vantage for understanding customer and user behavior over time. These analytic techniques can be applied at massive scale to derive more accurate results. Vantage allows organizations to scale models horizontally, by training segmented models per region, user type, etc., or vertically, by combining data from millions or billions of interactions. All of this can be deployed operationally to understand and predict actions in real-time.</p>"
   ]
  },
  {
   "cell_type": "markdown",
   "metadata": {},
   "source": [
    "<hr style=\"height:2px;border:none;background-color:#00233C;\">\n",
    "<p style = 'font-size:20px;font-family:Arial;color:#00233C'><b>6. Cleanup </b></p>\n",
    "<p style = 'font-size:18px;font-family:Arial;color:#00233C'><b>Work Tables</b></p>\n",
    "<p style = 'font-size:16px;font-family:Arial;color:#00233C'>We need to clean up our work tables to prevent errors next time.</p>"
   ]
  },
  {
   "cell_type": "code",
   "execution_count": 17,
   "metadata": {},
   "outputs": [
    {
     "data": {
      "text/plain": [
       "Success: 14 rows affected"
      ]
     },
     "execution_count": 17,
     "metadata": {
      "application/vnd.teradata.resultset": ""
     },
     "output_type": "execute_result"
    }
   ],
   "source": [
    "DROP TABLE FSCJ_conversion_events;"
   ]
  },
  {
   "cell_type": "code",
   "execution_count": 18,
   "metadata": {},
   "outputs": [
    {
     "data": {
      "text/plain": [
       "Success: 15 rows affected"
      ]
     },
     "execution_count": 18,
     "metadata": {
      "application/vnd.teradata.resultset": ""
     },
     "output_type": "execute_result"
    }
   ],
   "source": [
    "DROP TABLE FSCJ_attribution_model;"
   ]
  },
  {
   "cell_type": "code",
   "execution_count": 19,
   "metadata": {},
   "outputs": [
    {
     "data": {
      "text/plain": [
       "Success: 24 rows affected"
      ]
     },
     "execution_count": 19,
     "metadata": {
      "application/vnd.teradata.resultset": ""
     },
     "output_type": "execute_result"
    }
   ],
   "source": [
    "DROP TABLE FSCJ_marketing_attribution;"
   ]
  },
  {
   "cell_type": "markdown",
   "metadata": {},
   "source": [
    "<p style = 'font-size:18px;font-family:Arial;color:#00233C'> <b>Databases and Tables </b></p>\n",
    "<p style = 'font-size:16px;font-family:Arial;color:#00233C'>We will use the following code to clean up tables and databases created for this demonstration.</p>"
   ]
  },
  {
   "cell_type": "code",
   "execution_count": 20,
   "metadata": {},
   "outputs": [
    {
     "data": {
      "text/plain": [
       "Success: 0 rows affected"
      ]
     },
     "execution_count": 20,
     "metadata": {
      "application/vnd.teradata.resultset": ""
     },
     "output_type": "execute_result"
    },
    {
     "data": {
      "text/plain": [
       "Success: 0 rows affected"
      ]
     },
     "execution_count": 20,
     "metadata": {
      "application/vnd.teradata.resultset": ""
     },
     "output_type": "execute_result"
    },
    {
     "data": {
      "application/vnd.teradata.resultset": "\"Message\"\n\"Removed objects related to DEMO_Financial. That ran for 0:00:04.19\"",
      "text/html": [
       "<div class = \"td-resultset-table-div\" style = \"max-height: 100%; overflow-y: auto\">\n",
       "      <table class=\"tdhistory250998\"><style>\n",
       "      table.tdhistory250998 { display: block !important; min-height: 105px !important; overflow: auto !important; height: 105px !important; width: 100% !important; border: 1px solid rgb(207, 207, 207) !important; border-collapse: collapse !important; ; color: var(--jp-ui-font-color1) !important; }\n",
       "      th.tdhistory250998 { border: 1px solid rgb(198,198,198) !important; border-collapse: collapse !important; ; padding: 2px 5px !important; ; font-size: 13px !important; ; text-align: center !important; white-space: normal !important; color: var(--jp-ui-font-color1) !important; }\n",
       "      th.tdhistory250998:last-child { text-align: left !important; }\n",
       "      tbody.tdhistory250998 tr:nth-child(even) { background: rgba(243, 243, 243, 0.75) !important; }\n",
       "      tbody.tdhistory250998 tr:nth-child(odd) { background: var(--jp-ui-inverse-font-color1) !important; }\n",
       "      td.tdhistory250998 { border: 1px solid rgb(207, 207, 207) !important; border-collapse: collapse !important; ; padding: 2px 5px !important; ; font-size: 13px !important; ; text-align: left !important;          white-space: nowrap !important; overflow:hidden !important; text-overflow:ellipsis !important;; }\n",
       "    </style><thead><tr style= \"background: rgba(243, 243, 243, 0.75)\"><th class=\"tdhistory250998\"></th><th class=\"tdhistory250998\">Message</th></tr></thead><tbody class=\"tdhistory250998 resultset-body\"><tr><th class=\"tdhistory250998\" style= \"background: rgba(243, 243, 243, 0.75)\">1</th><td class=\"tdhistory250998\">Removed objects related to DEMO_Financial. That ran for 0:00:04.19</td></tr></tbody></table></div>"
      ]
     },
     "execution_count": 20,
     "metadata": {
      "application/vnd.teradata.resultset": "{\"resultSetID\":\"/home/jovyan/JupyterLabRoot/Teradata/Resultsets/2024.09.05_10.05.38.994_UTC\",\"historyID\":162,\"chunkID\":\"00001\",\"sessionid\":\"\",\"portnum\":\"\",\"dockermode\":\"docker\",\"totalRowCount\":1,\"chunkCount\":0,\"rowLimit\":0,\"columnMetadata\":[{\"columnName\":\"Message\",\"columnTypeName\":\"VARCHAR\",\"length\":68,\"scale\":68}]}"
     },
     "output_type": "execute_result"
    }
   ],
   "source": [
    "call remove_data('DEMO_Financial');-- takes about 10 seconds, optional if you want to use the data later"
   ]
  },
  {
   "cell_type": "markdown",
   "metadata": {},
   "source": [
    "\n",
    "<hr style=\"height:2px;border:none;background-color:#00233C;\">\n",
    "\n",
    "<b style = 'font-size:20px;font-family:Arial;color:#00233C'>Required Materials</b>\n",
    "<p style = 'font-size:16px;font-family:Arial;color:#00233C'>Let’s look at the elements we have available for reference for this notebook:</p>\n",
    "\n",
    "<p style = 'font-size:18px;font-family:Arial;color:#00233C'><b>Dataset</b>\n",
    "\n",
    "<p style = 'font-size:16px;font-family:Arial;color:#00233C'>The data for this use case is stored in the `FSCustomerJourney` database. </p>\n",
    "\n",
    "<b style = 'font-size:18px;font-family:Arial;color:#00233C'>Integrated Contact History </b>\n",
    "\n",
    "<p style = 'font-size:16px;font-family:Arial;color:#00233C'>The data for this use case is taken from Customer_Journey table(Details below) from the DEMO_FSCustomerJourney Database. It is data from various source systems and channels already combined and put into one big table. This is all of the customer interactions, in a customer system this might be a view on top of various source tables.</p>\n",
    "\n",
    "`Customer_Journey`\n",
    "\n",
    "- `customer_skey`: customer key\n",
    "- `customer_identifier`: unique customer identifier\n",
    "- `customer_cookie`: cookie placed on customers device\n",
    "- `customer_online_id`: boolean - does the customer have an online account\n",
    "- `customer_offline_id`: customer account number\n",
    "- `customer_type`: is this a high value customer or just a vistor browsing the website?\n",
    "- `customer_days_active`: how long has the customer been active\n",
    "- `interaction_session_number`: session identifier\n",
    "- `interaction_timestamp`: timestamp for this event\n",
    "- `interaction_source`: channel this event is from (online / offline, in branch etc.)\n",
    "- `interaction_type`: type of event\n",
    "- `sales_channel`: channel a sales event was in\n",
    "- `conversion_id`: sales conversion identifier\n",
    "- `product_category`: what type of product the event concerned (checking, savings, cd etc..)\n",
    "- `product_type`: unused\n",
    "- `conversion_sales`: unused\n",
    "- `conversion_cost`: unused\n",
    "- `conversion_margin`: unused\n",
    "- `conversion_units`: unused\n",
    "- `marketing_code`: marketing identifier\n",
    "- `marketing_category`: marketing channel (inbranch, website, email etc..)\n",
    "- `marketing_description`: marketing campaign name\n",
    "- `marketing_placement`: specific marketing outlet (Google, Bloomberg.com etc..)\n",
    "- `mobile_flag`: boolean was on a mobile device\n",
    "- `updt`: unused"
   ]
  },
  {
   "cell_type": "markdown",
   "metadata": {},
   "source": [
    "<p style = 'font-size:18px;font-family:Arial;color:#00233C'><b>Filters:</b></p>\n",
    "<li style = 'font-size:16px;font-family:Arial;color:#00233C'><b>Industry:</b> Finance</li>\n",
    "<li style = 'font-size:16px;font-family:Arial;color:#00233C'><b>Functionality:</b> Pathing Analysis</li>\n",
    "<li style = 'font-size:16px;font-family:Arial;color:#00233C'><b>Use Case:</b> Customer Journeys</li>\n",
    "</p>\n",
    "<p style = 'font-size:18px;font-family:Arial;color:#00233C'><b>Related Resources:</b></p>\n",
    "<li style = 'font-size:16px;font-family:Arial;color:#00233C'><a href = 'https://www.teradata.com/blogs/nps-is-a-metric-not-the-goal'>In the fight to improve customer experience, NPS is a metric, not the goal</a></li>\n",
    "<li style = 'font-size:16px;font-family:Arial;color:#00233C'><a href = 'https://www.teradata.com/Blogs/Customer-360-Analytics-What-Lies-Ahead'>Customer 360 Analytics, What Lies Ahead?</a></li>\n",
    "<li style = 'font-size:16px;font-family:Arial;color:#00233C'><a href = 'https://teradata.seismic.com/app#/doccenter/dc7eb2cf-bd2e-462a-a056-fcc02c9fd2f2/doc/%252Fddb2fe9eb1-f754-d3df-07fa-0724e0ddd3e9%252FdfODEyNmNlZmEtZmM4Mi00ODUyLTgzZTAtOTEzMTBlODQ5YjUw%252CPT0%253D%252CVmlkZW8%253D%252FdfYmI3ODY3ZDQtM2Q4Zi00ZTk5LTg2ZDYtNjBlZTk4ODY2YTY4%252CPT0%253D%252CRXh0ZXJuYWwgQXVkaWVuY2Vz%252Flfda62602b-d188-4769-aa36-a58d162732fd//?mode=view&parentPath=sessionStorage'>Broken Digital Journeys CX Solution Accelerator Demo via Vantage Console Demo</a></li>\n"
   ]
  },
  {
   "cell_type": "markdown",
   "metadata": {},
   "source": [
    "<footer style=\"padding-bottom:35px; background:#f9f9f9; border-bottom:3px solid #00233C\">\n",
    "    <div style=\"float:left;margin-top:14px\">ClearScape Analytics™</div>\n",
    "    <div style=\"float:right;\">\n",
    "        <div style=\"float:left; margin-top:14px\">\n",
    "            Copyright © Teradata Corporation - 2023. All Rights Reserved\n",
    "        </div>\n",
    "    </div>\n",
    "</footer>"
   ]
  }
 ],
 "metadata": {
  "kernelspec": {
   "display_name": "Teradata SQL",
   "language": "Teradata SQL",
   "name": "teradatasql"
  },
  "language_info": {
   "codemirror_mode": "Teradata SQL",
   "file_extension": ".tdrs",
   "mimetype": "application/vnd.teradata.resultset",
   "name": "Teradata SQL",
   "nbconvert_exporter": "",
   "pygments_lexer": "",
   "version": "16.20"
  }
 },
 "nbformat": 4,
 "nbformat_minor": 4
}
