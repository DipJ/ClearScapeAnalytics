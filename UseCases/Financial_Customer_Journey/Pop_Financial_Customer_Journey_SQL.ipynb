{
 "cells": [
  {
   "cell_type": "markdown",
   "metadata": {},
   "source": [
    "<header>\n",
    "   <p  style='font-size:36px;font-family:Arial; color:#F0F0F0; background-color: #00233c; padding-left: 20pt; padding-top: 20pt;padding-bottom: 10pt; padding-right: 20pt;'>\n",
    "       Financial Services Customer Journey\n",
    "  <br>\n",
    "       <img id=\"teradata-logo\" src=\"https://storage.googleapis.com/clearscape_analytics_demo_data/DEMO_Logo/teradata.svg\" alt=\"Teradata\" style=\"width: 125px; height: auto; margin-top: 20pt;\">\n",
    "    </p>\n",
    "</header>"
   ]
  },
  {
   "cell_type": "markdown",
   "metadata": {},
   "source": [
    "<p style = 'font-size:20px;font-family:Arial;color:#00233C'><b>Introduction </b></p>\n",
    "\n",
    "<p style = 'font-size:16px;font-family:Arial;color:#00233C'>In this use case we will show several different analytic techniques to analyze various aspects of a customer journey using Vantage. Specifically, we will use the Attribution and nPath® functions.<p>\n",
    "\n",
    "<p style = 'font-size:16px;font-family:Arial;color:#00233C'>Here is an overview of the scenario we will be covering: </p>\n",
    "\n",
    "<p style = 'font-size:16px;font-family:Arial;color:#00233C'>We want to look at the important interactions' customers have with a retail bank. We would like to show how we can use Vantage to discover new insights across various steps in a customer journey.</p>\n",
    "\n",
    "<p style = 'font-size:16px;font-family:Arial;color:#00233C'>Starting with <b>customer acquisition</b>, how do we:</p>\n",
    "<ol style = 'font-size:16px;font-family:Arial;color:#00233C'>\n",
    "    <li style = 'font-size:16px;font-family:Arial;color:#00233C'>Find new customers</li>\n",
    "    <li style = 'font-size:16px;font-family:Arial;color:#00233C'>Measure marketing attribution</li>\n",
    "<li style = 'font-size:16px;font-family:Arial;color:#00233C'>How can we increase ROI and maximize marketing effectiveness, minimize the time to conversion?</li>\n",
    "</ol>\n",
    "<p style = 'font-size:16px;font-family:Arial;color:#00233C'>Next we will look at <b>customer adoption</b>:</p>\n",
    "<p style = 'font-size:16px;font-family:Arial;color:#00233C'>\n",
    "What leads customers to additional high end products such as wealth management accounts?\n",
    "    </p>\n",
    "<p style = 'font-size:16px;font-family:Arial;color:#00233C'>Customers interact with the bank in many ways both online and offline\n",
    "There are many different data sources such as in-branch interactions with tellers, online banking, email, call center logs etc. It is necessary to look at <b>all</b> of them to see the full picture.</p>\n",
    "\n",
    "<p style = 'font-size:16px;font-family:Arial;color:#00233C'>Vantage is very adept at aggregating data sources, it has built in connectivity to various cloud object stores as well as QueryGrid connectors directly to Hadoop, Oracle and more.\n",
    "We will be using a dataset aggregated from all of these channels. Other demos cover the integration and aggregation steps, but this is out of scope in our case.</p>\n",
    "\n",
    "<p style = 'font-size:16px;font-family:Arial;color:#00233C'>We will see later that the insights we find are coming from these various channels both online AND offline.</p>"
   ]
  },
  {
   "cell_type": "markdown",
   "metadata": {},
   "source": [
    "<hr style=\"height:2px;border:none;background-color:#00233C;\">\n",
    "<p style = 'font-size:20px;font-family:Arial;color:#00233C'><b>1. Connect to Vantage</b></p>\n",
    "<p style = 'font-size:16px;font-family:Arial;color:#00233C'>You will be prompted to provide the password. Enter your password, press the Enter key, then use down arrow to go to next cell. Begin running steps with Shift + Enter keys.</p>"
   ]
  },
  {
   "cell_type": "code",
   "execution_count": 1,
   "metadata": {
    "tags": []
   },
   "outputs": [
    {
     "name": "stdin",
     "output_type": "stream",
     "text": [
      "Password: ········\n"
     ]
    },
    {
     "name": "stdout",
     "output_type": "stream",
     "text": [
      "Success: 'local' connection established and activated for user 'demo_user', with default database 'demo_user'\n"
     ]
    }
   ],
   "source": [
    "%connect local, hidewarnings=true"
   ]
  },
  {
   "cell_type": "markdown",
   "metadata": {},
   "source": [
    "<p style = 'font-size:16px;font-family:Arial;color:#00233C'>Setup for execution of notebook. Begin running steps with Shift + Enter keys.</p>\n"
   ]
  },
  {
   "cell_type": "code",
   "execution_count": 2,
   "metadata": {},
   "outputs": [
    {
     "data": {
      "text/plain": [
       "Success: 1 rows affected"
      ]
     },
     "execution_count": 2,
     "metadata": {
      "application/vnd.teradata.resultset": ""
     },
     "output_type": "execute_result"
    }
   ],
   "source": [
    "SET query_band='DEMO=FSCustomerJourney_SQL.ipynb;' UPDATE FOR SESSION;"
   ]
  },
  {
   "cell_type": "markdown",
   "metadata": {},
   "source": [
    "<hr style=\"height:2px;border:none;background-color:#00233C;\">\n",
    "<p style = 'font-size:20px;font-family:Arial;color:#00233C'><b>2. Getting Data for This Demo</b>\n",
    "<p style = 'font-size:16px;font-family:Arial;color:#00233C'>We have provided data for this demo on cloud storage.  You have the option of either running the demo using foreign tables to access the data without using any storage on your environment or downloading the data to local storage which may yield somewhat faster execution, but there could be considerations of available storage.  There are two statements in the following cell, and one is commented out.  You may switch which mode you choose by changing the comment string. \n"
   ]
  },
  {
   "cell_type": "code",
   "execution_count": 3,
   "metadata": {},
   "outputs": [
    {
     "data": {
      "text/plain": [
       "Success: 0 rows affected"
      ]
     },
     "execution_count": 3,
     "metadata": {
      "application/vnd.teradata.resultset": ""
     },
     "output_type": "execute_result"
    },
    {
     "data": {
      "text/plain": [
       "Success: 0 rows affected"
      ]
     },
     "execution_count": 3,
     "metadata": {
      "application/vnd.teradata.resultset": ""
     },
     "output_type": "execute_result"
    },
    {
     "data": {
      "application/vnd.teradata.resultset": "\"Message\"\n\"That ran for   0:00:52.42 with 17 statements and 0 errors. \"",
      "text/html": [
       "<div class = \"td-resultset-table-div\" style = \"max-height: 100%; overflow-y: auto\">\n",
       "      <table class=\"tdhistory77879\"><style>\n",
       "      table.tdhistory77879 { display: block !important; min-height: 105px !important; overflow: auto !important; height: 105px !important; width: 100% !important; border: 1px solid rgb(207, 207, 207) !important; border-collapse: collapse !important; ; color: var(--jp-ui-font-color1) !important; }\n",
       "      th.tdhistory77879 { border: 1px solid rgb(198,198,198) !important; border-collapse: collapse !important; ; padding: 2px 5px !important; ; font-size: 13px !important; ; text-align: center !important; white-space: normal !important; color: var(--jp-ui-font-color1) !important; }\n",
       "      th.tdhistory77879:last-child { text-align: left !important; }\n",
       "      tbody.tdhistory77879 tr:nth-child(even) { background: rgba(243, 243, 243, 0.75) !important; }\n",
       "      tbody.tdhistory77879 tr:nth-child(odd) { background: var(--jp-ui-inverse-font-color1) !important; }\n",
       "      td.tdhistory77879 { border: 1px solid rgb(207, 207, 207) !important; border-collapse: collapse !important; ; padding: 2px 5px !important; ; font-size: 13px !important; ; text-align: left !important;          white-space: nowrap !important; overflow:hidden !important; text-overflow:ellipsis !important;; }\n",
       "    </style><thead><tr style= \"background: rgba(243, 243, 243, 0.75)\"><th class=\"tdhistory77879\"></th><th class=\"tdhistory77879\">Message</th></tr></thead><tbody class=\"tdhistory77879 resultset-body\"><tr><th class=\"tdhistory77879\" style= \"background: rgba(243, 243, 243, 0.75)\">1</th><td class=\"tdhistory77879\">That ran for   0:00:52.42 with 17 statements and 0 errors. </td></tr></tbody></table></div>"
      ]
     },
     "execution_count": 3,
     "metadata": {
      "application/vnd.teradata.resultset": "{\"resultSetID\":\"/home/jovyan/JupyterLabRoot/Teradata/Resultsets/2023.12.21_07.08.50.978_UTC\",\"historyID\":317,\"chunkID\":\"00001\",\"sessionid\":\"\",\"portnum\":\"\",\"dockermode\":\"docker\",\"totalRowCount\":1,\"chunkCount\":0,\"rowLimit\":0,\"columnMetadata\":[{\"columnName\":\"Message\",\"columnTypeName\":\"VARCHAR\",\"length\":150,\"scale\":150}]}"
     },
     "output_type": "execute_result"
    }
   ],
   "source": [
    "call get_data('DEMO_Financial_cloud');    -- takes about 3 minutes\n",
    "-- call get_data('DEMO_Financial_local');    -- takes about 7 minutes"
   ]
  },
  {
   "cell_type": "markdown",
   "metadata": {},
   "source": [
    "<p style = 'font-size:16px;font-family:Arial;color:#00233C'>Optional step – if you want to see status of databases/tables created and space used.</p>\n"
   ]
  },
  {
   "cell_type": "code",
   "execution_count": 4,
   "metadata": {},
   "outputs": [
    {
     "data": {
      "text/plain": [
       "Success: 0 rows affected"
      ]
     },
     "execution_count": 4,
     "metadata": {
      "application/vnd.teradata.resultset": ""
     },
     "output_type": "execute_result"
    },
    {
     "data": {
      "text/plain": [
       "Success: 0 rows affected"
      ]
     },
     "execution_count": 4,
     "metadata": {
      "application/vnd.teradata.resultset": ""
     },
     "output_type": "execute_result"
    },
    {
     "data": {
      "application/vnd.teradata.resultset": "\"Space_Report\"\n\"You have:  #databases=3 #tables=52 #views=10  You have used 14.7 MB of 27,890.4 MB available - 0.1%  ... Space Usage OK\"\n\" \"\n\"   Database Name                  #tables  #views     Avail MB      Used MB\"\n\"   demo_user                           51       2  27,880.3 MB      14.5 MB \"\n\"   DEMO_Financial                       0       7       0.0 MB       0.0 MB \"\n\"   DEMO_GraphAnalysis                   0       1       0.0 MB       0.0 MB \"\n\"   DEMO_GraphAnalysis_db                1       0      10.1 MB       0.2 MB \"",
      "text/html": [
       "<div class = \"td-resultset-table-div\" style = \"max-height: 100%; overflow-y: auto\">\n",
       "      <table class=\"tdhistory614149\"><style>\n",
       "      table.tdhistory614149 { display: block !important; min-height: 231px !important; overflow: auto !important; height: 231px !important; width: 100% !important; border: 1px solid rgb(207, 207, 207) !important; border-collapse: collapse !important; ; color: var(--jp-ui-font-color1) !important; }\n",
       "      th.tdhistory614149 { border: 1px solid rgb(198,198,198) !important; border-collapse: collapse !important; ; padding: 2px 5px !important; ; font-size: 13px !important; ; text-align: center !important; white-space: normal !important; color: var(--jp-ui-font-color1) !important; }\n",
       "      th.tdhistory614149:last-child { text-align: left !important; }\n",
       "      tbody.tdhistory614149 tr:nth-child(even) { background: rgba(243, 243, 243, 0.75) !important; }\n",
       "      tbody.tdhistory614149 tr:nth-child(odd) { background: var(--jp-ui-inverse-font-color1) !important; }\n",
       "      td.tdhistory614149 { border: 1px solid rgb(207, 207, 207) !important; border-collapse: collapse !important; ; padding: 2px 5px !important; ; font-size: 13px !important; ; text-align: left !important;          white-space: nowrap !important; overflow:hidden !important; text-overflow:ellipsis !important;; }\n",
       "    </style><thead><tr style= \"background: rgba(243, 243, 243, 0.75)\"><th class=\"tdhistory614149\"></th><th class=\"tdhistory614149\">Space_Report</th></tr></thead><tbody class=\"tdhistory614149 resultset-body\"><tr><th class=\"tdhistory614149\" style= \"background: rgba(243, 243, 243, 0.75)\">1</th><td class=\"tdhistory614149\">You have:  #databases=3 #tables=52 #views=10  You have used 14.7 MB of 27,890.4 MB available - 0.1%  ... Space Usage OK</td></tr><tr><th class=\"tdhistory614149\" style= \"background: rgba(243, 243, 243, 0.75)\">2</th><td class=\"tdhistory614149\"> </td></tr><tr><th class=\"tdhistory614149\" style= \"background: rgba(243, 243, 243, 0.75)\">3</th><td class=\"tdhistory614149\">   Database Name                  #tables  #views     Avail MB      Used MB</td></tr><tr><th class=\"tdhistory614149\" style= \"background: rgba(243, 243, 243, 0.75)\">4</th><td class=\"tdhistory614149\">   demo_user                           51       2  27,880.3 MB      14.5 MB </td></tr><tr><th class=\"tdhistory614149\" style= \"background: rgba(243, 243, 243, 0.75)\">5</th><td class=\"tdhistory614149\">   DEMO_Financial                       0       7       0.0 MB       0.0 MB </td></tr><tr><th class=\"tdhistory614149\" style= \"background: rgba(243, 243, 243, 0.75)\">6</th><td class=\"tdhistory614149\">   DEMO_GraphAnalysis                   0       1       0.0 MB       0.0 MB </td></tr><tr><th class=\"tdhistory614149\" style= \"background: rgba(243, 243, 243, 0.75)\">7</th><td class=\"tdhistory614149\">   DEMO_GraphAnalysis_db                1       0      10.1 MB       0.2 MB </td></tr></tbody></table></div>"
      ]
     },
     "execution_count": 4,
     "metadata": {
      "application/vnd.teradata.resultset": "{\"resultSetID\":\"/home/jovyan/JupyterLabRoot/Teradata/Resultsets/2023.12.21_07.08.54.905_UTC\",\"historyID\":318,\"chunkID\":\"00001\",\"sessionid\":\"\",\"portnum\":\"\",\"dockermode\":\"docker\",\"totalRowCount\":7,\"chunkCount\":0,\"rowLimit\":0,\"columnMetadata\":[{\"columnName\":\"Space_Report\",\"columnTypeName\":\"VARCHAR\",\"length\":150,\"scale\":150}]}"
     },
     "output_type": "execute_result"
    }
   ],
   "source": [
    "call space_report();  -- optional, takes about 10 seconds"
   ]
  },
  {
   "cell_type": "markdown",
   "metadata": {},
   "source": [
    "<hr style=\"height:2px;border:none;background-color:#00233C;\">\n",
    "<p style = 'font-size:20px;font-family:Arial;color:#00233C'><b>3. Customer Acquisition</b></p>\n",
    "\n",
    "<p style = 'font-size:16px;font-family:Arial;color:#00233C'>This is the first part of our journey. We will focus on the opening of a credit card account. We want to figure out where our customers are coming from and how can we maximize our marketing return on investment (ROI)?\n",
    "We will use the powerful marketing Attribution function in Vantage to look at the multi-channel data.</p>\n",
    "\n",
    "<p style = 'font-size:16px;font-family:Arial;color:#00233C'>This will allow us to quantify marketing effectiveness of both our promotions and channels (online and offline). Which promotions are most effective? Using this information we can then optimize marketing spend and placement.</p>"
   ]
  },
  {
   "cell_type": "markdown",
   "metadata": {},
   "source": [
    "<p style = 'font-size:16px;font-family:Arial;color:#00233C'>We will create some tables that allow us to send large numbers of parameters programmatically to the Attribution analytic function.</p>"
   ]
  },
  {
   "cell_type": "code",
   "execution_count": 5,
   "metadata": {},
   "outputs": [
    {
     "data": {
      "text/plain": [
       "Success: 0 rows affected"
      ]
     },
     "execution_count": 5,
     "metadata": {
      "application/vnd.teradata.resultset": ""
     },
     "output_type": "execute_result"
    }
   ],
   "source": [
    "CREATE MULTISET TABLE FSCJ_conversion_events (\n",
    "    conversion_event VARCHAR(55)\n",
    ")\n",
    "NO PRIMARY INDEX;"
   ]
  },
  {
   "cell_type": "markdown",
   "metadata": {},
   "source": [
    "<p style = 'font-size:16px;font-family:Arial;color:#00233C'>We want to find when people have booked accounts both online and offline and use that as our success criteria: </p>"
   ]
  },
  {
   "cell_type": "code",
   "execution_count": 6,
   "metadata": {},
   "outputs": [
    {
     "data": {
      "text/plain": [
       "Success: 1 rows affected"
      ]
     },
     "execution_count": 6,
     "metadata": {
      "application/vnd.teradata.resultset": ""
     },
     "output_type": "execute_result"
    },
    {
     "data": {
      "text/plain": [
       "Success: 1 rows affected"
      ]
     },
     "execution_count": 6,
     "metadata": {
      "application/vnd.teradata.resultset": ""
     },
     "output_type": "execute_result"
    }
   ],
   "source": [
    "INSERT INTO FSCJ_conversion_events VALUES('ACCOUNT_BOOKED_ONLINE');\n",
    "INSERT INTO FSCJ_conversion_events VALUES('ACCOUNT_BOOKED_OFFLINE');"
   ]
  },
  {
   "cell_type": "markdown",
   "metadata": {},
   "source": [
    "<p style = 'font-size:16px;font-family:Arial;color:#00233C'>Vantage allows us to specify what type of attribution models we would like to apply. In this case we will keep it simple and choose a basic 'UNIFORM' strategy.</p>"
   ]
  },
  {
   "cell_type": "code",
   "execution_count": 7,
   "metadata": {},
   "outputs": [
    {
     "data": {
      "text/plain": [
       "Success: 0 rows affected"
      ]
     },
     "execution_count": 7,
     "metadata": {
      "application/vnd.teradata.resultset": ""
     },
     "output_type": "execute_result"
    }
   ],
   "source": [
    "CREATE MULTISET TABLE FSCJ_attribution_model (\n",
    "    id    INTEGER,\n",
    "    model VARCHAR(100)\n",
    ")\n",
    "NO PRIMARY INDEX;"
   ]
  },
  {
   "cell_type": "code",
   "execution_count": 8,
   "metadata": {},
   "outputs": [
    {
     "data": {
      "text/plain": [
       "Success: 1 rows affected"
      ]
     },
     "execution_count": 8,
     "metadata": {
      "application/vnd.teradata.resultset": ""
     },
     "output_type": "execute_result"
    },
    {
     "data": {
      "text/plain": [
       "Success: 1 rows affected"
      ]
     },
     "execution_count": 8,
     "metadata": {
      "application/vnd.teradata.resultset": ""
     },
     "output_type": "execute_result"
    }
   ],
   "source": [
    "INSERT INTO FSCJ_attribution_model VALUES(0, 'SIMPLE');\n",
    "INSERT INTO FSCJ_attribution_model VALUES(1, 'UNIFORM:NA');"
   ]
  },
  {
   "cell_type": "markdown",
   "metadata": {},
   "source": [
    "<p style = 'font-size:16px;font-family:Arial;color:#00233C'>Now we are ready to invoke the Attribution function on our dataset. The dataset has all kinds of cross channel customer interactions we can analyze.</p>"
   ]
  },
  {
   "cell_type": "code",
   "execution_count": 9,
   "metadata": {},
   "outputs": [
    {
     "data": {
      "text/plain": [
       "Success: 0 rows affected"
      ]
     },
     "execution_count": 9,
     "metadata": {
      "application/vnd.teradata.resultset": ""
     },
     "output_type": "execute_result"
    }
   ],
   "source": [
    "CREATE MULTISET TABLE FSCJ_marketing_attribution AS (\n",
    "    SELECT * FROM Attribution (\n",
    "        ON (\n",
    "            SELECT\n",
    "                customer_identifier, interaction_timestamp, \n",
    "                TRANSLATE(interaction_type USING UNICODE_TO_LATIN) AS interaction_type, customer_days_active, \n",
    "                customer_type, marketing_placement, marketing_description, marketing_category,\n",
    "                interaction_type || product_category AS interaction_product\n",
    "            FROM DEMO_Financial.Customer_Journey\n",
    "            WHERE\n",
    "                interaction_type IN ('ACCOUNT_BOOKED_OFFLINE', 'ACCOUNT_BOOKED_ONLINE', 'CLICK', 'REFERRAL', 'BROWSE')\n",
    "                AND product_category <> '-1'\n",
    "        ) \n",
    "        PARTITION BY customer_identifier\n",
    "        ORDER BY interaction_timestamp\n",
    "        ON FSCJ_conversion_events AS ConversionEventTable DIMENSION\n",
    "        ON FSCJ_attribution_model AS FirstModel DIMENSION\n",
    "        USING\n",
    "            EventColumn ('interaction_type')\n",
    "            TimestampColumn ('interaction_timestamp')\n",
    "            WindowSize('rows:10')\n",
    "    ) AS attrib\n",
    ")\n",
    "WITH DATA;"
   ]
  },
  {
   "cell_type": "markdown",
   "metadata": {},
   "source": [
    "<p style = 'font-size:16px;font-family:Arial;color:#00233C'>Marketing attribution aims to identify the events leading to the opening of a credit card account and assign value to them. The specific conversion events in the data are 'ACCOUNT_BOOKED_ONLINE', 'ACCOUNT_BOOKED_OFFLINE'. Thus calculating the most influential events and channels that are driving customer acquisition. The attribution function in Vantage supports a variety of standard attribution models. Using Vantage we can quickly see how changes to the attribution model/parameters will affect our analyses!</p>\n",
    "\n",
    "<p style = 'font-size:16px;font-family:Arial;color:#00233C'>Now let's get some summary statistics from the results:</p>"
   ]
  },
  {
   "cell_type": "code",
   "execution_count": 10,
   "metadata": {},
   "outputs": [
    {
     "data": {
      "application/vnd.teradata.resultset": "\"MARKETING_DESCRIPTION\",\"avg_attrib\",\"sum_attrib\",\"time_to_conversion\"\n\"OTHER PROMOTION\",\"0.12269708441256559\",\"58.64920634920635\",\"10.126256256256257\"\n\"MONEYSUPERMARKET.COM PROMOTION\",\"0.2220879120879121\",\"14.435714285714287\",\"7.953019323671498\"\n\"REWARDS CARD PROMOTION\",\"0.10231916295930137\",\"29.570238095238096\",\"39.61428451178451\"\n\"GOLD CARD PROMOTION II\",\"0.14665750915750916\",\"7.626190476190477\",\"2.279333333333333\"\n\"PLATINUM CARD PROMOTION\",\"0.07232704402515723\",\"3.833333333333333\",\"19.674027777777777\"\n\"HOTEL CARD PROMOTION\",\"0.09703703703703703\",\"4.366666666666666\",\"6.186361111111111\"\n\"SECURED CARD PROMOTION\",\"0.03439153439153439\",\"2.1666666666666665\",\"11.110805555555556\"\n\"AIRLINE CARD PROMOTION\",\"0.08527966742252456\",\"23.281349206349205\",\"9.534586288416076\"\n\"GOLD CARD PROMOTION\",\"0.11260683760683761\",\"7.319444444444445\",\"13.39695987654321\"",
      "text/html": [
       "<div class = \"td-resultset-table-div\" style = \"max-height: 100%; overflow-y: auto\">\n",
       "      <table class=\"tdhistory246564\"><style>\n",
       "      table.tdhistory246564 { display: block !important; min-height: 273px !important; overflow: auto !important; height: 273px !important; width: 100% !important; border: 1px solid rgb(207, 207, 207) !important; border-collapse: collapse !important; ; color: var(--jp-ui-font-color1) !important; }\n",
       "      th.tdhistory246564 { border: 1px solid rgb(198,198,198) !important; border-collapse: collapse !important; ; padding: 2px 5px !important; ; font-size: 13px !important; ; text-align: center !important; white-space: normal !important; color: var(--jp-ui-font-color1) !important; }\n",
       "      th.tdhistory246564:last-child { text-align: left !important; }\n",
       "      tbody.tdhistory246564 tr:nth-child(even) { background: rgba(243, 243, 243, 0.75) !important; }\n",
       "      tbody.tdhistory246564 tr:nth-child(odd) { background: var(--jp-ui-inverse-font-color1) !important; }\n",
       "      td.tdhistory246564 { border: 1px solid rgb(207, 207, 207) !important; border-collapse: collapse !important; ; padding: 2px 5px !important; ; font-size: 13px !important; ; text-align: left !important;          white-space: nowrap !important; overflow:hidden !important; text-overflow:ellipsis !important;; }\n",
       "    </style><thead><tr style= \"background: rgba(243, 243, 243, 0.75)\"><th class=\"tdhistory246564\"></th><th class=\"tdhistory246564\">MARKETING_DESCRIPTION</th><th class=\"tdhistory246564\">avg_attrib</th><th class=\"tdhistory246564\">sum_attrib</th><th class=\"tdhistory246564\">time_to_conversion</th></tr></thead><tbody class=\"tdhistory246564 resultset-body\"><tr><th class=\"tdhistory246564\" style= \"background: rgba(243, 243, 243, 0.75)\">1</th><td class=\"tdhistory246564\">OTHER PROMOTION</td><td class=\"tdhistory246564\">0.12269708441256559</td><td class=\"tdhistory246564\">58.64920634920635</td><td class=\"tdhistory246564\">10.126256256256257</td></tr><tr><th class=\"tdhistory246564\" style= \"background: rgba(243, 243, 243, 0.75)\">2</th><td class=\"tdhistory246564\">MONEYSUPERMARKET.COM PROMOTION</td><td class=\"tdhistory246564\">0.2220879120879121</td><td class=\"tdhistory246564\">14.435714285714287</td><td class=\"tdhistory246564\">7.953019323671498</td></tr><tr><th class=\"tdhistory246564\" style= \"background: rgba(243, 243, 243, 0.75)\">3</th><td class=\"tdhistory246564\">REWARDS CARD PROMOTION</td><td class=\"tdhistory246564\">0.10231916295930137</td><td class=\"tdhistory246564\">29.570238095238096</td><td class=\"tdhistory246564\">39.61428451178451</td></tr><tr><th class=\"tdhistory246564\" style= \"background: rgba(243, 243, 243, 0.75)\">4</th><td class=\"tdhistory246564\">GOLD CARD PROMOTION II</td><td class=\"tdhistory246564\">0.14665750915750916</td><td class=\"tdhistory246564\">7.626190476190477</td><td class=\"tdhistory246564\">2.279333333333333</td></tr><tr><th class=\"tdhistory246564\" style= \"background: rgba(243, 243, 243, 0.75)\">5</th><td class=\"tdhistory246564\">PLATINUM CARD PROMOTION</td><td class=\"tdhistory246564\">0.07232704402515723</td><td class=\"tdhistory246564\">3.833333333333333</td><td class=\"tdhistory246564\">19.674027777777777</td></tr><tr><th class=\"tdhistory246564\" style= \"background: rgba(243, 243, 243, 0.75)\">6</th><td class=\"tdhistory246564\">HOTEL CARD PROMOTION</td><td class=\"tdhistory246564\">0.09703703703703703</td><td class=\"tdhistory246564\">4.366666666666666</td><td class=\"tdhistory246564\">6.186361111111111</td></tr><tr><th class=\"tdhistory246564\" style= \"background: rgba(243, 243, 243, 0.75)\">7</th><td class=\"tdhistory246564\">SECURED CARD PROMOTION</td><td class=\"tdhistory246564\">0.03439153439153439</td><td class=\"tdhistory246564\">2.1666666666666665</td><td class=\"tdhistory246564\">11.110805555555556</td></tr><tr><th class=\"tdhistory246564\" style= \"background: rgba(243, 243, 243, 0.75)\">8</th><td class=\"tdhistory246564\">AIRLINE CARD PROMOTION</td><td class=\"tdhistory246564\">0.08527966742252456</td><td class=\"tdhistory246564\">23.281349206349205</td><td class=\"tdhistory246564\">9.534586288416076</td></tr><tr><th class=\"tdhistory246564\" style= \"background: rgba(243, 243, 243, 0.75)\">9</th><td class=\"tdhistory246564\">GOLD CARD PROMOTION</td><td class=\"tdhistory246564\">0.11260683760683761</td><td class=\"tdhistory246564\">7.319444444444445</td><td class=\"tdhistory246564\">13.39695987654321</td></tr></tbody></table></div>"
      ]
     },
     "execution_count": 10,
     "metadata": {
      "application/vnd.teradata.resultset": "{\"resultSetID\":\"/home/jovyan/JupyterLabRoot/Teradata/Resultsets/2023.12.21_07.09.18.950_UTC\",\"historyID\":324,\"chunkID\":\"00001\",\"sessionid\":\"\",\"portnum\":\"\",\"dockermode\":\"docker\",\"totalRowCount\":9,\"chunkCount\":0,\"rowLimit\":0,\"columnMetadata\":[{\"columnName\":\"MARKETING_DESCRIPTION\",\"columnTypeName\":\"VARCHAR\",\"length\":50,\"scale\":50},{\"columnNumber\":1,\"columnName\":\"avg_attrib\",\"columnTypeName\":\"FLOAT\"},{\"columnNumber\":2,\"columnName\":\"sum_attrib\",\"columnTypeName\":\"FLOAT\"},{\"columnNumber\":3,\"columnName\":\"time_to_conversion\",\"columnTypeName\":\"FLOAT\"}]}"
     },
     "output_type": "execute_result"
    }
   ],
   "source": [
    "SELECT marketing_description, AVG(attribution) AS avg_attrib, SUM(attribution) AS sum_attrib, AVG(-time_to_conversion)/3600 AS time_to_conversion\n",
    "FROM FSCJ_marketing_attribution \n",
    "WHERE marketing_description NOT IN ('\\N', '-1')\n",
    "GROUP BY marketing_description;"
   ]
  },
  {
   "cell_type": "code",
   "execution_count": 11,
   "metadata": {},
   "outputs": [
    {
     "data": {
      "application/vnd.vegalite.v3+json": {
       "$schema": "https://vega.github.io/schema/vega-lite/v3.json",
       "data": {
        "format": {
         "type": "csv"
        },
        "values": "\"MARKETING_DESCRIPTION\",\"avg_attrib\",\"sum_attrib\",\"time_to_conversion\"\n\"OTHER PROMOTION\",\"0.12269708441256559\",\"58.64920634920635\",\"10.126256256256257\"\n\"MONEYSUPERMARKET.COM PROMOTION\",\"0.2220879120879121\",\"14.435714285714287\",\"7.953019323671498\"\n\"REWARDS CARD PROMOTION\",\"0.10231916295930137\",\"29.570238095238096\",\"39.61428451178451\"\n\"GOLD CARD PROMOTION II\",\"0.14665750915750916\",\"7.626190476190477\",\"2.279333333333333\"\n\"PLATINUM CARD PROMOTION\",\"0.07232704402515723\",\"3.833333333333333\",\"19.674027777777777\"\n\"HOTEL CARD PROMOTION\",\"0.09703703703703703\",\"4.366666666666666\",\"6.186361111111111\"\n\"SECURED CARD PROMOTION\",\"0.03439153439153439\",\"2.1666666666666665\",\"11.110805555555556\"\n\"AIRLINE CARD PROMOTION\",\"0.08527966742252456\",\"23.281349206349205\",\"9.534586288416076\"\n\"GOLD CARD PROMOTION\",\"0.11260683760683761\",\"7.319444444444445\",\"13.39695987654321\"\n"
       },
       "encoding": {
        "x": {
         "axis": {
          "grid": true,
          "title": "avg_attrib"
         },
         "field": "avg_attrib",
         "type": "quantitative"
        },
        "y": {
         "axis": {
          "grid": true,
          "title": "marketing_description"
         },
         "field": "MARKETING_DESCRIPTION",
         "type": "nominal"
        }
       },
       "height": "300",
       "mark": {
        "color": "#4C78A8",
        "type": "bar"
       },
       "title": "Average Attribution",
       "width": "700"
      },
      "image/png": "[encoded data removed]"
     },
     "execution_count": 11,
     "metadata": {
      "application/vnd.teradata.resultset": ""
     },
     "output_type": "execute_result"
    }
   ],
   "source": [
    "%chart x=avg_attrib, y=marketing_description, gridx=true, gridy=true, mark=bar, title=\"Average Attribution\", width=700, height=300"
   ]
  },
  {
   "cell_type": "markdown",
   "metadata": {},
   "source": [
    "<p style = 'font-size:16px;font-family:Arial;color:#00233C'>The above visualization is centered around the various promotions we have run. The larger the bar the more influence they had towards a customer opening an account. </p>\n",
    "\n"
   ]
  },
  {
   "cell_type": "code",
   "execution_count": 12,
   "metadata": {},
   "outputs": [
    {
     "data": {
      "application/vnd.vegalite.v3+json": {
       "$schema": "https://vega.github.io/schema/vega-lite/v3.json",
       "data": {
        "format": {
         "type": "csv"
        },
        "values": "\"MARKETING_DESCRIPTION\",\"avg_attrib\",\"sum_attrib\",\"time_to_conversion\"\n\"OTHER PROMOTION\",\"0.12269708441256559\",\"58.64920634920635\",\"10.126256256256257\"\n\"MONEYSUPERMARKET.COM PROMOTION\",\"0.2220879120879121\",\"14.435714285714287\",\"7.953019323671498\"\n\"REWARDS CARD PROMOTION\",\"0.10231916295930137\",\"29.570238095238096\",\"39.61428451178451\"\n\"GOLD CARD PROMOTION II\",\"0.14665750915750916\",\"7.626190476190477\",\"2.279333333333333\"\n\"PLATINUM CARD PROMOTION\",\"0.07232704402515723\",\"3.833333333333333\",\"19.674027777777777\"\n\"HOTEL CARD PROMOTION\",\"0.09703703703703703\",\"4.366666666666666\",\"6.186361111111111\"\n\"SECURED CARD PROMOTION\",\"0.03439153439153439\",\"2.1666666666666665\",\"11.110805555555556\"\n\"AIRLINE CARD PROMOTION\",\"0.08527966742252456\",\"23.281349206349205\",\"9.534586288416076\"\n\"GOLD CARD PROMOTION\",\"0.11260683760683761\",\"7.319444444444445\",\"13.39695987654321\"\n"
       },
       "encoding": {
        "x": {
         "axis": {
          "grid": true,
          "title": "sum_attrib"
         },
         "field": "sum_attrib",
         "type": "quantitative"
        },
        "y": {
         "axis": {
          "grid": true,
          "title": "marketing_description"
         },
         "field": "MARKETING_DESCRIPTION",
         "type": "nominal"
        }
       },
       "height": "300",
       "mark": {
        "color": "green",
        "type": "bar"
       },
       "title": "Total Attribution",
       "width": "700"
      },
      "image/png": "[encoded data removed]"
     },
     "execution_count": 12,
     "metadata": {
      "application/vnd.teradata.resultset": ""
     },
     "output_type": "execute_result"
    }
   ],
   "source": [
    "%chart x=sum_attrib, y=marketing_description, gridx=true, gridy=true, mark=bar, color=green, title=\"Total Attribution\", width=700, height=300"
   ]
  },
  {
   "cell_type": "markdown",
   "metadata": {},
   "source": [
    "<p style = 'font-size:16px;font-family:Arial;color:#00233C'>The chart above shows the total attribution score the promotion had. So, the biggest drivers of signups will be the longest. Here the OTHER PROMOTIONS followed by REWARDS CARD PROMOTION and then AIRLINE CARD PROMOTION. </p>\n",
    "\n"
   ]
  },
  {
   "cell_type": "code",
   "execution_count": 13,
   "metadata": {},
   "outputs": [
    {
     "data": {
      "application/vnd.vegalite.v3+json": {
       "$schema": "https://vega.github.io/schema/vega-lite/v3.json",
       "data": {
        "format": {
         "type": "csv"
        },
        "values": "\"MARKETING_DESCRIPTION\",\"avg_attrib\",\"sum_attrib\",\"time_to_conversion\"\n\"OTHER PROMOTION\",\"0.12269708441256559\",\"58.64920634920635\",\"10.126256256256257\"\n\"MONEYSUPERMARKET.COM PROMOTION\",\"0.2220879120879121\",\"14.435714285714287\",\"7.953019323671498\"\n\"REWARDS CARD PROMOTION\",\"0.10231916295930137\",\"29.570238095238096\",\"39.61428451178451\"\n\"GOLD CARD PROMOTION II\",\"0.14665750915750916\",\"7.626190476190477\",\"2.279333333333333\"\n\"PLATINUM CARD PROMOTION\",\"0.07232704402515723\",\"3.833333333333333\",\"19.674027777777777\"\n\"HOTEL CARD PROMOTION\",\"0.09703703703703703\",\"4.366666666666666\",\"6.186361111111111\"\n\"SECURED CARD PROMOTION\",\"0.03439153439153439\",\"2.1666666666666665\",\"11.110805555555556\"\n\"AIRLINE CARD PROMOTION\",\"0.08527966742252456\",\"23.281349206349205\",\"9.534586288416076\"\n\"GOLD CARD PROMOTION\",\"0.11260683760683761\",\"7.319444444444445\",\"13.39695987654321\"\n"
       },
       "encoding": {
        "x": {
         "axis": {
          "grid": true,
          "title": "time_to_conversion"
         },
         "field": "time_to_conversion",
         "type": "quantitative"
        },
        "y": {
         "axis": {
          "grid": true,
          "title": "marketing_description"
         },
         "field": "MARKETING_DESCRIPTION",
         "type": "nominal"
        }
       },
       "height": "300",
       "mark": {
        "color": "red",
        "type": "bar"
       },
       "title": "Time to Conversion",
       "width": "700"
      },
      "image/png": "[encoded data removed]"
     },
     "execution_count": 13,
     "metadata": {
      "application/vnd.teradata.resultset": ""
     },
     "output_type": "execute_result"
    }
   ],
   "source": [
    "%chart x=time_to_conversion, y=marketing_description, gridx=true, gridy=true, mark=bar, color=red, title=\"Time to Conversion\", width=700, height=300"
   ]
  },
  {
   "cell_type": "markdown",
   "metadata": {},
   "source": [
    "<p style = 'font-size:16px;font-family:Arial;color:#00233C'>The above chart shows time to conversion, so how many hours on average that promotion took place before the user went ahead and signed up. The shorter time - the faster people took action. We can see that the Gold Card Promotion II did overall the best, followed by the Hotel card and MoneySupermarket.com promotions.  </p>"
   ]
  },
  {
   "cell_type": "markdown",
   "metadata": {},
   "source": [
    "<hr style=\"height:2px;border:none;background-color:#00233C;\">\n",
    "<p style = 'font-size:20px;font-family:Arial;color:#00233C'><b>4. Channel analysis</b></p>\n",
    "\n",
    "<p style = 'font-size:16px;font-family:Arial;color:#00233C'>We have different promotions and advertising networks, now let's take a look at the traction we are getting with the various promotions across different channels:</p>"
   ]
  },
  {
   "cell_type": "code",
   "execution_count": 14,
   "metadata": {},
   "outputs": [
    {
     "data": {
      "application/vnd.teradata.resultset": "\"MARKETING_CATEGORY\",\"MARKETING_PLACEMENT\",\"total_attribution\"\n\"EMAIL_ADVERTISING\",\"EMAIL\",\"22.43015873015873\"\n\"INBRANCH\",\"INBRANCH_REFERRAL\",\"24.302777777777777\"\n\"OFFSITE_DISPLAY_ADVERTISING\",\"AFFILIATES\",\"8.75\"\n\"OFFSITE_DISPLAY_ADVERTISING\",\"DOTOMI\",\"0\"\n\"SEARCH_ADVERTISING\",\"GOOGLE\",\"16.291666666666664\"\n\"OFFSITE_DISPLAY_ADVERTISING\",\"MINT.COM\",\"4.309523809523808\"\n\"OFFSITE_DISPLAY_ADVERTISING\",\"FACEBOOK\",\"4.17063492063492\"\n\"ONSITE_DISPLAY_ADVERTISING\",\"HOMEPAGE_BANNER\",\"44.88333333333333\"\n\"OFFSITE_DISPLAY_ADVERTISING\",\"BLOOMBERG.COM\",\"8.75\"\n\"OFFSITE_DISPLAY_ADVERTISING\",\"AOL\",\"0\"\n\"OFFSITE_DISPLAY_ADVERTISING\",\"GOOGLE\",\"0.5\"\n\"OFFSITE_DISPLAY_ADVERTISING\",\"MONEYSUPERMARKET.COM\",\"15.860714285714286\"\n\"OFFSITE_DISPLAY_ADVERTISING\",\"CNBC.COM\",\"1\"",
      "text/html": [
       "<div class = \"td-resultset-table-div\" style = \"max-height: 100%; overflow-y: auto\">\n",
       "      <table class=\"tdhistory527015\"><style>\n",
       "      table.tdhistory527015 { display: block !important; min-height: 357px !important; overflow: auto !important; height: 357px !important; width: 100% !important; border: 1px solid rgb(207, 207, 207) !important; border-collapse: collapse !important; ; color: var(--jp-ui-font-color1) !important; }\n",
       "      th.tdhistory527015 { border: 1px solid rgb(198,198,198) !important; border-collapse: collapse !important; ; padding: 2px 5px !important; ; font-size: 13px !important; ; text-align: center !important; white-space: normal !important; color: var(--jp-ui-font-color1) !important; }\n",
       "      th.tdhistory527015:last-child { text-align: left !important; }\n",
       "      tbody.tdhistory527015 tr:nth-child(even) { background: rgba(243, 243, 243, 0.75) !important; }\n",
       "      tbody.tdhistory527015 tr:nth-child(odd) { background: var(--jp-ui-inverse-font-color1) !important; }\n",
       "      td.tdhistory527015 { border: 1px solid rgb(207, 207, 207) !important; border-collapse: collapse !important; ; padding: 2px 5px !important; ; font-size: 13px !important; ; text-align: left !important;          white-space: nowrap !important; overflow:hidden !important; text-overflow:ellipsis !important;; }\n",
       "    </style><thead><tr style= \"background: rgba(243, 243, 243, 0.75)\"><th class=\"tdhistory527015\"></th><th class=\"tdhistory527015\">MARKETING_CATEGORY</th><th class=\"tdhistory527015\">MARKETING_PLACEMENT</th><th class=\"tdhistory527015\">total_attribution</th></tr></thead><tbody class=\"tdhistory527015 resultset-body\"><tr><th class=\"tdhistory527015\" style= \"background: rgba(243, 243, 243, 0.75)\">1</th><td class=\"tdhistory527015\">EMAIL_ADVERTISING</td><td class=\"tdhistory527015\">EMAIL</td><td class=\"tdhistory527015\">22.43015873015873</td></tr><tr><th class=\"tdhistory527015\" style= \"background: rgba(243, 243, 243, 0.75)\">2</th><td class=\"tdhistory527015\">INBRANCH</td><td class=\"tdhistory527015\">INBRANCH_REFERRAL</td><td class=\"tdhistory527015\">24.302777777777777</td></tr><tr><th class=\"tdhistory527015\" style= \"background: rgba(243, 243, 243, 0.75)\">3</th><td class=\"tdhistory527015\">OFFSITE_DISPLAY_ADVERTISING</td><td class=\"tdhistory527015\">AFFILIATES</td><td class=\"tdhistory527015\">8.75</td></tr><tr><th class=\"tdhistory527015\" style= \"background: rgba(243, 243, 243, 0.75)\">4</th><td class=\"tdhistory527015\">OFFSITE_DISPLAY_ADVERTISING</td><td class=\"tdhistory527015\">DOTOMI</td><td class=\"tdhistory527015\">0</td></tr><tr><th class=\"tdhistory527015\" style= \"background: rgba(243, 243, 243, 0.75)\">5</th><td class=\"tdhistory527015\">SEARCH_ADVERTISING</td><td class=\"tdhistory527015\">GOOGLE</td><td class=\"tdhistory527015\">16.291666666666664</td></tr><tr><th class=\"tdhistory527015\" style= \"background: rgba(243, 243, 243, 0.75)\">6</th><td class=\"tdhistory527015\">OFFSITE_DISPLAY_ADVERTISING</td><td class=\"tdhistory527015\">MINT.COM</td><td class=\"tdhistory527015\">4.309523809523808</td></tr><tr><th class=\"tdhistory527015\" style= \"background: rgba(243, 243, 243, 0.75)\">7</th><td class=\"tdhistory527015\">OFFSITE_DISPLAY_ADVERTISING</td><td class=\"tdhistory527015\">FACEBOOK</td><td class=\"tdhistory527015\">4.17063492063492</td></tr><tr><th class=\"tdhistory527015\" style= \"background: rgba(243, 243, 243, 0.75)\">8</th><td class=\"tdhistory527015\">ONSITE_DISPLAY_ADVERTISING</td><td class=\"tdhistory527015\">HOMEPAGE_BANNER</td><td class=\"tdhistory527015\">44.88333333333333</td></tr><tr><th class=\"tdhistory527015\" style= \"background: rgba(243, 243, 243, 0.75)\">9</th><td class=\"tdhistory527015\">OFFSITE_DISPLAY_ADVERTISING</td><td class=\"tdhistory527015\">BLOOMBERG.COM</td><td class=\"tdhistory527015\">8.75</td></tr><tr><th class=\"tdhistory527015\" style= \"background: rgba(243, 243, 243, 0.75)\">10</th><td class=\"tdhistory527015\">OFFSITE_DISPLAY_ADVERTISING</td><td class=\"tdhistory527015\">AOL</td><td class=\"tdhistory527015\">0</td></tr><tr><th class=\"tdhistory527015\" style= \"background: rgba(243, 243, 243, 0.75)\">11</th><td class=\"tdhistory527015\">OFFSITE_DISPLAY_ADVERTISING</td><td class=\"tdhistory527015\">GOOGLE</td><td class=\"tdhistory527015\">0.5</td></tr><tr><th class=\"tdhistory527015\" style= \"background: rgba(243, 243, 243, 0.75)\">12</th><td class=\"tdhistory527015\">OFFSITE_DISPLAY_ADVERTISING</td><td class=\"tdhistory527015\">MONEYSUPERMARKET.COM</td><td class=\"tdhistory527015\">15.860714285714286</td></tr><tr><th class=\"tdhistory527015\" style= \"background: rgba(243, 243, 243, 0.75)\">13</th><td class=\"tdhistory527015\">OFFSITE_DISPLAY_ADVERTISING</td><td class=\"tdhistory527015\">CNBC.COM</td><td class=\"tdhistory527015\">1</td></tr></tbody></table></div>"
      ]
     },
     "execution_count": 14,
     "metadata": {
      "application/vnd.teradata.resultset": "{\"resultSetID\":\"/home/jovyan/JupyterLabRoot/Teradata/Resultsets/2023.12.21_07.09.19.231_UTC\",\"historyID\":325,\"chunkID\":\"00001\",\"sessionid\":\"\",\"portnum\":\"\",\"dockermode\":\"docker\",\"totalRowCount\":13,\"chunkCount\":0,\"rowLimit\":0,\"columnMetadata\":[{\"columnName\":\"MARKETING_CATEGORY\",\"columnTypeName\":\"VARCHAR\",\"length\":50,\"scale\":50},{\"columnNumber\":1,\"columnName\":\"MARKETING_PLACEMENT\",\"columnTypeName\":\"VARCHAR\",\"length\":50,\"scale\":50},{\"columnNumber\":2,\"columnName\":\"total_attribution\",\"columnTypeName\":\"FLOAT\"}]}"
     },
     "output_type": "execute_result"
    }
   ],
   "source": [
    "SELECT marketing_category, marketing_placement, SUM(attribution) AS total_attribution \n",
    "FROM FSCJ_marketing_attribution \n",
    "WHERE marketing_description NOT IN ('\\N', '-1')\n",
    "GROUP BY 1, 2;"
   ]
  },
  {
   "cell_type": "code",
   "execution_count": 15,
   "metadata": {},
   "outputs": [
    {
     "data": {
      "application/vnd.vegalite.v3+json": {
       "$schema": "https://vega.github.io/schema/vega-lite/v3.json",
       "data": {
        "format": {
         "type": "csv"
        },
        "values": "\"MARKETING_CATEGORY\",\"MARKETING_PLACEMENT\",\"total_attribution\"\n\"EMAIL_ADVERTISING\",\"EMAIL\",\"22.43015873015873\"\n\"INBRANCH\",\"INBRANCH_REFERRAL\",\"24.302777777777777\"\n\"OFFSITE_DISPLAY_ADVERTISING\",\"AFFILIATES\",\"8.75\"\n\"OFFSITE_DISPLAY_ADVERTISING\",\"DOTOMI\",\"0\"\n\"SEARCH_ADVERTISING\",\"GOOGLE\",\"16.291666666666664\"\n\"OFFSITE_DISPLAY_ADVERTISING\",\"MINT.COM\",\"4.309523809523808\"\n\"OFFSITE_DISPLAY_ADVERTISING\",\"FACEBOOK\",\"4.17063492063492\"\n\"ONSITE_DISPLAY_ADVERTISING\",\"HOMEPAGE_BANNER\",\"44.88333333333333\"\n\"OFFSITE_DISPLAY_ADVERTISING\",\"BLOOMBERG.COM\",\"8.75\"\n\"OFFSITE_DISPLAY_ADVERTISING\",\"AOL\",\"0\"\n\"OFFSITE_DISPLAY_ADVERTISING\",\"GOOGLE\",\"0.5\"\n\"OFFSITE_DISPLAY_ADVERTISING\",\"MONEYSUPERMARKET.COM\",\"15.860714285714286\"\n\"OFFSITE_DISPLAY_ADVERTISING\",\"CNBC.COM\",\"1\"\n"
       },
       "encoding": {
        "x": {
         "axis": {
          "grid": true,
          "title": "total_attribution"
         },
         "field": "total_attribution",
         "type": "quantitative"
        },
        "y": {
         "axis": {
          "grid": true,
          "title": "marketing_placement"
         },
         "field": "MARKETING_PLACEMENT",
         "type": "nominal"
        }
       },
       "height": "300",
       "mark": {
        "color": "purple",
        "type": "bar"
       },
       "title": "Channel Performance",
       "width": "700"
      },
      "image/png": "[encoded data removed]"
     },
     "execution_count": 15,
     "metadata": {
      "application/vnd.teradata.resultset": ""
     },
     "output_type": "execute_result"
    }
   ],
   "source": [
    "%chart x=total_attribution, y=marketing_placement, gridx=true, gridy=true, mark=bar, color=purple, title=\"Channel Performance\", width=700, height=300"
   ]
  },
  {
   "cell_type": "markdown",
   "metadata": {},
   "source": [
    "<p style = 'font-size:16px;font-family:Arial;color:#00233C'>The next visual is centered around the various channels where we ran our marketing. The length of the bar shows the overall total attribution to that channel. The colors correspond to the promotions that we looked at in the top view, so we can see which promotions were on which channels and the performance of each. In the data resultset you can see that there is email, in branch (offline) as well as web. </p>\n",
    "\n",
    "<p style = 'font-size:16px;font-family:Arial;color:#00233C'>For the digital channels - overall we can see that the homepage ads did the best followed by email and Google searches. </p>\n",
    "\n",
    "<p style = 'font-size:16px;font-family:Arial;color:#00233C'>Using a BI tool we can take this analysis to another level. We do not have BI tool available in this environment so we have captured a screen image displaying an analysis of data produced by the analysis we did using the queries above. </p>\n",
    "\n",
    "<p style = 'font-size:16px;font-family:Arial;color:#00233C'>The Top chart shows the Total Attributions for various kinds of promotions. The biggest drivers are the promotions that have the largest circle size. </p>\n",
    "<img  src=\"images/ChannelPerformance.png\"/>"
   ]
  },
  {
   "cell_type": "markdown",
   "metadata": {},
   "source": [
    "<p style = 'font-size:16px;font-family:Arial;color:#00233C'>The chart below with vertical lines shows the various channels and the colors of the bars indicate the type of promotion. Larger the size of the colored bar , more the contribution of that promotion using the specified channel. </p>\n",
    "\n",
    "<img  src=\"images/AttrSumm.png\"/>"
   ]
  },
  {
   "cell_type": "markdown",
   "metadata": {},
   "source": [
    "<p style = 'font-size:16px;font-family:Arial;color:#00233C'>Now we can see the promotions and their success across the various channels. We can see an interesting insight that the Money Supermarket promotion and the Gold Card Promotion II were our most effective promotions. It is interesting to compare Gold Card II to the first Gold Card Promotion. Looking down at our channels we can see that the first Gold Card promotion was only run over email and the Gold Card Promotion II was run on multiple channels and it was a lot more effective for the same exact product. </p>\n",
    "\n",
    "<p style = 'font-size:16px;font-family:Arial;color:#00233C'>Using this dashboard and the power of Vantage can easily compare the different promotions and we can also see that we did a special promotion on MoneySupermarket.com that was particularly effective. This was only run on that particular channel and had both a quick time to conversion as well as strong average attribution.</p>\n",
    "\n",
    "<p style = 'font-size:16px;font-family:Arial;color:#00233C'>We can also look at some other ones. We can see that we did a Rewards Card promotion that did well across channels but was particularly effective through in branch referrals. The airline card promotion did the best on the homepage and Google vs. the other channels.</p>"
   ]
  },
  {
   "cell_type": "markdown",
   "metadata": {},
   "source": [
    "<hr style=\"height:2px;border:none;background-color:#00233C;\">\n",
    "<p style = 'font-size:20px;font-family:Arial;color:#00233C'><b>5. Path To Adoption</b>\n",
    "\n",
    "<p style = 'font-size:16px;font-family:Arial;color:#00233C'>We want to see how our customers are opening higher end accounts such as wealth management. Many retail banks have found wealth management to be a key profit centre so they are looking to build their business in this area.</p>\n",
    "\n",
    "<p style = 'font-size:16px;font-family:Arial;color:#00233C'>We can use powerful nPath® analytic function in Vantage to do pattern/time series analysis that is very hard to do in SQL. We want to see the common paths that customers take when they go to open a wealth management account. We will also look at the affiliation between the other accounts that wealth management customers hold. </p>\n",
    "\n",
    "<p style = 'font-size:16px;font-family:Arial;color:#00233C'>In the code here you can see a few key points:</p>\n",
    "<li style = 'font-size:16px;font-family:Arial;color:#00233C'>We are concatenating the interaction and the product category to make unique events </li>\n",
    "<li style = 'font-size:16px;font-family:Arial;color:#00233C'>We are ignoring the starting / completing of the wealth management application because everyone does that by definition and in this case we want to reduce the noise. Further analysis could be done later on incomplete applications or other scenarios.</li>\n",
    "<li style = 'font-size:16px;font-family:Arial;color:#00233C'>The __'PATTERN'__ we are searching for is 4 events followed by opening (ACCOUNT_BOOKED) a Wealth Management account.</li>\n",
    "<li style = 'font-size:16px;font-family:Arial;color:#00233C'>The __'SYMBOLS'__ we are using is anything but opening a wealth management account is 'EVENT' and opening said account is 'ADOPTION' </li>"
   ]
  },
  {
   "cell_type": "code",
   "execution_count": 16,
   "metadata": {},
   "outputs": [
    {
     "data": {
      "application/vnd.teradata.resultset": "\"interaction_type_list\",\"click_depth\",\"customer_identifier\",\"product_category\"\n\"[ACCOUNT_BOOKED_ONLINE_CD, ACCOUNT_BOOKED_OFFLINE_CD, BROWSE_WEALTH MANAGEMENT, REFERRAL_WEALTH MANAGEMENT, ACCOUNT_BOOKED_OFFLINE_WEALTH MANAGEMENT]\",\"5\",\"103041743ispzuvy379652355\",\"WEALTH MANAGEMENT\"\n\"[STARTS_APPLICATION_BROKERAGE, COMPARE_CHECKING, ACCOUNT_BOOKED_OFFLINE_BROKERAGE, OLB_CHECKING, ACCOUNT_BOOKED_OFFLINE_WEALTH MANAGEMENT]\",\"5\",\"108350971xmrixvo993049433\",\"WEALTH MANAGEMENT\"\n\"[COMPLETE_APPLICATION_BROKERAGE, ACCOUNT_BOOKED_ONLINE_BROKERAGE, BROWSE_WEALTH MANAGEMENT, COMPARE_WEALTH MANAGEMENT, ACCOUNT_BOOKED_ONLINE_WEALTH MANAGEMENT]\",\"5\",\"113571841mglzzme226913342\",\"WEALTH MANAGEMENT\"\n\"[COMPLETE_APPLICATION_SAVINGS, ACCOUNT_BOOKED_ONLINE_SAVINGS, COMPARE_WEALTH MANAGEMENT, ENROLL_AUTO_SAVINGS_CHECKING, ACCOUNT_BOOKED_ONLINE_WEALTH MANAGEMENT]\",\"5\",\"106966564pzjxhia819813298\",\"WEALTH MANAGEMENT\"\n\"[COMPLETE_APPLICATION_BROKERAGE, COMPARE_BROKERAGE, ACCOUNT_BOOKED_ONLINE_BROKERAGE, BROWSE_WEALTH MANAGEMENT, ACCOUNT_BOOKED_ONLINE_WEALTH MANAGEMENT]\",\"5\",\"113852197uxhbxhc635320451\",\"WEALTH MANAGEMENT\"",
      "text/html": [
       "<div class = \"td-resultset-table-div\" style = \"max-height: 100%; overflow-y: auto\">\n",
       "      <table class=\"tdhistory592998\"><style>\n",
       "      table.tdhistory592998 { display: block !important; min-height: 189px !important; overflow: auto !important; height: 189px !important; width: 100% !important; border: 1px solid rgb(207, 207, 207) !important; border-collapse: collapse !important; ; color: var(--jp-ui-font-color1) !important; }\n",
       "      th.tdhistory592998 { border: 1px solid rgb(198,198,198) !important; border-collapse: collapse !important; ; padding: 2px 5px !important; ; font-size: 13px !important; ; text-align: center !important; white-space: normal !important; color: var(--jp-ui-font-color1) !important; }\n",
       "      th.tdhistory592998:last-child { text-align: left !important; }\n",
       "      tbody.tdhistory592998 tr:nth-child(even) { background: rgba(243, 243, 243, 0.75) !important; }\n",
       "      tbody.tdhistory592998 tr:nth-child(odd) { background: var(--jp-ui-inverse-font-color1) !important; }\n",
       "      td.tdhistory592998 { border: 1px solid rgb(207, 207, 207) !important; border-collapse: collapse !important; ; padding: 2px 5px !important; ; font-size: 13px !important; ; text-align: left !important;          white-space: nowrap !important; overflow:hidden !important; text-overflow:ellipsis !important;; }\n",
       "    </style><thead><tr style= \"background: rgba(243, 243, 243, 0.75)\"><th class=\"tdhistory592998\"></th><th class=\"tdhistory592998\">interaction_type_list</th><th class=\"tdhistory592998\">click_depth</th><th class=\"tdhistory592998\">customer_identifier</th><th class=\"tdhistory592998\">product_category</th></tr></thead><tbody class=\"tdhistory592998 resultset-body\"><tr><th class=\"tdhistory592998\" style= \"background: rgba(243, 243, 243, 0.75)\">1</th><td class=\"tdhistory592998\">[ACCOUNT_BOOKED_ONLINE_CD, ACCOUNT_BOOKED_OFFLINE_CD, BROWSE_WEALTH MANAGEMENT, REFERRAL_WEALTH MANAGEMENT, ACCOUNT_BOOKED_OFFLINE_WEALTH MANAGEMENT]</td><td class=\"tdhistory592998\">5</td><td class=\"tdhistory592998\">103041743ispzuvy379652355</td><td class=\"tdhistory592998\">WEALTH MANAGEMENT</td></tr><tr><th class=\"tdhistory592998\" style= \"background: rgba(243, 243, 243, 0.75)\">2</th><td class=\"tdhistory592998\">[STARTS_APPLICATION_BROKERAGE, COMPARE_CHECKING, ACCOUNT_BOOKED_OFFLINE_BROKERAGE, OLB_CHECKING, ACCOUNT_BOOKED_OFFLINE_WEALTH MANAGEMENT]</td><td class=\"tdhistory592998\">5</td><td class=\"tdhistory592998\">108350971xmrixvo993049433</td><td class=\"tdhistory592998\">WEALTH MANAGEMENT</td></tr><tr><th class=\"tdhistory592998\" style= \"background: rgba(243, 243, 243, 0.75)\">3</th><td class=\"tdhistory592998\">[COMPLETE_APPLICATION_BROKERAGE, ACCOUNT_BOOKED_ONLINE_BROKERAGE, BROWSE_WEALTH MANAGEMENT, COMPARE_WEALTH MANAGEMENT, ACCOUNT_BOOKED_ONLINE_WEALTH MANAGEMENT]</td><td class=\"tdhistory592998\">5</td><td class=\"tdhistory592998\">113571841mglzzme226913342</td><td class=\"tdhistory592998\">WEALTH MANAGEMENT</td></tr><tr><th class=\"tdhistory592998\" style= \"background: rgba(243, 243, 243, 0.75)\">4</th><td class=\"tdhistory592998\">[COMPLETE_APPLICATION_SAVINGS, ACCOUNT_BOOKED_ONLINE_SAVINGS, COMPARE_WEALTH MANAGEMENT, ENROLL_AUTO_SAVINGS_CHECKING, ACCOUNT_BOOKED_ONLINE_WEALTH MANAGEMENT]</td><td class=\"tdhistory592998\">5</td><td class=\"tdhistory592998\">106966564pzjxhia819813298</td><td class=\"tdhistory592998\">WEALTH MANAGEMENT</td></tr><tr><th class=\"tdhistory592998\" style= \"background: rgba(243, 243, 243, 0.75)\">5</th><td class=\"tdhistory592998\">[COMPLETE_APPLICATION_BROKERAGE, COMPARE_BROKERAGE, ACCOUNT_BOOKED_ONLINE_BROKERAGE, BROWSE_WEALTH MANAGEMENT, ACCOUNT_BOOKED_ONLINE_WEALTH MANAGEMENT]</td><td class=\"tdhistory592998\">5</td><td class=\"tdhistory592998\">113852197uxhbxhc635320451</td><td class=\"tdhistory592998\">WEALTH MANAGEMENT</td></tr></tbody></table></div>"
      ]
     },
     "execution_count": 16,
     "metadata": {
      "application/vnd.teradata.resultset": "{\"resultSetID\":\"/home/jovyan/JupyterLabRoot/Teradata/Resultsets/2023.12.21_07.09.45.308_UTC\",\"historyID\":326,\"chunkID\":\"00001\",\"sessionid\":\"\",\"portnum\":\"\",\"dockermode\":\"docker\",\"totalRowCount\":5,\"chunkCount\":0,\"rowLimit\":0,\"columnMetadata\":[{\"columnName\":\"interaction_type_list\",\"columnTypeName\":\"LONG VARCHAR\",\"length\":64000,\"scale\":64000},{\"columnNumber\":1,\"columnName\":\"click_depth\",\"columnTypeName\":\"INTEGER\"},{\"columnNumber\":2,\"columnName\":\"customer_identifier\",\"columnTypeName\":\"VARCHAR\",\"length\":26,\"scale\":26},{\"columnNumber\":3,\"columnName\":\"product_category\",\"columnTypeName\":\"VARCHAR\",\"length\":90,\"scale\":90}]}"
     },
     "output_type": "execute_result"
    }
   ],
   "source": [
    "SELECT TOP 5 *\n",
    "FROM nPath (\n",
    "    ON (\n",
    "        SELECT\n",
    "            customer_identifier,\n",
    "            interaction_timestamp,\n",
    "            interaction_type,\n",
    "            product_category,\n",
    "            interaction_type || '_' || product_category AS event,\n",
    "            marketing_category,\n",
    "            marketing_description,\n",
    "            marketing_placement,\n",
    "            sales_channel,\n",
    "            conversion_sales,\n",
    "            conversion_cost,\n",
    "            conversion_margin\n",
    "        FROM\n",
    "            DEMO_Financial.Customer_Journey\n",
    "        WHERE\n",
    "            product_category <> '-1'\n",
    "            AND interaction_type || '_' || product_category <> 'STARTS_APPLICATION_WEALTH MANAGEMENT'\n",
    "            AND interaction_type || '_' || product_category <> 'COMPLETE_APPLICATION_WEALTH MANAGEMENT'\n",
    "    )\n",
    "    PARTITION BY\n",
    "        customer_identifier\n",
    "    ORDER BY\n",
    "        interaction_timestamp\n",
    "    USING\n",
    "        MODE (NONOVERLAPPING)\n",
    "        -- Limit to a depth of 4\n",
    "        PATTERN ('(EVENT){4}.ADOPTION')\n",
    "        SYMBOLS (\n",
    "            event NOT LIKE 'ACCOUNT_BOOKED%_WEALTH MANAGEMENT' AS EVENT,\n",
    "            event LIKE 'ACCOUNT_BOOKED%' AND product_category = 'WEALTH MANAGEMENT' AS ADOPTION\n",
    "        )\n",
    "    RESULT (\n",
    "        ACCUMULATE(event OF ANY(EVENT, ADOPTION)) AS interaction_type_list,\n",
    "        COUNT(event OF ANY(EVENT, ADOPTION)) AS click_depth,\n",
    "        FIRST(customer_identifier OF ADOPTION) AS customer_identifier,\n",
    "        FIRST(product_category OF ADOPTION) AS product_category\n",
    "    )\n",
    ") a;"
   ]
  },
  {
   "cell_type": "markdown",
   "metadata": {},
   "source": [
    "<p style = 'font-size:18px;font-family:Arial;'>A visualization of this gives us lots of insight into the most common paths that users are taking when opening Wealth Management accounts. This is an SQL notebook and we have another Notebook for same usecase which has python code for visualizations. A Sankey Diagram was created using the output (interacion_type_list) of the nPath® function used in the query above and below is the image for the nPath® function.</p>\n",
    "\n",
    "<img  src=\"images/PathAnalysis.png\"/>"
   ]
  },
  {
   "cell_type": "markdown",
   "metadata": {},
   "source": [
    "<p style = 'font-size:16px;font-family:Arial;'>We can filter it down to the most popular paths:</p>\n",
    "\n",
    "<img  src=\"images/PathForTopCust.png\"/>"
   ]
  },
  {
   "cell_type": "markdown",
   "metadata": {},
   "source": [
    "<p style = 'font-size:16px;font-family:Arial;'>The above diagram shows paths which have at least 16 customers on the path.  Of course, this notebook is just working with small data to demonstrate the functionality. In a real-world data volume, you’d be filtering for paths repeated hundreds or thousands of times. </p>\n",
    "  \n",
    "<p style = 'font-size:16px;font-family:Arial;'>So, let’s start by looking at the drivers of wealth management accounts online. We can see that the ‘Compare’ tool that the bank has on its’ website is a main step in opening an account. This allows you to compare its’ wealth management offerings to its competitors and this is proving to be very compelling. So, customers are browsing the offerings then using the compare tool and ultimately booking. </p>\n",
    "\n",
    "<p style = 'font-size:16px;font-family:Arial;'>The other main drivers of online account signups are people signing up for an auto-savings plan. So, people that are savings minded tend to open wealth management accounts. Also, general browsing the offerings and opening a CD appear to be secondary paths as well. </p>\n",
    "\n",
    "<p style = 'font-size:16px;font-family:Arial;'>Moving to offline - which we can see has different drivers. It appears to be predominately people that are opening other types of accounts as well such as CDs and Brokerage - both online and offline. We can see that the main path to booking a wealth management account offline is from in-branch referrals. So, people go into a branch and are opening another type of account and they are referred to opening a wealth management account as well!</p>"
   ]
  },
  {
   "cell_type": "markdown",
   "metadata": {},
   "source": [
    "<hr style=\"height:2px;border:none;background-color:#00233C;\">\n",
    "<p style = 'font-size:20px;font-family:Arial;color:#00233C'><b>6. Cleanup </b></p>\n",
    "<p style = 'font-size:18px;font-family:Arial;color:#00233C'><b>Work Tables</b></p>\n",
    "<p style = 'font-size:16px;font-family:Arial;color:#00233C'>Cleanup work tables to prevent errors next time.</p>"
   ]
  },
  {
   "cell_type": "code",
   "execution_count": 17,
   "metadata": {},
   "outputs": [
    {
     "data": {
      "text/plain": [
       "Success: 14 rows affected"
      ]
     },
     "execution_count": 17,
     "metadata": {
      "application/vnd.teradata.resultset": ""
     },
     "output_type": "execute_result"
    }
   ],
   "source": [
    "DROP TABLE FSCJ_conversion_events;"
   ]
  },
  {
   "cell_type": "code",
   "execution_count": 18,
   "metadata": {},
   "outputs": [
    {
     "data": {
      "text/plain": [
       "Success: 15 rows affected"
      ]
     },
     "execution_count": 18,
     "metadata": {
      "application/vnd.teradata.resultset": ""
     },
     "output_type": "execute_result"
    }
   ],
   "source": [
    "DROP TABLE FSCJ_attribution_model;"
   ]
  },
  {
   "cell_type": "code",
   "execution_count": 19,
   "metadata": {},
   "outputs": [
    {
     "data": {
      "text/plain": [
       "Success: 24 rows affected"
      ]
     },
     "execution_count": 19,
     "metadata": {
      "application/vnd.teradata.resultset": ""
     },
     "output_type": "execute_result"
    }
   ],
   "source": [
    "DROP TABLE FSCJ_marketing_attribution;"
   ]
  },
  {
   "cell_type": "markdown",
   "metadata": {},
   "source": [
    "<p style = 'font-size:18px;font-family:Arial;color:#00233C'> <b>Databases and Tables </b></p>\n",
    "<p style = 'font-size:16px;font-family:Arial;color:#00233C'>The following code will clean up tables and databases created above.</p>"
   ]
  },
  {
   "cell_type": "code",
   "execution_count": 20,
   "metadata": {},
   "outputs": [
    {
     "data": {
      "text/plain": [
       "Success: 0 rows affected"
      ]
     },
     "execution_count": 20,
     "metadata": {
      "application/vnd.teradata.resultset": ""
     },
     "output_type": "execute_result"
    },
    {
     "data": {
      "text/plain": [
       "Success: 0 rows affected"
      ]
     },
     "execution_count": 20,
     "metadata": {
      "application/vnd.teradata.resultset": ""
     },
     "output_type": "execute_result"
    },
    {
     "data": {
      "application/vnd.teradata.resultset": "\"Message\"\n\"Removed objects related to DEMO_Financial. That ran for 0:00:05.88\"",
      "text/html": [
       "<div class = \"td-resultset-table-div\" style = \"max-height: 100%; overflow-y: auto\">\n",
       "      <table class=\"tdhistory377539\"><style>\n",
       "      table.tdhistory377539 { display: block !important; min-height: 105px !important; overflow: auto !important; height: 105px !important; width: 100% !important; border: 1px solid rgb(207, 207, 207) !important; border-collapse: collapse !important; ; color: var(--jp-ui-font-color1) !important; }\n",
       "      th.tdhistory377539 { border: 1px solid rgb(198,198,198) !important; border-collapse: collapse !important; ; padding: 2px 5px !important; ; font-size: 13px !important; ; text-align: center !important; white-space: normal !important; color: var(--jp-ui-font-color1) !important; }\n",
       "      th.tdhistory377539:last-child { text-align: left !important; }\n",
       "      tbody.tdhistory377539 tr:nth-child(even) { background: rgba(243, 243, 243, 0.75) !important; }\n",
       "      tbody.tdhistory377539 tr:nth-child(odd) { background: var(--jp-ui-inverse-font-color1) !important; }\n",
       "      td.tdhistory377539 { border: 1px solid rgb(207, 207, 207) !important; border-collapse: collapse !important; ; padding: 2px 5px !important; ; font-size: 13px !important; ; text-align: left !important;          white-space: nowrap !important; overflow:hidden !important; text-overflow:ellipsis !important;; }\n",
       "    </style><thead><tr style= \"background: rgba(243, 243, 243, 0.75)\"><th class=\"tdhistory377539\"></th><th class=\"tdhistory377539\">Message</th></tr></thead><tbody class=\"tdhistory377539 resultset-body\"><tr><th class=\"tdhistory377539\" style= \"background: rgba(243, 243, 243, 0.75)\">1</th><td class=\"tdhistory377539\">Removed objects related to DEMO_Financial. That ran for 0:00:05.88</td></tr></tbody></table></div>"
      ]
     },
     "execution_count": 20,
     "metadata": {
      "application/vnd.teradata.resultset": "{\"resultSetID\":\"/home/jovyan/JupyterLabRoot/Teradata/Resultsets/2023.12.21_07.09.52.708_UTC\",\"historyID\":330,\"chunkID\":\"00001\",\"sessionid\":\"\",\"portnum\":\"\",\"dockermode\":\"docker\",\"totalRowCount\":1,\"chunkCount\":0,\"rowLimit\":0,\"columnMetadata\":[{\"columnName\":\"Message\",\"columnTypeName\":\"VARCHAR\",\"length\":68,\"scale\":68}]}"
     },
     "output_type": "execute_result"
    }
   ],
   "source": [
    "call remove_data('DEMO_Financial');-- takes about 10 seconds, optional if you want to use the data later"
   ]
  },
  {
   "cell_type": "markdown",
   "metadata": {},
   "source": [
    "<hr style=\"height:2px;border:none;background-color:#00233C;\">\n",
    "<p style = 'font-size:20px;font-family:Arial;color:#00233C'><b>Dataset</b>\n",
    "\n",
    "<p style = 'font-size:16px;font-family:Arial;color:#00233C'>The data for this use case is stored in the `FSCustomerJourney` database. </p>\n",
    "\n",
    "<b style = 'font-size:20px;font-family:Arial;color:#00233C'>Integrated Contact History </b>\n",
    "\n",
    "<p style = 'font-size:16px;font-family:Arial;color:#00233C'>The data for this use case is taken from Customer_Journey table(Details below) from the DEMO_FSCustomerJourney Database. It is data from various source systems and channels already combined and put into one big table. This is all of the customer interactions, in a customer system this might be a view on top of various source tables.</p>\n",
    "\n",
    "`Customer_Journey`\n",
    "\n",
    "- `customer_skey`: customer key\n",
    "- `customer_identifier`: unique customer identifier\n",
    "- `customer_cookie`: cookie placed on customers device\n",
    "- `customer_online_id`: boolean - does the customer have an online account\n",
    "- `customer_offline_id`: customer account number\n",
    "- `customer_type`: is this a high value customer or just a vistor browsing the website?\n",
    "- `customer_days_active`: how long has the customer been active\n",
    "- `interaction_session_number`: session identifier\n",
    "- `interaction_timestamp`: timestamp for this event\n",
    "- `interaction_source`: channel this event is from (online / offline, in branch etc.)\n",
    "- `interaction_type`: type of event\n",
    "- `sales_channel`: channel a sales event was in\n",
    "- `conversion_id`: sales conversion identifier\n",
    "- `product_category`: what type of product the event concerned (checking, savings, cd etc..)\n",
    "- `product_type`: unused\n",
    "- `conversion_sales`: unused\n",
    "- `conversion_cost`: unused\n",
    "- `conversion_margin`: unused\n",
    "- `conversion_units`: unused\n",
    "- `marketing_code`: marketing identifier\n",
    "- `marketing_category`: marketing channel (inbranch, website, email etc..)\n",
    "- `marketing_description`: marketing campaign name\n",
    "- `marketing_placement`: specific marketing outlet (Google, Bloomberg.com etc..)\n",
    "- `mobile_flag`: boolean was on a mobile device\n",
    "- `updt`: unused"
   ]
  },
  {
   "cell_type": "markdown",
   "metadata": {},
   "source": [
    "<footer style=\"padding-bottom:35px; background:#f9f9f9; border-bottom:3px solid #00233C\">\n",
    "    <div style=\"float:left;margin-top:14px\">ClearScape Analytics™</div>\n",
    "    <div style=\"float:right;\">\n",
    "        <div style=\"float:left; margin-top:14px\">\n",
    "            Copyright © Teradata Corporation - 2023. All Rights Reserved\n",
    "        </div>\n",
    "    </div>\n",
    "</footer>"
   ]
  }
 ],
 "metadata": {
  "kernelspec": {
   "display_name": "Teradata SQL",
   "language": "Teradata SQL",
   "name": "teradatasql"
  },
  "language_info": {
   "codemirror_mode": "Teradata SQL",
   "file_extension": ".tdrs",
   "mimetype": "application/vnd.teradata.resultset",
   "name": "Teradata SQL",
   "nbconvert_exporter": "",
   "pygments_lexer": "",
   "version": "16.20"
  }
 },
 "nbformat": 4,
 "nbformat_minor": 4
}
