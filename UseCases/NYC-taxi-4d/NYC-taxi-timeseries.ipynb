{
 "cells": [
  {
   "cell_type": "markdown",
   "metadata": {},
   "source": [
    "<header style=\"padding:1px;background:#f9f9f9;border-top:3px solid #00b2b1\"><img id=\"Teradata-logo\" src=\"https://www.teradata.com/Teradata/Images/Rebrand/Teradata_logo-two_color.png\" alt=\"Teradata\" width=\"220\" align=\"right\" />\n",
    "\n",
    "<b style = 'font-size:28px;font-family:Arial;color:#E37C4D'>4D Analytics using the New York City Taxi dataset --Temporal and Timeseries</b>\n",
    "</header>\n",
    "\n",
    "<p style = 'font-size:18px;font-family:Arial;color:#E37C4D'><b>Introduction</b></p>"
   ]
  },
  {
   "cell_type": "markdown",
   "metadata": {},
   "source": [
    "<p style = 'font-size:16px;font-family:Arial'>\n",
    "This is a demonstration of Vantage capabilities for\n",
    "    <ul style = 'font-size:16px;font-family:Arial'>\n",
    "<li>Temporal using the PERIOD data type, CONTAINS, OVERLAPS and EXPAND</li>\n",
    "        <li>Timeseries and Primary Time Index</li>\n",
    "        </ul>\n",
    "    </p>\n",
    "    "
   ]
  },
  {
   "cell_type": "markdown",
   "metadata": {},
   "source": [
    "<p style = 'font-size:28px;font-family:Arial;color:#E37C4D'><b>1. Connect to Vantage and explore the dataset</b></p>\n"
   ]
  },
  {
   "cell_type": "markdown",
   "metadata": {},
   "source": [
    "<p style = 'font-size:18px;font-family:Arial;color:#E37C4D'> <b>Let's start by connecting to the Teradata system </b></p>\n",
    "<p style = 'font-size:16px;font-family:Arial'>You will be prompted to provide the password. Enter your password, press Enter, then use down arrow to go to next cell.</p>"
   ]
  },
  {
   "cell_type": "code",
   "execution_count": null,
   "metadata": {},
   "outputs": [],
   "source": [
    "%connect local, hidewarnings=true"
   ]
  },
  {
   "cell_type": "markdown",
   "metadata": {},
   "source": [
    "<p style = 'font-size:16px;font-family:Arial'>Setup for execution of notebook. Begin running steps with Shift + Enter keys.</p>"
   ]
  },
  {
   "cell_type": "code",
   "execution_count": null,
   "metadata": {},
   "outputs": [],
   "source": [
    "Set query_band='DEMO=NYC-taxi-timeseries.ipynb;' update for session;"
   ]
  },
  {
   "cell_type": "markdown",
   "metadata": {},
   "source": [
    "<p style = 'font-size:18px;font-family:Arial;color:#E37C4D'> <b>Getting Data for This Demo</b></p>\n",
    "<p style = 'font-size:16px;font-family:Arial'>We have provided data for this demo on cloud storage. In this demo since we are using Temporal table we will be creating databases and tables in local storage and use them in the notebook. Please execute the procedure in the next cell.</p>"
   ]
  },
  {
   "cell_type": "code",
   "execution_count": null,
   "metadata": {},
   "outputs": [],
   "source": [
    "call get_data('DEMO_NYCTaxi_cloud');    -- takes about 25 seconds, estimated space: 0 MB\n",
    "--call get_data('DEMO_NYCTaxi_local');     -- takes about 1minute 20 seconds, estimated space: 70 MB"
   ]
  },
  {
   "cell_type": "markdown",
   "metadata": {},
   "source": [
    "<p style = 'font-size:16px;font-family:Arial'>Optional step – if you want to see status of databases/tables created and space used.</p>"
   ]
  },
  {
   "cell_type": "code",
   "execution_count": null,
   "metadata": {},
   "outputs": [],
   "source": [
    "call space_report();  -- optional, takes about 10 seconds"
   ]
  },
  {
   "cell_type": "markdown",
   "metadata": {},
   "source": [
    "<p style = 'font-size:18px;font-family:Arial;color:#E37C4D'> <b> Access data in Vantage  </b> </p>\n",
    "<p style = 'font-size:16px;font-family:Arial'>Let us check the data sample.This demonstration will use two tables: the taxi trip details and the fares for each trip. The queries below will sample each table and then show the range of the time period covered by the data. </p>"
   ]
  },
  {
   "cell_type": "code",
   "execution_count": null,
   "metadata": {},
   "outputs": [],
   "source": [
    "SELECT top 10 * from DEMO_NYCTaxi.Trip;"
   ]
  },
  {
   "cell_type": "code",
   "execution_count": null,
   "metadata": {},
   "outputs": [],
   "source": [
    "SELECT top 10 * from DEMO_NYCTaxi.Trip_Fare;"
   ]
  },
  {
   "cell_type": "code",
   "execution_count": null,
   "metadata": {},
   "outputs": [],
   "source": [
    "sel min(pickup_datetime), max(dropoff_datetime) from DEMO_NYCTaxi.Trip;"
   ]
  },
  {
   "cell_type": "markdown",
   "metadata": {},
   "source": [
    "<p style = 'font-size:28px;font-family:Arial;color:#E37C4D'><b>2. Warmup: temporal algebra </b></p>\n",
    "<img  src=\"contains.png\" alt=\"Contains Example\" width=\"600\" align=\"right\" />\n",
    "<p style = 'font-size:16px;font-family:Arial'> Let's warmup with a bit of temporal algebra and get familiar with period types and operators. \n",
    "<br><br>\n",
    "For a taxi service, the number of dispatchers needed is impacted by the number of pickups. While some pickups are based on a taxi stand or someone waving their hand along the side of the street, the driver calls in the trip. \n",
    "<br><br>The period data type may be based on dates or timestamps and has a beginning bound and extends up to, but does not include the ending bound value. The ending bound may be expressed as \"UNTIL_CHANGED\" or \"UNTIL CLOSED\" which effectively means \"forever\". Most commonly, the period data type would appear in a table but in the example below, we will use a literal to count the number of taxi pickups between 10:30 and 10:45 on Nov 10th.</p>"
   ]
  },
  {
   "cell_type": "code",
   "execution_count": null,
   "metadata": {},
   "outputs": [],
   "source": [
    "sel count(1)\n",
    "from DEMO_NYCTaxi.Trip  \n",
    "--where pickup_datetime between '2013-11-10 10:30:00' and '2013-11-10 10:45:00'\n",
    "--Here is an alternative to the above using period data type a\n",
    "where period\n",
    "\t(\n",
    "\t\t'2013-11-10 10:30:00' (timestamp), \n",
    "\t\t'2013-11-10 10:45:00' (timestamp)\n",
    "\t) \n",
    "\tCONTAINS pickup_datetime "
   ]
  },
  {
   "cell_type": "markdown",
   "metadata": {},
   "source": [
    "<img  src=\"contains-period.png\" alt=\"Contains Period Example\" width=\"600\" align=\"right\" />\n",
    "<p style = 'font-size:16px;font-family:Arial'> \n",
    "The above example used CONTAINS for a simple comparison to a date which is easily replaced by BETWEEN.  A more interesting case is when two periods are in a constraint which would be more complicated logic.  The following query analyzes how many rides started and ended between 10:30 and 10:45 on Nov 10th."
   ]
  },
  {
   "cell_type": "code",
   "execution_count": null,
   "metadata": {},
   "outputs": [],
   "source": [
    "SELECT count(1)\n",
    "FROM DEMO_NYCTaxi.Trip  \n",
    "WHERE  pickup_datetime < dropoff_datetime\n",
    "and period\n",
    "\t(\n",
    "\t\t'2013-11-10 10:30:00' (timestamp), \n",
    "\t\t'2013-11-10 10:45:00' (timestamp)\n",
    "\t) \n",
    "\tcontains period(pickup_datetime, dropoff_datetime);"
   ]
  },
  {
   "cell_type": "markdown",
   "metadata": {},
   "source": [
    "<img  src=\"overlap.png\" alt=\"Overlap Example\" width=\"600\" align=\"right\" />\n",
    "<p style = 'font-size:16px;font-family:Arial'> \n",
    "The taxi cabs now contain video screens that include advertising content. To analyze the number of people that may be viewing the video to justify compensation for advertising, we need to know how many people are in the cabs in a given period. \n",
    "<br><br>\n",
    "Where the CONTAINS operator above says that the timestamp or period must be within the bounds of the period, the OVERLAPS operator selects any rows where the row's period begins, ends, or orverlaps the constraint period.  In the following example, we count how many passengers were in a taxi between 10:30 and 10:45 on Nov 10th."
   ]
  },
  {
   "cell_type": "code",
   "execution_count": null,
   "metadata": {},
   "outputs": [],
   "source": [
    "SELECT sum(passenger_count)\n",
    "FROM DEMO_NYCTaxi.Trip  \n",
    "WHERE pickup_datetime < dropoff_datetime\n",
    "and period\n",
    "\t(\n",
    "\t\t'2013-11-10 10:30:00' (timestamp), \n",
    "\t\t'2013-11-10 10:45:00' (timestamp)\n",
    "\t) \n",
    "\toverlaps period(pickup_datetime, dropoff_datetime)\n",
    ";"
   ]
  },
  {
   "cell_type": "markdown",
   "metadata": {},
   "source": [
    "<img  src=\"normalize.png\" alt=\"Overlap Example\" width=\"600\" align=\"right\" />\n",
    "<p style = 'font-size:16px;font-family:Arial'> \n",
    "As input to the hours of operations, management would like to know how many hours in the day there is at least 1 taxi operating.\n",
    "<br><br>\n",
    "Let's assume we run the fleet of the 3 taxis identifiable by medallion starting with ‘007’. The fleet is considered active if at least 1 taxi is driving. For how long has the fleet been “active” on November 10th?\n",
    "<br><br>\n",
    "We will need to consolidate (or normalize) the periods where taxis are active and then find the duration of the resulting periods of activity. The final query will have nested derived tables, so we will start by showing a sample of the innermost query which will create a set of period on the date for the group of medallions:"
   ]
  },
  {
   "cell_type": "code",
   "execution_count": null,
   "metadata": {},
   "outputs": [],
   "source": [
    "SELECT top 10\n",
    "period(pickup_datetime, dropoff_datetime) as norm_per\n",
    "from DEMO_NYCTaxi.Trip  \n",
    "where (pickup_datetime (date))='2013-11-10'\n",
    "and medallion like '007%'\n",
    "order by 1;"
   ]
  },
  {
   "cell_type": "markdown",
   "metadata": {},
   "source": [
    "<p style = 'font-size:16px;font-family:Arial'> We will then use the NORMALIZE modifier to consolidate the periods. With NORMALIZE, the result of the select is normalized on the first period column in the select list. Period values that meet or overlap are coalesced, that is, combined to form a period that\n",
    "encompasses the individual period values.  For comparison, we will follow with a query that doesn't normmalize which is the total hours of active service of all of the taxis. "
   ]
  },
  {
   "cell_type": "code",
   "execution_count": null,
   "metadata": {},
   "outputs": [],
   "source": [
    "SELECT sum(interval(normalized_periods) hour(2) to minute) normalized_activity\n",
    "from\n",
    "(\n",
    "\tSELECT normalize\n",
    "\tperiod(pickup_datetime, dropoff_datetime) as normalized_periods\n",
    "\tfrom DEMO_NYCTaxi.Trip  \n",
    "\twhere (pickup_datetime (date))='2013-11-10'\n",
    "\tand medallion like '007%'\n",
    ") d1\n",
    "order by 1;"
   ]
  },
  {
   "cell_type": "code",
   "execution_count": null,
   "metadata": {},
   "outputs": [],
   "source": [
    "select sum( interval( period(pickup_datetime, dropoff_datetime) ) hour to minute ) total_activity\n",
    "    from DEMO_NYCTaxi.Trip  \n",
    "\twhere (pickup_datetime (date))='2013-11-10'\n",
    "\tand medallion like '007%'"
   ]
  },
  {
   "cell_type": "markdown",
   "metadata": {},
   "source": [
    "<p style = 'font-size:16px;font-family:Arial'> The normalized activity consolidating all of the periods before sumarizing is less than the total activity. \n",
    "<br><br>\n",
    "There are situations where you need to see the state of the business at fixed intervals. For example: total inventory at the end of each week.  The EXPAND ON operator will create those routine periods for reporting. To demonstrate EXPAND ON, we will get a count of active cabs at the top of each hour."
   ]
  },
  {
   "cell_type": "code",
   "execution_count": null,
   "metadata": {
    "tags": []
   },
   "outputs": [],
   "source": [
    "select begin_hour, count(*)\n",
    "from\n",
    "(\n",
    "\tselect begin(hour_check) begin_hour\n",
    "\tfrom DEMO_NYCTaxi.Trip  \n",
    "\twhere (pickup_datetime (date))='2013-11-10'\n",
    "\tand medallion like '007%'\n",
    "    EXPAND ON period(pickup_datetime, dropoff_datetime) AS hour_check BY ANCHOR ANCHOR_HOUR\n",
    ") a\n",
    "group by 1\n",
    "order by 1;"
   ]
  },
  {
   "cell_type": "code",
   "execution_count": null,
   "metadata": {},
   "outputs": [],
   "source": [
    "%chart x=begin_hour, y=count(*),title=Count of active cars of Medallian 007 by hour,height =300,width = 400"
   ]
  },
  {
   "cell_type": "markdown",
   "metadata": {},
   "source": [
    "<p style = 'font-size:28px;font-family:Arial;color:#E37C4D'><b>3. Timeseries Analysis </b></p>\n",
    "<p style = 'font-size:16px;font-family:Arial'> Now we have seen the trip and fare details, Let's do some analysis based on time.\n",
    "The query below issues a GROUP BY clause referencing a unit of time and includes a USING TIMECODE clause to specify a column that the unit grouping is to be applied to. <br><br>\n",
    "<p style = 'font-size:16px;font-family:Arial'>    \n",
    "How many passengers are being picked up by hour?</p>"
   ]
  },
  {
   "cell_type": "code",
   "execution_count": null,
   "metadata": {},
   "outputs": [],
   "source": [
    "select extract(day from pickup_datetime), extract(hour from pickup_datetime), sum(passenger_count) \n",
    "from DEMO_NYCTaxi.Trip \n",
    "group by 1,2 order by 1,2\n"
   ]
  },
  {
   "cell_type": "code",
   "execution_count": null,
   "metadata": {},
   "outputs": [],
   "source": [
    "sel top 72\n",
    "$TD_TIMECODE_RANGE \n",
    ",begin($TD_TIMECODE_RANGE) time_bucket_start --(timestamp, format 'YYYY-MM-DDBHH:MI:SS') time_bucket_start\n",
    ",sum(passenger_count) passenger_count\n",
    "from DEMO_NYCTaxi.Trip \n",
    "group by time(hours(1))\n",
    "USING TIMECODE(pickup_datetime)\n",
    "order by 1;"
   ]
  },
  {
   "cell_type": "markdown",
   "metadata": {},
   "source": [
    "<p style = 'font-size:16px;font-family:Arial'>It's about time to add some visual element..."
   ]
  },
  {
   "cell_type": "code",
   "execution_count": null,
   "metadata": {},
   "outputs": [],
   "source": [
    "%chart x=time_bucket_start, y=passenger_count, title=Passenger pickup by hour"
   ]
  },
  {
   "cell_type": "markdown",
   "metadata": {},
   "source": [
    "<p style = 'font-size:16px;font-family:Arial'>How many passengers are being picked up and what is the average trip duration by vendor every 15min?"
   ]
  },
  {
   "cell_type": "code",
   "execution_count": null,
   "metadata": {},
   "outputs": [],
   "source": [
    "sel top 96\n",
    "$TD_TIMECODE_RANGE \n",
    ",vendor_id\n",
    ",sum(passenger_count)\n",
    ",avg(trip_time_in_secs)\n",
    "from DEMO_NYCTaxi.Trip\n",
    "group by time(minutes(15) and vendor_id)\n",
    "USING TIMECODE(pickup_datetime)\n",
    "order by 1,2;"
   ]
  },
  {
   "cell_type": "markdown",
   "metadata": {},
   "source": [
    "<p style = 'font-size:16px;font-family:Arial'> Let's call this a view"
   ]
  },
  {
   "cell_type": "code",
   "execution_count": null,
   "metadata": {},
   "outputs": [],
   "source": [
    "replace view NYC_taxi_trip_ts as\n",
    "sel\n",
    "$TD_TIMECODE_RANGE time_bucket_per_15min\n",
    ",vendor_id\n",
    ",sum(passenger_count) passenger_cnt\n",
    ",sum(trip_time_in_secs) avg_trip_time_in_secs\n",
    "from DEMO_NYCTaxi.Trip \n",
    "group by time(minutes(15) and vendor_id)\n",
    "USING TIMECODE(pickup_datetime)\n",
    ";"
   ]
  },
  {
   "cell_type": "markdown",
   "metadata": {},
   "source": [
    "<p style = 'font-size:16px;font-family:Arial'><b>Moving Averages</b>\n",
    "    <br>\n",
    " Let's calculate a 2 hours minutes moving average on our 15-minutes time series. 2 hour is 8 * 15 minutes periods."
   ]
  },
  {
   "cell_type": "code",
   "execution_count": null,
   "metadata": {},
   "outputs": [],
   "source": [
    "SELECT * FROM MovingAverage (\n",
    "  ON NYC_taxi_trip_ts PARTITION BY vendor_id ORDER BY time_bucket_per_15min\n",
    "  USING\n",
    "  MAvgType ('S')\n",
    "  WindowSize (8)\n",
    "  TargetColumns ('passenger_cnt')\n",
    ") AS dt \n",
    "where begin(time_bucket_per_15min)(date) = '2013-11-10'\n",
    "ORDER BY vendor_id, time_bucket_per_15min;"
   ]
  },
  {
   "cell_type": "markdown",
   "metadata": {},
   "source": [
    "<p style = 'font-size:16px;font-family:Arial'> We can use this to identify demand trends for each time period. A basic way to do this would be to check if the current pickup count is above (rising) or below (reducing) our moving average."
   ]
  },
  {
   "cell_type": "code",
   "execution_count": null,
   "metadata": {},
   "outputs": [],
   "source": [
    "SELECT time_bucket_per_15min, vendor_id, passenger_cnt, case when passenger_cnt - passenger_cnt_smavg > 0 then '+' else '-' end trend\n",
    "FROM MovingAverage (\n",
    "  ON NYC_taxi_trip_ts PARTITION BY vendor_id ORDER BY time_bucket_per_15min\n",
    "  USING\n",
    "  MAvgType ('S')\n",
    "  WindowSize (8)\n",
    "  TargetColumns ('passenger_cnt')\n",
    ") AS dt \n",
    "where begin(time_bucket_per_15min)(date) = '2013-11-10'\n",
    "ORDER BY vendor_id, time_bucket_per_15min;"
   ]
  },
  {
   "cell_type": "code",
   "execution_count": null,
   "metadata": {},
   "outputs": [],
   "source": [
    "%chart x=time_bucket_per_15min, y=passenger_cnt,groupingcol =vendor_id ,mark =line, title=passenger count,height =300,width = 1000"
   ]
  },
  {
   "cell_type": "markdown",
   "metadata": {},
   "source": [
    "<p style = 'font-size:16px;font-family:Arial'> We can use this to compare how vendors are doing."
   ]
  },
  {
   "cell_type": "code",
   "execution_count": null,
   "metadata": {},
   "outputs": [],
   "source": [
    "sel dt.*\n",
    "from \n",
    "(\n",
    "\tSELECT time_bucket_per_15min, vendor_id, passenger_cnt, case when passenger_cnt - passenger_cnt_smavg > 0 then '+' else '-' end trend\n",
    "\tFROM MovingAverage (\n",
    "\t  ON NYC_taxi_trip_ts PARTITION BY vendor_id ORDER BY time_bucket_per_15min\n",
    "\t  USING\n",
    "\t  MAvgType ('S')\n",
    "\t  WindowSize (8)\n",
    "\t  TargetColumns ('passenger_cnt')\n",
    "\t) AS dt \n",
    "\twhere begin(time_bucket_per_15min)(date) = '2013-11-10'\n",
    ") dt\n",
    "PIVOT(\n",
    "    MAX(passenger_cnt) as passenger_cnt, MAX(trend) as trend FOR vendor_id IN ('CMT', 'VTS')\n",
    ") dt\n",
    "order by 1;"
   ]
  },
  {
   "cell_type": "markdown",
   "metadata": {},
   "source": [
    "<p style = 'font-size:28px;font-family:Arial;color:#E37C4D'><b>4.  Clean up </b></p>\n",
    "<p style = 'font-size:20px;font-family:Arial;color:#E37C4D'> <b>Database and Tables </b></p>\n",
    "<p style = 'font-size:16px;font-family:Arial'>The following code will clean up tables and databases created above.</p>"
   ]
  },
  {
   "cell_type": "code",
   "execution_count": null,
   "metadata": {},
   "outputs": [],
   "source": [
    "call remove_data('DEMO_NYCTaxi');-- takes about 10 seconds, optional if you want to use the data later\n",
    "--note that the same database & tables are used in Usecases/NYC-taxi-4d/NYC-taxi-geospatial.ipynb "
   ]
  },
  {
   "cell_type": "markdown",
   "metadata": {},
   "source": [
    "<p style = 'font-size:28px;font-family:Arial;color:#E37C4D'><b>5. Conclusion</b></p>\n",
    "<p style = 'font-size:16px;font-family:Arial'>\n",
    "In this demonstration we have seen that Temporal and period datatype is time aware and the queries using the same are fairly simple and easy to use. We have also seen how we can create a time index and use it in queries. "
   ]
  },
  {
   "cell_type": "markdown",
   "metadata": {},
   "source": [
    "<p style = 'font-size:20px;font-family:Arial;color:#E37C4D'><b>Reference Links:</b></p>\n",
    "<ul style = 'font-size:16px;font-family:Arial'>\n",
    "        <li>Introduction to Teradata Time Series Tables and Operations: <a href = 'https://docs.teradata.com/r/Teradata-VantageTM-Time-Series-Tables-and-Operations-17.20'>https://docs.teradata.com/r/Teradata-VantageTM-Time-Series-Tables-and-Operations-17.20</a></li>\n",
    "</ul>"
   ]
  },
  {
   "cell_type": "markdown",
   "metadata": {},
   "source": [
    "<footer style=\"padding:10px;background:#f9f9f9;border-bottom:3px solid #394851\">©2023 Teradata. All Rights Reserved</footer>"
   ]
  }
 ],
 "metadata": {
  "kernelspec": {
   "display_name": "Teradata SQL",
   "language": "Teradata SQL",
   "name": "teradatasql"
  },
  "language_info": {
   "codemirror_mode": "Teradata SQL",
   "file_extension": ".tdrs",
   "mimetype": "application/vnd.teradata.resultset",
   "name": "Teradata SQL",
   "nbconvert_exporter": "",
   "pygments_lexer": "",
   "version": "16.20"
  }
 },
 "nbformat": 4,
 "nbformat_minor": 4
}
