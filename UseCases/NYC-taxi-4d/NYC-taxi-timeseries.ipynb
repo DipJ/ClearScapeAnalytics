{
 "cells": [
  {
   "cell_type": "markdown",
   "metadata": {},
   "source": [
    "<header style=\"padding:1px;background:#f9f9f9;border-top:3px solid #00b2b1\"><img id=\"Teradata-logo\" src=\"https://www.teradata.com/Teradata/Images/Rebrand/Teradata_logo-two_color.png\" alt=\"Teradata\" width=\"220\" align=\"right\" />\n",
    "\n",
    "<b style = 'font-size:28px;font-family:Arial;color:#E37C4D'>4D Analytics using the New York City Taxi dataset --Timeseries Analytics</b>\n",
    "</header>\n",
    "\n",
    "<p style = 'font-size:18px;font-family:Arial;color:#E37C4D'><b>Introduction</b></p>\n"
   ]
  },
  {
   "cell_type": "markdown",
   "metadata": {},
   "source": [
    "<p style = 'font-size:16px;font-family:Arial'>\n",
    "This is a demonstration of Vantage capabilities for\n",
    "    <li style = 'font-size:16px;font-family:Arial'>\n",
    "Timeseries and Primary Time Index\n",
    "    </li>\n",
    "    <p>\n",
    "        "
   ]
  },
  {
   "cell_type": "markdown",
   "metadata": {},
   "source": [
    "<p style = 'font-size:18px;font-family:Arial;color:#E37C4D'> <b> Accessing the Data </b> </p>\n",
    "<p style = 'font-size:16px;font-family:Arial'>These demos will work either with foreign tables accessed from Cloud Storage via NOS or you may import the tables to your machine. If you import data for multiple demos, you may need to use the Data Dictionary \"Manage Your Space\" routine to cleanup tables you no longer need.     \n",
    "    \n",
    "<p style = 'font-size:16px;font-family:Arial'>Use the link below to access the 2 options for using data from the data dictionary notebook:\n",
    "\n",
    "[Click Here to get data for this notebook](../Data_Dictionary/Data_Dictionary.ipynb#TRNG_NYCTaxi)\n",
    "\n",
    "[Click Here to Manage Your Space](../Data_Dictionary/Data_Dictionary.ipynb#Manage_Your_Space)"
   ]
  },
  {
   "cell_type": "markdown",
   "metadata": {},
   "source": [
    "<p style = 'font-size:28px;font-family:Arial;color:#E37C4D'><b>Connect to Vantage and explore the dataset</b></p>\n",
    "Below command will connect to the Vantage environment."
   ]
  },
  {
   "cell_type": "code",
   "execution_count": null,
   "metadata": {},
   "outputs": [],
   "source": [
    "%connect local"
   ]
  },
  {
   "cell_type": "markdown",
   "metadata": {},
   "source": [
    "<p style = 'font-size:18px;font-family:Arial;color:#E37C4D'> <b> Access data in Vantage  </b> </p>\n",
    "<p style = 'font-size:16px;font-family:Arial'>For this demo, data is already resident in Object Storage which we are accessing via ReadNOS.  Create a reference to the table, and sample the contents.  Data could just as easily reside in permanent tables, another RDBMS, or another Vantage system.<br>\n",
    "This demonstration will use two tables: the taxi trip details and the fares for each trip. The queries below will sample each table and then show the range of the time period covered by the data. <br>\n",
    "<i>*You can skip to Timeseries Analysis if you have seen the trip & fare tables in other notebook in the series</p>"
   ]
  },
  {
   "cell_type": "code",
   "execution_count": null,
   "metadata": {},
   "outputs": [],
   "source": [
    "SELECT top 10 * from TRNG_NYCTaxi.trip;"
   ]
  },
  {
   "cell_type": "code",
   "execution_count": null,
   "metadata": {},
   "outputs": [],
   "source": [
    "SELECT top 10 * from TRNG_NYCTaxi.trip_fare;"
   ]
  },
  {
   "cell_type": "code",
   "execution_count": null,
   "metadata": {},
   "outputs": [],
   "source": [
    "sel min(pickup_datetime), max(dropoff_datetime) from TRNG_NYCTaxi.trip;"
   ]
  },
  {
   "cell_type": "markdown",
   "metadata": {},
   "source": [
    "<p style = 'font-size:28px;font-family:Arial;color:#E37C4D'><b>Timeseries Analysis </b></p>\n",
    "<p style = 'font-size:16px;font-family:Arial'> Now we have seen the trip and fare details, Let's do some analysis based on time.\n",
    "The query below issues a GROUP BY clause referencing a unit of time and includes a USING TIMECODE clause to specify a column that the unit grouping is to be applied to. <br><br>\n",
    "<p style = 'font-size:16px;font-family:Arial'>    \n",
    "How many passengers are being picked up by hour in november?</p>"
   ]
  },
  {
   "cell_type": "code",
   "execution_count": null,
   "metadata": {},
   "outputs": [],
   "source": [
    "select extract(day from pickup_datetime), extract(hour from pickup_datetime), sum(passenger_count) \n",
    "from TRNG_NYCTaxi.trip \n",
    "where extract(month from pickup_datetime)=11\n",
    "group by 1,2 order by 1,2\n"
   ]
  },
  {
   "cell_type": "code",
   "execution_count": null,
   "metadata": {},
   "outputs": [],
   "source": [
    "sel top 72\n",
    "$TD_TIMECODE_RANGE \n",
    ",begin($TD_TIMECODE_RANGE) time_bucket_start --(timestamp, format 'YYYY-MM-DDBHH:MI:SS') time_bucket_start\n",
    ",sum(passenger_count) passenger_count\n",
    "from TRNG_NYCTaxi.trip \n",
    "where extract(month from pickup_datetime)=11\n",
    "group by time(hours(1))\n",
    "USING TIMECODE(pickup_datetime)\n",
    "order by 1;"
   ]
  },
  {
   "cell_type": "markdown",
   "metadata": {},
   "source": [
    "<p style = 'font-size:16px;font-family:Arial'>It's about time to add some visual element..."
   ]
  },
  {
   "cell_type": "code",
   "execution_count": null,
   "metadata": {},
   "outputs": [],
   "source": [
    "%chart x=time_bucket_start, y=passenger_count, title=Passenger pickup by hour"
   ]
  },
  {
   "cell_type": "markdown",
   "metadata": {},
   "source": [
    "<p style = 'font-size:16px;font-family:Arial'>How many passengers are being picked up and what is the average trip duration by vendor every 30min in November?"
   ]
  },
  {
   "cell_type": "code",
   "execution_count": null,
   "metadata": {},
   "outputs": [],
   "source": [
    "sel top 96\n",
    "$TD_TIMECODE_RANGE \n",
    ",vendor_id\n",
    ",sum(passenger_count)\n",
    ",avg(trip_time_in_secs)\n",
    "from TRNG_NYCTaxi.trip\n",
    "group by time(minutes(15) and vendor_id)\n",
    "USING TIMECODE(pickup_datetime)\n",
    "where extract(month from pickup_datetime)=11\n",
    "order by 1,2;"
   ]
  },
  {
   "cell_type": "markdown",
   "metadata": {},
   "source": [
    "<p style = 'font-size:16px;font-family:Arial'> Let's call this a view"
   ]
  },
  {
   "cell_type": "code",
   "execution_count": null,
   "metadata": {},
   "outputs": [],
   "source": [
    "replace view NYC_taxi_trip_ts as\n",
    "sel\n",
    "$TD_TIMECODE_RANGE time_bucket_per\n",
    ",vendor_id\n",
    ",sum(passenger_count) passenger_cnt\n",
    ",sum(trip_time_in_secs) avg_trip_time_in_secs\n",
    "from TRNG_NYCTaxi.trip \n",
    "group by time(minutes(15) and vendor_id)\n",
    "USING TIMECODE(pickup_datetime)\n",
    "where extract(month from pickup_datetime)=11;"
   ]
  },
  {
   "cell_type": "markdown",
   "metadata": {},
   "source": [
    "<p style = 'font-size:16px;font-family:Arial'><b>Moving Averages</b>\n",
    "    <br>\n",
    " Let's calculate a 2 hours minutes moving average on our 15-minutes time series. 2 hour is 8 * 15 minutes periods.   "
   ]
  },
  {
   "cell_type": "code",
   "execution_count": null,
   "metadata": {},
   "outputs": [],
   "source": [
    "SELECT * FROM MovingAverage (\n",
    "  ON NYC_taxi_trip_ts PARTITION BY vendor_id ORDER BY time_bucket_per\n",
    "  USING\n",
    "  MAvgType ('S')\n",
    "  WindowSize (8)\n",
    "  TargetColumns ('passenger_cnt')\n",
    ") AS dt \n",
    "where begin(time_bucket_per)(date) = '2013-11-10'\n",
    "ORDER BY vendor_id, time_bucket_per;"
   ]
  },
  {
   "cell_type": "markdown",
   "metadata": {},
   "source": [
    "<p style = 'font-size:16px;font-family:Arial'> We can use this to identify demand trends for each time period. A basic way to do this would be to check if the current pickup count is above (rising) or below (reducing) our moving average."
   ]
  },
  {
   "cell_type": "code",
   "execution_count": null,
   "metadata": {},
   "outputs": [],
   "source": [
    "SELECT time_bucket_per, vendor_id, passenger_cnt, trend, case when passenger_cnt - passenger_cnt_smavg > 0 then '+' else '-' end trend\n",
    "FROM MovingAverage (\n",
    "  ON NYC_taxi_trip_ts PARTITION BY vendor_id ORDER BY time_bucket_per\n",
    "  USING\n",
    "  MAvgType ('S')\n",
    "  WindowSize (8)\n",
    "  TargetColumns ('passenger_cnt')\n",
    ") AS dt \n",
    "where begin(time_bucket_per)(date) = '2013-11-10'\n",
    "ORDER BY vendor_id, time_bucket_per;"
   ]
  },
  {
   "cell_type": "markdown",
   "metadata": {},
   "source": [
    "<p style = 'font-size:16px;font-family:Arial'> We can use this to compare how vendors are doing."
   ]
  },
  {
   "cell_type": "code",
   "execution_count": null,
   "metadata": {},
   "outputs": [],
   "source": [
    "sel dt.*\n",
    "from \n",
    "(\n",
    "\tSELECT time_bucket_per, vendor_id, passenger_cnt, case when passenger_cnt - passenger_cnt_smavg > 0 then '+' else '-' end trend\n",
    "\tFROM MovingAverage (\n",
    "\t  ON NYC_taxi_trip_ts PARTITION BY vendor_id ORDER BY time_bucket_per\n",
    "\t  USING\n",
    "\t  MAvgType ('S')\n",
    "\t  WindowSize (8)\n",
    "\t  TargetColumns ('passenger_cnt')\n",
    "\t) AS dt \n",
    "\twhere begin(time_bucket_per)(date) = '2013-11-10'\n",
    ") dt\n",
    "PIVOT(\n",
    "    MAX(passenger_cnt) as passenger_cnt, MAX(trend) as trend FOR vendor_id IN ('CMT', 'VTS')\n",
    ") dt\n",
    "order by 1;"
   ]
  },
  {
   "cell_type": "markdown",
   "metadata": {},
   "source": [
    "\n",
    "<ul style = 'font-size:16px;font-family:Arial'> \n",
    "       \n",
    "  <li>Introduction to Teradata Time Series Tables and Operations: <a href = 'https://docs.teradata.com/r/Teradata-VantageTM-Time-Series-Tables-and-Operations-17.20'>https://docs.teradata.com/r/Teradata-VantageTM-Time-Series-Tables-and-Operations-17.20</a></li>\n",
    "  </ul>"
   ]
  },
  {
   "cell_type": "markdown",
   "metadata": {},
   "source": [
    "<footer style=\"padding:10px;background:#f9f9f9;border-bottom:3px solid #394851\">©2023 Teradata. All Rights Reserved</footer>"
   ]
  }
 ],
 "metadata": {
  "kernelspec": {
   "display_name": "Teradata SQL",
   "language": "Teradata SQL",
   "name": "teradatasql"
  },
  "language_info": {
   "codemirror_mode": "Teradata SQL",
   "file_extension": ".tdrs",
   "mimetype": "application/vnd.teradata.resultset",
   "name": "Teradata SQL",
   "nbconvert_exporter": "",
   "pygments_lexer": "",
   "version": "16.20"
  }
 },
 "nbformat": 4,
 "nbformat_minor": 4
}
