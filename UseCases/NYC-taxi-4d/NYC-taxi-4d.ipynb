{
 "cells": [
  {
   "cell_type": "markdown",
   "metadata": {},
   "source": [
    "<header style=\"padding:10px;background:#f9f9f9;border-top:3px solid #00b2b1\"><img id=\"Teradata-logo\" src=\"https://www.teradata.com/Teradata/Images/Rebrand/Teradata_logo-two_color.png\" alt=\"Teradata\" width=\"220\" align=\"right\" />\n",
    "\n",
    "## 4D Analytics using the New York City Taxi dataset\n",
    "</header>\n",
    "\n",
    "### Introduction"
   ]
  },
  {
   "cell_type": "markdown",
   "metadata": {},
   "source": [
    "We will explore the New York Taxi demo dataset and get familiar with Vantage temporal and geospatial functions."
   ]
  },
  {
   "cell_type": "markdown",
   "metadata": {},
   "source": [
    "## Connect Vantage and explore the dataset"
   ]
  },
  {
   "cell_type": "markdown",
   "metadata": {},
   "source": [
    "We will connect the Transcend system and locate our demo dataset for this exercise."
   ]
  },
  {
   "cell_type": "code",
   "execution_count": null,
   "metadata": {},
   "outputs": [],
   "source": [
    "%connect local"
   ]
  },
  {
   "cell_type": "markdown",
   "metadata": {},
   "source": [
    "We have two tables: the taxi trip details and the fares for each trip"
   ]
  },
  {
   "cell_type": "code",
   "execution_count": null,
   "metadata": {},
   "outputs": [],
   "source": [
    "SELECT top 10 * from TRNG_NYCTaxi.trip;"
   ]
  },
  {
   "cell_type": "code",
   "execution_count": null,
   "metadata": {},
   "outputs": [],
   "source": [
    "SELECT top 10 * from TRNG_NYCTaxi.trip_fare;"
   ]
  },
  {
   "cell_type": "code",
   "execution_count": null,
   "metadata": {},
   "outputs": [],
   "source": [
    "sel min(pickup_datetime), max(dropoff_datetime) from TRNG_NYCTaxi.trip;"
   ]
  },
  {
   "cell_type": "markdown",
   "metadata": {},
   "source": [
    "## Warmup: temporal algebra"
   ]
  },
  {
   "cell_type": "markdown",
   "metadata": {},
   "source": [
    "Let's warmup with a bit of temporal algebra and get familiar with poeriod types and operators."
   ]
  },
  {
   "cell_type": "markdown",
   "metadata": {},
   "source": [
    "Count the number of taxi pickups between 10:30 and 10:45 on Nov 10th\n",
    "![](contains.png)"
   ]
  },
  {
   "cell_type": "code",
   "execution_count": 1,
   "metadata": {},
   "outputs": [
    {
     "ename": "ERROR",
     "evalue": "No active connection",
     "output_type": "error",
     "traceback": [
      "No active connection"
     ]
    }
   ],
   "source": [
    "sel count(1)\n",
    "from TRNG_NYCTaxi.trip  \n",
    "--where pickup_datetime between '2013-11-10 10:30:00' and '2013-11-10 10:45:00'\n",
    "--Here is an alternative to the above using period data type a\n",
    "where period\n",
    "\t(\n",
    "\t\t'2013-11-10 10:30:00' (timestamp), \n",
    "\t\t'2013-11-10 10:45:00' (timestamp)\n",
    "\t) \n",
    "\tCONTAINS pickup_datetime "
   ]
  },
  {
   "cell_type": "markdown",
   "metadata": {},
   "source": [
    "How many rides started and ended between 10:30 and 10:45 on Nov 10th?\n",
    "![](contains-period.png)"
   ]
  },
  {
   "cell_type": "code",
   "execution_count": null,
   "metadata": {},
   "outputs": [],
   "source": [
    "SELECT count(1)\n",
    "FROM TRNG_NYCTaxi.trip  \n",
    "WHERE  pickup_datetime < dropoff_datetime\n",
    "and period\n",
    "\t(\n",
    "\t\t'2013-11-10 10:30:00' (timestamp), \n",
    "\t\t'2013-11-10 10:45:00' (timestamp)\n",
    "\t) \n",
    "\tcontains period(pickup_datetime, dropoff_datetime);"
   ]
  },
  {
   "cell_type": "markdown",
   "metadata": {},
   "source": [
    "How many passengers were in a taxi between 10:30 and 10:45 on Nov 10th?\n",
    "![](overlap.png)"
   ]
  },
  {
   "cell_type": "code",
   "execution_count": null,
   "metadata": {},
   "outputs": [],
   "source": [
    "SELECT sum(passenger_count)\n",
    "FROM TRNG_NYCTaxi.trip  \n",
    "WHERE pickup_datetime < dropoff_datetime\n",
    "and period\n",
    "\t(\n",
    "\t\t'2013-11-10 10:30:00' (timestamp), \n",
    "\t\t'2013-11-10 10:45:00' (timestamp)\n",
    "\t) \n",
    "\toverlaps period(pickup_datetime, dropoff_datetime)\n",
    ";"
   ]
  },
  {
   "cell_type": "markdown",
   "metadata": {},
   "source": [
    "Let's assume we run the fleet of the 3 taxis identifiable by medallion starting with ‘007’. The fleet is considered active if at least 1 taxi is driving. \n",
    "\n",
    "For how long has the fleet been “active” on November 10th?\n",
    "![](normalize.png)"
   ]
  },
  {
   "cell_type": "markdown",
   "metadata": {},
   "source": [
    "Let's first try to normalize overlaping perdiods."
   ]
  },
  {
   "cell_type": "code",
   "execution_count": null,
   "metadata": {},
   "outputs": [],
   "source": [
    "SELECT \n",
    "period(pickup_datetime, dropoff_datetime) as norm_per\n",
    "from TRNG_NYCTaxi.trip  \n",
    "where (pickup_datetime (date))='2013-11-10'\n",
    "and medallion like '007%'\n",
    "order by 1;"
   ]
  },
  {
   "cell_type": "markdown",
   "metadata": {},
   "source": [
    "And now sum up the duration of each period:"
   ]
  },
  {
   "cell_type": "code",
   "execution_count": null,
   "metadata": {},
   "outputs": [],
   "source": [
    "SELECT sum(interval(norm_per) hour(2) to minute)\n",
    "from\n",
    "(\n",
    "\tSELECT normalize\n",
    "\tperiod(pickup_datetime, dropoff_datetime) as norm_per\n",
    "\tfrom TRNG_NYCTaxi.trip  \n",
    "\twhere (pickup_datetime (date))='2013-11-10'\n",
    "\tand medallion like '007%'\n",
    ") n\n",
    "order by 1;"
   ]
  },
  {
   "cell_type": "markdown",
   "metadata": {},
   "source": [
    "So the inner query above gives us a normalized timeline (one row represents a period when my fleet is active, until it is not anymore)."
   ]
  },
  {
   "cell_type": "markdown",
   "metadata": {},
   "source": [
    "Such timeline, series of time periods, can be expanded again, into a series of fixed frequency periods.\n",
    "In this case we will check every hour if our fleet is active or not."
   ]
  },
  {
   "cell_type": "code",
   "execution_count": null,
   "metadata": {},
   "outputs": [],
   "source": [
    "sel begin(expd) hour_check, \n",
    "a.norm_per activity_period\n",
    "from\n",
    "(\n",
    "\tsel normalize\n",
    "\tperiod(pickup_datetime, dropoff_datetime) as norm_per\n",
    "\tfrom TRNG_NYCTaxi.trip  \n",
    "\twhere (pickup_datetime (date))='2013-11-10'\n",
    "\tand medallion like '007%'\n",
    ") a\n",
    "EXPAND ON norm_per AS expd BY ANCHOR ANCHOR_HOUR\n",
    "order by 1;"
   ]
  },
  {
   "cell_type": "markdown",
   "metadata": {},
   "source": [
    "## Time series analysis"
   ]
  },
  {
   "cell_type": "markdown",
   "metadata": {},
   "source": [
    "Let's now move on to time series transformations and analytics."
   ]
  },
  {
   "cell_type": "markdown",
   "metadata": {},
   "source": [
    "### Time series analysis"
   ]
  },
  {
   "cell_type": "markdown",
   "metadata": {},
   "source": [
    "How many passengers are being picked up by hour in november?"
   ]
  },
  {
   "cell_type": "code",
   "execution_count": null,
   "metadata": {},
   "outputs": [],
   "source": [
    "sel top 72\n",
    "$TD_TIMECODE_RANGE \n",
    ",begin($TD_TIMECODE_RANGE) time_bucket_start --(timestamp, format 'YYYY-MM-DDBHH:MI:SS') time_bucket_start\n",
    ",sum(passenger_count) passenger_count\n",
    "from TRNG_NYCTaxi.trip \n",
    "where extract(month from pickup_datetime)=11\n",
    "group by time(hours(1))\n",
    "USING TIMECODE(pickup_datetime)\n",
    "order by 1;"
   ]
  },
  {
   "cell_type": "markdown",
   "metadata": {},
   "source": [
    "It's about time to add some visual element..."
   ]
  },
  {
   "cell_type": "code",
   "execution_count": null,
   "metadata": {},
   "outputs": [],
   "source": [
    "%chart x=time_bucket_start, y=passenger_count, title=Passenger pickup by hour"
   ]
  },
  {
   "cell_type": "markdown",
   "metadata": {},
   "source": [
    "How many passengers are being picked up and what is the average trip duration by vendor every 30mn in November?"
   ]
  },
  {
   "cell_type": "code",
   "execution_count": null,
   "metadata": {},
   "outputs": [],
   "source": [
    "sel top 96\n",
    "$TD_TIMECODE_RANGE \n",
    ",vendor_id\n",
    ",sum(passenger_count)\n",
    ",avg(trip_time_in_secs)\n",
    "from TRNG_NYCTaxi.trip\n",
    "group by time(minutes(15) and vendor_id)\n",
    "USING TIMECODE(pickup_datetime)\n",
    "where extract(month from pickup_datetime)=11\n",
    "order by 1,2;"
   ]
  },
  {
   "cell_type": "markdown",
   "metadata": {},
   "source": [
    "Let's call this a view"
   ]
  },
  {
   "cell_type": "code",
   "execution_count": null,
   "metadata": {},
   "outputs": [],
   "source": [
    "replace view NYC_taxi_trip_ts as\n",
    "sel\n",
    "$TD_TIMECODE_RANGE time_bucket_per\n",
    ",vendor_id\n",
    ",sum(passenger_count) passenger_cnt\n",
    ",sum(trip_time_in_secs) avg_trip_time_in_secs\n",
    "from TRNG_NYCTaxi.trip \n",
    "group by time(minutes(15) and vendor_id)\n",
    "USING TIMECODE(pickup_datetime)\n",
    "where extract(month from pickup_datetime)=11;"
   ]
  },
  {
   "cell_type": "markdown",
   "metadata": {},
   "source": [
    "### Moving Averages"
   ]
  },
  {
   "cell_type": "markdown",
   "metadata": {},
   "source": [
    "Let's calculate a 2 hours minutes moving average on our 15-minutes time series. 2 hour is 8 * 15 minutes periods."
   ]
  },
  {
   "cell_type": "code",
   "execution_count": null,
   "metadata": {},
   "outputs": [],
   "source": [
    "SELECT * FROM MovingAverage (\n",
    "  ON NYC_taxi_trip_ts PARTITION BY vendor_id ORDER BY time_bucket_per\n",
    "  USING\n",
    "  MAvgType ('S')\n",
    "  WindowSize (8)\n",
    "  TargetColumns ('passenger_cnt')\n",
    ") AS dt \n",
    "where begin(time_bucket_per)(date) = '2013-11-10'\n",
    "ORDER BY vendor_id, time_bucket_per;"
   ]
  },
  {
   "cell_type": "markdown",
   "metadata": {},
   "source": [
    "We can use this to identify demand trends for each time period. A basic way to do this would be to check if the current pickup count is above (rising) or below (reducing) our moving average."
   ]
  },
  {
   "cell_type": "code",
   "execution_count": null,
   "metadata": {},
   "outputs": [],
   "source": [
    "SELECT time_bucket_per, vendor_id, passenger_cnt, trend, case when passenger_cnt - passenger_cnt_smavg > 0 then '+' else '-' end trend\n",
    "FROM MovingAverage (\n",
    "  ON NYC_taxi_trip_ts PARTITION BY vendor_id ORDER BY time_bucket_per\n",
    "  USING\n",
    "  MAvgType ('S')\n",
    "  WindowSize (8)\n",
    "  TargetColumns ('passenger_cnt')\n",
    ") AS dt \n",
    "where begin(time_bucket_per)(date) = '2013-11-10'\n",
    "ORDER BY vendor_id, time_bucket_per;"
   ]
  },
  {
   "cell_type": "markdown",
   "metadata": {},
   "source": [
    "We can use this to compare how vendors are doing."
   ]
  },
  {
   "cell_type": "code",
   "execution_count": null,
   "metadata": {},
   "outputs": [],
   "source": [
    "sel dt.*\n",
    "from \n",
    "(\n",
    "\tSELECT time_bucket_per, vendor_id, passenger_cnt, case when passenger_cnt - passenger_cnt_smavg > 0 then '+' else '-' end trend\n",
    "\tFROM MovingAverage (\n",
    "\t  ON NYC_taxi_trip_ts PARTITION BY vendor_id ORDER BY time_bucket_per\n",
    "\t  USING\n",
    "\t  MAvgType ('S')\n",
    "\t  WindowSize (8)\n",
    "\t  TargetColumns ('passenger_cnt')\n",
    "\t) AS dt \n",
    "\twhere begin(time_bucket_per)(date) = '2013-11-10'\n",
    ") dt\n",
    "PIVOT(\n",
    "    MAX(passenger_cnt) as passenger_cnt, MAX(trend) as trend FOR vendor_id IN ('CMT', 'VTS')\n",
    ") dt\n",
    "order by 1;"
   ]
  },
  {
   "cell_type": "markdown",
   "metadata": {},
   "source": [
    "### Geospatial analysis"
   ]
  },
  {
   "cell_type": "markdown",
   "metadata": {},
   "source": [
    "Let's define a few landmarks."
   ]
  },
  {
   "cell_type": "code",
   "execution_count": null,
   "metadata": {},
   "outputs": [],
   "source": [
    "CREATE VOLATILE TABLE dim_geo_locations\n",
    "     (\n",
    "      location VARCHAR(100),\n",
    "      Lat FLOAT,\n",
    "      Lon FLOAT,\n",
    "      geo_point SYSUDTLIB.ST_GEOMETRY(16776192) INLINE LENGTH 9920)\n",
    "PRIMARY INDEX ( location )\n",
    "ON COMMIT PRESERVE ROWS;"
   ]
  },
  {
   "cell_type": "code",
   "execution_count": null,
   "metadata": {},
   "outputs": [],
   "source": [
    "insert into dim_geo_locations values('Columbia University',40.81,-73.96,'POINT(40.81 -73.96)');\n",
    "insert into dim_geo_locations values('Empire State Building',40.75,-73.99,'POINT(40.75 -73.99)');\n",
    "insert into dim_geo_locations values('Grand Central Station',40.75,-73.98,'POINT(40.75 -73.98)');\n",
    "insert into dim_geo_locations values('JFK Airport',40.64,-73.79,'POINT(40.64 -73.79)');\n",
    "insert into dim_geo_locations values('Madison Square Garden',40.75,-73.99,'POINT(40.75 -73.99)');\n",
    "insert into dim_geo_locations values('New York Stock Exchange',40.71,-74.01,'POINT(40.71 -74.01)');\n",
    "insert into dim_geo_locations values('Times Square',40.76,-73.99,'POINT(40.76 -73.99)');\n",
    "insert into dim_geo_locations values('United Nations HQ',40.75,-73.97,'POINT(40.75 -73.97)');\n",
    "insert into dim_geo_locations values('Yankee Stadium',40.83,-73.93,'POINT(40.83 -73.93)');"
   ]
  },
  {
   "cell_type": "markdown",
   "metadata": {},
   "source": [
    "We are casting coordinates as a ST_GEOMETRY type. Here are the coordinates for the Yankee Stadium, and this is a point:"
   ]
  },
  {
   "cell_type": "code",
   "execution_count": null,
   "metadata": {},
   "outputs": [],
   "source": [
    "sel cast('POINT(40.75 -73.97)' as ST_GEOMETRY)"
   ]
  },
  {
   "cell_type": "markdown",
   "metadata": {},
   "source": [
    "Let's filter amd label the rides starting within 1km from a given landmark."
   ]
  },
  {
   "cell_type": "code",
   "execution_count": null,
   "metadata": {},
   "outputs": [],
   "source": [
    "sel\n",
    "l.location\n",
    ",cast('POINT('||trim(r.pickup_latitude (Decimal(15,6)))||' '||trim(r.pickup_longitude (Decimal(15,6)))||')' as ST_GEOMETRY) pickup_point\n",
    ",r.*\n",
    "from TRNG_NYCTaxi.trip r\n",
    "join dim_geo_locations l\n",
    "    on pickup_point.ST_SphericalDistance(l.geo_point)<1000\n",
    "where (r.pickup_datetime (date)) = '2013-11-10'\n",
    ";"
   ]
  },
  {
   "cell_type": "markdown",
   "metadata": {},
   "source": [
    "What is the number of pickup at each location throughout the month?"
   ]
  },
  {
   "cell_type": "code",
   "execution_count": null,
   "metadata": {},
   "outputs": [],
   "source": [
    "sel\n",
    "$TD_TIMECODE_RANGE time_bucket_per\n",
    ",l.location\n",
    ",count(1) pickup_cnt\n",
    "from TRNG_NYCTaxi.trip r\n",
    "join dim_geo_locations l\n",
    "\ton cast('POINT('||trim(r.pickup_latitude (Decimal(15,6)))||' '||trim(r.pickup_longitude (Decimal(15,6)))||')' as ST_GEOMETRY).ST_SphericalDistance(l.geo_point)<1000\n",
    "group by time(minutes(15) and l.location)\n",
    "USING TIMECODE(pickup_datetime)\n",
    "where extract(month from pickup_datetime)=11\n",
    "order by 2,1;"
   ]
  },
  {
   "cell_type": "markdown",
   "metadata": {},
   "source": [
    "What is the average demand at each location throughout the day, based on November data?"
   ]
  },
  {
   "cell_type": "code",
   "execution_count": null,
   "metadata": {},
   "outputs": [],
   "source": [
    "sel *\n",
    "from \n",
    "(\n",
    "\tsel\n",
    "\tbegin($TD_TIMECODE_RANGE) (time) timeOfDay\n",
    "\t,l.location\n",
    "\t,count(1) pickup_cnt\n",
    "\tfrom TRNG_NYCTaxi.trip r\n",
    "\tjoin dim_geo_locations l\n",
    "\t\ton cast('POINT('||trim(r.pickup_latitude (Decimal(15,6)))||' '||trim(r.pickup_longitude (Decimal(15,6)))||')' as ST_GEOMETRY).ST_SphericalDistance(l.geo_point)<1000\n",
    "\tgroup by time(minutes(15) and l.location)\n",
    "\tUSING TIMECODE(pickup_datetime)\n",
    "\twhere extract(month from pickup_datetime)=11\n",
    ") AS dt \n",
    "PIVOT(\n",
    "    avg(pickup_cnt) FOR location IN (sel distinct location from dim_geo_locations)\n",
    ") dt\n",
    "order by 1;"
   ]
  },
  {
   "cell_type": "markdown",
   "metadata": {},
   "source": [
    "<footer style=\"padding:10px;background:#f9f9f9;border-bottom:3px solid #394851\">©2020 Teradata. All Rights Reserved</footer>"
   ]
  }
 ],
 "metadata": {
  "kernelspec": {
   "display_name": "Teradata SQL",
   "language": "Teradata SQL",
   "name": "teradatasql"
  },
  "language_info": {
   "codemirror_mode": "Teradata SQL",
   "file_extension": ".tdrs",
   "mimetype": "application/vnd.teradata.resultset",
   "name": "Teradata SQL",
   "nbconvert_exporter": "",
   "pygments_lexer": "",
   "version": "16.20"
  }
 },
 "nbformat": 4,
 "nbformat_minor": 4
}
