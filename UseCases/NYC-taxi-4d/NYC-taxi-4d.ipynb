{
 "cells": [
  {
   "cell_type": "markdown",
   "metadata": {},
   "source": [
    "<header style=\"padding:1px;background:#f9f9f9;border-top:3px solid #00b2b1\"><img id=\"Teradata-logo\" src=\"https://www.teradata.com/Teradata/Images/Rebrand/Teradata_logo-two_color.png\" alt=\"Teradata\" width=\"220\" align=\"right\" />\n",
    "\n",
    "<b style = 'font-size:28px;font-family:Arial;color:#E37C4D'>4D Analytics using the New York City Taxi dataset --Temporal</b>\n",
    "</header>\n",
    "\n",
    "<p style = 'font-size:18px;font-family:Arial;color:#E37C4D'><b>Introduction</b></p>"
   ]
  },
  {
   "cell_type": "markdown",
   "metadata": {},
   "source": [
    "<p style = 'font-size:16px;font-family:Arial'>\n",
    "This is a demonstration of Vantage capabilities for\n",
    "    <li style = 'font-size:16px;font-family:Arial'>\n",
    "Temporal using the PERIOD data type, CONTAINS, OVERLAPS and EXPAND\n",
    "    </li>\n",
    "    </p>\n",
    "    "
   ]
  },
  {
   "cell_type": "markdown",
   "metadata": {},
   "source": [
    "<p style = 'font-size:18px;font-family:Arial;color:#E37C4D'> <b> Accessing the Data </b> </p>\n",
    "<p style = 'font-size:16px;font-family:Arial'>These demos will work either with foreign tables accessed from Cloud Storage via NOS or you may import the tables to your machine. If you import data for multiple demos, you may need to use the Data Dictionary \"Manage Your Space\" routine to cleanup tables you no longer need.     \n",
    "    \n",
    "<p style = 'font-size:16px;font-family:Arial'>Use the link below to access the 2 options for using data from the data dictionary notebook:\n",
    "\n",
    "[Click Here to get data for this notebook](../Data_Dictionary/Data_Dictionary.ipynb#TRNG_NYCTaxi)\n",
    "\n",
    "[Click Here to Manage Your Space](../Data_Dictionary/Data_Dictionary.ipynb#Manage_Your_Space)"
   ]
  },
  {
   "cell_type": "markdown",
   "metadata": {},
   "source": [
    "<p style = 'font-size:28px;font-family:Arial;color:#E37C4D'><b>Connect to Vantage and explore the dataset</b></p>\n",
    "Below command will connect to the Vantage environment.\n"
   ]
  },
  {
   "cell_type": "code",
   "execution_count": null,
   "metadata": {},
   "outputs": [],
   "source": [
    "%connect local"
   ]
  },
  {
   "cell_type": "markdown",
   "metadata": {},
   "source": [
    "<p style = 'font-size:18px;font-family:Arial;color:#E37C4D'> <b> Access data in Vantage  </b> </p>\n",
    "<p style = 'font-size:16px;font-family:Arial'>For this demo, data is already resident in Object Storage which we are accessing via ReadNOS.  Create a reference to the table, and sample the contents.  Data could just as easily reside in permanent tables, another RDBMS, or another Vantage system.<br>\n",
    "This demonstration will use two tables: the taxi trip details and the fares for each trip. The queries below will sample each table and then show the range of the time period covered by the data. </p>"
   ]
  },
  {
   "cell_type": "code",
   "execution_count": null,
   "metadata": {},
   "outputs": [],
   "source": [
    "SELECT top 10 * from TRNG_NYCTaxi.trip;"
   ]
  },
  {
   "cell_type": "code",
   "execution_count": null,
   "metadata": {},
   "outputs": [],
   "source": [
    "SELECT top 10 * from TRNG_NYCTaxi.trip_fare;"
   ]
  },
  {
   "cell_type": "code",
   "execution_count": null,
   "metadata": {},
   "outputs": [],
   "source": [
    "sel min(pickup_datetime), max(dropoff_datetime) from TRNG_NYCTaxi.trip;"
   ]
  },
  {
   "cell_type": "markdown",
   "metadata": {},
   "source": [
    "<p style = 'font-size:28px;font-family:Arial;color:#E37C4D'><b>Warmup: temporal algebra </b></p>\n",
    "<img  src=\"contains.png\" alt=\"Contains Example\" width=\"600\" align=\"right\" />\n",
    "<p style = 'font-size:16px;font-family:Arial'> Let's warmup with a bit of temporal algebra and get familiar with period types and operators. \n",
    "<br><br>\n",
    "For a taxi service, the number of dispatchers needed is impacted by the number of pickups. While some pickups are based on a taxi stand or someone waving their hand along the side of the street, the driver calls in the trip. \n",
    "<br><br>The period data type may be based on dates or timestamps and has a beginning bound and extends up to, but does not include the ending bound value. The ending bound may be expressed as \"UNTIL_CHANGED\" or \"UNTIL CLOSED\" which effectively means \"forever\". Most commonly, the period data type would appear in a table but in the example below, we will use a literal to count the number of taxi pickups between 10:30 and 10:45 on Nov 10th.</p>\n"
   ]
  },
  {
   "cell_type": "code",
   "execution_count": null,
   "metadata": {},
   "outputs": [],
   "source": [
    "sel count(1)\n",
    "from TRNG_NYCTaxi.trip  \n",
    "--where pickup_datetime between '2013-11-10 10:30:00' and '2013-11-10 10:45:00'\n",
    "--Here is an alternative to the above using period data type a\n",
    "where period\n",
    "\t(\n",
    "\t\t'2013-11-10 10:30:00' (timestamp), \n",
    "\t\t'2013-11-10 10:45:00' (timestamp)\n",
    "\t) \n",
    "\tCONTAINS pickup_datetime "
   ]
  },
  {
   "cell_type": "markdown",
   "metadata": {},
   "source": [
    "<img  src=\"contains-period.png\" alt=\"Contains Period Example\" width=\"600\" align=\"right\" />\n",
    "<p style = 'font-size:16px;font-family:Arial'> \n",
    "The above example used CONTAINS for a simple comparison to a date which is easily replaced by BETWEEN.  A more interesting case is when two periods are in a constraint which would be more complicated logic.  The following query analyzes how many rides started and ended between 10:30 and 10:45 on Nov 10th."
   ]
  },
  {
   "cell_type": "code",
   "execution_count": null,
   "metadata": {},
   "outputs": [],
   "source": [
    "SELECT count(1)\n",
    "FROM TRNG_NYCTaxi.trip  \n",
    "WHERE  pickup_datetime < dropoff_datetime\n",
    "and period\n",
    "\t(\n",
    "\t\t'2013-11-10 10:30:00' (timestamp), \n",
    "\t\t'2013-11-10 10:45:00' (timestamp)\n",
    "\t) \n",
    "\tcontains period(pickup_datetime, dropoff_datetime);"
   ]
  },
  {
   "cell_type": "markdown",
   "metadata": {},
   "source": [
    "<img  src=\"overlap.png\" alt=\"Overlap Example\" width=\"600\" align=\"right\" />\n",
    "<p style = 'font-size:16px;font-family:Arial'> \n",
    "The taxi cabs now contain video screens that include advertising content. To analyze the number of people that may be viewing the video to justify compensation for advertising, we need to know how many people are in the cabs in a given period. \n",
    "<br><br>\n",
    "Where the CONTAINS operator above says that the timestamp or period must be within the bounds of the period, the OVERLAPS operator selects any rows where the row's period begins, ends, or orverlaps the constraint period.  In the following example, we count how many passengers were in a taxi between 10:30 and 10:45 on Nov 10th."
   ]
  },
  {
   "cell_type": "code",
   "execution_count": null,
   "metadata": {},
   "outputs": [],
   "source": [
    "SELECT sum(passenger_count)\n",
    "FROM TRNG_NYCTaxi.trip  \n",
    "WHERE pickup_datetime < dropoff_datetime\n",
    "and period\n",
    "\t(\n",
    "\t\t'2013-11-10 10:30:00' (timestamp), \n",
    "\t\t'2013-11-10 10:45:00' (timestamp)\n",
    "\t) \n",
    "\toverlaps period(pickup_datetime, dropoff_datetime)\n",
    ";"
   ]
  },
  {
   "cell_type": "markdown",
   "metadata": {},
   "source": [
    "<img  src=\"normalize.png\" alt=\"Overlap Example\" width=\"600\" align=\"right\" />\n",
    "<p style = 'font-size:16px;font-family:Arial'> \n",
    "As input to the hours of operations, management would like to know how many hours in the day there is at least 1 taxi operating.\n",
    "<br><br>\n",
    "Let's assume we run the fleet of the 3 taxis identifiable by medallion starting with ‘007’. The fleet is considered active if at least 1 taxi is driving. For how long has the fleet been “active” on November 10th?\n",
    "<br><br>\n",
    "We will need to consolidate (or normalize) the periods where taxis are active and then find the duration of the resulting periods of activity. The final query will have nested derived tables, so we will start by showing a sample of the innermost query which will create a set of period on the date for the group of medallions:"
   ]
  },
  {
   "cell_type": "code",
   "execution_count": null,
   "metadata": {},
   "outputs": [],
   "source": [
    "SELECT top 10\n",
    "period(pickup_datetime, dropoff_datetime) as norm_per\n",
    "from TRNG_NYCTaxi.trip  \n",
    "where (pickup_datetime (date))='2013-11-10'\n",
    "and medallion like '007%'\n",
    "order by 1;"
   ]
  },
  {
   "cell_type": "markdown",
   "metadata": {},
   "source": [
    "<p style = 'font-size:16px;font-family:Arial'> We will then use the NORMALIZE modifier to consolidate the periods. With NORMALIZE, the result of the select is normalized on the first period column in the select list. Period values that meet or overlap are coalesced, that is, combined to form a period that\n",
    "encompasses the individual period values.  For comparison, we will follow with a query that doesn't normmalize which is the total hours of active service of all of the taxis. "
   ]
  },
  {
   "cell_type": "code",
   "execution_count": null,
   "metadata": {},
   "outputs": [],
   "source": [
    "SELECT sum(interval(normalized_periods) hour(2) to minute) normalized_activity\n",
    "from\n",
    "(\n",
    "\tSELECT normalize\n",
    "\tperiod(pickup_datetime, dropoff_datetime) as normalized_periods\n",
    "\tfrom TRNG_NYCTaxi.trip  \n",
    "\twhere (pickup_datetime (date))='2013-11-10'\n",
    "\tand medallion like '007%'\n",
    ") d1\n",
    "order by 1;"
   ]
  },
  {
   "cell_type": "code",
   "execution_count": null,
   "metadata": {},
   "outputs": [],
   "source": [
    "select sum( interval( period(pickup_datetime, dropoff_datetime) ) hour to minute ) total_activity\n",
    "    from TRNG_NYCTaxi.trip  \n",
    "\twhere (pickup_datetime (date))='2013-11-10'\n",
    "\tand medallion like '007%'"
   ]
  },
  {
   "cell_type": "markdown",
   "metadata": {},
   "source": [
    "<p style = 'font-size:16px;font-family:Arial'> The normalized activity consolidating all of the periods before sumarizing is less than the total activity. \n",
    "<br><br>\n",
    "There are situations where you need to see the state of the business at fixed intervals. For example: total inventory at the end of each week.  The EXPAND ON operator will create those routine periods for reporting. To demonstrate EXPAND ON, we will get a count of active cabs at the top of each hour."
   ]
  },
  {
   "cell_type": "code",
   "execution_count": null,
   "metadata": {
    "tags": []
   },
   "outputs": [],
   "source": [
    "select begin_hour, count(*)\n",
    "from\n",
    "(\n",
    "\tselect begin(hour_check) begin_hour\n",
    "\tfrom TRNG_NYCTaxi.trip  \n",
    "\twhere (pickup_datetime (date))='2013-11-10'\n",
    "\tand medallion like '007%'\n",
    "    EXPAND ON period(pickup_datetime, dropoff_datetime) AS hour_check BY ANCHOR ANCHOR_HOUR\n",
    ") a\n",
    "group by 1\n",
    "order by 1;"
   ]
  },
  {
   "cell_type": "markdown",
   "metadata": {},
   "source": [
    "<p style = 'font-size:28px;font-family:Arial;color:#E37C4D'><b>Conclusion</b></p>\n",
    "<p style = 'font-size:16px;font-family:Arial'>\n",
    "In this demonstration we have seen that Temporal and period datatype is time aware and the queries using the same are fairly simple and easy to use "
   ]
  },
  {
   "cell_type": "markdown",
   "metadata": {},
   "source": [
    "<footer style=\"padding:10px;background:#f9f9f9;border-bottom:3px solid #394851\">©2023 Teradata. All Rights Reserved</footer>"
   ]
  }
 ],
 "metadata": {
  "kernelspec": {
   "display_name": "Teradata SQL",
   "language": "Teradata SQL",
   "name": "teradatasql"
  },
  "language_info": {
   "codemirror_mode": "Teradata SQL",
   "file_extension": ".tdrs",
   "mimetype": "application/vnd.teradata.resultset",
   "name": "Teradata SQL",
   "nbconvert_exporter": "",
   "pygments_lexer": "",
   "version": "16.20"
  }
 },
 "nbformat": 4,
 "nbformat_minor": 4
}
