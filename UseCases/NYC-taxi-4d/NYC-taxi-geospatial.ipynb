{
 "cells": [
  {
   "cell_type": "markdown",
   "metadata": {},
   "source": [
    "<header style=\"padding:1px;background:#f9f9f9;border-top:3px solid #00b2b1\"><img id=\"Teradata-logo\" src=\"https://www.teradata.com/Teradata/Images/Rebrand/Teradata_logo-two_color.png\" alt=\"Teradata\" width=\"220\" align=\"right\" />\n",
    "\n",
    "<b style = 'font-size:28px;font-family:Arial;color:#E37C4D'>4D Analytics using the New York City Taxi dataset --Geospatial</b>\n",
    "</header>\n",
    "\n",
    "<p style = 'font-size:18px;font-family:Arial;color:#E37C4D'><b>Introduction</b></p>"
   ]
  },
  {
   "cell_type": "markdown",
   "metadata": {},
   "source": [
    "<p style = 'font-size:16px;font-family:Arial'>\n",
    "This is a demonstration of Vantage capabilities for\n",
    "    <ul style = 'font-size:16px;font-family:Arial'>\n",
    "<li>Geospatial using the ST_GEOMETRY data type and ST_SphericalDistance method</li>\n",
    "               </ul>\n",
    "    </p>\n",
    "    "
   ]
  },
  {
   "cell_type": "markdown",
   "metadata": {},
   "source": [
    "<p style = 'font-size:28px;font-family:Arial;color:#E37C4D'><b>1. Connect to Vantage and explore the dataset</b></p>\n"
   ]
  },
  {
   "cell_type": "markdown",
   "metadata": {},
   "source": [
    "<p style = 'font-size:18px;font-family:Arial;color:#E37C4D'> <b>Let's start by connecting to the Teradata system </b></p>\n",
    "<p style = 'font-size:16px;font-family:Arial'>You will be prompted to provide the password. Enter your password, press Enter, then use down arrow to go to next cell.</p>"
   ]
  },
  {
   "cell_type": "code",
   "execution_count": null,
   "metadata": {},
   "outputs": [],
   "source": [
    "%connect local, hidewarnings=true"
   ]
  },
  {
   "cell_type": "markdown",
   "metadata": {},
   "source": [
    "<p style = 'font-size:16px;font-family:Arial'>Setup for execution of notebook. Begin running steps with Shift + Enter keys.</p>"
   ]
  },
  {
   "cell_type": "code",
   "execution_count": null,
   "metadata": {},
   "outputs": [],
   "source": [
    "Set query_band='DEMO=NYC-taxi-geospatial.ipynb;' update for session;"
   ]
  },
  {
   "cell_type": "markdown",
   "metadata": {},
   "source": [
    "<p style = 'font-size:18px;font-family:Arial;color:#E37C4D'> <b>Getting Data for This Demo</b></p>\n",
    "<p style = 'font-size:16px;font-family:Arial'>We have provided data for this demo on cloud storage. In this demo since we are using Temporal table we will be creating databases and tables in local storage and use them in the notebook. Please execute the procedure in the next cell.</p>"
   ]
  },
  {
   "cell_type": "code",
   "execution_count": null,
   "metadata": {},
   "outputs": [],
   "source": [
    "call get_data('DEMO_NYCTaxi_cloud');    -- takes about 25 seconds, estimated space: 0 MB\n",
    "--call get_data('DEMO_NYCTaxi_local');     -- takes about 1minute 20 seconds, estimated space: 70 MB"
   ]
  },
  {
   "cell_type": "markdown",
   "metadata": {},
   "source": [
    "<p style = 'font-size:16px;font-family:Arial'>Optional step – if you want to see status of databases/tables created and space used.</p>"
   ]
  },
  {
   "cell_type": "code",
   "execution_count": null,
   "metadata": {},
   "outputs": [],
   "source": [
    "call space_report();  -- optional, takes about 10 seconds"
   ]
  },
  {
   "cell_type": "markdown",
   "metadata": {},
   "source": [
    "<p style = 'font-size:18px;font-family:Arial;color:#E37C4D'> <b> Access data in Vantage  </b> </p>\n",
    "<p style = 'font-size:16px;font-family:Arial'>Let us check the data sample.This demonstration will use two tables: the taxi trip details and the fares for each trip. The queries below will sample each table and then show the range of the time period covered by the data. </p>"
   ]
  },
  {
   "cell_type": "code",
   "execution_count": null,
   "metadata": {},
   "outputs": [],
   "source": [
    "SELECT top 10 * from DEMO_NYCTaxi.Trip;"
   ]
  },
  {
   "cell_type": "code",
   "execution_count": null,
   "metadata": {},
   "outputs": [],
   "source": [
    "SELECT top 10 * from DEMO_NYCTaxi.Trip_Fare;"
   ]
  },
  {
   "cell_type": "code",
   "execution_count": null,
   "metadata": {},
   "outputs": [],
   "source": [
    "sel min(pickup_datetime), max(dropoff_datetime) from DEMO_NYCTaxi.Trip;"
   ]
  },
  {
   "cell_type": "markdown",
   "metadata": {},
   "source": [
    "   <p style = 'font-size:28px;font-family:Arial;color:#E37C4D'><b>2. Geospatial Analysis </b></p>\n",
    "   <p style = 'font-size:16px;font-family:Arial'> Now we have seen the trip and fare details, Let's define a few landmarks. </p>"
   ]
  },
  {
   "cell_type": "code",
   "execution_count": null,
   "metadata": {},
   "outputs": [],
   "source": [
    "CREATE VOLATILE TABLE dim_geo_locations\n",
    "     (\n",
    "      location VARCHAR(100),\n",
    "      Lat FLOAT,\n",
    "      Lon FLOAT,\n",
    "      geo_point SYSUDTLIB.ST_GEOMETRY(16776192) INLINE LENGTH 9920)\n",
    "PRIMARY INDEX ( location )\n",
    "ON COMMIT PRESERVE ROWS;"
   ]
  },
  {
   "cell_type": "code",
   "execution_count": null,
   "metadata": {},
   "outputs": [],
   "source": [
    "insert into dim_geo_locations values('Columbia University',40.81,-73.96,'POINT(40.81 -73.96)');\n",
    "insert into dim_geo_locations values('Empire State Building',40.75,-73.99,'POINT(40.75 -73.99)');\n",
    "insert into dim_geo_locations values('Grand Central Station',40.75,-73.98,'POINT(40.75 -73.98)');\n",
    "insert into dim_geo_locations values('JFK Airport',40.64,-73.79,'POINT(40.64 -73.79)');\n",
    "insert into dim_geo_locations values('Madison Square Garden',40.75,-73.99,'POINT(40.75 -73.99)');\n",
    "insert into dim_geo_locations values('New York Stock Exchange',40.71,-74.01,'POINT(40.71 -74.01)');\n",
    "insert into dim_geo_locations values('Times Square',40.76,-73.99,'POINT(40.76 -73.99)');\n",
    "insert into dim_geo_locations values('United Nations HQ',40.75,-73.97,'POINT(40.75 -73.97)');\n",
    "insert into dim_geo_locations values('Yankee Stadium',40.83,-73.93,'POINT(40.83 -73.93)');"
   ]
  },
  {
   "cell_type": "markdown",
   "metadata": {},
   "source": [
    "<p style = 'font-size:16px;font-family:Arial'> We are casting coordinates as a ST_GEOMETRY type. Here are the coordinates for the Yankee Stadium, and this is a point:"
   ]
  },
  {
   "cell_type": "code",
   "execution_count": null,
   "metadata": {},
   "outputs": [],
   "source": [
    "sel cast('POINT(40.83 -73.93)' as ST_GEOMETRY)"
   ]
  },
  {
   "cell_type": "markdown",
   "metadata": {},
   "source": [
    "<p style = 'font-size:16px;font-family:Arial'> Let's filter the rides starting within 1km from a given 'Yankee Stadium'."
   ]
  },
  {
   "cell_type": "code",
   "execution_count": null,
   "metadata": {},
   "outputs": [],
   "source": [
    "sel\n",
    "l.location\n",
    ",cast('POINT('||trim(r.pickup_latitude (Decimal(15,6)))||' '||trim(r.pickup_longitude (Decimal(15,6)))||')' as ST_GEOMETRY) pickup_point\n",
    ",r.*\n",
    "from DEMO_NYCTaxi.Trip r\n",
    "join dim_geo_locations l\n",
    "    on pickup_point.ST_SphericalDistance(l.geo_point)<1000\n",
    "where (r.pickup_datetime (date)) = '2013-11-10'\n",
    "    and l.location='Yankee Stadium'\n",
    ";"
   ]
  },
  {
   "cell_type": "markdown",
   "metadata": {},
   "source": [
    "<p style = 'font-size:16px;font-family:Arial'> What is the number of pickup at 'Yankee Stadium' throughout the month?"
   ]
  },
  {
   "cell_type": "code",
   "execution_count": null,
   "metadata": {},
   "outputs": [],
   "source": [
    "sel\n",
    "$TD_TIMECODE_RANGE time_bucket_per\n",
    ",l.location\n",
    ",count(1) pickup_cnt\n",
    "from DEMO_NYCTaxi.Trip r\n",
    "join dim_geo_locations l\n",
    "\ton cast('POINT('||trim(r.pickup_latitude (Decimal(15,6)))||' '||trim(r.pickup_longitude (Decimal(15,6)))||')' as ST_GEOMETRY).ST_SphericalDistance(l.geo_point)<1000\n",
    "group by time(minutes(15) and l.location)\n",
    "USING TIMECODE(pickup_datetime)\n",
    "where extract(month from pickup_datetime)=11\n",
    "and l.location='Yankee Stadium'\n",
    "order by 2,1;"
   ]
  },
  {
   "cell_type": "markdown",
   "metadata": {},
   "source": [
    "<p style = 'font-size:16px;font-family:Arial'> What is the average demand at 'Yankee Stadium' throughout the day, based on November data?"
   ]
  },
  {
   "cell_type": "code",
   "execution_count": null,
   "metadata": {},
   "outputs": [],
   "source": [
    "sel *\n",
    "from \n",
    "(\n",
    "\tsel\n",
    "\tbegin($TD_TIMECODE_RANGE) (time) timeOfDay\n",
    "\t,l.location\n",
    "\t,count(1) pickup_cnt\n",
    "\tfrom DEMO_NYCTaxi.Trip r\n",
    "\tjoin dim_geo_locations l\n",
    "\t\ton cast('POINT('||trim(r.pickup_latitude (Decimal(15,6)))||' '||trim(r.pickup_longitude (Decimal(15,6)))||')' as ST_GEOMETRY).ST_SphericalDistance(l.geo_point)<1000\n",
    "\tgroup by time(minutes(15) and l.location)\n",
    "\tUSING TIMECODE(pickup_datetime)\n",
    "\twhere extract(month from pickup_datetime)=11\n",
    ") AS dt \n",
    "PIVOT(\n",
    "    avg(pickup_cnt) FOR location IN (sel distinct location from dim_geo_locations where location='Yankee Stadium')\n",
    ") dt\n",
    "order by 1;"
   ]
  },
  {
   "cell_type": "markdown",
   "metadata": {},
   "source": [
    "<p style = 'font-size:28px;font-family:Arial;color:#E37C4D'><b>3.  Clean up </b></p>\n",
    "<p style = 'font-size:20px;font-family:Arial;color:#E37C4D'> <b>Database and Tables </b></p>\n",
    "<p style = 'font-size:16px;font-family:Arial'>The following code will clean up tables and databases created above.</p>"
   ]
  },
  {
   "cell_type": "code",
   "execution_count": null,
   "metadata": {},
   "outputs": [],
   "source": [
    "call remove_data('DEMO_NYCTaxi');-- takes about 10 seconds, optional if you want to use the data later\n",
    "--note that the same database & tables are used in Usecases/NYC-taxi-4d/NYC-taxi-4d.ipynb "
   ]
  },
  {
   "cell_type": "markdown",
   "metadata": {},
   "source": [
    "<p style = 'font-size:28px;font-family:Arial;color:#E37C4D'><b>4. Conclusion</b></p>\n",
    "<p style = 'font-size:16px;font-family:Arial'>\n",
    "In this demonstration we have seen Vantage can store common geometry datatypes like point, linestring etc in ST_GEOMETRY datatype and has inbuild functions which are fairly simple and easy to use. For more information on the geomrtry datatype and functions plesae refer to link below. "
   ]
  },
  {
   "cell_type": "markdown",
   "metadata": {},
   "source": [
    "<p style = 'font-size:20px;font-family:Arial;color:#E37C4D'><b>Reference Links:</b></p>\n",
    "<ul style = 'font-size:16px;font-family:Arial'>\n",
    "        <li>Teradata® Geospatial Utilities User Guide: <a href = 'https://docs.teradata.com/r/Teradata-Geospatial-Utilities-User-Guide/June-2022/Teradata-Geospatial-Utilities-Overview/Welcome-to-Teradata-Tools-and-Utilities-Teradata-Geospatial-Utilities-User-Guide'>https://docs.teradata.com/r/Teradata-Geospatial-Utilities-User-Guide/June-2022/Teradata-Geospatial-Utilities-Overview/Welcome-to-Teradata-Tools-and-Utilities-Teradata-Geospatial-Utilities-User-Guide</a></ul>"
   ]
  },
  {
   "cell_type": "markdown",
   "metadata": {},
   "source": [
    "<footer style=\"padding:10px;background:#f9f9f9;border-bottom:3px solid #394851\">©2023 Teradata. All Rights Reserved</footer>"
   ]
  }
 ],
 "metadata": {
  "kernelspec": {
   "display_name": "Teradata SQL",
   "language": "Teradata SQL",
   "name": "teradatasql"
  },
  "language_info": {
   "codemirror_mode": "Teradata SQL",
   "file_extension": ".tdrs",
   "mimetype": "application/vnd.teradata.resultset",
   "name": "Teradata SQL",
   "nbconvert_exporter": "",
   "pygments_lexer": "",
   "version": "16.20"
  }
 },
 "nbformat": 4,
 "nbformat_minor": 4
}
