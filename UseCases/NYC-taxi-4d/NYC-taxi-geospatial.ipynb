{
 "cells": [
  {
   "cell_type": "markdown",
   "metadata": {},
   "source": [
    "<header style=\"padding:1px;background:#f9f9f9;border-top:3px solid #00b2b1\"><img id=\"Teradata-logo\" src=\"https://www.teradata.com/Teradata/Images/Rebrand/Teradata_logo-two_color.png\" alt=\"Teradata\" width=\"220\" align=\"right\" />\n",
    "\n",
    "<b style = 'font-size:28px;font-family:Arial;color:#E37C4D'>4D Analytics using the New York City Taxi dataset --Geospatial</b>\n",
    "</header>\n",
    "\n",
    "<p style = 'font-size:18px;font-family:Arial;color:#E37C4D'><b>Introduction</b></p>"
   ]
  },
  {
   "cell_type": "markdown",
   "metadata": {},
   "source": [
    "<p style = 'font-size:16px;font-family:Arial'>\n",
    "This is a demonstration of Vantage capabilities for\n",
    "    <li style = 'font-size:16px;font-family:Arial'>\n",
    "Geospatial using the ST_GEOMETRY data type and ST_SphericalDistance method\n",
    "    </li>\n",
    "    <p>\n",
    "        "
   ]
  },
  {
   "cell_type": "markdown",
   "metadata": {},
   "source": [
    "<p style = 'font-size:18px;font-family:Arial;color:#E37C4D'> <b> Accessing the Data </b> </p>\n",
    "<p style = 'font-size:16px;font-family:Arial'>These demos will work either with foreign tables accessed from Cloud Storage via NOS or you may import the tables to your machine. If you import data for multiple demos, you may need to use the Data Dictionary \"Manage Your Space\" routine to cleanup tables you no longer need.     \n",
    "    \n",
    "<p style = 'font-size:16px;font-family:Arial'>Use the link below to access the 2 options for using data from the data dictionary notebook:\n",
    "\n",
    "[Click Here to get data for this notebook](../Data_Dictionary/Data_Dictionary.ipynb#TRNG_NYCTaxi)\n",
    "\n",
    "[Click Here to Manage Your Space](../Data_Dictionary/Data_Dictionary.ipynb#Manage_Your_Space)"
   ]
  },
  {
   "cell_type": "markdown",
   "metadata": {},
   "source": [
    "<p style = 'font-size:28px;font-family:Arial;color:#E37C4D'><b>Connect to Vantage and explore the dataset</b></p>\n",
    "Below command will connect to the Vantage environment.\n"
   ]
  },
  {
   "cell_type": "code",
   "execution_count": null,
   "metadata": {},
   "outputs": [],
   "source": [
    "%connect local"
   ]
  },
  {
   "cell_type": "markdown",
   "metadata": {},
   "source": [
    "<p style = 'font-size:18px;font-family:Arial;color:#E37C4D'> <b> Access data in Vantage  </b> </p>\n",
    "<p style = 'font-size:16px;font-family:Arial'>For this demo, data is already resident in Object Storage which we are accessing via ReadNOS.  Create a reference to the table, and sample the contents.  Data could just as easily reside in permanent tables, another RDBMS, or another Vantage system.<br>\n",
    "This demonstration will use two tables: the taxi trip details and the fares for each trip. The queries below will sample each table and then show the range of the time period covered by the data. <br>\n",
    "<i>*You can skip to Geospatial Analysis if you have seen the trip & fare tables in other notebook in the series</p>"
   ]
  },
  {
   "cell_type": "code",
   "execution_count": null,
   "metadata": {},
   "outputs": [],
   "source": [
    "SELECT top 10 * from TRNG_NYCTaxi.trip;"
   ]
  },
  {
   "cell_type": "code",
   "execution_count": null,
   "metadata": {},
   "outputs": [],
   "source": [
    "SELECT top 10 * from TRNG_NYCTaxi.trip_fare;"
   ]
  },
  {
   "cell_type": "code",
   "execution_count": null,
   "metadata": {},
   "outputs": [],
   "source": [
    "sel min(pickup_datetime), max(dropoff_datetime) from TRNG_NYCTaxi.trip;"
   ]
  },
  {
   "cell_type": "markdown",
   "metadata": {},
   "source": [
    "<p style = 'font-size:28px;font-family:Arial;color:#E37C4D'><b>Geospatial Analysis </b></p>\n",
    "<p style = 'font-size:16px;font-family:Arial'> Now we have seen the trip and fare details, Let's define a few landmarks. </p>\n"
   ]
  },
  {
   "cell_type": "code",
   "execution_count": null,
   "metadata": {},
   "outputs": [],
   "source": [
    "CREATE VOLATILE TABLE dim_geo_locations\n",
    "     (\n",
    "      location VARCHAR(100),\n",
    "      Lat FLOAT,\n",
    "      Lon FLOAT,\n",
    "      geo_point SYSUDTLIB.ST_GEOMETRY(16776192) INLINE LENGTH 9920)\n",
    "PRIMARY INDEX ( location )\n",
    "ON COMMIT PRESERVE ROWS;"
   ]
  },
  {
   "cell_type": "code",
   "execution_count": null,
   "metadata": {},
   "outputs": [],
   "source": [
    "insert into dim_geo_locations values('Columbia University',40.81,-73.96,'POINT(40.81 -73.96)');\n",
    "insert into dim_geo_locations values('Empire State Building',40.75,-73.99,'POINT(40.75 -73.99)');\n",
    "insert into dim_geo_locations values('Grand Central Station',40.75,-73.98,'POINT(40.75 -73.98)');\n",
    "insert into dim_geo_locations values('JFK Airport',40.64,-73.79,'POINT(40.64 -73.79)');\n",
    "insert into dim_geo_locations values('Madison Square Garden',40.75,-73.99,'POINT(40.75 -73.99)');\n",
    "insert into dim_geo_locations values('New York Stock Exchange',40.71,-74.01,'POINT(40.71 -74.01)');\n",
    "insert into dim_geo_locations values('Times Square',40.76,-73.99,'POINT(40.76 -73.99)');\n",
    "insert into dim_geo_locations values('United Nations HQ',40.75,-73.97,'POINT(40.75 -73.97)');\n",
    "insert into dim_geo_locations values('Yankee Stadium',40.83,-73.93,'POINT(40.83 -73.93)');"
   ]
  },
  {
   "cell_type": "markdown",
   "metadata": {},
   "source": [
    "<p style = 'font-size:16px;font-family:Arial'> We are casting coordinates as a ST_GEOMETRY type. Here are the coordinates for the Yankee Stadium, and this is a point:"
   ]
  },
  {
   "cell_type": "code",
   "execution_count": null,
   "metadata": {},
   "outputs": [],
   "source": [
    "sel cast('POINT(40.75 -73.97)' as ST_GEOMETRY)"
   ]
  },
  {
   "cell_type": "markdown",
   "metadata": {},
   "source": [
    "<p style = 'font-size:16px;font-family:Arial'> Let's filter the rides starting within 1km from a given 'Yankee Stadium'."
   ]
  },
  {
   "cell_type": "code",
   "execution_count": null,
   "metadata": {},
   "outputs": [],
   "source": [
    "sel\n",
    "l.location\n",
    ",cast('POINT('||trim(r.pickup_latitude (Decimal(15,6)))||' '||trim(r.pickup_longitude (Decimal(15,6)))||')' as ST_GEOMETRY) pickup_point\n",
    ",r.*\n",
    "from TRNG_NYCTaxi.trip r\n",
    "join dim_geo_locations l\n",
    "on pickup_point.ST_SphericalDistance(l.geo_point)<1000\n",
    "where (r.pickup_datetime (date)) = '2013-11-10'\n",
    "    and l.location='Yankee Stadium'\n",
    ";"
   ]
  },
  {
   "cell_type": "markdown",
   "metadata": {},
   "source": [
    "<p style = 'font-size:16px;font-family:Arial'> What is the number of pickup at 'Yankee Stadium' throughout the month?"
   ]
  },
  {
   "cell_type": "code",
   "execution_count": null,
   "metadata": {},
   "outputs": [],
   "source": [
    "sel\n",
    "$TD_TIMECODE_RANGE time_bucket_per\n",
    ",l.location\n",
    ",count(1) pickup_cnt\n",
    "from TRNG_NYCTaxi.trip r\n",
    "join dim_geo_locations l\n",
    "\ton cast('POINT('||trim(r.pickup_latitude (Decimal(15,6)))||' '||trim(r.pickup_longitude (Decimal(15,6)))||')' as ST_GEOMETRY).ST_SphericalDistance(l.geo_point)<1000\n",
    "group by time(minutes(15) and l.location)\n",
    "USING TIMECODE(pickup_datetime)\n",
    "where extract(month from pickup_datetime)=11\n",
    "        and l.location='Yankee Stadium'\n",
    "order by 2,1;"
   ]
  },
  {
   "cell_type": "markdown",
   "metadata": {},
   "source": [
    "<p style = 'font-size:16px;font-family:Arial'> What is the average demand at 'Yankee Stadium' throughout the day, based on November data?"
   ]
  },
  {
   "cell_type": "code",
   "execution_count": null,
   "metadata": {},
   "outputs": [],
   "source": [
    "sel *\n",
    "from \n",
    "(\n",
    "\tsel\n",
    "\tbegin($TD_TIMECODE_RANGE) (time) timeOfDay\n",
    "\t,l.location\n",
    "\t,count(1) pickup_cnt\n",
    "\tfrom TRNG_NYCTaxi.trip r\n",
    "\tjoin dim_geo_locations l\n",
    "\t\ton cast('POINT('||trim(r.pickup_latitude (Decimal(15,6)))||' '||trim(r.pickup_longitude (Decimal(15,6)))||')' as ST_GEOMETRY).ST_SphericalDistance(l.geo_point)<1000\n",
    "\tgroup by time(minutes(15) and l.location)\n",
    "\tUSING TIMECODE(pickup_datetime)\n",
    "\twhere extract(month from pickup_datetime)=11\n",
    ") AS dt \n",
    "PIVOT(\n",
    "    avg(pickup_cnt) FOR location IN (sel distinct location from dim_geo_locations where location='Yankee Stadium')\n",
    ") dt\n",
    "order by 1;"
   ]
  },
  {
   "cell_type": "markdown",
   "metadata": {},
   "source": [
    "<p style = 'font-size:28px;font-family:Arial;color:#E37C4D'><b>Conclusion</b></p>\n",
    "<p style = 'font-size:16px;font-family:Arial'>\n",
    "In this demonstration we have seen Vantage can store common geometry datatypes like point, linestring etc in ST_GEOMETRY datatype and has inbuild functions which are fairly simple and easy to use. For more information on the geomrtry datatype and functions plesae refer to link below."
   ]
  },
  {
   "cell_type": "markdown",
   "metadata": {},
   "source": [
    "<ul style = 'font-size:16px;font-family:Arial'> \n",
    "       \n",
    "  <li>Teradata® Geospatial Utilities User Guide: <a href = 'https://docs.teradata.com/r/Teradata-Geospatial-Utilities-User-Guide/June-2022/Teradata-Geospatial-Utilities-Overview/Welcome-to-Teradata-Tools-and-Utilities-Teradata-Geospatial-Utilities-User-Guide'>https://docs.teradata.com/r/Teradata-Geospatial-Utilities-User-Guide/June-2022/Teradata-Geospatial-Utilities-Overview/Welcome-to-Teradata-Tools-and-Utilities-Teradata-Geospatial-Utilities-User-Guide</a></li>\n",
    "  \n",
    "</ul>"
   ]
  },
  {
   "cell_type": "markdown",
   "metadata": {},
   "source": [
    "<footer style=\"padding:10px;background:#f9f9f9;border-bottom:3px solid #394851\">©2023 Teradata. All Rights Reserved</footer>"
   ]
  }
 ],
 "metadata": {
  "kernelspec": {
   "display_name": "Teradata SQL",
   "language": "Teradata SQL",
   "name": "teradatasql"
  },
  "language_info": {
   "codemirror_mode": "Teradata SQL",
   "file_extension": ".tdrs",
   "mimetype": "application/vnd.teradata.resultset",
   "name": "Teradata SQL",
   "nbconvert_exporter": "",
   "pygments_lexer": "",
   "version": "16.20"
  }
 },
 "nbformat": 4,
 "nbformat_minor": 4
}
