{
 "cells": [
  {
   "cell_type": "markdown",
   "metadata": {},
   "source": [
    "<header style=\"padding:1px;background:#f9f9f9;border-top:3px solid #00b2b1\"><img id=\"Teradata-logo\" src=\"https://www.teradata.com/Teradata/Images/Rebrand/Teradata_logo-two_color.png\" alt=\"Teradata\" width=\"220\" align=\"right\" />\n",
    "\n",
    "<b style = 'font-size:28px;font-family:Arial;color:#E37C4D'>4D Analytics using the New York City Taxi dataset --Geospatial & Visualizations</b>\n",
    "</header>\n",
    "\n",
    "<p style = 'font-size:18px;font-family:Arial;color:#E37C4D'><b>Introduction</b></p>"
   ]
  },
  {
   "cell_type": "markdown",
   "metadata": {},
   "source": [
    "<p style = 'font-size:16px;font-family:Arial'>\n",
    "Businesses that involve different locations and moving things from place to place where they are needed can benefit from geospatial analysis.  Questions include capacity at given locations and capacity to move things from where they are to where they are needed.  A common optimization question is keeping the assets used in movement in constant use.  A major railroad saved millions of dollars using Vantage to reduce the idle time of engines waiting in the rail yard.  A commonly used set of data for this type of analysis is the NYC Taxi data which has trips with cabs (medallions), pickup/drop-off time and geospatial coordinates. , passenger count and fares. Using geospatial analysis, decisions can be made about deploying cabs and vehicles with different capacities.<br>Vantage provides support for geospatial shapes (points, lines, curves, polygon, etc) and methods for analyzing the relationships of those shapes ( Distance, length, overlaps, contains, touches, etc).  In this demo, we’ll be using:</p>\n",
    "    <ul style = 'font-size:16px;font-family:Arial'>\n",
    "<li>Geospatial using the ST_GEOMETRY data type and ST_SphericalDistance method</li>\n",
    "        <li>The visualizations are done using Python plotly module</li>\n",
    "               </ul>\n",
    "    </p>\n",
    "    "
   ]
  },
  {
   "cell_type": "markdown",
   "metadata": {},
   "source": [
    "<p style = 'font-size:28px;font-family:Arial;color:#E37C4D'><b>1. Import python packages, connect to Vantage and explore the dataset</b></p>"
   ]
  },
  {
   "cell_type": "code",
   "execution_count": null,
   "metadata": {},
   "outputs": [],
   "source": [
    "import getpass\n",
    "import warnings\n",
    "\n",
    "import pandas as pd\n",
    "import numpy as np\n",
    "import plotly.express as px\n",
    "import plotly.graph_objects as go\n",
    "\n",
    "from teradataml.dataframe.dataframe import DataFrame\n",
    "from teradataml.analytics.sqle import NGramSplitter\n",
    "from teradataml.dataframe.dataframe import in_schema\n",
    "from teradataml.context.context import create_context, remove_context, get_context\n",
    "from teradataml.dataframe.copy_to import copy_to_sql\n",
    "from teradataml.options.display import display\n",
    "\n",
    "from teradatasqlalchemy.types import *\n",
    "\n",
    "import matplotlib.pyplot as plt\n",
    "\n",
    "%matplotlib inline\n",
    "\n",
    "warnings.filterwarnings('ignore')\n"
   ]
  },
  {
   "cell_type": "markdown",
   "metadata": {},
   "source": [
    "<p style = 'font-size:16px;font-family:Arial'>You will be prompted to provide the password. Enter your password, press the Enter key, then use down arrow to go to next cell.</p>"
   ]
  },
  {
   "cell_type": "markdown",
   "metadata": {},
   "source": [
    "<p style = 'font-size:16px;font-family:Arial'>Below command will make a connection to the Vantage environment."
   ]
  },
  {
   "cell_type": "code",
   "execution_count": null,
   "metadata": {},
   "outputs": [],
   "source": [
    "%run -i ../startup.ipynb\n",
    "eng = create_context(host = 'host.docker.internal', username='demo_user', password = password)\n",
    "print(eng)\n",
    "eng.execute('''SET query_band='DEMO=NYC-taxi-geospatial-visual.ipynb;' UPDATE FOR SESSION; ''')\n"
   ]
  },
  {
   "cell_type": "markdown",
   "metadata": {},
   "source": [
    "<p style = 'font-size:16px;font-family:Arial'>Begin running steps with Shift + Enter keys.</p>"
   ]
  },
  {
   "cell_type": "markdown",
   "metadata": {},
   "source": [
    "<p style = 'font-size:18px;font-family:Arial;color:#E37C4D'> <b>Getting Data for This Demo</b></p>\n",
    "<p style = 'font-size:16px;font-family:Arial'>We have provided data for this demo on cloud storage. In this demo since we are using Temporal table we will be creating databases and tables in local storage and use them in the notebook. Please execute the procedure in the next cell.</p>"
   ]
  },
  {
   "cell_type": "code",
   "execution_count": null,
   "metadata": {},
   "outputs": [],
   "source": [
    "%run -i ../run_procedure.py \"call get_data('DEMO_NYCTaxi_cloud');\"\n",
    " # takes about 25 seconds, estimated space: 0 MB\n",
    "#%run -i ../run_procedure.py \"call get_data('DEMO_NYCTaxi_local');\" \n",
    "# takes about 1minute 20 seconds, estimated space: 70 MB"
   ]
  },
  {
   "cell_type": "markdown",
   "metadata": {},
   "source": [
    "<p style = 'font-size:16px;font-family:Arial'>Next is an optional step – if you want to see status of databases/tables created and space used.</p>"
   ]
  },
  {
   "cell_type": "code",
   "execution_count": null,
   "metadata": {},
   "outputs": [],
   "source": [
    "%run -i ../run_procedure.py \"call space_report();\""
   ]
  },
  {
   "cell_type": "markdown",
   "metadata": {},
   "source": [
    "<p style = 'font-size:18px;font-family:Arial;color:#E37C4D'> <b> Access data in Vantage  </b> </p>\n",
    "<p style = 'font-size:16px;font-family:Arial'>Let us check the data sample. This demonstration will use two tables: the taxi trip details and the fares for each trip. The queries below will sample each table and then show the range of the time period covered by the data. </p>"
   ]
  },
  {
   "cell_type": "code",
   "execution_count": null,
   "metadata": {},
   "outputs": [],
   "source": [
    "qry = ''' \n",
    "SELECT top 10 * from DEMO_NYCTaxi.Trip;\n",
    "'''\n",
    "\n",
    "res = pd.read_sql(qry, eng)\n",
    "\n",
    "res.head()"
   ]
  },
  {
   "cell_type": "code",
   "execution_count": null,
   "metadata": {},
   "outputs": [],
   "source": [
    "qry = '''\n",
    "SELECT top 10 * from DEMO_NYCTaxi.Trip_Fare;\n",
    "'''\n",
    "\n",
    "res = pd.read_sql(qry, eng)\n",
    "\n",
    "res.head()"
   ]
  },
  {
   "cell_type": "code",
   "execution_count": null,
   "metadata": {},
   "outputs": [],
   "source": [
    "qry = ''' \n",
    "sel min(pickup_datetime), max(dropoff_datetime) from DEMO_NYCTaxi.Trip;\n",
    "'''\n",
    "\n",
    "res = pd.read_sql(qry, eng)\n",
    "\n",
    "res.head()"
   ]
  },
  {
   "cell_type": "markdown",
   "metadata": {},
   "source": [
    "   <p style = 'font-size:28px;font-family:Arial;color:#E37C4D'><b>2. Geospatial Analysis </b></p>\n",
    "   <p style = 'font-size:16px;font-family:Arial'> Now we have seen the trip and fare details, Let's define a few landmarks. </p>"
   ]
  },
  {
   "cell_type": "code",
   "execution_count": null,
   "metadata": {},
   "outputs": [],
   "source": [
    "qry = ''' \n",
    "CREATE VOLATILE TABLE dim_geo_locations\n",
    "     (\n",
    "      location VARCHAR(100),\n",
    "      Lat FLOAT,\n",
    "      Lon FLOAT,\n",
    "      geo_point SYSUDTLIB.ST_GEOMETRY(16776192) INLINE LENGTH 9920)\n",
    "PRIMARY INDEX ( location )\n",
    "ON COMMIT PRESERVE ROWS;\n",
    "'''\n",
    "\n",
    "eng.execute(qry)\n"
   ]
  },
  {
   "cell_type": "code",
   "execution_count": null,
   "metadata": {},
   "outputs": [],
   "source": [
    "qry = ''' \n",
    "insert into dim_geo_locations values('Columbia University',40.81,-73.96,'POINT(40.81 -73.96)')\n",
    ";insert into dim_geo_locations values('Empire State Building',40.75,-73.99,'POINT(40.75 -73.99)')\n",
    ";insert into dim_geo_locations values('Grand Central Station',40.75,-73.98,'POINT(40.75 -73.98)')\n",
    ";insert into dim_geo_locations values('JFK Airport',40.64,-73.79,'POINT(40.64 -73.79)')\n",
    ";insert into dim_geo_locations values('Madison Square Garden',40.75,-73.99,'POINT(40.75 -73.99)')\n",
    ";insert into dim_geo_locations values('New York Stock Exchange',40.71,-74.01,'POINT(40.71 -74.01)')\n",
    ";insert into dim_geo_locations values('Times Square',40.76,-73.99,'POINT(40.76 -73.99)')\n",
    ";insert into dim_geo_locations values('United Nations HQ',40.75,-73.97,'POINT(40.75 -73.97)')\n",
    ";insert into dim_geo_locations values('Yankee Stadium',40.83,-73.93,'POINT(40.83 -73.93)');\n",
    "'''\n",
    "\n",
    "eng.execute(qry)"
   ]
  },
  {
   "cell_type": "code",
   "execution_count": null,
   "metadata": {},
   "outputs": [],
   "source": [
    "qry = ''' \n",
    "sel * from dim_geo_locations;\n",
    "'''\n",
    "\n",
    "res = pd.read_sql(qry, eng)\n",
    "\n",
    "res.head()"
   ]
  },
  {
   "cell_type": "markdown",
   "metadata": {},
   "source": [
    "<p style = 'font-size:16px;font-family:Arial'> As you can see the dim_geo_locations contain a separate Latitude and Longitude column and a \"Well Known Text\" (WKT) geospatial column with a POINT defined. The supported shape types also have user defined type. Those available are:\n",
    "<ul style = 'font-size:16px;font-family:Arial'>\n",
    "    <li>ST_CircularString</li>\n",
    "    <li>ST_GeomCollection</li>\n",
    "    <li>ST_MultiLineString</li>\n",
    "    <li>ST_Point</li>\n",
    "    <li>ST_CompoundCurve</li>\n",
    "    <li>ST_Geometry</li>\n",
    "    <li>ST_MultiPoint</li>\n",
    "    <li>ST_Polygon</li>\n",
    "    <li>ST_Curve</li>\n",
    "    <li>ST_LineString</li>\n",
    "    <li>ST_MultiPolygon</li>\n",
    "    <li>ST_Surface</li>\n",
    "    <li>ST_CurvePolygon</li>\n",
    "    <li>ST_MultiCurve</li>\n",
    "    <li>ST_MultiSurface</li></ul>\n"
   ]
  },
  {
   "cell_type": "markdown",
   "metadata": {},
   "source": [
    "<p style = 'font-size:16px;font-family:Arial'> Now let's plot these locations on the map."
   ]
  },
  {
   "cell_type": "code",
   "execution_count": null,
   "metadata": {},
   "outputs": [],
   "source": [
    "#Dim geo locations\n",
    "geo = pd.read_sql(\"select location,lat,lon from dim_geo_locations ;\",eng)\n",
    "fig1 = px.scatter_mapbox(geo, lat=\"Lat\", lon=\"Lon\", hover_name=\"location\", \n",
    "                        color_discrete_sequence=[\"red\"], zoom=11, height=400)\n",
    "fig1.update_layout(mapbox_style=\"open-street-map\")\n",
    "fig1.update_layout(margin={\"r\":0,\"t\":0,\"l\":0,\"b\":0})\n",
    "fig1.show()"
   ]
  },
  {
   "cell_type": "markdown",
   "metadata": {},
   "source": [
    "<p style = 'font-size:16px;font-family:Arial'>\n",
    "Sometimes the source data you get from other sources may not have been developed with geospatial data types but separate latitude and longitude as seen in Trips table above. Ideally data would be stored with geospatial data types but we can cast them as geometry datatype. To simplify the code, we will create a function that will create a WKT representation of the point"
   ]
  },
  {
   "cell_type": "code",
   "execution_count": null,
   "metadata": {},
   "outputs": [],
   "source": [
    "qry = ''' \n",
    "REPLACE FUNCTION Make_Geometry(latitude FLOAT, longitude FLOAT) RETURNS ST_GEOMETRY\n",
    "LANGUAGE SQL CONTAINS SQL COLLATION INVOKER INLINE TYPE 1\n",
    "RETURN CAST('POINT('|| TRIM(latitude (DECIMAL(15,6))) || ' ' || TRIM(longitude (DECIMAL(15,6))) || ')' AS ST_GEOMETRY);\n",
    "'''\n",
    "\n",
    "eng.execute(qry)"
   ]
  },
  {
   "cell_type": "markdown",
   "metadata": {},
   "source": [
    " \n",
    " <p style = 'font-size:16px;font-family:Arial'>\n",
    "    Here are the coordinates for the JFK airport, and this is a point:"
   ]
  },
  {
   "cell_type": "code",
   "execution_count": null,
   "metadata": {},
   "outputs": [],
   "source": [
    "qry = '''\n",
    "SELECT Make_Geometry(40.64, -73.79);\n",
    "'''\n",
    "res = pd.read_sql(qry, eng)\n",
    "\n",
    "res.head()"
   ]
  },
  {
   "cell_type": "markdown",
   "metadata": {},
   "source": [
    "<p style = 'font-size:16px;font-family:Arial'> Let's find out the drop locations for taxis staring from JFK Airport."
   ]
  },
  {
   "cell_type": "code",
   "execution_count": null,
   "metadata": {},
   "outputs": [],
   "source": [
    "qry = '''\n",
    "select \n",
    "r.dropoff_latitude\n",
    ",r.dropoff_longitude\n",
    ",count(*)\n",
    "from DEMO_NYCTaxi.Trip r\n",
    "where  cast(pickup_latitude as decimal(10,2))= 40.64\n",
    "and cast(pickup_longitude as decimal(10,2)) = -73.79 \n",
    "group by 1,2;\n",
    "'''\n",
    "drop_loc = pd.read_sql(qry, eng)\n",
    "\n",
    "drop_loc.head()"
   ]
  },
  {
   "cell_type": "markdown",
   "metadata": {},
   "source": [
    "<p style = 'font-size:16px;font-family:Arial'> Let's see these drop points on the map."
   ]
  },
  {
   "cell_type": "code",
   "execution_count": null,
   "metadata": {},
   "outputs": [],
   "source": [
    "fig2 = px.scatter_mapbox(drop_loc, lat=\"dropoff_latitude\", lon=\"dropoff_longitude\", \n",
    "                        color_discrete_sequence=[\"blue\"], zoom=11, height=400)\n",
    "fig2.update_layout(mapbox_style=\"open-street-map\")\n",
    "fig2.update_layout(margin={\"r\":0,\"t\":0,\"l\":0,\"b\":0})\n",
    "fig2.show()"
   ]
  },
  {
   "cell_type": "markdown",
   "metadata": {},
   "source": [
    "<p style = 'font-size:16px;font-family:Arial'> Let's visualize these drop locations with the landmark locations we have created before."
   ]
  },
  {
   "cell_type": "code",
   "execution_count": null,
   "metadata": {},
   "outputs": [],
   "source": [
    "fig3 = go.Figure(data=fig1.data + fig2.data ,layout = fig1.layout)\n",
    "fig3.show()"
   ]
  },
  {
   "cell_type": "markdown",
   "metadata": {},
   "source": [
    "<p style = 'font-size:16px;font-family:Arial'> Vantage has many inbuilt geospatial functions e.g ST_Spherical_Distance which calculates the distance between two points. For complete list of geospatial functions you can check the reference link."
   ]
  },
  {
   "cell_type": "markdown",
   "metadata": {},
   "source": [
    "<p style = 'font-size:16px;font-family:Arial'> Now let's filter the rides staring from JFK Airport where drop off point is within 0.5km of any landmark"
   ]
  },
  {
   "cell_type": "code",
   "execution_count": null,
   "metadata": {},
   "outputs": [],
   "source": [
    "qry = '''\n",
    "SELECT geoloc.location\n",
    ",trip.dropoff_latitude\n",
    ",trip.dropoff_longitude\n",
    "FROM DEMO_NYCTaxi.trip trip\n",
    "join dim_geo_locations geoloc\n",
    "on geoloc.geo_point.ST_SphericalDistance(make_geometry(trip.dropoff_latitude, trip.dropoff_longitude)) < 500\n",
    "where  cast(pickup_latitude as decimal(10,2))= 40.64\n",
    "and cast(pickup_longitude as decimal(10,2)) = -73.79 \n",
    "group by 1,2,3\n",
    "'''\n",
    "drop_loc2 = pd.read_sql(qry, eng)\n",
    "\n",
    "drop_loc2.head()"
   ]
  },
  {
   "cell_type": "code",
   "execution_count": null,
   "metadata": {},
   "outputs": [],
   "source": [
    "fig4 = px.scatter_mapbox(drop_loc2, lat=\"dropoff_latitude\", lon=\"dropoff_longitude\", hover_name=\"location\", \n",
    "                        color_discrete_sequence=[\"blue\"], zoom=11, height=400)\n",
    "fig4.update_layout(mapbox_style=\"open-street-map\")\n",
    "fig4.update_layout(margin={\"r\":0,\"t\":0,\"l\":0,\"b\":0})\n",
    "\n",
    "fig5 = go.Figure(data=fig1.data + fig4.data ,layout = fig1.layout)\n",
    "fig5.show()"
   ]
  },
  {
   "cell_type": "markdown",
   "metadata": {},
   "source": [
    "<p style = 'font-size:16px;font-family:Arial'> Which landmark has the highest number of pickup points within 0.5KM"
   ]
  },
  {
   "cell_type": "code",
   "execution_count": null,
   "metadata": {},
   "outputs": [],
   "source": [
    "qry = '''\n",
    "SELECT geoloc.location\n",
    ",geoloc.lat\n",
    ",geoloc.lon\n",
    ",count(1) pickup_cnt\n",
    "FROM DEMO_NYCTaxi.trip trip\n",
    "join dim_geo_locations geoloc\n",
    "on geoloc.geo_point.ST_SphericalDistance(make_geometry(trip.pickup_latitude, trip.pickup_longitude))  < 500\n",
    "group by 1,2,3\n",
    "'''\n",
    "pickup = pd.read_sql(qry, eng)\n",
    "\n",
    "pickup.head()"
   ]
  },
  {
   "cell_type": "code",
   "execution_count": null,
   "metadata": {},
   "outputs": [],
   "source": [
    "fig6 = px.scatter_mapbox(pickup, lat=\"Lat\", lon=\"Lon\", hover_name=\"location\", \n",
    "                        color=\"pickup_cnt\",size=\"pickup_cnt\", zoom=11, height=400)\n",
    "fig6.update_layout(mapbox_style=\"open-street-map\")\n",
    "fig6.update_layout(margin={\"r\":0,\"t\":0,\"l\":0,\"b\":0})\n",
    "fig6.show()"
   ]
  },
  {
   "cell_type": "markdown",
   "metadata": {},
   "source": [
    "<p style = 'font-size:16px;font-family:Arial'> What is the number of pickup at 'JFK Airport' throughout the day? As we have earlier from min & max pickup datetime we have only one day's data hence we don't need any date filter."
   ]
  },
  {
   "cell_type": "code",
   "execution_count": null,
   "metadata": {},
   "outputs": [],
   "source": [
    "qry = '''\n",
    "select\n",
    "$TD_TIMECODE_RANGE time_bucket_per_hr\n",
    ",l.location\n",
    ",count(1) pickup_cnt\n",
    "from DEMO_NYCTaxi.Trip r\n",
    "join dim_geo_locations l\n",
    "on l.geo_point.ST_SphericalDistance(make_geometry(r.pickup_latitude, r.pickup_longitude)) < 1000\n",
    "group by time(minutes(60) and l.location)\n",
    "USING TIMECODE(pickup_datetime)\n",
    "where  l.location='JFK Airport'\n",
    "order by 2,1;\n",
    "'''\n",
    "hr_throughput = pd.read_sql(qry, eng)\n",
    "\n",
    "hr_throughput.head()"
   ]
  },
  {
   "cell_type": "code",
   "execution_count": null,
   "metadata": {},
   "outputs": [],
   "source": [
    "hr_throughput.plot(kind = 'bar', legend = True, figsize = (12, 9))"
   ]
  },
  {
   "cell_type": "markdown",
   "metadata": {},
   "source": [
    "<p style = 'font-size:16px;font-family:Arial'> From the chart above we can see that the pickup demand at airport is higher from 3-10PM and very low from 2-5am."
   ]
  },
  {
   "cell_type": "markdown",
   "metadata": {},
   "source": [
    "<p style = 'font-size:28px;font-family:Arial;color:#E37C4D'><b>3.  Clean up </b></p>\n",
    "<p style = 'font-size:20px;font-family:Arial;color:#E37C4D'> <b>Worktables </b></p>"
   ]
  },
  {
   "cell_type": "code",
   "execution_count": null,
   "metadata": {},
   "outputs": [],
   "source": [
    "eng.execute('DROP TABLE dim_geo_locations;') \n"
   ]
  },
  {
   "cell_type": "code",
   "execution_count": null,
   "metadata": {},
   "outputs": [],
   "source": [
    "eng.execute('DROP FUNCTION make_geometry;') "
   ]
  },
  {
   "cell_type": "markdown",
   "metadata": {},
   "source": [
    "<p style = 'font-size:20px;font-family:Arial;color:#E37C4D'> <b>Database and Tables </b></p>\n",
    "<p style = 'font-size:16px;font-family:Arial'>The following code will clean up tables and databases created above.</p>"
   ]
  },
  {
   "cell_type": "code",
   "execution_count": null,
   "metadata": {},
   "outputs": [],
   "source": [
    "%run -i ../run_procedure.py \"call remove_data('DEMO_NYCTaxi');\" \n",
    "#Takes 10 seconds takes about 10 seconds, optional if you want to use the data later\n",
    "#note that the same database & tables are used in Usecases/NYC-taxi-4d/NYC-taxi-4d.ipynb "
   ]
  },
  {
   "cell_type": "markdown",
   "metadata": {},
   "source": [
    "<p style = 'font-size:28px;font-family:Arial;color:#E37C4D'><b>4. Conclusion</b></p>\n",
    "<p style = 'font-size:16px;font-family:Arial'>\n",
    "In this demonstration we have seen Vantage can store common geometry datatypes like point, linestring etc in ST_GEOMETRY datatype and has inbuild functions which are fairly simple and easy to use. For more information on the geometry datatype and functions please refer to link below. "
   ]
  },
  {
   "cell_type": "markdown",
   "metadata": {},
   "source": [
    "<p style = 'font-size:20px;font-family:Arial;color:#E37C4D'><b>Reference Links:</b></p>\n",
    "<ul style = 'font-size:16px;font-family:Arial'>\n",
    "        <li>Teradata® Geospatial Utilities User Guide: <a href = 'https://docs.teradata.com/r/Teradata-Geospatial-Utilities-User-Guide/June-2022/Teradata-Geospatial-Utilities-Overview/Welcome-to-Teradata-Tools-and-Utilities-Teradata-Geospatial-Utilities-User-Guide'>https://docs.teradata.com/r/Teradata-Geospatial-Utilities-User-Guide/June-2022/Teradata-Geospatial-Utilities-Overview/Welcome-to-Teradata-Tools-and-Utilities-Teradata-Geospatial-Utilities-User-Guide</a></ul>"
   ]
  },
  {
   "cell_type": "markdown",
   "metadata": {},
   "source": [
    "<footer style=\"padding:10px;background:#f9f9f9;border-bottom:3px solid #394851\">©2023 Teradata. All Rights Reserved</footer>"
   ]
  }
 ],
 "metadata": {
  "kernelspec": {
   "display_name": "Python 3 (ipykernel)",
   "language": "python",
   "name": "python3"
  },
  "language_info": {
   "codemirror_mode": {
    "name": "ipython",
    "version": 3
   },
   "file_extension": ".py",
   "mimetype": "text/x-python",
   "name": "python",
   "nbconvert_exporter": "python",
   "pygments_lexer": "ipython3",
   "version": "3.9.10"
  },
  "toc-showtags": true
 },
 "nbformat": 4,
 "nbformat_minor": 4
}
