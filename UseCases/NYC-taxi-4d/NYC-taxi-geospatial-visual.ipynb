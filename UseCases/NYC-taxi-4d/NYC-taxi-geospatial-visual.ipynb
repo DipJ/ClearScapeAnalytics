{
 "cells": [
  {
   "cell_type": "markdown",
   "metadata": {},
   "source": [
    "<header style=\"padding:1px;background:#f9f9f9;border-top:3px solid #00b2b1\"><img id=\"Teradata-logo\" src=\"https://www.teradata.com/Teradata/Images/Rebrand/Teradata_logo-two_color.png\" alt=\"Teradata\" width=\"220\" align=\"right\" />\n",
    "\n",
    "<b style = 'font-size:28px;font-family:Arial;color:#E37C4D'>4D Analytics using the New York City Taxi dataset --Geospatial & Visualizations</b>\n",
    "</header>\n",
    "\n",
    "<p style = 'font-size:18px;font-family:Arial;color:#E37C4D'><b>Introduction</b></p>"
   ]
  },
  {
   "cell_type": "markdown",
   "metadata": {},
   "source": [
    "<p style = 'font-size:16px;font-family:Arial'>\n",
    "This is a demonstration of Vantage capabilities for\n",
    "    <ul style = 'font-size:16px;font-family:Arial'>\n",
    "<li>Geospatial using the ST_GEOMETRY data type and ST_SphericalDistance method</li>\n",
    "        <li>The visualizations are done usng Python plotly module</li>\n",
    "               </ul>\n",
    "    </p>\n",
    "    "
   ]
  },
  {
   "cell_type": "markdown",
   "metadata": {},
   "source": [
    "<p style = 'font-size:28px;font-family:Arial;color:#E37C4D'><b>1. Import python packages, connect to Vantage and explore the dataset</b></p>"
   ]
  },
  {
   "cell_type": "code",
   "execution_count": null,
   "metadata": {},
   "outputs": [],
   "source": [
    "import getpass\n",
    "import warnings\n",
    "\n",
    "import pandas as pd\n",
    "import numpy as np\n",
    "import plotly.express as px\n",
    "import plotly.graph_objects as go\n",
    "\n",
    "from teradataml.dataframe.dataframe import DataFrame\n",
    "from teradataml.analytics.sqle import NGramSplitter\n",
    "from teradataml.dataframe.dataframe import in_schema\n",
    "from teradataml.context.context import create_context, remove_context, get_context\n",
    "from teradataml.dataframe.copy_to import copy_to_sql\n",
    "from teradataml.options.display import display\n",
    "\n",
    "from teradatasqlalchemy.types import *\n",
    "\n",
    "import matplotlib.pyplot as plt\n",
    "\n",
    "%matplotlib inline\n",
    "\n",
    "warnings.filterwarnings('ignore')\n"
   ]
  },
  {
   "cell_type": "markdown",
   "metadata": {},
   "source": [
    "<p style = 'font-size:16px;font-family:Arial'>You will be prompted to provide the password. Enter your password, press the Enter key, then use down arrow to go to next cell.</p>"
   ]
  },
  {
   "cell_type": "code",
   "execution_count": null,
   "metadata": {},
   "outputs": [],
   "source": [
    "%run -i ../startup.ipynb"
   ]
  },
  {
   "cell_type": "markdown",
   "metadata": {},
   "source": [
    "<p style = 'font-size:16px;font-family:Arial'>Below command will make a connection to the Vantage environment."
   ]
  },
  {
   "cell_type": "code",
   "execution_count": null,
   "metadata": {},
   "outputs": [],
   "source": [
    "eng = create_context(host = 'host.docker.internal', username='demo_user', password = password)\n",
    "print(eng)"
   ]
  },
  {
   "cell_type": "markdown",
   "metadata": {},
   "source": [
    "<p style = 'font-size:16px;font-family:Arial'>Begin running steps with Shift + Enter keys.</p>"
   ]
  },
  {
   "cell_type": "code",
   "execution_count": null,
   "metadata": {},
   "outputs": [],
   "source": [
    "%sql SET query_band='DEMO=NYC-taxi-geospatial-visual.ipynb;' UPDATE FOR SESSION; "
   ]
  },
  {
   "cell_type": "markdown",
   "metadata": {},
   "source": [
    "<p style = 'font-size:18px;font-family:Arial;color:#E37C4D'> <b>Getting Data for This Demo</b></p>\n",
    "<p style = 'font-size:16px;font-family:Arial'>We have provided data for this demo on cloud storage. In this demo since we are using Temporal table we will be creating databases and tables in local storage and use them in the notebook. Please execute the procedure in the next cell.</p>"
   ]
  },
  {
   "cell_type": "code",
   "execution_count": null,
   "metadata": {},
   "outputs": [],
   "source": [
    "%run -i ../run_procedure.py \"call get_data('DEMO_NYCTaxi_cloud');\"\n",
    " # takes about 25 seconds, estimated space: 0 MB\n",
    "#%run -i ../run_procedure.py \"call get_data('DEMO_NYCTaxi_local');\" \n",
    "# takes about 1minute 20 seconds, estimated space: 70 MB"
   ]
  },
  {
   "cell_type": "markdown",
   "metadata": {},
   "source": [
    "<p style = 'font-size:16px;font-family:Arial'>Next is an optional step – if you want to see status of databases/tables created and space used.</p>"
   ]
  },
  {
   "cell_type": "code",
   "execution_count": null,
   "metadata": {},
   "outputs": [],
   "source": [
    "%run -i ../run_procedure.py \"call space_report();\""
   ]
  },
  {
   "cell_type": "markdown",
   "metadata": {},
   "source": [
    "<p style = 'font-size:18px;font-family:Arial;color:#E37C4D'> <b> Access data in Vantage  </b> </p>\n",
    "<p style = 'font-size:16px;font-family:Arial'>Let us check the data sample.This demonstration will use two tables: the taxi trip details and the fares for each trip. The queries below will sample each table and then show the range of the time period covered by the data. </p>"
   ]
  },
  {
   "cell_type": "code",
   "execution_count": null,
   "metadata": {},
   "outputs": [],
   "source": [
    "qry = ''' \n",
    "SELECT top 10 * from DEMO_NYCTaxi.Trip;\n",
    "'''\n",
    "\n",
    "res = pd.read_sql(qry, eng)\n",
    "\n",
    "res.head()"
   ]
  },
  {
   "cell_type": "code",
   "execution_count": null,
   "metadata": {},
   "outputs": [],
   "source": [
    "qry = '''\n",
    "SELECT top 10 * from DEMO_NYCTaxi.Trip_Fare;\n",
    "'''\n",
    "\n",
    "res = pd.read_sql(qry, eng)\n",
    "\n",
    "res.head()"
   ]
  },
  {
   "cell_type": "code",
   "execution_count": null,
   "metadata": {},
   "outputs": [],
   "source": [
    "qry = ''' \n",
    "sel min(pickup_datetime), max(dropoff_datetime) from DEMO_NYCTaxi.Trip;\n",
    "'''\n",
    "\n",
    "res = pd.read_sql(qry, eng)\n",
    "\n",
    "res.head()"
   ]
  },
  {
   "cell_type": "markdown",
   "metadata": {},
   "source": [
    "   <p style = 'font-size:28px;font-family:Arial;color:#E37C4D'><b>2. Geospatial Analysis </b></p>\n",
    "   <p style = 'font-size:16px;font-family:Arial'> Now we have seen the trip and fare details, Let's define a few landmarks. </p>"
   ]
  },
  {
   "cell_type": "code",
   "execution_count": null,
   "metadata": {},
   "outputs": [],
   "source": [
    "qry = ''' \n",
    "CREATE VOLATILE TABLE dim_geo_locations\n",
    "     (\n",
    "      location VARCHAR(100),\n",
    "      Lat FLOAT,\n",
    "      Lon FLOAT,\n",
    "      geo_point SYSUDTLIB.ST_GEOMETRY(16776192) INLINE LENGTH 9920)\n",
    "PRIMARY INDEX ( location )\n",
    "ON COMMIT PRESERVE ROWS;\n",
    "'''\n",
    "\n",
    "eng.execute(qry)\n"
   ]
  },
  {
   "cell_type": "code",
   "execution_count": null,
   "metadata": {},
   "outputs": [],
   "source": [
    "qry = ''' \n",
    "insert into dim_geo_locations values('Columbia University',40.81,-73.96,'POINT(40.81 -73.96)')\n",
    ";insert into dim_geo_locations values('Empire State Building',40.75,-73.99,'POINT(40.75 -73.99)')\n",
    ";insert into dim_geo_locations values('Grand Central Station',40.75,-73.98,'POINT(40.75 -73.98)')\n",
    ";insert into dim_geo_locations values('JFK Airport',40.64,-73.79,'POINT(40.64 -73.79)')\n",
    ";insert into dim_geo_locations values('Madison Square Garden',40.75,-73.99,'POINT(40.75 -73.99)')\n",
    ";insert into dim_geo_locations values('New York Stock Exchange',40.71,-74.01,'POINT(40.71 -74.01)')\n",
    ";insert into dim_geo_locations values('Times Square',40.76,-73.99,'POINT(40.76 -73.99)')\n",
    ";insert into dim_geo_locations values('United Nations HQ',40.75,-73.97,'POINT(40.75 -73.97)')\n",
    ";insert into dim_geo_locations values('Yankee Stadium',40.83,-73.93,'POINT(40.83 -73.93)');\n",
    "'''\n",
    "\n",
    "eng.execute(qry)"
   ]
  },
  {
   "cell_type": "code",
   "execution_count": null,
   "metadata": {},
   "outputs": [],
   "source": [
    "qry = ''' \n",
    "sel * from dim_geo_locations;\n",
    "'''\n",
    "\n",
    "res = pd.read_sql(qry, eng)\n",
    "\n",
    "res.head()"
   ]
  },
  {
   "cell_type": "markdown",
   "metadata": {},
   "source": [
    "<p style = 'font-size:16px;font-family:Arial'> As you can see the dim_geo_locations contain a separate Latitude and Longitude column and a \"Well Known Text\" (WKT) geospatial column with a POINT defined. The supported shape types also have user defined type. Those available are:\n",
    "<ul style = 'font-size:16px;font-family:Arial'>\n",
    "    <li>ST_CircularString</li>\n",
    "    <li>ST_GeomCollection</li>\n",
    "    <li>ST_MultiLineString</li>\n",
    "    <li>ST_Point</li>\n",
    "    <li>ST_CompoundCurve</li>\n",
    "    <li>ST_Geometry</li>\n",
    "    <li>ST_MultiPoint</li>\n",
    "    <li>ST_Polygon</li>\n",
    "    <li>ST_Curve</li>\n",
    "    <li>ST_LineString</li>\n",
    "    <li>ST_MultiPolygon</li>\n",
    "    <li>ST_Surface</li>\n",
    "    <li>ST_CurvePolygon</li>\n",
    "    <li>ST_MultiCurve</li>\n",
    "    <li>ST_MultiSurface</li></ul>\n"
   ]
  },
  {
   "cell_type": "markdown",
   "metadata": {},
   "source": [
    "<p style = 'font-size:16px;font-family:Arial'> Now let's plot these locations on the map."
   ]
  },
  {
   "cell_type": "code",
   "execution_count": null,
   "metadata": {},
   "outputs": [],
   "source": [
    "#Dim geo locations\n",
    "geo = pd.read_sql(\"select location,lat,lon from dim_geo_locations ;\",eng)\n"
   ]
  },
  {
   "cell_type": "code",
   "execution_count": null,
   "metadata": {},
   "outputs": [],
   "source": [
    "fig1 = px.scatter_mapbox(geo, lat=\"Lat\", lon=\"Lon\", hover_name=\"location\", \n",
    "                        color_discrete_sequence=[\"black\"], zoom=9, height=300)\n",
    "fig1.update_layout(mapbox_style=\"open-street-map\")\n",
    "fig1.update_layout(margin={\"r\":0,\"t\":0,\"l\":0,\"b\":0})\n",
    "fig1.show()"
   ]
  },
  {
   "cell_type": "markdown",
   "metadata": {},
   "source": [
    "<p style = 'font-size:16px;font-family:Arial'>\n",
    "Sometimes the source data you get from other sources may not have been developed with geospatial data types but separate latitude and longitude as seen in Trips table above. Ideally data would be stored with geospatial data types but we can cast them as geometry datatype.To simplify the code, we will create a function that will create a WKT representation of the point"
   ]
  },
  {
   "cell_type": "code",
   "execution_count": null,
   "metadata": {},
   "outputs": [],
   "source": [
    "qry = ''' \n",
    "REPLACE FUNCTION Make_Geometry(latitude FLOAT, longitude FLOAT) RETURNS ST_GEOMETRY\n",
    "LANGUAGE SQL CONTAINS SQL COLLATION INVOKER INLINE TYPE 1\n",
    "RETURN CAST('POINT('|| TRIM(latitude (DECIMAL(15,6))) || ' ' || TRIM(longitude (DECIMAL(15,6))) || ')' AS ST_GEOMETRY);\n",
    "'''\n",
    "\n",
    "eng.execute(qry)"
   ]
  },
  {
   "cell_type": "markdown",
   "metadata": {},
   "source": [
    " \n",
    " <p style = 'font-size:16px;font-family:Arial'>\n",
    "    Here are the coordinates for the JFK airport, and this is a point:"
   ]
  },
  {
   "cell_type": "code",
   "execution_count": null,
   "metadata": {},
   "outputs": [],
   "source": [
    "qry = '''\n",
    "SELECT Make_Geometry(40.64, -73.79);\n",
    "'''\n",
    "res = pd.read_sql(qry, eng)\n",
    "\n",
    "res.head()"
   ]
  },
  {
   "cell_type": "markdown",
   "metadata": {},
   "source": [
    "<p style = 'font-size:16px;font-family:Arial'> Let's find out the drop locations for taxis staring from JFK Airport."
   ]
  },
  {
   "cell_type": "code",
   "execution_count": null,
   "metadata": {},
   "outputs": [],
   "source": [
    "qry = '''\n",
    "select \n",
    "r.dropoff_latitude\n",
    ",r.dropoff_longitude\n",
    ",count(*)\n",
    "from DEMO_NYCTaxi.Trip r\n",
    "where  cast(pickup_latitude as decimal(10,2))= 40.64\n",
    "and cast(pickup_longitude as decimal(10,2)) = -73.79 \n",
    "group by 1,2;\n",
    "'''\n",
    "drop_loc = pd.read_sql(qry, eng)\n",
    "\n",
    "drop_loc.head()"
   ]
  },
  {
   "cell_type": "markdown",
   "metadata": {},
   "source": [
    "qry = '''\n",
    "select \n",
    "r.dropoff_latitude\n",
    ",r.dropoff_longitude\n",
    ",count(*)\n",
    "from DEMO_NYCTaxi.Trip r\n",
    "where make_geometry(cast(trip.pickup_latitude as decimal(10,2)), cast(trip.pickup_longitude as decimal(10,2))) = Make_Geometry(40.64, -73.79)\n",
    "group by 1,2;\n",
    "'''\n",
    "res = pd.read_sql(qry, eng)\n",
    "res.head()"
   ]
  },
  {
   "cell_type": "markdown",
   "metadata": {},
   "source": [
    "<p style = 'font-size:16px;font-family:Arial'> Let's see these drop points on the map."
   ]
  },
  {
   "cell_type": "code",
   "execution_count": null,
   "metadata": {},
   "outputs": [],
   "source": [
    "fig2 = px.scatter_mapbox(drop_loc, lat=\"dropoff_latitude\", lon=\"dropoff_longitude\", \n",
    "                        color_discrete_sequence=[\"yellow\"], zoom=9, height=300)\n",
    "fig2.update_layout(mapbox_style=\"open-street-map\")\n",
    "fig2.update_layout(margin={\"r\":0,\"t\":0,\"l\":0,\"b\":0})\n",
    "fig2.show()"
   ]
  },
  {
   "cell_type": "markdown",
   "metadata": {},
   "source": [
    "<p style = 'font-size:16px;font-family:Arial'> Let's visualize these drop locations with the landmark locations we have created before."
   ]
  },
  {
   "cell_type": "code",
   "execution_count": null,
   "metadata": {},
   "outputs": [],
   "source": [
    "fig3 = go.Figure(data=fig1.data + fig2.data ,layout = fig1.layout)\n",
    "fig3.show()"
   ]
  },
  {
   "cell_type": "markdown",
   "metadata": {},
   "source": [
    "<p style = 'font-size:16px;font-family:Arial'> Vantage has many inbuilt geospatial functions e.g ST_Spherical_Distance which calculates the distance between two points. For complete list of geospatial functions you can check the reference link."
   ]
  },
  {
   "cell_type": "markdown",
   "metadata": {},
   "source": [
    "<p style = 'font-size:16px;font-family:Arial'> Now let's filter the rides staring from JFK Airport where drop off point is within 0.5km of any landmark"
   ]
  },
  {
   "cell_type": "code",
   "execution_count": null,
   "metadata": {},
   "outputs": [],
   "source": [
    "qry = '''\n",
    "SELECT geoloc.location\n",
    ",trip.dropoff_latitude\n",
    ",trip.dropoff_longitude\n",
    "FROM DEMO_NYCTaxi.trip trip\n",
    "join dim_geo_locations geoloc\n",
    "on geoloc.geo_point.ST_SphericalDistance(make_geometry(trip.dropoff_latitude, trip.dropoff_longitude)) < 500\n",
    "where  cast(pickup_latitude as decimal(10,2))= 40.64\n",
    "and cast(pickup_longitude as decimal(10,2)) = -73.79 \n",
    "group by 1,2,3\n",
    "'''\n",
    "drop_loc2 = pd.read_sql(qry, eng)\n",
    "\n",
    "drop_loc2.head()"
   ]
  },
  {
   "cell_type": "code",
   "execution_count": null,
   "metadata": {},
   "outputs": [],
   "source": [
    "fig4 = px.scatter_mapbox(drop_loc2, lat=\"dropoff_latitude\", lon=\"dropoff_longitude\", hover_name=\"location\", \n",
    "                        color_discrete_sequence=[\"blue\"], zoom=9, height=300)\n",
    "fig4.update_layout(mapbox_style=\"open-street-map\")\n",
    "fig4.update_layout(margin={\"r\":0,\"t\":0,\"l\":0,\"b\":0})\n",
    "fig4.show()"
   ]
  },
  {
   "cell_type": "markdown",
   "metadata": {},
   "source": [
    "<p style = 'font-size:16px;font-family:Arial'> Which landmark has the highest number of pickup points within 0.5KM"
   ]
  },
  {
   "cell_type": "code",
   "execution_count": null,
   "metadata": {},
   "outputs": [],
   "source": [
    "qry = '''\n",
    "SELECT geoloc.location\n",
    ",geoloc.lat\n",
    ",geoloc.lon\n",
    ",count(1) pickup_cnt\n",
    "FROM DEMO_NYCTaxi.trip trip\n",
    "join dim_geo_locations geoloc\n",
    "on geoloc.geo_point.ST_SphericalDistance(make_geometry(trip.pickup_latitude, trip.pickup_longitude))  < 500\n",
    "group by 1,2,3\n",
    "'''\n",
    "pickup = pd.read_sql(qry, eng)\n",
    "\n",
    "pickup.head()"
   ]
  },
  {
   "cell_type": "code",
   "execution_count": null,
   "metadata": {},
   "outputs": [],
   "source": [
    "fig5 = px.scatter_mapbox(pickup, lat=\"Lat\", lon=\"Lon\", hover_name=\"location\", \n",
    "                        color=\"pickup_cnt\",size=\"pickup_cnt\", zoom=10, height=300)\n",
    "fig5.update_layout(mapbox_style=\"open-street-map\")\n",
    "fig5.update_layout(margin={\"r\":0,\"t\":0,\"l\":0,\"b\":0})\n",
    "fig5.show()"
   ]
  },
  {
   "cell_type": "markdown",
   "metadata": {},
   "source": [
    "<p style = 'font-size:16px;font-family:Arial'> What is the number of pickup at 'JFK Airport' throughout the month of November?"
   ]
  },
  {
   "cell_type": "code",
   "execution_count": null,
   "metadata": {},
   "outputs": [],
   "source": [
    "qry = '''\n",
    "select\n",
    "$TD_TIMECODE_RANGE time_bucket_per_hr\n",
    ",l.location\n",
    ",count(1) pickup_cnt\n",
    "from DEMO_NYCTaxi.Trip r\n",
    "join dim_geo_locations l\n",
    "\ton l.geo_point.ST_SphericalDistance(make_geometry(r.pickup_latitude, r.pickup_longitude)) < 1000\n",
    "group by time(minutes(60) and l.location)\n",
    "USING TIMECODE(pickup_datetime)\n",
    "where extract(month from pickup_datetime)=11\n",
    "and l.location='JFK Airport'\n",
    "order by 2,1;\n",
    "'''\n",
    "hr_throughput = pd.read_sql(qry, eng)\n",
    "\n",
    "hr_throughput.head()"
   ]
  },
  {
   "cell_type": "code",
   "execution_count": null,
   "metadata": {},
   "outputs": [],
   "source": [
    "hr_throughput.plot(kind = 'bar', legend = True, figsize = (12, 9))"
   ]
  },
  {
   "cell_type": "markdown",
   "metadata": {},
   "source": [
    "<p style = 'font-size:28px;font-family:Arial;color:#E37C4D'><b>3.  Clean up </b></p>\n",
    "<p style = 'font-size:20px;font-family:Arial;color:#E37C4D'> <b>Worktables </b></p>"
   ]
  },
  {
   "cell_type": "code",
   "execution_count": null,
   "metadata": {},
   "outputs": [],
   "source": [
    "eng.execute('DROP TABLE dim_geo_locations;') \n"
   ]
  },
  {
   "cell_type": "code",
   "execution_count": null,
   "metadata": {},
   "outputs": [],
   "source": [
    "eng.execute('DROP FUNCTION make_geometry;') "
   ]
  },
  {
   "cell_type": "markdown",
   "metadata": {},
   "source": [
    "<p style = 'font-size:20px;font-family:Arial;color:#E37C4D'> <b>Database and Tables </b></p>\n",
    "<p style = 'font-size:16px;font-family:Arial'>The following code will clean up tables and databases created above.</p>"
   ]
  },
  {
   "cell_type": "code",
   "execution_count": null,
   "metadata": {},
   "outputs": [],
   "source": [
    "%run -i ../run_procedure.py \"call remove_data('DEMO_NYCTaxi');\" \n",
    "#Takes 10 seconds takes about 10 seconds, optional if you want to use the data later\n",
    "#note that the same database & tables are used in Usecases/NYC-taxi-4d/NYC-taxi-4d.ipynb "
   ]
  },
  {
   "cell_type": "markdown",
   "metadata": {},
   "source": [
    "<p style = 'font-size:28px;font-family:Arial;color:#E37C4D'><b>4. Conclusion</b></p>\n",
    "<p style = 'font-size:16px;font-family:Arial'>\n",
    "In this demonstration we have seen Vantage can store common geometry datatypes like point, linestring etc in ST_GEOMETRY datatype and has inbuild functions which are fairly simple and easy to use. For more information on the geomrtry datatype and functions plesae refer to link below. "
   ]
  },
  {
   "cell_type": "markdown",
   "metadata": {},
   "source": [
    "<p style = 'font-size:20px;font-family:Arial;color:#E37C4D'><b>Reference Links:</b></p>\n",
    "<ul style = 'font-size:16px;font-family:Arial'>\n",
    "        <li>Teradata® Geospatial Utilities User Guide: <a href = 'https://docs.teradata.com/r/Teradata-Geospatial-Utilities-User-Guide/June-2022/Teradata-Geospatial-Utilities-Overview/Welcome-to-Teradata-Tools-and-Utilities-Teradata-Geospatial-Utilities-User-Guide'>https://docs.teradata.com/r/Teradata-Geospatial-Utilities-User-Guide/June-2022/Teradata-Geospatial-Utilities-Overview/Welcome-to-Teradata-Tools-and-Utilities-Teradata-Geospatial-Utilities-User-Guide</a></ul>"
   ]
  },
  {
   "cell_type": "markdown",
   "metadata": {},
   "source": [
    "<footer style=\"padding:10px;background:#f9f9f9;border-bottom:3px solid #394851\">©2023 Teradata. All Rights Reserved</footer>"
   ]
  }
 ],
 "metadata": {
  "kernelspec": {
   "display_name": "Python 3 (ipykernel)",
   "language": "python",
   "name": "python3"
  },
  "language_info": {
   "codemirror_mode": {
    "name": "ipython",
    "version": 3
   },
   "file_extension": ".py",
   "mimetype": "text/x-python",
   "name": "python",
   "nbconvert_exporter": "python",
   "pygments_lexer": "ipython3",
   "version": "3.9.10"
  }
 },
 "nbformat": 4,
 "nbformat_minor": 4
}
