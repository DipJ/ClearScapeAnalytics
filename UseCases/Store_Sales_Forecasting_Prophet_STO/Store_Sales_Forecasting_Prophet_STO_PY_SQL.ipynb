{
 "cells": [
  {
   "cell_type": "markdown",
   "metadata": {},
   "source": [
    "<header>\n",
    "   <p  style='font-size:36px;font-family:Arial; color:#F0F0F0; background-color: #00233c; padding-left: 20pt; padding-top: 20pt;padding-bottom: 10pt; padding-right: 20pt;'>\n",
    "       Store Sales Forecasting with Prophet using Script Table Operator\n",
    "  <br>\n",
    "       <img id=\"teradata-logo\" src=\"https://storage.googleapis.com/clearscape_analytics_demo_data/DEMO_Logo/teradata.svg\" alt=\"Teradata\" style=\"width: 125px; height: auto; margin-top: 20pt;\">\n",
    "    </p>\n",
    "</header>\n",
    "<p style = 'font-size:20px;font-family:Arial;color:#00233C'><b>Introduction</b></p>\n",
    "\n",
    "<p style = 'font-size:16px;font-family:Arial;color:#00233C'>Rossmann operates over 3,000 drug stores in 7 European countries. Currently, Rossmann store managers are tasked with predicting their daily sales for up to six weeks in advance. Store sales are influenced by many factors, including promotions, competition, school and state holidays, seasonality, and locality. With thousands of individual managers predicting sales based on their unique circumstances, the accuracy of results can be quite varied.<br>\n",
    "<br>  \n",
    "Our Main Objective is to predict sales of store in a week. We are using the python Prophet model and using the <b><u>S</u></b>cript <b><u>T</u></b>able <b><u>O</u></b>perator<b>(STO)</b> of Vantage for forecasting the Store Sales.\n",
    "<br>\n",
    " <img src=\"./images/STO.png\" width=\"800\" align=\"right\" style=\"padding: 40px\">    \n",
    "<p style = 'font-size:16px;font-family:Arial;color:#00233C'>STO allows you to leverage the parallelism of Vantage by installing external routines into each unit of parallelism. During the execution of the analysis, data is piped to and from those external routines in dozens, hundreds or thousands units of parallelism depending on the size of the production platform. This allows you the flexibility and power to extend the analytic power of Vantage with routines written in languages such as Python or R to process data in parallel without exporting to another platform.</p>\n",
    "<p style = 'font-size:16px;font-family:Arial;color:#00233C'>The SCRIPT function enables invoking the external language interpreters to execute your script files. It does so by running the interpreter in a shell environment invoked upon executing an STO query. Script execution takes place in protected mode, that is, outside the Advanced SQL Engine Database.\n",
    "Pipelines the database I/O to R or Python scripts executed via Linux command line through STO</p>\n",
    "\n",
    "<p style = 'font-size:16px;font-family:Arial;color:#00233C'><b>Processing steps</b>\n",
    "<li style = 'font-size:14px;font-family:Arial;color:#00233C'>User “installs” their script file on Vantage </li>\n",
    "    <li style = 'font-size:14px;font-family:Arial;color:#00233C'>User executes a SQL query with STO</li>\n",
    "<li style = 'font-size:14px;font-family:Arial;color:#00233C'>STO invokes R or Python, passing the installed script</li>\n",
    "<li style = 'font-size:14px;font-family:Arial;color:#00233C'>Script executes in a Linux “forked” child process</li>\n",
    "    <li style = 'font-size:14px;font-family:Arial;color:#00233C'>Script reads from STDIN and writes to STDOUT</li>\n",
    "    <li style = 'font-size:14px;font-family:Arial;color:#00233C'>Script runs on each unit of parallelism</li>\n",
    "<li style = 'font-size:14px;font-family:Arial;color:#00233C'>Each unit of parallelism returns its own results independently</li>\n",
    "</p>\n",
    "\n",
    "<p></p>    \n",
    "<br>  \n",
    "<p style = 'font-size:16px;font-family:Arial;color:#00233C'>Hence as a data science consultant, we are showcasing the complete approach about how we can make prediction of sales for different stores in advance. We are demonstrating how we can train our models and use them for scoring using the ClearScape Analytics platform. The data we are using is a sample dataset and the results and predictions may not be entirely accurate.\n",
    "</p>\n",
    "\n",
    "\n",
    "\n",
    "<p style = 'font-size:20px;font-family:Arial;color:#00233C'><b>Data</b></p>\n",
    "<p style = 'font-size:16px;font-family:Arial;color:#00233C'>The dataset contains historical sales data for 1,115 Rossmann stores. The task is to forecast the \"Sales\" column for the test set. Note that some stores in the dataset were temporarily closed for refurbishment.</p>\n",
    "\n",
    "<p style = 'font-size:16px;font-family:Arial;color:#00233C'>Most of the fields are self-explanatory. The following are descriptions for those that aren't.</p>\n",
    "\n",
    "<li style = 'font-size:16px;font-family:Arial;color:#00233C'>Store - a unique Id for each store</li>\n",
    "<li style = 'font-size:16px;font-family:Arial;color:#00233C'>Sales - the turnover for any given day (this is what you are predicting)</li>\n",
    "<li style = 'font-size:16px;font-family:Arial;color:#00233C'>Customers - the number of customers on a given day</li>\n",
    "<li style = 'font-size:16px;font-family:Arial;color:#00233C'>Open - an indicator for whether the store was open: 0 = closed, 1 = open</li>\n",
    "<li style = 'font-size:16px;font-family:Arial;color:#00233C'>StateHoliday - indicates a state holiday. Normally all stores, with few exceptions, are closed on state holidays. Note that all schools are closed on public holidays and weekends. a = public holiday, b = Easter holiday, c = Christmas, 0 = None</li>\n",
    "<li style = 'font-size:16px;font-family:Arial;color:#00233C'>SchoolHoliday - indicates if the (Store, Date) was affected by the closure of public schools</li>\n",
    "<li style = 'font-size:16px;font-family:Arial;color:#00233C'>StoreType - differentiates between 4 different store models: a, b, c, d</li>\n",
    "<li style = 'font-size:16px;font-family:Arial;color:#00233C'>Assortment - describes an assortment level: a = basic, b = extra, c = extended</li>\n",
    "<li style = 'font-size:16px;font-family:Arial;color:#00233C'>CompetitionDistance - distance in meters to the nearest competitor store</li>\n",
    "<li style = 'font-size:16px;font-family:Arial;color:#00233C'>CompetitionOpenSince[Month/Year] - gives the approximate year and month of the time the nearest competitor was opened</li>\n",
    "<li style = 'font-size:16px;font-family:Arial;color:#00233C'>Promo - indicates whether a store is running a promo on that day</li>\n",
    "<li style = 'font-size:16px;font-family:Arial;color:#00233C'>Promo2 - Promo2 is a continuing and consecutive promotion for some stores: 0 = store is not participating, 1 = store is participating</li>\n",
    "<li style = 'font-size:16px;font-family:Arial;color:#00233C'>Promo2Since[Year/Week] - describes the year and calendar week when the store started participating in Promo2</li>\n",
    "<li style = 'font-size:16px;font-family:Arial;color:#00233C'>PromoInterval - describes the consecutive intervals Promo2 is started, naming the months the promotion is started anew. E.g., \"Feb,May,Aug,Nov\" means each round starts in February, May, August, November of any given year for that store.</li>\n",
    "</p>"
   ]
  },
  {
   "cell_type": "markdown",
   "metadata": {},
   "source": [
    "<hr style=\"height:2px;border:none;background-color:#00233C;\">\n",
    "<p style = 'font-size:20px;font-family:Arial;color:#00233C'><b>1. Connect to Vantage.</b></p>"
   ]
  },
  {
   "cell_type": "markdown",
   "metadata": {},
   "source": [
    "<p style = 'font-size:16px;font-family:Arial;color:#00233C'>In the section, we import the required libraries and set environment variables and environment paths (if required).</p>"
   ]
  },
  {
   "cell_type": "code",
   "execution_count": null,
   "metadata": {},
   "outputs": [],
   "source": [
    "%%capture\n",
    "# !pip install prophet"
   ]
  },
  {
   "cell_type": "markdown",
   "metadata": {},
   "source": [
    "<div class=\"alert alert-block alert-info\">\n",
    "<p style = 'font-size:16px;font-family:Arial;color:#00233C'><b>Note: </b><i>The above statements may need to be uncommented if you run the notebooks on a platform other than ClearScape Analytics Experience that does not have the libraries installed. If you uncomment those installs, be sure to restart the kernel after executing those lines to bring the installed libraries into memory. The simplest way to restart the Kernel is by typing zero zero: <b> 0 0</b></i></p>\n",
    "</div>"
   ]
  },
  {
   "cell_type": "code",
   "execution_count": null,
   "metadata": {},
   "outputs": [],
   "source": [
    "import getpass\n",
    "import pandas as pd\n",
    "\n",
    "import numpy as np\n",
    "import seaborn as sns\n",
    "import matplotlib.pyplot as plt\n",
    "from time import time\n",
    "import os\n",
    "from prophet import Prophet\n",
    "import warnings\n",
    "import itertools\n",
    "\n",
    "import pickle\n",
    "import base64\n",
    "\n",
    "from teradataml import *\n",
    "import warnings\n",
    "warnings.filterwarnings(\"ignore\")\n",
    "warnings.simplefilter(action='ignore', category=FutureWarning)\n",
    "display.max_rows=5\n"
   ]
  },
  {
   "cell_type": "markdown",
   "metadata": {},
   "source": [
    "<p style = 'font-size:16px;font-family:Arial;color:#00233C'>You will be prompted to provide the password. Enter your password, press the Enter key, then use down arrow to go to next cell. Begin running steps with Shift + Enter keys.</p>"
   ]
  },
  {
   "cell_type": "code",
   "execution_count": null,
   "metadata": {},
   "outputs": [],
   "source": [
    "%run -i ../startup.ipynb\n",
    "eng = create_context(host = 'host.docker.internal', username='demo_user', password = password)\n",
    "print(eng)"
   ]
  },
  {
   "cell_type": "code",
   "execution_count": null,
   "metadata": {},
   "outputs": [],
   "source": [
    "%%capture\n",
    "execute_sql('''SET query_band='DEMO=Store_Sales_Forecasting_Prophet_STO_PY_SQL.ipynb;' UPDATE FOR SESSION; ''')"
   ]
  },
  {
   "cell_type": "markdown",
   "metadata": {},
   "source": [
    "<hr style=\"height:2px;border:none;background-color:#00233C;\">\n",
    "<p style = 'font-size:20px;font-family:Arial;color:#00233C'><b>2. Getting Data for This Demo </b></p>\n",
    "<p style = 'font-size:16px;font-family:Arial;color:#00233C'>We have provided data for this demo on cloud storage.  You have the option of either running the demo using foreign tables to access the data without using any storage on your environment or downloading the data to local storage which may yield somewhat faster execution, but there could be considerations of available storage.  There are two statements in the following cell, and one is commented out.  You may switch which mode you choose by changing the comment string. \n"
   ]
  },
  {
   "cell_type": "code",
   "execution_count": null,
   "metadata": {},
   "outputs": [],
   "source": [
    "# %run -i ../run_procedure.py \"call get_data('DEMO_ProphetSTO_cloud');\"\n",
    " # Takes about 25 seconds\n",
    "%run -i ../run_procedure.py \"call get_data('DEMO_ProphetSTO_local');\"\n",
    " # Takes about 70 seconds"
   ]
  },
  {
   "cell_type": "markdown",
   "metadata": {},
   "source": [
    "<p style = 'font-size:16px;font-family:Arial;color:#00233C'>Next is an optional step – if you want to see status of databases/tables created and space used.</p>"
   ]
  },
  {
   "cell_type": "code",
   "execution_count": null,
   "metadata": {
    "tags": []
   },
   "outputs": [],
   "source": [
    "%run -i ../run_procedure.py \"call space_report();\""
   ]
  },
  {
   "cell_type": "markdown",
   "metadata": {},
   "source": [
    "<hr style=\"height:2px;border:none;background-color:#00233C;\">\n",
    "<p style = 'font-size:20px;font-family:Arial;color:#00233C'><b>3. Prepare data to do some basic Analysis of the Sales data.</b></p>\n",
    "\n",
    "<p style = 'font-size:16px;font-family:Arial;color:#00233C'>We create dataframe for the Stores and the Sales Data using tables from Vantage. To gain insights into the data's characteristics, we display a sample of 5 rows each.</p>"
   ]
  },
  {
   "cell_type": "code",
   "execution_count": null,
   "metadata": {},
   "outputs": [],
   "source": [
    "store=DataFrame(in_schema('DEMO_ProphetSTO','Store'))\n",
    "store  "
   ]
  },
  {
   "cell_type": "markdown",
   "metadata": {},
   "source": [
    "<p style = 'font-size:16px;font-family:Arial;color:#00233C'>The Store dataset contains description of the Stores like, StoreType, distance from the Competition Store and also various Promotion codes and Details.</p>"
   ]
  },
  {
   "cell_type": "code",
   "execution_count": null,
   "metadata": {},
   "outputs": [],
   "source": [
    "sales=DataFrame(in_schema('DEMO_ProphetSTO','Sales_Data'))\n",
    "sales  "
   ]
  },
  {
   "cell_type": "markdown",
   "metadata": {},
   "source": [
    "<p style = 'font-size:16px;font-family:Arial;color:#00233C'>The Store Sales dataset contains the Store, DayofWeek, Date of Sales , Sales done, Customer involved, SalesOpen is a flag mentioning if the Store is Open or Closed and Promotion Code applied for the Sales.</p>"
   ]
  },
  {
   "cell_type": "markdown",
   "metadata": {},
   "source": [
    "<hr style=\"height:2px;border:none;background-color:#00233C;\">\n",
    "<p style = 'font-size:20px;font-family:Arial;color:#00233C'><b>4. Data Analysis and Transformation </b></p>\n",
    "<p style = 'font-size:18px;font-family:Arial'>In this first section we go through the Sales and store data, handle missing values and create new features for further analysis.</p>\n",
    "<p style = 'font-size:16px;font-family:Arial;color:#00233C'>We check the missing values for the CompetitionDistance column and replace it with the median values.</p>"
   ]
  },
  {
   "cell_type": "code",
   "execution_count": null,
   "metadata": {},
   "outputs": [],
   "source": [
    "from teradataml import SimpleImputeFit, SimpleImputeTransform\n",
    "fit_obj = SimpleImputeFit(data=store,\n",
    "                              stats_columns=\"CompetitionDistance\",\n",
    "                              stats=\"median\")"
   ]
  },
  {
   "cell_type": "code",
   "execution_count": null,
   "metadata": {},
   "outputs": [],
   "source": [
    "obj =  SimpleImputeTransform(data=store,\n",
    "                                 object=fit_obj.output)\n",
    " "
   ]
  },
  {
   "cell_type": "code",
   "execution_count": null,
   "metadata": {},
   "outputs": [],
   "source": [
    "store=obj.result\n",
    "store"
   ]
  },
  {
   "cell_type": "markdown",
   "metadata": {},
   "source": [
    "<p style = 'font-size:16px;font-family:Arial;color:#00233C'>We join the Store and Sales dataset to get the required columns for our analysis.</p>"
   ]
  },
  {
   "cell_type": "code",
   "execution_count": null,
   "metadata": {},
   "outputs": [],
   "source": [
    "sales_store = sales.merge(right = store, how = \"inner\", on = \"store=store\",lsuffix='l', rsuffix='r')\n",
    "sales_store=sales_store.assign(Store=sales_store.l_Store)\n",
    "sales_store=sales_store.drop(['l_Store', 'r_Store'], axis=1)\n",
    "sales_store"
   ]
  },
  {
   "cell_type": "code",
   "execution_count": null,
   "metadata": {},
   "outputs": [],
   "source": [
    "sales_store.shape"
   ]
  },
  {
   "cell_type": "markdown",
   "metadata": {},
   "source": [
    "<p style = 'font-size:16px;font-family:Arial;color:#00233C'>The final dataset used for analysis contains 18 columns and 91,256 rows.</p>\n",
    "<p style = 'font-size:16px;font-family:Arial;color:#00233C'>Based on the data available we do some transformations on the data and create various features. From the SalesDate we, generate columns like , Year, Month, DayOfWeek , WeekofYear etc. Using the columns related to Competition like CompetionOpenSinceYear and CompetitionOpenSinceMonth we calculate if the Competition Store is Open or not(CompetitionOpen). Similarly, we do the processing for Promotions and create a flag(PromoOpen)</p>"
   ]
  },
  {
   "cell_type": "code",
   "execution_count": null,
   "metadata": {},
   "outputs": [],
   "source": [
    "# loop for features creation\n",
    "def features_create(data):\n",
    "    \n",
    "    \n",
    "    mappings = {'0':0, 'a':1, 'b':2, 'c':3, 'd':4}\n",
    "    data.StoreType.replace(mappings, inplace=True)\n",
    "    data.Assortment.replace(mappings, inplace=True)\n",
    "    data.StateHoliday.replace(mappings, inplace=True)\n",
    "    \n",
    "    \n",
    "    data['Year'] = data.SalesDate.dt.year\n",
    "    data['Month'] = data.SalesDate.dt.month\n",
    "    data['Day'] = data.SalesDate.dt.day\n",
    "    data['DayOfWeek'] = data.SalesDate.dt.dayofweek\n",
    "    # data['WeekOfYear'] = data.Date.dt.weekofyear\n",
    "    data['WeekOfYear'] = data['SalesDate'].dt.isocalendar().week\n",
    "    \n",
    "    \n",
    "    \n",
    "    data['CompetitionOpen'] = 12 * (data.Year - data.CompetitionOpenSinceYear) +         (data.Month - data.CompetitionOpenSinceMonth)\n",
    "    data['PromoOpen'] = 12 * (data.Year - data.Promo2SinceYear) +         (data.WeekOfYear - data.Promo2SinceWeek) / 4.0\n",
    "    data['CompetitionOpen'] = data.CompetitionOpen.apply(lambda x: x if x > 0 else 0)        \n",
    "    data['PromoOpen'] = data.PromoOpen.apply(lambda x: x if x > 0 else 0)\n",
    "    \n",
    "    \n",
    "  \n",
    "    month2str = {1:'Jan', 2:'Feb', 3:'Mar', 4:'Apr', 5:'May', 6:'Jun', 7:'Jul', 8:'Aug', 9:'Sept', 10:'Oct', 11:'Nov', 12:'Dec'}\n",
    "    data['monthStr'] = data.Month.map(month2str)\n",
    "    data.loc[data.PromoInterval == 0, 'PromoInterval'] = ''\n",
    "    data['IsPromoMonth'] = 0\n",
    "    for interval in data.PromoInterval.unique():\n",
    "        if interval != 'None':\n",
    "            for month in interval.split(','):\n",
    "                data.loc[(data.monthStr == month) & (data.PromoInterval == interval), 'IsPromoMonth'] = 1\n",
    "\n",
    "    return data"
   ]
  },
  {
   "cell_type": "code",
   "execution_count": null,
   "metadata": {},
   "outputs": [],
   "source": [
    "pd_sales_store= sales_store.to_pandas(all_rows=True)\n",
    "pd_sales_store[\"SalesDate\"] = pd_sales_store[\"SalesDate\"].astype('datetime64[ns]')\n",
    "pd_sales_store[\"PromoInterval\"] = pd_sales_store[\"PromoInterval\"].astype('str')\n",
    "pd_sales_store[\"StateHoliday\"] = pd_sales_store[\"StateHoliday\"].astype('str')\n",
    "pd_sales_store[\"StoreType\"] = pd_sales_store[\"StoreType\"].astype('str')\n",
    "pd_sales_store[\"Assortment\"] = pd_sales_store[\"Assortment\"].astype('str')"
   ]
  },
  {
   "cell_type": "code",
   "execution_count": null,
   "metadata": {},
   "outputs": [],
   "source": [
    "pd_sales_store['CompetitionOpenSinceYear'] = pd_sales_store['CompetitionOpenSinceYear'].replace('None', 0)\n",
    "pd_sales_store['CompetitionOpenSinceMonth'] = pd_sales_store['CompetitionOpenSinceMonth'].replace('None', 0)\n",
    "pd_sales_store['Promo2SinceYear'] = pd_sales_store['Promo2SinceYear'].replace('None', 0)\n",
    "pd_sales_store['Promo2SinceWeek'] = pd_sales_store['Promo2SinceWeek'].replace('None', 0)"
   ]
  },
  {
   "cell_type": "code",
   "execution_count": null,
   "metadata": {},
   "outputs": [],
   "source": [
    "pd_sales_store['CompetitionOpenSinceYear'] = pd_sales_store['CompetitionOpenSinceYear'].replace(np.nan, 0)\n",
    "pd_sales_store['CompetitionOpenSinceMonth'] = pd_sales_store['CompetitionOpenSinceMonth'].replace(np.nan, 0)\n",
    "pd_sales_store['Promo2SinceYear'] = pd_sales_store['Promo2SinceYear'].replace(np.nan, 0)\n",
    "pd_sales_store['Promo2SinceWeek'] = pd_sales_store['Promo2SinceWeek'].replace(np.nan, 0)"
   ]
  },
  {
   "cell_type": "code",
   "execution_count": null,
   "metadata": {},
   "outputs": [],
   "source": [
    "pd_sales_store.head(5)"
   ]
  },
  {
   "cell_type": "code",
   "execution_count": null,
   "metadata": {},
   "outputs": [],
   "source": [
    "features_pd=features_create(pd_sales_store)\n",
    "features_pd.head(5)"
   ]
  },
  {
   "cell_type": "code",
   "execution_count": null,
   "metadata": {},
   "outputs": [],
   "source": [
    "sns.barplot(x = 'Month', y = 'Sales', data = features_pd)\n",
    "plt.show()"
   ]
  },
  {
   "cell_type": "markdown",
   "metadata": {},
   "source": [
    "<p style = 'font-size:16px;font-family:Arial;color:#00233C'>The above graph shows the total sales across months for all stores. We can see that the sales are highest in December which is the Holiday Season.</p>\n",
    "<p style = 'font-size:16px;font-family:Arial;color:#00233C'>Now we will see the same metrics across different Store types and also based on whether there was any Promotion available(Promo=1) or not (Promo=0)"
   ]
  },
  {
   "cell_type": "code",
   "execution_count": null,
   "metadata": {},
   "outputs": [],
   "source": [
    "#Catplot month Vs Sales\n",
    "sns.catplot(data = features_pd, x = 'Month', y = \"Sales\", \n",
    "               col = 'StoreType', # per store type in cols\n",
    "               palette = 'plasma',\n",
    "               # hue = 'StoreType',\n",
    "               row = 'Promo' # per promo in the store in rows\n",
    "               # color ='Year'\n",
    "           ) "
   ]
  },
  {
   "cell_type": "markdown",
   "metadata": {},
   "source": [
    "<p style = 'font-size:16px;font-family:Arial;color:#00233C'>The above graph shows the Sales per Month for each of the 4 StoreTypes(a,b,c,d) for all the 1,115 Stores. The Top row shows the sales for Promo=0 and the bottom row is for Promo=1. Each dot represents the sum of sales for a particular store in a month depending on the Store Type and Promo Code. We can see that there are peaks mainly during the Year end period.</p>\n",
    "<p style = 'font-size:16px;font-family:Arial;color:#00233C'>All store types follow the same trend but at different scales depending on the presence of the promotion `Promo` and `StoreType` except for the StoreType = b.\n",
    "</p>\n"
   ]
  },
  {
   "cell_type": "markdown",
   "metadata": {},
   "source": [
    "\n",
    "<p style = 'font-size:16px;font-family:Arial;color:#00233C'>Next we try to get four stores from store types to represent their group:</p>\n",
    "<li style = 'font-size:16px;font-family:Arial;color:#00233C'> Store number 2 for `StoreType` A</li>\n",
    "<li style = 'font-size:16px;font-family:Arial;color:#00233C'>Store number 85 for `StoreType` B</li>\n",
    "<li style = 'font-size:16px;font-family:Arial;color:#00233C'>Store number 1 for `StoreType` C</li> \n",
    "<li style = 'font-size:16px;font-family:Arial;color:#00233C'>Store number 15 for `StoreType` D</li>\n",
    "\n",
    "<p style = 'font-size:16px;font-family:Arial;color:#00233C'>It also makes sense to down sample the data from days to weeks using the `resample` method to see the present trends more clearly.</p>"
   ]
  },
  {
   "cell_type": "code",
   "execution_count": null,
   "metadata": {},
   "outputs": [],
   "source": [
    "# Sorting with 'date'\n",
    "train_df = pd_sales_store.set_index('SalesDate')\n",
    "# Sales datacheck\n",
    "train_df['Sales'] = train_df['Sales'] * 1.0\n",
    "# storewise sales data\n",
    "sales_a = train_df[train_df.Store == 2]['Sales']\n",
    "sales_b = train_df[train_df.Store == 85]['Sales']\n",
    "# .sort_index(ascending = True) # solve the reverse order\n",
    "sales_c = train_df[train_df.Store == 1]['Sales']\n",
    "sales_d = train_df[train_df.Store == 15]['Sales']"
   ]
  },
  {
   "cell_type": "code",
   "execution_count": null,
   "metadata": {},
   "outputs": [],
   "source": [
    "f, (ax1, ax2, ax3, ax4) = plt.subplots(4, figsize = (12, 13))\n",
    "\n",
    "# store types\n",
    "sales_a.resample('W').mean().plot(ax = ax1)\n",
    "sales_b.resample('W').sum().plot(ax = ax2)\n",
    "sales_c.resample('W').sum().plot(ax = ax3)\n",
    "sales_d.resample('W').sum().plot(ax = ax4)"
   ]
  },
  {
   "cell_type": "markdown",
   "metadata": {},
   "source": [
    "<p style = 'font-size:16px;font-family:Arial;color:#00233C'>Retail sales for all store types tend to peak for the Christmas season and then decline after the holidays.</p>"
   ]
  },
  {
   "cell_type": "markdown",
   "metadata": {},
   "source": [
    "<p style = 'font-size:16px;font-family:Arial;color:#00233C'>Next we check the Yearly trend for these Store Types thing to check the presence of a trend in series. Time series decomposition is the process of separating time series data into its core components. These components include a potential trend (overall rise or fall in the mean), seasonality (a recurring cycle), and the remaining random residual. Python’s statsmodels library has a method for time series decomposition called seasonal_decompose(). The model type parameter can either be additive or multiplicative, here we consider additive as If the seasonality’s amplitude is independent of the level then you should use the additive model. The \"period\" parameter is the number of observations in a seasonal cycle. For example, if you have daily observations, the period is 1. </p>"
   ]
  },
  {
   "cell_type": "code",
   "execution_count": null,
   "metadata": {},
   "outputs": [],
   "source": [
    "# Seasonal decompose\n",
    "from statsmodels.tsa.seasonal import seasonal_decompose\n",
    "\n",
    "f, (ax1, ax2, ax3, ax4) = plt.subplots(4, figsize = (15, 15))\n",
    "\n",
    "# monthly\n",
    "decomposition_a = seasonal_decompose(sales_a, model = 'additive', extrapolate_trend='freq', period=1)\n",
    "decomposition_a.trend.plot(ax = ax1)\n",
    "\n",
    "decomposition_b = seasonal_decompose(sales_b, model = 'additive', extrapolate_trend='freq', period=1)\n",
    "decomposition_b.trend.plot( ax = ax2)\n",
    "\n",
    "decomposition_c = seasonal_decompose(sales_c, model = 'additive', extrapolate_trend='freq', period=1)\n",
    "decomposition_c.trend.plot( ax = ax3)\n",
    "\n",
    "decomposition_d = seasonal_decompose(sales_d, model = 'additive', extrapolate_trend='freq', period=1)\n",
    "decomposition_d.trend.plot( ax = ax4)"
   ]
  },
  {
   "cell_type": "markdown",
   "metadata": {},
   "source": [
    "<p style = 'font-size:16px;font-family:Arial;color:#00233C'>Overall sales follow similar Trend for all StoreTypes as seen above. There are spikes around the year end which indicate higher sales over the year end holiday season.</p>"
   ]
  },
  {
   "cell_type": "markdown",
   "metadata": {},
   "source": [
    "<hr style=\"height:2px;border:none;background-color:#00233C;\">\n",
    "<p style = 'font-size:20px;font-family:Arial;color:#00233C'><b>5. Creating the model and forecasting using Prophet in python (stoSalesForecastnew.py).</b></p>"
   ]
  },
  {
   "cell_type": "markdown",
   "metadata": {},
   "source": [
    "<p style = 'font-size:16px;font-family:Arial;color:#00233C'>Prophet is a procedure for forecasting time series data based on an additive model where non-linear trends are fit with yearly, weekly, and daily seasonality, plus holiday effects. It works best with time series that have strong seasonal effects and several seasons of historical data. Prophet is robust to missing data and shifts in the trend, and typically handles outliers well.</p>\n",
    "<p style = 'font-size:16px;font-family:Arial;color:#00233C'>Prophet follows the sklearn model API. We create an instance of the Prophet class and then call its fit and predict methods.</p>\n"
   ]
  },
  {
   "cell_type": "markdown",
   "metadata": {},
   "source": [
    "<p style = 'font-size:16px;font-family:Arial;color:#00233C'>All the below steps which include the Prophet model are executed in the python in the file <a href=\"./stoSalesForecastnew.py\">stoSalesForecastnew.py</a> file. We then use this py file in the Script command and get the forecasted values.</p>\n",
    "<p style = 'font-size:16px;font-family:Arial;color:#00233C'>The input to Prophet is always a dataframe with two columns: ds and y. The ds (datestamp) column should be of a format expected by Pandas, ideally YYYY-MM-DD for a date or YYYY-MM-DD HH:MM:SS for a timestamp. The y column must be numeric and represents the measurement we wish to forecast.</p>\n",
    "\n",
    "<p style = 'font-size:16px;font-family:Arial;color:#00233C'>The below code shows the creation of the Sales DataFrame and the holidays Dataframe which are used in the model creation and model fit.</p>"
   ]
  },
  {
   "cell_type": "markdown",
   "metadata": {},
   "source": [
    "<p style = 'font-size:16px;font-family:Arial;color:#00233C'><b>Create Sales data dataframe using data from Vantage</b></p>\n",
    "\n",
    "```python \n",
    "# create Sales data \n",
    "sales = pd_sales_store.rename(columns = {'SalesDate': 'ds','Sales': 'y'})\n",
    "```  "
   ]
  },
  {
   "cell_type": "markdown",
   "metadata": {},
   "source": [
    "<p style = 'font-size:16px;font-family:Arial;color:#00233C'><b>Create holidays dataframe</b></p>\n",
    "\n",
    "```python\n",
    "#create holidays dataframe\n",
    "     \n",
    "\n",
    "school_dates = df[df.SchoolHoliday == 1].loc[:, 'Date'].values\n",
    "\n",
    "school = pd.DataFrame({'holiday': 'school_holiday',\n",
    "                      'ds': pd.to_datetime(school_dates)})\n",
    "\n",
    "holidays = school      \n",
    "```"
   ]
  },
  {
   "cell_type": "markdown",
   "metadata": {},
   "source": [
    "<p style = 'font-size:16px;font-family:Arial;color:#00233C'>We fit the model by instantiating a new Prophet object. Any settings to the forecasting procedure are passed into the constructor. Then you call its fit method and pass in the historical dataframe(sales).</p>"
   ]
  },
  {
   "cell_type": "markdown",
   "metadata": {},
   "source": [
    "<p style = 'font-size:16px;font-family:Arial;color:#00233C'><b>Instantiate and fit model using Prophet</b></p>\n",
    "\n",
    "```python\n",
    "\n",
    "# Prophet implementation \n",
    "my_model = Prophet(interval_width = 0.95, \n",
    "                   holidays = holidays.head(50000))\n",
    "my_model.fit(sales)                   \n",
    "```"
   ]
  },
  {
   "cell_type": "markdown",
   "metadata": {},
   "source": [
    "<p style = 'font-size:16px;font-family:Arial;color:#00233C'>Predictions are then made on a dataframe with a column ds containing the dates for which a prediction is to be made. You can get a suitable dataframe that extends into the future a specified number of days using the helper method Prophet.make_future_dataframe. By default, it will also include the dates from the history, so we will see the model fit as well.<p>"
   ]
  },
  {
   "cell_type": "markdown",
   "metadata": {},
   "source": [
    "<p style = 'font-size:16px;font-family:Arial;color:#00233C'><b>Create future dates for forecasting</b></p>\n",
    "\n",
    "```python\n",
    "dt = min(sales['ds'].values)\n",
    "date1 = datetime.datetime.strptime(dt, \"%y/%m/%d\").date()\n",
    "\n",
    "\n",
    "\n",
    "#  # Subtract one month\n",
    "start_date = date1 - relativedelta(months=1)\n",
    "\n",
    "# Get man date and then get future dates for 1 month\n",
    "dt1 = max(sales['ds'].values)\n",
    "date2 = datetime.datetime.strptime(dt1, \"%y/%m/%d\").date()\n",
    "# date2 = datetime.datetime.strptime(datetime_str, \"%Y/%m/%dT%H:%M:%S.%f\").date()\n",
    "end_date = date2 + relativedelta(months=1)\n",
    "# end_date= str(end_value)\n",
    "\n",
    "\n",
    "# # date_range = pd.date_range(start_date, periods=num_days)\n",
    "date_range = pd.date_range(str(start_date), str(end_date))\n",
    "\n",
    "future_dates = pd.DataFrame({'ds': date_range})               \n",
    "```"
   ]
  },
  {
   "cell_type": "markdown",
   "metadata": {},
   "source": [
    "<p style = 'font-size:16px;font-family:Arial;color:#00233C'>The predict method will assign each row in future a predicted value which it names yhat. If you pass in historical dates, it will provide an in-sample fit. The forecast object here is a new dataframe that includes the \"yhat\" column, which is the forecast values for sales, as well as columns for components and uncertainty intervals.<p>"
   ]
  },
  {
   "cell_type": "markdown",
   "metadata": {},
   "source": [
    "<p style = 'font-size:16px;font-family:Arial;color:#00233C'><b>Create dataframe with forecast values</b></p>\n",
    "\n",
    "```python\n",
    "# forecast\n",
    "forecast = my_model.predict(future_dates.head(10000))               \n",
    "```"
   ]
  },
  {
   "cell_type": "markdown",
   "metadata": {},
   "source": [
    "<p style = 'font-size:16px;font-family:Arial;color:#00233C'>The forecasted values will be sent back to Vantage using the Returns clause of the Script function as seen in the section below.<p>"
   ]
  },
  {
   "cell_type": "markdown",
   "metadata": {},
   "source": [
    "<hr style=\"height:2px;border:none;background-color:#00233C;\">\n",
    "<p style = 'font-size:20px;font-family:Arial;color:#00233C'><b>6. Using Script Command to get the forecasted values back to Vantage.</b></p>"
   ]
  },
  {
   "cell_type": "markdown",
   "metadata": {},
   "source": [
    "<p style = 'font-size:16px;font-family:Arial;color:#00233C'>The SCRIPT COMMAND requires the below elements \n",
    "<li style = 'font-size:16px;font-family:Arial'><b>ON clause: </b> The SCRIPT function can have only one ON clause (single input). The ON clause can be specified with no options or with: HASH BY, PARTITION BY, PARTITION BY ANY, an optional ORDER BY or LOCAL ORDER BY clause</li>\n",
    "<li style = 'font-size:16px;font-family:Arial'><b>SCRIPT_COMMAND: </b>\n",
    "The script to be executed. The SCRIPT_COMMAND is a required keyword.\n",
    "    <li style = 'font-size:16px;font-family:Arial'><b>runtime_literal_command: </b>The parameters to SCRIPT_COMMAND can be an executable name followed by the script name and other inputs, or any valid LINUX command.</li>\n",
    "<li style = 'font-size:16px;font-family:Arial'><b>RETURNS: </b>\n",
    "    The names and types of the output columns returned by the script. <b>* </b>Specifies that all columns of the input table should be returned by the SCRIPT function.</li>\n",
    "    \n",
    "<p style = 'font-size:16px;font-family:Arial;color:#00233C'>First we will create a dataset which can be passed to the Script function.</p>    "
   ]
  },
  {
   "cell_type": "code",
   "execution_count": null,
   "metadata": {},
   "outputs": [],
   "source": [
    "qry='''CREATE SET TABLE Store_Sales_ID \n",
    "     (\n",
    "      SlsID INTEGER,\n",
    "      Store INTEGER,\n",
    "      DayOfWeek INTEGER,\n",
    "      SalesDate DATE FORMAT 'yyyy/mm/dd',\n",
    "      Sales INTEGER,\n",
    "      Customers INTEGER,\n",
    "      SalesOpen INTEGER,\n",
    "      Promo INTEGER,\n",
    "      StateHoliday CHAR(1) CHARACTER SET LATIN NOT CASESPECIFIC,\n",
    "      SchoolHoliday INTEGER)\n",
    "      PRIMARY INDEX ( SlsID ); '''\n",
    "qry1='''insert into DEMO_USER.Store_Sales_ID select 1,  Store ,\n",
    "      DayOfWeek ,\n",
    "      SalesDate ,\n",
    "      Sales ,\n",
    "      Customers ,\n",
    "      SalesOpen ,\n",
    "      Promo ,\n",
    "      StateHoliday,\n",
    "      SchoolHoliday  from DEMO_prophetSTO.Sales_Data where Store <= 5;'''\n",
    "try:\n",
    "    execute_sql(qry)\n",
    "    execute_sql(qry1) \n",
    "except:\n",
    "    db_drop_table('Store_Sales_ID')\n",
    "    execute_sql(qry)\n",
    "    execute_sql(qry1) "
   ]
  },
  {
   "cell_type": "markdown",
   "metadata": {},
   "source": [
    "<p style = 'font-size:16px;font-family:Arial;color:#00233C'>First we set the Database for execution to the user database: demo_user in this case</p>"
   ]
  },
  {
   "cell_type": "code",
   "execution_count": null,
   "metadata": {
    "tags": []
   },
   "outputs": [],
   "source": [
    "execute_sql(\"DATABASE demo_user;\")"
   ]
  },
  {
   "cell_type": "markdown",
   "metadata": {},
   "source": [
    "<p style = 'font-size:16px;font-family:Arial;color:#00233C'>Set the search path to the database where the file is installed</p>"
   ]
  },
  {
   "cell_type": "code",
   "execution_count": null,
   "metadata": {},
   "outputs": [],
   "source": [
    "execute_sql(\"SET SESSION SEARCHUIFDBPATH = demo_user;\")"
   ]
  },
  {
   "cell_type": "markdown",
   "metadata": {},
   "source": [
    "<p style = 'font-size:16px;font-family:Arial;color:#00233C'>Install the user script file on Vantage. In case of rerun if the file already exists we first remove it and then install again.</p>"
   ]
  },
  {
   "cell_type": "code",
   "execution_count": null,
   "metadata": {
    "tags": []
   },
   "outputs": [],
   "source": [
    "try:\n",
    "    execute_sql(\"call SYSUIF.INSTALL_FILE('stoSalesForecastnew', 'stoSalesForecastnew.py', 'cz!./stoSalesForecastnew.py');\")\n",
    "except:    \n",
    "    execute_sql(\"call SYSUIF.REMOVE_FILE('stoSalesForecastnew', 1);\")\n",
    "    execute_sql(\"call SYSUIF.INSTALL_FILE('stoSalesForecastnew', 'stoSalesForecastnew.py', 'cz!./stoSalesForecastnew.py');\")"
   ]
  },
  {
   "cell_type": "markdown",
   "metadata": {},
   "source": [
    "<p style = 'font-size:16px;font-family:Arial;color:#00233C'>Execute the script in SQL using SCRIPT command with the following SQL code:</p>\n",
    "<p style = 'font-size:16px;font-family:Arial;color:#00233C'>Since the entire process of model training , fitting and scoring takes place in the .py file when used in the script command the below query make take some time approximately 50-60 seconds.</p>"
   ]
  },
  {
   "cell_type": "code",
   "execution_count": null,
   "metadata": {},
   "outputs": [],
   "source": [
    "qry= '''create multiset table STO_OUTPUT as ( SELECT * \n",
    "        FROM SCRIPT (ON (SELECT * FROM DEMO_USER.Store_Sales_ID )\n",
    "        SCRIPT_COMMAND('/opt/teradata/languages/Python/bin/python3 ./demo_user/stoSalesForecastnew.py') \n",
    "        RETURNS ('ds timestamp(0), yhat FLOAT, yhat_lower FLOAT, yhat_upper FLOAT , trend FLOAT, weekly FLOAT, yearly FLOAT')) AS d) with data;'''\n",
    "\n",
    "try:\n",
    "    execute_sql(qry);\n",
    "except:\n",
    "    db_drop_table('STO_OUTPUT');\n",
    "    execute_sql(qry);\n",
    "# DEMO_ProphetSTO.Sales_Data\n",
    "# ds timestamp(0), yhat FLOAT, yhat_lower FLOAT, yhat_upper FLOAT , trend FLOAT, weekly FLOAT, yearly FLOAT"
   ]
  },
  {
   "cell_type": "code",
   "execution_count": null,
   "metadata": {},
   "outputs": [],
   "source": [
    "STO_out = DataFrame('STO_OUTPUT')\n",
    "STO_out"
   ]
  },
  {
   "cell_type": "code",
   "execution_count": null,
   "metadata": {},
   "outputs": [],
   "source": [
    "STO_out.shape"
   ]
  },
  {
   "cell_type": "markdown",
   "metadata": {},
   "source": [
    "<p style = 'font-size:16px;font-family:Arial;color:#00233C'>The output contains 1004 rows(1 for each date) and 7 columns.\n",
    "<p style = 'font-size:16px;font-family:Arial;color:#00233C'>The forecasting output contains information for:\n",
    "</p>\n",
    "<li style = 'font-size:16px;font-family:Arial'>The forecasted value (yhat)</li>\n",
    "<li style = 'font-size:16px;font-family:Arial'>Range for the forecasted values (yhat_lower and yhat_upper)</li>\n",
    "<li style = 'font-size:16px;font-family:Arial'>The overall trend for a given date (also incorporates seasonality)</li>\n",
    "<li style = 'font-size:16px;font-family:Arial'>Additive terms to adjust the trend to get the forecasted value</li>"
   ]
  },
  {
   "cell_type": "markdown",
   "metadata": {},
   "source": [
    "<p style = 'font-size:16px;font-family:Arial;color:#00233C'>To plot the forecast Values we select only the required columns and convert the teradataml dataframe to pandas dataframe.</p>"
   ]
  },
  {
   "cell_type": "code",
   "execution_count": null,
   "metadata": {},
   "outputs": [],
   "source": [
    "plot_output = STO_out.to_pandas(all_rows=True).reset_index()\n",
    "plot_output[\"ds\"] = pd.to_datetime(plot_output['ds']).dt.date"
   ]
  },
  {
   "cell_type": "code",
   "execution_count": null,
   "metadata": {},
   "outputs": [],
   "source": [
    "plot_output_forecast = plot_output[['ds','yhat','yhat_lower','yhat_upper']].sort_values('ds', ascending=True)\n",
    "# .tail(300)\n",
    "plot_output_forecast = plot_output_forecast.reset_index()\n",
    "plot_output_forecast.head(5)"
   ]
  },
  {
   "cell_type": "markdown",
   "metadata": {},
   "source": [
    "<p style = 'font-size:16px;font-family:Arial;color:#00233C'>To plot the forecast Values and the confidence level we set the lower and upper bounds of the confidence interval to yhat_lower and yhat_upper.</p>"
   ]
  },
  {
   "cell_type": "code",
   "execution_count": null,
   "metadata": {},
   "outputs": [],
   "source": [
    "import matplotlib.pyplot as plt\n",
    "\n",
    "\n",
    "\n",
    "# Create the data for the line graph, including the x-values and the corresponding upper and lower bounds\n",
    "x_values = plot_output_forecast['ds'].values\n",
    "y_values = plot_output_forecast['yhat'].values\n",
    "lower_bounds = plot_output_forecast['yhat_lower'].values\n",
    "upper_bounds = plot_output_forecast['yhat_upper'].values\n",
    "\n",
    " \n",
    "plt.figure(figsize=(12, 8))\n",
    "# Plot the line graph\n",
    "plt.plot(x_values, y_values, color='black', label='Forecast Values')\n",
    "plt.fill_between(x_values, lower_bounds, upper_bounds, color='lightblue', alpha=0.3, label='Confidence Interval')\n",
    "\n",
    " \n",
    "\n",
    "# Customize the plot\n",
    "\n",
    "plt.xlabel('Date')\n",
    "plt.ylabel('Forecast Values')\n",
    "plt.title('Forecast Sales Values with Confidence Interval')\n",
    "plt.legend()\n",
    "\n",
    " \n",
    "\n",
    "# Show the plot\n",
    "plt.show()"
   ]
  },
  {
   "cell_type": "markdown",
   "metadata": {},
   "source": [
    "<p style = 'font-size:16px;font-family:Arial;color:#00233C'>The above graph contains the Forecast values(black line) and the light blue area is the range of the lower(yhat_lower) and upper(yhat_upper) limits of the forecasted values.</p>\n",
    "\n",
    "<p style = 'font-size:16px;font-family:Arial;color:#00233C'>Below we will check the general trend , the Weekly trend and the yearly trend of the forecasted values</p>"
   ]
  },
  {
   "cell_type": "code",
   "execution_count": null,
   "metadata": {},
   "outputs": [],
   "source": [
    "plot_trend = plot_output[['ds','trend','weekly','yearly']].sort_values('ds', ascending=True)"
   ]
  },
  {
   "cell_type": "code",
   "execution_count": null,
   "metadata": {},
   "outputs": [],
   "source": [
    "import matplotlib.pyplot as plt\n",
    "\n",
    "# Create subplots\n",
    "# Create subplots\n",
    "fig, axes = plt.subplots(nrows=3, ncols=1, figsize=(12, 10))\n",
    "\n",
    "ds = np.array(plot_trend['ds'])\n",
    "day_week= np.array(pd.to_datetime(plot_trend['ds']).dt.dayofweek)\n",
    "trend = np.array(plot_trend['trend'])\n",
    "# Plot 'trend' column\n",
    "axes[0].plot(ds,trend)\n",
    "axes[0].set_xlabel('Date')\n",
    "axes[0].set_ylabel('trend')\n",
    "\n",
    "# Plot 'weekly' column\n",
    "weekly = np.array(plot_trend['weekly'])\n",
    "axes[1].scatter(day_week, weekly)\n",
    "axes[1].set_xlabel('Day of Week')\n",
    "axes[1].set_ylabel('weekly')\n",
    "\n",
    "# Plot 'yearly' column\n",
    "yearly = np.array(plot_trend['yearly'])\n",
    "axes[2].plot(ds, yearly)\n",
    "axes[2].set_xlabel('Date')\n",
    "axes[2].set_ylabel('yearly')\n",
    "\n",
    "# Adjust layout and spacing\n",
    "plt.tight_layout()\n",
    "\n",
    "# Display the plot\n",
    "plt.show()\n"
   ]
  },
  {
   "cell_type": "markdown",
   "metadata": {},
   "source": [
    "<li style = 'font-size:16px;font-family:Arial'>The first plot illustrates a gradual decline in sales over time. Although the decrease may not seem significant on the graph, it is worth noting that the sales range from a minimum of 4723 to a maximum of 4729.</li>\n",
    "<li style = 'font-size:16px;font-family:Arial'>The second plot highlights the volume of sales on a particular Day of the week.</li>\n",
    "<li style = 'font-size:16px;font-family:Arial'>The third plot highlights distinct peaks in sales activity during the winter holidays and summer holidays. These periods are the busiest seasons, indicating an increase in sales volume during those times.</li>"
   ]
  },
  {
   "cell_type": "markdown",
   "metadata": {},
   "source": [
    "<hr style=\"height:2px;border:none;background-color:#00233C;\">\n",
    "<p style = 'font-size:20px;font-family:Arial;color:#00233C'><b>7. Conclusion:</b></p>\n",
    "<p style = 'font-size:16px;font-family:Arial;color:#00233C'>We have trained and validated the Prophet model using the python script and used the Script Table Operator(STO) using data from Vantage. We get the forecasted data in Vantage using the python script.</p>"
   ]
  },
  {
   "cell_type": "markdown",
   "metadata": {},
   "source": [
    "<hr style=\"height:2px;border:none;background-color:#00233C;\">\n",
    "<p style = 'font-size:20px;font-family:Arial;color:#00233C'><b>8. Cleanup</b></p>\n",
    "<p style = 'font-size:18px;font-family:Arial;color:#00233C'><b>Work Tables</b></p>"
   ]
  },
  {
   "cell_type": "code",
   "execution_count": null,
   "metadata": {},
   "outputs": [],
   "source": [
    "db_drop_table(table_name='Store_Sales_ID')"
   ]
  },
  {
   "cell_type": "markdown",
   "metadata": {},
   "source": [
    "<p style = 'font-size:18px;font-family:Arial;color:#00233C'><b>Databases and Tables</b></p>\n",
    "<p style = 'font-size:16px;font-family:Arial;color:#00233C'>The following code will clean up tables and databases created above.</p>"
   ]
  },
  {
   "cell_type": "code",
   "execution_count": null,
   "metadata": {},
   "outputs": [],
   "source": [
    "%run -i ../run_procedure.py \"call remove_data('DEMO_ProphetSTO');\" \n",
    "#Takes 20 seconds"
   ]
  },
  {
   "cell_type": "code",
   "execution_count": null,
   "metadata": {},
   "outputs": [],
   "source": [
    "remove_context()"
   ]
  },
  {
   "cell_type": "markdown",
   "metadata": {},
   "source": [
    "<footer style=\"padding-bottom:35px; background:#f9f9f9; border-bottom:3px solid #00233C\">\n",
    "    <div style=\"float:left;margin-top:14px\">ClearScape Analytics™</div>\n",
    "    <div style=\"float:right;\">\n",
    "        <div style=\"float:left; margin-top:14px\">\n",
    "            Copyright © Teradata Corporation - 2023. All Rights Reserved\n",
    "        </div>\n",
    "    </div>\n",
    "</footer>"
   ]
  }
 ],
 "metadata": {
  "kernelspec": {
   "display_name": "Python 3 (ipykernel)",
   "language": "python",
   "name": "python3"
  },
  "language_info": {
   "codemirror_mode": {
    "name": "ipython",
    "version": 3
   },
   "file_extension": ".py",
   "mimetype": "text/x-python",
   "name": "python",
   "nbconvert_exporter": "python",
   "pygments_lexer": "ipython3",
   "version": "3.9.10"
  }
 },
 "nbformat": 4,
 "nbformat_minor": 4
}
