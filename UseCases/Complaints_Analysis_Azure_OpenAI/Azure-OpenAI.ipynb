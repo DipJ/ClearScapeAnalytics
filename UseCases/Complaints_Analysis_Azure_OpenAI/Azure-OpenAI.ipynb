{
 "cells": [
  {
   "cell_type": "markdown",
   "id": "504d8fda-bd2e-40aa-bb95-5542add2b084",
   "metadata": {},
   "source": [
    "<header>\n",
    "   <p  style='font-size:36px;font-family:Arial; color:#F0F0F0; background-color: #00233c; padding-left: 20pt; padding-top: 20pt;padding-bottom: 10pt; padding-right: 20pt;'>\n",
    "       Getting Started with Azure OpenAI\n",
    "  <br>\n",
    "       <img id=\"teradata-logo\" src=\"https://storage.googleapis.com/clearscape_analytics_demo_data/DEMO_Logo/teradata.svg\" alt=\"Teradata\" style=\"width: 125px; height: auto; margin-top: 20pt;\">\n",
    "    </p>\n",
    "</header>"
   ]
  },
  {
   "cell_type": "markdown",
   "id": "7e6b521e-c213-4e20-b01f-d662661bbecc",
   "metadata": {},
   "source": [
    "<img src='./images/step-1.png'>"
   ]
  },
  {
   "cell_type": "markdown",
   "id": "34303cc8-0874-467c-a8d7-64052bbffd8a",
   "metadata": {},
   "source": [
    "<img src='./images/step-2.png'>"
   ]
  },
  {
   "cell_type": "markdown",
   "id": "07786876-2c0f-4437-90ac-ab20765f3a92",
   "metadata": {
    "tags": []
   },
   "source": [
    "<img src='./images/step-3.png'>"
   ]
  },
  {
   "cell_type": "markdown",
   "id": "608c4aec-4748-4183-aacb-6cd4bd3c289d",
   "metadata": {
    "tags": []
   },
   "source": [
    "<img src='./images/step-4.png'>"
   ]
  },
  {
   "cell_type": "markdown",
   "id": "6af75ca6-03a6-4f79-a447-7dd709dc4259",
   "metadata": {},
   "source": [
    "<img src='./images/step-5.png'>"
   ]
  },
  {
   "cell_type": "markdown",
   "id": "08b15bf3-2ae5-443f-816c-6e9b0c14043e",
   "metadata": {},
   "source": [
    "<img src='./images/step-6.png'>"
   ]
  },
  {
   "cell_type": "markdown",
   "id": "199c18d4-889b-4db3-953f-881dcfa0edc6",
   "metadata": {},
   "source": [
    "<img src='./images/step-7.png'>"
   ]
  },
  {
   "cell_type": "markdown",
   "id": "2d40fe3a-a50c-4d7a-94e9-e52ff4b2551a",
   "metadata": {},
   "source": [
    "<img src='./images/step-8.png'>"
   ]
  },
  {
   "cell_type": "markdown",
   "id": "e5471915-80d3-4e61-a138-770311622175",
   "metadata": {
    "tags": []
   },
   "source": [
    "<img src='./images/step-9.png'>"
   ]
  },
  {
   "cell_type": "markdown",
   "id": "f41b8a03-feda-4639-9c62-de4e0822f779",
   "metadata": {
    "tags": []
   },
   "source": [
    "<img src='./images/step-10.png'>"
   ]
  },
  {
   "cell_type": "markdown",
   "id": "b17165d4-e3f1-48e4-907a-ba994096e39a",
   "metadata": {},
   "source": [
    "<img src='./images/step-11.png'>"
   ]
  },
  {
   "cell_type": "markdown",
   "id": "2f463e49-6256-4f74-b225-a859df0ca4f6",
   "metadata": {},
   "source": [
    "<img src='./images/step-12.png'>"
   ]
  },
  {
   "cell_type": "markdown",
   "id": "69a01e44-d3b1-4a10-b951-3d3ffb095616",
   "metadata": {},
   "source": [
    "<footer style=\"padding-bottom:35px; background:#f9f9f9; border-bottom:3px solid #00233C\">\n",
    "    <div style=\"float:left;margin-top:14px\">ClearScape Analytics™</div>\n",
    "    <div style=\"float:right;\">\n",
    "        <div style=\"float:left; margin-top:14px\">\n",
    "            Copyright © Teradata Corporation - 2024. All Rights Reserved\n",
    "        </div>\n",
    "    </div>\n",
    "</footer>"
   ]
  }
 ],
 "metadata": {
  "kernelspec": {
   "display_name": "Python 3 (ipykernel)",
   "language": "python",
   "name": "python3"
  },
  "language_info": {
   "codemirror_mode": {
    "name": "ipython",
    "version": 3
   },
   "file_extension": ".py",
   "mimetype": "text/x-python",
   "name": "python",
   "nbconvert_exporter": "python",
   "pygments_lexer": "ipython3",
   "version": "3.9.10"
  }
 },
 "nbformat": 4,
 "nbformat_minor": 5
}
