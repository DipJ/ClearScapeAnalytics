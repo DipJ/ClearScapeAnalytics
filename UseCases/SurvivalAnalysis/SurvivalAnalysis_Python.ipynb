{
 "cells": [
  {
   "cell_type": "markdown",
   "metadata": {},
   "source": [
    "<header style=\"padding:1px;background:#f9f9f9;border-top:3px solid #00b2b1\"><img id=\"Teradata-logo\" src=\"https://www.teradata.com/Teradata/Images/Rebrand/Teradata_logo-two_color.png\" alt=\"Teradata\" width=\"220\" align=\"right\" />\n",
    "\n",
    "<b style = 'font-size:28px;font-family:Arial;color:#E37C4D'>Heart Failure prediction using teradataml</b>\n",
    "</header>"
   ]
  },
  {
   "cell_type": "markdown",
   "metadata": {},
   "source": [
    "<p style = 'font-size:18px;font-family:Arial;color:#E37C4D'><b>Introduction:</b></p>    \n",
    "    \n",
    "<table style = 'width:100%;table-layout:fixed;'>\n",
    "    <tr>\n",
    "        <td style = 'vertical-align:middle' width = '50%'>\n",
    "            <ul style = 'font-size:16px;font-family:Arial'>\n",
    "                <li>According to the CDC, the number of emergency room visits in 2017 for issues related to the heart and blood vessels was nearly 5 million. In 2016, 72 million people made heart disease-related visits to their doctors.</li><br>\n",
    "                <li>The cost of caring for cardiovascular disease is more than \\$351 billion per year. Nearly \\$214 billion pays for the care of people with heart disease, while more than \\$137 billion goes to lost productivity.</li><br>\n",
    "                <li>Heart attack is one of the most expensive conditions treated in U.S. hospitals. Its care costs an estimated \\$11.5 billion a year.</li><br>\n",
    "                <li>By 2035, more than 45 percentTrusted Source of Americans are projected to have some form of cardiovascular disease. Total costs of cardiovascular disease are expected to reach \\$1.1 trillion in 2035, with direct medical costs expected to reach \\$748.7 billion and indirect costs estimated to reach \\$368 billion.</li>\n",
    "            </ul> \n",
    "        </td>\n",
    "        <td>\n",
    "            <img src=\"images/heart.webp\" width=\"350\"/>\n",
    "        </td>\n",
    "    </tr>\n",
    "</table>\n",
    "<p style = 'font-size:16px;font-family:Arial'>Source: <a href = 'https://www.healthline.com/health/heart-disease/statistics#How-much-does-it-cost?'>Healthline</a></p>\n",
    "<p style = 'font-size:16px;font-family:Arial'>Machine learning can be useful in heart failure prediction as it can analyze large amounts of data from multiple sources and identify complex patterns that may be difficult for humans to recognize. This can potentially improve the accuracy of prediction models and help healthcare professionals identify patients who are at high risk for heart failure, allowing for earlier intervention and better outcomes.</p>\n",
    "\n",
    "<p style = 'font-size:18px;font-family:Arial;color:#E37C4D'><b>Data:</b></p>\n",
    "\n",
    "<p style = 'font-size:16px;font-family:Arial'>\n",
    "    This is a simulated dataset based on real hospital administrative data for England called Hospital Episodes Statistics. Every public (National Health Service, NHS) hospital in the country must submit records for every admission; private hospitals also submit records for any NHS patients that they treat.</p>"
   ]
  },
  {
   "cell_type": "markdown",
   "metadata": {},
   "source": [
    "<hr>\n",
    "<p style = 'font-size:16px;font-family:Arial'>Here, we import the required libraries, set environment variables and environment paths (if required).</p>"
   ]
  },
  {
   "cell_type": "code",
   "execution_count": null,
   "metadata": {},
   "outputs": [],
   "source": [
    "# system packages\n",
    "import sys\n",
    "import warnings\n",
    "warnings.filterwarnings(\"ignore\")\n",
    "\n",
    "from teradataml import *\n",
    "from teradataml import valib\n",
    "\n",
    "# Dataset packages \n",
    "import numpy as np\n",
    "import pandas as pd\n",
    "from sklearn.metrics import confusion_matrix, roc_curve, roc_auc_score, recall_score, ConfusionMatrixDisplay\n",
    "\n",
    "# plotting packages\n",
    "import matplotlib.pyplot as plt\n",
    "import seaborn as sns\n",
    "sns.set(style=\"whitegrid\")\n",
    "\n",
    "%matplotlib inline\n",
    "configure.val_install_location = \"val\"\n",
    "display.max_rows = 5"
   ]
  },
  {
   "cell_type": "markdown",
   "metadata": {},
   "source": [
    "<hr>\n",
    "<b style = 'font-size:28px;font-family:Arial;color:#E37C4D'>1. Initiate a connection to Vantage</b>\n",
    "<p style = 'font-size:18px;font-family:Arial;color:#E37C4D'> <b>Let's start by connecting to the Teradata system </b></p>\n",
    "<p style = 'font-size:16px;font-family:Arial'>You will be prompted to provide the password. Enter your password, press the Enter key, and then use the down arrow to go to the next cell.</p>"
   ]
  },
  {
   "cell_type": "code",
   "execution_count": null,
   "metadata": {},
   "outputs": [],
   "source": [
    "%run -i ../startup.ipynb\n",
    "eng = create_context(host = 'host.docker.internal', username='demo_user', password = password)\n",
    "print(eng)\n",
    "eng.execute('''SET query_band='DEMO=SurvivalAnalysis_Python.ipynb;' UPDATE FOR SESSION;''')"
   ]
  },
  {
   "cell_type": "markdown",
   "metadata": {},
   "source": [
    "<p style = 'font-size:16px;font-family:Arial'>Begin running steps with Shift + Enter keys. </p>"
   ]
  },
  {
   "cell_type": "markdown",
   "metadata": {},
   "source": [
    "<p style = 'font-size:20px;font-family:Arial;color:#E37C4D'><b>Getting Data for This Demo</b></p>\n",
    "<p style = 'font-size:16px;font-family:Arial'>We have provided data for this demo on cloud storage. You can either run the demo using foreign tables to access the data without any storage on your environment or download the data to local storage, which may yield faster execution. Still, there could be considerations of available storage. Two statements are in the following cell, and one is commented out. You may switch which mode you choose by changing the comment string.</p>"
   ]
  },
  {
   "cell_type": "code",
   "execution_count": null,
   "metadata": {},
   "outputs": [],
   "source": [
    "# %run -i ../run_procedure.py \"call get_data('DEMO_HeartFailure_cloud');\"        # Takes 10 seconds\n",
    "%run -i ../run_procedure.py \"call get_data('DEMO_HeartFailure_local');\"        # Takes 20 seconds"
   ]
  },
  {
   "cell_type": "markdown",
   "metadata": {},
   "source": [
    "<p style = 'font-size:16px;font-family:Arial'>Next is an optional step – if you want to see the status of databases/tables created and space used.</p>"
   ]
  },
  {
   "cell_type": "code",
   "execution_count": null,
   "metadata": {},
   "outputs": [],
   "source": [
    "%run -i ../run_procedure.py \"call space_report();\"        # Takes 5 seconds"
   ]
  },
  {
   "cell_type": "markdown",
   "metadata": {},
   "source": [
    "<hr>\n",
    "<b style = 'font-size:28px;font-family:Arial;color:#E37C4D'>2. Data Exploration</b>"
   ]
  },
  {
   "cell_type": "code",
   "execution_count": null,
   "metadata": {},
   "outputs": [],
   "source": [
    "heart_failure = DataFrame(in_schema('DEMO_HeartFailure', 'heart_failure'))"
   ]
  },
  {
   "cell_type": "code",
   "execution_count": null,
   "metadata": {
    "tags": []
   },
   "outputs": [],
   "source": [
    "print(heart_failure.shape)\n",
    "heart_failure"
   ]
  },
  {
   "cell_type": "markdown",
   "metadata": {},
   "source": [
    "<i><b>*Please scroll down to the end of the notebook for detailed column descriptions of the dataset.</b></i>\n",
    "<p style = 'font-size:16px;font-family:Arial'>The dataset above has 31 columns in total and the 'death' column is the predicted column where 1 means the patient died and 0 means he/she did not.\n",
    "<br>\n",
    "Let's check the data for people who died and who did not.\n",
    "</p>"
   ]
  },
  {
   "cell_type": "code",
   "execution_count": null,
   "metadata": {},
   "outputs": [],
   "source": [
    "# Sample data for people who did not die\n",
    "heart_failure[heart_failure.death == 0]"
   ]
  },
  {
   "cell_type": "code",
   "execution_count": null,
   "metadata": {},
   "outputs": [],
   "source": [
    "# Sample data for people who died\n",
    "heart_failure[heart_failure.death == 1]"
   ]
  },
  {
   "cell_type": "markdown",
   "metadata": {},
   "source": [
    "<p style = 'font-size:18px;font-family:Arial;color:#E37C4D'><b>2.1 Mortality Rate by Gender</b></p>"
   ]
  },
  {
   "cell_type": "code",
   "execution_count": null,
   "metadata": {},
   "outputs": [],
   "source": [
    "grp_gen = heart_failure.select(['gender','death']).groupby(['gender']).agg(['mean', 'count']).to_pandas()\n",
    "sns.barplot(x='gender', y='mean_death', data=grp_gen)\n",
    "plt.xticks(ticks=[0, 1], labels=['male', 'female'])\n",
    "plt.title('Mortality rate by gender')\n",
    "plt.show()"
   ]
  },
  {
   "cell_type": "markdown",
   "metadata": {},
   "source": [
    "<p style = 'font-size:16px;font-family:Arial'>The graph depicted above indicates that gender does not appear to be a determining factor in mortality rates related to heart failure.</p>"
   ]
  },
  {
   "cell_type": "markdown",
   "metadata": {},
   "source": [
    "<p style = 'font-size:18px;font-family:Arial;color:#E37C4D'><b>2.2 Mortality Rate by Age</b></p>"
   ]
  },
  {
   "cell_type": "code",
   "execution_count": null,
   "metadata": {},
   "outputs": [],
   "source": [
    "grp_gen = heart_failure.select(['age','death']).groupby(['age']).agg(['mean', 'count']).to_pandas()\n",
    "plt.figure(figsize=(15, 6))\n",
    "sns.barplot(x='age', y='mean_death', data=grp_gen)\n",
    "plt.xticks(rotation = 90)\n",
    "plt.title('Mortality rate by age')\n",
    "plt.show()"
   ]
  },
  {
   "cell_type": "markdown",
   "metadata": {},
   "source": [
    "<p style = 'font-size:16px;font-family:Arial'>A noticeable pattern can be observed from the graph, revealing a positive correlation between age and mortality rates associated with heart failure.</p>"
   ]
  },
  {
   "cell_type": "markdown",
   "metadata": {},
   "source": [
    "<p style = 'font-size:18px;font-family:Arial;color:#E37C4D'><b>2.3 Correlation Matrix</b></p>"
   ]
  },
  {
   "cell_type": "code",
   "execution_count": null,
   "metadata": {},
   "outputs": [],
   "source": [
    "corr_matrix = heart_failure.to_pandas().corr()"
   ]
  },
  {
   "cell_type": "code",
   "execution_count": null,
   "metadata": {},
   "outputs": [],
   "source": [
    "# Set figure size to 20 inches by 8 inches\n",
    "sns.set(rc={\"figure.figsize\": (20, 8)})\n",
    "# Create a heatmap to visualize the correlation matrix\n",
    "ax = sns.heatmap(corr_matrix, annot=False, cmap='coolwarm', vmin=-1, vmax=1)\n",
    "\n",
    "# Set title and show plot\n",
    "plt.title('Multivariate Correlation Matrix')\n",
    "plt.show()"
   ]
  },
  {
   "cell_type": "markdown",
   "metadata": {},
   "source": [
    "<p style = 'font-size:16px;font-family:Arial'>Few observations from the correlation matrix above are:</p>\n",
    "<ul style = 'font-size:16px;font-family:Arial'>\n",
    "    <li>Age and mortality are positively correlated.</li>\n",
    "    <li>Cancer and metastatic cancer exhibit a positive correlation.</li>\n",
    "    <li>The number of prior appointments attended and the number of appointments missed in the previous year are positively correlated.</li>\n",
    "</ul>\n",
    "\n",
    "<p style = 'font-size:16px;font-family:Arial'>While these correlations exist, they may not be strong enough to justify removing any columns from the dataset.</p>"
   ]
  },
  {
   "cell_type": "markdown",
   "metadata": {},
   "source": [
    "<p style = 'font-size:18px;font-family:Arial;color:#E37C4D'><b>2.4 Pairplot for multivariate correlations</b></p>"
   ]
  },
  {
   "cell_type": "code",
   "execution_count": null,
   "metadata": {},
   "outputs": [],
   "source": [
    "# Create a pairplot to visualize multivariate correlations\n",
    "\n",
    "sns.pairplot(heart_failure.to_pandas()[[\"gender\", \"los\",\"age\",\"prior_appts_attended\",\"prior_dnas\",\"fu_time\"]],\n",
    "             diag_kind = 'auto', hue = 'gender')"
   ]
  },
  {
   "cell_type": "markdown",
   "metadata": {},
   "source": [
    "<p style = 'font-size:16px;font-family:Arial'>The plot shown above does not yield conclusive results.</p>"
   ]
  },
  {
   "cell_type": "markdown",
   "metadata": {},
   "source": [
    "<p style = 'font-size:18px;font-family:Arial;color:#E37C4D'><b>2.5 Distribution plots for numeric variables</b></p>"
   ]
  },
  {
   "cell_type": "code",
   "execution_count": null,
   "metadata": {},
   "outputs": [],
   "source": [
    "# Loop through each numeric column and create a distribution plot\n",
    "for col in [\"los\",\"age\",\"prior_appts_attended\",\"prior_dnas\",\"fu_time\"]:\n",
    "    # Create a subplot for each column\n",
    "    plt.figure()\n",
    "    sns.histplot(data=heart_failure.to_pandas(), x=col, kde=True)\n",
    "    plt.title(f'Distribution of {col}')\n",
    "    plt.xlabel(col)\n",
    "    plt.ylabel('Frequency')\n",
    "\n",
    "# Show all the distribution plots\n",
    "plt.show()"
   ]
  },
  {
   "cell_type": "markdown",
   "metadata": {},
   "source": [
    "<hr>\n",
    "<b style = 'font-size:28px;font-family:Arial;color:#E37C4D'>2. Data Prepration</b>\n",
    "<p style = 'font-size:16px;font-family:Arial'>Here, we classify the columns in to ID column, numerical, categorical and binary ones.</p>"
   ]
  },
  {
   "cell_type": "code",
   "execution_count": null,
   "metadata": {},
   "outputs": [],
   "source": [
    "num_x = [\"los\",\"age\",\"prior_appts_attended\",\"prior_dnas\",\"fu_time\"]\n",
    "cat_x = [\"gender\", \"quintile\",\"ethnicgroup\"]\n",
    "bin_x = [\"death\", \"cancer\", \"cabg\",\"crt\", \"defib\",\"dementia\", \"diabetes\",\"hypertension\", \"ihd\",\n",
    "         \"mental_health\", \"arrhythmias\", \"copd\", \"obesity\",\"pvd\", \"renal_disease\", \"valvular_disease\",\n",
    "         \"metastatic_cancer\", \"pacemaker\", \"pneumonia\", \"pci\", \"stroke\", \"senile\"]\n",
    "idcol = [\"id\"]"
   ]
  },
  {
   "cell_type": "markdown",
   "metadata": {},
   "source": [
    "<p style = 'font-size:16px;font-family:Arial'>One hot encoding is useful when a categorical data element must be re-expressed as one or more numeric data elements, creating a binary numeric field for each categorical data value.</p>"
   ]
  },
  {
   "cell_type": "code",
   "execution_count": null,
   "metadata": {},
   "outputs": [],
   "source": [
    "# 1 - male, 2 - female\n",
    "values1 = {1: \"Gender\"}\n",
    "dummy1 = OneHotEncoder(values=values1, columns=\"gender\")\n",
    "\n",
    "# quintile (socio-economic status for patient's neighbourhood, from 1 (most affluent) to 5 (poorest))\n",
    "values2 = {1: \"q_richest\", 2: \"q_rich\", 3: \"q_average\", 4: \"q_poor\", 5: \"q_poorest\"}\n",
    "dummy2 = OneHotEncoder(values=values2, columns=\"quintile\")\n",
    "\n",
    "# 1 - White, 2 - Black, 3 - Indian Subcontinent, 8 - Not Known, 9 - Other\n",
    "values3 = {1: \"White\", 2: \"Black\", 3: \"Indian_Subcontinent\", 8: \"Not_Known\", 9:\"Other\"}\n",
    "dummy3 = OneHotEncoder(values=values3, columns=\"ethnicgroup\")"
   ]
  },
  {
   "cell_type": "markdown",
   "metadata": {},
   "source": [
    "<p style = 'font-size:16px;font-family:Arial'>FillNa allows user to perform missing value/null replacement transformations. Z-Score transforms each column value into the number of standard deviations from the mean value of the column.</p>"
   ]
  },
  {
   "cell_type": "code",
   "execution_count": null,
   "metadata": {},
   "outputs": [],
   "source": [
    "fn = FillNa(style = \"mode\", columns = num_x)\n",
    "zs = ZScore(columns = num_x,\n",
    "            out_columns = num_x, \n",
    "            fillna = fn)"
   ]
  },
  {
   "cell_type": "markdown",
   "metadata": {},
   "source": [
    "<p style = 'font-size:16px;font-family:Arial'>Keep the other variables that do not not need trasformation.</p>"
   ]
  },
  {
   "cell_type": "code",
   "execution_count": null,
   "metadata": {},
   "outputs": [],
   "source": [
    "retain = Retain(columns = bin_x)"
   ]
  },
  {
   "cell_type": "code",
   "execution_count": null,
   "metadata": {},
   "outputs": [],
   "source": [
    "# Process the transformation\n",
    "df_transformed = valib.Transform(\n",
    "                            data = heart_failure, \n",
    "                            zscore = zs, \n",
    "                            one_hot_encode = [dummy1, dummy2, dummy3],\n",
    "                            retain = retain,\n",
    "                            index_columns = idcol,\n",
    "                            key_columns = idcol\n",
    "                         )"
   ]
  },
  {
   "cell_type": "markdown",
   "metadata": {},
   "source": [
    "<p style = 'font-size:16px;font-family:Arial'>Save the transformed dataframe into a table <b>heart_failure_clean</b>.</p>"
   ]
  },
  {
   "cell_type": "code",
   "execution_count": null,
   "metadata": {},
   "outputs": [],
   "source": [
    "df_transformed.result.to_sql(\n",
    "                \"heart_failure_clean\",\n",
    "                schema_name = \"demo_user\",\n",
    "                primary_index=\"id\",\n",
    "                if_exists=\"replace\"\n",
    "            )\n",
    "df_transformed.result"
   ]
  },
  {
   "cell_type": "markdown",
   "metadata": {},
   "source": [
    "<p style = 'font-size:16px;font-family:Arial'>Splitting the data in training and testing datasets in 75:25 ratio.</p>"
   ]
  },
  {
   "cell_type": "code",
   "execution_count": null,
   "metadata": {},
   "outputs": [],
   "source": [
    "query = f'''CREATE MULTISET TABLE TrainTestSplit_output AS (\n",
    "    SELECT * FROM TD_TrainTestSplit(\n",
    "        ON heart_failure_clean AS InputTable\n",
    "        USING\n",
    "        IDColumn('id')\n",
    "        trainSize(0.75)\n",
    "        testSize(0.25)\n",
    "        Seed(7)\n",
    "    ) AS dt\n",
    ") WITH DATA;'''\n",
    "\n",
    "try:\n",
    "    eng.execute(query)\n",
    "except:\n",
    "    eng.execute('DROP TABLE TrainTestSplit_output;')\n",
    "    eng.execute(query)"
   ]
  },
  {
   "cell_type": "code",
   "execution_count": null,
   "metadata": {},
   "outputs": [],
   "source": [
    "query = f'''CREATE MULTISET TABLE heart_failure_train AS (\n",
    "    SELECT * FROM TrainTestSplit_output WHERE TD_IsTrainRow = 1\n",
    ") WITH DATA;'''\n",
    "\n",
    "try:\n",
    "    eng.execute(query)\n",
    "except:\n",
    "    eng.execute('DROP TABLE heart_failure_train;')\n",
    "    eng.execute(query)"
   ]
  },
  {
   "cell_type": "code",
   "execution_count": null,
   "metadata": {},
   "outputs": [],
   "source": [
    "query = f'''CREATE MULTISET TABLE heart_failure_test AS (\n",
    "    SELECT * FROM TrainTestSplit_output WHERE TD_IsTrainRow = 0\n",
    ") WITH DATA;'''\n",
    "\n",
    "try:\n",
    "    eng.execute(query)\n",
    "except:\n",
    "    eng.execute('DROP TABLE heart_failure_test;')\n",
    "    eng.execute(query)"
   ]
  },
  {
   "cell_type": "code",
   "execution_count": null,
   "metadata": {},
   "outputs": [],
   "source": [
    "heart_failure_train = DataFrame('heart_failure_train')\n",
    "heart_failure_test = DataFrame('heart_failure_test')\n",
    "print(\"Training Set = \"+str(heart_failure_train.shape[0])+\". Testing Set = \"+str(heart_failure_test.shape[0]))"
   ]
  },
  {
   "cell_type": "markdown",
   "metadata": {
    "tags": []
   },
   "source": [
    "<hr>\n",
    "<b style = 'font-size:28px;font-family:Arial;color:#E37C4D'>3. Model Training</b>"
   ]
  },
  {
   "cell_type": "markdown",
   "metadata": {},
   "source": [
    "<p style = 'font-size:16px;font-family:Arial'>The TD_GLM function is a generalized linear model (GLM) that performs regression and classification analysis on data sets, where the response follows an exponential or binomial family distribution.\n",
    "<br>\n",
    "<br>\n",
    "Due to gradient-based learning, the function is highly sensitive to feature scaling. Input features should be standardized, such as using ScaleFit, and ScaleTransform, before using them in the function. The function takes only numeric features. We must convert the categorical features to numeric values before training. The function skips the rows with missing (null) values during training.</p>"
   ]
  },
  {
   "cell_type": "code",
   "execution_count": null,
   "metadata": {},
   "outputs": [],
   "source": [
    "query = f'''CREATE TABLE glm_model AS (\n",
    "    SELECT * FROM TD_GLM (\n",
    "        ON heart_failure_train\n",
    "        OUT TABLE MetaInformationTable(glm_out) \n",
    "        USING\n",
    "            InputColumns('[3:39]')\n",
    "            ResponseColumn('death')\n",
    "            Family('Binomial')\n",
    "            BatchSize(10)\n",
    "            MaxIterNum(300)\n",
    "            RegularizationLambda(0.02)\n",
    "            Alpha(0.15)\n",
    "            IterNumNoChange(50)\n",
    "            Intercept('true')\n",
    "            LearningRate('optimal')\n",
    "            InitialEta(0.05)\n",
    "            LocalSGDIterations(0)\n",
    "    ) AS dt\n",
    ") WITH DATA;\n",
    "'''\n",
    "\n",
    "try:\n",
    "    eng.execute(query)\n",
    "except:\n",
    "    # Drop the tables and try again if the table already exists\n",
    "    eng.execute(f'DROP TABLE glm_model;')\n",
    "    eng.execute(f'DROP TABLE glm_out;')\n",
    "    eng.execute(query)"
   ]
  },
  {
   "cell_type": "code",
   "execution_count": null,
   "metadata": {},
   "outputs": [],
   "source": [
    "glm_model_out = DataFrame(in_schema('demo_user','glm_model')).to_pandas().reset_index()\n",
    "feat_imp = glm_model_out[glm_model_out['attribute'] > 0].sort_values(by = 'estimate', ascending = False)\n",
    "\n",
    "# Specify figure size\n",
    "fig, ax = plt.subplots(figsize=(10, 8))\n",
    "\n",
    "# Use ax.barh() for horizontal bar chart\n",
    "ax.barh(feat_imp['predictor'], feat_imp['estimate'], edgecolor='red')\n",
    "\n",
    "# Add text labels on right of the bars\n",
    "for x, y in zip(feat_imp['estimate'], feat_imp['predictor']):\n",
    "    ax.text(x, y, str(round(x, 2)), ha='left', va='center')\n",
    "\n",
    "# Set y-axis label\n",
    "ax.set_xlabel('Estimate')\n",
    "\n",
    "plt.show()"
   ]
  },
  {
   "cell_type": "markdown",
   "metadata": {},
   "source": [
    "<p style = 'font-size:16px;font-family:Arial'>The feature importances displayed above indicate that age and the number of appointments missed are significant factors in predicting heart failure deaths. Other notable factors include the presence of arrhythmia (irregular heartbeat), hypertension, COPD (chronic obstructive pulmonary disease), and whether the patient belongs to the Indian subcontinent.</p>"
   ]
  },
  {
   "cell_type": "markdown",
   "metadata": {},
   "source": [
    "<hr>\n",
    "<b style = 'font-size:28px;font-family:Arial;color:#E37C4D'>4. Model Validation</b>\n",
    "<p style = 'font-size:16px;font-family:Arial'>The TD_GLMPredict function predicts target values (regression) and class labels (classification) for test data using a GLM model trained by the GLM function.\n",
    "<br>\n",
    "<br>\n",
    "Similar to GLM, input features should be standardized, such as using ScaleFit, and ScaleTransform, before using them in the function. The function takes only numeric features. We must convert the categorical features to numeric values before prediction.</p>"
   ]
  },
  {
   "cell_type": "code",
   "execution_count": null,
   "metadata": {},
   "outputs": [],
   "source": [
    "query = '''CREATE TABLE glm_predict_out AS (\n",
    "    SELECT * FROM TD_GLMPredict(\n",
    "        ON \"demo_user\".\"heart_failure_test\" AS inputtable\n",
    "        PARTITION BY ANY \n",
    "        ON glm_model AS ModelTable\n",
    "        DIMENSION\n",
    "        USING\n",
    "            IDColumn('id')\n",
    "            Accumulate('death')\n",
    "            OutputProb('True')\n",
    "            Responses('0','1')\n",
    "    ) AS dt\n",
    ") WITH DATA;\n",
    "'''\n",
    "\n",
    "try:\n",
    "    eng.execute(query)\n",
    "except Exception as e:\n",
    "    eng.execute('DROP TABLE glm_predict_out;')\n",
    "    eng.execute(query)"
   ]
  },
  {
   "cell_type": "code",
   "execution_count": null,
   "metadata": {},
   "outputs": [],
   "source": [
    "# Evaluate the GLM model's performance using TD_CLASSIFICATIONEVALUATOR\n",
    "\n",
    "# Check if the necessary tables exist before executing the query\n",
    "if not eng.has_table('glm_predict_out'):\n",
    "    print('Error: glm_predict_out table does not exist.')\n",
    "    sys.exit(1)\n",
    "\n",
    "query = '''SELECT * from TD_CLASSIFICATIONEVALUATOR(\n",
    "    ON (\n",
    "        SELECT\n",
    "            CAST(\"death\" AS INTEGER) AS \"death\",\n",
    "            CAST(prediction AS INTEGER) as prediction\n",
    "        FROM glm_predict_out\n",
    "    ) AS InputTable\n",
    "    OUT TABLE OutputTable(additional_metrics_glm)\n",
    "    USING\n",
    "        Labels(0, 1)\n",
    "        ObservationColumn('death')\n",
    "        PredictionColumn('Prediction')\n",
    ") AS dt1\n",
    "ORDER BY 1, 2, 3;\n",
    "'''\n",
    "\n",
    "try:\n",
    "    eng.execute(query)\n",
    "except:\n",
    "    eng.execute('DROP TABLE additional_metrics_glm;')\n",
    "    eng.execute(query)"
   ]
  },
  {
   "cell_type": "code",
   "execution_count": null,
   "metadata": {},
   "outputs": [],
   "source": [
    "glm_result = DataFrame(in_schema('demo_user', 'glm_predict_out')).to_pandas().reset_index()\n",
    "glm_result"
   ]
  },
  {
   "cell_type": "markdown",
   "metadata": {},
   "source": [
    "<p style = 'font-size:16px;font-family:Arial'>In the above result, the column <b>death</b> is ground truth, <b>prediction</b> is the predicted output and <b>(prob_0, prob_1)</b> are probabilities of the output class.</p>"
   ]
  },
  {
   "cell_type": "code",
   "execution_count": null,
   "metadata": {},
   "outputs": [],
   "source": [
    "metrics_glm = DataFrame(in_schema('demo_user', 'additional_metrics_glm')).to_pandas()\n",
    "metrics_glm['Metric'] = metrics_glm['Metric'].str.strip('\\x00')\n",
    "metrics_glm"
   ]
  },
  {
   "cell_type": "markdown",
   "metadata": {},
   "source": [
    "<p style = 'font-size:16px;font-family:Arial'>Recall is more important where <b>Overlooked Cases (False Negatives)</b> are more costly than <b>False Alarms (False Positive)</b>. Because not “capturing” even one case of heart failure could result in death, the models should place emphasis on the recall score. It is far preferable to not “miss” anyone with heart failure even if that means “flagging” some patients as having heart failure that actually do not have the disease.\n",
    "</p>"
   ]
  },
  {
   "cell_type": "markdown",
   "metadata": {},
   "source": [
    "<p style = 'font-size:16px;font-family:Arial'>Let us consider one example. Here we check for patient number 856.</p>"
   ]
  },
  {
   "cell_type": "code",
   "execution_count": null,
   "metadata": {},
   "outputs": [],
   "source": [
    "heart_failure[heart_failure['id'] == 856]"
   ]
  },
  {
   "cell_type": "markdown",
   "metadata": {},
   "source": [
    "<p style = 'font-size:16px;font-family:Arial'>Based on the data provided, the individual in question has hypertension, arrhythmia, and an age of 98. These features have been identified as significant predictors of mortality by our model. Therefore, there was a high probability of death for this patient, which is further supported by the outcome indicating death.</p>"
   ]
  },
  {
   "cell_type": "markdown",
   "metadata": {},
   "source": [
    "<hr>\n",
    "<b style = 'font-size:28px;font-family:Arial;color:#E37C4D'>5. Visualize the results</b>"
   ]
  },
  {
   "cell_type": "code",
   "execution_count": null,
   "metadata": {},
   "outputs": [],
   "source": [
    "# Compute confusion matrix\n",
    "cm = confusion_matrix(glm_result['prediction'], glm_result['death'])\n",
    "\n",
    "# Plot confusion matrix\n",
    "disp = ConfusionMatrixDisplay(confusion_matrix=cm, display_labels=['No Death', 'Death'])\n",
    "fig, ax = plt.subplots(figsize=(8, 8))\n",
    "disp.plot(ax=ax, cmap='Blues', colorbar=True)\n",
    "\n",
    "# Add labels and annotations\n",
    "plt.title('GLM Confusion Matrix')\n",
    "plt.xlabel('Predicted Label')\n",
    "plt.ylabel('True Label')\n",
    "plt.xticks(ticks=[0, 1], labels=['No Death', 'Death'])\n",
    "plt.yticks(ticks=[0, 1], labels=['No Death', 'Death'])\n",
    "\n",
    "# Add text to the plot to show the actual values of the confusion matrix\n",
    "for i in range(cm.shape[0]):\n",
    "    for j in range(cm.shape[1]):\n",
    "        plt.text(j, i, f'{cm[i, j]}', ha='center', va='center', color='white' if cm[i, j] > cm.max()/2 else 'black')\n",
    "        \n",
    "# Remove grid lines\n",
    "ax.grid(False)\n",
    "\n",
    "# Show the plot\n",
    "plt.show()"
   ]
  },
  {
   "cell_type": "markdown",
   "metadata": {},
   "source": [
    "<hr>\n",
    "<b style = 'font-size:28px;font-family:Arial;color:#E37C4D'>6. Cleanup</b>\n",
    "<p style = 'font-size:18px;font-family:Arial;color:#E37C4D'><b>Work Tables</b></p>\n",
    "<p style = 'font-size:16px;font-family:Arial'>Cleanup work tables to prevent errors next time.</p>"
   ]
  },
  {
   "cell_type": "code",
   "execution_count": null,
   "metadata": {},
   "outputs": [],
   "source": [
    "eng.execute('DROP TABLE heart_failure_train;')"
   ]
  },
  {
   "cell_type": "code",
   "execution_count": null,
   "metadata": {},
   "outputs": [],
   "source": [
    "eng.execute('DROP TABLE heart_failure_test;')"
   ]
  },
  {
   "cell_type": "markdown",
   "metadata": {},
   "source": [
    "<p style = 'font-size:18px;font-family:Arial;color:#E37C4D'> <b>Databases and Tables </b></p>\n",
    "<p style = 'font-size:16px;font-family:Arial'>The following code will clean up tables and databases created above.</p>"
   ]
  },
  {
   "cell_type": "code",
   "execution_count": null,
   "metadata": {},
   "outputs": [],
   "source": [
    "%run -i ../run_procedure.py \"call remove_data('DEMO_HeartFailure');\"        # Takes 5 seconds"
   ]
  },
  {
   "cell_type": "code",
   "execution_count": null,
   "metadata": {},
   "outputs": [],
   "source": [
    "remove_context()"
   ]
  },
  {
   "cell_type": "markdown",
   "metadata": {},
   "source": [
    "<b style = 'font-size:28px;font-family:Arial;color:#E37C4D'>Dataset:</b>\n",
    "\n",
    "- `id`: patient id\n",
    "- `death`: If the patient is deceased(boolean)\n",
    "- `los`: hospital length of stay (in nights)\n",
    "- `age`: age of the patient (in years)\n",
    "- `gender`: gender of the patient (1-male, 2-female)\n",
    "- `cancer`: If the patient has cancer (boolean)\n",
    "- `cabg`: If the patient has gone through previous heart bypass i.e. Coronary Artery Bypass Graft procedure (boolean)\n",
    "- `crt`: If the patient has gone through Cardiac Resynchronization Therapy i.e. a device - a treatment for heart failure(boolean)\n",
    "- `defib`: If the patient has defibrillator implanted (boolean)\n",
    "- `dementia`: If the patient has dementia (boolean)\n",
    "- `diabetes`: If the patient has diabetes (boolean)\n",
    "- `hypertension`: If the patient has hypertension (boolean)\n",
    "- `ihd`: If the patient has Ischemic Heart Disease (boolean)\n",
    "- `mental_health`: If the patient has been diagnosed with mental health issues (boolean)\n",
    "- `arrhythmias`: If the patient has arrhythmia (boolean)\n",
    "- `copd`: If the patient has Chronic Obstructive Pulmonary Disease (boolean)\n",
    "- `obesity`: If the patient has obesity (boolean)\n",
    "- `pvd`: If the patient has Peripheral Vascular Disease (boolean)\n",
    "- `renal_disease`: If the patient has Renal Disease (boolean)\n",
    "- `valvular_disease`: If the patient has Valvular Disease (boolean)\n",
    "- `metastatic_cancer`: If the patient has Metastatic Cancer (boolean)\n",
    "- `pacemaker`: If the patient has pacemaker (boolean)\n",
    "- `pneumonia`: If the patient has pneumonia (boolean)\n",
    "- `prior_appts_attended`: Number of outpatient appointments attended in the previous year\n",
    "- `prior_dnas`: Number of outpatient appointments missed in the previous year\n",
    "- `pci`: If the patient has gone though Percutaneous Coronary Intervention procedure (boolean)\n",
    "- `stroke`: History of stroke\n",
    "- `senile`: If the patient has Senile amyloidosis (SSA) (boolean)\n",
    "- `quintile`: Socio-economic status for patient's neighbourhood, from 1 (most affluent) to 5 (poorest)\n",
    "- `ethnicgroup`: 1 - White, 2 - Black, 3 - Indian Subcontinent, 8 - Not Known, 9 - Other \n",
    "- `fu_time`: Follow-up time, i.e. time in days since admission to hospital"
   ]
  },
  {
   "cell_type": "markdown",
   "metadata": {},
   "source": [
    "<footer style=\"padding:10px;background:#f9f9f9;border-bottom:3px solid #394851\">Copyright © Teradata Corporation - 2023. All Rights Reserved.</footer>"
   ]
  }
 ],
 "metadata": {
  "kernelspec": {
   "display_name": "Python 3 (ipykernel)",
   "language": "python",
   "name": "python3"
  },
  "language_info": {
   "codemirror_mode": {
    "name": "ipython",
    "version": 3
   },
   "file_extension": ".py",
   "mimetype": "text/x-python",
   "name": "python",
   "nbconvert_exporter": "python",
   "pygments_lexer": "ipython3",
   "version": "3.9.10"
  },
  "widgets": {
   "application/vnd.jupyter.widget-state+json": {
    "state": {},
    "version_major": 2,
    "version_minor": 0
   }
  }
 },
 "nbformat": 4,
 "nbformat_minor": 4
}
