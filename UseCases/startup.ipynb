{
 "cells": [
  {
   "cell_type": "code",
   "execution_count": null,
   "id": "removed-board",
   "metadata": {},
   "outputs": [],
   "source": [
    "##############################################################################################\n",
    "#\n",
    "# This is a multi-platform startup script which is called by other workbooks. If porting\n",
    "# to another platform, you may need to change the setting of the username below to prompt\n",
    "#\n",
    "#############################################################################################\n",
    "newpassword = 'N'\n",
    "try: firsttime = firsttime\n",
    "except NameError: \n",
    "    firsttime = 'Y'\n",
    "    print (\"... performing setup\")"
   ]
  },
  {
   "cell_type": "code",
   "execution_count": null,
   "id": "mediterranean-extra",
   "metadata": {
    "tags": []
   },
   "outputs": [],
   "source": [
    "%%capture\n",
    "if firsttime == 'Y':    \n",
    "    import warnings\n",
    "    warnings.filterwarnings('ignore')\n",
    "    import sys\n",
    "    !{sys.executable} -m pip install \"ipython-sql==0.4.1\"\n",
    "\n",
    "    import getpass\n",
    "    %load_ext sql\n",
    "    firsttime = 'YY'"
   ]
  },
  {
   "cell_type": "code",
   "execution_count": null,
   "id": "dominican-hotel",
   "metadata": {},
   "outputs": [],
   "source": [
    "if firsttime == 'YY':\n",
    "    firsttime = 'N'\n",
    "    print (\"... setup complete\")"
   ]
  },
  {
   "cell_type": "code",
   "execution_count": null,
   "id": "funny-acoustic",
   "metadata": {},
   "outputs": [],
   "source": [
    "try: logonstr = logonstr\n",
    "except NameError: \n",
    "    # username = getpass.getuser()          # if environment variable can provide the username\n",
    "    # username = input(\"Enter your user name: \")      # If username from Docker is different from Teradata username\n",
    "    username = 'demo_user'      # for DemoNow\n",
    "    password = getpass.getpass(prompt='\\nEnter password: ')\n",
    "    logonstr = \"teradatasql://{}:{}@host.docker.internal/dbc\".format(username, password)\n",
    "    newpassword = 'Y'"
   ]
  },
  {
   "cell_type": "code",
   "execution_count": null,
   "id": "false-raise",
   "metadata": {},
   "outputs": [],
   "source": [
    "%%capture logonmsg\n",
    "if newpassword == 'Y':\n",
    "    %sql $logonstr"
   ]
  },
  {
   "cell_type": "code",
   "execution_count": null,
   "id": "quick-sixth",
   "metadata": {},
   "outputs": [],
   "source": [
    "if newpassword == 'Y':\n",
    "    x = logonmsg.stdout\n",
    "    if x != '': \n",
    "        print('ERROR: Logon did not work')\n",
    "        del logonstr\n",
    "    else: \n",
    "        print('... Logon successful')\n",
    "        print (\"Connected as:\",logonstr.replace(password,\"xxxxx\"))"
   ]
  }
 ],
 "metadata": {
  "kernelspec": {
   "display_name": "Python 3 (ipykernel)",
   "language": "python",
   "name": "python3"
  },
  "language_info": {
   "codemirror_mode": {
    "name": "ipython",
    "version": 3
   },
   "file_extension": ".py",
   "mimetype": "text/x-python",
   "name": "python",
   "nbconvert_exporter": "python",
   "pygments_lexer": "ipython3",
   "version": "3.9.10"
  }
 },
 "nbformat": 4,
 "nbformat_minor": 5
}
