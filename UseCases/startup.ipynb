{
 "cells": [
  {
   "cell_type": "code",
   "execution_count": null,
   "id": "5adc5813-21db-455d-b224-2e6f47ae914d",
   "metadata": {},
   "outputs": [],
   "source": [
    "##############################################################################################\n",
    "#\n",
    "# This is a multi-platform startup script which is called by other workbooks. If porting\n",
    "# to another platform, you may need to change the setting of the username below to prompt\n",
    "#\n",
    "#############################################################################################\n",
    "\n",
    "import getpass\n",
    "import sys\n",
    "import warnings\n",
    "from sqlalchemy import create_engine\n",
    "# Ignores warning messages, so they will not be displayed during the execution of the code.\n",
    "warnings.filterwarnings('ignore')"
   ]
  },
  {
   "cell_type": "code",
   "execution_count": null,
   "id": "removed-board",
   "metadata": {},
   "outputs": [],
   "source": [
    "# Initializes a boolean variable new_password to False\n",
    "new_password = False\n",
    "\n",
    "# Checks if the variable first_time is not present in the global namespace,\n",
    "# indicating that it is the first time the code is being run.\n",
    "first_time = 'first_time' not in globals()\n",
    "\n",
    "# Executes the block of code if it is the first time the code is being run\n",
    "if first_time:\n",
    "    print(\"Performing setup ...\")\n",
    "    %load_ext sql\n",
    "    first_time = False\n",
    "    print(\"Setup complete\")\n",
    "\n",
    "# Checks if the variable logonstr is not present in the global namespace,\n",
    "# indicating that the logon string has not been created yet.\n",
    "if 'logonstr' not in globals(): \n",
    "    # username = getpass.getuser()          # If environment variable can provide the username\n",
    "    # username = input(\"Enter your user name: \")      # If username from Docker is different from Teradata username\n",
    "    username = 'demo_user'      # for DemoNow\n",
    "    password = getpass.getpass(prompt = '\\nEnter password: ')\n",
    "    logonstr = \"teradatasql://{}:{}@host.docker.internal/dbc\".format(username, password)    # Create logon string for Teradata connection\n",
    "    new_password = True"
   ]
  },
  {
   "cell_type": "code",
   "execution_count": null,
   "id": "false-raise",
   "metadata": {},
   "outputs": [],
   "source": [
    "%%capture logonmsg\n",
    "if new_password:\n",
    "    # %sql $logonstr\n",
    "    sqlalchemy_engine  = create_engine(logonstr)"
   ]
  },
  {
   "cell_type": "code",
   "execution_count": null,
   "id": "05d40b36-74f5-4671-80e0-75558e6b4cf9",
   "metadata": {},
   "outputs": [],
   "source": [
    "# Executes the block of code if the stdout attribute of logonmsg is empty,\n",
    "# indicating that the logon was successful.\n",
    "if not logonmsg.stdout:\n",
    "    print('... Logon successful')\n",
    "    print(\"Connected as:\",logonstr.replace(password,\"xxxxx\"))\n",
    "else:\n",
    "    # Delete logonstr variable and print error message\n",
    "    del logonstr\n",
    "    string = 'The UserId, Password or Account is invalid.'\n",
    "    if string in logonmsg.stdout:\n",
    "        print(\"\\033[1m\" + string +  \"\\033[0m\" + '\\n' + \"Please enter the password again!\")\n",
    "        %run -i ../startup.ipynb\n",
    "    else:\n",
    "        # print(logonmsg.stdout)\n",
    "        print('ERROR: Logon did not work.')"
   ]
  },
  {
   "cell_type": "markdown",
   "id": "dcac486c-aab9-450b-9326-1f86b2941269",
   "metadata": {},
   "source": [
    "<footer style=\"padding:10px;background:#f9f9f9;border-bottom:3px solid #394851\">Copyright © Teradata Corporation - 2023. All Rights Reserved.</footer>"
   ]
  }
 ],
 "metadata": {
  "kernelspec": {
   "display_name": "Python 3 (ipykernel)",
   "language": "python",
   "name": "python3"
  },
  "language_info": {
   "codemirror_mode": {
    "name": "ipython",
    "version": 3
   },
   "file_extension": ".py",
   "mimetype": "text/x-python",
   "name": "python",
   "nbconvert_exporter": "python",
   "pygments_lexer": "ipython3",
   "version": "3.9.10"
  }
 },
 "nbformat": 4,
 "nbformat_minor": 5
}
