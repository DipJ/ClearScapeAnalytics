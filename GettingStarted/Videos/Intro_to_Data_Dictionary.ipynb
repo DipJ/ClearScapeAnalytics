{
 "cells": [
  {
   "cell_type": "markdown",
   "id": "5786e11e-1b2f-4ebd-9ab8-5085160ed066",
   "metadata": {},
   "source": [
    "### <header style=\"padding:1px;background:#f9f9f9;border-top:3px solid #00b2b1\"><img id=\"Teradata-logo\" src=\"https://www.teradata.com/Teradata/Images/Rebrand/Teradata_logo-two_color.png\" alt=\"Teradata\" width=\"220\" align=\"right\" />\n",
    "\n",
    "<b style = 'font-size:28px;font-family:Arial;color:#E37C4D'>Introduction to the ClearScape Analytics Data Dictionary</b>\n",
    "</header>\n",
    "\n",
    "This video is designed to help you link to data for use with your own tools\n",
    "\n",
    "\n",
    "Run Time: 2:30\n",
    "\n",
    "_(you can click on icons on lower right to maximize screen or change playback speed)_\n",
    "<video controls width=\"800\" height=\"500\" src=\"https://web.microsoftstream.com/embed/video/f8fddab8-6f0b-44e8-8594-04d396c78745?autoplay=true&showinfo=true\" />"
   ]
  },
  {
   "cell_type": "code",
   "execution_count": null,
   "id": "a705da20-e138-4016-91ec-3bb4540f031a",
   "metadata": {},
   "outputs": [],
   "source": []
  }
 ],
 "metadata": {
  "kernelspec": {
   "display_name": "Teradata SQL",
   "language": "Teradata SQL",
   "name": "teradatasql"
  },
  "language_info": {
   "codemirror_mode": "Teradata SQL",
   "file_extension": ".tdrs",
   "mimetype": "application/vnd.teradata.resultset",
   "name": "Teradata SQL",
   "nbconvert_exporter": "",
   "pygments_lexer": "",
   "version": "16.20"
  }
 },
 "nbformat": 4,
 "nbformat_minor": 5
}
