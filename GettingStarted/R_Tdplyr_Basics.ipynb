{
 "cells": [
  {
   "cell_type": "markdown",
   "metadata": {},
   "source": [
    "<header style=\"padding:1px;background:#f9f9f9;border-top:3px solid #00b2b1\"><img id=\"Teradata-logo\" src=\"https://www.teradata.com/Teradata/Images/Rebrand/Teradata_logo-two_color.png\" alt=\"Teradata\" width=\"220\" align=\"right\" />\n",
    "\n",
    "<b style = 'font-size:28px;font-family:Arial;color:#E37C4D'>tdplyr R Basics</b>\n",
    "</header>\n",
    "<p style = 'font-size:16px;font-family:Arial'>In this example, we will cover the basics of the R Package for Vantage (tdplyr).  Please see the Getting Started Guide <a href = 'https://docs.teradata.com/r/Teradata-Package-for-R-User-Guide/July-2021/Introduction-to-Teradata-Package-for-R/The-tdplyr-Package'>here</a></p>\n",
    "<hr>\n",
    "<p style = 'font-size:16px;font-family:Arial'>First, load some libraries.</p>"
   ]
  },
  {
   "cell_type": "code",
   "execution_count": null,
   "metadata": {},
   "outputs": [],
   "source": [
    "remove.packages('rlang')\n",
    "remove.packages('dplyr')\n",
    "remove.packages('dbplyr')\n",
    "remove.packages('tdplyr')\n",
    "remove.packages('dbplot')\n",
    "\n",
    "remove.packages('cachem')\n",
    "remove.packages('usethis')\n",
    "remove.packages('htmltools')\n",
    "remove.packages('ellipsis')\n",
    "remove.packages('purrr')\n",
    "remove.packages('lifecycle')\n",
    "remove.packages('pillar')"
   ]
  },
  {
   "cell_type": "code",
   "execution_count": null,
   "metadata": {},
   "outputs": [],
   "source": [
    "install.packages('cachem')\n",
    "install.packages('usethis')\n",
    "install.packages('htmltools')\n",
    "install.packages('ellipsis')\n",
    "install.packages('purrr')\n",
    "install.packages('lifecycle')\n",
    "install.packages('pillar')"
   ]
  },
  {
   "cell_type": "code",
   "execution_count": 5,
   "metadata": {},
   "outputs": [
    {
     "name": "stderr",
     "output_type": "stream",
     "text": [
      "Updating HTML index of packages in '.Library'\n",
      "\n",
      "Making 'packages.html' ...\n",
      " done\n",
      "\n",
      "Updating HTML index of packages in '.Library'\n",
      "\n",
      "Making 'packages.html' ...\n",
      " done\n",
      "\n",
      "Updating HTML index of packages in '.Library'\n",
      "\n",
      "Making 'packages.html' ...\n",
      " done\n",
      "\n",
      "Updating HTML index of packages in '.Library'\n",
      "\n",
      "Making 'packages.html' ...\n",
      " done\n",
      "\n"
     ]
    }
   ],
   "source": [
    "install.packages('rlang')\n",
    "install.packages('dplyr')\n",
    "install.packages('./dbplyr_2.1.1.tar.gz', repos=NULL, type=\"source\")\n",
    "install.packages('tdplyr', repos=c('https://r-repo.teradata.com','https://cloud.r-project.org'))\n",
    "install.packages('dbplot')"
   ]
  },
  {
   "cell_type": "code",
   "execution_count": 6,
   "metadata": {},
   "outputs": [
    {
     "name": "stderr",
     "output_type": "stream",
     "text": [
      "\n",
      "Attaching package: ‘dbplyr’\n",
      "\n",
      "\n",
      "The following objects are masked from ‘package:dplyr’:\n",
      "\n",
      "    ident, sql\n",
      "\n",
      "\n",
      "Registered S3 methods overwritten by 'tdplyr':\n",
      "  method                     from  \n",
      "  sql_query_select.Teradata  dbplyr\n",
      "  sql_table_analyze.Teradata dbplyr\n",
      "  sql_translation.Teradata   dbplyr\n",
      "\n"
     ]
    }
   ],
   "source": [
    "library(rlang)\n",
    "library(dplyr)\n",
    "library(dbplyr)\n",
    "library(tdplyr)\n",
    "library(dbplot)"
   ]
  },
  {
   "cell_type": "code",
   "execution_count": 13,
   "metadata": {},
   "outputs": [],
   "source": [
    "# sessionInfo()"
   ]
  },
  {
   "cell_type": "markdown",
   "metadata": {},
   "source": [
    "<p style = 'font-size:16px;font-family:Arial'>Get help, if needed.</p>"
   ]
  },
  {
   "cell_type": "code",
   "execution_count": 23,
   "metadata": {
    "collapsed": true,
    "jupyter": {
     "outputs_hidden": true
    },
    "tags": []
   },
   "outputs": [
    {
     "data": {
      "text/plain": [
       "Documentation for package ‘tdplyr’\n",
       "\n",
       "\n",
       "\t\tInformation on package ‘tdplyr’\n",
       "\n",
       "Description:\n",
       "\n",
       "Package:              tdplyr\n",
       "Type:                 Package\n",
       "Title:                Teradata R Package\n",
       "Version:              17.00.00.01\n",
       "Date:                 2018-12-07\n",
       "Author:               Waman Joshi, Mark Sandan, Arun Kalyanasundaram,\n",
       "                      Karthik Thelukuntla, Pankaj Vinod Purandare,\n",
       "                      Trupti A Purohit, Amanda Moran, Jeris Alan\n",
       "                      Jawahar, Adithya Avvaru, Mounika Kotha, Rohit\n",
       "                      Khurd, Pavansai Kumar Alladi, Rohit Agrawal,\n",
       "                      Gouri Patwardhan, Subhash Karemore\n",
       "Maintainer:           Analytic-Clients, Support <SA230577@teradata.com>\n",
       "LazyData:             yes\n",
       "Depends:              R (>= 3.4.3)\n",
       "Imports:              DBI (>= 1.0.0), dplyr (>= 1.0.3), dbplyr (>=\n",
       "                      2.0.0), jsonlite (>= 1.7), magrittr (>= 1.5),\n",
       "                      teradatasql (>= 17.0.0.8), rlang, bit64, purrr,\n",
       "                      methods\n",
       "Suggests:             knitr, rmarkdown, odbc (>= 1.1.5), ggplot2\n",
       "SystemRequirements:   Teradata SQL driver for R\n",
       "Description:          This package enables users to access Teradata\n",
       "                      Vantage analytic functions using the R language.\n",
       "License:              file LICENSE + file THIRDPARTYLICENSE\n",
       "RoxygenNote:          7.1.1\n",
       "VignetteBuilder:      knitr\n",
       "Encoding:             UTF-8\n",
       "NeedsCompilation:     no\n",
       "Packaged:             2021-07-02 05:21:01 UTC; Administrator\n",
       "Built:                R 4.0.3; ; 2022-02-01 22:40:14 UTC; unix\n",
       "\n",
       "Index:\n",
       "\n",
       "copy_to.Teradata        Copy a local dataframe to a remote data source\n",
       "db_analyze.Teradata     Analyze the table\n",
       "db_compute.Teradata     Creates a Table\n",
       "db_save_query.Teradata\n",
       "                        Creates a Table\n",
       "dbConnect,NativeDriver-method\n",
       "                        Connect to Teradata Vantage using the Teradata\n",
       "                        SQL driver for R\n",
       "group_by_time           Group by Time for PTI and non-PTI tables\n",
       "loadExampleData         Loading example data for tdplyr functions\n",
       "NativeDriver            Teradata Native Driver\n",
       "NativeDriver-class      Teradata Native Driver Class\n",
       "predict                 tdplyr: Model Predictions\n",
       "print.td_analytics      Printing tdplyr Analytic Function Objects\n",
       "Script                  Creates and initializes an object of\n",
       "                        \"ScriptTableOperator\" class.\n",
       "show_query.td_analytics_valib\n",
       "                        Get SQL query\n",
       "sql_query_save.Teradata\n",
       "                        Builds a create table query from a SQL\n",
       "sql_table_analyze.Teradata\n",
       "                        Creates query to analyze the table\n",
       "sql-translation         SQL Translation Extensions\n",
       "summarise.tbl_teradata\n",
       "                        Summarise a grouped or ungrouped column\n",
       "td_adaboost_mle         AdaBoost\n",
       "td_adaboost_predict_mle\n",
       "                        AdaBoostPredict\n",
       "td_adaptive_histogram_valib\n",
       "                        Descriptive Statistics Function:\n",
       "                        AdaptiveHistogram\n",
       "td_antiselect_mle       Antiselect\n",
       "td_antiselect_sqle      Antiselect\n",
       "td_arima_mle            Arima\n",
       "td_arima_predict_mle    ARIMAPredict\n",
       "td_association_valib    Association Rules\n",
       "td_attribution_mle      Attribution\n",
       "td_attribution_sqle     Attribution\n",
       "td_binomial_test_valib\n",
       "                        Binomial Tests\n",
       "td_burst_mle            Burst\n",
       "td_ccm_mle              CCM\n",
       "td_ccm_prepare_mle      CCMPrepare\n",
       "td_cfilter_mle          CFilter\n",
       "td_changepoint_detection_mle\n",
       "                        ChangePointDetection\n",
       "td_changepoint_detection_rt_mle\n",
       "                        RealTimeChangePointDetection\n",
       "td_chi_square_test_valib\n",
       "                        Tests Based on Contingency Tables\n",
       "td_cleanup_sandbox_env\n",
       "                        Cleanup Sandbox Environment\n",
       "td_confusion_matrix_mle\n",
       "                        ConfusionMatrix\n",
       "td_copy_files_from_container\n",
       "                        Copy files from container\n",
       "td_cox_hazard_ratio_mle\n",
       "                        CoxHazardRatio\n",
       "td_cox_survival_mle     CoxSurvival\n",
       "td_coxph_mle            CoxPH\n",
       "td_create_context       Create a Context to run analytic functions on\n",
       "                        Teradata Vantage\n",
       "td_cumulative_mov_avg_mle\n",
       "                        CumulativeMovAvg\n",
       "td_decision_forest_evaluator_mle\n",
       "                        DecisionForestEvaluator\n",
       "td_decision_forest_mle\n",
       "                        DecisionForest\n",
       "td_decision_forest_predict_mle\n",
       "                        DecisionForestPredict\n",
       "td_decision_forest_predict_sqle\n",
       "                        DecisionForestPredict\n",
       "td_decision_tree_evaluator_valib\n",
       "                        Gain Ratio Decision Tree Evaluator\n",
       "td_decision_tree_mle    DecisionTree\n",
       "td_decision_tree_predict_mle\n",
       "                        DecisionTreePredict\n",
       "td_decision_tree_predict_sqle\n",
       "                        DecisionTreePredict\n",
       "td_decision_tree_predict_valib\n",
       "                        Gain Ratio Decision Tree Predict\n",
       "td_decision_tree_valib\n",
       "                        Gain Ratio Decision Tree\n",
       "td_delete_model         td_delete_model\n",
       "td_describe_model       td_describe_model\n",
       "td_dtw_mle              DTW\n",
       "td_dwt_mle              DWT\n",
       "td_dwt2d_mle            DWT2D\n",
       "td_execute_script       Execute user script\n",
       "td_execute_script.ScriptTableOperator\n",
       "                        Execute script using Script Table Operator.\n",
       "td_explore_valib        Descriptive Statistics Function: Explore\n",
       "td_exponential_mov_avg_mle\n",
       "                        ExponentialMovAvg\n",
       "td_fastexport           FastExport to extract data\n",
       "td_fastload             Copy a local dataframe to a remote data source\n",
       "                        using fastload protocol\n",
       "td_fpgrowth_mle         FPGrowth\n",
       "td_frequency_valib      Descriptive Statistics Function: Frequency\n",
       "td_get_context          Get the current context\n",
       "td_glm_mle              GLM\n",
       "td_glm_predict_mle      GLMPredict\n",
       "td_glm_predict_sqle     GLMPredict\n",
       "td_glml1l2_mle          GLML1L2\n",
       "td_glml1l2_predict_mle\n",
       "                        GLML1L2Predict\n",
       "td_histogram_mle        Histogram\n",
       "td_histogram_valib      Descriptive Statistics Function: Histogram\n",
       "td_hmm_decoder_mle      HMMDecoder\n",
       "td_hmm_evaluator_mle    HMMEvaluator\n",
       "td_hmm_supervised_mle   HMMSupervisedLearner\n",
       "td_hmm_unsupervised_mle\n",
       "                        HMMUnsupervisedLearner\n",
       "td_idwt_mle             IDWT\n",
       "td_idwt2d_mle           IDWT2D\n",
       "td_install_file         Install or replace file in Vantage\n",
       "td_kmeans_mle           KMeans\n",
       "td_kmeans_predict_valib\n",
       "                        K-Means Clustering Predict.\n",
       "td_kmeans_valib         K-Means Clustering.\n",
       "td_knn_mle              KNN\n",
       "td_knn_recommender_mle\n",
       "                        KNNRecommenderTrain\n",
       "td_knn_recommender_predict_mle\n",
       "                        KNNRecommenderPredict\n",
       "td_ks_test_valib        Kolmogorov-Smirnoff Tests\n",
       "td_lar_mle              LAR\n",
       "td_lar_predict_mle      LARPredict\n",
       "td_lda_inference_mle    LDAInference\n",
       "td_lda_mle              LDATrainer\n",
       "td_lda_topic_summary_mle\n",
       "                        LDATopicSummary\n",
       "td_levenshtein_distance_mle\n",
       "                        Levenshtein Distance (LDist)\n",
       "td_lin_reg_evaluator_valib\n",
       "                        Linear Regression Evaluator\n",
       "td_lin_reg_mle          Linear Regression\n",
       "td_lin_reg_predict_valib\n",
       "                        Linear Regression Predict\n",
       "td_lin_reg_valib        Linear Regression\n",
       "td_linreg_predict_mle   LinearRegressionPredict\n",
       "td_list_models          td_list_models\n",
       "td_log_reg_evaluator_valib\n",
       "                        Logistic Regression Evaluator\n",
       "td_log_reg_predict_valib\n",
       "                        Logistic Regression Predict\n",
       "td_log_reg_valib        Logistic Regression\n",
       "td_matrix_valib         Matrix Building\n",
       "td_minhash_mle          MinHash\n",
       "td_modularity_mle       Modularity\n",
       "td_moving_average_sqle\n",
       "                        MovingAverage\n",
       "td_naivebayes_mle       NaiveBayes\n",
       "td_naivebayes_predict_mle\n",
       "                        NaiveBayesPredict\n",
       "td_naivebayes_predict_sqle\n",
       "                        NaiveBayesPredict\n",
       "td_naivebayes_textclassifier_mle\n",
       "                        NaiveBayesTextClassifierTrainer\n",
       "td_naivebayes_textclassifier_predict_mle\n",
       "                        NaiveBayesTextClassifierPredict\n",
       "td_naivebayes_textclassifier_predict_sqle\n",
       "                        NaiveBayesTextClassifierPredict\n",
       "td_namedentity_finder_evaluator_mle\n",
       "                        NamedEntityFinderEvaluator\n",
       "td_namedentity_finder_mle\n",
       "                        NamedEntityFinder\n",
       "td_namedentity_finder_trainer_mle\n",
       "                        TrainNamedEntityFinder\n",
       "td_ngramsplitter_mle    nGrams\n",
       "td_ngramsplitter_sqle   NGramSplitter\n",
       "td_npath_mle            Pattern Matching with nPath.\n",
       "td_npath_sqle           Pattern Matching with Teradata nPath\n",
       "td_nrow                 Number of rows in a data.frame or a tibble\n",
       "                        object\n",
       "td_ntree_mle            NTree\n",
       "td_overlap_valib        Overlap\n",
       "td_pack_mle             Pack\n",
       "td_pack_sqle            Pack\n",
       "td_page_rank_mle        PageRank\n",
       "td_parametric_test_valib\n",
       "                        Parametric Tests\n",
       "td_path_analyzer_mle    PathAnalyzer\n",
       "td_path_generator_mle   PathGenerator\n",
       "td_path_start_mle       PathStart\n",
       "td_path_summarizer_mle\n",
       "                        PathSummarizer\n",
       "td_pca_evaluator_valib\n",
       "                        Factor Analysis Evaluator\n",
       "td_pca_predict_valib    Factor Analysis Scoring\n",
       "td_pca_valib            Factor Analysis\n",
       "td_pivot_mle            Pivot\n",
       "td_pmml_predict_sqle    PMMLPredict\n",
       "td_pos_tagger_mle       POSTagger\n",
       "td_publish_model        td_publish_model\n",
       "td_random_sample_mle    RandomSample\n",
       "td_random_walk_sample_mle\n",
       "                        RandomWalkSample\n",
       "td_rank_test_valib      Rank Test\n",
       "td_remove_context       Remove the current context and close the\n",
       "                        corresponding connection to Teradata Vantage\n",
       "td_remove_file          Remove file from Vantage\n",
       "td_retrieve_model       td_retrieve_model\n",
       "td_sample               Selects one or more samples of rows\n",
       "td_sampling_mle         Sample\n",
       "td_save_model           td_save_model\n",
       "td_sax_mle              SAX\n",
       "td_scale_by_partition_mle\n",
       "                        ScaleByPartition\n",
       "td_scale_map_mle        ScaleMap\n",
       "td_scale_mle            Scale\n",
       "td_scale_summary_mle    ScaleSummary\n",
       "td_sentence_extractor_mle\n",
       "                        SentenceExtractor\n",
       "td_sentiment_evaluator_mle\n",
       "                        EvaluateSentimentExtractor\n",
       "td_sentiment_extractor_mle\n",
       "                        ExtractSentiment\n",
       "td_sentiment_trainer_mle\n",
       "                        TrainSentimentExtractor\n",
       "td_series_splitter_mle\n",
       "                        SeriesSplitter\n",
       "td_sessionize_mle       Sessionize\n",
       "td_sessionize_sqle      Sessionize\n",
       "td_set_context          Initialize a context to perform analytic\n",
       "                        functions on Teradata Vantage\n",
       "td_set_data             Set data\n",
       "td_set_data.ScriptTableOperator\n",
       "                        Set data\n",
       "td_setup_sandbox_env    Setup Sandbox Environment\n",
       "td_setup_test_env       *_(Deprecated)_* Setup test environment\n",
       "td_simple_mov_avg_mle   SimpleMovAvg\n",
       "td_statistics_valib     Descriptive Statistics Function: Statistics\n",
       "td_string_similarity_mle\n",
       "                        StringSimilarity\n",
       "td_string_similarity_sqle\n",
       "                        StringSimilarity\n",
       "td_svm_dense_mle        DenseSVMTrainer\n",
       "td_svm_dense_predict_mle\n",
       "                        SVMDensePredict\n",
       "td_svm_dense_summary_mle\n",
       "                        DenseSVMModelPrinter\n",
       "td_svm_sparse_mle       SVMSparse\n",
       "td_svm_sparse_predict_mle\n",
       "                        SVMSparsePredict\n",
       "td_svm_sparse_predict_sqle\n",
       "                        SparseSVMPredictor\n",
       "td_svm_sparse_summary_mle\n",
       "                        SVMSparseSummary\n",
       "td_test_script          Test user script\n",
       "td_test_script.ScriptTableOperator\n",
       "                        Test user script\n",
       "td_text_analyzer_valib\n",
       "                        Descriptive Statistics Function: Text Field\n",
       "                        Analyzer\n",
       "td_text_chunker_mle     TextChunker\n",
       "td_text_classifier_evaluator_mle\n",
       "                        TextClassifierEvaluator\n",
       "td_text_classifier_mle\n",
       "                        TextClassifier\n",
       "td_text_classifier_trainer_mle\n",
       "                        TextClassifierTrainer\n",
       "td_text_morph_mle       TextMorph\n",
       "td_text_parser_mle      Text Parser\n",
       "td_text_tagger_mle      TextTagging\n",
       "td_text_tokenizer_mle   TextTokenizer\n",
       "td_tf_mle               TF\n",
       "td_tfidf_mle            TF IDF\n",
       "td_transform_valib      Transformation\n",
       "td_unpack_mle           Unpack\n",
       "td_unpack_sqle          Unpack\n",
       "td_unpivot_mle          Unpivot\n",
       "td_values_valib         Descriptive Statistics Function: Values\n",
       "td_varmax_mle           VARMAX\n",
       "td_vector_distance_mle\n",
       "                        VectorDistance\n",
       "td_weighted_mov_avg_mle\n",
       "                        WeightedMovAvg\n",
       "td_xgboost_mle          XGBoost\n",
       "td_xgboost_predict_mle\n",
       "                        XGBoostPredict\n",
       "td_xml_to_html_report_valib\n",
       "                        Transform Vantage Analytic Library XML reports\n",
       "                        to HTML reports.\n",
       "tdBinning               Binning\n",
       "tdDerive                Derive\n",
       "tdFillNa                FillNa\n",
       "tdLabelEncoder          Label Encoding\n",
       "tdMinMaxScalar          Rescale values using MinMaxScalar\n",
       "tdOneHotEncoder         One Hot Encoder\n",
       "tdplyr-package          tdplyr: dplyr for Teradata Vantage\n",
       "tdRetain                Retain\n",
       "tdSigmoid               Sigmoid\n",
       "tdZScore                Rescale Values using ZScore\n",
       "\n",
       "Further information is available in the following vignettes in\n",
       "directory ‘/opt/conda/lib/R/library/tdplyr/doc’:\n",
       "\n",
       "byom_score_using_pmml_models: PMMLPredict (source, pdf)\n",
       "connection: Connection and Database Management (source, pdf)\n",
       "miscellaneous: Miscellaneous tdplyr functions (source, pdf)\n",
       "regular_aggregates: Regular Aggregates (source, pdf)\n",
       "set_operations: Set Operations (source, pdf)\n",
       "sql-translation: Teradata SQL translation (source, pdf)\n",
       "time_series_aggregates: Time Series Aggregates (source, pdf)\n",
       "verbs: Introduction to dplyr verbs (source, pdf)"
      ]
     },
     "metadata": {},
     "output_type": "display_data"
    }
   ],
   "source": [
    "help(package='tdplyr')"
   ]
  },
  {
   "cell_type": "markdown",
   "metadata": {},
   "source": [
    "<p style = 'font-size:16px;font-family:Arial'>Then connect to Vantage LIVE. Please replace `qlid` with your Quicklook Id. Enter your password at the prompt.</p>"
   ]
  },
  {
   "cell_type": "code",
   "execution_count": 7,
   "metadata": {},
   "outputs": [
    {
     "name": "stdin",
     "output_type": "stream",
     "text": [
      " ········\n"
     ]
    },
    {
     "data": {
      "text/plain": [
       "<Teradata Native Driver Connection>\n",
       "  DEMO_USER@host.docker.internal\n",
       "  Database: DEMO_USER\n",
       "  Teradata Version: 17.20b.00.60\n",
       "<TeradataConnection Driver=17.20.0.0 Database=17.20b.00.60 Host=host.docker.internal uConnHandle=1>"
      ]
     },
     "metadata": {},
     "output_type": "display_data"
    }
   ],
   "source": [
    "con <- td_create_context(host = 'host.docker.internal', uid = 'demo_user', pwd = getPass(), dType = 'NATIVE')\n",
    "con"
   ]
  },
  {
   "cell_type": "markdown",
   "metadata": {},
   "source": [
    "<p style = 'font-size:16px;font-family:Arial'>Create a reference to the table TRNG_DataScienceExploration.HOUSE_PRICES in Vantage. \n",
    "The data stays in Vantage, only a reference is created in the R variable `df`.</p>"
   ]
  },
  {
   "cell_type": "code",
   "execution_count": 8,
   "metadata": {},
   "outputs": [],
   "source": [
    "df <- tbl(con, in_schema(\"TRNG_DataScienceExploration\",\"HOUSE_PRICES\"))"
   ]
  },
  {
   "cell_type": "markdown",
   "metadata": {},
   "source": [
    "<p style = 'font-size:16px;font-family:Arial'>Now, let's extract the first few rows.</p>"
   ]
  },
  {
   "cell_type": "code",
   "execution_count": 9,
   "metadata": {},
   "outputs": [
    {
     "data": {
      "text/plain": [
       "\u001b[90m# Source:   lazy query [?? x 21]\u001b[39m\n",
       "\u001b[90m# Database: Teradata\u001b[39m\n",
       "       id date        price bedrooms bathrooms sqft_living sqft_lot floors\n",
       "  \u001b[3m\u001b[90m<int64>\u001b[39m\u001b[23m \u001b[3m\u001b[90m<date>\u001b[39m\u001b[23m      \u001b[3m\u001b[90m<dbl>\u001b[39m\u001b[23m    \u001b[3m\u001b[90m<int>\u001b[39m\u001b[23m     \u001b[3m\u001b[90m<dbl>\u001b[39m\u001b[23m       \u001b[3m\u001b[90m<dbl>\u001b[39m\u001b[23m    \u001b[3m\u001b[90m<dbl>\u001b[39m\u001b[23m  \u001b[3m\u001b[90m<dbl>\u001b[39m\u001b[23m\n",
       "\u001b[90m1\u001b[39m   \u001b[4m6\u001b[24m\u001b[4m7\u001b[24m069 2014-11-19 \u001b[4m4\u001b[24m\u001b[4m2\u001b[24m\u001b[4m5\u001b[24m000        4      1.75        \u001b[4m1\u001b[24m980     \u001b[4m8\u001b[24m400      1\n",
       "\u001b[90m2\u001b[39m   \u001b[4m1\u001b[24m\u001b[4m2\u001b[24m072 2014-07-28 \u001b[4m4\u001b[24m\u001b[4m6\u001b[24m\u001b[4m9\u001b[24m775        2      1.75        \u001b[4m1\u001b[24m530     \u001b[4m7\u001b[24m020      1\n",
       "\u001b[90m3\u001b[39m   \u001b[4m1\u001b[24m\u001b[4m2\u001b[24m337 2014-08-05 \u001b[4m3\u001b[24m\u001b[4m1\u001b[24m\u001b[4m0\u001b[24m000        3      2.25        \u001b[4m1\u001b[24m960     \u001b[4m2\u001b[24m345      2\n",
       "\u001b[90m4\u001b[39m   \u001b[4m4\u001b[24m\u001b[4m4\u001b[24m332 2015-04-14 \u001b[4m2\u001b[24m\u001b[4m7\u001b[24m\u001b[4m8\u001b[24m000        3      2           \u001b[4m1\u001b[24m230     \u001b[4m7\u001b[24m789      1\n",
       "\u001b[90m5\u001b[39m   \u001b[4m \u001b[24m\u001b[4m2\u001b[24m814 2015-01-16 \u001b[4m6\u001b[24m\u001b[4m0\u001b[24m\u001b[4m5\u001b[24m000        3      3.25        \u001b[4m2\u001b[24m200     \u001b[4m2\u001b[24m400      2\n",
       "\u001b[90m6\u001b[39m   \u001b[4m7\u001b[24m\u001b[4m0\u001b[24m087 2014-07-22 \u001b[4m2\u001b[24m\u001b[4m0\u001b[24m\u001b[4m9\u001b[24m950        4      1           \u001b[4m1\u001b[24m630     \u001b[4m8\u001b[24m400      1\n",
       "\u001b[90m# … with 13 more variables: waterfront <int>, view <int>, condition <int>,\u001b[39m\n",
       "\u001b[90m#   grade <int>, sqft_above <dbl>, sqft_basement <dbl>, yr_built <int>,\u001b[39m\n",
       "\u001b[90m#   yr_renovated <int>, zipcode <chr>, lat <dbl>, long <dbl>,\u001b[39m\n",
       "\u001b[90m#   sqft_living15 <dbl>, sqft_lot15 <dbl>\u001b[39m"
      ]
     },
     "metadata": {},
     "output_type": "display_data"
    }
   ],
   "source": [
    "df %>% head()"
   ]
  },
  {
   "cell_type": "markdown",
   "metadata": {},
   "source": [
    "<p style = 'font-size:16px;font-family:Arial'>Perform an aggregation</p>"
   ]
  },
  {
   "cell_type": "code",
   "execution_count": 10,
   "metadata": {},
   "outputs": [
    {
     "name": "stderr",
     "output_type": "stream",
     "text": [
      "Warning message:\n",
      "“Missing values are always removed in SQL.\n",
      "Use `mean(x, na.rm = TRUE)` to silence this warning\n",
      "This warning is displayed only once per session.”\n"
     ]
    },
    {
     "data": {
      "text/plain": [
       "\u001b[90m# Source:   lazy query [?? x 3]\u001b[39m\n",
       "\u001b[90m# Database: Teradata\u001b[39m\n",
       "   bedrooms     mean       n\n",
       "      \u001b[3m\u001b[90m<int>\u001b[39m\u001b[23m    \u001b[3m\u001b[90m<dbl>\u001b[39m\u001b[23m \u001b[3m\u001b[90m<int64>\u001b[39m\u001b[23m\n",
       "\u001b[90m 1\u001b[39m        0  \u001b[4m3\u001b[24m\u001b[4m5\u001b[24m\u001b[4m9\u001b[24m465.   \u001b[4m \u001b[24m\u001b[4m \u001b[24m 55\n",
       "\u001b[90m 2\u001b[39m       11  \u001b[4m5\u001b[24m\u001b[4m2\u001b[24m\u001b[4m0\u001b[24m000    \u001b[4m \u001b[24m\u001b[4m \u001b[24m  8\n",
       "\u001b[90m 3\u001b[39m        9  \u001b[4m8\u001b[24m\u001b[4m1\u001b[24m\u001b[4m9\u001b[24m555.   \u001b[4m \u001b[24m\u001b[4m \u001b[24m 27\n",
       "\u001b[90m 4\u001b[39m       33  \u001b[4m6\u001b[24m\u001b[4m4\u001b[24m\u001b[4m0\u001b[24m000    \u001b[4m \u001b[24m\u001b[4m \u001b[24m  2\n",
       "\u001b[90m 5\u001b[39m        8 1\u001b[4m0\u001b[24m\u001b[4m1\u001b[24m\u001b[4m8\u001b[24m562.   \u001b[4m \u001b[24m\u001b[4m \u001b[24m 48\n",
       "\u001b[90m 6\u001b[39m        3  \u001b[4m4\u001b[24m\u001b[4m6\u001b[24m\u001b[4m6\u001b[24m396.   \u001b[4m3\u001b[24m\u001b[4m6\u001b[24m222\n",
       "\u001b[90m 7\u001b[39m        1  \u001b[4m3\u001b[24m\u001b[4m1\u001b[24m\u001b[4m7\u001b[24m503.   \u001b[4m \u001b[24m\u001b[4m \u001b[24m736\n",
       "\u001b[90m 8\u001b[39m        2  \u001b[4m3\u001b[24m\u001b[4m9\u001b[24m\u001b[4m9\u001b[24m480.   \u001b[4m1\u001b[24m\u001b[4m0\u001b[24m227\n",
       "\u001b[90m 9\u001b[39m       10  \u001b[4m8\u001b[24m\u001b[4m0\u001b[24m\u001b[4m2\u001b[24m400    \u001b[4m \u001b[24m\u001b[4m \u001b[24m 10\n",
       "\u001b[90m10\u001b[39m        6  \u001b[4m8\u001b[24m\u001b[4m0\u001b[24m\u001b[4m3\u001b[24m804.   \u001b[4m \u001b[24m\u001b[4m1\u001b[24m056\n",
       "\u001b[90m# … with more rows\u001b[39m"
      ]
     },
     "metadata": {},
     "output_type": "display_data"
    }
   ],
   "source": [
    "df %>% group_by(bedrooms) %>% summarize(mean = mean(price), n = n())"
   ]
  },
  {
   "cell_type": "code",
   "execution_count": 11,
   "metadata": {},
   "outputs": [],
   "source": [
    "td_remove_context()"
   ]
  },
  {
   "cell_type": "markdown",
   "metadata": {},
   "source": [
    "<footer style=\"padding:10px;background:#f9f9f9;border-bottom:3px solid #394851\">©2022 Teradata. All Rights Reserved</footer>"
   ]
  }
 ],
 "metadata": {
  "kernelspec": {
   "display_name": "R",
   "language": "R",
   "name": "ir"
  },
  "language_info": {
   "codemirror_mode": "r",
   "file_extension": ".r",
   "mimetype": "text/x-r-source",
   "name": "R",
   "pygments_lexer": "r",
   "version": "4.0.3"
  }
 },
 "nbformat": 4,
 "nbformat_minor": 4
}
