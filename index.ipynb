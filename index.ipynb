{
 "cells": [
  {
   "cell_type": "markdown",
   "metadata": {},
   "source": [
    "Available demos:\n",
    "* [Time Series Analysis of Consumer Complaints Using SQL and visualization](TimeSeriesAnalysis.ipynb)\n",
    "* [Accessing Deep History (Sales Data) using NOS and SQL](#)\n",
    "* [COVID Risk Modeling and Simulation with SQL and Python](#)\n",
    "* [Data Prep and Transformation at Scale with Python and Vantage](#)\n",
    "* [Geospatial and Temporal Analysis of NYC Taxi Data](#)\n",
    "* [Manufacturing Defect Analysis from Data Lake Object Storage with SQL](#)\n",
    "* [Money Mule Detection at Scale with Python and SQL](#)\n",
    "* [Sensor Data Analytics from Object Storage with SQL](#)\n",
    "* [VAL Descriptive Statistics and Transformation SQL functions](#)\n"
   ]
  }
 ],
 "metadata": {
  "language_info": {
   "name": "python"
  },
  "orig_nbformat": 4
 },
 "nbformat": 4,
 "nbformat_minor": 2
}
