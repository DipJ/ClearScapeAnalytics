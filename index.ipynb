{
 "cells": [
  {
   "cell_type": "markdown",
   "id": "detailed-desire",
   "metadata": {},
   "source": [
    "<b style = 'font-size:28px;font-family:Arial;color:#E37C4D'>Vantage Demonstrations via Jupyter</b><img id=Teradata-logo src=\"https://www.teradata.com/Teradata/Images/Rebrand/Teradata_logo-two_color.png\" alt=\"Teradata\" width=\"220\" align=\"right\" />\n",
    "\n",
    "These demonstrations will walk you through the industry-leading functionality of\n",
    "Vantage Analytics. This product can analyze data from cloud storage, ingest data from streaming services,\n",
    "import data for high performance tactical queries, and work seamlessly with cloud native analytics.\n",
    "\n",
    "If you haven't used Jupyter before, please check out the notebooks under 'Jupyter Usage'\n",
    "\n",
    "<b style = 'font-size:16px;font-family:Arial;color:#E37C4D'>Jupyter Usage</b>\n",
    "* [Basic Jupyter Usage](Menus/Basic_Jupyter_Usage.ipynb)\n",
    "* [Import/Export Notebooks](Menus/Import/Export_Notebooks.ipynb)\n",
    "* [Data Loading](Menus/Data_Loading.ipynb)\n",
    "* [Showing Result](Menus/Showing_Result.ipynb)\n",
    "* [Data Dictionary](UseCases/Data_Dictionary.ipynb)\n",
    "\n",
    "<b style = 'font-size:16px;font-family:Arial;color:#E37C4D'>Industry Demos</b>\n",
    "* [Communication](Menus/Communication.ipynb)\n",
    "* [Financial Services](Menus/Financial_Services.ipynb)\n",
    "* [Government](Menus/Government.ipynb)\n",
    "* [Healthcare](Menus/Healthcare.ipynb)\n",
    "* [Manufacturing](Menus/Manufacturing.ipynb)\n",
    "\n",
    "<b style = 'font-size:16px;font-family:Arial;color:#E37C4D'>Vantage Functions</b>\n",
    "* [Analytic Function](Menus/Analytic_Function.ipynb)\n",
    "* [Analytics Library](Menus/Analytics_Library.ipynb)\n",
    "* [4D Analytics](Menus/4D_Analytics.ipynb)\n",
    "* [Geospatial](Menus/Geospatial.ipynb)\n",
    "* [Machine Learning](Menus/Machine_Learning.ipynb)\n",
    "* [Native Object Store (NOS)](Menus/Native_Object_Store_(NOS).ipynb)\n",
    "* [Path Analysis](Menus/Path_Analysis.ipynb)\n",
    "* [Performance and Scalability](Menus/Performance_and_Scalability.ipynb)\n",
    "* [R/Python Script and Table Operators](Menus/R/Python_Script_and_Table_Operators.ipynb)\n",
    "* [Secure Zones](Menus/Secure_Zones.ipynb)\n",
    "* [TimeSeries](Menus/TimeSeries.ipynb)\n",
    "* [Temporal](Menus/Temporal.ipynb)\n",
    "\n",
    "Copyright © 2022 Teradata Corporation\n"
   ]
  },
  {
   "cell_type": "code",
   "execution_count": null,
   "id": "mature-singer",
   "metadata": {},
   "outputs": [],
   "source": []
  }
 ],
 "metadata": {
  "kernelspec": {
   "display_name": "Python 3",
   "language": "python",
   "name": "python3"
  },
  "language_info": {
   "codemirror_mode": {
    "name": "ipython",
    "version": 3
   },
   "file_extension": ".py",
   "mimetype": "text/x-python",
   "name": "python",
   "nbconvert_exporter": "python",
   "pygments_lexer": "ipython3",
   "version": "3.8.8"
  }
 },
 "nbformat": 4,
 "nbformat_minor": 5
}
