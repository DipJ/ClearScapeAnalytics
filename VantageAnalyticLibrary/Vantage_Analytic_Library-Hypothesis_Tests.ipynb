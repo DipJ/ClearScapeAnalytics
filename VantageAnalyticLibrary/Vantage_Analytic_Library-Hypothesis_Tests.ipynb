{
 "cells": [
  {
   "cell_type": "markdown",
   "metadata": {},
   "source": [
    "<header style=\"padding:10px;background:#f9f9f9;border-top:3px solid #00b2b1\"><img id=\"Teradata-logo\" src=\"https://www.teradata.com/Teradata/Images/Rebrand/Teradata_logo-two_color.png\" alt=\"Teradata\" width=\"220\" align=\"right\" />\n",
    "\n",
    "# Vantage Analytic Library Demo Notebook 2 \n",
    "\n",
    "</header>\n",
    "\n",
    "## Hypothesis Tests\n",
    "\n",
    "Statistical tests provide a means of testing whether the outcome of an experiment could have been accidental.  Numerous tests are provided in-database, all of the hypothesis testing variety.  These include the following 18 tests, categorized below, that are currently available in the Vantage Analytic Library XSP release 2.0.\n",
    "\n",
    "### Parametric Tests\n",
    "\n",
    "- Two Sample T-Test for Equal Means\n",
    "    - T Paired\n",
    "    - T Unpaired\n",
    "    - T Unpaired with Indicator\n",
    "- F-Test – N-Way\n",
    "- F-Test/Analysis of Variance (Two Way Unequal Sample Size)\n",
    "\n",
    "### Binomial Tests\n",
    "\n",
    "- Binomial/Ztest\n",
    "- Binomial Sign Test\n",
    "\n",
    "### Tests based on Contingency\n",
    "\n",
    "- Chi Square Test\n",
    "- Median Test\n",
    "\n",
    "### Kolmogorov/Smirnoff Tests\n",
    "    \n",
    "- Kolmogorov/Smirnoff Test (One Sample)\n",
    "- Lilliefors Test\n",
    "- Shapiro-Wilk Test\n",
    "- D’Agostino and Pearson Test\n",
    "- Smirnov Test\n",
    "\n",
    "### Rank Tests\n",
    "\n",
    "- Mann-Whitney/Kruskal-Wallis Test\n",
    "- Mann-Whitney/Kruskal-Wallis Independent Tests\n",
    "- Wilcoxon Signed Ranks Test\n",
    "- Frieman Test with Kendall’s Coefficient of Concordance & Spearman’s Rho\n",
    "\n",
    "In order to execute the Statistical Tests described in this book, the Statistical Test Metadata tables must be loaded into a database on the system to be analyzed.  These tables have been loaded into the TRNG_XSP database along with the other VAL XSP and Table Operators.  The Statistical Test functions all provide a parameter called statsdatabase that can be used to specify the database in which these tables are installed.\n",
    "\n",
    "## For access to the Vantage Analytic Library XSP on Transcend, please open a Service Hub incident @\n",
    "\n",
    ">- https://teradataservicehub.service-now.com/sp?id=index\n",
    ">- and begin the incident description with “This Incident is directed to the ‘IDW DBA Admin team.”\n",
    ">- Rest of the description: “Please grant the following users the role Training_TD_Warehouse_Miner_Exec_Role in tdprd2.\n",
    ">- Qlid_1\n",
    ">- Qlid_2\n",
    ">- Qlid_n “\n",
    "\n",
    "## Vantage Analytic Library - Call Structure\n",
    "\n",
    "call ${XSPDB}.td_analyze('\\<function name\\>','\\<database=database name\\>;\\<tablename=table name\\>;\\<columns=column1, column2\\>,'\\<param1\\>=\\<value1\\>;\\<param2\\>=\\<value2\\>...');"
   ]
  },
  {
   "cell_type": "markdown",
   "metadata": {},
   "source": [
    "---"
   ]
  },
  {
   "cell_type": "markdown",
   "metadata": {},
   "source": [
    "These notebooks are configured to run from within the Transcend AppCenter Jupyter instance.  You will sign on to Transcend Vantage systems (tdprd, tdprd2 or tdprd3 (AKA Vantage LIVE)) using your credentials.  First we setup variables that you will need to change as follows.\n",
    "\n",
    "1) First, setup the variable SystemName for the system to connect to.  In the Transcend environment, this will be one of the following:\n",
    "\n",
    "* NAME=Transcend-Production, USER=, HOST=tdprd.td.teradata.com, PROPS=\"logMech=LDAP,logmech=LDAP\"\n",
    "* NAME=Transcend-Production-AWS, USER=, HOST=tdprd2.td.teradata.com, PROPS=\"logMech=LDAP,logmech=LDAP\"\n",
    "* NAME=Vantage-LIVE, USER=, HOST=tdprd3.td.teradata.com, PROPS=\"logMech=LDAP,logmech=LDAP\"\n"
   ]
  },
  {
   "cell_type": "code",
   "execution_count": 1,
   "metadata": {},
   "outputs": [],
   "source": [
    "%var SystemName=local"
   ]
  },
  {
   "cell_type": "markdown",
   "metadata": {},
   "source": [
    "2) Next change QLID below to be equal to your QuickLook ID.  Your data lab will be the result database for all VAL calls where any output tables or views are created.  "
   ]
  },
  {
   "cell_type": "code",
   "execution_count": 2,
   "metadata": {},
   "outputs": [],
   "source": [
    "%var QLID=demo_user"
   ]
  },
  {
   "cell_type": "markdown",
   "metadata": {},
   "source": [
    "3) This next variable has been set for you to change, ONLY if you have installed the Vantage Analytic Library outside of the Transcend environment; if you are using this on Transcend, keep it set to TRNG_XSP.  This is where the software, statistical test tables and demo data are installed on both tdprd and tdprd2."
   ]
  },
  {
   "cell_type": "code",
   "execution_count": 3,
   "metadata": {},
   "outputs": [],
   "source": [
    "%var XSPDB=TRNG_XSP"
   ]
  },
  {
   "cell_type": "code",
   "execution_count": 4,
   "metadata": {},
   "outputs": [],
   "source": [
    "%var VALDB=val"
   ]
  },
  {
   "cell_type": "markdown",
   "metadata": {},
   "source": [
    "---"
   ]
  },
  {
   "cell_type": "markdown",
   "metadata": {},
   "source": [
    "Now, connect to the Transcend system you have specified in the variable \"SystemName\" above."
   ]
  },
  {
   "cell_type": "code",
   "execution_count": 5,
   "metadata": {},
   "outputs": [
    {
     "name": "stdin",
     "output_type": "stream",
     "text": [
      "Password: ········\n"
     ]
    },
    {
     "name": "stdout",
     "output_type": "stream",
     "text": [
      "Success: 'local' connection established and activated for user 'demo_user'\n"
     ]
    }
   ],
   "source": [
    "%connect ${SystemName}"
   ]
  },
  {
   "cell_type": "markdown",
   "metadata": {},
   "source": [
    "Change focus to the database specified by the variable \"XSPDB\" above."
   ]
  },
  {
   "cell_type": "code",
   "execution_count": 6,
   "metadata": {},
   "outputs": [
    {
     "data": {
      "text/plain": [
       "Success: 1 rows affected"
      ]
     },
     "execution_count": 6,
     "metadata": {
      "application/vnd.teradata.resultset": ""
     },
     "output_type": "execute_result"
    }
   ],
   "source": [
    "DATABASE ${XSPDB};"
   ]
  },
  {
   "cell_type": "markdown",
   "metadata": {},
   "source": [
    "### Demo data - Financial Customers/Accounts/Transactions\n",
    "\n",
    "The following data has beenn put into the ${XSPDB} database on Transcend for the examples in the three different Jupyter Notebooks.  Its a simplistic ficticiouss dataset of banking customers (10K-ish rows), Accounts (20K-ish rows) and Transactions (1M-ish rows).  They are related to each other in the following ways:\n",
    "\n",
    "![DemoDataModel](./img/DemoData.png)"
   ]
  },
  {
   "cell_type": "code",
   "execution_count": 7,
   "metadata": {
    "scrolled": true
   },
   "outputs": [
    {
     "data": {
      "application/vnd.teradata.resultset": "\"cust_id\",\"income\",\"age\",\"years_with_bank\",\"nbr_children\",\"gender\",\"marital_status\",\"postal_code\",\"state_code\"\n\"19081370\",\"22044.4\",\"31\",\"1\",\"4\",\"M\",\"2\",\"95137\",\"CA\"\n\"24539202\",\"34740.0\",\"59\",\"7\",\"3\",\"M\",\"2\",\"93769\",\"CA\"\n\"21807728\",\".0\",\"15\",\"10\",\"1\",\"M\",\"1\",\"60636\",\"IL\"\n\"16357920\",\"3895.1\",\"41\",\"11\",\"3\",\"F\",\"1\",\"90024\",\"CA\"\n\"16356924\",\".0\",\"18\",\"6\",\"3\",\"F\",\"1\",\"10171\",\"NY\"\n\"20444895\",\"31053.0\",\"35\",\"2\",\"3\",\"F\",\"3\",\"48206\",\"MI\"\n\"27261100\",\"68946.0\",\"52\",\"4\",\"1\",\"M\",\"2\",\"53277\",\"WI\"\n\"21812928\",\"70603.0\",\"22\",\"4\",\"2\",\"M\",\"2\",\"10260\",\"NY\"\n\"17722289\",\"51078.3\",\"54\",\"11\",\"3\",\"F\",\"4\",\"60666\",\"IL\"\n\"21814816\",\"96683.6\",\"36\",\"9\",\"1\",\"M\",\"1\",\"87137\",\"NM\"",
      "text/html": [
       "<div class = \"td-resultset-table-div\" style = \"max-height: 100%; overflow-y: auto\">\n",
       "      <table class=\"tdhistory92835\"><style>\n",
       "      table.tdhistory92835 { display: block !important; min-height: 294px !important; overflow: auto !important; height: 294px !important; width: 100% !important; border: 1px solid rgb(207, 207, 207) !important; border-collapse: collapse !important; ; color: var(--jp-ui-font-color1) !important; }\n",
       "      th.tdhistory92835 { border: 1px solid rgb(198,198,198) !important; border-collapse: collapse !important; ; padding: 2px 5px !important; ; font-size: 13px !important; ; text-align: center !important; white-space: normal !important; color: var(--jp-ui-font-color1) !important; }\n",
       "      th.tdhistory92835:last-child { text-align: left !important; }\n",
       "      tbody.tdhistory92835 tr:nth-child(even) { background: rgba(243, 243, 243, 0.75) !important; }\n",
       "      tbody.tdhistory92835 tr:nth-child(odd) { background: var(--jp-ui-inverse-font-color1) !important; }\n",
       "      td.tdhistory92835 { border: 1px solid rgb(207, 207, 207) !important; border-collapse: collapse !important; ; padding: 2px 5px !important; ; font-size: 13px !important; ; text-align: left !important;          white-space: nowrap !important; overflow:hidden !important; text-overflow:ellipsis !important;; }\n",
       "    </style><thead><tr style= \"background: rgba(243, 243, 243, 0.75)\"><th class=\"tdhistory92835\"></th><th class=\"tdhistory92835\">cust_id</th><th class=\"tdhistory92835\">income</th><th class=\"tdhistory92835\">age</th><th class=\"tdhistory92835\">years_with_bank</th><th class=\"tdhistory92835\">nbr_children</th><th class=\"tdhistory92835\">gender</th><th class=\"tdhistory92835\">marital_status</th><th class=\"tdhistory92835\">postal_code</th><th class=\"tdhistory92835\">state_code</th></tr></thead><tbody class=\"tdhistory92835 resultset-body\"><tr><th class=\"tdhistory92835\" style= \"background: rgba(243, 243, 243, 0.75)\">1</th><td class=\"tdhistory92835\">19081370</td><td class=\"tdhistory92835\">22044.4</td><td class=\"tdhistory92835\">31</td><td class=\"tdhistory92835\">1</td><td class=\"tdhistory92835\">4</td><td class=\"tdhistory92835\">M</td><td class=\"tdhistory92835\">2</td><td class=\"tdhistory92835\">95137</td><td class=\"tdhistory92835\">CA</td></tr><tr><th class=\"tdhistory92835\" style= \"background: rgba(243, 243, 243, 0.75)\">2</th><td class=\"tdhistory92835\">24539202</td><td class=\"tdhistory92835\">34740.0</td><td class=\"tdhistory92835\">59</td><td class=\"tdhistory92835\">7</td><td class=\"tdhistory92835\">3</td><td class=\"tdhistory92835\">M</td><td class=\"tdhistory92835\">2</td><td class=\"tdhistory92835\">93769</td><td class=\"tdhistory92835\">CA</td></tr><tr><th class=\"tdhistory92835\" style= \"background: rgba(243, 243, 243, 0.75)\">3</th><td class=\"tdhistory92835\">21807728</td><td class=\"tdhistory92835\">.0</td><td class=\"tdhistory92835\">15</td><td class=\"tdhistory92835\">10</td><td class=\"tdhistory92835\">1</td><td class=\"tdhistory92835\">M</td><td class=\"tdhistory92835\">1</td><td class=\"tdhistory92835\">60636</td><td class=\"tdhistory92835\">IL</td></tr><tr><th class=\"tdhistory92835\" style= \"background: rgba(243, 243, 243, 0.75)\">4</th><td class=\"tdhistory92835\">16357920</td><td class=\"tdhistory92835\">3895.1</td><td class=\"tdhistory92835\">41</td><td class=\"tdhistory92835\">11</td><td class=\"tdhistory92835\">3</td><td class=\"tdhistory92835\">F</td><td class=\"tdhistory92835\">1</td><td class=\"tdhistory92835\">90024</td><td class=\"tdhistory92835\">CA</td></tr><tr><th class=\"tdhistory92835\" style= \"background: rgba(243, 243, 243, 0.75)\">5</th><td class=\"tdhistory92835\">16356924</td><td class=\"tdhistory92835\">.0</td><td class=\"tdhistory92835\">18</td><td class=\"tdhistory92835\">6</td><td class=\"tdhistory92835\">3</td><td class=\"tdhistory92835\">F</td><td class=\"tdhistory92835\">1</td><td class=\"tdhistory92835\">10171</td><td class=\"tdhistory92835\">NY</td></tr><tr><th class=\"tdhistory92835\" style= \"background: rgba(243, 243, 243, 0.75)\">6</th><td class=\"tdhistory92835\">20444895</td><td class=\"tdhistory92835\">31053.0</td><td class=\"tdhistory92835\">35</td><td class=\"tdhistory92835\">2</td><td class=\"tdhistory92835\">3</td><td class=\"tdhistory92835\">F</td><td class=\"tdhistory92835\">3</td><td class=\"tdhistory92835\">48206</td><td class=\"tdhistory92835\">MI</td></tr><tr><th class=\"tdhistory92835\" style= \"background: rgba(243, 243, 243, 0.75)\">7</th><td class=\"tdhistory92835\">27261100</td><td class=\"tdhistory92835\">68946.0</td><td class=\"tdhistory92835\">52</td><td class=\"tdhistory92835\">4</td><td class=\"tdhistory92835\">1</td><td class=\"tdhistory92835\">M</td><td class=\"tdhistory92835\">2</td><td class=\"tdhistory92835\">53277</td><td class=\"tdhistory92835\">WI</td></tr><tr><th class=\"tdhistory92835\" style= \"background: rgba(243, 243, 243, 0.75)\">8</th><td class=\"tdhistory92835\">21812928</td><td class=\"tdhistory92835\">70603.0</td><td class=\"tdhistory92835\">22</td><td class=\"tdhistory92835\">4</td><td class=\"tdhistory92835\">2</td><td class=\"tdhistory92835\">M</td><td class=\"tdhistory92835\">2</td><td class=\"tdhistory92835\">10260</td><td class=\"tdhistory92835\">NY</td></tr><tr><th class=\"tdhistory92835\" style= \"background: rgba(243, 243, 243, 0.75)\">9</th><td class=\"tdhistory92835\">17722289</td><td class=\"tdhistory92835\">51078.3</td><td class=\"tdhistory92835\">54</td><td class=\"tdhistory92835\">11</td><td class=\"tdhistory92835\">3</td><td class=\"tdhistory92835\">F</td><td class=\"tdhistory92835\">4</td><td class=\"tdhistory92835\">60666</td><td class=\"tdhistory92835\">IL</td></tr><tr><th class=\"tdhistory92835\" style= \"background: rgba(243, 243, 243, 0.75)\">10</th><td class=\"tdhistory92835\">21814816</td><td class=\"tdhistory92835\">96683.6</td><td class=\"tdhistory92835\">36</td><td class=\"tdhistory92835\">9</td><td class=\"tdhistory92835\">1</td><td class=\"tdhistory92835\">M</td><td class=\"tdhistory92835\">1</td><td class=\"tdhistory92835\">87137</td><td class=\"tdhistory92835\">NM</td></tr></tbody></table></div>"
      ]
     },
     "execution_count": 7,
     "metadata": {
      "application/vnd.teradata.resultset": "{\"resultSetID\":\"/home/jovyan/JupyterLabRoot/Teradata/Resultsets/2022.07.04_11.35.57.354_UTC\",\"historyID\":852,\"chunkID\":\"00001\",\"sessionid\":\"\",\"portnum\":\"\",\"dockermode\":\"docker\",\"totalRowCount\":10,\"chunkCount\":0,\"rowLimit\":0,\"columnMetadata\":[{\"columnName\":\"cust_id\",\"columnTypeName\":\"INTEGER\"},{\"columnNumber\":1,\"columnName\":\"income\",\"columnTypeName\":\"DECIMAL\",\"length\":1,\"precision\":15,\"scale\":1},{\"columnNumber\":2,\"columnName\":\"age\",\"columnTypeName\":\"INTEGER\"},{\"columnNumber\":3,\"columnName\":\"years_with_bank\",\"columnTypeName\":\"INTEGER\"},{\"columnNumber\":4,\"columnName\":\"nbr_children\",\"columnTypeName\":\"INTEGER\"},{\"columnNumber\":5,\"columnName\":\"gender\",\"columnTypeName\":\"VARCHAR\",\"length\":1,\"scale\":1},{\"columnNumber\":6,\"columnName\":\"marital_status\",\"columnTypeName\":\"VARCHAR\",\"length\":1,\"scale\":1},{\"columnNumber\":7,\"columnName\":\"postal_code\",\"columnTypeName\":\"VARCHAR\",\"length\":5,\"scale\":5},{\"columnNumber\":8,\"columnName\":\"state_code\",\"columnTypeName\":\"VARCHAR\",\"length\":2,\"scale\":2}]}"
     },
     "output_type": "execute_result"
    }
   ],
   "source": [
    "SELECT * FROM ${XSPDB}.Customer SAMPLE 10;"
   ]
  },
  {
   "cell_type": "code",
   "execution_count": 8,
   "metadata": {},
   "outputs": [
    {
     "name": "stdout",
     "output_type": "stream",
     "text": [
      "Result Set ID: /home/jovyan/JupyterLabRoot/Teradata/Resultsets/2022.07.04_11.35.57.354_UTC\n",
      "History ID:    852\n",
      "Rows:          10 of 10\n",
      "Parts:         2\n",
      "Column Definitions:\n",
      "    cust_id: INTEGER\n",
      "    income: DECIMAL(15, 1)\n",
      "    age: INTEGER\n",
      "    years_with_bank: INTEGER\n",
      "    nbr_children: INTEGER\n",
      "    gender: VARCHAR(1)\n",
      "    marital_status: VARCHAR(1)\n",
      "    postal_code: VARCHAR(5)\n",
      "    state_code: VARCHAR(2)\n"
     ]
    }
   ],
   "source": [
    "%meta"
   ]
  },
  {
   "cell_type": "code",
   "execution_count": 9,
   "metadata": {},
   "outputs": [
    {
     "data": {
      "application/vnd.teradata.resultset": "\"acct_nbr\",\"cust_id\",\"acct_type\",\"account_active\",\"acct_start_date\",\"starting_balance\",\"ending_balance\"\n\"000000001362858221\",\"28620018\",\"CK\",\"Y\",\"1995-06-15\",\"799.240\",\"546.990\"\n\"000000001363097221\",\"28625037\",\"CK\",\"Y\",\"1994-11-07\",\"241.020\",\"-14.940\"\n\"000000001363176319\",\"25900344\",\"SV\",\"Y\",\"1994-11-29\",\"788.805\",\"397.017\"\n\"456114321362714410\",\"13627140\",\"CC\",\"Y\",\"1990-11-05\",\"333.051\",\"2057.805\"\n\"000000001363307221\",\"28629447\",\"CK\",\"Y\",\"1993-12-25\",\"2784.730\",\"273.270\"\n\"456114321362619422\",\"29977618\",\"CC\",\"Y\",\"1994-04-05\",\"4253.370\",\".000\"\n\"000000001363267213\",\"17722471\",\"CK\",\"Y\",\"1992-04-30\",\"6642.656\",\"1366.410\"\n\"000000001363334221\",\"28630014\",\"CK\",\"Y\",\"1993-04-30\",\"171.980\",\"-40.780\"\n\"456114321363164420\",\"27263280\",\"CC\",\"Y\",\"1988-11-05\",\"3288.609\",\"8520.000\"\n\"000000001363257322\",\"29991654\",\"SV\",\"Y\",\"1993-09-08\",\"300.531\",\"11007.997\"",
      "text/html": [
       "<div class = \"td-resultset-table-div\" style = \"max-height: 100%; overflow-y: auto\">\n",
       "      <table class=\"tdhistory853257\"><style>\n",
       "      table.tdhistory853257 { display: block !important; min-height: 294px !important; overflow: auto !important; height: 294px !important; width: 100% !important; border: 1px solid rgb(207, 207, 207) !important; border-collapse: collapse !important; ; color: var(--jp-ui-font-color1) !important; }\n",
       "      th.tdhistory853257 { border: 1px solid rgb(198,198,198) !important; border-collapse: collapse !important; ; padding: 2px 5px !important; ; font-size: 13px !important; ; text-align: center !important; white-space: normal !important; color: var(--jp-ui-font-color1) !important; }\n",
       "      th.tdhistory853257:last-child { text-align: left !important; }\n",
       "      tbody.tdhistory853257 tr:nth-child(even) { background: rgba(243, 243, 243, 0.75) !important; }\n",
       "      tbody.tdhistory853257 tr:nth-child(odd) { background: var(--jp-ui-inverse-font-color1) !important; }\n",
       "      td.tdhistory853257 { border: 1px solid rgb(207, 207, 207) !important; border-collapse: collapse !important; ; padding: 2px 5px !important; ; font-size: 13px !important; ; text-align: left !important;          white-space: nowrap !important; overflow:hidden !important; text-overflow:ellipsis !important;; }\n",
       "    </style><thead><tr style= \"background: rgba(243, 243, 243, 0.75)\"><th class=\"tdhistory853257\"></th><th class=\"tdhistory853257\">acct_nbr</th><th class=\"tdhistory853257\">cust_id</th><th class=\"tdhistory853257\">acct_type</th><th class=\"tdhistory853257\">account_active</th><th class=\"tdhistory853257\">acct_start_date</th><th class=\"tdhistory853257\">starting_balance</th><th class=\"tdhistory853257\">ending_balance</th></tr></thead><tbody class=\"tdhistory853257 resultset-body\"><tr><th class=\"tdhistory853257\" style= \"background: rgba(243, 243, 243, 0.75)\">1</th><td class=\"tdhistory853257\">000000001362858221</td><td class=\"tdhistory853257\">28620018</td><td class=\"tdhistory853257\">CK</td><td class=\"tdhistory853257\">Y</td><td class=\"tdhistory853257\">1995-06-15</td><td class=\"tdhistory853257\">799.240</td><td class=\"tdhistory853257\">546.990</td></tr><tr><th class=\"tdhistory853257\" style= \"background: rgba(243, 243, 243, 0.75)\">2</th><td class=\"tdhistory853257\">000000001363097221</td><td class=\"tdhistory853257\">28625037</td><td class=\"tdhistory853257\">CK</td><td class=\"tdhistory853257\">Y</td><td class=\"tdhistory853257\">1994-11-07</td><td class=\"tdhistory853257\">241.020</td><td class=\"tdhistory853257\">-14.940</td></tr><tr><th class=\"tdhistory853257\" style= \"background: rgba(243, 243, 243, 0.75)\">3</th><td class=\"tdhistory853257\">000000001363176319</td><td class=\"tdhistory853257\">25900344</td><td class=\"tdhistory853257\">SV</td><td class=\"tdhistory853257\">Y</td><td class=\"tdhistory853257\">1994-11-29</td><td class=\"tdhistory853257\">788.805</td><td class=\"tdhistory853257\">397.017</td></tr><tr><th class=\"tdhistory853257\" style= \"background: rgba(243, 243, 243, 0.75)\">4</th><td class=\"tdhistory853257\">456114321362714410</td><td class=\"tdhistory853257\">13627140</td><td class=\"tdhistory853257\">CC</td><td class=\"tdhistory853257\">Y</td><td class=\"tdhistory853257\">1990-11-05</td><td class=\"tdhistory853257\">333.051</td><td class=\"tdhistory853257\">2057.805</td></tr><tr><th class=\"tdhistory853257\" style= \"background: rgba(243, 243, 243, 0.75)\">5</th><td class=\"tdhistory853257\">000000001363307221</td><td class=\"tdhistory853257\">28629447</td><td class=\"tdhistory853257\">CK</td><td class=\"tdhistory853257\">Y</td><td class=\"tdhistory853257\">1993-12-25</td><td class=\"tdhistory853257\">2784.730</td><td class=\"tdhistory853257\">273.270</td></tr><tr><th class=\"tdhistory853257\" style= \"background: rgba(243, 243, 243, 0.75)\">6</th><td class=\"tdhistory853257\">456114321362619422</td><td class=\"tdhistory853257\">29977618</td><td class=\"tdhistory853257\">CC</td><td class=\"tdhistory853257\">Y</td><td class=\"tdhistory853257\">1994-04-05</td><td class=\"tdhistory853257\">4253.370</td><td class=\"tdhistory853257\">.000</td></tr><tr><th class=\"tdhistory853257\" style= \"background: rgba(243, 243, 243, 0.75)\">7</th><td class=\"tdhistory853257\">000000001363267213</td><td class=\"tdhistory853257\">17722471</td><td class=\"tdhistory853257\">CK</td><td class=\"tdhistory853257\">Y</td><td class=\"tdhistory853257\">1992-04-30</td><td class=\"tdhistory853257\">6642.656</td><td class=\"tdhistory853257\">1366.410</td></tr><tr><th class=\"tdhistory853257\" style= \"background: rgba(243, 243, 243, 0.75)\">8</th><td class=\"tdhistory853257\">000000001363334221</td><td class=\"tdhistory853257\">28630014</td><td class=\"tdhistory853257\">CK</td><td class=\"tdhistory853257\">Y</td><td class=\"tdhistory853257\">1993-04-30</td><td class=\"tdhistory853257\">171.980</td><td class=\"tdhistory853257\">-40.780</td></tr><tr><th class=\"tdhistory853257\" style= \"background: rgba(243, 243, 243, 0.75)\">9</th><td class=\"tdhistory853257\">456114321363164420</td><td class=\"tdhistory853257\">27263280</td><td class=\"tdhistory853257\">CC</td><td class=\"tdhistory853257\">Y</td><td class=\"tdhistory853257\">1988-11-05</td><td class=\"tdhistory853257\">3288.609</td><td class=\"tdhistory853257\">8520.000</td></tr><tr><th class=\"tdhistory853257\" style= \"background: rgba(243, 243, 243, 0.75)\">10</th><td class=\"tdhistory853257\">000000001363257322</td><td class=\"tdhistory853257\">29991654</td><td class=\"tdhistory853257\">SV</td><td class=\"tdhistory853257\">Y</td><td class=\"tdhistory853257\">1993-09-08</td><td class=\"tdhistory853257\">300.531</td><td class=\"tdhistory853257\">11007.997</td></tr></tbody></table></div>"
      ]
     },
     "execution_count": 9,
     "metadata": {
      "application/vnd.teradata.resultset": "{\"resultSetID\":\"/home/jovyan/JupyterLabRoot/Teradata/Resultsets/2022.07.04_11.35.57.438_UTC\",\"historyID\":853,\"chunkID\":\"00001\",\"sessionid\":\"\",\"portnum\":\"\",\"dockermode\":\"docker\",\"totalRowCount\":10,\"chunkCount\":0,\"rowLimit\":0,\"columnMetadata\":[{\"columnName\":\"acct_nbr\",\"columnTypeName\":\"VARCHAR\",\"length\":18,\"scale\":18},{\"columnNumber\":1,\"columnName\":\"cust_id\",\"columnTypeName\":\"INTEGER\"},{\"columnNumber\":2,\"columnName\":\"acct_type\",\"columnTypeName\":\"VARCHAR\",\"length\":2,\"scale\":2},{\"columnNumber\":3,\"columnName\":\"account_active\",\"columnTypeName\":\"VARCHAR\",\"length\":1,\"scale\":1},{\"columnNumber\":4,\"columnName\":\"acct_start_date\",\"columnTypeName\":\"DATE\"},{\"columnNumber\":5,\"columnName\":\"starting_balance\",\"columnTypeName\":\"DECIMAL\",\"length\":3,\"precision\":11,\"scale\":3},{\"columnNumber\":6,\"columnName\":\"ending_balance\",\"columnTypeName\":\"DECIMAL\",\"length\":3,\"precision\":11,\"scale\":3}]}"
     },
     "output_type": "execute_result"
    }
   ],
   "source": [
    "SELECT * FROM ${XSPDB}.Accounts SAMPLE 10;"
   ]
  },
  {
   "cell_type": "code",
   "execution_count": 10,
   "metadata": {},
   "outputs": [
    {
     "name": "stdout",
     "output_type": "stream",
     "text": [
      "Result Set ID: /home/jovyan/JupyterLabRoot/Teradata/Resultsets/2022.07.04_11.35.57.438_UTC\n",
      "History ID:    853\n",
      "Rows:          10 of 10\n",
      "Parts:         2\n",
      "Column Definitions:\n",
      "    acct_nbr: VARCHAR(18)\n",
      "    cust_id: INTEGER\n",
      "    acct_type: VARCHAR(2)\n",
      "    account_active: VARCHAR(1)\n",
      "    acct_start_date: DATE\n",
      "    starting_balance: DECIMAL(11, 3)\n",
      "    ending_balance: DECIMAL(11, 3)\n"
     ]
    }
   ],
   "source": [
    "%meta"
   ]
  },
  {
   "cell_type": "code",
   "execution_count": 11,
   "metadata": {},
   "outputs": [
    {
     "data": {
      "application/vnd.teradata.resultset": "\"tran_id\",\"acct_nbr\",\"tran_amt\",\"principal_amt\",\"interest_amt\",\"new_balance\",\"tran_date\",\"tran_time\",\"channel\",\"tran_code\"\n\"1092\",\"000000001362633221\",\"281.46\",\"290.46\",\".000\",\"2707.57\",\"1995-01-31\",\"0\",\"M\",\"DP\"\n\"42\",\"000000001362905214\",\"-10.00\",\"-2.30\",\".760\",\"2695.01\",\"1995-02-28\",\"235959\",\"\",\"FP\"\n\"247\",\"000000001363337319\",\"1563.74\",\"1641.74\",\".000\",\"7853.03\",\"1995-04-09\",\"144306\",\"B\",\"DP\"\n\"1480\",\"000000001363283220\",\"219.61\",\"928.95\",\"4.000\",\"323.48\",\"1995-09-11\",\"0\",\"M\",\"DP\"\n\"990\",\"000000001363145218\",\".00\",\".00\",\".000\",\"27.36\",\"1995-02-24\",\"113047\",\"V\",\"IQ\"\n\"1312\",\"000000001363296216\",\".00\",\"10.00\",\".000\",\"8.72\",\"1995-02-17\",\"52516\",\"C\",\"IQ\"\n\"608\",\"456114321362687416\",\"-120.00\",\"-110.00\",\".000\",\"-321.97\",\"1995-12-22\",\"125629\",\"A\",\"CA\"\n\"330\",\"456114321362610415\",\"-140.17\",\"-700.85\",\"5.000\",\"-164.77\",\"1995-05-31\",\"91012\",\"E\",\"CG\"\n\"1288\",\"456114321363291423\",\"-65.77\",\"-65.77\",\".000\",\"-4652.99\",\"1995-12-13\",\"235730\",\"E\",\"CG\"\n\"143\",\"000000001362489311\",\"144.41\",\"1732.92\",\".000\",\"758.39\",\"1995-06-12\",\"93937\",\"B\",\"DP\"",
      "text/html": [
       "<div class = \"td-resultset-table-div\" style = \"max-height: 100%; overflow-y: auto\">\n",
       "      <table class=\"tdhistory404904\"><style>\n",
       "      table.tdhistory404904 { display: block !important; min-height: 294px !important; overflow: auto !important; height: 294px !important; width: 100% !important; border: 1px solid rgb(207, 207, 207) !important; border-collapse: collapse !important; ; color: var(--jp-ui-font-color1) !important; }\n",
       "      th.tdhistory404904 { border: 1px solid rgb(198,198,198) !important; border-collapse: collapse !important; ; padding: 2px 5px !important; ; font-size: 13px !important; ; text-align: center !important; white-space: normal !important; color: var(--jp-ui-font-color1) !important; }\n",
       "      th.tdhistory404904:last-child { text-align: left !important; }\n",
       "      tbody.tdhistory404904 tr:nth-child(even) { background: rgba(243, 243, 243, 0.75) !important; }\n",
       "      tbody.tdhistory404904 tr:nth-child(odd) { background: var(--jp-ui-inverse-font-color1) !important; }\n",
       "      td.tdhistory404904 { border: 1px solid rgb(207, 207, 207) !important; border-collapse: collapse !important; ; padding: 2px 5px !important; ; font-size: 13px !important; ; text-align: left !important;          white-space: nowrap !important; overflow:hidden !important; text-overflow:ellipsis !important;; }\n",
       "    </style><thead><tr style= \"background: rgba(243, 243, 243, 0.75)\"><th class=\"tdhistory404904\"></th><th class=\"tdhistory404904\">tran_id</th><th class=\"tdhistory404904\">acct_nbr</th><th class=\"tdhistory404904\">tran_amt</th><th class=\"tdhistory404904\">principal_amt</th><th class=\"tdhistory404904\">interest_amt</th><th class=\"tdhistory404904\">new_balance</th><th class=\"tdhistory404904\">tran_date</th><th class=\"tdhistory404904\">tran_time</th><th class=\"tdhistory404904\">channel</th><th class=\"tdhistory404904\">tran_code</th></tr></thead><tbody class=\"tdhistory404904 resultset-body\"><tr><th class=\"tdhistory404904\" style= \"background: rgba(243, 243, 243, 0.75)\">1</th><td class=\"tdhistory404904\">1092</td><td class=\"tdhistory404904\">000000001362633221</td><td class=\"tdhistory404904\">281.46</td><td class=\"tdhistory404904\">290.46</td><td class=\"tdhistory404904\">.000</td><td class=\"tdhistory404904\">2707.57</td><td class=\"tdhistory404904\">1995-01-31</td><td class=\"tdhistory404904\">0</td><td class=\"tdhistory404904\">M</td><td class=\"tdhistory404904\">DP</td></tr><tr><th class=\"tdhistory404904\" style= \"background: rgba(243, 243, 243, 0.75)\">2</th><td class=\"tdhistory404904\">42</td><td class=\"tdhistory404904\">000000001362905214</td><td class=\"tdhistory404904\">-10.00</td><td class=\"tdhistory404904\">-2.30</td><td class=\"tdhistory404904\">.760</td><td class=\"tdhistory404904\">2695.01</td><td class=\"tdhistory404904\">1995-02-28</td><td class=\"tdhistory404904\">235959</td><td class=\"tdhistory404904\"></td><td class=\"tdhistory404904\">FP</td></tr><tr><th class=\"tdhistory404904\" style= \"background: rgba(243, 243, 243, 0.75)\">3</th><td class=\"tdhistory404904\">247</td><td class=\"tdhistory404904\">000000001363337319</td><td class=\"tdhistory404904\">1563.74</td><td class=\"tdhistory404904\">1641.74</td><td class=\"tdhistory404904\">.000</td><td class=\"tdhistory404904\">7853.03</td><td class=\"tdhistory404904\">1995-04-09</td><td class=\"tdhistory404904\">144306</td><td class=\"tdhistory404904\">B</td><td class=\"tdhistory404904\">DP</td></tr><tr><th class=\"tdhistory404904\" style= \"background: rgba(243, 243, 243, 0.75)\">4</th><td class=\"tdhistory404904\">1480</td><td class=\"tdhistory404904\">000000001363283220</td><td class=\"tdhistory404904\">219.61</td><td class=\"tdhistory404904\">928.95</td><td class=\"tdhistory404904\">4.000</td><td class=\"tdhistory404904\">323.48</td><td class=\"tdhistory404904\">1995-09-11</td><td class=\"tdhistory404904\">0</td><td class=\"tdhistory404904\">M</td><td class=\"tdhistory404904\">DP</td></tr><tr><th class=\"tdhistory404904\" style= \"background: rgba(243, 243, 243, 0.75)\">5</th><td class=\"tdhistory404904\">990</td><td class=\"tdhistory404904\">000000001363145218</td><td class=\"tdhistory404904\">.00</td><td class=\"tdhistory404904\">.00</td><td class=\"tdhistory404904\">.000</td><td class=\"tdhistory404904\">27.36</td><td class=\"tdhistory404904\">1995-02-24</td><td class=\"tdhistory404904\">113047</td><td class=\"tdhistory404904\">V</td><td class=\"tdhistory404904\">IQ</td></tr><tr><th class=\"tdhistory404904\" style= \"background: rgba(243, 243, 243, 0.75)\">6</th><td class=\"tdhistory404904\">1312</td><td class=\"tdhistory404904\">000000001363296216</td><td class=\"tdhistory404904\">.00</td><td class=\"tdhistory404904\">10.00</td><td class=\"tdhistory404904\">.000</td><td class=\"tdhistory404904\">8.72</td><td class=\"tdhistory404904\">1995-02-17</td><td class=\"tdhistory404904\">52516</td><td class=\"tdhistory404904\">C</td><td class=\"tdhistory404904\">IQ</td></tr><tr><th class=\"tdhistory404904\" style= \"background: rgba(243, 243, 243, 0.75)\">7</th><td class=\"tdhistory404904\">608</td><td class=\"tdhistory404904\">456114321362687416</td><td class=\"tdhistory404904\">-120.00</td><td class=\"tdhistory404904\">-110.00</td><td class=\"tdhistory404904\">.000</td><td class=\"tdhistory404904\">-321.97</td><td class=\"tdhistory404904\">1995-12-22</td><td class=\"tdhistory404904\">125629</td><td class=\"tdhistory404904\">A</td><td class=\"tdhistory404904\">CA</td></tr><tr><th class=\"tdhistory404904\" style= \"background: rgba(243, 243, 243, 0.75)\">8</th><td class=\"tdhistory404904\">330</td><td class=\"tdhistory404904\">456114321362610415</td><td class=\"tdhistory404904\">-140.17</td><td class=\"tdhistory404904\">-700.85</td><td class=\"tdhistory404904\">5.000</td><td class=\"tdhistory404904\">-164.77</td><td class=\"tdhistory404904\">1995-05-31</td><td class=\"tdhistory404904\">91012</td><td class=\"tdhistory404904\">E</td><td class=\"tdhistory404904\">CG</td></tr><tr><th class=\"tdhistory404904\" style= \"background: rgba(243, 243, 243, 0.75)\">9</th><td class=\"tdhistory404904\">1288</td><td class=\"tdhistory404904\">456114321363291423</td><td class=\"tdhistory404904\">-65.77</td><td class=\"tdhistory404904\">-65.77</td><td class=\"tdhistory404904\">.000</td><td class=\"tdhistory404904\">-4652.99</td><td class=\"tdhistory404904\">1995-12-13</td><td class=\"tdhistory404904\">235730</td><td class=\"tdhistory404904\">E</td><td class=\"tdhistory404904\">CG</td></tr><tr><th class=\"tdhistory404904\" style= \"background: rgba(243, 243, 243, 0.75)\">10</th><td class=\"tdhistory404904\">143</td><td class=\"tdhistory404904\">000000001362489311</td><td class=\"tdhistory404904\">144.41</td><td class=\"tdhistory404904\">1732.92</td><td class=\"tdhistory404904\">.000</td><td class=\"tdhistory404904\">758.39</td><td class=\"tdhistory404904\">1995-06-12</td><td class=\"tdhistory404904\">93937</td><td class=\"tdhistory404904\">B</td><td class=\"tdhistory404904\">DP</td></tr></tbody></table></div>"
      ]
     },
     "execution_count": 11,
     "metadata": {
      "application/vnd.teradata.resultset": "{\"resultSetID\":\"/home/jovyan/JupyterLabRoot/Teradata/Resultsets/2022.07.04_11.36.07.337_UTC\",\"historyID\":854,\"chunkID\":\"00001\",\"sessionid\":\"\",\"portnum\":\"\",\"dockermode\":\"docker\",\"totalRowCount\":10,\"chunkCount\":0,\"rowLimit\":0,\"columnMetadata\":[{\"columnName\":\"tran_id\",\"columnTypeName\":\"INTEGER\"},{\"columnNumber\":1,\"columnName\":\"acct_nbr\",\"columnTypeName\":\"VARCHAR\",\"length\":18,\"scale\":18},{\"columnNumber\":2,\"columnName\":\"tran_amt\",\"columnTypeName\":\"DECIMAL\",\"length\":2,\"precision\":9,\"scale\":2},{\"columnNumber\":3,\"columnName\":\"principal_amt\",\"columnTypeName\":\"DECIMAL\",\"length\":2,\"precision\":15,\"scale\":2},{\"columnNumber\":4,\"columnName\":\"interest_amt\",\"columnTypeName\":\"DECIMAL\",\"length\":3,\"precision\":11,\"scale\":3},{\"columnNumber\":5,\"columnName\":\"new_balance\",\"columnTypeName\":\"DECIMAL\",\"length\":2,\"precision\":9,\"scale\":2},{\"columnNumber\":6,\"columnName\":\"tran_date\",\"columnTypeName\":\"DATE\"},{\"columnNumber\":7,\"columnName\":\"tran_time\",\"columnTypeName\":\"INTEGER\"},{\"columnNumber\":8,\"columnName\":\"channel\",\"columnTypeName\":\"VARCHAR\",\"length\":1,\"scale\":1},{\"columnNumber\":9,\"columnName\":\"tran_code\",\"columnTypeName\":\"VARCHAR\",\"length\":2,\"scale\":2}]}"
     },
     "output_type": "execute_result"
    }
   ],
   "source": [
    "SELECT * FROM ${XSPDB}.Transactions SAMPLE 10;"
   ]
  },
  {
   "cell_type": "code",
   "execution_count": 12,
   "metadata": {},
   "outputs": [
    {
     "name": "stdout",
     "output_type": "stream",
     "text": [
      "Result Set ID: /home/jovyan/JupyterLabRoot/Teradata/Resultsets/2022.07.04_11.36.07.337_UTC\n",
      "History ID:    854\n",
      "Rows:          10 of 10\n",
      "Parts:         2\n",
      "Column Definitions:\n",
      "    tran_id: INTEGER\n",
      "    acct_nbr: VARCHAR(18)\n",
      "    tran_amt: DECIMAL(9, 2)\n",
      "    principal_amt: DECIMAL(15, 2)\n",
      "    interest_amt: DECIMAL(11, 3)\n",
      "    new_balance: DECIMAL(9, 2)\n",
      "    tran_date: DATE\n",
      "    tran_time: INTEGER\n",
      "    channel: VARCHAR(1)\n",
      "    tran_code: VARCHAR(2)\n"
     ]
    }
   ],
   "source": [
    "%meta"
   ]
  },
  {
   "cell_type": "markdown",
   "metadata": {},
   "source": [
    "---"
   ]
  },
  {
   "cell_type": "markdown",
   "metadata": {},
   "source": [
    "The following Analytic Data Set (ADS) was created by joining all three tables above:"
   ]
  },
  {
   "cell_type": "code",
   "execution_count": 13,
   "metadata": {},
   "outputs": [
    {
     "data": {
      "text/plain": [
       "Success: 0 rows affected"
      ]
     },
     "execution_count": 13,
     "metadata": {
      "application/vnd.teradata.resultset": ""
     },
     "output_type": "execute_result"
    }
   ],
   "source": [
    "CREATE TABLE ${QLID}.VAL_ADS AS (\n",
    "    SELECT \n",
    "        T1.cust_id  AS cust_id\n",
    "       ,MIN(T1.income) AS tot_income\n",
    "       ,MIN(T1.age) AS tot_age\n",
    "       ,MIN(T1.years_with_bank) AS tot_cust_years\n",
    "       ,MIN(T1.nbr_children) AS tot_children\n",
    "       ,CASE WHEN MIN(T1.marital_status) = 1 THEN 1 ELSE 0 END AS single_ind\n",
    "       ,CASE WHEN MIN(T1.gender) = 'F' THEN 1 ELSE 0 END AS female_ind\n",
    "       ,CASE WHEN MIN(T1.marital_status) = 2 THEN 1 ELSE 0 END AS married_ind\n",
    "       ,CASE WHEN MIN(T1.marital_status) = 3 THEN 1 ELSE 0 END AS separated_ind\n",
    "       ,MAX(CASE WHEN T1.state_code = 'CA' THEN 1 ELSE 0 END) AS ca_resident_ind\n",
    "       ,MAX(CASE WHEN T1.state_code = 'NY' THEN 1 ELSE 0 END) AS ny_resident_ind\n",
    "       ,MAX(CASE WHEN T1.state_code = 'TX' THEN 1 ELSE 0 END) AS tx_resident_ind\n",
    "       ,MAX(CASE WHEN T1.state_code = 'IL' THEN 1 ELSE 0 END) AS il_resident_ind\n",
    "       ,MAX(CASE WHEN T1.state_code = 'AZ' THEN 1 ELSE 0 END) AS az_resident_ind\n",
    "       ,MAX(CASE WHEN T1.state_code = 'OH' THEN 1 ELSE 0 END) AS oh_resident_ind\n",
    "       ,MAX(CASE WHEN T2.acct_type = 'CK' THEN 1 ELSE 0 END) AS ck_acct_ind\n",
    "       ,MAX(CASE WHEN T2.acct_type = 'SV' THEN 1 ELSE 0 END) AS sv_acct_ind\n",
    "       ,MAX(CASE WHEN T2.acct_type = 'CC' THEN 1 ELSE 0 END) AS cc_acct_ind\n",
    "       ,AVG(CASE WHEN T2.acct_type = 'CK' THEN T2.starting_balance+T2.ending_balance ELSE 0 END) AS ck_avg_bal\n",
    "       ,AVG(CASE WHEN T2.acct_type = 'SV' THEN T2.starting_balance+T2.ending_balance ELSE 0 END) AS sv_avg_bal\n",
    "       ,AVG(CASE WHEN T2.acct_type = 'CC' THEN T2.starting_balance+T2.ending_balance ELSE 0 END) AS cc_avg_bal\n",
    "       ,AVG(CASE WHEN T2.acct_type = 'CK' THEN T3.principal_amt+T3.interest_amt ELSE 0 END) AS ck_avg_tran_amt\n",
    "       ,AVG(CASE WHEN T2.acct_type = 'SV' THEN T3.principal_amt+T3.interest_amt ELSE 0 END) AS sv_avg_tran_amt\n",
    "       ,AVG(CASE WHEN T2.acct_type = 'CC' THEN T3.principal_amt+T3.interest_amt ELSE 0 END) AS cc_avg_tran_amt\n",
    "       ,COUNT(CASE WHEN ((EXTRACT(MONTH FROM T3.tran_date) + 2) / 3) = 1 THEN T3.tran_id ELSE NULL END) AS q1_trans_cnt\n",
    "       ,COUNT(CASE WHEN ((EXTRACT(MONTH FROM T3.tran_date) + 2) / 3) = 2 THEN T3.tran_id ELSE NULL END) AS q2_trans_cnt\n",
    "       ,COUNT(CASE WHEN ((EXTRACT(MONTH FROM T3.tran_date) + 2) / 3) = 3 THEN T3.tran_id ELSE NULL END) AS q3_trans_cnt\n",
    "       ,COUNT(CASE WHEN ((EXTRACT(MONTH FROM T3.tran_date) + 2) / 3) = 4 THEN T3.tran_id ELSE NULL END) AS q4_trans_cnt\n",
    "    FROM ${XSPDB}.Customer AS T1\n",
    "        LEFT OUTER JOIN ${XSPDB}.Accounts AS T2\n",
    "            ON T1.cust_id = T2.cust_id\n",
    "        LEFT OUTER JOIN ${XSPDB}.Transactions AS T3\n",
    "            ON T2.acct_nbr = T3.acct_nbr\n",
    "GROUP BY T1.cust_id) WITH DATA UNIQUE PRIMARY INDEX (cust_id);"
   ]
  },
  {
   "cell_type": "code",
   "execution_count": 14,
   "metadata": {},
   "outputs": [
    {
     "data": {
      "application/vnd.teradata.resultset": "\"cust_id\",\"tot_income\",\"tot_age\",\"tot_cust_years\",\"tot_children\",\"single_ind\",\"female_ind\",\"married_ind\",\"separated_ind\",\"ca_resident_ind\",\"ny_resident_ind\",\"tx_resident_ind\",\"il_resident_ind\",\"az_resident_ind\",\"oh_resident_ind\",\"ck_acct_ind\",\"sv_acct_ind\",\"cc_acct_ind\",\"ck_avg_bal\",\"sv_avg_bal\",\"cc_avg_bal\",\"ck_avg_tran_amt\",\"sv_avg_tran_amt\",\"cc_avg_tran_amt\",\"q1_trans_cnt\",\"q2_trans_cnt\",\"q3_trans_cnt\",\"q4_trans_cnt\"\n\"19086788\",\"45780.0\",\"54\",\"4\",\"2\",\"0\",\"1\",\"0\",\"0\",\"0\",\"0\",\"1\",\"0\",\"0\",\"0\",\"1\",\"1\",\"1\",\"160.1507142857143\",\"139.11872727272728\",\"2602.8511948051946\",\"0.11701298701298701\",\"-0.029047619047619048\",\"-0.226017316017316\",\"128\",\"43\",\"27\",\"33\"\n\"25905132\",\"1577.2\",\"87\",\"4\",\"0\",\"1\",\"0\",\"0\",\"0\",\"0\",\"0\",\"0\",\"0\",\"0\",\"0\",\"1\",\"0\",\"0\",\"6005.146\",\"0\",\"0\",\"69.21111111111111\",\"0\",\"0\",\"99\",\"0\",\"0\",\"0\"\n\"16350156\",\"5892.2\",\"35\",\"5\",\"5\",\"0\",\"1\",\"0\",\"0\",\"0\",\"1\",\"0\",\"0\",\"0\",\"0\",\"1\",\"1\",\"0\",\"1015.09875\",\"490.17028125\",\"0\",\"14.47734375\",\"-0.97078125\",\"0\",\"7\",\"7\",\"6\",\"44\"\n\"14996487\",\"19993.6\",\"70\",\"10\",\"2\",\"0\",\"1\",\"0\",\"0\",\"0\",\"0\",\"0\",\"0\",\"1\",\"0\",\"1\",\"1\",\"1\",\"1157.5959401709401\",\"129.5548717948718\",\"955.8457435897436\",\"-1.1312820512820514\",\"0.02123076923076923\",\"75.85587179487179\",\"33\",\"23\",\"25\",\"36\"\n\"13626110\",\"24115.0\",\"49\",\"9\",\"2\",\"0\",\"1\",\"1\",\"0\",\"0\",\"0\",\"1\",\"0\",\"0\",\"0\",\"1\",\"0\",\"1\",\"100.66234782608696\",\"0\",\"5078.246608695652\",\"-0.32608695652173914\",\"0\",\"511.9894782608696\",\"16\",\"13\",\"5\",\"12\"\n\"14995915\",\"27327.3\",\"63\",\"3\",\"2\",\"0\",\"0\",\"1\",\"0\",\"0\",\"1\",\"0\",\"0\",\"0\",\"0\",\"1\",\"1\",\"1\",\"5848.010005813953\",\"639.2252267441861\",\"189.6186046511628\",\"-174.94723255813955\",\"48.88852325581395\",\"-9.287441860465115\",\"6\",\"11\",\"32\",\"123\"\n\"13633400\",\".0\",\"14\",\"6\",\"1\",\"1\",\"0\",\"0\",\"0\",\"1\",\"0\",\"0\",\"0\",\"0\",\"0\",\"0\",\"0\",\"0\",\"0\",\"0\",\"0\",\"0\",\"0\",\"0\",\"0\",\"0\",\"0\",\"0\"\n\"21809936\",\".0\",\"14\",\"9\",\"1\",\"1\",\"0\",\"0\",\"0\",\"0\",\"0\",\"0\",\"0\",\"0\",\"0\",\"0\",\"1\",\"0\",\"0\",\"517.654\",\"0\",\"0\",\"10.195\",\"0\",\"3\",\"3\",\"3\",\"3\"\n\"19083806\",\"14602.0\",\"27\",\"6\",\"1\",\"1\",\"1\",\"0\",\"0\",\"0\",\"1\",\"0\",\"0\",\"0\",\"0\",\"1\",\"0\",\"1\",\"3336.525818181818\",\"0\",\"250.04036363636362\",\"-4.090661157024793\",\"0\",\"-0.3718181818181818\",\"6\",\"13\",\"54\",\"48\"\n\"27268260\",\"18292.0\",\"80\",\"2\",\"0\",\"0\",\"0\",\"0\",\"0\",\"0\",\"0\",\"0\",\"0\",\"0\",\"0\",\"1\",\"0\",\"0\",\"1914.064\",\"0\",\"0\",\"3.5757575757575757\",\"0\",\"0\",\"0\",\"13\",\"67\",\"19\"",
      "text/html": [
       "<div class = \"td-resultset-table-div\" style = \"max-height: 100%; overflow-y: auto\">\n",
       "      <table class=\"tdhistory575580\"><style>\n",
       "      table.tdhistory575580 { display: block !important; min-height: 294px !important; overflow: auto !important; height: 294px !important; width: 100% !important; border: 1px solid rgb(207, 207, 207) !important; border-collapse: collapse !important; ; color: var(--jp-ui-font-color1) !important; }\n",
       "      th.tdhistory575580 { border: 1px solid rgb(198,198,198) !important; border-collapse: collapse !important; ; padding: 2px 5px !important; ; font-size: 13px !important; ; text-align: center !important; white-space: normal !important; color: var(--jp-ui-font-color1) !important; }\n",
       "      th.tdhistory575580:last-child { text-align: left !important; }\n",
       "      tbody.tdhistory575580 tr:nth-child(even) { background: rgba(243, 243, 243, 0.75) !important; }\n",
       "      tbody.tdhistory575580 tr:nth-child(odd) { background: var(--jp-ui-inverse-font-color1) !important; }\n",
       "      td.tdhistory575580 { border: 1px solid rgb(207, 207, 207) !important; border-collapse: collapse !important; ; padding: 2px 5px !important; ; font-size: 13px !important; ; text-align: left !important;          white-space: nowrap !important; overflow:hidden !important; text-overflow:ellipsis !important;; }\n",
       "    </style><thead><tr style= \"background: rgba(243, 243, 243, 0.75)\"><th class=\"tdhistory575580\"></th><th class=\"tdhistory575580\">cust_id</th><th class=\"tdhistory575580\">tot_income</th><th class=\"tdhistory575580\">tot_age</th><th class=\"tdhistory575580\">tot_cust_years</th><th class=\"tdhistory575580\">tot_children</th><th class=\"tdhistory575580\">single_ind</th><th class=\"tdhistory575580\">female_ind</th><th class=\"tdhistory575580\">married_ind</th><th class=\"tdhistory575580\">separated_ind</th><th class=\"tdhistory575580\">ca_resident_ind</th><th class=\"tdhistory575580\">ny_resident_ind</th><th class=\"tdhistory575580\">tx_resident_ind</th><th class=\"tdhistory575580\">il_resident_ind</th><th class=\"tdhistory575580\">az_resident_ind</th><th class=\"tdhistory575580\">oh_resident_ind</th><th class=\"tdhistory575580\">ck_acct_ind</th><th class=\"tdhistory575580\">sv_acct_ind</th><th class=\"tdhistory575580\">cc_acct_ind</th><th class=\"tdhistory575580\">ck_avg_bal</th><th class=\"tdhistory575580\">sv_avg_bal</th><th class=\"tdhistory575580\">cc_avg_bal</th><th class=\"tdhistory575580\">ck_avg_tran_amt</th><th class=\"tdhistory575580\">sv_avg_tran_amt</th><th class=\"tdhistory575580\">cc_avg_tran_amt</th><th class=\"tdhistory575580\">q1_trans_cnt</th><th class=\"tdhistory575580\">q2_trans_cnt</th><th class=\"tdhistory575580\">q3_trans_cnt</th><th class=\"tdhistory575580\">q4_trans_cnt</th></tr></thead><tbody class=\"tdhistory575580 resultset-body\"><tr><th class=\"tdhistory575580\" style= \"background: rgba(243, 243, 243, 0.75)\">1</th><td class=\"tdhistory575580\">19086788</td><td class=\"tdhistory575580\">45780.0</td><td class=\"tdhistory575580\">54</td><td class=\"tdhistory575580\">4</td><td class=\"tdhistory575580\">2</td><td class=\"tdhistory575580\">0</td><td class=\"tdhistory575580\">1</td><td class=\"tdhistory575580\">0</td><td class=\"tdhistory575580\">0</td><td class=\"tdhistory575580\">0</td><td class=\"tdhistory575580\">0</td><td class=\"tdhistory575580\">1</td><td class=\"tdhistory575580\">0</td><td class=\"tdhistory575580\">0</td><td class=\"tdhistory575580\">0</td><td class=\"tdhistory575580\">1</td><td class=\"tdhistory575580\">1</td><td class=\"tdhistory575580\">1</td><td class=\"tdhistory575580\">160.1507142857143</td><td class=\"tdhistory575580\">139.11872727272728</td><td class=\"tdhistory575580\">2602.8511948051946</td><td class=\"tdhistory575580\">0.11701298701298701</td><td class=\"tdhistory575580\">-0.029047619047619048</td><td class=\"tdhistory575580\">-0.226017316017316</td><td class=\"tdhistory575580\">128</td><td class=\"tdhistory575580\">43</td><td class=\"tdhistory575580\">27</td><td class=\"tdhistory575580\">33</td></tr><tr><th class=\"tdhistory575580\" style= \"background: rgba(243, 243, 243, 0.75)\">2</th><td class=\"tdhistory575580\">25905132</td><td class=\"tdhistory575580\">1577.2</td><td class=\"tdhistory575580\">87</td><td class=\"tdhistory575580\">4</td><td class=\"tdhistory575580\">0</td><td class=\"tdhistory575580\">1</td><td class=\"tdhistory575580\">0</td><td class=\"tdhistory575580\">0</td><td class=\"tdhistory575580\">0</td><td class=\"tdhistory575580\">0</td><td class=\"tdhistory575580\">0</td><td class=\"tdhistory575580\">0</td><td class=\"tdhistory575580\">0</td><td class=\"tdhistory575580\">0</td><td class=\"tdhistory575580\">0</td><td class=\"tdhistory575580\">1</td><td class=\"tdhistory575580\">0</td><td class=\"tdhistory575580\">0</td><td class=\"tdhistory575580\">6005.146</td><td class=\"tdhistory575580\">0</td><td class=\"tdhistory575580\">0</td><td class=\"tdhistory575580\">69.21111111111111</td><td class=\"tdhistory575580\">0</td><td class=\"tdhistory575580\">0</td><td class=\"tdhistory575580\">99</td><td class=\"tdhistory575580\">0</td><td class=\"tdhistory575580\">0</td><td class=\"tdhistory575580\">0</td></tr><tr><th class=\"tdhistory575580\" style= \"background: rgba(243, 243, 243, 0.75)\">3</th><td class=\"tdhistory575580\">16350156</td><td class=\"tdhistory575580\">5892.2</td><td class=\"tdhistory575580\">35</td><td class=\"tdhistory575580\">5</td><td class=\"tdhistory575580\">5</td><td class=\"tdhistory575580\">0</td><td class=\"tdhistory575580\">1</td><td class=\"tdhistory575580\">0</td><td class=\"tdhistory575580\">0</td><td class=\"tdhistory575580\">0</td><td class=\"tdhistory575580\">1</td><td class=\"tdhistory575580\">0</td><td class=\"tdhistory575580\">0</td><td class=\"tdhistory575580\">0</td><td class=\"tdhistory575580\">0</td><td class=\"tdhistory575580\">1</td><td class=\"tdhistory575580\">1</td><td class=\"tdhistory575580\">0</td><td class=\"tdhistory575580\">1015.09875</td><td class=\"tdhistory575580\">490.17028125</td><td class=\"tdhistory575580\">0</td><td class=\"tdhistory575580\">14.47734375</td><td class=\"tdhistory575580\">-0.97078125</td><td class=\"tdhistory575580\">0</td><td class=\"tdhistory575580\">7</td><td class=\"tdhistory575580\">7</td><td class=\"tdhistory575580\">6</td><td class=\"tdhistory575580\">44</td></tr><tr><th class=\"tdhistory575580\" style= \"background: rgba(243, 243, 243, 0.75)\">4</th><td class=\"tdhistory575580\">14996487</td><td class=\"tdhistory575580\">19993.6</td><td class=\"tdhistory575580\">70</td><td class=\"tdhistory575580\">10</td><td class=\"tdhistory575580\">2</td><td class=\"tdhistory575580\">0</td><td class=\"tdhistory575580\">1</td><td class=\"tdhistory575580\">0</td><td class=\"tdhistory575580\">0</td><td class=\"tdhistory575580\">0</td><td class=\"tdhistory575580\">0</td><td class=\"tdhistory575580\">0</td><td class=\"tdhistory575580\">0</td><td class=\"tdhistory575580\">1</td><td class=\"tdhistory575580\">0</td><td class=\"tdhistory575580\">1</td><td class=\"tdhistory575580\">1</td><td class=\"tdhistory575580\">1</td><td class=\"tdhistory575580\">1157.5959401709401</td><td class=\"tdhistory575580\">129.5548717948718</td><td class=\"tdhistory575580\">955.8457435897436</td><td class=\"tdhistory575580\">-1.1312820512820514</td><td class=\"tdhistory575580\">0.02123076923076923</td><td class=\"tdhistory575580\">75.85587179487179</td><td class=\"tdhistory575580\">33</td><td class=\"tdhistory575580\">23</td><td class=\"tdhistory575580\">25</td><td class=\"tdhistory575580\">36</td></tr><tr><th class=\"tdhistory575580\" style= \"background: rgba(243, 243, 243, 0.75)\">5</th><td class=\"tdhistory575580\">13626110</td><td class=\"tdhistory575580\">24115.0</td><td class=\"tdhistory575580\">49</td><td class=\"tdhistory575580\">9</td><td class=\"tdhistory575580\">2</td><td class=\"tdhistory575580\">0</td><td class=\"tdhistory575580\">1</td><td class=\"tdhistory575580\">1</td><td class=\"tdhistory575580\">0</td><td class=\"tdhistory575580\">0</td><td class=\"tdhistory575580\">0</td><td class=\"tdhistory575580\">1</td><td class=\"tdhistory575580\">0</td><td class=\"tdhistory575580\">0</td><td class=\"tdhistory575580\">0</td><td class=\"tdhistory575580\">1</td><td class=\"tdhistory575580\">0</td><td class=\"tdhistory575580\">1</td><td class=\"tdhistory575580\">100.66234782608696</td><td class=\"tdhistory575580\">0</td><td class=\"tdhistory575580\">5078.246608695652</td><td class=\"tdhistory575580\">-0.32608695652173914</td><td class=\"tdhistory575580\">0</td><td class=\"tdhistory575580\">511.9894782608696</td><td class=\"tdhistory575580\">16</td><td class=\"tdhistory575580\">13</td><td class=\"tdhistory575580\">5</td><td class=\"tdhistory575580\">12</td></tr><tr><th class=\"tdhistory575580\" style= \"background: rgba(243, 243, 243, 0.75)\">6</th><td class=\"tdhistory575580\">14995915</td><td class=\"tdhistory575580\">27327.3</td><td class=\"tdhistory575580\">63</td><td class=\"tdhistory575580\">3</td><td class=\"tdhistory575580\">2</td><td class=\"tdhistory575580\">0</td><td class=\"tdhistory575580\">0</td><td class=\"tdhistory575580\">1</td><td class=\"tdhistory575580\">0</td><td class=\"tdhistory575580\">0</td><td class=\"tdhistory575580\">1</td><td class=\"tdhistory575580\">0</td><td class=\"tdhistory575580\">0</td><td class=\"tdhistory575580\">0</td><td class=\"tdhistory575580\">0</td><td class=\"tdhistory575580\">1</td><td class=\"tdhistory575580\">1</td><td class=\"tdhistory575580\">1</td><td class=\"tdhistory575580\">5848.010005813953</td><td class=\"tdhistory575580\">639.2252267441861</td><td class=\"tdhistory575580\">189.6186046511628</td><td class=\"tdhistory575580\">-174.94723255813955</td><td class=\"tdhistory575580\">48.88852325581395</td><td class=\"tdhistory575580\">-9.287441860465115</td><td class=\"tdhistory575580\">6</td><td class=\"tdhistory575580\">11</td><td class=\"tdhistory575580\">32</td><td class=\"tdhistory575580\">123</td></tr><tr><th class=\"tdhistory575580\" style= \"background: rgba(243, 243, 243, 0.75)\">7</th><td class=\"tdhistory575580\">13633400</td><td class=\"tdhistory575580\">.0</td><td class=\"tdhistory575580\">14</td><td class=\"tdhistory575580\">6</td><td class=\"tdhistory575580\">1</td><td class=\"tdhistory575580\">1</td><td class=\"tdhistory575580\">0</td><td class=\"tdhistory575580\">0</td><td class=\"tdhistory575580\">0</td><td class=\"tdhistory575580\">1</td><td class=\"tdhistory575580\">0</td><td class=\"tdhistory575580\">0</td><td class=\"tdhistory575580\">0</td><td class=\"tdhistory575580\">0</td><td class=\"tdhistory575580\">0</td><td class=\"tdhistory575580\">0</td><td class=\"tdhistory575580\">0</td><td class=\"tdhistory575580\">0</td><td class=\"tdhistory575580\">0</td><td class=\"tdhistory575580\">0</td><td class=\"tdhistory575580\">0</td><td class=\"tdhistory575580\">0</td><td class=\"tdhistory575580\">0</td><td class=\"tdhistory575580\">0</td><td class=\"tdhistory575580\">0</td><td class=\"tdhistory575580\">0</td><td class=\"tdhistory575580\">0</td><td class=\"tdhistory575580\">0</td></tr><tr><th class=\"tdhistory575580\" style= \"background: rgba(243, 243, 243, 0.75)\">8</th><td class=\"tdhistory575580\">21809936</td><td class=\"tdhistory575580\">.0</td><td class=\"tdhistory575580\">14</td><td class=\"tdhistory575580\">9</td><td class=\"tdhistory575580\">1</td><td class=\"tdhistory575580\">1</td><td class=\"tdhistory575580\">0</td><td class=\"tdhistory575580\">0</td><td class=\"tdhistory575580\">0</td><td class=\"tdhistory575580\">0</td><td class=\"tdhistory575580\">0</td><td class=\"tdhistory575580\">0</td><td class=\"tdhistory575580\">0</td><td class=\"tdhistory575580\">0</td><td class=\"tdhistory575580\">0</td><td class=\"tdhistory575580\">0</td><td class=\"tdhistory575580\">1</td><td class=\"tdhistory575580\">0</td><td class=\"tdhistory575580\">0</td><td class=\"tdhistory575580\">517.654</td><td class=\"tdhistory575580\">0</td><td class=\"tdhistory575580\">0</td><td class=\"tdhistory575580\">10.195</td><td class=\"tdhistory575580\">0</td><td class=\"tdhistory575580\">3</td><td class=\"tdhistory575580\">3</td><td class=\"tdhistory575580\">3</td><td class=\"tdhistory575580\">3</td></tr><tr><th class=\"tdhistory575580\" style= \"background: rgba(243, 243, 243, 0.75)\">9</th><td class=\"tdhistory575580\">19083806</td><td class=\"tdhistory575580\">14602.0</td><td class=\"tdhistory575580\">27</td><td class=\"tdhistory575580\">6</td><td class=\"tdhistory575580\">1</td><td class=\"tdhistory575580\">1</td><td class=\"tdhistory575580\">1</td><td class=\"tdhistory575580\">0</td><td class=\"tdhistory575580\">0</td><td class=\"tdhistory575580\">0</td><td class=\"tdhistory575580\">1</td><td class=\"tdhistory575580\">0</td><td class=\"tdhistory575580\">0</td><td class=\"tdhistory575580\">0</td><td class=\"tdhistory575580\">0</td><td class=\"tdhistory575580\">1</td><td class=\"tdhistory575580\">0</td><td class=\"tdhistory575580\">1</td><td class=\"tdhistory575580\">3336.525818181818</td><td class=\"tdhistory575580\">0</td><td class=\"tdhistory575580\">250.04036363636362</td><td class=\"tdhistory575580\">-4.090661157024793</td><td class=\"tdhistory575580\">0</td><td class=\"tdhistory575580\">-0.3718181818181818</td><td class=\"tdhistory575580\">6</td><td class=\"tdhistory575580\">13</td><td class=\"tdhistory575580\">54</td><td class=\"tdhistory575580\">48</td></tr><tr><th class=\"tdhistory575580\" style= \"background: rgba(243, 243, 243, 0.75)\">10</th><td class=\"tdhistory575580\">27268260</td><td class=\"tdhistory575580\">18292.0</td><td class=\"tdhistory575580\">80</td><td class=\"tdhistory575580\">2</td><td class=\"tdhistory575580\">0</td><td class=\"tdhistory575580\">0</td><td class=\"tdhistory575580\">0</td><td class=\"tdhistory575580\">0</td><td class=\"tdhistory575580\">0</td><td class=\"tdhistory575580\">0</td><td class=\"tdhistory575580\">0</td><td class=\"tdhistory575580\">0</td><td class=\"tdhistory575580\">0</td><td class=\"tdhistory575580\">0</td><td class=\"tdhistory575580\">0</td><td class=\"tdhistory575580\">1</td><td class=\"tdhistory575580\">0</td><td class=\"tdhistory575580\">0</td><td class=\"tdhistory575580\">1914.064</td><td class=\"tdhistory575580\">0</td><td class=\"tdhistory575580\">0</td><td class=\"tdhistory575580\">3.5757575757575757</td><td class=\"tdhistory575580\">0</td><td class=\"tdhistory575580\">0</td><td class=\"tdhistory575580\">0</td><td class=\"tdhistory575580\">13</td><td class=\"tdhistory575580\">67</td><td class=\"tdhistory575580\">19</td></tr></tbody></table></div>"
      ]
     },
     "execution_count": 14,
     "metadata": {
      "application/vnd.teradata.resultset": "{\"resultSetID\":\"/home/jovyan/JupyterLabRoot/Teradata/Resultsets/2022.07.04_11.36.27.942_UTC\",\"historyID\":856,\"chunkID\":\"00001\",\"sessionid\":\"\",\"portnum\":\"\",\"dockermode\":\"docker\",\"totalRowCount\":10,\"chunkCount\":0,\"rowLimit\":0,\"columnMetadata\":[{\"columnName\":\"cust_id\",\"columnTypeName\":\"INTEGER\"},{\"columnNumber\":1,\"columnName\":\"tot_income\",\"columnTypeName\":\"DECIMAL\",\"length\":1,\"precision\":15,\"scale\":1},{\"columnNumber\":2,\"columnName\":\"tot_age\",\"columnTypeName\":\"INTEGER\"},{\"columnNumber\":3,\"columnName\":\"tot_cust_years\",\"columnTypeName\":\"INTEGER\"},{\"columnNumber\":4,\"columnName\":\"tot_children\",\"columnTypeName\":\"INTEGER\"},{\"columnNumber\":5,\"columnName\":\"single_ind\",\"columnTypeName\":\"BYTEINT\"},{\"columnNumber\":6,\"columnName\":\"female_ind\",\"columnTypeName\":\"BYTEINT\"},{\"columnNumber\":7,\"columnName\":\"married_ind\",\"columnTypeName\":\"BYTEINT\"},{\"columnNumber\":8,\"columnName\":\"separated_ind\",\"columnTypeName\":\"BYTEINT\"},{\"columnNumber\":9,\"columnName\":\"ca_resident_ind\",\"columnTypeName\":\"BYTEINT\"},{\"columnNumber\":10,\"columnName\":\"ny_resident_ind\",\"columnTypeName\":\"BYTEINT\"},{\"columnNumber\":11,\"columnName\":\"tx_resident_ind\",\"columnTypeName\":\"BYTEINT\"},{\"columnNumber\":12,\"columnName\":\"il_resident_ind\",\"columnTypeName\":\"BYTEINT\"},{\"columnNumber\":13,\"columnName\":\"az_resident_ind\",\"columnTypeName\":\"BYTEINT\"},{\"columnNumber\":14,\"columnName\":\"oh_resident_ind\",\"columnTypeName\":\"BYTEINT\"},{\"columnNumber\":15,\"columnName\":\"ck_acct_ind\",\"columnTypeName\":\"BYTEINT\"},{\"columnNumber\":16,\"columnName\":\"sv_acct_ind\",\"columnTypeName\":\"BYTEINT\"},{\"columnNumber\":17,\"columnName\":\"cc_acct_ind\",\"columnTypeName\":\"BYTEINT\"},{\"columnNumber\":18,\"columnName\":\"ck_avg_bal\",\"columnTypeName\":\"FLOAT\"},{\"columnNumber\":19,\"columnName\":\"sv_avg_bal\",\"columnTypeName\":\"FLOAT\"},{\"columnNumber\":20,\"columnName\":\"cc_avg_bal\",\"columnTypeName\":\"FLOAT\"},{\"columnNumber\":21,\"columnName\":\"ck_avg_tran_amt\",\"columnTypeName\":\"FLOAT\"},{\"columnNumber\":22,\"columnName\":\"sv_avg_tran_amt\",\"columnTypeName\":\"FLOAT\"},{\"columnNumber\":23,\"columnName\":\"cc_avg_tran_amt\",\"columnTypeName\":\"FLOAT\"},{\"columnNumber\":24,\"columnName\":\"q1_trans_cnt\",\"columnTypeName\":\"INTEGER\"},{\"columnNumber\":25,\"columnName\":\"q2_trans_cnt\",\"columnTypeName\":\"INTEGER\"},{\"columnNumber\":26,\"columnName\":\"q3_trans_cnt\",\"columnTypeName\":\"INTEGER\"},{\"columnNumber\":27,\"columnName\":\"q4_trans_cnt\",\"columnTypeName\":\"INTEGER\"}]}"
     },
     "output_type": "execute_result"
    }
   ],
   "source": [
    "SELECT * FROM ${QLID}.VAL_ADS SAMPLE 10;"
   ]
  },
  {
   "cell_type": "markdown",
   "metadata": {},
   "source": [
    "## Statistical Tests\n",
    "\n",
    "### Binomial Tests\n",
    "\n",
    "#### Purpose\n",
    "In a binomial test there are assumed to be n independent trials, each with two possible outcomes, each of equal probability.  You may choose to perform a binomial test, in which the sign of the difference between a first and second column is analyzed, or a sign test, in which the sign of a single column is analyzed.  In a binomial test, you may choose to use a probability different from the 0.5 default value, whereas in a sign test, the binomial probability is fixed at 0.5.\n",
    "\n",
    "#### Required Parameters\n",
    "\n",
    "- **binomialtest**\n",
    "\n",
    "    The binomialtest parameter:\n",
    "    - Is required\n",
    "    - Must be the first parameter\n",
    "    - Is always enclosed in single quotes\n",
    "\n",
    "\n",
    "- **database**\n",
    "\n",
    "    The database containing the table to analyze.\n",
    "\n",
    "- **firstcolumn**\n",
    "\n",
    "    The column to analyze. It must reside in the table indicated by the tablename parameter\n",
    "\n",
    "- **tablename**\n",
    "\n",
    "    The table containing the columns to analyze.  It must reside in the database indicated by the database parameter.\n",
    "\n",
    "#### Optional Parameters\n",
    "\n",
    "- **binomialprobability**\n",
    "\n",
    "    You may optionally change the binomial probability or allow it to default to 0.5.  This parameter may not be used for a sign test.\n",
    "\n",
    "- **exactmatches**\n",
    "\n",
    "    This parameter determines what category to place exact matches in.  If zero, exact match is discarded.  If positive, match is placed with values greater than or equal to zero.  If negative or parameter not specified (default), match is placed with values less than or equal to zero.  Note that the exactmatches parameter is not allowed if this is a sign test.\n",
    "\n",
    "- **fallback**\n",
    "\n",
    "    When true, FALLBACK is requested as an attribute of the created output results table.  When false or parameter not specified, the FALLBACK attribute is not included in the create table SQL.\n",
    "\n",
    "- **gensqlonly**\n",
    "\n",
    "    When true, the SQL for the requested function is returned as a result set but not run. When not specified or set to false, the SQL is run but not returned.\n",
    "\n",
    "- **groupby**\n",
    "\n",
    "    One or more group-by columns may optionally be specified so that a separate result is produced for each value or combination of values in the specified column or columns.\n",
    "\n",
    "- **multiset**\n",
    "\n",
    "    When true, MULTISET is requested as an attribute of the created output results table.  When false or parameter not specified, the MULTISET attribute is not included in the create table SQL.\n",
    "\n",
    "- **outputdatabase**\n",
    "\n",
    "    Specifies the name of the database to contain the analysis results table.\n",
    "\n",
    "- **outputtablename**\n",
    "\n",
    "    Specifies the name of the table to store the analysis results. If not supplied, the results are returned as a result set.\n",
    "\n",
    "- **overwrite**\n",
    "\n",
    "    When overwrite is set to true or not set, the output table is dropped before creating a new one.\n",
    "\n",
    "- **secondcolumn**\n",
    "\n",
    "    A second column is required when performing a binomial test, and not allowed when performing a sign test.\n",
    "\n",
    "- **singletail**\n",
    "\n",
    "    A single-tailed test may be requested by setting this parameter to true.  A two-tailed test may be requested by setting this parameter to false or by not specifying it at all (the default value).  If the binomial probability is not 0.5, singletail must be set to true.\n",
    "\n",
    "- **statsdatabase**\n",
    "\n",
    "    This is the database where the statistical test metadata tables are installed.  If not specified, the source database is searched for these metadata tables.\n",
    "\n",
    "- **teststyle**\n",
    "\n",
    "    The valid values are binomial and sign, representing a binomial or sign test.  If not specified, the default test style is binomial.\n",
    "\n",
    "- **thresholdprobability**\n",
    "\n",
    "    You may optionally change the threshold probability or allow it to default to 0.05.  Below this  \"alpha\" probability the null hypothesis is rejected"
   ]
  },
  {
   "cell_type": "markdown",
   "metadata": {},
   "source": [
    "1.  Binomial test producing an unpersisted result set with default values for thresholdprobabilty (.05), binomialprobability (0.5), singletail (false) and exactmatches (negative)."
   ]
  },
  {
   "cell_type": "code",
   "execution_count": 15,
   "metadata": {},
   "outputs": [
    {
     "data": {
      "text/plain": [
       "Success: 0 rows affected"
      ]
     },
     "execution_count": 15,
     "metadata": {
      "application/vnd.teradata.resultset": ""
     },
     "output_type": "execute_result"
    },
    {
     "ename": "WARNING",
     "evalue": "[Teradata Database] [Warning 3212] The stored procedure returned one or more result sets.",
     "output_type": "error",
     "traceback": [
      "[Teradata Database] [Warning 3212] The stored procedure returned one or more result sets."
     ]
    },
    {
     "data": {
      "application/vnd.teradata.resultset": "\"N\",\"NPos\",\"NNeg\",\"BP\",\"BinomialCallP_0.05\"\n\"10458\",\"6384\",\"4074\",\"2e-06\",\"p\"",
      "text/html": [
       "<div class = \"td-resultset-table-div\" style = \"max-height: 100%; overflow-y: auto\">\n",
       "      <table class=\"tdhistory622511\"><style>\n",
       "      table.tdhistory622511 { display: block !important; min-height: 105px !important; overflow: auto !important; height: 105px !important; width: 100% !important; border: 1px solid rgb(207, 207, 207) !important; border-collapse: collapse !important; ; color: var(--jp-ui-font-color1) !important; }\n",
       "      th.tdhistory622511 { border: 1px solid rgb(198,198,198) !important; border-collapse: collapse !important; ; padding: 2px 5px !important; ; font-size: 13px !important; ; text-align: center !important; white-space: normal !important; color: var(--jp-ui-font-color1) !important; }\n",
       "      th.tdhistory622511:last-child { text-align: left !important; }\n",
       "      tbody.tdhistory622511 tr:nth-child(even) { background: rgba(243, 243, 243, 0.75) !important; }\n",
       "      tbody.tdhistory622511 tr:nth-child(odd) { background: var(--jp-ui-inverse-font-color1) !important; }\n",
       "      td.tdhistory622511 { border: 1px solid rgb(207, 207, 207) !important; border-collapse: collapse !important; ; padding: 2px 5px !important; ; font-size: 13px !important; ; text-align: left !important;          white-space: nowrap !important; overflow:hidden !important; text-overflow:ellipsis !important;; }\n",
       "    </style><thead><tr style= \"background: rgba(243, 243, 243, 0.75)\"><th class=\"tdhistory622511\"></th><th class=\"tdhistory622511\">N</th><th class=\"tdhistory622511\">NPos</th><th class=\"tdhistory622511\">NNeg</th><th class=\"tdhistory622511\">BP</th><th class=\"tdhistory622511\">BinomialCallP_0.05</th></tr></thead><tbody class=\"tdhistory622511 resultset-body\"><tr><th class=\"tdhistory622511\" style= \"background: rgba(243, 243, 243, 0.75)\">1</th><td class=\"tdhistory622511\">10458</td><td class=\"tdhistory622511\">6384</td><td class=\"tdhistory622511\">4074</td><td class=\"tdhistory622511\">2e-06</td><td class=\"tdhistory622511\">p</td></tr></tbody></table></div>"
      ]
     },
     "execution_count": 15,
     "metadata": {
      "application/vnd.teradata.resultset": "{\"resultSetID\":\"/home/jovyan/JupyterLabRoot/Teradata/Resultsets/2022.07.04_11.36.29.287_UTC\",\"historyID\":857,\"chunkID\":\"00001\",\"sessionid\":\"\",\"portnum\":\"\",\"dockermode\":\"docker\",\"totalRowCount\":1,\"chunkCount\":0,\"rowLimit\":0,\"columnMetadata\":[{\"columnName\":\"N\",\"columnTypeName\":\"FLOAT\"},{\"columnNumber\":1,\"columnName\":\"NPos\",\"columnTypeName\":\"FLOAT\"},{\"columnNumber\":2,\"columnName\":\"NNeg\",\"columnTypeName\":\"FLOAT\"},{\"columnNumber\":3,\"columnName\":\"BP\",\"columnTypeName\":\"FLOAT\"},{\"columnNumber\":4,\"columnName\":\"BinomialCallP_0.05\",\"columnTypeName\":\"VARCHAR\",\"length\":1,\"scale\":1}]}"
     },
     "output_type": "execute_result"
    }
   ],
   "source": [
    "call ${VALDB}.td_analyze('BinomialTest',\n",
    "                         'database=${QLID};\n",
    "                          tablename=VAL_ADS;\n",
    "                          firstcolumn=sv_avg_bal;\n",
    "                          secondcolumn=ck_avg_bal;\n",
    "                          statsdatabase=${VALDB};');"
   ]
  },
  {
   "cell_type": "markdown",
   "metadata": {},
   "source": [
    "2.  Binomial test producing a result table and introducing a groupby variable gender with default values for other parameters."
   ]
  },
  {
   "cell_type": "code",
   "execution_count": 16,
   "metadata": {},
   "outputs": [
    {
     "data": {
      "text/plain": [
       "Success: 0 rows affected"
      ]
     },
     "execution_count": 16,
     "metadata": {
      "application/vnd.teradata.resultset": ""
     },
     "output_type": "execute_result"
    }
   ],
   "source": [
    "call ${VALDB}.td_analyze('BinomialTest', \n",
    "                         'database=${QLID};\n",
    "                          tablename=VAL_ADS;\n",
    "                          firstcolumn=sv_avg_bal;\n",
    "                          secondcolumn=ck_avg_bal;\n",
    "                          groupby=female_ind;\n",
    "                          outputdatabase=${QLID};\n",
    "                          outputtablename=_val_binomial_example2;\n",
    "                          statsdatabase=${VALDB};');"
   ]
  },
  {
   "cell_type": "code",
   "execution_count": 17,
   "metadata": {},
   "outputs": [
    {
     "data": {
      "application/vnd.teradata.resultset": "\"female_ind\",\"N\",\"NPos\",\"NNeg\",\"BP\",\"BinomialCallP_0.05\"\n\"1\",\"5852\",\"3717\",\"2135\",\"2e-06\",\"p\"\n\"0\",\"4606\",\"2667\",\"1939\",\"2e-06\",\"p\"",
      "text/html": [
       "<div class = \"td-resultset-table-div\" style = \"max-height: 100%; overflow-y: auto\">\n",
       "      <table class=\"tdhistory481009\"><style>\n",
       "      table.tdhistory481009 { display: block !important; min-height: 126px !important; overflow: auto !important; height: 126px !important; width: 100% !important; border: 1px solid rgb(207, 207, 207) !important; border-collapse: collapse !important; ; color: var(--jp-ui-font-color1) !important; }\n",
       "      th.tdhistory481009 { border: 1px solid rgb(198,198,198) !important; border-collapse: collapse !important; ; padding: 2px 5px !important; ; font-size: 13px !important; ; text-align: center !important; white-space: normal !important; color: var(--jp-ui-font-color1) !important; }\n",
       "      th.tdhistory481009:last-child { text-align: left !important; }\n",
       "      tbody.tdhistory481009 tr:nth-child(even) { background: rgba(243, 243, 243, 0.75) !important; }\n",
       "      tbody.tdhistory481009 tr:nth-child(odd) { background: var(--jp-ui-inverse-font-color1) !important; }\n",
       "      td.tdhistory481009 { border: 1px solid rgb(207, 207, 207) !important; border-collapse: collapse !important; ; padding: 2px 5px !important; ; font-size: 13px !important; ; text-align: left !important;          white-space: nowrap !important; overflow:hidden !important; text-overflow:ellipsis !important;; }\n",
       "    </style><thead><tr style= \"background: rgba(243, 243, 243, 0.75)\"><th class=\"tdhistory481009\"></th><th class=\"tdhistory481009\">female_ind</th><th class=\"tdhistory481009\">N</th><th class=\"tdhistory481009\">NPos</th><th class=\"tdhistory481009\">NNeg</th><th class=\"tdhistory481009\">BP</th><th class=\"tdhistory481009\">BinomialCallP_0.05</th></tr></thead><tbody class=\"tdhistory481009 resultset-body\"><tr><th class=\"tdhistory481009\" style= \"background: rgba(243, 243, 243, 0.75)\">1</th><td class=\"tdhistory481009\">1</td><td class=\"tdhistory481009\">5852</td><td class=\"tdhistory481009\">3717</td><td class=\"tdhistory481009\">2135</td><td class=\"tdhistory481009\">2e-06</td><td class=\"tdhistory481009\">p</td></tr><tr><th class=\"tdhistory481009\" style= \"background: rgba(243, 243, 243, 0.75)\">2</th><td class=\"tdhistory481009\">0</td><td class=\"tdhistory481009\">4606</td><td class=\"tdhistory481009\">2667</td><td class=\"tdhistory481009\">1939</td><td class=\"tdhistory481009\">2e-06</td><td class=\"tdhistory481009\">p</td></tr></tbody></table></div>"
      ]
     },
     "execution_count": 17,
     "metadata": {
      "application/vnd.teradata.resultset": "{\"resultSetID\":\"/home/jovyan/JupyterLabRoot/Teradata/Resultsets/2022.07.04_11.36.31.235_UTC\",\"historyID\":859,\"chunkID\":\"00001\",\"sessionid\":\"\",\"portnum\":\"\",\"dockermode\":\"docker\",\"totalRowCount\":2,\"chunkCount\":0,\"rowLimit\":0,\"columnMetadata\":[{\"columnName\":\"female_ind\",\"columnTypeName\":\"BYTEINT\"},{\"columnNumber\":1,\"columnName\":\"N\",\"columnTypeName\":\"FLOAT\"},{\"columnNumber\":2,\"columnName\":\"NPos\",\"columnTypeName\":\"FLOAT\"},{\"columnNumber\":3,\"columnName\":\"NNeg\",\"columnTypeName\":\"FLOAT\"},{\"columnNumber\":4,\"columnName\":\"BP\",\"columnTypeName\":\"FLOAT\"},{\"columnNumber\":5,\"columnName\":\"BinomialCallP_0.05\",\"columnTypeName\":\"VARCHAR\",\"length\":1,\"scale\":1}]}"
     },
     "output_type": "execute_result"
    }
   ],
   "source": [
    "SELECT * FROM ${QLID}._val_binomial_example2;"
   ]
  },
  {
   "cell_type": "markdown",
   "metadata": {},
   "source": [
    "3.  Sign test producing an unpersisted result set with default values for thresholdprobabilty (.05) and singletail (false)."
   ]
  },
  {
   "cell_type": "code",
   "execution_count": 18,
   "metadata": {},
   "outputs": [
    {
     "data": {
      "text/plain": [
       "Success: 0 rows affected"
      ]
     },
     "execution_count": 18,
     "metadata": {
      "application/vnd.teradata.resultset": ""
     },
     "output_type": "execute_result"
    },
    {
     "ename": "WARNING",
     "evalue": "[Teradata Database] [Warning 3212] The stored procedure returned one or more result sets.",
     "output_type": "error",
     "traceback": [
      "[Teradata Database] [Warning 3212] The stored procedure returned one or more result sets."
     ]
    },
    {
     "data": {
      "application/vnd.teradata.resultset": "\"N\",\"NPos\",\"NNeg\",\"BP\",\"BinomialCallP_0.05\"\n\"10458\",\"5894\",\"4564\",\"2e-06\",\"p\"",
      "text/html": [
       "<div class = \"td-resultset-table-div\" style = \"max-height: 100%; overflow-y: auto\">\n",
       "      <table class=\"tdhistory134147\"><style>\n",
       "      table.tdhistory134147 { display: block !important; min-height: 105px !important; overflow: auto !important; height: 105px !important; width: 100% !important; border: 1px solid rgb(207, 207, 207) !important; border-collapse: collapse !important; ; color: var(--jp-ui-font-color1) !important; }\n",
       "      th.tdhistory134147 { border: 1px solid rgb(198,198,198) !important; border-collapse: collapse !important; ; padding: 2px 5px !important; ; font-size: 13px !important; ; text-align: center !important; white-space: normal !important; color: var(--jp-ui-font-color1) !important; }\n",
       "      th.tdhistory134147:last-child { text-align: left !important; }\n",
       "      tbody.tdhistory134147 tr:nth-child(even) { background: rgba(243, 243, 243, 0.75) !important; }\n",
       "      tbody.tdhistory134147 tr:nth-child(odd) { background: var(--jp-ui-inverse-font-color1) !important; }\n",
       "      td.tdhistory134147 { border: 1px solid rgb(207, 207, 207) !important; border-collapse: collapse !important; ; padding: 2px 5px !important; ; font-size: 13px !important; ; text-align: left !important;          white-space: nowrap !important; overflow:hidden !important; text-overflow:ellipsis !important;; }\n",
       "    </style><thead><tr style= \"background: rgba(243, 243, 243, 0.75)\"><th class=\"tdhistory134147\"></th><th class=\"tdhistory134147\">N</th><th class=\"tdhistory134147\">NPos</th><th class=\"tdhistory134147\">NNeg</th><th class=\"tdhistory134147\">BP</th><th class=\"tdhistory134147\">BinomialCallP_0.05</th></tr></thead><tbody class=\"tdhistory134147 resultset-body\"><tr><th class=\"tdhistory134147\" style= \"background: rgba(243, 243, 243, 0.75)\">1</th><td class=\"tdhistory134147\">10458</td><td class=\"tdhistory134147\">5894</td><td class=\"tdhistory134147\">4564</td><td class=\"tdhistory134147\">2e-06</td><td class=\"tdhistory134147\">p</td></tr></tbody></table></div>"
      ]
     },
     "execution_count": 18,
     "metadata": {
      "application/vnd.teradata.resultset": "{\"resultSetID\":\"/home/jovyan/JupyterLabRoot/Teradata/Resultsets/2022.07.04_11.36.32.396_UTC\",\"historyID\":860,\"chunkID\":\"00001\",\"sessionid\":\"\",\"portnum\":\"\",\"dockermode\":\"docker\",\"totalRowCount\":1,\"chunkCount\":0,\"rowLimit\":0,\"columnMetadata\":[{\"columnName\":\"N\",\"columnTypeName\":\"FLOAT\"},{\"columnNumber\":1,\"columnName\":\"NPos\",\"columnTypeName\":\"FLOAT\"},{\"columnNumber\":2,\"columnName\":\"NNeg\",\"columnTypeName\":\"FLOAT\"},{\"columnNumber\":3,\"columnName\":\"BP\",\"columnTypeName\":\"FLOAT\"},{\"columnNumber\":4,\"columnName\":\"BinomialCallP_0.05\",\"columnTypeName\":\"VARCHAR\",\"length\":1,\"scale\":1}]}"
     },
     "output_type": "execute_result"
    }
   ],
   "source": [
    "call ${VALDB}.td_analyze('BinomialTest',\n",
    "                         'database=${QLID};\n",
    "                          tablename=VAL_ADS;\n",
    "                          firstcolumn=sv_avg_bal;\n",
    "                          teststyle=sign;\n",
    "                          statsdatabase=${VALDB};');"
   ]
  },
  {
   "cell_type": "markdown",
   "metadata": {},
   "source": [
    "4.  Sign test producing a result table and introducing a groupby variable gender with default values for other parameters."
   ]
  },
  {
   "cell_type": "code",
   "execution_count": 19,
   "metadata": {},
   "outputs": [
    {
     "data": {
      "text/plain": [
       "Success: 0 rows affected"
      ]
     },
     "execution_count": 19,
     "metadata": {
      "application/vnd.teradata.resultset": ""
     },
     "output_type": "execute_result"
    }
   ],
   "source": [
    "call ${VALDB}.td_analyze('BinomialTest', \n",
    "                         'database=${QLID};\n",
    "                          tablename=VAL_ADS;\n",
    "                          firstcolumn=sv_avg_bal;\n",
    "                          groupby=female_ind;\n",
    "                          outputdatabase=${QLID};\n",
    "                          outputtablename=_val_binomial_example4;\n",
    "                          teststyle=sign;\n",
    "                          statsdatabase=${VALDB};');"
   ]
  },
  {
   "cell_type": "code",
   "execution_count": 20,
   "metadata": {},
   "outputs": [
    {
     "data": {
      "application/vnd.teradata.resultset": "\"female_ind\",\"N\",\"NPos\",\"NNeg\",\"BP\",\"BinomialCallP_0.05\"\n\"1\",\"5852\",\"3514\",\"2338\",\"2e-06\",\"p\"\n\"0\",\"4606\",\"2380\",\"2226\",\"0.023268256\",\"p\"",
      "text/html": [
       "<div class = \"td-resultset-table-div\" style = \"max-height: 100%; overflow-y: auto\">\n",
       "      <table class=\"tdhistory124173\"><style>\n",
       "      table.tdhistory124173 { display: block !important; min-height: 126px !important; overflow: auto !important; height: 126px !important; width: 100% !important; border: 1px solid rgb(207, 207, 207) !important; border-collapse: collapse !important; ; color: var(--jp-ui-font-color1) !important; }\n",
       "      th.tdhistory124173 { border: 1px solid rgb(198,198,198) !important; border-collapse: collapse !important; ; padding: 2px 5px !important; ; font-size: 13px !important; ; text-align: center !important; white-space: normal !important; color: var(--jp-ui-font-color1) !important; }\n",
       "      th.tdhistory124173:last-child { text-align: left !important; }\n",
       "      tbody.tdhistory124173 tr:nth-child(even) { background: rgba(243, 243, 243, 0.75) !important; }\n",
       "      tbody.tdhistory124173 tr:nth-child(odd) { background: var(--jp-ui-inverse-font-color1) !important; }\n",
       "      td.tdhistory124173 { border: 1px solid rgb(207, 207, 207) !important; border-collapse: collapse !important; ; padding: 2px 5px !important; ; font-size: 13px !important; ; text-align: left !important;          white-space: nowrap !important; overflow:hidden !important; text-overflow:ellipsis !important;; }\n",
       "    </style><thead><tr style= \"background: rgba(243, 243, 243, 0.75)\"><th class=\"tdhistory124173\"></th><th class=\"tdhistory124173\">female_ind</th><th class=\"tdhistory124173\">N</th><th class=\"tdhistory124173\">NPos</th><th class=\"tdhistory124173\">NNeg</th><th class=\"tdhistory124173\">BP</th><th class=\"tdhistory124173\">BinomialCallP_0.05</th></tr></thead><tbody class=\"tdhistory124173 resultset-body\"><tr><th class=\"tdhistory124173\" style= \"background: rgba(243, 243, 243, 0.75)\">1</th><td class=\"tdhistory124173\">1</td><td class=\"tdhistory124173\">5852</td><td class=\"tdhistory124173\">3514</td><td class=\"tdhistory124173\">2338</td><td class=\"tdhistory124173\">2e-06</td><td class=\"tdhistory124173\">p</td></tr><tr><th class=\"tdhistory124173\" style= \"background: rgba(243, 243, 243, 0.75)\">2</th><td class=\"tdhistory124173\">0</td><td class=\"tdhistory124173\">4606</td><td class=\"tdhistory124173\">2380</td><td class=\"tdhistory124173\">2226</td><td class=\"tdhistory124173\">0.023268256</td><td class=\"tdhistory124173\">p</td></tr></tbody></table></div>"
      ]
     },
     "execution_count": 20,
     "metadata": {
      "application/vnd.teradata.resultset": "{\"resultSetID\":\"/home/jovyan/JupyterLabRoot/Teradata/Resultsets/2022.07.04_11.36.33.995_UTC\",\"historyID\":862,\"chunkID\":\"00001\",\"sessionid\":\"\",\"portnum\":\"\",\"dockermode\":\"docker\",\"totalRowCount\":2,\"chunkCount\":0,\"rowLimit\":0,\"columnMetadata\":[{\"columnName\":\"female_ind\",\"columnTypeName\":\"BYTEINT\"},{\"columnNumber\":1,\"columnName\":\"N\",\"columnTypeName\":\"FLOAT\"},{\"columnNumber\":2,\"columnName\":\"NPos\",\"columnTypeName\":\"FLOAT\"},{\"columnNumber\":3,\"columnName\":\"NNeg\",\"columnTypeName\":\"FLOAT\"},{\"columnNumber\":4,\"columnName\":\"BP\",\"columnTypeName\":\"FLOAT\"},{\"columnNumber\":5,\"columnName\":\"BinomialCallP_0.05\",\"columnTypeName\":\"VARCHAR\",\"length\":1,\"scale\":1}]}"
     },
     "output_type": "execute_result"
    }
   ],
   "source": [
    "SELECT * FROM ${QLID}._val_binomial_example4;"
   ]
  },
  {
   "cell_type": "markdown",
   "metadata": {},
   "source": [
    "---"
   ]
  },
  {
   "cell_type": "markdown",
   "metadata": {},
   "source": [
    "### Kolmogorov-Smirnoff Tests\n",
    "\n",
    "#### Purpose\n",
    "\n",
    "Kolmogorov-Smirnov Goodness-of-Fit Test is used to decide if a sample comes from a population with a specific distribution.  An attractive feature of this test is that the distribution of the K-S test statistic itself does not depend on the underlying cumulative distribution function being tested. Another advantage is that it is an exact test.\n",
    "\n",
    "#### Required Parameters\n",
    "\n",
    "- **columnofinterest**\n",
    "\n",
    "    The numeric column that is tested to have a normal distribution. It must reside in the table indicated by the tablename parameter\n",
    "\n",
    "- **database**\n",
    "\n",
    "    The database containing the table to analyze.\n",
    "\n",
    "- **kstest**\n",
    "\n",
    "    The kstest parameter:\n",
    "    - Is required\n",
    "    - Must be the first parameter\n",
    "    - Is always enclosed in single quotes\n",
    "\n",
    "\n",
    "- **tablename**\n",
    "\n",
    "    The table containing the columns to analyze.  It must reside in the database indicated by the database parameter.\n",
    "\n",
    "#### Optional Parameters\n",
    "\n",
    "- **columns**\n",
    "\n",
    "    Used only by the Smirnov test, this parameter represents a categorical variable with two values that indicate the distribution to which the columnofinterest belongs. It must reside in the table indicated by the tablename parameter.\n",
    "\n",
    "- **fallback**\n",
    "\n",
    "    When true, FALLBACK is requested as an attribute of the created output results table.  When false or parameter not specified, the FALLBACK attribute is not included in the create table SQL.\n",
    "\n",
    "- **gensqlonly**\n",
    "\n",
    "    When true, the SQL for the requested function is returned as a result set but not run. When not specified or set to false, the SQL is run but not returned.  This parameter is not allowed when using the Smirnov test.\n",
    "\n",
    "- **groupby**\n",
    "    \n",
    "    One or more group-by columns may optionally be specified so that a separate result is produced for each value or combination of values in the specified column or columns.\n",
    "\n",
    "- **multiset**\n",
    "\n",
    "    When true, MULTISET is requested as an attribute of the created output results table.  When false or parameter not specified, the MULTISET attribute is not included in the create table SQL.\n",
    "\n",
    "- **outputdatabase**\n",
    "\n",
    "    Specifies the name of the database to contain the analysis results table.\n",
    "\n",
    "- **outputtablename**\n",
    "\n",
    "    Specifies the name of the table to store the analysis results. If not supplied, the results are returned as a result set.\n",
    "\n",
    "- **overwrite**\n",
    "\n",
    "    When overwrite is set to true or not set, the output table is dropped before creating a new one.\n",
    "\n",
    "- **statsdatabase**\n",
    "\n",
    "    This is the database where the statistical test metadata tables are installed.  If not specified, the source database is searched for these metadata tables.\n",
    "\n",
    "- **teststyle**\n",
    "\n",
    "    The valid values are ks, l, sw, p and s, representing a Kolmogorov-Smirnov, Lilliefors, Shapiro-Wilk, D’Agostino and Pearson or Smirnov test.  If not specified, the default test style is Kolmogorov-Smirnov (ks).\n",
    "\n",
    "- **thresholdprobability**\n",
    "\n",
    "    You may optionally change the threshold probability or allow it to default to 0.05.  Below this  \"alpha\" probability the null hypothesis is rejected."
   ]
  },
  {
   "cell_type": "markdown",
   "metadata": {},
   "source": [
    "1.  Kolmogorov-Smirnov test with group-by option."
   ]
  },
  {
   "cell_type": "code",
   "execution_count": 21,
   "metadata": {},
   "outputs": [
    {
     "data": {
      "text/plain": [
       "Success: 0 rows affected"
      ]
     },
     "execution_count": 21,
     "metadata": {
      "application/vnd.teradata.resultset": ""
     },
     "output_type": "execute_result"
    },
    {
     "ename": "WARNING",
     "evalue": "[Teradata Database] [Warning 3212] The stored procedure returned one or more result sets.",
     "output_type": "error",
     "traceback": [
      "[Teradata Database] [Warning 3212] The stored procedure returned one or more result sets."
     ]
    },
    {
     "data": {
      "application/vnd.teradata.resultset": "\"tot_cust_years\",\"Klm\",\"M\",\"KlmPValue\",\"KlmPText\",\"KlmCallP_5E-2\"\n\"8\",\"0.167601957\",\"1014\",\"0.01\",\"<0.01\",\"p\"\n\"11\",\"0.147381487\",\"374\",\"0.01\",\"<0.01\",\"p\"\n\"12\",\"0.145172899\",\"182\",\"0.01\",\"<0.01\",\"p\"\n\"0\",\"0.15574236700000005\",\"176\",\"0.01\",\"<0.01\",\"p\"\n\"3\",\"0.169747933\",\"1160\",\"0.01\",\"<0.01\",\"p\"\n\"9\",\"0.156509661\",\"845\",\"0.01\",\"<0.01\",\"p\"\n\"4\",\"0.17757486300000003\",\"1137\",\"0.01\",\"<0.01\",\"p\"\n\"14\",\"0.11384552699999997\",\"39\",\"0.2\",\">0.20\",\"a\"\n\"1\",\"0.168141482\",\"526\",\"0.01\",\"<0.01\",\"p\"\n\"10\",\"0.186458308\",\"613\",\"0.01\",\"<0.01\",\"p\"\n\"7\",\"0.170163411\",\"1118\",\"0.01\",\"<0.01\",\"p\"\n\"6\",\"0.155173774\",\"1151\",\"0.01\",\"<0.01\",\"p\"\n\"2\",\"0.17041927299999998\",\"888\",\"0.01\",\"<0.01\",\"p\"\n\"13\",\"0.194162895\",\"45\",\"0.05970334701819358\",\"\",\"a\"\n\"5\",\"0.17785805899999993\",\"1190\",\"0.01\",\"<0.01\",\"p\"",
      "text/html": [
       "<div class = \"td-resultset-table-div\" style = \"max-height: 100%; overflow-y: auto\">\n",
       "      <table class=\"tdhistory542509\"><style>\n",
       "      table.tdhistory542509 { display: block !important; min-height: 399px !important; overflow: auto !important; height: 399px !important; width: 100% !important; border: 1px solid rgb(207, 207, 207) !important; border-collapse: collapse !important; ; color: var(--jp-ui-font-color1) !important; }\n",
       "      th.tdhistory542509 { border: 1px solid rgb(198,198,198) !important; border-collapse: collapse !important; ; padding: 2px 5px !important; ; font-size: 13px !important; ; text-align: center !important; white-space: normal !important; color: var(--jp-ui-font-color1) !important; }\n",
       "      th.tdhistory542509:last-child { text-align: left !important; }\n",
       "      tbody.tdhistory542509 tr:nth-child(even) { background: rgba(243, 243, 243, 0.75) !important; }\n",
       "      tbody.tdhistory542509 tr:nth-child(odd) { background: var(--jp-ui-inverse-font-color1) !important; }\n",
       "      td.tdhistory542509 { border: 1px solid rgb(207, 207, 207) !important; border-collapse: collapse !important; ; padding: 2px 5px !important; ; font-size: 13px !important; ; text-align: left !important;          white-space: nowrap !important; overflow:hidden !important; text-overflow:ellipsis !important;; }\n",
       "    </style><thead><tr style= \"background: rgba(243, 243, 243, 0.75)\"><th class=\"tdhistory542509\"></th><th class=\"tdhistory542509\">tot_cust_years</th><th class=\"tdhistory542509\">Klm</th><th class=\"tdhistory542509\">M</th><th class=\"tdhistory542509\">KlmPValue</th><th class=\"tdhistory542509\">KlmPText</th><th class=\"tdhistory542509\">KlmCallP_5E-2</th></tr></thead><tbody class=\"tdhistory542509 resultset-body\"><tr><th class=\"tdhistory542509\" style= \"background: rgba(243, 243, 243, 0.75)\">1</th><td class=\"tdhistory542509\">8</td><td class=\"tdhistory542509\">0.167601957</td><td class=\"tdhistory542509\">1014</td><td class=\"tdhistory542509\">0.01</td><td class=\"tdhistory542509\"><0.01</td><td class=\"tdhistory542509\">p</td></tr><tr><th class=\"tdhistory542509\" style= \"background: rgba(243, 243, 243, 0.75)\">2</th><td class=\"tdhistory542509\">11</td><td class=\"tdhistory542509\">0.147381487</td><td class=\"tdhistory542509\">374</td><td class=\"tdhistory542509\">0.01</td><td class=\"tdhistory542509\"><0.01</td><td class=\"tdhistory542509\">p</td></tr><tr><th class=\"tdhistory542509\" style= \"background: rgba(243, 243, 243, 0.75)\">3</th><td class=\"tdhistory542509\">12</td><td class=\"tdhistory542509\">0.145172899</td><td class=\"tdhistory542509\">182</td><td class=\"tdhistory542509\">0.01</td><td class=\"tdhistory542509\"><0.01</td><td class=\"tdhistory542509\">p</td></tr><tr><th class=\"tdhistory542509\" style= \"background: rgba(243, 243, 243, 0.75)\">4</th><td class=\"tdhistory542509\">0</td><td class=\"tdhistory542509\">0.15574236700000005</td><td class=\"tdhistory542509\">176</td><td class=\"tdhistory542509\">0.01</td><td class=\"tdhistory542509\"><0.01</td><td class=\"tdhistory542509\">p</td></tr><tr><th class=\"tdhistory542509\" style= \"background: rgba(243, 243, 243, 0.75)\">5</th><td class=\"tdhistory542509\">3</td><td class=\"tdhistory542509\">0.169747933</td><td class=\"tdhistory542509\">1160</td><td class=\"tdhistory542509\">0.01</td><td class=\"tdhistory542509\"><0.01</td><td class=\"tdhistory542509\">p</td></tr><tr><th class=\"tdhistory542509\" style= \"background: rgba(243, 243, 243, 0.75)\">6</th><td class=\"tdhistory542509\">9</td><td class=\"tdhistory542509\">0.156509661</td><td class=\"tdhistory542509\">845</td><td class=\"tdhistory542509\">0.01</td><td class=\"tdhistory542509\"><0.01</td><td class=\"tdhistory542509\">p</td></tr><tr><th class=\"tdhistory542509\" style= \"background: rgba(243, 243, 243, 0.75)\">7</th><td class=\"tdhistory542509\">4</td><td class=\"tdhistory542509\">0.17757486300000003</td><td class=\"tdhistory542509\">1137</td><td class=\"tdhistory542509\">0.01</td><td class=\"tdhistory542509\"><0.01</td><td class=\"tdhistory542509\">p</td></tr><tr><th class=\"tdhistory542509\" style= \"background: rgba(243, 243, 243, 0.75)\">8</th><td class=\"tdhistory542509\">14</td><td class=\"tdhistory542509\">0.11384552699999997</td><td class=\"tdhistory542509\">39</td><td class=\"tdhistory542509\">0.2</td><td class=\"tdhistory542509\">>0.20</td><td class=\"tdhistory542509\">a</td></tr><tr><th class=\"tdhistory542509\" style= \"background: rgba(243, 243, 243, 0.75)\">9</th><td class=\"tdhistory542509\">1</td><td class=\"tdhistory542509\">0.168141482</td><td class=\"tdhistory542509\">526</td><td class=\"tdhistory542509\">0.01</td><td class=\"tdhistory542509\"><0.01</td><td class=\"tdhistory542509\">p</td></tr><tr><th class=\"tdhistory542509\" style= \"background: rgba(243, 243, 243, 0.75)\">10</th><td class=\"tdhistory542509\">10</td><td class=\"tdhistory542509\">0.186458308</td><td class=\"tdhistory542509\">613</td><td class=\"tdhistory542509\">0.01</td><td class=\"tdhistory542509\"><0.01</td><td class=\"tdhistory542509\">p</td></tr><tr><th class=\"tdhistory542509\" style= \"background: rgba(243, 243, 243, 0.75)\">11</th><td class=\"tdhistory542509\">7</td><td class=\"tdhistory542509\">0.170163411</td><td class=\"tdhistory542509\">1118</td><td class=\"tdhistory542509\">0.01</td><td class=\"tdhistory542509\"><0.01</td><td class=\"tdhistory542509\">p</td></tr><tr><th class=\"tdhistory542509\" style= \"background: rgba(243, 243, 243, 0.75)\">12</th><td class=\"tdhistory542509\">6</td><td class=\"tdhistory542509\">0.155173774</td><td class=\"tdhistory542509\">1151</td><td class=\"tdhistory542509\">0.01</td><td class=\"tdhistory542509\"><0.01</td><td class=\"tdhistory542509\">p</td></tr><tr><th class=\"tdhistory542509\" style= \"background: rgba(243, 243, 243, 0.75)\">13</th><td class=\"tdhistory542509\">2</td><td class=\"tdhistory542509\">0.17041927299999998</td><td class=\"tdhistory542509\">888</td><td class=\"tdhistory542509\">0.01</td><td class=\"tdhistory542509\"><0.01</td><td class=\"tdhistory542509\">p</td></tr><tr><th class=\"tdhistory542509\" style= \"background: rgba(243, 243, 243, 0.75)\">14</th><td class=\"tdhistory542509\">13</td><td class=\"tdhistory542509\">0.194162895</td><td class=\"tdhistory542509\">45</td><td class=\"tdhistory542509\">0.05970334701819358</td><td class=\"tdhistory542509\"></td><td class=\"tdhistory542509\">a</td></tr><tr><th class=\"tdhistory542509\" style= \"background: rgba(243, 243, 243, 0.75)\">15</th><td class=\"tdhistory542509\">5</td><td class=\"tdhistory542509\">0.17785805899999993</td><td class=\"tdhistory542509\">1190</td><td class=\"tdhistory542509\">0.01</td><td class=\"tdhistory542509\"><0.01</td><td class=\"tdhistory542509\">p</td></tr></tbody></table></div>"
      ]
     },
     "execution_count": 21,
     "metadata": {
      "application/vnd.teradata.resultset": "{\"resultSetID\":\"/home/jovyan/JupyterLabRoot/Teradata/Resultsets/2022.07.04_11.36.47.038_UTC\",\"historyID\":863,\"chunkID\":\"00001\",\"sessionid\":\"\",\"portnum\":\"\",\"dockermode\":\"docker\",\"totalRowCount\":15,\"chunkCount\":0,\"rowLimit\":0,\"columnMetadata\":[{\"columnName\":\"tot_cust_years\",\"columnTypeName\":\"INTEGER\"},{\"columnNumber\":1,\"columnName\":\"Klm\",\"columnTypeName\":\"FLOAT\"},{\"columnNumber\":2,\"columnName\":\"M\",\"columnTypeName\":\"FLOAT\"},{\"columnNumber\":3,\"columnName\":\"KlmPValue\",\"columnTypeName\":\"FLOAT\"},{\"columnNumber\":4,\"columnName\":\"KlmPText\",\"columnTypeName\":\"VARCHAR\",\"length\":5,\"scale\":5},{\"columnNumber\":5,\"columnName\":\"KlmCallP_5E-2\",\"columnTypeName\":\"VARCHAR\",\"length\":1,\"scale\":1}]}"
     },
     "output_type": "execute_result"
    }
   ],
   "source": [
    "call ${VALDB}.td_analyze('KSTest', \n",
    "                         'database=${QLID};\n",
    "                          tablename=VAL_ADS;\n",
    "                          columnofinterest=tot_income;\n",
    "                          teststyle=KS;\n",
    "                          groupby=tot_cust_years;\n",
    "                          statsdatabase=${VALDB};');"
   ]
  },
  {
   "cell_type": "markdown",
   "metadata": {},
   "source": [
    "2.  Lilliefors test with group-by option."
   ]
  },
  {
   "cell_type": "code",
   "execution_count": 22,
   "metadata": {},
   "outputs": [
    {
     "data": {
      "text/plain": [
       "Success: 0 rows affected"
      ]
     },
     "execution_count": 22,
     "metadata": {
      "application/vnd.teradata.resultset": ""
     },
     "output_type": "execute_result"
    },
    {
     "ename": "WARNING",
     "evalue": "[Teradata Database] [Warning 3212] The stored procedure returned one or more result sets.",
     "output_type": "error",
     "traceback": [
      "[Teradata Database] [Warning 3212] The stored procedure returned one or more result sets."
     ]
    },
    {
     "data": {
      "application/vnd.teradata.resultset": "\"tot_cust_years\",\"Lilliefors\",\"M\",\"LillieforsPValue\",\"LillieforsPText\",\"LillieforsCallP_5E-2\"\n\"8\",\"0.16437102548323468\",\"1014\",\"0.01\",\"<0.01\",\"p\"\n\"11\",\"0.14539964207486628\",\"374\",\"0.01\",\"<0.01\",\"p\"\n\"12\",\"0.14397700704395605\",\"182\",\"0.01\",\"<0.01\",\"p\"\n\"0\",\"0.15455723972727275\",\"176\",\"0.01\",\"<0.01\",\"p\"\n\"3\",\"0.1652836109310345\",\"1160\",\"0.01\",\"<0.01\",\"p\"\n\"9\",\"0.15286021289940832\",\"845\",\"0.01\",\"<0.01\",\"p\"\n\"4\",\"0.17220877782761657\",\"1137\",\"0.01\",\"<0.01\",\"p\"\n\"14\",\"0.11152678682051276\",\"39\",\"0.2\",\">0.20\",\"a\"\n\"1\",\"0.16513402253992393\",\"526\",\"0.01\",\"<0.01\",\"p\"\n\"10\",\"0.1838866707161501\",\"613\",\"0.01\",\"<0.01\",\"p\"\n\"7\",\"0.16595695373703034\",\"1118\",\"0.01\",\"<0.01\",\"p\"\n\"6\",\"0.1514699463909644\",\"1151\",\"0.01\",\"<0.01\",\"p\"\n\"2\",\"0.16821365318018022\",\"888\",\"0.01\",\"<0.01\",\"p\"\n\"13\",\"0.19186959577777774\",\"45\",\"0.01\",\"<0.01\",\"p\"\n\"5\",\"0.17417877405882343\",\"1190\",\"0.01\",\"<0.01\",\"p\"",
      "text/html": [
       "<div class = \"td-resultset-table-div\" style = \"max-height: 100%; overflow-y: auto\">\n",
       "      <table class=\"tdhistory204516\"><style>\n",
       "      table.tdhistory204516 { display: block !important; min-height: 399px !important; overflow: auto !important; height: 399px !important; width: 100% !important; border: 1px solid rgb(207, 207, 207) !important; border-collapse: collapse !important; ; color: var(--jp-ui-font-color1) !important; }\n",
       "      th.tdhistory204516 { border: 1px solid rgb(198,198,198) !important; border-collapse: collapse !important; ; padding: 2px 5px !important; ; font-size: 13px !important; ; text-align: center !important; white-space: normal !important; color: var(--jp-ui-font-color1) !important; }\n",
       "      th.tdhistory204516:last-child { text-align: left !important; }\n",
       "      tbody.tdhistory204516 tr:nth-child(even) { background: rgba(243, 243, 243, 0.75) !important; }\n",
       "      tbody.tdhistory204516 tr:nth-child(odd) { background: var(--jp-ui-inverse-font-color1) !important; }\n",
       "      td.tdhistory204516 { border: 1px solid rgb(207, 207, 207) !important; border-collapse: collapse !important; ; padding: 2px 5px !important; ; font-size: 13px !important; ; text-align: left !important;          white-space: nowrap !important; overflow:hidden !important; text-overflow:ellipsis !important;; }\n",
       "    </style><thead><tr style= \"background: rgba(243, 243, 243, 0.75)\"><th class=\"tdhistory204516\"></th><th class=\"tdhistory204516\">tot_cust_years</th><th class=\"tdhistory204516\">Lilliefors</th><th class=\"tdhistory204516\">M</th><th class=\"tdhistory204516\">LillieforsPValue</th><th class=\"tdhistory204516\">LillieforsPText</th><th class=\"tdhistory204516\">LillieforsCallP_5E-2</th></tr></thead><tbody class=\"tdhistory204516 resultset-body\"><tr><th class=\"tdhistory204516\" style= \"background: rgba(243, 243, 243, 0.75)\">1</th><td class=\"tdhistory204516\">8</td><td class=\"tdhistory204516\">0.16437102548323468</td><td class=\"tdhistory204516\">1014</td><td class=\"tdhistory204516\">0.01</td><td class=\"tdhistory204516\"><0.01</td><td class=\"tdhistory204516\">p</td></tr><tr><th class=\"tdhistory204516\" style= \"background: rgba(243, 243, 243, 0.75)\">2</th><td class=\"tdhistory204516\">11</td><td class=\"tdhistory204516\">0.14539964207486628</td><td class=\"tdhistory204516\">374</td><td class=\"tdhistory204516\">0.01</td><td class=\"tdhistory204516\"><0.01</td><td class=\"tdhistory204516\">p</td></tr><tr><th class=\"tdhistory204516\" style= \"background: rgba(243, 243, 243, 0.75)\">3</th><td class=\"tdhistory204516\">12</td><td class=\"tdhistory204516\">0.14397700704395605</td><td class=\"tdhistory204516\">182</td><td class=\"tdhistory204516\">0.01</td><td class=\"tdhistory204516\"><0.01</td><td class=\"tdhistory204516\">p</td></tr><tr><th class=\"tdhistory204516\" style= \"background: rgba(243, 243, 243, 0.75)\">4</th><td class=\"tdhistory204516\">0</td><td class=\"tdhistory204516\">0.15455723972727275</td><td class=\"tdhistory204516\">176</td><td class=\"tdhistory204516\">0.01</td><td class=\"tdhistory204516\"><0.01</td><td class=\"tdhistory204516\">p</td></tr><tr><th class=\"tdhistory204516\" style= \"background: rgba(243, 243, 243, 0.75)\">5</th><td class=\"tdhistory204516\">3</td><td class=\"tdhistory204516\">0.1652836109310345</td><td class=\"tdhistory204516\">1160</td><td class=\"tdhistory204516\">0.01</td><td class=\"tdhistory204516\"><0.01</td><td class=\"tdhistory204516\">p</td></tr><tr><th class=\"tdhistory204516\" style= \"background: rgba(243, 243, 243, 0.75)\">6</th><td class=\"tdhistory204516\">9</td><td class=\"tdhistory204516\">0.15286021289940832</td><td class=\"tdhistory204516\">845</td><td class=\"tdhistory204516\">0.01</td><td class=\"tdhistory204516\"><0.01</td><td class=\"tdhistory204516\">p</td></tr><tr><th class=\"tdhistory204516\" style= \"background: rgba(243, 243, 243, 0.75)\">7</th><td class=\"tdhistory204516\">4</td><td class=\"tdhistory204516\">0.17220877782761657</td><td class=\"tdhistory204516\">1137</td><td class=\"tdhistory204516\">0.01</td><td class=\"tdhistory204516\"><0.01</td><td class=\"tdhistory204516\">p</td></tr><tr><th class=\"tdhistory204516\" style= \"background: rgba(243, 243, 243, 0.75)\">8</th><td class=\"tdhistory204516\">14</td><td class=\"tdhistory204516\">0.11152678682051276</td><td class=\"tdhistory204516\">39</td><td class=\"tdhistory204516\">0.2</td><td class=\"tdhistory204516\">>0.20</td><td class=\"tdhistory204516\">a</td></tr><tr><th class=\"tdhistory204516\" style= \"background: rgba(243, 243, 243, 0.75)\">9</th><td class=\"tdhistory204516\">1</td><td class=\"tdhistory204516\">0.16513402253992393</td><td class=\"tdhistory204516\">526</td><td class=\"tdhistory204516\">0.01</td><td class=\"tdhistory204516\"><0.01</td><td class=\"tdhistory204516\">p</td></tr><tr><th class=\"tdhistory204516\" style= \"background: rgba(243, 243, 243, 0.75)\">10</th><td class=\"tdhistory204516\">10</td><td class=\"tdhistory204516\">0.1838866707161501</td><td class=\"tdhistory204516\">613</td><td class=\"tdhistory204516\">0.01</td><td class=\"tdhistory204516\"><0.01</td><td class=\"tdhistory204516\">p</td></tr><tr><th class=\"tdhistory204516\" style= \"background: rgba(243, 243, 243, 0.75)\">11</th><td class=\"tdhistory204516\">7</td><td class=\"tdhistory204516\">0.16595695373703034</td><td class=\"tdhistory204516\">1118</td><td class=\"tdhistory204516\">0.01</td><td class=\"tdhistory204516\"><0.01</td><td class=\"tdhistory204516\">p</td></tr><tr><th class=\"tdhistory204516\" style= \"background: rgba(243, 243, 243, 0.75)\">12</th><td class=\"tdhistory204516\">6</td><td class=\"tdhistory204516\">0.1514699463909644</td><td class=\"tdhistory204516\">1151</td><td class=\"tdhistory204516\">0.01</td><td class=\"tdhistory204516\"><0.01</td><td class=\"tdhistory204516\">p</td></tr><tr><th class=\"tdhistory204516\" style= \"background: rgba(243, 243, 243, 0.75)\">13</th><td class=\"tdhistory204516\">2</td><td class=\"tdhistory204516\">0.16821365318018022</td><td class=\"tdhistory204516\">888</td><td class=\"tdhistory204516\">0.01</td><td class=\"tdhistory204516\"><0.01</td><td class=\"tdhistory204516\">p</td></tr><tr><th class=\"tdhistory204516\" style= \"background: rgba(243, 243, 243, 0.75)\">14</th><td class=\"tdhistory204516\">13</td><td class=\"tdhistory204516\">0.19186959577777774</td><td class=\"tdhistory204516\">45</td><td class=\"tdhistory204516\">0.01</td><td class=\"tdhistory204516\"><0.01</td><td class=\"tdhistory204516\">p</td></tr><tr><th class=\"tdhistory204516\" style= \"background: rgba(243, 243, 243, 0.75)\">15</th><td class=\"tdhistory204516\">5</td><td class=\"tdhistory204516\">0.17417877405882343</td><td class=\"tdhistory204516\">1190</td><td class=\"tdhistory204516\">0.01</td><td class=\"tdhistory204516\"><0.01</td><td class=\"tdhistory204516\">p</td></tr></tbody></table></div>"
      ]
     },
     "execution_count": 22,
     "metadata": {
      "application/vnd.teradata.resultset": "{\"resultSetID\":\"/home/jovyan/JupyterLabRoot/Teradata/Resultsets/2022.07.04_11.36.51.484_UTC\",\"historyID\":864,\"chunkID\":\"00001\",\"sessionid\":\"\",\"portnum\":\"\",\"dockermode\":\"docker\",\"totalRowCount\":15,\"chunkCount\":0,\"rowLimit\":0,\"columnMetadata\":[{\"columnName\":\"tot_cust_years\",\"columnTypeName\":\"INTEGER\"},{\"columnNumber\":1,\"columnName\":\"Lilliefors\",\"columnTypeName\":\"FLOAT\"},{\"columnNumber\":2,\"columnName\":\"M\",\"columnTypeName\":\"FLOAT\"},{\"columnNumber\":3,\"columnName\":\"LillieforsPValue\",\"columnTypeName\":\"FLOAT\"},{\"columnNumber\":4,\"columnName\":\"LillieforsPText\",\"columnTypeName\":\"VARCHAR\",\"length\":5,\"scale\":5},{\"columnNumber\":5,\"columnName\":\"LillieforsCallP_5E-2\",\"columnTypeName\":\"VARCHAR\",\"length\":1,\"scale\":1}]}"
     },
     "output_type": "execute_result"
    }
   ],
   "source": [
    "call ${VALDB}.td_analyze('KSTest', \n",
    "                         'database=${QLID};\n",
    "                          tablename=VAL_ADS;\n",
    "                          columnofinterest=tot_income;\n",
    "                          teststyle=L;\n",
    "                          groupby=tot_cust_years;\n",
    "                          statsdatabase=${VALDB};');"
   ]
  },
  {
   "cell_type": "markdown",
   "metadata": {},
   "source": [
    "3.  Shapiro-Wilk test with group-by option"
   ]
  },
  {
   "cell_type": "code",
   "execution_count": 23,
   "metadata": {},
   "outputs": [
    {
     "data": {
      "text/plain": [
       "Success: 0 rows affected"
      ]
     },
     "execution_count": 23,
     "metadata": {
      "application/vnd.teradata.resultset": ""
     },
     "output_type": "execute_result"
    },
    {
     "ename": "WARNING",
     "evalue": "[Teradata Database] [Warning 3212] The stored procedure returned one or more result sets.",
     "output_type": "error",
     "traceback": [
      "[Teradata Database] [Warning 3212] The stored procedure returned one or more result sets."
     ]
    },
    {
     "data": {
      "application/vnd.teradata.resultset": "\"tot_cust_years\",\"Shw\",\"N\",\"ShapiroWilkPValue\",\"ShapiroWilkPText\",\"ShapiroWilkCallP_5E-2\"\n\"2\",\"0.7380468157991137\",\"888\",\"1e-06\",\"\",\"p\"\n\"13\",\"0.8639321777575529\",\"45\",\"0.01\",\"<0.01\",\"p\"\n\"7\",\"0.7192490933650109\",\"1118\",\"1e-06\",\"\",\"p\"\n\"14\",\"0.9308345215745265\",\"39\",\"0.029586303936316234\",\"\",\"p\"\n\"1\",\"0.7768408108631799\",\"526\",\"1e-06\",\"\",\"p\"\n\"9\",\"0.7646871828003442\",\"845\",\"1e-06\",\"\",\"p\"\n\"12\",\"0.8145813511010311\",\"182\",\"1e-06\",\"\",\"p\"\n\"0\",\"0.8439237666531053\",\"176\",\"1e-06\",\"\",\"p\"\n\"8\",\"0.7397561124692299\",\"1014\",\"1e-06\",\"\",\"p\"\n\"10\",\"0.7328519330437482\",\"613\",\"1e-06\",\"\",\"p\"\n\"4\",\"0.7244255624743273\",\"1137\",\"1e-06\",\"\",\"p\"\n\"6\",\"0.7343209428011319\",\"1151\",\"1e-06\",\"\",\"p\"\n\"5\",\"0.7197366806117586\",\"1190\",\"1e-06\",\"\",\"p\"\n\"11\",\"0.788393661189957\",\"374\",\"1e-06\",\"\",\"p\"\n\"3\",\"0.7305021636588558\",\"1160\",\"1e-06\",\"\",\"p\"",
      "text/html": [
       "<div class = \"td-resultset-table-div\" style = \"max-height: 100%; overflow-y: auto\">\n",
       "      <table class=\"tdhistory897290\"><style>\n",
       "      table.tdhistory897290 { display: block !important; min-height: 399px !important; overflow: auto !important; height: 399px !important; width: 100% !important; border: 1px solid rgb(207, 207, 207) !important; border-collapse: collapse !important; ; color: var(--jp-ui-font-color1) !important; }\n",
       "      th.tdhistory897290 { border: 1px solid rgb(198,198,198) !important; border-collapse: collapse !important; ; padding: 2px 5px !important; ; font-size: 13px !important; ; text-align: center !important; white-space: normal !important; color: var(--jp-ui-font-color1) !important; }\n",
       "      th.tdhistory897290:last-child { text-align: left !important; }\n",
       "      tbody.tdhistory897290 tr:nth-child(even) { background: rgba(243, 243, 243, 0.75) !important; }\n",
       "      tbody.tdhistory897290 tr:nth-child(odd) { background: var(--jp-ui-inverse-font-color1) !important; }\n",
       "      td.tdhistory897290 { border: 1px solid rgb(207, 207, 207) !important; border-collapse: collapse !important; ; padding: 2px 5px !important; ; font-size: 13px !important; ; text-align: left !important;          white-space: nowrap !important; overflow:hidden !important; text-overflow:ellipsis !important;; }\n",
       "    </style><thead><tr style= \"background: rgba(243, 243, 243, 0.75)\"><th class=\"tdhistory897290\"></th><th class=\"tdhistory897290\">tot_cust_years</th><th class=\"tdhistory897290\">Shw</th><th class=\"tdhistory897290\">N</th><th class=\"tdhistory897290\">ShapiroWilkPValue</th><th class=\"tdhistory897290\">ShapiroWilkPText</th><th class=\"tdhistory897290\">ShapiroWilkCallP_5E-2</th></tr></thead><tbody class=\"tdhistory897290 resultset-body\"><tr><th class=\"tdhistory897290\" style= \"background: rgba(243, 243, 243, 0.75)\">1</th><td class=\"tdhistory897290\">2</td><td class=\"tdhistory897290\">0.7380468157991137</td><td class=\"tdhistory897290\">888</td><td class=\"tdhistory897290\">1e-06</td><td class=\"tdhistory897290\"></td><td class=\"tdhistory897290\">p</td></tr><tr><th class=\"tdhistory897290\" style= \"background: rgba(243, 243, 243, 0.75)\">2</th><td class=\"tdhistory897290\">13</td><td class=\"tdhistory897290\">0.8639321777575529</td><td class=\"tdhistory897290\">45</td><td class=\"tdhistory897290\">0.01</td><td class=\"tdhistory897290\"><0.01</td><td class=\"tdhistory897290\">p</td></tr><tr><th class=\"tdhistory897290\" style= \"background: rgba(243, 243, 243, 0.75)\">3</th><td class=\"tdhistory897290\">7</td><td class=\"tdhistory897290\">0.7192490933650109</td><td class=\"tdhistory897290\">1118</td><td class=\"tdhistory897290\">1e-06</td><td class=\"tdhistory897290\"></td><td class=\"tdhistory897290\">p</td></tr><tr><th class=\"tdhistory897290\" style= \"background: rgba(243, 243, 243, 0.75)\">4</th><td class=\"tdhistory897290\">14</td><td class=\"tdhistory897290\">0.9308345215745265</td><td class=\"tdhistory897290\">39</td><td class=\"tdhistory897290\">0.029586303936316234</td><td class=\"tdhistory897290\"></td><td class=\"tdhistory897290\">p</td></tr><tr><th class=\"tdhistory897290\" style= \"background: rgba(243, 243, 243, 0.75)\">5</th><td class=\"tdhistory897290\">1</td><td class=\"tdhistory897290\">0.7768408108631799</td><td class=\"tdhistory897290\">526</td><td class=\"tdhistory897290\">1e-06</td><td class=\"tdhistory897290\"></td><td class=\"tdhistory897290\">p</td></tr><tr><th class=\"tdhistory897290\" style= \"background: rgba(243, 243, 243, 0.75)\">6</th><td class=\"tdhistory897290\">9</td><td class=\"tdhistory897290\">0.7646871828003442</td><td class=\"tdhistory897290\">845</td><td class=\"tdhistory897290\">1e-06</td><td class=\"tdhistory897290\"></td><td class=\"tdhistory897290\">p</td></tr><tr><th class=\"tdhistory897290\" style= \"background: rgba(243, 243, 243, 0.75)\">7</th><td class=\"tdhistory897290\">12</td><td class=\"tdhistory897290\">0.8145813511010311</td><td class=\"tdhistory897290\">182</td><td class=\"tdhistory897290\">1e-06</td><td class=\"tdhistory897290\"></td><td class=\"tdhistory897290\">p</td></tr><tr><th class=\"tdhistory897290\" style= \"background: rgba(243, 243, 243, 0.75)\">8</th><td class=\"tdhistory897290\">0</td><td class=\"tdhistory897290\">0.8439237666531053</td><td class=\"tdhistory897290\">176</td><td class=\"tdhistory897290\">1e-06</td><td class=\"tdhistory897290\"></td><td class=\"tdhistory897290\">p</td></tr><tr><th class=\"tdhistory897290\" style= \"background: rgba(243, 243, 243, 0.75)\">9</th><td class=\"tdhistory897290\">8</td><td class=\"tdhistory897290\">0.7397561124692299</td><td class=\"tdhistory897290\">1014</td><td class=\"tdhistory897290\">1e-06</td><td class=\"tdhistory897290\"></td><td class=\"tdhistory897290\">p</td></tr><tr><th class=\"tdhistory897290\" style= \"background: rgba(243, 243, 243, 0.75)\">10</th><td class=\"tdhistory897290\">10</td><td class=\"tdhistory897290\">0.7328519330437482</td><td class=\"tdhistory897290\">613</td><td class=\"tdhistory897290\">1e-06</td><td class=\"tdhistory897290\"></td><td class=\"tdhistory897290\">p</td></tr><tr><th class=\"tdhistory897290\" style= \"background: rgba(243, 243, 243, 0.75)\">11</th><td class=\"tdhistory897290\">4</td><td class=\"tdhistory897290\">0.7244255624743273</td><td class=\"tdhistory897290\">1137</td><td class=\"tdhistory897290\">1e-06</td><td class=\"tdhistory897290\"></td><td class=\"tdhistory897290\">p</td></tr><tr><th class=\"tdhistory897290\" style= \"background: rgba(243, 243, 243, 0.75)\">12</th><td class=\"tdhistory897290\">6</td><td class=\"tdhistory897290\">0.7343209428011319</td><td class=\"tdhistory897290\">1151</td><td class=\"tdhistory897290\">1e-06</td><td class=\"tdhistory897290\"></td><td class=\"tdhistory897290\">p</td></tr><tr><th class=\"tdhistory897290\" style= \"background: rgba(243, 243, 243, 0.75)\">13</th><td class=\"tdhistory897290\">5</td><td class=\"tdhistory897290\">0.7197366806117586</td><td class=\"tdhistory897290\">1190</td><td class=\"tdhistory897290\">1e-06</td><td class=\"tdhistory897290\"></td><td class=\"tdhistory897290\">p</td></tr><tr><th class=\"tdhistory897290\" style= \"background: rgba(243, 243, 243, 0.75)\">14</th><td class=\"tdhistory897290\">11</td><td class=\"tdhistory897290\">0.788393661189957</td><td class=\"tdhistory897290\">374</td><td class=\"tdhistory897290\">1e-06</td><td class=\"tdhistory897290\"></td><td class=\"tdhistory897290\">p</td></tr><tr><th class=\"tdhistory897290\" style= \"background: rgba(243, 243, 243, 0.75)\">15</th><td class=\"tdhistory897290\">3</td><td class=\"tdhistory897290\">0.7305021636588558</td><td class=\"tdhistory897290\">1160</td><td class=\"tdhistory897290\">1e-06</td><td class=\"tdhistory897290\"></td><td class=\"tdhistory897290\">p</td></tr></tbody></table></div>"
      ]
     },
     "execution_count": 23,
     "metadata": {
      "application/vnd.teradata.resultset": "{\"resultSetID\":\"/home/jovyan/JupyterLabRoot/Teradata/Resultsets/2022.07.04_11.36.56.706_UTC\",\"historyID\":865,\"chunkID\":\"00001\",\"sessionid\":\"\",\"portnum\":\"\",\"dockermode\":\"docker\",\"totalRowCount\":15,\"chunkCount\":0,\"rowLimit\":0,\"columnMetadata\":[{\"columnName\":\"tot_cust_years\",\"columnTypeName\":\"INTEGER\"},{\"columnNumber\":1,\"columnName\":\"Shw\",\"columnTypeName\":\"FLOAT\"},{\"columnNumber\":2,\"columnName\":\"N\",\"columnTypeName\":\"FLOAT\"},{\"columnNumber\":3,\"columnName\":\"ShapiroWilkPValue\",\"columnTypeName\":\"FLOAT\"},{\"columnNumber\":4,\"columnName\":\"ShapiroWilkPText\",\"columnTypeName\":\"VARCHAR\",\"length\":5,\"scale\":5},{\"columnNumber\":5,\"columnName\":\"ShapiroWilkCallP_5E-2\",\"columnTypeName\":\"VARCHAR\",\"length\":1,\"scale\":1}]}"
     },
     "output_type": "execute_result"
    }
   ],
   "source": [
    "call ${VALDB}.td_analyze('KSTest', \n",
    "                         'database=${QLID};\n",
    "                          tablename=VAL_ADS;\n",
    "                          columnofinterest=tot_income;\n",
    "                          teststyle=SW;\n",
    "                          groupby=tot_cust_years;\n",
    "                          statsdatabase=${VALDB};');"
   ]
  },
  {
   "cell_type": "markdown",
   "metadata": {},
   "source": [
    "4.  D'Agostino and Pearson Test with group-by option."
   ]
  },
  {
   "cell_type": "code",
   "execution_count": 24,
   "metadata": {},
   "outputs": [
    {
     "data": {
      "text/plain": [
       "Success: 0 rows affected"
      ]
     },
     "execution_count": 24,
     "metadata": {
      "application/vnd.teradata.resultset": ""
     },
     "output_type": "execute_result"
    },
    {
     "ename": "WARNING",
     "evalue": "[Teradata Database] [Warning 3212] The stored procedure returned one or more result sets.",
     "output_type": "error",
     "traceback": [
      "[Teradata Database] [Warning 3212] The stored procedure returned one or more result sets."
     ]
    },
    {
     "data": {
      "application/vnd.teradata.resultset": "\"tot_cust_years\",\"T\",\"Zkurtosis\",\"Zskew\",\"ChiPValue\",\"ChiPText\",\"ChiCallP_5E-2\"\n\"5\",\"670.6249123670659\",\"13.339258887906961\",\"22.196600746250787\",\"0.0001\",\"<0.0001\",\"p\"\n\"13\",\"6.550323087619043\",\"-0.2341478075898076\",\"2.548626667799725\",\"0.039921993675254674\",\"\",\"p\"\n\"7\",\"688.1595653640859\",\"13.841639526324549\",\"22.28381880619603\",\"0.0001\",\"<0.0001\",\"p\"\n\"0\",\"56.45743848242035\",\"3.7488191061924487\",\"6.511819545370311\",\"0.0001\",\"<0.0001\",\"p\"\n\"3\",\"589.3437122939459\",\"12.388685407891993\",\"20.877360612832025\",\"0.0001\",\"<0.0001\",\"p\"\n\"11\",\"147.96721301835333\",\"6.177449794326851\",\"10.478851418782714\",\"0.0001\",\"<0.0001\",\"p\"\n\"12\",\"56.863309905678065\",\"3.635569035893094\",\"6.606507980085502\",\"0.0001\",\"<0.0001\",\"p\"\n\"14\",\"3.3288601796289177\",\"-0.6811192150956646\",\"1.6926124170808814\",\"0.20446845179761375\",\"\",\"a\"\n\"1\",\"244.19995139460383\",\"8.296957017858581\",\"13.242373489613222\",\"0.0001\",\"<0.0001\",\"p\"\n\"9\",\"439.9169174138988\",\"11.233736234248122\",\"17.71214520133684\",\"0.0001\",\"<0.0001\",\"p\"\n\"4\",\"699.1670879024326\",\"14.007041161881443\",\"22.42699011886775\",\"0.0001\",\"<0.0001\",\"p\"\n\"6\",\"604.0920246471894\",\"12.549184333394136\",\"21.13314924978491\",\"0.0001\",\"<0.0001\",\"p\"\n\"8\",\"568.6738886642951\",\"12.717984474593111\",\"20.172425723454868\",\"0.0001\",\"<0.0001\",\"p\"\n\"10\",\"356.23886916414375\",\"10.217865246021466\",\"15.869281615066589\",\"0.0001\",\"<0.0001\",\"p\"\n\"2\",\"422.35825783891374\",\"10.416288136969385\",\"17.716071779221956\",\"0.0001\",\"<0.0001\",\"p\"",
      "text/html": [
       "<div class = \"td-resultset-table-div\" style = \"max-height: 100%; overflow-y: auto\">\n",
       "      <table class=\"tdhistory761944\"><style>\n",
       "      table.tdhistory761944 { display: block !important; min-height: 399px !important; overflow: auto !important; height: 399px !important; width: 100% !important; border: 1px solid rgb(207, 207, 207) !important; border-collapse: collapse !important; ; color: var(--jp-ui-font-color1) !important; }\n",
       "      th.tdhistory761944 { border: 1px solid rgb(198,198,198) !important; border-collapse: collapse !important; ; padding: 2px 5px !important; ; font-size: 13px !important; ; text-align: center !important; white-space: normal !important; color: var(--jp-ui-font-color1) !important; }\n",
       "      th.tdhistory761944:last-child { text-align: left !important; }\n",
       "      tbody.tdhistory761944 tr:nth-child(even) { background: rgba(243, 243, 243, 0.75) !important; }\n",
       "      tbody.tdhistory761944 tr:nth-child(odd) { background: var(--jp-ui-inverse-font-color1) !important; }\n",
       "      td.tdhistory761944 { border: 1px solid rgb(207, 207, 207) !important; border-collapse: collapse !important; ; padding: 2px 5px !important; ; font-size: 13px !important; ; text-align: left !important;          white-space: nowrap !important; overflow:hidden !important; text-overflow:ellipsis !important;; }\n",
       "    </style><thead><tr style= \"background: rgba(243, 243, 243, 0.75)\"><th class=\"tdhistory761944\"></th><th class=\"tdhistory761944\">tot_cust_years</th><th class=\"tdhistory761944\">T</th><th class=\"tdhistory761944\">Zkurtosis</th><th class=\"tdhistory761944\">Zskew</th><th class=\"tdhistory761944\">ChiPValue</th><th class=\"tdhistory761944\">ChiPText</th><th class=\"tdhistory761944\">ChiCallP_5E-2</th></tr></thead><tbody class=\"tdhistory761944 resultset-body\"><tr><th class=\"tdhistory761944\" style= \"background: rgba(243, 243, 243, 0.75)\">1</th><td class=\"tdhistory761944\">5</td><td class=\"tdhistory761944\">670.6249123670659</td><td class=\"tdhistory761944\">13.339258887906961</td><td class=\"tdhistory761944\">22.196600746250787</td><td class=\"tdhistory761944\">0.0001</td><td class=\"tdhistory761944\"><0.0001</td><td class=\"tdhistory761944\">p</td></tr><tr><th class=\"tdhistory761944\" style= \"background: rgba(243, 243, 243, 0.75)\">2</th><td class=\"tdhistory761944\">13</td><td class=\"tdhistory761944\">6.550323087619043</td><td class=\"tdhistory761944\">-0.2341478075898076</td><td class=\"tdhistory761944\">2.548626667799725</td><td class=\"tdhistory761944\">0.039921993675254674</td><td class=\"tdhistory761944\"></td><td class=\"tdhistory761944\">p</td></tr><tr><th class=\"tdhistory761944\" style= \"background: rgba(243, 243, 243, 0.75)\">3</th><td class=\"tdhistory761944\">7</td><td class=\"tdhistory761944\">688.1595653640859</td><td class=\"tdhistory761944\">13.841639526324549</td><td class=\"tdhistory761944\">22.28381880619603</td><td class=\"tdhistory761944\">0.0001</td><td class=\"tdhistory761944\"><0.0001</td><td class=\"tdhistory761944\">p</td></tr><tr><th class=\"tdhistory761944\" style= \"background: rgba(243, 243, 243, 0.75)\">4</th><td class=\"tdhistory761944\">0</td><td class=\"tdhistory761944\">56.45743848242035</td><td class=\"tdhistory761944\">3.7488191061924487</td><td class=\"tdhistory761944\">6.511819545370311</td><td class=\"tdhistory761944\">0.0001</td><td class=\"tdhistory761944\"><0.0001</td><td class=\"tdhistory761944\">p</td></tr><tr><th class=\"tdhistory761944\" style= \"background: rgba(243, 243, 243, 0.75)\">5</th><td class=\"tdhistory761944\">3</td><td class=\"tdhistory761944\">589.3437122939459</td><td class=\"tdhistory761944\">12.388685407891993</td><td class=\"tdhistory761944\">20.877360612832025</td><td class=\"tdhistory761944\">0.0001</td><td class=\"tdhistory761944\"><0.0001</td><td class=\"tdhistory761944\">p</td></tr><tr><th class=\"tdhistory761944\" style= \"background: rgba(243, 243, 243, 0.75)\">6</th><td class=\"tdhistory761944\">11</td><td class=\"tdhistory761944\">147.96721301835333</td><td class=\"tdhistory761944\">6.177449794326851</td><td class=\"tdhistory761944\">10.478851418782714</td><td class=\"tdhistory761944\">0.0001</td><td class=\"tdhistory761944\"><0.0001</td><td class=\"tdhistory761944\">p</td></tr><tr><th class=\"tdhistory761944\" style= \"background: rgba(243, 243, 243, 0.75)\">7</th><td class=\"tdhistory761944\">12</td><td class=\"tdhistory761944\">56.863309905678065</td><td class=\"tdhistory761944\">3.635569035893094</td><td class=\"tdhistory761944\">6.606507980085502</td><td class=\"tdhistory761944\">0.0001</td><td class=\"tdhistory761944\"><0.0001</td><td class=\"tdhistory761944\">p</td></tr><tr><th class=\"tdhistory761944\" style= \"background: rgba(243, 243, 243, 0.75)\">8</th><td class=\"tdhistory761944\">14</td><td class=\"tdhistory761944\">3.3288601796289177</td><td class=\"tdhistory761944\">-0.6811192150956646</td><td class=\"tdhistory761944\">1.6926124170808814</td><td class=\"tdhistory761944\">0.20446845179761375</td><td class=\"tdhistory761944\"></td><td class=\"tdhistory761944\">a</td></tr><tr><th class=\"tdhistory761944\" style= \"background: rgba(243, 243, 243, 0.75)\">9</th><td class=\"tdhistory761944\">1</td><td class=\"tdhistory761944\">244.19995139460383</td><td class=\"tdhistory761944\">8.296957017858581</td><td class=\"tdhistory761944\">13.242373489613222</td><td class=\"tdhistory761944\">0.0001</td><td class=\"tdhistory761944\"><0.0001</td><td class=\"tdhistory761944\">p</td></tr><tr><th class=\"tdhistory761944\" style= \"background: rgba(243, 243, 243, 0.75)\">10</th><td class=\"tdhistory761944\">9</td><td class=\"tdhistory761944\">439.9169174138988</td><td class=\"tdhistory761944\">11.233736234248122</td><td class=\"tdhistory761944\">17.71214520133684</td><td class=\"tdhistory761944\">0.0001</td><td class=\"tdhistory761944\"><0.0001</td><td class=\"tdhistory761944\">p</td></tr><tr><th class=\"tdhistory761944\" style= \"background: rgba(243, 243, 243, 0.75)\">11</th><td class=\"tdhistory761944\">4</td><td class=\"tdhistory761944\">699.1670879024326</td><td class=\"tdhistory761944\">14.007041161881443</td><td class=\"tdhistory761944\">22.42699011886775</td><td class=\"tdhistory761944\">0.0001</td><td class=\"tdhistory761944\"><0.0001</td><td class=\"tdhistory761944\">p</td></tr><tr><th class=\"tdhistory761944\" style= \"background: rgba(243, 243, 243, 0.75)\">12</th><td class=\"tdhistory761944\">6</td><td class=\"tdhistory761944\">604.0920246471894</td><td class=\"tdhistory761944\">12.549184333394136</td><td class=\"tdhistory761944\">21.13314924978491</td><td class=\"tdhistory761944\">0.0001</td><td class=\"tdhistory761944\"><0.0001</td><td class=\"tdhistory761944\">p</td></tr><tr><th class=\"tdhistory761944\" style= \"background: rgba(243, 243, 243, 0.75)\">13</th><td class=\"tdhistory761944\">8</td><td class=\"tdhistory761944\">568.6738886642951</td><td class=\"tdhistory761944\">12.717984474593111</td><td class=\"tdhistory761944\">20.172425723454868</td><td class=\"tdhistory761944\">0.0001</td><td class=\"tdhistory761944\"><0.0001</td><td class=\"tdhistory761944\">p</td></tr><tr><th class=\"tdhistory761944\" style= \"background: rgba(243, 243, 243, 0.75)\">14</th><td class=\"tdhistory761944\">10</td><td class=\"tdhistory761944\">356.23886916414375</td><td class=\"tdhistory761944\">10.217865246021466</td><td class=\"tdhistory761944\">15.869281615066589</td><td class=\"tdhistory761944\">0.0001</td><td class=\"tdhistory761944\"><0.0001</td><td class=\"tdhistory761944\">p</td></tr><tr><th class=\"tdhistory761944\" style= \"background: rgba(243, 243, 243, 0.75)\">15</th><td class=\"tdhistory761944\">2</td><td class=\"tdhistory761944\">422.35825783891374</td><td class=\"tdhistory761944\">10.416288136969385</td><td class=\"tdhistory761944\">17.716071779221956</td><td class=\"tdhistory761944\">0.0001</td><td class=\"tdhistory761944\"><0.0001</td><td class=\"tdhistory761944\">p</td></tr></tbody></table></div>"
      ]
     },
     "execution_count": 24,
     "metadata": {
      "application/vnd.teradata.resultset": "{\"resultSetID\":\"/home/jovyan/JupyterLabRoot/Teradata/Resultsets/2022.07.04_11.37.01.323_UTC\",\"historyID\":866,\"chunkID\":\"00001\",\"sessionid\":\"\",\"portnum\":\"\",\"dockermode\":\"docker\",\"totalRowCount\":15,\"chunkCount\":0,\"rowLimit\":0,\"columnMetadata\":[{\"columnName\":\"tot_cust_years\",\"columnTypeName\":\"INTEGER\"},{\"columnNumber\":1,\"columnName\":\"T\",\"columnTypeName\":\"FLOAT\"},{\"columnNumber\":2,\"columnName\":\"Zkurtosis\",\"columnTypeName\":\"FLOAT\"},{\"columnNumber\":3,\"columnName\":\"Zskew\",\"columnTypeName\":\"FLOAT\"},{\"columnNumber\":4,\"columnName\":\"ChiPValue\",\"columnTypeName\":\"FLOAT\"},{\"columnNumber\":5,\"columnName\":\"ChiPText\",\"columnTypeName\":\"VARCHAR\",\"length\":7,\"scale\":7},{\"columnNumber\":6,\"columnName\":\"ChiCallP_5E-2\",\"columnTypeName\":\"VARCHAR\",\"length\":1,\"scale\":1}]}"
     },
     "output_type": "execute_result"
    }
   ],
   "source": [
    "call ${VALDB}.td_analyze('KSTest', \n",
    "                         'database=${QLID};\n",
    "                          tablename=VAL_ADS;\n",
    "                          columnofinterest=tot_income;\n",
    "                          teststyle=P;\n",
    "                          groupby=tot_cust_years;\n",
    "                          statsdatabase=${VALDB};');"
   ]
  },
  {
   "cell_type": "markdown",
   "metadata": {},
   "source": [
    "5.  Smirnov test with group-by option."
   ]
  },
  {
   "cell_type": "code",
   "execution_count": 25,
   "metadata": {},
   "outputs": [
    {
     "data": {
      "text/plain": [
       "Success: 0 rows affected"
      ]
     },
     "execution_count": 25,
     "metadata": {
      "application/vnd.teradata.resultset": ""
     },
     "output_type": "execute_result"
    },
    {
     "ename": "WARNING",
     "evalue": "[Teradata Database] [Warning 3212] The stored procedure returned one or more result sets.",
     "output_type": "error",
     "traceback": [
      "[Teradata Database] [Warning 3212] The stored procedure returned one or more result sets."
     ]
    },
    {
     "data": {
      "application/vnd.teradata.resultset": "\"tot_cust_years\",\"M\",\"N\",\"D\",\"SmirnovPValue\",\"SmirnovPText\",\"SmirnovCallP_5E-2\"\n\"8\",\"450\",\"564\",\"1.3487542965939756\",\"0.005\",\"<0.005\",\"p\"\n\"11\",\"158\",\"216\",\"1.28583977246989\",\"0.005\",\"<0.005\",\"p\"\n\"12\",\"77\",\"105\",\"1.342031698510743\",\"0.005\",\"<0.005\",\"p\"\n\"0\",\"74\",\"102\",\"1.3138514694762051\",\"0.005\",\"<0.005\",\"p\"\n\"3\",\"495\",\"665\",\"1.3747929978081483\",\"0.005\",\"<0.005\",\"p\"\n\"9\",\"374\",\"471\",\"1.3686535531467747\",\"0.005\",\"<0.005\",\"p\"\n\"4\",\"503\",\"634\",\"1.376370284874394\",\"0.005\",\"<0.005\",\"p\"\n\"14\",\"16\",\"23\",\"1.3716711154323065\",\"0.000101\",\"\",\"p\"\n\"1\",\"226\",\"300\",\"1.3719868864801086\",\"0.005\",\"<0.005\",\"p\"\n\"10\",\"263\",\"350\",\"1.371327349938218\",\"0.005\",\"<0.005\",\"p\"\n\"7\",\"504\",\"614\",\"1.350382961089089\",\"0.005\",\"<0.005\",\"p\"\n\"6\",\"533\",\"618\",\"1.3732892384096527\",\"0.005\",\"<0.005\",\"p\"\n\"2\",\"378\",\"510\",\"1.3737247822288907\",\"0.005\",\"<0.005\",\"p\"\n\"13\",\"19\",\"26\",\"1.3476431854828643\",\"0.00011\",\"\",\"p\"\n\"5\",\"536\",\"654\",\"1.373515938467877\",\"0.005\",\"<0.005\",\"p\"",
      "text/html": [
       "<div class = \"td-resultset-table-div\" style = \"max-height: 100%; overflow-y: auto\">\n",
       "      <table class=\"tdhistory820414\"><style>\n",
       "      table.tdhistory820414 { display: block !important; min-height: 399px !important; overflow: auto !important; height: 399px !important; width: 100% !important; border: 1px solid rgb(207, 207, 207) !important; border-collapse: collapse !important; ; color: var(--jp-ui-font-color1) !important; }\n",
       "      th.tdhistory820414 { border: 1px solid rgb(198,198,198) !important; border-collapse: collapse !important; ; padding: 2px 5px !important; ; font-size: 13px !important; ; text-align: center !important; white-space: normal !important; color: var(--jp-ui-font-color1) !important; }\n",
       "      th.tdhistory820414:last-child { text-align: left !important; }\n",
       "      tbody.tdhistory820414 tr:nth-child(even) { background: rgba(243, 243, 243, 0.75) !important; }\n",
       "      tbody.tdhistory820414 tr:nth-child(odd) { background: var(--jp-ui-inverse-font-color1) !important; }\n",
       "      td.tdhistory820414 { border: 1px solid rgb(207, 207, 207) !important; border-collapse: collapse !important; ; padding: 2px 5px !important; ; font-size: 13px !important; ; text-align: left !important;          white-space: nowrap !important; overflow:hidden !important; text-overflow:ellipsis !important;; }\n",
       "    </style><thead><tr style= \"background: rgba(243, 243, 243, 0.75)\"><th class=\"tdhistory820414\"></th><th class=\"tdhistory820414\">tot_cust_years</th><th class=\"tdhistory820414\">M</th><th class=\"tdhistory820414\">N</th><th class=\"tdhistory820414\">D</th><th class=\"tdhistory820414\">SmirnovPValue</th><th class=\"tdhistory820414\">SmirnovPText</th><th class=\"tdhistory820414\">SmirnovCallP_5E-2</th></tr></thead><tbody class=\"tdhistory820414 resultset-body\"><tr><th class=\"tdhistory820414\" style= \"background: rgba(243, 243, 243, 0.75)\">1</th><td class=\"tdhistory820414\">8</td><td class=\"tdhistory820414\">450</td><td class=\"tdhistory820414\">564</td><td class=\"tdhistory820414\">1.3487542965939756</td><td class=\"tdhistory820414\">0.005</td><td class=\"tdhistory820414\"><0.005</td><td class=\"tdhistory820414\">p</td></tr><tr><th class=\"tdhistory820414\" style= \"background: rgba(243, 243, 243, 0.75)\">2</th><td class=\"tdhistory820414\">11</td><td class=\"tdhistory820414\">158</td><td class=\"tdhistory820414\">216</td><td class=\"tdhistory820414\">1.28583977246989</td><td class=\"tdhistory820414\">0.005</td><td class=\"tdhistory820414\"><0.005</td><td class=\"tdhistory820414\">p</td></tr><tr><th class=\"tdhistory820414\" style= \"background: rgba(243, 243, 243, 0.75)\">3</th><td class=\"tdhistory820414\">12</td><td class=\"tdhistory820414\">77</td><td class=\"tdhistory820414\">105</td><td class=\"tdhistory820414\">1.342031698510743</td><td class=\"tdhistory820414\">0.005</td><td class=\"tdhistory820414\"><0.005</td><td class=\"tdhistory820414\">p</td></tr><tr><th class=\"tdhistory820414\" style= \"background: rgba(243, 243, 243, 0.75)\">4</th><td class=\"tdhistory820414\">0</td><td class=\"tdhistory820414\">74</td><td class=\"tdhistory820414\">102</td><td class=\"tdhistory820414\">1.3138514694762051</td><td class=\"tdhistory820414\">0.005</td><td class=\"tdhistory820414\"><0.005</td><td class=\"tdhistory820414\">p</td></tr><tr><th class=\"tdhistory820414\" style= \"background: rgba(243, 243, 243, 0.75)\">5</th><td class=\"tdhistory820414\">3</td><td class=\"tdhistory820414\">495</td><td class=\"tdhistory820414\">665</td><td class=\"tdhistory820414\">1.3747929978081483</td><td class=\"tdhistory820414\">0.005</td><td class=\"tdhistory820414\"><0.005</td><td class=\"tdhistory820414\">p</td></tr><tr><th class=\"tdhistory820414\" style= \"background: rgba(243, 243, 243, 0.75)\">6</th><td class=\"tdhistory820414\">9</td><td class=\"tdhistory820414\">374</td><td class=\"tdhistory820414\">471</td><td class=\"tdhistory820414\">1.3686535531467747</td><td class=\"tdhistory820414\">0.005</td><td class=\"tdhistory820414\"><0.005</td><td class=\"tdhistory820414\">p</td></tr><tr><th class=\"tdhistory820414\" style= \"background: rgba(243, 243, 243, 0.75)\">7</th><td class=\"tdhistory820414\">4</td><td class=\"tdhistory820414\">503</td><td class=\"tdhistory820414\">634</td><td class=\"tdhistory820414\">1.376370284874394</td><td class=\"tdhistory820414\">0.005</td><td class=\"tdhistory820414\"><0.005</td><td class=\"tdhistory820414\">p</td></tr><tr><th class=\"tdhistory820414\" style= \"background: rgba(243, 243, 243, 0.75)\">8</th><td class=\"tdhistory820414\">14</td><td class=\"tdhistory820414\">16</td><td class=\"tdhistory820414\">23</td><td class=\"tdhistory820414\">1.3716711154323065</td><td class=\"tdhistory820414\">0.000101</td><td class=\"tdhistory820414\"></td><td class=\"tdhistory820414\">p</td></tr><tr><th class=\"tdhistory820414\" style= \"background: rgba(243, 243, 243, 0.75)\">9</th><td class=\"tdhistory820414\">1</td><td class=\"tdhistory820414\">226</td><td class=\"tdhistory820414\">300</td><td class=\"tdhistory820414\">1.3719868864801086</td><td class=\"tdhistory820414\">0.005</td><td class=\"tdhistory820414\"><0.005</td><td class=\"tdhistory820414\">p</td></tr><tr><th class=\"tdhistory820414\" style= \"background: rgba(243, 243, 243, 0.75)\">10</th><td class=\"tdhistory820414\">10</td><td class=\"tdhistory820414\">263</td><td class=\"tdhistory820414\">350</td><td class=\"tdhistory820414\">1.371327349938218</td><td class=\"tdhistory820414\">0.005</td><td class=\"tdhistory820414\"><0.005</td><td class=\"tdhistory820414\">p</td></tr><tr><th class=\"tdhistory820414\" style= \"background: rgba(243, 243, 243, 0.75)\">11</th><td class=\"tdhistory820414\">7</td><td class=\"tdhistory820414\">504</td><td class=\"tdhistory820414\">614</td><td class=\"tdhistory820414\">1.350382961089089</td><td class=\"tdhistory820414\">0.005</td><td class=\"tdhistory820414\"><0.005</td><td class=\"tdhistory820414\">p</td></tr><tr><th class=\"tdhistory820414\" style= \"background: rgba(243, 243, 243, 0.75)\">12</th><td class=\"tdhistory820414\">6</td><td class=\"tdhistory820414\">533</td><td class=\"tdhistory820414\">618</td><td class=\"tdhistory820414\">1.3732892384096527</td><td class=\"tdhistory820414\">0.005</td><td class=\"tdhistory820414\"><0.005</td><td class=\"tdhistory820414\">p</td></tr><tr><th class=\"tdhistory820414\" style= \"background: rgba(243, 243, 243, 0.75)\">13</th><td class=\"tdhistory820414\">2</td><td class=\"tdhistory820414\">378</td><td class=\"tdhistory820414\">510</td><td class=\"tdhistory820414\">1.3737247822288907</td><td class=\"tdhistory820414\">0.005</td><td class=\"tdhistory820414\"><0.005</td><td class=\"tdhistory820414\">p</td></tr><tr><th class=\"tdhistory820414\" style= \"background: rgba(243, 243, 243, 0.75)\">14</th><td class=\"tdhistory820414\">13</td><td class=\"tdhistory820414\">19</td><td class=\"tdhistory820414\">26</td><td class=\"tdhistory820414\">1.3476431854828643</td><td class=\"tdhistory820414\">0.00011</td><td class=\"tdhistory820414\"></td><td class=\"tdhistory820414\">p</td></tr><tr><th class=\"tdhistory820414\" style= \"background: rgba(243, 243, 243, 0.75)\">15</th><td class=\"tdhistory820414\">5</td><td class=\"tdhistory820414\">536</td><td class=\"tdhistory820414\">654</td><td class=\"tdhistory820414\">1.373515938467877</td><td class=\"tdhistory820414\">0.005</td><td class=\"tdhistory820414\"><0.005</td><td class=\"tdhistory820414\">p</td></tr></tbody></table></div>"
      ]
     },
     "execution_count": 25,
     "metadata": {
      "application/vnd.teradata.resultset": "{\"resultSetID\":\"/home/jovyan/JupyterLabRoot/Teradata/Resultsets/2022.07.04_11.37.07.071_UTC\",\"historyID\":867,\"chunkID\":\"00001\",\"sessionid\":\"\",\"portnum\":\"\",\"dockermode\":\"docker\",\"totalRowCount\":15,\"chunkCount\":0,\"rowLimit\":0,\"columnMetadata\":[{\"columnName\":\"tot_cust_years\",\"columnTypeName\":\"INTEGER\"},{\"columnNumber\":1,\"columnName\":\"M\",\"columnTypeName\":\"FLOAT\"},{\"columnNumber\":2,\"columnName\":\"N\",\"columnTypeName\":\"FLOAT\"},{\"columnNumber\":3,\"columnName\":\"D\",\"columnTypeName\":\"FLOAT\"},{\"columnNumber\":4,\"columnName\":\"SmirnovPValue\",\"columnTypeName\":\"FLOAT\"},{\"columnNumber\":5,\"columnName\":\"SmirnovPText\",\"columnTypeName\":\"VARCHAR\",\"length\":6,\"scale\":6},{\"columnNumber\":6,\"columnName\":\"SmirnovCallP_5E-2\",\"columnTypeName\":\"VARCHAR\",\"length\":1,\"scale\":1}]}"
     },
     "output_type": "execute_result"
    }
   ],
   "source": [
    "call ${VALDB}.td_analyze('KSTest', \n",
    "                         'database=${QLID};\n",
    "                          tablename=VAL_ADS;\n",
    "                          columnofinterest=tot_income;\n",
    "                          columns=female_ind;\n",
    "                          teststyle=S;\n",
    "                          groupby=tot_cust_years;\n",
    "                          statsdatabase=${VALDB};');"
   ]
  },
  {
   "cell_type": "markdown",
   "metadata": {},
   "source": [
    "6.  Kolmogorov-Smirnov test that stores its results in an output table val_ks_out1 and does not contain a group-by option."
   ]
  },
  {
   "cell_type": "code",
   "execution_count": 26,
   "metadata": {},
   "outputs": [
    {
     "data": {
      "text/plain": [
       "Success: 0 rows affected"
      ]
     },
     "execution_count": 26,
     "metadata": {
      "application/vnd.teradata.resultset": ""
     },
     "output_type": "execute_result"
    }
   ],
   "source": [
    "call ${VALDB}.td_analyze('KSTest', \n",
    "                         'database=${QLID};\n",
    "                          tablename=VAL_ADS;\n",
    "                          columnofinterest=tot_income;\n",
    "                          teststyle=KS; \n",
    "                          statsdatabase=${VALDB};\n",
    "                          outputdatabase=${QLID};\n",
    "                          outputtablename=_val_ks_out1');"
   ]
  },
  {
   "cell_type": "code",
   "execution_count": 27,
   "metadata": {},
   "outputs": [
    {
     "data": {
      "application/vnd.teradata.resultset": "\"Klm\",\"M\",\"KlmPValue\",\"KlmPText\",\"KlmCallP_5E-2\"\n\"0.15818501100000001\",\"10458\",\"0.01\",\"<0.01\",\"p\"",
      "text/html": [
       "<div class = \"td-resultset-table-div\" style = \"max-height: 100%; overflow-y: auto\">\n",
       "      <table class=\"tdhistory960357\"><style>\n",
       "      table.tdhistory960357 { display: block !important; min-height: 105px !important; overflow: auto !important; height: 105px !important; width: 100% !important; border: 1px solid rgb(207, 207, 207) !important; border-collapse: collapse !important; ; color: var(--jp-ui-font-color1) !important; }\n",
       "      th.tdhistory960357 { border: 1px solid rgb(198,198,198) !important; border-collapse: collapse !important; ; padding: 2px 5px !important; ; font-size: 13px !important; ; text-align: center !important; white-space: normal !important; color: var(--jp-ui-font-color1) !important; }\n",
       "      th.tdhistory960357:last-child { text-align: left !important; }\n",
       "      tbody.tdhistory960357 tr:nth-child(even) { background: rgba(243, 243, 243, 0.75) !important; }\n",
       "      tbody.tdhistory960357 tr:nth-child(odd) { background: var(--jp-ui-inverse-font-color1) !important; }\n",
       "      td.tdhistory960357 { border: 1px solid rgb(207, 207, 207) !important; border-collapse: collapse !important; ; padding: 2px 5px !important; ; font-size: 13px !important; ; text-align: left !important;          white-space: nowrap !important; overflow:hidden !important; text-overflow:ellipsis !important;; }\n",
       "    </style><thead><tr style= \"background: rgba(243, 243, 243, 0.75)\"><th class=\"tdhistory960357\"></th><th class=\"tdhistory960357\">Klm</th><th class=\"tdhistory960357\">M</th><th class=\"tdhistory960357\">KlmPValue</th><th class=\"tdhistory960357\">KlmPText</th><th class=\"tdhistory960357\">KlmCallP_5E-2</th></tr></thead><tbody class=\"tdhistory960357 resultset-body\"><tr><th class=\"tdhistory960357\" style= \"background: rgba(243, 243, 243, 0.75)\">1</th><td class=\"tdhistory960357\">0.15818501100000001</td><td class=\"tdhistory960357\">10458</td><td class=\"tdhistory960357\">0.01</td><td class=\"tdhistory960357\"><0.01</td><td class=\"tdhistory960357\">p</td></tr></tbody></table></div>"
      ]
     },
     "execution_count": 27,
     "metadata": {
      "application/vnd.teradata.resultset": "{\"resultSetID\":\"/home/jovyan/JupyterLabRoot/Teradata/Resultsets/2022.07.04_11.37.18.909_UTC\",\"historyID\":869,\"chunkID\":\"00001\",\"sessionid\":\"\",\"portnum\":\"\",\"dockermode\":\"docker\",\"totalRowCount\":1,\"chunkCount\":0,\"rowLimit\":0,\"columnMetadata\":[{\"columnName\":\"Klm\",\"columnTypeName\":\"FLOAT\"},{\"columnNumber\":1,\"columnName\":\"M\",\"columnTypeName\":\"FLOAT\"},{\"columnNumber\":2,\"columnName\":\"KlmPValue\",\"columnTypeName\":\"FLOAT\"},{\"columnNumber\":3,\"columnName\":\"KlmPText\",\"columnTypeName\":\"VARCHAR\",\"length\":5,\"scale\":5},{\"columnNumber\":4,\"columnName\":\"KlmCallP_5E-2\",\"columnTypeName\":\"VARCHAR\",\"length\":1,\"scale\":1}]}"
     },
     "output_type": "execute_result"
    }
   ],
   "source": [
    "SELECT * FROM ${QLID}._val_ks_out1;"
   ]
  },
  {
   "cell_type": "markdown",
   "metadata": {},
   "source": [
    "---"
   ]
  },
  {
   "cell_type": "markdown",
   "metadata": {},
   "source": [
    "### Parametric Tests\n",
    "\n",
    "#### Purpose\n",
    "\n",
    "Parametric tests make assumptions about the data, such as the observations being normally distributed.  This can be verified with a test of normality prior to executing a parametric test.  Both T-Tests and F-Tests are provided.  T-Tests may be either paired or unpaired, while the unpaired T-Tests may be with or without an indicator variable.  \n",
    "\n",
    "F-Tests may be 1-way, 2-way or 3-way.  2-way tests may have equal or unequal cell counts (distinct column values), while the 3-way test must have equal cell counts.  A 1-way test has 1 independent input column, a 2-way test has 2 independent columns and a 3-way test has 3 independent columns in addition to a dependent “column of interest”.\n",
    "\n",
    "#### Required Parameters\n",
    "\n",
    "- **database**\n",
    "\n",
    "    The database containing the table to analyze.\n",
    "\n",
    "- **parametrictest**\n",
    "\n",
    "    The parametrictest parameter:\n",
    "    - Is required\n",
    "    - Must be the first parameter\n",
    "    - Is always enclosed in single quotes\n",
    "\n",
    "\n",
    "- **tablename**\n",
    "\n",
    "    The table containing the columns to analyze.  It must reside in the database indicated by the database parameter.\n",
    "\n",
    "#### Optional Parameters\n",
    "\n",
    "- **columnofinterest**\n",
    "\n",
    "    The column representing the dependent variable in an F-Test.\n",
    "\n",
    "- **columns**\n",
    "\n",
    "    The columns representing independent variables to be analyzed in a F-Test N-Way with Equal Cell Counts analysis.  There may be 1, 2 or 3 columns listed in this parameter.  If 2 or 3 columns, the number of distinct values for each combination of column values should be the same.\n",
    "\n",
    "- **equalvariance**\n",
    "\n",
    "    An option available with the T-Test where, if true, the variance of the two samples (columns) is assumed to be equal.  The default assumption is that the variances are not equal.\n",
    "\n",
    "- **fallback**\n",
    "\n",
    "    When true, FALLBACK is requested as an attribute of the created output results table.  When false or parameter not specified, the FALLBACK attribute is not included in the create table SQL.\n",
    "\n",
    "- **firstcolumn**\n",
    "\n",
    "    For a T-Test, the column representing the first variable to analyze. It must reside in the table indicated by the tablename parameter.  For an F-Test, the column representing the first independent variable in the analysis.\n",
    "\n",
    "- **firstcolumnvalues**\n",
    "\n",
    "    This is a required option for a 2-way F-Test with Unequal Cell Counts.  It is a list of the firstcolumn values to be included in the analysis.\n",
    "\n",
    "- **gensqlonly**\n",
    "\n",
    "    For a T-Test analysis, when gensqlonly is true, the SQL for the requested function is returned as a result set but not run. When not specified or set to false, the SQL is run but not returned.  This option is not available for an F-Test analysis.\n",
    "\n",
    "- **groupby**\n",
    "\n",
    "    One or more group-by columns may optionally be specified so that a separate result is produced for each value or combination of values in the specified column or columns.\n",
    "\n",
    "- **multiset**\n",
    "\n",
    "    When true, MULTISET is requested as an attribute of the created output results table.  When false or parameter not specified, the MULTISET attribute is not included in the create table SQL.\n",
    "\n",
    "- **outputdatabase**\n",
    "\n",
    "    Specifies the name of the database to contain the analysis results table.\n",
    "\n",
    "- **outputtablename**\n",
    "\n",
    "    Specifies the name of the table to store the analysis results. If not supplied, the results are returned as a result set.\n",
    "\n",
    "- **overwrite**\n",
    "\n",
    "    When overwrite is set to true or not set, the output table is dropped before creating a new one.\n",
    "\n",
    "- **paired**\n",
    "\n",
    "    An option of the T-Test, which when set to true, indicates that the first and second column values are matched with each other and the mean difference is analyzed.  The paired option defaults to false.\n",
    "\n",
    "- **secondcolumn**\n",
    "\n",
    "    For a T-Test, the column representing the second variable to analyze. It must reside in the table indicated by the tablename parameter.  If the withindicator option is set to true, the second column is used to define two analysis categories, one where the second column is negative or zero, and another where the second column is positive.  For an F-Test, the column representing the second independent variable in the analysis.\n",
    "\n",
    "- **secondcolumnvalues**\n",
    "\n",
    "    This is a required option for a 2-way F-Test with Unequal Cell Counts.  It is a list of the secondcolumn values to be included in the analysis.\n",
    "\n",
    "- **statsdatabase**\n",
    "\n",
    "    This is the database where the statistical test metadata tables are installed.  If not specified, the source database is searched for these metadata tables.\n",
    "\n",
    "- **teststyle**\n",
    "\n",
    "    The valid values are t, fnway and f2way, as outlined below. The default is t for T-Test.\n",
    "    \n",
    "    - T-Test paired, unpaired or unpaired with indicator variable (second column)\n",
    "    - F-Test N-Way with Equal Cell Counts (1, 2 or 3 columns with same number of distinct values)\n",
    "    - F-Test 2-Way with Unequal Cell Counts (2 columns with possibly different numbers of distinct values)\n",
    "\n",
    "\n",
    "- **thresholdprobability**\n",
    "\n",
    "    You may optionally change the threshold probability or allow it to default to 0.05.  Below this  \"alpha\" probability the null hypothesis is rejected.\n",
    "\n",
    "- **withindicator**\n",
    "\n",
    "    This option may be used with an un-paired T-Test, that is when teststyle=t and paired=false.  If the withindicator option is set to true, the second column is used to indicate there are two analysis categories, one for the case where the second column is negative or zero, and another when the second column is positive."
   ]
  },
  {
   "cell_type": "markdown",
   "metadata": {},
   "source": [
    "1.  T-Test producing an unpersisted result set with default values for teststyle (t) and  thresholdprobabilty (.05).  "
   ]
  },
  {
   "cell_type": "code",
   "execution_count": 28,
   "metadata": {},
   "outputs": [
    {
     "data": {
      "text/plain": [
       "Success: 0 rows affected"
      ]
     },
     "execution_count": 28,
     "metadata": {
      "application/vnd.teradata.resultset": ""
     },
     "output_type": "execute_result"
    },
    {
     "ename": "WARNING",
     "evalue": "[Teradata Database] [Warning 3212] The stored procedure returned one or more result sets.",
     "output_type": "error",
     "traceback": [
      "[Teradata Database] [Warning 3212] The stored procedure returned one or more result sets."
     ]
    },
    {
     "data": {
      "application/vnd.teradata.resultset": "\"tot_age\",\"female_ind\",\"D_F\",\"TTestPValue\",\"T\",\"TTestCallP_0.05\"\n\"85\",\"1\",\"18\",\"0.4807706\",\"-0.715463172636989\",\"a\"\n\"93\",\"0\",\"3\",\"0\",\"\",\"\"\n\"77\",\"0\",\"7\",\"0.2252156\",\"1.3272042858038389\",\"a\"\n\"91\",\"1\",\"5\",\"0.1939037\",\"1.498396239698223\",\"a\"\n\"72\",\"1\",\"28\",\"0.2042013\",\"-1.2957723582343272\",\"a\"\n\"93\",\"1\",\"7\",\"0.0856193\",\"2.00449476653439\",\"a\"\n\"64\",\"1\",\"46\",\"0.0063499\",\"-2.8563487358795143\",\"n\"\n\"86\",\"0\",\"15\",\"0.0164588\",\"-2.6984705704142558\",\"n\"\n\"53\",\"0\",\"79\",\"0.0045597\",\"-2.9247071997293705\",\"n\"\n\"89\",\"1\",\"15\",\"0.0142988\",\"2.7683360374460215\",\"p\"\n\"56\",\"1\",\"100\",\"0.4732045\",\"0.7175552279050323\",\"a\"\n\"14\",\"0\",\"57\",\"0.0112496\",\"2.6246422071530566\",\"p\"\n\"71\",\"1\",\"62\",\"0.0001833\",\"-3.979520051127141\",\"n\"\n\"76\",\"0\",\"16\",\"0.2834034\",\"1.1137590628201983\",\"a\"\n\"40\",\"0\",\"93\",\"0.0102693\",\"-2.6213267496702675\",\"n\"\n\"32\",\"1\",\"90\",\"0.24509\",\"-1.1709752915228595\",\"a\"\n\"47\",\"0\",\"54\",\"0.0053865\",\"-2.9000459446649285\",\"n\"\n\"52\",\"1\",\"103\",\"0.0657389\",\"-1.8588907198839515\",\"a\"\n\"18\",\"0\",\"113\",\"0.1101879\",\"1.60879009923987\",\"a\"\n\"25\",\"1\",\"41\",\"0.0948247\",\"-1.71158062097157\",\"a\"\n\"58\",\"0\",\"93\",\"0.0541878\",\"-1.9456766189714712\",\"a\"\n\"67\",\"0\",\"46\",\"0.0328687\",\"-2.198412250198925\",\"n\"\n\"72\",\"0\",\"20\",\"0.9921204\",\"-0.00763555929406991\",\"a\"\n\"76\",\"1\",\"24\",\"0.7818767\",\"0.27575427059614926\",\"a\"\n\"25\",\"0\",\"32\",\"0.3854205\",\"-0.8799985807528693\",\"a\"\n\"92\",\"0\",\"3\",\"0.0260825\",\"-4.1093444064195035\",\"n\"\n\"26\",\"0\",\"39\",\"0.002657\",\"-3.2075616900465023\",\"n\"\n\"50\",\"1\",\"107\",\"0.0016447\",\"-3.234481847227294\",\"n\"\n\"70\",\"0\",\"45\",\"0.5189969\",\"-0.6513020306745494\",\"a\"\n\"62\",\"1\",\"70\",\"0.0745882\",\"-1.813453870336688\",\"a\"\n\"68\",\"0\",\"41\",\"0.0075597\",\"-2.813233355868117\",\"n\"\n\"38\",\"0\",\"72\",\"0.449736\",\"-0.7618334417633449\",\"a\"\n\"81\",\"0\",\"15\",\"0.0205029\",\"-2.589130468293594\",\"n\"\n\"89\",\"0\",\"13\",\"0.1763092\",\"-1.4332867450865145\",\"a\"\n\"33\",\"0\",\"79\",\"0.0511857\",\"-1.9785619285502432\",\"a\"\n\"21\",\"0\",\"70\",\"0.2265592\",\"-1.2185733241114736\",\"a\"\n\"35\",\"0\",\"83\",\"0.0003375\",\"-3.7394635368194225\",\"n\"\n\"43\",\"1\",\"105\",\"0.0020615\",\"-3.159282179610348\",\"n\"\n\"14\",\"1\",\"51\",\"0.0005456\",\"3.6931882629121917\",\"p\"\n\"88\",\"1\",\"13\",\"0.2368918\",\"-1.2411936748771681\",\"a\"\n\"81\",\"1\",\"21\",\"0.1646098\",\"-1.4374024402178875\",\"a\"\n\"65\",\"0\",\"56\",\"0.0667144\",\"-1.870800636670386\",\"a\"\n\"44\",\"1\",\"90\",\"0.0003708\",\"-3.7033331405109133\",\"n\"\n\"11\",\"0\",\"12\",\"0.0335186\",\"2.3986400290671694\",\"p\"\n\"60\",\"1\",\"96\",\"0.0010157\",\"-3.394647945426487\",\"n\"\n\"79\",\"1\",\"34\",\"0.1144719\",\"-1.6237812480962597\",\"a\"\n\"65\",\"1\",\"72\",\"0.0365898\",\"-2.1310904436981697\",\"n\"\n\"66\",\"1\",\"78\",\"0.0004723\",\"-3.6466911082426523\",\"n\"\n\"83\",\"0\",\"19\",\"0.0446447\",\"-2.1457788047169233\",\"n\"\n\"69\",\"1\",\"47\",\"0.0009419\",\"-3.5274152408618327\",\"n\"\n\"9\",\"1\",\"7\",\"0.0011862\",\"5.246179206391678\",\"p\"\n\"42\",\"1\",\"117\",\"0.00033\",\"-3.701124936484421\",\"n\"\n\"48\",\"0\",\"72\",\"0.0019244\",\"-3.2229392296515877\",\"n\"\n\"22\",\"0\",\"57\",\"0.7127537\",\"-0.37155226198840857\",\"a\"\n\"73\",\"0\",\"28\",\"0.3502408\",\"0.9479074683140469\",\"a\"\n\"85\",\"0\",\"23\",\"0.0647381\",\"-1.939644842896574\",\"a\"\n\"79\",\"0\",\"20\",\"0.4798555\",\"-0.721590349507282\",\"a\"\n\"78\",\"1\",\"29\",\"0.0049756\",\"-3.042291228131736\",\"n\"\n\"94\",\"1\",\"7\",\"0.1132148\",\"1.8135209270199903\",\"a\"\n\"11\",\"1\",\"18\",\"0.0061793\",\"3.104019356946221\",\"p\"\n\"35\",\"1\",\"107\",\"0.9047082\",\"0.11921172925079086\",\"a\"\n\"86\",\"1\",\"7\",\"0.1368472\",\"-1.6810328952966413\",\"a\"\n\"49\",\"1\",\"95\",\"0.0001084\",\"-4.035018616442392\",\"n\"\n\"43\",\"0\",\"63\",\"0.035401\",\"-2.1475904037515345\",\"n\"\n\"61\",\"0\",\"54\",\"0.1420424\",\"-1.4880552669395877\",\"a\"\n\"49\",\"0\",\"73\",\"0.0001023\",\"-4.107857878130483\",\"n\"\n\"57\",\"1\",\"94\",\"0.9443424\",\"0.06664211026909829\",\"a\"\n\"88\",\"0\",\"16\",\"0.015772\",\"-2.704698849315726\",\"n\"\n\"73\",\"1\",\"33\",\"0.0086889\",\"-2.789693584291123\",\"n\"\n\"13\",\"1\",\"37\",\"0.0091662\",\"2.745763970817959\",\"p\"\n\"74\",\"1\",\"39\",\"0.0004152\",\"-3.862600306934728\",\"n\"\n\"78\",\"0\",\"22\",\"0.1696243\",\"1.4246952271401183\",\"a\"\n\"80\",\"1\",\"27\",\"0.0461684\",\"-2.091977548190066\",\"n\"\n\"83\",\"1\",\"19\",\"0.1217113\",\"-1.6174953200682674\",\"a\"\n\"54\",\"0\",\"50\",\"0.008058\",\"-2.7643781497302573\",\"n\"\n\"29\",\"0\",\"51\",\"0.462693\",\"-0.7355089630973272\",\"a\"\n\"37\",\"1\",\"91\",\"0.0134787\",\"-2.515855840770415\",\"n\"\n\"64\",\"0\",\"58\",\"0.0182145\",\"-2.426959140037223\",\"n\"\n\"26\",\"1\",\"53\",\"0.3170842\",\"-1.0140118328532208\",\"a\"\n\"87\",\"0\",\"21\",\"0.1384942\",\"-1.5419105988818673\",\"a\"\n\"59\",\"1\",\"81\",\"0.6325211\",\"-0.4799533198668135\",\"a\"\n\"23\",\"0\",\"69\",\"0.0116994\",\"-2.590484787457626\",\"n\"\n\"27\",\"1\",\"69\",\"0.0431725\",\"-2.056515593385942\",\"n\"\n\"10\",\"0\",\"8\",\"0.0363709\",\"2.5117824050061412\",\"p\"\n\"74\",\"0\",\"42\",\"0.0728423\",\"1.8431313461350431\",\"a\"\n\"80\",\"0\",\"21\",\"0.415875\",\"0.8330076821034003\",\"a\"\n\"24\",\"0\",\"64\",\"0.654231\",\"0.4494421380277679\",\"a\"\n\"90\",\"1\",\"9\",\"0.1555528\",\"1.5452312612420107\",\"a\"\n\"84\",\"1\",\"23\",\"0.0116674\",\"-2.741240236148122\",\"n\"\n\"33\",\"1\",\"93\",\"0.0402766\",\"-2.0782630924555523\",\"n\"\n\"13\",\"0\",\"27\",\"0.0156412\",\"2.5810498299970583\",\"p\"\n\"77\",\"1\",\"40\",\"0.0221685\",\"-2.384227212864992\",\"n\"\n\"17\",\"1\",\"116\",\"0.0117522\",\"2.5648865894179176\",\"p\"\n\"45\",\"1\",\"104\",\"0.0438849\",\"-2.0436408668962054\",\"n\"\n\"12\",\"0\",\"8\",\"0.2833584\",\"-1.1492921641212326\",\"a\"\n\"91\",\"0\",\"4\",\"0.2206629\",\"-1.4534208494891652\",\"a\"\n\"45\",\"0\",\"68\",\"0.0001292\",\"-4.059830394523732\",\"n\"\n\"75\",\"0\",\"27\",\"0.1025436\",\"1.6862479715409269\",\"a\"\n\"34\",\"0\",\"76\",\"0.4204692\",\"0.811250825489578\",\"a\"\n\"34\",\"1\",\"97\",\"0.05169\",\"-1.96884667485432\",\"a\"\n\"10\",\"1\",\"5\",\"0.1100709\",\"1.9429580983579042\",\"a\"\n\"63\",\"0\",\"52\",\"0.0004896\",\"-3.7172265649750513\",\"n\"\n\"19\",\"0\",\"113\",\"0.0626833\",\"1.8819296530525789\",\"a\"\n\"37\",\"0\",\"89\",\"0.5768863\",\"0.559953386068961\",\"a\"\n\"61\",\"1\",\"86\",\"0.0250818\",\"2.2760531913263917\",\"p\"\n\"54\",\"1\",\"119\",\"0.0477776\",\"-2.0041899107427836\",\"n\"\n\"16\",\"1\",\"107\",\"0\",\"4.639713849368195\",\"p\"\n\"22\",\"1\",\"88\",\"0.1271486\",\"-1.5419965213272224\",\"a\"\n\"71\",\"0\",\"40\",\"0.7961975\",\"-0.2641566410222367\",\"a\"\n\"62\",\"0\",\"79\",\"0.0680527\",\"-1.8458946020700597\",\"a\"\n\"23\",\"1\",\"72\",\"0\",\"-4.807836962330953\",\"n\"\n\"52\",\"0\",\"57\",\"0.1988335\",\"-1.2986200226539708\",\"a\"\n\"58\",\"1\",\"98\",\"0.4981077\",\"-0.6796772283369474\",\"a\"\n\"48\",\"1\",\"92\",\"0.0008762\",\"-3.4370876087795286\",\"n\"\n\"20\",\"1\",\"144\",\"0\",\"5.253217061314352\",\"p\"\n\"46\",\"1\",\"113\",\"0.0011735\",\"-3.3276825944952346\",\"n\"\n\"29\",\"1\",\"65\",\"0.7803667\",\"-0.27816462545128795\",\"a\"\n\"28\",\"1\",\"71\",\"0.0366385\",\"-2.129852920428456\",\"n\"\n\"55\",\"1\",\"124\",\"0\",\"-4.127593377381934\",\"n\"\n\"31\",\"1\",\"88\",\"0.6183231\",\"-0.5021525435049806\",\"a\"\n\"39\",\"1\",\"94\",\"0.0037795\",\"-2.9667186633594596\",\"n\"\n\"32\",\"0\",\"67\",\"0.4094865\",\"0.8253290126068601\",\"a\"\n\"67\",\"1\",\"55\",\"0\",\"-4.404684295372503\",\"n\"\n\"30\",\"1\",\"85\",\"0.5974937\",\"-0.53344455607459\",\"a\"\n\"39\",\"0\",\"73\",\"0.0915134\",\"-1.7050522939133508\",\"a\"\n\"27\",\"0\",\"35\",\"0.0218499\",\"-2.398554722335631\",\"n\"\n\"47\",\"1\",\"99\",\"0\",\"-4.731251829098891\",\"n\"\n\"57\",\"0\",\"106\",\"0.0109467\",\"-2.5913883798643633\",\"n\"\n\"36\",\"0\",\"94\",\"0.3599277\",\"0.9189635642254149\",\"a\"\n\"9\",\"0\",\"6\",\"0.0663471\",\"2.240383083370425\",\"a\"\n\"51\",\"0\",\"87\",\"0\",\"-4.661077166011303\",\"n\"\n\"12\",\"1\",\"9\",\"0.0600366\",\"-2.145169888166388\",\"a\"\n\"38\",\"1\",\"101\",\"0.096048\",\"-1.6753890959647324\",\"a\"\n\"36\",\"1\",\"100\",\"0.0025139\",\"-3.10101029514416\",\"n\"\n\"31\",\"0\",\"71\",\"0.0107457\",\"-2.6194798084884576\",\"n\"\n\"75\",\"1\",\"33\",\"0.1959187\",\"1.315635133067727\",\"a\"\n\"69\",\"0\",\"62\",\"0.7727839\",\"0.28651538577973673\",\"a\"\n\"50\",\"0\",\"49\",\"0.0006558\",\"-3.6409383276073912\",\"n\"\n\"15\",\"0\",\"86\",\"0.0002188\",\"3.864249582931809\",\"p\"\n\"68\",\"1\",\"47\",\"0.0002373\",\"-3.9788328948124123\",\"n\"\n\"28\",\"0\",\"43\",\"0.01982\",\"-2.4238092425595226\",\"n\"\n\"17\",\"0\",\"85\",\"0.0125657\",\"2.5468209355925406\",\"p\"\n\"16\",\"0\",\"90\",\"0.0029166\",\"3.0600647370342933\",\"p\"\n\"56\",\"0\",\"79\",\"0.1135904\",\"-1.6016397040542534\",\"a\"\n\"90\",\"0\",\"6\",\"0.3559177\",\"-0.9999999999999999\",\"a\"\n\"18\",\"1\",\"146\",\"0\",\"3.88007857184668\",\"p\"\n\"63\",\"1\",\"58\",\"0.0480107\",\"-2.018813226758169\",\"n\"\n\"84\",\"0\",\"31\",\"0.0006176\",\"-3.8114042051957284\",\"n\"\n\"51\",\"1\",\"125\",\"0\",\"-4.715111357900299\",\"n\"\n\"82\",\"1\",\"34\",\"0.0005562\",\"-3.8116631374621925\",\"n\"\n\"66\",\"0\",\"46\",\"0.0032988\",\"-3.095957668340024\",\"n\"\n\"70\",\"1\",\"61\",\"0\",\"-5.3733043661188296\",\"n\"\n\"40\",\"1\",\"97\",\"0.0287475\",\"-2.220837961070849\",\"n\"\n\"41\",\"0\",\"87\",\"0.4673513\",\"0.7284430080051986\",\"a\"\n\"21\",\"1\",\"80\",\"0\",\"-4.4940004317137\",\"n\"\n\"82\",\"0\",\"23\",\"0.0054189\",\"-3.0725105303481928\",\"n\"\n\"24\",\"1\",\"71\",\"0.0275495\",\"-2.251117099673115\",\"n\"\n\"42\",\"0\",\"67\",\"0\",\"-4.211796282429227\",\"n\"\n\"87\",\"1\",\"8\",\"0.5973357\",\"-0.5542183588683113\",\"a\"\n\"44\",\"0\",\"88\",\"0.002372\",\"-3.127357432418749\",\"n\"\n\"60\",\"0\",\"92\",\"0\",\"-4.258888739610543\",\"n\"\n\"30\",\"0\",\"57\",\"0.134039\",\"-1.523189487616873\",\"a\"\n\"55\",\"0\",\"97\",\"0\",\"-5.784851346128433\",\"n\"\n\"41\",\"1\",\"125\",\"0\",\"-1.5361087497978672\",\"n\"\n\"46\",\"0\",\"85\",\"0\",\"-4.332325340125757\",\"n\"\n\"53\",\"1\",\"105\",\"0\",\"-4.527210354661868\",\"n\"\n\"59\",\"0\",\"80\",\"0\",\"-4.809246673642799\",\"n\"\n\"19\",\"1\",\"125\",\"0\",\"1.7623795152739916\",\"p\"\n\"15\",\"1\",\"100\",\"0\",\"4.911359364701503\",\"p\"\n\"20\",\"0\",\"102\",\"0\",\"4.308086346655084\",\"p\"",
      "text/html": [
       "<div class = \"td-resultset-table-div\" style = \"max-height: 100%; overflow-y: auto\">\n",
       "      <table class=\"tdhistory800378\"><style>\n",
       "      table.tdhistory800378 { display: block !important; min-height: 588px !important; overflow: auto !important; height: 588px !important; width: 100% !important; border: 1px solid rgb(207, 207, 207) !important; border-collapse: collapse !important; ; color: var(--jp-ui-font-color1) !important; }\n",
       "      th.tdhistory800378 { border: 1px solid rgb(198,198,198) !important; border-collapse: collapse !important; ; padding: 2px 5px !important; ; font-size: 13px !important; ; text-align: center !important; white-space: normal !important; color: var(--jp-ui-font-color1) !important; }\n",
       "      th.tdhistory800378:last-child { text-align: left !important; }\n",
       "      tbody.tdhistory800378 tr:nth-child(even) { background: rgba(243, 243, 243, 0.75) !important; }\n",
       "      tbody.tdhistory800378 tr:nth-child(odd) { background: var(--jp-ui-inverse-font-color1) !important; }\n",
       "      td.tdhistory800378 { border: 1px solid rgb(207, 207, 207) !important; border-collapse: collapse !important; ; padding: 2px 5px !important; ; font-size: 13px !important; ; text-align: left !important;          white-space: nowrap !important; overflow:hidden !important; text-overflow:ellipsis !important;; }\n",
       "    </style><thead><tr style= \"background: rgba(243, 243, 243, 0.75)\"><th class=\"tdhistory800378\"></th><th class=\"tdhistory800378\">tot_age</th><th class=\"tdhistory800378\">female_ind</th><th class=\"tdhistory800378\">D_F</th><th class=\"tdhistory800378\">TTestPValue</th><th class=\"tdhistory800378\">T</th><th class=\"tdhistory800378\">TTestCallP_0.05</th></tr></thead><tbody class=\"tdhistory800378 resultset-body\"><tr><th class=\"tdhistory800378\" style= \"background: rgba(243, 243, 243, 0.75)\">1</th><td class=\"tdhistory800378\">85</td><td class=\"tdhistory800378\">1</td><td class=\"tdhistory800378\">18</td><td class=\"tdhistory800378\">0.4807706</td><td class=\"tdhistory800378\">-0.715463172636989</td><td class=\"tdhistory800378\">a</td></tr><tr><th class=\"tdhistory800378\" style= \"background: rgba(243, 243, 243, 0.75)\">2</th><td class=\"tdhistory800378\">93</td><td class=\"tdhistory800378\">0</td><td class=\"tdhistory800378\">3</td><td class=\"tdhistory800378\">0</td><td class=\"tdhistory800378\"></td><td class=\"tdhistory800378\"></td></tr><tr><th class=\"tdhistory800378\" style= \"background: rgba(243, 243, 243, 0.75)\">3</th><td class=\"tdhistory800378\">77</td><td class=\"tdhistory800378\">0</td><td class=\"tdhistory800378\">7</td><td class=\"tdhistory800378\">0.2252156</td><td class=\"tdhistory800378\">1.3272042858038389</td><td class=\"tdhistory800378\">a</td></tr><tr><th class=\"tdhistory800378\" style= \"background: rgba(243, 243, 243, 0.75)\">4</th><td class=\"tdhistory800378\">91</td><td class=\"tdhistory800378\">1</td><td class=\"tdhistory800378\">5</td><td class=\"tdhistory800378\">0.1939037</td><td class=\"tdhistory800378\">1.498396239698223</td><td class=\"tdhistory800378\">a</td></tr><tr><th class=\"tdhistory800378\" style= \"background: rgba(243, 243, 243, 0.75)\">5</th><td class=\"tdhistory800378\">72</td><td class=\"tdhistory800378\">1</td><td class=\"tdhistory800378\">28</td><td class=\"tdhistory800378\">0.2042013</td><td class=\"tdhistory800378\">-1.2957723582343272</td><td class=\"tdhistory800378\">a</td></tr><tr><th class=\"tdhistory800378\" style= \"background: rgba(243, 243, 243, 0.75)\">6</th><td class=\"tdhistory800378\">93</td><td class=\"tdhistory800378\">1</td><td class=\"tdhistory800378\">7</td><td class=\"tdhistory800378\">0.0856193</td><td class=\"tdhistory800378\">2.00449476653439</td><td class=\"tdhistory800378\">a</td></tr><tr><th class=\"tdhistory800378\" style= \"background: rgba(243, 243, 243, 0.75)\">7</th><td class=\"tdhistory800378\">64</td><td class=\"tdhistory800378\">1</td><td class=\"tdhistory800378\">46</td><td class=\"tdhistory800378\">0.0063499</td><td class=\"tdhistory800378\">-2.8563487358795143</td><td class=\"tdhistory800378\">n</td></tr><tr><th class=\"tdhistory800378\" style= \"background: rgba(243, 243, 243, 0.75)\">8</th><td class=\"tdhistory800378\">86</td><td class=\"tdhistory800378\">0</td><td class=\"tdhistory800378\">15</td><td class=\"tdhistory800378\">0.0164588</td><td class=\"tdhistory800378\">-2.6984705704142558</td><td class=\"tdhistory800378\">n</td></tr><tr><th class=\"tdhistory800378\" style= \"background: rgba(243, 243, 243, 0.75)\">9</th><td class=\"tdhistory800378\">53</td><td class=\"tdhistory800378\">0</td><td class=\"tdhistory800378\">79</td><td class=\"tdhistory800378\">0.0045597</td><td class=\"tdhistory800378\">-2.9247071997293705</td><td class=\"tdhistory800378\">n</td></tr><tr><th class=\"tdhistory800378\" style= \"background: rgba(243, 243, 243, 0.75)\">10</th><td class=\"tdhistory800378\">89</td><td class=\"tdhistory800378\">1</td><td class=\"tdhistory800378\">15</td><td class=\"tdhistory800378\">0.0142988</td><td class=\"tdhistory800378\">2.7683360374460215</td><td class=\"tdhistory800378\">p</td></tr><tr><th class=\"tdhistory800378\" style= \"background: rgba(243, 243, 243, 0.75)\">11</th><td class=\"tdhistory800378\">56</td><td class=\"tdhistory800378\">1</td><td class=\"tdhistory800378\">100</td><td class=\"tdhistory800378\">0.4732045</td><td class=\"tdhistory800378\">0.7175552279050323</td><td class=\"tdhistory800378\">a</td></tr><tr><th class=\"tdhistory800378\" style= \"background: rgba(243, 243, 243, 0.75)\">12</th><td class=\"tdhistory800378\">14</td><td class=\"tdhistory800378\">0</td><td class=\"tdhistory800378\">57</td><td class=\"tdhistory800378\">0.0112496</td><td class=\"tdhistory800378\">2.6246422071530566</td><td class=\"tdhistory800378\">p</td></tr><tr><th class=\"tdhistory800378\" style= \"background: rgba(243, 243, 243, 0.75)\">13</th><td class=\"tdhistory800378\">71</td><td class=\"tdhistory800378\">1</td><td class=\"tdhistory800378\">62</td><td class=\"tdhistory800378\">0.0001833</td><td class=\"tdhistory800378\">-3.979520051127141</td><td class=\"tdhistory800378\">n</td></tr><tr><th class=\"tdhistory800378\" style= \"background: rgba(243, 243, 243, 0.75)\">14</th><td class=\"tdhistory800378\">76</td><td class=\"tdhistory800378\">0</td><td class=\"tdhistory800378\">16</td><td class=\"tdhistory800378\">0.2834034</td><td class=\"tdhistory800378\">1.1137590628201983</td><td class=\"tdhistory800378\">a</td></tr><tr><th class=\"tdhistory800378\" style= \"background: rgba(243, 243, 243, 0.75)\">15</th><td class=\"tdhistory800378\">40</td><td class=\"tdhistory800378\">0</td><td class=\"tdhistory800378\">93</td><td class=\"tdhistory800378\">0.0102693</td><td class=\"tdhistory800378\">-2.6213267496702675</td><td class=\"tdhistory800378\">n</td></tr><tr><th class=\"tdhistory800378\" style= \"background: rgba(243, 243, 243, 0.75)\">16</th><td class=\"tdhistory800378\">32</td><td class=\"tdhistory800378\">1</td><td class=\"tdhistory800378\">90</td><td class=\"tdhistory800378\">0.24509</td><td class=\"tdhistory800378\">-1.1709752915228595</td><td class=\"tdhistory800378\">a</td></tr><tr><th class=\"tdhistory800378\" style= \"background: rgba(243, 243, 243, 0.75)\">17</th><td class=\"tdhistory800378\">47</td><td class=\"tdhistory800378\">0</td><td class=\"tdhistory800378\">54</td><td class=\"tdhistory800378\">0.0053865</td><td class=\"tdhistory800378\">-2.9000459446649285</td><td class=\"tdhistory800378\">n</td></tr><tr><th class=\"tdhistory800378\" style= \"background: rgba(243, 243, 243, 0.75)\">18</th><td class=\"tdhistory800378\">52</td><td class=\"tdhistory800378\">1</td><td class=\"tdhistory800378\">103</td><td class=\"tdhistory800378\">0.0657389</td><td class=\"tdhistory800378\">-1.8588907198839515</td><td class=\"tdhistory800378\">a</td></tr><tr><th class=\"tdhistory800378\" style= \"background: rgba(243, 243, 243, 0.75)\">19</th><td class=\"tdhistory800378\">18</td><td class=\"tdhistory800378\">0</td><td class=\"tdhistory800378\">113</td><td class=\"tdhistory800378\">0.1101879</td><td class=\"tdhistory800378\">1.60879009923987</td><td class=\"tdhistory800378\">a</td></tr><tr><th class=\"tdhistory800378\" style= \"background: rgba(243, 243, 243, 0.75)\">20</th><td class=\"tdhistory800378\">25</td><td class=\"tdhistory800378\">1</td><td class=\"tdhistory800378\">41</td><td class=\"tdhistory800378\">0.0948247</td><td class=\"tdhistory800378\">-1.71158062097157</td><td class=\"tdhistory800378\">a</td></tr><tr><th class=\"tdhistory800378\" style= \"background: rgba(243, 243, 243, 0.75)\">21</th><td class=\"tdhistory800378\">58</td><td class=\"tdhistory800378\">0</td><td class=\"tdhistory800378\">93</td><td class=\"tdhistory800378\">0.0541878</td><td class=\"tdhistory800378\">-1.9456766189714712</td><td class=\"tdhistory800378\">a</td></tr><tr><th class=\"tdhistory800378\" style= \"background: rgba(243, 243, 243, 0.75)\">22</th><td class=\"tdhistory800378\">67</td><td class=\"tdhistory800378\">0</td><td class=\"tdhistory800378\">46</td><td class=\"tdhistory800378\">0.0328687</td><td class=\"tdhistory800378\">-2.198412250198925</td><td class=\"tdhistory800378\">n</td></tr><tr><th class=\"tdhistory800378\" style= \"background: rgba(243, 243, 243, 0.75)\">23</th><td class=\"tdhistory800378\">72</td><td class=\"tdhistory800378\">0</td><td class=\"tdhistory800378\">20</td><td class=\"tdhistory800378\">0.9921204</td><td class=\"tdhistory800378\">-0.00763555929406991</td><td class=\"tdhistory800378\">a</td></tr><tr><th class=\"tdhistory800378\" style= \"background: rgba(243, 243, 243, 0.75)\">24</th><td class=\"tdhistory800378\">76</td><td class=\"tdhistory800378\">1</td><td class=\"tdhistory800378\">24</td><td class=\"tdhistory800378\">0.7818767</td><td class=\"tdhistory800378\">0.27575427059614926</td><td class=\"tdhistory800378\">a</td></tr><tr><th class=\"tdhistory800378\" style= \"background: rgba(243, 243, 243, 0.75)\">25</th><td class=\"tdhistory800378\">25</td><td class=\"tdhistory800378\">0</td><td class=\"tdhistory800378\">32</td><td class=\"tdhistory800378\">0.3854205</td><td class=\"tdhistory800378\">-0.8799985807528693</td><td class=\"tdhistory800378\">a</td></tr><tr><th class=\"tdhistory800378\" style= \"background: rgba(243, 243, 243, 0.75)\">26</th><td class=\"tdhistory800378\">92</td><td class=\"tdhistory800378\">0</td><td class=\"tdhistory800378\">3</td><td class=\"tdhistory800378\">0.0260825</td><td class=\"tdhistory800378\">-4.1093444064195035</td><td class=\"tdhistory800378\">n</td></tr><tr><th class=\"tdhistory800378\" style= \"background: rgba(243, 243, 243, 0.75)\">27</th><td class=\"tdhistory800378\">26</td><td class=\"tdhistory800378\">0</td><td class=\"tdhistory800378\">39</td><td class=\"tdhistory800378\">0.002657</td><td class=\"tdhistory800378\">-3.2075616900465023</td><td class=\"tdhistory800378\">n</td></tr><tr><th class=\"tdhistory800378\" style= \"background: rgba(243, 243, 243, 0.75)\">28</th><td class=\"tdhistory800378\">50</td><td class=\"tdhistory800378\">1</td><td class=\"tdhistory800378\">107</td><td class=\"tdhistory800378\">0.0016447</td><td class=\"tdhistory800378\">-3.234481847227294</td><td class=\"tdhistory800378\">n</td></tr><tr><th class=\"tdhistory800378\" style= \"background: rgba(243, 243, 243, 0.75)\">29</th><td class=\"tdhistory800378\">70</td><td class=\"tdhistory800378\">0</td><td class=\"tdhistory800378\">45</td><td class=\"tdhistory800378\">0.5189969</td><td class=\"tdhistory800378\">-0.6513020306745494</td><td class=\"tdhistory800378\">a</td></tr><tr><th class=\"tdhistory800378\" style= \"background: rgba(243, 243, 243, 0.75)\">30</th><td class=\"tdhistory800378\">62</td><td class=\"tdhistory800378\">1</td><td class=\"tdhistory800378\">70</td><td class=\"tdhistory800378\">0.0745882</td><td class=\"tdhistory800378\">-1.813453870336688</td><td class=\"tdhistory800378\">a</td></tr><tr><th class=\"tdhistory800378\" style= \"background: rgba(243, 243, 243, 0.75)\">31</th><td class=\"tdhistory800378\">68</td><td class=\"tdhistory800378\">0</td><td class=\"tdhistory800378\">41</td><td class=\"tdhistory800378\">0.0075597</td><td class=\"tdhistory800378\">-2.813233355868117</td><td class=\"tdhistory800378\">n</td></tr><tr><th class=\"tdhistory800378\" style= \"background: rgba(243, 243, 243, 0.75)\">32</th><td class=\"tdhistory800378\">38</td><td class=\"tdhistory800378\">0</td><td class=\"tdhistory800378\">72</td><td class=\"tdhistory800378\">0.449736</td><td class=\"tdhistory800378\">-0.7618334417633449</td><td class=\"tdhistory800378\">a</td></tr><tr><th class=\"tdhistory800378\" style= \"background: rgba(243, 243, 243, 0.75)\">33</th><td class=\"tdhistory800378\">81</td><td class=\"tdhistory800378\">0</td><td class=\"tdhistory800378\">15</td><td class=\"tdhistory800378\">0.0205029</td><td class=\"tdhistory800378\">-2.589130468293594</td><td class=\"tdhistory800378\">n</td></tr><tr><th class=\"tdhistory800378\" style= \"background: rgba(243, 243, 243, 0.75)\">34</th><td class=\"tdhistory800378\">89</td><td class=\"tdhistory800378\">0</td><td class=\"tdhistory800378\">13</td><td class=\"tdhistory800378\">0.1763092</td><td class=\"tdhistory800378\">-1.4332867450865145</td><td class=\"tdhistory800378\">a</td></tr><tr><th class=\"tdhistory800378\" style= \"background: rgba(243, 243, 243, 0.75)\">35</th><td class=\"tdhistory800378\">33</td><td class=\"tdhistory800378\">0</td><td class=\"tdhistory800378\">79</td><td class=\"tdhistory800378\">0.0511857</td><td class=\"tdhistory800378\">-1.9785619285502432</td><td class=\"tdhistory800378\">a</td></tr><tr><th class=\"tdhistory800378\" style= \"background: rgba(243, 243, 243, 0.75)\">36</th><td class=\"tdhistory800378\">21</td><td class=\"tdhistory800378\">0</td><td class=\"tdhistory800378\">70</td><td class=\"tdhistory800378\">0.2265592</td><td class=\"tdhistory800378\">-1.2185733241114736</td><td class=\"tdhistory800378\">a</td></tr><tr><th class=\"tdhistory800378\" style= \"background: rgba(243, 243, 243, 0.75)\">37</th><td class=\"tdhistory800378\">35</td><td class=\"tdhistory800378\">0</td><td class=\"tdhistory800378\">83</td><td class=\"tdhistory800378\">0.0003375</td><td class=\"tdhistory800378\">-3.7394635368194225</td><td class=\"tdhistory800378\">n</td></tr><tr><th class=\"tdhistory800378\" style= \"background: rgba(243, 243, 243, 0.75)\">38</th><td class=\"tdhistory800378\">43</td><td class=\"tdhistory800378\">1</td><td class=\"tdhistory800378\">105</td><td class=\"tdhistory800378\">0.0020615</td><td class=\"tdhistory800378\">-3.159282179610348</td><td class=\"tdhistory800378\">n</td></tr><tr><th class=\"tdhistory800378\" style= \"background: rgba(243, 243, 243, 0.75)\">39</th><td class=\"tdhistory800378\">14</td><td class=\"tdhistory800378\">1</td><td class=\"tdhistory800378\">51</td><td class=\"tdhistory800378\">0.0005456</td><td class=\"tdhistory800378\">3.6931882629121917</td><td class=\"tdhistory800378\">p</td></tr><tr><th class=\"tdhistory800378\" style= \"background: rgba(243, 243, 243, 0.75)\">40</th><td class=\"tdhistory800378\">88</td><td class=\"tdhistory800378\">1</td><td class=\"tdhistory800378\">13</td><td class=\"tdhistory800378\">0.2368918</td><td class=\"tdhistory800378\">-1.2411936748771681</td><td class=\"tdhistory800378\">a</td></tr><tr><th class=\"tdhistory800378\" style= \"background: rgba(243, 243, 243, 0.75)\">41</th><td class=\"tdhistory800378\">81</td><td class=\"tdhistory800378\">1</td><td class=\"tdhistory800378\">21</td><td class=\"tdhistory800378\">0.1646098</td><td class=\"tdhistory800378\">-1.4374024402178875</td><td class=\"tdhistory800378\">a</td></tr><tr><th class=\"tdhistory800378\" style= \"background: rgba(243, 243, 243, 0.75)\">42</th><td class=\"tdhistory800378\">65</td><td class=\"tdhistory800378\">0</td><td class=\"tdhistory800378\">56</td><td class=\"tdhistory800378\">0.0667144</td><td class=\"tdhistory800378\">-1.870800636670386</td><td class=\"tdhistory800378\">a</td></tr><tr><th class=\"tdhistory800378\" style= \"background: rgba(243, 243, 243, 0.75)\">43</th><td class=\"tdhistory800378\">44</td><td class=\"tdhistory800378\">1</td><td class=\"tdhistory800378\">90</td><td class=\"tdhistory800378\">0.0003708</td><td class=\"tdhistory800378\">-3.7033331405109133</td><td class=\"tdhistory800378\">n</td></tr><tr><th class=\"tdhistory800378\" style= \"background: rgba(243, 243, 243, 0.75)\">44</th><td class=\"tdhistory800378\">11</td><td class=\"tdhistory800378\">0</td><td class=\"tdhistory800378\">12</td><td class=\"tdhistory800378\">0.0335186</td><td class=\"tdhistory800378\">2.3986400290671694</td><td class=\"tdhistory800378\">p</td></tr><tr><th class=\"tdhistory800378\" style= \"background: rgba(243, 243, 243, 0.75)\">45</th><td class=\"tdhistory800378\">60</td><td class=\"tdhistory800378\">1</td><td class=\"tdhistory800378\">96</td><td class=\"tdhistory800378\">0.0010157</td><td class=\"tdhistory800378\">-3.394647945426487</td><td class=\"tdhistory800378\">n</td></tr><tr><th class=\"tdhistory800378\" style= \"background: rgba(243, 243, 243, 0.75)\">46</th><td class=\"tdhistory800378\">79</td><td class=\"tdhistory800378\">1</td><td class=\"tdhistory800378\">34</td><td class=\"tdhistory800378\">0.1144719</td><td class=\"tdhistory800378\">-1.6237812480962597</td><td class=\"tdhistory800378\">a</td></tr><tr><th class=\"tdhistory800378\" style= \"background: rgba(243, 243, 243, 0.75)\">47</th><td class=\"tdhistory800378\">65</td><td class=\"tdhistory800378\">1</td><td class=\"tdhistory800378\">72</td><td class=\"tdhistory800378\">0.0365898</td><td class=\"tdhistory800378\">-2.1310904436981697</td><td class=\"tdhistory800378\">n</td></tr><tr><th class=\"tdhistory800378\" style= \"background: rgba(243, 243, 243, 0.75)\">48</th><td class=\"tdhistory800378\">66</td><td class=\"tdhistory800378\">1</td><td class=\"tdhistory800378\">78</td><td class=\"tdhistory800378\">0.0004723</td><td class=\"tdhistory800378\">-3.6466911082426523</td><td class=\"tdhistory800378\">n</td></tr><tr><th class=\"tdhistory800378\" style= \"background: rgba(243, 243, 243, 0.75)\">49</th><td class=\"tdhistory800378\">83</td><td class=\"tdhistory800378\">0</td><td class=\"tdhistory800378\">19</td><td class=\"tdhistory800378\">0.0446447</td><td class=\"tdhistory800378\">-2.1457788047169233</td><td class=\"tdhistory800378\">n</td></tr><tr><th class=\"tdhistory800378\" style= \"background: rgba(243, 243, 243, 0.75)\">50</th><td class=\"tdhistory800378\">69</td><td class=\"tdhistory800378\">1</td><td class=\"tdhistory800378\">47</td><td class=\"tdhistory800378\">0.0009419</td><td class=\"tdhistory800378\">-3.5274152408618327</td><td class=\"tdhistory800378\">n</td></tr><tr><th class=\"tdhistory800378\" style= \"background: rgba(243, 243, 243, 0.75)\">51</th><td class=\"tdhistory800378\">9</td><td class=\"tdhistory800378\">1</td><td class=\"tdhistory800378\">7</td><td class=\"tdhistory800378\">0.0011862</td><td class=\"tdhistory800378\">5.246179206391678</td><td class=\"tdhistory800378\">p</td></tr><tr><th class=\"tdhistory800378\" style= \"background: rgba(243, 243, 243, 0.75)\">52</th><td class=\"tdhistory800378\">42</td><td class=\"tdhistory800378\">1</td><td class=\"tdhistory800378\">117</td><td class=\"tdhistory800378\">0.00033</td><td class=\"tdhistory800378\">-3.701124936484421</td><td class=\"tdhistory800378\">n</td></tr><tr><th class=\"tdhistory800378\" style= \"background: rgba(243, 243, 243, 0.75)\">53</th><td class=\"tdhistory800378\">48</td><td class=\"tdhistory800378\">0</td><td class=\"tdhistory800378\">72</td><td class=\"tdhistory800378\">0.0019244</td><td class=\"tdhistory800378\">-3.2229392296515877</td><td class=\"tdhistory800378\">n</td></tr><tr><th class=\"tdhistory800378\" style= \"background: rgba(243, 243, 243, 0.75)\">54</th><td class=\"tdhistory800378\">22</td><td class=\"tdhistory800378\">0</td><td class=\"tdhistory800378\">57</td><td class=\"tdhistory800378\">0.7127537</td><td class=\"tdhistory800378\">-0.37155226198840857</td><td class=\"tdhistory800378\">a</td></tr><tr><th class=\"tdhistory800378\" style= \"background: rgba(243, 243, 243, 0.75)\">55</th><td class=\"tdhistory800378\">73</td><td class=\"tdhistory800378\">0</td><td class=\"tdhistory800378\">28</td><td class=\"tdhistory800378\">0.3502408</td><td class=\"tdhistory800378\">0.9479074683140469</td><td class=\"tdhistory800378\">a</td></tr><tr><th class=\"tdhistory800378\" style= \"background: rgba(243, 243, 243, 0.75)\">56</th><td class=\"tdhistory800378\">85</td><td class=\"tdhistory800378\">0</td><td class=\"tdhistory800378\">23</td><td class=\"tdhistory800378\">0.0647381</td><td class=\"tdhistory800378\">-1.939644842896574</td><td class=\"tdhistory800378\">a</td></tr><tr><th class=\"tdhistory800378\" style= \"background: rgba(243, 243, 243, 0.75)\">57</th><td class=\"tdhistory800378\">79</td><td class=\"tdhistory800378\">0</td><td class=\"tdhistory800378\">20</td><td class=\"tdhistory800378\">0.4798555</td><td class=\"tdhistory800378\">-0.721590349507282</td><td class=\"tdhistory800378\">a</td></tr><tr><th class=\"tdhistory800378\" style= \"background: rgba(243, 243, 243, 0.75)\">58</th><td class=\"tdhistory800378\">78</td><td class=\"tdhistory800378\">1</td><td class=\"tdhistory800378\">29</td><td class=\"tdhistory800378\">0.0049756</td><td class=\"tdhistory800378\">-3.042291228131736</td><td class=\"tdhistory800378\">n</td></tr><tr><th class=\"tdhistory800378\" style= \"background: rgba(243, 243, 243, 0.75)\">59</th><td class=\"tdhistory800378\">94</td><td class=\"tdhistory800378\">1</td><td class=\"tdhistory800378\">7</td><td class=\"tdhistory800378\">0.1132148</td><td class=\"tdhistory800378\">1.8135209270199903</td><td class=\"tdhistory800378\">a</td></tr><tr><th class=\"tdhistory800378\" style= \"background: rgba(243, 243, 243, 0.75)\">60</th><td class=\"tdhistory800378\">11</td><td class=\"tdhistory800378\">1</td><td class=\"tdhistory800378\">18</td><td class=\"tdhistory800378\">0.0061793</td><td class=\"tdhistory800378\">3.104019356946221</td><td class=\"tdhistory800378\">p</td></tr><tr><th class=\"tdhistory800378\" style= \"background: rgba(243, 243, 243, 0.75)\">61</th><td class=\"tdhistory800378\">35</td><td class=\"tdhistory800378\">1</td><td class=\"tdhistory800378\">107</td><td class=\"tdhistory800378\">0.9047082</td><td class=\"tdhistory800378\">0.11921172925079086</td><td class=\"tdhistory800378\">a</td></tr><tr><th class=\"tdhistory800378\" style= \"background: rgba(243, 243, 243, 0.75)\">62</th><td class=\"tdhistory800378\">86</td><td class=\"tdhistory800378\">1</td><td class=\"tdhistory800378\">7</td><td class=\"tdhistory800378\">0.1368472</td><td class=\"tdhistory800378\">-1.6810328952966413</td><td class=\"tdhistory800378\">a</td></tr><tr><th class=\"tdhistory800378\" style= \"background: rgba(243, 243, 243, 0.75)\">63</th><td class=\"tdhistory800378\">49</td><td class=\"tdhistory800378\">1</td><td class=\"tdhistory800378\">95</td><td class=\"tdhistory800378\">0.0001084</td><td class=\"tdhistory800378\">-4.035018616442392</td><td class=\"tdhistory800378\">n</td></tr><tr><th class=\"tdhistory800378\" style= \"background: rgba(243, 243, 243, 0.75)\">64</th><td class=\"tdhistory800378\">43</td><td class=\"tdhistory800378\">0</td><td class=\"tdhistory800378\">63</td><td class=\"tdhistory800378\">0.035401</td><td class=\"tdhistory800378\">-2.1475904037515345</td><td class=\"tdhistory800378\">n</td></tr><tr><th class=\"tdhistory800378\" style= \"background: rgba(243, 243, 243, 0.75)\">65</th><td class=\"tdhistory800378\">61</td><td class=\"tdhistory800378\">0</td><td class=\"tdhistory800378\">54</td><td class=\"tdhistory800378\">0.1420424</td><td class=\"tdhistory800378\">-1.4880552669395877</td><td class=\"tdhistory800378\">a</td></tr><tr><th class=\"tdhistory800378\" style= \"background: rgba(243, 243, 243, 0.75)\">66</th><td class=\"tdhistory800378\">49</td><td class=\"tdhistory800378\">0</td><td class=\"tdhistory800378\">73</td><td class=\"tdhistory800378\">0.0001023</td><td class=\"tdhistory800378\">-4.107857878130483</td><td class=\"tdhistory800378\">n</td></tr><tr><th class=\"tdhistory800378\" style= \"background: rgba(243, 243, 243, 0.75)\">67</th><td class=\"tdhistory800378\">57</td><td class=\"tdhistory800378\">1</td><td class=\"tdhistory800378\">94</td><td class=\"tdhistory800378\">0.9443424</td><td class=\"tdhistory800378\">0.06664211026909829</td><td class=\"tdhistory800378\">a</td></tr><tr><th class=\"tdhistory800378\" style= \"background: rgba(243, 243, 243, 0.75)\">68</th><td class=\"tdhistory800378\">88</td><td class=\"tdhistory800378\">0</td><td class=\"tdhistory800378\">16</td><td class=\"tdhistory800378\">0.015772</td><td class=\"tdhistory800378\">-2.704698849315726</td><td class=\"tdhistory800378\">n</td></tr><tr><th class=\"tdhistory800378\" style= \"background: rgba(243, 243, 243, 0.75)\">69</th><td class=\"tdhistory800378\">73</td><td class=\"tdhistory800378\">1</td><td class=\"tdhistory800378\">33</td><td class=\"tdhistory800378\">0.0086889</td><td class=\"tdhistory800378\">-2.789693584291123</td><td class=\"tdhistory800378\">n</td></tr><tr><th class=\"tdhistory800378\" style= \"background: rgba(243, 243, 243, 0.75)\">70</th><td class=\"tdhistory800378\">13</td><td class=\"tdhistory800378\">1</td><td class=\"tdhistory800378\">37</td><td class=\"tdhistory800378\">0.0091662</td><td class=\"tdhistory800378\">2.745763970817959</td><td class=\"tdhistory800378\">p</td></tr><tr><th class=\"tdhistory800378\" style= \"background: rgba(243, 243, 243, 0.75)\">71</th><td class=\"tdhistory800378\">74</td><td class=\"tdhistory800378\">1</td><td class=\"tdhistory800378\">39</td><td class=\"tdhistory800378\">0.0004152</td><td class=\"tdhistory800378\">-3.862600306934728</td><td class=\"tdhistory800378\">n</td></tr><tr><th class=\"tdhistory800378\" style= \"background: rgba(243, 243, 243, 0.75)\">72</th><td class=\"tdhistory800378\">78</td><td class=\"tdhistory800378\">0</td><td class=\"tdhistory800378\">22</td><td class=\"tdhistory800378\">0.1696243</td><td class=\"tdhistory800378\">1.4246952271401183</td><td class=\"tdhistory800378\">a</td></tr><tr><th class=\"tdhistory800378\" style= \"background: rgba(243, 243, 243, 0.75)\">73</th><td class=\"tdhistory800378\">80</td><td class=\"tdhistory800378\">1</td><td class=\"tdhistory800378\">27</td><td class=\"tdhistory800378\">0.0461684</td><td class=\"tdhistory800378\">-2.091977548190066</td><td class=\"tdhistory800378\">n</td></tr><tr><th class=\"tdhistory800378\" style= \"background: rgba(243, 243, 243, 0.75)\">74</th><td class=\"tdhistory800378\">83</td><td class=\"tdhistory800378\">1</td><td class=\"tdhistory800378\">19</td><td class=\"tdhistory800378\">0.1217113</td><td class=\"tdhistory800378\">-1.6174953200682674</td><td class=\"tdhistory800378\">a</td></tr><tr><th class=\"tdhistory800378\" style= \"background: rgba(243, 243, 243, 0.75)\">75</th><td class=\"tdhistory800378\">54</td><td class=\"tdhistory800378\">0</td><td class=\"tdhistory800378\">50</td><td class=\"tdhistory800378\">0.008058</td><td class=\"tdhistory800378\">-2.7643781497302573</td><td class=\"tdhistory800378\">n</td></tr><tr><th class=\"tdhistory800378\" style= \"background: rgba(243, 243, 243, 0.75)\">76</th><td class=\"tdhistory800378\">29</td><td class=\"tdhistory800378\">0</td><td class=\"tdhistory800378\">51</td><td class=\"tdhistory800378\">0.462693</td><td class=\"tdhistory800378\">-0.7355089630973272</td><td class=\"tdhistory800378\">a</td></tr><tr><th class=\"tdhistory800378\" style= \"background: rgba(243, 243, 243, 0.75)\">77</th><td class=\"tdhistory800378\">37</td><td class=\"tdhistory800378\">1</td><td class=\"tdhistory800378\">91</td><td class=\"tdhistory800378\">0.0134787</td><td class=\"tdhistory800378\">-2.515855840770415</td><td class=\"tdhistory800378\">n</td></tr><tr><th class=\"tdhistory800378\" style= \"background: rgba(243, 243, 243, 0.75)\">78</th><td class=\"tdhistory800378\">64</td><td class=\"tdhistory800378\">0</td><td class=\"tdhistory800378\">58</td><td class=\"tdhistory800378\">0.0182145</td><td class=\"tdhistory800378\">-2.426959140037223</td><td class=\"tdhistory800378\">n</td></tr><tr><th class=\"tdhistory800378\" style= \"background: rgba(243, 243, 243, 0.75)\">79</th><td class=\"tdhistory800378\">26</td><td class=\"tdhistory800378\">1</td><td class=\"tdhistory800378\">53</td><td class=\"tdhistory800378\">0.3170842</td><td class=\"tdhistory800378\">-1.0140118328532208</td><td class=\"tdhistory800378\">a</td></tr><tr><th class=\"tdhistory800378\" style= \"background: rgba(243, 243, 243, 0.75)\">80</th><td class=\"tdhistory800378\">87</td><td class=\"tdhistory800378\">0</td><td class=\"tdhistory800378\">21</td><td class=\"tdhistory800378\">0.1384942</td><td class=\"tdhistory800378\">-1.5419105988818673</td><td class=\"tdhistory800378\">a</td></tr><tr><th class=\"tdhistory800378\" style= \"background: rgba(243, 243, 243, 0.75)\">81</th><td class=\"tdhistory800378\">59</td><td class=\"tdhistory800378\">1</td><td class=\"tdhistory800378\">81</td><td class=\"tdhistory800378\">0.6325211</td><td class=\"tdhistory800378\">-0.4799533198668135</td><td class=\"tdhistory800378\">a</td></tr><tr><th class=\"tdhistory800378\" style= \"background: rgba(243, 243, 243, 0.75)\">82</th><td class=\"tdhistory800378\">23</td><td class=\"tdhistory800378\">0</td><td class=\"tdhistory800378\">69</td><td class=\"tdhistory800378\">0.0116994</td><td class=\"tdhistory800378\">-2.590484787457626</td><td class=\"tdhistory800378\">n</td></tr><tr><th class=\"tdhistory800378\" style= \"background: rgba(243, 243, 243, 0.75)\">83</th><td class=\"tdhistory800378\">27</td><td class=\"tdhistory800378\">1</td><td class=\"tdhistory800378\">69</td><td class=\"tdhistory800378\">0.0431725</td><td class=\"tdhistory800378\">-2.056515593385942</td><td class=\"tdhistory800378\">n</td></tr><tr><th class=\"tdhistory800378\" style= \"background: rgba(243, 243, 243, 0.75)\">84</th><td class=\"tdhistory800378\">10</td><td class=\"tdhistory800378\">0</td><td class=\"tdhistory800378\">8</td><td class=\"tdhistory800378\">0.0363709</td><td class=\"tdhistory800378\">2.5117824050061412</td><td class=\"tdhistory800378\">p</td></tr><tr><th class=\"tdhistory800378\" style= \"background: rgba(243, 243, 243, 0.75)\">85</th><td class=\"tdhistory800378\">74</td><td class=\"tdhistory800378\">0</td><td class=\"tdhistory800378\">42</td><td class=\"tdhistory800378\">0.0728423</td><td class=\"tdhistory800378\">1.8431313461350431</td><td class=\"tdhistory800378\">a</td></tr><tr><th class=\"tdhistory800378\" style= \"background: rgba(243, 243, 243, 0.75)\">86</th><td class=\"tdhistory800378\">80</td><td class=\"tdhistory800378\">0</td><td class=\"tdhistory800378\">21</td><td class=\"tdhistory800378\">0.415875</td><td class=\"tdhistory800378\">0.8330076821034003</td><td class=\"tdhistory800378\">a</td></tr><tr><th class=\"tdhistory800378\" style= \"background: rgba(243, 243, 243, 0.75)\">87</th><td class=\"tdhistory800378\">24</td><td class=\"tdhistory800378\">0</td><td class=\"tdhistory800378\">64</td><td class=\"tdhistory800378\">0.654231</td><td class=\"tdhistory800378\">0.4494421380277679</td><td class=\"tdhistory800378\">a</td></tr><tr><th class=\"tdhistory800378\" style= \"background: rgba(243, 243, 243, 0.75)\">88</th><td class=\"tdhistory800378\">90</td><td class=\"tdhistory800378\">1</td><td class=\"tdhistory800378\">9</td><td class=\"tdhistory800378\">0.1555528</td><td class=\"tdhistory800378\">1.5452312612420107</td><td class=\"tdhistory800378\">a</td></tr><tr><th class=\"tdhistory800378\" style= \"background: rgba(243, 243, 243, 0.75)\">89</th><td class=\"tdhistory800378\">84</td><td class=\"tdhistory800378\">1</td><td class=\"tdhistory800378\">23</td><td class=\"tdhistory800378\">0.0116674</td><td class=\"tdhistory800378\">-2.741240236148122</td><td class=\"tdhistory800378\">n</td></tr><tr><th class=\"tdhistory800378\" style= \"background: rgba(243, 243, 243, 0.75)\">90</th><td class=\"tdhistory800378\">33</td><td class=\"tdhistory800378\">1</td><td class=\"tdhistory800378\">93</td><td class=\"tdhistory800378\">0.0402766</td><td class=\"tdhistory800378\">-2.0782630924555523</td><td class=\"tdhistory800378\">n</td></tr><tr><th class=\"tdhistory800378\" style= \"background: rgba(243, 243, 243, 0.75)\">91</th><td class=\"tdhistory800378\">13</td><td class=\"tdhistory800378\">0</td><td class=\"tdhistory800378\">27</td><td class=\"tdhistory800378\">0.0156412</td><td class=\"tdhistory800378\">2.5810498299970583</td><td class=\"tdhistory800378\">p</td></tr><tr><th class=\"tdhistory800378\" style= \"background: rgba(243, 243, 243, 0.75)\">92</th><td class=\"tdhistory800378\">77</td><td class=\"tdhistory800378\">1</td><td class=\"tdhistory800378\">40</td><td class=\"tdhistory800378\">0.0221685</td><td class=\"tdhistory800378\">-2.384227212864992</td><td class=\"tdhistory800378\">n</td></tr><tr><th class=\"tdhistory800378\" style= \"background: rgba(243, 243, 243, 0.75)\">93</th><td class=\"tdhistory800378\">17</td><td class=\"tdhistory800378\">1</td><td class=\"tdhistory800378\">116</td><td class=\"tdhistory800378\">0.0117522</td><td class=\"tdhistory800378\">2.5648865894179176</td><td class=\"tdhistory800378\">p</td></tr><tr><th class=\"tdhistory800378\" style= \"background: rgba(243, 243, 243, 0.75)\">94</th><td class=\"tdhistory800378\">45</td><td class=\"tdhistory800378\">1</td><td class=\"tdhistory800378\">104</td><td class=\"tdhistory800378\">0.0438849</td><td class=\"tdhistory800378\">-2.0436408668962054</td><td class=\"tdhistory800378\">n</td></tr><tr><th class=\"tdhistory800378\" style= \"background: rgba(243, 243, 243, 0.75)\">95</th><td class=\"tdhistory800378\">12</td><td class=\"tdhistory800378\">0</td><td class=\"tdhistory800378\">8</td><td class=\"tdhistory800378\">0.2833584</td><td class=\"tdhistory800378\">-1.1492921641212326</td><td class=\"tdhistory800378\">a</td></tr><tr><th class=\"tdhistory800378\" style= \"background: rgba(243, 243, 243, 0.75)\">96</th><td class=\"tdhistory800378\">91</td><td class=\"tdhistory800378\">0</td><td class=\"tdhistory800378\">4</td><td class=\"tdhistory800378\">0.2206629</td><td class=\"tdhistory800378\">-1.4534208494891652</td><td class=\"tdhistory800378\">a</td></tr><tr><th class=\"tdhistory800378\" style= \"background: rgba(243, 243, 243, 0.75)\">97</th><td class=\"tdhistory800378\">45</td><td class=\"tdhistory800378\">0</td><td class=\"tdhistory800378\">68</td><td class=\"tdhistory800378\">0.0001292</td><td class=\"tdhistory800378\">-4.059830394523732</td><td class=\"tdhistory800378\">n</td></tr><tr><th class=\"tdhistory800378\" style= \"background: rgba(243, 243, 243, 0.75)\">98</th><td class=\"tdhistory800378\">75</td><td class=\"tdhistory800378\">0</td><td class=\"tdhistory800378\">27</td><td class=\"tdhistory800378\">0.1025436</td><td class=\"tdhistory800378\">1.6862479715409269</td><td class=\"tdhistory800378\">a</td></tr><tr><th class=\"tdhistory800378\" style= \"background: rgba(243, 243, 243, 0.75)\">99</th><td class=\"tdhistory800378\">34</td><td class=\"tdhistory800378\">0</td><td class=\"tdhistory800378\">76</td><td class=\"tdhistory800378\">0.4204692</td><td class=\"tdhistory800378\">0.811250825489578</td><td class=\"tdhistory800378\">a</td></tr><tr><th class=\"tdhistory800378\" style= \"background: rgba(243, 243, 243, 0.75)\">100</th><td class=\"tdhistory800378\">34</td><td class=\"tdhistory800378\">1</td><td class=\"tdhistory800378\">97</td><td class=\"tdhistory800378\">0.05169</td><td class=\"tdhistory800378\">-1.96884667485432</td><td class=\"tdhistory800378\">a</td></tr><tr><th class=\"tdhistory800378\" style= \"background: rgba(243, 243, 243, 0.75)\">101</th><td class=\"tdhistory800378\">10</td><td class=\"tdhistory800378\">1</td><td class=\"tdhistory800378\">5</td><td class=\"tdhistory800378\">0.1100709</td><td class=\"tdhistory800378\">1.9429580983579042</td><td class=\"tdhistory800378\">a</td></tr><tr><th class=\"tdhistory800378\" style= \"background: rgba(243, 243, 243, 0.75)\">102</th><td class=\"tdhistory800378\">63</td><td class=\"tdhistory800378\">0</td><td class=\"tdhistory800378\">52</td><td class=\"tdhistory800378\">0.0004896</td><td class=\"tdhistory800378\">-3.7172265649750513</td><td class=\"tdhistory800378\">n</td></tr><tr><th class=\"tdhistory800378\" style= \"background: rgba(243, 243, 243, 0.75)\">103</th><td class=\"tdhistory800378\">19</td><td class=\"tdhistory800378\">0</td><td class=\"tdhistory800378\">113</td><td class=\"tdhistory800378\">0.0626833</td><td class=\"tdhistory800378\">1.8819296530525789</td><td class=\"tdhistory800378\">a</td></tr><tr><th class=\"tdhistory800378\" style= \"background: rgba(243, 243, 243, 0.75)\">104</th><td class=\"tdhistory800378\">37</td><td class=\"tdhistory800378\">0</td><td class=\"tdhistory800378\">89</td><td class=\"tdhistory800378\">0.5768863</td><td class=\"tdhistory800378\">0.559953386068961</td><td class=\"tdhistory800378\">a</td></tr><tr><th class=\"tdhistory800378\" style= \"background: rgba(243, 243, 243, 0.75)\">105</th><td class=\"tdhistory800378\">61</td><td class=\"tdhistory800378\">1</td><td class=\"tdhistory800378\">86</td><td class=\"tdhistory800378\">0.0250818</td><td class=\"tdhistory800378\">2.2760531913263917</td><td class=\"tdhistory800378\">p</td></tr><tr><th class=\"tdhistory800378\" style= \"background: rgba(243, 243, 243, 0.75)\">106</th><td class=\"tdhistory800378\">54</td><td class=\"tdhistory800378\">1</td><td class=\"tdhistory800378\">119</td><td class=\"tdhistory800378\">0.0477776</td><td class=\"tdhistory800378\">-2.0041899107427836</td><td class=\"tdhistory800378\">n</td></tr><tr><th class=\"tdhistory800378\" style= \"background: rgba(243, 243, 243, 0.75)\">107</th><td class=\"tdhistory800378\">16</td><td class=\"tdhistory800378\">1</td><td class=\"tdhistory800378\">107</td><td class=\"tdhistory800378\">0</td><td class=\"tdhistory800378\">4.639713849368195</td><td class=\"tdhistory800378\">p</td></tr><tr><th class=\"tdhistory800378\" style= \"background: rgba(243, 243, 243, 0.75)\">108</th><td class=\"tdhistory800378\">22</td><td class=\"tdhistory800378\">1</td><td class=\"tdhistory800378\">88</td><td class=\"tdhistory800378\">0.1271486</td><td class=\"tdhistory800378\">-1.5419965213272224</td><td class=\"tdhistory800378\">a</td></tr><tr><th class=\"tdhistory800378\" style= \"background: rgba(243, 243, 243, 0.75)\">109</th><td class=\"tdhistory800378\">71</td><td class=\"tdhistory800378\">0</td><td class=\"tdhistory800378\">40</td><td class=\"tdhistory800378\">0.7961975</td><td class=\"tdhistory800378\">-0.2641566410222367</td><td class=\"tdhistory800378\">a</td></tr><tr><th class=\"tdhistory800378\" style= \"background: rgba(243, 243, 243, 0.75)\">110</th><td class=\"tdhistory800378\">62</td><td class=\"tdhistory800378\">0</td><td class=\"tdhistory800378\">79</td><td class=\"tdhistory800378\">0.0680527</td><td class=\"tdhistory800378\">-1.8458946020700597</td><td class=\"tdhistory800378\">a</td></tr><tr><th class=\"tdhistory800378\" style= \"background: rgba(243, 243, 243, 0.75)\">111</th><td class=\"tdhistory800378\">23</td><td class=\"tdhistory800378\">1</td><td class=\"tdhistory800378\">72</td><td class=\"tdhistory800378\">0</td><td class=\"tdhistory800378\">-4.807836962330953</td><td class=\"tdhistory800378\">n</td></tr><tr><th class=\"tdhistory800378\" style= \"background: rgba(243, 243, 243, 0.75)\">112</th><td class=\"tdhistory800378\">52</td><td class=\"tdhistory800378\">0</td><td class=\"tdhistory800378\">57</td><td class=\"tdhistory800378\">0.1988335</td><td class=\"tdhistory800378\">-1.2986200226539708</td><td class=\"tdhistory800378\">a</td></tr><tr><th class=\"tdhistory800378\" style= \"background: rgba(243, 243, 243, 0.75)\">113</th><td class=\"tdhistory800378\">58</td><td class=\"tdhistory800378\">1</td><td class=\"tdhistory800378\">98</td><td class=\"tdhistory800378\">0.4981077</td><td class=\"tdhistory800378\">-0.6796772283369474</td><td class=\"tdhistory800378\">a</td></tr><tr><th class=\"tdhistory800378\" style= \"background: rgba(243, 243, 243, 0.75)\">114</th><td class=\"tdhistory800378\">48</td><td class=\"tdhistory800378\">1</td><td class=\"tdhistory800378\">92</td><td class=\"tdhistory800378\">0.0008762</td><td class=\"tdhistory800378\">-3.4370876087795286</td><td class=\"tdhistory800378\">n</td></tr><tr><th class=\"tdhistory800378\" style= \"background: rgba(243, 243, 243, 0.75)\">115</th><td class=\"tdhistory800378\">20</td><td class=\"tdhistory800378\">1</td><td class=\"tdhistory800378\">144</td><td class=\"tdhistory800378\">0</td><td class=\"tdhistory800378\">5.253217061314352</td><td class=\"tdhistory800378\">p</td></tr><tr><th class=\"tdhistory800378\" style= \"background: rgba(243, 243, 243, 0.75)\">116</th><td class=\"tdhistory800378\">46</td><td class=\"tdhistory800378\">1</td><td class=\"tdhistory800378\">113</td><td class=\"tdhistory800378\">0.0011735</td><td class=\"tdhistory800378\">-3.3276825944952346</td><td class=\"tdhistory800378\">n</td></tr><tr><th class=\"tdhistory800378\" style= \"background: rgba(243, 243, 243, 0.75)\">117</th><td class=\"tdhistory800378\">29</td><td class=\"tdhistory800378\">1</td><td class=\"tdhistory800378\">65</td><td class=\"tdhistory800378\">0.7803667</td><td class=\"tdhistory800378\">-0.27816462545128795</td><td class=\"tdhistory800378\">a</td></tr><tr><th class=\"tdhistory800378\" style= \"background: rgba(243, 243, 243, 0.75)\">118</th><td class=\"tdhistory800378\">28</td><td class=\"tdhistory800378\">1</td><td class=\"tdhistory800378\">71</td><td class=\"tdhistory800378\">0.0366385</td><td class=\"tdhistory800378\">-2.129852920428456</td><td class=\"tdhistory800378\">n</td></tr><tr><th class=\"tdhistory800378\" style= \"background: rgba(243, 243, 243, 0.75)\">119</th><td class=\"tdhistory800378\">55</td><td class=\"tdhistory800378\">1</td><td class=\"tdhistory800378\">124</td><td class=\"tdhistory800378\">0</td><td class=\"tdhistory800378\">-4.127593377381934</td><td class=\"tdhistory800378\">n</td></tr><tr><th class=\"tdhistory800378\" style= \"background: rgba(243, 243, 243, 0.75)\">120</th><td class=\"tdhistory800378\">31</td><td class=\"tdhistory800378\">1</td><td class=\"tdhistory800378\">88</td><td class=\"tdhistory800378\">0.6183231</td><td class=\"tdhistory800378\">-0.5021525435049806</td><td class=\"tdhistory800378\">a</td></tr><tr><th class=\"tdhistory800378\" style= \"background: rgba(243, 243, 243, 0.75)\">121</th><td class=\"tdhistory800378\">39</td><td class=\"tdhistory800378\">1</td><td class=\"tdhistory800378\">94</td><td class=\"tdhistory800378\">0.0037795</td><td class=\"tdhistory800378\">-2.9667186633594596</td><td class=\"tdhistory800378\">n</td></tr><tr><th class=\"tdhistory800378\" style= \"background: rgba(243, 243, 243, 0.75)\">122</th><td class=\"tdhistory800378\">32</td><td class=\"tdhistory800378\">0</td><td class=\"tdhistory800378\">67</td><td class=\"tdhistory800378\">0.4094865</td><td class=\"tdhistory800378\">0.8253290126068601</td><td class=\"tdhistory800378\">a</td></tr><tr><th class=\"tdhistory800378\" style= \"background: rgba(243, 243, 243, 0.75)\">123</th><td class=\"tdhistory800378\">67</td><td class=\"tdhistory800378\">1</td><td class=\"tdhistory800378\">55</td><td class=\"tdhistory800378\">0</td><td class=\"tdhistory800378\">-4.404684295372503</td><td class=\"tdhistory800378\">n</td></tr><tr><th class=\"tdhistory800378\" style= \"background: rgba(243, 243, 243, 0.75)\">124</th><td class=\"tdhistory800378\">30</td><td class=\"tdhistory800378\">1</td><td class=\"tdhistory800378\">85</td><td class=\"tdhistory800378\">0.5974937</td><td class=\"tdhistory800378\">-0.53344455607459</td><td class=\"tdhistory800378\">a</td></tr><tr><th class=\"tdhistory800378\" style= \"background: rgba(243, 243, 243, 0.75)\">125</th><td class=\"tdhistory800378\">39</td><td class=\"tdhistory800378\">0</td><td class=\"tdhistory800378\">73</td><td class=\"tdhistory800378\">0.0915134</td><td class=\"tdhistory800378\">-1.7050522939133508</td><td class=\"tdhistory800378\">a</td></tr><tr><th class=\"tdhistory800378\" style= \"background: rgba(243, 243, 243, 0.75)\">126</th><td class=\"tdhistory800378\">27</td><td class=\"tdhistory800378\">0</td><td class=\"tdhistory800378\">35</td><td class=\"tdhistory800378\">0.0218499</td><td class=\"tdhistory800378\">-2.398554722335631</td><td class=\"tdhistory800378\">n</td></tr><tr><th class=\"tdhistory800378\" style= \"background: rgba(243, 243, 243, 0.75)\">127</th><td class=\"tdhistory800378\">47</td><td class=\"tdhistory800378\">1</td><td class=\"tdhistory800378\">99</td><td class=\"tdhistory800378\">0</td><td class=\"tdhistory800378\">-4.731251829098891</td><td class=\"tdhistory800378\">n</td></tr><tr><th class=\"tdhistory800378\" style= \"background: rgba(243, 243, 243, 0.75)\">128</th><td class=\"tdhistory800378\">57</td><td class=\"tdhistory800378\">0</td><td class=\"tdhistory800378\">106</td><td class=\"tdhistory800378\">0.0109467</td><td class=\"tdhistory800378\">-2.5913883798643633</td><td class=\"tdhistory800378\">n</td></tr><tr><th class=\"tdhistory800378\" style= \"background: rgba(243, 243, 243, 0.75)\">129</th><td class=\"tdhistory800378\">36</td><td class=\"tdhistory800378\">0</td><td class=\"tdhistory800378\">94</td><td class=\"tdhistory800378\">0.3599277</td><td class=\"tdhistory800378\">0.9189635642254149</td><td class=\"tdhistory800378\">a</td></tr><tr><th class=\"tdhistory800378\" style= \"background: rgba(243, 243, 243, 0.75)\">130</th><td class=\"tdhistory800378\">9</td><td class=\"tdhistory800378\">0</td><td class=\"tdhistory800378\">6</td><td class=\"tdhistory800378\">0.0663471</td><td class=\"tdhistory800378\">2.240383083370425</td><td class=\"tdhistory800378\">a</td></tr><tr><th class=\"tdhistory800378\" style= \"background: rgba(243, 243, 243, 0.75)\">131</th><td class=\"tdhistory800378\">51</td><td class=\"tdhistory800378\">0</td><td class=\"tdhistory800378\">87</td><td class=\"tdhistory800378\">0</td><td class=\"tdhistory800378\">-4.661077166011303</td><td class=\"tdhistory800378\">n</td></tr><tr><th class=\"tdhistory800378\" style= \"background: rgba(243, 243, 243, 0.75)\">132</th><td class=\"tdhistory800378\">12</td><td class=\"tdhistory800378\">1</td><td class=\"tdhistory800378\">9</td><td class=\"tdhistory800378\">0.0600366</td><td class=\"tdhistory800378\">-2.145169888166388</td><td class=\"tdhistory800378\">a</td></tr><tr><th class=\"tdhistory800378\" style= \"background: rgba(243, 243, 243, 0.75)\">133</th><td class=\"tdhistory800378\">38</td><td class=\"tdhistory800378\">1</td><td class=\"tdhistory800378\">101</td><td class=\"tdhistory800378\">0.096048</td><td class=\"tdhistory800378\">-1.6753890959647324</td><td class=\"tdhistory800378\">a</td></tr><tr><th class=\"tdhistory800378\" style= \"background: rgba(243, 243, 243, 0.75)\">134</th><td class=\"tdhistory800378\">36</td><td class=\"tdhistory800378\">1</td><td class=\"tdhistory800378\">100</td><td class=\"tdhistory800378\">0.0025139</td><td class=\"tdhistory800378\">-3.10101029514416</td><td class=\"tdhistory800378\">n</td></tr><tr><th class=\"tdhistory800378\" style= \"background: rgba(243, 243, 243, 0.75)\">135</th><td class=\"tdhistory800378\">31</td><td class=\"tdhistory800378\">0</td><td class=\"tdhistory800378\">71</td><td class=\"tdhistory800378\">0.0107457</td><td class=\"tdhistory800378\">-2.6194798084884576</td><td class=\"tdhistory800378\">n</td></tr><tr><th class=\"tdhistory800378\" style= \"background: rgba(243, 243, 243, 0.75)\">136</th><td class=\"tdhistory800378\">75</td><td class=\"tdhistory800378\">1</td><td class=\"tdhistory800378\">33</td><td class=\"tdhistory800378\">0.1959187</td><td class=\"tdhistory800378\">1.315635133067727</td><td class=\"tdhistory800378\">a</td></tr><tr><th class=\"tdhistory800378\" style= \"background: rgba(243, 243, 243, 0.75)\">137</th><td class=\"tdhistory800378\">69</td><td class=\"tdhistory800378\">0</td><td class=\"tdhistory800378\">62</td><td class=\"tdhistory800378\">0.7727839</td><td class=\"tdhistory800378\">0.28651538577973673</td><td class=\"tdhistory800378\">a</td></tr><tr><th class=\"tdhistory800378\" style= \"background: rgba(243, 243, 243, 0.75)\">138</th><td class=\"tdhistory800378\">50</td><td class=\"tdhistory800378\">0</td><td class=\"tdhistory800378\">49</td><td class=\"tdhistory800378\">0.0006558</td><td class=\"tdhistory800378\">-3.6409383276073912</td><td class=\"tdhistory800378\">n</td></tr><tr><th class=\"tdhistory800378\" style= \"background: rgba(243, 243, 243, 0.75)\">139</th><td class=\"tdhistory800378\">15</td><td class=\"tdhistory800378\">0</td><td class=\"tdhistory800378\">86</td><td class=\"tdhistory800378\">0.0002188</td><td class=\"tdhistory800378\">3.864249582931809</td><td class=\"tdhistory800378\">p</td></tr><tr><th class=\"tdhistory800378\" style= \"background: rgba(243, 243, 243, 0.75)\">140</th><td class=\"tdhistory800378\">68</td><td class=\"tdhistory800378\">1</td><td class=\"tdhistory800378\">47</td><td class=\"tdhistory800378\">0.0002373</td><td class=\"tdhistory800378\">-3.9788328948124123</td><td class=\"tdhistory800378\">n</td></tr><tr><th class=\"tdhistory800378\" style= \"background: rgba(243, 243, 243, 0.75)\">141</th><td class=\"tdhistory800378\">28</td><td class=\"tdhistory800378\">0</td><td class=\"tdhistory800378\">43</td><td class=\"tdhistory800378\">0.01982</td><td class=\"tdhistory800378\">-2.4238092425595226</td><td class=\"tdhistory800378\">n</td></tr><tr><th class=\"tdhistory800378\" style= \"background: rgba(243, 243, 243, 0.75)\">142</th><td class=\"tdhistory800378\">17</td><td class=\"tdhistory800378\">0</td><td class=\"tdhistory800378\">85</td><td class=\"tdhistory800378\">0.0125657</td><td class=\"tdhistory800378\">2.5468209355925406</td><td class=\"tdhistory800378\">p</td></tr><tr><th class=\"tdhistory800378\" style= \"background: rgba(243, 243, 243, 0.75)\">143</th><td class=\"tdhistory800378\">16</td><td class=\"tdhistory800378\">0</td><td class=\"tdhistory800378\">90</td><td class=\"tdhistory800378\">0.0029166</td><td class=\"tdhistory800378\">3.0600647370342933</td><td class=\"tdhistory800378\">p</td></tr><tr><th class=\"tdhistory800378\" style= \"background: rgba(243, 243, 243, 0.75)\">144</th><td class=\"tdhistory800378\">56</td><td class=\"tdhistory800378\">0</td><td class=\"tdhistory800378\">79</td><td class=\"tdhistory800378\">0.1135904</td><td class=\"tdhistory800378\">-1.6016397040542534</td><td class=\"tdhistory800378\">a</td></tr><tr><th class=\"tdhistory800378\" style= \"background: rgba(243, 243, 243, 0.75)\">145</th><td class=\"tdhistory800378\">90</td><td class=\"tdhistory800378\">0</td><td class=\"tdhistory800378\">6</td><td class=\"tdhistory800378\">0.3559177</td><td class=\"tdhistory800378\">-0.9999999999999999</td><td class=\"tdhistory800378\">a</td></tr><tr><th class=\"tdhistory800378\" style= \"background: rgba(243, 243, 243, 0.75)\">146</th><td class=\"tdhistory800378\">18</td><td class=\"tdhistory800378\">1</td><td class=\"tdhistory800378\">146</td><td class=\"tdhistory800378\">0</td><td class=\"tdhistory800378\">3.88007857184668</td><td class=\"tdhistory800378\">p</td></tr><tr><th class=\"tdhistory800378\" style= \"background: rgba(243, 243, 243, 0.75)\">147</th><td class=\"tdhistory800378\">63</td><td class=\"tdhistory800378\">1</td><td class=\"tdhistory800378\">58</td><td class=\"tdhistory800378\">0.0480107</td><td class=\"tdhistory800378\">-2.018813226758169</td><td class=\"tdhistory800378\">n</td></tr><tr><th class=\"tdhistory800378\" style= \"background: rgba(243, 243, 243, 0.75)\">148</th><td class=\"tdhistory800378\">84</td><td class=\"tdhistory800378\">0</td><td class=\"tdhistory800378\">31</td><td class=\"tdhistory800378\">0.0006176</td><td class=\"tdhistory800378\">-3.8114042051957284</td><td class=\"tdhistory800378\">n</td></tr><tr><th class=\"tdhistory800378\" style= \"background: rgba(243, 243, 243, 0.75)\">149</th><td class=\"tdhistory800378\">51</td><td class=\"tdhistory800378\">1</td><td class=\"tdhistory800378\">125</td><td class=\"tdhistory800378\">0</td><td class=\"tdhistory800378\">-4.715111357900299</td><td class=\"tdhistory800378\">n</td></tr><tr><th class=\"tdhistory800378\" style= \"background: rgba(243, 243, 243, 0.75)\">150</th><td class=\"tdhistory800378\">82</td><td class=\"tdhistory800378\">1</td><td class=\"tdhistory800378\">34</td><td class=\"tdhistory800378\">0.0005562</td><td class=\"tdhistory800378\">-3.8116631374621925</td><td class=\"tdhistory800378\">n</td></tr><tr><th class=\"tdhistory800378\" style= \"background: rgba(243, 243, 243, 0.75)\">151</th><td class=\"tdhistory800378\">66</td><td class=\"tdhistory800378\">0</td><td class=\"tdhistory800378\">46</td><td class=\"tdhistory800378\">0.0032988</td><td class=\"tdhistory800378\">-3.095957668340024</td><td class=\"tdhistory800378\">n</td></tr><tr><th class=\"tdhistory800378\" style= \"background: rgba(243, 243, 243, 0.75)\">152</th><td class=\"tdhistory800378\">70</td><td class=\"tdhistory800378\">1</td><td class=\"tdhistory800378\">61</td><td class=\"tdhistory800378\">0</td><td class=\"tdhistory800378\">-5.3733043661188296</td><td class=\"tdhistory800378\">n</td></tr><tr><th class=\"tdhistory800378\" style= \"background: rgba(243, 243, 243, 0.75)\">153</th><td class=\"tdhistory800378\">40</td><td class=\"tdhistory800378\">1</td><td class=\"tdhistory800378\">97</td><td class=\"tdhistory800378\">0.0287475</td><td class=\"tdhistory800378\">-2.220837961070849</td><td class=\"tdhistory800378\">n</td></tr><tr><th class=\"tdhistory800378\" style= \"background: rgba(243, 243, 243, 0.75)\">154</th><td class=\"tdhistory800378\">41</td><td class=\"tdhistory800378\">0</td><td class=\"tdhistory800378\">87</td><td class=\"tdhistory800378\">0.4673513</td><td class=\"tdhistory800378\">0.7284430080051986</td><td class=\"tdhistory800378\">a</td></tr><tr><th class=\"tdhistory800378\" style= \"background: rgba(243, 243, 243, 0.75)\">155</th><td class=\"tdhistory800378\">21</td><td class=\"tdhistory800378\">1</td><td class=\"tdhistory800378\">80</td><td class=\"tdhistory800378\">0</td><td class=\"tdhistory800378\">-4.4940004317137</td><td class=\"tdhistory800378\">n</td></tr><tr><th class=\"tdhistory800378\" style= \"background: rgba(243, 243, 243, 0.75)\">156</th><td class=\"tdhistory800378\">82</td><td class=\"tdhistory800378\">0</td><td class=\"tdhistory800378\">23</td><td class=\"tdhistory800378\">0.0054189</td><td class=\"tdhistory800378\">-3.0725105303481928</td><td class=\"tdhistory800378\">n</td></tr><tr><th class=\"tdhistory800378\" style= \"background: rgba(243, 243, 243, 0.75)\">157</th><td class=\"tdhistory800378\">24</td><td class=\"tdhistory800378\">1</td><td class=\"tdhistory800378\">71</td><td class=\"tdhistory800378\">0.0275495</td><td class=\"tdhistory800378\">-2.251117099673115</td><td class=\"tdhistory800378\">n</td></tr><tr><th class=\"tdhistory800378\" style= \"background: rgba(243, 243, 243, 0.75)\">158</th><td class=\"tdhistory800378\">42</td><td class=\"tdhistory800378\">0</td><td class=\"tdhistory800378\">67</td><td class=\"tdhistory800378\">0</td><td class=\"tdhistory800378\">-4.211796282429227</td><td class=\"tdhistory800378\">n</td></tr><tr><th class=\"tdhistory800378\" style= \"background: rgba(243, 243, 243, 0.75)\">159</th><td class=\"tdhistory800378\">87</td><td class=\"tdhistory800378\">1</td><td class=\"tdhistory800378\">8</td><td class=\"tdhistory800378\">0.5973357</td><td class=\"tdhistory800378\">-0.5542183588683113</td><td class=\"tdhistory800378\">a</td></tr><tr><th class=\"tdhistory800378\" style= \"background: rgba(243, 243, 243, 0.75)\">160</th><td class=\"tdhistory800378\">44</td><td class=\"tdhistory800378\">0</td><td class=\"tdhistory800378\">88</td><td class=\"tdhistory800378\">0.002372</td><td class=\"tdhistory800378\">-3.127357432418749</td><td class=\"tdhistory800378\">n</td></tr><tr><th class=\"tdhistory800378\" style= \"background: rgba(243, 243, 243, 0.75)\">161</th><td class=\"tdhistory800378\">60</td><td class=\"tdhistory800378\">0</td><td class=\"tdhistory800378\">92</td><td class=\"tdhistory800378\">0</td><td class=\"tdhistory800378\">-4.258888739610543</td><td class=\"tdhistory800378\">n</td></tr><tr><th class=\"tdhistory800378\" style= \"background: rgba(243, 243, 243, 0.75)\">162</th><td class=\"tdhistory800378\">30</td><td class=\"tdhistory800378\">0</td><td class=\"tdhistory800378\">57</td><td class=\"tdhistory800378\">0.134039</td><td class=\"tdhistory800378\">-1.523189487616873</td><td class=\"tdhistory800378\">a</td></tr><tr><th class=\"tdhistory800378\" style= \"background: rgba(243, 243, 243, 0.75)\">163</th><td class=\"tdhistory800378\">55</td><td class=\"tdhistory800378\">0</td><td class=\"tdhistory800378\">97</td><td class=\"tdhistory800378\">0</td><td class=\"tdhistory800378\">-5.784851346128433</td><td class=\"tdhistory800378\">n</td></tr><tr><th class=\"tdhistory800378\" style= \"background: rgba(243, 243, 243, 0.75)\">164</th><td class=\"tdhistory800378\">41</td><td class=\"tdhistory800378\">1</td><td class=\"tdhistory800378\">125</td><td class=\"tdhistory800378\">0</td><td class=\"tdhistory800378\">-1.5361087497978672</td><td class=\"tdhistory800378\">n</td></tr><tr><th class=\"tdhistory800378\" style= \"background: rgba(243, 243, 243, 0.75)\">165</th><td class=\"tdhistory800378\">46</td><td class=\"tdhistory800378\">0</td><td class=\"tdhistory800378\">85</td><td class=\"tdhistory800378\">0</td><td class=\"tdhistory800378\">-4.332325340125757</td><td class=\"tdhistory800378\">n</td></tr><tr><th class=\"tdhistory800378\" style= \"background: rgba(243, 243, 243, 0.75)\">166</th><td class=\"tdhistory800378\">53</td><td class=\"tdhistory800378\">1</td><td class=\"tdhistory800378\">105</td><td class=\"tdhistory800378\">0</td><td class=\"tdhistory800378\">-4.527210354661868</td><td class=\"tdhistory800378\">n</td></tr><tr><th class=\"tdhistory800378\" style= \"background: rgba(243, 243, 243, 0.75)\">167</th><td class=\"tdhistory800378\">59</td><td class=\"tdhistory800378\">0</td><td class=\"tdhistory800378\">80</td><td class=\"tdhistory800378\">0</td><td class=\"tdhistory800378\">-4.809246673642799</td><td class=\"tdhistory800378\">n</td></tr><tr><th class=\"tdhistory800378\" style= \"background: rgba(243, 243, 243, 0.75)\">168</th><td class=\"tdhistory800378\">19</td><td class=\"tdhistory800378\">1</td><td class=\"tdhistory800378\">125</td><td class=\"tdhistory800378\">0</td><td class=\"tdhistory800378\">1.7623795152739916</td><td class=\"tdhistory800378\">p</td></tr><tr><th class=\"tdhistory800378\" style= \"background: rgba(243, 243, 243, 0.75)\">169</th><td class=\"tdhistory800378\">15</td><td class=\"tdhistory800378\">1</td><td class=\"tdhistory800378\">100</td><td class=\"tdhistory800378\">0</td><td class=\"tdhistory800378\">4.911359364701503</td><td class=\"tdhistory800378\">p</td></tr><tr><th class=\"tdhistory800378\" style= \"background: rgba(243, 243, 243, 0.75)\">170</th><td class=\"tdhistory800378\">20</td><td class=\"tdhistory800378\">0</td><td class=\"tdhistory800378\">102</td><td class=\"tdhistory800378\">0</td><td class=\"tdhistory800378\">4.308086346655084</td><td class=\"tdhistory800378\">p</td></tr></tbody></table></div>"
      ]
     },
     "execution_count": 28,
     "metadata": {
      "application/vnd.teradata.resultset": "{\"resultSetID\":\"/home/jovyan/JupyterLabRoot/Teradata/Resultsets/2022.07.04_11.37.20.410_UTC\",\"historyID\":870,\"chunkID\":\"00001\",\"sessionid\":\"\",\"portnum\":\"\",\"dockermode\":\"docker\",\"totalRowCount\":170,\"chunkCount\":0,\"rowLimit\":0,\"columnMetadata\":[{\"columnName\":\"tot_age\",\"columnTypeName\":\"INTEGER\"},{\"columnNumber\":1,\"columnName\":\"female_ind\",\"columnTypeName\":\"BYTEINT\"},{\"columnNumber\":2,\"columnName\":\"D_F\",\"columnTypeName\":\"FLOAT\"},{\"columnNumber\":3,\"columnName\":\"TTestPValue\",\"columnTypeName\":\"FLOAT\"},{\"columnNumber\":4,\"columnName\":\"T\",\"columnTypeName\":\"FLOAT\"},{\"columnNumber\":5,\"columnName\":\"TTestCallP_0.05\",\"columnTypeName\":\"VARCHAR\",\"length\":1,\"scale\":1}]}"
     },
     "output_type": "execute_result"
    }
   ],
   "source": [
    "call ${VALDB}.td_analyze('ParametricTest', \n",
    "                         'database=${QLID};\n",
    "                          tablename=VAL_ADS;\n",
    "                          firstcolumn=cc_avg_bal;\n",
    "                          secondcolumn=sv_avg_bal;\n",
    "                          paired=true;\n",
    "                          equalvariance=true;\n",
    "                          groupby=tot_age,female_ind;\n",
    "                          statsdatabase=${VALDB};');"
   ]
  },
  {
   "cell_type": "markdown",
   "metadata": {},
   "source": [
    "2.  One-Way F-Test producing an unpersisted result set."
   ]
  },
  {
   "cell_type": "code",
   "execution_count": 29,
   "metadata": {},
   "outputs": [
    {
     "data": {
      "text/plain": [
       "Success: 0 rows affected"
      ]
     },
     "execution_count": 29,
     "metadata": {
      "application/vnd.teradata.resultset": ""
     },
     "output_type": "execute_result"
    },
    {
     "ename": "WARNING",
     "evalue": "[Teradata Database] [Warning 3212] The stored procedure returned one or more result sets.",
     "output_type": "error",
     "traceback": [
      "[Teradata Database] [Warning 3212] The stored procedure returned one or more result sets."
     ]
    },
    {
     "data": {
      "application/vnd.teradata.resultset": "\"gender\",\"DF\",\"DFErr\",\"F\",\"FPValue\",\"FPText\",\"FCallP_0.01\"\n\"F\",\"14\",\"5837\",\"7.339460843405361\",\"0.001\",\"<0.001\",\"p\"\n\"M\",\"14\",\"4591\",\"4.946361887968364\",\"0.001\",\"<0.001\",\"p\"",
      "text/html": [
       "<div class = \"td-resultset-table-div\" style = \"max-height: 100%; overflow-y: auto\">\n",
       "      <table class=\"tdhistory441102\"><style>\n",
       "      table.tdhistory441102 { display: block !important; min-height: 126px !important; overflow: auto !important; height: 126px !important; width: 100% !important; border: 1px solid rgb(207, 207, 207) !important; border-collapse: collapse !important; ; color: var(--jp-ui-font-color1) !important; }\n",
       "      th.tdhistory441102 { border: 1px solid rgb(198,198,198) !important; border-collapse: collapse !important; ; padding: 2px 5px !important; ; font-size: 13px !important; ; text-align: center !important; white-space: normal !important; color: var(--jp-ui-font-color1) !important; }\n",
       "      th.tdhistory441102:last-child { text-align: left !important; }\n",
       "      tbody.tdhistory441102 tr:nth-child(even) { background: rgba(243, 243, 243, 0.75) !important; }\n",
       "      tbody.tdhistory441102 tr:nth-child(odd) { background: var(--jp-ui-inverse-font-color1) !important; }\n",
       "      td.tdhistory441102 { border: 1px solid rgb(207, 207, 207) !important; border-collapse: collapse !important; ; padding: 2px 5px !important; ; font-size: 13px !important; ; text-align: left !important;          white-space: nowrap !important; overflow:hidden !important; text-overflow:ellipsis !important;; }\n",
       "    </style><thead><tr style= \"background: rgba(243, 243, 243, 0.75)\"><th class=\"tdhistory441102\"></th><th class=\"tdhistory441102\">gender</th><th class=\"tdhistory441102\">DF</th><th class=\"tdhistory441102\">DFErr</th><th class=\"tdhistory441102\">F</th><th class=\"tdhistory441102\">FPValue</th><th class=\"tdhistory441102\">FPText</th><th class=\"tdhistory441102\">FCallP_0.01</th></tr></thead><tbody class=\"tdhistory441102 resultset-body\"><tr><th class=\"tdhistory441102\" style= \"background: rgba(243, 243, 243, 0.75)\">1</th><td class=\"tdhistory441102\">F</td><td class=\"tdhistory441102\">14</td><td class=\"tdhistory441102\">5837</td><td class=\"tdhistory441102\">7.339460843405361</td><td class=\"tdhistory441102\">0.001</td><td class=\"tdhistory441102\"><0.001</td><td class=\"tdhistory441102\">p</td></tr><tr><th class=\"tdhistory441102\" style= \"background: rgba(243, 243, 243, 0.75)\">2</th><td class=\"tdhistory441102\">M</td><td class=\"tdhistory441102\">14</td><td class=\"tdhistory441102\">4591</td><td class=\"tdhistory441102\">4.946361887968364</td><td class=\"tdhistory441102\">0.001</td><td class=\"tdhistory441102\"><0.001</td><td class=\"tdhistory441102\">p</td></tr></tbody></table></div>"
      ]
     },
     "execution_count": 29,
     "metadata": {
      "application/vnd.teradata.resultset": "{\"resultSetID\":\"/home/jovyan/JupyterLabRoot/Teradata/Resultsets/2022.07.04_11.37.30.852_UTC\",\"historyID\":871,\"chunkID\":\"00001\",\"sessionid\":\"\",\"portnum\":\"\",\"dockermode\":\"docker\",\"totalRowCount\":2,\"chunkCount\":0,\"rowLimit\":0,\"columnMetadata\":[{\"columnName\":\"gender\",\"columnTypeName\":\"VARCHAR\",\"length\":1,\"scale\":1},{\"columnNumber\":1,\"columnName\":\"DF\",\"columnTypeName\":\"FLOAT\"},{\"columnNumber\":2,\"columnName\":\"DFErr\",\"columnTypeName\":\"FLOAT\"},{\"columnNumber\":3,\"columnName\":\"F\",\"columnTypeName\":\"FLOAT\"},{\"columnNumber\":4,\"columnName\":\"FPValue\",\"columnTypeName\":\"FLOAT\"},{\"columnNumber\":5,\"columnName\":\"FPText\",\"columnTypeName\":\"VARCHAR\",\"length\":6,\"scale\":6},{\"columnNumber\":6,\"columnName\":\"FCallP_0.01\",\"columnTypeName\":\"VARCHAR\",\"length\":1,\"scale\":1}]}"
     },
     "output_type": "execute_result"
    }
   ],
   "source": [
    "call ${VALDB}.td_analyze('ParametricTest',\n",
    "                         'teststyle=fnway;\n",
    "                          database=${XSPDB};\n",
    "                          tablename=Customer;\n",
    "                          columnofinterest=income;\n",
    "                          columns=years_with_bank;\n",
    "                          groupby=gender;\n",
    "                          thresholdprobability=0.01;\n",
    "                          statsdatabase=${VALDB};');"
   ]
  },
  {
   "cell_type": "markdown",
   "metadata": {},
   "source": [
    "3.  2-way F-Test with Unequal Cell Counts producing an unpersisted result set."
   ]
  },
  {
   "cell_type": "code",
   "execution_count": 30,
   "metadata": {},
   "outputs": [
    {
     "data": {
      "text/plain": [
       "Success: 0 rows affected"
      ]
     },
     "execution_count": 30,
     "metadata": {
      "application/vnd.teradata.resultset": ""
     },
     "output_type": "execute_result"
    },
    {
     "ename": "WARNING",
     "evalue": "[Teradata Database] [Warning 3212] The stored procedure returned one or more result sets.",
     "output_type": "error",
     "traceback": [
      "[Teradata Database] [Warning 3212] The stored procedure returned one or more result sets."
     ]
    },
    {
     "data": {
      "application/vnd.teradata.resultset": "\"DF\",\"Fmodel\",\"DFErr\",\"DF_1\",\"F1\",\"DF_2\",\"F2\",\"DF_12\",\"F12\",\"Fmodel_PValue\",\"Fmodel_PText\",\"Fmodel_CallP_0.05\",\"F1_PValue\",\"F1_PText\",\"F1_CallP_0.05\",\"F2_PValue\",\"F2_PText\",\"F2_CallP_0.05\",\"F12_PValue\",\"F12_PText\",\"F12_CallP_0.05\"\n\"15\",\"9.710997531996655\",\"7330\",\"7\",\"11.561359030335888\",\"1\",\"51.83852316974105\",\"7\",\"1.8424180854082204\",\"0.001\",\"<0.001\",\"p\",\"0.001\",\"<0.001\",\"p\",\"0.001\",\"<0.001\",\"p\",\"0.07854148392066758\",\"\",\"a\"",
      "text/html": [
       "<div class = \"td-resultset-table-div\" style = \"max-height: 100%; overflow-y: auto\">\n",
       "      <table class=\"tdhistory723367\"><style>\n",
       "      table.tdhistory723367 { display: block !important; min-height: 105px !important; overflow: auto !important; height: 105px !important; width: 100% !important; border: 1px solid rgb(207, 207, 207) !important; border-collapse: collapse !important; ; color: var(--jp-ui-font-color1) !important; }\n",
       "      th.tdhistory723367 { border: 1px solid rgb(198,198,198) !important; border-collapse: collapse !important; ; padding: 2px 5px !important; ; font-size: 13px !important; ; text-align: center !important; white-space: normal !important; color: var(--jp-ui-font-color1) !important; }\n",
       "      th.tdhistory723367:last-child { text-align: left !important; }\n",
       "      tbody.tdhistory723367 tr:nth-child(even) { background: rgba(243, 243, 243, 0.75) !important; }\n",
       "      tbody.tdhistory723367 tr:nth-child(odd) { background: var(--jp-ui-inverse-font-color1) !important; }\n",
       "      td.tdhistory723367 { border: 1px solid rgb(207, 207, 207) !important; border-collapse: collapse !important; ; padding: 2px 5px !important; ; font-size: 13px !important; ; text-align: left !important;          white-space: nowrap !important; overflow:hidden !important; text-overflow:ellipsis !important;; }\n",
       "    </style><thead><tr style= \"background: rgba(243, 243, 243, 0.75)\"><th class=\"tdhistory723367\"></th><th class=\"tdhistory723367\">DF</th><th class=\"tdhistory723367\">Fmodel</th><th class=\"tdhistory723367\">DFErr</th><th class=\"tdhistory723367\">DF_1</th><th class=\"tdhistory723367\">F1</th><th class=\"tdhistory723367\">DF_2</th><th class=\"tdhistory723367\">F2</th><th class=\"tdhistory723367\">DF_12</th><th class=\"tdhistory723367\">F12</th><th class=\"tdhistory723367\">Fmodel_PValue</th><th class=\"tdhistory723367\">Fmodel_PText</th><th class=\"tdhistory723367\">Fmodel_CallP_0.05</th><th class=\"tdhistory723367\">F1_PValue</th><th class=\"tdhistory723367\">F1_PText</th><th class=\"tdhistory723367\">F1_CallP_0.05</th><th class=\"tdhistory723367\">F2_PValue</th><th class=\"tdhistory723367\">F2_PText</th><th class=\"tdhistory723367\">F2_CallP_0.05</th><th class=\"tdhistory723367\">F12_PValue</th><th class=\"tdhistory723367\">F12_PText</th><th class=\"tdhistory723367\">F12_CallP_0.05</th></tr></thead><tbody class=\"tdhistory723367 resultset-body\"><tr><th class=\"tdhistory723367\" style= \"background: rgba(243, 243, 243, 0.75)\">1</th><td class=\"tdhistory723367\">15</td><td class=\"tdhistory723367\">9.710997531996655</td><td class=\"tdhistory723367\">7330</td><td class=\"tdhistory723367\">7</td><td class=\"tdhistory723367\">11.561359030335888</td><td class=\"tdhistory723367\">1</td><td class=\"tdhistory723367\">51.83852316974105</td><td class=\"tdhistory723367\">7</td><td class=\"tdhistory723367\">1.8424180854082204</td><td class=\"tdhistory723367\">0.001</td><td class=\"tdhistory723367\"><0.001</td><td class=\"tdhistory723367\">p</td><td class=\"tdhistory723367\">0.001</td><td class=\"tdhistory723367\"><0.001</td><td class=\"tdhistory723367\">p</td><td class=\"tdhistory723367\">0.001</td><td class=\"tdhistory723367\"><0.001</td><td class=\"tdhistory723367\">p</td><td class=\"tdhistory723367\">0.07854148392066758</td><td class=\"tdhistory723367\"></td><td class=\"tdhistory723367\">a</td></tr></tbody></table></div>"
      ]
     },
     "execution_count": 30,
     "metadata": {
      "application/vnd.teradata.resultset": "{\"resultSetID\":\"/home/jovyan/JupyterLabRoot/Teradata/Resultsets/2022.07.04_11.37.45.146_UTC\",\"historyID\":872,\"chunkID\":\"00001\",\"sessionid\":\"\",\"portnum\":\"\",\"dockermode\":\"docker\",\"totalRowCount\":1,\"chunkCount\":0,\"rowLimit\":0,\"columnMetadata\":[{\"columnName\":\"DF\",\"columnTypeName\":\"INTEGER\"},{\"columnNumber\":1,\"columnName\":\"Fmodel\",\"columnTypeName\":\"FLOAT\"},{\"columnNumber\":2,\"columnName\":\"DFErr\",\"columnTypeName\":\"INTEGER\"},{\"columnNumber\":3,\"columnName\":\"DF_1\",\"columnTypeName\":\"INTEGER\"},{\"columnNumber\":4,\"columnName\":\"F1\",\"columnTypeName\":\"FLOAT\"},{\"columnNumber\":5,\"columnName\":\"DF_2\",\"columnTypeName\":\"INTEGER\"},{\"columnNumber\":6,\"columnName\":\"F2\",\"columnTypeName\":\"FLOAT\"},{\"columnNumber\":7,\"columnName\":\"DF_12\",\"columnTypeName\":\"INTEGER\"},{\"columnNumber\":8,\"columnName\":\"F12\",\"columnTypeName\":\"FLOAT\"},{\"columnNumber\":9,\"columnName\":\"Fmodel_PValue\",\"columnTypeName\":\"FLOAT\"},{\"columnNumber\":10,\"columnName\":\"Fmodel_PText\",\"columnTypeName\":\"VARCHAR\",\"length\":6,\"scale\":6},{\"columnNumber\":11,\"columnName\":\"Fmodel_CallP_0.05\",\"columnTypeName\":\"VARCHAR\",\"length\":1,\"scale\":1},{\"columnNumber\":12,\"columnName\":\"F1_PValue\",\"columnTypeName\":\"FLOAT\"},{\"columnNumber\":13,\"columnName\":\"F1_PText\",\"columnTypeName\":\"VARCHAR\",\"length\":6,\"scale\":6},{\"columnNumber\":14,\"columnName\":\"F1_CallP_0.05\",\"columnTypeName\":\"VARCHAR\",\"length\":1,\"scale\":1},{\"columnNumber\":15,\"columnName\":\"F2_PValue\",\"columnTypeName\":\"FLOAT\"},{\"columnNumber\":16,\"columnName\":\"F2_PText\",\"columnTypeName\":\"VARCHAR\",\"length\":6,\"scale\":6},{\"columnNumber\":17,\"columnName\":\"F2_CallP_0.05\",\"columnTypeName\":\"VARCHAR\",\"length\":1,\"scale\":1},{\"columnNumber\":18,\"columnName\":\"F12_PValue\",\"columnTypeName\":\"FLOAT\"},{\"columnNumber\":19,\"columnName\":\"F12_PText\",\"columnTypeName\":\"VARCHAR\",\"length\":6,\"scale\":6},{\"columnNumber\":20,\"columnName\":\"F12_CallP_0.05\",\"columnTypeName\":\"VARCHAR\",\"length\":1,\"scale\":1}]}"
     },
     "output_type": "execute_result"
    }
   ],
   "source": [
    "call ${VALDB}.td_analyze('ParametricTest',\n",
    "                         'teststyle=f2way;\n",
    "                          database=${XSPDB};\n",
    "                          tablename=Customer;\n",
    "                          columnofinterest=income;\n",
    "                          firstcolumn=years_with_bank;\n",
    "                          secondcolumn=gender;\n",
    "                          thresholdprobability=0.05;\n",
    "                          firstcolumnvalues=0,1,2,3,4,5,6,7;\n",
    "                          secondcolumnvalues=M,F;\n",
    "                          statsdatabase=${VALDB};');"
   ]
  },
  {
   "cell_type": "markdown",
   "metadata": {},
   "source": [
    "---"
   ]
  },
  {
   "cell_type": "markdown",
   "metadata": {},
   "source": [
    "### Rank Tests\n",
    "\n",
    "#### Purpose\n",
    "\n",
    "Statistical tests of this type calculate statistics based on the rank of variables rather than variable values.  In general, data that are ranked and ordinal may be analyzed by these tests.  Within some restraints, either numeric or non-numeric data may be analyzed.  Supported rank tests include the following:\n",
    "\n",
    "- Mann-Whitney/Kruskal-Wallis Test\n",
    "- Wilcoxon Signed Ranks Test\n",
    "- Friedman Test with Kendall’s Coefficient of Concordance & Spearmans’ Rho\n",
    "\n",
    "The choice between the Mann-Whitney and Kruskal-Wallis tests is made automatically, looking at the number of distinct values of the independent variable.  A variation of the Mann-Whitney test considers each requested variable individually, rather than combined, performing a series of independent tests.\n",
    "\n",
    "#### Required Parameters\n",
    "\n",
    "- **database**\n",
    "\n",
    "    The database containing the table to analyze.\n",
    "\n",
    "- **ranktest**\n",
    "\n",
    "    The ranktest parameter:\n",
    "    - Is required\n",
    "    - Must be the first parameter\n",
    "    - Is always enclosed in single quotes\n",
    "    \n",
    "\n",
    "- **tablename**\n",
    "\n",
    "    The table containing the columns to analyze.  It must reside in the database indicated by the database parameter.\n",
    "\n",
    "#### Optional Parameters\n",
    "\n",
    "- **blockcolumn**\n",
    "\n",
    "    Used only by the Friedman test, the column that represents blocks. They must reside in the table indicated by the tablename parameter.  Note that when pairing treatment and block column values, a division by zero error may occur if unequal cell counts are found.\n",
    "\n",
    "- **columnofinterest**\n",
    "\n",
    "    Used only by the Mann-Whitney and Friedman tests, the column specified with this parameter indicates the dependent variable. If non-numeric, it will be ranked alphanumerically.  It must reside in the table indicated by the tablename parameter.\n",
    "\n",
    "- **columns**\n",
    "\n",
    "    Used only by the Mann-Whitney test, the columns specified with this parameter represent the independent variables. They must reside in the table indicated by the tablename parameter.\n",
    "\n",
    "- **fallback**\n",
    "\n",
    "    When true, FALLBACK is requested as an attribute of the created output results table.  When false or parameter not specified, the FALLBACK attribute is not included in the create table SQL.\n",
    "\n",
    "- **firstcolumn**\n",
    "\n",
    "    Used only by the Wilcoxon test, the column that represents the first sample variable. It must reside in the table indicated by the tablename parameter.\n",
    "\n",
    "- **gensqlonly**\n",
    "\n",
    "    When true, the SQL for the requested function is returned as a result set but not run. When not specified or set to false, the SQL is run but not returned.  This parameter is not allowed when using the Mann-Whitney test.\n",
    "\n",
    "- **groupby**\n",
    "\n",
    "    One or more group-by columns may optionally be specified so that a separate result is produced for each value or combination of values in the specified column or columns.\n",
    "\n",
    "- **includezero**\n",
    "\n",
    "    Used only by the Wilcoxon test.  Ordinarily, the Wilcoxon test discards cases with zero differences.  This option, when set to true, includes these cases with the positive count. \n",
    "\n",
    "- **independent**\n",
    "\n",
    "    Used only by the Mann-Whitney test, its selection by setting independent=true, indicates that a variation of the Mann-Whitney test should be performed, considering each requested variable individually, rather than in combination, performing a series of independent tests.\n",
    "\n",
    "- **multiset**\n",
    "\n",
    "    When true, MULTISET is requested as an attribute of the created output results table.  When false or parameter not specified, the MULTISET attribute is not included in the create table SQL.\n",
    "\n",
    "- **outputdatabase**\n",
    "\n",
    "    Specifies the name of the database to contain the analysis results table.\n",
    "\n",
    "- **outputtablename**\n",
    "\n",
    "    Specifies the name of the table to store the analysis results. If not supplied, the results are returned as a result set.\n",
    "\n",
    "- **overwrite**\n",
    "\n",
    "    When overwrite is set to true or not set, the output table is dropped before creating a new one.\n",
    "\n",
    "- **secondcolumn**\n",
    "\n",
    "    Used only by the Wilcoxon test, the column that represents the second sample variable. It must reside in the table indicated by the tablename parameter.  Note that when pairing treatment and block column values, a division by zero error may occur if unequal cell counts are found.\n",
    "\n",
    "- **singletail**\n",
    "\n",
    "    Used only by the Mann-Whitney and Wilcoxon tests.  If the Mann-Whitney test becomes a Kruskall-Wallis test, the singletail option is invalid.  By default, a two-tailed test is performed.\n",
    "\n",
    "- **statsdatabase**\n",
    "\n",
    "    This is the database where the statistical test metadata tables are installed.  If not specified, the source database is searched for these metadata tables.\n",
    "\n",
    "- **teststyle**\n",
    "\n",
    "    The valid values are mw, friedman and wilcoxon, representing a Mann-Whitney, Friedman or Wilcoxon test.  If not specified, the default test style is Mann-Whitney (mw).\n",
    "\n",
    "- **thresholdprobability**\n",
    "\n",
    "    You may optionally change the threshold probability or allow it to default to 0.05.  Below this \"alpha\" probability the null hypothesis is rejected.\n",
    "\n",
    "- **treatmentcolumn**\n",
    "\n",
    "    Used only by the Friedman test, the column that represents the independent categorical variable. They must reside in the table indicated by the tablename parameter."
   ]
  },
  {
   "cell_type": "markdown",
   "metadata": {},
   "source": [
    "1.  Mann-Whitney test with a threshold probability of 0.01."
   ]
  },
  {
   "cell_type": "code",
   "execution_count": 31,
   "metadata": {},
   "outputs": [
    {
     "data": {
      "text/plain": [
       "Success: 0 rows affected"
      ]
     },
     "execution_count": 31,
     "metadata": {
      "application/vnd.teradata.resultset": ""
     },
     "output_type": "execute_result"
    },
    {
     "ename": "WARNING",
     "evalue": "[Teradata Database] [Warning 3212] The stored procedure returned one or more result sets.",
     "output_type": "error",
     "traceback": [
      "[Teradata Database] [Warning 3212] The stored procedure returned one or more result sets."
     ]
    },
    {
     "data": {
      "application/vnd.teradata.resultset": "\"years_with_bank\",\"Z\",\"MannWhitneyPValue\",\"MannWhitneyCallP_1E-2\"\n\"12\",\"-1.5058426157251128\",\"0.132067226\",\"a\"\n\"3\",\"-1.2277790991000173\",\"0.219447096\",\"a\"\n\"4\",\"-2.1776290109979204\",\"0.029405932\",\"a\"\n\"2\",\"0.2632551342578662\",\"0.792550692\",\"a\"\n\"11\",\"-1.329063927064864\",\"0.183848096\",\"a\"\n\"10\",\"-3.2379133262969324\",\"0.001203832\",\"n\"\n\"7\",\"-3.9525279885398006\",\"7.7211e-05\",\"n\"\n\"13\",\"-0.8617464449585489\",\"0.388687424\",\"a\"\n\"14\",\"-0.49966021063014066\",\"0.617075066\",\"a\"\n\"8\",\"-3.508754308300577\",\"0.00044988199999999997\",\"n\"\n\"5\",\"-2.664446116472283\",\"0.007721844\",\"n\"\n\"6\",\"-3.644272637669378\",\"0.000268502\",\"n\"\n\"9\",\"-3.1829653140323173\",\"0.001457706\",\"n\"\n\"1\",\"-0.4469203235902225\",\"0.654875104\",\"a\"\n\"0\",\"-0.05851578448193989\",\"0.952951968\",\"a\"",
      "text/html": [
       "<div class = \"td-resultset-table-div\" style = \"max-height: 100%; overflow-y: auto\">\n",
       "      <table class=\"tdhistory658576\"><style>\n",
       "      table.tdhistory658576 { display: block !important; min-height: 399px !important; overflow: auto !important; height: 399px !important; width: 100% !important; border: 1px solid rgb(207, 207, 207) !important; border-collapse: collapse !important; ; color: var(--jp-ui-font-color1) !important; }\n",
       "      th.tdhistory658576 { border: 1px solid rgb(198,198,198) !important; border-collapse: collapse !important; ; padding: 2px 5px !important; ; font-size: 13px !important; ; text-align: center !important; white-space: normal !important; color: var(--jp-ui-font-color1) !important; }\n",
       "      th.tdhistory658576:last-child { text-align: left !important; }\n",
       "      tbody.tdhistory658576 tr:nth-child(even) { background: rgba(243, 243, 243, 0.75) !important; }\n",
       "      tbody.tdhistory658576 tr:nth-child(odd) { background: var(--jp-ui-inverse-font-color1) !important; }\n",
       "      td.tdhistory658576 { border: 1px solid rgb(207, 207, 207) !important; border-collapse: collapse !important; ; padding: 2px 5px !important; ; font-size: 13px !important; ; text-align: left !important;          white-space: nowrap !important; overflow:hidden !important; text-overflow:ellipsis !important;; }\n",
       "    </style><thead><tr style= \"background: rgba(243, 243, 243, 0.75)\"><th class=\"tdhistory658576\"></th><th class=\"tdhistory658576\">years_with_bank</th><th class=\"tdhistory658576\">Z</th><th class=\"tdhistory658576\">MannWhitneyPValue</th><th class=\"tdhistory658576\">MannWhitneyCallP_1E-2</th></tr></thead><tbody class=\"tdhistory658576 resultset-body\"><tr><th class=\"tdhistory658576\" style= \"background: rgba(243, 243, 243, 0.75)\">1</th><td class=\"tdhistory658576\">12</td><td class=\"tdhistory658576\">-1.5058426157251128</td><td class=\"tdhistory658576\">0.132067226</td><td class=\"tdhistory658576\">a</td></tr><tr><th class=\"tdhistory658576\" style= \"background: rgba(243, 243, 243, 0.75)\">2</th><td class=\"tdhistory658576\">3</td><td class=\"tdhistory658576\">-1.2277790991000173</td><td class=\"tdhistory658576\">0.219447096</td><td class=\"tdhistory658576\">a</td></tr><tr><th class=\"tdhistory658576\" style= \"background: rgba(243, 243, 243, 0.75)\">3</th><td class=\"tdhistory658576\">4</td><td class=\"tdhistory658576\">-2.1776290109979204</td><td class=\"tdhistory658576\">0.029405932</td><td class=\"tdhistory658576\">a</td></tr><tr><th class=\"tdhistory658576\" style= \"background: rgba(243, 243, 243, 0.75)\">4</th><td class=\"tdhistory658576\">2</td><td class=\"tdhistory658576\">0.2632551342578662</td><td class=\"tdhistory658576\">0.792550692</td><td class=\"tdhistory658576\">a</td></tr><tr><th class=\"tdhistory658576\" style= \"background: rgba(243, 243, 243, 0.75)\">5</th><td class=\"tdhistory658576\">11</td><td class=\"tdhistory658576\">-1.329063927064864</td><td class=\"tdhistory658576\">0.183848096</td><td class=\"tdhistory658576\">a</td></tr><tr><th class=\"tdhistory658576\" style= \"background: rgba(243, 243, 243, 0.75)\">6</th><td class=\"tdhistory658576\">10</td><td class=\"tdhistory658576\">-3.2379133262969324</td><td class=\"tdhistory658576\">0.001203832</td><td class=\"tdhistory658576\">n</td></tr><tr><th class=\"tdhistory658576\" style= \"background: rgba(243, 243, 243, 0.75)\">7</th><td class=\"tdhistory658576\">7</td><td class=\"tdhistory658576\">-3.9525279885398006</td><td class=\"tdhistory658576\">7.7211e-05</td><td class=\"tdhistory658576\">n</td></tr><tr><th class=\"tdhistory658576\" style= \"background: rgba(243, 243, 243, 0.75)\">8</th><td class=\"tdhistory658576\">13</td><td class=\"tdhistory658576\">-0.8617464449585489</td><td class=\"tdhistory658576\">0.388687424</td><td class=\"tdhistory658576\">a</td></tr><tr><th class=\"tdhistory658576\" style= \"background: rgba(243, 243, 243, 0.75)\">9</th><td class=\"tdhistory658576\">14</td><td class=\"tdhistory658576\">-0.49966021063014066</td><td class=\"tdhistory658576\">0.617075066</td><td class=\"tdhistory658576\">a</td></tr><tr><th class=\"tdhistory658576\" style= \"background: rgba(243, 243, 243, 0.75)\">10</th><td class=\"tdhistory658576\">8</td><td class=\"tdhistory658576\">-3.508754308300577</td><td class=\"tdhistory658576\">0.00044988199999999997</td><td class=\"tdhistory658576\">n</td></tr><tr><th class=\"tdhistory658576\" style= \"background: rgba(243, 243, 243, 0.75)\">11</th><td class=\"tdhistory658576\">5</td><td class=\"tdhistory658576\">-2.664446116472283</td><td class=\"tdhistory658576\">0.007721844</td><td class=\"tdhistory658576\">n</td></tr><tr><th class=\"tdhistory658576\" style= \"background: rgba(243, 243, 243, 0.75)\">12</th><td class=\"tdhistory658576\">6</td><td class=\"tdhistory658576\">-3.644272637669378</td><td class=\"tdhistory658576\">0.000268502</td><td class=\"tdhistory658576\">n</td></tr><tr><th class=\"tdhistory658576\" style= \"background: rgba(243, 243, 243, 0.75)\">13</th><td class=\"tdhistory658576\">9</td><td class=\"tdhistory658576\">-3.1829653140323173</td><td class=\"tdhistory658576\">0.001457706</td><td class=\"tdhistory658576\">n</td></tr><tr><th class=\"tdhistory658576\" style= \"background: rgba(243, 243, 243, 0.75)\">14</th><td class=\"tdhistory658576\">1</td><td class=\"tdhistory658576\">-0.4469203235902225</td><td class=\"tdhistory658576\">0.654875104</td><td class=\"tdhistory658576\">a</td></tr><tr><th class=\"tdhistory658576\" style= \"background: rgba(243, 243, 243, 0.75)\">15</th><td class=\"tdhistory658576\">0</td><td class=\"tdhistory658576\">-0.05851578448193989</td><td class=\"tdhistory658576\">0.952951968</td><td class=\"tdhistory658576\">a</td></tr></tbody></table></div>"
      ]
     },
     "execution_count": 31,
     "metadata": {
      "application/vnd.teradata.resultset": "{\"resultSetID\":\"/home/jovyan/JupyterLabRoot/Teradata/Resultsets/2022.07.04_11.37.49.595_UTC\",\"historyID\":873,\"chunkID\":\"00001\",\"sessionid\":\"\",\"portnum\":\"\",\"dockermode\":\"docker\",\"totalRowCount\":15,\"chunkCount\":0,\"rowLimit\":0,\"columnMetadata\":[{\"columnName\":\"years_with_bank\",\"columnTypeName\":\"INTEGER\"},{\"columnNumber\":1,\"columnName\":\"Z\",\"columnTypeName\":\"FLOAT\"},{\"columnNumber\":2,\"columnName\":\"MannWhitneyPValue\",\"columnTypeName\":\"FLOAT\"},{\"columnNumber\":3,\"columnName\":\"MannWhitneyCallP_1E-2\",\"columnTypeName\":\"VARCHAR\",\"length\":1,\"scale\":1}]}"
     },
     "output_type": "execute_result"
    }
   ],
   "source": [
    "call ${VALDB}.td_analyze('ranktest',\n",
    "                         'teststyle=mw;\n",
    "                          statsdatabase=${VALDB};\n",
    "                          database=${XSPDB};\n",
    "                          tablename=Customer;\n",
    "                          columnofinterest=income;\n",
    "                          columns=gender;\n",
    "                          groupby=years_with_bank;\n",
    "                          thresholdprobability=0.01;');"
   ]
  },
  {
   "cell_type": "markdown",
   "metadata": {},
   "source": [
    "2.  A set of Mann-Whitney independent tests.  The threshold probability assumes the default value of 0.05."
   ]
  },
  {
   "cell_type": "code",
   "execution_count": 32,
   "metadata": {},
   "outputs": [
    {
     "data": {
      "text/plain": [
       "Success: 0 rows affected"
      ]
     },
     "execution_count": 32,
     "metadata": {
      "application/vnd.teradata.resultset": ""
     },
     "output_type": "execute_result"
    },
    {
     "ename": "WARNING",
     "evalue": "[Teradata Database] [Warning 3212] The stored procedure returned one or more result sets.",
     "output_type": "error",
     "traceback": [
      "[Teradata Database] [Warning 3212] The stored procedure returned one or more result sets."
     ]
    },
    {
     "data": {
      "application/vnd.teradata.resultset": "\"_twm_independent_variable\",\"Z\",\"MannWhitneyPValue\",\"MannWhitneyCallP_5E-2\"\n\"female_ind                    \",\"7.771020590981125\",\"6e-07\",\"p\"\n\"sv_acct_ind\",\"9.377586778932272\",\"6e-07\",\"p\"\n\"cc_acct_ind\",\"-19.115808047105958\",\"6e-07\",\"n\"\n\"ck_acct_ind\",\"-16.06418788422782\",\"6e-07\",\"n\"",
      "text/html": [
       "<div class = \"td-resultset-table-div\" style = \"max-height: 100%; overflow-y: auto\">\n",
       "      <table class=\"tdhistory198158\"><style>\n",
       "      table.tdhistory198158 { display: block !important; min-height: 168px !important; overflow: auto !important; height: 168px !important; width: 100% !important; border: 1px solid rgb(207, 207, 207) !important; border-collapse: collapse !important; ; color: var(--jp-ui-font-color1) !important; }\n",
       "      th.tdhistory198158 { border: 1px solid rgb(198,198,198) !important; border-collapse: collapse !important; ; padding: 2px 5px !important; ; font-size: 13px !important; ; text-align: center !important; white-space: normal !important; color: var(--jp-ui-font-color1) !important; }\n",
       "      th.tdhistory198158:last-child { text-align: left !important; }\n",
       "      tbody.tdhistory198158 tr:nth-child(even) { background: rgba(243, 243, 243, 0.75) !important; }\n",
       "      tbody.tdhistory198158 tr:nth-child(odd) { background: var(--jp-ui-inverse-font-color1) !important; }\n",
       "      td.tdhistory198158 { border: 1px solid rgb(207, 207, 207) !important; border-collapse: collapse !important; ; padding: 2px 5px !important; ; font-size: 13px !important; ; text-align: left !important;          white-space: nowrap !important; overflow:hidden !important; text-overflow:ellipsis !important;; }\n",
       "    </style><thead><tr style= \"background: rgba(243, 243, 243, 0.75)\"><th class=\"tdhistory198158\"></th><th class=\"tdhistory198158\">_twm_independent_variable</th><th class=\"tdhistory198158\">Z</th><th class=\"tdhistory198158\">MannWhitneyPValue</th><th class=\"tdhistory198158\">MannWhitneyCallP_5E-2</th></tr></thead><tbody class=\"tdhistory198158 resultset-body\"><tr><th class=\"tdhistory198158\" style= \"background: rgba(243, 243, 243, 0.75)\">1</th><td class=\"tdhistory198158\">female_ind                    </td><td class=\"tdhistory198158\">7.771020590981125</td><td class=\"tdhistory198158\">6e-07</td><td class=\"tdhistory198158\">p</td></tr><tr><th class=\"tdhistory198158\" style= \"background: rgba(243, 243, 243, 0.75)\">2</th><td class=\"tdhistory198158\">sv_acct_ind</td><td class=\"tdhistory198158\">9.377586778932272</td><td class=\"tdhistory198158\">6e-07</td><td class=\"tdhistory198158\">p</td></tr><tr><th class=\"tdhistory198158\" style= \"background: rgba(243, 243, 243, 0.75)\">3</th><td class=\"tdhistory198158\">cc_acct_ind</td><td class=\"tdhistory198158\">-19.115808047105958</td><td class=\"tdhistory198158\">6e-07</td><td class=\"tdhistory198158\">n</td></tr><tr><th class=\"tdhistory198158\" style= \"background: rgba(243, 243, 243, 0.75)\">4</th><td class=\"tdhistory198158\">ck_acct_ind</td><td class=\"tdhistory198158\">-16.06418788422782</td><td class=\"tdhistory198158\">6e-07</td><td class=\"tdhistory198158\">n</td></tr></tbody></table></div>"
      ]
     },
     "execution_count": 32,
     "metadata": {
      "application/vnd.teradata.resultset": "{\"resultSetID\":\"/home/jovyan/JupyterLabRoot/Teradata/Resultsets/2022.07.04_11.37.54.475_UTC\",\"historyID\":874,\"chunkID\":\"00001\",\"sessionid\":\"\",\"portnum\":\"\",\"dockermode\":\"docker\",\"totalRowCount\":4,\"chunkCount\":0,\"rowLimit\":0,\"columnMetadata\":[{\"columnName\":\"_twm_independent_variable\",\"columnTypeName\":\"VARCHAR\",\"length\":30,\"scale\":30},{\"columnNumber\":1,\"columnName\":\"Z\",\"columnTypeName\":\"FLOAT\"},{\"columnNumber\":2,\"columnName\":\"MannWhitneyPValue\",\"columnTypeName\":\"FLOAT\"},{\"columnNumber\":3,\"columnName\":\"MannWhitneyCallP_5E-2\",\"columnTypeName\":\"VARCHAR\",\"length\":1,\"scale\":1}]}"
     },
     "output_type": "execute_result"
    }
   ],
   "source": [
    "call ${VALDB}.td_analyze('ranktest',\n",
    "                         'teststyle=mw;\n",
    "                          statsdatabase=${VALDB};\n",
    "                          independent=true;\n",
    "                          database=${QLID};\n",
    "                          tablename=VAL_ADS;\n",
    "                          columnofinterest=tot_income;\n",
    "                          columns=female_ind,cc_acct_ind,ck_acct_ind,sv_acct_ind; ');"
   ]
  },
  {
   "cell_type": "markdown",
   "metadata": {},
   "source": [
    "3.  Wilcoxon Test - the threshold probability assumes the default value of 0.05."
   ]
  },
  {
   "cell_type": "code",
   "execution_count": 33,
   "metadata": {},
   "outputs": [
    {
     "data": {
      "text/plain": [
       "Success: 0 rows affected"
      ]
     },
     "execution_count": 33,
     "metadata": {
      "application/vnd.teradata.resultset": ""
     },
     "output_type": "execute_result"
    },
    {
     "ename": "WARNING",
     "evalue": "[Teradata Database] [Warning 3212] The stored procedure returned one or more result sets.",
     "output_type": "error",
     "traceback": [
      "[Teradata Database] [Warning 3212] The stored procedure returned one or more result sets."
     ]
    },
    {
     "data": {
      "application/vnd.teradata.resultset": "\"tot_cust_years\",\"N\",\"Z_\",\"WilcoxonPValue\",\"WilcoxonCallP_5E-2\"\n\"11\",\"315\",\"-8.214871312499245\",\"6e-07\",\"n\"\n\"13\",\"39\",\"-2.6793596002730693\",\"0.007384332\",\"n\"\n\"7\",\"918\",\"-11.640686617914307\",\"6e-07\",\"n\"\n\"5\",\"1010\",\"-16.95474369795407\",\"6e-07\",\"n\"\n\"9\",\"681\",\"-9.077457386798521\",\"6e-07\",\"n\"\n\"4\",\"977\",\"-18.779568835263486\",\"6e-07\",\"n\"\n\"0\",\"150\",\"-4.790039389110829\",\"1.669944e-06\",\"n\"\n\"14\",\"33\",\"-2.206676899498888\",\"0.027313964\",\"n\"\n\"3\",\"1003\",\"-17.354268985435144\",\"6e-07\",\"n\"\n\"1\",\"454\",\"-8.994275181286014\",\"6e-07\",\"n\"\n\"12\",\"147\",\"-4.46411081392879\",\"8.05146e-06\",\"n\"\n\"6\",\"960\",\"-14.602984867720217\",\"6e-07\",\"n\"\n\"10\",\"499\",\"-8.6585722063289\",\"6e-07\",\"n\"\n\"8\",\"804\",\"-9.852421542827756\",\"6e-07\",\"n\"\n\"2\",\"774\",\"-13.474895003968802\",\"6e-07\",\"n\"",
      "text/html": [
       "<div class = \"td-resultset-table-div\" style = \"max-height: 100%; overflow-y: auto\">\n",
       "      <table class=\"tdhistory648187\"><style>\n",
       "      table.tdhistory648187 { display: block !important; min-height: 399px !important; overflow: auto !important; height: 399px !important; width: 100% !important; border: 1px solid rgb(207, 207, 207) !important; border-collapse: collapse !important; ; color: var(--jp-ui-font-color1) !important; }\n",
       "      th.tdhistory648187 { border: 1px solid rgb(198,198,198) !important; border-collapse: collapse !important; ; padding: 2px 5px !important; ; font-size: 13px !important; ; text-align: center !important; white-space: normal !important; color: var(--jp-ui-font-color1) !important; }\n",
       "      th.tdhistory648187:last-child { text-align: left !important; }\n",
       "      tbody.tdhistory648187 tr:nth-child(even) { background: rgba(243, 243, 243, 0.75) !important; }\n",
       "      tbody.tdhistory648187 tr:nth-child(odd) { background: var(--jp-ui-inverse-font-color1) !important; }\n",
       "      td.tdhistory648187 { border: 1px solid rgb(207, 207, 207) !important; border-collapse: collapse !important; ; padding: 2px 5px !important; ; font-size: 13px !important; ; text-align: left !important;          white-space: nowrap !important; overflow:hidden !important; text-overflow:ellipsis !important;; }\n",
       "    </style><thead><tr style= \"background: rgba(243, 243, 243, 0.75)\"><th class=\"tdhistory648187\"></th><th class=\"tdhistory648187\">tot_cust_years</th><th class=\"tdhistory648187\">N</th><th class=\"tdhistory648187\">Z_</th><th class=\"tdhistory648187\">WilcoxonPValue</th><th class=\"tdhistory648187\">WilcoxonCallP_5E-2</th></tr></thead><tbody class=\"tdhistory648187 resultset-body\"><tr><th class=\"tdhistory648187\" style= \"background: rgba(243, 243, 243, 0.75)\">1</th><td class=\"tdhistory648187\">11</td><td class=\"tdhistory648187\">315</td><td class=\"tdhistory648187\">-8.214871312499245</td><td class=\"tdhistory648187\">6e-07</td><td class=\"tdhistory648187\">n</td></tr><tr><th class=\"tdhistory648187\" style= \"background: rgba(243, 243, 243, 0.75)\">2</th><td class=\"tdhistory648187\">13</td><td class=\"tdhistory648187\">39</td><td class=\"tdhistory648187\">-2.6793596002730693</td><td class=\"tdhistory648187\">0.007384332</td><td class=\"tdhistory648187\">n</td></tr><tr><th class=\"tdhistory648187\" style= \"background: rgba(243, 243, 243, 0.75)\">3</th><td class=\"tdhistory648187\">7</td><td class=\"tdhistory648187\">918</td><td class=\"tdhistory648187\">-11.640686617914307</td><td class=\"tdhistory648187\">6e-07</td><td class=\"tdhistory648187\">n</td></tr><tr><th class=\"tdhistory648187\" style= \"background: rgba(243, 243, 243, 0.75)\">4</th><td class=\"tdhistory648187\">5</td><td class=\"tdhistory648187\">1010</td><td class=\"tdhistory648187\">-16.95474369795407</td><td class=\"tdhistory648187\">6e-07</td><td class=\"tdhistory648187\">n</td></tr><tr><th class=\"tdhistory648187\" style= \"background: rgba(243, 243, 243, 0.75)\">5</th><td class=\"tdhistory648187\">9</td><td class=\"tdhistory648187\">681</td><td class=\"tdhistory648187\">-9.077457386798521</td><td class=\"tdhistory648187\">6e-07</td><td class=\"tdhistory648187\">n</td></tr><tr><th class=\"tdhistory648187\" style= \"background: rgba(243, 243, 243, 0.75)\">6</th><td class=\"tdhistory648187\">4</td><td class=\"tdhistory648187\">977</td><td class=\"tdhistory648187\">-18.779568835263486</td><td class=\"tdhistory648187\">6e-07</td><td class=\"tdhistory648187\">n</td></tr><tr><th class=\"tdhistory648187\" style= \"background: rgba(243, 243, 243, 0.75)\">7</th><td class=\"tdhistory648187\">0</td><td class=\"tdhistory648187\">150</td><td class=\"tdhistory648187\">-4.790039389110829</td><td class=\"tdhistory648187\">1.669944e-06</td><td class=\"tdhistory648187\">n</td></tr><tr><th class=\"tdhistory648187\" style= \"background: rgba(243, 243, 243, 0.75)\">8</th><td class=\"tdhistory648187\">14</td><td class=\"tdhistory648187\">33</td><td class=\"tdhistory648187\">-2.206676899498888</td><td class=\"tdhistory648187\">0.027313964</td><td class=\"tdhistory648187\">n</td></tr><tr><th class=\"tdhistory648187\" style= \"background: rgba(243, 243, 243, 0.75)\">9</th><td class=\"tdhistory648187\">3</td><td class=\"tdhistory648187\">1003</td><td class=\"tdhistory648187\">-17.354268985435144</td><td class=\"tdhistory648187\">6e-07</td><td class=\"tdhistory648187\">n</td></tr><tr><th class=\"tdhistory648187\" style= \"background: rgba(243, 243, 243, 0.75)\">10</th><td class=\"tdhistory648187\">1</td><td class=\"tdhistory648187\">454</td><td class=\"tdhistory648187\">-8.994275181286014</td><td class=\"tdhistory648187\">6e-07</td><td class=\"tdhistory648187\">n</td></tr><tr><th class=\"tdhistory648187\" style= \"background: rgba(243, 243, 243, 0.75)\">11</th><td class=\"tdhistory648187\">12</td><td class=\"tdhistory648187\">147</td><td class=\"tdhistory648187\">-4.46411081392879</td><td class=\"tdhistory648187\">8.05146e-06</td><td class=\"tdhistory648187\">n</td></tr><tr><th class=\"tdhistory648187\" style= \"background: rgba(243, 243, 243, 0.75)\">12</th><td class=\"tdhistory648187\">6</td><td class=\"tdhistory648187\">960</td><td class=\"tdhistory648187\">-14.602984867720217</td><td class=\"tdhistory648187\">6e-07</td><td class=\"tdhistory648187\">n</td></tr><tr><th class=\"tdhistory648187\" style= \"background: rgba(243, 243, 243, 0.75)\">13</th><td class=\"tdhistory648187\">10</td><td class=\"tdhistory648187\">499</td><td class=\"tdhistory648187\">-8.6585722063289</td><td class=\"tdhistory648187\">6e-07</td><td class=\"tdhistory648187\">n</td></tr><tr><th class=\"tdhistory648187\" style= \"background: rgba(243, 243, 243, 0.75)\">14</th><td class=\"tdhistory648187\">8</td><td class=\"tdhistory648187\">804</td><td class=\"tdhistory648187\">-9.852421542827756</td><td class=\"tdhistory648187\">6e-07</td><td class=\"tdhistory648187\">n</td></tr><tr><th class=\"tdhistory648187\" style= \"background: rgba(243, 243, 243, 0.75)\">15</th><td class=\"tdhistory648187\">2</td><td class=\"tdhistory648187\">774</td><td class=\"tdhistory648187\">-13.474895003968802</td><td class=\"tdhistory648187\">6e-07</td><td class=\"tdhistory648187\">n</td></tr></tbody></table></div>"
      ]
     },
     "execution_count": 33,
     "metadata": {
      "application/vnd.teradata.resultset": "{\"resultSetID\":\"/home/jovyan/JupyterLabRoot/Teradata/Resultsets/2022.07.04_11.37.56.672_UTC\",\"historyID\":875,\"chunkID\":\"00001\",\"sessionid\":\"\",\"portnum\":\"\",\"dockermode\":\"docker\",\"totalRowCount\":15,\"chunkCount\":0,\"rowLimit\":0,\"columnMetadata\":[{\"columnName\":\"tot_cust_years\",\"columnTypeName\":\"INTEGER\"},{\"columnNumber\":1,\"columnName\":\"N\",\"columnTypeName\":\"FLOAT\"},{\"columnNumber\":2,\"columnName\":\"Z_\",\"columnTypeName\":\"FLOAT\"},{\"columnNumber\":3,\"columnName\":\"WilcoxonPValue\",\"columnTypeName\":\"FLOAT\"},{\"columnNumber\":4,\"columnName\":\"WilcoxonCallP_5E-2\",\"columnTypeName\":\"VARCHAR\",\"length\":1,\"scale\":1}]}"
     },
     "output_type": "execute_result"
    }
   ],
   "source": [
    "call ${VALDB}.td_analyze('ranktest',\n",
    "                         'teststyle=wilcoxon;\n",
    "                          statsdatabase=${VALDB};\n",
    "                          database=${QLID};\n",
    "                          tablename=VAL_ADS;\n",
    "                          firstcolumn=ck_avg_bal;\n",
    "                          secondcolumn=sv_avg_bal;\n",
    "                          groupby=tot_cust_years; ');"
   ]
  },
  {
   "cell_type": "markdown",
   "metadata": {},
   "source": [
    "4.  A Friedman Test using a specially prepared input table called VAL_Friedman_WorkTable.  To build the VALFriedmanWorkTable, the following SQL may be used.  Note that the value ‘18’ is the smallest count of value combinations in the gender and marital_status columns in the Customer table.  The value '18'  is determined using the following query:"
   ]
  },
  {
   "cell_type": "code",
   "execution_count": 34,
   "metadata": {},
   "outputs": [
    {
     "data": {
      "application/vnd.teradata.resultset": "\"smallest_count\"\n\"252\"",
      "text/html": [
       "<div class = \"td-resultset-table-div\" style = \"max-height: 100%; overflow-y: auto\">\n",
       "      <table class=\"tdhistory222951\"><style>\n",
       "      table.tdhistory222951 { display: block !important; min-height: 105px !important; overflow: auto !important; height: 105px !important; width: 100% !important; border: 1px solid rgb(207, 207, 207) !important; border-collapse: collapse !important; ; color: var(--jp-ui-font-color1) !important; }\n",
       "      th.tdhistory222951 { border: 1px solid rgb(198,198,198) !important; border-collapse: collapse !important; ; padding: 2px 5px !important; ; font-size: 13px !important; ; text-align: center !important; white-space: normal !important; color: var(--jp-ui-font-color1) !important; }\n",
       "      th.tdhistory222951:last-child { text-align: left !important; }\n",
       "      tbody.tdhistory222951 tr:nth-child(even) { background: rgba(243, 243, 243, 0.75) !important; }\n",
       "      tbody.tdhistory222951 tr:nth-child(odd) { background: var(--jp-ui-inverse-font-color1) !important; }\n",
       "      td.tdhistory222951 { border: 1px solid rgb(207, 207, 207) !important; border-collapse: collapse !important; ; padding: 2px 5px !important; ; font-size: 13px !important; ; text-align: left !important;          white-space: nowrap !important; overflow:hidden !important; text-overflow:ellipsis !important;; }\n",
       "    </style><thead><tr style= \"background: rgba(243, 243, 243, 0.75)\"><th class=\"tdhistory222951\"></th><th class=\"tdhistory222951\">smallest_count</th></tr></thead><tbody class=\"tdhistory222951 resultset-body\"><tr><th class=\"tdhistory222951\" style= \"background: rgba(243, 243, 243, 0.75)\">1</th><td class=\"tdhistory222951\">252</td></tr></tbody></table></div>"
      ]
     },
     "execution_count": 34,
     "metadata": {
      "application/vnd.teradata.resultset": "{\"resultSetID\":\"/home/jovyan/JupyterLabRoot/Teradata/Resultsets/2022.07.04_11.37.56.827_UTC\",\"historyID\":876,\"chunkID\":\"00001\",\"sessionid\":\"\",\"portnum\":\"\",\"dockermode\":\"docker\",\"totalRowCount\":1,\"chunkCount\":0,\"rowLimit\":0,\"columnMetadata\":[{\"columnName\":\"smallest_count\",\"columnTypeName\":\"INTEGER\"}]}"
     },
     "output_type": "execute_result"
    }
   ],
   "source": [
    "SELECT \n",
    "     MIN(\"T0\".\"_val_N\") AS \"smallest_count\"\n",
    "FROM \n",
    "( SELECT \n",
    "     \"S0\".\"marital_status\" AS \"marital_status\"\n",
    "    ,\"S0\".\"gender\" AS \"gender\"\n",
    "    ,COUNT(*) AS \"_val_N\"\n",
    "FROM \"${XSPDB}\".\"Customer\" AS \"S0\"\n",
    "GROUP BY \"S0\".\"marital_status\", \"S0\".\"gender\"\n",
    ") AS \"T0\"\n",
    ";"
   ]
  },
  {
   "cell_type": "code",
   "execution_count": 35,
   "metadata": {},
   "outputs": [
    {
     "data": {
      "text/plain": [
       "Success: 0 rows affected"
      ]
     },
     "execution_count": 35,
     "metadata": {
      "application/vnd.teradata.resultset": ""
     },
     "output_type": "execute_result"
    }
   ],
   "source": [
    "CREATE SET TABLE \"${QLID}\".\"VAL_Friedman_Worktable\" AS (\n",
    "SELECT\n",
    "    \"cust_id\"\n",
    "    ,\"gender\"\n",
    "    ,\"marital_status\"\n",
    "    ,\"income\"\n",
    "    ,\"ckacct\"\n",
    "    ,\"svacct\"\n",
    "    ,SAMPLEID AS \"xSampleId\"\n",
    "FROM \"TRNG_XSP\".\"twm_customer_analysis\"\n",
    "SAMPLE \n",
    "    WHEN gender='f' and marital_status='1' THEN 18\n",
    "    WHEN gender='f' and marital_status='2' THEN 18\n",
    "    WHEN gender='f' and marital_status='3' THEN 18\n",
    "    WHEN gender='f' and marital_status='4' THEN 18\n",
    "    WHEN gender='m' and marital_status='1' THEN 18\n",
    "    WHEN gender='m' and marital_status='2' THEN 18\n",
    "    WHEN gender='m' and marital_status='3' THEN 18\n",
    "    WHEN gender='m' and marital_status='4' THEN 18\n",
    "END\n",
    ") WITH DATA PRIMARY INDEX(\"cust_id\");"
   ]
  },
  {
   "cell_type": "code",
   "execution_count": 36,
   "metadata": {},
   "outputs": [
    {
     "data": {
      "text/plain": [
       "Success: 0 rows affected"
      ]
     },
     "execution_count": 36,
     "metadata": {
      "application/vnd.teradata.resultset": ""
     },
     "output_type": "execute_result"
    },
    {
     "ename": "WARNING",
     "evalue": "[Teradata Database] [Warning 3212] The stored procedure returned one or more result sets.",
     "output_type": "error",
     "traceback": [
      "[Teradata Database] [Warning 3212] The stored procedure returned one or more result sets."
     ]
    },
    {
     "data": {
      "application/vnd.teradata.resultset": "\"Kendalls_W\",\"Average_Spearmans_Rho\",\"DF_1\",\"DF_2\",\"F\",\"FriedmanPValue\",\"FriedmanPText\",\"FriedmanCallP_5E-2\"\n\"0.7633721872295828\",\"0.7741239081764782\",\"1\",\"71\",\"229.04925950478244\",\"0.001\",\"<0.001\",\"p\"",
      "text/html": [
       "<div class = \"td-resultset-table-div\" style = \"max-height: 100%; overflow-y: auto\">\n",
       "      <table class=\"tdhistory509629\"><style>\n",
       "      table.tdhistory509629 { display: block !important; min-height: 105px !important; overflow: auto !important; height: 105px !important; width: 100% !important; border: 1px solid rgb(207, 207, 207) !important; border-collapse: collapse !important; ; color: var(--jp-ui-font-color1) !important; }\n",
       "      th.tdhistory509629 { border: 1px solid rgb(198,198,198) !important; border-collapse: collapse !important; ; padding: 2px 5px !important; ; font-size: 13px !important; ; text-align: center !important; white-space: normal !important; color: var(--jp-ui-font-color1) !important; }\n",
       "      th.tdhistory509629:last-child { text-align: left !important; }\n",
       "      tbody.tdhistory509629 tr:nth-child(even) { background: rgba(243, 243, 243, 0.75) !important; }\n",
       "      tbody.tdhistory509629 tr:nth-child(odd) { background: var(--jp-ui-inverse-font-color1) !important; }\n",
       "      td.tdhistory509629 { border: 1px solid rgb(207, 207, 207) !important; border-collapse: collapse !important; ; padding: 2px 5px !important; ; font-size: 13px !important; ; text-align: left !important;          white-space: nowrap !important; overflow:hidden !important; text-overflow:ellipsis !important;; }\n",
       "    </style><thead><tr style= \"background: rgba(243, 243, 243, 0.75)\"><th class=\"tdhistory509629\"></th><th class=\"tdhistory509629\">Kendalls_W</th><th class=\"tdhistory509629\">Average_Spearmans_Rho</th><th class=\"tdhistory509629\">DF_1</th><th class=\"tdhistory509629\">DF_2</th><th class=\"tdhistory509629\">F</th><th class=\"tdhistory509629\">FriedmanPValue</th><th class=\"tdhistory509629\">FriedmanPText</th><th class=\"tdhistory509629\">FriedmanCallP_5E-2</th></tr></thead><tbody class=\"tdhistory509629 resultset-body\"><tr><th class=\"tdhistory509629\" style= \"background: rgba(243, 243, 243, 0.75)\">1</th><td class=\"tdhistory509629\">0.7633721872295828</td><td class=\"tdhistory509629\">0.7741239081764782</td><td class=\"tdhistory509629\">1</td><td class=\"tdhistory509629\">71</td><td class=\"tdhistory509629\">229.04925950478244</td><td class=\"tdhistory509629\">0.001</td><td class=\"tdhistory509629\"><0.001</td><td class=\"tdhistory509629\">p</td></tr></tbody></table></div>"
      ]
     },
     "execution_count": 36,
     "metadata": {
      "application/vnd.teradata.resultset": "{\"resultSetID\":\"/home/jovyan/JupyterLabRoot/Teradata/Resultsets/2022.07.04_11.38.04.946_UTC\",\"historyID\":878,\"chunkID\":\"00001\",\"sessionid\":\"\",\"portnum\":\"\",\"dockermode\":\"docker\",\"totalRowCount\":1,\"chunkCount\":0,\"rowLimit\":0,\"columnMetadata\":[{\"columnName\":\"Kendalls_W\",\"columnTypeName\":\"FLOAT\"},{\"columnNumber\":1,\"columnName\":\"Average_Spearmans_Rho\",\"columnTypeName\":\"FLOAT\"},{\"columnNumber\":2,\"columnName\":\"DF_1\",\"columnTypeName\":\"INTEGER\"},{\"columnNumber\":3,\"columnName\":\"DF_2\",\"columnTypeName\":\"INTEGER\"},{\"columnNumber\":4,\"columnName\":\"F\",\"columnTypeName\":\"FLOAT\"},{\"columnNumber\":5,\"columnName\":\"FriedmanPValue\",\"columnTypeName\":\"FLOAT\"},{\"columnNumber\":6,\"columnName\":\"FriedmanPText\",\"columnTypeName\":\"VARCHAR\",\"length\":6,\"scale\":6},{\"columnNumber\":7,\"columnName\":\"FriedmanCallP_5E-2\",\"columnTypeName\":\"VARCHAR\",\"length\":1,\"scale\":1}]}"
     },
     "output_type": "execute_result"
    }
   ],
   "source": [
    "call ${VALDB}.td_analyze('ranktest',\n",
    "                         'teststyle=friedman;\n",
    "                          statsdatabase=${VALDB};\n",
    "                          database=${QLID};\n",
    "                          tablename=VAL_Friedman_Worktable;\n",
    "                          columnofinterest=income;\n",
    "                          treatmentcolumn=gender;\n",
    "                          blockcolumn=marital_status;');"
   ]
  },
  {
   "cell_type": "markdown",
   "metadata": {},
   "source": [
    "---"
   ]
  },
  {
   "cell_type": "markdown",
   "metadata": {},
   "source": [
    "### Chi Square Tests\n",
    "\n",
    "#### Purpose\n",
    "\n",
    "Statistical tests of this type are based on a matrix of frequencies or counts.  A frequency pattern that is non-random is sought in the matrix.  Supported tests of this type include the following:\n",
    "\n",
    "- Chi Square Test\n",
    "\n",
    "    Besides a Chi Square value, other measures are computed in a Chi Square Test, including a Phi Coefficient,  Cramer’s V, Likelihood Ratio Chi Square, Continuity-Adjusted Chi Square and Contingency Coefficient.\n",
    "\n",
    "- Median Test\n",
    "\n",
    "    A Median Test is a variation of Chi Square Test wherein samples are tested to see if their populations have the same median value.\n",
    "\n",
    "#### Required Parameters\n",
    "\n",
    "- **chisquaretest**\n",
    "\n",
    "    The chisquaretest parameter:\n",
    "    \n",
    "    - Is required\n",
    "    - Must be the first parameter\n",
    "    - Is always enclosed in single quotes\n",
    "\n",
    "\n",
    "- **database**\n",
    "\n",
    "    The database containing the table to analyze.\n",
    "\n",
    "- **tablename**\n",
    "\n",
    "    The table containing the columns to analyze.  It must reside in the database indicated by the database parameter.\n",
    "\n",
    "#### Optional Parameters\n",
    "\n",
    "- **columnofinterest**\n",
    "\n",
    "    Used only by the Median Test, the column specified with this parameter indicates the dependent variable (numeric).  It must reside in the table indicated by the tablename parameter.\n",
    "\n",
    "- **columns**\n",
    "\n",
    "    Used only by the Median Test, the columns specified with this parameter represent the independent variables (categorical). They must reside in the table indicated by the tablename parameter.\n",
    "\n",
    "- **fallback**\n",
    "\n",
    "    When true, FALLBACK is requested as an attribute of the created output results table.  When false or parameter not specified, the FALLBACK attribute is not included in the create table SQL.\n",
    "\n",
    "- **firstcolumns**\n",
    "\n",
    "    Used only by the Chi Square Test, one or more columns representing the first of variable pairs for analysis. They must reside in the table indicated by the tablename parameter.  Note that the number of combinations of firstcolumns and secondcolumns may not exceed 100.  Note also that if the product of the number distinct values in these column pairs exceeds 2000, the analysis of that combination is skipped (but not if gensqlonly is true).\n",
    "\n",
    "- **gensqlonly**\n",
    "\n",
    "    When true, the SQL for the requested function is returned as a result set but not run. When not specified or set to false, the SQL is run but not returned.\n",
    "\n",
    "- **groupby**\n",
    "\n",
    "    Available only in the Median Test, one or more group-by columns may optionally be specified so that a separate result is produced for each value or combination of values in the specified column or columns.\n",
    "\n",
    "- **multiset**\n",
    "\n",
    "    When true, MULTISET is requested as an attribute of the created output results table.  When false or parameter not specified, the MULTISET attribute is not included in the create table SQL.\n",
    "\n",
    "- **outputdatabase**\n",
    "\n",
    "    Specifies the name of the database to contain the analysis results table.\n",
    "\n",
    "- **outputtablename**\n",
    "\n",
    "    Specifies the name of the table to store the analysis results. If not supplied, the results are returned as a result set.\n",
    "\n",
    "- **overwrite**\n",
    "\n",
    "    When overwrite is set to true or not set, the output table is dropped before creating a new one.\n",
    "\n",
    "- **secondcolumns**\n",
    "\n",
    "    Used only by the Chi Square Test, one or more columns representing the second of variable pairs for analysis. They must reside in the table indicated by the tablename parameter.  Note that the number of combinations of firstcolumns and secondcolumns may not exceed 100.  Note also that if the product of the number distinct values in these column pairs exceeds 2000, the analysis of that combination is skipped (but not if gensqlonly is true).\n",
    "\n",
    "- **statsdatabase**\n",
    "\n",
    "    This is the database where the statistical test metadata tables are installed.  If not specified, the source database is searched for these metadata tables.\n",
    "\n",
    "- **teststyle**\n",
    "\n",
    "    The valid values are chisq and median, representing a Chi Square or Median test.  If not specified, the default test style is Chi Square (chisq).\n",
    "\n",
    "- **thresholdprobability**\n",
    "\n",
    "    You may optionally change the threshold probability or allow it to default to 0.05.  Below this \"alpha\" probability the null hypothesis is rejected."
   ]
  },
  {
   "cell_type": "markdown",
   "metadata": {},
   "source": [
    "1.  Chi Square Test with non-persisted results."
   ]
  },
  {
   "cell_type": "code",
   "execution_count": 37,
   "metadata": {},
   "outputs": [
    {
     "data": {
      "text/plain": [
       "Success: 0 rows affected"
      ]
     },
     "execution_count": 37,
     "metadata": {
      "application/vnd.teradata.resultset": ""
     },
     "output_type": "execute_result"
    },
    {
     "ename": "WARNING",
     "evalue": "[Teradata Database] [Warning 3212] The stored procedure returned one or more result sets.",
     "output_type": "error",
     "traceback": [
      "[Teradata Database] [Warning 3212] The stored procedure returned one or more result sets."
     ]
    },
    {
     "data": {
      "application/vnd.teradata.resultset": "\"column1\",\"column2\",\"Chisq\",\"DF\",\"Z\",\"CramersV\",\"PhiCoeff\",\"LlhChiSq\",\"ContAdjChiSq\",\"ContinCoeff\",\"ChiPValue\",\"ChiPText\",\"ChiCallP_5E-2\"\n\"female_ind\",\"ck_acct_ind\",\"51.963291143618186\",\"1\",\"6.266072413236709\",\"0.07048943119690093\",\"0.07048943119690093\",\"51.79027403137195\",\"51.65502985345838\",\"0.07031495858282666\",\"0.0001\",\"<0.0001\",\"p\"\n\"single_ind\",\"sv_acct_ind\",\"111.33800714811451\",\"1\",\"8.555265794438732\",\"0.10318044653217087\",\"0.10318044653217087\",\"112.15138339109859\",\"110.90737820419025\",\"0.10263555340590276\",\"0.0001\",\"<0.0001\",\"p\"\n\"female_ind\",\"sv_acct_ind\",\"73.52013882165667\",\"1\",\"7.236808261366889\",\"0.08384532268145403\",\"0.08384532268145403\",\"73.48997707707434\",\"73.17998066361035\",\"0.08355214963436527\",\"0.0001\",\"<0.0001\",\"p\"\n\"single_ind\",\"cc_acct_ind\",\"21.541917084755497\",\"1\",\"4.252562129760672\",\"0.04538557648792909\",\"0.04538557648792909\",\"21.461624947837834\",\"21.347967794596418\",\"0.04533890482563551\",\"0.0001\",\"<0.0001\",\"p\"\n\"single_ind\",\"ck_acct_ind\",\"3.7222614306074258\",\"1\",\"1.6376557333933492\",\"0.01886596903899718\",\"0.01886596903899718\",\"3.7119507979566606\",\"3.6377618158186986\",\"0.01886261250196342\",\"0.05524660442510223\",\"\",\"a\"\n\"female_ind\",\"cc_acct_ind\",\"84.45466569698048\",\"1\",\"7.657179013939365\",\"0.08986436396365856\",\"0.08986436396365856\",\"84.28739385913224\",\"84.08086832585147\",\"0.08950369247502081\",\"0.0001\",\"<0.0001\",\"p\"",
      "text/html": [
       "<div class = \"td-resultset-table-div\" style = \"max-height: 100%; overflow-y: auto\">\n",
       "      <table class=\"tdhistory735883\"><style>\n",
       "      table.tdhistory735883 { display: block !important; min-height: 210px !important; overflow: auto !important; height: 210px !important; width: 100% !important; border: 1px solid rgb(207, 207, 207) !important; border-collapse: collapse !important; ; color: var(--jp-ui-font-color1) !important; }\n",
       "      th.tdhistory735883 { border: 1px solid rgb(198,198,198) !important; border-collapse: collapse !important; ; padding: 2px 5px !important; ; font-size: 13px !important; ; text-align: center !important; white-space: normal !important; color: var(--jp-ui-font-color1) !important; }\n",
       "      th.tdhistory735883:last-child { text-align: left !important; }\n",
       "      tbody.tdhistory735883 tr:nth-child(even) { background: rgba(243, 243, 243, 0.75) !important; }\n",
       "      tbody.tdhistory735883 tr:nth-child(odd) { background: var(--jp-ui-inverse-font-color1) !important; }\n",
       "      td.tdhistory735883 { border: 1px solid rgb(207, 207, 207) !important; border-collapse: collapse !important; ; padding: 2px 5px !important; ; font-size: 13px !important; ; text-align: left !important;          white-space: nowrap !important; overflow:hidden !important; text-overflow:ellipsis !important;; }\n",
       "    </style><thead><tr style= \"background: rgba(243, 243, 243, 0.75)\"><th class=\"tdhistory735883\"></th><th class=\"tdhistory735883\">column1</th><th class=\"tdhistory735883\">column2</th><th class=\"tdhistory735883\">Chisq</th><th class=\"tdhistory735883\">DF</th><th class=\"tdhistory735883\">Z</th><th class=\"tdhistory735883\">CramersV</th><th class=\"tdhistory735883\">PhiCoeff</th><th class=\"tdhistory735883\">LlhChiSq</th><th class=\"tdhistory735883\">ContAdjChiSq</th><th class=\"tdhistory735883\">ContinCoeff</th><th class=\"tdhistory735883\">ChiPValue</th><th class=\"tdhistory735883\">ChiPText</th><th class=\"tdhistory735883\">ChiCallP_5E-2</th></tr></thead><tbody class=\"tdhistory735883 resultset-body\"><tr><th class=\"tdhistory735883\" style= \"background: rgba(243, 243, 243, 0.75)\">1</th><td class=\"tdhistory735883\">female_ind</td><td class=\"tdhistory735883\">ck_acct_ind</td><td class=\"tdhistory735883\">51.963291143618186</td><td class=\"tdhistory735883\">1</td><td class=\"tdhistory735883\">6.266072413236709</td><td class=\"tdhistory735883\">0.07048943119690093</td><td class=\"tdhistory735883\">0.07048943119690093</td><td class=\"tdhistory735883\">51.79027403137195</td><td class=\"tdhistory735883\">51.65502985345838</td><td class=\"tdhistory735883\">0.07031495858282666</td><td class=\"tdhistory735883\">0.0001</td><td class=\"tdhistory735883\"><0.0001</td><td class=\"tdhistory735883\">p</td></tr><tr><th class=\"tdhistory735883\" style= \"background: rgba(243, 243, 243, 0.75)\">2</th><td class=\"tdhistory735883\">single_ind</td><td class=\"tdhistory735883\">sv_acct_ind</td><td class=\"tdhistory735883\">111.33800714811451</td><td class=\"tdhistory735883\">1</td><td class=\"tdhistory735883\">8.555265794438732</td><td class=\"tdhistory735883\">0.10318044653217087</td><td class=\"tdhistory735883\">0.10318044653217087</td><td class=\"tdhistory735883\">112.15138339109859</td><td class=\"tdhistory735883\">110.90737820419025</td><td class=\"tdhistory735883\">0.10263555340590276</td><td class=\"tdhistory735883\">0.0001</td><td class=\"tdhistory735883\"><0.0001</td><td class=\"tdhistory735883\">p</td></tr><tr><th class=\"tdhistory735883\" style= \"background: rgba(243, 243, 243, 0.75)\">3</th><td class=\"tdhistory735883\">female_ind</td><td class=\"tdhistory735883\">sv_acct_ind</td><td class=\"tdhistory735883\">73.52013882165667</td><td class=\"tdhistory735883\">1</td><td class=\"tdhistory735883\">7.236808261366889</td><td class=\"tdhistory735883\">0.08384532268145403</td><td class=\"tdhistory735883\">0.08384532268145403</td><td class=\"tdhistory735883\">73.48997707707434</td><td class=\"tdhistory735883\">73.17998066361035</td><td class=\"tdhistory735883\">0.08355214963436527</td><td class=\"tdhistory735883\">0.0001</td><td class=\"tdhistory735883\"><0.0001</td><td class=\"tdhistory735883\">p</td></tr><tr><th class=\"tdhistory735883\" style= \"background: rgba(243, 243, 243, 0.75)\">4</th><td class=\"tdhistory735883\">single_ind</td><td class=\"tdhistory735883\">cc_acct_ind</td><td class=\"tdhistory735883\">21.541917084755497</td><td class=\"tdhistory735883\">1</td><td class=\"tdhistory735883\">4.252562129760672</td><td class=\"tdhistory735883\">0.04538557648792909</td><td class=\"tdhistory735883\">0.04538557648792909</td><td class=\"tdhistory735883\">21.461624947837834</td><td class=\"tdhistory735883\">21.347967794596418</td><td class=\"tdhistory735883\">0.04533890482563551</td><td class=\"tdhistory735883\">0.0001</td><td class=\"tdhistory735883\"><0.0001</td><td class=\"tdhistory735883\">p</td></tr><tr><th class=\"tdhistory735883\" style= \"background: rgba(243, 243, 243, 0.75)\">5</th><td class=\"tdhistory735883\">single_ind</td><td class=\"tdhistory735883\">ck_acct_ind</td><td class=\"tdhistory735883\">3.7222614306074258</td><td class=\"tdhistory735883\">1</td><td class=\"tdhistory735883\">1.6376557333933492</td><td class=\"tdhistory735883\">0.01886596903899718</td><td class=\"tdhistory735883\">0.01886596903899718</td><td class=\"tdhistory735883\">3.7119507979566606</td><td class=\"tdhistory735883\">3.6377618158186986</td><td class=\"tdhistory735883\">0.01886261250196342</td><td class=\"tdhistory735883\">0.05524660442510223</td><td class=\"tdhistory735883\"></td><td class=\"tdhistory735883\">a</td></tr><tr><th class=\"tdhistory735883\" style= \"background: rgba(243, 243, 243, 0.75)\">6</th><td class=\"tdhistory735883\">female_ind</td><td class=\"tdhistory735883\">cc_acct_ind</td><td class=\"tdhistory735883\">84.45466569698048</td><td class=\"tdhistory735883\">1</td><td class=\"tdhistory735883\">7.657179013939365</td><td class=\"tdhistory735883\">0.08986436396365856</td><td class=\"tdhistory735883\">0.08986436396365856</td><td class=\"tdhistory735883\">84.28739385913224</td><td class=\"tdhistory735883\">84.08086832585147</td><td class=\"tdhistory735883\">0.08950369247502081</td><td class=\"tdhistory735883\">0.0001</td><td class=\"tdhistory735883\"><0.0001</td><td class=\"tdhistory735883\">p</td></tr></tbody></table></div>"
      ]
     },
     "execution_count": 37,
     "metadata": {
      "application/vnd.teradata.resultset": "{\"resultSetID\":\"/home/jovyan/JupyterLabRoot/Teradata/Resultsets/2022.07.04_11.38.13.745_UTC\",\"historyID\":879,\"chunkID\":\"00001\",\"sessionid\":\"\",\"portnum\":\"\",\"dockermode\":\"docker\",\"totalRowCount\":6,\"chunkCount\":0,\"rowLimit\":0,\"columnMetadata\":[{\"columnName\":\"column1\",\"columnTypeName\":\"VARCHAR\",\"length\":256,\"scale\":256},{\"columnNumber\":1,\"columnName\":\"column2\",\"columnTypeName\":\"VARCHAR\",\"length\":256,\"scale\":256},{\"columnNumber\":2,\"columnName\":\"Chisq\",\"columnTypeName\":\"FLOAT\"},{\"columnNumber\":3,\"columnName\":\"DF\",\"columnTypeName\":\"BIGINT\"},{\"columnNumber\":4,\"columnName\":\"Z\",\"columnTypeName\":\"FLOAT\"},{\"columnNumber\":5,\"columnName\":\"CramersV\",\"columnTypeName\":\"FLOAT\"},{\"columnNumber\":6,\"columnName\":\"PhiCoeff\",\"columnTypeName\":\"FLOAT\"},{\"columnNumber\":7,\"columnName\":\"LlhChiSq\",\"columnTypeName\":\"FLOAT\"},{\"columnNumber\":8,\"columnName\":\"ContAdjChiSq\",\"columnTypeName\":\"FLOAT\"},{\"columnNumber\":9,\"columnName\":\"ContinCoeff\",\"columnTypeName\":\"FLOAT\"},{\"columnNumber\":10,\"columnName\":\"ChiPValue\",\"columnTypeName\":\"FLOAT\"},{\"columnNumber\":11,\"columnName\":\"ChiPText\",\"columnTypeName\":\"VARCHAR\",\"length\":7,\"scale\":7},{\"columnNumber\":12,\"columnName\":\"ChiCallP_5E-2\",\"columnTypeName\":\"VARCHAR\",\"length\":1,\"scale\":1}]}"
     },
     "output_type": "execute_result"
    }
   ],
   "source": [
    "call ${VALDB}.td_analyze('chisquaretest',\n",
    "                         'statsdatabase=${VALDB};\n",
    "                          teststyle=chisq;\n",
    "                          database=${QLID};\n",
    "                          tablename=VAL_ADS;\n",
    "                          firstcolumns=female_ind,single_ind;\n",
    "                          secondcolumns=sv_acct_ind,cc_acct_ind,ck_acct_ind;');"
   ]
  },
  {
   "cell_type": "markdown",
   "metadata": {},
   "source": [
    "2.  Chi Square Test with results persisted in an output table."
   ]
  },
  {
   "cell_type": "code",
   "execution_count": 38,
   "metadata": {},
   "outputs": [
    {
     "data": {
      "text/plain": [
       "Success: 0 rows affected"
      ]
     },
     "execution_count": 38,
     "metadata": {
      "application/vnd.teradata.resultset": ""
     },
     "output_type": "execute_result"
    }
   ],
   "source": [
    "call ${VALDB}.td_analyze('chisquaretest',\n",
    "                         'statsdatabase=${VALDB};\n",
    "                          teststyle=chisq;\n",
    "                          database=${QLID};\n",
    "                          tablename=VAL_ADS;\n",
    "                          firstcolumns=female_ind,single_ind;\n",
    "                          secondcolumns=sv_acct_ind,cc_acct_ind,ck_acct_ind;\n",
    "                          outputdatabase=${QLID};\n",
    "                          outputtablename=_val_chisquare_out;');"
   ]
  },
  {
   "cell_type": "code",
   "execution_count": 39,
   "metadata": {},
   "outputs": [
    {
     "data": {
      "application/vnd.teradata.resultset": "\"column1\",\"column2\",\"Chisq\",\"DF\",\"Z\",\"CramersV\",\"PhiCoeff\",\"LlhChiSq\",\"ContAdjChiSq\",\"ContinCoeff\",\"ChiPValue\",\"ChiPText\",\"ChiCallP_5E-2\"\n\"female_ind\",\"sv_acct_ind\",\"73.52013882165669\",\"1\",\"7.23680826136689\",\"0.08384532268145405\",\"0.08384532268145405\",\"73.48997707707434\",\"73.17998066361037\",\"0.08355214963436529\",\"0.0001\",\"<0.0001\",\"p\"\n\"female_ind\",\"ck_acct_ind\",\"51.96329114361818\",\"1\",\"6.266072413236709\",\"0.07048943119690093\",\"0.07048943119690093\",\"51.79027403137195\",\"51.65502985345838\",\"0.07031495858282666\",\"0.0001\",\"<0.0001\",\"p\"\n\"female_ind\",\"cc_acct_ind\",\"84.45466569698048\",\"1\",\"7.657179013939365\",\"0.08986436396365856\",\"0.08986436396365856\",\"84.28739385913224\",\"84.08086832585147\",\"0.08950369247502081\",\"0.0001\",\"<0.0001\",\"p\"\n\"single_ind\",\"cc_acct_ind\",\"21.541917084755497\",\"1\",\"4.252562129760672\",\"0.04538557648792909\",\"0.04538557648792909\",\"21.461624947837834\",\"21.347967794596414\",\"0.04533890482563551\",\"0.0001\",\"<0.0001\",\"p\"\n\"single_ind\",\"sv_acct_ind\",\"111.33800714811451\",\"1\",\"8.555265794438732\",\"0.10318044653217087\",\"0.10318044653217087\",\"112.15138339109859\",\"110.90737820419025\",\"0.10263555340590276\",\"0.0001\",\"<0.0001\",\"p\"\n\"single_ind\",\"ck_acct_ind\",\"3.7222614306074258\",\"1\",\"1.6376557333933492\",\"0.01886596903899718\",\"0.01886596903899718\",\"3.7119507979566606\",\"3.6377618158186986\",\"0.01886261250196342\",\"0.05524660442510223\",\"\",\"a\"",
      "text/html": [
       "<div class = \"td-resultset-table-div\" style = \"max-height: 100%; overflow-y: auto\">\n",
       "      <table class=\"tdhistory131638\"><style>\n",
       "      table.tdhistory131638 { display: block !important; min-height: 210px !important; overflow: auto !important; height: 210px !important; width: 100% !important; border: 1px solid rgb(207, 207, 207) !important; border-collapse: collapse !important; ; color: var(--jp-ui-font-color1) !important; }\n",
       "      th.tdhistory131638 { border: 1px solid rgb(198,198,198) !important; border-collapse: collapse !important; ; padding: 2px 5px !important; ; font-size: 13px !important; ; text-align: center !important; white-space: normal !important; color: var(--jp-ui-font-color1) !important; }\n",
       "      th.tdhistory131638:last-child { text-align: left !important; }\n",
       "      tbody.tdhistory131638 tr:nth-child(even) { background: rgba(243, 243, 243, 0.75) !important; }\n",
       "      tbody.tdhistory131638 tr:nth-child(odd) { background: var(--jp-ui-inverse-font-color1) !important; }\n",
       "      td.tdhistory131638 { border: 1px solid rgb(207, 207, 207) !important; border-collapse: collapse !important; ; padding: 2px 5px !important; ; font-size: 13px !important; ; text-align: left !important;          white-space: nowrap !important; overflow:hidden !important; text-overflow:ellipsis !important;; }\n",
       "    </style><thead><tr style= \"background: rgba(243, 243, 243, 0.75)\"><th class=\"tdhistory131638\"></th><th class=\"tdhistory131638\">column1</th><th class=\"tdhistory131638\">column2</th><th class=\"tdhistory131638\">Chisq</th><th class=\"tdhistory131638\">DF</th><th class=\"tdhistory131638\">Z</th><th class=\"tdhistory131638\">CramersV</th><th class=\"tdhistory131638\">PhiCoeff</th><th class=\"tdhistory131638\">LlhChiSq</th><th class=\"tdhistory131638\">ContAdjChiSq</th><th class=\"tdhistory131638\">ContinCoeff</th><th class=\"tdhistory131638\">ChiPValue</th><th class=\"tdhistory131638\">ChiPText</th><th class=\"tdhistory131638\">ChiCallP_5E-2</th></tr></thead><tbody class=\"tdhistory131638 resultset-body\"><tr><th class=\"tdhistory131638\" style= \"background: rgba(243, 243, 243, 0.75)\">1</th><td class=\"tdhistory131638\">female_ind</td><td class=\"tdhistory131638\">sv_acct_ind</td><td class=\"tdhistory131638\">73.52013882165669</td><td class=\"tdhistory131638\">1</td><td class=\"tdhistory131638\">7.23680826136689</td><td class=\"tdhistory131638\">0.08384532268145405</td><td class=\"tdhistory131638\">0.08384532268145405</td><td class=\"tdhistory131638\">73.48997707707434</td><td class=\"tdhistory131638\">73.17998066361037</td><td class=\"tdhistory131638\">0.08355214963436529</td><td class=\"tdhistory131638\">0.0001</td><td class=\"tdhistory131638\"><0.0001</td><td class=\"tdhistory131638\">p</td></tr><tr><th class=\"tdhistory131638\" style= \"background: rgba(243, 243, 243, 0.75)\">2</th><td class=\"tdhistory131638\">female_ind</td><td class=\"tdhistory131638\">ck_acct_ind</td><td class=\"tdhistory131638\">51.96329114361818</td><td class=\"tdhistory131638\">1</td><td class=\"tdhistory131638\">6.266072413236709</td><td class=\"tdhistory131638\">0.07048943119690093</td><td class=\"tdhistory131638\">0.07048943119690093</td><td class=\"tdhistory131638\">51.79027403137195</td><td class=\"tdhistory131638\">51.65502985345838</td><td class=\"tdhistory131638\">0.07031495858282666</td><td class=\"tdhistory131638\">0.0001</td><td class=\"tdhistory131638\"><0.0001</td><td class=\"tdhistory131638\">p</td></tr><tr><th class=\"tdhistory131638\" style= \"background: rgba(243, 243, 243, 0.75)\">3</th><td class=\"tdhistory131638\">female_ind</td><td class=\"tdhistory131638\">cc_acct_ind</td><td class=\"tdhistory131638\">84.45466569698048</td><td class=\"tdhistory131638\">1</td><td class=\"tdhistory131638\">7.657179013939365</td><td class=\"tdhistory131638\">0.08986436396365856</td><td class=\"tdhistory131638\">0.08986436396365856</td><td class=\"tdhistory131638\">84.28739385913224</td><td class=\"tdhistory131638\">84.08086832585147</td><td class=\"tdhistory131638\">0.08950369247502081</td><td class=\"tdhistory131638\">0.0001</td><td class=\"tdhistory131638\"><0.0001</td><td class=\"tdhistory131638\">p</td></tr><tr><th class=\"tdhistory131638\" style= \"background: rgba(243, 243, 243, 0.75)\">4</th><td class=\"tdhistory131638\">single_ind</td><td class=\"tdhistory131638\">cc_acct_ind</td><td class=\"tdhistory131638\">21.541917084755497</td><td class=\"tdhistory131638\">1</td><td class=\"tdhistory131638\">4.252562129760672</td><td class=\"tdhistory131638\">0.04538557648792909</td><td class=\"tdhistory131638\">0.04538557648792909</td><td class=\"tdhistory131638\">21.461624947837834</td><td class=\"tdhistory131638\">21.347967794596414</td><td class=\"tdhistory131638\">0.04533890482563551</td><td class=\"tdhistory131638\">0.0001</td><td class=\"tdhistory131638\"><0.0001</td><td class=\"tdhistory131638\">p</td></tr><tr><th class=\"tdhistory131638\" style= \"background: rgba(243, 243, 243, 0.75)\">5</th><td class=\"tdhistory131638\">single_ind</td><td class=\"tdhistory131638\">sv_acct_ind</td><td class=\"tdhistory131638\">111.33800714811451</td><td class=\"tdhistory131638\">1</td><td class=\"tdhistory131638\">8.555265794438732</td><td class=\"tdhistory131638\">0.10318044653217087</td><td class=\"tdhistory131638\">0.10318044653217087</td><td class=\"tdhistory131638\">112.15138339109859</td><td class=\"tdhistory131638\">110.90737820419025</td><td class=\"tdhistory131638\">0.10263555340590276</td><td class=\"tdhistory131638\">0.0001</td><td class=\"tdhistory131638\"><0.0001</td><td class=\"tdhistory131638\">p</td></tr><tr><th class=\"tdhistory131638\" style= \"background: rgba(243, 243, 243, 0.75)\">6</th><td class=\"tdhistory131638\">single_ind</td><td class=\"tdhistory131638\">ck_acct_ind</td><td class=\"tdhistory131638\">3.7222614306074258</td><td class=\"tdhistory131638\">1</td><td class=\"tdhistory131638\">1.6376557333933492</td><td class=\"tdhistory131638\">0.01886596903899718</td><td class=\"tdhistory131638\">0.01886596903899718</td><td class=\"tdhistory131638\">3.7119507979566606</td><td class=\"tdhistory131638\">3.6377618158186986</td><td class=\"tdhistory131638\">0.01886261250196342</td><td class=\"tdhistory131638\">0.05524660442510223</td><td class=\"tdhistory131638\"></td><td class=\"tdhistory131638\">a</td></tr></tbody></table></div>"
      ]
     },
     "execution_count": 39,
     "metadata": {
      "application/vnd.teradata.resultset": "{\"resultSetID\":\"/home/jovyan/JupyterLabRoot/Teradata/Resultsets/2022.07.04_11.38.24.031_UTC\",\"historyID\":881,\"chunkID\":\"00001\",\"sessionid\":\"\",\"portnum\":\"\",\"dockermode\":\"docker\",\"totalRowCount\":6,\"chunkCount\":0,\"rowLimit\":0,\"columnMetadata\":[{\"columnName\":\"column1\",\"columnTypeName\":\"VARCHAR\",\"length\":256,\"scale\":256},{\"columnNumber\":1,\"columnName\":\"column2\",\"columnTypeName\":\"VARCHAR\",\"length\":256,\"scale\":256},{\"columnNumber\":2,\"columnName\":\"Chisq\",\"columnTypeName\":\"FLOAT\"},{\"columnNumber\":3,\"columnName\":\"DF\",\"columnTypeName\":\"BIGINT\"},{\"columnNumber\":4,\"columnName\":\"Z\",\"columnTypeName\":\"FLOAT\"},{\"columnNumber\":5,\"columnName\":\"CramersV\",\"columnTypeName\":\"FLOAT\"},{\"columnNumber\":6,\"columnName\":\"PhiCoeff\",\"columnTypeName\":\"FLOAT\"},{\"columnNumber\":7,\"columnName\":\"LlhChiSq\",\"columnTypeName\":\"FLOAT\"},{\"columnNumber\":8,\"columnName\":\"ContAdjChiSq\",\"columnTypeName\":\"FLOAT\"},{\"columnNumber\":9,\"columnName\":\"ContinCoeff\",\"columnTypeName\":\"FLOAT\"},{\"columnNumber\":10,\"columnName\":\"ChiPValue\",\"columnTypeName\":\"FLOAT\"},{\"columnNumber\":11,\"columnName\":\"ChiPText\",\"columnTypeName\":\"VARCHAR\",\"length\":7,\"scale\":7},{\"columnNumber\":12,\"columnName\":\"ChiCallP_5E-2\",\"columnTypeName\":\"VARCHAR\",\"length\":1,\"scale\":1}]}"
     },
     "output_type": "execute_result"
    }
   ],
   "source": [
    "SELECT * FROM ${QLID}._val_chisquare_out ORDER BY 1;"
   ]
  },
  {
   "cell_type": "markdown",
   "metadata": {},
   "source": [
    "3.  Median Test with groupby column years_with_bank, thresholdprobability set to 0.01 and results returned in a result set.  "
   ]
  },
  {
   "cell_type": "code",
   "execution_count": 40,
   "metadata": {},
   "outputs": [
    {
     "data": {
      "text/plain": [
       "Success: 0 rows affected"
      ]
     },
     "execution_count": 40,
     "metadata": {
      "application/vnd.teradata.resultset": ""
     },
     "output_type": "execute_result"
    },
    {
     "ename": "WARNING",
     "evalue": "[Teradata Database] [Warning 3212] The stored procedure returned one or more result sets.",
     "output_type": "error",
     "traceback": [
      "[Teradata Database] [Warning 3212] The stored procedure returned one or more result sets."
     ]
    },
    {
     "data": {
      "application/vnd.teradata.resultset": "\"years_with_bank\",\"ChiSq\",\"DF\",\"MedianPValue\",\"MedianPText\",\"MedianCallP_1E-2\"\n\"11\",\"0.12788512300707422\",\"3\",\"0.25\",\">0.25\",\"a\"\n\"13\",\"2.8559997422237497\",\"3\",\"0.25\",\">0.25\",\"a\"\n\"12\",\"9.167059563099166\",\"3\",\"0.027956035435991015\",\"\",\"a\"\n\"4\",\"77.54838819017066\",\"3\",\"0.0001\",\"<0.0001\",\"p\"\n\"0\",\"16.604904354904356\",\"3\",\"0.0008843323011702343\",\"\",\"p\"\n\"14\",\"2.233403110047847\",\"3\",\"0.25\",\">0.25\",\"a\"\n\"6\",\"67.65712906289531\",\"3\",\"0.0001\",\"<0.0001\",\"p\"\n\"10\",\"20.81869569607782\",\"3\",\"0.00013383716364114627\",\"\",\"p\"\n\"2\",\"111.94131226907886\",\"3\",\"0.0001\",\"<0.0001\",\"p\"\n\"3\",\"100.0969510011295\",\"3\",\"0.0001\",\"<0.0001\",\"p\"\n\"8\",\"64.78631020023145\",\"3\",\"0.0001\",\"<0.0001\",\"p\"\n\"7\",\"74.72117984547474\",\"3\",\"0.0001\",\"<0.0001\",\"p\"\n\"9\",\"23.73665898145068\",\"3\",\"0.0001\",\"<0.0001\",\"p\"\n\"5\",\"98.98244733043795\",\"3\",\"0.0001\",\"<0.0001\",\"p\"\n\"1\",\"54.205555555555556\",\"3\",\"0.0001\",\"<0.0001\",\"p\"",
      "text/html": [
       "<div class = \"td-resultset-table-div\" style = \"max-height: 100%; overflow-y: auto\">\n",
       "      <table class=\"tdhistory379750\"><style>\n",
       "      table.tdhistory379750 { display: block !important; min-height: 399px !important; overflow: auto !important; height: 399px !important; width: 100% !important; border: 1px solid rgb(207, 207, 207) !important; border-collapse: collapse !important; ; color: var(--jp-ui-font-color1) !important; }\n",
       "      th.tdhistory379750 { border: 1px solid rgb(198,198,198) !important; border-collapse: collapse !important; ; padding: 2px 5px !important; ; font-size: 13px !important; ; text-align: center !important; white-space: normal !important; color: var(--jp-ui-font-color1) !important; }\n",
       "      th.tdhistory379750:last-child { text-align: left !important; }\n",
       "      tbody.tdhistory379750 tr:nth-child(even) { background: rgba(243, 243, 243, 0.75) !important; }\n",
       "      tbody.tdhistory379750 tr:nth-child(odd) { background: var(--jp-ui-inverse-font-color1) !important; }\n",
       "      td.tdhistory379750 { border: 1px solid rgb(207, 207, 207) !important; border-collapse: collapse !important; ; padding: 2px 5px !important; ; font-size: 13px !important; ; text-align: left !important;          white-space: nowrap !important; overflow:hidden !important; text-overflow:ellipsis !important;; }\n",
       "    </style><thead><tr style= \"background: rgba(243, 243, 243, 0.75)\"><th class=\"tdhistory379750\"></th><th class=\"tdhistory379750\">years_with_bank</th><th class=\"tdhistory379750\">ChiSq</th><th class=\"tdhistory379750\">DF</th><th class=\"tdhistory379750\">MedianPValue</th><th class=\"tdhistory379750\">MedianPText</th><th class=\"tdhistory379750\">MedianCallP_1E-2</th></tr></thead><tbody class=\"tdhistory379750 resultset-body\"><tr><th class=\"tdhistory379750\" style= \"background: rgba(243, 243, 243, 0.75)\">1</th><td class=\"tdhistory379750\">11</td><td class=\"tdhistory379750\">0.12788512300707422</td><td class=\"tdhistory379750\">3</td><td class=\"tdhistory379750\">0.25</td><td class=\"tdhistory379750\">>0.25</td><td class=\"tdhistory379750\">a</td></tr><tr><th class=\"tdhistory379750\" style= \"background: rgba(243, 243, 243, 0.75)\">2</th><td class=\"tdhistory379750\">13</td><td class=\"tdhistory379750\">2.8559997422237497</td><td class=\"tdhistory379750\">3</td><td class=\"tdhistory379750\">0.25</td><td class=\"tdhistory379750\">>0.25</td><td class=\"tdhistory379750\">a</td></tr><tr><th class=\"tdhistory379750\" style= \"background: rgba(243, 243, 243, 0.75)\">3</th><td class=\"tdhistory379750\">12</td><td class=\"tdhistory379750\">9.167059563099166</td><td class=\"tdhistory379750\">3</td><td class=\"tdhistory379750\">0.027956035435991015</td><td class=\"tdhistory379750\"></td><td class=\"tdhistory379750\">a</td></tr><tr><th class=\"tdhistory379750\" style= \"background: rgba(243, 243, 243, 0.75)\">4</th><td class=\"tdhistory379750\">4</td><td class=\"tdhistory379750\">77.54838819017066</td><td class=\"tdhistory379750\">3</td><td class=\"tdhistory379750\">0.0001</td><td class=\"tdhistory379750\"><0.0001</td><td class=\"tdhistory379750\">p</td></tr><tr><th class=\"tdhistory379750\" style= \"background: rgba(243, 243, 243, 0.75)\">5</th><td class=\"tdhistory379750\">0</td><td class=\"tdhistory379750\">16.604904354904356</td><td class=\"tdhistory379750\">3</td><td class=\"tdhistory379750\">0.0008843323011702343</td><td class=\"tdhistory379750\"></td><td class=\"tdhistory379750\">p</td></tr><tr><th class=\"tdhistory379750\" style= \"background: rgba(243, 243, 243, 0.75)\">6</th><td class=\"tdhistory379750\">14</td><td class=\"tdhistory379750\">2.233403110047847</td><td class=\"tdhistory379750\">3</td><td class=\"tdhistory379750\">0.25</td><td class=\"tdhistory379750\">>0.25</td><td class=\"tdhistory379750\">a</td></tr><tr><th class=\"tdhistory379750\" style= \"background: rgba(243, 243, 243, 0.75)\">7</th><td class=\"tdhistory379750\">6</td><td class=\"tdhistory379750\">67.65712906289531</td><td class=\"tdhistory379750\">3</td><td class=\"tdhistory379750\">0.0001</td><td class=\"tdhistory379750\"><0.0001</td><td class=\"tdhistory379750\">p</td></tr><tr><th class=\"tdhistory379750\" style= \"background: rgba(243, 243, 243, 0.75)\">8</th><td class=\"tdhistory379750\">10</td><td class=\"tdhistory379750\">20.81869569607782</td><td class=\"tdhistory379750\">3</td><td class=\"tdhistory379750\">0.00013383716364114627</td><td class=\"tdhistory379750\"></td><td class=\"tdhistory379750\">p</td></tr><tr><th class=\"tdhistory379750\" style= \"background: rgba(243, 243, 243, 0.75)\">9</th><td class=\"tdhistory379750\">2</td><td class=\"tdhistory379750\">111.94131226907886</td><td class=\"tdhistory379750\">3</td><td class=\"tdhistory379750\">0.0001</td><td class=\"tdhistory379750\"><0.0001</td><td class=\"tdhistory379750\">p</td></tr><tr><th class=\"tdhistory379750\" style= \"background: rgba(243, 243, 243, 0.75)\">10</th><td class=\"tdhistory379750\">3</td><td class=\"tdhistory379750\">100.0969510011295</td><td class=\"tdhistory379750\">3</td><td class=\"tdhistory379750\">0.0001</td><td class=\"tdhistory379750\"><0.0001</td><td class=\"tdhistory379750\">p</td></tr><tr><th class=\"tdhistory379750\" style= \"background: rgba(243, 243, 243, 0.75)\">11</th><td class=\"tdhistory379750\">8</td><td class=\"tdhistory379750\">64.78631020023145</td><td class=\"tdhistory379750\">3</td><td class=\"tdhistory379750\">0.0001</td><td class=\"tdhistory379750\"><0.0001</td><td class=\"tdhistory379750\">p</td></tr><tr><th class=\"tdhistory379750\" style= \"background: rgba(243, 243, 243, 0.75)\">12</th><td class=\"tdhistory379750\">7</td><td class=\"tdhistory379750\">74.72117984547474</td><td class=\"tdhistory379750\">3</td><td class=\"tdhistory379750\">0.0001</td><td class=\"tdhistory379750\"><0.0001</td><td class=\"tdhistory379750\">p</td></tr><tr><th class=\"tdhistory379750\" style= \"background: rgba(243, 243, 243, 0.75)\">13</th><td class=\"tdhistory379750\">9</td><td class=\"tdhistory379750\">23.73665898145068</td><td class=\"tdhistory379750\">3</td><td class=\"tdhistory379750\">0.0001</td><td class=\"tdhistory379750\"><0.0001</td><td class=\"tdhistory379750\">p</td></tr><tr><th class=\"tdhistory379750\" style= \"background: rgba(243, 243, 243, 0.75)\">14</th><td class=\"tdhistory379750\">5</td><td class=\"tdhistory379750\">98.98244733043795</td><td class=\"tdhistory379750\">3</td><td class=\"tdhistory379750\">0.0001</td><td class=\"tdhistory379750\"><0.0001</td><td class=\"tdhistory379750\">p</td></tr><tr><th class=\"tdhistory379750\" style= \"background: rgba(243, 243, 243, 0.75)\">15</th><td class=\"tdhistory379750\">1</td><td class=\"tdhistory379750\">54.205555555555556</td><td class=\"tdhistory379750\">3</td><td class=\"tdhistory379750\">0.0001</td><td class=\"tdhistory379750\"><0.0001</td><td class=\"tdhistory379750\">p</td></tr></tbody></table></div>"
      ]
     },
     "execution_count": 40,
     "metadata": {
      "application/vnd.teradata.resultset": "{\"resultSetID\":\"/home/jovyan/JupyterLabRoot/Teradata/Resultsets/2022.07.04_11.38.27.931_UTC\",\"historyID\":882,\"chunkID\":\"00001\",\"sessionid\":\"\",\"portnum\":\"\",\"dockermode\":\"docker\",\"totalRowCount\":15,\"chunkCount\":0,\"rowLimit\":0,\"columnMetadata\":[{\"columnName\":\"years_with_bank\",\"columnTypeName\":\"INTEGER\"},{\"columnNumber\":1,\"columnName\":\"ChiSq\",\"columnTypeName\":\"FLOAT\"},{\"columnNumber\":2,\"columnName\":\"DF\",\"columnTypeName\":\"BIGINT\"},{\"columnNumber\":3,\"columnName\":\"MedianPValue\",\"columnTypeName\":\"FLOAT\"},{\"columnNumber\":4,\"columnName\":\"MedianPText\",\"columnTypeName\":\"VARCHAR\",\"length\":7,\"scale\":7},{\"columnNumber\":5,\"columnName\":\"MedianCallP_1E-2\",\"columnTypeName\":\"VARCHAR\",\"length\":1,\"scale\":1}]}"
     },
     "output_type": "execute_result"
    }
   ],
   "source": [
    "call ${VALDB}.td_analyze('chisquaretest', \n",
    "                         'statsdatabase=${VALDB};\n",
    "                          teststyle=median;\n",
    "                          database=${XSPDB};\n",
    "                          tablename=Customer;\n",
    "                          columnofinterest=income;\n",
    "                          columns=marital_status;\n",
    "                          groupby=years_with_bank;\n",
    "                          thresholdprobability=0.01;');"
   ]
  },
  {
   "cell_type": "markdown",
   "metadata": {},
   "source": [
    "---"
   ]
  },
  {
   "cell_type": "markdown",
   "metadata": {},
   "source": [
    "Since we are in a beta phase, the following command can be used to determine the specific release you are running:"
   ]
  },
  {
   "cell_type": "code",
   "execution_count": 41,
   "metadata": {},
   "outputs": [
    {
     "data": {
      "text/plain": [
       "Success: 0 rows affected"
      ]
     },
     "execution_count": 41,
     "metadata": {
      "application/vnd.teradata.resultset": ""
     },
     "output_type": "execute_result"
    },
    {
     "ename": "WARNING",
     "evalue": "[Teradata Database] [Warning 3212] The stored procedure returned one or more result sets.",
     "output_type": "error",
     "traceback": [
      "[Teradata Database] [Warning 3212] The stored procedure returned one or more result sets."
     ]
    },
    {
     "data": {
      "application/vnd.teradata.resultset": "\"version\"\n\"VAL In-DB 2.1.0.0\"",
      "text/html": [
       "<div class = \"td-resultset-table-div\" style = \"max-height: 100%; overflow-y: auto\">\n",
       "      <table class=\"tdhistory557650\"><style>\n",
       "      table.tdhistory557650 { display: block !important; min-height: 105px !important; overflow: auto !important; height: 105px !important; width: 100% !important; border: 1px solid rgb(207, 207, 207) !important; border-collapse: collapse !important; ; color: var(--jp-ui-font-color1) !important; }\n",
       "      th.tdhistory557650 { border: 1px solid rgb(198,198,198) !important; border-collapse: collapse !important; ; padding: 2px 5px !important; ; font-size: 13px !important; ; text-align: center !important; white-space: normal !important; color: var(--jp-ui-font-color1) !important; }\n",
       "      th.tdhistory557650:last-child { text-align: left !important; }\n",
       "      tbody.tdhistory557650 tr:nth-child(even) { background: rgba(243, 243, 243, 0.75) !important; }\n",
       "      tbody.tdhistory557650 tr:nth-child(odd) { background: var(--jp-ui-inverse-font-color1) !important; }\n",
       "      td.tdhistory557650 { border: 1px solid rgb(207, 207, 207) !important; border-collapse: collapse !important; ; padding: 2px 5px !important; ; font-size: 13px !important; ; text-align: left !important;          white-space: nowrap !important; overflow:hidden !important; text-overflow:ellipsis !important;; }\n",
       "    </style><thead><tr style= \"background: rgba(243, 243, 243, 0.75)\"><th class=\"tdhistory557650\"></th><th class=\"tdhistory557650\">version</th></tr></thead><tbody class=\"tdhistory557650 resultset-body\"><tr><th class=\"tdhistory557650\" style= \"background: rgba(243, 243, 243, 0.75)\">1</th><td class=\"tdhistory557650\">VAL In-DB 2.1.0.0</td></tr></tbody></table></div>"
      ]
     },
     "execution_count": 41,
     "metadata": {
      "application/vnd.teradata.resultset": "{\"resultSetID\":\"/home/jovyan/JupyterLabRoot/Teradata/Resultsets/2022.07.04_11.38.28.316_UTC\",\"historyID\":883,\"chunkID\":\"00001\",\"sessionid\":\"\",\"portnum\":\"\",\"dockermode\":\"docker\",\"totalRowCount\":1,\"chunkCount\":0,\"rowLimit\":0,\"columnMetadata\":[{\"columnName\":\"version\",\"columnTypeName\":\"VARCHAR\",\"length\":17,\"scale\":17}]}"
     },
     "output_type": "execute_result"
    }
   ],
   "source": [
    "call ${VALDB}.td_analyze('version','');"
   ]
  },
  {
   "cell_type": "code",
   "execution_count": 42,
   "metadata": {},
   "outputs": [
    {
     "data": {
      "text/plain": [
       "Success: 21 rows affected"
      ]
     },
     "execution_count": 42,
     "metadata": {
      "application/vnd.teradata.resultset": ""
     },
     "output_type": "execute_result"
    }
   ],
   "source": [
    "DROP TABLE \"${QLID}\".\"VAL_Friedman_Worktable\";"
   ]
  },
  {
   "cell_type": "code",
   "execution_count": 43,
   "metadata": {},
   "outputs": [
    {
     "data": {
      "text/plain": [
       "Success: 42 rows affected"
      ]
     },
     "execution_count": 43,
     "metadata": {
      "application/vnd.teradata.resultset": ""
     },
     "output_type": "execute_result"
    }
   ],
   "source": [
    "DROP TABLE \"${QLID}\".\"VAL_ADS\";"
   ]
  },
  {
   "cell_type": "markdown",
   "metadata": {},
   "source": [
    "<footer style=\"padding:10px;background:#f9f9f9;border-bottom:3px solid #394851\">©2022 Teradata. All Rights Reserved</footer>"
   ]
  }
 ],
 "metadata": {
  "kernelspec": {
   "display_name": "Teradata SQL",
   "language": "Teradata SQL",
   "name": "teradatasql"
  },
  "language_info": {
   "codemirror_mode": "Teradata SQL",
   "file_extension": ".tdrs",
   "mimetype": "application/vnd.teradata.resultset",
   "name": "Teradata SQL",
   "nbconvert_exporter": "",
   "pygments_lexer": "",
   "version": "16.20"
  }
 },
 "nbformat": 4,
 "nbformat_minor": 4
}
