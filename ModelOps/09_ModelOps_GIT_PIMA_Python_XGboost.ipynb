{
 "cells": [
  {
   "cell_type": "markdown",
   "id": "0ed076ee",
   "metadata": {},
   "source": [
    "<header style=\"padding:1px;background:#f9f9f9;border-top:3px solid #00b2b1\"><img id=\"Teradata-logo\" src=\"https://www.teradata.com/Teradata/Images/Rebrand/Teradata_logo-two_color.png\" alt=\"Teradata\" width=\"220\" align=\"right\" />\n",
    "\n",
    "<b style = 'font-size:28px;font-family:Arial;color:#E37C4D'>ModelOps demo - Python XGBoost using Git</b>\n",
    "</header>"
   ]
  },
  {
   "cell_type": "markdown",
   "id": "260bf2ce-6b27-468d-9200-1e928d8709c2",
   "metadata": {
    "tags": []
   },
   "source": [
    "![image](images/git_meth.png) "
   ]
  },
  {
   "cell_type": "markdown",
   "id": "1e628a88",
   "metadata": {},
   "source": [
    "## Introduction\n",
    "\n",
    "This notebook will cover the Operationalization of the PIMA diabetes use case with Python XGBoost model format. **XGBoost** is an optimized distributed gradient boosting library designed to be highly efficient, flexible and portable. It is one of the most used libraries by the community that solve many data science problems in a fast and accurate way.\n",
    "\n",
    "In this example, we will use the XGBoost algorithm to generate both **Python Joblib and PMML** model formats and operationalize them through ModelOps in the same Model Catalog than other trained models based on other libraries."
   ]
  },
  {
   "cell_type": "markdown",
   "id": "8eef0fb6",
   "metadata": {},
   "source": [
    "## Steps in this Notebook\n",
    "\n",
    "<li>1. Configure the Environment </li>\n",
    "    <li>2. Connect to Vantage</li>\n",
    "    <li>3. Define Training function </li>\n",
    "    <li>4. Define Evaluate function </li>\n",
    "    <li>5. Define Scoring function</li>\n",
    "    <li>6. Define Model Metadata</li>\n",
    "    <li>7. Commit and Push to Git to let ModelOps manage</li>\n",
    "    <li>8. ModelOps full lifecycle till deployment</li>\n",
    "    <li>9. ModelOps Monitoring</li>\n"
   ]
  },
  {
   "cell_type": "markdown",
   "id": "9555cdcf",
   "metadata": {},
   "source": [
    "## Step 1. Configure the Environment\n",
    "\n",
    "Here, we import the required libraries, set environment variables and environment paths (if required)."
   ]
  },
  {
   "cell_type": "markdown",
   "id": "31a9dba4",
   "metadata": {},
   "source": [
    "### 1.1 Libraries installation\n",
    "\n",
    "A restart of the Kernel is needed to confirm changes\n"
   ]
  },
  {
   "cell_type": "code",
   "execution_count": null,
   "id": "31866de8",
   "metadata": {},
   "outputs": [],
   "source": [
    "%pip install -q teradataml==17.20.0.3 aoa==7.0.1 pandas==1.1.5 xgboost==0.90 nyoka==4.3.0 scikit-learn==0.24.2 matplotlib==3.5.2"
   ]
  },
  {
   "cell_type": "markdown",
   "id": "fe998588",
   "metadata": {},
   "source": [
    "### 1.2 Libraries import"
   ]
  },
  {
   "cell_type": "code",
   "execution_count": null,
   "id": "c6fbde24",
   "metadata": {},
   "outputs": [],
   "source": [
    "from teradataml import (\n",
    "    create_context, \n",
    "    remove_context,\n",
    "    get_context,\n",
    "    get_connection,\n",
    "    DataFrame,\n",
    "    configure\n",
    ")\n",
    "import os\n",
    "import getpass\n",
    "import logging\n",
    "import sys\n"
   ]
  },
  {
   "cell_type": "markdown",
   "id": "a26190a0",
   "metadata": {},
   "source": [
    "## Step 2. Connect to Vantage"
   ]
  },
  {
   "cell_type": "markdown",
   "id": "d5c08d71-bfd8-49f2-8fc5-9a062d80c91d",
   "metadata": {},
   "source": [
    "<p style = 'font-size:16px;font-family:Arial'>You will be prompted to provide the password. Enter your password, press the Enter key, then use down arrow to go to next cell. Begin running steps with Shift + Enter keys.</p>"
   ]
  },
  {
   "cell_type": "code",
   "execution_count": null,
   "id": "702a57c1-6013-4f92-bbac-b4278f1fb86b",
   "metadata": {
    "tags": []
   },
   "outputs": [],
   "source": [
    "%run -i ../UseCases/startup.ipynb\n",
    "eng = create_context(host = 'host.docker.internal', username='demo_user', password = password)\n",
    "print(eng)\n",
    "eng.execute('''SET query_band='DEMO=09_ModelOps_GIT_PIMA_Python_XGboost.ipynb;' UPDATE FOR SESSION; ''')\n",
    "\n",
    "# configure byom/val installation\n",
    "configure.val_install_location = \"VAL\"\n",
    "configure.byom_install_location = \"MLDB\"\n",
    "\n",
    "# set the path to the local project repository for this model demo\n",
    "model_local_path = '~/modelops-demo-models/model_definitions/pima_python_xgboost'\n",
    "res = os.system(f'mkdir -p {model_local_path}/model_modules')"
   ]
  },
  {
   "cell_type": "markdown",
   "id": "614f11fd",
   "metadata": {},
   "source": [
    "## Step 3. Define Training Function\n",
    "\n",
    "The training function takes the following shape\n",
    "\n",
    "```python\n",
    "def train(context: ModelContext, **kwargs):\n",
    "    aoa_create_context()\n",
    "    \n",
    "    # your training code\n",
    "    \n",
    "    # save your model\n",
    "    joblib.dump(model, f\"{context.artifact_output_path}/model.joblib\")\n",
    "    \n",
    "    record_training_stats(...)\n",
    "```\n",
    "\n",
    "You can execute this from the CLI or directly within the notebook as shown."
   ]
  },
  {
   "cell_type": "code",
   "execution_count": null,
   "id": "5a7fb724",
   "metadata": {},
   "outputs": [],
   "source": [
    "%%writefile $model_local_path/model_modules/training.py\n",
    "from xgboost import XGBClassifier\n",
    "from sklearn.preprocessing import MinMaxScaler\n",
    "from sklearn.pipeline import Pipeline\n",
    "from nyoka import xgboost_to_pmml\n",
    "from teradataml import DataFrame\n",
    "from aoa import (\n",
    "    record_training_stats,\n",
    "    save_plot,\n",
    "    aoa_create_context,\n",
    "    ModelContext\n",
    ")\n",
    "\n",
    "import joblib\n",
    "\n",
    "\n",
    "def train(context: ModelContext, **kwargs):\n",
    "    aoa_create_context()\n",
    "\n",
    "    feature_names = context.dataset_info.feature_names\n",
    "    target_name = context.dataset_info.target_names[0]\n",
    "\n",
    "    # read training dataset from Teradata and convert to pandas\n",
    "    train_df = DataFrame.from_query(context.dataset_info.sql)\n",
    "    train_pdf = train_df.to_pandas(all_rows=True)\n",
    "\n",
    "    # split data into X and y\n",
    "    X_train = train_pdf[feature_names]\n",
    "    y_train = train_pdf[target_name]\n",
    "\n",
    "    print(\"Starting training...\")\n",
    "\n",
    "    # fit model to training data\n",
    "    model = Pipeline([('scaler', MinMaxScaler()),\n",
    "                      ('xgb', XGBClassifier(eta=context.hyperparams[\"eta\"],\n",
    "                                            max_depth=context.hyperparams[\"max_depth\"]))])\n",
    "\n",
    "    model.fit(X_train, y_train)\n",
    "\n",
    "    print(\"Finished training\")\n",
    "\n",
    "    # export model artefacts\n",
    "    joblib.dump(model, f\"{context.artifact_output_path}/model.joblib\")\n",
    "\n",
    "    # we can also save as pmml so it can be used for In-Vantage scoring etc.\n",
    "    xgboost_to_pmml(pipeline=model, col_names=feature_names, target_name=target_name,\n",
    "                    pmml_f_name=f\"{context.artifact_output_path}/model.pmml\")\n",
    "\n",
    "    print(\"Saved trained model\")\n",
    "\n",
    "    from xgboost import plot_importance\n",
    "    model[\"xgb\"].get_booster().feature_names = feature_names\n",
    "    plot_importance(model[\"xgb\"].get_booster(), max_num_features=10)\n",
    "    save_plot(\"feature_importance.png\", context=context)\n",
    "\n",
    "    feature_importance = model[\"xgb\"].get_booster().get_score(importance_type=\"weight\")\n",
    "\n",
    "    print(\"Recording training stats\")\n",
    "\n",
    "    record_training_stats(train_df,\n",
    "                          features=feature_names,\n",
    "                          targets=[target_name],\n",
    "                          categorical=[target_name],\n",
    "                          feature_importance=feature_importance,\n",
    "                          context=context)\n",
    "    \n",
    "    print(\"All done!\")"
   ]
  },
  {
   "cell_type": "code",
   "execution_count": null,
   "id": "0c437521",
   "metadata": {},
   "outputs": [],
   "source": [
    "# Define the ModelContext to test with. The ModelContext is created and managed automatically by ModelOps \n",
    "# when it executes your code via CLI / UI. However, for testing in the notebook, you can define as follows\n",
    "\n",
    "# define the training dataset \n",
    "sql = \"\"\"\n",
    "SELECT \n",
    "    F.*, D.hasdiabetes\n",
    "FROM PIMA_PATIENT_FEATURES F \n",
    "JOIN PIMA_PATIENT_DIAGNOSES D\n",
    "ON F.patientid = D.patientid\n",
    "    WHERE D.patientid MOD 5 <> 0\n",
    "\"\"\"\n",
    "\n",
    "feature_metadata =  {\n",
    "    \"database\": \"demo_user\",\n",
    "    \"table\": \"aoa_statistics_metadata\"\n",
    "}\n",
    "hyperparams = {\"max_depth\": 5, \"eta\": 0.2}\n",
    "\n",
    "entity_key = \"PatientId\"\n",
    "target_names = [\"HasDiabetes\"]\n",
    "feature_names = [\"NumTimesPrg\", \"PlGlcConc\", \"BloodP\", \"SkinThick\", \"TwoHourSerIns\", \"BMI\", \"DiPedFunc\", \"Age\"]\n",
    " \n",
    "from aoa import ModelContext, DatasetInfo\n",
    "\n",
    "dataset_info = DatasetInfo(sql=sql,\n",
    "                           entity_key=entity_key,\n",
    "                           feature_names=feature_names,\n",
    "                           target_names=target_names,\n",
    "                           feature_metadata=feature_metadata)\n",
    "\n",
    "ctx = ModelContext(hyperparams=hyperparams,\n",
    "                   dataset_info=dataset_info,\n",
    "                   artifact_output_path=\"./artifacts\",\n",
    "                   model_version=\"v1\",\n",
    "                   model_table=\"aoa_model_v1\")\n",
    "\n",
    "sys.path.append(os.path.expanduser(f\"{model_local_path}/model_modules\"))\n",
    "import training\n",
    "training.train(context=ctx)"
   ]
  },
  {
   "cell_type": "code",
   "execution_count": null,
   "id": "15cf5f8d",
   "metadata": {},
   "outputs": [],
   "source": [
    "# Check the generated files\n",
    "!ls -lh artifacts"
   ]
  },
  {
   "cell_type": "markdown",
   "id": "7f35e4a9",
   "metadata": {},
   "source": [
    "## Step 4. Define Evaluation Function\n",
    "\n",
    "The evaluation function takes the following shape\n",
    "\n",
    "```python\n",
    "def evaluate(context: ModelContext, **kwargs):\n",
    "    aoa_create_context()\n",
    "\n",
    "    # read your model\n",
    "    model = joblib.load(f\"{context.artifact_input_path}/model.joblib\")\n",
    "    \n",
    "    # your evaluation logic\n",
    "    \n",
    "    record_evaluation_stats(...)\n",
    "```\n",
    "\n",
    "You can execute this from the CLI or directly within the notebook as shown."
   ]
  },
  {
   "cell_type": "code",
   "execution_count": null,
   "id": "0d751b6b",
   "metadata": {},
   "outputs": [],
   "source": [
    "%%writefile $model_local_path/model_modules/evaluation.py\n",
    "from sklearn import metrics\n",
    "from teradataml import DataFrame, copy_to_sql\n",
    "from aoa import (\n",
    "    record_evaluation_stats,\n",
    "    save_plot,\n",
    "    aoa_create_context,\n",
    "    ModelContext\n",
    ")\n",
    "\n",
    "import joblib\n",
    "import json\n",
    "import numpy as np\n",
    "import pandas as pd\n",
    "\n",
    "\n",
    "def evaluate(context: ModelContext, **kwargs):\n",
    "\n",
    "    aoa_create_context()\n",
    "\n",
    "    model = joblib.load(f\"{context.artifact_input_path}/model.joblib\")\n",
    "\n",
    "    feature_names = context.dataset_info.feature_names\n",
    "    target_name = context.dataset_info.target_names[0]\n",
    "\n",
    "    test_df = DataFrame.from_query(context.dataset_info.sql)\n",
    "    test_pdf = test_df.to_pandas(all_rows=True)\n",
    "\n",
    "    X_test = test_pdf[feature_names]\n",
    "    y_test = test_pdf[target_name]\n",
    "\n",
    "    print(\"Scoring\")\n",
    "    y_pred = model.predict(X_test)\n",
    "\n",
    "    y_pred_tdf = pd.DataFrame(y_pred, columns=[target_name])\n",
    "    y_pred_tdf[\"PatientId\"] = test_pdf[\"PatientId\"].values\n",
    "\n",
    "    evaluation = {\n",
    "        'Accuracy': '{:.2f}'.format(metrics.accuracy_score(y_test, y_pred)),\n",
    "        'Recall': '{:.2f}'.format(metrics.recall_score(y_test, y_pred)),\n",
    "        'Precision': '{:.2f}'.format(metrics.precision_score(y_test, y_pred)),\n",
    "        'f1-score': '{:.2f}'.format(metrics.f1_score(y_test, y_pred))\n",
    "    }\n",
    "\n",
    "    with open(f\"{context.artifact_output_path}/metrics.json\", \"w+\") as f:\n",
    "        json.dump(evaluation, f)\n",
    "\n",
    "    metrics.plot_confusion_matrix(model, X_test, y_test)\n",
    "    save_plot('Confusion Matrix', context=context)\n",
    "\n",
    "    metrics.plot_roc_curve(model, X_test, y_test)\n",
    "    save_plot('ROC Curve', context=context)\n",
    "\n",
    "    from xgboost import plot_importance\n",
    "    model[\"xgb\"].get_booster().feature_names = feature_names\n",
    "    plot_importance(model[\"xgb\"].get_booster(), max_num_features=10)\n",
    "    save_plot(\"feature_importance.png\", context=context)\n",
    "\n",
    "    feature_importance = model[\"xgb\"].get_booster().get_score(importance_type=\"weight\")\n",
    "\n",
    "    predictions_table = \"predictions_tmp\"\n",
    "    copy_to_sql(df=y_pred_tdf, table_name=predictions_table, index=False, if_exists=\"replace\", temporary=True)\n",
    "\n",
    "    record_evaluation_stats(features_df=test_df,\n",
    "                            predicted_df=DataFrame.from_query(f\"SELECT * FROM {predictions_table}\"),\n",
    "                            feature_importance=feature_importance,\n",
    "                            context=context)\n",
    "\n",
    "    print(\"All done!\")"
   ]
  },
  {
   "cell_type": "code",
   "execution_count": null,
   "id": "12ba7a9a",
   "metadata": {},
   "outputs": [],
   "source": [
    "# Define the ModelContext to test with. The ModelContext is created and managed automatically by ModelOps \n",
    "# when it executes your code via CLI / UI. However, for testing in the notebook, you can define as follows\n",
    "\n",
    "# define the evaluation dataset \n",
    "sql = \"\"\"\n",
    "SELECT \n",
    "    F.*, D.hasdiabetes \n",
    "FROM PIMA_PATIENT_FEATURES F \n",
    "JOIN PIMA_PATIENT_DIAGNOSES D\n",
    "ON F.patientid = D.patientid\n",
    "    WHERE D.patientid MOD 5 = 0\n",
    "\"\"\"\n",
    "\n",
    "dataset_info = DatasetInfo(sql=sql,\n",
    "                           entity_key=entity_key,\n",
    "                           feature_names=feature_names,\n",
    "                           target_names=target_names,\n",
    "                           feature_metadata=feature_metadata)\n",
    "\n",
    "ctx = ModelContext(hyperparams=hyperparams,\n",
    "                   dataset_info=dataset_info,\n",
    "                   artifact_output_path=\"./artifacts\",\n",
    "                   artifact_input_path=\"./artifacts\",\n",
    "                   model_version=\"v1\",\n",
    "                   model_table=\"aoa_model_v1\")\n",
    "\n",
    "import evaluation\n",
    "evaluation.evaluate(context=ctx)\n",
    "\n",
    "# view evaluation results\n",
    "import json\n",
    "with open(f\"{ctx.artifact_output_path}/metrics.json\") as f:\n",
    "    print(json.load(f))"
   ]
  },
  {
   "cell_type": "code",
   "execution_count": null,
   "id": "9ce4ba2d",
   "metadata": {},
   "outputs": [],
   "source": [
    "# Check the generated files\n",
    "!ls -lh artifacts"
   ]
  },
  {
   "cell_type": "markdown",
   "id": "f6beeb59",
   "metadata": {},
   "source": [
    "## Step 5. Define Scoring Function\n",
    "\n",
    "The scoring function takes the following shape\n",
    "\n",
    "```python\n",
    "def score(context: ModelContext, **kwargs):\n",
    "    aoa_create_context()\n",
    "\n",
    "    # read your model\n",
    "    model = joblib.load(f\"{context.artifact_input_path}/model.joblib\")\n",
    "    \n",
    "    # your evaluation logic\n",
    "    \n",
    "    record_scoring_stats(...)\n",
    "```\n",
    "\n",
    "You can execute this from the CLI or directly within the notebook as shown."
   ]
  },
  {
   "cell_type": "code",
   "execution_count": null,
   "id": "cb4d4c1c",
   "metadata": {},
   "outputs": [],
   "source": [
    "%%writefile $model_local_path/model_modules/scoring.py\n",
    "from teradataml import copy_to_sql, DataFrame\n",
    "from aoa import (\n",
    "    record_scoring_stats,\n",
    "    aoa_create_context,\n",
    "    ModelContext\n",
    ")\n",
    "\n",
    "import joblib\n",
    "import pandas as pd\n",
    "\n",
    "\n",
    "def score(context: ModelContext, **kwargs):\n",
    "\n",
    "    aoa_create_context()\n",
    "\n",
    "    model = joblib.load(f\"{context.artifact_input_path}/model.joblib\")\n",
    "\n",
    "    feature_names = context.dataset_info.feature_names\n",
    "    target_name = context.dataset_info.target_names[0]\n",
    "    entity_key = context.dataset_info.entity_key\n",
    "\n",
    "    features_tdf = DataFrame.from_query(context.dataset_info.sql)\n",
    "    features_pdf = features_tdf.to_pandas(all_rows=True)\n",
    "\n",
    "    print(\"Scoring\")\n",
    "    predictions_pdf = model.predict(features_pdf[feature_names])\n",
    "\n",
    "    print(\"Finished Scoring\")\n",
    "\n",
    "    # store the predictions\n",
    "    predictions_pdf = pd.DataFrame(predictions_pdf, columns=[target_name])\n",
    "    predictions_pdf[entity_key] = features_pdf.index.values\n",
    "    # add job_id column so we know which execution this is from if appended to predictions table\n",
    "    predictions_pdf[\"job_id\"] = context.job_id\n",
    "\n",
    "    # teradataml doesn't match column names on append.. and so to match / use same table schema as for byom predict\n",
    "    # example (see README.md), we must add empty json_report column and change column order manually (v17.0.0.4)\n",
    "    # CREATE MULTISET TABLE pima_patient_predictions\n",
    "    # (\n",
    "    #     job_id VARCHAR(255), -- comes from airflow on job execution\n",
    "    #     PatientId BIGINT,    -- entity key as it is in the source data\n",
    "    #     HasDiabetes BIGINT,   -- if model automatically extracts target\n",
    "    #     json_report CLOB(1048544000) CHARACTER SET UNICODE  -- output of\n",
    "    # )\n",
    "    # PRIMARY INDEX ( job_id );\n",
    "    predictions_pdf[\"json_report\"] = \"\"\n",
    "    predictions_pdf = predictions_pdf[[\"job_id\", entity_key, target_name, \"json_report\"]]\n",
    "\n",
    "    copy_to_sql(df=predictions_pdf,\n",
    "                schema_name=context.dataset_info.predictions_database,\n",
    "                table_name=context.dataset_info.predictions_table,\n",
    "                index=False,\n",
    "                if_exists=\"append\")\n",
    "    \n",
    "    print(\"Saved predictions in Teradata\")\n",
    "\n",
    "    # calculate stats\n",
    "    predictions_df = DataFrame.from_query(f\"\"\"\n",
    "        SELECT \n",
    "            * \n",
    "        FROM {context.dataset_info.get_predictions_metadata_fqtn()} \n",
    "            WHERE job_id = '{context.job_id}'\n",
    "    \"\"\")\n",
    "\n",
    "    record_scoring_stats(features_df=features_tdf,\n",
    "                         predicted_df=predictions_df,\n",
    "                         context=context)\n",
    "\n",
    "    print(\"All done!\")"
   ]
  },
  {
   "cell_type": "code",
   "execution_count": null,
   "id": "0edf735d",
   "metadata": {},
   "outputs": [],
   "source": [
    "# Define the ModelContext to test with. The ModelContext is created and managed automatically by ModelOps \n",
    "# when it executes your code via CLI / UI. However, for testing in the notebook, you can define as follows\n",
    "\n",
    "# define the scoring dataset \n",
    "\n",
    "sql = \"\"\"\n",
    "SELECT \n",
    "    F.*\n",
    "FROM PIMA_PATIENT_FEATURES F \n",
    "    WHERE F.patientid MOD 5 = 0\n",
    "\"\"\"\n",
    "\n",
    "# where to store predictions\n",
    "predictions = {\n",
    "    \"database\": \"demo_user\",\n",
    "    \"table\": \"pima_patient_predictions_tmp\"\n",
    "}\n",
    "\n",
    "import uuid\n",
    "job_id=str(uuid.uuid4())\n",
    "\n",
    "dataset_info = DatasetInfo(sql=sql,\n",
    "                           entity_key=entity_key,\n",
    "                           feature_names=feature_names,\n",
    "                           target_names=target_names,\n",
    "                           feature_metadata=feature_metadata,\n",
    "                           predictions=predictions)\n",
    "\n",
    "ctx = ModelContext(hyperparams=hyperparams,\n",
    "                   dataset_info=dataset_info,\n",
    "                   artifact_output_path=\"./artifacts\",\n",
    "                   artifact_input_path=\"./artifacts\",\n",
    "                   model_version=\"v1\",\n",
    "                   model_table=\"aoa_model_v1\",\n",
    "                   job_id=job_id)\n",
    "\n",
    "import scoring\n",
    "scoring.score(context=ctx)"
   ]
  },
  {
   "cell_type": "code",
   "execution_count": null,
   "id": "e27b2370",
   "metadata": {},
   "outputs": [],
   "source": [
    "DataFrame.from_query(f\"SELECT * FROM pima_patient_predictions_tmp WHERE job_id='{job_id}'\")"
   ]
  },
  {
   "cell_type": "code",
   "execution_count": null,
   "id": "06db76e2",
   "metadata": {},
   "outputs": [],
   "source": [
    "# Clean up\n",
    "\n",
    "os.system('rm -f artifacts/*')\n",
    "\n",
    "try:\n",
    "    get_context().execute(f\"DROP TABLE aoa_model_v1\")\n",
    "except: \n",
    "    pass\n",
    "\n",
    "try:\n",
    "    get_context().execute(f\"DROP TABLE pima_patient_predictions_tmp\")\n",
    "except: \n",
    "    pass"
   ]
  },
  {
   "cell_type": "markdown",
   "id": "818ec1cf",
   "metadata": {},
   "source": [
    "## Step 6. Define Model Metadata\n",
    "\n",
    "Now let's create the configuration files.\n",
    "\n",
    "Requirements file with the dependencies and versions:"
   ]
  },
  {
   "cell_type": "code",
   "execution_count": null,
   "id": "11ee3f52",
   "metadata": {},
   "outputs": [],
   "source": [
    "%%writefile $model_local_path/model_modules/requirements.txt\n",
    "xgboost==0.90\n",
    "scikit-learn==0.24.2\n",
    "teradataml==17.20.0.3\n",
    "nyoka==4.3.0\n",
    "aoa==7.0.1\n",
    "matplotlib==3.5.2"
   ]
  },
  {
   "cell_type": "markdown",
   "id": "55f9f7d1",
   "metadata": {},
   "source": [
    "The hyper parameter configuration (default values):"
   ]
  },
  {
   "cell_type": "code",
   "execution_count": null,
   "id": "8711bb8e",
   "metadata": {},
   "outputs": [],
   "source": [
    "%%writefile $model_local_path/config.json\n",
    "{\n",
    "   \"hyperParameters\": {\n",
    "      \"eta\": 0.2,\n",
    "      \"max_depth\": 6\n",
    "   }\n",
    "}"
   ]
  },
  {
   "cell_type": "markdown",
   "id": "00ed3d03",
   "metadata": {},
   "source": [
    "The model configuration:"
   ]
  },
  {
   "cell_type": "code",
   "execution_count": null,
   "id": "224d5f9b",
   "metadata": {},
   "outputs": [],
   "source": [
    "%%writefile $model_local_path/model.json\n",
    "{\n",
    "    \"id\": \"5b41d4d4-7236-54ab-846a-01c3151e1fd9\",\n",
    "    \"name\": \"Python PIMA Quickstart\",\n",
    "    \"description\": \"Python PIMA Quickstart for Diabetes Prediction\",\n",
    "    \"language\": \"python\"\n",
    "}"
   ]
  },
  {
   "cell_type": "markdown",
   "id": "8cffb5da",
   "metadata": {},
   "source": [
    "## Step 7.Commit and push changes into GIT to manage from ModelOps\n",
    "\n",
    "Run the command below to commit and push changes to our forked repository, so ModelOps can fetch the changes to the model."
   ]
  },
  {
   "cell_type": "code",
   "execution_count": null,
   "id": "36decf79",
   "metadata": {},
   "outputs": [],
   "source": [
    "!cd $model_local_path/../.. && git add . && git commit -m \"Added PIMA Quickstart demo model ⚡\" && git push"
   ]
  },
  {
   "cell_type": "markdown",
   "id": "c6c7d023",
   "metadata": {},
   "source": [
    "Now that changes are pushed, you can make the lifecycle inside **ModelOps User Interface**, plan for new trainings, evaluations, scorings. Compare models and operationalize into Production with automated Monitoring and alerting capabilities."
   ]
  },
  {
   "cell_type": "markdown",
   "id": "8ea5da5e",
   "metadata": {},
   "source": [
    "## Step 8. ModelOps full lifecycle till deployment\n"
   ]
  },
  {
   "cell_type": "markdown",
   "id": "f4a34b63",
   "metadata": {},
   "source": [
    "Use or Create a Project with the git code repository with the model code, then you should see the model in the catalog already created\n",
    "\n",
    "<img src=\"images/08_01.png\" alt=\"Model Catalog with inDB\"/>\n",
    "\n",
    "Select the Model and then click Train a new Model. Use default hyper-parameters. This will launch the training job with the training script we generated and pushed to Git.\n",
    "\n",
    "<img src=\"images/08_02.png\" alt=\"Train\"/>\n",
    "\n",
    "<img src=\"images/08_03.png\" alt=\"Train job\" width=\"500\" height=\"500\"/>\n",
    "\n",
    "<img src=\"images/08_04.png\" alt=\"Train finished\" width=\"500\" height=\"500\"/>\n",
    "\n",
    "When Model is trained a new Model Id is created and you can get inside the Model Lifecycle screen to review artifacts and other details\n",
    "\n",
    "<img src=\"images/08_06.png\" alt=\"Model lifecycle\"/>\n",
    "\n",
    "Now, let's evaluate the Model, click the button and select the evaluation dataset. This will launch the evaluation job with the training script we generated and pushed to Git.\n",
    "\n",
    "<img src=\"images/08_07.png\" alt=\"Evaluation\" width=\"500\" height=\"500\"/> <img src=\"images/08_08.png\" alt=\"Evaluation job\" width=\"500\" height=\"500\"/>\n",
    "\n",
    "\n",
    "\n",
    "When evaluation job is finished a Model evaluation Report is generated with the metrics and charts that evaluation script generates\n",
    "\n",
    "<img src=\"images/08_26.png\" alt=\"Model Report\" />\n",
    "\n",
    "Now, let's approve the model and provide an approval description\n",
    "\n",
    "<img src=\"images/08_09.png\" alt=\"Approval\" />\n",
    "\n",
    "<img src=\"images/08_10.png\" alt=\"Approval description\" width=\"500\" height=\"500\"/>\n",
    "\n",
    "The model is ready to be deployed. Let's deploy using a Batch scheduling option - Run it manual\n",
    "\n",
    "<img src=\"images/08_11.png\" alt=\"Deployment Engine\" width=\"500\" height=\"500\"/>\n",
    "\n",
    "<img src=\"images/08_12.png\" alt=\"Deployment Publish\" width=\"500\" height=\"500\"/>\n",
    "\n",
    "<img src=\"images/08_13.png\" alt=\"Deployment Schedule\" width=\"500\" height=\"500\"/>\n"
   ]
  },
  {
   "cell_type": "markdown",
   "id": "46b8a71a-66ca-44d2-92b2-317241ed7e33",
   "metadata": {},
   "source": [
    "Go and try this Step by yourself. Launch ModelOps from this button below:"
   ]
  },
  {
   "cell_type": "markdown",
   "id": "e9e9f94d-7eb1-4bab-aefa-ac8532a73f9f",
   "metadata": {},
   "source": [
    "[![image](images/launchModelOps.png)](/modelops)"
   ]
  },
  {
   "cell_type": "markdown",
   "id": "429cab80",
   "metadata": {},
   "source": [
    "## Step 9. ModelOps Monitoring\n",
    "\n",
    "Now the model is deployed and a new Deployment appears in the deployment screen\n",
    "\n",
    "\n",
    "<img src=\"images/08_15.png\" alt=\"Deploymet\" />\n",
    "\n",
    "\n",
    "You can run jobs manually from here, review history of executions and view the predictions for a specific job\n",
    "\n",
    "<img src=\"images/08_16.png\" alt=\"Deployment Run\" width=\"500\" height=\"500\"/>\n",
    "\n",
    "<img src=\"images/08_17.png\" alt=\"Deployment Jobs\" />\n",
    "\n",
    "<img src=\"images/08_18.png\" alt=\"Deployment view\" width=\"500\" height=\"500\" />\n",
    "\n",
    "<img src=\"images/08_19.png\" alt=\"Deployment predictions\" width=\"500\" height=\"500\"/>\n",
    "\n",
    "<img src=\"images/08_20.png\" alt=\"Deployment\" width=\"500\" height=\"500\"/>\n",
    "\n",
    "\n",
    "From the Feature Drift and Prediction Drift tabs you can check on the monitoring of the data drift\n",
    "\n",
    "<img src=\"images/08_22.png\" alt=\"Feature Drift\" />\n",
    "\n",
    "<img src=\"images/08_21.png\" alt=\"Prediction Drift\" />\n",
    "\n",
    "<img src=\"images/08_23.png\" alt=\"Performance Monitoring\" />\n",
    "\n",
    "\n",
    "\n",
    "\n",
    "From the Performance Drift, you can review multiple evaluations, let's evaluate the model with a new dataset. We create a new evaluation dataset with this query:\n",
    "    \n",
    "    SELECT * FROM pima_patient_diagnoses F WHERE F.patientid MOD 8 <> 0\n",
    "    \n",
    "<img src=\"images/08_24.png\" alt=\"Evaluate\" width=\"500\" height=\"500\" />\n",
    "\n",
    "and now see the evolution of the metrics\n",
    "\n",
    "<img src=\"images/08_25.png\" alt=\"Metrics monitoring\" />\n",
    "\n",
    "\n",
    "With ModelOps you can close the cycle and review make decisions when you need to replace yor model in production, For example, You could get alerting from Data Drift of Performance Drift and you can create multiple versions and compare them, select a champion and deploy new versions that replace existing in Production."
   ]
  },
  {
   "cell_type": "markdown",
   "id": "ef309e5d-6598-403f-81f4-005f49e9d6ce",
   "metadata": {},
   "source": [
    "Go and try this Step by yourself. Launch ModelOps from this button below:"
   ]
  },
  {
   "cell_type": "markdown",
   "id": "11e064df-19ea-43b8-9a3a-01d3653bd067",
   "metadata": {},
   "source": [
    "[![image](images/launchModelOps.png)](/modelops)"
   ]
  },
  {
   "cell_type": "markdown",
   "id": "b0a1ad53",
   "metadata": {},
   "source": [
    "<footer style=\"padding:10px;background:#f9f9f9;border-bottom:3px solid #394851\">©2023 Teradata. All Rights Reserved</footer>"
   ]
  }
 ],
 "metadata": {
  "kernelspec": {
   "display_name": "Python 3 (ipykernel)",
   "language": "python",
   "name": "python3"
  },
  "language_info": {
   "codemirror_mode": {
    "name": "ipython",
    "version": 3
   },
   "file_extension": ".py",
   "mimetype": "text/x-python",
   "name": "python",
   "nbconvert_exporter": "python",
   "pygments_lexer": "ipython3",
   "version": "3.9.10"
  }
 },
 "nbformat": 4,
 "nbformat_minor": 5
}
