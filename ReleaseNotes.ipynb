{
 "cells": [
  {
   "cell_type": "markdown",
   "id": "374d0f52-c9e2-40f6-951e-f4087039575f",
   "metadata": {},
   "source": [
    "<b style = 'font-size:28px;font-family:Arial;color:#E37C4D'>ClearScape Analytics Experience</b><img id=Teradata-logo src=\"https://www.teradata.com/Teradata/Images/Rebrand/Teradata_logo-two_color.png\" alt=\"Teradata\" width=\"220\" align=\"right\" />\n",
    "<br><b style = 'font-size:18px;font-family:Arial;color:#E37C4D'>Phase 2.0 Release Notes</b>\n",
    " \n",
    "This \"phase 2.0\" edition of the ClearScape Analytics Experience is running on a VM in the Google Cloud Platform (GCP) with:\n",
    "* vCPUS: 2\n",
    "* Memory: 14 GB\n",
    "* Storage: 100 GB\n",
    "\n",
    "Even though it is running on GCP, data can be exchanged with all cloud platforms. We've provided demos in the catalog that integrate with data stored on AWS. This experience is focused on ClearScape Analytics and is agnostic to the surrounding cloud service.\n",
    "\n",
    "The standard \"Free\" usage is 40 hours over a 30 day period, based on 4 hours a day for half of the working days.  There is a Monitor application that will check your environment every 5 minutes and if there has been no usage for 2 hours, it will suspend your environment. You can return to the ClearScape Experience web console to resume your environment. That usually takes between 10 and 15 seconds. You can also suspend your environment manually from the  Console. \n",
    "\n",
    "Installed on your virtual environment is:\n",
    "* SLES 12 with Vantage 17.20.03.02 with 36.9 GB of total Perm space\n",
    "    * Nodes: 1\n",
    "    * Parsing Engines: 1\n",
    "    * AMPs: 4\n",
    "* Docker\n",
    "    * Jupyter\n",
    " \n",
    "The phase 2.0 release is <b>limited to usage by associates with a Teradata.Com email address.</b> This is a \"soft launch\" of the service to test usability and audit for security exposures. We hope to make this public during 2023 Q1.\n",
    "\n",
    "<p style = 'font-size:18px;font-family:Arial;color:#E37C4D'><b>Getting Updates to Notebooks:</b></p>\n",
    "The notebooks are stored in github. We are working to improve our portfolio of notebooks and we encourage you to\n",
    "\n",
    "[submit your notebooks for publication.](./GettingStarted/Videos/How_to_Share_Demos.ipynb) \n",
    "\n",
    "To check for the latest notebooks, run the following cell:"
   ]
  },
  {
   "cell_type": "code",
   "execution_count": null,
   "id": "df2cffea-3649-40ac-8f13-96131d2d04b3",
   "metadata": {},
   "outputs": [],
   "source": [
    "import os\n",
    "os.system('git pull')"
   ]
  },
  {
   "cell_type": "markdown",
   "id": "d42541b5-d036-4296-82b3-4caf89e49b5d",
   "metadata": {},
   "source": [
    "<b>IMPORTANT</b> - If there were updates pulled, close and re-open ReleaseNotes.ipynb. Also close or save any open notebooks that match the ones downloaded."
   ]
  },
  {
   "cell_type": "markdown",
   "id": "4ed58653-6989-4412-8a1a-88a19d4adfae",
   "metadata": {},
   "source": [
    "<hr>\n",
    "<b style = 'font-size:18px;font-family:Arial;color:#E37C4D'>Release Notes:</b>"
   ]
  },
  {
   "cell_type": "markdown",
   "id": "585af3db-4145-4981-985a-4c858a1d0a18",
   "metadata": {},
   "source": [
    "#### 2023-01-16\n",
    "- Initial release at Sales Kickoff in Vancouver"
   ]
  },
  {
   "cell_type": "code",
   "execution_count": null,
   "id": "8e61cb02-ebe5-461a-94c8-225955db1e5f",
   "metadata": {},
   "outputs": [],
   "source": []
  }
 ],
 "metadata": {
  "kernelspec": {
   "display_name": "Python 3 (ipykernel)",
   "language": "python",
   "name": "python3"
  },
  "language_info": {
   "codemirror_mode": {
    "name": "ipython",
    "version": 3
   },
   "file_extension": ".py",
   "mimetype": "text/x-python",
   "name": "python",
   "nbconvert_exporter": "python",
   "pygments_lexer": "ipython3",
   "version": "3.9.10"
  }
 },
 "nbformat": 4,
 "nbformat_minor": 5
}
