{
 "cells": [
  {
   "cell_type": "markdown",
   "id": "grand-petersburg",
   "metadata": {},
   "source": [
    "<b style = 'font-size:28px;font-family:Arial;color:#E37C4D'>Analytic Function Demonstrations</b>\n",
    " \n",
    "* [Basics of the Teradataml Python Package - Vantage LIVE Overview](../UseCases/Python_Teradataml_Basics.ipynb)\n",
    "<br>This reviews the basic capabilities of the teradataml package for Vantage: \n",
    "1. Connecting to Vantage \n",
    "2. Teratada DataFrames \n",
    "3. Aggregation, Transformations, and joins. \n",
    "4. Export to Pandas</br>\n",
    " \n",
    "* [VAL Descriptive Statistics and Transformation SQL functions - Vantage LIVE Overview](#) ... (coming soon)\n",
    "<br>Descriptive Statistics and Data Transformation Functions</br>\n",
    " \n",
    "\n",
    "Copyright © 2022 Teradata Corporation"
   ]
  },
  {
   "cell_type": "code",
   "execution_count": null,
   "id": "complete-conversion",
   "metadata": {},
   "outputs": [],
   "source": []
  }
 ],
 "metadata": {
  "kernelspec": {
   "display_name": "Python 3",
   "language": "python",
   "name": "python3"
  },
  "language_info": {
   "codemirror_mode": {
    "name": "ipython",
    "version": 3
   },
   "file_extension": ".py",
   "mimetype": "text/x-python",
   "name": "python",
   "nbconvert_exporter": "python",
   "pygments_lexer": "ipython3",
   "version": "3.8.8"
  }
 },
 "nbformat": 4,
 "nbformat_minor": 5
}
