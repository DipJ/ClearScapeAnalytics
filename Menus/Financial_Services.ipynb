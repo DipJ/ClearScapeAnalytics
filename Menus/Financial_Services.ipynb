{
 "cells": [
  {
   "cell_type": "markdown",
   "id": "concerned-accounting",
   "metadata": {},
   "source": [
    "<b style = 'font-size:28px;font-family:Arial;color:#E37C4D'>Financial Services Demonstrations</b>\n",
    " \n",
    "* [Money Mule Detection using ML Model Training with Python and Scoring\n",
    "in Vantage](../UseCases/GLM_Fraud_Detection_SQLE.ipynb)\n",
    "<br>Demo uses the Vantage GLM Predict function to score a Logistic Regression model that has\n",
    "been trained using an open-source python package “statsmodels”. Data for the demo is fake\n",
    "“money transfer” logs and is used to identify fraudulent transaction</br>\n",
    " \n",
    "* [Data Prep and Transformation at Scale with Python and Vantage - Vantage LIVE Overview](../UseCases/DataPrepAndDiscovery.ipynb)\n",
    "<br>Lengthy notebook that reviews data management, data discovery, and basic transformations as part of the analytics lifecycle, using teradataml and python pandas data.  Demo uses fake Financial Transaction and customer data.\n",
    "\n",
    "Use cases include: \n",
    "1. Create and Load Tables from source data sets. \n",
    "2. Basic Data Discovery. Metadata and feature analysis \n",
    "3. Working with Data - aggregations, joins, and basic transformations. \n",
    "4. Advanced Data Preparation - column assignments using complex functions. \n",
    "5. Visualizing results with Open-Source tools.</br>\n",
    " \n",
    "\n",
    "Copyright © 2022 Teradata Corporation"
   ]
  },
  {
   "cell_type": "code",
   "execution_count": null,
   "id": "everyday-trash",
   "metadata": {},
   "outputs": [],
   "source": []
  },
  {
   "cell_type": "markdown",
   "id": "ready-herald",
   "metadata": {},
   "source": []
  }
 ],
 "metadata": {
  "kernelspec": {
   "display_name": "Python 3",
   "language": "python",
   "name": "python3"
  },
  "language_info": {
   "codemirror_mode": {
    "name": "ipython",
    "version": 3
   },
   "file_extension": ".py",
   "mimetype": "text/x-python",
   "name": "python",
   "nbconvert_exporter": "python",
   "pygments_lexer": "ipython3",
   "version": "3.8.8"
  }
 },
 "nbformat": 4,
 "nbformat_minor": 5
}
