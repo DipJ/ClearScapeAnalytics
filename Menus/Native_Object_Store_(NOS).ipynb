{
 "cells": [
  {
   "cell_type": "markdown",
   "id": "medium-macro",
   "metadata": {},
   "source": [
    "<b style = 'font-size:28px;font-family:Arial;color:#E37C4D'>Native Object Store (NOS) Demonstrations</b>\n",
    " \n",
    "* [Introduction to NOS using SQL - Vantage LIVE Overview](#) ... (coming soon)\n",
    "<br>The following is a summary of how to access different formats of data stored in an external object store. You can copy and modify the example queries below to access your own datasets. For simplicity the included datasets are setup to not need credentials</br>\n",
    " \n",
    "* [End to End data pipelines using Python and NOS - Downloadable Demo Overview](#) ... (coming soon)<img src=\"../images/NOS_Icon.jpg\" style=\"float: right; margin-left: 10px; height: 50px; width: auto;\" />\n",
    "<br>Shows two demos - write NOS then read using open source tools.  Demo 2 - write using simulated machine sensor to object store, then read_nos</br>\n",
    " \n",
    "* [Accessing Deep History (Sales Data) using NOS and SQL - Vantage LIVE Overview](#) ... (coming soon)\n",
    "<br>Offloading cold historical data to an object store</br>\n",
    " \n",
    "* [Sensor Data Analytics from Object Storage with SQL - Vantage LIVE Overview](#) ... (coming soon)\n",
    "<br>In this demo, we will explore using Python to leverage 4D Analytics in Teradata Vantage using the teradataml package. We will use a combination of data that is stored in the Vantage SQL engine and data coming directly from a cloud object store. We will connect to Vantage and explore a sensor dataset provided by the Intel Berkeley Research Lab.</br>\n",
    " \n",
    "\n",
    "Copyright © 2022 Teradata Corporation\n"
   ]
  },
  {
   "cell_type": "code",
   "execution_count": null,
   "id": "closing-poster",
   "metadata": {},
   "outputs": [],
   "source": []
  }
 ],
 "metadata": {
  "kernelspec": {
   "display_name": "Python 3",
   "language": "python",
   "name": "python3"
  },
  "language_info": {
   "codemirror_mode": {
    "name": "ipython",
    "version": 3
   },
   "file_extension": ".py",
   "mimetype": "text/x-python",
   "name": "python",
   "nbconvert_exporter": "python",
   "pygments_lexer": "ipython3",
   "version": "3.8.8"
  }
 },
 "nbformat": 4,
 "nbformat_minor": 5
}
