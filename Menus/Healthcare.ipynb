{
 "cells": [
  {
   "cell_type": "markdown",
   "id": "casual-joyce",
   "metadata": {},
   "source": [
    "<b style = 'font-size:28px;font-family:Arial;color:#E37C4D'>Healthcare Demonstrations</b>\n",
    " \n",
    "* [COIVD Risk Modeling and Simulation with SQL and Python - Vantage LIVE Overview](#) ... (coming soon)\n",
    "<br>Simulation, What-if-Analysis, Risk Calculation using Social Network analysis</br>\n",
    " \n",
    "* [Path to Total Knee Replacement with Vantage Path - Vantage LIVE Overview](#) ... (coming soon)<img src=\"../UseCases/GLM_Fraud_Detection_SQLE/Knee_Replacement_Icon.jpg\" style=\"float: right; margin-left: 10px; height: 50px; width: auto;\" />\n",
    "<br>This workbook provides a base demo script for showcasing the capabilities of Vantage Path. The target audience is the Business Analyst persona. The demo script has been constructed such that the Exploring Path to Total Knee Replacement section can be used</br>\n",
    " \n",
    "\n",
    "Copyright © 2022 Teradata Corporation\n"
   ]
  },
  {
   "cell_type": "markdown",
   "id": "frequent-toddler",
   "metadata": {},
   "source": []
  }
 ],
 "metadata": {
  "kernelspec": {
   "display_name": "Python 3",
   "language": "python",
   "name": "python3"
  },
  "language_info": {
   "codemirror_mode": {
    "name": "ipython",
    "version": 3
   },
   "file_extension": ".py",
   "mimetype": "text/x-python",
   "name": "python",
   "nbconvert_exporter": "python",
   "pygments_lexer": "ipython3",
   "version": "3.8.8"
  }
 },
 "nbformat": 4,
 "nbformat_minor": 5
}
