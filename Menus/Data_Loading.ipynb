{
 "cells": [
  {
   "cell_type": "markdown",
   "id": "residential-therapist",
   "metadata": {},
   "source": [
    "<b style = 'font-size:28px;font-family:Arial;color:#E37C4D'>Data Loading Demonstrations</b>\n",
    " \n",
    "* [Data Prep and Transformation at Scale with Python and Vantage - Vantage LIVE Overview](../UseCases/DataPrepAndDiscovery/DataPrepAndDiscovery.ipynb)\n",
    "<br>Lengthy notebook that reviews data management, data discovery, and basic transformations as part of the analytics lifecycle, using teradataml and python pandas data.  Demo uses fake Financial Transaction and customer data.\n",
    "\n",
    "Use cases include: \n",
    "1. Create and Load Tables from source data sets. \n",
    "2. Basic Data Discovery. Metadata and feature analysis \n",
    "3. Working with Data - aggregations, joins, and basic transformations. \n",
    "4. Advanced Data Preparation - column assignments using complex functions. \n",
    "5. Visualizing results with Open-Source tools.</br>\n",
    " \n",
    "* [Python Parallel Processing for Data Movement and Model Training - Downloadable Demo Overview](#) ... (coming soon)\n",
    "<br>Uses various python techniques to introduce parallel and distributed processing concepts, including Teradata Fastload/fastexport.  Also shows an example of distribued processing for ml model training outside of Vantage</br>\n",
    " \n",
    "\n",
    "Copyright © 2022 Teradata Corporation\n",
    " "
   ]
  },
  {
   "cell_type": "code",
   "execution_count": null,
   "id": "authorized-breath",
   "metadata": {},
   "outputs": [],
   "source": []
  }
 ],
 "metadata": {
  "kernelspec": {
   "display_name": "Python 3",
   "language": "python",
   "name": "python3"
  },
  "language_info": {
   "codemirror_mode": {
    "name": "ipython",
    "version": 3
   },
   "file_extension": ".py",
   "mimetype": "text/x-python",
   "name": "python",
   "nbconvert_exporter": "python",
   "pygments_lexer": "ipython3",
   "version": "3.8.8"
  }
 },
 "nbformat": 4,
 "nbformat_minor": 5
}
