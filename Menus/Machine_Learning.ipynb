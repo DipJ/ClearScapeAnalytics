{
 "cells": [
  {
   "cell_type": "markdown",
   "id": "naked-hanging",
   "metadata": {},
   "source": [
    "<b style = 'font-size:28px;font-family:Arial;color:#E37C4D'>Machine Learning Demonstrations</b>\n",
    " \n",
    "* [Money Mule Detection using BYOM with Python and Scoring in Vantage](../UseCases/GLM_Fraud_Detection_BYOM.ipynb)\n",
    "<br>Demo uses the Vantage PMMLPredict function to score a Logistic Regression model that has been trained using an open-source python package “sklearn”.  Data for the demo is fake “money transfer” logs and is used to identify fraudulent transactions.</br>\n",
    " \n",
    "* [Python Parallel Processing for Data Movement and Model Training - Downloadable Demo Overview](#) ... (coming soon)\n",
    "<br>Uses various python techniques to introduce parallel and distributed processing concepts, including Teradata Fastload/fastexport.  Also shows an example of distribued processing for ml model training outside of Vantage</br>\n",
    " \n",
    "* [Money Mule Detection using ML Model Training with Python and Scoring\n",
    "in Vantage](../UseCases/GLM_Fraud_Detection_SQLE.ipynb)\n",
    "<br>Demo uses the Vantage GLM Predict function to score a Logistic Regression model that has\n",
    "been trained using an open-source python package “statsmodels”. Data for the demo is fake\n",
    "“money transfer” logs and is used to identify fraudulent transaction</br>\n",
    " \n",
    "\n",
    "Copyright © 2022 Teradata Corporation\n"
   ]
  },
  {
   "cell_type": "code",
   "execution_count": null,
   "id": "accompanied-reform",
   "metadata": {},
   "outputs": [],
   "source": []
  }
 ],
 "metadata": {
  "kernelspec": {
   "display_name": "Python 3",
   "language": "python",
   "name": "python3"
  },
  "language_info": {
   "codemirror_mode": {
    "name": "ipython",
    "version": 3
   },
   "file_extension": ".py",
   "mimetype": "text/x-python",
   "name": "python",
   "nbconvert_exporter": "python",
   "pygments_lexer": "ipython3",
   "version": "3.8.8"
  }
 },
 "nbformat": 4,
 "nbformat_minor": 5
}
