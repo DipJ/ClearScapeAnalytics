{
 "cells": [
  {
   "cell_type": "markdown",
   "id": "tough-trance",
   "metadata": {},
   "source": [
    "<b style = 'font-size:28px;font-family:Arial;color:#E37C4D'>Analytics Library Demonstrations</b>\n",
    " \n",
    "* [VAL Hypothesis Test SQL functions - Vantage LIVE Overview](#) ... (coming soon)\n",
    "<br>Statistical tests provide a means of testing whether the outcome of an experiment could have been accidental. Numerous tests are provided in-database, all of the hypothesis testing variety</br>\n",
    " \n",
    "* [Manufacturing Defect Analysis from Data Lake Object Storage with SQL - Vantage LIVE Overview](#) ... (coming soon)\n",
    "<br>You are an analyst at a major auto manufacturer. While running regular financial reports on Teradata Vantage we have discovered a serious business issue with increasing warranty repairs:</br>\n",
    " \n",
    "* [COIVD Risk Modeling and Simulation with SQL and Python - Vantage LIVE Overview](#) ... (coming soon)\n",
    "<br>Simulation, What-if-Analysis, Risk Calculation using Social Network analysis</br>\n",
    " \n",
    "* [Customer Behavior Analysis and Visualization with Python - Vantage LIVE Overview](#) ... (coming soon)\n",
    "<br>Uses SQLE functions to demonstrate how to analyze user behaviors over time.  Visualize the results using plotly for sankey charts</br>\n",
    " \n",
    "* [VAL Analytic Algorithms and Scoring - Vantage LIVE Overview](#) ... (coming soon)\n",
    "<br>Analytic Algorithms and Scoring</br>\n",
    " \n",
    "* [Overview of Vantage Analytic Library in Python - Vantage LIVE Overview](#) ... (coming soon)\n",
    "<br>This notebook shows the power of Vantage and the Analytic Library through a series of functions that use the Teradata SQLE to perform descriptive statistics, data engineering and transformation, model building, model evaluation and model scoring. All Anal</br>\n",
    " \n",
    "* [Data Science 101 with Python - Vantage LIVE Overview](#) ... (coming soon)\n",
    "<br>Simple examples of the data science process - business understanding, technical understanding, prep, modeling, evaluation</br>\n",
    " \n",
    "* [Text Preparation and Analysis with Vantage and Python - Vantage LIVE Overview](#) ... (coming soon)\n",
    "<br>Uses SQLE and demo \"product review\" data to shwo ngram splitter function, and uses SQL to create a tf-idf score for the terms, and visualizes them by importance</br>\n",
    " \n",
    "\n",
    "Copyright © 2022 Teradata Corporation"
   ]
  },
  {
   "cell_type": "code",
   "execution_count": null,
   "id": "solid-parks",
   "metadata": {},
   "outputs": [],
   "source": []
  }
 ],
 "metadata": {
  "kernelspec": {
   "display_name": "Python 3",
   "language": "python",
   "name": "python3"
  },
  "language_info": {
   "codemirror_mode": {
    "name": "ipython",
    "version": 3
   },
   "file_extension": ".py",
   "mimetype": "text/x-python",
   "name": "python",
   "nbconvert_exporter": "python",
   "pygments_lexer": "ipython3",
   "version": "3.8.8"
  }
 },
 "nbformat": 4,
 "nbformat_minor": 5
}
