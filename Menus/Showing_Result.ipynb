{
 "cells": [
  {
   "cell_type": "markdown",
   "id": "thousand-segment",
   "metadata": {},
   "source": [
    "<b style = 'font-size:28px;font-family:Arial;color:#E37C4D'>Showing Result Demonstrations</b>\n",
    " \n",
    "* [Data Visualization with the Vantage Modules for Jupyter - Vantage LIVE Overview](#) ... (coming soon)\n",
    "<br>This notebook demonstrates the ability to Visualize result sets and other data sets using the Teradata SQL Notebook %chart magic command.  The %chart magic supports the creation of simple Vega-Lite charts based on Vantage database query result sets rendering of more advanced Vega and Vega-Lite charts in a Teradata SQL Notebook.</br>\n",
    " \n",
    "\n",
    "Copyright © 2022 Teradata Corporation\n"
   ]
  },
  {
   "cell_type": "code",
   "execution_count": null,
   "id": "clean-resolution",
   "metadata": {},
   "outputs": [],
   "source": []
  }
 ],
 "metadata": {
  "kernelspec": {
   "display_name": "Python 3",
   "language": "python",
   "name": "python3"
  },
  "language_info": {
   "codemirror_mode": {
    "name": "ipython",
    "version": 3
   },
   "file_extension": ".py",
   "mimetype": "text/x-python",
   "name": "python",
   "nbconvert_exporter": "python",
   "pygments_lexer": "ipython3",
   "version": "3.8.8"
  }
 },
 "nbformat": 4,
 "nbformat_minor": 5
}
