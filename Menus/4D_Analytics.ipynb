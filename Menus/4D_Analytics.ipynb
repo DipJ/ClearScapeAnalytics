{
 "cells": [
  {
   "cell_type": "markdown",
   "id": "outdoor-receiver",
   "metadata": {},
   "source": [
    "<b style = 'font-size:28px;font-family:Arial;color:#E37C4D'>4D Analytics Demonstrations</b>\n",
    " \n",
    "* [Sensor Data Analytics from Object Storage with SQL - Vantage LIVE Overview](#) ... (coming soon)\n",
    "<br>In this demo, we will explore using Python to leverage 4D Analytics in Teradata Vantage using the teradataml package. We will use a combination of data that is stored in the Vantage SQL engine and data coming directly from a cloud object store. We will connect to Vantage and explore a sensor dataset provided by the Intel Berkeley Research Lab.</br>\n",
    " \n",
    "\n",
    "Copyright © 2022 Teradata Corporation\n",
    "\n"
   ]
  },
  {
   "cell_type": "code",
   "execution_count": null,
   "id": "skilled-survey",
   "metadata": {},
   "outputs": [],
   "source": []
  }
 ],
 "metadata": {
  "kernelspec": {
   "display_name": "Python 3",
   "language": "python",
   "name": "python3"
  },
  "language_info": {
   "codemirror_mode": {
    "name": "ipython",
    "version": 3
   },
   "file_extension": ".py",
   "mimetype": "text/x-python",
   "name": "python",
   "nbconvert_exporter": "python",
   "pygments_lexer": "ipython3",
   "version": "3.8.8"
  }
 },
 "nbformat": 4,
 "nbformat_minor": 5
}
