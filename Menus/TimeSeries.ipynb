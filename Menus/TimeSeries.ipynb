{
 "cells": [
  {
   "cell_type": "markdown",
   "id": "structural-massage",
   "metadata": {},
   "source": [
    "<b style = 'font-size:28px;font-family:Arial;color:#E37C4D'>TimeSeries Demonstrations</b>\n",
    " \n",
    "* [Time Series Analysis of Consumer Complaints Using SQL and visualization - Vantage LIVE Overview](../UseCases/TimeSeriesAnalysis.ipynb)\n",
    "<br>Time Series Analysis - Analyzing Consumer Complaints Over Time.  Statistical tests provide a means of testing whether the outcome of an experiment could have been accidental. Numerous tests are provided in-database, all of the hypothesis testing variety</br>\n",
    " \n",
    "\n",
    "Copyright © 2022 Teradata Corporation\n",
    "\n"
   ]
  },
  {
   "cell_type": "code",
   "execution_count": null,
   "id": "dense-bouquet",
   "metadata": {},
   "outputs": [],
   "source": []
  }
 ],
 "metadata": {
  "kernelspec": {
   "display_name": "Python 3",
   "language": "python",
   "name": "python3"
  },
  "language_info": {
   "codemirror_mode": {
    "name": "ipython",
    "version": 3
   },
   "file_extension": ".py",
   "mimetype": "text/x-python",
   "name": "python",
   "nbconvert_exporter": "python",
   "pygments_lexer": "ipython3",
   "version": "3.8.8"
  }
 },
 "nbformat": 4,
 "nbformat_minor": 5
}
