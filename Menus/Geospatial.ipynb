{
 "cells": [
  {
   "cell_type": "markdown",
   "id": "subjective-garlic",
   "metadata": {},
   "source": [
    "<b style = 'font-size:28px;font-family:Arial;color:#E37C4D'>Geospatial Demonstrations</b>\n",
    " \n",
    "* [Geospatial and Temporal Analysis of NYC Taxi Data - Vantage LIVE Overview](../UseCases/NYC-taxi-4d.ipynb)<img src=\"../images/NYCTaxi_Icon.jpg\" style=\"float: right; margin-left: 10px; height: 50px; width: auto;\" />\n",
    "<br>We will explore the New York Taxi demo dataset and get familiar with Vantage temporal and geospatial functions.</br>\n",
    " \n",
    "* [Austin Bike Share](../UseCases/AustinBikeShare.ipynb)<img src=\"../images/Austin_Bikeshare_Icon.jpg\" style=\"float: right; margin-left: 10px; height: 50px; width: auto;\" />\n",
    "<br>Using bike trip data between 2014 and 2017, this demonstrates Geospatial and timeseries.</br>\n",
    " \n",
    "\n",
    "Copyright © 2022 Teradata Corporation\n"
   ]
  },
  {
   "cell_type": "code",
   "execution_count": null,
   "id": "affecting-doctor",
   "metadata": {},
   "outputs": [],
   "source": []
  }
 ],
 "metadata": {
  "kernelspec": {
   "display_name": "Python 3",
   "language": "python",
   "name": "python3"
  },
  "language_info": {
   "codemirror_mode": {
    "name": "ipython",
    "version": 3
   },
   "file_extension": ".py",
   "mimetype": "text/x-python",
   "name": "python",
   "nbconvert_exporter": "python",
   "pygments_lexer": "ipython3",
   "version": "3.8.8"
  }
 },
 "nbformat": 4,
 "nbformat_minor": 5
}
