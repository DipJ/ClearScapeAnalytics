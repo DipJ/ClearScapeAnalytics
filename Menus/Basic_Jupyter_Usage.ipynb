{
 "cells": [
  {
   "cell_type": "markdown",
   "id": "generous-edwards",
   "metadata": {},
   "source": [
    "<b style = 'font-size:28px;font-family:Arial;color:#E37C4D'>Basic Jupyter Usage Demonstrations</b>\n",
    " \n",
    "* [Getting Started - Basic Jupyter Navigation](../UseCases/GettingStarted/GettingStarted.ipynb)<img src=\"../UseCases/GettingStarted/GettingStarted.jpg\" style=\"float: right; margin-left: 10px; height: 50px; width: auto;\" />\n",
    "<br>If you've never used Jupyter before, this provides basic navigation instructions for executing steps and knowing when a step is running or complete.</br>\n",
    " \n",
    "* [Getting Started with Jupyter Notebook and Python Pandas](../UseCases/GettingStarted_Jupyter_Pandas/GettingStarted_Jupyter_Pandas.ipynb)\n",
    "<br>Jupyter notebook is by far the most common modern user interface for analysts, data scientists, and developers.  Python Pandas is one of the most popular data management libraries in the open source ecosystem.  This notebook provides step-by-step instruction on the basics of Jupyter notebook and Python Pandas</br>\n",
    " \n",
    "* [Basics of the Teradataml Python Package - Vantage LIVE Overview](../UseCases/Python_Teradataml_Basics/Python_Teradataml_Basics.ipynb)\n",
    "<br>This reviews the basic capabilities of the teradataml package for Vantage: \n",
    "1. Connecting to Vantage \n",
    "2. Teratada DataFrames \n",
    "3. Aggregation, Transformations, and joins. \n",
    "4. Export to Pandas</br>\n",
    " \n",
    "* [Data Dictionary](../UseCases/Data_Dictionary/Data_Dictionary.ipynb)<img src=\"../UseCases/Data_Dictionary/Data_Dictionary.jpg\" style=\"float: right; margin-left: 10px; height: 50px; width: auto;\" />\n",
    "<br>This provides an index to all of the databases available on this machine.  For each database, it summarizes the number of tables, total size, and the largest 3 tables on each.</br>\n",
    " \n",
    "* [Sharing Your Demonstrations](../UseCases/Sharing_Demos/Sharing_Demos.ipynb)<img src=\"../UseCases/Sharing_Demos/Sharing_Demo.jpg\" style=\"float: right; margin-left: 10px; height: 50px; width: auto;\" />\n",
    "<br>You've just come up with a new and creative way to demonstrate the solution to a business problem with analytics.  Why not share your good work with others?  This provides instructions on structuring your demo so it will be easy to share with others. \n",
    "\n",
    "Thank-you for \"Paying it forward\"</br>\n",
    " \n",
    "\n",
    "Copyright © 2022 Teradata Corporation\n"
   ]
  },
  {
   "cell_type": "code",
   "execution_count": null,
   "id": "northern-embassy",
   "metadata": {},
   "outputs": [],
   "source": []
  }
 ],
 "metadata": {
  "kernelspec": {
   "display_name": "Python 3",
   "language": "python",
   "name": "python3"
  },
  "language_info": {
   "codemirror_mode": {
    "name": "ipython",
    "version": 3
   },
   "file_extension": ".py",
   "mimetype": "text/x-python",
   "name": "python",
   "nbconvert_exporter": "python",
   "pygments_lexer": "ipython3",
   "version": "3.8.8"
  }
 },
 "nbformat": 4,
 "nbformat_minor": 5
}
