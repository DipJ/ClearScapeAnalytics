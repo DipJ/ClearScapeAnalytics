{
 "cells": [
  {
   "cell_type": "markdown",
   "id": "exotic-finder",
   "metadata": {},
   "source": [
    "<b style = 'font-size:28px;font-family:Arial;color:#E37C4D'>Basic Jupyter Usage Demonstrations</b>\n",
    " \n",
    "* [Getting Started with Jupyter Notebook and Python Pandas](../UseCases/GettingStarted_Jupyter_Pandas.ipynb)\n",
    "<br>Jupyter notebook is by far the most common modern user interface for analysts, data scientists, and developers.  Python Pandas is one of the most popular data management libraries in the open source ecosystem.  This notebook provides step-by-step instruction on the basics of Jupyter notebook and Python Pandas</br>\n",
    " \n",
    "* [Basics of the Teradataml Python Package - Vantage LIVE Overview](../UseCases/Python_Teradataml_Basics.ipynb)\n",
    "<br>This reviews the basic capabilities of the teradataml package for Vantage: \n",
    "1. Connecting to Vantage \n",
    "2. Teratada DataFrames \n",
    "3. Aggregation, Transformations, and joins. \n",
    "4. Export to Pandas</br>\n",
    " \n",
    "\n",
    "Copyright © 2022 Teradata Corporation"
   ]
  },
  {
   "cell_type": "code",
   "execution_count": null,
   "id": "german-idaho",
   "metadata": {},
   "outputs": [],
   "source": []
  }
 ],
 "metadata": {
  "kernelspec": {
   "display_name": "Python 3",
   "language": "python",
   "name": "python3"
  },
  "language_info": {
   "codemirror_mode": {
    "name": "ipython",
    "version": 3
   },
   "file_extension": ".py",
   "mimetype": "text/x-python",
   "name": "python",
   "nbconvert_exporter": "python",
   "pygments_lexer": "ipython3",
   "version": "3.8.8"
  }
 },
 "nbformat": 4,
 "nbformat_minor": 5
}
