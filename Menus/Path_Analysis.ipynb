{
 "cells": [
  {
   "cell_type": "markdown",
   "id": "enabling-quarter",
   "metadata": {},
   "source": [
    "<b style = 'font-size:28px;font-family:Arial;color:#E37C4D'>Path Analysis Demonstrations</b>\n",
    " \n",
    "* [Path Analysis using Vantage Path - Vantage LIVE Overview](#) ... (coming soon)\n",
    "<br>Vantage Path - Using path analysis for behavior analysis with no coding.  Shows Analyst Path</br>\n",
    " \n",
    "* [Path Analysis using SQL nPath and Sessionize - Vantage LIVE Overview](#) ... (coming soon)\n",
    "<br>Path Analysis using nPath - Predict Behaviors Based on Patterns</br>\n",
    " \n",
    "* [Path to Total Knee Replacement with Vantage Path - Vantage LIVE Overview](#) ... (coming soon)<img src=\"../images/Knee_Replacement_Icon.jpg\" style=\"float: right; margin-left: 10px; height: 50px; width: auto;\" />\n",
    "<br>This workbook provides a base demo script for showcasing the capabilities of Vantage Path. The target audience is the Business Analyst persona. The demo script has been constructed such that the Exploring Path to Total Knee Replacement section can be used</br>\n",
    " \n",
    "\n",
    "Copyright © 2022 Teradata Corporation\n"
   ]
  },
  {
   "cell_type": "code",
   "execution_count": null,
   "id": "interim-volleyball",
   "metadata": {},
   "outputs": [],
   "source": []
  }
 ],
 "metadata": {
  "kernelspec": {
   "display_name": "Python 3",
   "language": "python",
   "name": "python3"
  },
  "language_info": {
   "codemirror_mode": {
    "name": "ipython",
    "version": 3
   },
   "file_extension": ".py",
   "mimetype": "text/x-python",
   "name": "python",
   "nbconvert_exporter": "python",
   "pygments_lexer": "ipython3",
   "version": "3.8.8"
  }
 },
 "nbformat": 4,
 "nbformat_minor": 5
}
